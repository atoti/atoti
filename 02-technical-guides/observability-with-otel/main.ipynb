{
 "cells": [
  {
   "cell_type": "code",
   "execution_count": 1,
   "id": "fdd68638-5290-4ce1-8622-11b80a83cfe5",
   "metadata": {},
   "outputs": [],
   "source": [
    "import atoti as tt"
   ]
  },
  {
   "cell_type": "code",
   "execution_count": 2,
   "id": "af47b24d-2e24-4125-a984-1154c923b027",
   "metadata": {},
   "outputs": [],
   "source": [
    "session = tt.Session.start(\n",
    "    tt.SessionConfig(\n",
    "        port=9090,\n",
    "        java_options=[\n",
    "            \"-Dspring.profiles.active=application-monitoring\",\n",
    "            \"-Djson.log.dir=logs\",\n",
    "            \"-Dotel.java.global-autoconfigure.enabled=true\",\n",
    "            \"-Dotel.traces.exporter=otlp\",\n",
    "            \"-Dotel.metrics.exporter=otlp\",\n",
    "            \"-Dotel.logs.exporter=otlp\",\n",
    "            \"-Dotel.exporter.otlp.endpoint=http://localhost:4318\",\n",
    "            \"-Dotel.traces.sampler=always_on\",\n",
    "            \"-Dotel.metric.export.interval=1000\",\n",
    "            \"-Dotel.resource.attributes=service.name=atoti-spring-boot,service.version=1.0\",\n",
    "        ]\n",
    "    )\n",
    ")"
   ]
  },
  {
   "cell_type": "code",
   "execution_count": 3,
   "id": "6cfebad3-94a8-4a1d-92c1-dc1c2d1d9364",
   "metadata": {},
   "outputs": [
    {
     "data": {
      "text/plain": [
       "PosixPath('/Users/aya/.atoti/1732124753_310868/logs/server.log')"
      ]
     },
     "execution_count": 3,
     "metadata": {},
     "output_type": "execute_result"
    }
   ],
   "source": [
    "session.logs_path"
   ]
  },
  {
   "cell_type": "code",
   "execution_count": 4,
   "id": "ebec1f03-8633-434b-bf4f-97a3698e3223",
   "metadata": {},
   "outputs": [
    {
     "data": {
      "text/html": [
       "<div>\n",
       "<style scoped>\n",
       "    .dataframe tbody tr th:only-of-type {\n",
       "        vertical-align: middle;\n",
       "    }\n",
       "\n",
       "    .dataframe tbody tr th {\n",
       "        vertical-align: top;\n",
       "    }\n",
       "\n",
       "    .dataframe thead th {\n",
       "        text-align: right;\n",
       "    }\n",
       "</style>\n",
       "<table border=\"1\" class=\"dataframe\">\n",
       "  <thead>\n",
       "    <tr style=\"text-align: right;\">\n",
       "      <th></th>\n",
       "      <th>OrderDate</th>\n",
       "      <th>QuantitySold</th>\n",
       "      <th>SellingPricePerUnit</th>\n",
       "      <th>ShipperName</th>\n",
       "      <th>ProductId</th>\n",
       "      <th>EmployeeId</th>\n",
       "      <th>CustomerId</th>\n",
       "    </tr>\n",
       "    <tr>\n",
       "      <th>OrderId</th>\n",
       "      <th></th>\n",
       "      <th></th>\n",
       "      <th></th>\n",
       "      <th></th>\n",
       "      <th></th>\n",
       "      <th></th>\n",
       "      <th></th>\n",
       "    </tr>\n",
       "  </thead>\n",
       "  <tbody>\n",
       "    <tr>\n",
       "      <th>13</th>\n",
       "      <td>18/2/2019</td>\n",
       "      <td>233</td>\n",
       "      <td>32.01</td>\n",
       "      <td>Federal Shipping</td>\n",
       "      <td>1358</td>\n",
       "      <td>18551</td>\n",
       "      <td>c4859</td>\n",
       "    </tr>\n",
       "    <tr>\n",
       "      <th>27</th>\n",
       "      <td>18/2/2019</td>\n",
       "      <td>749</td>\n",
       "      <td>21.96</td>\n",
       "      <td>Rapid Post</td>\n",
       "      <td>1514</td>\n",
       "      <td>26584</td>\n",
       "      <td>c4747</td>\n",
       "    </tr>\n",
       "    <tr>\n",
       "      <th>41</th>\n",
       "      <td>18/2/2019</td>\n",
       "      <td>454</td>\n",
       "      <td>11.73</td>\n",
       "      <td>Freight United</td>\n",
       "      <td>773</td>\n",
       "      <td>98635</td>\n",
       "      <td>c2675</td>\n",
       "    </tr>\n",
       "    <tr>\n",
       "      <th>55</th>\n",
       "      <td>18/2/2019</td>\n",
       "      <td>2</td>\n",
       "      <td>32.18</td>\n",
       "      <td>Speedy Express</td>\n",
       "      <td>1137</td>\n",
       "      <td>18336</td>\n",
       "      <td>c1275</td>\n",
       "    </tr>\n",
       "    <tr>\n",
       "      <th>69</th>\n",
       "      <td>18/2/2019</td>\n",
       "      <td>672</td>\n",
       "      <td>56.04</td>\n",
       "      <td>Speedy Express</td>\n",
       "      <td>591</td>\n",
       "      <td>26584</td>\n",
       "      <td>c3067</td>\n",
       "    </tr>\n",
       "  </tbody>\n",
       "</table>\n",
       "</div>"
      ],
      "text/plain": [
       "         OrderDate  QuantitySold  SellingPricePerUnit       ShipperName  \\\n",
       "OrderId                                                                   \n",
       "13       18/2/2019           233                32.01  Federal Shipping   \n",
       "27       18/2/2019           749                21.96        Rapid Post   \n",
       "41       18/2/2019           454                11.73    Freight United   \n",
       "55       18/2/2019             2                32.18    Speedy Express   \n",
       "69       18/2/2019           672                56.04    Speedy Express   \n",
       "\n",
       "        ProductId EmployeeId CustomerId  \n",
       "OrderId                                  \n",
       "13           1358      18551      c4859  \n",
       "27           1514      26584      c4747  \n",
       "41            773      98635      c2675  \n",
       "55           1137      18336      c1275  \n",
       "69            591      26584      c3067  "
      ]
     },
     "execution_count": 4,
     "metadata": {},
     "output_type": "execute_result"
    }
   ],
   "source": [
    "orders = session.read_csv(\n",
    "    \"s3://data.atoti.io/notebooks/table-creation-and-data-loads/data/Orders.csv\",\n",
    "    keys=[\"OrderId\"],\n",
    "    types={\n",
    "        \"OrderId\": tt.STRING,\n",
    "        \"ProductId\": tt.STRING,\n",
    "        \"EmployeeId\": tt.STRING,\n",
    "        \"CustomerId\": tt.STRING,\n",
    "    },\n",
    ")\n",
    "\n",
    "orders.head()"
   ]
  },
  {
   "cell_type": "code",
   "execution_count": 5,
   "id": "52f56a53-a719-4b96-8f9a-863c52bba101",
   "metadata": {},
   "outputs": [
    {
     "data": {
      "image/png": "[encoded data removed]",
      "text/plain": [
       "erDiagram\n",
       "  \"Orders\" {\n",
       "    _ String PK \"OrderId\"\n",
       "    _ String \"OrderDate\"\n",
       "    nullable int \"QuantitySold\"\n",
       "    nullable double \"SellingPricePerUnit\"\n",
       "    _ String \"ShipperName\"\n",
       "    _ String \"ProductId\"\n",
       "    _ String \"EmployeeId\"\n",
       "    _ String \"CustomerId\"\n",
       "  }"
      ]
     },
     "execution_count": 5,
     "metadata": {},
     "output_type": "execute_result"
    }
   ],
   "source": [
    "session.tables.schema"
   ]
  },
  {
   "cell_type": "code",
   "execution_count": 6,
   "id": "99831cd3-dc29-41d4-9ccf-4c2c761a8928",
   "metadata": {},
   "outputs": [],
   "source": [
    "cube = session.create_cube(orders)"
   ]
  }
 ],
 "metadata": {
  "kernelspec": {
   "display_name": "Python 3 (ipykernel)",
   "language": "python",
   "name": "python3"
  },
  "language_info": {
   "codemirror_mode": {
    "name": "ipython",
    "version": 3
   },
   "file_extension": ".py",
   "mimetype": "text/x-python",
   "name": "python",
   "nbconvert_exporter": "python",
   "pygments_lexer": "ipython3",
   "version": "3.11.10"
  },
  "widgets": {
   "application/vnd.jupyter.widget-state+json": {
    "state": {},
    "version_major": 2,
    "version_minor": 0
   }
  }
 },
 "nbformat": 4,
 "nbformat_minor": 5
}
