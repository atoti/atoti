{
 "cells": [
  {
   "cell_type": "markdown",
   "id": "794c1c41-e22f-4ec8-914b-95f609531b17",
   "metadata": {
    "editable": true,
    "slideshow": {
     "slide_type": ""
    },
    "tags": []
   },
   "source": [
    "<!-- <img src=\"https://data.atoti.io/notebooks/covid-analytics/img/banner.jpg\"> -->\n",
    "\n",
    "# Atoti Masterclass: Atoti and Excel  \n",
    "\n",
    "## Objective\n",
    "We will be exploring how to use **Atoti** via an exploration of [Budget and Expenses data](https://data.atoti.io/notebooks/excel-and-atoti/Monthly_Budget_template.xlsx).  Our main focus will be on translating the excel template in Atoti and how one can connect MS Excel to Atoti.  \n",
    "\n",
    "<img src=\"https://data.atoti.io/notebooks/excel-and-atoti/img/excel_to_atoti.png\" width=\"60%\"/>\n",
    "\n",
    "### This guide will cover the following:\n",
    "\n",
    "1. Translating an Excel Workbook in Atoti.\n",
    "2. Performing Scenario Simulations on budget reduction.\n",
    "3. Connecting Excel to the Atoti Cube.\n",
    "4. Updating a dashboard in Atoti in real-time, based on changes in underlying CSV file.\n",
    "\n",
    "### We will use this notebook in two ways: \n",
    "\n",
    "1. We combine tables from 3 of the pages in the template into the [budget.csv](https://data.atoti.io/notebooks/excel-and-atoti/budget.csv) to be loaded into Atoti.  \n",
    "2. We extended the data from config 1 to include a `date period` where we can have randomized budgets for multiple months and then.  "
   ]
  },
  {
   "cell_type": "markdown",
   "id": "76795736-4b6a-4770-881c-5d45b2f459e8",
   "metadata": {},
   "source": [
    "### What it won't cover:\n",
    "\n",
    "This notebook is created with an assumption that the user is familiar with the basics of Atoti.\n",
    "\n",
    "As a result, we will not cover the following:\n",
    "\n",
    "* [How to install Atoti](https://docs.atoti.io/latest/getting_started/installation.html)\n",
    "* [Creating and manipulating hierarchies and levels](https://docs.atoti.io/latest/api/atoti.Level.html#atoti.Level)\n",
    "* [Creating aggregations](https://docs.atoti.io/latest/api/atoti.agg.html)\n",
    "\n",
    "You can always checkout our previous [masterclasses](https://www.youtube.com/c/atoti/videos?view=2&live_view=503) for the above topics and much more!"
   ]
  },
  {
   "cell_type": "markdown",
   "id": "b5b599e6-f913-4bbb-b2a7-c70c71058c53",
   "metadata": {},
   "source": [
    "<div style=\"text-align: center;\" ><a href=\"https://www.atoti.io/?utm_source=gallery&utm_content=excel-and-atoti\" target=\"_blank\" rel=\"noopener noreferrer\"><img src=\"https://data.atoti.io/notebooks/banners/Discover-Atoti-now.png\" alt=\"Try Atoti\"></a></div>"
   ]
  },
  {
   "cell_type": "markdown",
   "id": "8974f5f7-1523-4f7e-8790-926f9db76511",
   "metadata": {},
   "source": [
    "## Getting Started"
   ]
  },
  {
   "cell_type": "code",
   "execution_count": 1,
   "id": "87a044a9-8b47-4aea-a66f-5291d64d81c3",
   "metadata": {},
   "outputs": [],
   "source": [
    "import atoti as tt"
   ]
  },
  {
   "cell_type": "markdown",
   "id": "ddfbef08-0ac9-423a-8a4a-ab6791d8098c",
   "metadata": {},
   "source": [
    "## Two ways to try out this notebook\n",
    "\n",
    "In this notebook, we will attempt two different configurations:  \n",
    "\n",
    "1. We combine tables from 3 of the pages in the template into the [budget.csv](https://data.atoti.io/notebooks/excel-and-atoti/budget.csv) to be loaded into Atoti.  \n",
    "2. We extended the data from config 1 to include a `date period` where we can have randomized budgets for multiple months.  \n",
    "\n",
    "These 'configurations' are a reflection of how Atoti can adapt to the changes in underlying data and hence updating the widgets and dashboard accordingly. \n",
    "\n",
    "\n",
    "In the default configuration where we will use config 1 above to create Atoti as close to the spreadsheet as possible, we set the variable `extended` to `False`. If you would like to try out configuration 2, where we can use the same dashboard to view the budget for different months, set the variable `extended` to `True`."
   ]
  },
  {
   "cell_type": "code",
   "execution_count": 2,
   "id": "b4686393-f2ca-43a1-af81-881f964b09b2",
   "metadata": {},
   "outputs": [],
   "source": [
    "extended = False"
   ]
  },
  {
   "cell_type": "markdown",
   "id": "63ec2851-1f2e-43bc-8765-413bddc75e55",
   "metadata": {},
   "source": [
    "Below are some of the variables that will change, according to the configurations chosen."
   ]
  },
  {
   "cell_type": "code",
   "execution_count": 3,
   "id": "b943f121-6ed1-479f-9fdc-c0d8c0a69a8f",
   "metadata": {},
   "outputs": [],
   "source": [
    "original_data = \"s3://data.atoti.io/notebooks/excel-and-atoti/budget.csv\"\n",
    "extended_date = \"s3://data.atoti.io/notebooks/excel-and-atoti/semi-annual-budget.csv\"\n",
    "\n",
    "content_server = \"./content\"\n",
    "extended_content = \"./content2\"\n",
    "\n",
    "tbl_keys = []\n",
    "extended_tbl_keys = [\"PERIOD\", \"BUDGET_TYPE\", \"BUDGET_SUBTYPE\", \"CATEGORY\"]"
   ]
  },
  {
   "cell_type": "code",
   "execution_count": 4,
   "id": "6faecb34-6e3e-49aa-a392-020c1fb3a360",
   "metadata": {},
   "outputs": [],
   "source": [
    "content_path = extended_content if extended else content_server\n",
    "data_path = extended_date if extended else original_data\n",
    "keys = extended_tbl_keys if extended else tbl_keys"
   ]
  },
  {
   "cell_type": "markdown",
   "id": "90aba5b0-7f39-43c2-8d89-00afb25ad6ba",
   "metadata": {},
   "source": [
    "## Create Atoti cube"
   ]
  },
  {
   "cell_type": "code",
   "execution_count": 5,
   "id": "566c1bde-be8d-4b14-9128-1e9d2f47dad2",
   "metadata": {},
   "outputs": [],
   "source": [
    "session = tt.Session(user_content_storage=content_path)"
   ]
  },
  {
   "cell_type": "markdown",
   "id": "8ff714f2-5ea9-463c-80d1-dcd1b120b997",
   "metadata": {},
   "source": [
    "Take note that in the default configuration, we do not set keys for the table. This means that we will not check for duplicates in the data. In the extended configuration, we will set keys for the table. This has the following advantages: \n",
    "\n",
    "- Prevents duplication on the key columns (the latest data will overwrite the existing record in the table)\n",
    "- Key columns will be dictionarized and queries will be more effective! Especially so if we set up [partitions](https://docs.atoti.io/latest/api/atoti.Session.create_table.html#atoti.Session.create_table)."
   ]
  },
  {
   "cell_type": "code",
   "execution_count": 6,
   "id": "d6147dbb-74cc-4fb0-a670-32864b1e794b",
   "metadata": {},
   "outputs": [
    {
     "data": {
      "text/html": [
       "<div>\n",
       "<style scoped>\n",
       "    .dataframe tbody tr th:only-of-type {\n",
       "        vertical-align: middle;\n",
       "    }\n",
       "\n",
       "    .dataframe tbody tr th {\n",
       "        vertical-align: top;\n",
       "    }\n",
       "\n",
       "    .dataframe thead th {\n",
       "        text-align: right;\n",
       "    }\n",
       "</style>\n",
       "<table border=\"1\" class=\"dataframe\">\n",
       "  <thead>\n",
       "    <tr style=\"text-align: right;\">\n",
       "      <th></th>\n",
       "      <th>BUDGET_TYPE</th>\n",
       "      <th>BUDGET_SUBTYPE</th>\n",
       "      <th>CATEGORY</th>\n",
       "      <th>ESTIMATED</th>\n",
       "      <th>ACTUAL</th>\n",
       "    </tr>\n",
       "  </thead>\n",
       "  <tbody>\n",
       "    <tr>\n",
       "      <th>0</th>\n",
       "      <td>Income</td>\n",
       "      <td>Income</td>\n",
       "      <td>Net sales</td>\n",
       "      <td>60000</td>\n",
       "      <td>54000</td>\n",
       "    </tr>\n",
       "    <tr>\n",
       "      <th>1</th>\n",
       "      <td>Income</td>\n",
       "      <td>Income</td>\n",
       "      <td>Asset sales (gain/loss)</td>\n",
       "      <td>300</td>\n",
       "      <td>450</td>\n",
       "    </tr>\n",
       "    <tr>\n",
       "      <th>2</th>\n",
       "      <td>Expenses</td>\n",
       "      <td>Operating</td>\n",
       "      <td>Interest</td>\n",
       "      <td>2000</td>\n",
       "      <td>2200</td>\n",
       "    </tr>\n",
       "    <tr>\n",
       "      <th>3</th>\n",
       "      <td>Expenses</td>\n",
       "      <td>Operating</td>\n",
       "      <td>Postage</td>\n",
       "      <td>400</td>\n",
       "      <td>350</td>\n",
       "    </tr>\n",
       "    <tr>\n",
       "      <th>4</th>\n",
       "      <td>Expenses</td>\n",
       "      <td>Operating</td>\n",
       "      <td>Telephone</td>\n",
       "      <td>250</td>\n",
       "      <td>280</td>\n",
       "    </tr>\n",
       "  </tbody>\n",
       "</table>\n",
       "</div>"
      ],
      "text/plain": [
       "  BUDGET_TYPE BUDGET_SUBTYPE                 CATEGORY  ESTIMATED  ACTUAL\n",
       "0      Income         Income                Net sales      60000   54000\n",
       "1      Income         Income  Asset sales (gain/loss)        300     450\n",
       "2    Expenses      Operating                 Interest       2000    2200\n",
       "3    Expenses      Operating                  Postage        400     350\n",
       "4    Expenses      Operating                Telephone        250     280"
      ]
     },
     "execution_count": 6,
     "metadata": {},
     "output_type": "execute_result"
    }
   ],
   "source": [
    "budget_tbl = session.read_csv(\n",
    "    data_path,\n",
    "    keys=keys,\n",
    "    table_name=\"Budget\",\n",
    ")\n",
    "budget_tbl.head()"
   ]
  },
  {
   "cell_type": "code",
   "execution_count": 7,
   "id": "0e1b81de-d43f-4bad-ae8a-4e022ccf81be",
   "metadata": {},
   "outputs": [
    {
     "data": {
      "text/plain": [
       "26"
      ]
     },
     "execution_count": 7,
     "metadata": {},
     "output_type": "execute_result"
    }
   ],
   "source": [
    "len(budget_tbl)"
   ]
  },
  {
   "cell_type": "code",
   "execution_count": 8,
   "id": "12d3d640-c8aa-4e6b-a3f4-c269a06de8de",
   "metadata": {},
   "outputs": [],
   "source": [
    "cube = session.create_cube(budget_tbl, \"budget\")"
   ]
  },
  {
   "cell_type": "code",
   "execution_count": 9,
   "id": "8769405a-dbe3-49f4-b8dc-fec4769bb395",
   "metadata": {},
   "outputs": [
    {
     "data": {
      "text/markdown": [
       "```mermaid\n",
       "erDiagram\n",
       "  \"Budget\" {\n",
       "    _ String \"BUDGET_TYPE\"\n",
       "    _ String \"BUDGET_SUBTYPE\"\n",
       "    _ String \"CATEGORY\"\n",
       "    nullable int \"ESTIMATED\"\n",
       "    nullable int \"ACTUAL\"\n",
       "  }\n",
       "```\n"
      ],
      "text/plain": [
       "erDiagram\n",
       "  \"Budget\" {\n",
       "    _ String \"BUDGET_TYPE\"\n",
       "    _ String \"BUDGET_SUBTYPE\"\n",
       "    _ String \"CATEGORY\"\n",
       "    nullable int \"ESTIMATED\"\n",
       "    nullable int \"ACTUAL\"\n",
       "  }"
      ]
     },
     "execution_count": 9,
     "metadata": {},
     "output_type": "execute_result"
    }
   ],
   "source": [
    "session.tables.schema"
   ]
  },
  {
   "cell_type": "markdown",
   "id": "cff1b355-5342-443c-9134-17c23a041364",
   "metadata": {},
   "source": [
    "## Visualization - Budget Overview  \n",
    "\n",
    "We can replicate similar Budget Overview right off the bat with the [measures created automatically during cube creation](https://docs.atoti.io/latest/api/atoti.Session.create_cube.html#atoti.Session.create_cube).  \n",
    "\n",
    "<img src=\"https://data.atoti.io/notebooks/excel-and-atoti/img/budget_overview.png\" width=\"500px\"/>"
   ]
  },
  {
   "cell_type": "code",
   "execution_count": 10,
   "id": "fa002cde-a1d4-47c7-ad7a-c3ce801b3d99",
   "metadata": {
    "atoti": {
     "widget": {
      "mapping": {
       "horizontalSubplots": [],
       "splitBy": [
        "[Budget].[BUDGET_TYPE].[BUDGET_TYPE]"
       ],
       "values": [
        "[Measures].[ESTIMATED.SUM]",
        "[Measures].[ACTUAL.SUM]"
       ],
       "verticalSubplots": [],
       "xAxis": [
        "ALL_MEASURES"
       ]
      },
      "name": "Budget Overview",
      "query": {
       "mdx": "SELECT NON EMPTY Hierarchize(Descendants({[Budget].[BUDGET_TYPE].[AllMember]}, 1, SELF_AND_BEFORE)) ON COLUMNS, NON EMPTY {[Measures].[ESTIMATED.SUM], [Measures].[ACTUAL.SUM]} ON ROWS FROM [budget] CELL PROPERTIES VALUE, FORMATTED_VALUE, BACK_COLOR, FORE_COLOR, FONT_FLAGS",
       "updateMode": "once"
      },
      "serverKey": "default",
      "widgetKey": "plotly-clustered-column-chart"
     }
    },
    "tags": []
   },
   "outputs": [
    {
     "data": {
      "application/vnd.atoti.widget.v0+json": {
       "sessionId": "1715028826_FFQO6N",
       "sessionLocation": {
        "https": false,
        "port": 61113
       },
       "widgetCreationCode": "session.widget"
      },
      "text/html": [
       "<img height=\"0\" width=\"0\" src=\"data:,AAAAAAAAAAAAAAAAAAAAAAAAAAAAAAAAAAAAAAAAAAAAAAAACXBIWXMAABqTAAAakwH55E62\" />"
      ],
      "text/plain": [
       "Open the notebook in JupyterLab with the Atoti JupyterLab extension enabled to build this widget."
      ]
     },
     "metadata": {},
     "output_type": "display_data"
    }
   ],
   "source": [
    "session.widget"
   ]
  },
  {
   "cell_type": "markdown",
   "id": "0b1fe941-ffe7-4465-8f27-e2dc36082de7",
   "metadata": {},
   "source": [
    "## Visualization - Monthly Budget  \n",
    "\n",
    "Let's explore the cube to see how far off are we from the Excel's Monthly budget table:  \n",
    "\n",
    "<img src=\"https://data.atoti.io/notebooks/excel-and-atoti/img/monthly_budget.png\" />"
   ]
  },
  {
   "cell_type": "code",
   "execution_count": 11,
   "id": "c955aefc-aa8e-4c63-a5d2-da3e78e30231",
   "metadata": {
    "atoti": {
     "height": 193,
     "widget": {
      "mapping": {
       "columns": [
        "ALL_MEASURES"
       ],
       "measures": [
        "[Measures].[ACTUAL.SUM]",
        "[Measures].[ESTIMATED.SUM]"
       ],
       "rows": [
        "[Budget].[BUDGET_TYPE].[BUDGET_TYPE]"
       ]
      },
      "query": {
       "mdx": "WITH  Member [Measures].[[Budget]].[BUDGET_TYPE]].[BUDGET_TYPE]]_for_order] AS [Budget].[BUDGET_TYPE].CurrentMember.MEMBER_VALUE  SELECT NON EMPTY {[Measures].[ACTUAL.SUM], [Measures].[ESTIMATED.SUM]} ON COLUMNS, NON EMPTY Order(Hierarchize(Descendants({[Budget].[BUDGET_TYPE].[AllMember]}, 1, SELF_AND_BEFORE)), [Measures].[[Budget]].[BUDGET_TYPE]].[BUDGET_TYPE]]_for_order], DESC) ON ROWS FROM [budget] CELL PROPERTIES VALUE, FORMATTED_VALUE, BACK_COLOR, FORE_COLOR, FONT_FLAGS",
       "updateMode": "once"
      },
      "serverKey": "default",
      "widgetKey": "pivot-table"
     }
    },
    "tags": []
   },
   "outputs": [
    {
     "data": {
      "application/vnd.atoti.widget.v0+json": {
       "sessionId": "1715028826_FFQO6N",
       "sessionLocation": {
        "https": false,
        "port": 61113
       },
       "widgetCreationCode": "session.widget"
      },
      "text/html": [
       "<img height=\"0\" width=\"0\" src=\"data:,AAAAAAAAAAAAAAAAAAAAAAAAAAAAAAAAAAAAAAAAAAAAAAAACXBIWXMAABqTAAAakwH55E62\" />"
      ],
      "text/plain": [
       "Open the notebook in JupyterLab with the Atoti JupyterLab extension enabled to build this widget."
      ]
     },
     "metadata": {},
     "output_type": "display_data"
    }
   ],
   "source": [
    "session.widget"
   ]
  },
  {
   "cell_type": "markdown",
   "id": "3631d174-eb8a-4fa6-801d-a21c552ba938",
   "metadata": {},
   "source": [
    "We need to tackle the below if we want to achieve the same table as in the Excel template.  \n",
    "1. The order of the BUDGET TOTALS should be (Income, Expenses).\n",
    "2. Total should be the difference between _Income_ and _Expenses_ instead of a summation between the two.\n",
    "3. We need to create a measure that computes the difference between the _Estimated_ and _Actual_.\n",
    "\n",
    "### Attributes of a cube  \n",
    "\n",
    "Before we proceed to handle the above mentioned, let's create alias for our cube attributes to make our coding easier."
   ]
  },
  {
   "cell_type": "code",
   "execution_count": 12,
   "id": "6b6bfd04-d56e-4ec8-9fa6-dc62dcd95cdd",
   "metadata": {},
   "outputs": [
    {
     "data": {
      "application/json": {
       "Dimensions": {
        "Budget": {
         "BUDGET_SUBTYPE": [
          "BUDGET_SUBTYPE"
         ],
         "BUDGET_TYPE": [
          "BUDGET_TYPE"
         ],
         "CATEGORY": [
          "CATEGORY"
         ]
        }
       },
       "Measures": {
        "ACTUAL.MEAN": {
         "formatter": "DOUBLE[#,###.00]"
        },
        "ACTUAL.SUM": {
         "formatter": "INT[#,###]"
        },
        "ESTIMATED.MEAN": {
         "formatter": "DOUBLE[#,###.00]"
        },
        "ESTIMATED.SUM": {
         "formatter": "INT[#,###]"
        },
        "contributors.COUNT": {
         "formatter": "INT[#,###]"
        }
       }
      },
      "text/html": [
       "<ul>\n",
       "<li>budget\n",
       "  <ul>\n",
       "  <li>Dimensions\n",
       "    <ul>\n",
       "    <li>Budget\n",
       "      <ul>\n",
       "      <li>BUDGET_SUBTYPE\n",
       "        <ol>\n",
       "        <li>BUDGET_SUBTYPE</li>\n",
       "        </ol>      </li>\n",
       "      <li>BUDGET_TYPE\n",
       "        <ol>\n",
       "        <li>BUDGET_TYPE</li>\n",
       "        </ol>      </li>\n",
       "      <li>CATEGORY\n",
       "        <ol>\n",
       "        <li>CATEGORY</li>\n",
       "        </ol>      </li>\n",
       "      </ul>\n",
       "    </li>\n",
       "    </ul>\n",
       "  </li>\n",
       "  <li>Measures\n",
       "    <ul>\n",
       "    <li>ACTUAL.MEAN\n",
       "      <ul>\n",
       "      <li>formatter: DOUBLE[#,###.00]</li>\n",
       "      </ul>\n",
       "    </li>\n",
       "    <li>ACTUAL.SUM\n",
       "      <ul>\n",
       "      <li>formatter: INT[#,###]</li>\n",
       "      </ul>\n",
       "    </li>\n",
       "    <li>ESTIMATED.MEAN\n",
       "      <ul>\n",
       "      <li>formatter: DOUBLE[#,###.00]</li>\n",
       "      </ul>\n",
       "    </li>\n",
       "    <li>ESTIMATED.SUM\n",
       "      <ul>\n",
       "      <li>formatter: INT[#,###]</li>\n",
       "      </ul>\n",
       "    </li>\n",
       "    <li>contributors.COUNT\n",
       "      <ul>\n",
       "      <li>formatter: INT[#,###]</li>\n",
       "      </ul>\n",
       "    </li>\n",
       "    </ul>\n",
       "  </li>\n",
       "  </ul>\n",
       "</li>\n",
       "</ul>\n"
      ],
      "text/plain": [
       "<atoti.cube.Cube at 0x1348928d0>"
      ]
     },
     "execution_count": 12,
     "metadata": {
      "application/json": {
       "expanded": false,
       "root": "budget"
      }
     },
     "output_type": "execute_result"
    }
   ],
   "source": [
    "cube"
   ]
  },
  {
   "cell_type": "code",
   "execution_count": 13,
   "id": "f4cf3402-2ea4-4186-8c82-8c95891ea84b",
   "metadata": {},
   "outputs": [],
   "source": [
    "h, l, m = cube.hierarchies, cube.levels, cube.measures"
   ]
  },
  {
   "cell_type": "markdown",
   "id": "a221ea2a-2c5e-4992-8119-a3235719c70b",
   "metadata": {},
   "source": [
    "## Sorting Budget type\n",
    "\n",
    "We can sort the _Budget_Type_ by doing a right-click on its header and sort in ascending order. \n",
    "\n",
    "<img src=\"https://data.atoti.io/notebooks/excel-and-atoti/img/sorting.gif\" />\n",
    "\n",
    "Alternatively, we can hardcode the default order by sort the level using [`CustomOrder`](https://docs.atoti.io/latest/api/atoti.CustomOrder.html#atoti.CustomOrder). In our case, we will use CustomOrder and `first_elements` to fix the order to (\"Income\", \"Expenses\")."
   ]
  },
  {
   "cell_type": "code",
   "execution_count": 14,
   "id": "f098d7c8-d943-4710-b331-b6776695b531",
   "metadata": {},
   "outputs": [],
   "source": [
    "l[\"BUDGET_TYPE\"].order = tt.CustomOrder(first_elements=[\"Income\", \"Expenses\"])"
   ]
  },
  {
   "cell_type": "code",
   "execution_count": 15,
   "id": "0f90025f-c321-4b47-8a9a-73ec763ef7ad",
   "metadata": {
    "atoti": {
     "height": 146,
     "widget": {
      "mapping": {
       "columns": [
        "ALL_MEASURES"
       ],
       "measures": [
        "[Measures].[ACTUAL.SUM]",
        "[Measures].[ESTIMATED.SUM]"
       ],
       "rows": [
        "[Budget].[BUDGET_TYPE].[BUDGET_TYPE]"
       ]
      },
      "query": {
       "mdx": "SELECT NON EMPTY {[Measures].[ACTUAL.SUM], [Measures].[ESTIMATED.SUM]} ON COLUMNS, NON EMPTY Hierarchize(Descendants({[Budget].[BUDGET_TYPE].[AllMember]}, 1, SELF_AND_BEFORE)) ON ROWS FROM [budget] CELL PROPERTIES VALUE, FORMATTED_VALUE, BACK_COLOR, FORE_COLOR, FONT_FLAGS",
       "updateMode": "once"
      },
      "serverKey": "default",
      "widgetKey": "pivot-table"
     }
    },
    "tags": []
   },
   "outputs": [
    {
     "data": {
      "application/vnd.atoti.widget.v0+json": {
       "sessionId": "1715028826_FFQO6N",
       "sessionLocation": {
        "https": false,
        "port": 61113
       },
       "widgetCreationCode": "session.widget"
      },
      "text/html": [
       "<img height=\"0\" width=\"0\" src=\"data:,AAAAAAAAAAAAAAAAAAAAAAAAAAAAAAAAAAAAAAAAAAAAAAAACXBIWXMAABqTAAAakwH55E62\" />"
      ],
      "text/plain": [
       "Open the notebook in JupyterLab with the Atoti JupyterLab extension enabled to build this widget."
      ]
     },
     "metadata": {},
     "output_type": "display_data"
    }
   ],
   "source": [
    "session.widget"
   ]
  },
  {
   "cell_type": "markdown",
   "id": "3f707283-4b27-4d01-b365-26c09ba398fd",
   "metadata": {},
   "source": [
    "## Aggregation - Computing the Total value\n",
    "\n",
    "Since the default behaviour of `ACTUAL.SUM`/`ESTIMATED.SUM` to add up the value of `ACTUAL`/`ESTIMATED`, let's negate the values of expenses since they are outgoing values. To do this, let's create new measures with conditional values using [`atoti.where`](https://docs.atoti.io/latest/api/atoti.where.html#atoti.where)."
   ]
  },
  {
   "cell_type": "code",
   "execution_count": 16,
   "id": "558e0135-3804-4ef8-ace0-e91d9d289111",
   "metadata": {},
   "outputs": [],
   "source": [
    "m[\"Estimated\"] = tt.agg.sum(\n",
    "    tt.where(\n",
    "        l[\"BUDGET_TYPE\"] == \"Expenses\", (-1 * m[\"ESTIMATED.SUM\"]), m[\"ESTIMATED.SUM\"]\n",
    "    ),\n",
    "    scope=tt.OriginScope(levels={l[\"BUDGET_TYPE\"]}),\n",
    ")\n",
    "m[\"Actual\"] = tt.agg.sum(\n",
    "    tt.where(l[\"BUDGET_TYPE\"] == \"Expenses\", (-1 * m[\"ACTUAL.SUM\"]), m[\"ACTUAL.SUM\"]),\n",
    "    scope=tt.OriginScope(levels={l[\"BUDGET_TYPE\"]}),\n",
    ")"
   ]
  },
  {
   "cell_type": "markdown",
   "id": "357484da-b92f-4f41-bcfd-2d8dbf199b05",
   "metadata": {},
   "source": [
    "We can even drill-down to the subtype to see the estimated and actual budgets in two ways:\n",
    "\n",
    "1. Adding `BUDGET_SUBTYPE` to the rows section to get it expanded for all the `BUDGET_TYPE`\n",
    "2. Drag and drop the `BUDGET_SUBTYPE` on a member of `BUDGET_TYPE` in the pivot table. This will return a collapsible level as shown below:\n",
    "\n",
    "<img src=\"https://data.atoti.io/notebooks/excel-and-atoti/img/collapsible_pivot.gif\" width=\"60%\" />"
   ]
  },
  {
   "cell_type": "code",
   "execution_count": 17,
   "id": "dda5ff2f-1a0e-440e-8eb0-3513a2da46b2",
   "metadata": {
    "atoti": {
     "height": 538,
     "widget": {
      "columnWidths": {
       "[Budget].[BUDGET_TYPE].[BUDGET_TYPE]": 99
      },
      "mapping": {
       "columns": [
        "ALL_MEASURES"
       ],
       "measures": [
        "[Measures].[Estimated]",
        "[Measures].[Actual]"
       ],
       "rows": [
        "[Budget].[BUDGET_TYPE].[BUDGET_TYPE] => [Budget].[BUDGET_SUBTYPE].[BUDGET_SUBTYPE]"
       ]
      },
      "query": {
       "mdx": "SELECT NON EMPTY {[Measures].[Estimated], [Measures].[Actual]} ON COLUMNS, NON EMPTY Hierarchize(Union(Crossjoin(Descendants({[Budget].[BUDGET_TYPE].[AllMember]}, 1, SELF_AND_BEFORE), [Budget].[BUDGET_SUBTYPE].DefaultMember), Crossjoin([Budget].[BUDGET_TYPE].[ALL].[AllMember].[Expenses], Hierarchize(Descendants({[Budget].[BUDGET_SUBTYPE].[ALL].[AllMember]}, 1, SELF_AND_BEFORE))))) ON ROWS FROM [budget] CELL PROPERTIES VALUE, FORMATTED_VALUE, BACK_COLOR, FORE_COLOR, FONT_FLAGS",
       "updateMode": "once"
      },
      "serverKey": "default",
      "widgetKey": "pivot-table"
     }
    },
    "tags": []
   },
   "outputs": [
    {
     "data": {
      "application/vnd.atoti.widget.v0+json": {
       "sessionId": "1715028826_FFQO6N",
       "sessionLocation": {
        "https": false,
        "port": 61113
       },
       "widgetCreationCode": "session.widget"
      },
      "text/html": [
       "<img height=\"0\" width=\"0\" src=\"data:,AAAAAAAAAAAAAAAAAAAAAAAAAAAAAAAAAAAAAAAAAAAAAAAACXBIWXMAABqTAAAakwH55E62\" />"
      ],
      "text/plain": [
       "Open the notebook in JupyterLab with the Atoti JupyterLab extension enabled to build this widget."
      ]
     },
     "metadata": {},
     "output_type": "display_data"
    }
   ],
   "source": [
    "# Add in BUDGET_SUBTYPE to drill-down on the sub-levels\n",
    "session.widget"
   ]
  },
  {
   "cell_type": "markdown",
   "id": "6424bc3c-dc08-4d28-9f81-379c065bb3a9",
   "metadata": {},
   "source": [
    "## Aggregation - Computing the Difference  "
   ]
  },
  {
   "cell_type": "code",
   "execution_count": 18,
   "id": "46fc72a5-f8d9-40c6-b40c-d36386bf8012",
   "metadata": {},
   "outputs": [],
   "source": [
    "m[\"Difference\"] = m[\"Actual\"] - m[\"Estimated\"]"
   ]
  },
  {
   "cell_type": "code",
   "execution_count": 19,
   "id": "4c31b857-7029-4686-b865-e73b8f3400ed",
   "metadata": {
    "atoti": {
     "height": 271,
     "widget": {
      "mapping": {
       "columns": [
        "ALL_MEASURES"
       ],
       "measures": [
        "[Measures].[Estimated]",
        "[Measures].[Actual]",
        "[Measures].[Difference]"
       ],
       "rows": [
        "[Budget].[BUDGET_TYPE].[BUDGET_TYPE] => [Budget].[BUDGET_SUBTYPE].[BUDGET_SUBTYPE]"
       ]
      },
      "name": "Monthly Budget",
      "query": {
       "mdx": "SELECT NON EMPTY Hierarchize(Union(Crossjoin(Descendants({[Budget].[BUDGET_TYPE].[AllMember]}, 1, SELF_AND_BEFORE), [Budget].[BUDGET_SUBTYPE].DefaultMember), Crossjoin([Budget].[BUDGET_TYPE].[AllMember].[Income], Hierarchize(Descendants({[Budget].[BUDGET_SUBTYPE].[AllMember]}, 1, SELF_AND_BEFORE))), Crossjoin([Budget].[BUDGET_TYPE].[AllMember].[Expenses], Hierarchize(Descendants({[Budget].[BUDGET_SUBTYPE].[AllMember]}, 1, SELF_AND_BEFORE))))) ON ROWS, NON EMPTY {[Measures].[Estimated], [Measures].[Actual], [Measures].[Difference]} ON COLUMNS FROM [budget] CELL PROPERTIES VALUE, FORMATTED_VALUE, BACK_COLOR, FORE_COLOR, FONT_FLAGS",
       "updateMode": "once"
      },
      "serverKey": "default",
      "widgetKey": "pivot-table"
     }
    },
    "tags": []
   },
   "outputs": [
    {
     "data": {
      "application/vnd.atoti.widget.v0+json": {
       "sessionId": "1715028826_FFQO6N",
       "sessionLocation": {
        "https": false,
        "port": 61113
       },
       "widgetCreationCode": "session.widget"
      },
      "text/html": [
       "<img height=\"0\" width=\"0\" src=\"data:,AAAAAAAAAAAAAAAAAAAAAAAAAAAAAAAAAAAAAAAAAAAAAAAACXBIWXMAABqTAAAakwH55E62\" />"
      ],
      "text/plain": [
       "Open the notebook in JupyterLab with the Atoti JupyterLab extension enabled to build this widget."
      ]
     },
     "metadata": {},
     "output_type": "display_data"
    }
   ],
   "source": [
    "session.widget"
   ]
  },
  {
   "cell_type": "markdown",
   "id": "10e33f6e-104e-47d1-872d-8079906c4a2a",
   "metadata": {},
   "source": [
    "### Formatting  \n",
    "\n",
    "This is not necessary but if you prefer round brackets to the minus sign, we can format the measures as follows:"
   ]
  },
  {
   "cell_type": "code",
   "execution_count": 20,
   "id": "386896bc-2deb-4d4e-ae60-fb0aa4068919",
   "metadata": {},
   "outputs": [],
   "source": [
    "m[\"Estimated\"].formatter = \"DOUBLE[$#,##0;($#,##0)]\"\n",
    "m[\"Actual\"].formatter = \"DOUBLE[$#,##0;($#,##0)]\"\n",
    "m[\"Difference\"].formatter = \"DOUBLE[$#,##0;($#,##0)]\""
   ]
  },
  {
   "cell_type": "code",
   "execution_count": 21,
   "id": "66135e8d-57b6-4f7d-a23d-5cbc6be65311",
   "metadata": {
    "atoti": {
     "height": 271,
     "widget": {
      "mapping": {
       "columns": [
        "ALL_MEASURES"
       ],
       "measures": [
        "[Measures].[Estimated]",
        "[Measures].[Actual]",
        "[Measures].[Difference]"
       ],
       "rows": [
        "[Budget].[BUDGET_TYPE].[BUDGET_TYPE] => [Budget].[BUDGET_SUBTYPE].[BUDGET_SUBTYPE]"
       ]
      },
      "name": "Monthly Budget",
      "query": {
       "mdx": "SELECT NON EMPTY Hierarchize(Union(Crossjoin(Descendants({[Budget].[BUDGET_TYPE].[AllMember]}, 1, SELF_AND_BEFORE), [Budget].[BUDGET_SUBTYPE].DefaultMember), Crossjoin([Budget].[BUDGET_TYPE].[AllMember].[Income], Hierarchize(Descendants({[Budget].[BUDGET_SUBTYPE].[AllMember]}, 1, SELF_AND_BEFORE))), Crossjoin([Budget].[BUDGET_TYPE].[AllMember].[Expenses], Hierarchize(Descendants({[Budget].[BUDGET_SUBTYPE].[AllMember]}, 1, SELF_AND_BEFORE))))) ON ROWS, NON EMPTY {[Measures].[Estimated], [Measures].[Actual], [Measures].[Difference]} ON COLUMNS FROM [budget] CELL PROPERTIES VALUE, FORMATTED_VALUE, BACK_COLOR, FORE_COLOR, FONT_FLAGS",
       "updateMode": "once"
      },
      "serverKey": "default",
      "widgetKey": "pivot-table"
     }
    },
    "tags": []
   },
   "outputs": [
    {
     "data": {
      "application/vnd.atoti.widget.v0+json": {
       "sessionId": "1715028826_FFQO6N",
       "sessionLocation": {
        "https": false,
        "port": 61113
       },
       "widgetCreationCode": "session.widget"
      },
      "text/html": [
       "<img height=\"0\" width=\"0\" src=\"data:,AAAAAAAAAAAAAAAAAAAAAAAAAAAAAAAAAAAAAAAAAAAAAAAACXBIWXMAABqTAAAakwH55E62\" />"
      ],
      "text/plain": [
       "Open the notebook in JupyterLab with the Atoti JupyterLab extension enabled to build this widget."
      ]
     },
     "metadata": {},
     "output_type": "display_data"
    }
   ],
   "source": [
    "session.widget"
   ]
  },
  {
   "cell_type": "markdown",
   "id": "f20cf006-b7aa-45a4-b1e6-9c40fd1cd470",
   "metadata": {
    "tags": []
   },
   "source": [
    "## Top 5 Categories in Operating expenses\n",
    "\n",
    "We can apply filter interactively on the Pivot widget using the Atoti editor.\n",
    "\n",
    "<img src=\"https://data.atoti.io/notebooks/excel-and-atoti/img/filter.png\" width=\"50%\" />"
   ]
  },
  {
   "cell_type": "code",
   "execution_count": 22,
   "id": "c0c4610e-f951-48e6-ae21-64e1b38d8c69",
   "metadata": {
    "atoti": {
     "height": 265,
     "widget": {
      "columnWidths": {
       "[Budget].[CATEGORY].[CATEGORY]": 150
      },
      "filters": [
       "[Budget].[BUDGET_TYPE].[AllMember].[Expenses]",
       "[Budget].[BUDGET_SUBTYPE].[AllMember].[Operating]",
       "TopCount(Filter([Budget].[CATEGORY].Levels(1).Members, NOT IsEmpty([Measures].[ACTUAL.SUM])), 5, [Measures].[ACTUAL.SUM])"
      ],
      "mapping": {
       "columns": [
        "ALL_MEASURES"
       ],
       "measures": [
        "[Measures].[ACTUAL.SUM]"
       ],
       "rows": [
        "[Budget].[CATEGORY].[CATEGORY]"
       ]
      },
      "query": {
       "mdx": "SELECT NON EMPTY {[Measures].[ACTUAL.SUM]} ON COLUMNS, NON EMPTY Hierarchize(Descendants({[Budget].[CATEGORY].[AllMember]}, 1, SELF_AND_BEFORE)) ON ROWS FROM [budget] CELL PROPERTIES VALUE, FORMATTED_VALUE, BACK_COLOR, FORE_COLOR, FONT_FLAGS",
       "updateMode": "once"
      },
      "serverKey": "default",
      "widgetKey": "pivot-table"
     }
    },
    "tags": []
   },
   "outputs": [
    {
     "data": {
      "application/vnd.atoti.widget.v0+json": {
       "sessionId": "1715028826_FFQO6N",
       "sessionLocation": {
        "https": false,
        "port": 61113
       },
       "widgetCreationCode": "session.widget"
      },
      "text/html": [
       "<img height=\"0\" width=\"0\" src=\"data:,AAAAAAAAAAAAAAAAAAAAAAAAAAAAAAAAAAAAAAAAAAAAAAAACXBIWXMAABqTAAAakwH55E62\" />"
      ],
      "text/plain": [
       "Open the notebook in JupyterLab with the Atoti JupyterLab extension enabled to build this widget."
      ]
     },
     "metadata": {},
     "output_type": "display_data"
    }
   ],
   "source": [
    "session.widget"
   ]
  },
  {
   "cell_type": "markdown",
   "id": "b9624724-44bc-4eec-87d1-5a72bc3089db",
   "metadata": {},
   "source": [
    "Instead of looking at the top 5 categories only in Operating expenses, we can look at top 5 categories in each budget subtype! Let's do so by creating a multi-level hierarchy."
   ]
  },
  {
   "cell_type": "code",
   "execution_count": 23,
   "id": "9fbda503-3fac-4631-8151-48315e8debf3",
   "metadata": {},
   "outputs": [],
   "source": [
    "h[\"Budget Category\"] = [l[\"BUDGET_TYPE\"], l[\"BUDGET_SUBTYPE\"], l[\"CATEGORY\"]]"
   ]
  },
  {
   "cell_type": "markdown",
   "id": "4da5a554-fc00-4c56-90a3-635a8d11a21d",
   "metadata": {},
   "source": [
    "Let's do this interactively via the advanced filtering in Atoti editor:  \n",
    "<img src=\"https://data.atoti.io/notebooks/excel-and-atoti/img/advanced_filter.gif\" width=\"65%\" />"
   ]
  },
  {
   "cell_type": "code",
   "execution_count": 24,
   "id": "88b219b8-4132-40a6-8ac8-5bc0f419a05a",
   "metadata": {
    "atoti": {
     "height": 544,
     "widget": {
      "columnWidths": {
       "[Budget].[Budget Category].[CATEGORY]": 150
      },
      "filters": [
       "Generate([Budget].[Budget Category].Levels(2).Members, TopCount(Filter([Budget].[Budget Category].CurrentMember.Children, NOT IsEmpty([Measures].[ACTUAL.SUM])), 5, [Measures].[ACTUAL.SUM]))"
      ],
      "mapping": {
       "columns": [
        "ALL_MEASURES"
       ],
       "measures": [
        "[Measures].[ACTUAL.SUM]"
       ],
       "rows": [
        "[Budget].[Budget Category].[BUDGET_TYPE] => [Budget].[Budget Category].[CATEGORY]"
       ]
      },
      "name": "Top 5 category in each subtype",
      "query": {
       "mdx": "SELECT NON EMPTY Hierarchize(Union(Descendants({[Budget].[Budget Category].[AllMember]}, 1, SELF_AND_BEFORE), Descendants({[Budget].[Budget Category].[AllMember].[Expenses]}, [Budget].[Budget Category].[BUDGET_SUBTYPE]), Descendants({[Budget].[Budget Category].[AllMember].[Expenses].[Operating]}, [Budget].[Budget Category].[CATEGORY]), Descendants({[Budget].[Budget Category].[AllMember].[Expenses].[Personnel]}, [Budget].[Budget Category].[CATEGORY]), Descendants({[Budget].[Budget Category].[AllMember].[Income]}, [Budget].[Budget Category].[BUDGET_SUBTYPE]), Descendants({[Budget].[Budget Category].[AllMember].[Income].[Income]}, [Budget].[Budget Category].[CATEGORY]))) ON ROWS, NON EMPTY {[Measures].[ACTUAL.SUM]} ON COLUMNS FROM [budget] CELL PROPERTIES VALUE, FORMATTED_VALUE, BACK_COLOR, FORE_COLOR, FONT_FLAGS",
       "updateMode": "once"
      },
      "serverKey": "default",
      "widgetKey": "pivot-table"
     }
    },
    "tags": []
   },
   "outputs": [
    {
     "data": {
      "application/vnd.atoti.widget.v0+json": {
       "sessionId": "1715028826_FFQO6N",
       "sessionLocation": {
        "https": false,
        "port": 61113
       },
       "widgetCreationCode": "session.widget"
      },
      "text/html": [
       "<img height=\"0\" width=\"0\" src=\"data:,AAAAAAAAAAAAAAAAAAAAAAAAAAAAAAAAAAAAAAAAAAAAAAAACXBIWXMAABqTAAAakwH55E62\" />"
      ],
      "text/plain": [
       "Open the notebook in JupyterLab with the Atoti JupyterLab extension enabled to build this widget."
      ]
     },
     "metadata": {},
     "output_type": "display_data"
    }
   ],
   "source": [
    "session.widget"
   ]
  },
  {
   "cell_type": "code",
   "execution_count": 25,
   "id": "1d5ac554-d81b-41f0-a638-c45de7ba73e3",
   "metadata": {},
   "outputs": [],
   "source": [
    "m[\"Budget type total\"] = tt.parent_value(\n",
    "    m[\"ACTUAL.SUM\"], degrees={h[\"Budget Category\"]: 2}\n",
    ")"
   ]
  },
  {
   "cell_type": "markdown",
   "id": "5321c9b6-786c-4063-a97a-bb757a52d1cb",
   "metadata": {},
   "source": [
    "The pivot below is reflecting only the top 5 (or less) categories in each budget subtype and the `ACTUAL.SUM` is reflected accordingly. However, when computing [`atoti.parent_value`](https://docs.atoti.io/latest/api/atoti.parent_value.html#atoti.parent_value), it takes into consideration the total for all members (not the top 5). Therefore, `Budget type total` is showing 49,630 at the category level instead of `33,400` which is the total value of `ACTUAL.SUM` 2 levels (or degrees) up from itself.\n",
    "\n",
    "To apply the widget filter on the `parent_value`, we can set the `apply_filters` parameter to `True`:\n",
    "\n",
    "```python\n",
    "m[\"Budget type total\"] = tt.parent_value(\n",
    "    m[\"ACTUAL.SUM\"], degrees={h[\"Budget Category\"]: 2}, apply_filters=True\n",
    ")\n",
    "```"
   ]
  },
  {
   "cell_type": "code",
   "execution_count": 26,
   "id": "2c9a6237-2242-4009-8f9e-94fdf539231c",
   "metadata": {
    "atoti": {
     "widget": {
      "columnWidths": {
       "[Budget].[Budget Category].[CATEGORY]": 150
      },
      "filters": [
       "Generate([Budget].[Budget Category].Levels(2).Members, TopCount(Filter([Budget].[Budget Category].CurrentMember.Children, NOT IsEmpty([Measures].[ACTUAL.SUM])), 5, [Measures].[ACTUAL.SUM]))"
      ],
      "mapping": {
       "columns": [
        "ALL_MEASURES"
       ],
       "measures": [
        "[Measures].[ACTUAL.SUM]",
        "[Measures].[Budget type total]"
       ],
       "rows": [
        "[Budget].[Budget Category].[BUDGET_TYPE] => [Budget].[Budget Category].[CATEGORY]"
       ]
      },
      "name": "Parent value - ignoring filter",
      "query": {
       "mdx": "SELECT NON EMPTY Hierarchize(Union(Descendants({[Budget].[Budget Category].[AllMember]}, 1, SELF_AND_BEFORE), Descendants({[Budget].[Budget Category].[AllMember].[Expenses]}, [Budget].[Budget Category].[BUDGET_SUBTYPE]), Descendants({[Budget].[Budget Category].[AllMember].[Income]}, [Budget].[Budget Category].[BUDGET_SUBTYPE]), Descendants({[Budget].[Budget Category].[AllMember].[Expenses].[Operating]}, [Budget].[Budget Category].[CATEGORY]))) ON ROWS, NON EMPTY {[Measures].[ACTUAL.SUM], [Measures].[Budget type total]} ON COLUMNS FROM [budget] CELL PROPERTIES VALUE, FORMATTED_VALUE, BACK_COLOR, FORE_COLOR, FONT_FLAGS",
       "updateMode": "once"
      },
      "serverKey": "default",
      "widgetKey": "pivot-table"
     }
    },
    "tags": []
   },
   "outputs": [
    {
     "data": {
      "application/vnd.atoti.widget.v0+json": {
       "sessionId": "1715028826_FFQO6N",
       "sessionLocation": {
        "https": false,
        "port": 61113
       },
       "widgetCreationCode": "session.widget"
      },
      "text/html": [
       "<img height=\"0\" width=\"0\" src=\"data:,AAAAAAAAAAAAAAAAAAAAAAAAAAAAAAAAAAAAAAAAAAAAAAAACXBIWXMAABqTAAAakwH55E62\" />"
      ],
      "text/plain": [
       "Open the notebook in JupyterLab with the Atoti JupyterLab extension enabled to build this widget."
      ]
     },
     "metadata": {},
     "output_type": "display_data"
    }
   ],
   "source": [
    "session.widget"
   ]
  },
  {
   "cell_type": "markdown",
   "id": "9249de04-133a-4668-8166-4ed2957c332c",
   "metadata": {},
   "source": [
    "### To apply aggregation on formula or not?\n",
    "\n",
    "We saw earlier on that formulae in Atoti is as straightforward as `m[\"Difference\"] = m[\"Actual\"] - m[\"Estimated\"]`. But things can get more interesting than that. Let's first try to apply the formula as it is."
   ]
  },
  {
   "cell_type": "code",
   "execution_count": 27,
   "id": "f9fd07bd-1258-4d2f-a82a-6f662f113193",
   "metadata": {},
   "outputs": [],
   "source": [
    "# Compare measures without aggregation on the given scope\n",
    "m[\"_% of Budget\"] = m[\"ACTUAL.SUM\"] / m[\"Budget type total\"]\n",
    "m[\"_% of Budget\"].formatter = \"DOUBLE[0.00%]\""
   ]
  },
  {
   "cell_type": "code",
   "execution_count": 28,
   "id": "53e7a766-2e52-46d4-ac41-efb3fed5e544",
   "metadata": {
    "atoti": {
     "height": 545,
     "widget": {
      "columnWidths": {
       "[Budget].[Budget Category].[CATEGORY]": 150
      },
      "filters": [
       "Generate([Budget].[Budget Category].Levels(2).Members, TopCount(Filter([Budget].[Budget Category].CurrentMember.Children, NOT IsEmpty([Measures].[ACTUAL.SUM])), 5, [Measures].[ACTUAL.SUM]))"
      ],
      "mapping": {
       "columns": [
        "ALL_MEASURES"
       ],
       "measures": [
        "[Measures].[ACTUAL.SUM]",
        "[Measures].[Budget type total]",
        "[Measures].[_% of Budget]"
       ],
       "rows": [
        "[Budget].[Budget Category].[BUDGET_TYPE] => [Budget].[Budget Category].[CATEGORY]"
       ]
      },
      "name": "Top 5 categories by subtype",
      "query": {
       "mdx": "SELECT NON EMPTY Hierarchize(Union(Descendants({[Budget].[Budget Category].[AllMember]}, 1, SELF_AND_BEFORE), Descendants({[Budget].[Budget Category].[AllMember].[Expenses]}, [Budget].[Budget Category].[BUDGET_SUBTYPE]), Descendants({[Budget].[Budget Category].[AllMember].[Income]}, [Budget].[Budget Category].[BUDGET_SUBTYPE]), Descendants({[Budget].[Budget Category].[AllMember].[Expenses].[Operating]}, [Budget].[Budget Category].[CATEGORY]), Descendants({[Budget].[Budget Category].[AllMember].[Expenses].[Personnel]}, [Budget].[Budget Category].[CATEGORY]), Descendants({[Budget].[Budget Category].[AllMember].[Income].[Income]}, [Budget].[Budget Category].[CATEGORY]))) ON ROWS, NON EMPTY {[Measures].[ACTUAL.SUM], [Measures].[Budget type total], [Measures].[_% of Budget]} ON COLUMNS FROM [budget] CELL PROPERTIES VALUE, FORMATTED_VALUE, BACK_COLOR, FORE_COLOR, FONT_FLAGS",
       "updateMode": "once"
      },
      "serverKey": "default",
      "widgetKey": "pivot-table"
     }
    },
    "tags": []
   },
   "outputs": [
    {
     "data": {
      "application/vnd.atoti.widget.v0+json": {
       "sessionId": "1715028826_FFQO6N",
       "sessionLocation": {
        "https": false,
        "port": 61113
       },
       "widgetCreationCode": "session.widget"
      },
      "text/html": [
       "<img height=\"0\" width=\"0\" src=\"data:,AAAAAAAAAAAAAAAAAAAAAAAAAAAAAAAAAAAAAAAAAAAAAAAACXBIWXMAABqTAAAakwH55E62\" />"
      ],
      "text/plain": [
       "Open the notebook in JupyterLab with the Atoti JupyterLab extension enabled to build this widget."
      ]
     },
     "metadata": {},
     "output_type": "display_data"
    }
   ],
   "source": [
    "session.widget"
   ]
  },
  {
   "cell_type": "markdown",
   "id": "187c971b-d1a8-4813-bba1-481715f94a33",
   "metadata": {},
   "source": [
    "Looking at the table above, the percentage at the `BUDGET_SUBTYPE` levels is against the total Income + Expenses (107,080), without consideration of incoming or outgoing. The purpose of `% OF EXPENSES` in the spreadsheet computes the expense at `CATEGORY` level as a percentage to the total at the `BUDGET_SUBTYPE` level. E.g. for Top 5 Operating expenses, it would be `19,300 / 49,630 = 0.389`.\n",
    "\n",
    "Let's see what happens when we apply the formula only at the `CATEGORY` level (via the scope) and then apply summation to the levels above the `CATEGORY` level."
   ]
  },
  {
   "cell_type": "code",
   "execution_count": 29,
   "id": "7759ac9d-8574-4cc9-b39f-e4bd4ca6f7a4",
   "metadata": {},
   "outputs": [],
   "source": [
    "m[\"% of Budget\"] = tt.agg.sum(\n",
    "    m[\"ACTUAL.SUM\"] / m[\"Budget type total\"],\n",
    "    scope=tt.OriginScope(levels={cube.levels[\"Budget\", \"Budget Category\", \"CATEGORY\"]}),\n",
    ")\n",
    "\n",
    "m[\"% of Budget\"].formatter = \"DOUBLE[0.00%]\""
   ]
  },
  {
   "cell_type": "markdown",
   "id": "dbfe2791-d108-49f5-a5b7-4dd2bd41de41",
   "metadata": {},
   "source": [
    "Does it make sense to sum up the percentage? Yes, when we sum up the `m[\"% of Budget\"]` for the displayed categories, it gives the % of budget these top 5 categories make up for the Budget type.  \n",
    "\n",
    "E.g. The top 5 Operating expenses makes up 38.39% of the total expenses. The top 5 Operating expenses and top 5 (or 3 in this case) Personnel expenses makes up 67.3% of the total expenses.  "
   ]
  },
  {
   "cell_type": "code",
   "execution_count": 30,
   "id": "3ddc90c6-8e97-472a-af68-f09c6dd5075c",
   "metadata": {
    "atoti": {
     "height": 549,
     "widget": {
      "columnWidths": {
       "[Budget].[Budget Category].[CATEGORY]": 150,
       "[Measures].[% of Subtype Budget]": 136
      },
      "filters": [
       "Generate([Budget].[Budget Category].Levels(2).Members, TopCount(Filter([Budget].[Budget Category].CurrentMember.Children, NOT IsEmpty([Measures].[ACTUAL.SUM])), 5, [Measures].[ACTUAL.SUM]))"
      ],
      "mapping": {
       "columns": [
        "ALL_MEASURES"
       ],
       "measures": [
        "[Measures].[ACTUAL.SUM]",
        "[Measures].[Budget type total]",
        "[Measures].[_% of Budget]",
        "[Measures].[% of Budget]"
       ],
       "rows": [
        "[Budget].[Budget Category].[BUDGET_TYPE] => [Budget].[Budget Category].[CATEGORY]"
       ]
      },
      "query": {
       "mdx": "SELECT NON EMPTY Order(Hierarchize(Union(Descendants({[Budget].[Budget Category].[AllMember]}, 1, SELF_AND_BEFORE), Descendants({[Budget].[Budget Category].[AllMember].[Expenses]}, [Budget].[Budget Category].[BUDGET_SUBTYPE]), Descendants({[Budget].[Budget Category].[AllMember].[Income]}, [Budget].[Budget Category].[BUDGET_SUBTYPE]), Descendants({[Budget].[Budget Category].[AllMember].[Expenses].[Operating]}, [Budget].[Budget Category].[CATEGORY]), Descendants({[Budget].[Budget Category].[AllMember].[Expenses].[Personnel]}, [Budget].[Budget Category].[CATEGORY]), Descendants({[Budget].[Budget Category].[AllMember].[Income].[Income]}, [Budget].[Budget Category].[CATEGORY]))), [Measures].[ACTUAL.SUM], DESC) ON ROWS, NON EMPTY {[Measures].[ACTUAL.SUM], [Measures].[Budget type total], [Measures].[_% of Budget], [Measures].[% of Budget]} ON COLUMNS FROM [budget] CELL PROPERTIES VALUE, FORMATTED_VALUE, BACK_COLOR, FORE_COLOR, FONT_FLAGS",
       "updateMode": "once"
      },
      "queryContext": [
       {
        "key": "mdx.hiddengrandtotals",
        "value": ""
       }
      ],
      "serverKey": "default",
      "widgetKey": "pivot-table"
     }
    },
    "tags": []
   },
   "outputs": [
    {
     "data": {
      "application/vnd.atoti.widget.v0+json": {
       "sessionId": "1715028826_FFQO6N",
       "sessionLocation": {
        "https": false,
        "port": 61113
       },
       "widgetCreationCode": "session.widget"
      },
      "text/html": [
       "<img height=\"0\" width=\"0\" src=\"data:,AAAAAAAAAAAAAAAAAAAAAAAAAAAAAAAAAAAAAAAAAAAAAAAACXBIWXMAABqTAAAakwH55E62\" />"
      ],
      "text/plain": [
       "Open the notebook in JupyterLab with the Atoti JupyterLab extension enabled to build this widget."
      ]
     },
     "metadata": {},
     "output_type": "display_data"
    }
   ],
   "source": [
    "session.widget"
   ]
  },
  {
   "cell_type": "markdown",
   "id": "235ce433-89de-4b83-b02b-b573a6f41fa0",
   "metadata": {},
   "source": [
    "What doesn't make sense is the Grand Total of 167.3% (we cannot simply sum up `Income` and `Expenses`). We can hide the Grand Total for _this particular widget_ from its context menu as shown below.\n",
    "\n",
    "<img src=\"https://data.atoti.io/notebooks/excel-and-atoti/img/hide_grandtotal.gif\" width=\"65%\"/>  \n",
    "\n",
    "💡 **Note:** The above will hide the Grand Total for all the measures in the columns.\n",
    "\n",
    "Alternatively, we can do a more definitive hide by applying a `where` condition in `m[\"% of Budget\"]` to return `None` value when there is no `BUDGET_TYPE` member. This will be applicable for _all use of the measure_."
   ]
  },
  {
   "cell_type": "code",
   "execution_count": 31,
   "id": "be3bd0c7-12bc-4e9b-880d-076d3b07dfb6",
   "metadata": {},
   "outputs": [],
   "source": [
    "m[\"% of Budget\"] = tt.where(\n",
    "    ~cube.levels[\"Budget\", \"Budget Category\", \"BUDGET_TYPE\"].isnull(),\n",
    "    tt.agg.sum(\n",
    "        m[\"ACTUAL.SUM\"] / m[\"Budget type total\"],\n",
    "        scope=tt.OriginScope(\n",
    "            levels={cube.levels[\"Budget\", \"Budget Category\", \"CATEGORY\"]}\n",
    "        ),\n",
    "    ),\n",
    ")\n",
    "\n",
    "# reapply formatting whenever the measure definition is updated\n",
    "m[\"% of Budget\"].formatter = \"DOUBLE[0.00%]\""
   ]
  },
  {
   "cell_type": "code",
   "execution_count": 32,
   "id": "30583981-8baf-4795-9488-7a14311604ee",
   "metadata": {
    "atoti": {
     "height": 549,
     "widget": {
      "columnWidths": {
       "[Budget].[Budget Category].[CATEGORY]": 150,
       "[Measures].[% of Subtype Budget]": 136
      },
      "filters": [
       "Generate([Budget].[Budget Category].Levels(2).Members, TopCount(Filter([Budget].[Budget Category].CurrentMember.Children, NOT IsEmpty([Measures].[ACTUAL.SUM])), 5, [Measures].[ACTUAL.SUM]))"
      ],
      "mapping": {
       "columns": [
        "ALL_MEASURES"
       ],
       "measures": [
        "[Measures].[ACTUAL.SUM]",
        "[Measures].[Budget type total]",
        "[Measures].[_% of Budget]",
        "[Measures].[% of Budget]"
       ],
       "rows": [
        "[Budget].[Budget Category].[BUDGET_TYPE] => [Budget].[Budget Category].[CATEGORY]"
       ]
      },
      "name": "% of Budget hidden at grand total level",
      "query": {
       "mdx": "SELECT NON EMPTY Order(Hierarchize(Union(Descendants({[Budget].[Budget Category].[AllMember]}, 1, SELF_AND_BEFORE), Descendants({[Budget].[Budget Category].[AllMember].[Expenses]}, [Budget].[Budget Category].[BUDGET_SUBTYPE]), Descendants({[Budget].[Budget Category].[AllMember].[Income]}, [Budget].[Budget Category].[BUDGET_SUBTYPE]), Descendants({[Budget].[Budget Category].[AllMember].[Expenses].[Operating]}, [Budget].[Budget Category].[CATEGORY]), Descendants({[Budget].[Budget Category].[AllMember].[Expenses].[Personnel]}, [Budget].[Budget Category].[CATEGORY]), Descendants({[Budget].[Budget Category].[AllMember].[Income].[Income]}, [Budget].[Budget Category].[CATEGORY]))), [Measures].[ACTUAL.SUM], DESC) ON ROWS, NON EMPTY {[Measures].[ACTUAL.SUM], [Measures].[Budget type total], [Measures].[_% of Budget], [Measures].[% of Budget]} ON COLUMNS FROM [budget] CELL PROPERTIES VALUE, FORMATTED_VALUE, BACK_COLOR, FORE_COLOR, FONT_FLAGS",
       "updateMode": "once"
      },
      "serverKey": "default",
      "widgetKey": "pivot-table"
     }
    },
    "tags": []
   },
   "outputs": [
    {
     "data": {
      "application/vnd.atoti.widget.v0+json": {
       "sessionId": "1715028826_FFQO6N",
       "sessionLocation": {
        "https": false,
        "port": 61113
       },
       "widgetCreationCode": "session.widget"
      },
      "text/html": [
       "<img height=\"0\" width=\"0\" src=\"data:,AAAAAAAAAAAAAAAAAAAAAAAAAAAAAAAAAAAAAAAAAAAAAAAACXBIWXMAABqTAAAakwH55E62\" />"
      ],
      "text/plain": [
       "Open the notebook in JupyterLab with the Atoti JupyterLab extension enabled to build this widget."
      ]
     },
     "metadata": {},
     "output_type": "display_data"
    }
   ],
   "source": [
    "session.widget"
   ]
  },
  {
   "cell_type": "markdown",
   "id": "c639dc2e-1580-4e09-9d7d-1b03bbe56678",
   "metadata": {},
   "source": [
    "### 15% reduction\n",
    "\n",
    "In the Excel, there is a column which takes 15% of the `ACTUAL` amount. We can have a similar measure for that."
   ]
  },
  {
   "cell_type": "code",
   "execution_count": 33,
   "id": "96edbbf6-dd0a-47f9-b69a-65e16ae2ccf6",
   "metadata": {},
   "outputs": [],
   "source": [
    "m[\"15% reduction\"] = m[\"ACTUAL.SUM\"] * 0.15"
   ]
  },
  {
   "cell_type": "markdown",
   "id": "f5633f86-f26b-4da6-9671-a71af069b55a",
   "metadata": {},
   "source": [
    "Taking that one step further, we could actually create the percentage reduce as a parameter measure to enable simulation. By default, there's zero reduction."
   ]
  },
  {
   "cell_type": "code",
   "execution_count": 34,
   "id": "012047ab-9485-4188-9d4f-1f8a66c5c389",
   "metadata": {},
   "outputs": [],
   "source": [
    "reduction_simulation = cube.create_parameter_simulation(\n",
    "    \"Reduction simulation\",\n",
    "    measures={\"% reduction\": 0.0},\n",
    "    levels=[cube.levels[\"Budget\", \"Budget Category\", \"CATEGORY\"]],\n",
    ")"
   ]
  },
  {
   "cell_type": "markdown",
   "id": "02340977-5741-4020-9fb8-02d6ca3114a5",
   "metadata": {},
   "source": [
    "We can compute the amount reduced simply by multiplying the `ACTUAL` amount by the parameter measure `% reduction`."
   ]
  },
  {
   "cell_type": "code",
   "execution_count": 35,
   "id": "6949cb20-1bcd-49e1-91fb-384860374c93",
   "metadata": {},
   "outputs": [],
   "source": [
    "m[\"Reduction\"] = m[\"ACTUAL.SUM\"] * m[\"% reduction\"]"
   ]
  },
  {
   "cell_type": "markdown",
   "id": "94df1b8c-c0db-4474-ac39-d856c15213e8",
   "metadata": {},
   "source": [
    "Ready to run some simulations? Let's reduce the amount by 15% and 20% and label the scenarios accordingly."
   ]
  },
  {
   "cell_type": "code",
   "execution_count": 36,
   "id": "8aa726bc-c1c4-4a3f-b7a6-c8d5237ddda5",
   "metadata": {},
   "outputs": [],
   "source": [
    "reduction_simulation += (\"15%\", None, 0.15)\n",
    "reduction_simulation += (\"20%\", None, 0.20)"
   ]
  },
  {
   "cell_type": "code",
   "execution_count": 37,
   "id": "7fe976bf-cf7a-4458-809b-5e2ec1822fc9",
   "metadata": {
    "atoti": {
     "height": 432,
     "widget": {
      "columnWidths": {
       "[Budget].[Budget Category].[CATEGORY]": 150,
       "[Measures].[% of Subtype Budget]": 136,
       "[Reduction simulation].[Reduction simulation].[Reduction simulation]": 141
      },
      "filters": [
       "Generate([Budget].[Budget Category].Levels(2).Members, TopCount(Filter([Budget].[Budget Category].CurrentMember.Children, NOT IsEmpty([Measures].[ACTUAL.SUM])), 5, [Measures].[ACTUAL.SUM]))"
      ],
      "mapping": {
       "columns": [
        "ALL_MEASURES"
       ],
       "measures": [
        "[Measures].[ACTUAL.SUM]",
        "[Measures].[Actual]",
        "[Measures].[% of Budget]",
        "[Measures].[15% reduction]",
        "[Measures].[% reduction]",
        "[Measures].[Reduction]"
       ],
       "rows": [
        "[Budget].[Budget Category].[BUDGET_TYPE] => [Budget].[Budget Category].[CATEGORY] => [Reduction simulation].[Reduction simulation].[Reduction simulation]"
       ]
      },
      "query": {
       "mdx": "SELECT NON EMPTY Order(Hierarchize(Union(Crossjoin(Union(Descendants({[Budget].[Budget Category].[AllMember]}, 1, SELF_AND_BEFORE), Descendants({[Budget].[Budget Category].[AllMember].[Expenses]}, [Budget].[Budget Category].[BUDGET_SUBTYPE]), Descendants({[Budget].[Budget Category].[AllMember].[Income]}, [Budget].[Budget Category].[BUDGET_SUBTYPE]), Descendants({[Budget].[Budget Category].[AllMember].[Expenses].[Operating]}, [Budget].[Budget Category].[CATEGORY]), Descendants({[Budget].[Budget Category].[AllMember].[Expenses].[Personnel]}, [Budget].[Budget Category].[CATEGORY]), Descendants({[Budget].[Budget Category].[AllMember].[Income].[Income]}, [Budget].[Budget Category].[CATEGORY])), [Reduction simulation].[Reduction simulation].DefaultMember), Crossjoin([Budget].[Budget Category].[AllMember].[Expenses].[Operating].[Maintenance and repairs], [Reduction simulation].[Reduction simulation].[Reduction simulation].Members))), [Measures].[ACTUAL.SUM], DESC) ON ROWS, NON EMPTY {[Measures].[ACTUAL.SUM], [Measures].[Actual], [Measures].[% of Budget], [Measures].[15% reduction], [Measures].[% reduction], [Measures].[Reduction]} ON COLUMNS FROM [budget] CELL PROPERTIES VALUE, FORMATTED_VALUE, BACK_COLOR, FORE_COLOR, FONT_FLAGS",
       "updateMode": "once"
      },
      "serverKey": "default",
      "widgetKey": "pivot-table"
     }
    },
    "tags": []
   },
   "outputs": [
    {
     "data": {
      "application/vnd.atoti.widget.v0+json": {
       "sessionId": "1715028826_FFQO6N",
       "sessionLocation": {
        "https": false,
        "port": 61113
       },
       "widgetCreationCode": "session.widget"
      },
      "text/html": [
       "<img height=\"0\" width=\"0\" src=\"data:,AAAAAAAAAAAAAAAAAAAAAAAAAAAAAAAAAAAAAAAAAAAAAAAACXBIWXMAABqTAAAakwH55E62\" />"
      ],
      "text/plain": [
       "Open the notebook in JupyterLab with the Atoti JupyterLab extension enabled to build this widget."
      ]
     },
     "metadata": {},
     "output_type": "display_data"
    }
   ],
   "source": [
    "session.widget"
   ]
  },
  {
   "cell_type": "code",
   "execution_count": 38,
   "id": "505b76d3-189b-4f56-8526-8675a065f413",
   "metadata": {},
   "outputs": [],
   "source": [
    "_initial_actual = tt.where(\n",
    "    cube.levels[\"Budget\", \"Budget Category\", \"BUDGET_TYPE\"] == \"Expenses\",\n",
    "    (-1 * m[\"ACTUAL.SUM\"]),\n",
    "    m[\"ACTUAL.SUM\"],\n",
    ")\n",
    "\n",
    "m[\"Actual\"] = tt.agg.sum(\n",
    "    _initial_actual * (1 - m[\"% reduction\"]),\n",
    "    scope=tt.OriginScope(\n",
    "        levels={cube.levels[\"Budget\", \"Budget Category\", \"BUDGET_TYPE\"]}\n",
    "    ),\n",
    ")\n",
    "\n",
    "m[\"Actual\"].formatter = \"DOUBLE[$#,##0;($#,##0)]\""
   ]
  },
  {
   "cell_type": "markdown",
   "id": "f657c02d-84b4-4693-94da-19f5300c1fea",
   "metadata": {},
   "source": [
    "We can see what the `ACTUAL` amount becomes after reduction, simply by updating its definition. We can see below, we incorporated `1 - m[\"% reduction\"]` into the formula below. Running the same visualization as the previous one, we can see how the `Actual` changed from the `ACTUAL.SUM` (we applied the reduction on `Actual` instead of `ACTUAL.SUM` just to show the difference)."
   ]
  },
  {
   "cell_type": "code",
   "execution_count": 39,
   "id": "654e7374-6d45-4704-8c03-4305c4cd3b0d",
   "metadata": {
    "atoti": {
     "height": 475,
     "widget": {
      "columnWidths": {
       "[Budget].[Budget Category].[CATEGORY]": 150,
       "[Measures].[% of Subtype Budget]": 136,
       "[Reduction simulation].[Reduction simulation].[Reduction simulation]": 141
      },
      "filters": [
       "Generate([Budget].[Budget Category].Levels(2).Members, TopCount(Filter([Budget].[Budget Category].CurrentMember.Children, NOT IsEmpty([Measures].[ACTUAL.SUM])), 5, [Measures].[ACTUAL.SUM]))"
      ],
      "mapping": {
       "columns": [
        "ALL_MEASURES"
       ],
       "measures": [
        "[Measures].[ACTUAL.SUM]",
        "[Measures].[Actual]",
        "[Measures].[% of Budget]",
        "[Measures].[15% reduction]",
        "[Measures].[% reduction]",
        "[Measures].[Reduction]"
       ],
       "rows": [
        "[Budget].[Budget Category].[BUDGET_TYPE] => [Budget].[Budget Category].[CATEGORY] => [Reduction simulation].[Reduction simulation].[Reduction simulation]"
       ]
      },
      "query": {
       "mdx": "SELECT NON EMPTY Order(Hierarchize(Union(Crossjoin(Union(Descendants({[Budget].[Budget Category].[AllMember]}, 1, SELF_AND_BEFORE), Descendants({[Budget].[Budget Category].[AllMember].[Expenses]}, [Budget].[Budget Category].[BUDGET_SUBTYPE]), Descendants({[Budget].[Budget Category].[AllMember].[Income]}, [Budget].[Budget Category].[BUDGET_SUBTYPE]), Descendants({[Budget].[Budget Category].[AllMember].[Expenses].[Operating]}, [Budget].[Budget Category].[CATEGORY]), Descendants({[Budget].[Budget Category].[AllMember].[Expenses].[Personnel]}, [Budget].[Budget Category].[CATEGORY]), Descendants({[Budget].[Budget Category].[AllMember].[Income].[Income]}, [Budget].[Budget Category].[CATEGORY])), [Reduction simulation].[Reduction simulation].DefaultMember), Crossjoin([Budget].[Budget Category].[AllMember].[Expenses].[Operating].[Maintenance and repairs], [Reduction simulation].[Reduction simulation].[Reduction simulation].Members))), [Measures].[ACTUAL.SUM], DESC) ON ROWS, NON EMPTY {[Measures].[ACTUAL.SUM], [Measures].[Actual], [Measures].[% of Budget], [Measures].[15% reduction], [Measures].[% reduction], [Measures].[Reduction]} ON COLUMNS FROM [budget] CELL PROPERTIES VALUE, FORMATTED_VALUE, BACK_COLOR, FORE_COLOR, FONT_FLAGS",
       "updateMode": "once"
      },
      "serverKey": "default",
      "widgetKey": "pivot-table"
     }
    },
    "tags": []
   },
   "outputs": [
    {
     "data": {
      "application/vnd.atoti.widget.v0+json": {
       "sessionId": "1715028826_FFQO6N",
       "sessionLocation": {
        "https": false,
        "port": 61113
       },
       "widgetCreationCode": "session.widget"
      },
      "text/html": [
       "<img height=\"0\" width=\"0\" src=\"data:,AAAAAAAAAAAAAAAAAAAAAAAAAAAAAAAAAAAAAAAAAAAAAAAACXBIWXMAABqTAAAakwH55E62\" />"
      ],
      "text/plain": [
       "Open the notebook in JupyterLab with the Atoti JupyterLab extension enabled to build this widget."
      ]
     },
     "metadata": {},
     "output_type": "display_data"
    }
   ],
   "source": [
    "session.widget"
   ]
  },
  {
   "cell_type": "markdown",
   "id": "1c8d2cbd-a272-45bc-81b3-63b86be39cb5",
   "metadata": {},
   "source": [
    "### Connecting Excel to Atoti cube  \n",
    "\n",
    "The below URL gives access to the Atoti UI."
   ]
  },
  {
   "cell_type": "code",
   "execution_count": 40,
   "id": "1531f5eb-d48c-4fc8-88b8-f70d9ffbf91d",
   "metadata": {},
   "outputs": [
    {
     "data": {
      "application/vnd.atoti.link.v0+json": {
       "path": "",
       "sessionLocation": {
        "https": false,
        "port": 61113
       }
      },
      "text/markdown": [
       "http://localhost:61113\n",
       "\n",
       "_Note_: This is the session's local URL: it may not be reachable if Atoti is running on another machine."
      ],
      "text/plain": [
       "http://localhost:61113 (This is the session's local URL: it may not be reachable if Atoti is running on another machine.)"
      ]
     },
     "execution_count": 40,
     "metadata": {},
     "output_type": "execute_result"
    }
   ],
   "source": [
    "session.link"
   ]
  },
  {
   "cell_type": "markdown",
   "id": "da95e085-1d59-4b99-bec3-e24feccbb72c",
   "metadata": {},
   "source": [
    "Access pre-saved dashboard."
   ]
  },
  {
   "cell_type": "code",
   "execution_count": 41,
   "id": "b44382c0-206a-4d58-afa8-730c28a50897",
   "metadata": {},
   "outputs": [
    {
     "data": {
      "application/vnd.atoti.link.v0+json": {
       "path": "#/dashboard/869",
       "sessionLocation": {
        "https": false,
        "port": 61113
       }
      },
      "text/markdown": [
       "http://localhost:61113/#/dashboard/869\n",
       "\n",
       "_Note_: This is the session's local URL: it may not be reachable if Atoti is running on another machine."
      ],
      "text/plain": [
       "http://localhost:61113/#/dashboard/869 (This is the session's local URL: it may not be reachable if Atoti is running on another machine.)"
      ]
     },
     "execution_count": 41,
     "metadata": {},
     "output_type": "execute_result"
    }
   ],
   "source": [
    "session.link / \"#/dashboard/869\""
   ]
  },
  {
   "cell_type": "markdown",
   "id": "865ed28e-31bf-457d-aab8-52731e7e74ce",
   "metadata": {},
   "source": [
    "Use the below link to connect from Excel to Atoti. Refer to __[Atoti documentation](https://docs.atoti.io/latest/how_tos/connect_with_excel.html)__ for the steps."
   ]
  },
  {
   "cell_type": "code",
   "execution_count": 42,
   "id": "e172cce6-38dd-42ad-90f9-c0b451953f93",
   "metadata": {},
   "outputs": [
    {
     "data": {
      "application/vnd.atoti.link.v0+json": {
       "path": "xmla",
       "sessionLocation": {
        "https": false,
        "port": 61113
       }
      },
      "text/markdown": [
       "http://localhost:61113/xmla\n",
       "\n",
       "_Note_: This is the session's local URL: it may not be reachable if Atoti is running on another machine."
      ],
      "text/plain": [
       "http://localhost:61113/xmla (This is the session's local URL: it may not be reachable if Atoti is running on another machine.)"
      ]
     },
     "execution_count": 42,
     "metadata": {},
     "output_type": "execute_result"
    }
   ],
   "source": [
    "session.link / \"xmla\""
   ]
  },
  {
   "cell_type": "markdown",
   "id": "8a89ca0d-3dd4-406e-9a0d-169fdf954f07",
   "metadata": {},
   "source": [
    "<img src=\"https://data.atoti.io/notebooks/excel-and-atoti/img/connecting_from_excel.gif\" width=\"60%\" />"
   ]
  },
  {
   "cell_type": "markdown",
   "id": "214eebca-918a-4b26-912e-639aef2f4f3b",
   "metadata": {},
   "source": [
    "## Bonus on extended data\n",
    "\n",
    "Access the below dashboard if `extended=True`. We can have real-time monitoring from the dashboard."
   ]
  },
  {
   "cell_type": "code",
   "execution_count": 43,
   "id": "940005a6-2a50-4deb-a14b-e6f2cb4c8293",
   "metadata": {},
   "outputs": [
    {
     "data": {
      "application/vnd.atoti.link.v0+json": {
       "path": "#/dashboard/2ca",
       "sessionLocation": {
        "https": false,
        "port": 61113
       }
      },
      "text/markdown": [
       "http://localhost:61113/#/dashboard/2ca\n",
       "\n",
       "_Note_: This is the session's local URL: it may not be reachable if Atoti is running on another machine."
      ],
      "text/plain": [
       "http://localhost:61113/#/dashboard/2ca (This is the session's local URL: it may not be reachable if Atoti is running on another machine.)"
      ]
     },
     "execution_count": 43,
     "metadata": {},
     "output_type": "execute_result"
    }
   ],
   "source": [
    "session.link / \"#/dashboard/2ca\""
   ]
  },
  {
   "cell_type": "markdown",
   "id": "c1f3cfa0-d01c-4283-a183-80076e369249",
   "metadata": {},
   "source": [
    "We can add the quick filter to toggle between different month's budget within the same dashboard.  \n",
    "\n",
    "<img src=\"https://data.atoti.io/notebooks/excel-and-atoti/img/quick_filter.gif\" width=\"50%\"/>"
   ]
  },
  {
   "cell_type": "markdown",
   "id": "c2e01da9-07f1-4091-8e0b-9db5118e2b99",
   "metadata": {
    "tags": []
   },
   "source": [
    "### Maintaining a single data file with real-time data loading\n",
    "\n",
    "The advantage of the extended configuration is that only 1 data file is involved across the months. We can set up a file monitoring service as shown in the cell below. This will allow users to update a single file with future budgets and getting them uploaded to Atoti upon saving.  \n",
    "\n",
    "In the example below, we monitor the data folder for incoming files. So it's really up to users if they want to maintain a single data file or multiple. However, do ensure the data structure is consistent through all the data files."
   ]
  },
  {
   "cell_type": "code",
   "execution_count": 44,
   "id": "3635779c-a5a0-47f5-9df6-782201ef98cd",
   "metadata": {},
   "outputs": [],
   "source": [
    "from watchdog.events import FileCreatedEvent, FileSystemEventHandler\n",
    "from watchdog.observers.polling import PollingObserver\n",
    "\n",
    "\n",
    "class AtotiWatcher(FileSystemEventHandler):\n",
    "    def on_created(self, event: FileCreatedEvent):\n",
    "        try:\n",
    "            print(\"File modified/created\", event.src_path)\n",
    "            budget_tbl.load_csv(event.src_path)\n",
    "            print(\"Loading completed\", event.src_path)\n",
    "        except Exception as error:\n",
    "            print(error)\n",
    "\n",
    "\n",
    "observer = PollingObserver()\n",
    "observer.schedule(AtotiWatcher(), \"data\")\n",
    "observer.start()"
   ]
  },
  {
   "cell_type": "markdown",
   "id": "e88f5941-ff53-4fc9-8f6a-f0dbaa215b84",
   "metadata": {},
   "source": [
    "Make some modification to the `.data/semi-annual-budget.csv` file. Re-run the query below to see new the newly added data. The measures automatically computes the updated values based on the new data."
   ]
  },
  {
   "cell_type": "code",
   "execution_count": 45,
   "id": "ae5ab534-e22f-408f-a886-99d8548c383f",
   "metadata": {
    "atoti": {
     "height": 169,
     "widget": {
      "mapping": {
       "columns": [
        "ALL_MEASURES"
       ],
       "measures": [
        "[Measures].[Actual]",
        "[Measures].[Estimated]",
        "[Measures].[Difference]"
       ],
       "rows": [
        "[Budget].[Budget Category].[BUDGET_TYPE]"
       ]
      },
      "query": {
       "mdx": "SELECT NON EMPTY {[Measures].[Actual], [Measures].[Estimated], [Measures].[Difference]} ON COLUMNS, NON EMPTY Hierarchize(Descendants({[Budget].[Budget Category].[AllMember]}, 1, SELF_AND_BEFORE)) ON ROWS FROM [budget] CELL PROPERTIES VALUE, FORMATTED_VALUE, BACK_COLOR, FORE_COLOR, FONT_FLAGS",
       "updateMode": "once"
      },
      "serverKey": "default",
      "widgetKey": "pivot-table"
     }
    },
    "tags": []
   },
   "outputs": [
    {
     "data": {
      "application/vnd.atoti.widget.v0+json": {
       "sessionId": "1715028826_FFQO6N",
       "sessionLocation": {
        "https": false,
        "port": 61113
       },
       "widgetCreationCode": "session.widget"
      },
      "text/html": [
       "<img height=\"0\" width=\"0\" src=\"data:,AAAAAAAAAAAAAAAAAAAAAAAAAAAAAAAAAAAAAAAAAAAAAAAACXBIWXMAABqTAAAakwH55E62\" />"
      ],
      "text/plain": [
       "Open the notebook in JupyterLab with the Atoti JupyterLab extension enabled to build this widget."
      ]
     },
     "metadata": {},
     "output_type": "display_data"
    }
   ],
   "source": [
    "session.widget"
   ]
  },
  {
   "cell_type": "markdown",
   "id": "d8162fc5-2295-462f-88ef-f2867d9a044b",
   "metadata": {},
   "source": [
    "### Real-time dashboarding\n",
    "\n",
    "We can set the widgets in dashboard to [real-time mode](https://activeviam.com/activeui/documentation/5.0.6/docs/user-guides/real-time-updates). As watchdog picks up the modification and loads data into Atoti, we will see the changes reflected real-time.  \n",
    "\n",
    "<img src=\"https://data.atoti.io/notebooks/excel-and-atoti/img/realtime.gif\" width=\"60%\" />  \n",
    "\n",
    "Run the below command to stop the monitoring."
   ]
  },
  {
   "cell_type": "code",
   "execution_count": 46,
   "id": "cec67f07-57e5-4cc4-aa7a-7489d0a05203",
   "metadata": {},
   "outputs": [],
   "source": [
    "observer.stop()\n",
    "observer.join()"
   ]
  },
  {
   "cell_type": "markdown",
   "id": "1da58b5e-dff8-46b9-b5b9-1da253556064",
   "metadata": {
    "editable": true,
    "slideshow": {
     "slide_type": ""
    },
    "tags": []
   },
   "source": [
    "# Recap \n",
    "\n",
    "#### 1. Creating, Filtering, and Sorting Visualisations in Atoti \n",
    "<img src=\"https://data.atoti.io/notebooks/excel-and-atoti/img/sorting.gif\" />\n",
    "\n",
    "#### 2. Connecting Excel with Atoti\n",
    "<img src=\"https://data.atoti.io/notebooks/excel-and-atoti/img/connecting_from_excel.gif\" width=\"60%\" />\n",
    "\n",
    "\n",
    "#### 3. Real-time dashboarding\n",
    "\n",
    "We can set the widgets in dashboard to [real-time mode](https://activeviam.com/activeui/documentation/5.0.6/docs/user-guides/real-time-updates).  \n",
    "As watchdog picks up the modification and loads data into Atoti, we will see the changes reflected real-time.  \n",
    "<img src=\"https://data.atoti.io/notebooks/excel-and-atoti/img/realtime.gif\" width=\"60%\" />  \n",
    "\n",
    "\n",
    "\n",
    "## Follow us on \n",
    "\n",
    "### <img src=\"https://data.atoti.io/notebooks/covid-analytics/img/linkedin.png\" width = \"20px\"> LinkedIn https://www.linkedin.com/showcase/atoti  \n",
    "### <img src=\"https://data.atoti.io/notebooks/covid-analytics/img/twitter.png\" width = \"20px\"> Twitter   https://twitter.com/atoti_io  \n",
    "### <img src=\"https://data.atoti.io/notebooks/covid-analytics/img/youtube.png\" width = \"20px\"> YouTube  https://www.youtube.com/c/atoti  \n",
    "### <img src=\"https://data.atoti.io/notebooks/covid-analytics/img/medium.png\" width = \"20px\"> Medium   https://medium.com/atoti  \n",
    "\n",
    "\n",
    "## For more information\n",
    "\n",
    "### <img src=\"https://data.atoti.io/notebooks/covid-analytics/img/atoti.png\" width = \"20px\"> Go to https://www.atoti.io to subscribe to our newsletter for the latest information sharing."
   ]
  },
  {
   "cell_type": "markdown",
   "id": "4f8caf3a-0ec5-418f-9446-d0af2c462c4a",
   "metadata": {},
   "source": [
    "<div style=\"text-align: center;\"><a href=\"https://www.atoti.io/?utm_source=gallery&utm_content=excel-and-atoti\" target=\"_blank\" rel=\"noopener noreferrer\"><img src=\"https://data.atoti.io/notebooks/banners/Your-turn-to-try-Atoti.jpg\" alt=\"Try Atoti\"></a></div>"
   ]
  }
 ],
 "metadata": {
  "kernelspec": {
   "display_name": "Python 3 (ipykernel)",
   "language": "python",
   "name": "python3"
  },
  "language_info": {
   "codemirror_mode": {
    "name": "ipython",
    "version": 3
   },
   "file_extension": ".py",
   "mimetype": "text/x-python",
   "name": "python",
   "nbconvert_exporter": "python",
   "pygments_lexer": "ipython3",
   "version": "3.11.9"
  }
 },
 "nbformat": 4,
 "nbformat_minor": 5
}
