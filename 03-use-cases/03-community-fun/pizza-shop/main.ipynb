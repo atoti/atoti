{
 "cells": [
  {
   "cell_type": "markdown",
   "id": "3fff47ba-8753-46f3-94f0-59674629f17d",
   "metadata": {},
   "source": [
    "# Pizza Sales! 🍕\n",
    "\n",
    "Welcome to our Pizza Sales Challenge, here you’ll be playing the role of a Consultant hired by Plato's Pizza, a Greek-inspired pizza place in NYC, to help the restaurant use data to improve operations. You've received the following note:\n",
    "\n",
    "> Welcome aboard, we're so glad you're here to help!\n",
    "> Things are going OK here at Plato's, but there's room for improvement. We've been collecting transactional data for the past year, but really haven't been able to put it to good use. Hoping you can analyze the data and put together a report to help us find opportunities to drive more sales and work more efficiently.\n",
    ">\n",
    "> -Plato, CEO\n",
    "\n",
    "Plato's Pizza has historically been using Excel for their sales reporting needs, but want to see if there could be a more effective, scalable solution. They want to be able to monitor key business metrics such as: \n",
    "\n",
    "* What days and times do we tend to be busiest?\n",
    "* How many pizzas are we making during peak periods?\n",
    "* What are our best and worst-selling pizzas?\n",
    "* What's our average order value?\n",
    "\n",
    "Let's use Atoti to analyze Plato's Pizza sales, and address their operational needs.\n",
    "\n",
    "**💡 Note:** Our pizza dataset comes from [Kaggle](https://www.kaggle.com/datasets/shilongzhuang/pizza-sales/data), feel free to check it out!"
   ]
  },
  {
   "cell_type": "markdown",
   "id": "946d8335-c63a-4bae-a5cc-5c89533550f9",
   "metadata": {},
   "source": [
    "## Import Libraries\n",
    "\n",
    "First off, let's import the necessary libraries."
   ]
  },
  {
   "cell_type": "code",
   "execution_count": 1,
   "id": "2aa389e9-1a5a-42cd-9315-45bf97a41b0b",
   "metadata": {},
   "outputs": [],
   "source": [
    "import atoti\n",
    "import pandas as pd"
   ]
  },
  {
   "cell_type": "markdown",
   "id": "6a7c34a3-c091-494c-b6b8-7c8f29608a45",
   "metadata": {},
   "source": [
    "## Instantiate Atoti Server and UI\n",
    "\n",
    "Now, we'll spin up the Atoti server and link the session to our web-based Atoti UI.\n",
    "\n",
    "**💡 Note:**  https://docs.atoti.io/latest/api/atoti.Session.html#atoti.Session"
   ]
  },
  {
   "cell_type": "code",
   "execution_count": 2,
   "id": "50b174f8-ce5e-4a45-a62f-f12d59b2a2c8",
   "metadata": {},
   "outputs": [
    {
     "data": {
      "application/vnd.atoti.link.v0+json": {
       "path": "",
       "sessionLocation": {
        "https": false,
        "port": 9092
       }
      },
      "text/markdown": [
       "http://localhost:9092\n",
       "\n",
       "_Note_: This is the session's local URL: it may not be reachable if Atoti is running on another machine."
      ],
      "text/plain": [
       "http://localhost:9092 (This is the session's local URL: it may not be reachable if Atoti is running on another machine.)"
      ]
     },
     "execution_count": 2,
     "metadata": {},
     "output_type": "execute_result"
    }
   ],
   "source": [
    "# Start an Atoti Server instance\n",
    "session = atoti.Session(\n",
    "    user_content_storage=\"./content\",\n",
    "    port=9092,\n",
    "    java_options=[\"-Xms1G\", \"-Xmx10G\"],\n",
    ")\n",
    "session.link"
   ]
  },
  {
   "cell_type": "markdown",
   "id": "6b39f719-9784-42c4-ad91-d23a0524715a",
   "metadata": {},
   "source": [
    "## Inspect Data Quality Using Pandas\n",
    "\n",
    "Next, let's load up Pandas to quickly take a look at the pizza sales data, inspect it's quality, and make quick formatting changes if need be."
   ]
  },
  {
   "cell_type": "code",
   "execution_count": 3,
   "id": "b07beac5-0f02-4ed4-9a85-39587f819ee8",
   "metadata": {},
   "outputs": [
    {
     "data": {
      "text/html": [
       "<div>\n",
       "<style scoped>\n",
       "    .dataframe tbody tr th:only-of-type {\n",
       "        vertical-align: middle;\n",
       "    }\n",
       "\n",
       "    .dataframe tbody tr th {\n",
       "        vertical-align: top;\n",
       "    }\n",
       "\n",
       "    .dataframe thead th {\n",
       "        text-align: right;\n",
       "    }\n",
       "</style>\n",
       "<table border=\"1\" class=\"dataframe\">\n",
       "  <thead>\n",
       "    <tr style=\"text-align: right;\">\n",
       "      <th></th>\n",
       "      <th>order_details_id</th>\n",
       "      <th>order_id</th>\n",
       "      <th>pizza_id</th>\n",
       "      <th>quantity</th>\n",
       "      <th>order_date</th>\n",
       "      <th>order_time</th>\n",
       "      <th>unit_price</th>\n",
       "      <th>total_price</th>\n",
       "      <th>pizza_size</th>\n",
       "      <th>pizza_category</th>\n",
       "      <th>pizza_ingredients</th>\n",
       "      <th>pizza_name</th>\n",
       "    </tr>\n",
       "  </thead>\n",
       "  <tbody>\n",
       "    <tr>\n",
       "      <th>0</th>\n",
       "      <td>1</td>\n",
       "      <td>1</td>\n",
       "      <td>hawaiian_m</td>\n",
       "      <td>1</td>\n",
       "      <td>1/1/15</td>\n",
       "      <td>11:38:36</td>\n",
       "      <td>13.25</td>\n",
       "      <td>13.25</td>\n",
       "      <td>M</td>\n",
       "      <td>Classic</td>\n",
       "      <td>Sliced Ham, Pineapple, Mozzarella Cheese</td>\n",
       "      <td>The Hawaiian Pizza</td>\n",
       "    </tr>\n",
       "    <tr>\n",
       "      <th>1</th>\n",
       "      <td>2</td>\n",
       "      <td>2</td>\n",
       "      <td>classic_dlx_m</td>\n",
       "      <td>1</td>\n",
       "      <td>1/1/15</td>\n",
       "      <td>11:57:40</td>\n",
       "      <td>16.00</td>\n",
       "      <td>16.00</td>\n",
       "      <td>M</td>\n",
       "      <td>Classic</td>\n",
       "      <td>Pepperoni, Mushrooms, Red Onions, Red Peppers,...</td>\n",
       "      <td>The Classic Deluxe Pizza</td>\n",
       "    </tr>\n",
       "    <tr>\n",
       "      <th>2</th>\n",
       "      <td>3</td>\n",
       "      <td>2</td>\n",
       "      <td>five_cheese_l</td>\n",
       "      <td>1</td>\n",
       "      <td>1/1/15</td>\n",
       "      <td>11:57:40</td>\n",
       "      <td>18.50</td>\n",
       "      <td>18.50</td>\n",
       "      <td>L</td>\n",
       "      <td>Veggie</td>\n",
       "      <td>Mozzarella Cheese, Provolone Cheese, Smoked Go...</td>\n",
       "      <td>The Five Cheese Pizza</td>\n",
       "    </tr>\n",
       "    <tr>\n",
       "      <th>3</th>\n",
       "      <td>4</td>\n",
       "      <td>2</td>\n",
       "      <td>ital_supr_l</td>\n",
       "      <td>1</td>\n",
       "      <td>1/1/15</td>\n",
       "      <td>11:57:40</td>\n",
       "      <td>20.75</td>\n",
       "      <td>20.75</td>\n",
       "      <td>L</td>\n",
       "      <td>Supreme</td>\n",
       "      <td>Calabrese Salami, Capocollo, Tomatoes, Red Oni...</td>\n",
       "      <td>The Italian Supreme Pizza</td>\n",
       "    </tr>\n",
       "    <tr>\n",
       "      <th>4</th>\n",
       "      <td>5</td>\n",
       "      <td>2</td>\n",
       "      <td>mexicana_m</td>\n",
       "      <td>1</td>\n",
       "      <td>1/1/15</td>\n",
       "      <td>11:57:40</td>\n",
       "      <td>16.00</td>\n",
       "      <td>16.00</td>\n",
       "      <td>M</td>\n",
       "      <td>Veggie</td>\n",
       "      <td>Tomatoes, Red Peppers, Jalapeno Peppers, Red O...</td>\n",
       "      <td>The Mexicana Pizza</td>\n",
       "    </tr>\n",
       "  </tbody>\n",
       "</table>\n",
       "</div>"
      ],
      "text/plain": [
       "   order_details_id  order_id       pizza_id  quantity order_date order_time  \\\n",
       "0                 1         1     hawaiian_m         1     1/1/15   11:38:36   \n",
       "1                 2         2  classic_dlx_m         1     1/1/15   11:57:40   \n",
       "2                 3         2  five_cheese_l         1     1/1/15   11:57:40   \n",
       "3                 4         2    ital_supr_l         1     1/1/15   11:57:40   \n",
       "4                 5         2     mexicana_m         1     1/1/15   11:57:40   \n",
       "\n",
       "   unit_price  total_price pizza_size pizza_category  \\\n",
       "0       13.25        13.25          M        Classic   \n",
       "1       16.00        16.00          M        Classic   \n",
       "2       18.50        18.50          L         Veggie   \n",
       "3       20.75        20.75          L        Supreme   \n",
       "4       16.00        16.00          M         Veggie   \n",
       "\n",
       "                                   pizza_ingredients  \\\n",
       "0           Sliced Ham, Pineapple, Mozzarella Cheese   \n",
       "1  Pepperoni, Mushrooms, Red Onions, Red Peppers,...   \n",
       "2  Mozzarella Cheese, Provolone Cheese, Smoked Go...   \n",
       "3  Calabrese Salami, Capocollo, Tomatoes, Red Oni...   \n",
       "4  Tomatoes, Red Peppers, Jalapeno Peppers, Red O...   \n",
       "\n",
       "                  pizza_name  \n",
       "0         The Hawaiian Pizza  \n",
       "1   The Classic Deluxe Pizza  \n",
       "2      The Five Cheese Pizza  \n",
       "3  The Italian Supreme Pizza  \n",
       "4         The Mexicana Pizza  "
      ]
     },
     "execution_count": 3,
     "metadata": {},
     "output_type": "execute_result"
    }
   ],
   "source": [
    "# Read CSV into Pandas DataFrame\n",
    "pizza_sales_df = pd.read_csv(\"s3://data.atoti.io/notebooks/pizza-sales/pizza_sales.csv\")\n",
    "pizza_sales_df.head()"
   ]
  },
  {
   "cell_type": "markdown",
   "id": "64c843f2-085a-4540-99e8-b1eabce50571",
   "metadata": {},
   "source": [
    "Nice, looks like we're working with some pretty intact data."
   ]
  },
  {
   "cell_type": "code",
   "execution_count": 4,
   "id": "d88ebed4-ba96-4493-97c8-93e7ed3219e2",
   "metadata": {},
   "outputs": [
    {
     "data": {
      "text/plain": [
       "order_details_id     0\n",
       "order_id             0\n",
       "pizza_id             0\n",
       "quantity             0\n",
       "order_date           0\n",
       "order_time           0\n",
       "unit_price           0\n",
       "total_price          0\n",
       "pizza_size           0\n",
       "pizza_category       0\n",
       "pizza_ingredients    0\n",
       "pizza_name           0\n",
       "dtype: int64"
      ]
     },
     "execution_count": 4,
     "metadata": {},
     "output_type": "execute_result"
    }
   ],
   "source": [
    "# Check null counts for each column\n",
    "pizza_sales_df.isnull().sum(axis=0)"
   ]
  },
  {
   "cell_type": "markdown",
   "id": "7b516ab3-0622-4895-b487-c9d333e38040",
   "metadata": {},
   "source": [
    "Let's take a look at the data types of our columns to see the intended hierarchies vs. measures (non-numerical vs. numerical columns) that Atoti will use when loaded."
   ]
  },
  {
   "cell_type": "code",
   "execution_count": 5,
   "id": "a1fbefb0-b441-4e2b-81ce-cdb78af09daf",
   "metadata": {},
   "outputs": [
    {
     "data": {
      "text/plain": [
       "order_details_id       int64\n",
       "order_id               int64\n",
       "pizza_id              object\n",
       "quantity               int64\n",
       "order_date            object\n",
       "order_time            object\n",
       "unit_price           float64\n",
       "total_price          float64\n",
       "pizza_size            object\n",
       "pizza_category        object\n",
       "pizza_ingredients     object\n",
       "pizza_name            object\n",
       "dtype: object"
      ]
     },
     "execution_count": 5,
     "metadata": {},
     "output_type": "execute_result"
    }
   ],
   "source": [
    "# Check column data types\n",
    "pizza_sales_df.dtypes"
   ]
  },
  {
   "cell_type": "markdown",
   "id": "08534124-91bc-4e85-8506-e79ce42a7e37",
   "metadata": {},
   "source": [
    "## Format Data in Pandas\n",
    "\n",
    "Upon inspection, it looks like a couple things need to be updated:\n",
    "\n",
    "* Our `order_date` column needs to be set to a DateTime data type.\n",
    "* Intended hierarchies set as numerical data types should be set as strings for Atoti (e.g. no need to aggregate order ids!)\n",
    "\n",
    "**💡 Note:**  https://docs.atoti.io/latest/getting_started/tutorial/tutorial.html#Multidimensional-concepts"
   ]
  },
  {
   "cell_type": "code",
   "execution_count": 6,
   "id": "651bc1c3-a49f-470d-aa75-23dbe0760773",
   "metadata": {},
   "outputs": [
    {
     "data": {
      "text/html": [
       "<div>\n",
       "<style scoped>\n",
       "    .dataframe tbody tr th:only-of-type {\n",
       "        vertical-align: middle;\n",
       "    }\n",
       "\n",
       "    .dataframe tbody tr th {\n",
       "        vertical-align: top;\n",
       "    }\n",
       "\n",
       "    .dataframe thead th {\n",
       "        text-align: right;\n",
       "    }\n",
       "</style>\n",
       "<table border=\"1\" class=\"dataframe\">\n",
       "  <thead>\n",
       "    <tr style=\"text-align: right;\">\n",
       "      <th></th>\n",
       "      <th>order_details_id</th>\n",
       "      <th>order_id</th>\n",
       "      <th>pizza_id</th>\n",
       "      <th>quantity</th>\n",
       "      <th>order_date</th>\n",
       "      <th>order_time</th>\n",
       "      <th>unit_price</th>\n",
       "      <th>total_price</th>\n",
       "      <th>pizza_size</th>\n",
       "      <th>pizza_category</th>\n",
       "      <th>pizza_ingredients</th>\n",
       "      <th>pizza_name</th>\n",
       "      <th>order_datetime</th>\n",
       "    </tr>\n",
       "  </thead>\n",
       "  <tbody>\n",
       "    <tr>\n",
       "      <th>0</th>\n",
       "      <td>1</td>\n",
       "      <td>1</td>\n",
       "      <td>hawaiian_m</td>\n",
       "      <td>1</td>\n",
       "      <td>1/1/15</td>\n",
       "      <td>11:38:36</td>\n",
       "      <td>13.25</td>\n",
       "      <td>13.25</td>\n",
       "      <td>M</td>\n",
       "      <td>Classic</td>\n",
       "      <td>Sliced Ham, Pineapple, Mozzarella Cheese</td>\n",
       "      <td>The Hawaiian Pizza</td>\n",
       "      <td>2015-01-01 11:38:36</td>\n",
       "    </tr>\n",
       "    <tr>\n",
       "      <th>1</th>\n",
       "      <td>2</td>\n",
       "      <td>2</td>\n",
       "      <td>classic_dlx_m</td>\n",
       "      <td>1</td>\n",
       "      <td>1/1/15</td>\n",
       "      <td>11:57:40</td>\n",
       "      <td>16.00</td>\n",
       "      <td>16.00</td>\n",
       "      <td>M</td>\n",
       "      <td>Classic</td>\n",
       "      <td>Pepperoni, Mushrooms, Red Onions, Red Peppers,...</td>\n",
       "      <td>The Classic Deluxe Pizza</td>\n",
       "      <td>2015-01-01 11:57:40</td>\n",
       "    </tr>\n",
       "    <tr>\n",
       "      <th>2</th>\n",
       "      <td>3</td>\n",
       "      <td>2</td>\n",
       "      <td>five_cheese_l</td>\n",
       "      <td>1</td>\n",
       "      <td>1/1/15</td>\n",
       "      <td>11:57:40</td>\n",
       "      <td>18.50</td>\n",
       "      <td>18.50</td>\n",
       "      <td>L</td>\n",
       "      <td>Veggie</td>\n",
       "      <td>Mozzarella Cheese, Provolone Cheese, Smoked Go...</td>\n",
       "      <td>The Five Cheese Pizza</td>\n",
       "      <td>2015-01-01 11:57:40</td>\n",
       "    </tr>\n",
       "    <tr>\n",
       "      <th>3</th>\n",
       "      <td>4</td>\n",
       "      <td>2</td>\n",
       "      <td>ital_supr_l</td>\n",
       "      <td>1</td>\n",
       "      <td>1/1/15</td>\n",
       "      <td>11:57:40</td>\n",
       "      <td>20.75</td>\n",
       "      <td>20.75</td>\n",
       "      <td>L</td>\n",
       "      <td>Supreme</td>\n",
       "      <td>Calabrese Salami, Capocollo, Tomatoes, Red Oni...</td>\n",
       "      <td>The Italian Supreme Pizza</td>\n",
       "      <td>2015-01-01 11:57:40</td>\n",
       "    </tr>\n",
       "    <tr>\n",
       "      <th>4</th>\n",
       "      <td>5</td>\n",
       "      <td>2</td>\n",
       "      <td>mexicana_m</td>\n",
       "      <td>1</td>\n",
       "      <td>1/1/15</td>\n",
       "      <td>11:57:40</td>\n",
       "      <td>16.00</td>\n",
       "      <td>16.00</td>\n",
       "      <td>M</td>\n",
       "      <td>Veggie</td>\n",
       "      <td>Tomatoes, Red Peppers, Jalapeno Peppers, Red O...</td>\n",
       "      <td>The Mexicana Pizza</td>\n",
       "      <td>2015-01-01 11:57:40</td>\n",
       "    </tr>\n",
       "  </tbody>\n",
       "</table>\n",
       "</div>"
      ],
      "text/plain": [
       "  order_details_id order_id       pizza_id  quantity order_date order_time  \\\n",
       "0                1        1     hawaiian_m         1     1/1/15   11:38:36   \n",
       "1                2        2  classic_dlx_m         1     1/1/15   11:57:40   \n",
       "2                3        2  five_cheese_l         1     1/1/15   11:57:40   \n",
       "3                4        2    ital_supr_l         1     1/1/15   11:57:40   \n",
       "4                5        2     mexicana_m         1     1/1/15   11:57:40   \n",
       "\n",
       "   unit_price  total_price pizza_size pizza_category  \\\n",
       "0       13.25        13.25          M        Classic   \n",
       "1       16.00        16.00          M        Classic   \n",
       "2       18.50        18.50          L         Veggie   \n",
       "3       20.75        20.75          L        Supreme   \n",
       "4       16.00        16.00          M         Veggie   \n",
       "\n",
       "                                   pizza_ingredients  \\\n",
       "0           Sliced Ham, Pineapple, Mozzarella Cheese   \n",
       "1  Pepperoni, Mushrooms, Red Onions, Red Peppers,...   \n",
       "2  Mozzarella Cheese, Provolone Cheese, Smoked Go...   \n",
       "3  Calabrese Salami, Capocollo, Tomatoes, Red Oni...   \n",
       "4  Tomatoes, Red Peppers, Jalapeno Peppers, Red O...   \n",
       "\n",
       "                  pizza_name      order_datetime  \n",
       "0         The Hawaiian Pizza 2015-01-01 11:38:36  \n",
       "1   The Classic Deluxe Pizza 2015-01-01 11:57:40  \n",
       "2      The Five Cheese Pizza 2015-01-01 11:57:40  \n",
       "3  The Italian Supreme Pizza 2015-01-01 11:57:40  \n",
       "4         The Mexicana Pizza 2015-01-01 11:57:40  "
      ]
     },
     "execution_count": 6,
     "metadata": {},
     "output_type": "execute_result"
    }
   ],
   "source": [
    "# Convert `order_date` and `order_time` to consolidated datetime\n",
    "pizza_sales_df[\"order_datetime\"] = pd.to_datetime(\n",
    "    pizza_sales_df[\"order_date\"] + \" \" + pizza_sales_df[\"order_time\"], format=\"mixed\"\n",
    ")\n",
    "\n",
    "# Cast as string data types and view modified DataFrame\n",
    "pizza_sales_df[\"order_details_id\"] = pizza_sales_df[\"order_details_id\"].astype(str)\n",
    "pizza_sales_df[\"order_id\"] = pizza_sales_df[\"order_id\"].astype(str)\n",
    "pizza_sales_df.head()"
   ]
  },
  {
   "cell_type": "markdown",
   "id": "44bfd665-4d15-43c9-98cd-7f14c2cf0a0f",
   "metadata": {},
   "source": [
    "Lastly, let's take a look at our column data types again to verify our data formatting. Great, looks like our changes went through!"
   ]
  },
  {
   "cell_type": "code",
   "execution_count": 7,
   "id": "375b9d42-ae3e-43eb-b365-a405cf8a5dc5",
   "metadata": {},
   "outputs": [
    {
     "data": {
      "text/plain": [
       "order_details_id             object\n",
       "order_id                     object\n",
       "pizza_id                     object\n",
       "quantity                      int64\n",
       "order_date                   object\n",
       "order_time                   object\n",
       "unit_price                  float64\n",
       "total_price                 float64\n",
       "pizza_size                   object\n",
       "pizza_category               object\n",
       "pizza_ingredients            object\n",
       "pizza_name                   object\n",
       "order_datetime       datetime64[ns]\n",
       "dtype: object"
      ]
     },
     "execution_count": 7,
     "metadata": {},
     "output_type": "execute_result"
    }
   ],
   "source": [
    "# Check new column data types\n",
    "pizza_sales_df.dtypes"
   ]
  },
  {
   "cell_type": "markdown",
   "id": "d35c1921-0ebf-4526-9ec1-ee346a39ba9e",
   "metadata": {},
   "source": [
    "## Load Pandas DataFrame Into Atoti Cube\n",
    "\n",
    "Now, let's load our formatted data from our Pandas DataFrame to an Atoti table using the `read_pandas()` function, verify that the data was loaded properly, and create our Atoti cube.\n",
    "\n",
    "**💡 Note:**  https://docs.atoti.io/latest/api/atoti.Session.read_pandas.html#atoti.Session.read_pandas"
   ]
  },
  {
   "cell_type": "code",
   "execution_count": 8,
   "id": "bc989133-1cfa-44cd-a930-c055698154ac",
   "metadata": {},
   "outputs": [
    {
     "data": {
      "text/html": [
       "<div>\n",
       "<style scoped>\n",
       "    .dataframe tbody tr th:only-of-type {\n",
       "        vertical-align: middle;\n",
       "    }\n",
       "\n",
       "    .dataframe tbody tr th {\n",
       "        vertical-align: top;\n",
       "    }\n",
       "\n",
       "    .dataframe thead th {\n",
       "        text-align: right;\n",
       "    }\n",
       "</style>\n",
       "<table border=\"1\" class=\"dataframe\">\n",
       "  <thead>\n",
       "    <tr style=\"text-align: right;\">\n",
       "      <th></th>\n",
       "      <th>order_id</th>\n",
       "      <th>pizza_id</th>\n",
       "      <th>quantity</th>\n",
       "      <th>order_date</th>\n",
       "      <th>order_time</th>\n",
       "      <th>unit_price</th>\n",
       "      <th>total_price</th>\n",
       "      <th>pizza_size</th>\n",
       "      <th>pizza_category</th>\n",
       "      <th>pizza_ingredients</th>\n",
       "      <th>pizza_name</th>\n",
       "      <th>order_datetime</th>\n",
       "    </tr>\n",
       "    <tr>\n",
       "      <th>order_details_id</th>\n",
       "      <th></th>\n",
       "      <th></th>\n",
       "      <th></th>\n",
       "      <th></th>\n",
       "      <th></th>\n",
       "      <th></th>\n",
       "      <th></th>\n",
       "      <th></th>\n",
       "      <th></th>\n",
       "      <th></th>\n",
       "      <th></th>\n",
       "      <th></th>\n",
       "    </tr>\n",
       "  </thead>\n",
       "  <tbody>\n",
       "    <tr>\n",
       "      <th>13</th>\n",
       "      <td>7</td>\n",
       "      <td>spinach_supr_s</td>\n",
       "      <td>1</td>\n",
       "      <td>1/1/15</td>\n",
       "      <td>12:50:37</td>\n",
       "      <td>12.5</td>\n",
       "      <td>12.5</td>\n",
       "      <td>S</td>\n",
       "      <td>Supreme</td>\n",
       "      <td>Spinach, Red Onions, Pepperoni, Tomatoes, Arti...</td>\n",
       "      <td>The Spinach Supreme Pizza</td>\n",
       "      <td>2015-01-01 12:50:37</td>\n",
       "    </tr>\n",
       "    <tr>\n",
       "      <th>27</th>\n",
       "      <td>11</td>\n",
       "      <td>cali_ckn_l</td>\n",
       "      <td>1</td>\n",
       "      <td>1/1/15</td>\n",
       "      <td>13:02:59</td>\n",
       "      <td>20.75</td>\n",
       "      <td>20.75</td>\n",
       "      <td>L</td>\n",
       "      <td>Chicken</td>\n",
       "      <td>Chicken, Artichoke, Spinach, Garlic, Jalapeno ...</td>\n",
       "      <td>The California Chicken Pizza</td>\n",
       "      <td>2015-01-01 13:02:59</td>\n",
       "    </tr>\n",
       "    <tr>\n",
       "      <th>41</th>\n",
       "      <td>16</td>\n",
       "      <td>napolitana_s</td>\n",
       "      <td>1</td>\n",
       "      <td>1/1/15</td>\n",
       "      <td>13:34:07</td>\n",
       "      <td>12.0</td>\n",
       "      <td>12.0</td>\n",
       "      <td>S</td>\n",
       "      <td>Classic</td>\n",
       "      <td>Tomatoes, Anchovies, Green Olives, Red Onions,...</td>\n",
       "      <td>The Napolitana Pizza</td>\n",
       "      <td>2015-01-01 13:34:07</td>\n",
       "    </tr>\n",
       "    <tr>\n",
       "      <th>55</th>\n",
       "      <td>19</td>\n",
       "      <td>sicilian_l</td>\n",
       "      <td>1</td>\n",
       "      <td>1/1/15</td>\n",
       "      <td>13:59:09</td>\n",
       "      <td>20.25</td>\n",
       "      <td>20.25</td>\n",
       "      <td>L</td>\n",
       "      <td>Supreme</td>\n",
       "      <td>Coarse Sicilian Salami, Tomatoes, Green Olives...</td>\n",
       "      <td>The Sicilian Pizza</td>\n",
       "      <td>2015-01-01 13:59:09</td>\n",
       "    </tr>\n",
       "    <tr>\n",
       "      <th>69</th>\n",
       "      <td>26</td>\n",
       "      <td>classic_dlx_s</td>\n",
       "      <td>1</td>\n",
       "      <td>1/1/15</td>\n",
       "      <td>14:54:26</td>\n",
       "      <td>12.0</td>\n",
       "      <td>12.0</td>\n",
       "      <td>S</td>\n",
       "      <td>Classic</td>\n",
       "      <td>Pepperoni, Mushrooms, Red Onions, Red Peppers,...</td>\n",
       "      <td>The Classic Deluxe Pizza</td>\n",
       "      <td>2015-01-01 14:54:26</td>\n",
       "    </tr>\n",
       "  </tbody>\n",
       "</table>\n",
       "</div>"
      ],
      "text/plain": [
       "                 order_id        pizza_id  quantity order_date order_time  \\\n",
       "order_details_id                                                            \n",
       "13                      7  spinach_supr_s         1     1/1/15   12:50:37   \n",
       "27                     11      cali_ckn_l         1     1/1/15   13:02:59   \n",
       "41                     16    napolitana_s         1     1/1/15   13:34:07   \n",
       "55                     19      sicilian_l         1     1/1/15   13:59:09   \n",
       "69                     26   classic_dlx_s         1     1/1/15   14:54:26   \n",
       "\n",
       "                  unit_price  total_price pizza_size pizza_category  \\\n",
       "order_details_id                                                      \n",
       "13                      12.5         12.5          S        Supreme   \n",
       "27                     20.75        20.75          L        Chicken   \n",
       "41                      12.0         12.0          S        Classic   \n",
       "55                     20.25        20.25          L        Supreme   \n",
       "69                      12.0         12.0          S        Classic   \n",
       "\n",
       "                                                  pizza_ingredients  \\\n",
       "order_details_id                                                      \n",
       "13                Spinach, Red Onions, Pepperoni, Tomatoes, Arti...   \n",
       "27                Chicken, Artichoke, Spinach, Garlic, Jalapeno ...   \n",
       "41                Tomatoes, Anchovies, Green Olives, Red Onions,...   \n",
       "55                Coarse Sicilian Salami, Tomatoes, Green Olives...   \n",
       "69                Pepperoni, Mushrooms, Red Onions, Red Peppers,...   \n",
       "\n",
       "                                    pizza_name      order_datetime  \n",
       "order_details_id                                                    \n",
       "13                   The Spinach Supreme Pizza 2015-01-01 12:50:37  \n",
       "27                The California Chicken Pizza 2015-01-01 13:02:59  \n",
       "41                        The Napolitana Pizza 2015-01-01 13:34:07  \n",
       "55                          The Sicilian Pizza 2015-01-01 13:59:09  \n",
       "69                    The Classic Deluxe Pizza 2015-01-01 14:54:26  "
      ]
     },
     "execution_count": 8,
     "metadata": {},
     "output_type": "execute_result"
    }
   ],
   "source": [
    "# Load Pandas DataFrame as Atoti Table object\n",
    "pizza_sales_table = session.read_pandas(\n",
    "    pizza_sales_df, table_name=\"pizza_sales_table\", keys=[\"order_details_id\"]\n",
    ")\n",
    "pizza_sales_table.head()"
   ]
  },
  {
   "cell_type": "markdown",
   "id": "6fad4cf6-bde9-44ea-abc7-8de2bc91ee4d",
   "metadata": {},
   "source": [
    "**💡 Note:**  https://docs.atoti.io/latest/api/atoti.Session.create_cube.html#atoti.Session.create_cube"
   ]
  },
  {
   "cell_type": "code",
   "execution_count": 9,
   "id": "1d455c49-4997-4406-a523-3f76eb0052f0",
   "metadata": {},
   "outputs": [],
   "source": [
    "# Create Cube from Atoti Table object\n",
    "cube = session.create_cube(pizza_sales_table)"
   ]
  },
  {
   "cell_type": "markdown",
   "id": "e8d9b7c4-f3be-43ff-b9c0-7625ab34c286",
   "metadata": {},
   "source": [
    "## Cube Data Model Analysis\n",
    "\n",
    "Now, let's verify the cube has been set up properly, and take a look at the schema of the cube, along with the hierarchies, levels, and measures automatically created."
   ]
  },
  {
   "cell_type": "code",
   "execution_count": 10,
   "id": "30162e03-a45f-4fa6-82bf-bfe594f4a9b6",
   "metadata": {},
   "outputs": [
    {
     "data": {
      "image/svg+xml": [
       "<svg xmlns=\"http://www.w3.org/2000/svg\" xmlns:xlink=\"http://www.w3.org/1999/xlink\" width=\"272px\" height=\"366px\" viewBox=\"0.00 0.00 272.00 366.00\">\n",
       "<g id=\"graph0\" class=\"graph\" transform=\"scale(1.0 1.0) rotate(0) translate(4 362)\">\n",
       "<title>Datastore schema</title>\n",
       "<polygon fill=\"white\" stroke=\"none\" points=\"-4,4 -4,-362 268,-362 268,4 -4,4\"/>\n",
       "<!-- pizza_sales_table -->\n",
       "<g id=\"node1\" class=\"node\">\n",
       "<title>pizza_sales_table</title>\n",
       "<text text-anchor=\"start\" x=\"75.38\" y=\"-336.65\" font-family=\"-apple-system, BlinkMacSystemFont, 'Segoe UI', Helvetica, Arial, sans-serif, 'Apple Color Emoji', 'Segoe UI Emoji', 'Segoe UI Symbol'\" font-weight=\"bold\" font-size=\"13.00\">pizza_sales_table</text>\n",
       "<text text-anchor=\"start\" x=\"52.5\" y=\"-310.65\" font-family=\"-apple-system, BlinkMacSystemFont, 'Segoe UI', Helvetica, Arial, sans-serif, 'Apple Color Emoji', 'Segoe UI Emoji', 'Segoe UI Symbol'\" font-size=\"13.00\">base of: pizza_sales_table</text>\n",
       "<polygon fill=\"#f5f5f5\" stroke=\"none\" points=\"9,-281 9,-304 41,-304 41,-281 9,-281\"/>\n",
       "<text text-anchor=\"start\" x=\"13.75\" y=\"-287.65\" font-family=\"-apple-system, BlinkMacSystemFont, 'Segoe UI', Helvetica, Arial, sans-serif, 'Apple Color Emoji', 'Segoe UI Emoji', 'Segoe UI Symbol'\" font-weight=\"bold\" font-size=\"13.00\">key</text>\n",
       "<polygon fill=\"#f5f5f5\" stroke=\"none\" points=\"41,-281 41,-304 156,-304 156,-281 41,-281\"/>\n",
       "<text text-anchor=\"start\" x=\"46\" y=\"-286.65\" font-family=\"-apple-system, BlinkMacSystemFont, 'Segoe UI', Helvetica, Arial, sans-serif, 'Apple Color Emoji', 'Segoe UI Emoji', 'Segoe UI Symbol'\" font-size=\"13.00\">order_details_id</text>\n",
       "<polygon fill=\"#f5f5f5\" stroke=\"none\" points=\"156,-281 156,-304 255,-304 255,-281 156,-281\"/>\n",
       "<text text-anchor=\"start\" x=\"217\" y=\"-287.65\" font-family=\"-apple-system, BlinkMacSystemFont, 'Segoe UI', Helvetica, Arial, sans-serif, 'Apple Color Emoji', 'Segoe UI Emoji', 'Segoe UI Symbol'\" font-style=\"italic\" font-size=\"13.00\">string</text>\n",
       "<polygon fill=\"#ffffff\" stroke=\"none\" points=\"9,-258 9,-281 41,-281 41,-258 9,-258\"/>\n",
       "<polygon fill=\"#ffffff\" stroke=\"none\" points=\"41,-258 41,-281 156,-281 156,-258 41,-258\"/>\n",
       "<text text-anchor=\"start\" x=\"46\" y=\"-263.65\" font-family=\"-apple-system, BlinkMacSystemFont, 'Segoe UI', Helvetica, Arial, sans-serif, 'Apple Color Emoji', 'Segoe UI Emoji', 'Segoe UI Symbol'\" font-size=\"13.00\">order_id</text>\n",
       "<polygon fill=\"#ffffff\" stroke=\"none\" points=\"156,-258 156,-281 255,-281 255,-258 156,-258\"/>\n",
       "<text text-anchor=\"start\" x=\"217\" y=\"-264.65\" font-family=\"-apple-system, BlinkMacSystemFont, 'Segoe UI', Helvetica, Arial, sans-serif, 'Apple Color Emoji', 'Segoe UI Emoji', 'Segoe UI Symbol'\" font-style=\"italic\" font-size=\"13.00\">string</text>\n",
       "<polygon fill=\"#f5f5f5\" stroke=\"none\" points=\"9,-235 9,-258 41,-258 41,-235 9,-235\"/>\n",
       "<polygon fill=\"#f5f5f5\" stroke=\"none\" points=\"41,-235 41,-258 156,-258 156,-235 41,-235\"/>\n",
       "<text text-anchor=\"start\" x=\"46\" y=\"-240.65\" font-family=\"-apple-system, BlinkMacSystemFont, 'Segoe UI', Helvetica, Arial, sans-serif, 'Apple Color Emoji', 'Segoe UI Emoji', 'Segoe UI Symbol'\" font-size=\"13.00\">pizza_id</text>\n",
       "<polygon fill=\"#f5f5f5\" stroke=\"none\" points=\"156,-235 156,-258 255,-258 255,-235 156,-235\"/>\n",
       "<text text-anchor=\"start\" x=\"217\" y=\"-241.65\" font-family=\"-apple-system, BlinkMacSystemFont, 'Segoe UI', Helvetica, Arial, sans-serif, 'Apple Color Emoji', 'Segoe UI Emoji', 'Segoe UI Symbol'\" font-style=\"italic\" font-size=\"13.00\">string</text>\n",
       "<polygon fill=\"#ffffff\" stroke=\"none\" points=\"9,-212 9,-235 41,-235 41,-212 9,-212\"/>\n",
       "<polygon fill=\"#ffffff\" stroke=\"none\" points=\"41,-212 41,-235 156,-235 156,-212 41,-212\"/>\n",
       "<text text-anchor=\"start\" x=\"46\" y=\"-217.65\" font-family=\"-apple-system, BlinkMacSystemFont, 'Segoe UI', Helvetica, Arial, sans-serif, 'Apple Color Emoji', 'Segoe UI Emoji', 'Segoe UI Symbol'\" font-size=\"13.00\">quantity</text>\n",
       "<polygon fill=\"#ffffff\" stroke=\"none\" points=\"156,-212 156,-235 255,-235 255,-212 156,-212\"/>\n",
       "<text text-anchor=\"start\" x=\"224.5\" y=\"-218.65\" font-family=\"-apple-system, BlinkMacSystemFont, 'Segoe UI', Helvetica, Arial, sans-serif, 'Apple Color Emoji', 'Segoe UI Emoji', 'Segoe UI Symbol'\" font-style=\"italic\" font-size=\"13.00\">long</text>\n",
       "<polygon fill=\"#f5f5f5\" stroke=\"none\" points=\"9,-189 9,-212 41,-212 41,-189 9,-189\"/>\n",
       "<polygon fill=\"#f5f5f5\" stroke=\"none\" points=\"41,-189 41,-212 156,-212 156,-189 41,-189\"/>\n",
       "<text text-anchor=\"start\" x=\"46\" y=\"-194.65\" font-family=\"-apple-system, BlinkMacSystemFont, 'Segoe UI', Helvetica, Arial, sans-serif, 'Apple Color Emoji', 'Segoe UI Emoji', 'Segoe UI Symbol'\" font-size=\"13.00\">order_date</text>\n",
       "<polygon fill=\"#f5f5f5\" stroke=\"none\" points=\"156,-189 156,-212 255,-212 255,-189 156,-189\"/>\n",
       "<text text-anchor=\"start\" x=\"217\" y=\"-195.65\" font-family=\"-apple-system, BlinkMacSystemFont, 'Segoe UI', Helvetica, Arial, sans-serif, 'Apple Color Emoji', 'Segoe UI Emoji', 'Segoe UI Symbol'\" font-style=\"italic\" font-size=\"13.00\">string</text>\n",
       "<polygon fill=\"#ffffff\" stroke=\"none\" points=\"9,-166 9,-189 41,-189 41,-166 9,-166\"/>\n",
       "<polygon fill=\"#ffffff\" stroke=\"none\" points=\"41,-166 41,-189 156,-189 156,-166 41,-166\"/>\n",
       "<text text-anchor=\"start\" x=\"46\" y=\"-171.65\" font-family=\"-apple-system, BlinkMacSystemFont, 'Segoe UI', Helvetica, Arial, sans-serif, 'Apple Color Emoji', 'Segoe UI Emoji', 'Segoe UI Symbol'\" font-size=\"13.00\">order_time</text>\n",
       "<polygon fill=\"#ffffff\" stroke=\"none\" points=\"156,-166 156,-189 255,-189 255,-166 156,-166\"/>\n",
       "<text text-anchor=\"start\" x=\"217\" y=\"-172.65\" font-family=\"-apple-system, BlinkMacSystemFont, 'Segoe UI', Helvetica, Arial, sans-serif, 'Apple Color Emoji', 'Segoe UI Emoji', 'Segoe UI Symbol'\" font-style=\"italic\" font-size=\"13.00\">string</text>\n",
       "<polygon fill=\"#f5f5f5\" stroke=\"none\" points=\"9,-143 9,-166 41,-166 41,-143 9,-143\"/>\n",
       "<polygon fill=\"#f5f5f5\" stroke=\"none\" points=\"41,-143 41,-166 156,-166 156,-143 41,-143\"/>\n",
       "<text text-anchor=\"start\" x=\"46\" y=\"-148.65\" font-family=\"-apple-system, BlinkMacSystemFont, 'Segoe UI', Helvetica, Arial, sans-serif, 'Apple Color Emoji', 'Segoe UI Emoji', 'Segoe UI Symbol'\" font-size=\"13.00\">unit_price</text>\n",
       "<polygon fill=\"#f5f5f5\" stroke=\"none\" points=\"156,-143 156,-166 255,-166 255,-143 156,-143\"/>\n",
       "<text text-anchor=\"start\" x=\"209.5\" y=\"-149.65\" font-family=\"-apple-system, BlinkMacSystemFont, 'Segoe UI', Helvetica, Arial, sans-serif, 'Apple Color Emoji', 'Segoe UI Emoji', 'Segoe UI Symbol'\" font-style=\"italic\" font-size=\"13.00\">double</text>\n",
       "<polygon fill=\"#ffffff\" stroke=\"none\" points=\"9,-120 9,-143 41,-143 41,-120 9,-120\"/>\n",
       "<polygon fill=\"#ffffff\" stroke=\"none\" points=\"41,-120 41,-143 156,-143 156,-120 41,-120\"/>\n",
       "<text text-anchor=\"start\" x=\"46\" y=\"-125.65\" font-family=\"-apple-system, BlinkMacSystemFont, 'Segoe UI', Helvetica, Arial, sans-serif, 'Apple Color Emoji', 'Segoe UI Emoji', 'Segoe UI Symbol'\" font-size=\"13.00\">total_price</text>\n",
       "<polygon fill=\"#ffffff\" stroke=\"none\" points=\"156,-120 156,-143 255,-143 255,-120 156,-120\"/>\n",
       "<text text-anchor=\"start\" x=\"209.5\" y=\"-126.65\" font-family=\"-apple-system, BlinkMacSystemFont, 'Segoe UI', Helvetica, Arial, sans-serif, 'Apple Color Emoji', 'Segoe UI Emoji', 'Segoe UI Symbol'\" font-style=\"italic\" font-size=\"13.00\">double</text>\n",
       "<polygon fill=\"#f5f5f5\" stroke=\"none\" points=\"9,-97 9,-120 41,-120 41,-97 9,-97\"/>\n",
       "<polygon fill=\"#f5f5f5\" stroke=\"none\" points=\"41,-97 41,-120 156,-120 156,-97 41,-97\"/>\n",
       "<text text-anchor=\"start\" x=\"46\" y=\"-102.65\" font-family=\"-apple-system, BlinkMacSystemFont, 'Segoe UI', Helvetica, Arial, sans-serif, 'Apple Color Emoji', 'Segoe UI Emoji', 'Segoe UI Symbol'\" font-size=\"13.00\">pizza_size</text>\n",
       "<polygon fill=\"#f5f5f5\" stroke=\"none\" points=\"156,-97 156,-120 255,-120 255,-97 156,-97\"/>\n",
       "<text text-anchor=\"start\" x=\"217\" y=\"-103.65\" font-family=\"-apple-system, BlinkMacSystemFont, 'Segoe UI', Helvetica, Arial, sans-serif, 'Apple Color Emoji', 'Segoe UI Emoji', 'Segoe UI Symbol'\" font-style=\"italic\" font-size=\"13.00\">string</text>\n",
       "<polygon fill=\"#ffffff\" stroke=\"none\" points=\"9,-74 9,-97 41,-97 41,-74 9,-74\"/>\n",
       "<polygon fill=\"#ffffff\" stroke=\"none\" points=\"41,-74 41,-97 156,-97 156,-74 41,-74\"/>\n",
       "<text text-anchor=\"start\" x=\"46\" y=\"-79.65\" font-family=\"-apple-system, BlinkMacSystemFont, 'Segoe UI', Helvetica, Arial, sans-serif, 'Apple Color Emoji', 'Segoe UI Emoji', 'Segoe UI Symbol'\" font-size=\"13.00\">pizza_category</text>\n",
       "<polygon fill=\"#ffffff\" stroke=\"none\" points=\"156,-74 156,-97 255,-97 255,-74 156,-74\"/>\n",
       "<text text-anchor=\"start\" x=\"217\" y=\"-80.65\" font-family=\"-apple-system, BlinkMacSystemFont, 'Segoe UI', Helvetica, Arial, sans-serif, 'Apple Color Emoji', 'Segoe UI Emoji', 'Segoe UI Symbol'\" font-style=\"italic\" font-size=\"13.00\">string</text>\n",
       "<polygon fill=\"#f5f5f5\" stroke=\"none\" points=\"9,-51 9,-74 41,-74 41,-51 9,-51\"/>\n",
       "<polygon fill=\"#f5f5f5\" stroke=\"none\" points=\"41,-51 41,-74 156,-74 156,-51 41,-51\"/>\n",
       "<text text-anchor=\"start\" x=\"46\" y=\"-56.65\" font-family=\"-apple-system, BlinkMacSystemFont, 'Segoe UI', Helvetica, Arial, sans-serif, 'Apple Color Emoji', 'Segoe UI Emoji', 'Segoe UI Symbol'\" font-size=\"13.00\">pizza_ingredients</text>\n",
       "<polygon fill=\"#f5f5f5\" stroke=\"none\" points=\"156,-51 156,-74 255,-74 255,-51 156,-51\"/>\n",
       "<text text-anchor=\"start\" x=\"217\" y=\"-57.65\" font-family=\"-apple-system, BlinkMacSystemFont, 'Segoe UI', Helvetica, Arial, sans-serif, 'Apple Color Emoji', 'Segoe UI Emoji', 'Segoe UI Symbol'\" font-style=\"italic\" font-size=\"13.00\">string</text>\n",
       "<polygon fill=\"#ffffff\" stroke=\"none\" points=\"9,-28 9,-51 41,-51 41,-28 9,-28\"/>\n",
       "<polygon fill=\"#ffffff\" stroke=\"none\" points=\"41,-28 41,-51 156,-51 156,-28 41,-28\"/>\n",
       "<text text-anchor=\"start\" x=\"46\" y=\"-33.65\" font-family=\"-apple-system, BlinkMacSystemFont, 'Segoe UI', Helvetica, Arial, sans-serif, 'Apple Color Emoji', 'Segoe UI Emoji', 'Segoe UI Symbol'\" font-size=\"13.00\">pizza_name</text>\n",
       "<polygon fill=\"#ffffff\" stroke=\"none\" points=\"156,-28 156,-51 255,-51 255,-28 156,-28\"/>\n",
       "<text text-anchor=\"start\" x=\"217\" y=\"-34.65\" font-family=\"-apple-system, BlinkMacSystemFont, 'Segoe UI', Helvetica, Arial, sans-serif, 'Apple Color Emoji', 'Segoe UI Emoji', 'Segoe UI Symbol'\" font-style=\"italic\" font-size=\"13.00\">string</text>\n",
       "<polygon fill=\"#f5f5f5\" stroke=\"none\" points=\"9,-5 9,-28 41,-28 41,-5 9,-5\"/>\n",
       "<polygon fill=\"#f5f5f5\" stroke=\"none\" points=\"41,-5 41,-28 156,-28 156,-5 41,-5\"/>\n",
       "<text text-anchor=\"start\" x=\"46\" y=\"-10.65\" font-family=\"-apple-system, BlinkMacSystemFont, 'Segoe UI', Helvetica, Arial, sans-serif, 'Apple Color Emoji', 'Segoe UI Emoji', 'Segoe UI Symbol'\" font-size=\"13.00\">order_datetime</text>\n",
       "<polygon fill=\"#f5f5f5\" stroke=\"none\" points=\"156,-5 156,-28 255,-28 255,-5 156,-5\"/>\n",
       "<text text-anchor=\"start\" x=\"160.88\" y=\"-11.65\" font-family=\"-apple-system, BlinkMacSystemFont, 'Segoe UI', Helvetica, Arial, sans-serif, 'Apple Color Emoji', 'Segoe UI Emoji', 'Segoe UI Symbol'\" font-style=\"italic\" font-size=\"13.00\">LocalDateTime</text>\n",
       "<polygon fill=\"none\" stroke=\"black\" points=\"8,-4 8,-354 256,-354 256,-4 8,-4\"/>\n",
       "</g>\n",
       "</g>\n",
       "</svg>"
      ],
      "text/plain": [
       "<IPython.core.display.SVG object>"
      ]
     },
     "execution_count": 10,
     "metadata": {},
     "output_type": "execute_result"
    }
   ],
   "source": [
    "# View the schema\n",
    "session.tables.schema"
   ]
  },
  {
   "cell_type": "code",
   "execution_count": 11,
   "id": "7cb80b89-c7ec-46bc-8c84-e5d73bc1e72e",
   "metadata": {},
   "outputs": [],
   "source": [
    "# Set variables for hierarchies, levels, and measures\n",
    "h, l, m = cube.hierarchies, cube.levels, cube.measures"
   ]
  },
  {
   "cell_type": "markdown",
   "id": "5e1d2501-cb09-4a60-8bed-20f6c3a217fe",
   "metadata": {},
   "source": [
    "Remember that when slicing-and-dicing, we need to be specific on what we slice-and-dice on. In other words, hierarchies are the logical groupings of non-numeric attributes of our data model that we want to see aggregated numeric calculations for. For example, perhaps we want to see the total amount of revenue generated for each category in `pizza_category`. At this point in time for our pizza sales use case, our data model consists of \"single-level hierarchies\", where each hierarchy consists of a single level attribute."
   ]
  },
  {
   "cell_type": "code",
   "execution_count": 12,
   "id": "2e637f33-6b4e-4d2a-9372-7181f5d2c45c",
   "metadata": {},
   "outputs": [
    {
     "data": {
      "application/json": {
       "pizza_sales_table": {
        "order_date": [
         "order_date"
        ],
        "order_datetime": [
         "order_datetime"
        ],
        "order_details_id": [
         "order_details_id"
        ],
        "order_id": [
         "order_id"
        ],
        "order_time": [
         "order_time"
        ],
        "pizza_category": [
         "pizza_category"
        ],
        "pizza_id": [
         "pizza_id"
        ],
        "pizza_ingredients": [
         "pizza_ingredients"
        ],
        "pizza_name": [
         "pizza_name"
        ],
        "pizza_size": [
         "pizza_size"
        ]
       }
      },
      "text/html": [
       "<ul>\n",
       "<li>Dimensions\n",
       "  <ul>\n",
       "  <li>pizza_sales_table\n",
       "    <ul>\n",
       "    <li>order_date\n",
       "      <ol>\n",
       "      <li>order_date</li>\n",
       "      </ol>    </li>\n",
       "    <li>order_datetime\n",
       "      <ol>\n",
       "      <li>order_datetime</li>\n",
       "      </ol>    </li>\n",
       "    <li>order_details_id\n",
       "      <ol>\n",
       "      <li>order_details_id</li>\n",
       "      </ol>    </li>\n",
       "    <li>order_id\n",
       "      <ol>\n",
       "      <li>order_id</li>\n",
       "      </ol>    </li>\n",
       "    <li>order_time\n",
       "      <ol>\n",
       "      <li>order_time</li>\n",
       "      </ol>    </li>\n",
       "    <li>pizza_category\n",
       "      <ol>\n",
       "      <li>pizza_category</li>\n",
       "      </ol>    </li>\n",
       "    <li>pizza_id\n",
       "      <ol>\n",
       "      <li>pizza_id</li>\n",
       "      </ol>    </li>\n",
       "    <li>pizza_ingredients\n",
       "      <ol>\n",
       "      <li>pizza_ingredients</li>\n",
       "      </ol>    </li>\n",
       "    <li>pizza_name\n",
       "      <ol>\n",
       "      <li>pizza_name</li>\n",
       "      </ol>    </li>\n",
       "    <li>pizza_size\n",
       "      <ol>\n",
       "      <li>pizza_size</li>\n",
       "      </ol>    </li>\n",
       "    </ul>\n",
       "  </li>\n",
       "  </ul>\n",
       "</li>\n",
       "</ul>\n"
      ],
      "text/plain": [
       "{('pizza_sales_table', 'pizza_id'): <atoti.hierarchy.Hierarchy object at 0x1732870d0>, ('pizza_sales_table', 'pizza_name'): <atoti.hierarchy.Hierarchy object at 0x173287130>, ('pizza_sales_table', 'order_datetime'): <atoti.hierarchy.Hierarchy object at 0x173286d70>, ('pizza_sales_table', 'pizza_ingredients'): <atoti.hierarchy.Hierarchy object at 0x173286bf0>, ('pizza_sales_table', 'order_id'): <atoti.hierarchy.Hierarchy object at 0x173286ad0>, ('pizza_sales_table', 'order_date'): <atoti.hierarchy.Hierarchy object at 0x173286800>, ('pizza_sales_table', 'order_details_id'): <atoti.hierarchy.Hierarchy object at 0x1732864d0>, ('pizza_sales_table', 'pizza_category'): <atoti.hierarchy.Hierarchy object at 0x173286590>, ('pizza_sales_table', 'order_time'): <atoti.hierarchy.Hierarchy object at 0x173286500>, ('pizza_sales_table', 'pizza_size'): <atoti.hierarchy.Hierarchy object at 0x173284160>}"
      ]
     },
     "execution_count": 12,
     "metadata": {
      "application/json": {
       "expanded": true,
       "root": "Dimensions"
      }
     },
     "output_type": "execute_result"
    }
   ],
   "source": [
    "h"
   ]
  },
  {
   "cell_type": "markdown",
   "id": "f51e5cb8-063b-4226-9cfc-20ae53c0e2bb",
   "metadata": {},
   "source": [
    "And so now we know that levels make up hierarchies, but suppose we have levels that are similar in nature to each other, in particular levels that have a parent-child relationship. For example, perhaps we have a city that belongs to a country so `Country` and `City` could be the two levels of a `Geography` hierarchy. Or more commonly (and in this particular example), we have an `order_datetime` hierarchy that could be split into multiple levels such as `Year`, `Month`, `Day`, `Hour`, etc. that would allow us to drill-down to the specific year, month, day, hour level when doing our calculations."
   ]
  },
  {
   "cell_type": "code",
   "execution_count": 13,
   "id": "d36f8ad4-0f53-48d4-9dfc-ea3042b9e92b",
   "metadata": {},
   "outputs": [
    {
     "data": {
      "application/json": {
       "order_date (pizza_sales_table/order_date/order_date)": {
        "dimension": "pizza_sales_table",
        "hierarchy": "order_date",
        "order": "NaturalOrder",
        "type": "String"
       },
       "order_datetime (pizza_sales_table/order_datetime/order_datetime)": {
        "dimension": "pizza_sales_table",
        "hierarchy": "order_datetime",
        "order": "NaturalOrder",
        "type": "LocalDateTime"
       },
       "order_details_id (pizza_sales_table/order_details_id/order_details_id)": {
        "dimension": "pizza_sales_table",
        "hierarchy": "order_details_id",
        "order": "NaturalOrder",
        "type": "String"
       },
       "order_id (pizza_sales_table/order_id/order_id)": {
        "dimension": "pizza_sales_table",
        "hierarchy": "order_id",
        "order": "NaturalOrder",
        "type": "String"
       },
       "order_time (pizza_sales_table/order_time/order_time)": {
        "dimension": "pizza_sales_table",
        "hierarchy": "order_time",
        "order": "NaturalOrder",
        "type": "String"
       },
       "pizza_category (pizza_sales_table/pizza_category/pizza_category)": {
        "dimension": "pizza_sales_table",
        "hierarchy": "pizza_category",
        "order": "NaturalOrder",
        "type": "String"
       },
       "pizza_id (pizza_sales_table/pizza_id/pizza_id)": {
        "dimension": "pizza_sales_table",
        "hierarchy": "pizza_id",
        "order": "NaturalOrder",
        "type": "String"
       },
       "pizza_ingredients (pizza_sales_table/pizza_ingredients/pizza_ingredients)": {
        "dimension": "pizza_sales_table",
        "hierarchy": "pizza_ingredients",
        "order": "NaturalOrder",
        "type": "String"
       },
       "pizza_name (pizza_sales_table/pizza_name/pizza_name)": {
        "dimension": "pizza_sales_table",
        "hierarchy": "pizza_name",
        "order": "NaturalOrder",
        "type": "String"
       },
       "pizza_size (pizza_sales_table/pizza_size/pizza_size)": {
        "dimension": "pizza_sales_table",
        "hierarchy": "pizza_size",
        "order": "NaturalOrder",
        "type": "String"
       }
      },
      "text/html": [
       "<ul>\n",
       "<li>Levels\n",
       "  <ul>\n",
       "  <li>order_date (pizza_sales_table/order_date/order_date)\n",
       "    <ul>\n",
       "    <li>dimension: pizza_sales_table</li>\n",
       "    <li>hierarchy: order_date</li>\n",
       "    <li>type: String</li>\n",
       "    <li>order: NaturalOrder</li>\n",
       "    </ul>\n",
       "  </li>\n",
       "  <li>order_datetime (pizza_sales_table/order_datetime/order_datetime)\n",
       "    <ul>\n",
       "    <li>dimension: pizza_sales_table</li>\n",
       "    <li>hierarchy: order_datetime</li>\n",
       "    <li>type: LocalDateTime</li>\n",
       "    <li>order: NaturalOrder</li>\n",
       "    </ul>\n",
       "  </li>\n",
       "  <li>order_details_id (pizza_sales_table/order_details_id/order_details_id)\n",
       "    <ul>\n",
       "    <li>dimension: pizza_sales_table</li>\n",
       "    <li>hierarchy: order_details_id</li>\n",
       "    <li>type: String</li>\n",
       "    <li>order: NaturalOrder</li>\n",
       "    </ul>\n",
       "  </li>\n",
       "  <li>order_id (pizza_sales_table/order_id/order_id)\n",
       "    <ul>\n",
       "    <li>dimension: pizza_sales_table</li>\n",
       "    <li>hierarchy: order_id</li>\n",
       "    <li>type: String</li>\n",
       "    <li>order: NaturalOrder</li>\n",
       "    </ul>\n",
       "  </li>\n",
       "  <li>order_time (pizza_sales_table/order_time/order_time)\n",
       "    <ul>\n",
       "    <li>dimension: pizza_sales_table</li>\n",
       "    <li>hierarchy: order_time</li>\n",
       "    <li>type: String</li>\n",
       "    <li>order: NaturalOrder</li>\n",
       "    </ul>\n",
       "  </li>\n",
       "  <li>pizza_category (pizza_sales_table/pizza_category/pizza_category)\n",
       "    <ul>\n",
       "    <li>dimension: pizza_sales_table</li>\n",
       "    <li>hierarchy: pizza_category</li>\n",
       "    <li>type: String</li>\n",
       "    <li>order: NaturalOrder</li>\n",
       "    </ul>\n",
       "  </li>\n",
       "  <li>pizza_id (pizza_sales_table/pizza_id/pizza_id)\n",
       "    <ul>\n",
       "    <li>dimension: pizza_sales_table</li>\n",
       "    <li>hierarchy: pizza_id</li>\n",
       "    <li>type: String</li>\n",
       "    <li>order: NaturalOrder</li>\n",
       "    </ul>\n",
       "  </li>\n",
       "  <li>pizza_ingredients (pizza_sales_table/pizza_ingredients/pizza_ingredients)\n",
       "    <ul>\n",
       "    <li>dimension: pizza_sales_table</li>\n",
       "    <li>hierarchy: pizza_ingredients</li>\n",
       "    <li>type: String</li>\n",
       "    <li>order: NaturalOrder</li>\n",
       "    </ul>\n",
       "  </li>\n",
       "  <li>pizza_name (pizza_sales_table/pizza_name/pizza_name)\n",
       "    <ul>\n",
       "    <li>dimension: pizza_sales_table</li>\n",
       "    <li>hierarchy: pizza_name</li>\n",
       "    <li>type: String</li>\n",
       "    <li>order: NaturalOrder</li>\n",
       "    </ul>\n",
       "  </li>\n",
       "  <li>pizza_size (pizza_sales_table/pizza_size/pizza_size)\n",
       "    <ul>\n",
       "    <li>dimension: pizza_sales_table</li>\n",
       "    <li>hierarchy: pizza_size</li>\n",
       "    <li>type: String</li>\n",
       "    <li>order: NaturalOrder</li>\n",
       "    </ul>\n",
       "  </li>\n",
       "  </ul>\n",
       "</li>\n",
       "</ul>\n"
      ],
      "text/plain": [
       "<atoti.levels.Levels at 0x173284400>"
      ]
     },
     "execution_count": 13,
     "metadata": {
      "application/json": {
       "expanded": true,
       "root": "Levels"
      }
     },
     "output_type": "execute_result"
    }
   ],
   "source": [
    "l"
   ]
  },
  {
   "cell_type": "markdown",
   "id": "8ba0e230-2407-4827-9591-6209dc60fb85",
   "metadata": {},
   "source": [
    "And lastly, measures are the numeric attributes that we want to aggregate depending on the hierarchies that we want to slice-and-dice on. So an example again could be the total amount of revenue (`total_price.SUM`) generated for every pizza category (`pizza_category`)."
   ]
  },
  {
   "cell_type": "code",
   "execution_count": 14,
   "id": "bf4dd872-58b9-4f2b-a695-37f86fddc7b6",
   "metadata": {},
   "outputs": [
    {
     "data": {
      "application/json": {
       "contributors.COUNT": {
        "formatter": "INT[#,###]"
       },
       "quantity.MEAN": {
        "formatter": "DOUBLE[#,###.00]"
       },
       "quantity.SUM": {
        "formatter": "INT[#,###]"
       },
       "total_price.MEAN": {
        "formatter": "DOUBLE[#,###.00]"
       },
       "total_price.SUM": {
        "formatter": "DOUBLE[#,###.00]"
       },
       "unit_price.MEAN": {
        "formatter": "DOUBLE[#,###.00]"
       },
       "unit_price.SUM": {
        "formatter": "DOUBLE[#,###.00]"
       }
      },
      "text/html": [
       "<ul>\n",
       "<li>Measures\n",
       "  <ul>\n",
       "  <li>contributors.COUNT\n",
       "    <ul>\n",
       "    <li>formatter: INT[#,###]</li>\n",
       "    </ul>\n",
       "  </li>\n",
       "  <li>quantity.MEAN\n",
       "    <ul>\n",
       "    <li>formatter: DOUBLE[#,###.00]</li>\n",
       "    </ul>\n",
       "  </li>\n",
       "  <li>quantity.SUM\n",
       "    <ul>\n",
       "    <li>formatter: INT[#,###]</li>\n",
       "    </ul>\n",
       "  </li>\n",
       "  <li>total_price.MEAN\n",
       "    <ul>\n",
       "    <li>formatter: DOUBLE[#,###.00]</li>\n",
       "    </ul>\n",
       "  </li>\n",
       "  <li>total_price.SUM\n",
       "    <ul>\n",
       "    <li>formatter: DOUBLE[#,###.00]</li>\n",
       "    </ul>\n",
       "  </li>\n",
       "  <li>unit_price.MEAN\n",
       "    <ul>\n",
       "    <li>formatter: DOUBLE[#,###.00]</li>\n",
       "    </ul>\n",
       "  </li>\n",
       "  <li>unit_price.SUM\n",
       "    <ul>\n",
       "    <li>formatter: DOUBLE[#,###.00]</li>\n",
       "    </ul>\n",
       "  </li>\n",
       "  </ul>\n",
       "</li>\n",
       "</ul>\n"
      ],
      "text/plain": [
       "{'contributors.COUNT': <atoti.measure.Measure object at 0x1732876a0>, 'update.TIMESTAMP': <atoti.measure.Measure object at 0x1732e9840>, 'unit_price.MEAN': <atoti.measure.Measure object at 0x1732e9810>, 'unit_price.SUM': <atoti.measure.Measure object at 0x1732e97e0>, 'quantity.MEAN': <atoti.measure.Measure object at 0x1732e97b0>, 'quantity.SUM': <atoti.measure.Measure object at 0x1732e9780>, 'total_price.MEAN': <atoti.measure.Measure object at 0x1732e96f0>, 'total_price.SUM': <atoti.measure.Measure object at 0x1732e9750>}"
      ]
     },
     "execution_count": 14,
     "metadata": {
      "application/json": {
       "expanded": false,
       "root": "Measures"
      }
     },
     "output_type": "execute_result"
    }
   ],
   "source": [
    "m"
   ]
  },
  {
   "cell_type": "markdown",
   "id": "a5aaa007-a83b-4893-bfb1-89d70e0ee31d",
   "metadata": {},
   "source": [
    "## Enriching the Cube\n",
    "\n",
    "Now that we've gone over hierarchies, levels, and measures, lets add some additional hierarchies and configurations that will help us answer our analytical questions. In particular, we'll be adding a few multi-level hierarchies, and customizing the ordering for some of our levels.\n"
   ]
  },
  {
   "cell_type": "code",
   "execution_count": 15,
   "id": "930f4ca8-da79-472f-80cd-b87b071fe1c0",
   "metadata": {},
   "outputs": [
    {
     "data": {
      "application/json": {
       "pizza_sales_table": {
        "multi-level date": [
         "Year",
         "Quarter",
         "Month",
         "Day",
         "Hour"
        ],
        "multi-level dayofweek": [
         "Weekday",
         "Hour"
        ],
        "order_date": [
         "order_date"
        ],
        "order_datetime": [
         "order_datetime"
        ],
        "order_details_id": [
         "order_details_id"
        ],
        "order_id": [
         "order_id"
        ],
        "order_time": [
         "order_time"
        ],
        "pizza_category": [
         "pizza_category"
        ],
        "pizza_id": [
         "pizza_id"
        ],
        "pizza_ingredients": [
         "pizza_ingredients"
        ],
        "pizza_name": [
         "pizza_name"
        ],
        "pizza_size": [
         "pizza_size"
        ]
       }
      },
      "text/html": [
       "<ul>\n",
       "<li>Dimensions\n",
       "  <ul>\n",
       "  <li>pizza_sales_table\n",
       "    <ul>\n",
       "    <li>multi-level date\n",
       "      <ol>\n",
       "      <li>Year</li>\n",
       "      <li>Quarter</li>\n",
       "      <li>Month</li>\n",
       "      <li>Day</li>\n",
       "      <li>Hour</li>\n",
       "      </ol>    </li>\n",
       "    <li>multi-level dayofweek\n",
       "      <ol>\n",
       "      <li>Weekday</li>\n",
       "      <li>Hour</li>\n",
       "      </ol>    </li>\n",
       "    <li>order_date\n",
       "      <ol>\n",
       "      <li>order_date</li>\n",
       "      </ol>    </li>\n",
       "    <li>order_datetime\n",
       "      <ol>\n",
       "      <li>order_datetime</li>\n",
       "      </ol>    </li>\n",
       "    <li>order_details_id\n",
       "      <ol>\n",
       "      <li>order_details_id</li>\n",
       "      </ol>    </li>\n",
       "    <li>order_id\n",
       "      <ol>\n",
       "      <li>order_id</li>\n",
       "      </ol>    </li>\n",
       "    <li>order_time\n",
       "      <ol>\n",
       "      <li>order_time</li>\n",
       "      </ol>    </li>\n",
       "    <li>pizza_category\n",
       "      <ol>\n",
       "      <li>pizza_category</li>\n",
       "      </ol>    </li>\n",
       "    <li>pizza_id\n",
       "      <ol>\n",
       "      <li>pizza_id</li>\n",
       "      </ol>    </li>\n",
       "    <li>pizza_ingredients\n",
       "      <ol>\n",
       "      <li>pizza_ingredients</li>\n",
       "      </ol>    </li>\n",
       "    <li>pizza_name\n",
       "      <ol>\n",
       "      <li>pizza_name</li>\n",
       "      </ol>    </li>\n",
       "    <li>pizza_size\n",
       "      <ol>\n",
       "      <li>pizza_size</li>\n",
       "      </ol>    </li>\n",
       "    </ul>\n",
       "  </li>\n",
       "  </ul>\n",
       "</li>\n",
       "</ul>\n"
      ],
      "text/plain": [
       "{('pizza_sales_table', 'pizza_id'): <atoti.hierarchy.Hierarchy object at 0x1732eb910>, ('pizza_sales_table', 'pizza_name'): <atoti.hierarchy.Hierarchy object at 0x1732eb970>, ('pizza_sales_table', 'order_datetime'): <atoti.hierarchy.Hierarchy object at 0x1732eba60>, ('pizza_sales_table', 'pizza_ingredients'): <atoti.hierarchy.Hierarchy object at 0x1732ebb50>, ('pizza_sales_table', 'multi-level date'): <atoti.hierarchy.Hierarchy object at 0x1732ebc40>, ('pizza_sales_table', 'multi-level dayofweek'): <atoti.hierarchy.Hierarchy object at 0x1732ebd30>, ('pizza_sales_table', 'order_id'): <atoti.hierarchy.Hierarchy object at 0x1732eb940>, ('pizza_sales_table', 'order_date'): <atoti.hierarchy.Hierarchy object at 0x173304310>, ('pizza_sales_table', 'order_details_id'): <atoti.hierarchy.Hierarchy object at 0x173304400>, ('pizza_sales_table', 'pizza_category'): <atoti.hierarchy.Hierarchy object at 0x1733044f0>, ('pizza_sales_table', 'order_time'): <atoti.hierarchy.Hierarchy object at 0x1733045e0>, ('pizza_sales_table', 'pizza_size'): <atoti.hierarchy.Hierarchy object at 0x1733046d0>}"
      ]
     },
     "execution_count": 15,
     "metadata": {
      "application/json": {
       "expanded": true,
       "root": "Dimensions"
      }
     },
     "output_type": "execute_result"
    }
   ],
   "source": [
    "# Create a multi-level date hierarchy\n",
    "# For Year, Quarter, Month, Day, Hour\n",
    "cube.create_date_hierarchy(\n",
    "    \"multi-level date\",\n",
    "    column=pizza_sales_table[\"order_datetime\"],\n",
    "    levels={\n",
    "        \"Year\": \"yyyy\",\n",
    "        \"Quarter\": \"QQQ\",\n",
    "        \"Month\": \"MMM\",\n",
    "        \"Day\": \"dd\",\n",
    "        \"Hour\": \"HH\",\n",
    "    },\n",
    ")\n",
    "\n",
    "# Create a multi-level date hierarchy\n",
    "# For Weekday, and Hour\n",
    "cube.create_date_hierarchy(\n",
    "    \"multi-level dayofweek\",\n",
    "    column=pizza_sales_table[\"order_datetime\"],\n",
    "    levels={\n",
    "        \"Weekday\": \"E\",\n",
    "        \"Hour\": \"HH\",\n",
    "    },\n",
    ")\n",
    "h"
   ]
  },
  {
   "cell_type": "code",
   "execution_count": 16,
   "id": "662f774d-93fe-45db-9e3a-eb3fce8b95f0",
   "metadata": {},
   "outputs": [
    {
     "data": {
      "application/json": {
       "Day (pizza_sales_table/multi-level date/Day)": {
        "dimension": "pizza_sales_table",
        "hierarchy": "multi-level date",
        "order": "NaturalOrder",
        "type": "String"
       },
       "Hour (pizza_sales_table/multi-level date/Hour)": {
        "dimension": "pizza_sales_table",
        "hierarchy": "multi-level date",
        "order": "NaturalOrder",
        "type": "String"
       },
       "Hour (pizza_sales_table/multi-level dayofweek/Hour)": {
        "dimension": "pizza_sales_table",
        "hierarchy": "multi-level dayofweek",
        "order": "NaturalOrder",
        "type": "String"
       },
       "Month (pizza_sales_table/multi-level date/Month)": {
        "dimension": "pizza_sales_table",
        "hierarchy": "multi-level date",
        "order": "Custom",
        "type": "String"
       },
       "Quarter (pizza_sales_table/multi-level date/Quarter)": {
        "dimension": "pizza_sales_table",
        "hierarchy": "multi-level date",
        "order": "NaturalOrder",
        "type": "String"
       },
       "Weekday (pizza_sales_table/multi-level dayofweek/Weekday)": {
        "dimension": "pizza_sales_table",
        "hierarchy": "multi-level dayofweek",
        "order": "Custom",
        "type": "String"
       },
       "Year (pizza_sales_table/multi-level date/Year)": {
        "dimension": "pizza_sales_table",
        "hierarchy": "multi-level date",
        "order": "NaturalOrder",
        "type": "String"
       },
       "order_date (pizza_sales_table/order_date/order_date)": {
        "dimension": "pizza_sales_table",
        "hierarchy": "order_date",
        "order": "NaturalOrder",
        "type": "String"
       },
       "order_datetime (pizza_sales_table/order_datetime/order_datetime)": {
        "dimension": "pizza_sales_table",
        "hierarchy": "order_datetime",
        "order": "NaturalOrder",
        "type": "LocalDateTime"
       },
       "order_details_id (pizza_sales_table/order_details_id/order_details_id)": {
        "dimension": "pizza_sales_table",
        "hierarchy": "order_details_id",
        "order": "NaturalOrder",
        "type": "String"
       },
       "order_id (pizza_sales_table/order_id/order_id)": {
        "dimension": "pizza_sales_table",
        "hierarchy": "order_id",
        "order": "NaturalOrder",
        "type": "String"
       },
       "order_time (pizza_sales_table/order_time/order_time)": {
        "dimension": "pizza_sales_table",
        "hierarchy": "order_time",
        "order": "NaturalOrder",
        "type": "String"
       },
       "pizza_category (pizza_sales_table/pizza_category/pizza_category)": {
        "dimension": "pizza_sales_table",
        "hierarchy": "pizza_category",
        "order": "NaturalOrder",
        "type": "String"
       },
       "pizza_id (pizza_sales_table/pizza_id/pizza_id)": {
        "dimension": "pizza_sales_table",
        "hierarchy": "pizza_id",
        "order": "NaturalOrder",
        "type": "String"
       },
       "pizza_ingredients (pizza_sales_table/pizza_ingredients/pizza_ingredients)": {
        "dimension": "pizza_sales_table",
        "hierarchy": "pizza_ingredients",
        "order": "NaturalOrder",
        "type": "String"
       },
       "pizza_name (pizza_sales_table/pizza_name/pizza_name)": {
        "dimension": "pizza_sales_table",
        "hierarchy": "pizza_name",
        "order": "NaturalOrder",
        "type": "String"
       },
       "pizza_size (pizza_sales_table/pizza_size/pizza_size)": {
        "dimension": "pizza_sales_table",
        "hierarchy": "pizza_size",
        "order": "NaturalOrder",
        "type": "String"
       }
      },
      "text/html": [
       "<ul>\n",
       "<li>Levels\n",
       "  <ul>\n",
       "  <li>Day (pizza_sales_table/multi-level date/Day)\n",
       "    <ul>\n",
       "    <li>dimension: pizza_sales_table</li>\n",
       "    <li>hierarchy: multi-level date</li>\n",
       "    <li>type: String</li>\n",
       "    <li>order: NaturalOrder</li>\n",
       "    </ul>\n",
       "  </li>\n",
       "  <li>Hour (pizza_sales_table/multi-level date/Hour)\n",
       "    <ul>\n",
       "    <li>dimension: pizza_sales_table</li>\n",
       "    <li>hierarchy: multi-level date</li>\n",
       "    <li>type: String</li>\n",
       "    <li>order: NaturalOrder</li>\n",
       "    </ul>\n",
       "  </li>\n",
       "  <li>Hour (pizza_sales_table/multi-level dayofweek/Hour)\n",
       "    <ul>\n",
       "    <li>dimension: pizza_sales_table</li>\n",
       "    <li>hierarchy: multi-level dayofweek</li>\n",
       "    <li>type: String</li>\n",
       "    <li>order: NaturalOrder</li>\n",
       "    </ul>\n",
       "  </li>\n",
       "  <li>Month (pizza_sales_table/multi-level date/Month)\n",
       "    <ul>\n",
       "    <li>dimension: pizza_sales_table</li>\n",
       "    <li>hierarchy: multi-level date</li>\n",
       "    <li>type: String</li>\n",
       "    <li>order: Custom</li>\n",
       "    </ul>\n",
       "  </li>\n",
       "  <li>Quarter (pizza_sales_table/multi-level date/Quarter)\n",
       "    <ul>\n",
       "    <li>dimension: pizza_sales_table</li>\n",
       "    <li>hierarchy: multi-level date</li>\n",
       "    <li>type: String</li>\n",
       "    <li>order: NaturalOrder</li>\n",
       "    </ul>\n",
       "  </li>\n",
       "  <li>Weekday (pizza_sales_table/multi-level dayofweek/Weekday)\n",
       "    <ul>\n",
       "    <li>dimension: pizza_sales_table</li>\n",
       "    <li>hierarchy: multi-level dayofweek</li>\n",
       "    <li>type: String</li>\n",
       "    <li>order: Custom</li>\n",
       "    </ul>\n",
       "  </li>\n",
       "  <li>Year (pizza_sales_table/multi-level date/Year)\n",
       "    <ul>\n",
       "    <li>dimension: pizza_sales_table</li>\n",
       "    <li>hierarchy: multi-level date</li>\n",
       "    <li>type: String</li>\n",
       "    <li>order: NaturalOrder</li>\n",
       "    </ul>\n",
       "  </li>\n",
       "  <li>order_date (pizza_sales_table/order_date/order_date)\n",
       "    <ul>\n",
       "    <li>dimension: pizza_sales_table</li>\n",
       "    <li>hierarchy: order_date</li>\n",
       "    <li>type: String</li>\n",
       "    <li>order: NaturalOrder</li>\n",
       "    </ul>\n",
       "  </li>\n",
       "  <li>order_datetime (pizza_sales_table/order_datetime/order_datetime)\n",
       "    <ul>\n",
       "    <li>dimension: pizza_sales_table</li>\n",
       "    <li>hierarchy: order_datetime</li>\n",
       "    <li>type: LocalDateTime</li>\n",
       "    <li>order: NaturalOrder</li>\n",
       "    </ul>\n",
       "  </li>\n",
       "  <li>order_details_id (pizza_sales_table/order_details_id/order_details_id)\n",
       "    <ul>\n",
       "    <li>dimension: pizza_sales_table</li>\n",
       "    <li>hierarchy: order_details_id</li>\n",
       "    <li>type: String</li>\n",
       "    <li>order: NaturalOrder</li>\n",
       "    </ul>\n",
       "  </li>\n",
       "  <li>order_id (pizza_sales_table/order_id/order_id)\n",
       "    <ul>\n",
       "    <li>dimension: pizza_sales_table</li>\n",
       "    <li>hierarchy: order_id</li>\n",
       "    <li>type: String</li>\n",
       "    <li>order: NaturalOrder</li>\n",
       "    </ul>\n",
       "  </li>\n",
       "  <li>order_time (pizza_sales_table/order_time/order_time)\n",
       "    <ul>\n",
       "    <li>dimension: pizza_sales_table</li>\n",
       "    <li>hierarchy: order_time</li>\n",
       "    <li>type: String</li>\n",
       "    <li>order: NaturalOrder</li>\n",
       "    </ul>\n",
       "  </li>\n",
       "  <li>pizza_category (pizza_sales_table/pizza_category/pizza_category)\n",
       "    <ul>\n",
       "    <li>dimension: pizza_sales_table</li>\n",
       "    <li>hierarchy: pizza_category</li>\n",
       "    <li>type: String</li>\n",
       "    <li>order: NaturalOrder</li>\n",
       "    </ul>\n",
       "  </li>\n",
       "  <li>pizza_id (pizza_sales_table/pizza_id/pizza_id)\n",
       "    <ul>\n",
       "    <li>dimension: pizza_sales_table</li>\n",
       "    <li>hierarchy: pizza_id</li>\n",
       "    <li>type: String</li>\n",
       "    <li>order: NaturalOrder</li>\n",
       "    </ul>\n",
       "  </li>\n",
       "  <li>pizza_ingredients (pizza_sales_table/pizza_ingredients/pizza_ingredients)\n",
       "    <ul>\n",
       "    <li>dimension: pizza_sales_table</li>\n",
       "    <li>hierarchy: pizza_ingredients</li>\n",
       "    <li>type: String</li>\n",
       "    <li>order: NaturalOrder</li>\n",
       "    </ul>\n",
       "  </li>\n",
       "  <li>pizza_name (pizza_sales_table/pizza_name/pizza_name)\n",
       "    <ul>\n",
       "    <li>dimension: pizza_sales_table</li>\n",
       "    <li>hierarchy: pizza_name</li>\n",
       "    <li>type: String</li>\n",
       "    <li>order: NaturalOrder</li>\n",
       "    </ul>\n",
       "  </li>\n",
       "  <li>pizza_size (pizza_sales_table/pizza_size/pizza_size)\n",
       "    <ul>\n",
       "    <li>dimension: pizza_sales_table</li>\n",
       "    <li>hierarchy: pizza_size</li>\n",
       "    <li>type: String</li>\n",
       "    <li>order: NaturalOrder</li>\n",
       "    </ul>\n",
       "  </li>\n",
       "  </ul>\n",
       "</li>\n",
       "</ul>\n"
      ],
      "text/plain": [
       "<atoti.levels.Levels at 0x173284400>"
      ]
     },
     "execution_count": 16,
     "metadata": {
      "application/json": {
       "expanded": true,
       "root": "Levels"
      }
     },
     "output_type": "execute_result"
    }
   ],
   "source": [
    "# Change `NaturalOrder` to `CustomOrder` for specific levels\n",
    "l[(\"pizza_sales_table\", \"multi-level date\", \"Month\")].order = atoti.CustomOrder(\n",
    "    first_elements=[\n",
    "        \"Jan\",\n",
    "        \"Feb\",\n",
    "        \"Mar\",\n",
    "        \"Apr\",\n",
    "        \"May\",\n",
    "        \"Jun\",\n",
    "        \"Jul\",\n",
    "        \"Aug\",\n",
    "        \"Sep\",\n",
    "        \"Oct\",\n",
    "        \"Nov\",\n",
    "        \"Dec\",\n",
    "    ]\n",
    ")\n",
    "l[(\"pizza_sales_table\", \"multi-level dayofweek\", \"Weekday\")].order = atoti.CustomOrder(\n",
    "    first_elements=[\"Mon\", \"Tue\", \"Wed\", \"Thu\", \"Fri\"]\n",
    ")\n",
    "l"
   ]
  },
  {
   "cell_type": "markdown",
   "id": "33941fbf-4bb9-4bde-bcde-8ddce668ef81",
   "metadata": {},
   "source": [
    "## Data Analysis and Visualization in Atoti\n",
    "\n",
    "With the data in the cube ready-to-go, let's now get to slicing-and-dicing! Be aware that from this point onwards we'll be using the Atoti JupyterLab extension which allows us to create notebook widgets and interact with Atoti and the data in the cube. Select the Atoti JupyterLab extension in your left-hand menu pane to follow along. Otherwise, you can always go to [http://localhost:9092/#/dashboard/e49](http://localhost:9092/#/dashboard/e49) to pull up the dashboard.\n",
    "\n",
    " "
   ]
  },
  {
   "cell_type": "markdown",
   "id": "36177858-e3d8-4356-9721-8affc1d2844f",
   "metadata": {},
   "source": [
    "### What days and times do we tend to be busiest?\n",
    "\n",
    "To answer this question, we need to analyze the amount of revenue generated per weekday, and when we determine which weekday generates the most revenue, we need to drill-down to the hourly revenue for that day to determine which day and time tends to be the busiest. Good thing we already made our `multi-level dayofweek` hierarchy! For the below, based on our analysis, it looks like Plato's Pizza generates the most revenue on Fridays."
   ]
  },
  {
   "cell_type": "code",
   "execution_count": 17,
   "id": "ea59792b-74ca-4888-8080-481ed1669ae1",
   "metadata": {
    "atoti": {
     "widget": {
      "mapping": {
       "horizontalSubplots": [],
       "stackBy": [
        "ALL_MEASURES"
       ],
       "values": [
        "[Measures].[total_price.SUM]"
       ],
       "verticalSubplots": [],
       "xAxis": [
        "[pizza_sales_table].[multi-level dayofweek].[Weekday]"
       ]
      },
      "name": "Total Revenue per Weekday",
      "query": {
       "mdx": "WITH  Member [Measures].[[pizza_sales_table]].[multi-level dayofweek]].[Weekday]]_for_order] AS Rank(IIf([pizza_sales_table].[multi-level dayofweek].CurrentMember.Level.Ordinal > [pizza_sales_table].[multi-level dayofweek].[Weekday].Ordinal, Ancestor([pizza_sales_table].[multi-level dayofweek].CurrentMember, [pizza_sales_table].[multi-level dayofweek].[Weekday]), [pizza_sales_table].[multi-level dayofweek].CurrentMember), [pizza_sales_table].[multi-level dayofweek].Members)  SELECT NON EMPTY {[Measures].[total_price.SUM]} ON COLUMNS, NON EMPTY Order(Hierarchize(Descendants({[pizza_sales_table].[multi-level dayofweek].[ALL].[AllMember]}, 1, SELF_AND_BEFORE)), [Measures].[[pizza_sales_table]].[multi-level dayofweek]].[Weekday]]_for_order], BASC) DIMENSION PROPERTIES CHILDREN_CARDINALITY ON ROWS FROM [pizza_sales_table] CELL PROPERTIES VALUE, FORMATTED_VALUE, BACK_COLOR, FORE_COLOR, FONT_FLAGS",
       "updateMode": "once"
      },
      "serverKey": "default",
      "widgetKey": "plotly-stacked-column-chart"
     }
    }
   },
   "outputs": [
    {
     "data": {
      "application/vnd.atoti.widget.v0+json": {
       "sessionId": "1707418878_BWV272",
       "sessionLocation": {
        "https": false,
        "port": 9092
       },
       "widgetCreationCode": "session.widget"
      },
      "text/html": [
       "<img height=\"352\" width=\"1254\" src=\"data:image/png;base64,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\" />"
      ],
      "text/plain": [
       "Open the notebook in JupyterLab with the Atoti JupyterLab extension enabled to build this widget."
      ]
     },
     "metadata": {},
     "output_type": "display_data"
    }
   ],
   "source": [
    "# X-axis: Weekday\n",
    "# Y-axis: total_price.SUM\n",
    "session.widget"
   ]
  },
  {
   "cell_type": "markdown",
   "id": "51a9b156-ded3-4f2d-aa36-b97042ddf9cb",
   "metadata": {},
   "source": [
    "Now, when we drill-down further and look at total revenue per hour, with a filter for Fridays only, we can see that around 12 PM is the time when Plato's Pizza tends to be busiest, which makes sense as that's typical of lunch rush hour! 🍕"
   ]
  },
  {
   "cell_type": "code",
   "execution_count": 18,
   "id": "741e741e-162c-4c59-8cf8-a8d084b4af59",
   "metadata": {
    "atoti": {
     "widget": {
      "filters": [
       {
        "dimensionName": "pizza_sales_table",
        "hierarchyName": "multi-level dayofweek",
        "isExclusionFilter": false,
        "members": [
         [
          "AllMember",
          "Fri"
         ]
        ],
        "type": "members"
       }
      ],
      "mapping": {
       "horizontalSubplots": [],
       "stackBy": [
        "ALL_MEASURES"
       ],
       "values": [
        "[Measures].[total_price.SUM]"
       ],
       "verticalSubplots": [],
       "xAxis": [
        "[pizza_sales_table].[multi-level dayofweek].[Hour]"
       ]
      },
      "name": "Total Hourly Revenue on Fridays",
      "query": {
       "mdx": "SELECT NON EMPTY Hierarchize(Descendants({[pizza_sales_table].[multi-level dayofweek].[ALL].[AllMember]}, 2, SELF_AND_BEFORE)) DIMENSION PROPERTIES CHILDREN_CARDINALITY ON ROWS, NON EMPTY {[Measures].[total_price.SUM]} ON COLUMNS FROM [pizza_sales_table] CELL PROPERTIES VALUE, FORMATTED_VALUE, BACK_COLOR, FORE_COLOR, FONT_FLAGS",
       "updateMode": "once"
      },
      "serverKey": "default",
      "widgetKey": "plotly-stacked-column-chart"
     }
    }
   },
   "outputs": [
    {
     "data": {
      "application/vnd.atoti.widget.v0+json": {
       "sessionId": "1707418878_BWV272",
       "sessionLocation": {
        "https": false,
        "port": 9092
       },
       "widgetCreationCode": "session.widget"
      },
      "text/html": [
       "<img height=\"352\" width=\"1254\" src=\"data:image/png;base64,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\" />"
      ],
      "text/plain": [
       "Open the notebook in JupyterLab with the Atoti JupyterLab extension enabled to build this widget."
      ]
     },
     "metadata": {},
     "output_type": "display_data"
    }
   ],
   "source": [
    "# X-axis: Hour\n",
    "# Y-axis: total_price.SUM\n",
    "# Filter: Fri\n",
    "session.widget"
   ]
  },
  {
   "cell_type": "markdown",
   "id": "a61003ce-727f-4765-ba4b-5ee6b7051e7c",
   "metadata": {},
   "source": [
    "### How many pizzas are we making during peak periods?\n",
    "\n",
    "So we've determined that 12 PM on Fridays is our busiest time, but what about the amount of pizzas sold? This is as easy as adding our `Quantity.SUM` measure to our visualization, and we've used a clustered Column graph to easily depict this. Looks like `1101` pizzas have been sold at Plato's Pizza's peak period."
   ]
  },
  {
   "cell_type": "code",
   "execution_count": 19,
   "id": "7f7b7e3f-9a24-454d-ac02-785bfc760c5c",
   "metadata": {
    "atoti": {
     "widget": {
      "filters": [
       {
        "dimensionName": "pizza_sales_table",
        "hierarchyName": "multi-level dayofweek",
        "isExclusionFilter": false,
        "members": [
         [
          "AllMember",
          "Fri"
         ]
        ],
        "type": "members"
       }
      ],
      "mapping": {
       "horizontalSubplots": [],
       "stackBy": [
        "ALL_MEASURES"
       ],
       "values": [
        "[Measures].[total_price.SUM]",
        "[Measures].[quantity.SUM]"
       ],
       "verticalSubplots": [],
       "xAxis": [
        "[pizza_sales_table].[multi-level dayofweek].[Hour]"
       ]
      },
      "name": "Total Hourly Revenue and Quantity Sold on Fridays",
      "query": {
       "mdx": "WITH  Member [Measures].[[pizza_sales_table]].[multi-level dayofweek]].[Hour]]_for_order] AS Rank(IIf([pizza_sales_table].[multi-level dayofweek].CurrentMember.Level.Ordinal > [pizza_sales_table].[multi-level dayofweek].[Hour].Ordinal, Ancestor([pizza_sales_table].[multi-level dayofweek].CurrentMember, [pizza_sales_table].[multi-level dayofweek].[Hour]), [pizza_sales_table].[multi-level dayofweek].CurrentMember), [pizza_sales_table].[multi-level dayofweek].Members)  SELECT NON EMPTY {[Measures].[total_price.SUM], [Measures].[quantity.SUM]} ON COLUMNS, NON EMPTY Order(Hierarchize(Descendants({[pizza_sales_table].[multi-level dayofweek].[ALL].[AllMember]}, 2, SELF_AND_BEFORE)), [Measures].[[pizza_sales_table]].[multi-level dayofweek]].[Hour]]_for_order], BASC) DIMENSION PROPERTIES CHILDREN_CARDINALITY ON ROWS FROM [pizza_sales_table] CELL PROPERTIES VALUE, FORMATTED_VALUE, BACK_COLOR, FORE_COLOR, FONT_FLAGS",
       "updateMode": "once"
      },
      "serverKey": "default",
      "style": {
       "areAxisTitlesVisible": true
      },
      "switchedTo": "plotly-clustered-column-chart",
      "widgetKey": "plotly-stacked-column-chart"
     }
    }
   },
   "outputs": [
    {
     "data": {
      "application/vnd.atoti.widget.v0+json": {
       "sessionId": "1707418878_BWV272",
       "sessionLocation": {
        "https": false,
        "port": 9092
       },
       "widgetCreationCode": "session.widget"
      },
      "text/html": [
       "<img height=\"352\" width=\"1254\" src=\"data:image/png;base64,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\" />"
      ],
      "text/plain": [
       "Open the notebook in JupyterLab with the Atoti JupyterLab extension enabled to build this widget."
      ]
     },
     "metadata": {},
     "output_type": "display_data"
    }
   ],
   "source": [
    "# X-axis: Hour\n",
    "# Y-axis: total_price.SUM & quantity.SUM\n",
    "# Filter: Fri\n",
    "session.widget"
   ]
  },
  {
   "cell_type": "markdown",
   "id": "d7c14e6c-62e7-45ee-acb6-db720d404c6e",
   "metadata": {},
   "source": [
    "### What are our best and worst-selling pizzas?\n",
    "\n",
    "To answer this question, we could simply create a visualization and sort by amount of revenue (`total_price.SUM`) generated for every pizza name (`pizza_name`), but perhaps Plato wants to see this as a percentage — how would we go about doing this? Answer: we can create new measures!"
   ]
  },
  {
   "cell_type": "code",
   "execution_count": 20,
   "id": "c70af295-659a-43a8-83b1-328415668a58",
   "metadata": {
    "atoti": {
     "widget": {
      "mapping": {
       "columns": [
        "ALL_MEASURES"
       ],
       "measures": [
        "[Measures].[total_price.SUM]"
       ],
       "rows": [
        "[pizza_sales_table].[pizza_name].[pizza_name]"
       ]
      },
      "name": "Best vs. Worst Selling Pizzas",
      "query": {
       "mdx": "SELECT NON EMPTY Order(Hierarchize(Descendants({[pizza_sales_table].[pizza_name].[ALL].[AllMember]}, 1, SELF_AND_BEFORE)), [Measures].[total_price.SUM], DESC) ON ROWS, NON EMPTY {[Measures].[total_price.SUM]} ON COLUMNS FROM [pizza_sales_table] CELL PROPERTIES VALUE, FORMATTED_VALUE, BACK_COLOR, FORE_COLOR, FONT_FLAGS",
       "updateMode": "once"
      },
      "serverKey": "default",
      "widgetKey": "tree-table"
     }
    }
   },
   "outputs": [
    {
     "data": {
      "application/vnd.atoti.widget.v0+json": {
       "sessionId": "1707418878_BWV272",
       "sessionLocation": {
        "https": false,
        "port": 9092
       },
       "widgetCreationCode": "session.widget"
      },
      "text/html": [
       "<img height=\"352\" width=\"1254\" src=\"data:image/png;base64,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\" />"
      ],
      "text/plain": [
       "Open the notebook in JupyterLab with the Atoti JupyterLab extension enabled to build this widget."
      ]
     },
     "metadata": {},
     "output_type": "display_data"
    }
   ],
   "source": [
    "# X-axis: pizza_name\n",
    "# Y-axis: total_price.SUM\n",
    "session.widget"
   ]
  },
  {
   "cell_type": "markdown",
   "id": "70ac8a12-862b-42bf-97db-1132e7510297",
   "metadata": {},
   "source": [
    "When creating new measures, we should be mindful of *how* we aggregate our numeric values and at which level. Therefore, we use the `atoti.total` function to sum up our `total_price.SUM` values at specific hierarchies. From the below, we can see that the `Thai Chicken Pizza` is the best selling pizza, while the `Brie Carre Pizza` is the worst selling pizza.\n",
    "\n",
    "**💡 Note:** https://docs.atoti.io/latest/api/atoti.total.html#atoti.total"
   ]
  },
  {
   "cell_type": "code",
   "execution_count": 21,
   "id": "38d3d5da-c99d-4a66-8513-f5e85072c0f6",
   "metadata": {
    "atoti": {
     "widget": {
      "mapping": {
       "columns": [
        "ALL_MEASURES"
       ],
       "measures": [
        "[Measures].[Percent of Total Revenue]",
        "[Measures].[total_price.SUM]"
       ],
       "rows": [
        "[pizza_sales_table].[pizza_name].[pizza_name]"
       ]
      },
      "name": "% Best vs. Worst Selling Pizzas",
      "query": {
       "mdx": "SELECT NON EMPTY {[Measures].[Percent of Total Revenue], [Measures].[total_price.SUM]} ON COLUMNS, NON EMPTY Order(Hierarchize(Descendants({[pizza_sales_table].[pizza_name].[ALL].[AllMember]}, 1, SELF_AND_BEFORE)), [Measures].[Percent of Total Revenue], DESC) ON ROWS FROM [pizza_sales_table] CELL PROPERTIES VALUE, FORMATTED_VALUE, BACK_COLOR, FORE_COLOR, FONT_FLAGS",
       "updateMode": "once"
      },
      "serverKey": "default",
      "widgetKey": "pivot-table"
     }
    }
   },
   "outputs": [
    {
     "data": {
      "application/vnd.atoti.widget.v0+json": {
       "sessionId": "1707418878_BWV272",
       "sessionLocation": {
        "https": false,
        "port": 9092
       },
       "widgetCreationCode": "session.widget"
      },
      "text/html": [
       "<img height=\"352\" width=\"1254\" src=\"data:image/png;base64,iVBORw0KGgoAAAANSUhEUgAABOYAAAFgCAYAAAAfLXZIAAAAAXNSR0IArs4c6QAAIABJREFUeF7snQl0E1X7/++dlIalFRFQNrVCOxNaQLHqKyqKgLjgvqMiIu6KIvpTBATFDRQ33HdUBH15FRVRRGV1V1xY2kxasCC7oCBlaZvM/feb/0xPjE2btE2bwHfO8Ug7d+6983lmck4+fZ57peBBAiRAAiRAAiRAAiRAAiRAAiRAAiRAAiRAAiRQ7wRkvY/IAUmABEiABEiABEiABEiABEiABEiABEiABEiABESFmFNKKfIgARJITAJSSkr0xAwNZ0UCJEACJEACJEACJEACJEACJEACNSZAMVdjdLyQBOqPAMVc/bHmSCRAAiRAAiRAAiRAAiRAAiRAAiRQXwQo5uqLNMchgVoQoJirBTxeSgIkQAIkQAIkQAIkQAIkQAIkQAIJSoBiLkEDw2mRQCgBijk+DyRAAiRAAiRAAiRAAiRAAiRAAiSw5xGgmNvzYso72gMJUMztgUHlLZEACZAACZAACZAACZAACZAACez1BCjm9vpHgACSgQDFXDJEiXMkARIgARIgARIgARIgARIgARIggdgIUMzFxoutSaBBCFDMNQh2DkoCJEACJEACJEACJEACJEACJEACcSVAMRdXvOycBOqGAMVc3XBkLyRAAiRAAiRAAiRAAiRAAiRAAiSQSASqFHOBQECUlZWJxo0bJ9KcOZd6IoD4r127VqSmpooDDjhASFnxuEQ1gy1btoiFCxeKY489Vuy///7CNE2Rl5cnzjzzTOFyucTs2bOD/z/ppJOi6i/ejZYuXSp+/fVXMWDAgOC8EumgmEukaHAuJEACJEACJEACJEACJEACJEACJFA3BCKKuQ8//FDce++9YseOHeKKK64QI0aM+MeIf/zxhzjllFPETTfdJAYPHhxxNr///vu/xEuzZs1ETk6OuPLKK0WvXr3q5k7sXn7++efgv7p3716n/cbS2TfffBNk8uijj4r+/ftXXFpYWChOP/10cdZZZ4kJEyb8o0twyMjIEJMnT45lqJjaQrQtWrRIHHzwweKQQw6JeC1k7AMPPCDefvvtijaI2R133CEuuuiiqMeE5EL7V199VRxzzDHi5ZdfFhMnThS//PKLaNSoUfAZQL+LFy+Ous+aNMSzjLmHHgceeKDo0aOHuPXWW0WLFi2Cp66//noxb948MXPmTJGVlVWToeJ2DcVc3NCyYxIgARIgARIgARIgARIgARIgARJoMAKVirndu3eLww47TNxwww2ic+fOYujQoWL69Omia9euFRMdNmyY+O2338S7774rUlJSIt7A6tWrRb9+/YIC5tprrxVKqaCYgQDB8c4774hDDz20zgBccsklwb6mTp1aZ33G2hFkZm5urrj00kvF3XffXXE55jRu3Lggix9++EFomhY8t2HDhqCgBOcbb7wx1uGibu/EFWNgrEjHqFGjgnGFeD311FPFzp07g8IQGW/jx48XZ599dlRjViXmkIX5/fffB5+dww8/PKr+atro/fffD4plPId4nnE/kG/gjmf6zTffDGaF4lldtmxZ8J5jzQ6s6dyivY5iLlpSbEcCJEACJEACJEACJEACJEACJEACyUOgUjHnZHZ98cUXon379sFSxNtvv12cc845wTv77LPPgmIH8gZZT1UdjpiDkLrwwgsrmqJvCCJk3OG/WA8IvsrkSV2LuUjjVDdfzOPvv/8WH330UUVTMAM7HMji0nU9+O85c+aIm2++OSiIjjzyyOq6/tf5yuZY2e+iEXPIqjvqqKOCYvHFF1+sGAsyq2fPnkGJigy4aI7qxFw0fdRFG0fMIRaZmZnBLnGfDz/8sHj99dfF888/X+eZmzWZd1XPGsVcTYjyGhIgARIgARIgARIgARIgARIgARJIbAKVijmUg2KdLZQYIrsLpZfIkkJ55rZt28Rpp50mzjvvPDF8+PBq7y6SmIO0ggDCOGPHjq3o56233hKzZs0SP/30k+jTp4+4+OKLg0LIOZBp9tRTTwWzrVCO2LdvX3HLLbcES24HDRokIBVxQMA4pbahk1y5cmVQgqFsMbTMdMmSJWLkyJFBAYnsNZRxTps2LZglZhhGMPstVCxWd+PPPPNMxTz32WefoAiCxMR6apBzyKRDnziQhYaMNIgst9stiouLg7Jo/vz5Yv369cH7x9goB8UBBigzRtbilClTxLfffivADTIt0ryx1tuDDz4oioqKgjFt27Ztxb2G3sumTZvE8ccfL66++mpx2223/eM2MT/ELTQeVcWrOjGH8tKmTZuKe+65Jxg/lL2ivHn58uXB9ecgEpG9dtdddwXnjANltmDz6aefBmONGILNfffdF3yOKhOblYk59OXz+YLr3eFZwDOEe0HMIfCwFl54+asDA78Ho9GjRwezP8OPdu3aVUhNrFv3+OOPB2OLrLyjjz46+Jy1bNkyeBnu8YknnhAQ1Sj7PuKII4LltYhl6EExV90bx/MkQAIkQAIkQAIkQAIkQAIkQAIkkHwEKhVzWLQfWXLI4PJ4PEHZ4WQVocwRUgylgNFsClGZmIOMQNbVpEmTggIDkgMHfocsphNPPDEosSCwIMaccldINUhBZG1BDK5YsSKY8QQxg1JFiBVnjTasiweh5vTthMayLNG7d++guMOaZ86Btc/w83fffReUJJAnEJIQJAsWLAj+7pFHHhFnnHFGVFH+8ccfxWWXXSZeeeWVIEuIP8wT94u15zp06CAg73Cce+65Yr/99guO7/f7gyXEEGmQoZA8H3/8cVCoORwg7K677rrgtZCbKDs+//zzBcaMNO/s7OygzAJzyJ8TTjghyNnJIAu9KcwXMcI6eGgTaSOE6uJVnZhDViHEHO7bEbUQcJgT5N/cuXODggziDoIWB/4N+Qh5ijLUr776KviMQOxFynyLJOac5wkl1pBhEL6IidfrDZa54hkPPSDsMJZT1g2BvG7duoomkNa4FzB77rnngufwrEEg41lCn//73/8EYvHee+8Fr7vzzjvFBx98EIw5ngH0jTE+//zz4DPiHBRzUb12bEQCJEACJEACJEACJEACJEACJEACSUUg4uYPyByDiEBmT3p6uoDcQAbdkCFDgllakDsQeJs3bw6WZEZak8sRc6CCa0pKSgSyiHCEZo05MhCC6f777w+e3759e1BaYUdQjAnxhsyoTz75pGLzAmRWIcvr8ssvD14TTSmrk80GCde8efPguneQKd26dQuKK5ScImMP0gcHst3eeOMNcdBBBwWz+KI5cJ8QiE6prrPxAbIR8W/MAeuZQYCBy//93/8F2TplraEyauvWrcHMMEg6iBtHzIVnG1Y372hKWXFvyMgbOHBg8DYhyiDJIPKctQLx+2jiVRMxB5n63//+N5g5iCN0UwznWQp9RhAbiLUvv/wyJjEHAQrxCPnsCL1QMRceY+dekFmHDLvwA88QYo0MOoi2Vq1aBTP/sNkGpBwyFHE89thjQTmL+eLdwpp3yNqDkMaBZ3nGjBlB5hB4zkExF81bxzYkQAIkQAIkQAIkQAIkQAIkQAIkkFwEIoo5SBxIBZRVQspAlEAOIQNozJgxQUHkbGwAsYTMtcoyq0LFnLNGHXZ0dXZPRfYY5MvXX38dLGNEBhGywJwDa9NBijiSA5liKAdERhyy2SANQ49oxBw2rUCJJGQIpAiysiAAn3766WBprJM9hywtSJUuXboEdxGN9bjqqqtEaWlpUOrh3rDZA6QcBCfKWJEBt2vXruC9OFlYKHt84YUXghl2qampFUOC00svvRSUmhCG4BC+Jl11845WzGFQiDdkhEF8QlLigKR77bXXggIzmnhBPEbalRXZlpVlzCFzDKXGzuFkyCGLDRl/EGPhG4YguwxSrLqMOWwygUxMrJeH+0KWHTIqEXewjiTmIEaRvYhMPsSmsuccXBzRF15Oi/JbvAd4l5DtB/EGeQcJiecOz59TQt2pU6dKJTfFXKxvH9uTAAmQAAmQAAmQAAmQAAmQAAmQQOITiCjmwqf+0EMPBTPoIEeaNGkSFBxYg+zkk08OZlI9+eSTwX+HH1WtMYd1zCDdIKGQJeVkylWGDVlibdq0CcopCBhIFRxYsw1S4+CDDw7+HI2YQ7sLLrgg2B9kDMQMxApkEwQkZBmEIASKI6QgFXG/uPdoD6fUE6W/kI1YkwzlrcjWguzDGn3I+IKsQxsIH2yIAQmJ+w09wAdCFNmCq1atCoo5lEOGZlVVN+9YxFzo2BBTGB/ZXmCGuSGDsbp4bdy4MWYx5zByxsdzhbJQiDknYxIlzigPdQ4nm606MYf2znX4P9bsQzyckuzKxBxKnyELIURR2opy0/AD4hLPHZ5DyFjnQHku1gKE4Aw/HDEHSYw2WCcQB/hC4joZoM51FHPRvnVsRwIkQAIkQAIkQAIkQAIkQAIkQALJQyAqMedsBuGsB4dF6iHEnJJSSAmsSwapFH5EEnNo55R3okx2zZo1wawnyKzKdnrFBgpOuSwykJBlhLJPrOHmyCL0Ga2YcyQPstewXh2y8JCdFXqglBaliRBguFesEQdhF+2BjDGUXSLLC4IJggYZUTiwcQOEV0pKSlD2QQrhQNYVJCHkXGhmFuQh/sN8IHEqE3POvCLNOxoxhzlhbTTM0ykndfqFmMQ9QGBCRlUXLwjXWDPmqhJzkJcQVigDDi0pnjp1ajAu1Ym50F1ZK4thZWIOzzyEJDaF6N69+78uQ2Yhsi6RRYh5ISvSOZxYOtlw+++/fzALFRwdMee0RQkrSquRXQkJGL6eIcVctG8d25EACZAACZAACZAACZAACZAACZBA8hCoVsxB5qCMD+ulQTTgwE6hWJMNGURZWVnB7DOIEmdDgtDbr0rM4TpICKxphoXzUUaKddJCBR82NIAIxBzw77/++ivYzhEgyORDGS2kDeQdxBxKZZFVVdWBtfGOO+644FgQKs66ebgGZY5Y/yu0JPH0008Pljs6i/YjGwqZVqHlpuHjIRsOmXLI7guVh2iHfrBRA47QtfY+/PDD4G6gyBIDYxxYrw7yEAfkkrPGXHjGXHXzdta9C1+bLnTezvpyEF3hu9Bec801wTJctIG8qy5edS3mwBxMUL6MmGPNP4yBDLOabP4QHq9wMeeIQGwsgnLjyuKLrE9sIgHRhvUKQw88i8hudNYqxDmnNBftse4cRB2yHg855JDgpX/++Wcwkw+ZdxB6zkExlzwfqpwpCZAACZAACZAACZAACZAACZAACURLoFoxh80QIEGwjleLFi2C/aK8D9IKa7BByEFARMpWcsQcxBTEDg5IHcilwsJCccopp4gnnngiuAHDXXfdFdxkAlICIrCgoCC4GYPTBvOAiMO42J0VAu7BBx+s2BQBfTtrtCGby9ndNRIMiESnRBY7gDqyD4v7z5s3L7jTK+aBLDVIScwf5afOxgehu2tGGgOiEZIQjFCK6hyO3MTPjuDEv5HtBnGG85CGrVu3Dp7HLq3gBBaRxFx180b/kKEQScjawtp+2FAi9EBswRa7wEI6YR0/ZCg6682h9BNZbdHEqyabP1SVMYd5Omvbhc4ZpdTInqzLjDknEw5rC44dO/Yf675hp2I8zxgPMcFzgfXrnAOZhj169KjIfnQ4QtBhXUAcEHMZGRlBCQfBC0mLPlE+jZ1bQ3crRnuKuWg/0tiOBEiABEiABEiABEiABEiABEiABJKHQJViDmLsjDPOCJbyQdaEHhBZ2EkUmUrIZoMwq2xnVqfsNRwJhBcW3occc0o2sVECRBtEFsQIDmSKQVpg4wFkfCGrCSWwzoE+sFMrdm7FgTW7IJ1Q6lpd6SlkE9qGbziAskKs+/XFF19UjAMhhQwmSBRkbmHzCOyoGTqXysLulFk+++yzwY0zQg9INshFZKCFlkBCyiFjDXIQBzYdGDRoUFCq4Ygk5qqbN67FPUEQgm94uaQzN5Szjho16h/3j3MQTCjBjTZejphDaS5EFcqOMSZEp7P5Q1paWlBCgSmyC0OzBzEmxCzYYY055wAflPOCHTYegTwDm0hiDhIMm4qElhJXFiunXBhjITsTMa/scDYNQRadszZcaDsnOxL3hOxHZ71AiFxkXuJ6ZEZiN2Nk/OGeTdMMdoFMTZQ+h2crUswlz4cqZ0oCJEACJEACJEACJEACJEACJEAC0RKoNmOuqo6wiQE2HAjfGTXawSO1QzYWxNG+++4bXIMt/EBWF0r+UDoYabdUlODiXGU7aEY7P9wfJBUW/A8VZ7geZar4XWUyMtr+q2uH8bGDKEp0Yzmqmjf6AT9IUGR2VTV/iFCUYqJdhw4dIrKsLl6xzL2qtnjWJk+eHBSVWOPQOZy13JA1h/LWRDswb7DE8xzpQJwRk0htKOYSLaqcDwmQAAmQAAmQAAmQAAmQAAmQAAnUnkCtxFzth2cPJBAbAawnh3JW7JKLddmQ2YYyX2zeAWm3px4Uc3tqZHlfJEACJEACJEACJEACJEACJEACezMBirm9OfpJeO/ILMPGGFivDdl8hmEEy2SvvfbaKjfiSMJb/ceUKeaSPYKcPwmQAAmQAAmQAAmQAAmQAAmQAAn8mwDFHJ8KEkgCAhRzSRAkTpEESIAESIAESIAESIAESIAESIAEYiRAMRcjMDYngYYgQDHXENQ5JgmQAAmQAAmQAAmQAAmQAAmQAAnElwDFXHz5sncSqBMCFHN1gpGdkAAJkAAJkAAJkAAJkAAJkAAJkEBCEaCYS6hwcDIkUDkBijk+GSRAAiRAAiRAAiRAAiRAAiRAAiSw5xGgmNvzYso72gMJUMztgUHlLZEACZAACZAACZAACZAACZAACez1BCjm9vpHgACSgQDFXDJEiXMkARIgARIgARIgARIgARIgARIggdgIUMzFxoutSaBBCFDMNQh2DkoCJEACJEACJEACJEACJEACJEACcSVQIebiOgo7JwESIAESIAESIAESIAESIAESIAESIAESIAES+AcBijk+ECRAAiRAAiRAAiRAAiRAAiRAAiRAAiRAAiTQAAQo5hoAOockARIgARIgARIgARIgARIgARIgARIgARIgAYq5PfwZME1T4RYNw2Cs9/BY8/ZIgARIgARIgARIgARIgARIgARIgASSiwBlTXLFK+bZUszFjIwXkAAJkAAJkAAJkAAJkAAJkAAJkAAJkEC9EKCYqxfMDTcIxVzDsefIJEACJEACJEACJEACJEACJEACJEACJFAVAYq5Pfz5oJjbwwPM2yMBEiABEiABEiABEiABEiABEiABEkhaAhRzSRu66CZOMRcdJ7YiARIgARIgARIgARIgARIgARIgARIggfomQDFX38TreTyKuXoGzuFIgARIgARIgARIgARIgARIgARIgARIIEoCFHNRgkrWZhRzyRo5zpsESIAESIAESIAESIAESIAESIAESGBPJ1BjMZeVldXf5XJ183q9D+3pkJL5/vZ2MZednZ1jWVY3pVSBaZo/JnMsE2nuOTk5B/n9/v9IKed6vd4tdT03j8dzmxDiN6/X+15d952dnZ1qWVY7TdPW5eXlldZ1/+yPBEiABEiABEiABEiABEiABEiABKIlUGMxZxjGG0KIswOBQOvCwsKSaAdku/olEEnM5ebmNiouLg6XEnOVUsN9Pt+v9TvLyKN5PJ4BSqkDTNN8ItY56bp+pJTyeyHEJiHECNM0X3P6yMrKOl7TtAWV9amUetTn890eaTyPx3OMUqpPamrq00uXLv0r1nlV1d7j8fTCea/XO99pZxjGPCnlAq/Xe08sY8XKLpb2uq5fJKV8W9O0Hvn5+d/GMq8o2roMw1gnpfzK6/WeG0X7qJpkZGQ0drvdTwshhoRc8HwgEBiGzzBd18dIKe9NSUk5ePny5avRpkuXLgeUlZVtUEo95PP5RhqGMVoIcR/+M01zTOjAuq5/I6U82rKsEwoKChZGNSk2IgESIAESIAESIAESIAESIAES2KsJ1FjM9erVK+XPP/90L1myZMdeTTDBbz4aMaeUukYI0U1KeZMQYrvb7W6bKHH1eDwfKaWONE3zgFhRG4ZxnRDiOaXUYeGysVOnTgempKScZ/c5GPcvhLgVP0spfwkVY+HjIptLKTUxJSUla/ny5YWxzquq9pBwQohepmlWvJsejyco5Gog5mJiFwvrOIs5kZub2zQ9Pb10/vz5/rri6/F4blJKPSWlfFwIMduyrDPwzEspr/V6vS9WJeaklOO9Xu9dhmHcLYQYhzm1bdu2kTM/Xdc9Usp8+/np5fV6K5W+dXUv7IcESIAESIAESIAESIAESIAESGDPIBBRzGVmZnZyuVwfSylfV0qdJITIVUq9m5KSMjQvL6/YMIzxQoiTTNPMtTOIKrKRbDS7TdM81OPxTFNKHR6KSyl1v8/ne9MwDMgQfEnuLYTwKaUm+Xy+Z6pD6/F4HlVK9RRCTBdC3K2U+lbTtHu8Xu/XuNbj8ZyrlBpry5afLMu6FRkstkzAl+pnhRDIiEotL5cbBBFSnlV1g5TydyHE5V6vdzH6MQzjLCHE/9n9zFZK3erz+dZWN79EOh+FmHvFNM2rMGdHTEgpg2Ih0v2HcHxVCAGZ97RpmhM8Hs95YCSEOLacKTK+bjFNc0lVLJ2+pJRPKaWGSin9lmVN8Pl8bxiG8ZwQAnINh0/TtAH5+fk/hfLNysrqrGkayql7K6WWa5o2yev1TvN4PNdAngkh0oUQa+yMJ8T9X4dhGG+V939JqAyrot8r8Jw6/Uop74PUqYuYI1vOfm4hB+915KCdRYeYRJ0xF4mdYRhn2s/+YUKIL6WUd+N5r6z9AQccsGT9+vV3CSGuEEK0RvtAIHBNYWHhmljEXMj7OlUIgf7WQG6ZpvmB/dwh0+wXuC7E0eVytQoEAnOFEItN07wFrlTX9bullJfabWampqbe5GQrejyeu5RSmOO+5Y/x1LS0tDsWL15cFh4T+7PoYrfbnWaLZ03X9WGaphV4vd6ZsYo5y7JOKigo+Nx+vvG5AmmH2FHM1cULwT5IgARIgARIgARIgARIgARIYC8gEFHM2WIiDwyUUpM1TWuulDpHKfWiz+e71illNU1zH4/Hk2FZllNy1kpKiS/fX5mmeZyu6xcLIdrZX1jxxfpwpVRfn8831zAMrxCiqZTyYaUUrocgO9SROZH4OyIFYyilfpJSDhVCLDJN8/jMzMwOLpcLgg1f7GeWZ4Bhrarm5aWQ++q6PkRKCYniE0K843yRRj+QDkKIOyGUTNM80ePxQET+qJT6TNO0D5VS+NK9oVwmdBdCWMnybMQo5kZIKR9CfDRN2xrp/kM4bhdCvFUuXj90uVx/WZb1jRDiBynl+0qp68E9LS2t5Y4dO7DGW6UsQ/qCrIEgQ/ba/i6XK93v95+ETCU4Q6UU4vhOqBjt2LFj80aNGi2DYJVSPqmUOg1SEPN3uVw7LMsaWS53zhBCTJBSfuiI2/DYhYu5qvqVUm6TUt6jlOqPfjVNe78uSzkry46riZjTdf2ccHZ4D+3SXrwz/1NK3YAYuVwu3e/39whvL6U8RgjxXyHE85DWSqkHIMNN07wwFjEX8r6uVErNkFIORIw1TdPz8/MLDMP42xadX2F+bdq0uWP9+vUQ4AswlpOhiLkopQqllIirM48bpZRPK6WellJuRIkpMuK8Xu/wSuKM93s8RL6U8iVN0xZhfKddjGLuU5RIm6Z5efmYwdJbiEQhxKkUc8ny6ch5kgAJkAAJkAAJkAAJkAAJkEDDE4hGzE01TRNCTRqGsQjZY5BxoWIu5DbQZgayXjRN65qfn7/KOZeVlfUfTdO+DV2/q1OnTvu73e6dO3fuTElNTT1FSjlNSnkJMp6qQuN80U9NTd0PWTP2XPBlf5+0tLTdW7dubREIBP5u3LhxM6XUBKwphXWjysrKTrbFXJ9yiTdX13WUtd3krCllGMbHQojj7PtzMmAOlVL+bVnW5chicmRCw4cuuhlEIeYgXiFFu0opkUWYHggEIGvwb8jIf91/IBDoZXO80DRNZC0i2+5BCFmlVAfIM8MwjpBSng6Ra2e9VdmXZVmnFxQUzDIMA2LuVSnlyV6vd05V5ZVZWVkQiJ85z0zXrl1blJaW/onyVdM0b3BKF6srOQ0Xc1H0G7dS1khlq5BzVZXXVvY0hLMzDCP4TDvPu67rkEgfK6Uu9vl874S3Rznp1q1b09xu91ZN01qUlZUFsx9RVlwTMaeU6uzz+bwhfIMlpLaYW9+2bdscpzTUMAxItqCYMwwD6wRCrmeXzz9gGMYFeORM03zAMAysh3iIlBLZt3iWsfZlz9DsR4cNNn0IBAJPhmRh4hSkPJ7jdbGIOaXUAHxelZWV7ZuSkoJn/XPndxRz0X02sRUJkAAJkAAJkAAJkAAJkAAJkIAQ0Yi5YaZp4sssSkQfQ6kihFhpaSl+dzYklgNS1/XhUspHhRBnmab5ofN7j8fTUimFUrX1LpfrOGcnRMMw7hBCYDF1lBs6x0DTNKdEIebOcMZ21n1SSrVOT0/fuWPHjicgG0L7LS/JPQSlZxBKgUAgp7CwMM/j8SA7bIRT2mYYBrLoTrXF3Pu4j/B5OAIpWR6eaMRcyL0gk/BK0zS/Mgwj4v2XM0Tm1Ysul6tLXl7eclxvt+8d+jw4/cbSl8fjOUEphTJYPFsfVCXmPB7PULustCLL0jAMZEuuQrZmTcVcFP3Wq5iriZSz39d/rDHnxMGRVvbOqquUUvf4fL57w1kjE1Yp9Ypdal7xmOD6mog5Z1xd15FV+4cQ4hHTNO+wxdwnpmleFPLMhIo55WTIhb93hmHg3L8OR9pXdg4ZkSkpKceUZwFiE4jzsImF1+sd4Ig5IURH0zR/s59rZPuuDV9jDp8ZJSUlxVLKwZZlIdO3ncvlGoOsUYq5ZPl05DxJgARIgARIgARIgARIgARIoOEJVCvmUCLm8/lQKgr5AtkGIaYZhvF6qJiz15lDKVp4GZnm8XhQCnq8XaYa/MKbk5OT6ff7UUb2ipTYOcc8AAAgAElEQVTyfrtcEeVhtRJzmqYhS+s1pdRNqamp/ystLb0OpYexijl7XazhyB5r3rx5xQL0ixcvxg60gYYPXXQziELMfeL3+7FuWsnKlSu3Ob1Wdf+6rl8ZKjhxja7rE6WUt5WUlLQoKiraapcUH15SUrKwcePGWAewUpbhfcUo5s5AGa0jSzMzM90ul2s3Sq99Pt/gWoi56voNijm4atM0zegiEV2r8Iy5SOvORdNbuGhzYuRIK+edVUoNwpp+lbSfLKUchF1GGzduvLS0tPQ9IUSmaZoH1kTMCSHaIzMN2ZR2yfPNXq/3KYg5KeUsyLEIYg5ZcX6sZ2k/a4ciMxMZlh6PZ7lS6q+0tLR+oUwWL168M5yRYRi3SCl3hawJiM+xrdhXwzTNo3RdHyilRMZdxR8WPB5PP6XUp84GEc4fASAZPR7Pi0opzAlraF6madoKirlonky2IQESIAESIAESIAESIAESIAEScAhUK+bshlibCVltyG6baZrmmaGlrJmZma1dLhfW+moipbzCsqxduM7n8822s+KwTtgr2DwCv2/UqFFB+WL87kAggGuCa1jZfWMTiNqKOWxAgDWxRgYCgSWapmGDgv1jFXOGYZwihPgEpZhKqbc0TbsaX76dMsBkeYSiEHMVmz+E3lNV9++UBDuZh7YsCZZFSilnKKUgbUcJIY60M4uwUUelLMP7ChdzzqYESqkbGzVq9Pby5ctRqho8srOz2wQCgfV41BBvpRQyHAeipNDn871dUzFXXb9YNxFljPa6Ztj4wrSz0UqQ9ZWVldUfm1CgRDg9PT2vuLgY5ZLzTNPEe1TlUUUpa8w7s4az8/v9RyEOiJFlWW/aa0Ee6ZT6VtIem29cCAEvpTxAKfUCNm6ohZhDKTyejZvtDVWw2+6PUYg5fH7cKaUcZ1lWPqQw1onz+Xz9nBJqrDNpn3tYCJGGkNjPEsqiB2J9wZD7G4uyeghHe726hxGbzp07H2xZVhHWjlNKjZZSYi3JB8PWwwvuygoxl5WVdbymacHdV7EmolKqC8VcdU84z5MACZAACZAACZAACZAACZAACYQSiEbMQWydji+nyHKxs+SQ9YLMkmApq8fjQZYaNlr4x9G2bdtG69evx4LowfWfQo7Rpmk+pOv6c1LKa/B7ZDlB6kF+maaJTQAiHvaaYJWWsmqaVr6xpcJuj9gZdLu99tM5mqZlBAKBftGWsmJwuzQXQgRScjvkEHaTTaZHqKZirqr713X96vCMObT3eDy3K6XG2Lw2WZZ1JbKaYukrXMzpun6klBI79eL/x4Zv4GAYxom22NXtGE30+XxYSw3xC24MEAgEMgsLC1dEipthGIgpnruK96Gqfu3NIbC5CDKlRpim+bC9kUlwJ+LyclqUSL5cviFJH7fb/V1JSQnk4VzTNM+u7tmJsPlDzFLOvv9/sSvPEBtm74yK93mlEOJWp+w8nHV5uxKlFNZdRFusL4ds0bY1FHPIQnwdazracUL57GOYZ3Vizl4bDiW1l9n8lqSkpJy3fPnywtzc3Ebbt29/CZl99jmUY19qCz+sRQfx75RFo6Qeu0djQxDnmB4IBK4qLCzEBhSYC56nt+17xq82Yedm0zRn2+crxFy5oEPGHdbR/BQ7GzvraEL4YRfo6mLN8yRAAiRAAiRAAiRAAiRAAiRAAiRQrZizS7heMgwDWSjYhbNOjw4dOjRp3LixVVhYiC/9wUPX9RuklG0jDLTE2XCgqokYhpFevn4VytlqW3aK9bRa+nw+ZGolzW6sDptIYi6GIMZ6/zInJ6dFaGZbyFix9hU6TVdVsczIyNi3qKgIcqVOY1RNvxVzgiBKT09XzuYF2DjBKafMyMhoXFRUVBrN3MJ3YIWoKzfNY7FbMDYfiXUDCBtgODvZtWvXfbFxSoTn4B/tISJDy5xDr8G9ud1uZEdWeqDUWEoJGRgU6eCSnp5e6nCK4TkUYLxt27YmjkQLvRbnSktL08LvKTQOTvtu3bo1Kykp6ZCWlvZ7ZSWvaGcYRnAnaZTexjJHtiUBEiABEiABEiABEiABEiABEiCBWAhEK+aws2a9Hbquz5FSHh1hwCnYcbPeJpPkA9WBmEtyApx+PAlAgGNzhCrGuF4IcZoj5uI5F/ZNAiRAAiRAAiRAAiRAAiRAAiRAAslGIKKY69WrV8qaNWvaNG3a9K8lS5bsSLYb43z/PwGKOT4JDU0gJydnP7/f35jZZw0dCY5PAiRAAiRAAiRAAiRAAiRAAiSQaAQiirlEmyjnUzMCFHM148arSIAESIAESIAESIAESIAESIAESIAESCDeBCjm4k24gfunmGvgAHB4EiABEiABEiABEiABEiABEiABEiABEohAgGJuD380KOb28ADz9kiABEiABEiABEiABEiABEiABEiABJKWAMVc0oYuuolTzEXHia1IgARIgARIgARIgARIgARIgARIgARIoL4JUMzVN/F6Ho9irp6BczgSIAESIAESIAESIAESIAESIAESIAESiJJAhZhzBE6U17EZCZAACZBAPREwDIN/RKkn1hyGBEiABEiABEiABEiABEiABOqTAMVcfdLmWCRAAiRQAwIUczWAxktIgARIgARIgARIgARIgARIIAkIMAsjCYJUmymylLU29JLjWsSY4iY5YlWTWTK+NaHGa0iABEiABEiABEiABEiABEggOQhQzCVHnGo8S4q5GqNLmgspbpImVDWaKONbI2y8iARIgARIgARIgARIgARIgASSggDFXFKEqeaTpJirObtkuZLiJlkiVbN5Mr4148arSIAESIAESIAESIAESIAESCAZCFDMJUOUajFHirlawEuSSylukiRQNZwm41tDcLyMBEiABEiABEiABEiABEiABJKAAMVcEgSpNlOkmKsNveS4luImOeJU01kyvjUlx+tIgARIgARIgARIgARIgARIIPEJUMwlfoxqNUOKuVrhS4qLKW6SIkw1niTjW2N0vJAESIAESIAESIAESIAESIAEEp4AxVzCh6h2E6SYqx2/ZLia4iYZolTzOTK+NWfHK0mABEiABEiABEiABEiABEgg0Qk0qJgzDMOwLEsrKCjIT3RQyTo/irnEj5zH42nZpk2bbfPnz/eHz7ZXr14p69at29fn822OdCd7gbjRMjIy9ikqKtpax9Gssl+wX79+/f6maa4XQqjwsbt06XLAsmXLNlY3p6riW921OL8XxDcaDGxDAiRAAiRAAiRAAiRAAiRAAnskgYhizuPxjFRKPVDZXSulOvh8vrWVncvOzm7j9/sH+Hy+x6sjpuv6g5qmNfZ6vcOra8vzNSNAMVczbnVxVVZWVn9N014VQrxnmub14X1C2CilZgghegohtiulxoa+Nx6P5xql1EQhRLpS6lsp5Xmmaa4L72dPFTe2GLtfCHGnfc+blFJX+Hy+T+yfXYZh3CaEmKCUwmfO24ZhfCyEOLUSRhWfdVH0KwzDmCCEQMzShRCbNE07Kz8//1v06/F4jlFKvSaE0IUQK4UQV5umOTeW+Oq63l5KuSb0GqXUZz6fr9/eEt+6eMfYBwmQAAmQAAmQAAmQAAmQAAkkO4GIYq5Dhw5NWrRo0Rg3WFpa+qlSarLb7Z6Gn5cuXbpNCGFVdvOdO3c+3LKsxaZpVpuNRzEX/8eHYi7+jCsbwTCMcUKIYUKIX5RS+T6f79rwdoZhvCWlbNKsWbPLiouLs4UQP1iWdXRBQcF3Ho+nq1JqiWVZJ+zateuHZs2avSCl3M/r9Z6+t4gbW2xOS0lJOXz58uUrPB7PIAixkpKSJhkZGf7169d/JoRoJoRoK6W8w+v1TuvWrVszpVSqw6i0tPRGIcQppmke5/yuqn6Liop267o+UEo5UdO04/Lz8wsMw4AYvKlt27aHbN++PbW4uHipEOLFtm3bPrpu3bprpZRjUlNTPUuXLv0rNDZVxTczM7O7y+V6OzU19WjnmkAgUJaXl1e8t8S3Yd5MjkoCJEACJEACJEACJEACJEACiUWgWnmG6RqG8aVS6gWfz/emM33DMEYLIQYLIfAleKppmiOzs7M9gUAAmSP7CyGQDYJMktkej2eAUuoeZJhIKWeVlZVduWLFik0Uc/F/GCjm4s84gpi7T9O0ZwOBwE1CiFbhYi43N7dRcXFxqRDiUNM0l9jv2cvlAmizaZoj7IzVw0zTvNA+dwiys0pKSlqEl3TuqRlzEGTl2Wo3+Hy+HmCQk5NzkN/vX5WamrpfampqyY4dO+7z+/0jXS7XIinl4xBzobHIyMho7Ha7V1mWdWVBQcEs51xV/UKuGYYxT0r5utfrnZydnZ2al5fn79ixY/rKlSu36bp+nJTy47S0tJaLFy8uE0Iga6/IsqzrQseIIr79lFLDTdM8BRl8lZUxO/PdU+PbMG8mRyUBEiABEiABEiABEiABEiCBxCJQIzHnlNhZlnWulLJESjlZCDE5EAg8nJKScrpS6n+o+HK5XGs1TWtWVlZWgC/YUsp8pRRKXH82TfMWirn4PwwUc/FnXNUIuq6jHPxfYi4nJyfT7/cXIPsLWVroQ9f1W6WUJ5imebau6yiVLPL5fPfa/UssyRgIBA4vLCz8OXTMPVXcdO3atUVZWRn+KDBfCLFYKXW1EGJJuOQ0DOP7ysScrutXSSmHmqZ5WOgacdX1axgG1o1DCfHNQogOQoi5SqnLUb7v8XiuUEpdFZqBZxjGh1LKz7xe71NOXKqLr2EYl9n9u8tLnbthDE3TrszPz18V/jztqfFt2DeTo5MACZAACZAACZAACZAACZBAYhCokZgzDGO2UupDn8/3LG7DMIzzhRB3m6Z5aBWlrBALacgSkVL2N03zKIq5+D8EFHPxZ1wTMWevU/ZVaMm3XUIJkXSU/Y7N9Pl8zzj928JoELJQ9wYxl5ub27S4uPglIcQl9lpuHYUQQ0zTxLp9FUdlYs7OWMP6b8hKmx7avqp+7XM70F5KeXIgEPjd5XI9opTCJhCIy51Syv94vd5zQ+LyilJqo8/nG+n8rrr42hJ2hJRyoN/vX+NyuVD6nIXPUIq5hn1nOToJkAAJkAAJkAAJkAAJkAAJ1CeBmoq5jZZlXVpQUPA5Jqvr+qFSyl9M03R17tz5sNA15jIzM92apk2UUg6yF1IP3h+EBMVc/ENNMRd/xjURc507dz7Ysqwit9udtmTJkqAIMgzj/4QQR6J81ePxvAjZY5rm3Xb/KJn0Sym7eb1erHFWceypGVX4fBBCnGhZ1smFhYV/G4ZxBNbhsxn9GCLG/pUxZ2ek3du2bVsjvEy0un4Nw8AOrDNN0zwTYzixatSoUZvyDL6+SqmbnPJaO27YcALtn3PmFEV8W6akpKQ4u7rqut5KSvlHZRvr7Knxbdg3k6OTAAmQAAmQAAmQAAmQAAmQQGIQqKmYq1iDCbdhL6b+mGmaRnjGnGEYF5SX8j1tWVavgoKCfLsMdoBpmidSzMX/IaCYiz/jmog5e2fQMk3Teji7fRqG8U55dpgPMs4wjDuEEL2xBpkth7pYlrU0VOQ54+6p4sYwjC+EEHNM08QOqcHDMIxflVJP+Xw+rMfn/O4fYs5mu1wIMd40TZQE/+Oorl+Px7Mcm92YpvmIzb6tZVnYDbd9+S67B1mWNSctLa3N4sWLd2INOmTVIfPN6/XOcQaqLr72Z+ZO0zTn4Zrs7Oy0QCCwXQjR0TTN30InvKfGt2HfTI5OAiRAAiRAAiRAAiRAAiRAAolBoEZizl6YfogQoq8QokQI8b4Q4husG+dkiiil/uPz+Rbrun4JdjgMBAJdhBBul8uFRdj/pJirnweAYq5+OEcaJXSNuYyMjH3dbvfYRo0ajUemlGEYzymlOrnd7otKS0uxDhrWGeuan5+/LDMzs5PL5SqUUp7h9/sXulyuN4QQO0zTvDR8rD1V3Oi6PlZKeYlS6qz09PQVxcXFZ5c7rP+Gbphhy7p/iDnnjwGBQOCgwsJCfD7hjwcdkW3o8/ner65fwzCuE0KMKo/H8Tt27NiQlpb2pFIKa/8ZEHGWZf1sWdb7O3fuvD8tLW2YUuqGtLQ0A6JO1/UxLpdrDmRrVfG116q7W0rZR9O0dX6/H/d6uWmaB+4t8W3YN5OjkwAJkAAJkAAJkAAJkAAJkEBiEIhazAkhnjdNcwqmbWeDvCCEuBI/SylnNGvW7DJ8MbW/KGPzh/OklOft3r17rtvt/lAI0VMIgYwQSLwDKebq5wGgmKsfztGIuczMzGyXy7XcsqyjCwoKvsMmBKWlpTOFEMfi3ZBSjgrdQMDevOAxuwT8B5fLdWZeXt6GvUXcYL237du3PyOlvMK+ZzC6GbulhjIIX2MOWXVSype8Xu/TTjt7bbieXq/39Or6tbPgsH4m/viAA2vVnWaapmlLvv9omjYV2W3YfVpKeZnX611g79C6Tik13ufzPV5VfCsZA/2cFl6mjPH2VPHasG8mRycBEiABEiABEiABEiABEiCBxCAQlZiLNFUssL5t2zbNyUoJbYcvnnl5eWXOboiZmZn7dOjQYWf4ek+JgWHPnQXFXMLF1lW+UUogdFadO3duW1ZW9mdl75G9iUFr0zRRSlnpsaeLG/whYM2aNS0KCwv/qGk0DcN4BetghorP6vqFWCspKWmK3VgrG7dTp04HrlixYk3ojq+Qc7HE1zCMdL/fv++KFSt+31vjW9OY8joSIAESIAESIAESIAESIAES2BMI1ErM7QkA9vR7oJjb0yPMjKpoIqzr+jcul+tqlAlH0z6R2uzp4jWRWHMuJEACJEACJEACJEACJEACJFDfBCjm6pt4PY9HMVfPwBtgOIqb6qFnZmZ2KCwsROYbdlxNqoPxTapwcbIkQAIkQAIkQAIkQAIkQAIkEBMBirmYcCVfY4q55ItZrDOmuImVWHK1Z3yTK16cLQmQAAmQAAmQAAmQAAmQAAnEQoBiLhZaSdiWYi4JgxbjlCluYgSWZM0Z3yQLGKdLAiRAAiRAAiRAAiRAAiRAAjEQoJiLAVYyNqWYS8aoxTZnipvYeCVba8Y32SLG+ZIACZAACZAACZAACZAACZBA9AQo5qJnlZQtKeaSMmwxTZriJiZcSdeY8U26kHHCJEACJEACJEACJEACJEACJBA1AYq5qFElZ0OKueSMWyyzpriJhVbytWV8ky9mnDEJkAAJkAAJkAAJkAAJkAAJREugQswVFxdPjfYitkseAmvXrh2A2bZv335a8syaM42FAGLM+MZCLLnaIr6GYfCPKMkVNs6WBEiABEiABEiABEiABEiABKIiQDEXFabkbUQxl7yxi3bmFHPRkkrOdhRzyRk3zpoESIAESIAESIAESIAESIAEoiFAMRcNpSRuQzGXxMGLcuoUc1GCStJmFHNJGjhOmwRIgARIgARIgARIgARIgASiIEAxFwWkZG5CMZfM0Ytu7hRz0XFK1lYUc8kaOc6bBEiABEiABEiABEiABEiABKonQDFXPaOkbkExl9Thi2ryFHNRYUraRhRzSRs6TpwESIAESIAESIAESIAESIAEqiVAMVctouRuQDGX3PGLZvYUc9FQSt42FHPJGzvOnARIgARIgARIgARIgARIgASqI0AxVx2hJD9PMZfkAYxi+hRzUUBK4iYUc0kcPE6dBEiABEiABEiABEiABEiABKohUGMxt2zZsn0syxLdunX7O16UazrGrFmz2nTv3n1ru3btdkea219//dUoEAjIVq1alTpt/H6//OSTT9r069dvo9vttsKvjabfDRs2uPPz8/c58cQT/4gXl1j6pZiLhVbDtN24caO7ZcuWpSkpKaomM6CY+ye1nTt3uvDZlJaWFqgJT+eauuoH8U1NTbVatGhRVpP5UMzVhBqvIQESIAESIAESIAESIAESIIHkIBBRzI0fPz5n+vTp3Sq7jffee+/9V199VS8tLXU99NBDP9X0VuMxBmRb7969z77yyit/HjRoUFH43L766quWEydOPGL16tX74VybNm22jR079pujjjrqr61btzbq06fP+bNmzXqvTZs2JaHXVtev03bmzJltn3/++e6zZs36uKZc6vI6irm6pFm3fUHYDB06tOeKFStau93usgsvvHDpsGHDTIyyatWqJueee+7ZoSMahrFh6tSp88JnsTeKubvuuuvwOXPmGEOHDv3miiuuCL7nmzdvTr399tuPXrp0aXv8nJGRsXn8+PFfZ2Vl7YgUudr0M3369A7jx4/v2bNnzxVPPPHE9+FjrFy5sunw4cOP37RpU1pJSUmj3Nzc1Y899ti3EIaxxtcwjIrP6rp9CtkbCZAACZAACZAACZAACZAACZBAQxKIKOaQLYL/MLmrr776xL59+6686KKLVuFnZH6MGzeuW23FXLzGgERzuVz/yj4qKChoNmjQoFP79u1bcPPNN+c3bdo08Nhjj3WeMWNG188///x/UkoRSczhviP1GxpAirmGfJyTa+zrrrvuGLxDkyZN+nrp0qXNb7rpppOfeOKJOT179tzy/ffftxgzZsyxU6ZMmePcFbKu9tlnH//eLubmzZvXetSoUSfss88+uy+66KLlgwcP/g1MRo4c2X3dunXpTz311Ndgdf311x+7zz77lFQmzdC+Nv1AAp555plntm3bdlu7du3+fuqpp74Lj8s111xzbFpaWukjjzzy4x9//JF6ySWXnHLppZcuHTJkyMpY40sxl1zvNmdLAiRAAiRAAiRAAiRAAiRAAtESiKqU9YILLujbv3//QiczBZ2PHTv20M2bNzf9+++/3Xl5eW1zcnLWPfbYY984paHvvvtu+ylTpnTZuHFj+tFHH73qoYceWlxZeagz0VjHQMnomDFjjli2bFnbtLS0kvPPPz/vmmuuWYH+Lrvssl6DBg3KO+mkkzaFgnjsscc8ixYtOvh///vfnFBxd+uttx7Vv3//oiOOOOIviLkBAwb88vHHH+u4dtCgQb86mXeh/f79998po0ePzv3xxx8PhCDA+FddddXKUDFXXFzsuuGGG47TdX3L6NGjly1ZsmSfiRMndi8sLGyt6/qmUaNGLUY2z9q1axsPHDjw5DPPPNM7Y8aM7P3333/75ZdfvvyMM85YH20gI7VjxlxtCcbn+tLSUq1Hjx4XvfDCC58cccQRWzHKsGHDjoJIGjdu3K8om542bZpnypQp81FiXVWZ696UMVdSUqKdddZZp11wwQV5X3zxxcEnnXRSkSPmPvvss/07depU3LFjx53g+fDDD2fn5+e3fO211xaFR7G2/eAzA3Hp0KHD9jVr1kAG/kvMPfHEE8app5661jCMYowPUde+ffvtY8eOXRJrfCnm4vMeslcSIAESIAESIAESIAESIAESaGgCtRJzH330UfZtt932VevWrXc/+uijRx1zzDGrxowZs/SXX35pPmTIkNNuuOGG7zwez7ZHHnnkyK5du2647777fol0w5HEXKQxxowZc+hvv/3W4pZbbvnlp59+avnCCy8c9eGHH85o37797v79+5923XXX/Rwutm688cYeLVu23AnxUdk8nFLWrl27rr3hhhuWzp49u8MHH3zQZd68edORqRTaL7KdtmzZ0nTYsGE/FxYWpk+aNKnHU0899emWLVvcKGWdMWPG7Guuuea41NTUwLPPPvv17t27tXPPPfe03Nzcteecc85vU6ZM0VevXt3i/fffn7169eom55xzztlHHHHEqiFDhuTPmDHjkMWLF7efM2fOzNo+IBRztSUYn+vz8vLSBw4cePqiRYv+i8xNjAKR8+uvv+4PkfT6669nvP/++4bf79fWrVu3r67rG8eNG/ddZWWZe5OYA6NFixYd9N///vfzgQMH9goVc2AI4bZo0aJWK1euTJ88eXL3sWPHLjr55JM3hkexNv188803+9122229p0+f/tGUKVM6RhJzoWPiDwnnnnvuGaNHj/7ytNNO2xBrfCnm4vMeslcSIAESIAESIAESIAESIAESaGgCtRJz69evT3vxxRe/wk088MADXQoLC1tAKiBTZdmyZa2ffvrp4LlPP/20zdNPP33kggULZsQq5iKN4fSDzCNs5HDaaaedO2HChC/69u27KZKYg/zr1avXqhtvvLGgKjHnZDEh4+2EE0648LnnnpuNNeicfvFFPzzbacGCBa1at25dsmLFirRnnnkmt2PHjluKi4tTX3755UUoq1u4cGGrW2+99SSUzCJbb/v27SlnnnnmOe++++4HmqYpiLm33377Q4gXrD2G+3F+rs1DQjFXG3rxuxbPy/Dhw09avHjxNGeUyZMnZ3zwwQfGjBkzPoU4QvbkHXfc8U379u13Pf30012RfTpz5sxPwme1t4i5devWNT7//PNPf/TRR+f26NHjz0suueTEcDGHNtdee+2JkJndunVbM3LkyJ/CZWZt+8HnyLHHHvs71gOcMGFCdnViDpl1l19+ea+mTZuWvfzyy186EjaW+FLMxe9dZM8kQAIkQAIkQAIkQAIkQAIk0JAEaiXmQteYe/nllzsuWLDgoDfffHP+eeedd1JRUVGr8Bv75ptv3oGkquyGI2XMRRrj888/3//xxx8/YsOGDc2xcD4WVy9fiP0LlK9GEnMoFWzSpIk/0oYVlW3+cMIJJ5xz//33L8S6X06/uq5vv+SSS85YsGDBf8N3fkQp6z333NML99ivXz/TGQvSpTyjrkf4vT/88MOfZ2VlFUPMhWZP5ebmDnjttddm1XbXW4q5hny9Io+N9Q4vvvjiM+fPnz89PT09uG7cxIkTO/t8vv0guyFnIXSQAYpzjqzFxisHH3zwrtCe9xYxd8cdd+Tu2rUrxSkbhZjr06cPskxXhpOGVB8zZszhmzZtaoZy4NDzteln2rRpB7322muHzpw5cxZK86MRc8OHDz+yoKCg1VtvvfWZs0ZgrPGlmEvM95izIgESIAESIAESIAESIAESIIHaEoiLmEP23ObNm5s8/vjjP/JZ6J4AACAASURBVEQ7wVjFXL9+/c447rjjioYNG5aPL7vHHHPM+ffee+/CqsTcU089pc+ePTvzvffemx263t3o0aMPO+mkk9Yceuih28I3f6hMzPXp02dTz549L3z99ddndenS5W/cI9aJQ0nil19+2QpiDpJwxIgRfcr/PR8ltZ9++ukBEyZMOHru3LkfhDNxSlkp5qJ9WpK/HaTbf/7zn4sff/zxz44//vjNuKPQNcg++OCDdo0bNw44ZZhY0/DEE0+8YOrUqTOdNcscCnuLmOvdu/dZ27Ztaxoe/b59+/omTJiwGGtInnfeeasccelkqX799dfvhL7vtelnxIgRuQsXLswMn0Pr1q23z549+6Pw3z/66KOeWbNmGZMnT55z0EEHVQjVWONLMZf87zzvgARIgARIgARIgARIgARIgAQqIxAXMYdstjvvvLMPSkuPOeaYLc8991zW0qVL9588efLCSGGIVcxBmJ111ln5N954o++1117r+NJLLx1ZXcYc1nnCzoiHHXbYumHDhi3bd999yyZNmuTBrqyffvrpu1hgPxoxB9GGjSCwftxDDz30/W+//dZ0+PDhfe6+++5FWBMMa8zNmjXrY4jAadOmdZsyZcrHkIfYxfHSSy/9dfDgwSvnz5/fetKkSUe8/vrrn2FdrKoy5iA6e/bsuQECB2XC3bt33wwB+eSTTxqZmZnb+vfvvyESV2bMJdaLHxpLZFJt2LAhbdKkSV8tXry4xciRI3u/9NJLHx9++OHbXnnllY7vvPNOzjPPPDMXQufBBx/ssmjRokMqE7t7i5hDlmFZWZnmRHTUqFHH9OjR4/fLL798RZs2bUoGDx7cE+/kAw888CMyc8eOHXt4UVFRC5QGQ9LhOrxDtekHZbDIrHXm8Oabb2Zt3Lix2ejRoxdj04nQ+L7zzjsHlmfEHnfffffNy87ODgr8Jk2aBA444ICSWONLMZdY7zFnQwIkQAIkQAIkQAIkQAIkQAJ1RSBqMXf66acXOruTYnDsyhpeZrpw4cID33jjjQU4D2n0zjvvdEWJacuWLYvHjh379bHHHrulKjEXyxhYPB0bLqC/3Nzc1aZp7j969OivqsqYQ1ss3P7www8fuXr16v3wc/PmzXeOHTv2qxNOOGFzpFLWBx98cCHmHloiiwy522677diCgoL90U///v3zsKlE6K6s+P1VV1113LZt2xq//fbbX8ydO7c1Nsn4448/0lF+O2TIkJ9QhldVxlxOTs723r17n33OOefkYU2rU0455fSePXsWjRo1atnZZ599Srdu3dZH2swC41PM1dWrUvt+AoGADI3l5s2bU6+//vrjV65c2RrPw4ABA5YMHTrUh5Ega++8884jFi1a1Ml5Th955JEFubm5wR1cQ4+9RcyF3/eAAQN69+vX7zdnV1a8R3fccccxzjt50EEH/Tl+/PivkGEIkX744YdvGD58uLc2/YRfO378+Jy1a9emobw2PL7I6t2yZUta6DXYvRqfkbHGl2Ku9u8feyABEiABEiABEiABEiABEiCBRCQQlZirzcQhH1q1alVamz4iXYtyQGyi0KJFi7JY+8caT/hyHFpeFmsfaI+1rBo3bmwh2y7a67FZBTLosAlENNfgC7/TNtK/I/VDMRcN4fprExo/Z1QIJWRRhZZbOucgi//8889GyMaqKsbt27ev2ESi/u4mMUfCO4nMVWTEOjNEhu0jjzwyH5u4RDvryvqp7trK4lvVNdHGl2KuOvI8TwIkQAIkQAIkQAIkQAIkQALJSSDuYi45sew5s6aY23NiSTFXs1hC3p988snYXOXdaGV4zUaKz1V4hynm4sOWvZIACZAACZAACZAACZAACZBAQxOgmGvoCMR5fIq5OANOgO731lLWaNEjiw2l57XNjo12vLpuRzFX10TZHwmQAAmQAAmQAAmQAAmQAAkkDgGKucSJRVxmQjEXF6wJ1SnFXEKFo84nQzFX50jZIQmQAAmQAAmQAAmQAAmQAAkkDAGKuYQJRXwmQjEXH66J1CvFXCJFo+7nQjFX90zZIwmQAAmQAAmQAAmQAAmQAAkkCgGKuUSJRJzmQTEXJ7AJ1C3FXAIFIw5ToZiLA1R2SQIkQAIkQAIkQAIkQAIkQAIJQoBiLkECEa9pUMzFi2zi9EsxlzixiMdMKObiQZV9kgAJkAAJkAAJkAAJkAAJkEBiEKCYS4w4xG0WFHNxQ5swHVPMJUwo4jIRirm4YGWnJEACJEACJEACJEACJEACJJAQBCrEXELMhpOocwKmaSp0ahgGY13ndBOjQ8SY8U2MWMRjFoxvPKiyTxIgARIgARIgARIgARIgARJIDAKUNYkRh7jNgmIubmgTpmOKm4QJRVwmwvjGBSs7JQESIAESIAESIAESIAESIIGEIEAxlxBhiN8kKObixzZReqa4SZRIxGcejG98uLJXEiABEiABEiABEiABEiABEkgEAhRziRCFOM6BYi6OcBOka4qbBAlEnKbB+MYJLLslARIgARIgARIgARIgARIggQQgQDGXAEGI5xQo5uJJNzH6prhJjDjEaxaMb7zIsl8SIAESIAESIAESIAESIAESaHgCFHMNH4O4zoBiLq54E6JzipuECEPcJsH4xg0tOyYBEiABEiABEiABEiABEiCBBidAMdfgIYjvBCjm4ss3EXqnuEmEKMRvDoxv/NiyZxIgARIgARIgARIgARIgARJoaAI1FnOGYRiWZWkFBQX5DX0TGL9Xr14p69ev7+tyuebm5eWVJsKcKptDly5dDti6devfa9as2eWcz8zMbO1yuXTTNL+q63lTzNU10brvz+PxtGzTps22+fPn+2vSO8XNv6hJwzDaulyuzbX5LMjOzk6zLMvt9Xq3VBIXLSMjY5+ioqKt1cWsqvjic2vdunX7+ny+zZH6YXyrI8zzJEACJEACJEACJEACJEACJJC8BCKKOY/HM1Ip9UBlt6aU6iCEuFHTtMZer3d4bW7fMAwVer1S6jPLsq4vLCxcEUu/hmGkCyH+DgQC+xcWFv4Ry7X10dYwjMFCiNFCiI4YT0o5y7KsK/CF3DCMU6SUj3q93py6ngvFXF0Trbv+IGyUUjOEED2FENuVUmN9Pt/jGEHX9fZSyjXh74bP5+sXPoO9Udzk5uY2Ki4uhsg+0rKsTgUFBSvBxePx9FJKfWgzwmfCCNM0J4Qy69y589GWZX0TzlEpNRz88VkipZymlOpvt/lK07QL8vPz19t/ALhfCHGnfW6TUgrv8Sfh/VUVX3uu1yilJgoh0pVS30opzzNNcx3jW3fvGHsiARIgARIgARIgARIgARIggUQnEFHMdejQoUmLFi0a4wZKS0s/VUpNdrvd0/Dz0qVLt+m6fn9diTml1PGWZf3qcrkyhBBPQlKYpnlmLPASWczpun6qlPJjIcSFgUDgQ6VU85SUlJeFEPuapnk8xVwskd5z2hqG8ZaUskmzZs0uKy4uzhZC/GBZ1tEFBQXfZWZmdne5XG+npqYe7dxxIBAoy8vLK6a4CQq4u2xxdmwgEMi0Rb7LMIy/pJTXer3eabquHyWl/C4lJSVr+fLlhQ43yLUtW7ZA2gWP0tLSJkIIr2VZ5xYUFHxuGMYrQojWSqkrd+7cuaNZs2aQdH/5fL7BWVlZ/TVNm5aSknL48uXLV3g8nkFKqddKSkqaFBUV7Q6NTVXx9Xg8XZVSSyzLOmHXrl0/NGvW7AUp5X5er/d0xnfPecd5JyRAAiRAAiRAAiRAAiRAAiRQHYGoSlkNw/hSKfWCz+d70+lQ1/UHpZTInGslhIB4mrV79+7LnNIuwzAg1pAh5hFCvOVyuW6prKzMzpg71DTNJejbMIxhQoiBpmnm4gv0hg0b7sMXZHvcqW3btv0/lPwZhjFOSpmmlDpOCOFCNSsy5pRSN0kpx+D7tpTySa/Xi4wUgbK0QCAA6XeBEAJfiO/Bl/BKzq0XQkwwTfPVnJycTL/fP8s0TcNulxoIBFa4XK4j8/LyNmRlZXV2uVyPQCyWjz9fSnmz1+stCofu8Xg+gs/0er13OecMw2gnpXzasqxrpJRHQEiCoVLqKiFEAe7Z5/P9Wl0AqzvPjLnqCDXMeTvjCyXXoc8+ZO1m0zRHeDyefsjgMk3zFLwHVZW57m0Zc/Z7WRAIBHJcLtdyR8x17dq1RUlJydB27do96PAyDONvKeX5Xq93TqRIG4ZxvRBisGmaR2VmZrpdLtduW+at7NWrl7Z9+3a5a9cuN6SorusDhRA3+Hy+HugvJyfnIL/fvyo1NXW/pUuX/uWMEUV8kZF8mGmaF9qfe4cIIVaWlJS0CC+P3dvi2zBvJEclARIgARIgARIgARIgARIggYYhUFsxh6yVizVN2whxJ6V82+v1js3Ozs4JBALLpJSDLcvKk1I+J4T43DRNp/yr4m5tMXerlPIXy7JypJQjhBB3maY5xePxnKGUelYpNUBK2UgI8YGU8gqv1/ueYRjP4AuyUupyZBpJKddCzEG6SSnxRbutUup/UsozvF7vR4ZhvCGEQHngHUKIHkqpB5VSnX0+31pktgghDoYIkVLqQog3lVJHIXNPSplvmmaQU0ZGRmO3270Lpbzp6el/FRcXL5VSfuD3+98sX8/qJiEEvmjnhoey/Is/+FRa7mZ/KT9FCPGJlHKcUmqmLTRbmaYJ6Virg2KuVvjidrEjl0IzrXRdx3twgmmaZxuGcZkQ4mYhhFsI0U0IMVfTtCvz8/NXhU9qbxM3hmEg63SZz+cbbRhGICRj7h9oDMPoXV4m/EW5AG8VYZ04CHvI9t+VUtf6fL73sXam/XmCd/ERu8NXXC7XDfjDAuRfWVkZ/lAxXwixWCl1NT5zfD7ftaGDVxdfXddfE0IU+Xy+e+3rsC6eVZ5Re3hhYeHPoX3tbfGN20vHjkmABEiABEiABEiABEiABEggAQnUVsxlOhkfuq6PkVIebkuFO6WUPTVNuxj37Pf7T5JSPm+a5gGVSCtnjTkfZJoQYptSaii+JIe0dXXt2nWfkpKSj5FVZprm/baY00zThIRDpl1wjTkhRJ/y8tC5+J2u6xOllM3atm07dP369WVKqf+kpKTk4ZxlWd9ZlnVfenr6u8XFxaXIXnEy1DwezzHlX8Q3lZWVpUQScy6X60CsUxUIBJqnpqZaQghk5K0PBAIHFhYWVqwNFiLzKvqvhAHE3H9N02wuhFD2OlnzHCFYm+eGYq429OJ3LZ4xpdRXoTFGNpaUcigyt2xJN0JKOdDv969xuVzjyjNPs0zTPHRvFnNZWVl9NU2DSMdnz45IYg4ZqUKIn5VS43w+HyR+pYfH47lCKYU/BHTGx4Ld/2f2mm/XaprWtPwPBtOllFOQ8Zqbm9u0uLj4JSHEJchws9eMHIIM29ABqouvYRizIeFD5waBL4QYZJrmbIq5+L177JkESIAESIAESIAESIAESIAEEolArcRc6BpzhmGg3PR80zRP03X9GyllxdpYzg2npaWlLl68uCwUQHgpa8h6bO2VUlJKiS/BpzrXlP/iXq/Xew/EnFJqk5NxErLGXIUY03X9KinlpZZlDdE07V+bSeALOb50u1yuwrS0tGaLFy/eGTo3Xdc9kcScEKK3lBJZeP84UNbq8/kWhd3j7+UlijeZpvlBZcEPX2POztrxUswl0qtSt3Pp3LnzweWbfxS53e60JUuW7EDvhmH8HzYzgOzGxgEpKSkpy5Ytg6yBZG4lpfwD2ZrI8twbxY1d2o7y7ke8Xu9kIYQGMRe+hpxdtr6gPFt2sdfrvSZS5OyNHMxyGT4WGbpoZ6/t95OmaT3y8/O/teNyabm0G4OSdpTwCyFOLJfyJxcWFv5tGAbK0H+w4/ajM1YU8X1RKbXRNM277WuwPp5fStnN6/Uu3RvjW7dvGHsjARIgARIgARIgARIgARIggeQgEC8xhzXe2oeXd0WQUsiYq1hnq1u3bs1KSkqKIbiklMi4O0TTtCHYEdHj8WAR9jzTNO+LJOZCv1B7PJ57LMs6eOfOnTc0a9ZsZ0pKysHLly9fHToPJ6MNa+GZpokv6Shva7N79+5djRo1aoNF4V0uV7q9vlSFHLFLXt8wTfPA6kLt8Xjes7+EB7P7cHTq1Gn/lJQUrNN3p1LqyNBdWSnmqiOa/OdtKVQWJoDeKc/E8kHW2JsM7DRNc579TCIjczsytEzT/G1vFDfOem6VRR87mqLE3eaKEvaUZs2anRP+h4DQa3Vdv7g8o/aRtLS0jk67nJyc/fx+/5bQklLDMM63153sZBjGF0KIOaE7vRqG8atS6imfz4c1AoNHdfE1DAMl9b2xhiDad+7cuYtlWUtDRa3TF0tZk/995x2QAAmQAAmQAAmQAAmQAAmQQCQCcRFzWVlZx2uatgA7DpaVlX3fuHHjmyDaKttp1c6YO1XTtF/LysraYB0tKeVNZWVl+zZq1OgxIUTztLS0y3fs2HEYSv/szJWIYk4p9VkgELgsJSUFUu1Le0OGyfhCrZT63e1232pZVku/3z/Z2QACZWXla88hW+5qKSUymeYrpc4pLS39yl5T7sadO3e+lpaWNkIpNQZZS263e2dpaekqZN3t3Lnz1SZNmhyradozUspjwtezMgzjWMxFCAExhzI8lN0+r5RqjUXkq8qYy8jI2Nftdo9t1KjReE3TiktLS+/z+/2PpaambrIsa7zf73/G3pGy0hizlDWxXn6UfLtcrjnIxjIM4zmlVCe3231RaWnpYfY6cl3z8/OX2SWWd0sp+2iats7v94+VUl5emQjeW8QNZNcff/yBnZuDh9/vx6YvXqVU38aNG3+LzEPDMB4XQgyzLCtbKQWRKVwu1zbTNLcbhnEW1r4M2cEV618+5vV6Xwh9SgzDgCDF2n4DGzVq1LSsrOxjfPb4fL6bdV1HHC5RSp2Vnp6+ori4+GyUoeOPCyUlJauddxWZjlXFNzMzsxMydbEGpt/vX+hyuZB9u8M0TWTn/ePYW+KbWG8qZ0MCJEACJEACJEACJEACJEAC9UMgajEHkeSUe2FqKOkKK2UdbGetnI7zhmHcUv6d+D5bQq3EBg4+n+/78NuyxVzor1EWdicyhQzDwKL3s4QQ2P0Va9AhUwjrckUUc1LK8UopbCCB4znTNG/Eum32mlP4Ag1JhmOSaZrDhRCBLl26HFBWVva2vbOrQB9er3ekvd7b7aGLwAshhiAb0DTNdfZacPhSjw0jsFEEdmVFid2/Dnv9MJTB4V5wQP5dZm8+cUpoxlznzp2zLMtC5pTMzMzMxs6TlmUdrWnaJntdq94ulysfa9pZlnV6QUEBGFV6UMzVz4sU5SgoV1ynlBrv8/kex0YCpaWl2OwDzySen1Fer/cp9GVvSvCs/bzhV2uklKeFlznixF4sboLln87mD/Y7/o8yX/ApF3S3tWvXbpKzziQ+hyDphBAv7tixI2PNmjW7QuOn63p7IQSy7pxy/E/cbvcFEH9YY2779u0Q8FfY11S896HvakFBwXdVxdf+DEWpPf74AFH/g8vlOhO7PYc/S3txfKN8rdiMBEiABEiABEiABEiABEiABJKXQFRirha3JzMyMpoXFRVtrUUf2A1136Kiom34jh1NPyhPTUlJUYWFhSXh7fHFeteuXX7ssFjZufT09NL58+f7Q89BkqSkpDRy1gILv65jx47NV65ciewcbAJR5dGpU6cDpZTbsD5VdW1DziMzKGD/HOnflXZHMRcD5fppGhq/4IidO3duW1ZW9mdlzyvWTvT7/fuuWLEC6xRGjLFhGPF+l+uHTpxGycrK6qhp2i9t27bdL/z9jjQkBB0yY5cuXfpXeBtk761Zs6ZFYWHhH2HnYopvbm5uo+Li4tYQ/YxvnILPbkmABEiABEiABEiABEiABEgggQnwy3wCB6cupkYxVxcUE7sPZlRVHx+Px9OvvJQdu6deVH3rxGrB+CZWPDgbEiABEiABEiABEiABEiABEqhLAhRzdUkzAfuimEvAoNTxlChuqgeKTWWUUqmVZb9Vf3XDtmB8G5Y/RycBEiABEiABEiABEiABEiCBeBKgmIsn3QTom2IuAYIQ5ylQ3MQZcAN3z/g2cAA4PAmQAAmQAAmQAAmQAAmQAAnEkQDFXBzhJkLXFHOJEIX4zoHiJr58G7p3xrehI8DxSYAESIAESIAESIAESIAESCB+BCjm4sc2IXqmmEuIMMR1EhQ3ccXb4J0zvg0eAk6ABEiABEiABEiABEiABEiABOJGgGIubmgTo2OKucSIQzxnQXETT7oN3zfj2/Ax4AxIgARIgARIgARIgARIgARIIF4EKObiRTZB+qWYS5BAxHEaFDdxhJsAXTO+CRAEToEESIAESIAESIAESIAESIAE4kSgQswVFxdPjdMY7LYBCaxdu3YAhm/fvv20BpwGh44jAcSY8Y0j4AbuGvE1DIN/RGngOHB4EiABEiABEiABEiABEiABEogHAYq5eFBNoD4p5hIoGHGaCsVcnMAmSLcUcwkSCE6DBEiABEiABEiABEiABEiABOJAgGIuDlATqUuKuUSKRnzmQjEXH66J0ivFXKJEgvMgARIgARIgARIgARIgARIggbonQDFX90wTqkeKuYQKR1wmQzEXF6wJ0ynFXMKEghMhARIgARIgARIgARIgARIggTonQDFX50gTq0OKucSKRzxmQzEXD6qJ0yfFXOLEgjMhARIgARIgARIgARIgARIggbomQDFX10QTrD+KuQQLSBymQzEXB6gJ1CXFXAIFg1MhARIgARIgARIgARIgARIggTomQDFXx0ATrTuKuUSLSN3Ph2Ku7pkmUo8Uc4kUDc6FBEiABEiABEiABEiABEiABOqWQI3F3LJly/axLEt069bt77qa0qpVq5p06NBht8vlUtX16ff75SeffNKmX79+G91utzVr1qw23bt339quXbvduHbhwoWttmzZ4j7nnHPWVtdXtOdLSkq0Dz/8sN1ZZ521LjU11Yr2utB2ld1jPFg6Y1LM1SRK9XvNxo0b3S1btixNSUmp9rmvbGYUc/GJV1VxCQQCcs2aNY3bt2+/u6Zxw6zxObZly5bUAw44oCTSXVDMxSe+7JUESIAESIAESIAESIAESIAEEoFARDE3fvz4nOnTp3erbJLvvffe+6+++qpeWlrqeuihh36qzY3gC+7o0aO7L1iwoGNJSUkj9HXaaafljx079teqvvBu3bq1UZ8+fc6fNWvWe61bty7t3bv32VdeeeXPgwYNKnr22WezpkyZcmjfvn0Lxo0b92tt5hd67ZIlS/YZPHhw/zfffPOj7Ozs7dH2W909jh079tC6YBlJ2uD37du3nxbtfNmufghA/AwdOrTnihUrWrvd7rILL7xw6bBhw0yMDoF77rnnnh06E8MwNkydOnVe+Oz2VjFXWlqqXXTRRSetXr16v6lTp840DKMYbDZv3pw6ZsyY3O+++y5j+vTpH3Ts2HFnpIjeddddh8+ZM8cYOnToN1dccUUR2lUVF5x/5plnst56661D8XmFuA0dOvT7AQMGrA4f4/bbbz9i3rx5WaG/nzhx4ucnnnjiH/jd888/n/nGG28chn4yMjI2P/74418edNBBuyqLr2EYFZ/V9fN0chQSIAESIAESIAESIAESIAESIIH6IBBRzO3cudOF/zCJq6+++sS+ffuuvOiii1bh5xYtWpSNGzeuW13IJEip+fPndxw/fvyCo4466q+ff/65+ciRI3uecMIJv40aNWpZJAihYq5NmzYlkF9Opt111113TEZGxrYRI0Ysr2uIoeNE23d190gxFy3JPasdnlO8Q5MmTfp66dKlzW+66aaTn3jiiTk9e/bc8v3337cYM+b/sXceUE3d7R+/NwlDiauOirSKKLkB3ODCbdWqaFHUqrVWW1upVut8tSpixYnW0Yp1V1snWveqG0RxYp2QGxBHFXFXRWQkuX8em+s/zRsgQoDk5ZtzPEfIbzz389zfPed+eUZws3Xr1h0Ur5qiNEuXLq2BMPcPgdDQUM/z589XSUxMrCgKczzPy4cMGfKBm5vb4z///PP9nIS5Y8eOVZw0aVKr0qVLp/Xu3fva559/foPWzckvFIk7atSo9nPmzDn8wQcfPNy9e7fz999/39pQGBT988UXX9Bz7C8/P78k8Xdly5bNpD84xMTElB08eHCn0NDQI76+vo//85//NHrx4oX9b7/9Fglh7n/rnONqQAAEQAAEQAAEQAAEQAAEQCAnAmalsvbq1audn59fghhRQguSmPTo0aOSz58/d4iNjXX28vJKmj9//qkKFSpk0Pdbt251WbduXa379++XatKkya1Zs2bFUMqpoTGUxtW4ceM+WS+2EV27dr0nfrd///53Dx06VHX+/PnnkpOTHYKDg32uXr3qLJfL03v27Bk7ePDg68bC3Kefftp6wIABsbt27aoeHR3tRpEsLi4uf2/ZsuUwjZ08eXKDmJiY98uXL/+yW7du/KBBgxJpv759+7b18PB4eOLECdcmTZrcDgwM5Pv37//hRx99pNq+fbtnpUqVXnz22WfXyD6KxPn444877dy5c2+pUqU0a9eurbZ+/fraDx8+LEXXP3v27DNiKq14LeZcY24s83MLI5U1P/QKbi5FezVt2rT3smXL9vv4+PxNO40cObJR6dKl0ynKk1KzN27cqFy3bl0E3UM5RY8Wx4i52NjYUv379++yatWqfYMGDeosCmORkZEVEhMTS3Xv3v0ORdRmJ8xRWrq/v3/nXr16xR45cqRa+/btb5Iwl5tf5syZ4xkbG1thzZo1x8W7o1WrVt27du2qGjt2bJzhHdOjR4/233777Z/Nmzd/bJyeTxHJiYmJZZcvX36S5pCg+Mknn3Q9cODAVvEZKq6FVNaCO4dYGQRAAARAAARAAARAAARAAASKmkC+hLk9e/Z4jhkz5mTFihXT5s2b18jX1/dWcHDwlYsXL5ahl+WhsblvIQAAIABJREFUQ4eeUSqVz+bOnduwdu3aydOmTbtoeMHiy/Xhw4d/pyg8UzCCg4Pr3rhxo9yIESMuXrhwofyyZcsa7dq1a7uTk5NWTGWliDk/P7/OX3/99Z916tT5e9KkSY3d3d2f9OnTJ5HS2wIDA32fPn1acuTIkRdu3LhRav78+b6zZ88+0r59+wcdOnToSvuOGDHinJeX13OJRCJ07969m4+Pz61BgwbFbd++vXpMTIzLwYMHd5NI6OfnF3DkyJHfX758Ke3Vq1eXwMDA8wqF4vmCBQsaVK9e/WloaGjM214jCXPZsczvDQJhLr8EC2a+eO9HRUVtLlmypJZ2WbhwIXfp0qVKq1evjvr1119dd+zYwWk0GklSUlJZhUJxPyQk5Iy7u/tLY4uKozA3cODAltWqVXsWHBx8uVGjRn2MI9aeP38ua9OmTa/shDliHRUVVXXz5s2H+/fv31oU5nLzy/Lly2vs27fPfceOHX+QHyiClvZv3bp1/Lx5884b+qZt27b+CoXi4blz56rJ5fI0f3//uNGjR6tozPDhwxu/++67L4OCgt5EBXt7e/ddsmTJHxQ5bLgOhLmCOYNYFQRAAARAAARAAARAAARAAASsgUC+hLl79+7JxYiPGTNm1EpISChHogJFlVy9erViWFjY62iQAwcOVA4LC2sYGRm53fCiDxw48O7EiRPbxsTE5Fr/jCJZnj59ate5c+cASv/y8fF5akqYo8i2wYMHN6tbt+6Db775Jl6MWDOMTBo3bpy3TCbTzZw5808S5gYMGHC5X79+r9N0b9++XYKEuU2bNu0iEYTqTdGe9DNFyYnCHKWkiddCEXlhYWEcCXjbt28/8LbXSMJcdizze5NAmMsvwYKZT5Fdo0ePbm94769Zs8Z1586dHN1DJBxRxOa4ceNOubi4vAoLC6tN0ae7d+/eX9yFuX379lUODQ1tunPnzj10Jt9WmEtKSnLs2bNnl3nz5h1t2rTpk08++aSNKMzl5pf4+HinAQMGdGrevPmN1q1b392/f381itBt2LDhraVLl0Yb+oaENhLsBg0axF+5cqVsVvpr86zn3fEePXrcpQjfpk2b3qVnlDiHIu/Gjh172jB6mL6DMFcwZxCrggAIgAAIgAAIgAAIgAAIgIA1EMiXMGdYY27lypVukZGRVdeuXRtBKVw3b96sYHyBp06dCjfsZkovuX369Plo375927LrSnj48OFKCxYs8ElOTi5D6alUKJ2i3Ro2bGiWMCemiEVGRm6Wy+WvI5OoePvp06ddyFYS5saMGXP2ww8/vG8ozBlGMtEL9urVq/dWqlSJIvNeR8yVKFFCO3ny5PonTpyoLjatoPnGIqM512hcY86QZX5vEghz+SVYMPPF+yIiImILiUu0yw8//OChVqvfIbGbBGESlanrJ30nCsTUeKVatWr/ahBQnCLmiIm/v3+ngIAAFaWjixFrxg1ZcoqYI2H+1atXskWLFp0htiTMffDBBxQhm5ibX2g8iXerVq3ySk5OLl2vXr0kimp855130oKCgq4Y3i3ULMbLy+uFmMZKjSboDwwUWTdq1KhGZcuWTZsyZcplmiNex/Lly/d7e3u/Tm0WPxDmCuYMYlUQAAEQAAEQAAEQAAEQAAEQsAYCBSLMUfTco0ePSixYsOBcbhdJotfo0aOjxYg1Gk9F2Y8dO1aFam2RcNa8efObI0eOjKPC976+vj2nTp163FxhjhpYtGjR4mPDF3dKj01LS5PNmTMnJq/C3P79+52XLl3qvWjRoiN16tR5Th0WIyIiqm3atOmI8TXndo0Q5nK7S/73vhcjORcsWHCoZcuWj+gKKdLTxcXlBYk1O3furOLo6KgVBWNRaDLVZKA4CXOJiYkle/Xq5W/qjhg3btyJ3r17/0Xf5STMUYrps2fPShqv0a5dO/WMGTMuUN3L7PxCAunjx4/tDbsyd+vWrWP37t1V1BFaXJOie1esWOE+YsQIlVhbMyQkpPaTJ09KLFy48OzcuXM9Ll269C7VEKQ5Fy5cKPPVV191NhRqIcz97517XBEIgAAIgAAIgAAIgAAIgAAIGBMoEGGOotzGjx//gdhxcMmSJe5XrlypZFgwXTSEooS2bdvmNXny5Ki2bds+vHTpUpmgoKDmzZo1u0UCBaV3UW2mb775Rr169Wq3FStWNHybiDnahxo8UOfFGTNmnI+Pj5ePGTOm7YgRI87QS3xehbkdO3a4rF69un54ePi+tLQ06fDhw1s5OTllmBLmcrvGnIS58+fPl921a1c1EikpAmfTpk01qFZfQkKC05o1axTff//9ReOmGoZORsScdR16Eq1btGiRTGLc6NGjGyYnJ8t/+umnkzExMeUorXvFihX7GjRo8GzVqlVu4eHhXosXLz5atWrVVzNnzqwVFRVV/ejRozuNr6g4CXMkaKrVarnIQKfTsQMGDPCbPn36UWqyIEYfGgtz1E2V5hB3iorLzMyUiGtMmjTJt2nTpn999tln16leZU5+OXXq1DvUPZeEO0qnX758eU1KOd66deteWm/evHm1hg0bFkvrtG3btlvnzp15agoRFxdX6ptvvvngiy+++JMEPDGSNygo6Hjr1q0fjB49uomDg4PWOB2W1kTEnHWdYVgDAiAAAiAAAiAAAiAAAiAAApYkYLYw16VLlwTDiBBTYtLx48ff/+233yLJwB9//JELDw+vTWme5cuXT5kyZUp0s2bNHpsynlK8IiMj3cSU0DZt2sSHhIT8SUXxqQj+Tz/91JTmeXt73+Z5vlJQUNBJcyPmaB7VjRs7dmyz69evV6R02M6dO6vEout5FeZIIBg6dGhLcc369evfffz4cUlTwhzZkNM15sSS0lp/+eWXBgcPHty+a9cul7CwMGp+sevkyZMVQkJCWlEjDDHd0RRbCHOWPC75W4vSFUms6d69e+zIkSN56vI7ZMiQlomJia/vy759+14ePny4mnahrqHjx4/3iYqKqkE/lylTJnXu3LmRxmmOonDj4uKSa53G/FlvnbPFFNDcmj9QTbcGDRoki80XDK+GhPsOHTrcoK6s9Puc/ELfh4aGem7evLku/Z+ebaNGjTrbqVOn+2LTm4ULFx5s0aLFYxIDJ0+e3CIlJcWRxnbo0IGfNWvWBXFvaiSxZs2a+vTcq1q16pOwsLBIU2cZwpx13nuwCgRAAARAAARAAARAAARAAAQsQcAsYS4/G9FLboUKFTJyW4NesCkKzNXVNdU4AoxEsBcvXsiy69ya29ri9ykpKdISJUroxJpP5s7LaRylrFGUjkwmE3JbL6drzGkuzRNtzu7/2c2HMJebVwr3e0P/iTuTcEw1Fk1FPlJjkSdPnti5ubml5uTj4irMmes9irydO3duhHHH05zm5+QXepbcu3fP0bhLrin/UoSes7Nzmljj0nBPqjlH3Z4pKjIn/3Ic9+ZZbe41YxwIgAAIgAAIgAAIgAAIgAAIgID1EyhwYc76EfxvWwhh7n/bv3R1xSmVNS/eJFH/ww8/7BYVFbXVkqJ8XmzJyxxEzOWFGuaAAAiAAAiAAAiAAAiAAAiAgG0QgDBnG37Ks5UQ5vKMzmYmQpjL2VUUxXb37l3HnKLSrNnZEOas2TuwDQRAAARAAARAAARAAARAAATyRwDCXP74Wf1sCHNW76J8GwhhLt8IrXoBCHNW7R4YBwIgAAIgAAIgAAIgAAIgAAL5IgBhLl/4rH8yhDnr91F+LYQwl1+C1j0fwpx1+wfWgQAIgAAIgAAIgAAIgAAIgEB+CECYyw89G5gLYc4GnJRPEyHM5ROglU+HMGflDoJ5IAACIAACIAACIAACIAACIJAPAhDm8gHPFqZCmLMFL+XPRghz+eNn7bMhzFm7h2AfCIAACIAACIAACIAACIAACOSdAIS5vLOziZkQ5mzCTfkyEsJcvvBZ/WQIc1bvIhgIAiAAAiAAAiAAAiAAAiAAAnkm8EaYy/MKmGjVBHieF8hAjuPga6v2VN6NIx/Dv3nnZ+0z4V9r9xDsAwEQAAEQAAEQAAEQAAEQAIG8E4BYk3d2NjETwpxNuClfRkK4yRc+q58M/1q9i2AgCIAACIAACIAACIAACIAACOSZAIS5PKOzjYkQ5mzDT/mxEsJNfuhZ/1z41/p9BAtBAARAAARAAARAAARAAARAIK8EIMzllZyNzIMwZyOOyoeZEG7yAc8GpsK/NuAkmAgCIAACIAACIAACIAACIAACeSQAYS6P4GxlGoQ5W/FU3u2EcJN3drYwE/61BS/BRhAAARAAARAAARAAARAAARDIGwEIc3njZjOzIMzZjKvybCiEmzyjs4mJ8K9NuAlGggAIgAAIgAAIgAAIgAAIgECeCECYyxM225kEYc52fJVXSyHc5JWcbcyDf23DT7ASBEAABEAABEAABEAABEAABPJCIM/CHMdxnE6nk8THx8flZWMTc1iFQlFFrVYnMwyjFb8vgH1eL81xXB2WZQWVSnXFQvbnuoxSqfSVSCSJsbGxdI2F8oEwVyiY87WJUqksX7ly5WcRERGavCxUjIUbqaura6mbN2/+bYobx3Gl5HJ5WkxMTGZeuOY2v1atWu9evXr1fl7WFue0bt1alpSUVFatVj/Kbp1i7N/8oMVcEAABEAABEAABEAABEAABELAJAtkKc0qlcqIgCDNMXYUgCO8xDPONRCJxVKlUo/N5pVKlUjlXEIQvGYYppV9rjrOz8yQSKhQKxUwL7fMvMzmO+41l2TSVSjXYXPsVCkUjlmXPGIy/zDDMUa1WOzMhIeFhbutwHHdWEISZarV6R25jLfU9hDlLkbT8OiTICYKwnWGYFgzDvBAEYYparV5AOykUCheWZe8Y7ioIwiG1Wt3B2JJiKNzQM2O6IAjf6Vk8YBimD8/zx/Ts6kokkg2CIHjqv9/AMMzXPM+/MGbn7u7uJ5FIfmEYZhvP80PMmU8CuyAIq8lNDMMkMgzzFc/zR43X5jhuMcMwQ41+35zn+ZP0O6VSOVgQhB/ouScIwmmWZXvwPJ8E/1r+rGFFEAABEAABEAABEAABEAABELBWAtkKc++9916JcuXKOZLhGRkZBwRBWOPg4LCRfr5y5cozhUIx3RKCGQlvLMsOYhjGj+f5CxzH1WIYZrsgCL+q1eqQghLmGIYRr10w1znu7u6NJRLJaXt7+3dSU1PtJBJJHYlEMoFhmAr29vatr1y58jSntSDMmUu6eIzjOG49y7IlnJycPk1JSSER6ZxOp2sSHx9/pmbNmvWlUukme3v7JiINrVabGRsbm1LchRulUtlVEISfJRJJ87i4uNsKhWIUy7KjeJ5/n9hwHBfDMMwhZ2fnoOTk5DKCIBxlWXatSqUiEezNh+O4EIZhRjIMc1EQhDi1Wh2Y23xvb++SKSkpFGW73NnZeV5SUlIgy7LB9vb2SuPzr1QqtwmCsM3e3n6vuGn58uVf0B8clEplbUEQLut0ulavXr065+TktIxl2XdUKlWX4u7f4nH6cZUgAAIgAAIgAAIgAAIgAAIg8A8Bs1JZOY47IQjCMrVavVYEpxfUKHKuAsMwnViW3ZuWlvapmFbGcdxHDMMEUWAIwzDrpVLpiNjY2AxD8JTGde/evUxBEDqr1er9Bmt/wLJsT4pgMRTmatasWVEqlVIUSsesiD2KUJuZ9TK+iubpRbOfGYZpwDBMhEQiGRwXFxef3e85jpvMMEwaz/Nzab4+QpAEQjnLsuucnJy+M06B0691iOf50qKtlO6mf7GfpVarV3p6esq1Wu2PDMP0YhiGXry/j4+PP6x/4X8TMacXDz7neZ6i7khMCNfpdBTFd51YarXargkJCbEix5cvX7a6c+fOq7e9cREx97bECme8t7e3XUpKCp2Hugb3wEqGYR7xPP+dUqnsIAjCaJ7nO9I5ySnNtbhFzHl6enplZGTYJyQk/Kk/uxTBdpLneRmlwXMcd1+n0/UTz51CoSDR6ylxNfQux3HTJBLJz1qtdhg9xwyEuWznKxSK5izL7pPL5eX1zwcpx3E3dTrd1/Hx8W8EONpHoVCckkgkY1QqFUXZvknPN3je1ON5/mP9+a9O0Xfp6enljFNzi5t/C+cEYhcQAAEQAAEQAAEQAAEQAAEQsA4C+RXmJgiC0Ecikdwn4Y5l2U0qlWoKvThrtdqrLMt+rtPpYlmWXcIwzGGe58cbXraHh4e7TqdTZ2Zmlk1MTHxmComhMMdx3OyslLM6giBQlFpDlmVX2NnZVaY6TxzHkaC1kmXZDTqdjl7A3+F5vnd2v1cqlfOzxqWp1eqJCoXiS5Zl55MYKAgC1flaIQjCYrVaPd/QJlPCnP6lmsRCluf5oZQimzWf0hDHMQzTlFJXBUHwUKvVdw0j5jiOe84wTFue58/r1yDxc5FarQ7nOI7SGevI5fKuKSkpPMMwJNBsycstA2EuL9QKfo6Xl1dNjUYTn56eXuLmzZtpeiGHIr9a8TzfjeO4TxmG+ZZhGAe6FyhlWiKRfBEXF3fL2LriKtwoFIqGWWmoVQVBCGZZNlylUs3Uc/yKZdmxdKZ1Ol3lrJTgL7OEu/ZqtVqVzTOGUvbfCHMKhSLb+UqlciCl3fM831xci+O4XSzLHlKpVIuMhL+/ss74cYZhPslKaX0gCEKo+ExRKBSUCntTrVZP1c9hqWynVqttIAqO4lrF1b8FfwqxAwiAAAiAAAiAAAiAAAiAAAgUPYH8CnM1xYgPhUJBL8cN9KLCeJZlW0gkkj50iRqNpj3Lskt5nn/X6MW1bVZ9rSM8z2drh6lUVoo2evHiRRmWZR9SKlh8fPxxvdD1Y3p6+jzDiJPsfm8ozHEc94cgCLvVajUJbBS9Ro0tylJKoTnCnFKpHKvT6TpUqVKlsz4CsLFMJouluTqd7oxOp5umVqs3vYUwR1F4NJ9EmCdZKb4UfZinD4S5PGEr8En6OmUU5fXm3lcoFP1Zlh3O83wjfXrmd1kRlP01Gs0dqVRKaZfuPM/XhTD3DwESxLKiY1szDHOP/gigUqmi6ff6aEOK7qWIxDIMw1Bqaz9T9dtovEKh+Jcwl9N8juPo2dZYpVIFiH7gOG6VIAj3SeQ3er5RmvwSmUw2X6vV1hUE4XeGYfx5nt9l/MzRXw81khjA8/wfhutAmCvw44gNQAAEQAAEQAAEQAAEQAAEQKDICORLmDOsMcdx3BcMw1D6aWdK4WJZ9k1tLPHq5HK5vWF6qFKpdBUE4UZWdFrF7LoSGgpz7u7uLaVS6RJ9UXcq5F6KZdnWKpUqkuM4Sm+lFFIFFcnX6XTjKfIku98bCXP3SQBRqVQHc/JEdhFzSqVyOcMwKVqtNkwikVw3XoMi/NRq9WxzhTm9WEBRfCsoMlCMqsvLXQJhLi/UCn6Oh4dHNZ1Od9PBwUF++fLll3ph5j96f39MjSFkMplM7PqpUCgqkBBNjVco+hLCzRsC1AiivyAIP8nl8srPnj1zkkql1AziY4oy1afL/0rPiuwEbkNhTp8un+18juP6CYIwTK1WNzUQ5vYxDLM76w8PFBn85qNQKJRqtTpeTGOlZ44gCI4UWUvPDBLzeJ6nlHr6UEqshmXZOsadoiHMFfx5xA4gAAIgAAIgAAIgAAIgAAIgUFQECkqYC6Z0TrFmUw4X9zp9SxCEvhRRZvCi2ywryqUr1YQySmWldNV1Eolkbmxs7EuO456xLNuVhDlxLqXHCoIQIggCRe9x2f3eSJijbo7rxHp1bm5uZRwdHUvExsYmG9puSpirUaNGJZlMdkUQhLGpqam/Ozk5pcpksmrXrl27bXzdRsLcv8RAjuMu6Tu2huvrj1GKKzXfOM/zfL+83iAQ5vJKrmDnifUVJRJJ07i4uNO0G9UZzEp7VJNYo+8Wmip2GtXXLiQx2o3n+RuG1hU34YbjuJ4syyaJEXIiS4qezWrEoGNZNsrZ2dlOrMunr9NI5/tNbUhDfobCnL6GXLbzPTw8muh0uoMkAsbExKR6enraa7Xav4yFfXqG2NnZfS2VSheItTX1zSaq8Dz/JcdxlOpOqez0BwXGw8Ojlk6nu2Io1Io2Fjf/FuzJw+ogAAIgAAIgAAIgAAIgAAIgYF0ECkSYo8g2iUQSSS/KmZmZZx0dHYdldUZsaSpiheM4ihKaLAhCd5lMFpWRkeEllUop5WsDCRRGwhyJWXM0Gk2YTCYboK9r1zojI+OinZ3dcSqWr1arjyiVyuEMw3ydkZHha+r3KpXKy0iYo5fk4TKZrI1Go0llGGYHFXhXqVTfmxDmTmu12vdZlrWXSCTeDMOQ/RkvX75sT80ZOI47IgjCXw4ODqN0Ol15jUazRmwAYSTMkb3XNRrNSJlM5kv7Ub0+fY05sucjjUYTIJPJEnQ6XV8qLM9xXC+WZZ1UKtUafWdKF57nl+pT7zx5nl9ofHtBmLOuA0cp31Kp9CCJcRzHUfRnDQcHh94ZGRn19HXkasfFxV3V1zKbnCUyfZDVyCRJo9FMYVn2M7HzaDEX5kZkCXODpVKpv6Oj462UlJTPGIZZSY0THBwcqMkC1W/8LqtBw6KUlJSyDMNQWis1f+hJwhqxE8VQ+r+hMKdv5pLtfBLidDrdnzqdbkdqaup0uVw+UhCEoXK5nHv8+LG9g4PDFDs7u9lXr159yHEcpdguVKlUcziOq6mvNzeG5/l1NWvWrCGVShPoDwsajea4VCql2pQvTYnwEOas6wzDGhAAARAAARAAARAAARAAARCwJAGzhTmGYahG3Dpxc+PabxzHfc6ybA+VStWFxnAcNyIrPWsapZBRt0F9VNxZE8azSqVyHhVU14+lIT+np6ePoaL4RsIcRY6JNlAzBIqQ+Zgi5vQ1ucRmDXf0XRmPZ/d7Q2GOIm6Sk5N/FgThK719u9PT0z8z7o6oj5h7Hd2k/1BH1QiZTDb12rVrT/TXXYVhmM0Mw1DUH31+4nl+tL5b5JuurEqlshXVtaNrFgThtEQiKS0IwvcymexPagogFoFXKpWBFAEol8urp6SkLGUYpiwJnBzHUT08EuPa6JtitOd5noTCf30gzFnyuOR7LUpXTMpKZ5ytVqsX1K5du1xGRgbdA3SvvGBZdpLYQEAfiUVdhqlTMH3usCzb2TjNkb4obsJNzZo1HaRSKYnQX+vZPDCMWOM4jmpXUvoqdY2mzwE7O7sB+iYxf+gbNcwzeJb9q8ZcTvNpjv45sIGiF/V++ZSeQTVr1vSUSqXXdDpdE6pPqY+u25n1PKuk32uh/llAtedIEHzddEb/3DsnlUo/Mo7SLY7+zfcpwwIgAAIgAAIgAAIgAAIgAAIgYEMEzBLm8nE9rKuraxljgSub9aTu7u7VssSxuwkJCenZ7Uki2p07d0omJCRQVIvxR+Lm5lbKRIfX7H7/r/mUQnr//n1a/1U+rvn1VG9v75KvXr3SiGls2az3NnxoCdFfr1/sGYaRUH8JE/9/sx2Eufx60uLzpWLNMXFlDw8P58zMzCem7nuK4NJoNGWvX79OHT5NfoqbMCdCoGdBUlJS2ezqU5Lw+eLFi1di11uax3Hcfa1W29G486kpsKbmG46rUaPG+9evX7/DMIx4HulrY//SHx6qOTk5PaDUV+N99GnrFbNrTEHji6t/LX7ysCAIgAAIgAAIgAAIgAAIgAAIWCGBghbmrPCSi5dJEOb+9/0N4cY8H9epU8cpPT39XlbKN6W3ioK2eZOLcBT8W4TwsTUIgAAIgAAIgAAIgAAIgAAIFDABCHMFDLiol4cwV9QeKPj9IdyYzZhSid/NKTrN7JUKcSD8W4iwsRUIgAAIgAAIgAAIgAAIgAAIFDIBCHOFDLywt4MwV9jEC38/CDeFz7wwd4R/C5M29gIBEAABEAABEAABEAABEACBwiUAYa5weRf6bhDmCh15oW8I4abQkRfqhvBvoeLGZiAAAiAAAiAAAiAAAiAAAiBQqAQgzBUq7sLfDMJc4TMv7B0h3BQ28cLdD/4tXN7YDQRAAARAAARAAARAAARAAAQKkwCEucKkXQR7QZgrAuiFvCWEm0IGXsjbwb+FDBzbgQAIgAAIgAAIgAAIgAAIgEAhEoAwV4iwi2IrCHNFQb1w94RwU7i8C3s3+LewiWM/EAABEAABEAABEAABEAABECg8Am+EuZSUlA2Fty12KiwCd+/e7Ut7ubi4bCysPbFP4RIgH8O/hcu8MHcj/3Ichz+iFCZ07AUCIAACIAACIAACIAACIAAChUQAwlwhgS6qbSDMFRX5wtsXwlzhsS6KnSDMFQV17AkCIAACIAACIAACIAACIAAChUMAwlzhcC6yXSDMFRn6QtsYwlyhoS6SjSDMFQl2bAoCIAACIAACIAACIAACIAAChUIAwlyhYC66TSDMFR37wtoZwlxhkS6afSDMFQ137AoCIAACIAACIAACIAACIAAChUEAwlxhUC7CPSDMFSH8QtoawlwhgS6ibSDMFRF4bAsCIAACIAACIAACIAACIAAChUAAwlwhQC7KLSDMFSX9wtkbwlzhcC6qXSDMFRV57AsCIAACIAACIAACIAACIAACBU8AwlzBMy7SHSDMFSn+QtkcwlyhYC6yTSDMFRl6bAwCIAACIAACIAACIAACIAACBU4gz8Lc1atXS+t0OqZOnTrPLWHl3bt3HUuWLKktV65cpjnr0fhLly6V7dy5c7I54wtqTHJyskNcXFzpNm3aPLQWmwyvFcJcQXnecuvSfePi4pKW1xWLqzCn1WrZp0+f2lWoUCEjr+xoXm7rpKamSulZJ5fLtXnZ5/79+w729vY6c59txntAmMsLdcwBARAAARAAARAAARAAARAAAdsgkK0wN3v2bK8tW7bUMXUZ27Zt2/HLL78oMjIypLNmzbqQn0vdu3dv5Tlz5jRNSUlxpHVq1KjxcM6cOdGurq6pOa27atUqt/Xr19c+evTozvzsL86dP3++UqVSlV++fPlJ+t3ChQu5Xr163cpNMNm9e7eqdMF4AAAgAElEQVTz0qVL6+/du3efpW2yxHVBmLMExYJZIzIyssKsWbOaPHz4sFT58uVTxowZc/bDDz+8b7hbRkaGpHfv3u1v3779zoYNG3ZzHJdiSrhxcXHZWDBWWt+qJKRNnTq1zt69ez3JOrlcnjZx4sRoY3bx8fFOAwYM6OTo6Jhp6jmh0WjYkJCQf60zduzY0127dr1H6z569Mh+7NixTa5cueJCP7u6uj6aPXt2tLu7+0v6mf44ERQU5Juammp38ODB3cakEhMTS44ePbrlgwcP5Onp6Xbe3t6358+ff5oEvlu3bpUICAjoZjiH47jkDRs2HDPlX47j3jyrrc8jsAgEQAAEQAAEQAAEQAAEQAAEQCCvBLIV5ihKhP7Rwl999VWbdu3aJfbu3fsW/UyRH/RCm19hLj09XdKmTZuAfv36Xfr6668TXrx4IRs1alQTBwcH7dKlS6Nzuyh6QZdKpUJu48z5ft68eUqe598Ic97e3n0XL178R5MmTZ7mNN9QmKNxlrTJHLtzGwNhLjdCRfN9SkqKNCAgoHO7du2ujx49Om7ZsmU1N2/eXGvr1q17DSPAQkNDPc+fP18lMTGxIoS5f3y1fft2l0WLFvksW7bsMIlkJKrv2bOHMxbfPv3009avXr2ye/TokTwyMnK7sad37txZJTQ01HflypUHPD09X5Cw/vPPPzeOioraTNG7EydOrJ+UlFRq0aJF0RTxNmTIkGalS5dOX7hw4VmyYfr06S3r1Klz59atW++YEv4GDx7cTC6XZ8ydO/f8w4cP7T/55JOO/fr1uzJo0KDEs2fPlgsODm62bt26g6JdtEfp0qU1EOaK5kxiVxAAARAAARAAARAAARAAARAoCgJmpbL26tWrnZ+fX8LAgQNvikZOmTKl7qNHj0o+f/7cITY21tnLyytp/vz5p0RRYevWrS7r1q2rdf/+/VJNmjS5NWvWrBgHBwed4UVSREmvXr38165du4dejOk7SvtKTEx0atq06ZOQkJDaWq1WkpiYWI72oJfgqVOnnq9ateorirT7/fff3VevXh1F837//ff3Nm7c6HHv3r0yHMfdnz59+jl6ue7du3fH+fPnR9aqVet1yi29bJcpUyZ9/PjxsYa2GApzHTt27EJRTBSJ06FDh/hJkyZdXbt2bTWK0KPf07XOnj37TJUqVdIMhTlDm8RonMjISDfax9fX99a0adP+lMlkQt++fdvWr18/OTIy0jUzM1Pq5+enHjFiBF8QNwCEuYKgmv81jx07VnHSpEmtIiIitpEgQ4Ju+/btPxoxYsQ5f3//JNohNja2VP/+/busWrVq36BBgzpDmPuH+8WLF8tQJGGjRo1ei+YUeTh69Oj2Z8+e3SQK9b/++qsrndeRI0eeCw0NbWpKmFuzZo3r7t273bdu3XqI1hGfRwcOHNhKz7FDhw5VqlGjRoqbm9vr6N05c+Z4xsXFladnzvLly2t4eXn9/ffff9vNmzevsSlhjqJuO3XqdFeMciShzsXF5cWUKVMu07Ni48aNynXr1kXQs4KeC9ndVUhlzf95wwogAAIgAAIgAAIgAAIgAAIgYK0E8iXM7dmzx3PMmDEnK1asmDZv3rxGJD4FBwdfoRdnEhKGDh16RqlUPps7d27D2rVrJ0+bNu2iMYhu3bp1TEtLk3Xv3j2udevW9w1T9caOHetz7Ngx9y+++OJ8gwYNHv/88891SMjatGnTkS1btry3YcMGr+3btx84f/582cDAwE6DBg06X69evcdLly6tTfv89ttvkf37929dr1695DFjxqjoBbhly5Y9ZsyYEUk14bIT5kRBZNy4cSdatGjxUBAEplevXl0CAwPPKxSK5wsWLGhQvXr1p6GhoTGGwpyhTWJUz+TJk6NJRJg6dWqLESNGnOndu/dfHTp06CqRSIRJkyadSkhIKB0WFtaE0oOrVav2ytI3CoQ5SxO1zHoUnfXHH3+4bdmy5bC44sCBA1t6e3snDx8+XE2/o5+rVav2LDg4+HKjRo36QJj7N/vo6Oh3/vrrLyf6A0CzZs1uf/fdd9doBIll/v7+XSgtVS6Xa77//vvmpoQ5SlUdMGBAOw8PjwdKpfLJ/v37a1StWvXvBQsWnBN3oqjeqKioComJiaXWrFlTf8qUKVGGKbMksGUnzBlaS7UoAwICugYFBZ2gupgkHO7YsYPTaDSSpKSksgqF4n5ISMgZMU3WcC6EOcucOawCAiAAAiAAAiAAAiAAAiAAAtZIIF/C3L179+RiTbYZM2bUSkhIKEfRJBRZcvXq1YphYWGv67UdOHCgclhYWENTL8dJSUmOYWFhHhERETWoDpObm9vDyZMnn6WmEiTMUVTemjVrjtM6VDOqT58+H1FEy7FjxyqJwtzcuXM94uLiKvzyyy+vo+co6u706dPlKfKIXoB37dr1OiqGopToJf3o0aM7jFNgzU1lpZf+sLAwLiYmxoVEweyEOdHZYmH5wMDAVj4+PkkTJky4RsIcpbQNGDDgdQRi165dO/Xs2TNO/NmSNwqEOUvStNxadEaopqF4z9LK3377beNy5cqlTZ069dK+ffsqU6TXzp0795QqVUoDYe6/2ZNwqVarK5UuXTptwoQJp1u1avWIRlGkLUXZ0nNDPPOmnj2UTjx27NjG586dq0Y1/h4/fiwfMmTImS+//DJR3I2eT4GBgW1IPKOI3YkTJ14wFM/MEeboDwKfffZZ65IlS2auXLnyBK1N0XTbt2/3HDdu3CkXF5dXYWFhtSm6ePfu3fuNrxTCnOXOHVYCARAAARAAARAAARAAARAAAWsjkC9hzrDG3MqVK90iIyOrrl27NqJHjx7tb968WcH4Yk+dOhVOaXvZQaCUtJ9++ql+WlqaHTVTIGGOXmZDQkIuiXOo9tuSJUv+uHXrlpMozA0fPrxxhQoVXlGKmPHaFBXz4Ycf9ti+ffuOlStXKvQv7m/WE8fnJMxR1MzkyZPrnzhxojqJh+KcmJiYjdkJc1TcPSgoqDGl4Irju3fvfjUoKOgKCXOGhf5JYGjatOndwMDA65a+QSDMWZqoZdYzFIzFFSm6k+6DwYMHJ/j7+3cKCAhQUT0yEndJmDNM+Ta0orh2ZSUGxGbNmjXVV61a1eDgwYPb792750ji/a+//rqX0tdzEuYoHf/q1auVVq5cGUF1M0+dOvXOsGHDPgwLCztAqfSGjEnECw4ObvDgwQOK0IsQvzNHmBs9enTD+Pj4CuvXrz8k1pCjPx6QYCc2l6GfO3fuHGAqchbCnGXOHFYBARAAARAAARAAARAAARAAAWskUCDCHEXPPXr0qIRhSpipi6euhtHR0RUHDx78RpCiSKHJkye3oXpR48eP937x4oX9smXLXjeCoOiVrl27dt+9e/f2kydPVhCFuVmzZnn99ddfpX/++edTNI6EtJs3b5Y0rO3k4+OT/Pvvv3uGhIScMNXQwZQwJ76gb9y4serSpUu9Fy1adIQi+ZYuXVozIiKiGqXUZifMkah4//59+YwZM85QTbzAwEDfqlWrPqd6dRDmrPEoFK5Nx48fr/Ddd9+1JjGJunTSPduhQwd/iqDy8PB4TrUXTVlE6dWUDl2chblNmza97+zs/EqMkCOBq3Hjxn1CQ0OP3Lt3r8TChQt9TbHbtWvXdsMuy2Ktx3Hjxr2pN0nRq127dlXTM4maSvTo0eOWmGJOPhs1alT76OjocLFeZm7CHD1X9u7dy61Zs+YgPQdEu6jxhKOjo1ZMi33+/LmsTZs2vUylK0OYK9yzid1AAARAAARAAARAAARAAARAoDAJFIgwd/jw4Urjx4//gF6UfX19Hy9ZssT9ypUrlcSUVPECKaosICCg27Bhw05/8sknt6gra1BQkM+TJ09Kbt68+bBYYy4kJORY48aNn8yYMaOeWq2uQNF0hvXcxOLvNI72mzVrVp0bN26UE+t3hYeHvz9nzpzmlK528ODB3aYAGwtzbdu29f/oo49UQ4cOjd+wYUPV1atX1w8PD9+XlpYmHT58eCsnJ6eMnIQ5SktMTU21W7hw4amYmJhyVJw+ICDgytsIcxTtN2/evFrDhg2LpUibmTNn1gkMDFQ5Ozunff/99/UGDhyoNqzJZ+q6EDFXmMcp570M/UnNBQICAjr6+PjcGT9+/LVFixZxBw4ccN+1a9ceR0dHnVqtlour6XQ6dsCAAX5ZXUCPNm/e/DGlthZnYe7HH3/kDh48WGPu3LlRNWvWfEkRc8uWLWtEKe7URIEEfJFPTEzMO0uWLGlInVfprCQkJDhdvny5bK9eve5Mnz691okTJ1znzJlzXKlUpmzduvW9H374odmyZcv2+/j4/P3555+3sLe3186YMeM8RfpOmTKlwc2bN8tRCru4vrEwR3+UaNGiRXLLli0fic+dadOmHfP09HzdfKZEiRLad999N51qDIaHh3stXrz4KAl2M2fOrBUVFVXdVBMJCHPWc4ZhCQiAAAiAAAiAAAiAAAiAAAhYmoDZwlyXLl0SDGugURqYcSrr8ePH36eGC2QkvTyHh4fXptRPEsSmTJkS3axZs8fGF0CiV1hYWCMxRbRKlSp/h4aGnqAurSTMUdfX27dvl6NuqJUrV342Y8aMk/Xq1XtmKMzRmosXL3bfvHlzrZSUFEfDcfQdpaG1atXqY1EYM0eYo/XWr19ft0WLFjf+85//XBk6dGjL69evV3RwcMisX7/+3cePH5fMSZijhhTjxo1r9ezZs5IVK1Z8UaFChRQPD49H2Qlzvr6+lML4r1RWsYlGVgTQwUqVKqV/8sknXWfOnHm0Vq1azz766KPuwcHBkWIHz+xuDAhzlj4yeV/P0J8tWrR4HBUVVX7atGm+VNusTJkyqRMmTDjVvn37B8Y7iKmsaP7wDxmKLpwwYYJ3ZGRkTfqZuidTpKGfn1+yMTvjVFax/iU9p+i5MGHCBJ/o6OjXnZPpbA8aNOgCpQ/Tz7dv3y4xbtw43/j4+Er0c9WqVZ/Mnj37pKEYbijMkZ/atm3brXv37rEjR47kKTKWfGtoE3V0pr3pGsaPH+8TFRVVg74n/8+dOzfS29v7b+NrgDCX9zOHmSAAAiAAAiAAAiAAAiAAAiBg7QTMEubycxEUJUTRQTmtQS+0iYmJJSkqjKJJxLEkzJUtWzYtKCjo6tOnT+2oDlRutlBzhrJly/5rHK1NqYHZ1ejKzTaxUQTZQNFKFJWTmx3i9+Zcv7n7EyfRFsP/5zQfwpy5niqccab8Rvenm5tbal4tKK415iiF9fHjx/aGz4zcGFIkq7u7+1Ox8y2Np3XonFauXPnNs8dwHRLwqHuq8XPF1F7mnktxLj2vnjx5Qk1vsvU/hLncvIrvQQAEQAAEQAAEQAAEQAAEQMB2CRS4MJcfNIbCXF7XoaYUv/zyS4O2bdsmTJ8+/WJe17HVeRDmbNVz5ttdXIU58wn9/0hqTDNp0qSzDRo0eJaX+UUxB8JcUVDHniAAAiAAAiAAAiAAAiAAAiBQOASsWpijCDWKEBM7GeYFyd27dx1TU1Ol7u7uL/My39bnQJizdQ/mbj+EudwZiSOoKYyrq2ueoxPN38lyIyHMWY4lVgIBEAABEAABEAABEAABEAABayNg1cKctcGyRXsgzNmi197OZghzb8fL1kZDmLM1j8FeEAABEAABEAABEAABEAABEDCfAIQ581nZ5EgIczbptrcyGsLcW+GyucEQ5mzOZTAYBEAABEAABEAABEAABEAABMwmAGHObFS2ORDCnG367W2shjD3NrRsbyyEOdvzGSwGARAAARAAARAAARAAARAAAXMJQJgzl5SNjoMwZ6OOewuzIcy9BSwbHAphzgadBpNBAARAAARAAARAAARAAARAwEwCEObMBGWrwyDM2arnzLcbwpz5rGxxJIQ5W/QabAYBEAABEAABEAABEAABEAAB8wi8EebMG45RtkaA53mBbOY4Dr62NeeZaS/5GP41E5YNDoN/bdBpMBkEQAAEQAAEQAAEQAAEQAAEzCQAscZMULY6DMKcrXrOfLsh3JjPyhZHwr+26DXYDAIgAAIgAAIgAAIgAAIgAALmEYAwZx4nmx0FYc5mXWe24RBuzEZlkwPhX5t0G4wGARAAARAAARAAARAAARAAAbMIQJgzC5PtDoIwZ7u+M9dyCDfmkrLNcfCvbfoNVoMACIAACIAACIAACIAACICAOQQgzJlDyYbHQJizYeeZaTqEGzNB2egw+NdGHQezQQAEQAAEQAAEQAAEQAAEQMAMAhDmzIBky0MgzNmy98yzHcKNeZxsdRT8a6ueg90gAAIgAAIgAAIgAAIgAAIgkDsBCHO5M7LpERDmbNp9ZhkP4cYsTDY7CP61WdfBcBAAARAAARAAARAAARAAARDIlUCehTmO4zidTieJj4+Py3UXMwZ4enpWzsjISE1ISHhuxvC3GtK6dWvZvXv32kml0qOxsbEZbzW5EAZ7enraC4JQPi4u7p6lt4MwZ2mill+vVq1a7169evV+XlcuxsKN1NXVtdTNmzf/ziu73OZ5e3uXfPXqlSQ2NjYlt7EF9X0x9m9BIcW6IAACIAACIAACIAACIAACIGA1BLIV5pRK5URBEGaYslQQhPcYhvlGIpE4qlSq0fm5GqVS2UEQhLUMw1TSrxOl1Wo/SUhIuJOfdRUKxSiZTLYxNjY2meO4UgzDPNdqtZUSEhIe5mfdt5mrVCp76HS622q1+pypeQqFogLLsr8wDNNV//0LlmUDVSrVxrfZJ6exEOYsRdLy6yiVSl9BEFYzDKNgGCaRYZiveJ4/ariTt7e3XUpKykmGYRrqdLoa8fHxNO5fn2Io3EiVSuV0QRC+04N4wDBMH57njxmC8fDwqKbT6a4wDPOM5/n3jblxHCeY8Opunuc/YhiGVSgUS1mWHawfs9bZ2fmLiIgIDf3Mcdx1hmHcDOfzPC9jGEYr/o7juH0Mw3Qy4S9a24Vl2X894wRBOKRWqzvAv5Y/a1gRBEAABEAABEAABEAABEAABKyVQLbC3HvvvVeiXLlyjmR4RkbGAUEQ1jg4OLwWjK5cufJMoVBMz68wR5FiWq32Eb1gq9XqpRzHOTEMQyLdS57n++UHGr10SyQS77i4uAtFJcxxHLeDYZhjPM//aHwt+ms/zDBMKsuyX6tUqr84juvCMMwOlmXbqFSqiPxcvzgXwpwlKFp+DYrESklJIdFoubOz87ykpKRAlmWD7e3tlVeuXHkq7qhUKicIguDHMEwzrVZbMyEhgQShf32KmzCnVCq7CoLws0QiaR4XF3ebRHiWZUcZiW8sx3H7BUEow7KsG8/z7xpzc3V1LVuqVKk3z8CMjIyNLMueUalUUxQKxVcsy05nGKa+RqPRyGSyKEEQlqnV6vm0Dj1fZDKZu0QieUw/v3jxQjCO3KtTp46TIAj24r4ZGRnfMAzTkef55jVr1qwvlUo32dvbNxG/12q1maYi84qbfy1/2rAiCIAACIAACIAACIAACIAACFgvAbNSWTmOO6F/KSXR7PVHoVDMZFmWIucqUFQIy7J709LSPhVfTjmOo6iTIIZhlAzDrJdKpSOM00hr1Kjxvkwmu00vuNeuXUvQr0tRZK48z5/XvwDTGp8zDEMvuBt4np9IUSkKhaIPy7LteJ7/ksbpo49m8DzfhuM4Xh+F9EAQhMUsyy6giLksEWwcwzDf6i9hAs/z6yiqRafTzY+Pjz/s7u7eWCKRbNBqtfUppZZe+On61Gr1pOyuhyKaXr58GSoIAtnximXZhSqVapZCoVimj7Z5IQjCaeNIGIVC0ZBl2bPGUXwcx40gLTRLSFhiidsGwpwlKFp+DYVC0Zxl2X1yubx8TExMJsMwUo7jbup0uq/j4+P30o5eXl41NRpNvFar9ZJKpdcgzP3jB09PT6+MjAz7hISEPw3O/knDiDWO40jYD9HpdIESiWS9KWHO0KtKpbK2IAiXNRrNu9evX3/AcdwRQRC2qtXqn/XPoU+zIu9I/PMmwS09PT2F9mvdujUrRtHldJe4uro6Ojg43MqKoP2C/KuPFB7N83xHSrXPaQ0Ic5Y/f1gRBEAABEAABEAABEAABEAABKyFQH6FOYrm6SORSO6TcMey7CaKNqEXZ61We5Vl2c91Ol0sy7IkMh3meX688YVzHBfDMIxcEIQfdDrdUcOIIKVSOVj/+wCWZdOzBLs1DMOs4Xl+mkKh+JJl2Y/0aWcUwdKWYZgVPM/XEAUNlmV7ZmZmRslksld6YW63VqudIpVKu2eJe5OlUmmprDp59PL+isQ3MX1XEITOarV6v0KhOMiy7K9SqfRidtfDcVwvhmHmC4LQnmGYiiRQCoLQgmVZSpldz7LsaYZhlqlUqpuG185xHImNw+hFvyBvBghzBUk372srlcqBJOZS9JS4Csdxu1iWPaRSqRbpxaBdgiBcVavVQRzHaSHM/Zs3idsSiaSqIAjBLMuGq1SqmXpulLpOQv8ACmZjGGZbbsIcx3F0Vu+Lqfkcx1HNv75iajHHcT4Mw5zjeV6iVCqrkYjHsuxhQRDoWUL//49KpTqY3R2hf14N53m+HsMwAsdxJPTRHwkcsuyrwzDMUYlE8kVcXNwt4zUgzOX9nGEmCIAACIAACIAACIAACIAACFg7gfwKczV5nv+YLlKhUNDLcQOe57txHDeeZdkWEomkD32n0Wjasyy71NTLcY0aNSpJpdJx+ugyeqE+qdPpvqKmEhzH/SEIwi6DqJWeJKjxPF83J2FO/3L+X6msDMPU5Xn+sj6N8KVWq20gk8neEwThP1kv4C05jqMaVX8xDHPP2dl50r179zK1Wu37Uqm0X3bXo7djCsuy3VQq1QV66TYQWrJNZVUoFFMkEkldlUoVUJA3CYS5gqSb97X1Z6Sxof85jlslCMJ9tVo90d3dvR1FejEMQ2fsJYS5/2ZNQibDMK3pvNIfAVQqVbT+7IdkpYTXI9Ge47hmuQlz1Mgmq0adSqPRVL1+/TqdfwnxFgShnlqtvkRruru7u0kkEkojLk2ZrCTSUT1Iaiij0Wj6UnQe1d5Uq9V3jS3V1wmk2oAUIbdF/7yk9NvvWJbtr9Fo7kilUrLZnZ5tEObyfq4wEwRAAARAAARAAARAAARAAARsjUC+hDnDGnMcx33BMExPnuc7KxSKUyzLvqmdJEKRy+X2+rQ9U5xYpVLZVKfTzZNIJKVVKpUXRa3odLp+lGaqf5mtmyWAXcyKmJMqFIovsouYy06YM0wb1a/9kaOjozojI+MJy7IVBEGI1Wq1baRS6UatVjuQakDxPM/ldD0Mw1BxfopwouunIvRhPM9T5I42pxpzFDGTFQU4ga6zIG8aCHMFSTfva1OqpSAIw9RqdVMDIZeaBex2dnZekZycTILQXJVKRVGir4Uiw5Rvw52LeUQVNYLoLwjCT3K5vHJqampFnU5H0alKng6vecLcSuIppsXrnx9/sSw7SIyC8/DwaKLT6Q7yPF+ahP3nz59XNmzEwXHcpax6cjPVanW48V2hj46b6uzszIkpq0qlsrxMJpOJ3Xj1jWAemhL3irl/837IMBMEQAAEQAAEQAAEQAAEQAAEbIBAQQlzwVlppS5qtTowJwYUqUJpn2q1+vWLMX30kUKHqH4Tx3GHKZVUL07Qd35Zot38f963uS8EQfhKFDb0NeAWUCqrKMyxLOujUqliTDV/EIW5+Pj4MxzHnaV6X4IgUMRKP47j6KWcopfK8Tw/gqIBc7seell/+fJlR2qSoY/e2aoX5iJ4nl9ozEFf/J0i7Kgw/Q0DcWYQy7Ja8Zrzew9BmMsvwYKZLwo9JCbFxMSk6puB0H3XXyqVUvTWf6U0kiUsy/ZQqVTbirMwx3Fcz6wI2yQxQo5qtFF0q06nayWVSl0EQdhgymt2dnaVRSHM4LxV13fEfS3kGfz+D0ov5Xl+jv558rUgCAPoeUP16LIEVG/DM6oX7xdT3UrDvfW2XWMYZjbP89SBV3zO0bMsVewk6+npKddqtZR2+6/nAQ2GMFcwZxCrggAIgAAIgAAIgAAIgAAIgIA1ECgQYc7d3b2lRCKJpBflzMzMs46OjsMEQWgp1oMTL1yhULiwLHuHXnh1Ol14iRIlSmZkZIQxDPM+pZbqa74NYhimHcMw6dSxlGGYUySWKZXK1oIgHBMEoVFGRka8g4PDJn0qmCjMUUraPLlcvjglJYW6yz43FTFHwpxSqZyqr1NF6XBrOI6jmnhfMwzjz/P8rpyuR98gom6pUqWGZmRkOGRkZFwWBGG4Wq3eoVQql1NXSKlUOshEt0WK9Nmp0+nKSySSwRKJhNdoNH4sy25jWfZDitSh+nUsyzqRTfpOlC48zy/VF473NCX4Gd9UEOas4Zj9YwN1AXVwcJhiZ2c3W6fTPdXpdH/qdLodqamp0+Vy+UhBEIbK5XKuVKlSGQ8fPnQVLddoNFJKtRQEoZ2jo+Ppy5cvvyzmwtwISn2XSqX+jo6Ot1JSUj5jGGZlenp6OQcHB4osfNOBVavVNqT6lzKZrMG1a9dueHh4NCR2cXFxVPuRUvAXsSxbief53oZM9c1lllMjGAcHh8ysdPyTgiCEqNXqFWINS4ZhPiBhLatOZtes7q10lmtkZmY+EX1MIqC+BmWYVqutmpCQQM+w1x99jcHJLMt+kHX+kzQaDaXDf2bUWfb1WAhz1nOGYQkIgAAIgAAIgAAIgAAIgAAIWJqA2cIcwzBUI+5NNAh1ZTVKZf1cH83ThYzUdxedliWOUd24REEQ+qrV6rPGF6BQKHqzLLtCP46+viyTyXpQl1Z9tMkyfZooRQttd3Jy+pQijPTfUQ2u1zXuGIahjrHNxIg5hULxDcuysxiGoSgV6uz6X8KcIAhdySaO49pQdExWdF51atKgVCp7CILwu0wmK3/t2rUnOV2Ph4dHNZ1OR3WjXr/wMwzzS3p6+jc3b95MUygU1ASCUhE1FOVnfO21a9culwYs8+wAACAASURBVJmZuVYQBD/xO6pbpVKpluv3/I1hmLL6WlmLqSGlvuvs7KxafO3NaRwBYc7SRybv69WsWdOTuqvqdLomJAiLXYApSophmDssy36qUqkiTexAHVs1aP7wD5maNWs6SKVSikIl8Zw+DyjS0FTzBX33261ifUuqW6lvsDHPw8PDWafTJVGtSbHDqyF7A4H+9fOF5/mBDMPo9GeT9hY7J1Ok2xCe59cb+5hSXOn5plKp6A8Obz76CEnq+Ep/eKAP+b+zSqW6Yux/CHN5P3OYCQIgAAIgAAIgAAIgAAIgAALWTsAsYS4fF8G6urqWuXnz5t+5rCHx8PB4XxCEFJVK9dh4LBVPf/bsmcQw4kQcQymkr1690sTGxmaY2IOuT0L13vJxDYZTs72eOnXqONnZ2WWYqqFHIqJYW8qUHfo02Eoqleq2+OKvHyf6R2woQdfyWhjQX5f4/2wvD8KchTxvuWUo+u1f92ONGjXev379+h3DxiFvs11xFW7oXCUlJZVVq9WPzOVFKexarbajKSHO1Bpubm5ldDoda+oZRuJaZmbmey4uLreNzvd/+Tg7+yjNXqPRlNU3nTA5rLj611yfYhwIgAAIgAAIgAAIgAAIgAAI2DKBghbmbJnN/4TtEOb+J9yY40VAuDHPxySep6en38tKAS9rJICbt0ARjYJ/iwg8tgUBEAABEAABEAABEAABEACBQiAAYa4QIBflFhDmipJ+4ewN4cZszpQS/C7P80lmz7CCgfCvFTgBJoAACIAACIAACIAACIAACIBAARGAMFdAYK1lWQhz1uKJgrMDwk3BsbWGleFfa/ACbAABEAABEAABEAABEAABEACBgiEAYa5guFrNqhDmrMYVBWYIhJsCQ2sVC8O/VuEGGAECIAACIAACIAACIAACIAACBUIAwlyBYLWeRSHMWY8vCsoSCDcFRdY61oV/rcMPsAIEQAAEQAAEQAAEQAAEQAAECoIAhLmCoGpFa0KYsyJnFJApEG4KCKyVLAv/WokjYAYIgAAIgAAIgAAIgAAIgAAIFAABCHMFANWaloQwZ03eKBhbINwUDFdrWRX+tRZPwA4QAAEQAAEQAAEQAAEQAAEQsDyBN8JcSkrKBssvjxWLmsDdu3f7kg0uLi4bi9oW7F8wBMjH8G/BsLWGVcm/HMfhjyjW4AzYAAIgAAIgAAIgAAIgAAIgAAIWJgBhzsJArW05CHPW5hHL2wNhzvJMrWlFCHPW5A3YAgIgAAIgAAIgAAIgAAIgAAKWJQBhzrI8rW41CHNW5xKLGwRhzuJIrWpBCHNW5Q4YAwIgAAIgAAIgAAIgAAIgAAIWJQBhzqI4rW8xCHPW5xNLWwRhztJErWs9CHPW5Q9YAwIgAAIgAAIgAAIgAAIgAAKWJABhzpI0rXAtCHNW6BQLmwRhzsJArWw5CHNW5hCYAwIgAAIgAAIgAAIgAAIgAAIWJABhzoIwrXEpCHPW6BXL2gRhzrI8rW01CHPW5hHYAwIgAAIgAAIgAAIgAAIgAAKWIwBhznIsrXIlCHNW6RaLGgVhzqI4rW4xCHNW5xIYBAIgAAIgAAIgAAIgAAIgAAIWI5BnYe7q1auldTodU6dOnecWs8bMhTQaDbt///7KHTp0uE9Tdu3aVcXf3z/J3t5eZ+YSZg27e/euY8mSJbXlypXLNGuCFQ6CMGeFTjEyie4zFxeXtLxaWlyFudTUVCk9g+RyudYUu0ePHtlXqFAhI69czZl3+/btElWqVEmTyWSCOePzMgbCXF6oYQ4IgAAIgAAIgAAIgAAIgAAI2AaBbIW52bNne23ZsqWOqcvYtm3bjl9++UWRkZEhnTVr1oX8XKq3t3ff5cuX7/f29v47PDz8/ffff/+lr6/vk5zW/Pvvv+0++OCDnnv37t324MEDh88//9xv7dq1ezw9PV/kxxZx7t69eyvPmTOnaUpKiiP9rkaNGg/nzJkT7erqmmqJ9QtzDQhzhUn77faKjIysMGvWrCYPHz4sVb58+ZQxY8ac/fDDD1+LzeInIyND0rt37/a3b99+Z8OGDbs5jksx3qW4CXMkuI0dO7bJlStXXIiFq6vro9mzZ0e7u7u/pJ83btxYddGiRY3S09PtHBwcMnv27Hl19OjRquy8Ex8f7zRgwIBOjo6OmUePHt1J4/r37986NjbW2XhOTEzMRvrd+vXrq61atares2fPStLPgwcPPhsYGHjdcHxOa9y6datEQEBAN8PxHMclb9iw4Zgp/3Ic9+ZZ/XZ3GUaDAAiAAAiAAAiAAAiAAAiAAAhYM4FshTmKRqF/ZPxXX33Vpl27dom9e/e+RT9TBFlISEgdSwlzy5Yt2+/j4/P3559/3qJevXoPRowYwecEzVCYq1y5crpWq2WlUqlFIlbS09Mlbdq0CejXr9+lr7/+OuHFixeyUaNGNXFwcNAuXbo02pqdaco2CHPW6bGUlBRpQEBA53bt2l0fPXp03LJly2pu3ry51tatW/caRnmFhoZ6nj9/vkpiYmJFCHP/+HLixIn1k5KSSi1atCiaomSHDBnSrHTp0ukLFy48m5SU5Ni1a9fuM2fOPEoiZ1RUVPmRI0d2yI4drffpp5+2fvXqld2jR4/kkZGR2+l3dO7pWSDePStWrHC/cOGC85YtWw5fvny5NP0x4Pvvv4/o3LlzckRERIVx48a1M/7jQE5rnD17tlxwcHCzdevWHRT3oGspXbq0BsKcdZ5ZWAUCIAACIAACIAACIAACIAACBUHArFTWXr16tfPz80sYOHDgTdGIKVOm1H306FHJ58+fO1BkiZeXV9L8+fNPiaLC1q1bXdatW1fr/v37pZo0aXJr1qxZMQ4ODv+VakoRcyTMrV+/3v348eM1KcLF1dX1MUWOJCcnOwQHB/tcvXrVWS6Xp/fs2TN28ODB1w2FOUoh+/jjjzvt3Llzb6lSpTRr166ttn79+toUhUQ2zZ49+wylmu3cubPKzp07a5QpUybtzJkz1WrVqnXv22+/vVKrVq1/peImJiaW7NWrl7/hS/b9+/cdEhMTnZo2bfqEImXOnTv3LokAxIKinpYsWVJ306ZNR2iP3bt3u1WsWDE1MjLSzdnZ+dmQIUMutWvX7gGlK/bv3//D9u3bJ+zevdtj/Pjx0ZR+S5GJR48edZNIJIKfn596+PDhaks6GsKcJWlabq1jx45VnDRpUquIiIhtJMiQuNy+ffuPRowYcY7uC9opNja2VP/+/busWrVq36BBgzpDmPuH/6FDhyrVqFEjxc3N7XUE65w5czzj4uLKr169OorO2cWLF8v6+fkl03ckrvn6+vZevHjxH02aNHlq7MFff/3VlZ4XI0eOPBcaGtpUFOYMx9EfKDp16vTR6NGjz5BvZsyYUevevXvysLCw07Q+PdfomSSXyzXZpbQar0FRuRs3blSuW7cuglLzc0qFRSqr5c4dVgIBEAABEAABEAABEAABEAABayOQL2Fuz549nmPGjDlZsWLFtHnz5jXy9fW9FRwcfOXixYtlSEgYOnToGaVS+Wzu3LkNa9eunTxt2rSLxgBEYa5SpUrp48aN81UoFI/69++fQGlpwcHBdW/cuFFuxIgRFy9cuFB+2bJljXbt2rXdyclJK6ay0np+fn4BR44c+f3ly5fSXr16dQkMDDyvUCieL1iwoEH16tWfhoaGxlB62w8//NCsd+/el5o1a3Z/8eLFdZydnV/MmzfvvLFN3bp165iWlibr3r17XOvWre8bpg8uX768RnR0tMuaNWuO07wDBw68S9d+8ODB3eIeLVu2vN63b9/4PXv2VD18+LD79u3bd9MLfPfu3bvVqVPnzsCBA+O8vLye79ix4721a9fWDQoKOpmWlkZpwc1Ewc5SNwqEOUuRtOw6q1atcvvjjz/cKAJLXHngwIEtvb29k0Vxln6uVq3as+Dg4MuNGjXqA2Hu/31A5ykqKqpCYmJiqTVr1tSfMmVKlGEaMIma169fl5NQTtFwq1evjjQWv0hM8/f37zJ27NjTJKp9//33zU0Jc3Tmd+/erdi9e/d+suCbb75pShF6arW6/M2bNytUrlz52bfffhtjnIZseMcYr0GC4I4dOziNRiNJSkoqq1Ao7oeEhJwR03EN50KYs+zZw2ogAAIgAAIgAAIgAAIgAAIgYE0E8iXMUdTI8uXLT9IFURRJQkJCOYpaoQiWq1evVgwLC3v93YEDByqHhYU1NPXSKwpzOaWyUp2tp0+f2nXu3DkgNDT0iI+Pz1NTwlzZsmXfNGmgl+6wsDAuJibGZfv27QdINFuxYkV9sYYURfQtXrzYR/zZ0CmUDhcWFuYRERFRg+pUubm5PZw8efJZanSRmzBHta2OHTu2jaJoDKOg6tev/5SEua1bt+4Ua9X17du3bcOGDZO+/PLLBNp/1qxZdUgQXLBgwetoPEt8IMxZgqLl16AzolKpyv/yyy9R4urffvtt43LlyqVNnTr10r59+ypTBNfOnTv3UCQohLl/+4DOaGBgYBsStUjsnjhx4gVDUWvWrFlehw4dqkk14L799ttTAwYMeBPtK64UEhJSOzExsRyJ7BTBaEqYo2dPx44du3711Vd/9u3b9zbNpQhiSi0eNGjQ+datWydv2bKl+q5du7zojwammniYWmPhwoXc9u3bPceNG3fKxcXlVVhYWG2KLhbFPwhzlj9zWBEEQAAEQAAEQAAEQAAEQAAErJFAvoQ5wxpzK1eudIuMjKy6du3aiB49erSnSBLjCz516lS4cefUnIS5w4cPV1qwYIFPcnJyGUpxJZFs9uzZRxo2bGhSmCtRooR28uTJ9U+cOFGdxor7U8F2Eua2bdumECOUTp069c6YMWPaRkdH/56TYyhV9aeffqqflpZmt3fv3n25CXPh4eGeO3bs+ENc87PPPmvVsGHDe/7+/n+RMBcVFbWZOr3S93TtxntXqVLlb1Mv53m9eSDM5ZVcwc6jiKldu3a5b9269ZC4EzULaNq06d3Bgwcn+Pv7dwoICFANGjQokQReEuaya3BS3Jo/GHqGavUFBwc3ePDggROlhRp77fz582UDAwM7LViw4FDLli0fid9Tw4c+ffp89Ouvv+6ldPbshDkx1XXfvn17xIi7L774osWlS5feExtB0Jpt27b1DwwMvNC7d++/jG0wtQalx1MKqyjk0c/0hwdqrFOtWrVXEOYK9vxhdRAAARAAARAAARAAARAAARCwFgIFIsxR9NyjR49KLFiw4FxuF2oszNWtW/fByJEjXzd/6NChQ9fmzZvfHDlyZBwVRff19e05derU49kJc/v373deunSp96JFi45QdNvSpUtrRkREVKP6b+YKc1evXi0dHR1dkWrZibZT9NLkyZPbnD17dtPq1aur79+/v4YoqFDk3bJlyxqIqawUMWco9vn5+XUeOHDg5caNGz82FuY+/vjjdl27do3v37//66YaBfGBMFcQVPO/5vHjxyt89913rQ8ePLhdLpdrKTWzQ4cO/hRB5eHh8ZzqHJraJavJwAlj8ae4CXPz589X9ujR45YoYBHLUaNGtY+Ojg6PiYkpe+PGjVL9+vV7c6aouYOXl9fDCRMmXBOZUi3KhQsX+ppiLEa+kXDWpUsXP6pt+eWXXyaKY4OCgupRpJ1hB9WOHTt2GTBgwGUxqk4cm90aVI/S0dFRK6a/Pn/+XNamTZteptKVkcqa//OGFUAABEAABEAABEAABEAABEDAWgkUiDBHkW7jx4//gNJOfX19Hy9ZssT9ypUrlcS6bIYwDIW5UaNGNXr58qXdDz/8cIaEuFatWnX39/eP++abb9SrV692W7FiRcOcIuZ27Njhsnr16vrh4eH7qGbb8OHDWzk5OWW8jTB369atEgEBAd2GDRt2+pNPPrlFnRWDgoJ8njx5UnLz5s2HqfD8d99998GiRYsOKBSKlJEjR/o+ePCglGGNuY8//vhSYGBg/ObNm6tSXTxKX6XmDsbCHKXbnThxggSCSOp0O3Xq1Prvvffei/Hjx8eSkJiamiqjiKnt27e7JCcnlxgyZEgCFY2Pj48vI4qXud1YEOZyI1R43z969Mh+3rx5tYYNGxZLTVICAgI6+vj43Bk/fvy1RYsWcQcOHHDftWvXHkdHR51arZaLlul0OnbAgAF+06dPP9q8efPHlNpqaHVxE+aoe7O9vb12xowZ5ykCd8qUKQ1u3rxZjlLWqdvpkCFDOlJX1g8++OBBdHR0eRJAJ02adIIaQvz+++/v1a5d++933303ndJhRY4xMTHvLFmypOHKlSsPUE1J6vJMZ5CE/oMHD+40bFwjRuGFhIQc69ix430S65csWdKYot2o/qXoY4qGy24NqjEYHh7utXjx4qNVq1Z9NXPmzFpRUVHVTaXWQ5grvDOKnUAABEAABEAABEAABEAABECgsAmYLcx16dIlwbBOE3VlNU5lPX78+Pu//fZbJF3Ejz/+yIWHh9emlNLy5cunTJkyJbpZs2aPjS/QUJg7cuRIxdDQ0CYkYv3xxx97KAXsp59+akpzvL29b/M8X4kaJWQXMUfRKUOHDm15/fr1ipT6Wr9+/buPHz8u+TbCHO21YcOGqmFhYY3EdFhKLw0NDT3h6en5Qr+Hb0xMTFUa26RJk5vx8fEVRGGOUllLly796tq1a1Xkcnna4MGDL1D0zu3bt0sYC3O0FomR0dHRbrQWFYBfsGDBycqVK6dTgXkSKUnMHDt2rM+dO3fK0HVQQ4zLly87G6bL5nTTQJgr7COV/X5iU5SsSK2DLVq0eBwVFVV+2rRpvo8fP5aXKVMmdcKECafat2//wHgFMZUVzR/+IUNniRrFxMfHV6Kfq1at+mT27NknxSYtP//8s/u6devq0vml54C/v38sid103ho3btznp59+Omj8LDKVytq1a9dOHTp0uG6qU/KSJUtqrly5siHtT3uMGjXqdK9eve4Y+zi7NShCcvz48T5RUVE1aA3y/9y5cyO9vb3/NvY/hDnrOcOwBARAAARAAARAAARAAARAAAQsTcAsYS4/m1KUEEUHvc0a9AIt1nOi/1PUGkWUmbsGNYqgqCLjLozmzqdxJIYkJiaWpMg9iq4xnku1rezs7ATDSBrDdFmygeZS5E1u+9JLemZmJkspjdmNJXvEtQz/n9vaEOZyI1S435vyHd1nbm5uqXm1pLhFzImc6AxSV1PDpi+GDCkijs6ueG54npd//vnnHY8fP741P88GcY/U1FTpX3/9VaJmzZovDc/525xPalLz5MkTajCTrf8hzOX1ZGAeCIAACIAACIAACIAACIAACFg/gQIX5qwfgeUsNK5jZ7mV874ShLm8s7OVmcVVmHtb/1Aa+M6dO2uInaTfdn5RjYcwV1TksS8IgAAIgAAIgAAIgAAIgAAIFDwBCHMWZEwRNPTvbSMELWjCfy0FYa4g6VrH2hDmzPMDRd5SdKo1nU9zLIcwZw4ljAEBEAABEAABEAABEAABEAAB2yQAYc42/Wa21RDmzEZlswMhzNms68wyHMKcWZgwCARAAARAAARAAARAAARAAARskgCEOZt0m/lGQ5gzn5WtjoQwZ6ueM89uCHPmccIoEAABEAABEAABEAABEAABELBFAhDmbNFrb2EzhLm3gGWjQyHM2ajjzDQbwpyZoDAMBEAABP6vvTuBjqLK+zBc1Z0FsVEYQAgB5IOkqwlBRiM7KI6sIjKiDoOKwiigoAzGUUQREBwQkcUBBRkFRjYRF3ZZXEAQFxaVza4OMKDsmwghJKTT9eWf6WLaniQk0Ku8OYdzku6qe289t6rP6R93QQABBBBAAAEEEIhCAYK5KOy00jSZYK40WtF5LMFcdPZbSVtNMFdSKY5DAAEEEEAAAQQQQAABBKJPgGAu+vqsVC0mmCsVV1QeTDAXld1W4kYTzJWYigMRQAABBBBAAAEEEEAAgagTOB/MRV3LaXCJBHRdN+RATdPo6xKJRd9B0sf0b/T1W0lbTP+WVIrjEEAAAQQQQAABBBBAAIHoEyCsib4+K1WLCeZKxRWVBxPcRGW3lbjR9G+JqTgQAQQQQAABBBBAAAEEEIg6AYK5qOuy0jWYYK50XtF4NMFNNPZaydtM/5bciiMRQAABBBBAAAEEEEAAgWgTIJiLth4rZXsJ5koJFoWHE9xEYaeVosn0bymwOBQBBBBAAAEEEEAAAQQQiDIBgrko67DSNpdgrrRi0Xc8wU309VlpWkz/lkaLYxFAAAEEEEAAAQQQQACB6BIgmIuu/ip1awnmSk0WdScQ3ERdl5WqwfRvqbg4GAEEEEAAAQQQQAABBBCIKgGCuajqrtI3lmCu9GbRdgbBTbT1WOnaS/+WzoujEUAAAQQQQAABBBBAAIFoErjoYE7TNM3j8VgyMjJ+iKYLNtuakpJSNTc3NzUjI+Nj399DcS2apl2nqqrhdDq3Brs+grlgC196+ampqVW2bdt2+GJLulyDm6SkpKuqV6+etXr1are/XVpaWtmcnJxyJXBVNU1LsFqtx3bs2HGuNH1QXP2+5djt9koej+fczp07T5WmfPPYy7V/L8aKcxBAAAEEEEAAAQQQQACBaBMoMphzOBzPGobx98IuyDCM6oqi9LNYLGWcTmf6pVy0pmmGqqrX+YZUdrv9VlVVZ+i6XuNSyi7uXIfD0cMwjBFSh+/vgajPbrc3UlX1a5+y9hmGMdPlcj2vKEqepmlvq6qa7XQ6eweivuLKIJgLtvDFl+9wOJoZhjFdURS7oii7FUXppev6p74lpqWlxWZmZn6hKEpDj8dTJyMjQ4771c/lFtx4g+25hmGkCIRhGP/Kysp6dN++fWdr1apVJj4+/i1FUe6V91RV3aEoSken07nH383hcLQyDGOR9/VyiqI8o+v66Lp16zbxeDxf+h9vGEa6y+UaX1z9vufUqVOnRkxMzAJFUZIVRZHy37XZbD03bdqUZbfbE1VV3ed7vGEYq1wuV9vLvX8v/oniTAQQQAABBBBAAAEEEEAg+gSKDOaqV69+RYUKFcrIJZ07d26FYRgz4uPj58rfW7du/cVut78YqGBOUZQGuq5vMfmSk5NbWyyW6cEM5rx1WRRF8RTy+yX1ZHJycmOLxfJVbm5u+bi4uJj8L9zNFUX5p6Ioo3RdnyB5gbcC45IqKsHJBHMlQArDITKiKzMzU0ZMTk1ISBh74MCBPqqqDomLi3Ns3br1Z7NJDodjkGEYHRVFaZ6Xl5e0c+fOXZd7cKNp2vcScum6/lJqamql3NzcjYqiDNJ1fZamaY8qivJwXl7eLTKa7uDBg+8ZhnHS5XL18HOzapr2s6qqfZxO51wzTI+JiUmuXLnynuPHj0uQVvBz7ty5KxRFcXo8ni4ywra4+n3r0DTtXUVRjuu63i8pKami1WrdrKrq806nc0ZSUtL1Vqv1nbi4uCbmOXl5ebk7duzIvNz7NwyPI1UigAACCCCAAAIIIIAAAmETKNFUVk3T1hmG8YbL5ZppttRut49UVVVGzlVSFKWDqqpLs7Oz79+zZ89JOUbTtDsURRmsKIojf8TIbKvV+tfCporJiLnigrlWrVrFHDp0aIRhGH/x1j0nISHhqf3797eyWCzpuq7f5q1vtqIoW2TEixl6WCyWFrm5uVUtFsvrqqrKF+DNhmE86nK5vnE4HG0Nw+ir6/offX8vqj6ZLqdp2nBFUeIURWmsKEpa/vW/aRjGUF3XT/v2oDeYW6Xr+lXm65qmjVZVtZ7T6bxd0zQZOZet6/oYGT2nKMotvudbrdb2brf7ZlVVB/m+7vulvrBrKuwuIpgL27NVbMV2u72FqqrLbDZbxU2bNuUqiiJB0R6Px/NIRkbGUjm5Xr16SW63OyMvL6+e1WrdTjCnKPJ8Hjhw4PZy5cqtlJFn4mS321fK54+u66/a7fY/qqp6yhx56HA4+ng8nh4ul6upb4fUr1+/Qk5OzuPVqlUbaU6F1TTtlKqqdzudzpV+AZuEfT11XW90ofp9z7Pb7U94PJ5FZpiqadq8/JF8Ll3Xn/d+5sjnV3sps7DpuGZZl9uIyMh8YmkVAggggAACCCCAAAIIIBAcgUsN5mQ0z58tFsthCe5UVX3H6XQOTUlJqZeXl7dNVdWeHo9nh6qqkxVF+VjX9YH+l+GdytrTMIwM8z3DMBqrqvqEd5ppJ8MwXjcMo5uqqrGKoixUVbVHbm7uupiYmMN5eXlXZ2dn51555ZXyJX2DfHn2ThGcJ+drmvaNoigyPXCOYRi9VFVtq+u65v0C/6wc7/u7w+EotD6n0/mBpmmvKYrSV1GUzh6PJ0tG9RmG8TeXyyVfuM//FBHMzTMMI8vlcvV0OBzjPB5PtsvlejYpKam61Wq9Uk42DOMBCQZsNtv12dnZZdxud2Xv6yn5030/kIBm586dO4q6JoK54DwkwSjVO336YV3XW5jla5q2SFXVVU6nc6K8Jn8bhrHN5XINzg9z8wjm/tsTderUuSYmJiZVVdWbvaF9Y13XD/j1lUXTtE8URVmr6/qQ4vpR07Q/KIryiaqqlZxO53Hz2JSUlLi8vLyfDMPo43K5ZFpqwU8J6z9fZVJSUmWr1brLZ9Td/Yqi9M8fRRuvKMp18hllsVj+8sMPP+z1byfBXDCeQMpEAAEEEEAAAQQQQAABBCJD4FKDuSRd1/8kl2K324eoqnqDjEDTNG2gqqotLRbLn+U9t9vdRlXVKbquV/G/bO+IORlxdtbnPZk69ovfVFZr/fr1r8rJyVnmHR3zondK2YD8KYAyHfUpwzBuiouLuzY3N/cvhmFI22SkS8GPTM0tW7bsjaqqfp6QkBAro25UVf2fYM6nDYXVJ8FcvK7rD8txDodjrGEYV5t/m+eaU1lVVb3L4/HEShioKMpfVFVtJ6NxfIM58xzZTEOCxfwAs4XvtF5pt81m22gYxrh8D1k76/yP/zUVNuqGEXOR8aAVct/LM9LY6XR28bkH3sof0XlY4wU80wAAIABJREFUAlvvdG4ZBSr38RmCuV8LaprWXlVVef5SDMMYpqqqPB+/Grnq/Ux6MCcnJ80cyVvY3aBpWrX8sP1bwzCGu1wuecbP/3gDVJkmW9dn2ruEphes3yzEO8pOPrdkJN/d3s/LJ/LXmXxGVdXubrd7n9VqldG4ybquN/BvI8FcZD7DtAoBBBBAAAEEEEAAAQQQCITAJQVzvmvMaZomU03vlqmldrv9S+/U0V+10WazxXmn7Z1//UJTWb2LpMv6bB3Mk1RVfcHpdA7TNO0l+bIr4ZeiKMck6MifLjrfMIyHZPqsruvz7XZ7P1m7S1GUa8zzpR2nT5/uWFgwd4H6Xsuf/nrE5XK94PPl+kZd1+/zvVAzmDMM4yt5XVXVH1VVnel0OpfI3/7BnHfBetksYrKu61N8y7Lb7RNVVb1G1/Wu5utFXZO/rRxPMBeIxyTwZWiadp9hGI/5TrHUNG1Z/hTpxQkJCf88dOiQrKM2RtYjUxRFRn7lyfpn27dv30lw818B78i1jxRFkRGyL/s8I39WVXVqXl5eExllWlQPpqSk2PLXo1ujquom/81YJFA7ePCgnj+YVaarzyqsjKLq9z1W0zQZMdzMarU2N9eQczgcFWNiYmLMXWNl51ZVVY/Kxjoul2u/7/kEc4F//igRAQQQQAABBBBAAAEEEIgUgWAFcxKEJbpcrj4XutALBXPe6aP/Z7FYHvrhhx8OOhwO2Y1xh67rI2TUinc62FUej0emqcqIuBtlPajY2Njk3Nxca/5Ol/tVVb2jatWqH+3bt88ua3UVF8xdoL7SBHO/WmPO18E/mJO/FUWplb8z7V0yo9UnXLhTVdV/5OTk1PdZu09G9xR6TQRzF7rbIud9786fK202W1VZK82cMikjqKxWq9Ptdv/PlEZpvYzClGnVl2twk5qaWiU3N/dBXddfMUewaZr2tAT3uq4XrNWoaZpstrJOVdVbnE7n6qJ63Ru8vaeqasyVV155p//zY7fbJdwbY7PZapvvlaR+v2f9b4Zh/FXWpfSdapucnNzRYrFk6br+mRzvDQhlxF9tXdf/fbn2b+Q8obQEAQQQQAABBBBAAAEEEAiNQFCCueTk5JssFssaj8dzc25u7jdlypR5TKaZ6rouG0L86qcEwZxM37zaZrM9cObMmd8bhvFF/hfyId5gTnZOlNElMu21ZlJSUqLVav3JuwlEg+Tk5NoWi2WXxWJpmr922za32y2jz3pcIJgrrr6AB3MOh+N2wzDecrvd9WvUqHFCcGRKar169Wq63e5tEjgkJCTIaDp5PS85OVlCykKviWAuNA/NxdZSq1at8vHx8UNjY2Nf8ng8P3s8nm89Hs+CrKysF2022wDZjMRms2nlypU7d/To0VpmPW63WwJmp2EYrcuUKfPVli1bzlyuwY03wDwmnwF5eXkyEk3WbltoGMZyl8v1XN26dZM9Ho9LVdWn3G73O+JksVgMGYUm4Zfb7ZYp7LJRxGlN08YrijLA4/HIdNiCabBWq1U+S+R32YxD1scc53Q63zC9L1S/TJ+1Wq0rf/jhh68cDkcXwzDe93g8bfLX4nR62yJrSx7zTpF9XlXVWy0WywG32z1UVdUHCtuJmhFzF/vEcR4CCCCAAAIIIIAAAgggEPkCJQ7mFEWRNeLOT+eSXVn9prL29I7muV0uW9M0GSUyQlEUCc92y+YNshvqRQRzsjC67FIpO8C6FEWR0SRfSDDnredz706HBeu+aZomU88WmBtNeKeCPuat93XZvOECwVyR9cloOt+prJqmDchvW8MiprKWaMScd0fJNr4uhmE0slgsrQ3DGOn3+pMul2tcUddEMBfZD1xSUlKKjNj0eDxNMjIyvvZOeZ4jo6QURdmnqur9TqdzTSFXISGRm80f/iPj3dxFdogWN/mZY7PZesnIQ58NWn7FqOu66j3vC6vVGp+Xlye7Sf9qyqickB/QFTxjmqZ1VhRl6pkzZ2rt27fPd/3L4urP0TTtgGEYL7lcrvGapu3yaWNBeyQUlJ2ZvQGffB7JtHv5kf6/LX/U7Fb//ieYi+znmtYhgAACCCCAAAIIIIAAApciUKJg7hIqUGvVqnV1cQuvl7RsGW20Z8+eX3ynepb0XNkkoeCbr98X7OLOv5T6StquSzmupNfEGnOXohyUc2X0W55vyXXq1Kmxa9eufRdzb0s5l2twU79+/Qpnz57N2rlzZ05Jesput3eX/zyQDWpKcvyFjimi/v/p3+LK0TStnNvtLr9r1y4Z6Vvoz+Xavxfy530EEEAAAQQQQAABBBBA4LcgEOxg7rdgFNXXQDAX1d1XosYT3JSISUbTyijb/f4brJTs7PAdRf+Gz56aEUAAAQQQQAABBBBAAIFgCxDMBVs4zOUTzIW5A0JQPcFNyZBl59Ny5cplyZTXkp0RGUfRv5HRD7QCAQQQQAABBBBAAAEEEAiGAMFcMFQjqEyCuQjqjCA1heAmSLARUiz9GyEdQTMQQAABBBBAAAEEEEAAgSAIEMwFATWSiiSYi6TeCE5bCG6C4xoppdK/kdITtAMBBBBAAAEEEEAAAQQQCLwAwVzgTSOqRIK5iOqOoDSG4CYorBFTKP0bMV1BQxBAAAEEEEAAAQQQQACBgAsQzAWcNLIKJJiLrP4IRmsIboKhGjll0r+R0xe0BAEEEEAAAQQQQAABBBAItADBXKBFI6w8grkI65AgNIfgJgioEVQk/RtBnUFTEEAAAQQQQAABBBBAAIEAC5wP5jIzM+cEuGyKiwCB/fv3d5NmJCYmzo2A5tCEIAhIH9O/QYCNkCKlfzVN4z9RIqQ/aAYCCCCAAAIIIIAAAgggEEgBgrlAakZgWQRzEdgpAW4SwVyAQSOsOIK5COsQmoMAAggggAACCCCAAAIIBFCAYC6AmJFYFMFcJPZKYNtEMBdYz0grjWAu0nqE9iCAAAIIIIAAAggggAACgRMgmAucZUSWRDAXkd0S0EYRzAWUM+IKI5iLuC6hQQgggAACCCCAAAIIIIBAwAQI5gJGGZkFEcxFZr8EslUEc4HUjLyyCOYir09oEQIIIIAAAggggAACCCAQKAGCuUBJRmg5BHMR2jEBbBbBXAAxI7AogrkI7BSahAACCCCAAAIIIIAAAggESIBgLkCQkVoMwVyk9kzg2kUwFzjLSCyJYC4Se4U2IYAAAggggAACCCCAAAKBEbjoYG7btm1XeTwe5brrrjsVmKaEvpScnBzL4cOH42vWrHnWt/bfwrWZ10MwF/r7qrQ17t+/v0xiYmJ2ac/z7ePExMS5F3t+tJ537NixuEqVKp0rrP3yXMfFxXkqVKiQW9z1ud1uVfyrV6+ebbVaDf9jT506FXP27FlrlSpVcoLhJPUfP348rrjyCeaCIU+ZCCCAAAIIIIAAAggggEBkCBQZzL300kv15s+ff11hzfzggw8WTJs2zX7u3DnrqFGjNl/KpaSlpXXzP/+ll176pE2bNkcupdzizpUv7QMHDmy8devWRDkuPj4+99FHH93QvXv3vfL30KFDGwTi2oLV/tKUSzBXGq3QHrtmzZpKo0aNanL06NFyFStWzHzyySe/adeu3WHfVpw7d87StWvXNj/++OPv5syZs1jTtEz/Vl5uI+bmzp1bc+LEiY1ycnJi5dm9++67t6WnpzvFZffu3WXT09NvOnLkiE3eT0tL+3HcuHFf2Wy2PH+3cePGOWbPnn29lCHvDR48eN1tt912SH4/efJkbP/+/Ztt3769mvxdu3bto2PHjv1CQvy9e/de0aVLlz/6lqdp2qE5c+Z85vta9+7dW+3YsSPBv95NmzYVhKhTpkxJevvtt38v7axVq9ax8ePHr/P/TwI5jmAutM8ltSGAAAIIIIAAAggggAACoRQoMpjLysqyyj9pTK9evW5p3br17q5duxYEVzIKZfjw4dcFIrySYO7ll1/+uEGDBr+YF16+fPncmJiY/xm9EggYGSXXvXv3P8TFxbmHDh26oXbt2lkffvhh4qhRo1qagSDBXCCkKaM4gczMTGuXLl1ua9269a709PQf3njjjaR333039f3331/qOwps9OjRKRs3bqy2e/fuygRzinLgwIEynTp1unPkyJGfSoi5du3aigMGDGhr2vTu3bu5zWY7N2bMmI1Hjx6Nu/fee9vfd999Wx966KHdvv2xadOm8r179+4wffr0pTLqV0K6hQsX1l2zZs2Hclz//v0bnzp1Kn706NFflytXzt2vX79mUu7EiRO//uabbyoMGTKk+axZs1aaZcrovKuuusrtW8fp06dj5PPGfO2f//xn8ubNmxPmz5//sVn/6NGjP2nWrNnxp556qtHp06fj3n777TX+9w3BHJ8lCCCAAAIIIIAAAggggMBvV6BEU1nvueee1h07dtzZo0ePPSaFhFfHjh0rK19eZVRIvXr1DowbN+5LM1R4//33E2fNmpV6+PDhck2aNNk7atSoTfHx8R5/Sgnm3njjjY9uvPHGk/7vzZ8/v/qcOXPqSRmpqakHhw0btqlatWrZs2fPvnbDhg1VJkyY8I2cIyOPJk+e3OCdd975ZOHChdUWLFhQJz4+Pm/Dhg3Xrlix4n3foGP9+vW/e/zxx9stXbr0g6pVq56fnvbqq69qsbGxnr59+2Zc6NpkNOGnn35a22KxGB07dnQ9/vjjLmmHTHsbPHhw2saNG2skJiae7Nmz5zZzBI4ECGPHjm34008/VUhOTj4yZMiQb1JSUk7LeUWVF4jbjhFzgVAMfBmfffZZ5eeee+7m1atXfyChTl5entqmTZs7/vrXv27o3LnzAalxx44d5bp37377W2+9teyhhx66jWCuYPRYme+++658x44dC0a2SfDVrFmzrq+99tryJk2a/DxhwgStQ4cO+82RhRLUJSYmnh46dOgW316UcG3Lli0VHn744YLA7rvvvrtajFevXj1f+kPKnDlz5hIpxzAMxePxqNnZ2RYJ35YuXVp17ty5jlmzZq2Wqagl+U8E+U+ODh063JGenv619K8887t37y4/derUL6R+Xddt9957byf/zyt5j2Au8M8fJSKAAAIIIIAAAggggAACkSJwScHckiVLUp588skvKleunD127NhGzZo12ztkyJCt5pfcvn37fu1wOH4ZM2ZMw/r16x8aMWLEd4UFcxMmTFh5/fXXFwRzFotFKVu2bN7GjRvL9+nTp0Pv3r2/adCgwYkpU6bUz87OjpXwberUqXXWr1+fOGPGjM/lnBUrVlSR+leuXLlYprm98sorzTt37rytTZs2+xs2bPiz7xfnN998s/aSJUvsCxYsWF5UJ0gwV9S1yfkzZ85sMHjw4C+ys7NlKm/zgQMHrpcv2/369Wt64sSJK/r37//dxo0bK82dO/e6uXPnLr322mvPtm3bttOtt966q0uXLnsnT56ckpmZGSdfyosrLxA3CcFcIBQDX8Zbb71Ve/ny5bVl9JRZeo8ePW5KS0s7ZAa98ve11177y5AhQ7Y0atTozwRz/+0HCS137dplW7x4ce2zZ8/GTp8+fY1/QHbo0KH4Ll26dPKdolpUT7744oup3377bcL777+/StaY7N27d9u77rpr25w5c66Xc1q2bLlr9OjRG+U/F/71r3/VWrBggeZ2uy0HDhwob7fbDw8fPvzr5OTkM0WVL59Zixcvti9evPgjOebxxx9vXKVKlTODBw/eZp4j/0kxefLk5Y0aNfrZtxyCucA/f5SIAAIIIIAAAggggAACCESKwCUFcwcPHrSZIz7+/ve/p+7cubPC9OnT17788ssp27Ztqzxp0qSC0SArVqyoOmnSpIbmNDHfi/dfY07We1q/fv17Y8aMqZuRkfE7s/wff/zxijvvvPOPy5Yt+2DhwoXViwvmpk+f3kBCusKQ5Qv47t27K0ybNm1tccFcUdfWrVu3PzRs2PDAww8/vFPOHzVq1HXZ2dkxY8aM2dC4ceM//+Mf/1hZv379gmm53bp1a3vvvfduv++++/Y2a9bs7nbt2rn69evn9B3BV1R548ePLxgNeKk/BHOXKhic8+UZcTqdFX3vQ5k+WaFChewXXnjh+2XLllUdPXp004ULFy6RqZQEc7/uh1GjRtVbtWpV0i+//FK2f//+Xz744IPnR/PKkTKS7YEHHmhVtmzZ3DfffHNdcb340UcfVRk8ePAfJk2atKJp06YnxP7555+/RdZ9GzRo0IasrKyYYcOGNW/RosWe4cOHfy+j8j788MOUp59++svExMSzkyZNqi+jes3Qzb8uWSewffv2nXr16vVtt27dfpT377///lZNmzbd369fvwzz+JtvvvnOv/3tb1916tTpoG8ZBHPBeQYpFQEEEEAAAQQQQAABBBCIBIFLCuZ815iTkV9r1qypOXPmzNV33XVXmz179lTyv8Avv/xynkwT831dgrkRI0Z8lpqaWhBmyc6IskOljCipXLlylozAM4+XY8ePH7/K6XReXVww98EHH9h9RyL51iejXd59992UpUuXLiuqA/zXmPO9tsI2q6hWrdrJV155Za1MRfMvs2vXrt8//fTTOxYvXpzw2muvpclC/7JQ/IABA76TkTFFlVfUl/zS3jQEc6UVC83xch8uWrQoWUZomTXKZgES1vTu3Xtn586dO3Tp0sUpa6PJNFcJ5mRqpTn92T+4uRx3ZRUDc2StfC7cdNNNx0yX9PT0hhkZGZVmz569yn/tN1+7LVu2XPXII4+07dOnz0Yz3JNpro8++mh73zKlv+bOnZu6fPnyJbJ5jAR/5k668vdtt93WRTbFkdGx/neQnDt79uz6y5YtW2KO6nviiScalS9fPtucYmv28dSpUz9KS0v71bR+grnQPJPUggACCCCAAAIIIIAAAgiEQyAowZyMnjt27NgV48eP33ChiypqjTkpQ0atTZo06Ssp49ixY3Ht2rW768MPP1ywcuXKhI8++qiOGWrIenZvvPHGDeZU1uKCOfNLt/+0QJlqJqGgBCHFBXN/+tOfWnfq1CnD3MHVvD5ZQ6ply5Z/mj9//kLZUKKo65YpeK+++mr9vXv3/k6+5BdV3oXcSvo+wVxJpUJ73Oeff17pmWeeabVy5coPZcdQWSutbdu2nWUUVt26dU/dc889nQtr0dNPP72ua9euP12uwZysEfnvf/+7nIxCNQ1k9Fm9evWODho0aLu8NnbsWMfSpUu1GTNmrCxsl1PzPFmvrnv37u3at2+fIeG5+br5WeM7rfSdd96pMW3atN/LZ4ysY1mmTJk8cwddWVvylltuuaewqcYS4N1+++0d77777h3menZSj4wI/v7776vIOnXy9+bNm6/u1atXwRp3MkLSv381TTv/WR3aO5XaEEAAAQQQQAABBBBAAAEEgikQlGDu448/vmbgwIG3mjsOTp48OXnr1q3XmGvC+V5QUcHcJ598Ujk/hGgtuy82atTohEwZ3bJlS4KEWatWrbrmmWeeuXXixIkr7HZ75oABA5odOXKkXEmCORmZ0rNnz5vOnDkT9+yzz25ITU09tWjRomr5O7K2HD58+GeyqHxxwZxMoVu3bt21EyZMWCO7077wwgvXV69e/fTAgQN3yLTUihUrZg0bNmzzkSNH4ocOHdpYNoBo2rTp8QceeKB13759N3fo0OHwxIkT7cuXL0+SUXvFlefrJGHB2LFjUx977LEdMgJo5MiR1/Xp08eZkJCQPWzYsN/36NHDZS547/+lXv6+XEdUBfPhKW3Zvn0o05m7dOnS/sYbb9w3cODA7RMnTtRWrFiRvGjRoiVlypTxuFwum1m+bDzw4IMPdnzxxRc/bdGixfHCgpvLpX/NYF0+F2699dYj69evrygB53PPPbdOnt158+bVyN/luYWMwk1JSTklhldccUVelSpVcmSDhS1btpS/55579smuuF27dm0nG76MGzfuc1nbUn7keZJ15GTTiNzcXMv48eO/OnPmjLVfv36t7Hb70ZdffnmTrA84b968eq+99tqnEvyNHDkyde3atf/36aefLpQRfIsWLbpWprxKebLm5ZQpU9JWrly50HfzG3Ozh/wptJ+3atXqSHp6ehPZsGbKlCnr/e8rRsyV9knjeAQQQAABBBBAAAEEEEAgegRKHMzdfvvtO33XcSosvPr8889rvP3222vk8mWX03nz5tXPycmJrVixYubQoUPXN2/e/Lg/TXG7skqA9d5779XLzMwsU6NGjZ9Hjhz5hUzlk1Eoffv2bbZp06aaUl6TJk32yLS1kgRzcrwEJOnp6U23b99ezWxPr169NjzyyCMF68YVd21St0xDW79+fW05VhZ+Hz9+/Beyw6usg/fkk0823717d2V5r3Xr1q6RI0dulpF4si7VzJkzb5DXr7766qxnn332y9atWx8prjxfK3NDDdko45prrsmRabMSTsgU4DvuuOPOIUOGrDF38/Q9jxFzkfMw+vZhy5Ytj8tOvSNGjGh2/Phxm9wTgwYN+rJNmzZH/FtsTnNk84f/yLz++uvJs2bNaiCfLbImZefOnXdIMC7vySYr4ulrKDtGy+eSufal/G5uEuNvLWF/s2bNTuzdu/eK9PT0FuaU/JSUlIOvv/76OglFZXTjwIEDb1y7dm0d83keM2bMGpmCKtPep02bJqN3C0ZCdurUqUPbtm13mRt6+NYno3RnzJhxvVxHzZo1T0yaNGmNOT3W/xlmxFzkPMe0BAEEEEAAAQQQQAABBBAIpECJgrlLqVBCMN/NDi6mrNOnT8f4jxKScmTUS2xsrOE7EqU05cv5Bw8eLCNTTyU8K8258uU8NzdXlS/f/ucV1S4JWGTam4y08z+nuPLMY+V8s51F/e5fLsFcaXo1+Mf69ptZ2+7du8sWN/35Qq2SPr5cRsz5Whw4cKCMjIQr6bMrm2skJyf/XFhIVpSxBHRXXnllXmGfYSdPnow9ceJErH/fFdbHRZUvG0PI7rEXmHLbjWDuQk8B7yOAAAIIIIAAAggggAAC0SkQ9GAuOll+O60mmPvt9GVRV3K5BnOl7VnZlOa555775oYbbijYaCZafpjKGi09RTsRQAABBBBAAAEEEEAAgdILEMyV3iyqziCYi6ruuqjGEsyVjG3Pnj1la9WqVeTGLCUrJfRHEcyF3pwaEUAAAQQQQAABBBBAAIFQCRDMhUo6TPUQzIUJPoTVEsyFEDsMVRHMhQGdKhFAAAEEEEAAAQQQQACBEAkQzIUIOlzVEMyFSz509RLMhc46HDURzIVDnToRQAABBBBAAAEEEEAAgdAIEMyFxjlstRDMhY0+ZBUTzIWMOiwVEcyFhZ1KEUAAAQQQQAABBBBAAIGQCBDMhYQ5fJUQzIXPPlQ1E8yFSjo89RDMhcedWhFAAAEEEEAAAQQQQACBUAgQzIVCOYx1EMyFET9EVRPMhQg6TNUQzIUJnmoRQAABBBBAAAEEEEAAgRAInA/mQlAXVYRBQNd1Q6rVNI2+DoN/KKqUPqZ/QyEdnjro3/C4UysCCCCAAAIIIIAAAgggEAoBwppQKIexDoK5MOKHqGqCmxBBh6ka+jdM8FSLAAIIIIAAAggggAACCIRAgGAuBMjhrIJgLpz6oamb4CY0zuGqhf4Nlzz1IoAAAggggAACCCCAAALBFyCYC75xWGsgmAsrf0gqJ7gJCXPYKqF/w0ZPxQgggAACCCCAAAIIIIBA0AUI5oJOTAUIIIAAAggggAACCCCAAAIIIIAAAgj8rwDBHHcFAggggAACCCCAAAIIIIAAAggggAACYRAgmAsDOlUigAACCCCAAAIIIIAAAggggAACCCBAMMc9gAACCCCAAAIIIIAAAggggAACCCCAQBgECObCgE6VCCCAAAIIIIAAAggggAACCCCAAAIIEMxxDyCAAAIIIIAAAggggAACCCCAAAIIIBAGAYK5MKBTJQIIIIAAAggggAACCCCAAAIIIIAAAgRz3AMIIIAAAggggAACCCCAAAIIIIAAAgiEQYBgLgzoVIkAAggggAACCCCAAAIIIIAAAggggADBHPcAAggggAACCCCAAAIIIIAAAggggAACYRAgmAsDOlUigAACCCCAAAIIIIAAAggggAACCCBAMMc9gAACCCCAAAIIIIAAAggggAACCCCAQBgECObCgE6VCCCAAAIIIIAAAggggAACCCCAAAIIEMxxDyCAAAIIIIAAAggggAACCCCAAAIIIBAGAYK5MKBTJQIIIIAAAggggAACCCCAAAIIIIAAAgRz3AMIIIAAAggggAACCCCAAAIIIIAAAgiEQYBgLgzoVIkAAggggAACCCCAAAIIIIAAAggggADBHPcAAggggAACCCCAAAIIIIAAAggggAACYRAgmAsDOlUigAACCCCAAAIIIIAAAggggAACCCBAMMc9gAACCCCAAAIIIIAAAggggAACCCCAQBgECObCgE6VCCCAAAIIIIAAAggggAACCCCAAAIIEMxxDyCAAAIIIIAAAggggAACCCCAAAIIIBAGAYK5MKBTJQIIIIAAAggggAACCCCAAAIIIIAAAgRz3AMIIIAAAggggAACCCCAAAIIIIAAAgiEQYBgLgzoVIkAAggggAACCCCAAAIIIIAAAggggADBHPcAAggggAACCCCAAAIIIIAAAggggAACYRAgmAsDOlUigAACCCCAAAIIIIAAAggggAACCCBAMMc9gAACCCCAAAIIIIAAAggggAACCCCAQBgECObCgE6VCCCAAAIIIIAAAggggAACCCCAAAIIEMxxDyCAAAIIIIAAAggggAACCCCAAAIIIBAGAYK5MKBTJQIIIIAAAggggAACCCCAAAIIIIAAAgRz3AMIIIAAAggggAACCCCAAAIIIIAAAgiEQYBgLgzoVIkAAggggAACCCCAAAIIIIAAAggggADBHPcAAggggAACCCCAAAIIIIAAAggggAACYRAgmAsDOlUigAACCCCAAAIIIIAAAggggAAx+qLSAAAACUlEQVQCCCDw/xaexkuyORAAAAAAAElFTkSuQmCC\" />"
      ],
      "text/plain": [
       "Open the notebook in JupyterLab with the Atoti JupyterLab extension enabled to build this widget."
      ]
     },
     "metadata": {},
     "output_type": "display_data"
    }
   ],
   "source": [
    "# Calculate percent of total revenue by pizza item (correct)\n",
    "m[\"Percent of Total Revenue\"] = m[\"total_price.SUM\"] / atoti.total(\n",
    "    m[\"total_price.SUM\"], h[\"pizza_name\"]\n",
    ")\n",
    "session.widget"
   ]
  },
  {
   "cell_type": "markdown",
   "id": "16ffba49-7200-4659-8843-198b97a9860d",
   "metadata": {},
   "source": [
    "### What's our average order value?\n",
    "\n",
    "Lastly, let's calculate the average revenue per order. At first glance, this may be as simple as looking at `order_id` and the `total_price.MEAN` measure, but notice what this does. It calculates the average revenue down to the `pizza_id` level, which is not what we want! Instead, we want to see the average revenue per order at the `order_id` level. For this scenario, we need to calculate a new measure using the `atoti.agg.mean` function and specify the `scope` parameter using `OriginScope`. **To be clear, the `AVG Order Revenue` is the correct calculation, we've included the other columns just to show how `OriginScope` is functioning.**\n",
    "\n",
    "**💡 Note:** https://docs.atoti.io/latest/api/atoti.OriginScope.html#atoti.OriginScope"
   ]
  },
  {
   "cell_type": "code",
   "execution_count": 22,
   "id": "cb840c1b-5f88-4480-8755-6410ee16b71e",
   "metadata": {
    "atoti": {
     "widget": {
      "columnWidths": {
       "[Measures].[AVG Order Revenue]": 153.8125
      },
      "mapping": {
       "columns": [
        "ALL_MEASURES"
       ],
       "measures": [
        "[Measures].[total_price.MEAN]",
        "[Measures].[total_price.SUM]",
        "[Measures].[AVG Order Revenue]"
       ],
       "rows": [
        "[pizza_sales_table].[order_id].[order_id]",
        "[pizza_sales_table].[pizza_id].[pizza_id]"
       ]
      },
      "name": "Average Revenue per Order",
      "query": {
       "mdx": "SELECT NON EMPTY {[Measures].[total_price.MEAN], [Measures].[total_price.SUM], [Measures].[AVG Order Revenue]} ON COLUMNS, NON EMPTY Crossjoin(Hierarchize(Descendants({[pizza_sales_table].[order_id].[ALL].[AllMember]}, 1, SELF_AND_BEFORE)), Hierarchize(Descendants({[pizza_sales_table].[pizza_id].[ALL].[AllMember]}, 1, SELF_AND_BEFORE))) ON ROWS FROM [pizza_sales_table] CELL PROPERTIES VALUE, FORMATTED_VALUE, BACK_COLOR, FORE_COLOR, FONT_FLAGS",
       "updateMode": "once"
      },
      "serverKey": "default",
      "widgetKey": "pivot-table"
     }
    }
   },
   "outputs": [
    {
     "data": {
      "application/vnd.atoti.widget.v0+json": {
       "sessionId": "1707418878_BWV272",
       "sessionLocation": {
        "https": false,
        "port": 9092
       },
       "widgetCreationCode": "session.widget"
      },
      "text/html": [
       "<img height=\"352\" width=\"1254\" src=\"data:image/png;base64,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\" />"
      ],
      "text/plain": [
       "Open the notebook in JupyterLab with the Atoti JupyterLab extension enabled to build this widget."
      ]
     },
     "metadata": {},
     "output_type": "display_data"
    }
   ],
   "source": [
    "# Calculate average revenue per order\n",
    "m[\"AVG Order Revenue\"] = atoti.agg.mean(\n",
    "    m[\"total_price.SUM\"], scope=atoti.OriginScope(l[\"order_id\"])\n",
    ")\n",
    "session.widget"
   ]
  },
  {
   "cell_type": "markdown",
   "id": "46e9afec-2440-4b4a-a196-62792231b095",
   "metadata": {},
   "source": [
    "## Summary\n",
    "\n",
    "And that's it, here we were able to quickly analyze Plato Pizza's sales data and create visualizations, while customizing how we wanted these visualizations to look and how measures were calculated/aggregated. Can you think of some other ways to slice-and-dice this data to present as insightful findings? If so, feel free to extend this notebook and create a pull request to our GitHub repo!"
   ]
  }
 ],
 "metadata": {
  "kernelspec": {
   "display_name": "Python 3 (ipykernel)",
   "language": "python",
   "name": "python3"
  },
  "language_info": {
   "codemirror_mode": {
    "name": "ipython",
    "version": 3
   },
   "file_extension": ".py",
   "mimetype": "text/x-python",
   "name": "python",
   "nbconvert_exporter": "python",
   "pygments_lexer": "ipython3",
   "version": "3.10.13"
  }
 },
 "nbformat": 4,
 "nbformat_minor": 5
}
