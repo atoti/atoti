{
 "cells": [
  {
   "cell_type": "markdown",
   "id": "792925cb-e4fc-474e-b4a3-866cd1554b48",
   "metadata": {},
   "source": [
    "# Running Portfolio Optimization in Atoti\n",
    "\n",
    "Last tested version: <img src=\"https://img.shields.io/badge/Atoti-v0.9.8-blue\">\n",
    "\n",
    "In this notebook, we demonstrate how we can integrate the output from a portfolio optimizer into Atoti and perform benchmark comparisons.  \n",
    "\n",
    "We assume that we have received a portfolio with the initial weights for its stocks. Along with the portfolio, we have 3 years worth of data downloaded from [Yahoo Finance](https://finance.yahoo.com/) using [yfinance library](https://pypi.org/project/yfinance/). With iPyWidget, users are able to interactively select the portfolio they want to optimize and load the resultant weights back into Atoti for benchmarking purposes.\n",
    "We used the Python API [PyPortfolioOpt](https://pyportfolioopt.readthedocs.io/en/latest/index.html) to find the optimal weights for the portfolio stocks.\n",
    "\n",
    "We can interact with the notebook in two ways:\n",
    "\n",
    "1. <img src=\"https://img.shields.io/badge/-Atoti%20CE-%23291A40\" /> **Interactively optimize portfolio within the Jupyter Notebook using Atoti and [ipywidget](https://ipywidgets.readthedocs.io/en/stable/).**\n",
    "\n",
    "    ![https://data.atoti.io/notebooks/cvar-optimisation/img/cvar-jupyter-notebook-2.gif](https://data.atoti.io/notebooks/cvar-optimisation/img/cvar-jupyter-notebook-2.gif)\n",
    "\n",
    "\n",
    "2. <img src=\"https://img.shields.io/badge/🔒-Atoti-291A40\" /> **Integrated experience of optimizing the portfolio within Atoti web application. *This uses features not part of the Community Edition*.** \n",
    "\n",
    "    ![https://data.atoti.io/notebooks/cvar-optimisation/img/cvar-custom-activeui-2.gif](https://data.atoti.io/notebooks/cvar-optimisation/img/cvar-custom-activeui-2.gif)\n",
    "\n",
    "\n",
    "For option (2), we build a custom widget that allows us to call the Atoti Python endpoint from Atoti UI. This feature is not part of the Community Edition. If you want to see try Atoti Python SDK, you can [register online for an evaluation license](https://atoti.io/evaluation-license-request/) and check out how to [unlock all features of Atoti](https://docs.atoti.io/latest/how_tos/unlock_all_features.html)."
   ]
  },
  {
   "cell_type": "markdown",
   "id": "a54603d4-a8f7-437b-828e-b11efe7b2c58",
   "metadata": {},
   "source": [
    "<div style=\"text-align: center;\" ><a href=\"https://www.atoti.io/?utm_source=gallery&utm_content=cvar-optimizer\" target=\"_blank\" rel=\"noopener noreferrer\"><img src=\"https://data.atoti.io/notebooks/banners/Discover-Atoti-now.png\" alt=\"Try Atoti\"></a></div>"
   ]
  },
  {
   "cell_type": "code",
   "execution_count": 1,
   "id": "527cd1cf-f8f9-4cc0-a7df-c3b97e59105d",
   "metadata": {},
   "outputs": [],
   "source": [
    "# ! pip install yfinance ipywidgets PyPortfolioOpts"
   ]
  },
  {
   "cell_type": "code",
   "execution_count": 2,
   "id": "bbae0417-9ccb-4fd2-8dc3-e44b3ea11e12",
   "metadata": {},
   "outputs": [],
   "source": [
    "import datetime\n",
    "import datetime as dt\n",
    "import functools\n",
    "import io\n",
    "import os\n",
    "import sys\n",
    "import ipywidgets as widgets\n",
    "import numpy as np\n",
    "import pandas as pd\n",
    "import atoti as tt\n",
    "\n",
    "from IPython.display import display\n",
    "from utils import helper\n",
    "from utils import pyPortfoliOpt as optimizer\n",
    "from utils import tickers"
   ]
  },
  {
   "cell_type": "markdown",
   "id": "91e71539-bfd5-42df-8f0c-e37cd35840d7",
   "metadata": {},
   "source": [
    "## 0. Switching between Atoti and Atoti Community Edition \n",
    "\n",
    "<img src=\"https://img.shields.io/badge/-Atoti%20CE-%23291A40\" /> 🔛 <img src=\"https://img.shields.io/badge/🔒-Atoti-291A40\" />  \n",
    "\n",
    "Switch from Atoti Community Edition to Atoti Python SDK by updating the below variable to `True`. "
   ]
  },
  {
   "cell_type": "code",
   "execution_count": 3,
   "id": "4735c0f7-da71-4bba-9fd9-ada111b21206",
   "metadata": {},
   "outputs": [],
   "source": [
    "atoti_unlock = False"
   ]
  },
  {
   "cell_type": "markdown",
   "id": "faed9cb4-697a-418a-ae4a-4bdad81bf9d6",
   "metadata": {},
   "source": [
    "By setting the above variable to `True`, we can leverage features not available in the Community Edition to create customized widgets for Atoti UI. Conversely, setting the above variable to `False` will continue to use Atoti Community Edition where no additional licensing setup is required.\n",
    "\n",
    "💡 **Note:** Want to try Atoti Python SDK? You can [register online for an evaluation license](https://atoti.io/evaluation-license-request/) and check out how to [unlock all features of Atoti](https://docs.atoti.io/latest/how_tos/unlock_all_features.html). \n",
    "\n",
    "Below shows the configuration(s) required to register the custom widgets in this use case."
   ]
  },
  {
   "cell_type": "code",
   "execution_count": 4,
   "id": "0d3b46b2-05d2-4aed-96d4-7add4d7b3756",
   "metadata": {},
   "outputs": [],
   "source": [
    "ui_ext = (\n",
    "    {\n",
    "        \"optimizerwidget-extension\": \"./ui/packages/optimizerWidget/dist/\",\n",
    "        \"uploadwidget-extension\": \"./ui/packages/uploadWidget/dist/\",\n",
    "    }\n",
    "    if atoti_unlock\n",
    "    else {}\n",
    ")\n",
    "\n",
    "content = \"./content\" if atoti_unlock else \"./content-atoti-ce\""
   ]
  },
  {
   "cell_type": "markdown",
   "id": "c1bb63de-75f8-4219-9c1c-667cf7c08135",
   "metadata": {},
   "source": [
    "## 1. Data modeling for portfolio\n",
    "\n",
    "### 1.1 Create session\n",
    "\n",
    "Let's instantiate a session with persistent storage to save our dashboards."
   ]
  },
  {
   "cell_type": "code",
   "execution_count": 5,
   "id": "8efd0f1c-f2a0-415f-a827-9fd9136537cf",
   "metadata": {},
   "outputs": [],
   "source": [
    "session = tt.Session.start(\n",
    "    tt.SessionConfig(user_content_storage=content, port=12010, app_extensions=ui_ext)\n",
    ")"
   ]
  },
  {
   "cell_type": "markdown",
   "id": "e31a6025-3ae5-4aca-8a85-c8af3d9cbd60",
   "metadata": {},
   "source": [
    "### 1.2 Create tables\n",
    "\n",
    "In this use case, we create the structures of our tables before loading the data.  "
   ]
  },
  {
   "cell_type": "code",
   "execution_count": 6,
   "id": "eb21f9f8-8105-4a18-a3bd-92ca66186a0b",
   "metadata": {},
   "outputs": [],
   "source": [
    "portfolio_tbl = session.create_table(\n",
    "    name=\"Portfolios Allocation\",\n",
    "    data_types={\n",
    "        \"Portfolio\": tt.STRING,\n",
    "        \"Symbols\": tt.STRING,\n",
    "        \"Weights\": tt.DOUBLE,\n",
    "        \"Iteration\": tt.STRING,\n",
    "        \"Opt Method\": tt.STRING,\n",
    "    },\n",
    "    default_values={\"Iteration\": \"-\", \"Opt Method\": \"Base\"},\n",
    "    keys=[\"Portfolio\", \"Symbols\", \"Iteration\", \"Opt Method\"],\n",
    ")"
   ]
  },
  {
   "cell_type": "code",
   "execution_count": 7,
   "id": "f77c8549-6b2d-4885-9cab-8aa798d20e7e",
   "metadata": {},
   "outputs": [],
   "source": [
    "price_tbl = session.create_table(\n",
    "    name=\"Price\",\n",
    "    data_types={\n",
    "        \"Symbols\": tt.STRING,\n",
    "        \"Price_Vector\": tt.DOUBLE_ARRAY,\n",
    "        \"Daily_Returns_Vector\": tt.DOUBLE_ARRAY,\n",
    "        \"Daily_ROR_Vector\": tt.DOUBLE_ARRAY,\n",
    "        \"Monthly_ROR_Vector\": tt.DOUBLE_ARRAY,\n",
    "    },\n",
    "    keys=[\"Symbols\"],\n",
    ")"
   ]
  },
  {
   "cell_type": "code",
   "execution_count": 8,
   "id": "aee751be-51ca-4cfd-ae32-cd4106bd0ec0",
   "metadata": {},
   "outputs": [],
   "source": [
    "dates_tbl = session.create_table(\n",
    "    name=\"Historical Dates\",\n",
    "    data_types={\n",
    "        \"Historical Dates\": tt.LOCAL_DATE,\n",
    "        \"Date Index\": tt.INT,\n",
    "        \"Monthly Date Index\": tt.INT,\n",
    "    },\n",
    "    keys=[\"Historical Dates\"],\n",
    "    default_values={\"Date Index\": -1, \"Monthly Date Index\": -1},\n",
    ")"
   ]
  },
  {
   "cell_type": "markdown",
   "id": "7ba3beaa-e138-4f0e-b4e2-0d56b08bfccb",
   "metadata": {},
   "source": [
    "Alternatively, you could use functions such as [`atoti.read_csv`](https://docs.atoti.io/latest/api/atoti.Session.read_csv.html#atoti.Session.read_csv) or [`atoti.read_pandas`](https://docs.atoti.io/latest/api/atoti.Session.read_pandas.html#atoti.Session.read_pandas) to create and load data into table from a data source. For instance, we took a snapshot of the security description from wikipedia and load it into a reference table."
   ]
  },
  {
   "cell_type": "code",
   "execution_count": 9,
   "id": "30f8d4c3-569f-4612-98bd-0a073a1b7423",
   "metadata": {},
   "outputs": [
    {
     "data": {
      "text/html": [
       "<div>\n",
       "<style scoped>\n",
       "    .dataframe tbody tr th:only-of-type {\n",
       "        vertical-align: middle;\n",
       "    }\n",
       "\n",
       "    .dataframe tbody tr th {\n",
       "        vertical-align: top;\n",
       "    }\n",
       "\n",
       "    .dataframe thead th {\n",
       "        text-align: right;\n",
       "    }\n",
       "</style>\n",
       "<table border=\"1\" class=\"dataframe\">\n",
       "  <thead>\n",
       "    <tr style=\"text-align: right;\">\n",
       "      <th></th>\n",
       "      <th>Security</th>\n",
       "      <th>GICS Sector</th>\n",
       "      <th>GICS Sub-Industry</th>\n",
       "    </tr>\n",
       "    <tr>\n",
       "      <th>Symbols</th>\n",
       "      <th></th>\n",
       "      <th></th>\n",
       "      <th></th>\n",
       "    </tr>\n",
       "  </thead>\n",
       "  <tbody>\n",
       "    <tr>\n",
       "      <th>AFL</th>\n",
       "      <td>Aflac</td>\n",
       "      <td>Financials</td>\n",
       "      <td>Life &amp; Health Insurance</td>\n",
       "    </tr>\n",
       "    <tr>\n",
       "      <th>AMZN</th>\n",
       "      <td>Amazon</td>\n",
       "      <td>Consumer Discretionary</td>\n",
       "      <td>Internet &amp; Direct Marketing Retail</td>\n",
       "    </tr>\n",
       "    <tr>\n",
       "      <th>APH</th>\n",
       "      <td>Amphenol</td>\n",
       "      <td>Information Technology</td>\n",
       "      <td>Electronic Components</td>\n",
       "    </tr>\n",
       "  </tbody>\n",
       "</table>\n",
       "</div>"
      ],
      "text/plain": [
       "         Security             GICS Sector                   GICS Sub-Industry\n",
       "Symbols                                                                      \n",
       "AFL         Aflac              Financials             Life & Health Insurance\n",
       "AMZN       Amazon  Consumer Discretionary  Internet & Direct Marketing Retail\n",
       "APH      Amphenol  Information Technology               Electronic Components"
      ]
     },
     "execution_count": 9,
     "metadata": {},
     "output_type": "execute_result"
    }
   ],
   "source": [
    "stocks_tbl = session.read_csv(\n",
    "    \"s3://data.atoti.io/notebooks/cvar-optimisation/data/constituents.csv\",\n",
    "    table_name=\"Constituents\",\n",
    "    keys=[\"Symbols\"],\n",
    ")\n",
    "stocks_tbl.head(3)"
   ]
  },
  {
   "cell_type": "markdown",
   "id": "fccf4480-974c-4112-98e2-ba30ea426470",
   "metadata": {},
   "source": [
    "### 1.3 Join tables\n",
    "\n",
    "We enrich the data from the _Portfolios Allocation_ table by joining to some reference table. Atoti assume a join based on the common columns between the two table. Otherwise, we could explicitly define the conditions for the join. Refer to [Atoti documentation](https://docs.atoti.io/latest/index.html) for more examples on [join](https://docs.atoti.io/latest/getting_started/tutorial/tutorial.html#Join)."
   ]
  },
  {
   "cell_type": "code",
   "execution_count": 10,
   "id": "8e5acb8c-8540-4fe3-9f45-2fa4ed843512",
   "metadata": {},
   "outputs": [],
   "source": [
    "portfolio_tbl.join(stocks_tbl)\n",
    "portfolio_tbl.join(price_tbl)\n",
    "portfolio_tbl.join(dates_tbl)"
   ]
  },
  {
   "cell_type": "markdown",
   "id": "96263e24-0699-4028-b56c-0db54909f9f9",
   "metadata": {},
   "source": [
    "### 1.4 Create cube  \n",
    "\n",
    "Below shows how we built an in-memory data cube from the base store `Portfolios Allocation` table. In the [default creation mode](https://docs.atoti.io/latest/api/atoti.Session.create_cube.html#atoti.Session.create_cube), Atoti creates hierarchies from non-numerical and key columns, a mean and sum measure from numerical columns."
   ]
  },
  {
   "cell_type": "code",
   "execution_count": 11,
   "id": "46467865-7dd4-4cfc-9cf4-f75716d9913d",
   "metadata": {},
   "outputs": [],
   "source": [
    "cube = session.create_cube(portfolio_tbl, \"Portfolio optimization\")"
   ]
  },
  {
   "cell_type": "markdown",
   "id": "3dbcd345-77b9-436a-ac0d-b741c4e2668c",
   "metadata": {},
   "source": [
    "As we are dealing with historical data in this use case, we stored the historical values as arrays in the _Price_ table. For each element in the array, we have a corresponding date in the _Historical Dates_ table. We will use the index columns in the _Historical Dates_ to perform the mapping later on."
   ]
  },
  {
   "cell_type": "code",
   "execution_count": 12,
   "id": "159fb739-1fa3-47ac-a07e-54032998460c",
   "metadata": {},
   "outputs": [
    {
     "data": {
      "image/png": "[encoded data removed]",
      "text/plain": [
       "erDiagram\n",
       "  \"Portfolios Allocation\" {\n",
       "    non-null String PK \"Portfolio\"\n",
       "    non-null String PK \"Symbols\"\n",
       "    nullable double \"Weights\"\n",
       "    non-null String PK \"Iteration\"\n",
       "    non-null String PK \"Opt Method\"\n",
       "  }\n",
       "  \"Price\" {\n",
       "    non-null String PK \"Symbols\"\n",
       "    nullable double[] \"Price_Vector\"\n",
       "    nullable double[] \"Daily_Returns_Vector\"\n",
       "    nullable double[] \"Daily_ROR_Vector\"\n",
       "    nullable double[] \"Monthly_ROR_Vector\"\n",
       "  }\n",
       "  \"Historical Dates\" {\n",
       "    non-null LocalDate PK \"Historical Dates\"\n",
       "    non-null int \"Date Index\"\n",
       "    non-null int \"Monthly Date Index\"\n",
       "  }\n",
       "  \"Constituents\" {\n",
       "    non-null String PK \"Symbols\"\n",
       "    non-null String \"Security\"\n",
       "    non-null String \"GICS Sector\"\n",
       "    non-null String \"GICS Sub-Industry\"\n",
       "  }\n",
       "  \"Portfolios Allocation\" }o--o| \"Constituents\" : \"Symbols == Symbols\"\n",
       "  \"Portfolios Allocation\" }o..o{ \"Historical Dates\" : \"\"\n",
       "  \"Portfolios Allocation\" }o--o| \"Price\" : \"Symbols == Symbols\""
      ]
     },
     "execution_count": 12,
     "metadata": {},
     "output_type": "execute_result"
    }
   ],
   "source": [
    "session.tables.schema"
   ]
  },
  {
   "cell_type": "markdown",
   "id": "d2910af9-7fe2-4829-a5ec-30b8d55feb03",
   "metadata": {},
   "source": [
    "## 2. Data Loading\n",
    "\n",
    "Once the table is created, we can call the table's loading functions to load data for the corresponding data type. In this case, we use `table.load_csv` to load csv data files into the tables."
   ]
  },
  {
   "cell_type": "code",
   "execution_count": 13,
   "id": "3209b483-7f0c-4ec9-8367-2969b1494a0f",
   "metadata": {},
   "outputs": [],
   "source": [
    "portfolio_tbl.load(\n",
    "    tt.CsvLoad(\n",
    "        \"s3://data.atoti.io/notebooks/cvar-optimisation/data/initial_portfolio.csv\"\n",
    "    )\n",
    ")\n",
    "price_tbl.load(\n",
    "    tt.CsvLoad(\n",
    "        \"s3://data.atoti.io/notebooks/cvar-optimisation/data/historical_prices.csv\",\n",
    "        array_separator=\",\",\n",
    "    )\n",
    ")\n",
    "dates_tbl.load(\n",
    "    tt.CsvLoad(\n",
    "        \"s3://data.atoti.io/notebooks/cvar-optimisation/data/historical_price_index.csv\"\n",
    "    )\n",
    ")"
   ]
  },
  {
   "cell_type": "markdown",
   "id": "553c35d2-40da-48f0-ab72-ab695eaf1b76",
   "metadata": {},
   "source": [
    "## 3. Data exploration with Atoti's JupyterLab extension  \n",
    "\n",
    "The below code snippet allow us to build visualization in JupyterLab interactively. Use the Atoti extension from the left menu to start exploring the Atoti cube."
   ]
  },
  {
   "cell_type": "code",
   "execution_count": 14,
   "id": "9693f9b5-be84-4aef-8149-6ce778e32cd6",
   "metadata": {
    "atoti": {
     "height": 409,
     "widget": {
      "mapping": {
       "columns": [
        "ALL_MEASURES"
       ],
       "measures": [
        "[Measures].[Weights.SUM]"
       ],
       "rows": [
        "[Portfolios Allocation].[Portfolio].[Portfolio]",
        "[Portfolios Allocation].[Symbols].[Symbols]"
       ]
      },
      "name": "Initial portfolio distribution",
      "query": {
       "mdx": "SELECT NON EMPTY Crossjoin(Hierarchize(Descendants({[Portfolios Allocation].[Portfolio].[AllMember]}, 1, SELF_AND_BEFORE)), Hierarchize(Descendants({[Portfolios Allocation].[Symbols].[AllMember]}, 1, SELF_AND_BEFORE))) ON ROWS, NON EMPTY {[Measures].[Weights.SUM]} ON COLUMNS FROM [Portfolio optimization] CELL PROPERTIES VALUE, FORMATTED_VALUE, BACK_COLOR, FORE_COLOR, FONT_FLAGS",
       "updateMode": "once"
      },
      "serverKey": "default",
      "widgetKey": "pivot-table"
     }
    },
    "tags": []
   },
   "outputs": [
    {
     "data": {
      "application/vnd.atoti.widget.v0+json": {
       "sessionId": "1755116718_031804",
       "sessionUrl": "http://localhost:12010",
       "widgetCreationCode": "session.widget"
      },
      "text/html": [
       "<img height=\"0\" width=\"0\" src=\"data:,\" />"
      ],
      "text/plain": [
       "Open the notebook in JupyterLab with the Atoti JupyterLab extension enabled to build this widget."
      ]
     },
     "metadata": {},
     "output_type": "display_data"
    }
   ],
   "source": [
    "session.widget"
   ]
  },
  {
   "cell_type": "markdown",
   "id": "1a334644-0315-4def-8587-2ccaa7de7ba6",
   "metadata": {},
   "source": [
    "## 4. Manipulate hierarchies\n",
    "\n",
    "### 4.1 Multi-level hierarchies\n",
    "We could organize our levels into multi-level hierarchies to facilitates the natural order of querying. For instance, when we want to optimize a portfolio, we will want to look into the stocks under the portfolio."
   ]
  },
  {
   "cell_type": "code",
   "execution_count": 15,
   "id": "5fe05e0e-1346-453b-8f7c-e5ef06144fb3",
   "metadata": {},
   "outputs": [],
   "source": [
    "h, l = cube.hierarchies, cube.levels\n",
    "h[\"Portfolios\"] = [l[\"Portfolio\"], l[\"Symbols\"]]"
   ]
  },
  {
   "cell_type": "markdown",
   "id": "b8e20505-fb78-4a7b-b5b0-d4dd23b09478",
   "metadata": {},
   "source": [
    "While this visualization looks similar to the previous one, we are able to expand the portfolio level to investigate the underlying symbols or collapse to focus on the Portfolio, simply by adding the new `Portfolios` hierarchy."
   ]
  },
  {
   "cell_type": "code",
   "execution_count": 16,
   "id": "c4970502-86b5-4a3c-bb09-ebb7908246dd",
   "metadata": {
    "atoti": {
     "widget": {
      "mapping": {
       "columns": [
        "ALL_MEASURES"
       ],
       "measures": [
        "[Measures].[Weights.SUM]"
       ],
       "rows": [
        "[Portfolios Allocation].[Portfolios].[Portfolio] => [Portfolios Allocation].[Portfolios].[Symbols]"
       ]
      },
      "query": {
       "mdx": "SELECT NON EMPTY Hierarchize(Union(Descendants({[Portfolios Allocation].[Portfolios].[AllMember]}, 1, SELF_AND_BEFORE), Descendants({[Portfolios Allocation].[Portfolios].[AllMember].[P2]}, [Portfolios Allocation].[Portfolios].[Symbols]))) ON ROWS, NON EMPTY {[Measures].[Weights.SUM]} ON COLUMNS FROM [Portfolio optimization] CELL PROPERTIES VALUE, FORMATTED_VALUE, BACK_COLOR, FORE_COLOR, FONT_FLAGS",
       "updateMode": "once"
      },
      "serverKey": "default",
      "widgetKey": "pivot-table"
     }
    },
    "tags": []
   },
   "outputs": [
    {
     "data": {
      "application/vnd.atoti.widget.v0+json": {
       "sessionId": "1755116718_031804",
       "sessionUrl": "http://localhost:12010",
       "widgetCreationCode": "session.widget"
      },
      "text/html": [
       "<img height=\"0\" width=\"0\" src=\"data:,\" />"
      ],
      "text/plain": [
       "Open the notebook in JupyterLab with the Atoti JupyterLab extension enabled to build this widget."
      ]
     },
     "metadata": {},
     "output_type": "display_data"
    }
   ],
   "source": [
    "session.widget"
   ]
  },
  {
   "cell_type": "markdown",
   "id": "85035644-3e14-4443-9d3e-98b682208967",
   "metadata": {},
   "source": [
    "Notice that there are two ways to access the below levels now:\n",
    "- Symbols: (Portfolios Allocation, __Symbols__, Symbols) and (Portfolios Allocation, __Portfolios__, Symbols)\n",
    "- Portfolio: (Portfolios Allocation, __Portfolio__, Portfolio) and (Portfolios Allocation, __Portfolios__, Portfolio)\n",
    "\n",
    "We could delete the single-levels hierarchy but it's convenient for us to query them on different axes on certain occasion. So, we will keep them and be mindful of the paths when we construct our measures."
   ]
  },
  {
   "cell_type": "code",
   "execution_count": 17,
   "id": "e75b6b35-09bb-4258-b344-139f28929163",
   "metadata": {},
   "outputs": [
    {
     "data": {
      "application/json": {
       "Constituents": {
        "GICS Sector": [
         "GICS Sector"
        ],
        "GICS Sub-Industry": [
         "GICS Sub-Industry"
        ],
        "Security": [
         "Security"
        ]
       },
       "Historical Dates": {
        "Historical Dates": [
         "Historical Dates"
        ]
       },
       "Portfolios Allocation": {
        "Iteration": [
         "Iteration"
        ],
        "Opt Method": [
         "Opt Method"
        ],
        "Portfolio": [
         "Portfolio"
        ],
        "Portfolios": [
         "Portfolio",
         "Symbols"
        ],
        "Symbols": [
         "Symbols"
        ]
       }
      },
      "text/html": [
       "<ul>\n",
       "<li>Dimensions\n",
       "  <ul>\n",
       "  <li>Constituents\n",
       "    <ul>\n",
       "    <li>GICS Sector\n",
       "      <ol>\n",
       "      <li>GICS Sector</li>\n",
       "      </ol>    </li>\n",
       "    <li>GICS Sub-Industry\n",
       "      <ol>\n",
       "      <li>GICS Sub-Industry</li>\n",
       "      </ol>    </li>\n",
       "    <li>Security\n",
       "      <ol>\n",
       "      <li>Security</li>\n",
       "      </ol>    </li>\n",
       "    </ul>\n",
       "  </li>\n",
       "  <li>Historical Dates\n",
       "    <ul>\n",
       "    <li>Historical Dates\n",
       "      <ol>\n",
       "      <li>Historical Dates</li>\n",
       "      </ol>    </li>\n",
       "    </ul>\n",
       "  </li>\n",
       "  <li>Portfolios Allocation\n",
       "    <ul>\n",
       "    <li>Iteration\n",
       "      <ol>\n",
       "      <li>Iteration</li>\n",
       "      </ol>    </li>\n",
       "    <li>Opt Method\n",
       "      <ol>\n",
       "      <li>Opt Method</li>\n",
       "      </ol>    </li>\n",
       "    <li>Portfolio\n",
       "      <ol>\n",
       "      <li>Portfolio</li>\n",
       "      </ol>    </li>\n",
       "    <li>Portfolios\n",
       "      <ol>\n",
       "      <li>Portfolio</li>\n",
       "      <li>Symbols</li>\n",
       "      </ol>    </li>\n",
       "    <li>Symbols\n",
       "      <ol>\n",
       "      <li>Symbols</li>\n",
       "      </ol>    </li>\n",
       "    </ul>\n",
       "  </li>\n",
       "  </ul>\n",
       "</li>\n",
       "</ul>\n"
      ],
      "text/plain": [
       "{('Constituents', 'GICS Sector'): <atoti.hierarchy.Hierarchy object at 0x12e2adf90>, ('Constituents', 'GICS Sub-Industry'): <atoti.hierarchy.Hierarchy object at 0x12b8f65d0>, ('Constituents', 'Security'): <atoti.hierarchy.Hierarchy object at 0x13cb710d0>, ('Portfolios Allocation', 'Portfolio'): <atoti.hierarchy.Hierarchy object at 0x13c8cab90>, ('Portfolios Allocation', 'Symbols'): <atoti.hierarchy.Hierarchy object at 0x12a2d30d0>, ('Portfolios Allocation', 'Iteration'): <atoti.hierarchy.Hierarchy object at 0x12a2d3b90>, ('Portfolios Allocation', 'Opt Method'): <atoti.hierarchy.Hierarchy object at 0x12a2d32d0>, ('Portfolios Allocation', 'Portfolios'): <atoti.hierarchy.Hierarchy object at 0x12a2d3290>, ('Historical Dates', 'Historical Dates'): <atoti.hierarchy.Hierarchy object at 0x12a2d37d0>}"
      ]
     },
     "execution_count": 17,
     "metadata": {
      "application/json": {
       "expanded": true,
       "root": "Dimensions"
      }
     },
     "output_type": "execute_result"
    }
   ],
   "source": [
    "h"
   ]
  },
  {
   "cell_type": "markdown",
   "id": "8e458d39-6cfe-4570-a67f-5416bc114cfa",
   "metadata": {},
   "source": [
    "### 4.2 Slicing\n",
    "\n",
    "Since we look at the performance of each optimization method separately (i.e. we do not perform aggregation across optimization methods), we can set the hierarchy to [slicing](https://docs.atoti.io/latest/api/atoti.Hierarchy.slicing.html#atoti.Hierarchy.slicing) such that we view the initial portfolio — `Base` by default."
   ]
  },
  {
   "cell_type": "code",
   "execution_count": 18,
   "id": "bb86f070-6948-4ea7-84a1-634fb9f7264e",
   "metadata": {},
   "outputs": [],
   "source": [
    "h[\"Opt Method\"].slicing = True"
   ]
  },
  {
   "cell_type": "markdown",
   "id": "c874a3de-a884-454f-b0fc-cf2e3628f76f",
   "metadata": {},
   "source": [
    "## 5. Create business metrics  \n",
    "\n",
    "We are going to create some business metrics for our benchmarking purpose, namely:\n",
    "- VaR\n",
    "- CVaR\n",
    "- Sharpe Ratio\n",
    "- Error Tracking\n",
    "\n",
    "We will be working a lot with `cube.measures`, so let's alias it to make coding easier."
   ]
  },
  {
   "cell_type": "code",
   "execution_count": 19,
   "id": "85045870-cdef-44cb-919e-d47cac7dda70",
   "metadata": {},
   "outputs": [],
   "source": [
    "m = cube.measures"
   ]
  },
  {
   "cell_type": "markdown",
   "id": "f1da0903-98fd-4ca4-b775-bc0531cd7e42",
   "metadata": {},
   "source": [
    "### 5.1 Working with array to compute VaR and CVaR\n",
    "\n",
    "Atoti has a series of functions that enable us to [work with arrays](https://docs.atoti.io/latest/api/atoti.array.html).  \n",
    "\n",
    "Since our _Price_ table is a reference table, we will have to create the measures for our arrays. Let's use the [`atoti.agg.single_value`](https://docs.atoti.io/latest/api/atoti.agg.single_value.html#atoti.agg.single_value) to obtain the array for each of the symbols in the portfolio."
   ]
  },
  {
   "cell_type": "code",
   "execution_count": 20,
   "id": "93baf3a3-6117-41e3-a868-acec85b284be",
   "metadata": {},
   "outputs": [],
   "source": [
    "m[\"Daily_Returns_Vector\"] = tt.agg.single_value(price_tbl[\"Daily_Returns_Vector\"])\n",
    "m[\"Daily_ROR_Vector\"] = tt.agg.single_value(price_tbl[\"Daily_ROR_Vector\"])\n",
    "m[\"Monthly_ROR_Vector\"] = tt.agg.single_value(price_tbl[\"Monthly_ROR_Vector\"])\n",
    "m[\"Price_Vector\"] = tt.agg.single_value(price_tbl[\"Price_Vector\"])"
   ]
  },
  {
   "cell_type": "code",
   "execution_count": 21,
   "id": "8ef1f0bb-bc3c-43e6-9f35-09e71b74e04e",
   "metadata": {
    "atoti": {
     "height": 380,
     "widget": {
      "columnWidths": {
       "[Measures].[Daily_ROR_Vector]": 220.0999755859375,
       "[Measures].[Daily_Returns_Vector]": 329.8125,
       "[Measures].[Monthly_ROR_Vector]": 250,
       "[Measures].[Price_Vector]": 264.9000244140625,
       "[Measures].[Price_vector.VALUE]": 278.8125
      },
      "mapping": {
       "columns": [
        "ALL_MEASURES"
       ],
       "measures": [
        "[Measures].[Price_Vector]",
        "[Measures].[Daily_ROR_Vector]",
        "[Measures].[Monthly_ROR_Vector]",
        "[Measures].[Daily_Returns_Vector]"
       ],
       "rows": [
        "[Portfolios Allocation].[Symbols].[Symbols]"
       ]
      },
      "name": "Historical data by security",
      "query": {
       "mdx": "SELECT NON EMPTY Hierarchize(Descendants({[Portfolios Allocation].[Symbols].[AllMember]}, 1, SELF_AND_BEFORE)) ON ROWS, NON EMPTY {[Measures].[Price_Vector], [Measures].[Daily_ROR_Vector], [Measures].[Monthly_ROR_Vector], [Measures].[Daily_Returns_Vector]} ON COLUMNS FROM [Portfolio optimization] CELL PROPERTIES VALUE, FORMATTED_VALUE, BACK_COLOR, FORE_COLOR, FONT_FLAGS",
       "updateMode": "once"
      },
      "serverKey": "default",
      "widgetKey": "pivot-table"
     }
    },
    "tags": []
   },
   "outputs": [
    {
     "data": {
      "application/vnd.atoti.widget.v0+json": {
       "sessionId": "1755116718_031804",
       "sessionUrl": "http://localhost:12010",
       "widgetCreationCode": "session.widget"
      },
      "text/html": [
       "<img height=\"0\" width=\"0\" src=\"data:,\" />"
      ],
      "text/plain": [
       "Open the notebook in JupyterLab with the Atoti JupyterLab extension enabled to build this widget."
      ]
     },
     "metadata": {},
     "output_type": "display_data"
    }
   ],
   "source": [
    "session.widget"
   ]
  },
  {
   "cell_type": "markdown",
   "id": "38c57172-2822-483e-b1be-1ac391ac481d",
   "metadata": {},
   "source": [
    "#### 5.1.1 Aggregating weighted array\n",
    "\n",
    "We apply the weights of each stock on their daily returns. Note that we are aggregating from the table and _not_ the measures."
   ]
  },
  {
   "cell_type": "code",
   "execution_count": 22,
   "id": "a75007bb-7f39-4a30-91b8-ad349f03a030",
   "metadata": {},
   "outputs": [],
   "source": [
    "m[\"Simulated Portfolio Returns Vector\"] = tt.agg.sum(\n",
    "    portfolio_tbl[\"Weights\"] * price_tbl[\"Daily_ROR_Vector\"]\n",
    ")"
   ]
  },
  {
   "cell_type": "markdown",
   "id": "3a1f7b0f-d8d6-4817-9274-8ff068076b69",
   "metadata": {},
   "source": [
    "By performing a summation on the vector above the _Symbols_ level, we obtained an array containing the daily returns of the portfolio."
   ]
  },
  {
   "cell_type": "code",
   "execution_count": 23,
   "id": "799034e2-3d15-4abe-b5d7-96bb6b3225d6",
   "metadata": {
    "atoti": {
     "height": 431,
     "widget": {
      "columnWidths": {
       "[Measures].[Daily_ROR_Vector]": 294.734375,
       "[Measures].[Last price]": 74,
       "[Measures].[MTM Vector]": 235,
       "[Measures].[PnL Vector]": 204,
       "[Measures].[Position Vector]": 319.79998779296875,
       "[Measures].[Price_Vector]": 273,
       "[Measures].[Simulated Portfolio Returns Vector]": 360,
       "[Measures].[Simulated Price Vector]": 271,
       "[Portfolios Allocation].[Portfolios].[Iteration]": 69,
       "[Portfolios Allocation].[Portfolios].[Opt Method]": 89,
       "[Portfolios Allocation].[Portfolios].[Portfolio]": 69,
       "[Portfolios Allocation].[Portfolios].[Symbols]": 68
      },
      "filters": [],
      "mapping": {
       "columns": [
        "ALL_MEASURES"
       ],
       "measures": [
        "[Measures].[Weights.SUM]",
        "[Measures].[Daily_ROR_Vector]",
        "[Measures].[Simulated Portfolio Returns Vector]"
       ],
       "rows": [
        "[Portfolios Allocation].[Portfolios].[Portfolio] => [Portfolios Allocation].[Portfolios].[Symbols]"
       ]
      },
      "name": "Pricing simulation",
      "query": {
       "mdx": "SELECT NON EMPTY Hierarchize(Union(Descendants({[Portfolios Allocation].[Portfolios].[AllMember]}, 1, SELF_AND_BEFORE), Descendants({[Portfolios Allocation].[Portfolios].[AllMember].[P1]}, [Portfolios Allocation].[Portfolios].[Symbols]))) ON ROWS, NON EMPTY {[Measures].[Weights.SUM], [Measures].[Daily_ROR_Vector], [Measures].[Simulated Portfolio Returns Vector]} ON COLUMNS FROM [Portfolio optimization] CELL PROPERTIES VALUE, FORMATTED_VALUE, BACK_COLOR, FORE_COLOR, FONT_FLAGS",
       "updateMode": "once"
      },
      "serverKey": "default",
      "widgetKey": "pivot-table"
     }
    },
    "tags": []
   },
   "outputs": [
    {
     "data": {
      "application/vnd.atoti.widget.v0+json": {
       "sessionId": "1755116718_031804",
       "sessionUrl": "http://localhost:12010",
       "widgetCreationCode": "session.widget"
      },
      "text/html": [
       "<img height=\"0\" width=\"0\" src=\"data:,\" />"
      ],
      "text/plain": [
       "Open the notebook in JupyterLab with the Atoti JupyterLab extension enabled to build this widget."
      ]
     },
     "metadata": {},
     "output_type": "display_data"
    }
   ],
   "source": [
    "session.widget"
   ]
  },
  {
   "cell_type": "markdown",
   "id": "61d85911-d8a8-4f32-ba65-885c415a2e7f",
   "metadata": {},
   "source": [
    "#### 5.1.2 Computing VaR with parameter simulation"
   ]
  },
  {
   "cell_type": "markdown",
   "id": "f59a1ae7-70e7-47a1-832b-4d4c89b45b1d",
   "metadata": {},
   "source": [
    "We could create a measure for `Confidence Level` at 95% simply by:\n",
    "\n",
    "```python\n",
    "m[\"Confidence Level\"] = 0.95\n",
    "```\n",
    "\n",
    "However, we used the function [`cube.create_parameter_simulation`](https://docs.atoti.io/latest/api/atoti.Cube.create_parameter_simulation.html#atoti.Cube.create_parameter_simulation) to create this measure instead."
   ]
  },
  {
   "cell_type": "code",
   "execution_count": 24,
   "id": "e2de9ea8-5d0f-429a-93f0-c82c90605c50",
   "metadata": {},
   "outputs": [],
   "source": [
    "confidence_levels = cube.create_parameter_simulation(\n",
    "    \"Confidence Level\",\n",
    "    measures={\"Confidence Level\": 0.95},\n",
    "    base_scenario_name=\"95%\",\n",
    ")"
   ]
  },
  {
   "cell_type": "markdown",
   "id": "2b4a7f8b-23ab-439d-b2f6-e450d4af8415",
   "metadata": {},
   "source": [
    "This will allow us to perform simulation on other confidence levels and compare their downstream business metrics accordingly. "
   ]
  },
  {
   "cell_type": "code",
   "execution_count": 25,
   "id": "cfe199e7-5f22-43ef-89da-bb859d4ba091",
   "metadata": {},
   "outputs": [],
   "source": [
    "confidence_levels += (\"90%\", 0.90)\n",
    "confidence_levels += (\"98%\", 0.98)"
   ]
  },
  {
   "cell_type": "markdown",
   "id": "ce17117d-4faa-4fce-a72b-f055dae4bb41",
   "metadata": {},
   "source": [
    "Now, we can use [`atoti.array.quantile`](https://docs.atoti.io/latest/api/atoti.array.quantile.html#atoti.array.quantile) to obtain the greatest loss at 95% confidence level. The below [Atoti quantile function](https://docs.atoti.io/latest/lib/atoti/atoti.array.quantile.html) used the default `PERCENTILE.INC` mode with interpolation set to `lower`. Check out Atoti's documentation to see how you can achieve the standard quantile calculations through different combination of modes and interpolations."
   ]
  },
  {
   "cell_type": "code",
   "execution_count": 26,
   "id": "37cf6c0b-4c03-4e1f-a6a6-732f8c626038",
   "metadata": {},
   "outputs": [],
   "source": [
    "m[\"VaR\"] = tt.array.quantile(\n",
    "    m[\"Simulated Portfolio Returns Vector\"],\n",
    "    (1 - m[\"Confidence Level\"]),\n",
    "    interpolation=\"lower\",\n",
    ")\n",
    "m[\"VaR\"].formatter = \"DOUBLE[#,##0.000%]\""
   ]
  },
  {
   "cell_type": "markdown",
   "id": "064846d1-61c3-43dc-90b2-84cd61820041",
   "metadata": {},
   "source": [
    "This demonstrates how Atoti easily achieve non-linear aggregation."
   ]
  },
  {
   "cell_type": "code",
   "execution_count": 27,
   "id": "29f52511-716b-423a-aa44-982542d39646",
   "metadata": {
    "atoti": {
     "height": 483,
     "widget": {
      "mapping": {
       "columns": [
        "ALL_MEASURES",
        "[Confidence Level].[Confidence Level].[Confidence Level]"
       ],
       "measures": [
        "[Measures].[VaR]"
       ],
       "rows": [
        "[Portfolios Allocation].[Portfolios].[Portfolio] => [Portfolios Allocation].[Portfolios].[Symbols]"
       ]
      },
      "name": "VaR at different confidence level",
      "query": {
       "mdx": "SELECT NON EMPTY Hierarchize(Union(Descendants({[Portfolios Allocation].[Portfolios].[AllMember]}, 1, SELF_AND_BEFORE), Descendants({[Portfolios Allocation].[Portfolios].[AllMember].[P1]}, [Portfolios Allocation].[Portfolios].[Symbols]))) ON ROWS, NON EMPTY Crossjoin({[Measures].[VaR]}, [Confidence Level].[Confidence Level].[Confidence Level].Members) ON COLUMNS FROM [Portfolio optimization] CELL PROPERTIES VALUE, FORMATTED_VALUE, BACK_COLOR, FORE_COLOR, FONT_FLAGS",
       "updateMode": "once"
      },
      "serverKey": "default",
      "widgetKey": "pivot-table"
     }
    },
    "tags": []
   },
   "outputs": [
    {
     "data": {
      "application/vnd.atoti.widget.v0+json": {
       "sessionId": "1755116718_031804",
       "sessionUrl": "http://localhost:12010",
       "widgetCreationCode": "session.widget"
      },
      "text/html": [
       "<img height=\"0\" width=\"0\" src=\"data:,\" />"
      ],
      "text/plain": [
       "Open the notebook in JupyterLab with the Atoti JupyterLab extension enabled to build this widget."
      ]
     },
     "metadata": {},
     "output_type": "display_data"
    }
   ],
   "source": [
    "session.widget"
   ]
  },
  {
   "cell_type": "markdown",
   "id": "6a87fddd-df33-4c8c-895d-cd21264e4314",
   "metadata": {},
   "source": [
    "#### 5.1.3 Computing CVaR\n",
    "\n",
    "CVaR, also known as the expected shortfall, is the weighted average of the losses beyond the VaR cutoff point. Therefore, let's get the position of the VaR in the array and compute the CVaR."
   ]
  },
  {
   "cell_type": "code",
   "execution_count": 28,
   "id": "1e4b3fa9-9be1-421c-b87a-6702e639eacb",
   "metadata": {},
   "outputs": [],
   "source": [
    "m[\"Number of Tail Exposures\"] = tt.math.floor(\n",
    "    (1 - m[\"Confidence Level\"]) * tt.array.len(m[\"Simulated Portfolio Returns Vector\"])\n",
    ")\n",
    "m[\"CVaR\"] = tt.array.mean(\n",
    "    tt.array.n_lowest(\n",
    "        m[\"Simulated Portfolio Returns Vector\"], m[\"Number of Tail Exposures\"]\n",
    "    )\n",
    ")\n",
    "\n",
    "m[\"CVaR\"].formatter = \"DOUBLE[#,##0.000%]\""
   ]
  },
  {
   "cell_type": "code",
   "execution_count": 29,
   "id": "ccebeb4d-e7c3-442e-9122-31fd8467651b",
   "metadata": {
    "atoti": {
     "height": 230,
     "widget": {
      "columnWidths": {
       "[Measures].[Daily Portfolio Returns]": 183
      },
      "filters": [
       {
        "dimensionName": "Portfolios Allocation",
        "hierarchyName": "Portfolios",
        "isExclusionFilter": false,
        "members": [
         [
          "AllMember",
          "P1"
         ]
        ],
        "type": "members"
       }
      ],
      "mapping": {
       "columns": [
        "ALL_MEASURES"
       ],
       "measures": [
        "[Measures].[Number of Tail Exposures]",
        "[Measures].[VaR]",
        "[Measures].[CVaR]"
       ],
       "rows": [
        "[Portfolios Allocation].[Portfolios].[Portfolio] => [Portfolios Allocation].[Portfolios].[Symbols]"
       ]
      },
      "name": "VaR and CVaR computation",
      "query": {
       "mdx": "SELECT NON EMPTY {[Measures].[Number of Tail Exposures], [Measures].[VaR], [Measures].[CVaR]} ON COLUMNS, NON EMPTY Hierarchize(Union(Descendants({[Portfolios Allocation].[Portfolios].[AllMember]}, 1, SELF_AND_BEFORE), Descendants({[Portfolios Allocation].[Portfolios].[ALL].[AllMember].[P1]}, [Portfolios Allocation].[Portfolios].[Symbols]))) ON ROWS FROM [Portfolio optimization] CELL PROPERTIES VALUE, FORMATTED_VALUE, BACK_COLOR, FORE_COLOR, FONT_FLAGS",
       "updateMode": "once"
      },
      "serverKey": "default",
      "widgetKey": "pivot-table"
     }
    },
    "tags": []
   },
   "outputs": [
    {
     "data": {
      "application/vnd.atoti.widget.v0+json": {
       "sessionId": "1755116718_031804",
       "sessionUrl": "http://localhost:12010",
       "widgetCreationCode": "session.widget"
      },
      "text/html": [
       "<img height=\"0\" width=\"0\" src=\"data:,\" />"
      ],
      "text/plain": [
       "Open the notebook in JupyterLab with the Atoti JupyterLab extension enabled to build this widget."
      ]
     },
     "metadata": {},
     "output_type": "display_data"
    }
   ],
   "source": [
    "session.widget"
   ]
  },
  {
   "cell_type": "code",
   "execution_count": 30,
   "id": "60d5cc28-3fd3-42f8-a265-d7cc2f2da707",
   "metadata": {
    "atoti": {
     "widget": {
      "mapping": {
       "columns": [
        "ALL_MEASURES"
       ],
       "measures": [
        "[Measures].[VaR]",
        "[Measures].[CVaR]"
       ],
       "rows": [
        "[Portfolios Allocation].[Portfolios].[Symbols]"
       ]
      },
      "name": "Portfolio 1 - VaR and CVaR at stock level",
      "query": {
       "mdx": "SELECT NON EMPTY {[Measures].[VaR], [Measures].[CVaR]} ON COLUMNS, NON EMPTY Hierarchize(Descendants({[Portfolios Allocation].[Portfolios].[ALL].[AllMember]}, 2, SELF_AND_BEFORE)) DIMENSION PROPERTIES CHILDREN_CARDINALITY ON ROWS FROM [Portfolio optimization] CELL PROPERTIES VALUE, FORMATTED_VALUE, BACK_COLOR, FORE_COLOR, FONT_FLAGS",
       "updateMode": "once"
      },
      "serverKey": "default",
      "widgetKey": "pivot-table"
     }
    },
    "tags": []
   },
   "outputs": [
    {
     "data": {
      "application/vnd.atoti.widget.v0+json": {
       "sessionId": "1755116718_031804",
       "sessionUrl": "http://localhost:12010",
       "widgetCreationCode": "session.widget"
      },
      "text/html": [
       "<img height=\"0\" width=\"0\" src=\"data:,\" />"
      ],
      "text/plain": [
       "Open the notebook in JupyterLab with the Atoti JupyterLab extension enabled to build this widget."
      ]
     },
     "metadata": {},
     "output_type": "display_data"
    }
   ],
   "source": [
    "session.widget"
   ]
  },
  {
   "cell_type": "markdown",
   "id": "06228e1d-5187-4889-b1d0-140364eb1709",
   "metadata": {},
   "source": [
    "#### 5.1.4 Expanding arrays\n",
    "\n",
    "To query the stocks' values at historical dates level, we need to expand the arrays. We can simply use the `Date Index` and `Monthly Date Index` to return the value at the daily level or monthly level."
   ]
  },
  {
   "cell_type": "code",
   "execution_count": 31,
   "id": "246c7246-f054-4063-95dd-ede92d67d7d3",
   "metadata": {},
   "outputs": [],
   "source": [
    "# creating measures for the indices\n",
    "m[\"Date Index\"] = tt.agg.single_value(dates_tbl[\"Date Index\"])\n",
    "\n",
    "mthly_idx = tt.agg.single_value(dates_tbl[\"Monthly Date Index\"])\n",
    "m[\"Monthly Date Index\"] = tt.where(mthly_idx != -1, mthly_idx)\n",
    "\n",
    "# Daily values\n",
    "m[\"Daily Price\"] = m[\"Price_Vector\"][m[\"Date Index\"]]\n",
    "m[\"Daily Price\"].formatter = \"DOUBLE[#,###.00000]\"\n",
    "\n",
    "m[\"Daily ROR\"] = m[\"Daily_ROR_Vector\"][m[\"Date Index\"]]\n",
    "m[\"Daily ROR\"].formatter = \"DOUBLE[#,##0.000%]\"\n",
    "\n",
    "# non-weighted\n",
    "m[\"Daily Returns\"] = m[\"Daily_Returns_Vector\"][m[\"Date Index\"]]\n",
    "m[\"Daily Returns\"].formatter = \"DOUBLE[#,###.00000]\"\n",
    "\n",
    "# weighted\n",
    "m[\"Daily Portfolio Returns\"] = m[\"Simulated Portfolio Returns Vector\"][m[\"Date Index\"]]\n",
    "m[\"Daily Portfolio Returns\"].formatter = \"DOUBLE[#,##0.000%]\"\n",
    "\n",
    "# monthly values\n",
    "m[\"Monthly ROR\"] = m[\"Monthly_ROR_Vector\"][m[\"Monthly Date Index\"]]\n",
    "m[\"Monthly ROR\"].formatter = \"DOUBLE[#,##0.000%]\""
   ]
  },
  {
   "cell_type": "code",
   "execution_count": 32,
   "id": "e61d2a98-69cc-4d23-9865-221c246cdcc7",
   "metadata": {
    "atoti": {
     "widget": {
      "filters": [
       {
        "dimensionName": "Portfolios Allocation",
        "hierarchyName": "Symbols",
        "isExclusionFilter": false,
        "members": [
         [
          "AllMember",
          "AAPL"
         ]
        ],
        "type": "members"
       }
      ],
      "mapping": {
       "columns": [
        "ALL_MEASURES"
       ],
       "measures": [
        "[Measures].[Daily Price]",
        "[Measures].[Daily ROR]",
        "[Measures].[Daily Returns]"
       ],
       "rows": [
        "[Historical Dates].[Historical Dates].[Historical Dates]"
       ]
      },
      "name": "Daily performance for AAPL",
      "query": {
       "mdx": "SELECT NON EMPTY Hierarchize(Descendants({[Historical Dates].[Historical Dates].[ALL].[AllMember]}, 1, SELF_AND_BEFORE)) ON ROWS, NON EMPTY {[Measures].[Daily Price], [Measures].[Daily ROR], [Measures].[Daily Returns]} ON COLUMNS FROM [Portfolio optimization] CELL PROPERTIES VALUE, FORMATTED_VALUE, BACK_COLOR, FORE_COLOR, FONT_FLAGS",
       "updateMode": "once"
      },
      "serverKey": "default",
      "widgetKey": "pivot-table"
     }
    }
   },
   "outputs": [
    {
     "data": {
      "application/vnd.atoti.widget.v0+json": {
       "sessionId": "1755116718_031804",
       "sessionUrl": "http://localhost:12010",
       "widgetCreationCode": "session.widget"
      },
      "text/html": [
       "<img height=\"0\" width=\"0\" src=\"data:,\" />"
      ],
      "text/plain": [
       "Open the notebook in JupyterLab with the Atoti JupyterLab extension enabled to build this widget."
      ]
     },
     "metadata": {},
     "output_type": "display_data"
    }
   ],
   "source": [
    "session.widget"
   ]
  },
  {
   "cell_type": "code",
   "execution_count": 33,
   "id": "e6af17ed-92ee-4858-9f17-8e5e5e8b0b4c",
   "metadata": {
    "atoti": {
     "widget": {
      "mapping": {
       "horizontalSubplots": [],
       "secondaryValues": [],
       "splitBy": [
        "[Portfolios Allocation].[Symbols].[Symbols]",
        "ALL_MEASURES"
       ],
       "values": [
        "[Measures].[Monthly ROR]"
       ],
       "verticalSubplots": [],
       "xAxis": [
        "[Historical Dates].[Historical Dates].[Historical Dates]"
       ]
      },
      "name": "Monthly ROR",
      "query": {
       "mdx": "SELECT NON EMPTY Hierarchize(Descendants({[Historical Dates].[Historical Dates].[AllMember]}, 1, SELF_AND_BEFORE)) ON ROWS, NON EMPTY Crossjoin(Hierarchize(Descendants({[Portfolios Allocation].[Symbols].[AllMember]}, 1, SELF_AND_BEFORE)), {[Measures].[Monthly ROR]}) ON COLUMNS FROM [Portfolio optimization] CELL PROPERTIES VALUE, FORMATTED_VALUE, BACK_COLOR, FORE_COLOR, FONT_FLAGS",
       "updateMode": "once"
      },
      "serverKey": "default",
      "widgetKey": "plotly-line-chart"
     }
    },
    "tags": []
   },
   "outputs": [
    {
     "data": {
      "application/vnd.atoti.widget.v0+json": {
       "sessionId": "1755116718_031804",
       "sessionUrl": "http://localhost:12010",
       "widgetCreationCode": "session.widget"
      },
      "text/html": [
       "<img height=\"0\" width=\"0\" src=\"data:,\" />"
      ],
      "text/plain": [
       "Open the notebook in JupyterLab with the Atoti JupyterLab extension enabled to build this widget."
      ]
     },
     "metadata": {},
     "output_type": "display_data"
    }
   ],
   "source": [
    "session.widget"
   ]
  },
  {
   "cell_type": "markdown",
   "id": "5a088440-d094-421f-80da-28008bb92819",
   "metadata": {},
   "source": [
    "#### 5.1.5 Cumulative returns"
   ]
  },
  {
   "cell_type": "code",
   "execution_count": 34,
   "id": "ad2f6d8f-2032-492c-8823-4045385f832b",
   "metadata": {},
   "outputs": [],
   "source": [
    "m[\"Since Inception ROR\"] = (\n",
    "    tt.agg.prod(\n",
    "        (m[\"Daily Portfolio Returns\"] + 1),\n",
    "        scope=tt.CumulativeScope(level=l[\"Historical Dates\"]),\n",
    "    )\n",
    "    - 1\n",
    ")\n",
    "m[\"Since Inception ROR\"].formatter = \"DOUBLE[#,##0.000%]\""
   ]
  },
  {
   "cell_type": "code",
   "execution_count": 35,
   "id": "0f6e4495-2537-4da7-8d6e-9d924aa8506f",
   "metadata": {
    "atoti": {
     "widget": {
      "filters": [
       {
        "dimensionName": "Portfolios Allocation",
        "hierarchyName": "Portfolios",
        "includeAllMembers": false,
        "isExclusionFilter": false,
        "members": [
         [
          "AllMember",
          "P1"
         ]
        ],
        "type": "members"
       }
      ],
      "mapping": {
       "horizontalSubplots": [],
       "secondaryValues": [],
       "splitBy": [
        "ALL_MEASURES"
       ],
       "values": [
        "[Measures].[Since Inception ROR]"
       ],
       "verticalSubplots": [],
       "xAxis": [
        "[Historical Dates].[Historical Dates].[Historical Dates]"
       ]
      },
      "name": "Returns since inception",
      "query": {
       "mdx": "SELECT NON EMPTY Hierarchize(Descendants({[Historical Dates].[Historical Dates].[AllMember]}, 1, SELF_AND_BEFORE)) ON ROWS, NON EMPTY {[Measures].[Since Inception ROR]} ON COLUMNS FROM [Portfolio optimization] CELL PROPERTIES VALUE, FORMATTED_VALUE, BACK_COLOR, FORE_COLOR, FONT_FLAGS",
       "updateMode": "once"
      },
      "serverKey": "default",
      "widgetKey": "plotly-line-chart"
     }
    },
    "tags": []
   },
   "outputs": [
    {
     "data": {
      "application/vnd.atoti.widget.v0+json": {
       "sessionId": "1755116718_031804",
       "sessionUrl": "http://localhost:12010",
       "widgetCreationCode": "session.widget"
      },
      "text/html": [
       "<img height=\"0\" width=\"0\" src=\"data:,\" />"
      ],
      "text/plain": [
       "Open the notebook in JupyterLab with the Atoti JupyterLab extension enabled to build this widget."
      ]
     },
     "metadata": {},
     "output_type": "display_data"
    }
   ],
   "source": [
    "session.widget"
   ]
  },
  {
   "cell_type": "markdown",
   "id": "14258a5f-4887-4f3d-aed0-e2d3135b2935",
   "metadata": {},
   "source": [
    "### 5.2 Computing Sharpe Ratio\n",
    "\n",
    "The formula for Sharpe ration is as follows: \n",
    "\n",
    "$$Sharpe\\ Ratio = {{R_{p} - R_{f}}\\over {\\sigma_{p}}}$$\n",
    "\n",
    "Where  \n",
    "$$R_{p} = Return\\ of\\ portfolio$$\n",
    "$$R_{f} = Risk-free\\ rate$$\n",
    "$${\\sigma_{p}} = Standard\\ deviation\\ of\\ the\\ portfolio's\\ excess\\ return\\ (Volatility) $$\n",
    "\n",
    "The greater a portfolio's Sharpe ratio, the better its risk-adjusted performance.  \n",
    "\n",
    "Let's start by assuming the risk-free rate is 0%."
   ]
  },
  {
   "cell_type": "code",
   "execution_count": 36,
   "id": "738be99e-e4f2-4720-86c4-8fd53b5971b4",
   "metadata": {},
   "outputs": [],
   "source": [
    "# https://www.mlq.ai/python-for-finance-portfolio-optimization/\n",
    "m[\"Mean daily return\"] = tt.array.mean(m[\"Simulated Portfolio Returns Vector\"])\n",
    "m[\"Mean daily return\"].formatter = \"DOUBLE[#,###.00000]\"\n",
    "\n",
    "m[\"Portfolio std\"] = tt.array.std(m[\"Simulated Portfolio Returns Vector\"])\n",
    "m[\"Portfolio std\"].formatter = \"DOUBLE[#,###.00000]\"\n",
    "\n",
    "m[\"Sharpe ratio\"] = m[\"Mean daily return\"] / m[\"Portfolio std\"]\n",
    "m[\"Sharpe ratio\"].formatter = \"DOUBLE[#,##0.0000]\""
   ]
  },
  {
   "cell_type": "code",
   "execution_count": 37,
   "id": "108d41f3-a055-4aea-a403-654c872950c5",
   "metadata": {
    "atoti": {
     "widget": {
      "columnWidths": {
       "[Measures].[Daily_ROR_Vector]": 374
      },
      "mapping": {
       "columns": [
        "ALL_MEASURES"
       ],
       "measures": [
        "[Measures].[Daily_ROR_Vector]",
        "[Measures].[Mean daily return]",
        "[Measures].[Portfolio std]",
        "[Measures].[Sharpe ratio]"
       ],
       "rows": [
        "[Portfolios Allocation].[Portfolio].[Portfolio]",
        "[Portfolios Allocation].[Symbols].[Symbols]"
       ]
      },
      "query": {
       "mdx": "SELECT NON EMPTY Crossjoin(Hierarchize(Descendants({[Portfolios Allocation].[Portfolio].[AllMember]}, 1, SELF_AND_BEFORE)), Hierarchize(Descendants({[Portfolios Allocation].[Symbols].[AllMember]}, 1, SELF_AND_BEFORE))) ON ROWS, NON EMPTY {[Measures].[Daily_ROR_Vector], [Measures].[Mean daily return], [Measures].[Portfolio std], [Measures].[Sharpe ratio]} ON COLUMNS FROM [Portfolio optimization] CELL PROPERTIES VALUE, FORMATTED_VALUE, BACK_COLOR, FORE_COLOR, FONT_FLAGS",
       "updateMode": "once"
      },
      "serverKey": "default",
      "widgetKey": "pivot-table"
     }
    },
    "tags": []
   },
   "outputs": [
    {
     "data": {
      "application/vnd.atoti.widget.v0+json": {
       "sessionId": "1755116718_031804",
       "sessionUrl": "http://localhost:12010",
       "widgetCreationCode": "session.widget"
      },
      "text/html": [
       "<img height=\"0\" width=\"0\" src=\"data:,\" />"
      ],
      "text/plain": [
       "Open the notebook in JupyterLab with the Atoti JupyterLab extension enabled to build this widget."
      ]
     },
     "metadata": {},
     "output_type": "display_data"
    }
   ],
   "source": [
    "session.widget"
   ]
  },
  {
   "cell_type": "markdown",
   "id": "d43e8b3c-af5a-4c7e-89d6-ecb12a7761a2",
   "metadata": {},
   "source": [
    "Let's create some metrics for benchmarking"
   ]
  },
  {
   "cell_type": "code",
   "execution_count": 38,
   "id": "98dfe8d5-735b-4256-939a-2327b778418c",
   "metadata": {},
   "outputs": [],
   "source": [
    "m[\"SR Benchmark\"] = tt.at(m[\"Sharpe ratio\"], (l[\"Opt Method\"] == \"Base\"))\n",
    "m[\"SR Opt vs Benchmark\"] = m[\"Sharpe ratio\"] - m[\"SR Benchmark\"]\n",
    "\n",
    "m[\"SR Benchmark\"].formatter = \"DOUBLE[#,##0.0000]\"\n",
    "m[\"SR Opt vs Benchmark\"].formatter = \"DOUBLE[#,##0.0000]\""
   ]
  },
  {
   "cell_type": "markdown",
   "id": "a0e3c485-3b67-45de-8da6-7b624cb36e71",
   "metadata": {},
   "source": [
    "### 5.3 Error Tracking\n",
    "\n",
    "We use the initial portfolio as the benchmark. \n",
    "\n",
    "$$Tracking\\ Error = {\\sigma(P-B)}$$\n",
    "\n",
    "Where  \n",
    "P = Daily Portfolio returns  \n",
    "B = Daily Portfolio returns of benchmark  \n",
    "\n",
    "💡 **Note:** Portfolio with `Opt Method` equals to `Base` is the benchmark."
   ]
  },
  {
   "cell_type": "code",
   "execution_count": 39,
   "id": "2fa270a6-c12f-42de-b21f-e9e3274da86d",
   "metadata": {},
   "outputs": [],
   "source": [
    "m[\"Benchmark\"] = tt.at(\n",
    "    m[\"Simulated Portfolio Returns Vector\"], (l[\"Opt Method\"] == \"Base\")\n",
    ")\n",
    "m[\"PnL vs Benchmark\"] = m[\"Simulated Portfolio Returns Vector\"] - m[\"Benchmark\"]\n",
    "\n",
    "m[\"Error tracking\"] = tt.array.std(m[\"PnL vs Benchmark\"], mode=\"population\")\n",
    "\n",
    "m[\"PnL vs Benchmark\"].formatter = \"DOUBLE[#,###.00000]\"\n",
    "m[\"Benchmark\"].formatter = \"DOUBLE[#,###.00000]\"\n",
    "m[\"Error tracking\"].formatter = \"DOUBLE[#,###.00000]\""
   ]
  },
  {
   "cell_type": "markdown",
   "id": "56feb56b-f6e4-4f57-92df-de5a7c720c4f",
   "metadata": {},
   "source": [
    "There is no data returned as we have yet to perform optimization."
   ]
  },
  {
   "cell_type": "code",
   "execution_count": 40,
   "id": "9294e4d1-2258-4ad9-90d5-a3925a2ea3c5",
   "metadata": {
    "atoti": {
     "widget": {
      "mapping": {
       "horizontalSubplots": [],
       "splitBy": [
        "ALL_MEASURES"
       ],
       "values": [
        "[Measures].[Error tracking]"
       ],
       "verticalSubplots": [],
       "xAxis": [
        "[Portfolios Allocation].[Portfolio].[Portfolio]",
        "[Portfolios Allocation].[Opt Method].[Opt Method]"
       ]
      },
      "query": {
       "mdx": "SELECT NON EMPTY {[Measures].[Error tracking]} ON COLUMNS, NON EMPTY Crossjoin(Hierarchize(Descendants({[Portfolios Allocation].[Portfolio].[AllMember]}, 1, SELF_AND_BEFORE)), [Portfolios Allocation].[Opt Method].[Opt Method].Members) ON ROWS FROM [Portfolio optimization] CELL PROPERTIES VALUE, FORMATTED_VALUE, BACK_COLOR, FORE_COLOR, FONT_FLAGS",
       "updateMode": "once"
      },
      "serverKey": "default",
      "style": {
       "areAxisTitlesVisible": true
      },
      "widgetKey": "plotly-clustered-column-chart"
     }
    },
    "tags": []
   },
   "outputs": [
    {
     "data": {
      "application/vnd.atoti.widget.v0+json": {
       "sessionId": "1755116718_031804",
       "sessionUrl": "http://localhost:12010",
       "widgetCreationCode": "session.widget"
      },
      "text/html": [
       "<img height=\"0\" width=\"0\" src=\"data:,\" />"
      ],
      "text/plain": [
       "Open the notebook in JupyterLab with the Atoti JupyterLab extension enabled to build this widget."
      ]
     },
     "metadata": {},
     "output_type": "display_data"
    }
   ],
   "source": [
    "session.widget"
   ]
  },
  {
   "cell_type": "markdown",
   "id": "239d2222-b3d1-4bde-b8f7-e8d5e6d8a65d",
   "metadata": {},
   "source": [
    "## 6. Access BI Web application"
   ]
  },
  {
   "cell_type": "markdown",
   "id": "c526ace9-10a7-46fb-aac6-49ac1205be7c",
   "metadata": {},
   "source": [
    "Access the below dashboard for Portfolio analysis."
   ]
  },
  {
   "cell_type": "code",
   "execution_count": 41,
   "id": "6d8a244f-5634-48fe-9d92-847f7f9a43dc",
   "metadata": {},
   "outputs": [
    {
     "data": {
      "application/vnd.atoti.link.v0+json": {
       "path": "#/dashboard/21a",
       "sessionUrl": "http://localhost:12010"
      },
      "text/plain": [
       "http://localhost:12010/#/dashboard/21a"
      ]
     },
     "execution_count": 41,
     "metadata": {},
     "output_type": "execute_result"
    }
   ],
   "source": [
    "session.link / \"#/dashboard/21a\""
   ]
  },
  {
   "cell_type": "markdown",
   "id": "0b5bb89a-d138-4e31-86d2-1906313c0951",
   "metadata": {},
   "source": [
    "Access the below dashboard for benchmarking comparisons."
   ]
  },
  {
   "cell_type": "code",
   "execution_count": 42,
   "id": "f44803bb-2e44-4eb2-a11d-aba2c5bceb7c",
   "metadata": {},
   "outputs": [
    {
     "data": {
      "application/vnd.atoti.link.v0+json": {
       "path": "#/dashboard/0c7",
       "sessionUrl": "http://localhost:12010"
      },
      "text/plain": [
       "http://localhost:12010/#/dashboard/0c7"
      ]
     },
     "execution_count": 42,
     "metadata": {},
     "output_type": "execute_result"
    }
   ],
   "source": [
    "session.link / \"#/dashboard/0c7\""
   ]
  },
  {
   "cell_type": "markdown",
   "id": "d7b806f8-91d0-4d55-9f45-3b204faec5fa",
   "metadata": {},
   "source": [
    "## 7. Integrate portfolio optimization \n",
    "\n",
    "Atoti is able to integrate with your own optimizer as shown below.  \n",
    "\n",
    "<img src=\"https://data.atoti.io/notebooks/cvar-optimisation/img/system_design3.png\" width=\"75%\" />\n",
    "\n",
    "With the Community Edition, we can add interactive components in JupyterLab Using iPyWidgets. This will allow a user to select a portfolio for optimization. After optimization, we can upload the optimized portfolio weights back into Atoti for benchmark comparison via any of the connectors.  \n",
    "\n",
    "Alternatively, with Atoti Python SDK, we can create custom widgets that allow us to interact with the endpoints, creating a seamless experience within the web application.  \n",
    "\n",
    "The optimizer we used is [PyPortfolioOpt](https://pyportfolioopt.readthedocs.io/en/latest/index.html). The optimize on different iteration with the followings:\n",
    "\n",
    "* Minimize the portfolio CVaR (min_cvar_weights).\n",
    "* Optimize for maximal Sharpe Ratio using the critical line algorithm (max_sharpe).\n",
    "* Optimize for minimum volatility from the initial weights (min_volatility).\n",
    "* Hierarchical risk parity ~ hierarchical clustering models (HRPOpt)."
   ]
  },
  {
   "cell_type": "code",
   "execution_count": 43,
   "id": "c341c9b7-cea2-4df9-8b2a-1532f36fcaa4",
   "metadata": {},
   "outputs": [],
   "source": [
    "helper_util = helper.Helper(session)"
   ]
  },
  {
   "cell_type": "code",
   "execution_count": 44,
   "id": "664a3754-dda2-44d4-9d15-a7d9c445fb91",
   "metadata": {},
   "outputs": [],
   "source": [
    "out = widgets.Output()\n",
    "\n",
    "\n",
    "@out.capture()\n",
    "def optimize_portfolio(b, _portfolio, _iteration):\n",
    "    b.disabled = True\n",
    "    _portfolio.disabled = True\n",
    "    _iteration.disabled = True\n",
    "\n",
    "    selected_port = _portfolio.value\n",
    "    iter_token = _iteration.value.split(\"|\")\n",
    "    print(\n",
    "        f\"Retrieving historical data for portfolio {selected_port} and iteration {_iteration}...\"\n",
    "    )\n",
    "\n",
    "    helper_util.query_and_optimize(selected_port, iter_token[1], iter_token[0])\n",
    "\n",
    "    button_refresh = widgets.Button(\n",
    "        description=\"Re-select portfolio\",\n",
    "        disabled=False,\n",
    "        button_style=\"info\",\n",
    "        tooltip=\"Re-select portfolio for optimization\",\n",
    "        icon=\"rotate\",\n",
    "    )\n",
    "\n",
    "    button_refresh.on_click(display_opt)\n",
    "\n",
    "    with out:\n",
    "        display(button_refresh)"
   ]
  },
  {
   "cell_type": "code",
   "execution_count": 45,
   "id": "5846e762-05cc-4c78-bc62-22759417252f",
   "metadata": {},
   "outputs": [],
   "source": [
    "def on_portfolio_change(_iteration_dropdown, change):\n",
    "    opt_mtd = helper_util.get_opt_mtd(change[\"new\"])\n",
    "    _iteration_dropdown.options = opt_mtd"
   ]
  },
  {
   "cell_type": "code",
   "execution_count": 46,
   "id": "a1a72a22-c334-4b61-96b1-bdf91a915ca5",
   "metadata": {},
   "outputs": [],
   "source": [
    "@out.capture()\n",
    "def on_upload_change(change):\n",
    "    input_file = list(change[\"new\"])[0]\n",
    "    content = input_file[\"content\"]\n",
    "    df = pd.read_csv(io.BytesIO(content))\n",
    "\n",
    "    tickers.get_new_tickers(df, session)"
   ]
  },
  {
   "cell_type": "code",
   "execution_count": 47,
   "id": "ebf2c9ab-d330-45dc-80c7-5a7ed463a71d",
   "metadata": {},
   "outputs": [],
   "source": [
    "def display_opt(_=None):\n",
    "    out.clear_output()\n",
    "    portfolio_df = cube.query(\n",
    "        m[\"contributors.COUNT\"],\n",
    "        levels=[l[(\"Portfolios Allocation\", \"Portfolio\", \"Portfolio\")]],\n",
    "    )\n",
    "\n",
    "    portfolio_list = portfolio_df.index.to_list()\n",
    "\n",
    "    portfolio_dropdown = widgets.Dropdown(\n",
    "        options=portfolio_list,\n",
    "        description=\"Portfolio:\",\n",
    "        disabled=False,\n",
    "        style={\"description_width\": \"150px\"},\n",
    "    )\n",
    "\n",
    "    iteration_dropdown = widgets.Dropdown(\n",
    "        options=helper_util.get_opt_mtd(portfolio_dropdown.value),\n",
    "        value=\"-|Base\",\n",
    "        description=\"Weights from iteration:\",\n",
    "        disabled=False,\n",
    "        style={\"description_width\": \"150px\"},\n",
    "    )\n",
    "\n",
    "    opt_button = widgets.Button(\n",
    "        description=\"Optimize\",\n",
    "        disabled=False,\n",
    "        button_style=\"info\",\n",
    "        tooltip=\"Optimize selected portfolio\",\n",
    "        icon=\"gear\",\n",
    "    )\n",
    "\n",
    "    opt_button.on_click(\n",
    "        functools.partial(\n",
    "            optimize_portfolio,\n",
    "            _portfolio=portfolio_dropdown,\n",
    "            _iteration=iteration_dropdown,\n",
    "        )\n",
    "    )\n",
    "\n",
    "    uploader = widgets.FileUpload(\n",
    "        accept=\".csv\",\n",
    "        multiple=False,\n",
    "        tooltip=\"Upload new portfolio\",\n",
    "    )\n",
    "\n",
    "    portfolio_dropdown.observe(\n",
    "        functools.partial(on_portfolio_change, iteration_dropdown),\n",
    "        names=[\"value\"],\n",
    "    )\n",
    "\n",
    "    uploader.observe(on_upload_change, \"value\")\n",
    "\n",
    "    hr = widgets.HTML(value=\"<hr/>\")\n",
    "\n",
    "    with out:\n",
    "        display(\n",
    "            widgets.VBox([portfolio_dropdown, iteration_dropdown, opt_button]),\n",
    "            hr,\n",
    "            widgets.HBox(\n",
    "                [widgets.Label(value=\"Upload new portfolio weights\"), uploader]\n",
    "            ),\n",
    "        )"
   ]
  },
  {
   "cell_type": "code",
   "execution_count": 48,
   "id": "1cc959d3-9223-410a-bd23-4165ff7e9b09",
   "metadata": {},
   "outputs": [
    {
     "data": {
      "application/vnd.jupyter.widget-view+json": {
       "model_id": "c50f8b26ee084cfb84779cb2e1f8e7bb",
       "version_major": 2,
       "version_minor": 0
      },
      "text/plain": [
       "Output()"
      ]
     },
     "execution_count": 48,
     "metadata": {},
     "output_type": "execute_result"
    }
   ],
   "source": [
    "display_opt()\n",
    "out"
   ]
  },
  {
   "cell_type": "markdown",
   "id": "7635efcb-8963-4bf7-9431-78a1d676e773",
   "metadata": {},
   "source": [
    "## 8. Compare against benchmark"
   ]
  },
  {
   "cell_type": "markdown",
   "id": "43612020-6e22-4404-89be-27ee9fbc832d",
   "metadata": {},
   "source": [
    "In a quick glance, we can see that the portfolio allocation by `min_cvar` is not well-spread, with all the weights allocated to TSLA.  \n",
    "We could tackle this problem in many ways. We will leave this problem to the next use case where we set constraints on the optimization to limit such problems. "
   ]
  },
  {
   "cell_type": "code",
   "execution_count": 49,
   "id": "05e088f3-3580-43ab-8171-dc76d6f14d5f",
   "metadata": {
    "atoti": {
     "height": 468,
     "widget": {
      "filters": [
       {
        "dimensionName": "Portfolios Allocation",
        "hierarchyName": "Portfolios",
        "includeAllMembers": false,
        "isExclusionFilter": false,
        "members": [
         [
          "AllMember",
          "P1"
         ]
        ],
        "type": "members"
       }
      ],
      "mapping": {
       "columns": [
        "ALL_MEASURES",
        "[Portfolios Allocation].[Opt Method].[Opt Method]"
       ],
       "measures": [
        "[Measures].[Weights.SUM]",
        "[Measures].[VaR]",
        "[Measures].[CVaR]"
       ],
       "rows": [
        "[Portfolios Allocation].[Portfolios].[Portfolio] => [Portfolios Allocation].[Portfolios].[Symbols]"
       ]
      },
      "name": "Comparison between portfolio 1 and corresponding optimized portfolio",
      "query": {
       "mdx": "SELECT NON EMPTY Hierarchize(Union(Descendants({[Portfolios Allocation].[Portfolios].[AllMember]}, 1, SELF_AND_BEFORE), Descendants({[Portfolios Allocation].[Portfolios].[AllMember].[P1]}, [Portfolios Allocation].[Portfolios].[Symbols]))) ON ROWS, NON EMPTY Crossjoin({[Measures].[Weights.SUM], [Measures].[VaR], [Measures].[CVaR]}, [Portfolios Allocation].[Opt Method].[Opt Method].Members) ON COLUMNS FROM [Portfolio optimization] CELL PROPERTIES VALUE, FORMATTED_VALUE, BACK_COLOR, FORE_COLOR, FONT_FLAGS",
       "updateMode": "once"
      },
      "queryContext": [
       {
        "key": "mdx.hiddengrandtotals",
        "value": "0,1"
       }
      ],
      "serverKey": "default",
      "style": {
       "measures": {
        "VaR": {
         "conditional": [
          {
           "eq": 0,
           "style": {
            "backgroundColor": "#D9D9D9"
           }
          }
         ]
        },
        "Weights.SUM": {
         "conditional": [
          {
           "eq": 0,
           "style": {
            "backgroundColor": "#D9D9D9"
           }
          }
         ]
        }
       }
      },
      "widgetKey": "pivot-table"
     }
    },
    "tags": []
   },
   "outputs": [
    {
     "data": {
      "application/vnd.atoti.widget.v0+json": {
       "sessionId": "1755116718_031804",
       "sessionUrl": "http://localhost:12010",
       "widgetCreationCode": "session.widget"
      },
      "text/html": [
       "<img height=\"0\" width=\"0\" src=\"data:,\" />"
      ],
      "text/plain": [
       "Open the notebook in JupyterLab with the Atoti JupyterLab extension enabled to build this widget."
      ]
     },
     "metadata": {},
     "output_type": "display_data"
    }
   ],
   "source": [
    "session.widget"
   ]
  },
  {
   "cell_type": "code",
   "execution_count": 50,
   "id": "8ca38066-a447-4946-8df7-e6d5cdb020b6",
   "metadata": {
    "atoti": {
     "widget": {
      "mapping": {
       "columns": [
        "[Confidence Level].[Confidence Level].[Confidence Level]",
        "ALL_MEASURES"
       ],
       "measures": [
        "[Measures].[VaR]",
        "[Measures].[CVaR]"
       ],
       "rows": [
        "[Portfolios Allocation].[Portfolio].[Portfolio]"
       ]
      },
      "name": "Portfolio VaR and CVaR at different confidence interval",
      "query": {
       "mdx": "SELECT NON EMPTY Hierarchize(Descendants({[Portfolios Allocation].[Portfolio].[ALL].[AllMember]}, 1, SELF_AND_BEFORE)) ON ROWS, NON EMPTY Crossjoin([Confidence Level].[Confidence Level].[Confidence Level].Members, {[Measures].[VaR], [Measures].[CVaR]}) ON COLUMNS FROM [Portfolio optimization] CELL PROPERTIES VALUE, FORMATTED_VALUE, BACK_COLOR, FORE_COLOR, FONT_FLAGS",
       "updateMode": "once"
      },
      "serverKey": "default",
      "widgetKey": "pivot-table"
     }
    },
    "tags": []
   },
   "outputs": [
    {
     "data": {
      "application/vnd.atoti.widget.v0+json": {
       "sessionId": "1755116718_031804",
       "sessionUrl": "http://localhost:12010",
       "widgetCreationCode": "session.widget"
      },
      "text/html": [
       "<img height=\"0\" width=\"0\" src=\"data:,\" />"
      ],
      "text/plain": [
       "Open the notebook in JupyterLab with the Atoti JupyterLab extension enabled to build this widget."
      ]
     },
     "metadata": {},
     "output_type": "display_data"
    }
   ],
   "source": [
    "session.widget"
   ]
  },
  {
   "cell_type": "markdown",
   "id": "822302c3-f8d0-49b6-a735-6e964752d7d6",
   "metadata": {},
   "source": [
    "For all confidence level, we can see the VaR and cVaR have been reduced significantly from the initial portfolio, particularly where we go for maximum Sharpe Ratio and minimum CVaR. In the chart below, we can shockingly see that `min_cvar` performs really well in terms of the cumulative returns."
   ]
  },
  {
   "cell_type": "code",
   "execution_count": 51,
   "id": "e2dbd437-7cf6-42a3-bba5-110d8b717630",
   "metadata": {
    "atoti": {
     "widget": {
      "filters": [
       {
        "dimensionName": "Portfolios Allocation",
        "hierarchyName": "Portfolios",
        "includeAllMembers": false,
        "isExclusionFilter": false,
        "members": [
         [
          "AllMember",
          "P1"
         ]
        ],
        "type": "members"
       }
      ],
      "mapping": {
       "horizontalSubplots": [],
       "secondaryValues": [],
       "splitBy": [
        "ALL_MEASURES",
        "[Portfolios Allocation].[Opt Method].[Opt Method]"
       ],
       "values": [
        "[Measures].[Since Inception ROR]"
       ],
       "verticalSubplots": [],
       "xAxis": [
        "[Historical Dates].[Historical Dates].[Historical Dates]"
       ]
      },
      "name": "Cumulative returns based on simulated weights",
      "query": {
       "mdx": "SELECT NON EMPTY Crossjoin({[Measures].[Since Inception ROR]}, [Portfolios Allocation].[Opt Method].[Opt Method].Members) ON COLUMNS, NON EMPTY Hierarchize(Descendants({[Historical Dates].[Historical Dates].[AllMember]}, 1, SELF_AND_BEFORE)) ON ROWS FROM [Portfolio optimization] CELL PROPERTIES VALUE, FORMATTED_VALUE, BACK_COLOR, FORE_COLOR, FONT_FLAGS",
       "updateMode": "once"
      },
      "serverKey": "default",
      "style": {
       "areAxisTitlesVisible": true
      },
      "widgetKey": "plotly-line-chart"
     }
    },
    "tags": []
   },
   "outputs": [
    {
     "data": {
      "application/vnd.atoti.widget.v0+json": {
       "sessionId": "1755116718_031804",
       "sessionUrl": "http://localhost:12010",
       "widgetCreationCode": "session.widget"
      },
      "text/html": [
       "<img height=\"0\" width=\"0\" src=\"data:,\" />"
      ],
      "text/plain": [
       "Open the notebook in JupyterLab with the Atoti JupyterLab extension enabled to build this widget."
      ]
     },
     "metadata": {},
     "output_type": "display_data"
    }
   ],
   "source": [
    "session.widget"
   ]
  },
  {
   "cell_type": "markdown",
   "id": "f3d578c3-0b18-4bb7-8267-f5f5abcc4d22",
   "metadata": {},
   "source": [
    "However, if we exclude `min_cvar` from the query, we can see that `max_sharpe` also performs very well. `min_volatility` which improves on the initial weights from the portfolio to minimize the volatility has just slightly better returns than the benchmark."
   ]
  },
  {
   "cell_type": "code",
   "execution_count": 52,
   "id": "96e69d0c-f5a9-4a58-8e7a-789b892edd67",
   "metadata": {
    "atoti": {
     "widget": {
      "filters": [
       {
        "dimensionName": "Portfolios Allocation",
        "hierarchyName": "Portfolios",
        "includeAllMembers": false,
        "isExclusionFilter": false,
        "members": [
         [
          "AllMember",
          "P1"
         ]
        ],
        "type": "members"
       }
      ],
      "mapping": {
       "horizontalSubplots": [],
       "secondaryValues": [],
       "splitBy": [
        "ALL_MEASURES",
        "[Portfolios Allocation].[Opt Method].[Opt Method]"
       ],
       "values": [
        "[Measures].[Since Inception ROR]"
       ],
       "verticalSubplots": [],
       "xAxis": [
        "[Historical Dates].[Historical Dates].[Historical Dates]"
       ]
      },
      "name": "Cumulative returns based on simulated weights",
      "query": {
       "mdx": "SELECT NON EMPTY Crossjoin({[Measures].[Since Inception ROR]}, [Portfolios Allocation].[Opt Method].[Opt Method].Members) ON COLUMNS, NON EMPTY Hierarchize(Descendants({[Historical Dates].[Historical Dates].[AllMember]}, 1, SELF_AND_BEFORE)) ON ROWS FROM [Portfolio optimization] CELL PROPERTIES VALUE, FORMATTED_VALUE, BACK_COLOR, FORE_COLOR, FONT_FLAGS",
       "updateMode": "once"
      },
      "serverKey": "default",
      "style": {
       "areAxisTitlesVisible": true
      },
      "widgetKey": "plotly-line-chart"
     }
    },
    "tags": []
   },
   "outputs": [
    {
     "data": {
      "application/vnd.atoti.widget.v0+json": {
       "sessionId": "1755116718_031804",
       "sessionUrl": "http://localhost:12010",
       "widgetCreationCode": "session.widget"
      },
      "text/html": [
       "<img height=\"0\" width=\"0\" src=\"data:,\" />"
      ],
      "text/plain": [
       "Open the notebook in JupyterLab with the Atoti JupyterLab extension enabled to build this widget."
      ]
     },
     "metadata": {},
     "output_type": "display_data"
    }
   ],
   "source": [
    "session.widget"
   ]
  },
  {
   "cell_type": "code",
   "execution_count": 53,
   "id": "d6ee810e-e5a3-4c3f-8d84-cbe695c01540",
   "metadata": {
    "atoti": {
     "height": 451,
     "widget": {
      "filters": [
       {
        "dimensionName": "Portfolios Allocation",
        "hierarchyName": "Portfolios",
        "includeAllMembers": false,
        "isExclusionFilter": false,
        "members": [
         [
          "AllMember",
          "P1"
         ]
        ],
        "type": "members"
       },
       {
        "dimensionName": "Historical Dates",
        "endDate": "2022-09-16",
        "hierarchyName": "Historical Dates",
        "isExclusionFilter": false,
        "isRollingDate": false,
        "isSingleDate": false,
        "levelName": "Historical Dates",
        "startDate": "2022-08-01",
        "type": "dateRange"
       }
      ],
      "mapping": {
       "horizontalSubplots": [],
       "secondaryValues": [],
       "splitBy": [
        "[Portfolios Allocation].[Opt Method].[Opt Method]",
        "ALL_MEASURES"
       ],
       "values": [
        "[Measures].[Daily Portfolio Returns]"
       ],
       "verticalSubplots": [],
       "xAxis": [
        "[Historical Dates].[Historical Dates].[Historical Dates]"
       ]
      },
      "name": "Portfolio 1 - Tracking error",
      "query": {
       "mdx": "SELECT NON EMPTY Crossjoin([Portfolios Allocation].[Opt Method].[Opt Method].Members, {[Measures].[Daily Portfolio Returns]}) ON COLUMNS, NON EMPTY Hierarchize(Descendants({[Historical Dates].[Historical Dates].[AllMember]}, 1, SELF_AND_BEFORE)) ON ROWS FROM [Portfolio optimization] CELL PROPERTIES VALUE, FORMATTED_VALUE, BACK_COLOR, FORE_COLOR, FONT_FLAGS",
       "updateMode": "once"
      },
      "serverKey": "default",
      "style": {
       "areAxisTitlesVisible": true
      },
      "widgetKey": "plotly-line-chart"
     }
    },
    "tags": []
   },
   "outputs": [
    {
     "data": {
      "application/vnd.atoti.widget.v0+json": {
       "sessionId": "1755116718_031804",
       "sessionUrl": "http://localhost:12010",
       "widgetCreationCode": "session.widget"
      },
      "text/html": [
       "<img height=\"0\" width=\"0\" src=\"data:,\" />"
      ],
      "text/plain": [
       "Open the notebook in JupyterLab with the Atoti JupyterLab extension enabled to build this widget."
      ]
     },
     "metadata": {},
     "output_type": "display_data"
    }
   ],
   "source": [
    "session.widget"
   ]
  },
  {
   "cell_type": "markdown",
   "id": "b24d57ea-0568-41c3-8100-861ac037a5bc",
   "metadata": {},
   "source": [
    "The larger the difference between the returns of the benchmark and target, the higher the tracking error. Tracking error does not reflect if it's outperforming or underperforming, but generally, a high tracking error is preferred in the event that there is a certain degree of outperformance. Otherwise, a low tracking error is preferred during consistent underperformance.  \n",
    "\n",
    "We can see `min_cvar` method has higher fluctuations from the `Base` compared to the other algorithms, therefore a higher tracking error as well."
   ]
  },
  {
   "cell_type": "code",
   "execution_count": 54,
   "id": "fc27fc59-fd22-4c0c-aa5e-9265c09549fc",
   "metadata": {
    "atoti": {
     "height": 153,
     "widget": {
      "filters": [
       {
        "dimensionName": "Portfolios Allocation",
        "hierarchyName": "Portfolios",
        "includeAllMembers": false,
        "isExclusionFilter": false,
        "members": [
         [
          "AllMember",
          "P1"
         ]
        ],
        "type": "members"
       },
       {
        "dimensionName": "Portfolios Allocation",
        "hierarchyName": "Opt Method",
        "includeAllMembers": false,
        "isExclusionFilter": false,
        "members": [
         [
          "Base"
         ]
        ],
        "type": "members"
       }
      ],
      "mapping": {
       "columns": [
        "[Portfolios Allocation].[Opt Method].[Opt Method]"
       ],
       "measures": [
        "[Measures].[Error tracking]"
       ],
       "rows": []
      },
      "name": "Error tracking",
      "query": {
       "mdx": "SELECT NON EMPTY Crossjoin([Portfolios Allocation].[Opt Method].[Opt Method].Members, {[Measures].[Error tracking]}) ON COLUMNS FROM [Portfolio optimization] CELL PROPERTIES VALUE, FORMATTED_VALUE, BACK_COLOR, FORE_COLOR, FONT_FLAGS",
       "updateMode": "once"
      },
      "serverKey": "default",
      "widgetKey": "kpi"
     }
    },
    "tags": []
   },
   "outputs": [
    {
     "data": {
      "application/vnd.atoti.widget.v0+json": {
       "sessionId": "1755116718_031804",
       "sessionUrl": "http://localhost:12010",
       "widgetCreationCode": "session.widget"
      },
      "text/html": [
       "<img height=\"0\" width=\"0\" src=\"data:,\" />"
      ],
      "text/plain": [
       "Open the notebook in JupyterLab with the Atoti JupyterLab extension enabled to build this widget."
      ]
     },
     "metadata": {},
     "output_type": "display_data"
    }
   ],
   "source": [
    "session.widget"
   ]
  },
  {
   "cell_type": "markdown",
   "id": "da9129ec-7403-4900-b5b7-0ba705fcb153",
   "metadata": {},
   "source": [
    "The Sharpe ratio compares the return of an investment with its risk. Therefore, a higher Sharpe ratio is better. From the below table, the portfolio weight returned by the `min_cvar` method gives the highest Sharpe ratio. But is it really the best portfolio to have?"
   ]
  },
  {
   "cell_type": "code",
   "execution_count": 55,
   "id": "2345e072-d3dd-4409-81f2-a3e64c423de9",
   "metadata": {
    "atoti": {
     "height": 270,
     "widget": {
      "columnWidths": {
       "[Measures].[SR Opt vs Benchmark]": 178.734375
      },
      "filters": [
       {
        "dimensionName": "Portfolios Allocation",
        "hierarchyName": "Portfolios",
        "includeAllMembers": false,
        "isExclusionFilter": false,
        "members": [
         [
          "AllMember",
          "P1"
         ]
        ],
        "type": "members"
       }
      ],
      "mapping": {
       "columns": [
        "ALL_MEASURES"
       ],
       "measures": [
        "[Measures].[Sharpe ratio]",
        "[Measures].[SR Benchmark]",
        "[Measures].[SR Opt vs Benchmark]"
       ],
       "rows": [
        "[Portfolios Allocation].[Portfolio].[Portfolio]",
        "[Portfolios Allocation].[Opt Method].[Opt Method]"
       ]
      },
      "name": "Benchmarking by Sharpe ratio",
      "query": {
       "mdx": "SELECT NON EMPTY Crossjoin(Hierarchize(Descendants({[Portfolios Allocation].[Portfolio].[AllMember]}, 1, SELF_AND_BEFORE)), [Portfolios Allocation].[Opt Method].[Opt Method].Members) ON ROWS, NON EMPTY {[Measures].[Sharpe ratio], [Measures].[SR Benchmark], [Measures].[SR Opt vs Benchmark]} ON COLUMNS FROM [Portfolio optimization] CELL PROPERTIES VALUE, FORMATTED_VALUE, BACK_COLOR, FORE_COLOR, FONT_FLAGS",
       "updateMode": "once"
      },
      "queryContext": [
       {
        "key": "mdx.hiddengrandtotals",
        "value": "1"
       },
       {
        "key": "mdx.hiddensubtotals",
        "value": "[Portfolios Allocation].[Portfolio].[Portfolio]"
       }
      ],
      "serverKey": "default",
      "style": {
       "measures": {
        "SR Opt vs Benchmark": {
         "conditional": [
          {
           "gt": 0,
           "style": {
            "backgroundColor": "#BAE3B1"
           }
          }
         ]
        }
       }
      },
      "widgetKey": "pivot-table"
     }
    },
    "tags": []
   },
   "outputs": [
    {
     "data": {
      "application/vnd.atoti.widget.v0+json": {
       "sessionId": "1755116718_031804",
       "sessionUrl": "http://localhost:12010",
       "widgetCreationCode": "session.widget"
      },
      "text/html": [
       "<img height=\"0\" width=\"0\" src=\"data:,\" />"
      ],
      "text/plain": [
       "Open the notebook in JupyterLab with the Atoti JupyterLab extension enabled to build this widget."
      ]
     },
     "metadata": {},
     "output_type": "display_data"
    }
   ],
   "source": [
    "session.widget"
   ]
  },
  {
   "cell_type": "markdown",
   "id": "76678aa2-b942-4cb7-a34e-da3176389bcc",
   "metadata": {},
   "source": [
    "## 9. Endpoints for Atoti rest services"
   ]
  },
  {
   "cell_type": "markdown",
   "id": "8137fd93-e23c-4d4d-b44a-7251d7bbf416",
   "metadata": {},
   "source": [
    "Instead of adding a FastAPI or Flask server to the project, we could create [endpoints](https://docs.atoti.io/latest/api/atoti.Session.endpoint.html#atoti.Session.endpoint) to re-use Atoti's built-in server.  \n",
    "\n",
    "The below endpoints are meant for interaction between the custom UI widgets in the web application and the Atoti server. Remember to run the notebook with `atoti_unlock` set to `True`. "
   ]
  },
  {
   "cell_type": "code",
   "execution_count": 56,
   "id": "6dd27759-5ae6-40c2-b662-5c247552d154",
   "metadata": {},
   "outputs": [],
   "source": [
    "@session.endpoint(\"getIteration/{portfolio}\", method=\"GET\")\n",
    "def get_iteration(request, user, session):\n",
    "    portfolio = request.path_parameters[\"portfolio\"]\n",
    "\n",
    "    helper_util = helper.Helper(session)\n",
    "    opt_mtd = helper_util.get_opt_mtd(portfolio)\n",
    "\n",
    "    return opt_mtd"
   ]
  },
  {
   "cell_type": "code",
   "execution_count": 57,
   "id": "f5ea8878-7a63-4dc3-bf44-710e184e8c12",
   "metadata": {},
   "outputs": [],
   "source": [
    "@session.endpoint(\"optimize\", method=\"POST\")\n",
    "def trigger_optimization(request, user, session):\n",
    "    helper_util = helper.Helper(session)\n",
    "    data = request.body\n",
    "\n",
    "    selected_port = data[\"portfolio\"]\n",
    "    selected_method = data[\"method\"]\n",
    "    selected_iteration = data[\"iteration\"]\n",
    "    helper_util.query_and_optimize(selected_port, selected_method, selected_iteration)\n",
    "    return f\"hello {selected_port}, {selected_method}, {selected_iteration} \""
   ]
  },
  {
   "cell_type": "code",
   "execution_count": 58,
   "id": "36e132db-a3e6-4a22-8aa9-2865ca78fa3e",
   "metadata": {},
   "outputs": [],
   "source": [
    "@session.endpoint(\"upload/portfolio\", method=\"POST\")\n",
    "def upload_portfolio(request, user, session):\n",
    "    helper_util = helper.Helper(session)\n",
    "    data = request.body\n",
    "    portfolio = data[\"portfolio\"]\n",
    "\n",
    "    df = pd.DataFrame(data=portfolio[1:], columns=portfolio[0])\n",
    "    df.dropna(inplace=True)\n",
    "    df[\"Weights\"] = pd.to_numeric(df[\"Weights\"])\n",
    "    tickers.get_new_tickers(df, session)\n",
    "\n",
    "    return \"Porfolio(s) uploaded successfully\""
   ]
  },
  {
   "cell_type": "markdown",
   "id": "0f67c575-3cc0-44ca-9b54-6f3eea01ba98",
   "metadata": {},
   "source": [
    "Access the web application and have fun. Note that the web application varies between Atoti and the Atoti Community Edition in this use case. You will only be able to access the custom widgets when `atoti_unlock` set to `True`. "
   ]
  },
  {
   "cell_type": "code",
   "execution_count": 59,
   "id": "adbf1ef5-b29b-4d1d-bfbd-a1e060baf7b4",
   "metadata": {},
   "outputs": [
    {
     "data": {
      "application/vnd.atoti.link.v0+json": {
       "path": "",
       "sessionUrl": "http://localhost:12010"
      },
      "text/plain": [
       "http://localhost:12010"
      ]
     },
     "execution_count": 59,
     "metadata": {},
     "output_type": "execute_result"
    }
   ],
   "source": [
    "session.link"
   ]
  },
  {
   "cell_type": "markdown",
   "id": "40e576b0-9292-4e8a-8c8a-98a5c6ad6bc2",
   "metadata": {},
   "source": [
    "## Conclusion\n",
    "\n",
    "Personally speaking, I would go for the optimization by `max_sharpe` as we greatly reduced the VaR and cVaR. It also has one of the better Sharpe Ratio. The portfolio is more balanced compared to the portfolio suggested by `min_cvar`, even though it might reap lesser returns.  \n",
    "\n",
    "We have demonstrated how we could quickly integrate multiple processes together:\n",
    "\n",
    "- Streaming of historical data from Yahoo Finance into Atoti.\n",
    "- Optimization of portfolio using third party optimizer (PyPortfolioOpt in this case).\n",
    "- Perform benchmarking with interactive dashboards in Atoti.\n",
    "\n",
    "\n",
    "💡 **Note:** Don't have Atoti license yet? [Request online for a trial license](https://atoti.io/evaluation-license-request/)! Alternatively, reach out to [ActiveViam](https://www.activeviam.com/contact-us/) for a demonstration to see how we integrate the CVaR optimization program into the BI analytics platform! Stay tuned as we explore how we can add constraints to the optimization."
   ]
  },
  {
   "cell_type": "markdown",
   "id": "77b0c3fa-5641-4208-9c9b-4799a1e4f0e6",
   "metadata": {},
   "source": [
    "<div style=\"text-align: center;\" ><a href=\"https://www.atoti.io/?utm_source=gallery&utm_content=cvar-optimizer\" target=\"_blank\" rel=\"noopener noreferrer\"><img src=\"https://data.atoti.io/notebooks/banners/Your-turn-to-try-Atoti.jpg\" alt=\"Try Atoti\"></a></div>"
   ]
  }
 ],
 "metadata": {
  "kernelspec": {
   "display_name": "Python 3 (ipykernel)",
   "language": "python",
   "name": "python3"
  },
  "language_info": {
   "codemirror_mode": {
    "name": "ipython",
    "version": 3
   },
   "file_extension": ".py",
   "mimetype": "text/x-python",
   "name": "python",
   "nbconvert_exporter": "python",
   "pygments_lexer": "ipython3",
   "version": "3.11.10"
  },
  "vscode": {
   "interpreter": {
    "hash": "58cc9cd23dbb157cffad65fae2deee50ba83cbd341dd223a45c48420e15a2792"
   }
  },
  "widgets": {
   "application/vnd.jupyter.widget-state+json": {
    "state": {
     "122f88b7e0e841b39a5cdee5b93617f6": {
      "model_module": "@jupyter-widgets/controls",
      "model_module_version": "2.0.0",
      "model_name": "HTMLStyleModel",
      "state": {
       "description_width": "",
       "font_size": null,
       "text_color": null
      }
     },
     "18f4507904b44db2815f815f07c13f6e": {
      "model_module": "@jupyter-widgets/base",
      "model_module_version": "2.0.0",
      "model_name": "LayoutModel",
      "state": {}
     },
     "23e525be0e064d61a87e6288dba2ac84": {
      "model_module": "@jupyter-widgets/base",
      "model_module_version": "2.0.0",
      "model_name": "LayoutModel",
      "state": {}
     },
     "25d0a6b2f365486c8bd6959e7094a6df": {
      "model_module": "@jupyter-widgets/controls",
      "model_module_version": "2.0.0",
      "model_name": "DescriptionStyleModel",
      "state": {
       "description_width": "150px"
      }
     },
     "274e0750f970467a8b3e2853fcab4963": {
      "model_module": "@jupyter-widgets/controls",
      "model_module_version": "2.0.0",
      "model_name": "ButtonStyleModel",
      "state": {
       "font_family": null,
       "font_size": null,
       "font_style": null,
       "font_variant": null,
       "font_weight": null,
       "text_color": null,
       "text_decoration": null
      }
     },
     "7800ce6944a8426898cf3c476668a630": {
      "model_module": "@jupyter-widgets/base",
      "model_module_version": "2.0.0",
      "model_name": "LayoutModel",
      "state": {}
     },
     "a95c1c7f2e154326b511173ac3d04a20": {
      "model_module": "@jupyter-widgets/controls",
      "model_module_version": "2.0.0",
      "model_name": "VBoxModel",
      "state": {
       "children": [
        "IPY_MODEL_c1a0c08513a3424ab60216ab8d4e34e9",
        "IPY_MODEL_d0c3a5fa11924ba79d3bb9ce06f173b1",
        "IPY_MODEL_aa6751b59bba464d9e68d0a7c3477d70"
       ],
       "layout": "IPY_MODEL_23e525be0e064d61a87e6288dba2ac84"
      }
     },
     "aa6751b59bba464d9e68d0a7c3477d70": {
      "model_module": "@jupyter-widgets/controls",
      "model_module_version": "2.0.0",
      "model_name": "ButtonModel",
      "state": {
       "button_style": "info",
       "description": "Optimize",
       "icon": "gear",
       "layout": "IPY_MODEL_18f4507904b44db2815f815f07c13f6e",
       "style": "IPY_MODEL_c23665f9bf034f69af33cbca733bbc34",
       "tooltip": "Optimize selected portfolio"
      }
     },
     "bbb9814f4e2e49528c2c10528bfda70b": {
      "model_module": "@jupyter-widgets/base",
      "model_module_version": "2.0.0",
      "model_name": "LayoutModel",
      "state": {}
     },
     "c1a0c08513a3424ab60216ab8d4e34e9": {
      "model_module": "@jupyter-widgets/controls",
      "model_module_version": "2.0.0",
      "model_name": "DropdownModel",
      "state": {
       "_options_labels": [
        "P1",
        "P2"
       ],
       "description": "Portfolio:",
       "index": 0,
       "layout": "IPY_MODEL_bbb9814f4e2e49528c2c10528bfda70b",
       "style": "IPY_MODEL_c3e18e6be6c74a48b7869c578df9d4a7"
      }
     },
     "c23665f9bf034f69af33cbca733bbc34": {
      "model_module": "@jupyter-widgets/controls",
      "model_module_version": "2.0.0",
      "model_name": "ButtonStyleModel",
      "state": {
       "font_family": null,
       "font_size": null,
       "font_style": null,
       "font_variant": null,
       "font_weight": null,
       "text_color": null,
       "text_decoration": null
      }
     },
     "c3e18e6be6c74a48b7869c578df9d4a7": {
      "model_module": "@jupyter-widgets/controls",
      "model_module_version": "2.0.0",
      "model_name": "DescriptionStyleModel",
      "state": {
       "description_width": "150px"
      }
     },
     "c50f8b26ee084cfb84779cb2e1f8e7bb": {
      "model_module": "@jupyter-widgets/output",
      "model_module_version": "1.0.0",
      "model_name": "OutputModel",
      "state": {
       "layout": "IPY_MODEL_c6aaca8b19b84ff9b92716e8218193ae",
       "outputs": [
        {
         "data": {
          "application/vnd.jupyter.widget-view+json": {
           "model_id": "a95c1c7f2e154326b511173ac3d04a20",
           "version_major": 2,
           "version_minor": 0
          },
          "text/plain": "VBox(children=(Dropdown(description='Portfolio:', options=('P1', 'P2'), style=DescriptionStyle(description_wid…"
         },
         "metadata": {},
         "output_type": "display_data"
        },
        {
         "data": {
          "application/vnd.jupyter.widget-view+json": {
           "model_id": "f73a0f984219493d9630a9871444ea5b",
           "version_major": 2,
           "version_minor": 0
          },
          "text/plain": "HTML(value='<hr/>')"
         },
         "metadata": {},
         "output_type": "display_data"
        },
        {
         "data": {
          "application/vnd.jupyter.widget-view+json": {
           "model_id": "dd484a507d474dbfa848c69e94d380c4",
           "version_major": 2,
           "version_minor": 0
          },
          "text/plain": "HBox(children=(Label(value='Upload new portfolio weights'), FileUpload(value=(), accept='.csv', description='U…"
         },
         "metadata": {},
         "output_type": "display_data"
        }
       ]
      }
     },
     "c6aaca8b19b84ff9b92716e8218193ae": {
      "model_module": "@jupyter-widgets/base",
      "model_module_version": "2.0.0",
      "model_name": "LayoutModel",
      "state": {}
     },
     "cab1abafb1874614a11b38c2bce8025c": {
      "model_module": "@jupyter-widgets/controls",
      "model_module_version": "2.0.0",
      "model_name": "FileUploadModel",
      "state": {
       "accept": ".csv",
       "description_allow_html": false,
       "layout": "IPY_MODEL_e1cbde47781d4d66add9e0b1e6ca0b71",
       "style": "IPY_MODEL_274e0750f970467a8b3e2853fcab4963",
       "tooltip": "Upload new portfolio"
      }
     },
     "d0c3a5fa11924ba79d3bb9ce06f173b1": {
      "model_module": "@jupyter-widgets/controls",
      "model_module_version": "2.0.0",
      "model_name": "DropdownModel",
      "state": {
       "_options_labels": [
        "-|Base"
       ],
       "description": "Weights from iteration:",
       "index": 0,
       "layout": "IPY_MODEL_7800ce6944a8426898cf3c476668a630",
       "style": "IPY_MODEL_25d0a6b2f365486c8bd6959e7094a6df"
      }
     },
     "db1aaf81143247da976ed87815753e99": {
      "model_module": "@jupyter-widgets/controls",
      "model_module_version": "2.0.0",
      "model_name": "LabelModel",
      "state": {
       "layout": "IPY_MODEL_fab2beb189d94242b2e7660f50a565e3",
       "style": "IPY_MODEL_f87425725bb84005b72c088a552f4915",
       "value": "Upload new portfolio weights"
      }
     },
     "dd484a507d474dbfa848c69e94d380c4": {
      "model_module": "@jupyter-widgets/controls",
      "model_module_version": "2.0.0",
      "model_name": "HBoxModel",
      "state": {
       "children": [
        "IPY_MODEL_db1aaf81143247da976ed87815753e99",
        "IPY_MODEL_cab1abafb1874614a11b38c2bce8025c"
       ],
       "layout": "IPY_MODEL_fb8b2d7d0b9546579409355400c40506"
      }
     },
     "e1cbde47781d4d66add9e0b1e6ca0b71": {
      "model_module": "@jupyter-widgets/base",
      "model_module_version": "2.0.0",
      "model_name": "LayoutModel",
      "state": {}
     },
     "f6295c64adba49cbb9269a8cf87a9d6d": {
      "model_module": "@jupyter-widgets/base",
      "model_module_version": "2.0.0",
      "model_name": "LayoutModel",
      "state": {}
     },
     "f73a0f984219493d9630a9871444ea5b": {
      "model_module": "@jupyter-widgets/controls",
      "model_module_version": "2.0.0",
      "model_name": "HTMLModel",
      "state": {
       "layout": "IPY_MODEL_f6295c64adba49cbb9269a8cf87a9d6d",
       "style": "IPY_MODEL_122f88b7e0e841b39a5cdee5b93617f6",
       "value": "<hr/>"
      }
     },
     "f87425725bb84005b72c088a552f4915": {
      "model_module": "@jupyter-widgets/controls",
      "model_module_version": "2.0.0",
      "model_name": "LabelStyleModel",
      "state": {
       "description_width": "",
       "font_family": null,
       "font_size": null,
       "font_style": null,
       "font_variant": null,
       "font_weight": null,
       "text_color": null,
       "text_decoration": null
      }
     },
     "fab2beb189d94242b2e7660f50a565e3": {
      "model_module": "@jupyter-widgets/base",
      "model_module_version": "2.0.0",
      "model_name": "LayoutModel",
      "state": {}
     },
     "fb8b2d7d0b9546579409355400c40506": {
      "model_module": "@jupyter-widgets/base",
      "model_module_version": "2.0.0",
      "model_name": "LayoutModel",
      "state": {}
     }
    },
    "version_major": 2,
    "version_minor": 0
   }
  }
 },
 "nbformat": 4,
 "nbformat_minor": 5
}
