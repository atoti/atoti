{
 "cells": [
  {
   "cell_type": "markdown",
   "id": "ac3fbb12-82a8-4e9f-aa4e-e1ad414ce283",
   "metadata": {},
   "source": [
    "# DirectQuery: Combining Atoti and Data Warehouses"
   ]
  },
  {
   "cell_type": "markdown",
   "id": "a671e16d-c06b-432f-92c6-5b2d2f7043bd",
   "metadata": {},
   "source": [
    "We know Atoti provides in-memory analytics for big data. This means that we hold data in memory and perform aggregation on the fly in order to achieve fast and dynamic computations. In our usual Atoti setup, the hosting server requires a memory size that's about 1.5 times of the amount of data that gets loaded into the cube. However, with Atoti's DirectQuery, we can better support our users who store their data on the cloud! In fact, it applies for on-premise databases such as [ClickHouse](https://clickhouse.com/clickhouse) and [Microsoft SQL Server](https://www.microsoft.com/en-sg/sql-server/sql-server-downloads) too.  \n",
    "\n",
    "<img src=\"https://data.atoti.io/notebooks/direct-query/img/cost_vs_performance.png\" width=\"850px\"/>\n",
    "\n",
    "In a gist, here's what DirectQuery offers:  \n",
    "\n",
    "- Scalability\n",
    "\n",
    "> Leveraging the scalability of cloud data warehouse, the server that hosts Atoti only has to take into consideration the amount of data that gets queried on a daily basis.  \n",
    "> Instead of storing all of the data in physical memory, DirectQuery enables us to query the Cloud database directly, reducing the need for memory in the hosting server.  \n",
    "\n",
    "- Cost savings\n",
    "\n",
    "> Other than saving on the memory required for the hosting server, DirectQuery helps to save on the data transfer costs.  \n",
    "> While cloud data warehouse is cost-effective, we incur costs when we perform queries.  \n",
    "> We can reduce querying to the Cloud database by loading an aggregated cache in memory for the most frequently queried data.  \n",
    "\n",
    "- Technology agnosticism\n",
    "\n",
    "> With changes to only a few lines of data connectivity code in Atoti, we can easily switch from one Cloud service provider to another without impacting the Atoti server.  \n",
    "> We can even switch over to other data connectors such as physical files.  \n",
    "\n",
    "\n",
    "This notebook provides a quick introduction to how we can connect to Google BigQuery and create an Atoti cube."
   ]
  },
  {
   "cell_type": "markdown",
   "id": "f23aeb88-5455-44ee-892d-4aa7fc2dbfb7",
   "metadata": {},
   "source": [
    "<div style=\"text-align: center;\" ><a href=\"https://www.atoti.io/?utm_source=gallery&utm_content=directquery-intro\" target=\"_blank\" rel=\"noopener noreferrer\"><img src=\"https://data.atoti.io/notebooks/banners/Discover-Atoti-now.png\" alt=\"Try Atoti\"></a></div>"
   ]
  },
  {
   "cell_type": "markdown",
   "id": "663b2051-11e1-4815-8a2c-fde3d450d07b",
   "metadata": {},
   "source": [
    "## Google BigQuery configuration"
   ]
  },
  {
   "cell_type": "markdown",
   "id": "1db76b03-dbe0-4223-a656-8b7e9e2ff260",
   "metadata": {},
   "source": [
    "### Step 1 — Create role with permissions\n",
    "\n",
    "- Login to Google Cloud console.\n",
    "- Navigate to __IAM & Admin__ > __Roles__.  \n",
    "- Create a role with the following permission for the DirectQuery users:  \n",
    "    - `bigquery.datasets.get`\n",
    "    - `bigquery.jobs.create`\n",
    "    - `bigquery.readsessions.create`\n",
    "    - `bigquery.readsessions.getData`\n",
    "    - `bigquery.readsessions.update`\n",
    "    - `bigquery.routines.get`\n",
    "    - `bigquery.tables.get`\n",
    "    - `bigquery.tables.getData`\n",
    "    - `bigquery.tables.list`\n",
    "\n",
    "⚠️ **Important:** Having trouble pulling your data after setting up your account? Confirm that the above permissions have been set up properly!  \n",
    "\n",
    "<img src=\"https://data.atoti.io/notebooks/direct-query/img/bigquery_permission.png\" />\n",
    "\n",
    "💡 **Note:** For more details, refer to the [Atoti Server documentation](https://docs.activeviam.com/products/atoti/server/latest/docs/directquery/connect_to_external/connect_to_bigquery/)."
   ]
  },
  {
   "cell_type": "markdown",
   "id": "2143280e-d2b0-4da1-b20d-78af65d26753",
   "metadata": {},
   "source": [
    "### Step 2 — Create Service Account\n",
    "\n",
    "* Under **IAM & Admin**, navigate to **Service Accounts**.\n",
    "* Create a service account and assign the role created in Step 1.\n",
    "\n",
    "    <img src=\"https://data.atoti.io/notebooks/direct-query/img/service_account.png\" width=\"700px\"/>  "
   ]
  },
  {
   "cell_type": "markdown",
   "id": "03e75ceb-055a-4986-aa8d-6858422b260a",
   "metadata": {
    "tags": []
   },
   "source": [
    "### Step 3 — Generate API Key \n",
    "\n",
    "- Navigate to the __KEYS__ tab and generate a new key.  \n",
    "\n",
    "    <img src=\"https://data.atoti.io/notebooks/direct-query/img/create_key.png\" />  \n",
    "\n",
    "- Select `JSON` as key type and save the downloaded key to a server folder:  \n",
    "\n",
    "    <img src=\"https://data.atoti.io/notebooks/direct-query/img/json_key.png\" />\n",
    "\n",
    "- Configure environment variable pointing to the JSON key. In this use case, our environment variable is `DQ_GOOGLE_CREDENTIAL`:  \n",
    "\n",
    "    <img src=\"https://data.atoti.io/notebooks/direct-query/img/environment_variable.png\" />  \n",
    "\n",
    "💡 **Note:** Alternatively, we can set up [Application Default Credentials](https://cloud.google.com/docs/authentication/provide-credentials-adc) for authentication.  "
   ]
  },
  {
   "cell_type": "markdown",
   "id": "95e30413-d630-4b1b-a304-d824e9649c3d",
   "metadata": {},
   "source": [
    "## Database set up  \n",
    "\n",
    "To try out this notebook, you can setup the database schema and tables using the [database script](db_schema.sql) in the use case folder.  "
   ]
  },
  {
   "cell_type": "markdown",
   "id": "fcfd6d72-801a-460c-9e1f-4e0843909442",
   "metadata": {},
   "source": [
    "## Atoti Setup"
   ]
  },
  {
   "cell_type": "markdown",
   "id": "8857ebb1-032f-4b69-84e6-b8cf7e431def",
   "metadata": {},
   "source": [
    "We import [Atoti](https://docs.atoti.io/latest/getting_started/installation.html) library and create the [Atoti Session](https://docs.atoti.io/latest/api/atoti.Session.html#atoti.Session) as we always do.  "
   ]
  },
  {
   "cell_type": "code",
   "execution_count": 1,
   "id": "7d97f0ea-5b39-4c60-9a10-1cae5a22616d",
   "metadata": {
    "tags": []
   },
   "outputs": [],
   "source": [
    "import os\n",
    "import atoti as tt"
   ]
  },
  {
   "cell_type": "code",
   "execution_count": 2,
   "id": "3898f076-a031-49b7-a75f-074008d89a26",
   "metadata": {
    "tags": []
   },
   "outputs": [],
   "source": [
    "session = tt.Session.start()"
   ]
  },
  {
   "cell_type": "markdown",
   "id": "9e855ec8-18bb-46fa-8e99-751edafeb94c",
   "metadata": {},
   "source": [
    "## DirectQuery Prerequisites"
   ]
  },
  {
   "cell_type": "markdown",
   "id": "01a8923b-80b3-4bfd-86a0-2d705d4bb805",
   "metadata": {},
   "source": [
    "DirectQuery supports a few [databases](https://docs.atoti.io/latest/reference.html#directquery). For each of these databases, we have to install its respective Python plugin.  \n",
    "- `atoti-directquery-bigquery` : To use DirectQuery on Google BigQuery.\n",
    "- `atoti-directquery-clickhouse` : To use DirectQuery with ClickHouse.\n",
    "- `atoti-directquery-databricks` : To use DirectQuery on Databricks.\n",
    "- `atoti-directquery-mssql` : To use DirectQuery with Microsoft SQL Server.\n",
    "- `atoti-directquery-redshift` : To use DirectQuery on Amazon Redshift.\n",
    "- `atoti-directquery-snowflake` : To use DirectQuery on Snowflake.\n",
    "- `atoti-directquery-synapse` : To use DirectQuery on Azure Synapse Analytics.  \n",
    "\n",
    "In our example, we install the plugin for Google BigQuery. Uncomment the below line to install the plugin if it isn't installed.  \n",
    "\n",
    "⚠️ **Important:** We only support one type of database connection per Atoti session."
   ]
  },
  {
   "cell_type": "code",
   "execution_count": 3,
   "id": "af8780d7-ec54-481a-98d7-4cc9f7e030c1",
   "metadata": {
    "tags": []
   },
   "outputs": [],
   "source": [
    "# !uv pip install \"atoti[directquery-bigquery]\""
   ]
  },
  {
   "cell_type": "markdown",
   "id": "1d997a63-e2db-48f9-b501-0532c5eabb3d",
   "metadata": {},
   "source": [
    "We will be using two components from the DirectQueryPlugin:\n",
    "- [BigqueryConnectionInfo](https://docs.atoti.io/latest/api/atoti_directquery_bigquery.BigqueryConnectionInfo.html#atoti_directquery_bigquery.BigqueryConnectionInfo): Configure the connection information to BigQuery.\n",
    "- [BigqueryTableOptions](https://docs.atoti.io/latest/api/atoti_directquery_bigquery.BigqueryTableOptions.html#atoti_directquery_bigquery.BigqueryTableOptions): Configure the table options about the external table to create in Atoti.  \n",
    "\n",
    "⚠️ **Important:** Use the corresponding components for different databases if we are using a different one from BigQuery. E.g. we use [`ClickhouseConnectionInfo`](https://docs.atoti.io/latest/api/atoti_directquery_clickhouse.ClickhouseConnectionInfo.html#atoti_directquery_clickhouse.ClickhouseConnectionInfo) and [`ClickhouseTableOptions`](https://docs.atoti.io/latest/api/atoti_directquery_clickhouse.ClickhouseTableOptions.html#atoti_directquery_clickhouse.ClickhouseTableOptions) if we are connecting to [ClickHouse](https://clickhouse.com/)."
   ]
  },
  {
   "cell_type": "markdown",
   "id": "4509d71b-4d1b-4297-b18a-10430b128507",
   "metadata": {},
   "source": [
    "## Connection setup to Google BigQuery"
   ]
  },
  {
   "cell_type": "code",
   "execution_count": 4,
   "id": "f5eb2f90-be60-4332-80d2-1a5cd83147d4",
   "metadata": {
    "tags": []
   },
   "outputs": [],
   "source": [
    "from atoti_directquery_bigquery import ConnectionConfig"
   ]
  },
  {
   "cell_type": "markdown",
   "id": "00b90385-93af-479f-888a-bc0677f73eb2",
   "metadata": {},
   "source": [
    "In the below snippet, we use the environment variable to obtain the path to the [API key generated previous in Step 3](#Step-3-—-Generate-API-Key). Setting the credential path into `BigqueryConnectionInfo`, we can invoke the connection to the external database.  "
   ]
  },
  {
   "cell_type": "code",
   "execution_count": 5,
   "id": "ea50d105-284f-4296-b654-b5465037d634",
   "metadata": {
    "tags": []
   },
   "outputs": [],
   "source": [
    "credential = os.environ[\"DQ_GOOGLE_CREDENTIAL\"]\n",
    "connection_info = ConnectionConfig(credentials=credential)\n",
    "\n",
    "external_database = session.connect_to_external_database(connection_info)"
   ]
  },
  {
   "cell_type": "markdown",
   "id": "8e7f4c10-5dc6-4c53-aeea-ef4864471caf",
   "metadata": {},
   "source": [
    "### Discover External Tables"
   ]
  },
  {
   "cell_type": "markdown",
   "id": "51f3c2ee-c57b-49df-9756-60c96d9b0734",
   "metadata": {
    "tags": []
   },
   "source": [
    "Once connected, we can discover the tables available to us from the external database."
   ]
  },
  {
   "cell_type": "code",
   "execution_count": 6,
   "id": "5e85bd6f-dd6a-4ab8-a2f2-51d7759466de",
   "metadata": {
    "tags": []
   },
   "outputs": [
    {
     "data": {
      "application/json": {
       "bd-project-386413": {
        "tutorial": [
         "PRODUCTS",
         "SALES"
        ],
        "var_demo": [
         "BOOKS",
         "TRADE_PNLS"
        ]
       }
      },
      "text/html": [
       "<ul>\n",
       "<li>BIGQUERY\n",
       "  <ul>\n",
       "  <li>bd-project-386413\n",
       "    <ul>\n",
       "    <li>var_demo\n",
       "      <ol>\n",
       "      <li>BOOKS</li>\n",
       "      <li>TRADE_PNLS</li>\n",
       "      </ol>    </li>\n",
       "    <li>tutorial\n",
       "      <ol>\n",
       "      <li>PRODUCTS</li>\n",
       "      <li>SALES</li>\n",
       "      </ol>    </li>\n",
       "    </ul>\n",
       "  </li>\n",
       "  </ul>\n",
       "</li>\n",
       "</ul>\n"
      ],
      "text/plain": [
       "<atoti.directquery.external_tables.ExternalTables at 0x12cda15d0>"
      ]
     },
     "execution_count": 6,
     "metadata": {
      "application/json": {
       "expanded": false,
       "root": "BIGQUERY"
      }
     },
     "output_type": "execute_result"
    }
   ],
   "source": [
    "external_database.tables"
   ]
  },
  {
   "cell_type": "markdown",
   "id": "4187eaef-cae3-44ca-80c1-dd952dd3faab",
   "metadata": {},
   "source": [
    "If the database has many schemas, we can perform a filter to access only the schema that we want."
   ]
  },
  {
   "cell_type": "code",
   "execution_count": 7,
   "id": "63c5fafe-05e1-429e-8f35-9f3f072e34f7",
   "metadata": {
    "tags": []
   },
   "outputs": [
    {
     "data": {
      "application/json": {
       "bd-project-386413": {
        "tutorial": [
         "PRODUCTS",
         "SALES"
        ]
       }
      },
      "text/html": [
       "<ul>\n",
       "<li>BIGQUERY\n",
       "  <ul>\n",
       "  <li>bd-project-386413\n",
       "    <ul>\n",
       "    <li>tutorial\n",
       "      <ol>\n",
       "      <li>PRODUCTS</li>\n",
       "      <li>SALES</li>\n",
       "      </ol>    </li>\n",
       "    </ul>\n",
       "  </li>\n",
       "  </ul>\n",
       "</li>\n",
       "</ul>\n"
      ],
      "text/plain": [
       "<atoti.directquery.external_tables.ExternalTables at 0x12cda16f0>"
      ]
     },
     "execution_count": 7,
     "metadata": {
      "application/json": {
       "expanded": false,
       "root": "BIGQUERY"
      }
     },
     "output_type": "execute_result"
    }
   ],
   "source": [
    "external_database.tables._filter(schema_name=\"tutorial\")"
   ]
  },
  {
   "cell_type": "markdown",
   "id": "f1308a2c-a4d2-40e5-9985-7013fa05a9fb",
   "metadata": {},
   "source": [
    "### Discover Table Columns"
   ]
  },
  {
   "cell_type": "markdown",
   "id": "e72119a9-ed38-4d83-a8a5-1fe021b48e5c",
   "metadata": {},
   "source": [
    "If a table name is unique in the database, we can check its structure directly using its name:  "
   ]
  },
  {
   "cell_type": "code",
   "execution_count": 8,
   "id": "f91519b6-a36b-4f0c-b1f0-949b0be22d5f",
   "metadata": {
    "tags": []
   },
   "outputs": [
    {
     "data": {
      "application/json": {
       "DATE": "LocalDate",
       "PRODUCT": "String",
       "QUANTITY": "long",
       "SALE_ID": "String",
       "SHOP": "String",
       "UNIT_PRICE": "double"
      },
      "text/html": [
       "<ul>\n",
       "<li>SALES\n",
       "  <ul>\n",
       "  <li>SALE_ID: String</li>\n",
       "  <li>DATE: LocalDate</li>\n",
       "  <li>SHOP: String</li>\n",
       "  <li>PRODUCT: String</li>\n",
       "  <li>QUANTITY: long</li>\n",
       "  <li>UNIT_PRICE: double</li>\n",
       "  </ul>\n",
       "</li>\n",
       "</ul>\n"
      ],
      "text/plain": [
       "<atoti.directquery.external_table.ExternalTable at 0x12cda32e0>"
      ]
     },
     "execution_count": 8,
     "metadata": {
      "application/json": {
       "expanded": true,
       "root": "SALES"
      }
     },
     "output_type": "execute_result"
    }
   ],
   "source": [
    "external_database.tables[\"SALES\"]"
   ]
  },
  {
   "cell_type": "markdown",
   "id": "1d9ef3fb-85a5-472b-aa12-8a88e3d1e6d9",
   "metadata": {},
   "source": [
    "However, to be precise, it is a good practice to refer to the table using its database, schema and table names. Uncomment and execute the following cells as to try this out."
   ]
  },
  {
   "cell_type": "code",
   "execution_count": 9,
   "id": "247c876c-2b44-4b0f-8bcf-8864350bb3d6",
   "metadata": {
    "tags": []
   },
   "outputs": [],
   "source": [
    "# db_name = \"<database name here>\"\n",
    "# db_schema = \"tutorial\"\n",
    "# table_sales = \"SALES\""
   ]
  },
  {
   "cell_type": "code",
   "execution_count": 10,
   "id": "fbfde589-b458-474d-8665-af7b016598bc",
   "metadata": {
    "tags": []
   },
   "outputs": [],
   "source": [
    "# external_database.tables[db_name, db_schema, table_sales]"
   ]
  },
  {
   "cell_type": "markdown",
   "id": "85d14ebe-eb8a-4216-8564-8330b4b7b0d9",
   "metadata": {},
   "source": [
    "## Add External Table to Atoti"
   ]
  },
  {
   "cell_type": "markdown",
   "id": "8fa1b581-ee16-4730-8ea2-b29fa14ee03a",
   "metadata": {},
   "source": [
    "Since we have connected to the external database and we are able to see its structure, we can add the required tables to the Atoti session.  \n",
    "\n",
    "Using [BigqueryTableOptions](https://docs.atoti.io/latest/api/atoti_directquery_bigquery.BigqueryTableOptions.html#atoti_directquery_bigquery.BigqueryTableOptions), we can define additional options to the table that we will create in Atoti:\n",
    "\n",
    "- `array_conversion`: Converting values spread over multiple columns into array columns.\n",
    "- `clustering_columns`: Columns used for splitting up queries.\n",
    "- `keys`: Keys used to identify unique rows for updating of data.\n",
    "\n",
    "We will only use `keys` and `clustering_columns` in our example."
   ]
  },
  {
   "cell_type": "code",
   "execution_count": 11,
   "id": "7dab34b4-ca6f-4c80-8ba9-f8534f9eae5b",
   "metadata": {
    "tags": []
   },
   "outputs": [],
   "source": [
    "from atoti_directquery_bigquery import TableConfig"
   ]
  },
  {
   "cell_type": "markdown",
   "id": "790b7a07-c762-438a-878e-de3611f39b5c",
   "metadata": {},
   "source": [
    "Similar to how we create keys for Atoti tables, we set the key columns in the `BigqueryTableOptions`. Note that this external table is created in Atoti and the defined keys affects only the data that is accessible in Atoti. It does not change the tables in BigQuery.  \n",
    "\n",
    "To distinguish our Atoti external table from the BigQuery table, we named them differently in our example.  "
   ]
  },
  {
   "cell_type": "code",
   "execution_count": 12,
   "id": "a580d644-94e0-4772-ac94-a9600bc08546",
   "metadata": {
    "tags": []
   },
   "outputs": [],
   "source": [
    "sales_table = session.add_external_table(\n",
    "    external_database.tables[\"SALES\"],\n",
    "    table_name=\"Atoti Sales\",\n",
    "    config=TableConfig(keys=[\"SALE_ID\"], clustering_columns={\"DATE\", \"PRODUCT\"}),\n",
    ")"
   ]
  },
  {
   "cell_type": "markdown",
   "id": "ac9b4de4-60f9-45d9-8b87-e7d0452714ee",
   "metadata": {},
   "source": [
    "To speed up querying, Atoti makes use of [aggregate providers](https://docs.atoti.io/latest/api/atoti.AggregateProvider.html#atoti.AggregateProvider) to pre-aggregates some table columns up to certain levels. Feeding such providers from an external database can result in very large queries to be run on the database. Some databases can have trouble processing such large queries. Therefore, we define [clustering columns](https://docs.activeviam.com/products/atoti/server/latest/docs/directquery/directquery-clustering-fields/) to help split up queries made by DirectQuery to these external database when feeding the aggregate providers.  \n",
    "\n",
    "The `clustering_columns` parameter allows us to define columns to be used for clustering. While our example uses a small dataset and clustering column is not necessary, we demonstrate how it can be used in the snippet above.  "
   ]
  },
  {
   "cell_type": "code",
   "execution_count": 13,
   "id": "561e7c19-28cc-4796-918b-24de800147a7",
   "metadata": {
    "tags": []
   },
   "outputs": [
    {
     "data": {
      "text/html": [
       "<div>\n",
       "<style scoped>\n",
       "    .dataframe tbody tr th:only-of-type {\n",
       "        vertical-align: middle;\n",
       "    }\n",
       "\n",
       "    .dataframe tbody tr th {\n",
       "        vertical-align: top;\n",
       "    }\n",
       "\n",
       "    .dataframe thead th {\n",
       "        text-align: right;\n",
       "    }\n",
       "</style>\n",
       "<table border=\"1\" class=\"dataframe\">\n",
       "  <thead>\n",
       "    <tr style=\"text-align: right;\">\n",
       "      <th></th>\n",
       "      <th>DATE</th>\n",
       "      <th>SHOP</th>\n",
       "      <th>PRODUCT</th>\n",
       "      <th>QUANTITY</th>\n",
       "      <th>UNIT_PRICE</th>\n",
       "    </tr>\n",
       "    <tr>\n",
       "      <th>SALE_ID</th>\n",
       "      <th></th>\n",
       "      <th></th>\n",
       "      <th></th>\n",
       "      <th></th>\n",
       "      <th></th>\n",
       "    </tr>\n",
       "  </thead>\n",
       "  <tbody>\n",
       "    <tr>\n",
       "      <th>S0010</th>\n",
       "      <td>2022-01-31</td>\n",
       "      <td>shop_2</td>\n",
       "      <td>BED_2</td>\n",
       "      <td>3</td>\n",
       "      <td>150.0</td>\n",
       "    </tr>\n",
       "    <tr>\n",
       "      <th>S0007</th>\n",
       "      <td>2022-02-01</td>\n",
       "      <td>shop_5</td>\n",
       "      <td>BED_2</td>\n",
       "      <td>1</td>\n",
       "      <td>150.0</td>\n",
       "    </tr>\n",
       "    <tr>\n",
       "      <th>S0008</th>\n",
       "      <td>2022-01-31</td>\n",
       "      <td>shop_4</td>\n",
       "      <td>BED_2</td>\n",
       "      <td>1</td>\n",
       "      <td>150.0</td>\n",
       "    </tr>\n",
       "    <tr>\n",
       "      <th>S0009</th>\n",
       "      <td>2022-01-31</td>\n",
       "      <td>shop_3</td>\n",
       "      <td>BED_2</td>\n",
       "      <td>1</td>\n",
       "      <td>150.0</td>\n",
       "    </tr>\n",
       "    <tr>\n",
       "      <th>S0019</th>\n",
       "      <td>2022-02-02</td>\n",
       "      <td>shop_3</td>\n",
       "      <td>HOO_5</td>\n",
       "      <td>1</td>\n",
       "      <td>48.0</td>\n",
       "    </tr>\n",
       "  </tbody>\n",
       "</table>\n",
       "</div>"
      ],
      "text/plain": [
       "              DATE    SHOP PRODUCT  QUANTITY  UNIT_PRICE\n",
       "SALE_ID                                                 \n",
       "S0010   2022-01-31  shop_2   BED_2         3       150.0\n",
       "S0007   2022-02-01  shop_5   BED_2         1       150.0\n",
       "S0008   2022-01-31  shop_4   BED_2         1       150.0\n",
       "S0009   2022-01-31  shop_3   BED_2         1       150.0\n",
       "S0019   2022-02-02  shop_3   HOO_5         1        48.0"
      ]
     },
     "execution_count": 13,
     "metadata": {},
     "output_type": "execute_result"
    }
   ],
   "source": [
    "sales_table.head()"
   ]
  },
  {
   "cell_type": "markdown",
   "id": "dc44214e-743e-4937-9269-61498986355b",
   "metadata": {},
   "source": [
    "We can add multiple tables."
   ]
  },
  {
   "cell_type": "code",
   "execution_count": 14,
   "id": "f282f67a-dfa9-4ba1-aef7-779ec734fe50",
   "metadata": {
    "tags": []
   },
   "outputs": [
    {
     "data": {
      "text/html": [
       "<div>\n",
       "<style scoped>\n",
       "    .dataframe tbody tr th:only-of-type {\n",
       "        vertical-align: middle;\n",
       "    }\n",
       "\n",
       "    .dataframe tbody tr th {\n",
       "        vertical-align: top;\n",
       "    }\n",
       "\n",
       "    .dataframe thead th {\n",
       "        text-align: right;\n",
       "    }\n",
       "</style>\n",
       "<table border=\"1\" class=\"dataframe\">\n",
       "  <thead>\n",
       "    <tr style=\"text-align: right;\">\n",
       "      <th></th>\n",
       "      <th>CATEGORY</th>\n",
       "      <th>SUB_CATEGORY</th>\n",
       "      <th>SIZE</th>\n",
       "      <th>PURCHASE_PRICE</th>\n",
       "      <th>COLOR</th>\n",
       "      <th>BRAND</th>\n",
       "    </tr>\n",
       "    <tr>\n",
       "      <th>PRODUCT_ID</th>\n",
       "      <th></th>\n",
       "      <th></th>\n",
       "      <th></th>\n",
       "      <th></th>\n",
       "      <th></th>\n",
       "      <th></th>\n",
       "    </tr>\n",
       "  </thead>\n",
       "  <tbody>\n",
       "    <tr>\n",
       "      <th>BED_2</th>\n",
       "      <td>Furniture</td>\n",
       "      <td>Bed</td>\n",
       "      <td>Single</td>\n",
       "      <td>127.0</td>\n",
       "      <td>red</td>\n",
       "      <td>Mega</td>\n",
       "    </tr>\n",
       "    <tr>\n",
       "      <th>TAB_1</th>\n",
       "      <td>Furniture</td>\n",
       "      <td>Table</td>\n",
       "      <td>2m40</td>\n",
       "      <td>280.0</td>\n",
       "      <td>white</td>\n",
       "      <td>Mega</td>\n",
       "    </tr>\n",
       "    <tr>\n",
       "      <th>TAB_0</th>\n",
       "      <td>Furniture</td>\n",
       "      <td>Table</td>\n",
       "      <td>1m80</td>\n",
       "      <td>190.0</td>\n",
       "      <td>black</td>\n",
       "      <td>Basic</td>\n",
       "    </tr>\n",
       "    <tr>\n",
       "      <th>HOO_5</th>\n",
       "      <td>Cloth</td>\n",
       "      <td>Hoodie</td>\n",
       "      <td>M</td>\n",
       "      <td>38.0</td>\n",
       "      <td>red</td>\n",
       "      <td>Mega</td>\n",
       "    </tr>\n",
       "    <tr>\n",
       "      <th>TSH_3</th>\n",
       "      <td>Cloth</td>\n",
       "      <td>Tshirt</td>\n",
       "      <td>M</td>\n",
       "      <td>19.0</td>\n",
       "      <td>brown</td>\n",
       "      <td>Over</td>\n",
       "    </tr>\n",
       "  </tbody>\n",
       "</table>\n",
       "</div>"
      ],
      "text/plain": [
       "             CATEGORY SUB_CATEGORY    SIZE  PURCHASE_PRICE  COLOR  BRAND\n",
       "PRODUCT_ID                                                              \n",
       "BED_2       Furniture          Bed  Single           127.0    red   Mega\n",
       "TAB_1       Furniture        Table    2m40           280.0  white   Mega\n",
       "TAB_0       Furniture        Table    1m80           190.0  black  Basic\n",
       "HOO_5           Cloth       Hoodie       M            38.0    red   Mega\n",
       "TSH_3           Cloth       Tshirt       M            19.0  brown   Over"
      ]
     },
     "execution_count": 14,
     "metadata": {},
     "output_type": "execute_result"
    }
   ],
   "source": [
    "products_table = session.add_external_table(\n",
    "    external_database.tables[\"PRODUCTS\"],\n",
    "    table_name=\"Atoti Product\",\n",
    "    config=TableConfig(keys=[\"PRODUCT_ID\"]),\n",
    ")\n",
    "\n",
    "products_table.head()"
   ]
  },
  {
   "cell_type": "markdown",
   "id": "57349699-117a-4cf9-bb95-5910f18d5187",
   "metadata": {},
   "source": [
    "Once we have created our external tables, the rest is _simply the usual stuff for Atoti_."
   ]
  },
  {
   "cell_type": "markdown",
   "id": "564a8bad-9c60-4c7a-b94e-918b5112cfdb",
   "metadata": {
    "tags": []
   },
   "source": [
    "## Atoti Cube Setup"
   ]
  },
  {
   "cell_type": "markdown",
   "id": "2f24568b-71da-4341-a716-f8abdbdce17d",
   "metadata": {
    "tags": []
   },
   "source": [
    "From this section onwards, the coding remains the same regardless of the underlying data source.  \n",
    "\n",
    "As we have always done, we join the tables and create the cube."
   ]
  },
  {
   "cell_type": "code",
   "execution_count": 15,
   "id": "93f6c667-27b6-4e2e-9685-ef275235622c",
   "metadata": {
    "tags": []
   },
   "outputs": [
    {
     "data": {
      "image/png": "[encoded data removed]",
      "text/plain": [
       "erDiagram\n",
       "  \"Atoti Sales\" {\n",
       "    _ String PK \"SALE_ID\"\n",
       "    _ LocalDate \"DATE\"\n",
       "    _ String \"SHOP\"\n",
       "    _ String \"PRODUCT\"\n",
       "    _ long \"QUANTITY\"\n",
       "    _ double \"UNIT_PRICE\"\n",
       "  }\n",
       "  \"Atoti Product\" {\n",
       "    _ String PK \"PRODUCT_ID\"\n",
       "    _ String \"CATEGORY\"\n",
       "    _ String \"SUB_CATEGORY\"\n",
       "    _ String \"SIZE\"\n",
       "    _ double \"PURCHASE_PRICE\"\n",
       "    _ String \"COLOR\"\n",
       "    _ String \"BRAND\"\n",
       "  }\n",
       "  \"Atoti Sales\" }o--o| \"Atoti Product\" : \"`PRODUCT` == `PRODUCT_ID`\""
      ]
     },
     "execution_count": 15,
     "metadata": {},
     "output_type": "execute_result"
    }
   ],
   "source": [
    "sales_table.join(products_table, sales_table[\"PRODUCT\"] == products_table[\"PRODUCT_ID\"])\n",
    "cube = session.create_cube(sales_table)\n",
    "session.tables.schema"
   ]
  },
  {
   "cell_type": "code",
   "execution_count": 16,
   "id": "4ee29cb6-1f57-43f2-b6e7-ad2e72d8abd4",
   "metadata": {
    "atoti": {
     "widget": {
      "mapping": {
       "columns": [
        "ALL_MEASURES"
       ],
       "measures": [
        "[Measures].[QUANTITY.SUM]"
       ],
       "rows": [
        "[Atoti Sales].[DATE].[DATE]",
        "[Atoti Sales].[SHOP].[SHOP] => [Atoti Product].[BRAND].[BRAND]"
       ]
      },
      "name": "Quantity sold across dates by shops",
      "query": {
       "mdx": "SELECT NON EMPTY {[Measures].[QUANTITY.SUM]} ON COLUMNS, NON EMPTY Hierarchize(Union(Crossjoin(Hierarchize(Descendants({[Atoti Sales].[DATE].[AllMember]}, 1, SELF_AND_BEFORE)), Hierarchize(Descendants({[Atoti Sales].[SHOP].[AllMember]}, 1, SELF_AND_BEFORE)), [Atoti Product].[BRAND].DefaultMember), Crossjoin([Atoti Sales].[DATE].[AllMember].[2022-01-31], [Atoti Sales].[SHOP].[AllMember].[shop_2], Hierarchize(Descendants({[Atoti Product].[BRAND].[AllMember]}, 1, SELF_AND_BEFORE))))) ON ROWS FROM [Atoti Sales] CELL PROPERTIES VALUE, FORMATTED_VALUE, BACK_COLOR, FORE_COLOR, FONT_FLAGS",
       "updateMode": "once"
      },
      "serverKey": "default",
      "widgetKey": "pivot-table"
     }
    },
    "tags": []
   },
   "outputs": [
    {
     "data": {
      "application/vnd.atoti.widget.v0+json": {
       "sessionId": "1733417670_990538",
       "sessionUrl": "http://localhost:50940",
       "widgetCreationCode": "session.widget"
      },
      "text/html": [
       "<img height=\"352\" width=\"1053\" src=\"data:image/png;base64,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\" />"
      ],
      "text/plain": [
       "Open the notebook in JupyterLab with the Atoti JupyterLab extension enabled to build this widget."
      ]
     },
     "metadata": {},
     "output_type": "display_data"
    }
   ],
   "source": [
    "session.widget"
   ]
  },
  {
   "cell_type": "markdown",
   "id": "623a5cce-fee4-489b-9250-c5dd542fb708",
   "metadata": {},
   "source": [
    "### Cube manipulation"
   ]
  },
  {
   "cell_type": "markdown",
   "id": "ad616201-0cc7-4012-8e54-66a99c9c1a23",
   "metadata": {},
   "source": [
    "We perform hierarchy manipulation, level ordering and measure creations the same way we always do in Atoti."
   ]
  },
  {
   "cell_type": "code",
   "execution_count": 17,
   "id": "27bebe22-10e5-4b67-9c18-4bb478fef70b",
   "metadata": {
    "tags": []
   },
   "outputs": [],
   "source": [
    "h, l, m = cube.hierarchies, cube.levels, cube.measures"
   ]
  },
  {
   "cell_type": "code",
   "execution_count": 18,
   "id": "fe4aea14-fc25-4a2d-9401-0ce01df385e4",
   "metadata": {
    "tags": []
   },
   "outputs": [],
   "source": [
    "h[\"CATEGORY\"] = [l[\"CATEGORY\"], l[\"SUB_CATEGORY\"]]\n",
    "del h[\"SUB_CATEGORY\"]"
   ]
  },
  {
   "cell_type": "code",
   "execution_count": 19,
   "id": "efc5d476-6465-4ccf-93d3-9f5dfe19df3c",
   "metadata": {
    "tags": []
   },
   "outputs": [
    {
     "data": {
      "application/json": {
       "Atoti Product": {
        "BRAND": [
         "BRAND"
        ],
        "CATEGORY": [
         "CATEGORY",
         "SUB_CATEGORY"
        ],
        "COLOR": [
         "COLOR"
        ],
        "SIZE": [
         "SIZE"
        ]
       },
       "Atoti Sales": {
        "DATE": [
         "DATE"
        ],
        "PRODUCT": [
         "PRODUCT"
        ],
        "SALE_ID": [
         "SALE_ID"
        ],
        "SHOP": [
         "SHOP"
        ]
       }
      },
      "text/html": [
       "<ul>\n",
       "<li>Dimensions\n",
       "  <ul>\n",
       "  <li>Atoti Product\n",
       "    <ul>\n",
       "    <li>BRAND\n",
       "      <ol>\n",
       "      <li>BRAND</li>\n",
       "      </ol>    </li>\n",
       "    <li>CATEGORY\n",
       "      <ol>\n",
       "      <li>CATEGORY</li>\n",
       "      <li>SUB_CATEGORY</li>\n",
       "      </ol>    </li>\n",
       "    <li>COLOR\n",
       "      <ol>\n",
       "      <li>COLOR</li>\n",
       "      </ol>    </li>\n",
       "    <li>SIZE\n",
       "      <ol>\n",
       "      <li>SIZE</li>\n",
       "      </ol>    </li>\n",
       "    </ul>\n",
       "  </li>\n",
       "  <li>Atoti Sales\n",
       "    <ul>\n",
       "    <li>DATE\n",
       "      <ol>\n",
       "      <li>DATE</li>\n",
       "      </ol>    </li>\n",
       "    <li>PRODUCT\n",
       "      <ol>\n",
       "      <li>PRODUCT</li>\n",
       "      </ol>    </li>\n",
       "    <li>SALE_ID\n",
       "      <ol>\n",
       "      <li>SALE_ID</li>\n",
       "      </ol>    </li>\n",
       "    <li>SHOP\n",
       "      <ol>\n",
       "      <li>SHOP</li>\n",
       "      </ol>    </li>\n",
       "    </ul>\n",
       "  </li>\n",
       "  </ul>\n",
       "</li>\n",
       "</ul>\n"
      ],
      "text/plain": [
       "{('Atoti Product', 'SIZE'): <atoti.hierarchy.Hierarchy object at 0x12cf1eb00>, ('Atoti Product', 'BRAND'): <atoti.hierarchy.Hierarchy object at 0x12cf1e2c0>, ('Atoti Product', 'COLOR'): <atoti.hierarchy.Hierarchy object at 0x12cf1e1d0>, ('Atoti Product', 'CATEGORY'): <atoti.hierarchy.Hierarchy object at 0x12cf1dd80>, ('Atoti Sales', 'SALE_ID'): <atoti.hierarchy.Hierarchy object at 0x12cf1e3e0>, ('Atoti Sales', 'DATE'): <atoti.hierarchy.Hierarchy object at 0x12cf1df00>, ('Atoti Sales', 'SHOP'): <atoti.hierarchy.Hierarchy object at 0x12cf1e380>, ('Atoti Sales', 'PRODUCT'): <atoti.hierarchy.Hierarchy object at 0x12cf1e080>}"
      ]
     },
     "execution_count": 19,
     "metadata": {
      "application/json": {
       "expanded": true,
       "root": "Dimensions"
      }
     },
     "output_type": "execute_result"
    }
   ],
   "source": [
    "h"
   ]
  },
  {
   "cell_type": "code",
   "execution_count": 20,
   "id": "fe924c60-0c9d-431f-ac72-297db49d8abc",
   "metadata": {
    "tags": []
   },
   "outputs": [],
   "source": [
    "l[\"DATE\"].order = tt.NaturalOrder(ascending=False)"
   ]
  },
  {
   "cell_type": "code",
   "execution_count": 21,
   "id": "343686bd-182e-4de1-b681-8bc6c04b791d",
   "metadata": {
    "tags": []
   },
   "outputs": [],
   "source": [
    "m[\"PURCHASE_PRICE.SUM\"] = tt.agg.sum(products_table[\"PURCHASE_PRICE\"])\n",
    "m[\"PROFIT\"] = tt.agg.sum_product(\n",
    "    m[\"UNIT_PRICE.SUM\"] - m[\"PURCHASE_PRICE.SUM\"],\n",
    "    m[\"QUANTITY.SUM\"],\n",
    "    scope=tt.OriginScope(levels={l[\"SALE_ID\"], l[\"PRODUCT\"]}),\n",
    ")"
   ]
  },
  {
   "cell_type": "markdown",
   "id": "595db925-bf0b-4828-87fb-ff26c717d905",
   "metadata": {},
   "source": [
    "Since we have a join from `sales_table` to `products_table` using the column values of `sales_table.PRODUCT` and `products_table.PRODUCT_ID`, the resultant level is the name of the column from the _from_ table. Therefore, we have the level `PRODUCT` but not `PRODUCT_ID` for our scope in the code snippet above."
   ]
  },
  {
   "cell_type": "code",
   "execution_count": 22,
   "id": "a5dd754e-6d52-43b0-9a18-e7aa7fd42e0b",
   "metadata": {
    "atoti": {
     "widget": {
      "mapping": {
       "columns": [
        "ALL_MEASURES"
       ],
       "measures": [
        "[Measures].[UNIT_PRICE.SUM]",
        "[Measures].[PURCHASE_PRICE.SUM]",
        "[Measures].[QUANTITY.SUM]",
        "[Measures].[PROFIT]"
       ],
       "rows": [
        "[Atoti Sales].[DATE].[DATE]",
        "[Atoti Product].[CATEGORY].[CATEGORY] => [Atoti Product].[CATEGORY].[SUB_CATEGORY]"
       ]
      },
      "name": "Profit by Product Categories across dates",
      "query": {
       "mdx": "SELECT NON EMPTY Hierarchize(Union(Crossjoin(Hierarchize(Descendants({[Atoti Sales].[DATE].[AllMember]}, 1, SELF_AND_BEFORE)), Hierarchize(Descendants({[Atoti Product].[CATEGORY].[AllMember]}, 1, SELF_AND_BEFORE))), Crossjoin([Atoti Sales].[DATE].[AllMember].[2022-02-03], Descendants({[Atoti Product].[CATEGORY].[AllMember].[Cloth]}, [Atoti Product].[CATEGORY].[SUB_CATEGORY])))) ON ROWS, NON EMPTY {[Measures].[UNIT_PRICE.SUM], [Measures].[PURCHASE_PRICE.SUM], [Measures].[QUANTITY.SUM], [Measures].[PROFIT]} ON COLUMNS FROM [Atoti Sales] CELL PROPERTIES VALUE, FORMATTED_VALUE, BACK_COLOR, FORE_COLOR, FONT_FLAGS",
       "updateMode": "once"
      },
      "serverKey": "default",
      "widgetKey": "pivot-table"
     }
    },
    "tags": []
   },
   "outputs": [
    {
     "data": {
      "application/vnd.atoti.widget.v0+json": {
       "sessionId": "1733417670_990538",
       "sessionUrl": "http://localhost:50940",
       "widgetCreationCode": "session.widget"
      },
      "text/html": [
       "<img height=\"352\" width=\"1053\" src=\"data:image/png;base64,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\" />"
      ],
      "text/plain": [
       "Open the notebook in JupyterLab with the Atoti JupyterLab extension enabled to build this widget."
      ]
     },
     "metadata": {},
     "output_type": "display_data"
    }
   ],
   "source": [
    "session.widget"
   ]
  },
  {
   "cell_type": "markdown",
   "id": "08ceaeb7-d0ed-42b5-899e-f4fb4fdcf1ae",
   "metadata": {},
   "source": [
    "## Cost and performance saving with Aggregate Provider"
   ]
  },
  {
   "cell_type": "markdown",
   "id": "b00d6de1-5324-43b0-acb0-c682977c2cf0",
   "metadata": {},
   "source": [
    "Let's take a quick look at our query performance in the current setup."
   ]
  },
  {
   "cell_type": "code",
   "execution_count": 23,
   "id": "37320670-66e8-40c1-9402-26775ed5817c",
   "metadata": {},
   "outputs": [
    {
     "name": "stdout",
     "output_type": "stream",
     "text": [
      "CPU times: user 39.2 ms, sys: 4.62 ms, total: 43.8 ms\n",
      "Wall time: 3.4 s\n"
     ]
    },
    {
     "data": {
      "application/vnd.atoti.convert-mdx-query-result-to-widget.v0+json": {
       "mdx": "SELECT {[Measures].[QUANTITY.SUM], [Measures].[PROFIT]} ON COLUMNS, NON EMPTY Crossjoin(Hierarchize(Descendants({[Atoti Sales].[DATE].[ALL].[AllMember]}, 1, SELF_AND_BEFORE)), Hierarchize(Descendants({[Atoti Sales].[PRODUCT].[ALL].[AllMember]}, 1, SELF_AND_BEFORE)), Hierarchize(Descendants({[Atoti Sales].[SALE_ID].[ALL].[AllMember]}, 1, SELF_AND_BEFORE))) ON ROWS FROM [Atoti Sales]",
       "sessionId": "1733417670_990538",
       "widgetCreationCode": "session.widget"
      },
      "text/html": [
       "<div>\n",
       "<style scoped>\n",
       "    .dataframe tbody tr th:only-of-type {\n",
       "        vertical-align: middle;\n",
       "    }\n",
       "\n",
       "    .dataframe tbody tr th {\n",
       "        vertical-align: top;\n",
       "    }\n",
       "\n",
       "    .dataframe thead th {\n",
       "        text-align: right;\n",
       "    }\n",
       "</style>\n",
       "<table border=\"1\" class=\"dataframe\">\n",
       "  <thead>\n",
       "    <tr style=\"text-align: right;\">\n",
       "      <th></th>\n",
       "      <th></th>\n",
       "      <th></th>\n",
       "      <th>QUANTITY.SUM</th>\n",
       "      <th>PROFIT</th>\n",
       "    </tr>\n",
       "    <tr>\n",
       "      <th>DATE</th>\n",
       "      <th>PRODUCT</th>\n",
       "      <th>SALE_ID</th>\n",
       "      <th></th>\n",
       "      <th></th>\n",
       "    </tr>\n",
       "  </thead>\n",
       "  <tbody>\n",
       "    <tr>\n",
       "      <th rowspan=\"2\" valign=\"top\">2022-02-04</th>\n",
       "      <th>HOO_5</th>\n",
       "      <th>S0017</th>\n",
       "      <td>1</td>\n",
       "      <td>10.00</td>\n",
       "    </tr>\n",
       "    <tr>\n",
       "      <th>TAB_0</th>\n",
       "      <th>S0000</th>\n",
       "      <td>1</td>\n",
       "      <td>20.00</td>\n",
       "    </tr>\n",
       "    <tr>\n",
       "      <th rowspan=\"4\" valign=\"top\">2022-02-03</th>\n",
       "      <th>HOO_5</th>\n",
       "      <th>S0018</th>\n",
       "      <td>1</td>\n",
       "      <td>10.00</td>\n",
       "    </tr>\n",
       "    <tr>\n",
       "      <th>TAB_0</th>\n",
       "      <th>S0001</th>\n",
       "      <td>1</td>\n",
       "      <td>20.00</td>\n",
       "    </tr>\n",
       "    <tr>\n",
       "      <th>TAB_1</th>\n",
       "      <th>S0004</th>\n",
       "      <td>1</td>\n",
       "      <td>20.00</td>\n",
       "    </tr>\n",
       "    <tr>\n",
       "      <th>TSH_3</th>\n",
       "      <th>S0011</th>\n",
       "      <td>1</td>\n",
       "      <td>3.00</td>\n",
       "    </tr>\n",
       "    <tr>\n",
       "      <th rowspan=\"5\" valign=\"top\">2022-02-02</th>\n",
       "      <th>HOO_5</th>\n",
       "      <th>S0019</th>\n",
       "      <td>1</td>\n",
       "      <td>10.00</td>\n",
       "    </tr>\n",
       "    <tr>\n",
       "      <th>TAB_0</th>\n",
       "      <th>S0002</th>\n",
       "      <td>1</td>\n",
       "      <td>20.00</td>\n",
       "    </tr>\n",
       "    <tr>\n",
       "      <th>TAB_1</th>\n",
       "      <th>S0005</th>\n",
       "      <td>1</td>\n",
       "      <td>20.00</td>\n",
       "    </tr>\n",
       "    <tr>\n",
       "      <th>TSH_3</th>\n",
       "      <th>S0012</th>\n",
       "      <td>1</td>\n",
       "      <td>3.00</td>\n",
       "    </tr>\n",
       "    <tr>\n",
       "      <th>TSH_4</th>\n",
       "      <th>S0014</th>\n",
       "      <td>1</td>\n",
       "      <td>4.00</td>\n",
       "    </tr>\n",
       "    <tr>\n",
       "      <th rowspan=\"5\" valign=\"top\">2022-02-01</th>\n",
       "      <th>BED_2</th>\n",
       "      <th>S0007</th>\n",
       "      <td>1</td>\n",
       "      <td>23.00</td>\n",
       "    </tr>\n",
       "    <tr>\n",
       "      <th>TAB_0</th>\n",
       "      <th>S0003</th>\n",
       "      <td>1</td>\n",
       "      <td>20.00</td>\n",
       "    </tr>\n",
       "    <tr>\n",
       "      <th>TAB_1</th>\n",
       "      <th>S0006</th>\n",
       "      <td>2</td>\n",
       "      <td>40.00</td>\n",
       "    </tr>\n",
       "    <tr>\n",
       "      <th>TSH_3</th>\n",
       "      <th>S0013</th>\n",
       "      <td>1</td>\n",
       "      <td>3.00</td>\n",
       "    </tr>\n",
       "    <tr>\n",
       "      <th>TSH_4</th>\n",
       "      <th>S0015</th>\n",
       "      <td>2</td>\n",
       "      <td>8.00</td>\n",
       "    </tr>\n",
       "    <tr>\n",
       "      <th rowspan=\"4\" valign=\"top\">2022-01-31</th>\n",
       "      <th rowspan=\"3\" valign=\"top\">BED_2</th>\n",
       "      <th>S0008</th>\n",
       "      <td>1</td>\n",
       "      <td>23.00</td>\n",
       "    </tr>\n",
       "    <tr>\n",
       "      <th>S0009</th>\n",
       "      <td>1</td>\n",
       "      <td>23.00</td>\n",
       "    </tr>\n",
       "    <tr>\n",
       "      <th>S0010</th>\n",
       "      <td>3</td>\n",
       "      <td>69.00</td>\n",
       "    </tr>\n",
       "    <tr>\n",
       "      <th>TSH_4</th>\n",
       "      <th>S0016</th>\n",
       "      <td>2</td>\n",
       "      <td>8.00</td>\n",
       "    </tr>\n",
       "  </tbody>\n",
       "</table>\n",
       "</div>"
      ],
      "text/plain": [
       "                           QUANTITY.SUM PROFIT\n",
       "DATE       PRODUCT SALE_ID                    \n",
       "2022-02-04 HOO_5   S0017              1  10.00\n",
       "           TAB_0   S0000              1  20.00\n",
       "2022-02-03 HOO_5   S0018              1  10.00\n",
       "           TAB_0   S0001              1  20.00\n",
       "           TAB_1   S0004              1  20.00\n",
       "           TSH_3   S0011              1   3.00\n",
       "2022-02-02 HOO_5   S0019              1  10.00\n",
       "           TAB_0   S0002              1  20.00\n",
       "           TAB_1   S0005              1  20.00\n",
       "           TSH_3   S0012              1   3.00\n",
       "           TSH_4   S0014              1   4.00\n",
       "2022-02-01 BED_2   S0007              1  23.00\n",
       "           TAB_0   S0003              1  20.00\n",
       "           TAB_1   S0006              2  40.00\n",
       "           TSH_3   S0013              1   3.00\n",
       "           TSH_4   S0015              2   8.00\n",
       "2022-01-31 BED_2   S0008              1  23.00\n",
       "                   S0009              1  23.00\n",
       "                   S0010              3  69.00\n",
       "           TSH_4   S0016              2   8.00"
      ]
     },
     "execution_count": 23,
     "metadata": {},
     "output_type": "execute_result"
    }
   ],
   "source": [
    "%%time\n",
    "\n",
    "cube.query(\n",
    "    m[\"QUANTITY.SUM\"], m[\"PROFIT\"], levels=[l[\"DATE\"], l[\"PRODUCT\"], l[\"SALE_ID\"]]\n",
    ")"
   ]
  },
  {
   "cell_type": "code",
   "execution_count": 24,
   "id": "41a42190-2831-458d-9679-aa942dae9de0",
   "metadata": {},
   "outputs": [
    {
     "name": "stdout",
     "output_type": "stream",
     "text": [
      "CPU times: user 12.2 ms, sys: 2.77 ms, total: 15 ms\n",
      "Wall time: 2.43 s\n"
     ]
    },
    {
     "data": {
      "application/vnd.atoti.convert-mdx-query-result-to-widget.v0+json": {
       "mdx": "SELECT {[Measures].[PROFIT]} ON COLUMNS, NON EMPTY Crossjoin(Hierarchize(Descendants({[Atoti Sales].[DATE].[ALL].[AllMember]}, 1, SELF_AND_BEFORE)), Hierarchize(Descendants({[Atoti Product].[CATEGORY].[ALL].[AllMember]}, 2, SELF_AND_BEFORE))) DIMENSION PROPERTIES CHILDREN_CARDINALITY ON ROWS FROM [Atoti Sales]",
       "sessionId": "1733417670_990538",
       "widgetCreationCode": "session.widget"
      },
      "text/html": [
       "<div>\n",
       "<style scoped>\n",
       "    .dataframe tbody tr th:only-of-type {\n",
       "        vertical-align: middle;\n",
       "    }\n",
       "\n",
       "    .dataframe tbody tr th {\n",
       "        vertical-align: top;\n",
       "    }\n",
       "\n",
       "    .dataframe thead th {\n",
       "        text-align: right;\n",
       "    }\n",
       "</style>\n",
       "<table border=\"1\" class=\"dataframe\">\n",
       "  <thead>\n",
       "    <tr style=\"text-align: right;\">\n",
       "      <th></th>\n",
       "      <th></th>\n",
       "      <th></th>\n",
       "      <th>PROFIT</th>\n",
       "    </tr>\n",
       "    <tr>\n",
       "      <th>DATE</th>\n",
       "      <th>CATEGORY</th>\n",
       "      <th>SUB_CATEGORY</th>\n",
       "      <th></th>\n",
       "    </tr>\n",
       "  </thead>\n",
       "  <tbody>\n",
       "    <tr>\n",
       "      <th rowspan=\"2\" valign=\"top\">2022-02-04</th>\n",
       "      <th>Cloth</th>\n",
       "      <th>Hoodie</th>\n",
       "      <td>10.00</td>\n",
       "    </tr>\n",
       "    <tr>\n",
       "      <th>Furniture</th>\n",
       "      <th>Table</th>\n",
       "      <td>20.00</td>\n",
       "    </tr>\n",
       "    <tr>\n",
       "      <th rowspan=\"3\" valign=\"top\">2022-02-03</th>\n",
       "      <th rowspan=\"2\" valign=\"top\">Cloth</th>\n",
       "      <th>Hoodie</th>\n",
       "      <td>10.00</td>\n",
       "    </tr>\n",
       "    <tr>\n",
       "      <th>Tshirt</th>\n",
       "      <td>3.00</td>\n",
       "    </tr>\n",
       "    <tr>\n",
       "      <th>Furniture</th>\n",
       "      <th>Table</th>\n",
       "      <td>40.00</td>\n",
       "    </tr>\n",
       "    <tr>\n",
       "      <th rowspan=\"3\" valign=\"top\">2022-02-02</th>\n",
       "      <th rowspan=\"2\" valign=\"top\">Cloth</th>\n",
       "      <th>Hoodie</th>\n",
       "      <td>10.00</td>\n",
       "    </tr>\n",
       "    <tr>\n",
       "      <th>Tshirt</th>\n",
       "      <td>7.00</td>\n",
       "    </tr>\n",
       "    <tr>\n",
       "      <th>Furniture</th>\n",
       "      <th>Table</th>\n",
       "      <td>40.00</td>\n",
       "    </tr>\n",
       "    <tr>\n",
       "      <th rowspan=\"3\" valign=\"top\">2022-02-01</th>\n",
       "      <th>Cloth</th>\n",
       "      <th>Tshirt</th>\n",
       "      <td>11.00</td>\n",
       "    </tr>\n",
       "    <tr>\n",
       "      <th rowspan=\"2\" valign=\"top\">Furniture</th>\n",
       "      <th>Bed</th>\n",
       "      <td>23.00</td>\n",
       "    </tr>\n",
       "    <tr>\n",
       "      <th>Table</th>\n",
       "      <td>60.00</td>\n",
       "    </tr>\n",
       "    <tr>\n",
       "      <th rowspan=\"2\" valign=\"top\">2022-01-31</th>\n",
       "      <th>Cloth</th>\n",
       "      <th>Tshirt</th>\n",
       "      <td>8.00</td>\n",
       "    </tr>\n",
       "    <tr>\n",
       "      <th>Furniture</th>\n",
       "      <th>Bed</th>\n",
       "      <td>115.00</td>\n",
       "    </tr>\n",
       "  </tbody>\n",
       "</table>\n",
       "</div>"
      ],
      "text/plain": [
       "                                   PROFIT\n",
       "DATE       CATEGORY  SUB_CATEGORY        \n",
       "2022-02-04 Cloth     Hoodie         10.00\n",
       "           Furniture Table          20.00\n",
       "2022-02-03 Cloth     Hoodie         10.00\n",
       "                     Tshirt          3.00\n",
       "           Furniture Table          40.00\n",
       "2022-02-02 Cloth     Hoodie         10.00\n",
       "                     Tshirt          7.00\n",
       "           Furniture Table          40.00\n",
       "2022-02-01 Cloth     Tshirt         11.00\n",
       "           Furniture Bed            23.00\n",
       "                     Table          60.00\n",
       "2022-01-31 Cloth     Tshirt          8.00\n",
       "           Furniture Bed           115.00"
      ]
     },
     "execution_count": 24,
     "metadata": {},
     "output_type": "execute_result"
    }
   ],
   "source": [
    "%%time\n",
    "\n",
    "cube.query(m[\"PROFIT\"], levels=[l[\"DATE\"], l[\"SUB_CATEGORY\"]])"
   ]
  },
  {
   "cell_type": "markdown",
   "id": "ec655a71-8eec-42ae-9dd5-3fa7bbf0f782",
   "metadata": {},
   "source": [
    "It takes approximately `3s` to return the query (YMMV)."
   ]
  },
  {
   "cell_type": "markdown",
   "id": "409bcc8e-c3e4-4592-a6ee-c54d41f97719",
   "metadata": {},
   "source": [
    "To speed up our querying, we make use of the [aggregate provider](https://docs.atoti.io/latest/api/atoti.AggregateProvider.html#atoti.AggregateProvider) to store intermediate aggregates in memory. If a step of a query uses a subset of the aggregate provider's levels and measures, the provider will speed up the query.  \n",
    "\n",
    "Since data is cached in memory, we will __not__ access BigQuery when a subset of these are queried.  "
   ]
  },
  {
   "cell_type": "code",
   "execution_count": 25,
   "id": "0f33a62c-d66d-4e3a-997d-ae325e9276ec",
   "metadata": {
    "tags": []
   },
   "outputs": [],
   "source": [
    "cube.aggregate_providers.update(\n",
    "    {\n",
    "        \"Products provider\": tt.AggregateProvider(\n",
    "            key=\"bitmap\",\n",
    "            levels=[l[\"DATE\"], l[\"PRODUCT\"], l[\"SALE_ID\"]],\n",
    "            measures=[m[\"QUANTITY.SUM\"], m[\"PURCHASE_PRICE.SUM\"], m[\"UNIT_PRICE.SUM\"]],\n",
    "            partitioning=\"hash16(PRODUCT)\",\n",
    "        )\n",
    "    }\n",
    ")"
   ]
  },
  {
   "cell_type": "markdown",
   "id": "4817dae9-0dbb-4c91-95bc-38a1320102ae",
   "metadata": {},
   "source": [
    "⚠️ **Important:** We can only use store aggregated measures supporting disaggregation can be used in aggregate provider, e.g. `tt.agg.sum` or `tt.agg.mean` on table columns.\n",
    "\n",
    "`m[\"PROFIT\"]` cannot be used because it is a chained measure resulting from the `sum_product` of a few measures.\n"
   ]
  },
  {
   "cell_type": "code",
   "execution_count": 26,
   "id": "0bc35e5d-1845-479b-873f-5a24be936f1e",
   "metadata": {
    "tags": []
   },
   "outputs": [
    {
     "name": "stdout",
     "output_type": "stream",
     "text": [
      "CPU times: user 12.9 ms, sys: 2.85 ms, total: 15.7 ms\n",
      "Wall time: 58.3 ms\n"
     ]
    },
    {
     "data": {
      "application/vnd.atoti.convert-mdx-query-result-to-widget.v0+json": {
       "mdx": "SELECT {[Measures].[PROFIT]} ON COLUMNS, NON EMPTY Crossjoin(Hierarchize(Descendants({[Atoti Sales].[DATE].[ALL].[AllMember]}, 1, SELF_AND_BEFORE)), Hierarchize(Descendants({[Atoti Sales].[PRODUCT].[ALL].[AllMember]}, 1, SELF_AND_BEFORE)), Hierarchize(Descendants({[Atoti Sales].[SALE_ID].[ALL].[AllMember]}, 1, SELF_AND_BEFORE))) ON ROWS FROM [Atoti Sales]",
       "sessionId": "1733417670_990538",
       "widgetCreationCode": "session.widget"
      },
      "text/html": [
       "<div>\n",
       "<style scoped>\n",
       "    .dataframe tbody tr th:only-of-type {\n",
       "        vertical-align: middle;\n",
       "    }\n",
       "\n",
       "    .dataframe tbody tr th {\n",
       "        vertical-align: top;\n",
       "    }\n",
       "\n",
       "    .dataframe thead th {\n",
       "        text-align: right;\n",
       "    }\n",
       "</style>\n",
       "<table border=\"1\" class=\"dataframe\">\n",
       "  <thead>\n",
       "    <tr style=\"text-align: right;\">\n",
       "      <th></th>\n",
       "      <th></th>\n",
       "      <th></th>\n",
       "      <th>PROFIT</th>\n",
       "    </tr>\n",
       "    <tr>\n",
       "      <th>DATE</th>\n",
       "      <th>PRODUCT</th>\n",
       "      <th>SALE_ID</th>\n",
       "      <th></th>\n",
       "    </tr>\n",
       "  </thead>\n",
       "  <tbody>\n",
       "    <tr>\n",
       "      <th rowspan=\"2\" valign=\"top\">2022-02-04</th>\n",
       "      <th>HOO_5</th>\n",
       "      <th>S0017</th>\n",
       "      <td>10.00</td>\n",
       "    </tr>\n",
       "    <tr>\n",
       "      <th>TAB_0</th>\n",
       "      <th>S0000</th>\n",
       "      <td>20.00</td>\n",
       "    </tr>\n",
       "    <tr>\n",
       "      <th rowspan=\"4\" valign=\"top\">2022-02-03</th>\n",
       "      <th>HOO_5</th>\n",
       "      <th>S0018</th>\n",
       "      <td>10.00</td>\n",
       "    </tr>\n",
       "    <tr>\n",
       "      <th>TAB_0</th>\n",
       "      <th>S0001</th>\n",
       "      <td>20.00</td>\n",
       "    </tr>\n",
       "    <tr>\n",
       "      <th>TAB_1</th>\n",
       "      <th>S0004</th>\n",
       "      <td>20.00</td>\n",
       "    </tr>\n",
       "    <tr>\n",
       "      <th>TSH_3</th>\n",
       "      <th>S0011</th>\n",
       "      <td>3.00</td>\n",
       "    </tr>\n",
       "    <tr>\n",
       "      <th rowspan=\"5\" valign=\"top\">2022-02-02</th>\n",
       "      <th>HOO_5</th>\n",
       "      <th>S0019</th>\n",
       "      <td>10.00</td>\n",
       "    </tr>\n",
       "    <tr>\n",
       "      <th>TAB_0</th>\n",
       "      <th>S0002</th>\n",
       "      <td>20.00</td>\n",
       "    </tr>\n",
       "    <tr>\n",
       "      <th>TAB_1</th>\n",
       "      <th>S0005</th>\n",
       "      <td>20.00</td>\n",
       "    </tr>\n",
       "    <tr>\n",
       "      <th>TSH_3</th>\n",
       "      <th>S0012</th>\n",
       "      <td>3.00</td>\n",
       "    </tr>\n",
       "    <tr>\n",
       "      <th>TSH_4</th>\n",
       "      <th>S0014</th>\n",
       "      <td>4.00</td>\n",
       "    </tr>\n",
       "    <tr>\n",
       "      <th rowspan=\"5\" valign=\"top\">2022-02-01</th>\n",
       "      <th>BED_2</th>\n",
       "      <th>S0007</th>\n",
       "      <td>23.00</td>\n",
       "    </tr>\n",
       "    <tr>\n",
       "      <th>TAB_0</th>\n",
       "      <th>S0003</th>\n",
       "      <td>20.00</td>\n",
       "    </tr>\n",
       "    <tr>\n",
       "      <th>TAB_1</th>\n",
       "      <th>S0006</th>\n",
       "      <td>40.00</td>\n",
       "    </tr>\n",
       "    <tr>\n",
       "      <th>TSH_3</th>\n",
       "      <th>S0013</th>\n",
       "      <td>3.00</td>\n",
       "    </tr>\n",
       "    <tr>\n",
       "      <th>TSH_4</th>\n",
       "      <th>S0015</th>\n",
       "      <td>8.00</td>\n",
       "    </tr>\n",
       "    <tr>\n",
       "      <th rowspan=\"4\" valign=\"top\">2022-01-31</th>\n",
       "      <th rowspan=\"3\" valign=\"top\">BED_2</th>\n",
       "      <th>S0008</th>\n",
       "      <td>23.00</td>\n",
       "    </tr>\n",
       "    <tr>\n",
       "      <th>S0009</th>\n",
       "      <td>23.00</td>\n",
       "    </tr>\n",
       "    <tr>\n",
       "      <th>S0010</th>\n",
       "      <td>69.00</td>\n",
       "    </tr>\n",
       "    <tr>\n",
       "      <th>TSH_4</th>\n",
       "      <th>S0016</th>\n",
       "      <td>8.00</td>\n",
       "    </tr>\n",
       "  </tbody>\n",
       "</table>\n",
       "</div>"
      ],
      "text/plain": [
       "                           PROFIT\n",
       "DATE       PRODUCT SALE_ID       \n",
       "2022-02-04 HOO_5   S0017    10.00\n",
       "           TAB_0   S0000    20.00\n",
       "2022-02-03 HOO_5   S0018    10.00\n",
       "           TAB_0   S0001    20.00\n",
       "           TAB_1   S0004    20.00\n",
       "           TSH_3   S0011     3.00\n",
       "2022-02-02 HOO_5   S0019    10.00\n",
       "           TAB_0   S0002    20.00\n",
       "           TAB_1   S0005    20.00\n",
       "           TSH_3   S0012     3.00\n",
       "           TSH_4   S0014     4.00\n",
       "2022-02-01 BED_2   S0007    23.00\n",
       "           TAB_0   S0003    20.00\n",
       "           TAB_1   S0006    40.00\n",
       "           TSH_3   S0013     3.00\n",
       "           TSH_4   S0015     8.00\n",
       "2022-01-31 BED_2   S0008    23.00\n",
       "                   S0009    23.00\n",
       "                   S0010    69.00\n",
       "           TSH_4   S0016     8.00"
      ]
     },
     "execution_count": 26,
     "metadata": {},
     "output_type": "execute_result"
    }
   ],
   "source": [
    "%%time\n",
    "\n",
    "cube.query(m[\"PROFIT\"], levels=[l[\"DATE\"], l[\"PRODUCT\"], l[\"SALE_ID\"]])"
   ]
  },
  {
   "cell_type": "markdown",
   "id": "fd36b224-ab65-45f0-a2fb-1e44c5fdb1c8",
   "metadata": {},
   "source": [
    "Previously, it took close to `3s` to return the query results. Now, it only takes slightly over `100ms` to return the results (YMMV).  \n",
    "\n",
    "Note that we are querying `PROFIT` and not the measures `m[\"QUANTITY.SUM\"]`, `m[\"PURCHASE_PRICE.SUM\"]` and `m[\"UNIT_PRICE.SUM\"]`. However, `PROFIT` is computed on the fly using the cached data in memory. Therefore, the query speed is improved drastically."
   ]
  },
  {
   "cell_type": "code",
   "execution_count": 27,
   "id": "800e212c-f4ce-4e77-8653-f8afd9b50043",
   "metadata": {
    "tags": []
   },
   "outputs": [
    {
     "name": "stdout",
     "output_type": "stream",
     "text": [
      "CPU times: user 6.22 ms, sys: 1.53 ms, total: 7.76 ms\n",
      "Wall time: 23.8 ms\n"
     ]
    },
    {
     "data": {
      "application/vnd.atoti.convert-mdx-query-result-to-widget.v0+json": {
       "mdx": "SELECT {[Measures].[PROFIT]} ON COLUMNS, NON EMPTY Hierarchize(Descendants({[Atoti Sales].[PRODUCT].[ALL].[AllMember]}, 1, SELF_AND_BEFORE)) ON ROWS FROM [Atoti Sales]",
       "sessionId": "1733417670_990538",
       "widgetCreationCode": "session.widget"
      },
      "text/html": [
       "<div>\n",
       "<style scoped>\n",
       "    .dataframe tbody tr th:only-of-type {\n",
       "        vertical-align: middle;\n",
       "    }\n",
       "\n",
       "    .dataframe tbody tr th {\n",
       "        vertical-align: top;\n",
       "    }\n",
       "\n",
       "    .dataframe thead th {\n",
       "        text-align: right;\n",
       "    }\n",
       "</style>\n",
       "<table border=\"1\" class=\"dataframe\">\n",
       "  <thead>\n",
       "    <tr style=\"text-align: right;\">\n",
       "      <th></th>\n",
       "      <th>PROFIT</th>\n",
       "    </tr>\n",
       "    <tr>\n",
       "      <th>PRODUCT</th>\n",
       "      <th></th>\n",
       "    </tr>\n",
       "  </thead>\n",
       "  <tbody>\n",
       "    <tr>\n",
       "      <th>BED_2</th>\n",
       "      <td>138.00</td>\n",
       "    </tr>\n",
       "    <tr>\n",
       "      <th>HOO_5</th>\n",
       "      <td>30.00</td>\n",
       "    </tr>\n",
       "    <tr>\n",
       "      <th>TAB_0</th>\n",
       "      <td>80.00</td>\n",
       "    </tr>\n",
       "    <tr>\n",
       "      <th>TAB_1</th>\n",
       "      <td>80.00</td>\n",
       "    </tr>\n",
       "    <tr>\n",
       "      <th>TSH_3</th>\n",
       "      <td>9.00</td>\n",
       "    </tr>\n",
       "    <tr>\n",
       "      <th>TSH_4</th>\n",
       "      <td>20.00</td>\n",
       "    </tr>\n",
       "  </tbody>\n",
       "</table>\n",
       "</div>"
      ],
      "text/plain": [
       "         PROFIT\n",
       "PRODUCT        \n",
       "BED_2    138.00\n",
       "HOO_5     30.00\n",
       "TAB_0     80.00\n",
       "TAB_1     80.00\n",
       "TSH_3      9.00\n",
       "TSH_4     20.00"
      ]
     },
     "execution_count": 27,
     "metadata": {},
     "output_type": "execute_result"
    }
   ],
   "source": [
    "%%time\n",
    "\n",
    "cube.query(m[\"PROFIT\"], levels=[l[\"PRODUCT\"]])"
   ]
  },
  {
   "cell_type": "markdown",
   "id": "3776a1f9-c10c-4912-866f-238a3b95fbee",
   "metadata": {},
   "source": [
    "Querying a subset of the aggregate provider levels also returns the result quickly.  \n",
    "\n",
    "The below query on a different level will access data from BigQuery and therefore, is limited by the querying speed of the cloud database and its network connectivity.  "
   ]
  },
  {
   "cell_type": "code",
   "execution_count": 28,
   "id": "08506fb9-16e3-4052-9288-380ecc441021",
   "metadata": {
    "tags": []
   },
   "outputs": [
    {
     "name": "stdout",
     "output_type": "stream",
     "text": [
      "CPU times: user 14.6 ms, sys: 3.85 ms, total: 18.4 ms\n",
      "Wall time: 1.42 s\n"
     ]
    },
    {
     "data": {
      "application/vnd.atoti.convert-mdx-query-result-to-widget.v0+json": {
       "mdx": "SELECT {[Measures].[PROFIT]} ON COLUMNS, NON EMPTY Crossjoin(Hierarchize(Descendants({[Atoti Sales].[DATE].[ALL].[AllMember]}, 1, SELF_AND_BEFORE)), Hierarchize(Descendants({[Atoti Product].[CATEGORY].[ALL].[AllMember]}, 2, SELF_AND_BEFORE))) DIMENSION PROPERTIES CHILDREN_CARDINALITY ON ROWS FROM [Atoti Sales]",
       "sessionId": "1733417670_990538",
       "widgetCreationCode": "session.widget"
      },
      "text/html": [
       "<div>\n",
       "<style scoped>\n",
       "    .dataframe tbody tr th:only-of-type {\n",
       "        vertical-align: middle;\n",
       "    }\n",
       "\n",
       "    .dataframe tbody tr th {\n",
       "        vertical-align: top;\n",
       "    }\n",
       "\n",
       "    .dataframe thead th {\n",
       "        text-align: right;\n",
       "    }\n",
       "</style>\n",
       "<table border=\"1\" class=\"dataframe\">\n",
       "  <thead>\n",
       "    <tr style=\"text-align: right;\">\n",
       "      <th></th>\n",
       "      <th></th>\n",
       "      <th></th>\n",
       "      <th>PROFIT</th>\n",
       "    </tr>\n",
       "    <tr>\n",
       "      <th>DATE</th>\n",
       "      <th>CATEGORY</th>\n",
       "      <th>SUB_CATEGORY</th>\n",
       "      <th></th>\n",
       "    </tr>\n",
       "  </thead>\n",
       "  <tbody>\n",
       "    <tr>\n",
       "      <th rowspan=\"2\" valign=\"top\">2022-02-04</th>\n",
       "      <th>Cloth</th>\n",
       "      <th>Hoodie</th>\n",
       "      <td>10.00</td>\n",
       "    </tr>\n",
       "    <tr>\n",
       "      <th>Furniture</th>\n",
       "      <th>Table</th>\n",
       "      <td>20.00</td>\n",
       "    </tr>\n",
       "    <tr>\n",
       "      <th rowspan=\"3\" valign=\"top\">2022-02-03</th>\n",
       "      <th rowspan=\"2\" valign=\"top\">Cloth</th>\n",
       "      <th>Hoodie</th>\n",
       "      <td>10.00</td>\n",
       "    </tr>\n",
       "    <tr>\n",
       "      <th>Tshirt</th>\n",
       "      <td>3.00</td>\n",
       "    </tr>\n",
       "    <tr>\n",
       "      <th>Furniture</th>\n",
       "      <th>Table</th>\n",
       "      <td>40.00</td>\n",
       "    </tr>\n",
       "    <tr>\n",
       "      <th rowspan=\"3\" valign=\"top\">2022-02-02</th>\n",
       "      <th rowspan=\"2\" valign=\"top\">Cloth</th>\n",
       "      <th>Hoodie</th>\n",
       "      <td>10.00</td>\n",
       "    </tr>\n",
       "    <tr>\n",
       "      <th>Tshirt</th>\n",
       "      <td>7.00</td>\n",
       "    </tr>\n",
       "    <tr>\n",
       "      <th>Furniture</th>\n",
       "      <th>Table</th>\n",
       "      <td>40.00</td>\n",
       "    </tr>\n",
       "    <tr>\n",
       "      <th rowspan=\"3\" valign=\"top\">2022-02-01</th>\n",
       "      <th>Cloth</th>\n",
       "      <th>Tshirt</th>\n",
       "      <td>11.00</td>\n",
       "    </tr>\n",
       "    <tr>\n",
       "      <th rowspan=\"2\" valign=\"top\">Furniture</th>\n",
       "      <th>Bed</th>\n",
       "      <td>23.00</td>\n",
       "    </tr>\n",
       "    <tr>\n",
       "      <th>Table</th>\n",
       "      <td>60.00</td>\n",
       "    </tr>\n",
       "    <tr>\n",
       "      <th rowspan=\"2\" valign=\"top\">2022-01-31</th>\n",
       "      <th>Cloth</th>\n",
       "      <th>Tshirt</th>\n",
       "      <td>8.00</td>\n",
       "    </tr>\n",
       "    <tr>\n",
       "      <th>Furniture</th>\n",
       "      <th>Bed</th>\n",
       "      <td>115.00</td>\n",
       "    </tr>\n",
       "  </tbody>\n",
       "</table>\n",
       "</div>"
      ],
      "text/plain": [
       "                                   PROFIT\n",
       "DATE       CATEGORY  SUB_CATEGORY        \n",
       "2022-02-04 Cloth     Hoodie         10.00\n",
       "           Furniture Table          20.00\n",
       "2022-02-03 Cloth     Hoodie         10.00\n",
       "                     Tshirt          3.00\n",
       "           Furniture Table          40.00\n",
       "2022-02-02 Cloth     Hoodie         10.00\n",
       "                     Tshirt          7.00\n",
       "           Furniture Table          40.00\n",
       "2022-02-01 Cloth     Tshirt         11.00\n",
       "           Furniture Bed            23.00\n",
       "                     Table          60.00\n",
       "2022-01-31 Cloth     Tshirt          8.00\n",
       "           Furniture Bed           115.00"
      ]
     },
     "execution_count": 28,
     "metadata": {},
     "output_type": "execute_result"
    }
   ],
   "source": [
    "%%time\n",
    "\n",
    "cube.query(m[\"PROFIT\"], levels=[l[\"DATE\"], l[\"SUB_CATEGORY\"]])"
   ]
  },
  {
   "cell_type": "markdown",
   "id": "c260f204-8f69-4f99-aefa-3e881c29e4bc",
   "metadata": {},
   "source": [
    "Before we are done with this example, let's create another aggregate provider with a _slice_ of data using `filter`.  \n",
    "\n",
    "Let's first capture the timing of the query without the aggregate provider."
   ]
  },
  {
   "cell_type": "code",
   "execution_count": 29,
   "id": "fe342fd4-1c7f-4995-833d-f3cac15d2aa4",
   "metadata": {},
   "outputs": [
    {
     "name": "stdout",
     "output_type": "stream",
     "text": [
      "CPU times: user 22.2 ms, sys: 3.68 ms, total: 25.8 ms\n",
      "Wall time: 2.13 s\n"
     ]
    },
    {
     "data": {
      "application/vnd.atoti.convert-mdx-query-result-to-widget.v0+json": {
       "mdx": "SELECT {[Measures].[PROFIT]} ON COLUMNS, NON EMPTY Crossjoin(Hierarchize(Descendants({[Atoti Sales].[DATE].[ALL].[AllMember]}, 1, SELF_AND_BEFORE)), Hierarchize(Descendants({[Atoti Product].[CATEGORY].[ALL].[AllMember]}, 2, SELF_AND_BEFORE))) DIMENSION PROPERTIES CHILDREN_CARDINALITY ON ROWS FROM (SELECT [Atoti Sales].[DATE].[ALL].[AllMember].[2022-02-04] ON COLUMNS FROM [Atoti Sales])",
       "sessionId": "1733417670_990538",
       "widgetCreationCode": "session.widget"
      },
      "text/html": [
       "<div>\n",
       "<style scoped>\n",
       "    .dataframe tbody tr th:only-of-type {\n",
       "        vertical-align: middle;\n",
       "    }\n",
       "\n",
       "    .dataframe tbody tr th {\n",
       "        vertical-align: top;\n",
       "    }\n",
       "\n",
       "    .dataframe thead th {\n",
       "        text-align: right;\n",
       "    }\n",
       "</style>\n",
       "<table border=\"1\" class=\"dataframe\">\n",
       "  <thead>\n",
       "    <tr style=\"text-align: right;\">\n",
       "      <th></th>\n",
       "      <th></th>\n",
       "      <th></th>\n",
       "      <th>PROFIT</th>\n",
       "    </tr>\n",
       "    <tr>\n",
       "      <th>DATE</th>\n",
       "      <th>CATEGORY</th>\n",
       "      <th>SUB_CATEGORY</th>\n",
       "      <th></th>\n",
       "    </tr>\n",
       "  </thead>\n",
       "  <tbody>\n",
       "    <tr>\n",
       "      <th rowspan=\"2\" valign=\"top\">2022-02-04</th>\n",
       "      <th>Cloth</th>\n",
       "      <th>Hoodie</th>\n",
       "      <td>10.00</td>\n",
       "    </tr>\n",
       "    <tr>\n",
       "      <th>Furniture</th>\n",
       "      <th>Table</th>\n",
       "      <td>20.00</td>\n",
       "    </tr>\n",
       "  </tbody>\n",
       "</table>\n",
       "</div>"
      ],
      "text/plain": [
       "                                  PROFIT\n",
       "DATE       CATEGORY  SUB_CATEGORY       \n",
       "2022-02-04 Cloth     Hoodie        10.00\n",
       "           Furniture Table         20.00"
      ]
     },
     "execution_count": 29,
     "metadata": {},
     "output_type": "execute_result"
    }
   ],
   "source": [
    "%%time\n",
    "\n",
    "cube.query(\n",
    "    m[\"PROFIT\"],\n",
    "    levels=[l[\"DATE\"], l[\"CATEGORY\"], l[\"SUB_CATEGORY\"]],\n",
    "    filter=(l[\"DATE\"] == \"2022-02-04\"),\n",
    ")"
   ]
  },
  {
   "cell_type": "code",
   "execution_count": 30,
   "id": "b240a857-71f6-4344-8967-570013c0ac98",
   "metadata": {
    "tags": []
   },
   "outputs": [],
   "source": [
    "from datetime import date\n",
    "\n",
    "current_date = date(2022, 2, 4)"
   ]
  },
  {
   "cell_type": "markdown",
   "id": "9526ed6a-2c74-4ab5-935e-51899123340c",
   "metadata": {},
   "source": [
    "In the event where users are interested in a particular member of level, e.g. the current date or a particular shop, and the amount of querying on this member is huge, then it makes sense to cache them in memory.  \n",
    "\n",
    "In this case, we apply filter just for the interested member. This helps to control the amount of data held in memory."
   ]
  },
  {
   "cell_type": "code",
   "execution_count": 31,
   "id": "17ae6441-66db-4038-bfee-28df3b2c576e",
   "metadata": {},
   "outputs": [],
   "source": [
    "cube.aggregate_providers.update(\n",
    "    {\n",
    "        \"Category provider\": tt.AggregateProvider(\n",
    "            key=\"bitmap\",\n",
    "            levels=[l[\"DATE\"], l[\"CATEGORY\"], l[\"SUB_CATEGORY\"]],\n",
    "            measures=[m[\"QUANTITY.SUM\"], m[\"PURCHASE_PRICE.SUM\"], m[\"UNIT_PRICE.SUM\"]],\n",
    "            filter=(l[\"DATE\"] == current_date),\n",
    "        )\n",
    "    }\n",
    ")"
   ]
  },
  {
   "cell_type": "code",
   "execution_count": 32,
   "id": "adc253db-cebe-49a2-a8ae-2f9630d5338d",
   "metadata": {
    "tags": []
   },
   "outputs": [
    {
     "name": "stdout",
     "output_type": "stream",
     "text": [
      "CPU times: user 15.4 ms, sys: 3.65 ms, total: 19.1 ms\n",
      "Wall time: 1.51 s\n"
     ]
    },
    {
     "data": {
      "application/vnd.atoti.convert-mdx-query-result-to-widget.v0+json": {
       "mdx": "SELECT {[Measures].[PROFIT]} ON COLUMNS, NON EMPTY Crossjoin(Hierarchize(Descendants({[Atoti Sales].[DATE].[ALL].[AllMember]}, 1, SELF_AND_BEFORE)), Hierarchize(Descendants({[Atoti Product].[CATEGORY].[ALL].[AllMember]}, 2, SELF_AND_BEFORE))) DIMENSION PROPERTIES CHILDREN_CARDINALITY ON ROWS FROM (SELECT [Atoti Sales].[DATE].[ALL].[AllMember].[2022-02-04] ON COLUMNS FROM [Atoti Sales])",
       "sessionId": "1733417670_990538",
       "widgetCreationCode": "session.widget"
      },
      "text/html": [
       "<div>\n",
       "<style scoped>\n",
       "    .dataframe tbody tr th:only-of-type {\n",
       "        vertical-align: middle;\n",
       "    }\n",
       "\n",
       "    .dataframe tbody tr th {\n",
       "        vertical-align: top;\n",
       "    }\n",
       "\n",
       "    .dataframe thead th {\n",
       "        text-align: right;\n",
       "    }\n",
       "</style>\n",
       "<table border=\"1\" class=\"dataframe\">\n",
       "  <thead>\n",
       "    <tr style=\"text-align: right;\">\n",
       "      <th></th>\n",
       "      <th></th>\n",
       "      <th></th>\n",
       "      <th>PROFIT</th>\n",
       "    </tr>\n",
       "    <tr>\n",
       "      <th>DATE</th>\n",
       "      <th>CATEGORY</th>\n",
       "      <th>SUB_CATEGORY</th>\n",
       "      <th></th>\n",
       "    </tr>\n",
       "  </thead>\n",
       "  <tbody>\n",
       "    <tr>\n",
       "      <th rowspan=\"2\" valign=\"top\">2022-02-04</th>\n",
       "      <th>Cloth</th>\n",
       "      <th>Hoodie</th>\n",
       "      <td>10.00</td>\n",
       "    </tr>\n",
       "    <tr>\n",
       "      <th>Furniture</th>\n",
       "      <th>Table</th>\n",
       "      <td>20.00</td>\n",
       "    </tr>\n",
       "  </tbody>\n",
       "</table>\n",
       "</div>"
      ],
      "text/plain": [
       "                                  PROFIT\n",
       "DATE       CATEGORY  SUB_CATEGORY       \n",
       "2022-02-04 Cloth     Hoodie        10.00\n",
       "           Furniture Table         20.00"
      ]
     },
     "execution_count": 32,
     "metadata": {},
     "output_type": "execute_result"
    }
   ],
   "source": [
    "%%time\n",
    "\n",
    "cube.query(\n",
    "    m[\"PROFIT\"],\n",
    "    levels=[l[\"DATE\"], l[\"CATEGORY\"], l[\"SUB_CATEGORY\"]],\n",
    "    filter=(l[\"DATE\"] == \"2022-02-04\"),\n",
    ")"
   ]
  },
  {
   "cell_type": "markdown",
   "id": "4b392590-0e19-4d03-84db-853028977e8b",
   "metadata": {},
   "source": [
    "## Balance between Cost and Performance"
   ]
  },
  {
   "cell_type": "markdown",
   "id": "1f44c57a-00ad-44eb-9195-ed0b0a808a62",
   "metadata": {},
   "source": [
    "All in all, Atoti's DirectQuery offers users a way to balance between cost and performance:\n",
    "\n",
    "* For data that is less queried, it resides on the cloud database and gets queried on-demand.\n",
    "* For data that is more frequently queried, we can cache it in memory and reduce the number of queries to the cloud database, thereby improving performance.  \n",
    "\n",
    "<img src=\"https://data.atoti.io/notebooks/direct-query/img/aggregate_cache.png\" />  \n",
    "\n",
    "💡 **Note:** To find out more, reach out to [ActiveViam](https://activeviam.com/contact-us/?utm_source=github&utm_medium=atoti) for a demonstration."
   ]
  },
  {
   "cell_type": "markdown",
   "id": "455e3f95-0a8c-48bf-b793-69d5fe2f2083",
   "metadata": {},
   "source": [
    "<div style=\"text-align: center;\" ><a href=\"https://www.atoti.io/?utm_source=gallery&utm_content=directquery-intro\" target=\"_blank\" rel=\"noopener noreferrer\"><img src=\"https://data.atoti.io/notebooks/banners/Your-turn-to-try-Atoti.jpg\" alt=\"Try Atoti\"></a></div>"
   ]
  }
 ],
 "metadata": {
  "kernelspec": {
   "display_name": "Python 3 (ipykernel)",
   "language": "python",
   "name": "python3"
  },
  "language_info": {
   "codemirror_mode": {
    "name": "ipython",
    "version": 3
   },
   "file_extension": ".py",
   "mimetype": "text/x-python",
   "name": "python",
   "nbconvert_exporter": "python",
   "pygments_lexer": "ipython3",
   "version": "3.10.11"
  },
  "widgets": {
   "application/vnd.jupyter.widget-state+json": {
    "state": {},
    "version_major": 2,
    "version_minor": 0
   }
  }
 },
 "nbformat": 4,
 "nbformat_minor": 5
}
