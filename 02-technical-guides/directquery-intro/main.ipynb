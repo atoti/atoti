{
 "cells": [
  {
   "cell_type": "markdown",
   "id": "ac3fbb12-82a8-4e9f-aa4e-e1ad414ce283",
   "metadata": {},
   "source": [
    "# DirectQuery: Combining Atoti and Data Warehouses"
   ]
  },
  {
   "cell_type": "markdown",
   "id": "a671e16d-c06b-432f-92c6-5b2d2f7043bd",
   "metadata": {},
   "source": [
    "We know Atoti provides in-memory analytics for big data. This means that we hold data in memory and perform aggregation on the fly in order to achieve fast and dynamic computations. In our usual Atoti setup, the hosting server requires a memory size that's about 1.5 times of the amount of data that gets loaded into the cube. However, with Atoti's DirectQuery, we can better support our users who store their data on the cloud! In fact, it applies for on-premise databases such as [ClickHouse](https://clickhouse.com/clickhouse) and [Microsoft SQL Server](https://www.microsoft.com/en-sg/sql-server/sql-server-downloads) too.  \n",
    "\n",
    "<img src=\"https://data.atoti.io/notebooks/direct-query/img/cost_vs_performance.png\" width=\"850px\"/>\n",
    "\n",
    "In a gist, here's what DirectQuery offers:  \n",
    "\n",
    "- Scalability\n",
    "\n",
    "> Leveraging the scalability of cloud data warehouse, the server that hosts Atoti only has to take into consideration the amount of data that gets queried on a daily basis.  \n",
    "> Instead of storing all of the data in physical memory, DirectQuery enables us to query the Cloud database directly, reducing the need for memory in the hosting server.  \n",
    "\n",
    "- Cost savings\n",
    "\n",
    "> Other than saving on the memory required for the hosting server, DirectQuery helps to save on the data transfer costs.  \n",
    "> While cloud data warehouse is cost-effective, we incur costs when we perform queries.  \n",
    "> We can reduce querying to the Cloud database by loading an aggregated cache in memory for the most frequently queried data.  \n",
    "\n",
    "- Technology agnosticism\n",
    "\n",
    "> With changes to only a few lines of data connectivity code in Atoti, we can easily switch from one Cloud service provider to another without impacting the Atoti server.  \n",
    "> We can even switch over to other data connectors such as physical files.  \n",
    "\n",
    "\n",
    "This notebook provides a quick introduction to how we can connect to Google BigQuery and create an Atoti cube."
   ]
  },
  {
   "cell_type": "markdown",
   "id": "f23aeb88-5455-44ee-892d-4aa7fc2dbfb7",
   "metadata": {},
   "source": [
    "<div style=\"text-align: center;\" ><a href=\"https://www.atoti.io/?utm_source=gallery&utm_content=directquery-intro\" target=\"_blank\" rel=\"noopener noreferrer\"><img src=\"https://data.atoti.io/notebooks/banners/Discover-Atoti-now.png\" alt=\"Try Atoti\"></a></div>"
   ]
  },
  {
   "cell_type": "markdown",
   "id": "663b2051-11e1-4815-8a2c-fde3d450d07b",
   "metadata": {},
   "source": [
    "## Google BigQuery configuration"
   ]
  },
  {
   "cell_type": "markdown",
   "id": "1db76b03-dbe0-4223-a656-8b7e9e2ff260",
   "metadata": {},
   "source": [
    "### Step 1 — Create role with permissions\n",
    "\n",
    "- Login to Google Cloud console.\n",
    "- Navigate to __IAM & Admin__ > __Roles__.  \n",
    "- Create a role with the following permission for the DirectQuery users:  \n",
    "    - `bigquery.datasets.get`\n",
    "    - `bigquery.jobs.create`\n",
    "    - `bigquery.readsessions.create`\n",
    "    - `bigquery.readsessions.getData`\n",
    "    - `bigquery.readsessions.update`\n",
    "    - `bigquery.routines.get`\n",
    "    - `bigquery.tables.get`\n",
    "    - `bigquery.tables.getData`\n",
    "    - `bigquery.tables.list`\n",
    "\n",
    "⚠️ **Important:** Having trouble pulling your data after setting up your account? Confirm that the above permissions have been set up properly!  \n",
    "\n",
    "<img src=\"https://data.atoti.io/notebooks/direct-query/img/bigquery_permission.png\" />\n",
    "\n",
    "💡 **Note:** For more details, refer to the [Atoti Server documentation](https://docs.activeviam.com/products/atoti/server/latest/docs/directquery/connect_to_external/connect_to_bigquery/)."
   ]
  },
  {
   "cell_type": "markdown",
   "id": "2143280e-d2b0-4da1-b20d-78af65d26753",
   "metadata": {},
   "source": [
    "### Step 2 — Create Service Account\n",
    "\n",
    "* Under **IAM & Admin**, navigate to **Service Accounts**.\n",
    "* Create a service account and assign the role created in Step 1.\n",
    "\n",
    "    <img src=\"https://data.atoti.io/notebooks/direct-query/img/service_account.png\" width=\"700px\"/>  "
   ]
  },
  {
   "cell_type": "markdown",
   "id": "03e75ceb-055a-4986-aa8d-6858422b260a",
   "metadata": {
    "tags": []
   },
   "source": [
    "### Step 3 — Generate API Key \n",
    "\n",
    "- Navigate to the __KEYS__ tab and generate a new key.  \n",
    "\n",
    "    <img src=\"https://data.atoti.io/notebooks/direct-query/img/create_key.png\" />  \n",
    "\n",
    "- Select `JSON` as key type and save the downloaded key to a server folder:  \n",
    "\n",
    "    <img src=\"https://data.atoti.io/notebooks/direct-query/img/json_key.png\" />\n",
    "\n",
    "- Configure environment variable pointing to the JSON key. In this use case, our environment variable is `DQ_GOOGLE_CREDENTIAL`:  \n",
    "\n",
    "    <img src=\"https://data.atoti.io/notebooks/direct-query/img/environment_variable.png\" />  \n",
    "\n",
    "💡 **Note:** Alternatively, we can set up [Application Default Credentials](https://cloud.google.com/docs/authentication/provide-credentials-adc) for authentication.  "
   ]
  },
  {
   "cell_type": "markdown",
   "id": "95e30413-d630-4b1b-a304-d824e9649c3d",
   "metadata": {},
   "source": [
    "## Database set up  \n",
    "\n",
    "To try out this notebook, you can setup the database schema and tables using the [database script](db_schema.sql) in the use case folder.  "
   ]
  },
  {
   "cell_type": "markdown",
   "id": "fcfd6d72-801a-460c-9e1f-4e0843909442",
   "metadata": {},
   "source": [
    "## Atoti Setup"
   ]
  },
  {
   "cell_type": "markdown",
   "id": "8857ebb1-032f-4b69-84e6-b8cf7e431def",
   "metadata": {},
   "source": [
    "We import [Atoti](https://docs.atoti.io/latest/getting_started/installation.html) library and create the [Atoti Session](https://docs.atoti.io/latest/api/atoti.Session.html#atoti.Session) as we always do.  "
   ]
  },
  {
   "cell_type": "code",
   "execution_count": 1,
   "id": "7d97f0ea-5b39-4c60-9a10-1cae5a22616d",
   "metadata": {
    "tags": []
   },
   "outputs": [],
   "source": [
    "import os\n",
    "import atoti as tt"
   ]
  },
  {
   "cell_type": "code",
   "execution_count": 2,
   "id": "3898f076-a031-49b7-a75f-074008d89a26",
   "metadata": {
    "tags": []
   },
   "outputs": [],
   "source": [
    "session = tt.Session()"
   ]
  },
  {
   "cell_type": "markdown",
   "id": "9e855ec8-18bb-46fa-8e99-751edafeb94c",
   "metadata": {},
   "source": [
    "## DirectQuery Prerequisites"
   ]
  },
  {
   "cell_type": "markdown",
   "id": "01a8923b-80b3-4bfd-86a0-2d705d4bb805",
   "metadata": {},
   "source": [
    "DirectQuery supports a few [databases](https://docs.atoti.io/latest/reference.html#directquery). For each of these databases, we have to install its respective Python plugin.  \n",
    "- `atoti-directquery-bigquery` : To use DirectQuery on Google BigQuery.\n",
    "- `atoti-directquery-clickhouse` : To use DirectQuery with ClickHouse.\n",
    "- `atoti-directquery-databricks` : To use DirectQuery on Databricks.\n",
    "- `atoti-directquery-mssql` : To use DirectQuery with Microsoft SQL Server.\n",
    "- `atoti-directquery-redshift` : To use DirectQuery on Amazon Redshift.\n",
    "- `atoti-directquery-snowflake` : To use DirectQuery on Snowflake.\n",
    "- `atoti-directquery-synapse` : To use DirectQuery on Azure Synapse Analytics.  \n",
    "\n",
    "In our example, we install the plugin for Google BigQuery. Uncomment the below line to install the plugin if it isn't installed.  \n",
    "\n",
    "⚠️ **Important:** We only support one type of database connection per Atoti session."
   ]
  },
  {
   "cell_type": "code",
   "execution_count": 3,
   "id": "af8780d7-ec54-481a-98d7-4cc9f7e030c1",
   "metadata": {
    "tags": []
   },
   "outputs": [],
   "source": [
    "# !pip install atoti-directquery-bigquery"
   ]
  },
  {
   "cell_type": "markdown",
   "id": "1d997a63-e2db-48f9-b501-0532c5eabb3d",
   "metadata": {},
   "source": [
    "We will be using two components from the DirectQueryPlugin:\n",
    "- [BigqueryConnectionInfo](https://docs.atoti.io/latest/api/atoti_directquery_bigquery.BigqueryConnectionInfo.html#atoti_directquery_bigquery.BigqueryConnectionInfo): Configure the connection information to BigQuery.\n",
    "- [BigqueryTableOptions](https://docs.atoti.io/latest/api/atoti_directquery_bigquery.BigqueryTableOptions.html#atoti_directquery_bigquery.BigqueryTableOptions): Configure the table options about the external table to create in Atoti.  \n",
    "\n",
    "⚠️ **Important:** Use the corresponding components for different databases if we are using a different one from BigQuery. E.g. we use [`ClickhouseConnectionInfo`](https://docs.atoti.io/latest/api/atoti_directquery_clickhouse.ClickhouseConnectionInfo.html#atoti_directquery_clickhouse.ClickhouseConnectionInfo) and [`ClickhouseTableOptions`](https://docs.atoti.io/latest/api/atoti_directquery_clickhouse.ClickhouseTableOptions.html#atoti_directquery_clickhouse.ClickhouseTableOptions) if we are connecting to [ClickHouse](https://clickhouse.com/)."
   ]
  },
  {
   "cell_type": "markdown",
   "id": "4509d71b-4d1b-4297-b18a-10430b128507",
   "metadata": {},
   "source": [
    "## Connection setup to Google BigQuery"
   ]
  },
  {
   "cell_type": "code",
   "execution_count": 4,
   "id": "f5eb2f90-be60-4332-80d2-1a5cd83147d4",
   "metadata": {
    "tags": []
   },
   "outputs": [],
   "source": [
    "from atoti_directquery_bigquery import BigqueryConnectionInfo"
   ]
  },
  {
   "cell_type": "markdown",
   "id": "00b90385-93af-479f-888a-bc0677f73eb2",
   "metadata": {},
   "source": [
    "In the below snippet, we use the environment variable to obtain the path to the [API key generated previous in Step 3](#Step-3-—-Generate-API-Key). Setting the credential path into `BigqueryConnectionInfo`, we can invoke the connection to the external database.  "
   ]
  },
  {
   "cell_type": "code",
   "execution_count": 5,
   "id": "ea50d105-284f-4296-b654-b5465037d634",
   "metadata": {
    "tags": []
   },
   "outputs": [],
   "source": [
    "credential = os.environ[\"DQ_GOOGLE_CREDENTIAL\"]\n",
    "connection_info = BigqueryConnectionInfo(credential)\n",
    "\n",
    "external_database = session.connect_to_external_database(connection_info)"
   ]
  },
  {
   "cell_type": "markdown",
   "id": "8e7f4c10-5dc6-4c53-aeea-ef4864471caf",
   "metadata": {},
   "source": [
    "### Discover External Tables"
   ]
  },
  {
   "cell_type": "markdown",
   "id": "51f3c2ee-c57b-49df-9756-60c96d9b0734",
   "metadata": {
    "tags": []
   },
   "source": [
    "Once connected, we can discover the tables available to us from the external database."
   ]
  },
  {
   "cell_type": "code",
   "execution_count": 6,
   "id": "5e85bd6f-dd6a-4ab8-a2f2-51d7759466de",
   "metadata": {
    "tags": []
   },
   "outputs": [
    {
     "data": {
      "application/json": {
       "activeviam-dq-tutorial": {
        "tutorial": [
         "PRODUCTS",
         "SALES"
        ]
       }
      },
      "text/html": [
       "<ul>\n",
       "<li>BIGQUERY\n",
       "  <ul>\n",
       "  <li>activeviam-dq-tutorial\n",
       "    <ul>\n",
       "    <li>tutorial\n",
       "      <ol>\n",
       "      <li>PRODUCTS</li>\n",
       "      <li>SALES</li>\n",
       "      </ol>    </li>\n",
       "    </ul>\n",
       "  </li>\n",
       "  </ul>\n",
       "</li>\n",
       "</ul>\n"
      ],
      "text/plain": [
       "<atoti.directquery.external_tables.ExternalTables at 0x125580a30>"
      ]
     },
     "execution_count": 6,
     "metadata": {
      "application/json": {
       "expanded": false,
       "root": "BIGQUERY"
      }
     },
     "output_type": "execute_result"
    }
   ],
   "source": [
    "external_database.tables"
   ]
  },
  {
   "cell_type": "markdown",
   "id": "4187eaef-cae3-44ca-80c1-dd952dd3faab",
   "metadata": {},
   "source": [
    "If the database has many schemas, we can perform a filter to access only the schema that we want."
   ]
  },
  {
   "cell_type": "code",
   "execution_count": 7,
   "id": "63c5fafe-05e1-429e-8f35-9f3f072e34f7",
   "metadata": {
    "tags": []
   },
   "outputs": [
    {
     "data": {
      "application/json": {
       "activeviam-dq-tutorial": {
        "tutorial": [
         "PRODUCTS",
         "SALES"
        ]
       }
      },
      "text/html": [
       "<ul>\n",
       "<li>BIGQUERY\n",
       "  <ul>\n",
       "  <li>activeviam-dq-tutorial\n",
       "    <ul>\n",
       "    <li>tutorial\n",
       "      <ol>\n",
       "      <li>PRODUCTS</li>\n",
       "      <li>SALES</li>\n",
       "      </ol>    </li>\n",
       "    </ul>\n",
       "  </li>\n",
       "  </ul>\n",
       "</li>\n",
       "</ul>\n"
      ],
      "text/plain": [
       "<atoti.directquery.external_tables.ExternalTables at 0x1255826b0>"
      ]
     },
     "execution_count": 7,
     "metadata": {
      "application/json": {
       "expanded": false,
       "root": "BIGQUERY"
      }
     },
     "output_type": "execute_result"
    }
   ],
   "source": [
    "external_database.tables._filter(schema_pattern=\"tutorial\")"
   ]
  },
  {
   "cell_type": "markdown",
   "id": "f1308a2c-a4d2-40e5-9985-7013fa05a9fb",
   "metadata": {},
   "source": [
    "### Discover Table Columns"
   ]
  },
  {
   "cell_type": "markdown",
   "id": "e72119a9-ed38-4d83-a8a5-1fe021b48e5c",
   "metadata": {},
   "source": [
    "If a table name is unique in the database, we can check its structure directly using its name:  "
   ]
  },
  {
   "cell_type": "code",
   "execution_count": 8,
   "id": "f91519b6-a36b-4f0c-b1f0-949b0be22d5f",
   "metadata": {
    "tags": []
   },
   "outputs": [
    {
     "data": {
      "application/json": {
       "DATE": "LocalDate",
       "PRODUCT": "String",
       "QUANTITY": "long",
       "SALE_ID": "String",
       "SHOP": "String",
       "UNIT_PRICE": "double"
      },
      "text/html": [
       "<ul>\n",
       "<li>SALES\n",
       "  <ul>\n",
       "  <li>SALE_ID: String</li>\n",
       "  <li>DATE: LocalDate</li>\n",
       "  <li>SHOP: String</li>\n",
       "  <li>PRODUCT: String</li>\n",
       "  <li>QUANTITY: long</li>\n",
       "  <li>UNIT_PRICE: double</li>\n",
       "  </ul>\n",
       "</li>\n",
       "</ul>\n"
      ],
      "text/plain": [
       "<atoti_directquery_bigquery.table.BigqueryTable at 0x125583070>"
      ]
     },
     "execution_count": 8,
     "metadata": {
      "application/json": {
       "expanded": true,
       "root": "SALES"
      }
     },
     "output_type": "execute_result"
    }
   ],
   "source": [
    "external_database.tables[\"SALES\"]"
   ]
  },
  {
   "cell_type": "markdown",
   "id": "1d9ef3fb-85a5-472b-aa12-8a88e3d1e6d9",
   "metadata": {},
   "source": [
    "However, to be precise, it is a good practice to refer to the table using its database, schema and table names. Uncomment and execute the following cells as to try this out."
   ]
  },
  {
   "cell_type": "code",
   "execution_count": 9,
   "id": "247c876c-2b44-4b0f-8bcf-8864350bb3d6",
   "metadata": {
    "tags": []
   },
   "outputs": [],
   "source": [
    "# db_name = \"<database name here>\"\n",
    "# db_schema = \"tutorial\"\n",
    "# table_sales = \"SALES\""
   ]
  },
  {
   "cell_type": "code",
   "execution_count": 10,
   "id": "fbfde589-b458-474d-8665-af7b016598bc",
   "metadata": {
    "tags": []
   },
   "outputs": [],
   "source": [
    "# external_database.tables[db_name, db_schema, table_sales]"
   ]
  },
  {
   "cell_type": "markdown",
   "id": "85d14ebe-eb8a-4216-8564-8330b4b7b0d9",
   "metadata": {},
   "source": [
    "## Add External Table to Atoti"
   ]
  },
  {
   "cell_type": "markdown",
   "id": "8fa1b581-ee16-4730-8ea2-b29fa14ee03a",
   "metadata": {},
   "source": [
    "Since we have connected to the external database and we are able to see its structure, we can add the required tables to the Atoti session.  \n",
    "\n",
    "Using [BigqueryTableOptions](https://docs.atoti.io/latest/api/atoti_directquery_bigquery.BigqueryTableOptions.html#atoti_directquery_bigquery.BigqueryTableOptions), we can define additional options to the table that we will create in Atoti:\n",
    "\n",
    "- `array_conversion`: Converting values spread over multiple columns into array columns.\n",
    "- `clustering_columns`: Columns used for splitting up queries.\n",
    "- `keys`: Keys used to identify unique rows for updating of data.\n",
    "\n",
    "We will only use `keys` and `clustering_columns` in our example."
   ]
  },
  {
   "cell_type": "code",
   "execution_count": 11,
   "id": "7dab34b4-ca6f-4c80-8ba9-f8534f9eae5b",
   "metadata": {
    "tags": []
   },
   "outputs": [],
   "source": [
    "from atoti_directquery_bigquery import BigqueryTableOptions"
   ]
  },
  {
   "cell_type": "markdown",
   "id": "790b7a07-c762-438a-878e-de3611f39b5c",
   "metadata": {},
   "source": [
    "Similar to how we create keys for Atoti tables, we set the key columns in the `BigqueryTableOptions`. Note that this external table is created in Atoti and the defined keys affects only the data that is accessible in Atoti. It does not change the tables in BigQuery.  \n",
    "\n",
    "To distinguish our Atoti external table from the BigQuery table, we named them differently in our example.  "
   ]
  },
  {
   "cell_type": "code",
   "execution_count": 12,
   "id": "a580d644-94e0-4772-ac94-a9600bc08546",
   "metadata": {
    "tags": []
   },
   "outputs": [],
   "source": [
    "sales_table = session.add_external_table(\n",
    "    external_database.tables[\"SALES\"],\n",
    "    table_name=\"Atoti Sales\",\n",
    "    options=BigqueryTableOptions(\n",
    "        keys=[\"SALE_ID\"], clustering_columns={\"DATE\", \"PRODUCT\"}\n",
    "    ),\n",
    ")"
   ]
  },
  {
   "cell_type": "markdown",
   "id": "ac9b4de4-60f9-45d9-8b87-e7d0452714ee",
   "metadata": {},
   "source": [
    "To speed up querying, Atoti makes use of [aggregate providers](https://docs.atoti.io/latest/api/atoti.AggregateProvider.html#atoti.AggregateProvider) to pre-aggregates some table columns up to certain levels. Feeding such providers from an external database can result in very large queries to be run on the database. Some databases can have trouble processing such large queries. Therefore, we define [clustering columns](https://docs.activeviam.com/products/atoti/server/latest/docs/directquery/directquery-clustering-fields/) to help split up queries made by DirectQuery to these external database when feeding the aggregate providers.  \n",
    "\n",
    "The `clustering_columns` parameter allows us to define columns to be used for clustering. While our example uses a small dataset and clustering column is not necessary, we demonstrate how it can be used in the snippet above.  "
   ]
  },
  {
   "cell_type": "code",
   "execution_count": 13,
   "id": "561e7c19-28cc-4796-918b-24de800147a7",
   "metadata": {
    "tags": []
   },
   "outputs": [
    {
     "data": {
      "text/html": [
       "<div>\n",
       "<style scoped>\n",
       "    .dataframe tbody tr th:only-of-type {\n",
       "        vertical-align: middle;\n",
       "    }\n",
       "\n",
       "    .dataframe tbody tr th {\n",
       "        vertical-align: top;\n",
       "    }\n",
       "\n",
       "    .dataframe thead th {\n",
       "        text-align: right;\n",
       "    }\n",
       "</style>\n",
       "<table border=\"1\" class=\"dataframe\">\n",
       "  <thead>\n",
       "    <tr style=\"text-align: right;\">\n",
       "      <th></th>\n",
       "      <th>DATE</th>\n",
       "      <th>SHOP</th>\n",
       "      <th>PRODUCT</th>\n",
       "      <th>QUANTITY</th>\n",
       "      <th>UNIT_PRICE</th>\n",
       "    </tr>\n",
       "    <tr>\n",
       "      <th>SALE_ID</th>\n",
       "      <th></th>\n",
       "      <th></th>\n",
       "      <th></th>\n",
       "      <th></th>\n",
       "      <th></th>\n",
       "    </tr>\n",
       "  </thead>\n",
       "  <tbody>\n",
       "    <tr>\n",
       "      <th>S0010</th>\n",
       "      <td>2022-01-31</td>\n",
       "      <td>shop_2</td>\n",
       "      <td>BED_2</td>\n",
       "      <td>3</td>\n",
       "      <td>150.0</td>\n",
       "    </tr>\n",
       "    <tr>\n",
       "      <th>S0009</th>\n",
       "      <td>2022-01-31</td>\n",
       "      <td>shop_3</td>\n",
       "      <td>BED_2</td>\n",
       "      <td>1</td>\n",
       "      <td>150.0</td>\n",
       "    </tr>\n",
       "    <tr>\n",
       "      <th>S0008</th>\n",
       "      <td>2022-01-31</td>\n",
       "      <td>shop_4</td>\n",
       "      <td>BED_2</td>\n",
       "      <td>1</td>\n",
       "      <td>150.0</td>\n",
       "    </tr>\n",
       "    <tr>\n",
       "      <th>S0007</th>\n",
       "      <td>2022-02-01</td>\n",
       "      <td>shop_5</td>\n",
       "      <td>BED_2</td>\n",
       "      <td>1</td>\n",
       "      <td>150.0</td>\n",
       "    </tr>\n",
       "    <tr>\n",
       "      <th>S0019</th>\n",
       "      <td>2022-02-02</td>\n",
       "      <td>shop_3</td>\n",
       "      <td>HOO_5</td>\n",
       "      <td>1</td>\n",
       "      <td>48.0</td>\n",
       "    </tr>\n",
       "  </tbody>\n",
       "</table>\n",
       "</div>"
      ],
      "text/plain": [
       "              DATE    SHOP PRODUCT  QUANTITY  UNIT_PRICE\n",
       "SALE_ID                                                 \n",
       "S0010   2022-01-31  shop_2   BED_2         3       150.0\n",
       "S0009   2022-01-31  shop_3   BED_2         1       150.0\n",
       "S0008   2022-01-31  shop_4   BED_2         1       150.0\n",
       "S0007   2022-02-01  shop_5   BED_2         1       150.0\n",
       "S0019   2022-02-02  shop_3   HOO_5         1        48.0"
      ]
     },
     "execution_count": 13,
     "metadata": {},
     "output_type": "execute_result"
    }
   ],
   "source": [
    "sales_table.head()"
   ]
  },
  {
   "cell_type": "markdown",
   "id": "dc44214e-743e-4937-9269-61498986355b",
   "metadata": {},
   "source": [
    "We can add multiple tables."
   ]
  },
  {
   "cell_type": "code",
   "execution_count": 14,
   "id": "f282f67a-dfa9-4ba1-aef7-779ec734fe50",
   "metadata": {
    "tags": []
   },
   "outputs": [
    {
     "data": {
      "text/html": [
       "<div>\n",
       "<style scoped>\n",
       "    .dataframe tbody tr th:only-of-type {\n",
       "        vertical-align: middle;\n",
       "    }\n",
       "\n",
       "    .dataframe tbody tr th {\n",
       "        vertical-align: top;\n",
       "    }\n",
       "\n",
       "    .dataframe thead th {\n",
       "        text-align: right;\n",
       "    }\n",
       "</style>\n",
       "<table border=\"1\" class=\"dataframe\">\n",
       "  <thead>\n",
       "    <tr style=\"text-align: right;\">\n",
       "      <th></th>\n",
       "      <th>CATEGORY</th>\n",
       "      <th>SUB_CATEGORY</th>\n",
       "      <th>SIZE</th>\n",
       "      <th>PURCHASE_PRICE</th>\n",
       "      <th>COLOR</th>\n",
       "      <th>BRAND</th>\n",
       "    </tr>\n",
       "    <tr>\n",
       "      <th>PRODUCT_ID</th>\n",
       "      <th></th>\n",
       "      <th></th>\n",
       "      <th></th>\n",
       "      <th></th>\n",
       "      <th></th>\n",
       "      <th></th>\n",
       "    </tr>\n",
       "  </thead>\n",
       "  <tbody>\n",
       "    <tr>\n",
       "      <th>BED_2</th>\n",
       "      <td>Furniture</td>\n",
       "      <td>Bed</td>\n",
       "      <td>Single</td>\n",
       "      <td>127.0</td>\n",
       "      <td>red</td>\n",
       "      <td>Mega</td>\n",
       "    </tr>\n",
       "    <tr>\n",
       "      <th>TAB_0</th>\n",
       "      <td>Furniture</td>\n",
       "      <td>Table</td>\n",
       "      <td>1m80</td>\n",
       "      <td>190.0</td>\n",
       "      <td>black</td>\n",
       "      <td>Basic</td>\n",
       "    </tr>\n",
       "    <tr>\n",
       "      <th>TAB_1</th>\n",
       "      <td>Furniture</td>\n",
       "      <td>Table</td>\n",
       "      <td>2m40</td>\n",
       "      <td>280.0</td>\n",
       "      <td>white</td>\n",
       "      <td>Mega</td>\n",
       "    </tr>\n",
       "    <tr>\n",
       "      <th>HOO_5</th>\n",
       "      <td>Cloth</td>\n",
       "      <td>Hoodie</td>\n",
       "      <td>M</td>\n",
       "      <td>38.0</td>\n",
       "      <td>red</td>\n",
       "      <td>Mega</td>\n",
       "    </tr>\n",
       "    <tr>\n",
       "      <th>TSH_4</th>\n",
       "      <td>Cloth</td>\n",
       "      <td>Tshirt</td>\n",
       "      <td>L</td>\n",
       "      <td>20.0</td>\n",
       "      <td>black</td>\n",
       "      <td>Over</td>\n",
       "    </tr>\n",
       "  </tbody>\n",
       "</table>\n",
       "</div>"
      ],
      "text/plain": [
       "             CATEGORY SUB_CATEGORY    SIZE  PURCHASE_PRICE  COLOR  BRAND\n",
       "PRODUCT_ID                                                              \n",
       "BED_2       Furniture          Bed  Single           127.0    red   Mega\n",
       "TAB_0       Furniture        Table    1m80           190.0  black  Basic\n",
       "TAB_1       Furniture        Table    2m40           280.0  white   Mega\n",
       "HOO_5           Cloth       Hoodie       M            38.0    red   Mega\n",
       "TSH_4           Cloth       Tshirt       L            20.0  black   Over"
      ]
     },
     "execution_count": 14,
     "metadata": {},
     "output_type": "execute_result"
    }
   ],
   "source": [
    "products_table = session.add_external_table(\n",
    "    external_database.tables[\"PRODUCTS\"],\n",
    "    table_name=\"Atoti Product\",\n",
    "    options=BigqueryTableOptions(keys=[\"PRODUCT_ID\"]),\n",
    ")\n",
    "\n",
    "products_table.head()"
   ]
  },
  {
   "cell_type": "markdown",
   "id": "57349699-117a-4cf9-bb95-5910f18d5187",
   "metadata": {},
   "source": [
    "Once we have created our external tables, the rest is _simply the usual stuff for Atoti_."
   ]
  },
  {
   "cell_type": "markdown",
   "id": "564a8bad-9c60-4c7a-b94e-918b5112cfdb",
   "metadata": {
    "tags": []
   },
   "source": [
    "## Atoti Cube Setup"
   ]
  },
  {
   "cell_type": "markdown",
   "id": "2f24568b-71da-4341-a716-f8abdbdce17d",
   "metadata": {
    "tags": []
   },
   "source": [
    "From this section onwards, the coding remains the same regardless of the underlying data source.  \n",
    "\n",
    "As we have always done, we join the tables and create the cube."
   ]
  },
  {
   "cell_type": "code",
   "execution_count": 15,
   "id": "93f6c667-27b6-4e2e-9685-ef275235622c",
   "metadata": {
    "tags": []
   },
   "outputs": [
    {
     "data": {
      "image/png": "[encoded data removed]",
      "text/plain": [
       "erDiagram\n",
       "  \"Atoti Product\" {\n",
       "    _ String PK \"PRODUCT_ID\"\n",
       "    _ String \"CATEGORY\"\n",
       "    _ String \"SUB_CATEGORY\"\n",
       "    _ String \"SIZE\"\n",
       "    _ double \"PURCHASE_PRICE\"\n",
       "    _ String \"COLOR\"\n",
       "    _ String \"BRAND\"\n",
       "  }\n",
       "  \"Atoti Sales\" {\n",
       "    _ String PK \"SALE_ID\"\n",
       "    _ LocalDate \"DATE\"\n",
       "    _ String \"SHOP\"\n",
       "    _ String \"PRODUCT\"\n",
       "    _ long \"QUANTITY\"\n",
       "    _ double \"UNIT_PRICE\"\n",
       "  }\n",
       "  \"Atoti Sales\" }o--o| \"Atoti Product\" : \"`PRODUCT` == `PRODUCT_ID`\""
      ]
     },
     "execution_count": 15,
     "metadata": {},
     "output_type": "execute_result"
    }
   ],
   "source": [
    "sales_table.join(products_table, sales_table[\"PRODUCT\"] == products_table[\"PRODUCT_ID\"])\n",
    "cube = session.create_cube(sales_table)\n",
    "session.tables.schema"
   ]
  },
  {
   "cell_type": "code",
   "execution_count": 16,
   "id": "4ee29cb6-1f57-43f2-b6e7-ad2e72d8abd4",
   "metadata": {
    "atoti": {
     "widget": {
      "mapping": {
       "columns": [
        "ALL_MEASURES"
       ],
       "measures": [
        "[Measures].[QUANTITY.SUM]"
       ],
       "rows": [
        "[Atoti Sales].[DATE].[DATE]",
        "[Atoti Sales].[SHOP].[SHOP] => [Atoti Product].[BRAND].[BRAND]"
       ]
      },
      "name": "Quantity sold across dates by shops",
      "query": {
       "mdx": "SELECT NON EMPTY {[Measures].[QUANTITY.SUM]} ON COLUMNS, NON EMPTY Hierarchize(Union(Crossjoin(Hierarchize(Descendants({[Atoti Sales].[DATE].[AllMember]}, 1, SELF_AND_BEFORE)), Hierarchize(Descendants({[Atoti Sales].[SHOP].[AllMember]}, 1, SELF_AND_BEFORE)), [Atoti Product].[BRAND].DefaultMember), Crossjoin([Atoti Sales].[DATE].[AllMember].[2022-01-31], [Atoti Sales].[SHOP].[AllMember].[shop_2], Hierarchize(Descendants({[Atoti Product].[BRAND].[AllMember]}, 1, SELF_AND_BEFORE))))) ON ROWS FROM [Atoti Sales] CELL PROPERTIES VALUE, FORMATTED_VALUE, BACK_COLOR, FORE_COLOR, FONT_FLAGS",
       "updateMode": "once"
      },
      "serverKey": "default",
      "widgetKey": "pivot-table"
     }
    },
    "tags": []
   },
   "outputs": [
    {
     "data": {
      "application/vnd.atoti.widget.v0+json": {
       "sessionId": "1721074644_M3BNC7",
       "sessionLocation": {
        "https": false,
        "port": 53727
       },
       "widgetCreationCode": "session.widget"
      },
      "text/html": [
       "<img height=\"352\" width=\"1351\" src=\"data:image/png;base64,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\" />"
      ],
      "text/plain": [
       "Open the notebook in JupyterLab with the Atoti JupyterLab extension enabled to build this widget."
      ]
     },
     "metadata": {},
     "output_type": "display_data"
    }
   ],
   "source": [
    "session.widget"
   ]
  },
  {
   "cell_type": "markdown",
   "id": "623a5cce-fee4-489b-9250-c5dd542fb708",
   "metadata": {},
   "source": [
    "### Cube manipulation"
   ]
  },
  {
   "cell_type": "markdown",
   "id": "ad616201-0cc7-4012-8e54-66a99c9c1a23",
   "metadata": {},
   "source": [
    "We perform hierarchy manipulation, level ordering and measure creations the same way we always do in Atoti."
   ]
  },
  {
   "cell_type": "code",
   "execution_count": 17,
   "id": "27bebe22-10e5-4b67-9c18-4bb478fef70b",
   "metadata": {
    "tags": []
   },
   "outputs": [],
   "source": [
    "h, l, m = cube.hierarchies, cube.levels, cube.measures"
   ]
  },
  {
   "cell_type": "code",
   "execution_count": 18,
   "id": "fe4aea14-fc25-4a2d-9401-0ce01df385e4",
   "metadata": {
    "tags": []
   },
   "outputs": [],
   "source": [
    "h[\"CATEGORY\"] = [l[\"CATEGORY\"], l[\"SUB_CATEGORY\"]]\n",
    "del h[\"SUB_CATEGORY\"]"
   ]
  },
  {
   "cell_type": "code",
   "execution_count": 19,
   "id": "efc5d476-6465-4ccf-93d3-9f5dfe19df3c",
   "metadata": {
    "tags": []
   },
   "outputs": [
    {
     "data": {
      "application/json": {
       "Atoti Product": {
        "BRAND": [
         "BRAND"
        ],
        "CATEGORY": [
         "CATEGORY",
         "SUB_CATEGORY"
        ],
        "COLOR": [
         "COLOR"
        ],
        "SIZE": [
         "SIZE"
        ]
       },
       "Atoti Sales": {
        "DATE": [
         "DATE"
        ],
        "PRODUCT": [
         "PRODUCT"
        ],
        "SALE_ID": [
         "SALE_ID"
        ],
        "SHOP": [
         "SHOP"
        ]
       }
      },
      "text/html": [
       "<ul>\n",
       "<li>Dimensions\n",
       "  <ul>\n",
       "  <li>Atoti Product\n",
       "    <ul>\n",
       "    <li>BRAND\n",
       "      <ol>\n",
       "      <li>BRAND</li>\n",
       "      </ol>    </li>\n",
       "    <li>CATEGORY\n",
       "      <ol>\n",
       "      <li>CATEGORY</li>\n",
       "      <li>SUB_CATEGORY</li>\n",
       "      </ol>    </li>\n",
       "    <li>COLOR\n",
       "      <ol>\n",
       "      <li>COLOR</li>\n",
       "      </ol>    </li>\n",
       "    <li>SIZE\n",
       "      <ol>\n",
       "      <li>SIZE</li>\n",
       "      </ol>    </li>\n",
       "    </ul>\n",
       "  </li>\n",
       "  <li>Atoti Sales\n",
       "    <ul>\n",
       "    <li>DATE\n",
       "      <ol>\n",
       "      <li>DATE</li>\n",
       "      </ol>    </li>\n",
       "    <li>PRODUCT\n",
       "      <ol>\n",
       "      <li>PRODUCT</li>\n",
       "      </ol>    </li>\n",
       "    <li>SALE_ID\n",
       "      <ol>\n",
       "      <li>SALE_ID</li>\n",
       "      </ol>    </li>\n",
       "    <li>SHOP\n",
       "      <ol>\n",
       "      <li>SHOP</li>\n",
       "      </ol>    </li>\n",
       "    </ul>\n",
       "  </li>\n",
       "  </ul>\n",
       "</li>\n",
       "</ul>\n"
      ],
      "text/plain": [
       "{('Atoti Product', 'BRAND'): <atoti.hierarchy.Hierarchy object at 0x125614520>, ('Atoti Sales', 'DATE'): <atoti.hierarchy.Hierarchy object at 0x125616230>, ('Atoti Sales', 'SHOP'): <atoti.hierarchy.Hierarchy object at 0x125615090>, ('Atoti Product', 'COLOR'): <atoti.hierarchy.Hierarchy object at 0x125617af0>, ('Atoti Sales', 'PRODUCT'): <atoti.hierarchy.Hierarchy object at 0x125615f30>, ('Atoti Product', 'SIZE'): <atoti.hierarchy.Hierarchy object at 0x1256814b0>, ('Atoti Product', 'CATEGORY'): <atoti.hierarchy.Hierarchy object at 0x125681360>, ('Atoti Sales', 'SALE_ID'): <atoti.hierarchy.Hierarchy object at 0x125681210>}"
      ]
     },
     "execution_count": 19,
     "metadata": {
      "application/json": {
       "expanded": true,
       "root": "Dimensions"
      }
     },
     "output_type": "execute_result"
    }
   ],
   "source": [
    "h"
   ]
  },
  {
   "cell_type": "code",
   "execution_count": 20,
   "id": "fe924c60-0c9d-431f-ac72-297db49d8abc",
   "metadata": {
    "tags": []
   },
   "outputs": [],
   "source": [
    "l[\"DATE\"].order = tt.NaturalOrder(ascending=False)"
   ]
  },
  {
   "cell_type": "code",
   "execution_count": 21,
   "id": "343686bd-182e-4de1-b681-8bc6c04b791d",
   "metadata": {
    "tags": []
   },
   "outputs": [],
   "source": [
    "m[\"PURCHASE_PRICE.SUM\"] = tt.agg.sum(products_table[\"PURCHASE_PRICE\"])\n",
    "m[\"PROFIT\"] = tt.agg.sum_product(\n",
    "    m[\"UNIT_PRICE.SUM\"] - m[\"PURCHASE_PRICE.SUM\"],\n",
    "    m[\"QUANTITY.SUM\"],\n",
    "    scope=tt.OriginScope(levels={l[\"SALE_ID\"], l[\"PRODUCT\"]}),\n",
    ")"
   ]
  },
  {
   "cell_type": "markdown",
   "id": "595db925-bf0b-4828-87fb-ff26c717d905",
   "metadata": {},
   "source": [
    "Since we have a join from `sales_table` to `products_table` using the column values of `sales_table.PRODUCT` and `products_table.PRODUCT_ID`, the resultant level is the name of the column from the _from_ table. Therefore, we have the level `PRODUCT` but not `PRODUCT_ID` for our scope in the code snippet above."
   ]
  },
  {
   "cell_type": "code",
   "execution_count": 22,
   "id": "a5dd754e-6d52-43b0-9a18-e7aa7fd42e0b",
   "metadata": {
    "atoti": {
     "widget": {
      "mapping": {
       "columns": [
        "ALL_MEASURES"
       ],
       "measures": [
        "[Measures].[UNIT_PRICE.SUM]",
        "[Measures].[PURCHASE_PRICE.SUM]",
        "[Measures].[QUANTITY.SUM]",
        "[Measures].[PROFIT]"
       ],
       "rows": [
        "[Atoti Sales].[DATE].[DATE]",
        "[Atoti Product].[CATEGORY].[CATEGORY] => [Atoti Product].[CATEGORY].[SUB_CATEGORY]"
       ]
      },
      "name": "Profit by Product Categories across dates",
      "query": {
       "mdx": "SELECT NON EMPTY Hierarchize(Union(Crossjoin(Hierarchize(Descendants({[Atoti Sales].[DATE].[AllMember]}, 1, SELF_AND_BEFORE)), Hierarchize(Descendants({[Atoti Product].[CATEGORY].[AllMember]}, 1, SELF_AND_BEFORE))), Crossjoin([Atoti Sales].[DATE].[AllMember].[2022-02-03], Descendants({[Atoti Product].[CATEGORY].[AllMember].[Cloth]}, [Atoti Product].[CATEGORY].[SUB_CATEGORY])))) ON ROWS, NON EMPTY {[Measures].[UNIT_PRICE.SUM], [Measures].[PURCHASE_PRICE.SUM], [Measures].[QUANTITY.SUM], [Measures].[PROFIT]} ON COLUMNS FROM [Atoti Sales] CELL PROPERTIES VALUE, FORMATTED_VALUE, BACK_COLOR, FORE_COLOR, FONT_FLAGS",
       "updateMode": "once"
      },
      "serverKey": "default",
      "widgetKey": "pivot-table"
     }
    },
    "tags": []
   },
   "outputs": [
    {
     "data": {
      "application/vnd.atoti.widget.v0+json": {
       "sessionId": "1721074644_M3BNC7",
       "sessionLocation": {
        "https": false,
        "port": 53727
       },
       "widgetCreationCode": "session.widget"
      },
      "text/html": [
       "<img height=\"352\" width=\"1351\" src=\"data:image/png;base64,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\" />"
      ],
      "text/plain": [
       "Open the notebook in JupyterLab with the Atoti JupyterLab extension enabled to build this widget."
      ]
     },
     "metadata": {},
     "output_type": "display_data"
    }
   ],
   "source": [
    "session.widget"
   ]
  },
  {
   "cell_type": "markdown",
   "id": "08ceaeb7-d0ed-42b5-899e-f4fb4fdcf1ae",
   "metadata": {},
   "source": [
    "## Cost and performance saving with Aggregate Provider"
   ]
  },
  {
   "cell_type": "markdown",
   "id": "b00d6de1-5324-43b0-acb0-c682977c2cf0",
   "metadata": {},
   "source": [
    "Let's take a quick look at our query performance in the current setup."
   ]
  },
  {
   "cell_type": "code",
   "execution_count": 23,
   "id": "37320670-66e8-40c1-9402-26775ed5817c",
   "metadata": {},
   "outputs": [
    {
     "name": "stdout",
     "output_type": "stream",
     "text": [
      "CPU times: user 56.9 ms, sys: 8.59 ms, total: 65.5 ms\n",
      "Wall time: 1.84 s\n"
     ]
    },
    {
     "data": {
      "text/html": [
       "<div>\n",
       "<style scoped>\n",
       "    .dataframe tbody tr th:only-of-type {\n",
       "        vertical-align: middle;\n",
       "    }\n",
       "\n",
       "    .dataframe tbody tr th {\n",
       "        vertical-align: top;\n",
       "    }\n",
       "\n",
       "    .dataframe thead th {\n",
       "        text-align: right;\n",
       "    }\n",
       "</style>\n",
       "<table border=\"1\" class=\"dataframe\">\n",
       "  <thead>\n",
       "    <tr style=\"text-align: right;\">\n",
       "      <th></th>\n",
       "      <th></th>\n",
       "      <th></th>\n",
       "      <th>QUANTITY.SUM</th>\n",
       "      <th>PROFIT</th>\n",
       "    </tr>\n",
       "    <tr>\n",
       "      <th>DATE</th>\n",
       "      <th>PRODUCT</th>\n",
       "      <th>SALE_ID</th>\n",
       "      <th></th>\n",
       "      <th></th>\n",
       "    </tr>\n",
       "  </thead>\n",
       "  <tbody>\n",
       "    <tr>\n",
       "      <th rowspan=\"2\" valign=\"top\">2022-02-04</th>\n",
       "      <th>HOO_5</th>\n",
       "      <th>S0017</th>\n",
       "      <td>1</td>\n",
       "      <td>10.00</td>\n",
       "    </tr>\n",
       "    <tr>\n",
       "      <th>TAB_0</th>\n",
       "      <th>S0000</th>\n",
       "      <td>1</td>\n",
       "      <td>20.00</td>\n",
       "    </tr>\n",
       "    <tr>\n",
       "      <th rowspan=\"4\" valign=\"top\">2022-02-03</th>\n",
       "      <th>HOO_5</th>\n",
       "      <th>S0018</th>\n",
       "      <td>1</td>\n",
       "      <td>10.00</td>\n",
       "    </tr>\n",
       "    <tr>\n",
       "      <th>TAB_0</th>\n",
       "      <th>S0001</th>\n",
       "      <td>1</td>\n",
       "      <td>20.00</td>\n",
       "    </tr>\n",
       "    <tr>\n",
       "      <th>TAB_1</th>\n",
       "      <th>S0004</th>\n",
       "      <td>1</td>\n",
       "      <td>20.00</td>\n",
       "    </tr>\n",
       "    <tr>\n",
       "      <th>TSH_3</th>\n",
       "      <th>S0011</th>\n",
       "      <td>1</td>\n",
       "      <td>3.00</td>\n",
       "    </tr>\n",
       "    <tr>\n",
       "      <th rowspan=\"5\" valign=\"top\">2022-02-02</th>\n",
       "      <th>HOO_5</th>\n",
       "      <th>S0019</th>\n",
       "      <td>1</td>\n",
       "      <td>10.00</td>\n",
       "    </tr>\n",
       "    <tr>\n",
       "      <th>TAB_0</th>\n",
       "      <th>S0002</th>\n",
       "      <td>1</td>\n",
       "      <td>20.00</td>\n",
       "    </tr>\n",
       "    <tr>\n",
       "      <th>TAB_1</th>\n",
       "      <th>S0005</th>\n",
       "      <td>1</td>\n",
       "      <td>20.00</td>\n",
       "    </tr>\n",
       "    <tr>\n",
       "      <th>TSH_3</th>\n",
       "      <th>S0012</th>\n",
       "      <td>1</td>\n",
       "      <td>3.00</td>\n",
       "    </tr>\n",
       "    <tr>\n",
       "      <th>TSH_4</th>\n",
       "      <th>S0014</th>\n",
       "      <td>1</td>\n",
       "      <td>4.00</td>\n",
       "    </tr>\n",
       "    <tr>\n",
       "      <th rowspan=\"5\" valign=\"top\">2022-02-01</th>\n",
       "      <th>BED_2</th>\n",
       "      <th>S0007</th>\n",
       "      <td>1</td>\n",
       "      <td>23.00</td>\n",
       "    </tr>\n",
       "    <tr>\n",
       "      <th>TAB_0</th>\n",
       "      <th>S0003</th>\n",
       "      <td>1</td>\n",
       "      <td>20.00</td>\n",
       "    </tr>\n",
       "    <tr>\n",
       "      <th>TAB_1</th>\n",
       "      <th>S0006</th>\n",
       "      <td>2</td>\n",
       "      <td>40.00</td>\n",
       "    </tr>\n",
       "    <tr>\n",
       "      <th>TSH_3</th>\n",
       "      <th>S0013</th>\n",
       "      <td>1</td>\n",
       "      <td>3.00</td>\n",
       "    </tr>\n",
       "    <tr>\n",
       "      <th>TSH_4</th>\n",
       "      <th>S0015</th>\n",
       "      <td>2</td>\n",
       "      <td>8.00</td>\n",
       "    </tr>\n",
       "    <tr>\n",
       "      <th rowspan=\"4\" valign=\"top\">2022-01-31</th>\n",
       "      <th rowspan=\"3\" valign=\"top\">BED_2</th>\n",
       "      <th>S0008</th>\n",
       "      <td>1</td>\n",
       "      <td>23.00</td>\n",
       "    </tr>\n",
       "    <tr>\n",
       "      <th>S0009</th>\n",
       "      <td>1</td>\n",
       "      <td>23.00</td>\n",
       "    </tr>\n",
       "    <tr>\n",
       "      <th>S0010</th>\n",
       "      <td>3</td>\n",
       "      <td>69.00</td>\n",
       "    </tr>\n",
       "    <tr>\n",
       "      <th>TSH_4</th>\n",
       "      <th>S0016</th>\n",
       "      <td>2</td>\n",
       "      <td>8.00</td>\n",
       "    </tr>\n",
       "  </tbody>\n",
       "</table>\n",
       "</div>"
      ],
      "text/plain": [
       "                           QUANTITY.SUM PROFIT\n",
       "DATE       PRODUCT SALE_ID                    \n",
       "2022-02-04 HOO_5   S0017              1  10.00\n",
       "           TAB_0   S0000              1  20.00\n",
       "2022-02-03 HOO_5   S0018              1  10.00\n",
       "           TAB_0   S0001              1  20.00\n",
       "           TAB_1   S0004              1  20.00\n",
       "           TSH_3   S0011              1   3.00\n",
       "2022-02-02 HOO_5   S0019              1  10.00\n",
       "           TAB_0   S0002              1  20.00\n",
       "           TAB_1   S0005              1  20.00\n",
       "           TSH_3   S0012              1   3.00\n",
       "           TSH_4   S0014              1   4.00\n",
       "2022-02-01 BED_2   S0007              1  23.00\n",
       "           TAB_0   S0003              1  20.00\n",
       "           TAB_1   S0006              2  40.00\n",
       "           TSH_3   S0013              1   3.00\n",
       "           TSH_4   S0015              2   8.00\n",
       "2022-01-31 BED_2   S0008              1  23.00\n",
       "                   S0009              1  23.00\n",
       "                   S0010              3  69.00\n",
       "           TSH_4   S0016              2   8.00"
      ]
     },
     "execution_count": 23,
     "metadata": {},
     "output_type": "execute_result"
    }
   ],
   "source": [
    "%%time\n",
    "\n",
    "cube.query(\n",
    "    m[\"QUANTITY.SUM\"], m[\"PROFIT\"], levels=[l[\"DATE\"], l[\"PRODUCT\"], l[\"SALE_ID\"]]\n",
    ")"
   ]
  },
  {
   "cell_type": "code",
   "execution_count": 24,
   "id": "41a42190-2831-458d-9679-aa942dae9de0",
   "metadata": {},
   "outputs": [
    {
     "name": "stdout",
     "output_type": "stream",
     "text": [
      "CPU times: user 15.2 ms, sys: 5.83 ms, total: 21.1 ms\n",
      "Wall time: 2.43 s\n"
     ]
    },
    {
     "data": {
      "text/html": [
       "<div>\n",
       "<style scoped>\n",
       "    .dataframe tbody tr th:only-of-type {\n",
       "        vertical-align: middle;\n",
       "    }\n",
       "\n",
       "    .dataframe tbody tr th {\n",
       "        vertical-align: top;\n",
       "    }\n",
       "\n",
       "    .dataframe thead th {\n",
       "        text-align: right;\n",
       "    }\n",
       "</style>\n",
       "<table border=\"1\" class=\"dataframe\">\n",
       "  <thead>\n",
       "    <tr style=\"text-align: right;\">\n",
       "      <th></th>\n",
       "      <th></th>\n",
       "      <th></th>\n",
       "      <th>PROFIT</th>\n",
       "    </tr>\n",
       "    <tr>\n",
       "      <th>DATE</th>\n",
       "      <th>CATEGORY</th>\n",
       "      <th>SUB_CATEGORY</th>\n",
       "      <th></th>\n",
       "    </tr>\n",
       "  </thead>\n",
       "  <tbody>\n",
       "    <tr>\n",
       "      <th rowspan=\"2\" valign=\"top\">2022-02-04</th>\n",
       "      <th>Cloth</th>\n",
       "      <th>Hoodie</th>\n",
       "      <td>10.00</td>\n",
       "    </tr>\n",
       "    <tr>\n",
       "      <th>Furniture</th>\n",
       "      <th>Table</th>\n",
       "      <td>20.00</td>\n",
       "    </tr>\n",
       "    <tr>\n",
       "      <th rowspan=\"3\" valign=\"top\">2022-02-03</th>\n",
       "      <th rowspan=\"2\" valign=\"top\">Cloth</th>\n",
       "      <th>Hoodie</th>\n",
       "      <td>10.00</td>\n",
       "    </tr>\n",
       "    <tr>\n",
       "      <th>Tshirt</th>\n",
       "      <td>3.00</td>\n",
       "    </tr>\n",
       "    <tr>\n",
       "      <th>Furniture</th>\n",
       "      <th>Table</th>\n",
       "      <td>40.00</td>\n",
       "    </tr>\n",
       "    <tr>\n",
       "      <th rowspan=\"3\" valign=\"top\">2022-02-02</th>\n",
       "      <th rowspan=\"2\" valign=\"top\">Cloth</th>\n",
       "      <th>Hoodie</th>\n",
       "      <td>10.00</td>\n",
       "    </tr>\n",
       "    <tr>\n",
       "      <th>Tshirt</th>\n",
       "      <td>7.00</td>\n",
       "    </tr>\n",
       "    <tr>\n",
       "      <th>Furniture</th>\n",
       "      <th>Table</th>\n",
       "      <td>40.00</td>\n",
       "    </tr>\n",
       "    <tr>\n",
       "      <th rowspan=\"3\" valign=\"top\">2022-02-01</th>\n",
       "      <th>Cloth</th>\n",
       "      <th>Tshirt</th>\n",
       "      <td>11.00</td>\n",
       "    </tr>\n",
       "    <tr>\n",
       "      <th rowspan=\"2\" valign=\"top\">Furniture</th>\n",
       "      <th>Bed</th>\n",
       "      <td>23.00</td>\n",
       "    </tr>\n",
       "    <tr>\n",
       "      <th>Table</th>\n",
       "      <td>60.00</td>\n",
       "    </tr>\n",
       "    <tr>\n",
       "      <th rowspan=\"2\" valign=\"top\">2022-01-31</th>\n",
       "      <th>Cloth</th>\n",
       "      <th>Tshirt</th>\n",
       "      <td>8.00</td>\n",
       "    </tr>\n",
       "    <tr>\n",
       "      <th>Furniture</th>\n",
       "      <th>Bed</th>\n",
       "      <td>115.00</td>\n",
       "    </tr>\n",
       "  </tbody>\n",
       "</table>\n",
       "</div>"
      ],
      "text/plain": [
       "                                   PROFIT\n",
       "DATE       CATEGORY  SUB_CATEGORY        \n",
       "2022-02-04 Cloth     Hoodie         10.00\n",
       "           Furniture Table          20.00\n",
       "2022-02-03 Cloth     Hoodie         10.00\n",
       "                     Tshirt          3.00\n",
       "           Furniture Table          40.00\n",
       "2022-02-02 Cloth     Hoodie         10.00\n",
       "                     Tshirt          7.00\n",
       "           Furniture Table          40.00\n",
       "2022-02-01 Cloth     Tshirt         11.00\n",
       "           Furniture Bed            23.00\n",
       "                     Table          60.00\n",
       "2022-01-31 Cloth     Tshirt          8.00\n",
       "           Furniture Bed           115.00"
      ]
     },
     "execution_count": 24,
     "metadata": {},
     "output_type": "execute_result"
    }
   ],
   "source": [
    "%%time\n",
    "\n",
    "cube.query(m[\"PROFIT\"], levels=[l[\"DATE\"], l[\"SUB_CATEGORY\"]])"
   ]
  },
  {
   "cell_type": "markdown",
   "id": "ec655a71-8eec-42ae-9dd5-3fa7bbf0f782",
   "metadata": {},
   "source": [
    "It takes approximately `3s` to return the query (YMMV)."
   ]
  },
  {
   "cell_type": "markdown",
   "id": "409bcc8e-c3e4-4592-a6ee-c54d41f97719",
   "metadata": {},
   "source": [
    "To speed up our querying, we make use of the [aggregate provider](https://docs.atoti.io/latest/api/atoti.AggregateProvider.html#atoti.AggregateProvider) to store intermediate aggregates in memory. If a step of a query uses a subset of the aggregate provider's levels and measures, the provider will speed up the query.  \n",
    "\n",
    "Since data is cached in memory, we will __not__ access BigQuery when a subset of these are queried.  "
   ]
  },
  {
   "cell_type": "code",
   "execution_count": 25,
   "id": "0f33a62c-d66d-4e3a-997d-ae325e9276ec",
   "metadata": {
    "tags": []
   },
   "outputs": [],
   "source": [
    "cube.aggregate_providers.update(\n",
    "    {\n",
    "        \"Products provider\": tt.AggregateProvider(\n",
    "            key=\"bitmap\",\n",
    "            levels=[l[\"DATE\"], l[\"PRODUCT\"], l[\"SALE_ID\"]],\n",
    "            measures=[m[\"QUANTITY.SUM\"], m[\"PURCHASE_PRICE.SUM\"], m[\"UNIT_PRICE.SUM\"]],\n",
    "            partitioning=\"hash16(PRODUCT)\",\n",
    "        )\n",
    "    }\n",
    ")"
   ]
  },
  {
   "cell_type": "markdown",
   "id": "4817dae9-0dbb-4c91-95bc-38a1320102ae",
   "metadata": {},
   "source": [
    "⚠️ **Important:** We can only use store aggregated measures supporting disaggregation can be used in aggregate provider, e.g. `tt.agg.sum` or `tt.agg.mean` on table columns.\n",
    "\n",
    "`m[\"PROFIT\"]` cannot be used because it is a chained measure resulting from the `sum_product` of a few measures.\n"
   ]
  },
  {
   "cell_type": "code",
   "execution_count": 26,
   "id": "0bc35e5d-1845-479b-873f-5a24be936f1e",
   "metadata": {
    "tags": []
   },
   "outputs": [
    {
     "name": "stdout",
     "output_type": "stream",
     "text": [
      "CPU times: user 12.2 ms, sys: 6.14 ms, total: 18.3 ms\n",
      "Wall time: 87.6 ms\n"
     ]
    },
    {
     "data": {
      "text/html": [
       "<div>\n",
       "<style scoped>\n",
       "    .dataframe tbody tr th:only-of-type {\n",
       "        vertical-align: middle;\n",
       "    }\n",
       "\n",
       "    .dataframe tbody tr th {\n",
       "        vertical-align: top;\n",
       "    }\n",
       "\n",
       "    .dataframe thead th {\n",
       "        text-align: right;\n",
       "    }\n",
       "</style>\n",
       "<table border=\"1\" class=\"dataframe\">\n",
       "  <thead>\n",
       "    <tr style=\"text-align: right;\">\n",
       "      <th></th>\n",
       "      <th></th>\n",
       "      <th></th>\n",
       "      <th>PROFIT</th>\n",
       "    </tr>\n",
       "    <tr>\n",
       "      <th>DATE</th>\n",
       "      <th>PRODUCT</th>\n",
       "      <th>SALE_ID</th>\n",
       "      <th></th>\n",
       "    </tr>\n",
       "  </thead>\n",
       "  <tbody>\n",
       "    <tr>\n",
       "      <th rowspan=\"2\" valign=\"top\">2022-02-04</th>\n",
       "      <th>HOO_5</th>\n",
       "      <th>S0017</th>\n",
       "      <td>10.00</td>\n",
       "    </tr>\n",
       "    <tr>\n",
       "      <th>TAB_0</th>\n",
       "      <th>S0000</th>\n",
       "      <td>20.00</td>\n",
       "    </tr>\n",
       "    <tr>\n",
       "      <th rowspan=\"4\" valign=\"top\">2022-02-03</th>\n",
       "      <th>HOO_5</th>\n",
       "      <th>S0018</th>\n",
       "      <td>10.00</td>\n",
       "    </tr>\n",
       "    <tr>\n",
       "      <th>TAB_0</th>\n",
       "      <th>S0001</th>\n",
       "      <td>20.00</td>\n",
       "    </tr>\n",
       "    <tr>\n",
       "      <th>TAB_1</th>\n",
       "      <th>S0004</th>\n",
       "      <td>20.00</td>\n",
       "    </tr>\n",
       "    <tr>\n",
       "      <th>TSH_3</th>\n",
       "      <th>S0011</th>\n",
       "      <td>3.00</td>\n",
       "    </tr>\n",
       "    <tr>\n",
       "      <th rowspan=\"5\" valign=\"top\">2022-02-02</th>\n",
       "      <th>HOO_5</th>\n",
       "      <th>S0019</th>\n",
       "      <td>10.00</td>\n",
       "    </tr>\n",
       "    <tr>\n",
       "      <th>TAB_0</th>\n",
       "      <th>S0002</th>\n",
       "      <td>20.00</td>\n",
       "    </tr>\n",
       "    <tr>\n",
       "      <th>TAB_1</th>\n",
       "      <th>S0005</th>\n",
       "      <td>20.00</td>\n",
       "    </tr>\n",
       "    <tr>\n",
       "      <th>TSH_3</th>\n",
       "      <th>S0012</th>\n",
       "      <td>3.00</td>\n",
       "    </tr>\n",
       "    <tr>\n",
       "      <th>TSH_4</th>\n",
       "      <th>S0014</th>\n",
       "      <td>4.00</td>\n",
       "    </tr>\n",
       "    <tr>\n",
       "      <th rowspan=\"5\" valign=\"top\">2022-02-01</th>\n",
       "      <th>BED_2</th>\n",
       "      <th>S0007</th>\n",
       "      <td>23.00</td>\n",
       "    </tr>\n",
       "    <tr>\n",
       "      <th>TAB_0</th>\n",
       "      <th>S0003</th>\n",
       "      <td>20.00</td>\n",
       "    </tr>\n",
       "    <tr>\n",
       "      <th>TAB_1</th>\n",
       "      <th>S0006</th>\n",
       "      <td>40.00</td>\n",
       "    </tr>\n",
       "    <tr>\n",
       "      <th>TSH_3</th>\n",
       "      <th>S0013</th>\n",
       "      <td>3.00</td>\n",
       "    </tr>\n",
       "    <tr>\n",
       "      <th>TSH_4</th>\n",
       "      <th>S0015</th>\n",
       "      <td>8.00</td>\n",
       "    </tr>\n",
       "    <tr>\n",
       "      <th rowspan=\"4\" valign=\"top\">2022-01-31</th>\n",
       "      <th rowspan=\"3\" valign=\"top\">BED_2</th>\n",
       "      <th>S0008</th>\n",
       "      <td>23.00</td>\n",
       "    </tr>\n",
       "    <tr>\n",
       "      <th>S0009</th>\n",
       "      <td>23.00</td>\n",
       "    </tr>\n",
       "    <tr>\n",
       "      <th>S0010</th>\n",
       "      <td>69.00</td>\n",
       "    </tr>\n",
       "    <tr>\n",
       "      <th>TSH_4</th>\n",
       "      <th>S0016</th>\n",
       "      <td>8.00</td>\n",
       "    </tr>\n",
       "  </tbody>\n",
       "</table>\n",
       "</div>"
      ],
      "text/plain": [
       "                           PROFIT\n",
       "DATE       PRODUCT SALE_ID       \n",
       "2022-02-04 HOO_5   S0017    10.00\n",
       "           TAB_0   S0000    20.00\n",
       "2022-02-03 HOO_5   S0018    10.00\n",
       "           TAB_0   S0001    20.00\n",
       "           TAB_1   S0004    20.00\n",
       "           TSH_3   S0011     3.00\n",
       "2022-02-02 HOO_5   S0019    10.00\n",
       "           TAB_0   S0002    20.00\n",
       "           TAB_1   S0005    20.00\n",
       "           TSH_3   S0012     3.00\n",
       "           TSH_4   S0014     4.00\n",
       "2022-02-01 BED_2   S0007    23.00\n",
       "           TAB_0   S0003    20.00\n",
       "           TAB_1   S0006    40.00\n",
       "           TSH_3   S0013     3.00\n",
       "           TSH_4   S0015     8.00\n",
       "2022-01-31 BED_2   S0008    23.00\n",
       "                   S0009    23.00\n",
       "                   S0010    69.00\n",
       "           TSH_4   S0016     8.00"
      ]
     },
     "execution_count": 26,
     "metadata": {},
     "output_type": "execute_result"
    }
   ],
   "source": [
    "%%time\n",
    "\n",
    "cube.query(m[\"PROFIT\"], levels=[l[\"DATE\"], l[\"PRODUCT\"], l[\"SALE_ID\"]])"
   ]
  },
  {
   "cell_type": "markdown",
   "id": "fd36b224-ab65-45f0-a2fb-1e44c5fdb1c8",
   "metadata": {},
   "source": [
    "Previously, it took close to `3s` to return the query results. Now, it only takes slightly over `100ms` to return the results (YMMV).  \n",
    "\n",
    "Note that we are querying `PROFIT` and not the measures `m[\"QUANTITY.SUM\"]`, `m[\"PURCHASE_PRICE.SUM\"]` and `m[\"UNIT_PRICE.SUM\"]`. However, `PROFIT` is computed on the fly using the cached data in memory. Therefore, the query speed is improved drastically."
   ]
  },
  {
   "cell_type": "code",
   "execution_count": 27,
   "id": "800e212c-f4ce-4e77-8653-f8afd9b50043",
   "metadata": {
    "tags": []
   },
   "outputs": [
    {
     "name": "stdout",
     "output_type": "stream",
     "text": [
      "CPU times: user 5.63 ms, sys: 2.47 ms, total: 8.09 ms\n",
      "Wall time: 25 ms\n"
     ]
    },
    {
     "data": {
      "text/html": [
       "<div>\n",
       "<style scoped>\n",
       "    .dataframe tbody tr th:only-of-type {\n",
       "        vertical-align: middle;\n",
       "    }\n",
       "\n",
       "    .dataframe tbody tr th {\n",
       "        vertical-align: top;\n",
       "    }\n",
       "\n",
       "    .dataframe thead th {\n",
       "        text-align: right;\n",
       "    }\n",
       "</style>\n",
       "<table border=\"1\" class=\"dataframe\">\n",
       "  <thead>\n",
       "    <tr style=\"text-align: right;\">\n",
       "      <th></th>\n",
       "      <th>PROFIT</th>\n",
       "    </tr>\n",
       "    <tr>\n",
       "      <th>PRODUCT</th>\n",
       "      <th></th>\n",
       "    </tr>\n",
       "  </thead>\n",
       "  <tbody>\n",
       "    <tr>\n",
       "      <th>BED_2</th>\n",
       "      <td>138.00</td>\n",
       "    </tr>\n",
       "    <tr>\n",
       "      <th>HOO_5</th>\n",
       "      <td>30.00</td>\n",
       "    </tr>\n",
       "    <tr>\n",
       "      <th>TAB_0</th>\n",
       "      <td>80.00</td>\n",
       "    </tr>\n",
       "    <tr>\n",
       "      <th>TAB_1</th>\n",
       "      <td>80.00</td>\n",
       "    </tr>\n",
       "    <tr>\n",
       "      <th>TSH_3</th>\n",
       "      <td>9.00</td>\n",
       "    </tr>\n",
       "    <tr>\n",
       "      <th>TSH_4</th>\n",
       "      <td>20.00</td>\n",
       "    </tr>\n",
       "  </tbody>\n",
       "</table>\n",
       "</div>"
      ],
      "text/plain": [
       "         PROFIT\n",
       "PRODUCT        \n",
       "BED_2    138.00\n",
       "HOO_5     30.00\n",
       "TAB_0     80.00\n",
       "TAB_1     80.00\n",
       "TSH_3      9.00\n",
       "TSH_4     20.00"
      ]
     },
     "execution_count": 27,
     "metadata": {},
     "output_type": "execute_result"
    }
   ],
   "source": [
    "%%time\n",
    "\n",
    "cube.query(m[\"PROFIT\"], levels=[l[\"PRODUCT\"]])"
   ]
  },
  {
   "cell_type": "markdown",
   "id": "3776a1f9-c10c-4912-866f-238a3b95fbee",
   "metadata": {},
   "source": [
    "Querying a subset of the aggregate provider levels also returns the result quickly.  \n",
    "\n",
    "The below query on a different level will access data from BigQuery and therefore, is limited by the querying speed of the cloud database and its network connectivity.  "
   ]
  },
  {
   "cell_type": "code",
   "execution_count": 28,
   "id": "08506fb9-16e3-4052-9288-380ecc441021",
   "metadata": {
    "tags": []
   },
   "outputs": [
    {
     "name": "stdout",
     "output_type": "stream",
     "text": [
      "CPU times: user 11.6 ms, sys: 6.12 ms, total: 17.8 ms\n",
      "Wall time: 3.29 s\n"
     ]
    },
    {
     "data": {
      "text/html": [
       "<div>\n",
       "<style scoped>\n",
       "    .dataframe tbody tr th:only-of-type {\n",
       "        vertical-align: middle;\n",
       "    }\n",
       "\n",
       "    .dataframe tbody tr th {\n",
       "        vertical-align: top;\n",
       "    }\n",
       "\n",
       "    .dataframe thead th {\n",
       "        text-align: right;\n",
       "    }\n",
       "</style>\n",
       "<table border=\"1\" class=\"dataframe\">\n",
       "  <thead>\n",
       "    <tr style=\"text-align: right;\">\n",
       "      <th></th>\n",
       "      <th></th>\n",
       "      <th></th>\n",
       "      <th>PROFIT</th>\n",
       "    </tr>\n",
       "    <tr>\n",
       "      <th>DATE</th>\n",
       "      <th>CATEGORY</th>\n",
       "      <th>SUB_CATEGORY</th>\n",
       "      <th></th>\n",
       "    </tr>\n",
       "  </thead>\n",
       "  <tbody>\n",
       "    <tr>\n",
       "      <th rowspan=\"2\" valign=\"top\">2022-02-04</th>\n",
       "      <th>Cloth</th>\n",
       "      <th>Hoodie</th>\n",
       "      <td>10.00</td>\n",
       "    </tr>\n",
       "    <tr>\n",
       "      <th>Furniture</th>\n",
       "      <th>Table</th>\n",
       "      <td>20.00</td>\n",
       "    </tr>\n",
       "    <tr>\n",
       "      <th rowspan=\"3\" valign=\"top\">2022-02-03</th>\n",
       "      <th rowspan=\"2\" valign=\"top\">Cloth</th>\n",
       "      <th>Hoodie</th>\n",
       "      <td>10.00</td>\n",
       "    </tr>\n",
       "    <tr>\n",
       "      <th>Tshirt</th>\n",
       "      <td>3.00</td>\n",
       "    </tr>\n",
       "    <tr>\n",
       "      <th>Furniture</th>\n",
       "      <th>Table</th>\n",
       "      <td>40.00</td>\n",
       "    </tr>\n",
       "    <tr>\n",
       "      <th rowspan=\"3\" valign=\"top\">2022-02-02</th>\n",
       "      <th rowspan=\"2\" valign=\"top\">Cloth</th>\n",
       "      <th>Hoodie</th>\n",
       "      <td>10.00</td>\n",
       "    </tr>\n",
       "    <tr>\n",
       "      <th>Tshirt</th>\n",
       "      <td>7.00</td>\n",
       "    </tr>\n",
       "    <tr>\n",
       "      <th>Furniture</th>\n",
       "      <th>Table</th>\n",
       "      <td>40.00</td>\n",
       "    </tr>\n",
       "    <tr>\n",
       "      <th rowspan=\"3\" valign=\"top\">2022-02-01</th>\n",
       "      <th>Cloth</th>\n",
       "      <th>Tshirt</th>\n",
       "      <td>11.00</td>\n",
       "    </tr>\n",
       "    <tr>\n",
       "      <th rowspan=\"2\" valign=\"top\">Furniture</th>\n",
       "      <th>Bed</th>\n",
       "      <td>23.00</td>\n",
       "    </tr>\n",
       "    <tr>\n",
       "      <th>Table</th>\n",
       "      <td>60.00</td>\n",
       "    </tr>\n",
       "    <tr>\n",
       "      <th rowspan=\"2\" valign=\"top\">2022-01-31</th>\n",
       "      <th>Cloth</th>\n",
       "      <th>Tshirt</th>\n",
       "      <td>8.00</td>\n",
       "    </tr>\n",
       "    <tr>\n",
       "      <th>Furniture</th>\n",
       "      <th>Bed</th>\n",
       "      <td>115.00</td>\n",
       "    </tr>\n",
       "  </tbody>\n",
       "</table>\n",
       "</div>"
      ],
      "text/plain": [
       "                                   PROFIT\n",
       "DATE       CATEGORY  SUB_CATEGORY        \n",
       "2022-02-04 Cloth     Hoodie         10.00\n",
       "           Furniture Table          20.00\n",
       "2022-02-03 Cloth     Hoodie         10.00\n",
       "                     Tshirt          3.00\n",
       "           Furniture Table          40.00\n",
       "2022-02-02 Cloth     Hoodie         10.00\n",
       "                     Tshirt          7.00\n",
       "           Furniture Table          40.00\n",
       "2022-02-01 Cloth     Tshirt         11.00\n",
       "           Furniture Bed            23.00\n",
       "                     Table          60.00\n",
       "2022-01-31 Cloth     Tshirt          8.00\n",
       "           Furniture Bed           115.00"
      ]
     },
     "execution_count": 28,
     "metadata": {},
     "output_type": "execute_result"
    }
   ],
   "source": [
    "%%time\n",
    "\n",
    "cube.query(m[\"PROFIT\"], levels=[l[\"DATE\"], l[\"SUB_CATEGORY\"]])"
   ]
  },
  {
   "cell_type": "markdown",
   "id": "c260f204-8f69-4f99-aefa-3e881c29e4bc",
   "metadata": {},
   "source": [
    "Before we are done with this example, let's create another aggregate provider with a _slice_ of data using `filter`.  \n",
    "\n",
    "Let's first capture the timing of the query without the aggregate provider."
   ]
  },
  {
   "cell_type": "code",
   "execution_count": 29,
   "id": "fe342fd4-1c7f-4995-833d-f3cac15d2aa4",
   "metadata": {},
   "outputs": [
    {
     "name": "stdout",
     "output_type": "stream",
     "text": [
      "CPU times: user 20.9 ms, sys: 5.34 ms, total: 26.3 ms\n",
      "Wall time: 1.94 s\n"
     ]
    },
    {
     "data": {
      "text/html": [
       "<div>\n",
       "<style scoped>\n",
       "    .dataframe tbody tr th:only-of-type {\n",
       "        vertical-align: middle;\n",
       "    }\n",
       "\n",
       "    .dataframe tbody tr th {\n",
       "        vertical-align: top;\n",
       "    }\n",
       "\n",
       "    .dataframe thead th {\n",
       "        text-align: right;\n",
       "    }\n",
       "</style>\n",
       "<table border=\"1\" class=\"dataframe\">\n",
       "  <thead>\n",
       "    <tr style=\"text-align: right;\">\n",
       "      <th></th>\n",
       "      <th></th>\n",
       "      <th></th>\n",
       "      <th>PROFIT</th>\n",
       "    </tr>\n",
       "    <tr>\n",
       "      <th>DATE</th>\n",
       "      <th>CATEGORY</th>\n",
       "      <th>SUB_CATEGORY</th>\n",
       "      <th></th>\n",
       "    </tr>\n",
       "  </thead>\n",
       "  <tbody>\n",
       "    <tr>\n",
       "      <th rowspan=\"2\" valign=\"top\">2022-02-04</th>\n",
       "      <th>Cloth</th>\n",
       "      <th>Hoodie</th>\n",
       "      <td>10.00</td>\n",
       "    </tr>\n",
       "    <tr>\n",
       "      <th>Furniture</th>\n",
       "      <th>Table</th>\n",
       "      <td>20.00</td>\n",
       "    </tr>\n",
       "  </tbody>\n",
       "</table>\n",
       "</div>"
      ],
      "text/plain": [
       "                                  PROFIT\n",
       "DATE       CATEGORY  SUB_CATEGORY       \n",
       "2022-02-04 Cloth     Hoodie        10.00\n",
       "           Furniture Table         20.00"
      ]
     },
     "execution_count": 29,
     "metadata": {},
     "output_type": "execute_result"
    }
   ],
   "source": [
    "%%time\n",
    "\n",
    "cube.query(\n",
    "    m[\"PROFIT\"],\n",
    "    levels=[l[\"DATE\"], l[\"CATEGORY\"], l[\"SUB_CATEGORY\"]],\n",
    "    filter=(l[\"DATE\"] == \"2022-02-04\"),\n",
    ")"
   ]
  },
  {
   "cell_type": "code",
   "execution_count": 30,
   "id": "b240a857-71f6-4344-8967-570013c0ac98",
   "metadata": {
    "tags": []
   },
   "outputs": [],
   "source": [
    "from datetime import date\n",
    "\n",
    "current_date = date(2022, 2, 24)"
   ]
  },
  {
   "cell_type": "markdown",
   "id": "9526ed6a-2c74-4ab5-935e-51899123340c",
   "metadata": {},
   "source": [
    "In the event where users are interested in a particular member of level, e.g. the current date or a particular shop, and the amount of querying on this member is huge, then it makes sense to cache them in memory.  \n",
    "\n",
    "In this case, we apply filter just for the interested member. This helps to control the amount of data held in memory."
   ]
  },
  {
   "cell_type": "code",
   "execution_count": 31,
   "id": "17ae6441-66db-4038-bfee-28df3b2c576e",
   "metadata": {},
   "outputs": [],
   "source": [
    "cube.aggregate_providers.update(\n",
    "    {\n",
    "        \"Category provider\": tt.AggregateProvider(\n",
    "            key=\"bitmap\",\n",
    "            levels=[l[\"DATE\"], l[\"CATEGORY\"], l[\"SUB_CATEGORY\"]],\n",
    "            measures=[m[\"QUANTITY.SUM\"], m[\"PURCHASE_PRICE.SUM\"], m[\"UNIT_PRICE.SUM\"]],\n",
    "            filter=(l[\"DATE\"] == current_date),\n",
    "        )\n",
    "    }\n",
    ")"
   ]
  },
  {
   "cell_type": "code",
   "execution_count": 32,
   "id": "adc253db-cebe-49a2-a8ae-2f9630d5338d",
   "metadata": {
    "tags": []
   },
   "outputs": [
    {
     "name": "stdout",
     "output_type": "stream",
     "text": [
      "CPU times: user 11.9 ms, sys: 6.28 ms, total: 18.2 ms\n",
      "Wall time: 3.31 s\n"
     ]
    },
    {
     "data": {
      "text/html": [
       "<div>\n",
       "<style scoped>\n",
       "    .dataframe tbody tr th:only-of-type {\n",
       "        vertical-align: middle;\n",
       "    }\n",
       "\n",
       "    .dataframe tbody tr th {\n",
       "        vertical-align: top;\n",
       "    }\n",
       "\n",
       "    .dataframe thead th {\n",
       "        text-align: right;\n",
       "    }\n",
       "</style>\n",
       "<table border=\"1\" class=\"dataframe\">\n",
       "  <thead>\n",
       "    <tr style=\"text-align: right;\">\n",
       "      <th></th>\n",
       "      <th></th>\n",
       "      <th></th>\n",
       "      <th>PROFIT</th>\n",
       "    </tr>\n",
       "    <tr>\n",
       "      <th>DATE</th>\n",
       "      <th>CATEGORY</th>\n",
       "      <th>SUB_CATEGORY</th>\n",
       "      <th></th>\n",
       "    </tr>\n",
       "  </thead>\n",
       "  <tbody>\n",
       "    <tr>\n",
       "      <th rowspan=\"2\" valign=\"top\">2022-02-04</th>\n",
       "      <th>Cloth</th>\n",
       "      <th>Hoodie</th>\n",
       "      <td>10.00</td>\n",
       "    </tr>\n",
       "    <tr>\n",
       "      <th>Furniture</th>\n",
       "      <th>Table</th>\n",
       "      <td>20.00</td>\n",
       "    </tr>\n",
       "  </tbody>\n",
       "</table>\n",
       "</div>"
      ],
      "text/plain": [
       "                                  PROFIT\n",
       "DATE       CATEGORY  SUB_CATEGORY       \n",
       "2022-02-04 Cloth     Hoodie        10.00\n",
       "           Furniture Table         20.00"
      ]
     },
     "execution_count": 32,
     "metadata": {},
     "output_type": "execute_result"
    }
   ],
   "source": [
    "%%time\n",
    "\n",
    "cube.query(\n",
    "    m[\"PROFIT\"],\n",
    "    levels=[l[\"DATE\"], l[\"CATEGORY\"], l[\"SUB_CATEGORY\"]],\n",
    "    filter=(l[\"DATE\"] == \"2022-02-04\"),\n",
    ")"
   ]
  },
  {
   "cell_type": "markdown",
   "id": "4b392590-0e19-4d03-84db-853028977e8b",
   "metadata": {},
   "source": [
    "## Balance between Cost and Performance"
   ]
  },
  {
   "cell_type": "markdown",
   "id": "1f44c57a-00ad-44eb-9195-ed0b0a808a62",
   "metadata": {},
   "source": [
    "All in all, Atoti's DirectQuery offers users a way to balance between cost and performance:\n",
    "\n",
    "* For data that is less queried, it resides on the cloud database and gets queried on-demand.\n",
    "* For data that is more frequently queried, we can cache it in memory and reduce the number of queries to the cloud database, thereby improving performance.  \n",
    "\n",
    "<img src=\"https://data.atoti.io/notebooks/direct-query/img/aggregate_cache.png\" />  \n",
    "\n",
    "💡 **Note:** To find out more, reach out to [ActiveViam](https://activeviam.com/contact-us/?utm_source=github&utm_medium=atoti) for a demonstration."
   ]
  },
  {
   "cell_type": "markdown",
   "id": "455e3f95-0a8c-48bf-b793-69d5fe2f2083",
   "metadata": {},
   "source": [
    "<div style=\"text-align: center;\" ><a href=\"https://www.atoti.io/?utm_source=gallery&utm_content=directquery-intro\" target=\"_blank\" rel=\"noopener noreferrer\"><img src=\"https://data.atoti.io/notebooks/banners/Your-turn-to-try-Atoti.jpg\" alt=\"Try Atoti\"></a></div>"
   ]
  }
 ],
 "metadata": {
  "kernelspec": {
   "display_name": "Python 3 (ipykernel)",
   "language": "python",
   "name": "python3"
  },
  "language_info": {
   "codemirror_mode": {
    "name": "ipython",
    "version": 3
   },
   "file_extension": ".py",
   "mimetype": "text/x-python",
   "name": "python",
   "nbconvert_exporter": "python",
   "pygments_lexer": "ipython3",
   "version": "3.10.0"
  },
  "widgets": {
   "application/vnd.jupyter.widget-state+json": {
    "state": {},
    "version_major": 2,
    "version_minor": 0
   }
  }
 },
 "nbformat": 4,
 "nbformat_minor": 5
}
