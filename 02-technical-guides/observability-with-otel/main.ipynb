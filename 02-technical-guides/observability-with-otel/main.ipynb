{
 "cells": [
  {
   "cell_type": "markdown",
   "id": "fe46c40a-4535-4114-84a6-5b3293298969",
   "metadata": {},
   "source": [
    "# Enabling Observability with OpenTelemetry\n",
    "\n",
    "Atoti Python API features an observability plugin to integrate OpenTelemetry with Atoti for better monitoring and debugging capabilities. \n",
    "\n",
    "In this notebook, we explore how to set up observability for Atoti Python API using OpenTelemetry."
   ]
  },
  {
   "cell_type": "markdown",
   "id": "df6c1018-716d-4af9-9775-f2525331ae58",
   "metadata": {},
   "source": [
    "<div style=\"text-align: center;\" ><a href=\"https://www.atoti.io/?utm_source=gallery&utm_content=observability-with-otel\" target=\"_blank\" rel=\"noopener noreferrer\"><img src=\"https://data.atoti.io/notebooks/banners/Discover-Atoti-now.png\" alt=\"Try Atoti\"></a></div>"
   ]
  },
  {
   "cell_type": "code",
   "execution_count": 1,
   "id": "9a1f3448-c703-48fa-a806-bf4fd5edec1d",
   "metadata": {},
   "outputs": [],
   "source": [
    "# !uv pip install 'atoti[observability]'"
   ]
  },
  {
   "cell_type": "code",
   "execution_count": 2,
   "id": "c9aed4ad-29fc-4e22-8496-82f00360d1c4",
   "metadata": {},
   "outputs": [],
   "source": [
    "import atoti as tt\n",
    "import zipfile\n",
    "import wget\n",
    "from IPython.display import clear_output, display"
   ]
  },
  {
   "cell_type": "markdown",
   "id": "9c19bcff-dbfb-47c8-95d0-7b2ed9ee7c6e",
   "metadata": {},
   "source": [
    "## Start the OTEL stack"
   ]
  },
  {
   "cell_type": "markdown",
   "id": "4333798e-4cfe-46a8-b580-b6340b87ff00",
   "metadata": {},
   "source": [
    "To set up observability for Atoti using OpenTelemetry, we first need a place to send our metrics, logs, and traces.\n",
    "\n",
    "The `docker-compose.yaml` located in `otel-stack` configures the following multi-container [Docker](https://www.docker.com/) application:\n",
    "\n",
    "![otel-stack-diagram-2](https://data.atoti.io/notebooks/observability-with-otel/img/otel-stack-diagram-2.png)\n",
    "\n",
    "With the Atoti Python API observability plugin, Atoti can use OpenTelemetry to instrument its code and generate telemetry data during execution. The telemetry data is then handled by the [OTEL collector](https://opentelemetry.io/docs/collector/) and sent to the corresponding services integrated with [Grafana](https://grafana.com/):\n",
    "\n",
    "* **Traces:** Exported to [Tempo](https://grafana.com/oss/tempo/) (with OTLP).\n",
    "* **Logs:** Exported to [Loki](https://grafana.com/oss/loki/) (push to an endpoint).\n",
    "* **Metrics:** Scraped from the OTEL collector endpoint via [Prometheus](https://grafana.com/oss/prometheus/) every 15 seconds.\n",
    "\n",
    "Navigate to `otel-stack` and execute the following command to setup and confirm the containers are up and running:\n",
    "\n",
    "```bash\n",
    "docker compose up -d\n",
    "```\n",
    "\n",
    "💡 **Note:** Use the `docker ps` and `docker logs` commands to verify the containers are healthy.\n"
   ]
  },
  {
   "cell_type": "markdown",
   "id": "83ebe6ef-fbd3-4802-8ea3-1d1d5b440833",
   "metadata": {},
   "source": [
    "## Download data\n",
    "\n",
    "To simulate greater computation in this walk through, we've prepared 2GB worth of trades and books data."
   ]
  },
  {
   "cell_type": "code",
   "execution_count": 3,
   "id": "e2d44517-7bec-40bc-a00d-0b2f1fd5907a",
   "metadata": {},
   "outputs": [
    {
     "name": "stdout",
     "output_type": "stream",
     "text": [
      "100% [......................................................................] 843205063 / 843205063"
     ]
    }
   ],
   "source": [
    "url = f\"https://data.atoti.io/notebooks/observability-with-otel/data/data.zip\"\n",
    "filename = wget.download(url)\n",
    "\n",
    "with zipfile.ZipFile(filename, \"r\") as zip_ref:\n",
    "    zip_ref.extractall()"
   ]
  },
  {
   "cell_type": "markdown",
   "id": "11d5b438-dd8b-42da-bc3a-806345fd3d40",
   "metadata": {},
   "source": [
    "## Configure the Atoti session for OpenTelemetry\n",
    "\n",
    "When using the observability plugin for Atoti Python API, we need to configure the underlying Atoti Server JVM to use OpenTelemetry. \n",
    "\n",
    "The following configurations are set as their defaults:\n",
    "\n",
    "```java\n",
    "\"-Dspring.profiles.active=application-monitoring\",\n",
    "\"-Dotel.java.global-autoconfigure.enabled=true\",\n",
    "\"-Dotel.traces.exporter=otlp\",\n",
    "\"-Dotel.metrics.exporter=otlp\",\n",
    "\"-Dotel.logs.exporter=otlp\",\n",
    "\"-Dotel.exporter.otlp.endpoint=http://localhost:4318\",\n",
    "\"-Dotel.resource.attributes=service.name=atoti,service.version=1.0\",\n",
    "\"-Dotel.exporter.otlp.protocol=grpc\"\n",
    "```\n",
    "\n",
    "The following configurations are user specific:\n",
    "\n",
    "```java\n",
    "\"-Djson.log.dir=logs\",\n",
    "\"-Dotel.traces.sampler=always_on\",\n",
    "\"-Dotel.metric.export.interval=1000\",\n",
    "\n",
    "```\n",
    "    \n",
    "We can also add in an OpenTelemetry java agent to report more metrics about the performance of the underlying JVM.\n",
    "\n",
    "```java\n",
    "\"-javaagent:opentelemetry-javaagent.jar\"\n",
    "```\n"
   ]
  },
  {
   "cell_type": "code",
   "execution_count": 4,
   "id": "aef1b3b3-c26c-4a2a-b962-e0039c2c41cc",
   "metadata": {},
   "outputs": [
    {
     "name": "stdout",
     "output_type": "stream",
     "text": [
      "100% [........................................................................] 21891536 / 21891536"
     ]
    }
   ],
   "source": [
    "url = f\"https://github.com/open-telemetry/opentelemetry-java-instrumentation/releases/latest/download/opentelemetry-javaagent.jar\"\n",
    "filename = wget.download(url)"
   ]
  },
  {
   "cell_type": "code",
   "execution_count": 5,
   "id": "af47b24d-2e24-4125-a984-1154c923b027",
   "metadata": {},
   "outputs": [],
   "source": [
    "session = tt.Session.start(\n",
    "    tt.SessionConfig(\n",
    "        port=9105,\n",
    "        java_options=[\n",
    "            \"-Dspring.profiles.active=application-monitoring\",\n",
    "            \"-Dotel.java.global-autoconfigure.enabled=true\",\n",
    "            \"-Dotel.traces.exporter=otlp\",\n",
    "            \"-Dotel.metrics.exporter=otlp\",\n",
    "            \"-Dotel.logs.exporter=otlp\",\n",
    "            \"-Dotel.exporter.otlp.endpoint=http://localhost:4318\",\n",
    "            \"-Dotel.resource.attributes=service.name=atoti,service.version=1.0\",\n",
    "            \"-Dotel.exporter.otlp.protocol=grpc\",\n",
    "            \"-Djson.log.dir=logs\",\n",
    "            \"-Dotel.traces.sampler=always_on\",\n",
    "            \"-Dotel.metric.export.interval=1000\",\n",
    "            \"-javaagent:opentelemetry-javaagent.jar\",\n",
    "        ],\n",
    "    )\n",
    ")"
   ]
  },
  {
   "cell_type": "markdown",
   "id": "84689afb-75b5-44f9-aeb2-fd751caa081a",
   "metadata": {},
   "source": [
    "## Load data, join data, visualize data model\n",
    "\n",
    "We then perform the following:\n",
    "\n",
    "1. Load our data into tables\n",
    "2. Make the corresponding joins\n",
    "3. Visualize the data model of the cube"
   ]
  },
  {
   "cell_type": "code",
   "execution_count": 6,
   "id": "5a25dd6e-e986-4009-ab5d-8697fae520cd",
   "metadata": {},
   "outputs": [
    {
     "name": "stdout",
     "output_type": "stream",
     "text": [
      "Trades Row Count: 383688\n",
      "Books Row Count: 408\n"
     ]
    },
    {
     "data": {
      "image/png": "[encoded data removed]",
      "text/plain": [
       "erDiagram\n",
       "  \"Trade PnL\" {\n",
       "    _ int PK \"BookId\"\n",
       "    _ LocalDate PK \"AsOfDate\"\n",
       "    _ String PK \"TradeId\"\n",
       "    _ String PK \"DataSet\"\n",
       "    _ String \"RiskFactor\"\n",
       "    _ String \"RiskClass\"\n",
       "    _ String \"SensitivityName\"\n",
       "    _ String \"ccy\"\n",
       "    nullable double[] \"pnl_vector\"\n",
       "  }\n",
       "  \"Books\" {\n",
       "    _ int PK \"BOOKID\"\n",
       "    _ String \"BOOK\"\n",
       "    _ String \"TRADING_DESK\"\n",
       "    _ String \"SUB_BUSINESS_UNIT\"\n",
       "    _ String \"BUSINESS_UNIT\"\n",
       "  }\n",
       "  \"Trade PnL\" }o--o| \"Books\" : \"`BookId` == `BOOKID`\""
      ]
     },
     "execution_count": 6,
     "metadata": {},
     "output_type": "execute_result"
    }
   ],
   "source": [
    "trades_tbl = session.read_csv(\n",
    "    \"data/trades/TradePnLs*.csv\",\n",
    "    table_name=\"Trade PnL\",\n",
    "    keys=[\"AsOfDate\", \"TradeId\", \"BookId\", \"DataSet\"],\n",
    "    array_separator=\";\",\n",
    ")\n",
    "books_tbl = session.read_csv(\n",
    "    \"data/books/books_books.csv\", table_name=\"Books\", keys=[\"BOOKID\"]\n",
    ")\n",
    "trades_tbl.join(books_tbl, trades_tbl[\"BookId\"] == books_tbl[\"BOOKID\"])\n",
    "\n",
    "cube = session.create_cube(trades_tbl)\n",
    "h, l, m = cube.hierarchies, cube.levels, cube.measures\n",
    "\n",
    "print(f\"Trades Row Count: {trades_tbl.row_count}\")\n",
    "print(f\"Books Row Count: {books_tbl.row_count}\")\n",
    "\n",
    "session.tables.schema"
   ]
  },
  {
   "cell_type": "markdown",
   "id": "ee2773bd-b529-4bce-aa92-15a0ac6f4e71",
   "metadata": {},
   "source": [
    "### Computing VaR 95\n",
    "\n",
    "We have a `pnl_vector.SUM` measure which is the sum of the profit and loss (PnL) value for each historical date."
   ]
  },
  {
   "cell_type": "code",
   "execution_count": 7,
   "id": "573f9a48-738c-49b6-8ac8-c98e7c2b0f14",
   "metadata": {},
   "outputs": [
    {
     "data": {
      "application/json": {
       "contributors.COUNT": {
        "formatter": "INT[#,###]"
       },
       "pnl_vector.MEAN": {
        "formatter": null
       },
       "pnl_vector.SUM": {
        "formatter": null
       }
      },
      "text/html": [
       "<ul>\n",
       "<li>Measures\n",
       "  <ul>\n",
       "  <li>contributors.COUNT\n",
       "    <ul>\n",
       "    <li>formatter: INT[#,###]</li>\n",
       "    </ul>\n",
       "  </li>\n",
       "  <li>pnl_vector.MEAN\n",
       "    <ul>\n",
       "    <li>formatter: None</li>\n",
       "    </ul>\n",
       "  </li>\n",
       "  <li>pnl_vector.SUM\n",
       "    <ul>\n",
       "    <li>formatter: None</li>\n",
       "    </ul>\n",
       "  </li>\n",
       "  </ul>\n",
       "</li>\n",
       "</ul>\n"
      ],
      "text/plain": [
       "{'pnl_vector.SUM': <atoti.measure.Measure object at 0x10ff9c190>, 'contributors.COUNT': <atoti.measure.Measure object at 0x12802eed0>, 'pnl_vector.MEAN': <atoti.measure.Measure object at 0x12865ff50>, 'update.TIMESTAMP': <atoti.measure.Measure object at 0x12865ced0>}"
      ]
     },
     "execution_count": 7,
     "metadata": {
      "application/json": {
       "expanded": false,
       "root": "Measures"
      }
     },
     "output_type": "execute_result"
    }
   ],
   "source": [
    "m"
   ]
  },
  {
   "cell_type": "markdown",
   "id": "0b029e3d-871b-4fe7-a0fd-ecd8874c9e18",
   "metadata": {},
   "source": [
    "Therefore, we can define the formula for a 95% confidence level [value at risk (VaR)](https://www.investopedia.com/articles/04/092904.asp) measure as follows:"
   ]
  },
  {
   "cell_type": "code",
   "execution_count": 8,
   "id": "0fd8d2bd-e90a-4e9b-8f73-a3dc7f3cbfa7",
   "metadata": {},
   "outputs": [],
   "source": [
    "m[\"VaR95\"] = tt.array.quantile(m[\"pnl_vector.SUM\"], 1 - 0.95)"
   ]
  },
  {
   "cell_type": "markdown",
   "id": "a66ca2af-398b-4a5c-996f-e30b3bec5bec",
   "metadata": {},
   "source": [
    "Then, run the query to calculate `Var95` for each `AsOfDate` and `BUSINESS_UNIT`."
   ]
  },
  {
   "cell_type": "code",
   "execution_count": 9,
   "id": "ccd7c76a-ca77-4e5e-85fc-73be2c2638fe",
   "metadata": {
    "atoti": {
     "widget": {
      "mapping": {
       "columns": [
        "ALL_MEASURES"
       ],
       "measures": [
        "[Measures].[VaR95]"
       ],
       "rows": [
        "[Trade PnL].[AsOfDate].[AsOfDate]",
        "[Books].[BUSINESS_UNIT].[BUSINESS_UNIT]"
       ]
      },
      "query": {
       "mdx": "SELECT NON EMPTY Crossjoin(Hierarchize(Descendants({[Trade PnL].[AsOfDate].[ALL].[AllMember]}, 1, SELF_AND_BEFORE)), Hierarchize(Descendants({[Books].[BUSINESS_UNIT].[ALL].[AllMember]}, 1, SELF_AND_BEFORE))) ON ROWS, NON EMPTY {[Measures].[VaR95]} ON COLUMNS FROM [Trade PnL] CELL PROPERTIES VALUE, FORMATTED_VALUE, BACK_COLOR, FORE_COLOR, FONT_FLAGS",
       "updateMode": "once"
      },
      "serverKey": "default",
      "widgetKey": "pivot-table"
     }
    }
   },
   "outputs": [
    {
     "data": {
      "application/vnd.atoti.widget.v0+json": {
       "sessionId": "1737560725_604044",
       "sessionUrl": "http://localhost:9105",
       "widgetCreationCode": "session.widget"
      },
      "text/html": [
       "<img height=\"352\" width=\"1473\" src=\"data:image/png;base64,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\" />"
      ],
      "text/plain": [
       "Open the notebook in JupyterLab with the Atoti JupyterLab extension enabled to build this widget."
      ]
     },
     "metadata": {},
     "output_type": "display_data"
    }
   ],
   "source": [
    "session.widget"
   ]
  },
  {
   "cell_type": "markdown",
   "id": "d768bc78-a8d3-4d33-bcb4-55076d6b6375",
   "metadata": {},
   "source": [
    "## Monitoring Performance\n",
    "\n",
    "By this point, Atoti has already sent over telemetry data to the OpenTelemetry collector from our previous operations. This data can then be processed and visualized in Grafana using Loki, Tempo, and Prometheus. We can verify that Atoti is generating OpenTelemetry data by navigating to `localhost:3000`. In the left-hand pane, we can visit the *Explore* menu to access our metrics, logs, and traces using Grafana."
   ]
  },
  {
   "cell_type": "markdown",
   "id": "820ff974-6323-43c8-961b-87a497960728",
   "metadata": {},
   "source": [
    "### Metrics\n",
    "\n",
    "Metrics are quantifiable measurements that reflect the behvaior, health, and performance of an application and its infrastructure.\n",
    "\n",
    "In our setup, Prometheus scrapes the telemetry data exported from Atoti to the OTEL collector and enables us to visualize the Atoti-specific metrics in Grafana. Navigate to the Grafana UI located at [localhost:3000](http://localhost:3000) and click on the *Metrics* item in the left-hand pane to pull up the metric charts.\n",
    "\n",
    "💡 **Note:** Check out the documentation for more information on [Atoti-specific metrics](https://docs.activeviam.com/products/atoti/server/6.1.0/docs/monitoring/metrics/).\n",
    "\n",
    "For example, we see various metrics pop up relating to the execution of the notebook, such as loading CSV data into the tables and the resulting table memory footprint. By monitoring the details captured from our metrics, we can better assess the results of our operations in real time.\n",
    "\n",
    "![metrics](https://data.atoti.io/notebooks/observability-with-otel/img/metrics.png)\n",
    "\n",
    "Similarly, we can also view the JVM metrics reported by the OpenTelemetry Java agent.\n",
    "\n",
    "![java-metrics](https://data.atoti.io/notebooks/observability-with-otel/img/java-metrics.png)"
   ]
  },
  {
   "cell_type": "markdown",
   "id": "36a06676-e613-4320-bfa9-7758a5b76bbc",
   "metadata": {},
   "source": [
    "## Logs\n",
    "\n",
    "Logs are the detailed records of events, warnings and errors occurring over time for a software application or system.\n",
    "\n",
    "Loki is a log aggregation system that natively integrates with Grafana to store and query logs for more effective log management. When we view the Atoti logs in Grafana using Loki, we see the underlying events performed in this notebook: starting the Atoti session, loading data from CSV, creating the cube, and most recently, querying the database using the Atoti JupyterLab widget shown in previous cells.\n",
    "\n",
    "![logs](https://data.atoti.io/notebooks/observability-with-otel/img/logs-2.png)\n",
    "\n",
    "Notice that if we click on a single log record, we can also see the underlying fields of the event along with their values. This also allows us to perform filters based on field values, which enhances the investigative abilities when dealing with logs.\n",
    "\n",
    "![logs-fields](https://data.atoti.io/notebooks/observability-with-otel/img/logs-fields.png)"
   ]
  },
  {
   "cell_type": "markdown",
   "id": "69eb39d4-7871-4db8-a596-672c45b3b57b",
   "metadata": {},
   "source": [
    "## Traces\n",
    "\n",
    "Traces help us understand the flow of requests and interactions within a system. They are the detailed records of how a request flows through a system, tracking its journey across different components, services, or processes. Traces are made up of one or more spans. A span represents a single operation within that request, providing detailed information about that specific step in the request flow.\n",
    "\n",
    "With the observability plugin, we can visualize our traces in Grafana using Tempo. Tempo is a distributed tracing backend that natively integrates with Grafana and allows us to visualize the interactions of our requests when we use Atoti.\n",
    "\n",
    "If we select one of the logs relating to the `VaR95` query executed in previous cells, we can pinpoint its `TraceID` and visualize the request flow when querying the Atoti database using the Atoti JupyterLab widget.\n",
    "\n",
    "![logs-traceid](https://data.atoti.io/notebooks/observability-with-otel/img/logs-traceid-2.png)\n",
    "\n",
    "Using these insights we are able to determine the time it takes for a request to complete at every stage of its journey across the system. Should any problems arise, this granular view helps us better diagnose issues.\n",
    "\n",
    "![traceid-spans](https://data.atoti.io/notebooks/observability-with-otel/img/traceid-spans-2.png)"
   ]
  },
  {
   "cell_type": "markdown",
   "id": "147cc6f8-b22a-4f6f-8349-50ac61760152",
   "metadata": {},
   "source": [
    "## Monitoring aggregate providers\n",
    "\n",
    "A common use case in Atoti is to use aggregate providers to speed up queries. Aggregate providers pre-compute and store aggregates for the specified granularity for certain hierarchies. These intermediate aggregates are then stored in-memory and used to improve query performance, though at the cost of a higher memory footprint.\n",
    "\n",
    "💡 **Note:** Take a look at the [aggregate providers](../aggregate-provider/main.ipynb) notebook for a better understanding of how to use aggregate providers.\n",
    "\n",
    "Let's use the observability plugin for Atoti Python API to monitor the creation and use of an aggregate provider. We'll use the `query` function with the `%%time` magic command to get a second opinion of how long it takes the query to return the results for the `VaR95` calculation at the specified granularity."
   ]
  },
  {
   "cell_type": "code",
   "execution_count": 10,
   "id": "771537e3-de21-43fc-b012-753afeeff88d",
   "metadata": {},
   "outputs": [
    {
     "name": "stdout",
     "output_type": "stream",
     "text": [
      "CPU times: user 26 ms, sys: 9.44 ms, total: 35.4 ms\n",
      "Wall time: 192 ms\n"
     ]
    },
    {
     "data": {
      "application/vnd.atoti.convert-mdx-query-result-to-widget.v0+json": {
       "mdx": "SELECT {[Measures].[VaR95]} ON COLUMNS, NON EMPTY Crossjoin(Hierarchize(Descendants({[Books].[BUSINESS_UNIT].[ALL].[AllMember]}, 1, SELF_AND_BEFORE)), Hierarchize(Descendants({[Books].[SUB_BUSINESS_UNIT].[ALL].[AllMember]}, 1, SELF_AND_BEFORE)), Hierarchize(Descendants({[Books].[TRADING_DESK].[ALL].[AllMember]}, 1, SELF_AND_BEFORE))) ON ROWS FROM [Trade PnL]",
       "sessionId": "1737560725_604044",
       "widgetCreationCode": "session.widget"
      },
      "text/html": [
       "<div>\n",
       "<style scoped>\n",
       "    .dataframe tbody tr th:only-of-type {\n",
       "        vertical-align: middle;\n",
       "    }\n",
       "\n",
       "    .dataframe tbody tr th {\n",
       "        vertical-align: top;\n",
       "    }\n",
       "\n",
       "    .dataframe thead th {\n",
       "        text-align: right;\n",
       "    }\n",
       "</style>\n",
       "<table border=\"1\" class=\"dataframe\">\n",
       "  <thead>\n",
       "    <tr style=\"text-align: right;\">\n",
       "      <th></th>\n",
       "      <th></th>\n",
       "      <th></th>\n",
       "      <th>VaR95</th>\n",
       "    </tr>\n",
       "    <tr>\n",
       "      <th>BUSINESS_UNIT</th>\n",
       "      <th>SUB_BUSINESS_UNIT</th>\n",
       "      <th>TRADING_DESK</th>\n",
       "      <th></th>\n",
       "    </tr>\n",
       "  </thead>\n",
       "  <tbody>\n",
       "    <tr>\n",
       "      <th>Equity</th>\n",
       "      <th>Foreign Equity</th>\n",
       "      <th>Hermes</th>\n",
       "      <td>-15,619,158.90</td>\n",
       "    </tr>\n",
       "    <tr>\n",
       "      <th>Forex</th>\n",
       "      <th>Developed Market</th>\n",
       "      <th>Hades</th>\n",
       "      <td>-11,124,911.55</td>\n",
       "    </tr>\n",
       "    <tr>\n",
       "      <th rowspan=\"2\" valign=\"top\">Rates &amp; Credits</th>\n",
       "      <th rowspan=\"2\" valign=\"top\">Domestic Rates &amp; Credit</th>\n",
       "      <th>Hermes</th>\n",
       "      <td>-14,847,674.25</td>\n",
       "    </tr>\n",
       "    <tr>\n",
       "      <th>Keres</th>\n",
       "      <td>-9,981,765.60</td>\n",
       "    </tr>\n",
       "  </tbody>\n",
       "</table>\n",
       "</div>"
      ],
      "text/plain": [
       "                                                               VaR95\n",
       "BUSINESS_UNIT   SUB_BUSINESS_UNIT       TRADING_DESK                \n",
       "Equity          Foreign Equity          Hermes        -15,619,158.90\n",
       "Forex           Developed Market        Hades         -11,124,911.55\n",
       "Rates & Credits Domestic Rates & Credit Hermes        -14,847,674.25\n",
       "                                        Keres          -9,981,765.60"
      ]
     },
     "execution_count": 10,
     "metadata": {},
     "output_type": "execute_result"
    }
   ],
   "source": [
    "%%time\n",
    "cube.query(\n",
    "    m[\"VaR95\"],\n",
    "    levels=[l[\"BUSINESS_UNIT\"], l[\"SUB_BUSINESS_UNIT\"], l[\"TRADING_DESK\"]],\n",
    ")"
   ]
  },
  {
   "cell_type": "markdown",
   "id": "14e7cae9-149b-4c93-95a5-a84faf71f058",
   "metadata": {},
   "source": [
    "When we re-visit Grafana and Tempo and monitor the trace for the query, we can see the corresponding breakdown of spans for each of the underlying services that were impacted.\n",
    "\n",
    "💡 **Note:** The time taken produced by `%%time` may differ from what is shown in the corresponding TraceID diagram. This is because `%%time` measures the execution time of the notebook cell entirely, whereas the TraceID measures the execution time of a request traveling through the system.\n",
    "\n",
    "![before-aggregate-provider](https://data.atoti.io/notebooks/observability-with-otel/img/before-aggregate-provider.png)"
   ]
  },
  {
   "cell_type": "markdown",
   "id": "c0c1c0c5-2c00-470a-835e-192b506c217a",
   "metadata": {},
   "source": [
    "Let's now create our aggregate provider to match the granularity of the previous query for the `pnl_vector.SUM` measure. This pre-computes and stores the intermediate aggregate for `pnl_vector.SUM` at the specified granularity and improves the query time when calculating `VaR95`."
   ]
  },
  {
   "cell_type": "code",
   "execution_count": 11,
   "id": "467a7574-83b9-4827-9e18-2651a948c7ea",
   "metadata": {},
   "outputs": [],
   "source": [
    "cube.aggregate_providers.update(\n",
    "    {\n",
    "        \"PnL provider\": tt.AggregateProvider(\n",
    "            key=\"bitmap\",\n",
    "            levels=[\n",
    "                l[\"BUSINESS_UNIT\"],\n",
    "                l[\"SUB_BUSINESS_UNIT\"],\n",
    "                l[\"TRADING_DESK\"],\n",
    "            ],\n",
    "            measures=[m[\"pnl_vector.SUM\"]],\n",
    "        )\n",
    "    }\n",
    ")"
   ]
  },
  {
   "cell_type": "markdown",
   "id": "32b5f850-d7ce-4845-8337-8e6c73d70dda",
   "metadata": {},
   "source": [
    "Then, re-run the query."
   ]
  },
  {
   "cell_type": "code",
   "execution_count": 12,
   "id": "a4418335-20e7-467d-b48b-5fdd35152806",
   "metadata": {},
   "outputs": [
    {
     "name": "stdout",
     "output_type": "stream",
     "text": [
      "CPU times: user 10.1 ms, sys: 2.28 ms, total: 12.4 ms\n",
      "Wall time: 65.2 ms\n"
     ]
    },
    {
     "data": {
      "application/vnd.atoti.convert-mdx-query-result-to-widget.v0+json": {
       "mdx": "SELECT {[Measures].[VaR95]} ON COLUMNS, NON EMPTY Crossjoin(Hierarchize(Descendants({[Books].[BUSINESS_UNIT].[ALL].[AllMember]}, 1, SELF_AND_BEFORE)), Hierarchize(Descendants({[Books].[SUB_BUSINESS_UNIT].[ALL].[AllMember]}, 1, SELF_AND_BEFORE)), Hierarchize(Descendants({[Books].[TRADING_DESK].[ALL].[AllMember]}, 1, SELF_AND_BEFORE))) ON ROWS FROM [Trade PnL]",
       "sessionId": "1737560725_604044",
       "widgetCreationCode": "session.widget"
      },
      "text/html": [
       "<div>\n",
       "<style scoped>\n",
       "    .dataframe tbody tr th:only-of-type {\n",
       "        vertical-align: middle;\n",
       "    }\n",
       "\n",
       "    .dataframe tbody tr th {\n",
       "        vertical-align: top;\n",
       "    }\n",
       "\n",
       "    .dataframe thead th {\n",
       "        text-align: right;\n",
       "    }\n",
       "</style>\n",
       "<table border=\"1\" class=\"dataframe\">\n",
       "  <thead>\n",
       "    <tr style=\"text-align: right;\">\n",
       "      <th></th>\n",
       "      <th></th>\n",
       "      <th></th>\n",
       "      <th>VaR95</th>\n",
       "    </tr>\n",
       "    <tr>\n",
       "      <th>BUSINESS_UNIT</th>\n",
       "      <th>SUB_BUSINESS_UNIT</th>\n",
       "      <th>TRADING_DESK</th>\n",
       "      <th></th>\n",
       "    </tr>\n",
       "  </thead>\n",
       "  <tbody>\n",
       "    <tr>\n",
       "      <th>Equity</th>\n",
       "      <th>Foreign Equity</th>\n",
       "      <th>Hermes</th>\n",
       "      <td>-15,619,158.90</td>\n",
       "    </tr>\n",
       "    <tr>\n",
       "      <th>Forex</th>\n",
       "      <th>Developed Market</th>\n",
       "      <th>Hades</th>\n",
       "      <td>-11,124,911.55</td>\n",
       "    </tr>\n",
       "    <tr>\n",
       "      <th rowspan=\"2\" valign=\"top\">Rates &amp; Credits</th>\n",
       "      <th rowspan=\"2\" valign=\"top\">Domestic Rates &amp; Credit</th>\n",
       "      <th>Hermes</th>\n",
       "      <td>-14,847,674.25</td>\n",
       "    </tr>\n",
       "    <tr>\n",
       "      <th>Keres</th>\n",
       "      <td>-9,981,765.60</td>\n",
       "    </tr>\n",
       "  </tbody>\n",
       "</table>\n",
       "</div>"
      ],
      "text/plain": [
       "                                                               VaR95\n",
       "BUSINESS_UNIT   SUB_BUSINESS_UNIT       TRADING_DESK                \n",
       "Equity          Foreign Equity          Hermes        -15,619,158.90\n",
       "Forex           Developed Market        Hades         -11,124,911.55\n",
       "Rates & Credits Domestic Rates & Credit Hermes        -14,847,674.25\n",
       "                                        Keres          -9,981,765.60"
      ]
     },
     "execution_count": 12,
     "metadata": {},
     "output_type": "execute_result"
    }
   ],
   "source": [
    "%%time\n",
    "cube.query(\n",
    "    m[\"VaR95\"],\n",
    "    levels=[l[\"BUSINESS_UNIT\"], l[\"SUB_BUSINESS_UNIT\"], l[\"TRADING_DESK\"]],\n",
    ")"
   ]
  },
  {
   "cell_type": "markdown",
   "id": "7fcae090-9b54-4449-a29c-466cd9d1aa18",
   "metadata": {},
   "source": [
    "We see from the `%%time` magic command that query times have improved thanks to the aggregate provider. In addition, when we view the corresponding TraceID in Grafana and Tempo, we can visualize the granular improvement for the request. For example, we see that the overall time for the trace/request has significantly improved, while the granular spans also show an increase in performance.\n",
    "\n",
    "![after-aggregate-provider](https://data.atoti.io/notebooks/observability-with-otel/img/after-aggregate-provider.png)"
   ]
  },
  {
   "cell_type": "markdown",
   "id": "9a01f240-c9c8-4dab-9862-18a889e91ccf",
   "metadata": {},
   "source": [
    "This walk through was just a small example of how to get observability up and running with OpenTelemetry using the Atoti observability plugin. However, perfomance tuning and monitoring are useful and relevant at any stage of an Atoti project. It's a good idea to set them up during initial stages, so that when the project is ready to scale we have everything we need already in place."
   ]
  },
  {
   "cell_type": "markdown",
   "id": "c92cf61f-d9e1-4911-8b76-2d08e4a8eda8",
   "metadata": {},
   "source": [
    "<div style=\"text-align: center;\" ><a href=\"https://www.atoti.io/?utm_source=gallery&utm_content=observability-with-otel\" target=\"_blank\" rel=\"noopener noreferrer\"><img src=\"https://data.atoti.io/notebooks/banners/Your-turn-to-try-Atoti.jpg\" alt=\"Try Atoti\"></a></div>"
   ]
  }
 ],
 "metadata": {
  "kernelspec": {
   "display_name": "Python 3 (ipykernel)",
   "language": "python",
   "name": "python3"
  },
  "language_info": {
   "codemirror_mode": {
    "name": "ipython",
    "version": 3
   },
   "file_extension": ".py",
   "mimetype": "text/x-python",
   "name": "python",
   "nbconvert_exporter": "python",
   "pygments_lexer": "ipython3",
   "version": "3.11.10"
  },
  "widgets": {
   "application/vnd.jupyter.widget-state+json": {
    "state": {},
    "version_major": 2,
    "version_minor": 0
   }
  }
 },
 "nbformat": 4,
 "nbformat_minor": 5
}
