{
 "cells": [
  {
   "cell_type": "markdown",
   "id": "4b3bb4a0-74bf-4f21-a181-095dd87e0fee",
   "metadata": {},
   "source": [
    "# Table Creation and Data Loading Starter Guide  \n",
    "\n",
    "Building out a project? Are you at an exploratory phase where you have data in various files, unsure of what it contains and what columns will ultimately be useful in your data model? Or do you have a robust understanding of what you need in your data model and are ready to define your tables, even if the data is not yet ready?  \n",
    "\n",
    "Depending on your project, there are a few ways to create tables and load them with data.  Read on for a quick explanation of your options and when it would make sense to use them.  \n",
    "\n",
    "💡 **Note:** Want more details? Visit Atoti Python API's [documentation](https://docs.atoti.io/) for more information on anything referenced below.  \n",
    "\n",
    "<div style=\"text-align: center;\" ><a href=\"https://www.atoti.io/?utm_source=gallery&utm_content=table-creation-and-data-loads\" target=\"_blank\" rel=\"noopener noreferrer\"><img src=\"https://data.atoti.io/notebooks/banners/Discover-Atoti-now.png\" alt=\"Try Atoti\"></a></div>"
   ]
  },
  {
   "cell_type": "markdown",
   "id": "0528a9fe-1b80-4cbb-bdca-b2c3360960f1",
   "metadata": {},
   "source": [
    "We'll keep this example straightfoward, working with CSVs and dataframes alone. This means we'll only need Atoti and Pandas for this demonstration and can create a no frills session."
   ]
  },
  {
   "cell_type": "code",
   "execution_count": 1,
   "id": "b750c590-9c04-4e22-b771-b1dda6b3fecc",
   "metadata": {},
   "outputs": [],
   "source": [
    "import atoti\n",
    "import pandas\n",
    "\n",
    "session = atoti.Session.start()"
   ]
  },
  {
   "cell_type": "markdown",
   "id": "dd28c45f-9136-4127-86da-67dfcb3cf941",
   "metadata": {},
   "source": [
    "## Creating tables\n",
    "\n",
    "There are two ways we can create tables in Atoti Python API."
   ]
  },
  {
   "cell_type": "markdown",
   "id": "14b2bc5d-b92a-4aca-ace9-dfafd10db1bc",
   "metadata": {},
   "source": [
    "### Create and load\n",
    "\n",
    "If we are in the data exploratory phase with our analysis, we can quickly create a table and load data into it in one fell swoop using one of the `read_*` functions. For example, [`read_csv()`](https://docs.atoti.io/latest/api/atoti.Session.read_csv.html#atoti.Session.read_csv) is used below. This will create a table and load in data based on what is already present. In our example, we have a CSV with order data."
   ]
  },
  {
   "cell_type": "code",
   "execution_count": 2,
   "id": "1295599b-f0c1-436e-8409-7622f59743db",
   "metadata": {},
   "outputs": [],
   "source": [
    "orders = session.read_csv(\n",
    "    \"s3://data.atoti.io/notebooks/table-creation-and-data-loads/data/Orders.csv\",\n",
    "    keys=[\"OrderId\"],\n",
    "    types={\n",
    "        \"OrderId\": atoti.STRING,\n",
    "        \"ProductId\": atoti.STRING,\n",
    "        \"EmployeeId\": atoti.STRING,\n",
    "        \"CustomerId\": atoti.STRING,\n",
    "    },\n",
    ")"
   ]
  },
  {
   "cell_type": "code",
   "execution_count": 3,
   "id": "ae98fffe-2e00-4820-b25e-ae94195ca0df",
   "metadata": {},
   "outputs": [
    {
     "data": {
      "text/html": [
       "<div>\n",
       "<style scoped>\n",
       "    .dataframe tbody tr th:only-of-type {\n",
       "        vertical-align: middle;\n",
       "    }\n",
       "\n",
       "    .dataframe tbody tr th {\n",
       "        vertical-align: top;\n",
       "    }\n",
       "\n",
       "    .dataframe thead th {\n",
       "        text-align: right;\n",
       "    }\n",
       "</style>\n",
       "<table border=\"1\" class=\"dataframe\">\n",
       "  <thead>\n",
       "    <tr style=\"text-align: right;\">\n",
       "      <th></th>\n",
       "      <th>OrderDate</th>\n",
       "      <th>QuantitySold</th>\n",
       "      <th>SellingPricePerUnit</th>\n",
       "      <th>ShipperName</th>\n",
       "      <th>ProductId</th>\n",
       "      <th>EmployeeId</th>\n",
       "      <th>CustomerId</th>\n",
       "    </tr>\n",
       "    <tr>\n",
       "      <th>OrderId</th>\n",
       "      <th></th>\n",
       "      <th></th>\n",
       "      <th></th>\n",
       "      <th></th>\n",
       "      <th></th>\n",
       "      <th></th>\n",
       "      <th></th>\n",
       "    </tr>\n",
       "  </thead>\n",
       "  <tbody>\n",
       "    <tr>\n",
       "      <th>13</th>\n",
       "      <td>18/2/2019</td>\n",
       "      <td>233</td>\n",
       "      <td>32.01</td>\n",
       "      <td>Federal Shipping</td>\n",
       "      <td>1358</td>\n",
       "      <td>18551</td>\n",
       "      <td>c4859</td>\n",
       "    </tr>\n",
       "    <tr>\n",
       "      <th>27</th>\n",
       "      <td>18/2/2019</td>\n",
       "      <td>749</td>\n",
       "      <td>21.96</td>\n",
       "      <td>Rapid Post</td>\n",
       "      <td>1514</td>\n",
       "      <td>26584</td>\n",
       "      <td>c4747</td>\n",
       "    </tr>\n",
       "    <tr>\n",
       "      <th>41</th>\n",
       "      <td>18/2/2019</td>\n",
       "      <td>454</td>\n",
       "      <td>11.73</td>\n",
       "      <td>Freight United</td>\n",
       "      <td>773</td>\n",
       "      <td>98635</td>\n",
       "      <td>c2675</td>\n",
       "    </tr>\n",
       "    <tr>\n",
       "      <th>55</th>\n",
       "      <td>18/2/2019</td>\n",
       "      <td>2</td>\n",
       "      <td>32.18</td>\n",
       "      <td>Speedy Express</td>\n",
       "      <td>1137</td>\n",
       "      <td>18336</td>\n",
       "      <td>c1275</td>\n",
       "    </tr>\n",
       "    <tr>\n",
       "      <th>69</th>\n",
       "      <td>18/2/2019</td>\n",
       "      <td>672</td>\n",
       "      <td>56.04</td>\n",
       "      <td>Speedy Express</td>\n",
       "      <td>591</td>\n",
       "      <td>26584</td>\n",
       "      <td>c3067</td>\n",
       "    </tr>\n",
       "  </tbody>\n",
       "</table>\n",
       "</div>"
      ],
      "text/plain": [
       "         OrderDate  QuantitySold  SellingPricePerUnit       ShipperName  \\\n",
       "OrderId                                                                   \n",
       "13       18/2/2019           233                32.01  Federal Shipping   \n",
       "27       18/2/2019           749                21.96        Rapid Post   \n",
       "41       18/2/2019           454                11.73    Freight United   \n",
       "55       18/2/2019             2                32.18    Speedy Express   \n",
       "69       18/2/2019           672                56.04    Speedy Express   \n",
       "\n",
       "        ProductId EmployeeId CustomerId  \n",
       "OrderId                                  \n",
       "13           1358      18551      c4859  \n",
       "27           1514      26584      c4747  \n",
       "41            773      98635      c2675  \n",
       "55           1137      18336      c1275  \n",
       "69            591      26584      c3067  "
      ]
     },
     "execution_count": 3,
     "metadata": {},
     "output_type": "execute_result"
    }
   ],
   "source": [
    "orders.head()"
   ]
  },
  {
   "cell_type": "markdown",
   "id": "46a38840-80c2-4427-9e70-8427df870f57",
   "metadata": {},
   "source": [
    "🗒️ It is a good idea to set the datatype of ID columns, though it is not necessary to do so.  \n",
    "\n",
    "There are other arguments we can set, including things like the table name, column mapping, and date patterns for date columns. These are not required, but can be set if we know something about the underlying data and what we ultimately want in our data model. Otherwise, these arguments will take on the specified default values outlined in its [documentation](https://docs.atoti.io/latest/api/atoti.Session.read_csv.html#atoti.Session.read_csv), or, for arguments like _types_, be inferred based on a sample of the available data.  \n",
    "\n",
    "Let's try this with our product data. We'll set _types_, but not _keys_.  "
   ]
  },
  {
   "cell_type": "code",
   "execution_count": 4,
   "id": "d5d4653e-2fca-4ea4-9a34-1ca4763035ee",
   "metadata": {},
   "outputs": [],
   "source": [
    "products = session.read_csv(\n",
    "    \"s3://data.atoti.io/notebooks/table-creation-and-data-loads/data/Products.csv\",\n",
    "    types={\n",
    "        \"ProductId\": atoti.STRING,\n",
    "    },\n",
    ")"
   ]
  },
  {
   "cell_type": "markdown",
   "id": "865635f9-363d-4f8d-8c16-8439ae156033",
   "metadata": {},
   "source": [
    "🗒️ Like _keys_, defining _types_ is optional. We'll explore the benefits of setting up _keys_ throughout this explainer.  \n",
    "\n",
    "In fact, the only required argument for `read_csv()` is the path to where our CSV is stored (or CSVs, since this accepts a [glob pattern](https://en.wikipedia.org/wiki/Glob_(programming))).  \n",
    "\n",
    "🗒️ If using a glob pattern, then we'll need to set _table_name_.  \n",
    "\n",
    "There is nothing special about CSVs. We can just as easily read from a dataframe. To demonstrate, we'll create a simple dataframe. This dataframe provides a contact name for each shipper. We'll use [`read_pandas()`](https://docs.atoti.io/latest/api/atoti.Session.read_pandas.html#atoti.Session.read_pandas) to create a table and load in the data present in the dataframe.  "
   ]
  },
  {
   "cell_type": "code",
   "execution_count": 5,
   "id": "fe25a887-b5c1-43ba-adcf-3ff7f7d41187",
   "metadata": {},
   "outputs": [],
   "source": [
    "shipper_df = pandas.DataFrame(\n",
    "    data={\n",
    "        \"ShipperName\": [\n",
    "            \"Freight United\",\n",
    "            \"Rapid Post\",\n",
    "            \"United Package\",\n",
    "            \"Speedy Express\",\n",
    "            \"The Transporter\",\n",
    "            \"Federal Shipping\",\n",
    "        ],\n",
    "        \"Contact\": [\n",
    "            \"Geoff Matthews\",\n",
    "            \"Payal Shah\",\n",
    "            \"Junqi Huang\",\n",
    "            \"Natalia Ramirez\",\n",
    "            \"Funmi Odunga\",\n",
    "            \"Liz Welds\",\n",
    "        ],\n",
    "    },\n",
    ")"
   ]
  },
  {
   "cell_type": "code",
   "execution_count": 6,
   "id": "9e4528de-8fc1-4a3e-930b-4e40bdf81fbd",
   "metadata": {},
   "outputs": [],
   "source": [
    "shipperContact = session.read_pandas(shipper_df, table_name=\"ShipperContact\")"
   ]
  },
  {
   "cell_type": "markdown",
   "id": "67b78ae5-b31f-4683-a849-f2edb1748d0d",
   "metadata": {},
   "source": [
    "🗒️ Like before, defining _keys_ is optional to do. In fact, we did not set any in this example.  "
   ]
  },
  {
   "cell_type": "code",
   "execution_count": 7,
   "id": "d528e350-d525-47e9-8524-77314beb578f",
   "metadata": {},
   "outputs": [
    {
     "data": {
      "text/html": [
       "<div>\n",
       "<style scoped>\n",
       "    .dataframe tbody tr th:only-of-type {\n",
       "        vertical-align: middle;\n",
       "    }\n",
       "\n",
       "    .dataframe tbody tr th {\n",
       "        vertical-align: top;\n",
       "    }\n",
       "\n",
       "    .dataframe thead th {\n",
       "        text-align: right;\n",
       "    }\n",
       "</style>\n",
       "<table border=\"1\" class=\"dataframe\">\n",
       "  <thead>\n",
       "    <tr style=\"text-align: right;\">\n",
       "      <th></th>\n",
       "      <th>ShipperName</th>\n",
       "      <th>Contact</th>\n",
       "    </tr>\n",
       "  </thead>\n",
       "  <tbody>\n",
       "    <tr>\n",
       "      <th>0</th>\n",
       "      <td>Freight United</td>\n",
       "      <td>Geoff Matthews</td>\n",
       "    </tr>\n",
       "    <tr>\n",
       "      <th>1</th>\n",
       "      <td>Federal Shipping</td>\n",
       "      <td>Liz Welds</td>\n",
       "    </tr>\n",
       "    <tr>\n",
       "      <th>2</th>\n",
       "      <td>Rapid Post</td>\n",
       "      <td>Payal Shah</td>\n",
       "    </tr>\n",
       "    <tr>\n",
       "      <th>3</th>\n",
       "      <td>The Transporter</td>\n",
       "      <td>Funmi Odunga</td>\n",
       "    </tr>\n",
       "    <tr>\n",
       "      <th>4</th>\n",
       "      <td>United Package</td>\n",
       "      <td>Junqi Huang</td>\n",
       "    </tr>\n",
       "  </tbody>\n",
       "</table>\n",
       "</div>"
      ],
      "text/plain": [
       "        ShipperName         Contact\n",
       "0    Freight United  Geoff Matthews\n",
       "1  Federal Shipping       Liz Welds\n",
       "2        Rapid Post      Payal Shah\n",
       "3   The Transporter    Funmi Odunga\n",
       "4    United Package     Junqi Huang"
      ]
     },
     "execution_count": 7,
     "metadata": {},
     "output_type": "execute_result"
    }
   ],
   "source": [
    "shipperContact.head()"
   ]
  },
  {
   "cell_type": "markdown",
   "id": "a392c95b-8ccb-46f7-82b6-893f5b888ebd",
   "metadata": {},
   "source": [
    "### Create then load\n",
    "\n",
    "Often, our data modeling and our data loading steps cannot or should not be combined. For example, we may know what data model we need, but we don't have the data yet. In this case, we can go ahead and create the tables we want, specifying things like the name of the table, what columns and types of data it will have, and what defines its primary key index."
   ]
  },
  {
   "cell_type": "markdown",
   "id": "9da7fe7e-b6c7-455d-a3c9-309272563091",
   "metadata": {},
   "source": [
    "#### Creating tables\n",
    "\n",
    "We'll create two tables using [`create_table()`](https://docs.atoti.io/latest/api/atoti.Session.create_table.html#atoti.Session.create_table), one for employee data and one for customer data."
   ]
  },
  {
   "cell_type": "code",
   "execution_count": 8,
   "id": "ad823a8b-59d1-4dc3-8d54-b919a2bf1641",
   "metadata": {},
   "outputs": [],
   "source": [
    "customers = session.create_table(\n",
    "    \"customers\",\n",
    "    types={\n",
    "        \"CustomerId\": atoti.STRING,\n",
    "        \"CompanyName\": atoti.STRING,\n",
    "        \"Region\": atoti.STRING,\n",
    "        \"Country\": atoti.STRING,\n",
    "        \"Address\": atoti.STRING,\n",
    "        \"City\": atoti.STRING,\n",
    "        \"PostCode\": atoti.STRING,\n",
    "        \"Phone\": atoti.STRING,\n",
    "    },\n",
    "    keys=[\"CustomerId\"],\n",
    ")"
   ]
  },
  {
   "cell_type": "code",
   "execution_count": 9,
   "id": "463a63ab-9ed0-4c39-9f4f-6dbf923a1847",
   "metadata": {},
   "outputs": [],
   "source": [
    "employees = session.create_table(\n",
    "    \"employees\",\n",
    "    types={\n",
    "        \"EmployeeId\": atoti.STRING,\n",
    "        \"EmployeeName\": atoti.STRING,\n",
    "        \"EmployeeCountry\": atoti.STRING,\n",
    "        \"EmployeeCity\": atoti.STRING,\n",
    "    },\n",
    "    keys=[\"EmployeeId\"],\n",
    ")"
   ]
  },
  {
   "cell_type": "markdown",
   "id": "8a26d598-c987-4bab-b1c2-990fd15a1e58",
   "metadata": {},
   "source": [
    "🗒️ Like before, _keys_ are not required, though a good idea to set."
   ]
  },
  {
   "cell_type": "markdown",
   "id": "67694ce4-4346-47d4-9821-cea35a16c055",
   "metadata": {},
   "source": [
    "#### Loading data  \n",
    "\n",
    "The tables we created make no mention of where the data will be coming from. This gives us flexibility to create our data model and separately source and prepare our data before loading it. For example, if we have our customer data in a CSV file, we can use [`load_csv()`](https://docs.atoti.io/latest/api/atoti.Table.load_csv.html#atoti.Table.load_csv) to add data whenever that data is available. Let's first take a look at a screenshot of the data we're loading in.  \n",
    "\n",
    "<img src=\"https://s3.eu-west-3.amazonaws.com/data.atoti.io/notebooks/table-creation-and-data-loads/images/customer-csv.png\"></a></div>  \n",
    "\n",
    "Two issues might come up:  \n",
    "1. Our CSV has one more column than we modeled: it includes a _Subregion_ which we never accounted for in the data model  \n",
    "2. The CSV has a column called _PostCode_ instead of _PostalCode_  \n",
    "\n",
    "We could (and likely would) clean this data up before loading, but for the sake of exploring this, let's leave it and see what happens.  "
   ]
  },
  {
   "cell_type": "code",
   "execution_count": 10,
   "id": "a98105ca-25c2-4b2c-8635-60b101c2b4ea",
   "metadata": {},
   "outputs": [],
   "source": [
    "customers.load_csv(\n",
    "    \"s3://data.atoti.io/notebooks/table-creation-and-data-loads/data/Customers.csv\"\n",
    ")"
   ]
  },
  {
   "cell_type": "code",
   "execution_count": 11,
   "id": "c2cba3ab-1433-4f23-b2c9-2c050e35ad59",
   "metadata": {},
   "outputs": [
    {
     "data": {
      "text/html": [
       "<div>\n",
       "<style scoped>\n",
       "    .dataframe tbody tr th:only-of-type {\n",
       "        vertical-align: middle;\n",
       "    }\n",
       "\n",
       "    .dataframe tbody tr th {\n",
       "        vertical-align: top;\n",
       "    }\n",
       "\n",
       "    .dataframe thead th {\n",
       "        text-align: right;\n",
       "    }\n",
       "</style>\n",
       "<table border=\"1\" class=\"dataframe\">\n",
       "  <thead>\n",
       "    <tr style=\"text-align: right;\">\n",
       "      <th></th>\n",
       "      <th>CompanyName</th>\n",
       "      <th>Region</th>\n",
       "      <th>Country</th>\n",
       "      <th>Address</th>\n",
       "      <th>City</th>\n",
       "      <th>PostCode</th>\n",
       "      <th>Phone</th>\n",
       "    </tr>\n",
       "    <tr>\n",
       "      <th>CustomerId</th>\n",
       "      <th></th>\n",
       "      <th></th>\n",
       "      <th></th>\n",
       "      <th></th>\n",
       "      <th></th>\n",
       "      <th></th>\n",
       "      <th></th>\n",
       "    </tr>\n",
       "  </thead>\n",
       "  <tbody>\n",
       "    <tr>\n",
       "      <th>c3571</th>\n",
       "      <td>Bon app'</td>\n",
       "      <td>Europe</td>\n",
       "      <td>France</td>\n",
       "      <td>12, rue des Bouchers</td>\n",
       "      <td>Marseille</td>\n",
       "      <td>N/A</td>\n",
       "      <td>91.24.45.40</td>\n",
       "    </tr>\n",
       "    <tr>\n",
       "      <th>c4075</th>\n",
       "      <td>Drachenblut Delikatessen</td>\n",
       "      <td>Europe</td>\n",
       "      <td>Germany</td>\n",
       "      <td>Walserweg 21</td>\n",
       "      <td>Aachen</td>\n",
       "      <td>N/A</td>\n",
       "      <td>0241-039123</td>\n",
       "    </tr>\n",
       "    <tr>\n",
       "      <th>c4243</th>\n",
       "      <td>Galería del gastrónomo</td>\n",
       "      <td>Europe</td>\n",
       "      <td>Spain</td>\n",
       "      <td>Rambla de Cataluña, 23</td>\n",
       "      <td>Barcelona</td>\n",
       "      <td>N/A</td>\n",
       "      <td>(93) 203 4560</td>\n",
       "    </tr>\n",
       "    <tr>\n",
       "      <th>c5083</th>\n",
       "      <td>Laughing Bacchus Wine Cellars</td>\n",
       "      <td>Northern America</td>\n",
       "      <td>Canada</td>\n",
       "      <td>1900 Oak St.</td>\n",
       "      <td>Vancouver</td>\n",
       "      <td>N/A</td>\n",
       "      <td>(604) 555-3392</td>\n",
       "    </tr>\n",
       "    <tr>\n",
       "      <th>c5027</th>\n",
       "      <td>Lazy K Kountry Store</td>\n",
       "      <td>Northern America</td>\n",
       "      <td>United States</td>\n",
       "      <td>12 Orchestra Terrace</td>\n",
       "      <td>Walla Walla</td>\n",
       "      <td>N/A</td>\n",
       "      <td>(509) 555-7969</td>\n",
       "    </tr>\n",
       "  </tbody>\n",
       "</table>\n",
       "</div>"
      ],
      "text/plain": [
       "                              CompanyName            Region        Country  \\\n",
       "CustomerId                                                                   \n",
       "c3571                            Bon app'            Europe         France   \n",
       "c4075            Drachenblut Delikatessen            Europe        Germany   \n",
       "c4243              Galería del gastrónomo            Europe          Spain   \n",
       "c5083       Laughing Bacchus Wine Cellars  Northern America         Canada   \n",
       "c5027                Lazy K Kountry Store  Northern America  United States   \n",
       "\n",
       "                           Address         City PostCode           Phone  \n",
       "CustomerId                                                                \n",
       "c3571         12, rue des Bouchers    Marseille      N/A     91.24.45.40  \n",
       "c4075                 Walserweg 21       Aachen      N/A     0241-039123  \n",
       "c4243       Rambla de Cataluña, 23    Barcelona      N/A   (93) 203 4560  \n",
       "c5083                 1900 Oak St.    Vancouver      N/A  (604) 555-3392  \n",
       "c5027         12 Orchestra Terrace  Walla Walla      N/A  (509) 555-7969  "
      ]
     },
     "execution_count": 11,
     "metadata": {},
     "output_type": "execute_result"
    }
   ],
   "source": [
    "customers.head()"
   ]
  },
  {
   "cell_type": "markdown",
   "id": "4b7d36e0-cb12-48e7-9a7a-81bd1a166da0",
   "metadata": {},
   "source": [
    "So, what happened with our two potential issues?  \n",
    "\n",
    "Nothing happened with the \"extra\" column from our underlying data. Phew!  \n",
    "For PostCode, it didn't get populated. This is not surprising. How would it know which column of data to use?"
   ]
  },
  {
   "cell_type": "markdown",
   "id": "308aa405-9bfa-46fe-a47c-efc024a54a44",
   "metadata": {},
   "source": [
    "#### Mapping data\n",
    "\n",
    "Our underlying data may not have the same data model as what we set up when we create our tables. We can fix that by explicitly defining how we want our columns to map when we load our data. This is incredibly useful if our underlying data and our data model have different naming conventions."
   ]
  },
  {
   "cell_type": "code",
   "execution_count": 12,
   "id": "cc209bcd-1d8d-4c63-a114-28ae658e87b7",
   "metadata": {},
   "outputs": [],
   "source": [
    "customers.load_csv(\n",
    "    \"s3://data.atoti.io/notebooks/table-creation-and-data-loads/data/Customers.csv\",\n",
    "    columns={\n",
    "        \"CustomerId\": \"CustomerId\",\n",
    "        \"CompanyName\": \"CompanyName\",\n",
    "        \"Address\": \"Address\",\n",
    "        \"City\": \"City\",\n",
    "        \"PostalCode\": \"PostCode\",\n",
    "        \"Region\": \"Region\",\n",
    "        \"Country\": \"Country\",\n",
    "        \"Phone\": \"Phone\",\n",
    "    },\n",
    ")"
   ]
  },
  {
   "cell_type": "code",
   "execution_count": 13,
   "id": "d2667402-e52d-4db7-8839-ac91431730a7",
   "metadata": {},
   "outputs": [
    {
     "data": {
      "text/html": [
       "<div>\n",
       "<style scoped>\n",
       "    .dataframe tbody tr th:only-of-type {\n",
       "        vertical-align: middle;\n",
       "    }\n",
       "\n",
       "    .dataframe tbody tr th {\n",
       "        vertical-align: top;\n",
       "    }\n",
       "\n",
       "    .dataframe thead th {\n",
       "        text-align: right;\n",
       "    }\n",
       "</style>\n",
       "<table border=\"1\" class=\"dataframe\">\n",
       "  <thead>\n",
       "    <tr style=\"text-align: right;\">\n",
       "      <th></th>\n",
       "      <th>CompanyName</th>\n",
       "      <th>Region</th>\n",
       "      <th>Country</th>\n",
       "      <th>Address</th>\n",
       "      <th>City</th>\n",
       "      <th>PostCode</th>\n",
       "      <th>Phone</th>\n",
       "    </tr>\n",
       "    <tr>\n",
       "      <th>CustomerId</th>\n",
       "      <th></th>\n",
       "      <th></th>\n",
       "      <th></th>\n",
       "      <th></th>\n",
       "      <th></th>\n",
       "      <th></th>\n",
       "      <th></th>\n",
       "    </tr>\n",
       "  </thead>\n",
       "  <tbody>\n",
       "    <tr>\n",
       "      <th>c3571</th>\n",
       "      <td>Bon app'</td>\n",
       "      <td>Europe</td>\n",
       "      <td>France</td>\n",
       "      <td>12, rue des Bouchers</td>\n",
       "      <td>Marseille</td>\n",
       "      <td>13008</td>\n",
       "      <td>91.24.45.40</td>\n",
       "    </tr>\n",
       "    <tr>\n",
       "      <th>c4075</th>\n",
       "      <td>Drachenblut Delikatessen</td>\n",
       "      <td>Europe</td>\n",
       "      <td>Germany</td>\n",
       "      <td>Walserweg 21</td>\n",
       "      <td>Aachen</td>\n",
       "      <td>52066</td>\n",
       "      <td>0241-039123</td>\n",
       "    </tr>\n",
       "    <tr>\n",
       "      <th>c4243</th>\n",
       "      <td>Galería del gastrónomo</td>\n",
       "      <td>Europe</td>\n",
       "      <td>Spain</td>\n",
       "      <td>Rambla de Cataluña, 23</td>\n",
       "      <td>Barcelona</td>\n",
       "      <td>8022</td>\n",
       "      <td>(93) 203 4560</td>\n",
       "    </tr>\n",
       "    <tr>\n",
       "      <th>c5083</th>\n",
       "      <td>Laughing Bacchus Wine Cellars</td>\n",
       "      <td>Northern America</td>\n",
       "      <td>Canada</td>\n",
       "      <td>1900 Oak St.</td>\n",
       "      <td>Vancouver</td>\n",
       "      <td>V3F 2K1</td>\n",
       "      <td>(604) 555-3392</td>\n",
       "    </tr>\n",
       "    <tr>\n",
       "      <th>c5027</th>\n",
       "      <td>Lazy K Kountry Store</td>\n",
       "      <td>Northern America</td>\n",
       "      <td>United States</td>\n",
       "      <td>12 Orchestra Terrace</td>\n",
       "      <td>Walla Walla</td>\n",
       "      <td>99362</td>\n",
       "      <td>(509) 555-7969</td>\n",
       "    </tr>\n",
       "    <tr>\n",
       "      <th>c3795</th>\n",
       "      <td>Familia Arquibaldo</td>\n",
       "      <td>Latin America</td>\n",
       "      <td>Brazil</td>\n",
       "      <td>Rua Orós, 92</td>\n",
       "      <td>Sao Paulo</td>\n",
       "      <td>05442-030</td>\n",
       "      <td>(11) 555-9857</td>\n",
       "    </tr>\n",
       "    <tr>\n",
       "      <th>c3851</th>\n",
       "      <td>La maison d'Asie</td>\n",
       "      <td>Europe</td>\n",
       "      <td>France</td>\n",
       "      <td>1 rue Alsace-Lorraine</td>\n",
       "      <td>Toulouse</td>\n",
       "      <td>31000</td>\n",
       "      <td>61.77.61.10</td>\n",
       "    </tr>\n",
       "  </tbody>\n",
       "</table>\n",
       "</div>"
      ],
      "text/plain": [
       "                              CompanyName            Region        Country  \\\n",
       "CustomerId                                                                   \n",
       "c3571                            Bon app'            Europe         France   \n",
       "c4075            Drachenblut Delikatessen            Europe        Germany   \n",
       "c4243              Galería del gastrónomo            Europe          Spain   \n",
       "c5083       Laughing Bacchus Wine Cellars  Northern America         Canada   \n",
       "c5027                Lazy K Kountry Store  Northern America  United States   \n",
       "c3795                  Familia Arquibaldo     Latin America         Brazil   \n",
       "c3851                    La maison d'Asie            Europe         France   \n",
       "\n",
       "                           Address         City   PostCode           Phone  \n",
       "CustomerId                                                                  \n",
       "c3571         12, rue des Bouchers    Marseille      13008     91.24.45.40  \n",
       "c4075                 Walserweg 21       Aachen      52066     0241-039123  \n",
       "c4243       Rambla de Cataluña, 23    Barcelona       8022   (93) 203 4560  \n",
       "c5083                 1900 Oak St.    Vancouver    V3F 2K1  (604) 555-3392  \n",
       "c5027         12 Orchestra Terrace  Walla Walla      99362  (509) 555-7969  \n",
       "c3795                 Rua Orós, 92    Sao Paulo  05442-030   (11) 555-9857  \n",
       "c3851        1 rue Alsace-Lorraine     Toulouse      31000     61.77.61.10  "
      ]
     },
     "execution_count": 13,
     "metadata": {},
     "output_type": "execute_result"
    }
   ],
   "source": [
    "customers.head(7)"
   ]
  },
  {
   "cell_type": "markdown",
   "id": "af5d4cb5-6304-4f7c-ad2b-74a5936c5807",
   "metadata": {},
   "source": [
    "🗒️ Our data load *updated* our existing rows instead of creating new ones. It knew which rows to update based on our key setup."
   ]
  },
  {
   "cell_type": "markdown",
   "id": "67a32ddc-b4d2-49a1-8157-bba5068a6e1d",
   "metadata": {},
   "source": [
    "Similarly, we can load in data from a dataframe, even if the dataframe has more columns. For example, the below dataframe has EmployeeRegion data that we did not account for."
   ]
  },
  {
   "cell_type": "code",
   "execution_count": 14,
   "id": "c1c67fb7-5290-4989-826c-db1c48fb21ad",
   "metadata": {},
   "outputs": [],
   "source": [
    "employees_df = pandas.DataFrame(\n",
    "    data={\n",
    "        \"EmployeeId\": [\n",
    "            \"12344\",\n",
    "            \"12695\",\n",
    "            \"18336\",\n",
    "            \"18379\",\n",
    "            \"18422\",\n",
    "            \"18465\",\n",
    "            \"18508\",\n",
    "            \"18551\",\n",
    "            \"18594\",\n",
    "            \"18637\",\n",
    "            \"18680\",\n",
    "            \"26584\",\n",
    "            \"63528\",\n",
    "            \"98635\",\n",
    "        ],\n",
    "        \"EmployeeName\": [\n",
    "            \"Paul Henry\",\n",
    "            \"Louis Philippe\",\n",
    "            \"Steven Buchanan\",\n",
    "            \"Michael Suyama\",\n",
    "            \"Margaret Peacock\",\n",
    "            \"Joan Jet\",\n",
    "            \"Anne Dodsworth\",\n",
    "            \"Nancy Davolio\",\n",
    "            \"Laura Callahan\",\n",
    "            \"Andrew Fuller\",\n",
    "            \"Robert King\",\n",
    "            \"Eric Jeannot\",\n",
    "            \"Sean Tan\",\n",
    "            \"Shannon Lim\",\n",
    "        ],\n",
    "        \"EmployeeCity\": [\n",
    "            \"Paris\",\n",
    "            \"Lyon\",\n",
    "            \"London\",\n",
    "            \"London\",\n",
    "            \"Redmond\",\n",
    "            \"Kirkland\",\n",
    "            \"London\",\n",
    "            \"Seattle\",\n",
    "            \"Seattle\",\n",
    "            \"Tacoma\",\n",
    "            \"London\",\n",
    "            \"Paris\",\n",
    "            \"Singapore\",\n",
    "            \"Singapore\",\n",
    "        ],\n",
    "        \"EmployeeCountry\": [\n",
    "            \"FR\",\n",
    "            \"FR\",\n",
    "            \"UK\",\n",
    "            \"UK\",\n",
    "            \"USA\",\n",
    "            \"USA\",\n",
    "            \"UK\",\n",
    "            \"USA\",\n",
    "            \"USA\",\n",
    "            \"USA\",\n",
    "            \"UK\",\n",
    "            \"FR\",\n",
    "            \"SG\",\n",
    "            \"SG\",\n",
    "        ],\n",
    "        \"EmployeeRegion\": [\n",
    "            \"EMEA\",\n",
    "            \"EMEA\",\n",
    "            \"EMEA\",\n",
    "            \"EMEA\",\n",
    "            \"AMERICAS\",\n",
    "            \"AMERICAS\",\n",
    "            \"EMEA\",\n",
    "            \"AMERICAS\",\n",
    "            \"AMERICAS\",\n",
    "            \"AMERICAS\",\n",
    "            \"EMEA\",\n",
    "            \"EMEA\",\n",
    "            \"ASIA\",\n",
    "            \"ASIA\",\n",
    "        ],\n",
    "    },\n",
    ")"
   ]
  },
  {
   "cell_type": "code",
   "execution_count": 15,
   "id": "978eb2c5-beaf-41dd-a5a9-9ce08e7e85b0",
   "metadata": {},
   "outputs": [
    {
     "data": {
      "text/html": [
       "<div>\n",
       "<style scoped>\n",
       "    .dataframe tbody tr th:only-of-type {\n",
       "        vertical-align: middle;\n",
       "    }\n",
       "\n",
       "    .dataframe tbody tr th {\n",
       "        vertical-align: top;\n",
       "    }\n",
       "\n",
       "    .dataframe thead th {\n",
       "        text-align: right;\n",
       "    }\n",
       "</style>\n",
       "<table border=\"1\" class=\"dataframe\">\n",
       "  <thead>\n",
       "    <tr style=\"text-align: right;\">\n",
       "      <th></th>\n",
       "      <th>EmployeeId</th>\n",
       "      <th>EmployeeName</th>\n",
       "      <th>EmployeeCity</th>\n",
       "      <th>EmployeeCountry</th>\n",
       "      <th>EmployeeRegion</th>\n",
       "    </tr>\n",
       "  </thead>\n",
       "  <tbody>\n",
       "    <tr>\n",
       "      <th>0</th>\n",
       "      <td>12344</td>\n",
       "      <td>Paul Henry</td>\n",
       "      <td>Paris</td>\n",
       "      <td>FR</td>\n",
       "      <td>EMEA</td>\n",
       "    </tr>\n",
       "    <tr>\n",
       "      <th>1</th>\n",
       "      <td>12695</td>\n",
       "      <td>Louis Philippe</td>\n",
       "      <td>Lyon</td>\n",
       "      <td>FR</td>\n",
       "      <td>EMEA</td>\n",
       "    </tr>\n",
       "    <tr>\n",
       "      <th>2</th>\n",
       "      <td>18336</td>\n",
       "      <td>Steven Buchanan</td>\n",
       "      <td>London</td>\n",
       "      <td>UK</td>\n",
       "      <td>EMEA</td>\n",
       "    </tr>\n",
       "    <tr>\n",
       "      <th>3</th>\n",
       "      <td>18379</td>\n",
       "      <td>Michael Suyama</td>\n",
       "      <td>London</td>\n",
       "      <td>UK</td>\n",
       "      <td>EMEA</td>\n",
       "    </tr>\n",
       "    <tr>\n",
       "      <th>4</th>\n",
       "      <td>18422</td>\n",
       "      <td>Margaret Peacock</td>\n",
       "      <td>Redmond</td>\n",
       "      <td>USA</td>\n",
       "      <td>AMERICAS</td>\n",
       "    </tr>\n",
       "    <tr>\n",
       "      <th>5</th>\n",
       "      <td>18465</td>\n",
       "      <td>Joan Jet</td>\n",
       "      <td>Kirkland</td>\n",
       "      <td>USA</td>\n",
       "      <td>AMERICAS</td>\n",
       "    </tr>\n",
       "    <tr>\n",
       "      <th>6</th>\n",
       "      <td>18508</td>\n",
       "      <td>Anne Dodsworth</td>\n",
       "      <td>London</td>\n",
       "      <td>UK</td>\n",
       "      <td>EMEA</td>\n",
       "    </tr>\n",
       "  </tbody>\n",
       "</table>\n",
       "</div>"
      ],
      "text/plain": [
       "  EmployeeId      EmployeeName EmployeeCity EmployeeCountry EmployeeRegion\n",
       "0      12344        Paul Henry        Paris              FR           EMEA\n",
       "1      12695    Louis Philippe         Lyon              FR           EMEA\n",
       "2      18336   Steven Buchanan       London              UK           EMEA\n",
       "3      18379    Michael Suyama       London              UK           EMEA\n",
       "4      18422  Margaret Peacock      Redmond             USA       AMERICAS\n",
       "5      18465          Joan Jet     Kirkland             USA       AMERICAS\n",
       "6      18508    Anne Dodsworth       London              UK           EMEA"
      ]
     },
     "execution_count": 15,
     "metadata": {},
     "output_type": "execute_result"
    }
   ],
   "source": [
    "employees_df.head(7)"
   ]
  },
  {
   "cell_type": "code",
   "execution_count": 16,
   "id": "7e4d7a3c-6187-4a83-b51c-2d7f694fa311",
   "metadata": {},
   "outputs": [],
   "source": [
    "employees.load_pandas(employees_df)"
   ]
  },
  {
   "cell_type": "markdown",
   "id": "00cf273a-0238-4ed6-8214-d695eac5b1fd",
   "metadata": {},
   "source": [
    "🗒️ We do not have the ability to define a mapping between our dataframe and our table columns when working with `load_pandas`."
   ]
  },
  {
   "cell_type": "code",
   "execution_count": 17,
   "id": "0faa65a5-55b5-4bc6-bb73-d0a0f70ca43e",
   "metadata": {},
   "outputs": [
    {
     "data": {
      "text/html": [
       "<div>\n",
       "<style scoped>\n",
       "    .dataframe tbody tr th:only-of-type {\n",
       "        vertical-align: middle;\n",
       "    }\n",
       "\n",
       "    .dataframe tbody tr th {\n",
       "        vertical-align: top;\n",
       "    }\n",
       "\n",
       "    .dataframe thead th {\n",
       "        text-align: right;\n",
       "    }\n",
       "</style>\n",
       "<table border=\"1\" class=\"dataframe\">\n",
       "  <thead>\n",
       "    <tr style=\"text-align: right;\">\n",
       "      <th></th>\n",
       "      <th>EmployeeName</th>\n",
       "      <th>EmployeeCountry</th>\n",
       "      <th>EmployeeCity</th>\n",
       "    </tr>\n",
       "    <tr>\n",
       "      <th>EmployeeId</th>\n",
       "      <th></th>\n",
       "      <th></th>\n",
       "      <th></th>\n",
       "    </tr>\n",
       "  </thead>\n",
       "  <tbody>\n",
       "    <tr>\n",
       "      <th>63528</th>\n",
       "      <td>Sean Tan</td>\n",
       "      <td>SG</td>\n",
       "      <td>Singapore</td>\n",
       "    </tr>\n",
       "    <tr>\n",
       "      <th>98635</th>\n",
       "      <td>Shannon Lim</td>\n",
       "      <td>SG</td>\n",
       "      <td>Singapore</td>\n",
       "    </tr>\n",
       "    <tr>\n",
       "      <th>12344</th>\n",
       "      <td>Paul Henry</td>\n",
       "      <td>FR</td>\n",
       "      <td>Paris</td>\n",
       "    </tr>\n",
       "    <tr>\n",
       "      <th>12695</th>\n",
       "      <td>Louis Philippe</td>\n",
       "      <td>FR</td>\n",
       "      <td>Lyon</td>\n",
       "    </tr>\n",
       "    <tr>\n",
       "      <th>18336</th>\n",
       "      <td>Steven Buchanan</td>\n",
       "      <td>UK</td>\n",
       "      <td>London</td>\n",
       "    </tr>\n",
       "  </tbody>\n",
       "</table>\n",
       "</div>"
      ],
      "text/plain": [
       "               EmployeeName EmployeeCountry EmployeeCity\n",
       "EmployeeId                                              \n",
       "63528              Sean Tan              SG    Singapore\n",
       "98635           Shannon Lim              SG    Singapore\n",
       "12344            Paul Henry              FR        Paris\n",
       "12695        Louis Philippe              FR         Lyon\n",
       "18336       Steven Buchanan              UK       London"
      ]
     },
     "execution_count": 17,
     "metadata": {},
     "output_type": "execute_result"
    }
   ],
   "source": [
    "employees.head()"
   ]
  },
  {
   "cell_type": "markdown",
   "id": "edc06873-a145-461a-8cd0-606d897a6578",
   "metadata": {},
   "source": [
    "#### Loading additional data\n",
    "\n",
    "Atoti supports incremental data loading, both for tables created via `read_*` and those created via `create_table()`.\n",
    "\n",
    "For example, order data is likely going to evolve regularly. It would be nice to be able to keep enriching our order table with new information. Let's create a dataframe with new order data."
   ]
  },
  {
   "cell_type": "code",
   "execution_count": 18,
   "id": "01e57f32-4ab6-4f46-be70-8362e4778a3f",
   "metadata": {},
   "outputs": [],
   "source": [
    "order_df = pandas.DataFrame(\n",
    "    data={\n",
    "        \"OrderId\": [\n",
    "            \"105689\",\n",
    "            \"105689\",\n",
    "        ],\n",
    "        \"OrderDate\": [\n",
    "            \"20/2/2019\",\n",
    "            \"20/2/2019\",\n",
    "        ],\n",
    "        \"QuantitySold\": [\n",
    "            512,\n",
    "            928,\n",
    "        ],\n",
    "        \"SellingPricePerUnit\": [\n",
    "            34.16,\n",
    "            52.89,\n",
    "        ],\n",
    "        \"ShipperName\": [\n",
    "            \"Speedy Express\",\n",
    "            \"Rapid Post\",\n",
    "        ],\n",
    "        \"ProductId\": [\n",
    "            \"1202\",\n",
    "            \"708\",\n",
    "        ],\n",
    "        \"EmployeeId\": [\n",
    "            \"18508\",\n",
    "            \"18422\",\n",
    "        ],\n",
    "        \"CustomerId\": [\n",
    "            \"c2003\",\n",
    "            \"c2003\",\n",
    "        ],\n",
    "    },\n",
    ")"
   ]
  },
  {
   "cell_type": "markdown",
   "id": "294b3b75-50ad-4e69-9c29-b9c32023fa46",
   "metadata": {},
   "source": [
    "🗒️ We ensure our column names match when loading data from a dataframe."
   ]
  },
  {
   "cell_type": "code",
   "execution_count": 19,
   "id": "82f66fbb-f0f8-4ab0-8480-a5e329007195",
   "metadata": {},
   "outputs": [],
   "source": [
    "orders.load_pandas(order_df)"
   ]
  },
  {
   "cell_type": "markdown",
   "id": "417511ed-bbfd-4194-995f-82b21bf959b3",
   "metadata": {},
   "source": [
    "## Bonus: Joining tables\n",
    "\n",
    "We've created these tables, it seems a shame to leave them all by themselves.\n",
    "\n",
    "At any point after we created our tables, ***even before we've loaded any data in them***, we can join our tables. In our example, our order table is our most granular, and makes sense to use as our base table. Let's join our product table to our order table, using the _ProductId_ as our join."
   ]
  },
  {
   "cell_type": "code",
   "execution_count": 20,
   "id": "784f7f3e-c243-4b17-ae32-e66b7af641d2",
   "metadata": {},
   "outputs": [],
   "source": [
    "orders.join(products, orders[\"ProductId\"] == products[\"ProductId\"])"
   ]
  },
  {
   "cell_type": "markdown",
   "id": "b044a038-9b0f-4631-beac-c4b2c36d1bbf",
   "metadata": {},
   "source": [
    "Let's see what this did. We can use the schema property of our tables to view."
   ]
  },
  {
   "cell_type": "code",
   "execution_count": 21,
   "id": "82898562-d718-4119-a8f9-90efd488eada",
   "metadata": {},
   "outputs": [
    {
     "data": {
      "image/png": "[encoded data removed]",
      "text/plain": [
       "erDiagram\n",
       "  \"Orders\" {\n",
       "    _ String PK \"OrderId\"\n",
       "    _ String \"OrderDate\"\n",
       "    nullable int \"QuantitySold\"\n",
       "    nullable double \"SellingPricePerUnit\"\n",
       "    _ String \"ShipperName\"\n",
       "    _ String \"ProductId\"\n",
       "    _ String \"EmployeeId\"\n",
       "    _ String \"CustomerId\"\n",
       "  }\n",
       "  \"Products\" {\n",
       "    _ String \"ProductId\"\n",
       "    _ String \"ProductName\"\n",
       "    _ String \"ProductCategory\"\n",
       "    _ String \"Supplier\"\n",
       "    nullable double \"PurchasingPricePerUnit\"\n",
       "  }\n",
       "  \"ShipperContact\" {\n",
       "    _ String \"ShipperName\"\n",
       "    _ String \"Contact\"\n",
       "  }\n",
       "  \"customers\" {\n",
       "    _ String PK \"CustomerId\"\n",
       "    _ String \"CompanyName\"\n",
       "    _ String \"Region\"\n",
       "    _ String \"Country\"\n",
       "    _ String \"Address\"\n",
       "    _ String \"City\"\n",
       "    _ String \"PostCode\"\n",
       "    _ String \"Phone\"\n",
       "  }\n",
       "  \"employees\" {\n",
       "    _ String PK \"EmployeeId\"\n",
       "    _ String \"EmployeeName\"\n",
       "    _ String \"EmployeeCountry\"\n",
       "    _ String \"EmployeeCity\"\n",
       "  }\n",
       "  \"Orders\" }o--o| \"Products\" : \"`ProductId` == `ProductId`\""
      ]
     },
     "execution_count": 21,
     "metadata": {},
     "output_type": "execute_result"
    }
   ],
   "source": [
    "session.tables.schema"
   ]
  },
  {
   "cell_type": "markdown",
   "id": "1981edf2-c0c8-495d-bf41-5e684c09de4f",
   "metadata": {},
   "source": [
    "Do we need to define our mapping? Let's try joining the employee and customer tables to orders, without specifying how."
   ]
  },
  {
   "cell_type": "code",
   "execution_count": 22,
   "id": "c7d6ca13-4ea6-4dba-bef8-3d672f66dd60",
   "metadata": {},
   "outputs": [],
   "source": [
    "orders.join(employees)\n",
    "orders.join(customers)"
   ]
  },
  {
   "cell_type": "markdown",
   "id": "e5ce1326-74df-4231-a1b5-fe4cae52bcd6",
   "metadata": {},
   "source": [
    "And now our schema looks like:"
   ]
  },
  {
   "cell_type": "code",
   "execution_count": null,
   "id": "2c386df0-6359-450b-b535-14123050255d",
   "metadata": {},
   "outputs": [],
   "source": [
    "session.tables.schema"
   ]
  },
  {
   "cell_type": "markdown",
   "id": "5d241e0e-e988-4d68-8e01-5fe4803037f6",
   "metadata": {},
   "source": [
    "And why did we spend so much time on those keys?\n",
    "\n",
    "Try uncommenting and running the below cell ..."
   ]
  },
  {
   "cell_type": "code",
   "execution_count": null,
   "id": "ad560ecd-13f4-439a-bed6-027bbda748dd",
   "metadata": {},
   "outputs": [],
   "source": [
    "# orders.join(shipperContact)"
   ]
  },
  {
   "cell_type": "markdown",
   "id": "6fa8a8aa-89eb-47c9-8de5-c829fa5109b0",
   "metadata": {},
   "source": [
    "... and you'll get the following error.  \n",
    "\n",
    "<img src=\"https://s3.eu-west-3.amazonaws.com/data.atoti.io/notebooks/table-creation-and-data-loads/images/no-keys.png\"></a></div>  \n",
    "\n",
    "Yikes. We get that yuckiness because we never set up any keys for _shipperContact_.  \n",
    "\n",
    "When inferring how to join tables, Atoti looks for matched column names among the defined keys. We can still join these tables, we'll just have to set the mapping to do so."
   ]
  },
  {
   "cell_type": "code",
   "execution_count": null,
   "id": "bc44c60d-66c2-40ad-b809-17d17e89c9ac",
   "metadata": {},
   "outputs": [],
   "source": [
    "orders.join(shipperContact, orders[\"ShipperName\"] == shipperContact[\"ShipperName\"])"
   ]
  },
  {
   "cell_type": "markdown",
   "id": "cb126356-d184-4a37-9c77-f5bfd9e7bf0c",
   "metadata": {},
   "source": [
    "And voila, our data modeling is complete!"
   ]
  },
  {
   "cell_type": "code",
   "execution_count": null,
   "id": "a8a5cdd4-30af-4451-b2c6-19986a06dd02",
   "metadata": {},
   "outputs": [],
   "source": [
    "session.tables.schema"
   ]
  },
  {
   "cell_type": "markdown",
   "id": "920392f0-1ec8-46ad-8a86-8ee2964bbae9",
   "metadata": {},
   "source": [
    "We hope this guide helps you with your table creation and data loading needs.\n",
    "Want to explore more data? Check out our other guides here on our GitHub repository: [github.com/atoti/atoti/tree/main/02-technical-guides](https://github.com/atoti/atoti/tree/main/02-technical-guides) or read our guides on our website: [atoti.io/articles](https://www.atoti.io/articles/)"
   ]
  },
  {
   "cell_type": "markdown",
   "id": "c71f02bb-2a7a-4dfb-8c42-47e0b157b9c2",
   "metadata": {},
   "source": [
    "<div style=\"text-align: center;\" ><a href=\"https://www.atoti.io/?utm_source=gallery&utm_content=table-creation-and-data-loads\" target=\"_blank\" rel=\"noopener noreferrer\"><img src=\"https://data.atoti.io/notebooks/banners/Your-turn-to-try-Atoti.jpg\" alt=\"Try Atoti\"></a></div>"
   ]
  }
 ],
 "metadata": {
  "kernelspec": {
   "display_name": "Python 3 (ipykernel)",
   "language": "python",
   "name": "python3"
  },
  "language_info": {
   "codemirror_mode": {
    "name": "ipython",
    "version": 3
   },
   "file_extension": ".py",
   "mimetype": "text/x-python",
   "name": "python",
   "nbconvert_exporter": "python",
   "pygments_lexer": "ipython3",
   "version": "3.10.13"
  },
  "widgets": {
   "application/vnd.jupyter.widget-state+json": {
    "state": {},
    "version_major": 2,
    "version_minor": 0
   }
  }
 },
 "nbformat": 4,
 "nbformat_minor": 5
}
