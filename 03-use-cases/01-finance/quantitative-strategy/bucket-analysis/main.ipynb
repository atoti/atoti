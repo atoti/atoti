{
 "cells": [
  {
   "cell_type": "markdown",
   "id": "da000db9-4b35-4a46-853b-9e0fbcc0f474",
   "metadata": {},
   "source": [
    "# Discovering Trends With Bucketing\n",
    "\n",
    "Last tested version: <img src=\"https://img.shields.io/badge/Atoti-v0.9.0-blue\">\n",
    "   \n",
    "This notebook shows how we can quickly and easily explore the results of different trading strategies in Atoti. We will see how we can break down the trends by slicing the data with different bucketing criteria."
   ]
  },
  {
   "cell_type": "markdown",
   "id": "43849e6d-ee8b-44cd-ac54-b39cf8783fe1",
   "metadata": {},
   "source": [
    "<div style=\"text-align: center;\" ><a href=\"https://www.atoti.io/?utm_source=gallery&utm_content=bucket-analysis\" target=\"_blank\" rel=\"noopener noreferrer\"><img src=\"https://data.atoti.io/notebooks/banners/Discover-Atoti-now.png\" alt=\"Try atoti\"></a></div>"
   ]
  },
  {
   "cell_type": "markdown",
   "id": "32559e66-75ab-4d1c-ac39-25ef9f3b64ca",
   "metadata": {},
   "source": [
    "## 1. Import Libraries"
   ]
  },
  {
   "cell_type": "code",
   "execution_count": 1,
   "id": "fdb5fd4f-8e57-4f92-b00c-dc7b4755289a",
   "metadata": {},
   "outputs": [],
   "source": [
    "import atoti as tt\n",
    "import ipywidgets as widgets\n",
    "from IPython.display import SVG, Markdown\n",
    "from utils import data_model"
   ]
  },
  {
   "cell_type": "markdown",
   "id": "4ca8c876-e601-4903-8cf6-6037782d3e83",
   "metadata": {},
   "source": [
    "## 2. Setting Up the Atoti Cube"
   ]
  },
  {
   "cell_type": "markdown",
   "id": "bdc49298-4e4b-416a-b398-bb274a54954d",
   "metadata": {},
   "source": [
    "### 2.1. Instantiate the Atoti session\n",
    "\n",
    "When working with Atoti, we always start by instantiating an [Atoti Session](https://docs.atoti.io/latest/api/atoti.Session.html#atoti.Session). While we can explore data interactively in JupyterLab with Atoti, it's great to put together dashboards that allow us to systematically analyze the data. Therefore, we configure `user_content_storage` to persist any dashboards that we create in the session.\n",
    "\n",
    "In addition, we can set control for [memory usage](https://docs.atoti.io/latest/deployment/deployment_setup.html#java-options) of the application via the `java_options` parameter."
   ]
  },
  {
   "cell_type": "code",
   "execution_count": 2,
   "id": "c3adfab7-1c2e-44bb-b044-388c1a125f8e",
   "metadata": {
    "tags": []
   },
   "outputs": [
    {
     "ename": "RuntimeError",
     "evalue": "An error occurred while starting the session:\nAn error occurred while calling t.startServer.\n: org.springframework.context.ApplicationContextException: Failed to start bean 'webServerStartStop'\n\tat org.springframework.context.support.DefaultLifecycleProcessor.doStart(DefaultLifecycleProcessor.java:288)\n\tat org.springframework.context.support.DefaultLifecycleProcessor$LifecycleGroup.start(DefaultLifecycleProcessor.java:472)\n\tat java.base/java.lang.Iterable.forEach(Unknown Source)\n\tat org.springframework.context.support.DefaultLifecycleProcessor.startBeans(DefaultLifecycleProcessor.java:257)\n\tat org.springframework.context.support.DefaultLifecycleProcessor.onRefresh(DefaultLifecycleProcessor.java:202)\n\tat org.springframework.context.support.AbstractApplicationContext.finishRefresh(AbstractApplicationContext.java:990)\n\tat org.springframework.context.support.AbstractApplicationContext.refresh(AbstractApplicationContext.java:628)\n\tat org.springframework.boot.web.servlet.context.ServletWebServerApplicationContext.refresh(ServletWebServerApplicationContext.java:146)\n\tat org.springframework.boot.SpringApplication.refresh(SpringApplication.java:754)\n\tat org.springframework.boot.SpringApplication.refreshContext(SpringApplication.java:456)\n\tat org.springframework.boot.SpringApplication.run(SpringApplication.java:335)\n\tat org.springframework.boot.builder.SpringApplicationBuilder.run(SpringApplicationBuilder.java:149)\n\tat io.atoti.server.common.private_.impl.AtotiApplication.startSpringApplication(AtotiApplication.java:134)\n\tat io.atoti.server.common.private_.impl.AtotiApplication.startApplication(AtotiApplication.java:60)\n\tat io.atoti.server.base.private_.session.SessionImpl.startServer(SessionImpl.java:204)\n\tat java.base/jdk.internal.reflect.DirectMethodHandleAccessor.invoke(Unknown Source)\n\tat java.base/java.lang.reflect.Method.invoke(Unknown Source)\n\tat py4j.reflection.MethodInvoker.invoke(MethodInvoker.java:244)\n\tat py4j.reflection.ReflectionEngine.invoke(ReflectionEngine.java:357)\n\tat py4j.Gateway.invoke(Gateway.java:282)\n\tat py4j.commands.AbstractCommand.invokeMethod(AbstractCommand.java:132)\n\tat py4j.commands.CallCommand.execute(CallCommand.java:79)\n\tat py4j.ClientServerConnection.waitForCommands(ClientServerConnection.java:182)\n\tat py4j.ClientServerConnection.run(ClientServerConnection.java:106)\n\tat java.base/java.lang.Thread.run(Unknown Source)\nCaused by: org.springframework.boot.web.server.PortInUseException: Port 9092 is already in use\n\tat org.springframework.boot.web.server.PortInUseException.lambda$throwIfPortBindingException$0(PortInUseException.java:70)\n\tat org.springframework.boot.web.server.PortInUseException.lambda$ifPortBindingException$1(PortInUseException.java:85)\n\tat org.springframework.boot.web.server.PortInUseException.ifCausedBy(PortInUseException.java:103)\n\tat org.springframework.boot.web.server.PortInUseException.ifPortBindingException(PortInUseException.java:82)\n\tat org.springframework.boot.web.server.PortInUseException.throwIfPortBindingException(PortInUseException.java:69)\n\tat org.springframework.boot.web.embedded.tomcat.TomcatWebServer.start(TomcatWebServer.java:248)\n\tat org.springframework.boot.web.servlet.context.WebServerStartStopLifecycle.start(WebServerStartStopLifecycle.java:44)\n\tat org.springframework.context.support.DefaultLifecycleProcessor.doStart(DefaultLifecycleProcessor.java:285)\n\t... 24 more\nCaused by: java.lang.IllegalArgumentException: standardService.connector.startFailed\n\tat org.apache.catalina.core.StandardService.addConnector(StandardService.java:222)\n\tat org.springframework.boot.web.embedded.tomcat.TomcatWebServer.addPreviouslyRemovedConnectors(TomcatWebServer.java:306)\n\tat org.springframework.boot.web.embedded.tomcat.TomcatWebServer.start(TomcatWebServer.java:234)\n\t... 26 more\nCaused by: org.apache.catalina.LifecycleException: Protocol handler start failed\n\tat org.apache.catalina.connector.Connector.startInternal(Connector.java:1061)\n\tat org.apache.catalina.util.LifecycleBase.start(LifecycleBase.java:164)\n\tat org.apache.catalina.core.StandardService.addConnector(StandardService.java:219)\n\t... 28 more\nCaused by: java.net.BindException: Address already in use\n\tat java.base/sun.nio.ch.Net.bind0(Native Method)\n\tat java.base/sun.nio.ch.Net.bind(Unknown Source)\n\tat java.base/sun.nio.ch.ServerSocketChannelImpl.netBind(Unknown Source)\n\tat java.base/sun.nio.ch.ServerSocketChannelImpl.bind(Unknown Source)\n\tat org.apache.tomcat.util.net.NioEndpoint.initServerSocket(NioEndpoint.java:239)\n\tat org.apache.tomcat.util.net.NioEndpoint.bind(NioEndpoint.java:194)\n\tat org.apache.tomcat.util.net.AbstractEndpoint.bindWithCleanup(AbstractEndpoint.java:1304)\n\tat org.apache.tomcat.util.net.AbstractEndpoint.start(AbstractEndpoint.java:1390)\n\tat org.apache.coyote.AbstractProtocol.start(AbstractProtocol.java:644)\n\tat org.apache.catalina.connector.Connector.startInternal(Connector.java:1058)\n\t... 30 more\n",
     "output_type": "error",
     "traceback": [
      "\u001b[0;31m---------------------------------------------------------------------------\u001b[0m",
      "\u001b[0;31mRuntimeError\u001b[0m                              Traceback (most recent call last)",
      "Cell \u001b[0;32mIn[2], line 1\u001b[0m\n\u001b[0;32m----> 1\u001b[0m session \u001b[38;5;241m=\u001b[39m \u001b[43mtt\u001b[49m\u001b[38;5;241;43m.\u001b[39;49m\u001b[43mSession\u001b[49m\u001b[38;5;241;43m.\u001b[39;49m\u001b[43mstart\u001b[49m\u001b[43m(\u001b[49m\n\u001b[1;32m      2\u001b[0m \u001b[43m    \u001b[49m\u001b[43mtt\u001b[49m\u001b[38;5;241;43m.\u001b[39;49m\u001b[43mSessionConfig\u001b[49m\u001b[43m(\u001b[49m\n\u001b[1;32m      3\u001b[0m \u001b[43m        \u001b[49m\u001b[43muser_content_storage\u001b[49m\u001b[38;5;241;43m=\u001b[39;49m\u001b[38;5;124;43m\"\u001b[39;49m\u001b[38;5;124;43m./content\u001b[39;49m\u001b[38;5;124;43m\"\u001b[39;49m\u001b[43m,\u001b[49m\u001b[43m \u001b[49m\u001b[43mjava_options\u001b[49m\u001b[38;5;241;43m=\u001b[39;49m\u001b[43m[\u001b[49m\u001b[38;5;124;43m\"\u001b[39;49m\u001b[38;5;124;43m-Xms1G\u001b[39;49m\u001b[38;5;124;43m\"\u001b[39;49m\u001b[43m,\u001b[49m\u001b[43m \u001b[49m\u001b[38;5;124;43m\"\u001b[39;49m\u001b[38;5;124;43m-Xmx8G\u001b[39;49m\u001b[38;5;124;43m\"\u001b[39;49m\u001b[43m]\u001b[49m\u001b[43m,\u001b[49m\u001b[43m \u001b[49m\u001b[43mport\u001b[49m\u001b[38;5;241;43m=\u001b[39;49m\u001b[38;5;241;43m9092\u001b[39;49m\n\u001b[1;32m      4\u001b[0m \u001b[43m    \u001b[49m\u001b[43m)\u001b[49m\n\u001b[1;32m      5\u001b[0m \u001b[43m)\u001b[49m\n",
      "File \u001b[0;32m~/Desktop/atoti/.venv/lib/python3.10/site-packages/pydantic/validate_call_decorator.py:60\u001b[0m, in \u001b[0;36mvalidate_call.<locals>.validate.<locals>.wrapper_function\u001b[0;34m(*args, **kwargs)\u001b[0m\n\u001b[1;32m     58\u001b[0m \u001b[38;5;129m@functools\u001b[39m\u001b[38;5;241m.\u001b[39mwraps(function)\n\u001b[1;32m     59\u001b[0m \u001b[38;5;28;01mdef\u001b[39;00m \u001b[38;5;21mwrapper_function\u001b[39m(\u001b[38;5;241m*\u001b[39margs, \u001b[38;5;241m*\u001b[39m\u001b[38;5;241m*\u001b[39mkwargs):\n\u001b[0;32m---> 60\u001b[0m     \u001b[38;5;28;01mreturn\u001b[39;00m \u001b[43mvalidate_call_wrapper\u001b[49m\u001b[43m(\u001b[49m\u001b[38;5;241;43m*\u001b[39;49m\u001b[43margs\u001b[49m\u001b[43m,\u001b[49m\u001b[43m \u001b[49m\u001b[38;5;241;43m*\u001b[39;49m\u001b[38;5;241;43m*\u001b[39;49m\u001b[43mkwargs\u001b[49m\u001b[43m)\u001b[49m\n",
      "File \u001b[0;32m~/Desktop/atoti/.venv/lib/python3.10/site-packages/pydantic/_internal/_validate_call.py:96\u001b[0m, in \u001b[0;36mValidateCallWrapper.__call__\u001b[0;34m(self, *args, **kwargs)\u001b[0m\n\u001b[1;32m     95\u001b[0m \u001b[38;5;28;01mdef\u001b[39;00m \u001b[38;5;21m__call__\u001b[39m(\u001b[38;5;28mself\u001b[39m, \u001b[38;5;241m*\u001b[39margs: Any, \u001b[38;5;241m*\u001b[39m\u001b[38;5;241m*\u001b[39mkwargs: Any) \u001b[38;5;241m-\u001b[39m\u001b[38;5;241m>\u001b[39m Any:\n\u001b[0;32m---> 96\u001b[0m     res \u001b[38;5;241m=\u001b[39m \u001b[38;5;28;43mself\u001b[39;49m\u001b[38;5;241;43m.\u001b[39;49m\u001b[43m__pydantic_validator__\u001b[49m\u001b[38;5;241;43m.\u001b[39;49m\u001b[43mvalidate_python\u001b[49m\u001b[43m(\u001b[49m\u001b[43mpydantic_core\u001b[49m\u001b[38;5;241;43m.\u001b[39;49m\u001b[43mArgsKwargs\u001b[49m\u001b[43m(\u001b[49m\u001b[43margs\u001b[49m\u001b[43m,\u001b[49m\u001b[43m \u001b[49m\u001b[43mkwargs\u001b[49m\u001b[43m)\u001b[49m\u001b[43m)\u001b[49m\n\u001b[1;32m     97\u001b[0m     \u001b[38;5;28;01mif\u001b[39;00m \u001b[38;5;28mself\u001b[39m\u001b[38;5;241m.\u001b[39m__return_pydantic_validator__:\n\u001b[1;32m     98\u001b[0m         \u001b[38;5;28;01mreturn\u001b[39;00m \u001b[38;5;28mself\u001b[39m\u001b[38;5;241m.\u001b[39m__return_pydantic_validator__(res)\n",
      "File \u001b[0;32m~/Desktop/atoti/.venv/lib/python3.10/site-packages/atoti/session.py:393\u001b[0m, in \u001b[0;36mSession.start\u001b[0;34m(cls, config, **kwargs)\u001b[0m\n\u001b[1;32m    389\u001b[0m     plugins \u001b[38;5;241m=\u001b[39m PLUGINS\u001b[38;5;241m.\u001b[39mdefault\n\u001b[1;32m    391\u001b[0m \u001b[38;5;28;01mwith\u001b[39;00m ExitStack() \u001b[38;5;28;01mas\u001b[39;00m exit_stack:\n\u001b[1;32m    392\u001b[0m     atoti_client, java_api, server_subprocess, session_id \u001b[38;5;241m=\u001b[39m (\n\u001b[0;32m--> 393\u001b[0m         \u001b[43mexit_stack\u001b[49m\u001b[38;5;241;43m.\u001b[39;49m\u001b[43menter_context\u001b[49m\u001b[43m(\u001b[49m\n\u001b[1;32m    394\u001b[0m \u001b[43m            \u001b[49m\u001b[43mstarted_session_resources\u001b[49m\u001b[43m(\u001b[49m\n\u001b[1;32m    395\u001b[0m \u001b[43m                \u001b[49m\u001b[43maddress\u001b[49m\u001b[38;5;241;43m=\u001b[39;49m\u001b[43mprivate_parameters\u001b[49m\u001b[38;5;241;43m.\u001b[39;49m\u001b[43maddress\u001b[49m\u001b[43m,\u001b[49m\n\u001b[1;32m    396\u001b[0m \u001b[43m                \u001b[49m\u001b[43mconfig\u001b[49m\u001b[38;5;241;43m=\u001b[39;49m\u001b[43mconfig\u001b[49m\u001b[43m,\u001b[49m\n\u001b[1;32m    397\u001b[0m \u001b[43m                \u001b[49m\u001b[43mdistributed\u001b[49m\u001b[38;5;241;43m=\u001b[39;49m\u001b[38;5;28;43;01mFalse\u001b[39;49;00m\u001b[43m,\u001b[49m\n\u001b[1;32m    398\u001b[0m \u001b[43m                \u001b[49m\u001b[43menable_py4j_auth\u001b[49m\u001b[38;5;241;43m=\u001b[39;49m\u001b[43mprivate_parameters\u001b[49m\u001b[38;5;241;43m.\u001b[39;49m\u001b[43menable_py4j_auth\u001b[49m\u001b[43m,\u001b[49m\n\u001b[1;32m    399\u001b[0m \u001b[43m                \u001b[49m\u001b[43mplugins\u001b[49m\u001b[38;5;241;43m=\u001b[39;49m\u001b[43mplugins\u001b[49m\u001b[43m,\u001b[49m\n\u001b[1;32m    400\u001b[0m \u001b[43m                \u001b[49m\u001b[43mpy4j_server_port\u001b[49m\u001b[38;5;241;43m=\u001b[39;49m\u001b[43mprivate_parameters\u001b[49m\u001b[38;5;241;43m.\u001b[39;49m\u001b[43mpy4j_server_port\u001b[49m\u001b[43m,\u001b[49m\n\u001b[1;32m    401\u001b[0m \u001b[43m                \u001b[49m\u001b[43mstart_application\u001b[49m\u001b[38;5;241;43m=\u001b[39;49m\u001b[38;5;28;43;01mTrue\u001b[39;49;00m\u001b[43m,\u001b[49m\n\u001b[1;32m    402\u001b[0m \u001b[43m            \u001b[49m\u001b[43m)\u001b[49m\u001b[43m,\u001b[49m\n\u001b[1;32m    403\u001b[0m \u001b[43m        \u001b[49m\u001b[43m)\u001b[49m\n\u001b[1;32m    404\u001b[0m     )\n\u001b[1;32m    405\u001b[0m     session \u001b[38;5;241m=\u001b[39m \u001b[38;5;28mcls\u001b[39m(\n\u001b[1;32m    406\u001b[0m         atoti_client\u001b[38;5;241m=\u001b[39matoti_client,\n\u001b[1;32m    407\u001b[0m         java_api\u001b[38;5;241m=\u001b[39mjava_api,\n\u001b[1;32m    408\u001b[0m         server_subprocess\u001b[38;5;241m=\u001b[39mserver_subprocess,\n\u001b[1;32m    409\u001b[0m         session_id\u001b[38;5;241m=\u001b[39msession_id,\n\u001b[1;32m    410\u001b[0m     )\n\u001b[1;32m    411\u001b[0m     session\u001b[38;5;241m.\u001b[39m_warn_if_license_about_to_expire()\n",
      "File \u001b[0;32m~/.local/share/uv/python/cpython-3.10.15-macos-aarch64-none/lib/python3.10/contextlib.py:492\u001b[0m, in \u001b[0;36m_BaseExitStack.enter_context\u001b[0;34m(self, cm)\u001b[0m\n\u001b[1;32m    490\u001b[0m _cm_type \u001b[38;5;241m=\u001b[39m \u001b[38;5;28mtype\u001b[39m(cm)\n\u001b[1;32m    491\u001b[0m _exit \u001b[38;5;241m=\u001b[39m _cm_type\u001b[38;5;241m.\u001b[39m\u001b[38;5;21m__exit__\u001b[39m\n\u001b[0;32m--> 492\u001b[0m result \u001b[38;5;241m=\u001b[39m \u001b[43m_cm_type\u001b[49m\u001b[38;5;241;43m.\u001b[39;49m\u001b[38;5;21;43m__enter__\u001b[39;49m\u001b[43m(\u001b[49m\u001b[43mcm\u001b[49m\u001b[43m)\u001b[49m\n\u001b[1;32m    493\u001b[0m \u001b[38;5;28mself\u001b[39m\u001b[38;5;241m.\u001b[39m_push_cm_exit(cm, _exit)\n\u001b[1;32m    494\u001b[0m \u001b[38;5;28;01mreturn\u001b[39;00m result\n",
      "File \u001b[0;32m~/.local/share/uv/python/cpython-3.10.15-macos-aarch64-none/lib/python3.10/contextlib.py:135\u001b[0m, in \u001b[0;36m_GeneratorContextManager.__enter__\u001b[0;34m(self)\u001b[0m\n\u001b[1;32m    133\u001b[0m \u001b[38;5;28;01mdel\u001b[39;00m \u001b[38;5;28mself\u001b[39m\u001b[38;5;241m.\u001b[39margs, \u001b[38;5;28mself\u001b[39m\u001b[38;5;241m.\u001b[39mkwds, \u001b[38;5;28mself\u001b[39m\u001b[38;5;241m.\u001b[39mfunc\n\u001b[1;32m    134\u001b[0m \u001b[38;5;28;01mtry\u001b[39;00m:\n\u001b[0;32m--> 135\u001b[0m     \u001b[38;5;28;01mreturn\u001b[39;00m \u001b[38;5;28;43mnext\u001b[39;49m\u001b[43m(\u001b[49m\u001b[38;5;28;43mself\u001b[39;49m\u001b[38;5;241;43m.\u001b[39;49m\u001b[43mgen\u001b[49m\u001b[43m)\u001b[49m\n\u001b[1;32m    136\u001b[0m \u001b[38;5;28;01mexcept\u001b[39;00m \u001b[38;5;167;01mStopIteration\u001b[39;00m:\n\u001b[1;32m    137\u001b[0m     \u001b[38;5;28;01mraise\u001b[39;00m \u001b[38;5;167;01mRuntimeError\u001b[39;00m(\u001b[38;5;124m\"\u001b[39m\u001b[38;5;124mgenerator didn\u001b[39m\u001b[38;5;124m'\u001b[39m\u001b[38;5;124mt yield\u001b[39m\u001b[38;5;124m\"\u001b[39m) \u001b[38;5;28;01mfrom\u001b[39;00m \u001b[38;5;28;01mNone\u001b[39;00m\n",
      "File \u001b[0;32m~/Desktop/atoti/.venv/lib/python3.10/site-packages/atoti/_started_session_resources.py:161\u001b[0m, in \u001b[0;36mstarted_session_resources\u001b[0;34m(address, config, distributed, enable_py4j_auth, plugins, py4j_server_port, start_application)\u001b[0m\n\u001b[1;32m    159\u001b[0m         java_api\u001b[38;5;241m.\u001b[39mstart_application(config)\n\u001b[1;32m    160\u001b[0m     \u001b[38;5;28;01mexcept\u001b[39;00m \u001b[38;5;167;01mException\u001b[39;00m \u001b[38;5;28;01mas\u001b[39;00m error:  \u001b[38;5;66;03m# noqa: BLE001\u001b[39;00m\n\u001b[0;32m--> 161\u001b[0m         \u001b[38;5;28;01mraise\u001b[39;00m \u001b[38;5;167;01mRuntimeError\u001b[39;00m(\n\u001b[1;32m    162\u001b[0m             \u001b[38;5;124mf\u001b[39m\u001b[38;5;124m\"\u001b[39m\u001b[38;5;124mAn error occurred while starting the session:\u001b[39m\u001b[38;5;130;01m\\n\u001b[39;00m\u001b[38;5;132;01m{\u001b[39;00merror\u001b[38;5;132;01m}\u001b[39;00m\u001b[38;5;124m\"\u001b[39m,\n\u001b[1;32m    163\u001b[0m         ) \u001b[38;5;28;01mfrom\u001b[39;00m \u001b[38;5;28;01mNone\u001b[39;00m\n\u001b[1;32m    165\u001b[0m jwt_key \u001b[38;5;241m=\u001b[39m \u001b[38;5;124m\"\u001b[39m\u001b[38;5;124mkey\u001b[39m\u001b[38;5;124m\"\u001b[39m\n\u001b[1;32m    166\u001b[0m jwt_holder: \u001b[38;5;28mdict\u001b[39m[\u001b[38;5;28mstr\u001b[39m, \u001b[38;5;28mstr\u001b[39m \u001b[38;5;241m|\u001b[39m \u001b[38;5;28;01mNone\u001b[39;00m] \u001b[38;5;241m=\u001b[39m {\u001b[38;5;124m\"\u001b[39m\u001b[38;5;124mjwt\u001b[39m\u001b[38;5;124m\"\u001b[39m: \u001b[38;5;28;01mNone\u001b[39;00m}\n",
      "\u001b[0;31mRuntimeError\u001b[0m: An error occurred while starting the session:\nAn error occurred while calling t.startServer.\n: org.springframework.context.ApplicationContextException: Failed to start bean 'webServerStartStop'\n\tat org.springframework.context.support.DefaultLifecycleProcessor.doStart(DefaultLifecycleProcessor.java:288)\n\tat org.springframework.context.support.DefaultLifecycleProcessor$LifecycleGroup.start(DefaultLifecycleProcessor.java:472)\n\tat java.base/java.lang.Iterable.forEach(Unknown Source)\n\tat org.springframework.context.support.DefaultLifecycleProcessor.startBeans(DefaultLifecycleProcessor.java:257)\n\tat org.springframework.context.support.DefaultLifecycleProcessor.onRefresh(DefaultLifecycleProcessor.java:202)\n\tat org.springframework.context.support.AbstractApplicationContext.finishRefresh(AbstractApplicationContext.java:990)\n\tat org.springframework.context.support.AbstractApplicationContext.refresh(AbstractApplicationContext.java:628)\n\tat org.springframework.boot.web.servlet.context.ServletWebServerApplicationContext.refresh(ServletWebServerApplicationContext.java:146)\n\tat org.springframework.boot.SpringApplication.refresh(SpringApplication.java:754)\n\tat org.springframework.boot.SpringApplication.refreshContext(SpringApplication.java:456)\n\tat org.springframework.boot.SpringApplication.run(SpringApplication.java:335)\n\tat org.springframework.boot.builder.SpringApplicationBuilder.run(SpringApplicationBuilder.java:149)\n\tat io.atoti.server.common.private_.impl.AtotiApplication.startSpringApplication(AtotiApplication.java:134)\n\tat io.atoti.server.common.private_.impl.AtotiApplication.startApplication(AtotiApplication.java:60)\n\tat io.atoti.server.base.private_.session.SessionImpl.startServer(SessionImpl.java:204)\n\tat java.base/jdk.internal.reflect.DirectMethodHandleAccessor.invoke(Unknown Source)\n\tat java.base/java.lang.reflect.Method.invoke(Unknown Source)\n\tat py4j.reflection.MethodInvoker.invoke(MethodInvoker.java:244)\n\tat py4j.reflection.ReflectionEngine.invoke(ReflectionEngine.java:357)\n\tat py4j.Gateway.invoke(Gateway.java:282)\n\tat py4j.commands.AbstractCommand.invokeMethod(AbstractCommand.java:132)\n\tat py4j.commands.CallCommand.execute(CallCommand.java:79)\n\tat py4j.ClientServerConnection.waitForCommands(ClientServerConnection.java:182)\n\tat py4j.ClientServerConnection.run(ClientServerConnection.java:106)\n\tat java.base/java.lang.Thread.run(Unknown Source)\nCaused by: org.springframework.boot.web.server.PortInUseException: Port 9092 is already in use\n\tat org.springframework.boot.web.server.PortInUseException.lambda$throwIfPortBindingException$0(PortInUseException.java:70)\n\tat org.springframework.boot.web.server.PortInUseException.lambda$ifPortBindingException$1(PortInUseException.java:85)\n\tat org.springframework.boot.web.server.PortInUseException.ifCausedBy(PortInUseException.java:103)\n\tat org.springframework.boot.web.server.PortInUseException.ifPortBindingException(PortInUseException.java:82)\n\tat org.springframework.boot.web.server.PortInUseException.throwIfPortBindingException(PortInUseException.java:69)\n\tat org.springframework.boot.web.embedded.tomcat.TomcatWebServer.start(TomcatWebServer.java:248)\n\tat org.springframework.boot.web.servlet.context.WebServerStartStopLifecycle.start(WebServerStartStopLifecycle.java:44)\n\tat org.springframework.context.support.DefaultLifecycleProcessor.doStart(DefaultLifecycleProcessor.java:285)\n\t... 24 more\nCaused by: java.lang.IllegalArgumentException: standardService.connector.startFailed\n\tat org.apache.catalina.core.StandardService.addConnector(StandardService.java:222)\n\tat org.springframework.boot.web.embedded.tomcat.TomcatWebServer.addPreviouslyRemovedConnectors(TomcatWebServer.java:306)\n\tat org.springframework.boot.web.embedded.tomcat.TomcatWebServer.start(TomcatWebServer.java:234)\n\t... 26 more\nCaused by: org.apache.catalina.LifecycleException: Protocol handler start failed\n\tat org.apache.catalina.connector.Connector.startInternal(Connector.java:1061)\n\tat org.apache.catalina.util.LifecycleBase.start(LifecycleBase.java:164)\n\tat org.apache.catalina.core.StandardService.addConnector(StandardService.java:219)\n\t... 28 more\nCaused by: java.net.BindException: Address already in use\n\tat java.base/sun.nio.ch.Net.bind0(Native Method)\n\tat java.base/sun.nio.ch.Net.bind(Unknown Source)\n\tat java.base/sun.nio.ch.ServerSocketChannelImpl.netBind(Unknown Source)\n\tat java.base/sun.nio.ch.ServerSocketChannelImpl.bind(Unknown Source)\n\tat org.apache.tomcat.util.net.NioEndpoint.initServerSocket(NioEndpoint.java:239)\n\tat org.apache.tomcat.util.net.NioEndpoint.bind(NioEndpoint.java:194)\n\tat org.apache.tomcat.util.net.AbstractEndpoint.bindWithCleanup(AbstractEndpoint.java:1304)\n\tat org.apache.tomcat.util.net.AbstractEndpoint.start(AbstractEndpoint.java:1390)\n\tat org.apache.coyote.AbstractProtocol.start(AbstractProtocol.java:644)\n\tat org.apache.catalina.connector.Connector.startInternal(Connector.java:1058)\n\t... 30 more\n"
     ]
    }
   ],
   "source": [
    "session = tt.Session.start(\n",
    "    tt.SessionConfig(\n",
    "        user_content_storage=\"./content\", java_options=[\"-Xms1G\", \"-Xmx8G\"], port=9092\n",
    "    )\n",
    ")"
   ]
  },
  {
   "cell_type": "code",
   "execution_count": null,
   "id": "cfc88fc1-e635-439e-9c9b-7cd2be4a7534",
   "metadata": {},
   "outputs": [],
   "source": [
    "session.logs_path"
   ]
  },
  {
   "cell_type": "markdown",
   "id": "719ff6a2-4db5-4a1e-b6f0-c13dad6abe07",
   "metadata": {},
   "source": [
    "### 2.2. Load data and create Atoti cube"
   ]
  },
  {
   "cell_type": "markdown",
   "id": "fd2637eb-a074-4ee9-a7d7-cab4be0dcf63",
   "metadata": {
    "editable": true,
    "slideshow": {
     "slide_type": ""
    },
    "tags": []
   },
   "source": [
    "Once we have created the session, we can proceed to create our data model and create the multi-dimensional data cube. Below shows the key steps to perform data modeling. We have many examples showcasing the steps to create a cube in our notebook gallery, so we put these steps into a script. Refer to [data_model.py](utils/data_model.py) for the implementation.\n",
    "\n",
    "<!-- <img src=\"https://data.atoti.io/notebooks/auto-cube/img/steps_to_bi_platform.gif\" width=\"70%\" />   -->\n"
   ]
  },
  {
   "cell_type": "code",
   "execution_count": null,
   "id": "9fb9465e-8cac-4ca1-8625-1f0d1108e879",
   "metadata": {},
   "outputs": [],
   "source": [
    "data_model.table_creation(session)"
   ]
  },
  {
   "cell_type": "code",
   "execution_count": null,
   "id": "00e295dc-fa49-4177-a9dd-5867bf7cabd4",
   "metadata": {},
   "outputs": [],
   "source": [
    "data_model.cube_creation(session)"
   ]
  },
  {
   "cell_type": "code",
   "execution_count": null,
   "id": "9636727b-3599-49f1-8e03-f2b0c40ab449",
   "metadata": {
    "editable": true,
    "slideshow": {
     "slide_type": ""
    },
    "tags": []
   },
   "outputs": [],
   "source": [
    "txn_tbl = session.tables[\"Transaction\"]\n",
    "txn_tbl.head()"
   ]
  },
  {
   "cell_type": "markdown",
   "id": "46cb1efc-8e62-4a23-8a79-ac04600d3285",
   "metadata": {},
   "source": [
    "### 2.3. Analyze the cube data model"
   ]
  },
  {
   "cell_type": "code",
   "execution_count": null,
   "id": "833e5827-610e-48da-8c4c-f073c7de7a89",
   "metadata": {},
   "outputs": [],
   "source": [
    "cube = session.cubes[\"TxnCube\"]\n",
    "session.tables.schema"
   ]
  },
  {
   "cell_type": "markdown",
   "id": "18706616-0e0f-40ed-8af8-fe9635f46a5b",
   "metadata": {},
   "source": [
    "## 3. Enriching the Atoti Cube"
   ]
  },
  {
   "cell_type": "markdown",
   "id": "2b19123e-27df-4e67-beca-0b34354e88ab",
   "metadata": {},
   "source": [
    "Before we see how bucketing is being used in our analysis, let's set up the order for our data and create the measures that we want to look at."
   ]
  },
  {
   "cell_type": "markdown",
   "id": "77906144-b35f-4244-a1ca-ba4126f39d48",
   "metadata": {},
   "source": [
    "### 3.1. Assign hierarchies, levels, and measures to variables"
   ]
  },
  {
   "cell_type": "code",
   "execution_count": null,
   "id": "2e79507e-559b-49dc-aad4-fe430e737b90",
   "metadata": {},
   "outputs": [],
   "source": [
    "h, l, m = cube.hierarchies, cube.levels, cube.measures"
   ]
  },
  {
   "cell_type": "markdown",
   "id": "e9f605f8-cc38-4dbc-b6cd-534c80f12227",
   "metadata": {},
   "source": [
    "### 3.2. Ordering timeseries  \n",
    "\n",
    "Since we are unsure if the data loaded is ordered in the way we want, we can enforce the order we want.\n",
    "\n",
    "There are two ways to perform [ordering](https://docs.atoti.io/latest/api/atoti.Level.order.html#atoti.Level.order) on members of a level:\n",
    "1. [`NaturalOrder`](https://docs.atoti.io/latest/api/atoti.NaturalOrder.html#atoti.NaturalOrder) for ascending/descending order.\n",
    "2. [`CustomOrder`](https://docs.atoti.io/latest/api/atoti.CustomOrder.html#atoti.CustomOrder) based on a given ordered list for the first number of elements.  \n",
    "\n",
    "We set our timeseries in ascending order."
   ]
  },
  {
   "cell_type": "code",
   "execution_count": null,
   "id": "0656b6d9-abca-4783-a30f-d95545c7c072",
   "metadata": {
    "tags": []
   },
   "outputs": [],
   "source": [
    "l[\"Date\"].order = tt.NaturalOrder()\n",
    "l[\"DateTime\"].order = tt.NaturalOrder()\n",
    "l[\"Timestamp\"].order = tt.NaturalOrder()"
   ]
  },
  {
   "cell_type": "markdown",
   "id": "88a3f51d-5205-4b89-bce9-4617d2fd6d57",
   "metadata": {},
   "source": [
    "### 3.3. Computing key performance metrics  \n",
    "\n",
    "In this use case, we will focus on the realized PnL for the accounts in the time series, which given our data model, can be computed by:\n",
    "\n",
    "$$ RealizedPnL = TransactionPrice - PurchasePrice $$\n",
    "\n",
    "In order to focus only on the metrics that we want, we have created the cube in the `no_measures` mode. This means that other than the `contributors.COUNT`, no other measures are created. We will see in the subsequent sections how we create these measures.  \n",
    "\n",
    "💡 **Note:** Refer to the [atoti.agg](https://docs.atoti.io/latest/api/atoti.agg.html) package for the available aggregation functions in Atoti. "
   ]
  },
  {
   "cell_type": "markdown",
   "id": "cde12f83-0c71-4b68-b152-4753e28b08d8",
   "metadata": {},
   "source": [
    "#### 3.3.1. Creating measures from tables\n",
    "\n",
    "We can apply aggregation functions on a table column as shown below. "
   ]
  },
  {
   "cell_type": "code",
   "execution_count": null,
   "id": "bd24d327-d0af-424d-b766-c7cc9fe1b2b8",
   "metadata": {},
   "outputs": [],
   "source": [
    "txn_tbl = session.tables[\"Transaction\"]\n",
    "\n",
    "m[\"PurchasePrice.SUM\"] = tt.agg.sum(txn_tbl[\"PurchasePrice\"])\n",
    "m[\"TransactionPrice.SUM\"] = tt.agg.sum(txn_tbl[\"TransactionPrice\"])\n",
    "\n",
    "m[\"PurchasePrice\"] = tt.agg.single_value(txn_tbl[\"PurchasePrice\"])\n",
    "m[\"TransactionPrice\"] = tt.agg.single_value(txn_tbl[\"TransactionPrice\"])"
   ]
  },
  {
   "cell_type": "markdown",
   "id": "862c79cb-e7a9-4866-aa38-9a113895c73d",
   "metadata": {},
   "source": [
    "`PurchasePrice.SUM` and `TransactionPrice.SUM` are the equivalent of what the cube would have created automatically. Instead of summing up the purchase price and transaction price, we use `single_value` to return only the unique values. We can see at the `TransactionId` level, the `PurchasePrice` varies for different transactions. Therefore, no value is returned on the top level.\n",
    "\n",
    "💡 **Note:** https://docs.atoti.io/latest/api/atoti.agg.single_value.html#atoti.agg.single_value"
   ]
  },
  {
   "cell_type": "code",
   "execution_count": null,
   "id": "9132e2db-faae-4a62-b506-78400bc8539f",
   "metadata": {
    "atoti": {
     "widget": {
      "columnWidths": {
       "[Measures].[PurchasePrice.SUM]": 160,
       "[Measures].[PurchasePrice]": 104,
       "[Measures].[TransactionPrice.SUM]": 171,
       "[Measures].[TransactionPrice]": 126,
       "[Transaction].[TransactionId].[TransactionId]": 159
      },
      "filters": [
       {
        "dimensionName": "Transaction",
        "hierarchyName": "Ticker",
        "isExclusionFilter": false,
        "members": [
         [
          "AllMember",
          "AAPL"
         ]
        ],
        "type": "members"
       },
       {
        "dimensionName": "Transaction",
        "hierarchyName": "Date",
        "isExclusionFilter": false,
        "members": [
         [
          "AllMember",
          "2023-03-15"
         ]
        ],
        "type": "members"
       }
      ],
      "mapping": {
       "columns": [
        "ALL_MEASURES"
       ],
       "measures": [
        "[Measures].[PurchasePrice]",
        "[Measures].[PurchasePrice.SUM]",
        "[Measures].[TransactionPrice]",
        "[Measures].[TransactionPrice.SUM]"
       ],
       "rows": [
        "[Transaction].[Timestamp].[Timestamp] => [Transaction].[Action].[Action] => [Transaction].[TransactionId].[TransactionId]"
       ]
      },
      "name": "AAPL transactions on 2023-03-15",
      "query": {
       "mdx": "SELECT NON EMPTY Hierarchize(Union(Crossjoin(Descendants({[Transaction].[Timestamp].[ALL].[AllMember]}, 1, SELF_AND_BEFORE), [Transaction].[Action].DefaultMember, [Transaction].[TransactionId].DefaultMember), Crossjoin([Transaction].[Timestamp].[ALL].[AllMember].[09:30:00], Hierarchize(Descendants({[Transaction].[Action].[ALL].[AllMember]}, 1, SELF_AND_BEFORE)), [Transaction].[TransactionId].DefaultMember), Crossjoin([Transaction].[Timestamp].[ALL].[AllMember].[09:30:00], [Transaction].[Action].[ALL].[AllMember].[Buy], Hierarchize(Descendants({[Transaction].[TransactionId].[ALL].[AllMember]}, 1, SELF_AND_BEFORE))))) ON ROWS, NON EMPTY {[Measures].[PurchasePrice], [Measures].[PurchasePrice.SUM], [Measures].[TransactionPrice], [Measures].[TransactionPrice.SUM]} ON COLUMNS FROM [TxnCube] CELL PROPERTIES VALUE, FORMATTED_VALUE, BACK_COLOR, FORE_COLOR, FONT_FLAGS",
       "updateMode": "once"
      },
      "serverKey": "default",
      "widgetKey": "pivot-table"
     }
    }
   },
   "outputs": [],
   "source": [
    "session.widget"
   ]
  },
  {
   "cell_type": "markdown",
   "id": "b6279e46-bb4a-4711-8b83-cf5914bf87c9",
   "metadata": {},
   "source": [
    "#### 3.3.2. Compute realized PnL  \n",
    "\n",
    "PnL is realized once the ticker is sold. Therefore, we can simply take the difference between the purchase price and transaction price when the transaction action is \"Sell\". This difference is performed at the `TransactionId` level, hence, we add it in the scope.\n",
    "\n",
    "In addition, since we have a [conditional check](https://docs.atoti.io/latest/api/atoti.where.html#atoti.where) on the `Action`, it has to be included in the scope as well.  "
   ]
  },
  {
   "cell_type": "code",
   "execution_count": null,
   "id": "cffdcfb6-ad8f-4344-b492-f1274d9b5989",
   "metadata": {
    "tags": []
   },
   "outputs": [],
   "source": [
    "m[\"RealizedPnL\"] = tt.agg.sum(\n",
    "    tt.where(l[\"Action\"] == \"Sell\", m[\"TransactionPrice\"] - m[\"PurchasePrice\"]),\n",
    "    scope=tt.OriginScope(levels={l[\"TransactionId\"], l[\"Action\"]}),\n",
    ")"
   ]
  },
  {
   "cell_type": "markdown",
   "id": "df728e30-0f2e-45cd-bbd3-b15f2ded1c7f",
   "metadata": {},
   "source": [
    "#### 3.3.3. Cumulate realized PnL"
   ]
  },
  {
   "cell_type": "markdown",
   "id": "5e6aec55-783e-4108-b204-87e7ba832487",
   "metadata": {},
   "source": [
    "We can cumulate the realized PnL along different levels, e.g. `Date`, `DateTime`, and `Timestamp`. Remember to use the correct measure when querying along the different levels. "
   ]
  },
  {
   "cell_type": "code",
   "execution_count": null,
   "id": "71f35b6a-6c64-4d13-a8e6-62057e169d46",
   "metadata": {},
   "outputs": [],
   "source": [
    "m[f\"Cum_Date_RealizedPnL\"] = tt.agg.sum(\n",
    "    m[\"RealizedPnL\"], scope=tt.CumulativeScope(level=l[\"Date\"])\n",
    ")\n",
    "\n",
    "m[f\"Cum_DateTime_RealizedPnL\"] = tt.agg.sum(\n",
    "    m[\"RealizedPnL\"], scope=tt.CumulativeScope(level=l[\"DateTime\"])\n",
    ")\n",
    "\n",
    "m[f\"Cum_Timestamp_RealizedPnL\"] = tt.agg.sum(\n",
    "    m[\"RealizedPnL\"], scope=tt.CumulativeScope(level=l[\"Timestamp\"])\n",
    ")"
   ]
  },
  {
   "cell_type": "code",
   "execution_count": null,
   "id": "19cf8d71-20b6-494a-b908-069613d45f02",
   "metadata": {
    "atoti": {
     "widget": {
      "columnWidths": {
       "[Measures].[Cum_DateTime_RealizedPnL]": 187,
       "[Measures].[Cum_Date_RealizedPnL]": 164,
       "[Measures].[Cum_Timestamp_RealizedPnL]": 194,
       "[Transaction].[DateTime].[DateTime]": 142
      },
      "mapping": {
       "columns": [
        "ALL_MEASURES"
       ],
       "measures": [
        "[Measures].[Cum_Date_RealizedPnL]",
        "[Measures].[Cum_Timestamp_RealizedPnL]",
        "[Measures].[Cum_DateTime_RealizedPnL]"
       ],
       "rows": [
        "[Transaction].[Timestamp].[Timestamp]"
       ]
      },
      "name": "Cumulative realized PnL",
      "query": {
       "mdx": "SELECT NON EMPTY {[Measures].[Cum_Date_RealizedPnL], [Measures].[Cum_Timestamp_RealizedPnL], [Measures].[Cum_DateTime_RealizedPnL]} ON COLUMNS, NON EMPTY Hierarchize(Descendants({[Transaction].[Timestamp].[ALL].[AllMember]}, 1, SELF_AND_BEFORE)) ON ROWS FROM [TxnCube] CELL PROPERTIES VALUE, FORMATTED_VALUE, BACK_COLOR, FORE_COLOR, FONT_FLAGS",
       "updateMode": "once"
      },
      "serverKey": "default",
      "widgetKey": "pivot-table"
     }
    }
   },
   "outputs": [],
   "source": [
    "session.widget"
   ]
  },
  {
   "cell_type": "code",
   "execution_count": null,
   "id": "7651cc32-ea5f-4321-be5e-67e0492273f2",
   "metadata": {
    "atoti": {
     "widget": {
      "columnWidths": {
       "[Measures].[Cum_DateTime_RealizedPnL]": 196,
       "[Measures].[Cum_Date_RealizedPnL]": 192,
       "[Measures].[Cum_Timestamp_RealizedPnL]": 194
      },
      "filters": [
       {
        "dimensionName": "Transaction",
        "hierarchyName": "Date",
        "isExclusionFilter": false,
        "members": [
         [
          "AllMember",
          "2023-03-15"
         ]
        ],
        "type": "members"
       }
      ],
      "mapping": {
       "horizontalSubplots": [],
       "secondaryValues": [],
       "splitBy": [
        "ALL_MEASURES"
       ],
       "values": [
        "[Measures].[Cum_Timestamp_RealizedPnL]"
       ],
       "verticalSubplots": [
        "[Transaction].[AccountSuffix].[AccountSuffix]"
       ],
       "xAxis": [
        "[Transaction].[Timestamp].[Timestamp]"
       ]
      },
      "name": "Realized Pnl by accounts on 2023-03-15",
      "query": {
       "mdx": "SELECT NON EMPTY Crossjoin({[Measures].[Cum_Timestamp_RealizedPnL]}, Hierarchize(Descendants({[Transaction].[AccountSuffix].[ALL].[AllMember]}, 1, SELF_AND_BEFORE))) ON COLUMNS, NON EMPTY Hierarchize(Descendants({[Transaction].[Timestamp].[ALL].[AllMember]}, 1, SELF_AND_BEFORE)) ON ROWS FROM [TxnCube] CELL PROPERTIES VALUE, FORMATTED_VALUE, BACK_COLOR, FORE_COLOR, FONT_FLAGS",
       "updateMode": "once"
      },
      "serverKey": "default",
      "widgetKey": "plotly-line-chart"
     }
    },
    "editable": true,
    "slideshow": {
     "slide_type": ""
    },
    "tags": []
   },
   "outputs": [],
   "source": [
    "session.widget"
   ]
  },
  {
   "cell_type": "markdown",
   "id": "59247476-d9e5-4db2-b4ba-66383ca367fa",
   "metadata": {},
   "source": [
    "Using subplot to visualize the PnL trend for each account, we can clearly see that `ACCT3` was making a loss for most part of the day. Let's dive a little more into the account to understand the loss better."
   ]
  },
  {
   "cell_type": "code",
   "execution_count": null,
   "id": "23a58813-aa93-4d2c-86fd-97faf0160168",
   "metadata": {
    "atoti": {
     "widget": {
      "filters": [
       {
        "dimensionName": "Transaction",
        "hierarchyName": "AccountSuffix",
        "isExclusionFilter": false,
        "members": [
         [
          "AllMember",
          "ACCT3"
         ]
        ],
        "type": "members"
       },
       {
        "dimensionName": "Transaction",
        "hierarchyName": "Date",
        "isExclusionFilter": false,
        "members": [
         [
          "AllMember",
          "2023-03-15"
         ]
        ],
        "type": "members"
       }
      ],
      "mapping": {
       "horizontalSubplots": [
        "[Transaction].[MAV_Strategy].[MAV_Strategy]"
       ],
       "secondaryValues": [],
       "splitBy": [
        "ALL_MEASURES"
       ],
       "values": [
        "[Measures].[Cum_Timestamp_RealizedPnL]"
       ],
       "verticalSubplots": [
        "[Transaction].[Ticker].[Ticker]"
       ],
       "xAxis": [
        "[Transaction].[Timestamp].[Timestamp]"
       ]
      },
      "name": "Realized PnL for Account 3 on 2023-03-15 by MAV strategies",
      "query": {
       "mdx": "SELECT NON EMPTY Crossjoin({[Measures].[Cum_Timestamp_RealizedPnL]}, Hierarchize(Descendants({[Transaction].[MAV_Strategy].[ALL].[AllMember]}, 1, SELF_AND_BEFORE)), Hierarchize(Descendants({[Transaction].[Ticker].[ALL].[AllMember]}, 1, SELF_AND_BEFORE))) ON COLUMNS, NON EMPTY Hierarchize(Descendants({[Transaction].[Timestamp].[ALL].[AllMember]}, 1, SELF_AND_BEFORE)) ON ROWS FROM [TxnCube] CELL PROPERTIES VALUE, FORMATTED_VALUE, BACK_COLOR, FORE_COLOR, FONT_FLAGS",
       "updateMode": "once"
      },
      "serverKey": "default",
      "widgetKey": "plotly-line-chart"
     }
    }
   },
   "outputs": [],
   "source": [
    "session.widget"
   ]
  },
  {
   "cell_type": "markdown",
   "id": "6511a860-1e5f-4eed-9a2a-783da0e5e4bf",
   "metadata": {},
   "source": [
    "We can see that the sales of `BRK-B` is causing most of the loss. Also, the strategy `MAV_15_60` and `MAV_30_120` are not performing well for `MSFT`.  \n",
    "\n",
    "The strategies are simply different ways that the moving average is applied to obtain the buying and selling signals. These data are the outputs from our simplified trading algorithms and you can do the same with your own algorithms."
   ]
  },
  {
   "cell_type": "markdown",
   "id": "a2652061-63b3-407d-9411-2b6b31c9b8d3",
   "metadata": {},
   "source": [
    "## 4. Creating Buckets"
   ]
  },
  {
   "cell_type": "markdown",
   "id": "315d4550-b073-4f55-ab0b-b5d77dcc1240",
   "metadata": {},
   "source": [
    "### 4.1. Date bucketing"
   ]
  },
  {
   "cell_type": "markdown",
   "id": "e8ce9b9f-5172-4c1c-865e-d4d6cb2d14bf",
   "metadata": {},
   "source": [
    "Out-of-the-box, we are able to create [date buckets](https://docs.atoti.io/latest/api/atoti.Cube.create_date_hierarchy.html#atoti.Cube.create_date_hierarchy) that allow us to visualize data by different buckets such as yearly, quarterly, monthly etc. This way, we don't need to split our date column into the various buckets, saving physical data space.\n"
   ]
  },
  {
   "cell_type": "code",
   "execution_count": null,
   "id": "8abdfd0f-1513-40ca-bc7d-26c7c4d9136e",
   "metadata": {
    "tags": []
   },
   "outputs": [],
   "source": [
    "cube.create_date_hierarchy(\n",
    "    \"Date hierarchy\",\n",
    "    column=txn_tbl[\"Date\"],\n",
    "    levels={\"Year\": \"yyyy\", \"Quarter\": \"QQQ\", \"Month\": \"MM\", \"Day\": \"dd\"},\n",
    ")"
   ]
  },
  {
   "cell_type": "markdown",
   "id": "f84ac925-0b08-4f6a-9fb6-4db0c0c25ead",
   "metadata": {},
   "source": [
    "The date buckets allow us to drill down on the period where performance is not ideal and see what are the contributing factors.\n",
    "\n",
    "`ACCT4` has the lowest realized revenue compare to the other accounts. We made a loss in February. Drilling down to the day level, we can see that we made the most loss on `2023-02-13` on `AMZN`. Similarly, sorting on `GOOGL` will show that we made the most loss for the stock on `2023-02-15`.  "
   ]
  },
  {
   "cell_type": "code",
   "execution_count": null,
   "id": "e1a575bd-b290-443a-a35c-32cdb8611893",
   "metadata": {
    "atoti": {
     "widget": {
      "mapping": {
       "columns": [
        "[Transaction].[Ticker].[Ticker]",
        "ALL_MEASURES"
       ],
       "measures": [
        "[Measures].[RealizedPnL]"
       ],
       "rows": [
        "[Transaction].[AccountSuffix].[AccountSuffix] => [Transaction].[Date hierarchy].[Year] => [Transaction].[Date hierarchy].[Day]"
       ]
      },
      "name": "Realized PnL by Date Buckets",
      "query": {
       "mdx": "SELECT NON EMPTY Order(Hierarchize(Union(Crossjoin(Descendants({[Transaction].[AccountSuffix].[ALL].[AllMember]}, 1, SELF_AND_BEFORE), [Transaction].[Date hierarchy].DefaultMember), Crossjoin([Transaction].[AccountSuffix].[ALL].[AllMember].[ACCT4], Hierarchize(Descendants({[Transaction].[Date hierarchy].[ALL].[AllMember]}, 1, SELF_AND_BEFORE))), Crossjoin([Transaction].[AccountSuffix].[ALL].[AllMember].[ACCT4], Descendants({[Transaction].[Date hierarchy].[ALL].[AllMember].[2023]}, [Transaction].[Date hierarchy].[Quarter])), Crossjoin([Transaction].[AccountSuffix].[ALL].[AllMember].[ACCT4], Descendants({[Transaction].[Date hierarchy].[ALL].[AllMember].[2023].[Q1]}, [Transaction].[Date hierarchy].[Month])), Crossjoin([Transaction].[AccountSuffix].[ALL].[AllMember].[ACCT4], Descendants({[Transaction].[Date hierarchy].[ALL].[AllMember].[2023].[Q1].[02]}, [Transaction].[Date hierarchy].[Day])))), ([Transaction].[Ticker].[ALL].[AllMember], [Measures].[RealizedPnL]), DESC) ON ROWS, NON EMPTY Crossjoin(Hierarchize(Descendants({[Transaction].[Ticker].[ALL].[AllMember]}, 1, SELF_AND_BEFORE)), {[Measures].[RealizedPnL]}) ON COLUMNS FROM [TxnCube] CELL PROPERTIES VALUE, FORMATTED_VALUE, BACK_COLOR, FORE_COLOR, FONT_FLAGS",
       "updateMode": "once"
      },
      "serverKey": "default",
      "widgetKey": "pivot-table"
     }
    }
   },
   "outputs": [],
   "source": [
    "session.widget"
   ]
  },
  {
   "cell_type": "markdown",
   "id": "fb66b641-87fb-4d7c-a6d8-51b9755b149d",
   "metadata": {},
   "source": [
    "### 4.2. Time bucketing"
   ]
  },
  {
   "cell_type": "markdown",
   "id": "f21c5429-4cf4-40e0-8523-68cc60466937",
   "metadata": {},
   "source": [
    "We can enrich the cube with other data sources. Tables can be joined to the base table before or after cube creation. This allows us to inject new dimensions to the cube as we draw new insights or inspirations. We generated a CSV containing bucket mapping to the trading hours of the stocks, with granularity up to the minutes. By joining the time bucket data to the base table, we can now view our data by our predefined buckets."
   ]
  },
  {
   "cell_type": "code",
   "execution_count": null,
   "id": "35343c1e-6094-42d1-9531-a553f9e5b129",
   "metadata": {
    "tags": []
   },
   "outputs": [],
   "source": [
    "time_tbl = session.read_csv(\n",
    "    \"s3://data.atoti.io/notebooks/bucket-exploration/time_bucket.csv\",\n",
    "    table_name=\"TimeBucket\",\n",
    "    keys=[\"Timestamp\"],\n",
    "    types={\n",
    "        \"Timestamp\": tt.type.STRING,\n",
    "        \"Hour\": tt.type.STRING,\n",
    "        \"Minute\": tt.type.STRING,\n",
    "        \"Second\": tt.type.STRING,\n",
    "    },\n",
    ")\n",
    "time_tbl.head()"
   ]
  },
  {
   "cell_type": "code",
   "execution_count": null,
   "id": "9ad95993-ac42-4fd4-8141-38ad36741fb0",
   "metadata": {},
   "outputs": [],
   "source": [
    "txn_tbl.join(time_tbl, txn_tbl[\"Timestamp\"] == time_tbl[\"Timestamp\"])\n",
    "session.tables.schema"
   ]
  },
  {
   "cell_type": "code",
   "execution_count": null,
   "id": "531dde3c-63d3-4498-8550-496575fc4cce",
   "metadata": {
    "tags": []
   },
   "outputs": [],
   "source": [
    "m[f\"Cum_Custom_RealizedPnL\"] = tt.agg.sum(\n",
    "    m[\"RealizedPnL\"], scope=tt.CumulativeScope(level=l[\"Custom_bucket\"])\n",
    ")"
   ]
  },
  {
   "cell_type": "code",
   "execution_count": null,
   "id": "f6d35880-ceaa-4c61-b468-cd10252f5099",
   "metadata": {
    "atoti": {
     "widget": {
      "mapping": {
       "horizontalSubplots": [],
       "secondaryValues": [],
       "splitBy": [
        "ALL_MEASURES",
        "[Transaction].[Action].[Action]"
       ],
       "values": [
        "[Measures].[contributors.COUNT]"
       ],
       "verticalSubplots": [
        "[Transaction].[AccountSuffix].[AccountSuffix]"
       ],
       "xAxis": [
        "[TimeBucket].[Custom_bucket].[Custom_bucket]"
       ]
      },
      "name": "Number of transactions by custom time buckets",
      "query": {
       "mdx": "SELECT NON EMPTY Hierarchize(Descendants({[TimeBucket].[Custom_bucket].[ALL].[AllMember]}, 1, SELF_AND_BEFORE)) ON ROWS, NON EMPTY Crossjoin({[Measures].[contributors.COUNT]}, Hierarchize(Descendants({[Transaction].[Action].[ALL].[AllMember]}, 1, SELF_AND_BEFORE)), Hierarchize(Descendants({[Transaction].[AccountSuffix].[ALL].[AllMember]}, 1, SELF_AND_BEFORE))) ON COLUMNS FROM [TxnCube] CELL PROPERTIES VALUE, FORMATTED_VALUE, BACK_COLOR, FORE_COLOR, FONT_FLAGS",
       "updateMode": "once"
      },
      "serverKey": "default",
      "widgetKey": "plotly-line-chart"
     }
    }
   },
   "outputs": [],
   "source": [
    "session.widget"
   ]
  },
  {
   "cell_type": "markdown",
   "id": "570e8ca3-4ed2-4f2a-972a-4aa61d432565",
   "metadata": {
    "editable": true,
    "slideshow": {
     "slide_type": ""
    },
    "tags": []
   },
   "source": [
    "### 4.3 Price bucketing\n",
    "\n",
    "Similarly, by joining the price bucket data to the base table, we can now view our data by our predefined price buckets."
   ]
  },
  {
   "cell_type": "code",
   "execution_count": null,
   "id": "47fa1b37-abbb-46d5-a75e-61623a0bb2f3",
   "metadata": {
    "editable": true,
    "slideshow": {
     "slide_type": ""
    },
    "tags": []
   },
   "outputs": [],
   "source": [
    "data_model.enrich_cube(session)\n",
    "data_model.create_measures(session)"
   ]
  },
  {
   "cell_type": "code",
   "execution_count": null,
   "id": "c95f6820-ee92-403b-ab44-483333a2cf27",
   "metadata": {},
   "outputs": [],
   "source": [
    "hist_pricing_tbl = session.tables[\"HistoricalPricing\"]\n",
    "hist_pricing_tbl.head()"
   ]
  },
  {
   "cell_type": "code",
   "execution_count": null,
   "id": "0dace01a-2b0d-4040-ab6c-5e5954ade6c3",
   "metadata": {},
   "outputs": [],
   "source": [
    "sector_tbl = session.tables[\"Sector\"]\n",
    "sector_tbl.head()"
   ]
  },
  {
   "cell_type": "code",
   "execution_count": null,
   "id": "93f6f40b-455a-4f75-9bd3-7f636922bb5c",
   "metadata": {},
   "outputs": [],
   "source": [
    "session.tables.schema"
   ]
  },
  {
   "cell_type": "code",
   "execution_count": null,
   "id": "7ade71c8-4432-49c3-ad66-ef6f6aaa7787",
   "metadata": {
    "atoti": {
     "widget": {
      "mapping": {
       "horizontalSubplots": [
        "[Transaction].[MAV_Strategy].[MAV_Strategy]"
       ],
       "secondaryValues": [],
       "splitBy": [
        "[HistoricalPricing].[Price Bucket].[Price Bucket]",
        "ALL_MEASURES"
       ],
       "values": [
        "[Measures].[Cum_Timestamp_RealizedPnL]"
       ],
       "verticalSubplots": [],
       "xAxis": [
        "[Transaction].[Timestamp].[Timestamp]"
       ]
      },
      "name": "Realized PnL by price buckets",
      "query": {
       "mdx": "SELECT NON EMPTY Hierarchize(Descendants({[Transaction].[Timestamp].[ALL].[AllMember]}, 1, SELF_AND_BEFORE)) ON ROWS, NON EMPTY Crossjoin(Hierarchize(Descendants({[HistoricalPricing].[Price Bucket].[ALL].[AllMember]}, 1, SELF_AND_BEFORE)), {[Measures].[Cum_Timestamp_RealizedPnL]}, Hierarchize(Descendants({[Transaction].[MAV_Strategy].[ALL].[AllMember]}, 1, SELF_AND_BEFORE))) ON COLUMNS FROM [TxnCube] CELL PROPERTIES VALUE, FORMATTED_VALUE, BACK_COLOR, FORE_COLOR, FONT_FLAGS",
       "updateMode": "once"
      },
      "serverKey": "default",
      "widgetKey": "plotly-line-chart"
     }
    },
    "editable": true,
    "slideshow": {
     "slide_type": ""
    },
    "tags": []
   },
   "outputs": [],
   "source": [
    "session.widget"
   ]
  },
  {
   "cell_type": "markdown",
   "id": "45d8810f-e3c3-4fe5-8e29-9bd5fe872dce",
   "metadata": {
    "editable": true,
    "slideshow": {
     "slide_type": ""
    },
    "tags": []
   },
   "source": [
    "## 5. Loading Additional Transactions\n",
    "\n",
    "Once we have our data model established, we can upload the transactions of different strategies incrementally to the cube without having to restart. We can keep our train of thought without having to go back to the code base again.  \n",
    "\n",
    "Below, we demonstrate how we can have interactive data loading in the notebook using [ipywidgets](https://ipywidgets.readthedocs.io/en/stable/)."
   ]
  },
  {
   "cell_type": "code",
   "execution_count": null,
   "id": "85086019-9aaf-4610-9d83-ab49941d9a66",
   "metadata": {},
   "outputs": [],
   "source": [
    "from ipywidgets import FileUpload, Output, FloatProgress\n",
    "from IPython.display import display\n",
    "import pandas as pd\n",
    "import io"
   ]
  },
  {
   "cell_type": "code",
   "execution_count": null,
   "id": "1a18f7e4-fc83-4ed9-be78-c83283429f80",
   "metadata": {
    "tags": []
   },
   "outputs": [],
   "source": [
    "out = Output()\n",
    "fp = FloatProgress(min=0, max=2)"
   ]
  },
  {
   "cell_type": "code",
   "execution_count": null,
   "id": "1fc9ccb9-345c-4b3e-87ee-f261c9f42316",
   "metadata": {
    "tags": []
   },
   "outputs": [],
   "source": [
    "@out.capture()\n",
    "def on_upload_change(change):\n",
    "    out.clear_output()\n",
    "    display(fp)\n",
    "    print(\"Uploading file for\", change[\"new\"][0].name)\n",
    "\n",
    "    fp.value = 0\n",
    "    print(\"- Reading file\")\n",
    "    input_file = list(change[\"new\"])[0]\n",
    "    content = input_file[\"content\"]\n",
    "    df = pd.read_csv(io.BytesIO(content))\n",
    "\n",
    "    # Atoti inherits the data type from Pandas DataFrame.\n",
    "    # Hence, we cast the data type before loading into the table.\n",
    "    df[[\"DateTime\", \"PurchaseDate\", \"Timestamp\"]] = df[\n",
    "        [\"DateTime\", \"PurchaseDate\", \"Timestamp\"]\n",
    "    ].astype(str)\n",
    "    df[\"Date\"] = pd.to_datetime(df[\"Date\"]).dt.date\n",
    "\n",
    "    print(\"data type of file loaded:\")\n",
    "    print(df.dtypes)\n",
    "\n",
    "    fp.value = 1\n",
    "\n",
    "    print(\"-- loading into transaction table\")\n",
    "    data_model.load_transactions(session, df)\n",
    "    fp.value = 2\n",
    "\n",
    "    displayFileLoader()"
   ]
  },
  {
   "cell_type": "code",
   "execution_count": null,
   "id": "ae788270-fa6a-4bf7-bb69-5431d96b47b8",
   "metadata": {
    "tags": []
   },
   "outputs": [],
   "source": [
    "def displayFileLoader():\n",
    "    uploader = widgets.FileUpload(\n",
    "        accept=\".csv\",\n",
    "        multiple=False,\n",
    "    )\n",
    "\n",
    "    uploader.observe(on_upload_change, \"value\")\n",
    "    with out:\n",
    "        display(uploader)"
   ]
  },
  {
   "cell_type": "markdown",
   "id": "cbd057cf-29fc-44d5-a752-9f15b35e05c7",
   "metadata": {},
   "source": [
    "We will be able to load new transaction data for the cube as long as it follows the same columns and their data types. Download this [sample transaction file](https://data.atoti.io/notebooks/bucket-exploration/transactions_c.csv) and try loading it with the below function."
   ]
  },
  {
   "cell_type": "code",
   "execution_count": null,
   "id": "1b2b5b51-5782-49de-893c-e329311fe8d3",
   "metadata": {
    "tags": []
   },
   "outputs": [],
   "source": [
    "displayFileLoader()\n",
    "out"
   ]
  },
  {
   "cell_type": "markdown",
   "id": "b9e1464d-f89a-4f36-a30f-4fc356345054",
   "metadata": {},
   "source": [
    "We are now able to access the latest data! If you are loading the [sample transaction file](https://data.atoti.io/notebooks/bucket-exploration/transactions_c.csv) provided, switch the below cell to code and run it to see the difference between the two strategy."
   ]
  },
  {
   "cell_type": "raw",
   "id": "2d4cbf1d-6be9-4256-9284-32ad656d61fb",
   "metadata": {
    "atoti": {
     "widget": {
      "filters": [],
      "mapping": {
       "horizontalSubplots": [
        "[Transaction].[Strategy].[Strategy]"
       ],
       "secondaryValues": [],
       "splitBy": [
        "ALL_MEASURES"
       ],
       "values": [
        "[Measures].[Cum_Date_RealizedPnL]"
       ],
       "verticalSubplots": [
        "[Transaction].[AccountSuffix].[AccountSuffix]"
       ],
       "xAxis": [
        "[Transaction].[Date].[Date]"
       ]
      },
      "query": {
       "mdx": "SELECT NON EMPTY Hierarchize(Descendants({[Transaction].[Date].[ALL].[AllMember]}, 1, SELF_AND_BEFORE)) ON ROWS, NON EMPTY Crossjoin({[Measures].[Cum_Date_RealizedPnL]}, Hierarchize(Descendants({[Transaction].[Strategy].[ALL].[AllMember]}, 1, SELF_AND_BEFORE)), Hierarchize(Descendants({[Transaction].[AccountSuffix].[ALL].[AllMember]}, 1, SELF_AND_BEFORE))) ON COLUMNS FROM [TxnCube] CELL PROPERTIES VALUE, FORMATTED_VALUE, BACK_COLOR, FORE_COLOR, FONT_FLAGS",
       "updateMode": "once"
      },
      "serverKey": "default",
      "widgetKey": "plotly-line-chart"
     }
    }
   },
   "source": [
    "session.widget"
   ]
  },
  {
   "cell_type": "markdown",
   "id": "c8b13220-e7f2-4ff9-a54b-966a8403c431",
   "metadata": {},
   "source": [
    "## 6. Interactive Exploration"
   ]
  },
  {
   "cell_type": "markdown",
   "id": "53a94b34-795e-463b-a3f3-a0e4f130ca1e",
   "metadata": {},
   "source": [
    "Access the below dashboard to see how we can permutate across different dimensions to gather different insights. Play with the filters to dive in a particular account, sector or strategy!"
   ]
  },
  {
   "cell_type": "code",
   "execution_count": null,
   "id": "e3edbd99-3790-4701-affe-46386d4769e0",
   "metadata": {
    "editable": true,
    "slideshow": {
     "slide_type": ""
    },
    "tags": []
   },
   "outputs": [],
   "source": [
    "session.link / \"#/dashboard/11d\""
   ]
  },
  {
   "cell_type": "markdown",
   "id": "2312dff0-34c6-4b57-b3ac-7f6279dc87f5",
   "metadata": {},
   "source": [
    "<div style=\"text-align: center;\" ><a href=\"https://www.atoti.io/?utm_source=gallery&utm_content=bucket-analysis\" target=\"_blank\" rel=\"noopener noreferrer\"><img src=\"https://data.atoti.io/notebooks/banners/Your-turn-to-try-Atoti.jpg\" alt=\"Try atoti\"></a></div>"
   ]
  }
 ],
 "metadata": {
  "kernelspec": {
   "display_name": "Python 3 (ipykernel)",
   "language": "python",
   "name": "python3"
  },
  "language_info": {
   "codemirror_mode": {
    "name": "ipython",
    "version": 3
   },
   "file_extension": ".py",
   "mimetype": "text/x-python",
   "name": "python",
   "nbconvert_exporter": "python",
   "pygments_lexer": "ipython3",
   "version": "3.10.15"
  },
  "widgets": {
   "application/vnd.jupyter.widget-state+json": {
    "state": {},
    "version_major": 2,
    "version_minor": 0
   }
  }
 },
 "nbformat": 4,
 "nbformat_minor": 5
}
