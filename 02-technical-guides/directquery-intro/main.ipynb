{
 "cells": [
  {
   "cell_type": "markdown",
   "id": "ac3fbb12-82a8-4e9f-aa4e-e1ad414ce283",
   "metadata": {},
   "source": [
    "# DirectQuery: Combining Atoti and Data Warehouses"
   ]
  },
  {
   "cell_type": "markdown",
   "id": "a671e16d-c06b-432f-92c6-5b2d2f7043bd",
   "metadata": {},
   "source": [
    "We know Atoti provides in-memory analytics for big data. This means that we hold data in memory and perform aggregation on the fly in order to achieve fast and dynamic computations. In our usual Atoti setup, the hosting server requires a memory size that's about 1.5 times of the amount of data that gets loaded into the cube. However, with Atoti's DirectQuery, we can better support our users who store their data on the cloud! In fact, it applies for on-premise databases such as [ClickHouse](https://clickhouse.com/clickhouse) and [Microsoft SQL Server](https://www.microsoft.com/en-sg/sql-server/sql-server-downloads) too.  \n",
    "\n",
    "<img src=\"https://data.atoti.io/notebooks/direct-query/img/cost_vs_performance.png\" width=\"850px\"/>\n",
    "\n",
    "In a gist, here's what DirectQuery offers:  \n",
    "\n",
    "- Scalability\n",
    "\n",
    "> Leveraging the scalability of cloud data warehouse, the server that hosts Atoti only has to take into consideration the amount of data that gets queried on a daily basis.  \n",
    "> Instead of storing all of the data in physical memory, DirectQuery enables us to query the Cloud database directly, reducing the need for memory in the hosting server.  \n",
    "\n",
    "- Cost savings\n",
    "\n",
    "> Other than saving on the memory required for the hosting server, DirectQuery helps to save on the data transfer costs.  \n",
    "> While cloud data warehouse is cost-effective, we incur costs when we perform queries.  \n",
    "> We can reduce querying to the Cloud database by loading an aggregated cache in memory for the most frequently queried data.  \n",
    "\n",
    "- Technology agnosticism\n",
    "\n",
    "> With changes to only a few lines of data connectivity code in Atoti, we can easily switch from one Cloud service provider to another without impacting the Atoti server.  \n",
    "> We can even switch over to other data connectors such as physical files.  \n",
    "\n",
    "\n",
    "This notebook provides a quick introduction to how we can connect to Google BigQuery and create an Atoti cube."
   ]
  },
  {
   "cell_type": "markdown",
   "id": "f23aeb88-5455-44ee-892d-4aa7fc2dbfb7",
   "metadata": {},
   "source": [
    "<div style=\"text-align: center;\" ><a href=\"https://www.atoti.io/?utm_source=gallery&utm_content=directquery-intro\" target=\"_blank\" rel=\"noopener noreferrer\"><img src=\"https://data.atoti.io/notebooks/banners/Discover-Atoti-now.png\" alt=\"Try Atoti\"></a></div>"
   ]
  },
  {
   "cell_type": "markdown",
   "id": "663b2051-11e1-4815-8a2c-fde3d450d07b",
   "metadata": {},
   "source": [
    "## Google BigQuery configuration"
   ]
  },
  {
   "cell_type": "markdown",
   "id": "1db76b03-dbe0-4223-a656-8b7e9e2ff260",
   "metadata": {},
   "source": [
    "### Step 1 — Create role with permissions\n",
    "\n",
    "- Login to Google Cloud console.\n",
    "- Navigate to __IAM & Admin__ > __Roles__.  \n",
    "- Create a role with the following permission for the DirectQuery users:  \n",
    "    - `bigquery.datasets.get`\n",
    "    - `bigquery.jobs.create`\n",
    "    - `bigquery.readsessions.create`\n",
    "    - `bigquery.readsessions.getData`\n",
    "    - `bigquery.readsessions.update`\n",
    "    - `bigquery.routines.get`\n",
    "    - `bigquery.tables.get`\n",
    "    - `bigquery.tables.getData`\n",
    "    - `bigquery.tables.list`\n",
    "\n",
    "⚠️ **Important:** Having trouble pulling your data after setting up your account? Confirm that the above permissions have been set up properly!  \n",
    "\n",
    "<img src=\"https://data.atoti.io/notebooks/direct-query/img/bigquery_permission.png\" />\n",
    "\n",
    "💡 **Note:** For more details, refer to the [Atoti Server documentation](https://docs.activeviam.com/products/atoti/server/latest/docs/directquery/connect_to_external/connect_to_bigquery/)."
   ]
  },
  {
   "cell_type": "markdown",
   "id": "2143280e-d2b0-4da1-b20d-78af65d26753",
   "metadata": {},
   "source": [
    "### Step 2 — Create Service Account\n",
    "\n",
    "* Under **IAM & Admin**, navigate to **Service Accounts**.\n",
    "* Create a service account and assign the role created in Step 1.\n",
    "\n",
    "    <img src=\"https://data.atoti.io/notebooks/direct-query/img/service_account.png\" width=\"700px\"/>  "
   ]
  },
  {
   "cell_type": "markdown",
   "id": "03e75ceb-055a-4986-aa8d-6858422b260a",
   "metadata": {
    "tags": []
   },
   "source": [
    "### Step 3 — Generate API Key \n",
    "\n",
    "- Navigate to the __KEYS__ tab and generate a new key.  \n",
    "\n",
    "    <img src=\"https://data.atoti.io/notebooks/direct-query/img/create_key.png\" />  \n",
    "\n",
    "- Select `JSON` as key type and save the downloaded key to a server folder:  \n",
    "\n",
    "    <img src=\"https://data.atoti.io/notebooks/direct-query/img/json_key.png\" />\n",
    "\n",
    "- Configure environment variable pointing to the JSON key. In this use case, our environment variable is `DQ_GOOGLE_CREDENTIAL`:  \n",
    "\n",
    "    <img src=\"https://data.atoti.io/notebooks/direct-query/img/environment_variable.png\" />  \n",
    "\n",
    "💡 **Note:** Alternatively, we can set up [Application Default Credentials](https://cloud.google.com/docs/authentication/provide-credentials-adc) for authentication.  "
   ]
  },
  {
   "cell_type": "markdown",
   "id": "95e30413-d630-4b1b-a304-d824e9649c3d",
   "metadata": {},
   "source": [
    "## Database set up  \n",
    "\n",
    "To try out this notebook, you can setup the database schema and tables using the [database script](db_schema.sql) in the use case folder.  "
   ]
  },
  {
   "cell_type": "markdown",
   "id": "fcfd6d72-801a-460c-9e1f-4e0843909442",
   "metadata": {},
   "source": [
    "## Atoti Setup"
   ]
  },
  {
   "cell_type": "markdown",
   "id": "8857ebb1-032f-4b69-84e6-b8cf7e431def",
   "metadata": {},
   "source": [
    "We import [Atoti](https://docs.atoti.io/latest/getting_started/installation.html) library and create the [Atoti Session](https://docs.atoti.io/latest/api/atoti.Session.html#atoti.Session) as we always do.  "
   ]
  },
  {
   "cell_type": "code",
   "execution_count": 1,
   "id": "7d97f0ea-5b39-4c60-9a10-1cae5a22616d",
   "metadata": {
    "tags": []
   },
   "outputs": [],
   "source": [
    "import os\n",
    "import atoti as tt"
   ]
  },
  {
   "cell_type": "code",
   "execution_count": 2,
   "id": "3898f076-a031-49b7-a75f-074008d89a26",
   "metadata": {
    "tags": []
   },
   "outputs": [],
   "source": [
    "session = tt.Session.start()"
   ]
  },
  {
   "cell_type": "markdown",
   "id": "9e855ec8-18bb-46fa-8e99-751edafeb94c",
   "metadata": {},
   "source": [
    "## DirectQuery Prerequisites"
   ]
  },
  {
   "cell_type": "markdown",
   "id": "01a8923b-80b3-4bfd-86a0-2d705d4bb805",
   "metadata": {},
   "source": [
    "DirectQuery supports a few [databases](https://docs.atoti.io/latest/reference.html#directquery). For each of these databases, we have to install its respective Python plugin.  \n",
    "- `atoti-directquery-bigquery` : To use DirectQuery on Google BigQuery.\n",
    "- `atoti-directquery-clickhouse` : To use DirectQuery with ClickHouse.\n",
    "- `atoti-directquery-databricks` : To use DirectQuery on Databricks.\n",
    "- `atoti-directquery-mssql` : To use DirectQuery with Microsoft SQL Server.\n",
    "- `atoti-directquery-redshift` : To use DirectQuery on Amazon Redshift.\n",
    "- `atoti-directquery-snowflake` : To use DirectQuery on Snowflake.\n",
    "- `atoti-directquery-synapse` : To use DirectQuery on Azure Synapse Analytics.  \n",
    "\n",
    "In our example, we install the plugin for Google BigQuery. Uncomment the below line to install the plugin if it isn't installed.  \n",
    "\n",
    "⚠️ **Important:** We only support one type of database connection per Atoti session."
   ]
  },
  {
   "cell_type": "code",
   "execution_count": 3,
   "id": "af8780d7-ec54-481a-98d7-4cc9f7e030c1",
   "metadata": {
    "tags": []
   },
   "outputs": [],
   "source": [
    "# !uv pip install \"atoti[directquery-bigquery]\""
   ]
  },
  {
   "cell_type": "markdown",
   "id": "1d997a63-e2db-48f9-b501-0532c5eabb3d",
   "metadata": {},
   "source": [
    "We will be using two components from the DirectQueryPlugin:\n",
    "- [BigqueryConnectionInfo](https://docs.atoti.io/latest/api/atoti_directquery_bigquery.BigqueryConnectionInfo.html#atoti_directquery_bigquery.BigqueryConnectionInfo): Configure the connection information to BigQuery.\n",
    "- [BigqueryTableOptions](https://docs.atoti.io/latest/api/atoti_directquery_bigquery.BigqueryTableOptions.html#atoti_directquery_bigquery.BigqueryTableOptions): Configure the table options about the external table to create in Atoti.  \n",
    "\n",
    "⚠️ **Important:** Use the corresponding components for different databases if we are using a different one from BigQuery. E.g. we use [`ClickhouseConnectionInfo`](https://docs.atoti.io/latest/api/atoti_directquery_clickhouse.ClickhouseConnectionInfo.html#atoti_directquery_clickhouse.ClickhouseConnectionInfo) and [`ClickhouseTableOptions`](https://docs.atoti.io/latest/api/atoti_directquery_clickhouse.ClickhouseTableOptions.html#atoti_directquery_clickhouse.ClickhouseTableOptions) if we are connecting to [ClickHouse](https://clickhouse.com/)."
   ]
  },
  {
   "cell_type": "markdown",
   "id": "4509d71b-4d1b-4297-b18a-10430b128507",
   "metadata": {},
   "source": [
    "## Connection setup to Google BigQuery"
   ]
  },
  {
   "cell_type": "code",
   "execution_count": 4,
   "id": "f5eb2f90-be60-4332-80d2-1a5cd83147d4",
   "metadata": {
    "tags": []
   },
   "outputs": [],
   "source": [
    "from atoti_directquery_bigquery import ConnectionConfig"
   ]
  },
  {
   "cell_type": "markdown",
   "id": "00b90385-93af-479f-888a-bc0677f73eb2",
   "metadata": {},
   "source": [
    "In the below snippet, we use the environment variable to obtain the path to the [API key generated previous in Step 3](#Step-3-—-Generate-API-Key). Setting the credential path into `BigqueryConnectionInfo`, we can invoke the connection to the external database.  "
   ]
  },
  {
   "cell_type": "code",
   "execution_count": 5,
   "id": "ea50d105-284f-4296-b654-b5465037d634",
   "metadata": {
    "tags": []
   },
   "outputs": [],
   "source": [
    "credential = os.environ[\"DQ_GOOGLE_CREDENTIAL\"]\n",
    "connection_info = ConnectionConfig(credentials=credential)\n",
    "\n",
    "external_database = session.connect_to_external_database(connection_info)"
   ]
  },
  {
   "cell_type": "markdown",
   "id": "8e7f4c10-5dc6-4c53-aeea-ef4864471caf",
   "metadata": {},
   "source": [
    "### Discover External Tables"
   ]
  },
  {
   "cell_type": "markdown",
   "id": "51f3c2ee-c57b-49df-9756-60c96d9b0734",
   "metadata": {
    "tags": []
   },
   "source": [
    "Once connected, we can discover the tables available to us from the external database."
   ]
  },
  {
   "cell_type": "code",
   "execution_count": 6,
   "id": "5e85bd6f-dd6a-4ab8-a2f2-51d7759466de",
   "metadata": {
    "tags": []
   },
   "outputs": [
    {
     "data": {
      "application/json": {
       "bd-project-386413": {
        "fpna_demo": [
         "amount",
         "amount_details",
         "bsg",
         "entity",
         "ftp_type",
         "fv",
         "fx_local",
         "geo",
         "gl_account",
         "gl_acct",
         "product",
         "scenario",
         "source_account",
         "source_acct",
         "source_mis",
         "standard_org",
         "taxonomy",
         "ucoa"
        ],
        "tutorial": [
         "PRODUCTS",
         "SALES"
        ],
        "var_demo": [
         "BOOKS",
         "TRADE_PNLS"
        ]
       }
      },
      "text/html": [
       "<ul>\n",
       "<li>BIGQUERY\n",
       "  <ul>\n",
       "  <li>bd-project-386413\n",
       "    <ul>\n",
       "    <li>fpna_demo\n",
       "      <ol>\n",
       "      <li>amount</li>\n",
       "      <li>amount_details</li>\n",
       "      <li>bsg</li>\n",
       "      <li>entity</li>\n",
       "      <li>ftp_type</li>\n",
       "      <li>fv</li>\n",
       "      <li>fx_local</li>\n",
       "      <li>geo</li>\n",
       "      <li>gl_account</li>\n",
       "      <li>gl_acct</li>\n",
       "      <li>product</li>\n",
       "      <li>scenario</li>\n",
       "      <li>source_account</li>\n",
       "      <li>source_acct</li>\n",
       "      <li>source_mis</li>\n",
       "      <li>standard_org</li>\n",
       "      <li>taxonomy</li>\n",
       "      <li>ucoa</li>\n",
       "      </ol>    </li>\n",
       "    <li>tutorial\n",
       "      <ol>\n",
       "      <li>PRODUCTS</li>\n",
       "      <li>SALES</li>\n",
       "      </ol>    </li>\n",
       "    <li>var_demo\n",
       "      <ol>\n",
       "      <li>BOOKS</li>\n",
       "      <li>TRADE_PNLS</li>\n",
       "      </ol>    </li>\n",
       "    </ul>\n",
       "  </li>\n",
       "  </ul>\n",
       "</li>\n",
       "</ul>\n"
      ],
      "text/plain": [
       "<atoti.directquery.external_tables.ExternalTables at 0x136e29ed0>"
      ]
     },
     "execution_count": 6,
     "metadata": {
      "application/json": {
       "expanded": false,
       "root": "BIGQUERY"
      }
     },
     "output_type": "execute_result"
    }
   ],
   "source": [
    "external_database.tables"
   ]
  },
  {
   "cell_type": "markdown",
   "id": "4187eaef-cae3-44ca-80c1-dd952dd3faab",
   "metadata": {},
   "source": [
    "If the database has many schemas, we can perform a filter to access only the schema that we want."
   ]
  },
  {
   "cell_type": "code",
   "execution_count": 7,
   "id": "63c5fafe-05e1-429e-8f35-9f3f072e34f7",
   "metadata": {
    "tags": []
   },
   "outputs": [
    {
     "data": {
      "application/json": {
       "bd-project-386413": {
        "tutorial": [
         "PRODUCTS",
         "SALES"
        ]
       }
      },
      "text/html": [
       "<ul>\n",
       "<li>BIGQUERY\n",
       "  <ul>\n",
       "  <li>bd-project-386413\n",
       "    <ul>\n",
       "    <li>tutorial\n",
       "      <ol>\n",
       "      <li>PRODUCTS</li>\n",
       "      <li>SALES</li>\n",
       "      </ol>    </li>\n",
       "    </ul>\n",
       "  </li>\n",
       "  </ul>\n",
       "</li>\n",
       "</ul>\n"
      ],
      "text/plain": [
       "<atoti.directquery.external_tables.ExternalTables at 0x136e38a10>"
      ]
     },
     "execution_count": 7,
     "metadata": {
      "application/json": {
       "expanded": false,
       "root": "BIGQUERY"
      }
     },
     "output_type": "execute_result"
    }
   ],
   "source": [
    "external_database.tables._filter(schema_name=\"tutorial\")"
   ]
  },
  {
   "cell_type": "markdown",
   "id": "f1308a2c-a4d2-40e5-9985-7013fa05a9fb",
   "metadata": {},
   "source": [
    "### Discover Table Columns"
   ]
  },
  {
   "cell_type": "markdown",
   "id": "e72119a9-ed38-4d83-a8a5-1fe021b48e5c",
   "metadata": {},
   "source": [
    "If a table name is unique in the database, we can check its structure directly using its name:  "
   ]
  },
  {
   "cell_type": "code",
   "execution_count": 8,
   "id": "f91519b6-a36b-4f0c-b1f0-949b0be22d5f",
   "metadata": {
    "tags": []
   },
   "outputs": [
    {
     "data": {
      "application/json": {
       "DATE": "LocalDate",
       "PRODUCT": "String",
       "QUANTITY": "long",
       "SALE_ID": "String",
       "SHOP": "String",
       "UNIT_PRICE": "double"
      },
      "text/html": [
       "<ul>\n",
       "<li>SALES\n",
       "  <ul>\n",
       "  <li>SALE_ID: String</li>\n",
       "  <li>DATE: LocalDate</li>\n",
       "  <li>SHOP: String</li>\n",
       "  <li>PRODUCT: String</li>\n",
       "  <li>QUANTITY: long</li>\n",
       "  <li>UNIT_PRICE: double</li>\n",
       "  </ul>\n",
       "</li>\n",
       "</ul>\n"
      ],
      "text/plain": [
       "<atoti.directquery.external_table.ExternalTable at 0x136e3add0>"
      ]
     },
     "execution_count": 8,
     "metadata": {
      "application/json": {
       "expanded": true,
       "root": "SALES"
      }
     },
     "output_type": "execute_result"
    }
   ],
   "source": [
    "external_database.tables[\"SALES\"]"
   ]
  },
  {
   "cell_type": "markdown",
   "id": "1d9ef3fb-85a5-472b-aa12-8a88e3d1e6d9",
   "metadata": {},
   "source": [
    "However, to be precise, it is a good practice to refer to the table using its database, schema and table names. Uncomment and execute the following cells as to try this out."
   ]
  },
  {
   "cell_type": "code",
   "execution_count": 9,
   "id": "247c876c-2b44-4b0f-8bcf-8864350bb3d6",
   "metadata": {
    "tags": []
   },
   "outputs": [],
   "source": [
    "# db_name = \"<database name here>\"\n",
    "# db_schema = \"tutorial\"\n",
    "# table_sales = \"SALES\""
   ]
  },
  {
   "cell_type": "code",
   "execution_count": 10,
   "id": "fbfde589-b458-474d-8665-af7b016598bc",
   "metadata": {
    "tags": []
   },
   "outputs": [],
   "source": [
    "# external_database.tables[db_name, db_schema, table_sales]"
   ]
  },
  {
   "cell_type": "markdown",
   "id": "85d14ebe-eb8a-4216-8564-8330b4b7b0d9",
   "metadata": {},
   "source": [
    "## Add External Table to Atoti"
   ]
  },
  {
   "cell_type": "markdown",
   "id": "8fa1b581-ee16-4730-8ea2-b29fa14ee03a",
   "metadata": {},
   "source": [
    "Since we have connected to the external database and we are able to see its structure, we can add the required tables to the Atoti session.  \n",
    "\n",
    "Using [BigqueryTableOptions](https://docs.atoti.io/latest/api/atoti_directquery_bigquery.BigqueryTableOptions.html#atoti_directquery_bigquery.BigqueryTableOptions), we can define additional options to the table that we will create in Atoti:\n",
    "\n",
    "- `array_conversion`: Converting values spread over multiple columns into array columns.\n",
    "- `clustering_columns`: Columns used for splitting up queries.\n",
    "- `keys`: Keys used to identify unique rows for updating of data.\n",
    "\n",
    "We will only use `keys` and `clustering_columns` in our example."
   ]
  },
  {
   "cell_type": "code",
   "execution_count": 11,
   "id": "7dab34b4-ca6f-4c80-8ba9-f8534f9eae5b",
   "metadata": {
    "tags": []
   },
   "outputs": [],
   "source": [
    "from atoti_directquery_bigquery import TableConfig"
   ]
  },
  {
   "cell_type": "markdown",
   "id": "790b7a07-c762-438a-878e-de3611f39b5c",
   "metadata": {},
   "source": [
    "Similar to how we create keys for Atoti tables, we set the key columns in the `BigqueryTableOptions`. Note that this external table is created in Atoti and the defined keys affects only the data that is accessible in Atoti. It does not change the tables in BigQuery.  \n",
    "\n",
    "To distinguish our Atoti external table from the BigQuery table, we named them differently in our example.  "
   ]
  },
  {
   "cell_type": "code",
   "execution_count": 12,
   "id": "a580d644-94e0-4772-ac94-a9600bc08546",
   "metadata": {
    "tags": []
   },
   "outputs": [],
   "source": [
    "sales_table = session.add_external_table(\n",
    "    external_database.tables[\"SALES\"],\n",
    "    table_name=\"Atoti Sales\",\n",
    "    config=TableConfig(keys=[\"SALE_ID\"], clustering_columns={\"DATE\", \"PRODUCT\"}),\n",
    ")"
   ]
  },
  {
   "cell_type": "markdown",
   "id": "ac9b4de4-60f9-45d9-8b87-e7d0452714ee",
   "metadata": {},
   "source": [
    "To speed up querying, Atoti makes use of [aggregate providers](https://docs.atoti.io/latest/api/atoti.AggregateProvider.html#atoti.AggregateProvider) to pre-aggregates some table columns up to certain levels. Feeding such providers from an external database can result in very large queries to be run on the database. Some databases can have trouble processing such large queries. Therefore, we define [clustering columns](https://docs.activeviam.com/products/atoti/server/latest/docs/directquery/directquery-clustering-fields/) to help split up queries made by DirectQuery to these external database when feeding the aggregate providers.  \n",
    "\n",
    "The `clustering_columns` parameter allows us to define columns to be used for clustering. While our example uses a small dataset and clustering column is not necessary, we demonstrate how it can be used in the snippet above.  "
   ]
  },
  {
   "cell_type": "code",
   "execution_count": 13,
   "id": "561e7c19-28cc-4796-918b-24de800147a7",
   "metadata": {
    "tags": []
   },
   "outputs": [
    {
     "data": {
      "text/html": [
       "<div>\n",
       "<style scoped>\n",
       "    .dataframe tbody tr th:only-of-type {\n",
       "        vertical-align: middle;\n",
       "    }\n",
       "\n",
       "    .dataframe tbody tr th {\n",
       "        vertical-align: top;\n",
       "    }\n",
       "\n",
       "    .dataframe thead th {\n",
       "        text-align: right;\n",
       "    }\n",
       "</style>\n",
       "<table border=\"1\" class=\"dataframe\">\n",
       "  <thead>\n",
       "    <tr style=\"text-align: right;\">\n",
       "      <th></th>\n",
       "      <th>DATE</th>\n",
       "      <th>SHOP</th>\n",
       "      <th>PRODUCT</th>\n",
       "      <th>QUANTITY</th>\n",
       "      <th>UNIT_PRICE</th>\n",
       "    </tr>\n",
       "    <tr>\n",
       "      <th>SALE_ID</th>\n",
       "      <th></th>\n",
       "      <th></th>\n",
       "      <th></th>\n",
       "      <th></th>\n",
       "      <th></th>\n",
       "    </tr>\n",
       "  </thead>\n",
       "  <tbody>\n",
       "    <tr>\n",
       "      <th>S0010</th>\n",
       "      <td>2022-01-31</td>\n",
       "      <td>shop_2</td>\n",
       "      <td>BED_2</td>\n",
       "      <td>3</td>\n",
       "      <td>150.0</td>\n",
       "    </tr>\n",
       "    <tr>\n",
       "      <th>S0007</th>\n",
       "      <td>2022-02-01</td>\n",
       "      <td>shop_5</td>\n",
       "      <td>BED_2</td>\n",
       "      <td>1</td>\n",
       "      <td>150.0</td>\n",
       "    </tr>\n",
       "    <tr>\n",
       "      <th>S0008</th>\n",
       "      <td>2022-01-31</td>\n",
       "      <td>shop_4</td>\n",
       "      <td>BED_2</td>\n",
       "      <td>1</td>\n",
       "      <td>150.0</td>\n",
       "    </tr>\n",
       "    <tr>\n",
       "      <th>S0009</th>\n",
       "      <td>2022-01-31</td>\n",
       "      <td>shop_3</td>\n",
       "      <td>BED_2</td>\n",
       "      <td>1</td>\n",
       "      <td>150.0</td>\n",
       "    </tr>\n",
       "    <tr>\n",
       "      <th>S0019</th>\n",
       "      <td>2022-02-02</td>\n",
       "      <td>shop_3</td>\n",
       "      <td>HOO_5</td>\n",
       "      <td>1</td>\n",
       "      <td>48.0</td>\n",
       "    </tr>\n",
       "  </tbody>\n",
       "</table>\n",
       "</div>"
      ],
      "text/plain": [
       "              DATE    SHOP PRODUCT  QUANTITY  UNIT_PRICE\n",
       "SALE_ID                                                 \n",
       "S0010   2022-01-31  shop_2   BED_2         3       150.0\n",
       "S0007   2022-02-01  shop_5   BED_2         1       150.0\n",
       "S0008   2022-01-31  shop_4   BED_2         1       150.0\n",
       "S0009   2022-01-31  shop_3   BED_2         1       150.0\n",
       "S0019   2022-02-02  shop_3   HOO_5         1        48.0"
      ]
     },
     "execution_count": 13,
     "metadata": {},
     "output_type": "execute_result"
    }
   ],
   "source": [
    "sales_table.head()"
   ]
  },
  {
   "cell_type": "markdown",
   "id": "dc44214e-743e-4937-9269-61498986355b",
   "metadata": {},
   "source": [
    "We can add multiple tables."
   ]
  },
  {
   "cell_type": "code",
   "execution_count": 14,
   "id": "f282f67a-dfa9-4ba1-aef7-779ec734fe50",
   "metadata": {
    "tags": []
   },
   "outputs": [
    {
     "data": {
      "text/html": [
       "<div>\n",
       "<style scoped>\n",
       "    .dataframe tbody tr th:only-of-type {\n",
       "        vertical-align: middle;\n",
       "    }\n",
       "\n",
       "    .dataframe tbody tr th {\n",
       "        vertical-align: top;\n",
       "    }\n",
       "\n",
       "    .dataframe thead th {\n",
       "        text-align: right;\n",
       "    }\n",
       "</style>\n",
       "<table border=\"1\" class=\"dataframe\">\n",
       "  <thead>\n",
       "    <tr style=\"text-align: right;\">\n",
       "      <th></th>\n",
       "      <th>CATEGORY</th>\n",
       "      <th>SUB_CATEGORY</th>\n",
       "      <th>SIZE</th>\n",
       "      <th>PURCHASE_PRICE</th>\n",
       "      <th>COLOR</th>\n",
       "      <th>BRAND</th>\n",
       "    </tr>\n",
       "    <tr>\n",
       "      <th>PRODUCT_ID</th>\n",
       "      <th></th>\n",
       "      <th></th>\n",
       "      <th></th>\n",
       "      <th></th>\n",
       "      <th></th>\n",
       "      <th></th>\n",
       "    </tr>\n",
       "  </thead>\n",
       "  <tbody>\n",
       "    <tr>\n",
       "      <th>BED_2</th>\n",
       "      <td>Furniture</td>\n",
       "      <td>Bed</td>\n",
       "      <td>Single</td>\n",
       "      <td>127.0</td>\n",
       "      <td>red</td>\n",
       "      <td>Mega</td>\n",
       "    </tr>\n",
       "    <tr>\n",
       "      <th>TAB_1</th>\n",
       "      <td>Furniture</td>\n",
       "      <td>Table</td>\n",
       "      <td>2m40</td>\n",
       "      <td>280.0</td>\n",
       "      <td>white</td>\n",
       "      <td>Mega</td>\n",
       "    </tr>\n",
       "    <tr>\n",
       "      <th>TAB_0</th>\n",
       "      <td>Furniture</td>\n",
       "      <td>Table</td>\n",
       "      <td>1m80</td>\n",
       "      <td>190.0</td>\n",
       "      <td>black</td>\n",
       "      <td>Basic</td>\n",
       "    </tr>\n",
       "    <tr>\n",
       "      <th>HOO_5</th>\n",
       "      <td>Cloth</td>\n",
       "      <td>Hoodie</td>\n",
       "      <td>M</td>\n",
       "      <td>38.0</td>\n",
       "      <td>red</td>\n",
       "      <td>Mega</td>\n",
       "    </tr>\n",
       "    <tr>\n",
       "      <th>TSH_3</th>\n",
       "      <td>Cloth</td>\n",
       "      <td>Tshirt</td>\n",
       "      <td>M</td>\n",
       "      <td>19.0</td>\n",
       "      <td>brown</td>\n",
       "      <td>Over</td>\n",
       "    </tr>\n",
       "  </tbody>\n",
       "</table>\n",
       "</div>"
      ],
      "text/plain": [
       "             CATEGORY SUB_CATEGORY    SIZE  PURCHASE_PRICE  COLOR  BRAND\n",
       "PRODUCT_ID                                                              \n",
       "BED_2       Furniture          Bed  Single           127.0    red   Mega\n",
       "TAB_1       Furniture        Table    2m40           280.0  white   Mega\n",
       "TAB_0       Furniture        Table    1m80           190.0  black  Basic\n",
       "HOO_5           Cloth       Hoodie       M            38.0    red   Mega\n",
       "TSH_3           Cloth       Tshirt       M            19.0  brown   Over"
      ]
     },
     "execution_count": 14,
     "metadata": {},
     "output_type": "execute_result"
    }
   ],
   "source": [
    "products_table = session.add_external_table(\n",
    "    external_database.tables[\"PRODUCTS\"],\n",
    "    table_name=\"Atoti Product\",\n",
    "    config=TableConfig(keys=[\"PRODUCT_ID\"]),\n",
    ")\n",
    "\n",
    "products_table.head()"
   ]
  },
  {
   "cell_type": "markdown",
   "id": "57349699-117a-4cf9-bb95-5910f18d5187",
   "metadata": {},
   "source": [
    "Once we have created our external tables, the rest is _simply the usual stuff for Atoti_."
   ]
  },
  {
   "cell_type": "markdown",
   "id": "564a8bad-9c60-4c7a-b94e-918b5112cfdb",
   "metadata": {
    "tags": []
   },
   "source": [
    "## Atoti Cube Setup"
   ]
  },
  {
   "cell_type": "markdown",
   "id": "2f24568b-71da-4341-a716-f8abdbdce17d",
   "metadata": {
    "tags": []
   },
   "source": [
    "From this section onwards, the coding remains the same regardless of the underlying data source.  \n",
    "\n",
    "As we have always done, we join the tables and create the cube."
   ]
  },
  {
   "cell_type": "code",
   "execution_count": 15,
   "id": "93f6c667-27b6-4e2e-9685-ef275235622c",
   "metadata": {
    "tags": []
   },
   "outputs": [
    {
     "data": {
      "image/png": "[encoded data removed]",
      "text/plain": [
       "erDiagram\n",
       "  \"Atoti Sales\" {\n",
       "    non-null String PK \"SALE_ID\"\n",
       "    non-null LocalDate \"DATE\"\n",
       "    non-null String \"SHOP\"\n",
       "    non-null String \"PRODUCT\"\n",
       "    non-null long \"QUANTITY\"\n",
       "    non-null double \"UNIT_PRICE\"\n",
       "  }\n",
       "  \"Atoti Product\" {\n",
       "    non-null String PK \"PRODUCT_ID\"\n",
       "    non-null String \"CATEGORY\"\n",
       "    non-null String \"SUB_CATEGORY\"\n",
       "    non-null String \"SIZE\"\n",
       "    non-null double \"PURCHASE_PRICE\"\n",
       "    non-null String \"COLOR\"\n",
       "    non-null String \"BRAND\"\n",
       "  }\n",
       "  \"Atoti Sales\" }o--o| \"Atoti Product\" : \"PRODUCT == PRODUCT_ID\""
      ]
     },
     "execution_count": 15,
     "metadata": {},
     "output_type": "execute_result"
    }
   ],
   "source": [
    "sales_table.join(products_table, sales_table[\"PRODUCT\"] == products_table[\"PRODUCT_ID\"])\n",
    "cube = session.create_cube(sales_table)\n",
    "session.tables.schema"
   ]
  },
  {
   "cell_type": "code",
   "execution_count": 16,
   "id": "4ee29cb6-1f57-43f2-b6e7-ad2e72d8abd4",
   "metadata": {
    "atoti": {
     "widget": {
      "mapping": {
       "columns": [
        "ALL_MEASURES"
       ],
       "measures": [
        "[Measures].[QUANTITY.SUM]"
       ],
       "rows": [
        "[Atoti Sales].[DATE].[DATE]",
        "[Atoti Sales].[SHOP].[SHOP] => [Atoti Product].[BRAND].[BRAND]"
       ]
      },
      "name": "Quantity sold across dates by shops",
      "query": {
       "mdx": "SELECT NON EMPTY {[Measures].[QUANTITY.SUM]} ON COLUMNS, NON EMPTY Hierarchize(Union(Crossjoin(Hierarchize(Descendants({[Atoti Sales].[DATE].[AllMember]}, 1, SELF_AND_BEFORE)), Hierarchize(Descendants({[Atoti Sales].[SHOP].[AllMember]}, 1, SELF_AND_BEFORE)), [Atoti Product].[BRAND].DefaultMember), Crossjoin([Atoti Sales].[DATE].[AllMember].[2022-01-31], [Atoti Sales].[SHOP].[AllMember].[shop_2], Hierarchize(Descendants({[Atoti Product].[BRAND].[AllMember]}, 1, SELF_AND_BEFORE))))) ON ROWS FROM [Atoti Sales] CELL PROPERTIES VALUE, FORMATTED_VALUE, BACK_COLOR, FORE_COLOR, FONT_FLAGS",
       "updateMode": "once"
      },
      "serverKey": "default",
      "widgetKey": "pivot-table"
     }
    },
    "tags": []
   },
   "outputs": [
    {
     "data": {
      "application/vnd.atoti.widget.v0+json": {
       "sessionId": "1751467390_958766",
       "sessionUrl": "http://localhost:58802",
       "widgetCreationCode": "session.widget"
      },
      "text/html": [
       "<img height=\"352\" width=\"1160\" src=\"data:image/png;base64,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\" />"
      ],
      "text/plain": [
       "Open the notebook in JupyterLab with the Atoti JupyterLab extension enabled to build this widget."
      ]
     },
     "metadata": {},
     "output_type": "display_data"
    }
   ],
   "source": [
    "session.widget"
   ]
  },
  {
   "cell_type": "markdown",
   "id": "623a5cce-fee4-489b-9250-c5dd542fb708",
   "metadata": {},
   "source": [
    "### Cube manipulation"
   ]
  },
  {
   "cell_type": "markdown",
   "id": "ad616201-0cc7-4012-8e54-66a99c9c1a23",
   "metadata": {},
   "source": [
    "We perform hierarchy manipulation, level ordering and measure creations the same way we always do in Atoti."
   ]
  },
  {
   "cell_type": "code",
   "execution_count": 17,
   "id": "27bebe22-10e5-4b67-9c18-4bb478fef70b",
   "metadata": {
    "tags": []
   },
   "outputs": [],
   "source": [
    "h, l, m = cube.hierarchies, cube.levels, cube.measures"
   ]
  },
  {
   "cell_type": "code",
   "execution_count": 18,
   "id": "fe4aea14-fc25-4a2d-9401-0ce01df385e4",
   "metadata": {
    "tags": []
   },
   "outputs": [],
   "source": [
    "h[\"CATEGORY\"] = [l[\"CATEGORY\"], l[\"SUB_CATEGORY\"]]\n",
    "del h[\"SUB_CATEGORY\"]"
   ]
  },
  {
   "cell_type": "code",
   "execution_count": 19,
   "id": "efc5d476-6465-4ccf-93d3-9f5dfe19df3c",
   "metadata": {
    "tags": []
   },
   "outputs": [
    {
     "data": {
      "application/json": {
       "Atoti Product": {
        "BRAND": [
         "BRAND"
        ],
        "CATEGORY": [
         "CATEGORY",
         "SUB_CATEGORY"
        ],
        "COLOR": [
         "COLOR"
        ],
        "SIZE": [
         "SIZE"
        ]
       },
       "Atoti Sales": {
        "DATE": [
         "DATE"
        ],
        "PRODUCT": [
         "PRODUCT"
        ],
        "SALE_ID": [
         "SALE_ID"
        ],
        "SHOP": [
         "SHOP"
        ]
       }
      },
      "text/html": [
       "<ul>\n",
       "<li>Dimensions\n",
       "  <ul>\n",
       "  <li>Atoti Product\n",
       "    <ul>\n",
       "    <li>BRAND\n",
       "      <ol>\n",
       "      <li>BRAND</li>\n",
       "      </ol>    </li>\n",
       "    <li>CATEGORY\n",
       "      <ol>\n",
       "      <li>CATEGORY</li>\n",
       "      <li>SUB_CATEGORY</li>\n",
       "      </ol>    </li>\n",
       "    <li>COLOR\n",
       "      <ol>\n",
       "      <li>COLOR</li>\n",
       "      </ol>    </li>\n",
       "    <li>SIZE\n",
       "      <ol>\n",
       "      <li>SIZE</li>\n",
       "      </ol>    </li>\n",
       "    </ul>\n",
       "  </li>\n",
       "  <li>Atoti Sales\n",
       "    <ul>\n",
       "    <li>DATE\n",
       "      <ol>\n",
       "      <li>DATE</li>\n",
       "      </ol>    </li>\n",
       "    <li>PRODUCT\n",
       "      <ol>\n",
       "      <li>PRODUCT</li>\n",
       "      </ol>    </li>\n",
       "    <li>SALE_ID\n",
       "      <ol>\n",
       "      <li>SALE_ID</li>\n",
       "      </ol>    </li>\n",
       "    <li>SHOP\n",
       "      <ol>\n",
       "      <li>SHOP</li>\n",
       "      </ol>    </li>\n",
       "    </ul>\n",
       "  </li>\n",
       "  </ul>\n",
       "</li>\n",
       "</ul>\n"
      ],
      "text/plain": [
       "{('Atoti Product', 'SIZE'): <atoti.hierarchy.Hierarchy object at 0x1218d2750>, ('Atoti Product', 'BRAND'): <atoti.hierarchy.Hierarchy object at 0x136709cd0>, ('Atoti Product', 'COLOR'): <atoti.hierarchy.Hierarchy object at 0x136c7b490>, ('Atoti Product', 'CATEGORY'): <atoti.hierarchy.Hierarchy object at 0x135e59590>, ('Atoti Sales', 'SALE_ID'): <atoti.hierarchy.Hierarchy object at 0x136e76190>, ('Atoti Sales', 'DATE'): <atoti.hierarchy.Hierarchy object at 0x136e75c10>, ('Atoti Sales', 'SHOP'): <atoti.hierarchy.Hierarchy object at 0x136e75b90>, ('Atoti Sales', 'PRODUCT'): <atoti.hierarchy.Hierarchy object at 0x136e74f10>}"
      ]
     },
     "execution_count": 19,
     "metadata": {
      "application/json": {
       "expanded": true,
       "root": "Dimensions"
      }
     },
     "output_type": "execute_result"
    }
   ],
   "source": [
    "h"
   ]
  },
  {
   "cell_type": "code",
   "execution_count": 20,
   "id": "fe924c60-0c9d-431f-ac72-297db49d8abc",
   "metadata": {
    "tags": []
   },
   "outputs": [],
   "source": [
    "l[\"DATE\"].order = tt.NaturalOrder(ascending=False)"
   ]
  },
  {
   "cell_type": "code",
   "execution_count": 21,
   "id": "343686bd-182e-4de1-b681-8bc6c04b791d",
   "metadata": {
    "tags": []
   },
   "outputs": [],
   "source": [
    "m[\"PURCHASE_PRICE.SUM\"] = tt.agg.sum(products_table[\"PURCHASE_PRICE\"])\n",
    "m[\"PROFIT\"] = tt.agg.sum_product(\n",
    "    m[\"UNIT_PRICE.SUM\"] - m[\"PURCHASE_PRICE.SUM\"],\n",
    "    m[\"QUANTITY.SUM\"],\n",
    "    scope=tt.OriginScope(levels={l[\"SALE_ID\"], l[\"PRODUCT\"]}),\n",
    ")"
   ]
  },
  {
   "cell_type": "markdown",
   "id": "595db925-bf0b-4828-87fb-ff26c717d905",
   "metadata": {},
   "source": [
    "Since we have a join from `sales_table` to `products_table` using the column values of `sales_table.PRODUCT` and `products_table.PRODUCT_ID`, the resultant level is the name of the column from the _from_ table. Therefore, we have the level `PRODUCT` but not `PRODUCT_ID` for our scope in the code snippet above."
   ]
  },
  {
   "cell_type": "code",
   "execution_count": 22,
   "id": "a5dd754e-6d52-43b0-9a18-e7aa7fd42e0b",
   "metadata": {
    "atoti": {
     "widget": {
      "mapping": {
       "columns": [
        "ALL_MEASURES"
       ],
       "measures": [
        "[Measures].[UNIT_PRICE.SUM]",
        "[Measures].[PURCHASE_PRICE.SUM]",
        "[Measures].[QUANTITY.SUM]",
        "[Measures].[PROFIT]"
       ],
       "rows": [
        "[Atoti Sales].[DATE].[DATE]",
        "[Atoti Product].[CATEGORY].[CATEGORY] => [Atoti Product].[CATEGORY].[SUB_CATEGORY]"
       ]
      },
      "name": "Profit by Product Categories across dates",
      "query": {
       "mdx": "SELECT NON EMPTY Hierarchize(Union(Crossjoin(Hierarchize(Descendants({[Atoti Sales].[DATE].[AllMember]}, 1, SELF_AND_BEFORE)), Hierarchize(Descendants({[Atoti Product].[CATEGORY].[AllMember]}, 1, SELF_AND_BEFORE))), Crossjoin([Atoti Sales].[DATE].[AllMember].[2022-02-03], Descendants({[Atoti Product].[CATEGORY].[AllMember].[Cloth]}, [Atoti Product].[CATEGORY].[SUB_CATEGORY])))) ON ROWS, NON EMPTY {[Measures].[UNIT_PRICE.SUM], [Measures].[PURCHASE_PRICE.SUM], [Measures].[QUANTITY.SUM], [Measures].[PROFIT]} ON COLUMNS FROM [Atoti Sales] CELL PROPERTIES VALUE, FORMATTED_VALUE, BACK_COLOR, FORE_COLOR, FONT_FLAGS",
       "updateMode": "once"
      },
      "serverKey": "default",
      "widgetKey": "pivot-table"
     }
    },
    "tags": []
   },
   "outputs": [
    {
     "data": {
      "application/vnd.atoti.widget.v0+json": {
       "sessionId": "1751467390_958766",
       "sessionUrl": "http://localhost:58802",
       "widgetCreationCode": "session.widget"
      },
      "text/html": [
       "<img height=\"352\" width=\"1160\" src=\"data:image/png;base64,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\" />"
      ],
      "text/plain": [
       "Open the notebook in JupyterLab with the Atoti JupyterLab extension enabled to build this widget."
      ]
     },
     "metadata": {},
     "output_type": "display_data"
    }
   ],
   "source": [
    "session.widget"
   ]
  },
  {
   "cell_type": "markdown",
   "id": "08ceaeb7-d0ed-42b5-899e-f4fb4fdcf1ae",
   "metadata": {},
   "source": [
    "## Cost and performance saving with Aggregate Provider"
   ]
  },
  {
   "cell_type": "markdown",
   "id": "b00d6de1-5324-43b0-acb0-c682977c2cf0",
   "metadata": {},
   "source": [
    "Let's take a quick look at our query performance in the current setup."
   ]
  },
  {
   "cell_type": "code",
   "execution_count": 23,
   "id": "37320670-66e8-40c1-9402-26775ed5817c",
   "metadata": {},
   "outputs": [
    {
     "name": "stdout",
     "output_type": "stream",
     "text": [
      "CPU times: user 26.2 ms, sys: 5.4 ms, total: 31.6 ms\n",
      "Wall time: 3.03 s\n"
     ]
    },
    {
     "data": {
      "application/vnd.atoti.convert-mdx-query-result-to-widget.v0+json": {
       "mdx": "SELECT {[Measures].[QUANTITY.SUM], [Measures].[PROFIT]} ON COLUMNS, NON EMPTY Crossjoin(Hierarchize(Descendants({[Atoti Sales].[DATE].[ALL].[AllMember]}, 1, SELF_AND_BEFORE)), Hierarchize(Descendants({[Atoti Sales].[PRODUCT].[ALL].[AllMember]}, 1, SELF_AND_BEFORE)), Hierarchize(Descendants({[Atoti Sales].[SALE_ID].[ALL].[AllMember]}, 1, SELF_AND_BEFORE))) ON ROWS FROM [Atoti Sales]",
       "sessionId": "1751467390_958766",
       "widgetCreationCode": "session.widget"
      },
      "text/html": [
       "<div>\n",
       "<style scoped>\n",
       "    .dataframe tbody tr th:only-of-type {\n",
       "        vertical-align: middle;\n",
       "    }\n",
       "\n",
       "    .dataframe tbody tr th {\n",
       "        vertical-align: top;\n",
       "    }\n",
       "\n",
       "    .dataframe thead th {\n",
       "        text-align: right;\n",
       "    }\n",
       "</style>\n",
       "<table border=\"1\" class=\"dataframe\">\n",
       "  <thead>\n",
       "    <tr style=\"text-align: right;\">\n",
       "      <th></th>\n",
       "      <th></th>\n",
       "      <th></th>\n",
       "      <th>QUANTITY.SUM</th>\n",
       "      <th>PROFIT</th>\n",
       "    </tr>\n",
       "    <tr>\n",
       "      <th>DATE</th>\n",
       "      <th>PRODUCT</th>\n",
       "      <th>SALE_ID</th>\n",
       "      <th></th>\n",
       "      <th></th>\n",
       "    </tr>\n",
       "  </thead>\n",
       "  <tbody>\n",
       "    <tr>\n",
       "      <th rowspan=\"2\" valign=\"top\">2022-02-04</th>\n",
       "      <th>HOO_5</th>\n",
       "      <th>S0017</th>\n",
       "      <td>1</td>\n",
       "      <td>10.00</td>\n",
       "    </tr>\n",
       "    <tr>\n",
       "      <th>TAB_0</th>\n",
       "      <th>S0000</th>\n",
       "      <td>1</td>\n",
       "      <td>20.00</td>\n",
       "    </tr>\n",
       "    <tr>\n",
       "      <th rowspan=\"4\" valign=\"top\">2022-02-03</th>\n",
       "      <th>HOO_5</th>\n",
       "      <th>S0018</th>\n",
       "      <td>1</td>\n",
       "      <td>10.00</td>\n",
       "    </tr>\n",
       "    <tr>\n",
       "      <th>TAB_0</th>\n",
       "      <th>S0001</th>\n",
       "      <td>1</td>\n",
       "      <td>20.00</td>\n",
       "    </tr>\n",
       "    <tr>\n",
       "      <th>TAB_1</th>\n",
       "      <th>S0004</th>\n",
       "      <td>1</td>\n",
       "      <td>20.00</td>\n",
       "    </tr>\n",
       "    <tr>\n",
       "      <th>TSH_3</th>\n",
       "      <th>S0011</th>\n",
       "      <td>1</td>\n",
       "      <td>3.00</td>\n",
       "    </tr>\n",
       "    <tr>\n",
       "      <th rowspan=\"5\" valign=\"top\">2022-02-02</th>\n",
       "      <th>HOO_5</th>\n",
       "      <th>S0019</th>\n",
       "      <td>1</td>\n",
       "      <td>10.00</td>\n",
       "    </tr>\n",
       "    <tr>\n",
       "      <th>TAB_0</th>\n",
       "      <th>S0002</th>\n",
       "      <td>1</td>\n",
       "      <td>20.00</td>\n",
       "    </tr>\n",
       "    <tr>\n",
       "      <th>TAB_1</th>\n",
       "      <th>S0005</th>\n",
       "      <td>1</td>\n",
       "      <td>20.00</td>\n",
       "    </tr>\n",
       "    <tr>\n",
       "      <th>TSH_3</th>\n",
       "      <th>S0012</th>\n",
       "      <td>1</td>\n",
       "      <td>3.00</td>\n",
       "    </tr>\n",
       "    <tr>\n",
       "      <th>TSH_4</th>\n",
       "      <th>S0014</th>\n",
       "      <td>1</td>\n",
       "      <td>4.00</td>\n",
       "    </tr>\n",
       "    <tr>\n",
       "      <th rowspan=\"5\" valign=\"top\">2022-02-01</th>\n",
       "      <th>BED_2</th>\n",
       "      <th>S0007</th>\n",
       "      <td>1</td>\n",
       "      <td>23.00</td>\n",
       "    </tr>\n",
       "    <tr>\n",
       "      <th>TAB_0</th>\n",
       "      <th>S0003</th>\n",
       "      <td>1</td>\n",
       "      <td>20.00</td>\n",
       "    </tr>\n",
       "    <tr>\n",
       "      <th>TAB_1</th>\n",
       "      <th>S0006</th>\n",
       "      <td>2</td>\n",
       "      <td>40.00</td>\n",
       "    </tr>\n",
       "    <tr>\n",
       "      <th>TSH_3</th>\n",
       "      <th>S0013</th>\n",
       "      <td>1</td>\n",
       "      <td>3.00</td>\n",
       "    </tr>\n",
       "    <tr>\n",
       "      <th>TSH_4</th>\n",
       "      <th>S0015</th>\n",
       "      <td>2</td>\n",
       "      <td>8.00</td>\n",
       "    </tr>\n",
       "    <tr>\n",
       "      <th rowspan=\"4\" valign=\"top\">2022-01-31</th>\n",
       "      <th rowspan=\"3\" valign=\"top\">BED_2</th>\n",
       "      <th>S0008</th>\n",
       "      <td>1</td>\n",
       "      <td>23.00</td>\n",
       "    </tr>\n",
       "    <tr>\n",
       "      <th>S0009</th>\n",
       "      <td>1</td>\n",
       "      <td>23.00</td>\n",
       "    </tr>\n",
       "    <tr>\n",
       "      <th>S0010</th>\n",
       "      <td>3</td>\n",
       "      <td>69.00</td>\n",
       "    </tr>\n",
       "    <tr>\n",
       "      <th>TSH_4</th>\n",
       "      <th>S0016</th>\n",
       "      <td>2</td>\n",
       "      <td>8.00</td>\n",
       "    </tr>\n",
       "  </tbody>\n",
       "</table>\n",
       "</div>"
      ],
      "text/plain": [
       "                           QUANTITY.SUM PROFIT\n",
       "DATE       PRODUCT SALE_ID                    \n",
       "2022-02-04 HOO_5   S0017              1  10.00\n",
       "           TAB_0   S0000              1  20.00\n",
       "2022-02-03 HOO_5   S0018              1  10.00\n",
       "           TAB_0   S0001              1  20.00\n",
       "           TAB_1   S0004              1  20.00\n",
       "           TSH_3   S0011              1   3.00\n",
       "2022-02-02 HOO_5   S0019              1  10.00\n",
       "           TAB_0   S0002              1  20.00\n",
       "           TAB_1   S0005              1  20.00\n",
       "           TSH_3   S0012              1   3.00\n",
       "           TSH_4   S0014              1   4.00\n",
       "2022-02-01 BED_2   S0007              1  23.00\n",
       "           TAB_0   S0003              1  20.00\n",
       "           TAB_1   S0006              2  40.00\n",
       "           TSH_3   S0013              1   3.00\n",
       "           TSH_4   S0015              2   8.00\n",
       "2022-01-31 BED_2   S0008              1  23.00\n",
       "                   S0009              1  23.00\n",
       "                   S0010              3  69.00\n",
       "           TSH_4   S0016              2   8.00"
      ]
     },
     "execution_count": 23,
     "metadata": {},
     "output_type": "execute_result"
    }
   ],
   "source": [
    "%%time\n",
    "\n",
    "cube.query(\n",
    "    m[\"QUANTITY.SUM\"], m[\"PROFIT\"], levels=[l[\"DATE\"], l[\"PRODUCT\"], l[\"SALE_ID\"]]\n",
    ")"
   ]
  },
  {
   "cell_type": "code",
   "execution_count": 24,
   "id": "41a42190-2831-458d-9679-aa942dae9de0",
   "metadata": {},
   "outputs": [
    {
     "name": "stdout",
     "output_type": "stream",
     "text": [
      "CPU times: user 11.6 ms, sys: 3.51 ms, total: 15.1 ms\n",
      "Wall time: 2.73 s\n"
     ]
    },
    {
     "data": {
      "application/vnd.atoti.convert-mdx-query-result-to-widget.v0+json": {
       "mdx": "SELECT {[Measures].[PROFIT]} ON COLUMNS, NON EMPTY Crossjoin(Hierarchize(Descendants({[Atoti Sales].[DATE].[ALL].[AllMember]}, 1, SELF_AND_BEFORE)), Hierarchize(Descendants({[Atoti Product].[CATEGORY].[ALL].[AllMember]}, 2, SELF_AND_BEFORE))) DIMENSION PROPERTIES CHILDREN_CARDINALITY ON ROWS FROM [Atoti Sales]",
       "sessionId": "1751467390_958766",
       "widgetCreationCode": "session.widget"
      },
      "text/html": [
       "<div>\n",
       "<style scoped>\n",
       "    .dataframe tbody tr th:only-of-type {\n",
       "        vertical-align: middle;\n",
       "    }\n",
       "\n",
       "    .dataframe tbody tr th {\n",
       "        vertical-align: top;\n",
       "    }\n",
       "\n",
       "    .dataframe thead th {\n",
       "        text-align: right;\n",
       "    }\n",
       "</style>\n",
       "<table border=\"1\" class=\"dataframe\">\n",
       "  <thead>\n",
       "    <tr style=\"text-align: right;\">\n",
       "      <th></th>\n",
       "      <th></th>\n",
       "      <th></th>\n",
       "      <th>PROFIT</th>\n",
       "    </tr>\n",
       "    <tr>\n",
       "      <th>DATE</th>\n",
       "      <th>CATEGORY</th>\n",
       "      <th>SUB_CATEGORY</th>\n",
       "      <th></th>\n",
       "    </tr>\n",
       "  </thead>\n",
       "  <tbody>\n",
       "    <tr>\n",
       "      <th rowspan=\"2\" valign=\"top\">2022-02-04</th>\n",
       "      <th>Cloth</th>\n",
       "      <th>Hoodie</th>\n",
       "      <td>10.00</td>\n",
       "    </tr>\n",
       "    <tr>\n",
       "      <th>Furniture</th>\n",
       "      <th>Table</th>\n",
       "      <td>20.00</td>\n",
       "    </tr>\n",
       "    <tr>\n",
       "      <th rowspan=\"3\" valign=\"top\">2022-02-03</th>\n",
       "      <th rowspan=\"2\" valign=\"top\">Cloth</th>\n",
       "      <th>Hoodie</th>\n",
       "      <td>10.00</td>\n",
       "    </tr>\n",
       "    <tr>\n",
       "      <th>Tshirt</th>\n",
       "      <td>3.00</td>\n",
       "    </tr>\n",
       "    <tr>\n",
       "      <th>Furniture</th>\n",
       "      <th>Table</th>\n",
       "      <td>40.00</td>\n",
       "    </tr>\n",
       "    <tr>\n",
       "      <th rowspan=\"3\" valign=\"top\">2022-02-02</th>\n",
       "      <th rowspan=\"2\" valign=\"top\">Cloth</th>\n",
       "      <th>Hoodie</th>\n",
       "      <td>10.00</td>\n",
       "    </tr>\n",
       "    <tr>\n",
       "      <th>Tshirt</th>\n",
       "      <td>7.00</td>\n",
       "    </tr>\n",
       "    <tr>\n",
       "      <th>Furniture</th>\n",
       "      <th>Table</th>\n",
       "      <td>40.00</td>\n",
       "    </tr>\n",
       "    <tr>\n",
       "      <th rowspan=\"3\" valign=\"top\">2022-02-01</th>\n",
       "      <th>Cloth</th>\n",
       "      <th>Tshirt</th>\n",
       "      <td>11.00</td>\n",
       "    </tr>\n",
       "    <tr>\n",
       "      <th rowspan=\"2\" valign=\"top\">Furniture</th>\n",
       "      <th>Bed</th>\n",
       "      <td>23.00</td>\n",
       "    </tr>\n",
       "    <tr>\n",
       "      <th>Table</th>\n",
       "      <td>60.00</td>\n",
       "    </tr>\n",
       "    <tr>\n",
       "      <th rowspan=\"2\" valign=\"top\">2022-01-31</th>\n",
       "      <th>Cloth</th>\n",
       "      <th>Tshirt</th>\n",
       "      <td>8.00</td>\n",
       "    </tr>\n",
       "    <tr>\n",
       "      <th>Furniture</th>\n",
       "      <th>Bed</th>\n",
       "      <td>115.00</td>\n",
       "    </tr>\n",
       "  </tbody>\n",
       "</table>\n",
       "</div>"
      ],
      "text/plain": [
       "                                   PROFIT\n",
       "DATE       CATEGORY  SUB_CATEGORY        \n",
       "2022-02-04 Cloth     Hoodie         10.00\n",
       "           Furniture Table          20.00\n",
       "2022-02-03 Cloth     Hoodie         10.00\n",
       "                     Tshirt          3.00\n",
       "           Furniture Table          40.00\n",
       "2022-02-02 Cloth     Hoodie         10.00\n",
       "                     Tshirt          7.00\n",
       "           Furniture Table          40.00\n",
       "2022-02-01 Cloth     Tshirt         11.00\n",
       "           Furniture Bed            23.00\n",
       "                     Table          60.00\n",
       "2022-01-31 Cloth     Tshirt          8.00\n",
       "           Furniture Bed           115.00"
      ]
     },
     "execution_count": 24,
     "metadata": {},
     "output_type": "execute_result"
    }
   ],
   "source": [
    "%%time\n",
    "\n",
    "cube.query(m[\"PROFIT\"], levels=[l[\"DATE\"], l[\"SUB_CATEGORY\"]])"
   ]
  },
  {
   "cell_type": "markdown",
   "id": "ec655a71-8eec-42ae-9dd5-3fa7bbf0f782",
   "metadata": {},
   "source": [
    "It takes approximately `3s` to return the query (YMMV)."
   ]
  },
  {
   "cell_type": "markdown",
   "id": "409bcc8e-c3e4-4592-a6ee-c54d41f97719",
   "metadata": {},
   "source": [
    "To speed up our querying, we make use of the [aggregate provider](https://docs.atoti.io/latest/api/atoti.AggregateProvider.html#atoti.AggregateProvider) to store intermediate aggregates in memory. If a step of a query uses a subset of the aggregate provider's levels and measures, the provider will speed up the query.  \n",
    "\n",
    "Since data is cached in memory, we will __not__ access BigQuery when a subset of these are queried.  "
   ]
  },
  {
   "cell_type": "code",
   "execution_count": 25,
   "id": "0f33a62c-d66d-4e3a-997d-ae325e9276ec",
   "metadata": {
    "tags": []
   },
   "outputs": [],
   "source": [
    "cube.aggregate_providers.update(\n",
    "    {\n",
    "        \"Products provider\": tt.AggregateProvider(\n",
    "            key=\"bitmap\",\n",
    "            levels=[l[\"DATE\"], l[\"PRODUCT\"], l[\"SALE_ID\"]],\n",
    "            measures=[m[\"QUANTITY.SUM\"], m[\"PURCHASE_PRICE.SUM\"], m[\"UNIT_PRICE.SUM\"]],\n",
    "            partitioning=\"hash16(PRODUCT)\",\n",
    "        )\n",
    "    }\n",
    ")"
   ]
  },
  {
   "cell_type": "markdown",
   "id": "4817dae9-0dbb-4c91-95bc-38a1320102ae",
   "metadata": {},
   "source": [
    "⚠️ **Important:** We can only use store aggregated measures supporting disaggregation can be used in aggregate provider, e.g. `tt.agg.sum` or `tt.agg.mean` on table columns.\n",
    "\n",
    "`m[\"PROFIT\"]` cannot be used because it is a chained measure resulting from the `sum_product` of a few measures.\n"
   ]
  },
  {
   "cell_type": "code",
   "execution_count": 26,
   "id": "0bc35e5d-1845-479b-873f-5a24be936f1e",
   "metadata": {
    "tags": []
   },
   "outputs": [
    {
     "name": "stdout",
     "output_type": "stream",
     "text": [
      "CPU times: user 10.8 ms, sys: 3 ms, total: 13.8 ms\n",
      "Wall time: 60.2 ms\n"
     ]
    },
    {
     "data": {
      "application/vnd.atoti.convert-mdx-query-result-to-widget.v0+json": {
       "mdx": "SELECT {[Measures].[PROFIT]} ON COLUMNS, NON EMPTY Crossjoin(Hierarchize(Descendants({[Atoti Sales].[DATE].[ALL].[AllMember]}, 1, SELF_AND_BEFORE)), Hierarchize(Descendants({[Atoti Sales].[PRODUCT].[ALL].[AllMember]}, 1, SELF_AND_BEFORE)), Hierarchize(Descendants({[Atoti Sales].[SALE_ID].[ALL].[AllMember]}, 1, SELF_AND_BEFORE))) ON ROWS FROM [Atoti Sales]",
       "sessionId": "1751467390_958766",
       "widgetCreationCode": "session.widget"
      },
      "text/html": [
       "<div>\n",
       "<style scoped>\n",
       "    .dataframe tbody tr th:only-of-type {\n",
       "        vertical-align: middle;\n",
       "    }\n",
       "\n",
       "    .dataframe tbody tr th {\n",
       "        vertical-align: top;\n",
       "    }\n",
       "\n",
       "    .dataframe thead th {\n",
       "        text-align: right;\n",
       "    }\n",
       "</style>\n",
       "<table border=\"1\" class=\"dataframe\">\n",
       "  <thead>\n",
       "    <tr style=\"text-align: right;\">\n",
       "      <th></th>\n",
       "      <th></th>\n",
       "      <th></th>\n",
       "      <th>PROFIT</th>\n",
       "    </tr>\n",
       "    <tr>\n",
       "      <th>DATE</th>\n",
       "      <th>PRODUCT</th>\n",
       "      <th>SALE_ID</th>\n",
       "      <th></th>\n",
       "    </tr>\n",
       "  </thead>\n",
       "  <tbody>\n",
       "    <tr>\n",
       "      <th rowspan=\"2\" valign=\"top\">2022-02-04</th>\n",
       "      <th>HOO_5</th>\n",
       "      <th>S0017</th>\n",
       "      <td>10.00</td>\n",
       "    </tr>\n",
       "    <tr>\n",
       "      <th>TAB_0</th>\n",
       "      <th>S0000</th>\n",
       "      <td>20.00</td>\n",
       "    </tr>\n",
       "    <tr>\n",
       "      <th rowspan=\"4\" valign=\"top\">2022-02-03</th>\n",
       "      <th>HOO_5</th>\n",
       "      <th>S0018</th>\n",
       "      <td>10.00</td>\n",
       "    </tr>\n",
       "    <tr>\n",
       "      <th>TAB_0</th>\n",
       "      <th>S0001</th>\n",
       "      <td>20.00</td>\n",
       "    </tr>\n",
       "    <tr>\n",
       "      <th>TAB_1</th>\n",
       "      <th>S0004</th>\n",
       "      <td>20.00</td>\n",
       "    </tr>\n",
       "    <tr>\n",
       "      <th>TSH_3</th>\n",
       "      <th>S0011</th>\n",
       "      <td>3.00</td>\n",
       "    </tr>\n",
       "    <tr>\n",
       "      <th rowspan=\"5\" valign=\"top\">2022-02-02</th>\n",
       "      <th>HOO_5</th>\n",
       "      <th>S0019</th>\n",
       "      <td>10.00</td>\n",
       "    </tr>\n",
       "    <tr>\n",
       "      <th>TAB_0</th>\n",
       "      <th>S0002</th>\n",
       "      <td>20.00</td>\n",
       "    </tr>\n",
       "    <tr>\n",
       "      <th>TAB_1</th>\n",
       "      <th>S0005</th>\n",
       "      <td>20.00</td>\n",
       "    </tr>\n",
       "    <tr>\n",
       "      <th>TSH_3</th>\n",
       "      <th>S0012</th>\n",
       "      <td>3.00</td>\n",
       "    </tr>\n",
       "    <tr>\n",
       "      <th>TSH_4</th>\n",
       "      <th>S0014</th>\n",
       "      <td>4.00</td>\n",
       "    </tr>\n",
       "    <tr>\n",
       "      <th rowspan=\"5\" valign=\"top\">2022-02-01</th>\n",
       "      <th>BED_2</th>\n",
       "      <th>S0007</th>\n",
       "      <td>23.00</td>\n",
       "    </tr>\n",
       "    <tr>\n",
       "      <th>TAB_0</th>\n",
       "      <th>S0003</th>\n",
       "      <td>20.00</td>\n",
       "    </tr>\n",
       "    <tr>\n",
       "      <th>TAB_1</th>\n",
       "      <th>S0006</th>\n",
       "      <td>40.00</td>\n",
       "    </tr>\n",
       "    <tr>\n",
       "      <th>TSH_3</th>\n",
       "      <th>S0013</th>\n",
       "      <td>3.00</td>\n",
       "    </tr>\n",
       "    <tr>\n",
       "      <th>TSH_4</th>\n",
       "      <th>S0015</th>\n",
       "      <td>8.00</td>\n",
       "    </tr>\n",
       "    <tr>\n",
       "      <th rowspan=\"4\" valign=\"top\">2022-01-31</th>\n",
       "      <th rowspan=\"3\" valign=\"top\">BED_2</th>\n",
       "      <th>S0008</th>\n",
       "      <td>23.00</td>\n",
       "    </tr>\n",
       "    <tr>\n",
       "      <th>S0009</th>\n",
       "      <td>23.00</td>\n",
       "    </tr>\n",
       "    <tr>\n",
       "      <th>S0010</th>\n",
       "      <td>69.00</td>\n",
       "    </tr>\n",
       "    <tr>\n",
       "      <th>TSH_4</th>\n",
       "      <th>S0016</th>\n",
       "      <td>8.00</td>\n",
       "    </tr>\n",
       "  </tbody>\n",
       "</table>\n",
       "</div>"
      ],
      "text/plain": [
       "                           PROFIT\n",
       "DATE       PRODUCT SALE_ID       \n",
       "2022-02-04 HOO_5   S0017    10.00\n",
       "           TAB_0   S0000    20.00\n",
       "2022-02-03 HOO_5   S0018    10.00\n",
       "           TAB_0   S0001    20.00\n",
       "           TAB_1   S0004    20.00\n",
       "           TSH_3   S0011     3.00\n",
       "2022-02-02 HOO_5   S0019    10.00\n",
       "           TAB_0   S0002    20.00\n",
       "           TAB_1   S0005    20.00\n",
       "           TSH_3   S0012     3.00\n",
       "           TSH_4   S0014     4.00\n",
       "2022-02-01 BED_2   S0007    23.00\n",
       "           TAB_0   S0003    20.00\n",
       "           TAB_1   S0006    40.00\n",
       "           TSH_3   S0013     3.00\n",
       "           TSH_4   S0015     8.00\n",
       "2022-01-31 BED_2   S0008    23.00\n",
       "                   S0009    23.00\n",
       "                   S0010    69.00\n",
       "           TSH_4   S0016     8.00"
      ]
     },
     "execution_count": 26,
     "metadata": {},
     "output_type": "execute_result"
    }
   ],
   "source": [
    "%%time\n",
    "\n",
    "cube.query(m[\"PROFIT\"], levels=[l[\"DATE\"], l[\"PRODUCT\"], l[\"SALE_ID\"]])"
   ]
  },
  {
   "cell_type": "markdown",
   "id": "fd36b224-ab65-45f0-a2fb-1e44c5fdb1c8",
   "metadata": {},
   "source": [
    "Previously, it took close to `3s` to return the query results. Now, it only takes slightly over `100ms` to return the results (YMMV).  \n",
    "\n",
    "Note that we are querying `PROFIT` and not the measures `m[\"QUANTITY.SUM\"]`, `m[\"PURCHASE_PRICE.SUM\"]` and `m[\"UNIT_PRICE.SUM\"]`. However, `PROFIT` is computed on the fly using the cached data in memory. Therefore, the query speed is improved drastically."
   ]
  },
  {
   "cell_type": "code",
   "execution_count": 27,
   "id": "800e212c-f4ce-4e77-8653-f8afd9b50043",
   "metadata": {
    "tags": []
   },
   "outputs": [
    {
     "name": "stdout",
     "output_type": "stream",
     "text": [
      "CPU times: user 4.65 ms, sys: 1.59 ms, total: 6.24 ms\n",
      "Wall time: 22.7 ms\n"
     ]
    },
    {
     "data": {
      "application/vnd.atoti.convert-mdx-query-result-to-widget.v0+json": {
       "mdx": "SELECT {[Measures].[PROFIT]} ON COLUMNS, NON EMPTY Hierarchize(Descendants({[Atoti Sales].[PRODUCT].[ALL].[AllMember]}, 1, SELF_AND_BEFORE)) ON ROWS FROM [Atoti Sales]",
       "sessionId": "1751467390_958766",
       "widgetCreationCode": "session.widget"
      },
      "text/html": [
       "<div>\n",
       "<style scoped>\n",
       "    .dataframe tbody tr th:only-of-type {\n",
       "        vertical-align: middle;\n",
       "    }\n",
       "\n",
       "    .dataframe tbody tr th {\n",
       "        vertical-align: top;\n",
       "    }\n",
       "\n",
       "    .dataframe thead th {\n",
       "        text-align: right;\n",
       "    }\n",
       "</style>\n",
       "<table border=\"1\" class=\"dataframe\">\n",
       "  <thead>\n",
       "    <tr style=\"text-align: right;\">\n",
       "      <th></th>\n",
       "      <th>PROFIT</th>\n",
       "    </tr>\n",
       "    <tr>\n",
       "      <th>PRODUCT</th>\n",
       "      <th></th>\n",
       "    </tr>\n",
       "  </thead>\n",
       "  <tbody>\n",
       "    <tr>\n",
       "      <th>BED_2</th>\n",
       "      <td>138.00</td>\n",
       "    </tr>\n",
       "    <tr>\n",
       "      <th>HOO_5</th>\n",
       "      <td>30.00</td>\n",
       "    </tr>\n",
       "    <tr>\n",
       "      <th>TAB_0</th>\n",
       "      <td>80.00</td>\n",
       "    </tr>\n",
       "    <tr>\n",
       "      <th>TAB_1</th>\n",
       "      <td>80.00</td>\n",
       "    </tr>\n",
       "    <tr>\n",
       "      <th>TSH_3</th>\n",
       "      <td>9.00</td>\n",
       "    </tr>\n",
       "    <tr>\n",
       "      <th>TSH_4</th>\n",
       "      <td>20.00</td>\n",
       "    </tr>\n",
       "  </tbody>\n",
       "</table>\n",
       "</div>"
      ],
      "text/plain": [
       "         PROFIT\n",
       "PRODUCT        \n",
       "BED_2    138.00\n",
       "HOO_5     30.00\n",
       "TAB_0     80.00\n",
       "TAB_1     80.00\n",
       "TSH_3      9.00\n",
       "TSH_4     20.00"
      ]
     },
     "execution_count": 27,
     "metadata": {},
     "output_type": "execute_result"
    }
   ],
   "source": [
    "%%time\n",
    "\n",
    "cube.query(m[\"PROFIT\"], levels=[l[\"PRODUCT\"]])"
   ]
  },
  {
   "cell_type": "markdown",
   "id": "3776a1f9-c10c-4912-866f-238a3b95fbee",
   "metadata": {},
   "source": [
    "Querying a subset of the aggregate provider levels also returns the result quickly.  \n",
    "\n",
    "The below query on a different level will access data from BigQuery and therefore, is limited by the querying speed of the cloud database and its network connectivity.  "
   ]
  },
  {
   "cell_type": "code",
   "execution_count": 28,
   "id": "08506fb9-16e3-4052-9288-380ecc441021",
   "metadata": {
    "tags": []
   },
   "outputs": [
    {
     "name": "stdout",
     "output_type": "stream",
     "text": [
      "CPU times: user 12.1 ms, sys: 4.39 ms, total: 16.5 ms\n",
      "Wall time: 1.83 s\n"
     ]
    },
    {
     "data": {
      "application/vnd.atoti.convert-mdx-query-result-to-widget.v0+json": {
       "mdx": "SELECT {[Measures].[PROFIT]} ON COLUMNS, NON EMPTY Crossjoin(Hierarchize(Descendants({[Atoti Sales].[DATE].[ALL].[AllMember]}, 1, SELF_AND_BEFORE)), Hierarchize(Descendants({[Atoti Product].[CATEGORY].[ALL].[AllMember]}, 2, SELF_AND_BEFORE))) DIMENSION PROPERTIES CHILDREN_CARDINALITY ON ROWS FROM [Atoti Sales]",
       "sessionId": "1751467390_958766",
       "widgetCreationCode": "session.widget"
      },
      "text/html": [
       "<div>\n",
       "<style scoped>\n",
       "    .dataframe tbody tr th:only-of-type {\n",
       "        vertical-align: middle;\n",
       "    }\n",
       "\n",
       "    .dataframe tbody tr th {\n",
       "        vertical-align: top;\n",
       "    }\n",
       "\n",
       "    .dataframe thead th {\n",
       "        text-align: right;\n",
       "    }\n",
       "</style>\n",
       "<table border=\"1\" class=\"dataframe\">\n",
       "  <thead>\n",
       "    <tr style=\"text-align: right;\">\n",
       "      <th></th>\n",
       "      <th></th>\n",
       "      <th></th>\n",
       "      <th>PROFIT</th>\n",
       "    </tr>\n",
       "    <tr>\n",
       "      <th>DATE</th>\n",
       "      <th>CATEGORY</th>\n",
       "      <th>SUB_CATEGORY</th>\n",
       "      <th></th>\n",
       "    </tr>\n",
       "  </thead>\n",
       "  <tbody>\n",
       "    <tr>\n",
       "      <th rowspan=\"2\" valign=\"top\">2022-02-04</th>\n",
       "      <th>Cloth</th>\n",
       "      <th>Hoodie</th>\n",
       "      <td>10.00</td>\n",
       "    </tr>\n",
       "    <tr>\n",
       "      <th>Furniture</th>\n",
       "      <th>Table</th>\n",
       "      <td>20.00</td>\n",
       "    </tr>\n",
       "    <tr>\n",
       "      <th rowspan=\"3\" valign=\"top\">2022-02-03</th>\n",
       "      <th rowspan=\"2\" valign=\"top\">Cloth</th>\n",
       "      <th>Hoodie</th>\n",
       "      <td>10.00</td>\n",
       "    </tr>\n",
       "    <tr>\n",
       "      <th>Tshirt</th>\n",
       "      <td>3.00</td>\n",
       "    </tr>\n",
       "    <tr>\n",
       "      <th>Furniture</th>\n",
       "      <th>Table</th>\n",
       "      <td>40.00</td>\n",
       "    </tr>\n",
       "    <tr>\n",
       "      <th rowspan=\"3\" valign=\"top\">2022-02-02</th>\n",
       "      <th rowspan=\"2\" valign=\"top\">Cloth</th>\n",
       "      <th>Hoodie</th>\n",
       "      <td>10.00</td>\n",
       "    </tr>\n",
       "    <tr>\n",
       "      <th>Tshirt</th>\n",
       "      <td>7.00</td>\n",
       "    </tr>\n",
       "    <tr>\n",
       "      <th>Furniture</th>\n",
       "      <th>Table</th>\n",
       "      <td>40.00</td>\n",
       "    </tr>\n",
       "    <tr>\n",
       "      <th rowspan=\"3\" valign=\"top\">2022-02-01</th>\n",
       "      <th>Cloth</th>\n",
       "      <th>Tshirt</th>\n",
       "      <td>11.00</td>\n",
       "    </tr>\n",
       "    <tr>\n",
       "      <th rowspan=\"2\" valign=\"top\">Furniture</th>\n",
       "      <th>Bed</th>\n",
       "      <td>23.00</td>\n",
       "    </tr>\n",
       "    <tr>\n",
       "      <th>Table</th>\n",
       "      <td>60.00</td>\n",
       "    </tr>\n",
       "    <tr>\n",
       "      <th rowspan=\"2\" valign=\"top\">2022-01-31</th>\n",
       "      <th>Cloth</th>\n",
       "      <th>Tshirt</th>\n",
       "      <td>8.00</td>\n",
       "    </tr>\n",
       "    <tr>\n",
       "      <th>Furniture</th>\n",
       "      <th>Bed</th>\n",
       "      <td>115.00</td>\n",
       "    </tr>\n",
       "  </tbody>\n",
       "</table>\n",
       "</div>"
      ],
      "text/plain": [
       "                                   PROFIT\n",
       "DATE       CATEGORY  SUB_CATEGORY        \n",
       "2022-02-04 Cloth     Hoodie         10.00\n",
       "           Furniture Table          20.00\n",
       "2022-02-03 Cloth     Hoodie         10.00\n",
       "                     Tshirt          3.00\n",
       "           Furniture Table          40.00\n",
       "2022-02-02 Cloth     Hoodie         10.00\n",
       "                     Tshirt          7.00\n",
       "           Furniture Table          40.00\n",
       "2022-02-01 Cloth     Tshirt         11.00\n",
       "           Furniture Bed            23.00\n",
       "                     Table          60.00\n",
       "2022-01-31 Cloth     Tshirt          8.00\n",
       "           Furniture Bed           115.00"
      ]
     },
     "execution_count": 28,
     "metadata": {},
     "output_type": "execute_result"
    }
   ],
   "source": [
    "%%time\n",
    "\n",
    "cube.query(m[\"PROFIT\"], levels=[l[\"DATE\"], l[\"SUB_CATEGORY\"]])"
   ]
  },
  {
   "cell_type": "markdown",
   "id": "c260f204-8f69-4f99-aefa-3e881c29e4bc",
   "metadata": {},
   "source": [
    "Before we are done with this example, let's create another aggregate provider with a _slice_ of data using `filter`.  \n",
    "\n",
    "Let's first capture the timing of the query without the aggregate provider."
   ]
  },
  {
   "cell_type": "code",
   "execution_count": 29,
   "id": "fe342fd4-1c7f-4995-833d-f3cac15d2aa4",
   "metadata": {},
   "outputs": [
    {
     "name": "stdout",
     "output_type": "stream",
     "text": [
      "CPU times: user 16.5 ms, sys: 6.78 ms, total: 23.3 ms\n",
      "Wall time: 1.96 s\n"
     ]
    },
    {
     "data": {
      "application/vnd.atoti.convert-mdx-query-result-to-widget.v0+json": {
       "mdx": "SELECT {[Measures].[PROFIT]} ON COLUMNS, NON EMPTY Crossjoin(Hierarchize(Descendants({[Atoti Sales].[DATE].[ALL].[AllMember]}, 1, SELF_AND_BEFORE)), Hierarchize(Descendants({[Atoti Product].[CATEGORY].[ALL].[AllMember]}, 2, SELF_AND_BEFORE))) DIMENSION PROPERTIES CHILDREN_CARDINALITY ON ROWS FROM (SELECT [Atoti Sales].[DATE].[ALL].[AllMember].[2022-02-04] ON COLUMNS FROM [Atoti Sales])",
       "sessionId": "1751467390_958766",
       "widgetCreationCode": "session.widget"
      },
      "text/html": [
       "<div>\n",
       "<style scoped>\n",
       "    .dataframe tbody tr th:only-of-type {\n",
       "        vertical-align: middle;\n",
       "    }\n",
       "\n",
       "    .dataframe tbody tr th {\n",
       "        vertical-align: top;\n",
       "    }\n",
       "\n",
       "    .dataframe thead th {\n",
       "        text-align: right;\n",
       "    }\n",
       "</style>\n",
       "<table border=\"1\" class=\"dataframe\">\n",
       "  <thead>\n",
       "    <tr style=\"text-align: right;\">\n",
       "      <th></th>\n",
       "      <th></th>\n",
       "      <th></th>\n",
       "      <th>PROFIT</th>\n",
       "    </tr>\n",
       "    <tr>\n",
       "      <th>DATE</th>\n",
       "      <th>CATEGORY</th>\n",
       "      <th>SUB_CATEGORY</th>\n",
       "      <th></th>\n",
       "    </tr>\n",
       "  </thead>\n",
       "  <tbody>\n",
       "    <tr>\n",
       "      <th rowspan=\"2\" valign=\"top\">2022-02-04</th>\n",
       "      <th>Cloth</th>\n",
       "      <th>Hoodie</th>\n",
       "      <td>10.00</td>\n",
       "    </tr>\n",
       "    <tr>\n",
       "      <th>Furniture</th>\n",
       "      <th>Table</th>\n",
       "      <td>20.00</td>\n",
       "    </tr>\n",
       "  </tbody>\n",
       "</table>\n",
       "</div>"
      ],
      "text/plain": [
       "                                  PROFIT\n",
       "DATE       CATEGORY  SUB_CATEGORY       \n",
       "2022-02-04 Cloth     Hoodie        10.00\n",
       "           Furniture Table         20.00"
      ]
     },
     "execution_count": 29,
     "metadata": {},
     "output_type": "execute_result"
    }
   ],
   "source": [
    "%%time\n",
    "\n",
    "cube.query(\n",
    "    m[\"PROFIT\"],\n",
    "    levels=[l[\"DATE\"], l[\"SUB_CATEGORY\"]],\n",
    "    filter=(l[\"DATE\"] == \"2022-02-04\"),\n",
    ")"
   ]
  },
  {
   "cell_type": "code",
   "execution_count": 30,
   "id": "b240a857-71f6-4344-8967-570013c0ac98",
   "metadata": {
    "tags": []
   },
   "outputs": [],
   "source": [
    "from datetime import date\n",
    "\n",
    "current_date = date(2022, 2, 4)"
   ]
  },
  {
   "cell_type": "markdown",
   "id": "9526ed6a-2c74-4ab5-935e-51899123340c",
   "metadata": {},
   "source": [
    "In the event where users are interested in a particular member of level, e.g. the current date or a particular shop, and the amount of querying on this member is huge, then it makes sense to cache them in memory.  \n",
    "\n",
    "In this case, we apply filter just for the interested member. This helps to control the amount of data held in memory."
   ]
  },
  {
   "cell_type": "code",
   "execution_count": 31,
   "id": "17ae6441-66db-4038-bfee-28df3b2c576e",
   "metadata": {},
   "outputs": [],
   "source": [
    "cube.aggregate_providers.update(\n",
    "    {\n",
    "        \"Category provider\": tt.AggregateProvider(\n",
    "            key=\"bitmap\",\n",
    "            levels=[l[\"DATE\"], l[\"SUB_CATEGORY\"]],\n",
    "            measures=[m[\"QUANTITY.SUM\"], m[\"PURCHASE_PRICE.SUM\"], m[\"UNIT_PRICE.SUM\"]],\n",
    "            filter=(l[\"DATE\"] == current_date),\n",
    "        )\n",
    "    }\n",
    ")"
   ]
  },
  {
   "cell_type": "code",
   "execution_count": 32,
   "id": "adc253db-cebe-49a2-a8ae-2f9630d5338d",
   "metadata": {
    "tags": []
   },
   "outputs": [
    {
     "name": "stdout",
     "output_type": "stream",
     "text": [
      "CPU times: user 14.5 ms, sys: 5.58 ms, total: 20.1 ms\n",
      "Wall time: 2.41 s\n"
     ]
    },
    {
     "data": {
      "application/vnd.atoti.convert-mdx-query-result-to-widget.v0+json": {
       "mdx": "SELECT {[Measures].[PROFIT]} ON COLUMNS, NON EMPTY Crossjoin(Hierarchize(Descendants({[Atoti Sales].[DATE].[ALL].[AllMember]}, 1, SELF_AND_BEFORE)), Hierarchize(Descendants({[Atoti Product].[CATEGORY].[ALL].[AllMember]}, 2, SELF_AND_BEFORE))) DIMENSION PROPERTIES CHILDREN_CARDINALITY ON ROWS FROM (SELECT [Atoti Sales].[DATE].[ALL].[AllMember].[2022-02-04] ON COLUMNS FROM [Atoti Sales])",
       "sessionId": "1751467390_958766",
       "widgetCreationCode": "session.widget"
      },
      "text/html": [
       "<div>\n",
       "<style scoped>\n",
       "    .dataframe tbody tr th:only-of-type {\n",
       "        vertical-align: middle;\n",
       "    }\n",
       "\n",
       "    .dataframe tbody tr th {\n",
       "        vertical-align: top;\n",
       "    }\n",
       "\n",
       "    .dataframe thead th {\n",
       "        text-align: right;\n",
       "    }\n",
       "</style>\n",
       "<table border=\"1\" class=\"dataframe\">\n",
       "  <thead>\n",
       "    <tr style=\"text-align: right;\">\n",
       "      <th></th>\n",
       "      <th></th>\n",
       "      <th></th>\n",
       "      <th>PROFIT</th>\n",
       "    </tr>\n",
       "    <tr>\n",
       "      <th>DATE</th>\n",
       "      <th>CATEGORY</th>\n",
       "      <th>SUB_CATEGORY</th>\n",
       "      <th></th>\n",
       "    </tr>\n",
       "  </thead>\n",
       "  <tbody>\n",
       "    <tr>\n",
       "      <th rowspan=\"2\" valign=\"top\">2022-02-04</th>\n",
       "      <th>Cloth</th>\n",
       "      <th>Hoodie</th>\n",
       "      <td>10.00</td>\n",
       "    </tr>\n",
       "    <tr>\n",
       "      <th>Furniture</th>\n",
       "      <th>Table</th>\n",
       "      <td>20.00</td>\n",
       "    </tr>\n",
       "  </tbody>\n",
       "</table>\n",
       "</div>"
      ],
      "text/plain": [
       "                                  PROFIT\n",
       "DATE       CATEGORY  SUB_CATEGORY       \n",
       "2022-02-04 Cloth     Hoodie        10.00\n",
       "           Furniture Table         20.00"
      ]
     },
     "execution_count": 32,
     "metadata": {},
     "output_type": "execute_result"
    }
   ],
   "source": [
    "%%time\n",
    "\n",
    "cube.query(\n",
    "    m[\"PROFIT\"],\n",
    "    levels=[l[\"DATE\"], l[\"SUB_CATEGORY\"]],\n",
    "    filter=(l[\"DATE\"] == \"2022-02-04\"),\n",
    ")"
   ]
  },
  {
   "cell_type": "markdown",
   "id": "4b392590-0e19-4d03-84db-853028977e8b",
   "metadata": {},
   "source": [
    "## Balance between Cost and Performance"
   ]
  },
  {
   "cell_type": "markdown",
   "id": "1f44c57a-00ad-44eb-9195-ed0b0a808a62",
   "metadata": {},
   "source": [
    "All in all, Atoti's DirectQuery offers users a way to balance between cost and performance:\n",
    "\n",
    "* For data that is less queried, it resides on the cloud database and gets queried on-demand.\n",
    "* For data that is more frequently queried, we can cache it in memory and reduce the number of queries to the cloud database, thereby improving performance.  \n",
    "\n",
    "<img src=\"https://data.atoti.io/notebooks/direct-query/img/aggregate_cache.png\" />  \n",
    "\n",
    "💡 **Note:** To find out more, reach out to [ActiveViam](https://activeviam.com/contact-us/?utm_source=github&utm_medium=atoti) for a demonstration."
   ]
  },
  {
   "cell_type": "markdown",
   "id": "455e3f95-0a8c-48bf-b793-69d5fe2f2083",
   "metadata": {},
   "source": [
    "<div style=\"text-align: center;\" ><a href=\"https://www.atoti.io/?utm_source=gallery&utm_content=directquery-intro\" target=\"_blank\" rel=\"noopener noreferrer\"><img src=\"https://data.atoti.io/notebooks/banners/Your-turn-to-try-Atoti.jpg\" alt=\"Try Atoti\"></a></div>"
   ]
  }
 ],
 "metadata": {
  "kernelspec": {
   "display_name": "Python 3 (ipykernel)",
   "language": "python",
   "name": "python3"
  },
  "language_info": {
   "codemirror_mode": {
    "name": "ipython",
    "version": 3
   },
   "file_extension": ".py",
   "mimetype": "text/x-python",
   "name": "python",
   "nbconvert_exporter": "python",
   "pygments_lexer": "ipython3",
   "version": "3.11.10"
  },
  "widgets": {
   "application/vnd.jupyter.widget-state+json": {
    "state": {},
    "version_major": 2,
    "version_minor": 0
   }
  }
 },
 "nbformat": 4,
 "nbformat_minor": 5
}
