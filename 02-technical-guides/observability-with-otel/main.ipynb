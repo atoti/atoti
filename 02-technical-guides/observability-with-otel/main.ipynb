{
 "cells": [
  {
   "cell_type": "markdown",
   "id": "fe46c40a-4535-4114-84a6-5b3293298969",
   "metadata": {},
   "source": [
    "# Enabling Observability with OpenTelemetry\n",
    "\n",
    "Atoti Python API features an observability plugin to integrate OpenTelemetry with Atoti for better monitoring and debugging capabilities. \n",
    "\n",
    "In this notebook, we’ll explore how to set up observability for Atoti Python API using OpenTelemetry."
   ]
  },
  {
   "cell_type": "markdown",
   "id": "df6c1018-716d-4af9-9775-f2525331ae58",
   "metadata": {},
   "source": [
    "<div style=\"text-align: center;\" ><a href=\"https://www.atoti.io/?utm_source=gallery&utm_content=observability-with-otel\" target=\"_blank\" rel=\"noopener noreferrer\"><img src=\"https://data.atoti.io/notebooks/banners/Discover-Atoti-now.png\" alt=\"Try Atoti\"></a></div>"
   ]
  },
  {
   "cell_type": "code",
   "execution_count": null,
   "id": "9a1f3448-c703-48fa-a806-bf4fd5edec1d",
   "metadata": {},
   "outputs": [],
   "source": [
    "# !uv pip install 'atoti[observability]'"
   ]
  },
  {
   "cell_type": "code",
   "execution_count": null,
   "id": "c9aed4ad-29fc-4e22-8496-82f00360d1c4",
   "metadata": {},
   "outputs": [],
   "source": [
    "import atoti as tt\n",
    "import zipfile\n",
    "import wget\n",
    "from IPython.display import clear_output, display"
   ]
  },
  {
   "cell_type": "markdown",
   "id": "9c19bcff-dbfb-47c8-95d0-7b2ed9ee7c6e",
   "metadata": {},
   "source": [
    "## Start the OTEL stack"
   ]
  },
  {
   "cell_type": "markdown",
   "id": "4333798e-4cfe-46a8-b580-b6340b87ff00",
   "metadata": {},
   "source": [
    "To set up observability for Atoti using OpenTelemetry, we'll need a place to send our metrics, logs, and traces that can process and visualize our telemetry data.\n",
    "\n",
    "The `docker-compose.yaml` located in `otel-stack` configures the following multi-container [Docker](https://www.docker.com/) application:\n",
    "\n",
    "![otel-stack-diagram](https://data.atoti.io/notebooks/observability-with-otel/img/otel-stack-diagram.png)\n",
    "\n",
    "With the Atoti Python API observability plugin, Atoti can use OpenTelemetry to instrument its code and generate telemetry data during execution, which is then handled by the [OTEL collector](https://opentelemetry.io/docs/collector/)  and sent to the corresponding services integrated with [Grafana](https://grafana.com/):\n",
    "\n",
    "* **Traces:** Exported to [Tempo](https://grafana.com/oss/tempo/) (with OTLP).\n",
    "* **Logs:** Exported to [Loki](https://grafana.com/oss/loki/) (push to an endpoint).\n",
    "* **Metrics:** Scraped from the OTEL collector endpoint via [Prometheus](https://grafana.com/oss/prometheus/) every 15 seconds.\n",
    "\n",
    "Navigate to `otel-stack` and execute the following command to setup and confirm the containers are up and running:\n",
    "\n",
    "```bash\n",
    "docker compose up -d\n",
    "```\n",
    "\n",
    "💡 **Note:** Use the `docker ps` and `docker logs` commands to verify the containers are healthy and also diagnose issues if they arise, respectively.\n"
   ]
  },
  {
   "cell_type": "markdown",
   "id": "83ebe6ef-fbd3-4802-8ea3-1d1d5b440833",
   "metadata": {},
   "source": [
    "## Download data\n",
    "\n",
    "To simulate greater computation in this walk through, we've prepared 2GB worth of trades and books data."
   ]
  },
  {
   "cell_type": "code",
   "execution_count": null,
   "id": "e2d44517-7bec-40bc-a00d-0b2f1fd5907a",
   "metadata": {},
   "outputs": [],
   "source": [
    "url = f\"https://data.atoti.io/notebooks/observability-with-otel/data/data.zip\"\n",
    "filename = wget.download(url)\n",
    "\n",
    "with zipfile.ZipFile(filename, \"r\") as zip_ref:\n",
    "    zip_ref.extractall()"
   ]
  },
  {
   "cell_type": "markdown",
   "id": "11d5b438-dd8b-42da-bc3a-806345fd3d40",
   "metadata": {},
   "source": [
    "## Configure the Atoti session for OpenTelemetry\n",
    "\n",
    "When using the observability plugin for Atoti Python API, we'll need to configure the underlying Atoti Server JVM to use OpenTelemetry. \n",
    "\n",
    "The following configurations are set as their defaults:\n",
    "\n",
    "```java\n",
    "\"-Dspring.profiles.active=application-monitoring\",\n",
    "\"-Dotel.java.global-autoconfigure.enabled=true\",\n",
    "\"-Dotel.traces.exporter=otlp\",\n",
    "\"-Dotel.metrics.exporter=otlp\",\n",
    "\"-Dotel.logs.exporter=otlp\",\n",
    "\"-Dotel.exporter.otlp.endpoint=http://localhost:4318\",\n",
    "\"-Dotel.resource.attributes=service.name=atoti,service.version=1.0\",\n",
    "```\n",
    "\n",
    "The following configurations are user specific:\n",
    "\n",
    "```java\n",
    "\"-Djson.log.dir=logs\",\n",
    "\"-Dotel.traces.sampler=always_on\",\n",
    "\"-Dotel.metric.export.interval=1000\",\n",
    "\n",
    "```\n",
    "    \n",
    "We can also add in an OpenTelemetry java agent to report more metrics about the performance of the underlying JVM.\n",
    "\n",
    "```java\n",
    "\"-javaagent:opentelemetry-javaagent.jar\"\n",
    "```\n"
   ]
  },
  {
   "cell_type": "code",
   "execution_count": null,
   "id": "aef1b3b3-c26c-4a2a-b962-e0039c2c41cc",
   "metadata": {},
   "outputs": [],
   "source": [
    "url = f\"https://github.com/open-telemetry/opentelemetry-java-instrumentation/releases/latest/download/opentelemetry-javaagent.jar\"\n",
    "filename = wget.download(url)"
   ]
  },
  {
   "cell_type": "code",
   "execution_count": null,
   "id": "af47b24d-2e24-4125-a984-1154c923b027",
   "metadata": {},
   "outputs": [],
   "source": [
    "session = tt.Session.start(\n",
    "    tt.SessionConfig(\n",
    "        port=9105,\n",
    "        java_options=[\n",
    "            \"-Dspring.profiles.active=application-monitoring\",\n",
    "            \"-Dotel.java.global-autoconfigure.enabled=true\",\n",
    "            \"-Dotel.traces.exporter=otlp\",\n",
    "            \"-Dotel.metrics.exporter=otlp\",\n",
    "            \"-Dotel.logs.exporter=otlp\",\n",
    "            \"-Dotel.exporter.otlp.endpoint=http://localhost:4318\",\n",
    "            \"-Dotel.resource.attributes=service.name=atoti,service.version=1.0\",\n",
    "            \"-Djson.log.dir=logs\",\n",
    "            \"-Dotel.traces.sampler=always_on\",\n",
    "            \"-Dotel.metric.export.interval=1000\",\n",
    "            \"-javaagent:opentelemetry-javaagent.jar\",\n",
    "        ],\n",
    "    )\n",
    ")"
   ]
  },
  {
   "cell_type": "markdown",
   "id": "84689afb-75b5-44f9-aeb2-fd751caa081a",
   "metadata": {},
   "source": [
    "## Load data, join data, visualize data model\n",
    "\n",
    "We then load our data into tables, make the corresponding joins, and visualize the data model of the cube."
   ]
  },
  {
   "cell_type": "code",
   "execution_count": null,
   "id": "5a25dd6e-e986-4009-ab5d-8697fae520cd",
   "metadata": {},
   "outputs": [],
   "source": [
    "trades_tbl = session.read_csv(\n",
    "    \"data/trades/TradePnLs*.csv\",\n",
    "    table_name=\"Trade PnL\",\n",
    "    keys=[\"AsOfDate\", \"TradeId\", \"BookId\", \"DataSet\"],\n",
    "    array_separator=\";\",\n",
    ")\n",
    "books_tbl = session.read_csv(\n",
    "    \"data/books/books_books.csv\", table_name=\"Books\", keys=[\"BOOKID\"]\n",
    ")\n",
    "trades_tbl.join(books_tbl, trades_tbl[\"BookId\"] == books_tbl[\"BOOKID\"])\n",
    "\n",
    "cube = session.create_cube(trades_tbl)\n",
    "h, l, m = cube.hierarchies, cube.levels, cube.measures\n",
    "\n",
    "print(f\"Trades Row Count: {trades_tbl.row_count}\")\n",
    "print(f\"Books Row Count: {books_tbl.row_count}\")\n",
    "\n",
    "session.tables.schema"
   ]
  },
  {
   "cell_type": "code",
   "execution_count": null,
   "id": "b2bb5b8f-2c24-4b3e-b447-4e2128334a15",
   "metadata": {},
   "outputs": [],
   "source": [
    "m"
   ]
  },
  {
   "cell_type": "markdown",
   "id": "ee2773bd-b529-4bce-aa92-15a0ac6f4e71",
   "metadata": {},
   "source": [
    "### Computing VaR 95\n",
    "\n",
    "We have a `pnl_vector.SUM` which is the sum of the profit and loss (PnL) value for each historical date. Therefore, we can define the formula for a 95% confidence level [value at risk (VaR)](https://www.investopedia.com/articles/04/092904.asp) measure as follows:"
   ]
  },
  {
   "cell_type": "code",
   "execution_count": null,
   "id": "0fd8d2bd-e90a-4e9b-8f73-a3dc7f3cbfa7",
   "metadata": {},
   "outputs": [],
   "source": [
    "m[\"VaR95\"] = tt.array.quantile(m[\"pnl_vector.SUM\"], 1 - 0.95)"
   ]
  },
  {
   "cell_type": "code",
   "execution_count": null,
   "id": "ccd7c76a-ca77-4e5e-85fc-73be2c2638fe",
   "metadata": {
    "atoti": {
     "widget": {
      "mapping": {
       "columns": [
        "ALL_MEASURES"
       ],
       "measures": [
        "[Measures].[VaR95]"
       ],
       "rows": [
        "[Trade PnL].[AsOfDate].[AsOfDate] => [Books].[BUSINESS_UNIT].[BUSINESS_UNIT]"
       ]
      },
      "query": {
       "mdx": "SELECT NON EMPTY Hierarchize(Descendants({[Trade PnL].[AsOfDate].[ALL].[AllMember]}, 1, SELF_AND_BEFORE)) ON ROWS, NON EMPTY {[Measures].[VaR95]} ON COLUMNS FROM [Trade PnL] CELL PROPERTIES VALUE, FORMATTED_VALUE, BACK_COLOR, FORE_COLOR, FONT_FLAGS",
       "updateMode": "once"
      },
      "serverKey": "default",
      "widgetKey": "pivot-table"
     }
    }
   },
   "outputs": [],
   "source": [
    "session.widget"
   ]
  },
  {
   "cell_type": "markdown",
   "id": "d768bc78-a8d3-4d33-bcb4-55076d6b6375",
   "metadata": {},
   "source": [
    "## Monitoring Performance\n",
    "\n",
    "By this point, Atoti will have already sent over telemetry data to the OpenTelemetry collector. This data can then be processed and visualized in Grafana using Loki, Tempo, and Prometheus."
   ]
  },
  {
   "cell_type": "markdown",
   "id": "820ff974-6323-43c8-961b-87a497960728",
   "metadata": {},
   "source": [
    "### Metrics\n",
    "\n",
    "Metrics are quantifiable measurements that reflect the behvaior, health, and performance of an application and its infrastructure.\n",
    "\n",
    "Navigate to the Grafana UI located at [localhost:3000](http://localhost:3000) and click on the *Metrics* item in the left-hand pane to pull up the metric charts. By instrumenting Atoti code with OpenTelemetry using the observability plugin, we can genereate Atoti-specific metrics and visualize them in Grafana using Prometheus.\n",
    "\n",
    "💡 **Note:** Check out the documentation for more information on [Atoti-specific metrics](https://docs.activeviam.com/products/atoti/server/6.1.0/docs/monitoring/metrics/).\n",
    "\n",
    "![metrics](https://data.atoti.io/notebooks/observability-with-otel/img/metrics.png)\n",
    "\n",
    "Similarly, we can also view the JVM metrics reported by the OpenTelemetry Java agent.\n",
    "\n",
    "![java-metrics](https://data.atoti.io/notebooks/observability-with-otel/img/java-metrics.png)"
   ]
  },
  {
   "cell_type": "markdown",
   "id": "36a06676-e613-4320-bfa9-7758a5b76bbc",
   "metadata": {},
   "source": [
    "## Logs\n",
    "\n",
    "Logs are the detailed records of events, warnings and errors occurring over time for a software application or system. \n",
    "\n",
    "When we view the Atoti logs in Grafana using Loki, we see the underlying events performed in this notebook: starting the Atoti session, loading data from CSV, creating the cube, and most recently, querying the database using the Atoti JupyterLab widget shown in previous cells.\n",
    "\n",
    "![logs](https://data.atoti.io/notebooks/observability-with-otel/img/logs-2.png)"
   ]
  },
  {
   "cell_type": "markdown",
   "id": "69eb39d4-7871-4db8-a596-672c45b3b57b",
   "metadata": {},
   "source": [
    "## Traces\n",
    "\n",
    "Traces are the detailed records of how a request flows through a system, tracking its journey across different components, services, or processes. Traces are critical for understanding the flow of requests and interactions within a system and are made of one or more spans.\n",
    "\n",
    "If we select one of the logs relating to the `VaR95` query executed in previous cells, we can pinpoint its `TraceID`.\n",
    "\n",
    "![logs-traceid](https://data.atoti.io/notebooks/observability-with-otel/img/logs-traceid-2.png)\n",
    "\n",
    "With Grafana and Tempo, we visualize the flow of the `TraceID` and get a better understanding of the different components or services that were impacted when querying the Atoti database using the Atoti JupyterLab widget.\n",
    "\n",
    "![traceid-spans](https://data.atoti.io/notebooks/observability-with-otel/img/traceid-spans-2.png)"
   ]
  },
  {
   "cell_type": "markdown",
   "id": "147cc6f8-b22a-4f6f-8349-50ac61760152",
   "metadata": {},
   "source": [
    "## Monitoring aggregate providers\n",
    "\n",
    "A common use case in Atoti is to use aggregate providers to speed up queries. Aggregate providers pre-compute and store aggregates for the specified granularity for certain hierarchies. These intermediate aggregates are then stored in-memory and used to improve query performance, though at the cost of a higher memory footprint.\n",
    "\n",
    "💡 **Note:** Take a look at the [aggregate providers](../aggregate-provider/main.ipynb) notebook for a better understanding of how to use aggregate providers.\n",
    "\n",
    "Let's use the observability plugin for Atoti Python API to monitor the creation and use of an aggregate provider. We'll use the `query` function with the `%%time` magic command to get a second opinion of how long it takes the query to return the results for the `VaR95` calculation at the specified granularity and slice of data."
   ]
  },
  {
   "cell_type": "code",
   "execution_count": null,
   "id": "771537e3-de21-43fc-b012-753afeeff88d",
   "metadata": {},
   "outputs": [],
   "source": [
    "%%time\n",
    "cube.query(\n",
    "    m[\"VaR95\"],\n",
    "    levels=[l[\"BUSINESS_UNIT\"], l[\"SUB_BUSINESS_UNIT\"], l[\"TRADING_DESK\"]],\n",
    ")"
   ]
  },
  {
   "cell_type": "markdown",
   "id": "14e7cae9-149b-4c93-95a5-a84faf71f058",
   "metadata": {},
   "source": [
    "When we re-visit Grafana and Tempo and monitor the trace for the query, we can see the corresponding breakdown of spans for each of the underlying services that were impacted.\n",
    "\n",
    "💡 **Note:** The time taken produced by `%%time` may differ from what is shown in the corresponding TraceID diagram. This is because `%%time` measures the execution time of the notebook cell entirely, whereas the TraceID measures the execution time of a request traveling through the system.\n",
    "\n",
    "![before-aggregate-provider](https://data.atoti.io/notebooks/observability-with-otel/img/before-aggregate-provider.png)"
   ]
  },
  {
   "cell_type": "markdown",
   "id": "c0c1c0c5-2c00-470a-835e-192b506c217a",
   "metadata": {},
   "source": [
    "Let's create our aggregate provider to match the granularity of the previous query for the `pnl_vector.SUM` measure, which is used as an intermediate aggregate when calculating `VaR95`."
   ]
  },
  {
   "cell_type": "code",
   "execution_count": null,
   "id": "467a7574-83b9-4827-9e18-2651a948c7ea",
   "metadata": {},
   "outputs": [],
   "source": [
    "cube.aggregate_providers.update(\n",
    "    {\n",
    "        \"PnL provider\": tt.AggregateProvider(\n",
    "            key=\"bitmap\",\n",
    "            levels=[\n",
    "                l[\"BUSINESS_UNIT\"],\n",
    "                l[\"SUB_BUSINESS_UNIT\"],\n",
    "                l[\"TRADING_DESK\"],\n",
    "            ],\n",
    "            measures=[m[\"pnl_vector.SUM\"]],\n",
    "        )\n",
    "    }\n",
    ")"
   ]
  },
  {
   "cell_type": "markdown",
   "id": "32b5f850-d7ce-4845-8337-8e6c73d70dda",
   "metadata": {},
   "source": [
    "Then, re-run the query."
   ]
  },
  {
   "cell_type": "code",
   "execution_count": null,
   "id": "a4418335-20e7-467d-b48b-5fdd35152806",
   "metadata": {},
   "outputs": [],
   "source": [
    "%%time\n",
    "cube.query(\n",
    "    m[\"VaR95\"],\n",
    "    levels=[l[\"BUSINESS_UNIT\"], l[\"SUB_BUSINESS_UNIT\"], l[\"TRADING_DESK\"]],\n",
    ")"
   ]
  },
  {
   "cell_type": "markdown",
   "id": "7fcae090-9b54-4449-a29c-466cd9d1aa18",
   "metadata": {},
   "source": [
    "Sure enough, the `%%time` magic command suggests that query times have improved thanks to the aggregate provider. In addition, when we view the corresponding TraceID in Grafana and Tempo, we can visualize the granular improvement for the request.\n",
    "\n",
    "![after-aggregate-provider](https://data.atoti.io/notebooks/observability-with-otel/img/after-aggregate-provider.png)"
   ]
  },
  {
   "cell_type": "markdown",
   "id": "9a01f240-c9c8-4dab-9862-18a889e91ccf",
   "metadata": {},
   "source": [
    "This walk through was just a small example of how to get observability up and running with OpenTelemetry using the Atoti observability plugin. In production, the importance of performance tuning and monitoring will become more and more relevant as the Atoti application continues to scale."
   ]
  },
  {
   "cell_type": "markdown",
   "id": "c92cf61f-d9e1-4911-8b76-2d08e4a8eda8",
   "metadata": {},
   "source": [
    "<div style=\"text-align: center;\" ><a href=\"https://www.atoti.io/?utm_source=gallery&utm_content=observability-with-otel\" target=\"_blank\" rel=\"noopener noreferrer\"><img src=\"https://data.atoti.io/notebooks/banners/Your-turn-to-try-Atoti.jpg\" alt=\"Try Atoti\"></a></div>"
   ]
  }
 ],
 "metadata": {
  "kernelspec": {
   "display_name": "Python 3 (ipykernel)",
   "language": "python",
   "name": "python3"
  },
  "language_info": {
   "codemirror_mode": {
    "name": "ipython",
    "version": 3
   },
   "file_extension": ".py",
   "mimetype": "text/x-python",
   "name": "python",
   "nbconvert_exporter": "python",
   "pygments_lexer": "ipython3",
   "version": "3.11.10"
  },
  "widgets": {
   "application/vnd.jupyter.widget-state+json": {
    "state": {},
    "version_major": 2,
    "version_minor": 0
   }
  }
 },
 "nbformat": 4,
 "nbformat_minor": 5
}
