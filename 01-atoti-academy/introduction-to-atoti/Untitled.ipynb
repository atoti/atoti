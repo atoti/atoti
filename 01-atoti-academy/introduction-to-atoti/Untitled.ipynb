{
 "cells": [
  {
   "cell_type": "code",
   "execution_count": 5,
   "id": "d437541c-b102-4c0b-b5e4-9d074444007e",
   "metadata": {},
   "outputs": [
    {
     "name": "stdout",
     "output_type": "stream",
     "text": [
      "0.8.14\n"
     ]
    }
   ],
   "source": [
    "from importlib.metadata import version\n",
    "print(version(\"atoti\"))"
   ]
  },
  {
   "cell_type": "code",
   "execution_count": 4,
   "id": "a77658c8-7c4b-40cc-95cb-8423cb2791e7",
   "metadata": {},
   "outputs": [
    {
     "name": "stdout",
     "output_type": "stream",
     "text": [
      "<module 'atoti._version' from '/Users/aya/Library/Caches/pypoetry/virtualenvs/notebooks-k2yxt2gM-py3.10/lib/python3.10/site-packages/atoti/_version.py'>\n"
     ]
    }
   ],
   "source": [
    "print(atoti._version)"
   ]
  },
  {
   "cell_type": "code",
   "execution_count": null,
   "id": "2627f5e0-1586-4002-8b4d-32f3f7d67436",
   "metadata": {},
   "outputs": [],
   "source": []
  }
 ],
 "metadata": {
  "kernelspec": {
   "display_name": "Python 3 (ipykernel)",
   "language": "python",
   "name": "python3"
  },
  "language_info": {
   "codemirror_mode": {
    "name": "ipython",
    "version": 3
   },
   "file_extension": ".py",
   "mimetype": "text/x-python",
   "name": "python",
   "nbconvert_exporter": "python",
   "pygments_lexer": "ipython3",
   "version": "3.10.13"
  },
  "widgets": {
   "application/vnd.jupyter.widget-state+json": {
    "state": {},
    "version_major": 2,
    "version_minor": 0
   }
  }
 },
 "nbformat": 4,
 "nbformat_minor": 5
}
