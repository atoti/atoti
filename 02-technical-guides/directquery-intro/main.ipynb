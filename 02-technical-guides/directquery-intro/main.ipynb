{
 "cells": [
  {
   "cell_type": "markdown",
   "id": "ac3fbb12-82a8-4e9f-aa4e-e1ad414ce283",
   "metadata": {},
   "source": [
    "# DirectQuery: Combining Atoti and Data Warehouses"
   ]
  },
  {
   "cell_type": "markdown",
   "id": "a671e16d-c06b-432f-92c6-5b2d2f7043bd",
   "metadata": {},
   "source": [
    "We know Atoti provides in-memory analytics for big data. This means that we hold data in memory and perform aggregation on the fly in order to achieve fast and dynamic computations. In our usual Atoti setup, the hosting server requires a memory size that's about 1.5 times of the amount of data that gets loaded into the cube. However, with Atoti's DirectQuery, we can better support our users who store their data on the cloud! In fact, it applies for on-premise databases such as [ClickHouse](https://clickhouse.com/clickhouse) and [Microsoft SQL Server](https://www.microsoft.com/en-sg/sql-server/sql-server-downloads) too.  \n",
    "\n",
    "<img src=\"https://data.atoti.io/notebooks/direct-query/img/cost_vs_performance.png\" width=\"850px\"/>\n",
    "\n",
    "In a gist, here's what DirectQuery offers:  \n",
    "\n",
    "- Scalability\n",
    "\n",
    "> Leveraging the scalability of cloud data warehouse, the server that hosts Atoti only has to take into consideration the amount of data that gets queried on a daily basis.  \n",
    "> Instead of storing all of the data in physical memory, DirectQuery enables us to query the Cloud database directly, reducing the need for memory in the hosting server.  \n",
    "\n",
    "- Cost savings\n",
    "\n",
    "> Other than saving on the memory required for the hosting server, DirectQuery helps to save on the data transfer costs.  \n",
    "> While cloud data warehouse is cost-effective, we incur costs when we perform queries.  \n",
    "> We can reduce querying to the Cloud database by loading an aggregated cache in memory for the most frequently queried data.  \n",
    "\n",
    "- Technology agnosticism\n",
    "\n",
    "> With changes to only a few lines of data connectivity code in Atoti, we can easily switch from one Cloud service provider to another without impacting the Atoti server.  \n",
    "> We can even switch over to other data connectors such as physical files.  \n",
    "\n",
    "\n",
    "This notebook provides a quick introduction to how we can connect to Google BigQuery and create an Atoti cube."
   ]
  },
  {
   "cell_type": "markdown",
   "id": "f23aeb88-5455-44ee-892d-4aa7fc2dbfb7",
   "metadata": {},
   "source": [
    "<div style=\"text-align: center;\" ><a href=\"https://www.atoti.io/?utm_source=gallery&utm_content=directquery-intro\" target=\"_blank\" rel=\"noopener noreferrer\"><img src=\"https://data.atoti.io/notebooks/banners/Discover-Atoti-now.png\" alt=\"Try Atoti\"></a></div>"
   ]
  },
  {
   "cell_type": "markdown",
   "id": "663b2051-11e1-4815-8a2c-fde3d450d07b",
   "metadata": {},
   "source": [
    "## Google BigQuery configuration"
   ]
  },
  {
   "cell_type": "markdown",
   "id": "1db76b03-dbe0-4223-a656-8b7e9e2ff260",
   "metadata": {},
   "source": [
    "### Step 1 — Create role with permissions\n",
    "\n",
    "- Login to Google Cloud console.\n",
    "- Navigate to __IAM & Admin__ > __Roles__.  \n",
    "- Create a role with the following permission for the DirectQuery users:  \n",
    "    - `bigquery.datasets.get`\n",
    "    - `bigquery.jobs.create`\n",
    "    - `bigquery.readsessions.create`\n",
    "    - `bigquery.readsessions.getData`\n",
    "    - `bigquery.readsessions.update`\n",
    "    - `bigquery.routines.get`\n",
    "    - `bigquery.tables.get`\n",
    "    - `bigquery.tables.getData`\n",
    "    - `bigquery.tables.list`\n",
    "\n",
    "⚠️ **Important:** Having trouble pulling your data after setting up your account? Confirm that the above permissions have been set up properly!  \n",
    "\n",
    "<img src=\"https://data.atoti.io/notebooks/direct-query/img/bigquery_permission.png\" />\n",
    "\n",
    "💡 **Note:** For more details, refer to the [Atoti Server documentation](https://docs.activeviam.com/products/atoti/server/latest/docs/directquery/connect_to_external/connect_to_bigquery/)."
   ]
  },
  {
   "cell_type": "markdown",
   "id": "2143280e-d2b0-4da1-b20d-78af65d26753",
   "metadata": {},
   "source": [
    "### Step 2 — Create Service Account\n",
    "\n",
    "* Under **IAM & Admin**, navigate to **Service Accounts**.\n",
    "* Create a service account and assign the role created in Step 1.\n",
    "\n",
    "    <img src=\"https://data.atoti.io/notebooks/direct-query/img/service_account.png\" width=\"700px\"/>  "
   ]
  },
  {
   "cell_type": "markdown",
   "id": "03e75ceb-055a-4986-aa8d-6858422b260a",
   "metadata": {
    "tags": []
   },
   "source": [
    "### Step 3 — Generate API Key \n",
    "\n",
    "- Navigate to the __KEYS__ tab and generate a new key.  \n",
    "\n",
    "    <img src=\"https://data.atoti.io/notebooks/direct-query/img/create_key.png\" />  \n",
    "\n",
    "- Select `JSON` as key type and save the downloaded key to a server folder:  \n",
    "\n",
    "    <img src=\"https://data.atoti.io/notebooks/direct-query/img/json_key.png\" />\n",
    "\n",
    "- Configure environment variable pointing to the JSON key. In this use case, our environment variable is `DQ_GOOGLE_CREDENTIAL`:  \n",
    "\n",
    "    <img src=\"https://data.atoti.io/notebooks/direct-query/img/environment_variable.png\" />  \n",
    "\n",
    "💡 **Note:** Alternatively, we can set up [Application Default Credentials](https://cloud.google.com/docs/authentication/provide-credentials-adc) for authentication.  "
   ]
  },
  {
   "cell_type": "markdown",
   "id": "95e30413-d630-4b1b-a304-d824e9649c3d",
   "metadata": {},
   "source": [
    "## Database set up  \n",
    "\n",
    "To try out this notebook, you can setup the database schema and tables using the [database script](db_schema.sql) in the use case folder.  "
   ]
  },
  {
   "cell_type": "markdown",
   "id": "fcfd6d72-801a-460c-9e1f-4e0843909442",
   "metadata": {},
   "source": [
    "## Atoti Setup"
   ]
  },
  {
   "cell_type": "markdown",
   "id": "8857ebb1-032f-4b69-84e6-b8cf7e431def",
   "metadata": {},
   "source": [
    "We import [Atoti](https://docs.atoti.io/latest/getting_started/installation.html) library and create the [Atoti Session](https://docs.atoti.io/latest/api/atoti.Session.html#atoti.Session) as we always do.  "
   ]
  },
  {
   "cell_type": "code",
   "execution_count": 1,
   "id": "7d97f0ea-5b39-4c60-9a10-1cae5a22616d",
   "metadata": {
    "tags": []
   },
   "outputs": [],
   "source": [
    "import os\n",
    "import atoti as tt"
   ]
  },
  {
   "cell_type": "code",
   "execution_count": 2,
   "id": "3898f076-a031-49b7-a75f-074008d89a26",
   "metadata": {
    "tags": []
   },
   "outputs": [],
   "source": [
    "session = tt.Session.start()"
   ]
  },
  {
   "cell_type": "markdown",
   "id": "9e855ec8-18bb-46fa-8e99-751edafeb94c",
   "metadata": {},
   "source": [
    "## DirectQuery Prerequisites"
   ]
  },
  {
   "cell_type": "markdown",
   "id": "01a8923b-80b3-4bfd-86a0-2d705d4bb805",
   "metadata": {},
   "source": [
    "DirectQuery supports a few [databases](https://docs.atoti.io/latest/reference.html#directquery). For each of these databases, we have to install its respective Python plugin.  \n",
    "- `atoti-directquery-bigquery` : To use DirectQuery on Google BigQuery.\n",
    "- `atoti-directquery-clickhouse` : To use DirectQuery with ClickHouse.\n",
    "- `atoti-directquery-databricks` : To use DirectQuery on Databricks.\n",
    "- `atoti-directquery-mssql` : To use DirectQuery with Microsoft SQL Server.\n",
    "- `atoti-directquery-redshift` : To use DirectQuery on Amazon Redshift.\n",
    "- `atoti-directquery-snowflake` : To use DirectQuery on Snowflake.\n",
    "- `atoti-directquery-synapse` : To use DirectQuery on Azure Synapse Analytics.  \n",
    "\n",
    "In our example, we install the plugin for Google BigQuery. Uncomment the below line to install the plugin if it isn't installed.  \n",
    "\n",
    "⚠️ **Important:** We only support one type of database connection per Atoti session."
   ]
  },
  {
   "cell_type": "code",
   "execution_count": 3,
   "id": "af8780d7-ec54-481a-98d7-4cc9f7e030c1",
   "metadata": {
    "tags": []
   },
   "outputs": [],
   "source": [
    "# !uv pip install \"atoti[directquery-bigquery]\""
   ]
  },
  {
   "cell_type": "markdown",
   "id": "1d997a63-e2db-48f9-b501-0532c5eabb3d",
   "metadata": {},
   "source": [
    "We will be using two components from the DirectQueryPlugin:\n",
    "- [BigqueryConnectionInfo](https://docs.atoti.io/latest/api/atoti_directquery_bigquery.BigqueryConnectionInfo.html#atoti_directquery_bigquery.BigqueryConnectionInfo): Configure the connection information to BigQuery.\n",
    "- [BigqueryTableOptions](https://docs.atoti.io/latest/api/atoti_directquery_bigquery.BigqueryTableOptions.html#atoti_directquery_bigquery.BigqueryTableOptions): Configure the table options about the external table to create in Atoti.  \n",
    "\n",
    "⚠️ **Important:** Use the corresponding components for different databases if we are using a different one from BigQuery. E.g. we use [`ClickhouseConnectionInfo`](https://docs.atoti.io/latest/api/atoti_directquery_clickhouse.ClickhouseConnectionInfo.html#atoti_directquery_clickhouse.ClickhouseConnectionInfo) and [`ClickhouseTableOptions`](https://docs.atoti.io/latest/api/atoti_directquery_clickhouse.ClickhouseTableOptions.html#atoti_directquery_clickhouse.ClickhouseTableOptions) if we are connecting to [ClickHouse](https://clickhouse.com/)."
   ]
  },
  {
   "cell_type": "markdown",
   "id": "4509d71b-4d1b-4297-b18a-10430b128507",
   "metadata": {},
   "source": [
    "## Connection setup to Google BigQuery"
   ]
  },
  {
   "cell_type": "code",
   "execution_count": 4,
   "id": "f5eb2f90-be60-4332-80d2-1a5cd83147d4",
   "metadata": {
    "tags": []
   },
   "outputs": [],
   "source": [
    "from atoti_directquery_bigquery import ConnectionConfig"
   ]
  },
  {
   "cell_type": "markdown",
   "id": "00b90385-93af-479f-888a-bc0677f73eb2",
   "metadata": {},
   "source": [
    "In the below snippet, we use the environment variable to obtain the path to the [API key generated previous in Step 3](#Step-3-—-Generate-API-Key). Setting the credential path into `BigqueryConnectionInfo`, we can invoke the connection to the external database.  "
   ]
  },
  {
   "cell_type": "code",
   "execution_count": 5,
   "id": "ea50d105-284f-4296-b654-b5465037d634",
   "metadata": {
    "tags": []
   },
   "outputs": [],
   "source": [
    "credential = os.environ[\"DQ_GOOGLE_CREDENTIAL\"]\n",
    "connection_info = ConnectionConfig(credentials=credential)\n",
    "\n",
    "external_database = session.connect_to_external_database(connection_info)"
   ]
  },
  {
   "cell_type": "markdown",
   "id": "8e7f4c10-5dc6-4c53-aeea-ef4864471caf",
   "metadata": {},
   "source": [
    "### Discover External Tables"
   ]
  },
  {
   "cell_type": "markdown",
   "id": "51f3c2ee-c57b-49df-9756-60c96d9b0734",
   "metadata": {
    "tags": []
   },
   "source": [
    "Once connected, we can discover the tables available to us from the external database."
   ]
  },
  {
   "cell_type": "code",
   "execution_count": 6,
   "id": "5e85bd6f-dd6a-4ab8-a2f2-51d7759466de",
   "metadata": {
    "tags": []
   },
   "outputs": [
    {
     "data": {
      "application/json": {
       "bd-project-386413": {
        "fpna_demo": [
         "amount",
         "amount_details",
         "bsg",
         "entity",
         "ftp_type",
         "fv",
         "fx_local",
         "geo",
         "gl_account",
         "gl_acct",
         "product",
         "scenario",
         "source_account",
         "source_acct",
         "source_mis",
         "standard_org",
         "taxonomy",
         "ucoa"
        ],
        "tutorial": [
         "PRODUCTS",
         "SALES"
        ],
        "var_demo": [
         "BOOKS",
         "TRADE_PNLS"
        ]
       }
      },
      "text/html": [
       "<ul>\n",
       "<li>BIGQUERY\n",
       "  <ul>\n",
       "  <li>bd-project-386413\n",
       "    <ul>\n",
       "    <li>var_demo\n",
       "      <ol>\n",
       "      <li>BOOKS</li>\n",
       "      <li>TRADE_PNLS</li>\n",
       "      </ol>    </li>\n",
       "    <li>fpna_demo\n",
       "      <ol>\n",
       "      <li>amount</li>\n",
       "      <li>amount_details</li>\n",
       "      <li>bsg</li>\n",
       "      <li>entity</li>\n",
       "      <li>ftp_type</li>\n",
       "      <li>fv</li>\n",
       "      <li>fx_local</li>\n",
       "      <li>geo</li>\n",
       "      <li>gl_account</li>\n",
       "      <li>gl_acct</li>\n",
       "      <li>product</li>\n",
       "      <li>scenario</li>\n",
       "      <li>source_account</li>\n",
       "      <li>source_acct</li>\n",
       "      <li>source_mis</li>\n",
       "      <li>standard_org</li>\n",
       "      <li>taxonomy</li>\n",
       "      <li>ucoa</li>\n",
       "      </ol>    </li>\n",
       "    <li>tutorial\n",
       "      <ol>\n",
       "      <li>PRODUCTS</li>\n",
       "      <li>SALES</li>\n",
       "      </ol>    </li>\n",
       "    </ul>\n",
       "  </li>\n",
       "  </ul>\n",
       "</li>\n",
       "</ul>\n"
      ],
      "text/plain": [
       "<atoti.directquery.external_tables.ExternalTables at 0x12566d3d0>"
      ]
     },
     "execution_count": 6,
     "metadata": {
      "application/json": {
       "expanded": false,
       "root": "BIGQUERY"
      }
     },
     "output_type": "execute_result"
    }
   ],
   "source": [
    "external_database.tables"
   ]
  },
  {
   "cell_type": "markdown",
   "id": "4187eaef-cae3-44ca-80c1-dd952dd3faab",
   "metadata": {},
   "source": [
    "If the database has many schemas, we can perform a filter to access only the schema that we want."
   ]
  },
  {
   "cell_type": "code",
   "execution_count": 7,
   "id": "63c5fafe-05e1-429e-8f35-9f3f072e34f7",
   "metadata": {
    "tags": []
   },
   "outputs": [
    {
     "data": {
      "application/json": {
       "bd-project-386413": {
        "tutorial": [
         "PRODUCTS",
         "SALES"
        ]
       }
      },
      "text/html": [
       "<ul>\n",
       "<li>BIGQUERY\n",
       "  <ul>\n",
       "  <li>bd-project-386413\n",
       "    <ul>\n",
       "    <li>tutorial\n",
       "      <ol>\n",
       "      <li>PRODUCTS</li>\n",
       "      <li>SALES</li>\n",
       "      </ol>    </li>\n",
       "    </ul>\n",
       "  </li>\n",
       "  </ul>\n",
       "</li>\n",
       "</ul>\n"
      ],
      "text/plain": [
       "<atoti.directquery.external_tables.ExternalTables at 0x1333d1d90>"
      ]
     },
     "execution_count": 7,
     "metadata": {
      "application/json": {
       "expanded": false,
       "root": "BIGQUERY"
      }
     },
     "output_type": "execute_result"
    }
   ],
   "source": [
    "external_database.tables._filter(schema_name=\"tutorial\")"
   ]
  },
  {
   "cell_type": "markdown",
   "id": "f1308a2c-a4d2-40e5-9985-7013fa05a9fb",
   "metadata": {},
   "source": [
    "### Discover Table Columns"
   ]
  },
  {
   "cell_type": "markdown",
   "id": "e72119a9-ed38-4d83-a8a5-1fe021b48e5c",
   "metadata": {},
   "source": [
    "If a table name is unique in the database, we can check its structure directly using its name:  "
   ]
  },
  {
   "cell_type": "code",
   "execution_count": 8,
   "id": "f91519b6-a36b-4f0c-b1f0-949b0be22d5f",
   "metadata": {
    "tags": []
   },
   "outputs": [
    {
     "data": {
      "application/json": {
       "DATE": "LocalDate",
       "PRODUCT": "String",
       "QUANTITY": "long",
       "SALE_ID": "String",
       "SHOP": "String",
       "UNIT_PRICE": "double"
      },
      "text/html": [
       "<ul>\n",
       "<li>SALES\n",
       "  <ul>\n",
       "  <li>SALE_ID: String</li>\n",
       "  <li>DATE: LocalDate</li>\n",
       "  <li>SHOP: String</li>\n",
       "  <li>PRODUCT: String</li>\n",
       "  <li>QUANTITY: long</li>\n",
       "  <li>UNIT_PRICE: double</li>\n",
       "  </ul>\n",
       "</li>\n",
       "</ul>\n"
      ],
      "text/plain": [
       "<atoti.directquery.external_table.ExternalTable at 0x1333f0350>"
      ]
     },
     "execution_count": 8,
     "metadata": {
      "application/json": {
       "expanded": true,
       "root": "SALES"
      }
     },
     "output_type": "execute_result"
    }
   ],
   "source": [
    "external_database.tables[\"SALES\"]"
   ]
  },
  {
   "cell_type": "markdown",
   "id": "1d9ef3fb-85a5-472b-aa12-8a88e3d1e6d9",
   "metadata": {},
   "source": [
    "However, to be precise, it is a good practice to refer to the table using its database, schema and table names. Uncomment and execute the following cells as to try this out."
   ]
  },
  {
   "cell_type": "code",
   "execution_count": 9,
   "id": "247c876c-2b44-4b0f-8bcf-8864350bb3d6",
   "metadata": {
    "tags": []
   },
   "outputs": [],
   "source": [
    "# db_name = \"<database name here>\"\n",
    "# db_schema = \"tutorial\"\n",
    "# table_sales = \"SALES\""
   ]
  },
  {
   "cell_type": "code",
   "execution_count": 10,
   "id": "fbfde589-b458-474d-8665-af7b016598bc",
   "metadata": {
    "tags": []
   },
   "outputs": [],
   "source": [
    "# external_database.tables[db_name, db_schema, table_sales]"
   ]
  },
  {
   "cell_type": "markdown",
   "id": "85d14ebe-eb8a-4216-8564-8330b4b7b0d9",
   "metadata": {},
   "source": [
    "## Add External Table to Atoti"
   ]
  },
  {
   "cell_type": "markdown",
   "id": "8fa1b581-ee16-4730-8ea2-b29fa14ee03a",
   "metadata": {},
   "source": [
    "Since we have connected to the external database and we are able to see its structure, we can add the required tables to the Atoti session.  \n",
    "\n",
    "Using [BigqueryTableOptions](https://docs.atoti.io/latest/api/atoti_directquery_bigquery.BigqueryTableOptions.html#atoti_directquery_bigquery.BigqueryTableOptions), we can define additional options to the table that we will create in Atoti:\n",
    "\n",
    "- `array_conversion`: Converting values spread over multiple columns into array columns.\n",
    "- `clustering_columns`: Columns used for splitting up queries.\n",
    "- `keys`: Keys used to identify unique rows for updating of data.\n",
    "\n",
    "We will only use `keys` and `clustering_columns` in our example."
   ]
  },
  {
   "cell_type": "code",
   "execution_count": 11,
   "id": "7dab34b4-ca6f-4c80-8ba9-f8534f9eae5b",
   "metadata": {
    "tags": []
   },
   "outputs": [],
   "source": [
    "from atoti_directquery_bigquery import TableConfig"
   ]
  },
  {
   "cell_type": "markdown",
   "id": "790b7a07-c762-438a-878e-de3611f39b5c",
   "metadata": {},
   "source": [
    "Similar to how we create keys for Atoti tables, we set the key columns in the `BigqueryTableOptions`. Note that this external table is created in Atoti and the defined keys affects only the data that is accessible in Atoti. It does not change the tables in BigQuery.  \n",
    "\n",
    "To distinguish our Atoti external table from the BigQuery table, we named them differently in our example.  "
   ]
  },
  {
   "cell_type": "code",
   "execution_count": 12,
   "id": "a580d644-94e0-4772-ac94-a9600bc08546",
   "metadata": {
    "tags": []
   },
   "outputs": [],
   "source": [
    "sales_table = session.add_external_table(\n",
    "    external_database.tables[\"SALES\"],\n",
    "    table_name=\"Atoti Sales\",\n",
    "    config=TableConfig(keys=[\"SALE_ID\"], clustering_columns={\"DATE\", \"PRODUCT\"}),\n",
    ")"
   ]
  },
  {
   "cell_type": "markdown",
   "id": "ac9b4de4-60f9-45d9-8b87-e7d0452714ee",
   "metadata": {},
   "source": [
    "To speed up querying, Atoti makes use of [aggregate providers](https://docs.atoti.io/latest/api/atoti.AggregateProvider.html#atoti.AggregateProvider) to pre-aggregates some table columns up to certain levels. Feeding such providers from an external database can result in very large queries to be run on the database. Some databases can have trouble processing such large queries. Therefore, we define [clustering columns](https://docs.activeviam.com/products/atoti/server/latest/docs/directquery/directquery-clustering-fields/) to help split up queries made by DirectQuery to these external database when feeding the aggregate providers.  \n",
    "\n",
    "The `clustering_columns` parameter allows us to define columns to be used for clustering. While our example uses a small dataset and clustering column is not necessary, we demonstrate how it can be used in the snippet above.  "
   ]
  },
  {
   "cell_type": "code",
   "execution_count": 13,
   "id": "561e7c19-28cc-4796-918b-24de800147a7",
   "metadata": {
    "tags": []
   },
   "outputs": [
    {
     "data": {
      "text/html": [
       "<div>\n",
       "<style scoped>\n",
       "    .dataframe tbody tr th:only-of-type {\n",
       "        vertical-align: middle;\n",
       "    }\n",
       "\n",
       "    .dataframe tbody tr th {\n",
       "        vertical-align: top;\n",
       "    }\n",
       "\n",
       "    .dataframe thead th {\n",
       "        text-align: right;\n",
       "    }\n",
       "</style>\n",
       "<table border=\"1\" class=\"dataframe\">\n",
       "  <thead>\n",
       "    <tr style=\"text-align: right;\">\n",
       "      <th></th>\n",
       "      <th>DATE</th>\n",
       "      <th>SHOP</th>\n",
       "      <th>PRODUCT</th>\n",
       "      <th>QUANTITY</th>\n",
       "      <th>UNIT_PRICE</th>\n",
       "    </tr>\n",
       "    <tr>\n",
       "      <th>SALE_ID</th>\n",
       "      <th></th>\n",
       "      <th></th>\n",
       "      <th></th>\n",
       "      <th></th>\n",
       "      <th></th>\n",
       "    </tr>\n",
       "  </thead>\n",
       "  <tbody>\n",
       "    <tr>\n",
       "      <th>S0010</th>\n",
       "      <td>2022-01-31</td>\n",
       "      <td>shop_2</td>\n",
       "      <td>BED_2</td>\n",
       "      <td>3</td>\n",
       "      <td>150.0</td>\n",
       "    </tr>\n",
       "    <tr>\n",
       "      <th>S0007</th>\n",
       "      <td>2022-02-01</td>\n",
       "      <td>shop_5</td>\n",
       "      <td>BED_2</td>\n",
       "      <td>1</td>\n",
       "      <td>150.0</td>\n",
       "    </tr>\n",
       "    <tr>\n",
       "      <th>S0008</th>\n",
       "      <td>2022-01-31</td>\n",
       "      <td>shop_4</td>\n",
       "      <td>BED_2</td>\n",
       "      <td>1</td>\n",
       "      <td>150.0</td>\n",
       "    </tr>\n",
       "    <tr>\n",
       "      <th>S0009</th>\n",
       "      <td>2022-01-31</td>\n",
       "      <td>shop_3</td>\n",
       "      <td>BED_2</td>\n",
       "      <td>1</td>\n",
       "      <td>150.0</td>\n",
       "    </tr>\n",
       "    <tr>\n",
       "      <th>S0019</th>\n",
       "      <td>2022-02-02</td>\n",
       "      <td>shop_3</td>\n",
       "      <td>HOO_5</td>\n",
       "      <td>1</td>\n",
       "      <td>48.0</td>\n",
       "    </tr>\n",
       "  </tbody>\n",
       "</table>\n",
       "</div>"
      ],
      "text/plain": [
       "              DATE    SHOP PRODUCT  QUANTITY  UNIT_PRICE\n",
       "SALE_ID                                                 \n",
       "S0010   2022-01-31  shop_2   BED_2         3       150.0\n",
       "S0007   2022-02-01  shop_5   BED_2         1       150.0\n",
       "S0008   2022-01-31  shop_4   BED_2         1       150.0\n",
       "S0009   2022-01-31  shop_3   BED_2         1       150.0\n",
       "S0019   2022-02-02  shop_3   HOO_5         1        48.0"
      ]
     },
     "execution_count": 13,
     "metadata": {},
     "output_type": "execute_result"
    }
   ],
   "source": [
    "sales_table.head()"
   ]
  },
  {
   "cell_type": "markdown",
   "id": "dc44214e-743e-4937-9269-61498986355b",
   "metadata": {},
   "source": [
    "We can add multiple tables."
   ]
  },
  {
   "cell_type": "code",
   "execution_count": 14,
   "id": "f282f67a-dfa9-4ba1-aef7-779ec734fe50",
   "metadata": {
    "tags": []
   },
   "outputs": [
    {
     "data": {
      "text/html": [
       "<div>\n",
       "<style scoped>\n",
       "    .dataframe tbody tr th:only-of-type {\n",
       "        vertical-align: middle;\n",
       "    }\n",
       "\n",
       "    .dataframe tbody tr th {\n",
       "        vertical-align: top;\n",
       "    }\n",
       "\n",
       "    .dataframe thead th {\n",
       "        text-align: right;\n",
       "    }\n",
       "</style>\n",
       "<table border=\"1\" class=\"dataframe\">\n",
       "  <thead>\n",
       "    <tr style=\"text-align: right;\">\n",
       "      <th></th>\n",
       "      <th>CATEGORY</th>\n",
       "      <th>SUB_CATEGORY</th>\n",
       "      <th>SIZE</th>\n",
       "      <th>PURCHASE_PRICE</th>\n",
       "      <th>COLOR</th>\n",
       "      <th>BRAND</th>\n",
       "    </tr>\n",
       "    <tr>\n",
       "      <th>PRODUCT_ID</th>\n",
       "      <th></th>\n",
       "      <th></th>\n",
       "      <th></th>\n",
       "      <th></th>\n",
       "      <th></th>\n",
       "      <th></th>\n",
       "    </tr>\n",
       "  </thead>\n",
       "  <tbody>\n",
       "    <tr>\n",
       "      <th>BED_2</th>\n",
       "      <td>Furniture</td>\n",
       "      <td>Bed</td>\n",
       "      <td>Single</td>\n",
       "      <td>127.0</td>\n",
       "      <td>red</td>\n",
       "      <td>Mega</td>\n",
       "    </tr>\n",
       "    <tr>\n",
       "      <th>TAB_1</th>\n",
       "      <td>Furniture</td>\n",
       "      <td>Table</td>\n",
       "      <td>2m40</td>\n",
       "      <td>280.0</td>\n",
       "      <td>white</td>\n",
       "      <td>Mega</td>\n",
       "    </tr>\n",
       "    <tr>\n",
       "      <th>TAB_0</th>\n",
       "      <td>Furniture</td>\n",
       "      <td>Table</td>\n",
       "      <td>1m80</td>\n",
       "      <td>190.0</td>\n",
       "      <td>black</td>\n",
       "      <td>Basic</td>\n",
       "    </tr>\n",
       "    <tr>\n",
       "      <th>HOO_5</th>\n",
       "      <td>Cloth</td>\n",
       "      <td>Hoodie</td>\n",
       "      <td>M</td>\n",
       "      <td>38.0</td>\n",
       "      <td>red</td>\n",
       "      <td>Mega</td>\n",
       "    </tr>\n",
       "    <tr>\n",
       "      <th>TSH_3</th>\n",
       "      <td>Cloth</td>\n",
       "      <td>Tshirt</td>\n",
       "      <td>M</td>\n",
       "      <td>19.0</td>\n",
       "      <td>brown</td>\n",
       "      <td>Over</td>\n",
       "    </tr>\n",
       "  </tbody>\n",
       "</table>\n",
       "</div>"
      ],
      "text/plain": [
       "             CATEGORY SUB_CATEGORY    SIZE  PURCHASE_PRICE  COLOR  BRAND\n",
       "PRODUCT_ID                                                              \n",
       "BED_2       Furniture          Bed  Single           127.0    red   Mega\n",
       "TAB_1       Furniture        Table    2m40           280.0  white   Mega\n",
       "TAB_0       Furniture        Table    1m80           190.0  black  Basic\n",
       "HOO_5           Cloth       Hoodie       M            38.0    red   Mega\n",
       "TSH_3           Cloth       Tshirt       M            19.0  brown   Over"
      ]
     },
     "execution_count": 14,
     "metadata": {},
     "output_type": "execute_result"
    }
   ],
   "source": [
    "products_table = session.add_external_table(\n",
    "    external_database.tables[\"PRODUCTS\"],\n",
    "    table_name=\"Atoti Product\",\n",
    "    config=TableConfig(keys=[\"PRODUCT_ID\"]),\n",
    ")\n",
    "\n",
    "products_table.head()"
   ]
  },
  {
   "cell_type": "markdown",
   "id": "57349699-117a-4cf9-bb95-5910f18d5187",
   "metadata": {},
   "source": [
    "Once we have created our external tables, the rest is _simply the usual stuff for Atoti_."
   ]
  },
  {
   "cell_type": "markdown",
   "id": "564a8bad-9c60-4c7a-b94e-918b5112cfdb",
   "metadata": {
    "tags": []
   },
   "source": [
    "## Atoti Cube Setup"
   ]
  },
  {
   "cell_type": "markdown",
   "id": "2f24568b-71da-4341-a716-f8abdbdce17d",
   "metadata": {
    "tags": []
   },
   "source": [
    "From this section onwards, the coding remains the same regardless of the underlying data source.  \n",
    "\n",
    "As we have always done, we join the tables and create the cube."
   ]
  },
  {
   "cell_type": "code",
   "execution_count": 15,
   "id": "93f6c667-27b6-4e2e-9685-ef275235622c",
   "metadata": {
    "tags": []
   },
   "outputs": [
    {
     "data": {
      "text/markdown": [
       "```mermaid\n",
       "erDiagram\n",
       "  \"Atoti Sales\" {\n",
       "    non-null String PK \"SALE_ID\"\n",
       "    non-null LocalDate \"DATE\"\n",
       "    non-null String \"SHOP\"\n",
       "    non-null String \"PRODUCT\"\n",
       "    non-null long \"QUANTITY\"\n",
       "    non-null double \"UNIT_PRICE\"\n",
       "  }\n",
       "  \"Atoti Product\" {\n",
       "    non-null String PK \"PRODUCT_ID\"\n",
       "    non-null String \"CATEGORY\"\n",
       "    non-null String \"SUB_CATEGORY\"\n",
       "    non-null String \"SIZE\"\n",
       "    non-null double \"PURCHASE_PRICE\"\n",
       "    non-null String \"COLOR\"\n",
       "    non-null String \"BRAND\"\n",
       "  }\n",
       "  \"Atoti Sales\" }o--o| \"Atoti Product\" : \"PRODUCT == PRODUCT_ID\"\n",
       "```\n"
      ],
      "text/plain": [
       "erDiagram\n",
       "  \"Atoti Sales\" {\n",
       "    non-null String PK \"SALE_ID\"\n",
       "    non-null LocalDate \"DATE\"\n",
       "    non-null String \"SHOP\"\n",
       "    non-null String \"PRODUCT\"\n",
       "    non-null long \"QUANTITY\"\n",
       "    non-null double \"UNIT_PRICE\"\n",
       "  }\n",
       "  \"Atoti Product\" {\n",
       "    non-null String PK \"PRODUCT_ID\"\n",
       "    non-null String \"CATEGORY\"\n",
       "    non-null String \"SUB_CATEGORY\"\n",
       "    non-null String \"SIZE\"\n",
       "    non-null double \"PURCHASE_PRICE\"\n",
       "    non-null String \"COLOR\"\n",
       "    non-null String \"BRAND\"\n",
       "  }\n",
       "  \"Atoti Sales\" }o--o| \"Atoti Product\" : \"PRODUCT == PRODUCT_ID\""
      ]
     },
     "execution_count": 15,
     "metadata": {},
     "output_type": "execute_result"
    }
   ],
   "source": [
    "sales_table.join(products_table, sales_table[\"PRODUCT\"] == products_table[\"PRODUCT_ID\"])\n",
    "cube = session.create_cube(sales_table)\n",
    "session.tables.schema"
   ]
  },
  {
   "cell_type": "code",
   "execution_count": 16,
   "id": "4ee29cb6-1f57-43f2-b6e7-ad2e72d8abd4",
   "metadata": {
    "atoti": {
     "widget": {
      "mapping": {
       "columns": [
        "ALL_MEASURES"
       ],
       "measures": [
        "[Measures].[QUANTITY.SUM]"
       ],
       "rows": [
        "[Atoti Sales].[DATE].[DATE]",
        "[Atoti Sales].[SHOP].[SHOP] => [Atoti Product].[BRAND].[BRAND]"
       ]
      },
      "name": "Quantity sold across dates by shops",
      "query": {
       "mdx": "SELECT NON EMPTY {[Measures].[QUANTITY.SUM]} ON COLUMNS, NON EMPTY Hierarchize(Union(Crossjoin(Hierarchize(Descendants({[Atoti Sales].[DATE].[AllMember]}, 1, SELF_AND_BEFORE)), Hierarchize(Descendants({[Atoti Sales].[SHOP].[AllMember]}, 1, SELF_AND_BEFORE)), [Atoti Product].[BRAND].DefaultMember), Crossjoin([Atoti Sales].[DATE].[AllMember].[2022-01-31], [Atoti Sales].[SHOP].[AllMember].[shop_2], Hierarchize(Descendants({[Atoti Product].[BRAND].[AllMember]}, 1, SELF_AND_BEFORE))))) ON ROWS FROM [Atoti Sales] CELL PROPERTIES VALUE, FORMATTED_VALUE, BACK_COLOR, FORE_COLOR, FONT_FLAGS",
       "updateMode": "once"
      },
      "serverKey": "default",
      "widgetKey": "pivot-table"
     }
    },
    "tags": []
   },
   "outputs": [
    {
     "data": {
      "application/vnd.atoti.widget.v0+json": {
       "sessionId": "1747354082_677482",
       "sessionUrl": "http://localhost:51814",
       "widgetCreationCode": "session.widget"
      },
      "text/html": [
       "<img height=\"352\" width=\"1001\" src=\"data:image/png;base64,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\" />"
      ],
      "text/plain": [
       "Open the notebook in JupyterLab with the Atoti JupyterLab extension enabled to build this widget."
      ]
     },
     "metadata": {},
     "output_type": "display_data"
    }
   ],
   "source": [
    "session.widget"
   ]
  },
  {
   "cell_type": "markdown",
   "id": "623a5cce-fee4-489b-9250-c5dd542fb708",
   "metadata": {},
   "source": [
    "### Cube manipulation"
   ]
  },
  {
   "cell_type": "markdown",
   "id": "ad616201-0cc7-4012-8e54-66a99c9c1a23",
   "metadata": {},
   "source": [
    "We perform hierarchy manipulation, level ordering and measure creations the same way we always do in Atoti."
   ]
  },
  {
   "cell_type": "code",
   "execution_count": 17,
   "id": "27bebe22-10e5-4b67-9c18-4bb478fef70b",
   "metadata": {
    "tags": []
   },
   "outputs": [],
   "source": [
    "h, l, m = cube.hierarchies, cube.levels, cube.measures"
   ]
  },
  {
   "cell_type": "code",
   "execution_count": 18,
   "id": "fe4aea14-fc25-4a2d-9401-0ce01df385e4",
   "metadata": {
    "tags": []
   },
   "outputs": [],
   "source": [
    "h[\"CATEGORY\"] = [l[\"CATEGORY\"], l[\"SUB_CATEGORY\"]]\n",
    "del h[\"SUB_CATEGORY\"]"
   ]
  },
  {
   "cell_type": "code",
   "execution_count": 19,
   "id": "efc5d476-6465-4ccf-93d3-9f5dfe19df3c",
   "metadata": {
    "tags": []
   },
   "outputs": [
    {
     "data": {
      "application/json": {
       "Atoti Product": {
        "BRAND": [
         "BRAND"
        ],
        "CATEGORY": [
         "CATEGORY",
         "SUB_CATEGORY"
        ],
        "COLOR": [
         "COLOR"
        ],
        "SIZE": [
         "SIZE"
        ]
       },
       "Atoti Sales": {
        "DATE": [
         "DATE"
        ],
        "PRODUCT": [
         "PRODUCT"
        ],
        "SALE_ID": [
         "SALE_ID"
        ],
        "SHOP": [
         "SHOP"
        ]
       }
      },
      "text/html": [
       "<ul>\n",
       "<li>Dimensions\n",
       "  <ul>\n",
       "  <li>Atoti Product\n",
       "    <ul>\n",
       "    <li>BRAND\n",
       "      <ol>\n",
       "      <li>BRAND</li>\n",
       "      </ol>    </li>\n",
       "    <li>CATEGORY\n",
       "      <ol>\n",
       "      <li>CATEGORY</li>\n",
       "      <li>SUB_CATEGORY</li>\n",
       "      </ol>    </li>\n",
       "    <li>COLOR\n",
       "      <ol>\n",
       "      <li>COLOR</li>\n",
       "      </ol>    </li>\n",
       "    <li>SIZE\n",
       "      <ol>\n",
       "      <li>SIZE</li>\n",
       "      </ol>    </li>\n",
       "    </ul>\n",
       "  </li>\n",
       "  <li>Atoti Sales\n",
       "    <ul>\n",
       "    <li>DATE\n",
       "      <ol>\n",
       "      <li>DATE</li>\n",
       "      </ol>    </li>\n",
       "    <li>PRODUCT\n",
       "      <ol>\n",
       "      <li>PRODUCT</li>\n",
       "      </ol>    </li>\n",
       "    <li>SALE_ID\n",
       "      <ol>\n",
       "      <li>SALE_ID</li>\n",
       "      </ol>    </li>\n",
       "    <li>SHOP\n",
       "      <ol>\n",
       "      <li>SHOP</li>\n",
       "      </ol>    </li>\n",
       "    </ul>\n",
       "  </li>\n",
       "  </ul>\n",
       "</li>\n",
       "</ul>\n"
      ],
      "text/plain": [
       "{('Atoti Product', 'SIZE'): <atoti.hierarchy.Hierarchy object at 0x1333f7490>, ('Atoti Product', 'BRAND'): <atoti.hierarchy.Hierarchy object at 0x1334132d0>, ('Atoti Product', 'COLOR'): <atoti.hierarchy.Hierarchy object at 0x1252fd7d0>, ('Atoti Product', 'CATEGORY'): <atoti.hierarchy.Hierarchy object at 0x1333f1310>, ('Atoti Sales', 'SALE_ID'): <atoti.hierarchy.Hierarchy object at 0x1333f3c90>, ('Atoti Sales', 'DATE'): <atoti.hierarchy.Hierarchy object at 0x1333d20d0>, ('Atoti Sales', 'SHOP'): <atoti.hierarchy.Hierarchy object at 0x1333d2050>, ('Atoti Sales', 'PRODUCT'): <atoti.hierarchy.Hierarchy object at 0x1333d3f90>}"
      ]
     },
     "execution_count": 19,
     "metadata": {
      "application/json": {
       "expanded": true,
       "root": "Dimensions"
      }
     },
     "output_type": "execute_result"
    }
   ],
   "source": [
    "h"
   ]
  },
  {
   "cell_type": "code",
   "execution_count": 20,
   "id": "fe924c60-0c9d-431f-ac72-297db49d8abc",
   "metadata": {
    "tags": []
   },
   "outputs": [],
   "source": [
    "l[\"DATE\"].order = tt.NaturalOrder(ascending=False)"
   ]
  },
  {
   "cell_type": "code",
   "execution_count": 21,
   "id": "343686bd-182e-4de1-b681-8bc6c04b791d",
   "metadata": {
    "tags": []
   },
   "outputs": [],
   "source": [
    "m[\"PURCHASE_PRICE.SUM\"] = tt.agg.sum(products_table[\"PURCHASE_PRICE\"])\n",
    "m[\"PROFIT\"] = tt.agg.sum_product(\n",
    "    m[\"UNIT_PRICE.SUM\"] - m[\"PURCHASE_PRICE.SUM\"],\n",
    "    m[\"QUANTITY.SUM\"],\n",
    "    scope=tt.OriginScope(levels={l[\"SALE_ID\"], l[\"PRODUCT\"]}),\n",
    ")"
   ]
  },
  {
   "cell_type": "markdown",
   "id": "595db925-bf0b-4828-87fb-ff26c717d905",
   "metadata": {},
   "source": [
    "Since we have a join from `sales_table` to `products_table` using the column values of `sales_table.PRODUCT` and `products_table.PRODUCT_ID`, the resultant level is the name of the column from the _from_ table. Therefore, we have the level `PRODUCT` but not `PRODUCT_ID` for our scope in the code snippet above."
   ]
  },
  {
   "cell_type": "code",
   "execution_count": 22,
   "id": "a5dd754e-6d52-43b0-9a18-e7aa7fd42e0b",
   "metadata": {
    "atoti": {
     "widget": {
      "mapping": {
       "columns": [
        "ALL_MEASURES"
       ],
       "measures": [
        "[Measures].[UNIT_PRICE.SUM]",
        "[Measures].[PURCHASE_PRICE.SUM]",
        "[Measures].[QUANTITY.SUM]",
        "[Measures].[PROFIT]"
       ],
       "rows": [
        "[Atoti Sales].[DATE].[DATE]",
        "[Atoti Product].[CATEGORY].[CATEGORY] => [Atoti Product].[CATEGORY].[SUB_CATEGORY]"
       ]
      },
      "name": "Profit by Product Categories across dates",
      "query": {
       "mdx": "SELECT NON EMPTY Hierarchize(Union(Crossjoin(Hierarchize(Descendants({[Atoti Sales].[DATE].[AllMember]}, 1, SELF_AND_BEFORE)), Hierarchize(Descendants({[Atoti Product].[CATEGORY].[AllMember]}, 1, SELF_AND_BEFORE))), Crossjoin([Atoti Sales].[DATE].[AllMember].[2022-02-03], Descendants({[Atoti Product].[CATEGORY].[AllMember].[Cloth]}, [Atoti Product].[CATEGORY].[SUB_CATEGORY])))) ON ROWS, NON EMPTY {[Measures].[UNIT_PRICE.SUM], [Measures].[PURCHASE_PRICE.SUM], [Measures].[QUANTITY.SUM], [Measures].[PROFIT]} ON COLUMNS FROM [Atoti Sales] CELL PROPERTIES VALUE, FORMATTED_VALUE, BACK_COLOR, FORE_COLOR, FONT_FLAGS",
       "updateMode": "once"
      },
      "serverKey": "default",
      "widgetKey": "pivot-table"
     }
    },
    "tags": []
   },
   "outputs": [
    {
     "data": {
      "application/vnd.atoti.widget.v0+json": {
       "sessionId": "1747354082_677482",
       "sessionUrl": "http://localhost:51814",
       "widgetCreationCode": "session.widget"
      },
      "text/html": [
       "<img height=\"352\" width=\"1001\" src=\"data:image/png;base64,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\" />"
      ],
      "text/plain": [
       "Open the notebook in JupyterLab with the Atoti JupyterLab extension enabled to build this widget."
      ]
     },
     "metadata": {},
     "output_type": "display_data"
    }
   ],
   "source": [
    "session.widget"
   ]
  },
  {
   "cell_type": "markdown",
   "id": "08ceaeb7-d0ed-42b5-899e-f4fb4fdcf1ae",
   "metadata": {},
   "source": [
    "## Cost and performance saving with Aggregate Provider"
   ]
  },
  {
   "cell_type": "markdown",
   "id": "b00d6de1-5324-43b0-acb0-c682977c2cf0",
   "metadata": {},
   "source": [
    "Let's take a quick look at our query performance in the current setup."
   ]
  },
  {
   "cell_type": "code",
   "execution_count": 23,
   "id": "37320670-66e8-40c1-9402-26775ed5817c",
   "metadata": {},
   "outputs": [
    {
     "name": "stdout",
     "output_type": "stream",
     "text": [
      "CPU times: user 24.1 ms, sys: 4.81 ms, total: 28.9 ms\n",
      "Wall time: 2.7 s\n"
     ]
    },
    {
     "data": {
      "application/vnd.atoti.convert-mdx-query-result-to-widget.v0+json": {
       "mdx": "SELECT {[Measures].[QUANTITY.SUM], [Measures].[PROFIT]} ON COLUMNS, NON EMPTY Crossjoin(Hierarchize(Descendants({[Atoti Sales].[DATE].[ALL].[AllMember]}, 1, SELF_AND_BEFORE)), Hierarchize(Descendants({[Atoti Sales].[PRODUCT].[ALL].[AllMember]}, 1, SELF_AND_BEFORE)), Hierarchize(Descendants({[Atoti Sales].[SALE_ID].[ALL].[AllMember]}, 1, SELF_AND_BEFORE))) ON ROWS FROM [Atoti Sales]",
       "sessionId": "1747354082_677482",
       "widgetCreationCode": "session.widget"
      },
      "text/html": [
       "<div>\n",
       "<style scoped>\n",
       "    .dataframe tbody tr th:only-of-type {\n",
       "        vertical-align: middle;\n",
       "    }\n",
       "\n",
       "    .dataframe tbody tr th {\n",
       "        vertical-align: top;\n",
       "    }\n",
       "\n",
       "    .dataframe thead th {\n",
       "        text-align: right;\n",
       "    }\n",
       "</style>\n",
       "<table border=\"1\" class=\"dataframe\">\n",
       "  <thead>\n",
       "    <tr style=\"text-align: right;\">\n",
       "      <th></th>\n",
       "      <th></th>\n",
       "      <th></th>\n",
       "      <th>QUANTITY.SUM</th>\n",
       "      <th>PROFIT</th>\n",
       "    </tr>\n",
       "    <tr>\n",
       "      <th>DATE</th>\n",
       "      <th>PRODUCT</th>\n",
       "      <th>SALE_ID</th>\n",
       "      <th></th>\n",
       "      <th></th>\n",
       "    </tr>\n",
       "  </thead>\n",
       "  <tbody>\n",
       "    <tr>\n",
       "      <th rowspan=\"2\" valign=\"top\">2022-02-04</th>\n",
       "      <th>HOO_5</th>\n",
       "      <th>S0017</th>\n",
       "      <td>1</td>\n",
       "      <td>10.00</td>\n",
       "    </tr>\n",
       "    <tr>\n",
       "      <th>TAB_0</th>\n",
       "      <th>S0000</th>\n",
       "      <td>1</td>\n",
       "      <td>20.00</td>\n",
       "    </tr>\n",
       "    <tr>\n",
       "      <th rowspan=\"4\" valign=\"top\">2022-02-03</th>\n",
       "      <th>HOO_5</th>\n",
       "      <th>S0018</th>\n",
       "      <td>1</td>\n",
       "      <td>10.00</td>\n",
       "    </tr>\n",
       "    <tr>\n",
       "      <th>TAB_0</th>\n",
       "      <th>S0001</th>\n",
       "      <td>1</td>\n",
       "      <td>20.00</td>\n",
       "    </tr>\n",
       "    <tr>\n",
       "      <th>TAB_1</th>\n",
       "      <th>S0004</th>\n",
       "      <td>1</td>\n",
       "      <td>20.00</td>\n",
       "    </tr>\n",
       "    <tr>\n",
       "      <th>TSH_3</th>\n",
       "      <th>S0011</th>\n",
       "      <td>1</td>\n",
       "      <td>3.00</td>\n",
       "    </tr>\n",
       "    <tr>\n",
       "      <th rowspan=\"5\" valign=\"top\">2022-02-02</th>\n",
       "      <th>HOO_5</th>\n",
       "      <th>S0019</th>\n",
       "      <td>1</td>\n",
       "      <td>10.00</td>\n",
       "    </tr>\n",
       "    <tr>\n",
       "      <th>TAB_0</th>\n",
       "      <th>S0002</th>\n",
       "      <td>1</td>\n",
       "      <td>20.00</td>\n",
       "    </tr>\n",
       "    <tr>\n",
       "      <th>TAB_1</th>\n",
       "      <th>S0005</th>\n",
       "      <td>1</td>\n",
       "      <td>20.00</td>\n",
       "    </tr>\n",
       "    <tr>\n",
       "      <th>TSH_3</th>\n",
       "      <th>S0012</th>\n",
       "      <td>1</td>\n",
       "      <td>3.00</td>\n",
       "    </tr>\n",
       "    <tr>\n",
       "      <th>TSH_4</th>\n",
       "      <th>S0014</th>\n",
       "      <td>1</td>\n",
       "      <td>4.00</td>\n",
       "    </tr>\n",
       "    <tr>\n",
       "      <th rowspan=\"5\" valign=\"top\">2022-02-01</th>\n",
       "      <th>BED_2</th>\n",
       "      <th>S0007</th>\n",
       "      <td>1</td>\n",
       "      <td>23.00</td>\n",
       "    </tr>\n",
       "    <tr>\n",
       "      <th>TAB_0</th>\n",
       "      <th>S0003</th>\n",
       "      <td>1</td>\n",
       "      <td>20.00</td>\n",
       "    </tr>\n",
       "    <tr>\n",
       "      <th>TAB_1</th>\n",
       "      <th>S0006</th>\n",
       "      <td>2</td>\n",
       "      <td>40.00</td>\n",
       "    </tr>\n",
       "    <tr>\n",
       "      <th>TSH_3</th>\n",
       "      <th>S0013</th>\n",
       "      <td>1</td>\n",
       "      <td>3.00</td>\n",
       "    </tr>\n",
       "    <tr>\n",
       "      <th>TSH_4</th>\n",
       "      <th>S0015</th>\n",
       "      <td>2</td>\n",
       "      <td>8.00</td>\n",
       "    </tr>\n",
       "    <tr>\n",
       "      <th rowspan=\"4\" valign=\"top\">2022-01-31</th>\n",
       "      <th rowspan=\"3\" valign=\"top\">BED_2</th>\n",
       "      <th>S0008</th>\n",
       "      <td>1</td>\n",
       "      <td>23.00</td>\n",
       "    </tr>\n",
       "    <tr>\n",
       "      <th>S0009</th>\n",
       "      <td>1</td>\n",
       "      <td>23.00</td>\n",
       "    </tr>\n",
       "    <tr>\n",
       "      <th>S0010</th>\n",
       "      <td>3</td>\n",
       "      <td>69.00</td>\n",
       "    </tr>\n",
       "    <tr>\n",
       "      <th>TSH_4</th>\n",
       "      <th>S0016</th>\n",
       "      <td>2</td>\n",
       "      <td>8.00</td>\n",
       "    </tr>\n",
       "  </tbody>\n",
       "</table>\n",
       "</div>"
      ],
      "text/plain": [
       "                           QUANTITY.SUM PROFIT\n",
       "DATE       PRODUCT SALE_ID                    \n",
       "2022-02-04 HOO_5   S0017              1  10.00\n",
       "           TAB_0   S0000              1  20.00\n",
       "2022-02-03 HOO_5   S0018              1  10.00\n",
       "           TAB_0   S0001              1  20.00\n",
       "           TAB_1   S0004              1  20.00\n",
       "           TSH_3   S0011              1   3.00\n",
       "2022-02-02 HOO_5   S0019              1  10.00\n",
       "           TAB_0   S0002              1  20.00\n",
       "           TAB_1   S0005              1  20.00\n",
       "           TSH_3   S0012              1   3.00\n",
       "           TSH_4   S0014              1   4.00\n",
       "2022-02-01 BED_2   S0007              1  23.00\n",
       "           TAB_0   S0003              1  20.00\n",
       "           TAB_1   S0006              2  40.00\n",
       "           TSH_3   S0013              1   3.00\n",
       "           TSH_4   S0015              2   8.00\n",
       "2022-01-31 BED_2   S0008              1  23.00\n",
       "                   S0009              1  23.00\n",
       "                   S0010              3  69.00\n",
       "           TSH_4   S0016              2   8.00"
      ]
     },
     "execution_count": 23,
     "metadata": {},
     "output_type": "execute_result"
    }
   ],
   "source": [
    "%%time\n",
    "\n",
    "cube.query(\n",
    "    m[\"QUANTITY.SUM\"], m[\"PROFIT\"], levels=[l[\"DATE\"], l[\"PRODUCT\"], l[\"SALE_ID\"]]\n",
    ")"
   ]
  },
  {
   "cell_type": "code",
   "execution_count": 24,
   "id": "41a42190-2831-458d-9679-aa942dae9de0",
   "metadata": {},
   "outputs": [
    {
     "name": "stdout",
     "output_type": "stream",
     "text": [
      "CPU times: user 11.9 ms, sys: 6.17 ms, total: 18.1 ms\n",
      "Wall time: 2.55 s\n"
     ]
    },
    {
     "data": {
      "application/vnd.atoti.convert-mdx-query-result-to-widget.v0+json": {
       "mdx": "SELECT {[Measures].[PROFIT]} ON COLUMNS, NON EMPTY Crossjoin(Hierarchize(Descendants({[Atoti Sales].[DATE].[ALL].[AllMember]}, 1, SELF_AND_BEFORE)), Hierarchize(Descendants({[Atoti Product].[CATEGORY].[ALL].[AllMember]}, 2, SELF_AND_BEFORE))) DIMENSION PROPERTIES CHILDREN_CARDINALITY ON ROWS FROM [Atoti Sales]",
       "sessionId": "1747354082_677482",
       "widgetCreationCode": "session.widget"
      },
      "text/html": [
       "<div>\n",
       "<style scoped>\n",
       "    .dataframe tbody tr th:only-of-type {\n",
       "        vertical-align: middle;\n",
       "    }\n",
       "\n",
       "    .dataframe tbody tr th {\n",
       "        vertical-align: top;\n",
       "    }\n",
       "\n",
       "    .dataframe thead th {\n",
       "        text-align: right;\n",
       "    }\n",
       "</style>\n",
       "<table border=\"1\" class=\"dataframe\">\n",
       "  <thead>\n",
       "    <tr style=\"text-align: right;\">\n",
       "      <th></th>\n",
       "      <th></th>\n",
       "      <th></th>\n",
       "      <th>PROFIT</th>\n",
       "    </tr>\n",
       "    <tr>\n",
       "      <th>DATE</th>\n",
       "      <th>CATEGORY</th>\n",
       "      <th>SUB_CATEGORY</th>\n",
       "      <th></th>\n",
       "    </tr>\n",
       "  </thead>\n",
       "  <tbody>\n",
       "    <tr>\n",
       "      <th rowspan=\"2\" valign=\"top\">2022-02-04</th>\n",
       "      <th>Cloth</th>\n",
       "      <th>Hoodie</th>\n",
       "      <td>10.00</td>\n",
       "    </tr>\n",
       "    <tr>\n",
       "      <th>Furniture</th>\n",
       "      <th>Table</th>\n",
       "      <td>20.00</td>\n",
       "    </tr>\n",
       "    <tr>\n",
       "      <th rowspan=\"3\" valign=\"top\">2022-02-03</th>\n",
       "      <th rowspan=\"2\" valign=\"top\">Cloth</th>\n",
       "      <th>Hoodie</th>\n",
       "      <td>10.00</td>\n",
       "    </tr>\n",
       "    <tr>\n",
       "      <th>Tshirt</th>\n",
       "      <td>3.00</td>\n",
       "    </tr>\n",
       "    <tr>\n",
       "      <th>Furniture</th>\n",
       "      <th>Table</th>\n",
       "      <td>40.00</td>\n",
       "    </tr>\n",
       "    <tr>\n",
       "      <th rowspan=\"3\" valign=\"top\">2022-02-02</th>\n",
       "      <th rowspan=\"2\" valign=\"top\">Cloth</th>\n",
       "      <th>Hoodie</th>\n",
       "      <td>10.00</td>\n",
       "    </tr>\n",
       "    <tr>\n",
       "      <th>Tshirt</th>\n",
       "      <td>7.00</td>\n",
       "    </tr>\n",
       "    <tr>\n",
       "      <th>Furniture</th>\n",
       "      <th>Table</th>\n",
       "      <td>40.00</td>\n",
       "    </tr>\n",
       "    <tr>\n",
       "      <th rowspan=\"3\" valign=\"top\">2022-02-01</th>\n",
       "      <th>Cloth</th>\n",
       "      <th>Tshirt</th>\n",
       "      <td>11.00</td>\n",
       "    </tr>\n",
       "    <tr>\n",
       "      <th rowspan=\"2\" valign=\"top\">Furniture</th>\n",
       "      <th>Bed</th>\n",
       "      <td>23.00</td>\n",
       "    </tr>\n",
       "    <tr>\n",
       "      <th>Table</th>\n",
       "      <td>60.00</td>\n",
       "    </tr>\n",
       "    <tr>\n",
       "      <th rowspan=\"2\" valign=\"top\">2022-01-31</th>\n",
       "      <th>Cloth</th>\n",
       "      <th>Tshirt</th>\n",
       "      <td>8.00</td>\n",
       "    </tr>\n",
       "    <tr>\n",
       "      <th>Furniture</th>\n",
       "      <th>Bed</th>\n",
       "      <td>115.00</td>\n",
       "    </tr>\n",
       "  </tbody>\n",
       "</table>\n",
       "</div>"
      ],
      "text/plain": [
       "                                   PROFIT\n",
       "DATE       CATEGORY  SUB_CATEGORY        \n",
       "2022-02-04 Cloth     Hoodie         10.00\n",
       "           Furniture Table          20.00\n",
       "2022-02-03 Cloth     Hoodie         10.00\n",
       "                     Tshirt          3.00\n",
       "           Furniture Table          40.00\n",
       "2022-02-02 Cloth     Hoodie         10.00\n",
       "                     Tshirt          7.00\n",
       "           Furniture Table          40.00\n",
       "2022-02-01 Cloth     Tshirt         11.00\n",
       "           Furniture Bed            23.00\n",
       "                     Table          60.00\n",
       "2022-01-31 Cloth     Tshirt          8.00\n",
       "           Furniture Bed           115.00"
      ]
     },
     "execution_count": 24,
     "metadata": {},
     "output_type": "execute_result"
    }
   ],
   "source": [
    "%%time\n",
    "\n",
    "cube.query(m[\"PROFIT\"], levels=[l[\"DATE\"], l[\"SUB_CATEGORY\"]])"
   ]
  },
  {
   "cell_type": "markdown",
   "id": "ec655a71-8eec-42ae-9dd5-3fa7bbf0f782",
   "metadata": {},
   "source": [
    "It takes approximately `3s` to return the query (YMMV)."
   ]
  },
  {
   "cell_type": "markdown",
   "id": "409bcc8e-c3e4-4592-a6ee-c54d41f97719",
   "metadata": {},
   "source": [
    "To speed up our querying, we make use of the [aggregate provider](https://docs.atoti.io/latest/api/atoti.AggregateProvider.html#atoti.AggregateProvider) to store intermediate aggregates in memory. If a step of a query uses a subset of the aggregate provider's levels and measures, the provider will speed up the query.  \n",
    "\n",
    "Since data is cached in memory, we will __not__ access BigQuery when a subset of these are queried.  "
   ]
  },
  {
   "cell_type": "code",
   "execution_count": 25,
   "id": "0f33a62c-d66d-4e3a-997d-ae325e9276ec",
   "metadata": {
    "tags": []
   },
   "outputs": [],
   "source": [
    "cube.aggregate_providers.update(\n",
    "    {\n",
    "        \"Products provider\": tt.AggregateProvider(\n",
    "            key=\"bitmap\",\n",
    "            levels=[l[\"DATE\"], l[\"PRODUCT\"], l[\"SALE_ID\"]],\n",
    "            measures=[m[\"QUANTITY.SUM\"], m[\"PURCHASE_PRICE.SUM\"], m[\"UNIT_PRICE.SUM\"]],\n",
    "            partitioning=\"hash16(PRODUCT)\",\n",
    "        )\n",
    "    }\n",
    ")"
   ]
  },
  {
   "cell_type": "markdown",
   "id": "4817dae9-0dbb-4c91-95bc-38a1320102ae",
   "metadata": {},
   "source": [
    "⚠️ **Important:** We can only use store aggregated measures supporting disaggregation can be used in aggregate provider, e.g. `tt.agg.sum` or `tt.agg.mean` on table columns.\n",
    "\n",
    "`m[\"PROFIT\"]` cannot be used because it is a chained measure resulting from the `sum_product` of a few measures.\n"
   ]
  },
  {
   "cell_type": "code",
   "execution_count": 26,
   "id": "0bc35e5d-1845-479b-873f-5a24be936f1e",
   "metadata": {
    "tags": []
   },
   "outputs": [
    {
     "name": "stdout",
     "output_type": "stream",
     "text": [
      "CPU times: user 9.42 ms, sys: 2.2 ms, total: 11.6 ms\n",
      "Wall time: 52.5 ms\n"
     ]
    },
    {
     "data": {
      "application/vnd.atoti.convert-mdx-query-result-to-widget.v0+json": {
       "mdx": "SELECT {[Measures].[PROFIT]} ON COLUMNS, NON EMPTY Crossjoin(Hierarchize(Descendants({[Atoti Sales].[DATE].[ALL].[AllMember]}, 1, SELF_AND_BEFORE)), Hierarchize(Descendants({[Atoti Sales].[PRODUCT].[ALL].[AllMember]}, 1, SELF_AND_BEFORE)), Hierarchize(Descendants({[Atoti Sales].[SALE_ID].[ALL].[AllMember]}, 1, SELF_AND_BEFORE))) ON ROWS FROM [Atoti Sales]",
       "sessionId": "1747354082_677482",
       "widgetCreationCode": "session.widget"
      },
      "text/html": [
       "<div>\n",
       "<style scoped>\n",
       "    .dataframe tbody tr th:only-of-type {\n",
       "        vertical-align: middle;\n",
       "    }\n",
       "\n",
       "    .dataframe tbody tr th {\n",
       "        vertical-align: top;\n",
       "    }\n",
       "\n",
       "    .dataframe thead th {\n",
       "        text-align: right;\n",
       "    }\n",
       "</style>\n",
       "<table border=\"1\" class=\"dataframe\">\n",
       "  <thead>\n",
       "    <tr style=\"text-align: right;\">\n",
       "      <th></th>\n",
       "      <th></th>\n",
       "      <th></th>\n",
       "      <th>PROFIT</th>\n",
       "    </tr>\n",
       "    <tr>\n",
       "      <th>DATE</th>\n",
       "      <th>PRODUCT</th>\n",
       "      <th>SALE_ID</th>\n",
       "      <th></th>\n",
       "    </tr>\n",
       "  </thead>\n",
       "  <tbody>\n",
       "    <tr>\n",
       "      <th rowspan=\"2\" valign=\"top\">2022-02-04</th>\n",
       "      <th>HOO_5</th>\n",
       "      <th>S0017</th>\n",
       "      <td>10.00</td>\n",
       "    </tr>\n",
       "    <tr>\n",
       "      <th>TAB_0</th>\n",
       "      <th>S0000</th>\n",
       "      <td>20.00</td>\n",
       "    </tr>\n",
       "    <tr>\n",
       "      <th rowspan=\"4\" valign=\"top\">2022-02-03</th>\n",
       "      <th>HOO_5</th>\n",
       "      <th>S0018</th>\n",
       "      <td>10.00</td>\n",
       "    </tr>\n",
       "    <tr>\n",
       "      <th>TAB_0</th>\n",
       "      <th>S0001</th>\n",
       "      <td>20.00</td>\n",
       "    </tr>\n",
       "    <tr>\n",
       "      <th>TAB_1</th>\n",
       "      <th>S0004</th>\n",
       "      <td>20.00</td>\n",
       "    </tr>\n",
       "    <tr>\n",
       "      <th>TSH_3</th>\n",
       "      <th>S0011</th>\n",
       "      <td>3.00</td>\n",
       "    </tr>\n",
       "    <tr>\n",
       "      <th rowspan=\"5\" valign=\"top\">2022-02-02</th>\n",
       "      <th>HOO_5</th>\n",
       "      <th>S0019</th>\n",
       "      <td>10.00</td>\n",
       "    </tr>\n",
       "    <tr>\n",
       "      <th>TAB_0</th>\n",
       "      <th>S0002</th>\n",
       "      <td>20.00</td>\n",
       "    </tr>\n",
       "    <tr>\n",
       "      <th>TAB_1</th>\n",
       "      <th>S0005</th>\n",
       "      <td>20.00</td>\n",
       "    </tr>\n",
       "    <tr>\n",
       "      <th>TSH_3</th>\n",
       "      <th>S0012</th>\n",
       "      <td>3.00</td>\n",
       "    </tr>\n",
       "    <tr>\n",
       "      <th>TSH_4</th>\n",
       "      <th>S0014</th>\n",
       "      <td>4.00</td>\n",
       "    </tr>\n",
       "    <tr>\n",
       "      <th rowspan=\"5\" valign=\"top\">2022-02-01</th>\n",
       "      <th>BED_2</th>\n",
       "      <th>S0007</th>\n",
       "      <td>23.00</td>\n",
       "    </tr>\n",
       "    <tr>\n",
       "      <th>TAB_0</th>\n",
       "      <th>S0003</th>\n",
       "      <td>20.00</td>\n",
       "    </tr>\n",
       "    <tr>\n",
       "      <th>TAB_1</th>\n",
       "      <th>S0006</th>\n",
       "      <td>40.00</td>\n",
       "    </tr>\n",
       "    <tr>\n",
       "      <th>TSH_3</th>\n",
       "      <th>S0013</th>\n",
       "      <td>3.00</td>\n",
       "    </tr>\n",
       "    <tr>\n",
       "      <th>TSH_4</th>\n",
       "      <th>S0015</th>\n",
       "      <td>8.00</td>\n",
       "    </tr>\n",
       "    <tr>\n",
       "      <th rowspan=\"4\" valign=\"top\">2022-01-31</th>\n",
       "      <th rowspan=\"3\" valign=\"top\">BED_2</th>\n",
       "      <th>S0008</th>\n",
       "      <td>23.00</td>\n",
       "    </tr>\n",
       "    <tr>\n",
       "      <th>S0009</th>\n",
       "      <td>23.00</td>\n",
       "    </tr>\n",
       "    <tr>\n",
       "      <th>S0010</th>\n",
       "      <td>69.00</td>\n",
       "    </tr>\n",
       "    <tr>\n",
       "      <th>TSH_4</th>\n",
       "      <th>S0016</th>\n",
       "      <td>8.00</td>\n",
       "    </tr>\n",
       "  </tbody>\n",
       "</table>\n",
       "</div>"
      ],
      "text/plain": [
       "                           PROFIT\n",
       "DATE       PRODUCT SALE_ID       \n",
       "2022-02-04 HOO_5   S0017    10.00\n",
       "           TAB_0   S0000    20.00\n",
       "2022-02-03 HOO_5   S0018    10.00\n",
       "           TAB_0   S0001    20.00\n",
       "           TAB_1   S0004    20.00\n",
       "           TSH_3   S0011     3.00\n",
       "2022-02-02 HOO_5   S0019    10.00\n",
       "           TAB_0   S0002    20.00\n",
       "           TAB_1   S0005    20.00\n",
       "           TSH_3   S0012     3.00\n",
       "           TSH_4   S0014     4.00\n",
       "2022-02-01 BED_2   S0007    23.00\n",
       "           TAB_0   S0003    20.00\n",
       "           TAB_1   S0006    40.00\n",
       "           TSH_3   S0013     3.00\n",
       "           TSH_4   S0015     8.00\n",
       "2022-01-31 BED_2   S0008    23.00\n",
       "                   S0009    23.00\n",
       "                   S0010    69.00\n",
       "           TSH_4   S0016     8.00"
      ]
     },
     "execution_count": 26,
     "metadata": {},
     "output_type": "execute_result"
    }
   ],
   "source": [
    "%%time\n",
    "\n",
    "cube.query(m[\"PROFIT\"], levels=[l[\"DATE\"], l[\"PRODUCT\"], l[\"SALE_ID\"]])"
   ]
  },
  {
   "cell_type": "markdown",
   "id": "fd36b224-ab65-45f0-a2fb-1e44c5fdb1c8",
   "metadata": {},
   "source": [
    "Previously, it took close to `3s` to return the query results. Now, it only takes slightly over `100ms` to return the results (YMMV).  \n",
    "\n",
    "Note that we are querying `PROFIT` and not the measures `m[\"QUANTITY.SUM\"]`, `m[\"PURCHASE_PRICE.SUM\"]` and `m[\"UNIT_PRICE.SUM\"]`. However, `PROFIT` is computed on the fly using the cached data in memory. Therefore, the query speed is improved drastically."
   ]
  },
  {
   "cell_type": "code",
   "execution_count": 27,
   "id": "800e212c-f4ce-4e77-8653-f8afd9b50043",
   "metadata": {
    "tags": []
   },
   "outputs": [
    {
     "name": "stdout",
     "output_type": "stream",
     "text": [
      "CPU times: user 4.62 ms, sys: 1.38 ms, total: 6.01 ms\n",
      "Wall time: 20.2 ms\n"
     ]
    },
    {
     "data": {
      "application/vnd.atoti.convert-mdx-query-result-to-widget.v0+json": {
       "mdx": "SELECT {[Measures].[PROFIT]} ON COLUMNS, NON EMPTY Hierarchize(Descendants({[Atoti Sales].[PRODUCT].[ALL].[AllMember]}, 1, SELF_AND_BEFORE)) ON ROWS FROM [Atoti Sales]",
       "sessionId": "1747354082_677482",
       "widgetCreationCode": "session.widget"
      },
      "text/html": [
       "<div>\n",
       "<style scoped>\n",
       "    .dataframe tbody tr th:only-of-type {\n",
       "        vertical-align: middle;\n",
       "    }\n",
       "\n",
       "    .dataframe tbody tr th {\n",
       "        vertical-align: top;\n",
       "    }\n",
       "\n",
       "    .dataframe thead th {\n",
       "        text-align: right;\n",
       "    }\n",
       "</style>\n",
       "<table border=\"1\" class=\"dataframe\">\n",
       "  <thead>\n",
       "    <tr style=\"text-align: right;\">\n",
       "      <th></th>\n",
       "      <th>PROFIT</th>\n",
       "    </tr>\n",
       "    <tr>\n",
       "      <th>PRODUCT</th>\n",
       "      <th></th>\n",
       "    </tr>\n",
       "  </thead>\n",
       "  <tbody>\n",
       "    <tr>\n",
       "      <th>BED_2</th>\n",
       "      <td>138.00</td>\n",
       "    </tr>\n",
       "    <tr>\n",
       "      <th>HOO_5</th>\n",
       "      <td>30.00</td>\n",
       "    </tr>\n",
       "    <tr>\n",
       "      <th>TAB_0</th>\n",
       "      <td>80.00</td>\n",
       "    </tr>\n",
       "    <tr>\n",
       "      <th>TAB_1</th>\n",
       "      <td>80.00</td>\n",
       "    </tr>\n",
       "    <tr>\n",
       "      <th>TSH_3</th>\n",
       "      <td>9.00</td>\n",
       "    </tr>\n",
       "    <tr>\n",
       "      <th>TSH_4</th>\n",
       "      <td>20.00</td>\n",
       "    </tr>\n",
       "  </tbody>\n",
       "</table>\n",
       "</div>"
      ],
      "text/plain": [
       "         PROFIT\n",
       "PRODUCT        \n",
       "BED_2    138.00\n",
       "HOO_5     30.00\n",
       "TAB_0     80.00\n",
       "TAB_1     80.00\n",
       "TSH_3      9.00\n",
       "TSH_4     20.00"
      ]
     },
     "execution_count": 27,
     "metadata": {},
     "output_type": "execute_result"
    }
   ],
   "source": [
    "%%time\n",
    "\n",
    "cube.query(m[\"PROFIT\"], levels=[l[\"PRODUCT\"]])"
   ]
  },
  {
   "cell_type": "markdown",
   "id": "3776a1f9-c10c-4912-866f-238a3b95fbee",
   "metadata": {},
   "source": [
    "Querying a subset of the aggregate provider levels also returns the result quickly.  \n",
    "\n",
    "The below query on a different level will access data from BigQuery and therefore, is limited by the querying speed of the cloud database and its network connectivity.  "
   ]
  },
  {
   "cell_type": "code",
   "execution_count": 28,
   "id": "08506fb9-16e3-4052-9288-380ecc441021",
   "metadata": {
    "tags": []
   },
   "outputs": [
    {
     "name": "stdout",
     "output_type": "stream",
     "text": [
      "CPU times: user 11.7 ms, sys: 4.77 ms, total: 16.4 ms\n",
      "Wall time: 1.52 s\n"
     ]
    },
    {
     "data": {
      "application/vnd.atoti.convert-mdx-query-result-to-widget.v0+json": {
       "mdx": "SELECT {[Measures].[PROFIT]} ON COLUMNS, NON EMPTY Crossjoin(Hierarchize(Descendants({[Atoti Sales].[DATE].[ALL].[AllMember]}, 1, SELF_AND_BEFORE)), Hierarchize(Descendants({[Atoti Product].[CATEGORY].[ALL].[AllMember]}, 2, SELF_AND_BEFORE))) DIMENSION PROPERTIES CHILDREN_CARDINALITY ON ROWS FROM [Atoti Sales]",
       "sessionId": "1747354082_677482",
       "widgetCreationCode": "session.widget"
      },
      "text/html": [
       "<div>\n",
       "<style scoped>\n",
       "    .dataframe tbody tr th:only-of-type {\n",
       "        vertical-align: middle;\n",
       "    }\n",
       "\n",
       "    .dataframe tbody tr th {\n",
       "        vertical-align: top;\n",
       "    }\n",
       "\n",
       "    .dataframe thead th {\n",
       "        text-align: right;\n",
       "    }\n",
       "</style>\n",
       "<table border=\"1\" class=\"dataframe\">\n",
       "  <thead>\n",
       "    <tr style=\"text-align: right;\">\n",
       "      <th></th>\n",
       "      <th></th>\n",
       "      <th></th>\n",
       "      <th>PROFIT</th>\n",
       "    </tr>\n",
       "    <tr>\n",
       "      <th>DATE</th>\n",
       "      <th>CATEGORY</th>\n",
       "      <th>SUB_CATEGORY</th>\n",
       "      <th></th>\n",
       "    </tr>\n",
       "  </thead>\n",
       "  <tbody>\n",
       "    <tr>\n",
       "      <th rowspan=\"2\" valign=\"top\">2022-02-04</th>\n",
       "      <th>Cloth</th>\n",
       "      <th>Hoodie</th>\n",
       "      <td>10.00</td>\n",
       "    </tr>\n",
       "    <tr>\n",
       "      <th>Furniture</th>\n",
       "      <th>Table</th>\n",
       "      <td>20.00</td>\n",
       "    </tr>\n",
       "    <tr>\n",
       "      <th rowspan=\"3\" valign=\"top\">2022-02-03</th>\n",
       "      <th rowspan=\"2\" valign=\"top\">Cloth</th>\n",
       "      <th>Hoodie</th>\n",
       "      <td>10.00</td>\n",
       "    </tr>\n",
       "    <tr>\n",
       "      <th>Tshirt</th>\n",
       "      <td>3.00</td>\n",
       "    </tr>\n",
       "    <tr>\n",
       "      <th>Furniture</th>\n",
       "      <th>Table</th>\n",
       "      <td>40.00</td>\n",
       "    </tr>\n",
       "    <tr>\n",
       "      <th rowspan=\"3\" valign=\"top\">2022-02-02</th>\n",
       "      <th rowspan=\"2\" valign=\"top\">Cloth</th>\n",
       "      <th>Hoodie</th>\n",
       "      <td>10.00</td>\n",
       "    </tr>\n",
       "    <tr>\n",
       "      <th>Tshirt</th>\n",
       "      <td>7.00</td>\n",
       "    </tr>\n",
       "    <tr>\n",
       "      <th>Furniture</th>\n",
       "      <th>Table</th>\n",
       "      <td>40.00</td>\n",
       "    </tr>\n",
       "    <tr>\n",
       "      <th rowspan=\"3\" valign=\"top\">2022-02-01</th>\n",
       "      <th>Cloth</th>\n",
       "      <th>Tshirt</th>\n",
       "      <td>11.00</td>\n",
       "    </tr>\n",
       "    <tr>\n",
       "      <th rowspan=\"2\" valign=\"top\">Furniture</th>\n",
       "      <th>Bed</th>\n",
       "      <td>23.00</td>\n",
       "    </tr>\n",
       "    <tr>\n",
       "      <th>Table</th>\n",
       "      <td>60.00</td>\n",
       "    </tr>\n",
       "    <tr>\n",
       "      <th rowspan=\"2\" valign=\"top\">2022-01-31</th>\n",
       "      <th>Cloth</th>\n",
       "      <th>Tshirt</th>\n",
       "      <td>8.00</td>\n",
       "    </tr>\n",
       "    <tr>\n",
       "      <th>Furniture</th>\n",
       "      <th>Bed</th>\n",
       "      <td>115.00</td>\n",
       "    </tr>\n",
       "  </tbody>\n",
       "</table>\n",
       "</div>"
      ],
      "text/plain": [
       "                                   PROFIT\n",
       "DATE       CATEGORY  SUB_CATEGORY        \n",
       "2022-02-04 Cloth     Hoodie         10.00\n",
       "           Furniture Table          20.00\n",
       "2022-02-03 Cloth     Hoodie         10.00\n",
       "                     Tshirt          3.00\n",
       "           Furniture Table          40.00\n",
       "2022-02-02 Cloth     Hoodie         10.00\n",
       "                     Tshirt          7.00\n",
       "           Furniture Table          40.00\n",
       "2022-02-01 Cloth     Tshirt         11.00\n",
       "           Furniture Bed            23.00\n",
       "                     Table          60.00\n",
       "2022-01-31 Cloth     Tshirt          8.00\n",
       "           Furniture Bed           115.00"
      ]
     },
     "execution_count": 28,
     "metadata": {},
     "output_type": "execute_result"
    }
   ],
   "source": [
    "%%time\n",
    "\n",
    "cube.query(m[\"PROFIT\"], levels=[l[\"DATE\"], l[\"SUB_CATEGORY\"]])"
   ]
  },
  {
   "cell_type": "markdown",
   "id": "c260f204-8f69-4f99-aefa-3e881c29e4bc",
   "metadata": {},
   "source": [
    "Before we are done with this example, let's create another aggregate provider with a _slice_ of data using `filter`.  \n",
    "\n",
    "Let's first capture the timing of the query without the aggregate provider."
   ]
  },
  {
   "cell_type": "code",
   "execution_count": 29,
   "id": "fe342fd4-1c7f-4995-833d-f3cac15d2aa4",
   "metadata": {},
   "outputs": [
    {
     "name": "stdout",
     "output_type": "stream",
     "text": [
      "CPU times: user 14.7 ms, sys: 3.42 ms, total: 18.1 ms\n",
      "Wall time: 2.49 s\n"
     ]
    },
    {
     "data": {
      "application/vnd.atoti.convert-mdx-query-result-to-widget.v0+json": {
       "mdx": "SELECT {[Measures].[PROFIT]} ON COLUMNS, NON EMPTY Crossjoin(Hierarchize(Descendants({[Atoti Sales].[DATE].[ALL].[AllMember]}, 1, SELF_AND_BEFORE)), Hierarchize(Descendants({[Atoti Product].[CATEGORY].[ALL].[AllMember]}, 2, SELF_AND_BEFORE))) DIMENSION PROPERTIES CHILDREN_CARDINALITY ON ROWS FROM (SELECT [Atoti Sales].[DATE].[ALL].[AllMember].[2022-02-04] ON COLUMNS FROM [Atoti Sales])",
       "sessionId": "1747354082_677482",
       "widgetCreationCode": "session.widget"
      },
      "text/html": [
       "<div>\n",
       "<style scoped>\n",
       "    .dataframe tbody tr th:only-of-type {\n",
       "        vertical-align: middle;\n",
       "    }\n",
       "\n",
       "    .dataframe tbody tr th {\n",
       "        vertical-align: top;\n",
       "    }\n",
       "\n",
       "    .dataframe thead th {\n",
       "        text-align: right;\n",
       "    }\n",
       "</style>\n",
       "<table border=\"1\" class=\"dataframe\">\n",
       "  <thead>\n",
       "    <tr style=\"text-align: right;\">\n",
       "      <th></th>\n",
       "      <th></th>\n",
       "      <th></th>\n",
       "      <th>PROFIT</th>\n",
       "    </tr>\n",
       "    <tr>\n",
       "      <th>DATE</th>\n",
       "      <th>CATEGORY</th>\n",
       "      <th>SUB_CATEGORY</th>\n",
       "      <th></th>\n",
       "    </tr>\n",
       "  </thead>\n",
       "  <tbody>\n",
       "    <tr>\n",
       "      <th rowspan=\"2\" valign=\"top\">2022-02-04</th>\n",
       "      <th>Cloth</th>\n",
       "      <th>Hoodie</th>\n",
       "      <td>10.00</td>\n",
       "    </tr>\n",
       "    <tr>\n",
       "      <th>Furniture</th>\n",
       "      <th>Table</th>\n",
       "      <td>20.00</td>\n",
       "    </tr>\n",
       "  </tbody>\n",
       "</table>\n",
       "</div>"
      ],
      "text/plain": [
       "                                  PROFIT\n",
       "DATE       CATEGORY  SUB_CATEGORY       \n",
       "2022-02-04 Cloth     Hoodie        10.00\n",
       "           Furniture Table         20.00"
      ]
     },
     "execution_count": 29,
     "metadata": {},
     "output_type": "execute_result"
    }
   ],
   "source": [
    "%%time\n",
    "\n",
    "cube.query(\n",
    "    m[\"PROFIT\"],\n",
    "    levels=[l[\"DATE\"], l[\"CATEGORY\"], l[\"SUB_CATEGORY\"]],\n",
    "    filter=(l[\"DATE\"] == \"2022-02-04\"),\n",
    ")"
   ]
  },
  {
   "cell_type": "code",
   "execution_count": 30,
   "id": "b240a857-71f6-4344-8967-570013c0ac98",
   "metadata": {
    "tags": []
   },
   "outputs": [],
   "source": [
    "from datetime import date\n",
    "\n",
    "current_date = date(2022, 2, 4)"
   ]
  },
  {
   "cell_type": "markdown",
   "id": "9526ed6a-2c74-4ab5-935e-51899123340c",
   "metadata": {},
   "source": [
    "In the event where users are interested in a particular member of level, e.g. the current date or a particular shop, and the amount of querying on this member is huge, then it makes sense to cache them in memory.  \n",
    "\n",
    "In this case, we apply filter just for the interested member. This helps to control the amount of data held in memory."
   ]
  },
  {
   "cell_type": "code",
   "execution_count": 31,
   "id": "17ae6441-66db-4038-bfee-28df3b2c576e",
   "metadata": {},
   "outputs": [],
   "source": [
    "cube.aggregate_providers.update(\n",
    "    {\n",
    "        \"Category provider\": tt.AggregateProvider(\n",
    "            key=\"bitmap\",\n",
    "            levels=[l[\"DATE\"], l[\"CATEGORY\"], l[\"SUB_CATEGORY\"]],\n",
    "            measures=[m[\"QUANTITY.SUM\"], m[\"PURCHASE_PRICE.SUM\"], m[\"UNIT_PRICE.SUM\"]],\n",
    "            filter=(l[\"DATE\"] == current_date),\n",
    "        )\n",
    "    }\n",
    ")"
   ]
  },
  {
   "cell_type": "code",
   "execution_count": 32,
   "id": "adc253db-cebe-49a2-a8ae-2f9630d5338d",
   "metadata": {
    "tags": []
   },
   "outputs": [
    {
     "name": "stdout",
     "output_type": "stream",
     "text": [
      "CPU times: user 13.5 ms, sys: 3.2 ms, total: 16.7 ms\n",
      "Wall time: 1.86 s\n"
     ]
    },
    {
     "data": {
      "application/vnd.atoti.convert-mdx-query-result-to-widget.v0+json": {
       "mdx": "SELECT {[Measures].[PROFIT]} ON COLUMNS, NON EMPTY Crossjoin(Hierarchize(Descendants({[Atoti Sales].[DATE].[ALL].[AllMember]}, 1, SELF_AND_BEFORE)), Hierarchize(Descendants({[Atoti Product].[CATEGORY].[ALL].[AllMember]}, 2, SELF_AND_BEFORE))) DIMENSION PROPERTIES CHILDREN_CARDINALITY ON ROWS FROM (SELECT [Atoti Sales].[DATE].[ALL].[AllMember].[2022-02-04] ON COLUMNS FROM [Atoti Sales])",
       "sessionId": "1747354082_677482",
       "widgetCreationCode": "session.widget"
      },
      "text/html": [
       "<div>\n",
       "<style scoped>\n",
       "    .dataframe tbody tr th:only-of-type {\n",
       "        vertical-align: middle;\n",
       "    }\n",
       "\n",
       "    .dataframe tbody tr th {\n",
       "        vertical-align: top;\n",
       "    }\n",
       "\n",
       "    .dataframe thead th {\n",
       "        text-align: right;\n",
       "    }\n",
       "</style>\n",
       "<table border=\"1\" class=\"dataframe\">\n",
       "  <thead>\n",
       "    <tr style=\"text-align: right;\">\n",
       "      <th></th>\n",
       "      <th></th>\n",
       "      <th></th>\n",
       "      <th>PROFIT</th>\n",
       "    </tr>\n",
       "    <tr>\n",
       "      <th>DATE</th>\n",
       "      <th>CATEGORY</th>\n",
       "      <th>SUB_CATEGORY</th>\n",
       "      <th></th>\n",
       "    </tr>\n",
       "  </thead>\n",
       "  <tbody>\n",
       "    <tr>\n",
       "      <th rowspan=\"2\" valign=\"top\">2022-02-04</th>\n",
       "      <th>Cloth</th>\n",
       "      <th>Hoodie</th>\n",
       "      <td>10.00</td>\n",
       "    </tr>\n",
       "    <tr>\n",
       "      <th>Furniture</th>\n",
       "      <th>Table</th>\n",
       "      <td>20.00</td>\n",
       "    </tr>\n",
       "  </tbody>\n",
       "</table>\n",
       "</div>"
      ],
      "text/plain": [
       "                                  PROFIT\n",
       "DATE       CATEGORY  SUB_CATEGORY       \n",
       "2022-02-04 Cloth     Hoodie        10.00\n",
       "           Furniture Table         20.00"
      ]
     },
     "execution_count": 32,
     "metadata": {},
     "output_type": "execute_result"
    }
   ],
   "source": [
    "%%time\n",
    "\n",
    "cube.query(\n",
    "    m[\"PROFIT\"],\n",
    "    levels=[l[\"DATE\"], l[\"CATEGORY\"], l[\"SUB_CATEGORY\"]],\n",
    "    filter=(l[\"DATE\"] == \"2022-02-04\"),\n",
    ")"
   ]
  },
  {
   "cell_type": "markdown",
   "id": "4b392590-0e19-4d03-84db-853028977e8b",
   "metadata": {},
   "source": [
    "## Balance between Cost and Performance"
   ]
  },
  {
   "cell_type": "markdown",
   "id": "1f44c57a-00ad-44eb-9195-ed0b0a808a62",
   "metadata": {},
   "source": [
    "All in all, Atoti's DirectQuery offers users a way to balance between cost and performance:\n",
    "\n",
    "* For data that is less queried, it resides on the cloud database and gets queried on-demand.\n",
    "* For data that is more frequently queried, we can cache it in memory and reduce the number of queries to the cloud database, thereby improving performance.  \n",
    "\n",
    "<img src=\"https://data.atoti.io/notebooks/direct-query/img/aggregate_cache.png\" />  \n",
    "\n",
    "💡 **Note:** To find out more, reach out to [ActiveViam](https://activeviam.com/contact-us/?utm_source=github&utm_medium=atoti) for a demonstration."
   ]
  },
  {
   "cell_type": "markdown",
   "id": "455e3f95-0a8c-48bf-b793-69d5fe2f2083",
   "metadata": {},
   "source": [
    "<div style=\"text-align: center;\" ><a href=\"https://www.atoti.io/?utm_source=gallery&utm_content=directquery-intro\" target=\"_blank\" rel=\"noopener noreferrer\"><img src=\"https://data.atoti.io/notebooks/banners/Your-turn-to-try-Atoti.jpg\" alt=\"Try Atoti\"></a></div>"
   ]
  }
 ],
 "metadata": {
  "kernelspec": {
   "display_name": "Python 3 (ipykernel)",
   "language": "python",
   "name": "python3"
  },
  "language_info": {
   "codemirror_mode": {
    "name": "ipython",
    "version": 3
   },
   "file_extension": ".py",
   "mimetype": "text/x-python",
   "name": "python",
   "nbconvert_exporter": "python",
   "pygments_lexer": "ipython3",
   "version": "3.11.10"
  },
  "widgets": {
   "application/vnd.jupyter.widget-state+json": {
    "state": {},
    "version_major": 2,
    "version_minor": 0
   }
  }
 },
 "nbformat": 4,
 "nbformat_minor": 5
}
