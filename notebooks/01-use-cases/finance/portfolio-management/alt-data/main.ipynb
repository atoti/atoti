{
 "cells": [
  {
   "cell_type": "markdown",
   "id": "5cf8db83-b6a5-430d-8be0-ef76dd70490b",
   "metadata": {},
   "source": [
    "# The Art of Symmetry: Incorporating Alternative Data into your Portfolio Rebalancing"
   ]
  },
  {
   "cell_type": "markdown",
   "id": "080682d0-e087-418e-ab12-62028b7cf11f",
   "metadata": {},
   "source": [
    "It's no secret that access to the right data along with the right aggregation engine allows Quants and portfolio managers to achieve their goals. The problem? How do you find good data, and what is the right aggregation tool?  \n",
    "\n",
    "This notebook is a collaboration between [Atoti Community](https://www.atoti.io) and [CloudQuant](https://www.cloudquant.com/).\n"
   ]
  },
  {
   "cell_type": "markdown",
   "id": "a974c2d8-1b41-4a0f-a99c-8d98285c5b83",
   "metadata": {},
   "source": [
    "<center><img src=\"https://data.atoti.io/notebooks/banners/AtotiCommunity.png\" alt=\"Atoti Community\" style=\"height: 100px;\" hspace=\"50\"></a></div><img src=\"https://data.atoti.io/notebooks/alt-data/img/CloudQuantPNGLogo.png\" alt=\"CloudQuant\" style=\"height: 100px;\" hspace=\"50\"></a></div></center>"
   ]
  },
  {
   "cell_type": "markdown",
   "id": "c65ee665-5430-4454-8572-a1c7516c6ea2",
   "metadata": {},
   "source": [
    "## Getting Started with Atoti and CloudQuant"
   ]
  },
  {
   "cell_type": "markdown",
   "id": "720939bc-2818-4b93-85a0-cd36dfecab45",
   "metadata": {},
   "source": [
    "Discover how seamless it can be to incorporate alternative data into your rebalancing act. With CloudQuant’s datasets and Atoti Python API, we show you how to keep alternative data in mind when working through monthly portfolio rebalancing.\n",
    "\n",
    "In this notebook, we demonstrate how, using [Atoti Python API](https://docs.atoti.io/) and [CloudQuant's Liberator API](https://www.cloudquant.com/data-liberator/), we can incorporate alternative data in our portfolio rebalancing. Specifically, we demonstrate how to:\n",
    "\n",
    "1. Create a portfolio using Alphaflow\n",
    "2. Compute returns using DailyBars in Atoti\n",
    "3. Rebalance it monthly using Alphaflow long term signals\n",
    "4. Subject to several ESG related constraints using ESG data\n",
    "5. Compare across your portfolio options"
   ]
  },
  {
   "cell_type": "markdown",
   "id": "3ca48b31-e80c-4d9c-b837-c6818def1115",
   "metadata": {},
   "source": [
    "<div style=\"text-align: center;\" ><a href=\"https://www.atoti.io/?utm_source=gallery&utm_content=alt-data\" target=\"_blank\" rel=\"noopener noreferrer\"><img src=\"https://data.atoti.io/notebooks/banners/Discover-Atoti-now.png\" alt=\"Try atoti\"></a></div>"
   ]
  },
  {
   "cell_type": "markdown",
   "id": "39008737-193f-4a6f-948a-63f34465dab7",
   "metadata": {},
   "source": [
    "This notebook example utilizes custom widgets in our dasboards. By setting the below variable to `True`, we can view features not available in the Community Edition, like customized widgets for Atoti UI. Setting the below variable to `False` will continue to use Atoti Community Edition. No additional licensing setup is required.\n",
    "\n",
    "**Want to try Atoti Python API? You can [register online for an evaluation license](https://atoti.io/evaluation-license-request/) and check out how to [unlock all features of Atoti](https://docs.atoti.io/latest/how_tos/unlock_all_features.html).**\n",
    "\n",
    "<img src=\"https://img.shields.io/badge/-Atoti%20CE-%23291A40\" /> 🔛 <img src=\"https://img.shields.io/badge/🔒-Atoti-291A40\" />  \n",
    "\n",
    "Switch from Atoti Community Edition to Atoti Python API by updating the below variable to `True`. "
   ]
  },
  {
   "cell_type": "code",
   "execution_count": 1,
   "id": "faa50dfb-b5d2-4f15-90c0-60c262ae695f",
   "metadata": {},
   "outputs": [],
   "source": [
    "atoti_unlock = False"
   ]
  },
  {
   "cell_type": "markdown",
   "id": "202dc4b1-0075-46a5-8976-821791bd06f3",
   "metadata": {},
   "source": [
    "Below shows the configuration(s) required to register the custom widgets in this use case.  "
   ]
  },
  {
   "cell_type": "code",
   "execution_count": 2,
   "id": "a19b1532-fe8d-43d2-bb71-cc87c1cffe6d",
   "metadata": {},
   "outputs": [],
   "source": [
    "ui_ext = (\n",
    "    {\n",
    "        \"optimizerwidget-extension\": \"./ui/packages/optimizerWidget/dist/\",\n",
    "    }\n",
    "    if atoti_unlock\n",
    "    else {}\n",
    ")\n",
    "\n",
    "content = \"./content\" if atoti_unlock else \"./content-atoti-ce\""
   ]
  },
  {
   "cell_type": "code",
   "execution_count": 3,
   "id": "71d308c6-f129-417b-95ef-99aa704b9c50",
   "metadata": {
    "tags": []
   },
   "outputs": [],
   "source": [
    "import zipfile\n",
    "\n",
    "import atoti as tt\n",
    "import pandas as pd\n",
    "import wget\n",
    "from IPython.display import clear_output, display\n",
    "from utils.mapping import esg_col_types, esg_cols"
   ]
  },
  {
   "cell_type": "code",
   "execution_count": 4,
   "id": "0862c563-fa5a-4a3d-8ad3-631c4e6a6f5a",
   "metadata": {},
   "outputs": [
    {
     "name": "stdout",
     "output_type": "stream",
     "text": [
      "Downloading: 100% [2056595 / 2056595] bytes\n"
     ]
    }
   ],
   "source": [
    "def bar_custom(current, total, width=80):\n",
    "    clear_output(wait=True)\n",
    "    print(\"Downloading: %d%% [%d / %d] bytes\" % (current / total * 100, current, total))\n",
    "\n",
    "\n",
    "url = \"https://data.atoti.io/notebooks/alt-data/liberator-data.zip\"\n",
    "filename = wget.download(url, bar=bar_custom)\n",
    "\n",
    "# unzipping the file\n",
    "with zipfile.ZipFile(\"liberator-data.zip\", \"r\") as zip_ref:\n",
    "    zip_ref.extractall()"
   ]
  },
  {
   "cell_type": "code",
   "execution_count": 5,
   "id": "147bd8df-f119-4991-bc5d-67a5ad995564",
   "metadata": {
    "tags": []
   },
   "outputs": [],
   "source": [
    "session = tt.Session(\n",
    "    user_content_storage=content,\n",
    "    java_options=[\"-Xms1G\", \"-Xmx8G\"],\n",
    "    port=9092,\n",
    "    app_extensions=ui_ext,\n",
    ")"
   ]
  },
  {
   "cell_type": "markdown",
   "id": "b992fd8c-5b23-49d0-b877-310ab3681815",
   "metadata": {},
   "source": [
    "### Data modeling\n",
    "\n",
    "We can now create our data model based on the information we know we'll be working with. At the minimum, we will have portfolios we want to manage, the daily pricing data for the stocks or symbols we manage, and, since we are considering including alternative data in this use case, the alternative data we will be weaving in."
   ]
  },
  {
   "cell_type": "code",
   "execution_count": 6,
   "id": "e465d0c4-71e0-48b4-acf5-e6d793fa013d",
   "metadata": {
    "tags": []
   },
   "outputs": [],
   "source": [
    "portfolios = session.create_table(\n",
    "    name=\"portfolios\",\n",
    "    types={\n",
    "        \"portfolio\": tt.STRING,\n",
    "        \"symbol\": tt.STRING,\n",
    "        \"weight\": tt.DOUBLE,\n",
    "        \"iteration\": tt.STRING,\n",
    "        \"method\": tt.STRING,\n",
    "    },\n",
    "    default_values={\"iteration\": \"base\", \"method\": \"base\"},\n",
    "    keys=[\"portfolio\", \"symbol\", \"iteration\", \"method\"],\n",
    ")"
   ]
  },
  {
   "cell_type": "code",
   "execution_count": 7,
   "id": "093cccd8-44da-40da-9ffe-4578b087cc46",
   "metadata": {
    "tags": []
   },
   "outputs": [],
   "source": [
    "daily_bars_array = session.create_table(\n",
    "    name=\"daily_bars_array\",\n",
    "    types={\n",
    "        \"symbol\": tt.STRING,\n",
    "        \"closing_price\": tt.DOUBLE_ARRAY,\n",
    "        \"daily_returns_vector\": tt.DOUBLE_ARRAY,\n",
    "        \"daily_ROR_vector\": tt.DOUBLE_ARRAY,\n",
    "        \"monthly_ROR_vector\": tt.DOUBLE_ARRAY,\n",
    "    },\n",
    "    keys=[\"symbol\"],\n",
    ")"
   ]
  },
  {
   "cell_type": "code",
   "execution_count": 8,
   "id": "c5162ff2-0be2-455d-a503-dc9d21f02f73",
   "metadata": {
    "tags": []
   },
   "outputs": [],
   "source": [
    "historical_dates = session.create_table(\n",
    "    name=\"historical_dates\",\n",
    "    types={\n",
    "        \"historical_date\": tt.LOCAL_DATE,\n",
    "        \"date_index\": tt.INT,\n",
    "        \"monthly_date_index\": tt.INT,\n",
    "    },\n",
    "    keys=[\"historical_date\"],\n",
    "    default_values={\"date_index\": -1, \"monthly_date_index\": -1},\n",
    ")"
   ]
  },
  {
   "cell_type": "code",
   "execution_count": 9,
   "id": "774420dc-03f9-4de3-a9d0-f96a3af3463e",
   "metadata": {
    "tags": []
   },
   "outputs": [],
   "source": [
    "gsq_measure_large_cap = session.create_table(\n",
    "    name=\"gsq_measure_large_cap\",\n",
    "    types=esg_col_types,\n",
    "    keys=[\"symbol\", \"report_date\"],\n",
    ")"
   ]
  },
  {
   "cell_type": "code",
   "execution_count": 10,
   "id": "ac9affc3-2362-4d00-a99f-e2603eb9e3b5",
   "metadata": {
    "tags": []
   },
   "outputs": [],
   "source": [
    "cube = session.create_cube(portfolios, \"esg_optimization\")"
   ]
  },
  {
   "cell_type": "code",
   "execution_count": 11,
   "id": "69c79196-8bec-44aa-9b71-1e92b0820e9a",
   "metadata": {
    "tags": []
   },
   "outputs": [],
   "source": [
    "portfolios.join(daily_bars_array)\n",
    "portfolios.join(historical_dates)"
   ]
  },
  {
   "cell_type": "code",
   "execution_count": 12,
   "id": "0dc70348-f83c-47bd-9c41-774490b40237",
   "metadata": {
    "tags": []
   },
   "outputs": [
    {
     "data": {
      "image/svg+xml": [
       "<svg xmlns=\"http://www.w3.org/2000/svg\" xmlns:xlink=\"http://www.w3.org/1999/xlink\" width=\"563px\" height=\"286px\" viewBox=\"0.00 0.00 563.00 286.00\">\n",
       "<g id=\"graph0\" class=\"graph\" transform=\"scale(1.0 1.0) rotate(0) translate(4 282)\">\n",
       "<title>esg_optimization schema</title>\n",
       "<polygon fill=\"white\" stroke=\"none\" points=\"-4,4 -4,-282 559,-282 559,4 -4,4\"/>\n",
       "<!-- portfolios -->\n",
       "<g id=\"node1\" class=\"node\">\n",
       "<title>portfolios</title>\n",
       "<text text-anchor=\"start\" x=\"49.5\" y=\"-184.6\" font-family=\"-apple-system, BlinkMacSystemFont, 'Segoe UI', Helvetica, Arial, sans-serif, 'Apple Color Emoji', 'Segoe UI Emoji', 'Segoe UI Symbol'\" font-weight=\"bold\" font-size=\"13.00\">portfolios</text>\n",
       "<polygon fill=\"#f5f5f5\" stroke=\"none\" points=\"9.5,-151 9.5,-175 42.5,-175 42.5,-151 9.5,-151\"/>\n",
       "<text text-anchor=\"start\" x=\"14.5\" y=\"-160.6\" font-family=\"-apple-system, BlinkMacSystemFont, 'Segoe UI', Helvetica, Arial, sans-serif, 'Apple Color Emoji', 'Segoe UI Emoji', 'Segoe UI Symbol'\" font-weight=\"bold\" font-size=\"13.00\">key</text>\n",
       "<polygon fill=\"#f5f5f5\" stroke=\"none\" points=\"42.5,-151 42.5,-175 101.5,-175 101.5,-151 42.5,-151\"/>\n",
       "<text text-anchor=\"start\" x=\"47.5\" y=\"-159.6\" font-family=\"-apple-system, BlinkMacSystemFont, 'Segoe UI', Helvetica, Arial, sans-serif, 'Apple Color Emoji', 'Segoe UI Emoji', 'Segoe UI Symbol'\" font-size=\"13.00\">portfolio</text>\n",
       "<polygon fill=\"#f5f5f5\" stroke=\"none\" points=\"101.5,-151 101.5,-175 152.5,-175 152.5,-151 101.5,-151\"/>\n",
       "<text text-anchor=\"start\" x=\"111.5\" y=\"-160.6\" font-family=\"-apple-system, BlinkMacSystemFont, 'Segoe UI', Helvetica, Arial, sans-serif, 'Apple Color Emoji', 'Segoe UI Emoji', 'Segoe UI Symbol'\" font-style=\"italic\" font-size=\"13.00\">String</text>\n",
       "<polygon fill=\"#ffffff\" stroke=\"none\" points=\"9.5,-127 9.5,-151 42.5,-151 42.5,-127 9.5,-127\"/>\n",
       "<text text-anchor=\"start\" x=\"14.5\" y=\"-136.6\" font-family=\"-apple-system, BlinkMacSystemFont, 'Segoe UI', Helvetica, Arial, sans-serif, 'Apple Color Emoji', 'Segoe UI Emoji', 'Segoe UI Symbol'\" font-weight=\"bold\" font-size=\"13.00\">key</text>\n",
       "<polygon fill=\"#ffffff\" stroke=\"none\" points=\"42.5,-127 42.5,-151 101.5,-151 101.5,-127 42.5,-127\"/>\n",
       "<text text-anchor=\"start\" x=\"47.5\" y=\"-135.6\" font-family=\"-apple-system, BlinkMacSystemFont, 'Segoe UI', Helvetica, Arial, sans-serif, 'Apple Color Emoji', 'Segoe UI Emoji', 'Segoe UI Symbol'\" font-size=\"13.00\">symbol</text>\n",
       "<polygon fill=\"#ffffff\" stroke=\"none\" points=\"101.5,-127 101.5,-151 152.5,-151 152.5,-127 101.5,-127\"/>\n",
       "<text text-anchor=\"start\" x=\"111.5\" y=\"-136.6\" font-family=\"-apple-system, BlinkMacSystemFont, 'Segoe UI', Helvetica, Arial, sans-serif, 'Apple Color Emoji', 'Segoe UI Emoji', 'Segoe UI Symbol'\" font-style=\"italic\" font-size=\"13.00\">String</text>\n",
       "<polygon fill=\"#f5f5f5\" stroke=\"none\" points=\"9.5,-103 9.5,-127 42.5,-127 42.5,-103 9.5,-103\"/>\n",
       "<polygon fill=\"#f5f5f5\" stroke=\"none\" points=\"42.5,-103 42.5,-127 101.5,-127 101.5,-103 42.5,-103\"/>\n",
       "<text text-anchor=\"start\" x=\"47.5\" y=\"-111.6\" font-family=\"-apple-system, BlinkMacSystemFont, 'Segoe UI', Helvetica, Arial, sans-serif, 'Apple Color Emoji', 'Segoe UI Emoji', 'Segoe UI Symbol'\" font-size=\"13.00\">weight</text>\n",
       "<polygon fill=\"#f5f5f5\" stroke=\"none\" points=\"101.5,-103 101.5,-127 152.5,-127 152.5,-103 101.5,-103\"/>\n",
       "<text text-anchor=\"start\" x=\"106.5\" y=\"-112.6\" font-family=\"-apple-system, BlinkMacSystemFont, 'Segoe UI', Helvetica, Arial, sans-serif, 'Apple Color Emoji', 'Segoe UI Emoji', 'Segoe UI Symbol'\" font-style=\"italic\" font-size=\"13.00\">double</text>\n",
       "<polygon fill=\"#ffffff\" stroke=\"none\" points=\"9.5,-79 9.5,-103 42.5,-103 42.5,-79 9.5,-79\"/>\n",
       "<text text-anchor=\"start\" x=\"14.5\" y=\"-88.6\" font-family=\"-apple-system, BlinkMacSystemFont, 'Segoe UI', Helvetica, Arial, sans-serif, 'Apple Color Emoji', 'Segoe UI Emoji', 'Segoe UI Symbol'\" font-weight=\"bold\" font-size=\"13.00\">key</text>\n",
       "<polygon fill=\"#ffffff\" stroke=\"none\" points=\"42.5,-79 42.5,-103 101.5,-103 101.5,-79 42.5,-79\"/>\n",
       "<text text-anchor=\"start\" x=\"47.5\" y=\"-87.6\" font-family=\"-apple-system, BlinkMacSystemFont, 'Segoe UI', Helvetica, Arial, sans-serif, 'Apple Color Emoji', 'Segoe UI Emoji', 'Segoe UI Symbol'\" font-size=\"13.00\">iteration</text>\n",
       "<polygon fill=\"#ffffff\" stroke=\"none\" points=\"101.5,-79 101.5,-103 152.5,-103 152.5,-79 101.5,-79\"/>\n",
       "<text text-anchor=\"start\" x=\"111.5\" y=\"-88.6\" font-family=\"-apple-system, BlinkMacSystemFont, 'Segoe UI', Helvetica, Arial, sans-serif, 'Apple Color Emoji', 'Segoe UI Emoji', 'Segoe UI Symbol'\" font-style=\"italic\" font-size=\"13.00\">String</text>\n",
       "<polygon fill=\"#f5f5f5\" stroke=\"none\" points=\"9.5,-55 9.5,-79 42.5,-79 42.5,-55 9.5,-55\"/>\n",
       "<text text-anchor=\"start\" x=\"14.5\" y=\"-64.6\" font-family=\"-apple-system, BlinkMacSystemFont, 'Segoe UI', Helvetica, Arial, sans-serif, 'Apple Color Emoji', 'Segoe UI Emoji', 'Segoe UI Symbol'\" font-weight=\"bold\" font-size=\"13.00\">key</text>\n",
       "<polygon fill=\"#f5f5f5\" stroke=\"none\" points=\"42.5,-55 42.5,-79 101.5,-79 101.5,-55 42.5,-55\"/>\n",
       "<text text-anchor=\"start\" x=\"47.5\" y=\"-63.6\" font-family=\"-apple-system, BlinkMacSystemFont, 'Segoe UI', Helvetica, Arial, sans-serif, 'Apple Color Emoji', 'Segoe UI Emoji', 'Segoe UI Symbol'\" font-size=\"13.00\">method</text>\n",
       "<polygon fill=\"#f5f5f5\" stroke=\"none\" points=\"101.5,-55 101.5,-79 152.5,-79 152.5,-55 101.5,-55\"/>\n",
       "<text text-anchor=\"start\" x=\"111.5\" y=\"-64.6\" font-family=\"-apple-system, BlinkMacSystemFont, 'Segoe UI', Helvetica, Arial, sans-serif, 'Apple Color Emoji', 'Segoe UI Emoji', 'Segoe UI Symbol'\" font-style=\"italic\" font-size=\"13.00\">String</text>\n",
       "<polygon fill=\"none\" stroke=\"black\" points=\"8,-54 8,-200 153,-200 153,-54 8,-54\"/>\n",
       "</g>\n",
       "<!-- daily_bars_array -->\n",
       "<g id=\"node2\" class=\"node\">\n",
       "<title>daily_bars_array</title>\n",
       "<text text-anchor=\"start\" x=\"374.5\" y=\"-258.6\" font-family=\"-apple-system, BlinkMacSystemFont, 'Segoe UI', Helvetica, Arial, sans-serif, 'Apple Color Emoji', 'Segoe UI Emoji', 'Segoe UI Symbol'\" font-weight=\"bold\" font-size=\"13.00\">daily_bars_array</text>\n",
       "<polygon fill=\"#f5f5f5\" stroke=\"none\" points=\"313.5,-225 313.5,-249 346.5,-249 346.5,-225 313.5,-225\"/>\n",
       "<text text-anchor=\"start\" x=\"318.5\" y=\"-234.6\" font-family=\"-apple-system, BlinkMacSystemFont, 'Segoe UI', Helvetica, Arial, sans-serif, 'Apple Color Emoji', 'Segoe UI Emoji', 'Segoe UI Symbol'\" font-weight=\"bold\" font-size=\"13.00\">key</text>\n",
       "<polygon fill=\"#f5f5f5\" stroke=\"none\" points=\"346.5,-225 346.5,-249 484.5,-249 484.5,-225 346.5,-225\"/>\n",
       "<text text-anchor=\"start\" x=\"351.5\" y=\"-233.6\" font-family=\"-apple-system, BlinkMacSystemFont, 'Segoe UI', Helvetica, Arial, sans-serif, 'Apple Color Emoji', 'Segoe UI Emoji', 'Segoe UI Symbol'\" font-size=\"13.00\">symbol</text>\n",
       "<polygon fill=\"#f5f5f5\" stroke=\"none\" points=\"484.5,-225 484.5,-249 543.5,-249 543.5,-225 484.5,-225\"/>\n",
       "<text text-anchor=\"start\" x=\"502.5\" y=\"-234.6\" font-family=\"-apple-system, BlinkMacSystemFont, 'Segoe UI', Helvetica, Arial, sans-serif, 'Apple Color Emoji', 'Segoe UI Emoji', 'Segoe UI Symbol'\" font-style=\"italic\" font-size=\"13.00\">String</text>\n",
       "<polygon fill=\"#ffffff\" stroke=\"none\" points=\"313.5,-201 313.5,-225 346.5,-225 346.5,-201 313.5,-201\"/>\n",
       "<polygon fill=\"#ffffff\" stroke=\"none\" points=\"346.5,-201 346.5,-225 484.5,-225 484.5,-201 346.5,-201\"/>\n",
       "<text text-anchor=\"start\" x=\"351.5\" y=\"-209.6\" font-family=\"-apple-system, BlinkMacSystemFont, 'Segoe UI', Helvetica, Arial, sans-serif, 'Apple Color Emoji', 'Segoe UI Emoji', 'Segoe UI Symbol'\" font-size=\"13.00\">closing_price</text>\n",
       "<polygon fill=\"#ffffff\" stroke=\"none\" points=\"484.5,-201 484.5,-225 543.5,-225 543.5,-201 484.5,-201\"/>\n",
       "<text text-anchor=\"start\" x=\"489.5\" y=\"-210.6\" font-family=\"-apple-system, BlinkMacSystemFont, 'Segoe UI', Helvetica, Arial, sans-serif, 'Apple Color Emoji', 'Segoe UI Emoji', 'Segoe UI Symbol'\" font-style=\"italic\" font-size=\"13.00\">double[]</text>\n",
       "<polygon fill=\"#f5f5f5\" stroke=\"none\" points=\"313.5,-177 313.5,-201 346.5,-201 346.5,-177 313.5,-177\"/>\n",
       "<polygon fill=\"#f5f5f5\" stroke=\"none\" points=\"346.5,-177 346.5,-201 484.5,-201 484.5,-177 346.5,-177\"/>\n",
       "<text text-anchor=\"start\" x=\"351.5\" y=\"-185.6\" font-family=\"-apple-system, BlinkMacSystemFont, 'Segoe UI', Helvetica, Arial, sans-serif, 'Apple Color Emoji', 'Segoe UI Emoji', 'Segoe UI Symbol'\" font-size=\"13.00\">daily_returns_vector</text>\n",
       "<polygon fill=\"#f5f5f5\" stroke=\"none\" points=\"484.5,-177 484.5,-201 543.5,-201 543.5,-177 484.5,-177\"/>\n",
       "<text text-anchor=\"start\" x=\"489.5\" y=\"-186.6\" font-family=\"-apple-system, BlinkMacSystemFont, 'Segoe UI', Helvetica, Arial, sans-serif, 'Apple Color Emoji', 'Segoe UI Emoji', 'Segoe UI Symbol'\" font-style=\"italic\" font-size=\"13.00\">double[]</text>\n",
       "<polygon fill=\"#ffffff\" stroke=\"none\" points=\"313.5,-153 313.5,-177 346.5,-177 346.5,-153 313.5,-153\"/>\n",
       "<polygon fill=\"#ffffff\" stroke=\"none\" points=\"346.5,-153 346.5,-177 484.5,-177 484.5,-153 346.5,-153\"/>\n",
       "<text text-anchor=\"start\" x=\"351.5\" y=\"-161.6\" font-family=\"-apple-system, BlinkMacSystemFont, 'Segoe UI', Helvetica, Arial, sans-serif, 'Apple Color Emoji', 'Segoe UI Emoji', 'Segoe UI Symbol'\" font-size=\"13.00\">daily_ROR_vector</text>\n",
       "<polygon fill=\"#ffffff\" stroke=\"none\" points=\"484.5,-153 484.5,-177 543.5,-177 543.5,-153 484.5,-153\"/>\n",
       "<text text-anchor=\"start\" x=\"489.5\" y=\"-162.6\" font-family=\"-apple-system, BlinkMacSystemFont, 'Segoe UI', Helvetica, Arial, sans-serif, 'Apple Color Emoji', 'Segoe UI Emoji', 'Segoe UI Symbol'\" font-style=\"italic\" font-size=\"13.00\">double[]</text>\n",
       "<polygon fill=\"#f5f5f5\" stroke=\"none\" points=\"313.5,-129 313.5,-153 346.5,-153 346.5,-129 313.5,-129\"/>\n",
       "<polygon fill=\"#f5f5f5\" stroke=\"none\" points=\"346.5,-129 346.5,-153 484.5,-153 484.5,-129 346.5,-129\"/>\n",
       "<text text-anchor=\"start\" x=\"351.5\" y=\"-137.6\" font-family=\"-apple-system, BlinkMacSystemFont, 'Segoe UI', Helvetica, Arial, sans-serif, 'Apple Color Emoji', 'Segoe UI Emoji', 'Segoe UI Symbol'\" font-size=\"13.00\">monthly_ROR_vector</text>\n",
       "<polygon fill=\"#f5f5f5\" stroke=\"none\" points=\"484.5,-129 484.5,-153 543.5,-153 543.5,-129 484.5,-129\"/>\n",
       "<text text-anchor=\"start\" x=\"489.5\" y=\"-138.6\" font-family=\"-apple-system, BlinkMacSystemFont, 'Segoe UI', Helvetica, Arial, sans-serif, 'Apple Color Emoji', 'Segoe UI Emoji', 'Segoe UI Symbol'\" font-style=\"italic\" font-size=\"13.00\">double[]</text>\n",
       "<polygon fill=\"none\" stroke=\"black\" points=\"312.5,-128 312.5,-274 544.5,-274 544.5,-128 312.5,-128\"/>\n",
       "</g>\n",
       "<!-- portfolios&#45;&gt;daily_bars_array -->\n",
       "<g id=\"edge2\" class=\"edge\">\n",
       "<title>portfolios-&gt;daily_bars_array</title>\n",
       "<path fill=\"none\" stroke=\"black\" d=\"M160.88,-143.98C200.23,-152.39 248.83,-162.79 293.71,-172.39\"/>\n",
       "<polygon fill=\"black\" stroke=\"black\" points=\"292.74,-175.76 303.25,-174.43 294.21,-168.91 292.74,-175.76\"/>\n",
       "<text text-anchor=\"middle\" x=\"231.5\" y=\"-171.6\" font-family=\"-apple-system, BlinkMacSystemFont, 'Segoe UI', Helvetica, Arial, sans-serif, 'Apple Color Emoji', 'Segoe UI Emoji', 'Segoe UI Symbol'\" font-size=\"13.00\">symbol → symbol</text>\n",
       "</g>\n",
       "<!-- historical_dates -->\n",
       "<g id=\"node3\" class=\"node\">\n",
       "<title>historical_dates</title>\n",
       "<text text-anchor=\"start\" x=\"377.5\" y=\"-86.6\" font-family=\"-apple-system, BlinkMacSystemFont, 'Segoe UI', Helvetica, Arial, sans-serif, 'Apple Color Emoji', 'Segoe UI Emoji', 'Segoe UI Symbol'\" font-weight=\"bold\" font-size=\"13.00\">historical_dates</text>\n",
       "<polygon fill=\"#f5f5f5\" stroke=\"none\" points=\"311.5,-53 311.5,-77 344.5,-77 344.5,-53 311.5,-53\"/>\n",
       "<text text-anchor=\"start\" x=\"316.5\" y=\"-62.6\" font-family=\"-apple-system, BlinkMacSystemFont, 'Segoe UI', Helvetica, Arial, sans-serif, 'Apple Color Emoji', 'Segoe UI Emoji', 'Segoe UI Symbol'\" font-weight=\"bold\" font-size=\"13.00\">key</text>\n",
       "<polygon fill=\"#f5f5f5\" stroke=\"none\" points=\"344.5,-53 344.5,-77 475.5,-77 475.5,-53 344.5,-53\"/>\n",
       "<text text-anchor=\"start\" x=\"349.5\" y=\"-61.6\" font-family=\"-apple-system, BlinkMacSystemFont, 'Segoe UI', Helvetica, Arial, sans-serif, 'Apple Color Emoji', 'Segoe UI Emoji', 'Segoe UI Symbol'\" font-size=\"13.00\">historical_date</text>\n",
       "<polygon fill=\"#f5f5f5\" stroke=\"none\" points=\"475.5,-53 475.5,-77 546.5,-77 546.5,-53 475.5,-53\"/>\n",
       "<text text-anchor=\"start\" x=\"480.5\" y=\"-62.6\" font-family=\"-apple-system, BlinkMacSystemFont, 'Segoe UI', Helvetica, Arial, sans-serif, 'Apple Color Emoji', 'Segoe UI Emoji', 'Segoe UI Symbol'\" font-style=\"italic\" font-size=\"13.00\">LocalDate</text>\n",
       "<polygon fill=\"#ffffff\" stroke=\"none\" points=\"311.5,-29 311.5,-53 344.5,-53 344.5,-29 311.5,-29\"/>\n",
       "<polygon fill=\"#ffffff\" stroke=\"none\" points=\"344.5,-29 344.5,-53 475.5,-53 475.5,-29 344.5,-29\"/>\n",
       "<text text-anchor=\"start\" x=\"349.5\" y=\"-37.6\" font-family=\"-apple-system, BlinkMacSystemFont, 'Segoe UI', Helvetica, Arial, sans-serif, 'Apple Color Emoji', 'Segoe UI Emoji', 'Segoe UI Symbol'\" font-size=\"13.00\">date_index</text>\n",
       "<polygon fill=\"#ffffff\" stroke=\"none\" points=\"475.5,-29 475.5,-53 546.5,-53 546.5,-29 475.5,-29\"/>\n",
       "<text text-anchor=\"start\" x=\"526.5\" y=\"-38.6\" font-family=\"-apple-system, BlinkMacSystemFont, 'Segoe UI', Helvetica, Arial, sans-serif, 'Apple Color Emoji', 'Segoe UI Emoji', 'Segoe UI Symbol'\" font-style=\"italic\" font-size=\"13.00\">int</text>\n",
       "<polygon fill=\"#f5f5f5\" stroke=\"none\" points=\"311.5,-5 311.5,-29 344.5,-29 344.5,-5 311.5,-5\"/>\n",
       "<polygon fill=\"#f5f5f5\" stroke=\"none\" points=\"344.5,-5 344.5,-29 475.5,-29 475.5,-5 344.5,-5\"/>\n",
       "<text text-anchor=\"start\" x=\"349.5\" y=\"-13.6\" font-family=\"-apple-system, BlinkMacSystemFont, 'Segoe UI', Helvetica, Arial, sans-serif, 'Apple Color Emoji', 'Segoe UI Emoji', 'Segoe UI Symbol'\" font-size=\"13.00\">monthly_date_index</text>\n",
       "<polygon fill=\"#f5f5f5\" stroke=\"none\" points=\"475.5,-5 475.5,-29 546.5,-29 546.5,-5 475.5,-5\"/>\n",
       "<text text-anchor=\"start\" x=\"526.5\" y=\"-14.6\" font-family=\"-apple-system, BlinkMacSystemFont, 'Segoe UI', Helvetica, Arial, sans-serif, 'Apple Color Emoji', 'Segoe UI Emoji', 'Segoe UI Symbol'\" font-style=\"italic\" font-size=\"13.00\">int</text>\n",
       "<polygon fill=\"none\" stroke=\"black\" points=\"310,-4 310,-102 547,-102 547,-4 310,-4\"/>\n",
       "</g>\n",
       "<!-- portfolios&#45;&gt;historical_dates -->\n",
       "<g id=\"edge1\" class=\"edge\">\n",
       "<title>portfolios-&gt;historical_dates</title>\n",
       "<path fill=\"none\" stroke=\"black\" stroke-dasharray=\"5,2\" d=\"M160.88,-110.02C199.41,-101.78 246.81,-91.64 290.91,-82.21\"/>\n",
       "<polygon fill=\"black\" stroke=\"black\" points=\"291.51,-85.66 300.56,-80.15 290.05,-78.82 291.51,-85.66\"/>\n",
       "</g>\n",
       "</g>\n",
       "</svg>"
      ],
      "text/plain": [
       "<IPython.core.display.SVG object>"
      ]
     },
     "execution_count": 12,
     "metadata": {},
     "output_type": "execute_result"
    }
   ],
   "source": [
    "cube.schema"
   ]
  },
  {
   "cell_type": "code",
   "execution_count": 13,
   "id": "11bcff77-b272-46cd-b8bf-fadc4c82c03f",
   "metadata": {
    "tags": []
   },
   "outputs": [],
   "source": [
    "portfolios.join(gsq_measure_large_cap)"
   ]
  },
  {
   "cell_type": "code",
   "execution_count": 14,
   "id": "05f55d7a-ee56-483c-aa65-a48ed91cb9f0",
   "metadata": {
    "tags": []
   },
   "outputs": [],
   "source": [
    "h, l, m = cube.hierarchies, cube.levels, cube.measures"
   ]
  },
  {
   "cell_type": "markdown",
   "id": "cb252033-9bda-49a0-a2a1-177c8ab640ab",
   "metadata": {},
   "source": [
    "### Loading in data from Liberator\n",
    "\n",
    "Alternatively, if we have an active license from CloudQuant, we can just as readily query and read in the results from Liberator. To see an example of querying datasets using the Liberator API, check out [01_data_gen notebook](./01_data_gen.ipynb) or see [Liberator's documentation](https://www.cloudquant.com/data-liberator/)."
   ]
  },
  {
   "cell_type": "code",
   "execution_count": 15,
   "id": "5f8bed53-5976-4a49-96cc-078d2eaeba33",
   "metadata": {
    "tags": []
   },
   "outputs": [],
   "source": [
    "daily_bars_array.load_csv(\"./data/array/daily_bars.csv\", array_separator=\",\")"
   ]
  },
  {
   "cell_type": "code",
   "execution_count": 16,
   "id": "221ea8ca-5f37-4fea-ba3d-80a2e663bdc0",
   "metadata": {
    "tags": []
   },
   "outputs": [],
   "source": [
    "gsq_measure_large_cap.load_csv(\n",
    "    \"./data/gsq_measure_large_cap.csv\",\n",
    "    columns=esg_cols,\n",
    ")"
   ]
  },
  {
   "cell_type": "code",
   "execution_count": 17,
   "id": "76bf0cd3-a6e6-4c78-8a19-191a2b68fdf2",
   "metadata": {},
   "outputs": [],
   "source": [
    "portfolios.load_csv(\"./data/portfolio.csv\")"
   ]
  },
  {
   "cell_type": "code",
   "execution_count": 18,
   "id": "b3e6e024-5def-4d98-8125-d62a1801bbd0",
   "metadata": {
    "tags": []
   },
   "outputs": [],
   "source": [
    "historical_dates.load_csv(\"./data/array/historical_dates.csv\")"
   ]
  },
  {
   "cell_type": "markdown",
   "id": "3e81ad98-bb10-4ab0-ac58-3ead8e877ea3",
   "metadata": {},
   "source": [
    "## Exploring our data"
   ]
  },
  {
   "cell_type": "code",
   "execution_count": 19,
   "id": "6f698a13-bb2f-455f-b8d3-8c0ead23e42a",
   "metadata": {
    "atoti": {
     "widget": {
      "columnWidths": {
       "[Measures].[closing_price]": 217.5,
       "[Measures].[daily_ROR_vector]": 196,
       "[Measures].[price_vector]": 270.5,
       "[Measures].[weight.SUM]": 223.671875
      },
      "mapping": {
       "columns": [
        "[portfolios].[iteration].[iteration]",
        "ALL_MEASURES"
       ],
       "measures": [
        "[Measures].[weight.SUM]"
       ],
       "rows": [
        "[portfolios].[portfolio].[portfolio]",
        "[portfolios].[symbol].[symbol]"
       ]
      },
      "query": {
       "mdx": "SELECT NON EMPTY Crossjoin(Hierarchize(Descendants({[portfolios].[portfolio].[AllMember]}, 1, SELF_AND_BEFORE)), Hierarchize(Descendants({[portfolios].[symbol].[AllMember]}, 1, SELF_AND_BEFORE))) ON ROWS, NON EMPTY Crossjoin(Hierarchize(Descendants({[portfolios].[iteration].[AllMember]}, 1, SELF_AND_BEFORE)), {[Measures].[weight.SUM]}) ON COLUMNS FROM [esg_optimization] CELL PROPERTIES VALUE, FORMATTED_VALUE, BACK_COLOR, FORE_COLOR, FONT_FLAGS",
       "updateMode": "once"
      },
      "queryContext": [
       {
        "key": "mdx.hiddengrandtotals",
        "value": "0"
       },
       {
        "key": "mdx.hiddensubtotals",
        "value": "[portfolios].[portfolio].[portfolio]"
       }
      ],
      "serverKey": "default",
      "widgetKey": "pivot-table"
     }
    },
    "tags": []
   },
   "outputs": [
    {
     "data": {
      "application/vnd.atoti.widget.v0+json": {
       "name": "Our Starting Portfolios",
       "sessionId": "1694523495_ON6WNL",
       "sessionLocation": {
        "https": false,
        "port": 9092
       },
       "widgetCreationCode": "session.visualize()"
      },
      "text/html": [
       "<img src=\"data:image/svg+xml;charset=utf8,%3C%3Fxml%20version%3D%221.0%22%20standalone%3D%22no%22%3F%3E%3Csvg%20xmlns%3D%22http%3A%2F%2Fwww.w3.org%2F2000%2Fsvg%22%20height%3D%22352%22%20width%3D%22952%22%3E%3CforeignObject%20width%3D%22100%25%22%20height%3D%22100%25%22%20x%3D%220%22%20y%3D%220%22%3E%3Cstyle%20xmlns%3D%22http%3A%2F%2Fwww.w3.org%2F1999%2Fxhtml%22%20type%3D%22text%2Fcss%22%3E*%2C%20%3A%3Abefore%2C%20%3A%3Aafter%20%7Bbox-sizing%3A%20unset%7D%0A.ant-root%20%5Bclass%5E%3D%22ant-%22%5D%2C%20.ant-root%20%5Bclass*%3D%22ant-%22%5D%2C%20.ant-root%20%5Bclass%5E%3D%22ant-%22%5D%20*%2C%20.ant-root%20%5Bclass*%3D%22ant-%22%5D%20*%2C%20.ant-root%20%5Bclass%5E%3D%22ant-%22%5D%20%3A%3Abefore%2C%20.ant-root%20%5Bclass*%3D%22ant-%22%5D%20%3A%3Abefore%2C%20.ant-root%20%5Bclass%5E%3D%22ant-%22%5D%20%3A%3Aafter%2C%20.ant-root%20%5Bclass*%3D%22ant-%22%5D%20%3A%3Aafter%20%7Bbox-sizing%3A%20border-box%7D%0A.ant-root%2C%20.ant-root%20%7Bwidth%3A%20100%25%3B%20height%3A%20100%25%7D%0A.ant-root%20*%2C%20.ant-root%20%3A%3Abefore%2C%20.ant-root%20%3A%3Aafter%20%7Bbox-sizing%3A%20border-box%7D%0A.ant-root%20%7Btext-size-adjust%3A%20100%25%3B%20-webkit-tap-highlight-color%3A%20rgba(0%2C%200%2C%200%2C%200)%3B%20font-family%3A%20-apple-system%2C%20BlinkMacSystemFont%2C%20%22Segoe%20UI%22%2C%20Roboto%2C%20%22Helvetica%20Neue%22%2C%20Arial%2C%20%22Noto%20Sans%22%2C%20sans-serif%2C%20%22Apple%20Color%20Emoji%22%2C%20%22Segoe%20UI%20Emoji%22%2C%20%22Segoe%20UI%20Symbol%22%2C%20%22Noto%20Color%20Emoji%22%3B%20line-height%3A%201.66667%3B%20color%3A%20rgb(89%2C%2089%2C%2089)%3B%20font-variant-ligatures%3A%20normal%3B%20font-variant-numeric%3A%20tabular-nums%3B%20font-variant-east-asian%3A%20normal%3B%20font-variant-caps%3A%20normal%3B%20font-variant-alternates%3A%20normal%3B%20background-color%3A%20rgb(255%2C%20255%2C%20255)%3B%20margin-top%3A%200px%3B%20margin-right%3A%200px%3B%20margin-bottom%3A%200px%3B%20margin-left%3A%200px%3B%20font-size%3A%2012px%3B%20--antd-wave-shadow-color%3A%20%231890ff%3B%20--scroll-bar%3A%200%7D%0A.ant-root%20.aui-invisible-scrollbars%20%7B%7D%0A.css-12ebr42-AWidget%20%7Bheight%3A%20100%25%7D%0A.css-2p9ued-WidgetLoadingOverlay%20%7Bheight%3A%20100%25%3B%20position%3A%20relative%7D%0A.css-1b1raxz-DefaultWidgetLoadingOverlay%20%7Bdisplay%3A%20flex%3B%20height%3A%20100%25%3B%20-webkit-box-pack%3A%20center%3B%20justify-content%3A%20center%3B%20position%3A%20absolute%3B%20width%3A%20100%25%3B%20-webkit-box-align%3A%20center%3B%20align-items%3A%20center%3B%20pointer-events%3A%20none%3B%20z-index%3A%202%7D%0A.css-34a2ml-DefaultWidgetLoadingOverlay%20%7Bbackground-image%3A%20initial%3B%20background-position-x%3A%20initial%3B%20background-position-y%3A%20initial%3B%20background-size%3A%20initial%3B%20background-repeat-x%3A%20initial%3B%20background-repeat-y%3A%20initial%3B%20background-attachment%3A%20initial%3B%20background-origin%3A%20initial%3B%20background-clip%3A%20initial%3B%20background-color%3A%20transparent%3B%20width%3A%20calc(100%25%20-%204px)%3B%20height%3A%20calc(100%25%20-%204px)%7D%0A.css-1hwl8p1-Table%20%7Bpadding-bottom%3A%202px%3B%20padding-right%3A%202px%3B%20height%3A%20100%25%7D%0A.css-14ejcn0-Table%20%7Bheight%3A%20calc(100%25%20-%2030px)%3B%20outline-color%3A%20initial%3B%20outline-style%3A%20none%3B%20outline-width%3A%20initial%3B%20position%3A%20relative%7D%0A.css-1rxpjm0-ColumnResizeHint%20%7Bdisplay%3A%20none%3B%20position%3A%20absolute%3B%20z-index%3A%201%7D%0A.css-1bk59ax-ColumnResizeHint%20%7Bheight%3A%2056px%3B%20background-color%3A%20rgb(24%2C%20144%2C%20255)%3B%20width%3A%205px%7D%0A.css-1uww2vi-Table%20%7Bheight%3A%2030px%3B%20text-align%3A%20right%3B%20padding-right%3A%2025px%7D%0A.css-wg29jm-ColumnResizeHint%20%7Bdisplay%3A%20none%3B%20float%3A%20right%3B%20height%3A%20264px%3B%20background-color%3A%20rgb(24%2C%20144%2C%20255)%3B%20opacity%3A%200.4%3B%20width%3A%202px%7D%0A.css-bi0kgd-Table%20%7Bdisplay%3A%20flex%3B%20height%3A%20320px%7D%0A.css-1kndo9a-Table%20%7Bborder-collapse%3A%20collapse%3B%20height%3A%2056px%3B%20width%3A%20240px%7D%0A.css-cjpoh6%20%7Bheight%3A%2056px%3B%20width%3A%20240px%7D%0A.css-1pff4ml%20%7Bcursor%3A%20cell%3B%20height%3A%2056px%3B%20overflow-x%3A%20hidden%3B%20overflow-y%3A%20hidden%3B%20position%3A%20relative%3B%20width%3A%20240px%3B%20border-right-width%3A%202px%3B%20border-right-style%3A%20solid%3B%20border-right-color%3A%20rgb(233%2C%20233%2C%20233)%7D%0A.css-1hol363-ResizableCell%20%7Bdisplay%3A%20flex%3B%20flex-direction%3A%20column%3B%20position%3A%20absolute%3B%20top%3A%200px%3B%20left%3A%200px%3B%20height%3A%2028px%3B%20width%3A%20120px%7D%0A.css-xxcrt1-ResizableCell%20%7Bbackground-image%3A%20initial%3B%20background-position-x%3A%20initial%3B%20background-position-y%3A%20initial%3B%20background-size%3A%20initial%3B%20background-repeat-x%3A%20initial%3B%20background-repeat-y%3A%20initial%3B%20background-attachment%3A%20initial%3B%20background-origin%3A%20initial%3B%20background-clip%3A%20initial%3B%20background-color%3A%20transparent%3B%20cursor%3A%20col-resize%3B%20height%3A%20100%25%3B%20position%3A%20absolute%3B%20right%3A%200px%3B%20width%3A%205px%3B%20z-index%3A%201%7D%0A.css-fpuq48-ResizableCell%20%7Bdisplay%3A%20flex%3B%20flex-direction%3A%20column%3B%20position%3A%20absolute%3B%20top%3A%200px%3B%20left%3A%20120px%3B%20height%3A%2028px%3B%20width%3A%20120px%7D%0A.css-z51yao-ResizableCell%20%7Bdisplay%3A%20flex%3B%20flex-direction%3A%20column%3B%20position%3A%20absolute%3B%20top%3A%2028px%3B%20left%3A%200px%3B%20height%3A%2028px%3B%20width%3A%20120px%7D%0A.css-10fw2tq-ResizableCell%20%7Bdisplay%3A%20flex%3B%20flex-direction%3A%20column%3B%20position%3A%20absolute%3B%20top%3A%2028px%3B%20left%3A%20120px%3B%20height%3A%2028px%3B%20width%3A%20120px%7D%0A.css-5fhqvc%20%7Bheight%3A%20264px%3B%20width%3A%20240px%3B%20overflow-x%3A%20hidden%3B%20overflow-y%3A%20auto%7D%0A.css-oive5k%20%7Bcursor%3A%20cell%3B%20height%3A%205600px%3B%20overflow-x%3A%20hidden%3B%20overflow-y%3A%20hidden%3B%20position%3A%20relative%3B%20width%3A%20240px%3B%20border-top-width%3A%202px%3B%20border-top-style%3A%20solid%3B%20border-top-color%3A%20rgb(233%2C%20233%2C%20233)%3B%20border-right-width%3A%202px%3B%20border-right-style%3A%20solid%3B%20border-right-color%3A%20rgb(233%2C%20233%2C%20233)%7D%0A.css-1rk1wxu-Table%20%7Bwidth%3A%20710px%3B%20border-collapse%3A%20collapse%7D%0A.css-kidv1t%20%7Bheight%3A%2056px%3B%20width%3A%20692px%3B%20overflow-x%3A%20auto%3B%20overflow-y%3A%20hidden%7D%0A.css-v5p29l%20%7Bcursor%3A%20cell%3B%20height%3A%2056px%3B%20overflow-x%3A%20hidden%3B%20overflow-y%3A%20hidden%3B%20position%3A%20relative%3B%20width%3A%20120px%7D%0A.css-rt9op0%20%7Bheight%3A%20264px%3B%20width%3A%20710px%3B%20overflow-x%3A%20auto%3B%20overflow-y%3A%20auto%7D%0A.css-9kfk71%20%7Bcursor%3A%20cell%3B%20height%3A%205600px%3B%20overflow-x%3A%20hidden%3B%20overflow-y%3A%20hidden%3B%20position%3A%20relative%3B%20width%3A%20120px%3B%20border-top-width%3A%202px%3B%20border-top-style%3A%20solid%3B%20border-top-color%3A%20rgb(233%2C%20233%2C%20233)%7D%0A*%20%7B-ms-overflow-style%3A%20none%3B%20scrollbar-width%3A%20none%7D%0A*%3A%3A-webkit-scrollbar%20%7Bdisplay%3A%20none%7D%0A.atoti-hidden-in-snapshot%20%7Bdisplay%3A%20none%7D%3C%2Fstyle%3E%3Cdiv%20xmlns%3D%22http%3A%2F%2Fwww.w3.org%2F1999%2Fxhtml%22%20style%3D%22height%3A%20352px%3B%20width%3A%20952px%3B%22%3E%3Cdiv%20class%3D%22ant-root%20css-0%22%3E%3Cdiv%20class%3D%22ant-dropdown-trigger%20css-12ebr42-AWidget%22%3E%3Cdiv%20class%3D%22css-2p9ued-WidgetLoadingOverlay%22%3E%3Cdiv%20class%3D%22css-1b1raxz-DefaultWidgetLoadingOverlay%22%3E%3Cdiv%20class%3D%22css-34a2ml-DefaultWidgetLoadingOverlay%22%3E%3C%2Fdiv%3E%3C%2Fdiv%3E%3Cdiv%20class%3D%22css-1hwl8p1-Table%22%3E%3Cdiv%20tabindex%3D%220%22%20class%3D%22css-14ejcn0-Table%22%3E%3Cdiv%20class%3D%22css-1rxpjm0-ColumnResizeHint%22%3E%3Cdiv%20class%3D%22css-1bk59ax-ColumnResizeHint%22%3E%3C%2Fdiv%3E%3Cdiv%20class%3D%22css-wg29jm-ColumnResizeHint%22%3E%3C%2Fdiv%3E%3C%2Fdiv%3E%3Cdiv%20class%3D%22css-bi0kgd-Table%22%3E%3Cdiv%20class%3D%22css-1kndo9a-Table%22%3E%3Cdiv%20class%3D%22%20css-cjpoh6%22%3E%3Cdiv%20class%3D%22css-1pff4ml%22%3E%3Cdiv%20class%3D%22css-1hol363-ResizableCell%22%3E%3Cdiv%20class%3D%22aui-table-cell%22%20style%3D%22height%3A%2028px%3B%20left%3A%200px%3B%20top%3A%200px%3B%20width%3A%20115px%3B%20text-align%3A%20left%3B%20font-size%3A%2012px%3B%20padding%3A%204px%204px%203px%3B%20overflow%3A%20hidden%3B%20position%3A%20absolute%3B%20white-space%3A%20nowrap%3B%20text-overflow%3A%20ellipsis%3B%20font-weight%3A%20600%3B%20display%3A%20flex%3B%20align-items%3A%20center%3B%22%3E%3Cspan%3Eportfolio%3C%2Fspan%3E%3C%2Fdiv%3E%3Cdiv%20class%3D%22css-xxcrt1-ResizableCell%22%3E%3C%2Fdiv%3E%3C%2Fdiv%3E%3Cdiv%20class%3D%22css-fpuq48-ResizableCell%22%3E%3Cdiv%20class%3D%22aui-table-cell%22%20style%3D%22height%3A%2028px%3B%20left%3A%200px%3B%20top%3A%200px%3B%20width%3A%20115px%3B%20text-align%3A%20left%3B%20font-size%3A%2012px%3B%20padding%3A%204px%204px%203px%3B%20overflow%3A%20hidden%3B%20position%3A%20absolute%3B%20white-space%3A%20nowrap%3B%20text-overflow%3A%20ellipsis%3B%20font-weight%3A%20600%3B%20display%3A%20flex%3B%20align-items%3A%20center%3B%22%3E%3Cspan%3Esymbol%3C%2Fspan%3E%3C%2Fdiv%3E%3Cdiv%20class%3D%22css-xxcrt1-ResizableCell%22%3E%3C%2Fdiv%3E%3C%2Fdiv%3E%3Cdiv%20class%3D%22css-z51yao-ResizableCell%22%3E%3Cdiv%20class%3D%22aui-table-cell%22%20style%3D%22height%3A%2028px%3B%20left%3A%200px%3B%20top%3A%200px%3B%20width%3A%20115px%3B%20text-align%3A%20left%3B%20font-size%3A%2012px%3B%20padding%3A%204px%204px%203px%3B%20overflow%3A%20hidden%3B%20position%3A%20absolute%3B%20white-space%3A%20nowrap%3B%20text-overflow%3A%20ellipsis%3B%20font-weight%3A%20600%3B%20display%3A%20none%3B%20align-items%3A%20center%3B%22%3E%3Cspan%3Eportfolio%3C%2Fspan%3E%3C%2Fdiv%3E%3Cdiv%20class%3D%22css-xxcrt1-ResizableCell%22%3E%3C%2Fdiv%3E%3C%2Fdiv%3E%3Cdiv%20class%3D%22css-10fw2tq-ResizableCell%22%3E%3Cdiv%20class%3D%22aui-table-cell%22%20style%3D%22height%3A%2028px%3B%20left%3A%200px%3B%20top%3A%200px%3B%20width%3A%20115px%3B%20text-align%3A%20left%3B%20font-size%3A%2012px%3B%20padding%3A%204px%204px%203px%3B%20overflow%3A%20hidden%3B%20position%3A%20absolute%3B%20white-space%3A%20nowrap%3B%20text-overflow%3A%20ellipsis%3B%20font-weight%3A%20600%3B%20display%3A%20none%3B%20align-items%3A%20center%3B%22%3E%3Cspan%3Esymbol%3C%2Fspan%3E%3C%2Fdiv%3E%3Cdiv%20class%3D%22css-xxcrt1-ResizableCell%22%3E%3C%2Fdiv%3E%3C%2Fdiv%3E%3C%2Fdiv%3E%3C%2Fdiv%3E%3Cdiv%20class%3D%22aui-invisible-scrollbars%20css-5fhqvc%22%3E%3Cdiv%20class%3D%22css-oive5k%22%3E%3Cdiv%20style%3D%22display%3A%20flex%3B%20align-items%3A%20center%3B%20height%3A%2028px%3B%20left%3A%200px%3B%20top%3A%200px%3B%20width%3A%20120px%3B%20text-align%3A%20left%3B%20font-size%3A%2012px%3B%20padding%3A%204px%204px%203px%3B%20overflow%3A%20hidden%3B%20position%3A%20absolute%3B%20white-space%3A%20nowrap%3B%20text-overflow%3A%20ellipsis%3B%20font-weight%3A%20600%3B%22%3E%3Cspan%20style%3D%22text-overflow%3A%20ellipsis%3B%20overflow%3A%20hidden%3B%20white-space%3A%20nowrap%3B%20max-width%3A%20calc((100%25%20-%200px)%20-%200px)%3B%22%3ETotal%3C%2Fspan%3E%3C%2Fdiv%3E%3Cdiv%20style%3D%22display%3A%20flex%3B%20align-items%3A%20center%3B%20height%3A%2028px%3B%20left%3A%20120px%3B%20top%3A%200px%3B%20width%3A%20120px%3B%20text-align%3A%20left%3B%20font-size%3A%2012px%3B%20padding%3A%204px%204px%203px%3B%20overflow%3A%20hidden%3B%20position%3A%20absolute%3B%20white-space%3A%20nowrap%3B%20text-overflow%3A%20ellipsis%3B%20border-right%3A%202px%20solid%20rgb(233%2C%20233%2C%20233)%3B%20background-color%3A%20transparent%3B%22%3E%3Cspan%20style%3D%22text-overflow%3A%20ellipsis%3B%20overflow%3A%20hidden%3B%20white-space%3A%20nowrap%3B%20max-width%3A%20calc((100%25%20-%200px)%20-%200px)%3B%22%3E%3C%2Fspan%3E%3C%2Fdiv%3E%3Cdiv%20style%3D%22display%3A%20flex%3B%20align-items%3A%20center%3B%20height%3A%2028px%3B%20left%3A%200px%3B%20top%3A%2028px%3B%20width%3A%20120px%3B%20text-align%3A%20left%3B%20font-size%3A%2012px%3B%20padding%3A%204px%204px%203px%3B%20overflow%3A%20hidden%3B%20position%3A%20absolute%3B%20white-space%3A%20nowrap%3B%20text-overflow%3A%20ellipsis%3B%20font-weight%3A%20600%3B%22%3E%3Cspan%20style%3D%22text-overflow%3A%20ellipsis%3B%20overflow%3A%20hidden%3B%20white-space%3A%20nowrap%3B%20max-width%3A%20calc((100%25%20-%200px)%20-%200px)%3B%22%3E2023_A%3C%2Fspan%3E%3C%2Fdiv%3E%3Cdiv%20style%3D%22display%3A%20flex%3B%20align-items%3A%20center%3B%20height%3A%2028px%3B%20left%3A%20120px%3B%20top%3A%2028px%3B%20width%3A%20120px%3B%20text-align%3A%20left%3B%20font-size%3A%2012px%3B%20padding%3A%204px%204px%203px%3B%20overflow%3A%20hidden%3B%20position%3A%20absolute%3B%20white-space%3A%20nowrap%3B%20text-overflow%3A%20ellipsis%3B%20border-right%3A%202px%20solid%20rgb(233%2C%20233%2C%20233)%3B%20background-color%3A%20rgb(250%2C%20250%2C%20250)%3B%22%3E%3Cspan%20style%3D%22text-overflow%3A%20ellipsis%3B%20overflow%3A%20hidden%3B%20white-space%3A%20nowrap%3B%20max-width%3A%20calc((100%25%20-%200px)%20-%200px)%3B%22%3EAAPL%3C%2Fspan%3E%3C%2Fdiv%3E%3Cdiv%20style%3D%22display%3A%20none%3B%20align-items%3A%20center%3B%20height%3A%2028px%3B%20left%3A%200px%3B%20top%3A%2056px%3B%20width%3A%20120px%3B%20text-align%3A%20left%3B%20font-size%3A%2012px%3B%20padding%3A%204px%204px%203px%3B%20overflow%3A%20hidden%3B%20position%3A%20absolute%3B%20white-space%3A%20nowrap%3B%20text-overflow%3A%20ellipsis%3B%20font-weight%3A%20600%3B%22%3E%3Cspan%20style%3D%22text-overflow%3A%20ellipsis%3B%20overflow%3A%20hidden%3B%20white-space%3A%20nowrap%3B%20max-width%3A%20calc((100%25%20-%200px)%20-%200px)%3B%22%3E2023_A%3C%2Fspan%3E%3C%2Fdiv%3E%3Cdiv%20style%3D%22display%3A%20flex%3B%20align-items%3A%20center%3B%20height%3A%2028px%3B%20left%3A%20120px%3B%20top%3A%2056px%3B%20width%3A%20120px%3B%20text-align%3A%20left%3B%20font-size%3A%2012px%3B%20padding%3A%204px%204px%203px%3B%20overflow%3A%20hidden%3B%20position%3A%20absolute%3B%20white-space%3A%20nowrap%3B%20text-overflow%3A%20ellipsis%3B%20border-right%3A%202px%20solid%20rgb(233%2C%20233%2C%20233)%3B%20background-color%3A%20transparent%3B%22%3E%3Cspan%20style%3D%22text-overflow%3A%20ellipsis%3B%20overflow%3A%20hidden%3B%20white-space%3A%20nowrap%3B%20max-width%3A%20calc((100%25%20-%200px)%20-%200px)%3B%22%3EABNB%3C%2Fspan%3E%3C%2Fdiv%3E%3Cdiv%20style%3D%22display%3A%20none%3B%20align-items%3A%20center%3B%20height%3A%2028px%3B%20left%3A%200px%3B%20top%3A%2084px%3B%20width%3A%20120px%3B%20text-align%3A%20left%3B%20font-size%3A%2012px%3B%20padding%3A%204px%204px%203px%3B%20overflow%3A%20hidden%3B%20position%3A%20absolute%3B%20white-space%3A%20nowrap%3B%20text-overflow%3A%20ellipsis%3B%20font-weight%3A%20600%3B%22%3E%3Cspan%20style%3D%22text-overflow%3A%20ellipsis%3B%20overflow%3A%20hidden%3B%20white-space%3A%20nowrap%3B%20max-width%3A%20calc((100%25%20-%200px)%20-%200px)%3B%22%3E2023_A%3C%2Fspan%3E%3C%2Fdiv%3E%3Cdiv%20style%3D%22display%3A%20flex%3B%20align-items%3A%20center%3B%20height%3A%2028px%3B%20left%3A%20120px%3B%20top%3A%2084px%3B%20width%3A%20120px%3B%20text-align%3A%20left%3B%20font-size%3A%2012px%3B%20padding%3A%204px%204px%203px%3B%20overflow%3A%20hidden%3B%20position%3A%20absolute%3B%20white-space%3A%20nowrap%3B%20text-overflow%3A%20ellipsis%3B%20border-right%3A%202px%20solid%20rgb(233%2C%20233%2C%20233)%3B%20background-color%3A%20rgb(250%2C%20250%2C%20250)%3B%22%3E%3Cspan%20style%3D%22text-overflow%3A%20ellipsis%3B%20overflow%3A%20hidden%3B%20white-space%3A%20nowrap%3B%20max-width%3A%20calc((100%25%20-%200px)%20-%200px)%3B%22%3EADBE%3C%2Fspan%3E%3C%2Fdiv%3E%3Cdiv%20style%3D%22display%3A%20none%3B%20align-items%3A%20center%3B%20height%3A%2028px%3B%20left%3A%200px%3B%20top%3A%20112px%3B%20width%3A%20120px%3B%20text-align%3A%20left%3B%20font-size%3A%2012px%3B%20padding%3A%204px%204px%203px%3B%20overflow%3A%20hidden%3B%20position%3A%20absolute%3B%20white-space%3A%20nowrap%3B%20text-overflow%3A%20ellipsis%3B%20font-weight%3A%20600%3B%22%3E%3Cspan%20style%3D%22text-overflow%3A%20ellipsis%3B%20overflow%3A%20hidden%3B%20white-space%3A%20nowrap%3B%20max-width%3A%20calc((100%25%20-%200px)%20-%200px)%3B%22%3E2023_A%3C%2Fspan%3E%3C%2Fdiv%3E%3Cdiv%20style%3D%22display%3A%20flex%3B%20align-items%3A%20center%3B%20height%3A%2028px%3B%20left%3A%20120px%3B%20top%3A%20112px%3B%20width%3A%20120px%3B%20text-align%3A%20left%3B%20font-size%3A%2012px%3B%20padding%3A%204px%204px%203px%3B%20overflow%3A%20hidden%3B%20position%3A%20absolute%3B%20white-space%3A%20nowrap%3B%20text-overflow%3A%20ellipsis%3B%20border-right%3A%202px%20solid%20rgb(233%2C%20233%2C%20233)%3B%20background-color%3A%20transparent%3B%22%3E%3Cspan%20style%3D%22text-overflow%3A%20ellipsis%3B%20overflow%3A%20hidden%3B%20white-space%3A%20nowrap%3B%20max-width%3A%20calc((100%25%20-%200px)%20-%200px)%3B%22%3EADI%3C%2Fspan%3E%3C%2Fdiv%3E%3Cdiv%20style%3D%22display%3A%20none%3B%20align-items%3A%20center%3B%20height%3A%2028px%3B%20left%3A%200px%3B%20top%3A%20140px%3B%20width%3A%20120px%3B%20text-align%3A%20left%3B%20font-size%3A%2012px%3B%20padding%3A%204px%204px%203px%3B%20overflow%3A%20hidden%3B%20position%3A%20absolute%3B%20white-space%3A%20nowrap%3B%20text-overflow%3A%20ellipsis%3B%20font-weight%3A%20600%3B%22%3E%3Cspan%20style%3D%22text-overflow%3A%20ellipsis%3B%20overflow%3A%20hidden%3B%20white-space%3A%20nowrap%3B%20max-width%3A%20calc((100%25%20-%200px)%20-%200px)%3B%22%3E2023_A%3C%2Fspan%3E%3C%2Fdiv%3E%3Cdiv%20style%3D%22display%3A%20flex%3B%20align-items%3A%20center%3B%20height%3A%2028px%3B%20left%3A%20120px%3B%20top%3A%20140px%3B%20width%3A%20120px%3B%20text-align%3A%20left%3B%20font-size%3A%2012px%3B%20padding%3A%204px%204px%203px%3B%20overflow%3A%20hidden%3B%20position%3A%20absolute%3B%20white-space%3A%20nowrap%3B%20text-overflow%3A%20ellipsis%3B%20border-right%3A%202px%20solid%20rgb(233%2C%20233%2C%20233)%3B%20background-color%3A%20rgb(250%2C%20250%2C%20250)%3B%22%3E%3Cspan%20style%3D%22text-overflow%3A%20ellipsis%3B%20overflow%3A%20hidden%3B%20white-space%3A%20nowrap%3B%20max-width%3A%20calc((100%25%20-%200px)%20-%200px)%3B%22%3EADP%3C%2Fspan%3E%3C%2Fdiv%3E%3Cdiv%20style%3D%22display%3A%20none%3B%20align-items%3A%20center%3B%20height%3A%2028px%3B%20left%3A%200px%3B%20top%3A%20168px%3B%20width%3A%20120px%3B%20text-align%3A%20left%3B%20font-size%3A%2012px%3B%20padding%3A%204px%204px%203px%3B%20overflow%3A%20hidden%3B%20position%3A%20absolute%3B%20white-space%3A%20nowrap%3B%20text-overflow%3A%20ellipsis%3B%20font-weight%3A%20600%3B%22%3E%3Cspan%20style%3D%22text-overflow%3A%20ellipsis%3B%20overflow%3A%20hidden%3B%20white-space%3A%20nowrap%3B%20max-width%3A%20calc((100%25%20-%200px)%20-%200px)%3B%22%3E2023_A%3C%2Fspan%3E%3C%2Fdiv%3E%3Cdiv%20style%3D%22display%3A%20flex%3B%20align-items%3A%20center%3B%20height%3A%2028px%3B%20left%3A%20120px%3B%20top%3A%20168px%3B%20width%3A%20120px%3B%20text-align%3A%20left%3B%20font-size%3A%2012px%3B%20padding%3A%204px%204px%203px%3B%20overflow%3A%20hidden%3B%20position%3A%20absolute%3B%20white-space%3A%20nowrap%3B%20text-overflow%3A%20ellipsis%3B%20border-right%3A%202px%20solid%20rgb(233%2C%20233%2C%20233)%3B%20background-color%3A%20transparent%3B%22%3E%3Cspan%20style%3D%22text-overflow%3A%20ellipsis%3B%20overflow%3A%20hidden%3B%20white-space%3A%20nowrap%3B%20max-width%3A%20calc((100%25%20-%200px)%20-%200px)%3B%22%3EADSK%3C%2Fspan%3E%3C%2Fdiv%3E%3Cdiv%20style%3D%22display%3A%20none%3B%20align-items%3A%20center%3B%20height%3A%2028px%3B%20left%3A%200px%3B%20top%3A%20196px%3B%20width%3A%20120px%3B%20text-align%3A%20left%3B%20font-size%3A%2012px%3B%20padding%3A%204px%204px%203px%3B%20overflow%3A%20hidden%3B%20position%3A%20absolute%3B%20white-space%3A%20nowrap%3B%20text-overflow%3A%20ellipsis%3B%20font-weight%3A%20600%3B%22%3E%3Cspan%20style%3D%22text-overflow%3A%20ellipsis%3B%20overflow%3A%20hidden%3B%20white-space%3A%20nowrap%3B%20max-width%3A%20calc((100%25%20-%200px)%20-%200px)%3B%22%3E2023_A%3C%2Fspan%3E%3C%2Fdiv%3E%3Cdiv%20style%3D%22display%3A%20flex%3B%20align-items%3A%20center%3B%20height%3A%2028px%3B%20left%3A%20120px%3B%20top%3A%20196px%3B%20width%3A%20120px%3B%20text-align%3A%20left%3B%20font-size%3A%2012px%3B%20padding%3A%204px%204px%203px%3B%20overflow%3A%20hidden%3B%20position%3A%20absolute%3B%20white-space%3A%20nowrap%3B%20text-overflow%3A%20ellipsis%3B%20border-right%3A%202px%20solid%20rgb(233%2C%20233%2C%20233)%3B%20background-color%3A%20rgb(250%2C%20250%2C%20250)%3B%22%3E%3Cspan%20style%3D%22text-overflow%3A%20ellipsis%3B%20overflow%3A%20hidden%3B%20white-space%3A%20nowrap%3B%20max-width%3A%20calc((100%25%20-%200px)%20-%200px)%3B%22%3EAEP%3C%2Fspan%3E%3C%2Fdiv%3E%3Cdiv%20style%3D%22display%3A%20none%3B%20align-items%3A%20center%3B%20height%3A%2028px%3B%20left%3A%200px%3B%20top%3A%20224px%3B%20width%3A%20120px%3B%20text-align%3A%20left%3B%20font-size%3A%2012px%3B%20padding%3A%204px%204px%203px%3B%20overflow%3A%20hidden%3B%20position%3A%20absolute%3B%20white-space%3A%20nowrap%3B%20text-overflow%3A%20ellipsis%3B%20font-weight%3A%20600%3B%22%3E%3Cspan%20style%3D%22text-overflow%3A%20ellipsis%3B%20overflow%3A%20hidden%3B%20white-space%3A%20nowrap%3B%20max-width%3A%20calc((100%25%20-%200px)%20-%200px)%3B%22%3E2023_A%3C%2Fspan%3E%3C%2Fdiv%3E%3Cdiv%20style%3D%22display%3A%20flex%3B%20align-items%3A%20center%3B%20height%3A%2028px%3B%20left%3A%20120px%3B%20top%3A%20224px%3B%20width%3A%20120px%3B%20text-align%3A%20left%3B%20font-size%3A%2012px%3B%20padding%3A%204px%204px%203px%3B%20overflow%3A%20hidden%3B%20position%3A%20absolute%3B%20white-space%3A%20nowrap%3B%20text-overflow%3A%20ellipsis%3B%20border-right%3A%202px%20solid%20rgb(233%2C%20233%2C%20233)%3B%20background-color%3A%20transparent%3B%22%3E%3Cspan%20style%3D%22text-overflow%3A%20ellipsis%3B%20overflow%3A%20hidden%3B%20white-space%3A%20nowrap%3B%20max-width%3A%20calc((100%25%20-%200px)%20-%200px)%3B%22%3EALGN%3C%2Fspan%3E%3C%2Fdiv%3E%3Cdiv%20style%3D%22display%3A%20none%3B%20align-items%3A%20center%3B%20height%3A%2028px%3B%20left%3A%200px%3B%20top%3A%20252px%3B%20width%3A%20120px%3B%20text-align%3A%20left%3B%20font-size%3A%2012px%3B%20padding%3A%204px%204px%203px%3B%20overflow%3A%20hidden%3B%20position%3A%20absolute%3B%20white-space%3A%20nowrap%3B%20text-overflow%3A%20ellipsis%3B%20font-weight%3A%20600%3B%22%3E%3Cspan%20style%3D%22text-overflow%3A%20ellipsis%3B%20overflow%3A%20hidden%3B%20white-space%3A%20nowrap%3B%20max-width%3A%20calc((100%25%20-%200px)%20-%200px)%3B%22%3E2023_A%3C%2Fspan%3E%3C%2Fdiv%3E%3Cdiv%20style%3D%22display%3A%20flex%3B%20align-items%3A%20center%3B%20height%3A%2028px%3B%20left%3A%20120px%3B%20top%3A%20252px%3B%20width%3A%20120px%3B%20text-align%3A%20left%3B%20font-size%3A%2012px%3B%20padding%3A%204px%204px%203px%3B%20overflow%3A%20hidden%3B%20position%3A%20absolute%3B%20white-space%3A%20nowrap%3B%20text-overflow%3A%20ellipsis%3B%20border-right%3A%202px%20solid%20rgb(233%2C%20233%2C%20233)%3B%20background-color%3A%20rgb(250%2C%20250%2C%20250)%3B%22%3E%3Cspan%20style%3D%22text-overflow%3A%20ellipsis%3B%20overflow%3A%20hidden%3B%20white-space%3A%20nowrap%3B%20max-width%3A%20calc((100%25%20-%200px)%20-%200px)%3B%22%3EAMAT%3C%2Fspan%3E%3C%2Fdiv%3E%3Cdiv%20style%3D%22display%3A%20none%3B%20align-items%3A%20center%3B%20height%3A%2028px%3B%20left%3A%200px%3B%20top%3A%20280px%3B%20width%3A%20120px%3B%20text-align%3A%20left%3B%20font-size%3A%2012px%3B%20padding%3A%204px%204px%203px%3B%20overflow%3A%20hidden%3B%20position%3A%20absolute%3B%20white-space%3A%20nowrap%3B%20text-overflow%3A%20ellipsis%3B%20font-weight%3A%20600%3B%22%3E%3Cspan%20style%3D%22text-overflow%3A%20ellipsis%3B%20overflow%3A%20hidden%3B%20white-space%3A%20nowrap%3B%20max-width%3A%20calc((100%25%20-%200px)%20-%200px)%3B%22%3E2023_A%3C%2Fspan%3E%3C%2Fdiv%3E%3Cdiv%20style%3D%22display%3A%20flex%3B%20align-items%3A%20center%3B%20height%3A%2028px%3B%20left%3A%20120px%3B%20top%3A%20280px%3B%20width%3A%20120px%3B%20text-align%3A%20left%3B%20font-size%3A%2012px%3B%20padding%3A%204px%204px%203px%3B%20overflow%3A%20hidden%3B%20position%3A%20absolute%3B%20white-space%3A%20nowrap%3B%20text-overflow%3A%20ellipsis%3B%20border-right%3A%202px%20solid%20rgb(233%2C%20233%2C%20233)%3B%20background-color%3A%20transparent%3B%22%3E%3Cspan%20style%3D%22text-overflow%3A%20ellipsis%3B%20overflow%3A%20hidden%3B%20white-space%3A%20nowrap%3B%20max-width%3A%20calc((100%25%20-%200px)%20-%200px)%3B%22%3EAMD%3C%2Fspan%3E%3C%2Fdiv%3E%3C%2Fdiv%3E%3C%2Fdiv%3E%3C%2Fdiv%3E%3Cdiv%20class%3D%22css-1rk1wxu-Table%22%3E%3Cdiv%20class%3D%22aui-invisible-scrollbars%20css-kidv1t%22%3E%3Cdiv%20class%3D%22css-v5p29l%22%3E%3Cdiv%20class%3D%22css-1hol363-ResizableCell%22%3E%3Cdiv%20style%3D%22display%3A%20flex%3B%20align-items%3A%20center%3B%20height%3A%2028px%3B%20left%3A%200px%3B%20top%3A%200px%3B%20width%3A%20115px%3B%20text-align%3A%20left%3B%20font-size%3A%2012px%3B%20padding%3A%204px%204px%203px%3B%20overflow%3A%20hidden%3B%20position%3A%20absolute%3B%20white-space%3A%20nowrap%3B%20text-overflow%3A%20ellipsis%3B%20font-weight%3A%20600%3B%22%3E%3Cspan%20style%3D%22text-overflow%3A%20ellipsis%3B%20overflow%3A%20hidden%3B%20white-space%3A%20nowrap%3B%20max-width%3A%20calc((100%25%20-%200px)%20-%200px)%3B%22%3Ebase%3C%2Fspan%3E%3C%2Fdiv%3E%3Cdiv%20class%3D%22css-xxcrt1-ResizableCell%22%3E%3C%2Fdiv%3E%3C%2Fdiv%3E%3Cdiv%20class%3D%22css-z51yao-ResizableCell%22%3E%3Cdiv%20style%3D%22display%3A%20flex%3B%20align-items%3A%20center%3B%20height%3A%2028px%3B%20left%3A%200px%3B%20top%3A%200px%3B%20width%3A%20115px%3B%20text-align%3A%20left%3B%20font-size%3A%2012px%3B%20padding%3A%204px%204px%203px%3B%20overflow%3A%20hidden%3B%20position%3A%20absolute%3B%20white-space%3A%20nowrap%3B%20text-overflow%3A%20ellipsis%3B%20font-weight%3A%20600%3B%22%3E%3Cspan%20style%3D%22text-overflow%3A%20ellipsis%3B%20overflow%3A%20hidden%3B%20white-space%3A%20nowrap%3B%20max-width%3A%20calc((100%25%20-%200px)%20-%200px)%3B%22%3Eweight.SUM%3C%2Fspan%3E%3C%2Fdiv%3E%3Cdiv%20class%3D%22css-xxcrt1-ResizableCell%22%3E%3C%2Fdiv%3E%3C%2Fdiv%3E%3C%2Fdiv%3E%3C%2Fdiv%3E%3Cdiv%20class%3D%22%20css-rt9op0%22%3E%3Cdiv%20class%3D%22css-9kfk71%22%3E%3Cdiv%20class%3D%22aui-table-cell%22%20style%3D%22height%3A%2028px%3B%20left%3A%200px%3B%20top%3A%200px%3B%20width%3A%20120px%3B%20text-align%3A%20right%3B%20font-size%3A%2012px%3B%20padding%3A%204px%204px%203px%3B%20overflow%3A%20hidden%3B%20position%3A%20absolute%3B%20white-space%3A%20nowrap%3B%20text-overflow%3A%20ellipsis%3B%20border-right%3A%201px%20solid%20rgb(233%2C%20233%2C%20233)%3B%20background-color%3A%20transparent%3B%22%3E2.00%3C%2Fdiv%3E%3Cdiv%20class%3D%22aui-table-cell%22%20style%3D%22height%3A%2028px%3B%20left%3A%200px%3B%20top%3A%2028px%3B%20width%3A%20120px%3B%20text-align%3A%20right%3B%20font-size%3A%2012px%3B%20padding%3A%204px%204px%203px%3B%20overflow%3A%20hidden%3B%20position%3A%20absolute%3B%20white-space%3A%20nowrap%3B%20text-overflow%3A%20ellipsis%3B%20border-right%3A%201px%20solid%20rgb(233%2C%20233%2C%20233)%3B%20background-color%3A%20rgb(250%2C%20250%2C%20250)%3B%22%3E.02%3C%2Fdiv%3E%3Cdiv%20class%3D%22aui-table-cell%22%20style%3D%22height%3A%2028px%3B%20left%3A%200px%3B%20top%3A%2056px%3B%20width%3A%20120px%3B%20text-align%3A%20right%3B%20font-size%3A%2012px%3B%20padding%3A%204px%204px%203px%3B%20overflow%3A%20hidden%3B%20position%3A%20absolute%3B%20white-space%3A%20nowrap%3B%20text-overflow%3A%20ellipsis%3B%20border-right%3A%201px%20solid%20rgb(233%2C%20233%2C%20233)%3B%20background-color%3A%20transparent%3B%22%3E.00%3C%2Fdiv%3E%3Cdiv%20class%3D%22aui-table-cell%22%20style%3D%22height%3A%2028px%3B%20left%3A%200px%3B%20top%3A%2084px%3B%20width%3A%20120px%3B%20text-align%3A%20right%3B%20font-size%3A%2012px%3B%20padding%3A%204px%204px%203px%3B%20overflow%3A%20hidden%3B%20position%3A%20absolute%3B%20white-space%3A%20nowrap%3B%20text-overflow%3A%20ellipsis%3B%20border-right%3A%201px%20solid%20rgb(233%2C%20233%2C%20233)%3B%20background-color%3A%20rgb(250%2C%20250%2C%20250)%3B%22%3E.00%3C%2Fdiv%3E%3Cdiv%20class%3D%22aui-table-cell%22%20style%3D%22height%3A%2028px%3B%20left%3A%200px%3B%20top%3A%20112px%3B%20width%3A%20120px%3B%20text-align%3A%20right%3B%20font-size%3A%2012px%3B%20padding%3A%204px%204px%203px%3B%20overflow%3A%20hidden%3B%20position%3A%20absolute%3B%20white-space%3A%20nowrap%3B%20text-overflow%3A%20ellipsis%3B%20border-right%3A%201px%20solid%20rgb(233%2C%20233%2C%20233)%3B%20background-color%3A%20transparent%3B%22%3E.00%3C%2Fdiv%3E%3Cdiv%20class%3D%22aui-table-cell%22%20style%3D%22height%3A%2028px%3B%20left%3A%200px%3B%20top%3A%20140px%3B%20width%3A%20120px%3B%20text-align%3A%20right%3B%20font-size%3A%2012px%3B%20padding%3A%204px%204px%203px%3B%20overflow%3A%20hidden%3B%20position%3A%20absolute%3B%20white-space%3A%20nowrap%3B%20text-overflow%3A%20ellipsis%3B%20border-right%3A%201px%20solid%20rgb(233%2C%20233%2C%20233)%3B%20background-color%3A%20rgb(250%2C%20250%2C%20250)%3B%22%3E.00%3C%2Fdiv%3E%3Cdiv%20class%3D%22aui-table-cell%22%20style%3D%22height%3A%2028px%3B%20left%3A%200px%3B%20top%3A%20168px%3B%20width%3A%20120px%3B%20text-align%3A%20right%3B%20font-size%3A%2012px%3B%20padding%3A%204px%204px%203px%3B%20overflow%3A%20hidden%3B%20position%3A%20absolute%3B%20white-space%3A%20nowrap%3B%20text-overflow%3A%20ellipsis%3B%20border-right%3A%201px%20solid%20rgb(233%2C%20233%2C%20233)%3B%20background-color%3A%20transparent%3B%22%3E.02%3C%2Fdiv%3E%3Cdiv%20class%3D%22aui-table-cell%22%20style%3D%22height%3A%2028px%3B%20left%3A%200px%3B%20top%3A%20196px%3B%20width%3A%20120px%3B%20text-align%3A%20right%3B%20font-size%3A%2012px%3B%20padding%3A%204px%204px%203px%3B%20overflow%3A%20hidden%3B%20position%3A%20absolute%3B%20white-space%3A%20nowrap%3B%20text-overflow%3A%20ellipsis%3B%20border-right%3A%201px%20solid%20rgb(233%2C%20233%2C%20233)%3B%20background-color%3A%20rgb(250%2C%20250%2C%20250)%3B%22%3E.02%3C%2Fdiv%3E%3Cdiv%20class%3D%22aui-table-cell%22%20style%3D%22height%3A%2028px%3B%20left%3A%200px%3B%20top%3A%20224px%3B%20width%3A%20120px%3B%20text-align%3A%20right%3B%20font-size%3A%2012px%3B%20padding%3A%204px%204px%203px%3B%20overflow%3A%20hidden%3B%20position%3A%20absolute%3B%20white-space%3A%20nowrap%3B%20text-overflow%3A%20ellipsis%3B%20border-right%3A%201px%20solid%20rgb(233%2C%20233%2C%20233)%3B%20background-color%3A%20transparent%3B%22%3E.02%3C%2Fdiv%3E%3Cdiv%20class%3D%22aui-table-cell%22%20style%3D%22height%3A%2028px%3B%20left%3A%200px%3B%20top%3A%20252px%3B%20width%3A%20120px%3B%20text-align%3A%20right%3B%20font-size%3A%2012px%3B%20padding%3A%204px%204px%203px%3B%20overflow%3A%20hidden%3B%20position%3A%20absolute%3B%20white-space%3A%20nowrap%3B%20text-overflow%3A%20ellipsis%3B%20border-right%3A%201px%20solid%20rgb(233%2C%20233%2C%20233)%3B%20background-color%3A%20rgb(250%2C%20250%2C%20250)%3B%22%3E.00%3C%2Fdiv%3E%3Cdiv%20class%3D%22aui-table-cell%22%20style%3D%22height%3A%2028px%3B%20left%3A%200px%3B%20top%3A%20280px%3B%20width%3A%20120px%3B%20text-align%3A%20right%3B%20font-size%3A%2012px%3B%20padding%3A%204px%204px%203px%3B%20overflow%3A%20hidden%3B%20position%3A%20absolute%3B%20white-space%3A%20nowrap%3B%20text-overflow%3A%20ellipsis%3B%20border-right%3A%201px%20solid%20rgb(233%2C%20233%2C%20233)%3B%20background-color%3A%20transparent%3B%22%3E.02%3C%2Fdiv%3E%3C%2Fdiv%3E%3C%2Fdiv%3E%3C%2Fdiv%3E%3C%2Fdiv%3E%3C%2Fdiv%3E%3Cdiv%20class%3D%22css-1uww2vi-Table%22%3E%3C%2Fdiv%3E%3C%2Fdiv%3E%3C%2Fdiv%3E%3C%2Fdiv%3E%3C%2Fdiv%3E%3C%2Fdiv%3E%3C%2FforeignObject%3E%3C%2Fsvg%3E\">"
      ],
      "text/plain": [
       "Open the notebook in JupyterLab with the Atoti extension enabled to build this widget."
      ]
     },
     "metadata": {},
     "output_type": "display_data"
    }
   ],
   "source": [
    "session.visualize(\"Our Starting Portfolios\")"
   ]
  },
  {
   "cell_type": "markdown",
   "id": "639418ff-048f-4878-94eb-b5de506f2eac",
   "metadata": {},
   "source": [
    "## Hierarchies and Measures\n",
    "When we created our cube, we didn't specify the [`mode`](https://docs.atoti.io/latest/lib/atoti/atoti.session.html#atoti.Session.create_cube), so it used the default, which is *auto* mode. That means it created hierarchies for every non-numerical column, and a mean and sum measure for the numerical columns of our base table. We need more than this, though, and so we'll create additional measures and hierarchies here."
   ]
  },
  {
   "cell_type": "code",
   "execution_count": 20,
   "id": "3d691050-8e2b-4a6b-8e24-2a1f1518d11c",
   "metadata": {
    "tags": []
   },
   "outputs": [],
   "source": [
    "m[\"closing_price\"] = tt.agg.single_value(daily_bars_array[\"closing_price\"])\n",
    "m[\"daily_returns_vector\"] = tt.agg.single_value(\n",
    "    daily_bars_array[\"daily_returns_vector\"]\n",
    ")\n",
    "m[\"daily_ROR_vector\"] = tt.agg.single_value(daily_bars_array[\"daily_ROR_vector\"])\n",
    "m[\"monthly_ROR_vector\"] = tt.agg.single_value(daily_bars_array[\"monthly_ROR_vector\"])"
   ]
  },
  {
   "cell_type": "code",
   "execution_count": 21,
   "id": "ea5a80df-04bc-4db6-a7cd-1b57d4c08ce0",
   "metadata": {
    "atoti": {
     "widget": {
      "columnWidths": {
       "[Measures].[closing_price]": 235.875
      },
      "mapping": {
       "columns": [
        "ALL_MEASURES"
       ],
       "measures": [
        "[Measures].[weight.SUM]",
        "[Measures].[closing_price]"
       ],
       "rows": [
        "[portfolios].[symbol].[symbol]"
       ]
      },
      "query": {
       "mdx": "SELECT NON EMPTY Hierarchize(Descendants({[portfolios].[symbol].[AllMember]}, 1, SELF_AND_BEFORE)) ON ROWS, NON EMPTY {[Measures].[weight.SUM], [Measures].[closing_price]} ON COLUMNS FROM [esg_optimization] CELL PROPERTIES VALUE, FORMATTED_VALUE, BACK_COLOR, FORE_COLOR, FONT_FLAGS",
       "updateMode": "once"
      },
      "serverKey": "default",
      "widgetKey": "pivot-table"
     }
    },
    "tags": []
   },
   "outputs": [
    {
     "data": {
      "application/vnd.atoti.widget.v0+json": {
       "name": null,
       "sessionId": "1694523495_ON6WNL",
       "sessionLocation": {
        "https": false,
        "port": 9092
       },
       "widgetCreationCode": "session.visualize()"
      },
      "text/html": [
       "<img src=\"data:image/svg+xml;charset=utf8,%3C%3Fxml%20version%3D%221.0%22%20standalone%3D%22no%22%3F%3E%3Csvg%20xmlns%3D%22http%3A%2F%2Fwww.w3.org%2F2000%2Fsvg%22%20height%3D%22352%22%20width%3D%22952%22%3E%3CforeignObject%20width%3D%22100%25%22%20height%3D%22100%25%22%20x%3D%220%22%20y%3D%220%22%3E%3Cstyle%20xmlns%3D%22http%3A%2F%2Fwww.w3.org%2F1999%2Fxhtml%22%20type%3D%22text%2Fcss%22%3E*%2C%20%3A%3Abefore%2C%20%3A%3Aafter%20%7Bbox-sizing%3A%20unset%7D%0A.ant-root%20%5Bclass%5E%3D%22ant-%22%5D%2C%20.ant-root%20%5Bclass*%3D%22ant-%22%5D%2C%20.ant-root%20%5Bclass%5E%3D%22ant-%22%5D%20*%2C%20.ant-root%20%5Bclass*%3D%22ant-%22%5D%20*%2C%20.ant-root%20%5Bclass%5E%3D%22ant-%22%5D%20%3A%3Abefore%2C%20.ant-root%20%5Bclass*%3D%22ant-%22%5D%20%3A%3Abefore%2C%20.ant-root%20%5Bclass%5E%3D%22ant-%22%5D%20%3A%3Aafter%2C%20.ant-root%20%5Bclass*%3D%22ant-%22%5D%20%3A%3Aafter%20%7Bbox-sizing%3A%20border-box%7D%0A.ant-root%2C%20.ant-root%20%7Bwidth%3A%20100%25%3B%20height%3A%20100%25%7D%0A.ant-root%20*%2C%20.ant-root%20%3A%3Abefore%2C%20.ant-root%20%3A%3Aafter%20%7Bbox-sizing%3A%20border-box%7D%0A.ant-root%20%7Btext-size-adjust%3A%20100%25%3B%20-webkit-tap-highlight-color%3A%20rgba(0%2C%200%2C%200%2C%200)%3B%20font-family%3A%20-apple-system%2C%20BlinkMacSystemFont%2C%20%22Segoe%20UI%22%2C%20Roboto%2C%20%22Helvetica%20Neue%22%2C%20Arial%2C%20%22Noto%20Sans%22%2C%20sans-serif%2C%20%22Apple%20Color%20Emoji%22%2C%20%22Segoe%20UI%20Emoji%22%2C%20%22Segoe%20UI%20Symbol%22%2C%20%22Noto%20Color%20Emoji%22%3B%20line-height%3A%201.66667%3B%20color%3A%20rgb(89%2C%2089%2C%2089)%3B%20font-variant-ligatures%3A%20normal%3B%20font-variant-numeric%3A%20tabular-nums%3B%20font-variant-east-asian%3A%20normal%3B%20font-variant-caps%3A%20normal%3B%20font-variant-alternates%3A%20normal%3B%20background-color%3A%20rgb(255%2C%20255%2C%20255)%3B%20margin-top%3A%200px%3B%20margin-right%3A%200px%3B%20margin-bottom%3A%200px%3B%20margin-left%3A%200px%3B%20font-size%3A%2012px%3B%20--antd-wave-shadow-color%3A%20%231890ff%3B%20--scroll-bar%3A%200%7D%0A.ant-root%20.aui-invisible-scrollbars%20%7B%7D%0A.css-12ebr42-AWidget%20%7Bheight%3A%20100%25%7D%0A.css-2p9ued-WidgetLoadingOverlay%20%7Bheight%3A%20100%25%3B%20position%3A%20relative%7D%0A.css-1b1raxz-DefaultWidgetLoadingOverlay%20%7Bdisplay%3A%20flex%3B%20height%3A%20100%25%3B%20-webkit-box-pack%3A%20center%3B%20justify-content%3A%20center%3B%20position%3A%20absolute%3B%20width%3A%20100%25%3B%20-webkit-box-align%3A%20center%3B%20align-items%3A%20center%3B%20pointer-events%3A%20none%3B%20z-index%3A%202%7D%0A.css-34a2ml-DefaultWidgetLoadingOverlay%20%7Bbackground-image%3A%20initial%3B%20background-position-x%3A%20initial%3B%20background-position-y%3A%20initial%3B%20background-size%3A%20initial%3B%20background-repeat-x%3A%20initial%3B%20background-repeat-y%3A%20initial%3B%20background-attachment%3A%20initial%3B%20background-origin%3A%20initial%3B%20background-clip%3A%20initial%3B%20background-color%3A%20transparent%3B%20width%3A%20calc(100%25%20-%204px)%3B%20height%3A%20calc(100%25%20-%204px)%7D%0A.css-1hwl8p1-Table%20%7Bpadding-bottom%3A%202px%3B%20padding-right%3A%202px%3B%20height%3A%20100%25%7D%0A.css-14ejcn0-Table%20%7Bheight%3A%20calc(100%25%20-%2030px)%3B%20outline-color%3A%20initial%3B%20outline-style%3A%20none%3B%20outline-width%3A%20initial%3B%20position%3A%20relative%7D%0A.css-1rxpjm0-ColumnResizeHint%20%7Bdisplay%3A%20none%3B%20position%3A%20absolute%3B%20z-index%3A%201%7D%0A.css-1uww2vi-Table%20%7Bheight%3A%2030px%3B%20text-align%3A%20right%3B%20padding-right%3A%2025px%7D%0A.css-bi0kgd-Table%20%7Bdisplay%3A%20flex%3B%20height%3A%20320px%7D%0A.css-1hol363-ResizableCell%20%7Bdisplay%3A%20flex%3B%20flex-direction%3A%20column%3B%20position%3A%20absolute%3B%20top%3A%200px%3B%20left%3A%200px%3B%20height%3A%2028px%3B%20width%3A%20120px%7D%0A.css-xxcrt1-ResizableCell%20%7Bbackground-image%3A%20initial%3B%20background-position-x%3A%20initial%3B%20background-position-y%3A%20initial%3B%20background-size%3A%20initial%3B%20background-repeat-x%3A%20initial%3B%20background-repeat-y%3A%20initial%3B%20background-attachment%3A%20initial%3B%20background-origin%3A%20initial%3B%20background-clip%3A%20initial%3B%20background-color%3A%20transparent%3B%20cursor%3A%20col-resize%3B%20height%3A%20100%25%3B%20position%3A%20absolute%3B%20right%3A%200px%3B%20width%3A%205px%3B%20z-index%3A%201%7D%0A.css-walxhl-ColumnResizeHint%20%7Bheight%3A%2028px%3B%20background-color%3A%20rgb(24%2C%20144%2C%20255)%3B%20width%3A%205px%7D%0A.css-cavlcc-ColumnResizeHint%20%7Bdisplay%3A%20none%3B%20float%3A%20right%3B%20height%3A%20292px%3B%20background-color%3A%20rgb(24%2C%20144%2C%20255)%3B%20opacity%3A%200.4%3B%20width%3A%202px%7D%0A.css-9wvnih-Table%20%7Bborder-collapse%3A%20collapse%3B%20height%3A%2028px%3B%20width%3A%20120px%7D%0A.css-gy6esx%20%7Bheight%3A%2028px%3B%20width%3A%20120px%7D%0A.css-n1rdc6%20%7Bcursor%3A%20cell%3B%20height%3A%2028px%3B%20overflow-x%3A%20hidden%3B%20overflow-y%3A%20hidden%3B%20position%3A%20relative%3B%20width%3A%20120px%3B%20border-right-width%3A%202px%3B%20border-right-style%3A%20solid%3B%20border-right-color%3A%20rgb(233%2C%20233%2C%20233)%7D%0A.css-q1l26k%20%7Bheight%3A%20292px%3B%20width%3A%20120px%3B%20overflow-x%3A%20hidden%3B%20overflow-y%3A%20auto%7D%0A.css-1lt7a4s%20%7Bcursor%3A%20cell%3B%20height%3A%202828px%3B%20overflow-x%3A%20hidden%3B%20overflow-y%3A%20hidden%3B%20position%3A%20relative%3B%20width%3A%20120px%3B%20border-top-width%3A%202px%3B%20border-top-style%3A%20solid%3B%20border-top-color%3A%20rgb(233%2C%20233%2C%20233)%3B%20border-right-width%3A%202px%3B%20border-right-style%3A%20solid%3B%20border-right-color%3A%20rgb(233%2C%20233%2C%20233)%7D%0A.css-1qarzgc-Table%20%7Bwidth%3A%20830px%3B%20border-collapse%3A%20collapse%7D%0A.css-hriukk%20%7Bheight%3A%2028px%3B%20width%3A%20812px%3B%20overflow-x%3A%20auto%3B%20overflow-y%3A%20hidden%7D%0A.css-739803%20%7Bcursor%3A%20cell%3B%20height%3A%2028px%3B%20overflow-x%3A%20hidden%3B%20overflow-y%3A%20hidden%3B%20position%3A%20relative%3B%20width%3A%20355.875px%7D%0A.css-1jz26xk-ResizableCell%20%7Bdisplay%3A%20flex%3B%20flex-direction%3A%20column%3B%20position%3A%20absolute%3B%20top%3A%200px%3B%20left%3A%20120px%3B%20height%3A%2028px%3B%20width%3A%20235.875px%7D%0A.css-3aojll%20%7Bheight%3A%20292px%3B%20width%3A%20830px%3B%20overflow-x%3A%20auto%3B%20overflow-y%3A%20auto%7D%0A.css-puzfyb%20%7Bcursor%3A%20cell%3B%20height%3A%202828px%3B%20overflow-x%3A%20hidden%3B%20overflow-y%3A%20hidden%3B%20position%3A%20relative%3B%20width%3A%20355.875px%3B%20border-top-width%3A%202px%3B%20border-top-style%3A%20solid%3B%20border-top-color%3A%20rgb(233%2C%20233%2C%20233)%7D%0A*%20%7B-ms-overflow-style%3A%20none%3B%20scrollbar-width%3A%20none%7D%0A*%3A%3A-webkit-scrollbar%20%7Bdisplay%3A%20none%7D%0A.atoti-hidden-in-snapshot%20%7Bdisplay%3A%20none%7D%3C%2Fstyle%3E%3Cdiv%20xmlns%3D%22http%3A%2F%2Fwww.w3.org%2F1999%2Fxhtml%22%20style%3D%22height%3A%20352px%3B%20width%3A%20952px%3B%22%3E%3Cdiv%20class%3D%22ant-root%20css-0%22%3E%3Cdiv%20class%3D%22ant-dropdown-trigger%20css-12ebr42-AWidget%22%3E%3Cdiv%20class%3D%22css-2p9ued-WidgetLoadingOverlay%22%3E%3Cdiv%20class%3D%22css-1b1raxz-DefaultWidgetLoadingOverlay%22%3E%3Cdiv%20class%3D%22css-34a2ml-DefaultWidgetLoadingOverlay%22%3E%3C%2Fdiv%3E%3C%2Fdiv%3E%3Cdiv%20class%3D%22css-1hwl8p1-Table%22%3E%3Cdiv%20tabindex%3D%220%22%20class%3D%22css-14ejcn0-Table%22%3E%3Cdiv%20class%3D%22css-1rxpjm0-ColumnResizeHint%22%3E%3Cdiv%20class%3D%22css-walxhl-ColumnResizeHint%22%3E%3C%2Fdiv%3E%3Cdiv%20class%3D%22css-cavlcc-ColumnResizeHint%22%3E%3C%2Fdiv%3E%3C%2Fdiv%3E%3Cdiv%20class%3D%22css-bi0kgd-Table%22%3E%3Cdiv%20class%3D%22css-9wvnih-Table%22%3E%3Cdiv%20class%3D%22%20css-gy6esx%22%3E%3Cdiv%20class%3D%22css-n1rdc6%22%3E%3Cdiv%20class%3D%22css-1hol363-ResizableCell%22%3E%3Cdiv%20class%3D%22aui-table-cell%22%20style%3D%22height%3A%2028px%3B%20left%3A%200px%3B%20top%3A%200px%3B%20width%3A%20115px%3B%20text-align%3A%20left%3B%20font-size%3A%2012px%3B%20padding%3A%204px%204px%203px%3B%20overflow%3A%20hidden%3B%20position%3A%20absolute%3B%20white-space%3A%20nowrap%3B%20text-overflow%3A%20ellipsis%3B%20font-weight%3A%20600%3B%20display%3A%20flex%3B%20align-items%3A%20center%3B%22%3E%3Cspan%3Esymbol%3C%2Fspan%3E%3C%2Fdiv%3E%3Cdiv%20class%3D%22css-xxcrt1-ResizableCell%22%3E%3C%2Fdiv%3E%3C%2Fdiv%3E%3C%2Fdiv%3E%3C%2Fdiv%3E%3Cdiv%20class%3D%22aui-invisible-scrollbars%20css-q1l26k%22%3E%3Cdiv%20class%3D%22css-1lt7a4s%22%3E%3Cdiv%20style%3D%22display%3A%20flex%3B%20align-items%3A%20center%3B%20height%3A%2028px%3B%20left%3A%200px%3B%20top%3A%200px%3B%20width%3A%20120px%3B%20text-align%3A%20left%3B%20font-size%3A%2012px%3B%20padding%3A%204px%204px%203px%3B%20overflow%3A%20hidden%3B%20position%3A%20absolute%3B%20white-space%3A%20nowrap%3B%20text-overflow%3A%20ellipsis%3B%20border-right%3A%202px%20solid%20rgb(233%2C%20233%2C%20233)%3B%20background-color%3A%20transparent%3B%22%3E%3Cspan%20style%3D%22text-overflow%3A%20ellipsis%3B%20overflow%3A%20hidden%3B%20white-space%3A%20nowrap%3B%20max-width%3A%20calc((100%25%20-%200px)%20-%200px)%3B%22%3ETotal%3C%2Fspan%3E%3C%2Fdiv%3E%3Cdiv%20style%3D%22display%3A%20flex%3B%20align-items%3A%20center%3B%20height%3A%2028px%3B%20left%3A%200px%3B%20top%3A%2028px%3B%20width%3A%20120px%3B%20text-align%3A%20left%3B%20font-size%3A%2012px%3B%20padding%3A%204px%204px%203px%3B%20overflow%3A%20hidden%3B%20position%3A%20absolute%3B%20white-space%3A%20nowrap%3B%20text-overflow%3A%20ellipsis%3B%20border-right%3A%202px%20solid%20rgb(233%2C%20233%2C%20233)%3B%20background-color%3A%20rgb(250%2C%20250%2C%20250)%3B%22%3E%3Cspan%20style%3D%22text-overflow%3A%20ellipsis%3B%20overflow%3A%20hidden%3B%20white-space%3A%20nowrap%3B%20max-width%3A%20calc((100%25%20-%200px)%20-%200px)%3B%22%3EAAPL%3C%2Fspan%3E%3C%2Fdiv%3E%3Cdiv%20style%3D%22display%3A%20flex%3B%20align-items%3A%20center%3B%20height%3A%2028px%3B%20left%3A%200px%3B%20top%3A%2056px%3B%20width%3A%20120px%3B%20text-align%3A%20left%3B%20font-size%3A%2012px%3B%20padding%3A%204px%204px%203px%3B%20overflow%3A%20hidden%3B%20position%3A%20absolute%3B%20white-space%3A%20nowrap%3B%20text-overflow%3A%20ellipsis%3B%20border-right%3A%202px%20solid%20rgb(233%2C%20233%2C%20233)%3B%20background-color%3A%20transparent%3B%22%3E%3Cspan%20style%3D%22text-overflow%3A%20ellipsis%3B%20overflow%3A%20hidden%3B%20white-space%3A%20nowrap%3B%20max-width%3A%20calc((100%25%20-%200px)%20-%200px)%3B%22%3EABNB%3C%2Fspan%3E%3C%2Fdiv%3E%3Cdiv%20style%3D%22display%3A%20flex%3B%20align-items%3A%20center%3B%20height%3A%2028px%3B%20left%3A%200px%3B%20top%3A%2084px%3B%20width%3A%20120px%3B%20text-align%3A%20left%3B%20font-size%3A%2012px%3B%20padding%3A%204px%204px%203px%3B%20overflow%3A%20hidden%3B%20position%3A%20absolute%3B%20white-space%3A%20nowrap%3B%20text-overflow%3A%20ellipsis%3B%20border-right%3A%202px%20solid%20rgb(233%2C%20233%2C%20233)%3B%20background-color%3A%20rgb(250%2C%20250%2C%20250)%3B%22%3E%3Cspan%20style%3D%22text-overflow%3A%20ellipsis%3B%20overflow%3A%20hidden%3B%20white-space%3A%20nowrap%3B%20max-width%3A%20calc((100%25%20-%200px)%20-%200px)%3B%22%3EADBE%3C%2Fspan%3E%3C%2Fdiv%3E%3Cdiv%20style%3D%22display%3A%20flex%3B%20align-items%3A%20center%3B%20height%3A%2028px%3B%20left%3A%200px%3B%20top%3A%20112px%3B%20width%3A%20120px%3B%20text-align%3A%20left%3B%20font-size%3A%2012px%3B%20padding%3A%204px%204px%203px%3B%20overflow%3A%20hidden%3B%20position%3A%20absolute%3B%20white-space%3A%20nowrap%3B%20text-overflow%3A%20ellipsis%3B%20border-right%3A%202px%20solid%20rgb(233%2C%20233%2C%20233)%3B%20background-color%3A%20transparent%3B%22%3E%3Cspan%20style%3D%22text-overflow%3A%20ellipsis%3B%20overflow%3A%20hidden%3B%20white-space%3A%20nowrap%3B%20max-width%3A%20calc((100%25%20-%200px)%20-%200px)%3B%22%3EADI%3C%2Fspan%3E%3C%2Fdiv%3E%3Cdiv%20style%3D%22display%3A%20flex%3B%20align-items%3A%20center%3B%20height%3A%2028px%3B%20left%3A%200px%3B%20top%3A%20140px%3B%20width%3A%20120px%3B%20text-align%3A%20left%3B%20font-size%3A%2012px%3B%20padding%3A%204px%204px%203px%3B%20overflow%3A%20hidden%3B%20position%3A%20absolute%3B%20white-space%3A%20nowrap%3B%20text-overflow%3A%20ellipsis%3B%20border-right%3A%202px%20solid%20rgb(233%2C%20233%2C%20233)%3B%20background-color%3A%20rgb(250%2C%20250%2C%20250)%3B%22%3E%3Cspan%20style%3D%22text-overflow%3A%20ellipsis%3B%20overflow%3A%20hidden%3B%20white-space%3A%20nowrap%3B%20max-width%3A%20calc((100%25%20-%200px)%20-%200px)%3B%22%3EADP%3C%2Fspan%3E%3C%2Fdiv%3E%3Cdiv%20style%3D%22display%3A%20flex%3B%20align-items%3A%20center%3B%20height%3A%2028px%3B%20left%3A%200px%3B%20top%3A%20168px%3B%20width%3A%20120px%3B%20text-align%3A%20left%3B%20font-size%3A%2012px%3B%20padding%3A%204px%204px%203px%3B%20overflow%3A%20hidden%3B%20position%3A%20absolute%3B%20white-space%3A%20nowrap%3B%20text-overflow%3A%20ellipsis%3B%20border-right%3A%202px%20solid%20rgb(233%2C%20233%2C%20233)%3B%20background-color%3A%20transparent%3B%22%3E%3Cspan%20style%3D%22text-overflow%3A%20ellipsis%3B%20overflow%3A%20hidden%3B%20white-space%3A%20nowrap%3B%20max-width%3A%20calc((100%25%20-%200px)%20-%200px)%3B%22%3EADSK%3C%2Fspan%3E%3C%2Fdiv%3E%3Cdiv%20style%3D%22display%3A%20flex%3B%20align-items%3A%20center%3B%20height%3A%2028px%3B%20left%3A%200px%3B%20top%3A%20196px%3B%20width%3A%20120px%3B%20text-align%3A%20left%3B%20font-size%3A%2012px%3B%20padding%3A%204px%204px%203px%3B%20overflow%3A%20hidden%3B%20position%3A%20absolute%3B%20white-space%3A%20nowrap%3B%20text-overflow%3A%20ellipsis%3B%20border-right%3A%202px%20solid%20rgb(233%2C%20233%2C%20233)%3B%20background-color%3A%20rgb(250%2C%20250%2C%20250)%3B%22%3E%3Cspan%20style%3D%22text-overflow%3A%20ellipsis%3B%20overflow%3A%20hidden%3B%20white-space%3A%20nowrap%3B%20max-width%3A%20calc((100%25%20-%200px)%20-%200px)%3B%22%3EAEP%3C%2Fspan%3E%3C%2Fdiv%3E%3Cdiv%20style%3D%22display%3A%20flex%3B%20align-items%3A%20center%3B%20height%3A%2028px%3B%20left%3A%200px%3B%20top%3A%20224px%3B%20width%3A%20120px%3B%20text-align%3A%20left%3B%20font-size%3A%2012px%3B%20padding%3A%204px%204px%203px%3B%20overflow%3A%20hidden%3B%20position%3A%20absolute%3B%20white-space%3A%20nowrap%3B%20text-overflow%3A%20ellipsis%3B%20border-right%3A%202px%20solid%20rgb(233%2C%20233%2C%20233)%3B%20background-color%3A%20transparent%3B%22%3E%3Cspan%20style%3D%22text-overflow%3A%20ellipsis%3B%20overflow%3A%20hidden%3B%20white-space%3A%20nowrap%3B%20max-width%3A%20calc((100%25%20-%200px)%20-%200px)%3B%22%3EALGN%3C%2Fspan%3E%3C%2Fdiv%3E%3Cdiv%20style%3D%22display%3A%20flex%3B%20align-items%3A%20center%3B%20height%3A%2028px%3B%20left%3A%200px%3B%20top%3A%20252px%3B%20width%3A%20120px%3B%20text-align%3A%20left%3B%20font-size%3A%2012px%3B%20padding%3A%204px%204px%203px%3B%20overflow%3A%20hidden%3B%20position%3A%20absolute%3B%20white-space%3A%20nowrap%3B%20text-overflow%3A%20ellipsis%3B%20border-right%3A%202px%20solid%20rgb(233%2C%20233%2C%20233)%3B%20background-color%3A%20rgb(250%2C%20250%2C%20250)%3B%22%3E%3Cspan%20style%3D%22text-overflow%3A%20ellipsis%3B%20overflow%3A%20hidden%3B%20white-space%3A%20nowrap%3B%20max-width%3A%20calc((100%25%20-%200px)%20-%200px)%3B%22%3EAMAT%3C%2Fspan%3E%3C%2Fdiv%3E%3Cdiv%20style%3D%22display%3A%20flex%3B%20align-items%3A%20center%3B%20height%3A%2028px%3B%20left%3A%200px%3B%20top%3A%20280px%3B%20width%3A%20120px%3B%20text-align%3A%20left%3B%20font-size%3A%2012px%3B%20padding%3A%204px%204px%203px%3B%20overflow%3A%20hidden%3B%20position%3A%20absolute%3B%20white-space%3A%20nowrap%3B%20text-overflow%3A%20ellipsis%3B%20border-right%3A%202px%20solid%20rgb(233%2C%20233%2C%20233)%3B%20background-color%3A%20transparent%3B%22%3E%3Cspan%20style%3D%22text-overflow%3A%20ellipsis%3B%20overflow%3A%20hidden%3B%20white-space%3A%20nowrap%3B%20max-width%3A%20calc((100%25%20-%200px)%20-%200px)%3B%22%3EAMD%3C%2Fspan%3E%3C%2Fdiv%3E%3Cdiv%20style%3D%22display%3A%20flex%3B%20align-items%3A%20center%3B%20height%3A%2028px%3B%20left%3A%200px%3B%20top%3A%20308px%3B%20width%3A%20120px%3B%20text-align%3A%20left%3B%20font-size%3A%2012px%3B%20padding%3A%204px%204px%203px%3B%20overflow%3A%20hidden%3B%20position%3A%20absolute%3B%20white-space%3A%20nowrap%3B%20text-overflow%3A%20ellipsis%3B%20border-right%3A%202px%20solid%20rgb(233%2C%20233%2C%20233)%3B%20background-color%3A%20rgb(250%2C%20250%2C%20250)%3B%22%3E%3Cspan%20style%3D%22text-overflow%3A%20ellipsis%3B%20overflow%3A%20hidden%3B%20white-space%3A%20nowrap%3B%20max-width%3A%20calc((100%25%20-%200px)%20-%200px)%3B%22%3EAMGN%3C%2Fspan%3E%3C%2Fdiv%3E%3C%2Fdiv%3E%3C%2Fdiv%3E%3C%2Fdiv%3E%3Cdiv%20class%3D%22css-1qarzgc-Table%22%3E%3Cdiv%20class%3D%22aui-invisible-scrollbars%20css-hriukk%22%3E%3Cdiv%20class%3D%22css-739803%22%3E%3Cdiv%20class%3D%22css-1hol363-ResizableCell%22%3E%3Cdiv%20style%3D%22display%3A%20flex%3B%20align-items%3A%20center%3B%20height%3A%2028px%3B%20left%3A%200px%3B%20top%3A%200px%3B%20width%3A%20115px%3B%20text-align%3A%20left%3B%20font-size%3A%2012px%3B%20padding%3A%204px%204px%203px%3B%20overflow%3A%20hidden%3B%20position%3A%20absolute%3B%20white-space%3A%20nowrap%3B%20text-overflow%3A%20ellipsis%3B%20font-weight%3A%20600%3B%22%3E%3Cspan%20style%3D%22text-overflow%3A%20ellipsis%3B%20overflow%3A%20hidden%3B%20white-space%3A%20nowrap%3B%20max-width%3A%20calc((100%25%20-%200px)%20-%200px)%3B%22%3Eweight.SUM%3C%2Fspan%3E%3C%2Fdiv%3E%3Cdiv%20class%3D%22css-xxcrt1-ResizableCell%22%3E%3C%2Fdiv%3E%3C%2Fdiv%3E%3Cdiv%20class%3D%22css-1jz26xk-ResizableCell%22%3E%3Cdiv%20style%3D%22display%3A%20flex%3B%20align-items%3A%20center%3B%20height%3A%2028px%3B%20left%3A%200px%3B%20top%3A%200px%3B%20width%3A%20230.875px%3B%20text-align%3A%20left%3B%20font-size%3A%2012px%3B%20padding%3A%204px%204px%203px%3B%20overflow%3A%20hidden%3B%20position%3A%20absolute%3B%20white-space%3A%20nowrap%3B%20text-overflow%3A%20ellipsis%3B%20font-weight%3A%20600%3B%22%3E%3Cspan%20style%3D%22text-overflow%3A%20ellipsis%3B%20overflow%3A%20hidden%3B%20white-space%3A%20nowrap%3B%20max-width%3A%20calc((100%25%20-%200px)%20-%200px)%3B%22%3Eclosing_price%3C%2Fspan%3E%3C%2Fdiv%3E%3Cdiv%20class%3D%22css-xxcrt1-ResizableCell%22%3E%3C%2Fdiv%3E%3C%2Fdiv%3E%3C%2Fdiv%3E%3C%2Fdiv%3E%3Cdiv%20class%3D%22%20css-3aojll%22%3E%3Cdiv%20class%3D%22css-puzfyb%22%3E%3Cdiv%20class%3D%22aui-table-cell%22%20style%3D%22height%3A%2028px%3B%20left%3A%200px%3B%20top%3A%200px%3B%20width%3A%20120px%3B%20text-align%3A%20right%3B%20font-size%3A%2012px%3B%20padding%3A%204px%204px%203px%3B%20overflow%3A%20hidden%3B%20position%3A%20absolute%3B%20white-space%3A%20nowrap%3B%20text-overflow%3A%20ellipsis%3B%20border-right%3A%201px%20solid%20rgb(233%2C%20233%2C%20233)%3B%20background-color%3A%20transparent%3B%22%3E2.00%3C%2Fdiv%3E%3Cdiv%20class%3D%22aui-table-cell%22%20style%3D%22height%3A%2028px%3B%20left%3A%20120px%3B%20top%3A%200px%3B%20width%3A%20235.875px%3B%20text-align%3A%20right%3B%20font-size%3A%2012px%3B%20padding%3A%204px%204px%203px%3B%20overflow%3A%20hidden%3B%20position%3A%20absolute%3B%20white-space%3A%20nowrap%3B%20text-overflow%3A%20ellipsis%3B%20border-right%3A%201px%20solid%20rgb(233%2C%20233%2C%20233)%3B%20background-color%3A%20transparent%3B%22%3E%3C%2Fdiv%3E%3Cdiv%20class%3D%22aui-table-cell%22%20style%3D%22height%3A%2028px%3B%20left%3A%200px%3B%20top%3A%2028px%3B%20width%3A%20120px%3B%20text-align%3A%20right%3B%20font-size%3A%2012px%3B%20padding%3A%204px%204px%203px%3B%20overflow%3A%20hidden%3B%20position%3A%20absolute%3B%20white-space%3A%20nowrap%3B%20text-overflow%3A%20ellipsis%3B%20border-right%3A%201px%20solid%20rgb(233%2C%20233%2C%20233)%3B%20background-color%3A%20rgb(250%2C%20250%2C%20250)%3B%22%3E.12%3C%2Fdiv%3E%3Cdiv%20class%3D%22aui-table-cell%22%20style%3D%22height%3A%2028px%3B%20left%3A%20120px%3B%20top%3A%2028px%3B%20width%3A%20235.875px%3B%20text-align%3A%20right%3B%20font-size%3A%2012px%3B%20padding%3A%204px%204px%203px%3B%20overflow%3A%20hidden%3B%20position%3A%20absolute%3B%20white-space%3A%20nowrap%3B%20text-overflow%3A%20ellipsis%3B%20border-right%3A%201px%20solid%20rgb(233%2C%20233%2C%20233)%3B%20background-color%3A%20rgb(250%2C%20250%2C%20250)%3B%22%3EdoubleVector%5B122%5D%7B126.36000061035156%2C%20...%7D%3C%2Fdiv%3E%3Cdiv%20class%3D%22aui-table-cell%22%20style%3D%22height%3A%2028px%3B%20left%3A%200px%3B%20top%3A%2056px%3B%20width%3A%20120px%3B%20text-align%3A%20right%3B%20font-size%3A%2012px%3B%20padding%3A%204px%204px%203px%3B%20overflow%3A%20hidden%3B%20position%3A%20absolute%3B%20white-space%3A%20nowrap%3B%20text-overflow%3A%20ellipsis%3B%20border-right%3A%201px%20solid%20rgb(233%2C%20233%2C%20233)%3B%20background-color%3A%20transparent%3B%22%3E.00%3C%2Fdiv%3E%3Cdiv%20class%3D%22aui-table-cell%22%20style%3D%22height%3A%2028px%3B%20left%3A%20120px%3B%20top%3A%2056px%3B%20width%3A%20235.875px%3B%20text-align%3A%20right%3B%20font-size%3A%2012px%3B%20padding%3A%204px%204px%203px%3B%20overflow%3A%20hidden%3B%20position%3A%20absolute%3B%20white-space%3A%20nowrap%3B%20text-overflow%3A%20ellipsis%3B%20border-right%3A%201px%20solid%20rgb(233%2C%20233%2C%20233)%3B%20background-color%3A%20transparent%3B%22%3EdoubleVector%5B122%5D%7B88.72000122070312%2C%20...%7D%3C%2Fdiv%3E%3Cdiv%20class%3D%22aui-table-cell%22%20style%3D%22height%3A%2028px%3B%20left%3A%200px%3B%20top%3A%2084px%3B%20width%3A%20120px%3B%20text-align%3A%20right%3B%20font-size%3A%2012px%3B%20padding%3A%204px%204px%203px%3B%20overflow%3A%20hidden%3B%20position%3A%20absolute%3B%20white-space%3A%20nowrap%3B%20text-overflow%3A%20ellipsis%3B%20border-right%3A%201px%20solid%20rgb(233%2C%20233%2C%20233)%3B%20background-color%3A%20rgb(250%2C%20250%2C%20250)%3B%22%3E.00%3C%2Fdiv%3E%3Cdiv%20class%3D%22aui-table-cell%22%20style%3D%22height%3A%2028px%3B%20left%3A%20120px%3B%20top%3A%2084px%3B%20width%3A%20235.875px%3B%20text-align%3A%20right%3B%20font-size%3A%2012px%3B%20padding%3A%204px%204px%203px%3B%20overflow%3A%20hidden%3B%20position%3A%20absolute%3B%20white-space%3A%20nowrap%3B%20text-overflow%3A%20ellipsis%3B%20border-right%3A%201px%20solid%20rgb(233%2C%20233%2C%20233)%3B%20background-color%3A%20rgb(250%2C%20250%2C%20250)%3B%22%3EdoubleVector%5B122%5D%7B341.4100036621094%2C%20...%7D%3C%2Fdiv%3E%3Cdiv%20class%3D%22aui-table-cell%22%20style%3D%22height%3A%2028px%3B%20left%3A%200px%3B%20top%3A%20112px%3B%20width%3A%20120px%3B%20text-align%3A%20right%3B%20font-size%3A%2012px%3B%20padding%3A%204px%204px%203px%3B%20overflow%3A%20hidden%3B%20position%3A%20absolute%3B%20white-space%3A%20nowrap%3B%20text-overflow%3A%20ellipsis%3B%20border-right%3A%201px%20solid%20rgb(233%2C%20233%2C%20233)%3B%20background-color%3A%20transparent%3B%22%3E.00%3C%2Fdiv%3E%3Cdiv%20class%3D%22aui-table-cell%22%20style%3D%22height%3A%2028px%3B%20left%3A%20120px%3B%20top%3A%20112px%3B%20width%3A%20235.875px%3B%20text-align%3A%20right%3B%20font-size%3A%2012px%3B%20padding%3A%204px%204px%203px%3B%20overflow%3A%20hidden%3B%20position%3A%20absolute%3B%20white-space%3A%20nowrap%3B%20text-overflow%3A%20ellipsis%3B%20border-right%3A%201px%20solid%20rgb(233%2C%20233%2C%20233)%3B%20background-color%3A%20transparent%3B%22%3EdoubleVector%5B122%5D%7B165.91000366210938%2C%20...%7D%3C%2Fdiv%3E%3Cdiv%20class%3D%22aui-table-cell%22%20style%3D%22height%3A%2028px%3B%20left%3A%200px%3B%20top%3A%20140px%3B%20width%3A%20120px%3B%20text-align%3A%20right%3B%20font-size%3A%2012px%3B%20padding%3A%204px%204px%203px%3B%20overflow%3A%20hidden%3B%20position%3A%20absolute%3B%20white-space%3A%20nowrap%3B%20text-overflow%3A%20ellipsis%3B%20border-right%3A%201px%20solid%20rgb(233%2C%20233%2C%20233)%3B%20background-color%3A%20rgb(250%2C%20250%2C%20250)%3B%22%3E.00%3C%2Fdiv%3E%3Cdiv%20class%3D%22aui-table-cell%22%20style%3D%22height%3A%2028px%3B%20left%3A%20120px%3B%20top%3A%20140px%3B%20width%3A%20235.875px%3B%20text-align%3A%20right%3B%20font-size%3A%2012px%3B%20padding%3A%204px%204px%203px%3B%20overflow%3A%20hidden%3B%20position%3A%20absolute%3B%20white-space%3A%20nowrap%3B%20text-overflow%3A%20ellipsis%3B%20border-right%3A%201px%20solid%20rgb(233%2C%20233%2C%20233)%3B%20background-color%3A%20rgb(250%2C%20250%2C%20250)%3B%22%3EdoubleVector%5B122%5D%7B238.77999877929688%2C%20...%7D%3C%2Fdiv%3E%3Cdiv%20class%3D%22aui-table-cell%22%20style%3D%22height%3A%2028px%3B%20left%3A%200px%3B%20top%3A%20168px%3B%20width%3A%20120px%3B%20text-align%3A%20right%3B%20font-size%3A%2012px%3B%20padding%3A%204px%204px%203px%3B%20overflow%3A%20hidden%3B%20position%3A%20absolute%3B%20white-space%3A%20nowrap%3B%20text-overflow%3A%20ellipsis%3B%20border-right%3A%201px%20solid%20rgb(233%2C%20233%2C%20233)%3B%20background-color%3A%20transparent%3B%22%3E.02%3C%2Fdiv%3E%3Cdiv%20class%3D%22aui-table-cell%22%20style%3D%22height%3A%2028px%3B%20left%3A%20120px%3B%20top%3A%20168px%3B%20width%3A%20235.875px%3B%20text-align%3A%20right%3B%20font-size%3A%2012px%3B%20padding%3A%204px%204px%203px%3B%20overflow%3A%20hidden%3B%20position%3A%20absolute%3B%20white-space%3A%20nowrap%3B%20text-overflow%3A%20ellipsis%3B%20border-right%3A%201px%20solid%20rgb(233%2C%20233%2C%20233)%3B%20background-color%3A%20transparent%3B%22%3EdoubleVector%5B122%5D%7B187.9600067138672%2C%20...%7D%3C%2Fdiv%3E%3Cdiv%20class%3D%22aui-table-cell%22%20style%3D%22height%3A%2028px%3B%20left%3A%200px%3B%20top%3A%20196px%3B%20width%3A%20120px%3B%20text-align%3A%20right%3B%20font-size%3A%2012px%3B%20padding%3A%204px%204px%203px%3B%20overflow%3A%20hidden%3B%20position%3A%20absolute%3B%20white-space%3A%20nowrap%3B%20text-overflow%3A%20ellipsis%3B%20border-right%3A%201px%20solid%20rgb(233%2C%20233%2C%20233)%3B%20background-color%3A%20rgb(250%2C%20250%2C%20250)%3B%22%3E.02%3C%2Fdiv%3E%3Cdiv%20class%3D%22aui-table-cell%22%20style%3D%22height%3A%2028px%3B%20left%3A%20120px%3B%20top%3A%20196px%3B%20width%3A%20235.875px%3B%20text-align%3A%20right%3B%20font-size%3A%2012px%3B%20padding%3A%204px%204px%203px%3B%20overflow%3A%20hidden%3B%20position%3A%20absolute%3B%20white-space%3A%20nowrap%3B%20text-overflow%3A%20ellipsis%3B%20border-right%3A%201px%20solid%20rgb(233%2C%20233%2C%20233)%3B%20background-color%3A%20rgb(250%2C%20250%2C%20250)%3B%22%3EdoubleVector%5B122%5D%7B95.5199966430664%2C%20...%7D%3C%2Fdiv%3E%3Cdiv%20class%3D%22aui-table-cell%22%20style%3D%22height%3A%2028px%3B%20left%3A%200px%3B%20top%3A%20224px%3B%20width%3A%20120px%3B%20text-align%3A%20right%3B%20font-size%3A%2012px%3B%20padding%3A%204px%204px%203px%3B%20overflow%3A%20hidden%3B%20position%3A%20absolute%3B%20white-space%3A%20nowrap%3B%20text-overflow%3A%20ellipsis%3B%20border-right%3A%201px%20solid%20rgb(233%2C%20233%2C%20233)%3B%20background-color%3A%20transparent%3B%22%3E.02%3C%2Fdiv%3E%3Cdiv%20class%3D%22aui-table-cell%22%20style%3D%22height%3A%2028px%3B%20left%3A%20120px%3B%20top%3A%20224px%3B%20width%3A%20235.875px%3B%20text-align%3A%20right%3B%20font-size%3A%2012px%3B%20padding%3A%204px%204px%203px%3B%20overflow%3A%20hidden%3B%20position%3A%20absolute%3B%20white-space%3A%20nowrap%3B%20text-overflow%3A%20ellipsis%3B%20border-right%3A%201px%20solid%20rgb(233%2C%20233%2C%20233)%3B%20background-color%3A%20transparent%3B%22%3EdoubleVector%5B122%5D%7B224.6300048828125%2C%20...%7D%3C%2Fdiv%3E%3Cdiv%20class%3D%22aui-table-cell%22%20style%3D%22height%3A%2028px%3B%20left%3A%200px%3B%20top%3A%20252px%3B%20width%3A%20120px%3B%20text-align%3A%20right%3B%20font-size%3A%2012px%3B%20padding%3A%204px%204px%203px%3B%20overflow%3A%20hidden%3B%20position%3A%20absolute%3B%20white-space%3A%20nowrap%3B%20text-overflow%3A%20ellipsis%3B%20border-right%3A%201px%20solid%20rgb(233%2C%20233%2C%20233)%3B%20background-color%3A%20rgb(250%2C%20250%2C%20250)%3B%22%3E.00%3C%2Fdiv%3E%3Cdiv%20class%3D%22aui-table-cell%22%20style%3D%22height%3A%2028px%3B%20left%3A%20120px%3B%20top%3A%20252px%3B%20width%3A%20235.875px%3B%20text-align%3A%20right%3B%20font-size%3A%2012px%3B%20padding%3A%204px%204px%203px%3B%20overflow%3A%20hidden%3B%20position%3A%20absolute%3B%20white-space%3A%20nowrap%3B%20text-overflow%3A%20ellipsis%3B%20border-right%3A%201px%20solid%20rgb(233%2C%20233%2C%20233)%3B%20background-color%3A%20rgb(250%2C%20250%2C%20250)%3B%22%3EdoubleVector%5B122%5D%7B99.30999755859375%2C%20...%7D%3C%2Fdiv%3E%3Cdiv%20class%3D%22aui-table-cell%22%20style%3D%22height%3A%2028px%3B%20left%3A%200px%3B%20top%3A%20280px%3B%20width%3A%20120px%3B%20text-align%3A%20right%3B%20font-size%3A%2012px%3B%20padding%3A%204px%204px%203px%3B%20overflow%3A%20hidden%3B%20position%3A%20absolute%3B%20white-space%3A%20nowrap%3B%20text-overflow%3A%20ellipsis%3B%20border-right%3A%201px%20solid%20rgb(233%2C%20233%2C%20233)%3B%20background-color%3A%20transparent%3B%22%3E.02%3C%2Fdiv%3E%3Cdiv%20class%3D%22aui-table-cell%22%20style%3D%22height%3A%2028px%3B%20left%3A%20120px%3B%20top%3A%20280px%3B%20width%3A%20235.875px%3B%20text-align%3A%20right%3B%20font-size%3A%2012px%3B%20padding%3A%204px%204px%203px%3B%20overflow%3A%20hidden%3B%20position%3A%20absolute%3B%20white-space%3A%20nowrap%3B%20text-overflow%3A%20ellipsis%3B%20border-right%3A%201px%20solid%20rgb(233%2C%20233%2C%20233)%3B%20background-color%3A%20transparent%3B%22%3EdoubleVector%5B122%5D%7B64.66000366210938%2C%20...%7D%3C%2Fdiv%3E%3Cdiv%20class%3D%22aui-table-cell%22%20style%3D%22height%3A%2028px%3B%20left%3A%200px%3B%20top%3A%20308px%3B%20width%3A%20120px%3B%20text-align%3A%20right%3B%20font-size%3A%2012px%3B%20padding%3A%204px%204px%203px%3B%20overflow%3A%20hidden%3B%20position%3A%20absolute%3B%20white-space%3A%20nowrap%3B%20text-overflow%3A%20ellipsis%3B%20border-right%3A%201px%20solid%20rgb(233%2C%20233%2C%20233)%3B%20background-color%3A%20rgb(250%2C%20250%2C%20250)%3B%22%3E.02%3C%2Fdiv%3E%3Cdiv%20class%3D%22aui-table-cell%22%20style%3D%22height%3A%2028px%3B%20left%3A%20120px%3B%20top%3A%20308px%3B%20width%3A%20235.875px%3B%20text-align%3A%20right%3B%20font-size%3A%2012px%3B%20padding%3A%204px%204px%203px%3B%20overflow%3A%20hidden%3B%20position%3A%20absolute%3B%20white-space%3A%20nowrap%3B%20text-overflow%3A%20ellipsis%3B%20border-right%3A%201px%20solid%20rgb(233%2C%20233%2C%20233)%3B%20background-color%3A%20rgb(250%2C%20250%2C%20250)%3B%22%3EdoubleVector%5B122%5D%7B264.3900146484375%2C%20...%7D%3C%2Fdiv%3E%3C%2Fdiv%3E%3C%2Fdiv%3E%3C%2Fdiv%3E%3C%2Fdiv%3E%3C%2Fdiv%3E%3Cdiv%20class%3D%22css-1uww2vi-Table%22%3E%3C%2Fdiv%3E%3C%2Fdiv%3E%3C%2Fdiv%3E%3C%2Fdiv%3E%3C%2Fdiv%3E%3C%2Fdiv%3E%3C%2FforeignObject%3E%3C%2Fsvg%3E\">"
      ],
      "text/plain": [
       "Open the notebook in JupyterLab with the Atoti extension enabled to build this widget."
      ]
     },
     "metadata": {},
     "output_type": "display_data"
    }
   ],
   "source": [
    "session.visualize()"
   ]
  },
  {
   "cell_type": "markdown",
   "id": "4712ec04-1d4f-427c-80b4-7bd6753851dc",
   "metadata": {},
   "source": [
    "### VaR"
   ]
  },
  {
   "cell_type": "code",
   "execution_count": 22,
   "id": "c1ef8c21-04d2-46ad-98ad-8691894e4855",
   "metadata": {},
   "outputs": [],
   "source": [
    "m[\"Simulated Portfolio Returns Vector\"] = tt.agg.sum(\n",
    "    portfolios[\"weight\"] * daily_bars_array[\"daily_ROR_vector\"]\n",
    ")\n",
    "\n",
    "m[\"unweighted_ROR_vector\"] = tt.agg.sum(daily_bars_array[\"daily_ROR_vector\"])"
   ]
  },
  {
   "cell_type": "code",
   "execution_count": 23,
   "id": "d344dc7f-0ec0-42ad-91f6-54d9ef5e7aa7",
   "metadata": {},
   "outputs": [],
   "source": [
    "confidence_levels = cube.create_parameter_simulation(\n",
    "    \"Confidence Level\",\n",
    "    measures={\"Confidence Level\": 0.95},\n",
    "    base_scenario_name=\"95%\",\n",
    ")"
   ]
  },
  {
   "cell_type": "code",
   "execution_count": 24,
   "id": "af3aedd4-ecb3-4c54-b305-11b0ac03b737",
   "metadata": {},
   "outputs": [],
   "source": [
    "confidence_levels += (\"90%\", 0.90)\n",
    "confidence_levels += (\"98%\", 0.98)"
   ]
  },
  {
   "cell_type": "code",
   "execution_count": 25,
   "id": "e9022df2-0b81-4b27-a8d6-cd09efe0d7b6",
   "metadata": {},
   "outputs": [],
   "source": [
    "m[\"VaR\"] = tt.array.quantile(\n",
    "    m[\"Simulated Portfolio Returns Vector\"],\n",
    "    (1 - m[\"Confidence Level\"]),\n",
    "    interpolation=\"lower\",\n",
    ")\n",
    "m[\"VaR\"].formatter = \"DOUBLE[#,##0.000%]\""
   ]
  },
  {
   "cell_type": "markdown",
   "id": "08d21bd6-6631-4996-aa13-59cd7cb98517",
   "metadata": {},
   "source": [
    "### CVaR"
   ]
  },
  {
   "cell_type": "code",
   "execution_count": 26,
   "id": "a483608a-0e0c-4922-8bcc-14a90f5dbcfb",
   "metadata": {},
   "outputs": [],
   "source": [
    "m[\"Number of Tail Exposures\"] = tt.math.floor(\n",
    "    (1 - m[\"Confidence Level\"]) * tt.array.len(m[\"Simulated Portfolio Returns Vector\"])\n",
    ")\n",
    "m[\"CVaR\"] = tt.array.mean(\n",
    "    tt.array.n_lowest(\n",
    "        m[\"Simulated Portfolio Returns Vector\"], m[\"Number of Tail Exposures\"]\n",
    "    )\n",
    ")\n",
    "\n",
    "# unweighted\n",
    "m[\"symbol_CVaR\"] = tt.array.mean(\n",
    "    # tt.array.n_lowest(m[\"Daily_ROR_Vector\"], m[\"Number of Tail Exposures\"])\n",
    "    tt.array.n_lowest(m[\"unweighted_ROR_vector\"], m[\"Number of Tail Exposures\"])\n",
    ")\n",
    "\n",
    "m[\"CVaR\"].formatter = \"DOUBLE[#,##0.000%]\"\n",
    "m[\"symbol_CVaR\"].formatter = \"DOUBLE[#,##0.000%]\""
   ]
  },
  {
   "cell_type": "code",
   "execution_count": 27,
   "id": "0e140ea8-3a2b-42ed-a746-2d5151089e2b",
   "metadata": {
    "atoti": {
     "height": 248,
     "widget": {
      "mapping": {
       "columns": [
        "ALL_MEASURES"
       ],
       "measures": [
        "[Measures].[VaR]",
        "[Measures].[CVaR]"
       ],
       "rows": [
        "[portfolios].[portfolio].[portfolio]"
       ]
      },
      "query": {
       "mdx": "SELECT NON EMPTY Hierarchize(Descendants({[portfolios].[portfolio].[AllMember]}, 1, SELF_AND_BEFORE)) ON ROWS, NON EMPTY {[Measures].[VaR], [Measures].[CVaR]} ON COLUMNS FROM [esg_optimization] CELL PROPERTIES VALUE, FORMATTED_VALUE, BACK_COLOR, FORE_COLOR, FONT_FLAGS",
       "updateMode": "once"
      },
      "serverKey": "default",
      "widgetKey": "pivot-table"
     }
    },
    "tags": []
   },
   "outputs": [
    {
     "data": {
      "application/vnd.atoti.widget.v0+json": {
       "name": null,
       "sessionId": "1694523495_ON6WNL",
       "sessionLocation": {
        "https": false,
        "port": 9092
       },
       "widgetCreationCode": "session.visualize()"
      },
      "text/html": [
       "<img src=\"data:image/svg+xml;charset=utf8,%3C%3Fxml%20version%3D%221.0%22%20standalone%3D%22no%22%3F%3E%3Csvg%20xmlns%3D%22http%3A%2F%2Fwww.w3.org%2F2000%2Fsvg%22%20height%3D%22240%22%20width%3D%22952%22%3E%3CforeignObject%20width%3D%22100%25%22%20height%3D%22100%25%22%20x%3D%220%22%20y%3D%220%22%3E%3Cstyle%20xmlns%3D%22http%3A%2F%2Fwww.w3.org%2F1999%2Fxhtml%22%20type%3D%22text%2Fcss%22%3E*%2C%20%3A%3Abefore%2C%20%3A%3Aafter%20%7Bbox-sizing%3A%20unset%7D%0A.ant-root%20%5Bclass%5E%3D%22ant-%22%5D%2C%20.ant-root%20%5Bclass*%3D%22ant-%22%5D%2C%20.ant-root%20%5Bclass%5E%3D%22ant-%22%5D%20*%2C%20.ant-root%20%5Bclass*%3D%22ant-%22%5D%20*%2C%20.ant-root%20%5Bclass%5E%3D%22ant-%22%5D%20%3A%3Abefore%2C%20.ant-root%20%5Bclass*%3D%22ant-%22%5D%20%3A%3Abefore%2C%20.ant-root%20%5Bclass%5E%3D%22ant-%22%5D%20%3A%3Aafter%2C%20.ant-root%20%5Bclass*%3D%22ant-%22%5D%20%3A%3Aafter%20%7Bbox-sizing%3A%20border-box%7D%0A.ant-root%2C%20.ant-root%20%7Bwidth%3A%20100%25%3B%20height%3A%20100%25%7D%0A.ant-root%20*%2C%20.ant-root%20%3A%3Abefore%2C%20.ant-root%20%3A%3Aafter%20%7Bbox-sizing%3A%20border-box%7D%0A.ant-root%20%7Btext-size-adjust%3A%20100%25%3B%20-webkit-tap-highlight-color%3A%20rgba(0%2C%200%2C%200%2C%200)%3B%20font-family%3A%20-apple-system%2C%20BlinkMacSystemFont%2C%20%22Segoe%20UI%22%2C%20Roboto%2C%20%22Helvetica%20Neue%22%2C%20Arial%2C%20%22Noto%20Sans%22%2C%20sans-serif%2C%20%22Apple%20Color%20Emoji%22%2C%20%22Segoe%20UI%20Emoji%22%2C%20%22Segoe%20UI%20Symbol%22%2C%20%22Noto%20Color%20Emoji%22%3B%20line-height%3A%201.66667%3B%20color%3A%20rgb(89%2C%2089%2C%2089)%3B%20font-variant-ligatures%3A%20normal%3B%20font-variant-numeric%3A%20tabular-nums%3B%20font-variant-east-asian%3A%20normal%3B%20font-variant-caps%3A%20normal%3B%20font-variant-alternates%3A%20normal%3B%20background-color%3A%20rgb(255%2C%20255%2C%20255)%3B%20margin-top%3A%200px%3B%20margin-right%3A%200px%3B%20margin-bottom%3A%200px%3B%20margin-left%3A%200px%3B%20font-size%3A%2012px%3B%20--antd-wave-shadow-color%3A%20%231890ff%3B%20--scroll-bar%3A%200%7D%0A.ant-root%20.aui-invisible-scrollbars%20%7B%7D%0A.css-12ebr42-AWidget%20%7Bheight%3A%20100%25%7D%0A.css-2p9ued-WidgetLoadingOverlay%20%7Bheight%3A%20100%25%3B%20position%3A%20relative%7D%0A.css-1b1raxz-DefaultWidgetLoadingOverlay%20%7Bdisplay%3A%20flex%3B%20height%3A%20100%25%3B%20-webkit-box-pack%3A%20center%3B%20justify-content%3A%20center%3B%20position%3A%20absolute%3B%20width%3A%20100%25%3B%20-webkit-box-align%3A%20center%3B%20align-items%3A%20center%3B%20pointer-events%3A%20none%3B%20z-index%3A%202%7D%0A.css-34a2ml-DefaultWidgetLoadingOverlay%20%7Bbackground-image%3A%20initial%3B%20background-position-x%3A%20initial%3B%20background-position-y%3A%20initial%3B%20background-size%3A%20initial%3B%20background-repeat-x%3A%20initial%3B%20background-repeat-y%3A%20initial%3B%20background-attachment%3A%20initial%3B%20background-origin%3A%20initial%3B%20background-clip%3A%20initial%3B%20background-color%3A%20transparent%3B%20width%3A%20calc(100%25%20-%204px)%3B%20height%3A%20calc(100%25%20-%204px)%7D%0A.css-1hwl8p1-Table%20%7Bpadding-bottom%3A%202px%3B%20padding-right%3A%202px%3B%20height%3A%20100%25%7D%0A.css-14ejcn0-Table%20%7Bheight%3A%20calc(100%25%20-%2030px)%3B%20outline-color%3A%20initial%3B%20outline-style%3A%20none%3B%20outline-width%3A%20initial%3B%20position%3A%20relative%7D%0A.css-1rxpjm0-ColumnResizeHint%20%7Bdisplay%3A%20none%3B%20position%3A%20absolute%3B%20z-index%3A%201%7D%0A.css-1uww2vi-Table%20%7Bheight%3A%2030px%3B%20text-align%3A%20right%3B%20padding-right%3A%2025px%7D%0A.css-1hol363-ResizableCell%20%7Bdisplay%3A%20flex%3B%20flex-direction%3A%20column%3B%20position%3A%20absolute%3B%20top%3A%200px%3B%20left%3A%200px%3B%20height%3A%2028px%3B%20width%3A%20120px%7D%0A.css-xxcrt1-ResizableCell%20%7Bbackground-image%3A%20initial%3B%20background-position-x%3A%20initial%3B%20background-position-y%3A%20initial%3B%20background-size%3A%20initial%3B%20background-repeat-x%3A%20initial%3B%20background-repeat-y%3A%20initial%3B%20background-attachment%3A%20initial%3B%20background-origin%3A%20initial%3B%20background-clip%3A%20initial%3B%20background-color%3A%20transparent%3B%20cursor%3A%20col-resize%3B%20height%3A%20100%25%3B%20position%3A%20absolute%3B%20right%3A%200px%3B%20width%3A%205px%3B%20z-index%3A%201%7D%0A.css-fpuq48-ResizableCell%20%7Bdisplay%3A%20flex%3B%20flex-direction%3A%20column%3B%20position%3A%20absolute%3B%20top%3A%200px%3B%20left%3A%20120px%3B%20height%3A%2028px%3B%20width%3A%20120px%7D%0A.css-walxhl-ColumnResizeHint%20%7Bheight%3A%2028px%3B%20background-color%3A%20rgb(24%2C%20144%2C%20255)%3B%20width%3A%205px%7D%0A.css-9wvnih-Table%20%7Bborder-collapse%3A%20collapse%3B%20height%3A%2028px%3B%20width%3A%20120px%7D%0A.css-gy6esx%20%7Bheight%3A%2028px%3B%20width%3A%20120px%7D%0A.css-n1rdc6%20%7Bcursor%3A%20cell%3B%20height%3A%2028px%3B%20overflow-x%3A%20hidden%3B%20overflow-y%3A%20hidden%3B%20position%3A%20relative%3B%20width%3A%20120px%3B%20border-right-width%3A%202px%3B%20border-right-style%3A%20solid%3B%20border-right-color%3A%20rgb(233%2C%20233%2C%20233)%7D%0A.css-1qarzgc-Table%20%7Bwidth%3A%20830px%3B%20border-collapse%3A%20collapse%7D%0A.css-hriukk%20%7Bheight%3A%2028px%3B%20width%3A%20812px%3B%20overflow-x%3A%20auto%3B%20overflow-y%3A%20hidden%7D%0A.css-fvnfjk-ColumnResizeHint%20%7Bdisplay%3A%20none%3B%20float%3A%20right%3B%20height%3A%20180px%3B%20background-color%3A%20rgb(24%2C%20144%2C%20255)%3B%20opacity%3A%200.4%3B%20width%3A%202px%7D%0A.css-7puz7b-Table%20%7Bdisplay%3A%20flex%3B%20height%3A%20208px%7D%0A.css-1yln56u%20%7Bheight%3A%20180px%3B%20width%3A%20120px%3B%20overflow-x%3A%20hidden%3B%20overflow-y%3A%20auto%7D%0A.css-vlo3ja%20%7Bcursor%3A%20cell%3B%20height%3A%2084px%3B%20overflow-x%3A%20hidden%3B%20overflow-y%3A%20hidden%3B%20position%3A%20relative%3B%20width%3A%20120px%3B%20border-top-width%3A%202px%3B%20border-top-style%3A%20solid%3B%20border-top-color%3A%20rgb(233%2C%20233%2C%20233)%3B%20border-right-width%3A%202px%3B%20border-right-style%3A%20solid%3B%20border-right-color%3A%20rgb(233%2C%20233%2C%20233)%7D%0A.css-99ih7p%20%7Bcursor%3A%20cell%3B%20height%3A%2028px%3B%20overflow-x%3A%20hidden%3B%20overflow-y%3A%20hidden%3B%20position%3A%20relative%3B%20width%3A%20240px%7D%0A.css-17qmwmi%20%7Bheight%3A%20180px%3B%20width%3A%20830px%3B%20overflow-x%3A%20auto%3B%20overflow-y%3A%20auto%7D%0A.css-16q1qfm%20%7Bcursor%3A%20cell%3B%20height%3A%2084px%3B%20overflow-x%3A%20hidden%3B%20overflow-y%3A%20hidden%3B%20position%3A%20relative%3B%20width%3A%20240px%3B%20border-top-width%3A%202px%3B%20border-top-style%3A%20solid%3B%20border-top-color%3A%20rgb(233%2C%20233%2C%20233)%7D%0A*%20%7B-ms-overflow-style%3A%20none%3B%20scrollbar-width%3A%20none%7D%0A*%3A%3A-webkit-scrollbar%20%7Bdisplay%3A%20none%7D%0A.atoti-hidden-in-snapshot%20%7Bdisplay%3A%20none%7D%3C%2Fstyle%3E%3Cdiv%20xmlns%3D%22http%3A%2F%2Fwww.w3.org%2F1999%2Fxhtml%22%20style%3D%22height%3A%20240px%3B%20width%3A%20952px%3B%22%3E%3Cdiv%20class%3D%22ant-root%20css-0%22%3E%3Cdiv%20class%3D%22ant-dropdown-trigger%20css-12ebr42-AWidget%22%3E%3Cdiv%20class%3D%22css-2p9ued-WidgetLoadingOverlay%22%3E%3Cdiv%20class%3D%22css-1b1raxz-DefaultWidgetLoadingOverlay%22%3E%3Cdiv%20class%3D%22css-34a2ml-DefaultWidgetLoadingOverlay%22%3E%3C%2Fdiv%3E%3C%2Fdiv%3E%3Cdiv%20class%3D%22css-1hwl8p1-Table%22%3E%3Cdiv%20tabindex%3D%220%22%20class%3D%22css-14ejcn0-Table%22%3E%3Cdiv%20class%3D%22css-1rxpjm0-ColumnResizeHint%22%3E%3Cdiv%20class%3D%22css-walxhl-ColumnResizeHint%22%3E%3C%2Fdiv%3E%3Cdiv%20class%3D%22css-fvnfjk-ColumnResizeHint%22%3E%3C%2Fdiv%3E%3C%2Fdiv%3E%3Cdiv%20class%3D%22css-7puz7b-Table%22%3E%3Cdiv%20class%3D%22css-9wvnih-Table%22%3E%3Cdiv%20class%3D%22%20css-gy6esx%22%3E%3Cdiv%20class%3D%22css-n1rdc6%22%3E%3Cdiv%20class%3D%22css-1hol363-ResizableCell%22%3E%3Cdiv%20class%3D%22aui-table-cell%22%20style%3D%22height%3A%2028px%3B%20left%3A%200px%3B%20top%3A%200px%3B%20width%3A%20115px%3B%20text-align%3A%20left%3B%20font-size%3A%2012px%3B%20padding%3A%204px%204px%203px%3B%20overflow%3A%20hidden%3B%20position%3A%20absolute%3B%20white-space%3A%20nowrap%3B%20text-overflow%3A%20ellipsis%3B%20font-weight%3A%20600%3B%20display%3A%20flex%3B%20align-items%3A%20center%3B%22%3E%3Cspan%3Eportfolio%3C%2Fspan%3E%3C%2Fdiv%3E%3Cdiv%20class%3D%22css-xxcrt1-ResizableCell%22%3E%3C%2Fdiv%3E%3C%2Fdiv%3E%3C%2Fdiv%3E%3C%2Fdiv%3E%3Cdiv%20class%3D%22aui-invisible-scrollbars%20css-1yln56u%22%3E%3Cdiv%20class%3D%22css-vlo3ja%22%3E%3Cdiv%20style%3D%22display%3A%20flex%3B%20align-items%3A%20center%3B%20height%3A%2028px%3B%20left%3A%200px%3B%20top%3A%200px%3B%20width%3A%20120px%3B%20text-align%3A%20left%3B%20font-size%3A%2012px%3B%20padding%3A%204px%204px%203px%3B%20overflow%3A%20hidden%3B%20position%3A%20absolute%3B%20white-space%3A%20nowrap%3B%20text-overflow%3A%20ellipsis%3B%20border-right%3A%202px%20solid%20rgb(233%2C%20233%2C%20233)%3B%20background-color%3A%20transparent%3B%22%3E%3Cspan%20style%3D%22text-overflow%3A%20ellipsis%3B%20overflow%3A%20hidden%3B%20white-space%3A%20nowrap%3B%20max-width%3A%20calc((100%25%20-%200px)%20-%200px)%3B%22%3ETotal%3C%2Fspan%3E%3C%2Fdiv%3E%3Cdiv%20style%3D%22display%3A%20flex%3B%20align-items%3A%20center%3B%20height%3A%2028px%3B%20left%3A%200px%3B%20top%3A%2028px%3B%20width%3A%20120px%3B%20text-align%3A%20left%3B%20font-size%3A%2012px%3B%20padding%3A%204px%204px%203px%3B%20overflow%3A%20hidden%3B%20position%3A%20absolute%3B%20white-space%3A%20nowrap%3B%20text-overflow%3A%20ellipsis%3B%20border-right%3A%202px%20solid%20rgb(233%2C%20233%2C%20233)%3B%20background-color%3A%20rgb(250%2C%20250%2C%20250)%3B%22%3E%3Cspan%20style%3D%22text-overflow%3A%20ellipsis%3B%20overflow%3A%20hidden%3B%20white-space%3A%20nowrap%3B%20max-width%3A%20calc((100%25%20-%200px)%20-%200px)%3B%22%3E2023_A%3C%2Fspan%3E%3C%2Fdiv%3E%3Cdiv%20style%3D%22display%3A%20flex%3B%20align-items%3A%20center%3B%20height%3A%2028px%3B%20left%3A%200px%3B%20top%3A%2056px%3B%20width%3A%20120px%3B%20text-align%3A%20left%3B%20font-size%3A%2012px%3B%20padding%3A%204px%204px%203px%3B%20overflow%3A%20hidden%3B%20position%3A%20absolute%3B%20white-space%3A%20nowrap%3B%20text-overflow%3A%20ellipsis%3B%20border-right%3A%202px%20solid%20rgb(233%2C%20233%2C%20233)%3B%20background-color%3A%20transparent%3B%22%3E%3Cspan%20style%3D%22text-overflow%3A%20ellipsis%3B%20overflow%3A%20hidden%3B%20white-space%3A%20nowrap%3B%20max-width%3A%20calc((100%25%20-%200px)%20-%200px)%3B%22%3E2023_B%3C%2Fspan%3E%3C%2Fdiv%3E%3C%2Fdiv%3E%3C%2Fdiv%3E%3C%2Fdiv%3E%3Cdiv%20class%3D%22css-1qarzgc-Table%22%3E%3Cdiv%20class%3D%22aui-invisible-scrollbars%20css-hriukk%22%3E%3Cdiv%20class%3D%22css-99ih7p%22%3E%3Cdiv%20class%3D%22css-1hol363-ResizableCell%22%3E%3Cdiv%20style%3D%22display%3A%20flex%3B%20align-items%3A%20center%3B%20height%3A%2028px%3B%20left%3A%200px%3B%20top%3A%200px%3B%20width%3A%20115px%3B%20text-align%3A%20left%3B%20font-size%3A%2012px%3B%20padding%3A%204px%204px%203px%3B%20overflow%3A%20hidden%3B%20position%3A%20absolute%3B%20white-space%3A%20nowrap%3B%20text-overflow%3A%20ellipsis%3B%20font-weight%3A%20600%3B%22%3E%3Cspan%20style%3D%22text-overflow%3A%20ellipsis%3B%20overflow%3A%20hidden%3B%20white-space%3A%20nowrap%3B%20max-width%3A%20calc((100%25%20-%200px)%20-%200px)%3B%22%3EVaR%3C%2Fspan%3E%3C%2Fdiv%3E%3Cdiv%20class%3D%22css-xxcrt1-ResizableCell%22%3E%3C%2Fdiv%3E%3C%2Fdiv%3E%3Cdiv%20class%3D%22css-fpuq48-ResizableCell%22%3E%3Cdiv%20style%3D%22display%3A%20flex%3B%20align-items%3A%20center%3B%20height%3A%2028px%3B%20left%3A%200px%3B%20top%3A%200px%3B%20width%3A%20115px%3B%20text-align%3A%20left%3B%20font-size%3A%2012px%3B%20padding%3A%204px%204px%203px%3B%20overflow%3A%20hidden%3B%20position%3A%20absolute%3B%20white-space%3A%20nowrap%3B%20text-overflow%3A%20ellipsis%3B%20font-weight%3A%20600%3B%22%3E%3Cspan%20style%3D%22text-overflow%3A%20ellipsis%3B%20overflow%3A%20hidden%3B%20white-space%3A%20nowrap%3B%20max-width%3A%20calc((100%25%20-%200px)%20-%200px)%3B%22%3ECVaR%3C%2Fspan%3E%3C%2Fdiv%3E%3Cdiv%20class%3D%22css-xxcrt1-ResizableCell%22%3E%3C%2Fdiv%3E%3C%2Fdiv%3E%3C%2Fdiv%3E%3C%2Fdiv%3E%3Cdiv%20class%3D%22%20css-17qmwmi%22%3E%3Cdiv%20class%3D%22css-16q1qfm%22%3E%3Cdiv%20class%3D%22aui-table-cell%22%20style%3D%22height%3A%2028px%3B%20left%3A%200px%3B%20top%3A%200px%3B%20width%3A%20120px%3B%20text-align%3A%20right%3B%20font-size%3A%2012px%3B%20padding%3A%204px%204px%203px%3B%20overflow%3A%20hidden%3B%20position%3A%20absolute%3B%20white-space%3A%20nowrap%3B%20text-overflow%3A%20ellipsis%3B%20border-right%3A%201px%20solid%20rgb(233%2C%20233%2C%20233)%3B%20background-color%3A%20transparent%3B%22%3E-3.898%25%3C%2Fdiv%3E%3Cdiv%20class%3D%22aui-table-cell%22%20style%3D%22height%3A%2028px%3B%20left%3A%20120px%3B%20top%3A%200px%3B%20width%3A%20120px%3B%20text-align%3A%20right%3B%20font-size%3A%2012px%3B%20padding%3A%204px%204px%203px%3B%20overflow%3A%20hidden%3B%20position%3A%20absolute%3B%20white-space%3A%20nowrap%3B%20text-overflow%3A%20ellipsis%3B%20border-right%3A%201px%20solid%20rgb(233%2C%20233%2C%20233)%3B%20background-color%3A%20transparent%3B%22%3E-4.321%25%3C%2Fdiv%3E%3Cdiv%20class%3D%22aui-table-cell%22%20style%3D%22height%3A%2028px%3B%20left%3A%200px%3B%20top%3A%2028px%3B%20width%3A%20120px%3B%20text-align%3A%20right%3B%20font-size%3A%2012px%3B%20padding%3A%204px%204px%203px%3B%20overflow%3A%20hidden%3B%20position%3A%20absolute%3B%20white-space%3A%20nowrap%3B%20text-overflow%3A%20ellipsis%3B%20border-right%3A%201px%20solid%20rgb(233%2C%20233%2C%20233)%3B%20background-color%3A%20rgb(250%2C%20250%2C%20250)%3B%22%3E-1.837%25%3C%2Fdiv%3E%3Cdiv%20class%3D%22aui-table-cell%22%20style%3D%22height%3A%2028px%3B%20left%3A%20120px%3B%20top%3A%2028px%3B%20width%3A%20120px%3B%20text-align%3A%20right%3B%20font-size%3A%2012px%3B%20padding%3A%204px%204px%203px%3B%20overflow%3A%20hidden%3B%20position%3A%20absolute%3B%20white-space%3A%20nowrap%3B%20text-overflow%3A%20ellipsis%3B%20border-right%3A%201px%20solid%20rgb(233%2C%20233%2C%20233)%3B%20background-color%3A%20rgb(250%2C%20250%2C%20250)%3B%22%3E-2.083%25%3C%2Fdiv%3E%3Cdiv%20class%3D%22aui-table-cell%22%20style%3D%22height%3A%2028px%3B%20left%3A%200px%3B%20top%3A%2056px%3B%20width%3A%20120px%3B%20text-align%3A%20right%3B%20font-size%3A%2012px%3B%20padding%3A%204px%204px%203px%3B%20overflow%3A%20hidden%3B%20position%3A%20absolute%3B%20white-space%3A%20nowrap%3B%20text-overflow%3A%20ellipsis%3B%20border-right%3A%201px%20solid%20rgb(233%2C%20233%2C%20233)%3B%20background-color%3A%20transparent%3B%22%3E-2.180%25%3C%2Fdiv%3E%3Cdiv%20class%3D%22aui-table-cell%22%20style%3D%22height%3A%2028px%3B%20left%3A%20120px%3B%20top%3A%2056px%3B%20width%3A%20120px%3B%20text-align%3A%20right%3B%20font-size%3A%2012px%3B%20padding%3A%204px%204px%203px%3B%20overflow%3A%20hidden%3B%20position%3A%20absolute%3B%20white-space%3A%20nowrap%3B%20text-overflow%3A%20ellipsis%3B%20border-right%3A%201px%20solid%20rgb(233%2C%20233%2C%20233)%3B%20background-color%3A%20transparent%3B%22%3E-2.333%25%3C%2Fdiv%3E%3C%2Fdiv%3E%3C%2Fdiv%3E%3C%2Fdiv%3E%3C%2Fdiv%3E%3C%2Fdiv%3E%3Cdiv%20class%3D%22css-1uww2vi-Table%22%3E%3C%2Fdiv%3E%3C%2Fdiv%3E%3C%2Fdiv%3E%3C%2Fdiv%3E%3C%2Fdiv%3E%3C%2Fdiv%3E%3C%2FforeignObject%3E%3C%2Fsvg%3E\">"
      ],
      "text/plain": [
       "Open the notebook in JupyterLab with the Atoti extension enabled to build this widget."
      ]
     },
     "metadata": {},
     "output_type": "display_data"
    }
   ],
   "source": [
    "session.visualize()"
   ]
  },
  {
   "cell_type": "code",
   "execution_count": 28,
   "id": "a7b62622-7617-4ee8-a1ea-01a0195c654a",
   "metadata": {
    "atoti": {
     "widget": {
      "filters": [
       "TopCount(Filter([portfolios].[symbol].Levels(1).Members, NOT IsEmpty([Measures].[weight.SUM])), 50, [Measures].[weight.SUM])"
      ],
      "mapping": {
       "columnValues": [
        "[Measures].[VaR]"
       ],
       "horizontalSubplots": [],
       "lineValues": [
        "[Measures].[CVaR]"
       ],
       "verticalSubplots": [],
       "xAxis": [
        "[portfolios].[symbol].[symbol]"
       ]
      },
      "query": {
       "mdx": "SELECT NON EMPTY Hierarchize(Descendants({[portfolios].[symbol].[AllMember]}, 1, SELF_AND_BEFORE)) ON ROWS, NON EMPTY {[Measures].[VaR], [Measures].[CVaR]} ON COLUMNS FROM [esg_optimization] CELL PROPERTIES VALUE, FORMATTED_VALUE, BACK_COLOR, FORE_COLOR, FONT_FLAGS",
       "updateMode": "once"
      },
      "serverKey": "default",
      "widgetKey": "plotly-clustered-column-and-line-chart"
     }
    },
    "tags": []
   },
   "outputs": [
    {
     "data": {
      "application/vnd.atoti.widget.v0+json": {
       "name": null,
       "sessionId": "1694523495_ON6WNL",
       "sessionLocation": {
        "https": false,
        "port": 9092
       },
       "widgetCreationCode": "session.visualize()"
      },
      "text/html": [
       "<img src=\"data:image/svg+xml;charset=utf8,%3C%3Fxml%20version%3D%221.0%22%20standalone%3D%22no%22%3F%3E%3Csvg%20xmlns%3D%22http%3A%2F%2Fwww.w3.org%2F2000%2Fsvg%22%20xmlns%3Axlink%3D%22http%3A%2F%2Fwww.w3.org%2F1999%2Fxlink%22%20height%3D%22352%22%20width%3D%22952%22%20viewBox%3D%220%200%20952%20352%22%3E%3Cdefs%20id%3D%22defs-a3282a%22%3E%3Cg%20class%3D%22clips%22%3E%3CclipPath%20id%3D%22clipa3282axyplot%22%20class%3D%22plotclip%22%3E%3Crect%20width%3D%22779%22%20height%3D%22275%22%2F%3E%3C%2FclipPath%3E%3CclipPath%20id%3D%22clipa3282axy2plot%22%20class%3D%22plotclip%22%3E%3Crect%20width%3D%22779%22%20height%3D%22275%22%2F%3E%3C%2FclipPath%3E%3CclipPath%20class%3D%22axesclip%22%20id%3D%22clipa3282ax%22%3E%3Crect%20x%3D%2280%22%20y%3D%220%22%20width%3D%22779%22%20height%3D%22352%22%2F%3E%3C%2FclipPath%3E%3CclipPath%20class%3D%22axesclip%22%20id%3D%22clipa3282ay%22%3E%3Crect%20x%3D%220%22%20y%3D%2230%22%20width%3D%22952%22%20height%3D%22275%22%2F%3E%3C%2FclipPath%3E%3CclipPath%20class%3D%22axesclip%22%20id%3D%22clipa3282axy%22%3E%3Crect%20x%3D%2280%22%20y%3D%2230%22%20width%3D%22779%22%20height%3D%22275%22%2F%3E%3C%2FclipPath%3E%3CclipPath%20class%3D%22axesclip%22%20id%3D%22clipa3282ay2%22%3E%3Crect%20x%3D%220%22%20y%3D%2230%22%20width%3D%22952%22%20height%3D%22275%22%2F%3E%3C%2FclipPath%3E%3CclipPath%20class%3D%22axesclip%22%20id%3D%22clipa3282axy2%22%3E%3Crect%20x%3D%2280%22%20y%3D%2230%22%20width%3D%22779%22%20height%3D%22275%22%2F%3E%3C%2FclipPath%3E%3C%2Fg%3E%3Cg%20class%3D%22gradients%22%2F%3E%3C%2Fdefs%3E%3Cg%20class%3D%22bglayer%22%2F%3E%3Cg%20class%3D%22draglayer%20cursor-crosshair%22%3E%3Cg%20class%3D%22xy%22%3E%3Crect%20class%3D%22nsewdrag%20drag%22%20data-subplot%3D%22xy%22%20x%3D%2280%22%20y%3D%2230%22%20width%3D%22779%22%20height%3D%22275%22%20style%3D%22fill%3A%20transparent%3B%20stroke-width%3A%200%3B%20pointer-events%3A%20all%3B%22%2F%3E%3Crect%20class%3D%22nwdrag%20drag%20cursor-nw-resize%22%20data-subplot%3D%22xy%22%20x%3D%2260%22%20y%3D%2210%22%20width%3D%2220%22%20height%3D%2220%22%20style%3D%22fill%3A%20transparent%3B%20stroke-width%3A%200%3B%20pointer-events%3A%20all%3B%22%2F%3E%3Crect%20class%3D%22nedrag%20drag%20cursor-ne-resize%22%20data-subplot%3D%22xy%22%20x%3D%22859%22%20y%3D%2210%22%20width%3D%2220%22%20height%3D%2220%22%20style%3D%22fill%3A%20transparent%3B%20stroke-width%3A%200%3B%20pointer-events%3A%20all%3B%22%2F%3E%3Crect%20class%3D%22swdrag%20drag%20cursor-sw-resize%22%20data-subplot%3D%22xy%22%20x%3D%2260%22%20y%3D%22305%22%20width%3D%2220%22%20height%3D%2220%22%20style%3D%22fill%3A%20transparent%3B%20stroke-width%3A%200%3B%20pointer-events%3A%20all%3B%22%2F%3E%3Crect%20class%3D%22sedrag%20drag%20cursor-se-resize%22%20data-subplot%3D%22xy%22%20x%3D%22859%22%20y%3D%22305%22%20width%3D%2220%22%20height%3D%2220%22%20style%3D%22fill%3A%20transparent%3B%20stroke-width%3A%200%3B%20pointer-events%3A%20all%3B%22%2F%3E%3Crect%20class%3D%22ewdrag%20drag%20cursor-ew-resize%22%20data-subplot%3D%22xy%22%20x%3D%22157.9%22%20y%3D%22305.5%22%20width%3D%22623.2%22%20height%3D%2220%22%20style%3D%22fill%3A%20transparent%3B%20stroke-width%3A%200%3B%20pointer-events%3A%20all%3B%22%2F%3E%3Crect%20class%3D%22wdrag%20drag%20cursor-w-resize%22%20data-subplot%3D%22xy%22%20x%3D%2280%22%20y%3D%22305.5%22%20width%3D%2277.9%22%20height%3D%2220%22%20style%3D%22fill%3A%20transparent%3B%20stroke-width%3A%200%3B%20pointer-events%3A%20all%3B%22%2F%3E%3Crect%20class%3D%22edrag%20drag%20cursor-e-resize%22%20data-subplot%3D%22xy%22%20x%3D%22781.1%22%20y%3D%22305.5%22%20width%3D%2277.9%22%20height%3D%2220%22%20style%3D%22fill%3A%20transparent%3B%20stroke-width%3A%200%3B%20pointer-events%3A%20all%3B%22%2F%3E%3Crect%20class%3D%22nsdrag%20drag%20cursor-ns-resize%22%20data-subplot%3D%22xy%22%20x%3D%2259.5%22%20y%3D%2257.5%22%20width%3D%2220%22%20height%3D%22220%22%20style%3D%22fill%3A%20transparent%3B%20stroke-width%3A%200%3B%20pointer-events%3A%20all%3B%22%2F%3E%3Crect%20class%3D%22sdrag%20drag%20cursor-s-resize%22%20data-subplot%3D%22xy%22%20x%3D%2259.5%22%20y%3D%22277.5%22%20width%3D%2220%22%20height%3D%2227.5%22%20style%3D%22fill%3A%20transparent%3B%20stroke-width%3A%200%3B%20pointer-events%3A%20all%3B%22%2F%3E%3Crect%20class%3D%22ndrag%20drag%20cursor-n-resize%22%20data-subplot%3D%22xy%22%20x%3D%2259.5%22%20y%3D%2230%22%20width%3D%2220%22%20height%3D%2227.5%22%20style%3D%22fill%3A%20transparent%3B%20stroke-width%3A%200%3B%20pointer-events%3A%20all%3B%22%2F%3E%3C%2Fg%3E%3Cg%20class%3D%22xy2%22%3E%3Crect%20class%3D%22nsdrag%20drag%20cursor-ns-resize%22%20data-subplot%3D%22xy2%22%20x%3D%22859.5%22%20y%3D%2257.5%22%20width%3D%2220%22%20height%3D%22220%22%20style%3D%22fill%3A%20transparent%3B%20stroke-width%3A%200%3B%20pointer-events%3A%20all%3B%22%2F%3E%3Crect%20class%3D%22sdrag%20drag%20cursor-s-resize%22%20data-subplot%3D%22xy2%22%20x%3D%22859.5%22%20y%3D%22277.5%22%20width%3D%2220%22%20height%3D%2227.5%22%20style%3D%22fill%3A%20transparent%3B%20stroke-width%3A%200%3B%20pointer-events%3A%20all%3B%22%2F%3E%3Crect%20class%3D%22ndrag%20drag%20cursor-n-resize%22%20data-subplot%3D%22xy2%22%20x%3D%22859.5%22%20y%3D%2230%22%20width%3D%2220%22%20height%3D%2227.5%22%20style%3D%22fill%3A%20transparent%3B%20stroke-width%3A%200%3B%20pointer-events%3A%20all%3B%22%2F%3E%3C%2Fg%3E%3C%2Fg%3E%3Cg%20class%3D%22layer-below%22%3E%3Cg%20class%3D%22imagelayer%22%2F%3E%3Cg%20class%3D%22shapelayer%22%2F%3E%3C%2Fg%3E%3Cg%20class%3D%22cartesianlayer%22%3E%3Cg%20class%3D%22subplot%20xy%22%3E%3Cg%20class%3D%22layer-subplot%22%3E%3Cg%20class%3D%22shapelayer%22%2F%3E%3Cg%20class%3D%22imagelayer%22%2F%3E%3C%2Fg%3E%3Cg%20class%3D%22gridlayer%22%3E%3Cg%20class%3D%22x%22%3E%3Cpath%20class%3D%22xgrid%20crisp%22%20transform%3D%22translate(122.7%2C0)%22%20d%3D%22M0%2C30v275%22%20style%3D%22stroke%3A%20rgb(0%2C%200%2C%200)%3B%20stroke-opacity%3A%200%3B%20stroke-width%3A%201px%3B%22%2F%3E%3Cpath%20class%3D%22xgrid%20crisp%22%20transform%3D%22translate(151.01%2C0)%22%20d%3D%22M0%2C30v275%22%20style%3D%22stroke%3A%20rgb(0%2C%200%2C%200)%3B%20stroke-opacity%3A%200%3B%20stroke-width%3A%201px%3B%22%2F%3E%3Cpath%20class%3D%22xgrid%20crisp%22%20transform%3D%22translate(179.32%2C0)%22%20d%3D%22M0%2C30v275%22%20style%3D%22stroke%3A%20rgb(0%2C%200%2C%200)%3B%20stroke-opacity%3A%200%3B%20stroke-width%3A%201px%3B%22%2F%3E%3Cpath%20class%3D%22xgrid%20crisp%22%20transform%3D%22translate(207.63%2C0)%22%20d%3D%22M0%2C30v275%22%20style%3D%22stroke%3A%20rgb(0%2C%200%2C%200)%3B%20stroke-opacity%3A%200%3B%20stroke-width%3A%201px%3B%22%2F%3E%3Cpath%20class%3D%22xgrid%20crisp%22%20transform%3D%22translate(235.94%2C0)%22%20d%3D%22M0%2C30v275%22%20style%3D%22stroke%3A%20rgb(0%2C%200%2C%200)%3B%20stroke-opacity%3A%200%3B%20stroke-width%3A%201px%3B%22%2F%3E%3Cpath%20class%3D%22xgrid%20crisp%22%20transform%3D%22translate(264.25%2C0)%22%20d%3D%22M0%2C30v275%22%20style%3D%22stroke%3A%20rgb(0%2C%200%2C%200)%3B%20stroke-opacity%3A%200%3B%20stroke-width%3A%201px%3B%22%2F%3E%3Cpath%20class%3D%22xgrid%20crisp%22%20transform%3D%22translate(292.56%2C0)%22%20d%3D%22M0%2C30v275%22%20style%3D%22stroke%3A%20rgb(0%2C%200%2C%200)%3B%20stroke-opacity%3A%200%3B%20stroke-width%3A%201px%3B%22%2F%3E%3Cpath%20class%3D%22xgrid%20crisp%22%20transform%3D%22translate(320.87%2C0)%22%20d%3D%22M0%2C30v275%22%20style%3D%22stroke%3A%20rgb(0%2C%200%2C%200)%3B%20stroke-opacity%3A%200%3B%20stroke-width%3A%201px%3B%22%2F%3E%3Cpath%20class%3D%22xgrid%20crisp%22%20transform%3D%22translate(349.18%2C0)%22%20d%3D%22M0%2C30v275%22%20style%3D%22stroke%3A%20rgb(0%2C%200%2C%200)%3B%20stroke-opacity%3A%200%3B%20stroke-width%3A%201px%3B%22%2F%3E%3Cpath%20class%3D%22xgrid%20crisp%22%20transform%3D%22translate(377.49%2C0)%22%20d%3D%22M0%2C30v275%22%20style%3D%22stroke%3A%20rgb(0%2C%200%2C%200)%3B%20stroke-opacity%3A%200%3B%20stroke-width%3A%201px%3B%22%2F%3E%3Cpath%20class%3D%22xgrid%20crisp%22%20transform%3D%22translate(405.8%2C0)%22%20d%3D%22M0%2C30v275%22%20style%3D%22stroke%3A%20rgb(0%2C%200%2C%200)%3B%20stroke-opacity%3A%200%3B%20stroke-width%3A%201px%3B%22%2F%3E%3Cpath%20class%3D%22xgrid%20crisp%22%20transform%3D%22translate(434.11%2C0)%22%20d%3D%22M0%2C30v275%22%20style%3D%22stroke%3A%20rgb(0%2C%200%2C%200)%3B%20stroke-opacity%3A%200%3B%20stroke-width%3A%201px%3B%22%2F%3E%3Cpath%20class%3D%22xgrid%20crisp%22%20transform%3D%22translate(462.42%2C0)%22%20d%3D%22M0%2C30v275%22%20style%3D%22stroke%3A%20rgb(0%2C%200%2C%200)%3B%20stroke-opacity%3A%200%3B%20stroke-width%3A%201px%3B%22%2F%3E%3Cpath%20class%3D%22xgrid%20crisp%22%20transform%3D%22translate(490.73%2C0)%22%20d%3D%22M0%2C30v275%22%20style%3D%22stroke%3A%20rgb(0%2C%200%2C%200)%3B%20stroke-opacity%3A%200%3B%20stroke-width%3A%201px%3B%22%2F%3E%3Cpath%20class%3D%22xgrid%20crisp%22%20transform%3D%22translate(519.04%2C0)%22%20d%3D%22M0%2C30v275%22%20style%3D%22stroke%3A%20rgb(0%2C%200%2C%200)%3B%20stroke-opacity%3A%200%3B%20stroke-width%3A%201px%3B%22%2F%3E%3Cpath%20class%3D%22xgrid%20crisp%22%20transform%3D%22translate(547.35%2C0)%22%20d%3D%22M0%2C30v275%22%20style%3D%22stroke%3A%20rgb(0%2C%200%2C%200)%3B%20stroke-opacity%3A%200%3B%20stroke-width%3A%201px%3B%22%2F%3E%3Cpath%20class%3D%22xgrid%20crisp%22%20transform%3D%22translate(575.6600000000001%2C0)%22%20d%3D%22M0%2C30v275%22%20style%3D%22stroke%3A%20rgb(0%2C%200%2C%200)%3B%20stroke-opacity%3A%200%3B%20stroke-width%3A%201px%3B%22%2F%3E%3Cpath%20class%3D%22xgrid%20crisp%22%20transform%3D%22translate(603.97%2C0)%22%20d%3D%22M0%2C30v275%22%20style%3D%22stroke%3A%20rgb(0%2C%200%2C%200)%3B%20stroke-opacity%3A%200%3B%20stroke-width%3A%201px%3B%22%2F%3E%3Cpath%20class%3D%22xgrid%20crisp%22%20transform%3D%22translate(632.28%2C0)%22%20d%3D%22M0%2C30v275%22%20style%3D%22stroke%3A%20rgb(0%2C%200%2C%200)%3B%20stroke-opacity%3A%200%3B%20stroke-width%3A%201px%3B%22%2F%3E%3Cpath%20class%3D%22xgrid%20crisp%22%20transform%3D%22translate(660.59%2C0)%22%20d%3D%22M0%2C30v275%22%20style%3D%22stroke%3A%20rgb(0%2C%200%2C%200)%3B%20stroke-opacity%3A%200%3B%20stroke-width%3A%201px%3B%22%2F%3E%3Cpath%20class%3D%22xgrid%20crisp%22%20transform%3D%22translate(688.9%2C0)%22%20d%3D%22M0%2C30v275%22%20style%3D%22stroke%3A%20rgb(0%2C%200%2C%200)%3B%20stroke-opacity%3A%200%3B%20stroke-width%3A%201px%3B%22%2F%3E%3Cpath%20class%3D%22xgrid%20crisp%22%20transform%3D%22translate(717.21%2C0)%22%20d%3D%22M0%2C30v275%22%20style%3D%22stroke%3A%20rgb(0%2C%200%2C%200)%3B%20stroke-opacity%3A%200%3B%20stroke-width%3A%201px%3B%22%2F%3E%3Cpath%20class%3D%22xgrid%20crisp%22%20transform%3D%22translate(745.52%2C0)%22%20d%3D%22M0%2C30v275%22%20style%3D%22stroke%3A%20rgb(0%2C%200%2C%200)%3B%20stroke-opacity%3A%200%3B%20stroke-width%3A%201px%3B%22%2F%3E%3Cpath%20class%3D%22xgrid%20crisp%22%20transform%3D%22translate(773.83%2C0)%22%20d%3D%22M0%2C30v275%22%20style%3D%22stroke%3A%20rgb(0%2C%200%2C%200)%3B%20stroke-opacity%3A%200%3B%20stroke-width%3A%201px%3B%22%2F%3E%3Cpath%20class%3D%22xgrid%20crisp%22%20transform%3D%22translate(802.14%2C0)%22%20d%3D%22M0%2C30v275%22%20style%3D%22stroke%3A%20rgb(0%2C%200%2C%200)%3B%20stroke-opacity%3A%200%3B%20stroke-width%3A%201px%3B%22%2F%3E%3C%2Fg%3E%3Cg%20class%3D%22y%22%3E%3Cpath%20class%3D%22ygrid%20crisp%22%20transform%3D%22translate(0%2C294.26)%22%20d%3D%22M80%2C0h779%22%20style%3D%22stroke%3A%20rgb(89%2C%2089%2C%2089)%3B%20stroke-opacity%3A%200.25%3B%20stroke-width%3A%201px%3B%22%2F%3E%3Cpath%20class%3D%22ygrid%20crisp%22%20transform%3D%22translate(0%2C228.2)%22%20d%3D%22M80%2C0h779%22%20style%3D%22stroke%3A%20rgb(89%2C%2089%2C%2089)%3B%20stroke-opacity%3A%200.25%3B%20stroke-width%3A%201px%3B%22%2F%3E%3Cpath%20class%3D%22ygrid%20crisp%22%20transform%3D%22translate(0%2C162.13)%22%20d%3D%22M80%2C0h779%22%20style%3D%22stroke%3A%20rgb(89%2C%2089%2C%2089)%3B%20stroke-opacity%3A%200.25%3B%20stroke-width%3A%201px%3B%22%2F%3E%3Cpath%20class%3D%22ygrid%20crisp%22%20transform%3D%22translate(0%2C96.07)%22%20d%3D%22M80%2C0h779%22%20style%3D%22stroke%3A%20rgb(89%2C%2089%2C%2089)%3B%20stroke-opacity%3A%200.25%3B%20stroke-width%3A%201px%3B%22%2F%3E%3C%2Fg%3E%3Cg%20class%3D%22y2%22%3E%3Cpath%20class%3D%22y2grid%20crisp%22%20transform%3D%22translate(0%2C266.06)%22%20d%3D%22M80%2C0h779%22%20style%3D%22stroke%3A%20rgb(238%2C%20238%2C%20238)%3B%20stroke-opacity%3A%201%3B%20stroke-width%3A%201px%3B%22%2F%3E%3Cpath%20class%3D%22y2grid%20crisp%22%20transform%3D%22translate(0%2C219.02)%22%20d%3D%22M80%2C0h779%22%20style%3D%22stroke%3A%20rgb(238%2C%20238%2C%20238)%3B%20stroke-opacity%3A%201%3B%20stroke-width%3A%201px%3B%22%2F%3E%3Cpath%20class%3D%22y2grid%20crisp%22%20transform%3D%22translate(0%2C171.98)%22%20d%3D%22M80%2C0h779%22%20style%3D%22stroke%3A%20rgb(238%2C%20238%2C%20238)%3B%20stroke-opacity%3A%201%3B%20stroke-width%3A%201px%3B%22%2F%3E%3Cpath%20class%3D%22y2grid%20crisp%22%20transform%3D%22translate(0%2C124.93)%22%20d%3D%22M80%2C0h779%22%20style%3D%22stroke%3A%20rgb(238%2C%20238%2C%20238)%3B%20stroke-opacity%3A%201%3B%20stroke-width%3A%201px%3B%22%2F%3E%3Cpath%20class%3D%22y2grid%20crisp%22%20transform%3D%22translate(0%2C77.89)%22%20d%3D%22M80%2C0h779%22%20style%3D%22stroke%3A%20rgb(238%2C%20238%2C%20238)%3B%20stroke-opacity%3A%201%3B%20stroke-width%3A%201px%3B%22%2F%3E%3C%2Fg%3E%3C%2Fg%3E%3Cg%20class%3D%22zerolinelayer%22%3E%3Cpath%20class%3D%22yzl%20zl%20crisp%22%20transform%3D%22translate(0%2C30)%22%20d%3D%22M80%2C0h779%22%20style%3D%22stroke%3A%20rgb(89%2C%2089%2C%2089)%3B%20stroke-opacity%3A%200.5%3B%20stroke-width%3A%201px%3B%22%2F%3E%3Cpath%20class%3D%22y2zl%20zl%20crisp%22%20transform%3D%22translate(0%2C30.85)%22%20d%3D%22M80%2C0h779%22%20style%3D%22stroke%3A%20rgb(68%2C%2068%2C%2068)%3B%20stroke-opacity%3A%201%3B%20stroke-width%3A%201px%3B%22%2F%3E%3C%2Fg%3E%3Cpath%20class%3D%22xlines-below%22%2F%3E%3Cpath%20class%3D%22ylines-below%22%2F%3E%3Cg%20class%3D%22overlines-below%22%3E%3Cpath%20class%3D%22xy2-x%22%2F%3E%3Cpath%20class%3D%22xy2-y%22%2F%3E%3C%2Fg%3E%3Cg%20class%3D%22xaxislayer-below%22%2F%3E%3Cg%20class%3D%22yaxislayer-below%22%2F%3E%3Cg%20class%3D%22overaxes-below%22%3E%3Cg%20class%3D%22xy2-x%22%2F%3E%3Cg%20class%3D%22xy2-y%22%2F%3E%3C%2Fg%3E%3Cg%20class%3D%22plot%22%20transform%3D%22translate(80%2C30)%22%20clip-path%3D%22url('%23clipa3282axyplot')%22%3E%3Cg%20class%3D%22barlayer%20mlayer%22%3E%3Cg%20class%3D%22trace%20bars%22%20style%3D%22opacity%3A%201%3B%22%3E%3Cg%20class%3D%22points%22%3E%3Cg%20class%3D%22point%22%3E%3Cpath%20d%3D%22M37.04%2C0V121.76H48.36V0Z%22%20style%3D%22vector-effect%3A%20non-scaling-stroke%3B%20opacity%3A%201%3B%20stroke-width%3A%200px%3B%20fill%3A%20rgb(78%2C%20121%2C%20167)%3B%20fill-opacity%3A%201%3B%22%2F%3E%3C%2Fg%3E%3Cg%20class%3D%22point%22%3E%3Cpath%20d%3D%22M51.19%2C0V32.8H62.52V0Z%22%20style%3D%22vector-effect%3A%20non-scaling-stroke%3B%20opacity%3A%201%3B%20stroke-width%3A%200px%3B%20fill%3A%20rgb(78%2C%20121%2C%20167)%3B%20fill-opacity%3A%201%3B%22%2F%3E%3C%2Fg%3E%3Cg%20class%3D%22point%22%3E%3Cpath%20d%3D%22M65.35%2C0V23.44H76.67V0Z%22%20style%3D%22vector-effect%3A%20non-scaling-stroke%3B%20opacity%3A%201%3B%20stroke-width%3A%200px%3B%20fill%3A%20rgb(78%2C%20121%2C%20167)%3B%20fill-opacity%3A%201%3B%22%2F%3E%3C%2Fg%3E%3Cg%20class%3D%22point%22%3E%3Cpath%20d%3D%22M79.5%2C0V40.83H90.83V0Z%22%20style%3D%22vector-effect%3A%20non-scaling-stroke%3B%20opacity%3A%201%3B%20stroke-width%3A%200px%3B%20fill%3A%20rgb(78%2C%20121%2C%20167)%3B%20fill-opacity%3A%201%3B%22%2F%3E%3C%2Fg%3E%3Cg%20class%3D%22point%22%3E%3Cpath%20d%3D%22M93.66%2C0V43.76H104.98V0Z%22%20style%3D%22vector-effect%3A%20non-scaling-stroke%3B%20opacity%3A%201%3B%20stroke-width%3A%200px%3B%20fill%3A%20rgb(78%2C%20121%2C%20167)%3B%20fill-opacity%3A%201%3B%22%2F%3E%3C%2Fg%3E%3Cg%20class%3D%22point%22%3E%3Cpath%20d%3D%22M107.81%2C0V24.59H119.14V0Z%22%20style%3D%22vector-effect%3A%20non-scaling-stroke%3B%20opacity%3A%201%3B%20stroke-width%3A%200px%3B%20fill%3A%20rgb(78%2C%20121%2C%20167)%3B%20fill-opacity%3A%201%3B%22%2F%3E%3C%2Fg%3E%3Cg%20class%3D%22point%22%3E%3Cpath%20d%3D%22M121.97%2C0V196.58H133.29V0Z%22%20style%3D%22vector-effect%3A%20non-scaling-stroke%3B%20opacity%3A%201%3B%20stroke-width%3A%200px%3B%20fill%3A%20rgb(78%2C%20121%2C%20167)%3B%20fill-opacity%3A%201%3B%22%2F%3E%3C%2Fg%3E%3Cg%20class%3D%22point%22%3E%3Cpath%20d%3D%22M136.12%2C0V24.76H147.45V0Z%22%20style%3D%22vector-effect%3A%20non-scaling-stroke%3B%20opacity%3A%201%3B%20stroke-width%3A%200px%3B%20fill%3A%20rgb(78%2C%20121%2C%20167)%3B%20fill-opacity%3A%201%3B%22%2F%3E%3C%2Fg%3E%3Cg%20class%3D%22point%22%3E%3Cpath%20d%3D%22M150.28%2C0V31.17H161.6V0Z%22%20style%3D%22vector-effect%3A%20non-scaling-stroke%3B%20opacity%3A%201%3B%20stroke-width%3A%200px%3B%20fill%3A%20rgb(78%2C%20121%2C%20167)%3B%20fill-opacity%3A%201%3B%22%2F%3E%3C%2Fg%3E%3Cg%20class%3D%22point%22%3E%3Cpath%20d%3D%22M164.43%2C0V21.07H175.76V0Z%22%20style%3D%22vector-effect%3A%20non-scaling-stroke%3B%20opacity%3A%201%3B%20stroke-width%3A%200px%3B%20fill%3A%20rgb(78%2C%20121%2C%20167)%3B%20fill-opacity%3A%201%3B%22%2F%3E%3C%2Fg%3E%3Cg%20class%3D%22point%22%3E%3Cpath%20d%3D%22M178.59%2C0V22.92H189.91V0Z%22%20style%3D%22vector-effect%3A%20non-scaling-stroke%3B%20opacity%3A%201%3B%20stroke-width%3A%200px%3B%20fill%3A%20rgb(78%2C%20121%2C%20167)%3B%20fill-opacity%3A%201%3B%22%2F%3E%3C%2Fg%3E%3Cg%20class%3D%22point%22%3E%3Cpath%20d%3D%22M192.74%2C0V24.64H204.07V0Z%22%20style%3D%22vector-effect%3A%20non-scaling-stroke%3B%20opacity%3A%201%3B%20stroke-width%3A%200px%3B%20fill%3A%20rgb(78%2C%20121%2C%20167)%3B%20fill-opacity%3A%201%3B%22%2F%3E%3C%2Fg%3E%3Cg%20class%3D%22point%22%3E%3Cpath%20d%3D%22M206.9%2C0V33.35H218.22V0Z%22%20style%3D%22vector-effect%3A%20non-scaling-stroke%3B%20opacity%3A%201%3B%20stroke-width%3A%200px%3B%20fill%3A%20rgb(78%2C%20121%2C%20167)%3B%20fill-opacity%3A%201%3B%22%2F%3E%3C%2Fg%3E%3Cg%20class%3D%22point%22%3E%3Cpath%20d%3D%22M221.05%2C0V22.63H232.38V0Z%22%20style%3D%22vector-effect%3A%20non-scaling-stroke%3B%20opacity%3A%201%3B%20stroke-width%3A%200px%3B%20fill%3A%20rgb(78%2C%20121%2C%20167)%3B%20fill-opacity%3A%201%3B%22%2F%3E%3C%2Fg%3E%3Cg%20class%3D%22point%22%3E%3Cpath%20d%3D%22M235.21%2C0V142.17H246.53V0Z%22%20style%3D%22vector-effect%3A%20non-scaling-stroke%3B%20opacity%3A%201%3B%20stroke-width%3A%200px%3B%20fill%3A%20rgb(78%2C%20121%2C%20167)%3B%20fill-opacity%3A%201%3B%22%2F%3E%3C%2Fg%3E%3Cg%20class%3D%22point%22%3E%3Cpath%20d%3D%22M249.36%2C0V18.1H260.69V0Z%22%20style%3D%22vector-effect%3A%20non-scaling-stroke%3B%20opacity%3A%201%3B%20stroke-width%3A%200px%3B%20fill%3A%20rgb(78%2C%20121%2C%20167)%3B%20fill-opacity%3A%201%3B%22%2F%3E%3C%2Fg%3E%3Cg%20class%3D%22point%22%3E%3Cpath%20d%3D%22M263.52%2C0V48.38H274.84V0Z%22%20style%3D%22vector-effect%3A%20non-scaling-stroke%3B%20opacity%3A%201%3B%20stroke-width%3A%200px%3B%20fill%3A%20rgb(78%2C%20121%2C%20167)%3B%20fill-opacity%3A%201%3B%22%2F%3E%3C%2Fg%3E%3Cg%20class%3D%22point%22%3E%3Cpath%20d%3D%22M277.67%2C0V26.42H289V0Z%22%20style%3D%22vector-effect%3A%20non-scaling-stroke%3B%20opacity%3A%201%3B%20stroke-width%3A%200px%3B%20fill%3A%20rgb(78%2C%20121%2C%20167)%3B%20fill-opacity%3A%201%3B%22%2F%3E%3C%2Fg%3E%3Cg%20class%3D%22point%22%3E%3Cpath%20d%3D%22M291.83%2C0V50.77H303.15V0Z%22%20style%3D%22vector-effect%3A%20non-scaling-stroke%3B%20opacity%3A%201%3B%20stroke-width%3A%200px%3B%20fill%3A%20rgb(78%2C%20121%2C%20167)%3B%20fill-opacity%3A%201%3B%22%2F%3E%3C%2Fg%3E%3Cg%20class%3D%22point%22%3E%3Cpath%20d%3D%22M305.98%2C0V28.33H317.31V0Z%22%20style%3D%22vector-effect%3A%20non-scaling-stroke%3B%20opacity%3A%201%3B%20stroke-width%3A%200px%3B%20fill%3A%20rgb(78%2C%20121%2C%20167)%3B%20fill-opacity%3A%201%3B%22%2F%3E%3C%2Fg%3E%3Cg%20class%3D%22point%22%3E%3Cpath%20d%3D%22M320.14%2C0V34H331.46V0Z%22%20style%3D%22vector-effect%3A%20non-scaling-stroke%3B%20opacity%3A%201%3B%20stroke-width%3A%200px%3B%20fill%3A%20rgb(78%2C%20121%2C%20167)%3B%20fill-opacity%3A%201%3B%22%2F%3E%3C%2Fg%3E%3Cg%20class%3D%22point%22%3E%3Cpath%20d%3D%22M334.3%2C0V25.17H345.62V0Z%22%20style%3D%22vector-effect%3A%20non-scaling-stroke%3B%20opacity%3A%201%3B%20stroke-width%3A%200px%3B%20fill%3A%20rgb(78%2C%20121%2C%20167)%3B%20fill-opacity%3A%201%3B%22%2F%3E%3C%2Fg%3E%3Cg%20class%3D%22point%22%3E%3Cpath%20d%3D%22M348.45%2C0V48.8H359.77V0Z%22%20style%3D%22vector-effect%3A%20non-scaling-stroke%3B%20opacity%3A%201%3B%20stroke-width%3A%200px%3B%20fill%3A%20rgb(78%2C%20121%2C%20167)%3B%20fill-opacity%3A%201%3B%22%2F%3E%3C%2Fg%3E%3Cg%20class%3D%22point%22%3E%3Cpath%20d%3D%22M362.61%2C0V24.02H373.93V0Z%22%20style%3D%22vector-effect%3A%20non-scaling-stroke%3B%20opacity%3A%201%3B%20stroke-width%3A%200px%3B%20fill%3A%20rgb(78%2C%20121%2C%20167)%3B%20fill-opacity%3A%201%3B%22%2F%3E%3C%2Fg%3E%3Cg%20class%3D%22point%22%3E%3Cpath%20d%3D%22M376.76%2C0V37.84H388.08V0Z%22%20style%3D%22vector-effect%3A%20non-scaling-stroke%3B%20opacity%3A%201%3B%20stroke-width%3A%200px%3B%20fill%3A%20rgb(78%2C%20121%2C%20167)%3B%20fill-opacity%3A%201%3B%22%2F%3E%3C%2Fg%3E%3Cg%20class%3D%22point%22%3E%3Cpath%20d%3D%22M390.92%2C0V24.45H402.24V0Z%22%20style%3D%22vector-effect%3A%20non-scaling-stroke%3B%20opacity%3A%201%3B%20stroke-width%3A%200px%3B%20fill%3A%20rgb(78%2C%20121%2C%20167)%3B%20fill-opacity%3A%201%3B%22%2F%3E%3C%2Fg%3E%3Cg%20class%3D%22point%22%3E%3Cpath%20d%3D%22M405.07%2C0V41.84H416.39V0Z%22%20style%3D%22vector-effect%3A%20non-scaling-stroke%3B%20opacity%3A%201%3B%20stroke-width%3A%200px%3B%20fill%3A%20rgb(78%2C%20121%2C%20167)%3B%20fill-opacity%3A%201%3B%22%2F%3E%3C%2Fg%3E%3Cg%20class%3D%22point%22%3E%3Cpath%20d%3D%22M419.23%2C0V209.43H430.55V0Z%22%20style%3D%22vector-effect%3A%20non-scaling-stroke%3B%20opacity%3A%201%3B%20stroke-width%3A%200px%3B%20fill%3A%20rgb(78%2C%20121%2C%20167)%3B%20fill-opacity%3A%201%3B%22%2F%3E%3C%2Fg%3E%3Cg%20class%3D%22point%22%3E%3Cpath%20d%3D%22M433.38%2C0V23.51H444.7V0Z%22%20style%3D%22vector-effect%3A%20non-scaling-stroke%3B%20opacity%3A%201%3B%20stroke-width%3A%200px%3B%20fill%3A%20rgb(78%2C%20121%2C%20167)%3B%20fill-opacity%3A%201%3B%22%2F%3E%3C%2Fg%3E%3Cg%20class%3D%22point%22%3E%3Cpath%20d%3D%22M447.54%2C0V37.49H458.86V0Z%22%20style%3D%22vector-effect%3A%20non-scaling-stroke%3B%20opacity%3A%201%3B%20stroke-width%3A%200px%3B%20fill%3A%20rgb(78%2C%20121%2C%20167)%3B%20fill-opacity%3A%201%3B%22%2F%3E%3C%2Fg%3E%3Cg%20class%3D%22point%22%3E%3Cpath%20d%3D%22M461.69%2C0V31.08H473.02V0Z%22%20style%3D%22vector-effect%3A%20non-scaling-stroke%3B%20opacity%3A%201%3B%20stroke-width%3A%200px%3B%20fill%3A%20rgb(78%2C%20121%2C%20167)%3B%20fill-opacity%3A%201%3B%22%2F%3E%3C%2Fg%3E%3Cg%20class%3D%22point%22%3E%3Cpath%20d%3D%22M475.85%2C0V24.19H487.17V0Z%22%20style%3D%22vector-effect%3A%20non-scaling-stroke%3B%20opacity%3A%201%3B%20stroke-width%3A%200px%3B%20fill%3A%20rgb(78%2C%20121%2C%20167)%3B%20fill-opacity%3A%201%3B%22%2F%3E%3C%2Fg%3E%3Cg%20class%3D%22point%22%3E%3Cpath%20d%3D%22M490%2C0V62.35H501.33V0Z%22%20style%3D%22vector-effect%3A%20non-scaling-stroke%3B%20opacity%3A%201%3B%20stroke-width%3A%200px%3B%20fill%3A%20rgb(78%2C%20121%2C%20167)%3B%20fill-opacity%3A%201%3B%22%2F%3E%3C%2Fg%3E%3Cg%20class%3D%22point%22%3E%3Cpath%20d%3D%22M504.16%2C0V29.75H515.48V0Z%22%20style%3D%22vector-effect%3A%20non-scaling-stroke%3B%20opacity%3A%201%3B%20stroke-width%3A%200px%3B%20fill%3A%20rgb(78%2C%20121%2C%20167)%3B%20fill-opacity%3A%201%3B%22%2F%3E%3C%2Fg%3E%3Cg%20class%3D%22point%22%3E%3Cpath%20d%3D%22M518.31%2C0V28.97H529.64V0Z%22%20style%3D%22vector-effect%3A%20non-scaling-stroke%3B%20opacity%3A%201%3B%20stroke-width%3A%200px%3B%20fill%3A%20rgb(78%2C%20121%2C%20167)%3B%20fill-opacity%3A%201%3B%22%2F%3E%3C%2Fg%3E%3Cg%20class%3D%22point%22%3E%3Cpath%20d%3D%22M532.47%2C0V27.3H543.79V0Z%22%20style%3D%22vector-effect%3A%20non-scaling-stroke%3B%20opacity%3A%201%3B%20stroke-width%3A%200px%3B%20fill%3A%20rgb(78%2C%20121%2C%20167)%3B%20fill-opacity%3A%201%3B%22%2F%3E%3C%2Fg%3E%3Cg%20class%3D%22point%22%3E%3Cpath%20d%3D%22M546.62%2C0V29.57H557.95V0Z%22%20style%3D%22vector-effect%3A%20non-scaling-stroke%3B%20opacity%3A%201%3B%20stroke-width%3A%200px%3B%20fill%3A%20rgb(78%2C%20121%2C%20167)%3B%20fill-opacity%3A%201%3B%22%2F%3E%3C%2Fg%3E%3Cg%20class%3D%22point%22%3E%3Cpath%20d%3D%22M560.78%2C0V15.12H572.1V0Z%22%20style%3D%22vector-effect%3A%20non-scaling-stroke%3B%20opacity%3A%201%3B%20stroke-width%3A%200px%3B%20fill%3A%20rgb(78%2C%20121%2C%20167)%3B%20fill-opacity%3A%201%3B%22%2F%3E%3C%2Fg%3E%3Cg%20class%3D%22point%22%3E%3Cpath%20d%3D%22M574.93%2C0V211.44H586.26V0Z%22%20style%3D%22vector-effect%3A%20non-scaling-stroke%3B%20opacity%3A%201%3B%20stroke-width%3A%200px%3B%20fill%3A%20rgb(78%2C%20121%2C%20167)%3B%20fill-opacity%3A%201%3B%22%2F%3E%3C%2Fg%3E%3Cg%20class%3D%22point%22%3E%3Cpath%20d%3D%22M589.09%2C0V18.24H600.41V0Z%22%20style%3D%22vector-effect%3A%20non-scaling-stroke%3B%20opacity%3A%201%3B%20stroke-width%3A%200px%3B%20fill%3A%20rgb(78%2C%20121%2C%20167)%3B%20fill-opacity%3A%201%3B%22%2F%3E%3C%2Fg%3E%3Cg%20class%3D%22point%22%3E%3Cpath%20d%3D%22M603.24%2C0V40.18H614.57V0Z%22%20style%3D%22vector-effect%3A%20non-scaling-stroke%3B%20opacity%3A%201%3B%20stroke-width%3A%200px%3B%20fill%3A%20rgb(78%2C%20121%2C%20167)%3B%20fill-opacity%3A%201%3B%22%2F%3E%3C%2Fg%3E%3Cg%20class%3D%22point%22%3E%3Cpath%20d%3D%22M617.4%2C0V156.05H628.72V0Z%22%20style%3D%22vector-effect%3A%20non-scaling-stroke%3B%20opacity%3A%201%3B%20stroke-width%3A%200px%3B%20fill%3A%20rgb(78%2C%20121%2C%20167)%3B%20fill-opacity%3A%201%3B%22%2F%3E%3C%2Fg%3E%3Cg%20class%3D%22point%22%3E%3Cpath%20d%3D%22M631.55%2C0V34.37H642.88V0Z%22%20style%3D%22vector-effect%3A%20non-scaling-stroke%3B%20opacity%3A%201%3B%20stroke-width%3A%200px%3B%20fill%3A%20rgb(78%2C%20121%2C%20167)%3B%20fill-opacity%3A%201%3B%22%2F%3E%3C%2Fg%3E%3Cg%20class%3D%22point%22%3E%3Cpath%20d%3D%22M645.71%2C0V241.69H657.03V0Z%22%20style%3D%22vector-effect%3A%20non-scaling-stroke%3B%20opacity%3A%201%3B%20stroke-width%3A%200px%3B%20fill%3A%20rgb(78%2C%20121%2C%20167)%3B%20fill-opacity%3A%201%3B%22%2F%3E%3C%2Fg%3E%3Cg%20class%3D%22point%22%3E%3Cpath%20d%3D%22M659.86%2C0V261.25H671.19V0Z%22%20style%3D%22vector-effect%3A%20non-scaling-stroke%3B%20opacity%3A%201%3B%20stroke-width%3A%200px%3B%20fill%3A%20rgb(78%2C%20121%2C%20167)%3B%20fill-opacity%3A%201%3B%22%2F%3E%3C%2Fg%3E%3Cg%20class%3D%22point%22%3E%3Cpath%20d%3D%22M674.02%2C0V31.12H685.34V0Z%22%20style%3D%22vector-effect%3A%20non-scaling-stroke%3B%20opacity%3A%201%3B%20stroke-width%3A%200px%3B%20fill%3A%20rgb(78%2C%20121%2C%20167)%3B%20fill-opacity%3A%201%3B%22%2F%3E%3C%2Fg%3E%3Cg%20class%3D%22point%22%3E%3Cpath%20d%3D%22M688.17%2C0V30.28H699.5V0Z%22%20style%3D%22vector-effect%3A%20non-scaling-stroke%3B%20opacity%3A%201%3B%20stroke-width%3A%200px%3B%20fill%3A%20rgb(78%2C%20121%2C%20167)%3B%20fill-opacity%3A%201%3B%22%2F%3E%3C%2Fg%3E%3Cg%20class%3D%22point%22%3E%3Cpath%20d%3D%22M702.33%2C0V19.06H713.65V0Z%22%20style%3D%22vector-effect%3A%20non-scaling-stroke%3B%20opacity%3A%201%3B%20stroke-width%3A%200px%3B%20fill%3A%20rgb(78%2C%20121%2C%20167)%3B%20fill-opacity%3A%201%3B%22%2F%3E%3C%2Fg%3E%3Cg%20class%3D%22point%22%3E%3Cpath%20d%3D%22M716.48%2C0V207.94H727.81V0Z%22%20style%3D%22vector-effect%3A%20non-scaling-stroke%3B%20opacity%3A%201%3B%20stroke-width%3A%200px%3B%20fill%3A%20rgb(78%2C%20121%2C%20167)%3B%20fill-opacity%3A%201%3B%22%2F%3E%3C%2Fg%3E%3Cg%20class%3D%22point%22%3E%3Cpath%20d%3D%22M730.64%2C0V177.46H741.96V0Z%22%20style%3D%22vector-effect%3A%20non-scaling-stroke%3B%20opacity%3A%201%3B%20stroke-width%3A%200px%3B%20fill%3A%20rgb(78%2C%20121%2C%20167)%3B%20fill-opacity%3A%201%3B%22%2F%3E%3C%2Fg%3E%3C%2Fg%3E%3C%2Fg%3E%3C%2Fg%3E%3C%2Fg%3E%3Cg%20class%3D%22overplot%22%3E%3Cg%20class%3D%22xy2%22%20transform%3D%22translate(80%2C30)%22%20clip-path%3D%22url('%23clipa3282axy2plot')%22%3E%3Cg%20class%3D%22scatterlayer%20mlayer%22%3E%3Cg%20class%3D%22trace%20scatter%20trace795e36%22%20style%3D%22stroke-miterlimit%3A%202%3B%20opacity%3A%201%3B%22%3E%3Cg%20class%3D%22fills%22%2F%3E%3Cg%20class%3D%22errorbars%22%2F%3E%3Cg%20class%3D%22lines%22%3E%3Cpath%20class%3D%22js-line%22%20d%3D%22M42.7%2C109.78L56.86%2C40.54L71.01%2C20.68L85.17%2C44.35L99.32%2C46.77L113.48%2C20.16L127.63%2C220.18L141.79%2C25.13L155.94%2C26.02L170.1%2C20.18L184.25%2C19.41L198.41%2C21.38L212.56%2C29.88L226.72%2C19.85L240.87%2C118.62L255.03%2C17.5L269.18%2C48.69L283.34%2C28.88L297.49%2C56.62L311.65%2C39.75L325.8%2C37.71L339.96%2C28.59L354.11%2C84.3L368.27%2C20.35L382.42%2C38.45L396.58%2C22.63L410.73%2C42.14L424.89%2C239.08L439.04%2C20.96L453.2%2C32.98L467.35%2C42.53L481.51%2C27.84L495.66%2C62.91L509.82%2C30.19L523.97%2C24.46L538.13%2C33.37L552.28%2C27.5L566.44%2C18.27L580.59%2C201.29L594.75%2C87.76L608.9%2C43.75L623.06%2C148.22L637.21%2C31.43L651.37%2C208.68L665.52%2C257.5L679.68%2C27.39L693.83%2C36.44L707.99%2C20.79L722.14%2C180.84L736.3%2C205.01%22%20style%3D%22vector-effect%3A%20non-scaling-stroke%3B%20fill%3A%20none%3B%20stroke%3A%20rgb(242%2C%20142%2C%2044)%3B%20stroke-opacity%3A%201%3B%20stroke-width%3A%202px%3B%20opacity%3A%201%3B%22%2F%3E%3C%2Fg%3E%3Cg%20class%3D%22points%22%3E%3Cpath%20class%3D%22point%22%20transform%3D%22translate(42.7%2C109.78)%22%20d%3D%22M3%2C0A3%2C3%200%201%2C1%200%2C-3A3%2C3%200%200%2C1%203%2C0Z%22%20style%3D%22opacity%3A%201%3B%20stroke-width%3A%200px%3B%20fill%3A%20rgb(242%2C%20142%2C%2044)%3B%20fill-opacity%3A%201%3B%22%2F%3E%3Cpath%20class%3D%22point%22%20transform%3D%22translate(56.86%2C40.54)%22%20d%3D%22M3%2C0A3%2C3%200%201%2C1%200%2C-3A3%2C3%200%200%2C1%203%2C0Z%22%20style%3D%22opacity%3A%201%3B%20stroke-width%3A%200px%3B%20fill%3A%20rgb(242%2C%20142%2C%2044)%3B%20fill-opacity%3A%201%3B%22%2F%3E%3Cpath%20class%3D%22point%22%20transform%3D%22translate(71.01%2C20.68)%22%20d%3D%22M3%2C0A3%2C3%200%201%2C1%200%2C-3A3%2C3%200%200%2C1%203%2C0Z%22%20style%3D%22opacity%3A%201%3B%20stroke-width%3A%200px%3B%20fill%3A%20rgb(242%2C%20142%2C%2044)%3B%20fill-opacity%3A%201%3B%22%2F%3E%3Cpath%20class%3D%22point%22%20transform%3D%22translate(85.17%2C44.35)%22%20d%3D%22M3%2C0A3%2C3%200%201%2C1%200%2C-3A3%2C3%200%200%2C1%203%2C0Z%22%20style%3D%22opacity%3A%201%3B%20stroke-width%3A%200px%3B%20fill%3A%20rgb(242%2C%20142%2C%2044)%3B%20fill-opacity%3A%201%3B%22%2F%3E%3Cpath%20class%3D%22point%22%20transform%3D%22translate(99.32%2C46.77)%22%20d%3D%22M3%2C0A3%2C3%200%201%2C1%200%2C-3A3%2C3%200%200%2C1%203%2C0Z%22%20style%3D%22opacity%3A%201%3B%20stroke-width%3A%200px%3B%20fill%3A%20rgb(242%2C%20142%2C%2044)%3B%20fill-opacity%3A%201%3B%22%2F%3E%3Cpath%20class%3D%22point%22%20transform%3D%22translate(113.48%2C20.16)%22%20d%3D%22M3%2C0A3%2C3%200%201%2C1%200%2C-3A3%2C3%200%200%2C1%203%2C0Z%22%20style%3D%22opacity%3A%201%3B%20stroke-width%3A%200px%3B%20fill%3A%20rgb(242%2C%20142%2C%2044)%3B%20fill-opacity%3A%201%3B%22%2F%3E%3Cpath%20class%3D%22point%22%20transform%3D%22translate(127.63%2C220.18)%22%20d%3D%22M3%2C0A3%2C3%200%201%2C1%200%2C-3A3%2C3%200%200%2C1%203%2C0Z%22%20style%3D%22opacity%3A%201%3B%20stroke-width%3A%200px%3B%20fill%3A%20rgb(242%2C%20142%2C%2044)%3B%20fill-opacity%3A%201%3B%22%2F%3E%3Cpath%20class%3D%22point%22%20transform%3D%22translate(141.79%2C25.13)%22%20d%3D%22M3%2C0A3%2C3%200%201%2C1%200%2C-3A3%2C3%200%200%2C1%203%2C0Z%22%20style%3D%22opacity%3A%201%3B%20stroke-width%3A%200px%3B%20fill%3A%20rgb(242%2C%20142%2C%2044)%3B%20fill-opacity%3A%201%3B%22%2F%3E%3Cpath%20class%3D%22point%22%20transform%3D%22translate(155.94%2C26.02)%22%20d%3D%22M3%2C0A3%2C3%200%201%2C1%200%2C-3A3%2C3%200%200%2C1%203%2C0Z%22%20style%3D%22opacity%3A%201%3B%20stroke-width%3A%200px%3B%20fill%3A%20rgb(242%2C%20142%2C%2044)%3B%20fill-opacity%3A%201%3B%22%2F%3E%3Cpath%20class%3D%22point%22%20transform%3D%22translate(170.1%2C20.18)%22%20d%3D%22M3%2C0A3%2C3%200%201%2C1%200%2C-3A3%2C3%200%200%2C1%203%2C0Z%22%20style%3D%22opacity%3A%201%3B%20stroke-width%3A%200px%3B%20fill%3A%20rgb(242%2C%20142%2C%2044)%3B%20fill-opacity%3A%201%3B%22%2F%3E%3Cpath%20class%3D%22point%22%20transform%3D%22translate(184.25%2C19.41)%22%20d%3D%22M3%2C0A3%2C3%200%201%2C1%200%2C-3A3%2C3%200%200%2C1%203%2C0Z%22%20style%3D%22opacity%3A%201%3B%20stroke-width%3A%200px%3B%20fill%3A%20rgb(242%2C%20142%2C%2044)%3B%20fill-opacity%3A%201%3B%22%2F%3E%3Cpath%20class%3D%22point%22%20transform%3D%22translate(198.41%2C21.38)%22%20d%3D%22M3%2C0A3%2C3%200%201%2C1%200%2C-3A3%2C3%200%200%2C1%203%2C0Z%22%20style%3D%22opacity%3A%201%3B%20stroke-width%3A%200px%3B%20fill%3A%20rgb(242%2C%20142%2C%2044)%3B%20fill-opacity%3A%201%3B%22%2F%3E%3Cpath%20class%3D%22point%22%20transform%3D%22translate(212.56%2C29.88)%22%20d%3D%22M3%2C0A3%2C3%200%201%2C1%200%2C-3A3%2C3%200%200%2C1%203%2C0Z%22%20style%3D%22opacity%3A%201%3B%20stroke-width%3A%200px%3B%20fill%3A%20rgb(242%2C%20142%2C%2044)%3B%20fill-opacity%3A%201%3B%22%2F%3E%3Cpath%20class%3D%22point%22%20transform%3D%22translate(226.72%2C19.85)%22%20d%3D%22M3%2C0A3%2C3%200%201%2C1%200%2C-3A3%2C3%200%200%2C1%203%2C0Z%22%20style%3D%22opacity%3A%201%3B%20stroke-width%3A%200px%3B%20fill%3A%20rgb(242%2C%20142%2C%2044)%3B%20fill-opacity%3A%201%3B%22%2F%3E%3Cpath%20class%3D%22point%22%20transform%3D%22translate(240.87%2C118.62)%22%20d%3D%22M3%2C0A3%2C3%200%201%2C1%200%2C-3A3%2C3%200%200%2C1%203%2C0Z%22%20style%3D%22opacity%3A%201%3B%20stroke-width%3A%200px%3B%20fill%3A%20rgb(242%2C%20142%2C%2044)%3B%20fill-opacity%3A%201%3B%22%2F%3E%3Cpath%20class%3D%22point%22%20transform%3D%22translate(255.03%2C17.5)%22%20d%3D%22M3%2C0A3%2C3%200%201%2C1%200%2C-3A3%2C3%200%200%2C1%203%2C0Z%22%20style%3D%22opacity%3A%201%3B%20stroke-width%3A%200px%3B%20fill%3A%20rgb(242%2C%20142%2C%2044)%3B%20fill-opacity%3A%201%3B%22%2F%3E%3Cpath%20class%3D%22point%22%20transform%3D%22translate(269.18%2C48.69)%22%20d%3D%22M3%2C0A3%2C3%200%201%2C1%200%2C-3A3%2C3%200%200%2C1%203%2C0Z%22%20style%3D%22opacity%3A%201%3B%20stroke-width%3A%200px%3B%20fill%3A%20rgb(242%2C%20142%2C%2044)%3B%20fill-opacity%3A%201%3B%22%2F%3E%3Cpath%20class%3D%22point%22%20transform%3D%22translate(283.34%2C28.88)%22%20d%3D%22M3%2C0A3%2C3%200%201%2C1%200%2C-3A3%2C3%200%200%2C1%203%2C0Z%22%20style%3D%22opacity%3A%201%3B%20stroke-width%3A%200px%3B%20fill%3A%20rgb(242%2C%20142%2C%2044)%3B%20fill-opacity%3A%201%3B%22%2F%3E%3Cpath%20class%3D%22point%22%20transform%3D%22translate(297.49%2C56.62)%22%20d%3D%22M3%2C0A3%2C3%200%201%2C1%200%2C-3A3%2C3%200%200%2C1%203%2C0Z%22%20style%3D%22opacity%3A%201%3B%20stroke-width%3A%200px%3B%20fill%3A%20rgb(242%2C%20142%2C%2044)%3B%20fill-opacity%3A%201%3B%22%2F%3E%3Cpath%20class%3D%22point%22%20transform%3D%22translate(311.65%2C39.75)%22%20d%3D%22M3%2C0A3%2C3%200%201%2C1%200%2C-3A3%2C3%200%200%2C1%203%2C0Z%22%20style%3D%22opacity%3A%201%3B%20stroke-width%3A%200px%3B%20fill%3A%20rgb(242%2C%20142%2C%2044)%3B%20fill-opacity%3A%201%3B%22%2F%3E%3Cpath%20class%3D%22point%22%20transform%3D%22translate(325.8%2C37.71)%22%20d%3D%22M3%2C0A3%2C3%200%201%2C1%200%2C-3A3%2C3%200%200%2C1%203%2C0Z%22%20style%3D%22opacity%3A%201%3B%20stroke-width%3A%200px%3B%20fill%3A%20rgb(242%2C%20142%2C%2044)%3B%20fill-opacity%3A%201%3B%22%2F%3E%3Cpath%20class%3D%22point%22%20transform%3D%22translate(339.96%2C28.59)%22%20d%3D%22M3%2C0A3%2C3%200%201%2C1%200%2C-3A3%2C3%200%200%2C1%203%2C0Z%22%20style%3D%22opacity%3A%201%3B%20stroke-width%3A%200px%3B%20fill%3A%20rgb(242%2C%20142%2C%2044)%3B%20fill-opacity%3A%201%3B%22%2F%3E%3Cpath%20class%3D%22point%22%20transform%3D%22translate(354.11%2C84.3)%22%20d%3D%22M3%2C0A3%2C3%200%201%2C1%200%2C-3A3%2C3%200%200%2C1%203%2C0Z%22%20style%3D%22opacity%3A%201%3B%20stroke-width%3A%200px%3B%20fill%3A%20rgb(242%2C%20142%2C%2044)%3B%20fill-opacity%3A%201%3B%22%2F%3E%3Cpath%20class%3D%22point%22%20transform%3D%22translate(368.27%2C20.35)%22%20d%3D%22M3%2C0A3%2C3%200%201%2C1%200%2C-3A3%2C3%200%200%2C1%203%2C0Z%22%20style%3D%22opacity%3A%201%3B%20stroke-width%3A%200px%3B%20fill%3A%20rgb(242%2C%20142%2C%2044)%3B%20fill-opacity%3A%201%3B%22%2F%3E%3Cpath%20class%3D%22point%22%20transform%3D%22translate(382.42%2C38.45)%22%20d%3D%22M3%2C0A3%2C3%200%201%2C1%200%2C-3A3%2C3%200%200%2C1%203%2C0Z%22%20style%3D%22opacity%3A%201%3B%20stroke-width%3A%200px%3B%20fill%3A%20rgb(242%2C%20142%2C%2044)%3B%20fill-opacity%3A%201%3B%22%2F%3E%3Cpath%20class%3D%22point%22%20transform%3D%22translate(396.58%2C22.63)%22%20d%3D%22M3%2C0A3%2C3%200%201%2C1%200%2C-3A3%2C3%200%200%2C1%203%2C0Z%22%20style%3D%22opacity%3A%201%3B%20stroke-width%3A%200px%3B%20fill%3A%20rgb(242%2C%20142%2C%2044)%3B%20fill-opacity%3A%201%3B%22%2F%3E%3Cpath%20class%3D%22point%22%20transform%3D%22translate(410.73%2C42.14)%22%20d%3D%22M3%2C0A3%2C3%200%201%2C1%200%2C-3A3%2C3%200%200%2C1%203%2C0Z%22%20style%3D%22opacity%3A%201%3B%20stroke-width%3A%200px%3B%20fill%3A%20rgb(242%2C%20142%2C%2044)%3B%20fill-opacity%3A%201%3B%22%2F%3E%3Cpath%20class%3D%22point%22%20transform%3D%22translate(424.89%2C239.08)%22%20d%3D%22M3%2C0A3%2C3%200%201%2C1%200%2C-3A3%2C3%200%200%2C1%203%2C0Z%22%20style%3D%22opacity%3A%201%3B%20stroke-width%3A%200px%3B%20fill%3A%20rgb(242%2C%20142%2C%2044)%3B%20fill-opacity%3A%201%3B%22%2F%3E%3Cpath%20class%3D%22point%22%20transform%3D%22translate(439.04%2C20.96)%22%20d%3D%22M3%2C0A3%2C3%200%201%2C1%200%2C-3A3%2C3%200%200%2C1%203%2C0Z%22%20style%3D%22opacity%3A%201%3B%20stroke-width%3A%200px%3B%20fill%3A%20rgb(242%2C%20142%2C%2044)%3B%20fill-opacity%3A%201%3B%22%2F%3E%3Cpath%20class%3D%22point%22%20transform%3D%22translate(453.2%2C32.98)%22%20d%3D%22M3%2C0A3%2C3%200%201%2C1%200%2C-3A3%2C3%200%200%2C1%203%2C0Z%22%20style%3D%22opacity%3A%201%3B%20stroke-width%3A%200px%3B%20fill%3A%20rgb(242%2C%20142%2C%2044)%3B%20fill-opacity%3A%201%3B%22%2F%3E%3Cpath%20class%3D%22point%22%20transform%3D%22translate(467.35%2C42.53)%22%20d%3D%22M3%2C0A3%2C3%200%201%2C1%200%2C-3A3%2C3%200%200%2C1%203%2C0Z%22%20style%3D%22opacity%3A%201%3B%20stroke-width%3A%200px%3B%20fill%3A%20rgb(242%2C%20142%2C%2044)%3B%20fill-opacity%3A%201%3B%22%2F%3E%3Cpath%20class%3D%22point%22%20transform%3D%22translate(481.51%2C27.84)%22%20d%3D%22M3%2C0A3%2C3%200%201%2C1%200%2C-3A3%2C3%200%200%2C1%203%2C0Z%22%20style%3D%22opacity%3A%201%3B%20stroke-width%3A%200px%3B%20fill%3A%20rgb(242%2C%20142%2C%2044)%3B%20fill-opacity%3A%201%3B%22%2F%3E%3Cpath%20class%3D%22point%22%20transform%3D%22translate(495.66%2C62.91)%22%20d%3D%22M3%2C0A3%2C3%200%201%2C1%200%2C-3A3%2C3%200%200%2C1%203%2C0Z%22%20style%3D%22opacity%3A%201%3B%20stroke-width%3A%200px%3B%20fill%3A%20rgb(242%2C%20142%2C%2044)%3B%20fill-opacity%3A%201%3B%22%2F%3E%3Cpath%20class%3D%22point%22%20transform%3D%22translate(509.82%2C30.19)%22%20d%3D%22M3%2C0A3%2C3%200%201%2C1%200%2C-3A3%2C3%200%200%2C1%203%2C0Z%22%20style%3D%22opacity%3A%201%3B%20stroke-width%3A%200px%3B%20fill%3A%20rgb(242%2C%20142%2C%2044)%3B%20fill-opacity%3A%201%3B%22%2F%3E%3Cpath%20class%3D%22point%22%20transform%3D%22translate(523.97%2C24.46)%22%20d%3D%22M3%2C0A3%2C3%200%201%2C1%200%2C-3A3%2C3%200%200%2C1%203%2C0Z%22%20style%3D%22opacity%3A%201%3B%20stroke-width%3A%200px%3B%20fill%3A%20rgb(242%2C%20142%2C%2044)%3B%20fill-opacity%3A%201%3B%22%2F%3E%3Cpath%20class%3D%22point%22%20transform%3D%22translate(538.13%2C33.37)%22%20d%3D%22M3%2C0A3%2C3%200%201%2C1%200%2C-3A3%2C3%200%200%2C1%203%2C0Z%22%20style%3D%22opacity%3A%201%3B%20stroke-width%3A%200px%3B%20fill%3A%20rgb(242%2C%20142%2C%2044)%3B%20fill-opacity%3A%201%3B%22%2F%3E%3Cpath%20class%3D%22point%22%20transform%3D%22translate(552.28%2C27.5)%22%20d%3D%22M3%2C0A3%2C3%200%201%2C1%200%2C-3A3%2C3%200%200%2C1%203%2C0Z%22%20style%3D%22opacity%3A%201%3B%20stroke-width%3A%200px%3B%20fill%3A%20rgb(242%2C%20142%2C%2044)%3B%20fill-opacity%3A%201%3B%22%2F%3E%3Cpath%20class%3D%22point%22%20transform%3D%22translate(566.44%2C18.27)%22%20d%3D%22M3%2C0A3%2C3%200%201%2C1%200%2C-3A3%2C3%200%200%2C1%203%2C0Z%22%20style%3D%22opacity%3A%201%3B%20stroke-width%3A%200px%3B%20fill%3A%20rgb(242%2C%20142%2C%2044)%3B%20fill-opacity%3A%201%3B%22%2F%3E%3Cpath%20class%3D%22point%22%20transform%3D%22translate(580.59%2C201.29)%22%20d%3D%22M3%2C0A3%2C3%200%201%2C1%200%2C-3A3%2C3%200%200%2C1%203%2C0Z%22%20style%3D%22opacity%3A%201%3B%20stroke-width%3A%200px%3B%20fill%3A%20rgb(242%2C%20142%2C%2044)%3B%20fill-opacity%3A%201%3B%22%2F%3E%3Cpath%20class%3D%22point%22%20transform%3D%22translate(594.75%2C87.76)%22%20d%3D%22M3%2C0A3%2C3%200%201%2C1%200%2C-3A3%2C3%200%200%2C1%203%2C0Z%22%20style%3D%22opacity%3A%201%3B%20stroke-width%3A%200px%3B%20fill%3A%20rgb(242%2C%20142%2C%2044)%3B%20fill-opacity%3A%201%3B%22%2F%3E%3Cpath%20class%3D%22point%22%20transform%3D%22translate(608.9%2C43.75)%22%20d%3D%22M3%2C0A3%2C3%200%201%2C1%200%2C-3A3%2C3%200%200%2C1%203%2C0Z%22%20style%3D%22opacity%3A%201%3B%20stroke-width%3A%200px%3B%20fill%3A%20rgb(242%2C%20142%2C%2044)%3B%20fill-opacity%3A%201%3B%22%2F%3E%3Cpath%20class%3D%22point%22%20transform%3D%22translate(623.06%2C148.22)%22%20d%3D%22M3%2C0A3%2C3%200%201%2C1%200%2C-3A3%2C3%200%200%2C1%203%2C0Z%22%20style%3D%22opacity%3A%201%3B%20stroke-width%3A%200px%3B%20fill%3A%20rgb(242%2C%20142%2C%2044)%3B%20fill-opacity%3A%201%3B%22%2F%3E%3Cpath%20class%3D%22point%22%20transform%3D%22translate(637.21%2C31.43)%22%20d%3D%22M3%2C0A3%2C3%200%201%2C1%200%2C-3A3%2C3%200%200%2C1%203%2C0Z%22%20style%3D%22opacity%3A%201%3B%20stroke-width%3A%200px%3B%20fill%3A%20rgb(242%2C%20142%2C%2044)%3B%20fill-opacity%3A%201%3B%22%2F%3E%3Cpath%20class%3D%22point%22%20transform%3D%22translate(651.37%2C208.68)%22%20d%3D%22M3%2C0A3%2C3%200%201%2C1%200%2C-3A3%2C3%200%200%2C1%203%2C0Z%22%20style%3D%22opacity%3A%201%3B%20stroke-width%3A%200px%3B%20fill%3A%20rgb(242%2C%20142%2C%2044)%3B%20fill-opacity%3A%201%3B%22%2F%3E%3Cpath%20class%3D%22point%22%20transform%3D%22translate(665.52%2C257.5)%22%20d%3D%22M3%2C0A3%2C3%200%201%2C1%200%2C-3A3%2C3%200%200%2C1%203%2C0Z%22%20style%3D%22opacity%3A%201%3B%20stroke-width%3A%200px%3B%20fill%3A%20rgb(242%2C%20142%2C%2044)%3B%20fill-opacity%3A%201%3B%22%2F%3E%3Cpath%20class%3D%22point%22%20transform%3D%22translate(679.68%2C27.39)%22%20d%3D%22M3%2C0A3%2C3%200%201%2C1%200%2C-3A3%2C3%200%200%2C1%203%2C0Z%22%20style%3D%22opacity%3A%201%3B%20stroke-width%3A%200px%3B%20fill%3A%20rgb(242%2C%20142%2C%2044)%3B%20fill-opacity%3A%201%3B%22%2F%3E%3Cpath%20class%3D%22point%22%20transform%3D%22translate(693.83%2C36.44)%22%20d%3D%22M3%2C0A3%2C3%200%201%2C1%200%2C-3A3%2C3%200%200%2C1%203%2C0Z%22%20style%3D%22opacity%3A%201%3B%20stroke-width%3A%200px%3B%20fill%3A%20rgb(242%2C%20142%2C%2044)%3B%20fill-opacity%3A%201%3B%22%2F%3E%3Cpath%20class%3D%22point%22%20transform%3D%22translate(707.99%2C20.79)%22%20d%3D%22M3%2C0A3%2C3%200%201%2C1%200%2C-3A3%2C3%200%200%2C1%203%2C0Z%22%20style%3D%22opacity%3A%201%3B%20stroke-width%3A%200px%3B%20fill%3A%20rgb(242%2C%20142%2C%2044)%3B%20fill-opacity%3A%201%3B%22%2F%3E%3Cpath%20class%3D%22point%22%20transform%3D%22translate(722.14%2C180.84)%22%20d%3D%22M3%2C0A3%2C3%200%201%2C1%200%2C-3A3%2C3%200%200%2C1%203%2C0Z%22%20style%3D%22opacity%3A%201%3B%20stroke-width%3A%200px%3B%20fill%3A%20rgb(242%2C%20142%2C%2044)%3B%20fill-opacity%3A%201%3B%22%2F%3E%3Cpath%20class%3D%22point%22%20transform%3D%22translate(736.3%2C205.01)%22%20d%3D%22M3%2C0A3%2C3%200%201%2C1%200%2C-3A3%2C3%200%200%2C1%203%2C0Z%22%20style%3D%22opacity%3A%201%3B%20stroke-width%3A%200px%3B%20fill%3A%20rgb(242%2C%20142%2C%2044)%3B%20fill-opacity%3A%201%3B%22%2F%3E%3C%2Fg%3E%3Cg%20class%3D%22text%22%3E%3Cg%20class%3D%22textpoint%22%2F%3E%3Cg%20class%3D%22textpoint%22%2F%3E%3Cg%20class%3D%22textpoint%22%2F%3E%3Cg%20class%3D%22textpoint%22%2F%3E%3Cg%20class%3D%22textpoint%22%2F%3E%3Cg%20class%3D%22textpoint%22%2F%3E%3Cg%20class%3D%22textpoint%22%2F%3E%3Cg%20class%3D%22textpoint%22%2F%3E%3Cg%20class%3D%22textpoint%22%2F%3E%3Cg%20class%3D%22textpoint%22%2F%3E%3Cg%20class%3D%22textpoint%22%2F%3E%3Cg%20class%3D%22textpoint%22%2F%3E%3Cg%20class%3D%22textpoint%22%2F%3E%3Cg%20class%3D%22textpoint%22%2F%3E%3Cg%20class%3D%22textpoint%22%2F%3E%3Cg%20class%3D%22textpoint%22%2F%3E%3Cg%20class%3D%22textpoint%22%2F%3E%3Cg%20class%3D%22textpoint%22%2F%3E%3Cg%20class%3D%22textpoint%22%2F%3E%3Cg%20class%3D%22textpoint%22%2F%3E%3Cg%20class%3D%22textpoint%22%2F%3E%3Cg%20class%3D%22textpoint%22%2F%3E%3Cg%20class%3D%22textpoint%22%2F%3E%3Cg%20class%3D%22textpoint%22%2F%3E%3Cg%20class%3D%22textpoint%22%2F%3E%3Cg%20class%3D%22textpoint%22%2F%3E%3Cg%20class%3D%22textpoint%22%2F%3E%3Cg%20class%3D%22textpoint%22%2F%3E%3Cg%20class%3D%22textpoint%22%2F%3E%3Cg%20class%3D%22textpoint%22%2F%3E%3Cg%20class%3D%22textpoint%22%2F%3E%3Cg%20class%3D%22textpoint%22%2F%3E%3Cg%20class%3D%22textpoint%22%2F%3E%3Cg%20class%3D%22textpoint%22%2F%3E%3Cg%20class%3D%22textpoint%22%2F%3E%3Cg%20class%3D%22textpoint%22%2F%3E%3Cg%20class%3D%22textpoint%22%2F%3E%3Cg%20class%3D%22textpoint%22%2F%3E%3Cg%20class%3D%22textpoint%22%2F%3E%3Cg%20class%3D%22textpoint%22%2F%3E%3Cg%20class%3D%22textpoint%22%2F%3E%3Cg%20class%3D%22textpoint%22%2F%3E%3Cg%20class%3D%22textpoint%22%2F%3E%3Cg%20class%3D%22textpoint%22%2F%3E%3Cg%20class%3D%22textpoint%22%2F%3E%3Cg%20class%3D%22textpoint%22%2F%3E%3Cg%20class%3D%22textpoint%22%2F%3E%3Cg%20class%3D%22textpoint%22%2F%3E%3Cg%20class%3D%22textpoint%22%2F%3E%3Cg%20class%3D%22textpoint%22%2F%3E%3C%2Fg%3E%3C%2Fg%3E%3C%2Fg%3E%3C%2Fg%3E%3C%2Fg%3E%3Cpath%20class%3D%22xlines-above%20crisp%22%20style%3D%22fill%3A%20none%3B%20stroke-width%3A%201px%3B%20stroke%3A%20rgb(89%2C%2089%2C%2089)%3B%20stroke-opacity%3A%200.25%3B%22%20d%3D%22M79%2C305.5H859%22%2F%3E%3Cpath%20class%3D%22ylines-above%20crisp%22%20style%3D%22fill%3A%20none%3B%20stroke-width%3A%201px%3B%20stroke%3A%20rgb(89%2C%2089%2C%2089)%3B%20stroke-opacity%3A%200.25%3B%22%20d%3D%22M79.5%2C30V305%22%2F%3E%3Cg%20class%3D%22overlines-above%22%3E%3Cpath%20class%3D%22xy2-x%20crisp%22%20style%3D%22fill%3A%20none%3B%22%20d%3D%22M0%2C0%22%2F%3E%3Cpath%20class%3D%22xy2-y%20crisp%22%20style%3D%22fill%3A%20none%3B%22%20d%3D%22M0%2C0%22%2F%3E%3C%2Fg%3E%3Cg%20class%3D%22xaxislayer-above%22%3E%3Cg%20class%3D%22xtick%22%3E%3Ctext%20text-anchor%3D%22start%22%20x%3D%220%22%20y%3D%22320.4%22%20data-unformatted%3D%22AAPL%22%20data-math%3D%22N%22%20transform%3D%22translate(122.7%2C0)%20rotate(90%2C0%2C314.4)%22%20style%3D%22font-family%3A%20%26quot%3BOpen%20Sans%26quot%3B%2C%20verdana%2C%20arial%2C%20sans-serif%3B%20font-size%3A%2012px%3B%20fill%3A%20rgb(89%2C%2089%2C%2089)%3B%20fill-opacity%3A%201%3B%20white-space%3A%20pre%3B%22%3EAAPL%3C%2Ftext%3E%3C%2Fg%3E%3Cg%20class%3D%22xtick%22%3E%3Ctext%20text-anchor%3D%22start%22%20x%3D%220%22%20y%3D%22320.4%22%20data-unformatted%3D%22AEP%22%20data-math%3D%22N%22%20transform%3D%22translate(151.01%2C0)%20rotate(90%2C0%2C314.4)%22%20style%3D%22font-family%3A%20%26quot%3BOpen%20Sans%26quot%3B%2C%20verdana%2C%20arial%2C%20sans-serif%3B%20font-size%3A%2012px%3B%20fill%3A%20rgb(89%2C%2089%2C%2089)%3B%20fill-opacity%3A%201%3B%20white-space%3A%20pre%3B%22%3EAEP%3C%2Ftext%3E%3C%2Fg%3E%3Cg%20class%3D%22xtick%22%3E%3Ctext%20text-anchor%3D%22start%22%20x%3D%220%22%20y%3D%22320.4%22%20data-unformatted%3D%22AMD%22%20data-math%3D%22N%22%20transform%3D%22translate(179.32%2C0)%20rotate(90%2C0%2C314.4)%22%20style%3D%22font-family%3A%20%26quot%3BOpen%20Sans%26quot%3B%2C%20verdana%2C%20arial%2C%20sans-serif%3B%20font-size%3A%2012px%3B%20fill%3A%20rgb(89%2C%2089%2C%2089)%3B%20fill-opacity%3A%201%3B%20white-space%3A%20pre%3B%22%3EAMD%3C%2Ftext%3E%3C%2Fg%3E%3Cg%20class%3D%22xtick%22%3E%3Ctext%20text-anchor%3D%22start%22%20x%3D%220%22%20y%3D%22320.4%22%20data-unformatted%3D%22AMZN%22%20data-math%3D%22N%22%20transform%3D%22translate(207.63%2C0)%20rotate(90%2C0%2C314.4)%22%20style%3D%22font-family%3A%20%26quot%3BOpen%20Sans%26quot%3B%2C%20verdana%2C%20arial%2C%20sans-serif%3B%20font-size%3A%2012px%3B%20fill%3A%20rgb(89%2C%2089%2C%2089)%3B%20fill-opacity%3A%201%3B%20white-space%3A%20pre%3B%22%3EAMZN%3C%2Ftext%3E%3C%2Fg%3E%3Cg%20class%3D%22xtick%22%3E%3Ctext%20text-anchor%3D%22start%22%20x%3D%220%22%20y%3D%22320.4%22%20data-unformatted%3D%22ASML%22%20data-math%3D%22N%22%20transform%3D%22translate(235.94%2C0)%20rotate(90%2C0%2C314.4)%22%20style%3D%22font-family%3A%20%26quot%3BOpen%20Sans%26quot%3B%2C%20verdana%2C%20arial%2C%20sans-serif%3B%20font-size%3A%2012px%3B%20fill%3A%20rgb(89%2C%2089%2C%2089)%3B%20fill-opacity%3A%201%3B%20white-space%3A%20pre%3B%22%3EASML%3C%2Ftext%3E%3C%2Fg%3E%3Cg%20class%3D%22xtick%22%3E%3Ctext%20text-anchor%3D%22start%22%20x%3D%220%22%20y%3D%22320.4%22%20data-unformatted%3D%22AZN%22%20data-math%3D%22N%22%20transform%3D%22translate(264.25%2C0)%20rotate(90%2C0%2C314.4)%22%20style%3D%22font-family%3A%20%26quot%3BOpen%20Sans%26quot%3B%2C%20verdana%2C%20arial%2C%20sans-serif%3B%20font-size%3A%2012px%3B%20fill%3A%20rgb(89%2C%2089%2C%2089)%3B%20fill-opacity%3A%201%3B%20white-space%3A%20pre%3B%22%3EAZN%3C%2Ftext%3E%3C%2Fg%3E%3Cg%20class%3D%22xtick%22%3E%3Ctext%20text-anchor%3D%22start%22%20x%3D%220%22%20y%3D%22320.4%22%20data-unformatted%3D%22CHTR%22%20data-math%3D%22N%22%20transform%3D%22translate(292.56%2C0)%20rotate(90%2C0%2C314.4)%22%20style%3D%22font-family%3A%20%26quot%3BOpen%20Sans%26quot%3B%2C%20verdana%2C%20arial%2C%20sans-serif%3B%20font-size%3A%2012px%3B%20fill%3A%20rgb(89%2C%2089%2C%2089)%3B%20fill-opacity%3A%201%3B%20white-space%3A%20pre%3B%22%3ECHTR%3C%2Ftext%3E%3C%2Fg%3E%3Cg%20class%3D%22xtick%22%3E%3Ctext%20text-anchor%3D%22start%22%20x%3D%220%22%20y%3D%22320.4%22%20data-unformatted%3D%22COST%22%20data-math%3D%22N%22%20transform%3D%22translate(320.87%2C0)%20rotate(90%2C0%2C314.4)%22%20style%3D%22font-family%3A%20%26quot%3BOpen%20Sans%26quot%3B%2C%20verdana%2C%20arial%2C%20sans-serif%3B%20font-size%3A%2012px%3B%20fill%3A%20rgb(89%2C%2089%2C%2089)%3B%20fill-opacity%3A%201%3B%20white-space%3A%20pre%3B%22%3ECOST%3C%2Ftext%3E%3C%2Fg%3E%3Cg%20class%3D%22xtick%22%3E%3Ctext%20text-anchor%3D%22start%22%20x%3D%220%22%20y%3D%22320.4%22%20data-unformatted%3D%22CRWD%22%20data-math%3D%22N%22%20transform%3D%22translate(349.18%2C0)%20rotate(90%2C0%2C314.4)%22%20style%3D%22font-family%3A%20%26quot%3BOpen%20Sans%26quot%3B%2C%20verdana%2C%20arial%2C%20sans-serif%3B%20font-size%3A%2012px%3B%20fill%3A%20rgb(89%2C%2089%2C%2089)%3B%20fill-opacity%3A%201%3B%20white-space%3A%20pre%3B%22%3ECRWD%3C%2Ftext%3E%3C%2Fg%3E%3Cg%20class%3D%22xtick%22%3E%3Ctext%20text-anchor%3D%22start%22%20x%3D%220%22%20y%3D%22320.4%22%20data-unformatted%3D%22DDOG%22%20data-math%3D%22N%22%20transform%3D%22translate(377.49%2C0)%20rotate(90%2C0%2C314.4)%22%20style%3D%22font-family%3A%20%26quot%3BOpen%20Sans%26quot%3B%2C%20verdana%2C%20arial%2C%20sans-serif%3B%20font-size%3A%2012px%3B%20fill%3A%20rgb(89%2C%2089%2C%2089)%3B%20fill-opacity%3A%201%3B%20white-space%3A%20pre%3B%22%3EDDOG%3C%2Ftext%3E%3C%2Fg%3E%3Cg%20class%3D%22xtick%22%3E%3Ctext%20text-anchor%3D%22start%22%20x%3D%220%22%20y%3D%22320.4%22%20data-unformatted%3D%22DXCM%22%20data-math%3D%22N%22%20transform%3D%22translate(405.8%2C0)%20rotate(90%2C0%2C314.4)%22%20style%3D%22font-family%3A%20%26quot%3BOpen%20Sans%26quot%3B%2C%20verdana%2C%20arial%2C%20sans-serif%3B%20font-size%3A%2012px%3B%20fill%3A%20rgb(89%2C%2089%2C%2089)%3B%20fill-opacity%3A%201%3B%20white-space%3A%20pre%3B%22%3EDXCM%3C%2Ftext%3E%3C%2Fg%3E%3Cg%20class%3D%22xtick%22%3E%3Ctext%20text-anchor%3D%22start%22%20x%3D%220%22%20y%3D%22320.4%22%20data-unformatted%3D%22ENPH%22%20data-math%3D%22N%22%20transform%3D%22translate(434.11%2C0)%20rotate(90%2C0%2C314.4)%22%20style%3D%22font-family%3A%20%26quot%3BOpen%20Sans%26quot%3B%2C%20verdana%2C%20arial%2C%20sans-serif%3B%20font-size%3A%2012px%3B%20fill%3A%20rgb(89%2C%2089%2C%2089)%3B%20fill-opacity%3A%201%3B%20white-space%3A%20pre%3B%22%3EENPH%3C%2Ftext%3E%3C%2Fg%3E%3Cg%20class%3D%22xtick%22%3E%3Ctext%20text-anchor%3D%22start%22%20x%3D%220%22%20y%3D%22320.4%22%20data-unformatted%3D%22FANG%22%20data-math%3D%22N%22%20transform%3D%22translate(462.42%2C0)%20rotate(90%2C0%2C314.4)%22%20style%3D%22font-family%3A%20%26quot%3BOpen%20Sans%26quot%3B%2C%20verdana%2C%20arial%2C%20sans-serif%3B%20font-size%3A%2012px%3B%20fill%3A%20rgb(89%2C%2089%2C%2089)%3B%20fill-opacity%3A%201%3B%20white-space%3A%20pre%3B%22%3EFANG%3C%2Ftext%3E%3C%2Fg%3E%3Cg%20class%3D%22xtick%22%3E%3Ctext%20text-anchor%3D%22start%22%20x%3D%220%22%20y%3D%22320.4%22%20data-unformatted%3D%22GFS%22%20data-math%3D%22N%22%20transform%3D%22translate(490.73%2C0)%20rotate(90%2C0%2C314.4)%22%20style%3D%22font-family%3A%20%26quot%3BOpen%20Sans%26quot%3B%2C%20verdana%2C%20arial%2C%20sans-serif%3B%20font-size%3A%2012px%3B%20fill%3A%20rgb(89%2C%2089%2C%2089)%3B%20fill-opacity%3A%201%3B%20white-space%3A%20pre%3B%22%3EGFS%3C%2Ftext%3E%3C%2Fg%3E%3Cg%20class%3D%22xtick%22%3E%3Ctext%20text-anchor%3D%22start%22%20x%3D%220%22%20y%3D%22320.4%22%20data-unformatted%3D%22HON%22%20data-math%3D%22N%22%20transform%3D%22translate(519.04%2C0)%20rotate(90%2C0%2C314.4)%22%20style%3D%22font-family%3A%20%26quot%3BOpen%20Sans%26quot%3B%2C%20verdana%2C%20arial%2C%20sans-serif%3B%20font-size%3A%2012px%3B%20fill%3A%20rgb(89%2C%2089%2C%2089)%3B%20fill-opacity%3A%201%3B%20white-space%3A%20pre%3B%22%3EHON%3C%2Ftext%3E%3C%2Fg%3E%3Cg%20class%3D%22xtick%22%3E%3Ctext%20text-anchor%3D%22start%22%20x%3D%220%22%20y%3D%22320.4%22%20data-unformatted%3D%22INTU%22%20data-math%3D%22N%22%20transform%3D%22translate(547.35%2C0)%20rotate(90%2C0%2C314.4)%22%20style%3D%22font-family%3A%20%26quot%3BOpen%20Sans%26quot%3B%2C%20verdana%2C%20arial%2C%20sans-serif%3B%20font-size%3A%2012px%3B%20fill%3A%20rgb(89%2C%2089%2C%2089)%3B%20fill-opacity%3A%201%3B%20white-space%3A%20pre%3B%22%3EINTU%3C%2Ftext%3E%3C%2Fg%3E%3Cg%20class%3D%22xtick%22%3E%3Ctext%20text-anchor%3D%22start%22%20x%3D%220%22%20y%3D%22320.4%22%20data-unformatted%3D%22JD%22%20data-math%3D%22N%22%20transform%3D%22translate(575.6600000000001%2C0)%20rotate(90%2C0%2C314.4)%22%20style%3D%22font-family%3A%20%26quot%3BOpen%20Sans%26quot%3B%2C%20verdana%2C%20arial%2C%20sans-serif%3B%20font-size%3A%2012px%3B%20fill%3A%20rgb(89%2C%2089%2C%2089)%3B%20fill-opacity%3A%201%3B%20white-space%3A%20pre%3B%22%3EJD%3C%2Ftext%3E%3C%2Fg%3E%3Cg%20class%3D%22xtick%22%3E%3Ctext%20text-anchor%3D%22start%22%20x%3D%220%22%20y%3D%22320.4%22%20data-unformatted%3D%22LRCX%22%20data-math%3D%22N%22%20transform%3D%22translate(603.97%2C0)%20rotate(90%2C0%2C314.4)%22%20style%3D%22font-family%3A%20%26quot%3BOpen%20Sans%26quot%3B%2C%20verdana%2C%20arial%2C%20sans-serif%3B%20font-size%3A%2012px%3B%20fill%3A%20rgb(89%2C%2089%2C%2089)%3B%20fill-opacity%3A%201%3B%20white-space%3A%20pre%3B%22%3ELRCX%3C%2Ftext%3E%3C%2Fg%3E%3Cg%20class%3D%22xtick%22%3E%3Ctext%20text-anchor%3D%22start%22%20x%3D%220%22%20y%3D%22320.4%22%20data-unformatted%3D%22MCHP%22%20data-math%3D%22N%22%20transform%3D%22translate(632.28%2C0)%20rotate(90%2C0%2C314.4)%22%20style%3D%22font-family%3A%20%26quot%3BOpen%20Sans%26quot%3B%2C%20verdana%2C%20arial%2C%20sans-serif%3B%20font-size%3A%2012px%3B%20fill%3A%20rgb(89%2C%2089%2C%2089)%3B%20fill-opacity%3A%201%3B%20white-space%3A%20pre%3B%22%3EMCHP%3C%2Ftext%3E%3C%2Fg%3E%3Cg%20class%3D%22xtick%22%3E%3Ctext%20text-anchor%3D%22start%22%20x%3D%220%22%20y%3D%22320.4%22%20data-unformatted%3D%22META%22%20data-math%3D%22N%22%20transform%3D%22translate(660.59%2C0)%20rotate(90%2C0%2C314.4)%22%20style%3D%22font-family%3A%20%26quot%3BOpen%20Sans%26quot%3B%2C%20verdana%2C%20arial%2C%20sans-serif%3B%20font-size%3A%2012px%3B%20fill%3A%20rgb(89%2C%2089%2C%2089)%3B%20fill-opacity%3A%201%3B%20white-space%3A%20pre%3B%22%3EMETA%3C%2Ftext%3E%3C%2Fg%3E%3Cg%20class%3D%22xtick%22%3E%3Ctext%20text-anchor%3D%22start%22%20x%3D%220%22%20y%3D%22320.4%22%20data-unformatted%3D%22MRNA%22%20data-math%3D%22N%22%20transform%3D%22translate(688.9%2C0)%20rotate(90%2C0%2C314.4)%22%20style%3D%22font-family%3A%20%26quot%3BOpen%20Sans%26quot%3B%2C%20verdana%2C%20arial%2C%20sans-serif%3B%20font-size%3A%2012px%3B%20fill%3A%20rgb(89%2C%2089%2C%2089)%3B%20fill-opacity%3A%201%3B%20white-space%3A%20pre%3B%22%3EMRNA%3C%2Ftext%3E%3C%2Fg%3E%3Cg%20class%3D%22xtick%22%3E%3Ctext%20text-anchor%3D%22start%22%20x%3D%220%22%20y%3D%22320.4%22%20data-unformatted%3D%22MU%22%20data-math%3D%22N%22%20transform%3D%22translate(717.21%2C0)%20rotate(90%2C0%2C314.4)%22%20style%3D%22font-family%3A%20%26quot%3BOpen%20Sans%26quot%3B%2C%20verdana%2C%20arial%2C%20sans-serif%3B%20font-size%3A%2012px%3B%20fill%3A%20rgb(89%2C%2089%2C%2089)%3B%20fill-opacity%3A%201%3B%20white-space%3A%20pre%3B%22%3EMU%3C%2Ftext%3E%3C%2Fg%3E%3Cg%20class%3D%22xtick%22%3E%3Ctext%20text-anchor%3D%22start%22%20x%3D%220%22%20y%3D%22320.4%22%20data-unformatted%3D%22NVDA%22%20data-math%3D%22N%22%20transform%3D%22translate(745.52%2C0)%20rotate(90%2C0%2C314.4)%22%20style%3D%22font-family%3A%20%26quot%3BOpen%20Sans%26quot%3B%2C%20verdana%2C%20arial%2C%20sans-serif%3B%20font-size%3A%2012px%3B%20fill%3A%20rgb(89%2C%2089%2C%2089)%3B%20fill-opacity%3A%201%3B%20white-space%3A%20pre%3B%22%3ENVDA%3C%2Ftext%3E%3C%2Fg%3E%3Cg%20class%3D%22xtick%22%3E%3Ctext%20text-anchor%3D%22start%22%20x%3D%220%22%20y%3D%22320.4%22%20data-unformatted%3D%22ODFL%22%20data-math%3D%22N%22%20transform%3D%22translate(773.83%2C0)%20rotate(90%2C0%2C314.4)%22%20style%3D%22font-family%3A%20%26quot%3BOpen%20Sans%26quot%3B%2C%20verdana%2C%20arial%2C%20sans-serif%3B%20font-size%3A%2012px%3B%20fill%3A%20rgb(89%2C%2089%2C%2089)%3B%20fill-opacity%3A%201%3B%20white-space%3A%20pre%3B%22%3EODFL%3C%2Ftext%3E%3C%2Fg%3E%3Cg%20class%3D%22xtick%22%3E%3Ctext%20text-anchor%3D%22start%22%20x%3D%220%22%20y%3D%22320.4%22%20data-unformatted%3D%22QCOM%22%20data-math%3D%22N%22%20transform%3D%22translate(802.14%2C0)%20rotate(90%2C0%2C314.4)%22%20style%3D%22font-family%3A%20%26quot%3BOpen%20Sans%26quot%3B%2C%20verdana%2C%20arial%2C%20sans-serif%3B%20font-size%3A%2012px%3B%20fill%3A%20rgb(89%2C%2089%2C%2089)%3B%20fill-opacity%3A%201%3B%20white-space%3A%20pre%3B%22%3EQCOM%3C%2Ftext%3E%3C%2Fg%3E%3C%2Fg%3E%3Cg%20class%3D%22yaxislayer-above%22%3E%3Cg%20class%3D%22ytick%22%3E%3Ctext%20text-anchor%3D%22end%22%20x%3D%2276.6%22%20y%3D%224.199999999999999%22%20data-unformatted%3D%22%E2%88%920.004%22%20data-math%3D%22N%22%20transform%3D%22translate(0%2C294.26)%22%20style%3D%22font-family%3A%20%26quot%3BOpen%20Sans%26quot%3B%2C%20verdana%2C%20arial%2C%20sans-serif%3B%20font-size%3A%2012px%3B%20fill%3A%20rgb(89%2C%2089%2C%2089)%3B%20fill-opacity%3A%201%3B%20white-space%3A%20pre%3B%22%3E%E2%88%920.004%3C%2Ftext%3E%3C%2Fg%3E%3Cg%20class%3D%22ytick%22%3E%3Ctext%20text-anchor%3D%22end%22%20x%3D%2276.6%22%20y%3D%224.199999999999999%22%20data-unformatted%3D%22%E2%88%920.003%22%20data-math%3D%22N%22%20transform%3D%22translate(0%2C228.2)%22%20style%3D%22font-family%3A%20%26quot%3BOpen%20Sans%26quot%3B%2C%20verdana%2C%20arial%2C%20sans-serif%3B%20font-size%3A%2012px%3B%20fill%3A%20rgb(89%2C%2089%2C%2089)%3B%20fill-opacity%3A%201%3B%20white-space%3A%20pre%3B%22%3E%E2%88%920.003%3C%2Ftext%3E%3C%2Fg%3E%3Cg%20class%3D%22ytick%22%3E%3Ctext%20text-anchor%3D%22end%22%20x%3D%2276.6%22%20y%3D%224.199999999999999%22%20data-unformatted%3D%22%E2%88%920.002%22%20data-math%3D%22N%22%20transform%3D%22translate(0%2C162.13)%22%20style%3D%22font-family%3A%20%26quot%3BOpen%20Sans%26quot%3B%2C%20verdana%2C%20arial%2C%20sans-serif%3B%20font-size%3A%2012px%3B%20fill%3A%20rgb(89%2C%2089%2C%2089)%3B%20fill-opacity%3A%201%3B%20white-space%3A%20pre%3B%22%3E%E2%88%920.002%3C%2Ftext%3E%3C%2Fg%3E%3Cg%20class%3D%22ytick%22%3E%3Ctext%20text-anchor%3D%22end%22%20x%3D%2276.6%22%20y%3D%224.199999999999999%22%20data-unformatted%3D%22%E2%88%920.001%22%20data-math%3D%22N%22%20transform%3D%22translate(0%2C96.07)%22%20style%3D%22font-family%3A%20%26quot%3BOpen%20Sans%26quot%3B%2C%20verdana%2C%20arial%2C%20sans-serif%3B%20font-size%3A%2012px%3B%20fill%3A%20rgb(89%2C%2089%2C%2089)%3B%20fill-opacity%3A%201%3B%20white-space%3A%20pre%3B%22%3E%E2%88%920.001%3C%2Ftext%3E%3C%2Fg%3E%3Cg%20class%3D%22ytick%22%3E%3Ctext%20text-anchor%3D%22end%22%20x%3D%2276.6%22%20y%3D%224.199999999999999%22%20data-unformatted%3D%220%22%20data-math%3D%22N%22%20transform%3D%22translate(0%2C30)%22%20style%3D%22font-family%3A%20%26quot%3BOpen%20Sans%26quot%3B%2C%20verdana%2C%20arial%2C%20sans-serif%3B%20font-size%3A%2012px%3B%20fill%3A%20rgb(89%2C%2089%2C%2089)%3B%20fill-opacity%3A%201%3B%20white-space%3A%20pre%3B%22%3E0%3C%2Ftext%3E%3C%2Fg%3E%3C%2Fg%3E%3Cg%20class%3D%22overaxes-above%22%3E%3Cg%20class%3D%22xy2-x%22%2F%3E%3Cg%20class%3D%22xy2-y%22%3E%3Cg%20class%3D%22y2tick%22%3E%3Ctext%20text-anchor%3D%22start%22%20x%3D%22860%22%20y%3D%224.199999999999999%22%20data-unformatted%3D%22%E2%88%920.005%22%20data-math%3D%22N%22%20transform%3D%22translate(0%2C266.06)%22%20style%3D%22font-family%3A%20%26quot%3BOpen%20Sans%26quot%3B%2C%20verdana%2C%20arial%2C%20sans-serif%3B%20font-size%3A%2012px%3B%20fill%3A%20rgb(89%2C%2089%2C%2089)%3B%20fill-opacity%3A%201%3B%20white-space%3A%20pre%3B%22%3E%E2%88%920.005%3C%2Ftext%3E%3C%2Fg%3E%3Cg%20class%3D%22y2tick%22%3E%3Ctext%20text-anchor%3D%22start%22%20x%3D%22860%22%20y%3D%224.199999999999999%22%20data-unformatted%3D%22%E2%88%920.004%22%20data-math%3D%22N%22%20transform%3D%22translate(0%2C219.02)%22%20style%3D%22font-family%3A%20%26quot%3BOpen%20Sans%26quot%3B%2C%20verdana%2C%20arial%2C%20sans-serif%3B%20font-size%3A%2012px%3B%20fill%3A%20rgb(89%2C%2089%2C%2089)%3B%20fill-opacity%3A%201%3B%20white-space%3A%20pre%3B%22%3E%E2%88%920.004%3C%2Ftext%3E%3C%2Fg%3E%3Cg%20class%3D%22y2tick%22%3E%3Ctext%20text-anchor%3D%22start%22%20x%3D%22860%22%20y%3D%224.199999999999999%22%20data-unformatted%3D%22%E2%88%920.003%22%20data-math%3D%22N%22%20transform%3D%22translate(0%2C171.98)%22%20style%3D%22font-family%3A%20%26quot%3BOpen%20Sans%26quot%3B%2C%20verdana%2C%20arial%2C%20sans-serif%3B%20font-size%3A%2012px%3B%20fill%3A%20rgb(89%2C%2089%2C%2089)%3B%20fill-opacity%3A%201%3B%20white-space%3A%20pre%3B%22%3E%E2%88%920.003%3C%2Ftext%3E%3C%2Fg%3E%3Cg%20class%3D%22y2tick%22%3E%3Ctext%20text-anchor%3D%22start%22%20x%3D%22860%22%20y%3D%224.199999999999999%22%20data-unformatted%3D%22%E2%88%920.002%22%20data-math%3D%22N%22%20transform%3D%22translate(0%2C124.93)%22%20style%3D%22font-family%3A%20%26quot%3BOpen%20Sans%26quot%3B%2C%20verdana%2C%20arial%2C%20sans-serif%3B%20font-size%3A%2012px%3B%20fill%3A%20rgb(89%2C%2089%2C%2089)%3B%20fill-opacity%3A%201%3B%20white-space%3A%20pre%3B%22%3E%E2%88%920.002%3C%2Ftext%3E%3C%2Fg%3E%3Cg%20class%3D%22y2tick%22%3E%3Ctext%20text-anchor%3D%22start%22%20x%3D%22860%22%20y%3D%224.199999999999999%22%20data-unformatted%3D%22%E2%88%920.001%22%20data-math%3D%22N%22%20transform%3D%22translate(0%2C77.89)%22%20style%3D%22font-family%3A%20%26quot%3BOpen%20Sans%26quot%3B%2C%20verdana%2C%20arial%2C%20sans-serif%3B%20font-size%3A%2012px%3B%20fill%3A%20rgb(89%2C%2089%2C%2089)%3B%20fill-opacity%3A%201%3B%20white-space%3A%20pre%3B%22%3E%E2%88%920.001%3C%2Ftext%3E%3C%2Fg%3E%3Cg%20class%3D%22y2tick%22%3E%3Ctext%20text-anchor%3D%22start%22%20x%3D%22860%22%20y%3D%224.199999999999999%22%20data-unformatted%3D%220%22%20data-math%3D%22N%22%20transform%3D%22translate(0%2C30.85)%22%20style%3D%22font-family%3A%20%26quot%3BOpen%20Sans%26quot%3B%2C%20verdana%2C%20arial%2C%20sans-serif%3B%20font-size%3A%2012px%3B%20fill%3A%20rgb(89%2C%2089%2C%2089)%3B%20fill-opacity%3A%201%3B%20white-space%3A%20pre%3B%22%3E0%3C%2Ftext%3E%3C%2Fg%3E%3C%2Fg%3E%3C%2Fg%3E%3C%2Fg%3E%3Cg%20class%3D%22subplot%20xy2%22%2F%3E%3C%2Fg%3E%3Cg%20class%3D%22polarlayer%22%2F%3E%3Cg%20class%3D%22ternarylayer%22%2F%3E%3Cg%20class%3D%22geolayer%22%2F%3E%3Cg%20class%3D%22funnelarealayer%22%2F%3E%3Cg%20class%3D%22pielayer%22%2F%3E%3Cg%20class%3D%22treemaplayer%22%2F%3E%3Cg%20class%3D%22sunburstlayer%22%2F%3E%3Cg%20class%3D%22glimages%22%2F%3E%3Cdefs%20id%3D%22topdefs-a3282a%22%3E%3Cg%20class%3D%22clips%22%2F%3E%3CclipPath%20id%3D%22legenda3282a%22%3E%3Crect%20width%3D%2277%22%20height%3D%2258%22%20x%3D%220%22%20y%3D%220%22%2F%3E%3C%2FclipPath%3E%3C%2Fdefs%3E%3Cg%20class%3D%22indicatorlayer%22%2F%3E%3Cg%20class%3D%22layer-above%22%3E%3Cg%20class%3D%22imagelayer%22%2F%3E%3Cg%20class%3D%22shapelayer%22%2F%3E%3C%2Fg%3E%3Cg%20class%3D%22infolayer%22%3E%3Cg%20class%3D%22legend%22%20pointer-events%3D%22all%22%20transform%3D%22translate(874.58%2C30)%22%3E%3Crect%20class%3D%22bg%22%20shape-rendering%3D%22crispEdges%22%20style%3D%22stroke%3A%20rgb(68%2C%2068%2C%2068)%3B%20stroke-opacity%3A%201%3B%20fill%3A%20rgb(255%2C%20255%2C%20255)%3B%20fill-opacity%3A%201%3B%20stroke-width%3A%200px%3B%22%20width%3D%2277%22%20height%3D%2258%22%20x%3D%220%22%20y%3D%220%22%2F%3E%3Cg%20class%3D%22scrollbox%22%20transform%3D%22%22%20clip-path%3D%22url('%23legenda3282a')%22%3E%3Cg%20class%3D%22groups%22%20transform%3D%22%22%3E%3Cg%20class%3D%22traces%22%20style%3D%22opacity%3A%201%3B%22%20transform%3D%22translate(0%2C14.5)%22%3E%3Ctext%20class%3D%22legendtext%22%20text-anchor%3D%22start%22%20x%3D%2240%22%20y%3D%224.680000000000001%22%20data-unformatted%3D%22VaR%22%20data-math%3D%22N%22%20style%3D%22font-family%3A%20%26quot%3BOpen%20Sans%26quot%3B%2C%20verdana%2C%20arial%2C%20sans-serif%3B%20font-size%3A%2012px%3B%20fill%3A%20rgb(89%2C%2089%2C%2089)%3B%20fill-opacity%3A%201%3B%20white-space%3A%20pre%3B%22%3EVaR%3C%2Ftext%3E%3Cg%20class%3D%22layers%22%20style%3D%22opacity%3A%201%3B%22%3E%3Cg%20class%3D%22legendfill%22%2F%3E%3Cg%20class%3D%22legendlines%22%2F%3E%3Cg%20class%3D%22legendsymbols%22%3E%3Cg%20class%3D%22legendpoints%22%3E%3Cpath%20class%3D%22legendundefined%22%20d%3D%22M6%2C6H-6V-6H6Z%22%20transform%3D%22translate(20%2C0)%22%20style%3D%22stroke-width%3A%200px%3B%20fill%3A%20rgb(78%2C%20121%2C%20167)%3B%20fill-opacity%3A%201%3B%22%2F%3E%3C%2Fg%3E%3C%2Fg%3E%3C%2Fg%3E%3Crect%20class%3D%22legendtoggle%22%20pointer-events%3D%22all%22%20x%3D%220%22%20y%3D%22-9.5%22%20width%3D%2271.59375%22%20height%3D%2219%22%20style%3D%22cursor%3A%20pointer%3B%20fill%3A%20rgb(0%2C%200%2C%200)%3B%20fill-opacity%3A%200%3B%22%2F%3E%3C%2Fg%3E%3C%2Fg%3E%3Cg%20class%3D%22groups%22%20transform%3D%22translate(0%2C10)%22%3E%3Cg%20class%3D%22traces%22%20style%3D%22opacity%3A%201%3B%22%20transform%3D%22translate(0%2C33.5)%22%3E%3Ctext%20class%3D%22legendtext%22%20text-anchor%3D%22start%22%20x%3D%2240%22%20y%3D%224.680000000000001%22%20data-unformatted%3D%22CVaR%22%20data-math%3D%22N%22%20style%3D%22font-family%3A%20%26quot%3BOpen%20Sans%26quot%3B%2C%20verdana%2C%20arial%2C%20sans-serif%3B%20font-size%3A%2012px%3B%20fill%3A%20rgb(89%2C%2089%2C%2089)%3B%20fill-opacity%3A%201%3B%20white-space%3A%20pre%3B%22%3ECVaR%3C%2Ftext%3E%3Cg%20class%3D%22layers%22%20style%3D%22opacity%3A%201%3B%22%3E%3Cg%20class%3D%22legendfill%22%2F%3E%3Cg%20class%3D%22legendlines%22%3E%3Cpath%20class%3D%22js-line%22%20d%3D%22M5%2C0h30%22%20style%3D%22fill%3A%20none%3B%20stroke%3A%20rgb(242%2C%20142%2C%2044)%3B%20stroke-opacity%3A%201%3B%20stroke-width%3A%202px%3B%22%2F%3E%3C%2Fg%3E%3Cg%20class%3D%22legendsymbols%22%3E%3Cg%20class%3D%22legendpoints%22%3E%3Cpath%20class%3D%22scatterpts%22%20transform%3D%22translate(20%2C0)%22%20d%3D%22M3%2C0A3%2C3%200%201%2C1%200%2C-3A3%2C3%200%200%2C1%203%2C0Z%22%20style%3D%22opacity%3A%201%3B%20stroke-width%3A%200px%3B%20fill%3A%20rgb(242%2C%20142%2C%2044)%3B%20fill-opacity%3A%201%3B%22%2F%3E%3Cg%20class%3D%22pointtext%22%20transform%3D%22translate(0%2C12.25)%22%3E%3Ctext%20transform%3D%22translate(20%2C0)%22%20data-unformatted%3D%22Aa%22%20data-math%3D%22N%22%20x%3D%220%22%20y%3D%220%22%20text-anchor%3D%22middle%22%20style%3D%22font-family%3A%20%26quot%3BOpen%20Sans%26quot%3B%2C%20verdana%2C%20arial%2C%20sans-serif%3B%20font-size%3A%2010px%3B%20fill%3A%20rgb(89%2C%2089%2C%2089)%3B%20fill-opacity%3A%201%3B%20white-space%3A%20pre%3B%22%3EAa%3C%2Ftext%3E%3C%2Fg%3E%3C%2Fg%3E%3C%2Fg%3E%3C%2Fg%3E%3Crect%20class%3D%22legendtoggle%22%20pointer-events%3D%22all%22%20x%3D%220%22%20y%3D%22-9.5%22%20width%3D%2271.59375%22%20height%3D%2219%22%20style%3D%22cursor%3A%20pointer%3B%20fill%3A%20rgb(0%2C%200%2C%200)%3B%20fill-opacity%3A%200%3B%22%2F%3E%3C%2Fg%3E%3C%2Fg%3E%3C%2Fg%3E%3Crect%20class%3D%22scrollbar%22%20rx%3D%2220%22%20ry%3D%223%22%20width%3D%220%22%20height%3D%220%22%20style%3D%22fill%3A%20rgb(128%2C%20139%2C%20164)%3B%20fill-opacity%3A%201%3B%22%20x%3D%220%22%20y%3D%220%22%2F%3E%3C%2Fg%3E%3Cg%20class%3D%22g-gtitle%22%2F%3E%3Cg%20class%3D%22g-xtitle%22%2F%3E%3Cg%20class%3D%22g-ytitle%22%2F%3E%3Cg%20class%3D%22g-y2title%22%2F%3E%3C%2Fg%3E%3Cg%20class%3D%22menulayer%22%2F%3E%3Cg%20class%3D%22zoomlayer%22%2F%3E%3Cg%20class%3D%22hoverlayer%22%2F%3E%3C%2Fsvg%3E\">"
      ],
      "text/plain": [
       "Open the notebook in JupyterLab with the Atoti extension enabled to build this widget."
      ]
     },
     "metadata": {},
     "output_type": "display_data"
    }
   ],
   "source": [
    "session.visualize()"
   ]
  },
  {
   "cell_type": "markdown",
   "id": "87b3b928-c4a1-4e6d-b12e-3d5341dba2b2",
   "metadata": {},
   "source": [
    "### Expected Returns"
   ]
  },
  {
   "cell_type": "code",
   "execution_count": 29,
   "id": "c6b3da54-df2d-4e34-b846-cd1fc940b2e4",
   "metadata": {},
   "outputs": [],
   "source": [
    "frequency = 41\n",
    "\n",
    "# we exclude the first date as this value is dropped in optimizer\n",
    "m[\"Expected returns\"] = tt.agg.sum(\n",
    "    tt.array.prod(m[\"daily_ROR_vector\"][1:] + 1)\n",
    "    ** (frequency / tt.array.len(m[\"daily_ROR_vector\"]))\n",
    "    - 1,\n",
    "    scope=tt.OriginScope(l[\"symbol\"]),\n",
    ")\n",
    "m[\"Expected returns\"].formatter = \"DOUBLE[#,##0.000%]\""
   ]
  },
  {
   "cell_type": "code",
   "execution_count": 30,
   "id": "17e0849a-53a6-4ba0-a062-a74f7c1d0b44",
   "metadata": {},
   "outputs": [],
   "source": [
    "m[\"Weighted expected returns\"] = tt.agg.sum(\n",
    "    m[\"Expected returns\"] * m[\"weight.SUM\"],\n",
    "    scope=tt.OriginScope(l[\"symbol\"]),\n",
    ")\n",
    "\n",
    "m[\"weight.SUM\"].formatter = \"DOUBLE[#,##0.00000]\"\n",
    "m[\"Weighted expected returns\"].formatter = \"DOUBLE[#,##0.000%]\""
   ]
  },
  {
   "cell_type": "markdown",
   "id": "3ab0b28a-aa49-4540-bb41-033f37d76e14",
   "metadata": {},
   "source": [
    "### Volitility and Sharpe Ratio"
   ]
  },
  {
   "cell_type": "code",
   "execution_count": 31,
   "id": "be98c9b4-93ea-4d85-989a-f0715292914b",
   "metadata": {},
   "outputs": [],
   "source": [
    "_volatility = tt.agg.sqrt(tt.array.var(m[\"daily_ROR_vector\"]) * frequency)\n",
    "\n",
    "# ignoring correlations between ticker\n",
    "m[\"Volatility\"] = tt.agg.sum_product(\n",
    "    _volatility, m[\"weight.SUM\"], scope=tt.OriginScope(l[\"symbol\"])\n",
    ")\n",
    "m[\"Volatility\"].formatter = \"DOUBLE[#,##0.000%]\"\n",
    "\n",
    "# unweighted volatility\n",
    "m[\"Ticker volatility\"] = tt.agg.sum(_volatility, scope=tt.OriginScope(l[\"symbol\"]))\n",
    "m[\"Ticker volatility\"].formatter = \"DOUBLE[#,##0.000%]\""
   ]
  },
  {
   "cell_type": "code",
   "execution_count": 32,
   "id": "83880db6-0761-44ff-a33e-0b6553a14ea9",
   "metadata": {
    "tags": []
   },
   "outputs": [],
   "source": [
    "# https://www.mlq.ai/python-for-finance-portfolio-optimization/\n",
    "\n",
    "m[\"Mean daily return\"] = tt.array.mean(m[\"Simulated Portfolio Returns Vector\"])\n",
    "m[\"Mean daily return\"].formatter = \"DOUBLE[#,###.00000]\"\n",
    "\n",
    "m[\"Portfolio std\"] = tt.array.std(m[\"Simulated Portfolio Returns Vector\"])\n",
    "m[\"Portfolio std\"].formatter = \"DOUBLE[#,###.00000]\"\n",
    "\n",
    "m[\"Sharpe ratio\"] = m[\"Mean daily return\"] / m[\"Portfolio std\"]\n",
    "m[\"Sharpe ratio\"].formatter = \"DOUBLE[#,##0.0000]\"\n",
    "\n",
    "# unweighted\n",
    "m_ticker_daily_return = tt.array.mean(m[\"unweighted_ROR_vector\"])\n",
    "m_ticker_std = tt.array.std(m[\"unweighted_ROR_vector\"])\n",
    "m[\"Ticker Sharpe ratio\"] = m_ticker_daily_return / m_ticker_std\n",
    "m[\"Ticker Sharpe ratio\"].formatter = \"DOUBLE[#,##0.0000]\""
   ]
  },
  {
   "cell_type": "code",
   "execution_count": 33,
   "id": "750c1569-82ca-4a3d-bfc0-a4c8e1decaa1",
   "metadata": {
    "tags": []
   },
   "outputs": [],
   "source": [
    "# creating measures for the indices\n",
    "m[\"date_index\"] = tt.agg.single_value(historical_dates[\"date_index\"])\n",
    "\n",
    "mthly_idx = tt.agg.single_value(historical_dates[\"monthly_date_index\"])\n",
    "m[\"Monthly Date Index\"] = tt.where(mthly_idx != -1, mthly_idx)\n",
    "\n",
    "# Daily values\n",
    "m[\"Daily Price\"] = m[\"closing_price\"][m[\"date_index\"]]\n",
    "m[\"Daily Price\"].formatter = \"DOUBLE[#,###.00000]\"\n",
    "\n",
    "m[\"Daily ROR\"] = m[\"daily_ROR_vector\"][m[\"date_index\"]]\n",
    "m[\"Daily ROR\"].formatter = \"DOUBLE[#,##0.000%]\"\n",
    "\n",
    "# non-weighted\n",
    "m[\"Daily Returns\"] = m[\"daily_returns_vector\"][m[\"date_index\"]]\n",
    "m[\"Daily Returns\"].formatter = \"DOUBLE[#,###.00000]\"\n",
    "\n",
    "# weighted\n",
    "m[\"Daily Portfolio Returns\"] = m[\"Simulated Portfolio Returns Vector\"][m[\"date_index\"]]\n",
    "m[\"Daily Portfolio Returns\"].formatter = \"DOUBLE[#,##0.000%]\"\n",
    "\n",
    "# monthly values\n",
    "m[\"Monthly ROR\"] = m[\"monthly_ROR_vector\"][m[\"Monthly Date Index\"]]\n",
    "m[\"Monthly ROR\"].formatter = \"DOUBLE[#,##0.000%]\""
   ]
  },
  {
   "cell_type": "code",
   "execution_count": null,
   "id": "dcd4923e-00c8-4381-b546-2dd80faf1499",
   "metadata": {
    "atoti": {
     "widget": {
      "columnWidths": {
       "[Measures].[Sharpe ratio]": 161,
       "[Measures].[Ticker volatility]": 199
      },
      "mapping": {
       "horizontalSubplots": [],
       "secondaryValues": [],
       "splitBy": [
        "ALL_MEASURES"
       ],
       "values": [
        "[Measures].[Sharpe ratio]",
        "[Measures].[Ticker volatility]"
       ],
       "verticalSubplots": [],
       "xAxis": [
        "[portfolios].[symbol].[symbol]"
       ]
      },
      "query": {
       "mdx": "SELECT NON EMPTY {[Measures].[Sharpe ratio], [Measures].[Ticker volatility]} ON COLUMNS, NON EMPTY Hierarchize(Descendants({[portfolios].[symbol].[AllMember]}, 1, SELF_AND_BEFORE)) ON ROWS FROM [esg_optimization] CELL PROPERTIES VALUE, FORMATTED_VALUE, BACK_COLOR, FORE_COLOR, FONT_FLAGS",
       "updateMode": "once"
      },
      "queryContext": [
       {
        "key": "mdx.hiddengrandtotals",
        "value": "1"
       }
      ],
      "serverKey": "default",
      "widgetKey": "plotly-line-chart"
     }
    },
    "tags": []
   },
   "outputs": [
    {
     "data": {
      "application/vnd.atoti.widget.v0+json": {
       "name": null,
       "sessionId": "1694523495_ON6WNL",
       "sessionLocation": {
        "https": false,
        "port": 9092
       },
       "widgetCreationCode": "session.visualize()"
      },
      "text/plain": [
       "Open the notebook in JupyterLab with the Atoti extension enabled to build this widget."
      ]
     },
     "metadata": {},
     "output_type": "display_data"
    }
   ],
   "source": [
    "session.visualize()"
   ]
  },
  {
   "cell_type": "markdown",
   "id": "3c363432-266e-4ea4-8779-ea568e0d35bf",
   "metadata": {},
   "source": [
    "### Cumulative Returns"
   ]
  },
  {
   "cell_type": "code",
   "execution_count": null,
   "id": "88be968a-7034-4f8a-9dec-576c59d78872",
   "metadata": {
    "tags": []
   },
   "outputs": [],
   "source": [
    "m[\"ROR Since Inception\"] = (\n",
    "    tt.agg.prod(\n",
    "        (m[\"Daily Portfolio Returns\"] + 1),\n",
    "        scope=tt.CumulativeScope(level=l[\"historical_date\"]),\n",
    "    )\n",
    "    - 1\n",
    ")\n",
    "m[\"ROR Since Inception\"].formatter = \"DOUBLE[#,##0.000%]\""
   ]
  },
  {
   "cell_type": "code",
   "execution_count": null,
   "id": "6f7e68d1-ead3-42e0-9881-1c4abba7c028",
   "metadata": {
    "atoti": {
     "widget": {
      "mapping": {
       "horizontalSubplots": [],
       "secondaryValues": [],
       "splitBy": [
        "[portfolios].[portfolio].[portfolio]",
        "ALL_MEASURES"
       ],
       "values": [
        "[Measures].[ROR Since Inception]"
       ],
       "verticalSubplots": [],
       "xAxis": [
        "[historical_dates].[historical_date].[historical_date]"
       ]
      },
      "query": {
       "mdx": "SELECT NON EMPTY Crossjoin(Hierarchize(Descendants({[portfolios].[portfolio].[AllMember]}, 1, SELF_AND_BEFORE)), {[Measures].[ROR Since Inception]}) ON COLUMNS, NON EMPTY Hierarchize(Descendants({[historical_dates].[historical_date].[AllMember]}, 1, SELF_AND_BEFORE)) ON ROWS FROM [esg_optimization] CELL PROPERTIES VALUE, FORMATTED_VALUE, BACK_COLOR, FORE_COLOR, FONT_FLAGS",
       "updateMode": "once"
      },
      "serverKey": "default",
      "widgetKey": "plotly-line-chart"
     }
    },
    "tags": []
   },
   "outputs": [],
   "source": [
    "session.visualize(\"ROR Since Inception\")"
   ]
  },
  {
   "cell_type": "markdown",
   "id": "65bbff19-22aa-4487-bcad-7014c3c3cff0",
   "metadata": {},
   "source": [
    "## Tweaking our portfolios\n",
    "\n",
    "### AlphaFlow based Monthly Rebalancing"
   ]
  },
  {
   "cell_type": "markdown",
   "id": "a4924224-256b-4315-ba4d-7ec9643ce787",
   "metadata": {},
   "source": [
    "Assume we did a month rebalancing, where we rebalance our original portfolio for the next month based on institutional signals using Alphaflow. Here, we're using Alphaflow's Method five to give us a hint as to what other institutions think, and use that as the signal for our reblancing"
   ]
  },
  {
   "cell_type": "code",
   "execution_count": null,
   "id": "91b4ba72-59d9-4d83-9ef3-bc568273084e",
   "metadata": {
    "tags": []
   },
   "outputs": [],
   "source": [
    "from utils.monthly_rebal_utils import monthly_rebal\n",
    "\n",
    "df_cq_alphaflow = pd.read_csv(\"./data/cq_alphaflow_daily.csv\")"
   ]
  },
  {
   "cell_type": "code",
   "execution_count": null,
   "id": "98595636-1404-4abf-b6ab-d505bfdad883",
   "metadata": {
    "tags": []
   },
   "outputs": [],
   "source": [
    "# date for which we are rebalancing, name for iteration\n",
    "name = \"2023_A\"\n",
    "date = \"2023-02-01 04:00:00.000\"\n",
    "\n",
    "df = monthly_rebal(\n",
    "    cube.query(\n",
    "        m[\"weight.SUM\"],\n",
    "        levels=[l[\"portfolio\"], l[\"symbol\"], l[\"iteration\"], l[\"method\"]],\n",
    "        filter=((l[\"portfolio\"] == name) & (l[\"iteration\"] == \"base\")),\n",
    "    ),\n",
    "    date,\n",
    "    df_cq_alphaflow,\n",
    ")\n",
    "\n",
    "portfolios.load_pandas(df)"
   ]
  },
  {
   "cell_type": "raw",
   "id": "65b7aee0-34e8-45e8-8f74-6201bfbc7907",
   "metadata": {
    "tags": []
   },
   "source": [
    "# if we want to do this for March\n",
    "name = \"2023_A\"\n",
    "date = \"2023-03-01 04:00:00.000\"\n",
    "\n",
    "df = monthly_rebal(\n",
    "    cube.query(\n",
    "        m[\"weight.SUM\"],\n",
    "        levels=[l[\"portfolio\"], l[\"symbol\"], l[\"iteration\"], l[\"method\"]],\n",
    "        filter=(\n",
    "            (l[\"portfolio\"] == name)\n",
    "            & (l[\"iteration\"] == \"base\")\n",
    "        ),\n",
    "    ),\n",
    "    date,\n",
    "    df_cq_alphaflow\n",
    ")\n",
    "\n",
    "portfolios.load_pandas(df)"
   ]
  },
  {
   "cell_type": "raw",
   "id": "6951c1b9-40c3-4e7e-af29-a95846b97f1e",
   "metadata": {
    "tags": []
   },
   "source": [
    "# and if we want to rebalance 2023_B\n",
    "name = \"2023_B\"\n",
    "date = \"2023-02-01 04:00:00.000\"\n",
    "\n",
    "df = monthly_rebal(\n",
    "    cube.query(\n",
    "        m[\"weight.SUM\"],\n",
    "        levels=[l[\"portfolio\"], l[\"symbol\"], l[\"iteration\"], l[\"method\"]],\n",
    "        filter=(\n",
    "            (l[\"portfolio\"] == name)\n",
    "            & (l[\"iteration\"] == \"base\")\n",
    "        ),\n",
    "    ),\n",
    "    date,\n",
    "    df_cq_alphaflow\n",
    ")\n",
    "\n",
    "portfolios.load_pandas(df)"
   ]
  },
  {
   "cell_type": "markdown",
   "id": "46485ef5-9a8c-42dd-bcc0-f9a2649242c7",
   "metadata": {
    "tags": []
   },
   "source": [
    "### ESG Optimization"
   ]
  },
  {
   "cell_type": "markdown",
   "id": "fcda0994-67c0-4910-b648-3eeed64eba62",
   "metadata": {},
   "source": [
    "#### Symbol and ESG Constraints\n",
    "\n",
    "For this section, we'll consider ESG data related to our company's senior leadership stability. Suppose we want to only consider companies that have had few or no departures in certain positions."
   ]
  },
  {
   "cell_type": "code",
   "execution_count": null,
   "id": "2b9b90c9-997f-4b45-bfe9-c6775d620a49",
   "metadata": {
    "tags": []
   },
   "outputs": [],
   "source": [
    "for x in esg_cols.keys():\n",
    "    m[esg_cols[x]] = tt.agg.single_value(gsq_measure_large_cap[esg_cols[x]])"
   ]
  },
  {
   "cell_type": "code",
   "execution_count": null,
   "id": "7ee36824-4f3c-440b-ac57-dd75d00e5d0e",
   "metadata": {
    "atoti": {
     "widget": {
      "columnWidths": {
       "[Measures].[#CAO_departures_in_past_1_year]": 185,
       "[Measures].[#CEO_departures_in_past_1_year]": 200
      },
      "filters": [
       "Except([gsq_measure_large_cap].[report_date].Members, [gsq_measure_large_cap].[report_date].[AllMember].[1970-01-01])"
      ],
      "mapping": {
       "columns": [
        "ALL_MEASURES"
       ],
       "measures": [
        "[Measures].[#CAO_departures_in_past_1_year]",
        "[Measures].[#CFO_departures_in_past_1_year]",
        "[Measures].[#COO_departures_in_past_1_year]",
        "[Measures].[#CPO_departures_in_past_1_year]",
        "[Measures].[#CEO_departures_in_past_1_year]"
       ],
       "rows": [
        "[gsq_measure_large_cap].[report_date].[report_date]",
        "[portfolios].[symbol].[symbol]"
       ]
      },
      "query": {
       "mdx": "SELECT NON EMPTY Crossjoin(Hierarchize(Descendants({[gsq_measure_large_cap].[report_date].[AllMember]}, 1, SELF_AND_BEFORE)), Hierarchize(Descendants({[portfolios].[symbol].[AllMember]}, 1, SELF_AND_BEFORE))) ON ROWS, NON EMPTY {[Measures].[#CAO_departures_in_past_1_year], [Measures].[#CFO_departures_in_past_1_year], [Measures].[#COO_departures_in_past_1_year], [Measures].[#CPO_departures_in_past_1_year], [Measures].[#CEO_departures_in_past_1_year]} ON COLUMNS FROM [esg_optimization] CELL PROPERTIES VALUE, FORMATTED_VALUE, BACK_COLOR, FORE_COLOR, FONT_FLAGS",
       "updateMode": "once"
      },
      "queryContext": [
       {
        "key": "mdx.hiddensubtotals",
        "value": "[gsq_measure_large_cap].[report_date].[report_date]"
       },
       {
        "key": "mdx.hiddengrandtotals",
        "value": "1"
       }
      ],
      "serverKey": "default",
      "widgetKey": "pivot-table"
     }
    },
    "tags": []
   },
   "outputs": [],
   "source": [
    "session.visualize()"
   ]
  },
  {
   "cell_type": "markdown",
   "id": "32eb86c7-67ff-44cb-bc7f-dbb760ecd26c",
   "metadata": {},
   "source": [
    "#### Optimizing using ESG Data\n",
    "\n",
    "We can now rebalance our chosen portfolio based on our ESG data"
   ]
  },
  {
   "cell_type": "code",
   "execution_count": null,
   "id": "aee0cbff-4124-482a-ac95-f94ae622779b",
   "metadata": {},
   "outputs": [],
   "source": [
    "from utils import helper"
   ]
  },
  {
   "cell_type": "code",
   "execution_count": null,
   "id": "5bc4260d-2d4e-4d25-ac97-75f8367c2fe5",
   "metadata": {
    "tags": []
   },
   "outputs": [],
   "source": [
    "# choosing to ESG rebalance our 2023_A base|base portfolio\n",
    "selected_portfolio = \"2023_A\"\n",
    "selected_method = \"base\"\n",
    "selected_iteration = \"base\"\n",
    "\n",
    "helper_util = helper.Helper(session)\n",
    "helper_util.query_and_optimize(selected_portfolio, selected_method, selected_iteration)"
   ]
  },
  {
   "cell_type": "code",
   "execution_count": null,
   "id": "44edfe80-8ca2-487e-a78a-f9a90b8ee64c",
   "metadata": {
    "tags": []
   },
   "outputs": [],
   "source": [
    "# these functions open the rest api for accessing functions via http string\n",
    "@session.endpoint(\"getIteration/{portfolio}\", method=\"GET\")\n",
    "def get_iteration(request, user, session):\n",
    "    portfolio = request.path_parameters[\"portfolio\"]\n",
    "    helper_util = helper.Helper(session)\n",
    "    opt_mtd = helper_util.get_opt_mtd(portfolio)\n",
    "    return opt_mtd\n",
    "\n",
    "\n",
    "@session.endpoint(\"optimize\", method=\"POST\")\n",
    "def trigger_optimization(request, user, session):\n",
    "    helper_util = helper.Helper(session)\n",
    "    data = request.body\n",
    "    selected_portfolio = data[\"portfolio\"]\n",
    "    selected_method = data[\"method\"]\n",
    "    selected_iteration = data[\"iteration\"]\n",
    "    helper_util.query_and_optimize(\n",
    "        selected_portfolio, selected_method, selected_iteration\n",
    "    )\n",
    "    return f\"hello {selected_portfolio}, {selected_method}, {selected_iteration} \""
   ]
  },
  {
   "cell_type": "code",
   "execution_count": null,
   "id": "04cbdbd0-7da1-4eb4-9518-1d9baf34e1e1",
   "metadata": {
    "tags": []
   },
   "outputs": [],
   "source": [
    "# Compare the original portfolio against your rebalanced or optimized options\n",
    "\n",
    "session.link(path=\"#/dashboard/3ea\")"
   ]
  },
  {
   "cell_type": "markdown",
   "id": "3a2a045e-0a39-4a83-a26f-483e7039f21b",
   "metadata": {},
   "source": [
    "<div style=\"text-align: center;\" ><a href=\"https://www.atoti.io/?utm_source=gallery&utm_content=alt-data\" target=\"_blank\" rel=\"noopener noreferrer\"><img src=\"https://data.atoti.io/notebooks/banners/Your-turn-to-try-Atoti.jpg\" alt=\"Try atoti\"></a></div>"
   ]
  }
 ],
 "metadata": {
  "kernelspec": {
   "display_name": "Python 3 (ipykernel)",
   "language": "python",
   "name": "python3"
  },
  "language_info": {
   "codemirror_mode": {
    "name": "ipython",
    "version": 3
   },
   "file_extension": ".py",
   "mimetype": "text/x-python",
   "name": "python",
   "nbconvert_exporter": "python",
   "pygments_lexer": "ipython3",
   "version": "3.9.9"
  }
 },
 "nbformat": 4,
 "nbformat_minor": 5
}
