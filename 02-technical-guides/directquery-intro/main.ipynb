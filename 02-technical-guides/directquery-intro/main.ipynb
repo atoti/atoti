{
 "cells": [
  {
   "cell_type": "markdown",
   "id": "ac3fbb12-82a8-4e9f-aa4e-e1ad414ce283",
   "metadata": {},
   "source": [
    "# DirectQuery: Combining Atoti and Data Warehouses"
   ]
  },
  {
   "cell_type": "markdown",
   "id": "a671e16d-c06b-432f-92c6-5b2d2f7043bd",
   "metadata": {},
   "source": [
    "We know Atoti provides in-memory analytics for big data. This means that we hold data in memory and perform aggregation on the fly in order to achieve fast and dynamic computations. In our usual Atoti setup, the hosting server requires a memory size that's about 1.5 times of the amount of data that gets loaded into the cube. However, with Atoti's DirectQuery, we can better support our users who store their data on the cloud! In fact, it applies for on-premise databases such as [ClickHouse](https://clickhouse.com/clickhouse) and [Microsoft SQL Server](https://www.microsoft.com/en-sg/sql-server/sql-server-downloads) too.  \n",
    "\n",
    "<img src=\"https://data.atoti.io/notebooks/direct-query/img/cost_vs_performance.png\" width=\"850px\"/>\n",
    "\n",
    "In a gist, here's what DirectQuery offers:  \n",
    "\n",
    "- Scalability\n",
    "\n",
    "> Leveraging the scalability of cloud data warehouse, the server that hosts Atoti only has to take into consideration the amount of data that gets queried on a daily basis.  \n",
    "> Instead of storing all of the data in physical memory, DirectQuery enables us to query the Cloud database directly, reducing the need for memory in the hosting server.  \n",
    "\n",
    "- Cost savings\n",
    "\n",
    "> Other than saving on the memory required for the hosting server, DirectQuery helps to save on the data transfer costs.  \n",
    "> While cloud data warehouse is cost-effective, we incur costs when we perform queries.  \n",
    "> We can reduce querying to the Cloud database by loading an aggregated cache in memory for the most frequently queried data.  \n",
    "\n",
    "- Technology agnosticism\n",
    "\n",
    "> With changes to only a few lines of data connectivity code in Atoti, we can easily switch from one Cloud service provider to another without impacting the Atoti server.  \n",
    "> We can even switch over to other data connectors such as physical files.  \n",
    "\n",
    "\n",
    "This notebook provides a quick introduction to how we can connect to Google BigQuery and create an Atoti cube."
   ]
  },
  {
   "cell_type": "markdown",
   "id": "f23aeb88-5455-44ee-892d-4aa7fc2dbfb7",
   "metadata": {},
   "source": [
    "<div style=\"text-align: center;\" ><a href=\"https://www.atoti.io/?utm_source=gallery&utm_content=directquery-intro\" target=\"_blank\" rel=\"noopener noreferrer\"><img src=\"https://data.atoti.io/notebooks/banners/Discover-Atoti-now.png\" alt=\"Try Atoti\"></a></div>"
   ]
  },
  {
   "cell_type": "markdown",
   "id": "663b2051-11e1-4815-8a2c-fde3d450d07b",
   "metadata": {},
   "source": [
    "## Google BigQuery configuration"
   ]
  },
  {
   "cell_type": "markdown",
   "id": "1db76b03-dbe0-4223-a656-8b7e9e2ff260",
   "metadata": {},
   "source": [
    "### Step 1 — Create role with permissions\n",
    "\n",
    "- Login to Google Cloud console.\n",
    "- Navigate to __IAM & Admin__ > __Roles__.  \n",
    "- Create a role with the following permission for the DirectQuery users:  \n",
    "    - `bigquery.datasets.get`\n",
    "    - `bigquery.jobs.create`\n",
    "    - `bigquery.readsessions.create`\n",
    "    - `bigquery.readsessions.getData`\n",
    "    - `bigquery.readsessions.update`\n",
    "    - `bigquery.routines.get`\n",
    "    - `bigquery.tables.get`\n",
    "    - `bigquery.tables.getData`\n",
    "    - `bigquery.tables.list`\n",
    "\n",
    "⚠️ **Important:** Having trouble pulling your data after setting up your account? Confirm that the above permissions have been set up properly!  \n",
    "\n",
    "<img src=\"https://data.atoti.io/notebooks/direct-query/img/bigquery_permission.png\" />\n",
    "\n",
    "💡 **Note:** For more details, refer to the [Atoti Server documentation](https://docs.activeviam.com/products/atoti/server/latest/docs/directquery/connect_to_external/connect_to_bigquery/)."
   ]
  },
  {
   "cell_type": "markdown",
   "id": "2143280e-d2b0-4da1-b20d-78af65d26753",
   "metadata": {},
   "source": [
    "### Step 2 — Create Service Account\n",
    "\n",
    "* Under **IAM & Admin**, navigate to **Service Accounts**.\n",
    "* Create a service account and assign the role created in Step 1.\n",
    "\n",
    "    <img src=\"https://data.atoti.io/notebooks/direct-query/img/service_account.png\" width=\"700px\"/>  "
   ]
  },
  {
   "cell_type": "markdown",
   "id": "03e75ceb-055a-4986-aa8d-6858422b260a",
   "metadata": {
    "tags": []
   },
   "source": [
    "### Step 3 — Generate API Key \n",
    "\n",
    "- Navigate to the __KEYS__ tab and generate a new key.  \n",
    "\n",
    "    <img src=\"https://data.atoti.io/notebooks/direct-query/img/create_key.png\" />  \n",
    "\n",
    "- Select `JSON` as key type and save the downloaded key to a server folder:  \n",
    "\n",
    "    <img src=\"https://data.atoti.io/notebooks/direct-query/img/json_key.png\" />\n",
    "\n",
    "- Configure environment variable pointing to the JSON key. In this use case, our environment variable is `DQ_GOOGLE_CREDENTIAL`:  \n",
    "\n",
    "    <img src=\"https://data.atoti.io/notebooks/direct-query/img/environment_variable.png\" />  \n",
    "\n",
    "💡 **Note:** Alternatively, we can set up [Application Default Credentials](https://cloud.google.com/docs/authentication/provide-credentials-adc) for authentication.  "
   ]
  },
  {
   "cell_type": "markdown",
   "id": "95e30413-d630-4b1b-a304-d824e9649c3d",
   "metadata": {},
   "source": [
    "## Database set up  \n",
    "\n",
    "To try out this notebook, you can setup the database schema and tables using the [database script](db_schema.sql) in the use case folder.  "
   ]
  },
  {
   "cell_type": "markdown",
   "id": "fcfd6d72-801a-460c-9e1f-4e0843909442",
   "metadata": {},
   "source": [
    "## Atoti Setup"
   ]
  },
  {
   "cell_type": "markdown",
   "id": "8857ebb1-032f-4b69-84e6-b8cf7e431def",
   "metadata": {},
   "source": [
    "We import [Atoti](https://docs.atoti.io/latest/getting_started/installation.html) library and create the [Atoti Session](https://docs.atoti.io/latest/api/atoti.Session.html#atoti.Session) as we always do.  "
   ]
  },
  {
   "cell_type": "code",
   "execution_count": 1,
   "id": "7d97f0ea-5b39-4c60-9a10-1cae5a22616d",
   "metadata": {
    "tags": []
   },
   "outputs": [],
   "source": [
    "import os\n",
    "import atoti as tt"
   ]
  },
  {
   "cell_type": "code",
   "execution_count": 2,
   "id": "3898f076-a031-49b7-a75f-074008d89a26",
   "metadata": {
    "tags": []
   },
   "outputs": [],
   "source": [
    "session = tt.Session()"
   ]
  },
  {
   "cell_type": "markdown",
   "id": "9e855ec8-18bb-46fa-8e99-751edafeb94c",
   "metadata": {},
   "source": [
    "## DirectQuery Prerequisites"
   ]
  },
  {
   "cell_type": "markdown",
   "id": "01a8923b-80b3-4bfd-86a0-2d705d4bb805",
   "metadata": {},
   "source": [
    "DirectQuery supports a few [databases](https://docs.atoti.io/latest/reference.html#directquery). For each of these databases, we have to install its respective Python plugin.  \n",
    "- `atoti-directquery-bigquery` : To use DirectQuery on Google BigQuery.\n",
    "- `atoti-directquery-clickhouse` : To use DirectQuery with ClickHouse.\n",
    "- `atoti-directquery-databricks` : To use DirectQuery on Databricks.\n",
    "- `atoti-directquery-mssql` : To use DirectQuery with Microsoft SQL Server.\n",
    "- `atoti-directquery-redshift` : To use DirectQuery on Amazon Redshift.\n",
    "- `atoti-directquery-snowflake` : To use DirectQuery on Snowflake.\n",
    "- `atoti-directquery-synapse` : To use DirectQuery on Azure Synapse Analytics.  \n",
    "\n",
    "In our example, we install the plugin for Google BigQuery. Uncomment the below line to install the plugin if it isn't installed.  \n",
    "\n",
    "⚠️ **Important:** We only support one type of database connection per Atoti session."
   ]
  },
  {
   "cell_type": "code",
   "execution_count": 3,
   "id": "af8780d7-ec54-481a-98d7-4cc9f7e030c1",
   "metadata": {
    "tags": []
   },
   "outputs": [],
   "source": [
    "# !pip install atoti-directquery-bigquery"
   ]
  },
  {
   "cell_type": "markdown",
   "id": "1d997a63-e2db-48f9-b501-0532c5eabb3d",
   "metadata": {},
   "source": [
    "We will be using two components from the DirectQueryPlugin:\n",
    "- [BigqueryConnectionInfo](https://docs.atoti.io/latest/api/atoti_directquery_bigquery.BigqueryConnectionInfo.html#atoti_directquery_bigquery.BigqueryConnectionInfo): Configure the connection information to BigQuery.\n",
    "- [BigqueryTableOptions](https://docs.atoti.io/latest/api/atoti_directquery_bigquery.BigqueryTableOptions.html#atoti_directquery_bigquery.BigqueryTableOptions): Configure the table options about the external table to create in Atoti.  \n",
    "\n",
    "⚠️ **Important:** Use the corresponding components for different databases if we are using a different one from BigQuery. E.g. we use [`ClickhouseConnectionInfo`](https://docs.atoti.io/latest/api/atoti_directquery_clickhouse.ClickhouseConnectionInfo.html#atoti_directquery_clickhouse.ClickhouseConnectionInfo) and [`ClickhouseTableOptions`](https://docs.atoti.io/latest/api/atoti_directquery_clickhouse.ClickhouseTableOptions.html#atoti_directquery_clickhouse.ClickhouseTableOptions) if we are connecting to [ClickHouse](https://clickhouse.com/)."
   ]
  },
  {
   "cell_type": "markdown",
   "id": "4509d71b-4d1b-4297-b18a-10430b128507",
   "metadata": {},
   "source": [
    "## Connection setup to Google BigQuery"
   ]
  },
  {
   "cell_type": "code",
   "execution_count": 4,
   "id": "f5eb2f90-be60-4332-80d2-1a5cd83147d4",
   "metadata": {
    "tags": []
   },
   "outputs": [],
   "source": [
    "from atoti_directquery_bigquery import BigqueryConnectionInfo"
   ]
  },
  {
   "cell_type": "markdown",
   "id": "00b90385-93af-479f-888a-bc0677f73eb2",
   "metadata": {},
   "source": [
    "In the below snippet, we use the environment variable to obtain the path to the [API key generated previous in Step 3](#Step-3-—-Generate-API-Key). Setting the credential path into `BigqueryConnectionInfo`, we can invoke the connection to the external database.  "
   ]
  },
  {
   "cell_type": "code",
   "execution_count": 5,
   "id": "ea50d105-284f-4296-b654-b5465037d634",
   "metadata": {
    "tags": []
   },
   "outputs": [],
   "source": [
    "credential = os.environ[\"DQ_GOOGLE_CREDENTIAL\"]\n",
    "connection_info = BigqueryConnectionInfo(credential)\n",
    "\n",
    "external_database = session.connect_to_external_database(connection_info)"
   ]
  },
  {
   "cell_type": "markdown",
   "id": "8e7f4c10-5dc6-4c53-aeea-ef4864471caf",
   "metadata": {},
   "source": [
    "### Discover External Tables"
   ]
  },
  {
   "cell_type": "markdown",
   "id": "51f3c2ee-c57b-49df-9756-60c96d9b0734",
   "metadata": {
    "tags": []
   },
   "source": [
    "Once connected, we can discover the tables available to us from the external database."
   ]
  },
  {
   "cell_type": "code",
   "execution_count": 6,
   "id": "5e85bd6f-dd6a-4ab8-a2f2-51d7759466de",
   "metadata": {
    "tags": []
   },
   "outputs": [
    {
     "data": {
      "application/json": {
       "activeviam-dq-tutorial": {
        "tutorial": [
         "PRODUCTS",
         "SALES"
        ]
       }
      },
      "text/html": [
       "<ul>\n",
       "<li>BIGQUERY\n",
       "  <ul>\n",
       "  <li>activeviam-dq-tutorial\n",
       "    <ul>\n",
       "    <li>tutorial\n",
       "      <ol>\n",
       "      <li>PRODUCTS</li>\n",
       "      <li>SALES</li>\n",
       "      </ol>    </li>\n",
       "    </ul>\n",
       "  </li>\n",
       "  </ul>\n",
       "</li>\n",
       "</ul>\n"
      ],
      "text/plain": [
       "<atoti.directquery.external_tables.ExternalTables at 0x11c47d960>"
      ]
     },
     "execution_count": 6,
     "metadata": {
      "application/json": {
       "expanded": false,
       "root": "BIGQUERY"
      }
     },
     "output_type": "execute_result"
    }
   ],
   "source": [
    "external_database.tables"
   ]
  },
  {
   "cell_type": "markdown",
   "id": "4187eaef-cae3-44ca-80c1-dd952dd3faab",
   "metadata": {},
   "source": [
    "If the database has many schemas, we can perform a filter to access only the schema that we want."
   ]
  },
  {
   "cell_type": "code",
   "execution_count": 7,
   "id": "63c5fafe-05e1-429e-8f35-9f3f072e34f7",
   "metadata": {
    "tags": []
   },
   "outputs": [
    {
     "data": {
      "application/json": {
       "activeviam-dq-tutorial": {
        "tutorial": [
         "PRODUCTS",
         "SALES"
        ]
       }
      },
      "text/html": [
       "<ul>\n",
       "<li>BIGQUERY\n",
       "  <ul>\n",
       "  <li>activeviam-dq-tutorial\n",
       "    <ul>\n",
       "    <li>tutorial\n",
       "      <ol>\n",
       "      <li>PRODUCTS</li>\n",
       "      <li>SALES</li>\n",
       "      </ol>    </li>\n",
       "    </ul>\n",
       "  </li>\n",
       "  </ul>\n",
       "</li>\n",
       "</ul>\n"
      ],
      "text/plain": [
       "<atoti.directquery.external_tables.ExternalTables at 0x11c47efb0>"
      ]
     },
     "execution_count": 7,
     "metadata": {
      "application/json": {
       "expanded": false,
       "root": "BIGQUERY"
      }
     },
     "output_type": "execute_result"
    }
   ],
   "source": [
    "external_database.tables._filter(schema_pattern=\"tutorial\")"
   ]
  },
  {
   "cell_type": "markdown",
   "id": "f1308a2c-a4d2-40e5-9985-7013fa05a9fb",
   "metadata": {},
   "source": [
    "### Discover Table Columns"
   ]
  },
  {
   "cell_type": "markdown",
   "id": "e72119a9-ed38-4d83-a8a5-1fe021b48e5c",
   "metadata": {},
   "source": [
    "If a table name is unique in the database, we can check its structure directly using its name:  "
   ]
  },
  {
   "cell_type": "code",
   "execution_count": 8,
   "id": "f91519b6-a36b-4f0c-b1f0-949b0be22d5f",
   "metadata": {
    "tags": []
   },
   "outputs": [
    {
     "data": {
      "application/json": {
       "DATE": "LocalDate",
       "PRODUCT": "String",
       "QUANTITY": "long",
       "SALE_ID": "String",
       "SHOP": "String",
       "UNIT_PRICE": "double"
      },
      "text/html": [
       "<ul>\n",
       "<li>SALES\n",
       "  <ul>\n",
       "  <li>SALE_ID: String</li>\n",
       "  <li>DATE: LocalDate</li>\n",
       "  <li>SHOP: String</li>\n",
       "  <li>PRODUCT: String</li>\n",
       "  <li>QUANTITY: long</li>\n",
       "  <li>UNIT_PRICE: double</li>\n",
       "  </ul>\n",
       "</li>\n",
       "</ul>\n"
      ],
      "text/plain": [
       "<atoti_directquery_bigquery.table.BigqueryTable at 0x11c47f970>"
      ]
     },
     "execution_count": 8,
     "metadata": {
      "application/json": {
       "expanded": true,
       "root": "SALES"
      }
     },
     "output_type": "execute_result"
    }
   ],
   "source": [
    "external_database.tables[\"SALES\"]"
   ]
  },
  {
   "cell_type": "markdown",
   "id": "1d9ef3fb-85a5-472b-aa12-8a88e3d1e6d9",
   "metadata": {},
   "source": [
    "However, to be precise, it is a good practice to refer to the table using its database, schema and table names. Uncomment and execute the following cells as to try this out."
   ]
  },
  {
   "cell_type": "code",
   "execution_count": 9,
   "id": "247c876c-2b44-4b0f-8bcf-8864350bb3d6",
   "metadata": {
    "tags": []
   },
   "outputs": [],
   "source": [
    "# db_name = \"<database name here>\"\n",
    "# db_schema = \"tutorial\"\n",
    "# table_sales = \"SALES\""
   ]
  },
  {
   "cell_type": "code",
   "execution_count": 10,
   "id": "fbfde589-b458-474d-8665-af7b016598bc",
   "metadata": {
    "tags": []
   },
   "outputs": [],
   "source": [
    "# external_database.tables[db_name, db_schema, table_sales]"
   ]
  },
  {
   "cell_type": "markdown",
   "id": "85d14ebe-eb8a-4216-8564-8330b4b7b0d9",
   "metadata": {},
   "source": [
    "## Add External Table to Atoti"
   ]
  },
  {
   "cell_type": "markdown",
   "id": "8fa1b581-ee16-4730-8ea2-b29fa14ee03a",
   "metadata": {},
   "source": [
    "Since we have connected to the external database and we are able to see its structure, we can add the required tables to the Atoti session.  \n",
    "\n",
    "Using [BigqueryTableOptions](https://docs.atoti.io/latest/api/atoti_directquery_bigquery.BigqueryTableOptions.html#atoti_directquery_bigquery.BigqueryTableOptions), we can define additional options to the table that we will create in Atoti:\n",
    "\n",
    "- `array_conversion`: Converting values spread over multiple columns into array columns.\n",
    "- `clustering_columns`: Columns used for splitting up queries.\n",
    "- `keys`: Keys used to identify unique rows for updating of data.\n",
    "\n",
    "We will only use `keys` and `clustering_columns` in our example."
   ]
  },
  {
   "cell_type": "code",
   "execution_count": 11,
   "id": "7dab34b4-ca6f-4c80-8ba9-f8534f9eae5b",
   "metadata": {
    "tags": []
   },
   "outputs": [],
   "source": [
    "from atoti_directquery_bigquery import BigqueryTableOptions"
   ]
  },
  {
   "cell_type": "markdown",
   "id": "790b7a07-c762-438a-878e-de3611f39b5c",
   "metadata": {},
   "source": [
    "Similar to how we create keys for Atoti tables, we set the key columns in the `BigqueryTableOptions`. Note that this external table is created in Atoti and the defined keys affects only the data that is accessible in Atoti. It does not change the tables in BigQuery.  \n",
    "\n",
    "To distinguish our Atoti external table from the BigQuery table, we named them differently in our example.  "
   ]
  },
  {
   "cell_type": "code",
   "execution_count": 12,
   "id": "a580d644-94e0-4772-ac94-a9600bc08546",
   "metadata": {
    "tags": []
   },
   "outputs": [],
   "source": [
    "sales_table = session.add_external_table(\n",
    "    external_database.tables[\"SALES\"],\n",
    "    table_name=\"Atoti Sales\",\n",
    "    options=BigqueryTableOptions(\n",
    "        keys=[\"SALE_ID\"], clustering_columns={\"DATE\", \"PRODUCT\"}\n",
    "    ),\n",
    ")"
   ]
  },
  {
   "cell_type": "markdown",
   "id": "ac9b4de4-60f9-45d9-8b87-e7d0452714ee",
   "metadata": {},
   "source": [
    "To speed up querying, Atoti makes use of [aggregate providers](https://docs.atoti.io/latest/api/atoti.AggregateProvider.html#atoti.AggregateProvider) to pre-aggregates some table columns up to certain levels. Feeding such providers from an external database can result in very large queries to be run on the database. Some databases can have trouble processing such large queries. Therefore, we define [clustering columns](https://docs.activeviam.com/products/atoti/server/latest/docs/directquery/directquery-clustering-fields/) to help split up queries made by DirectQuery to these external database when feeding the aggregate providers.  \n",
    "\n",
    "The `clustering_columns` parameter allows us to define columns to be used for clustering. While our example uses a small dataset and clustering column is not necessary, we demonstrate how it can be used in the snippet above.  "
   ]
  },
  {
   "cell_type": "code",
   "execution_count": 13,
   "id": "561e7c19-28cc-4796-918b-24de800147a7",
   "metadata": {
    "tags": []
   },
   "outputs": [
    {
     "data": {
      "text/html": [
       "<div>\n",
       "<style scoped>\n",
       "    .dataframe tbody tr th:only-of-type {\n",
       "        vertical-align: middle;\n",
       "    }\n",
       "\n",
       "    .dataframe tbody tr th {\n",
       "        vertical-align: top;\n",
       "    }\n",
       "\n",
       "    .dataframe thead th {\n",
       "        text-align: right;\n",
       "    }\n",
       "</style>\n",
       "<table border=\"1\" class=\"dataframe\">\n",
       "  <thead>\n",
       "    <tr style=\"text-align: right;\">\n",
       "      <th></th>\n",
       "      <th>DATE</th>\n",
       "      <th>SHOP</th>\n",
       "      <th>PRODUCT</th>\n",
       "      <th>QUANTITY</th>\n",
       "      <th>UNIT_PRICE</th>\n",
       "    </tr>\n",
       "    <tr>\n",
       "      <th>SALE_ID</th>\n",
       "      <th></th>\n",
       "      <th></th>\n",
       "      <th></th>\n",
       "      <th></th>\n",
       "      <th></th>\n",
       "    </tr>\n",
       "  </thead>\n",
       "  <tbody>\n",
       "    <tr>\n",
       "      <th>S0010</th>\n",
       "      <td>2022-01-31</td>\n",
       "      <td>shop_2</td>\n",
       "      <td>BED_2</td>\n",
       "      <td>3</td>\n",
       "      <td>150.0</td>\n",
       "    </tr>\n",
       "    <tr>\n",
       "      <th>S0009</th>\n",
       "      <td>2022-01-31</td>\n",
       "      <td>shop_3</td>\n",
       "      <td>BED_2</td>\n",
       "      <td>1</td>\n",
       "      <td>150.0</td>\n",
       "    </tr>\n",
       "    <tr>\n",
       "      <th>S0008</th>\n",
       "      <td>2022-01-31</td>\n",
       "      <td>shop_4</td>\n",
       "      <td>BED_2</td>\n",
       "      <td>1</td>\n",
       "      <td>150.0</td>\n",
       "    </tr>\n",
       "    <tr>\n",
       "      <th>S0007</th>\n",
       "      <td>2022-02-01</td>\n",
       "      <td>shop_5</td>\n",
       "      <td>BED_2</td>\n",
       "      <td>1</td>\n",
       "      <td>150.0</td>\n",
       "    </tr>\n",
       "    <tr>\n",
       "      <th>S0019</th>\n",
       "      <td>2022-02-02</td>\n",
       "      <td>shop_3</td>\n",
       "      <td>HOO_5</td>\n",
       "      <td>1</td>\n",
       "      <td>48.0</td>\n",
       "    </tr>\n",
       "  </tbody>\n",
       "</table>\n",
       "</div>"
      ],
      "text/plain": [
       "              DATE    SHOP PRODUCT  QUANTITY  UNIT_PRICE\n",
       "SALE_ID                                                 \n",
       "S0010   2022-01-31  shop_2   BED_2         3       150.0\n",
       "S0009   2022-01-31  shop_3   BED_2         1       150.0\n",
       "S0008   2022-01-31  shop_4   BED_2         1       150.0\n",
       "S0007   2022-02-01  shop_5   BED_2         1       150.0\n",
       "S0019   2022-02-02  shop_3   HOO_5         1        48.0"
      ]
     },
     "execution_count": 13,
     "metadata": {},
     "output_type": "execute_result"
    }
   ],
   "source": [
    "sales_table.head()"
   ]
  },
  {
   "cell_type": "markdown",
   "id": "dc44214e-743e-4937-9269-61498986355b",
   "metadata": {},
   "source": [
    "We can add multiple tables."
   ]
  },
  {
   "cell_type": "code",
   "execution_count": 14,
   "id": "f282f67a-dfa9-4ba1-aef7-779ec734fe50",
   "metadata": {
    "tags": []
   },
   "outputs": [
    {
     "data": {
      "text/html": [
       "<div>\n",
       "<style scoped>\n",
       "    .dataframe tbody tr th:only-of-type {\n",
       "        vertical-align: middle;\n",
       "    }\n",
       "\n",
       "    .dataframe tbody tr th {\n",
       "        vertical-align: top;\n",
       "    }\n",
       "\n",
       "    .dataframe thead th {\n",
       "        text-align: right;\n",
       "    }\n",
       "</style>\n",
       "<table border=\"1\" class=\"dataframe\">\n",
       "  <thead>\n",
       "    <tr style=\"text-align: right;\">\n",
       "      <th></th>\n",
       "      <th>CATEGORY</th>\n",
       "      <th>SUB_CATEGORY</th>\n",
       "      <th>SIZE</th>\n",
       "      <th>PURCHASE_PRICE</th>\n",
       "      <th>COLOR</th>\n",
       "      <th>BRAND</th>\n",
       "    </tr>\n",
       "    <tr>\n",
       "      <th>PRODUCT_ID</th>\n",
       "      <th></th>\n",
       "      <th></th>\n",
       "      <th></th>\n",
       "      <th></th>\n",
       "      <th></th>\n",
       "      <th></th>\n",
       "    </tr>\n",
       "  </thead>\n",
       "  <tbody>\n",
       "    <tr>\n",
       "      <th>BED_2</th>\n",
       "      <td>Furniture</td>\n",
       "      <td>Bed</td>\n",
       "      <td>Single</td>\n",
       "      <td>127.0</td>\n",
       "      <td>red</td>\n",
       "      <td>Mega</td>\n",
       "    </tr>\n",
       "    <tr>\n",
       "      <th>TAB_0</th>\n",
       "      <td>Furniture</td>\n",
       "      <td>Table</td>\n",
       "      <td>1m80</td>\n",
       "      <td>190.0</td>\n",
       "      <td>black</td>\n",
       "      <td>Basic</td>\n",
       "    </tr>\n",
       "    <tr>\n",
       "      <th>TAB_1</th>\n",
       "      <td>Furniture</td>\n",
       "      <td>Table</td>\n",
       "      <td>2m40</td>\n",
       "      <td>280.0</td>\n",
       "      <td>white</td>\n",
       "      <td>Mega</td>\n",
       "    </tr>\n",
       "    <tr>\n",
       "      <th>HOO_5</th>\n",
       "      <td>Cloth</td>\n",
       "      <td>Hoodie</td>\n",
       "      <td>M</td>\n",
       "      <td>38.0</td>\n",
       "      <td>red</td>\n",
       "      <td>Mega</td>\n",
       "    </tr>\n",
       "    <tr>\n",
       "      <th>TSH_4</th>\n",
       "      <td>Cloth</td>\n",
       "      <td>Tshirt</td>\n",
       "      <td>L</td>\n",
       "      <td>20.0</td>\n",
       "      <td>black</td>\n",
       "      <td>Over</td>\n",
       "    </tr>\n",
       "  </tbody>\n",
       "</table>\n",
       "</div>"
      ],
      "text/plain": [
       "             CATEGORY SUB_CATEGORY    SIZE  PURCHASE_PRICE  COLOR  BRAND\n",
       "PRODUCT_ID                                                              \n",
       "BED_2       Furniture          Bed  Single           127.0    red   Mega\n",
       "TAB_0       Furniture        Table    1m80           190.0  black  Basic\n",
       "TAB_1       Furniture        Table    2m40           280.0  white   Mega\n",
       "HOO_5           Cloth       Hoodie       M            38.0    red   Mega\n",
       "TSH_4           Cloth       Tshirt       L            20.0  black   Over"
      ]
     },
     "execution_count": 14,
     "metadata": {},
     "output_type": "execute_result"
    }
   ],
   "source": [
    "products_table = session.add_external_table(\n",
    "    external_database.tables[\"PRODUCTS\"],\n",
    "    table_name=\"Atoti Product\",\n",
    "    options=BigqueryTableOptions(keys=[\"PRODUCT_ID\"]),\n",
    ")\n",
    "\n",
    "products_table.head()"
   ]
  },
  {
   "cell_type": "markdown",
   "id": "57349699-117a-4cf9-bb95-5910f18d5187",
   "metadata": {},
   "source": [
    "Once we have created our external tables, the rest is _simply the usual stuff for Atoti_."
   ]
  },
  {
   "cell_type": "markdown",
   "id": "564a8bad-9c60-4c7a-b94e-918b5112cfdb",
   "metadata": {
    "tags": []
   },
   "source": [
    "## Atoti Cube Setup"
   ]
  },
  {
   "cell_type": "markdown",
   "id": "2f24568b-71da-4341-a716-f8abdbdce17d",
   "metadata": {
    "tags": []
   },
   "source": [
    "From this section onwards, the coding remains the same regardless of the underlying data source.  \n",
    "\n",
    "As we have always done, we join the tables and create the cube."
   ]
  },
  {
   "cell_type": "code",
   "execution_count": 15,
   "id": "93f6c667-27b6-4e2e-9685-ef275235622c",
   "metadata": {
    "tags": []
   },
   "outputs": [
    {
     "data": {
      "image/png": "[encoded data removed]",
      "text/plain": [
       "erDiagram\n",
       "  \"Atoti Product\" {\n",
       "    _ String PK \"PRODUCT_ID\"\n",
       "    _ String \"CATEGORY\"\n",
       "    _ String \"SUB_CATEGORY\"\n",
       "    _ String \"SIZE\"\n",
       "    _ double \"PURCHASE_PRICE\"\n",
       "    _ String \"COLOR\"\n",
       "    _ String \"BRAND\"\n",
       "  }\n",
       "  \"Atoti Sales\" {\n",
       "    _ String PK \"SALE_ID\"\n",
       "    _ LocalDate \"DATE\"\n",
       "    _ String \"SHOP\"\n",
       "    _ String \"PRODUCT\"\n",
       "    _ long \"QUANTITY\"\n",
       "    _ double \"UNIT_PRICE\"\n",
       "  }\n",
       "  \"Atoti Sales\" }o--o| \"Atoti Product\" : \"`PRODUCT` == `PRODUCT_ID`\""
      ]
     },
     "execution_count": 15,
     "metadata": {},
     "output_type": "execute_result"
    }
   ],
   "source": [
    "sales_table.join(products_table, sales_table[\"PRODUCT\"] == products_table[\"PRODUCT_ID\"])\n",
    "cube = session.create_cube(sales_table)\n",
    "session.tables.schema"
   ]
  },
  {
   "cell_type": "code",
   "execution_count": 16,
   "id": "4ee29cb6-1f57-43f2-b6e7-ad2e72d8abd4",
   "metadata": {
    "atoti": {
     "widget": {
      "mapping": {
       "columns": [
        "ALL_MEASURES"
       ],
       "measures": [
        "[Measures].[QUANTITY.SUM]"
       ],
       "rows": [
        "[Atoti Sales].[DATE].[DATE]",
        "[Atoti Sales].[SHOP].[SHOP] => [Atoti Product].[BRAND].[BRAND]"
       ]
      },
      "name": "Quantity sold across dates by shops",
      "query": {
       "mdx": "SELECT NON EMPTY {[Measures].[QUANTITY.SUM]} ON COLUMNS, NON EMPTY Hierarchize(Union(Crossjoin(Hierarchize(Descendants({[Atoti Sales].[DATE].[AllMember]}, 1, SELF_AND_BEFORE)), Hierarchize(Descendants({[Atoti Sales].[SHOP].[AllMember]}, 1, SELF_AND_BEFORE)), [Atoti Product].[BRAND].DefaultMember), Crossjoin([Atoti Sales].[DATE].[AllMember].[2022-01-31], [Atoti Sales].[SHOP].[AllMember].[shop_2], Hierarchize(Descendants({[Atoti Product].[BRAND].[AllMember]}, 1, SELF_AND_BEFORE))))) ON ROWS FROM [Atoti Sales] CELL PROPERTIES VALUE, FORMATTED_VALUE, BACK_COLOR, FORE_COLOR, FONT_FLAGS",
       "updateMode": "once"
      },
      "serverKey": "default",
      "widgetKey": "pivot-table"
     }
    },
    "tags": []
   },
   "outputs": [
    {
     "data": {
      "application/vnd.atoti.widget.v0+json": {
       "sessionId": "1717600888_OARXHZ",
       "sessionLocation": {
        "https": false,
        "port": 59407
       },
       "widgetCreationCode": "session.widget"
      },
      "text/html": [
       "<img height=\"352\" width=\"1304\" src=\"data:image/png;base64,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\" />"
      ],
      "text/plain": [
       "Open the notebook in JupyterLab with the Atoti JupyterLab extension enabled to build this widget."
      ]
     },
     "metadata": {},
     "output_type": "display_data"
    }
   ],
   "source": [
    "session.widget"
   ]
  },
  {
   "cell_type": "markdown",
   "id": "623a5cce-fee4-489b-9250-c5dd542fb708",
   "metadata": {},
   "source": [
    "### Cube manipulation"
   ]
  },
  {
   "cell_type": "markdown",
   "id": "ad616201-0cc7-4012-8e54-66a99c9c1a23",
   "metadata": {},
   "source": [
    "We perform hierarchy manipulation, level ordering and measure creations the same way we always do in Atoti."
   ]
  },
  {
   "cell_type": "code",
   "execution_count": 17,
   "id": "27bebe22-10e5-4b67-9c18-4bb478fef70b",
   "metadata": {
    "tags": []
   },
   "outputs": [],
   "source": [
    "h, l, m = cube.hierarchies, cube.levels, cube.measures"
   ]
  },
  {
   "cell_type": "code",
   "execution_count": 18,
   "id": "fe4aea14-fc25-4a2d-9401-0ce01df385e4",
   "metadata": {
    "tags": []
   },
   "outputs": [],
   "source": [
    "h[\"CATEGORY\"] = [l[\"CATEGORY\"], l[\"SUB_CATEGORY\"]]\n",
    "del h[\"SUB_CATEGORY\"]"
   ]
  },
  {
   "cell_type": "code",
   "execution_count": 19,
   "id": "efc5d476-6465-4ccf-93d3-9f5dfe19df3c",
   "metadata": {
    "tags": []
   },
   "outputs": [
    {
     "data": {
      "application/json": {
       "Atoti Product": {
        "BRAND": [
         "BRAND"
        ],
        "CATEGORY": [
         "CATEGORY",
         "SUB_CATEGORY"
        ],
        "COLOR": [
         "COLOR"
        ],
        "SIZE": [
         "SIZE"
        ]
       },
       "Atoti Sales": {
        "DATE": [
         "DATE"
        ],
        "PRODUCT": [
         "PRODUCT"
        ],
        "SALE_ID": [
         "SALE_ID"
        ],
        "SHOP": [
         "SHOP"
        ]
       }
      },
      "text/html": [
       "<ul>\n",
       "<li>Dimensions\n",
       "  <ul>\n",
       "  <li>Atoti Product\n",
       "    <ul>\n",
       "    <li>BRAND\n",
       "      <ol>\n",
       "      <li>BRAND</li>\n",
       "      </ol>    </li>\n",
       "    <li>CATEGORY\n",
       "      <ol>\n",
       "      <li>CATEGORY</li>\n",
       "      <li>SUB_CATEGORY</li>\n",
       "      </ol>    </li>\n",
       "    <li>COLOR\n",
       "      <ol>\n",
       "      <li>COLOR</li>\n",
       "      </ol>    </li>\n",
       "    <li>SIZE\n",
       "      <ol>\n",
       "      <li>SIZE</li>\n",
       "      </ol>    </li>\n",
       "    </ul>\n",
       "  </li>\n",
       "  <li>Atoti Sales\n",
       "    <ul>\n",
       "    <li>DATE\n",
       "      <ol>\n",
       "      <li>DATE</li>\n",
       "      </ol>    </li>\n",
       "    <li>PRODUCT\n",
       "      <ol>\n",
       "      <li>PRODUCT</li>\n",
       "      </ol>    </li>\n",
       "    <li>SALE_ID\n",
       "      <ol>\n",
       "      <li>SALE_ID</li>\n",
       "      </ol>    </li>\n",
       "    <li>SHOP\n",
       "      <ol>\n",
       "      <li>SHOP</li>\n",
       "      </ol>    </li>\n",
       "    </ul>\n",
       "  </li>\n",
       "  </ul>\n",
       "</li>\n",
       "</ul>\n"
      ],
      "text/plain": [
       "{('Atoti Product', 'BRAND'): <atoti.hierarchy.Hierarchy object at 0x11c71b850>, ('Atoti Sales', 'DATE'): <atoti.hierarchy.Hierarchy object at 0x11c71add0>, ('Atoti Sales', 'SHOP'): <atoti.hierarchy.Hierarchy object at 0x11c71bbe0>, ('Atoti Product', 'COLOR'): <atoti.hierarchy.Hierarchy object at 0x11c719c00>, ('Atoti Sales', 'PRODUCT'): <atoti.hierarchy.Hierarchy object at 0x11c71bc70>, ('Atoti Product', 'SIZE'): <atoti.hierarchy.Hierarchy object at 0x11c71afb0>, ('Atoti Product', 'CATEGORY'): <atoti.hierarchy.Hierarchy object at 0x11c71a500>, ('Atoti Sales', 'SALE_ID'): <atoti.hierarchy.Hierarchy object at 0x11c78e470>}"
      ]
     },
     "execution_count": 19,
     "metadata": {
      "application/json": {
       "expanded": true,
       "root": "Dimensions"
      }
     },
     "output_type": "execute_result"
    }
   ],
   "source": [
    "h"
   ]
  },
  {
   "cell_type": "code",
   "execution_count": 20,
   "id": "fe924c60-0c9d-431f-ac72-297db49d8abc",
   "metadata": {
    "tags": []
   },
   "outputs": [],
   "source": [
    "l[\"DATE\"].order = tt.NaturalOrder(ascending=False)"
   ]
  },
  {
   "cell_type": "code",
   "execution_count": 21,
   "id": "343686bd-182e-4de1-b681-8bc6c04b791d",
   "metadata": {
    "tags": []
   },
   "outputs": [],
   "source": [
    "m[\"PURCHASE_PRICE.SUM\"] = tt.agg.sum(products_table[\"PURCHASE_PRICE\"])\n",
    "m[\"PROFIT\"] = tt.agg.sum_product(\n",
    "    m[\"UNIT_PRICE.SUM\"] - m[\"PURCHASE_PRICE.SUM\"],\n",
    "    m[\"QUANTITY.SUM\"],\n",
    "    scope=tt.OriginScope(levels={l[\"SALE_ID\"], l[\"PRODUCT\"]}),\n",
    ")"
   ]
  },
  {
   "cell_type": "markdown",
   "id": "595db925-bf0b-4828-87fb-ff26c717d905",
   "metadata": {},
   "source": [
    "Since we have a join from `sales_table` to `products_table` using the column values of `sales_table.PRODUCT` and `products_table.PRODUCT_ID`, the resultant level is the name of the column from the _from_ table. Therefore, we have the level `PRODUCT` but not `PRODUCT_ID` for our scope in the code snippet above."
   ]
  },
  {
   "cell_type": "code",
   "execution_count": 22,
   "id": "a5dd754e-6d52-43b0-9a18-e7aa7fd42e0b",
   "metadata": {
    "atoti": {
     "widget": {
      "mapping": {
       "columns": [
        "ALL_MEASURES"
       ],
       "measures": [
        "[Measures].[UNIT_PRICE.SUM]",
        "[Measures].[PURCHASE_PRICE.SUM]",
        "[Measures].[QUANTITY.SUM]",
        "[Measures].[PROFIT]"
       ],
       "rows": [
        "[Atoti Sales].[DATE].[DATE]",
        "[Atoti Product].[CATEGORY].[CATEGORY] => [Atoti Product].[CATEGORY].[SUB_CATEGORY]"
       ]
      },
      "name": "Profit by Product Categories across dates",
      "query": {
       "mdx": "SELECT NON EMPTY Hierarchize(Union(Crossjoin(Hierarchize(Descendants({[Atoti Sales].[DATE].[AllMember]}, 1, SELF_AND_BEFORE)), Hierarchize(Descendants({[Atoti Product].[CATEGORY].[AllMember]}, 1, SELF_AND_BEFORE))), Crossjoin([Atoti Sales].[DATE].[AllMember].[2022-02-03], Descendants({[Atoti Product].[CATEGORY].[AllMember].[Cloth]}, [Atoti Product].[CATEGORY].[SUB_CATEGORY])))) ON ROWS, NON EMPTY {[Measures].[UNIT_PRICE.SUM], [Measures].[PURCHASE_PRICE.SUM], [Measures].[QUANTITY.SUM], [Measures].[PROFIT]} ON COLUMNS FROM [Atoti Sales] CELL PROPERTIES VALUE, FORMATTED_VALUE, BACK_COLOR, FORE_COLOR, FONT_FLAGS",
       "updateMode": "once"
      },
      "serverKey": "default",
      "widgetKey": "pivot-table"
     }
    },
    "tags": []
   },
   "outputs": [
    {
     "data": {
      "application/vnd.atoti.widget.v0+json": {
       "sessionId": "1717600888_OARXHZ",
       "sessionLocation": {
        "https": false,
        "port": 59407
       },
       "widgetCreationCode": "session.widget"
      },
      "text/html": [
       "<img height=\"352\" width=\"1304\" src=\"data:image/png;base64,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\" />"
      ],
      "text/plain": [
       "Open the notebook in JupyterLab with the Atoti JupyterLab extension enabled to build this widget."
      ]
     },
     "metadata": {},
     "output_type": "display_data"
    }
   ],
   "source": [
    "session.widget"
   ]
  },
  {
   "cell_type": "markdown",
   "id": "08ceaeb7-d0ed-42b5-899e-f4fb4fdcf1ae",
   "metadata": {},
   "source": [
    "## Cost and performance saving with Aggregate Provider"
   ]
  },
  {
   "cell_type": "markdown",
   "id": "b00d6de1-5324-43b0-acb0-c682977c2cf0",
   "metadata": {},
   "source": [
    "Let's take a quick look at our query performance in the current setup."
   ]
  },
  {
   "cell_type": "code",
   "execution_count": 23,
   "id": "37320670-66e8-40c1-9402-26775ed5817c",
   "metadata": {},
   "outputs": [
    {
     "name": "stdout",
     "output_type": "stream",
     "text": [
      "CPU times: user 52.6 ms, sys: 7.12 ms, total: 59.7 ms\n",
      "Wall time: 2.97 s\n"
     ]
    },
    {
     "data": {
      "text/html": [
       "<div>\n",
       "<style scoped>\n",
       "    .dataframe tbody tr th:only-of-type {\n",
       "        vertical-align: middle;\n",
       "    }\n",
       "\n",
       "    .dataframe tbody tr th {\n",
       "        vertical-align: top;\n",
       "    }\n",
       "\n",
       "    .dataframe thead th {\n",
       "        text-align: right;\n",
       "    }\n",
       "</style>\n",
       "<table border=\"1\" class=\"dataframe\">\n",
       "  <thead>\n",
       "    <tr style=\"text-align: right;\">\n",
       "      <th></th>\n",
       "      <th></th>\n",
       "      <th></th>\n",
       "      <th>QUANTITY.SUM</th>\n",
       "      <th>PROFIT</th>\n",
       "    </tr>\n",
       "    <tr>\n",
       "      <th>DATE</th>\n",
       "      <th>PRODUCT</th>\n",
       "      <th>SALE_ID</th>\n",
       "      <th></th>\n",
       "      <th></th>\n",
       "    </tr>\n",
       "  </thead>\n",
       "  <tbody>\n",
       "    <tr>\n",
       "      <th rowspan=\"2\" valign=\"top\">2022-02-04</th>\n",
       "      <th>HOO_5</th>\n",
       "      <th>S0017</th>\n",
       "      <td>1</td>\n",
       "      <td>10.00</td>\n",
       "    </tr>\n",
       "    <tr>\n",
       "      <th>TAB_0</th>\n",
       "      <th>S0000</th>\n",
       "      <td>1</td>\n",
       "      <td>20.00</td>\n",
       "    </tr>\n",
       "    <tr>\n",
       "      <th rowspan=\"4\" valign=\"top\">2022-02-03</th>\n",
       "      <th>HOO_5</th>\n",
       "      <th>S0018</th>\n",
       "      <td>1</td>\n",
       "      <td>10.00</td>\n",
       "    </tr>\n",
       "    <tr>\n",
       "      <th>TAB_0</th>\n",
       "      <th>S0001</th>\n",
       "      <td>1</td>\n",
       "      <td>20.00</td>\n",
       "    </tr>\n",
       "    <tr>\n",
       "      <th>TAB_1</th>\n",
       "      <th>S0004</th>\n",
       "      <td>1</td>\n",
       "      <td>20.00</td>\n",
       "    </tr>\n",
       "    <tr>\n",
       "      <th>TSH_3</th>\n",
       "      <th>S0011</th>\n",
       "      <td>1</td>\n",
       "      <td>3.00</td>\n",
       "    </tr>\n",
       "    <tr>\n",
       "      <th rowspan=\"5\" valign=\"top\">2022-02-02</th>\n",
       "      <th>HOO_5</th>\n",
       "      <th>S0019</th>\n",
       "      <td>1</td>\n",
       "      <td>10.00</td>\n",
       "    </tr>\n",
       "    <tr>\n",
       "      <th>TAB_0</th>\n",
       "      <th>S0002</th>\n",
       "      <td>1</td>\n",
       "      <td>20.00</td>\n",
       "    </tr>\n",
       "    <tr>\n",
       "      <th>TAB_1</th>\n",
       "      <th>S0005</th>\n",
       "      <td>1</td>\n",
       "      <td>20.00</td>\n",
       "    </tr>\n",
       "    <tr>\n",
       "      <th>TSH_3</th>\n",
       "      <th>S0012</th>\n",
       "      <td>1</td>\n",
       "      <td>3.00</td>\n",
       "    </tr>\n",
       "    <tr>\n",
       "      <th>TSH_4</th>\n",
       "      <th>S0014</th>\n",
       "      <td>1</td>\n",
       "      <td>4.00</td>\n",
       "    </tr>\n",
       "    <tr>\n",
       "      <th rowspan=\"5\" valign=\"top\">2022-02-01</th>\n",
       "      <th>BED_2</th>\n",
       "      <th>S0007</th>\n",
       "      <td>1</td>\n",
       "      <td>23.00</td>\n",
       "    </tr>\n",
       "    <tr>\n",
       "      <th>TAB_0</th>\n",
       "      <th>S0003</th>\n",
       "      <td>1</td>\n",
       "      <td>20.00</td>\n",
       "    </tr>\n",
       "    <tr>\n",
       "      <th>TAB_1</th>\n",
       "      <th>S0006</th>\n",
       "      <td>2</td>\n",
       "      <td>40.00</td>\n",
       "    </tr>\n",
       "    <tr>\n",
       "      <th>TSH_3</th>\n",
       "      <th>S0013</th>\n",
       "      <td>1</td>\n",
       "      <td>3.00</td>\n",
       "    </tr>\n",
       "    <tr>\n",
       "      <th>TSH_4</th>\n",
       "      <th>S0015</th>\n",
       "      <td>2</td>\n",
       "      <td>8.00</td>\n",
       "    </tr>\n",
       "    <tr>\n",
       "      <th rowspan=\"4\" valign=\"top\">2022-01-31</th>\n",
       "      <th rowspan=\"3\" valign=\"top\">BED_2</th>\n",
       "      <th>S0008</th>\n",
       "      <td>1</td>\n",
       "      <td>23.00</td>\n",
       "    </tr>\n",
       "    <tr>\n",
       "      <th>S0009</th>\n",
       "      <td>1</td>\n",
       "      <td>23.00</td>\n",
       "    </tr>\n",
       "    <tr>\n",
       "      <th>S0010</th>\n",
       "      <td>3</td>\n",
       "      <td>69.00</td>\n",
       "    </tr>\n",
       "    <tr>\n",
       "      <th>TSH_4</th>\n",
       "      <th>S0016</th>\n",
       "      <td>2</td>\n",
       "      <td>8.00</td>\n",
       "    </tr>\n",
       "  </tbody>\n",
       "</table>\n",
       "</div>"
      ],
      "text/plain": [
       "                           QUANTITY.SUM PROFIT\n",
       "DATE       PRODUCT SALE_ID                    \n",
       "2022-02-04 HOO_5   S0017              1  10.00\n",
       "           TAB_0   S0000              1  20.00\n",
       "2022-02-03 HOO_5   S0018              1  10.00\n",
       "           TAB_0   S0001              1  20.00\n",
       "           TAB_1   S0004              1  20.00\n",
       "           TSH_3   S0011              1   3.00\n",
       "2022-02-02 HOO_5   S0019              1  10.00\n",
       "           TAB_0   S0002              1  20.00\n",
       "           TAB_1   S0005              1  20.00\n",
       "           TSH_3   S0012              1   3.00\n",
       "           TSH_4   S0014              1   4.00\n",
       "2022-02-01 BED_2   S0007              1  23.00\n",
       "           TAB_0   S0003              1  20.00\n",
       "           TAB_1   S0006              2  40.00\n",
       "           TSH_3   S0013              1   3.00\n",
       "           TSH_4   S0015              2   8.00\n",
       "2022-01-31 BED_2   S0008              1  23.00\n",
       "                   S0009              1  23.00\n",
       "                   S0010              3  69.00\n",
       "           TSH_4   S0016              2   8.00"
      ]
     },
     "execution_count": 23,
     "metadata": {},
     "output_type": "execute_result"
    }
   ],
   "source": [
    "%%time\n",
    "\n",
    "cube.query(\n",
    "    m[\"QUANTITY.SUM\"], m[\"PROFIT\"], levels=[l[\"DATE\"], l[\"PRODUCT\"], l[\"SALE_ID\"]]\n",
    ")"
   ]
  },
  {
   "cell_type": "code",
   "execution_count": 24,
   "id": "41a42190-2831-458d-9679-aa942dae9de0",
   "metadata": {},
   "outputs": [
    {
     "name": "stdout",
     "output_type": "stream",
     "text": [
      "CPU times: user 12.6 ms, sys: 5.5 ms, total: 18.1 ms\n",
      "Wall time: 2.4 s\n"
     ]
    },
    {
     "data": {
      "text/html": [
       "<div>\n",
       "<style scoped>\n",
       "    .dataframe tbody tr th:only-of-type {\n",
       "        vertical-align: middle;\n",
       "    }\n",
       "\n",
       "    .dataframe tbody tr th {\n",
       "        vertical-align: top;\n",
       "    }\n",
       "\n",
       "    .dataframe thead th {\n",
       "        text-align: right;\n",
       "    }\n",
       "</style>\n",
       "<table border=\"1\" class=\"dataframe\">\n",
       "  <thead>\n",
       "    <tr style=\"text-align: right;\">\n",
       "      <th></th>\n",
       "      <th></th>\n",
       "      <th></th>\n",
       "      <th>PROFIT</th>\n",
       "    </tr>\n",
       "    <tr>\n",
       "      <th>DATE</th>\n",
       "      <th>CATEGORY</th>\n",
       "      <th>SUB_CATEGORY</th>\n",
       "      <th></th>\n",
       "    </tr>\n",
       "  </thead>\n",
       "  <tbody>\n",
       "    <tr>\n",
       "      <th rowspan=\"2\" valign=\"top\">2022-02-04</th>\n",
       "      <th>Cloth</th>\n",
       "      <th>Hoodie</th>\n",
       "      <td>10.00</td>\n",
       "    </tr>\n",
       "    <tr>\n",
       "      <th>Furniture</th>\n",
       "      <th>Table</th>\n",
       "      <td>20.00</td>\n",
       "    </tr>\n",
       "    <tr>\n",
       "      <th rowspan=\"3\" valign=\"top\">2022-02-03</th>\n",
       "      <th rowspan=\"2\" valign=\"top\">Cloth</th>\n",
       "      <th>Hoodie</th>\n",
       "      <td>10.00</td>\n",
       "    </tr>\n",
       "    <tr>\n",
       "      <th>Tshirt</th>\n",
       "      <td>3.00</td>\n",
       "    </tr>\n",
       "    <tr>\n",
       "      <th>Furniture</th>\n",
       "      <th>Table</th>\n",
       "      <td>40.00</td>\n",
       "    </tr>\n",
       "    <tr>\n",
       "      <th rowspan=\"3\" valign=\"top\">2022-02-02</th>\n",
       "      <th rowspan=\"2\" valign=\"top\">Cloth</th>\n",
       "      <th>Hoodie</th>\n",
       "      <td>10.00</td>\n",
       "    </tr>\n",
       "    <tr>\n",
       "      <th>Tshirt</th>\n",
       "      <td>7.00</td>\n",
       "    </tr>\n",
       "    <tr>\n",
       "      <th>Furniture</th>\n",
       "      <th>Table</th>\n",
       "      <td>40.00</td>\n",
       "    </tr>\n",
       "    <tr>\n",
       "      <th rowspan=\"3\" valign=\"top\">2022-02-01</th>\n",
       "      <th>Cloth</th>\n",
       "      <th>Tshirt</th>\n",
       "      <td>11.00</td>\n",
       "    </tr>\n",
       "    <tr>\n",
       "      <th rowspan=\"2\" valign=\"top\">Furniture</th>\n",
       "      <th>Bed</th>\n",
       "      <td>23.00</td>\n",
       "    </tr>\n",
       "    <tr>\n",
       "      <th>Table</th>\n",
       "      <td>60.00</td>\n",
       "    </tr>\n",
       "    <tr>\n",
       "      <th rowspan=\"2\" valign=\"top\">2022-01-31</th>\n",
       "      <th>Cloth</th>\n",
       "      <th>Tshirt</th>\n",
       "      <td>8.00</td>\n",
       "    </tr>\n",
       "    <tr>\n",
       "      <th>Furniture</th>\n",
       "      <th>Bed</th>\n",
       "      <td>115.00</td>\n",
       "    </tr>\n",
       "  </tbody>\n",
       "</table>\n",
       "</div>"
      ],
      "text/plain": [
       "                                   PROFIT\n",
       "DATE       CATEGORY  SUB_CATEGORY        \n",
       "2022-02-04 Cloth     Hoodie         10.00\n",
       "           Furniture Table          20.00\n",
       "2022-02-03 Cloth     Hoodie         10.00\n",
       "                     Tshirt          3.00\n",
       "           Furniture Table          40.00\n",
       "2022-02-02 Cloth     Hoodie         10.00\n",
       "                     Tshirt          7.00\n",
       "           Furniture Table          40.00\n",
       "2022-02-01 Cloth     Tshirt         11.00\n",
       "           Furniture Bed            23.00\n",
       "                     Table          60.00\n",
       "2022-01-31 Cloth     Tshirt          8.00\n",
       "           Furniture Bed           115.00"
      ]
     },
     "execution_count": 24,
     "metadata": {},
     "output_type": "execute_result"
    }
   ],
   "source": [
    "%%time\n",
    "\n",
    "cube.query(m[\"PROFIT\"], levels=[l[\"DATE\"], l[\"SUB_CATEGORY\"]])"
   ]
  },
  {
   "cell_type": "markdown",
   "id": "ec655a71-8eec-42ae-9dd5-3fa7bbf0f782",
   "metadata": {},
   "source": [
    "It takes approximately `3s` to return the query (YMMV)."
   ]
  },
  {
   "cell_type": "markdown",
   "id": "409bcc8e-c3e4-4592-a6ee-c54d41f97719",
   "metadata": {},
   "source": [
    "To speed up our querying, we make use of the [aggregate provider](https://docs.atoti.io/latest/api/atoti.AggregateProvider.html#atoti.AggregateProvider) to store intermediate aggregates in memory. If a step of a query uses a subset of the aggregate provider's levels and measures, the provider will speed up the query.  \n",
    "\n",
    "Since data is cached in memory, we will __not__ access BigQuery when a subset of these are queried.  "
   ]
  },
  {
   "cell_type": "code",
   "execution_count": 25,
   "id": "0f33a62c-d66d-4e3a-997d-ae325e9276ec",
   "metadata": {
    "tags": []
   },
   "outputs": [],
   "source": [
    "cube.aggregate_providers.update(\n",
    "    {\n",
    "        \"Products provider\": tt.AggregateProvider(\n",
    "            key=\"bitmap\",\n",
    "            levels=[l[\"DATE\"], l[\"PRODUCT\"], l[\"SALE_ID\"]],\n",
    "            measures=[m[\"QUANTITY.SUM\"], m[\"PURCHASE_PRICE.SUM\"], m[\"UNIT_PRICE.SUM\"]],\n",
    "            partitioning=\"hash16(PRODUCT)\",\n",
    "        )\n",
    "    }\n",
    ")"
   ]
  },
  {
   "cell_type": "markdown",
   "id": "4817dae9-0dbb-4c91-95bc-38a1320102ae",
   "metadata": {},
   "source": [
    "⚠️ **Important:** We can only use store aggregated measures supporting disaggregation can be used in aggregate provider, e.g. `tt.agg.sum` or `tt.agg.mean` on table columns.\n",
    "\n",
    "`m[\"PROFIT\"]` cannot be used because it is a chained measure resulting from the `sum_product` of a few measures.\n"
   ]
  },
  {
   "cell_type": "code",
   "execution_count": 26,
   "id": "0bc35e5d-1845-479b-873f-5a24be936f1e",
   "metadata": {
    "tags": []
   },
   "outputs": [
    {
     "name": "stdout",
     "output_type": "stream",
     "text": [
      "CPU times: user 9.15 ms, sys: 4.97 ms, total: 14.1 ms\n",
      "Wall time: 51.6 ms\n"
     ]
    },
    {
     "data": {
      "text/html": [
       "<div>\n",
       "<style scoped>\n",
       "    .dataframe tbody tr th:only-of-type {\n",
       "        vertical-align: middle;\n",
       "    }\n",
       "\n",
       "    .dataframe tbody tr th {\n",
       "        vertical-align: top;\n",
       "    }\n",
       "\n",
       "    .dataframe thead th {\n",
       "        text-align: right;\n",
       "    }\n",
       "</style>\n",
       "<table border=\"1\" class=\"dataframe\">\n",
       "  <thead>\n",
       "    <tr style=\"text-align: right;\">\n",
       "      <th></th>\n",
       "      <th></th>\n",
       "      <th></th>\n",
       "      <th>PROFIT</th>\n",
       "    </tr>\n",
       "    <tr>\n",
       "      <th>DATE</th>\n",
       "      <th>PRODUCT</th>\n",
       "      <th>SALE_ID</th>\n",
       "      <th></th>\n",
       "    </tr>\n",
       "  </thead>\n",
       "  <tbody>\n",
       "    <tr>\n",
       "      <th rowspan=\"2\" valign=\"top\">2022-02-04</th>\n",
       "      <th>HOO_5</th>\n",
       "      <th>S0017</th>\n",
       "      <td>10.00</td>\n",
       "    </tr>\n",
       "    <tr>\n",
       "      <th>TAB_0</th>\n",
       "      <th>S0000</th>\n",
       "      <td>20.00</td>\n",
       "    </tr>\n",
       "    <tr>\n",
       "      <th rowspan=\"4\" valign=\"top\">2022-02-03</th>\n",
       "      <th>HOO_5</th>\n",
       "      <th>S0018</th>\n",
       "      <td>10.00</td>\n",
       "    </tr>\n",
       "    <tr>\n",
       "      <th>TAB_0</th>\n",
       "      <th>S0001</th>\n",
       "      <td>20.00</td>\n",
       "    </tr>\n",
       "    <tr>\n",
       "      <th>TAB_1</th>\n",
       "      <th>S0004</th>\n",
       "      <td>20.00</td>\n",
       "    </tr>\n",
       "    <tr>\n",
       "      <th>TSH_3</th>\n",
       "      <th>S0011</th>\n",
       "      <td>3.00</td>\n",
       "    </tr>\n",
       "    <tr>\n",
       "      <th rowspan=\"5\" valign=\"top\">2022-02-02</th>\n",
       "      <th>HOO_5</th>\n",
       "      <th>S0019</th>\n",
       "      <td>10.00</td>\n",
       "    </tr>\n",
       "    <tr>\n",
       "      <th>TAB_0</th>\n",
       "      <th>S0002</th>\n",
       "      <td>20.00</td>\n",
       "    </tr>\n",
       "    <tr>\n",
       "      <th>TAB_1</th>\n",
       "      <th>S0005</th>\n",
       "      <td>20.00</td>\n",
       "    </tr>\n",
       "    <tr>\n",
       "      <th>TSH_3</th>\n",
       "      <th>S0012</th>\n",
       "      <td>3.00</td>\n",
       "    </tr>\n",
       "    <tr>\n",
       "      <th>TSH_4</th>\n",
       "      <th>S0014</th>\n",
       "      <td>4.00</td>\n",
       "    </tr>\n",
       "    <tr>\n",
       "      <th rowspan=\"5\" valign=\"top\">2022-02-01</th>\n",
       "      <th>BED_2</th>\n",
       "      <th>S0007</th>\n",
       "      <td>23.00</td>\n",
       "    </tr>\n",
       "    <tr>\n",
       "      <th>TAB_0</th>\n",
       "      <th>S0003</th>\n",
       "      <td>20.00</td>\n",
       "    </tr>\n",
       "    <tr>\n",
       "      <th>TAB_1</th>\n",
       "      <th>S0006</th>\n",
       "      <td>40.00</td>\n",
       "    </tr>\n",
       "    <tr>\n",
       "      <th>TSH_3</th>\n",
       "      <th>S0013</th>\n",
       "      <td>3.00</td>\n",
       "    </tr>\n",
       "    <tr>\n",
       "      <th>TSH_4</th>\n",
       "      <th>S0015</th>\n",
       "      <td>8.00</td>\n",
       "    </tr>\n",
       "    <tr>\n",
       "      <th rowspan=\"4\" valign=\"top\">2022-01-31</th>\n",
       "      <th rowspan=\"3\" valign=\"top\">BED_2</th>\n",
       "      <th>S0008</th>\n",
       "      <td>23.00</td>\n",
       "    </tr>\n",
       "    <tr>\n",
       "      <th>S0009</th>\n",
       "      <td>23.00</td>\n",
       "    </tr>\n",
       "    <tr>\n",
       "      <th>S0010</th>\n",
       "      <td>69.00</td>\n",
       "    </tr>\n",
       "    <tr>\n",
       "      <th>TSH_4</th>\n",
       "      <th>S0016</th>\n",
       "      <td>8.00</td>\n",
       "    </tr>\n",
       "  </tbody>\n",
       "</table>\n",
       "</div>"
      ],
      "text/plain": [
       "                           PROFIT\n",
       "DATE       PRODUCT SALE_ID       \n",
       "2022-02-04 HOO_5   S0017    10.00\n",
       "           TAB_0   S0000    20.00\n",
       "2022-02-03 HOO_5   S0018    10.00\n",
       "           TAB_0   S0001    20.00\n",
       "           TAB_1   S0004    20.00\n",
       "           TSH_3   S0011     3.00\n",
       "2022-02-02 HOO_5   S0019    10.00\n",
       "           TAB_0   S0002    20.00\n",
       "           TAB_1   S0005    20.00\n",
       "           TSH_3   S0012     3.00\n",
       "           TSH_4   S0014     4.00\n",
       "2022-02-01 BED_2   S0007    23.00\n",
       "           TAB_0   S0003    20.00\n",
       "           TAB_1   S0006    40.00\n",
       "           TSH_3   S0013     3.00\n",
       "           TSH_4   S0015     8.00\n",
       "2022-01-31 BED_2   S0008    23.00\n",
       "                   S0009    23.00\n",
       "                   S0010    69.00\n",
       "           TSH_4   S0016     8.00"
      ]
     },
     "execution_count": 26,
     "metadata": {},
     "output_type": "execute_result"
    }
   ],
   "source": [
    "%%time\n",
    "\n",
    "cube.query(m[\"PROFIT\"], levels=[l[\"DATE\"], l[\"PRODUCT\"], l[\"SALE_ID\"]])"
   ]
  },
  {
   "cell_type": "markdown",
   "id": "fd36b224-ab65-45f0-a2fb-1e44c5fdb1c8",
   "metadata": {},
   "source": [
    "Previously, it took close to `3s` to return the query results. Now, it only takes slightly over `100ms` to return the results (YMMV).  \n",
    "\n",
    "Note that we are querying `PROFIT` and not the measures `m[\"QUANTITY.SUM\"]`, `m[\"PURCHASE_PRICE.SUM\"]` and `m[\"UNIT_PRICE.SUM\"]`. However, `PROFIT` is computed on the fly using the cached data in memory. Therefore, the query speed is improved drastically."
   ]
  },
  {
   "cell_type": "code",
   "execution_count": 27,
   "id": "800e212c-f4ce-4e77-8653-f8afd9b50043",
   "metadata": {
    "tags": []
   },
   "outputs": [
    {
     "name": "stdout",
     "output_type": "stream",
     "text": [
      "CPU times: user 4.66 ms, sys: 2.44 ms, total: 7.1 ms\n",
      "Wall time: 21.9 ms\n"
     ]
    },
    {
     "data": {
      "text/html": [
       "<div>\n",
       "<style scoped>\n",
       "    .dataframe tbody tr th:only-of-type {\n",
       "        vertical-align: middle;\n",
       "    }\n",
       "\n",
       "    .dataframe tbody tr th {\n",
       "        vertical-align: top;\n",
       "    }\n",
       "\n",
       "    .dataframe thead th {\n",
       "        text-align: right;\n",
       "    }\n",
       "</style>\n",
       "<table border=\"1\" class=\"dataframe\">\n",
       "  <thead>\n",
       "    <tr style=\"text-align: right;\">\n",
       "      <th></th>\n",
       "      <th>PROFIT</th>\n",
       "    </tr>\n",
       "    <tr>\n",
       "      <th>PRODUCT</th>\n",
       "      <th></th>\n",
       "    </tr>\n",
       "  </thead>\n",
       "  <tbody>\n",
       "    <tr>\n",
       "      <th>BED_2</th>\n",
       "      <td>138.00</td>\n",
       "    </tr>\n",
       "    <tr>\n",
       "      <th>HOO_5</th>\n",
       "      <td>30.00</td>\n",
       "    </tr>\n",
       "    <tr>\n",
       "      <th>TAB_0</th>\n",
       "      <td>80.00</td>\n",
       "    </tr>\n",
       "    <tr>\n",
       "      <th>TAB_1</th>\n",
       "      <td>80.00</td>\n",
       "    </tr>\n",
       "    <tr>\n",
       "      <th>TSH_3</th>\n",
       "      <td>9.00</td>\n",
       "    </tr>\n",
       "    <tr>\n",
       "      <th>TSH_4</th>\n",
       "      <td>20.00</td>\n",
       "    </tr>\n",
       "  </tbody>\n",
       "</table>\n",
       "</div>"
      ],
      "text/plain": [
       "         PROFIT\n",
       "PRODUCT        \n",
       "BED_2    138.00\n",
       "HOO_5     30.00\n",
       "TAB_0     80.00\n",
       "TAB_1     80.00\n",
       "TSH_3      9.00\n",
       "TSH_4     20.00"
      ]
     },
     "execution_count": 27,
     "metadata": {},
     "output_type": "execute_result"
    }
   ],
   "source": [
    "%%time\n",
    "\n",
    "cube.query(m[\"PROFIT\"], levels=[l[\"PRODUCT\"]])"
   ]
  },
  {
   "cell_type": "markdown",
   "id": "3776a1f9-c10c-4912-866f-238a3b95fbee",
   "metadata": {},
   "source": [
    "Querying a subset of the aggregate provider levels also returns the result quickly.  \n",
    "\n",
    "The below query on a different level will access data from BigQuery and therefore, is limited by the querying speed of the cloud database and its network connectivity.  "
   ]
  },
  {
   "cell_type": "code",
   "execution_count": 28,
   "id": "08506fb9-16e3-4052-9288-380ecc441021",
   "metadata": {
    "tags": []
   },
   "outputs": [
    {
     "name": "stdout",
     "output_type": "stream",
     "text": [
      "CPU times: user 14.9 ms, sys: 8.98 ms, total: 23.9 ms\n",
      "Wall time: 3.52 s\n"
     ]
    },
    {
     "data": {
      "text/html": [
       "<div>\n",
       "<style scoped>\n",
       "    .dataframe tbody tr th:only-of-type {\n",
       "        vertical-align: middle;\n",
       "    }\n",
       "\n",
       "    .dataframe tbody tr th {\n",
       "        vertical-align: top;\n",
       "    }\n",
       "\n",
       "    .dataframe thead th {\n",
       "        text-align: right;\n",
       "    }\n",
       "</style>\n",
       "<table border=\"1\" class=\"dataframe\">\n",
       "  <thead>\n",
       "    <tr style=\"text-align: right;\">\n",
       "      <th></th>\n",
       "      <th></th>\n",
       "      <th></th>\n",
       "      <th>PROFIT</th>\n",
       "    </tr>\n",
       "    <tr>\n",
       "      <th>DATE</th>\n",
       "      <th>CATEGORY</th>\n",
       "      <th>SUB_CATEGORY</th>\n",
       "      <th></th>\n",
       "    </tr>\n",
       "  </thead>\n",
       "  <tbody>\n",
       "    <tr>\n",
       "      <th rowspan=\"2\" valign=\"top\">2022-02-04</th>\n",
       "      <th>Cloth</th>\n",
       "      <th>Hoodie</th>\n",
       "      <td>10.00</td>\n",
       "    </tr>\n",
       "    <tr>\n",
       "      <th>Furniture</th>\n",
       "      <th>Table</th>\n",
       "      <td>20.00</td>\n",
       "    </tr>\n",
       "    <tr>\n",
       "      <th rowspan=\"3\" valign=\"top\">2022-02-03</th>\n",
       "      <th rowspan=\"2\" valign=\"top\">Cloth</th>\n",
       "      <th>Hoodie</th>\n",
       "      <td>10.00</td>\n",
       "    </tr>\n",
       "    <tr>\n",
       "      <th>Tshirt</th>\n",
       "      <td>3.00</td>\n",
       "    </tr>\n",
       "    <tr>\n",
       "      <th>Furniture</th>\n",
       "      <th>Table</th>\n",
       "      <td>40.00</td>\n",
       "    </tr>\n",
       "    <tr>\n",
       "      <th rowspan=\"3\" valign=\"top\">2022-02-02</th>\n",
       "      <th rowspan=\"2\" valign=\"top\">Cloth</th>\n",
       "      <th>Hoodie</th>\n",
       "      <td>10.00</td>\n",
       "    </tr>\n",
       "    <tr>\n",
       "      <th>Tshirt</th>\n",
       "      <td>7.00</td>\n",
       "    </tr>\n",
       "    <tr>\n",
       "      <th>Furniture</th>\n",
       "      <th>Table</th>\n",
       "      <td>40.00</td>\n",
       "    </tr>\n",
       "    <tr>\n",
       "      <th rowspan=\"3\" valign=\"top\">2022-02-01</th>\n",
       "      <th>Cloth</th>\n",
       "      <th>Tshirt</th>\n",
       "      <td>11.00</td>\n",
       "    </tr>\n",
       "    <tr>\n",
       "      <th rowspan=\"2\" valign=\"top\">Furniture</th>\n",
       "      <th>Bed</th>\n",
       "      <td>23.00</td>\n",
       "    </tr>\n",
       "    <tr>\n",
       "      <th>Table</th>\n",
       "      <td>60.00</td>\n",
       "    </tr>\n",
       "    <tr>\n",
       "      <th rowspan=\"2\" valign=\"top\">2022-01-31</th>\n",
       "      <th>Cloth</th>\n",
       "      <th>Tshirt</th>\n",
       "      <td>8.00</td>\n",
       "    </tr>\n",
       "    <tr>\n",
       "      <th>Furniture</th>\n",
       "      <th>Bed</th>\n",
       "      <td>115.00</td>\n",
       "    </tr>\n",
       "  </tbody>\n",
       "</table>\n",
       "</div>"
      ],
      "text/plain": [
       "                                   PROFIT\n",
       "DATE       CATEGORY  SUB_CATEGORY        \n",
       "2022-02-04 Cloth     Hoodie         10.00\n",
       "           Furniture Table          20.00\n",
       "2022-02-03 Cloth     Hoodie         10.00\n",
       "                     Tshirt          3.00\n",
       "           Furniture Table          40.00\n",
       "2022-02-02 Cloth     Hoodie         10.00\n",
       "                     Tshirt          7.00\n",
       "           Furniture Table          40.00\n",
       "2022-02-01 Cloth     Tshirt         11.00\n",
       "           Furniture Bed            23.00\n",
       "                     Table          60.00\n",
       "2022-01-31 Cloth     Tshirt          8.00\n",
       "           Furniture Bed           115.00"
      ]
     },
     "execution_count": 28,
     "metadata": {},
     "output_type": "execute_result"
    }
   ],
   "source": [
    "%%time\n",
    "\n",
    "cube.query(m[\"PROFIT\"], levels=[l[\"DATE\"], l[\"SUB_CATEGORY\"]])"
   ]
  },
  {
   "cell_type": "markdown",
   "id": "c260f204-8f69-4f99-aefa-3e881c29e4bc",
   "metadata": {},
   "source": [
    "Before we are done with this example, let's create another aggregate provider with a _slice_ of data using `filter`.  \n",
    "\n",
    "Let's first capture the timing of the query without the aggregate provider."
   ]
  },
  {
   "cell_type": "code",
   "execution_count": 29,
   "id": "fe342fd4-1c7f-4995-833d-f3cac15d2aa4",
   "metadata": {},
   "outputs": [
    {
     "name": "stdout",
     "output_type": "stream",
     "text": [
      "CPU times: user 26.9 ms, sys: 10.2 ms, total: 37.1 ms\n",
      "Wall time: 2.38 s\n"
     ]
    },
    {
     "data": {
      "text/html": [
       "<div>\n",
       "<style scoped>\n",
       "    .dataframe tbody tr th:only-of-type {\n",
       "        vertical-align: middle;\n",
       "    }\n",
       "\n",
       "    .dataframe tbody tr th {\n",
       "        vertical-align: top;\n",
       "    }\n",
       "\n",
       "    .dataframe thead th {\n",
       "        text-align: right;\n",
       "    }\n",
       "</style>\n",
       "<table border=\"1\" class=\"dataframe\">\n",
       "  <thead>\n",
       "    <tr style=\"text-align: right;\">\n",
       "      <th></th>\n",
       "      <th></th>\n",
       "      <th></th>\n",
       "      <th>PROFIT</th>\n",
       "    </tr>\n",
       "    <tr>\n",
       "      <th>DATE</th>\n",
       "      <th>CATEGORY</th>\n",
       "      <th>SUB_CATEGORY</th>\n",
       "      <th></th>\n",
       "    </tr>\n",
       "  </thead>\n",
       "  <tbody>\n",
       "    <tr>\n",
       "      <th rowspan=\"2\" valign=\"top\">2022-02-04</th>\n",
       "      <th>Cloth</th>\n",
       "      <th>Hoodie</th>\n",
       "      <td>10.00</td>\n",
       "    </tr>\n",
       "    <tr>\n",
       "      <th>Furniture</th>\n",
       "      <th>Table</th>\n",
       "      <td>20.00</td>\n",
       "    </tr>\n",
       "  </tbody>\n",
       "</table>\n",
       "</div>"
      ],
      "text/plain": [
       "                                  PROFIT\n",
       "DATE       CATEGORY  SUB_CATEGORY       \n",
       "2022-02-04 Cloth     Hoodie        10.00\n",
       "           Furniture Table         20.00"
      ]
     },
     "execution_count": 29,
     "metadata": {},
     "output_type": "execute_result"
    }
   ],
   "source": [
    "%%time\n",
    "\n",
    "cube.query(\n",
    "    m[\"PROFIT\"],\n",
    "    levels=[l[\"DATE\"], l[\"CATEGORY\"], l[\"SUB_CATEGORY\"]],\n",
    "    filter=(l[\"DATE\"] == \"2022-02-04\"),\n",
    ")"
   ]
  },
  {
   "cell_type": "code",
   "execution_count": 30,
   "id": "b240a857-71f6-4344-8967-570013c0ac98",
   "metadata": {
    "tags": []
   },
   "outputs": [],
   "source": [
    "from datetime import date\n",
    "\n",
    "current_date = date(2022, 2, 24)"
   ]
  },
  {
   "cell_type": "markdown",
   "id": "9526ed6a-2c74-4ab5-935e-51899123340c",
   "metadata": {},
   "source": [
    "In the event where users are interested in a particular member of level, e.g. the current date or a particular shop, and the amount of querying on this member is huge, then it makes sense to cache them in memory.  \n",
    "\n",
    "In this case, we apply filter just for the interested member. This helps to control the amount of data held in memory."
   ]
  },
  {
   "cell_type": "code",
   "execution_count": 31,
   "id": "17ae6441-66db-4038-bfee-28df3b2c576e",
   "metadata": {},
   "outputs": [],
   "source": [
    "cube.aggregate_providers.update(\n",
    "    {\n",
    "        \"Category provider\": tt.AggregateProvider(\n",
    "            key=\"bitmap\",\n",
    "            levels=[l[\"DATE\"], l[\"CATEGORY\"], l[\"SUB_CATEGORY\"]],\n",
    "            measures=[m[\"QUANTITY.SUM\"], m[\"PURCHASE_PRICE.SUM\"], m[\"UNIT_PRICE.SUM\"]],\n",
    "            filter=(l[\"DATE\"] == current_date),\n",
    "        )\n",
    "    }\n",
    ")"
   ]
  },
  {
   "cell_type": "code",
   "execution_count": 32,
   "id": "adc253db-cebe-49a2-a8ae-2f9630d5338d",
   "metadata": {
    "tags": []
   },
   "outputs": [
    {
     "name": "stdout",
     "output_type": "stream",
     "text": [
      "CPU times: user 17.5 ms, sys: 10.7 ms, total: 28.1 ms\n",
      "Wall time: 2.8 s\n"
     ]
    },
    {
     "data": {
      "text/html": [
       "<div>\n",
       "<style scoped>\n",
       "    .dataframe tbody tr th:only-of-type {\n",
       "        vertical-align: middle;\n",
       "    }\n",
       "\n",
       "    .dataframe tbody tr th {\n",
       "        vertical-align: top;\n",
       "    }\n",
       "\n",
       "    .dataframe thead th {\n",
       "        text-align: right;\n",
       "    }\n",
       "</style>\n",
       "<table border=\"1\" class=\"dataframe\">\n",
       "  <thead>\n",
       "    <tr style=\"text-align: right;\">\n",
       "      <th></th>\n",
       "      <th></th>\n",
       "      <th></th>\n",
       "      <th>PROFIT</th>\n",
       "    </tr>\n",
       "    <tr>\n",
       "      <th>DATE</th>\n",
       "      <th>CATEGORY</th>\n",
       "      <th>SUB_CATEGORY</th>\n",
       "      <th></th>\n",
       "    </tr>\n",
       "  </thead>\n",
       "  <tbody>\n",
       "    <tr>\n",
       "      <th rowspan=\"2\" valign=\"top\">2022-02-04</th>\n",
       "      <th>Cloth</th>\n",
       "      <th>Hoodie</th>\n",
       "      <td>10.00</td>\n",
       "    </tr>\n",
       "    <tr>\n",
       "      <th>Furniture</th>\n",
       "      <th>Table</th>\n",
       "      <td>20.00</td>\n",
       "    </tr>\n",
       "  </tbody>\n",
       "</table>\n",
       "</div>"
      ],
      "text/plain": [
       "                                  PROFIT\n",
       "DATE       CATEGORY  SUB_CATEGORY       \n",
       "2022-02-04 Cloth     Hoodie        10.00\n",
       "           Furniture Table         20.00"
      ]
     },
     "execution_count": 32,
     "metadata": {},
     "output_type": "execute_result"
    }
   ],
   "source": [
    "%%time\n",
    "\n",
    "cube.query(\n",
    "    m[\"PROFIT\"],\n",
    "    levels=[l[\"DATE\"], l[\"CATEGORY\"], l[\"SUB_CATEGORY\"]],\n",
    "    filter=(l[\"DATE\"] == \"2022-02-04\"),\n",
    ")"
   ]
  },
  {
   "cell_type": "markdown",
   "id": "4b392590-0e19-4d03-84db-853028977e8b",
   "metadata": {},
   "source": [
    "## Balance between Cost and Performance"
   ]
  },
  {
   "cell_type": "markdown",
   "id": "1f44c57a-00ad-44eb-9195-ed0b0a808a62",
   "metadata": {},
   "source": [
    "All in all, Atoti's DirectQuery offers users a way to balance between cost and performance:\n",
    "\n",
    "* For data that is less queried, it resides on the cloud database and gets queried on-demand.\n",
    "* For data that is more frequently queried, we can cache it in memory and reduce the number of queries to the cloud database, thereby improving performance.  \n",
    "\n",
    "<img src=\"https://data.atoti.io/notebooks/direct-query/img/aggregate_cache.png\" />  \n",
    "\n",
    "💡 **Note:** To find out more, reach out to [ActiveViam](https://activeviam.com/contact-us/?utm_source=github&utm_medium=atoti) for a demonstration."
   ]
  },
  {
   "cell_type": "markdown",
   "id": "455e3f95-0a8c-48bf-b793-69d5fe2f2083",
   "metadata": {},
   "source": [
    "<div style=\"text-align: center;\" ><a href=\"https://www.atoti.io/?utm_source=gallery&utm_content=directquery-intro\" target=\"_blank\" rel=\"noopener noreferrer\"><img src=\"https://data.atoti.io/notebooks/banners/Your-turn-to-try-Atoti.jpg\" alt=\"Try Atoti\"></a></div>"
   ]
  }
 ],
 "metadata": {
  "kernelspec": {
   "display_name": "Python 3 (ipykernel)",
   "language": "python",
   "name": "python3"
  },
  "language_info": {
   "codemirror_mode": {
    "name": "ipython",
    "version": 3
   },
   "file_extension": ".py",
   "mimetype": "text/x-python",
   "name": "python",
   "nbconvert_exporter": "python",
   "pygments_lexer": "ipython3",
   "version": "3.10.0"
  }
 },
 "nbformat": 4,
 "nbformat_minor": 5
}
