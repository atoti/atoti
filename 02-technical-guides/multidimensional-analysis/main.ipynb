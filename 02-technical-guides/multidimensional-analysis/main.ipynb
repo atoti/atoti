{
 "cells": [
  {
   "cell_type": "markdown",
   "id": "f3572592-7139-4cb5-82ec-eb5afefa929f",
   "metadata": {
    "editable": true,
    "slideshow": {
     "slide_type": ""
    },
    "tags": []
   },
   "source": [
    "# Multidimensional Analysis\n",
    "\n",
    "In this notebook, we'll be show you how to perform multidimensional analysis, allowing users to observe data from different viewpoints."
   ]
  },
  {
   "cell_type": "markdown",
   "id": "3aba2356-25d6-4bde-9ef2-49f4f049afb8",
   "metadata": {},
   "source": [
    "<div style=\"text-align: center;\"><img src=\"https://data.atoti.io/notebooks/multidimension/img/cube-slice-dice.png\"></div>"
   ]
  },
  {
   "cell_type": "markdown",
   "id": "430ae29e-d1cd-4dce-83bf-f6664082ecbe",
   "metadata": {},
   "source": [
    "<div style=\"text-align:center\"><a href=\"https://www.atoti.io/?utm_source=gallery&utm_content=multidimensional-analysis\" target=\"_blank\" rel=\"noopener noreferrer\"><img src=\"https://data.atoti.io/notebooks/banners/Discover-Atoti-now.png\" alt=\"atoti table\" /></a></div>"
   ]
  },
  {
   "cell_type": "code",
   "execution_count": 1,
   "id": "43850b85-2acc-445c-aa89-9b2939a0e6a8",
   "metadata": {},
   "outputs": [],
   "source": [
    "import pandas as pd\n",
    "import atoti as tt"
   ]
  },
  {
   "cell_type": "code",
   "execution_count": 2,
   "id": "47c0734a-58bd-4487-922e-a0775c61517d",
   "metadata": {},
   "outputs": [],
   "source": [
    "session = tt.Session.start()"
   ]
  },
  {
   "cell_type": "code",
   "execution_count": 3,
   "id": "dbb89caf-5375-40ff-9766-2dad75c67017",
   "metadata": {},
   "outputs": [
    {
     "data": {
      "text/html": [
       "<div>\n",
       "<style scoped>\n",
       "    .dataframe tbody tr th:only-of-type {\n",
       "        vertical-align: middle;\n",
       "    }\n",
       "\n",
       "    .dataframe tbody tr th {\n",
       "        vertical-align: top;\n",
       "    }\n",
       "\n",
       "    .dataframe thead th {\n",
       "        text-align: right;\n",
       "    }\n",
       "</style>\n",
       "<table border=\"1\" class=\"dataframe\">\n",
       "  <thead>\n",
       "    <tr style=\"text-align: right;\">\n",
       "      <th></th>\n",
       "      <th>Sale ID</th>\n",
       "      <th>Date</th>\n",
       "      <th>Shop</th>\n",
       "      <th>Product</th>\n",
       "      <th>Quantity</th>\n",
       "      <th>Unit price</th>\n",
       "    </tr>\n",
       "  </thead>\n",
       "  <tbody>\n",
       "    <tr>\n",
       "      <th>0</th>\n",
       "      <td>S000003722</td>\n",
       "      <td>2021-02-02</td>\n",
       "      <td>shop_2</td>\n",
       "      <td>TAB_1</td>\n",
       "      <td>3</td>\n",
       "      <td>300.0</td>\n",
       "    </tr>\n",
       "    <tr>\n",
       "      <th>1</th>\n",
       "      <td>S000003071</td>\n",
       "      <td>2021-01-24</td>\n",
       "      <td>shop_31</td>\n",
       "      <td>TAB_21</td>\n",
       "      <td>1</td>\n",
       "      <td>210.0</td>\n",
       "    </tr>\n",
       "    <tr>\n",
       "      <th>2</th>\n",
       "      <td>S000000179</td>\n",
       "      <td>2021-01-06</td>\n",
       "      <td>shop_19</td>\n",
       "      <td>SHO_57</td>\n",
       "      <td>1</td>\n",
       "      <td>60.0</td>\n",
       "    </tr>\n",
       "    <tr>\n",
       "      <th>3</th>\n",
       "      <td>S000000239</td>\n",
       "      <td>2021-01-06</td>\n",
       "      <td>shop_39</td>\n",
       "      <td>HOO_56</td>\n",
       "      <td>1</td>\n",
       "      <td>49.0</td>\n",
       "    </tr>\n",
       "    <tr>\n",
       "      <th>4</th>\n",
       "      <td>S000001670</td>\n",
       "      <td>2021-01-15</td>\n",
       "      <td>shop_30</td>\n",
       "      <td>CHA_23</td>\n",
       "      <td>2</td>\n",
       "      <td>60.0</td>\n",
       "    </tr>\n",
       "  </tbody>\n",
       "</table>\n",
       "</div>"
      ],
      "text/plain": [
       "      Sale ID       Date     Shop Product  Quantity  Unit price\n",
       "0  S000003722 2021-02-02   shop_2   TAB_1         3       300.0\n",
       "1  S000003071 2021-01-24  shop_31  TAB_21         1       210.0\n",
       "2  S000000179 2021-01-06  shop_19  SHO_57         1        60.0\n",
       "3  S000000239 2021-01-06  shop_39  HOO_56         1        49.0\n",
       "4  S000001670 2021-01-15  shop_30  CHA_23         2        60.0"
      ]
     },
     "execution_count": 3,
     "metadata": {},
     "output_type": "execute_result"
    }
   ],
   "source": [
    "sales = session.read_csv(\n",
    "    \"s3://data.atoti.io/notebooks/multidimension/sales.csv\",\n",
    "    table_name=\"Sales\",\n",
    "    data_types={\"Unit price\": tt.type.DOUBLE},\n",
    ")\n",
    "sales.head()"
   ]
  },
  {
   "cell_type": "code",
   "execution_count": 4,
   "id": "efb6008d-b7fa-4980-a42c-e230e2d9ab4f",
   "metadata": {},
   "outputs": [],
   "source": [
    "cube = session.create_cube(sales, \"sales cube\")"
   ]
  },
  {
   "cell_type": "markdown",
   "id": "e043c008-f810-4495-bf7c-594696e68b66",
   "metadata": {},
   "source": [
    "# Data are group into two categories - Data dimensions and measurements"
   ]
  },
  {
   "cell_type": "code",
   "execution_count": 5,
   "id": "6b740eea-1e79-40bb-9076-eeb9fa82bfbc",
   "metadata": {},
   "outputs": [
    {
     "data": {
      "application/json": {
       "Dimensions": {
        "Sales": {
         "Date": [
          "Date"
         ],
         "Product": [
          "Product"
         ],
         "Sale ID": [
          "Sale ID"
         ],
         "Shop": [
          "Shop"
         ]
        }
       },
       "Measures": {
        "Quantity.MEAN": {
         "formatter": "DOUBLE[#,###.00]"
        },
        "Quantity.SUM": {
         "formatter": "INT[#,###]"
        },
        "Unit price.MEAN": {
         "formatter": "DOUBLE[#,###.00]"
        },
        "Unit price.SUM": {
         "formatter": "DOUBLE[#,###.00]"
        },
        "contributors.COUNT": {
         "formatter": "INT[#,###]"
        }
       }
      },
      "text/html": [
       "<ul>\n",
       "<li>sales cube\n",
       "  <ul>\n",
       "  <li>Dimensions\n",
       "    <ul>\n",
       "    <li>Sales\n",
       "      <ul>\n",
       "      <li>Date\n",
       "        <ol>\n",
       "        <li>Date</li>\n",
       "        </ol>      </li>\n",
       "      <li>Product\n",
       "        <ol>\n",
       "        <li>Product</li>\n",
       "        </ol>      </li>\n",
       "      <li>Sale ID\n",
       "        <ol>\n",
       "        <li>Sale ID</li>\n",
       "        </ol>      </li>\n",
       "      <li>Shop\n",
       "        <ol>\n",
       "        <li>Shop</li>\n",
       "        </ol>      </li>\n",
       "      </ul>\n",
       "    </li>\n",
       "    </ul>\n",
       "  </li>\n",
       "  <li>Measures\n",
       "    <ul>\n",
       "    <li>Quantity.MEAN\n",
       "      <ul>\n",
       "      <li>formatter: DOUBLE[#,###.00]</li>\n",
       "      </ul>\n",
       "    </li>\n",
       "    <li>Quantity.SUM\n",
       "      <ul>\n",
       "      <li>formatter: INT[#,###]</li>\n",
       "      </ul>\n",
       "    </li>\n",
       "    <li>Unit price.MEAN\n",
       "      <ul>\n",
       "      <li>formatter: DOUBLE[#,###.00]</li>\n",
       "      </ul>\n",
       "    </li>\n",
       "    <li>Unit price.SUM\n",
       "      <ul>\n",
       "      <li>formatter: DOUBLE[#,###.00]</li>\n",
       "      </ul>\n",
       "    </li>\n",
       "    <li>contributors.COUNT\n",
       "      <ul>\n",
       "      <li>formatter: INT[#,###]</li>\n",
       "      </ul>\n",
       "    </li>\n",
       "    </ul>\n",
       "  </li>\n",
       "  </ul>\n",
       "</li>\n",
       "</ul>\n"
      ],
      "text/plain": [
       "<atoti.cube.Cube at 0x144645480>"
      ]
     },
     "execution_count": 5,
     "metadata": {
      "application/json": {
       "expanded": false,
       "root": "sales cube"
      }
     },
     "output_type": "execute_result"
    }
   ],
   "source": [
    "cube"
   ]
  },
  {
   "cell_type": "markdown",
   "id": "7e1ca805-b5d6-48df-95ff-9228f7146d4b",
   "metadata": {},
   "source": [
    "<img alt=\"Multidimensional cube concept\" src=\"https://data.atoti.io/notebooks/multidimension/img/cube-concept.svg\" width=\"400\" />\n",
    "\n",
    "The axes of the cube are called _hierarchies_."
   ]
  },
  {
   "cell_type": "code",
   "execution_count": 6,
   "id": "e44629ea-118e-4977-90da-7713a72bb9d4",
   "metadata": {
    "atoti": {
     "widget": {
      "filters": [
       {
        "dimensionName": "Sales",
        "hierarchyName": "Product",
        "isExclusionFilter": false,
        "members": [
         [
          "AllMember",
          "BED_24"
         ]
        ],
        "type": "members"
       }
      ],
      "mapping": {
       "columns": [
        "[Sales].[Product].[Product]",
        "ALL_MEASURES"
       ],
       "measures": [
        "[Measures].[Quantity.SUM]",
        "[Measures].[Unit price.SUM]"
       ],
       "rows": [
        "[Sales].[Shop].[Shop] => [Sales].[Date].[Date]"
       ]
      },
      "query": {
       "mdx": "SELECT NON EMPTY Hierarchize(Descendants({[Sales].[Shop].[ALL].[AllMember]}, 1, SELF_AND_BEFORE)) ON ROWS, NON EMPTY Crossjoin(Hierarchize(Descendants({[Sales].[Product].[ALL].[AllMember]}, 1, SELF_AND_BEFORE)), {[Measures].[Quantity.SUM], [Measures].[Unit price.SUM]}) ON COLUMNS FROM [sales cube] CELL PROPERTIES VALUE, FORMATTED_VALUE, BACK_COLOR, FORE_COLOR, FONT_FLAGS",
       "updateMode": "once"
      },
      "serverKey": "default",
      "widgetKey": "pivot-table"
     }
    },
    "editable": true,
    "slideshow": {
     "slide_type": ""
    },
    "tags": []
   },
   "outputs": [
    {
     "data": {
      "application/vnd.atoti.widget.v0+json": {
       "sessionId": "1733426206_547633",
       "sessionUrl": "http://localhost:54146",
       "widgetCreationCode": "session.widget"
      },
      "text/html": [
       "<img height=\"352\" width=\"1053\" src=\"data:image/png;base64,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\" />"
      ],
      "text/plain": [
       "Open the notebook in JupyterLab with the Atoti JupyterLab extension enabled to build this widget."
      ]
     },
     "metadata": {},
     "output_type": "display_data"
    }
   ],
   "source": [
    "session.widget"
   ]
  },
  {
   "cell_type": "markdown",
   "id": "760a5bbe-c253-4a29-88df-6e2dcd6f0f31",
   "metadata": {
    "tags": []
   },
   "source": [
    "# Capable of integrating multiple data sources "
   ]
  },
  {
   "cell_type": "code",
   "execution_count": 7,
   "id": "865ba8eb-97ca-4bdc-8a24-ba0cc479e20c",
   "metadata": {},
   "outputs": [
    {
     "data": {
      "text/html": [
       "<div>\n",
       "<style scoped>\n",
       "    .dataframe tbody tr th:only-of-type {\n",
       "        vertical-align: middle;\n",
       "    }\n",
       "\n",
       "    .dataframe tbody tr th {\n",
       "        vertical-align: top;\n",
       "    }\n",
       "\n",
       "    .dataframe thead th {\n",
       "        text-align: right;\n",
       "    }\n",
       "</style>\n",
       "<table border=\"1\" class=\"dataframe\">\n",
       "  <thead>\n",
       "    <tr style=\"text-align: right;\">\n",
       "      <th></th>\n",
       "      <th>Category</th>\n",
       "      <th>Sub category</th>\n",
       "      <th>Size</th>\n",
       "      <th>Purchase price</th>\n",
       "      <th>Color</th>\n",
       "      <th>Brand</th>\n",
       "    </tr>\n",
       "    <tr>\n",
       "      <th>Product</th>\n",
       "      <th></th>\n",
       "      <th></th>\n",
       "      <th></th>\n",
       "      <th></th>\n",
       "      <th></th>\n",
       "      <th></th>\n",
       "    </tr>\n",
       "  </thead>\n",
       "  <tbody>\n",
       "    <tr>\n",
       "      <th>HOO_12</th>\n",
       "      <td>Cloth</td>\n",
       "      <td>Hoodie</td>\n",
       "      <td>S</td>\n",
       "      <td>35.0</td>\n",
       "      <td>blue</td>\n",
       "      <td>Basic</td>\n",
       "    </tr>\n",
       "    <tr>\n",
       "      <th>BED_26</th>\n",
       "      <td>Furniture</td>\n",
       "      <td>Bed</td>\n",
       "      <td>Queen</td>\n",
       "      <td>333.0</td>\n",
       "      <td>white</td>\n",
       "      <td>Basic</td>\n",
       "    </tr>\n",
       "    <tr>\n",
       "      <th>SHO_40</th>\n",
       "      <td>Cloth</td>\n",
       "      <td>Shoes</td>\n",
       "      <td>11</td>\n",
       "      <td>48.0</td>\n",
       "      <td>black</td>\n",
       "      <td>Basic</td>\n",
       "    </tr>\n",
       "    <tr>\n",
       "      <th>HOO_54</th>\n",
       "      <td>Cloth</td>\n",
       "      <td>Hoodie</td>\n",
       "      <td>S</td>\n",
       "      <td>35.0</td>\n",
       "      <td>brown</td>\n",
       "      <td>Over</td>\n",
       "    </tr>\n",
       "    <tr>\n",
       "      <th>HOO_13</th>\n",
       "      <td>Cloth</td>\n",
       "      <td>Hoodie</td>\n",
       "      <td>M</td>\n",
       "      <td>38.0</td>\n",
       "      <td>red</td>\n",
       "      <td>Mega</td>\n",
       "    </tr>\n",
       "  </tbody>\n",
       "</table>\n",
       "</div>"
      ],
      "text/plain": [
       "          Category Sub category   Size  Purchase price  Color  Brand\n",
       "Product                                                             \n",
       "HOO_12       Cloth       Hoodie      S            35.0   blue  Basic\n",
       "BED_26   Furniture          Bed  Queen           333.0  white  Basic\n",
       "SHO_40       Cloth        Shoes     11            48.0  black  Basic\n",
       "HOO_54       Cloth       Hoodie      S            35.0  brown   Over\n",
       "HOO_13       Cloth       Hoodie      M            38.0    red   Mega"
      ]
     },
     "execution_count": 7,
     "metadata": {},
     "output_type": "execute_result"
    }
   ],
   "source": [
    "products = session.read_csv(\n",
    "    \"s3://data.atoti.io/notebooks/multidimension/products.csv\",\n",
    "    table_name=\"Products\",\n",
    "    keys=[\"Product\"],\n",
    ")\n",
    "products.head()"
   ]
  },
  {
   "cell_type": "code",
   "execution_count": 8,
   "id": "d4af45a9-98e7-4053-912d-7b5bcf75fda3",
   "metadata": {},
   "outputs": [
    {
     "data": {
      "image/png": "[encoded data removed]",
      "text/plain": [
       "erDiagram\n",
       "  \"Sales\" {\n",
       "    _ String \"Sale ID\"\n",
       "    _ LocalDate \"Date\"\n",
       "    _ String \"Shop\"\n",
       "    _ String \"Product\"\n",
       "    nullable int \"Quantity\"\n",
       "    nullable double \"Unit price\"\n",
       "  }\n",
       "  \"Products\" {\n",
       "    _ String PK \"Product\"\n",
       "    _ String \"Category\"\n",
       "    _ String \"Sub category\"\n",
       "    _ String \"Size\"\n",
       "    nullable double \"Purchase price\"\n",
       "    _ String \"Color\"\n",
       "    _ String \"Brand\"\n",
       "  }\n",
       "  \"Sales\" }o--o| \"Products\" : \"`Product` == `Product`\""
      ]
     },
     "execution_count": 8,
     "metadata": {},
     "output_type": "execute_result"
    }
   ],
   "source": [
    "sales.join(products)\n",
    "session.tables.schema"
   ]
  },
  {
   "cell_type": "code",
   "execution_count": 9,
   "id": "22060b6f-8d9d-443a-ab2f-ab00e0180a21",
   "metadata": {},
   "outputs": [],
   "source": [
    "h, l, m = cube.hierarchies, cube.levels, cube.measures"
   ]
  },
  {
   "cell_type": "code",
   "execution_count": 10,
   "id": "92b6fb72-eba8-4ec7-b002-0464b279f726",
   "metadata": {},
   "outputs": [
    {
     "data": {
      "application/json": {
       "Products": {
        "Brand": [
         "Brand"
        ],
        "Category": [
         "Category"
        ],
        "Color": [
         "Color"
        ],
        "Size": [
         "Size"
        ],
        "Sub category": [
         "Sub category"
        ]
       },
       "Sales": {
        "Date": [
         "Date"
        ],
        "Product": [
         "Product"
        ],
        "Sale ID": [
         "Sale ID"
        ],
        "Shop": [
         "Shop"
        ]
       }
      },
      "text/html": [
       "<ul>\n",
       "<li>Dimensions\n",
       "  <ul>\n",
       "  <li>Products\n",
       "    <ul>\n",
       "    <li>Brand\n",
       "      <ol>\n",
       "      <li>Brand</li>\n",
       "      </ol>    </li>\n",
       "    <li>Category\n",
       "      <ol>\n",
       "      <li>Category</li>\n",
       "      </ol>    </li>\n",
       "    <li>Color\n",
       "      <ol>\n",
       "      <li>Color</li>\n",
       "      </ol>    </li>\n",
       "    <li>Size\n",
       "      <ol>\n",
       "      <li>Size</li>\n",
       "      </ol>    </li>\n",
       "    <li>Sub category\n",
       "      <ol>\n",
       "      <li>Sub category</li>\n",
       "      </ol>    </li>\n",
       "    </ul>\n",
       "  </li>\n",
       "  <li>Sales\n",
       "    <ul>\n",
       "    <li>Date\n",
       "      <ol>\n",
       "      <li>Date</li>\n",
       "      </ol>    </li>\n",
       "    <li>Product\n",
       "      <ol>\n",
       "      <li>Product</li>\n",
       "      </ol>    </li>\n",
       "    <li>Sale ID\n",
       "      <ol>\n",
       "      <li>Sale ID</li>\n",
       "      </ol>    </li>\n",
       "    <li>Shop\n",
       "      <ol>\n",
       "      <li>Shop</li>\n",
       "      </ol>    </li>\n",
       "    </ul>\n",
       "  </li>\n",
       "  </ul>\n",
       "</li>\n",
       "</ul>\n"
      ],
      "text/plain": [
       "{('Products', 'Category'): <atoti.hierarchy.Hierarchy object at 0x1446b03d0>, ('Products', 'Size'): <atoti.hierarchy.Hierarchy object at 0x1446b2500>, ('Products', 'Brand'): <atoti.hierarchy.Hierarchy object at 0x1446b02b0>, ('Products', 'Sub category'): <atoti.hierarchy.Hierarchy object at 0x1446b2d70>, ('Products', 'Color'): <atoti.hierarchy.Hierarchy object at 0x1446b2800>, ('Sales', 'Shop'): <atoti.hierarchy.Hierarchy object at 0x1446b2860>, ('Sales', 'Date'): <atoti.hierarchy.Hierarchy object at 0x1446b28c0>, ('Sales', 'Product'): <atoti.hierarchy.Hierarchy object at 0x1446b2e60>, ('Sales', 'Sale ID'): <atoti.hierarchy.Hierarchy object at 0x1446b2890>}"
      ]
     },
     "execution_count": 10,
     "metadata": {
      "application/json": {
       "expanded": true,
       "root": "Dimensions"
      }
     },
     "output_type": "execute_result"
    }
   ],
   "source": [
    "h"
   ]
  },
  {
   "cell_type": "code",
   "execution_count": 11,
   "id": "ce1e2257-ffb6-4819-8f60-a179f5ff47b8",
   "metadata": {},
   "outputs": [],
   "source": [
    "h[\"Product categories\"] = [l[\"Category\"], l[\"Sub category\"]]"
   ]
  },
  {
   "cell_type": "code",
   "execution_count": 12,
   "id": "05bdd8e7-265e-4da1-bd6e-646493d268cd",
   "metadata": {
    "atoti": {
     "height": 357,
     "widget": {
      "mapping": {
       "columns": [
        "ALL_MEASURES"
       ],
       "measures": [
        "[Measures].[Unit price.SUM]",
        "[Measures].[Quantity.SUM]"
       ],
       "rows": [
        "[Sales].[Shop].[Shop] => [Products].[Product categories].[Sub category]"
       ]
      },
      "query": {
       "mdx": "SELECT NON EMPTY {[Measures].[Unit price.SUM], [Measures].[Quantity.SUM]} ON COLUMNS, NON EMPTY Hierarchize(Union(Crossjoin(Descendants({[Sales].[Shop].[AllMember]}, 1, SELF_AND_BEFORE), [Products].[Product categories].DefaultMember), Crossjoin([Sales].[Shop].[AllMember].[shop_0], Hierarchize(Descendants({[Products].[Product categories].[AllMember]}, 2, SELF_AND_BEFORE))))) ON ROWS FROM [sales cube] CELL PROPERTIES VALUE, FORMATTED_VALUE, BACK_COLOR, FORE_COLOR, FONT_FLAGS",
       "updateMode": "once"
      },
      "serverKey": "default",
      "widgetKey": "pivot-table"
     }
    },
    "tags": []
   },
   "outputs": [
    {
     "data": {
      "application/vnd.atoti.widget.v0+json": {
       "sessionId": "1733426206_547633",
       "sessionUrl": "http://localhost:54146",
       "widgetCreationCode": "session.widget"
      },
      "text/html": [
       "<img height=\"349\" width=\"1053\" src=\"data:image/png;base64,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\" />"
      ],
      "text/plain": [
       "Open the notebook in JupyterLab with the Atoti JupyterLab extension enabled to build this widget."
      ]
     },
     "metadata": {},
     "output_type": "display_data"
    }
   ],
   "source": [
    "session.widget"
   ]
  },
  {
   "cell_type": "markdown",
   "id": "c616bde0-866c-498e-8d20-efb34bda175b",
   "metadata": {
    "tags": []
   },
   "source": [
    "# Aggregational flexibility - Pre-processing vs Post-processing\n",
    "\n"
   ]
  },
  {
   "cell_type": "markdown",
   "id": "d2c0baf8-56d2-4390-a5e1-980bbabfb29e",
   "metadata": {},
   "source": [
    "## Pre-processing trades storage consumption for computational efficiency"
   ]
  },
  {
   "cell_type": "code",
   "execution_count": 13,
   "id": "fedc6bef-3477-44e7-af8f-43ad4a4e83de",
   "metadata": {},
   "outputs": [
    {
     "data": {
      "text/html": [
       "<div>\n",
       "<style scoped>\n",
       "    .dataframe tbody tr th:only-of-type {\n",
       "        vertical-align: middle;\n",
       "    }\n",
       "\n",
       "    .dataframe tbody tr th {\n",
       "        vertical-align: top;\n",
       "    }\n",
       "\n",
       "    .dataframe thead th {\n",
       "        text-align: right;\n",
       "    }\n",
       "</style>\n",
       "<table border=\"1\" class=\"dataframe\">\n",
       "  <thead>\n",
       "    <tr style=\"text-align: right;\">\n",
       "      <th></th>\n",
       "      <th>Product</th>\n",
       "      <th>Category</th>\n",
       "      <th>Sub category</th>\n",
       "      <th>Size</th>\n",
       "      <th>Purchase price</th>\n",
       "      <th>Color</th>\n",
       "      <th>Brand</th>\n",
       "    </tr>\n",
       "  </thead>\n",
       "  <tbody>\n",
       "    <tr>\n",
       "      <th>0</th>\n",
       "      <td>TAB_0</td>\n",
       "      <td>Furniture</td>\n",
       "      <td>Table</td>\n",
       "      <td>1m80</td>\n",
       "      <td>190.0</td>\n",
       "      <td>black</td>\n",
       "      <td>Basic</td>\n",
       "    </tr>\n",
       "    <tr>\n",
       "      <th>1</th>\n",
       "      <td>TAB_1</td>\n",
       "      <td>Furniture</td>\n",
       "      <td>Table</td>\n",
       "      <td>2m40</td>\n",
       "      <td>280.0</td>\n",
       "      <td>white</td>\n",
       "      <td>Mega</td>\n",
       "    </tr>\n",
       "    <tr>\n",
       "      <th>2</th>\n",
       "      <td>CHA_2</td>\n",
       "      <td>Furniture</td>\n",
       "      <td>Chair</td>\n",
       "      <td>NaN</td>\n",
       "      <td>48.0</td>\n",
       "      <td>blue</td>\n",
       "      <td>Basic</td>\n",
       "    </tr>\n",
       "    <tr>\n",
       "      <th>3</th>\n",
       "      <td>BED_3</td>\n",
       "      <td>Furniture</td>\n",
       "      <td>Bed</td>\n",
       "      <td>Single</td>\n",
       "      <td>127.0</td>\n",
       "      <td>red</td>\n",
       "      <td>Mega</td>\n",
       "    </tr>\n",
       "    <tr>\n",
       "      <th>4</th>\n",
       "      <td>BED_4</td>\n",
       "      <td>Furniture</td>\n",
       "      <td>Bed</td>\n",
       "      <td>Double</td>\n",
       "      <td>252.0</td>\n",
       "      <td>brown</td>\n",
       "      <td>Basic</td>\n",
       "    </tr>\n",
       "  </tbody>\n",
       "</table>\n",
       "</div>"
      ],
      "text/plain": [
       "  Product   Category Sub category    Size  Purchase price  Color  Brand\n",
       "0   TAB_0  Furniture        Table    1m80           190.0  black  Basic\n",
       "1   TAB_1  Furniture        Table    2m40           280.0  white   Mega\n",
       "2   CHA_2  Furniture        Chair     NaN            48.0   blue  Basic\n",
       "3   BED_3  Furniture          Bed  Single           127.0    red   Mega\n",
       "4   BED_4  Furniture          Bed  Double           252.0  brown  Basic"
      ]
     },
     "execution_count": 13,
     "metadata": {},
     "output_type": "execute_result"
    }
   ],
   "source": [
    "product_df = pd.read_csv(\"https://data.atoti.io/notebooks/multidimension/products.csv\")\n",
    "product_df.head()"
   ]
  },
  {
   "cell_type": "code",
   "execution_count": 14,
   "id": "cb39573f-7d29-4330-8702-cd4c58c3354f",
   "metadata": {},
   "outputs": [
    {
     "data": {
      "text/html": [
       "<div>\n",
       "<style scoped>\n",
       "    .dataframe tbody tr th:only-of-type {\n",
       "        vertical-align: middle;\n",
       "    }\n",
       "\n",
       "    .dataframe tbody tr th {\n",
       "        vertical-align: top;\n",
       "    }\n",
       "\n",
       "    .dataframe thead th {\n",
       "        text-align: right;\n",
       "    }\n",
       "</style>\n",
       "<table border=\"1\" class=\"dataframe\">\n",
       "  <thead>\n",
       "    <tr style=\"text-align: right;\">\n",
       "      <th></th>\n",
       "      <th>Sale ID</th>\n",
       "      <th>Date</th>\n",
       "      <th>Shop</th>\n",
       "      <th>Product</th>\n",
       "      <th>Quantity</th>\n",
       "      <th>Unit price</th>\n",
       "    </tr>\n",
       "  </thead>\n",
       "  <tbody>\n",
       "    <tr>\n",
       "      <th>0</th>\n",
       "      <td>S000000029</td>\n",
       "      <td>2021-01-06</td>\n",
       "      <td>shop_29</td>\n",
       "      <td>TSH_29</td>\n",
       "      <td>1</td>\n",
       "      <td>20</td>\n",
       "    </tr>\n",
       "    <tr>\n",
       "      <th>1</th>\n",
       "      <td>S000000059</td>\n",
       "      <td>2021-01-06</td>\n",
       "      <td>shop_19</td>\n",
       "      <td>SHO_59</td>\n",
       "      <td>2</td>\n",
       "      <td>60</td>\n",
       "    </tr>\n",
       "    <tr>\n",
       "      <th>2</th>\n",
       "      <td>S000000089</td>\n",
       "      <td>2021-01-06</td>\n",
       "      <td>shop_9</td>\n",
       "      <td>TSH_28</td>\n",
       "      <td>4</td>\n",
       "      <td>20</td>\n",
       "    </tr>\n",
       "    <tr>\n",
       "      <th>3</th>\n",
       "      <td>S000000119</td>\n",
       "      <td>2021-01-06</td>\n",
       "      <td>shop_39</td>\n",
       "      <td>SHO_58</td>\n",
       "      <td>2</td>\n",
       "      <td>60</td>\n",
       "    </tr>\n",
       "    <tr>\n",
       "      <th>4</th>\n",
       "      <td>S000000149</td>\n",
       "      <td>2021-01-06</td>\n",
       "      <td>shop_29</td>\n",
       "      <td>BED_27</td>\n",
       "      <td>2</td>\n",
       "      <td>440</td>\n",
       "    </tr>\n",
       "  </tbody>\n",
       "</table>\n",
       "</div>"
      ],
      "text/plain": [
       "      Sale ID        Date     Shop Product  Quantity  Unit price\n",
       "0  S000000029  2021-01-06  shop_29  TSH_29         1          20\n",
       "1  S000000059  2021-01-06  shop_19  SHO_59         2          60\n",
       "2  S000000089  2021-01-06   shop_9  TSH_28         4          20\n",
       "3  S000000119  2021-01-06  shop_39  SHO_58         2          60\n",
       "4  S000000149  2021-01-06  shop_29  BED_27         2         440"
      ]
     },
     "execution_count": 14,
     "metadata": {},
     "output_type": "execute_result"
    }
   ],
   "source": [
    "sales_df = pd.read_csv(\"https://data.atoti.io/notebooks/multidimension/sales.csv\")\n",
    "sales_df.head()"
   ]
  },
  {
   "cell_type": "markdown",
   "id": "b3cbb744-338e-49cf-8312-91bf823fe06f",
   "metadata": {},
   "source": [
    "Within the same data source, we can easily perform aggregation by applying the formulas. Notice that our dataset just grew bigger with the additional column? By loading this dataset, we traded storage consumption for the computational efficiency because the cube need not compute the sales amount every time we query it."
   ]
  },
  {
   "cell_type": "code",
   "execution_count": 15,
   "id": "6f3285c3-f86a-4adf-8522-fd29e32d49bb",
   "metadata": {},
   "outputs": [
    {
     "data": {
      "text/html": [
       "<div>\n",
       "<style scoped>\n",
       "    .dataframe tbody tr th:only-of-type {\n",
       "        vertical-align: middle;\n",
       "    }\n",
       "\n",
       "    .dataframe tbody tr th {\n",
       "        vertical-align: top;\n",
       "    }\n",
       "\n",
       "    .dataframe thead th {\n",
       "        text-align: right;\n",
       "    }\n",
       "</style>\n",
       "<table border=\"1\" class=\"dataframe\">\n",
       "  <thead>\n",
       "    <tr style=\"text-align: right;\">\n",
       "      <th></th>\n",
       "      <th>Sale ID</th>\n",
       "      <th>Date</th>\n",
       "      <th>Shop</th>\n",
       "      <th>Product</th>\n",
       "      <th>Quantity</th>\n",
       "      <th>Unit price</th>\n",
       "      <th>Sales amount</th>\n",
       "    </tr>\n",
       "  </thead>\n",
       "  <tbody>\n",
       "    <tr>\n",
       "      <th>0</th>\n",
       "      <td>S000000029</td>\n",
       "      <td>2021-01-06</td>\n",
       "      <td>shop_29</td>\n",
       "      <td>TSH_29</td>\n",
       "      <td>1</td>\n",
       "      <td>20</td>\n",
       "      <td>20</td>\n",
       "    </tr>\n",
       "    <tr>\n",
       "      <th>1</th>\n",
       "      <td>S000000059</td>\n",
       "      <td>2021-01-06</td>\n",
       "      <td>shop_19</td>\n",
       "      <td>SHO_59</td>\n",
       "      <td>2</td>\n",
       "      <td>60</td>\n",
       "      <td>120</td>\n",
       "    </tr>\n",
       "    <tr>\n",
       "      <th>2</th>\n",
       "      <td>S000000089</td>\n",
       "      <td>2021-01-06</td>\n",
       "      <td>shop_9</td>\n",
       "      <td>TSH_28</td>\n",
       "      <td>4</td>\n",
       "      <td>20</td>\n",
       "      <td>80</td>\n",
       "    </tr>\n",
       "    <tr>\n",
       "      <th>3</th>\n",
       "      <td>S000000119</td>\n",
       "      <td>2021-01-06</td>\n",
       "      <td>shop_39</td>\n",
       "      <td>SHO_58</td>\n",
       "      <td>2</td>\n",
       "      <td>60</td>\n",
       "      <td>120</td>\n",
       "    </tr>\n",
       "    <tr>\n",
       "      <th>4</th>\n",
       "      <td>S000000149</td>\n",
       "      <td>2021-01-06</td>\n",
       "      <td>shop_29</td>\n",
       "      <td>BED_27</td>\n",
       "      <td>2</td>\n",
       "      <td>440</td>\n",
       "      <td>880</td>\n",
       "    </tr>\n",
       "  </tbody>\n",
       "</table>\n",
       "</div>"
      ],
      "text/plain": [
       "      Sale ID        Date     Shop Product  Quantity  Unit price  Sales amount\n",
       "0  S000000029  2021-01-06  shop_29  TSH_29         1          20            20\n",
       "1  S000000059  2021-01-06  shop_19  SHO_59         2          60           120\n",
       "2  S000000089  2021-01-06   shop_9  TSH_28         4          20            80\n",
       "3  S000000119  2021-01-06  shop_39  SHO_58         2          60           120\n",
       "4  S000000149  2021-01-06  shop_29  BED_27         2         440           880"
      ]
     },
     "execution_count": 15,
     "metadata": {},
     "output_type": "execute_result"
    }
   ],
   "source": [
    "sales_df[\"Sales amount\"] = sales_df[\"Quantity\"] * sales_df[\"Unit price\"]\n",
    "sales_df.head()"
   ]
  },
  {
   "cell_type": "markdown",
   "id": "7f9c6fdd-366a-4b7a-9925-eefec9545e27",
   "metadata": {},
   "source": [
    "When aggregation involves multiple data sources, then we need to handle the joins before we can apply the formulas."
   ]
  },
  {
   "cell_type": "code",
   "execution_count": 16,
   "id": "83fc8e4a-cb1b-4c60-8b66-91f6aa313107",
   "metadata": {},
   "outputs": [
    {
     "data": {
      "text/html": [
       "<div>\n",
       "<style scoped>\n",
       "    .dataframe tbody tr th:only-of-type {\n",
       "        vertical-align: middle;\n",
       "    }\n",
       "\n",
       "    .dataframe tbody tr th {\n",
       "        vertical-align: top;\n",
       "    }\n",
       "\n",
       "    .dataframe thead th {\n",
       "        text-align: right;\n",
       "    }\n",
       "</style>\n",
       "<table border=\"1\" class=\"dataframe\">\n",
       "  <thead>\n",
       "    <tr style=\"text-align: right;\">\n",
       "      <th></th>\n",
       "      <th>Sale ID</th>\n",
       "      <th>Date</th>\n",
       "      <th>Shop</th>\n",
       "      <th>Product</th>\n",
       "      <th>Quantity</th>\n",
       "      <th>Unit price</th>\n",
       "      <th>Sales amount</th>\n",
       "      <th>Category</th>\n",
       "      <th>Sub category</th>\n",
       "      <th>Size</th>\n",
       "      <th>Purchase price</th>\n",
       "      <th>Color</th>\n",
       "      <th>Brand</th>\n",
       "    </tr>\n",
       "  </thead>\n",
       "  <tbody>\n",
       "    <tr>\n",
       "      <th>0</th>\n",
       "      <td>S000000029</td>\n",
       "      <td>2021-01-06</td>\n",
       "      <td>shop_29</td>\n",
       "      <td>TSH_29</td>\n",
       "      <td>1</td>\n",
       "      <td>20</td>\n",
       "      <td>20</td>\n",
       "      <td>Cloth</td>\n",
       "      <td>Tshirt</td>\n",
       "      <td>S</td>\n",
       "      <td>18.0</td>\n",
       "      <td>brown</td>\n",
       "      <td>Mega</td>\n",
       "    </tr>\n",
       "    <tr>\n",
       "      <th>1</th>\n",
       "      <td>S000000059</td>\n",
       "      <td>2021-01-06</td>\n",
       "      <td>shop_19</td>\n",
       "      <td>SHO_59</td>\n",
       "      <td>2</td>\n",
       "      <td>60</td>\n",
       "      <td>120</td>\n",
       "      <td>Cloth</td>\n",
       "      <td>Shoes</td>\n",
       "      <td>9</td>\n",
       "      <td>44.0</td>\n",
       "      <td>brown</td>\n",
       "      <td>NewBrand</td>\n",
       "    </tr>\n",
       "    <tr>\n",
       "      <th>2</th>\n",
       "      <td>S000000089</td>\n",
       "      <td>2021-01-06</td>\n",
       "      <td>shop_9</td>\n",
       "      <td>TSH_28</td>\n",
       "      <td>4</td>\n",
       "      <td>20</td>\n",
       "      <td>80</td>\n",
       "      <td>Cloth</td>\n",
       "      <td>Tshirt</td>\n",
       "      <td>XS</td>\n",
       "      <td>17.0</td>\n",
       "      <td>red</td>\n",
       "      <td>Basic</td>\n",
       "    </tr>\n",
       "    <tr>\n",
       "      <th>3</th>\n",
       "      <td>S000000119</td>\n",
       "      <td>2021-01-06</td>\n",
       "      <td>shop_39</td>\n",
       "      <td>SHO_58</td>\n",
       "      <td>2</td>\n",
       "      <td>60</td>\n",
       "      <td>120</td>\n",
       "      <td>Cloth</td>\n",
       "      <td>Shoes</td>\n",
       "      <td>8</td>\n",
       "      <td>42.0</td>\n",
       "      <td>red</td>\n",
       "      <td>Over</td>\n",
       "    </tr>\n",
       "    <tr>\n",
       "      <th>4</th>\n",
       "      <td>S000000149</td>\n",
       "      <td>2021-01-06</td>\n",
       "      <td>shop_29</td>\n",
       "      <td>BED_27</td>\n",
       "      <td>2</td>\n",
       "      <td>440</td>\n",
       "      <td>880</td>\n",
       "      <td>Furniture</td>\n",
       "      <td>Bed</td>\n",
       "      <td>King</td>\n",
       "      <td>375.0</td>\n",
       "      <td>blue</td>\n",
       "      <td>Mega</td>\n",
       "    </tr>\n",
       "  </tbody>\n",
       "</table>\n",
       "</div>"
      ],
      "text/plain": [
       "      Sale ID        Date     Shop Product  Quantity  Unit price  \\\n",
       "0  S000000029  2021-01-06  shop_29  TSH_29         1          20   \n",
       "1  S000000059  2021-01-06  shop_19  SHO_59         2          60   \n",
       "2  S000000089  2021-01-06   shop_9  TSH_28         4          20   \n",
       "3  S000000119  2021-01-06  shop_39  SHO_58         2          60   \n",
       "4  S000000149  2021-01-06  shop_29  BED_27         2         440   \n",
       "\n",
       "   Sales amount   Category Sub category  Size  Purchase price  Color     Brand  \n",
       "0            20      Cloth       Tshirt     S            18.0  brown      Mega  \n",
       "1           120      Cloth        Shoes     9            44.0  brown  NewBrand  \n",
       "2            80      Cloth       Tshirt    XS            17.0    red     Basic  \n",
       "3           120      Cloth        Shoes     8            42.0    red      Over  \n",
       "4           880  Furniture          Bed  King           375.0   blue      Mega  "
      ]
     },
     "execution_count": 16,
     "metadata": {},
     "output_type": "execute_result"
    }
   ],
   "source": [
    "product_sales = pd.merge(sales_df, product_df, on=\"Product\")\n",
    "product_sales.head()"
   ]
  },
  {
   "cell_type": "code",
   "execution_count": 17,
   "id": "136afb1e-57f2-4d00-a3a4-8aff63a31469",
   "metadata": {},
   "outputs": [
    {
     "data": {
      "text/html": [
       "<div>\n",
       "<style scoped>\n",
       "    .dataframe tbody tr th:only-of-type {\n",
       "        vertical-align: middle;\n",
       "    }\n",
       "\n",
       "    .dataframe tbody tr th {\n",
       "        vertical-align: top;\n",
       "    }\n",
       "\n",
       "    .dataframe thead th {\n",
       "        text-align: right;\n",
       "    }\n",
       "</style>\n",
       "<table border=\"1\" class=\"dataframe\">\n",
       "  <thead>\n",
       "    <tr style=\"text-align: right;\">\n",
       "      <th></th>\n",
       "      <th>Sale ID</th>\n",
       "      <th>Date</th>\n",
       "      <th>Shop</th>\n",
       "      <th>Product</th>\n",
       "      <th>Quantity</th>\n",
       "      <th>Unit price</th>\n",
       "      <th>Sales amount</th>\n",
       "      <th>Category</th>\n",
       "      <th>Sub category</th>\n",
       "      <th>Size</th>\n",
       "      <th>Purchase price</th>\n",
       "      <th>Color</th>\n",
       "      <th>Brand</th>\n",
       "      <th>Cost price</th>\n",
       "      <th>Margin</th>\n",
       "    </tr>\n",
       "  </thead>\n",
       "  <tbody>\n",
       "    <tr>\n",
       "      <th>0</th>\n",
       "      <td>S000000029</td>\n",
       "      <td>2021-01-06</td>\n",
       "      <td>shop_29</td>\n",
       "      <td>TSH_29</td>\n",
       "      <td>1</td>\n",
       "      <td>20</td>\n",
       "      <td>20</td>\n",
       "      <td>Cloth</td>\n",
       "      <td>Tshirt</td>\n",
       "      <td>S</td>\n",
       "      <td>18.0</td>\n",
       "      <td>brown</td>\n",
       "      <td>Mega</td>\n",
       "      <td>18.0</td>\n",
       "      <td>2.0</td>\n",
       "    </tr>\n",
       "    <tr>\n",
       "      <th>1</th>\n",
       "      <td>S000000059</td>\n",
       "      <td>2021-01-06</td>\n",
       "      <td>shop_19</td>\n",
       "      <td>SHO_59</td>\n",
       "      <td>2</td>\n",
       "      <td>60</td>\n",
       "      <td>120</td>\n",
       "      <td>Cloth</td>\n",
       "      <td>Shoes</td>\n",
       "      <td>9</td>\n",
       "      <td>44.0</td>\n",
       "      <td>brown</td>\n",
       "      <td>NewBrand</td>\n",
       "      <td>88.0</td>\n",
       "      <td>32.0</td>\n",
       "    </tr>\n",
       "    <tr>\n",
       "      <th>2</th>\n",
       "      <td>S000000089</td>\n",
       "      <td>2021-01-06</td>\n",
       "      <td>shop_9</td>\n",
       "      <td>TSH_28</td>\n",
       "      <td>4</td>\n",
       "      <td>20</td>\n",
       "      <td>80</td>\n",
       "      <td>Cloth</td>\n",
       "      <td>Tshirt</td>\n",
       "      <td>XS</td>\n",
       "      <td>17.0</td>\n",
       "      <td>red</td>\n",
       "      <td>Basic</td>\n",
       "      <td>68.0</td>\n",
       "      <td>12.0</td>\n",
       "    </tr>\n",
       "    <tr>\n",
       "      <th>3</th>\n",
       "      <td>S000000119</td>\n",
       "      <td>2021-01-06</td>\n",
       "      <td>shop_39</td>\n",
       "      <td>SHO_58</td>\n",
       "      <td>2</td>\n",
       "      <td>60</td>\n",
       "      <td>120</td>\n",
       "      <td>Cloth</td>\n",
       "      <td>Shoes</td>\n",
       "      <td>8</td>\n",
       "      <td>42.0</td>\n",
       "      <td>red</td>\n",
       "      <td>Over</td>\n",
       "      <td>84.0</td>\n",
       "      <td>36.0</td>\n",
       "    </tr>\n",
       "    <tr>\n",
       "      <th>4</th>\n",
       "      <td>S000000149</td>\n",
       "      <td>2021-01-06</td>\n",
       "      <td>shop_29</td>\n",
       "      <td>BED_27</td>\n",
       "      <td>2</td>\n",
       "      <td>440</td>\n",
       "      <td>880</td>\n",
       "      <td>Furniture</td>\n",
       "      <td>Bed</td>\n",
       "      <td>King</td>\n",
       "      <td>375.0</td>\n",
       "      <td>blue</td>\n",
       "      <td>Mega</td>\n",
       "      <td>750.0</td>\n",
       "      <td>130.0</td>\n",
       "    </tr>\n",
       "  </tbody>\n",
       "</table>\n",
       "</div>"
      ],
      "text/plain": [
       "      Sale ID        Date     Shop Product  Quantity  Unit price  \\\n",
       "0  S000000029  2021-01-06  shop_29  TSH_29         1          20   \n",
       "1  S000000059  2021-01-06  shop_19  SHO_59         2          60   \n",
       "2  S000000089  2021-01-06   shop_9  TSH_28         4          20   \n",
       "3  S000000119  2021-01-06  shop_39  SHO_58         2          60   \n",
       "4  S000000149  2021-01-06  shop_29  BED_27         2         440   \n",
       "\n",
       "   Sales amount   Category Sub category  Size  Purchase price  Color  \\\n",
       "0            20      Cloth       Tshirt     S            18.0  brown   \n",
       "1           120      Cloth        Shoes     9            44.0  brown   \n",
       "2            80      Cloth       Tshirt    XS            17.0    red   \n",
       "3           120      Cloth        Shoes     8            42.0    red   \n",
       "4           880  Furniture          Bed  King           375.0   blue   \n",
       "\n",
       "      Brand  Cost price  Margin  \n",
       "0      Mega        18.0     2.0  \n",
       "1  NewBrand        88.0    32.0  \n",
       "2     Basic        68.0    12.0  \n",
       "3      Over        84.0    36.0  \n",
       "4      Mega       750.0   130.0  "
      ]
     },
     "execution_count": 17,
     "metadata": {},
     "output_type": "execute_result"
    }
   ],
   "source": [
    "product_sales[\"Cost price\"] = (\n",
    "    product_sales[\"Quantity\"] * product_sales[\"Purchase price\"]\n",
    ")\n",
    "product_sales[\"Margin\"] = sales_df[\"Sales amount\"] - product_sales[\"Cost price\"]\n",
    "product_sales.head()"
   ]
  },
  {
   "cell_type": "markdown",
   "id": "7b57e887-bf01-41c0-95fe-0aabeb636412",
   "metadata": {},
   "source": [
    "Pre-processing works when we are at the most granular level because we will still be able to drill down or roll up. At higher aggregation level, we will not know how to break the value when we drill down to the lower level."
   ]
  },
  {
   "cell_type": "markdown",
   "id": "81719157-0196-4bff-b336-471f25aeaf91",
   "metadata": {},
   "source": [
    "<div style=\"text-align: center;\"><img src=\"https://data.atoti.io/notebooks/multidimension/img/drilldown_rollup.png\" width=\"50%\"></div>"
   ]
  },
  {
   "cell_type": "markdown",
   "id": "f56c58ae-27f2-472a-841b-5f01aa686181",
   "metadata": {
    "tags": []
   },
   "source": [
    "## Post-processing computes on the fly and provides flexibility"
   ]
  },
  {
   "cell_type": "code",
   "execution_count": 18,
   "id": "d0e7d65b-a300-44ed-9ae2-4187ec1659c3",
   "metadata": {},
   "outputs": [],
   "source": [
    "h, l, m = cube.hierarchies, cube.levels, cube.measures"
   ]
  },
  {
   "cell_type": "code",
   "execution_count": 19,
   "id": "4c2fca52-9025-4277-9770-949e5e55513b",
   "metadata": {},
   "outputs": [],
   "source": [
    "m[\"Sales amount\"] = tt.agg.sum(\n",
    "    sales[\"Quantity\"] * sales[\"Unit price\"],\n",
    ")"
   ]
  },
  {
   "cell_type": "code",
   "execution_count": 20,
   "id": "d5693639-d478-43d2-999b-1647602cb1ac",
   "metadata": {},
   "outputs": [],
   "source": [
    "m[\"Cost price\"] = tt.agg.sum(\n",
    "    m[\"Quantity.SUM\"] * tt.agg.single_value(products[\"Purchase price\"]),\n",
    "    scope=tt.OriginScope(levels={l[\"Product\"]}),\n",
    ")"
   ]
  },
  {
   "cell_type": "code",
   "execution_count": 21,
   "id": "7df79c7f-a67e-40da-b503-bd80d65b3709",
   "metadata": {},
   "outputs": [],
   "source": [
    "m[\"Margin\"] = m[\"Sales amount\"] - m[\"Cost price\"]"
   ]
  },
  {
   "cell_type": "code",
   "execution_count": 22,
   "id": "90571a79-f793-4fc8-a969-f3eb4f6bdc33",
   "metadata": {},
   "outputs": [],
   "source": [
    "m[\"Cumulative amount\"] = tt.agg.sum(\n",
    "    m[\"Sales amount\"], scope=tt.CumulativeScope(level=l[\"Date\"])\n",
    ")\n",
    "\n",
    "m[\"Cumulative margin\"] = tt.agg.sum(\n",
    "    m[\"Margin\"], scope=tt.CumulativeScope(level=l[\"Date\"])\n",
    ")"
   ]
  },
  {
   "cell_type": "markdown",
   "id": "1f55e25f-42a7-4092-9462-48016bcee711",
   "metadata": {},
   "source": [
    "In the visualization below, we are missing the sales data for `Shop_0` on 15 Jan 2021. Suppose we use pre-processing computation to get the cumulative values, we will need to perform re-calculation and then reload the data into the cube. With post-processing, this is not required as the data is computed on the fly."
   ]
  },
  {
   "cell_type": "code",
   "execution_count": 23,
   "id": "dc945967-d009-4b72-aa8b-13b752e11bbb",
   "metadata": {
    "atoti": {
     "widget": {
      "filters": [],
      "mapping": {
       "columns": [
        "ALL_MEASURES"
       ],
       "measures": [
        "[Measures].[Margin]",
        "[Measures].[Cumulative margin]"
       ],
       "rows": [
        "[Sales].[Date].[Date]"
       ]
      },
      "query": {
       "mdx": "SELECT NON EMPTY Hierarchize(Descendants({[Sales].[Date].[AllMember]}, 1, SELF_AND_BEFORE)) ON ROWS, NON EMPTY {[Measures].[Margin], [Measures].[Cumulative margin]} ON COLUMNS FROM [sales cube] CELL PROPERTIES VALUE, FORMATTED_VALUE, BACK_COLOR, FORE_COLOR, FONT_FLAGS",
       "updateMode": "once"
      },
      "serverKey": "default",
      "switchedTo": "plotly-line-chart",
      "widgetKey": "tree-table"
     }
    },
    "tags": []
   },
   "outputs": [
    {
     "data": {
      "application/vnd.atoti.widget.v0+json": {
       "sessionId": "1733426206_547633",
       "sessionUrl": "http://localhost:54146",
       "widgetCreationCode": "session.widget"
      },
      "text/html": [
       "<img height=\"352\" width=\"1053\" src=\"data:image/png;base64,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\" />"
      ],
      "text/plain": [
       "Open the notebook in JupyterLab with the Atoti JupyterLab extension enabled to build this widget."
      ]
     },
     "metadata": {},
     "output_type": "display_data"
    }
   ],
   "source": [
    "session.widget"
   ]
  },
  {
   "cell_type": "code",
   "execution_count": 24,
   "id": "b76f6b23-2423-4c05-95fa-e7e54bdb1d67",
   "metadata": {
    "atoti": {
     "height": 390,
     "widget": {
      "columnWidths": {
       "[Measures].[Cumulative margin]": 165
      },
      "filters": [],
      "mapping": {
       "columns": [
        "ALL_MEASURES"
       ],
       "measures": [
        "[Measures].[Margin]",
        "[Measures].[Cumulative margin]"
       ],
       "rows": [
        "[Sales].[Date].[Date]"
       ]
      },
      "query": {
       "mdx": "SELECT NON EMPTY Hierarchize(Descendants({[Sales].[Date].[AllMember]}, 1, SELF_AND_BEFORE)) ON ROWS, NON EMPTY {[Measures].[Margin], [Measures].[Cumulative margin]} ON COLUMNS FROM [sales cube] CELL PROPERTIES VALUE, FORMATTED_VALUE, BACK_COLOR, FORE_COLOR, FONT_FLAGS",
       "updateMode": "once"
      },
      "serverKey": "default",
      "widgetKey": "pivot-table"
     }
    },
    "tags": []
   },
   "outputs": [
    {
     "data": {
      "application/vnd.atoti.widget.v0+json": {
       "sessionId": "1733426206_547633",
       "sessionUrl": "http://localhost:54146",
       "widgetCreationCode": "session.widget"
      },
      "text/html": [
       "<img height=\"382\" width=\"1053\" src=\"data:image/png;base64,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\" />"
      ],
      "text/plain": [
       "Open the notebook in JupyterLab with the Atoti JupyterLab extension enabled to build this widget."
      ]
     },
     "metadata": {},
     "output_type": "display_data"
    }
   ],
   "source": [
    "session.widget"
   ]
  },
  {
   "cell_type": "markdown",
   "id": "bfad2809-47d7-42e2-b9dc-bc24ecdbab03",
   "metadata": {},
   "source": [
    "Simply load the missing data into the cube and it will be computed automatically."
   ]
  },
  {
   "cell_type": "code",
   "execution_count": 25,
   "id": "57330a4f-f852-4104-858e-c5ca2d863386",
   "metadata": {},
   "outputs": [],
   "source": [
    "sales.load(tt.CsvLoad(\"s3://data.atoti.io/notebooks/multidimension/shop0_20210115.csv\"))"
   ]
  },
  {
   "cell_type": "markdown",
   "id": "098b95d9-8ce4-40af-b0f6-51015357490a",
   "metadata": {},
   "source": [
    "Re-running the last 2 visualizations should reflect the correct sales."
   ]
  },
  {
   "cell_type": "markdown",
   "id": "828ee921-d6a6-40f5-8df9-541687f22344",
   "metadata": {
    "editable": true,
    "slideshow": {
     "slide_type": ""
    },
    "tags": []
   },
   "source": [
    "<div style=\"text-align:center\"><a href=\"https://www.atoti.io/?utm_source=gallery&utm_content=multidimensional-analysis\" target=\"_blank\" rel=\"noopener noreferrer\"><img src=\"https://data.atoti.io/notebooks/banners/Your-turn-to-try-Atoti.jpg\" alt=\"Atoti table\" /></a></div>"
   ]
  }
 ],
 "metadata": {
  "kernelspec": {
   "display_name": "Python 3 (ipykernel)",
   "language": "python",
   "name": "python3"
  },
  "language_info": {
   "codemirror_mode": {
    "name": "ipython",
    "version": 3
   },
   "file_extension": ".py",
   "mimetype": "text/x-python",
   "name": "python",
   "nbconvert_exporter": "python",
   "pygments_lexer": "ipython3",
   "version": "3.10.11"
  },
  "widgets": {
   "application/vnd.jupyter.widget-state+json": {
    "state": {},
    "version_major": 2,
    "version_minor": 0
   }
  }
 },
 "nbformat": 4,
 "nbformat_minor": 5
}
