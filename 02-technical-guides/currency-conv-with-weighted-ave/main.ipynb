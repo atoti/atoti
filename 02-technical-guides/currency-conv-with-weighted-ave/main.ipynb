{
 "cells": [
  {
   "cell_type": "markdown",
   "id": "1c39acb5-4168-422c-bfb6-a9c2d404f944",
   "metadata": {},
   "source": [
    "# A Guide to Weighted Averages with Currency Conversions  \n",
    "\n",
    "Consider the following situation:\n",
    "\n",
    "* A vendor sets the price for their wares at...\n",
    "    * `10.00` USD per unit for 9 or fewer units,\n",
    "    * `9.50` USD per unit for 10-99 units, and\n",
    "    * `8.00` USD per unit for 100+ units.\n",
    "* Another vendor sets their price at...\n",
    "    * `8.00` GBP per unit for 49 or fewer units, and\n",
    "    * `6.00` GBP per unit for 50+ units.\n",
    "\n",
    "Or how about a person who travels regularly for business, and needs to track their average nightly cost?  Hotels in each location will vary by price and currency.  How would we determine the weighted averages here? How would we compute the grand total?\n",
    "\n",
    "Consider the following example for a traveling salesperson."
   ]
  },
  {
   "cell_type": "markdown",
   "id": "869a93c8-778d-4d5a-bbe2-b9c12620b145",
   "metadata": {},
   "source": [
    "<div style=\"text-align: center;\" ><a href=\"https://www.atoti.io/?utm_source=gallery&utm_content=currency-conv-with-weighted-ave\" target=\"_blank\" rel=\"noopener noreferrer\"><img src=\"https://data.atoti.io/notebooks/banners/Discover-Atoti-now.png\" alt=\"Try Atoti\"></a></div>"
   ]
  },
  {
   "cell_type": "code",
   "execution_count": 1,
   "id": "22224e76-dc1f-48b4-9542-3b034ce638d2",
   "metadata": {},
   "outputs": [
    {
     "data": {
      "text/html": [
       "<div>\n",
       "<style scoped>\n",
       "    .dataframe tbody tr th:only-of-type {\n",
       "        vertical-align: middle;\n",
       "    }\n",
       "\n",
       "    .dataframe tbody tr th {\n",
       "        vertical-align: top;\n",
       "    }\n",
       "\n",
       "    .dataframe thead th {\n",
       "        text-align: right;\n",
       "    }\n",
       "</style>\n",
       "<table border=\"1\" class=\"dataframe\">\n",
       "  <thead>\n",
       "    <tr style=\"text-align: right;\">\n",
       "      <th></th>\n",
       "      <th>Duration</th>\n",
       "      <th>Currency</th>\n",
       "      <th>Cost</th>\n",
       "    </tr>\n",
       "    <tr>\n",
       "      <th>Date</th>\n",
       "      <th></th>\n",
       "      <th></th>\n",
       "      <th></th>\n",
       "    </tr>\n",
       "  </thead>\n",
       "  <tbody>\n",
       "    <tr>\n",
       "      <th>2019-01-15</th>\n",
       "      <td>4</td>\n",
       "      <td>EUR</td>\n",
       "      <td>1400.0</td>\n",
       "    </tr>\n",
       "    <tr>\n",
       "      <th>2019-02-15</th>\n",
       "      <td>2</td>\n",
       "      <td>EUR</td>\n",
       "      <td>320.0</td>\n",
       "    </tr>\n",
       "    <tr>\n",
       "      <th>2019-03-15</th>\n",
       "      <td>4</td>\n",
       "      <td>GBP</td>\n",
       "      <td>1100.0</td>\n",
       "    </tr>\n",
       "    <tr>\n",
       "      <th>2019-04-15</th>\n",
       "      <td>2</td>\n",
       "      <td>USD</td>\n",
       "      <td>400.0</td>\n",
       "    </tr>\n",
       "    <tr>\n",
       "      <th>2019-05-15</th>\n",
       "      <td>1</td>\n",
       "      <td>GBP</td>\n",
       "      <td>302.0</td>\n",
       "    </tr>\n",
       "  </tbody>\n",
       "</table>\n",
       "</div>"
      ],
      "text/plain": [
       "            Duration Currency    Cost\n",
       "Date                                 \n",
       "2019-01-15         4      EUR  1400.0\n",
       "2019-02-15         2      EUR   320.0\n",
       "2019-03-15         4      GBP  1100.0\n",
       "2019-04-15         2      USD   400.0\n",
       "2019-05-15         1      GBP   302.0"
      ]
     },
     "execution_count": 1,
     "metadata": {},
     "output_type": "execute_result"
    }
   ],
   "source": [
    "import pandas as pd\n",
    "import atoti as tt\n",
    "\n",
    "session = tt.Session.start()\n",
    "hotelcost = session.read_pandas(\n",
    "    pd.DataFrame(\n",
    "        columns=[\"Date\", \"Duration\", \"Currency\", \"Cost\"],\n",
    "        data=[\n",
    "            (\"2019-01-15\", 4, \"EUR\", 1400.00),\n",
    "            (\"2019-02-15\", 2, \"EUR\", 320.00),\n",
    "            (\"2019-03-15\", 4, \"GBP\", 1100.00),\n",
    "            (\"2019-04-15\", 2, \"USD\", 400.00),\n",
    "            (\"2019-05-15\", 1, \"GBP\", 302.00),\n",
    "            (\"2019-06-15\", 3, \"GBP\", 800.00),\n",
    "            (\"2019-07-15\", 9, \"USD\", 1100.00),\n",
    "            (\"2019-08-15\", 1, \"USD\", 120.00),\n",
    "        ],\n",
    "    ),\n",
    "    table_name=\"hotels\",\n",
    "    keys=[\"Date\"],\n",
    ")\n",
    "\n",
    "hotelcost.head()"
   ]
  },
  {
   "cell_type": "markdown",
   "id": "cf5aabee-07ca-4e20-823a-180a7bf437d6",
   "metadata": {},
   "source": [
    "In this example a person traveled montly to several locations, and incurred the cost as listed in the last collumn.  Each stay was a different duration.  Let's create our cube from here."
   ]
  },
  {
   "cell_type": "code",
   "execution_count": 2,
   "id": "93d73f5e-146d-4932-82bf-570e9e54bbf4",
   "metadata": {},
   "outputs": [
    {
     "data": {
      "image/png": "[encoded data removed]",
      "text/plain": [
       "erDiagram\n",
       "  \"hotels\" {\n",
       "    _ String PK \"Date\"\n",
       "    nullable long \"Duration\"\n",
       "    _ String \"Currency\"\n",
       "    nullable double \"Cost\"\n",
       "  }"
      ]
     },
     "execution_count": 2,
     "metadata": {},
     "output_type": "execute_result"
    }
   ],
   "source": [
    "cube = session.create_cube(hotelcost, mode=\"auto\")\n",
    "h, l, m = cube.hierarchies, cube.levels, cube.measures\n",
    "\n",
    "session.tables.schema"
   ]
  },
  {
   "cell_type": "markdown",
   "id": "da924482-adc2-40be-8055-e6e68e939ba0",
   "metadata": {},
   "source": [
    "Let's create a quick pivot table to see what measures we have and what they look like."
   ]
  },
  {
   "cell_type": "code",
   "execution_count": 3,
   "id": "48f4d1ad-dbc6-4ccb-94e3-139674ff415d",
   "metadata": {
    "atoti": {
     "widget": {
      "mapping": {
       "columns": [
        "ALL_MEASURES"
       ],
       "measures": [
        "[Measures].[Cost.MEAN]",
        "[Measures].[Duration.SUM]",
        "[Measures].[Cost.SUM]",
        "[Measures].[Duration.MEAN]"
       ],
       "rows": [
        "[hotels].[Currency].[Currency]",
        "[hotels].[Date].[Date]"
       ]
      },
      "query": {
       "mdx": "SELECT NON EMPTY Crossjoin(Hierarchize(Descendants({[hotels].[Currency].[AllMember]}, 1, SELF_AND_BEFORE)), Hierarchize(Descendants({[hotels].[Date].[AllMember]}, 1, SELF_AND_BEFORE))) ON ROWS, NON EMPTY {[Measures].[Cost.MEAN], [Measures].[Duration.SUM], [Measures].[Cost.SUM], [Measures].[Duration.MEAN]} ON COLUMNS FROM [hotels] CELL PROPERTIES VALUE, FORMATTED_VALUE, BACK_COLOR, FORE_COLOR, FONT_FLAGS",
       "updateMode": "once"
      },
      "serverKey": "default",
      "widgetKey": "pivot-table"
     }
    },
    "tags": []
   },
   "outputs": [
    {
     "data": {
      "application/vnd.atoti.widget.v0+json": {
       "sessionId": "1736962082_870015",
       "sessionUrl": "http://localhost:58884",
       "widgetCreationCode": "session.widget"
      },
      "text/html": [
       "<img height=\"0\" width=\"0\" src=\"data:,AAAAAAAAAAAAAAAAAAAAAAAAAAAAAAAAAAAAAAAAAAAAAAAACXBIWXMAAB2HAAAdhwGP5fFl\" />"
      ],
      "text/plain": [
       "Open the notebook in JupyterLab with the Atoti JupyterLab extension enabled to build this widget."
      ]
     },
     "metadata": {},
     "output_type": "display_data"
    }
   ],
   "source": [
    "session.widget"
   ]
  },
  {
   "cell_type": "markdown",
   "id": "286d6cd0-b7c5-4225-86ff-66576c55e6b8",
   "metadata": {},
   "source": [
    "Some of these measures are more sensible than others, and some of these grand totals are more sensible than others.\n",
    "\n",
    "For example: `Duration.SUM` and `Duration.MEAN` are perfectly valid measures, and their grand total values make sense. We know that our traveling salesperson spent 26 nights total in hotels, with an average stay of just about 3 nights per stay.  GBP and USD are currencies only used in one country respectively, so we can even infer this salesperson stayed 8 nights in the UK and 12 in the US.\n",
    "\n",
    "`Cost.SUM` is a perfectly fine measure up to the currency subtotal-this person's hotel costs were over 1700EUR, 2200GBP and 1600USD, but this doesn't make sense at the grand total level. `Cost.MEAN` ignores the length of stay, and would be better as a weighted average, accounting for the duration.\n",
    "\n",
    "Let's create a few new measures to clean this up.  Let's start with calculating the cost per each night."
   ]
  },
  {
   "cell_type": "code",
   "execution_count": 4,
   "id": "d96b6420-f634-455c-a0f5-f390cf8e570a",
   "metadata": {},
   "outputs": [],
   "source": [
    "m[\"NightlyCost\"] = tt.where(~l[\"Date\"].isnull(), m[\"Cost.SUM\"] / m[\"Duration.SUM\"])"
   ]
  },
  {
   "cell_type": "markdown",
   "id": "5dd61cbb-5e3d-41f7-9271-c1fa313a8797",
   "metadata": {},
   "source": [
    "Looking at this in our pivot table, this seems sensible.  It would not make sense to sum up the unit cost for the same item across two orders.  At best, it might make sense to compute the average at the subtotal."
   ]
  },
  {
   "cell_type": "code",
   "execution_count": 5,
   "id": "e38375ca-7236-4899-b41f-4bef58c08c56",
   "metadata": {
    "atoti": {
     "height": 340,
     "widget": {
      "mapping": {
       "columns": [
        "ALL_MEASURES"
       ],
       "measures": [
        "[Measures].[NightlyCost]"
       ],
       "rows": [
        "[hotels].[Currency].[Currency]",
        "[hotels].[Date].[Date]"
       ]
      },
      "query": {
       "mdx": "SELECT NON EMPTY Crossjoin(Hierarchize(Descendants({[hotels].[Currency].[AllMember]}, 1, SELF_AND_BEFORE)), Hierarchize(Descendants({[hotels].[Date].[AllMember]}, 1, SELF_AND_BEFORE))) ON ROWS, NON EMPTY {[Measures].[NightlyCost]} ON COLUMNS FROM [hotels] CELL PROPERTIES VALUE, FORMATTED_VALUE, BACK_COLOR, FORE_COLOR, FONT_FLAGS",
       "updateMode": "once"
      },
      "serverKey": "default",
      "widgetKey": "pivot-table"
     }
    },
    "tags": []
   },
   "outputs": [
    {
     "data": {
      "application/vnd.atoti.widget.v0+json": {
       "sessionId": "1736962082_870015",
       "sessionUrl": "http://localhost:58884",
       "widgetCreationCode": "session.widget"
      },
      "text/html": [
       "<img height=\"0\" width=\"0\" src=\"data:,AAAAAAAAAAAAAAAAAAAAAAAAAAAAAAAAAAAAAAAAAAAAAAAACXBIWXMAAB2HAAAdhwGP5fFl\" />"
      ],
      "text/plain": [
       "Open the notebook in JupyterLab with the Atoti JupyterLab extension enabled to build this widget."
      ]
     },
     "metadata": {},
     "output_type": "display_data"
    }
   ],
   "source": [
    "session.widget"
   ]
  },
  {
   "cell_type": "markdown",
   "id": "67a2504d-2fdd-4755-a64c-7e20a92e99c3",
   "metadata": {},
   "source": [
    "While summing up the Nightly Cost may not make sense, it does make sense per each currency to determine the average cost."
   ]
  },
  {
   "cell_type": "code",
   "execution_count": 6,
   "id": "51dec40d-8e40-4163-bdb6-90c6d92ea68c",
   "metadata": {},
   "outputs": [],
   "source": [
    "m[\"NightlyCost.MEAN\"] = tt.agg.mean(\n",
    "    m[\"NightlyCost\"], scope=tt.OriginScope(levels={l[\"Currency\"], l[\"Date\"]})\n",
    ")"
   ]
  },
  {
   "cell_type": "code",
   "execution_count": 7,
   "id": "b51eada8-75d7-41c8-9f45-9d196c8065ae",
   "metadata": {
    "atoti": {
     "height": 390,
     "widget": {
      "columnWidths": {
       "[Measures].[NightlyCost.MEAN]": 142.28125
      },
      "mapping": {
       "columns": [
        "ALL_MEASURES"
       ],
       "measures": [
        "[Measures].[NightlyCost.MEAN]"
       ],
       "rows": [
        "[hotels].[Currency].[Currency]",
        "[hotels].[Date].[Date]"
       ]
      },
      "query": {
       "mdx": "SELECT NON EMPTY Crossjoin(Hierarchize(Descendants({[hotels].[Currency].[AllMember]}, 1, SELF_AND_BEFORE)), Hierarchize(Descendants({[hotels].[Date].[AllMember]}, 1, SELF_AND_BEFORE))) ON ROWS, NON EMPTY {[Measures].[NightlyCost.MEAN]} ON COLUMNS FROM [hotels] CELL PROPERTIES VALUE, FORMATTED_VALUE, BACK_COLOR, FORE_COLOR, FONT_FLAGS",
       "updateMode": "once"
      },
      "queryContext": [
       {
        "key": "mdx.hiddengrandtotals",
        "value": "1"
       }
      ],
      "serverKey": "default",
      "widgetKey": "pivot-table"
     }
    },
    "tags": []
   },
   "outputs": [
    {
     "data": {
      "application/vnd.atoti.widget.v0+json": {
       "sessionId": "1736962082_870015",
       "sessionUrl": "http://localhost:58884",
       "widgetCreationCode": "session.widget"
      },
      "text/html": [
       "<img height=\"0\" width=\"0\" src=\"data:,AAAAAAAAAAAAAAAAAAAAAAAAAAAAAAAAAAAAAAAAAAAAAAAACXBIWXMAAB2HAAAdhwGP5fFl\" />"
      ],
      "text/plain": [
       "Open the notebook in JupyterLab with the Atoti JupyterLab extension enabled to build this widget."
      ]
     },
     "metadata": {},
     "output_type": "display_data"
    }
   ],
   "source": [
    "session.widget"
   ]
  },
  {
   "cell_type": "markdown",
   "id": "df462906-c0a2-46a5-b1f7-7cee372c5fbc",
   "metadata": {},
   "source": [
    "While we know the average nightly cost, what about the weighted average nightly cost?  For example, the January trip in the EU had a very expensive nightly cost, while the February trip had a much less expensive nightly cost."
   ]
  },
  {
   "cell_type": "code",
   "execution_count": 8,
   "id": "ecc4e9e6-f10b-4c7c-8012-6262f5917bda",
   "metadata": {},
   "outputs": [],
   "source": [
    "m[\"NightlyCost.WA\"] = tt.agg.sum(\n",
    "    (m[\"Cost.SUM\"] / m[\"Duration.SUM\"]), scope=tt.OriginScope(levels={l[\"Currency\"]})\n",
    ")"
   ]
  },
  {
   "cell_type": "code",
   "execution_count": 9,
   "id": "e73df623-700a-4418-b3ed-fc2ade0a1b6d",
   "metadata": {
    "atoti": {
     "widget": {
      "mapping": {
       "columns": [
        "ALL_MEASURES"
       ],
       "measures": [
        "[Measures].[Cost.SUM]",
        "[Measures].[Duration.SUM]",
        "[Measures].[NightlyCost.WA]",
        "[Measures].[NightlyCost.MEAN]"
       ],
       "rows": [
        "[hotels].[Currency].[Currency]",
        "[hotels].[Date].[Date]"
       ]
      },
      "query": {
       "mdx": "SELECT NON EMPTY Crossjoin(Hierarchize(Descendants({[hotels].[Currency].[AllMember]}, 1, SELF_AND_BEFORE)), Hierarchize(Descendants({[hotels].[Date].[AllMember]}, 1, SELF_AND_BEFORE))) ON ROWS, NON EMPTY {[Measures].[Cost.SUM], [Measures].[Duration.SUM], [Measures].[NightlyCost.WA], [Measures].[NightlyCost.MEAN]} ON COLUMNS FROM [hotels] CELL PROPERTIES VALUE, FORMATTED_VALUE, BACK_COLOR, FORE_COLOR, FONT_FLAGS",
       "updateMode": "once"
      },
      "queryContext": [
       {
        "key": "mdx.hiddengrandtotals",
        "value": "1"
       }
      ],
      "serverKey": "default",
      "widgetKey": "pivot-table"
     }
    },
    "tags": []
   },
   "outputs": [
    {
     "data": {
      "application/vnd.atoti.widget.v0+json": {
       "sessionId": "1736962082_870015",
       "sessionUrl": "http://localhost:58884",
       "widgetCreationCode": "session.widget"
      },
      "text/html": [
       "<img height=\"0\" width=\"0\" src=\"data:,AAAAAAAAAAAAAAAAAAAAAAAAAAAAAAAAAAAAAAAAAAAAAAAACXBIWXMAAB2HAAAdhwGP5fFl\" />"
      ],
      "text/plain": [
       "Open the notebook in JupyterLab with the Atoti JupyterLab extension enabled to build this widget."
      ]
     },
     "metadata": {},
     "output_type": "display_data"
    }
   ],
   "source": [
    "session.widget"
   ]
  },
  {
   "cell_type": "markdown",
   "id": "540f4ea9-f17e-4f6b-aec4-b7b3f8dc9e88",
   "metadata": {},
   "source": [
    "We see the average cost per night for our salesperson's hotel expenditure is actually over 280 EUR, and not the 255 EUR from the simple average of nightly cost. Now, how do we determine the actual cost of these trips.  For this, we need to know where the salesperson is located, and use a currency conversion table to compute the cost of each stay in a base currency.\n",
    "\n",
    "Let's assume the salesperson is located in the United States."
   ]
  },
  {
   "cell_type": "code",
   "execution_count": 10,
   "id": "59069291-a9ae-448a-a3c4-c51c459869b7",
   "metadata": {
    "atoti": {
     "widget": {
      "mapping": {
       "columns": [
        "ALL_MEASURES"
       ],
       "measures": [
        "[Measures].[UnitPrice]",
        "[Measures].[UnitPrice.WA]",
        "[Measures].[UnitPrice.MEAN]"
       ],
       "rows": [
        "[supplycost].[Itm].[Itm]",
        "[supplycost].[Ord].[Ord]"
       ]
      },
      "query": {
       "mdx": "SELECT NON EMPTY {[Measures].[UnitPrice], [Measures].[UnitPrice.WA], [Measures].[UnitPrice.MEAN]} ON COLUMNS, NON EMPTY Crossjoin(Hierarchize(Descendants({[supplycost].[Itm].[AllMember]}, 1, SELF_AND_BEFORE)), Hierarchize(Descendants({[supplycost].[Ord].[AllMember]}, 1, SELF_AND_BEFORE))) ON ROWS FROM [supplycost] CELL PROPERTIES VALUE, FORMATTED_VALUE, BACK_COLOR, FORE_COLOR, FONT_FLAGS",
       "updateMode": "once"
      },
      "serverKey": "default",
      "widgetKey": "pivot-table"
     }
    },
    "tags": []
   },
   "outputs": [],
   "source": [
    "usd_conv = session.read_pandas(\n",
    "    pd.DataFrame(\n",
    "        columns=[\"From\", \"To\", \"Rate\"],\n",
    "        data=[\n",
    "            (\"USD\", \"USD\", 1.0000),\n",
    "            (\"CAD\", \"USD\", 0.7768),\n",
    "            (\"EUR\", \"USD\", 1.1282),\n",
    "            (\"GBP\", \"USD\", 1.3319),\n",
    "        ],\n",
    "    ),\n",
    "    table_name=\"ccy_conv\",\n",
    "    keys=[\"From\"],\n",
    ")"
   ]
  },
  {
   "cell_type": "markdown",
   "id": "e978422c-697d-4869-8f56-40862fc1bbe3",
   "metadata": {},
   "source": [
    "We can join this to our hotel costs and create new measures from there."
   ]
  },
  {
   "cell_type": "code",
   "execution_count": 11,
   "id": "12082dcf-b47b-440e-b6b6-fb188f458762",
   "metadata": {},
   "outputs": [],
   "source": [
    "hotelcost.join(usd_conv, hotelcost[\"Currency\"] == usd_conv[\"From\"])"
   ]
  },
  {
   "cell_type": "code",
   "execution_count": 12,
   "id": "a9d7ad7c-57a8-4862-a04c-2b35f941cdd7",
   "metadata": {},
   "outputs": [],
   "source": [
    "m[\"Rate\"] = tt.agg.single_value(usd_conv[\"Rate\"])\n",
    "m[\"AmtUSD\"] = tt.agg.sum(\n",
    "    m[\"Cost.SUM\"] * m[\"Rate\"], scope=tt.OriginScope(levels={l[\"Date\"]})\n",
    ")"
   ]
  },
  {
   "cell_type": "code",
   "execution_count": 13,
   "id": "3124ca22-2c8a-45a8-9979-10304cca6c29",
   "metadata": {
    "atoti": {
     "height": 462,
     "widget": {
      "columnWidths": {
       "[Measures].[AmtUSD]": 298.28125,
       "[hotels].[Date].[Date]": 154.28125
      },
      "mapping": {
       "columns": [
        "ALL_MEASURES"
       ],
       "measures": [
        "[Measures].[AmtUSD]"
       ],
       "rows": [
        "[hotels].[Currency].[Currency]",
        "[hotels].[Date].[Date]"
       ]
      },
      "query": {
       "mdx": "SELECT NON EMPTY Crossjoin(Hierarchize(Descendants({[hotels].[Currency].[AllMember]}, 1, SELF_AND_BEFORE)), Hierarchize(Descendants({[hotels].[Date].[AllMember]}, 1, SELF_AND_BEFORE))) ON ROWS, NON EMPTY {[Measures].[AmtUSD]} ON COLUMNS FROM [hotels] CELL PROPERTIES VALUE, FORMATTED_VALUE, BACK_COLOR, FORE_COLOR, FONT_FLAGS",
       "updateMode": "once"
      },
      "serverKey": "default",
      "widgetKey": "pivot-table"
     }
    },
    "tags": []
   },
   "outputs": [
    {
     "data": {
      "application/vnd.atoti.widget.v0+json": {
       "sessionId": "1736962082_870015",
       "sessionUrl": "http://localhost:58884",
       "widgetCreationCode": "session.widget"
      },
      "text/html": [
       "<img height=\"0\" width=\"0\" src=\"data:,AAAAAAAAAAAAAAAAAAAAAAAAAAAAAAAAAAAAAAAAAAAAAAAACXBIWXMAAB2HAAAdhwGP5fFl\" />"
      ],
      "text/plain": [
       "Open the notebook in JupyterLab with the Atoti JupyterLab extension enabled to build this widget."
      ]
     },
     "metadata": {},
     "output_type": "display_data"
    }
   ],
   "source": [
    "session.widget"
   ]
  },
  {
   "cell_type": "markdown",
   "id": "4bfde461-337b-4c02-bfc8-f84581467f66",
   "metadata": {},
   "source": [
    "And we can also apply this conversion to our nightly costs and weighted average."
   ]
  },
  {
   "cell_type": "code",
   "execution_count": 14,
   "id": "66ec8c6d-a94e-4e68-b9ce-eac798177522",
   "metadata": {},
   "outputs": [],
   "source": [
    "m[\"NightlyCostUSD\"] = m[\"NightlyCost\"] * m[\"Rate\"]\n",
    "m[\"NightlyCostUSD.WA\"] = m[\"NightlyCost.WA\"] * m[\"Rate\"]"
   ]
  },
  {
   "cell_type": "code",
   "execution_count": 15,
   "id": "f8206fb8-2000-4802-900e-4c0dea2252be",
   "metadata": {
    "atoti": {
     "height": 422,
     "widget": {
      "columnWidths": {
       "[Measures].[NightlyCostUSD.WA]": 180.28125,
       "[Measures].[NightlyCostUSD]": 154
      },
      "mapping": {
       "columns": [
        "ALL_MEASURES"
       ],
       "measures": [
        "[Measures].[NightlyCostUSD]",
        "[Measures].[NightlyCostUSD.WA]",
        "[Measures].[AmtUSD]"
       ],
       "rows": [
        "[hotels].[Currency].[Currency]",
        "[hotels].[Date].[Date]"
       ]
      },
      "query": {
       "mdx": "SELECT NON EMPTY Crossjoin(Hierarchize(Descendants({[hotels].[Currency].[AllMember]}, 1, SELF_AND_BEFORE)), Hierarchize(Descendants({[hotels].[Date].[AllMember]}, 1, SELF_AND_BEFORE))) ON ROWS, NON EMPTY {[Measures].[NightlyCostUSD], [Measures].[NightlyCostUSD.WA], [Measures].[AmtUSD]} ON COLUMNS FROM [hotels] CELL PROPERTIES VALUE, FORMATTED_VALUE, BACK_COLOR, FORE_COLOR, FONT_FLAGS",
       "updateMode": "once"
      },
      "serverKey": "default",
      "widgetKey": "pivot-table"
     }
    },
    "tags": []
   },
   "outputs": [
    {
     "data": {
      "application/vnd.atoti.widget.v0+json": {
       "sessionId": "1736962082_870015",
       "sessionUrl": "http://localhost:58884",
       "widgetCreationCode": "session.widget"
      },
      "text/html": [
       "<img height=\"0\" width=\"0\" src=\"data:,AAAAAAAAAAAAAAAAAAAAAAAAAAAAAAAAAAAAAAAAAAAAAAAACXBIWXMAAB2HAAAdhwGP5fFl\" />"
      ],
      "text/plain": [
       "Open the notebook in JupyterLab with the Atoti JupyterLab extension enabled to build this widget."
      ]
     },
     "metadata": {},
     "output_type": "display_data"
    }
   ],
   "source": [
    "session.widget"
   ]
  },
  {
   "cell_type": "markdown",
   "id": "face3d05-9a95-40b0-8a09-753f10050dd9",
   "metadata": {},
   "source": [
    "We hope you enjoyed this explainer.  Check out our [weighted average example](../weighted-averages/main.ipynb) and our [currency conversion example](../currency-conversion/main.ipynb)."
   ]
  },
  {
   "cell_type": "markdown",
   "id": "2fff5355-6ddd-4f16-bd56-0a385ddd8519",
   "metadata": {
    "editable": true,
    "slideshow": {
     "slide_type": ""
    },
    "tags": []
   },
   "source": [
    "<div style=\"text-align: center;\" ><a href=\"https://www.atoti.io/?utm_source=gallery&utm_content=currency-conv-with-weighted-ave\" target=\"_blank\" rel=\"noopener noreferrer\"><img src=\"https://data.atoti.io/notebooks/banners/Your-turn-to-try-Atoti.jpg\" alt=\"Try Atoti\"></a></div>"
   ]
  }
 ],
 "metadata": {
  "kernelspec": {
   "display_name": "Python 3 (ipykernel)",
   "language": "python",
   "name": "python3"
  },
  "language_info": {
   "codemirror_mode": {
    "name": "ipython",
    "version": 3
   },
   "file_extension": ".py",
   "mimetype": "text/x-python",
   "name": "python",
   "nbconvert_exporter": "python",
   "pygments_lexer": "ipython3",
   "version": "3.10.11"
  },
  "widgets": {
   "application/vnd.jupyter.widget-state+json": {
    "state": {},
    "version_major": 2,
    "version_minor": 0
   }
  }
 },
 "nbformat": 4,
 "nbformat_minor": 5
}
