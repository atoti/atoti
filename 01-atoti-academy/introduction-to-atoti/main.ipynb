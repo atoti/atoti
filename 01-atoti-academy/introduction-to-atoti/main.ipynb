{
 "cells": [
  {
   "cell_type": "markdown",
   "id": "8d668eea-0a00-4c60-9efb-d7cdbb97d362",
   "metadata": {
    "editable": true,
    "slideshow": {
     "slide_type": ""
    },
    "tags": []
   },
   "source": [
    "# Introduction to Atoti\n",
    "\n",
    "This course gives a quick introduction to Atoti Python, a library that allow users to build their own operational intelligence platform for better collaboration and faster analysis.   \n",
    "\n",
    "<img src=\"https://data.atoti.io/atoti-academy/images/introduction/0_Atoti_architecture.png\" width=\"750px\"/>\n",
    "\n",
    "We will look at some commonly used functions and operations from the library.  \n",
    "\n",
    "<u><b>Course Outline and Objectives</b></u>\n",
    "1. Create Atoti tables via data source or from scratch.\n",
    "2. Build an Atoti cube.\n",
    "3. Master common operations such as hierarchy manipulations and measure creations.\n",
    "4. Explore your data with interactive visualization.\n",
    "5. Export and share your data to Pandas DataFrame or other data structures.\n",
    "\n",
    "The notebook is expected to run sequentially as some data objects created at the beginning may be used in later cells.  \n",
    "Some cells may fail to execute. This is expected as it's intended to demonstrate the erroneous behaviour one may encounter.  \n",
    "\n",
    "This notebook is broken up into the following sections:  \n",
    "\n",
    "- [1. Getting Started](#1.-Getting-Started)\n",
    "\t- [1.1 Install Atoti and its plugins](#1.1-Install-Atoti-and-its-plugins)\n",
    "\t- [1.2 Import the Python libraries](#1.2-Import-the-Python-libraries)\n",
    "- [2. Create an Atoti Session](#2.-Create-an-Atoti-Session)\n",
    "- [3. Initialize Atoti UI](#3.-Initialize-Atoti-UI)\n",
    "- [4. Data modeling](#4.-Data-modeling)\n",
    "\t- [4.1 Table structure creation](#4.1-Table-structure-creation)\n",
    "\t- [4.2 Table creation through exploration](#4.2-Table-creation-through-exploration)\n",
    "\t\t- [4.2.1 Check on data types](#4.2.1-Check-on-data-types)\n",
    "\t\t- [4.2.2 Delete tables](#4.2.2-Delete-tables)\n",
    "\t\t- [4.2.3 Table configuration](#4.2.3-Table-configuration)\n",
    "\t- [4.3 Data schema](#4.3-Data-schema)\n",
    "\t\t- [4.3.1 Identify base table](#4.3.1-Identify-base-table)\n",
    "\t\t- [4.3.2 Visualize table schema](#4.3.2-Visualize-table-schema)\n",
    "\t\t- [4.3.3 Table join](#4.3.3-Table-join)\n",
    "- [5. Loading data into tables](#5.-Load-data-into-tables)\n",
    "- [6. Atoti Cube](#6.-Atoti-Cube)\n",
    "\t- [6.1 Cube creation](#6.1-Cube-creation)\n",
    "\t- [6.2 Cube attributes](#6.2-Cube-attributes)\n",
    "\t\t- [6.2.1 Hierarchies and levels](#6.2.1-Hierarchies-and-levels)\n",
    "\t\t- [6.2.2 Measures](#6.2.2-Measures)\n",
    "    - [6.3 Cube Housekeeping ](#6.3-Cube-Housekeeping)\n",
    "        - [6.3.1 Delete unwanted hierarchies, levels and measures](#6.3.1-Delete-unwanted-hierarchies,-levels-and-measures)\n",
    "        - [6.3.2 Hide technical measures](#6.3.2-Hide-technical-measures)  \n",
    "        - [6.3.3 Organize measures in folders](#6.3.3-Organize-measures-in-folders)  \n",
    "- [7. Visualization](#7.-Visualization)\n",
    "\t- [7.1 Build our visualization](#7.1-Build-our-visualization)\n",
    "\t\t- [7.1.1 Add hierarchies and measures to the visualization](#7.1.1-Add-hierarchies-and-measures-to-the-visualization)\n",
    "\t\t- [7.1.2 Expandable levels vs multi-level hierarchy](#7.1.2-Expandable-levels-vs-multi-level-hierarchy)\n",
    "\t- [7.2 Change type of visualization](#7.2-Change-type-of-visualization)\n",
    "\t- [7.3 Filter data](#7.3-Filter-data)\n",
    "\t\t- [7.3.1 Focus on a single trace on charts](#7.3.1-Focus-on-a-single-trace-on-charts)\n",
    "\t\t- [7.3.2 Filter by member](#7.3.2-Filter-by-member)\n",
    "\t\t- [7.3.3 Conditional filtering](#7.3.3-Conditional-filtering)\n",
    "\t- [7.4 Publish in app](#7.4-Publish-in-app)\n",
    "- [8. Output query results](#8.-Output-query-results)\n",
    "\t- [8.1 Export data to CSV](#8.1-Export-data-to-CSV)\n",
    "\t- [8.2 Output query results to Pandas DataFrame](#8.2-Output-query-results-to-Pandas-DataFrame)\n",
    "\t- [8.3 Output query results to other data structure](#8.3-Output-query-results-to-other-data-structure)\n"
   ]
  },
  {
   "cell_type": "markdown",
   "id": "bf12c5ae-e3b2-40b9-b670-cdbd66850cc7",
   "metadata": {},
   "source": [
    "<div style=\"text-align: center;\" ><a href=\"https://www.atoti.io/?utm_source=gallery&utm_content=introduction-to-atoti\" target=\"_blank\" rel=\"noopener noreferrer\"><img src=\"https://data.atoti.io/notebooks/banners/Discover-Atoti-now.png\" alt=\"Try atoti\"></a></div>"
   ]
  },
  {
   "cell_type": "markdown",
   "id": "c35a734f-2776-41c0-8344-63ab65769ea2",
   "metadata": {
    "tags": []
   },
   "source": [
    "# 1. Getting Started"
   ]
  },
  {
   "cell_type": "markdown",
   "id": "d5886545-8f36-4b0a-92db-b481d7950093",
   "metadata": {},
   "source": [
    "## 1.1 Install Atoti and its plugins"
   ]
  },
  {
   "cell_type": "markdown",
   "id": "48b5e9a2-ce06-4f9f-a2c1-d815e6ec725d",
   "metadata": {},
   "source": [
    "We can use Atoti in a Jupyter notebook or in a Python script. Minimally, we install the atoti library with either of the following:\n",
    "- `pip install atoti`\n",
    "- `conda install atoti`\n",
    "\n",
    "If we want to be able to explore data on the fly with Atoti in JupyterLab, we have to install extra plugin for its JupyterLab extension. Again, run with either `pip` or `conda` as shown below:\n",
    "- `pip install atoti-jupyterlab`\n",
    "- `conda install atoti-jupyterlab`  \n",
    "\n",
    "💡There are other [plugins](https://docs.atoti.io/latest/reference.html#plugins) available for Atoti. For instance, to access CSV or Parquet on AWS S3 bucket, we have to install its corresponding plugin `atoti-aws`. Similarly, `atoti-sql` is required for connectivity to SQL database. Using `pip`, we can install multiple plugins with the `extra` syntax as shown below:    \n",
    "- `pip install 'atoti[jupyterlab,aws,sql]'`\n",
    "\n",
    "Since there's no shortcuts for conda, therefore we have to list out the extra plugins we needed:\n",
    "- `conda install atoti atoti-jupyterlab atoti-aws atoti-sql`"
   ]
  },
  {
   "cell_type": "markdown",
   "id": "71d79a29-33ad-4ccb-874d-1bb6a2b1d251",
   "metadata": {},
   "source": [
    "## 1.2 Import the Python libraries"
   ]
  },
  {
   "cell_type": "markdown",
   "id": "553714ed-fe19-4ce7-9743-d15b66608a9d",
   "metadata": {},
   "source": [
    "Usually, it is sufficient to import just the Atoti libraries. However, if we would like to perform some pre-computation before using Atoti, we can import `pandas` as well."
   ]
  },
  {
   "cell_type": "code",
   "execution_count": 1,
   "id": "e6a4b8b1-d7b2-41eb-bd72-b0b4b7c2c526",
   "metadata": {
    "tags": []
   },
   "outputs": [],
   "source": [
    "import atoti as tt"
   ]
  },
  {
   "cell_type": "markdown",
   "id": "3b13dea3-2996-453d-add6-dc575861292b",
   "metadata": {},
   "source": [
    "# 2. Create an Atoti Session"
   ]
  },
  {
   "cell_type": "markdown",
   "id": "70fc309d-36b6-4dc5-af93-f807d95e8f91",
   "metadata": {},
   "source": [
    "We instantiate an Atoti session in order to establish a connection to the Java gateway of the Atoti Server. "
   ]
  },
  {
   "cell_type": "code",
   "execution_count": 2,
   "id": "dd234fd4-e8be-4cb8-95e6-79a9303deebc",
   "metadata": {
    "tags": []
   },
   "outputs": [],
   "source": [
    "session = tt.Session()"
   ]
  },
  {
   "cell_type": "markdown",
   "id": "4e8df675-9839-402b-a087-4da54f5e352c",
   "metadata": {},
   "source": [
    "⚠️ Windows users may encounter the following Windows Security Alert:  \n",
    "\n",
    "<img src=\"https://data.atoti.io/atoti-academy/images/introduction/2_window_security_alert.png\" width=\"400px\"/>  \n",
    "\n",
    "This is because Atoti Server, the underlying aggregation engine used by Atoti, is built using Java. The web application, Atoti UI, is built using REACT.  "
   ]
  },
  {
   "cell_type": "markdown",
   "id": "409a3cae-3a42-430f-b526-eeaa0bb6b33e",
   "metadata": {},
   "source": [
    "⚠️ We can have multiple Atoti sessions within a instance, provided that they are given different names. In the above code snippet, we have not set any [parameters for the session](https://docs.atoti.io/latest/api/atoti.Session.html#atoti.Session). If we re-instantiate a session without defining a name for it, the existing session will be deleted and a new session gets created as we will see in the next cell. "
   ]
  },
  {
   "cell_type": "code",
   "execution_count": 3,
   "id": "3caf8639-c20c-4002-b55b-4342dfe7ae3a",
   "metadata": {},
   "outputs": [
    {
     "name": "stderr",
     "output_type": "stream",
     "text": [
      "Closing existing \"Unnamed\" session to create the new one.\n"
     ]
    }
   ],
   "source": [
    "session = tt.Session(\n",
    "    user_content_storage=\"./content\",\n",
    "    port=9092,\n",
    "    java_options=[\"-Xms1G\", \"-Xmx10G\"],\n",
    ")"
   ]
  },
  {
   "cell_type": "markdown",
   "id": "01ca5d40-3dc4-4a1c-8009-8dc01db3fb3f",
   "metadata": {},
   "source": [
    "💡The above code snippet demonstrate how we configure some of the common parameters for [Atoti deployment](https://docs.atoti.io/latest/deployment/deployment_setup.html#):\n",
    "- `user_content_storage`: Persists saved dashboards, widgets and filters in the session to a database. A \"content\" folder in the same directory as this notebook and a H2 database is created. \n",
    "- `port`: Sets the port for the Atoti UI.\n",
    "- `java_options`: Additional options to pass when starting the Java process, e.g. increasing the amount of RAM that the session can use via `-Xmx` option.  "
   ]
  },
  {
   "cell_type": "markdown",
   "id": "b8551715-8d5e-40b7-951e-780ecfeb17db",
   "metadata": {},
   "source": [
    "# 3. Initialize Atoti UI"
   ]
  },
  {
   "cell_type": "markdown",
   "id": "773af7fe-c3c2-4153-8a02-437fc2a35d2b",
   "metadata": {},
   "source": [
    "Once the session gets instantiated, Atoti UI will start on a random port unless specified.  "
   ]
  },
  {
   "cell_type": "code",
   "execution_count": 4,
   "id": "2f48a819-84bc-45ef-9db8-4d6226be8bce",
   "metadata": {
    "tags": []
   },
   "outputs": [
    {
     "data": {
      "application/vnd.atoti.link.v0+json": {
       "path": "",
       "sessionLocation": {
        "https": false,
        "port": 9092
       }
      },
      "text/markdown": [
       "http://localhost:9092\n",
       "\n",
       "_Note_: This is the session's local URL: it may not be reachable if Atoti is running on another machine."
      ],
      "text/plain": [
       "http://localhost:9092 (This is the session's local URL: it may not be reachable if Atoti is running on another machine.)"
      ]
     },
     "execution_count": 4,
     "metadata": {},
     "output_type": "execute_result"
    }
   ],
   "source": [
    "session.link"
   ]
  },
  {
   "cell_type": "markdown",
   "id": "a4ca9c61-4354-4763-ab52-4b44103e3f9a",
   "metadata": {},
   "source": [
    "⚠️ There is nothing interesting in Atoti UI at this point in time because we have yet to create our data model. We will revisit Atoti UI later on."
   ]
  },
  {
   "cell_type": "markdown",
   "id": "8f842961-c5ce-4996-a171-da0f6910a697",
   "metadata": {},
   "source": [
    "# 4. Data modeling "
   ]
  },
  {
   "cell_type": "markdown",
   "id": "c44fdc77-a913-4eed-8b71-53f9ca4f276d",
   "metadata": {},
   "source": [
    "There are two ways we can create Atoti tables (along with recommendations):  \n",
    "\n",
    "1. Defining table structure:\n",
    "   * For **full application implementations**, we recommend that we define the table structure as we can start the application quickly before loading data.  \n",
    "3. Infer table structure from a datasource:\n",
    "   * For **data exploration, model prototyping or adhoc reporting with new data source**, creating a table by inferring its structure from a datasource is a quick way to get things moving.  \n",
    "\n",
    "\n"
   ]
  },
  {
   "cell_type": "markdown",
   "id": "a8a54803-e37d-4928-bd9b-6c76ac8436ef",
   "metadata": {},
   "source": [
    "## 4.1 Table structure creation"
   ]
  },
  {
   "cell_type": "markdown",
   "id": "e84f3623-e991-4360-aa17-271ffb37c646",
   "metadata": {},
   "source": [
    "Similar to the creation of database tables, we can define the structure of the table by defining:\n",
    "* `name`: Name of table.\n",
    "* `types`: Column names and its corresponding data type.\n",
    "* `keys`: Column(s) used to dictionarize data for faster querying. It is also used to identify unique data rows. Atoti keeps the last uploaded row when there are duplicates.  \n",
    "* `default_values`: Default value when value is not provided. `\"N/A\"` by default for category columns, `null` for numerical columns and `1970-01-01` for date columns. If column is used in hierarchy manipulation, e.g. create multi-level hierarchies, a non-empty default value has to be set."
   ]
  },
  {
   "cell_type": "code",
   "execution_count": 5,
   "id": "22ec7f77-5ba8-45b7-8118-ad03790ca5e0",
   "metadata": {
    "tags": []
   },
   "outputs": [
    {
     "data": {
      "text/html": [
       "<div>\n",
       "<style scoped>\n",
       "    .dataframe tbody tr th:only-of-type {\n",
       "        vertical-align: middle;\n",
       "    }\n",
       "\n",
       "    .dataframe tbody tr th {\n",
       "        vertical-align: top;\n",
       "    }\n",
       "\n",
       "    .dataframe thead th {\n",
       "        text-align: right;\n",
       "    }\n",
       "</style>\n",
       "<table border=\"1\" class=\"dataframe\">\n",
       "  <thead>\n",
       "    <tr style=\"text-align: right;\">\n",
       "      <th></th>\n",
       "      <th>ProductName</th>\n",
       "      <th>ProductCategory</th>\n",
       "      <th>Supplier</th>\n",
       "      <th>PurchasingPricePerUnit</th>\n",
       "    </tr>\n",
       "    <tr>\n",
       "      <th>ProductId</th>\n",
       "      <th></th>\n",
       "      <th></th>\n",
       "      <th></th>\n",
       "      <th></th>\n",
       "    </tr>\n",
       "  </thead>\n",
       "  <tbody>\n",
       "  </tbody>\n",
       "</table>\n",
       "</div>"
      ],
      "text/plain": [
       "Empty DataFrame\n",
       "Columns: [ProductName, ProductCategory, Supplier, PurchasingPricePerUnit]\n",
       "Index: []"
      ]
     },
     "execution_count": 5,
     "metadata": {},
     "output_type": "execute_result"
    }
   ],
   "source": [
    "product_tbl = session.create_table(\n",
    "    name=\"Products\",\n",
    "    types={\n",
    "        \"ProductId\": tt.type.STRING,\n",
    "        \"ProductName\": tt.type.STRING,\n",
    "        \"ProductCategory\": tt.type.STRING,\n",
    "        \"Supplier\": tt.type.STRING,\n",
    "        \"PurchasingPricePerUnit\": tt.type.FLOAT,\n",
    "    },\n",
    "    keys=[\"ProductId\"],\n",
    "    # optional. Setting default value to 0 for demonstrative purpose\n",
    "    default_values={\"PurchasingPricePerUnit\": 0},\n",
    ")\n",
    "\n",
    "product_tbl.head()"
   ]
  },
  {
   "cell_type": "markdown",
   "id": "909bd02a-7ed5-4ed4-a6d2-c5347e9662b3",
   "metadata": {},
   "source": [
    "💡Similar to Pandas, we can use `head` function to preview the data in the Atoti table. "
   ]
  },
  {
   "cell_type": "markdown",
   "id": "390ca1bf-668a-4664-8f9f-cca2876e2d83",
   "metadata": {},
   "source": [
    "⚠️ An empty table is created. We will load data into the table separately."
   ]
  },
  {
   "cell_type": "markdown",
   "id": "d6f5f175-56b6-4a52-87e1-9c26e0769ae9",
   "metadata": {},
   "source": [
    "## 4.2 Table creation through exploration\n",
    "\n",
    "Another way to create a table is by using a corresponding connector to consume an existing data source. This is a quick and convenient way to create an Atoti table and especially useful when we want to explore the data quickly.  \n",
    "\n",
    "We can use `session.read_csv`, for instance, to consume CSV files and `session.read_parquet` for parquet files etc. This way, we need not define the table structure as the table will be created automatically after consuming the data.  "
   ]
  },
  {
   "cell_type": "code",
   "execution_count": 6,
   "id": "31fda3d6-b8be-483d-90a8-766597bbefe9",
   "metadata": {
    "tags": []
   },
   "outputs": [
    {
     "data": {
      "text/html": [
       "<div>\n",
       "<style scoped>\n",
       "    .dataframe tbody tr th:only-of-type {\n",
       "        vertical-align: middle;\n",
       "    }\n",
       "\n",
       "    .dataframe tbody tr th {\n",
       "        vertical-align: top;\n",
       "    }\n",
       "\n",
       "    .dataframe thead th {\n",
       "        text-align: right;\n",
       "    }\n",
       "</style>\n",
       "<table border=\"1\" class=\"dataframe\">\n",
       "  <thead>\n",
       "    <tr style=\"text-align: right;\">\n",
       "      <th></th>\n",
       "      <th>OrderId</th>\n",
       "      <th>OrderDate</th>\n",
       "      <th>QuantitySold</th>\n",
       "      <th>SellingPricePerUnit</th>\n",
       "      <th>ShipperName</th>\n",
       "      <th>ProductId</th>\n",
       "      <th>EmployeeId</th>\n",
       "      <th>CustomerId</th>\n",
       "    </tr>\n",
       "  </thead>\n",
       "  <tbody>\n",
       "    <tr>\n",
       "      <th>0</th>\n",
       "      <td>1</td>\n",
       "      <td>18/2/2019</td>\n",
       "      <td>650</td>\n",
       "      <td>22.42</td>\n",
       "      <td>Freight United</td>\n",
       "      <td>994</td>\n",
       "      <td>18336</td>\n",
       "      <td>c4411</td>\n",
       "    </tr>\n",
       "    <tr>\n",
       "      <th>1</th>\n",
       "      <td>12</td>\n",
       "      <td>18/2/2019</td>\n",
       "      <td>148</td>\n",
       "      <td>5.5</td>\n",
       "      <td>United Package</td>\n",
       "      <td>1384</td>\n",
       "      <td>18336</td>\n",
       "      <td>c2619</td>\n",
       "    </tr>\n",
       "    <tr>\n",
       "      <th>2</th>\n",
       "      <td>25</td>\n",
       "      <td>18/2/2019</td>\n",
       "      <td>883</td>\n",
       "      <td>17.57</td>\n",
       "      <td>The Transporter</td>\n",
       "      <td>773</td>\n",
       "      <td>18551</td>\n",
       "      <td>c1723</td>\n",
       "    </tr>\n",
       "    <tr>\n",
       "      <th>3</th>\n",
       "      <td>72</td>\n",
       "      <td>18/2/2019</td>\n",
       "      <td>927</td>\n",
       "      <td>27.14</td>\n",
       "      <td>Freight United</td>\n",
       "      <td>1423</td>\n",
       "      <td>63528</td>\n",
       "      <td>c1835</td>\n",
       "    </tr>\n",
       "    <tr>\n",
       "      <th>4</th>\n",
       "      <td>74</td>\n",
       "      <td>18/2/2019</td>\n",
       "      <td>651</td>\n",
       "      <td>56.83</td>\n",
       "      <td>Freight United</td>\n",
       "      <td>1059</td>\n",
       "      <td>18680</td>\n",
       "      <td>c5475</td>\n",
       "    </tr>\n",
       "  </tbody>\n",
       "</table>\n",
       "</div>"
      ],
      "text/plain": [
       "   OrderId  OrderDate  QuantitySold  SellingPricePerUnit      ShipperName  \\\n",
       "0        1  18/2/2019           650                22.42   Freight United   \n",
       "1       12  18/2/2019           148                  5.5   United Package   \n",
       "2       25  18/2/2019           883                17.57  The Transporter   \n",
       "3       72  18/2/2019           927                27.14   Freight United   \n",
       "4       74  18/2/2019           651                56.83   Freight United   \n",
       "\n",
       "   ProductId  EmployeeId CustomerId  \n",
       "0        994       18336      c4411  \n",
       "1       1384       18336      c2619  \n",
       "2        773       18551      c1723  \n",
       "3       1423       63528      c1835  \n",
       "4       1059       18680      c5475  "
      ]
     },
     "execution_count": 6,
     "metadata": {},
     "output_type": "execute_result"
    }
   ],
   "source": [
    "orders_tbl = session.read_csv(\"s3://data.atoti.io/atoti-academy/data/Orders.csv\")\n",
    "orders_tbl.head()"
   ]
  },
  {
   "cell_type": "markdown",
   "id": "c69c21de-6663-4d88-a3d5-8670fd067dc2",
   "metadata": {
    "tags": []
   },
   "source": [
    "💡Data is loaded into the table upon creation. For quick prototyping, we advise using smaller dataset during initial table creation. Data can be **incrementally loaded** into the table later on.   "
   ]
  },
  {
   "cell_type": "markdown",
   "id": "9089d6e3-f7db-4a4c-ac1a-4947b3aa278c",
   "metadata": {},
   "source": [
    "💡For data sources that are not supported natively by the Python API, we can consume it with either Pandas, Apache PyArrow or Apache Spark DataFrame before loading it into an Atoti table. Check out [`atoti.Session` module](https://docs.atoti.io/latest/api/atoti.Session.html#atoti.Session) or press `tab` on `session.read` to see the available functions:  \n",
    "\n",
    "<img src=\"https://data.atoti.io/atoti-academy/images/introduction/4_read_functions.png\" />"
   ]
  },
  {
   "cell_type": "markdown",
   "id": "5bf484f3-6c31-4cd1-ba08-59945706553e",
   "metadata": {},
   "source": [
    "### 4.2.1 Check on data types"
   ]
  },
  {
   "cell_type": "markdown",
   "id": "8a8c83df-877e-4581-b8b1-491df5df5123",
   "metadata": {},
   "source": [
    "Some data structures such as Pandas DataFrame or parquet files comes with metadata information. In such case, Atoti will be able to inherit the data types of the columns from the sources. Otherwise, the API automatically infers the data type based on the first `1000` records.  \n",
    "\n",
    "To check the data types of the table columns:"
   ]
  },
  {
   "cell_type": "code",
   "execution_count": 7,
   "id": "c5a55ff0-2cb4-4dee-8207-9c005955f79e",
   "metadata": {
    "tags": []
   },
   "outputs": [
    {
     "data": {
      "application/json": {
       "CustomerId": {
        "default_value": "N/A",
        "key": false,
        "type": "String"
       },
       "EmployeeId": {
        "default_value": null,
        "key": false,
        "type": "int"
       },
       "OrderDate": {
        "default_value": "N/A",
        "key": false,
        "type": "String"
       },
       "OrderId": {
        "default_value": null,
        "key": false,
        "type": "int"
       },
       "ProductId": {
        "default_value": null,
        "key": false,
        "type": "int"
       },
       "QuantitySold": {
        "default_value": null,
        "key": false,
        "type": "int"
       },
       "SellingPricePerUnit": {
        "default_value": null,
        "key": false,
        "type": "double"
       },
       "ShipperName": {
        "default_value": "N/A",
        "key": false,
        "type": "String"
       }
      },
      "text/html": [
       "<ul>\n",
       "<li>Orders\n",
       "  <ul>\n",
       "  <li>OrderId\n",
       "    <ul>\n",
       "    <li>key: False</li>\n",
       "    <li>type: int</li>\n",
       "    <li>default_value: None</li>\n",
       "    </ul>\n",
       "  </li>\n",
       "  <li>OrderDate\n",
       "    <ul>\n",
       "    <li>key: False</li>\n",
       "    <li>type: String</li>\n",
       "    <li>default_value: N/A</li>\n",
       "    </ul>\n",
       "  </li>\n",
       "  <li>QuantitySold\n",
       "    <ul>\n",
       "    <li>key: False</li>\n",
       "    <li>type: int</li>\n",
       "    <li>default_value: None</li>\n",
       "    </ul>\n",
       "  </li>\n",
       "  <li>SellingPricePerUnit\n",
       "    <ul>\n",
       "    <li>key: False</li>\n",
       "    <li>type: double</li>\n",
       "    <li>default_value: None</li>\n",
       "    </ul>\n",
       "  </li>\n",
       "  <li>ShipperName\n",
       "    <ul>\n",
       "    <li>key: False</li>\n",
       "    <li>type: String</li>\n",
       "    <li>default_value: N/A</li>\n",
       "    </ul>\n",
       "  </li>\n",
       "  <li>ProductId\n",
       "    <ul>\n",
       "    <li>key: False</li>\n",
       "    <li>type: int</li>\n",
       "    <li>default_value: None</li>\n",
       "    </ul>\n",
       "  </li>\n",
       "  <li>EmployeeId\n",
       "    <ul>\n",
       "    <li>key: False</li>\n",
       "    <li>type: int</li>\n",
       "    <li>default_value: None</li>\n",
       "    </ul>\n",
       "  </li>\n",
       "  <li>CustomerId\n",
       "    <ul>\n",
       "    <li>key: False</li>\n",
       "    <li>type: String</li>\n",
       "    <li>default_value: N/A</li>\n",
       "    </ul>\n",
       "  </li>\n",
       "  </ul>\n",
       "</li>\n",
       "</ul>\n"
      ],
      "text/plain": [
       "<atoti.table.Table at 0x1405a1d50>"
      ]
     },
     "execution_count": 7,
     "metadata": {
      "application/json": {
       "expanded": true,
       "root": "Orders"
      }
     },
     "output_type": "execute_result"
    }
   ],
   "source": [
    "orders_tbl"
   ]
  },
  {
   "cell_type": "markdown",
   "id": "6778f4be-e940-444d-a370-0c0877c6f0f9",
   "metadata": {},
   "source": [
    "💡To discover the data type programmatically for a specific column, we can do the following:  "
   ]
  },
  {
   "cell_type": "code",
   "execution_count": 8,
   "id": "6a8084e6-2f87-4ab5-880a-f5c4bb568b6e",
   "metadata": {
    "tags": []
   },
   "outputs": [
    {
     "data": {
      "text/plain": [
       "'double'"
      ]
     },
     "execution_count": 8,
     "metadata": {},
     "output_type": "execute_result"
    }
   ],
   "source": [
    "orders_tbl[\"SellingPricePerUnit\"].data_type"
   ]
  },
  {
   "cell_type": "markdown",
   "id": "f0cb8919-7cdd-43bb-85a2-d30e230a484b",
   "metadata": {},
   "source": [
    "In some cases, it is useful to iterate through the columns and handle the data based on its data type. For instance, we can define measures for numerical columns iteratively."
   ]
  },
  {
   "cell_type": "code",
   "execution_count": 9,
   "id": "53704b8a-15cc-4b27-8a90-7403653eda9f",
   "metadata": {
    "tags": []
   },
   "outputs": [
    {
     "name": "stdout",
     "output_type": "stream",
     "text": [
      "OrderId is a numerical type column.\n",
      "OrderDate is a hierarchical type column.\n",
      "QuantitySold is a numerical type column.\n",
      "SellingPricePerUnit is a numerical type column.\n",
      "ShipperName is a hierarchical type column.\n",
      "ProductId is a numerical type column.\n",
      "EmployeeId is a numerical type column.\n",
      "CustomerId is a hierarchical type column.\n"
     ]
    }
   ],
   "source": [
    "for col in orders_tbl.columns:\n",
    "    (\n",
    "        print(f\"{col} is a numerical type column.\")\n",
    "        if orders_tbl[col].data_type\n",
    "        in [\n",
    "            \"int\",\n",
    "            \"double\",\n",
    "            \"float\",\n",
    "            \"int[]\",\n",
    "            \"double[]\",\n",
    "        ]\n",
    "        else print(f\"{col} is a hierarchical type column.\")\n",
    "    )"
   ]
  },
  {
   "cell_type": "markdown",
   "id": "0c864c4f-e28d-4aac-bec2-6063cd4e3d85",
   "metadata": {},
   "source": [
    "### 4.2.2 Delete tables\n",
    "\n",
    "Once a table is created, we cannot re-execute the table creation command to perform updates. Instead, we should delete the table and before re-creating it.  \n",
    "\n",
    "The tables are stored as a map under the session. Therefore we can access it simply by using the table's name as the key to the map. "
   ]
  },
  {
   "cell_type": "code",
   "execution_count": 10,
   "id": "886c02c0-42df-4f06-bcba-1663efd3187c",
   "metadata": {
    "tags": []
   },
   "outputs": [],
   "source": [
    "# del session.tables[\"Orders\"]\n",
    "del session.tables[orders_tbl.name]"
   ]
  },
  {
   "cell_type": "markdown",
   "id": "2d8c3835-4bc1-4777-bb19-2dfc187470c9",
   "metadata": {},
   "source": [
    "💡Alternatively, we can restart the session and re-execute everything after."
   ]
  },
  {
   "cell_type": "markdown",
   "id": "1b0fd231-a347-4de2-ab56-b7263ab2169e",
   "metadata": {},
   "source": [
    "### 4.2.3 Table configuration"
   ]
  },
  {
   "cell_type": "markdown",
   "id": "a2d01c3c-b5de-467a-8c31-cf3b18680beb",
   "metadata": {},
   "source": [
    "When we create a table from datasource, we can tweak the table structure as necessary. For instance, we can define key columns to ensure the uniqueness of the data loaded. The key columns are indexed, allowing better search performance.  "
   ]
  },
  {
   "cell_type": "code",
   "execution_count": 11,
   "id": "5ba0ca44-e0e1-493c-b2f5-ba62cab2ee39",
   "metadata": {
    "tags": []
   },
   "outputs": [],
   "source": [
    "orders_tbl = session.read_csv(\n",
    "    \"s3://data.atoti.io/atoti-academy/data/Orders.csv\",\n",
    "    table_name=\"Orders\",\n",
    "    columns={\n",
    "        \"OrderId\": \"Order Id\",\n",
    "        \"OrderDate\": \"Order Date\",\n",
    "        \"QuantitySold\": \"Quantity Sold\",\n",
    "        \"SellingPricePerUnit\": \"Selling Price Per Unit\",\n",
    "        \"ShipperName\": \"Shipper Name\",\n",
    "        \"ProductId\": \"Product Id\",\n",
    "    },\n",
    "    keys=[\"Order Id\", \"Product Id\"],\n",
    "    types={\n",
    "        \"Order Id\": tt.type.STRING,\n",
    "        \"Product Id\": tt.type.STRING,\n",
    "        \"Order Date\": tt.type.LOCAL_DATE,\n",
    "    },\n",
    "    date_patterns={\"Order Date\": \"dd/M/yyyy\"},\n",
    "    default_values={\"Quantity Sold\": 0, \"Selling Price Per Unit\": 0.0},\n",
    ")"
   ]
  },
  {
   "cell_type": "markdown",
   "id": "7963a55c-b45a-4d17-91d9-16dedac8e02c",
   "metadata": {},
   "source": [
    "The example above covered some of the parameters that we commonly configure when creating Atoti table from data sources.\n",
    "\n",
    "**table_name**\n",
    "\n",
    "When reading from a file source, the table name is defaulted to name of the file without the extension. E.g. for Orders.csv, the table name will be \"Orders\" unless specified.  \n",
    "\n",
    "**columns**\n",
    "\n",
    "This parameter is only available for `read_csv` and `read_parquet`. It allows us to:\n",
    "1. Rename columns.\n",
    "2. Select only the required columns from the data source.\n",
    "\n",
    "After renaming the columns, be aware that the following parameters expect the updated names in the mapping instead of the original column names:\n",
    "* `keys`\n",
    "* `types`\n",
    "* `date_patterns`\n",
    "* `default_values`\n",
    "\n",
    "**types**\n",
    "\n",
    "We can cast the data types for the columns explicitly. The parameter expects a dictionary with the column name as key, mapped to the expected [data type](https://docs.atoti.io/latest/api/atoti.type.html#module-atoti.type). This parameter is however, not available for Parquet and Spark DataFrame. \n",
    "\n",
    "**date_patterns**\n",
    "\n",
    "Defines the date format pattern for the date column if it is not in the `yyyy-MM-dd` format. Check out [Java date patterns](https://docs.oracle.com/en/java/javase/15/docs/api/java.base/java/time/format/DateTimeFormatter.html#patterns):  \n",
    "\n",
    "<img src=\"https://data.atoti.io/atoti-academy/images/introduction/4_date_patterns.png\" />\n"
   ]
  },
  {
   "cell_type": "markdown",
   "id": "7c0617ca-5f5a-4613-9ca6-fd4db3f1723d",
   "metadata": {
    "tags": []
   },
   "source": [
    "## 4.3 Data schema \n",
    "\n",
    "Atoti implements a [snowflake schema](https://en.wikipedia.org/wiki/Snowflake_schema). This means that the schema organize data around a central fact table (we call it base table). The other dimension tables joining to the central table can be normalized, i.e. split into multiple related tables, creating a branching structure that resembles a snowflake.  \n",
    "\n",
    "<img src=\"https://data.atoti.io/atoti-academy/images/introduction/4_snowflake_schema.png\" width=\"500px\" />"
   ]
  },
  {
   "cell_type": "markdown",
   "id": "96c740c4-98e2-4195-ae6a-a27598ad2db8",
   "metadata": {},
   "source": [
    "### 4.3.1 Identify base table"
   ]
  },
  {
   "cell_type": "markdown",
   "id": "3c942ab9-7201-4227-bc2f-43af77c95955",
   "metadata": {},
   "source": [
    "The base table contains data at the lowest level of granularity, known as \"facts\" for the cube. It's normally the largest table.  \n",
    "\n",
    "💡To be able to query an item, it has to be reachable from the base table to the refenced table. Therefore, the base table has to be the most granular."
   ]
  },
  {
   "cell_type": "markdown",
   "id": "2bf4812d-8598-4c4e-8951-391c963522e4",
   "metadata": {},
   "source": [
    "### 4.3.2 Visualize table schema"
   ]
  },
  {
   "cell_type": "markdown",
   "id": "60007a50-b8ec-4f64-b178-bc3b78fe04bb",
   "metadata": {},
   "source": [
    "The table schema will show us all the tables in the session, along with their columns and their respective data types. It makes it easier for us to identify the column(s) which we want to use for the table join."
   ]
  },
  {
   "cell_type": "code",
   "execution_count": 12,
   "id": "48f4f004-0c75-42fa-8599-1732b28b5cf9",
   "metadata": {
    "tags": []
   },
   "outputs": [
    {
     "data": {
      "image/png": "[encoded data removed]",
      "text/plain": [
       "erDiagram\n",
       "  \"Orders\" {\n",
       "    _ String PK \"Order Id\"\n",
       "    _ LocalDate \"Order Date\"\n",
       "    _ int \"Quantity Sold\"\n",
       "    _ double \"Selling Price Per Unit\"\n",
       "    _ String \"Shipper Name\"\n",
       "    _ String PK \"Product Id\"\n",
       "  }\n",
       "  \"Products\" {\n",
       "    _ String PK \"ProductId\"\n",
       "    _ String \"ProductName\"\n",
       "    _ String \"ProductCategory\"\n",
       "    _ String \"Supplier\"\n",
       "    _ float \"PurchasingPricePerUnit\"\n",
       "  }"
      ]
     },
     "execution_count": 12,
     "metadata": {},
     "output_type": "execute_result"
    }
   ],
   "source": [
    "session.tables.schema"
   ]
  },
  {
   "cell_type": "markdown",
   "id": "7bb0a2d2-8e10-43c0-b1ae-8f0728580261",
   "metadata": {},
   "source": [
    "In this case, we can see that Product Id is common between the two tables but named differently — `Product Id` in Orders table and `ProductId` in Products table. "
   ]
  },
  {
   "cell_type": "markdown",
   "id": "39d93e04-fa31-46fe-a018-6ba0312a0092",
   "metadata": {},
   "source": [
    "### 4.3.3 Table join"
   ]
  },
  {
   "cell_type": "markdown",
   "id": "43cf528f-14c3-4ef9-852d-a4bdcfb47aa2",
   "metadata": {},
   "source": [
    "Usually, we can perform a table join without defining the columns used for it if the columns have the same name in both tables: \n",
    "\n",
    "`orders_tbl.join(product_tbl)`\n",
    "\n",
    "Atoti automatically infers the join by columns with the same name. However, because there are no common columns by name between the two tables, we will get a cartesian join between the tables. This may result in wrong results returned in queries and definitely poorer querying performance. Hence, let's define the condition of the join explicitly.  "
   ]
  },
  {
   "cell_type": "code",
   "execution_count": 13,
   "id": "1ec640b0-7873-4d70-bfb2-521db0b05a26",
   "metadata": {
    "tags": []
   },
   "outputs": [],
   "source": [
    "orders_tbl.join(product_tbl, (orders_tbl[\"Product Id\"] == product_tbl[\"ProductId\"]))"
   ]
  },
  {
   "cell_type": "markdown",
   "id": "af2956c4-857c-46ed-be0c-a364c15a7992",
   "metadata": {},
   "source": [
    "💡It is a good practice to define the condition of the join explicitly, such that any reader will know clearly which columns are they joined by.  \n",
    "\n",
    "💡We perform the join from the parent table to referenced table, i.e. `orders_tbl → product_tbl`. Similarly, the order of the condition has to be from parent table to referenced table, i.e. `orders_tbl → product_tbl`.  \n",
    "\n",
    "We can have multiple joins by surrounding each condition with a parenthesis and combine the conditions with the `&` operand:\n",
    "\n",
    "`a.join(b, (a[\"col1\"] == b[\"col1\"]) & (a[\"col2\"] == b[\"col2\"]))`"
   ]
  },
  {
   "cell_type": "markdown",
   "id": "0b1e3111-8ccd-4ca9-ad13-3afcdeac484e",
   "metadata": {},
   "source": [
    "### 📐Exercise  \n",
    "\n",
    "View how the schema changed after the last join.  "
   ]
  },
  {
   "cell_type": "markdown",
   "id": "0d59f86d-c3a0-4e5d-bf75-3db374813d4c",
   "metadata": {},
   "source": [
    "### 📖 Solution\n",
    "\n",
    "`session.tables.schema`"
   ]
  },
  {
   "cell_type": "code",
   "execution_count": 14,
   "id": "ede6473d-0f5e-4246-8bae-e53519691172",
   "metadata": {},
   "outputs": [
    {
     "data": {
      "image/png": "[encoded data removed]",
      "text/plain": [
       "erDiagram\n",
       "  \"Orders\" {\n",
       "    _ String PK \"Order Id\"\n",
       "    _ LocalDate \"Order Date\"\n",
       "    _ int \"Quantity Sold\"\n",
       "    _ double \"Selling Price Per Unit\"\n",
       "    _ String \"Shipper Name\"\n",
       "    _ String PK \"Product Id\"\n",
       "  }\n",
       "  \"Products\" {\n",
       "    _ String PK \"ProductId\"\n",
       "    _ String \"ProductName\"\n",
       "    _ String \"ProductCategory\"\n",
       "    _ String \"Supplier\"\n",
       "    _ float \"PurchasingPricePerUnit\"\n",
       "  }\n",
       "  \"Orders\" }o--o| \"Products\" : \"`Product Id` == `ProductId`\""
      ]
     },
     "execution_count": 14,
     "metadata": {},
     "output_type": "execute_result"
    }
   ],
   "source": [
    "session.tables.schema"
   ]
  },
  {
   "cell_type": "markdown",
   "id": "f2ab8314-d53b-4a18-bbdd-d07506a05d24",
   "metadata": {
    "tags": []
   },
   "source": [
    "# 5. Load data into tables\n",
    " \n",
    "After a table is created, we can load data into the tables using the `load` function corresponding to the data source format. For instance, if the data source is a CSV file, we can use [`load_csv`](https://docs.atoti.io/latest/api/atoti.Table.load_csv.html#atoti.Table.load_csv) to upload the data.  \n",
    "\n",
    "💡 Check out the [`atoti.table` module](https://docs.atoti.io/latest/api/atoti.Table.html#atoti.Table) or press `tab` on `table.load` to see the available functions:  \n",
    "\n",
    "<img src=\"https://data.atoti.io/atoti-academy/images/introduction/5_load_functions.png\" />"
   ]
  },
  {
   "cell_type": "code",
   "execution_count": 15,
   "id": "bd6c3a1d-4b37-499b-8509-aff29a9ab9cf",
   "metadata": {
    "tags": []
   },
   "outputs": [
    {
     "data": {
      "text/html": [
       "<div>\n",
       "<style scoped>\n",
       "    .dataframe tbody tr th:only-of-type {\n",
       "        vertical-align: middle;\n",
       "    }\n",
       "\n",
       "    .dataframe tbody tr th {\n",
       "        vertical-align: top;\n",
       "    }\n",
       "\n",
       "    .dataframe thead th {\n",
       "        text-align: right;\n",
       "    }\n",
       "</style>\n",
       "<table border=\"1\" class=\"dataframe\">\n",
       "  <thead>\n",
       "    <tr style=\"text-align: right;\">\n",
       "      <th></th>\n",
       "      <th>ProductName</th>\n",
       "      <th>ProductCategory</th>\n",
       "      <th>Supplier</th>\n",
       "      <th>PurchasingPricePerUnit</th>\n",
       "    </tr>\n",
       "    <tr>\n",
       "      <th>ProductId</th>\n",
       "      <th></th>\n",
       "      <th></th>\n",
       "      <th></th>\n",
       "      <th></th>\n",
       "    </tr>\n",
       "  </thead>\n",
       "  <tbody>\n",
       "    <tr>\n",
       "      <th>539</th>\n",
       "      <td>Queso Cabrales</td>\n",
       "      <td>Dairy Products</td>\n",
       "      <td>Cooperativa de Quesos Las Cabras</td>\n",
       "      <td>11.340000</td>\n",
       "    </tr>\n",
       "    <tr>\n",
       "      <th>552</th>\n",
       "      <td>Singaporean Hokkien Fried Mee</td>\n",
       "      <td>Grains/Cereals</td>\n",
       "      <td>Leka Trading</td>\n",
       "      <td>8.060000</td>\n",
       "    </tr>\n",
       "    <tr>\n",
       "      <th>565</th>\n",
       "      <td>Mozzarella di Giovanni</td>\n",
       "      <td>Dairy Products</td>\n",
       "      <td>Formaggi Fortini s.r.l.</td>\n",
       "      <td>18.770000</td>\n",
       "    </tr>\n",
       "    <tr>\n",
       "      <th>578</th>\n",
       "      <td>Tofu</td>\n",
       "      <td>Produce</td>\n",
       "      <td>Mayumis</td>\n",
       "      <td>12.560000</td>\n",
       "    </tr>\n",
       "    <tr>\n",
       "      <th>591</th>\n",
       "      <td>Manjimup Dried Apples</td>\n",
       "      <td>Produce</td>\n",
       "      <td>Gday, Mate</td>\n",
       "      <td>30.530001</td>\n",
       "    </tr>\n",
       "  </tbody>\n",
       "</table>\n",
       "</div>"
      ],
      "text/plain": [
       "                             ProductName ProductCategory  \\\n",
       "ProductId                                                  \n",
       "539                       Queso Cabrales  Dairy Products   \n",
       "552        Singaporean Hokkien Fried Mee  Grains/Cereals   \n",
       "565               Mozzarella di Giovanni  Dairy Products   \n",
       "578                                 Tofu         Produce   \n",
       "591                Manjimup Dried Apples         Produce   \n",
       "\n",
       "                                   Supplier  PurchasingPricePerUnit  \n",
       "ProductId                                                            \n",
       "539        Cooperativa de Quesos Las Cabras               11.340000  \n",
       "552                            Leka Trading                8.060000  \n",
       "565                 Formaggi Fortini s.r.l.               18.770000  \n",
       "578                                 Mayumis               12.560000  \n",
       "591                              Gday, Mate               30.530001  "
      ]
     },
     "execution_count": 15,
     "metadata": {},
     "output_type": "execute_result"
    }
   ],
   "source": [
    "product_tbl.load_csv(\"s3://data.atoti.io/atoti-academy/data/Products.csv\")\n",
    "product_tbl.head()"
   ]
  },
  {
   "cell_type": "markdown",
   "id": "56b891ed-ccec-43de-8f59-0c8478a40d85",
   "metadata": {},
   "source": [
    "For CSV files which doesn't come with metadata information on the data type, we have to take special note on date columns. Atoti recognizes values formatted in `yyyy-MM-dd` as dates. For all other formats, we have to define the pattern with the `date_patterns` parameter as seen in the previous example in the section \"4.2.3 Table Configuration\".    \n",
    "\n",
    "💡 Read: [Atoti: Working with dates in Python](https://www.atoti.io/guides/atoti-working-with-dates-in-python/)  "
   ]
  },
  {
   "cell_type": "markdown",
   "id": "bac1109a-5cd3-4d21-a0f4-74be5be6b406",
   "metadata": {
    "tags": []
   },
   "source": [
    "Verify the shape of the table after the data loading. "
   ]
  },
  {
   "cell_type": "code",
   "execution_count": 16,
   "id": "5df8dda6-b1a9-487f-b02a-a852a959ffda",
   "metadata": {
    "tags": []
   },
   "outputs": [
    {
     "name": "stdout",
     "output_type": "stream",
     "text": [
      "Number of rows: 77, Number of columns: 5\n"
     ]
    }
   ],
   "source": [
    "print(\n",
    "    f\"Number of rows: {len(product_tbl)}, Number of columns: {len(product_tbl.columns)}\"\n",
    ")"
   ]
  },
  {
   "cell_type": "markdown",
   "id": "76391a28-58fc-448f-beb4-2c4a3dadf16f",
   "metadata": {},
   "source": [
    "# 6. Atoti Cube"
   ]
  },
  {
   "cell_type": "markdown",
   "id": "42218e81-1a0b-4355-ac62-236fc8d81693",
   "metadata": {},
   "source": [
    "## 6.1 Cube creation"
   ]
  },
  {
   "cell_type": "markdown",
   "id": "eadb6e56-f4ab-483e-8962-9d4679ff2947",
   "metadata": {},
   "source": [
    "As Atoti follows the [snowflake schema](https://en.wikipedia.org/wiki/Snowflake_schema), we will create the cube with the base table. \n",
    "\n",
    "💡We can create new tables and join them to the reference table even after the cube is created. Therefore, it is possible to start the cube with a single table and build the model incrementally afterward.  "
   ]
  },
  {
   "cell_type": "code",
   "execution_count": 17,
   "id": "dd90c614-f284-45ba-8243-d40f4819a62b",
   "metadata": {
    "tags": []
   },
   "outputs": [],
   "source": [
    "cube = session.create_cube(orders_tbl, name=\"Order Cube\")"
   ]
  },
  {
   "cell_type": "markdown",
   "id": "daab14ee-f34a-4cad-b85c-50c3272d0454",
   "metadata": {},
   "source": [
    "By default, the cube is created in `auto` mode. This means that non-numerical or key columns are created as single-level hierarchies. A `SUM` and a `MEAN` measure is automatically created for each numerical column.  \n",
    "\n",
    "Other [available modes](https://docs.atoti.io/latest/api/atoti.Session.create_cube.html#atoti.Session.create_cube) are:\n",
    "- `manual`: Only `contributors.COUNT` is created. Users have to manually create the hierarchies and measures they require.\n",
    "- `no_measures`: Similar to `auto` mode, except that measures are not created. This is useful if we have a lot of numerical columns but we do not require the sum and average metrics for all of them.  \n",
    "\n",
    "💡We can create multiple cubes per session. Just remember to give each of them a different name."
   ]
  },
  {
   "cell_type": "markdown",
   "id": "c692f403-542b-4099-9922-cc46bd6458a6",
   "metadata": {},
   "source": [
    "## 6.2 Cube attributes"
   ]
  },
  {
   "cell_type": "markdown",
   "id": "7167c06f-b60c-4d66-bcd0-a4f855e1dd21",
   "metadata": {
    "tags": []
   },
   "source": [
    "The main attributes of a cube are:  \n",
    "\n",
    "* **Dimensions / Hierarchies / Levels**: This is how the data is structured in the cube.  \n",
    "* **Measures**: They are the numberical data / metrics contained in the cube.\n",
    "\n",
    "We will look at these in more detail below. \n",
    "\n",
    "First, let's take a look at the cube, so see the dimensions, hierarchies, levels and measures."
   ]
  },
  {
   "cell_type": "code",
   "execution_count": 18,
   "id": "92381aac-bf3a-407e-bc66-2e02481499d8",
   "metadata": {
    "tags": []
   },
   "outputs": [
    {
     "data": {
      "application/json": {
       "Dimensions": {
        "Orders": {
         "Order Date": [
          "Order Date"
         ],
         "Order Id": [
          "Order Id"
         ],
         "Product Id": [
          "Product Id"
         ],
         "Shipper Name": [
          "Shipper Name"
         ]
        },
        "Products": {
         "ProductCategory": [
          "ProductCategory"
         ],
         "ProductName": [
          "ProductName"
         ],
         "Supplier": [
          "Supplier"
         ]
        }
       },
       "Measures": {
        "Quantity Sold.MEAN": {
         "formatter": "DOUBLE[#,###.00]"
        },
        "Quantity Sold.SUM": {
         "formatter": "INT[#,###]"
        },
        "Selling Price Per Unit.MEAN": {
         "formatter": "DOUBLE[#,###.00]"
        },
        "Selling Price Per Unit.SUM": {
         "formatter": "DOUBLE[#,###.00]"
        },
        "contributors.COUNT": {
         "formatter": "INT[#,###]"
        }
       }
      },
      "text/html": [
       "<ul>\n",
       "<li>Order Cube\n",
       "  <ul>\n",
       "  <li>Dimensions\n",
       "    <ul>\n",
       "    <li>Orders\n",
       "      <ul>\n",
       "      <li>Order Date\n",
       "        <ol>\n",
       "        <li>Order Date</li>\n",
       "        </ol>      </li>\n",
       "      <li>Order Id\n",
       "        <ol>\n",
       "        <li>Order Id</li>\n",
       "        </ol>      </li>\n",
       "      <li>Product Id\n",
       "        <ol>\n",
       "        <li>Product Id</li>\n",
       "        </ol>      </li>\n",
       "      <li>Shipper Name\n",
       "        <ol>\n",
       "        <li>Shipper Name</li>\n",
       "        </ol>      </li>\n",
       "      </ul>\n",
       "    </li>\n",
       "    <li>Products\n",
       "      <ul>\n",
       "      <li>ProductCategory\n",
       "        <ol>\n",
       "        <li>ProductCategory</li>\n",
       "        </ol>      </li>\n",
       "      <li>ProductName\n",
       "        <ol>\n",
       "        <li>ProductName</li>\n",
       "        </ol>      </li>\n",
       "      <li>Supplier\n",
       "        <ol>\n",
       "        <li>Supplier</li>\n",
       "        </ol>      </li>\n",
       "      </ul>\n",
       "    </li>\n",
       "    </ul>\n",
       "  </li>\n",
       "  <li>Measures\n",
       "    <ul>\n",
       "    <li>Quantity Sold.MEAN\n",
       "      <ul>\n",
       "      <li>formatter: DOUBLE[#,###.00]</li>\n",
       "      </ul>\n",
       "    </li>\n",
       "    <li>Quantity Sold.SUM\n",
       "      <ul>\n",
       "      <li>formatter: INT[#,###]</li>\n",
       "      </ul>\n",
       "    </li>\n",
       "    <li>Selling Price Per Unit.MEAN\n",
       "      <ul>\n",
       "      <li>formatter: DOUBLE[#,###.00]</li>\n",
       "      </ul>\n",
       "    </li>\n",
       "    <li>Selling Price Per Unit.SUM\n",
       "      <ul>\n",
       "      <li>formatter: DOUBLE[#,###.00]</li>\n",
       "      </ul>\n",
       "    </li>\n",
       "    <li>contributors.COUNT\n",
       "      <ul>\n",
       "      <li>formatter: INT[#,###]</li>\n",
       "      </ul>\n",
       "    </li>\n",
       "    </ul>\n",
       "  </li>\n",
       "  </ul>\n",
       "</li>\n",
       "</ul>\n"
      ],
      "text/plain": [
       "<atoti.cube.Cube at 0x1405a2020>"
      ]
     },
     "execution_count": 18,
     "metadata": {
      "application/json": {
       "expanded": false,
       "root": "Order Cube"
      }
     },
     "output_type": "execute_result"
    }
   ],
   "source": [
    "cube"
   ]
  },
  {
   "cell_type": "markdown",
   "id": "4d59a2d0-16aa-4450-86f5-b406fb926c45",
   "metadata": {},
   "source": [
    "In the diagram below, you'll find an overview of the relationship between dimensions, hierarchies and levels:\n",
    "\n",
    "<img src=\"https://data.atoti.io/atoti-academy/images/introduction/6_cube_attributes.png\" width=\"800px\" />"
   ]
  },
  {
   "cell_type": "markdown",
   "id": "8e1387a5-f675-46d0-b289-1988ab3ed307",
   "metadata": {},
   "source": [
    "Understanding the hierarchies and levels is important for us to understand how data is being retrieved from the cube. Each level added to the query will help us identify the location of the value that we are targetting:  \n",
    "\n",
    "<img src=\"https://data.atoti.io/atoti-academy/images/introduction/6_location.png\" width=\"800px\" />"
   ]
  },
  {
   "cell_type": "markdown",
   "id": "4772e4d0-3789-40d7-9829-81325682370c",
   "metadata": {},
   "source": [
    "We can access the attributes individually as well. For instance, let's look at the hierarchies:"
   ]
  },
  {
   "cell_type": "code",
   "execution_count": 19,
   "id": "bc013703-88c4-4690-bd92-bf19eb0277a8",
   "metadata": {
    "tags": []
   },
   "outputs": [
    {
     "data": {
      "application/json": {
       "Quantity Sold.MEAN": {
        "formatter": "DOUBLE[#,###.00]"
       },
       "Quantity Sold.SUM": {
        "formatter": "INT[#,###]"
       },
       "Selling Price Per Unit.MEAN": {
        "formatter": "DOUBLE[#,###.00]"
       },
       "Selling Price Per Unit.SUM": {
        "formatter": "DOUBLE[#,###.00]"
       },
       "contributors.COUNT": {
        "formatter": "INT[#,###]"
       }
      },
      "text/html": [
       "<ul>\n",
       "<li>Measures\n",
       "  <ul>\n",
       "  <li>Quantity Sold.MEAN\n",
       "    <ul>\n",
       "    <li>formatter: DOUBLE[#,###.00]</li>\n",
       "    </ul>\n",
       "  </li>\n",
       "  <li>Quantity Sold.SUM\n",
       "    <ul>\n",
       "    <li>formatter: INT[#,###]</li>\n",
       "    </ul>\n",
       "  </li>\n",
       "  <li>Selling Price Per Unit.MEAN\n",
       "    <ul>\n",
       "    <li>formatter: DOUBLE[#,###.00]</li>\n",
       "    </ul>\n",
       "  </li>\n",
       "  <li>Selling Price Per Unit.SUM\n",
       "    <ul>\n",
       "    <li>formatter: DOUBLE[#,###.00]</li>\n",
       "    </ul>\n",
       "  </li>\n",
       "  <li>contributors.COUNT\n",
       "    <ul>\n",
       "    <li>formatter: INT[#,###]</li>\n",
       "    </ul>\n",
       "  </li>\n",
       "  </ul>\n",
       "</li>\n",
       "</ul>\n"
      ],
      "text/plain": [
       "{'contributors.COUNT': <atoti.measure.Measure object at 0x1407311b0>, 'update.TIMESTAMP': <atoti.measure.Measure object at 0x140731480>, 'Quantity Sold.SUM': <atoti.measure.Measure object at 0x1405a3af0>, 'Quantity Sold.MEAN': <atoti.measure.Measure object at 0x1405a2950>, 'Selling Price Per Unit.SUM': <atoti.measure.Measure object at 0x1405a1ba0>, 'Selling Price Per Unit.MEAN': <atoti.measure.Measure object at 0x1405a3df0>}"
      ]
     },
     "execution_count": 19,
     "metadata": {
      "application/json": {
       "expanded": false,
       "root": "Measures"
      }
     },
     "output_type": "execute_result"
    }
   ],
   "source": [
    "cube.measures"
   ]
  },
  {
   "cell_type": "markdown",
   "id": "99b5dfe6-08c6-44a4-b7dd-f45b1f1c5826",
   "metadata": {},
   "source": [
    "💡 We can manipulate the cube via these attributes. To simplify coding, we will aliase these attributes with the variable h, l and m for hierarchies, levels and measures respectively.  "
   ]
  },
  {
   "cell_type": "code",
   "execution_count": 20,
   "id": "f5c2575f-e9c3-4521-9820-0bb7ae56ea69",
   "metadata": {
    "tags": []
   },
   "outputs": [],
   "source": [
    "h, l, m = cube.hierarchies, cube.levels, cube.measures"
   ]
  },
  {
   "cell_type": "markdown",
   "id": "7154dd5b-ad35-4c0b-b43a-77915a194696",
   "metadata": {},
   "source": [
    "The equivalent of `cube.measures` is now `m`:"
   ]
  },
  {
   "cell_type": "code",
   "execution_count": 21,
   "id": "937f1394-37c0-465e-a21d-f47b6a7c7a09",
   "metadata": {
    "tags": []
   },
   "outputs": [
    {
     "data": {
      "application/json": {
       "Quantity Sold.MEAN": {
        "formatter": "DOUBLE[#,###.00]"
       },
       "Quantity Sold.SUM": {
        "formatter": "INT[#,###]"
       },
       "Selling Price Per Unit.MEAN": {
        "formatter": "DOUBLE[#,###.00]"
       },
       "Selling Price Per Unit.SUM": {
        "formatter": "DOUBLE[#,###.00]"
       },
       "contributors.COUNT": {
        "formatter": "INT[#,###]"
       }
      },
      "text/html": [
       "<ul>\n",
       "<li>Measures\n",
       "  <ul>\n",
       "  <li>Quantity Sold.MEAN\n",
       "    <ul>\n",
       "    <li>formatter: DOUBLE[#,###.00]</li>\n",
       "    </ul>\n",
       "  </li>\n",
       "  <li>Quantity Sold.SUM\n",
       "    <ul>\n",
       "    <li>formatter: INT[#,###]</li>\n",
       "    </ul>\n",
       "  </li>\n",
       "  <li>Selling Price Per Unit.MEAN\n",
       "    <ul>\n",
       "    <li>formatter: DOUBLE[#,###.00]</li>\n",
       "    </ul>\n",
       "  </li>\n",
       "  <li>Selling Price Per Unit.SUM\n",
       "    <ul>\n",
       "    <li>formatter: DOUBLE[#,###.00]</li>\n",
       "    </ul>\n",
       "  </li>\n",
       "  <li>contributors.COUNT\n",
       "    <ul>\n",
       "    <li>formatter: INT[#,###]</li>\n",
       "    </ul>\n",
       "  </li>\n",
       "  </ul>\n",
       "</li>\n",
       "</ul>\n"
      ],
      "text/plain": [
       "{'contributors.COUNT': <atoti.measure.Measure object at 0x140733190>, 'update.TIMESTAMP': <atoti.measure.Measure object at 0x1407339a0>, 'Quantity Sold.SUM': <atoti.measure.Measure object at 0x1407312d0>, 'Quantity Sold.MEAN': <atoti.measure.Measure object at 0x140730610>, 'Selling Price Per Unit.SUM': <atoti.measure.Measure object at 0x140732290>, 'Selling Price Per Unit.MEAN': <atoti.measure.Measure object at 0x140732b60>}"
      ]
     },
     "execution_count": 21,
     "metadata": {
      "application/json": {
       "expanded": false,
       "root": "Measures"
      }
     },
     "output_type": "execute_result"
    }
   ],
   "source": [
    "m"
   ]
  },
  {
   "cell_type": "markdown",
   "id": "9a2c4f56-adda-49ae-acf1-3f705571a077",
   "metadata": {},
   "source": [
    "### 6.2.1 Hierarchies and levels"
   ]
  },
  {
   "cell_type": "markdown",
   "id": "417cba0d-abb2-42ae-8534-27c9ed17e97f",
   "metadata": {},
   "source": [
    "A few key points:\n",
    "\n",
    "* Each column in the data source can be treated as a level. \n",
    "* Hierarchies are logical orderings of these data elements (or levels).\n",
    "* It is possible that there is only one level in the hierarchy.  This is known as single-level hierarchy.\n",
    "* Or we might have a parent-child relationship between them. For example in the hierarchy of geographical zones, we might find one level for continents (Europe, Asia, etc.) and a child level for countries (Signapore, China, Malaysia, etc.) Hierarchies can therefore be single-level or multi-level.  \n",
    "\n",
    "We will look at these in greater detail in this section:  \n",
    "- [6.2.1.1 Create multi-level hierarchies](#6.2.1.1-Create-multi-level-hierarchies)\n",
    "- [6.2.1.2 Access levels that exist under more than one hierarchy](#6.2.1.2-Access-levels-that-exist-under-more-than-one-hierarchy)\n",
    "- [6.2.1.3 Single-level vs multi-level hierarchies](#6.2.1.3-Single-level-vs-multi-level-hierarchies)\n",
    "    - [6.2.1.3.1 Single-level hierarchies](#6.2.1.3.1-Single-level-hierarchies)\n",
    "    - [6.2.1.3.2 Multi-level hierarchies](#6.2.1.3.2-Multi-level-hierarchies)\n",
    " \n",
    "💡 By default, hierarchies automatically created in Atoti are single-level."
   ]
  },
  {
   "cell_type": "code",
   "execution_count": 22,
   "id": "72df5a65-7ad9-4813-8713-fde7ca98a841",
   "metadata": {
    "tags": []
   },
   "outputs": [
    {
     "data": {
      "application/json": {
       "Orders": {
        "Order Date": [
         "Order Date"
        ],
        "Order Id": [
         "Order Id"
        ],
        "Product Id": [
         "Product Id"
        ],
        "Shipper Name": [
         "Shipper Name"
        ]
       },
       "Products": {
        "ProductCategory": [
         "ProductCategory"
        ],
        "ProductName": [
         "ProductName"
        ],
        "Supplier": [
         "Supplier"
        ]
       }
      },
      "text/html": [
       "<ul>\n",
       "<li>Dimensions\n",
       "  <ul>\n",
       "  <li>Orders\n",
       "    <ul>\n",
       "    <li>Order Date\n",
       "      <ol>\n",
       "      <li>Order Date</li>\n",
       "      </ol>    </li>\n",
       "    <li>Order Id\n",
       "      <ol>\n",
       "      <li>Order Id</li>\n",
       "      </ol>    </li>\n",
       "    <li>Product Id\n",
       "      <ol>\n",
       "      <li>Product Id</li>\n",
       "      </ol>    </li>\n",
       "    <li>Shipper Name\n",
       "      <ol>\n",
       "      <li>Shipper Name</li>\n",
       "      </ol>    </li>\n",
       "    </ul>\n",
       "  </li>\n",
       "  <li>Products\n",
       "    <ul>\n",
       "    <li>ProductCategory\n",
       "      <ol>\n",
       "      <li>ProductCategory</li>\n",
       "      </ol>    </li>\n",
       "    <li>ProductName\n",
       "      <ol>\n",
       "      <li>ProductName</li>\n",
       "      </ol>    </li>\n",
       "    <li>Supplier\n",
       "      <ol>\n",
       "      <li>Supplier</li>\n",
       "      </ol>    </li>\n",
       "    </ul>\n",
       "  </li>\n",
       "  </ul>\n",
       "</li>\n",
       "</ul>\n"
      ],
      "text/plain": [
       "{('Products', 'Supplier'): <atoti.hierarchy.Hierarchy object at 0x140732ef0>, ('Orders', 'Shipper Name'): <atoti.hierarchy.Hierarchy object at 0x140732980>, ('Products', 'ProductName'): <atoti.hierarchy.Hierarchy object at 0x140731930>, ('Orders', 'Order Date'): <atoti.hierarchy.Hierarchy object at 0x140731d50>, ('Orders', 'Order Id'): <atoti.hierarchy.Hierarchy object at 0x1405a2650>, ('Orders', 'Product Id'): <atoti.hierarchy.Hierarchy object at 0x1405a1f00>, ('Products', 'ProductCategory'): <atoti.hierarchy.Hierarchy object at 0x1405a3160>}"
      ]
     },
     "execution_count": 22,
     "metadata": {
      "application/json": {
       "expanded": true,
       "root": "Dimensions"
      }
     },
     "output_type": "execute_result"
    }
   ],
   "source": [
    "# we can use either `cube.hierarchies` or its alias `h` to view the hierarchies\n",
    "h"
   ]
  },
  {
   "cell_type": "markdown",
   "id": "bc4f756e-6180-4e06-834c-d8f83d5d94d0",
   "metadata": {},
   "source": [
    "A few key points:\n",
    "\n",
    "* The highest level of the tree consists of dimensions, which usually are the table names.  \n",
    "* The second level of the tree containing a list is the hierarchies.  \n",
    "* The list under the hierarchy contains the levels under that hierarchy. As we can see, the hierarchies contain 1 level each, indexed by 0."
   ]
  },
  {
   "cell_type": "markdown",
   "id": "0cd7a758-0689-4c8c-a49f-5075fada5c5a",
   "metadata": {},
   "source": [
    "Since `cube.hierarchies` is a list of hierarchy, we can access a specific hierarchy using its name as a key to the list."
   ]
  },
  {
   "cell_type": "code",
   "execution_count": 23,
   "id": "ce3afb1e-b5fe-41d9-b604-e54ffad58627",
   "metadata": {
    "tags": []
   },
   "outputs": [
    {
     "data": {
      "application/json": [
       "Order Date"
      ],
      "text/html": [
       "<ul>\n",
       "<li>Order Date\n",
       "  <ol>\n",
       "  <li>Order Date</li>\n",
       "  </ol></li>\n",
       "</ul>\n"
      ],
      "text/plain": [
       "<atoti.hierarchy.Hierarchy at 0x140757250>"
      ]
     },
     "execution_count": 23,
     "metadata": {
      "application/json": {
       "expanded": false,
       "root": "Order Date"
      }
     },
     "output_type": "execute_result"
    }
   ],
   "source": [
    "h[\"Order Date\"]"
   ]
  },
  {
   "cell_type": "markdown",
   "id": "2954f2f1-0e47-4b1e-9a05-0c65b379efbd",
   "metadata": {},
   "source": [
    "Similarly, we can view the levels either using `cube.levels` or its alias `l`:"
   ]
  },
  {
   "cell_type": "code",
   "execution_count": 24,
   "id": "b07a4f75-7fa8-45cf-b4f7-5d964028c8cf",
   "metadata": {
    "tags": []
   },
   "outputs": [
    {
     "data": {
      "application/json": {
       "Order Date (Orders/Order Date/Order Date)": {
        "dimension": "Orders",
        "hierarchy": "Order Date",
        "order": "NaturalOrder",
        "type": "LocalDate"
       },
       "Order Id (Orders/Order Id/Order Id)": {
        "dimension": "Orders",
        "hierarchy": "Order Id",
        "order": "NaturalOrder",
        "type": "String"
       },
       "Product Id (Orders/Product Id/Product Id)": {
        "dimension": "Orders",
        "hierarchy": "Product Id",
        "order": "NaturalOrder",
        "type": "String"
       },
       "ProductCategory (Products/ProductCategory/ProductCategory)": {
        "dimension": "Products",
        "hierarchy": "ProductCategory",
        "order": "NaturalOrder",
        "type": "String"
       },
       "ProductName (Products/ProductName/ProductName)": {
        "dimension": "Products",
        "hierarchy": "ProductName",
        "order": "NaturalOrder",
        "type": "String"
       },
       "Shipper Name (Orders/Shipper Name/Shipper Name)": {
        "dimension": "Orders",
        "hierarchy": "Shipper Name",
        "order": "NaturalOrder",
        "type": "String"
       },
       "Supplier (Products/Supplier/Supplier)": {
        "dimension": "Products",
        "hierarchy": "Supplier",
        "order": "NaturalOrder",
        "type": "String"
       }
      },
      "text/html": [
       "<ul>\n",
       "<li>Levels\n",
       "  <ul>\n",
       "  <li>Order Date (Orders/Order Date/Order Date)\n",
       "    <ul>\n",
       "    <li>dimension: Orders</li>\n",
       "    <li>hierarchy: Order Date</li>\n",
       "    <li>type: LocalDate</li>\n",
       "    <li>order: NaturalOrder</li>\n",
       "    </ul>\n",
       "  </li>\n",
       "  <li>Order Id (Orders/Order Id/Order Id)\n",
       "    <ul>\n",
       "    <li>dimension: Orders</li>\n",
       "    <li>hierarchy: Order Id</li>\n",
       "    <li>type: String</li>\n",
       "    <li>order: NaturalOrder</li>\n",
       "    </ul>\n",
       "  </li>\n",
       "  <li>Product Id (Orders/Product Id/Product Id)\n",
       "    <ul>\n",
       "    <li>dimension: Orders</li>\n",
       "    <li>hierarchy: Product Id</li>\n",
       "    <li>type: String</li>\n",
       "    <li>order: NaturalOrder</li>\n",
       "    </ul>\n",
       "  </li>\n",
       "  <li>ProductCategory (Products/ProductCategory/ProductCategory)\n",
       "    <ul>\n",
       "    <li>dimension: Products</li>\n",
       "    <li>hierarchy: ProductCategory</li>\n",
       "    <li>type: String</li>\n",
       "    <li>order: NaturalOrder</li>\n",
       "    </ul>\n",
       "  </li>\n",
       "  <li>ProductName (Products/ProductName/ProductName)\n",
       "    <ul>\n",
       "    <li>dimension: Products</li>\n",
       "    <li>hierarchy: ProductName</li>\n",
       "    <li>type: String</li>\n",
       "    <li>order: NaturalOrder</li>\n",
       "    </ul>\n",
       "  </li>\n",
       "  <li>Shipper Name (Orders/Shipper Name/Shipper Name)\n",
       "    <ul>\n",
       "    <li>dimension: Orders</li>\n",
       "    <li>hierarchy: Shipper Name</li>\n",
       "    <li>type: String</li>\n",
       "    <li>order: NaturalOrder</li>\n",
       "    </ul>\n",
       "  </li>\n",
       "  <li>Supplier (Products/Supplier/Supplier)\n",
       "    <ul>\n",
       "    <li>dimension: Products</li>\n",
       "    <li>hierarchy: Supplier</li>\n",
       "    <li>type: String</li>\n",
       "    <li>order: NaturalOrder</li>\n",
       "    </ul>\n",
       "  </li>\n",
       "  </ul>\n",
       "</li>\n",
       "</ul>\n"
      ],
      "text/plain": [
       "<atoti.levels.Levels at 0x140520430>"
      ]
     },
     "execution_count": 24,
     "metadata": {
      "application/json": {
       "expanded": true,
       "root": "Levels"
      }
     },
     "output_type": "execute_result"
    }
   ],
   "source": [
    "l"
   ]
  },
  {
   "cell_type": "markdown",
   "id": "981c1739-3559-416d-ab0f-5218b0b7f627",
   "metadata": {},
   "source": [
    "#### 6.2.1.1 Create multi-level hierarchies"
   ]
  },
  {
   "cell_type": "markdown",
   "id": "fcb458d7-5293-44e5-bc41-a3eda8f661c5",
   "metadata": {},
   "source": [
    "The advantages of having a multi-level hierarchy is that we will be able to control the way the levels are grouped and structured. This will in turn, allow us to determine how users navigate through the data in the cube.  \n",
    "\n",
    "⚠️ But, we have to be careful with multi-level hierarchies because we might end up with more than one level with the same name. This means that we have to determine the exact path of the location. We will come back to this in the next section.  \n",
    "\n",
    "<hr/>"
   ]
  },
  {
   "cell_type": "markdown",
   "id": "6621decd-3922-4928-9f01-515386f7108c",
   "metadata": {},
   "source": [
    "##### 6.2.1.1.1 List levels under hierarchy manually"
   ]
  },
  {
   "cell_type": "markdown",
   "id": "88be751d-e338-417e-90f1-fb94c9de8c75",
   "metadata": {},
   "source": [
    "`cube.hierarchies` is a list. We can create new hierarchy simply by adding a new key to the list, i.e. `Product Tree` and assigning it a list of levels in the correct order:"
   ]
  },
  {
   "cell_type": "code",
   "execution_count": 25,
   "id": "153c984f-0a49-4856-a08f-761e0999074d",
   "metadata": {
    "tags": []
   },
   "outputs": [],
   "source": [
    "cube.hierarchies[\"Product Tree\"] = [\n",
    "    product_tbl[\"ProductCategory\"],\n",
    "    product_tbl[\"ProductName\"],\n",
    "]"
   ]
  },
  {
   "cell_type": "markdown",
   "id": "87fa31db-8f48-46b1-8dbc-298b1cb49e5a",
   "metadata": {},
   "source": [
    "💡 The below snippet will give the same result as the above snippet:  \n",
    "\n",
    "* `cube.hierarchies[\"Product Tree\"] = [cube.levels[\"ProductCategory\"], cube.levels[\"ProductName\"]]`  \n",
    "\n",
    "and so will the following snippet which uses the alias:  \n",
    "\n",
    "* `h[\"Product Tree\"] = [l[\"ProductCategory\"], l[\"ProductName\"]]`  \n",
    "\n",
    "\n",
    "We can build multi-level hierarchies either by referring to the table column or using a level in the cube."
   ]
  },
  {
   "cell_type": "markdown",
   "id": "9669b843-74c8-4d34-b4fd-2f21f243de28",
   "metadata": {},
   "source": [
    "##### 6.2.1.1.2 Create date bucketing hierarchy with function"
   ]
  },
  {
   "cell_type": "markdown",
   "id": "d99e3616-f338-475c-9e47-0d399918ee34",
   "metadata": {},
   "source": [
    "If we have the date value broken into different columns containing the data components such as `Year`, `Month` and `Day`, we can create multilevel hierarchy date buckets using the method listed in section 6.2.1.1.1. However, a quicker way is to use the [`create_date_hierarchy`](https://docs.atoti.io/latest/api/atoti.Cube.create_date_hierarchy.html#atoti.Cube.create_date_hierarchy) function that allow us to split a date column into different date components.  "
   ]
  },
  {
   "cell_type": "code",
   "execution_count": 26,
   "id": "879e3c23-9d0d-4b82-b8ea-cf7e67c25029",
   "metadata": {
    "tags": []
   },
   "outputs": [],
   "source": [
    "cube.create_date_hierarchy(\n",
    "    \"Date Hierarchy\",\n",
    "    column=orders_tbl[\"Order Date\"],\n",
    "    levels={\"Year\": \"yyyy\", \"Month\": \"MM\"},\n",
    ")\n",
    "h[\"Date Hierarchy\"] = {\n",
    "    **h[\"Date Hierarchy\"].levels,\n",
    "    \"Order Date\": orders_tbl[\"Order Date\"],\n",
    "}"
   ]
  },
  {
   "cell_type": "markdown",
   "id": "5a912811-92b1-4e5b-82da-7bbdfdbb2e39",
   "metadata": {},
   "source": [
    "In the above example, we created another `Order Date` level that contains the same value as `Order Date` column, instead of creating a `Day` level that contains the day value. We will use the two `Order Date` levels to demonstrate how the same data under different hierarchies may have different behaviour during aggregation."
   ]
  },
  {
   "cell_type": "code",
   "execution_count": 27,
   "id": "d1300b71-d16c-4380-8f96-4d0b569d61d4",
   "metadata": {
    "atoti": {
     "height": 288,
     "widget": {
      "columnWidths": {
       "[Measures].[Quantity Sold.SUM]": 170,
       "[Measures].[Selling Price Per Unit.SUM]": 181
      },
      "mapping": {
       "columns": [
        "ALL_MEASURES"
       ],
       "measures": [
        "[Measures].[Selling Price Per Unit.SUM]",
        "[Measures].[Quantity Sold.SUM]"
       ],
       "rows": [
        "[Orders].[Date Hierarchy].[Month] => [Orders].[Date Hierarchy].[Order Date]"
       ]
      },
      "name": "Date bucketing",
      "query": {
       "mdx": "SELECT NON EMPTY Hierarchize(Union(Descendants({[Orders].[Date Hierarchy].[AllMember]}, 2, SELF_AND_BEFORE), Descendants({[Orders].[Date Hierarchy].[AllMember].[2019].[02]}, [Orders].[Date Hierarchy].[Order Date]))) ON ROWS, NON EMPTY {[Measures].[Selling Price Per Unit.SUM], [Measures].[Quantity Sold.SUM]} ON COLUMNS FROM [Order Cube] CELL PROPERTIES VALUE, FORMATTED_VALUE, BACK_COLOR, FORE_COLOR, FONT_FLAGS",
       "updateMode": "once"
      },
      "serverKey": "default",
      "widgetKey": "pivot-table"
     }
    },
    "tags": []
   },
   "outputs": [
    {
     "data": {
      "application/vnd.atoti.widget.v0+json": {
       "sessionId": "1711997508_QWJ8UN",
       "sessionLocation": {
        "https": false,
        "port": 9092
       },
       "widgetCreationCode": "session.widget"
      },
      "text/html": [
       "<img height=\"280\" width=\"1157\" src=\"data:image/png;base64,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\" />"
      ],
      "text/plain": [
       "Open the notebook in JupyterLab with the Atoti JupyterLab extension enabled to build this widget."
      ]
     },
     "metadata": {},
     "output_type": "display_data"
    }
   ],
   "source": [
    "session.widget"
   ]
  },
  {
   "cell_type": "markdown",
   "id": "81c77548-a512-4788-914b-342ad0bd4fc2",
   "metadata": {},
   "source": [
    "#### 📐Exercise  \n",
    "\n",
    "Review the hierarchies again."
   ]
  },
  {
   "cell_type": "markdown",
   "id": "ef3f69db-2f11-4177-a967-cce15f77f423",
   "metadata": {
    "tags": []
   },
   "source": [
    "#### 📖 Solution  \n",
    "\n",
    "`cube.hierarchies` or `h`."
   ]
  },
  {
   "cell_type": "code",
   "execution_count": 28,
   "id": "7ddf236d-f86b-4f28-aa04-44da1043384b",
   "metadata": {},
   "outputs": [
    {
     "data": {
      "application/json": {
       "Orders": {
        "Date Hierarchy": [
         "Year",
         "Month",
         "Order Date"
        ],
        "Order Date": [
         "Order Date"
        ],
        "Order Id": [
         "Order Id"
        ],
        "Product Id": [
         "Product Id"
        ],
        "Shipper Name": [
         "Shipper Name"
        ]
       },
       "Products": {
        "Product Tree": [
         "ProductCategory",
         "ProductName"
        ],
        "ProductCategory": [
         "ProductCategory"
        ],
        "ProductName": [
         "ProductName"
        ],
        "Supplier": [
         "Supplier"
        ]
       }
      },
      "text/html": [
       "<ul>\n",
       "<li>Dimensions\n",
       "  <ul>\n",
       "  <li>Orders\n",
       "    <ul>\n",
       "    <li>Date Hierarchy\n",
       "      <ol>\n",
       "      <li>Year</li>\n",
       "      <li>Month</li>\n",
       "      <li>Order Date</li>\n",
       "      </ol>    </li>\n",
       "    <li>Order Date\n",
       "      <ol>\n",
       "      <li>Order Date</li>\n",
       "      </ol>    </li>\n",
       "    <li>Order Id\n",
       "      <ol>\n",
       "      <li>Order Id</li>\n",
       "      </ol>    </li>\n",
       "    <li>Product Id\n",
       "      <ol>\n",
       "      <li>Product Id</li>\n",
       "      </ol>    </li>\n",
       "    <li>Shipper Name\n",
       "      <ol>\n",
       "      <li>Shipper Name</li>\n",
       "      </ol>    </li>\n",
       "    </ul>\n",
       "  </li>\n",
       "  <li>Products\n",
       "    <ul>\n",
       "    <li>Product Tree\n",
       "      <ol>\n",
       "      <li>ProductCategory</li>\n",
       "      <li>ProductName</li>\n",
       "      </ol>    </li>\n",
       "    <li>ProductCategory\n",
       "      <ol>\n",
       "      <li>ProductCategory</li>\n",
       "      </ol>    </li>\n",
       "    <li>ProductName\n",
       "      <ol>\n",
       "      <li>ProductName</li>\n",
       "      </ol>    </li>\n",
       "    <li>Supplier\n",
       "      <ol>\n",
       "      <li>Supplier</li>\n",
       "      </ol>    </li>\n",
       "    </ul>\n",
       "  </li>\n",
       "  </ul>\n",
       "</li>\n",
       "</ul>\n"
      ],
      "text/plain": [
       "{('Products', 'Supplier'): <atoti.hierarchy.Hierarchy object at 0x14077c430>, ('Orders', 'Shipper Name'): <atoti.hierarchy.Hierarchy object at 0x14077c580>, ('Products', 'ProductName'): <atoti.hierarchy.Hierarchy object at 0x14077c670>, ('Orders', 'Order Date'): <atoti.hierarchy.Hierarchy object at 0x14077c760>, ('Orders', 'Order Id'): <atoti.hierarchy.Hierarchy object at 0x14077c850>, ('Orders', 'Product Id'): <atoti.hierarchy.Hierarchy object at 0x14077c940>, ('Orders', 'Date Hierarchy'): <atoti.hierarchy.Hierarchy object at 0x14077ca30>, ('Products', 'ProductCategory'): <atoti.hierarchy.Hierarchy object at 0x14077cb20>, ('Products', 'Product Tree'): <atoti.hierarchy.Hierarchy object at 0x14077cd90>}"
      ]
     },
     "execution_count": 28,
     "metadata": {
      "application/json": {
       "expanded": true,
       "root": "Dimensions"
      }
     },
     "output_type": "execute_result"
    }
   ],
   "source": [
    "h"
   ]
  },
  {
   "cell_type": "markdown",
   "id": "025435a9-5d1d-45b1-b20b-e03bfd4d161f",
   "metadata": {
    "tags": []
   },
   "source": [
    "We can see from the tree above, we now have 2 levels with the same name `ProductName` and also another 2 levels with the name `Order Date`."
   ]
  },
  {
   "cell_type": "markdown",
   "id": "afe328f5-88ed-4c64-b6ef-129d0bc3df3b",
   "metadata": {},
   "source": [
    "#### 6.2.1.2 Access levels that exist under more than one hierarchy"
   ]
  },
  {
   "cell_type": "markdown",
   "id": "87498297-9bd8-4035-a7bf-e8e5db25b0d1",
   "metadata": {},
   "source": [
    "When we create a multi-level hierarchy using a column that has an existing level, there are now levels with the same name but under different hierarchies. Therefore, we cannot identify the level using its name as a key."
   ]
  },
  {
   "cell_type": "code",
   "execution_count": 29,
   "id": "e19705a0-54bf-4aeb-90e1-4a94be7b5450",
   "metadata": {
    "tags": []
   },
   "outputs": [
    {
     "ename": "KeyError",
     "evalue": "'An error occurred while calling o1290.findLevelHierarchy.\\n: com.activeviam.fwk.ActiveViamRuntimeException: Levels named `ProductName` are present in several hierarchies: [(`Products`, `ProductName`), (`Products`, `Product Tree`)]. Specify the hierarchy name (and the dimension if necessary).\\n\\tat io.atoti.api.impl.OutsideTransactionApiImpl.findLevelHierarchy(OutsideTransactionApiImpl.java:222)\\n\\tat java.base/jdk.internal.reflect.NativeMethodAccessorImpl.invoke0(Native Method)\\n\\tat java.base/jdk.internal.reflect.NativeMethodAccessorImpl.invoke(Unknown Source)\\n\\tat java.base/jdk.internal.reflect.DelegatingMethodAccessorImpl.invoke(Unknown Source)\\n\\tat java.base/java.lang.reflect.Method.invoke(Unknown Source)\\n\\tat py4j.reflection.MethodInvoker.invoke(MethodInvoker.java:244)\\n\\tat py4j.reflection.ReflectionEngine.invoke(ReflectionEngine.java:357)\\n\\tat py4j.Gateway.invoke(Gateway.java:282)\\n\\tat py4j.commands.AbstractCommand.invokeMethod(AbstractCommand.java:132)\\n\\tat py4j.commands.CallCommand.execute(CallCommand.java:79)\\n\\tat py4j.ClientServerConnection.waitForCommands(ClientServerConnection.java:182)\\n\\tat py4j.ClientServerConnection.run(ClientServerConnection.java:106)\\n\\tat java.base/java.lang.Thread.run(Unknown Source)\\n'",
     "output_type": "error",
     "traceback": [
      "\u001b[0;31m---------------------------------------------------------------------------\u001b[0m",
      "\u001b[0;31mKeyError\u001b[0m                                  Traceback (most recent call last)",
      "Cell \u001b[0;32mIn[29], line 1\u001b[0m\n\u001b[0;32m----> 1\u001b[0m \u001b[43ml\u001b[49m\u001b[43m[\u001b[49m\u001b[38;5;124;43m\"\u001b[39;49m\u001b[38;5;124;43mProductName\u001b[39;49m\u001b[38;5;124;43m\"\u001b[39;49m\u001b[43m]\u001b[49m\n",
      "File \u001b[0;32m~/anaconda3/envs/atoti-0.8.11/lib/python3.10/site-packages/pydantic/validate_call_decorator.py:58\u001b[0m, in \u001b[0;36mvalidate_call.<locals>.validate.<locals>.wrapper_function\u001b[0;34m(*args, **kwargs)\u001b[0m\n\u001b[1;32m     56\u001b[0m \u001b[38;5;129m@functools\u001b[39m\u001b[38;5;241m.\u001b[39mwraps(function)\n\u001b[1;32m     57\u001b[0m \u001b[38;5;28;01mdef\u001b[39;00m \u001b[38;5;21mwrapper_function\u001b[39m(\u001b[38;5;241m*\u001b[39margs, \u001b[38;5;241m*\u001b[39m\u001b[38;5;241m*\u001b[39mkwargs):\n\u001b[0;32m---> 58\u001b[0m     \u001b[38;5;28;01mreturn\u001b[39;00m \u001b[43mvalidate_call_wrapper\u001b[49m\u001b[43m(\u001b[49m\u001b[38;5;241;43m*\u001b[39;49m\u001b[43margs\u001b[49m\u001b[43m,\u001b[49m\u001b[43m \u001b[49m\u001b[38;5;241;43m*\u001b[39;49m\u001b[38;5;241;43m*\u001b[39;49m\u001b[43mkwargs\u001b[49m\u001b[43m)\u001b[49m\n",
      "File \u001b[0;32m~/anaconda3/envs/atoti-0.8.11/lib/python3.10/site-packages/pydantic/_internal/_validate_call.py:81\u001b[0m, in \u001b[0;36mValidateCallWrapper.__call__\u001b[0;34m(self, *args, **kwargs)\u001b[0m\n\u001b[1;32m     80\u001b[0m \u001b[38;5;28;01mdef\u001b[39;00m \u001b[38;5;21m__call__\u001b[39m(\u001b[38;5;28mself\u001b[39m, \u001b[38;5;241m*\u001b[39margs: Any, \u001b[38;5;241m*\u001b[39m\u001b[38;5;241m*\u001b[39mkwargs: Any) \u001b[38;5;241m-\u001b[39m\u001b[38;5;241m>\u001b[39m Any:\n\u001b[0;32m---> 81\u001b[0m     res \u001b[38;5;241m=\u001b[39m \u001b[38;5;28;43mself\u001b[39;49m\u001b[38;5;241;43m.\u001b[39;49m\u001b[43m__pydantic_validator__\u001b[49m\u001b[38;5;241;43m.\u001b[39;49m\u001b[43mvalidate_python\u001b[49m\u001b[43m(\u001b[49m\u001b[43mpydantic_core\u001b[49m\u001b[38;5;241;43m.\u001b[39;49m\u001b[43mArgsKwargs\u001b[49m\u001b[43m(\u001b[49m\u001b[43margs\u001b[49m\u001b[43m,\u001b[49m\u001b[43m \u001b[49m\u001b[43mkwargs\u001b[49m\u001b[43m)\u001b[49m\u001b[43m)\u001b[49m\n\u001b[1;32m     82\u001b[0m     \u001b[38;5;28;01mif\u001b[39;00m \u001b[38;5;28mself\u001b[39m\u001b[38;5;241m.\u001b[39m__return_pydantic_validator__:\n\u001b[1;32m     83\u001b[0m         \u001b[38;5;28;01mreturn\u001b[39;00m \u001b[38;5;28mself\u001b[39m\u001b[38;5;241m.\u001b[39m__return_pydantic_validator__(res)\n",
      "File \u001b[0;32m~/anaconda3/envs/atoti-0.8.11/lib/python3.10/site-packages/atoti_core/base_levels.py:51\u001b[0m, in \u001b[0;36mBaseLevels.__getitem__\u001b[0;34m(self, key)\u001b[0m\n\u001b[1;32m     49\u001b[0m \u001b[38;5;250m\u001b[39m\u001b[38;5;124;03m\"\"\"Return the level with the given key.\"\"\"\u001b[39;00m\n\u001b[1;32m     50\u001b[0m \u001b[38;5;28;01mif\u001b[39;00m \u001b[38;5;28misinstance\u001b[39m(key, \u001b[38;5;28mstr\u001b[39m):\n\u001b[0;32m---> 51\u001b[0m     \u001b[38;5;28;01mreturn\u001b[39;00m \u001b[38;5;28;43mself\u001b[39;49m\u001b[38;5;241;43m.\u001b[39;49m\u001b[43m_find_level\u001b[49m\u001b[43m(\u001b[49m\u001b[43mkey\u001b[49m\u001b[43m)\u001b[49m\n\u001b[1;32m     53\u001b[0m \u001b[38;5;28;01mif\u001b[39;00m \u001b[38;5;28mlen\u001b[39m(key) \u001b[38;5;241m==\u001b[39m \u001b[38;5;241m2\u001b[39m:  \u001b[38;5;66;03m# noqa: PLR2004\u001b[39;00m\n\u001b[1;32m     54\u001b[0m     \u001b[38;5;28;01mreturn\u001b[39;00m \u001b[38;5;28mself\u001b[39m\u001b[38;5;241m.\u001b[39m_find_level(key[\u001b[38;5;241m1\u001b[39m], hierarchy_name\u001b[38;5;241m=\u001b[39mkey[\u001b[38;5;241m0\u001b[39m])\n",
      "File \u001b[0;32m~/anaconda3/envs/atoti-0.8.11/lib/python3.10/site-packages/atoti/levels.py:42\u001b[0m, in \u001b[0;36mLevels._find_level\u001b[0;34m(self, level_name, dimension_name, hierarchy_name)\u001b[0m\n\u001b[1;32m     35\u001b[0m     hierarchy_argument \u001b[38;5;241m=\u001b[39m \u001b[38;5;28mself\u001b[39m\u001b[38;5;241m.\u001b[39m_hierarchies\u001b[38;5;241m.\u001b[39m_java_api\u001b[38;5;241m.\u001b[39mfind_level_hierarchy(\n\u001b[1;32m     36\u001b[0m         level_name,\n\u001b[1;32m     37\u001b[0m         cube_name\u001b[38;5;241m=\u001b[39m\u001b[38;5;28mself\u001b[39m\u001b[38;5;241m.\u001b[39m_hierarchies\u001b[38;5;241m.\u001b[39m_cube_name,\n\u001b[1;32m     38\u001b[0m         dimension_name\u001b[38;5;241m=\u001b[39mdimension_name,\n\u001b[1;32m     39\u001b[0m         hierarchy_name\u001b[38;5;241m=\u001b[39mhierarchy_name,\n\u001b[1;32m     40\u001b[0m     )\n\u001b[1;32m     41\u001b[0m \u001b[38;5;28;01mexcept\u001b[39;00m Py4JError \u001b[38;5;28;01mas\u001b[39;00m error:\n\u001b[0;32m---> 42\u001b[0m     \u001b[38;5;28;01mraise\u001b[39;00m \u001b[38;5;167;01mKeyError\u001b[39;00m(\u001b[38;5;28mstr\u001b[39m(error)) \u001b[38;5;28;01mfrom\u001b[39;00m \u001b[38;5;28;01mNone\u001b[39;00m\n\u001b[1;32m     43\u001b[0m hierarchy \u001b[38;5;241m=\u001b[39m \u001b[38;5;28mself\u001b[39m\u001b[38;5;241m.\u001b[39m_hierarchies\u001b[38;5;241m.\u001b[39m_create_hierarchy_from_arguments(\n\u001b[1;32m     44\u001b[0m     hierarchy_argument\n\u001b[1;32m     45\u001b[0m )\n\u001b[1;32m     46\u001b[0m \u001b[38;5;28;01mreturn\u001b[39;00m hierarchy\u001b[38;5;241m.\u001b[39mlevels[level_name]\n",
      "\u001b[0;31mKeyError\u001b[0m: 'An error occurred while calling o1290.findLevelHierarchy.\\n: com.activeviam.fwk.ActiveViamRuntimeException: Levels named `ProductName` are present in several hierarchies: [(`Products`, `ProductName`), (`Products`, `Product Tree`)]. Specify the hierarchy name (and the dimension if necessary).\\n\\tat io.atoti.api.impl.OutsideTransactionApiImpl.findLevelHierarchy(OutsideTransactionApiImpl.java:222)\\n\\tat java.base/jdk.internal.reflect.NativeMethodAccessorImpl.invoke0(Native Method)\\n\\tat java.base/jdk.internal.reflect.NativeMethodAccessorImpl.invoke(Unknown Source)\\n\\tat java.base/jdk.internal.reflect.DelegatingMethodAccessorImpl.invoke(Unknown Source)\\n\\tat java.base/java.lang.reflect.Method.invoke(Unknown Source)\\n\\tat py4j.reflection.MethodInvoker.invoke(MethodInvoker.java:244)\\n\\tat py4j.reflection.ReflectionEngine.invoke(ReflectionEngine.java:357)\\n\\tat py4j.Gateway.invoke(Gateway.java:282)\\n\\tat py4j.commands.AbstractCommand.invokeMethod(AbstractCommand.java:132)\\n\\tat py4j.commands.CallCommand.execute(CallCommand.java:79)\\n\\tat py4j.ClientServerConnection.waitForCommands(ClientServerConnection.java:182)\\n\\tat py4j.ClientServerConnection.run(ClientServerConnection.java:106)\\n\\tat java.base/java.lang.Thread.run(Unknown Source)\\n'"
     ]
    }
   ],
   "source": [
    "l[\"ProductName\"]"
   ]
  },
  {
   "cell_type": "markdown",
   "id": "a909d43a-22d0-4961-9708-039132b9b6b6",
   "metadata": {
    "tags": []
   },
   "source": [
    "Although the two levels of `ProductName` originated from the same data column, we have go through different hierarchy (sometimes different dimension) to reach each of them. The application will not know from which hierarchy it should access the level from.  \n",
    "\n",
    "<img src=\"https://data.atoti.io/atoti-academy/images/introduction/6_locate_level.png\" width=\"800px\" />\n",
    "\n",
    "As seen in the diagram above, to help us identify the exact level that we are targeting, we should indicate the path to the level as a tuple that comprises of __`(dimension, Hierarchy, level)`__."
   ]
  },
  {
   "cell_type": "code",
   "execution_count": 30,
   "id": "2f3df171-cc0b-48b7-94df-4bd4da058d7e",
   "metadata": {
    "tags": []
   },
   "outputs": [
    {
     "data": {
      "application/json": {
       "dimension": "Products",
       "hierarchy": "Product Tree",
       "order": "NaturalOrder",
       "type": "String"
      },
      "text/html": [
       "<ul>\n",
       "<li>ProductName\n",
       "  <ul>\n",
       "  <li>dimension: Products</li>\n",
       "  <li>hierarchy: Product Tree</li>\n",
       "  <li>type: String</li>\n",
       "  <li>order: NaturalOrder</li>\n",
       "  </ul>\n",
       "</li>\n",
       "</ul>\n"
      ],
      "text/plain": [
       "<atoti.level.Level at 0x1404888b0>"
      ]
     },
     "execution_count": 30,
     "metadata": {
      "application/json": {
       "expanded": true,
       "root": "ProductName"
      }
     },
     "output_type": "execute_result"
    }
   ],
   "source": [
    "# ProductName under the multi-level hierarchy that we just created\n",
    "l[(\"Products\", \"Product Tree\", \"ProductName\")]"
   ]
  },
  {
   "cell_type": "markdown",
   "id": "162433be-7a64-4bfd-850e-4b01ed59fa8a",
   "metadata": {},
   "source": [
    "We will see in Section 6.2.2 later on, how understanding the hierarchies and levels will help us in crafting our measure definitions.  "
   ]
  },
  {
   "cell_type": "markdown",
   "id": "45005377-6194-4f98-8b4c-ee3ecc51b207",
   "metadata": {},
   "source": [
    "#### 📐Exercise  \n",
    "\n",
    "Try accessing the other level named `ProductName` under (`Products`, `ProductName`)."
   ]
  },
  {
   "cell_type": "markdown",
   "id": "aa20261e-829f-4543-9545-076fd43f3d31",
   "metadata": {},
   "source": [
    "#### 📖 Solution\n",
    "\n",
    "`cube.levels[(\"Products\", \"ProductName\", \"ProductName\")]`\n",
    "\n",
    "or \n",
    "\n",
    "`l[(\"Products\", \"ProductName\", \"ProductName\")]`"
   ]
  },
  {
   "cell_type": "code",
   "execution_count": 31,
   "id": "ee00d34f-1753-4fd5-b28b-f34135c7c2c5",
   "metadata": {},
   "outputs": [
    {
     "data": {
      "application/json": {
       "dimension": "Products",
       "hierarchy": "ProductName",
       "order": "NaturalOrder",
       "type": "String"
      },
      "text/html": [
       "<ul>\n",
       "<li>ProductName\n",
       "  <ul>\n",
       "  <li>dimension: Products</li>\n",
       "  <li>hierarchy: ProductName</li>\n",
       "  <li>type: String</li>\n",
       "  <li>order: NaturalOrder</li>\n",
       "  </ul>\n",
       "</li>\n",
       "</ul>\n"
      ],
      "text/plain": [
       "<atoti.level.Level at 0x1405a3970>"
      ]
     },
     "execution_count": 31,
     "metadata": {
      "application/json": {
       "expanded": true,
       "root": "ProductName"
      }
     },
     "output_type": "execute_result"
    }
   ],
   "source": [
    "l[(\"Products\", \"ProductName\", \"ProductName\")]"
   ]
  },
  {
   "cell_type": "markdown",
   "id": "6bd66eff-deec-4dda-be40-f0a4cecd5edb",
   "metadata": {
    "tags": []
   },
   "source": [
    "#### 6.2.1.3 Single-level vs multi-level hierarchies\n",
    "\n",
    "To understand the difference between the two, we are going to jump ahead to visualization to explore the data.  "
   ]
  },
  {
   "cell_type": "markdown",
   "id": "6379c268-15c5-4e11-a65f-ef5efa662100",
   "metadata": {},
   "source": [
    "##### 6.2.1.3.1 Single-level hierarchies  \n",
    "\n",
    "Let's looks at the data with single-level hierarchies first.  "
   ]
  },
  {
   "cell_type": "code",
   "execution_count": 32,
   "id": "3792ce21-37be-4e71-b23a-8a5f7b845fb4",
   "metadata": {
    "atoti": {
     "widget": {
      "columnWidths": {
       "[Measures].[contributors.COUNT]": 140,
       "[Products].[Product Tree].[ProductCategory]": 122,
       "[Products].[ProductName].[ProductName]": 209
      },
      "mapping": {
       "columns": [
        "ALL_MEASURES"
       ],
       "measures": [
        "[Measures].[contributors.COUNT]"
       ],
       "rows": [
        "[Products].[Product Tree].[ProductCategory]",
        "[Products].[ProductName].[ProductName]"
       ]
      },
      "query": {
       "mdx": "SELECT NON EMPTY {[Measures].[contributors.COUNT]} ON COLUMNS, NON EMPTY Crossjoin(Hierarchize(Descendants({[Products].[Product Tree].[ALL].[AllMember]}, 1, SELF_AND_BEFORE)), Hierarchize(Descendants({[Products].[ProductName].[ALL].[AllMember]}, 1, SELF_AND_BEFORE))) ON ROWS FROM [Order Cube] CELL PROPERTIES VALUE, FORMATTED_VALUE, BACK_COLOR, FORE_COLOR, FONT_FLAGS",
       "updateMode": "once"
      },
      "serverKey": "default",
      "widgetKey": "pivot-table"
     }
    },
    "tags": []
   },
   "outputs": [
    {
     "data": {
      "application/vnd.atoti.widget.v0+json": {
       "sessionId": "1711997508_QWJ8UN",
       "sessionLocation": {
        "https": false,
        "port": 9092
       },
       "widgetCreationCode": "session.widget"
      },
      "text/html": [
       "<img height=\"352\" width=\"1157\" src=\"data:image/png;base64,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\" />"
      ],
      "text/plain": [
       "Open the notebook in JupyterLab with the Atoti JupyterLab extension enabled to build this widget."
      ]
     },
     "metadata": {},
     "output_type": "display_data"
    }
   ],
   "source": [
    "session.widget"
   ]
  },
  {
   "cell_type": "markdown",
   "id": "46e358b4-7077-458f-89d7-1394f2305355",
   "metadata": {},
   "source": [
    "With single-level hierarchies, we have to add each required levels individually. This gives users the flexibility in the ordering of the levels they want to see. We can easily switch the query order from `ProductName`→`ProductCategory` to the reverse `ProductCategory`→`ProductName` using the Atoti JupyterLab extension on the right:  \n",
    "\n",
    "<img src=\"https://data.atoti.io/atoti-academy/images/introduction/6_Atoti_extension.png\" />"
   ]
  },
  {
   "cell_type": "markdown",
   "id": "6fc67351-1db3-437d-b596-5c578da9e58d",
   "metadata": {},
   "source": [
    "💡`contributors.COUNT` returns the number of underlying facts (or rows of data) contributing to the corresponding level. "
   ]
  },
  {
   "cell_type": "markdown",
   "id": "3499c662-98cc-47d8-b7c7-b707d237370b",
   "metadata": {},
   "source": [
    "##### 6.2.1.3.2 Multi-level hierarchies\n",
    "\n",
    "In the below table, we added the hierarchy `Product Tree` to the table. The top displayed level is `ProductCategory` and it allows us to drill-down to the `ProductName` level as per the order we defined in our list above. Users cannot insert any levels in between the levels we have defined."
   ]
  },
  {
   "cell_type": "code",
   "execution_count": 33,
   "id": "2a815328-4772-44cc-90e8-905ee64eb134",
   "metadata": {
    "atoti": {
     "height": 318,
     "widget": {
      "columnWidths": {
       "[Measures].[contributors.COUNT]": 131,
       "[Products].[Product Tree].[ProductName]": 194
      },
      "mapping": {
       "columns": [
        "ALL_MEASURES"
       ],
       "measures": [
        "[Measures].[contributors.COUNT]"
       ],
       "rows": [
        "[Products].[Product Tree].[ProductCategory]"
       ]
      },
      "name": "Multi-level hierarchies",
      "query": {
       "mdx": "SELECT NON EMPTY {[Measures].[contributors.COUNT]} ON COLUMNS, NON EMPTY Hierarchize(Descendants({[Products].[Product Tree].[ALL].[AllMember]}, 1, SELF_AND_BEFORE)) ON ROWS FROM [Order Cube] CELL PROPERTIES VALUE, FORMATTED_VALUE, BACK_COLOR, FORE_COLOR, FONT_FLAGS",
       "updateMode": "once"
      },
      "serverKey": "default",
      "widgetKey": "pivot-table"
     }
    },
    "tags": []
   },
   "outputs": [
    {
     "data": {
      "application/vnd.atoti.widget.v0+json": {
       "sessionId": "1711997508_QWJ8UN",
       "sessionLocation": {
        "https": false,
        "port": 9092
       },
       "widgetCreationCode": "session.widget"
      },
      "text/html": [
       "<img height=\"310\" width=\"1157\" src=\"data:image/png;base64,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\" />"
      ],
      "text/plain": [
       "Open the notebook in JupyterLab with the Atoti JupyterLab extension enabled to build this widget."
      ]
     },
     "metadata": {},
     "output_type": "display_data"
    }
   ],
   "source": [
    "session.widget"
   ]
  },
  {
   "cell_type": "markdown",
   "id": "6b2a2c56-5239-48f3-9b99-bd08234c28b9",
   "metadata": {},
   "source": [
    "With multi-level hierarchies, the order of querying is pre-defined. It helps users to follow through the relationship of facts."
   ]
  },
  {
   "cell_type": "markdown",
   "id": "72876bd5-d25e-42c9-a7f0-e683089ae0b1",
   "metadata": {},
   "source": [
    "### 6.2.2 Measures"
   ]
  },
  {
   "cell_type": "markdown",
   "id": "83457229-51f7-4c3a-adbc-3b617e102d5c",
   "metadata": {},
   "source": [
    "Measures are numerical data/metrics that are analyzed and compared across dimension in order to gain insights and make informed decisions.  \n",
    "\n",
    "Below are the measures that are automatically created during cube creation. For each numerical column in the base table, corresponding `MEAN` and `SUM` measures are created. We will have to create measures for referenced table where necessary.   "
   ]
  },
  {
   "cell_type": "code",
   "execution_count": 34,
   "id": "39f284ef-7bcb-4cbb-9f18-47b996a8759b",
   "metadata": {
    "tags": []
   },
   "outputs": [
    {
     "data": {
      "application/json": {
       "Quantity Sold.MEAN": {
        "formatter": "DOUBLE[#,###.00]"
       },
       "Quantity Sold.SUM": {
        "formatter": "INT[#,###]"
       },
       "Selling Price Per Unit.MEAN": {
        "formatter": "DOUBLE[#,###.00]"
       },
       "Selling Price Per Unit.SUM": {
        "formatter": "DOUBLE[#,###.00]"
       },
       "contributors.COUNT": {
        "formatter": "INT[#,###]"
       }
      },
      "text/html": [
       "<ul>\n",
       "<li>Measures\n",
       "  <ul>\n",
       "  <li>Quantity Sold.MEAN\n",
       "    <ul>\n",
       "    <li>formatter: DOUBLE[#,###.00]</li>\n",
       "    </ul>\n",
       "  </li>\n",
       "  <li>Quantity Sold.SUM\n",
       "    <ul>\n",
       "    <li>formatter: INT[#,###]</li>\n",
       "    </ul>\n",
       "  </li>\n",
       "  <li>Selling Price Per Unit.MEAN\n",
       "    <ul>\n",
       "    <li>formatter: DOUBLE[#,###.00]</li>\n",
       "    </ul>\n",
       "  </li>\n",
       "  <li>Selling Price Per Unit.SUM\n",
       "    <ul>\n",
       "    <li>formatter: DOUBLE[#,###.00]</li>\n",
       "    </ul>\n",
       "  </li>\n",
       "  <li>contributors.COUNT\n",
       "    <ul>\n",
       "    <li>formatter: INT[#,###]</li>\n",
       "    </ul>\n",
       "  </li>\n",
       "  </ul>\n",
       "</li>\n",
       "</ul>\n"
      ],
      "text/plain": [
       "{'contributors.COUNT': <atoti.measure.Measure object at 0x1405a2620>, 'update.TIMESTAMP': <atoti.measure.Measure object at 0x1405a2530>, 'Quantity Sold.SUM': <atoti.measure.Measure object at 0x1405a3d60>, 'Quantity Sold.MEAN': <atoti.measure.Measure object at 0x1405a1b40>, 'Selling Price Per Unit.SUM': <atoti.measure.Measure object at 0x1405a1cf0>, 'Selling Price Per Unit.MEAN': <atoti.measure.Measure object at 0x1405a3190>}"
      ]
     },
     "execution_count": 34,
     "metadata": {
      "application/json": {
       "expanded": false,
       "root": "Measures"
      }
     },
     "output_type": "execute_result"
    }
   ],
   "source": [
    "cube.measures"
   ]
  },
  {
   "cell_type": "markdown",
   "id": "d798a594-7fe6-404b-b857-196b8a87ea8b",
   "metadata": {},
   "source": [
    "Atoti has a range of [aggregation functions](https://docs.atoti.io/latest/api/atoti.agg.html). Let's spend some time to understand measures and what we can do with them:   \n",
    "\n",
    "- [6.2.2.1 Create measures from table](#6.2.2.1.-Create-measures-from-table)\n",
    "- [6.2.2.2 Chain up measures](#6.2.2.2-Chain-up-measures)\n",
    "- [6.2.2.3 Prevent aggregation above a given level](#6.2.2.3-Prevent-aggregation-above-a-given-level)\n",
    "- [6.2.2.4 Understand measure scope](#6.2.2.4-Understand-measure-scope)\n",
    "- [6.2.2.5 Format measures](#6.2.2.5-Format-measures)"
   ]
  },
  {
   "cell_type": "markdown",
   "id": "800b0e15-9497-4338-b166-30c981518271",
   "metadata": {},
   "source": [
    "#### 6.2.2.1 Create measures from table"
   ]
  },
  {
   "cell_type": "markdown",
   "id": "e74fc624-de2c-4295-8cc6-4c95e0be2d34",
   "metadata": {},
   "source": [
    "`cube.measures` is a list of measure. We can create a new measure by adding a new key to the list, e.g. \n",
    "- `Selling Price Per Unit`,  \n",
    "- `PurchasingPricePerUnit`\n",
    "- `PurchasingPricePerUnit.SUM` \n",
    "- `PurchasingPricePerUnit.MEAN` \n",
    "in the below examples and formulate their definitions.  \n",
    "\n",
    "💡 Note that `Selling Price Per Unit.SUM` and `Selling Price Per Unit.MEAN` were automatically created during cube creation."
   ]
  },
  {
   "cell_type": "code",
   "execution_count": 35,
   "id": "70fb556b-8cfc-4eac-95c3-7beefa080204",
   "metadata": {
    "tags": []
   },
   "outputs": [],
   "source": [
    "# single value\n",
    "cube.measures[\"Selling Price Per Unit\"] = tt.agg.single_value(\n",
    "    orders_tbl[\"Selling Price Per Unit\"]\n",
    ")\n",
    "# single value\n",
    "cube.measures[\"PurchasingPricePerUnit\"] = tt.agg.single_value(\n",
    "    product_tbl[\"PurchasingPricePerUnit\"]\n",
    ")\n",
    "# summation\n",
    "cube.measures[\"PurchasingPricePerUnit.SUM\"] = tt.agg.sum(\n",
    "    product_tbl[\"PurchasingPricePerUnit\"]\n",
    ")\n",
    "# average\n",
    "cube.measures[\"PurchasingPricePerUnit.MEAN\"] = tt.agg.mean(\n",
    "    product_tbl[\"PurchasingPricePerUnit\"]\n",
    ")"
   ]
  },
  {
   "cell_type": "markdown",
   "id": "69cd45dc-3e65-4d82-b54e-81a1ebcd03cb",
   "metadata": {},
   "source": [
    "💡We can alternatively use the alias `m` instead of `cube.measures` for the above."
   ]
  },
  {
   "cell_type": "markdown",
   "id": "45de3fb5-4386-4ba9-986e-28519323053c",
   "metadata": {},
   "source": [
    "`PurchasingPricePerUnit.SUM` and `PurchasingPricePerUnit.MEAN` is similar to the `SUM` and `MEAN` measures that are automatically created by the cube. It aggregates the value along the queried levels. Refer to the type of [aggregation functions](https://docs.atoti.io/latest/api/atoti.agg.html) available from [Atoti documentation](https://docs.atoti.io/latest/index.html).\n",
    "\n",
    "As for the measures `Selling Price Per Unit` and `PurchasingPricePerUnit` created using `single_value`, we will understand their values through the next few examples."
   ]
  },
  {
   "cell_type": "markdown",
   "id": "110dfa98-2f64-4e42-b36b-bcaf15fb40bc",
   "metadata": {},
   "source": [
    "##### 6.2.2.1.1 Single Values"
   ]
  },
  {
   "cell_type": "code",
   "execution_count": null,
   "id": "2b8b3974-186b-481a-a679-d158d782f5a4",
   "metadata": {
    "atoti": {
     "widget": {
      "columnWidths": {
       "[Measures].[PurchasingPricePerUnit]": 159,
       "[Measures].[Selling Price Per Unit]": 144,
       "[Products].[Product Tree].[ProductCategory]": 122,
       "[Products].[ProductName].[ProductName]": 209
      },
      "mapping": {
       "columns": [
        "ALL_MEASURES"
       ],
       "measures": [
        "[Measures].[Selling Price Per Unit]",
        "[Measures].[PurchasingPricePerUnit]"
       ],
       "rows": [
        "[Products].[Product Tree].[ProductCategory]",
        "[Products].[ProductName].[ProductName]"
       ]
      },
      "query": {
       "mdx": "SELECT NON EMPTY Crossjoin(Hierarchize(Descendants({[Products].[Product Tree].[ALL].[AllMember]}, 1, SELF_AND_BEFORE)), Hierarchize(Descendants({[Products].[ProductName].[ALL].[AllMember]}, 1, SELF_AND_BEFORE))) ON ROWS, NON EMPTY {[Measures].[Selling Price Per Unit], [Measures].[PurchasingPricePerUnit]} ON COLUMNS FROM [Order Cube] CELL PROPERTIES VALUE, FORMATTED_VALUE, BACK_COLOR, FORE_COLOR, FONT_FLAGS",
       "updateMode": "once"
      },
      "serverKey": "default",
      "widgetKey": "pivot-table"
     }
    },
    "tags": []
   },
   "outputs": [],
   "source": [
    "session.widget"
   ]
  },
  {
   "cell_type": "markdown",
   "id": "b57480ab-ad99-423b-b4d6-daca323199b6",
   "metadata": {},
   "source": [
    "The `single_value` function will only return a value when all the members on the same level has the same value. In the above visualization, we see only a few products were returned, such as the `ProductName` member \"Chai\", returned for the \"Beverages\" product category. This is because the underlying [MDX](https://learn.microsoft.com/en-us/analysis-services/multidimensional-models/mdx/mdx-query-the-basic-query?view=asallproducts-allversions) for querying the cube uses `NON EMPTY`: \n",
    "\n",
    "The `NON EMPTY` function returns only set of tuples that are not empty. Therefore, we may have less members being displayed in the visualization than the actual number.\n",
    "\n",
    "```\n",
    "SELECT\n",
    "  NON EMPTY {\n",
    "    [Measures].[Selling Price Per Unit]\n",
    "  } ON COLUMNS,\n",
    "  NON EMPTY Crossjoin(\n",
    "    Hierarchize(\n",
    "      Descendants(\n",
    "        {\n",
    "          [Products].[ProductCategory].[ALL].[AllMember]\n",
    "        },\n",
    "        1,\n",
    "        SELF_AND_BEFORE\n",
    "      )\n",
    "    ),\n",
    "    Hierarchize(\n",
    "      Descendants(\n",
    "        {\n",
    "          [Products].[ProductName].[ALL].[AllMember]\n",
    "        },\n",
    "        1,\n",
    "        SELF_AND_BEFORE\n",
    "      )\n",
    "    )\n",
    "  ) ON ROWS\n",
    "  FROM [Order Cube]\n",
    "  CELL PROPERTIES VALUE, FORMATTED_VALUE, BACK_COLOR, FORE_COLOR, FONT_FLAGS\n",
    "```\n",
    "\n",
    "💡 A good way to verify if we are missing any members that you shouldn't is to include measures that we know will not be empty:\n",
    "\n",
    "1. Add `contributors.COUNT` measure to the query as it returns the number of underlying facts for each member.\n",
    "2. Add the summation e.g. `Selling Price Per Unit.SUM` for the intended measure as it will return the summation of the value if it exists.  "
   ]
  },
  {
   "cell_type": "code",
   "execution_count": null,
   "id": "ccd6cc1a-d601-4267-bc22-4f6b44ef3777",
   "metadata": {
    "atoti": {
     "widget": {
      "columnWidths": {
       "[Measures].[contributors.COUNT]": 140
      },
      "mapping": {
       "columns": [
        "ALL_MEASURES"
       ],
       "measures": [
        "[Measures].[contributors.COUNT]"
       ],
       "rows": [
        "[Products].[Product Tree].[ProductCategory]",
        "[Products].[ProductName].[ProductName]"
       ]
      },
      "name": "Displaying available member with contributors.COUNT",
      "query": {
       "mdx": "SELECT NON EMPTY Crossjoin(Hierarchize(Descendants({[Products].[Product Tree].[ALL].[AllMember]}, 1, SELF_AND_BEFORE)), Hierarchize(Descendants({[Products].[ProductName].[ALL].[AllMember]}, 1, SELF_AND_BEFORE))) ON ROWS, NON EMPTY {[Measures].[contributors.COUNT]} ON COLUMNS FROM [Order Cube] CELL PROPERTIES VALUE, FORMATTED_VALUE, BACK_COLOR, FORE_COLOR, FONT_FLAGS",
       "updateMode": "once"
      },
      "serverKey": "default",
      "widgetKey": "pivot-table"
     }
    },
    "tags": []
   },
   "outputs": [],
   "source": [
    "session.widget"
   ]
  },
  {
   "cell_type": "markdown",
   "id": "92e9665c-fe51-41dc-8afd-c5f419f3f09d",
   "metadata": {},
   "source": [
    "Let's try to understand why `Selling Price Per Unit` is not returning any value while its corresponding summation/mean has value.  "
   ]
  },
  {
   "cell_type": "code",
   "execution_count": null,
   "id": "3ef498a1-5c9e-44d7-afd6-3a769dcb0d95",
   "metadata": {
    "tags": []
   },
   "outputs": [],
   "source": [
    "session.tables.schema"
   ]
  },
  {
   "cell_type": "markdown",
   "id": "65bf0f07-37da-48d7-bc11-c3bb56a1f33e",
   "metadata": {},
   "source": [
    "From the cube schema, we can see that the keys `Order Id` and `Product Id` will help us identify unique rows within the table. Since `single_value` only returns a value when all the members have the same value, let's use the keys to investigate the underlying values.  \n",
    "\n",
    "From the previous visualization, we add `Order Id` to the query. We can skip `Product Id` since each (`ProductCategory`, `ProductName`) tuple has a unique `ProductId`."
   ]
  },
  {
   "cell_type": "code",
   "execution_count": null,
   "id": "4384138f-c046-43f3-bee3-1857bb371c19",
   "metadata": {
    "atoti": {
     "widget": {
      "columnWidths": {
       "[Measures].[Selling Price Per Unit.MEAN]": 182,
       "[Measures].[Selling Price Per Unit.SUM]": 174,
       "[Measures].[Selling Price Per Unit]": 144,
       "[Measures].[contributors.COUNT]": 140
      },
      "mapping": {
       "columns": [
        "ALL_MEASURES"
       ],
       "measures": [
        "[Measures].[contributors.COUNT]",
        "[Measures].[Selling Price Per Unit]",
        "[Measures].[Selling Price Per Unit.MEAN]",
        "[Measures].[Selling Price Per Unit.SUM]"
       ],
       "rows": [
        "[Products].[Product Tree].[ProductCategory]",
        "[Products].[ProductName].[ProductName] => [Orders].[Order Id].[Order Id]"
       ]
      },
      "name": "Displaying available member with contributors.COUNT",
      "query": {
       "mdx": "SELECT NON EMPTY Crossjoin(Hierarchize(Descendants({[Products].[Product Tree].[ALL].[AllMember]}, 1, SELF_AND_BEFORE)), Hierarchize(Descendants({[Products].[ProductName].[ALL].[AllMember]}, 1, SELF_AND_BEFORE))) ON ROWS, NON EMPTY {[Measures].[contributors.COUNT], [Measures].[Selling Price Per Unit], [Measures].[Selling Price Per Unit.MEAN], [Measures].[Selling Price Per Unit.SUM]} ON COLUMNS FROM [Order Cube] CELL PROPERTIES VALUE, FORMATTED_VALUE, BACK_COLOR, FORE_COLOR, FONT_FLAGS",
       "updateMode": "once"
      },
      "serverKey": "default",
      "style": {
       "areTooltipsVisible": false
      },
      "widgetKey": "pivot-table"
     }
    },
    "tags": []
   },
   "outputs": [],
   "source": [
    "session.widget"
   ]
  },
  {
   "cell_type": "markdown",
   "id": "3f68557c-035f-4815-b75d-6f36cb0e1bfb",
   "metadata": {},
   "source": [
    "**Single value**: We can see from the table above that the `Selling Price Per Unit` for each order under the `ProductName` is different, i.e. the same product sells at different prices in different orders. Hence, the single-value measure `Selling Price Per Unit` is empty for the `ProductName` level.  \n",
    "\n",
    "**Summation**: In most cases, we cannot use the summation `Selling Price Per Unit.SUM` at the subtotal level, e.g.:\n",
    "- Total profit = (Selling price - Unit Price) x Quantity Sold  \n",
    "\n",
    "**Average**: `Selling Price Per Unit.MEAN` is a good alternative to the single value if we just want the average and not the precise amount.\n",
    "\n",
    "<hr />\n",
    "\n",
    "💡 Instead of referring to the table keys, we can also perform a drillthrough on the measure to perform our investigation. \n",
    "Drillthrough allows us to see the underlying data and understand that the `Selling Price Per Unit` is different for product in different orders."
   ]
  },
  {
   "cell_type": "code",
   "execution_count": null,
   "id": "f70877b7-ed05-4699-8cb0-5e22177be1fe",
   "metadata": {
    "atoti": {
     "height": 284,
     "widget": {
      "columnWidths": {
       "Orders.Order Id": 119,
       "Orders.Quantity Sold": 149,
       "Orders.Selling Price Per Unit": 192,
       "Products.ProductCategory": 182,
       "Products.ProductId": 141,
       "Products.ProductName": 163,
       "Products.PurchasingPricePerUnit": 219
      },
      "filters": [
       {
        "dimensionName": "Measures",
        "hierarchyName": "Measures",
        "members": [
         [
          "Selling Price Per Unit.SUM"
         ]
        ],
        "type": "members"
       },
       {
        "dimensionName": "Products",
        "hierarchyName": "Product Tree",
        "isExclusionFilter": false,
        "members": [
         [
          "AllMember",
          "Beverages",
          "Chang"
         ]
        ],
        "type": "members"
       },
       {
        "dimensionName": "Orders",
        "hierarchyName": "Product Id",
        "isExclusionFilter": false,
        "members": [
         [
          "AllMember",
          "773"
         ]
        ],
        "type": "members"
       }
      ],
      "name": "Drillthrough",
      "query": {
       "mdx": "DRILLTHROUGH SELECT FROM [Order Cube] RETURN MemberValue([Orders.Order Id]), Caption([Orders.Order Id]), MemberValue([Orders.Quantity Sold]), Caption([Orders.Quantity Sold]), MemberValue([Orders.Selling Price Per Unit]), Caption([Orders.Selling Price Per Unit]), MemberValue([Products.ProductCategory]), Caption([Products.ProductCategory]), MemberValue([Products.ProductId]), Caption([Products.ProductId]), MemberValue([Products.ProductName]), Caption([Products.ProductName]), MemberValue([Products.PurchasingPricePerUnit]), Caption([Products.PurchasingPricePerUnit]), MemberValue([Orders.Order Date]), Caption([Orders.Order Date])",
       "updateMode": "once"
      },
      "serverKey": "default",
      "style": {
       "areTooltipsVisible": true,
       "measures": {
        "Orders.Order Id": {
         "justifyContent": "right"
        },
        "Orders.Quantity Sold": {
         "justifyContent": "right"
        }
       },
       "size": "large",
       "wrapHeaders": true
      },
      "widgetKey": "drillthrough-table"
     }
    },
    "tags": []
   },
   "outputs": [],
   "source": [
    "session.widget"
   ]
  },
  {
   "cell_type": "markdown",
   "id": "50acbf94-7eee-43ec-aaa7-98b31cce1ac5",
   "metadata": {},
   "source": [
    "In the later section, we will see how we can chain up measures such as the single-values to achieve our business metrics.  "
   ]
  },
  {
   "cell_type": "markdown",
   "id": "4617f9e0-5231-47d0-8ca7-4b30dd30d5a6",
   "metadata": {},
   "source": [
    "#### 6.2.2.2 Chain up measures"
   ]
  },
  {
   "cell_type": "markdown",
   "id": "18b3e3b9-2868-4381-b4a3-5eb1a3bd1da3",
   "metadata": {},
   "source": [
    "We can implement a formula by chaining up measures. E.g. suppose we want to compute the profit per unit:  \n",
    "\n",
    "$$ ProfitPerUnit = SellingPricePerUnit - PurchasePricePerUnit $$\n",
    "\n",
    "Below is how we formulate it in Atoti:"
   ]
  },
  {
   "cell_type": "code",
   "execution_count": null,
   "id": "bc737d4f-863e-43dc-aa79-4618c2968885",
   "metadata": {
    "tags": []
   },
   "outputs": [],
   "source": [
    "m[\"_ProfitPerUnit (sv)\"] = m[\"Selling Price Per Unit\"] - m[\"PurchasingPricePerUnit\"]\n",
    "m[\"_ProfitPerUnit (sum)\"] = (\n",
    "    m[\"Selling Price Per Unit.SUM\"] - m[\"PurchasingPricePerUnit.SUM\"]\n",
    ")\n",
    "m[\"_ProfitPerUnit (mean)\"] = (\n",
    "    m[\"Selling Price Per Unit.MEAN\"] - m[\"PurchasingPricePerUnit.MEAN\"]\n",
    ")"
   ]
  },
  {
   "cell_type": "markdown",
   "id": "c8f15ee9-e4d6-468c-8fe7-ebc9741ade4a",
   "metadata": {},
   "source": [
    "At the `Order Id` level, we get the same value for all 3 measures. However, we get different values for each of them at the sub-total and grandtotal levels. So, which is the correct measure we should use?"
   ]
  },
  {
   "cell_type": "code",
   "execution_count": null,
   "id": "27e7f68f-614a-45df-b0d7-fe2b7723fb6c",
   "metadata": {
    "atoti": {
     "widget": {
      "columnWidths": {
       "[Measures].[PurchasingPricePerUnit]": 159,
       "[Measures].[Selling Price Per Unit.SUM]": 161,
       "[Measures].[Selling Price Per Unit]": 144,
       "[Measures].[_ProfitPerUnit (mean)]": 148,
       "[Measures].[_ProfitPerUnit (sum)]": 141,
       "[Measures].[_ProfitPerUnit (sv)]": 130,
       "[Products].[Product Tree].[ProductCategory]": 122,
       "[Products].[Product Tree].[ProductName]": 227
      },
      "mapping": {
       "columns": [
        "ALL_MEASURES"
       ],
       "measures": [
        "[Measures].[Selling Price Per Unit]",
        "[Measures].[PurchasingPricePerUnit]",
        "[Measures].[_ProfitPerUnit (sv)]",
        "[Measures].[_ProfitPerUnit (sum)]",
        "[Measures].[_ProfitPerUnit (mean)]"
       ],
       "rows": [
        "[Products].[Product Tree].[ProductName] => [Orders].[Order Id].[Order Id]"
       ]
      },
      "query": {
       "mdx": "SELECT NON EMPTY {[Measures].[Selling Price Per Unit], [Measures].[PurchasingPricePerUnit], [Measures].[_ProfitPerUnit (sv)], [Measures].[_ProfitPerUnit (sum)], [Measures].[_ProfitPerUnit (mean)]} ON COLUMNS, NON EMPTY Hierarchize(Descendants({[Products].[Product Tree].[AllMember]}, 2, SELF_AND_BEFORE)) ON ROWS FROM [Order Cube] CELL PROPERTIES VALUE, FORMATTED_VALUE, BACK_COLOR, FORE_COLOR, FONT_FLAGS",
       "updateMode": "once"
      },
      "serverKey": "default",
      "widgetKey": "pivot-table"
     }
    },
    "tags": []
   },
   "outputs": [],
   "source": [
    "session.widget"
   ]
  },
  {
   "cell_type": "markdown",
   "id": "772abd6d-f750-43e7-b2db-5387648ee53f",
   "metadata": {},
   "source": [
    "It all depends on what KPI we want to achieve:  \n",
    "- `_ProfitPerUnit (mean)` makes the most sense as it gives us the average profit per unit for the product across the orders.  \n",
    "- `_ProfitPerUnit (sv)` makes no sense as `Selling Price Per Unit` is empty at the `ProductName` level, hence the difference is the `PurchasingPricePerUnit` itself.  \n",
    "- Although `_ProfitPerUnit (sum)` is computed correctly, the value itself does not give any useful insights.  \n",
    "\n",
    "Let's correct the computation of `_ProfitPerUnit (sv)` first in the next section before continuing with our measure creations.  "
   ]
  },
  {
   "cell_type": "markdown",
   "id": "ee1eaee9-7de6-4ccc-84b3-9bf976f11e73",
   "metadata": {},
   "source": [
    "#### 6.2.2.3 Prevent aggregation above a given level"
   ]
  },
  {
   "cell_type": "markdown",
   "id": "2292cd56-a357-4592-8f2f-9f426f3e6c00",
   "metadata": {},
   "source": [
    "With respect to our dataset, it is possible that `Selling Price Per Unit` is empty at the `ProductName` level.  \n",
    "\n",
    "The most logical fix we have in this case, is to prevent the computation of the measure at the sub-total or grandtotal levels, which in this case, are ProductName and ProductCategory levels. This is the same as saying that we want to prevent aggregation of the measures for any levels above the `Order Id` level.  \n",
    "\n",
    "We achieve this by simply checking if the `Order Id` level is available. We only return the measure value if `Order Id` is available. Otherwise, it's empty.  "
   ]
  },
  {
   "cell_type": "code",
   "execution_count": null,
   "id": "78fa0caf-d36d-4d91-bbb8-906fae638927",
   "metadata": {
    "tags": []
   },
   "outputs": [],
   "source": [
    "m[\"ProfitPerUnit (sv)\"] = tt.where(\n",
    "    l[\"Order Id\"].isnull(), m[\"Selling Price Per Unit\"] - m[\"PurchasingPricePerUnit\"]\n",
    ")"
   ]
  },
  {
   "cell_type": "code",
   "execution_count": null,
   "id": "aea68a5e-63ff-4859-8689-9f40238f7a00",
   "metadata": {
    "atoti": {
     "height": 404,
     "widget": {
      "columnWidths": {
       "[Measures].[ProfitPerUnit (sv)]": 123,
       "[Measures].[PurchasingPricePerUnit]": 146,
       "[Measures].[Selling Price Per Unit.SUM]": 179.10511779785156,
       "[Measures].[Selling Price Per Unit]": 148,
       "[Measures].[_ProfitPerUnit (mean)]": 148,
       "[Measures].[_ProfitPerUnit (sum)]": 141,
       "[Measures].[_ProfitPerUnit (sv)]": 130,
       "[Orders].[Order Id].[Order Id]": 71,
       "[Products].[Product Tree].[ProductCategory]": 122,
       "[Products].[Product Tree].[ProductName]": 194
      },
      "mapping": {
       "columns": [
        "ALL_MEASURES"
       ],
       "measures": [
        "[Measures].[_ProfitPerUnit (sum)]",
        "[Measures].[_ProfitPerUnit (mean)]",
        "[Measures].[_ProfitPerUnit (sv)]",
        "[Measures].[ProfitPerUnit (sv)]"
       ],
       "rows": [
        "[Products].[Product Tree].[ProductCategory] => [Products].[Product Tree].[ProductName] => [Orders].[Order Id].[Order Id]"
       ]
      },
      "name": "Order Id below the Product Tree level",
      "query": {
       "mdx": "SELECT NON EMPTY {[Measures].[_ProfitPerUnit (sum)], [Measures].[_ProfitPerUnit (mean)], [Measures].[_ProfitPerUnit (sv)], [Measures].[ProfitPerUnit (sv)]} ON COLUMNS, NON EMPTY Hierarchize(Union(Crossjoin(Union(Descendants({[Products].[Product Tree].[AllMember]}, 1, SELF_AND_BEFORE), Descendants({[Products].[Product Tree].[AllMember].[Beverages]}, [Products].[Product Tree].[ProductName])), [Orders].[Order Id].DefaultMember), Crossjoin([Products].[Product Tree].[ALL].[AllMember].[Beverages].[Chai], Hierarchize(Descendants({[Orders].[Order Id].[ALL].[AllMember]}, 1, SELF_AND_BEFORE))), Crossjoin([Products].[Product Tree].[ALL].[AllMember].[Beverages].[Chang], Hierarchize(Descendants({[Orders].[Order Id].[ALL].[AllMember]}, 1, SELF_AND_BEFORE))))) ON ROWS FROM [Order Cube] CELL PROPERTIES VALUE, FORMATTED_VALUE, BACK_COLOR, FORE_COLOR, FONT_FLAGS",
       "updateMode": "once"
      },
      "serverKey": "default",
      "widgetKey": "pivot-table"
     }
    },
    "tags": []
   },
   "outputs": [],
   "source": [
    "session.widget"
   ]
  },
  {
   "cell_type": "markdown",
   "id": "a678a0a5-54ca-4344-9d03-e0854bd57c3c",
   "metadata": {},
   "source": [
    "When it comes to designing a __User Defined Function (UDF)__ in the cube, the above illustrates a key principle of Atoti's on the fly computation capability. We can define if data should be aggregated depending on the presence of a queried level.  \n",
    "\n",
    "In the example above, there is no value for `Order Id` where we have the summarized levels of `ProductName` and `ProductCategory`.  \n",
    "\n",
    "<img src=\"https://data.atoti.io/atoti-academy/images/introduction/6_order_of_query.png\" width=\"950px\"/>  \n",
    "\n",
    "In order of querying, we say that `ProductCategory` and `ProductName` are __above__ `Order Id`.  \n",
    "\n",
    "We shifted `Order Id` in the below visualization to be above the `ProductCategory` and `ProductName`. Now, we can see that we are only missing the value of `ProfitPerUnit (sv)` at the grandtotal level. This is because that's the only level that doesn't have the `Order Id` value."
   ]
  },
  {
   "cell_type": "code",
   "execution_count": null,
   "id": "e6ae6669-02a3-4d5c-afef-ac3ddedbf0b4",
   "metadata": {
    "atoti": {
     "height": 404,
     "widget": {
      "columnWidths": {
       "[Measures].[ProfitPerUnit (sv)]": 113,
       "[Measures].[PurchasingPricePerUnit]": 146,
       "[Measures].[Selling Price Per Unit.SUM]": 179.10511779785156,
       "[Measures].[Selling Price Per Unit]": 148,
       "[Measures].[_ProfitPerUnit (mean)]": 148,
       "[Measures].[_ProfitPerUnit (sum)]": 141,
       "[Measures].[_ProfitPerUnit (sv)]": 130,
       "[Orders].[Order Id].[Order Id]": 71,
       "[Products].[Product Tree].[ProductCategory]": 122,
       "[Products].[Product Tree].[ProductName]": 139
      },
      "filters": [
       {
        "dimensionName": "Products",
        "hierarchyName": "ProductCategory",
        "isExclusionFilter": false,
        "members": [
         [
          "AllMember",
          "Beverages"
         ]
        ],
        "type": "members"
       }
      ],
      "mapping": {
       "columns": [
        "ALL_MEASURES"
       ],
       "measures": [
        "[Measures].[_ProfitPerUnit (sum)]",
        "[Measures].[_ProfitPerUnit (mean)]",
        "[Measures].[_ProfitPerUnit (sv)]",
        "[Measures].[ProfitPerUnit (sv)]"
       ],
       "rows": [
        "[Orders].[Order Id].[Order Id]",
        "[Products].[Product Tree].[ProductCategory] => [Products].[Product Tree].[ProductName]"
       ]
      },
      "name": "Order Id above Product Tree level",
      "query": {
       "mdx": "SELECT NON EMPTY {[Measures].[_ProfitPerUnit (sum)], [Measures].[_ProfitPerUnit (mean)], [Measures].[_ProfitPerUnit (sv)], [Measures].[ProfitPerUnit (sv)]} ON COLUMNS, NON EMPTY Hierarchize(Union(Crossjoin(Hierarchize(Descendants({[Orders].[Order Id].[AllMember]}, 1, SELF_AND_BEFORE)), Hierarchize(Descendants({[Products].[Product Tree].[AllMember]}, 1, SELF_AND_BEFORE))), Crossjoin([Orders].[Order Id].[AllMember].[6], Descendants({[Products].[Product Tree].[AllMember].[Beverages]}, [Products].[Product Tree].[ProductName])), Crossjoin([Orders].[Order Id].[AllMember].[18], Descendants({[Products].[Product Tree].[AllMember].[Beverages]}, [Products].[Product Tree].[ProductName])))) ON ROWS FROM [Order Cube] CELL PROPERTIES VALUE, FORMATTED_VALUE, BACK_COLOR, FORE_COLOR, FONT_FLAGS",
       "updateMode": "once"
      },
      "serverKey": "default",
      "widgetKey": "pivot-table"
     }
    },
    "tags": []
   },
   "outputs": [],
   "source": [
    "session.widget"
   ]
  },
  {
   "cell_type": "markdown",
   "id": "3aec5ee8-94ea-43b3-b924-6ef354c8b6ac",
   "metadata": {},
   "source": [
    "Similarly, by switching the `Product Tree` hierarchy to columns instead of rows, we see that the grandtotal value is missing for `_ProfitPerUnit (sv)`. Again, it's for the same reason: `Order Id` is empty and according to our measure definition, nothing is returned.  "
   ]
  },
  {
   "cell_type": "code",
   "execution_count": null,
   "id": "f4683dba-308e-4628-a9db-708280b4bf50",
   "metadata": {
    "atoti": {
     "height": 404,
     "widget": {
      "columnWidths": {
       "[Measures].[ProfitPerUnit (sv)]": 113,
       "[Measures].[PurchasingPricePerUnit]": 146,
       "[Measures].[Selling Price Per Unit.SUM]": 179.10511779785156,
       "[Measures].[Selling Price Per Unit]": 148,
       "[Measures].[_ProfitPerUnit (mean)]": 136,
       "[Measures].[_ProfitPerUnit (sum)]": 129,
       "[Measures].[_ProfitPerUnit (sv)]": 118,
       "[Products].[Product Tree].[AllMember],[Measures].[ProfitPerUnit (sv)]": 123,
       "[Products].[Product Tree].[AllMember],[Measures].[_ProfitPerUnit (mean)]": 148,
       "[Products].[Product Tree].[AllMember],[Measures].[_ProfitPerUnit (sum)]": 141,
       "[Products].[Product Tree].[AllMember].[Beverages],[Measures].[_ProfitPerUnit (mean)]": 148,
       "[Products].[Product Tree].[AllMember].[Beverages],[Measures].[_ProfitPerUnit (sum)]": 141,
       "[Products].[Product Tree].[AllMember].[Beverages],[Measures].[_ProfitPerUnit (sv)]": 126
      },
      "filters": [
       {
        "dimensionName": "Products",
        "hierarchyName": "ProductCategory",
        "isExclusionFilter": false,
        "members": [
         [
          "AllMember",
          "Beverages"
         ]
        ],
        "type": "members"
       }
      ],
      "mapping": {
       "columns": [
        "[Products].[Product Tree].[ProductCategory] => [Products].[Product Tree].[ProductName]",
        "ALL_MEASURES"
       ],
       "measures": [
        "[Measures].[_ProfitPerUnit (sum)]",
        "[Measures].[_ProfitPerUnit (mean)]",
        "[Measures].[_ProfitPerUnit (sv)]",
        "[Measures].[ProfitPerUnit (sv)]"
       ],
       "rows": [
        "[Orders].[Order Id].[Order Id]"
       ]
      },
      "name": "Order Id above Product Tree level",
      "query": {
       "mdx": "SELECT NON EMPTY Crossjoin(Hierarchize(Descendants({[Products].[Product Tree].[AllMember]}, 1, SELF_AND_BEFORE)), {[Measures].[_ProfitPerUnit (sum)], [Measures].[_ProfitPerUnit (mean)], [Measures].[_ProfitPerUnit (sv)], [Measures].[ProfitPerUnit (sv)]}) ON COLUMNS, NON EMPTY Hierarchize(Descendants({[Orders].[Order Id].[AllMember]}, 1, SELF_AND_BEFORE)) ON ROWS FROM [Order Cube] CELL PROPERTIES VALUE, FORMATTED_VALUE, BACK_COLOR, FORE_COLOR, FONT_FLAGS",
       "updateMode": "once"
      },
      "serverKey": "default",
      "widgetKey": "pivot-table"
     }
    },
    "editable": true,
    "slideshow": {
     "slide_type": ""
    },
    "tags": []
   },
   "outputs": [],
   "source": [
    "session.widget"
   ]
  },
  {
   "cell_type": "markdown",
   "id": "4fab9459-3d78-4aa9-993e-5b4694e161ca",
   "metadata": {},
   "source": [
    "With __aggregation on the fly__ capability, we are able to control the behavior of our measures depending on:  \n",
    "\n",
    "* What is being queried.\n",
    "* How measures are ordered in the query. "
   ]
  },
  {
   "cell_type": "markdown",
   "id": "8f3a7a84-6aee-42ac-b4cb-76b9dd187fb2",
   "metadata": {},
   "source": [
    "#### 6.2.2.4 Understand measure scope"
   ]
  },
  {
   "cell_type": "markdown",
   "id": "3a071e79-87db-4b15-8ac2-24680b1823fa",
   "metadata": {},
   "source": [
    "Let's recap on what we have learnt so far on measure definitions:  \n",
    "\n",
    "* It can minimally contain a constant value or simply a formula, for example:\n",
    "\n",
    "```python\n",
    "m[\"_ProfitPerUnit\"] = m[\"Selling Price Per Unit\"] - m[\"PurchasingPricePerUnit\"]\n",
    "```\n",
    "\n",
    "* Otherwise, it may contain functions such as the `where` condition we saw previously:  \n",
    "\n",
    "```python\n",
    "m[\"ProfitPerUnit\"] = tt.where(\n",
    "    l[\"Order Id\"].isnull(), m[\"Selling Price Per Unit\"] - m[\"PurchasingPricePerUnit\"]\n",
    ")\n",
    "```"
   ]
  },
  {
   "cell_type": "markdown",
   "id": "6a30653b-91bf-4b77-bb8d-007f61287341",
   "metadata": {},
   "source": [
    "In this section, we will see how we can further control the behavior of measures with the use of [`scope`](https://docs.atoti.io/latest/api/atoti.scope.html) and why we need such controls.\n",
    "\n",
    "We have three types of scopes:\n",
    "- [Origin scope](https://docs.atoti.io/latest/api/atoti.OriginScope.html#atoti.OriginScope): To start aggregation from the specified levels. \n",
    "- [Cumulative scope](https://docs.atoti.io/latest/api/atoti.CumulativeScope.html): Used when we want to perform a cumulative aggregation e.g. running total.\n",
    "- [Sibling scope](https://docs.atoti.io/latest/api/atoti.SiblingsScope.html): To perform aggregation with values from members within the same level. Suitable for achieving non-linear aggregation."
   ]
  },
  {
   "cell_type": "markdown",
   "id": "8cd9c6ff-70a5-466f-a935-27b7071853f0",
   "metadata": {},
   "source": [
    "##### 6.2.2.4.1 Origin scope"
   ]
  },
  {
   "cell_type": "markdown",
   "id": "4d2243a1-73c0-494f-88c6-3ceeb23ebc31",
   "metadata": {},
   "source": [
    "Given that the formula to compute sales is:\n",
    "\n",
    "$$ Profit = \\sum (ProfitPerUnit \\times QuantitySold) $$\n",
    "\n",
    "We can see there are actually two parts to the above formula:\n",
    "\n",
    "1. We multiply the `ProfitPerUnit` by `Quantity Sold`.\n",
    "2. We take the sum of the above multiplication.\n",
    " "
   ]
  },
  {
   "cell_type": "markdown",
   "id": "8a08b24f-1ed0-4893-b0ef-fae7dbdc3a16",
   "metadata": {},
   "source": [
    "__Applying formula without aggregation__\n",
    "\n",
    "Let's define the first part of the `Sales` measure by taking the multiple between the unit selling price and the quantity sold. "
   ]
  },
  {
   "cell_type": "code",
   "execution_count": null,
   "id": "13d1adec-e9f0-4ba3-a6b2-4197b270e6fe",
   "metadata": {
    "tags": []
   },
   "outputs": [],
   "source": [
    "m[\"Profit\"] = m[\"_ProfitPerUnit (sum)\"] * m[\"Quantity Sold.SUM\"]"
   ]
  },
  {
   "cell_type": "code",
   "execution_count": null,
   "id": "868d1daf-9e1a-499d-a8a6-ca606fb21ac5",
   "metadata": {
    "atoti": {
     "height": 321,
     "widget": {
      "columnWidths": {
       "[Measures].[Profit]": 107,
       "[Measures].[Quantity Sold.SUM]": 132,
       "[Measures].[Selling Price Per Unit.SUM]": 159,
       "[Measures].[_ProfitPerUnit (sum)]": 141,
       "[Orders].[Order Date].[Order Date]": 87,
       "[Orders].[Order Id].[Order Id]": 71,
       "[Products].[Product Tree].[ProductCategory]": 122,
       "[Products].[Product Tree].[ProductName]": 139
      },
      "mapping": {
       "columns": [
        "ALL_MEASURES"
       ],
       "measures": [
        "[Measures].[_ProfitPerUnit (sum)]",
        "[Measures].[Quantity Sold.SUM]",
        "[Measures].[Profit]"
       ],
       "rows": [
        "[Orders].[Order Date].[Order Date]",
        "[Products].[Product Tree].[ProductCategory] => [Products].[Product Tree].[ProductName] => [Orders].[Order Id].[Order Id]"
       ]
      },
      "query": {
       "mdx": "SELECT NON EMPTY Hierarchize(Union(Crossjoin(Hierarchize(Descendants({[Orders].[Order Date].[AllMember]}, 1, SELF_AND_BEFORE)), Hierarchize(Descendants({[Products].[Product Tree].[AllMember]}, 1, SELF_AND_BEFORE)), [Orders].[Order Id].DefaultMember), Crossjoin([Orders].[Order Date].[AllMember].[2019-02-15], Descendants({[Products].[Product Tree].[AllMember].[Beverages]}, [Products].[Product Tree].[ProductName]), [Orders].[Order Id].DefaultMember), Crossjoin([Orders].[Order Date].[AllMember].[2019-02-15], [Products].[Product Tree].[AllMember].[Beverages].[Guaraná Fantástica], Hierarchize(Descendants({[Orders].[Order Id].[AllMember]}, 1, SELF_AND_BEFORE))))) ON ROWS, NON EMPTY {[Measures].[_ProfitPerUnit (sum)], [Measures].[Quantity Sold.SUM], [Measures].[Profit]} ON COLUMNS FROM [Order Cube] CELL PROPERTIES VALUE, FORMATTED_VALUE, BACK_COLOR, FORE_COLOR, FONT_FLAGS",
       "updateMode": "once"
      },
      "serverKey": "default",
      "widgetKey": "pivot-table"
     }
    },
    "tags": []
   },
   "outputs": [],
   "source": [
    "session.widget"
   ]
  },
  {
   "cell_type": "markdown",
   "id": "c1afcaba-6f0e-4111-b838-b4dd925b05c4",
   "metadata": {},
   "source": [
    "With the measure definition above, we see that at every level, including the total levels, Atoti applies the formula of `m[\"_ProfitPerUnit (sum)\"] * m[\"Quantity Sold.SUM\"]`.  \n",
    "\n",
    "<img src=\"https://data.atoti.io/atoti-academy/images/introduction/6_incorrect_aggregation.png\"/>  \n",
    "\n",
    "Therefore, our sales at the total level for the product \"Guaraná Fantástica\" is `2,715.72` (result of 2.12 * 1,281). It should instead, be the summation of the sales for Order Id `338` and `352`, which equals to `1,091.29`."
   ]
  },
  {
   "cell_type": "markdown",
   "id": "797cdb51-35e8-437f-a33e-03cc95a09c70",
   "metadata": {},
   "source": [
    "__Applying aggregation to formula__  \n",
    "\n",
    "Let's work on the second part of the `Profit` measure — the aggregation; Atoti offers a range of [aggregation functions](https://docs.atoti.io/latest/api/atoti.agg.html) such as `long`, `short`, `min`, `max`, `prod`, `std` etc.  \n",
    "\n",
    "1. As per our formula, we will use the summation function [`tt.agg.sum`](https://docs.atoti.io/latest/api/atoti.agg.sum.html#atoti.agg.sum) to sum up the profit:  \n",
    "\n",
    "    `atoti.agg.sum(operand: NonConstantMeasureConvertible, /, *, scope: Scope) → MeasureDescription`\n",
    "\n",
    "2. We know that at `Order Id` level, we want to apply the multiplication between `m[\"_ProfitPerUnit (sum)\"]` and `m[\"Quantity Sold.SUM\"]`. Thereafter, we want to sum up the multiplication. Therefore, the scope `OriginScope` comes into play. It defines the level(s) from which we will start the aggregation.\n",
    "\n",
    "In our case, we will __start aggregating above the `Order Id` level__."
   ]
  },
  {
   "cell_type": "code",
   "execution_count": null,
   "id": "545f33a3-c07e-4906-aa2d-386ce4432fc3",
   "metadata": {
    "tags": []
   },
   "outputs": [],
   "source": [
    "m[\"Aggregated Profit\"] = tt.agg.sum(\n",
    "    m[\"Profit\"], scope=tt.OriginScope(levels={l[\"Order Id\"]})\n",
    ")"
   ]
  },
  {
   "cell_type": "code",
   "execution_count": null,
   "id": "fe119302-48e1-4f1f-bb16-cc56e7bfd386",
   "metadata": {
    "atoti": {
     "height": 321,
     "widget": {
      "columnWidths": {
       "[Measures].[Aggregated Profit]": 125,
       "[Measures].[Profit]": 106,
       "[Measures].[Quantity Sold.SUM]": 132,
       "[Measures].[Selling Price Per Unit.SUM]": 159,
       "[Measures].[_ProfitPerUnit (sum)]": 141,
       "[Orders].[Order Date].[Order Date]": 87,
       "[Products].[Product Tree].[ProductCategory]": 122,
       "[Products].[Product Tree].[ProductName]": 139
      },
      "mapping": {
       "columns": [
        "ALL_MEASURES"
       ],
       "measures": [
        "[Measures].[_ProfitPerUnit (sum)]",
        "[Measures].[Quantity Sold.SUM]",
        "[Measures].[Profit]",
        "[Measures].[Aggregated Profit]"
       ],
       "rows": [
        "[Orders].[Order Date].[Order Date]",
        "[Products].[Product Tree].[ProductCategory] => [Products].[Product Tree].[ProductName] => [Orders].[Order Id].[Order Id]"
       ]
      },
      "query": {
       "mdx": "SELECT NON EMPTY Hierarchize(Union(Crossjoin(Hierarchize(Descendants({[Orders].[Order Date].[AllMember]}, 1, SELF_AND_BEFORE)), Hierarchize(Descendants({[Products].[Product Tree].[AllMember]}, 1, SELF_AND_BEFORE))), Crossjoin([Orders].[Order Date].[ALL].[AllMember].[2019-02-15], Descendants({[Products].[Product Tree].[ALL].[AllMember].[Beverages]}, [Products].[Product Tree].[ProductName])))) ON ROWS, NON EMPTY {[Measures].[_ProfitPerUnit (sum)], [Measures].[Quantity Sold.SUM], [Measures].[Profit], [Measures].[Aggregated Profit]} ON COLUMNS FROM [Order Cube] CELL PROPERTIES VALUE, FORMATTED_VALUE, BACK_COLOR, FORE_COLOR, FONT_FLAGS",
       "updateMode": "once"
      },
      "serverKey": "default",
      "widgetKey": "pivot-table"
     }
    },
    "tags": []
   },
   "outputs": [],
   "source": [
    "session.widget"
   ]
  },
  {
   "cell_type": "markdown",
   "id": "6a1d6aff-5e17-4599-bb1a-4a782079f470",
   "metadata": {},
   "source": [
    "We can see that `Aggregated Profit` now has different behavior above the `Order Id` level. We get the correct computation of the profit value.  \n",
    "\n",
    "__Quick summary:__  \n",
    "\n",
    "By applying scope on `Order Id`, it means:  \n",
    "- For the queried level `Order Id` and whatever levels added after `Order Id`, the formula `m[\"_ProfitPerUnit (sum)\"] * m[\"Quantity Sold.SUM\"]` will be applied. \n",
    "- For any levels that were queried above the `Order Id` level, it will be the sum of the members of the level below.  \n",
    "\n",
    "<img src=\"https://data.atoti.io/atoti-academy/images/introduction/6_measure_scope.png\" width=\"800px\"/>"
   ]
  },
  {
   "cell_type": "markdown",
   "id": "2f01a35f-8b49-448d-9fc5-05f1b359d2bb",
   "metadata": {},
   "source": [
    "##### 📐Exercise  \n",
    "\n",
    "$$ Sales = \\sum (SellingPricePerUnit \\times QuantitySold) $$\n",
    "\n",
    "Given the above formula, create the following measures:\n",
    "- `Sales (sum)`, which uses the measure `Selling Price Per Unit.SUM` to multiply with `Quantity Sold.SUM`.\n",
    "- `Aggregated Sales (sum)`, which aggregates `Sales (sum)` against the scope `Order Id`.\n",
    "- `Sales (sv)`, which uses the measure `Selling Price Per Unit` to multiply with `Quantity Sold.SUM`.\n",
    "- `Aggregated Sales (sv)`, which aggregates `Sales (sv)` against the scope `Order Id`."
   ]
  },
  {
   "cell_type": "markdown",
   "id": "7e810ae5-0e71-4f52-b57d-a176f51dfa54",
   "metadata": {},
   "source": [
    "##### 📖 Solution  \n",
    "\n",
    "```python\n",
    "m[\"Sales (sum)\"] = m[\"Selling Price Per Unit.SUM\"] * m[\"Quantity Sold.SUM\"]\n",
    "m[\"Aggregated Sales (sum)\"] = tt.agg.sum(\n",
    "    m[\"Sales (sum)\"], scope=tt.OriginScope(levels={l[\"Order Id\"]})\n",
    ")\n",
    "\n",
    "m[\"Sales (sv)\"] = m[\"Selling Price Per Unit\"] * m[\"Quantity Sold.SUM\"]\n",
    "m[\"Aggregated Sales (sv)\"] = tt.agg.sum(\n",
    "    m[\"Sales (sv)\"], scope=tt.OriginScope(levels={l[\"Order Id\"]})\n",
    ")\n",
    "```\n",
    "\n",
    "__Difference between SUM vs Single-value measure__\n",
    "\n",
    "💡 `Selling Price Per Unit.SUM` gives us incorrect value at the total levels. Mathematically speaking, we cannot sum the unit selling price to achieve what we wanted. As a result, the `Sales (sum)` measure gives an incorrect total value when we multiplies the unit selling price with the quantity sold. This can be prevented by using the single value measure `Selling Price Per Unit` (refer to [6.2.2.2 Create measures from table](#6.2.2.1-Create-measures-from-table)).   \n",
    "\n",
    "By using the single value measure, we see that the `Selling Price Per Unit` is only available at the total level if all its member has the same value (e.g. for \"Chai\" and \"Côte de Blaye\"). In the case of \"Guaraná Fantástica\", its selling price varies between orders. Therefore, value is only displayed at the `Order Id` level. Sales total is empty in this case as the selling price is not available at the total level.  \n",
    "\n",
    "__However, do note that after applying aggregation with the correct scope, both returns the correct aggregated sales value. The interim `Sales` value is usually important when users want to investigate and understand the final values they see.__"
   ]
  },
  {
   "cell_type": "code",
   "execution_count": null,
   "id": "35cd25fb-8211-4637-93bb-df73136683df",
   "metadata": {
    "tags": []
   },
   "outputs": [],
   "source": [
    "m[\"Sales (sum)\"] = m[\"Selling Price Per Unit.SUM\"] * m[\"Quantity Sold.SUM\"]\n",
    "m[\"Aggregated Sales (sum)\"] = tt.agg.sum(\n",
    "    m[\"Sales (sum)\"], scope=tt.OriginScope(levels={l[\"Order Id\"]})\n",
    ")\n",
    "\n",
    "m[\"Sales (sv)\"] = m[\"Selling Price Per Unit\"] * m[\"Quantity Sold.SUM\"]\n",
    "m[\"Aggregated Sales (sv)\"] = tt.agg.sum(\n",
    "    m[\"Sales (sv)\"], scope=tt.OriginScope(levels={l[\"Order Id\"]})\n",
    ")"
   ]
  },
  {
   "cell_type": "code",
   "execution_count": null,
   "id": "80c56728-e510-4927-bbe4-f12a0149193c",
   "metadata": {
    "atoti": {
     "height": 321,
     "widget": {
      "columnWidths": {
       "[Measures].[Quantity Sold.SUM]": 132,
       "[Measures].[Sales (sum)]": 117,
       "[Measures].[Sales (sv)]": 83,
       "[Measures].[Selling Price Per Unit.SUM]": 174,
       "[Measures].[Selling Price Per Unit]": 144,
       "[Measures].[_ProfitPerUnit (sum)]": 129,
       "[Orders].[Order Date].[Order Date]": 87,
       "[Products].[Product Tree].[ProductCategory]": 122,
       "[Products].[Product Tree].[ProductName]": 139
      },
      "mapping": {
       "columns": [
        "ALL_MEASURES"
       ],
       "measures": [
        "[Measures].[Quantity Sold.SUM]",
        "[Measures].[Selling Price Per Unit.SUM]",
        "[Measures].[Sales (sum)]",
        "[Measures].[Selling Price Per Unit]",
        "[Measures].[Sales (sv)]"
       ],
       "rows": [
        "[Orders].[Order Date].[Order Date]",
        "[Products].[Product Tree].[ProductCategory] => [Products].[Product Tree].[ProductName] => [Orders].[Order Id].[Order Id]"
       ]
      },
      "query": {
       "mdx": "SELECT NON EMPTY Hierarchize(Union(Crossjoin(Hierarchize(Descendants({[Orders].[Order Date].[AllMember]}, 1, SELF_AND_BEFORE)), Hierarchize(Descendants({[Products].[Product Tree].[AllMember]}, 1, SELF_AND_BEFORE))), Crossjoin([Orders].[Order Date].[AllMember].[2019-02-15], Descendants({[Products].[Product Tree].[AllMember].[Beverages]}, [Products].[Product Tree].[ProductName])))) ON ROWS, NON EMPTY {[Measures].[Quantity Sold.SUM], [Measures].[Selling Price Per Unit.SUM], [Measures].[Sales (sum)], [Measures].[Selling Price Per Unit], [Measures].[Sales (sv)]} ON COLUMNS FROM [Order Cube] CELL PROPERTIES VALUE, FORMATTED_VALUE, BACK_COLOR, FORE_COLOR, FONT_FLAGS",
       "updateMode": "once"
      },
      "serverKey": "default",
      "widgetKey": "pivot-table"
     }
    },
    "tags": []
   },
   "outputs": [],
   "source": [
    "session.widget"
   ]
  },
  {
   "cell_type": "markdown",
   "id": "29021e30-6edd-4446-99b8-c8a8850d3325",
   "metadata": {
    "tags": []
   },
   "source": [
    "__Alternative aggregation function__\n",
    "\n",
    "💡 Instead of chaining up two measures, we can also make use of the aggregation function [`sum_product`](https://docs.atoti.io/latest/api/atoti.agg.sum_product.html)."
   ]
  },
  {
   "cell_type": "code",
   "execution_count": null,
   "id": "d91b353a-7846-4391-9755-be5d1fea0a16",
   "metadata": {
    "tags": []
   },
   "outputs": [],
   "source": [
    "m[\"ProdSum Proft\"] = tt.agg.sum_product(\n",
    "    m[\"_ProfitPerUnit (sum)\"],\n",
    "    m[\"Quantity Sold.SUM\"],\n",
    "    scope=tt.OriginScope(levels={l[\"Order Id\"]}),\n",
    ")"
   ]
  },
  {
   "cell_type": "code",
   "execution_count": null,
   "id": "b7e3e985-9455-42eb-b1e1-425f45a19030",
   "metadata": {
    "atoti": {
     "height": 321,
     "widget": {
      "columnWidths": {
       "[Measures].[Aggregated Profit]": 125,
       "[Measures].[ProdSum Proft]": 108,
       "[Measures].[Profit]": 106,
       "[Measures].[Quantity Sold.SUM]": 132,
       "[Measures].[Selling Price Per Unit.SUM]": 159,
       "[Measures].[_ProfitPerUnit (sum)]": 141,
       "[Orders].[Order Date].[Order Date]": 87,
       "[Products].[Product Tree].[ProductCategory]": 122,
       "[Products].[Product Tree].[ProductName]": 139
      },
      "mapping": {
       "columns": [
        "ALL_MEASURES"
       ],
       "measures": [
        "[Measures].[_ProfitPerUnit (sum)]",
        "[Measures].[Quantity Sold.SUM]",
        "[Measures].[Profit]",
        "[Measures].[Aggregated Profit]",
        "[Measures].[ProdSum Proft]"
       ],
       "rows": [
        "[Orders].[Order Date].[Order Date]",
        "[Products].[Product Tree].[ProductCategory] => [Products].[Product Tree].[ProductName] => [Orders].[Order Id].[Order Id]"
       ]
      },
      "query": {
       "mdx": "SELECT NON EMPTY Hierarchize(Union(Crossjoin(Hierarchize(Descendants({[Orders].[Order Date].[AllMember]}, 1, SELF_AND_BEFORE)), Hierarchize(Descendants({[Products].[Product Tree].[AllMember]}, 1, SELF_AND_BEFORE))), Crossjoin([Orders].[Order Date].[AllMember].[2019-02-15], Descendants({[Products].[Product Tree].[AllMember].[Beverages]}, [Products].[Product Tree].[ProductName])))) ON ROWS, NON EMPTY {[Measures].[_ProfitPerUnit (sum)], [Measures].[Quantity Sold.SUM], [Measures].[Profit], [Measures].[Aggregated Profit], [Measures].[ProdSum Proft]} ON COLUMNS FROM [Order Cube] CELL PROPERTIES VALUE, FORMATTED_VALUE, BACK_COLOR, FORE_COLOR, FONT_FLAGS",
       "updateMode": "once"
      },
      "serverKey": "default",
      "widgetKey": "pivot-table"
     }
    },
    "tags": []
   },
   "outputs": [],
   "source": [
    "session.widget"
   ]
  },
  {
   "cell_type": "markdown",
   "id": "4d7f9bcd-7614-48fa-ba92-aa68de64f4ed",
   "metadata": {},
   "source": [
    "##### 📐Exercise  \n",
    "\n",
    "The key value of multidimensional analysis to the ability to gather insights from different perspective. In the below visualization, expand on `Shipper Name` level and verify the correctness of the `Aggregated Profit` value.  "
   ]
  },
  {
   "cell_type": "code",
   "execution_count": null,
   "id": "a48336b9-5597-4eb6-8a4c-a68c34d0fe42",
   "metadata": {
    "atoti": {
     "height": 441,
     "widget": {
      "columnWidths": {
       "[Measures].[Aggregated Profit]": 125,
       "[Measures].[Profit]": 106,
       "[Measures].[Quantity Sold.SUM]": 132,
       "[Measures].[_ProfitPerUnit (sum)]": 141,
       "[Orders].[Order Date].[Order Date]": 87,
       "[Orders].[Shipper Name].[Shipper Name]": 114
      },
      "mapping": {
       "columns": [
        "ALL_MEASURES"
       ],
       "measures": [
        "[Measures].[_ProfitPerUnit (sum)]",
        "[Measures].[Quantity Sold.SUM]",
        "[Measures].[Profit]",
        "[Measures].[Aggregated Profit]"
       ],
       "rows": [
        "[Orders].[Order Date].[Order Date]",
        "[Orders].[Shipper Name].[Shipper Name] => [Orders].[Order Id].[Order Id]"
       ]
      },
      "name": "Sales by shipper",
      "query": {
       "mdx": "SELECT NON EMPTY Hierarchize(Crossjoin(Hierarchize(Descendants({[Orders].[Order Date].[AllMember]}, 1, SELF_AND_BEFORE)), Hierarchize(Descendants({[Orders].[Shipper Name].[AllMember]}, 1, SELF_AND_BEFORE)))) ON ROWS, NON EMPTY {[Measures].[_ProfitPerUnit (sum)], [Measures].[Quantity Sold.SUM], [Measures].[Profit], [Measures].[Aggregated Profit]} ON COLUMNS FROM [Order Cube] CELL PROPERTIES VALUE, FORMATTED_VALUE, BACK_COLOR, FORE_COLOR, FONT_FLAGS",
       "updateMode": "once"
      },
      "serverKey": "default",
      "widgetKey": "pivot-table"
     }
    },
    "tags": []
   },
   "outputs": [],
   "source": [
    "session.widget"
   ]
  },
  {
   "cell_type": "markdown",
   "id": "a91010e0-ac61-4049-99eb-f3a45b6aa610",
   "metadata": {},
   "source": [
    "##### 📖 Solution  \n",
    "\n",
    "The value `Profit` is computed correctly at the most granular level, which is the `Order Id` in this case. Since we are performing summation for any levels above `Order Id` as defined using the `OriginScope`, we are able to achieve the total sales by \"Shipper Name\".  \n",
    "\n",
    "Again, this demonstrates the aggregation on the fly capability of Atoti. Regardless of the levels that we are querying, we will sum up the `Profit` value from the most underlying `Order Id` level at query time.  "
   ]
  },
  {
   "cell_type": "markdown",
   "id": "fe8d75a3-5621-4694-be60-569950bac412",
   "metadata": {},
   "source": [
    "##### 6.2.2.4.2 Cumulative Scope"
   ]
  },
  {
   "cell_type": "markdown",
   "id": "183eb8c8-594d-42f9-9c8c-93f5ae993f28",
   "metadata": {},
   "source": [
    "In data analytics, it is common to compute running totals. In Atoti, we make use of [`CumulativeScope`](https://docs.atoti.io/latest/api/atoti.CumulativeScope.html) to achieve cumulative aggregations, or running totals:\n",
    "\n",
    "Let's see how we can get the running total across the `Order Date`."
   ]
  },
  {
   "cell_type": "code",
   "execution_count": null,
   "id": "817a220d-384a-49c1-a232-ad61254954fa",
   "metadata": {},
   "outputs": [],
   "source": [
    "m[\"Cumulative Profit\"] = tt.agg.sum(\n",
    "    m[\"Aggregated Profit\"],\n",
    "    scope=tt.CumulativeScope(level=l[(\"Orders\", \"Date Hierarchy\", \"Order Date\")]),\n",
    ")"
   ]
  },
  {
   "cell_type": "code",
   "execution_count": null,
   "id": "6001dabb-7fb7-4326-8468-65fe57389edb",
   "metadata": {
    "atoti": {
     "height": 295,
     "widget": {
      "columnWidths": {
       "[Measures].[Aggregated Profit (sv)]": 140,
       "[Measures].[Aggregated Profit]": 125,
       "[Measures].[Aggregated Sales (sv)]": 138,
       "[Measures].[Cumulative Profit (sv)]": 137,
       "[Measures].[Cumulative Profit]": 122,
       "[Measures].[Cumulative Sales (sv)]": 135,
       "[Orders].[Date Hierarchy].[Month]": 65,
       "[Orders].[Date Hierarchy].[Order Date]": 104,
       "[Orders].[Date Hierarchy].[Year]": 65
      },
      "mapping": {
       "columns": [
        "ALL_MEASURES"
       ],
       "measures": [
        "[Measures].[Aggregated Profit]",
        "[Measures].[Cumulative Profit]"
       ],
       "rows": [
        "[Orders].[Date Hierarchy].[Year] => [Orders].[Date Hierarchy].[Order Date]"
       ]
      },
      "query": {
       "mdx": "SELECT NON EMPTY Hierarchize(Union(Descendants({[Orders].[Date Hierarchy].[AllMember]}, 1, SELF_AND_BEFORE), Descendants({[Orders].[Date Hierarchy].[AllMember].[2019]}, [Orders].[Date Hierarchy].[Month]), Descendants({[Orders].[Date Hierarchy].[ALL].[AllMember].[2019].[02]}, [Orders].[Date Hierarchy].[Order Date]))) ON ROWS, NON EMPTY {[Measures].[Aggregated Profit], [Measures].[Cumulative Profit]} ON COLUMNS FROM [Order Cube] CELL PROPERTIES VALUE, FORMATTED_VALUE, BACK_COLOR, FORE_COLOR, FONT_FLAGS",
       "updateMode": "once"
      },
      "serverKey": "default",
      "widgetKey": "pivot-table"
     }
    },
    "tags": []
   },
   "outputs": [],
   "source": [
    "session.widget"
   ]
  },
  {
   "cell_type": "markdown",
   "id": "6393065f-ca6a-49a0-b08c-0b5cabb5e26b",
   "metadata": {},
   "source": [
    "We can verify that the `Cumulative Profit` measure is indeed cumulating the value of the `Aggregated Profit` measure:  \n",
    "\n",
    "<img src=\"https://data.atoti.io/atoti-academy/images/introduction/6_cumulative_totals.png\"/>"
   ]
  },
  {
   "cell_type": "markdown",
   "id": "bb07ea13-ea3f-4e9e-8bed-e7d334d533b8",
   "metadata": {},
   "source": [
    "Now, let's load data from another month to see what happens to our running total:"
   ]
  },
  {
   "cell_type": "code",
   "execution_count": null,
   "id": "ce3b7e38-54fe-4613-a7b9-12ca5ec69969",
   "metadata": {
    "tags": []
   },
   "outputs": [],
   "source": [
    "orders_tbl.load_csv(\n",
    "    \"s3://data.atoti.io/atoti-academy/data/Orders-adhoc.csv\",\n",
    "    columns={\n",
    "        \"OrderId\": \"Order Id\",\n",
    "        \"OrderDate\": \"Order Date\",\n",
    "        \"QuantitySold\": \"Quantity Sold\",\n",
    "        \"SellingPricePerUnit\": \"Selling Price Per Unit\",\n",
    "        \"ShipperName\": \"Shipper Name\",\n",
    "        \"ProductId\": \"Product Id\",\n",
    "    },\n",
    "    date_patterns={\"Order Date\": \"dd/M/yyyy\"},\n",
    ")"
   ]
  },
  {
   "cell_type": "markdown",
   "id": "b208982f-c04a-45ee-bf88-8e5a843a0cdf",
   "metadata": {},
   "source": [
    "Working with cumulative on multi-level hierarchies, we get our bucketed cumulative values.  \n",
    "\n",
    "We can see that the running total starts from the first order date `2019-02-15` and continues until the last date on `2019-03-18`. By collapsing the `Order Date` level from the `Month` level, we get a monthly cumulative total. In a similar manner, we also obtained our yearly cumulative total.  "
   ]
  },
  {
   "cell_type": "code",
   "execution_count": null,
   "id": "2092b7fa-6d08-4f5f-9903-32e1718b64ea",
   "metadata": {
    "atoti": {
     "height": 506,
     "widget": {
      "columnWidths": {
       "[Measures].[Aggregated Profit]": 125,
       "[Measures].[Aggregated Sales (sv)]": 138,
       "[Measures].[Cumulative Profit]": 122,
       "[Measures].[Cumulative Sales (sv)]": 135,
       "[Orders].[Date Hierarchy].[Month]": 65,
       "[Orders].[Date Hierarchy].[Order Date]": 104,
       "[Orders].[Date Hierarchy].[Year]": 65
      },
      "mapping": {
       "columns": [
        "ALL_MEASURES"
       ],
       "measures": [
        "[Measures].[Aggregated Profit]",
        "[Measures].[Cumulative Profit]"
       ],
       "rows": [
        "[Orders].[Date Hierarchy].[Year] => [Orders].[Date Hierarchy].[Order Date]"
       ]
      },
      "name": "Bucketed running total",
      "query": {
       "mdx": "SELECT NON EMPTY {[Measures].[Aggregated Profit], [Measures].[Cumulative Profit]} ON COLUMNS, NON EMPTY Hierarchize(Union(Descendants({[Orders].[Date Hierarchy].[AllMember]}, 1, SELF_AND_BEFORE), Descendants({[Orders].[Date Hierarchy].[AllMember].[2019]}, [Orders].[Date Hierarchy].[Month]), Descendants({[Orders].[Date Hierarchy].[AllMember].[2019].[03]}, [Orders].[Date Hierarchy].[Order Date]), Descendants({[Orders].[Date Hierarchy].[AllMember].[2019].[02]}, [Orders].[Date Hierarchy].[Order Date]))) ON ROWS FROM [Order Cube] CELL PROPERTIES VALUE, FORMATTED_VALUE, BACK_COLOR, FORE_COLOR, FONT_FLAGS",
       "updateMode": "once"
      },
      "serverKey": "default",
      "widgetKey": "pivot-table"
     }
    },
    "tags": []
   },
   "outputs": [],
   "source": [
    "session.widget"
   ]
  },
  {
   "cell_type": "markdown",
   "id": "4ab8b84b-9eaf-4120-a260-6edfb9ccb752",
   "metadata": {},
   "source": [
    "__Reset cumulative total__  \n",
    "\n",
    "We can reset the cumulative total for a certain level by using the `partitioning` parameter of the `CumulativeScope` function. Let's update the definition of our `Cumulative Profit` measure.  "
   ]
  },
  {
   "cell_type": "code",
   "execution_count": null,
   "id": "0c611b8f-0eff-4693-acaf-c006c5d9ea41",
   "metadata": {
    "tags": []
   },
   "outputs": [],
   "source": [
    "m[\"Cumulative Profit\"] = tt.agg.sum(\n",
    "    m[\"Aggregated Profit\"],\n",
    "    scope=tt.CumulativeScope(\n",
    "        level=l[(\"Orders\", \"Date Hierarchy\", \"Order Date\")], partitioning=l[\"Year\"]\n",
    "    ),\n",
    ")"
   ]
  },
  {
   "cell_type": "code",
   "execution_count": null,
   "id": "a7894842-02bd-4387-9adc-9a1d2134f2e4",
   "metadata": {
    "atoti": {
     "height": 232,
     "widget": {
      "columnWidths": {
       "[Measures].[Aggregated Profit (sv)]": 140,
       "[Measures].[Aggregated Profit]": 125,
       "[Measures].[Aggregated Sales (sv)]": 138,
       "[Measures].[Cumulative Profit (sv)]": 137,
       "[Measures].[Cumulative Profit]": 122,
       "[Measures].[Cumulative Sales (sv)]": 135,
       "[Orders].[Date Hierarchy].[Month]": 65,
       "[Orders].[Date Hierarchy].[Year]": 65
      },
      "mapping": {
       "columns": [
        "ALL_MEASURES"
       ],
       "measures": [
        "[Measures].[Aggregated Profit]",
        "[Measures].[Cumulative Profit]"
       ],
       "rows": [
        "[Orders].[Date Hierarchy].[Year] => [Orders].[Date Hierarchy].[Month]"
       ]
      },
      "name": "Cumulative total reset on yearly basis",
      "query": {
       "mdx": "SELECT NON EMPTY Hierarchize(Union(Descendants({[Orders].[Date Hierarchy].[AllMember]}, 1, SELF_AND_BEFORE), Descendants({[Orders].[Date Hierarchy].[AllMember].[2019]}, [Orders].[Date Hierarchy].[Month]))) ON ROWS, NON EMPTY {[Measures].[Aggregated Profit], [Measures].[Cumulative Profit]} ON COLUMNS FROM [Order Cube] CELL PROPERTIES VALUE, FORMATTED_VALUE, BACK_COLOR, FORE_COLOR, FONT_FLAGS",
       "updateMode": "once"
      },
      "serverKey": "default",
      "widgetKey": "pivot-table"
     }
    },
    "tags": []
   },
   "outputs": [],
   "source": [
    "session.widget"
   ]
  },
  {
   "cell_type": "markdown",
   "id": "bb5002d8-3a70-4080-8a27-780015692183",
   "metadata": {},
   "source": [
    "⚠️ We cumulate the `Aggregated Profit` along the level identified by `l[(\"Orders\", \"Date Hierarchy\", \"Order Date\")]`. As explained in earlier sections, even though both `l[(\"Orders\", \"Date Hierarchy\", \"Order Date\")]` and `l[(\"Orders\", \"Order Date\", \"Order Date\")]` originates from the same data column, they are treated as two different levels. Therefore, the measure definition for `Cumulative Profit` does not applies to the `l[(\"Orders\", \"Order Date\", \"Order Date\")]` level. \n",
    "\n",
    "<img src=\"https://data.atoti.io/atoti-academy/images/introduction/6_date_path.png\" />\n",
    "\n",
    "Without a surprise, we will not have any values for `Cumulative Profit` when we query it along the `l[(\"Orders\", \"Order Date\", \"Order Date\")]` as shown below:"
   ]
  },
  {
   "cell_type": "code",
   "execution_count": null,
   "id": "b7cc0cbb-ef06-4b86-8660-a27e8e15f004",
   "metadata": {
    "atoti": {
     "height": 271,
     "widget": {
      "columnWidths": {
       "[Measures].[Aggregated Sales (sv)]": 138,
       "[Measures].[Cumulative Sales (sv)]": 135
      },
      "mapping": {
       "columns": [
        "ALL_MEASURES"
       ],
       "measures": [
        "[Measures].[Aggregated Profit]",
        "[Measures].[Cumulative Profit]"
       ],
       "rows": [
        "[Orders].[Order Date].[Order Date]"
       ]
      },
      "name": "Cumulative profit not available",
      "query": {
       "mdx": "SELECT NON EMPTY Hierarchize(Descendants({[Orders].[Order Date].[AllMember]}, 1, SELF_AND_BEFORE)) ON ROWS, NON EMPTY {[Measures].[Aggregated Profit], [Measures].[Cumulative Profit]} ON COLUMNS FROM [Order Cube] CELL PROPERTIES VALUE, FORMATTED_VALUE, BACK_COLOR, FORE_COLOR, FONT_FLAGS",
       "updateMode": "once"
      },
      "serverKey": "default",
      "widgetKey": "pivot-table"
     }
    },
    "tags": []
   },
   "outputs": [],
   "source": [
    "session.widget"
   ]
  },
  {
   "cell_type": "markdown",
   "id": "4347f11b-70ea-4c9f-91ad-9fedee240804",
   "metadata": {},
   "source": [
    "Create a separate measure to accumulate along the `l[(\"Orders\", \"Order Date\", \"Order Date\")]` if necessary.  "
   ]
  },
  {
   "cell_type": "markdown",
   "id": "7640412e-985c-4bdb-b587-c574ac6f078f",
   "metadata": {},
   "source": [
    "##### 6.2.2.4.3 Sibling Scope"
   ]
  },
  {
   "cell_type": "markdown",
   "id": "623dc01f-4d1a-4792-af2c-0a4bd1075f20",
   "metadata": {},
   "source": [
    "There are times when we want to perform aggregation with members of the same levels. Members of the same level are referred to as siblings, as they have the same parent level. In such cases, we will use [`SiblingScope`](https://docs.atoti.io/latest/api/atoti.SiblingsScope.html) to do so.  \n",
    "\n",
    "Unlike the other two scope functions, `SiblingScope` works on hierarchies. In the below example, we look at the maximum profit within each level in the `Date Hierarchy`.  "
   ]
  },
  {
   "cell_type": "code",
   "execution_count": null,
   "id": "b643a13e-58c0-4e4a-a683-7bc379325a6d",
   "metadata": {
    "tags": []
   },
   "outputs": [],
   "source": [
    "m[\"Max profit\"] = tt.agg.max(\n",
    "    m[\"Aggregated Profit\"], scope=tt.SiblingsScope(hierarchy=h[\"Date Hierarchy\"])\n",
    ")"
   ]
  },
  {
   "cell_type": "code",
   "execution_count": null,
   "id": "4387fad8-0842-4d66-ad5f-5c90063b842c",
   "metadata": {
    "atoti": {
     "height": 448,
     "widget": {
      "columnWidths": {
       "[Measures].[Aggregated Profit (sv)]": 140,
       "[Measures].[Aggregated Profit]": 125,
       "[Measures].[Aggregated Sales (sv)]": 138,
       "[Measures].[Max profit]": 95,
       "[Orders].[Date Hierarchy].[Month]": 65,
       "[Orders].[Date Hierarchy].[Order Date]": 104,
       "[Orders].[Date Hierarchy].[Year]": 65
      },
      "mapping": {
       "columns": [
        "ALL_MEASURES"
       ],
       "measures": [
        "[Measures].[Aggregated Profit]",
        "[Measures].[Max profit]"
       ],
       "rows": [
        "[Orders].[Date Hierarchy].[Year] => [Orders].[Date Hierarchy].[Order Date]"
       ]
      },
      "query": {
       "mdx": "SELECT NON EMPTY Order(Hierarchize(Union(Descendants({[Orders].[Date Hierarchy].[AllMember]}, 1, SELF_AND_BEFORE), Descendants({[Orders].[Date Hierarchy].[AllMember].[2019]}, [Orders].[Date Hierarchy].[Month]), Descendants({[Orders].[Date Hierarchy].[AllMember].[2019].[02]}, [Orders].[Date Hierarchy].[Order Date]), Descendants({[Orders].[Date Hierarchy].[AllMember].[2019].[03]}, [Orders].[Date Hierarchy].[Order Date]))), [Measures].[Aggregated Sales (sv)], DESC) ON ROWS, NON EMPTY {[Measures].[Aggregated Profit], [Measures].[Max profit]} ON COLUMNS FROM [Order Cube] CELL PROPERTIES VALUE, FORMATTED_VALUE, BACK_COLOR, FORE_COLOR, FONT_FLAGS",
       "updateMode": "once"
      },
      "serverKey": "default",
      "widgetKey": "pivot-table"
     }
    },
    "tags": []
   },
   "outputs": [],
   "source": [
    "session.widget"
   ]
  },
  {
   "cell_type": "markdown",
   "id": "98ee7406-e4aa-4cb0-983c-aad9c7b05f23",
   "metadata": {},
   "source": [
    "A few key points:\n",
    "\n",
    "* At the `Order Date` level: We see that the maximum profit in Feb 2019 is `548,588.54` across the 4 dates. Likewise, in Mar 2019, the maximum sales is `548,588.54`.  \n",
    "* At the `Month` level: Comparing Feb and Mar in 2019, Feb has the higher profit value of `1,814,408.23`.  \n",
    "* At the `Year` level: Comparing the profit of 2019 and 2020, 2019 has the higher profit value of `3,616,995.21`.  \n",
    "\n",
    "At the grand total level, it displays the total profit value across `2019` and `2020`."
   ]
  },
  {
   "cell_type": "markdown",
   "id": "8c2a72b5-f389-45bc-930f-e1a96c7cae7f",
   "metadata": {},
   "source": [
    "##### 6.2.2.4.4 Multidimensional Aggregations & Scope"
   ]
  },
  {
   "cell_type": "markdown",
   "id": "a7ca8b07-d2a5-439a-bfb9-09f78dc106c3",
   "metadata": {},
   "source": [
    "Let's explore another use case where scope is extremely useful when we have different aggregation behavior for the same measure, along different dimensions. We will compute the historical average of sales profit where it is:  \n",
    "\n",
    "1. Sum of profits across products which we have previously computed `m[\"Aggregated Profit\"]`.\n",
    "2. Average across dates.\n",
    "\n",
    "The formula looks like this:  \n",
    "\n",
    "$$ \\frac{\\sum AggregatedProfit_{Products}}{DateCount}\\ $$\n",
    "\n",
    "In the below cell, we explore the [`atoti.agg.mean`](https://docs.atoti.io/latest/api/atoti.agg.mean.html#atoti-agg-mean) function across the two `Order Date` levels to see what happens."
   ]
  },
  {
   "cell_type": "code",
   "execution_count": null,
   "id": "53761293-6285-418d-bff6-1ea88c63d753",
   "metadata": {
    "tags": []
   },
   "outputs": [],
   "source": [
    "# \"Order Date\" hierarchy\n",
    "m[\"Average Daily Profit (od)\"] = tt.agg.mean(\n",
    "    m[\"Aggregated Profit\"],\n",
    "    scope=tt.OriginScope(levels={l[(\"Orders\", \"Order Date\", \"Order Date\")]}),\n",
    ")\n",
    "\n",
    "# \"Date Hierarchy\" hierarchy\n",
    "m[\"Average Daily Profit (dh)\"] = tt.agg.mean(\n",
    "    m[\"Aggregated Profit\"],\n",
    "    scope=tt.OriginScope(levels={l[(\"Orders\", \"Date Hierarchy\", \"Order Date\")]}),\n",
    ")"
   ]
  },
  {
   "cell_type": "markdown",
   "id": "5abc95f7-6b94-4bda-a9ee-1b0d63cae07d",
   "metadata": {},
   "source": [
    "In fact, the average daily profit gives the same results regardless of which `Order Date` level is indicated in the scope. This is because for any levels that we queried, it will take the average of the profit value at `Order Date` level and apply the average for the level above.  "
   ]
  },
  {
   "cell_type": "code",
   "execution_count": null,
   "id": "300616ab-70e0-43d4-af2d-4c28b471016c",
   "metadata": {
    "atoti": {
     "height": 472,
     "widget": {
      "columnWidths": {
       "[Measures].[Average Daily Profit (dh)]": 153,
       "[Measures].[Average Daily Profit (od)]": 153
      },
      "mapping": {
       "columns": [
        "ALL_MEASURES"
       ],
       "measures": [
        "[Measures].[Aggregated Profit]",
        "[Measures].[Average Daily Profit (od)]",
        "[Measures].[Average Daily Profit (dh)]"
       ],
       "rows": [
        "[Products].[ProductName].[ProductName] => [Orders].[Order Date].[Order Date] => [Orders].[Order Id].[Order Id]"
       ]
      },
      "name": "Average daily profit - Row-based representation",
      "query": {
       "mdx": "SELECT NON EMPTY Hierarchize(Union(Crossjoin(Descendants({[Products].[ProductName].[AllMember]}, 1, SELF_AND_BEFORE), [Orders].[Order Date].DefaultMember, [Orders].[Order Id].DefaultMember), Crossjoin([Products].[ProductName].[AllMember].[Boston Crab Meat], Hierarchize(Descendants({[Orders].[Order Date].[AllMember]}, 1, SELF_AND_BEFORE)), [Orders].[Order Id].DefaultMember), Crossjoin([Products].[ProductName].[AllMember].[Boston Crab Meat], [Orders].[Order Date].[AllMember].[2019-02-17], Hierarchize(Descendants({[Orders].[Order Id].[AllMember]}, 1, SELF_AND_BEFORE))))) ON ROWS, NON EMPTY {[Measures].[Aggregated Profit], [Measures].[Average Daily Profit (od)], [Measures].[Average Daily Profit (dh)]} ON COLUMNS FROM [Order Cube] CELL PROPERTIES VALUE, FORMATTED_VALUE, BACK_COLOR, FORE_COLOR, FONT_FLAGS",
       "updateMode": "once"
      },
      "serverKey": "default",
      "widgetKey": "pivot-table"
     }
    },
    "tags": []
   },
   "outputs": [],
   "source": [
    "session.widget"
   ]
  },
  {
   "cell_type": "markdown",
   "id": "3314c9d9-1019-498a-94ed-b969e7c5a7ee",
   "metadata": {},
   "source": [
    "In the above visualization, we have summation for the `Order Id` level. However, for the levels above `Order Id`, i.e. `Order Date` and `ProductName`, we have the mean aggregations. This may get confusing for some end-users.  \n",
    "\n",
    "A better way to represent our Pivot table when we have different aggregations across different dimensions is to have consistent aggregation on columns and rows where possible. In the visualization below, we sum up the Profits across the `Order Id` for each product (column-wise); and we take the average of the profit across the dates (row-wise).  "
   ]
  },
  {
   "cell_type": "code",
   "execution_count": null,
   "id": "993fc790-97df-4f2e-af99-fb5e1b92e06a",
   "metadata": {
    "atoti": {
     "height": 294,
     "widget": {
      "columnWidths": {
       "[Measures].[Aggregated Profit]": 119,
       "[Measures].[Average Daily Profit (od)]": 153,
       "[Measures].[Average Daily Profit (od)],[Orders].[Order Date].[AllMember]": 149,
       "[Orders].[Order Date].[AllMember],[Measures].[Aggregated Profit]": 119,
       "[Orders].[Order Date].[AllMember],[Measures].[Average Daily Profit (od)]": 153
      },
      "filters": [
       "{[Orders].[Order Date].[AllMember].[2019-02-15], [Orders].[Order Date].[AllMember].[2019-02-16], [Orders].[Order Date].[AllMember].[2019-02-17], [Orders].[Order Date].[AllMember].[2019-02-18]}"
      ],
      "mapping": {
       "columns": [
        "ALL_MEASURES",
        "[Orders].[Order Date].[Order Date]"
       ],
       "measures": [
        "[Measures].[Average Daily Profit (od)]"
       ],
       "rows": [
        "[Products].[ProductName].[ProductName] => [Orders].[Order Id].[Order Id]"
       ]
      },
      "name": "Dimension wise aggregation - summation on columns, mean on rows",
      "query": {
       "mdx": "SELECT NON EMPTY Hierarchize(Union(Crossjoin(Descendants({[Products].[ProductName].[AllMember]}, 1, SELF_AND_BEFORE), [Orders].[Order Id].DefaultMember), Crossjoin([Products].[ProductName].[AllMember].[Alice Mutton], Hierarchize(Descendants({[Orders].[Order Id].[AllMember]}, 1, SELF_AND_BEFORE))))) ON ROWS, NON EMPTY Crossjoin({[Measures].[Average Daily Profit (od)]}, Hierarchize(Descendants({[Orders].[Order Date].[AllMember]}, 1, SELF_AND_BEFORE))) ON COLUMNS FROM [Order Cube] CELL PROPERTIES VALUE, FORMATTED_VALUE, BACK_COLOR, FORE_COLOR, FONT_FLAGS",
       "updateMode": "once"
      },
      "serverKey": "default",
      "widgetKey": "pivot-table"
     }
    },
    "tags": []
   },
   "outputs": [],
   "source": [
    "session.widget"
   ]
  },
  {
   "cell_type": "markdown",
   "id": "481ab309-6245-46d8-8e8c-34811fa660f5",
   "metadata": {},
   "source": [
    "By toggling the view to have the `Order Date` on the columns, we can see that there are missing data points on the timeline. Now, the `mean` function takes the average over the number of members, which means that it only considers the days where there are orders accounted for. However, in our case, we needed the profit to be divided by the total number of days within the given period.  \n",
    "\n",
    "Let's see how we manage aggregation over sparse data in such cases. "
   ]
  },
  {
   "cell_type": "markdown",
   "id": "a6c1008a-fca2-40b6-853c-659d69bfbc61",
   "metadata": {},
   "source": [
    "##### 6.2.2.4.2 Managing total counts over sparse data"
   ]
  },
  {
   "cell_type": "markdown",
   "id": "37bf2707-ea5a-4eb2-aa54-7dbb0b04aa8a",
   "metadata": {},
   "source": [
    "Sometimes, it's all about creativity. There are many ways to chain up different measures to achieve the results we wanted, for example:\n",
    "\n",
    "1. Count the number of days. Then we divide profit by the total number of days.  \n",
    "2. We force a value, e.g. 0, for each day in the period and take the mean of the profit.   "
   ]
  },
  {
   "cell_type": "markdown",
   "id": "fdae9ac7-3188-4dca-931c-e2f5f5cc4eb6",
   "metadata": {},
   "source": [
    "__1. Profit / Day count method__\n",
    "\n",
    "Let's look at how we can achieve the first method.  \n",
    "\n",
    "By making use of the aggregate function [`atoti.agg.count_distinct`](https://docs.atoti.io/latest/api/atoti.agg.count_distinct.html#atoti-agg-count-distinct), we can count the number of distinct days in the queried levels.  "
   ]
  },
  {
   "cell_type": "code",
   "execution_count": null,
   "id": "3ca83b00-9bcf-423e-8923-d4f0a9f42fc2",
   "metadata": {
    "tags": []
   },
   "outputs": [],
   "source": [
    "m[\"Total Days\"] = tt.agg.count_distinct(orders_tbl[\"Order Date\"])"
   ]
  },
  {
   "cell_type": "markdown",
   "id": "f1b922d9-79b1-48b1-80e9-2366e925a1d6",
   "metadata": {},
   "source": [
    "However, what we want is the distinct date count across all the levels, which is the grand total of our `distinct_count` measure. Therefore, we make use of the function [`atoti.total`](https://docs.atoti.io/latest/api/atoti.total.html#atoti-total) to apply the grand total value to the level below, i.e. the `ProductName` level.   \n",
    "\n",
    "However, some products may not be sold on a given day. So, when we query these products, the days counted will be lesser than the span of days we are looking at across all products. What we want is in fact, the number of distinct dates where we have at least an order placed, regardless of the products. If we look at a product level, we would count less days these products, compared to the actual number of days, counted across all products. Here, what we want is the distinct date count across all the levels, which is the grand total of our distinct_count measure."
   ]
  },
  {
   "cell_type": "code",
   "execution_count": null,
   "id": "6a5f506d-90e4-47bc-b91b-2950c9e40f9d",
   "metadata": {
    "tags": []
   },
   "outputs": [],
   "source": [
    "m[\"Total Day Count\"] = tt.total(m[\"Total Days\"], h[\"ProductName\"])"
   ]
  },
  {
   "cell_type": "markdown",
   "id": "5e0e74f3-21b2-4ad9-9547-33cc2be44696",
   "metadata": {},
   "source": [
    "Finally, we divide the profit over the total day count.  "
   ]
  },
  {
   "cell_type": "code",
   "execution_count": null,
   "id": "fe5f75a2-cc68-41be-9a9d-d5969b2ec039",
   "metadata": {
    "tags": []
   },
   "outputs": [],
   "source": [
    "# average daily profit computed using the day count method\n",
    "m[\"Average Daily Profit (dc)\"] = m[\"Aggregated Profit\"] / m[\"Total Day Count\"]"
   ]
  },
  {
   "cell_type": "code",
   "execution_count": null,
   "id": "d55e3009-7500-47c9-8de0-4777013e85ef",
   "metadata": {
    "atoti": {
     "height": 373,
     "widget": {
      "columnWidths": {
       "[Measures].[Historical Daily Profit]": 135,
       "[Orders].[Order Date].[AllMember],[Measures].[Aggregated Profit]": 125,
       "[Orders].[Order Date].[AllMember],[Measures].[Average Daily Profit (dc)]": 163,
       "[Orders].[Order Date].[AllMember],[Measures].[Historical Daily Profit]": 135,
       "[Orders].[Order Date].[AllMember],[Measures].[Total Day Count]": 115,
       "[Orders].[Order Date].[AllMember],[Measures].[Total Days]": 84,
       "[Orders].[Order Date].[AllMember].[2019-02-15],[Measures].[Aggregated Profit]": 125,
       "[Orders].[Order Date].[AllMember].[2019-02-15],[Measures].[Average Daily Profit (dc)]": 163,
       "[Orders].[Order Date].[AllMember].[2019-02-15],[Measures].[Total Day Count]": 115,
       "[Orders].[Order Date].[AllMember].[2019-02-15],[Measures].[Total Days]": 92,
       "[Orders].[Order Date].[AllMember].[2019-02-16],[Measures].[Aggregated Profit]": 125,
       "[Orders].[Order Date].[AllMember].[2019-02-16],[Measures].[Average Daily Profit (dc)]": 163,
       "[Orders].[Order Date].[AllMember].[2019-02-16],[Measures].[Total Day Count]": 115,
       "[Orders].[Order Date].[AllMember].[2019-02-16],[Measures].[Total Days]": 92,
       "[Orders].[Order Date].[AllMember].[2019-02-17],[Measures].[Aggregated Profit]": 125,
       "[Orders].[Order Date].[AllMember].[2019-02-17],[Measures].[Average Daily Profit (dc)]": 163,
       "[Orders].[Order Date].[AllMember].[2019-02-17],[Measures].[Total Day Count]": 115,
       "[Orders].[Order Date].[AllMember].[2019-02-17],[Measures].[Total Days]": 92,
       "[Orders].[Order Date].[AllMember].[2019-02-18],[Measures].[Aggregated Profit]": 125,
       "[Orders].[Order Date].[AllMember].[2019-02-18],[Measures].[Average Daily Profit (dc)]": 163,
       "[Orders].[Order Date].[AllMember].[2019-02-18],[Measures].[Total Day Count]": 115,
       "[Orders].[Order Date].[AllMember].[2019-02-18],[Measures].[Total Days]": 92,
       "[Orders].[Order Date].[AllMember].[2019-03-15],[Measures].[Aggregated Profit]": 125,
       "[Orders].[Order Date].[AllMember].[2019-03-15],[Measures].[Average Daily Profit (dc)]": 163,
       "[Orders].[Order Date].[AllMember].[2019-03-15],[Measures].[Total Day Count]": 115,
       "[Orders].[Order Date].[AllMember].[2019-03-15],[Measures].[Total Days]": 92,
       "[Orders].[Order Date].[AllMember].[2019-03-16],[Measures].[Aggregated Profit]": 125,
       "[Orders].[Order Date].[AllMember].[2019-03-16],[Measures].[Average Daily Profit (dc)]": 163,
       "[Orders].[Order Date].[AllMember].[2019-03-16],[Measures].[Total Day Count]": 115,
       "[Orders].[Order Date].[AllMember].[2019-03-16],[Measures].[Total Days]": 93,
       "[Orders].[Order Date].[AllMember].[2019-03-17],[Measures].[Aggregated Profit]": 125,
       "[Orders].[Order Date].[AllMember].[2019-03-17],[Measures].[Average Daily Profit (dc)]": 163,
       "[Orders].[Order Date].[AllMember].[2019-03-17],[Measures].[Total Day Count]": 115,
       "[Orders].[Order Date].[AllMember].[2019-03-17],[Measures].[Total Days]": 92,
       "[Orders].[Order Date].[AllMember].[2019-03-18],[Measures].[Aggregated Profit]": 125,
       "[Orders].[Order Date].[AllMember].[2019-03-18],[Measures].[Average Daily Profit (dc)]": 163,
       "[Orders].[Order Date].[AllMember].[2019-03-18],[Measures].[Total Day Count]": 115,
       "[Orders].[Order Date].[AllMember].[2019-03-18],[Measures].[Total Days]": 93,
       "[Orders].[Order Date].[AllMember].[2020-01-15],[Measures].[Aggregated Profit]": 125,
       "[Orders].[Order Date].[AllMember].[2020-01-15],[Measures].[Average Daily Profit (dc)]": 163,
       "[Orders].[Order Date].[AllMember].[2020-01-15],[Measures].[Total Day Count]": 115,
       "[Orders].[Order Date].[AllMember].[2020-01-15],[Measures].[Total Days]": 92,
       "[Orders].[Order Date].[AllMember].[2020-01-16],[Measures].[Aggregated Profit]": 125,
       "[Orders].[Order Date].[AllMember].[2020-01-16],[Measures].[Average Daily Profit (dc)]": 163,
       "[Orders].[Order Date].[AllMember].[2020-01-16],[Measures].[Total Day Count]": 115,
       "[Orders].[Order Date].[AllMember].[2020-01-16],[Measures].[Total Days]": 92,
       "[Orders].[Order Date].[AllMember].[2020-01-17],[Measures].[Aggregated Profit]": 125,
       "[Orders].[Order Date].[AllMember].[2020-01-17],[Measures].[Average Daily Profit (dc)]": 163,
       "[Orders].[Order Date].[AllMember].[2020-01-17],[Measures].[Total Day Count]": 115,
       "[Orders].[Order Date].[AllMember].[2020-01-17],[Measures].[Total Days]": 91,
       "[Orders].[Order Date].[AllMember].[2020-01-18],[Measures].[Aggregated Profit]": 125,
       "[Orders].[Order Date].[AllMember].[2020-01-18],[Measures].[Average Daily Profit (dc)]": 163,
       "[Orders].[Order Date].[AllMember].[2020-01-18],[Measures].[Total Day Count]": 115,
       "[Orders].[Order Date].[AllMember].[2020-01-18],[Measures].[Total Days]": 92,
       "[Products].[ProductName].[ProductName]": 209
      },
      "mapping": {
       "columns": [
        "[Orders].[Order Date].[Order Date]",
        "ALL_MEASURES"
       ],
       "measures": [
        "[Measures].[Total Days]",
        "[Measures].[Total Day Count]",
        "[Measures].[Aggregated Profit]",
        "[Measures].[Average Daily Profit (dc)]"
       ],
       "rows": [
        "[Products].[ProductName].[ProductName]"
       ]
      },
      "name": "Historical Daily Profit",
      "query": {
       "mdx": "SELECT NON EMPTY Crossjoin(Hierarchize(Descendants({[Orders].[Order Date].[AllMember]}, 1, SELF_AND_BEFORE)), {[Measures].[Total Days], [Measures].[Total Day Count], [Measures].[Aggregated Profit], [Measures].[Average Daily Profit (dc)]}) ON COLUMNS, NON EMPTY Hierarchize(Descendants({[Products].[ProductName].[AllMember]}, 1, SELF_AND_BEFORE)) ON ROWS FROM [Order Cube] CELL PROPERTIES VALUE, FORMATTED_VALUE, BACK_COLOR, FORE_COLOR, FONT_FLAGS",
       "updateMode": "once"
      },
      "serverKey": "default",
      "widgetKey": "pivot-table"
     }
    },
    "tags": []
   },
   "outputs": [],
   "source": [
    "session.widget"
   ]
  },
  {
   "cell_type": "markdown",
   "id": "b2862261-0e8d-4382-8042-6337f5f5180b",
   "metadata": {},
   "source": [
    "This method works even when we use the multi-level `Date Hierarchy` to look at the average monthly or yearly profit.  "
   ]
  },
  {
   "cell_type": "code",
   "execution_count": null,
   "id": "7f8117e3-2459-4cd1-b23b-653f64716d4d",
   "metadata": {
    "atoti": {
     "height": 373,
     "widget": {
      "columnWidths": {
       "[Measures].[Historical Daily Profit]": 135,
       "[Orders].[Date Hierarchy].[AllMember],[Measures].[Aggregated Profit]": 125,
       "[Orders].[Date Hierarchy].[AllMember],[Measures].[Average Daily Profit (dc)]": 163,
       "[Orders].[Date Hierarchy].[AllMember],[Measures].[Total Day Count]": 115,
       "[Orders].[Date Hierarchy].[AllMember],[Measures].[Total Days]": 84,
       "[Orders].[Date Hierarchy].[AllMember].[2019],[Measures].[Aggregated Profit]": 125,
       "[Orders].[Date Hierarchy].[AllMember].[2019],[Measures].[Average Daily Profit (dc)]": 163,
       "[Orders].[Date Hierarchy].[AllMember].[2019],[Measures].[Total Day Count]": 115,
       "[Orders].[Date Hierarchy].[AllMember].[2019],[Measures].[Total Days]": 84,
       "[Orders].[Date Hierarchy].[AllMember].[2019].[02],[Measures].[Aggregated Profit]": 125,
       "[Orders].[Date Hierarchy].[AllMember].[2019].[02],[Measures].[Average Daily Profit (dc)]": 163,
       "[Orders].[Date Hierarchy].[AllMember].[2019].[02],[Measures].[Total Day Count]": 115,
       "[Orders].[Date Hierarchy].[AllMember].[2019].[02],[Measures].[Total Days]": 84,
       "[Orders].[Date Hierarchy].[AllMember].[2019].[02].[2019-02-15],[Measures].[Aggregated Profit]": 125,
       "[Orders].[Date Hierarchy].[AllMember].[2019].[02].[2019-02-15],[Measures].[Average Daily Profit (dc)]": 163,
       "[Orders].[Date Hierarchy].[AllMember].[2019].[02].[2019-02-15],[Measures].[Total Day Count]": 115,
       "[Orders].[Date Hierarchy].[AllMember].[2019].[02].[2019-02-15],[Measures].[Total Days]": 92,
       "[Orders].[Date Hierarchy].[AllMember].[2019].[02].[2019-02-16],[Measures].[Aggregated Profit]": 125,
       "[Orders].[Date Hierarchy].[AllMember].[2019].[02].[2019-02-16],[Measures].[Average Daily Profit (dc)]": 163,
       "[Orders].[Date Hierarchy].[AllMember].[2019].[02].[2019-02-16],[Measures].[Total Day Count]": 115,
       "[Orders].[Date Hierarchy].[AllMember].[2019].[02].[2019-02-16],[Measures].[Total Days]": 92,
       "[Orders].[Date Hierarchy].[AllMember].[2019].[02].[2019-02-17],[Measures].[Aggregated Profit]": 125,
       "[Orders].[Date Hierarchy].[AllMember].[2019].[02].[2019-02-17],[Measures].[Average Daily Profit (dc)]": 163,
       "[Orders].[Date Hierarchy].[AllMember].[2019].[02].[2019-02-17],[Measures].[Total Day Count]": 115,
       "[Orders].[Date Hierarchy].[AllMember].[2019].[02].[2019-02-17],[Measures].[Total Days]": 92,
       "[Orders].[Date Hierarchy].[AllMember].[2019].[02].[2019-02-18],[Measures].[Aggregated Profit]": 125,
       "[Orders].[Date Hierarchy].[AllMember].[2019].[02].[2019-02-18],[Measures].[Average Daily Profit (dc)]": 163,
       "[Orders].[Date Hierarchy].[AllMember].[2019].[02].[2019-02-18],[Measures].[Total Day Count]": 115,
       "[Orders].[Date Hierarchy].[AllMember].[2019].[02].[2019-02-18],[Measures].[Total Days]": 92,
       "[Orders].[Date Hierarchy].[AllMember].[2019].[03],[Measures].[Aggregated Profit]": 125,
       "[Orders].[Date Hierarchy].[AllMember].[2019].[03],[Measures].[Average Daily Profit (dc)]": 163,
       "[Orders].[Date Hierarchy].[AllMember].[2019].[03],[Measures].[Total Day Count]": 115,
       "[Orders].[Date Hierarchy].[AllMember].[2019].[03],[Measures].[Total Days]": 84,
       "[Orders].[Date Hierarchy].[AllMember].[2020],[Measures].[Aggregated Profit]": 125,
       "[Orders].[Date Hierarchy].[AllMember].[2020],[Measures].[Average Daily Profit (dc)]": 163,
       "[Orders].[Date Hierarchy].[AllMember].[2020],[Measures].[Total Day Count]": 115,
       "[Orders].[Date Hierarchy].[AllMember].[2020],[Measures].[Total Days]": 84,
       "[Orders].[Order Date].[AllMember],[Measures].[Average Daily Profit (dc)]": 152,
       "[Orders].[Order Date].[AllMember],[Measures].[Historical Daily Profit]": 135,
       "[Products].[ProductName].[ProductName]": 209
      },
      "mapping": {
       "columns": [
        "[Orders].[Date Hierarchy].[Year] => [Orders].[Date Hierarchy].[Order Date]",
        "ALL_MEASURES"
       ],
       "measures": [
        "[Measures].[Total Days]",
        "[Measures].[Total Day Count]",
        "[Measures].[Aggregated Profit]",
        "[Measures].[Average Daily Profit (dc)]"
       ],
       "rows": [
        "[Products].[ProductName].[ProductName]"
       ]
      },
      "name": "Historical Daily Profit",
      "query": {
       "mdx": "SELECT NON EMPTY Crossjoin(Hierarchize(Union(Descendants({[Orders].[Date Hierarchy].[AllMember]}, 1, SELF_AND_BEFORE), Descendants({[Orders].[Date Hierarchy].[AllMember].[2019]}, [Orders].[Date Hierarchy].[Month]), Descendants({[Orders].[Date Hierarchy].[AllMember].[2019].[02]}, [Orders].[Date Hierarchy].[Order Date]))), {[Measures].[Total Days], [Measures].[Total Day Count], [Measures].[Aggregated Profit], [Measures].[Average Daily Profit (dc)]}) ON COLUMNS, NON EMPTY Hierarchize(Descendants({[Products].[ProductName].[AllMember]}, 1, SELF_AND_BEFORE)) ON ROWS FROM [Order Cube] CELL PROPERTIES VALUE, FORMATTED_VALUE, BACK_COLOR, FORE_COLOR, FONT_FLAGS",
       "updateMode": "once"
      },
      "serverKey": "default",
      "widgetKey": "pivot-table"
     }
    },
    "tags": []
   },
   "outputs": [],
   "source": [
    "session.widget"
   ]
  },
  {
   "cell_type": "markdown",
   "id": "8a266de0-b73a-430b-9d13-6184d58dbe04",
   "metadata": {},
   "source": [
    "__2. Force zero value for days without orders__  \n",
    "\n",
    "In this method, we will make use of the property of [`atoti.CumulativeScope`](https://docs.atoti.io/latest/api/atoti.CumulativeScope.html#atoti-cumulativescope) to ensure there is a value for all members of the level. We will build a few measures to show the property of the `dense` and `window` parameters from the `atoti.CumulativeScope` function.\n",
    "\n",
    "Previously, we learned how we can use `atoti.CumulativeScope` to compute running total. The function has a `dense` parameter which generate values for all the members of the level. For members with no underlying values, it will repeat the value of the previous member."
   ]
  },
  {
   "cell_type": "code",
   "execution_count": null,
   "id": "72de71ee-6b62-45a1-81c8-4d1fd01c6765",
   "metadata": {
    "tags": []
   },
   "outputs": [],
   "source": [
    "m[\"Cumulative profit (dense)\"] = tt.agg.sum(\n",
    "    m[\"Aggregated Profit\"],\n",
    "    scope=tt.CumulativeScope(\n",
    "        level=l[(\"Orders\", \"Order Date\", \"Order Date\")], dense=True\n",
    "    ),\n",
    ")"
   ]
  },
  {
   "cell_type": "code",
   "execution_count": null,
   "id": "65767bc3-0665-425e-be44-4c4d9639bab2",
   "metadata": {
    "atoti": {
     "height": 298,
     "widget": {
      "columnWidths": {
       "[Measures].[Aggregated Profit]": 125,
       "[Measures].[Average Daily Profit (cumulative)]": 197,
       "[Measures].[Average Daily Profit (dh)]": 153,
       "[Measures].[Cumulative profit (dense winSize 0)]": 210,
       "[Measures].[Cumulative profit (dense)]": 169,
       "[Orders].[Order Date].[Order Date]": 87,
       "[Products].[ProductName].[ProductName]": 209
      },
      "filters": [
       "[Products].[ProductName].[AllMember].[Alice Mutton]"
      ],
      "mapping": {
       "columns": [
        "ALL_MEASURES"
       ],
       "measures": [
        "[Measures].[Aggregated Profit]",
        "[Measures].[Cumulative profit (dense)]"
       ],
       "rows": [
        "[Products].[ProductName].[ProductName]",
        "[Orders].[Order Date].[Order Date]"
       ]
      },
      "name": "Cumulative aggregation with dense set to True",
      "query": {
       "mdx": "SELECT NON EMPTY {[Measures].[Aggregated Profit], [Measures].[Cumulative profit (dense)]} ON COLUMNS, NON EMPTY Crossjoin(Hierarchize(Descendants({[Products].[ProductName].[AllMember]}, 1, SELF_AND_BEFORE)), Hierarchize(Descendants({[Orders].[Order Date].[AllMember]}, 1, SELF_AND_BEFORE))) ON ROWS FROM [Order Cube] CELL PROPERTIES VALUE, FORMATTED_VALUE, BACK_COLOR, FORE_COLOR, FONT_FLAGS",
       "updateMode": "once"
      },
      "serverKey": "default",
      "widgetKey": "pivot-table"
     }
    },
    "tags": []
   },
   "outputs": [],
   "source": [
    "session.widget"
   ]
  },
  {
   "cell_type": "markdown",
   "id": "a373af2a-cf31-4ca7-8e23-4dd08863ff34",
   "metadata": {},
   "source": [
    "While we want to ensure there is value for each member, we do not actually want it to accumulate. Therefore, we are going to make use of the `window` parameter to limit the number of members to accumulate to 0, i.e. only aggregate its own value. Therefore, a value of 0 will be returned when there is no value.  "
   ]
  },
  {
   "cell_type": "code",
   "execution_count": null,
   "id": "bfd9ab61-6d99-48c0-bc1c-a861de8c0d64",
   "metadata": {
    "tags": []
   },
   "outputs": [],
   "source": [
    "m[\"Cumulative profit (dense winSize 0)\"] = tt.agg.sum(\n",
    "    m[\"Aggregated Profit\"],\n",
    "    scope=tt.CumulativeScope(\n",
    "        level=l[(\"Orders\", \"Order Date\", \"Order Date\")], dense=True, window=range(0, 0)\n",
    "    ),\n",
    ")"
   ]
  },
  {
   "cell_type": "code",
   "execution_count": null,
   "id": "613dcd2c-25b0-4ccc-8811-3de701bd6cf3",
   "metadata": {
    "atoti": {
     "height": 481,
     "widget": {
      "columnWidths": {
       "[Measures].[Aggregated Profit]": 125,
       "[Measures].[Average Daily Profit (cumulative)]": 197,
       "[Measures].[Average Daily Profit (dh)]": 153,
       "[Measures].[Cumulative profit (dense winSize 0)]": 226,
       "[Measures].[Cumulative profit (dense)]": 169,
       "[Orders].[Order Date].[Order Date]": 87,
       "[Products].[ProductName].[ProductName]": 209
      },
      "filters": [
       "[Products].[ProductName].[AllMember].[Alice Mutton]"
      ],
      "mapping": {
       "columns": [
        "ALL_MEASURES"
       ],
       "measures": [
        "[Measures].[Aggregated Profit]",
        "[Measures].[Cumulative profit (dense)]",
        "[Measures].[Cumulative profit (dense winSize 0)]"
       ],
       "rows": [
        "[Products].[ProductName].[ProductName]",
        "[Orders].[Order Date].[Order Date]"
       ]
      },
      "name": "Limit cumulative window size to 0",
      "query": {
       "mdx": "SELECT NON EMPTY {[Measures].[Aggregated Profit], [Measures].[Cumulative profit (dense)], [Measures].[Cumulative profit (dense winSize 0)]} ON COLUMNS, NON EMPTY Crossjoin(Hierarchize(Descendants({[Products].[ProductName].[AllMember]}, 1, SELF_AND_BEFORE)), Hierarchize(Descendants({[Orders].[Order Date].[AllMember]}, 1, SELF_AND_BEFORE))) ON ROWS FROM [Order Cube] CELL PROPERTIES VALUE, FORMATTED_VALUE, BACK_COLOR, FORE_COLOR, FONT_FLAGS",
       "updateMode": "once"
      },
      "serverKey": "default",
      "widgetKey": "pivot-table"
     }
    },
    "tags": []
   },
   "outputs": [],
   "source": [
    "session.widget"
   ]
  },
  {
   "cell_type": "markdown",
   "id": "ca52227d-af73-433c-87ba-746fdd707727",
   "metadata": {},
   "source": [
    "Now, we can compute our daily average profit using the `atoti.agg.mean` function.  "
   ]
  },
  {
   "cell_type": "code",
   "execution_count": null,
   "id": "7f7c1331-de5e-4334-826c-f3f66a4c9852",
   "metadata": {
    "tags": []
   },
   "outputs": [],
   "source": [
    "# average daily profit computed using the cumulative function\n",
    "m[\"Average Daily Profit (cumulative)\"] = tt.agg.mean(\n",
    "    m[\"Cumulative profit (dense winSize 0)\"],\n",
    "    scope=tt.OriginScope(levels={l[(\"Orders\", \"Order Date\", \"Order Date\")]}),\n",
    ")"
   ]
  },
  {
   "cell_type": "code",
   "execution_count": null,
   "id": "04df6839-2976-4f16-a53a-0bec4b23a3d0",
   "metadata": {
    "atoti": {
     "height": 468,
     "widget": {
      "columnWidths": {
       "[Measures].[Aggregated Profit]": 125,
       "[Measures].[Average Daily Profit (cumulative)]": 210,
       "[Measures].[Average Daily Profit (dc)]": 163,
       "[Measures].[Average Daily Profit (dh)]": 153,
       "[Measures].[Cumulative profit (dense winSize 0)]": 226,
       "[Measures].[Cumulative profit (dense)]": 169,
       "[Orders].[Order Date].[Order Date]": 87,
       "[Products].[ProductName].[ProductName]": 209
      },
      "filters": [
       "[Products].[ProductName].[AllMember].[Alice Mutton]"
      ],
      "mapping": {
       "columns": [
        "ALL_MEASURES"
       ],
       "measures": [
        "[Measures].[Aggregated Profit]",
        "[Measures].[Cumulative profit (dense)]",
        "[Measures].[Cumulative profit (dense winSize 0)]",
        "[Measures].[Average Daily Profit (cumulative)]",
        "[Measures].[Average Daily Profit (dc)]"
       ],
       "rows": [
        "[Products].[ProductName].[ProductName]",
        "[Orders].[Order Date].[Order Date]"
       ]
      },
      "name": "Average Daily Profit - zero value for days without orders",
      "query": {
       "mdx": "SELECT NON EMPTY {[Measures].[Aggregated Profit], [Measures].[Cumulative profit (dense)], [Measures].[Cumulative profit (dense winSize 0)], [Measures].[Average Daily Profit (cumulative)], [Measures].[Average Daily Profit (dc)]} ON COLUMNS, NON EMPTY Crossjoin(Hierarchize(Descendants({[Products].[ProductName].[AllMember]}, 1, SELF_AND_BEFORE)), Hierarchize(Descendants({[Orders].[Order Date].[AllMember]}, 1, SELF_AND_BEFORE))) ON ROWS FROM [Order Cube] CELL PROPERTIES VALUE, FORMATTED_VALUE, BACK_COLOR, FORE_COLOR, FONT_FLAGS",
       "updateMode": "once"
      },
      "serverKey": "default",
      "widgetKey": "pivot-table"
     }
    },
    "tags": []
   },
   "outputs": [],
   "source": [
    "session.widget"
   ]
  },
  {
   "cell_type": "markdown",
   "id": "2df12801-bee7-4827-9b87-6619846af22a",
   "metadata": {},
   "source": [
    "The drawback of this method is that the computation will not work for bucketed daily average along the `Date Hierarchy`. It currently accumulates along the `Date Order` level under the `Date Order` hierarchy; and not under the `Date Hierarchy` hierarchy.  \n",
    "\n",
    "As we can see from the results below, the value for `Average Daily Profit (cumulative)` is incorrect. We will have to create a separate measure along the `Date Order` level under the `Date Hierarchy` hierarchy. "
   ]
  },
  {
   "cell_type": "code",
   "execution_count": null,
   "id": "55419d04-a963-4cca-9bba-d350eb436c38",
   "metadata": {
    "atoti": {
     "widget": {
      "columnWidths": {
       "[Measures].[Average Daily Profit (cumulative)]": 210,
       "[Measures].[Average Daily Profit (dc)]": 163,
       "[Measures].[Cumulative profit (dense winSize 0)]": 226,
       "[Orders].[Date Hierarchy].[Year]": 86,
       "[Products].[ProductName].[ProductName]": 209
      },
      "mapping": {
       "columns": [
        "ALL_MEASURES"
       ],
       "measures": [
        "[Measures].[Cumulative profit (dense winSize 0)]",
        "[Measures].[Average Daily Profit (cumulative)]",
        "[Measures].[Average Daily Profit (dc)]"
       ],
       "rows": [
        "[Products].[ProductName].[ProductName]",
        "[Orders].[Date Hierarchy].[Year] => [Orders].[Date Hierarchy].[Order Date]"
       ]
      },
      "query": {
       "mdx": "SELECT NON EMPTY Hierarchize(Crossjoin(Hierarchize(Descendants({[Products].[ProductName].[AllMember]}, 1, SELF_AND_BEFORE)), Hierarchize(Descendants({[Orders].[Date Hierarchy].[AllMember]}, 1, SELF_AND_BEFORE)))) ON ROWS, NON EMPTY {[Measures].[Cumulative profit (dense winSize 0)], [Measures].[Average Daily Profit (cumulative)], [Measures].[Average Daily Profit (dc)]} ON COLUMNS FROM [Order Cube] CELL PROPERTIES VALUE, FORMATTED_VALUE, BACK_COLOR, FORE_COLOR, FONT_FLAGS",
       "updateMode": "once"
      },
      "serverKey": "default",
      "widgetKey": "pivot-table"
     }
    },
    "tags": []
   },
   "outputs": [],
   "source": [
    "session.widget"
   ]
  },
  {
   "cell_type": "markdown",
   "id": "8ac6a8e4-3431-4174-af0b-bcf60610ec6c",
   "metadata": {},
   "source": [
    "#### 6.2.2.5 Format measures"
   ]
  },
  {
   "cell_type": "markdown",
   "id": "af8415b5-bffe-4d49-883b-781f4ce7da41",
   "metadata": {},
   "source": [
    "We can apply formatting for the **display** of our measures in the returned query results. Note that aggregations performed on the measure will still use its unformatted value for the computation. "
   ]
  },
  {
   "cell_type": "code",
   "execution_count": null,
   "id": "00694941-d15d-4350-82e8-ca807e8a6cc9",
   "metadata": {
    "tags": []
   },
   "outputs": [],
   "source": [
    "m[\"Aggregated Profit\"].formatter = \"DOUBLE[$#,##0.00]\""
   ]
  },
  {
   "cell_type": "code",
   "execution_count": null,
   "id": "c1bb9c59-fa8f-4504-bc3c-87eba0541e36",
   "metadata": {
    "atoti": {
     "height": 317,
     "widget": {
      "mapping": {
       "columns": [
        "ALL_MEASURES"
       ],
       "measures": [
        "[Measures].[Quantity Sold.SUM]",
        "[Measures].[Aggregated Profit]"
       ],
       "rows": [
        "[Products].[Product Tree].[ProductCategory]"
       ]
      },
      "name": "Profit by Product Category",
      "query": {
       "mdx": "SELECT NON EMPTY Hierarchize(Descendants({[Products].[Product Tree].[AllMember]}, 1, SELF_AND_BEFORE)) ON ROWS, NON EMPTY {[Measures].[Quantity Sold.SUM], [Measures].[Aggregated Profit]} ON COLUMNS FROM [Order Cube] CELL PROPERTIES VALUE, FORMATTED_VALUE, BACK_COLOR, FORE_COLOR, FONT_FLAGS",
       "updateMode": "once"
      },
      "serverKey": "default",
      "widgetKey": "pivot-table"
     }
    },
    "tags": []
   },
   "outputs": [],
   "source": [
    "session.widget"
   ]
  },
  {
   "cell_type": "markdown",
   "id": "b2c22604-c0dd-404c-a798-b652ccf02eaa",
   "metadata": {},
   "source": [
    "💡 Refer to Atoti documentation for other [formatting syntax](https://docs.atoti.io/latest/api/atoti.Measure.formatter.html#atoti-measure-formatter)."
   ]
  },
  {
   "cell_type": "markdown",
   "id": "45c37c01-ee20-4874-84ad-d7f55d799f7f",
   "metadata": {},
   "source": [
    "## 6.3 Cube Housekeeping"
   ]
  },
  {
   "cell_type": "markdown",
   "id": "c5086f99-179e-4996-81ef-da4da51a0f25",
   "metadata": {},
   "source": [
    "There are a few ways to maintaining and looking after your cube:  \n",
    "- [Delete unwanted hierarchies, levels and measures](#6.3.1-Delete-unwanted-hierarchies,-levels-and-measures)\n",
    "- [Hide technical measures](#6.3.2-Hide-technical-measures)  \n",
    "- [Keep measures organized in folders](#6.3.3-Keep-measures-organized-in-folders)  \n"
   ]
  },
  {
   "cell_type": "markdown",
   "id": "7a3fae5d-1a31-4b0e-8410-c83f48a5a3ed",
   "metadata": {},
   "source": [
    "### 6.3.1 Delete unwanted hierarchies, levels and measures  "
   ]
  },
  {
   "cell_type": "markdown",
   "id": "cd251f7e-0790-40e8-a35f-0745409386a8",
   "metadata": {},
   "source": [
    "Let's recall that a cube has three type of attributes: hierarchies, levels and measures. This section looks at how we can delete these attributes:   \n",
    "\n",
    "- [6.3.1.1 Delete hierarchies](#6.3.1.1-Delete-hierarchies)\n",
    "- [6.3.1.2 Delete levels](#6.3.1.2-Delete-levels)\n",
    "- [6.3.1.3 Delete measures](#6.3.1.3-Delete-measures)"
   ]
  },
  {
   "cell_type": "markdown",
   "id": "830caa96-d033-4f53-be98-5e27a9f2ae59",
   "metadata": {},
   "source": [
    "#### 6.3.1.1 Delete hierarchies"
   ]
  },
  {
   "cell_type": "markdown",
   "id": "e19f5f97-5657-4677-ab5e-37de528c3320",
   "metadata": {},
   "source": [
    "Previously, we have created a multi-level hierarchy called `Product Tree` which comprises of the levels `ProductCategory` and `ProductName`.  \n",
    "\n",
    "Whenever, we add the hierarchy `Product Tree` to our query, `ProductCategory` is displayed. Therefore, we can actually delete the single hierarchy `ProductCategory` since it's no longer required.  "
   ]
  },
  {
   "cell_type": "raw",
   "id": "e0000c28-8e6f-4a2c-adf0-50cec4bdd30a",
   "metadata": {
    "tags": []
   },
   "source": [
    "# We've marked this cell as `Raw` to prevent breakages of dependent upstream widgets\n",
    "# that may depend on this hierarchy. Set this cell to `Code` to execute the change\n",
    "del h[\"ProductCategory\"]\n",
    "h"
   ]
  },
  {
   "cell_type": "markdown",
   "id": "e7290509-32e1-41e7-9288-0215f8031490",
   "metadata": {},
   "source": [
    "When the hierarchy is deleted, the underlying levels will also be removed.  "
   ]
  },
  {
   "cell_type": "markdown",
   "id": "700fe533-e260-48c3-a30b-301c91fdc30d",
   "metadata": {},
   "source": [
    "#### 6.3.1.2 Delete levels"
   ]
  },
  {
   "cell_type": "markdown",
   "id": "291dfb60-94aa-4ad3-8b65-7a9b601be345",
   "metadata": {},
   "source": [
    "We can delete levels in the same way as we delete the hierarchy. However, if there is more than 1 level with the same name, we have to define the full path to the level: "
   ]
  },
  {
   "cell_type": "raw",
   "id": "a79e09d3-5789-43ad-b1c0-a20df4916a51",
   "metadata": {
    "tags": []
   },
   "source": [
    "# We've marked this cell as `Raw` to prevent breakages of dependent upstream widgets\n",
    "# that may depend on this level. Set this cell to `Code` to execute the change\n",
    "del l[(\"Products\", \"Product Tree\", \"ProductName\")]\n",
    "l"
   ]
  },
  {
   "cell_type": "markdown",
   "id": "1591f26e-3441-4220-810e-db96e6134d4d",
   "metadata": {
    "tags": []
   },
   "source": [
    "##### **💡Update existing hierarchy**  \n",
    "\n",
    "Since we still want our multi-level hierarchy, let's update it back to its original state:"
   ]
  },
  {
   "cell_type": "raw",
   "id": "af04b21c-8372-4778-8c34-9a41e848bfcd",
   "metadata": {
    "tags": []
   },
   "source": [
    "# We've marked this cell as `Raw` to prevent breakages of dependent upstream widgets\n",
    "# that may depend on this hierarchy. Set this cell to `Code` to execute the change\n",
    "h.update(\n",
    "    {\n",
    "        \"Product Tree\": [\n",
    "            product_tbl[\"ProductCategory\"],\n",
    "            product_tbl[\"ProductName\"],\n",
    "            orders_tbl[\"Product Id\"],\n",
    "        ],\n",
    "    }\n",
    ")\n",
    "h"
   ]
  },
  {
   "cell_type": "markdown",
   "id": "f3117cc2-2d53-49cb-b6a9-6c17b4784606",
   "metadata": {},
   "source": [
    "#### 6.3.1.3 Delete measures"
   ]
  },
  {
   "cell_type": "markdown",
   "id": "cb214bef-ce71-4c07-8780-5ab32d404126",
   "metadata": {},
   "source": [
    "As with hierarchies and levels, we use `del` command to delete measures.  "
   ]
  },
  {
   "cell_type": "code",
   "execution_count": null,
   "id": "b011cee6-8af5-4e55-ad32-a93cb3311792",
   "metadata": {
    "tags": []
   },
   "outputs": [],
   "source": [
    "m"
   ]
  },
  {
   "cell_type": "raw",
   "id": "7106d40a-6575-4625-b106-676f035b6fb8",
   "metadata": {
    "tags": []
   },
   "source": [
    "# We've marked this cell as `Raw` to prevent breakages of dependent upstream widgets\n",
    "# that may depend on this measure. Set this cell to `Code` to execute the change\n",
    "del m[\"Quantity Sold.MEAN\"]\n",
    "m"
   ]
  },
  {
   "cell_type": "markdown",
   "id": "19143f41-e1ef-49bb-8860-a3b24ba5df30",
   "metadata": {},
   "source": [
    "### 6.3.2 Hide technical measures"
   ]
  },
  {
   "cell_type": "markdown",
   "id": "171a4f33-c60b-4404-8bd1-885f09330130",
   "metadata": {},
   "source": [
    "In section [6.2.2.1.2 Chaining up measures](#6.2.2.1.2-Chaining-up-measures), we saw how we can create a measure using other measures. Some of the interim measures, also known as technical measures, are of little interest to end users.  \n",
    "\n",
    "We cannot delete these measures as they are required for the aggregation. Instead, we can hide them from the view of end users to avoid cluttering and confusion."
   ]
  },
  {
   "cell_type": "code",
   "execution_count": null,
   "id": "f552e81b-ff00-402a-b5b7-1bb88f7b1b6d",
   "metadata": {
    "tags": []
   },
   "outputs": [],
   "source": [
    "m[\"_ProfitPerUnit (mean)\"].visible = False\n",
    "m[\"_ProfitPerUnit (sum)\"].visible = False\n",
    "m[\"_ProfitPerUnit (sv)\"].visible = False"
   ]
  },
  {
   "cell_type": "code",
   "execution_count": null,
   "id": "65c101c9-815f-4795-898b-ef5d5aa737ee",
   "metadata": {
    "atoti": {
     "height": 116
    },
    "tags": []
   },
   "outputs": [],
   "source": [
    "session.widget"
   ]
  },
  {
   "cell_type": "markdown",
   "id": "ba4a606f-dd7d-41e2-8540-85f52e7be87a",
   "metadata": {},
   "source": [
    "Select the widget cell above and verify that the measures with name starting with `_ProfitPerUnit` is no longer displayed in the content editor:  \n",
    "\n",
    "<img src=\"https://data.atoti.io/atoti-academy/images/introduction/6_hide_measures.png\" width=\"500px\"/>"
   ]
  },
  {
   "cell_type": "markdown",
   "id": "aaca7abd-a929-4bdb-8453-54752ebed7a0",
   "metadata": {},
   "source": [
    "It is also not displayed when we view the `cube.measures`."
   ]
  },
  {
   "cell_type": "code",
   "execution_count": null,
   "id": "2ff052fb-6395-4e40-8093-5bcd505f9534",
   "metadata": {
    "tags": []
   },
   "outputs": [],
   "source": [
    "m"
   ]
  },
  {
   "cell_type": "markdown",
   "id": "e9832320-13ec-4453-8261-3cc243afc4fa",
   "metadata": {},
   "source": [
    "### 6.3.3 Organize measures in folders"
   ]
  },
  {
   "cell_type": "markdown",
   "id": "d4c2ec50-d9e2-469d-9e70-1d537f12642b",
   "metadata": {},
   "source": [
    "Folders helps to keep the measures organized. We can expand the relevant folders to access the measures or perform a search to find the intended measure quickly:  \n",
    "\n",
    "<img src=\"https://data.atoti.io/atoti-academy/images/introduction/6_verify_folder.gif\" width=\"500px\" />  "
   ]
  },
  {
   "cell_type": "code",
   "execution_count": null,
   "id": "43744bdc-5ac1-46d6-8f9c-5148248dbb59",
   "metadata": {
    "tags": []
   },
   "outputs": [],
   "source": [
    "m[\"Selling Price Per Unit\"].folder = \"Unit Price\""
   ]
  },
  {
   "cell_type": "markdown",
   "id": "cea28d5b-8b58-4468-a9d6-55748cfd1665",
   "metadata": {},
   "source": [
    "Let's assign the measures with the substring \"Unit\" in its name to the \"Unit Price\" folder."
   ]
  },
  {
   "cell_type": "code",
   "execution_count": null,
   "id": "bc0b4794-6101-4107-9f52-01b0078d2b00",
   "metadata": {
    "tags": []
   },
   "outputs": [],
   "source": [
    "for _m_name in m:\n",
    "    if \"Unit\" in m[_m_name].name:\n",
    "        m[_m_name].folder = \"Unit Price\""
   ]
  },
  {
   "cell_type": "markdown",
   "id": "bc15aa4f-201e-4250-b76c-ec47fd1e4b23",
   "metadata": {},
   "source": [
    "### 📐Exercise  \n",
    "\n",
    "Try accessing the measure `Selling Price Per Unit` from the content editor.  "
   ]
  },
  {
   "cell_type": "markdown",
   "id": "e5c40991-19d7-460c-aef3-d4819d04dfdf",
   "metadata": {},
   "source": [
    "### 📖 Solution  \n",
    "\n",
    "Get started with and follow the gif at the beginning of section [6.3.3](#6.3.3-Keep-measures-organized-in-folders):  \n",
    "\n",
    "`session.widget`"
   ]
  },
  {
   "cell_type": "code",
   "execution_count": null,
   "id": "c1774a4e-b8c0-43a3-bc5c-39f61bf386ef",
   "metadata": {},
   "outputs": [],
   "source": [
    "session.widget"
   ]
  },
  {
   "cell_type": "markdown",
   "id": "b85c55c0-abad-47e1-a1e5-c0b000657164",
   "metadata": {},
   "source": [
    "# 7. Visualization"
   ]
  },
  {
   "cell_type": "markdown",
   "id": "ffe46ad8-fbb8-40c3-8f78-d4426fdf5bbc",
   "metadata": {},
   "source": [
    "As we have seen with in earlier sections, we can use `session.widget` to explore data interactively. In this section, we will see quickly how we use the Atoti's JupyterLab extension to interact with the data.  "
   ]
  },
  {
   "cell_type": "markdown",
   "id": "565bd748-e0a8-46e7-b60d-79954804c3eb",
   "metadata": {},
   "source": [
    "## 7.1 Build our visualization"
   ]
  },
  {
   "cell_type": "markdown",
   "id": "c2bbb6ec-2994-45b8-a9dd-048136ee4809",
   "metadata": {},
   "source": [
    "### 7.1.1 Add hierarchies and measures to the visualization"
   ]
  },
  {
   "cell_type": "markdown",
   "id": "34dc49ba-4116-45e2-8215-478dd213c36f",
   "metadata": {
    "tags": []
   },
   "source": [
    "When we execute `session.widget()`, the widget will display an empty Pivot table by default. The custom JupyterLab extension for Atoti will be expanded. Expanding the panel will automatically adjust the view of cube attributes and the widget's attribute into two panels, allowing greater visibility. \n",
    "\n",
    "<img src=\"https://data.atoti.io/atoti-academy/images/introduction/7-atoti-visualization.gif\" />  \n",
    "\n",
    "Clicking on a measure automatically adds it to the visualization as column. Clicking on a hierarchy automatically adds it to the row. Alternatively, drag and drop hierarchies or to move the tiles between rows and columns.  \n",
    "\n",
    "<img src=\"https://data.atoti.io/atoti-academy/images/introduction/7-atoti-drag-and-drop.gif\" />"
   ]
  },
  {
   "cell_type": "markdown",
   "id": "3f41e162-b8ff-4f5d-842f-af0395792f36",
   "metadata": {},
   "source": [
    "### 📐Exercise  \n",
    "\n",
    "Try building your own Pivot table and shift the measures and hierarchies between rows and columns to see how your visualization changes.  "
   ]
  },
  {
   "cell_type": "markdown",
   "id": "9a5b87ee-a3a0-4cbf-a0a2-7754fe216ff7",
   "metadata": {},
   "source": [
    "### 📖 Solution  \n",
    "\n",
    "Get started with:  \n",
    "\n",
    "`session.widget`"
   ]
  },
  {
   "cell_type": "markdown",
   "id": "38839836-53e6-45b9-947c-553325227a98",
   "metadata": {},
   "source": [
    "### 7.1.2 Expandable levels vs multi-level hierarchy"
   ]
  },
  {
   "cell_type": "markdown",
   "id": "4fad9aa0-0db7-437c-8af6-53582536e4e0",
   "metadata": {},
   "source": [
    "__Expanded display by adding hierarchies to rows__  \n",
    "\n",
    "When we add hierarchies to rows/columns, all the levels are displayed with the corresponding measures.  \n",
    "\n",
    "<img src=\"https://data.atoti.io/atoti-academy/images/introduction/7-atoti-expanded.gif\" />  \n",
    "\n",
    "__Collapsible levels by dropping hierarchies into Pivot table__  \n",
    "\n",
    "Drag and drop a level on a member of the column on the pivot table to expand on:   \n",
    "\n",
    "<img src=\"https://data.atoti.io/atoti-academy/images/introduction/7-atoti-collapsible.gif\" />  \n",
    "\n",
    "We can replace the expanded level with another level simply by dropping the new level on member of the parent level.  \n",
    "\n",
    "__Naturally collapsible levels with multilevel hierarchies__\n",
    "\n",
    "For multilevel hierarchy, adding the top level of the hierarchy will have the same collapsible effect for the underlying levels.  \n",
    "\n",
    "<img src=\"https://data.atoti.io/atoti-academy/images/introduction/7-atoti-multilevel-hierarchies.gif\" />  \n",
    "\n"
   ]
  },
  {
   "cell_type": "markdown",
   "id": "2f74389a-ccca-4465-a89d-5c02bb0977a2",
   "metadata": {},
   "source": [
    "## 7.2 Change type of visualization"
   ]
  },
  {
   "cell_type": "markdown",
   "id": "655d3d7c-8f66-4cdb-ab41-d6682e14bf95",
   "metadata": {},
   "source": [
    "We can easily toggle the type of visualization using the drop-down menu in the Atoti's JupyterLab extension.  \n",
    "\n",
    "<img src=\"https://data.atoti.io/atoti-academy/images/introduction/7-atoti-change_type.gif\" />  \n",
    "\n",
    "Adjust the hierarchies and measures interactively to obtain the best-fitting visualization. "
   ]
  },
  {
   "cell_type": "markdown",
   "id": "3051cc1c-b163-4a2c-9358-5a5534d73fde",
   "metadata": {},
   "source": [
    "### 📐Exercise  \n",
    "\n",
    "Using the visualization from the previous exercise, explore the type of visualizations interactively.  "
   ]
  },
  {
   "cell_type": "markdown",
   "id": "30b4f76a-4d64-4df1-b2d3-88ec466a43a5",
   "metadata": {},
   "source": [
    "## 7.3 Filter data"
   ]
  },
  {
   "cell_type": "markdown",
   "id": "8efb22be-ba27-428c-874a-b5144e15848a",
   "metadata": {},
   "source": [
    "### 7.3.1 Focus on a single trace on charts"
   ]
  },
  {
   "cell_type": "markdown",
   "id": "4e592288-ebdc-4c48-8700-87409beacd4b",
   "metadata": {},
   "source": [
    "Atoti uses [Plotly charts](https://plotly.com/python/basic-charts/). Therefore, you can see that we can zoom in on the chart and also (de)select a single trace the same way we do with Plotly.  \n",
    "\n",
    "<img src=\"https://data.atoti.io/atoti-academy/images/introduction/7-atoti-deselect-trace.gif\" />"
   ]
  },
  {
   "cell_type": "markdown",
   "id": "3b22d2bc-13f5-4cb7-9889-60e76eb472ec",
   "metadata": {},
   "source": [
    "### 7.3.2 Filter by member"
   ]
  },
  {
   "cell_type": "markdown",
   "id": "ed27136c-99e9-43e1-9e41-b9b4102e1f45",
   "metadata": {},
   "source": [
    "One of the wonder of Atoti is in its ability to slice and dice the cube. \n",
    "\n",
    "<img src=\"https://data.atoti.io/atoti-academy/images/introduction/7-atoti-slice-dice.png\" />  \n",
    "\n",
    "We can view a subset of the data using the widget filter in Atoti's JupyterLab extension:  \n",
    "\n",
    "<img src=\"https://data.atoti.io/atoti-academy/images/introduction/7-atoti-widget_filter.gif\" />  \n"
   ]
  },
  {
   "cell_type": "markdown",
   "id": "88e5ae1e-0044-4d70-8c9e-773c34792262",
   "metadata": {},
   "source": [
    "### 7.3.3 Conditional filtering "
   ]
  },
  {
   "cell_type": "markdown",
   "id": "4ada65d5-1de2-4956-aaf9-cd9833bf8242",
   "metadata": {},
   "source": [
    "We can apply conditional filtering by toggling to \"Advanced\" mode in the widget filter's pop up:  \n",
    "\n",
    "<img src=\"https://data.atoti.io/atoti-academy/images/introduction/7-atoti-advanced-filter.gif\" />  \n",
    "\n",
    "The GIF above shows how we can obtain the daily profit of the top 5 product categories having the highest profit."
   ]
  },
  {
   "cell_type": "markdown",
   "id": "a2648951-9057-439c-b265-17b92dddf538",
   "metadata": {},
   "source": [
    "### 📐Exercise  \n",
    "\n",
    "In the visualization below, apply advanced filter such that we get the bottom 10 products with the lowest profit.  \n",
    "\n",
    "💡 Right-click on the chart to access the context menu. Try sorting the chart by profit.  "
   ]
  },
  {
   "cell_type": "code",
   "execution_count": null,
   "id": "2bc68912-475c-46b1-85f1-6875aa21128f",
   "metadata": {
    "atoti": {
     "height": 628,
     "widget": {
      "filters": [],
      "mapping": {
       "horizontalSubplots": [],
       "splitBy": [
        "ALL_MEASURES"
       ],
       "values": [
        "[Measures].[Profit]"
       ],
       "verticalSubplots": [],
       "xAxis": [
        "[Products].[Product Tree].[ProductName]"
       ]
      },
      "name": "Bottom 10 products with the lowest profit",
      "query": {
       "mdx": "SELECT NON EMPTY {[Measures].[Profit]} ON COLUMNS, NON EMPTY Hierarchize(Descendants({[Products].[Product Tree].[AllMember]}, 2, SELF_AND_BEFORE)) ON ROWS FROM [Order Cube] CELL PROPERTIES VALUE, FORMATTED_VALUE, BACK_COLOR, FORE_COLOR, FONT_FLAGS",
       "updateMode": "once"
      },
      "serverKey": "default",
      "widgetKey": "plotly-clustered-column-chart"
     }
    },
    "tags": []
   },
   "outputs": [],
   "source": [
    "session.widget"
   ]
  },
  {
   "cell_type": "markdown",
   "id": "c051df5d-d1e2-438e-90bd-9c1bc86f83d9",
   "metadata": {},
   "source": [
    "### 📖 Solution  \n",
    "\n",
    "<img src=\"https://data.atoti.io/atoti-academy/images/introduction/7-atoti-advanced-filter-solution.gif\">  "
   ]
  },
  {
   "cell_type": "markdown",
   "id": "7bf21357-2b9f-45ce-963f-146209cf4e63",
   "metadata": {},
   "source": [
    "## 7.4 Publish in app  "
   ]
  },
  {
   "cell_type": "markdown",
   "id": "1fa14bb7-775a-4ce6-8355-80dbe57f60ca",
   "metadata": {},
   "source": [
    "During our data exploration, we might want to save some of our investigations and put them in a dashboard for end-users to reference. To do so, we can publish the visualizations that we create in the notebook to Atoti UI application using the `Publish in App` menu.  \n",
    "\n",
    "<img src=\"https://data.atoti.io/atoti-academy/images/introduction/7-atoti-publish-in-app.gif\" />"
   ]
  },
  {
   "cell_type": "markdown",
   "id": "e80fe8df-ebea-4031-a723-ccf1980cef60",
   "metadata": {
    "tags": []
   },
   "source": [
    "💡 We can access Atoti UI using `session.link`."
   ]
  },
  {
   "cell_type": "code",
   "execution_count": null,
   "id": "201be2fc-a366-4ccd-8d3e-6adc886123df",
   "metadata": {
    "tags": []
   },
   "outputs": [],
   "source": [
    "session.link"
   ]
  },
  {
   "cell_type": "markdown",
   "id": "94ffd3ae-3300-4a5e-83f4-375558a909fa",
   "metadata": {},
   "source": [
    "# 8. Output query results"
   ]
  },
  {
   "cell_type": "markdown",
   "id": "e07306e6-e010-43e6-b06f-388953dc1719",
   "metadata": {},
   "source": [
    "## 8.1 Export data to CSV\n",
    "We can export underlying data from the Atoti widgets. Simply right-click on the visualization and click on \"Export to CSV\".  \n",
    "\n",
    "<img src=\"https://data.atoti.io/atoti-academy/images/introduction/7-atoti-export-to-csv.gif\" />"
   ]
  },
  {
   "cell_type": "markdown",
   "id": "5a5d5f62-a02c-4710-9bbc-0b7d6b3a26df",
   "metadata": {},
   "source": [
    "## 8.2 Output query results to Pandas DataFrame"
   ]
  },
  {
   "cell_type": "markdown",
   "id": "e52a6f81-d521-4d75-bec1-2508b9bfb4cc",
   "metadata": {},
   "source": [
    "We can perform a [cube query](https://docs.atoti.io/latest/api/atoti_query.QueryCube.query.html#atoti-query-querycube-query) and it will return a Pandas DataFrame as shown below:  "
   ]
  },
  {
   "cell_type": "code",
   "execution_count": null,
   "id": "eff4e313-f7a0-4cf6-ba5d-8043b4b253fd",
   "metadata": {
    "tags": []
   },
   "outputs": [],
   "source": [
    "df_profit = cube.query(\n",
    "    m[\"Aggregated Profit\"],\n",
    "    m[\"Quantity Sold.SUM\"],\n",
    "    levels=[\n",
    "        l[\"Products\", \"Product Tree\", \"ProductCategory\"],\n",
    "        l[(\"Products\", \"ProductName\", \"ProductName\")],\n",
    "    ],\n",
    ")\n",
    "df_profit.head()"
   ]
  },
  {
   "cell_type": "markdown",
   "id": "4da44312-f6a9-4467-9030-09ba45cb8abd",
   "metadata": {},
   "source": [
    "Since it's a Pandas DataFrame, we can manipulate it the way we do with Pandas.  "
   ]
  },
  {
   "cell_type": "code",
   "execution_count": null,
   "id": "ebee1885-c2a8-4038-a460-456ef596efee",
   "metadata": {
    "tags": []
   },
   "outputs": [],
   "source": [
    "df_profit.reset_index()"
   ]
  },
  {
   "cell_type": "markdown",
   "id": "57c80e82-f9c9-489a-9cca-022f0003654c",
   "metadata": {},
   "source": [
    "So, this means that we can pass the DataFrame to another Python function, or we can output to CSV file for a downstream system.  "
   ]
  },
  {
   "cell_type": "markdown",
   "id": "c29dfe5e-76ab-4acf-8b84-ab62a4f3f32d",
   "metadata": {},
   "source": [
    "## 8.3 Output query results to other data structure"
   ]
  },
  {
   "cell_type": "markdown",
   "id": "2f9ea00b-9ae5-48b8-a5a7-1ad4c68ab881",
   "metadata": {},
   "source": [
    "From the previous section, we obtained a Pandas DataFrame. Leveraging Pandas functionality, we can output the data to different file structures such as [CSV](https://pandas.pydata.org/docs/reference/api/pandas.DataFrame.to_csv.html):"
   ]
  },
  {
   "cell_type": "code",
   "execution_count": null,
   "id": "56b25593-9c97-4ce9-9cb2-678b3bb49edc",
   "metadata": {
    "tags": []
   },
   "outputs": [],
   "source": [
    "df_profit.to_csv(\"profit.csv\", index=False)"
   ]
  },
  {
   "cell_type": "markdown",
   "id": "6ac3ba72-b734-4e09-91a8-6d4b336dd1d3",
   "metadata": {},
   "source": [
    "# 📐Exercise  \n",
    "\n",
    "With reference to the [cube query](https://docs.atoti.io/latest/api/atoti_query.QueryCube.query.html#atoti-query-querycube-query) function call in the documentation, try outputting the profit by product category for order date 2019-02-17. "
   ]
  },
  {
   "cell_type": "markdown",
   "id": "5346cd79-2f32-448c-94ce-961bd6d8e3a8",
   "metadata": {
    "tags": []
   },
   "source": [
    "# 📖 Solution  \n",
    "\n",
    "```\n",
    "df = cube.query(\n",
    "    m[\"Profit\"],\n",
    "    levels=[l[\"Order Date\"], l[\"ProductCategory\"]],\n",
    "    filter=(l[\"Order Date\"] == \"2019-02-17\"),\n",
    ")  \n",
    "\n",
    "df.to_csv(\"exercise.csv\", index=False)\n",
    "```"
   ]
  },
  {
   "cell_type": "markdown",
   "id": "0e145a65-878f-47e9-ac7d-e9fc2c7f6dbc",
   "metadata": {},
   "source": [
    "<div style=\"text-align: center;\" ><a href=\"https://www.atoti.io/?utm_source=gallery&utm_content=introduction-to-atoti\" target=\"_blank\" rel=\"noopener noreferrer\"><img src=\"https://data.atoti.io/notebooks/banners/Your-turn-to-try-Atoti.jpg\" alt=\"Try atoti\"></a></div>"
   ]
  }
 ],
 "metadata": {
  "kernelspec": {
   "display_name": "Python 3 (ipykernel)",
   "language": "python",
   "name": "python3"
  },
  "language_info": {
   "codemirror_mode": {
    "name": "ipython",
    "version": 3
   },
   "file_extension": ".py",
   "mimetype": "text/x-python",
   "name": "python",
   "nbconvert_exporter": "python",
   "pygments_lexer": "ipython3",
   "version": "3.10.14"
  },
  "toc-autonumbering": false,
  "toc-showcode": false,
  "toc-showtags": false
 },
 "nbformat": 4,
 "nbformat_minor": 5
}
