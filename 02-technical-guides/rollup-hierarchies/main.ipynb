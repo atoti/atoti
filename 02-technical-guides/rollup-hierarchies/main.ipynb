{
 "cells": [
  {
   "cell_type": "markdown",
   "metadata": {},
   "source": [
    "# Building Rollup Hierarchies in Python with Treelib and Atoti\n",
    "\n",
    "This notebook is illustrating how to create a product catalog inside a BI application using Treelib and Atoti. Full story is available on [Medium](https://medium.com/atoti/building-rollup-hierarchies-in-python-with-treelib-and-atoti-ffc61fbac69c?source=friends_link&sk=0b8b36c30a588af4ac0fc7a6f38d2a6f)."
   ]
  },
  {
   "cell_type": "markdown",
   "metadata": {},
   "source": [
    "<div style=\"text-align:center\"><a href=\"https://www.atoti.io/?utm_source=gallery&utm_content=rollup-hierarchies\" target=\"_blank\" rel=\"noopener noreferrer\"><img src=\"https://data.atoti.io/notebooks/banners/Discover-Atoti-now.png\" alt=\"Atoti table\" /></a></div>"
   ]
  },
  {
   "cell_type": "markdown",
   "metadata": {},
   "source": [
    "# Credits for the sample data\n",
    "\n",
    "The sample data for this project was sourced from this edu course [Data analytics with R](https://stepik.org/course/724/promo). The data has been transformed. I'm hosting my version of the data on s3:"
   ]
  },
  {
   "cell_type": "code",
   "execution_count": 1,
   "metadata": {},
   "outputs": [],
   "source": [
    "import zipfile\n",
    "import pandas as pd\n",
    "import wget\n",
    "from IPython.display import clear_output, display\n",
    "from treelib import Node, Tree"
   ]
  },
  {
   "cell_type": "code",
   "execution_count": 2,
   "metadata": {},
   "outputs": [
    {
     "name": "stdout",
     "output_type": "stream",
     "text": [
      "Downloading: 100% [5833429 / 5833429] bytes\n"
     ]
    }
   ],
   "source": [
    "def bar_custom(current, total, width=80):\n",
    "    clear_output(wait=True)\n",
    "    print(\"Downloading: %d%% [%d / %d] bytes\" % (current / total * 100, current, total))\n",
    "\n",
    "\n",
    "url = \"http://data.atoti.io/notebooks/rollup-hierarchy/rollup-hierarchies2.zip\"\n",
    "filename = wget.download(url, bar=bar_custom)"
   ]
  },
  {
   "cell_type": "code",
   "execution_count": 3,
   "metadata": {
    "tags": []
   },
   "outputs": [],
   "source": [
    "# unzipping the file\n",
    "with zipfile.ZipFile(\"rollup-hierarchies2.zip\", \"r\") as zip_ref:\n",
    "    zip_ref.extractall()"
   ]
  },
  {
   "cell_type": "markdown",
   "metadata": {
    "execution": {
     "iopub.execute_input": "2021-03-02T03:32:22.627540Z",
     "iopub.status.busy": "2021-03-02T03:32:22.627215Z",
     "iopub.status.idle": "2021-03-02T03:32:23.204194Z",
     "shell.execute_reply": "2021-03-02T03:32:23.203635Z",
     "shell.execute_reply.started": "2021-03-02T03:32:22.627473Z"
    }
   },
   "source": [
    "# Reading parent-child product catalog description"
   ]
  },
  {
   "cell_type": "code",
   "execution_count": 4,
   "metadata": {},
   "outputs": [
    {
     "data": {
      "text/html": [
       "<div>\n",
       "<style scoped>\n",
       "    .dataframe tbody tr th:only-of-type {\n",
       "        vertical-align: middle;\n",
       "    }\n",
       "\n",
       "    .dataframe tbody tr th {\n",
       "        vertical-align: top;\n",
       "    }\n",
       "\n",
       "    .dataframe thead th {\n",
       "        text-align: right;\n",
       "    }\n",
       "</style>\n",
       "<table border=\"1\" class=\"dataframe\">\n",
       "  <thead>\n",
       "    <tr style=\"text-align: right;\">\n",
       "      <th></th>\n",
       "      <th>category_id</th>\n",
       "      <th>parent_id</th>\n",
       "      <th>name</th>\n",
       "      <th>link_url</th>\n",
       "    </tr>\n",
       "  </thead>\n",
       "  <tbody>\n",
       "    <tr>\n",
       "      <th>0</th>\n",
       "      <td>925</td>\n",
       "      <td>1212</td>\n",
       "      <td>Shoe dryers</td>\n",
       "      <td>http://e96.ru/household_appliances/washing/sus...</td>\n",
       "    </tr>\n",
       "    <tr>\n",
       "      <th>1</th>\n",
       "      <td>776</td>\n",
       "      <td>683</td>\n",
       "      <td>Football</td>\n",
       "      <td>http://e96.ru/sporting_goods/football</td>\n",
       "    </tr>\n",
       "    <tr>\n",
       "      <th>2</th>\n",
       "      <td>735</td>\n",
       "      <td>1175</td>\n",
       "      <td>Chests of drawers for baths</td>\n",
       "      <td>http://e96.ru/furniture/bathroom/komody_dlja_vann</td>\n",
       "    </tr>\n",
       "    <tr>\n",
       "      <th>3</th>\n",
       "      <td>1513</td>\n",
       "      <td>1504</td>\n",
       "      <td>Houses for dogs</td>\n",
       "      <td>http://e96.ru/zootovary/tovary_dlja_sobak/domi...</td>\n",
       "    </tr>\n",
       "    <tr>\n",
       "      <th>4</th>\n",
       "      <td>1357</td>\n",
       "      <td>1086</td>\n",
       "      <td>Sledgehammers</td>\n",
       "      <td>http://e96.ru/tools/hand_tools/kuvaldy</td>\n",
       "    </tr>\n",
       "  </tbody>\n",
       "</table>\n",
       "</div>"
      ],
      "text/plain": [
       "   category_id  parent_id                         name  \\\n",
       "0          925       1212                  Shoe dryers   \n",
       "1          776        683                     Football   \n",
       "2          735       1175  Chests of drawers for baths   \n",
       "3         1513       1504              Houses for dogs   \n",
       "4         1357       1086                Sledgehammers   \n",
       "\n",
       "                                            link_url  \n",
       "0  http://e96.ru/household_appliances/washing/sus...  \n",
       "1              http://e96.ru/sporting_goods/football  \n",
       "2  http://e96.ru/furniture/bathroom/komody_dlja_vann  \n",
       "3  http://e96.ru/zootovary/tovary_dlja_sobak/domi...  \n",
       "4             http://e96.ru/tools/hand_tools/kuvaldy  "
      ]
     },
     "execution_count": 4,
     "metadata": {},
     "output_type": "execute_result"
    }
   ],
   "source": [
    "categories_df = pd.read_csv(\"categories.csv\")\n",
    "categories_df.head()"
   ]
  },
  {
   "cell_type": "code",
   "execution_count": 5,
   "metadata": {},
   "outputs": [],
   "source": [
    "# creating a dict to lookup a name for an id\n",
    "cat_dict = dict(zip(categories_df.category_id, categories_df.name))"
   ]
  },
  {
   "cell_type": "markdown",
   "metadata": {},
   "source": [
    "# Populating a tree in Treelib"
   ]
  },
  {
   "cell_type": "code",
   "execution_count": 6,
   "metadata": {},
   "outputs": [],
   "source": [
    "tree = Tree()\n",
    "tree.create_node(\"Product Catalogue\", 0)\n",
    "\n",
    "# Creating nodes under root\n",
    "for i, c in categories_df.iterrows():\n",
    "    tree.create_node(c[\"name\"], c[\"category_id\"], parent=0)\n",
    "\n",
    "# Moving nodes to reflect the parent-child relationship\n",
    "for i, c in categories_df.iterrows():\n",
    "    if c[\"parent_id\"] == c[\"parent_id\"]:\n",
    "        tree.move_node(c[\"category_id\"], c[\"parent_id\"])"
   ]
  },
  {
   "cell_type": "markdown",
   "metadata": {},
   "source": [
    "# paths_to_leaves\n",
    "\n",
    "Having created a Tree using Treelib, it's trivial to obtain all paths to leaves:"
   ]
  },
  {
   "cell_type": "code",
   "execution_count": 7,
   "metadata": {},
   "outputs": [
    {
     "data": {
      "text/plain": [
       "[[0, 16, 1212, 925],\n",
       " [0, 1342, 1175, 735],\n",
       " [0, 1502, 1504, 1513],\n",
       " [0, 129, 1086, 1357],\n",
       " [0, 304, 1037, 530]]"
      ]
     },
     "execution_count": 7,
     "metadata": {},
     "output_type": "execute_result"
    }
   ],
   "source": [
    "tree.paths_to_leaves()[:5]"
   ]
  },
  {
   "cell_type": "markdown",
   "metadata": {},
   "source": [
    "The following will show that the tree is unbalanced:"
   ]
  },
  {
   "cell_type": "code",
   "execution_count": 8,
   "metadata": {},
   "outputs": [
    {
     "name": "stdout",
     "output_type": "stream",
     "text": [
      "Min depth is 3, max depth is 4\n"
     ]
    }
   ],
   "source": [
    "print(\n",
    "    \"Min depth is {}, max depth is {}\".format(\n",
    "        min([len(i) for i in tree.paths_to_leaves()]),\n",
    "        max([len(i) for i in tree.paths_to_leaves()]),\n",
    "    )\n",
    ")"
   ]
  },
  {
   "cell_type": "markdown",
   "metadata": {},
   "source": [
    "Although parent-child pairs are a very natural way to express hierarchies, we can’t use them in its raw form for slicing and dicing. Think about a table in Excel — with different levels of a tree in separate columns, we can combine them in a pivot table to roll up and down through the levels of the catalogue. \n",
    "\n",
    "Let’s extract the levels of the tree into separate columns, and save into the `categories_hierarchy.csv` file:"
   ]
  },
  {
   "cell_type": "code",
   "execution_count": 9,
   "metadata": {},
   "outputs": [],
   "source": [
    "with open(\"categories_hierarchy.csv\", \"w+\") as outfile:\n",
    "    outfile.write(\n",
    "        \",\".join([\"Category_Lvl\" + str(i + 1) for i in range(tree.depth())]) + \"\\n\"\n",
    "    )\n",
    "    for p in tree.paths_to_leaves():\n",
    "        outfile.write(\n",
    "            \",\".join(\n",
    "                [f'\"{cat_dict[pi]}\"' for pi in p[1:]]\n",
    "                + [cat_dict[p[-1]]]\n",
    "                * (\n",
    "                    tree.depth() - len(p) + 1\n",
    "                )  # I'm adding the last item for the shorter branches to balance the tree\n",
    "            )\n",
    "            + \"\\n\"\n",
    "        )"
   ]
  },
  {
   "cell_type": "code",
   "execution_count": 10,
   "metadata": {
    "tags": []
   },
   "outputs": [
    {
     "data": {
      "text/html": [
       "<div>\n",
       "<style scoped>\n",
       "    .dataframe tbody tr th:only-of-type {\n",
       "        vertical-align: middle;\n",
       "    }\n",
       "\n",
       "    .dataframe tbody tr th {\n",
       "        vertical-align: top;\n",
       "    }\n",
       "\n",
       "    .dataframe thead th {\n",
       "        text-align: right;\n",
       "    }\n",
       "</style>\n",
       "<table border=\"1\" class=\"dataframe\">\n",
       "  <thead>\n",
       "    <tr style=\"text-align: right;\">\n",
       "      <th></th>\n",
       "      <th>Category_Lvl1</th>\n",
       "      <th>Category_Lvl2</th>\n",
       "      <th>Category_Lvl3</th>\n",
       "    </tr>\n",
       "  </thead>\n",
       "  <tbody>\n",
       "    <tr>\n",
       "      <th>0</th>\n",
       "      <td>Household products</td>\n",
       "      <td>Washing and drying</td>\n",
       "      <td>Shoe dryers</td>\n",
       "    </tr>\n",
       "    <tr>\n",
       "      <th>1</th>\n",
       "      <td>Furniture</td>\n",
       "      <td>Bathroom furniture</td>\n",
       "      <td>Chests of drawers for baths</td>\n",
       "    </tr>\n",
       "    <tr>\n",
       "      <th>2</th>\n",
       "      <td>Pet products</td>\n",
       "      <td>Products for dogs</td>\n",
       "      <td>Houses for dogs</td>\n",
       "    </tr>\n",
       "  </tbody>\n",
       "</table>\n",
       "</div>"
      ],
      "text/plain": [
       "        Category_Lvl1       Category_Lvl2                Category_Lvl3\n",
       "0  Household products  Washing and drying                  Shoe dryers\n",
       "1           Furniture  Bathroom furniture  Chests of drawers for baths\n",
       "2        Pet products   Products for dogs              Houses for dogs"
      ]
     },
     "execution_count": 10,
     "metadata": {},
     "output_type": "execute_result"
    }
   ],
   "source": [
    "pd.read_csv(\"categories_hierarchy.csv\").head(3)"
   ]
  },
  {
   "cell_type": "markdown",
   "metadata": {},
   "source": [
    "# Launching BI app using Atoti"
   ]
  },
  {
   "cell_type": "code",
   "execution_count": 11,
   "metadata": {
    "tags": []
   },
   "outputs": [],
   "source": [
    "import atoti as tt\n",
    "\n",
    "session = tt.Session.start(tt.SessionConfig(java_options=[\"-Xms2G\", \"-Xmx8G\"]))\n",
    "\n",
    "events_tbl = session.read_csv(\n",
    "    \"events.csv\",\n",
    "    table_name=\"Events\",\n",
    "    keys=[\"externalsessionid\", \"eventtype\"],\n",
    ")"
   ]
  },
  {
   "cell_type": "code",
   "execution_count": 12,
   "metadata": {
    "tags": []
   },
   "outputs": [
    {
     "data": {
      "text/html": [
       "<div>\n",
       "<style scoped>\n",
       "    .dataframe tbody tr th:only-of-type {\n",
       "        vertical-align: middle;\n",
       "    }\n",
       "\n",
       "    .dataframe tbody tr th {\n",
       "        vertical-align: top;\n",
       "    }\n",
       "\n",
       "    .dataframe thead th {\n",
       "        text-align: right;\n",
       "    }\n",
       "</style>\n",
       "<table border=\"1\" class=\"dataframe\">\n",
       "  <thead>\n",
       "    <tr style=\"text-align: right;\">\n",
       "      <th></th>\n",
       "      <th></th>\n",
       "      <th>timestamp</th>\n",
       "      <th>eventdate</th>\n",
       "      <th>ordernumber</th>\n",
       "      <th>pricecents</th>\n",
       "      <th>totalcents</th>\n",
       "      <th>quantity</th>\n",
       "      <th>product_id</th>\n",
       "      <th>duration</th>\n",
       "    </tr>\n",
       "    <tr>\n",
       "      <th>externalsessionid</th>\n",
       "      <th>eventtype</th>\n",
       "      <th></th>\n",
       "      <th></th>\n",
       "      <th></th>\n",
       "      <th></th>\n",
       "      <th></th>\n",
       "      <th></th>\n",
       "      <th></th>\n",
       "      <th></th>\n",
       "    </tr>\n",
       "  </thead>\n",
       "  <tbody>\n",
       "    <tr>\n",
       "      <th>82408</th>\n",
       "      <th>purchase</th>\n",
       "      <td>1454170060483</td>\n",
       "      <td>2016-01-30</td>\n",
       "      <td>20871.0</td>\n",
       "      <td>1489.0</td>\n",
       "      <td>1489.0</td>\n",
       "      <td>1.0</td>\n",
       "      <td>273591.0</td>\n",
       "      <td>N/A</td>\n",
       "    </tr>\n",
       "    <tr>\n",
       "      <th>98184</th>\n",
       "      <th>purchase</th>\n",
       "      <td>1454258012521</td>\n",
       "      <td>2016-01-31</td>\n",
       "      <td>36183.0</td>\n",
       "      <td>478.0</td>\n",
       "      <td>478.0</td>\n",
       "      <td>1.0</td>\n",
       "      <td>859553.0</td>\n",
       "      <td>N/A</td>\n",
       "    </tr>\n",
       "    <tr>\n",
       "      <th>10909</th>\n",
       "      <th>purchase</th>\n",
       "      <td>1464712517178</td>\n",
       "      <td>2016-05-31</td>\n",
       "      <td>94199.0</td>\n",
       "      <td>609.0</td>\n",
       "      <td>609.0</td>\n",
       "      <td>1.0</td>\n",
       "      <td>429642.0</td>\n",
       "      <td>N/A</td>\n",
       "    </tr>\n",
       "    <tr>\n",
       "      <th>27191</th>\n",
       "      <th>purchase</th>\n",
       "      <td>1443686237826</td>\n",
       "      <td>2015-10-01</td>\n",
       "      <td>28819.0</td>\n",
       "      <td>891.0</td>\n",
       "      <td>891.0</td>\n",
       "      <td>1.0</td>\n",
       "      <td>1350.0</td>\n",
       "      <td>N/A</td>\n",
       "    </tr>\n",
       "    <tr>\n",
       "      <th>13115</th>\n",
       "      <th>purchase</th>\n",
       "      <td>1461763700349</td>\n",
       "      <td>2016-04-27</td>\n",
       "      <td>13087.0</td>\n",
       "      <td>1734.0</td>\n",
       "      <td>1734.0</td>\n",
       "      <td>1.0</td>\n",
       "      <td>431239.0</td>\n",
       "      <td>N/A</td>\n",
       "    </tr>\n",
       "  </tbody>\n",
       "</table>\n",
       "</div>"
      ],
      "text/plain": [
       "                                 timestamp  eventdate  ordernumber  \\\n",
       "externalsessionid eventtype                                          \n",
       "82408             purchase   1454170060483 2016-01-30      20871.0   \n",
       "98184             purchase   1454258012521 2016-01-31      36183.0   \n",
       "10909             purchase   1464712517178 2016-05-31      94199.0   \n",
       "27191             purchase   1443686237826 2015-10-01      28819.0   \n",
       "13115             purchase   1461763700349 2016-04-27      13087.0   \n",
       "\n",
       "                             pricecents  totalcents  quantity  product_id  \\\n",
       "externalsessionid eventtype                                                 \n",
       "82408             purchase       1489.0      1489.0       1.0    273591.0   \n",
       "98184             purchase        478.0       478.0       1.0    859553.0   \n",
       "10909             purchase        609.0       609.0       1.0    429642.0   \n",
       "27191             purchase        891.0       891.0       1.0      1350.0   \n",
       "13115             purchase       1734.0      1734.0       1.0    431239.0   \n",
       "\n",
       "                            duration  \n",
       "externalsessionid eventtype           \n",
       "82408             purchase       N/A  \n",
       "98184             purchase       N/A  \n",
       "10909             purchase       N/A  \n",
       "27191             purchase       N/A  \n",
       "13115             purchase       N/A  "
      ]
     },
     "execution_count": 12,
     "metadata": {},
     "output_type": "execute_result"
    }
   ],
   "source": [
    "events_tbl.head()"
   ]
  },
  {
   "cell_type": "code",
   "execution_count": 13,
   "metadata": {
    "tags": []
   },
   "outputs": [
    {
     "data": {
      "text/plain": [
       "{'columns': 10, 'rows': 27112}"
      ]
     },
     "execution_count": 13,
     "metadata": {},
     "output_type": "execute_result"
    }
   ],
   "source": [
    "{\"columns\": len(list(events_tbl)), \"rows\": events_tbl.row_count}"
   ]
  },
  {
   "cell_type": "code",
   "execution_count": 14,
   "metadata": {
    "tags": []
   },
   "outputs": [],
   "source": [
    "cube = session.create_cube(events_tbl, \"Sales Analytics\")"
   ]
  },
  {
   "cell_type": "code",
   "execution_count": 15,
   "metadata": {
    "tags": []
   },
   "outputs": [
    {
     "data": {
      "application/vnd.atoti.link.v0+json": {
       "path": "",
       "sessionUrl": "http://localhost:54325"
      },
      "text/plain": [
       "http://localhost:54325"
      ]
     },
     "execution_count": 15,
     "metadata": {},
     "output_type": "execute_result"
    }
   ],
   "source": [
    "session.link"
   ]
  },
  {
   "cell_type": "code",
   "execution_count": 16,
   "metadata": {
    "tags": []
   },
   "outputs": [
    {
     "data": {
      "text/html": [
       "<div>\n",
       "<style scoped>\n",
       "    .dataframe tbody tr th:only-of-type {\n",
       "        vertical-align: middle;\n",
       "    }\n",
       "\n",
       "    .dataframe tbody tr th {\n",
       "        vertical-align: top;\n",
       "    }\n",
       "\n",
       "    .dataframe thead th {\n",
       "        text-align: right;\n",
       "    }\n",
       "</style>\n",
       "<table border=\"1\" class=\"dataframe\">\n",
       "  <thead>\n",
       "    <tr style=\"text-align: right;\">\n",
       "      <th></th>\n",
       "      <th>name</th>\n",
       "      <th>price</th>\n",
       "      <th>available</th>\n",
       "      <th>brand</th>\n",
       "    </tr>\n",
       "    <tr>\n",
       "      <th>product_id</th>\n",
       "      <th></th>\n",
       "      <th></th>\n",
       "      <th></th>\n",
       "      <th></th>\n",
       "    </tr>\n",
       "  </thead>\n",
       "  <tbody>\n",
       "    <tr>\n",
       "      <th>858063</th>\n",
       "      <td>LgeoNtP ilnce</td>\n",
       "      <td>1361</td>\n",
       "      <td>True</td>\n",
       "      <td>Steba</td>\n",
       "    </tr>\n",
       "    <tr>\n",
       "      <th>414315</th>\n",
       "      <td>CsgiiB hkpCt</td>\n",
       "      <td>685</td>\n",
       "      <td>True</td>\n",
       "      <td>Zilmer</td>\n",
       "    </tr>\n",
       "    <tr>\n",
       "      <th>733751</th>\n",
       "      <td>sePbErHS imPnT</td>\n",
       "      <td>377</td>\n",
       "      <td>True</td>\n",
       "      <td>Сигнал electronics</td>\n",
       "    </tr>\n",
       "    <tr>\n",
       "      <th>962841</th>\n",
       "      <td>WMlm</td>\n",
       "      <td>1235</td>\n",
       "      <td>True</td>\n",
       "      <td>Darina</td>\n",
       "    </tr>\n",
       "    <tr>\n",
       "      <th>820468</th>\n",
       "      <td>TMTlDPC oDS</td>\n",
       "      <td>86</td>\n",
       "      <td>False</td>\n",
       "      <td>FUBAG</td>\n",
       "    </tr>\n",
       "  </tbody>\n",
       "</table>\n",
       "</div>"
      ],
      "text/plain": [
       "                      name  price  available               brand\n",
       "product_id                                                      \n",
       "858063       LgeoNtP ilnce   1361       True               Steba\n",
       "414315        CsgiiB hkpCt    685       True              Zilmer\n",
       "733751      sePbErHS imPnT    377       True  Сигнал electronics\n",
       "962841                WMlm   1235       True              Darina\n",
       "820468         TMTlDPC oDS     86      False               FUBAG"
      ]
     },
     "execution_count": 16,
     "metadata": {},
     "output_type": "execute_result"
    }
   ],
   "source": [
    "products_tbl = session.read_csv(\n",
    "    \"products.csv\",\n",
    "    table_name=\"Product Attributes\",\n",
    "    separator=\";\",\n",
    "    process_quotes=True,\n",
    "    keys=[\"product_id\"],\n",
    ")\n",
    "products_tbl.head()"
   ]
  },
  {
   "cell_type": "code",
   "execution_count": 17,
   "metadata": {},
   "outputs": [],
   "source": [
    "# loading product to category mapping into the cube\n",
    "products_categories_tbl = session.read_csv(\n",
    "    \"product-categories.csv\", table_name=\"Categories\", keys=[\"product_id\"]\n",
    ")"
   ]
  },
  {
   "cell_type": "code",
   "execution_count": 18,
   "metadata": {},
   "outputs": [],
   "source": [
    "# loading categories hierarchy into the cube\n",
    "categories_tree_tbl = session.read_csv(\n",
    "    \"categories_hierarchy.csv\",\n",
    "    table_name=\"Categories Hierarchy\",\n",
    "    keys=[\"Category_Lvl3\"],\n",
    ")"
   ]
  },
  {
   "cell_type": "code",
   "execution_count": 19,
   "metadata": {},
   "outputs": [
    {
     "data": {
      "image/png": "[encoded data removed]",
      "text/plain": [
       "erDiagram\n",
       "  \"Events\" {\n",
       "    _ int PK \"externalsessionid\"\n",
       "    nullable long \"timestamp\"\n",
       "    _ LocalDate \"eventdate\"\n",
       "    nullable double \"ordernumber\"\n",
       "    nullable double \"pricecents\"\n",
       "    nullable double \"totalcents\"\n",
       "    nullable double \"quantity\"\n",
       "    nullable double \"product_id\"\n",
       "    _ String PK \"eventtype\"\n",
       "    _ String \"duration\"\n",
       "  }\n",
       "  \"Product Attributes\" {\n",
       "    _ double PK \"product_id\"\n",
       "    _ String \"name\"\n",
       "    nullable int \"price\"\n",
       "    _ boolean \"available\"\n",
       "    _ String \"brand\"\n",
       "  }\n",
       "  \"Categories\" {\n",
       "    _ String \"Category\"\n",
       "    _ double PK \"product_id\"\n",
       "  }\n",
       "  \"Categories Hierarchy\" {\n",
       "    _ String \"Category_Lvl1\"\n",
       "    _ String \"Category_Lvl2\"\n",
       "    _ String PK \"Category_Lvl3\"\n",
       "  }\n",
       "  \"Events\" }o--o| \"Categories\" : \"`product_id` == `product_id`\"\n",
       "  \"Events\" }o--o| \"Product Attributes\" : \"`product_id` == `product_id`\"\n",
       "  \"Categories\" }o--o| \"Categories Hierarchy\" : \"`Category` == `Category_Lvl3`\""
      ]
     },
     "execution_count": 19,
     "metadata": {},
     "output_type": "execute_result"
    }
   ],
   "source": [
    "events_tbl.join(products_tbl, events_tbl[\"product_id\"] == products_tbl[\"product_id\"])\n",
    "events_tbl.join(\n",
    "    products_categories_tbl,\n",
    "    events_tbl[\"product_id\"] == products_categories_tbl[\"product_id\"],\n",
    ")\n",
    "products_categories_tbl.join(\n",
    "    categories_tree_tbl,\n",
    "    products_categories_tbl[\"Category\"] == categories_tree_tbl[\"Category_Lvl3\"],\n",
    ")\n",
    "session.tables.schema"
   ]
  },
  {
   "cell_type": "code",
   "execution_count": 20,
   "metadata": {},
   "outputs": [],
   "source": [
    "# Creating a multi-level hierarchy to automatically expand data:\n",
    "cube.hierarchies[\"Catalog\"] = [\n",
    "    cube.levels[\"Category_Lvl1\"],\n",
    "    cube.levels[\"Category_Lvl2\"],\n",
    "    cube.levels[\"Category\"],\n",
    "]"
   ]
  },
  {
   "cell_type": "code",
   "execution_count": 21,
   "metadata": {},
   "outputs": [],
   "source": [
    "# A measure to count unique sessions\n",
    "cube.measures[\"UniqueSessionsCount\"] = tt.agg.count_distinct(\n",
    "    events_tbl[\"externalsessionid\"]\n",
    ")"
   ]
  },
  {
   "cell_type": "markdown",
   "metadata": {},
   "source": [
    "Take note that the `UniqueSessionsCount` for `eventtype` level is higher than at the `Category_Lvl1` level. This is because the same `externalsessionid` may exists for both purchase and view events."
   ]
  },
  {
   "cell_type": "code",
   "execution_count": 22,
   "metadata": {
    "atoti": {
     "height": 736,
     "state": {
      "name": "",
      "type": "container",
      "value": {
       "body": {
        "configuration": {
         "tabular": {
          "addButtonFilter": "numeric",
          "cellRenderers": [
           "tree-layout"
          ],
          "columns": [
           {
            "key": "[Measures].[UniqueSessionsCount]",
            "width": 161
           }
          ],
          "columnsGroups": [
           {
            "captionProducer": "firstColumn",
            "cellFactory": "kpi-status",
            "selector": "kpi-status"
           },
           {
            "captionProducer": "firstColumn",
            "cellFactory": "lookup",
            "selector": "lookup"
           },
           {
            "captionProducer": "expiry",
            "cellFactory": "expiry",
            "selector": "kpi-expiry"
           },
           {
            "captionProducer": "columnMerge",
            "cellFactory": {
             "args": {},
             "key": "treeCells"
            },
            "selector": "member"
           }
          ],
          "defaultOptions": {
           "headerHeight": 47
          },
          "expansion": {
           "automaticExpansion": true
          },
          "hideAddButton": true,
          "pinnedHeaderSelector": "member",
          "sortingMode": "non-breaking",
          "statisticsShown": true
         }
        },
        "contextValues": {},
        "mdx": "SELECT NON EMPTY Hierarchize(DrilldownLevel([Categories Hierarchy].[Catalog].[ALL].[AllMember])) ON ROWS, NON EMPTY Crossjoin([Measures].[UniqueSessionsCount], Hierarchize(DrilldownLevel([Events].[eventtype].[ALL].[AllMember]))) ON COLUMNS FROM [Sales Analytics] CELL PROPERTIES VALUE, FORMATTED_VALUE, BACK_COLOR, FORE_COLOR, FONT_FLAGS",
        "ranges": {
         "column": {
          "chunkSize": 50,
          "thresholdPercentage": 0.2
         },
         "row": {
          "chunkSize": 2000,
          "thresholdPercentage": 0.1
         }
        },
        "serverUrl": "",
        "updateMode": "once"
       },
       "containerKey": "pivot-table",
       "showTitleBar": false,
       "style": {}
      }
     },
     "widget": {
      "columnWidths": {
       "[Categories Hierarchy].[Catalog].[Category]": 133.234375,
       "[Categories Hierarchy].[Catalog].[Category_Lvl2]": 205.234375,
       "[Measures].[UniqueSessionsCount]": 160,
       "[Measures].[contributors.COUNT]": 158.765625
      },
      "mapping": {
       "columns": [
        "ALL_MEASURES"
       ],
       "measures": [
        "[Measures].[UniqueSessionsCount]",
        "[Measures].[contributors.COUNT]"
       ],
       "rows": [
        "[Categories Hierarchy].[Catalog].[Category_Lvl1] => [Categories Hierarchy].[Catalog].[Category]",
        "[Events].[eventtype].[eventtype]"
       ]
      },
      "query": {
       "mdx": "SELECT NON EMPTY Crossjoin(Hierarchize(Descendants({[Categories Hierarchy].[Catalog].[AllMember]}, 1, SELF_AND_BEFORE)), Hierarchize(Descendants({[Events].[eventtype].[AllMember]}, 1, SELF_AND_BEFORE))) ON ROWS, NON EMPTY {[Measures].[UniqueSessionsCount], [Measures].[contributors.COUNT]} ON COLUMNS FROM [Sales Analytics]",
       "updateMode": "once"
      },
      "serverKey": "default",
      "widgetKey": "pivot-table"
     }
    },
    "tags": []
   },
   "outputs": [
    {
     "data": {
      "application/vnd.atoti.widget.v0+json": {
       "sessionId": "1733426289_689603",
       "sessionUrl": "http://localhost:54325",
       "widgetCreationCode": "session.widget"
      },
      "text/html": [
       "<img height=\"728\" width=\"1053\" src=\"data:image/png;base64,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\" />"
      ],
      "text/plain": [
       "Open the notebook in JupyterLab with the Atoti JupyterLab extension enabled to see this widget."
      ]
     },
     "metadata": {},
     "output_type": "display_data"
    }
   ],
   "source": [
    "session.widget"
   ]
  },
  {
   "cell_type": "code",
   "execution_count": 23,
   "metadata": {},
   "outputs": [],
   "source": [
    "cube.measures[\"Sales\"] = cube.measures[\"totalcents.SUM\"]\n",
    "cube.measures[\"Sales as % of Grand Total\"] = cube.measures[\"Sales\"] / tt.total(\n",
    "    cube.measures[\"Sales\"], cube.hierarchies[\"Catalog\"]\n",
    ")\n",
    "cube.measures[\"Sales as % of Grand Total\"].formatter = \"DOUBLE[0.00%]\""
   ]
  },
  {
   "cell_type": "code",
   "execution_count": 24,
   "metadata": {
    "atoti": {
     "widget": {
      "columnWidths": {
       "[Categories Hierarchy].[Catalog].[Category]": 149,
       "[Categories Hierarchy].[Catalog].[Category_Lvl1]": 234,
       "[Categories Hierarchy].[Catalog].[Category_Lvl2]": 225,
       "[Measures].[Sales as % of Grand Total]": 170
      },
      "mapping": {
       "columns": [
        "ALL_MEASURES"
       ],
       "measures": [
        "[Measures].[Sales as % of Grand Total]"
       ],
       "rows": [
        "[Categories Hierarchy].[Catalog].[Category_Lvl1] => [Categories Hierarchy].[Catalog].[Category]"
       ]
      },
      "query": {
       "mdx": "SELECT NON EMPTY Hierarchize(Union(Descendants({[Categories Hierarchy].[Catalog].[AllMember]}, 1, SELF_AND_BEFORE), Descendants({[Categories Hierarchy].[Catalog].[AllMember].[N/A]}, [Categories Hierarchy].[Catalog].[Category_Lvl2]), Descendants({[Categories Hierarchy].[Catalog].[AllMember].[Auto and Moto]}, [Categories Hierarchy].[Catalog].[Category_Lvl2]), Descendants({[Categories Hierarchy].[Catalog].[AllMember].[Auto and Moto].[Alarms]}, [Categories Hierarchy].[Catalog].[Category]))) ON ROWS, NON EMPTY {[Measures].[Sales as % of Grand Total]} ON COLUMNS FROM [Sales Analytics]",
       "updateMode": "once"
      },
      "serverKey": "default",
      "widgetKey": "pivot-table"
     }
    },
    "tags": []
   },
   "outputs": [
    {
     "data": {
      "application/vnd.atoti.widget.v0+json": {
       "sessionId": "1733426289_689603",
       "sessionUrl": "http://localhost:54325",
       "widgetCreationCode": "session.widget"
      },
      "text/html": [
       "<img height=\"352\" width=\"1053\" src=\"data:image/png;base64,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\" />"
      ],
      "text/plain": [
       "Open the notebook in JupyterLab with the Atoti JupyterLab extension enabled to build this widget."
      ]
     },
     "metadata": {},
     "output_type": "display_data"
    }
   ],
   "source": [
    "session.widget"
   ]
  },
  {
   "cell_type": "markdown",
   "metadata": {},
   "source": [
    "# Start building dashboards"
   ]
  },
  {
   "cell_type": "code",
   "execution_count": 25,
   "metadata": {},
   "outputs": [
    {
     "data": {
      "application/vnd.atoti.link.v0+json": {
       "path": "",
       "sessionUrl": "http://localhost:54325"
      },
      "text/plain": [
       "http://localhost:54325"
      ]
     },
     "execution_count": 25,
     "metadata": {},
     "output_type": "execute_result"
    }
   ],
   "source": [
    "session.link"
   ]
  },
  {
   "cell_type": "markdown",
   "metadata": {
    "editable": true,
    "slideshow": {
     "slide_type": ""
    },
    "tags": []
   },
   "source": [
    "<div style=\"text-align:center\"><a href=\"https://www.atoti.io/?utm_source=gallery&utm_content=rollup-hierarchies\" target=\"_blank\" rel=\"noopener noreferrer\"><img src=\"https://data.atoti.io/notebooks/banners/Your-turn-to-try-Atoti.jpg\" alt=\"Atoti table\" /></a></div>"
   ]
  }
 ],
 "metadata": {
  "kernelspec": {
   "display_name": "Python 3 (ipykernel)",
   "language": "python",
   "name": "python3"
  },
  "language_info": {
   "codemirror_mode": {
    "name": "ipython",
    "version": 3
   },
   "file_extension": ".py",
   "mimetype": "text/x-python",
   "name": "python",
   "nbconvert_exporter": "python",
   "pygments_lexer": "ipython3",
   "version": "3.10.11"
  },
  "widgets": {
   "application/vnd.jupyter.widget-state+json": {
    "state": {},
    "version_major": 2,
    "version_minor": 0
   }
  }
 },
 "nbformat": 4,
 "nbformat_minor": 4
}
