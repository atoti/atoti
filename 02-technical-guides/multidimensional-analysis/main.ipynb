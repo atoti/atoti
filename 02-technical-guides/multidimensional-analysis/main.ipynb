{
 "cells": [
  {
   "cell_type": "markdown",
   "id": "f3572592-7139-4cb5-82ec-eb5afefa929f",
   "metadata": {
    "editable": true,
    "slideshow": {
     "slide_type": ""
    },
    "tags": []
   },
   "source": [
    "# Multidimensional Analysis\n",
    "\n",
    "In this notebook, we'll be show you how to perform multidimensional analysis, allowing users to observe data from different viewpoints."
   ]
  },
  {
   "cell_type": "markdown",
   "id": "3aba2356-25d6-4bde-9ef2-49f4f049afb8",
   "metadata": {},
   "source": [
    "<div style=\"text-align: center;\"><img src=\"https://data.atoti.io/notebooks/multidimension/img/cube-slice-dice.png\"></div>"
   ]
  },
  {
   "cell_type": "markdown",
   "id": "430ae29e-d1cd-4dce-83bf-f6664082ecbe",
   "metadata": {},
   "source": [
    "<div style=\"text-align:center\"><a href=\"https://www.atoti.io/?utm_source=gallery&utm_content=multidimensional-analysis\" target=\"_blank\" rel=\"noopener noreferrer\"><img src=\"https://data.atoti.io/notebooks/banners/Discover-Atoti-now.png\" alt=\"atoti table\" /></a></div>"
   ]
  },
  {
   "cell_type": "code",
   "execution_count": 1,
   "id": "43850b85-2acc-445c-aa89-9b2939a0e6a8",
   "metadata": {},
   "outputs": [],
   "source": [
    "import pandas as pd\n",
    "import atoti as tt"
   ]
  },
  {
   "cell_type": "code",
   "execution_count": 2,
   "id": "47c0734a-58bd-4487-922e-a0775c61517d",
   "metadata": {},
   "outputs": [],
   "source": [
    "session = tt.Session.start()"
   ]
  },
  {
   "cell_type": "code",
   "execution_count": 3,
   "id": "dbb89caf-5375-40ff-9766-2dad75c67017",
   "metadata": {},
   "outputs": [
    {
     "data": {
      "text/html": [
       "<div>\n",
       "<style scoped>\n",
       "    .dataframe tbody tr th:only-of-type {\n",
       "        vertical-align: middle;\n",
       "    }\n",
       "\n",
       "    .dataframe tbody tr th {\n",
       "        vertical-align: top;\n",
       "    }\n",
       "\n",
       "    .dataframe thead th {\n",
       "        text-align: right;\n",
       "    }\n",
       "</style>\n",
       "<table border=\"1\" class=\"dataframe\">\n",
       "  <thead>\n",
       "    <tr style=\"text-align: right;\">\n",
       "      <th></th>\n",
       "      <th>Sale ID</th>\n",
       "      <th>Date</th>\n",
       "      <th>Shop</th>\n",
       "      <th>Product</th>\n",
       "      <th>Quantity</th>\n",
       "      <th>Unit price</th>\n",
       "    </tr>\n",
       "  </thead>\n",
       "  <tbody>\n",
       "    <tr>\n",
       "      <th>0</th>\n",
       "      <td>S000002981</td>\n",
       "      <td>2021-01-24</td>\n",
       "      <td>shop_21</td>\n",
       "      <td>TSH_53</td>\n",
       "      <td>3</td>\n",
       "      <td>24.0</td>\n",
       "    </tr>\n",
       "    <tr>\n",
       "      <th>1</th>\n",
       "      <td>S000003722</td>\n",
       "      <td>2021-02-02</td>\n",
       "      <td>shop_2</td>\n",
       "      <td>TAB_1</td>\n",
       "      <td>3</td>\n",
       "      <td>300.0</td>\n",
       "    </tr>\n",
       "    <tr>\n",
       "      <th>2</th>\n",
       "      <td>S000003191</td>\n",
       "      <td>2021-01-24</td>\n",
       "      <td>shop_31</td>\n",
       "      <td>SHO_19</td>\n",
       "      <td>2</td>\n",
       "      <td>60.0</td>\n",
       "    </tr>\n",
       "    <tr>\n",
       "      <th>3</th>\n",
       "      <td>S000003962</td>\n",
       "      <td>2021-02-02</td>\n",
       "      <td>shop_2</td>\n",
       "      <td>SHO_58</td>\n",
       "      <td>1</td>\n",
       "      <td>60.0</td>\n",
       "    </tr>\n",
       "    <tr>\n",
       "      <th>4</th>\n",
       "      <td>S000000779</td>\n",
       "      <td>2021-01-06</td>\n",
       "      <td>shop_19</td>\n",
       "      <td>BED_47</td>\n",
       "      <td>1</td>\n",
       "      <td>395.0</td>\n",
       "    </tr>\n",
       "  </tbody>\n",
       "</table>\n",
       "</div>"
      ],
      "text/plain": [
       "      Sale ID       Date     Shop Product  Quantity  Unit price\n",
       "0  S000002981 2021-01-24  shop_21  TSH_53         3        24.0\n",
       "1  S000003722 2021-02-02   shop_2   TAB_1         3       300.0\n",
       "2  S000003191 2021-01-24  shop_31  SHO_19         2        60.0\n",
       "3  S000003962 2021-02-02   shop_2  SHO_58         1        60.0\n",
       "4  S000000779 2021-01-06  shop_19  BED_47         1       395.0"
      ]
     },
     "execution_count": 3,
     "metadata": {},
     "output_type": "execute_result"
    }
   ],
   "source": [
    "sales = session.read_csv(\n",
    "    \"s3://data.atoti.io/notebooks/multidimension/sales.csv\",\n",
    "    types={\"Unit price\": tt.type.DOUBLE},\n",
    ")\n",
    "sales.head()"
   ]
  },
  {
   "cell_type": "code",
   "execution_count": 4,
   "id": "efb6008d-b7fa-4980-a42c-e230e2d9ab4f",
   "metadata": {},
   "outputs": [],
   "source": [
    "cube = session.create_cube(sales, \"sales cube\")"
   ]
  },
  {
   "cell_type": "markdown",
   "id": "e043c008-f810-4495-bf7c-594696e68b66",
   "metadata": {},
   "source": [
    "# Data are group into two categories - Data dimensions and measurements"
   ]
  },
  {
   "cell_type": "code",
   "execution_count": 5,
   "id": "6b740eea-1e79-40bb-9076-eeb9fa82bfbc",
   "metadata": {},
   "outputs": [
    {
     "data": {
      "application/json": {
       "Dimensions": {
        "Sales": {
         "Date": [
          "Date"
         ],
         "Product": [
          "Product"
         ],
         "Sale ID": [
          "Sale ID"
         ],
         "Shop": [
          "Shop"
         ]
        }
       },
       "Measures": {
        "Quantity.MEAN": {
         "formatter": "DOUBLE[#,###.00]"
        },
        "Quantity.SUM": {
         "formatter": "INT[#,###]"
        },
        "Unit price.MEAN": {
         "formatter": "DOUBLE[#,###.00]"
        },
        "Unit price.SUM": {
         "formatter": "DOUBLE[#,###.00]"
        },
        "contributors.COUNT": {
         "formatter": "INT[#,###]"
        }
       }
      },
      "text/html": [
       "<ul>\n",
       "<li>sales cube\n",
       "  <ul>\n",
       "  <li>Dimensions\n",
       "    <ul>\n",
       "    <li>Sales\n",
       "      <ul>\n",
       "      <li>Date\n",
       "        <ol>\n",
       "        <li>Date</li>\n",
       "        </ol>      </li>\n",
       "      <li>Product\n",
       "        <ol>\n",
       "        <li>Product</li>\n",
       "        </ol>      </li>\n",
       "      <li>Sale ID\n",
       "        <ol>\n",
       "        <li>Sale ID</li>\n",
       "        </ol>      </li>\n",
       "      <li>Shop\n",
       "        <ol>\n",
       "        <li>Shop</li>\n",
       "        </ol>      </li>\n",
       "      </ul>\n",
       "    </li>\n",
       "    </ul>\n",
       "  </li>\n",
       "  <li>Measures\n",
       "    <ul>\n",
       "    <li>Quantity.MEAN\n",
       "      <ul>\n",
       "      <li>formatter: DOUBLE[#,###.00]</li>\n",
       "      </ul>\n",
       "    </li>\n",
       "    <li>Quantity.SUM\n",
       "      <ul>\n",
       "      <li>formatter: INT[#,###]</li>\n",
       "      </ul>\n",
       "    </li>\n",
       "    <li>Unit price.MEAN\n",
       "      <ul>\n",
       "      <li>formatter: DOUBLE[#,###.00]</li>\n",
       "      </ul>\n",
       "    </li>\n",
       "    <li>Unit price.SUM\n",
       "      <ul>\n",
       "      <li>formatter: DOUBLE[#,###.00]</li>\n",
       "      </ul>\n",
       "    </li>\n",
       "    <li>contributors.COUNT\n",
       "      <ul>\n",
       "      <li>formatter: INT[#,###]</li>\n",
       "      </ul>\n",
       "    </li>\n",
       "    </ul>\n",
       "  </li>\n",
       "  </ul>\n",
       "</li>\n",
       "</ul>\n"
      ],
      "text/plain": [
       "<atoti.cube.Cube at 0x1221c81f0>"
      ]
     },
     "execution_count": 5,
     "metadata": {
      "application/json": {
       "expanded": false,
       "root": "sales cube"
      }
     },
     "output_type": "execute_result"
    }
   ],
   "source": [
    "cube"
   ]
  },
  {
   "cell_type": "markdown",
   "id": "7e1ca805-b5d6-48df-95ff-9228f7146d4b",
   "metadata": {},
   "source": [
    "<img alt=\"Multidimensional cube concept\" src=\"https://data.atoti.io/notebooks/multidimension/img/cube-concept.svg\" width=\"400\" />\n",
    "\n",
    "The axes of the cube are called _hierarchies_."
   ]
  },
  {
   "cell_type": "code",
   "execution_count": 6,
   "id": "e44629ea-118e-4977-90da-7713a72bb9d4",
   "metadata": {
    "atoti": {
     "widget": {
      "filters": [
       {
        "dimensionName": "Sales",
        "hierarchyName": "Product",
        "isExclusionFilter": false,
        "members": [
         [
          "AllMember",
          "BED_24"
         ]
        ],
        "type": "members"
       }
      ],
      "mapping": {
       "columns": [
        "[Sales].[Product].[Product]",
        "ALL_MEASURES"
       ],
       "measures": [
        "[Measures].[Quantity.SUM]",
        "[Measures].[Unit price.SUM]"
       ],
       "rows": [
        "[Sales].[Shop].[Shop] => [Sales].[Date].[Date]"
       ]
      },
      "query": {
       "mdx": "SELECT NON EMPTY Hierarchize(Descendants({[Sales].[Shop].[ALL].[AllMember]}, 1, SELF_AND_BEFORE)) ON ROWS, NON EMPTY Crossjoin(Hierarchize(Descendants({[Sales].[Product].[ALL].[AllMember]}, 1, SELF_AND_BEFORE)), {[Measures].[Quantity.SUM], [Measures].[Unit price.SUM]}) ON COLUMNS FROM [sales cube] CELL PROPERTIES VALUE, FORMATTED_VALUE, BACK_COLOR, FORE_COLOR, FONT_FLAGS",
       "updateMode": "once"
      },
      "serverKey": "default",
      "widgetKey": "pivot-table"
     }
    },
    "editable": true,
    "slideshow": {
     "slide_type": ""
    },
    "tags": []
   },
   "outputs": [
    {
     "data": {
      "application/vnd.atoti.widget.v0+json": {
       "sessionId": "1728934387_666116",
       "sessionUrl": "http://localhost:59016",
       "widgetCreationCode": "session.widget"
      },
      "text/html": [
       "<img height=\"352\" width=\"1282\" src=\"data:image/png;base64,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\" />"
      ],
      "text/plain": [
       "Open the notebook in JupyterLab with the Atoti JupyterLab extension enabled to build this widget."
      ]
     },
     "metadata": {},
     "output_type": "display_data"
    }
   ],
   "source": [
    "session.widget"
   ]
  },
  {
   "cell_type": "markdown",
   "id": "760a5bbe-c253-4a29-88df-6e2dcd6f0f31",
   "metadata": {
    "tags": []
   },
   "source": [
    "# Capable of integrating multiple data sources "
   ]
  },
  {
   "cell_type": "code",
   "execution_count": 7,
   "id": "865ba8eb-97ca-4bdc-8a24-ba0cc479e20c",
   "metadata": {},
   "outputs": [
    {
     "data": {
      "text/html": [
       "<div>\n",
       "<style scoped>\n",
       "    .dataframe tbody tr th:only-of-type {\n",
       "        vertical-align: middle;\n",
       "    }\n",
       "\n",
       "    .dataframe tbody tr th {\n",
       "        vertical-align: top;\n",
       "    }\n",
       "\n",
       "    .dataframe thead th {\n",
       "        text-align: right;\n",
       "    }\n",
       "</style>\n",
       "<table border=\"1\" class=\"dataframe\">\n",
       "  <thead>\n",
       "    <tr style=\"text-align: right;\">\n",
       "      <th></th>\n",
       "      <th>Category</th>\n",
       "      <th>Sub category</th>\n",
       "      <th>Size</th>\n",
       "      <th>Purchase price</th>\n",
       "      <th>Color</th>\n",
       "      <th>Brand</th>\n",
       "    </tr>\n",
       "    <tr>\n",
       "      <th>Product</th>\n",
       "      <th></th>\n",
       "      <th></th>\n",
       "      <th></th>\n",
       "      <th></th>\n",
       "      <th></th>\n",
       "      <th></th>\n",
       "    </tr>\n",
       "  </thead>\n",
       "  <tbody>\n",
       "    <tr>\n",
       "      <th>HOO_12</th>\n",
       "      <td>Cloth</td>\n",
       "      <td>Hoodie</td>\n",
       "      <td>S</td>\n",
       "      <td>35.0</td>\n",
       "      <td>blue</td>\n",
       "      <td>Basic</td>\n",
       "    </tr>\n",
       "    <tr>\n",
       "      <th>BED_26</th>\n",
       "      <td>Furniture</td>\n",
       "      <td>Bed</td>\n",
       "      <td>Queen</td>\n",
       "      <td>333.0</td>\n",
       "      <td>white</td>\n",
       "      <td>Basic</td>\n",
       "    </tr>\n",
       "    <tr>\n",
       "      <th>SHO_40</th>\n",
       "      <td>Cloth</td>\n",
       "      <td>Shoes</td>\n",
       "      <td>11</td>\n",
       "      <td>48.0</td>\n",
       "      <td>black</td>\n",
       "      <td>Basic</td>\n",
       "    </tr>\n",
       "    <tr>\n",
       "      <th>HOO_54</th>\n",
       "      <td>Cloth</td>\n",
       "      <td>Hoodie</td>\n",
       "      <td>S</td>\n",
       "      <td>35.0</td>\n",
       "      <td>brown</td>\n",
       "      <td>Over</td>\n",
       "    </tr>\n",
       "    <tr>\n",
       "      <th>HOO_13</th>\n",
       "      <td>Cloth</td>\n",
       "      <td>Hoodie</td>\n",
       "      <td>M</td>\n",
       "      <td>38.0</td>\n",
       "      <td>red</td>\n",
       "      <td>Mega</td>\n",
       "    </tr>\n",
       "  </tbody>\n",
       "</table>\n",
       "</div>"
      ],
      "text/plain": [
       "          Category Sub category   Size  Purchase price  Color  Brand\n",
       "Product                                                             \n",
       "HOO_12       Cloth       Hoodie      S            35.0   blue  Basic\n",
       "BED_26   Furniture          Bed  Queen           333.0  white  Basic\n",
       "SHO_40       Cloth        Shoes     11            48.0  black  Basic\n",
       "HOO_54       Cloth       Hoodie      S            35.0  brown   Over\n",
       "HOO_13       Cloth       Hoodie      M            38.0    red   Mega"
      ]
     },
     "execution_count": 7,
     "metadata": {},
     "output_type": "execute_result"
    }
   ],
   "source": [
    "products = session.read_csv(\n",
    "    \"s3://data.atoti.io/notebooks/multidimension/products.csv\", keys=[\"Product\"]\n",
    ")\n",
    "products.head()"
   ]
  },
  {
   "cell_type": "code",
   "execution_count": 8,
   "id": "d4af45a9-98e7-4053-912d-7b5bcf75fda3",
   "metadata": {},
   "outputs": [
    {
     "data": {
      "image/png": "[encoded data removed]",
      "text/plain": [
       "erDiagram\n",
       "  \"Sales\" {\n",
       "    _ String \"Sale ID\"\n",
       "    _ LocalDate \"Date\"\n",
       "    _ String \"Shop\"\n",
       "    _ String \"Product\"\n",
       "    nullable int \"Quantity\"\n",
       "    nullable double \"Unit price\"\n",
       "  }\n",
       "  \"Products\" {\n",
       "    _ String PK \"Product\"\n",
       "    _ String \"Category\"\n",
       "    _ String \"Sub category\"\n",
       "    _ String \"Size\"\n",
       "    nullable double \"Purchase price\"\n",
       "    _ String \"Color\"\n",
       "    _ String \"Brand\"\n",
       "  }\n",
       "  \"Sales\" }o--o| \"Products\" : \"`Product` == `Product`\""
      ]
     },
     "execution_count": 8,
     "metadata": {},
     "output_type": "execute_result"
    }
   ],
   "source": [
    "sales.join(products)\n",
    "session.tables.schema"
   ]
  },
  {
   "cell_type": "code",
   "execution_count": 9,
   "id": "22060b6f-8d9d-443a-ab2f-ab00e0180a21",
   "metadata": {},
   "outputs": [],
   "source": [
    "h, l, m = cube.hierarchies, cube.levels, cube.measures"
   ]
  },
  {
   "cell_type": "code",
   "execution_count": 10,
   "id": "92b6fb72-eba8-4ec7-b002-0464b279f726",
   "metadata": {},
   "outputs": [
    {
     "data": {
      "application/json": {
       "Products": {
        "Brand": [
         "Brand"
        ],
        "Category": [
         "Category"
        ],
        "Color": [
         "Color"
        ],
        "Size": [
         "Size"
        ],
        "Sub category": [
         "Sub category"
        ]
       },
       "Sales": {
        "Date": [
         "Date"
        ],
        "Product": [
         "Product"
        ],
        "Sale ID": [
         "Sale ID"
        ],
        "Shop": [
         "Shop"
        ]
       }
      },
      "text/html": [
       "<ul>\n",
       "<li>Dimensions\n",
       "  <ul>\n",
       "  <li>Products\n",
       "    <ul>\n",
       "    <li>Brand\n",
       "      <ol>\n",
       "      <li>Brand</li>\n",
       "      </ol>    </li>\n",
       "    <li>Category\n",
       "      <ol>\n",
       "      <li>Category</li>\n",
       "      </ol>    </li>\n",
       "    <li>Color\n",
       "      <ol>\n",
       "      <li>Color</li>\n",
       "      </ol>    </li>\n",
       "    <li>Size\n",
       "      <ol>\n",
       "      <li>Size</li>\n",
       "      </ol>    </li>\n",
       "    <li>Sub category\n",
       "      <ol>\n",
       "      <li>Sub category</li>\n",
       "      </ol>    </li>\n",
       "    </ul>\n",
       "  </li>\n",
       "  <li>Sales\n",
       "    <ul>\n",
       "    <li>Date\n",
       "      <ol>\n",
       "      <li>Date</li>\n",
       "      </ol>    </li>\n",
       "    <li>Product\n",
       "      <ol>\n",
       "      <li>Product</li>\n",
       "      </ol>    </li>\n",
       "    <li>Sale ID\n",
       "      <ol>\n",
       "      <li>Sale ID</li>\n",
       "      </ol>    </li>\n",
       "    <li>Shop\n",
       "      <ol>\n",
       "      <li>Shop</li>\n",
       "      </ol>    </li>\n",
       "    </ul>\n",
       "  </li>\n",
       "  </ul>\n",
       "</li>\n",
       "</ul>\n"
      ],
      "text/plain": [
       "{('Products', 'Category'): <atoti.hierarchy.Hierarchy object at 0x12242d750>, ('Products', 'Size'): <atoti.hierarchy.Hierarchy object at 0x12242d300>, ('Products', 'Brand'): <atoti.hierarchy.Hierarchy object at 0x12242d690>, ('Products', 'Sub category'): <atoti.hierarchy.Hierarchy object at 0x12242d360>, ('Products', 'Color'): <atoti.hierarchy.Hierarchy object at 0x12242c790>, ('Sales', 'Shop'): <atoti.hierarchy.Hierarchy object at 0x12242ff70>, ('Sales', 'Date'): <atoti.hierarchy.Hierarchy object at 0x12242faf0>, ('Sales', 'Product'): <atoti.hierarchy.Hierarchy object at 0x12242ceb0>, ('Sales', 'Sale ID'): <atoti.hierarchy.Hierarchy object at 0x12242ff10>}"
      ]
     },
     "execution_count": 10,
     "metadata": {
      "application/json": {
       "expanded": true,
       "root": "Dimensions"
      }
     },
     "output_type": "execute_result"
    }
   ],
   "source": [
    "h"
   ]
  },
  {
   "cell_type": "code",
   "execution_count": 11,
   "id": "ce1e2257-ffb6-4819-8f60-a179f5ff47b8",
   "metadata": {},
   "outputs": [],
   "source": [
    "h[\"Product categories\"] = [l[\"Category\"], l[\"Sub category\"]]"
   ]
  },
  {
   "cell_type": "code",
   "execution_count": 12,
   "id": "05bdd8e7-265e-4da1-bd6e-646493d268cd",
   "metadata": {
    "atoti": {
     "height": 357,
     "widget": {
      "mapping": {
       "columns": [
        "ALL_MEASURES"
       ],
       "measures": [
        "[Measures].[Unit price.SUM]",
        "[Measures].[Quantity.SUM]"
       ],
       "rows": [
        "[Sales].[Shop].[Shop] => [Products].[Product categories].[Sub category]"
       ]
      },
      "query": {
       "mdx": "SELECT NON EMPTY {[Measures].[Unit price.SUM], [Measures].[Quantity.SUM]} ON COLUMNS, NON EMPTY Hierarchize(Union(Crossjoin(Descendants({[Sales].[Shop].[AllMember]}, 1, SELF_AND_BEFORE), [Products].[Product categories].DefaultMember), Crossjoin([Sales].[Shop].[AllMember].[shop_0], Hierarchize(Descendants({[Products].[Product categories].[AllMember]}, 2, SELF_AND_BEFORE))))) ON ROWS FROM [sales cube] CELL PROPERTIES VALUE, FORMATTED_VALUE, BACK_COLOR, FORE_COLOR, FONT_FLAGS",
       "updateMode": "once"
      },
      "serverKey": "default",
      "widgetKey": "pivot-table"
     }
    },
    "tags": []
   },
   "outputs": [
    {
     "data": {
      "application/vnd.atoti.widget.v0+json": {
       "sessionId": "1728934387_666116",
       "sessionUrl": "http://localhost:59016",
       "widgetCreationCode": "session.widget"
      },
      "text/html": [
       "<img height=\"349\" width=\"1282\" src=\"data:image/png;base64,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\" />"
      ],
      "text/plain": [
       "Open the notebook in JupyterLab with the Atoti JupyterLab extension enabled to build this widget."
      ]
     },
     "metadata": {},
     "output_type": "display_data"
    }
   ],
   "source": [
    "session.widget"
   ]
  },
  {
   "cell_type": "markdown",
   "id": "c616bde0-866c-498e-8d20-efb34bda175b",
   "metadata": {
    "tags": []
   },
   "source": [
    "# Aggregational flexibility - Pre-processing vs Post-processing\n",
    "\n"
   ]
  },
  {
   "cell_type": "markdown",
   "id": "d2c0baf8-56d2-4390-a5e1-980bbabfb29e",
   "metadata": {},
   "source": [
    "## Pre-processing trades storage consumption for computational efficiency"
   ]
  },
  {
   "cell_type": "code",
   "execution_count": 13,
   "id": "fedc6bef-3477-44e7-af8f-43ad4a4e83de",
   "metadata": {},
   "outputs": [
    {
     "data": {
      "text/html": [
       "<div>\n",
       "<style scoped>\n",
       "    .dataframe tbody tr th:only-of-type {\n",
       "        vertical-align: middle;\n",
       "    }\n",
       "\n",
       "    .dataframe tbody tr th {\n",
       "        vertical-align: top;\n",
       "    }\n",
       "\n",
       "    .dataframe thead th {\n",
       "        text-align: right;\n",
       "    }\n",
       "</style>\n",
       "<table border=\"1\" class=\"dataframe\">\n",
       "  <thead>\n",
       "    <tr style=\"text-align: right;\">\n",
       "      <th></th>\n",
       "      <th>Product</th>\n",
       "      <th>Category</th>\n",
       "      <th>Sub category</th>\n",
       "      <th>Size</th>\n",
       "      <th>Purchase price</th>\n",
       "      <th>Color</th>\n",
       "      <th>Brand</th>\n",
       "    </tr>\n",
       "  </thead>\n",
       "  <tbody>\n",
       "    <tr>\n",
       "      <th>0</th>\n",
       "      <td>TAB_0</td>\n",
       "      <td>Furniture</td>\n",
       "      <td>Table</td>\n",
       "      <td>1m80</td>\n",
       "      <td>190.0</td>\n",
       "      <td>black</td>\n",
       "      <td>Basic</td>\n",
       "    </tr>\n",
       "    <tr>\n",
       "      <th>1</th>\n",
       "      <td>TAB_1</td>\n",
       "      <td>Furniture</td>\n",
       "      <td>Table</td>\n",
       "      <td>2m40</td>\n",
       "      <td>280.0</td>\n",
       "      <td>white</td>\n",
       "      <td>Mega</td>\n",
       "    </tr>\n",
       "    <tr>\n",
       "      <th>2</th>\n",
       "      <td>CHA_2</td>\n",
       "      <td>Furniture</td>\n",
       "      <td>Chair</td>\n",
       "      <td>NaN</td>\n",
       "      <td>48.0</td>\n",
       "      <td>blue</td>\n",
       "      <td>Basic</td>\n",
       "    </tr>\n",
       "    <tr>\n",
       "      <th>3</th>\n",
       "      <td>BED_3</td>\n",
       "      <td>Furniture</td>\n",
       "      <td>Bed</td>\n",
       "      <td>Single</td>\n",
       "      <td>127.0</td>\n",
       "      <td>red</td>\n",
       "      <td>Mega</td>\n",
       "    </tr>\n",
       "    <tr>\n",
       "      <th>4</th>\n",
       "      <td>BED_4</td>\n",
       "      <td>Furniture</td>\n",
       "      <td>Bed</td>\n",
       "      <td>Double</td>\n",
       "      <td>252.0</td>\n",
       "      <td>brown</td>\n",
       "      <td>Basic</td>\n",
       "    </tr>\n",
       "  </tbody>\n",
       "</table>\n",
       "</div>"
      ],
      "text/plain": [
       "  Product   Category Sub category    Size  Purchase price  Color  Brand\n",
       "0   TAB_0  Furniture        Table    1m80           190.0  black  Basic\n",
       "1   TAB_1  Furniture        Table    2m40           280.0  white   Mega\n",
       "2   CHA_2  Furniture        Chair     NaN            48.0   blue  Basic\n",
       "3   BED_3  Furniture          Bed  Single           127.0    red   Mega\n",
       "4   BED_4  Furniture          Bed  Double           252.0  brown  Basic"
      ]
     },
     "execution_count": 13,
     "metadata": {},
     "output_type": "execute_result"
    }
   ],
   "source": [
    "product_df = pd.read_csv(\"https://data.atoti.io/notebooks/multidimension/products.csv\")\n",
    "product_df.head()"
   ]
  },
  {
   "cell_type": "code",
   "execution_count": 14,
   "id": "cb39573f-7d29-4330-8702-cd4c58c3354f",
   "metadata": {},
   "outputs": [
    {
     "data": {
      "text/html": [
       "<div>\n",
       "<style scoped>\n",
       "    .dataframe tbody tr th:only-of-type {\n",
       "        vertical-align: middle;\n",
       "    }\n",
       "\n",
       "    .dataframe tbody tr th {\n",
       "        vertical-align: top;\n",
       "    }\n",
       "\n",
       "    .dataframe thead th {\n",
       "        text-align: right;\n",
       "    }\n",
       "</style>\n",
       "<table border=\"1\" class=\"dataframe\">\n",
       "  <thead>\n",
       "    <tr style=\"text-align: right;\">\n",
       "      <th></th>\n",
       "      <th>Sale ID</th>\n",
       "      <th>Date</th>\n",
       "      <th>Shop</th>\n",
       "      <th>Product</th>\n",
       "      <th>Quantity</th>\n",
       "      <th>Unit price</th>\n",
       "    </tr>\n",
       "  </thead>\n",
       "  <tbody>\n",
       "    <tr>\n",
       "      <th>0</th>\n",
       "      <td>S000000029</td>\n",
       "      <td>2021-01-06</td>\n",
       "      <td>shop_29</td>\n",
       "      <td>TSH_29</td>\n",
       "      <td>1</td>\n",
       "      <td>20</td>\n",
       "    </tr>\n",
       "    <tr>\n",
       "      <th>1</th>\n",
       "      <td>S000000059</td>\n",
       "      <td>2021-01-06</td>\n",
       "      <td>shop_19</td>\n",
       "      <td>SHO_59</td>\n",
       "      <td>2</td>\n",
       "      <td>60</td>\n",
       "    </tr>\n",
       "    <tr>\n",
       "      <th>2</th>\n",
       "      <td>S000000089</td>\n",
       "      <td>2021-01-06</td>\n",
       "      <td>shop_9</td>\n",
       "      <td>TSH_28</td>\n",
       "      <td>4</td>\n",
       "      <td>20</td>\n",
       "    </tr>\n",
       "    <tr>\n",
       "      <th>3</th>\n",
       "      <td>S000000119</td>\n",
       "      <td>2021-01-06</td>\n",
       "      <td>shop_39</td>\n",
       "      <td>SHO_58</td>\n",
       "      <td>2</td>\n",
       "      <td>60</td>\n",
       "    </tr>\n",
       "    <tr>\n",
       "      <th>4</th>\n",
       "      <td>S000000149</td>\n",
       "      <td>2021-01-06</td>\n",
       "      <td>shop_29</td>\n",
       "      <td>BED_27</td>\n",
       "      <td>2</td>\n",
       "      <td>440</td>\n",
       "    </tr>\n",
       "  </tbody>\n",
       "</table>\n",
       "</div>"
      ],
      "text/plain": [
       "      Sale ID        Date     Shop Product  Quantity  Unit price\n",
       "0  S000000029  2021-01-06  shop_29  TSH_29         1          20\n",
       "1  S000000059  2021-01-06  shop_19  SHO_59         2          60\n",
       "2  S000000089  2021-01-06   shop_9  TSH_28         4          20\n",
       "3  S000000119  2021-01-06  shop_39  SHO_58         2          60\n",
       "4  S000000149  2021-01-06  shop_29  BED_27         2         440"
      ]
     },
     "execution_count": 14,
     "metadata": {},
     "output_type": "execute_result"
    }
   ],
   "source": [
    "sales_df = pd.read_csv(\"https://data.atoti.io/notebooks/multidimension/sales.csv\")\n",
    "sales_df.head()"
   ]
  },
  {
   "cell_type": "markdown",
   "id": "b3cbb744-338e-49cf-8312-91bf823fe06f",
   "metadata": {},
   "source": [
    "Within the same data source, we can easily perform aggregation by applying the formulas. Notice that our dataset just grew bigger with the additional column? By loading this dataset, we traded storage consumption for the computational efficiency because the cube need not compute the sales amount every time we query it."
   ]
  },
  {
   "cell_type": "code",
   "execution_count": 15,
   "id": "6f3285c3-f86a-4adf-8522-fd29e32d49bb",
   "metadata": {},
   "outputs": [
    {
     "data": {
      "text/html": [
       "<div>\n",
       "<style scoped>\n",
       "    .dataframe tbody tr th:only-of-type {\n",
       "        vertical-align: middle;\n",
       "    }\n",
       "\n",
       "    .dataframe tbody tr th {\n",
       "        vertical-align: top;\n",
       "    }\n",
       "\n",
       "    .dataframe thead th {\n",
       "        text-align: right;\n",
       "    }\n",
       "</style>\n",
       "<table border=\"1\" class=\"dataframe\">\n",
       "  <thead>\n",
       "    <tr style=\"text-align: right;\">\n",
       "      <th></th>\n",
       "      <th>Sale ID</th>\n",
       "      <th>Date</th>\n",
       "      <th>Shop</th>\n",
       "      <th>Product</th>\n",
       "      <th>Quantity</th>\n",
       "      <th>Unit price</th>\n",
       "      <th>Sales amount</th>\n",
       "    </tr>\n",
       "  </thead>\n",
       "  <tbody>\n",
       "    <tr>\n",
       "      <th>0</th>\n",
       "      <td>S000000029</td>\n",
       "      <td>2021-01-06</td>\n",
       "      <td>shop_29</td>\n",
       "      <td>TSH_29</td>\n",
       "      <td>1</td>\n",
       "      <td>20</td>\n",
       "      <td>20</td>\n",
       "    </tr>\n",
       "    <tr>\n",
       "      <th>1</th>\n",
       "      <td>S000000059</td>\n",
       "      <td>2021-01-06</td>\n",
       "      <td>shop_19</td>\n",
       "      <td>SHO_59</td>\n",
       "      <td>2</td>\n",
       "      <td>60</td>\n",
       "      <td>120</td>\n",
       "    </tr>\n",
       "    <tr>\n",
       "      <th>2</th>\n",
       "      <td>S000000089</td>\n",
       "      <td>2021-01-06</td>\n",
       "      <td>shop_9</td>\n",
       "      <td>TSH_28</td>\n",
       "      <td>4</td>\n",
       "      <td>20</td>\n",
       "      <td>80</td>\n",
       "    </tr>\n",
       "    <tr>\n",
       "      <th>3</th>\n",
       "      <td>S000000119</td>\n",
       "      <td>2021-01-06</td>\n",
       "      <td>shop_39</td>\n",
       "      <td>SHO_58</td>\n",
       "      <td>2</td>\n",
       "      <td>60</td>\n",
       "      <td>120</td>\n",
       "    </tr>\n",
       "    <tr>\n",
       "      <th>4</th>\n",
       "      <td>S000000149</td>\n",
       "      <td>2021-01-06</td>\n",
       "      <td>shop_29</td>\n",
       "      <td>BED_27</td>\n",
       "      <td>2</td>\n",
       "      <td>440</td>\n",
       "      <td>880</td>\n",
       "    </tr>\n",
       "  </tbody>\n",
       "</table>\n",
       "</div>"
      ],
      "text/plain": [
       "      Sale ID        Date     Shop Product  Quantity  Unit price  Sales amount\n",
       "0  S000000029  2021-01-06  shop_29  TSH_29         1          20            20\n",
       "1  S000000059  2021-01-06  shop_19  SHO_59         2          60           120\n",
       "2  S000000089  2021-01-06   shop_9  TSH_28         4          20            80\n",
       "3  S000000119  2021-01-06  shop_39  SHO_58         2          60           120\n",
       "4  S000000149  2021-01-06  shop_29  BED_27         2         440           880"
      ]
     },
     "execution_count": 15,
     "metadata": {},
     "output_type": "execute_result"
    }
   ],
   "source": [
    "sales_df[\"Sales amount\"] = sales_df[\"Quantity\"] * sales_df[\"Unit price\"]\n",
    "sales_df.head()"
   ]
  },
  {
   "cell_type": "markdown",
   "id": "7f9c6fdd-366a-4b7a-9925-eefec9545e27",
   "metadata": {},
   "source": [
    "When aggregation involves multiple data sources, then we need to handle the joins before we can apply the formulas."
   ]
  },
  {
   "cell_type": "code",
   "execution_count": 16,
   "id": "83fc8e4a-cb1b-4c60-8b66-91f6aa313107",
   "metadata": {},
   "outputs": [
    {
     "data": {
      "text/html": [
       "<div>\n",
       "<style scoped>\n",
       "    .dataframe tbody tr th:only-of-type {\n",
       "        vertical-align: middle;\n",
       "    }\n",
       "\n",
       "    .dataframe tbody tr th {\n",
       "        vertical-align: top;\n",
       "    }\n",
       "\n",
       "    .dataframe thead th {\n",
       "        text-align: right;\n",
       "    }\n",
       "</style>\n",
       "<table border=\"1\" class=\"dataframe\">\n",
       "  <thead>\n",
       "    <tr style=\"text-align: right;\">\n",
       "      <th></th>\n",
       "      <th>Sale ID</th>\n",
       "      <th>Date</th>\n",
       "      <th>Shop</th>\n",
       "      <th>Product</th>\n",
       "      <th>Quantity</th>\n",
       "      <th>Unit price</th>\n",
       "      <th>Sales amount</th>\n",
       "      <th>Category</th>\n",
       "      <th>Sub category</th>\n",
       "      <th>Size</th>\n",
       "      <th>Purchase price</th>\n",
       "      <th>Color</th>\n",
       "      <th>Brand</th>\n",
       "    </tr>\n",
       "  </thead>\n",
       "  <tbody>\n",
       "    <tr>\n",
       "      <th>0</th>\n",
       "      <td>S000000029</td>\n",
       "      <td>2021-01-06</td>\n",
       "      <td>shop_29</td>\n",
       "      <td>TSH_29</td>\n",
       "      <td>1</td>\n",
       "      <td>20</td>\n",
       "      <td>20</td>\n",
       "      <td>Cloth</td>\n",
       "      <td>Tshirt</td>\n",
       "      <td>S</td>\n",
       "      <td>18.0</td>\n",
       "      <td>brown</td>\n",
       "      <td>Mega</td>\n",
       "    </tr>\n",
       "    <tr>\n",
       "      <th>1</th>\n",
       "      <td>S000000059</td>\n",
       "      <td>2021-01-06</td>\n",
       "      <td>shop_19</td>\n",
       "      <td>SHO_59</td>\n",
       "      <td>2</td>\n",
       "      <td>60</td>\n",
       "      <td>120</td>\n",
       "      <td>Cloth</td>\n",
       "      <td>Shoes</td>\n",
       "      <td>9</td>\n",
       "      <td>44.0</td>\n",
       "      <td>brown</td>\n",
       "      <td>NewBrand</td>\n",
       "    </tr>\n",
       "    <tr>\n",
       "      <th>2</th>\n",
       "      <td>S000000089</td>\n",
       "      <td>2021-01-06</td>\n",
       "      <td>shop_9</td>\n",
       "      <td>TSH_28</td>\n",
       "      <td>4</td>\n",
       "      <td>20</td>\n",
       "      <td>80</td>\n",
       "      <td>Cloth</td>\n",
       "      <td>Tshirt</td>\n",
       "      <td>XS</td>\n",
       "      <td>17.0</td>\n",
       "      <td>red</td>\n",
       "      <td>Basic</td>\n",
       "    </tr>\n",
       "    <tr>\n",
       "      <th>3</th>\n",
       "      <td>S000000119</td>\n",
       "      <td>2021-01-06</td>\n",
       "      <td>shop_39</td>\n",
       "      <td>SHO_58</td>\n",
       "      <td>2</td>\n",
       "      <td>60</td>\n",
       "      <td>120</td>\n",
       "      <td>Cloth</td>\n",
       "      <td>Shoes</td>\n",
       "      <td>8</td>\n",
       "      <td>42.0</td>\n",
       "      <td>red</td>\n",
       "      <td>Over</td>\n",
       "    </tr>\n",
       "    <tr>\n",
       "      <th>4</th>\n",
       "      <td>S000000149</td>\n",
       "      <td>2021-01-06</td>\n",
       "      <td>shop_29</td>\n",
       "      <td>BED_27</td>\n",
       "      <td>2</td>\n",
       "      <td>440</td>\n",
       "      <td>880</td>\n",
       "      <td>Furniture</td>\n",
       "      <td>Bed</td>\n",
       "      <td>King</td>\n",
       "      <td>375.0</td>\n",
       "      <td>blue</td>\n",
       "      <td>Mega</td>\n",
       "    </tr>\n",
       "  </tbody>\n",
       "</table>\n",
       "</div>"
      ],
      "text/plain": [
       "      Sale ID        Date     Shop Product  Quantity  Unit price  \\\n",
       "0  S000000029  2021-01-06  shop_29  TSH_29         1          20   \n",
       "1  S000000059  2021-01-06  shop_19  SHO_59         2          60   \n",
       "2  S000000089  2021-01-06   shop_9  TSH_28         4          20   \n",
       "3  S000000119  2021-01-06  shop_39  SHO_58         2          60   \n",
       "4  S000000149  2021-01-06  shop_29  BED_27         2         440   \n",
       "\n",
       "   Sales amount   Category Sub category  Size  Purchase price  Color     Brand  \n",
       "0            20      Cloth       Tshirt     S            18.0  brown      Mega  \n",
       "1           120      Cloth        Shoes     9            44.0  brown  NewBrand  \n",
       "2            80      Cloth       Tshirt    XS            17.0    red     Basic  \n",
       "3           120      Cloth        Shoes     8            42.0    red      Over  \n",
       "4           880  Furniture          Bed  King           375.0   blue      Mega  "
      ]
     },
     "execution_count": 16,
     "metadata": {},
     "output_type": "execute_result"
    }
   ],
   "source": [
    "product_sales = pd.merge(sales_df, product_df, on=\"Product\")\n",
    "product_sales.head()"
   ]
  },
  {
   "cell_type": "code",
   "execution_count": 17,
   "id": "136afb1e-57f2-4d00-a3a4-8aff63a31469",
   "metadata": {},
   "outputs": [
    {
     "data": {
      "text/html": [
       "<div>\n",
       "<style scoped>\n",
       "    .dataframe tbody tr th:only-of-type {\n",
       "        vertical-align: middle;\n",
       "    }\n",
       "\n",
       "    .dataframe tbody tr th {\n",
       "        vertical-align: top;\n",
       "    }\n",
       "\n",
       "    .dataframe thead th {\n",
       "        text-align: right;\n",
       "    }\n",
       "</style>\n",
       "<table border=\"1\" class=\"dataframe\">\n",
       "  <thead>\n",
       "    <tr style=\"text-align: right;\">\n",
       "      <th></th>\n",
       "      <th>Sale ID</th>\n",
       "      <th>Date</th>\n",
       "      <th>Shop</th>\n",
       "      <th>Product</th>\n",
       "      <th>Quantity</th>\n",
       "      <th>Unit price</th>\n",
       "      <th>Sales amount</th>\n",
       "      <th>Category</th>\n",
       "      <th>Sub category</th>\n",
       "      <th>Size</th>\n",
       "      <th>Purchase price</th>\n",
       "      <th>Color</th>\n",
       "      <th>Brand</th>\n",
       "      <th>Cost price</th>\n",
       "      <th>Margin</th>\n",
       "    </tr>\n",
       "  </thead>\n",
       "  <tbody>\n",
       "    <tr>\n",
       "      <th>0</th>\n",
       "      <td>S000000029</td>\n",
       "      <td>2021-01-06</td>\n",
       "      <td>shop_29</td>\n",
       "      <td>TSH_29</td>\n",
       "      <td>1</td>\n",
       "      <td>20</td>\n",
       "      <td>20</td>\n",
       "      <td>Cloth</td>\n",
       "      <td>Tshirt</td>\n",
       "      <td>S</td>\n",
       "      <td>18.0</td>\n",
       "      <td>brown</td>\n",
       "      <td>Mega</td>\n",
       "      <td>18.0</td>\n",
       "      <td>2.0</td>\n",
       "    </tr>\n",
       "    <tr>\n",
       "      <th>1</th>\n",
       "      <td>S000000059</td>\n",
       "      <td>2021-01-06</td>\n",
       "      <td>shop_19</td>\n",
       "      <td>SHO_59</td>\n",
       "      <td>2</td>\n",
       "      <td>60</td>\n",
       "      <td>120</td>\n",
       "      <td>Cloth</td>\n",
       "      <td>Shoes</td>\n",
       "      <td>9</td>\n",
       "      <td>44.0</td>\n",
       "      <td>brown</td>\n",
       "      <td>NewBrand</td>\n",
       "      <td>88.0</td>\n",
       "      <td>32.0</td>\n",
       "    </tr>\n",
       "    <tr>\n",
       "      <th>2</th>\n",
       "      <td>S000000089</td>\n",
       "      <td>2021-01-06</td>\n",
       "      <td>shop_9</td>\n",
       "      <td>TSH_28</td>\n",
       "      <td>4</td>\n",
       "      <td>20</td>\n",
       "      <td>80</td>\n",
       "      <td>Cloth</td>\n",
       "      <td>Tshirt</td>\n",
       "      <td>XS</td>\n",
       "      <td>17.0</td>\n",
       "      <td>red</td>\n",
       "      <td>Basic</td>\n",
       "      <td>68.0</td>\n",
       "      <td>12.0</td>\n",
       "    </tr>\n",
       "    <tr>\n",
       "      <th>3</th>\n",
       "      <td>S000000119</td>\n",
       "      <td>2021-01-06</td>\n",
       "      <td>shop_39</td>\n",
       "      <td>SHO_58</td>\n",
       "      <td>2</td>\n",
       "      <td>60</td>\n",
       "      <td>120</td>\n",
       "      <td>Cloth</td>\n",
       "      <td>Shoes</td>\n",
       "      <td>8</td>\n",
       "      <td>42.0</td>\n",
       "      <td>red</td>\n",
       "      <td>Over</td>\n",
       "      <td>84.0</td>\n",
       "      <td>36.0</td>\n",
       "    </tr>\n",
       "    <tr>\n",
       "      <th>4</th>\n",
       "      <td>S000000149</td>\n",
       "      <td>2021-01-06</td>\n",
       "      <td>shop_29</td>\n",
       "      <td>BED_27</td>\n",
       "      <td>2</td>\n",
       "      <td>440</td>\n",
       "      <td>880</td>\n",
       "      <td>Furniture</td>\n",
       "      <td>Bed</td>\n",
       "      <td>King</td>\n",
       "      <td>375.0</td>\n",
       "      <td>blue</td>\n",
       "      <td>Mega</td>\n",
       "      <td>750.0</td>\n",
       "      <td>130.0</td>\n",
       "    </tr>\n",
       "  </tbody>\n",
       "</table>\n",
       "</div>"
      ],
      "text/plain": [
       "      Sale ID        Date     Shop Product  Quantity  Unit price  \\\n",
       "0  S000000029  2021-01-06  shop_29  TSH_29         1          20   \n",
       "1  S000000059  2021-01-06  shop_19  SHO_59         2          60   \n",
       "2  S000000089  2021-01-06   shop_9  TSH_28         4          20   \n",
       "3  S000000119  2021-01-06  shop_39  SHO_58         2          60   \n",
       "4  S000000149  2021-01-06  shop_29  BED_27         2         440   \n",
       "\n",
       "   Sales amount   Category Sub category  Size  Purchase price  Color  \\\n",
       "0            20      Cloth       Tshirt     S            18.0  brown   \n",
       "1           120      Cloth        Shoes     9            44.0  brown   \n",
       "2            80      Cloth       Tshirt    XS            17.0    red   \n",
       "3           120      Cloth        Shoes     8            42.0    red   \n",
       "4           880  Furniture          Bed  King           375.0   blue   \n",
       "\n",
       "      Brand  Cost price  Margin  \n",
       "0      Mega        18.0     2.0  \n",
       "1  NewBrand        88.0    32.0  \n",
       "2     Basic        68.0    12.0  \n",
       "3      Over        84.0    36.0  \n",
       "4      Mega       750.0   130.0  "
      ]
     },
     "execution_count": 17,
     "metadata": {},
     "output_type": "execute_result"
    }
   ],
   "source": [
    "product_sales[\"Cost price\"] = (\n",
    "    product_sales[\"Quantity\"] * product_sales[\"Purchase price\"]\n",
    ")\n",
    "product_sales[\"Margin\"] = sales_df[\"Sales amount\"] - product_sales[\"Cost price\"]\n",
    "product_sales.head()"
   ]
  },
  {
   "cell_type": "markdown",
   "id": "7b57e887-bf01-41c0-95fe-0aabeb636412",
   "metadata": {},
   "source": [
    "Pre-processing works when we are at the most granular level because we will still be able to drill down or roll up. At higher aggregation level, we will not know how to break the value when we drill down to the lower level."
   ]
  },
  {
   "cell_type": "markdown",
   "id": "81719157-0196-4bff-b336-471f25aeaf91",
   "metadata": {},
   "source": [
    "<div style=\"text-align: center;\"><img src=\"https://data.atoti.io/notebooks/multidimension/img/drilldown_rollup.png\" width=\"50%\"></div>"
   ]
  },
  {
   "cell_type": "markdown",
   "id": "f56c58ae-27f2-472a-841b-5f01aa686181",
   "metadata": {
    "tags": []
   },
   "source": [
    "## Post-processing computes on the fly and provides flexibility"
   ]
  },
  {
   "cell_type": "code",
   "execution_count": 18,
   "id": "d0e7d65b-a300-44ed-9ae2-4187ec1659c3",
   "metadata": {},
   "outputs": [],
   "source": [
    "h, l, m = cube.hierarchies, cube.levels, cube.measures"
   ]
  },
  {
   "cell_type": "code",
   "execution_count": 19,
   "id": "4c2fca52-9025-4277-9770-949e5e55513b",
   "metadata": {},
   "outputs": [],
   "source": [
    "m[\"Sales amount\"] = tt.agg.sum(\n",
    "    sales[\"Quantity\"] * sales[\"Unit price\"],\n",
    ")"
   ]
  },
  {
   "cell_type": "code",
   "execution_count": 20,
   "id": "d5693639-d478-43d2-999b-1647602cb1ac",
   "metadata": {},
   "outputs": [],
   "source": [
    "m[\"Cost price\"] = tt.agg.sum(\n",
    "    m[\"Quantity.SUM\"] * tt.agg.single_value(products[\"Purchase price\"]),\n",
    "    scope=tt.OriginScope(levels={l[\"Product\"]}),\n",
    ")"
   ]
  },
  {
   "cell_type": "code",
   "execution_count": 21,
   "id": "7df79c7f-a67e-40da-b503-bd80d65b3709",
   "metadata": {},
   "outputs": [],
   "source": [
    "m[\"Margin\"] = m[\"Sales amount\"] - m[\"Cost price\"]"
   ]
  },
  {
   "cell_type": "code",
   "execution_count": 22,
   "id": "90571a79-f793-4fc8-a969-f3eb4f6bdc33",
   "metadata": {},
   "outputs": [],
   "source": [
    "m[\"Cumulative amount\"] = tt.agg.sum(\n",
    "    m[\"Sales amount\"], scope=tt.CumulativeScope(level=l[\"Date\"])\n",
    ")\n",
    "\n",
    "m[\"Cumulative margin\"] = tt.agg.sum(\n",
    "    m[\"Margin\"], scope=tt.CumulativeScope(level=l[\"Date\"])\n",
    ")"
   ]
  },
  {
   "cell_type": "markdown",
   "id": "1f55e25f-42a7-4092-9462-48016bcee711",
   "metadata": {},
   "source": [
    "In the visualization below, we are missing the sales data for `Shop_0` on 15 Jan 2021. Suppose we use pre-processing computation to get the cumulative values, we will need to perform re-calculation and then reload the data into the cube. With post-processing, this is not required as the data is computed on the fly."
   ]
  },
  {
   "cell_type": "code",
   "execution_count": 23,
   "id": "dc945967-d009-4b72-aa8b-13b752e11bbb",
   "metadata": {
    "atoti": {
     "widget": {
      "filters": [],
      "mapping": {
       "columns": [
        "ALL_MEASURES"
       ],
       "measures": [
        "[Measures].[Margin]",
        "[Measures].[Cumulative margin]"
       ],
       "rows": [
        "[Sales].[Date].[Date]"
       ]
      },
      "query": {
       "mdx": "SELECT NON EMPTY Hierarchize(Descendants({[Sales].[Date].[AllMember]}, 1, SELF_AND_BEFORE)) ON ROWS, NON EMPTY {[Measures].[Margin], [Measures].[Cumulative margin]} ON COLUMNS FROM [sales cube] CELL PROPERTIES VALUE, FORMATTED_VALUE, BACK_COLOR, FORE_COLOR, FONT_FLAGS",
       "updateMode": "once"
      },
      "serverKey": "default",
      "switchedTo": "plotly-line-chart",
      "widgetKey": "tree-table"
     }
    },
    "tags": []
   },
   "outputs": [
    {
     "data": {
      "application/vnd.atoti.widget.v0+json": {
       "sessionId": "1728934387_666116",
       "sessionUrl": "http://localhost:59016",
       "widgetCreationCode": "session.widget"
      },
      "text/html": [
       "<img height=\"352\" width=\"1282\" src=\"data:image/png;base64,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\" />"
      ],
      "text/plain": [
       "Open the notebook in JupyterLab with the Atoti JupyterLab extension enabled to build this widget."
      ]
     },
     "metadata": {},
     "output_type": "display_data"
    }
   ],
   "source": [
    "session.widget"
   ]
  },
  {
   "cell_type": "code",
   "execution_count": 24,
   "id": "b76f6b23-2423-4c05-95fa-e7e54bdb1d67",
   "metadata": {
    "atoti": {
     "height": 390,
     "widget": {
      "columnWidths": {
       "[Measures].[Cumulative margin]": 165
      },
      "filters": [],
      "mapping": {
       "columns": [
        "ALL_MEASURES"
       ],
       "measures": [
        "[Measures].[Margin]",
        "[Measures].[Cumulative margin]"
       ],
       "rows": [
        "[Sales].[Date].[Date]"
       ]
      },
      "query": {
       "mdx": "SELECT NON EMPTY Hierarchize(Descendants({[Sales].[Date].[AllMember]}, 1, SELF_AND_BEFORE)) ON ROWS, NON EMPTY {[Measures].[Margin], [Measures].[Cumulative margin]} ON COLUMNS FROM [sales cube] CELL PROPERTIES VALUE, FORMATTED_VALUE, BACK_COLOR, FORE_COLOR, FONT_FLAGS",
       "updateMode": "once"
      },
      "serverKey": "default",
      "widgetKey": "pivot-table"
     }
    },
    "tags": []
   },
   "outputs": [
    {
     "data": {
      "application/vnd.atoti.widget.v0+json": {
       "sessionId": "1728934387_666116",
       "sessionUrl": "http://localhost:59016",
       "widgetCreationCode": "session.widget"
      },
      "text/html": [
       "<img height=\"382\" width=\"1282\" src=\"data:image/png;base64,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\" />"
      ],
      "text/plain": [
       "Open the notebook in JupyterLab with the Atoti JupyterLab extension enabled to build this widget."
      ]
     },
     "metadata": {},
     "output_type": "display_data"
    }
   ],
   "source": [
    "session.widget"
   ]
  },
  {
   "cell_type": "markdown",
   "id": "bfad2809-47d7-42e2-b9dc-bc24ecdbab03",
   "metadata": {},
   "source": [
    "Simply load the missing data into the cube and it will be computed automatically."
   ]
  },
  {
   "cell_type": "code",
   "execution_count": 25,
   "id": "57330a4f-f852-4104-858e-c5ca2d863386",
   "metadata": {},
   "outputs": [],
   "source": [
    "sales.load_csv(\"s3://data.atoti.io/notebooks/multidimension/shop0_20210115.csv\")"
   ]
  },
  {
   "cell_type": "markdown",
   "id": "098b95d9-8ce4-40af-b0f6-51015357490a",
   "metadata": {},
   "source": [
    "Re-running the last 2 visualizations should reflect the correct sales."
   ]
  },
  {
   "cell_type": "markdown",
   "id": "828ee921-d6a6-40f5-8df9-541687f22344",
   "metadata": {
    "editable": true,
    "slideshow": {
     "slide_type": ""
    },
    "tags": []
   },
   "source": [
    "<div style=\"text-align:center\"><a href=\"https://www.atoti.io/?utm_source=gallery&utm_content=multidimensional-analysis\" target=\"_blank\" rel=\"noopener noreferrer\"><img src=\"https://data.atoti.io/notebooks/banners/Your-turn-to-try-Atoti.jpg\" alt=\"Atoti table\" /></a></div>"
   ]
  }
 ],
 "metadata": {
  "kernelspec": {
   "display_name": "Python 3 (ipykernel)",
   "language": "python",
   "name": "python3"
  },
  "language_info": {
   "codemirror_mode": {
    "name": "ipython",
    "version": 3
   },
   "file_extension": ".py",
   "mimetype": "text/x-python",
   "name": "python",
   "nbconvert_exporter": "python",
   "pygments_lexer": "ipython3",
   "version": "3.10.13"
  },
  "widgets": {
   "application/vnd.jupyter.widget-state+json": {
    "state": {},
    "version_major": 2,
    "version_minor": 0
   }
  }
 },
 "nbformat": 4,
 "nbformat_minor": 5
}
