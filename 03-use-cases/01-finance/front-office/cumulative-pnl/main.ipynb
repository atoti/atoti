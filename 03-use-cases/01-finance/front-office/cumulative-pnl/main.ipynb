{
 "cells": [
  {
   "cell_type": "markdown",
   "id": "49d4ba2d-6de8-4a61-9634-4e7ea2aad71d",
   "metadata": {},
   "source": [
    "# How to create a cumulative PL calculation\n",
    "\n",
    "Last tested version: <img src=\"https://img.shields.io/badge/Atoti-v0.9.5-blue\">\n",
    "\n",
    "In this notebook, we'll illustrate cumulative PL calculation. In our example, the [rate-of-return](https://www.investopedia.com/terms/r/rateofreturn.asp) will accumulate over time according to the following formulae:"
   ]
  },
  {
   "cell_type": "markdown",
   "id": "c1099a32-f9d2-4742-b048-6c5947c46e4e",
   "metadata": {},
   "source": [
    "$$ Cumulative\\ RoC = \\prod_{start\\_date}^{end\\_date}\\left ( 1+RoR \\right )-1 $$ "
   ]
  },
  {
   "cell_type": "markdown",
   "id": "0e623ceb-f3a7-4640-95e5-3ed06b994547",
   "metadata": {},
   "source": [
    "This formula will recalculate automatically for every scope of data we'll add into the view.\n",
    "\n",
    "![Interactive RoR BI](interactive-ror.gif)\n",
    "\n",
    "The example can be adjusted, for example, instead of product you can use summation over time, and the daily measure can be any profit-and-loss metric that you could think of. "
   ]
  },
  {
   "cell_type": "markdown",
   "id": "373f2b01-2ed7-490c-9c53-740b9d69d1fc",
   "metadata": {},
   "source": [
    "<div style=\"text-align: center;\" ><a href=\"https://www.atoti.io/?utm_source=gallery&utm_content=github-cumulative-pnl\" target=\"_blank\" rel=\"noopener noreferrer\"><img src=\"https://data.atoti.io/notebooks/banners/Discover-Atoti-now.png\" alt=\"Try Atoti\"></a></div>"
   ]
  },
  {
   "cell_type": "code",
   "execution_count": 1,
   "id": "d98a9202-6df9-4222-b55e-66db0257dfc3",
   "metadata": {},
   "outputs": [],
   "source": [
    "import atoti as tt"
   ]
  },
  {
   "cell_type": "code",
   "execution_count": 2,
   "id": "4ab86e88-86ea-4b84-9038-2cc755c39f88",
   "metadata": {},
   "outputs": [
    {
     "data": {
      "text/html": [
       "<div>\n",
       "<style scoped>\n",
       "    .dataframe tbody tr th:only-of-type {\n",
       "        vertical-align: middle;\n",
       "    }\n",
       "\n",
       "    .dataframe tbody tr th {\n",
       "        vertical-align: top;\n",
       "    }\n",
       "\n",
       "    .dataframe thead th {\n",
       "        text-align: right;\n",
       "    }\n",
       "</style>\n",
       "<table border=\"1\" class=\"dataframe\">\n",
       "  <thead>\n",
       "    <tr style=\"text-align: right;\">\n",
       "      <th></th>\n",
       "      <th></th>\n",
       "      <th></th>\n",
       "      <th></th>\n",
       "      <th></th>\n",
       "      <th>Size</th>\n",
       "      <th>Investment</th>\n",
       "      <th>Profit-and-loss</th>\n",
       "    </tr>\n",
       "    <tr>\n",
       "      <th>AsOfDate</th>\n",
       "      <th>Portfolio ID</th>\n",
       "      <th>Real Asset ID</th>\n",
       "      <th>Instrument ID</th>\n",
       "      <th>Portfolio Type</th>\n",
       "      <th></th>\n",
       "      <th></th>\n",
       "      <th></th>\n",
       "    </tr>\n",
       "  </thead>\n",
       "  <tbody>\n",
       "    <tr>\n",
       "      <th rowspan=\"3\" valign=\"top\">2020-03-30</th>\n",
       "      <th>bm_02_01_1_a</th>\n",
       "      <th>ra_02_01_1</th>\n",
       "      <th>INE016A01026_sn5o7</th>\n",
       "      <th>Benchmark</th>\n",
       "      <td>6396</td>\n",
       "      <td>660.9</td>\n",
       "      <td>1.825</td>\n",
       "    </tr>\n",
       "    <tr>\n",
       "      <th>ra_01_02_3</th>\n",
       "      <th>ra_01_02_3</th>\n",
       "      <th>CH0238053125_l2ddb</th>\n",
       "      <th>Real Asset</th>\n",
       "      <td>6488</td>\n",
       "      <td>-346.0</td>\n",
       "      <td>1.074</td>\n",
       "    </tr>\n",
       "    <tr>\n",
       "      <th>bm_03_05_12_c</th>\n",
       "      <th>ra_03_05_12</th>\n",
       "      <th>KYG8586D1097_mpfv3</th>\n",
       "      <th>Benchmark</th>\n",
       "      <td>7036</td>\n",
       "      <td>375.7</td>\n",
       "      <td>1.636</td>\n",
       "    </tr>\n",
       "    <tr>\n",
       "      <th rowspan=\"2\" valign=\"top\">2020-03-05</th>\n",
       "      <th>ra_02_01_13</th>\n",
       "      <th>ra_02_01_13</th>\n",
       "      <th>CH0127860192_fahbd</th>\n",
       "      <th>Real Asset</th>\n",
       "      <td>5760</td>\n",
       "      <td>491.0</td>\n",
       "      <td>-0.773</td>\n",
       "    </tr>\n",
       "    <tr>\n",
       "      <th>a_01_03_7_c</th>\n",
       "      <th>ra_01_03_7</th>\n",
       "      <th>KYG8586D1097_mpfv3</th>\n",
       "      <th>Active</th>\n",
       "      <td>-5301</td>\n",
       "      <td>-452.9</td>\n",
       "      <td>0.456</td>\n",
       "    </tr>\n",
       "  </tbody>\n",
       "</table>\n",
       "</div>"
      ],
      "text/plain": [
       "                                                                           Size  \\\n",
       "AsOfDate   Portfolio ID  Real Asset ID Instrument ID      Portfolio Type          \n",
       "2020-03-30 bm_02_01_1_a  ra_02_01_1    INE016A01026_sn5o7 Benchmark        6396   \n",
       "           ra_01_02_3    ra_01_02_3    CH0238053125_l2ddb Real Asset       6488   \n",
       "           bm_03_05_12_c ra_03_05_12   KYG8586D1097_mpfv3 Benchmark        7036   \n",
       "2020-03-05 ra_02_01_13   ra_02_01_13   CH0127860192_fahbd Real Asset       5760   \n",
       "           a_01_03_7_c   ra_01_03_7    KYG8586D1097_mpfv3 Active          -5301   \n",
       "\n",
       "                                                                          Investment  \\\n",
       "AsOfDate   Portfolio ID  Real Asset ID Instrument ID      Portfolio Type               \n",
       "2020-03-30 bm_02_01_1_a  ra_02_01_1    INE016A01026_sn5o7 Benchmark            660.9   \n",
       "           ra_01_02_3    ra_01_02_3    CH0238053125_l2ddb Real Asset          -346.0   \n",
       "           bm_03_05_12_c ra_03_05_12   KYG8586D1097_mpfv3 Benchmark            375.7   \n",
       "2020-03-05 ra_02_01_13   ra_02_01_13   CH0127860192_fahbd Real Asset           491.0   \n",
       "           a_01_03_7_c   ra_01_03_7    KYG8586D1097_mpfv3 Active              -452.9   \n",
       "\n",
       "                                                                          Profit-and-loss  \n",
       "AsOfDate   Portfolio ID  Real Asset ID Instrument ID      Portfolio Type                   \n",
       "2020-03-30 bm_02_01_1_a  ra_02_01_1    INE016A01026_sn5o7 Benchmark                 1.825  \n",
       "           ra_01_02_3    ra_01_02_3    CH0238053125_l2ddb Real Asset                1.074  \n",
       "           bm_03_05_12_c ra_03_05_12   KYG8586D1097_mpfv3 Benchmark                 1.636  \n",
       "2020-03-05 ra_02_01_13   ra_02_01_13   CH0127860192_fahbd Real Asset               -0.773  \n",
       "           a_01_03_7_c   ra_01_03_7    KYG8586D1097_mpfv3 Active                    0.456  "
      ]
     },
     "execution_count": 2,
     "metadata": {},
     "output_type": "execute_result"
    }
   ],
   "source": [
    "session = tt.Session.start(tt.SessionConfig(user_content_storage=\"./content\"))\n",
    "positions = session.read_csv(\n",
    "    \"s3://data.atoti.io/notebooks/cumulative-pnl/positions.csv\",\n",
    "    table_name=\"positions\",\n",
    "    keys=[\n",
    "        \"AsOfDate\",\n",
    "        \"Portfolio ID\",\n",
    "        \"Real Asset ID\",\n",
    "        \"Instrument ID\",\n",
    "        \"Portfolio Type\",\n",
    "    ],\n",
    "    data_types={\"AsOfDate\": tt.type.LOCAL_DATE},\n",
    "    date_patterns={\"AsOfDate\": \"dd-MM-yyyy\"},\n",
    ")\n",
    "\n",
    "positions.head()"
   ]
  },
  {
   "cell_type": "code",
   "execution_count": 3,
   "id": "9bdf0735-12b8-4e04-8799-5ed79839fbf3",
   "metadata": {},
   "outputs": [
    {
     "data": {
      "text/html": [
       "<div>\n",
       "<style scoped>\n",
       "    .dataframe tbody tr th:only-of-type {\n",
       "        vertical-align: middle;\n",
       "    }\n",
       "\n",
       "    .dataframe tbody tr th {\n",
       "        vertical-align: top;\n",
       "    }\n",
       "\n",
       "    .dataframe thead th {\n",
       "        text-align: right;\n",
       "    }\n",
       "</style>\n",
       "<table border=\"1\" class=\"dataframe\">\n",
       "  <thead>\n",
       "    <tr style=\"text-align: right;\">\n",
       "      <th></th>\n",
       "      <th>Instrument Name</th>\n",
       "      <th>Instrument Currency</th>\n",
       "      <th>Instrument Type</th>\n",
       "      <th>Issuer</th>\n",
       "      <th>Country</th>\n",
       "      <th>Coupon</th>\n",
       "      <th>Yield</th>\n",
       "      <th>Maturity Date</th>\n",
       "      <th>Issue Date</th>\n",
       "    </tr>\n",
       "    <tr>\n",
       "      <th>Instrument ID</th>\n",
       "      <th></th>\n",
       "      <th></th>\n",
       "      <th></th>\n",
       "      <th></th>\n",
       "      <th></th>\n",
       "      <th></th>\n",
       "      <th></th>\n",
       "      <th></th>\n",
       "      <th></th>\n",
       "    </tr>\n",
       "  </thead>\n",
       "  <tbody>\n",
       "    <tr>\n",
       "      <th>KYG3066L1014_x3ru6</th>\n",
       "      <td>ENN Energy (ex Xinao Gas)</td>\n",
       "      <td>HKD</td>\n",
       "      <td>Shares</td>\n",
       "      <td>N/A</td>\n",
       "      <td>Hong Kong</td>\n",
       "      <td>&lt;NA&gt;</td>\n",
       "      <td>&lt;NA&gt;</td>\n",
       "      <td>1970-01-01</td>\n",
       "      <td>1970-01-01</td>\n",
       "    </tr>\n",
       "    <tr>\n",
       "      <th>HK0000069689_uhvfx</th>\n",
       "      <td>AIA Group Ltd</td>\n",
       "      <td>HKD</td>\n",
       "      <td>Shares</td>\n",
       "      <td>N/A</td>\n",
       "      <td>Hong Kong</td>\n",
       "      <td>&lt;NA&gt;</td>\n",
       "      <td>&lt;NA&gt;</td>\n",
       "      <td>1970-01-01</td>\n",
       "      <td>1970-01-01</td>\n",
       "    </tr>\n",
       "    <tr>\n",
       "      <th>MXP4948K1056_nlg6w</th>\n",
       "      <td>Gruma Sa De Cv B</td>\n",
       "      <td>MXN</td>\n",
       "      <td>Shares</td>\n",
       "      <td>N/A</td>\n",
       "      <td>Mexico</td>\n",
       "      <td>&lt;NA&gt;</td>\n",
       "      <td>&lt;NA&gt;</td>\n",
       "      <td>1970-01-01</td>\n",
       "      <td>1970-01-01</td>\n",
       "    </tr>\n",
       "    <tr>\n",
       "      <th>US37949E2046_zdrd3</th>\n",
       "      <td>Globaltrans Investment Plc Gdr</td>\n",
       "      <td>USD</td>\n",
       "      <td>Shares</td>\n",
       "      <td>N/A</td>\n",
       "      <td>Cyprus</td>\n",
       "      <td>&lt;NA&gt;</td>\n",
       "      <td>&lt;NA&gt;</td>\n",
       "      <td>1970-01-01</td>\n",
       "      <td>1970-01-01</td>\n",
       "    </tr>\n",
       "    <tr>\n",
       "      <th>USG8189YAB05_yshk7</th>\n",
       "      <td>SINOPEC GR.O.D. 12/22REGS</td>\n",
       "      <td>USD</td>\n",
       "      <td>Bonds</td>\n",
       "      <td>Sinopec Group Overseas Development [2012] Ltd.</td>\n",
       "      <td>Virgin Islands</td>\n",
       "      <td>3.9</td>\n",
       "      <td>2.4</td>\n",
       "      <td>2022-05-17</td>\n",
       "      <td>2012-05-17</td>\n",
       "    </tr>\n",
       "  </tbody>\n",
       "</table>\n",
       "</div>"
      ],
      "text/plain": [
       "                                   Instrument Name Instrument Currency  \\\n",
       "Instrument ID                                                            \n",
       "KYG3066L1014_x3ru6       ENN Energy (ex Xinao Gas)                 HKD   \n",
       "HK0000069689_uhvfx                   AIA Group Ltd                 HKD   \n",
       "MXP4948K1056_nlg6w                Gruma Sa De Cv B                 MXN   \n",
       "US37949E2046_zdrd3  Globaltrans Investment Plc Gdr                 USD   \n",
       "USG8189YAB05_yshk7       SINOPEC GR.O.D. 12/22REGS                 USD   \n",
       "\n",
       "                   Instrument Type  \\\n",
       "Instrument ID                        \n",
       "KYG3066L1014_x3ru6          Shares   \n",
       "HK0000069689_uhvfx          Shares   \n",
       "MXP4948K1056_nlg6w          Shares   \n",
       "US37949E2046_zdrd3          Shares   \n",
       "USG8189YAB05_yshk7           Bonds   \n",
       "\n",
       "                                                            Issuer  \\\n",
       "Instrument ID                                                        \n",
       "KYG3066L1014_x3ru6                                             N/A   \n",
       "HK0000069689_uhvfx                                             N/A   \n",
       "MXP4948K1056_nlg6w                                             N/A   \n",
       "US37949E2046_zdrd3                                             N/A   \n",
       "USG8189YAB05_yshk7  Sinopec Group Overseas Development [2012] Ltd.   \n",
       "\n",
       "                           Country  Coupon  Yield Maturity Date Issue Date  \n",
       "Instrument ID                                                               \n",
       "KYG3066L1014_x3ru6       Hong Kong    <NA>   <NA>    1970-01-01 1970-01-01  \n",
       "HK0000069689_uhvfx       Hong Kong    <NA>   <NA>    1970-01-01 1970-01-01  \n",
       "MXP4948K1056_nlg6w          Mexico    <NA>   <NA>    1970-01-01 1970-01-01  \n",
       "US37949E2046_zdrd3          Cyprus    <NA>   <NA>    1970-01-01 1970-01-01  \n",
       "USG8189YAB05_yshk7  Virgin Islands     3.9    2.4    2022-05-17 2012-05-17  "
      ]
     },
     "execution_count": 3,
     "metadata": {},
     "output_type": "execute_result"
    }
   ],
   "source": [
    "instrument_attributes = session.read_csv(\n",
    "    \"s3://data.atoti.io/notebooks/cumulative-pnl/instrument_attributes.csv\",\n",
    "    table_name=\"instrument_attributes\",\n",
    "    keys=[\"Instrument ID\"],\n",
    ")\n",
    "\n",
    "instrument_attributes.head()"
   ]
  },
  {
   "cell_type": "code",
   "execution_count": 4,
   "id": "2263f623-e705-456b-b553-87a16ff3b226",
   "metadata": {},
   "outputs": [
    {
     "data": {
      "image/png": "[encoded data removed]",
      "text/plain": [
       "erDiagram\n",
       "  \"positions\" {\n",
       "    _ LocalDate PK \"AsOfDate\"\n",
       "    _ String PK \"Portfolio ID\"\n",
       "    _ String PK \"Real Asset ID\"\n",
       "    _ String PK \"Instrument ID\"\n",
       "    _ String PK \"Portfolio Type\"\n",
       "    nullable int \"Size\"\n",
       "    nullable double \"Investment\"\n",
       "    nullable double \"Profit-and-loss\"\n",
       "  }\n",
       "  \"instrument_attributes\" {\n",
       "    _ String PK \"Instrument ID\"\n",
       "    _ String \"Instrument Name\"\n",
       "    _ String \"Instrument Currency\"\n",
       "    _ String \"Instrument Type\"\n",
       "    _ String \"Issuer\"\n",
       "    _ String \"Country\"\n",
       "    nullable double \"Coupon\"\n",
       "    nullable double \"Yield\"\n",
       "    _ LocalDate \"Maturity Date\"\n",
       "    _ LocalDate \"Issue Date\"\n",
       "  }\n",
       "  \"positions\" }o--o| \"instrument_attributes\" : \"`Instrument ID` == `Instrument ID`\""
      ]
     },
     "execution_count": 4,
     "metadata": {},
     "output_type": "execute_result"
    }
   ],
   "source": [
    "cube = session.create_cube(positions, mode=\"auto\")\n",
    "h, l, m = cube.hierarchies, cube.levels, cube.measures\n",
    "\n",
    "positions.join(instrument_attributes)\n",
    "session.tables.schema"
   ]
  },
  {
   "cell_type": "code",
   "execution_count": 5,
   "id": "ca8755a0-9fae-4640-a12a-cd4f4e606964",
   "metadata": {},
   "outputs": [],
   "source": [
    "m[\"Daily ROR\"] = m[\"Profit-and-loss.SUM\"] / m[\"Investment.SUM\"]\n",
    "m[\"Daily ROR\"].formatter = \"DOUBLE[#,##0.000%]\"\n",
    "\n",
    "m[\"Daily ROR + 1\"] = m[\"Daily ROR\"] + 1\n",
    "m[\"Daily ROR + 1\"].formatter = \"DOUBLE[#,##0.0000]\""
   ]
  },
  {
   "cell_type": "code",
   "execution_count": 6,
   "id": "5b2e5a1c-2bb1-4231-b10a-19b7d9c2a5ee",
   "metadata": {},
   "outputs": [],
   "source": [
    "cube.create_date_hierarchy(\n",
    "    \"Calendar\",\n",
    "    column=positions[\"AsOfDate\"],\n",
    "    levels={\"Year\": \"Y\", \"Month\": \"MMMM\", \"Day\": \"d\"},\n",
    ")\n",
    "h[\"Calendar\"].slicing = True"
   ]
  },
  {
   "cell_type": "code",
   "execution_count": 7,
   "id": "7e5885c8-e78e-4f40-afe1-6364fbadf633",
   "metadata": {},
   "outputs": [],
   "source": [
    "cube.levels[\"Month\"].order = tt.CustomOrder(\n",
    "    first_elements=[\n",
    "        \"January\",\n",
    "        \"February\",\n",
    "        \"March\",\n",
    "        \"April\",\n",
    "        \"May\",\n",
    "        \"June\",\n",
    "        \"July\",\n",
    "        \"August\",\n",
    "        \"September\",\n",
    "        \"October\",\n",
    "        \"November\",\n",
    "        \"December\",\n",
    "    ]\n",
    ")"
   ]
  },
  {
   "cell_type": "code",
   "execution_count": 8,
   "id": "ee8c6e02-54aa-434a-b11b-e0698c066011",
   "metadata": {},
   "outputs": [],
   "source": [
    "m[\"Since Inception ROR\"] = (\n",
    "    tt.agg.prod(\n",
    "        m[\"Daily ROR + 1\"],\n",
    "        scope=tt.CumulativeScope(level=l[\"Day\"]),\n",
    "    )\n",
    "    - 1\n",
    ")\n",
    "m[\"Since Inception ROR\"].formatter = \"DOUBLE[#,##0.000%]\"\n",
    "\n",
    "m[\"MtD ROR\"] = tt.where(\n",
    "    ~l[\"Day\"].isnull(),\n",
    "    (\n",
    "        tt.agg.prod(\n",
    "            m[\"Daily ROR + 1\"],\n",
    "            scope=tt.CumulativeScope(level=l[\"Day\"], partitioning=l[\"Month\"]),\n",
    "        )\n",
    "        - 1\n",
    "    ),\n",
    ")\n",
    "m[\"MtD ROR\"].formatter = \"DOUBLE[#,##0.000%]\"\n",
    "\n",
    "m[\"YtD ROR\"] = tt.where(\n",
    "    ~l[\"Day\"].isnull(),\n",
    "    (\n",
    "        tt.agg.prod(\n",
    "            m[\"Daily ROR + 1\"],\n",
    "            scope=tt.CumulativeScope(level=l[\"Day\"], partitioning=l[\"Year\"]),\n",
    "        )\n",
    "        - 1\n",
    "    ),\n",
    ")\n",
    "m[\"YtD ROR\"].formatter = \"DOUBLE[#,##0.000%]\""
   ]
  },
  {
   "cell_type": "code",
   "execution_count": 9,
   "id": "daeebb66-3819-4ec3-b715-c1a0a449843d",
   "metadata": {
    "tags": []
   },
   "outputs": [
    {
     "data": {
      "application/vnd.atoti.link.v0+json": {
       "path": "",
       "sessionUrl": "http://localhost:62569"
      },
      "text/plain": [
       "http://localhost:62569"
      ]
     },
     "execution_count": 9,
     "metadata": {},
     "output_type": "execute_result"
    }
   ],
   "source": [
    "session.link"
   ]
  },
  {
   "cell_type": "markdown",
   "id": "0f33d030-0098-4fbc-8e81-48017ddc2d97",
   "metadata": {
    "editable": true,
    "slideshow": {
     "slide_type": ""
    },
    "tags": []
   },
   "source": [
    "<div style=\"text-align: center;\" ><a href=\"https://www.atoti.io/?utm_source=gallery&utm_content=github-cumulative-pnl\" target=\"_blank\" rel=\"noopener noreferrer\"><img src=\"https://data.atoti.io/notebooks/banners/Your-turn-to-try-Atoti.jpg\" alt=\"Try Atoti\"></a></div>"
   ]
  }
 ],
 "metadata": {
  "kernelspec": {
   "display_name": "Python 3 (ipykernel)",
   "language": "python",
   "name": "python3"
  },
  "language_info": {
   "codemirror_mode": {
    "name": "ipython",
    "version": 3
   },
   "file_extension": ".py",
   "mimetype": "text/x-python",
   "name": "python",
   "nbconvert_exporter": "python",
   "pygments_lexer": "ipython3",
   "version": "3.11.10"
  },
  "widgets": {
   "application/vnd.jupyter.widget-state+json": {
    "state": {},
    "version_major": 2,
    "version_minor": 0
   }
  }
 },
 "nbformat": 4,
 "nbformat_minor": 5
}
