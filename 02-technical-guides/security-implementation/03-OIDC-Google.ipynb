{
 "cells": [
  {
   "cell_type": "markdown",
   "id": "6f116c04-b884-4002-ba9c-14aacf434cc5",
   "metadata": {},
   "source": [
    "# Securing an Atoti session with Auth0 using Google\n",
    "\n",
    "💡 **Note:** Security implementation is one of the [locked features](https://docs.atoti.io/latest/how_tos/unlock_all_features.html#Unlock-all-features) that are not available in Atoti Community Edition. To try out this notebook, you can request for an [evaluation license](https://atoti.io/evaluation-license-request/) to unlock all features. \n",
    "\n",
    "Atoti supports multiple [authentication mechanisms](https://docs.activeviam.com/products/atoti/python-sdk/0.9.6/api/atoti.security.html) to cater to the needs of our end users. Securing a session comes in two parts:\n",
    "\n",
    "1. Implementing authentication mechanism to secure access to the session\n",
    "2. Restricting access of modules or data access by users based on the roles granted\n",
    "\n",
    "This notebook demonstrates how we use [OpenID Connect (OIDC)](https://openid.net/connect/) through [Google Cloud credentials](https://cloud.google.com/docs/authentication) to authenticate access to Atoti web application. We will explore the Atoti security features using the [Top 50 Fast Food](https://www.kaggle.com/datasets/stetsondone/top50fastfood) dataset from Kaggle, combined with its parent company information sourced from the internet."
   ]
  },
  {
   "cell_type": "markdown",
   "id": "ee9eeb26-b959-4674-ad0b-47875dfe2d5a",
   "metadata": {},
   "source": [
    "<div style=\"text-align: center;\" ><a href=\"https://www.atoti.io/?utm_source=gallery&utm_content=oidc-google\" target=\"_blank\" rel=\"noopener noreferrer\"><img src=\"https://data.atoti.io/notebooks/banners/Discover-Atoti-now.png\" alt=\"Try atoti\"></a></div>"
   ]
  },
  {
   "cell_type": "markdown",
   "id": "e9d1f461-77ef-4af7-92e8-b086c45f2be3",
   "metadata": {},
   "source": [
    "## Import libraries"
   ]
  },
  {
   "cell_type": "code",
   "execution_count": 1,
   "id": "68ad57e0-9bee-4d84-9e72-11947dd46a8c",
   "metadata": {},
   "outputs": [],
   "source": [
    "import os\n",
    "import atoti as tt\n",
    "import requests\n",
    "from requests.auth import HTTPBasicAuth\n",
    "from urllib.parse import urlparse"
   ]
  },
  {
   "cell_type": "markdown",
   "id": "c7753688-efe6-485f-bdc3-4dcb5f7a4bc7",
   "metadata": {
    "tags": []
   },
   "source": [
    "## Setting up Google Cloud OIDC\n",
    "\n",
    "Google Cloud APIs use the [OAuth 2.0 protocol](https://tools.ietf.org/html/rfc6749) for authenticating the user accounts. We demonstrate below how we configure the authentication parameter of [`atoti.Session`](https://docs.atoti.io/latest/lib/atoti/atoti.session.html#atoti.Session.__init__) to connect Google Cloud Credential API using OIDC.\n",
    "\n",
    "First, we have to configure the *OAuth consent screen* and register our app. Remember to set the `User type` to `Internal`, so that our app is limited to Google Workspace users within our organization.  \n",
    "\n",
    "<img src=\"https://data.atoti.io/notebooks/security/img/google-oauth-consent-screen.png\" width=\"70%\" />\n",
    "\n",
    "Proceed to *APIs & Services* > *Credentials* > *Create credentials* in Google Cloud. Create a credential of type `OAuth client ID` and set the following environment variables for your corresponding client ID and client secret.\n",
    "\n",
    "For Linux/macOS users:\n",
    "\n",
    "```bash\n",
    "export GOOGLE_CLIENT_ID=\n",
    "export GOOGLE_CLIENT_SECRET=\n",
    "```\n",
    "\n",
    "For Windows users:\n",
    "\n",
    "```bash\n",
    "set GOOGLE_CLIENT_ID=\n",
    "set GOOGLE_CLIENT_SECRET=\n",
    "```\n",
    "\n",
    "<img src=\"https://data.atoti.io/notebooks/security/img/google-setup.png\" width=\"70%\" />\n",
    "\n",
    "Set the following URLs. This will configure the authorized redirect URIs for the OAuth 2.0 Client ID in Google Cloud. In Google Cloud, we set the following redirect URI with the [provider_id](https://docs.activeviam.com/products/atoti/python-sdk/0.9.6/api/atoti.OidcConfig.html#atoti.OidcConfig.provider_id) set to `google`: \n",
    "\n",
    "```python\n",
    "f\"{session_url}/login/oauth2/code/{provider_id}\"\n",
    "```\n",
    "\n",
    "* Authorized JavaScript origins\n",
    "  * `http://localhost:10011`\n",
    "* Authorized redirect URIs\n",
    "  * `http://localhost:10011/login/oauth2/code/google`\n",
    "  * `http://localhost:10011`\n",
    "\n",
    "<img src=\"https://data.atoti.io/notebooks/security/img/google-application-url.png\" width=\"70%\" />  \n"
   ]
  },
  {
   "cell_type": "markdown",
   "id": "f7ca04be-e779-407c-af28-3352599e2f61",
   "metadata": {},
   "source": [
    "## Setting up Atoti\n",
    "\n",
    "Now that the Google OIDC is configured, we need to set up Atoti to use the Google OIDC authentication.\n",
    "\n",
    "### Instantiate Atoti session\n",
    "\n",
    "It is important to set the port for the Atoti session as it needs to match the authorized redirect URIs for the OAuth 2.0 Client ID that we configured in Google Cloud.\n",
    "\n",
    "During the initial setup, it is also useful to configure the [Spring Security logging](https://www.baeldung.com/spring-security-enable-logging) to help in debugging any potential issues in the connectivity. As shown in the above code snippet, we can turn on logging with `logging.level.org.springframework.security` set to the `DEBUG` level using the `java_options`.\n",
    "\n",
    "Client IDs and secrets should be kept private. As suggested in the [documentation](https://docs.activeviam.com/products/atoti/python-sdk/0.9.6/guides/securing_a_session.html#Configuring-authentication), connection details can be read from environment variables for improved security.  "
   ]
  },
  {
   "cell_type": "code",
   "execution_count": 2,
   "id": "69fe16a1-25ab-4477-b656-817a3e435492",
   "metadata": {},
   "outputs": [],
   "source": [
    "authentication = tt.OidcConfig(\n",
    "    provider_id=\"google\",\n",
    "    issuer_url=\"https://accounts.google.com\",\n",
    "    client_id=os.environ[\"GOOGLE_CLIENT_ID\"],\n",
    "    client_secret=os.environ[\"GOOGLE_CLIENT_SECRET\"],\n",
    "    scopes={\"openid\", \"email\", \"profile\"},\n",
    "    name_claim=\"email\",\n",
    ")\n",
    "\n",
    "session = tt.Session.start(\n",
    "    tt.SessionConfig(\n",
    "        port=10011,\n",
    "        security=tt.SecurityConfig(sso=authentication),\n",
    "        user_content_storage=\"./content-03\",\n",
    "        java_options=[\"-Dlogging.level.org.springframework.security=DEBUG\"],\n",
    "    )\n",
    ")"
   ]
  },
  {
   "cell_type": "markdown",
   "id": "8bc66ece-588c-431f-b367-71f4cbae05df",
   "metadata": {
    "jp-MarkdownHeadingCollapsed": true,
    "tags": []
   },
   "source": [
    "Once the session is created, we can proceed with the usual data loading into Atoti table, cube and measures creation."
   ]
  },
  {
   "cell_type": "markdown",
   "id": "6ccc9aa6-ed5f-4640-b590-1e9855b835e1",
   "metadata": {
    "tags": []
   },
   "source": [
    "### Create table and load data"
   ]
  },
  {
   "cell_type": "markdown",
   "id": "26fcdd1e-8a69-45ac-9149-22a3faffb30b",
   "metadata": {},
   "source": [
    "Although we can use [create table](https://docs.activeviam.com/products/atoti/python-sdk/0.9.6/api/atoti.Session.create_table.html) and then subsequently load data into the table, we use [read_csv](https://docs.activeviam.com/products/atoti/python-sdk/0.9.6/api/atoti.Session.read_csv.html) in our example to create an Atoti table and load data into it in a single operation."
   ]
  },
  {
   "cell_type": "code",
   "execution_count": 3,
   "id": "901c9024-1c79-47c6-9ecf-71b16d1696e8",
   "metadata": {},
   "outputs": [
    {
     "data": {
      "text/html": [
       "<div>\n",
       "<style scoped>\n",
       "    .dataframe tbody tr th:only-of-type {\n",
       "        vertical-align: middle;\n",
       "    }\n",
       "\n",
       "    .dataframe tbody tr th {\n",
       "        vertical-align: top;\n",
       "    }\n",
       "\n",
       "    .dataframe thead th {\n",
       "        text-align: right;\n",
       "    }\n",
       "</style>\n",
       "<table border=\"1\" class=\"dataframe\">\n",
       "  <thead>\n",
       "    <tr style=\"text-align: right;\">\n",
       "      <th></th>\n",
       "      <th></th>\n",
       "      <th>name</th>\n",
       "    </tr>\n",
       "    <tr>\n",
       "      <th>parent_company</th>\n",
       "      <th>company</th>\n",
       "      <th></th>\n",
       "    </tr>\n",
       "  </thead>\n",
       "  <tbody>\n",
       "    <tr>\n",
       "      <th>Inspire Brands</th>\n",
       "      <th>arbys</th>\n",
       "      <td>Arby's</td>\n",
       "    </tr>\n",
       "    <tr>\n",
       "      <th>Culver Franchising System, LLC</th>\n",
       "      <th>culvers</th>\n",
       "      <td>Culver's</td>\n",
       "    </tr>\n",
       "    <tr>\n",
       "      <th>Papa Murphy's Holdings, Inc.</th>\n",
       "      <th>papa_murphys</th>\n",
       "      <td>Papa Murphy's</td>\n",
       "    </tr>\n",
       "    <tr>\n",
       "      <th>Tropical Smoothie Cafe, LLC</th>\n",
       "      <th>tropical_smoothie</th>\n",
       "      <td>Tropical Smoothie Café</td>\n",
       "    </tr>\n",
       "    <tr>\n",
       "      <th>Focus Brands</th>\n",
       "      <th>auntie_annes</th>\n",
       "      <td>Auntie Anne's</td>\n",
       "    </tr>\n",
       "  </tbody>\n",
       "</table>\n",
       "</div>"
      ],
      "text/plain": [
       "                                                                    name\n",
       "parent_company                 company                                  \n",
       "Inspire Brands                 arbys                              Arby's\n",
       "Culver Franchising System, LLC culvers                          Culver's\n",
       "Papa Murphy's Holdings, Inc.   papa_murphys                Papa Murphy's\n",
       "Tropical Smoothie Cafe, LLC    tropical_smoothie  Tropical Smoothie Café\n",
       "Focus Brands                   auntie_annes                Auntie Anne's"
      ]
     },
     "execution_count": 3,
     "metadata": {},
     "output_type": "execute_result"
    }
   ],
   "source": [
    "base_tbl = session.read_csv(\n",
    "    \"s3://data.atoti.io/notebooks/security/data/parent_co.csv\",\n",
    "    table_name=\"parent_co\",\n",
    "    keys=[\"company\", \"parent_company\"],\n",
    "    process_quotes=True,\n",
    ")\n",
    "base_tbl.head()"
   ]
  },
  {
   "cell_type": "code",
   "execution_count": 4,
   "id": "4f2982ed-4457-4d13-9f8a-532f24b32b96",
   "metadata": {},
   "outputs": [
    {
     "data": {
      "text/html": [
       "<div>\n",
       "<style scoped>\n",
       "    .dataframe tbody tr th:only-of-type {\n",
       "        vertical-align: middle;\n",
       "    }\n",
       "\n",
       "    .dataframe tbody tr th {\n",
       "        vertical-align: top;\n",
       "    }\n",
       "\n",
       "    .dataframe thead th {\n",
       "        text-align: right;\n",
       "    }\n",
       "</style>\n",
       "<table border=\"1\" class=\"dataframe\">\n",
       "  <thead>\n",
       "    <tr style=\"text-align: right;\">\n",
       "      <th></th>\n",
       "      <th>category</th>\n",
       "      <th>sales_in_millions_2019</th>\n",
       "      <th>sales_per_unit_thousands_2019</th>\n",
       "      <th>franchised_units_2019</th>\n",
       "      <th>company_owned_units_2019</th>\n",
       "      <th>total_units_2019</th>\n",
       "      <th>unit_change_from_2018</th>\n",
       "    </tr>\n",
       "    <tr>\n",
       "      <th>company</th>\n",
       "      <th></th>\n",
       "      <th></th>\n",
       "      <th></th>\n",
       "      <th></th>\n",
       "      <th></th>\n",
       "      <th></th>\n",
       "      <th></th>\n",
       "    </tr>\n",
       "  </thead>\n",
       "  <tbody>\n",
       "    <tr>\n",
       "      <th>kfc</th>\n",
       "      <td>chicken</td>\n",
       "      <td>4820</td>\n",
       "      <td>1196</td>\n",
       "      <td>4009</td>\n",
       "      <td>56</td>\n",
       "      <td>4065</td>\n",
       "      <td>-9</td>\n",
       "    </tr>\n",
       "    <tr>\n",
       "      <th>five_guys</th>\n",
       "      <td>burger</td>\n",
       "      <td>1662</td>\n",
       "      <td>1359</td>\n",
       "      <td>872</td>\n",
       "      <td>496</td>\n",
       "      <td>1368</td>\n",
       "      <td>10</td>\n",
       "    </tr>\n",
       "    <tr>\n",
       "      <th>moes</th>\n",
       "      <td>global</td>\n",
       "      <td>785</td>\n",
       "      <td>1095</td>\n",
       "      <td>719</td>\n",
       "      <td>3</td>\n",
       "      <td>722</td>\n",
       "      <td>3</td>\n",
       "    </tr>\n",
       "    <tr>\n",
       "      <th>sonic_drive_in</th>\n",
       "      <td>burger</td>\n",
       "      <td>4687</td>\n",
       "      <td>1320</td>\n",
       "      <td>3329</td>\n",
       "      <td>197</td>\n",
       "      <td>3526</td>\n",
       "      <td>-74</td>\n",
       "    </tr>\n",
       "    <tr>\n",
       "      <th>raising_canes</th>\n",
       "      <td>chicken</td>\n",
       "      <td>1466</td>\n",
       "      <td>3208</td>\n",
       "      <td>86</td>\n",
       "      <td>371</td>\n",
       "      <td>457</td>\n",
       "      <td>57</td>\n",
       "    </tr>\n",
       "  </tbody>\n",
       "</table>\n",
       "</div>"
      ],
      "text/plain": [
       "               category  sales_in_millions_2019  \\\n",
       "company                                           \n",
       "kfc             chicken                    4820   \n",
       "five_guys        burger                    1662   \n",
       "moes             global                     785   \n",
       "sonic_drive_in   burger                    4687   \n",
       "raising_canes   chicken                    1466   \n",
       "\n",
       "                sales_per_unit_thousands_2019  franchised_units_2019  \\\n",
       "company                                                                \n",
       "kfc                                      1196                   4009   \n",
       "five_guys                                1359                    872   \n",
       "moes                                     1095                    719   \n",
       "sonic_drive_in                           1320                   3329   \n",
       "raising_canes                            3208                     86   \n",
       "\n",
       "                company_owned_units_2019  total_units_2019  \\\n",
       "company                                                      \n",
       "kfc                                   56              4065   \n",
       "five_guys                            496              1368   \n",
       "moes                                   3               722   \n",
       "sonic_drive_in                       197              3526   \n",
       "raising_canes                        371               457   \n",
       "\n",
       "                unit_change_from_2018  \n",
       "company                                \n",
       "kfc                                -9  \n",
       "five_guys                          10  \n",
       "moes                                3  \n",
       "sonic_drive_in                    -74  \n",
       "raising_canes                      57  "
      ]
     },
     "execution_count": 4,
     "metadata": {},
     "output_type": "execute_result"
    }
   ],
   "source": [
    "enrichment_tbl = session.read_csv(\n",
    "    \"s3://data.atoti.io/notebooks/security/data/top_50_fast_food_US.csv\",\n",
    "    table_name=\"top_50\",\n",
    "    keys=[\"company\"],\n",
    ")\n",
    "enrichment_tbl.head()"
   ]
  },
  {
   "cell_type": "code",
   "execution_count": 5,
   "id": "d149c3fb-cfa7-4c2a-bcb5-8898b3405afa",
   "metadata": {},
   "outputs": [],
   "source": [
    "base_tbl.join(enrichment_tbl)"
   ]
  },
  {
   "cell_type": "markdown",
   "id": "6b1f2bdd-f0e5-40a1-bfd2-c3b9f07f386e",
   "metadata": {},
   "source": [
    "### Create cube"
   ]
  },
  {
   "cell_type": "code",
   "execution_count": 6,
   "id": "587ac1d9-3dcc-404a-8935-8fbddc551aef",
   "metadata": {},
   "outputs": [
    {
     "data": {
      "image/png": "[encoded data removed]",
      "text/plain": [
       "erDiagram\n",
       "  \"parent_co\" {\n",
       "    non-null String PK \"parent_company\"\n",
       "    non-null String PK \"company\"\n",
       "    non-null String \"name\"\n",
       "  }\n",
       "  \"top_50\" {\n",
       "    non-null String PK \"company\"\n",
       "    non-null String \"category\"\n",
       "    nullable int \"sales_in_millions_2019\"\n",
       "    nullable int \"sales_per_unit_thousands_2019\"\n",
       "    nullable int \"franchised_units_2019\"\n",
       "    nullable int \"company_owned_units_2019\"\n",
       "    nullable int \"total_units_2019\"\n",
       "    nullable int \"unit_change_from_2018\"\n",
       "  }\n",
       "  \"parent_co\" }o--o| \"top_50\" : \"company == company\""
      ]
     },
     "execution_count": 6,
     "metadata": {},
     "output_type": "execute_result"
    }
   ],
   "source": [
    "cube = session.create_cube(base_tbl, \"Fast food analysis\")\n",
    "session.tables.schema"
   ]
  },
  {
   "cell_type": "markdown",
   "id": "370db4b9-3888-472a-b0dd-4e64bc4385bb",
   "metadata": {},
   "source": [
    "### Create measures"
   ]
  },
  {
   "cell_type": "code",
   "execution_count": 7,
   "id": "ab1ec912-7b8f-430b-95fe-33f4f50b38f3",
   "metadata": {},
   "outputs": [],
   "source": [
    "h, l, m = cube.hierarchies, cube.levels, cube.measures"
   ]
  },
  {
   "cell_type": "code",
   "execution_count": 8,
   "id": "27cdf35f-30ba-45f5-8056-d8bcb9866e8f",
   "metadata": {},
   "outputs": [],
   "source": [
    "m[\"sales_in_millions\"] = tt.agg.sum(enrichment_tbl[\"sales_in_millions_2019\"])\n",
    "m[\"sales_per_unit_thousands\"] = tt.agg.sum(\n",
    "    enrichment_tbl[\"sales_per_unit_thousands_2019\"]\n",
    ")\n",
    "m[\"franchised_units\"] = tt.agg.sum(enrichment_tbl[\"franchised_units_2019\"])\n",
    "m[\"company_owned_units\"] = tt.agg.sum(enrichment_tbl[\"company_owned_units_2019\"])\n",
    "m[\"total_units\"] = tt.agg.sum(enrichment_tbl[\"total_units_2019\"])\n",
    "m[\"unit_change_from_2018\"] = tt.agg.sum(enrichment_tbl[\"unit_change_from_2018\"])\n",
    "m[\"% franchised\"] = m[\"franchised_units\"] / m[\"total_units\"]\n",
    "m[\"% franchised\"].formatter = \"DOUBLE[0.00%]\""
   ]
  },
  {
   "cell_type": "markdown",
   "id": "f801483d-d7ce-499d-8f8e-d75a7e782015",
   "metadata": {},
   "source": [
    "## Managing roles in Atoti"
   ]
  },
  {
   "cell_type": "markdown",
   "id": "b1e05d2f-faa8-48d9-84f5-1111ca59a874",
   "metadata": {},
   "source": [
    "Let's create some constants for the user IDs of the users we will be creating.  "
   ]
  },
  {
   "cell_type": "code",
   "execution_count": 9,
   "id": "1756775f-6ff3-47ad-be3a-1b9fcf3b07d0",
   "metadata": {
    "tags": []
   },
   "outputs": [],
   "source": [
    "ADMIN_USER = \"atoti_admin\"\n",
    "ATOTI_USER = \"atoti_user\"\n",
    "INSPIRE_USER1 = \"Inspire_user1\"\n",
    "INSPIRE_USER2 = \"Inspire_user2\"\n",
    "INSPIRE_MANAGER = \"Inspire_manager\"\n",
    "RESTAURANT_USER1 = \"Restaurant_user1\"\n",
    "RESTAURANT_USER2 = \"Restaurant_user2\"\n",
    "RESTAURANT_MANAGER = \"Restaurant_manager\""
   ]
  },
  {
   "cell_type": "markdown",
   "id": "4725ddc5-047f-4afd-b9ab-fedb017324ff",
   "metadata": {},
   "source": [
    "### Atoti reserved roles  \n",
    "\n",
    "The below roles are reserved in Atoti and should not be altered by users:\n",
    "\n",
    "* `ROLE_ADMIN`: Able to access all objects in the web application.\n",
    "* `ROLE_USER`: Able to access all data by default. Access to objects such as dashboards, folders, widgets, etc. is enabled only if sharing access is granted to the role.\n",
    "\n",
    "💡 **Note:** All users, including the administrator, require the role `ROLE_USER` to be able to access the Atoti UI.\n",
    "\n",
    "Let's assume the following users have been granted the following roles:\n",
    "\n",
    "* *atoti_admin*: `ROLE_ADMIN`, `ROLE_USER`\n",
    "* *atoti_user*: `ROLE_USER`\n",
    "\n",
    "While both *atoti_admin* and *atoti_user* are able to access all data, *atoti\\_admin* is able to access all objects such as folders and dashboards. The *atoti\\_user* is only able to access the objects created by the user specifically. Objects created by other users can only be accessed upon granting shared access."
   ]
  },
  {
   "cell_type": "markdown",
   "id": "5ef63899-3e7b-49a8-a017-b7f21b34eb3c",
   "metadata": {},
   "source": [
    "#### Share role configuration \n",
    "\n",
    "Before Atoti version `0.8.0`, we assigned the role `ROLE_SHARE` to users in order to be able to let them share objects such as dashboards, folders, widgets and filters.  \n",
    "\n",
    "💡 **Note:** Both *atoti_admin* and *atoti_user* will not be able to share objects (via the \"Share\" icon as shown below) unless granted the role `ROLE_SHARE`.  \n",
    "\n",
    "<img src=\"https://data.atoti.io/notebooks/security/img/share_function.png\" width=\"50%\"/>  \n",
    "\n",
    "From Atoti version `0.8.0` and onwards, the role `ROLE_SHARE` is removed. Instead, users with the role `ROLE_USER` will have the ability to perform sharing by default.  \n",
    "\n",
    "<img src=\"https://data.atoti.io/notebooks/security/img/admin_share.png\" width=\"50%\"/>\n"
   ]
  },
  {
   "cell_type": "markdown",
   "id": "f38c167f-7170-45bf-a62a-fddae580d496",
   "metadata": {
    "tags": []
   },
   "source": [
    "We can configure the sharing permission from the Atoti Admin UI which is accessible from the link below. To do this, we login with a user that has the role `ROLE_ADMIN` assigned."
   ]
  },
  {
   "cell_type": "code",
   "execution_count": 10,
   "id": "b3408fca-0e13-49bc-a860-40257f4dbc15",
   "metadata": {
    "tags": []
   },
   "outputs": [
    {
     "data": {
      "application/vnd.atoti.link.v0+json": {
       "path": "admin",
       "sessionUrl": "http://localhost:10011"
      },
      "text/plain": [
       "http://localhost:10011/admin"
      ]
     },
     "execution_count": 10,
     "metadata": {},
     "output_type": "execute_result"
    }
   ],
   "source": [
    "session.link / \"admin\""
   ]
  },
  {
   "cell_type": "markdown",
   "id": "75563036-0235-448b-b1ad-4b2e577b4a57",
   "metadata": {},
   "source": [
    "#### Create technical users"
   ]
  },
  {
   "cell_type": "markdown",
   "id": "9ce80b11-6c24-44a8-a56a-69c51b7be004",
   "metadata": {},
   "source": [
    "In case we want to limit the users who has the ability to perform sharing, we can either update the `canShare` permission for `ROLE_USER` to `false` from the Admin UI or we can use the REST API service to do so.  \n",
    "\n",
    "Let's create a technical user (also called service account) for updating the backend. Atoti automatically enables Basic Authentication on the session even though we are using the OIDC authentication mechanism."
   ]
  },
  {
   "cell_type": "code",
   "execution_count": 11,
   "id": "2b8eadb3-218c-4fa5-aede-57b23618cc01",
   "metadata": {
    "tags": []
   },
   "outputs": [],
   "source": [
    "technical_user_name = \"ATOTI_TECH_ADMIN\"\n",
    "technical_user_password = \"password\"\n",
    "\n",
    "technical_user = session.security.basic_authentication.credentials[\n",
    "    technical_user_name\n",
    "] = technical_user_password\n",
    "session.security.individual_roles[technical_user_name] = {\"ROLE_USER\", \"ROLE_ADMIN\"}"
   ]
  },
  {
   "cell_type": "code",
   "execution_count": 12,
   "id": "cf832d56-3393-4730-9cf2-138670abf229",
   "metadata": {
    "tags": []
   },
   "outputs": [],
   "source": [
    "url = session.url\n",
    "port = urlparse(url).port\n",
    "\n",
    "response = requests.put(\n",
    "    f\"http://localhost:{port}/activeviam/content/rest/v7/files?path=ui/user_roles/ROLE_USER/permissions\",\n",
    "    auth=(technical_user_name, technical_user_password),\n",
    "    json={\n",
    "        \"content\": '{\"canShare\": false}',\n",
    "        \"owners\": [\"atoti_admin\"],\n",
    "        \"readers\": [\"ROLE_USER\"],\n",
    "        \"overwrite\": True,\n",
    "        \"recursive\": True,\n",
    "    },\n",
    ")"
   ]
  },
  {
   "cell_type": "markdown",
   "id": "a5941ea9-eca3-4047-89b5-a7041d78af24",
   "metadata": {},
   "source": [
    "In the event we want to control the sharing rights using roles from Authentication providers, we can create the intended role in the Admin UI. For instance, suppose the role that is supposed to have sharing permission is call `ROLE_SHARE`, we can run the below request to create the role with `canShare` set to `true`.  "
   ]
  },
  {
   "cell_type": "code",
   "execution_count": 13,
   "id": "30c812e4-4305-4050-a4d7-6edb3c9a707e",
   "metadata": {
    "tags": []
   },
   "outputs": [
    {
     "name": "stdout",
     "output_type": "stream",
     "text": [
      "<Response [200]>\n"
     ]
    }
   ],
   "source": [
    "response = requests.put(\n",
    "    f\"http://localhost:{port}/activeviam/content/rest/v7/files?path=ui/user_roles/ROLE_SHARE/permissions\",\n",
    "    auth=(technical_user_name, technical_user_password),\n",
    "    json={\n",
    "        \"content\": '{\"canShare\": true}',\n",
    "        \"owners\": [technical_user_name],\n",
    "        \"readers\": [\"ROLE_USER\"],\n",
    "        \"overwrite\": True,\n",
    "        \"recursive\": True,\n",
    "    },\n",
    ")\n",
    "print(response)"
   ]
  },
  {
   "cell_type": "markdown",
   "id": "eee34f2e-5584-4774-8b18-11f1d7ebb883",
   "metadata": {},
   "source": [
    "Below is what we see in the Admin server:  \n",
    "\n",
    "<img src=\"https://data.atoti.io/notebooks/security/img/role_share_permission.png\" />  \n",
    "\n",
    "Now, any users who are assigned the role `ROLE_SHARE` in Atoti will have the ability to perform sharing. We will see later on how we can map the roles from Auth0 to the roles in Atoti.  "
   ]
  },
  {
   "cell_type": "markdown",
   "id": "d87fd893-d6c6-4e2d-ac1a-b5caeebfb71e",
   "metadata": {},
   "source": [
    "### Role creation with restrictions  "
   ]
  },
  {
   "cell_type": "markdown",
   "id": "2903c07c-c4c5-4235-8b1f-68a0e7c3072c",
   "metadata": {},
   "source": [
    "Data restriction is based on users' requirements. In our use case, we assumed two groups of users with data access limited to those of their parent company:\n",
    "\n",
    "* Users belonging to parent company `Inspire Brands`\n",
    "* Users belonging to parent company `Restaurant Brands International Inc.`\n",
    "\n",
    "Therefore, we will create two roles to apply the restrictions based on the `parent_company` column from the `parent_co` table. We will define a key that is a tuple, consisting of the name of the table and its column, along with the restricted values imposed on it. \n",
    "\n",
    "💡 **Note:**  \n",
    "* We can skip role creation if there are no restrictions imposed on the role. \n",
    "* The value provided under the restrictions is cap-sensitive."
   ]
  },
  {
   "cell_type": "code",
   "execution_count": 14,
   "id": "81cd36c0-b3d2-4be8-b4ca-bc33499a90b1",
   "metadata": {},
   "outputs": [],
   "source": [
    "ROLE_INSPIRE = \"ATOTI_ROLE_INSPIRE\"\n",
    "ROLE_RESTAURANT = \"ATOTI_ROLE_RESTAURANT\"\n",
    "\n",
    "session.tables.restrictions.update(\n",
    "    {\n",
    "        ROLE_INSPIRE: (base_tbl[\"parent_company\"] == \"Inspire Brands\"),\n",
    "        ROLE_RESTAURANT: (\n",
    "            base_tbl[\"parent_company\"] == \"Restaurant Brands International Inc.\"\n",
    "        ),\n",
    "    }\n",
    ")"
   ]
  },
  {
   "cell_type": "markdown",
   "id": "7a7032fd-d90f-4aba-9c0e-0725a4e895f2",
   "metadata": {},
   "source": [
    "#### Restrict access using a combination of roles\n",
    "\n",
    "Multiple roles can be assigned to the same user. To demonstrate how the access will change when this happens, we create some other roles that restrict data access by the restaurant category, i.e. column `category` from the table `top_50`."
   ]
  },
  {
   "cell_type": "code",
   "execution_count": 15,
   "id": "eef801e2-2a22-4a22-b1e1-209945aeb09d",
   "metadata": {},
   "outputs": [],
   "source": [
    "ROLE_BURGER = \"ATOTI_ROLE_BURGER\"\n",
    "ROLE_SANDWICH = \"ATOTI_ROLE_SANDWICH\"\n",
    "ROLE_SNACK = \"ATOTI_ROLE_SNACK\"\n",
    "\n",
    "session.tables.restrictions.update(\n",
    "    {\n",
    "        ROLE_BURGER: enrichment_tbl[\"category\"] == \"burger\",\n",
    "        ROLE_SANDWICH: enrichment_tbl[\"category\"] == \"sandwich\",\n",
    "        ROLE_SNACK: enrichment_tbl[\"category\"] == \"snack\",\n",
    "    }\n",
    ")"
   ]
  },
  {
   "cell_type": "markdown",
   "id": "1b275507-33bd-494f-a2c9-d7b66aea6908",
   "metadata": {},
   "source": [
    "When combined with the restricted role on the `parent_company`, users' access will be further restricted based on the restriction of the added role.  \n",
    "\n",
    "For instance, users who are assigned the role `ATOTI_ROLE_BURGER` will be able to access all of the data under `burger` category restaurants, regardless of the parent companies. However, when the same user is also granted the role `ATOTI_ROLE_INSPIRE`, then the user can only access data of restaurants under parent company `Inspire Brands` that is of category `burger`. "
   ]
  },
  {
   "cell_type": "markdown",
   "id": "21863f1f-c442-4845-8cde-5500445ecb4b",
   "metadata": {},
   "source": [
    "### Role assignment in Atoti  \n",
    "\n",
    "Roles are created and assigned to the users in Atoti and they can be granted without having to restart the application."
   ]
  },
  {
   "cell_type": "markdown",
   "id": "fc810231-4ede-466f-a0d9-923c3784c740",
   "metadata": {},
   "source": [
    "#### Assign default roles to authenticated users"
   ]
  },
  {
   "cell_type": "markdown",
   "id": "bb9ffb06-86f1-40a3-af6f-361d75158e61",
   "metadata": {},
   "source": [
    "We can default the roles such as `ROLE_SHARE` for all users who logged in successfully. We want to prevent unwanted access by people outside of the organization. Therefore, this should only be done when the user type for the app registered under the *OAuth consent screen* is `Internal`. Otherwise, it is better to grant `ROLE_USER` individually to the rightful users in the next step.\n",
    "\n",
    "💡 **Note:** BE CAREFUL when granting `ROLE_USER` to users by default as users with this role will be able to access the application and the available data.  "
   ]
  },
  {
   "cell_type": "code",
   "execution_count": 16,
   "id": "ac50f14d-757e-40eb-b7e9-f22dbe60d654",
   "metadata": {},
   "outputs": [],
   "source": [
    "session.security.oidc.default_roles.update([\"ROLE_SHARE\"])"
   ]
  },
  {
   "cell_type": "markdown",
   "id": "05c2c9c7-0dd3-4ec4-ad7b-436be9dfb4ec",
   "metadata": {},
   "source": [
    "#### Grant roles to users authenticated through Google credential"
   ]
  },
  {
   "cell_type": "markdown",
   "id": "b518577e-e1dd-44c3-b89e-8fc064d00227",
   "metadata": {},
   "source": [
    "Instead of mapping the roles from the Authentication Provider as in the case of Auth0, we use the user's email address to map to the assigned Atoti roles."
   ]
  },
  {
   "cell_type": "code",
   "execution_count": 17,
   "id": "684d9fbd-377e-41ab-b697-5554c3534db7",
   "metadata": {},
   "outputs": [],
   "source": [
    "ROLE_USER = \"ROLE_USER\"\n",
    "\n",
    "session.security.oidc.role_mapping.update(\n",
    "    {\n",
    "        # Google user id: [Atoti roles]\n",
    "        \"inspire_m@test.com\": [ROLE_USER, ROLE_INSPIRE],\n",
    "        \"inspire_user1@test.com\": [ROLE_USER, ROLE_INSPIRE, ROLE_BURGER],\n",
    "        \"inspire_user2@test.com\": [\n",
    "            ROLE_USER,\n",
    "            ROLE_INSPIRE,\n",
    "            ROLE_SANDWICH,\n",
    "            ROLE_SNACK,\n",
    "        ],\n",
    "        \"restaurant_m@test.com\": [ROLE_USER, ROLE_RESTAURANT],\n",
    "        \"restaurant_user1@test.com\": [\n",
    "            ROLE_USER,\n",
    "            ROLE_RESTAURANT,\n",
    "            ROLE_BURGER,\n",
    "        ],\n",
    "        \"restaurant_user2@test.com\": [\n",
    "            ROLE_USER,\n",
    "            ROLE_RESTAURANT,\n",
    "            ROLE_SANDWICH,\n",
    "            ROLE_SNACK,\n",
    "        ],\n",
    "    }\n",
    ")"
   ]
  },
  {
   "cell_type": "markdown",
   "id": "f7e262fe-4a45-4533-a999-822fb8fa6f7b",
   "metadata": {},
   "source": [
    "## Testing authentication and authorization"
   ]
  },
  {
   "cell_type": "markdown",
   "id": "56c9b807-5057-4503-8f57-9902b8998016",
   "metadata": {},
   "source": [
    "Try out any of these users:\n",
    "\n",
    "💡 **Note:** We recommend navigating to the Atoti UI in incognito mode so that switching between Google users is more seamless.\n",
    "\n",
    "* Administrator\n",
    "  * *atoti_admin*\n",
    "* Generic user\n",
    "  * *atoti_user*\n",
    "* Inspire Brands users\n",
    "  * *Inspire_user1* (Access for restaurants of category Burger only)\n",
    "  * *Inspire_user2* (Access for restaurants of category Sandwich and Snack only)\n",
    "  * *Inspire_manager*\n",
    "* Restaurant Brands International LLC users\n",
    "  * *Restaurant_user1* (Access for restaurants of category Burger only)\n",
    "  * *Restaurant_user2* (Access for restaurants of category Sandwich and Snack only)\n",
    "  * *Restaurant_manager*"
   ]
  },
  {
   "cell_type": "code",
   "execution_count": 18,
   "id": "fbc19c1b-7f9e-4384-b468-c997364ff93f",
   "metadata": {},
   "outputs": [
    {
     "data": {
      "application/vnd.atoti.link.v0+json": {
       "path": "",
       "sessionUrl": "http://localhost:10011"
      },
      "text/plain": [
       "http://localhost:10011"
      ]
     },
     "execution_count": 18,
     "metadata": {},
     "output_type": "execute_result"
    }
   ],
   "source": [
    "session.link"
   ]
  },
  {
   "cell_type": "markdown",
   "id": "67703454-cbea-4218-93c3-47f93e353782",
   "metadata": {},
   "source": [
    "<div style=\"text-align: center;\" ><a href=\"https://www.atoti.io/?utm_source=gallery&utm_content=oidc-google\" target=\"_blank\" rel=\"noopener noreferrer\"><img src=\"https://data.atoti.io/notebooks/banners/Your-turn-to-try-Atoti.jpg\" alt=\"Try Atoti\"></a></div>"
   ]
  }
 ],
 "metadata": {
  "kernelspec": {
   "display_name": "Python 3 (ipykernel)",
   "language": "python",
   "name": "python3"
  },
  "language_info": {
   "codemirror_mode": {
    "name": "ipython",
    "version": 3
   },
   "file_extension": ".py",
   "mimetype": "text/x-python",
   "name": "python",
   "nbconvert_exporter": "python",
   "pygments_lexer": "ipython3",
   "version": "3.11.10"
  },
  "widgets": {
   "application/vnd.jupyter.widget-state+json": {
    "state": {},
    "version_major": 2,
    "version_minor": 0
   }
  }
 },
 "nbformat": 4,
 "nbformat_minor": 5
}
