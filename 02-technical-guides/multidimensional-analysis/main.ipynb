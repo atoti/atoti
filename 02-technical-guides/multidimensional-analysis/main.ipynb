{
 "cells": [
  {
   "cell_type": "markdown",
   "id": "f3572592-7139-4cb5-82ec-eb5afefa929f",
   "metadata": {
    "editable": true,
    "slideshow": {
     "slide_type": ""
    },
    "tags": []
   },
   "source": [
    "# Multidimensional Analysis\n",
    "\n",
    "In this notebook, we'll be show you how to perform multidimensional analysis, allowing users to observe data from different viewpoints."
   ]
  },
  {
   "cell_type": "markdown",
   "id": "3aba2356-25d6-4bde-9ef2-49f4f049afb8",
   "metadata": {},
   "source": [
    "<div style=\"text-align: center;\"><img src=\"https://data.atoti.io/notebooks/multidimension/img/cube-slice-dice.png\"></div>"
   ]
  },
  {
   "cell_type": "markdown",
   "id": "430ae29e-d1cd-4dce-83bf-f6664082ecbe",
   "metadata": {},
   "source": [
    "<div style=\"text-align:center\"><a href=\"https://www.atoti.io/?utm_source=gallery&utm_content=multidimensional-analysis\" target=\"_blank\" rel=\"noopener noreferrer\"><img src=\"https://data.atoti.io/notebooks/banners/Discover-Atoti-now.png\" alt=\"atoti table\" /></a></div>"
   ]
  },
  {
   "cell_type": "code",
   "execution_count": 1,
   "id": "43850b85-2acc-445c-aa89-9b2939a0e6a8",
   "metadata": {},
   "outputs": [],
   "source": [
    "import pandas as pd\n",
    "import atoti as tt"
   ]
  },
  {
   "cell_type": "code",
   "execution_count": 2,
   "id": "47c0734a-58bd-4487-922e-a0775c61517d",
   "metadata": {},
   "outputs": [],
   "source": [
    "session = tt.Session()"
   ]
  },
  {
   "cell_type": "code",
   "execution_count": 3,
   "id": "dbb89caf-5375-40ff-9766-2dad75c67017",
   "metadata": {},
   "outputs": [
    {
     "data": {
      "text/html": [
       "<div>\n",
       "<style scoped>\n",
       "    .dataframe tbody tr th:only-of-type {\n",
       "        vertical-align: middle;\n",
       "    }\n",
       "\n",
       "    .dataframe tbody tr th {\n",
       "        vertical-align: top;\n",
       "    }\n",
       "\n",
       "    .dataframe thead th {\n",
       "        text-align: right;\n",
       "    }\n",
       "</style>\n",
       "<table border=\"1\" class=\"dataframe\">\n",
       "  <thead>\n",
       "    <tr style=\"text-align: right;\">\n",
       "      <th></th>\n",
       "      <th>Sale ID</th>\n",
       "      <th>Date</th>\n",
       "      <th>Shop</th>\n",
       "      <th>Product</th>\n",
       "      <th>Quantity</th>\n",
       "      <th>Unit price</th>\n",
       "    </tr>\n",
       "  </thead>\n",
       "  <tbody>\n",
       "    <tr>\n",
       "      <th>0</th>\n",
       "      <td>S000003722</td>\n",
       "      <td>2021-02-02</td>\n",
       "      <td>shop_2</td>\n",
       "      <td>TAB_1</td>\n",
       "      <td>3</td>\n",
       "      <td>300.0</td>\n",
       "    </tr>\n",
       "    <tr>\n",
       "      <th>1</th>\n",
       "      <td>S000001370</td>\n",
       "      <td>2021-01-15</td>\n",
       "      <td>shop_10</td>\n",
       "      <td>TSH_28</td>\n",
       "      <td>1</td>\n",
       "      <td>20.0</td>\n",
       "    </tr>\n",
       "    <tr>\n",
       "      <th>2</th>\n",
       "      <td>S000001550</td>\n",
       "      <td>2021-01-15</td>\n",
       "      <td>shop_30</td>\n",
       "      <td>BED_25</td>\n",
       "      <td>1</td>\n",
       "      <td>300.0</td>\n",
       "    </tr>\n",
       "    <tr>\n",
       "      <th>3</th>\n",
       "      <td>S000001610</td>\n",
       "      <td>2021-01-15</td>\n",
       "      <td>shop_10</td>\n",
       "      <td>BED_24</td>\n",
       "      <td>4</td>\n",
       "      <td>150.0</td>\n",
       "    </tr>\n",
       "    <tr>\n",
       "      <th>4</th>\n",
       "      <td>S000003251</td>\n",
       "      <td>2021-01-24</td>\n",
       "      <td>shop_11</td>\n",
       "      <td>SHO_18</td>\n",
       "      <td>1</td>\n",
       "      <td>60.0</td>\n",
       "    </tr>\n",
       "  </tbody>\n",
       "</table>\n",
       "</div>"
      ],
      "text/plain": [
       "      Sale ID       Date     Shop Product  Quantity  Unit price\n",
       "0  S000003722 2021-02-02   shop_2   TAB_1         3       300.0\n",
       "1  S000001370 2021-01-15  shop_10  TSH_28         1        20.0\n",
       "2  S000001550 2021-01-15  shop_30  BED_25         1       300.0\n",
       "3  S000001610 2021-01-15  shop_10  BED_24         4       150.0\n",
       "4  S000003251 2021-01-24  shop_11  SHO_18         1        60.0"
      ]
     },
     "execution_count": 3,
     "metadata": {},
     "output_type": "execute_result"
    }
   ],
   "source": [
    "sales = session.read_csv(\n",
    "    \"s3://data.atoti.io/notebooks/multidimension/sales.csv\",\n",
    "    types={\"Unit price\": tt.type.DOUBLE},\n",
    ")\n",
    "sales.head()"
   ]
  },
  {
   "cell_type": "code",
   "execution_count": 4,
   "id": "efb6008d-b7fa-4980-a42c-e230e2d9ab4f",
   "metadata": {},
   "outputs": [],
   "source": [
    "cube = session.create_cube(sales, \"sales cube\")"
   ]
  },
  {
   "cell_type": "markdown",
   "id": "e043c008-f810-4495-bf7c-594696e68b66",
   "metadata": {},
   "source": [
    "# Data are group into two categories - Data dimensions and measurements"
   ]
  },
  {
   "cell_type": "code",
   "execution_count": 5,
   "id": "6b740eea-1e79-40bb-9076-eeb9fa82bfbc",
   "metadata": {},
   "outputs": [
    {
     "data": {
      "application/json": {
       "Dimensions": {
        "Sales": {
         "Date": [
          "Date"
         ],
         "Product": [
          "Product"
         ],
         "Sale ID": [
          "Sale ID"
         ],
         "Shop": [
          "Shop"
         ]
        }
       },
       "Measures": {
        "Quantity.MEAN": {
         "formatter": "DOUBLE[#,###.00]"
        },
        "Quantity.SUM": {
         "formatter": "INT[#,###]"
        },
        "Unit price.MEAN": {
         "formatter": "DOUBLE[#,###.00]"
        },
        "Unit price.SUM": {
         "formatter": "DOUBLE[#,###.00]"
        },
        "contributors.COUNT": {
         "formatter": "INT[#,###]"
        }
       }
      },
      "text/html": [
       "<ul>\n",
       "<li>sales cube\n",
       "  <ul>\n",
       "  <li>Dimensions\n",
       "    <ul>\n",
       "    <li>Sales\n",
       "      <ul>\n",
       "      <li>Date\n",
       "        <ol>\n",
       "        <li>Date</li>\n",
       "        </ol>      </li>\n",
       "      <li>Product\n",
       "        <ol>\n",
       "        <li>Product</li>\n",
       "        </ol>      </li>\n",
       "      <li>Sale ID\n",
       "        <ol>\n",
       "        <li>Sale ID</li>\n",
       "        </ol>      </li>\n",
       "      <li>Shop\n",
       "        <ol>\n",
       "        <li>Shop</li>\n",
       "        </ol>      </li>\n",
       "      </ul>\n",
       "    </li>\n",
       "    </ul>\n",
       "  </li>\n",
       "  <li>Measures\n",
       "    <ul>\n",
       "    <li>Quantity.MEAN\n",
       "      <ul>\n",
       "      <li>formatter: DOUBLE[#,###.00]</li>\n",
       "      </ul>\n",
       "    </li>\n",
       "    <li>Quantity.SUM\n",
       "      <ul>\n",
       "      <li>formatter: INT[#,###]</li>\n",
       "      </ul>\n",
       "    </li>\n",
       "    <li>Unit price.MEAN\n",
       "      <ul>\n",
       "      <li>formatter: DOUBLE[#,###.00]</li>\n",
       "      </ul>\n",
       "    </li>\n",
       "    <li>Unit price.SUM\n",
       "      <ul>\n",
       "      <li>formatter: DOUBLE[#,###.00]</li>\n",
       "      </ul>\n",
       "    </li>\n",
       "    <li>contributors.COUNT\n",
       "      <ul>\n",
       "      <li>formatter: INT[#,###]</li>\n",
       "      </ul>\n",
       "    </li>\n",
       "    </ul>\n",
       "  </li>\n",
       "  </ul>\n",
       "</li>\n",
       "</ul>\n"
      ],
      "text/plain": [
       "<atoti.cube.Cube at 0x131fe5650>"
      ]
     },
     "execution_count": 5,
     "metadata": {
      "application/json": {
       "expanded": false,
       "root": "sales cube"
      }
     },
     "output_type": "execute_result"
    }
   ],
   "source": [
    "cube"
   ]
  },
  {
   "cell_type": "markdown",
   "id": "7e1ca805-b5d6-48df-95ff-9228f7146d4b",
   "metadata": {},
   "source": [
    "<img alt=\"Multidimensional cube concept\" src=\"https://data.atoti.io/notebooks/multidimension/img/cube-concept.svg\" width=\"400\" />\n",
    "\n",
    "The axes of the cube are called _hierarchies_."
   ]
  },
  {
   "cell_type": "code",
   "execution_count": 6,
   "id": "e44629ea-118e-4977-90da-7713a72bb9d4",
   "metadata": {
    "atoti": {
     "widget": {
      "filters": [
       "[Sales].[Product].[AllMember].[BED_24]"
      ],
      "mapping": {
       "columns": [
        "[Sales].[Product].[Product]",
        "ALL_MEASURES"
       ],
       "measures": [
        "[Measures].[Quantity.SUM]",
        "[Measures].[Unit price.SUM]"
       ],
       "rows": [
        "[Sales].[Shop].[Shop] => [Sales].[Date].[Date]"
       ]
      },
      "name": "Viewing data from different view points",
      "query": {
       "mdx": "SELECT NON EMPTY Crossjoin(Hierarchize(Descendants({[Sales].[Product].[AllMember]}, 1, SELF_AND_BEFORE)), {[Measures].[Quantity.SUM], [Measures].[Unit price.SUM]}) ON COLUMNS, NON EMPTY Hierarchize(Union(Crossjoin(Descendants({[Sales].[Shop].[AllMember]}, 1, SELF_AND_BEFORE), [Sales].[Date].DefaultMember), Crossjoin([Sales].[Shop].[AllMember].[shop_0], Hierarchize(Descendants({[Sales].[Date].[AllMember]}, 1, SELF_AND_BEFORE))), Crossjoin([Sales].[Shop].[AllMember].[shop_1], Hierarchize(Descendants({[Sales].[Date].[AllMember]}, 1, SELF_AND_BEFORE))))) ON ROWS FROM [sales cube] CELL PROPERTIES VALUE, FORMATTED_VALUE, BACK_COLOR, FORE_COLOR, FONT_FLAGS",
       "updateMode": "once"
      },
      "serverKey": "default",
      "widgetKey": "pivot-table"
     }
    },
    "tags": []
   },
   "outputs": [
    {
     "data": {
      "application/vnd.atoti.widget.v0+json": {
       "sessionId": "1715105927_IB7NMJ",
       "sessionLocation": {
        "https": false,
        "port": 55159
       },
       "widgetCreationCode": "session.widget"
      },
      "text/html": [
       "<img height=\"0\" width=\"0\" src=\"data:,AAAAAAAAAAAAAAAAAAAAAAAAAAAAAAAAAAAAAAAAAAAAAAAACXBIWXMAABqTAAAakwH55E62\" />"
      ],
      "text/plain": [
       "Open the notebook in JupyterLab with the Atoti JupyterLab extension enabled to build this widget."
      ]
     },
     "metadata": {},
     "output_type": "display_data"
    }
   ],
   "source": [
    "session.widget"
   ]
  },
  {
   "cell_type": "markdown",
   "id": "760a5bbe-c253-4a29-88df-6e2dcd6f0f31",
   "metadata": {
    "tags": []
   },
   "source": [
    "# Capable of integrating multiple data sources "
   ]
  },
  {
   "cell_type": "code",
   "execution_count": 7,
   "id": "865ba8eb-97ca-4bdc-8a24-ba0cc479e20c",
   "metadata": {},
   "outputs": [
    {
     "data": {
      "text/html": [
       "<div>\n",
       "<style scoped>\n",
       "    .dataframe tbody tr th:only-of-type {\n",
       "        vertical-align: middle;\n",
       "    }\n",
       "\n",
       "    .dataframe tbody tr th {\n",
       "        vertical-align: top;\n",
       "    }\n",
       "\n",
       "    .dataframe thead th {\n",
       "        text-align: right;\n",
       "    }\n",
       "</style>\n",
       "<table border=\"1\" class=\"dataframe\">\n",
       "  <thead>\n",
       "    <tr style=\"text-align: right;\">\n",
       "      <th></th>\n",
       "      <th>Category</th>\n",
       "      <th>Sub category</th>\n",
       "      <th>Size</th>\n",
       "      <th>Purchase price</th>\n",
       "      <th>Color</th>\n",
       "      <th>Brand</th>\n",
       "    </tr>\n",
       "    <tr>\n",
       "      <th>Product</th>\n",
       "      <th></th>\n",
       "      <th></th>\n",
       "      <th></th>\n",
       "      <th></th>\n",
       "      <th></th>\n",
       "      <th></th>\n",
       "    </tr>\n",
       "  </thead>\n",
       "  <tbody>\n",
       "    <tr>\n",
       "      <th>TSH_8</th>\n",
       "      <td>Cloth</td>\n",
       "      <td>Tshirt</td>\n",
       "      <td>S</td>\n",
       "      <td>18.0</td>\n",
       "      <td>red</td>\n",
       "      <td>Basic</td>\n",
       "    </tr>\n",
       "    <tr>\n",
       "      <th>SHO_18</th>\n",
       "      <td>Cloth</td>\n",
       "      <td>Shoes</td>\n",
       "      <td>10</td>\n",
       "      <td>46.0</td>\n",
       "      <td>red</td>\n",
       "      <td>Over</td>\n",
       "    </tr>\n",
       "    <tr>\n",
       "      <th>TSH_28</th>\n",
       "      <td>Cloth</td>\n",
       "      <td>Tshirt</td>\n",
       "      <td>XS</td>\n",
       "      <td>17.0</td>\n",
       "      <td>red</td>\n",
       "      <td>Basic</td>\n",
       "    </tr>\n",
       "    <tr>\n",
       "      <th>SHO_38</th>\n",
       "      <td>Cloth</td>\n",
       "      <td>Shoes</td>\n",
       "      <td>9</td>\n",
       "      <td>44.0</td>\n",
       "      <td>red</td>\n",
       "      <td>Over</td>\n",
       "    </tr>\n",
       "    <tr>\n",
       "      <th>BED_48</th>\n",
       "      <td>Furniture</td>\n",
       "      <td>Bed</td>\n",
       "      <td>King</td>\n",
       "      <td>375.0</td>\n",
       "      <td>red</td>\n",
       "      <td>Basic</td>\n",
       "    </tr>\n",
       "  </tbody>\n",
       "</table>\n",
       "</div>"
      ],
      "text/plain": [
       "          Category Sub category  Size  Purchase price Color  Brand\n",
       "Product                                                           \n",
       "TSH_8        Cloth       Tshirt     S            18.0   red  Basic\n",
       "SHO_18       Cloth        Shoes    10            46.0   red   Over\n",
       "TSH_28       Cloth       Tshirt    XS            17.0   red  Basic\n",
       "SHO_38       Cloth        Shoes     9            44.0   red   Over\n",
       "BED_48   Furniture          Bed  King           375.0   red  Basic"
      ]
     },
     "execution_count": 7,
     "metadata": {},
     "output_type": "execute_result"
    }
   ],
   "source": [
    "products = session.read_csv(\n",
    "    \"s3://data.atoti.io/notebooks/multidimension/products.csv\", keys=[\"Product\"]\n",
    ")\n",
    "products.head()"
   ]
  },
  {
   "cell_type": "code",
   "execution_count": 8,
   "id": "d4af45a9-98e7-4053-912d-7b5bcf75fda3",
   "metadata": {},
   "outputs": [
    {
     "data": {
      "text/markdown": [
       "```mermaid\n",
       "erDiagram\n",
       "  \"Products\" {\n",
       "    _ String PK \"Product\"\n",
       "    _ String \"Category\"\n",
       "    _ String \"Sub category\"\n",
       "    _ String \"Size\"\n",
       "    nullable double \"Purchase price\"\n",
       "    _ String \"Color\"\n",
       "    _ String \"Brand\"\n",
       "  }\n",
       "  \"Sales\" {\n",
       "    _ String \"Sale ID\"\n",
       "    _ LocalDate \"Date\"\n",
       "    _ String \"Shop\"\n",
       "    _ String \"Product\"\n",
       "    nullable int \"Quantity\"\n",
       "    nullable double \"Unit price\"\n",
       "  }\n",
       "  \"Sales\" }o--o| \"Products\" : \"`Product` == `Product`\"\n",
       "```\n"
      ],
      "text/plain": [
       "erDiagram\n",
       "  \"Products\" {\n",
       "    _ String PK \"Product\"\n",
       "    _ String \"Category\"\n",
       "    _ String \"Sub category\"\n",
       "    _ String \"Size\"\n",
       "    nullable double \"Purchase price\"\n",
       "    _ String \"Color\"\n",
       "    _ String \"Brand\"\n",
       "  }\n",
       "  \"Sales\" {\n",
       "    _ String \"Sale ID\"\n",
       "    _ LocalDate \"Date\"\n",
       "    _ String \"Shop\"\n",
       "    _ String \"Product\"\n",
       "    nullable int \"Quantity\"\n",
       "    nullable double \"Unit price\"\n",
       "  }\n",
       "  \"Sales\" }o--o| \"Products\" : \"`Product` == `Product`\""
      ]
     },
     "execution_count": 8,
     "metadata": {},
     "output_type": "execute_result"
    }
   ],
   "source": [
    "sales.join(products)\n",
    "session.tables.schema"
   ]
  },
  {
   "cell_type": "code",
   "execution_count": 9,
   "id": "22060b6f-8d9d-443a-ab2f-ab00e0180a21",
   "metadata": {},
   "outputs": [],
   "source": [
    "h, l, m = cube.hierarchies, cube.levels, cube.measures"
   ]
  },
  {
   "cell_type": "code",
   "execution_count": 10,
   "id": "92b6fb72-eba8-4ec7-b002-0464b279f726",
   "metadata": {},
   "outputs": [
    {
     "data": {
      "application/json": {
       "Products": {
        "Brand": [
         "Brand"
        ],
        "Category": [
         "Category"
        ],
        "Color": [
         "Color"
        ],
        "Size": [
         "Size"
        ],
        "Sub category": [
         "Sub category"
        ]
       },
       "Sales": {
        "Date": [
         "Date"
        ],
        "Product": [
         "Product"
        ],
        "Sale ID": [
         "Sale ID"
        ],
        "Shop": [
         "Shop"
        ]
       }
      },
      "text/html": [
       "<ul>\n",
       "<li>Dimensions\n",
       "  <ul>\n",
       "  <li>Products\n",
       "    <ul>\n",
       "    <li>Brand\n",
       "      <ol>\n",
       "      <li>Brand</li>\n",
       "      </ol>    </li>\n",
       "    <li>Category\n",
       "      <ol>\n",
       "      <li>Category</li>\n",
       "      </ol>    </li>\n",
       "    <li>Color\n",
       "      <ol>\n",
       "      <li>Color</li>\n",
       "      </ol>    </li>\n",
       "    <li>Size\n",
       "      <ol>\n",
       "      <li>Size</li>\n",
       "      </ol>    </li>\n",
       "    <li>Sub category\n",
       "      <ol>\n",
       "      <li>Sub category</li>\n",
       "      </ol>    </li>\n",
       "    </ul>\n",
       "  </li>\n",
       "  <li>Sales\n",
       "    <ul>\n",
       "    <li>Date\n",
       "      <ol>\n",
       "      <li>Date</li>\n",
       "      </ol>    </li>\n",
       "    <li>Product\n",
       "      <ol>\n",
       "      <li>Product</li>\n",
       "      </ol>    </li>\n",
       "    <li>Sale ID\n",
       "      <ol>\n",
       "      <li>Sale ID</li>\n",
       "      </ol>    </li>\n",
       "    <li>Shop\n",
       "      <ol>\n",
       "      <li>Shop</li>\n",
       "      </ol>    </li>\n",
       "    </ul>\n",
       "  </li>\n",
       "  </ul>\n",
       "</li>\n",
       "</ul>\n"
      ],
      "text/plain": [
       "{('Products', 'Brand'): <atoti.hierarchy.Hierarchy object at 0x132002e90>, ('Sales', 'Sale ID'): <atoti.hierarchy.Hierarchy object at 0x132002d10>, ('Sales', 'Product'): <atoti.hierarchy.Hierarchy object at 0x132002a50>, ('Products', 'Sub category'): <atoti.hierarchy.Hierarchy object at 0x13200ee10>, ('Products', 'Category'): <atoti.hierarchy.Hierarchy object at 0x13200ef50>, ('Products', 'Size'): <atoti.hierarchy.Hierarchy object at 0x13200ec50>, ('Sales', 'Date'): <atoti.hierarchy.Hierarchy object at 0x13200ead0>, ('Products', 'Color'): <atoti.hierarchy.Hierarchy object at 0x13200ea90>, ('Sales', 'Shop'): <atoti.hierarchy.Hierarchy object at 0x13200eb50>}"
      ]
     },
     "execution_count": 10,
     "metadata": {
      "application/json": {
       "expanded": true,
       "root": "Dimensions"
      }
     },
     "output_type": "execute_result"
    }
   ],
   "source": [
    "h"
   ]
  },
  {
   "cell_type": "code",
   "execution_count": 11,
   "id": "ce1e2257-ffb6-4819-8f60-a179f5ff47b8",
   "metadata": {},
   "outputs": [],
   "source": [
    "h[\"Product categories\"] = [l[\"Category\"], l[\"Sub category\"]]"
   ]
  },
  {
   "cell_type": "code",
   "execution_count": 12,
   "id": "05bdd8e7-265e-4da1-bd6e-646493d268cd",
   "metadata": {
    "atoti": {
     "height": 357,
     "widget": {
      "mapping": {
       "columns": [
        "ALL_MEASURES"
       ],
       "measures": [
        "[Measures].[Unit price.SUM]",
        "[Measures].[Quantity.SUM]"
       ],
       "rows": [
        "[Sales].[Shop].[Shop] => [Products].[Product categories].[Sub category]"
       ]
      },
      "query": {
       "mdx": "SELECT NON EMPTY {[Measures].[Unit price.SUM], [Measures].[Quantity.SUM]} ON COLUMNS, NON EMPTY Hierarchize(Union(Crossjoin(Descendants({[Sales].[Shop].[AllMember]}, 1, SELF_AND_BEFORE), [Products].[Product categories].DefaultMember), Crossjoin([Sales].[Shop].[AllMember].[shop_0], Hierarchize(Descendants({[Products].[Product categories].[AllMember]}, 2, SELF_AND_BEFORE))))) ON ROWS FROM [sales cube] CELL PROPERTIES VALUE, FORMATTED_VALUE, BACK_COLOR, FORE_COLOR, FONT_FLAGS",
       "updateMode": "once"
      },
      "serverKey": "default",
      "widgetKey": "pivot-table"
     }
    },
    "tags": []
   },
   "outputs": [
    {
     "data": {
      "application/vnd.atoti.widget.v0+json": {
       "sessionId": "1715105927_IB7NMJ",
       "sessionLocation": {
        "https": false,
        "port": 55159
       },
       "widgetCreationCode": "session.widget"
      },
      "text/html": [
       "<img height=\"0\" width=\"0\" src=\"data:,AAAAAAAAAAAAAAAAAAAAAAAAAAAAAAAAAAAAAAAAAAAAAAAACXBIWXMAABqTAAAakwH55E62\" />"
      ],
      "text/plain": [
       "Open the notebook in JupyterLab with the Atoti JupyterLab extension enabled to build this widget."
      ]
     },
     "metadata": {},
     "output_type": "display_data"
    }
   ],
   "source": [
    "session.widget"
   ]
  },
  {
   "cell_type": "markdown",
   "id": "c616bde0-866c-498e-8d20-efb34bda175b",
   "metadata": {
    "tags": []
   },
   "source": [
    "# Aggregational flexibility - Pre-processing vs Post-processing\n",
    "\n"
   ]
  },
  {
   "cell_type": "markdown",
   "id": "d2c0baf8-56d2-4390-a5e1-980bbabfb29e",
   "metadata": {},
   "source": [
    "## Pre-processing trades storage consumption for computational efficiency"
   ]
  },
  {
   "cell_type": "code",
   "execution_count": 13,
   "id": "fedc6bef-3477-44e7-af8f-43ad4a4e83de",
   "metadata": {},
   "outputs": [
    {
     "data": {
      "text/html": [
       "<div>\n",
       "<style scoped>\n",
       "    .dataframe tbody tr th:only-of-type {\n",
       "        vertical-align: middle;\n",
       "    }\n",
       "\n",
       "    .dataframe tbody tr th {\n",
       "        vertical-align: top;\n",
       "    }\n",
       "\n",
       "    .dataframe thead th {\n",
       "        text-align: right;\n",
       "    }\n",
       "</style>\n",
       "<table border=\"1\" class=\"dataframe\">\n",
       "  <thead>\n",
       "    <tr style=\"text-align: right;\">\n",
       "      <th></th>\n",
       "      <th>Product</th>\n",
       "      <th>Category</th>\n",
       "      <th>Sub category</th>\n",
       "      <th>Size</th>\n",
       "      <th>Purchase price</th>\n",
       "      <th>Color</th>\n",
       "      <th>Brand</th>\n",
       "    </tr>\n",
       "  </thead>\n",
       "  <tbody>\n",
       "    <tr>\n",
       "      <th>0</th>\n",
       "      <td>TAB_0</td>\n",
       "      <td>Furniture</td>\n",
       "      <td>Table</td>\n",
       "      <td>1m80</td>\n",
       "      <td>190.0</td>\n",
       "      <td>black</td>\n",
       "      <td>Basic</td>\n",
       "    </tr>\n",
       "    <tr>\n",
       "      <th>1</th>\n",
       "      <td>TAB_1</td>\n",
       "      <td>Furniture</td>\n",
       "      <td>Table</td>\n",
       "      <td>2m40</td>\n",
       "      <td>280.0</td>\n",
       "      <td>white</td>\n",
       "      <td>Mega</td>\n",
       "    </tr>\n",
       "    <tr>\n",
       "      <th>2</th>\n",
       "      <td>CHA_2</td>\n",
       "      <td>Furniture</td>\n",
       "      <td>Chair</td>\n",
       "      <td>NaN</td>\n",
       "      <td>48.0</td>\n",
       "      <td>blue</td>\n",
       "      <td>Basic</td>\n",
       "    </tr>\n",
       "    <tr>\n",
       "      <th>3</th>\n",
       "      <td>BED_3</td>\n",
       "      <td>Furniture</td>\n",
       "      <td>Bed</td>\n",
       "      <td>Single</td>\n",
       "      <td>127.0</td>\n",
       "      <td>red</td>\n",
       "      <td>Mega</td>\n",
       "    </tr>\n",
       "    <tr>\n",
       "      <th>4</th>\n",
       "      <td>BED_4</td>\n",
       "      <td>Furniture</td>\n",
       "      <td>Bed</td>\n",
       "      <td>Double</td>\n",
       "      <td>252.0</td>\n",
       "      <td>brown</td>\n",
       "      <td>Basic</td>\n",
       "    </tr>\n",
       "  </tbody>\n",
       "</table>\n",
       "</div>"
      ],
      "text/plain": [
       "  Product   Category Sub category    Size  Purchase price  Color  Brand\n",
       "0   TAB_0  Furniture        Table    1m80           190.0  black  Basic\n",
       "1   TAB_1  Furniture        Table    2m40           280.0  white   Mega\n",
       "2   CHA_2  Furniture        Chair     NaN            48.0   blue  Basic\n",
       "3   BED_3  Furniture          Bed  Single           127.0    red   Mega\n",
       "4   BED_4  Furniture          Bed  Double           252.0  brown  Basic"
      ]
     },
     "execution_count": 13,
     "metadata": {},
     "output_type": "execute_result"
    }
   ],
   "source": [
    "product_df = pd.read_csv(\"https://data.atoti.io/notebooks/multidimension/products.csv\")\n",
    "product_df.head()"
   ]
  },
  {
   "cell_type": "code",
   "execution_count": 14,
   "id": "cb39573f-7d29-4330-8702-cd4c58c3354f",
   "metadata": {},
   "outputs": [
    {
     "data": {
      "text/html": [
       "<div>\n",
       "<style scoped>\n",
       "    .dataframe tbody tr th:only-of-type {\n",
       "        vertical-align: middle;\n",
       "    }\n",
       "\n",
       "    .dataframe tbody tr th {\n",
       "        vertical-align: top;\n",
       "    }\n",
       "\n",
       "    .dataframe thead th {\n",
       "        text-align: right;\n",
       "    }\n",
       "</style>\n",
       "<table border=\"1\" class=\"dataframe\">\n",
       "  <thead>\n",
       "    <tr style=\"text-align: right;\">\n",
       "      <th></th>\n",
       "      <th>Sale ID</th>\n",
       "      <th>Date</th>\n",
       "      <th>Shop</th>\n",
       "      <th>Product</th>\n",
       "      <th>Quantity</th>\n",
       "      <th>Unit price</th>\n",
       "    </tr>\n",
       "  </thead>\n",
       "  <tbody>\n",
       "    <tr>\n",
       "      <th>0</th>\n",
       "      <td>S000000029</td>\n",
       "      <td>2021-01-06</td>\n",
       "      <td>shop_29</td>\n",
       "      <td>TSH_29</td>\n",
       "      <td>1</td>\n",
       "      <td>20</td>\n",
       "    </tr>\n",
       "    <tr>\n",
       "      <th>1</th>\n",
       "      <td>S000000059</td>\n",
       "      <td>2021-01-06</td>\n",
       "      <td>shop_19</td>\n",
       "      <td>SHO_59</td>\n",
       "      <td>2</td>\n",
       "      <td>60</td>\n",
       "    </tr>\n",
       "    <tr>\n",
       "      <th>2</th>\n",
       "      <td>S000000089</td>\n",
       "      <td>2021-01-06</td>\n",
       "      <td>shop_9</td>\n",
       "      <td>TSH_28</td>\n",
       "      <td>4</td>\n",
       "      <td>20</td>\n",
       "    </tr>\n",
       "    <tr>\n",
       "      <th>3</th>\n",
       "      <td>S000000119</td>\n",
       "      <td>2021-01-06</td>\n",
       "      <td>shop_39</td>\n",
       "      <td>SHO_58</td>\n",
       "      <td>2</td>\n",
       "      <td>60</td>\n",
       "    </tr>\n",
       "    <tr>\n",
       "      <th>4</th>\n",
       "      <td>S000000149</td>\n",
       "      <td>2021-01-06</td>\n",
       "      <td>shop_29</td>\n",
       "      <td>BED_27</td>\n",
       "      <td>2</td>\n",
       "      <td>440</td>\n",
       "    </tr>\n",
       "  </tbody>\n",
       "</table>\n",
       "</div>"
      ],
      "text/plain": [
       "      Sale ID        Date     Shop Product  Quantity  Unit price\n",
       "0  S000000029  2021-01-06  shop_29  TSH_29         1          20\n",
       "1  S000000059  2021-01-06  shop_19  SHO_59         2          60\n",
       "2  S000000089  2021-01-06   shop_9  TSH_28         4          20\n",
       "3  S000000119  2021-01-06  shop_39  SHO_58         2          60\n",
       "4  S000000149  2021-01-06  shop_29  BED_27         2         440"
      ]
     },
     "execution_count": 14,
     "metadata": {},
     "output_type": "execute_result"
    }
   ],
   "source": [
    "sales_df = pd.read_csv(\"https://data.atoti.io/notebooks/multidimension/sales.csv\")\n",
    "sales_df.head()"
   ]
  },
  {
   "cell_type": "markdown",
   "id": "b3cbb744-338e-49cf-8312-91bf823fe06f",
   "metadata": {},
   "source": [
    "Within the same data source, we can easily perform aggregation by applying the formulas. Notice that our dataset just grew bigger with the additional column? By loading this dataset, we traded storage consumption for the computational efficiency because the cube need not compute the sales amount every time we query it."
   ]
  },
  {
   "cell_type": "code",
   "execution_count": 15,
   "id": "6f3285c3-f86a-4adf-8522-fd29e32d49bb",
   "metadata": {},
   "outputs": [
    {
     "data": {
      "text/html": [
       "<div>\n",
       "<style scoped>\n",
       "    .dataframe tbody tr th:only-of-type {\n",
       "        vertical-align: middle;\n",
       "    }\n",
       "\n",
       "    .dataframe tbody tr th {\n",
       "        vertical-align: top;\n",
       "    }\n",
       "\n",
       "    .dataframe thead th {\n",
       "        text-align: right;\n",
       "    }\n",
       "</style>\n",
       "<table border=\"1\" class=\"dataframe\">\n",
       "  <thead>\n",
       "    <tr style=\"text-align: right;\">\n",
       "      <th></th>\n",
       "      <th>Sale ID</th>\n",
       "      <th>Date</th>\n",
       "      <th>Shop</th>\n",
       "      <th>Product</th>\n",
       "      <th>Quantity</th>\n",
       "      <th>Unit price</th>\n",
       "      <th>Sales amount</th>\n",
       "    </tr>\n",
       "  </thead>\n",
       "  <tbody>\n",
       "    <tr>\n",
       "      <th>0</th>\n",
       "      <td>S000000029</td>\n",
       "      <td>2021-01-06</td>\n",
       "      <td>shop_29</td>\n",
       "      <td>TSH_29</td>\n",
       "      <td>1</td>\n",
       "      <td>20</td>\n",
       "      <td>20</td>\n",
       "    </tr>\n",
       "    <tr>\n",
       "      <th>1</th>\n",
       "      <td>S000000059</td>\n",
       "      <td>2021-01-06</td>\n",
       "      <td>shop_19</td>\n",
       "      <td>SHO_59</td>\n",
       "      <td>2</td>\n",
       "      <td>60</td>\n",
       "      <td>120</td>\n",
       "    </tr>\n",
       "    <tr>\n",
       "      <th>2</th>\n",
       "      <td>S000000089</td>\n",
       "      <td>2021-01-06</td>\n",
       "      <td>shop_9</td>\n",
       "      <td>TSH_28</td>\n",
       "      <td>4</td>\n",
       "      <td>20</td>\n",
       "      <td>80</td>\n",
       "    </tr>\n",
       "    <tr>\n",
       "      <th>3</th>\n",
       "      <td>S000000119</td>\n",
       "      <td>2021-01-06</td>\n",
       "      <td>shop_39</td>\n",
       "      <td>SHO_58</td>\n",
       "      <td>2</td>\n",
       "      <td>60</td>\n",
       "      <td>120</td>\n",
       "    </tr>\n",
       "    <tr>\n",
       "      <th>4</th>\n",
       "      <td>S000000149</td>\n",
       "      <td>2021-01-06</td>\n",
       "      <td>shop_29</td>\n",
       "      <td>BED_27</td>\n",
       "      <td>2</td>\n",
       "      <td>440</td>\n",
       "      <td>880</td>\n",
       "    </tr>\n",
       "  </tbody>\n",
       "</table>\n",
       "</div>"
      ],
      "text/plain": [
       "      Sale ID        Date     Shop Product  Quantity  Unit price  Sales amount\n",
       "0  S000000029  2021-01-06  shop_29  TSH_29         1          20            20\n",
       "1  S000000059  2021-01-06  shop_19  SHO_59         2          60           120\n",
       "2  S000000089  2021-01-06   shop_9  TSH_28         4          20            80\n",
       "3  S000000119  2021-01-06  shop_39  SHO_58         2          60           120\n",
       "4  S000000149  2021-01-06  shop_29  BED_27         2         440           880"
      ]
     },
     "execution_count": 15,
     "metadata": {},
     "output_type": "execute_result"
    }
   ],
   "source": [
    "sales_df[\"Sales amount\"] = sales_df[\"Quantity\"] * sales_df[\"Unit price\"]\n",
    "sales_df.head()"
   ]
  },
  {
   "cell_type": "markdown",
   "id": "7f9c6fdd-366a-4b7a-9925-eefec9545e27",
   "metadata": {},
   "source": [
    "When aggregation involves multiple data sources, then we need to handle the joins before we can apply the formulas."
   ]
  },
  {
   "cell_type": "code",
   "execution_count": 16,
   "id": "83fc8e4a-cb1b-4c60-8b66-91f6aa313107",
   "metadata": {},
   "outputs": [
    {
     "data": {
      "text/html": [
       "<div>\n",
       "<style scoped>\n",
       "    .dataframe tbody tr th:only-of-type {\n",
       "        vertical-align: middle;\n",
       "    }\n",
       "\n",
       "    .dataframe tbody tr th {\n",
       "        vertical-align: top;\n",
       "    }\n",
       "\n",
       "    .dataframe thead th {\n",
       "        text-align: right;\n",
       "    }\n",
       "</style>\n",
       "<table border=\"1\" class=\"dataframe\">\n",
       "  <thead>\n",
       "    <tr style=\"text-align: right;\">\n",
       "      <th></th>\n",
       "      <th>Sale ID</th>\n",
       "      <th>Date</th>\n",
       "      <th>Shop</th>\n",
       "      <th>Product</th>\n",
       "      <th>Quantity</th>\n",
       "      <th>Unit price</th>\n",
       "      <th>Sales amount</th>\n",
       "      <th>Category</th>\n",
       "      <th>Sub category</th>\n",
       "      <th>Size</th>\n",
       "      <th>Purchase price</th>\n",
       "      <th>Color</th>\n",
       "      <th>Brand</th>\n",
       "    </tr>\n",
       "  </thead>\n",
       "  <tbody>\n",
       "    <tr>\n",
       "      <th>0</th>\n",
       "      <td>S000000029</td>\n",
       "      <td>2021-01-06</td>\n",
       "      <td>shop_29</td>\n",
       "      <td>TSH_29</td>\n",
       "      <td>1</td>\n",
       "      <td>20</td>\n",
       "      <td>20</td>\n",
       "      <td>Cloth</td>\n",
       "      <td>Tshirt</td>\n",
       "      <td>S</td>\n",
       "      <td>18.0</td>\n",
       "      <td>brown</td>\n",
       "      <td>Mega</td>\n",
       "    </tr>\n",
       "    <tr>\n",
       "      <th>1</th>\n",
       "      <td>S000001859</td>\n",
       "      <td>2021-01-06</td>\n",
       "      <td>shop_19</td>\n",
       "      <td>TSH_29</td>\n",
       "      <td>1</td>\n",
       "      <td>20</td>\n",
       "      <td>20</td>\n",
       "      <td>Cloth</td>\n",
       "      <td>Tshirt</td>\n",
       "      <td>S</td>\n",
       "      <td>18.0</td>\n",
       "      <td>brown</td>\n",
       "      <td>Mega</td>\n",
       "    </tr>\n",
       "    <tr>\n",
       "      <th>2</th>\n",
       "      <td>S000003689</td>\n",
       "      <td>2021-01-06</td>\n",
       "      <td>shop_9</td>\n",
       "      <td>TSH_29</td>\n",
       "      <td>1</td>\n",
       "      <td>20</td>\n",
       "      <td>20</td>\n",
       "      <td>Cloth</td>\n",
       "      <td>Tshirt</td>\n",
       "      <td>S</td>\n",
       "      <td>18.0</td>\n",
       "      <td>brown</td>\n",
       "      <td>Mega</td>\n",
       "    </tr>\n",
       "    <tr>\n",
       "      <th>3</th>\n",
       "      <td>S000001798</td>\n",
       "      <td>2021-01-07</td>\n",
       "      <td>shop_38</td>\n",
       "      <td>TSH_29</td>\n",
       "      <td>3</td>\n",
       "      <td>20</td>\n",
       "      <td>60</td>\n",
       "      <td>Cloth</td>\n",
       "      <td>Tshirt</td>\n",
       "      <td>S</td>\n",
       "      <td>18.0</td>\n",
       "      <td>brown</td>\n",
       "      <td>Mega</td>\n",
       "    </tr>\n",
       "    <tr>\n",
       "      <th>4</th>\n",
       "      <td>S000003628</td>\n",
       "      <td>2021-01-07</td>\n",
       "      <td>shop_28</td>\n",
       "      <td>TSH_29</td>\n",
       "      <td>1</td>\n",
       "      <td>20</td>\n",
       "      <td>20</td>\n",
       "      <td>Cloth</td>\n",
       "      <td>Tshirt</td>\n",
       "      <td>S</td>\n",
       "      <td>18.0</td>\n",
       "      <td>brown</td>\n",
       "      <td>Mega</td>\n",
       "    </tr>\n",
       "  </tbody>\n",
       "</table>\n",
       "</div>"
      ],
      "text/plain": [
       "      Sale ID        Date     Shop Product  Quantity  Unit price  \\\n",
       "0  S000000029  2021-01-06  shop_29  TSH_29         1          20   \n",
       "1  S000001859  2021-01-06  shop_19  TSH_29         1          20   \n",
       "2  S000003689  2021-01-06   shop_9  TSH_29         1          20   \n",
       "3  S000001798  2021-01-07  shop_38  TSH_29         3          20   \n",
       "4  S000003628  2021-01-07  shop_28  TSH_29         1          20   \n",
       "\n",
       "   Sales amount Category Sub category Size  Purchase price  Color Brand  \n",
       "0            20    Cloth       Tshirt    S            18.0  brown  Mega  \n",
       "1            20    Cloth       Tshirt    S            18.0  brown  Mega  \n",
       "2            20    Cloth       Tshirt    S            18.0  brown  Mega  \n",
       "3            60    Cloth       Tshirt    S            18.0  brown  Mega  \n",
       "4            20    Cloth       Tshirt    S            18.0  brown  Mega  "
      ]
     },
     "execution_count": 16,
     "metadata": {},
     "output_type": "execute_result"
    }
   ],
   "source": [
    "product_sales = pd.merge(sales_df, product_df, on=\"Product\")\n",
    "product_sales.head()"
   ]
  },
  {
   "cell_type": "code",
   "execution_count": 17,
   "id": "136afb1e-57f2-4d00-a3a4-8aff63a31469",
   "metadata": {},
   "outputs": [
    {
     "data": {
      "text/html": [
       "<div>\n",
       "<style scoped>\n",
       "    .dataframe tbody tr th:only-of-type {\n",
       "        vertical-align: middle;\n",
       "    }\n",
       "\n",
       "    .dataframe tbody tr th {\n",
       "        vertical-align: top;\n",
       "    }\n",
       "\n",
       "    .dataframe thead th {\n",
       "        text-align: right;\n",
       "    }\n",
       "</style>\n",
       "<table border=\"1\" class=\"dataframe\">\n",
       "  <thead>\n",
       "    <tr style=\"text-align: right;\">\n",
       "      <th></th>\n",
       "      <th>Sale ID</th>\n",
       "      <th>Date</th>\n",
       "      <th>Shop</th>\n",
       "      <th>Product</th>\n",
       "      <th>Quantity</th>\n",
       "      <th>Unit price</th>\n",
       "      <th>Sales amount</th>\n",
       "      <th>Category</th>\n",
       "      <th>Sub category</th>\n",
       "      <th>Size</th>\n",
       "      <th>Purchase price</th>\n",
       "      <th>Color</th>\n",
       "      <th>Brand</th>\n",
       "      <th>Cost price</th>\n",
       "      <th>Margin</th>\n",
       "    </tr>\n",
       "  </thead>\n",
       "  <tbody>\n",
       "    <tr>\n",
       "      <th>0</th>\n",
       "      <td>S000000029</td>\n",
       "      <td>2021-01-06</td>\n",
       "      <td>shop_29</td>\n",
       "      <td>TSH_29</td>\n",
       "      <td>1</td>\n",
       "      <td>20</td>\n",
       "      <td>20</td>\n",
       "      <td>Cloth</td>\n",
       "      <td>Tshirt</td>\n",
       "      <td>S</td>\n",
       "      <td>18.0</td>\n",
       "      <td>brown</td>\n",
       "      <td>Mega</td>\n",
       "      <td>18.0</td>\n",
       "      <td>2.0</td>\n",
       "    </tr>\n",
       "    <tr>\n",
       "      <th>1</th>\n",
       "      <td>S000001859</td>\n",
       "      <td>2021-01-06</td>\n",
       "      <td>shop_19</td>\n",
       "      <td>TSH_29</td>\n",
       "      <td>1</td>\n",
       "      <td>20</td>\n",
       "      <td>20</td>\n",
       "      <td>Cloth</td>\n",
       "      <td>Tshirt</td>\n",
       "      <td>S</td>\n",
       "      <td>18.0</td>\n",
       "      <td>brown</td>\n",
       "      <td>Mega</td>\n",
       "      <td>18.0</td>\n",
       "      <td>102.0</td>\n",
       "    </tr>\n",
       "    <tr>\n",
       "      <th>2</th>\n",
       "      <td>S000003689</td>\n",
       "      <td>2021-01-06</td>\n",
       "      <td>shop_9</td>\n",
       "      <td>TSH_29</td>\n",
       "      <td>1</td>\n",
       "      <td>20</td>\n",
       "      <td>20</td>\n",
       "      <td>Cloth</td>\n",
       "      <td>Tshirt</td>\n",
       "      <td>S</td>\n",
       "      <td>18.0</td>\n",
       "      <td>brown</td>\n",
       "      <td>Mega</td>\n",
       "      <td>18.0</td>\n",
       "      <td>62.0</td>\n",
       "    </tr>\n",
       "    <tr>\n",
       "      <th>3</th>\n",
       "      <td>S000001798</td>\n",
       "      <td>2021-01-07</td>\n",
       "      <td>shop_38</td>\n",
       "      <td>TSH_29</td>\n",
       "      <td>3</td>\n",
       "      <td>20</td>\n",
       "      <td>60</td>\n",
       "      <td>Cloth</td>\n",
       "      <td>Tshirt</td>\n",
       "      <td>S</td>\n",
       "      <td>18.0</td>\n",
       "      <td>brown</td>\n",
       "      <td>Mega</td>\n",
       "      <td>54.0</td>\n",
       "      <td>66.0</td>\n",
       "    </tr>\n",
       "    <tr>\n",
       "      <th>4</th>\n",
       "      <td>S000003628</td>\n",
       "      <td>2021-01-07</td>\n",
       "      <td>shop_28</td>\n",
       "      <td>TSH_29</td>\n",
       "      <td>1</td>\n",
       "      <td>20</td>\n",
       "      <td>20</td>\n",
       "      <td>Cloth</td>\n",
       "      <td>Tshirt</td>\n",
       "      <td>S</td>\n",
       "      <td>18.0</td>\n",
       "      <td>brown</td>\n",
       "      <td>Mega</td>\n",
       "      <td>18.0</td>\n",
       "      <td>862.0</td>\n",
       "    </tr>\n",
       "  </tbody>\n",
       "</table>\n",
       "</div>"
      ],
      "text/plain": [
       "      Sale ID        Date     Shop Product  Quantity  Unit price  \\\n",
       "0  S000000029  2021-01-06  shop_29  TSH_29         1          20   \n",
       "1  S000001859  2021-01-06  shop_19  TSH_29         1          20   \n",
       "2  S000003689  2021-01-06   shop_9  TSH_29         1          20   \n",
       "3  S000001798  2021-01-07  shop_38  TSH_29         3          20   \n",
       "4  S000003628  2021-01-07  shop_28  TSH_29         1          20   \n",
       "\n",
       "   Sales amount Category Sub category Size  Purchase price  Color Brand  \\\n",
       "0            20    Cloth       Tshirt    S            18.0  brown  Mega   \n",
       "1            20    Cloth       Tshirt    S            18.0  brown  Mega   \n",
       "2            20    Cloth       Tshirt    S            18.0  brown  Mega   \n",
       "3            60    Cloth       Tshirt    S            18.0  brown  Mega   \n",
       "4            20    Cloth       Tshirt    S            18.0  brown  Mega   \n",
       "\n",
       "   Cost price  Margin  \n",
       "0        18.0     2.0  \n",
       "1        18.0   102.0  \n",
       "2        18.0    62.0  \n",
       "3        54.0    66.0  \n",
       "4        18.0   862.0  "
      ]
     },
     "execution_count": 17,
     "metadata": {},
     "output_type": "execute_result"
    }
   ],
   "source": [
    "product_sales[\"Cost price\"] = (\n",
    "    product_sales[\"Quantity\"] * product_sales[\"Purchase price\"]\n",
    ")\n",
    "product_sales[\"Margin\"] = sales_df[\"Sales amount\"] - product_sales[\"Cost price\"]\n",
    "product_sales.head()"
   ]
  },
  {
   "cell_type": "markdown",
   "id": "7b57e887-bf01-41c0-95fe-0aabeb636412",
   "metadata": {},
   "source": [
    "Pre-processing works when we are at the most granular level because we will still be able to drill down or roll up. At higher aggregation level, we will not know how to break the value when we drill down to the lower level."
   ]
  },
  {
   "cell_type": "markdown",
   "id": "81719157-0196-4bff-b336-471f25aeaf91",
   "metadata": {},
   "source": [
    "<div style=\"text-align: center;\"><img src=\"https://data.atoti.io/notebooks/multidimension/img/drilldown_rollup.png\" width=\"50%\"></div>"
   ]
  },
  {
   "cell_type": "markdown",
   "id": "f56c58ae-27f2-472a-841b-5f01aa686181",
   "metadata": {
    "tags": []
   },
   "source": [
    "## Post-processing computes on the fly and provides flexibility"
   ]
  },
  {
   "cell_type": "code",
   "execution_count": 18,
   "id": "d0e7d65b-a300-44ed-9ae2-4187ec1659c3",
   "metadata": {},
   "outputs": [],
   "source": [
    "h, l, m = cube.hierarchies, cube.levels, cube.measures"
   ]
  },
  {
   "cell_type": "code",
   "execution_count": 19,
   "id": "4c2fca52-9025-4277-9770-949e5e55513b",
   "metadata": {},
   "outputs": [],
   "source": [
    "m[\"Sales amount\"] = tt.agg.sum(\n",
    "    sales[\"Quantity\"] * sales[\"Unit price\"],\n",
    ")"
   ]
  },
  {
   "cell_type": "code",
   "execution_count": 20,
   "id": "d5693639-d478-43d2-999b-1647602cb1ac",
   "metadata": {},
   "outputs": [],
   "source": [
    "m[\"Cost price\"] = tt.agg.sum(\n",
    "    m[\"Quantity.SUM\"] * tt.agg.single_value(products[\"Purchase price\"]),\n",
    "    scope=tt.OriginScope(levels={l[\"Product\"]}),\n",
    ")"
   ]
  },
  {
   "cell_type": "code",
   "execution_count": 21,
   "id": "7df79c7f-a67e-40da-b503-bd80d65b3709",
   "metadata": {},
   "outputs": [],
   "source": [
    "m[\"Margin\"] = m[\"Sales amount\"] - m[\"Cost price\"]"
   ]
  },
  {
   "cell_type": "code",
   "execution_count": 22,
   "id": "90571a79-f793-4fc8-a969-f3eb4f6bdc33",
   "metadata": {},
   "outputs": [],
   "source": [
    "m[\"Cumulative amount\"] = tt.agg.sum(\n",
    "    m[\"Sales amount\"], scope=tt.CumulativeScope(level=l[\"Date\"])\n",
    ")\n",
    "\n",
    "m[\"Cumulative margin\"] = tt.agg.sum(\n",
    "    m[\"Margin\"], scope=tt.CumulativeScope(level=l[\"Date\"])\n",
    ")"
   ]
  },
  {
   "cell_type": "markdown",
   "id": "1f55e25f-42a7-4092-9462-48016bcee711",
   "metadata": {},
   "source": [
    "In the visualization below, we are missing the sales data for `Shop_0` on 15 Jan 2021. Suppose we use pre-processing computation to get the cumulative values, we will need to perform re-calculation and then reload the data into the cube. With post-processing, this is not required as the data is computed on the fly."
   ]
  },
  {
   "cell_type": "code",
   "execution_count": 23,
   "id": "dc945967-d009-4b72-aa8b-13b752e11bbb",
   "metadata": {
    "atoti": {
     "widget": {
      "filters": [],
      "mapping": {
       "columns": [
        "ALL_MEASURES"
       ],
       "measures": [
        "[Measures].[Margin]",
        "[Measures].[Cumulative margin]"
       ],
       "rows": [
        "[Sales].[Date].[Date]"
       ]
      },
      "query": {
       "mdx": "SELECT NON EMPTY Hierarchize(Descendants({[Sales].[Date].[AllMember]}, 1, SELF_AND_BEFORE)) ON ROWS, NON EMPTY {[Measures].[Margin], [Measures].[Cumulative margin]} ON COLUMNS FROM [sales cube] CELL PROPERTIES VALUE, FORMATTED_VALUE, BACK_COLOR, FORE_COLOR, FONT_FLAGS",
       "updateMode": "once"
      },
      "serverKey": "default",
      "switchedTo": "plotly-line-chart",
      "widgetKey": "tree-table"
     }
    },
    "tags": []
   },
   "outputs": [
    {
     "data": {
      "application/vnd.atoti.widget.v0+json": {
       "sessionId": "1715105927_IB7NMJ",
       "sessionLocation": {
        "https": false,
        "port": 55159
       },
       "widgetCreationCode": "session.widget"
      },
      "text/html": [
       "<img height=\"352\" width=\"1538\" src=\"data:image/png;base64,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\" />"
      ],
      "text/plain": [
       "Open the notebook in JupyterLab with the Atoti JupyterLab extension enabled to build this widget."
      ]
     },
     "metadata": {},
     "output_type": "display_data"
    }
   ],
   "source": [
    "session.widget"
   ]
  },
  {
   "cell_type": "code",
   "execution_count": 24,
   "id": "b76f6b23-2423-4c05-95fa-e7e54bdb1d67",
   "metadata": {
    "atoti": {
     "height": 390,
     "widget": {
      "columnWidths": {
       "[Measures].[Cumulative margin]": 165
      },
      "filters": [],
      "mapping": {
       "columns": [
        "ALL_MEASURES"
       ],
       "measures": [
        "[Measures].[Margin]",
        "[Measures].[Cumulative margin]"
       ],
       "rows": [
        "[Sales].[Date].[Date]"
       ]
      },
      "query": {
       "mdx": "SELECT NON EMPTY Hierarchize(Descendants({[Sales].[Date].[AllMember]}, 1, SELF_AND_BEFORE)) ON ROWS, NON EMPTY {[Measures].[Margin], [Measures].[Cumulative margin]} ON COLUMNS FROM [sales cube] CELL PROPERTIES VALUE, FORMATTED_VALUE, BACK_COLOR, FORE_COLOR, FONT_FLAGS",
       "updateMode": "once"
      },
      "serverKey": "default",
      "widgetKey": "pivot-table"
     }
    },
    "tags": []
   },
   "outputs": [
    {
     "data": {
      "application/vnd.atoti.widget.v0+json": {
       "sessionId": "1715105927_IB7NMJ",
       "sessionLocation": {
        "https": false,
        "port": 55159
       },
       "widgetCreationCode": "session.widget"
      },
      "text/html": [
       "<img height=\"382\" width=\"1538\" src=\"data:image/png;base64,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\" />"
      ],
      "text/plain": [
       "Open the notebook in JupyterLab with the Atoti JupyterLab extension enabled to build this widget."
      ]
     },
     "metadata": {},
     "output_type": "display_data"
    }
   ],
   "source": [
    "session.widget"
   ]
  },
  {
   "cell_type": "markdown",
   "id": "bfad2809-47d7-42e2-b9dc-bc24ecdbab03",
   "metadata": {},
   "source": [
    "Simply load the missing data into the cube and it will be computed automatically."
   ]
  },
  {
   "cell_type": "code",
   "execution_count": 25,
   "id": "57330a4f-f852-4104-858e-c5ca2d863386",
   "metadata": {},
   "outputs": [],
   "source": [
    "sales.load_csv(\"s3://data.atoti.io/notebooks/multidimension/shop0_20210115.csv\")"
   ]
  },
  {
   "cell_type": "markdown",
   "id": "098b95d9-8ce4-40af-b0f6-51015357490a",
   "metadata": {},
   "source": [
    "Re-running the last 2 visualizations should reflect the correct sales."
   ]
  },
  {
   "cell_type": "markdown",
   "id": "828ee921-d6a6-40f5-8df9-541687f22344",
   "metadata": {
    "editable": true,
    "slideshow": {
     "slide_type": ""
    },
    "tags": []
   },
   "source": [
    "<div style=\"text-align:center\"><a href=\"https://www.atoti.io/?utm_source=gallery&utm_content=multidimensional-analysis\" target=\"_blank\" rel=\"noopener noreferrer\"><img src=\"https://data.atoti.io/notebooks/banners/Your-turn-to-try-Atoti.jpg\" alt=\"Atoti table\" /></a></div>"
   ]
  }
 ],
 "metadata": {
  "kernelspec": {
   "display_name": "Python 3 (ipykernel)",
   "language": "python",
   "name": "python3"
  },
  "language_info": {
   "codemirror_mode": {
    "name": "ipython",
    "version": 3
   },
   "file_extension": ".py",
   "mimetype": "text/x-python",
   "name": "python",
   "nbconvert_exporter": "python",
   "pygments_lexer": "ipython3",
   "version": "3.11.9"
  }
 },
 "nbformat": 4,
 "nbformat_minor": 5
}
