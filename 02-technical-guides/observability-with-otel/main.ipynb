{
 "cells": [
  {
   "cell_type": "markdown",
   "id": "fe46c40a-4535-4114-84a6-5b3293298969",
   "metadata": {},
   "source": [
    "# Enabling Observability with OpenTelemetry\n",
    "\n",
    "Atoti Python API features an observability plugin to integrate OpenTelemetry with Atoti for better monitoring and debugging capabilities. \n",
    "\n",
    "In this notebook, we explore how to set up observability for Atoti Python API using OpenTelemetry."
   ]
  },
  {
   "cell_type": "markdown",
   "id": "df6c1018-716d-4af9-9775-f2525331ae58",
   "metadata": {},
   "source": [
    "<div style=\"text-align: center;\" ><a href=\"https://www.atoti.io/?utm_source=gallery&utm_content=observability-with-otel\" target=\"_blank\" rel=\"noopener noreferrer\"><img src=\"https://data.atoti.io/notebooks/banners/Discover-Atoti-now.png\" alt=\"Try Atoti\"></a></div>"
   ]
  },
  {
   "cell_type": "code",
   "execution_count": 1,
   "id": "9a1f3448-c703-48fa-a806-bf4fd5edec1d",
   "metadata": {},
   "outputs": [],
   "source": [
    "# !uv pip install 'atoti[observability]'"
   ]
  },
  {
   "cell_type": "code",
   "execution_count": 2,
   "id": "c9aed4ad-29fc-4e22-8496-82f00360d1c4",
   "metadata": {},
   "outputs": [],
   "source": [
    "import atoti as tt\n",
    "import zipfile\n",
    "import wget\n",
    "from IPython.display import clear_output, display"
   ]
  },
  {
   "cell_type": "markdown",
   "id": "9c19bcff-dbfb-47c8-95d0-7b2ed9ee7c6e",
   "metadata": {},
   "source": [
    "## Start the OTEL stack"
   ]
  },
  {
   "cell_type": "markdown",
   "id": "4333798e-4cfe-46a8-b580-b6340b87ff00",
   "metadata": {},
   "source": [
    "To set up observability for Atoti using OpenTelemetry, we first need a place to send our metrics, logs, and traces.\n",
    "\n",
    "The `docker-compose.yaml` located in `otel-stack` configures the following multi-container [Docker](https://www.docker.com/) application:\n",
    "\n",
    "![otel-stack-diagram-2](https://data.atoti.io/notebooks/observability-with-otel/img/otel-stack-diagram-2.png)\n",
    "\n",
    "With the Atoti Python API observability plugin, Atoti can use OpenTelemetry to instrument its code and generate telemetry data during execution. The telemetry data is then handled by the [OTEL collector](https://opentelemetry.io/docs/collector/) and sent to the corresponding services integrated with [Grafana](https://grafana.com/):\n",
    "\n",
    "* **Traces:** Exported to [Tempo](https://grafana.com/oss/tempo/) (with OTLP).\n",
    "* **Logs:** Exported to [Loki](https://grafana.com/oss/loki/) (push to an endpoint).\n",
    "* **Metrics:** Scraped from the OTEL collector endpoint via [Prometheus](https://grafana.com/oss/prometheus/) every 15 seconds.\n",
    "\n",
    "Navigate to `otel-stack` and execute the following command to setup and confirm the containers are up and running:\n",
    "\n",
    "```bash\n",
    "docker compose up -d\n",
    "```\n",
    "\n",
    "💡 **Note:** Use the `docker ps` and `docker logs` commands to verify the containers are healthy.\n"
   ]
  },
  {
   "cell_type": "markdown",
   "id": "83ebe6ef-fbd3-4802-8ea3-1d1d5b440833",
   "metadata": {},
   "source": [
    "## Download data\n",
    "\n",
    "To simulate greater computation in this walk through, we've prepared 2GB worth of trades and books data."
   ]
  },
  {
   "cell_type": "code",
   "execution_count": 3,
   "id": "e2d44517-7bec-40bc-a00d-0b2f1fd5907a",
   "metadata": {},
   "outputs": [
    {
     "name": "stdout",
     "output_type": "stream",
     "text": [
      "100% [......................................................................] 843205063 / 843205063"
     ]
    }
   ],
   "source": [
    "url = f\"https://data.atoti.io/notebooks/observability-with-otel/data/data.zip\"\n",
    "filename = wget.download(url)\n",
    "\n",
    "with zipfile.ZipFile(filename, \"r\") as zip_ref:\n",
    "    zip_ref.extractall()"
   ]
  },
  {
   "cell_type": "markdown",
   "id": "11d5b438-dd8b-42da-bc3a-806345fd3d40",
   "metadata": {},
   "source": [
    "## Configure the Atoti session for OpenTelemetry\n",
    "\n",
    "When using the observability plugin for Atoti Python API, we need to configure the underlying Atoti Server JVM to use OpenTelemetry. \n",
    "\n",
    "The following configurations are set as their defaults:\n",
    "\n",
    "```java\n",
    "\"-Dspring.profiles.active=application-monitoring\",\n",
    "\"-Dotel.java.global-autoconfigure.enabled=true\",\n",
    "\"-Dotel.traces.exporter=otlp\",\n",
    "\"-Dotel.metrics.exporter=otlp\",\n",
    "\"-Dotel.logs.exporter=otlp\",\n",
    "\"-Dotel.exporter.otlp.endpoint=http://localhost:4318\",\n",
    "\"-Dotel.resource.attributes=service.name=atoti,service.version=1.0\",\n",
    "```\n",
    "\n",
    "The following configurations are user specific:\n",
    "\n",
    "```java\n",
    "\"-Djson.log.dir=logs\",\n",
    "\"-Dotel.traces.sampler=always_on\",\n",
    "\"-Dotel.metric.export.interval=1000\",\n",
    "\n",
    "```\n",
    "    \n",
    "We can also add in an OpenTelemetry java agent to report more metrics about the performance of the underlying JVM.\n",
    "\n",
    "```java\n",
    "\"-javaagent:opentelemetry-javaagent.jar\"\n",
    "```\n"
   ]
  },
  {
   "cell_type": "code",
   "execution_count": 4,
   "id": "aef1b3b3-c26c-4a2a-b962-e0039c2c41cc",
   "metadata": {},
   "outputs": [
    {
     "name": "stdout",
     "output_type": "stream",
     "text": [
      "100% [........................................................................] 21891536 / 21891536"
     ]
    }
   ],
   "source": [
    "url = f\"https://github.com/open-telemetry/opentelemetry-java-instrumentation/releases/latest/download/opentelemetry-javaagent.jar\"\n",
    "filename = wget.download(url)"
   ]
  },
  {
   "cell_type": "code",
   "execution_count": 5,
   "id": "af47b24d-2e24-4125-a984-1154c923b027",
   "metadata": {},
   "outputs": [],
   "source": [
    "session = tt.Session.start(\n",
    "    tt.SessionConfig(\n",
    "        port=9105,\n",
    "        java_options=[\n",
    "            \"-Dspring.profiles.active=application-monitoring\",\n",
    "            \"-Dotel.java.global-autoconfigure.enabled=true\",\n",
    "            \"-Dotel.traces.exporter=otlp\",\n",
    "            \"-Dotel.metrics.exporter=otlp\",\n",
    "            \"-Dotel.logs.exporter=otlp\",\n",
    "            \"-Dotel.exporter.otlp.endpoint=http://localhost:4318\",\n",
    "            \"-Dotel.resource.attributes=service.name=atoti,service.version=1.0\",\n",
    "            \"-Djson.log.dir=logs\",\n",
    "            \"-Dotel.traces.sampler=always_on\",\n",
    "            \"-Dotel.metric.export.interval=1000\",\n",
    "            \"-javaagent:opentelemetry-javaagent.jar\",\n",
    "        ],\n",
    "    )\n",
    ")"
   ]
  },
  {
   "cell_type": "markdown",
   "id": "84689afb-75b5-44f9-aeb2-fd751caa081a",
   "metadata": {},
   "source": [
    "## Load data, join data, visualize data model\n",
    "\n",
    "We then perform the following:\n",
    "\n",
    "1. Load our data into tables\n",
    "2. Make the corresponding joins\n",
    "3. Visualize the data model of the cube"
   ]
  },
  {
   "cell_type": "code",
   "execution_count": 6,
   "id": "5a25dd6e-e986-4009-ab5d-8697fae520cd",
   "metadata": {},
   "outputs": [
    {
     "name": "stdout",
     "output_type": "stream",
     "text": [
      "Trades Row Count: 383688\n",
      "Books Row Count: 408\n"
     ]
    },
    {
     "data": {
      "image/png": "[encoded data removed]",
      "text/plain": [
       "erDiagram\n",
       "  \"Trade PnL\" {\n",
       "    _ int PK \"BookId\"\n",
       "    _ LocalDate PK \"AsOfDate\"\n",
       "    _ String PK \"TradeId\"\n",
       "    _ String PK \"DataSet\"\n",
       "    _ String \"RiskFactor\"\n",
       "    _ String \"RiskClass\"\n",
       "    _ String \"SensitivityName\"\n",
       "    _ String \"ccy\"\n",
       "    nullable double[] \"pnl_vector\"\n",
       "  }\n",
       "  \"Books\" {\n",
       "    _ int PK \"BOOKID\"\n",
       "    _ String \"BOOK\"\n",
       "    _ String \"TRADING_DESK\"\n",
       "    _ String \"SUB_BUSINESS_UNIT\"\n",
       "    _ String \"BUSINESS_UNIT\"\n",
       "  }\n",
       "  \"Trade PnL\" }o--o| \"Books\" : \"`BookId` == `BOOKID`\""
      ]
     },
     "execution_count": 6,
     "metadata": {},
     "output_type": "execute_result"
    }
   ],
   "source": [
    "trades_tbl = session.read_csv(\n",
    "    \"data/trades/TradePnLs*.csv\",\n",
    "    table_name=\"Trade PnL\",\n",
    "    keys=[\"AsOfDate\", \"TradeId\", \"BookId\", \"DataSet\"],\n",
    "    array_separator=\";\",\n",
    ")\n",
    "books_tbl = session.read_csv(\n",
    "    \"data/books/books_books.csv\", table_name=\"Books\", keys=[\"BOOKID\"]\n",
    ")\n",
    "trades_tbl.join(books_tbl, trades_tbl[\"BookId\"] == books_tbl[\"BOOKID\"])\n",
    "\n",
    "cube = session.create_cube(trades_tbl)\n",
    "h, l, m = cube.hierarchies, cube.levels, cube.measures\n",
    "\n",
    "print(f\"Trades Row Count: {trades_tbl.row_count}\")\n",
    "print(f\"Books Row Count: {books_tbl.row_count}\")\n",
    "\n",
    "session.tables.schema"
   ]
  },
  {
   "cell_type": "markdown",
   "id": "ee2773bd-b529-4bce-aa92-15a0ac6f4e71",
   "metadata": {},
   "source": [
    "### Computing VaR 95\n",
    "\n",
    "We have a `pnl_vector.SUM` measure which is the sum of the profit and loss (PnL) value for each historical date."
   ]
  },
  {
   "cell_type": "code",
   "execution_count": 7,
   "id": "573f9a48-738c-49b6-8ac8-c98e7c2b0f14",
   "metadata": {},
   "outputs": [
    {
     "data": {
      "application/json": {
       "contributors.COUNT": {
        "formatter": "INT[#,###]"
       },
       "pnl_vector.MEAN": {
        "formatter": null
       },
       "pnl_vector.SUM": {
        "formatter": null
       }
      },
      "text/html": [
       "<ul>\n",
       "<li>Measures\n",
       "  <ul>\n",
       "  <li>contributors.COUNT\n",
       "    <ul>\n",
       "    <li>formatter: INT[#,###]</li>\n",
       "    </ul>\n",
       "  </li>\n",
       "  <li>pnl_vector.MEAN\n",
       "    <ul>\n",
       "    <li>formatter: None</li>\n",
       "    </ul>\n",
       "  </li>\n",
       "  <li>pnl_vector.SUM\n",
       "    <ul>\n",
       "    <li>formatter: None</li>\n",
       "    </ul>\n",
       "  </li>\n",
       "  </ul>\n",
       "</li>\n",
       "</ul>\n"
      ],
      "text/plain": [
       "{'pnl_vector.SUM': <atoti.measure.Measure object at 0x1302022d0>, 'pnl_vector.MEAN': <atoti.measure.Measure object at 0x117cbb550>, 'contributors.COUNT': <atoti.measure.Measure object at 0x117cbb410>, 'update.TIMESTAMP': <atoti.measure.Measure object at 0x117cbb6d0>}"
      ]
     },
     "execution_count": 7,
     "metadata": {
      "application/json": {
       "expanded": false,
       "root": "Measures"
      }
     },
     "output_type": "execute_result"
    }
   ],
   "source": [
    "m"
   ]
  },
  {
   "cell_type": "markdown",
   "id": "0b029e3d-871b-4fe7-a0fd-ecd8874c9e18",
   "metadata": {},
   "source": [
    "Therefore, we can define the formula for a 95% confidence level [value at risk (VaR)](https://www.investopedia.com/articles/04/092904.asp) measure as follows:"
   ]
  },
  {
   "cell_type": "code",
   "execution_count": 8,
   "id": "0fd8d2bd-e90a-4e9b-8f73-a3dc7f3cbfa7",
   "metadata": {},
   "outputs": [],
   "source": [
    "m[\"VaR95\"] = tt.array.quantile(m[\"pnl_vector.SUM\"], 1 - 0.95)"
   ]
  },
  {
   "cell_type": "code",
   "execution_count": 9,
   "id": "ccd7c76a-ca77-4e5e-85fc-73be2c2638fe",
   "metadata": {
    "atoti": {
     "widget": {
      "mapping": {
       "columns": [
        "ALL_MEASURES"
       ],
       "measures": [
        "[Measures].[VaR95]"
       ],
       "rows": [
        "[Trade PnL].[AsOfDate].[AsOfDate] => [Books].[BUSINESS_UNIT].[BUSINESS_UNIT]"
       ]
      },
      "query": {
       "mdx": "SELECT NON EMPTY Hierarchize(Descendants({[Trade PnL].[AsOfDate].[ALL].[AllMember]}, 1, SELF_AND_BEFORE)) ON ROWS, NON EMPTY {[Measures].[VaR95]} ON COLUMNS FROM [Trade PnL] CELL PROPERTIES VALUE, FORMATTED_VALUE, BACK_COLOR, FORE_COLOR, FONT_FLAGS",
       "updateMode": "once"
      },
      "serverKey": "default",
      "widgetKey": "pivot-table"
     }
    }
   },
   "outputs": [
    {
     "data": {
      "application/vnd.atoti.widget.v0+json": {
       "sessionId": "1737473176_499123",
       "sessionUrl": "http://localhost:9105",
       "widgetCreationCode": "session.widget"
      },
      "text/html": [
       "<img height=\"352\" width=\"1473\" src=\"data:image/png;base64,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\" />"
      ],
      "text/plain": [
       "Open the notebook in JupyterLab with the Atoti JupyterLab extension enabled to build this widget."
      ]
     },
     "metadata": {},
     "output_type": "display_data"
    }
   ],
   "source": [
    "session.widget"
   ]
  },
  {
   "cell_type": "markdown",
   "id": "d768bc78-a8d3-4d33-bcb4-55076d6b6375",
   "metadata": {},
   "source": [
    "## Monitoring Performance\n",
    "\n",
    "By this point, Atoti has already sent over telemetry data to the OpenTelemetry collector from our previous operations. This data can then be processed and visualized in Grafana using Loki, Tempo, and Prometheus."
   ]
  },
  {
   "cell_type": "markdown",
   "id": "820ff974-6323-43c8-961b-87a497960728",
   "metadata": {},
   "source": [
    "### Metrics\n",
    "\n",
    "Metrics are quantifiable measurements that reflect the behvaior, health, and performance of an application and its infrastructure.\n",
    "\n",
    "In our setup, Prometheus scrapes the telemetry data exported from Atoti to the OTEL collector and enables us to visualize the Atoti-specific metrics in Grafana. Navigate to the Grafana UI located at [localhost:3000](http://localhost:3000) and click on the *Metrics* item in the left-hand pane to pull up the metric charts.\n",
    "\n",
    "💡 **Note:** Check out the documentation for more information on [Atoti-specific metrics](https://docs.activeviam.com/products/atoti/server/6.1.0/docs/monitoring/metrics/).\n",
    "\n",
    "For example, we see various metrics pop up relating to the execution of the notebook, such as loading CSV data into the tables and the resulting table memory footprint. By monitoring the details captured from our metrics, we can better assess the results of our operations in real time.\n",
    "\n",
    "![metrics](https://data.atoti.io/notebooks/observability-with-otel/img/metrics.png)\n",
    "\n",
    "Similarly, we can also view the JVM metrics reported by the OpenTelemetry Java agent.\n",
    "\n",
    "![java-metrics](https://data.atoti.io/notebooks/observability-with-otel/img/java-metrics.png)"
   ]
  },
  {
   "cell_type": "markdown",
   "id": "36a06676-e613-4320-bfa9-7758a5b76bbc",
   "metadata": {},
   "source": [
    "## Logs\n",
    "\n",
    "Logs are the detailed records of events, warnings and errors occurring over time for a software application or system.\n",
    "\n",
    "Loki is a log aggregation system that natively integrates with Grafana to store and query logs for more effective log management. When we view the Atoti logs in Grafana using Loki, we see the underlying events performed in this notebook: starting the Atoti session, loading data from CSV, creating the cube, and most recently, querying the database using the Atoti JupyterLab widget shown in previous cells.\n",
    "\n",
    "![logs](https://data.atoti.io/notebooks/observability-with-otel/img/logs-2.png)\n",
    "\n",
    "Notice that if we click on a single log record, we can also see the underlying fields of the event along with their values. This also allows us to perform filters based on field values, which enhances the investigative abilities when dealing with logs.\n",
    "\n",
    "![logs-fields](https://data.atoti.io/notebooks/observability-with-otel/img/logs-fields.png)"
   ]
  },
  {
   "cell_type": "markdown",
   "id": "69eb39d4-7871-4db8-a596-672c45b3b57b",
   "metadata": {},
   "source": [
    "## Traces\n",
    "\n",
    "Traces help us understand the flow of requests and interactions within a system. They are the detailed records of how a request flows through a system, tracking its journey across different components, services, or processes. Traces are made up of one or more spans. A span represents a single operation within that request, providing detailed information about that specific step in the request flow.\n",
    "\n",
    "With the observability plugin, we can visualize our traces in Grafana using Tempo. Tempo is an open source, easy-to-use, and high-scale distributed tracing backend that natively integrates with Grafana to allow us to visualize the interactions of our requests when we use Atoti.\n",
    "\n",
    "If we select one of the logs relating to the `VaR95` query executed in previous cells, we can pinpoint its `TraceID` and visualize the request flow when querying the Atoti database using the Atoti JupyterLab widget.\n",
    "\n",
    "![logs-traceid](https://data.atoti.io/notebooks/observability-with-otel/img/logs-traceid-2.png)\n",
    "\n",
    "Using these insights we are able to determine the time it takes for a request to complete at every stage of its journey across the system. Should any problems arise, this granular view helps us better diagnose issues.\n",
    "\n",
    "![traceid-spans](https://data.atoti.io/notebooks/observability-with-otel/img/traceid-spans-2.png)"
   ]
  },
  {
   "cell_type": "markdown",
   "id": "147cc6f8-b22a-4f6f-8349-50ac61760152",
   "metadata": {},
   "source": [
    "## Monitoring aggregate providers\n",
    "\n",
    "A common use case in Atoti is to use aggregate providers to speed up queries. Aggregate providers pre-compute and store aggregates for the specified granularity for certain hierarchies. These intermediate aggregates are then stored in-memory and used to improve query performance, though at the cost of a higher memory footprint.\n",
    "\n",
    "💡 **Note:** Take a look at the [aggregate providers](../aggregate-provider/main.ipynb) notebook for a better understanding of how to use aggregate providers.\n",
    "\n",
    "Let's use the observability plugin for Atoti Python API to monitor the creation and use of an aggregate provider. We'll use the `query` function with the `%%time` magic command to get a second opinion of how long it takes the query to return the results for the `VaR95` calculation at the specified granularity."
   ]
  },
  {
   "cell_type": "code",
   "execution_count": 10,
   "id": "771537e3-de21-43fc-b012-753afeeff88d",
   "metadata": {},
   "outputs": [
    {
     "name": "stdout",
     "output_type": "stream",
     "text": [
      "CPU times: user 29.9 ms, sys: 8.44 ms, total: 38.4 ms\n",
      "Wall time: 180 ms\n"
     ]
    },
    {
     "data": {
      "application/vnd.atoti.convert-mdx-query-result-to-widget.v0+json": {
       "mdx": "SELECT {[Measures].[VaR95]} ON COLUMNS, NON EMPTY Crossjoin(Hierarchize(Descendants({[Books].[BUSINESS_UNIT].[ALL].[AllMember]}, 1, SELF_AND_BEFORE)), Hierarchize(Descendants({[Books].[SUB_BUSINESS_UNIT].[ALL].[AllMember]}, 1, SELF_AND_BEFORE)), Hierarchize(Descendants({[Books].[TRADING_DESK].[ALL].[AllMember]}, 1, SELF_AND_BEFORE))) ON ROWS FROM [Trade PnL]",
       "sessionId": "1737473176_499123",
       "widgetCreationCode": "session.widget"
      },
      "text/html": [
       "<div>\n",
       "<style scoped>\n",
       "    .dataframe tbody tr th:only-of-type {\n",
       "        vertical-align: middle;\n",
       "    }\n",
       "\n",
       "    .dataframe tbody tr th {\n",
       "        vertical-align: top;\n",
       "    }\n",
       "\n",
       "    .dataframe thead th {\n",
       "        text-align: right;\n",
       "    }\n",
       "</style>\n",
       "<table border=\"1\" class=\"dataframe\">\n",
       "  <thead>\n",
       "    <tr style=\"text-align: right;\">\n",
       "      <th></th>\n",
       "      <th></th>\n",
       "      <th></th>\n",
       "      <th>VaR95</th>\n",
       "    </tr>\n",
       "    <tr>\n",
       "      <th>BUSINESS_UNIT</th>\n",
       "      <th>SUB_BUSINESS_UNIT</th>\n",
       "      <th>TRADING_DESK</th>\n",
       "      <th></th>\n",
       "    </tr>\n",
       "  </thead>\n",
       "  <tbody>\n",
       "    <tr>\n",
       "      <th>Equity</th>\n",
       "      <th>Foreign Equity</th>\n",
       "      <th>Hermes</th>\n",
       "      <td>-15,635,436.75</td>\n",
       "    </tr>\n",
       "    <tr>\n",
       "      <th>Forex</th>\n",
       "      <th>Developed Market</th>\n",
       "      <th>Hades</th>\n",
       "      <td>-11,454,498.60</td>\n",
       "    </tr>\n",
       "    <tr>\n",
       "      <th rowspan=\"2\" valign=\"top\">Rates &amp; Credits</th>\n",
       "      <th rowspan=\"2\" valign=\"top\">Domestic Rates &amp; Credit</th>\n",
       "      <th>Hermes</th>\n",
       "      <td>-14,885,183.60</td>\n",
       "    </tr>\n",
       "    <tr>\n",
       "      <th>Keres</th>\n",
       "      <td>-10,002,711.20</td>\n",
       "    </tr>\n",
       "  </tbody>\n",
       "</table>\n",
       "</div>"
      ],
      "text/plain": [
       "                                                               VaR95\n",
       "BUSINESS_UNIT   SUB_BUSINESS_UNIT       TRADING_DESK                \n",
       "Equity          Foreign Equity          Hermes        -15,635,436.75\n",
       "Forex           Developed Market        Hades         -11,454,498.60\n",
       "Rates & Credits Domestic Rates & Credit Hermes        -14,885,183.60\n",
       "                                        Keres         -10,002,711.20"
      ]
     },
     "execution_count": 10,
     "metadata": {},
     "output_type": "execute_result"
    }
   ],
   "source": [
    "%%time\n",
    "cube.query(\n",
    "    m[\"VaR95\"],\n",
    "    levels=[l[\"BUSINESS_UNIT\"], l[\"SUB_BUSINESS_UNIT\"], l[\"TRADING_DESK\"]],\n",
    ")"
   ]
  },
  {
   "cell_type": "markdown",
   "id": "14e7cae9-149b-4c93-95a5-a84faf71f058",
   "metadata": {},
   "source": [
    "When we re-visit Grafana and Tempo and monitor the trace for the query, we can see the corresponding breakdown of spans for each of the underlying services that were impacted.\n",
    "\n",
    "💡 **Note:** The time taken produced by `%%time` may differ from what is shown in the corresponding TraceID diagram. This is because `%%time` measures the execution time of the notebook cell entirely, whereas the TraceID measures the execution time of a request traveling through the system.\n",
    "\n",
    "![before-aggregate-provider](https://data.atoti.io/notebooks/observability-with-otel/img/before-aggregate-provider.png)"
   ]
  },
  {
   "cell_type": "markdown",
   "id": "c0c1c0c5-2c00-470a-835e-192b506c217a",
   "metadata": {},
   "source": [
    "Let's now create our aggregate provider to match the granularity of the previous query for the `pnl_vector.SUM` measure. This pre-computes and stores the intermediate aggregate for `pnl_vector.SUM` at the specified granularity and improves the query time when calculating `VaR95`."
   ]
  },
  {
   "cell_type": "code",
   "execution_count": 11,
   "id": "467a7574-83b9-4827-9e18-2651a948c7ea",
   "metadata": {},
   "outputs": [],
   "source": [
    "cube.aggregate_providers.update(\n",
    "    {\n",
    "        \"PnL provider\": tt.AggregateProvider(\n",
    "            key=\"bitmap\",\n",
    "            levels=[\n",
    "                l[\"BUSINESS_UNIT\"],\n",
    "                l[\"SUB_BUSINESS_UNIT\"],\n",
    "                l[\"TRADING_DESK\"],\n",
    "            ],\n",
    "            measures=[m[\"pnl_vector.SUM\"]],\n",
    "        )\n",
    "    }\n",
    ")"
   ]
  },
  {
   "cell_type": "markdown",
   "id": "32b5f850-d7ce-4845-8337-8e6c73d70dda",
   "metadata": {},
   "source": [
    "Then, re-run the query."
   ]
  },
  {
   "cell_type": "code",
   "execution_count": 12,
   "id": "a4418335-20e7-467d-b48b-5fdd35152806",
   "metadata": {},
   "outputs": [
    {
     "name": "stdout",
     "output_type": "stream",
     "text": [
      "CPU times: user 8.32 ms, sys: 1.98 ms, total: 10.3 ms\n",
      "Wall time: 60.7 ms\n"
     ]
    },
    {
     "data": {
      "application/vnd.atoti.convert-mdx-query-result-to-widget.v0+json": {
       "mdx": "SELECT {[Measures].[VaR95]} ON COLUMNS, NON EMPTY Crossjoin(Hierarchize(Descendants({[Books].[BUSINESS_UNIT].[ALL].[AllMember]}, 1, SELF_AND_BEFORE)), Hierarchize(Descendants({[Books].[SUB_BUSINESS_UNIT].[ALL].[AllMember]}, 1, SELF_AND_BEFORE)), Hierarchize(Descendants({[Books].[TRADING_DESK].[ALL].[AllMember]}, 1, SELF_AND_BEFORE))) ON ROWS FROM [Trade PnL]",
       "sessionId": "1737473176_499123",
       "widgetCreationCode": "session.widget"
      },
      "text/html": [
       "<div>\n",
       "<style scoped>\n",
       "    .dataframe tbody tr th:only-of-type {\n",
       "        vertical-align: middle;\n",
       "    }\n",
       "\n",
       "    .dataframe tbody tr th {\n",
       "        vertical-align: top;\n",
       "    }\n",
       "\n",
       "    .dataframe thead th {\n",
       "        text-align: right;\n",
       "    }\n",
       "</style>\n",
       "<table border=\"1\" class=\"dataframe\">\n",
       "  <thead>\n",
       "    <tr style=\"text-align: right;\">\n",
       "      <th></th>\n",
       "      <th></th>\n",
       "      <th></th>\n",
       "      <th>VaR95</th>\n",
       "    </tr>\n",
       "    <tr>\n",
       "      <th>BUSINESS_UNIT</th>\n",
       "      <th>SUB_BUSINESS_UNIT</th>\n",
       "      <th>TRADING_DESK</th>\n",
       "      <th></th>\n",
       "    </tr>\n",
       "  </thead>\n",
       "  <tbody>\n",
       "    <tr>\n",
       "      <th>Equity</th>\n",
       "      <th>Foreign Equity</th>\n",
       "      <th>Hermes</th>\n",
       "      <td>-15,635,436.75</td>\n",
       "    </tr>\n",
       "    <tr>\n",
       "      <th>Forex</th>\n",
       "      <th>Developed Market</th>\n",
       "      <th>Hades</th>\n",
       "      <td>-11,454,498.60</td>\n",
       "    </tr>\n",
       "    <tr>\n",
       "      <th rowspan=\"2\" valign=\"top\">Rates &amp; Credits</th>\n",
       "      <th rowspan=\"2\" valign=\"top\">Domestic Rates &amp; Credit</th>\n",
       "      <th>Hermes</th>\n",
       "      <td>-14,885,183.60</td>\n",
       "    </tr>\n",
       "    <tr>\n",
       "      <th>Keres</th>\n",
       "      <td>-10,002,711.20</td>\n",
       "    </tr>\n",
       "  </tbody>\n",
       "</table>\n",
       "</div>"
      ],
      "text/plain": [
       "                                                               VaR95\n",
       "BUSINESS_UNIT   SUB_BUSINESS_UNIT       TRADING_DESK                \n",
       "Equity          Foreign Equity          Hermes        -15,635,436.75\n",
       "Forex           Developed Market        Hades         -11,454,498.60\n",
       "Rates & Credits Domestic Rates & Credit Hermes        -14,885,183.60\n",
       "                                        Keres         -10,002,711.20"
      ]
     },
     "execution_count": 12,
     "metadata": {},
     "output_type": "execute_result"
    }
   ],
   "source": [
    "%%time\n",
    "cube.query(\n",
    "    m[\"VaR95\"],\n",
    "    levels=[l[\"BUSINESS_UNIT\"], l[\"SUB_BUSINESS_UNIT\"], l[\"TRADING_DESK\"]],\n",
    ")"
   ]
  },
  {
   "cell_type": "markdown",
   "id": "7fcae090-9b54-4449-a29c-466cd9d1aa18",
   "metadata": {},
   "source": [
    "We see from the `%%time` magic command that query times have improved thanks to the aggregate provider. In addition, when we view the corresponding TraceID in Grafana and Tempo, we can visualize the granular improvement for the request. For example, we see that the overall time for the trace/request has significantly improved, while the granular spans also show an increase in performance.\n",
    "\n",
    "![after-aggregate-provider](https://data.atoti.io/notebooks/observability-with-otel/img/after-aggregate-provider.png)"
   ]
  },
  {
   "cell_type": "markdown",
   "id": "9a01f240-c9c8-4dab-9862-18a889e91ccf",
   "metadata": {},
   "source": [
    "This walk through was just a small example of how to get observability up and running with OpenTelemetry using the Atoti observability plugin. However, perfomance tuning and monitoring are useful and relevant at any stage of an Atoti project. It's a good idea to set them up during initial stages, so that when the project is ready to scale we have everything we need already in place."
   ]
  },
  {
   "cell_type": "markdown",
   "id": "c92cf61f-d9e1-4911-8b76-2d08e4a8eda8",
   "metadata": {},
   "source": [
    "<div style=\"text-align: center;\" ><a href=\"https://www.atoti.io/?utm_source=gallery&utm_content=observability-with-otel\" target=\"_blank\" rel=\"noopener noreferrer\"><img src=\"https://data.atoti.io/notebooks/banners/Your-turn-to-try-Atoti.jpg\" alt=\"Try Atoti\"></a></div>"
   ]
  }
 ],
 "metadata": {
  "kernelspec": {
   "display_name": "Python 3 (ipykernel)",
   "language": "python",
   "name": "python3"
  },
  "language_info": {
   "codemirror_mode": {
    "name": "ipython",
    "version": 3
   },
   "file_extension": ".py",
   "mimetype": "text/x-python",
   "name": "python",
   "nbconvert_exporter": "python",
   "pygments_lexer": "ipython3",
   "version": "3.11.10"
  },
  "widgets": {
   "application/vnd.jupyter.widget-state+json": {
    "state": {},
    "version_major": 2,
    "version_minor": 0
   }
  }
 },
 "nbformat": 4,
 "nbformat_minor": 5
}
