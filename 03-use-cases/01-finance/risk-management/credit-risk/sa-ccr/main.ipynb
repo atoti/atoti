{
 "cells": [
  {
   "cell_type": "markdown",
   "metadata": {
    "editable": true,
    "slideshow": {
     "slide_type": ""
    },
    "tags": []
   },
   "source": [
    "# SA-CCR analytical app\n",
    "\n",
    "Last tested version: <img src=\"https://img.shields.io/badge/Atoti-v0.9.5-blue\">\n",
    "\n",
    "This notebook provides a reference implementation of interactive analytical app for SA-CCR analytics in python using Jupyter Notebook and [Atoti](https://www.atoti.io).\n",
    "\n",
    "<img src=./app-preview.gif/ width = 70%>\n",
    "\n",
    "As a quick reminder, the SA-CCR is a regulatory methodology for computing EAD (Exposure At Default) which is part of the consolidated basel framework. It is already implemented for financial institutions in Europe by the Regulation (EU) 2019/876 (CRR II) and will be applicable from June 2021 and January 2022 in the US. In this post, I will walk you through code snippets implementing calculations as defined in the BCBS 279 document.\n",
    "\n",
    "<div style=\"text-align:center\"><a href=\"https://www.atoti.io/?utm_source=gallery&utm_content=saccr\" target=\"_blank\" rel=\"noopener noreferrer\"><img src=\"https://data.atoti.io/notebooks/banners/Discover-Atoti-now.png\" alt=\"Atoti table\" /></a></div>\n",
    "\n",
    "We'll start by creating an Atoti app, then we'll load sample data and implement chains of calculations aggregating EAD from trades, collateral and supervisory parameters on-the-fly. This chart is summarizing the calculation chains:\n",
    "\n",
    "<img src=./SA-CCR.svg/ width = 50%>\n",
    "\n",
    "We will be referring to the relevant paragraphs of the Consolidated Basel Framework [CRE52](https://www.bis.org/basel_framework/chapter/CRE/52.htm?inforce=20191215) - see numbers in the square brackets."
   ]
  },
  {
   "cell_type": "code",
   "execution_count": 1,
   "metadata": {},
   "outputs": [],
   "source": [
    "import atoti as tt\n",
    "import pandas as pd"
   ]
  },
  {
   "cell_type": "code",
   "execution_count": 2,
   "metadata": {},
   "outputs": [],
   "source": [
    "pd.set_option(\"display.max_rows\", 30)\n",
    "pd.set_option(\"display.max_columns\", 100)\n",
    "pd.options.display.float_format = \"{:,.2f}\".format"
   ]
  },
  {
   "cell_type": "markdown",
   "metadata": {},
   "source": [
    "# Launch Atoti"
   ]
  },
  {
   "cell_type": "code",
   "execution_count": 3,
   "metadata": {},
   "outputs": [
    {
     "data": {
      "application/vnd.atoti.link.v0+json": {
       "path": "",
       "sessionUrl": "http://localhost:64246"
      },
      "text/plain": [
       "http://localhost:64246"
      ]
     },
     "execution_count": 3,
     "metadata": {},
     "output_type": "execute_result"
    }
   ],
   "source": [
    "session = tt.Session.start(tt.SessionConfig(user_content_storage=\"./content\"))\n",
    "session.link"
   ]
  },
  {
   "cell_type": "markdown",
   "metadata": {},
   "source": [
    "## Input data"
   ]
  },
  {
   "cell_type": "markdown",
   "metadata": {},
   "source": [
    "In this section we will load the data used by the EAD aggregation into in-memory tables and start creating a cube. The sample data will be fetched from csv files hosted on s3, and you can replace them with your own sources.\n",
    "\n",
    "- `trades_table` with information on the trades, books, notionals, market values, classified into asset classes. The time period parameter dates - Mi, Ei, Si and Ti [52.31] - are also provided in this file/\n",
    "- `nettingSets_table` providing netting set attributes, for instance, the MPOR and collateral\n",
    "- `supervisoryParameters_table` - values set in section [52.72] \"Supervisory specified parameters\"."
   ]
  },
  {
   "cell_type": "code",
   "execution_count": 4,
   "metadata": {
    "tags": []
   },
   "outputs": [
    {
     "data": {
      "text/html": [
       "<div>\n",
       "<style scoped>\n",
       "    .dataframe tbody tr th:only-of-type {\n",
       "        vertical-align: middle;\n",
       "    }\n",
       "\n",
       "    .dataframe tbody tr th {\n",
       "        vertical-align: top;\n",
       "    }\n",
       "\n",
       "    .dataframe thead th {\n",
       "        text-align: right;\n",
       "    }\n",
       "</style>\n",
       "<table border=\"1\" class=\"dataframe\">\n",
       "  <thead>\n",
       "    <tr style=\"text-align: right;\">\n",
       "      <th></th>\n",
       "      <th></th>\n",
       "      <th>NettingSetId</th>\n",
       "      <th>BookId</th>\n",
       "      <th>Direction</th>\n",
       "      <th>Notional</th>\n",
       "      <th>MarketValue</th>\n",
       "      <th>AssetClass</th>\n",
       "      <th>SubClass</th>\n",
       "      <th>OptionType</th>\n",
       "      <th>Underlying</th>\n",
       "      <th>Si_Date</th>\n",
       "      <th>Ei_Date</th>\n",
       "      <th>Mi_Date</th>\n",
       "      <th>Ti_Date</th>\n",
       "      <th>Strike Price</th>\n",
       "      <th>Underlying Price</th>\n",
       "      <th>AttachPoint</th>\n",
       "      <th>DetachPoint</th>\n",
       "      <th>IsCDO</th>\n",
       "    </tr>\n",
       "    <tr>\n",
       "      <th>AsOfDate</th>\n",
       "      <th>TradeId</th>\n",
       "      <th></th>\n",
       "      <th></th>\n",
       "      <th></th>\n",
       "      <th></th>\n",
       "      <th></th>\n",
       "      <th></th>\n",
       "      <th></th>\n",
       "      <th></th>\n",
       "      <th></th>\n",
       "      <th></th>\n",
       "      <th></th>\n",
       "      <th></th>\n",
       "      <th></th>\n",
       "      <th></th>\n",
       "      <th></th>\n",
       "      <th></th>\n",
       "      <th></th>\n",
       "      <th></th>\n",
       "    </tr>\n",
       "  </thead>\n",
       "  <tbody>\n",
       "    <tr>\n",
       "      <th rowspan=\"3\" valign=\"top\">2020-01-13</th>\n",
       "      <th>t428</th>\n",
       "      <td>EX9</td>\n",
       "      <td>Book7</td>\n",
       "      <td>-1</td>\n",
       "      <td>2,000,000.00</td>\n",
       "      <td>-70,000.00</td>\n",
       "      <td>FX</td>\n",
       "      <td>No SubClass</td>\n",
       "      <td>N/A</td>\n",
       "      <td>JPYGBP</td>\n",
       "      <td>2020-01-13</td>\n",
       "      <td>2020-06-13</td>\n",
       "      <td>2025-01-13</td>\n",
       "      <td>2028-01-13</td>\n",
       "      <td>&lt;NA&gt;</td>\n",
       "      <td>&lt;NA&gt;</td>\n",
       "      <td>&lt;NA&gt;</td>\n",
       "      <td>&lt;NA&gt;</td>\n",
       "      <td>N</td>\n",
       "    </tr>\n",
       "    <tr>\n",
       "      <th>t137</th>\n",
       "      <td>EX3</td>\n",
       "      <td>Book6</td>\n",
       "      <td>1</td>\n",
       "      <td>5,000,000.00</td>\n",
       "      <td>46,000.00</td>\n",
       "      <td>FX</td>\n",
       "      <td>No SubClass</td>\n",
       "      <td>N/A</td>\n",
       "      <td>GBPCAD</td>\n",
       "      <td>2020-01-13</td>\n",
       "      <td>2028-01-13</td>\n",
       "      <td>2021-01-13</td>\n",
       "      <td>2028-01-13</td>\n",
       "      <td>&lt;NA&gt;</td>\n",
       "      <td>&lt;NA&gt;</td>\n",
       "      <td>&lt;NA&gt;</td>\n",
       "      <td>&lt;NA&gt;</td>\n",
       "      <td>N</td>\n",
       "    </tr>\n",
       "    <tr>\n",
       "      <th>t285</th>\n",
       "      <td>EX6</td>\n",
       "      <td>Book4</td>\n",
       "      <td>1</td>\n",
       "      <td>5,600.00</td>\n",
       "      <td>890,000.00</td>\n",
       "      <td>EQ_SN</td>\n",
       "      <td>No SubClass</td>\n",
       "      <td>N/A</td>\n",
       "      <td>EX6.CH</td>\n",
       "      <td>2020-01-13</td>\n",
       "      <td>2028-01-13</td>\n",
       "      <td>2047-01-13</td>\n",
       "      <td>2028-01-13</td>\n",
       "      <td>&lt;NA&gt;</td>\n",
       "      <td>158.93</td>\n",
       "      <td>&lt;NA&gt;</td>\n",
       "      <td>&lt;NA&gt;</td>\n",
       "      <td>N</td>\n",
       "    </tr>\n",
       "  </tbody>\n",
       "</table>\n",
       "</div>"
      ],
      "text/plain": [
       "                   NettingSetId BookId  Direction     Notional  MarketValue  \\\n",
       "AsOfDate   TradeId                                                            \n",
       "2020-01-13 t428             EX9  Book7         -1 2,000,000.00   -70,000.00   \n",
       "           t137             EX3  Book6          1 5,000,000.00    46,000.00   \n",
       "           t285             EX6  Book4          1     5,600.00   890,000.00   \n",
       "\n",
       "                   AssetClass     SubClass OptionType Underlying    Si_Date  \\\n",
       "AsOfDate   TradeId                                                            \n",
       "2020-01-13 t428            FX  No SubClass        N/A     JPYGBP 2020-01-13   \n",
       "           t137            FX  No SubClass        N/A     GBPCAD 2020-01-13   \n",
       "           t285         EQ_SN  No SubClass        N/A     EX6.CH 2020-01-13   \n",
       "\n",
       "                      Ei_Date    Mi_Date    Ti_Date  Strike Price  \\\n",
       "AsOfDate   TradeId                                                  \n",
       "2020-01-13 t428    2020-06-13 2025-01-13 2028-01-13          <NA>   \n",
       "           t137    2028-01-13 2021-01-13 2028-01-13          <NA>   \n",
       "           t285    2028-01-13 2047-01-13 2028-01-13          <NA>   \n",
       "\n",
       "                    Underlying Price  AttachPoint  DetachPoint IsCDO  \n",
       "AsOfDate   TradeId                                                    \n",
       "2020-01-13 t428                 <NA>         <NA>         <NA>     N  \n",
       "           t137                 <NA>         <NA>         <NA>     N  \n",
       "           t285               158.93         <NA>         <NA>     N  "
      ]
     },
     "execution_count": 4,
     "metadata": {},
     "output_type": "execute_result"
    }
   ],
   "source": [
    "trades_table = session.read_csv(\n",
    "    \"s3://data.atoti.io/notebooks/sa-ccr/T0/trades.csv\",\n",
    "    keys=[\"AsOfDate\", \"TradeId\"],\n",
    "    data_types={\n",
    "        \"Notional\": tt.type.DOUBLE,\n",
    "        \"MarketValue\": tt.type.DOUBLE,\n",
    "        \"AsOfDate\": tt.type.LOCAL_DATE,\n",
    "        \"Mi_Date\": tt.type.LOCAL_DATE,\n",
    "        \"Si_Date\": tt.type.LOCAL_DATE,\n",
    "        \"Ti_Date\": tt.type.LOCAL_DATE,\n",
    "        \"Ei_Date\": tt.type.LOCAL_DATE,\n",
    "    },\n",
    "    table_name=\"Trades\",\n",
    ")\n",
    "trades_table.head(3)"
   ]
  },
  {
   "cell_type": "markdown",
   "metadata": {},
   "source": [
    "Let's now load netting set attributes - providing info about collateral and csa details - and link them to trades:"
   ]
  },
  {
   "cell_type": "code",
   "execution_count": 5,
   "metadata": {},
   "outputs": [
    {
     "data": {
      "text/html": [
       "<div>\n",
       "<style scoped>\n",
       "    .dataframe tbody tr th:only-of-type {\n",
       "        vertical-align: middle;\n",
       "    }\n",
       "\n",
       "    .dataframe tbody tr th {\n",
       "        vertical-align: top;\n",
       "    }\n",
       "\n",
       "    .dataframe thead th {\n",
       "        text-align: right;\n",
       "    }\n",
       "</style>\n",
       "<table border=\"1\" class=\"dataframe\">\n",
       "  <thead>\n",
       "    <tr style=\"text-align: right;\">\n",
       "      <th></th>\n",
       "      <th></th>\n",
       "      <th>CounterpartyId</th>\n",
       "      <th>MPOR</th>\n",
       "      <th>Collateral</th>\n",
       "      <th>NICA</th>\n",
       "      <th>TH</th>\n",
       "      <th>MTA</th>\n",
       "      <th>isMargined</th>\n",
       "    </tr>\n",
       "    <tr>\n",
       "      <th>AsOfDate</th>\n",
       "      <th>NettingSetId</th>\n",
       "      <th></th>\n",
       "      <th></th>\n",
       "      <th></th>\n",
       "      <th></th>\n",
       "      <th></th>\n",
       "      <th></th>\n",
       "      <th></th>\n",
       "    </tr>\n",
       "  </thead>\n",
       "  <tbody>\n",
       "    <tr>\n",
       "      <th rowspan=\"3\" valign=\"top\">2020-01-13</th>\n",
       "      <th>EX4</th>\n",
       "      <td>cpt2</td>\n",
       "      <td>&lt;NA&gt;</td>\n",
       "      <td>0.00</td>\n",
       "      <td>0.00</td>\n",
       "      <td>0.00</td>\n",
       "      <td>0.00</td>\n",
       "      <td>N</td>\n",
       "    </tr>\n",
       "    <tr>\n",
       "      <th>EX3</th>\n",
       "      <td>cpt2</td>\n",
       "      <td>&lt;NA&gt;</td>\n",
       "      <td>0.00</td>\n",
       "      <td>0.00</td>\n",
       "      <td>0.00</td>\n",
       "      <td>0.00</td>\n",
       "      <td>N</td>\n",
       "    </tr>\n",
       "    <tr>\n",
       "      <th>EX10</th>\n",
       "      <td>cpt5</td>\n",
       "      <td>5.00</td>\n",
       "      <td>227,185.00</td>\n",
       "      <td>170,388.00</td>\n",
       "      <td>0.00</td>\n",
       "      <td>5,000.00</td>\n",
       "      <td>Y</td>\n",
       "    </tr>\n",
       "  </tbody>\n",
       "</table>\n",
       "</div>"
      ],
      "text/plain": [
       "                        CounterpartyId  MPOR  Collateral       NICA   TH  \\\n",
       "AsOfDate   NettingSetId                                                    \n",
       "2020-01-13 EX4                    cpt2  <NA>        0.00       0.00 0.00   \n",
       "           EX3                    cpt2  <NA>        0.00       0.00 0.00   \n",
       "           EX10                   cpt5  5.00  227,185.00 170,388.00 0.00   \n",
       "\n",
       "                             MTA isMargined  \n",
       "AsOfDate   NettingSetId                      \n",
       "2020-01-13 EX4              0.00          N  \n",
       "           EX3              0.00          N  \n",
       "           EX10         5,000.00          Y  "
      ]
     },
     "execution_count": 5,
     "metadata": {},
     "output_type": "execute_result"
    }
   ],
   "source": [
    "nettingSets_table = session.read_csv(\n",
    "    \"s3://data.atoti.io/notebooks/sa-ccr/T0/netting-set-attributes.csv\",\n",
    "    keys=[\"AsOfDate\", \"NettingSetId\"],\n",
    "    data_types={\"MPOR\": tt.type.DOUBLE, \"Collateral\": tt.type.DOUBLE},\n",
    "    table_name=\"NettingSets\",\n",
    "    default_values={\"TH\": 0.0, \"MTA\": 0.0, \"NICA\": 0.0},\n",
    ")\n",
    "\n",
    "trades_table.join(\n",
    "    nettingSets_table,\n",
    "    (trades_table[\"NettingSetId\"] == nettingSets_table[\"NettingSetId\"])\n",
    "    & (trades_table[\"AsOfDate\"] == nettingSets_table[\"AsOfDate\"]),\n",
    ")\n",
    "nettingSets_table.head(3)"
   ]
  },
  {
   "cell_type": "markdown",
   "metadata": {},
   "source": [
    "In the next cell I'm loading parameters into a separate table and using the \"join\" command to link parameters to trades:"
   ]
  },
  {
   "cell_type": "code",
   "execution_count": 6,
   "metadata": {},
   "outputs": [],
   "source": [
    "supervisoryParameters_table = session.read_csv(\n",
    "    \"s3://data.atoti.io/notebooks/sa-ccr/T0/parameters.csv\",\n",
    "    keys=[\"AssetClass\", \"SubClass\"],\n",
    "    table_name=\"Parameters\",\n",
    "    default_values={\"Correlation\": 0.0},\n",
    ")\n",
    "\n",
    "trades_table.join(\n",
    "    supervisoryParameters_table,\n",
    "    (trades_table[\"AssetClass\"] == supervisoryParameters_table[\"AssetClass\"])\n",
    "    & (trades_table[\"SubClass\"] == supervisoryParameters_table[\"SubClass\"]),\n",
    ")"
   ]
  },
  {
   "cell_type": "code",
   "execution_count": 7,
   "metadata": {},
   "outputs": [
    {
     "data": {
      "text/html": [
       "<div>\n",
       "<style scoped>\n",
       "    .dataframe tbody tr th:only-of-type {\n",
       "        vertical-align: middle;\n",
       "    }\n",
       "\n",
       "    .dataframe tbody tr th {\n",
       "        vertical-align: top;\n",
       "    }\n",
       "\n",
       "    .dataframe thead th {\n",
       "        text-align: right;\n",
       "    }\n",
       "</style>\n",
       "<table border=\"1\" class=\"dataframe\">\n",
       "  <thead>\n",
       "    <tr style=\"text-align: right;\">\n",
       "      <th></th>\n",
       "      <th></th>\n",
       "      <th>SupervisoryFactor</th>\n",
       "      <th>Correlation</th>\n",
       "      <th>SupervisoryOptionVolatility</th>\n",
       "      <th>HS</th>\n",
       "    </tr>\n",
       "    <tr>\n",
       "      <th>AssetClass</th>\n",
       "      <th>SubClass</th>\n",
       "      <th></th>\n",
       "      <th></th>\n",
       "      <th></th>\n",
       "      <th></th>\n",
       "    </tr>\n",
       "  </thead>\n",
       "  <tbody>\n",
       "    <tr>\n",
       "      <th rowspan=\"3\" valign=\"top\">CO</th>\n",
       "      <th>Metals</th>\n",
       "      <td>0.18</td>\n",
       "      <td>0.40</td>\n",
       "      <td>0.70</td>\n",
       "      <td>Metals</td>\n",
       "    </tr>\n",
       "    <tr>\n",
       "      <th>Other</th>\n",
       "      <td>0.18</td>\n",
       "      <td>0.40</td>\n",
       "      <td>0.70</td>\n",
       "      <td>Other</td>\n",
       "    </tr>\n",
       "    <tr>\n",
       "      <th>Electricity</th>\n",
       "      <td>0.40</td>\n",
       "      <td>0.40</td>\n",
       "      <td>1.50</td>\n",
       "      <td>Energy</td>\n",
       "    </tr>\n",
       "  </tbody>\n",
       "</table>\n",
       "</div>"
      ],
      "text/plain": [
       "                        SupervisoryFactor  Correlation  \\\n",
       "AssetClass SubClass                                      \n",
       "CO         Metals                    0.18         0.40   \n",
       "           Other                     0.18         0.40   \n",
       "           Electricity               0.40         0.40   \n",
       "\n",
       "                        SupervisoryOptionVolatility      HS  \n",
       "AssetClass SubClass                                          \n",
       "CO         Metals                              0.70  Metals  \n",
       "           Other                               0.70   Other  \n",
       "           Electricity                         1.50  Energy  "
      ]
     },
     "execution_count": 7,
     "metadata": {},
     "output_type": "execute_result"
    }
   ],
   "source": [
    "supervisoryParameters_table.head(3)"
   ]
  },
  {
   "cell_type": "markdown",
   "metadata": {},
   "source": [
    "As a next step, I'm creating the cube:"
   ]
  },
  {
   "cell_type": "code",
   "execution_count": 8,
   "metadata": {},
   "outputs": [],
   "source": [
    "cube = session.create_cube(trades_table, \"SA-CCR\", mode=\"no_measures\")"
   ]
  },
  {
   "cell_type": "code",
   "execution_count": 9,
   "metadata": {},
   "outputs": [],
   "source": [
    "h, l, m = cube.hierarchies, cube.levels, cube.measures"
   ]
  },
  {
   "cell_type": "code",
   "execution_count": 10,
   "metadata": {},
   "outputs": [],
   "source": [
    "# Setting the date dimension to slicing, so that measures do not aggregate risk coming from different business dates:\n",
    "h[\"AsOfDate\"].slicing = True"
   ]
  },
  {
   "cell_type": "markdown",
   "metadata": {},
   "source": [
    "Let's display the current data model schema. Later in this notebook we'll extend this data model with additional attributes, but this is the minimum set of fields that we'd need to compute EAD."
   ]
  },
  {
   "cell_type": "code",
   "execution_count": 11,
   "metadata": {},
   "outputs": [
    {
     "data": {
      "image/png": "[encoded data removed]",
      "text/plain": [
       "erDiagram\n",
       "  \"Trades\" {\n",
       "    _ LocalDate PK \"AsOfDate\"\n",
       "    _ String PK \"TradeId\"\n",
       "    _ String \"NettingSetId\"\n",
       "    _ String \"BookId\"\n",
       "    nullable int \"Direction\"\n",
       "    nullable double \"Notional\"\n",
       "    nullable double \"MarketValue\"\n",
       "    _ String \"AssetClass\"\n",
       "    _ String \"SubClass\"\n",
       "    _ String \"OptionType\"\n",
       "    _ String \"Underlying\"\n",
       "    _ LocalDate \"Si_Date\"\n",
       "    _ LocalDate \"Ei_Date\"\n",
       "    _ LocalDate \"Mi_Date\"\n",
       "    _ LocalDate \"Ti_Date\"\n",
       "    nullable double \"Strike Price\"\n",
       "    nullable double \"Underlying Price\"\n",
       "    nullable double \"AttachPoint\"\n",
       "    nullable double \"DetachPoint\"\n",
       "    _ String \"IsCDO\"\n",
       "  }\n",
       "  \"NettingSets\" {\n",
       "    _ LocalDate PK \"AsOfDate\"\n",
       "    _ String PK \"NettingSetId\"\n",
       "    _ String \"CounterpartyId\"\n",
       "    nullable double \"MPOR\"\n",
       "    nullable double \"Collateral\"\n",
       "    _ double \"NICA\"\n",
       "    _ double \"TH\"\n",
       "    _ double \"MTA\"\n",
       "    _ String \"isMargined\"\n",
       "  }\n",
       "  \"Parameters\" {\n",
       "    _ String PK \"AssetClass\"\n",
       "    _ String PK \"SubClass\"\n",
       "    nullable double \"SupervisoryFactor\"\n",
       "    _ double \"Correlation\"\n",
       "    nullable double \"SupervisoryOptionVolatility\"\n",
       "    _ String \"HS\"\n",
       "  }\n",
       "  \"Trades\" }o--o| \"NettingSets\" : \"(`AsOfDate` == `AsOfDate`) & (`NettingSetId` == `NettingSetId`)\"\n",
       "  \"Trades\" }o--o| \"Parameters\" : \"(`AssetClass` == `AssetClass`) & (`SubClass` == `SubClass`)\""
      ]
     },
     "execution_count": 11,
     "metadata": {},
     "output_type": "execute_result"
    }
   ],
   "source": [
    "session.tables.schema"
   ]
  },
  {
   "cell_type": "markdown",
   "metadata": {},
   "source": [
    "# SA-CCR calculations\n",
    "\n",
    "In this section we will create aggregation functions (measures) to compute EAD from the input data described above.\n",
    "\n",
    "We will proceed bottom-up  - starting with the supervisory duration metric, then move onto the trade-level adjusted notional, maturity factors, delta adjustments, addons and the necessary EAD components. \n",
    "\n",
    "We will keep referring to the correponding paragraphs of the [CRE52](https://www.bis.org/basel_framework/chapter/CRE/52.htm?inforce=20191215) as we progress."
   ]
  },
  {
   "cell_type": "markdown",
   "metadata": {},
   "source": [
    "## Supervisory duration - [52.34]"
   ]
  },
  {
   "cell_type": "markdown",
   "metadata": {},
   "source": [
    "In this section we will compute Supervisory Duration per formula defined in CRE52 para [52.34]:\n",
    "\n",
    "$$SupervisoryDuration = max(\\text{10 business days}, \\frac{(e^{-0.05*S_i} - e^{-0.05*E_i})}{0.05})$$ for Credit Spread and Interest Rates. We assume it to be equal to 1 for all other Asset Classes. \n",
    "\n",
    "In this expression, time period parameters are defined in [52.31] as follows:\n",
    "\n",
    "- $S_i$ is the period of time from the valuation date until start of the time period referenced by an interest rate or credit contract\n",
    "- and $E_i$ is the period of time from the valuation date until the end of the time period referenced by an interest rate or credit contract.\n",
    "\n",
    "We will compute them from the Si and Ei dates provided in the input data."
   ]
  },
  {
   "cell_type": "code",
   "execution_count": 12,
   "metadata": {},
   "outputs": [],
   "source": [
    "number_of_days_in_year = 365\n",
    "\n",
    "si_date_diff = (\n",
    "    tt.date_diff(l[\"AsOfDate\"], l[\"Si_Date\"], unit=\"days\") / number_of_days_in_year\n",
    ")\n",
    "ei_date_diff = (\n",
    "    tt.date_diff(l[\"AsOfDate\"], l[\"Ei_Date\"], unit=\"days\") / number_of_days_in_year\n",
    ")\n",
    "\n",
    "# The Si and Ei measures will be computed only for the interest rates and credit spread products.\n",
    "m[\"Si\"] = tt.filter(\n",
    "    si_date_diff,\n",
    "    l[\"AssetClass\"].isin(\"IR\", \"CR_IDX\", \"CR_SN\"),\n",
    ")\n",
    "m[\"Ei\"] = tt.filter(\n",
    "    ei_date_diff,\n",
    "    l[\"AssetClass\"].isin(\"IR\", \"CR_IDX\", \"CR_SN\"),\n",
    ")\n",
    "\n",
    "# Supervisory duration is floored at 10 business dates - see [52.34]\n",
    "supervisory_duration_floor = 10 / 250\n",
    "\n",
    "# The following code will create a measure allowing us to visualize the supervisory duration\n",
    "m[\"Supervisory_Duration\"] = tt.where(\n",
    "    l[\"AssetClass\"].isin(\"IR\", \"CR_IDX\", \"CR_SN\"),\n",
    "    tt.math.max(\n",
    "        (tt.math.exp(-0.05 * m[\"Si\"]) - tt.math.exp(-0.05 * m[\"Ei\"])) / 0.05,\n",
    "        supervisory_duration_floor,\n",
    "    ),\n",
    "    1.0,\n",
    ")\n",
    "m[\"Supervisory_Duration\"].formatter = \"DOUBLE[#0,0000]\""
   ]
  },
  {
   "cell_type": "code",
   "execution_count": 13,
   "metadata": {},
   "outputs": [
    {
     "data": {
      "text/html": [
       "<div>\n",
       "<style scoped>\n",
       "    .dataframe tbody tr th:only-of-type {\n",
       "        vertical-align: middle;\n",
       "    }\n",
       "\n",
       "    .dataframe tbody tr th {\n",
       "        vertical-align: top;\n",
       "    }\n",
       "\n",
       "    .dataframe thead th {\n",
       "        text-align: right;\n",
       "    }\n",
       "</style>\n",
       "<table border=\"1\" class=\"dataframe\">\n",
       "  <thead>\n",
       "    <tr style=\"text-align: right;\">\n",
       "      <th></th>\n",
       "      <th></th>\n",
       "      <th></th>\n",
       "      <th>Supervisory_Duration</th>\n",
       "      <th>Si</th>\n",
       "      <th>Ei</th>\n",
       "    </tr>\n",
       "    <tr>\n",
       "      <th>AssetClass</th>\n",
       "      <th>Si_Date</th>\n",
       "      <th>Ei_Date</th>\n",
       "      <th></th>\n",
       "      <th></th>\n",
       "      <th></th>\n",
       "    </tr>\n",
       "  </thead>\n",
       "  <tbody>\n",
       "    <tr>\n",
       "      <th>CO</th>\n",
       "      <th>2020-01-13</th>\n",
       "      <th>2028-01-13</th>\n",
       "      <td>1.00</td>\n",
       "      <td>&lt;NA&gt;</td>\n",
       "      <td>&lt;NA&gt;</td>\n",
       "    </tr>\n",
       "    <tr>\n",
       "      <th rowspan=\"2\" valign=\"top\">CR_IDX</th>\n",
       "      <th rowspan=\"2\" valign=\"top\">2020-01-13</th>\n",
       "      <th>2025-01-13</th>\n",
       "      <td>4.43</td>\n",
       "      <td>0.00</td>\n",
       "      <td>5.01</td>\n",
       "    </tr>\n",
       "    <tr>\n",
       "      <th>2026-01-13</th>\n",
       "      <td>5.19</td>\n",
       "      <td>0.00</td>\n",
       "      <td>6.01</td>\n",
       "    </tr>\n",
       "  </tbody>\n",
       "</table>\n",
       "</div>"
      ],
      "text/plain": [
       "                                  Supervisory_Duration    Si    Ei\n",
       "AssetClass Si_Date    Ei_Date                                     \n",
       "CO         2020-01-13 2028-01-13                  1.00  <NA>  <NA>\n",
       "CR_IDX     2020-01-13 2025-01-13                  4.43  0.00  5.01\n",
       "                      2026-01-13                  5.19  0.00  6.01"
      ]
     },
     "execution_count": 13,
     "metadata": {},
     "output_type": "execute_result"
    }
   ],
   "source": [
    "# The levels required to compute Supervisory_Duration can be computed __above__ trade level, as\n",
    "# the minimum required attributes are: Si_Date, Ei_Date and AssetClass.\n",
    "cube.query(\n",
    "    m[\"Supervisory_Duration\"],\n",
    "    m[\"Si\"],\n",
    "    m[\"Ei\"],\n",
    "    levels=[l[\"AssetClass\"], l[\"Si_Date\"], l[\"Ei_Date\"]],\n",
    ").head(3)"
   ]
  },
  {
   "cell_type": "markdown",
   "metadata": {},
   "source": [
    "## Trade-level adjusted notional (for trade i): di - [52.34]\n",
    "\n",
    "Having defined the Supervisory Duration measure, we'll apply it to notionals input data to obtain adjusted notional. Please review the paragraphs of the CRE52 [52.33] - [52.34] for more information on the defintinions of these formula.\n",
    "\n",
    "$$AdjustedNotional = Notional * SupervisoryDuration$$"
   ]
  },
  {
   "cell_type": "code",
   "execution_count": 14,
   "metadata": {},
   "outputs": [],
   "source": [
    "# This measure will aggregate input data - Notional Field\n",
    "# We assume that all Notionals are provided in the same currency, otherwise we'd need to apply\n",
    "# FX rates here.\n",
    "m[\"Notional\"] = tt.agg.sum(trades_table[\"Notional\"])"
   ]
  },
  {
   "cell_type": "code",
   "execution_count": 15,
   "metadata": {},
   "outputs": [],
   "source": [
    "# Aggregation is applied per AssetClass, Si_Date and Ei_Dates as these are the levels\n",
    "# required by the Supervisory_Duration calculation.\n",
    "\n",
    "m[\"Adjusted_Notional\"] = tt.agg.sum(\n",
    "    m[\"Notional\"] * m[\"Supervisory_Duration\"],\n",
    "    scope=tt.OriginScope({l[\"AssetClass\"], l[\"Si_Date\"], l[\"Ei_Date\"]}),\n",
    ")"
   ]
  },
  {
   "cell_type": "code",
   "execution_count": 16,
   "metadata": {},
   "outputs": [
    {
     "data": {
      "text/html": [
       "<div>\n",
       "<style scoped>\n",
       "    .dataframe tbody tr th:only-of-type {\n",
       "        vertical-align: middle;\n",
       "    }\n",
       "\n",
       "    .dataframe tbody tr th {\n",
       "        vertical-align: top;\n",
       "    }\n",
       "\n",
       "    .dataframe thead th {\n",
       "        text-align: right;\n",
       "    }\n",
       "</style>\n",
       "<table border=\"1\" class=\"dataframe\">\n",
       "  <thead>\n",
       "    <tr style=\"text-align: right;\">\n",
       "      <th></th>\n",
       "      <th>Adjusted_Notional</th>\n",
       "    </tr>\n",
       "    <tr>\n",
       "      <th>TradeId</th>\n",
       "      <th></th>\n",
       "    </tr>\n",
       "  </thead>\n",
       "  <tbody>\n",
       "    <tr>\n",
       "      <th>t1</th>\n",
       "      <td>30,000,000.00</td>\n",
       "    </tr>\n",
       "    <tr>\n",
       "      <th>t10</th>\n",
       "      <td>18,000,000.00</td>\n",
       "    </tr>\n",
       "    <tr>\n",
       "      <th>t100</th>\n",
       "      <td>9,000.00</td>\n",
       "    </tr>\n",
       "  </tbody>\n",
       "</table>\n",
       "</div>"
      ],
      "text/plain": [
       "         Adjusted_Notional\n",
       "TradeId                   \n",
       "t1           30,000,000.00\n",
       "t10          18,000,000.00\n",
       "t100              9,000.00"
      ]
     },
     "execution_count": 16,
     "metadata": {},
     "output_type": "execute_result"
    }
   ],
   "source": [
    "cube.query(m[\"Adjusted_Notional\"], levels=[l[\"TradeId\"]]).head(3)"
   ]
  },
  {
   "cell_type": "markdown",
   "metadata": {},
   "source": [
    "## Maturity factors - [52.48] - [52.53]\n",
    "\n",
    "The Maturity Factor takes different values, depending on whether the trade is unmargined or margined:\n",
    "\n",
    "unmargined [52.48]:\n",
    "\n",
    "$$MF = \\sqrt{\\frac{min(M_i, 1year)}{1year}}$$\n",
    "\n",
    "margined [52.52]:\n",
    "\n",
    "$$MF = 1.5 * \\sqrt{\\frac{MPOR}{1 year}}$$\n",
    "\n",
    "In the above formulae:\n",
    "\n",
    "- $MPOR$ is the Margin Period Of Risk, provided in the input dataset, let's assume it has been provided in calendar days (not business days)\n",
    "- $M_i$ is the maturity of trade $i$"
   ]
  },
  {
   "cell_type": "code",
   "execution_count": 17,
   "metadata": {},
   "outputs": [],
   "source": [
    "# Measure for the input MPOR values:\n",
    "m[\"MPOR\"] = tt.agg.single_value(nettingSets_table[\"MPOR\"])"
   ]
  },
  {
   "cell_type": "code",
   "execution_count": 18,
   "metadata": {},
   "outputs": [],
   "source": [
    "# This measure will compute date difference depending on the value date and the maturity date:\n",
    "m[\"Mi\"] = tt.date_diff(l[\"AsOfDate\"], l[\"Mi_Date\"], unit=\"days\")\n",
    "\n",
    "# MF_unmargined formula examples takes into account 10 days business days floor for Mi:\n",
    "MF_floor = 10\n",
    "MF_unmargined = tt.math.sqrt(\n",
    "    tt.math.min(tt.math.max(m[\"Mi\"], MF_floor), number_of_days_in_year)\n",
    "    / number_of_days_in_year\n",
    ")\n",
    "\n",
    "# In the following calculation of MF_margined we assume that MPOR is provided in calendar days.\n",
    "# Please note that this formula might need to be adjusted to incorporate floors defined in [52.50].\n",
    "MF_margined = 1.5 * tt.math.sqrt(m[\"MPOR\"] / number_of_days_in_year)\n",
    "\n",
    "\n",
    "# This measure will compute maturity factor, depending on whether the trade is margined or unmargined:\n",
    "m[\"Maturity_Factor\"] = tt.agg.sum(\n",
    "    tt.where(\n",
    "        l[\"isMargined\"] == \"Y\",\n",
    "        MF_margined,\n",
    "        MF_unmargined,\n",
    "    ),\n",
    "    scope=tt.OriginScope({l[\"NettingSetId\"], l[\"isMargined\"]}),\n",
    ")"
   ]
  },
  {
   "cell_type": "code",
   "execution_count": 19,
   "metadata": {
    "scrolled": true
   },
   "outputs": [
    {
     "data": {
      "text/html": [
       "<div>\n",
       "<style scoped>\n",
       "    .dataframe tbody tr th:only-of-type {\n",
       "        vertical-align: middle;\n",
       "    }\n",
       "\n",
       "    .dataframe tbody tr th {\n",
       "        vertical-align: top;\n",
       "    }\n",
       "\n",
       "    .dataframe thead th {\n",
       "        text-align: right;\n",
       "    }\n",
       "</style>\n",
       "<table border=\"1\" class=\"dataframe\">\n",
       "  <thead>\n",
       "    <tr style=\"text-align: right;\">\n",
       "      <th></th>\n",
       "      <th></th>\n",
       "      <th>Maturity_Factor</th>\n",
       "    </tr>\n",
       "    <tr>\n",
       "      <th>NettingSetId</th>\n",
       "      <th>Mi_Date</th>\n",
       "      <th></th>\n",
       "    </tr>\n",
       "  </thead>\n",
       "  <tbody>\n",
       "    <tr>\n",
       "      <th rowspan=\"3\" valign=\"top\">EX1</th>\n",
       "      <th>2021-01-13</th>\n",
       "      <td>1.00</td>\n",
       "    </tr>\n",
       "    <tr>\n",
       "      <th>2022-01-13</th>\n",
       "      <td>1.00</td>\n",
       "    </tr>\n",
       "    <tr>\n",
       "      <th>2023-01-13</th>\n",
       "      <td>1.00</td>\n",
       "    </tr>\n",
       "  </tbody>\n",
       "</table>\n",
       "</div>"
      ],
      "text/plain": [
       "                         Maturity_Factor\n",
       "NettingSetId Mi_Date                    \n",
       "EX1          2021-01-13             1.00\n",
       "             2022-01-13             1.00\n",
       "             2023-01-13             1.00"
      ]
     },
     "execution_count": 19,
     "metadata": {},
     "output_type": "execute_result"
    }
   ],
   "source": [
    "# Maturity Factor requires NettingSetId and the Mi date:\n",
    "cube.query(m[\"Maturity_Factor\"], levels=[l[\"NettingSetId\"], l[\"Mi_Date\"]]).head(3)"
   ]
  },
  {
   "cell_type": "markdown",
   "metadata": {
    "tags": []
   },
   "source": [
    "## Supervisory delta adjustments - [52.38] - [52.41]\n",
    "\n",
    "Supervisory Delta takes different values depending on the nature of the instrument: \n",
    "\n",
    "| $\\delta_i$        | Bought / Long in the primary risk factor                                          | Sold / Short in the primary risk factor                                            |\n",
    "|-------------------|-----------------------------------------------------------------------------------|----------------------------------------------------------------------------------  |\n",
    "| Call Options      | $+ \\Phi(\\frac{ln(P_i / K_i) + 0.5 * \\sigma_i^2 * T_i}{\\sigma_i * \\sqrt{T_i}})$    | $ - \\Phi(\\frac{ln(P_i / K_i) + 0.5 * \\sigma_i^2 * T_i}{\\sigma_i * \\sqrt{T_i}})$    |\n",
    "| Put Options       | $- \\Phi( - \\frac{ln(P_i / K_i) + 0.5 * \\sigma_i^2 * T_i}{\\sigma_i * \\sqrt{T_i}})$ | $ + \\Phi( - \\frac{ln(P_i / K_i) + 0.5 * \\sigma_i^2 * T_i}{\\sigma_i * \\sqrt{T_i}})$ |\n",
    "| CDO tranches      | $+ \\frac{15}{(1+14*A_i)*(1+14*D_i)}$                                              | $- \\frac{15}{(1+14*A_i)*(1+14*D_i)}$                                               |\n",
    "| Other Instruments | $+1$                                                                              | $-1$                                                                               |\n",
    "\n",
    "Where $\\Phi$ is the standard normal cumulative distribution function,\n",
    "\n",
    "- $P_i$ is the Underlying Price of trade $i$,\n",
    "- $K_i$ is the Strike Price of trade $i$,\n",
    "- $\\sigma_i$ is the Supervisory Volatility of trade $i$,\n",
    "- $T_i$ is the latest contractual exercise date of the option $i$\n",
    "- $A_i$ is the Attachment Point of the CDO tranche $i$\n",
    "- and $D_i$ is the Detachment Point of the CDO tranche $i$\n",
    "\n",
    "Delta adjustment will be applied to trade-level effective notional, together with maturity factor to obtain effective notional. We'll define Delta adjustment for any trade as product of:\n",
    "\n",
    "- Long/Short indicator: 1 or -1\n",
    "- Delta adjustment for call options or 1 - `call_multiplier`,\n",
    "- Delta adjustment for put options or 1 - `put_multiplier`,\n",
    "- CDO adjustment or 1 - `cdo_multiplier`.\n",
    "\n",
    "Let's start by adding measures displaying input data:"
   ]
  },
  {
   "cell_type": "code",
   "execution_count": 20,
   "metadata": {},
   "outputs": [],
   "source": [
    "m[\"SupervisoryOptionVolatility.VALUE\"] = tt.where(\n",
    "    ~l[\"TradeId\"].isnull(),\n",
    "    tt.agg.single_value(supervisoryParameters_table[\"SupervisoryOptionVolatility\"]),\n",
    ")"
   ]
  },
  {
   "cell_type": "code",
   "execution_count": 21,
   "metadata": {},
   "outputs": [],
   "source": [
    "# Measures displaying trade parameters (input data):\n",
    "m[\"Underlying Price\"] = tt.where(\n",
    "    ~l[\"TradeId\"].isnull(), tt.agg.single_value(trades_table[\"Underlying Price\"])\n",
    ")\n",
    "m[\"Strike Price\"] = tt.where(\n",
    "    ~l[\"TradeId\"].isnull(), tt.agg.single_value(trades_table[\"Strike Price\"])\n",
    ")\n",
    "m[\"AttachPoint\"] = tt.where(\n",
    "    ~l[\"TradeId\"].isnull(), tt.agg.single_value(trades_table[\"AttachPoint\"])\n",
    ")\n",
    "m[\"DetachPoint\"] = tt.where(\n",
    "    ~l[\"TradeId\"].isnull(), tt.agg.single_value(trades_table[\"DetachPoint\"])\n",
    ")"
   ]
  },
  {
   "cell_type": "markdown",
   "metadata": {},
   "source": [
    "And this measure will display 1/-1 for long/short positions."
   ]
  },
  {
   "cell_type": "code",
   "execution_count": 22,
   "metadata": {},
   "outputs": [],
   "source": [
    "m[\"Direction\"] = tt.agg.single_value(trades_table[\"Direction\"])"
   ]
  },
  {
   "cell_type": "markdown",
   "metadata": {},
   "source": [
    "Let's move onto computing options delta adjustment. To compute time to expiry in years from trade's expiry date attribute, we can use the following syntax:"
   ]
  },
  {
   "cell_type": "code",
   "execution_count": 23,
   "metadata": {},
   "outputs": [],
   "source": [
    "# Computing time period until options' expiry Ti:\n",
    "m[\"Ti\"] = (\n",
    "    tt.date_diff(l[\"AsOfDate\"], l[\"Ti_Date\"], unit=\"days\") / number_of_days_in_year\n",
    ")"
   ]
  },
  {
   "cell_type": "code",
   "execution_count": 24,
   "metadata": {},
   "outputs": [],
   "source": [
    "# We'll wrap the argument of the CDF function into a measure:\n",
    "m[\"d\"] = (\n",
    "    tt.math.log(m[\"Underlying Price\"] / m[\"Strike Price\"])\n",
    "    + 0.5 * (m[\"SupervisoryOptionVolatility.VALUE\"] ** 2) * m[\"Ti\"]\n",
    ") / (m[\"SupervisoryOptionVolatility.VALUE\"] * tt.math.sqrt(m[\"Ti\"]))"
   ]
  },
  {
   "cell_type": "code",
   "execution_count": 25,
   "metadata": {},
   "outputs": [
    {
     "data": {
      "text/html": [
       "<div>\n",
       "<style scoped>\n",
       "    .dataframe tbody tr th:only-of-type {\n",
       "        vertical-align: middle;\n",
       "    }\n",
       "\n",
       "    .dataframe tbody tr th {\n",
       "        vertical-align: top;\n",
       "    }\n",
       "\n",
       "    .dataframe thead th {\n",
       "        text-align: right;\n",
       "    }\n",
       "</style>\n",
       "<table border=\"1\" class=\"dataframe\">\n",
       "  <thead>\n",
       "    <tr style=\"text-align: right;\">\n",
       "      <th></th>\n",
       "      <th></th>\n",
       "      <th>d</th>\n",
       "    </tr>\n",
       "    <tr>\n",
       "      <th>TradeId</th>\n",
       "      <th>Ti_Date</th>\n",
       "      <th></th>\n",
       "    </tr>\n",
       "  </thead>\n",
       "  <tbody>\n",
       "    <tr>\n",
       "      <th>t111</th>\n",
       "      <th>2020-04-13</th>\n",
       "      <td>0.15</td>\n",
       "    </tr>\n",
       "    <tr>\n",
       "      <th>t118</th>\n",
       "      <th>2020-02-13</th>\n",
       "      <td>0.18</td>\n",
       "    </tr>\n",
       "    <tr>\n",
       "      <th>t126</th>\n",
       "      <th>2020-04-13</th>\n",
       "      <td>0.53</td>\n",
       "    </tr>\n",
       "  </tbody>\n",
       "</table>\n",
       "</div>"
      ],
      "text/plain": [
       "                      d\n",
       "TradeId Ti_Date        \n",
       "t111    2020-04-13 0.15\n",
       "t118    2020-02-13 0.18\n",
       "t126    2020-04-13 0.53"
      ]
     },
     "execution_count": 25,
     "metadata": {},
     "output_type": "execute_result"
    }
   ],
   "source": [
    "cube.query(\n",
    "    m[\"d\"],\n",
    "    levels=[l[\"TradeId\"], l[\"Ti_Date\"]],\n",
    "    filter=l[\"OptionType\"].isin(\"C\", \"P\"),\n",
    ").head(3)"
   ]
  },
  {
   "cell_type": "markdown",
   "metadata": {},
   "source": [
    "Finally, the call and put multipliers can be defined as follows:"
   ]
  },
  {
   "cell_type": "code",
   "execution_count": 26,
   "metadata": {},
   "outputs": [],
   "source": [
    "call_multiplier = tt.where(\n",
    "    l[\"OptionType\"] == \"C\",\n",
    "    tt.experimental.stats.normal.cdf(m[\"d\"], mean=0, standard_deviation=1),\n",
    "    1.0,\n",
    ")\n",
    "\n",
    "put_multiplier = tt.where(\n",
    "    l[\"OptionType\"] == \"P\",\n",
    "    -tt.experimental.stats.normal.cdf(-m[\"d\"], mean=0, standard_deviation=1),\n",
    "    1.0,\n",
    ")"
   ]
  },
  {
   "cell_type": "markdown",
   "metadata": {},
   "source": [
    "Using the \"AttachPoint\" and \"DetachPoint\" values, the delta adjustment for CDO positions can be defined as follows:"
   ]
  },
  {
   "cell_type": "code",
   "execution_count": 27,
   "metadata": {},
   "outputs": [],
   "source": [
    "cdo_multiplier = tt.where(\n",
    "    l[\"IsCDO\"] == \"Y\",\n",
    "    15.0 / ((1.0 + 14.0 * m[\"AttachPoint\"]) * (1.0 + 14.0 * m[\"DetachPoint\"])),\n",
    "    1.0,\n",
    ")"
   ]
  },
  {
   "cell_type": "markdown",
   "metadata": {},
   "source": [
    "Using product of the above multipliers we will define the combined Delta Adjustment measure:"
   ]
  },
  {
   "cell_type": "code",
   "execution_count": 28,
   "metadata": {},
   "outputs": [],
   "source": [
    "m[\"Delta_Adjustment\"] = (\n",
    "    m[\"Direction\"] * call_multiplier * put_multiplier * cdo_multiplier\n",
    ")"
   ]
  },
  {
   "cell_type": "markdown",
   "metadata": {},
   "source": [
    "## Trade Effective Notional - [52.30]\n",
    "\n",
    "Bringing the trade effective notional components together and calculating on trade level:"
   ]
  },
  {
   "cell_type": "code",
   "execution_count": 29,
   "metadata": {},
   "outputs": [],
   "source": [
    "m[\"Trade_Effective_Notional\"] = tt.agg.sum(\n",
    "    m[\"Adjusted_Notional\"] * m[\"Delta_Adjustment\"] * m[\"Maturity_Factor\"],\n",
    "    scope=tt.OriginScope(\n",
    "        {\n",
    "            l[\"TradeId\"],\n",
    "            l[\"NettingSetId\"],\n",
    "            l[\"OptionType\"],\n",
    "            l[\"Mi_Date\"],\n",
    "            l[\"IsCDO\"],\n",
    "            l[\"Ti_Date\"],\n",
    "        }\n",
    "    ),\n",
    ")"
   ]
  },
  {
   "cell_type": "code",
   "execution_count": 30,
   "metadata": {},
   "outputs": [
    {
     "data": {
      "text/html": [
       "<div>\n",
       "<style scoped>\n",
       "    .dataframe tbody tr th:only-of-type {\n",
       "        vertical-align: middle;\n",
       "    }\n",
       "\n",
       "    .dataframe tbody tr th {\n",
       "        vertical-align: top;\n",
       "    }\n",
       "\n",
       "    .dataframe thead th {\n",
       "        text-align: right;\n",
       "    }\n",
       "</style>\n",
       "<table border=\"1\" class=\"dataframe\">\n",
       "  <thead>\n",
       "    <tr style=\"text-align: right;\">\n",
       "      <th></th>\n",
       "      <th></th>\n",
       "      <th></th>\n",
       "      <th></th>\n",
       "      <th></th>\n",
       "      <th>Trade_Effective_Notional</th>\n",
       "      <th>Adjusted_Notional</th>\n",
       "      <th>Delta_Adjustment</th>\n",
       "      <th>Maturity_Factor</th>\n",
       "    </tr>\n",
       "    <tr>\n",
       "      <th>TradeId</th>\n",
       "      <th>OptionType</th>\n",
       "      <th>Mi_Date</th>\n",
       "      <th>IsCDO</th>\n",
       "      <th>Ti_Date</th>\n",
       "      <th></th>\n",
       "      <th></th>\n",
       "      <th></th>\n",
       "      <th></th>\n",
       "    </tr>\n",
       "  </thead>\n",
       "  <tbody>\n",
       "    <tr>\n",
       "      <th>t1</th>\n",
       "      <th>N/A</th>\n",
       "      <th>2024-01-13</th>\n",
       "      <th>N</th>\n",
       "      <th>2028-01-13</th>\n",
       "      <td>-30,000,000.00</td>\n",
       "      <td>30,000,000.00</td>\n",
       "      <td>-1.00</td>\n",
       "      <td>1.00</td>\n",
       "    </tr>\n",
       "    <tr>\n",
       "      <th>t10</th>\n",
       "      <th>N/A</th>\n",
       "      <th>2024-01-13</th>\n",
       "      <th>N</th>\n",
       "      <th>2028-01-13</th>\n",
       "      <td>18,000,000.00</td>\n",
       "      <td>18,000,000.00</td>\n",
       "      <td>1.00</td>\n",
       "      <td>1.00</td>\n",
       "    </tr>\n",
       "    <tr>\n",
       "      <th>t100</th>\n",
       "      <th>N/A</th>\n",
       "      <th>2055-01-13</th>\n",
       "      <th>N</th>\n",
       "      <th>2028-01-13</th>\n",
       "      <td>9,000.00</td>\n",
       "      <td>9,000.00</td>\n",
       "      <td>1.00</td>\n",
       "      <td>1.00</td>\n",
       "    </tr>\n",
       "  </tbody>\n",
       "</table>\n",
       "</div>"
      ],
      "text/plain": [
       "                                                Trade_Effective_Notional  \\\n",
       "TradeId OptionType Mi_Date    IsCDO Ti_Date                                \n",
       "t1      N/A        2024-01-13 N     2028-01-13            -30,000,000.00   \n",
       "t10     N/A        2024-01-13 N     2028-01-13             18,000,000.00   \n",
       "t100    N/A        2055-01-13 N     2028-01-13                  9,000.00   \n",
       "\n",
       "                                                Adjusted_Notional  \\\n",
       "TradeId OptionType Mi_Date    IsCDO Ti_Date                         \n",
       "t1      N/A        2024-01-13 N     2028-01-13      30,000,000.00   \n",
       "t10     N/A        2024-01-13 N     2028-01-13      18,000,000.00   \n",
       "t100    N/A        2055-01-13 N     2028-01-13           9,000.00   \n",
       "\n",
       "                                                Delta_Adjustment  \\\n",
       "TradeId OptionType Mi_Date    IsCDO Ti_Date                        \n",
       "t1      N/A        2024-01-13 N     2028-01-13             -1.00   \n",
       "t10     N/A        2024-01-13 N     2028-01-13              1.00   \n",
       "t100    N/A        2055-01-13 N     2028-01-13              1.00   \n",
       "\n",
       "                                                Maturity_Factor  \n",
       "TradeId OptionType Mi_Date    IsCDO Ti_Date                      \n",
       "t1      N/A        2024-01-13 N     2028-01-13             1.00  \n",
       "t10     N/A        2024-01-13 N     2028-01-13             1.00  \n",
       "t100    N/A        2055-01-13 N     2028-01-13             1.00  "
      ]
     },
     "execution_count": 30,
     "metadata": {},
     "output_type": "execute_result"
    }
   ],
   "source": [
    "cube.query(\n",
    "    m[\"Trade_Effective_Notional\"],\n",
    "    m[\"Adjusted_Notional\"],\n",
    "    m[\"Delta_Adjustment\"],\n",
    "    m[\"Maturity_Factor\"],\n",
    "    levels=[\n",
    "        l[\"TradeId\"],\n",
    "        l[\"OptionType\"],\n",
    "        l[\"Mi_Date\"],\n",
    "        l[\"IsCDO\"],\n",
    "        l[\"Ti_Date\"],\n",
    "    ],\n",
    ").head(3)"
   ]
  },
  {
   "cell_type": "markdown",
   "metadata": {},
   "source": [
    "## Asset class level add-ons - [52.55]\n",
    "\n",
    "Having obtained the trade effective notionals reflecting the necessary supervisory adjustments, we can use them to compute AddOns for each of the five asset classes."
   ]
  },
  {
   "cell_type": "markdown",
   "metadata": {},
   "source": [
    "## Add-on for interest rate derivatives - [52.56]\n",
    "\n",
    "The steps for computing $Addon^{IR}$ are set in [52.57].\n",
    "\n",
    "\n",
    "- For Interest Rates, each Hedging Set is defined as currency - in our data model it comes from the field Underlying. \n",
    "- Each hedge set is then separated in maturity buckets depending on $M_i$. If $M_i$ is less than one year, the trade goes in the first Maturity Bucket, if it is between one and five years, the trade goes in the second Maturity Bucket, and if it is more than 5 years the trade goes in the third Maturity Bucket.\n",
    "- In each Maturity Bucket and each Hedging Set, the effective notional is the sum of the Trade Effective Notionals of the trades. \n",
    "\n",
    "The effective notional $EN_{HS}$ of the Hedge Set $HS$ is then determined with the following formula :\n",
    "\n",
    "$$EN_{HS} = ( D_{B1}^2 + D_{B2}^2 + D_{B3}^2 + 1.4 * D_{B1} * D_{B2} + 1.4 * D_{B2} * D_{B3} + 0.6 * D_{B1} * D_{B3} )^{\\frac{1}{2}}$$\n"
   ]
  },
  {
   "cell_type": "code",
   "execution_count": 31,
   "metadata": {},
   "outputs": [],
   "source": [
    "# Step 1 Filtering the trade effective notionals of the Interest rate risk class only:\n",
    "m[\"Effective_notional_IR\"] = tt.filter(\n",
    "    m[\"Trade_Effective_Notional\"], l[\"AssetClass\"] == \"IR\"\n",
    ")"
   ]
  },
  {
   "cell_type": "code",
   "execution_count": 32,
   "metadata": {},
   "outputs": [],
   "source": [
    "# Step 2 Allocating trades into Hedging Sets - for IR we'll use \"RiskFactorCcy\" as Hedging Set."
   ]
  },
  {
   "cell_type": "code",
   "execution_count": 33,
   "metadata": {},
   "outputs": [
    {
     "data": {
      "application/vnd.atoti.convert-mdx-query-result-to-widget.v0+json": {
       "mdx": "SELECT {[Measures].[Effective_notional_IR]} ON COLUMNS FROM [SA-CCR]",
       "sessionId": "1743714589_891125",
       "widgetCreationCode": "session.widget"
      },
      "text/html": [
       "<div>\n",
       "<style scoped>\n",
       "    .dataframe tbody tr th:only-of-type {\n",
       "        vertical-align: middle;\n",
       "    }\n",
       "\n",
       "    .dataframe tbody tr th {\n",
       "        vertical-align: top;\n",
       "    }\n",
       "\n",
       "    .dataframe thead th {\n",
       "        text-align: right;\n",
       "    }\n",
       "</style>\n",
       "<table border=\"1\" class=\"dataframe\">\n",
       "  <thead>\n",
       "    <tr style=\"text-align: right;\">\n",
       "      <th></th>\n",
       "      <th>Effective_notional_IR</th>\n",
       "    </tr>\n",
       "  </thead>\n",
       "  <tbody>\n",
       "    <tr>\n",
       "      <th>0</th>\n",
       "      <td>2,949,671,733.30</td>\n",
       "    </tr>\n",
       "  </tbody>\n",
       "</table>\n",
       "</div>"
      ],
      "text/plain": [
       "  Effective_notional_IR\n",
       "0      2,949,671,733.30"
      ]
     },
     "execution_count": 33,
     "metadata": {},
     "output_type": "execute_result"
    }
   ],
   "source": [
    "cube.query(m[\"Effective_notional_IR\"])"
   ]
  },
  {
   "cell_type": "code",
   "execution_count": 34,
   "metadata": {},
   "outputs": [],
   "source": [
    "# Step 3 Allocating trades into Maturity Buckets and\n",
    "# Step 4 Adding together effective notionals\n",
    "\n",
    "# We use tt.where condition and filtering for the effective notional buckets -  D_B1, D_B2, D_b3\n",
    "# Ei is computed from the Ei_Date attribute, hence we are summing up by Ei_Date.\n",
    "m[\"D_B1\"] = tt.agg.sum(\n",
    "    tt.where(m[\"Ei\"] < 1.0, m[\"Effective_notional_IR\"], 0.0),\n",
    "    scope=tt.OriginScope({l[\"Ei_Date\"]}),\n",
    ")\n",
    "\n",
    "m[\"D_B2\"] = tt.agg.sum(\n",
    "    tt.where((m[\"Ei\"] >= 1.0) & (m[\"Ei\"] < 5.0), m[\"Effective_notional_IR\"], 0.0),\n",
    "    scope=tt.OriginScope({l[\"Ei_Date\"]}),\n",
    ")\n",
    "\n",
    "m[\"D_B3\"] = tt.agg.sum(\n",
    "    tt.where(m[\"Ei\"] >= 5.0, m[\"Effective_notional_IR\"], 0.0),\n",
    "    scope=tt.OriginScope({l[\"Ei_Date\"]}),\n",
    ")"
   ]
  },
  {
   "cell_type": "code",
   "execution_count": 35,
   "metadata": {},
   "outputs": [
    {
     "data": {
      "application/vnd.atoti.convert-mdx-query-result-to-widget.v0+json": {
       "mdx": "SELECT {[Measures].[Effective_notional_IR], [Measures].[D_B1], [Measures].[D_B2], [Measures].[D_B3]} ON COLUMNS FROM [SA-CCR]",
       "sessionId": "1743714589_891125",
       "widgetCreationCode": "session.widget"
      },
      "text/html": [
       "<div>\n",
       "<style scoped>\n",
       "    .dataframe tbody tr th:only-of-type {\n",
       "        vertical-align: middle;\n",
       "    }\n",
       "\n",
       "    .dataframe tbody tr th {\n",
       "        vertical-align: top;\n",
       "    }\n",
       "\n",
       "    .dataframe thead th {\n",
       "        text-align: right;\n",
       "    }\n",
       "</style>\n",
       "<table border=\"1\" class=\"dataframe\">\n",
       "  <thead>\n",
       "    <tr style=\"text-align: right;\">\n",
       "      <th></th>\n",
       "      <th>Effective_notional_IR</th>\n",
       "      <th>D_B1</th>\n",
       "      <th>D_B2</th>\n",
       "      <th>D_B3</th>\n",
       "    </tr>\n",
       "  </thead>\n",
       "  <tbody>\n",
       "    <tr>\n",
       "      <th>0</th>\n",
       "      <td>2,949,671,733.30</td>\n",
       "      <td>629,383.05</td>\n",
       "      <td>.00</td>\n",
       "      <td>2,949,042,350.25</td>\n",
       "    </tr>\n",
       "  </tbody>\n",
       "</table>\n",
       "</div>"
      ],
      "text/plain": [
       "  Effective_notional_IR        D_B1 D_B2              D_B3\n",
       "0      2,949,671,733.30  629,383.05  .00  2,949,042,350.25"
      ]
     },
     "execution_count": 35,
     "metadata": {},
     "output_type": "execute_result"
    }
   ],
   "source": [
    "cube.query(m[\"Effective_notional_IR\"], m[\"D_B1\"], m[\"D_B2\"], m[\"D_B3\"])"
   ]
  },
  {
   "cell_type": "code",
   "execution_count": 36,
   "metadata": {},
   "outputs": [
    {
     "data": {
      "text/html": [
       "<div>\n",
       "<style scoped>\n",
       "    .dataframe tbody tr th:only-of-type {\n",
       "        vertical-align: middle;\n",
       "    }\n",
       "\n",
       "    .dataframe tbody tr th {\n",
       "        vertical-align: top;\n",
       "    }\n",
       "\n",
       "    .dataframe thead th {\n",
       "        text-align: right;\n",
       "    }\n",
       "</style>\n",
       "<table border=\"1\" class=\"dataframe\">\n",
       "  <thead>\n",
       "    <tr style=\"text-align: right;\">\n",
       "      <th></th>\n",
       "      <th></th>\n",
       "      <th>Ei</th>\n",
       "    </tr>\n",
       "    <tr>\n",
       "      <th>TradeId</th>\n",
       "      <th>Ei_Date</th>\n",
       "      <th></th>\n",
       "    </tr>\n",
       "  </thead>\n",
       "  <tbody>\n",
       "    <tr>\n",
       "      <th>t114</th>\n",
       "      <th>2032-01-13</th>\n",
       "      <td>12.01</td>\n",
       "    </tr>\n",
       "    <tr>\n",
       "      <th>t55</th>\n",
       "      <th>2034-01-13</th>\n",
       "      <td>14.01</td>\n",
       "    </tr>\n",
       "    <tr>\n",
       "      <th>t462</th>\n",
       "      <th>2035-01-13</th>\n",
       "      <td>15.01</td>\n",
       "    </tr>\n",
       "  </tbody>\n",
       "</table>\n",
       "</div>"
      ],
      "text/plain": [
       "                      Ei\n",
       "TradeId Ei_Date         \n",
       "t114    2032-01-13 12.01\n",
       "t55     2034-01-13 14.01\n",
       "t462    2035-01-13 15.01"
      ]
     },
     "execution_count": 36,
     "metadata": {},
     "output_type": "execute_result"
    }
   ],
   "source": [
    "cube.query(m[\"Ei\"], levels=[l[\"TradeId\"], l[\"Ei_Date\"]]).sample(3)"
   ]
  },
  {
   "cell_type": "code",
   "execution_count": 37,
   "metadata": {},
   "outputs": [],
   "source": [
    "# Step 5 Calculating effecting notional of the hedging set - and summing them up across hedging sets.\n",
    "# As a reminder, a hedging set is a combination of RiskFactorCcy and Underlying fields for interest rates:\n",
    "\n",
    "m[\"Effective_notional_IR_Offset_Formula\"] = tt.agg.sum(\n",
    "    tt.math.sqrt(\n",
    "        m[\"D_B1\"] ** 2\n",
    "        + m[\"D_B2\"] ** 2\n",
    "        + m[\"D_B3\"] ** 2\n",
    "        + 1.4 * m[\"D_B1\"] * m[\"D_B2\"]\n",
    "        + 1.4 * m[\"D_B2\"] * m[\"D_B3\"]\n",
    "        + 0.6 * m[\"D_B1\"] * m[\"D_B3\"]\n",
    "    ),\n",
    "    scope=tt.OriginScope({l[\"Underlying\"]}),\n",
    ")\n",
    "\n",
    "m[\"Effective_notional_IR_NoOffset_Formula\"] = tt.agg.sum(\n",
    "    tt.math.abs(m[\"D_B1\"]) + tt.math.abs(m[\"D_B2\"]) + tt.math.abs(m[\"D_B3\"]),\n",
    "    scope=tt.OriginScope({l[\"Underlying\"]}),\n",
    ")"
   ]
  },
  {
   "cell_type": "markdown",
   "metadata": {},
   "source": [
    "The Add-On for each hedge set is then simply : \n",
    "\n",
    "$$AddOn_{j}^{(IR)} = SF^{(IR)} * EN_j $$\n",
    "\n",
    "Let's display the Supervisory Factor:"
   ]
  },
  {
   "cell_type": "code",
   "execution_count": 38,
   "metadata": {
    "scrolled": true
   },
   "outputs": [
    {
     "data": {
      "application/vnd.atoti.convert-mdx-query-result-to-widget.v0+json": {
       "mdx": "SELECT {[Measures].[SupervisoryFactor]} ON COLUMNS, NON EMPTY [Trades].[AsOfDate].[AsOfDate].Members ON ROWS FROM [SA-CCR] WHERE [Trades].[AssetClass].[ALL].[AllMember].[IR]",
       "sessionId": "1743714589_891125",
       "widgetCreationCode": "session.widget"
      },
      "text/html": [
       "<div>\n",
       "<style scoped>\n",
       "    .dataframe tbody tr th:only-of-type {\n",
       "        vertical-align: middle;\n",
       "    }\n",
       "\n",
       "    .dataframe tbody tr th {\n",
       "        vertical-align: top;\n",
       "    }\n",
       "\n",
       "    .dataframe thead th {\n",
       "        text-align: right;\n",
       "    }\n",
       "</style>\n",
       "<table border=\"1\" class=\"dataframe\">\n",
       "  <thead>\n",
       "    <tr style=\"text-align: right;\">\n",
       "      <th></th>\n",
       "      <th>SupervisoryFactor</th>\n",
       "    </tr>\n",
       "    <tr>\n",
       "      <th>AsOfDate</th>\n",
       "      <th></th>\n",
       "    </tr>\n",
       "  </thead>\n",
       "  <tbody>\n",
       "    <tr>\n",
       "      <th>2020-01-13</th>\n",
       "      <td>.01</td>\n",
       "    </tr>\n",
       "  </tbody>\n",
       "</table>\n",
       "</div>"
      ],
      "text/plain": [
       "           SupervisoryFactor\n",
       "AsOfDate                    \n",
       "2020-01-13               .01"
      ]
     },
     "execution_count": 38,
     "metadata": {},
     "output_type": "execute_result"
    }
   ],
   "source": [
    "m[\"SupervisoryFactor\"] = tt.where(\n",
    "    ~l[\"AsOfDate\"].isnull(),\n",
    "    tt.agg.single_value(\n",
    "        supervisoryParameters_table[\"SupervisoryFactor\"],\n",
    "    ),\n",
    ")\n",
    "# You may want to further adjust the Supervisory Factor by checking if the trade is a \"basis\" trade\n",
    "# please see [52.46]. In our case, we don't account for that.\n",
    "\n",
    "cube.query(\n",
    "    m[\"SupervisoryFactor\"],\n",
    "    levels=[l[\"AsOfDate\"]],\n",
    "    filter=l[\"AssetClass\"] == \"IR\",\n",
    ")"
   ]
  },
  {
   "cell_type": "markdown",
   "metadata": {},
   "source": [
    "Finally, the AddOn:"
   ]
  },
  {
   "cell_type": "code",
   "execution_count": 39,
   "metadata": {},
   "outputs": [],
   "source": [
    "m[\"AddOn_IR\"] = tt.agg.sum(\n",
    "    m[\"SupervisoryFactor\"] * m[\"Effective_notional_IR_Offset_Formula\"],\n",
    "    scope=tt.OriginScope({l[\"AssetClass\"], l[\"SubClass\"]}),\n",
    ")\n",
    "# Use No Offset Formula here if the bank chose not to recognize netting\n",
    "m[\"AddOn_IR_NoOffset_Formula\"] = tt.agg.sum(\n",
    "    m[\"SupervisoryFactor\"] * m[\"Effective_notional_IR_NoOffset_Formula\"],\n",
    "    scope=tt.OriginScope({l[\"AssetClass\"], l[\"SubClass\"]}),\n",
    ")"
   ]
  },
  {
   "cell_type": "markdown",
   "metadata": {},
   "source": [
    "## Add-on for credit derivatives - [52.60] - [52.64]\n",
    "\n",
    "There is only one Hedge Set for Credit derivatives. In this Hedge Set, the trades are grouped depending on which entity issued them. The Add-On for an entity is the sum of the Trade Effective Notionals of the corresponding trades, multiplied by the Supervisory Factor. The Supervisory Factor depends on the rating of the entity. \n"
   ]
  },
  {
   "cell_type": "code",
   "execution_count": 40,
   "metadata": {},
   "outputs": [],
   "source": [
    "effective_notional_CR = tt.filter(\n",
    "    m[\"Trade_Effective_Notional\"], l[\"AssetClass\"].isin(\"CR_IDX\", \"CR_SN\")\n",
    ")\n",
    "\n",
    "\n",
    "# summing up by AssetClass and SubClass as these are the levels where SupervisoryFactors are defined:\n",
    "m[\"AddOn_CR_per_entity\"] = tt.agg.sum(\n",
    "    m[\"SupervisoryFactor\"] * effective_notional_CR,\n",
    "    scope=tt.OriginScope({l[\"AssetClass\"], l[\"SubClass\"]}),\n",
    ")"
   ]
  },
  {
   "cell_type": "markdown",
   "metadata": {},
   "source": [
    "After determining the AddOn per entity, we can deduce the Credit AddOn with the following formula  - see para [52.61] :\n",
    "\n",
    "$$ AddOn^{Credit} = \\left[\\left(\\sum_{entity} \\rho_{entity} *  AddOn_{entity} \\right)^{2} + \\sum_{entity} (1-(\\rho_{entity})^{2}) *  (AddOn_{entity})^{2} \\right]^{1/2}$$\n",
    "\n",
    "where $\\rho_{entity}$ is the Correlation. It takes different values for names being Credit Single Name or Credit Index."
   ]
  },
  {
   "cell_type": "code",
   "execution_count": 41,
   "metadata": {},
   "outputs": [],
   "source": [
    "m[\"Correlation\"] = tt.where(\n",
    "    ~l[\"AssetClass\"].isnull(),\n",
    "    tt.agg.single_value(supervisoryParameters_table[\"Correlation\"]),\n",
    ")"
   ]
  },
  {
   "cell_type": "code",
   "execution_count": 42,
   "metadata": {},
   "outputs": [
    {
     "data": {
      "application/vnd.atoti.convert-mdx-query-result-to-widget.v0+json": {
       "mdx": "SELECT {[Measures].[Correlation]} ON COLUMNS, NON EMPTY Hierarchize(Descendants({[Trades].[AssetClass].[ALL].[AllMember]}, 1, SELF_AND_BEFORE)) ON ROWS FROM [SA-CCR]",
       "sessionId": "1743714589_891125",
       "widgetCreationCode": "session.widget"
      },
      "text/html": [
       "<div>\n",
       "<style scoped>\n",
       "    .dataframe tbody tr th:only-of-type {\n",
       "        vertical-align: middle;\n",
       "    }\n",
       "\n",
       "    .dataframe tbody tr th {\n",
       "        vertical-align: top;\n",
       "    }\n",
       "\n",
       "    .dataframe thead th {\n",
       "        text-align: right;\n",
       "    }\n",
       "</style>\n",
       "<table border=\"1\" class=\"dataframe\">\n",
       "  <thead>\n",
       "    <tr style=\"text-align: right;\">\n",
       "      <th></th>\n",
       "      <th>Correlation</th>\n",
       "    </tr>\n",
       "    <tr>\n",
       "      <th>AssetClass</th>\n",
       "      <th></th>\n",
       "    </tr>\n",
       "  </thead>\n",
       "  <tbody>\n",
       "    <tr>\n",
       "      <th>CO</th>\n",
       "      <td>.40</td>\n",
       "    </tr>\n",
       "    <tr>\n",
       "      <th>CR_IDX</th>\n",
       "      <td>.80</td>\n",
       "    </tr>\n",
       "    <tr>\n",
       "      <th>CR_SN</th>\n",
       "      <td>.50</td>\n",
       "    </tr>\n",
       "    <tr>\n",
       "      <th>EQ_SN</th>\n",
       "      <td>.50</td>\n",
       "    </tr>\n",
       "    <tr>\n",
       "      <th>FX</th>\n",
       "      <td>.00</td>\n",
       "    </tr>\n",
       "    <tr>\n",
       "      <th>IR</th>\n",
       "      <td>.00</td>\n",
       "    </tr>\n",
       "  </tbody>\n",
       "</table>\n",
       "</div>"
      ],
      "text/plain": [
       "           Correlation\n",
       "AssetClass            \n",
       "CO                 .40\n",
       "CR_IDX             .80\n",
       "CR_SN              .50\n",
       "EQ_SN              .50\n",
       "FX                 .00\n",
       "IR                 .00"
      ]
     },
     "execution_count": 42,
     "metadata": {},
     "output_type": "execute_result"
    }
   ],
   "source": [
    "cube.query(m[\"Correlation\"], levels=[l[\"AssetClass\"]])"
   ]
  },
  {
   "cell_type": "code",
   "execution_count": 43,
   "metadata": {},
   "outputs": [],
   "source": [
    "# The first term of the above formula:\n",
    "AddOn_CR_systematic = (\n",
    "    tt.agg.sum(\n",
    "        m[\"Correlation\"] * m[\"AddOn_CR_per_entity\"],\n",
    "        scope=tt.OriginScope({l[\"Underlying\"], l[\"SubClass\"], l[\"AssetClass\"]}),\n",
    "    )\n",
    "    ** 2\n",
    ")\n",
    "\n",
    "# The second term of the above formula:\n",
    "AddOn_CR_idiosyncratic = tt.agg.sum(\n",
    "    (1.0 - (m[\"Correlation\"] ** 2)) * (m[\"AddOn_CR_per_entity\"] ** 2),\n",
    "    scope=tt.OriginScope({l[\"Underlying\"], l[\"SubClass\"], l[\"AssetClass\"]}),\n",
    ")\n",
    "\n",
    "m[\"AddOn_CR\"] = tt.math.sqrt(AddOn_CR_systematic + AddOn_CR_idiosyncratic)"
   ]
  },
  {
   "cell_type": "markdown",
   "metadata": {},
   "source": [
    "## Add-on for commodity derivatives - [52.69] - [52.71]\n",
    "\n",
    "Commodities are broken down into 4 Hedging Sets (hierarchy \"HS\"): Energy, Metals, Agricultural and Others. Inside these Hedging Sets, the trades are grouped by commodity type - in our data model this is represented by the \"SubClass\" field.\n",
    "\n",
    "The main formulae and step-by-step instruction is provided in the [52.70]:\n",
    "\n",
    "$$ AddOn_{HS}^{CO} = \\left[\\left(\\sum_{CommType} \\rho_{CommType}\\cdot AddOn_{CommType}\\right)^{2} + \\sum_{CommType}  (1-\\rho_{CommType}^2)* AddOn_{CommType}^{2} \\right]^{1/2}$$\n",
    "\n",
    "$$AddOn^{CO} = \\sum_{HS}AddOn_{HS}^{CO}$$\n"
   ]
  },
  {
   "cell_type": "code",
   "execution_count": 44,
   "metadata": {},
   "outputs": [],
   "source": [
    "# Step 3 Calculate the combined effective notional\n",
    "effective_notional_CO = tt.filter(\n",
    "    m[\"Trade_Effective_Notional\"], l[\"AssetClass\"] == \"CO\"\n",
    ")\n",
    "\n",
    "# Step 4 Calculate the add-on for each commodity type\n",
    "AddOn_CommType = tt.agg.sum(\n",
    "    m[\"SupervisoryFactor\"] * effective_notional_CO,\n",
    "    scope=tt.OriginScope({l[\"AssetClass\"], l[\"SubClass\"]}),\n",
    ")"
   ]
  },
  {
   "cell_type": "code",
   "execution_count": 45,
   "metadata": {},
   "outputs": [],
   "source": [
    "# Step 5\n",
    "# The first term of the above formula:\n",
    "AddOn_CO_systematic = (\n",
    "    tt.agg.sum(\n",
    "        m[\"Correlation\"] * AddOn_CommType,\n",
    "        scope=tt.OriginScope({l[\"SubClass\"], l[\"AssetClass\"]}),\n",
    "    )\n",
    "    ** 2\n",
    ")\n",
    "\n",
    "# The second term of the above formula:\n",
    "AddOn_CO_idiosyncratic = tt.agg.sum(\n",
    "    (1.0 - (m[\"Correlation\"] ** 2)) * (AddOn_CommType**2),\n",
    "    scope=tt.OriginScope({l[\"SubClass\"], l[\"AssetClass\"]}),\n",
    ")\n",
    "\n",
    "# Generic measure computing the product\n",
    "AddOn_CO_HS = tt.math.sqrt(AddOn_CO_systematic + AddOn_CO_idiosyncratic)\n",
    "\n",
    "# Add on as a sum of products over all hedging sets\n",
    "m[\"AddOn_CO\"] = tt.agg.sum(AddOn_CO_HS, scope=tt.OriginScope({l[\"HS\"]}))"
   ]
  },
  {
   "cell_type": "code",
   "execution_count": 46,
   "metadata": {},
   "outputs": [
    {
     "data": {
      "application/vnd.atoti.convert-mdx-query-result-to-widget.v0+json": {
       "mdx": "SELECT {[Measures].[AddOn_CO]} ON COLUMNS, NON EMPTY Hierarchize(Descendants({[Parameters].[HS].[ALL].[AllMember]}, 1, SELF_AND_BEFORE)) ON ROWS FROM [SA-CCR]",
       "sessionId": "1743714589_891125",
       "widgetCreationCode": "session.widget"
      },
      "text/html": [
       "<div>\n",
       "<style scoped>\n",
       "    .dataframe tbody tr th:only-of-type {\n",
       "        vertical-align: middle;\n",
       "    }\n",
       "\n",
       "    .dataframe tbody tr th {\n",
       "        vertical-align: top;\n",
       "    }\n",
       "\n",
       "    .dataframe thead th {\n",
       "        text-align: right;\n",
       "    }\n",
       "</style>\n",
       "<table border=\"1\" class=\"dataframe\">\n",
       "  <thead>\n",
       "    <tr style=\"text-align: right;\">\n",
       "      <th></th>\n",
       "      <th>AddOn_CO</th>\n",
       "    </tr>\n",
       "    <tr>\n",
       "      <th>HS</th>\n",
       "      <th></th>\n",
       "    </tr>\n",
       "  </thead>\n",
       "  <tbody>\n",
       "    <tr>\n",
       "      <th>Agricultural</th>\n",
       "      <td>6,120,000.00</td>\n",
       "    </tr>\n",
       "    <tr>\n",
       "      <th>Energy</th>\n",
       "      <td>43,007,147.78</td>\n",
       "    </tr>\n",
       "    <tr>\n",
       "      <th>Metals</th>\n",
       "      <td>10,154,326.76</td>\n",
       "    </tr>\n",
       "    <tr>\n",
       "      <th>Other</th>\n",
       "      <td>12,084,520.96</td>\n",
       "    </tr>\n",
       "  </tbody>\n",
       "</table>\n",
       "</div>"
      ],
      "text/plain": [
       "                   AddOn_CO\n",
       "HS                         \n",
       "Agricultural   6,120,000.00\n",
       "Energy        43,007,147.78\n",
       "Metals        10,154,326.76\n",
       "Other         12,084,520.96"
      ]
     },
     "execution_count": 46,
     "metadata": {},
     "output_type": "execute_result"
    }
   ],
   "source": [
    "cube.query(m[\"AddOn_CO\"], levels=[l[\"HS\"]])"
   ]
  },
  {
   "cell_type": "markdown",
   "metadata": {},
   "source": [
    "## Add-on for foreign exchange derivatives - [52.58] - [52.59]\n",
    "\n",
    "Step-by-step instruction for calculating $AddOn^{FX}$ are provided in the [52.59]. Hedging sets - are different currency pairs, which can be found in the field \"Underlying\" in our data model.\n",
    "\n",
    "Let's jump to Step 4 and compute $AddOn_{HS}^{FX} = | EN_{HS} | \\cdot SF$"
   ]
  },
  {
   "cell_type": "code",
   "execution_count": 47,
   "metadata": {},
   "outputs": [],
   "source": [
    "EN_HS_FX = tt.filter(\n",
    "    m[\"Trade_Effective_Notional\"],\n",
    "    l[\"AssetClass\"] == \"FX\",\n",
    ")\n",
    "\n",
    "\n",
    "# Step 5: Sum up across absolute values of EN_HS multiplied by supervisory factor by currency pairs:\n",
    "m[\"AddOn_FX\"] = tt.agg.sum(\n",
    "    tt.math.abs(EN_HS_FX) * m[\"SupervisoryFactor\"],\n",
    "    scope=tt.OriginScope({l[\"Underlying\"]}),\n",
    ")"
   ]
  },
  {
   "cell_type": "code",
   "execution_count": 48,
   "metadata": {},
   "outputs": [
    {
     "data": {
      "text/html": [
       "<div>\n",
       "<style scoped>\n",
       "    .dataframe tbody tr th:only-of-type {\n",
       "        vertical-align: middle;\n",
       "    }\n",
       "\n",
       "    .dataframe tbody tr th {\n",
       "        vertical-align: top;\n",
       "    }\n",
       "\n",
       "    .dataframe thead th {\n",
       "        text-align: right;\n",
       "    }\n",
       "</style>\n",
       "<table border=\"1\" class=\"dataframe\">\n",
       "  <thead>\n",
       "    <tr style=\"text-align: right;\">\n",
       "      <th></th>\n",
       "      <th>AddOn_FX</th>\n",
       "      <th>Trade_Effective_Notional</th>\n",
       "      <th>SupervisoryFactor</th>\n",
       "    </tr>\n",
       "    <tr>\n",
       "      <th>Underlying</th>\n",
       "      <th></th>\n",
       "      <th></th>\n",
       "      <th></th>\n",
       "    </tr>\n",
       "  </thead>\n",
       "  <tbody>\n",
       "    <tr>\n",
       "      <th>GBPJPY</th>\n",
       "      <td>1,000,000.00</td>\n",
       "      <td>25,000,000.00</td>\n",
       "      <td>0.04</td>\n",
       "    </tr>\n",
       "    <tr>\n",
       "      <th>USDJPY</th>\n",
       "      <td>2,200,000.00</td>\n",
       "      <td>55,000,000.00</td>\n",
       "      <td>0.04</td>\n",
       "    </tr>\n",
       "    <tr>\n",
       "      <th>JPYUSD</th>\n",
       "      <td>2,127,022.47</td>\n",
       "      <td>53,175,561.72</td>\n",
       "      <td>0.04</td>\n",
       "    </tr>\n",
       "  </tbody>\n",
       "</table>\n",
       "</div>"
      ],
      "text/plain": [
       "               AddOn_FX  Trade_Effective_Notional  SupervisoryFactor\n",
       "Underlying                                                          \n",
       "GBPJPY     1,000,000.00             25,000,000.00               0.04\n",
       "USDJPY     2,200,000.00             55,000,000.00               0.04\n",
       "JPYUSD     2,127,022.47             53,175,561.72               0.04"
      ]
     },
     "execution_count": 48,
     "metadata": {},
     "output_type": "execute_result"
    }
   ],
   "source": [
    "cube.query(\n",
    "    m[\"AddOn_FX\"],\n",
    "    m[\"Trade_Effective_Notional\"],\n",
    "    m[\"SupervisoryFactor\"],\n",
    "    levels=[l[\"Underlying\"]],\n",
    "    filter=l[\"AssetClass\"] == \"FX\",\n",
    ").sample(3)"
   ]
  },
  {
   "cell_type": "markdown",
   "metadata": {},
   "source": [
    "## Add-on for equity derivatives - [52.65] - [52.68]\n",
    "\n",
    "Equity Add-On is determined in the same way as Credit Add-On. The trades are grouped under a single Hedge Set, and grouped by entity inside. However, the supervisory factor no longer depends on the rating of the entity but rather on wether the trade's Asset Class is Equity Index or Equity Single Name. The formula for the Equity Addon is defined in para [52.66]:\n",
    "\n",
    "\n",
    "$$ AddOn^{Equity} = \\left[\\left(\\sum_{entity} \\rho_{entity}\\cdot AddOn_{entity}\\right)^{2} + \\sum_{entity}  (1-\\rho_{entity}^2)* AddOn_{entity}^{2} \\right]^{1/2}$$\n",
    "\n",
    "\n",
    "\n",
    "where $\\rho_{k}$ is the correlation factor corresponding to entity k\n"
   ]
  },
  {
   "cell_type": "code",
   "execution_count": 49,
   "metadata": {},
   "outputs": [],
   "source": [
    "AddOn_EQ_entity = tt.filter(\n",
    "    m[\"SupervisoryFactor\"] * m[\"Trade_Effective_Notional\"],\n",
    "    l[\"AssetClass\"].isin(\"EQ_SN\", \"EQ_IDX\"),\n",
    ")"
   ]
  },
  {
   "cell_type": "code",
   "execution_count": 50,
   "metadata": {},
   "outputs": [],
   "source": [
    "AddOn_EQ_systematic = tt.agg.sum(\n",
    "    (m[\"Correlation\"] * AddOn_EQ_entity) ** 2,\n",
    "    scope=tt.OriginScope({l[\"Underlying\"]}),\n",
    ")\n",
    "\n",
    "AddOn_EQ_idiosyncratic = tt.agg.sum(\n",
    "    (1.0 - (m[\"Correlation\"] ** 2)) * (AddOn_EQ_entity**2),\n",
    "    scope=tt.OriginScope({l[\"Underlying\"]}),\n",
    ")\n",
    "\n",
    "m[\"AddOn_EQ\"] = tt.math.sqrt(AddOn_EQ_systematic + AddOn_EQ_idiosyncratic)"
   ]
  },
  {
   "cell_type": "code",
   "execution_count": 51,
   "metadata": {},
   "outputs": [
    {
     "data": {
      "application/vnd.atoti.convert-mdx-query-result-to-widget.v0+json": {
       "mdx": "SELECT {[Measures].[AddOn_EQ]} ON COLUMNS FROM [SA-CCR]",
       "sessionId": "1743714589_891125",
       "widgetCreationCode": "session.widget"
      },
      "text/html": [
       "<div>\n",
       "<style scoped>\n",
       "    .dataframe tbody tr th:only-of-type {\n",
       "        vertical-align: middle;\n",
       "    }\n",
       "\n",
       "    .dataframe tbody tr th {\n",
       "        vertical-align: top;\n",
       "    }\n",
       "\n",
       "    .dataframe thead th {\n",
       "        text-align: right;\n",
       "    }\n",
       "</style>\n",
       "<table border=\"1\" class=\"dataframe\">\n",
       "  <thead>\n",
       "    <tr style=\"text-align: right;\">\n",
       "      <th></th>\n",
       "      <th>AddOn_EQ</th>\n",
       "    </tr>\n",
       "  </thead>\n",
       "  <tbody>\n",
       "    <tr>\n",
       "      <th>0</th>\n",
       "      <td>21,117.42</td>\n",
       "    </tr>\n",
       "  </tbody>\n",
       "</table>\n",
       "</div>"
      ],
      "text/plain": [
       "    AddOn_EQ\n",
       "0  21,117.42"
      ]
     },
     "execution_count": 51,
     "metadata": {},
     "output_type": "execute_result"
    }
   ],
   "source": [
    "cube.query(m[\"AddOn_EQ\"])"
   ]
  },
  {
   "cell_type": "markdown",
   "metadata": {},
   "source": [
    "## Aggregate add-on - [52.24]\n",
    "\n",
    "The Add-on aggregate is simply the sum of all five Asset Class Add-Ons:"
   ]
  },
  {
   "cell_type": "code",
   "execution_count": 52,
   "metadata": {},
   "outputs": [],
   "source": [
    "# This measure will be displaying aggregate AddOn\n",
    "m[\"AddOn\"] = (\n",
    "    m[\"AddOn_CR\"] + m[\"AddOn_IR\"] + m[\"AddOn_CO\"] + m[\"AddOn_FX\"] + m[\"AddOn_EQ\"]\n",
    ")"
   ]
  },
  {
   "cell_type": "code",
   "execution_count": 53,
   "metadata": {},
   "outputs": [
    {
     "data": {
      "application/vnd.atoti.convert-mdx-query-result-to-widget.v0+json": {
       "mdx": "SELECT {[Measures].[AddOn], [Measures].[AddOn_CR], [Measures].[AddOn_IR], [Measures].[AddOn_CO], [Measures].[AddOn_FX], [Measures].[AddOn_EQ]} ON COLUMNS FROM [SA-CCR]",
       "sessionId": "1743714589_891125",
       "widgetCreationCode": "session.widget"
      },
      "text/html": [
       "<div>\n",
       "<style scoped>\n",
       "    .dataframe tbody tr th:only-of-type {\n",
       "        vertical-align: middle;\n",
       "    }\n",
       "\n",
       "    .dataframe tbody tr th {\n",
       "        vertical-align: top;\n",
       "    }\n",
       "\n",
       "    .dataframe thead th {\n",
       "        text-align: right;\n",
       "    }\n",
       "</style>\n",
       "<table border=\"1\" class=\"dataframe\">\n",
       "  <thead>\n",
       "    <tr style=\"text-align: right;\">\n",
       "      <th></th>\n",
       "      <th>AddOn</th>\n",
       "      <th>AddOn_CR</th>\n",
       "      <th>AddOn_IR</th>\n",
       "      <th>AddOn_CO</th>\n",
       "      <th>AddOn_FX</th>\n",
       "      <th>AddOn_EQ</th>\n",
       "    </tr>\n",
       "  </thead>\n",
       "  <tbody>\n",
       "    <tr>\n",
       "      <th>0</th>\n",
       "      <td>337,264,378.54</td>\n",
       "      <td>189,030,872.50</td>\n",
       "      <td>18,489,820.57</td>\n",
       "      <td>71,365,995.50</td>\n",
       "      <td>58,356,572.54</td>\n",
       "      <td>21,117.42</td>\n",
       "    </tr>\n",
       "  </tbody>\n",
       "</table>\n",
       "</div>"
      ],
      "text/plain": [
       "            AddOn        AddOn_CR       AddOn_IR       AddOn_CO  \\\n",
       "0  337,264,378.54  189,030,872.50  18,489,820.57  71,365,995.50   \n",
       "\n",
       "        AddOn_FX   AddOn_EQ  \n",
       "0  58,356,572.54  21,117.42  "
      ]
     },
     "execution_count": 53,
     "metadata": {},
     "output_type": "execute_result"
    }
   ],
   "source": [
    "cube.query(\n",
    "    m[\"AddOn\"],\n",
    "    m[\"AddOn_CR\"],\n",
    "    m[\"AddOn_IR\"],\n",
    "    m[\"AddOn_CO\"],\n",
    "    m[\"AddOn_FX\"],\n",
    "    m[\"AddOn_EQ\"],\n",
    ")"
   ]
  },
  {
   "cell_type": "markdown",
   "metadata": {},
   "source": [
    "## Multiplier - [52.23]\n",
    "\n",
    "In this section we will compute the multiplier, defined per formula:\n",
    "    \n",
    "$$multiplier = min(1, Floor + (1-Floor)*exp(\\frac{V-C}{2*(1-Floor)*AddOn^{aggregate}}))$$ \n",
    "\n",
    "(where $Floor = 0.05$ is another fixed parameter)"
   ]
  },
  {
   "cell_type": "code",
   "execution_count": 54,
   "metadata": {},
   "outputs": [],
   "source": [
    "# Let's display V - value of the positions:\n",
    "m[\"MarketValue\"] = tt.agg.sum(trades_table[\"MarketValue\"])\n",
    "\n",
    "# Let's also display C - value of collateral (after haircut) - from the input data\n",
    "m[\"Collateral\"] = tt.agg.sum(nettingSets_table[\"Collateral\"])"
   ]
  },
  {
   "cell_type": "code",
   "execution_count": 55,
   "metadata": {},
   "outputs": [],
   "source": [
    "floor = 0.05\n",
    "alpha = 1.4\n",
    "m[\"Multiplier\"] = tt.agg.sum(\n",
    "    tt.math.min(\n",
    "        1.0,\n",
    "        floor\n",
    "        + (1 - floor)\n",
    "        * tt.math.exp(\n",
    "            (m[\"MarketValue\"] - m[\"Collateral\"]) / (2 * (1 - floor) * m[\"AddOn\"])\n",
    "        ),\n",
    "    ),\n",
    "    scope=tt.OriginScope({l[\"NettingSetId\"]}),\n",
    ")"
   ]
  },
  {
   "cell_type": "code",
   "execution_count": 56,
   "metadata": {},
   "outputs": [
    {
     "data": {
      "text/html": [
       "<div>\n",
       "<style scoped>\n",
       "    .dataframe tbody tr th:only-of-type {\n",
       "        vertical-align: middle;\n",
       "    }\n",
       "\n",
       "    .dataframe tbody tr th {\n",
       "        vertical-align: top;\n",
       "    }\n",
       "\n",
       "    .dataframe thead th {\n",
       "        text-align: right;\n",
       "    }\n",
       "</style>\n",
       "<table border=\"1\" class=\"dataframe\">\n",
       "  <thead>\n",
       "    <tr style=\"text-align: right;\">\n",
       "      <th></th>\n",
       "      <th>Multiplier</th>\n",
       "    </tr>\n",
       "    <tr>\n",
       "      <th>NettingSetId</th>\n",
       "      <th></th>\n",
       "    </tr>\n",
       "  </thead>\n",
       "  <tbody>\n",
       "    <tr>\n",
       "      <th>EX9</th>\n",
       "      <td>1.00</td>\n",
       "    </tr>\n",
       "    <tr>\n",
       "      <th>EX6</th>\n",
       "      <td>1.00</td>\n",
       "    </tr>\n",
       "    <tr>\n",
       "      <th>EX2</th>\n",
       "      <td>1.00</td>\n",
       "    </tr>\n",
       "  </tbody>\n",
       "</table>\n",
       "</div>"
      ],
      "text/plain": [
       "              Multiplier\n",
       "NettingSetId            \n",
       "EX9                 1.00\n",
       "EX6                 1.00\n",
       "EX2                 1.00"
      ]
     },
     "execution_count": 56,
     "metadata": {},
     "output_type": "execute_result"
    }
   ],
   "source": [
    "cube.query(m[\"Multiplier\"], levels=[l[\"NettingSetId\"]]).sample(3)"
   ]
  },
  {
   "cell_type": "markdown",
   "metadata": {},
   "source": [
    "## PFE add-on for each netting set - [52.20]\n",
    "\n",
    "Having defined the aggregate AddOn and the multiplier, the PFE is obtained per formula: $PFE = multiplier * AddOn^{aggregate}$  - which is computed for each netting set and then summed up."
   ]
  },
  {
   "cell_type": "code",
   "execution_count": 57,
   "metadata": {},
   "outputs": [],
   "source": [
    "m[\"PFE\"] = tt.agg.sum(\n",
    "    m[\"Multiplier\"] * m[\"AddOn\"], scope=tt.OriginScope({l[\"NettingSetId\"]})\n",
    ")"
   ]
  },
  {
   "cell_type": "code",
   "execution_count": 58,
   "metadata": {},
   "outputs": [
    {
     "data": {
      "application/vnd.atoti.convert-mdx-query-result-to-widget.v0+json": {
       "mdx": "SELECT {[Measures].[PFE]} ON COLUMNS FROM [SA-CCR]",
       "sessionId": "1743714589_891125",
       "widgetCreationCode": "session.widget"
      },
      "text/html": [
       "<div>\n",
       "<style scoped>\n",
       "    .dataframe tbody tr th:only-of-type {\n",
       "        vertical-align: middle;\n",
       "    }\n",
       "\n",
       "    .dataframe tbody tr th {\n",
       "        vertical-align: top;\n",
       "    }\n",
       "\n",
       "    .dataframe thead th {\n",
       "        text-align: right;\n",
       "    }\n",
       "</style>\n",
       "<table border=\"1\" class=\"dataframe\">\n",
       "  <thead>\n",
       "    <tr style=\"text-align: right;\">\n",
       "      <th></th>\n",
       "      <th>PFE</th>\n",
       "    </tr>\n",
       "  </thead>\n",
       "  <tbody>\n",
       "    <tr>\n",
       "      <th>0</th>\n",
       "      <td>637,681,350.88</td>\n",
       "    </tr>\n",
       "  </tbody>\n",
       "</table>\n",
       "</div>"
      ],
      "text/plain": [
       "              PFE\n",
       "0  637,681,350.88"
      ]
     },
     "execution_count": 58,
     "metadata": {},
     "output_type": "execute_result"
    }
   ],
   "source": [
    "cube.query(m[\"PFE\"])"
   ]
  },
  {
   "cell_type": "markdown",
   "metadata": {},
   "source": [
    "## Replacement cost - [52.10] - [52.18]\n",
    "\n",
    "The Replacement Cost is $RC = max(V-C,0)$  for unmargined transactions and $RC = max(V-C, TH + MTA - NICA, 0)$. \n",
    "\n",
    "In this formula:\n",
    "\n",
    "- $V$ is the market value of derivative transactions, \n",
    "- $C$ is the haircut value of net collateral held (if any)), \n",
    "- TH - positive threshold before the counterparty must send the bank collateral, \n",
    "- MTA - minimum transfer amount applicable to the counterparty, \n",
    "- NICA - net independent collateral amount."
   ]
  },
  {
   "cell_type": "code",
   "execution_count": 59,
   "metadata": {},
   "outputs": [
    {
     "data": {
      "application/vnd.atoti.convert-mdx-query-result-to-widget.v0+json": {
       "mdx": "SELECT {[Measures].[TH], [Measures].[MTA], [Measures].[NICA]} ON COLUMNS, NON EMPTY Hierarchize(Descendants({[Trades].[NettingSetId].[ALL].[AllMember]}, 1, SELF_AND_BEFORE)) ON ROWS FROM [SA-CCR]",
       "sessionId": "1743714589_891125",
       "widgetCreationCode": "session.widget"
      },
      "text/html": [
       "<div>\n",
       "<style scoped>\n",
       "    .dataframe tbody tr th:only-of-type {\n",
       "        vertical-align: middle;\n",
       "    }\n",
       "\n",
       "    .dataframe tbody tr th {\n",
       "        vertical-align: top;\n",
       "    }\n",
       "\n",
       "    .dataframe thead th {\n",
       "        text-align: right;\n",
       "    }\n",
       "</style>\n",
       "<table border=\"1\" class=\"dataframe\">\n",
       "  <thead>\n",
       "    <tr style=\"text-align: right;\">\n",
       "      <th></th>\n",
       "      <th>TH</th>\n",
       "      <th>MTA</th>\n",
       "      <th>NICA</th>\n",
       "    </tr>\n",
       "    <tr>\n",
       "      <th>NettingSetId</th>\n",
       "      <th></th>\n",
       "      <th></th>\n",
       "      <th></th>\n",
       "    </tr>\n",
       "  </thead>\n",
       "  <tbody>\n",
       "    <tr>\n",
       "      <th>EX1</th>\n",
       "      <td>.00</td>\n",
       "      <td>.00</td>\n",
       "      <td>.00</td>\n",
       "    </tr>\n",
       "    <tr>\n",
       "      <th>EX10</th>\n",
       "      <td>.00</td>\n",
       "      <td>5,000.00</td>\n",
       "      <td>170,388.00</td>\n",
       "    </tr>\n",
       "    <tr>\n",
       "      <th>EX2</th>\n",
       "      <td>.00</td>\n",
       "      <td>.00</td>\n",
       "      <td>.00</td>\n",
       "    </tr>\n",
       "    <tr>\n",
       "      <th>EX3</th>\n",
       "      <td>.00</td>\n",
       "      <td>.00</td>\n",
       "      <td>.00</td>\n",
       "    </tr>\n",
       "    <tr>\n",
       "      <th>EX4</th>\n",
       "      <td>.00</td>\n",
       "      <td>.00</td>\n",
       "      <td>.00</td>\n",
       "    </tr>\n",
       "    <tr>\n",
       "      <th>EX5</th>\n",
       "      <td>.00</td>\n",
       "      <td>.00</td>\n",
       "      <td>.00</td>\n",
       "    </tr>\n",
       "    <tr>\n",
       "      <th>EX6</th>\n",
       "      <td>.00</td>\n",
       "      <td>.00</td>\n",
       "      <td>.00</td>\n",
       "    </tr>\n",
       "    <tr>\n",
       "      <th>EX7</th>\n",
       "      <td>.00</td>\n",
       "      <td>.00</td>\n",
       "      <td>.00</td>\n",
       "    </tr>\n",
       "    <tr>\n",
       "      <th>EX8</th>\n",
       "      <td>.00</td>\n",
       "      <td>.00</td>\n",
       "      <td>.00</td>\n",
       "    </tr>\n",
       "    <tr>\n",
       "      <th>EX9</th>\n",
       "      <td>.00</td>\n",
       "      <td>.00</td>\n",
       "      <td>.00</td>\n",
       "    </tr>\n",
       "  </tbody>\n",
       "</table>\n",
       "</div>"
      ],
      "text/plain": [
       "               TH       MTA        NICA\n",
       "NettingSetId                           \n",
       "EX1           .00       .00         .00\n",
       "EX10          .00  5,000.00  170,388.00\n",
       "EX2           .00       .00         .00\n",
       "EX3           .00       .00         .00\n",
       "EX4           .00       .00         .00\n",
       "EX5           .00       .00         .00\n",
       "EX6           .00       .00         .00\n",
       "EX7           .00       .00         .00\n",
       "EX8           .00       .00         .00\n",
       "EX9           .00       .00         .00"
      ]
     },
     "execution_count": 59,
     "metadata": {},
     "output_type": "execute_result"
    }
   ],
   "source": [
    "# Let's start by disaplying TH, MTA and NICA parameters of netting sets:\n",
    "m[\"TH\"] = tt.agg.single_value(nettingSets_table[\"TH\"])\n",
    "m[\"MTA\"] = tt.agg.single_value(nettingSets_table[\"MTA\"])\n",
    "m[\"NICA\"] = tt.agg.single_value(nettingSets_table[\"NICA\"])\n",
    "cube.query(m[\"TH\"], m[\"MTA\"], m[\"NICA\"], levels=[l[\"NettingSetId\"]])"
   ]
  },
  {
   "cell_type": "code",
   "execution_count": 60,
   "metadata": {},
   "outputs": [],
   "source": [
    "RC_unmargined = tt.math.max(m[\"MarketValue\"] - m[\"Collateral\"], 0)\n",
    "\n",
    "RC_margined = tt.math.max(\n",
    "    m[\"MarketValue\"] - m[\"Collateral\"],\n",
    "    m[\"TH\"] + m[\"MTA\"] - m[\"NICA\"],\n",
    "    0,\n",
    ")\n",
    "\n",
    "m[\"RC\"] = tt.agg.sum(\n",
    "    tt.where(\n",
    "        l[\"isMargined\"] == \"Y\",\n",
    "        RC_margined,\n",
    "        RC_unmargined,\n",
    "    ),\n",
    "    scope=tt.OriginScope({l[\"NettingSetId\"], l[\"isMargined\"]}),\n",
    ")"
   ]
  },
  {
   "cell_type": "code",
   "execution_count": 61,
   "metadata": {},
   "outputs": [
    {
     "data": {
      "application/vnd.atoti.convert-mdx-query-result-to-widget.v0+json": {
       "mdx": "SELECT {[Measures].[RC], [Measures].[MarketValue], [Measures].[Collateral]} ON COLUMNS, NON EMPTY Hierarchize(Descendants({[NettingSets].[isMargined].[ALL].[AllMember]}, 1, SELF_AND_BEFORE)) ON ROWS FROM [SA-CCR]",
       "sessionId": "1743714589_891125",
       "widgetCreationCode": "session.widget"
      },
      "text/html": [
       "<div>\n",
       "<style scoped>\n",
       "    .dataframe tbody tr th:only-of-type {\n",
       "        vertical-align: middle;\n",
       "    }\n",
       "\n",
       "    .dataframe tbody tr th {\n",
       "        vertical-align: top;\n",
       "    }\n",
       "\n",
       "    .dataframe thead th {\n",
       "        text-align: right;\n",
       "    }\n",
       "</style>\n",
       "<table border=\"1\" class=\"dataframe\">\n",
       "  <thead>\n",
       "    <tr style=\"text-align: right;\">\n",
       "      <th></th>\n",
       "      <th>RC</th>\n",
       "      <th>MarketValue</th>\n",
       "      <th>Collateral</th>\n",
       "    </tr>\n",
       "    <tr>\n",
       "      <th>isMargined</th>\n",
       "      <th></th>\n",
       "      <th></th>\n",
       "      <th></th>\n",
       "    </tr>\n",
       "  </thead>\n",
       "  <tbody>\n",
       "    <tr>\n",
       "      <th>N</th>\n",
       "      <td>885,078,290.00</td>\n",
       "      <td>885,078,290.00</td>\n",
       "      <td>.00</td>\n",
       "    </tr>\n",
       "    <tr>\n",
       "      <th>Y</th>\n",
       "      <td>157,771,095.00</td>\n",
       "      <td>168,903,160.00</td>\n",
       "      <td>11,132,065.00</td>\n",
       "    </tr>\n",
       "  </tbody>\n",
       "</table>\n",
       "</div>"
      ],
      "text/plain": [
       "                        RC     MarketValue     Collateral\n",
       "isMargined                                               \n",
       "N           885,078,290.00  885,078,290.00            .00\n",
       "Y           157,771,095.00  168,903,160.00  11,132,065.00"
      ]
     },
     "execution_count": 61,
     "metadata": {},
     "output_type": "execute_result"
    }
   ],
   "source": [
    "cube.query(m[\"RC\"], m[\"MarketValue\"], m[\"Collateral\"], levels=[l[\"isMargined\"]])"
   ]
  },
  {
   "cell_type": "markdown",
   "metadata": {},
   "source": [
    "# EAD - [52.1]\n",
    "\n",
    "$$EAD = \\alpha * (RC + PFE)$$\n",
    "\n",
    "where $alpha = 1.4$ (fixed parameter), "
   ]
  },
  {
   "cell_type": "code",
   "execution_count": 62,
   "metadata": {},
   "outputs": [],
   "source": [
    "alpha = 1.4\n",
    "m[\"EAD\"] = tt.agg.sum(\n",
    "    alpha * (m[\"RC\"] + m[\"PFE\"]), scope=tt.OriginScope({l[\"NettingSetId\"]})\n",
    ")"
   ]
  },
  {
   "cell_type": "markdown",
   "metadata": {},
   "source": [
    "# Formatting\n",
    "\n",
    "The following cell will allocate measures to folders in the cube explorer, and apply formatting."
   ]
  },
  {
   "cell_type": "code",
   "execution_count": 63,
   "metadata": {},
   "outputs": [],
   "source": [
    "for measure in sorted(list(m)):\n",
    "    if (\n",
    "        measure.startswith(\"AddOn\")\n",
    "        or measure.startswith(\"D_\")\n",
    "        or measure\n",
    "        in [\n",
    "            \"Effective_notional_IR_NoOffset_Formula\",\n",
    "            \"Effective_notional_IR_Offset_Formula\",\n",
    "            \"Effective_notional_IR_j_k\",\n",
    "            \"Effective_notional_IR\",\n",
    "        ]\n",
    "    ):\n",
    "        m[measure].formatter = \"DOUBLE[#,###]\"\n",
    "        m[measure].folder = \"AddOn\"\n",
    "    elif measure in [\n",
    "        \"Correlation\",\n",
    "        \"SupervisoryFactor\",\n",
    "        \"Supervisory_Option_Volatility\",\n",
    "    ]:\n",
    "        m[measure].formatter = \"DOUBLE[#,###.0000]\"\n",
    "        m[measure].folder = \"Supervisory Parameters\"\n",
    "\n",
    "    elif measure in [\n",
    "        \"Direction\",\n",
    "        \"DetachPoint\",\n",
    "        \"AttachPoint\",\n",
    "        \"MarketValue\",\n",
    "        \"Notional\",\n",
    "        \"Underlying Price\",\n",
    "        \"Strike Price\",\n",
    "    ]:\n",
    "        m[measure].formatter = \"DOUBLE[#,###.0000]\"\n",
    "        m[measure].folder = \"Trades Input Data\"\n",
    "\n",
    "    elif measure in [\"Collateral\", \"TH\", \"MTA\", \"NICA\", \"MPOR\"]:\n",
    "        m[measure].formatter = \"DOUBLE[#,###]\"\n",
    "        m[measure].folder = \"Netting Sets Input Data\"\n",
    "\n",
    "    elif measure in [\"Mi\", \"Ei\", \"Si\", \"Ti\"]:\n",
    "        m[measure].formatter = \"DOUBLE[#,###.##]\"\n",
    "        m[measure].folder = \"Time period parameters\"\n",
    "\n",
    "    elif measure in [\n",
    "        \"Delta_Adjustment\",\n",
    "        \"Supervisory_Duration\",\n",
    "        \"Adjusted_Notional\",\n",
    "        \"Maturity_Factor\",\n",
    "        \"d\",\n",
    "        \"Trade_Effective_Notional\",\n",
    "        \"Adjusted_Notional x Delta_Adjustment\",\n",
    "    ]:\n",
    "        m[measure].formatter = \"DOUBLE[#,###.00]\"\n",
    "        m[measure].folder = \"Derived Interim Results\"\n",
    "    m[\"EAD\"].formatter = \"DOUBLE[#,###]\"\n",
    "    m[\"PFE\"].formatter = \"DOUBLE[#,###]\"\n",
    "    m[\"RC\"].formatter = \"DOUBLE[#,###]\""
   ]
  },
  {
   "cell_type": "markdown",
   "metadata": {},
   "source": [
    "# Enriching the data"
   ]
  },
  {
   "cell_type": "markdown",
   "metadata": {},
   "source": [
    "Having implemented the core metrics for computing EAD from trades data and parameters, we can enrich trades and netting sets data with additional attributes. As an example, let's load business units and link them to trades via book:"
   ]
  },
  {
   "cell_type": "code",
   "execution_count": 64,
   "metadata": {},
   "outputs": [],
   "source": [
    "books_table = session.read_csv(\n",
    "    \"s3://data.atoti.io/notebooks/sa-ccr/T0/books.csv\",\n",
    "    keys=[\"AsOfDate\", \"BookId\"],\n",
    "    table_name=\"BookStructure\",\n",
    ")\n",
    "\n",
    "trades_table.join(\n",
    "    books_table,\n",
    "    (trades_table[\"BookId\"] == books_table[\"BookId\"])\n",
    "    & (trades_table[\"AsOfDate\"] == books_table[\"AsOfDate\"]),\n",
    ")"
   ]
  },
  {
   "cell_type": "code",
   "execution_count": 65,
   "metadata": {},
   "outputs": [
    {
     "data": {
      "image/png": "[encoded data removed]",
      "text/plain": [
       "erDiagram\n",
       "  \"Trades\" {\n",
       "    _ LocalDate PK \"AsOfDate\"\n",
       "    _ String PK \"TradeId\"\n",
       "    _ String \"NettingSetId\"\n",
       "    _ String \"BookId\"\n",
       "    nullable int \"Direction\"\n",
       "    nullable double \"Notional\"\n",
       "    nullable double \"MarketValue\"\n",
       "    _ String \"AssetClass\"\n",
       "    _ String \"SubClass\"\n",
       "    _ String \"OptionType\"\n",
       "    _ String \"Underlying\"\n",
       "    _ LocalDate \"Si_Date\"\n",
       "    _ LocalDate \"Ei_Date\"\n",
       "    _ LocalDate \"Mi_Date\"\n",
       "    _ LocalDate \"Ti_Date\"\n",
       "    nullable double \"Strike Price\"\n",
       "    nullable double \"Underlying Price\"\n",
       "    nullable double \"AttachPoint\"\n",
       "    nullable double \"DetachPoint\"\n",
       "    _ String \"IsCDO\"\n",
       "  }\n",
       "  \"NettingSets\" {\n",
       "    _ LocalDate PK \"AsOfDate\"\n",
       "    _ String PK \"NettingSetId\"\n",
       "    _ String \"CounterpartyId\"\n",
       "    nullable double \"MPOR\"\n",
       "    nullable double \"Collateral\"\n",
       "    _ double \"NICA\"\n",
       "    _ double \"TH\"\n",
       "    _ double \"MTA\"\n",
       "    _ String \"isMargined\"\n",
       "  }\n",
       "  \"Parameters\" {\n",
       "    _ String PK \"AssetClass\"\n",
       "    _ String PK \"SubClass\"\n",
       "    nullable double \"SupervisoryFactor\"\n",
       "    _ double \"Correlation\"\n",
       "    nullable double \"SupervisoryOptionVolatility\"\n",
       "    _ String \"HS\"\n",
       "  }\n",
       "  \"BookStructure\" {\n",
       "    _ LocalDate PK \"AsOfDate\"\n",
       "    _ String PK \"BookId\"\n",
       "    _ String \"BusinessUnit\"\n",
       "  }\n",
       "  \"Trades\" }o--o| \"BookStructure\" : \"(`AsOfDate` == `AsOfDate`) & (`BookId` == `BookId`)\"\n",
       "  \"Trades\" }o--o| \"NettingSets\" : \"(`AsOfDate` == `AsOfDate`) & (`NettingSetId` == `NettingSetId`)\"\n",
       "  \"Trades\" }o--o| \"Parameters\" : \"(`AssetClass` == `AssetClass`) & (`SubClass` == `SubClass`)\""
      ]
     },
     "execution_count": 65,
     "metadata": {},
     "output_type": "execute_result"
    }
   ],
   "source": [
    "session.tables.schema"
   ]
  },
  {
   "cell_type": "markdown",
   "metadata": {},
   "source": [
    "Breaking down EAD by organizational structure, for example by book we'll obtain standalone calculation for each book. Since the EAD aggregation is not linear, sum of elements is not equal to the calculation across Books. Continue reading to learn how to create measures for contribution analysis."
   ]
  },
  {
   "cell_type": "code",
   "execution_count": 66,
   "metadata": {},
   "outputs": [
    {
     "data": {
      "text/plain": [
       "np.float64(3190859675.5486298)"
      ]
     },
     "execution_count": 66,
     "metadata": {},
     "output_type": "execute_result"
    }
   ],
   "source": [
    "sum(cube.query(m[\"EAD\"], levels=[l[\"BookId\"]])[\"EAD\"])"
   ]
  },
  {
   "cell_type": "code",
   "execution_count": 67,
   "metadata": {},
   "outputs": [
    {
     "data": {
      "application/vnd.atoti.convert-mdx-query-result-to-widget.v0+json": {
       "mdx": "SELECT {[Measures].[EAD]} ON COLUMNS FROM [SA-CCR]",
       "sessionId": "1743714589_891125",
       "widgetCreationCode": "session.widget"
      },
      "text/html": [
       "<div>\n",
       "<style scoped>\n",
       "    .dataframe tbody tr th:only-of-type {\n",
       "        vertical-align: middle;\n",
       "    }\n",
       "\n",
       "    .dataframe tbody tr th {\n",
       "        vertical-align: top;\n",
       "    }\n",
       "\n",
       "    .dataframe thead th {\n",
       "        text-align: right;\n",
       "    }\n",
       "</style>\n",
       "<table border=\"1\" class=\"dataframe\">\n",
       "  <thead>\n",
       "    <tr style=\"text-align: right;\">\n",
       "      <th></th>\n",
       "      <th>EAD</th>\n",
       "    </tr>\n",
       "  </thead>\n",
       "  <tbody>\n",
       "    <tr>\n",
       "      <th>0</th>\n",
       "      <td>2,352,743,030</td>\n",
       "    </tr>\n",
       "  </tbody>\n",
       "</table>\n",
       "</div>"
      ],
      "text/plain": [
       "             EAD\n",
       "0  2,352,743,030"
      ]
     },
     "execution_count": 67,
     "metadata": {},
     "output_type": "execute_result"
    }
   ],
   "source": [
    "cube.query(m[\"EAD\"])"
   ]
  },
  {
   "cell_type": "markdown",
   "metadata": {},
   "source": [
    "# Pro-rata allocation"
   ]
  },
  {
   "cell_type": "markdown",
   "metadata": {},
   "source": [
    "In the previous section we saw that breaking EAD down by book will result in \"standalone\" calculations, and since EAD is a non-linear measure, sum of EAD by book is not equal to the EAD calculated for the global portfolio. We may want to implement an allocation methodology for EAD. There multiple methodologies you could choose for evaluating the contribution, let's use \"pro-rata\" allocation as an illustrative example.\n",
    "\n",
    "The measure \"EAD Pro-Rata\" will display the contribution of a business unit into EAD for the global portfolio based on the proportion of EAD for that unit and sum of EADs for all units."
   ]
  },
  {
   "cell_type": "code",
   "execution_count": 68,
   "metadata": {},
   "outputs": [],
   "source": [
    "# For each Book, the weight is a ratio of EAD and EAD across books.\n",
    "m[\"EAD_sum_by_book\"] = tt.agg.sum(\n",
    "    m[\"EAD\"], scope=tt.SiblingsScope(hierarchy=h[\"BookId\"])\n",
    ")\n",
    "m[\"Book_weight\"] = m[\"EAD\"] / m[\"EAD_sum_by_book\"]\n",
    "m[\"EAD_across_books\"] = tt.parent_value(\n",
    "    m[\"EAD\"],\n",
    "    degrees={h[\"BookId\"]: 1},\n",
    "    total_value=m[\"EAD\"],\n",
    "    apply_filters=True,\n",
    ")\n",
    "\n",
    "m[\"EAD Pro-Rata\"] = m[\"Book_weight\"] * m[\"EAD_across_books\"]"
   ]
  },
  {
   "cell_type": "code",
   "execution_count": 69,
   "metadata": {},
   "outputs": [
    {
     "data": {
      "application/vnd.atoti.link.v0+json": {
       "path": "",
       "sessionUrl": "http://localhost:64246"
      },
      "text/plain": [
       "http://localhost:64246"
      ]
     },
     "execution_count": 69,
     "metadata": {},
     "output_type": "execute_result"
    }
   ],
   "source": [
    "session.link"
   ]
  },
  {
   "cell_type": "markdown",
   "metadata": {},
   "source": [
    "# Simulations"
   ]
  },
  {
   "cell_type": "markdown",
   "metadata": {},
   "source": [
    "Atoti provides a powerful simulation framework. \n",
    "\n",
    "Below we will explore a few examples of uploading alternative data into our app to instantly see the impact on the capital charge metrics."
   ]
  },
  {
   "cell_type": "markdown",
   "metadata": {},
   "source": [
    "### Simulation on supervisory parameters  \n",
    "\n",
    "As a reminder, the Supervisory Option Volatility is a parameter in the Delta Adjustment calculation. Let's bring up the values using cube.query:"
   ]
  },
  {
   "cell_type": "code",
   "execution_count": 70,
   "metadata": {},
   "outputs": [
    {
     "data": {
      "application/vnd.atoti.convert-mdx-query-result-to-widget.v0+json": {
       "mdx": "SELECT {[Measures].[SupervisoryOptionVolatility.VALUE]} ON COLUMNS, NON EMPTY Crossjoin(Hierarchize(Descendants({[Trades].[AssetClass].[ALL].[AllMember]}, 1, SELF_AND_BEFORE)), Hierarchize(Descendants({[Trades].[SubClass].[ALL].[AllMember]}, 1, SELF_AND_BEFORE))) ON ROWS FROM [SA-CCR]",
       "sessionId": "1743714589_891125",
       "widgetCreationCode": "session.widget"
      },
      "text/html": [
       "<div>\n",
       "<style scoped>\n",
       "    .dataframe tbody tr th:only-of-type {\n",
       "        vertical-align: middle;\n",
       "    }\n",
       "\n",
       "    .dataframe tbody tr th {\n",
       "        vertical-align: top;\n",
       "    }\n",
       "\n",
       "    .dataframe thead th {\n",
       "        text-align: right;\n",
       "    }\n",
       "</style>\n",
       "<table border=\"1\" class=\"dataframe\">\n",
       "  <thead>\n",
       "    <tr style=\"text-align: right;\">\n",
       "      <th></th>\n",
       "      <th>SupervisoryOptionVolatility.VALUE</th>\n",
       "    </tr>\n",
       "  </thead>\n",
       "  <tbody>\n",
       "  </tbody>\n",
       "</table>\n",
       "</div>"
      ],
      "text/plain": [
       "Empty DataFrame\n",
       "Columns: [SupervisoryOptionVolatility.VALUE]\n",
       "Index: []"
      ]
     },
     "execution_count": 70,
     "metadata": {},
     "output_type": "execute_result"
    }
   ],
   "source": [
    "cube.query(\n",
    "    m[\"SupervisoryOptionVolatility.VALUE\"], levels=[l[\"AssetClass\"], l[\"SubClass\"]]\n",
    ")"
   ]
  },
  {
   "cell_type": "markdown",
   "metadata": {},
   "source": [
    "\"[Parameter simulations](https://docs.atoti.io/latest/tutorial/tutorial.html#Parameter-simulations)\" feature in Atoti allow us to configure a simulated measure, `Supervisory_Option_Volatility_Simulation`.  "
   ]
  },
  {
   "cell_type": "code",
   "execution_count": 71,
   "metadata": {},
   "outputs": [],
   "source": [
    "recalibration = cube.create_parameter_simulation(\n",
    "    \"Option Volatility What-If\",\n",
    "    measures={\"Supervisory_Option_Volatility_Simulation\": None},\n",
    "    levels=[l[\"AssetClass\"], l[\"SubClass\"]],\n",
    ")"
   ]
  },
  {
   "cell_type": "markdown",
   "metadata": {},
   "source": [
    "To make use of the simulated measure, we create the following measure that takes the value of `Supervisory_Option_Volatility_Simulation` if it is provided. Otherwise, it takes the volatility values in the original dataset."
   ]
  },
  {
   "cell_type": "code",
   "execution_count": 72,
   "metadata": {},
   "outputs": [],
   "source": [
    "m[\"Supervisory_Option_Volatility\"] = tt.agg.sum(\n",
    "    tt.where(\n",
    "        (~m[\"Supervisory_Option_Volatility_Simulation\"].isnull()),\n",
    "        m[\"Supervisory_Option_Volatility_Simulation\"],\n",
    "        m[\"SupervisoryOptionVolatility.VALUE\"],\n",
    "    ),\n",
    "    scope=tt.OriginScope({l[\"AssetClass\"], l[\"SubClass\"]}),\n",
    ")"
   ]
  },
  {
   "cell_type": "markdown",
   "metadata": {},
   "source": [
    "We are going to update the definition of the measure `d` to use the new simulated `Supervisory_Option_Volatility` instead. This change will automatically be cascaded to the measures that uses `d` in their computation."
   ]
  },
  {
   "cell_type": "code",
   "execution_count": 73,
   "metadata": {},
   "outputs": [],
   "source": [
    "# We'll wrap the argument of the CDF function into a measure:\n",
    "m[\"d\"] = (\n",
    "    tt.math.log(m[\"Underlying Price\"] / m[\"Strike Price\"])\n",
    "    + 0.5 * (m[\"Supervisory_Option_Volatility\"] ** 2) * m[\"Ti\"]\n",
    ") / (m[\"Supervisory_Option_Volatility\"] * tt.math.sqrt(m[\"Ti\"]))"
   ]
  },
  {
   "cell_type": "markdown",
   "metadata": {},
   "source": [
    "__Note:__ We could planned in advance and create the parameter simulation for \"Option Volatility What-If\" before we first defined the measure `d`. This would prevent the need to update `d` definition. However, the current setup in the notebook is meant to demonstrate the difference with and without the parameter simulation."
   ]
  },
  {
   "cell_type": "markdown",
   "metadata": {},
   "source": [
    "Having setup the simulation, we apply the changes we want in our experiment.  \n",
    "\n",
    "The first input parameter is the name of the scenario, followed by the affected members of the specified levels and finally the new value of `Supervisory_Option_Volatility_Simulation`."
   ]
  },
  {
   "cell_type": "code",
   "execution_count": 74,
   "metadata": {},
   "outputs": [],
   "source": [
    "recalibration += (\"Volatility Recalibration\", \"IR\", \"No SubClass\", 0.1)"
   ]
  },
  {
   "cell_type": "code",
   "execution_count": 75,
   "metadata": {},
   "outputs": [
    {
     "data": {
      "text/html": [
       "<div>\n",
       "<style scoped>\n",
       "    .dataframe tbody tr th:only-of-type {\n",
       "        vertical-align: middle;\n",
       "    }\n",
       "\n",
       "    .dataframe tbody tr th {\n",
       "        vertical-align: top;\n",
       "    }\n",
       "\n",
       "    .dataframe thead th {\n",
       "        text-align: right;\n",
       "    }\n",
       "</style>\n",
       "<table border=\"1\" class=\"dataframe\">\n",
       "  <thead>\n",
       "    <tr style=\"text-align: right;\">\n",
       "      <th></th>\n",
       "      <th></th>\n",
       "      <th></th>\n",
       "      <th>Supervisory_Option_Volatility_Simulation</th>\n",
       "    </tr>\n",
       "    <tr>\n",
       "      <th>Scenario</th>\n",
       "      <th>AssetClass</th>\n",
       "      <th>SubClass</th>\n",
       "      <th></th>\n",
       "    </tr>\n",
       "  </thead>\n",
       "  <tbody>\n",
       "    <tr>\n",
       "      <th>Volatility Recalibration</th>\n",
       "      <th>IR</th>\n",
       "      <th>No SubClass</th>\n",
       "      <td>0.10</td>\n",
       "    </tr>\n",
       "  </tbody>\n",
       "</table>\n",
       "</div>"
      ],
      "text/plain": [
       "                                                 Supervisory_Option_Volatility_Simulation\n",
       "Scenario                 AssetClass SubClass                                             \n",
       "Volatility Recalibration IR         No SubClass                                      0.10"
      ]
     },
     "execution_count": 75,
     "metadata": {},
     "output_type": "execute_result"
    }
   ],
   "source": [
    "recalibration.head()"
   ]
  },
  {
   "cell_type": "markdown",
   "metadata": {},
   "source": [
    "The below query shows the value that is used for `Supervisory_Option_Volatility` to compute the measure `d`."
   ]
  },
  {
   "cell_type": "code",
   "execution_count": 76,
   "metadata": {},
   "outputs": [
    {
     "data": {
      "application/vnd.atoti.convert-mdx-query-result-to-widget.v0+json": {
       "mdx": "SELECT {[Measures].[SupervisoryOptionVolatility.VALUE], [Measures].[Supervisory_Option_Volatility_Simulation], [Measures].[Supervisory_Option_Volatility]} ON COLUMNS, NON EMPTY Crossjoin(Hierarchize(Descendants({[Trades].[TradeId].[ALL].[AllMember]}, 1, SELF_AND_BEFORE)), Hierarchize(Descendants({[Trades].[AssetClass].[ALL].[AllMember]}, 1, SELF_AND_BEFORE)), Hierarchize(Descendants({[Trades].[SubClass].[ALL].[AllMember]}, 1, SELF_AND_BEFORE)), [Option Volatility What-If].[Option Volatility What-If].[Option Volatility What-If].Members) ON ROWS FROM (SELECT [Trades].[AssetClass].[ALL].[AllMember].[IR] ON COLUMNS FROM [SA-CCR])",
       "sessionId": "1743714589_891125",
       "widgetCreationCode": "session.widget"
      },
      "text/html": [
       "<div>\n",
       "<style scoped>\n",
       "    .dataframe tbody tr th:only-of-type {\n",
       "        vertical-align: middle;\n",
       "    }\n",
       "\n",
       "    .dataframe tbody tr th {\n",
       "        vertical-align: top;\n",
       "    }\n",
       "\n",
       "    .dataframe thead th {\n",
       "        text-align: right;\n",
       "    }\n",
       "</style>\n",
       "<table border=\"1\" class=\"dataframe\">\n",
       "  <thead>\n",
       "    <tr style=\"text-align: right;\">\n",
       "      <th></th>\n",
       "      <th></th>\n",
       "      <th></th>\n",
       "      <th></th>\n",
       "      <th>SupervisoryOptionVolatility.VALUE</th>\n",
       "      <th>Supervisory_Option_Volatility_Simulation</th>\n",
       "      <th>Supervisory_Option_Volatility</th>\n",
       "    </tr>\n",
       "    <tr>\n",
       "      <th>TradeId</th>\n",
       "      <th>AssetClass</th>\n",
       "      <th>SubClass</th>\n",
       "      <th>Option Volatility What-If</th>\n",
       "      <th></th>\n",
       "      <th></th>\n",
       "      <th></th>\n",
       "    </tr>\n",
       "  </thead>\n",
       "  <tbody>\n",
       "    <tr>\n",
       "      <th rowspan=\"2\" valign=\"top\">t11</th>\n",
       "      <th rowspan=\"2\" valign=\"top\">IR</th>\n",
       "      <th rowspan=\"2\" valign=\"top\">No SubClass</th>\n",
       "      <th>Base</th>\n",
       "      <td>.50</td>\n",
       "      <td></td>\n",
       "      <td>.50</td>\n",
       "    </tr>\n",
       "    <tr>\n",
       "      <th>Volatility Recalibration</th>\n",
       "      <td>.50</td>\n",
       "      <td>.10</td>\n",
       "      <td>.10</td>\n",
       "    </tr>\n",
       "    <tr>\n",
       "      <th rowspan=\"2\" valign=\"top\">t111</th>\n",
       "      <th rowspan=\"2\" valign=\"top\">IR</th>\n",
       "      <th rowspan=\"2\" valign=\"top\">No SubClass</th>\n",
       "      <th>Base</th>\n",
       "      <td>.50</td>\n",
       "      <td></td>\n",
       "      <td>.50</td>\n",
       "    </tr>\n",
       "    <tr>\n",
       "      <th>Volatility Recalibration</th>\n",
       "      <td>.50</td>\n",
       "      <td>.10</td>\n",
       "      <td>.10</td>\n",
       "    </tr>\n",
       "    <tr>\n",
       "      <th>t113</th>\n",
       "      <th>IR</th>\n",
       "      <th>No SubClass</th>\n",
       "      <th>Base</th>\n",
       "      <td>.50</td>\n",
       "      <td></td>\n",
       "      <td>.50</td>\n",
       "    </tr>\n",
       "    <tr>\n",
       "      <th>...</th>\n",
       "      <th>...</th>\n",
       "      <th>...</th>\n",
       "      <th>...</th>\n",
       "      <td>...</td>\n",
       "      <td>...</td>\n",
       "      <td>...</td>\n",
       "    </tr>\n",
       "    <tr>\n",
       "      <th>t88</th>\n",
       "      <th>IR</th>\n",
       "      <th>No SubClass</th>\n",
       "      <th>Volatility Recalibration</th>\n",
       "      <td>.50</td>\n",
       "      <td>.10</td>\n",
       "      <td>.10</td>\n",
       "    </tr>\n",
       "    <tr>\n",
       "      <th rowspan=\"2\" valign=\"top\">t91</th>\n",
       "      <th rowspan=\"2\" valign=\"top\">IR</th>\n",
       "      <th rowspan=\"2\" valign=\"top\">No SubClass</th>\n",
       "      <th>Base</th>\n",
       "      <td>.50</td>\n",
       "      <td></td>\n",
       "      <td>.50</td>\n",
       "    </tr>\n",
       "    <tr>\n",
       "      <th>Volatility Recalibration</th>\n",
       "      <td>.50</td>\n",
       "      <td>.10</td>\n",
       "      <td>.10</td>\n",
       "    </tr>\n",
       "    <tr>\n",
       "      <th rowspan=\"2\" valign=\"top\">t93</th>\n",
       "      <th rowspan=\"2\" valign=\"top\">IR</th>\n",
       "      <th rowspan=\"2\" valign=\"top\">No SubClass</th>\n",
       "      <th>Base</th>\n",
       "      <td>.50</td>\n",
       "      <td></td>\n",
       "      <td>.50</td>\n",
       "    </tr>\n",
       "    <tr>\n",
       "      <th>Volatility Recalibration</th>\n",
       "      <td>.50</td>\n",
       "      <td>.10</td>\n",
       "      <td>.10</td>\n",
       "    </tr>\n",
       "  </tbody>\n",
       "</table>\n",
       "<p>198 rows × 3 columns</p>\n",
       "</div>"
      ],
      "text/plain": [
       "                                                         SupervisoryOptionVolatility.VALUE  \\\n",
       "TradeId AssetClass SubClass    Option Volatility What-If                                     \n",
       "t11     IR         No SubClass Base                                                    .50   \n",
       "                               Volatility Recalibration                                .50   \n",
       "t111    IR         No SubClass Base                                                    .50   \n",
       "                               Volatility Recalibration                                .50   \n",
       "t113    IR         No SubClass Base                                                    .50   \n",
       "...                                                                                    ...   \n",
       "t88     IR         No SubClass Volatility Recalibration                                .50   \n",
       "t91     IR         No SubClass Base                                                    .50   \n",
       "                               Volatility Recalibration                                .50   \n",
       "t93     IR         No SubClass Base                                                    .50   \n",
       "                               Volatility Recalibration                                .50   \n",
       "\n",
       "                                                         Supervisory_Option_Volatility_Simulation  \\\n",
       "TradeId AssetClass SubClass    Option Volatility What-If                                            \n",
       "t11     IR         No SubClass Base                                                                 \n",
       "                               Volatility Recalibration                                       .10   \n",
       "t111    IR         No SubClass Base                                                                 \n",
       "                               Volatility Recalibration                                       .10   \n",
       "t113    IR         No SubClass Base                                                                 \n",
       "...                                                                                           ...   \n",
       "t88     IR         No SubClass Volatility Recalibration                                       .10   \n",
       "t91     IR         No SubClass Base                                                                 \n",
       "                               Volatility Recalibration                                       .10   \n",
       "t93     IR         No SubClass Base                                                                 \n",
       "                               Volatility Recalibration                                       .10   \n",
       "\n",
       "                                                         Supervisory_Option_Volatility  \n",
       "TradeId AssetClass SubClass    Option Volatility What-If                                \n",
       "t11     IR         No SubClass Base                                                .50  \n",
       "                               Volatility Recalibration                            .10  \n",
       "t111    IR         No SubClass Base                                                .50  \n",
       "                               Volatility Recalibration                            .10  \n",
       "t113    IR         No SubClass Base                                                .50  \n",
       "...                                                                                ...  \n",
       "t88     IR         No SubClass Volatility Recalibration                            .10  \n",
       "t91     IR         No SubClass Base                                                .50  \n",
       "                               Volatility Recalibration                            .10  \n",
       "t93     IR         No SubClass Base                                                .50  \n",
       "                               Volatility Recalibration                            .10  \n",
       "\n",
       "[198 rows x 3 columns]"
      ]
     },
     "execution_count": 76,
     "metadata": {},
     "output_type": "execute_result"
    }
   ],
   "source": [
    "cube.query(\n",
    "    m[\"SupervisoryOptionVolatility.VALUE\"],\n",
    "    m[\"Supervisory_Option_Volatility_Simulation\"],\n",
    "    m[\"Supervisory_Option_Volatility\"],\n",
    "    levels=[\n",
    "        l[\"TradeId\"],\n",
    "        l[\"AssetClass\"],\n",
    "        l[\"SubClass\"],\n",
    "        l[\"Option Volatility What-If\"],\n",
    "    ],\n",
    "    filter=l[\"AssetClass\"] == \"IR\",\n",
    ")"
   ]
  },
  {
   "cell_type": "markdown",
   "metadata": {},
   "source": [
    "Below we see the dfference in the `EAD` and `AddOn_IR` values between the original base data and the simulated scenario `Volatility Recalibration`."
   ]
  },
  {
   "cell_type": "code",
   "execution_count": 77,
   "metadata": {},
   "outputs": [
    {
     "data": {
      "application/vnd.atoti.convert-mdx-query-result-to-widget.v0+json": {
       "mdx": "SELECT {[Measures].[EAD], [Measures].[AddOn_IR]} ON COLUMNS, NON EMPTY [Option Volatility What-If].[Option Volatility What-If].[Option Volatility What-If].Members ON ROWS FROM [SA-CCR]",
       "sessionId": "1743714589_891125",
       "widgetCreationCode": "session.widget"
      },
      "text/html": [
       "<div>\n",
       "<style scoped>\n",
       "    .dataframe tbody tr th:only-of-type {\n",
       "        vertical-align: middle;\n",
       "    }\n",
       "\n",
       "    .dataframe tbody tr th {\n",
       "        vertical-align: top;\n",
       "    }\n",
       "\n",
       "    .dataframe thead th {\n",
       "        text-align: right;\n",
       "    }\n",
       "</style>\n",
       "<table border=\"1\" class=\"dataframe\">\n",
       "  <thead>\n",
       "    <tr style=\"text-align: right;\">\n",
       "      <th></th>\n",
       "      <th>EAD</th>\n",
       "      <th>AddOn_IR</th>\n",
       "    </tr>\n",
       "    <tr>\n",
       "      <th>Option Volatility What-If</th>\n",
       "      <th></th>\n",
       "      <th></th>\n",
       "    </tr>\n",
       "  </thead>\n",
       "  <tbody>\n",
       "    <tr>\n",
       "      <th>Base</th>\n",
       "      <td>2,352,743,030</td>\n",
       "      <td>18,489,821</td>\n",
       "    </tr>\n",
       "    <tr>\n",
       "      <th>Volatility Recalibration</th>\n",
       "      <td>2,352,743,030</td>\n",
       "      <td>18,489,821</td>\n",
       "    </tr>\n",
       "  </tbody>\n",
       "</table>\n",
       "</div>"
      ],
      "text/plain": [
       "                                     EAD    AddOn_IR\n",
       "Option Volatility What-If                           \n",
       "Base                       2,352,743,030  18,489,821\n",
       "Volatility Recalibration   2,352,743,030  18,489,821"
      ]
     },
     "execution_count": 77,
     "metadata": {},
     "output_type": "execute_result"
    }
   ],
   "source": [
    "cube.query(m[\"EAD\"], m[\"AddOn_IR\"], levels=[l[\"Option Volatility What-If\"]])"
   ]
  },
  {
   "cell_type": "markdown",
   "metadata": {},
   "source": [
    "# Simulation on input data - trades and CSA simulations\n",
    "\n",
    "The \"source simulation\" in Atoti allow uploading data and viewing the resulting change side-by-side with the base scenario. This is handy for \"pre-deal\", \"trade novation\" or \"aggrement changes\" types of simulations where you can use a csv file to add or update positions and netting sets.\n",
    "\n",
    "See, for instance, the parameters of the first netting set:"
   ]
  },
  {
   "cell_type": "markdown",
   "metadata": {},
   "source": [
    "Let's change the parameters of this agreement:"
   ]
  },
  {
   "cell_type": "code",
   "execution_count": 78,
   "metadata": {},
   "outputs": [
    {
     "data": {
      "text/html": [
       "<div>\n",
       "<style scoped>\n",
       "    .dataframe tbody tr th:only-of-type {\n",
       "        vertical-align: middle;\n",
       "    }\n",
       "\n",
       "    .dataframe tbody tr th {\n",
       "        vertical-align: top;\n",
       "    }\n",
       "\n",
       "    .dataframe thead th {\n",
       "        text-align: right;\n",
       "    }\n",
       "</style>\n",
       "<table border=\"1\" class=\"dataframe\">\n",
       "  <thead>\n",
       "    <tr style=\"text-align: right;\">\n",
       "      <th></th>\n",
       "      <th>AsOfDate</th>\n",
       "      <th>NettingSetId</th>\n",
       "      <th>CounterpartyId</th>\n",
       "      <th>MPOR</th>\n",
       "      <th>Collateral</th>\n",
       "      <th>NICA</th>\n",
       "      <th>TH</th>\n",
       "      <th>MTA</th>\n",
       "      <th>isMargined</th>\n",
       "    </tr>\n",
       "  </thead>\n",
       "  <tbody>\n",
       "    <tr>\n",
       "      <th>0</th>\n",
       "      <td>2020-01-13</td>\n",
       "      <td>EX1</td>\n",
       "      <td>cpt1</td>\n",
       "      <td>15.00</td>\n",
       "      <td>1,000,000.00</td>\n",
       "      <td>0</td>\n",
       "      <td>0</td>\n",
       "      <td>0</td>\n",
       "      <td>Y</td>\n",
       "    </tr>\n",
       "  </tbody>\n",
       "</table>\n",
       "</div>"
      ],
      "text/plain": [
       "     AsOfDate NettingSetId CounterpartyId  MPOR   Collateral  NICA  TH  MTA  \\\n",
       "0  2020-01-13          EX1           cpt1 15.00 1,000,000.00     0   0    0   \n",
       "\n",
       "  isMargined  \n",
       "0          Y  "
      ]
     },
     "execution_count": 78,
     "metadata": {},
     "output_type": "execute_result"
    }
   ],
   "source": [
    "from datetime import date\n",
    "\n",
    "agreement_update = pd.DataFrame.from_dict(\n",
    "    {\n",
    "        \"AsOfDate\": [date(2020, 1, 13)],\n",
    "        \"NettingSetId\": [\"EX1\"],\n",
    "        \"CounterpartyId\": [\"cpt1\"],\n",
    "        \"MPOR\": [15.0],\n",
    "        \"Collateral\": [1000000.0],\n",
    "        \"NICA\": [0],\n",
    "        \"TH\": [0],\n",
    "        \"MTA\": [0],\n",
    "        \"isMargined\": [\"Y\"],\n",
    "    }\n",
    ")\n",
    "agreement_update"
   ]
  },
  {
   "cell_type": "code",
   "execution_count": 79,
   "metadata": {},
   "outputs": [],
   "source": [
    "nettingSets_table.scenarios[\"Updating CSA parameters\"].load(agreement_update)"
   ]
  },
  {
   "cell_type": "code",
   "execution_count": 80,
   "metadata": {},
   "outputs": [
    {
     "data": {
      "application/vnd.atoti.link.v0+json": {
       "path": "/#/dashboard/922",
       "sessionUrl": "http://localhost:64246"
      },
      "text/plain": [
       "http://localhost:64246//#/dashboard/922"
      ]
     },
     "execution_count": 80,
     "metadata": {},
     "output_type": "execute_result"
    }
   ],
   "source": [
    "session.link / \"/#/dashboard/922\""
   ]
  },
  {
   "cell_type": "markdown",
   "metadata": {},
   "source": [
    "# Adding more dates"
   ]
  },
  {
   "cell_type": "code",
   "execution_count": 81,
   "metadata": {},
   "outputs": [],
   "source": [
    "trades_table.load(tt.CsvLoad(\"s3://data.atoti.io/notebooks/sa-ccr/T1/trades.csv\"))\n",
    "books_table.load(tt.CsvLoad(\"s3://data.atoti.io/notebooks/sa-ccr/T1/books.csv\"))\n",
    "nettingSets_table.load(\n",
    "    tt.CsvLoad(\"s3://data.atoti.io/notebooks/sa-ccr/T1/netting-set-attributes.csv\")\n",
    ")"
   ]
  },
  {
   "cell_type": "markdown",
   "metadata": {},
   "source": [
    "<div style=\"text-align:center\"><a href=\"https://www.atoti.io/?utm_source=gallery&utm_content=saccr\" target=\"_blank\" rel=\"noopener noreferrer\"><img src=\"https://data.atoti.io/notebooks/banners/Your-turn-to-try-Atoti.jpg\" alt=\"Atoti table\" /></a></div>"
   ]
  }
 ],
 "metadata": {
  "kernelspec": {
   "display_name": "Python 3 (ipykernel)",
   "language": "python",
   "name": "python3"
  },
  "language_info": {
   "codemirror_mode": {
    "name": "ipython",
    "version": 3
   },
   "file_extension": ".py",
   "mimetype": "text/x-python",
   "name": "python",
   "nbconvert_exporter": "python",
   "pygments_lexer": "ipython3",
   "version": "3.11.10"
  },
  "toc-autonumbering": false,
  "toc-showcode": false,
  "toc-showmarkdowntxt": false,
  "toc-showtags": false,
  "widgets": {
   "application/vnd.jupyter.widget-state+json": {
    "state": {},
    "version_major": 2,
    "version_minor": 0
   }
  }
 },
 "nbformat": 4,
 "nbformat_minor": 4
}
