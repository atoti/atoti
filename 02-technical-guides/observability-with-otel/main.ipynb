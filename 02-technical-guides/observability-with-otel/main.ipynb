{
 "cells": [
  {
   "cell_type": "markdown",
   "id": "fe46c40a-4535-4114-84a6-5b3293298969",
   "metadata": {},
   "source": [
    "# Enabling Observability with OpenTelemetry\n",
    "\n",
    "Atoti Python SDK features an observability plugin to integrate OpenTelemetry with Atoti for better monitoring and debugging capabilities. \n",
    "\n",
    "In this notebook, we explore how to set up observability for Atoti Python SDK using OpenTelemetry."
   ]
  },
  {
   "cell_type": "markdown",
   "id": "df6c1018-716d-4af9-9775-f2525331ae58",
   "metadata": {},
   "source": [
    "<div style=\"text-align: center;\" ><a href=\"https://www.atoti.io/?utm_source=gallery&utm_content=observability-with-otel\" target=\"_blank\" rel=\"noopener noreferrer\"><img src=\"https://data.atoti.io/notebooks/banners/Discover-Atoti-now.png\" alt=\"Try Atoti\"></a></div>"
   ]
  },
  {
   "cell_type": "code",
   "execution_count": 1,
   "id": "9a1f3448-c703-48fa-a806-bf4fd5edec1d",
   "metadata": {},
   "outputs": [],
   "source": [
    "# !uv pip install 'atoti[observability]'"
   ]
  },
  {
   "cell_type": "code",
   "execution_count": 2,
   "id": "c9aed4ad-29fc-4e22-8496-82f00360d1c4",
   "metadata": {},
   "outputs": [],
   "source": [
    "import atoti as tt\n",
    "import zipfile\n",
    "import wget\n",
    "from IPython.display import clear_output, display"
   ]
  },
  {
   "cell_type": "markdown",
   "id": "9c19bcff-dbfb-47c8-95d0-7b2ed9ee7c6e",
   "metadata": {},
   "source": [
    "## Start the OTEL stack"
   ]
  },
  {
   "cell_type": "markdown",
   "id": "4333798e-4cfe-46a8-b580-b6340b87ff00",
   "metadata": {},
   "source": [
    "To set up observability for Atoti using OpenTelemetry, we first need a place to send our metrics, logs, and traces.\n",
    "\n",
    "The `docker-compose.yaml` located in `otel-stack` configures the following multi-container [Docker](https://www.docker.com/) application:\n",
    "\n",
    "![otel-stack-diagram-2](https://data.atoti.io/notebooks/observability-with-otel/img/otel-stack-diagram-2.png)\n",
    "\n",
    "With the Atoti Python SDK observability plugin, Atoti can use OpenTelemetry to instrument its code and generate telemetry data during execution. The telemetry data is then handled by the [OTEL collector](https://opentelemetry.io/docs/collector/) and sent to the corresponding services integrated with [Grafana](https://grafana.com/):\n",
    "\n",
    "* **Traces:** Exported to [Tempo](https://grafana.com/oss/tempo/) (with OTLP).\n",
    "* **Logs:** Exported to [Loki](https://grafana.com/oss/loki/) (push to an endpoint).\n",
    "* **Metrics:** Scraped from the OTEL collector endpoint via [Prometheus](https://grafana.com/oss/prometheus/) every 15 seconds.\n",
    "\n",
    "Navigate to `otel-stack` and execute the following command to setup and confirm the containers are up and running:\n",
    "\n",
    "```bash\n",
    "docker compose up -d\n",
    "```\n",
    "\n",
    "💡 **Note:** Use the `docker ps` and `docker logs` commands to verify the containers are healthy.\n"
   ]
  },
  {
   "cell_type": "markdown",
   "id": "83ebe6ef-fbd3-4802-8ea3-1d1d5b440833",
   "metadata": {},
   "source": [
    "## Download data\n",
    "\n",
    "To simulate greater computation in this walk through, we've prepared 2GB worth of trades and books data."
   ]
  },
  {
   "cell_type": "code",
   "execution_count": 3,
   "id": "e2d44517-7bec-40bc-a00d-0b2f1fd5907a",
   "metadata": {},
   "outputs": [
    {
     "name": "stdout",
     "output_type": "stream",
     "text": [
      "100% [......................................................................] 843205063 / 843205063"
     ]
    }
   ],
   "source": [
    "url = f\"https://data.atoti.io/notebooks/observability-with-otel/data/data.zip\"\n",
    "filename = wget.download(url)\n",
    "\n",
    "with zipfile.ZipFile(filename, \"r\") as zip_ref:\n",
    "    zip_ref.extractall()"
   ]
  },
  {
   "cell_type": "markdown",
   "id": "11d5b438-dd8b-42da-bc3a-806345fd3d40",
   "metadata": {},
   "source": [
    "## Configure the Atoti session for OpenTelemetry\n",
    "\n",
    "When using the observability plugin for Atoti Python SDK, we need to configure the underlying Atoti Server JVM to use OpenTelemetry. \n",
    "\n",
    "The following configurations are set as their defaults:\n",
    "\n",
    "```java\n",
    "\"-Dspring.profiles.active=application-monitoring\",\n",
    "\"-Dotel.java.global-autoconfigure.enabled=true\",\n",
    "\"-Dotel.traces.exporter=otlp\",\n",
    "\"-Dotel.metrics.exporter=otlp\",\n",
    "\"-Dotel.logs.exporter=otlp\",\n",
    "\"-Dotel.exporter.otlp.endpoint=http://localhost:4318\",\n",
    "\"-Dotel.resource.attributes=service.name=atoti,service.version=1.0\",\n",
    "\"-Dotel.exporter.otlp.protocol=grpc\"\n",
    "```\n",
    "\n",
    "The following configurations are user specific:\n",
    "\n",
    "```java\n",
    "\"-Djson.log.dir=logs\",\n",
    "\"-Dotel.traces.sampler=always_on\",\n",
    "\"-Dotel.metric.export.interval=1000\",\n",
    "\n",
    "```\n",
    "    \n",
    "We can also add in an OpenTelemetry java agent to report more metrics about the performance of the underlying JVM.\n",
    "\n",
    "```java\n",
    "\"-javaagent:opentelemetry-javaagent.jar\"\n",
    "```\n"
   ]
  },
  {
   "cell_type": "code",
   "execution_count": 4,
   "id": "aef1b3b3-c26c-4a2a-b962-e0039c2c41cc",
   "metadata": {},
   "outputs": [
    {
     "name": "stdout",
     "output_type": "stream",
     "text": [
      "100% [........................................................................] 22328593 / 22328593"
     ]
    }
   ],
   "source": [
    "url = f\"https://github.com/open-telemetry/opentelemetry-java-instrumentation/releases/latest/download/opentelemetry-javaagent.jar\"\n",
    "filename = wget.download(url)"
   ]
  },
  {
   "cell_type": "code",
   "execution_count": 5,
   "id": "af47b24d-2e24-4125-a984-1154c923b027",
   "metadata": {},
   "outputs": [],
   "source": [
    "session = tt.Session.start(\n",
    "    tt.SessionConfig(\n",
    "        port=9105,\n",
    "        java_options=[\n",
    "            \"-Dspring.profiles.active=application-monitoring\",\n",
    "            \"-Dotel.java.global-autoconfigure.enabled=true\",\n",
    "            \"-Dotel.traces.exporter=otlp\",\n",
    "            \"-Dotel.metrics.exporter=otlp\",\n",
    "            \"-Dotel.logs.exporter=otlp\",\n",
    "            \"-Dotel.exporter.otlp.endpoint=http://localhost:4318\",\n",
    "            \"-Dotel.resource.attributes=service.name=atoti,service.version=1.0\",\n",
    "            \"-Dotel.exporter.otlp.protocol=grpc\",\n",
    "            \"-Djson.log.dir=logs\",\n",
    "            \"-Dotel.traces.sampler=always_on\",\n",
    "            \"-Dotel.metric.export.interval=1000\",\n",
    "            \"-javaagent:opentelemetry-javaagent.jar\",\n",
    "        ],\n",
    "    )\n",
    ")"
   ]
  },
  {
   "cell_type": "markdown",
   "id": "84689afb-75b5-44f9-aeb2-fd751caa081a",
   "metadata": {},
   "source": [
    "## Load data, join data, visualize data model\n",
    "\n",
    "We then perform the following:\n",
    "\n",
    "1. Load our data into tables\n",
    "2. Make the corresponding joins\n",
    "3. Visualize the data model of the cube"
   ]
  },
  {
   "cell_type": "code",
   "execution_count": 6,
   "id": "5a25dd6e-e986-4009-ab5d-8697fae520cd",
   "metadata": {},
   "outputs": [
    {
     "name": "stdout",
     "output_type": "stream",
     "text": [
      "Trades Row Count: 383688\n",
      "Books Row Count: 408\n"
     ]
    },
    {
     "data": {
      "image/png": "[encoded data removed]",
      "text/plain": [
       "erDiagram\n",
       "  \"Trade PnL\" {\n",
       "    _ int PK \"BookId\"\n",
       "    _ LocalDate PK \"AsOfDate\"\n",
       "    _ String PK \"TradeId\"\n",
       "    _ String PK \"DataSet\"\n",
       "    _ String \"RiskFactor\"\n",
       "    _ String \"RiskClass\"\n",
       "    _ String \"SensitivityName\"\n",
       "    _ String \"ccy\"\n",
       "    nullable double[] \"pnl_vector\"\n",
       "  }\n",
       "  \"Books\" {\n",
       "    _ int PK \"BOOKID\"\n",
       "    _ String \"BOOK\"\n",
       "    _ String \"TRADING_DESK\"\n",
       "    _ String \"SUB_BUSINESS_UNIT\"\n",
       "    _ String \"BUSINESS_UNIT\"\n",
       "  }\n",
       "  \"Trade PnL\" }o--o| \"Books\" : \"`BookId` == `BOOKID`\""
      ]
     },
     "execution_count": 6,
     "metadata": {},
     "output_type": "execute_result"
    }
   ],
   "source": [
    "trades_tbl = session.read_csv(\n",
    "    \"data/trades/TradePnLs*.csv\",\n",
    "    table_name=\"Trade PnL\",\n",
    "    keys=[\"AsOfDate\", \"TradeId\", \"BookId\", \"DataSet\"],\n",
    "    array_separator=\";\",\n",
    ")\n",
    "books_tbl = session.read_csv(\n",
    "    \"data/books/books_books.csv\", table_name=\"Books\", keys=[\"BOOKID\"]\n",
    ")\n",
    "trades_tbl.join(books_tbl, trades_tbl[\"BookId\"] == books_tbl[\"BOOKID\"])\n",
    "\n",
    "cube = session.create_cube(trades_tbl)\n",
    "h, l, m = cube.hierarchies, cube.levels, cube.measures\n",
    "\n",
    "print(f\"Trades Row Count: {trades_tbl.row_count}\")\n",
    "print(f\"Books Row Count: {books_tbl.row_count}\")\n",
    "\n",
    "session.tables.schema"
   ]
  },
  {
   "cell_type": "markdown",
   "id": "ee2773bd-b529-4bce-aa92-15a0ac6f4e71",
   "metadata": {},
   "source": [
    "### Computing VaR 95\n",
    "\n",
    "We have a `pnl_vector.SUM` measure which is the sum of the profit and loss (PnL) value for each historical date."
   ]
  },
  {
   "cell_type": "code",
   "execution_count": 7,
   "id": "573f9a48-738c-49b6-8ac8-c98e7c2b0f14",
   "metadata": {},
   "outputs": [
    {
     "data": {
      "application/json": {
       "contributors.COUNT": {
        "formatter": "INT[#,###]"
       },
       "pnl_vector.MEAN": {
        "formatter": null
       },
       "pnl_vector.SUM": {
        "formatter": null
       }
      },
      "text/html": [
       "<ul>\n",
       "<li>Measures\n",
       "  <ul>\n",
       "  <li>contributors.COUNT\n",
       "    <ul>\n",
       "    <li>formatter: INT[#,###]</li>\n",
       "    </ul>\n",
       "  </li>\n",
       "  <li>pnl_vector.MEAN\n",
       "    <ul>\n",
       "    <li>formatter: None</li>\n",
       "    </ul>\n",
       "  </li>\n",
       "  <li>pnl_vector.SUM\n",
       "    <ul>\n",
       "    <li>formatter: None</li>\n",
       "    </ul>\n",
       "  </li>\n",
       "  </ul>\n",
       "</li>\n",
       "</ul>\n"
      ],
      "text/plain": [
       "{'pnl_vector.SUM': <atoti.measure.Measure object at 0x12b913010>, 'contributors.COUNT': <atoti.measure.Measure object at 0x1294a1650>, 'pnl_vector.MEAN': <atoti.measure.Measure object at 0x12b9128d0>, 'update.TIMESTAMP': <atoti.measure.Measure object at 0x12b912fd0>}"
      ]
     },
     "execution_count": 7,
     "metadata": {
      "application/json": {
       "expanded": false,
       "root": "Measures"
      }
     },
     "output_type": "execute_result"
    }
   ],
   "source": [
    "m"
   ]
  },
  {
   "cell_type": "markdown",
   "id": "0b029e3d-871b-4fe7-a0fd-ecd8874c9e18",
   "metadata": {},
   "source": [
    "Therefore, we can define the formula for a 95% confidence level [value at risk (VaR)](https://www.investopedia.com/articles/04/092904.asp) measure as follows:"
   ]
  },
  {
   "cell_type": "code",
   "execution_count": 8,
   "id": "0fd8d2bd-e90a-4e9b-8f73-a3dc7f3cbfa7",
   "metadata": {},
   "outputs": [],
   "source": [
    "m[\"VaR95\"] = tt.array.quantile(m[\"pnl_vector.SUM\"], 1 - 0.95)"
   ]
  },
  {
   "cell_type": "markdown",
   "id": "a66ca2af-398b-4a5c-996f-e30b3bec5bec",
   "metadata": {},
   "source": [
    "Then, run the query to calculate `Var95` for each `AsOfDate` and `BUSINESS_UNIT`."
   ]
  },
  {
   "cell_type": "code",
   "execution_count": 9,
   "id": "ccd7c76a-ca77-4e5e-85fc-73be2c2638fe",
   "metadata": {
    "atoti": {
     "widget": {
      "mapping": {
       "columns": [
        "ALL_MEASURES"
       ],
       "measures": [
        "[Measures].[VaR95]"
       ],
       "rows": [
        "[Trade PnL].[AsOfDate].[AsOfDate]",
        "[Books].[BUSINESS_UNIT].[BUSINESS_UNIT]"
       ]
      },
      "query": {
       "mdx": "SELECT NON EMPTY Crossjoin(Hierarchize(Descendants({[Trade PnL].[AsOfDate].[ALL].[AllMember]}, 1, SELF_AND_BEFORE)), Hierarchize(Descendants({[Books].[BUSINESS_UNIT].[ALL].[AllMember]}, 1, SELF_AND_BEFORE))) ON ROWS, NON EMPTY {[Measures].[VaR95]} ON COLUMNS FROM [Trade PnL] CELL PROPERTIES VALUE, FORMATTED_VALUE, BACK_COLOR, FORE_COLOR, FONT_FLAGS",
       "updateMode": "once"
      },
      "serverKey": "default",
      "widgetKey": "pivot-table"
     }
    }
   },
   "outputs": [
    {
     "data": {
      "application/vnd.atoti.widget.v0+json": {
       "sessionId": "1743721624_702822",
       "sessionUrl": "http://localhost:9105",
       "widgetCreationCode": "session.widget"
      },
      "text/html": [
       "<img height=\"352\" width=\"1204\" src=\"data:image/png;base64,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\" />"
      ],
      "text/plain": [
       "Open the notebook in JupyterLab with the Atoti JupyterLab extension enabled to build this widget."
      ]
     },
     "metadata": {},
     "output_type": "display_data"
    }
   ],
   "source": [
    "session.widget"
   ]
  },
  {
   "cell_type": "markdown",
   "id": "d768bc78-a8d3-4d33-bcb4-55076d6b6375",
   "metadata": {},
   "source": [
    "## Monitoring Performance\n",
    "\n",
    "By this point, Atoti has already sent over telemetry data to the OpenTelemetry collector from our previous operations. This data can then be processed and visualized in Grafana using Loki, Tempo, and Prometheus. We can verify that Atoti is generating OpenTelemetry data by navigating to `localhost:3000`. In the left-hand pane, we can visit the *Explore* menu to access our metrics, logs, and traces using Grafana."
   ]
  },
  {
   "cell_type": "markdown",
   "id": "820ff974-6323-43c8-961b-87a497960728",
   "metadata": {},
   "source": [
    "### Metrics\n",
    "\n",
    "Metrics are quantifiable measurements that reflect the behvaior, health, and performance of an application and its infrastructure.\n",
    "\n",
    "In our setup, Prometheus scrapes the telemetry data exported from Atoti to the OTEL collector and enables us to visualize the Atoti-specific metrics in Grafana. Navigate to the Grafana UI located at [localhost:3000](http://localhost:3000) and click on the *Metrics* item in the left-hand pane to pull up the metric charts.\n",
    "\n",
    "💡 **Note:** Check out the documentation for more information on [Atoti-specific metrics](https://docs.activeviam.com/products/atoti/server/6.1.0/docs/monitoring/metrics/).\n",
    "\n",
    "For example, we see various metrics pop up relating to the execution of the notebook, such as loading CSV data into the tables and the resulting table memory footprint. By monitoring the details captured from our metrics, we can better assess the results of our operations in real time.\n",
    "\n",
    "![metrics](https://data.atoti.io/notebooks/observability-with-otel/img/metrics.png)\n",
    "\n",
    "Similarly, we can also view the JVM metrics reported by the OpenTelemetry Java agent.\n",
    "\n",
    "![java-metrics](https://data.atoti.io/notebooks/observability-with-otel/img/java-metrics.png)"
   ]
  },
  {
   "cell_type": "markdown",
   "id": "36a06676-e613-4320-bfa9-7758a5b76bbc",
   "metadata": {},
   "source": [
    "## Logs\n",
    "\n",
    "Logs are the detailed records of events, warnings and errors occurring over time for a software application or system.\n",
    "\n",
    "Loki is a log aggregation system that natively integrates with Grafana to store and query logs for more effective log management. When we view the Atoti logs in Grafana using Loki, we see the underlying events performed in this notebook: starting the Atoti session, loading data from CSV, creating the cube, and most recently, querying the database using the Atoti JupyterLab widget shown in previous cells.\n",
    "\n",
    "![logs](https://data.atoti.io/notebooks/observability-with-otel/img/logs-2.png)\n",
    "\n",
    "Notice that if we click on a single log record, we can also see the underlying fields of the event along with their values. This also allows us to perform filters based on field values, which enhances the investigative abilities when dealing with logs.\n",
    "\n",
    "![logs-fields](https://data.atoti.io/notebooks/observability-with-otel/img/logs-fields.png)"
   ]
  },
  {
   "cell_type": "markdown",
   "id": "69eb39d4-7871-4db8-a596-672c45b3b57b",
   "metadata": {},
   "source": [
    "## Traces\n",
    "\n",
    "Traces help us understand the flow of requests and interactions within a system. They are the detailed records of how a request flows through a system, tracking its journey across different components, services, or processes. Traces are made up of one or more spans. A span represents a single operation within that request, providing detailed information about that specific step in the request flow.\n",
    "\n",
    "With the observability plugin, we can visualize our traces in Grafana using Tempo. Tempo is a distributed tracing backend that natively integrates with Grafana and allows us to visualize the interactions of our requests when we use Atoti.\n",
    "\n",
    "If we select one of the logs relating to the `VaR95` query executed in previous cells, we can pinpoint its `TraceID` and visualize the request flow when querying the Atoti database using the Atoti JupyterLab widget.\n",
    "\n",
    "![logs-traceid](https://data.atoti.io/notebooks/observability-with-otel/img/logs-traceid-2.png)\n",
    "\n",
    "Using these insights we are able to determine the time it takes for a request to complete at every stage of its journey across the system. Should any problems arise, this granular view helps us better diagnose issues.\n",
    "\n",
    "![traceid-spans](https://data.atoti.io/notebooks/observability-with-otel/img/traceid-spans-2.png)"
   ]
  },
  {
   "cell_type": "markdown",
   "id": "147cc6f8-b22a-4f6f-8349-50ac61760152",
   "metadata": {},
   "source": [
    "## Monitoring aggregate providers\n",
    "\n",
    "A common use case in Atoti is to use aggregate providers to speed up queries. Aggregate providers pre-compute and store aggregates for the specified granularity for certain hierarchies. These intermediate aggregates are then stored in-memory and used to improve query performance, though at the cost of a higher memory footprint.\n",
    "\n",
    "💡 **Note:** Take a look at the [aggregate providers](../aggregate-provider/main.ipynb) notebook for a better understanding of how to use aggregate providers.\n",
    "\n",
    "Let's use the observability plugin for Atoti Python SDK to monitor the creation and use of an aggregate provider. We'll use the `query` function with the `%%time` magic command to get a second opinion of how long it takes the query to return the results for the `VaR95` calculation at the specified granularity."
   ]
  },
  {
   "cell_type": "code",
   "execution_count": 10,
   "id": "771537e3-de21-43fc-b012-753afeeff88d",
   "metadata": {},
   "outputs": [
    {
     "name": "stdout",
     "output_type": "stream",
     "text": [
      "CPU times: user 23.9 ms, sys: 6.03 ms, total: 29.9 ms\n",
      "Wall time: 154 ms\n"
     ]
    },
    {
     "data": {
      "application/vnd.atoti.convert-mdx-query-result-to-widget.v0+json": {
       "mdx": "SELECT {[Measures].[VaR95]} ON COLUMNS, NON EMPTY Crossjoin(Hierarchize(Descendants({[Books].[BUSINESS_UNIT].[ALL].[AllMember]}, 1, SELF_AND_BEFORE)), Hierarchize(Descendants({[Books].[SUB_BUSINESS_UNIT].[ALL].[AllMember]}, 1, SELF_AND_BEFORE)), Hierarchize(Descendants({[Books].[TRADING_DESK].[ALL].[AllMember]}, 1, SELF_AND_BEFORE))) ON ROWS FROM [Trade PnL]",
       "sessionId": "1743721624_702822",
       "widgetCreationCode": "session.widget"
      },
      "text/html": [
       "<div>\n",
       "<style scoped>\n",
       "    .dataframe tbody tr th:only-of-type {\n",
       "        vertical-align: middle;\n",
       "    }\n",
       "\n",
       "    .dataframe tbody tr th {\n",
       "        vertical-align: top;\n",
       "    }\n",
       "\n",
       "    .dataframe thead th {\n",
       "        text-align: right;\n",
       "    }\n",
       "</style>\n",
       "<table border=\"1\" class=\"dataframe\">\n",
       "  <thead>\n",
       "    <tr style=\"text-align: right;\">\n",
       "      <th></th>\n",
       "      <th></th>\n",
       "      <th></th>\n",
       "      <th>VaR95</th>\n",
       "    </tr>\n",
       "    <tr>\n",
       "      <th>BUSINESS_UNIT</th>\n",
       "      <th>SUB_BUSINESS_UNIT</th>\n",
       "      <th>TRADING_DESK</th>\n",
       "      <th></th>\n",
       "    </tr>\n",
       "  </thead>\n",
       "  <tbody>\n",
       "    <tr>\n",
       "      <th>Equity</th>\n",
       "      <th>Foreign Equity</th>\n",
       "      <th>Hermes</th>\n",
       "      <td>-15,786,960.05</td>\n",
       "    </tr>\n",
       "    <tr>\n",
       "      <th>Forex</th>\n",
       "      <th>Developed Market</th>\n",
       "      <th>Hades</th>\n",
       "      <td>-11,237,850.85</td>\n",
       "    </tr>\n",
       "    <tr>\n",
       "      <th rowspan=\"2\" valign=\"top\">Rates &amp; Credits</th>\n",
       "      <th rowspan=\"2\" valign=\"top\">Domestic Rates &amp; Credit</th>\n",
       "      <th>Hermes</th>\n",
       "      <td>-14,327,089.30</td>\n",
       "    </tr>\n",
       "    <tr>\n",
       "      <th>Keres</th>\n",
       "      <td>-9,891,420.50</td>\n",
       "    </tr>\n",
       "  </tbody>\n",
       "</table>\n",
       "</div>"
      ],
      "text/plain": [
       "                                                               VaR95\n",
       "BUSINESS_UNIT   SUB_BUSINESS_UNIT       TRADING_DESK                \n",
       "Equity          Foreign Equity          Hermes        -15,786,960.05\n",
       "Forex           Developed Market        Hades         -11,237,850.85\n",
       "Rates & Credits Domestic Rates & Credit Hermes        -14,327,089.30\n",
       "                                        Keres          -9,891,420.50"
      ]
     },
     "execution_count": 10,
     "metadata": {},
     "output_type": "execute_result"
    }
   ],
   "source": [
    "%%time\n",
    "cube.query(\n",
    "    m[\"VaR95\"],\n",
    "    levels=[l[\"BUSINESS_UNIT\"], l[\"SUB_BUSINESS_UNIT\"], l[\"TRADING_DESK\"]],\n",
    ")"
   ]
  },
  {
   "cell_type": "markdown",
   "id": "14e7cae9-149b-4c93-95a5-a84faf71f058",
   "metadata": {},
   "source": [
    "When we re-visit Grafana and Tempo and monitor the trace for the query, we can see the corresponding breakdown of spans for each of the underlying services that were impacted.\n",
    "\n",
    "💡 **Note:** The time taken produced by `%%time` may differ from what is shown in the corresponding TraceID diagram. This is because `%%time` measures the execution time of the notebook cell entirely, whereas the TraceID measures the execution time of a request traveling through the system.\n",
    "\n",
    "![before-aggregate-provider](https://data.atoti.io/notebooks/observability-with-otel/img/before-aggregate-provider.png)"
   ]
  },
  {
   "cell_type": "markdown",
   "id": "c0c1c0c5-2c00-470a-835e-192b506c217a",
   "metadata": {},
   "source": [
    "Let's now create our aggregate provider to match the granularity of the previous query for the `pnl_vector.SUM` measure. This pre-computes and stores the intermediate aggregate for `pnl_vector.SUM` at the specified granularity and improves the query time when calculating `VaR95`."
   ]
  },
  {
   "cell_type": "code",
   "execution_count": 11,
   "id": "467a7574-83b9-4827-9e18-2651a948c7ea",
   "metadata": {},
   "outputs": [],
   "source": [
    "cube.aggregate_providers.update(\n",
    "    {\n",
    "        \"PnL provider\": tt.AggregateProvider(\n",
    "            key=\"bitmap\",\n",
    "            levels=[\n",
    "                l[\"BUSINESS_UNIT\"],\n",
    "                l[\"SUB_BUSINESS_UNIT\"],\n",
    "                l[\"TRADING_DESK\"],\n",
    "            ],\n",
    "            measures=[m[\"pnl_vector.SUM\"]],\n",
    "        )\n",
    "    }\n",
    ")"
   ]
  },
  {
   "cell_type": "markdown",
   "id": "32b5f850-d7ce-4845-8337-8e6c73d70dda",
   "metadata": {},
   "source": [
    "Then, re-run the query."
   ]
  },
  {
   "cell_type": "code",
   "execution_count": 12,
   "id": "a4418335-20e7-467d-b48b-5fdd35152806",
   "metadata": {},
   "outputs": [
    {
     "name": "stdout",
     "output_type": "stream",
     "text": [
      "CPU times: user 8.39 ms, sys: 1.96 ms, total: 10.4 ms\n",
      "Wall time: 59.9 ms\n"
     ]
    },
    {
     "data": {
      "application/vnd.atoti.convert-mdx-query-result-to-widget.v0+json": {
       "mdx": "SELECT {[Measures].[VaR95]} ON COLUMNS, NON EMPTY Crossjoin(Hierarchize(Descendants({[Books].[BUSINESS_UNIT].[ALL].[AllMember]}, 1, SELF_AND_BEFORE)), Hierarchize(Descendants({[Books].[SUB_BUSINESS_UNIT].[ALL].[AllMember]}, 1, SELF_AND_BEFORE)), Hierarchize(Descendants({[Books].[TRADING_DESK].[ALL].[AllMember]}, 1, SELF_AND_BEFORE))) ON ROWS FROM [Trade PnL]",
       "sessionId": "1743721624_702822",
       "widgetCreationCode": "session.widget"
      },
      "text/html": [
       "<div>\n",
       "<style scoped>\n",
       "    .dataframe tbody tr th:only-of-type {\n",
       "        vertical-align: middle;\n",
       "    }\n",
       "\n",
       "    .dataframe tbody tr th {\n",
       "        vertical-align: top;\n",
       "    }\n",
       "\n",
       "    .dataframe thead th {\n",
       "        text-align: right;\n",
       "    }\n",
       "</style>\n",
       "<table border=\"1\" class=\"dataframe\">\n",
       "  <thead>\n",
       "    <tr style=\"text-align: right;\">\n",
       "      <th></th>\n",
       "      <th></th>\n",
       "      <th></th>\n",
       "      <th>VaR95</th>\n",
       "    </tr>\n",
       "    <tr>\n",
       "      <th>BUSINESS_UNIT</th>\n",
       "      <th>SUB_BUSINESS_UNIT</th>\n",
       "      <th>TRADING_DESK</th>\n",
       "      <th></th>\n",
       "    </tr>\n",
       "  </thead>\n",
       "  <tbody>\n",
       "    <tr>\n",
       "      <th>Equity</th>\n",
       "      <th>Foreign Equity</th>\n",
       "      <th>Hermes</th>\n",
       "      <td>-15,786,960.05</td>\n",
       "    </tr>\n",
       "    <tr>\n",
       "      <th>Forex</th>\n",
       "      <th>Developed Market</th>\n",
       "      <th>Hades</th>\n",
       "      <td>-11,237,850.85</td>\n",
       "    </tr>\n",
       "    <tr>\n",
       "      <th rowspan=\"2\" valign=\"top\">Rates &amp; Credits</th>\n",
       "      <th rowspan=\"2\" valign=\"top\">Domestic Rates &amp; Credit</th>\n",
       "      <th>Hermes</th>\n",
       "      <td>-14,327,089.30</td>\n",
       "    </tr>\n",
       "    <tr>\n",
       "      <th>Keres</th>\n",
       "      <td>-9,891,420.50</td>\n",
       "    </tr>\n",
       "  </tbody>\n",
       "</table>\n",
       "</div>"
      ],
      "text/plain": [
       "                                                               VaR95\n",
       "BUSINESS_UNIT   SUB_BUSINESS_UNIT       TRADING_DESK                \n",
       "Equity          Foreign Equity          Hermes        -15,786,960.05\n",
       "Forex           Developed Market        Hades         -11,237,850.85\n",
       "Rates & Credits Domestic Rates & Credit Hermes        -14,327,089.30\n",
       "                                        Keres          -9,891,420.50"
      ]
     },
     "execution_count": 12,
     "metadata": {},
     "output_type": "execute_result"
    }
   ],
   "source": [
    "%%time\n",
    "cube.query(\n",
    "    m[\"VaR95\"],\n",
    "    levels=[l[\"BUSINESS_UNIT\"], l[\"SUB_BUSINESS_UNIT\"], l[\"TRADING_DESK\"]],\n",
    ")"
   ]
  },
  {
   "cell_type": "markdown",
   "id": "7fcae090-9b54-4449-a29c-466cd9d1aa18",
   "metadata": {},
   "source": [
    "We see from the `%%time` magic command that query times have improved thanks to the aggregate provider. In addition, when we view the corresponding TraceID in Grafana and Tempo, we can visualize the granular improvement for the request. For example, we see that the overall time for the trace/request has significantly improved, while the granular spans also show an increase in performance.\n",
    "\n",
    "![after-aggregate-provider](https://data.atoti.io/notebooks/observability-with-otel/img/after-aggregate-provider.png)"
   ]
  },
  {
   "cell_type": "markdown",
   "id": "9a01f240-c9c8-4dab-9862-18a889e91ccf",
   "metadata": {},
   "source": [
    "This walk through was just a small example of how to get observability up and running with OpenTelemetry using the Atoti observability plugin. However, perfomance tuning and monitoring are useful and relevant at any stage of an Atoti project. It's a good idea to set them up during initial stages, so that when the project is ready to scale we have everything we need already in place."
   ]
  },
  {
   "cell_type": "markdown",
   "id": "c92cf61f-d9e1-4911-8b76-2d08e4a8eda8",
   "metadata": {},
   "source": [
    "<div style=\"text-align: center;\" ><a href=\"https://www.atoti.io/?utm_source=gallery&utm_content=observability-with-otel\" target=\"_blank\" rel=\"noopener noreferrer\"><img src=\"https://data.atoti.io/notebooks/banners/Your-turn-to-try-Atoti.jpg\" alt=\"Try Atoti\"></a></div>"
   ]
  }
 ],
 "metadata": {
  "kernelspec": {
   "display_name": "Python 3 (ipykernel)",
   "language": "python",
   "name": "python3"
  },
  "language_info": {
   "codemirror_mode": {
    "name": "ipython",
    "version": 3
   },
   "file_extension": ".py",
   "mimetype": "text/x-python",
   "name": "python",
   "nbconvert_exporter": "python",
   "pygments_lexer": "ipython3",
   "version": "3.11.10"
  },
  "widgets": {
   "application/vnd.jupyter.widget-state+json": {
    "state": {},
    "version_major": 2,
    "version_minor": 0
   }
  }
 },
 "nbformat": 4,
 "nbformat_minor": 5
}
