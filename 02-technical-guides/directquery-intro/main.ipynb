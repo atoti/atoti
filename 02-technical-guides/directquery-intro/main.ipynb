{
 "cells": [
  {
   "cell_type": "markdown",
   "id": "ac3fbb12-82a8-4e9f-aa4e-e1ad414ce283",
   "metadata": {},
   "source": [
    "# DirectQuery: Combining Atoti and Data Warehouses"
   ]
  },
  {
   "cell_type": "markdown",
   "id": "a671e16d-c06b-432f-92c6-5b2d2f7043bd",
   "metadata": {},
   "source": [
    "We know Atoti provides in-memory analytics for big data. This means that we hold data in memory and perform aggregation on the fly in order to achieve fast and dynamic computations. In our usual Atoti setup, the hosting server requires a memory size that's about 1.5 times of the amount of data that gets loaded into the cube.    \n",
    "\n",
    "With Atoti's DirectQuery, we can better support our users who store their data on the cloud! In fact, it applies for on-premise databases such as [ClickHouse](https://clickhouse.com/clickhouse) and [Microsoft SQL Server](https://www.microsoft.com/en-sg/sql-server/sql-server-downloads) too.  \n",
    "In a gist, here's what DirectQuery offers:  \n",
    "\n",
    "<img src=\"https://data.atoti.io/notebooks/direct-query/img/cost_vs_performance.png\" width=\"850px\"/>\n",
    "\n",
    "- Scalability\n",
    "\n",
    "> Leveraging the scalability of cloud data warehouse, the server that hosts Atoti only has to take into consideration the amount of data that gets queried on a daily basis.  \n",
    "> Instead of storing all of the data in physical memory, DirectQuery enables us to query the Cloud database directly, reducing the need for memory in the hosting server.  \n",
    "\n",
    "- Cost savings\n",
    "\n",
    "> Other than saving on the memory required for the hosting server, DirectQuery helps to save on the data transfer costs.  \n",
    "> While cloud data warehouse is cost-effective, we incur costs when we perform queries.  \n",
    "> We can reduce querying to the Cloud database by loading an aggregated cache in memory for the most frequently queried data.  \n",
    "\n",
    "- Technology agnosticism\n",
    "\n",
    "> With changes to only a few lines of data connectivity code in Atoti, we can easily switch from one Cloud service provider to another without impacting the Atoti server.  \n",
    "> We can even switch over to other data connectors such as physical files.  \n",
    "\n",
    "\n",
    "This notebook provides a quick introduction to how we can connect to Google BigQuery and create an Atoti cube."
   ]
  },
  {
   "cell_type": "markdown",
   "id": "f23aeb88-5455-44ee-892d-4aa7fc2dbfb7",
   "metadata": {},
   "source": [
    "<div style=\"text-align: center;\" ><a href=\"https://www.atoti.io/?utm_source=gallery&utm_content=intro-direct-query\" target=\"_blank\" rel=\"noopener noreferrer\"><img src=\"https://data.atoti.io/notebooks/banners/Discover-Atoti-now.png\" alt=\"Try Atoti\"></a></div>"
   ]
  },
  {
   "cell_type": "markdown",
   "id": "663b2051-11e1-4815-8a2c-fde3d450d07b",
   "metadata": {},
   "source": [
    "## Google BigQuery configuration"
   ]
  },
  {
   "cell_type": "markdown",
   "id": "1db76b03-dbe0-4223-a656-8b7e9e2ff260",
   "metadata": {},
   "source": [
    "### Step 1 - Create role with permissions\n",
    "\n",
    "- Login to Google Cloud console.\n",
    "- Navigate to __IAM & Admin__ > __Roles__.  \n",
    "\n",
    "Create a role with the following permission for the DirectQuery users:  \n",
    "\n",
    "- bigquery.datasets.get\n",
    "- bigquery.jobs.create\n",
    "- bigquery.readsessions.create\n",
    "- bigquery.readsessions.getData\n",
    "- bigquery.readsessions.update\n",
    "- bigquery.routines.get\n",
    "- bigquery.tables.get\n",
    "- bigquery.tables.getData\n",
    "- bigquery.tables.list\n",
    "\n",
    "<img src=\"https://data.atoti.io/notebooks/direct-query/img/bigquery_permission.png\" />\n",
    "\n",
    "For more details, refer to the [Atoti Server documentation](https://docs.activeviam.com/products/atoti/server/latest/docs/directquery/connect_to_external/connect_to_bigquery/)."
   ]
  },
  {
   "cell_type": "markdown",
   "id": "2143280e-d2b0-4da1-b20d-78af65d26753",
   "metadata": {},
   "source": [
    "### Step 2 - Create Service Account\n",
    "\n",
    "- Under __IAM & Admin__, navigate to __Service Accounts__.  \n",
    "- Create service account and assign the role created in Step 1.  \n",
    "\n",
    "<img src=\"https://data.atoti.io/notebooks/direct-query/img/service_account.png\" width=\"700px\"/>  "
   ]
  },
  {
   "cell_type": "markdown",
   "id": "03e75ceb-055a-4986-aa8d-6858422b260a",
   "metadata": {
    "tags": []
   },
   "source": [
    "### Step 3 - Generate API Key \n",
    "\n",
    "- Navigate to the __KEYS__ tab and generate a new key.  \n",
    "\n",
    "<img src=\"https://data.atoti.io/notebooks/direct-query/img/create_key.png\" />  \n",
    "\n",
    "- Select \"JSON\" as key type and save the downloaded key to a server folder:  \n",
    "\n",
    "<img src=\"https://data.atoti.io/notebooks/direct-query/img/json_key.png\" />\n",
    "\n",
    "- Configure environment variable pointing to the JSON key. In this use case, our environment variable is `DQ_GOOGLE_CREDENTIAL`:  \n",
    "\n",
    "<img src=\"https://data.atoti.io/notebooks/direct-query/img/environment_variable.png\" />  \n",
    "\n",
    "Alternatively, we can set up [Application Default Credentials](https://cloud.google.com/docs/authentication/provide-credentials-adc) for authentication.  "
   ]
  },
  {
   "cell_type": "markdown",
   "id": "95e30413-d630-4b1b-a304-d824e9649c3d",
   "metadata": {},
   "source": [
    "## Database set up  \n",
    "\n",
    "To try out this notebook, you can setup the database schema and tables using the [database script](db_schema.sql) in the use case folder.  "
   ]
  },
  {
   "cell_type": "markdown",
   "id": "fcfd6d72-801a-460c-9e1f-4e0843909442",
   "metadata": {},
   "source": [
    "## Atoti Setup"
   ]
  },
  {
   "cell_type": "markdown",
   "id": "8857ebb1-032f-4b69-84e6-b8cf7e431def",
   "metadata": {},
   "source": [
    "We import [Atoti](https://docs.atoti.io/latest/getting_started/installation.html) library and create the [Atoti Session](https://docs.atoti.io/latest/lib/atoti/atoti.session.html#atoti.Session) as we always do.  "
   ]
  },
  {
   "cell_type": "code",
   "execution_count": 1,
   "id": "7d97f0ea-5b39-4c60-9a10-1cae5a22616d",
   "metadata": {
    "tags": []
   },
   "outputs": [],
   "source": [
    "import os\n",
    "\n",
    "import atoti as tt"
   ]
  },
  {
   "cell_type": "code",
   "execution_count": 2,
   "id": "3898f076-a031-49b7-a75f-074008d89a26",
   "metadata": {
    "tags": []
   },
   "outputs": [],
   "source": [
    "session = tt.Session()"
   ]
  },
  {
   "cell_type": "markdown",
   "id": "9e855ec8-18bb-46fa-8e99-751edafeb94c",
   "metadata": {},
   "source": [
    "## DirectQuery Pre-requisite"
   ]
  },
  {
   "cell_type": "markdown",
   "id": "01a8923b-80b3-4bfd-86a0-2d705d4bb805",
   "metadata": {},
   "source": [
    "DirectQuery supports a few [databases](https://docs.atoti.io/latest/reference.html#directquery). For each of these databases, we have to install its respective Python plugin.  \n",
    "- `atoti-directquery-bigquery` : To use DirectQuery on Google BigQuery.\n",
    "- `atoti-directquery-clickhouse` : To use DirectQuery with ClickHouse.\n",
    "- `atoti-directquery-databricks` : To use DirectQuery on Databricks.\n",
    "- `atoti-directquery-mssql` : To use DirectQuery with Microsoft SQL Server.\n",
    "- `atoti-directquery-redshift` : To use DirectQuery on Amazon Redshift.\n",
    "- `atoti-directquery-snowflake` : To use DirectQuery on Snowflake.\n",
    "- `atoti-directquery-synapse` : To use DirectQuery on Azure Synapse Analytics.  \n",
    "\n",
    "In our example, we install the plugin for Google BigQuery. Uncomment the below line to install the plugin if it isn't installed.  \n",
    "\n",
    "⚠️We only support one type of database connection per Atoti session."
   ]
  },
  {
   "cell_type": "code",
   "execution_count": 3,
   "id": "af8780d7-ec54-481a-98d7-4cc9f7e030c1",
   "metadata": {
    "tags": []
   },
   "outputs": [],
   "source": [
    "# ! pip install atoti-directquery-bigquery"
   ]
  },
  {
   "cell_type": "markdown",
   "id": "1d997a63-e2db-48f9-b501-0532c5eabb3d",
   "metadata": {},
   "source": [
    "We will be using two components from the DirectQueryPlugin:\n",
    "- [BigqueryConnectionInfo](https://docs.atoti.io/latest/lib/atoti-directquery-bigquery/atoti_directquery_bigquery.connection_info.html): configure the connection information to BigQuery\n",
    "- [BigqueryTableOptions](https://docs.atoti.io/latest/lib/atoti-directquery-bigquery/atoti_directquery_bigquery.table_options.html): configure the table options about the external table to create in Atoti  \n",
    "\n",
    "⚠️Use the corresponding components for different databases if we are using a different one from BigQuery. E.g. we use [`ClickhouseConnectionInfo`](https://docs.atoti.io/latest/lib/atoti-directquery-clickhouse/atoti_directquery_clickhouse.connection_info.html) and [`ClickhouseTableOptions`](https://docs.atoti.io/latest/lib/atoti-directquery-clickhouse/atoti_directquery_clickhouse.table_options.html) if we are connecting to [ClickHouse](https://clickhouse.com/)."
   ]
  },
  {
   "cell_type": "markdown",
   "id": "4509d71b-4d1b-4297-b18a-10430b128507",
   "metadata": {},
   "source": [
    "## Connection setup to Google BigQuery"
   ]
  },
  {
   "cell_type": "code",
   "execution_count": 4,
   "id": "f5eb2f90-be60-4332-80d2-1a5cd83147d4",
   "metadata": {
    "tags": []
   },
   "outputs": [],
   "source": [
    "from atoti_directquery_bigquery import BigqueryConnectionInfo"
   ]
  },
  {
   "cell_type": "markdown",
   "id": "00b90385-93af-479f-888a-bc0677f73eb2",
   "metadata": {},
   "source": [
    "In the below snippet, we use the environment variable to obtain the path to the [API key generated previous in Step 3](#Step-3---Generate-API-Key).  \n",
    "Setting the credential path into `BigqueryConnectionInfo`, we can invoke the connection to the external database.  "
   ]
  },
  {
   "cell_type": "code",
   "execution_count": 5,
   "id": "ea50d105-284f-4296-b654-b5465037d634",
   "metadata": {
    "tags": []
   },
   "outputs": [],
   "source": [
    "credential = os.environ[\"DQ_GOOGLE_CREDENTIAL\"]\n",
    "connection_info = BigqueryConnectionInfo(credential)\n",
    "\n",
    "external_database = session.connect_to_external_database(connection_info)"
   ]
  },
  {
   "cell_type": "markdown",
   "id": "8e7f4c10-5dc6-4c53-aeea-ef4864471caf",
   "metadata": {},
   "source": [
    "### Discover External Tables"
   ]
  },
  {
   "cell_type": "markdown",
   "id": "51f3c2ee-c57b-49df-9756-60c96d9b0734",
   "metadata": {
    "tags": []
   },
   "source": [
    "Once connected, we can discover the tables available to us from the external database."
   ]
  },
  {
   "cell_type": "code",
   "execution_count": 6,
   "id": "5e85bd6f-dd6a-4ab8-a2f2-51d7759466de",
   "metadata": {
    "tags": []
   },
   "outputs": [
    {
     "data": {
      "application/json": {
       "adq-bq": {
        "tutorial": [
         "PRODUCTS",
         "SALES"
        ]
       }
      },
      "text/html": [
       "<ul>\n",
       "<li>BIGQUERY\n",
       "  <ul>\n",
       "  <li>adq-bq\n",
       "    <ul>\n",
       "    <li>tutorial\n",
       "      <ol>\n",
       "      <li>PRODUCTS</li>\n",
       "      <li>SALES</li>\n",
       "      </ol>    </li>\n",
       "    </ul>\n",
       "  </li>\n",
       "  </ul>\n",
       "</li>\n",
       "</ul>\n"
      ],
      "text/plain": [
       "ExternalTables(_tables={'adq-bq': {'tutorial': [t[('adq-bq', 'tutorial', 'PRODUCTS')], t[('adq-bq', 'tutorial', 'SALES')]]}}, _database_key='BIGQUERY', _create_table=<function ExternalDatabaseConnection.tables.<locals>.<lambda> at 0x134e323a0>)"
      ]
     },
     "execution_count": 6,
     "metadata": {
      "application/json": {
       "expanded": false,
       "root": "BIGQUERY"
      }
     },
     "output_type": "execute_result"
    }
   ],
   "source": [
    "external_database.tables"
   ]
  },
  {
   "cell_type": "markdown",
   "id": "4187eaef-cae3-44ca-80c1-dd952dd3faab",
   "metadata": {},
   "source": [
    "If the database has many schemas, we can perform a filter to access only the schema that we want."
   ]
  },
  {
   "cell_type": "code",
   "execution_count": 7,
   "id": "63c5fafe-05e1-429e-8f35-9f3f072e34f7",
   "metadata": {
    "tags": []
   },
   "outputs": [
    {
     "data": {
      "application/json": {
       "adq-bq": {
        "tutorial": [
         "PRODUCTS",
         "SALES"
        ]
       }
      },
      "text/html": [
       "<ul>\n",
       "<li>BIGQUERY\n",
       "  <ul>\n",
       "  <li>adq-bq\n",
       "    <ul>\n",
       "    <li>tutorial\n",
       "      <ol>\n",
       "      <li>PRODUCTS</li>\n",
       "      <li>SALES</li>\n",
       "      </ol>    </li>\n",
       "    </ul>\n",
       "  </li>\n",
       "  </ul>\n",
       "</li>\n",
       "</ul>\n"
      ],
      "text/plain": [
       "ExternalTables(_tables={'adq-bq': {'tutorial': [t[('adq-bq', 'tutorial', 'PRODUCTS')], t[('adq-bq', 'tutorial', 'SALES')]]}}, _database_key='BIGQUERY', _create_table=<function ExternalDatabaseConnection.tables.<locals>.<lambda> at 0x134e32550>)"
      ]
     },
     "execution_count": 7,
     "metadata": {
      "application/json": {
       "expanded": false,
       "root": "BIGQUERY"
      }
     },
     "output_type": "execute_result"
    }
   ],
   "source": [
    "external_database.tables._filter(schema_pattern=\"tutorial\")"
   ]
  },
  {
   "cell_type": "markdown",
   "id": "f1308a2c-a4d2-40e5-9985-7013fa05a9fb",
   "metadata": {},
   "source": [
    "### Discover Table Columns"
   ]
  },
  {
   "cell_type": "markdown",
   "id": "e72119a9-ed38-4d83-a8a5-1fe021b48e5c",
   "metadata": {},
   "source": [
    "If a table name is unique in the database, we can check its structure directly using its name:  "
   ]
  },
  {
   "cell_type": "code",
   "execution_count": 8,
   "id": "f91519b6-a36b-4f0c-b1f0-949b0be22d5f",
   "metadata": {
    "tags": []
   },
   "outputs": [
    {
     "data": {
      "application/json": {
       "DATE": "LocalDate",
       "PRODUCT": "String",
       "QUANTITY": "long",
       "SALE_ID": "String",
       "SHOP": "String",
       "UNIT_PRICE": "double"
      },
      "text/html": [
       "<ul>\n",
       "<li>SALES\n",
       "  <ul>\n",
       "  <li>SALE_ID: String</li>\n",
       "  <li>DATE: LocalDate</li>\n",
       "  <li>SHOP: String</li>\n",
       "  <li>PRODUCT: String</li>\n",
       "  <li>QUANTITY: long</li>\n",
       "  <li>UNIT_PRICE: double</li>\n",
       "  </ul>\n",
       "</li>\n",
       "</ul>\n"
      ],
      "text/plain": [
       "<atoti_directquery_bigquery.table.BigqueryTable at 0x134e2d2b0>"
      ]
     },
     "execution_count": 8,
     "metadata": {
      "application/json": {
       "expanded": true,
       "root": "SALES"
      }
     },
     "output_type": "execute_result"
    }
   ],
   "source": [
    "external_database.tables[\"SALES\"]"
   ]
  },
  {
   "cell_type": "markdown",
   "id": "1d9ef3fb-85a5-472b-aa12-8a88e3d1e6d9",
   "metadata": {},
   "source": [
    "However, to be precise, it is a good practice to refer to the table using its database, schema and table names:"
   ]
  },
  {
   "cell_type": "raw",
   "id": "d71d557b-8e27-4ae1-a760-9ec527847062",
   "metadata": {
    "tags": []
   },
   "source": [
    "db_name = <database name here>\n",
    "db_schema = \"tutorial\"\n",
    "table_sales = \"SALES\""
   ]
  },
  {
   "cell_type": "raw",
   "id": "8d7a0054-8284-472e-b111-6c75d6716c86",
   "metadata": {
    "tags": []
   },
   "source": [
    "external_database.tables[db_name, db_schema, table_sales]"
   ]
  },
  {
   "cell_type": "markdown",
   "id": "85d14ebe-eb8a-4216-8564-8330b4b7b0d9",
   "metadata": {},
   "source": [
    "## Add External Table to Atoti"
   ]
  },
  {
   "cell_type": "markdown",
   "id": "8fa1b581-ee16-4730-8ea2-b29fa14ee03a",
   "metadata": {},
   "source": [
    "Since we have connected to the external database and we are able to see its structure, we can add the required tables to the Atoti session.  \n",
    "\n",
    "Using [BigqueryTableOptions](https://docs.atoti.io/latest/lib/atoti-directquery-bigquery/atoti_directquery_bigquery.table_options.html#atoti_directquery_bigquery.BigqueryTableOptions), we can define additional options to the table that we will create in Atoti:\n",
    "- keys: keys used to identify unique rows for updating of data\n",
    "- clustering_columns: columns used for splitting up queries\n",
    "- array_conversion: converting values spread over multiple columns into array columns \n",
    "\n",
    "We will only use `keys` and `clustering_columns` in our example."
   ]
  },
  {
   "cell_type": "code",
   "execution_count": 9,
   "id": "7dab34b4-ca6f-4c80-8ba9-f8534f9eae5b",
   "metadata": {
    "tags": []
   },
   "outputs": [],
   "source": [
    "from atoti_directquery_bigquery import BigqueryTableOptions"
   ]
  },
  {
   "cell_type": "markdown",
   "id": "790b7a07-c762-438a-878e-de3611f39b5c",
   "metadata": {},
   "source": [
    "Similar to how we create keys for Atoti tables, we set the key columns in the `BigqueryTableOptions`. Note that this external table is created in Atoti and the defined keys affects only the data that is accessible in Atoti. It does not change the tables in BigQuery.  \n",
    "\n",
    "To distinguish our Atoti external table from the BigQuery table, we named them differently in our example.  "
   ]
  },
  {
   "cell_type": "code",
   "execution_count": 10,
   "id": "a580d644-94e0-4772-ac94-a9600bc08546",
   "metadata": {
    "tags": []
   },
   "outputs": [],
   "source": [
    "sales_table = session.add_external_table(\n",
    "    external_database.tables[\"SALES\"],\n",
    "    table_name=\"Atoti Sales\",\n",
    "    options=BigqueryTableOptions(\n",
    "        keys=[\"SALE_ID\"], clustering_columns=[\"DATE\", \"PRODUCT\"]\n",
    "    ),\n",
    ")"
   ]
  },
  {
   "cell_type": "markdown",
   "id": "ac9b4de4-60f9-45d9-8b87-e7d0452714ee",
   "metadata": {},
   "source": [
    "To speed up querying, Atoti makes use of [aggregate providers](https://docs.atoti.io/latest/lib/atoti/atoti.aggregate_provider.html#atoti.AggregateProvider) to pre-aggregates some table columns up to certain levels.  \n",
    "Feeding such providers from an external database can result in very large queries to be run on the database. Some databases can have trouble processing such large queries.  \n",
    "Therefore, we define [clustering columns](https://docs.activeviam.com/products/atoti/server/latest/docs/directquery/directquery-clustering-fields/) to help split up queries made by DirectQuery to these external database when feeding the aggregate providers.  \n",
    "\n",
    "The `clustering_columns` parameter allows us to define columns to be used for clustering. While our example uses a small dataset and clustering column is not necessary, we demonstrate how it can be used in the snippet above.  "
   ]
  },
  {
   "cell_type": "code",
   "execution_count": 11,
   "id": "561e7c19-28cc-4796-918b-24de800147a7",
   "metadata": {
    "tags": []
   },
   "outputs": [
    {
     "data": {
      "text/html": [
       "<div>\n",
       "<style scoped>\n",
       "    .dataframe tbody tr th:only-of-type {\n",
       "        vertical-align: middle;\n",
       "    }\n",
       "\n",
       "    .dataframe tbody tr th {\n",
       "        vertical-align: top;\n",
       "    }\n",
       "\n",
       "    .dataframe thead th {\n",
       "        text-align: right;\n",
       "    }\n",
       "</style>\n",
       "<table border=\"1\" class=\"dataframe\">\n",
       "  <thead>\n",
       "    <tr style=\"text-align: right;\">\n",
       "      <th></th>\n",
       "      <th>DATE</th>\n",
       "      <th>SHOP</th>\n",
       "      <th>PRODUCT</th>\n",
       "      <th>QUANTITY</th>\n",
       "      <th>UNIT_PRICE</th>\n",
       "    </tr>\n",
       "    <tr>\n",
       "      <th>SALE_ID</th>\n",
       "      <th></th>\n",
       "      <th></th>\n",
       "      <th></th>\n",
       "      <th></th>\n",
       "      <th></th>\n",
       "    </tr>\n",
       "  </thead>\n",
       "  <tbody>\n",
       "    <tr>\n",
       "      <th>S0009</th>\n",
       "      <td>2022-01-31</td>\n",
       "      <td>shop_3</td>\n",
       "      <td>BED_2</td>\n",
       "      <td>1</td>\n",
       "      <td>150.0</td>\n",
       "    </tr>\n",
       "    <tr>\n",
       "      <th>S0008</th>\n",
       "      <td>2022-01-31</td>\n",
       "      <td>shop_4</td>\n",
       "      <td>BED_2</td>\n",
       "      <td>1</td>\n",
       "      <td>150.0</td>\n",
       "    </tr>\n",
       "    <tr>\n",
       "      <th>S0007</th>\n",
       "      <td>2022-02-01</td>\n",
       "      <td>shop_5</td>\n",
       "      <td>BED_2</td>\n",
       "      <td>1</td>\n",
       "      <td>150.0</td>\n",
       "    </tr>\n",
       "    <tr>\n",
       "      <th>S0017</th>\n",
       "      <td>2022-02-04</td>\n",
       "      <td>shop_3</td>\n",
       "      <td>HOO_5</td>\n",
       "      <td>1</td>\n",
       "      <td>48.0</td>\n",
       "    </tr>\n",
       "    <tr>\n",
       "      <th>S0019</th>\n",
       "      <td>2022-02-02</td>\n",
       "      <td>shop_3</td>\n",
       "      <td>HOO_5</td>\n",
       "      <td>1</td>\n",
       "      <td>48.0</td>\n",
       "    </tr>\n",
       "  </tbody>\n",
       "</table>\n",
       "</div>"
      ],
      "text/plain": [
       "              DATE    SHOP PRODUCT  QUANTITY  UNIT_PRICE\n",
       "SALE_ID                                                 \n",
       "S0009   2022-01-31  shop_3   BED_2         1       150.0\n",
       "S0008   2022-01-31  shop_4   BED_2         1       150.0\n",
       "S0007   2022-02-01  shop_5   BED_2         1       150.0\n",
       "S0017   2022-02-04  shop_3   HOO_5         1        48.0\n",
       "S0019   2022-02-02  shop_3   HOO_5         1        48.0"
      ]
     },
     "execution_count": 11,
     "metadata": {},
     "output_type": "execute_result"
    }
   ],
   "source": [
    "sales_table.head()"
   ]
  },
  {
   "cell_type": "markdown",
   "id": "dc44214e-743e-4937-9269-61498986355b",
   "metadata": {},
   "source": [
    "We can add multiple tables."
   ]
  },
  {
   "cell_type": "code",
   "execution_count": 12,
   "id": "f282f67a-dfa9-4ba1-aef7-779ec734fe50",
   "metadata": {
    "tags": []
   },
   "outputs": [
    {
     "data": {
      "text/html": [
       "<div>\n",
       "<style scoped>\n",
       "    .dataframe tbody tr th:only-of-type {\n",
       "        vertical-align: middle;\n",
       "    }\n",
       "\n",
       "    .dataframe tbody tr th {\n",
       "        vertical-align: top;\n",
       "    }\n",
       "\n",
       "    .dataframe thead th {\n",
       "        text-align: right;\n",
       "    }\n",
       "</style>\n",
       "<table border=\"1\" class=\"dataframe\">\n",
       "  <thead>\n",
       "    <tr style=\"text-align: right;\">\n",
       "      <th></th>\n",
       "      <th>CATEGORY</th>\n",
       "      <th>SUB_CATEGORY</th>\n",
       "      <th>SIZE</th>\n",
       "      <th>PURCHASE_PRICE</th>\n",
       "      <th>COLOR</th>\n",
       "      <th>BRAND</th>\n",
       "    </tr>\n",
       "    <tr>\n",
       "      <th>PRODUCT_ID</th>\n",
       "      <th></th>\n",
       "      <th></th>\n",
       "      <th></th>\n",
       "      <th></th>\n",
       "      <th></th>\n",
       "      <th></th>\n",
       "    </tr>\n",
       "  </thead>\n",
       "  <tbody>\n",
       "    <tr>\n",
       "      <th>TSH_4</th>\n",
       "      <td>Cloth</td>\n",
       "      <td>Tshirt</td>\n",
       "      <td>L</td>\n",
       "      <td>20.0</td>\n",
       "      <td>black</td>\n",
       "      <td>Over</td>\n",
       "    </tr>\n",
       "    <tr>\n",
       "      <th>TSH_3</th>\n",
       "      <td>Cloth</td>\n",
       "      <td>Tshirt</td>\n",
       "      <td>M</td>\n",
       "      <td>19.0</td>\n",
       "      <td>brown</td>\n",
       "      <td>Over</td>\n",
       "    </tr>\n",
       "    <tr>\n",
       "      <th>HOO_5</th>\n",
       "      <td>Cloth</td>\n",
       "      <td>Hoodie</td>\n",
       "      <td>M</td>\n",
       "      <td>38.0</td>\n",
       "      <td>red</td>\n",
       "      <td>Mega</td>\n",
       "    </tr>\n",
       "    <tr>\n",
       "      <th>BED_2</th>\n",
       "      <td>Furniture</td>\n",
       "      <td>Bed</td>\n",
       "      <td>Single</td>\n",
       "      <td>127.0</td>\n",
       "      <td>red</td>\n",
       "      <td>Mega</td>\n",
       "    </tr>\n",
       "    <tr>\n",
       "      <th>TAB_0</th>\n",
       "      <td>Furniture</td>\n",
       "      <td>Table</td>\n",
       "      <td>1m80</td>\n",
       "      <td>190.0</td>\n",
       "      <td>black</td>\n",
       "      <td>Basic</td>\n",
       "    </tr>\n",
       "  </tbody>\n",
       "</table>\n",
       "</div>"
      ],
      "text/plain": [
       "             CATEGORY SUB_CATEGORY    SIZE  PURCHASE_PRICE  COLOR  BRAND\n",
       "PRODUCT_ID                                                              \n",
       "TSH_4           Cloth       Tshirt       L            20.0  black   Over\n",
       "TSH_3           Cloth       Tshirt       M            19.0  brown   Over\n",
       "HOO_5           Cloth       Hoodie       M            38.0    red   Mega\n",
       "BED_2       Furniture          Bed  Single           127.0    red   Mega\n",
       "TAB_0       Furniture        Table    1m80           190.0  black  Basic"
      ]
     },
     "execution_count": 12,
     "metadata": {},
     "output_type": "execute_result"
    }
   ],
   "source": [
    "products_table = session.add_external_table(\n",
    "    external_database.tables[\"PRODUCTS\"],\n",
    "    table_name=\"Atoti Product\",\n",
    "    options=BigqueryTableOptions(keys=[\"PRODUCT_ID\"]),\n",
    ")\n",
    "\n",
    "products_table.head()"
   ]
  },
  {
   "cell_type": "markdown",
   "id": "57349699-117a-4cf9-bb95-5910f18d5187",
   "metadata": {},
   "source": [
    "Once we have created our external tables, the rest is _simply the usual stuff for Atoti_."
   ]
  },
  {
   "cell_type": "markdown",
   "id": "564a8bad-9c60-4c7a-b94e-918b5112cfdb",
   "metadata": {
    "tags": []
   },
   "source": [
    "## Atoti Cube Setup"
   ]
  },
  {
   "cell_type": "markdown",
   "id": "2f24568b-71da-4341-a716-f8abdbdce17d",
   "metadata": {
    "tags": []
   },
   "source": [
    "From this section onwards, the coding remains the same regardless of the underlying data source.  \n",
    "\n",
    "As we have always done, we join the tables and create the cube."
   ]
  },
  {
   "cell_type": "code",
   "execution_count": 13,
   "id": "d7c6f9f2-efb3-4ef7-9d63-d2155fc20f2c",
   "metadata": {
    "tags": []
   },
   "outputs": [],
   "source": [
    "sales_table.join(products_table, sales_table[\"PRODUCT\"] == products_table[\"PRODUCT_ID\"])"
   ]
  },
  {
   "cell_type": "code",
   "execution_count": 14,
   "id": "93f6c667-27b6-4e2e-9685-ef275235622c",
   "metadata": {
    "tags": []
   },
   "outputs": [
    {
     "data": {
      "image/svg+xml": [
       "<svg xmlns=\"http://www.w3.org/2000/svg\" xmlns:xlink=\"http://www.w3.org/1999/xlink\" width=\"660px\" height=\"205px\" viewBox=\"0.00 0.00 659.50 205.00\">\n",
       "<g id=\"graph0\" class=\"graph\" transform=\"scale(1.0 1.0) rotate(0) translate(4 201)\">\n",
       "<title>Datastore schema</title>\n",
       "<polygon fill=\"white\" stroke=\"none\" points=\"-4,4 -4,-201 655.5,-201 655.5,4 -4,4\"/>\n",
       "<!-- Atoti Product -->\n",
       "<g id=\"node1\" class=\"node\">\n",
       "<title>Atoti Product</title>\n",
       "<text text-anchor=\"start\" x=\"492.25\" y=\"-174.15\" font-family=\"-apple-system, BlinkMacSystemFont, 'Segoe UI', Helvetica, Arial, sans-serif, 'Apple Color Emoji', 'Segoe UI Emoji', 'Segoe UI Symbol'\" font-weight=\"bold\" font-size=\"13.00\">Atoti Product</text>\n",
       "<polygon fill=\"#f5f5f5\" stroke=\"none\" points=\"427.5,-144.5 427.5,-167.5 459.5,-167.5 459.5,-144.5 427.5,-144.5\"/>\n",
       "<text text-anchor=\"start\" x=\"432.25\" y=\"-151.15\" font-family=\"-apple-system, BlinkMacSystemFont, 'Segoe UI', Helvetica, Arial, sans-serif, 'Apple Color Emoji', 'Segoe UI Emoji', 'Segoe UI Symbol'\" font-weight=\"bold\" font-size=\"13.00\">key</text>\n",
       "<polygon fill=\"#f5f5f5\" stroke=\"none\" points=\"459.5,-144.5 459.5,-167.5 592.5,-167.5 592.5,-144.5 459.5,-144.5\"/>\n",
       "<text text-anchor=\"start\" x=\"464.5\" y=\"-150.15\" font-family=\"-apple-system, BlinkMacSystemFont, 'Segoe UI', Helvetica, Arial, sans-serif, 'Apple Color Emoji', 'Segoe UI Emoji', 'Segoe UI Symbol'\" font-size=\"13.00\">PRODUCT_ID</text>\n",
       "<polygon fill=\"#f5f5f5\" stroke=\"none\" points=\"592.5,-144.5 592.5,-167.5 642.5,-167.5 642.5,-144.5 592.5,-144.5\"/>\n",
       "<text text-anchor=\"start\" x=\"604.5\" y=\"-151.15\" font-family=\"-apple-system, BlinkMacSystemFont, 'Segoe UI', Helvetica, Arial, sans-serif, 'Apple Color Emoji', 'Segoe UI Emoji', 'Segoe UI Symbol'\" font-style=\"italic\" font-size=\"13.00\">string</text>\n",
       "<polygon fill=\"#ffffff\" stroke=\"none\" points=\"427.5,-121.5 427.5,-144.5 459.5,-144.5 459.5,-121.5 427.5,-121.5\"/>\n",
       "<polygon fill=\"#ffffff\" stroke=\"none\" points=\"459.5,-121.5 459.5,-144.5 592.5,-144.5 592.5,-121.5 459.5,-121.5\"/>\n",
       "<text text-anchor=\"start\" x=\"464.5\" y=\"-127.15\" font-family=\"-apple-system, BlinkMacSystemFont, 'Segoe UI', Helvetica, Arial, sans-serif, 'Apple Color Emoji', 'Segoe UI Emoji', 'Segoe UI Symbol'\" font-size=\"13.00\">CATEGORY</text>\n",
       "<polygon fill=\"#ffffff\" stroke=\"none\" points=\"592.5,-121.5 592.5,-144.5 642.5,-144.5 642.5,-121.5 592.5,-121.5\"/>\n",
       "<text text-anchor=\"start\" x=\"604.5\" y=\"-128.15\" font-family=\"-apple-system, BlinkMacSystemFont, 'Segoe UI', Helvetica, Arial, sans-serif, 'Apple Color Emoji', 'Segoe UI Emoji', 'Segoe UI Symbol'\" font-style=\"italic\" font-size=\"13.00\">string</text>\n",
       "<polygon fill=\"#f5f5f5\" stroke=\"none\" points=\"427.5,-98.5 427.5,-121.5 459.5,-121.5 459.5,-98.5 427.5,-98.5\"/>\n",
       "<polygon fill=\"#f5f5f5\" stroke=\"none\" points=\"459.5,-98.5 459.5,-121.5 592.5,-121.5 592.5,-98.5 459.5,-98.5\"/>\n",
       "<text text-anchor=\"start\" x=\"464.5\" y=\"-104.15\" font-family=\"-apple-system, BlinkMacSystemFont, 'Segoe UI', Helvetica, Arial, sans-serif, 'Apple Color Emoji', 'Segoe UI Emoji', 'Segoe UI Symbol'\" font-size=\"13.00\">SUB_CATEGORY</text>\n",
       "<polygon fill=\"#f5f5f5\" stroke=\"none\" points=\"592.5,-98.5 592.5,-121.5 642.5,-121.5 642.5,-98.5 592.5,-98.5\"/>\n",
       "<text text-anchor=\"start\" x=\"604.5\" y=\"-105.15\" font-family=\"-apple-system, BlinkMacSystemFont, 'Segoe UI', Helvetica, Arial, sans-serif, 'Apple Color Emoji', 'Segoe UI Emoji', 'Segoe UI Symbol'\" font-style=\"italic\" font-size=\"13.00\">string</text>\n",
       "<polygon fill=\"#ffffff\" stroke=\"none\" points=\"427.5,-75.5 427.5,-98.5 459.5,-98.5 459.5,-75.5 427.5,-75.5\"/>\n",
       "<polygon fill=\"#ffffff\" stroke=\"none\" points=\"459.5,-75.5 459.5,-98.5 592.5,-98.5 592.5,-75.5 459.5,-75.5\"/>\n",
       "<text text-anchor=\"start\" x=\"464.5\" y=\"-81.15\" font-family=\"-apple-system, BlinkMacSystemFont, 'Segoe UI', Helvetica, Arial, sans-serif, 'Apple Color Emoji', 'Segoe UI Emoji', 'Segoe UI Symbol'\" font-size=\"13.00\">SIZE</text>\n",
       "<polygon fill=\"#ffffff\" stroke=\"none\" points=\"592.5,-75.5 592.5,-98.5 642.5,-98.5 642.5,-75.5 592.5,-75.5\"/>\n",
       "<text text-anchor=\"start\" x=\"604.5\" y=\"-82.15\" font-family=\"-apple-system, BlinkMacSystemFont, 'Segoe UI', Helvetica, Arial, sans-serif, 'Apple Color Emoji', 'Segoe UI Emoji', 'Segoe UI Symbol'\" font-style=\"italic\" font-size=\"13.00\">string</text>\n",
       "<polygon fill=\"#f5f5f5\" stroke=\"none\" points=\"427.5,-52.5 427.5,-75.5 459.5,-75.5 459.5,-52.5 427.5,-52.5\"/>\n",
       "<polygon fill=\"#f5f5f5\" stroke=\"none\" points=\"459.5,-52.5 459.5,-75.5 592.5,-75.5 592.5,-52.5 459.5,-52.5\"/>\n",
       "<text text-anchor=\"start\" x=\"464.12\" y=\"-58.15\" font-family=\"-apple-system, BlinkMacSystemFont, 'Segoe UI', Helvetica, Arial, sans-serif, 'Apple Color Emoji', 'Segoe UI Emoji', 'Segoe UI Symbol'\" font-size=\"13.00\">PURCHASE_PRICE</text>\n",
       "<polygon fill=\"#f5f5f5\" stroke=\"none\" points=\"592.5,-52.5 592.5,-75.5 642.5,-75.5 642.5,-52.5 592.5,-52.5\"/>\n",
       "<text text-anchor=\"start\" x=\"597.25\" y=\"-59.15\" font-family=\"-apple-system, BlinkMacSystemFont, 'Segoe UI', Helvetica, Arial, sans-serif, 'Apple Color Emoji', 'Segoe UI Emoji', 'Segoe UI Symbol'\" font-style=\"italic\" font-size=\"13.00\">double</text>\n",
       "<polygon fill=\"#ffffff\" stroke=\"none\" points=\"427.5,-29.5 427.5,-52.5 459.5,-52.5 459.5,-29.5 427.5,-29.5\"/>\n",
       "<polygon fill=\"#ffffff\" stroke=\"none\" points=\"459.5,-29.5 459.5,-52.5 592.5,-52.5 592.5,-29.5 459.5,-29.5\"/>\n",
       "<text text-anchor=\"start\" x=\"464.5\" y=\"-35.15\" font-family=\"-apple-system, BlinkMacSystemFont, 'Segoe UI', Helvetica, Arial, sans-serif, 'Apple Color Emoji', 'Segoe UI Emoji', 'Segoe UI Symbol'\" font-size=\"13.00\">COLOR</text>\n",
       "<polygon fill=\"#ffffff\" stroke=\"none\" points=\"592.5,-29.5 592.5,-52.5 642.5,-52.5 642.5,-29.5 592.5,-29.5\"/>\n",
       "<text text-anchor=\"start\" x=\"604.5\" y=\"-36.15\" font-family=\"-apple-system, BlinkMacSystemFont, 'Segoe UI', Helvetica, Arial, sans-serif, 'Apple Color Emoji', 'Segoe UI Emoji', 'Segoe UI Symbol'\" font-style=\"italic\" font-size=\"13.00\">string</text>\n",
       "<polygon fill=\"#f5f5f5\" stroke=\"none\" points=\"427.5,-6.5 427.5,-29.5 459.5,-29.5 459.5,-6.5 427.5,-6.5\"/>\n",
       "<polygon fill=\"#f5f5f5\" stroke=\"none\" points=\"459.5,-6.5 459.5,-29.5 592.5,-29.5 592.5,-6.5 459.5,-6.5\"/>\n",
       "<text text-anchor=\"start\" x=\"464.5\" y=\"-12.15\" font-family=\"-apple-system, BlinkMacSystemFont, 'Segoe UI', Helvetica, Arial, sans-serif, 'Apple Color Emoji', 'Segoe UI Emoji', 'Segoe UI Symbol'\" font-size=\"13.00\">BRAND</text>\n",
       "<polygon fill=\"#f5f5f5\" stroke=\"none\" points=\"592.5,-6.5 592.5,-29.5 642.5,-29.5 642.5,-6.5 592.5,-6.5\"/>\n",
       "<text text-anchor=\"start\" x=\"604.5\" y=\"-13.15\" font-family=\"-apple-system, BlinkMacSystemFont, 'Segoe UI', Helvetica, Arial, sans-serif, 'Apple Color Emoji', 'Segoe UI Emoji', 'Segoe UI Symbol'\" font-style=\"italic\" font-size=\"13.00\">string</text>\n",
       "<polygon fill=\"none\" stroke=\"black\" points=\"426.5,-5.5 426.5,-191.5 643.5,-191.5 643.5,-5.5 426.5,-5.5\"/>\n",
       "</g>\n",
       "<!-- Atoti Sales -->\n",
       "<g id=\"node2\" class=\"node\">\n",
       "<title>Atoti Sales</title>\n",
       "<text text-anchor=\"start\" x=\"70.12\" y=\"-175.65\" font-family=\"-apple-system, BlinkMacSystemFont, 'Segoe UI', Helvetica, Arial, sans-serif, 'Apple Color Emoji', 'Segoe UI Emoji', 'Segoe UI Symbol'\" font-weight=\"bold\" font-size=\"13.00\">Atoti Sales</text>\n",
       "<text text-anchor=\"start\" x=\"47.62\" y=\"-149.65\" font-family=\"-apple-system, BlinkMacSystemFont, 'Segoe UI', Helvetica, Arial, sans-serif, 'Apple Color Emoji', 'Segoe UI Emoji', 'Segoe UI Symbol'\" font-size=\"13.00\">base of: Atoti Sales</text>\n",
       "<polygon fill=\"#f5f5f5\" stroke=\"none\" points=\"9,-120 9,-143 41,-143 41,-120 9,-120\"/>\n",
       "<text text-anchor=\"start\" x=\"13.75\" y=\"-126.65\" font-family=\"-apple-system, BlinkMacSystemFont, 'Segoe UI', Helvetica, Arial, sans-serif, 'Apple Color Emoji', 'Segoe UI Emoji', 'Segoe UI Symbol'\" font-weight=\"bold\" font-size=\"13.00\">key</text>\n",
       "<polygon fill=\"#f5f5f5\" stroke=\"none\" points=\"41,-120 41,-143 131,-143 131,-120 41,-120\"/>\n",
       "<text text-anchor=\"start\" x=\"46\" y=\"-125.65\" font-family=\"-apple-system, BlinkMacSystemFont, 'Segoe UI', Helvetica, Arial, sans-serif, 'Apple Color Emoji', 'Segoe UI Emoji', 'Segoe UI Symbol'\" font-size=\"13.00\">SALE_ID</text>\n",
       "<polygon fill=\"#f5f5f5\" stroke=\"none\" points=\"131,-120 131,-143 201,-143 201,-120 131,-120\"/>\n",
       "<text text-anchor=\"start\" x=\"163\" y=\"-126.65\" font-family=\"-apple-system, BlinkMacSystemFont, 'Segoe UI', Helvetica, Arial, sans-serif, 'Apple Color Emoji', 'Segoe UI Emoji', 'Segoe UI Symbol'\" font-style=\"italic\" font-size=\"13.00\">string</text>\n",
       "<polygon fill=\"#ffffff\" stroke=\"none\" points=\"9,-97 9,-120 41,-120 41,-97 9,-97\"/>\n",
       "<polygon fill=\"#ffffff\" stroke=\"none\" points=\"41,-97 41,-120 131,-120 131,-97 41,-97\"/>\n",
       "<text text-anchor=\"start\" x=\"46\" y=\"-102.65\" font-family=\"-apple-system, BlinkMacSystemFont, 'Segoe UI', Helvetica, Arial, sans-serif, 'Apple Color Emoji', 'Segoe UI Emoji', 'Segoe UI Symbol'\" font-size=\"13.00\">DATE</text>\n",
       "<polygon fill=\"#ffffff\" stroke=\"none\" points=\"131,-97 131,-120 201,-120 201,-97 131,-97\"/>\n",
       "<text text-anchor=\"start\" x=\"135.62\" y=\"-103.65\" font-family=\"-apple-system, BlinkMacSystemFont, 'Segoe UI', Helvetica, Arial, sans-serif, 'Apple Color Emoji', 'Segoe UI Emoji', 'Segoe UI Symbol'\" font-style=\"italic\" font-size=\"13.00\">LocalDate</text>\n",
       "<polygon fill=\"#f5f5f5\" stroke=\"none\" points=\"9,-74 9,-97 41,-97 41,-74 9,-74\"/>\n",
       "<polygon fill=\"#f5f5f5\" stroke=\"none\" points=\"41,-74 41,-97 131,-97 131,-74 41,-74\"/>\n",
       "<text text-anchor=\"start\" x=\"46\" y=\"-79.65\" font-family=\"-apple-system, BlinkMacSystemFont, 'Segoe UI', Helvetica, Arial, sans-serif, 'Apple Color Emoji', 'Segoe UI Emoji', 'Segoe UI Symbol'\" font-size=\"13.00\">SHOP</text>\n",
       "<polygon fill=\"#f5f5f5\" stroke=\"none\" points=\"131,-74 131,-97 201,-97 201,-74 131,-74\"/>\n",
       "<text text-anchor=\"start\" x=\"163\" y=\"-80.65\" font-family=\"-apple-system, BlinkMacSystemFont, 'Segoe UI', Helvetica, Arial, sans-serif, 'Apple Color Emoji', 'Segoe UI Emoji', 'Segoe UI Symbol'\" font-style=\"italic\" font-size=\"13.00\">string</text>\n",
       "<polygon fill=\"#ffffff\" stroke=\"none\" points=\"9,-51 9,-74 41,-74 41,-51 9,-51\"/>\n",
       "<polygon fill=\"#ffffff\" stroke=\"none\" points=\"41,-51 41,-74 131,-74 131,-51 41,-51\"/>\n",
       "<text text-anchor=\"start\" x=\"46\" y=\"-56.65\" font-family=\"-apple-system, BlinkMacSystemFont, 'Segoe UI', Helvetica, Arial, sans-serif, 'Apple Color Emoji', 'Segoe UI Emoji', 'Segoe UI Symbol'\" font-size=\"13.00\">PRODUCT</text>\n",
       "<polygon fill=\"#ffffff\" stroke=\"none\" points=\"131,-51 131,-74 201,-74 201,-51 131,-51\"/>\n",
       "<text text-anchor=\"start\" x=\"163\" y=\"-57.65\" font-family=\"-apple-system, BlinkMacSystemFont, 'Segoe UI', Helvetica, Arial, sans-serif, 'Apple Color Emoji', 'Segoe UI Emoji', 'Segoe UI Symbol'\" font-style=\"italic\" font-size=\"13.00\">string</text>\n",
       "<polygon fill=\"#f5f5f5\" stroke=\"none\" points=\"9,-28 9,-51 41,-51 41,-28 9,-28\"/>\n",
       "<polygon fill=\"#f5f5f5\" stroke=\"none\" points=\"41,-28 41,-51 131,-51 131,-28 41,-28\"/>\n",
       "<text text-anchor=\"start\" x=\"46\" y=\"-33.65\" font-family=\"-apple-system, BlinkMacSystemFont, 'Segoe UI', Helvetica, Arial, sans-serif, 'Apple Color Emoji', 'Segoe UI Emoji', 'Segoe UI Symbol'\" font-size=\"13.00\">QUANTITY</text>\n",
       "<polygon fill=\"#f5f5f5\" stroke=\"none\" points=\"131,-28 131,-51 201,-51 201,-28 131,-28\"/>\n",
       "<text text-anchor=\"start\" x=\"170.5\" y=\"-34.65\" font-family=\"-apple-system, BlinkMacSystemFont, 'Segoe UI', Helvetica, Arial, sans-serif, 'Apple Color Emoji', 'Segoe UI Emoji', 'Segoe UI Symbol'\" font-style=\"italic\" font-size=\"13.00\">long</text>\n",
       "<polygon fill=\"#ffffff\" stroke=\"none\" points=\"9,-5 9,-28 41,-28 41,-5 9,-5\"/>\n",
       "<polygon fill=\"#ffffff\" stroke=\"none\" points=\"41,-5 41,-28 131,-28 131,-5 41,-5\"/>\n",
       "<text text-anchor=\"start\" x=\"45.88\" y=\"-10.65\" font-family=\"-apple-system, BlinkMacSystemFont, 'Segoe UI', Helvetica, Arial, sans-serif, 'Apple Color Emoji', 'Segoe UI Emoji', 'Segoe UI Symbol'\" font-size=\"13.00\">UNIT_PRICE</text>\n",
       "<polygon fill=\"#ffffff\" stroke=\"none\" points=\"131,-5 131,-28 201,-28 201,-5 131,-5\"/>\n",
       "<text text-anchor=\"start\" x=\"155.5\" y=\"-11.65\" font-family=\"-apple-system, BlinkMacSystemFont, 'Segoe UI', Helvetica, Arial, sans-serif, 'Apple Color Emoji', 'Segoe UI Emoji', 'Segoe UI Symbol'\" font-style=\"italic\" font-size=\"13.00\">double</text>\n",
       "<polygon fill=\"none\" stroke=\"black\" points=\"8,-4 8,-193 202,-193 202,-4 8,-4\"/>\n",
       "</g>\n",
       "<!-- Atoti Sales&#45;&gt;Atoti Product -->\n",
       "<g id=\"edge1\" class=\"edge\">\n",
       "<title>Atoti Sales-&gt;Atoti Product</title>\n",
       "<path fill=\"none\" stroke=\"black\" d=\"M209.88,-98.5C269.4,-98.5 344.54,-98.5 407.48,-98.5\"/>\n",
       "<polygon fill=\"black\" stroke=\"black\" points=\"407.17,-102 417.17,-98.5 407.17,-95 407.17,-102\"/>\n",
       "<text text-anchor=\"middle\" x=\"314.25\" y=\"-101.15\" font-family=\"-apple-system, BlinkMacSystemFont, 'Segoe UI', Helvetica, Arial, sans-serif, 'Apple Color Emoji', 'Segoe UI Emoji', 'Segoe UI Symbol'\" font-size=\"13.00\">PRODUCT → PRODUCT_ID</text>\n",
       "</g>\n",
       "</g>\n",
       "</svg>"
      ],
      "text/plain": [
       "<IPython.core.display.SVG object>"
      ]
     },
     "execution_count": 14,
     "metadata": {},
     "output_type": "execute_result"
    }
   ],
   "source": [
    "cube = session.create_cube(sales_table)\n",
    "session.tables.schema"
   ]
  },
  {
   "cell_type": "code",
   "execution_count": 15,
   "id": "4ee29cb6-1f57-43f2-b6e7-ad2e72d8abd4",
   "metadata": {
    "atoti": {
     "widget": {
      "mapping": {
       "columns": [
        "ALL_MEASURES"
       ],
       "measures": [
        "[Measures].[QUANTITY.SUM]"
       ],
       "rows": [
        "[Atoti Sales].[DATE].[DATE]",
        "[Atoti Sales].[SHOP].[SHOP] => [Atoti Product].[BRAND].[BRAND]"
       ]
      },
      "name": "Quantity sold across dates by shops",
      "query": {
       "mdx": "SELECT NON EMPTY {[Measures].[QUANTITY.SUM]} ON COLUMNS, NON EMPTY Hierarchize(Union(Crossjoin(Hierarchize(Descendants({[Atoti Sales].[DATE].[AllMember]}, 1, SELF_AND_BEFORE)), Hierarchize(Descendants({[Atoti Sales].[SHOP].[AllMember]}, 1, SELF_AND_BEFORE)), [Atoti Product].[BRAND].DefaultMember), Crossjoin([Atoti Sales].[DATE].[AllMember].[2022-01-31], [Atoti Sales].[SHOP].[AllMember].[shop_2], Hierarchize(Descendants({[Atoti Product].[BRAND].[AllMember]}, 1, SELF_AND_BEFORE))))) ON ROWS FROM [Atoti Sales] CELL PROPERTIES VALUE, FORMATTED_VALUE, BACK_COLOR, FORE_COLOR, FONT_FLAGS",
       "updateMode": "once"
      },
      "serverKey": "default",
      "widgetKey": "pivot-table"
     }
    },
    "tags": []
   },
   "outputs": [
    {
     "data": {
      "application/vnd.atoti.widget.v0+json": {
       "sessionId": "1704405720_FB3S2T",
       "sessionLocation": {
        "https": false,
        "port": 51901
       },
       "widgetCreationCode": "session.widget"
      },
      "text/html": [
       "<img height=\"352\" width=\"1194\" src=\"data:image/png;base64,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\" />"
      ],
      "text/plain": [
       "Open the notebook in JupyterLab with the Atoti JupyterLab extension enabled to build this widget."
      ]
     },
     "metadata": {},
     "output_type": "display_data"
    }
   ],
   "source": [
    "session.widget"
   ]
  },
  {
   "cell_type": "markdown",
   "id": "623a5cce-fee4-489b-9250-c5dd542fb708",
   "metadata": {},
   "source": [
    "### Cube manipulation"
   ]
  },
  {
   "cell_type": "markdown",
   "id": "ad616201-0cc7-4012-8e54-66a99c9c1a23",
   "metadata": {},
   "source": [
    "We perform hierarchy manipulation, level ordering and measure creations the same way we always do in Atoti."
   ]
  },
  {
   "cell_type": "code",
   "execution_count": 16,
   "id": "27bebe22-10e5-4b67-9c18-4bb478fef70b",
   "metadata": {
    "tags": []
   },
   "outputs": [],
   "source": [
    "h, l, m = cube.hierarchies, cube.levels, cube.measures"
   ]
  },
  {
   "cell_type": "code",
   "execution_count": 17,
   "id": "fe4aea14-fc25-4a2d-9401-0ce01df385e4",
   "metadata": {
    "tags": []
   },
   "outputs": [],
   "source": [
    "h[\"CATEGORY\"] = [l[\"CATEGORY\"], l[\"SUB_CATEGORY\"]]\n",
    "del h[\"SUB_CATEGORY\"]"
   ]
  },
  {
   "cell_type": "code",
   "execution_count": 18,
   "id": "efc5d476-6465-4ccf-93d3-9f5dfe19df3c",
   "metadata": {
    "tags": []
   },
   "outputs": [
    {
     "data": {
      "application/json": {
       "Atoti Product": {
        "BRAND": [
         "BRAND"
        ],
        "CATEGORY": [
         "CATEGORY",
         "SUB_CATEGORY"
        ],
        "COLOR": [
         "COLOR"
        ],
        "SIZE": [
         "SIZE"
        ]
       },
       "Atoti Sales": {
        "DATE": [
         "DATE"
        ],
        "PRODUCT": [
         "PRODUCT"
        ],
        "SALE_ID": [
         "SALE_ID"
        ],
        "SHOP": [
         "SHOP"
        ]
       }
      },
      "text/html": [
       "<ul>\n",
       "<li>Dimensions\n",
       "  <ul>\n",
       "  <li>Atoti Product\n",
       "    <ul>\n",
       "    <li>BRAND\n",
       "      <ol>\n",
       "      <li>BRAND</li>\n",
       "      </ol>    </li>\n",
       "    <li>CATEGORY\n",
       "      <ol>\n",
       "      <li>CATEGORY</li>\n",
       "      <li>SUB_CATEGORY</li>\n",
       "      </ol>    </li>\n",
       "    <li>COLOR\n",
       "      <ol>\n",
       "      <li>COLOR</li>\n",
       "      </ol>    </li>\n",
       "    <li>SIZE\n",
       "      <ol>\n",
       "      <li>SIZE</li>\n",
       "      </ol>    </li>\n",
       "    </ul>\n",
       "  </li>\n",
       "  <li>Atoti Sales\n",
       "    <ul>\n",
       "    <li>DATE\n",
       "      <ol>\n",
       "      <li>DATE</li>\n",
       "      </ol>    </li>\n",
       "    <li>PRODUCT\n",
       "      <ol>\n",
       "      <li>PRODUCT</li>\n",
       "      </ol>    </li>\n",
       "    <li>SALE_ID\n",
       "      <ol>\n",
       "      <li>SALE_ID</li>\n",
       "      </ol>    </li>\n",
       "    <li>SHOP\n",
       "      <ol>\n",
       "      <li>SHOP</li>\n",
       "      </ol>    </li>\n",
       "    </ul>\n",
       "  </li>\n",
       "  </ul>\n",
       "</li>\n",
       "</ul>\n"
      ],
      "text/plain": [
       "{('Atoti Product', 'BRAND'): <atoti.hierarchy.Hierarchy object at 0x111212d00>, ('Atoti Sales', 'DATE'): <atoti.hierarchy.Hierarchy object at 0x1112128b0>, ('Atoti Sales', 'SHOP'): <atoti.hierarchy.Hierarchy object at 0x134e801c0>, ('Atoti Product', 'COLOR'): <atoti.hierarchy.Hierarchy object at 0x111212fa0>, ('Atoti Sales', 'PRODUCT'): <atoti.hierarchy.Hierarchy object at 0x134e954f0>, ('Atoti Product', 'SIZE'): <atoti.hierarchy.Hierarchy object at 0x134e95670>, ('Atoti Product', 'CATEGORY'): <atoti.hierarchy.Hierarchy object at 0x134e95580>, ('Atoti Sales', 'SALE_ID'): <atoti.hierarchy.Hierarchy object at 0x134e955b0>}"
      ]
     },
     "execution_count": 18,
     "metadata": {
      "application/json": {
       "expanded": true,
       "root": "Dimensions"
      }
     },
     "output_type": "execute_result"
    }
   ],
   "source": [
    "h"
   ]
  },
  {
   "cell_type": "code",
   "execution_count": 19,
   "id": "fe924c60-0c9d-431f-ac72-297db49d8abc",
   "metadata": {
    "tags": []
   },
   "outputs": [],
   "source": [
    "l[\"DATE\"].order = tt.NaturalOrder(ascending=False)"
   ]
  },
  {
   "cell_type": "code",
   "execution_count": 20,
   "id": "343686bd-182e-4de1-b681-8bc6c04b791d",
   "metadata": {
    "tags": []
   },
   "outputs": [],
   "source": [
    "m[\"PURCHASE_PRICE.SUM\"] = tt.agg.sum(products_table[\"PURCHASE_PRICE\"])\n",
    "m[\"PROFIT\"] = tt.agg.sum_product(\n",
    "    m[\"UNIT_PRICE.SUM\"] - m[\"PURCHASE_PRICE.SUM\"],\n",
    "    m[\"QUANTITY.SUM\"],\n",
    "    scope=tt.OriginScope(l[\"SALE_ID\"], l[\"PRODUCT\"]),\n",
    ")"
   ]
  },
  {
   "cell_type": "markdown",
   "id": "595db925-bf0b-4828-87fb-ff26c717d905",
   "metadata": {},
   "source": [
    "Since we have a join from `sales_table` to `products_table` using the column values of `sales_table.PRODUCT` and `products_table.PRODUCT_ID`, the resultant level is the name of the column from the _from_ table. Therefore, we have the level `PRODUCT` but not `PRODUCT_ID` for our scope in the code snippet above."
   ]
  },
  {
   "cell_type": "code",
   "execution_count": 21,
   "id": "a5dd754e-6d52-43b0-9a18-e7aa7fd42e0b",
   "metadata": {
    "atoti": {
     "widget": {
      "mapping": {
       "columns": [
        "ALL_MEASURES"
       ],
       "measures": [
        "[Measures].[UNIT_PRICE.SUM]",
        "[Measures].[PURCHASE_PRICE.SUM]",
        "[Measures].[QUANTITY.SUM]",
        "[Measures].[PROFIT]"
       ],
       "rows": [
        "[Atoti Sales].[DATE].[DATE]",
        "[Atoti Product].[CATEGORY].[CATEGORY] => [Atoti Product].[CATEGORY].[SUB_CATEGORY]"
       ]
      },
      "name": "Profit by Product Categories across dates",
      "query": {
       "mdx": "SELECT NON EMPTY Hierarchize(Union(Crossjoin(Hierarchize(Descendants({[Atoti Sales].[DATE].[AllMember]}, 1, SELF_AND_BEFORE)), Hierarchize(Descendants({[Atoti Product].[CATEGORY].[AllMember]}, 1, SELF_AND_BEFORE))), Crossjoin([Atoti Sales].[DATE].[AllMember].[2022-02-03], Descendants({[Atoti Product].[CATEGORY].[AllMember].[Cloth]}, [Atoti Product].[CATEGORY].[SUB_CATEGORY])))) ON ROWS, NON EMPTY {[Measures].[UNIT_PRICE.SUM], [Measures].[PURCHASE_PRICE.SUM], [Measures].[QUANTITY.SUM], [Measures].[PROFIT]} ON COLUMNS FROM [Atoti Sales] CELL PROPERTIES VALUE, FORMATTED_VALUE, BACK_COLOR, FORE_COLOR, FONT_FLAGS",
       "updateMode": "once"
      },
      "serverKey": "default",
      "widgetKey": "pivot-table"
     }
    },
    "tags": []
   },
   "outputs": [
    {
     "data": {
      "application/vnd.atoti.widget.v0+json": {
       "sessionId": "1704405720_FB3S2T",
       "sessionLocation": {
        "https": false,
        "port": 51901
       },
       "widgetCreationCode": "session.widget"
      },
      "text/html": [
       "<img height=\"352\" width=\"1194\" src=\"data:image/png;base64,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\" />"
      ],
      "text/plain": [
       "Open the notebook in JupyterLab with the Atoti JupyterLab extension enabled to build this widget."
      ]
     },
     "metadata": {},
     "output_type": "display_data"
    }
   ],
   "source": [
    "session.widget"
   ]
  },
  {
   "cell_type": "markdown",
   "id": "08ceaeb7-d0ed-42b5-899e-f4fb4fdcf1ae",
   "metadata": {},
   "source": [
    "## Cost and performance saving with Aggregate Provider"
   ]
  },
  {
   "cell_type": "markdown",
   "id": "b00d6de1-5324-43b0-acb0-c682977c2cf0",
   "metadata": {},
   "source": [
    "Let's take a quick look at our query performance in the current setup."
   ]
  },
  {
   "cell_type": "code",
   "execution_count": 22,
   "id": "37320670-66e8-40c1-9402-26775ed5817c",
   "metadata": {},
   "outputs": [
    {
     "name": "stdout",
     "output_type": "stream",
     "text": [
      "CPU times: user 20.6 ms, sys: 6.32 ms, total: 26.9 ms\n",
      "Wall time: 2.17 s\n"
     ]
    },
    {
     "data": {
      "text/html": [
       "<div>\n",
       "<style scoped>\n",
       "    .dataframe tbody tr th:only-of-type {\n",
       "        vertical-align: middle;\n",
       "    }\n",
       "\n",
       "    .dataframe tbody tr th {\n",
       "        vertical-align: top;\n",
       "    }\n",
       "\n",
       "    .dataframe thead th {\n",
       "        text-align: right;\n",
       "    }\n",
       "</style>\n",
       "<table border=\"1\" class=\"dataframe\">\n",
       "  <thead>\n",
       "    <tr style=\"text-align: right;\">\n",
       "      <th></th>\n",
       "      <th></th>\n",
       "      <th></th>\n",
       "      <th>QUANTITY.SUM</th>\n",
       "      <th>PROFIT</th>\n",
       "    </tr>\n",
       "    <tr>\n",
       "      <th>DATE</th>\n",
       "      <th>PRODUCT</th>\n",
       "      <th>SALE_ID</th>\n",
       "      <th></th>\n",
       "      <th></th>\n",
       "    </tr>\n",
       "  </thead>\n",
       "  <tbody>\n",
       "    <tr>\n",
       "      <th rowspan=\"2\" valign=\"top\">2022-02-04</th>\n",
       "      <th>HOO_5</th>\n",
       "      <th>S0017</th>\n",
       "      <td>1</td>\n",
       "      <td>10.00</td>\n",
       "    </tr>\n",
       "    <tr>\n",
       "      <th>TAB_0</th>\n",
       "      <th>S0000</th>\n",
       "      <td>1</td>\n",
       "      <td>20.00</td>\n",
       "    </tr>\n",
       "    <tr>\n",
       "      <th rowspan=\"4\" valign=\"top\">2022-02-03</th>\n",
       "      <th>HOO_5</th>\n",
       "      <th>S0018</th>\n",
       "      <td>1</td>\n",
       "      <td>10.00</td>\n",
       "    </tr>\n",
       "    <tr>\n",
       "      <th>TAB_0</th>\n",
       "      <th>S0001</th>\n",
       "      <td>1</td>\n",
       "      <td>20.00</td>\n",
       "    </tr>\n",
       "    <tr>\n",
       "      <th>TAB_1</th>\n",
       "      <th>S0004</th>\n",
       "      <td>1</td>\n",
       "      <td>20.00</td>\n",
       "    </tr>\n",
       "    <tr>\n",
       "      <th>TSH_3</th>\n",
       "      <th>S0011</th>\n",
       "      <td>1</td>\n",
       "      <td>3.00</td>\n",
       "    </tr>\n",
       "    <tr>\n",
       "      <th rowspan=\"5\" valign=\"top\">2022-02-02</th>\n",
       "      <th>HOO_5</th>\n",
       "      <th>S0019</th>\n",
       "      <td>1</td>\n",
       "      <td>10.00</td>\n",
       "    </tr>\n",
       "    <tr>\n",
       "      <th>TAB_0</th>\n",
       "      <th>S0002</th>\n",
       "      <td>1</td>\n",
       "      <td>20.00</td>\n",
       "    </tr>\n",
       "    <tr>\n",
       "      <th>TAB_1</th>\n",
       "      <th>S0005</th>\n",
       "      <td>1</td>\n",
       "      <td>20.00</td>\n",
       "    </tr>\n",
       "    <tr>\n",
       "      <th>TSH_3</th>\n",
       "      <th>S0012</th>\n",
       "      <td>1</td>\n",
       "      <td>3.00</td>\n",
       "    </tr>\n",
       "    <tr>\n",
       "      <th>TSH_4</th>\n",
       "      <th>S0014</th>\n",
       "      <td>1</td>\n",
       "      <td>4.00</td>\n",
       "    </tr>\n",
       "    <tr>\n",
       "      <th rowspan=\"5\" valign=\"top\">2022-02-01</th>\n",
       "      <th>BED_2</th>\n",
       "      <th>S0007</th>\n",
       "      <td>1</td>\n",
       "      <td>23.00</td>\n",
       "    </tr>\n",
       "    <tr>\n",
       "      <th>TAB_0</th>\n",
       "      <th>S0003</th>\n",
       "      <td>1</td>\n",
       "      <td>20.00</td>\n",
       "    </tr>\n",
       "    <tr>\n",
       "      <th>TAB_1</th>\n",
       "      <th>S0006</th>\n",
       "      <td>2</td>\n",
       "      <td>40.00</td>\n",
       "    </tr>\n",
       "    <tr>\n",
       "      <th>TSH_3</th>\n",
       "      <th>S0013</th>\n",
       "      <td>1</td>\n",
       "      <td>3.00</td>\n",
       "    </tr>\n",
       "    <tr>\n",
       "      <th>TSH_4</th>\n",
       "      <th>S0015</th>\n",
       "      <td>2</td>\n",
       "      <td>8.00</td>\n",
       "    </tr>\n",
       "    <tr>\n",
       "      <th rowspan=\"4\" valign=\"top\">2022-01-31</th>\n",
       "      <th rowspan=\"3\" valign=\"top\">BED_2</th>\n",
       "      <th>S0008</th>\n",
       "      <td>1</td>\n",
       "      <td>23.00</td>\n",
       "    </tr>\n",
       "    <tr>\n",
       "      <th>S0009</th>\n",
       "      <td>1</td>\n",
       "      <td>23.00</td>\n",
       "    </tr>\n",
       "    <tr>\n",
       "      <th>S0010</th>\n",
       "      <td>3</td>\n",
       "      <td>69.00</td>\n",
       "    </tr>\n",
       "    <tr>\n",
       "      <th>TSH_4</th>\n",
       "      <th>S0016</th>\n",
       "      <td>2</td>\n",
       "      <td>8.00</td>\n",
       "    </tr>\n",
       "  </tbody>\n",
       "</table>\n",
       "</div>"
      ],
      "text/plain": [
       "                           QUANTITY.SUM PROFIT\n",
       "DATE       PRODUCT SALE_ID                    \n",
       "2022-02-04 HOO_5   S0017              1  10.00\n",
       "           TAB_0   S0000              1  20.00\n",
       "2022-02-03 HOO_5   S0018              1  10.00\n",
       "           TAB_0   S0001              1  20.00\n",
       "           TAB_1   S0004              1  20.00\n",
       "           TSH_3   S0011              1   3.00\n",
       "2022-02-02 HOO_5   S0019              1  10.00\n",
       "           TAB_0   S0002              1  20.00\n",
       "           TAB_1   S0005              1  20.00\n",
       "           TSH_3   S0012              1   3.00\n",
       "           TSH_4   S0014              1   4.00\n",
       "2022-02-01 BED_2   S0007              1  23.00\n",
       "           TAB_0   S0003              1  20.00\n",
       "           TAB_1   S0006              2  40.00\n",
       "           TSH_3   S0013              1   3.00\n",
       "           TSH_4   S0015              2   8.00\n",
       "2022-01-31 BED_2   S0008              1  23.00\n",
       "                   S0009              1  23.00\n",
       "                   S0010              3  69.00\n",
       "           TSH_4   S0016              2   8.00"
      ]
     },
     "execution_count": 22,
     "metadata": {},
     "output_type": "execute_result"
    }
   ],
   "source": [
    "%%time\n",
    "\n",
    "cube.query(\n",
    "    m[\"QUANTITY.SUM\"], m[\"PROFIT\"], levels=[l[\"DATE\"], l[\"PRODUCT\"], l[\"SALE_ID\"]]\n",
    ")"
   ]
  },
  {
   "cell_type": "code",
   "execution_count": 23,
   "id": "41a42190-2831-458d-9679-aa942dae9de0",
   "metadata": {},
   "outputs": [
    {
     "name": "stdout",
     "output_type": "stream",
     "text": [
      "CPU times: user 16.7 ms, sys: 5.3 ms, total: 22 ms\n",
      "Wall time: 2.32 s\n"
     ]
    },
    {
     "data": {
      "text/html": [
       "<div>\n",
       "<style scoped>\n",
       "    .dataframe tbody tr th:only-of-type {\n",
       "        vertical-align: middle;\n",
       "    }\n",
       "\n",
       "    .dataframe tbody tr th {\n",
       "        vertical-align: top;\n",
       "    }\n",
       "\n",
       "    .dataframe thead th {\n",
       "        text-align: right;\n",
       "    }\n",
       "</style>\n",
       "<table border=\"1\" class=\"dataframe\">\n",
       "  <thead>\n",
       "    <tr style=\"text-align: right;\">\n",
       "      <th></th>\n",
       "      <th></th>\n",
       "      <th></th>\n",
       "      <th>PROFIT</th>\n",
       "    </tr>\n",
       "    <tr>\n",
       "      <th>DATE</th>\n",
       "      <th>CATEGORY</th>\n",
       "      <th>SUB_CATEGORY</th>\n",
       "      <th></th>\n",
       "    </tr>\n",
       "  </thead>\n",
       "  <tbody>\n",
       "    <tr>\n",
       "      <th rowspan=\"2\" valign=\"top\">2022-02-04</th>\n",
       "      <th>Cloth</th>\n",
       "      <th>Hoodie</th>\n",
       "      <td>10.00</td>\n",
       "    </tr>\n",
       "    <tr>\n",
       "      <th>Furniture</th>\n",
       "      <th>Table</th>\n",
       "      <td>20.00</td>\n",
       "    </tr>\n",
       "    <tr>\n",
       "      <th rowspan=\"3\" valign=\"top\">2022-02-03</th>\n",
       "      <th rowspan=\"2\" valign=\"top\">Cloth</th>\n",
       "      <th>Hoodie</th>\n",
       "      <td>10.00</td>\n",
       "    </tr>\n",
       "    <tr>\n",
       "      <th>Tshirt</th>\n",
       "      <td>3.00</td>\n",
       "    </tr>\n",
       "    <tr>\n",
       "      <th>Furniture</th>\n",
       "      <th>Table</th>\n",
       "      <td>40.00</td>\n",
       "    </tr>\n",
       "    <tr>\n",
       "      <th rowspan=\"3\" valign=\"top\">2022-02-02</th>\n",
       "      <th rowspan=\"2\" valign=\"top\">Cloth</th>\n",
       "      <th>Hoodie</th>\n",
       "      <td>10.00</td>\n",
       "    </tr>\n",
       "    <tr>\n",
       "      <th>Tshirt</th>\n",
       "      <td>7.00</td>\n",
       "    </tr>\n",
       "    <tr>\n",
       "      <th>Furniture</th>\n",
       "      <th>Table</th>\n",
       "      <td>40.00</td>\n",
       "    </tr>\n",
       "    <tr>\n",
       "      <th rowspan=\"3\" valign=\"top\">2022-02-01</th>\n",
       "      <th>Cloth</th>\n",
       "      <th>Tshirt</th>\n",
       "      <td>11.00</td>\n",
       "    </tr>\n",
       "    <tr>\n",
       "      <th rowspan=\"2\" valign=\"top\">Furniture</th>\n",
       "      <th>Bed</th>\n",
       "      <td>23.00</td>\n",
       "    </tr>\n",
       "    <tr>\n",
       "      <th>Table</th>\n",
       "      <td>60.00</td>\n",
       "    </tr>\n",
       "    <tr>\n",
       "      <th rowspan=\"2\" valign=\"top\">2022-01-31</th>\n",
       "      <th>Cloth</th>\n",
       "      <th>Tshirt</th>\n",
       "      <td>8.00</td>\n",
       "    </tr>\n",
       "    <tr>\n",
       "      <th>Furniture</th>\n",
       "      <th>Bed</th>\n",
       "      <td>115.00</td>\n",
       "    </tr>\n",
       "  </tbody>\n",
       "</table>\n",
       "</div>"
      ],
      "text/plain": [
       "                                   PROFIT\n",
       "DATE       CATEGORY  SUB_CATEGORY        \n",
       "2022-02-04 Cloth     Hoodie         10.00\n",
       "           Furniture Table          20.00\n",
       "2022-02-03 Cloth     Hoodie         10.00\n",
       "                     Tshirt          3.00\n",
       "           Furniture Table          40.00\n",
       "2022-02-02 Cloth     Hoodie         10.00\n",
       "                     Tshirt          7.00\n",
       "           Furniture Table          40.00\n",
       "2022-02-01 Cloth     Tshirt         11.00\n",
       "           Furniture Bed            23.00\n",
       "                     Table          60.00\n",
       "2022-01-31 Cloth     Tshirt          8.00\n",
       "           Furniture Bed           115.00"
      ]
     },
     "execution_count": 23,
     "metadata": {},
     "output_type": "execute_result"
    }
   ],
   "source": [
    "%%time\n",
    "\n",
    "cube.query(m[\"PROFIT\"], levels=[l[\"DATE\"], l[\"SUB_CATEGORY\"]])"
   ]
  },
  {
   "cell_type": "markdown",
   "id": "ec655a71-8eec-42ae-9dd5-3fa7bbf0f782",
   "metadata": {},
   "source": [
    "It takes approximately 3s to return the query."
   ]
  },
  {
   "cell_type": "markdown",
   "id": "409bcc8e-c3e4-4592-a6ee-c54d41f97719",
   "metadata": {},
   "source": [
    "To speed up our querying, we make use of the [aggregate provider](https://docs.atoti.io/latest/lib/atoti/atoti.aggregate_provider.html#atoti.AggregateProvider) to store intermediate aggregates in memory. If a step of a query uses a subset of the aggregate provider's levels and measures, the provider will speed up the query.  \n",
    "\n",
    "Since data is cached in memory, we will __not__ access BigQuery when a subset of these are queried.  "
   ]
  },
  {
   "cell_type": "code",
   "execution_count": 24,
   "id": "0f33a62c-d66d-4e3a-997d-ae325e9276ec",
   "metadata": {
    "tags": []
   },
   "outputs": [],
   "source": [
    "cube.aggregate_providers.update(\n",
    "    {\n",
    "        \"Products provider\": tt.AggregateProvider(\n",
    "            key=\"bitmap\",\n",
    "            levels=[l[\"DATE\"], l[\"PRODUCT\"], l[\"SALE_ID\"]],\n",
    "            measures=[m[\"QUANTITY.SUM\"], m[\"PURCHASE_PRICE.SUM\"], m[\"UNIT_PRICE.SUM\"]],\n",
    "            partitioning=\"hash16(PRODUCT)\",\n",
    "        )\n",
    "    }\n",
    ")"
   ]
  },
  {
   "cell_type": "markdown",
   "id": "4817dae9-0dbb-4c91-95bc-38a1320102ae",
   "metadata": {},
   "source": [
    "⚠️We can only use store aggregated measures supporting disaggregation can be used in aggregate provider, e.g. `tt.agg.sum` or `tt.agg.mean` on table columns.\n",
    "\n",
    "`m[\"PROFIT\"]` cannot be used because it is a chained measure resulting from the `sum_product` of a few measures.\n"
   ]
  },
  {
   "cell_type": "code",
   "execution_count": 25,
   "id": "0bc35e5d-1845-479b-873f-5a24be936f1e",
   "metadata": {
    "tags": []
   },
   "outputs": [
    {
     "name": "stdout",
     "output_type": "stream",
     "text": [
      "CPU times: user 19.8 ms, sys: 5.08 ms, total: 24.9 ms\n",
      "Wall time: 456 ms\n"
     ]
    },
    {
     "data": {
      "text/html": [
       "<div>\n",
       "<style scoped>\n",
       "    .dataframe tbody tr th:only-of-type {\n",
       "        vertical-align: middle;\n",
       "    }\n",
       "\n",
       "    .dataframe tbody tr th {\n",
       "        vertical-align: top;\n",
       "    }\n",
       "\n",
       "    .dataframe thead th {\n",
       "        text-align: right;\n",
       "    }\n",
       "</style>\n",
       "<table border=\"1\" class=\"dataframe\">\n",
       "  <thead>\n",
       "    <tr style=\"text-align: right;\">\n",
       "      <th></th>\n",
       "      <th></th>\n",
       "      <th></th>\n",
       "      <th>PROFIT</th>\n",
       "    </tr>\n",
       "    <tr>\n",
       "      <th>DATE</th>\n",
       "      <th>PRODUCT</th>\n",
       "      <th>SALE_ID</th>\n",
       "      <th></th>\n",
       "    </tr>\n",
       "  </thead>\n",
       "  <tbody>\n",
       "    <tr>\n",
       "      <th rowspan=\"2\" valign=\"top\">2022-02-04</th>\n",
       "      <th>HOO_5</th>\n",
       "      <th>S0017</th>\n",
       "      <td>10.00</td>\n",
       "    </tr>\n",
       "    <tr>\n",
       "      <th>TAB_0</th>\n",
       "      <th>S0000</th>\n",
       "      <td>20.00</td>\n",
       "    </tr>\n",
       "    <tr>\n",
       "      <th rowspan=\"4\" valign=\"top\">2022-02-03</th>\n",
       "      <th>HOO_5</th>\n",
       "      <th>S0018</th>\n",
       "      <td>10.00</td>\n",
       "    </tr>\n",
       "    <tr>\n",
       "      <th>TAB_0</th>\n",
       "      <th>S0001</th>\n",
       "      <td>20.00</td>\n",
       "    </tr>\n",
       "    <tr>\n",
       "      <th>TAB_1</th>\n",
       "      <th>S0004</th>\n",
       "      <td>20.00</td>\n",
       "    </tr>\n",
       "    <tr>\n",
       "      <th>TSH_3</th>\n",
       "      <th>S0011</th>\n",
       "      <td>3.00</td>\n",
       "    </tr>\n",
       "    <tr>\n",
       "      <th rowspan=\"5\" valign=\"top\">2022-02-02</th>\n",
       "      <th>HOO_5</th>\n",
       "      <th>S0019</th>\n",
       "      <td>10.00</td>\n",
       "    </tr>\n",
       "    <tr>\n",
       "      <th>TAB_0</th>\n",
       "      <th>S0002</th>\n",
       "      <td>20.00</td>\n",
       "    </tr>\n",
       "    <tr>\n",
       "      <th>TAB_1</th>\n",
       "      <th>S0005</th>\n",
       "      <td>20.00</td>\n",
       "    </tr>\n",
       "    <tr>\n",
       "      <th>TSH_3</th>\n",
       "      <th>S0012</th>\n",
       "      <td>3.00</td>\n",
       "    </tr>\n",
       "    <tr>\n",
       "      <th>TSH_4</th>\n",
       "      <th>S0014</th>\n",
       "      <td>4.00</td>\n",
       "    </tr>\n",
       "    <tr>\n",
       "      <th rowspan=\"5\" valign=\"top\">2022-02-01</th>\n",
       "      <th>BED_2</th>\n",
       "      <th>S0007</th>\n",
       "      <td>23.00</td>\n",
       "    </tr>\n",
       "    <tr>\n",
       "      <th>TAB_0</th>\n",
       "      <th>S0003</th>\n",
       "      <td>20.00</td>\n",
       "    </tr>\n",
       "    <tr>\n",
       "      <th>TAB_1</th>\n",
       "      <th>S0006</th>\n",
       "      <td>40.00</td>\n",
       "    </tr>\n",
       "    <tr>\n",
       "      <th>TSH_3</th>\n",
       "      <th>S0013</th>\n",
       "      <td>3.00</td>\n",
       "    </tr>\n",
       "    <tr>\n",
       "      <th>TSH_4</th>\n",
       "      <th>S0015</th>\n",
       "      <td>8.00</td>\n",
       "    </tr>\n",
       "    <tr>\n",
       "      <th rowspan=\"4\" valign=\"top\">2022-01-31</th>\n",
       "      <th rowspan=\"3\" valign=\"top\">BED_2</th>\n",
       "      <th>S0008</th>\n",
       "      <td>23.00</td>\n",
       "    </tr>\n",
       "    <tr>\n",
       "      <th>S0009</th>\n",
       "      <td>23.00</td>\n",
       "    </tr>\n",
       "    <tr>\n",
       "      <th>S0010</th>\n",
       "      <td>69.00</td>\n",
       "    </tr>\n",
       "    <tr>\n",
       "      <th>TSH_4</th>\n",
       "      <th>S0016</th>\n",
       "      <td>8.00</td>\n",
       "    </tr>\n",
       "  </tbody>\n",
       "</table>\n",
       "</div>"
      ],
      "text/plain": [
       "                           PROFIT\n",
       "DATE       PRODUCT SALE_ID       \n",
       "2022-02-04 HOO_5   S0017    10.00\n",
       "           TAB_0   S0000    20.00\n",
       "2022-02-03 HOO_5   S0018    10.00\n",
       "           TAB_0   S0001    20.00\n",
       "           TAB_1   S0004    20.00\n",
       "           TSH_3   S0011     3.00\n",
       "2022-02-02 HOO_5   S0019    10.00\n",
       "           TAB_0   S0002    20.00\n",
       "           TAB_1   S0005    20.00\n",
       "           TSH_3   S0012     3.00\n",
       "           TSH_4   S0014     4.00\n",
       "2022-02-01 BED_2   S0007    23.00\n",
       "           TAB_0   S0003    20.00\n",
       "           TAB_1   S0006    40.00\n",
       "           TSH_3   S0013     3.00\n",
       "           TSH_4   S0015     8.00\n",
       "2022-01-31 BED_2   S0008    23.00\n",
       "                   S0009    23.00\n",
       "                   S0010    69.00\n",
       "           TSH_4   S0016     8.00"
      ]
     },
     "execution_count": 25,
     "metadata": {},
     "output_type": "execute_result"
    }
   ],
   "source": [
    "%%time\n",
    "\n",
    "cube.query(m[\"PROFIT\"], levels=[l[\"DATE\"], l[\"PRODUCT\"], l[\"SALE_ID\"]])"
   ]
  },
  {
   "cell_type": "markdown",
   "id": "fd36b224-ab65-45f0-a2fb-1e44c5fdb1c8",
   "metadata": {},
   "source": [
    "Previously, it took close to 3s to return the query results. Now, it only takes slightly over 100ms to return the results.  \n",
    "\n",
    "Note that we are querying `PROFIT` and not the measures `m[\"QUANTITY.SUM\"]`, `m[\"PURCHASE_PRICE.SUM\"]` and `m[\"UNIT_PRICE.SUM\"]`. However, `PROFIT` is computed on the fly using the cached data in memory. Therefore, the query speed is improved drastically."
   ]
  },
  {
   "cell_type": "code",
   "execution_count": 26,
   "id": "800e212c-f4ce-4e77-8653-f8afd9b50043",
   "metadata": {
    "tags": []
   },
   "outputs": [
    {
     "name": "stdout",
     "output_type": "stream",
     "text": [
      "CPU times: user 8.55 ms, sys: 2.26 ms, total: 10.8 ms\n",
      "Wall time: 106 ms\n"
     ]
    },
    {
     "data": {
      "text/html": [
       "<div>\n",
       "<style scoped>\n",
       "    .dataframe tbody tr th:only-of-type {\n",
       "        vertical-align: middle;\n",
       "    }\n",
       "\n",
       "    .dataframe tbody tr th {\n",
       "        vertical-align: top;\n",
       "    }\n",
       "\n",
       "    .dataframe thead th {\n",
       "        text-align: right;\n",
       "    }\n",
       "</style>\n",
       "<table border=\"1\" class=\"dataframe\">\n",
       "  <thead>\n",
       "    <tr style=\"text-align: right;\">\n",
       "      <th></th>\n",
       "      <th>PROFIT</th>\n",
       "    </tr>\n",
       "    <tr>\n",
       "      <th>PRODUCT</th>\n",
       "      <th></th>\n",
       "    </tr>\n",
       "  </thead>\n",
       "  <tbody>\n",
       "    <tr>\n",
       "      <th>BED_2</th>\n",
       "      <td>138.00</td>\n",
       "    </tr>\n",
       "    <tr>\n",
       "      <th>HOO_5</th>\n",
       "      <td>30.00</td>\n",
       "    </tr>\n",
       "    <tr>\n",
       "      <th>TAB_0</th>\n",
       "      <td>80.00</td>\n",
       "    </tr>\n",
       "    <tr>\n",
       "      <th>TAB_1</th>\n",
       "      <td>80.00</td>\n",
       "    </tr>\n",
       "    <tr>\n",
       "      <th>TSH_3</th>\n",
       "      <td>9.00</td>\n",
       "    </tr>\n",
       "    <tr>\n",
       "      <th>TSH_4</th>\n",
       "      <td>20.00</td>\n",
       "    </tr>\n",
       "  </tbody>\n",
       "</table>\n",
       "</div>"
      ],
      "text/plain": [
       "         PROFIT\n",
       "PRODUCT        \n",
       "BED_2    138.00\n",
       "HOO_5     30.00\n",
       "TAB_0     80.00\n",
       "TAB_1     80.00\n",
       "TSH_3      9.00\n",
       "TSH_4     20.00"
      ]
     },
     "execution_count": 26,
     "metadata": {},
     "output_type": "execute_result"
    }
   ],
   "source": [
    "%%time\n",
    "\n",
    "cube.query(m[\"PROFIT\"], levels=[l[\"PRODUCT\"]])"
   ]
  },
  {
   "cell_type": "markdown",
   "id": "3776a1f9-c10c-4912-866f-238a3b95fbee",
   "metadata": {},
   "source": [
    "Querying a subset of the aggregate provider levels also returns the result quickly.  \n",
    "\n",
    "The below query on a different level will access data from BigQuery and therefore, is limited by the querying speed of the cloud database and its network connectivity.  "
   ]
  },
  {
   "cell_type": "code",
   "execution_count": 27,
   "id": "08506fb9-16e3-4052-9288-380ecc441021",
   "metadata": {
    "tags": []
   },
   "outputs": [
    {
     "name": "stdout",
     "output_type": "stream",
     "text": [
      "CPU times: user 18.7 ms, sys: 5.78 ms, total: 24.5 ms\n",
      "Wall time: 3.04 s\n"
     ]
    },
    {
     "data": {
      "text/html": [
       "<div>\n",
       "<style scoped>\n",
       "    .dataframe tbody tr th:only-of-type {\n",
       "        vertical-align: middle;\n",
       "    }\n",
       "\n",
       "    .dataframe tbody tr th {\n",
       "        vertical-align: top;\n",
       "    }\n",
       "\n",
       "    .dataframe thead th {\n",
       "        text-align: right;\n",
       "    }\n",
       "</style>\n",
       "<table border=\"1\" class=\"dataframe\">\n",
       "  <thead>\n",
       "    <tr style=\"text-align: right;\">\n",
       "      <th></th>\n",
       "      <th></th>\n",
       "      <th></th>\n",
       "      <th>PROFIT</th>\n",
       "    </tr>\n",
       "    <tr>\n",
       "      <th>DATE</th>\n",
       "      <th>CATEGORY</th>\n",
       "      <th>SUB_CATEGORY</th>\n",
       "      <th></th>\n",
       "    </tr>\n",
       "  </thead>\n",
       "  <tbody>\n",
       "    <tr>\n",
       "      <th rowspan=\"2\" valign=\"top\">2022-02-04</th>\n",
       "      <th>Cloth</th>\n",
       "      <th>Hoodie</th>\n",
       "      <td>10.00</td>\n",
       "    </tr>\n",
       "    <tr>\n",
       "      <th>Furniture</th>\n",
       "      <th>Table</th>\n",
       "      <td>20.00</td>\n",
       "    </tr>\n",
       "    <tr>\n",
       "      <th rowspan=\"3\" valign=\"top\">2022-02-03</th>\n",
       "      <th rowspan=\"2\" valign=\"top\">Cloth</th>\n",
       "      <th>Hoodie</th>\n",
       "      <td>10.00</td>\n",
       "    </tr>\n",
       "    <tr>\n",
       "      <th>Tshirt</th>\n",
       "      <td>3.00</td>\n",
       "    </tr>\n",
       "    <tr>\n",
       "      <th>Furniture</th>\n",
       "      <th>Table</th>\n",
       "      <td>40.00</td>\n",
       "    </tr>\n",
       "    <tr>\n",
       "      <th rowspan=\"3\" valign=\"top\">2022-02-02</th>\n",
       "      <th rowspan=\"2\" valign=\"top\">Cloth</th>\n",
       "      <th>Hoodie</th>\n",
       "      <td>10.00</td>\n",
       "    </tr>\n",
       "    <tr>\n",
       "      <th>Tshirt</th>\n",
       "      <td>7.00</td>\n",
       "    </tr>\n",
       "    <tr>\n",
       "      <th>Furniture</th>\n",
       "      <th>Table</th>\n",
       "      <td>40.00</td>\n",
       "    </tr>\n",
       "    <tr>\n",
       "      <th rowspan=\"3\" valign=\"top\">2022-02-01</th>\n",
       "      <th>Cloth</th>\n",
       "      <th>Tshirt</th>\n",
       "      <td>11.00</td>\n",
       "    </tr>\n",
       "    <tr>\n",
       "      <th rowspan=\"2\" valign=\"top\">Furniture</th>\n",
       "      <th>Bed</th>\n",
       "      <td>23.00</td>\n",
       "    </tr>\n",
       "    <tr>\n",
       "      <th>Table</th>\n",
       "      <td>60.00</td>\n",
       "    </tr>\n",
       "    <tr>\n",
       "      <th rowspan=\"2\" valign=\"top\">2022-01-31</th>\n",
       "      <th>Cloth</th>\n",
       "      <th>Tshirt</th>\n",
       "      <td>8.00</td>\n",
       "    </tr>\n",
       "    <tr>\n",
       "      <th>Furniture</th>\n",
       "      <th>Bed</th>\n",
       "      <td>115.00</td>\n",
       "    </tr>\n",
       "  </tbody>\n",
       "</table>\n",
       "</div>"
      ],
      "text/plain": [
       "                                   PROFIT\n",
       "DATE       CATEGORY  SUB_CATEGORY        \n",
       "2022-02-04 Cloth     Hoodie         10.00\n",
       "           Furniture Table          20.00\n",
       "2022-02-03 Cloth     Hoodie         10.00\n",
       "                     Tshirt          3.00\n",
       "           Furniture Table          40.00\n",
       "2022-02-02 Cloth     Hoodie         10.00\n",
       "                     Tshirt          7.00\n",
       "           Furniture Table          40.00\n",
       "2022-02-01 Cloth     Tshirt         11.00\n",
       "           Furniture Bed            23.00\n",
       "                     Table          60.00\n",
       "2022-01-31 Cloth     Tshirt          8.00\n",
       "           Furniture Bed           115.00"
      ]
     },
     "execution_count": 27,
     "metadata": {},
     "output_type": "execute_result"
    }
   ],
   "source": [
    "%%time\n",
    "\n",
    "cube.query(m[\"PROFIT\"], levels=[l[\"DATE\"], l[\"SUB_CATEGORY\"]])"
   ]
  },
  {
   "cell_type": "markdown",
   "id": "c260f204-8f69-4f99-aefa-3e881c29e4bc",
   "metadata": {},
   "source": [
    "Before we are done with this example, let's create another aggregate provider with a _slice_ of data using `filter`.  \n",
    "\n",
    "Let's first capture the timing of the query without the aggregate provider."
   ]
  },
  {
   "cell_type": "code",
   "execution_count": 28,
   "id": "fe342fd4-1c7f-4995-833d-f3cac15d2aa4",
   "metadata": {},
   "outputs": [
    {
     "name": "stdout",
     "output_type": "stream",
     "text": [
      "CPU times: user 19.4 ms, sys: 6.48 ms, total: 25.9 ms\n",
      "Wall time: 1.83 s\n"
     ]
    },
    {
     "data": {
      "text/html": [
       "<div>\n",
       "<style scoped>\n",
       "    .dataframe tbody tr th:only-of-type {\n",
       "        vertical-align: middle;\n",
       "    }\n",
       "\n",
       "    .dataframe tbody tr th {\n",
       "        vertical-align: top;\n",
       "    }\n",
       "\n",
       "    .dataframe thead th {\n",
       "        text-align: right;\n",
       "    }\n",
       "</style>\n",
       "<table border=\"1\" class=\"dataframe\">\n",
       "  <thead>\n",
       "    <tr style=\"text-align: right;\">\n",
       "      <th></th>\n",
       "      <th></th>\n",
       "      <th></th>\n",
       "      <th>PROFIT</th>\n",
       "    </tr>\n",
       "    <tr>\n",
       "      <th>DATE</th>\n",
       "      <th>CATEGORY</th>\n",
       "      <th>SUB_CATEGORY</th>\n",
       "      <th></th>\n",
       "    </tr>\n",
       "  </thead>\n",
       "  <tbody>\n",
       "    <tr>\n",
       "      <th rowspan=\"2\" valign=\"top\">2022-02-04</th>\n",
       "      <th>Cloth</th>\n",
       "      <th>Hoodie</th>\n",
       "      <td>10.00</td>\n",
       "    </tr>\n",
       "    <tr>\n",
       "      <th>Furniture</th>\n",
       "      <th>Table</th>\n",
       "      <td>20.00</td>\n",
       "    </tr>\n",
       "  </tbody>\n",
       "</table>\n",
       "</div>"
      ],
      "text/plain": [
       "                                  PROFIT\n",
       "DATE       CATEGORY  SUB_CATEGORY       \n",
       "2022-02-04 Cloth     Hoodie        10.00\n",
       "           Furniture Table         20.00"
      ]
     },
     "execution_count": 28,
     "metadata": {},
     "output_type": "execute_result"
    }
   ],
   "source": [
    "%%time\n",
    "\n",
    "cube.query(\n",
    "    m[\"PROFIT\"],\n",
    "    levels=[l[\"DATE\"], l[\"CATEGORY\"], l[\"SUB_CATEGORY\"]],\n",
    "    filter=(l[\"DATE\"] == \"2022-02-04\"),\n",
    ")"
   ]
  },
  {
   "cell_type": "code",
   "execution_count": 29,
   "id": "b240a857-71f6-4344-8967-570013c0ac98",
   "metadata": {
    "tags": []
   },
   "outputs": [],
   "source": [
    "from datetime import date\n",
    "\n",
    "current_date = date(2022, 2, 24)"
   ]
  },
  {
   "cell_type": "markdown",
   "id": "9526ed6a-2c74-4ab5-935e-51899123340c",
   "metadata": {},
   "source": [
    "In the event where users are interested in a particular member of level, e.g. the current date or a particular shop, and the amount of querying on this member is huge, then it makes sense to cache them in memory.  \n",
    "\n",
    "In this case, we apply filter just for the interested member. This helps to control the amount of data held in memory."
   ]
  },
  {
   "cell_type": "code",
   "execution_count": 30,
   "id": "17ae6441-66db-4038-bfee-28df3b2c576e",
   "metadata": {},
   "outputs": [],
   "source": [
    "cube.aggregate_providers.update(\n",
    "    {\n",
    "        \"Category provider\": tt.AggregateProvider(\n",
    "            key=\"bitmap\",\n",
    "            levels=[l[\"DATE\"], l[\"CATEGORY\"], l[\"SUB_CATEGORY\"]],\n",
    "            measures=[m[\"QUANTITY.SUM\"], m[\"PURCHASE_PRICE.SUM\"], m[\"UNIT_PRICE.SUM\"]],\n",
    "            filter=(l[\"DATE\"] == current_date),\n",
    "        )\n",
    "    }\n",
    ")"
   ]
  },
  {
   "cell_type": "code",
   "execution_count": 31,
   "id": "adc253db-cebe-49a2-a8ae-2f9630d5338d",
   "metadata": {
    "tags": []
   },
   "outputs": [
    {
     "name": "stdout",
     "output_type": "stream",
     "text": [
      "CPU times: user 17.9 ms, sys: 6.13 ms, total: 24 ms\n",
      "Wall time: 3.05 s\n"
     ]
    },
    {
     "data": {
      "text/html": [
       "<div>\n",
       "<style scoped>\n",
       "    .dataframe tbody tr th:only-of-type {\n",
       "        vertical-align: middle;\n",
       "    }\n",
       "\n",
       "    .dataframe tbody tr th {\n",
       "        vertical-align: top;\n",
       "    }\n",
       "\n",
       "    .dataframe thead th {\n",
       "        text-align: right;\n",
       "    }\n",
       "</style>\n",
       "<table border=\"1\" class=\"dataframe\">\n",
       "  <thead>\n",
       "    <tr style=\"text-align: right;\">\n",
       "      <th></th>\n",
       "      <th></th>\n",
       "      <th></th>\n",
       "      <th>PROFIT</th>\n",
       "    </tr>\n",
       "    <tr>\n",
       "      <th>DATE</th>\n",
       "      <th>CATEGORY</th>\n",
       "      <th>SUB_CATEGORY</th>\n",
       "      <th></th>\n",
       "    </tr>\n",
       "  </thead>\n",
       "  <tbody>\n",
       "    <tr>\n",
       "      <th rowspan=\"2\" valign=\"top\">2022-02-04</th>\n",
       "      <th>Cloth</th>\n",
       "      <th>Hoodie</th>\n",
       "      <td>10.00</td>\n",
       "    </tr>\n",
       "    <tr>\n",
       "      <th>Furniture</th>\n",
       "      <th>Table</th>\n",
       "      <td>20.00</td>\n",
       "    </tr>\n",
       "  </tbody>\n",
       "</table>\n",
       "</div>"
      ],
      "text/plain": [
       "                                  PROFIT\n",
       "DATE       CATEGORY  SUB_CATEGORY       \n",
       "2022-02-04 Cloth     Hoodie        10.00\n",
       "           Furniture Table         20.00"
      ]
     },
     "execution_count": 31,
     "metadata": {},
     "output_type": "execute_result"
    }
   ],
   "source": [
    "%%time\n",
    "\n",
    "cube.query(\n",
    "    m[\"PROFIT\"],\n",
    "    levels=[l[\"DATE\"], l[\"CATEGORY\"], l[\"SUB_CATEGORY\"]],\n",
    "    filter=(l[\"DATE\"] == \"2022-02-04\"),\n",
    ")"
   ]
  },
  {
   "cell_type": "markdown",
   "id": "4b392590-0e19-4d03-84db-853028977e8b",
   "metadata": {},
   "source": [
    "## Balance between Cost and Performance"
   ]
  },
  {
   "cell_type": "markdown",
   "id": "1f44c57a-00ad-44eb-9195-ed0b0a808a62",
   "metadata": {},
   "source": [
    "All in all, Atoti's DirectQuery offers users a way to balance between cost and performance.  \n",
    "For data that is less queried, it resides on the cloud database and gets queried on-demand.  \n",
    "For data that is more frequently queried, we can cache it in memory and thereby reduces the number of queries to the cloud database, and improves the performance.  \n",
    "\n",
    "<img src=\"https://data.atoti.io/notebooks/direct-query/img/aggregate_cache.png\" />  \n",
    "\n",
    "To find out more, reach out to [ActiveViam](https://activeviam.com/contact-us/?utm_source=github&utm_medium=atoti) for a demonstration."
   ]
  },
  {
   "cell_type": "markdown",
   "id": "455e3f95-0a8c-48bf-b793-69d5fe2f2083",
   "metadata": {},
   "source": [
    "<div style=\"text-align: center;\" ><a href=\"https://www.atoti.io/?utm_source=gallery&utm_content=intro-direct-query\" target=\"_blank\" rel=\"noopener noreferrer\"><img src=\"https://data.atoti.io/notebooks/banners/Your-turn-to-try-Atoti.jpg\" alt=\"Try Atoti\"></a></div>"
   ]
  }
 ],
 "metadata": {
  "kernelspec": {
   "display_name": "Python 3 (ipykernel)",
   "language": "python",
   "name": "python3"
  },
  "language_info": {
   "codemirror_mode": {
    "name": "ipython",
    "version": 3
   },
   "file_extension": ".py",
   "mimetype": "text/x-python",
   "name": "python",
   "nbconvert_exporter": "python",
   "pygments_lexer": "ipython3",
   "version": "3.10.13"
  }
 },
 "nbformat": 4,
 "nbformat_minor": 5
}
