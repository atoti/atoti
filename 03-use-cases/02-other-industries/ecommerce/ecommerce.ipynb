{
 "cells": [
  {
   "cell_type": "code",
   "execution_count": 1,
   "id": "bb9f127e-910a-4649-84a1-bb0a144d757c",
   "metadata": {},
   "outputs": [
    {
     "name": "stdout",
     "output_type": "stream",
     "text": [
      "Welcome to Atoti 0.8.7!\n",
      "\n",
      "By using this community edition, you agree with the license available at https://docs.atoti.io/latest/eula.html.\n",
      "Browse the official documentation at https://docs.atoti.io.\n",
      "Join the community at https://www.atoti.io/register.\n",
      "\n",
      "Atoti collects telemetry data, which is used to help understand how to improve the product.\n",
      "If you don't wish to send usage data, you can request a trial license at https://www.atoti.io/evaluation-license-request.\n",
      "\n",
      "You can hide this message by setting the `ATOTI_HIDE_EULA_MESSAGE` environment variable to True.\n"
     ]
    }
   ],
   "source": [
    "import atoti\n",
    "import pandas as pd"
   ]
  },
  {
   "cell_type": "markdown",
   "id": "9308fd1c-3ff1-4814-8819-dbb896d5e846",
   "metadata": {},
   "source": [
    "## Instantiate Atoti Server and UI"
   ]
  },
  {
   "cell_type": "code",
   "execution_count": 2,
   "id": "36e53fc8-43c6-4f15-aaa7-65fa0cf8e31b",
   "metadata": {},
   "outputs": [
    {
     "data": {
      "application/vnd.atoti.link.v0+json": {
       "path": "",
       "sessionLocation": {
        "https": false,
        "port": 9092
       }
      },
      "text/markdown": [
       "http://localhost:9092\n",
       "\n",
       "_Note_: This is the session's local URL: it may not be reachable if Atoti is running on another machine."
      ],
      "text/plain": [
       "http://localhost:9092 (This is the session's local URL: it may not be reachable if Atoti is running on another machine.)"
      ]
     },
     "execution_count": 2,
     "metadata": {},
     "output_type": "execute_result"
    }
   ],
   "source": [
    "# Start an Atoti Server instance\n",
    "session = atoti.Session(\n",
    "    user_content_storage=\"./content\",\n",
    "    port=9092,\n",
    "    java_options=[\"-Xms1G\", \"-Xmx10G\"],\n",
    "    # app_extensions=tt.ADVANCED_APP_EXTENSION,\n",
    ")\n",
    "session.link"
   ]
  },
  {
   "cell_type": "markdown",
   "id": "17cc85d7-73ea-4dbf-94c3-3a0ad31e9359",
   "metadata": {},
   "source": [
    "## Inspect Data Quality Using Pandas"
   ]
  },
  {
   "cell_type": "code",
   "execution_count": 3,
   "id": "9d46c7b9-cd5c-49cb-af1f-b66cb94e127d",
   "metadata": {},
   "outputs": [
    {
     "data": {
      "text/html": [
       "<div>\n",
       "<style scoped>\n",
       "    .dataframe tbody tr th:only-of-type {\n",
       "        vertical-align: middle;\n",
       "    }\n",
       "\n",
       "    .dataframe tbody tr th {\n",
       "        vertical-align: top;\n",
       "    }\n",
       "\n",
       "    .dataframe thead th {\n",
       "        text-align: right;\n",
       "    }\n",
       "</style>\n",
       "<table border=\"1\" class=\"dataframe\">\n",
       "  <thead>\n",
       "    <tr style=\"text-align: right;\">\n",
       "      <th></th>\n",
       "      <th>coustomer_key</th>\n",
       "      <th>name</th>\n",
       "      <th>contact_no</th>\n",
       "      <th>nid</th>\n",
       "    </tr>\n",
       "  </thead>\n",
       "  <tbody>\n",
       "    <tr>\n",
       "      <th>0</th>\n",
       "      <td>C000001</td>\n",
       "      <td>sumit</td>\n",
       "      <td>8801920345851</td>\n",
       "      <td>7505075708899</td>\n",
       "    </tr>\n",
       "    <tr>\n",
       "      <th>1</th>\n",
       "      <td>C000002</td>\n",
       "      <td>tammanne</td>\n",
       "      <td>8801817069329</td>\n",
       "      <td>1977731324842</td>\n",
       "    </tr>\n",
       "    <tr>\n",
       "      <th>2</th>\n",
       "      <td>C000003</td>\n",
       "      <td>kailash kumar</td>\n",
       "      <td>8801663795774</td>\n",
       "      <td>3769494056318</td>\n",
       "    </tr>\n",
       "    <tr>\n",
       "      <th>3</th>\n",
       "      <td>C000004</td>\n",
       "      <td>bhagwati prasad</td>\n",
       "      <td>8801533627961</td>\n",
       "      <td>9378834712725</td>\n",
       "    </tr>\n",
       "    <tr>\n",
       "      <th>4</th>\n",
       "      <td>C000005</td>\n",
       "      <td>ajay</td>\n",
       "      <td>8801943715786</td>\n",
       "      <td>3540815556323</td>\n",
       "    </tr>\n",
       "  </tbody>\n",
       "</table>\n",
       "</div>"
      ],
      "text/plain": [
       "  coustomer_key             name     contact_no            nid\n",
       "0       C000001            sumit  8801920345851  7505075708899\n",
       "1       C000002         tammanne  8801817069329  1977731324842\n",
       "2       C000003    kailash kumar  8801663795774  3769494056318\n",
       "3       C000004  bhagwati prasad  8801533627961  9378834712725\n",
       "4       C000005             ajay  8801943715786  3540815556323"
      ]
     },
     "execution_count": 3,
     "metadata": {},
     "output_type": "execute_result"
    }
   ],
   "source": [
    "customer_dim_df = pd.read_csv(\"data/customer_dim.csv\", encoding='latin-1')\n",
    "customer_dim_df.head()"
   ]
  },
  {
   "cell_type": "code",
   "execution_count": 4,
   "id": "8a937d7f-c1f7-4648-aef0-934c982d9889",
   "metadata": {
    "scrolled": true
   },
   "outputs": [
    {
     "data": {
      "text/html": [
       "<div>\n",
       "<style scoped>\n",
       "    .dataframe tbody tr th:only-of-type {\n",
       "        vertical-align: middle;\n",
       "    }\n",
       "\n",
       "    .dataframe tbody tr th {\n",
       "        vertical-align: top;\n",
       "    }\n",
       "\n",
       "    .dataframe thead th {\n",
       "        text-align: right;\n",
       "    }\n",
       "</style>\n",
       "<table border=\"1\" class=\"dataframe\">\n",
       "  <thead>\n",
       "    <tr style=\"text-align: right;\">\n",
       "      <th></th>\n",
       "      <th>item_key</th>\n",
       "      <th>item_name</th>\n",
       "      <th>desc</th>\n",
       "      <th>unit_price</th>\n",
       "      <th>man_country</th>\n",
       "      <th>supplier</th>\n",
       "      <th>unit</th>\n",
       "    </tr>\n",
       "  </thead>\n",
       "  <tbody>\n",
       "    <tr>\n",
       "      <th>0</th>\n",
       "      <td>I00001</td>\n",
       "      <td>A&amp;W Root Beer - 12 oz cans</td>\n",
       "      <td>a. Beverage - Soda</td>\n",
       "      <td>11.50</td>\n",
       "      <td>Netherlands</td>\n",
       "      <td>Bolsius Boxmeer</td>\n",
       "      <td>cans</td>\n",
       "    </tr>\n",
       "    <tr>\n",
       "      <th>1</th>\n",
       "      <td>I00002</td>\n",
       "      <td>A&amp;W Root Beer Diet - 12 oz cans</td>\n",
       "      <td>a. Beverage - Soda</td>\n",
       "      <td>6.75</td>\n",
       "      <td>poland</td>\n",
       "      <td>CHROMADURLIN S.A.S</td>\n",
       "      <td>cans</td>\n",
       "    </tr>\n",
       "    <tr>\n",
       "      <th>2</th>\n",
       "      <td>I00003</td>\n",
       "      <td>Barq's Root Beer - 12 oz cans</td>\n",
       "      <td>a. Beverage - Soda</td>\n",
       "      <td>6.75</td>\n",
       "      <td>Bangladesh</td>\n",
       "      <td>DENIMACH LTD</td>\n",
       "      <td>cans</td>\n",
       "    </tr>\n",
       "    <tr>\n",
       "      <th>3</th>\n",
       "      <td>I00004</td>\n",
       "      <td>Cherry Coke 12oz</td>\n",
       "      <td>a. Beverage - Soda</td>\n",
       "      <td>6.75</td>\n",
       "      <td>Netherlands</td>\n",
       "      <td>Bolsius Boxmeer</td>\n",
       "      <td>cans</td>\n",
       "    </tr>\n",
       "    <tr>\n",
       "      <th>4</th>\n",
       "      <td>I00005</td>\n",
       "      <td>Cherry Coke Zero 12 pack</td>\n",
       "      <td>a. Beverage - Soda</td>\n",
       "      <td>6.75</td>\n",
       "      <td>Finland</td>\n",
       "      <td>HARDFORD AB</td>\n",
       "      <td>cans</td>\n",
       "    </tr>\n",
       "  </tbody>\n",
       "</table>\n",
       "</div>"
      ],
      "text/plain": [
       "  item_key                        item_name                desc  unit_price  \\\n",
       "0   I00001       A&W Root Beer - 12 oz cans  a. Beverage - Soda       11.50   \n",
       "1   I00002  A&W Root Beer Diet - 12 oz cans  a. Beverage - Soda        6.75   \n",
       "2   I00003    Barq's Root Beer - 12 oz cans  a. Beverage - Soda        6.75   \n",
       "3   I00004                 Cherry Coke 12oz  a. Beverage - Soda        6.75   \n",
       "4   I00005         Cherry Coke Zero 12 pack  a. Beverage - Soda        6.75   \n",
       "\n",
       "   man_country            supplier  unit  \n",
       "0  Netherlands     Bolsius Boxmeer  cans  \n",
       "1       poland  CHROMADURLIN S.A.S  cans  \n",
       "2   Bangladesh        DENIMACH LTD  cans  \n",
       "3  Netherlands     Bolsius Boxmeer  cans  \n",
       "4      Finland         HARDFORD AB  cans  "
      ]
     },
     "execution_count": 4,
     "metadata": {},
     "output_type": "execute_result"
    }
   ],
   "source": [
    "item_dim_df = pd.read_csv(\"data/item_dim.csv\", encoding='latin-1')\n",
    "item_dim_df.head()"
   ]
  },
  {
   "cell_type": "code",
   "execution_count": 5,
   "id": "47dfd027-28b3-40aa-9238-6dab9630e780",
   "metadata": {},
   "outputs": [
    {
     "data": {
      "text/html": [
       "<div>\n",
       "<style scoped>\n",
       "    .dataframe tbody tr th:only-of-type {\n",
       "        vertical-align: middle;\n",
       "    }\n",
       "\n",
       "    .dataframe tbody tr th {\n",
       "        vertical-align: top;\n",
       "    }\n",
       "\n",
       "    .dataframe thead th {\n",
       "        text-align: right;\n",
       "    }\n",
       "</style>\n",
       "<table border=\"1\" class=\"dataframe\">\n",
       "  <thead>\n",
       "    <tr style=\"text-align: right;\">\n",
       "      <th></th>\n",
       "      <th>store_key</th>\n",
       "      <th>division</th>\n",
       "      <th>district</th>\n",
       "      <th>upazila</th>\n",
       "    </tr>\n",
       "  </thead>\n",
       "  <tbody>\n",
       "    <tr>\n",
       "      <th>0</th>\n",
       "      <td>S0001</td>\n",
       "      <td>SYLHET</td>\n",
       "      <td>HABIGANJ</td>\n",
       "      <td>AJMIRIGANJ</td>\n",
       "    </tr>\n",
       "    <tr>\n",
       "      <th>1</th>\n",
       "      <td>S0002</td>\n",
       "      <td>SYLHET</td>\n",
       "      <td>HABIGANJ</td>\n",
       "      <td>BAHUBAL</td>\n",
       "    </tr>\n",
       "    <tr>\n",
       "      <th>2</th>\n",
       "      <td>S0003</td>\n",
       "      <td>SYLHET</td>\n",
       "      <td>HABIGANJ</td>\n",
       "      <td>BANIACHONG</td>\n",
       "    </tr>\n",
       "    <tr>\n",
       "      <th>3</th>\n",
       "      <td>S0004</td>\n",
       "      <td>SYLHET</td>\n",
       "      <td>HABIGANJ</td>\n",
       "      <td>CHUNARUGHAT</td>\n",
       "    </tr>\n",
       "    <tr>\n",
       "      <th>4</th>\n",
       "      <td>S0005</td>\n",
       "      <td>SYLHET</td>\n",
       "      <td>HABIGANJ</td>\n",
       "      <td>HABIGANJ SADAR</td>\n",
       "    </tr>\n",
       "  </tbody>\n",
       "</table>\n",
       "</div>"
      ],
      "text/plain": [
       "  store_key division  district         upazila\n",
       "0     S0001   SYLHET  HABIGANJ      AJMIRIGANJ\n",
       "1     S0002   SYLHET  HABIGANJ         BAHUBAL\n",
       "2     S0003   SYLHET  HABIGANJ      BANIACHONG\n",
       "3     S0004   SYLHET  HABIGANJ     CHUNARUGHAT\n",
       "4     S0005   SYLHET  HABIGANJ  HABIGANJ SADAR"
      ]
     },
     "execution_count": 5,
     "metadata": {},
     "output_type": "execute_result"
    }
   ],
   "source": [
    "store_dim_df = pd.read_csv(\"data/store_dim.csv\", encoding='latin-1')\n",
    "store_dim_df.head()"
   ]
  },
  {
   "cell_type": "code",
   "execution_count": 6,
   "id": "d77fade4-abd1-48b4-b891-4c53dea82fe8",
   "metadata": {},
   "outputs": [
    {
     "data": {
      "text/plain": [
       "time_key            object\n",
       "date        datetime64[ns]\n",
       "hour                 int64\n",
       "day                  int64\n",
       "week                object\n",
       "month                int64\n",
       "quarter             object\n",
       "year                 int64\n",
       "dtype: object"
      ]
     },
     "execution_count": 6,
     "metadata": {},
     "output_type": "execute_result"
    }
   ],
   "source": [
    "time_dim_df = pd.read_csv(\"data/time_dim.csv\", encoding='latin-1')\n",
    "time_dim_df.head()\n",
    "time_dim_df['date'] = pd.to_datetime(time_dim_df['date'], dayfirst=True)\n",
    "time_dim_df.dtypes"
   ]
  },
  {
   "cell_type": "code",
   "execution_count": 7,
   "id": "948de996-0452-4ff8-9c6c-48c0fc5a72d0",
   "metadata": {},
   "outputs": [
    {
     "data": {
      "text/html": [
       "<div>\n",
       "<style scoped>\n",
       "    .dataframe tbody tr th:only-of-type {\n",
       "        vertical-align: middle;\n",
       "    }\n",
       "\n",
       "    .dataframe tbody tr th {\n",
       "        vertical-align: top;\n",
       "    }\n",
       "\n",
       "    .dataframe thead th {\n",
       "        text-align: right;\n",
       "    }\n",
       "</style>\n",
       "<table border=\"1\" class=\"dataframe\">\n",
       "  <thead>\n",
       "    <tr style=\"text-align: right;\">\n",
       "      <th></th>\n",
       "      <th>payment_key</th>\n",
       "      <th>trans_type</th>\n",
       "      <th>bank_name</th>\n",
       "    </tr>\n",
       "  </thead>\n",
       "  <tbody>\n",
       "    <tr>\n",
       "      <th>0</th>\n",
       "      <td>P001</td>\n",
       "      <td>cash</td>\n",
       "      <td>NaN</td>\n",
       "    </tr>\n",
       "    <tr>\n",
       "      <th>1</th>\n",
       "      <td>P002</td>\n",
       "      <td>card</td>\n",
       "      <td>AB Bank Limited</td>\n",
       "    </tr>\n",
       "    <tr>\n",
       "      <th>2</th>\n",
       "      <td>P003</td>\n",
       "      <td>card</td>\n",
       "      <td>Bangladesh Commerce Bank Limited</td>\n",
       "    </tr>\n",
       "    <tr>\n",
       "      <th>3</th>\n",
       "      <td>P004</td>\n",
       "      <td>card</td>\n",
       "      <td>Bank Asia Limited</td>\n",
       "    </tr>\n",
       "    <tr>\n",
       "      <th>4</th>\n",
       "      <td>P005</td>\n",
       "      <td>card</td>\n",
       "      <td>BRAC Bank Limited</td>\n",
       "    </tr>\n",
       "  </tbody>\n",
       "</table>\n",
       "</div>"
      ],
      "text/plain": [
       "  payment_key trans_type                         bank_name\n",
       "0        P001       cash                               NaN\n",
       "1        P002       card                   AB Bank Limited\n",
       "2        P003       card  Bangladesh Commerce Bank Limited\n",
       "3        P004       card                 Bank Asia Limited\n",
       "4        P005       card                 BRAC Bank Limited"
      ]
     },
     "execution_count": 7,
     "metadata": {},
     "output_type": "execute_result"
    }
   ],
   "source": [
    "trans_dim_df = pd.read_csv(\"data/trans_dim.csv\", encoding='latin-1')\n",
    "trans_dim_df.head()"
   ]
  },
  {
   "cell_type": "code",
   "execution_count": 8,
   "id": "ea7ae7f7-58f0-438f-b521-80dd58292c5e",
   "metadata": {
    "scrolled": true
   },
   "outputs": [
    {
     "data": {
      "text/html": [
       "<div>\n",
       "<style scoped>\n",
       "    .dataframe tbody tr th:only-of-type {\n",
       "        vertical-align: middle;\n",
       "    }\n",
       "\n",
       "    .dataframe tbody tr th {\n",
       "        vertical-align: top;\n",
       "    }\n",
       "\n",
       "    .dataframe thead th {\n",
       "        text-align: right;\n",
       "    }\n",
       "</style>\n",
       "<table border=\"1\" class=\"dataframe\">\n",
       "  <thead>\n",
       "    <tr style=\"text-align: right;\">\n",
       "      <th></th>\n",
       "      <th>payment_key</th>\n",
       "      <th>coustomer_key</th>\n",
       "      <th>time_key</th>\n",
       "      <th>item_key</th>\n",
       "      <th>store_key</th>\n",
       "      <th>quantity</th>\n",
       "      <th>unit</th>\n",
       "      <th>unit_price</th>\n",
       "      <th>total_price</th>\n",
       "    </tr>\n",
       "  </thead>\n",
       "  <tbody>\n",
       "    <tr>\n",
       "      <th>0</th>\n",
       "      <td>P026</td>\n",
       "      <td>C004510</td>\n",
       "      <td>T049189</td>\n",
       "      <td>I00177</td>\n",
       "      <td>S00307</td>\n",
       "      <td>1</td>\n",
       "      <td>ct</td>\n",
       "      <td>35.0</td>\n",
       "      <td>35.0</td>\n",
       "    </tr>\n",
       "    <tr>\n",
       "      <th>1</th>\n",
       "      <td>P022</td>\n",
       "      <td>C008967</td>\n",
       "      <td>T041209</td>\n",
       "      <td>I00248</td>\n",
       "      <td>S00595</td>\n",
       "      <td>1</td>\n",
       "      <td>rolls</td>\n",
       "      <td>26.0</td>\n",
       "      <td>26.0</td>\n",
       "    </tr>\n",
       "    <tr>\n",
       "      <th>2</th>\n",
       "      <td>P030</td>\n",
       "      <td>C007261</td>\n",
       "      <td>T03633</td>\n",
       "      <td>I00195</td>\n",
       "      <td>S00496</td>\n",
       "      <td>8</td>\n",
       "      <td>ct</td>\n",
       "      <td>12.5</td>\n",
       "      <td>100.0</td>\n",
       "    </tr>\n",
       "    <tr>\n",
       "      <th>3</th>\n",
       "      <td>P032</td>\n",
       "      <td>C007048</td>\n",
       "      <td>T084631</td>\n",
       "      <td>I00131</td>\n",
       "      <td>S0086</td>\n",
       "      <td>8</td>\n",
       "      <td>ct</td>\n",
       "      <td>14.0</td>\n",
       "      <td>112.0</td>\n",
       "    </tr>\n",
       "    <tr>\n",
       "      <th>4</th>\n",
       "      <td>P014</td>\n",
       "      <td>C006430</td>\n",
       "      <td>T071276</td>\n",
       "      <td>I00050</td>\n",
       "      <td>S00488</td>\n",
       "      <td>8</td>\n",
       "      <td>cans</td>\n",
       "      <td>8.0</td>\n",
       "      <td>64.0</td>\n",
       "    </tr>\n",
       "  </tbody>\n",
       "</table>\n",
       "</div>"
      ],
      "text/plain": [
       "  payment_key coustomer_key time_key item_key store_key  quantity   unit  \\\n",
       "0        P026       C004510  T049189   I00177    S00307         1     ct   \n",
       "1        P022       C008967  T041209   I00248    S00595         1  rolls   \n",
       "2        P030       C007261   T03633   I00195    S00496         8     ct   \n",
       "3        P032       C007048  T084631   I00131     S0086         8     ct   \n",
       "4        P014       C006430  T071276   I00050    S00488         8   cans   \n",
       "\n",
       "   unit_price  total_price  \n",
       "0        35.0         35.0  \n",
       "1        26.0         26.0  \n",
       "2        12.5        100.0  \n",
       "3        14.0        112.0  \n",
       "4         8.0         64.0  "
      ]
     },
     "execution_count": 8,
     "metadata": {},
     "output_type": "execute_result"
    }
   ],
   "source": [
    "fact_table_df = pd.read_csv(\"data/fact_table.csv\", encoding='latin-1')\n",
    "fact_table_df.head()"
   ]
  },
  {
   "cell_type": "code",
   "execution_count": 9,
   "id": "0467507c-314c-4a43-8cb1-3a23044ffb71",
   "metadata": {
    "scrolled": true
   },
   "outputs": [
    {
     "name": "stdout",
     "output_type": "stream",
     "text": [
      "payment_key         0\n",
      "coustomer_key       0\n",
      "time_key            0\n",
      "item_key            0\n",
      "store_key           0\n",
      "quantity            0\n",
      "unit             3723\n",
      "unit_price          0\n",
      "total_price         0\n",
      "dtype: int64\n",
      "-----------------------\n",
      "coustomer_key     0\n",
      "name             27\n",
      "contact_no        0\n",
      "nid               0\n",
      "dtype: int64\n",
      "-----------------------\n",
      "item_key       0\n",
      "item_name      0\n",
      "desc           0\n",
      "unit_price     0\n",
      "man_country    0\n",
      "supplier       0\n",
      "unit           1\n",
      "dtype: int64\n",
      "-----------------------\n",
      "store_key    0\n",
      "division     0\n",
      "district     0\n",
      "upazila      0\n",
      "dtype: int64\n",
      "-----------------------\n",
      "time_key    0\n",
      "date        0\n",
      "hour        0\n",
      "day         0\n",
      "week        0\n",
      "month       0\n",
      "quarter     0\n",
      "year        0\n",
      "dtype: int64\n",
      "-----------------------\n",
      "payment_key    0\n",
      "trans_type     0\n",
      "bank_name      1\n",
      "dtype: int64\n",
      "-----------------------\n"
     ]
    }
   ],
   "source": [
    "# Check for null values\n",
    "list = [ fact_table_df, customer_dim_df, item_dim_df, store_dim_df, time_dim_df, trans_dim_df ]\n",
    "\n",
    "for x in list:\n",
    "    print(x.isnull().sum(axis = 0))\n",
    "    print(\"-----------------------\")"
   ]
  },
  {
   "cell_type": "markdown",
   "id": "0c7be5dd-1561-488b-a460-bb93f6514f93",
   "metadata": {},
   "source": [
    "## Load Pandas DataFrame Into Atoti Cube"
   ]
  },
  {
   "cell_type": "code",
   "execution_count": 10,
   "id": "120ad3b7-6ead-49f7-bba0-df928dbb251b",
   "metadata": {},
   "outputs": [],
   "source": [
    "# Load Pandas DataFrame as Atoti Table Objects\n",
    "sales_fact_table = session.read_pandas(fact_table_df, table_name=\"sales_fact_table\")\n",
    "customer_dim_table = session.read_pandas(customer_dim_df, table_name=\"customer_dim_table\")\n",
    "item_dim_table = session.read_pandas(item_dim_df, table_name=\"item_dim_table\")\n",
    "store_dim_table = session.read_pandas(store_dim_df, table_name=\"store_dim_table\")\n",
    "time_dim_table = session.read_pandas(time_dim_df, table_name=\"time_dim_table\")\n",
    "trans_dim_table = session.read_pandas(trans_dim_df, table_name=\"trans_dim_table\")\n",
    "\n",
    "# Join data from fact table to dimensions\n",
    "sales_fact_table.join(customer_dim_table, sales_fact_table[\"coustomer_key\"] == customer_dim_table[\"coustomer_key\"])\n",
    "sales_fact_table.join(item_dim_table, sales_fact_table[\"item_key\"] == item_dim_table[\"item_key\"])\n",
    "sales_fact_table.join(store_dim_table, sales_fact_table[\"store_key\"] == store_dim_table[\"store_key\"])\n",
    "sales_fact_table.join(time_dim_table, sales_fact_table[\"time_key\"] == time_dim_table[\"time_key\"])\n",
    "sales_fact_table.join(trans_dim_table, sales_fact_table[\"payment_key\"] == trans_dim_table[\"payment_key\"])"
   ]
  },
  {
   "cell_type": "code",
   "execution_count": 11,
   "id": "2d483600-5f5f-419f-a650-76e2d5d44fa2",
   "metadata": {},
   "outputs": [],
   "source": [
    "cube = session.create_cube(sales_fact_table)"
   ]
  },
  {
   "cell_type": "markdown",
   "id": "fbff4604-c5a3-48b9-8f3c-2fd33f15adf3",
   "metadata": {},
   "source": [
    "## Cube Data Model Analysis"
   ]
  },
  {
   "cell_type": "code",
   "execution_count": 12,
   "id": "b1e7d083-d5b2-4615-9ad4-aa8686033310",
   "metadata": {},
   "outputs": [
    {
     "data": {
      "image/svg+xml": [
       "<svg xmlns=\"http://www.w3.org/2000/svg\" xmlns:xlink=\"http://www.w3.org/1999/xlink\" width=\"614px\" height=\"844px\" viewBox=\"0.00 0.00 613.75 844.00\">\n",
       "<g id=\"graph0\" class=\"graph\" transform=\"scale(1.0 1.0) rotate(0) translate(4 840)\">\n",
       "<title>sales_fact_table schema</title>\n",
       "<polygon fill=\"white\" stroke=\"none\" points=\"-4,4 -4,-840 609.75,-840 609.75,4 -4,4\"/>\n",
       "<!-- sales_fact_table -->\n",
       "<g id=\"node1\" class=\"node\">\n",
       "<title>sales_fact_table</title>\n",
       "<text text-anchor=\"start\" x=\"36.88\" y=\"-516.65\" font-family=\"-apple-system, BlinkMacSystemFont, 'Segoe UI', Helvetica, Arial, sans-serif, 'Apple Color Emoji', 'Segoe UI Emoji', 'Segoe UI Symbol'\" font-weight=\"bold\" font-size=\"13.00\">sales_fact_table</text>\n",
       "<polygon fill=\"#f5f5f5\" stroke=\"none\" points=\"9,-487 9,-510 19,-510 19,-487 9,-487\"/>\n",
       "<polygon fill=\"#f5f5f5\" stroke=\"none\" points=\"19,-487 19,-510 119,-510 119,-487 19,-487\"/>\n",
       "<text text-anchor=\"start\" x=\"24\" y=\"-492.65\" font-family=\"-apple-system, BlinkMacSystemFont, 'Segoe UI', Helvetica, Arial, sans-serif, 'Apple Color Emoji', 'Segoe UI Emoji', 'Segoe UI Symbol'\" font-size=\"13.00\">payment_key</text>\n",
       "<polygon fill=\"#f5f5f5\" stroke=\"none\" points=\"119,-487 119,-510 169,-510 169,-487 119,-487\"/>\n",
       "<text text-anchor=\"start\" x=\"131\" y=\"-493.65\" font-family=\"-apple-system, BlinkMacSystemFont, 'Segoe UI', Helvetica, Arial, sans-serif, 'Apple Color Emoji', 'Segoe UI Emoji', 'Segoe UI Symbol'\" font-style=\"italic\" font-size=\"13.00\">string</text>\n",
       "<polygon fill=\"#ffffff\" stroke=\"none\" points=\"9,-464 9,-487 19,-487 19,-464 9,-464\"/>\n",
       "<polygon fill=\"#ffffff\" stroke=\"none\" points=\"19,-464 19,-487 119,-487 119,-464 19,-464\"/>\n",
       "<text text-anchor=\"start\" x=\"23.62\" y=\"-469.65\" font-family=\"-apple-system, BlinkMacSystemFont, 'Segoe UI', Helvetica, Arial, sans-serif, 'Apple Color Emoji', 'Segoe UI Emoji', 'Segoe UI Symbol'\" font-size=\"13.00\">coustomer_key</text>\n",
       "<polygon fill=\"#ffffff\" stroke=\"none\" points=\"119,-464 119,-487 169,-487 169,-464 119,-464\"/>\n",
       "<text text-anchor=\"start\" x=\"131\" y=\"-470.65\" font-family=\"-apple-system, BlinkMacSystemFont, 'Segoe UI', Helvetica, Arial, sans-serif, 'Apple Color Emoji', 'Segoe UI Emoji', 'Segoe UI Symbol'\" font-style=\"italic\" font-size=\"13.00\">string</text>\n",
       "<polygon fill=\"#f5f5f5\" stroke=\"none\" points=\"9,-441 9,-464 19,-464 19,-441 9,-441\"/>\n",
       "<polygon fill=\"#f5f5f5\" stroke=\"none\" points=\"19,-441 19,-464 119,-464 119,-441 19,-441\"/>\n",
       "<text text-anchor=\"start\" x=\"24\" y=\"-446.65\" font-family=\"-apple-system, BlinkMacSystemFont, 'Segoe UI', Helvetica, Arial, sans-serif, 'Apple Color Emoji', 'Segoe UI Emoji', 'Segoe UI Symbol'\" font-size=\"13.00\">time_key</text>\n",
       "<polygon fill=\"#f5f5f5\" stroke=\"none\" points=\"119,-441 119,-464 169,-464 169,-441 119,-441\"/>\n",
       "<text text-anchor=\"start\" x=\"131\" y=\"-447.65\" font-family=\"-apple-system, BlinkMacSystemFont, 'Segoe UI', Helvetica, Arial, sans-serif, 'Apple Color Emoji', 'Segoe UI Emoji', 'Segoe UI Symbol'\" font-style=\"italic\" font-size=\"13.00\">string</text>\n",
       "<polygon fill=\"#ffffff\" stroke=\"none\" points=\"9,-418 9,-441 19,-441 19,-418 9,-418\"/>\n",
       "<polygon fill=\"#ffffff\" stroke=\"none\" points=\"19,-418 19,-441 119,-441 119,-418 19,-418\"/>\n",
       "<text text-anchor=\"start\" x=\"24\" y=\"-423.65\" font-family=\"-apple-system, BlinkMacSystemFont, 'Segoe UI', Helvetica, Arial, sans-serif, 'Apple Color Emoji', 'Segoe UI Emoji', 'Segoe UI Symbol'\" font-size=\"13.00\">item_key</text>\n",
       "<polygon fill=\"#ffffff\" stroke=\"none\" points=\"119,-418 119,-441 169,-441 169,-418 119,-418\"/>\n",
       "<text text-anchor=\"start\" x=\"131\" y=\"-424.65\" font-family=\"-apple-system, BlinkMacSystemFont, 'Segoe UI', Helvetica, Arial, sans-serif, 'Apple Color Emoji', 'Segoe UI Emoji', 'Segoe UI Symbol'\" font-style=\"italic\" font-size=\"13.00\">string</text>\n",
       "<polygon fill=\"#f5f5f5\" stroke=\"none\" points=\"9,-395 9,-418 19,-418 19,-395 9,-395\"/>\n",
       "<polygon fill=\"#f5f5f5\" stroke=\"none\" points=\"19,-395 19,-418 119,-418 119,-395 19,-395\"/>\n",
       "<text text-anchor=\"start\" x=\"24\" y=\"-400.65\" font-family=\"-apple-system, BlinkMacSystemFont, 'Segoe UI', Helvetica, Arial, sans-serif, 'Apple Color Emoji', 'Segoe UI Emoji', 'Segoe UI Symbol'\" font-size=\"13.00\">store_key</text>\n",
       "<polygon fill=\"#f5f5f5\" stroke=\"none\" points=\"119,-395 119,-418 169,-418 169,-395 119,-395\"/>\n",
       "<text text-anchor=\"start\" x=\"131\" y=\"-401.65\" font-family=\"-apple-system, BlinkMacSystemFont, 'Segoe UI', Helvetica, Arial, sans-serif, 'Apple Color Emoji', 'Segoe UI Emoji', 'Segoe UI Symbol'\" font-style=\"italic\" font-size=\"13.00\">string</text>\n",
       "<polygon fill=\"#ffffff\" stroke=\"none\" points=\"9,-372 9,-395 19,-395 19,-372 9,-372\"/>\n",
       "<polygon fill=\"#ffffff\" stroke=\"none\" points=\"19,-372 19,-395 119,-395 119,-372 19,-372\"/>\n",
       "<text text-anchor=\"start\" x=\"24\" y=\"-377.65\" font-family=\"-apple-system, BlinkMacSystemFont, 'Segoe UI', Helvetica, Arial, sans-serif, 'Apple Color Emoji', 'Segoe UI Emoji', 'Segoe UI Symbol'\" font-size=\"13.00\">quantity</text>\n",
       "<polygon fill=\"#ffffff\" stroke=\"none\" points=\"119,-372 119,-395 169,-395 169,-372 119,-372\"/>\n",
       "<text text-anchor=\"start\" x=\"138.5\" y=\"-378.65\" font-family=\"-apple-system, BlinkMacSystemFont, 'Segoe UI', Helvetica, Arial, sans-serif, 'Apple Color Emoji', 'Segoe UI Emoji', 'Segoe UI Symbol'\" font-style=\"italic\" font-size=\"13.00\">long</text>\n",
       "<polygon fill=\"#f5f5f5\" stroke=\"none\" points=\"9,-349 9,-372 19,-372 19,-349 9,-349\"/>\n",
       "<polygon fill=\"#f5f5f5\" stroke=\"none\" points=\"19,-349 19,-372 119,-372 119,-349 19,-349\"/>\n",
       "<text text-anchor=\"start\" x=\"24\" y=\"-354.65\" font-family=\"-apple-system, BlinkMacSystemFont, 'Segoe UI', Helvetica, Arial, sans-serif, 'Apple Color Emoji', 'Segoe UI Emoji', 'Segoe UI Symbol'\" font-size=\"13.00\">unit</text>\n",
       "<polygon fill=\"#f5f5f5\" stroke=\"none\" points=\"119,-349 119,-372 169,-372 169,-349 119,-349\"/>\n",
       "<text text-anchor=\"start\" x=\"131\" y=\"-355.65\" font-family=\"-apple-system, BlinkMacSystemFont, 'Segoe UI', Helvetica, Arial, sans-serif, 'Apple Color Emoji', 'Segoe UI Emoji', 'Segoe UI Symbol'\" font-style=\"italic\" font-size=\"13.00\">string</text>\n",
       "<polygon fill=\"#ffffff\" stroke=\"none\" points=\"9,-326 9,-349 19,-349 19,-326 9,-326\"/>\n",
       "<polygon fill=\"#ffffff\" stroke=\"none\" points=\"19,-326 19,-349 119,-349 119,-326 19,-326\"/>\n",
       "<text text-anchor=\"start\" x=\"24\" y=\"-331.65\" font-family=\"-apple-system, BlinkMacSystemFont, 'Segoe UI', Helvetica, Arial, sans-serif, 'Apple Color Emoji', 'Segoe UI Emoji', 'Segoe UI Symbol'\" font-size=\"13.00\">unit_price</text>\n",
       "<polygon fill=\"#ffffff\" stroke=\"none\" points=\"119,-326 119,-349 169,-349 169,-326 119,-326\"/>\n",
       "<text text-anchor=\"start\" x=\"123.75\" y=\"-332.65\" font-family=\"-apple-system, BlinkMacSystemFont, 'Segoe UI', Helvetica, Arial, sans-serif, 'Apple Color Emoji', 'Segoe UI Emoji', 'Segoe UI Symbol'\" font-style=\"italic\" font-size=\"13.00\">double</text>\n",
       "<polygon fill=\"#f5f5f5\" stroke=\"none\" points=\"9,-303 9,-326 19,-326 19,-303 9,-303\"/>\n",
       "<polygon fill=\"#f5f5f5\" stroke=\"none\" points=\"19,-303 19,-326 119,-326 119,-303 19,-303\"/>\n",
       "<text text-anchor=\"start\" x=\"24\" y=\"-308.65\" font-family=\"-apple-system, BlinkMacSystemFont, 'Segoe UI', Helvetica, Arial, sans-serif, 'Apple Color Emoji', 'Segoe UI Emoji', 'Segoe UI Symbol'\" font-size=\"13.00\">total_price</text>\n",
       "<polygon fill=\"#f5f5f5\" stroke=\"none\" points=\"119,-303 119,-326 169,-326 169,-303 119,-303\"/>\n",
       "<text text-anchor=\"start\" x=\"123.75\" y=\"-309.65\" font-family=\"-apple-system, BlinkMacSystemFont, 'Segoe UI', Helvetica, Arial, sans-serif, 'Apple Color Emoji', 'Segoe UI Emoji', 'Segoe UI Symbol'\" font-style=\"italic\" font-size=\"13.00\">double</text>\n",
       "<polygon fill=\"none\" stroke=\"black\" points=\"8,-302 8,-534 170,-534 170,-302 8,-302\"/>\n",
       "</g>\n",
       "<!-- item_dim_table -->\n",
       "<g id=\"node2\" class=\"node\">\n",
       "<title>item_dim_table</title>\n",
       "<text text-anchor=\"start\" x=\"462.38\" y=\"-814.65\" font-family=\"-apple-system, BlinkMacSystemFont, 'Segoe UI', Helvetica, Arial, sans-serif, 'Apple Color Emoji', 'Segoe UI Emoji', 'Segoe UI Symbol'\" font-weight=\"bold\" font-size=\"13.00\">item_dim_table</text>\n",
       "<polygon fill=\"#f5f5f5\" stroke=\"none\" points=\"437.25,-785 437.25,-808 447.25,-808 447.25,-785 437.25,-785\"/>\n",
       "<polygon fill=\"#f5f5f5\" stroke=\"none\" points=\"447.25,-785 447.25,-808 534.25,-808 534.25,-785 447.25,-785\"/>\n",
       "<text text-anchor=\"start\" x=\"452.25\" y=\"-790.65\" font-family=\"-apple-system, BlinkMacSystemFont, 'Segoe UI', Helvetica, Arial, sans-serif, 'Apple Color Emoji', 'Segoe UI Emoji', 'Segoe UI Symbol'\" font-size=\"13.00\">item_key</text>\n",
       "<polygon fill=\"#f5f5f5\" stroke=\"none\" points=\"534.25,-785 534.25,-808 584.25,-808 584.25,-785 534.25,-785\"/>\n",
       "<text text-anchor=\"start\" x=\"546.25\" y=\"-791.65\" font-family=\"-apple-system, BlinkMacSystemFont, 'Segoe UI', Helvetica, Arial, sans-serif, 'Apple Color Emoji', 'Segoe UI Emoji', 'Segoe UI Symbol'\" font-style=\"italic\" font-size=\"13.00\">string</text>\n",
       "<polygon fill=\"#ffffff\" stroke=\"none\" points=\"437.25,-762 437.25,-785 447.25,-785 447.25,-762 437.25,-762\"/>\n",
       "<polygon fill=\"#ffffff\" stroke=\"none\" points=\"447.25,-762 447.25,-785 534.25,-785 534.25,-762 447.25,-762\"/>\n",
       "<text text-anchor=\"start\" x=\"452.25\" y=\"-767.65\" font-family=\"-apple-system, BlinkMacSystemFont, 'Segoe UI', Helvetica, Arial, sans-serif, 'Apple Color Emoji', 'Segoe UI Emoji', 'Segoe UI Symbol'\" font-size=\"13.00\">item_name</text>\n",
       "<polygon fill=\"#ffffff\" stroke=\"none\" points=\"534.25,-762 534.25,-785 584.25,-785 584.25,-762 534.25,-762\"/>\n",
       "<text text-anchor=\"start\" x=\"546.25\" y=\"-768.65\" font-family=\"-apple-system, BlinkMacSystemFont, 'Segoe UI', Helvetica, Arial, sans-serif, 'Apple Color Emoji', 'Segoe UI Emoji', 'Segoe UI Symbol'\" font-style=\"italic\" font-size=\"13.00\">string</text>\n",
       "<polygon fill=\"#f5f5f5\" stroke=\"none\" points=\"437.25,-739 437.25,-762 447.25,-762 447.25,-739 437.25,-739\"/>\n",
       "<polygon fill=\"#f5f5f5\" stroke=\"none\" points=\"447.25,-739 447.25,-762 534.25,-762 534.25,-739 447.25,-739\"/>\n",
       "<text text-anchor=\"start\" x=\"452.25\" y=\"-744.65\" font-family=\"-apple-system, BlinkMacSystemFont, 'Segoe UI', Helvetica, Arial, sans-serif, 'Apple Color Emoji', 'Segoe UI Emoji', 'Segoe UI Symbol'\" font-size=\"13.00\">desc</text>\n",
       "<polygon fill=\"#f5f5f5\" stroke=\"none\" points=\"534.25,-739 534.25,-762 584.25,-762 584.25,-739 534.25,-739\"/>\n",
       "<text text-anchor=\"start\" x=\"546.25\" y=\"-745.65\" font-family=\"-apple-system, BlinkMacSystemFont, 'Segoe UI', Helvetica, Arial, sans-serif, 'Apple Color Emoji', 'Segoe UI Emoji', 'Segoe UI Symbol'\" font-style=\"italic\" font-size=\"13.00\">string</text>\n",
       "<polygon fill=\"#ffffff\" stroke=\"none\" points=\"437.25,-716 437.25,-739 447.25,-739 447.25,-716 437.25,-716\"/>\n",
       "<polygon fill=\"#ffffff\" stroke=\"none\" points=\"447.25,-716 447.25,-739 534.25,-739 534.25,-716 447.25,-716\"/>\n",
       "<text text-anchor=\"start\" x=\"452.25\" y=\"-721.65\" font-family=\"-apple-system, BlinkMacSystemFont, 'Segoe UI', Helvetica, Arial, sans-serif, 'Apple Color Emoji', 'Segoe UI Emoji', 'Segoe UI Symbol'\" font-size=\"13.00\">unit_price</text>\n",
       "<polygon fill=\"#ffffff\" stroke=\"none\" points=\"534.25,-716 534.25,-739 584.25,-739 584.25,-716 534.25,-716\"/>\n",
       "<text text-anchor=\"start\" x=\"539\" y=\"-722.65\" font-family=\"-apple-system, BlinkMacSystemFont, 'Segoe UI', Helvetica, Arial, sans-serif, 'Apple Color Emoji', 'Segoe UI Emoji', 'Segoe UI Symbol'\" font-style=\"italic\" font-size=\"13.00\">double</text>\n",
       "<polygon fill=\"#f5f5f5\" stroke=\"none\" points=\"437.25,-693 437.25,-716 447.25,-716 447.25,-693 437.25,-693\"/>\n",
       "<polygon fill=\"#f5f5f5\" stroke=\"none\" points=\"447.25,-693 447.25,-716 534.25,-716 534.25,-693 447.25,-693\"/>\n",
       "<text text-anchor=\"start\" x=\"452.12\" y=\"-698.65\" font-family=\"-apple-system, BlinkMacSystemFont, 'Segoe UI', Helvetica, Arial, sans-serif, 'Apple Color Emoji', 'Segoe UI Emoji', 'Segoe UI Symbol'\" font-size=\"13.00\">man_country</text>\n",
       "<polygon fill=\"#f5f5f5\" stroke=\"none\" points=\"534.25,-693 534.25,-716 584.25,-716 584.25,-693 534.25,-693\"/>\n",
       "<text text-anchor=\"start\" x=\"546.25\" y=\"-699.65\" font-family=\"-apple-system, BlinkMacSystemFont, 'Segoe UI', Helvetica, Arial, sans-serif, 'Apple Color Emoji', 'Segoe UI Emoji', 'Segoe UI Symbol'\" font-style=\"italic\" font-size=\"13.00\">string</text>\n",
       "<polygon fill=\"#ffffff\" stroke=\"none\" points=\"437.25,-670 437.25,-693 447.25,-693 447.25,-670 437.25,-670\"/>\n",
       "<polygon fill=\"#ffffff\" stroke=\"none\" points=\"447.25,-670 447.25,-693 534.25,-693 534.25,-670 447.25,-670\"/>\n",
       "<text text-anchor=\"start\" x=\"452.25\" y=\"-675.65\" font-family=\"-apple-system, BlinkMacSystemFont, 'Segoe UI', Helvetica, Arial, sans-serif, 'Apple Color Emoji', 'Segoe UI Emoji', 'Segoe UI Symbol'\" font-size=\"13.00\">supplier</text>\n",
       "<polygon fill=\"#ffffff\" stroke=\"none\" points=\"534.25,-670 534.25,-693 584.25,-693 584.25,-670 534.25,-670\"/>\n",
       "<text text-anchor=\"start\" x=\"546.25\" y=\"-676.65\" font-family=\"-apple-system, BlinkMacSystemFont, 'Segoe UI', Helvetica, Arial, sans-serif, 'Apple Color Emoji', 'Segoe UI Emoji', 'Segoe UI Symbol'\" font-style=\"italic\" font-size=\"13.00\">string</text>\n",
       "<polygon fill=\"#f5f5f5\" stroke=\"none\" points=\"437.25,-647 437.25,-670 447.25,-670 447.25,-647 437.25,-647\"/>\n",
       "<polygon fill=\"#f5f5f5\" stroke=\"none\" points=\"447.25,-647 447.25,-670 534.25,-670 534.25,-647 447.25,-647\"/>\n",
       "<text text-anchor=\"start\" x=\"452.25\" y=\"-652.65\" font-family=\"-apple-system, BlinkMacSystemFont, 'Segoe UI', Helvetica, Arial, sans-serif, 'Apple Color Emoji', 'Segoe UI Emoji', 'Segoe UI Symbol'\" font-size=\"13.00\">unit</text>\n",
       "<polygon fill=\"#f5f5f5\" stroke=\"none\" points=\"534.25,-647 534.25,-670 584.25,-670 584.25,-647 534.25,-647\"/>\n",
       "<text text-anchor=\"start\" x=\"546.25\" y=\"-653.65\" font-family=\"-apple-system, BlinkMacSystemFont, 'Segoe UI', Helvetica, Arial, sans-serif, 'Apple Color Emoji', 'Segoe UI Emoji', 'Segoe UI Symbol'\" font-style=\"italic\" font-size=\"13.00\">string</text>\n",
       "<polygon fill=\"none\" stroke=\"black\" points=\"436.25,-646 436.25,-832 585.25,-832 585.25,-646 436.25,-646\"/>\n",
       "</g>\n",
       "<!-- sales_fact_table&#45;&gt;item_dim_table -->\n",
       "<g id=\"edge5\" class=\"edge\">\n",
       "<title>sales_fact_table-&gt;item_dim_table</title>\n",
       "<path fill=\"none\" stroke=\"black\" d=\"M177.93,-524.34C183.87,-530.15 189.91,-535.76 196,-541 264.92,-600.39 353.3,-654.52 418.69,-691.11\"/>\n",
       "<polygon fill=\"black\" stroke=\"black\" points=\"416.81,-694.07 427.25,-695.87 420.21,-687.95 416.81,-694.07\"/>\n",
       "<text text-anchor=\"middle\" x=\"296.88\" y=\"-677.65\" font-family=\"-apple-system, BlinkMacSystemFont, 'Segoe UI', Helvetica, Arial, sans-serif, 'Apple Color Emoji', 'Segoe UI Emoji', 'Segoe UI Symbol'\" font-size=\"13.00\">item_key → item_key</text>\n",
       "</g>\n",
       "<!-- customer_dim_table -->\n",
       "<g id=\"node3\" class=\"node\">\n",
       "<title>customer_dim_table</title>\n",
       "<text text-anchor=\"start\" x=\"445.88\" y=\"-602.15\" font-family=\"-apple-system, BlinkMacSystemFont, 'Segoe UI', Helvetica, Arial, sans-serif, 'Apple Color Emoji', 'Segoe UI Emoji', 'Segoe UI Symbol'\" font-weight=\"bold\" font-size=\"13.00\">customer_dim_table</text>\n",
       "<polygon fill=\"#f5f5f5\" stroke=\"none\" points=\"434.25,-572.5 434.25,-595.5 444.25,-595.5 444.25,-572.5 434.25,-572.5\"/>\n",
       "<polygon fill=\"#f5f5f5\" stroke=\"none\" points=\"444.25,-572.5 444.25,-595.5 544.25,-595.5 544.25,-572.5 444.25,-572.5\"/>\n",
       "<text text-anchor=\"start\" x=\"448.88\" y=\"-578.15\" font-family=\"-apple-system, BlinkMacSystemFont, 'Segoe UI', Helvetica, Arial, sans-serif, 'Apple Color Emoji', 'Segoe UI Emoji', 'Segoe UI Symbol'\" font-size=\"13.00\">coustomer_key</text>\n",
       "<polygon fill=\"#f5f5f5\" stroke=\"none\" points=\"544.25,-572.5 544.25,-595.5 587.25,-595.5 587.25,-572.5 544.25,-572.5\"/>\n",
       "<text text-anchor=\"start\" x=\"549.25\" y=\"-579.15\" font-family=\"-apple-system, BlinkMacSystemFont, 'Segoe UI', Helvetica, Arial, sans-serif, 'Apple Color Emoji', 'Segoe UI Emoji', 'Segoe UI Symbol'\" font-style=\"italic\" font-size=\"13.00\">string</text>\n",
       "<polygon fill=\"#ffffff\" stroke=\"none\" points=\"434.25,-549.5 434.25,-572.5 444.25,-572.5 444.25,-549.5 434.25,-549.5\"/>\n",
       "<polygon fill=\"#ffffff\" stroke=\"none\" points=\"444.25,-549.5 444.25,-572.5 544.25,-572.5 544.25,-549.5 444.25,-549.5\"/>\n",
       "<text text-anchor=\"start\" x=\"449.25\" y=\"-555.15\" font-family=\"-apple-system, BlinkMacSystemFont, 'Segoe UI', Helvetica, Arial, sans-serif, 'Apple Color Emoji', 'Segoe UI Emoji', 'Segoe UI Symbol'\" font-size=\"13.00\">name</text>\n",
       "<polygon fill=\"#ffffff\" stroke=\"none\" points=\"544.25,-549.5 544.25,-572.5 587.25,-572.5 587.25,-549.5 544.25,-549.5\"/>\n",
       "<text text-anchor=\"start\" x=\"549.25\" y=\"-556.15\" font-family=\"-apple-system, BlinkMacSystemFont, 'Segoe UI', Helvetica, Arial, sans-serif, 'Apple Color Emoji', 'Segoe UI Emoji', 'Segoe UI Symbol'\" font-style=\"italic\" font-size=\"13.00\">string</text>\n",
       "<polygon fill=\"#f5f5f5\" stroke=\"none\" points=\"434.25,-526.5 434.25,-549.5 444.25,-549.5 444.25,-526.5 434.25,-526.5\"/>\n",
       "<polygon fill=\"#f5f5f5\" stroke=\"none\" points=\"444.25,-526.5 444.25,-549.5 544.25,-549.5 544.25,-526.5 444.25,-526.5\"/>\n",
       "<text text-anchor=\"start\" x=\"449.25\" y=\"-532.15\" font-family=\"-apple-system, BlinkMacSystemFont, 'Segoe UI', Helvetica, Arial, sans-serif, 'Apple Color Emoji', 'Segoe UI Emoji', 'Segoe UI Symbol'\" font-size=\"13.00\">contact_no</text>\n",
       "<polygon fill=\"#f5f5f5\" stroke=\"none\" points=\"544.25,-526.5 544.25,-549.5 587.25,-549.5 587.25,-526.5 544.25,-526.5\"/>\n",
       "<text text-anchor=\"start\" x=\"556.75\" y=\"-533.15\" font-family=\"-apple-system, BlinkMacSystemFont, 'Segoe UI', Helvetica, Arial, sans-serif, 'Apple Color Emoji', 'Segoe UI Emoji', 'Segoe UI Symbol'\" font-style=\"italic\" font-size=\"13.00\">long</text>\n",
       "<polygon fill=\"#ffffff\" stroke=\"none\" points=\"434.25,-503.5 434.25,-526.5 444.25,-526.5 444.25,-503.5 434.25,-503.5\"/>\n",
       "<polygon fill=\"#ffffff\" stroke=\"none\" points=\"444.25,-503.5 444.25,-526.5 544.25,-526.5 544.25,-503.5 444.25,-503.5\"/>\n",
       "<text text-anchor=\"start\" x=\"449.25\" y=\"-509.15\" font-family=\"-apple-system, BlinkMacSystemFont, 'Segoe UI', Helvetica, Arial, sans-serif, 'Apple Color Emoji', 'Segoe UI Emoji', 'Segoe UI Symbol'\" font-size=\"13.00\">nid</text>\n",
       "<polygon fill=\"#ffffff\" stroke=\"none\" points=\"544.25,-503.5 544.25,-526.5 587.25,-526.5 587.25,-503.5 544.25,-503.5\"/>\n",
       "<text text-anchor=\"start\" x=\"556.75\" y=\"-510.15\" font-family=\"-apple-system, BlinkMacSystemFont, 'Segoe UI', Helvetica, Arial, sans-serif, 'Apple Color Emoji', 'Segoe UI Emoji', 'Segoe UI Symbol'\" font-style=\"italic\" font-size=\"13.00\">long</text>\n",
       "<polygon fill=\"none\" stroke=\"black\" points=\"433.25,-502.5 433.25,-619.5 588.25,-619.5 588.25,-502.5 433.25,-502.5\"/>\n",
       "</g>\n",
       "<!-- sales_fact_table&#45;&gt;customer_dim_table -->\n",
       "<g id=\"edge4\" class=\"edge\">\n",
       "<title>sales_fact_table-&gt;customer_dim_table</title>\n",
       "<path fill=\"none\" stroke=\"black\" d=\"M177.99,-447.98C247.28,-471.58 343.68,-504.42 414.72,-528.63\"/>\n",
       "<polygon fill=\"black\" stroke=\"black\" points=\"413.42,-531.88 424.02,-531.79 415.68,-525.26 413.42,-531.88\"/>\n",
       "<text text-anchor=\"middle\" x=\"296.88\" y=\"-524.65\" font-family=\"-apple-system, BlinkMacSystemFont, 'Segoe UI', Helvetica, Arial, sans-serif, 'Apple Color Emoji', 'Segoe UI Emoji', 'Segoe UI Symbol'\" font-size=\"13.00\">coustomer_key → coustomer_key</text>\n",
       "</g>\n",
       "<!-- store_dim_table -->\n",
       "<g id=\"node4\" class=\"node\">\n",
       "<title>store_dim_table</title>\n",
       "<text text-anchor=\"start\" x=\"459.38\" y=\"-459.15\" font-family=\"-apple-system, BlinkMacSystemFont, 'Segoe UI', Helvetica, Arial, sans-serif, 'Apple Color Emoji', 'Segoe UI Emoji', 'Segoe UI Symbol'\" font-weight=\"bold\" font-size=\"13.00\">store_dim_table</text>\n",
       "<polygon fill=\"#f5f5f5\" stroke=\"none\" points=\"450.25,-429.5 450.25,-452.5 460.25,-452.5 460.25,-429.5 450.25,-429.5\"/>\n",
       "<polygon fill=\"#f5f5f5\" stroke=\"none\" points=\"460.25,-429.5 460.25,-452.5 528.25,-452.5 528.25,-429.5 460.25,-429.5\"/>\n",
       "<text text-anchor=\"start\" x=\"465\" y=\"-435.15\" font-family=\"-apple-system, BlinkMacSystemFont, 'Segoe UI', Helvetica, Arial, sans-serif, 'Apple Color Emoji', 'Segoe UI Emoji', 'Segoe UI Symbol'\" font-size=\"13.00\">store_key</text>\n",
       "<polygon fill=\"#f5f5f5\" stroke=\"none\" points=\"528.25,-429.5 528.25,-452.5 571.25,-452.5 571.25,-429.5 528.25,-429.5\"/>\n",
       "<text text-anchor=\"start\" x=\"533.25\" y=\"-436.15\" font-family=\"-apple-system, BlinkMacSystemFont, 'Segoe UI', Helvetica, Arial, sans-serif, 'Apple Color Emoji', 'Segoe UI Emoji', 'Segoe UI Symbol'\" font-style=\"italic\" font-size=\"13.00\">string</text>\n",
       "<polygon fill=\"#ffffff\" stroke=\"none\" points=\"450.25,-406.5 450.25,-429.5 460.25,-429.5 460.25,-406.5 450.25,-406.5\"/>\n",
       "<polygon fill=\"#ffffff\" stroke=\"none\" points=\"460.25,-406.5 460.25,-429.5 528.25,-429.5 528.25,-406.5 460.25,-406.5\"/>\n",
       "<text text-anchor=\"start\" x=\"465.25\" y=\"-412.15\" font-family=\"-apple-system, BlinkMacSystemFont, 'Segoe UI', Helvetica, Arial, sans-serif, 'Apple Color Emoji', 'Segoe UI Emoji', 'Segoe UI Symbol'\" font-size=\"13.00\">division</text>\n",
       "<polygon fill=\"#ffffff\" stroke=\"none\" points=\"528.25,-406.5 528.25,-429.5 571.25,-429.5 571.25,-406.5 528.25,-406.5\"/>\n",
       "<text text-anchor=\"start\" x=\"533.25\" y=\"-413.15\" font-family=\"-apple-system, BlinkMacSystemFont, 'Segoe UI', Helvetica, Arial, sans-serif, 'Apple Color Emoji', 'Segoe UI Emoji', 'Segoe UI Symbol'\" font-style=\"italic\" font-size=\"13.00\">string</text>\n",
       "<polygon fill=\"#f5f5f5\" stroke=\"none\" points=\"450.25,-383.5 450.25,-406.5 460.25,-406.5 460.25,-383.5 450.25,-383.5\"/>\n",
       "<polygon fill=\"#f5f5f5\" stroke=\"none\" points=\"460.25,-383.5 460.25,-406.5 528.25,-406.5 528.25,-383.5 460.25,-383.5\"/>\n",
       "<text text-anchor=\"start\" x=\"465.25\" y=\"-389.15\" font-family=\"-apple-system, BlinkMacSystemFont, 'Segoe UI', Helvetica, Arial, sans-serif, 'Apple Color Emoji', 'Segoe UI Emoji', 'Segoe UI Symbol'\" font-size=\"13.00\">district</text>\n",
       "<polygon fill=\"#f5f5f5\" stroke=\"none\" points=\"528.25,-383.5 528.25,-406.5 571.25,-406.5 571.25,-383.5 528.25,-383.5\"/>\n",
       "<text text-anchor=\"start\" x=\"533.25\" y=\"-390.15\" font-family=\"-apple-system, BlinkMacSystemFont, 'Segoe UI', Helvetica, Arial, sans-serif, 'Apple Color Emoji', 'Segoe UI Emoji', 'Segoe UI Symbol'\" font-style=\"italic\" font-size=\"13.00\">string</text>\n",
       "<polygon fill=\"#ffffff\" stroke=\"none\" points=\"450.25,-360.5 450.25,-383.5 460.25,-383.5 460.25,-360.5 450.25,-360.5\"/>\n",
       "<polygon fill=\"#ffffff\" stroke=\"none\" points=\"460.25,-360.5 460.25,-383.5 528.25,-383.5 528.25,-360.5 460.25,-360.5\"/>\n",
       "<text text-anchor=\"start\" x=\"465.25\" y=\"-366.15\" font-family=\"-apple-system, BlinkMacSystemFont, 'Segoe UI', Helvetica, Arial, sans-serif, 'Apple Color Emoji', 'Segoe UI Emoji', 'Segoe UI Symbol'\" font-size=\"13.00\">upazila</text>\n",
       "<polygon fill=\"#ffffff\" stroke=\"none\" points=\"528.25,-360.5 528.25,-383.5 571.25,-383.5 571.25,-360.5 528.25,-360.5\"/>\n",
       "<text text-anchor=\"start\" x=\"533.25\" y=\"-367.15\" font-family=\"-apple-system, BlinkMacSystemFont, 'Segoe UI', Helvetica, Arial, sans-serif, 'Apple Color Emoji', 'Segoe UI Emoji', 'Segoe UI Symbol'\" font-style=\"italic\" font-size=\"13.00\">string</text>\n",
       "<polygon fill=\"none\" stroke=\"black\" points=\"449.25,-359.5 449.25,-476.5 572.25,-476.5 572.25,-359.5 449.25,-359.5\"/>\n",
       "</g>\n",
       "<!-- sales_fact_table&#45;&gt;store_dim_table -->\n",
       "<g id=\"edge3\" class=\"edge\">\n",
       "<title>sales_fact_table-&gt;store_dim_table</title>\n",
       "<path fill=\"none\" stroke=\"black\" d=\"M177.99,-418C252.5,-418 358.36,-418 430.32,-418\"/>\n",
       "<polygon fill=\"black\" stroke=\"black\" points=\"430.06,-421.5 440.06,-418 430.06,-414.5 430.06,-421.5\"/>\n",
       "<text text-anchor=\"middle\" x=\"296.88\" y=\"-420.65\" font-family=\"-apple-system, BlinkMacSystemFont, 'Segoe UI', Helvetica, Arial, sans-serif, 'Apple Color Emoji', 'Segoe UI Emoji', 'Segoe UI Symbol'\" font-size=\"13.00\">store_key → store_key</text>\n",
       "</g>\n",
       "<!-- time_dim_table -->\n",
       "<g id=\"node5\" class=\"node\">\n",
       "<title>time_dim_table</title>\n",
       "<text text-anchor=\"start\" x=\"462.38\" y=\"-316.15\" font-family=\"-apple-system, BlinkMacSystemFont, 'Segoe UI', Helvetica, Arial, sans-serif, 'Apple Color Emoji', 'Segoe UI Emoji', 'Segoe UI Symbol'\" font-weight=\"bold\" font-size=\"13.00\">time_dim_table</text>\n",
       "<polygon fill=\"#f5f5f5\" stroke=\"none\" points=\"424.75,-286.5 424.75,-309.5 434.75,-309.5 434.75,-286.5 424.75,-286.5\"/>\n",
       "<polygon fill=\"#f5f5f5\" stroke=\"none\" points=\"434.75,-286.5 434.75,-309.5 497.75,-309.5 497.75,-286.5 434.75,-286.5\"/>\n",
       "<text text-anchor=\"start\" x=\"439.62\" y=\"-292.15\" font-family=\"-apple-system, BlinkMacSystemFont, 'Segoe UI', Helvetica, Arial, sans-serif, 'Apple Color Emoji', 'Segoe UI Emoji', 'Segoe UI Symbol'\" font-size=\"13.00\">time_key</text>\n",
       "<polygon fill=\"#f5f5f5\" stroke=\"none\" points=\"497.75,-286.5 497.75,-309.5 596.75,-309.5 596.75,-286.5 497.75,-286.5\"/>\n",
       "<text text-anchor=\"start\" x=\"558.75\" y=\"-293.15\" font-family=\"-apple-system, BlinkMacSystemFont, 'Segoe UI', Helvetica, Arial, sans-serif, 'Apple Color Emoji', 'Segoe UI Emoji', 'Segoe UI Symbol'\" font-style=\"italic\" font-size=\"13.00\">string</text>\n",
       "<polygon fill=\"#ffffff\" stroke=\"none\" points=\"424.75,-263.5 424.75,-286.5 434.75,-286.5 434.75,-263.5 424.75,-263.5\"/>\n",
       "<polygon fill=\"#ffffff\" stroke=\"none\" points=\"434.75,-263.5 434.75,-286.5 497.75,-286.5 497.75,-263.5 434.75,-263.5\"/>\n",
       "<text text-anchor=\"start\" x=\"439.75\" y=\"-269.15\" font-family=\"-apple-system, BlinkMacSystemFont, 'Segoe UI', Helvetica, Arial, sans-serif, 'Apple Color Emoji', 'Segoe UI Emoji', 'Segoe UI Symbol'\" font-size=\"13.00\">date</text>\n",
       "<polygon fill=\"#ffffff\" stroke=\"none\" points=\"497.75,-263.5 497.75,-286.5 596.75,-286.5 596.75,-263.5 497.75,-263.5\"/>\n",
       "<text text-anchor=\"start\" x=\"502.62\" y=\"-270.15\" font-family=\"-apple-system, BlinkMacSystemFont, 'Segoe UI', Helvetica, Arial, sans-serif, 'Apple Color Emoji', 'Segoe UI Emoji', 'Segoe UI Symbol'\" font-style=\"italic\" font-size=\"13.00\">LocalDateTime</text>\n",
       "<polygon fill=\"#f5f5f5\" stroke=\"none\" points=\"424.75,-240.5 424.75,-263.5 434.75,-263.5 434.75,-240.5 424.75,-240.5\"/>\n",
       "<polygon fill=\"#f5f5f5\" stroke=\"none\" points=\"434.75,-240.5 434.75,-263.5 497.75,-263.5 497.75,-240.5 434.75,-240.5\"/>\n",
       "<text text-anchor=\"start\" x=\"439.75\" y=\"-246.15\" font-family=\"-apple-system, BlinkMacSystemFont, 'Segoe UI', Helvetica, Arial, sans-serif, 'Apple Color Emoji', 'Segoe UI Emoji', 'Segoe UI Symbol'\" font-size=\"13.00\">hour</text>\n",
       "<polygon fill=\"#f5f5f5\" stroke=\"none\" points=\"497.75,-240.5 497.75,-263.5 596.75,-263.5 596.75,-240.5 497.75,-240.5\"/>\n",
       "<text text-anchor=\"start\" x=\"566.25\" y=\"-247.15\" font-family=\"-apple-system, BlinkMacSystemFont, 'Segoe UI', Helvetica, Arial, sans-serif, 'Apple Color Emoji', 'Segoe UI Emoji', 'Segoe UI Symbol'\" font-style=\"italic\" font-size=\"13.00\">long</text>\n",
       "<polygon fill=\"#ffffff\" stroke=\"none\" points=\"424.75,-217.5 424.75,-240.5 434.75,-240.5 434.75,-217.5 424.75,-217.5\"/>\n",
       "<polygon fill=\"#ffffff\" stroke=\"none\" points=\"434.75,-217.5 434.75,-240.5 497.75,-240.5 497.75,-217.5 434.75,-217.5\"/>\n",
       "<text text-anchor=\"start\" x=\"439.75\" y=\"-223.15\" font-family=\"-apple-system, BlinkMacSystemFont, 'Segoe UI', Helvetica, Arial, sans-serif, 'Apple Color Emoji', 'Segoe UI Emoji', 'Segoe UI Symbol'\" font-size=\"13.00\">day</text>\n",
       "<polygon fill=\"#ffffff\" stroke=\"none\" points=\"497.75,-217.5 497.75,-240.5 596.75,-240.5 596.75,-217.5 497.75,-217.5\"/>\n",
       "<text text-anchor=\"start\" x=\"566.25\" y=\"-224.15\" font-family=\"-apple-system, BlinkMacSystemFont, 'Segoe UI', Helvetica, Arial, sans-serif, 'Apple Color Emoji', 'Segoe UI Emoji', 'Segoe UI Symbol'\" font-style=\"italic\" font-size=\"13.00\">long</text>\n",
       "<polygon fill=\"#f5f5f5\" stroke=\"none\" points=\"424.75,-194.5 424.75,-217.5 434.75,-217.5 434.75,-194.5 424.75,-194.5\"/>\n",
       "<polygon fill=\"#f5f5f5\" stroke=\"none\" points=\"434.75,-194.5 434.75,-217.5 497.75,-217.5 497.75,-194.5 434.75,-194.5\"/>\n",
       "<text text-anchor=\"start\" x=\"439.75\" y=\"-200.15\" font-family=\"-apple-system, BlinkMacSystemFont, 'Segoe UI', Helvetica, Arial, sans-serif, 'Apple Color Emoji', 'Segoe UI Emoji', 'Segoe UI Symbol'\" font-size=\"13.00\">week</text>\n",
       "<polygon fill=\"#f5f5f5\" stroke=\"none\" points=\"497.75,-194.5 497.75,-217.5 596.75,-217.5 596.75,-194.5 497.75,-194.5\"/>\n",
       "<text text-anchor=\"start\" x=\"558.75\" y=\"-201.15\" font-family=\"-apple-system, BlinkMacSystemFont, 'Segoe UI', Helvetica, Arial, sans-serif, 'Apple Color Emoji', 'Segoe UI Emoji', 'Segoe UI Symbol'\" font-style=\"italic\" font-size=\"13.00\">string</text>\n",
       "<polygon fill=\"#ffffff\" stroke=\"none\" points=\"424.75,-171.5 424.75,-194.5 434.75,-194.5 434.75,-171.5 424.75,-171.5\"/>\n",
       "<polygon fill=\"#ffffff\" stroke=\"none\" points=\"434.75,-171.5 434.75,-194.5 497.75,-194.5 497.75,-171.5 434.75,-171.5\"/>\n",
       "<text text-anchor=\"start\" x=\"439.75\" y=\"-177.15\" font-family=\"-apple-system, BlinkMacSystemFont, 'Segoe UI', Helvetica, Arial, sans-serif, 'Apple Color Emoji', 'Segoe UI Emoji', 'Segoe UI Symbol'\" font-size=\"13.00\">month</text>\n",
       "<polygon fill=\"#ffffff\" stroke=\"none\" points=\"497.75,-171.5 497.75,-194.5 596.75,-194.5 596.75,-171.5 497.75,-171.5\"/>\n",
       "<text text-anchor=\"start\" x=\"566.25\" y=\"-178.15\" font-family=\"-apple-system, BlinkMacSystemFont, 'Segoe UI', Helvetica, Arial, sans-serif, 'Apple Color Emoji', 'Segoe UI Emoji', 'Segoe UI Symbol'\" font-style=\"italic\" font-size=\"13.00\">long</text>\n",
       "<polygon fill=\"#f5f5f5\" stroke=\"none\" points=\"424.75,-148.5 424.75,-171.5 434.75,-171.5 434.75,-148.5 424.75,-148.5\"/>\n",
       "<polygon fill=\"#f5f5f5\" stroke=\"none\" points=\"434.75,-148.5 434.75,-171.5 497.75,-171.5 497.75,-148.5 434.75,-148.5\"/>\n",
       "<text text-anchor=\"start\" x=\"439.75\" y=\"-154.15\" font-family=\"-apple-system, BlinkMacSystemFont, 'Segoe UI', Helvetica, Arial, sans-serif, 'Apple Color Emoji', 'Segoe UI Emoji', 'Segoe UI Symbol'\" font-size=\"13.00\">quarter</text>\n",
       "<polygon fill=\"#f5f5f5\" stroke=\"none\" points=\"497.75,-148.5 497.75,-171.5 596.75,-171.5 596.75,-148.5 497.75,-148.5\"/>\n",
       "<text text-anchor=\"start\" x=\"558.75\" y=\"-155.15\" font-family=\"-apple-system, BlinkMacSystemFont, 'Segoe UI', Helvetica, Arial, sans-serif, 'Apple Color Emoji', 'Segoe UI Emoji', 'Segoe UI Symbol'\" font-style=\"italic\" font-size=\"13.00\">string</text>\n",
       "<polygon fill=\"#ffffff\" stroke=\"none\" points=\"424.75,-125.5 424.75,-148.5 434.75,-148.5 434.75,-125.5 424.75,-125.5\"/>\n",
       "<polygon fill=\"#ffffff\" stroke=\"none\" points=\"434.75,-125.5 434.75,-148.5 497.75,-148.5 497.75,-125.5 434.75,-125.5\"/>\n",
       "<text text-anchor=\"start\" x=\"439.75\" y=\"-131.15\" font-family=\"-apple-system, BlinkMacSystemFont, 'Segoe UI', Helvetica, Arial, sans-serif, 'Apple Color Emoji', 'Segoe UI Emoji', 'Segoe UI Symbol'\" font-size=\"13.00\">year</text>\n",
       "<polygon fill=\"#ffffff\" stroke=\"none\" points=\"497.75,-125.5 497.75,-148.5 596.75,-148.5 596.75,-125.5 497.75,-125.5\"/>\n",
       "<text text-anchor=\"start\" x=\"566.25\" y=\"-132.15\" font-family=\"-apple-system, BlinkMacSystemFont, 'Segoe UI', Helvetica, Arial, sans-serif, 'Apple Color Emoji', 'Segoe UI Emoji', 'Segoe UI Symbol'\" font-style=\"italic\" font-size=\"13.00\">long</text>\n",
       "<polygon fill=\"none\" stroke=\"black\" points=\"423.75,-124.5 423.75,-333.5 597.75,-333.5 597.75,-124.5 423.75,-124.5\"/>\n",
       "</g>\n",
       "<!-- sales_fact_table&#45;&gt;time_dim_table -->\n",
       "<g id=\"edge2\" class=\"edge\">\n",
       "<title>sales_fact_table-&gt;time_dim_table</title>\n",
       "<path fill=\"none\" stroke=\"black\" d=\"M177.99,-378.38C244.44,-348.46 335.83,-307.31 405.87,-275.77\"/>\n",
       "<polygon fill=\"black\" stroke=\"black\" points=\"406.98,-279.11 414.66,-271.81 404.11,-272.73 406.98,-279.11\"/>\n",
       "<text text-anchor=\"middle\" x=\"296.88\" y=\"-369.65\" font-family=\"-apple-system, BlinkMacSystemFont, 'Segoe UI', Helvetica, Arial, sans-serif, 'Apple Color Emoji', 'Segoe UI Emoji', 'Segoe UI Symbol'\" font-size=\"13.00\">time_key → time_key</text>\n",
       "</g>\n",
       "<!-- trans_dim_table -->\n",
       "<g id=\"node6\" class=\"node\">\n",
       "<title>trans_dim_table</title>\n",
       "<text text-anchor=\"start\" x=\"459.38\" y=\"-80.65\" font-family=\"-apple-system, BlinkMacSystemFont, 'Segoe UI', Helvetica, Arial, sans-serif, 'Apple Color Emoji', 'Segoe UI Emoji', 'Segoe UI Symbol'\" font-weight=\"bold\" font-size=\"13.00\">trans_dim_table</text>\n",
       "<polygon fill=\"#f5f5f5\" stroke=\"none\" points=\"439.75,-51 439.75,-74 449.75,-74 449.75,-51 439.75,-51\"/>\n",
       "<polygon fill=\"#f5f5f5\" stroke=\"none\" points=\"449.75,-51 449.75,-74 538.75,-74 538.75,-51 449.75,-51\"/>\n",
       "<text text-anchor=\"start\" x=\"454.5\" y=\"-56.65\" font-family=\"-apple-system, BlinkMacSystemFont, 'Segoe UI', Helvetica, Arial, sans-serif, 'Apple Color Emoji', 'Segoe UI Emoji', 'Segoe UI Symbol'\" font-size=\"13.00\">payment_key</text>\n",
       "<polygon fill=\"#f5f5f5\" stroke=\"none\" points=\"538.75,-51 538.75,-74 581.75,-74 581.75,-51 538.75,-51\"/>\n",
       "<text text-anchor=\"start\" x=\"543.75\" y=\"-57.65\" font-family=\"-apple-system, BlinkMacSystemFont, 'Segoe UI', Helvetica, Arial, sans-serif, 'Apple Color Emoji', 'Segoe UI Emoji', 'Segoe UI Symbol'\" font-style=\"italic\" font-size=\"13.00\">string</text>\n",
       "<polygon fill=\"#ffffff\" stroke=\"none\" points=\"439.75,-28 439.75,-51 449.75,-51 449.75,-28 439.75,-28\"/>\n",
       "<polygon fill=\"#ffffff\" stroke=\"none\" points=\"449.75,-28 449.75,-51 538.75,-51 538.75,-28 449.75,-28\"/>\n",
       "<text text-anchor=\"start\" x=\"454.75\" y=\"-33.65\" font-family=\"-apple-system, BlinkMacSystemFont, 'Segoe UI', Helvetica, Arial, sans-serif, 'Apple Color Emoji', 'Segoe UI Emoji', 'Segoe UI Symbol'\" font-size=\"13.00\">trans_type</text>\n",
       "<polygon fill=\"#ffffff\" stroke=\"none\" points=\"538.75,-28 538.75,-51 581.75,-51 581.75,-28 538.75,-28\"/>\n",
       "<text text-anchor=\"start\" x=\"543.75\" y=\"-34.65\" font-family=\"-apple-system, BlinkMacSystemFont, 'Segoe UI', Helvetica, Arial, sans-serif, 'Apple Color Emoji', 'Segoe UI Emoji', 'Segoe UI Symbol'\" font-style=\"italic\" font-size=\"13.00\">string</text>\n",
       "<polygon fill=\"#f5f5f5\" stroke=\"none\" points=\"439.75,-5 439.75,-28 449.75,-28 449.75,-5 439.75,-5\"/>\n",
       "<polygon fill=\"#f5f5f5\" stroke=\"none\" points=\"449.75,-5 449.75,-28 538.75,-28 538.75,-5 449.75,-5\"/>\n",
       "<text text-anchor=\"start\" x=\"454.75\" y=\"-10.65\" font-family=\"-apple-system, BlinkMacSystemFont, 'Segoe UI', Helvetica, Arial, sans-serif, 'Apple Color Emoji', 'Segoe UI Emoji', 'Segoe UI Symbol'\" font-size=\"13.00\">bank_name</text>\n",
       "<polygon fill=\"#f5f5f5\" stroke=\"none\" points=\"538.75,-5 538.75,-28 581.75,-28 581.75,-5 538.75,-5\"/>\n",
       "<text text-anchor=\"start\" x=\"543.75\" y=\"-11.65\" font-family=\"-apple-system, BlinkMacSystemFont, 'Segoe UI', Helvetica, Arial, sans-serif, 'Apple Color Emoji', 'Segoe UI Emoji', 'Segoe UI Symbol'\" font-style=\"italic\" font-size=\"13.00\">string</text>\n",
       "<polygon fill=\"none\" stroke=\"black\" points=\"438.75,-4 438.75,-98 582.75,-98 582.75,-4 438.75,-4\"/>\n",
       "</g>\n",
       "<!-- sales_fact_table&#45;&gt;trans_dim_table -->\n",
       "<g id=\"edge1\" class=\"edge\">\n",
       "<title>sales_fact_table-&gt;trans_dim_table</title>\n",
       "<path fill=\"none\" stroke=\"black\" d=\"M163.1,-298.03C173.4,-284.58 184.45,-271.57 196,-260 262.88,-193 354.34,-135 421.25,-97.21\"/>\n",
       "<polygon fill=\"black\" stroke=\"black\" points=\"422.61,-100.46 429.62,-92.52 419.19,-94.35 422.61,-100.46\"/>\n",
       "<text text-anchor=\"middle\" x=\"296.88\" y=\"-262.65\" font-family=\"-apple-system, BlinkMacSystemFont, 'Segoe UI', Helvetica, Arial, sans-serif, 'Apple Color Emoji', 'Segoe UI Emoji', 'Segoe UI Symbol'\" font-size=\"13.00\">payment_key → payment_key</text>\n",
       "</g>\n",
       "</g>\n",
       "</svg>"
      ],
      "text/plain": [
       "<IPython.core.display.SVG object>"
      ]
     },
     "execution_count": 12,
     "metadata": {},
     "output_type": "execute_result"
    }
   ],
   "source": [
    "cube.schema"
   ]
  },
  {
   "cell_type": "code",
   "execution_count": 13,
   "id": "e236c52a-1da9-4f58-8ff6-48b012868474",
   "metadata": {},
   "outputs": [],
   "source": [
    "h, l, m = cube.hierarchies, cube.levels, cube.measures"
   ]
  },
  {
   "cell_type": "code",
   "execution_count": 14,
   "id": "99b14b01-dbbc-4779-afa1-045fba58accf",
   "metadata": {},
   "outputs": [
    {
     "data": {
      "application/json": {
       "customer_dim_table": {
        "name": [
         "name"
        ]
       },
       "item_dim_table": {
        "desc": [
         "desc"
        ],
        "item_name": [
         "item_name"
        ],
        "man_country": [
         "man_country"
        ],
        "supplier": [
         "supplier"
        ],
        "unit": [
         "unit"
        ]
       },
       "sales_fact_table": {
        "coustomer_key": [
         "coustomer_key"
        ],
        "item_key": [
         "item_key"
        ],
        "payment_key": [
         "payment_key"
        ],
        "store_key": [
         "store_key"
        ],
        "time_key": [
         "time_key"
        ],
        "unit": [
         "unit"
        ]
       },
       "store_dim_table": {
        "district": [
         "district"
        ],
        "division": [
         "division"
        ],
        "upazila": [
         "upazila"
        ]
       },
       "time_dim_table": {
        "date": [
         "date"
        ],
        "muilti-level date": [
         "Year",
         "Month",
         "Day"
        ],
        "quarter": [
         "quarter"
        ],
        "week": [
         "week"
        ]
       },
       "trans_dim_table": {
        "bank_name": [
         "bank_name"
        ],
        "trans_type": [
         "trans_type"
        ]
       }
      },
      "text/html": [
       "<ul>\n",
       "<li>Dimensions\n",
       "  <ul>\n",
       "  <li>customer_dim_table\n",
       "    <ul>\n",
       "    <li>name\n",
       "      <ol>\n",
       "      <li>name</li>\n",
       "      </ol>    </li>\n",
       "    </ul>\n",
       "  </li>\n",
       "  <li>item_dim_table\n",
       "    <ul>\n",
       "    <li>desc\n",
       "      <ol>\n",
       "      <li>desc</li>\n",
       "      </ol>    </li>\n",
       "    <li>item_name\n",
       "      <ol>\n",
       "      <li>item_name</li>\n",
       "      </ol>    </li>\n",
       "    <li>man_country\n",
       "      <ol>\n",
       "      <li>man_country</li>\n",
       "      </ol>    </li>\n",
       "    <li>supplier\n",
       "      <ol>\n",
       "      <li>supplier</li>\n",
       "      </ol>    </li>\n",
       "    <li>unit\n",
       "      <ol>\n",
       "      <li>unit</li>\n",
       "      </ol>    </li>\n",
       "    </ul>\n",
       "  </li>\n",
       "  <li>sales_fact_table\n",
       "    <ul>\n",
       "    <li>coustomer_key\n",
       "      <ol>\n",
       "      <li>coustomer_key</li>\n",
       "      </ol>    </li>\n",
       "    <li>item_key\n",
       "      <ol>\n",
       "      <li>item_key</li>\n",
       "      </ol>    </li>\n",
       "    <li>payment_key\n",
       "      <ol>\n",
       "      <li>payment_key</li>\n",
       "      </ol>    </li>\n",
       "    <li>store_key\n",
       "      <ol>\n",
       "      <li>store_key</li>\n",
       "      </ol>    </li>\n",
       "    <li>time_key\n",
       "      <ol>\n",
       "      <li>time_key</li>\n",
       "      </ol>    </li>\n",
       "    <li>unit\n",
       "      <ol>\n",
       "      <li>unit</li>\n",
       "      </ol>    </li>\n",
       "    </ul>\n",
       "  </li>\n",
       "  <li>store_dim_table\n",
       "    <ul>\n",
       "    <li>district\n",
       "      <ol>\n",
       "      <li>district</li>\n",
       "      </ol>    </li>\n",
       "    <li>division\n",
       "      <ol>\n",
       "      <li>division</li>\n",
       "      </ol>    </li>\n",
       "    <li>upazila\n",
       "      <ol>\n",
       "      <li>upazila</li>\n",
       "      </ol>    </li>\n",
       "    </ul>\n",
       "  </li>\n",
       "  <li>time_dim_table\n",
       "    <ul>\n",
       "    <li>date\n",
       "      <ol>\n",
       "      <li>date</li>\n",
       "      </ol>    </li>\n",
       "    <li>muilti-level date\n",
       "      <ol>\n",
       "      <li>Year</li>\n",
       "      <li>Month</li>\n",
       "      <li>Day</li>\n",
       "      </ol>    </li>\n",
       "    <li>quarter\n",
       "      <ol>\n",
       "      <li>quarter</li>\n",
       "      </ol>    </li>\n",
       "    <li>week\n",
       "      <ol>\n",
       "      <li>week</li>\n",
       "      </ol>    </li>\n",
       "    </ul>\n",
       "  </li>\n",
       "  <li>trans_dim_table\n",
       "    <ul>\n",
       "    <li>bank_name\n",
       "      <ol>\n",
       "      <li>bank_name</li>\n",
       "      </ol>    </li>\n",
       "    <li>trans_type\n",
       "      <ol>\n",
       "      <li>trans_type</li>\n",
       "      </ol>    </li>\n",
       "    </ul>\n",
       "  </li>\n",
       "  </ul>\n",
       "</li>\n",
       "</ul>\n"
      ],
      "text/plain": [
       "{('sales_fact_table', 'coustomer_key'): <atoti.hierarchy.Hierarchy object at 0x2c7864760>, ('item_dim_table', 'unit'): <atoti.hierarchy.Hierarchy object at 0x2c78646a0>, ('store_dim_table', 'district'): <atoti.hierarchy.Hierarchy object at 0x2c78645e0>, ('trans_dim_table', 'trans_type'): <atoti.hierarchy.Hierarchy object at 0x2c7864280>, ('store_dim_table', 'upazila'): <atoti.hierarchy.Hierarchy object at 0x2c78641c0>, ('store_dim_table', 'division'): <atoti.hierarchy.Hierarchy object at 0x2c7864070>, ('sales_fact_table', 'unit'): <atoti.hierarchy.Hierarchy object at 0x2c7866620>, ('item_dim_table', 'item_name'): <atoti.hierarchy.Hierarchy object at 0x2c7866710>, ('sales_fact_table', 'payment_key'): <atoti.hierarchy.Hierarchy object at 0x2c7866800>, ('time_dim_table', 'date'): <atoti.hierarchy.Hierarchy object at 0x2c78668f0>, ('time_dim_table', 'week'): <atoti.hierarchy.Hierarchy object at 0x2c78669e0>, ('time_dim_table', 'quarter'): <atoti.hierarchy.Hierarchy object at 0x2c7866ad0>, ('customer_dim_table', 'name'): <atoti.hierarchy.Hierarchy object at 0x2c7866bc0>, ('sales_fact_table', 'time_key'): <atoti.hierarchy.Hierarchy object at 0x2c7866cb0>, ('sales_fact_table', 'item_key'): <atoti.hierarchy.Hierarchy object at 0x2c7866da0>, ('time_dim_table', 'muilti-level date'): <atoti.hierarchy.Hierarchy object at 0x2c7866e90>, ('item_dim_table', 'man_country'): <atoti.hierarchy.Hierarchy object at 0x2c7866f80>, ('sales_fact_table', 'store_key'): <atoti.hierarchy.Hierarchy object at 0x2c78671f0>, ('item_dim_table', 'supplier'): <atoti.hierarchy.Hierarchy object at 0x2c78672e0>, ('item_dim_table', 'desc'): <atoti.hierarchy.Hierarchy object at 0x2c78673d0>, ('trans_dim_table', 'bank_name'): <atoti.hierarchy.Hierarchy object at 0x2c78674c0>}"
      ]
     },
     "execution_count": 14,
     "metadata": {
      "application/json": {
       "expanded": true,
       "root": "Dimensions"
      }
     },
     "output_type": "execute_result"
    }
   ],
   "source": [
    "# View hierarchies for the cube\n",
    "cube.create_date_hierarchy(\"muilti-level date\", column=time_dim_table[\"date\"])\n",
    "h"
   ]
  },
  {
   "cell_type": "code",
   "execution_count": 15,
   "id": "0e415c27-cd22-43c9-9186-79ea94943c66",
   "metadata": {},
   "outputs": [
    {
     "data": {
      "application/json": {
       "Day (time_dim_table/muilti-level date/Day)": {
        "dimension": "time_dim_table",
        "hierarchy": "muilti-level date",
        "order": "NaturalOrder",
        "type": "int"
       },
       "Month (time_dim_table/muilti-level date/Month)": {
        "dimension": "time_dim_table",
        "hierarchy": "muilti-level date",
        "order": "NaturalOrder",
        "type": "int"
       },
       "Year (time_dim_table/muilti-level date/Year)": {
        "dimension": "time_dim_table",
        "hierarchy": "muilti-level date",
        "order": "NaturalOrder",
        "type": "int"
       },
       "bank_name (trans_dim_table/bank_name/bank_name)": {
        "dimension": "trans_dim_table",
        "hierarchy": "bank_name",
        "order": "NaturalOrder",
        "type": "String"
       },
       "coustomer_key (sales_fact_table/coustomer_key/coustomer_key)": {
        "dimension": "sales_fact_table",
        "hierarchy": "coustomer_key",
        "order": "NaturalOrder",
        "type": "String"
       },
       "date (time_dim_table/date/date)": {
        "dimension": "time_dim_table",
        "hierarchy": "date",
        "order": "NaturalOrder",
        "type": "LocalDateTime"
       },
       "desc (item_dim_table/desc/desc)": {
        "dimension": "item_dim_table",
        "hierarchy": "desc",
        "order": "NaturalOrder",
        "type": "String"
       },
       "district (store_dim_table/district/district)": {
        "dimension": "store_dim_table",
        "hierarchy": "district",
        "order": "NaturalOrder",
        "type": "String"
       },
       "division (store_dim_table/division/division)": {
        "dimension": "store_dim_table",
        "hierarchy": "division",
        "order": "NaturalOrder",
        "type": "String"
       },
       "item_key (sales_fact_table/item_key/item_key)": {
        "dimension": "sales_fact_table",
        "hierarchy": "item_key",
        "order": "NaturalOrder",
        "type": "String"
       },
       "item_name (item_dim_table/item_name/item_name)": {
        "dimension": "item_dim_table",
        "hierarchy": "item_name",
        "order": "NaturalOrder",
        "type": "String"
       },
       "man_country (item_dim_table/man_country/man_country)": {
        "dimension": "item_dim_table",
        "hierarchy": "man_country",
        "order": "NaturalOrder",
        "type": "String"
       },
       "name (customer_dim_table/name/name)": {
        "dimension": "customer_dim_table",
        "hierarchy": "name",
        "order": "NaturalOrder",
        "type": "String"
       },
       "payment_key (sales_fact_table/payment_key/payment_key)": {
        "dimension": "sales_fact_table",
        "hierarchy": "payment_key",
        "order": "NaturalOrder",
        "type": "String"
       },
       "quarter (time_dim_table/quarter/quarter)": {
        "dimension": "time_dim_table",
        "hierarchy": "quarter",
        "order": "NaturalOrder",
        "type": "String"
       },
       "store_key (sales_fact_table/store_key/store_key)": {
        "dimension": "sales_fact_table",
        "hierarchy": "store_key",
        "order": "NaturalOrder",
        "type": "String"
       },
       "supplier (item_dim_table/supplier/supplier)": {
        "dimension": "item_dim_table",
        "hierarchy": "supplier",
        "order": "NaturalOrder",
        "type": "String"
       },
       "time_key (sales_fact_table/time_key/time_key)": {
        "dimension": "sales_fact_table",
        "hierarchy": "time_key",
        "order": "NaturalOrder",
        "type": "String"
       },
       "trans_type (trans_dim_table/trans_type/trans_type)": {
        "dimension": "trans_dim_table",
        "hierarchy": "trans_type",
        "order": "NaturalOrder",
        "type": "String"
       },
       "unit (item_dim_table/unit/unit)": {
        "dimension": "item_dim_table",
        "hierarchy": "unit",
        "order": "NaturalOrder",
        "type": "String"
       },
       "unit (sales_fact_table/unit/unit)": {
        "dimension": "sales_fact_table",
        "hierarchy": "unit",
        "order": "NaturalOrder",
        "type": "String"
       },
       "upazila (store_dim_table/upazila/upazila)": {
        "dimension": "store_dim_table",
        "hierarchy": "upazila",
        "order": "NaturalOrder",
        "type": "String"
       },
       "week (time_dim_table/week/week)": {
        "dimension": "time_dim_table",
        "hierarchy": "week",
        "order": "NaturalOrder",
        "type": "String"
       }
      },
      "text/html": [
       "<ul>\n",
       "<li>Levels\n",
       "  <ul>\n",
       "  <li>Day (time_dim_table/muilti-level date/Day)\n",
       "    <ul>\n",
       "    <li>dimension: time_dim_table</li>\n",
       "    <li>hierarchy: muilti-level date</li>\n",
       "    <li>type: int</li>\n",
       "    <li>order: NaturalOrder</li>\n",
       "    </ul>\n",
       "  </li>\n",
       "  <li>Month (time_dim_table/muilti-level date/Month)\n",
       "    <ul>\n",
       "    <li>dimension: time_dim_table</li>\n",
       "    <li>hierarchy: muilti-level date</li>\n",
       "    <li>type: int</li>\n",
       "    <li>order: NaturalOrder</li>\n",
       "    </ul>\n",
       "  </li>\n",
       "  <li>Year (time_dim_table/muilti-level date/Year)\n",
       "    <ul>\n",
       "    <li>dimension: time_dim_table</li>\n",
       "    <li>hierarchy: muilti-level date</li>\n",
       "    <li>type: int</li>\n",
       "    <li>order: NaturalOrder</li>\n",
       "    </ul>\n",
       "  </li>\n",
       "  <li>bank_name (trans_dim_table/bank_name/bank_name)\n",
       "    <ul>\n",
       "    <li>dimension: trans_dim_table</li>\n",
       "    <li>hierarchy: bank_name</li>\n",
       "    <li>type: String</li>\n",
       "    <li>order: NaturalOrder</li>\n",
       "    </ul>\n",
       "  </li>\n",
       "  <li>coustomer_key (sales_fact_table/coustomer_key/coustomer_key)\n",
       "    <ul>\n",
       "    <li>dimension: sales_fact_table</li>\n",
       "    <li>hierarchy: coustomer_key</li>\n",
       "    <li>type: String</li>\n",
       "    <li>order: NaturalOrder</li>\n",
       "    </ul>\n",
       "  </li>\n",
       "  <li>date (time_dim_table/date/date)\n",
       "    <ul>\n",
       "    <li>dimension: time_dim_table</li>\n",
       "    <li>hierarchy: date</li>\n",
       "    <li>type: LocalDateTime</li>\n",
       "    <li>order: NaturalOrder</li>\n",
       "    </ul>\n",
       "  </li>\n",
       "  <li>desc (item_dim_table/desc/desc)\n",
       "    <ul>\n",
       "    <li>dimension: item_dim_table</li>\n",
       "    <li>hierarchy: desc</li>\n",
       "    <li>type: String</li>\n",
       "    <li>order: NaturalOrder</li>\n",
       "    </ul>\n",
       "  </li>\n",
       "  <li>district (store_dim_table/district/district)\n",
       "    <ul>\n",
       "    <li>dimension: store_dim_table</li>\n",
       "    <li>hierarchy: district</li>\n",
       "    <li>type: String</li>\n",
       "    <li>order: NaturalOrder</li>\n",
       "    </ul>\n",
       "  </li>\n",
       "  <li>division (store_dim_table/division/division)\n",
       "    <ul>\n",
       "    <li>dimension: store_dim_table</li>\n",
       "    <li>hierarchy: division</li>\n",
       "    <li>type: String</li>\n",
       "    <li>order: NaturalOrder</li>\n",
       "    </ul>\n",
       "  </li>\n",
       "  <li>item_key (sales_fact_table/item_key/item_key)\n",
       "    <ul>\n",
       "    <li>dimension: sales_fact_table</li>\n",
       "    <li>hierarchy: item_key</li>\n",
       "    <li>type: String</li>\n",
       "    <li>order: NaturalOrder</li>\n",
       "    </ul>\n",
       "  </li>\n",
       "  <li>item_name (item_dim_table/item_name/item_name)\n",
       "    <ul>\n",
       "    <li>dimension: item_dim_table</li>\n",
       "    <li>hierarchy: item_name</li>\n",
       "    <li>type: String</li>\n",
       "    <li>order: NaturalOrder</li>\n",
       "    </ul>\n",
       "  </li>\n",
       "  <li>man_country (item_dim_table/man_country/man_country)\n",
       "    <ul>\n",
       "    <li>dimension: item_dim_table</li>\n",
       "    <li>hierarchy: man_country</li>\n",
       "    <li>type: String</li>\n",
       "    <li>order: NaturalOrder</li>\n",
       "    </ul>\n",
       "  </li>\n",
       "  <li>name (customer_dim_table/name/name)\n",
       "    <ul>\n",
       "    <li>dimension: customer_dim_table</li>\n",
       "    <li>hierarchy: name</li>\n",
       "    <li>type: String</li>\n",
       "    <li>order: NaturalOrder</li>\n",
       "    </ul>\n",
       "  </li>\n",
       "  <li>payment_key (sales_fact_table/payment_key/payment_key)\n",
       "    <ul>\n",
       "    <li>dimension: sales_fact_table</li>\n",
       "    <li>hierarchy: payment_key</li>\n",
       "    <li>type: String</li>\n",
       "    <li>order: NaturalOrder</li>\n",
       "    </ul>\n",
       "  </li>\n",
       "  <li>quarter (time_dim_table/quarter/quarter)\n",
       "    <ul>\n",
       "    <li>dimension: time_dim_table</li>\n",
       "    <li>hierarchy: quarter</li>\n",
       "    <li>type: String</li>\n",
       "    <li>order: NaturalOrder</li>\n",
       "    </ul>\n",
       "  </li>\n",
       "  <li>store_key (sales_fact_table/store_key/store_key)\n",
       "    <ul>\n",
       "    <li>dimension: sales_fact_table</li>\n",
       "    <li>hierarchy: store_key</li>\n",
       "    <li>type: String</li>\n",
       "    <li>order: NaturalOrder</li>\n",
       "    </ul>\n",
       "  </li>\n",
       "  <li>supplier (item_dim_table/supplier/supplier)\n",
       "    <ul>\n",
       "    <li>dimension: item_dim_table</li>\n",
       "    <li>hierarchy: supplier</li>\n",
       "    <li>type: String</li>\n",
       "    <li>order: NaturalOrder</li>\n",
       "    </ul>\n",
       "  </li>\n",
       "  <li>time_key (sales_fact_table/time_key/time_key)\n",
       "    <ul>\n",
       "    <li>dimension: sales_fact_table</li>\n",
       "    <li>hierarchy: time_key</li>\n",
       "    <li>type: String</li>\n",
       "    <li>order: NaturalOrder</li>\n",
       "    </ul>\n",
       "  </li>\n",
       "  <li>trans_type (trans_dim_table/trans_type/trans_type)\n",
       "    <ul>\n",
       "    <li>dimension: trans_dim_table</li>\n",
       "    <li>hierarchy: trans_type</li>\n",
       "    <li>type: String</li>\n",
       "    <li>order: NaturalOrder</li>\n",
       "    </ul>\n",
       "  </li>\n",
       "  <li>unit (item_dim_table/unit/unit)\n",
       "    <ul>\n",
       "    <li>dimension: item_dim_table</li>\n",
       "    <li>hierarchy: unit</li>\n",
       "    <li>type: String</li>\n",
       "    <li>order: NaturalOrder</li>\n",
       "    </ul>\n",
       "  </li>\n",
       "  <li>unit (sales_fact_table/unit/unit)\n",
       "    <ul>\n",
       "    <li>dimension: sales_fact_table</li>\n",
       "    <li>hierarchy: unit</li>\n",
       "    <li>type: String</li>\n",
       "    <li>order: NaturalOrder</li>\n",
       "    </ul>\n",
       "  </li>\n",
       "  <li>upazila (store_dim_table/upazila/upazila)\n",
       "    <ul>\n",
       "    <li>dimension: store_dim_table</li>\n",
       "    <li>hierarchy: upazila</li>\n",
       "    <li>type: String</li>\n",
       "    <li>order: NaturalOrder</li>\n",
       "    </ul>\n",
       "  </li>\n",
       "  <li>week (time_dim_table/week/week)\n",
       "    <ul>\n",
       "    <li>dimension: time_dim_table</li>\n",
       "    <li>hierarchy: week</li>\n",
       "    <li>type: String</li>\n",
       "    <li>order: NaturalOrder</li>\n",
       "    </ul>\n",
       "  </li>\n",
       "  </ul>\n",
       "</li>\n",
       "</ul>\n"
      ],
      "text/plain": [
       "<atoti.levels.Levels at 0x1351bf4f0>"
      ]
     },
     "execution_count": 15,
     "metadata": {
      "application/json": {
       "expanded": true,
       "root": "Levels"
      }
     },
     "output_type": "execute_result"
    }
   ],
   "source": [
    "# View levels for the cube\n",
    "l"
   ]
  },
  {
   "cell_type": "code",
   "execution_count": 16,
   "id": "3200f662-2d07-47de-8aa8-686c4e7bf65f",
   "metadata": {},
   "outputs": [
    {
     "data": {
      "application/json": {
       "contributors.COUNT": {
        "formatter": "INT[#,###]"
       },
       "quantity.MEAN": {
        "formatter": "DOUBLE[#,###.00]"
       },
       "quantity.SUM": {
        "formatter": "INT[#,###]"
       },
       "total_price.MEAN": {
        "formatter": "DOUBLE[#,###.00]"
       },
       "total_price.SUM": {
        "formatter": "DOUBLE[#,###.00]"
       },
       "unit_price.MEAN": {
        "formatter": "DOUBLE[#,###.00]"
       },
       "unit_price.SUM": {
        "formatter": "DOUBLE[#,###.00]"
       }
      },
      "text/html": [
       "<ul>\n",
       "<li>Measures\n",
       "  <ul>\n",
       "  <li>contributors.COUNT\n",
       "    <ul>\n",
       "    <li>formatter: INT[#,###]</li>\n",
       "    </ul>\n",
       "  </li>\n",
       "  <li>quantity.MEAN\n",
       "    <ul>\n",
       "    <li>formatter: DOUBLE[#,###.00]</li>\n",
       "    </ul>\n",
       "  </li>\n",
       "  <li>quantity.SUM\n",
       "    <ul>\n",
       "    <li>formatter: INT[#,###]</li>\n",
       "    </ul>\n",
       "  </li>\n",
       "  <li>total_price.MEAN\n",
       "    <ul>\n",
       "    <li>formatter: DOUBLE[#,###.00]</li>\n",
       "    </ul>\n",
       "  </li>\n",
       "  <li>total_price.SUM\n",
       "    <ul>\n",
       "    <li>formatter: DOUBLE[#,###.00]</li>\n",
       "    </ul>\n",
       "  </li>\n",
       "  <li>unit_price.MEAN\n",
       "    <ul>\n",
       "    <li>formatter: DOUBLE[#,###.00]</li>\n",
       "    </ul>\n",
       "  </li>\n",
       "  <li>unit_price.SUM\n",
       "    <ul>\n",
       "    <li>formatter: DOUBLE[#,###.00]</li>\n",
       "    </ul>\n",
       "  </li>\n",
       "  </ul>\n",
       "</li>\n",
       "</ul>\n"
      ],
      "text/plain": [
       "{'contributors.COUNT': <atoti.measure.Measure object at 0x2c2bc2500>, 'update.TIMESTAMP': <atoti.measure.Measure object at 0x2c2bc2890>, 'unit_price.SUM': <atoti.measure.Measure object at 0x2c2bc28c0>, 'unit_price.MEAN': <atoti.measure.Measure object at 0x2c2bc2830>, 'quantity.SUM': <atoti.measure.Measure object at 0x2c2bc2860>, 'quantity.MEAN': <atoti.measure.Measure object at 0x2c2bc26b0>, 'total_price.SUM': <atoti.measure.Measure object at 0x2c2bc27a0>, 'total_price.MEAN': <atoti.measure.Measure object at 0x2c2bc27d0>}"
      ]
     },
     "execution_count": 16,
     "metadata": {
      "application/json": {
       "expanded": false,
       "root": "Measures"
      }
     },
     "output_type": "execute_result"
    }
   ],
   "source": [
    "# View measures for the cube\n",
    "m"
   ]
  },
  {
   "cell_type": "markdown",
   "id": "9b62e08a-3900-4176-a84b-8ca8b1a4e4b3",
   "metadata": {},
   "source": [
    "## Data Analysis and Visualization in Atoti"
   ]
  },
  {
   "cell_type": "code",
   "execution_count": 17,
   "id": "b4f4605a-eec5-44d4-a1c9-11a95696e5c0",
   "metadata": {
    "atoti": {
     "widget": {
      "columnWidths": {
       "[Measures].[contributors.COUNT]": 139
      },
      "filters": [],
      "mapping": {
       "columns": [
        "ALL_MEASURES"
       ],
       "measures": [
        "[Measures].[contributors.COUNT]",
        "[Measures].[total_price.SUM]"
       ],
       "rows": [
        "[trans_dim_table].[trans_type].[trans_type]"
       ]
      },
      "query": {
       "mdx": "SELECT NON EMPTY {[Measures].[contributors.COUNT], [Measures].[total_price.SUM]} ON COLUMNS, NON EMPTY Hierarchize(Descendants({[trans_dim_table].[trans_type].[ALL].[AllMember]}, 1, SELF_AND_BEFORE)) ON ROWS FROM [sales_fact_table] CELL PROPERTIES VALUE, FORMATTED_VALUE, BACK_COLOR, FORE_COLOR, FONT_FLAGS",
       "updateMode": "once"
      },
      "serverKey": "default",
      "widgetKey": "tree-table"
     }
    }
   },
   "outputs": [
    {
     "data": {
      "application/vnd.atoti.widget.v0+json": {
       "sessionId": "1704486346_RJZODK",
       "sessionLocation": {
        "https": false,
        "port": 9092
       },
       "widgetCreationCode": "session.widget"
      },
      "text/html": [
       "<img height=\"352\" width=\"1165\" src=\"data:image/png;base64,iVBORw0KGgoAAAANSUhEUgAABI0AAAFgCAYAAAA2KonPAAAAAXNSR0IArs4c6QAAIABJREFUeF7snQl0FFX2/9+r7qQRArIKAQSEpKqTQBCigCyCOOMCwwAyLqgMI7iBgoAoigiIosCwqLggIyOKoqPDICKO27AqiIgLgaRfJWBAVgVBSIAk3fX+uf2r4t+0nU4n6SSdzrfO8Uh3veW+z31d59Q3997HGS4QAAEQAAEQAAEQAAEQAAEQAAEQAAEQAAEQ8CPAQQQEQAAEQAAEQAAEQAAEQAAEQAAEQAAEQAAE/AmcE42klBJ4QCCaCHDOIYpGk0OxFhAAARAAARAAARAAARAAARAAgUolANGoUnFjssokANGoMmljLhAAARAAARAAARAAARAAARAAgWgjANEo2jyK9ZwjANEImwEEQAAEQAAEQAAEQAAEQAAEQAAEyk4AolHZ2aFnhBOAaBThDoJ5IAACIAACIAACIAACIAACIAACEU0AolFEuwfGlYcARKPy0ENfEAABEAABEAABEAABEAABEACBmk4AolFN3wFRvH6IRlHsXCwNBEAABEAABEAABEAABEAABECgwglANKpwxJigqghANKoq8pgXBEAABEAABEAABEAABEAABEAgGghANIoGL2INAQlANMLGAAEQAAEQAAEQAAEQAAEQAAEQAIGyE4BoVHZ2Ifc8ffo0++mnn1iLFi1YXFxcsf327dvHpJSsdevWIY+NhsUTgGiE3QECIAACIAACIAACIAACIAACIAACZSdQrGi0ceNG76hdu3ZlDofjvBn279/Pdu/ezRISErxCSGVdhw4d8k4VHx9fWVP+bp6y2HD48GEmhGBt27ZlF198cbG2b968mRmGwXr27Fll64umiSEaRZM3sRYQAAEQAAEQAAEQAAEQAAEQAIHKJlCsaLRhwwavLbVr12aXX375eXZR1MyePXsqXTT64osvvHZUpahSFhsgGlX2tv6/+SAaVQ13zAoCIAACIAACIAACIAACIAACIBAdBEoUjWiZ/hEyEI1KJ1xBNKqaHwtEo6rhjllBAARAAARAAARAAARAAARAAASig0BQ0chutzO3200RG+elqQUSjfLz81lGRgY7deqUty7PBRdc4I1EatiwITt69CjLzMxkl1xyCWvZsqWX3I8//sgozY3aWOlm2dnZjNK/0tLSvBFO1kU1gbZv3+5N3aJLURRWr1491rFjR/bVV18xsjM2NpYdP37c++8ePXqwYPZY44bSJhQbiNHOnTvZyZMnvWu32WzsoosuYqqqertbohGl8v3666/szJkzXqZ169Zl7du3ZzExMd52gdLTiCn18Xg83jXSGK1atYqO3VfBq4BoVMGAMTwIgAAIgAAIgAAIgAAIgAAIgEBUEwgqGtWqVYs1bdqU7d2797w0NX/RiIQSEm8KCgq87Ui4IQGFhBFKbSOxg9K6SOjp1KmTF+jXX3/tFU8uvPBCdumll5777uzZs+zKK688DzqNSzWBSDyhi4Qo6kfiyaZNm86JSTQ3CTGapgW1hwStkmymNr5XMBu2bdvGSNgiXvQfrZ0ErjZt2niLWluika/gRe1pTJqnS5cuAUUjEqKOHTvm5Udrs8al9TVr1iyqN2Y4FgfRKBwUMQYIgAAIgAAIgAAIgAAIgAAIgEBNJVCiaESFsLdu3cpIzGnXrp03UshfNKKoITr5q3nz5iwxMdHL8pdffvFGHtWvX98bEbRlyxZvtIxVj8iqmURRQ7169fL2oeLbJI5cdtllAf0RqJ6QJRqR8ERCEl2h2BNKm0BGBLKBxB0qFm6tncQwEsXq1KnjXYslGtFau3Xrdi6y6JtvvmF5eXksOTmZNWnS5LxIIxKVSIzyFZUoMop8QeNUZV2n6vJjgWhUXTwFO0EABEAABEAABEAABEAABEAABCKRQEiiEQlGJFZQ5BCJHkeOHDmvEPZ3333njYKhdCxKzbIuSkmz0sVIQCIhqXv37uy3335ju3bt8opMBw8e9EYjUYoXjUPRQ5TGFqpgQ6IRiSiUkmZdodgTSptQbbDaEQMSdiiCiFLtKELoiiuuOCcakTBEApF1UdqexYEEJ9/0NEuYa9SokTfVzbp0XfeKbxSNRf7AVTwBiEbYHSAAAiAAAiAAAiAAAiAAAiAAAiBQdgIhiUY0PEUSUXQORc9Qyprv6WlffvmlV/Qp7urdu7c3tSw9Pd1bw4hEIxJMKFqGRB+KXqJ0sQMHDnhrJ1GKV6iCDfUnYYrEGesKxZ5Q2oRqgxW15N/eXzSy0tWsdiQuUQSWlaLnKxpZIltxTDt37uxNxcMF0Qh7AARAAARAAARAAARAAARAAARAAAQqgkDIohFNbtXuodpEFFVDAhAVZqYi1bm5ud7aPP7RL/SZUrfoopS0Bg0aeNtS2hXVN6JaSBSdRO0ooilY2lVx6Wn+olEo9oTSJhTRyEpFozVQlBTVW6L1khhEohFFZlnpaSS2OZ3Oc8NS4e4dO3Z4RTj63lc0soQoOrmOIpT8r+KEtYrYJNV1TEQaVVfPwW4QAAEQAAEQAAEQAAEQAAEQAIFIIFAq0ciqqUNRQXRZolFWVpY3zcyqeWQtbPfu3d76PdZpXyQ60RiUXkViyMUXX+wtcE2iColGFHFD9Y+Ku0g0ogLTvoWyA0UahWJPKG2KE418baAT4GiddAKcdVoaCWqU/kbika9oROIWpedZwhoJRiQcWYWtfUUjisb6/vvvz9WEsmwhznRCHfXBFZwARCPsEBAAARAAARAAARAAARAAARAAARAoO4FSiUY0jSWS+IpGJARR4WcSU6gGD6WwUf0iisLxreNDKW1Uq4cuqkFEIgoJIN9++633OxJdSHwp7rLqEFFxbWpHtX4CiUah2BNKm0B2+NtAKWK0dqqrRDYRAxLBSFjzF41oPPqucePG3mgrEoasKCnq7ysaUVurADnNQRFaJEadOHHi3Lhld3vN6AnRqGb4GasEARAAARAAARAAARAAARAAARCoGAKlFo3IDOvULyvSiL4jQYNOESssLDxnKaVqdejQ4dxnK5WLoo8o4sa6rBPQ6BQ1Ek+Ku6guEhWOJmGGTlmjAtqBRKNQ7QnFZn9bAtlAkUYkplkXrZvEHVqnf3oa1XKiSCu6KH2NIqtoLXT5i0bUjgQ1OknNuiitj06Ko764ghOAaIQdAgIgAAIgAAIgAAIgAAIgAAIgAAJlJ1CsaFTWIUnooCgeEjcq6nQvKrpN4lIwgcmyPxR7QmnjzyOQDXl5ed4i3r4nyAXiSLWbqA2JSqFeNDYxDWXNoY4Z7e0gGkW7h7E+EAABEAABEAABEAABEAABEACBiiQQdtGoIo3F2CBQGgIQjUpDC21BAARAAARAAARAAARAAARAAARA4HwCEI2wI6KWAESjqHUtFgYCIAACIAACIAACIAACIAACIFAJBCAaVQJkTFE1BCAaVQ13zAoCIAACIAACIAACIAACIAACIBAdBCAaRYcfsYoABCAaYVuAAAiAAAiAAAiAAAiAAAiAAAiAQNkJQDQqOzv0jHACEI0i3EEwDwRAAARAAARAAARAAARAAARAIKIJQDSKaPfAuPIQgGhUHnroCwIgAAIgAAIgAAIgAAIgAAIgUNMJQDSq6TsgitcP0SiKnYulgQAIgAAIgAAIgAAIgAAIgAAIVDgBiEYVjhgTVBUBiEZVRR7zggAIgAAIgAAIgAAIgAAIgAAIRAMBiEbR4EWsISABiEbYGCAAAiAAAiAAAiAAAiAAAiAAAiBQdgLnRKOyD4GeIAACIAACIAACIAACIAACIAACIAACIAAC0UYAolG0eRTrAQEQAAEQAAEQAAEQAAEQAAEQAAEQAIEwEIBoFAaIGAIEQAAEQAAEQAAEQAAEQAAEQAAEQAAEoo0ARKNo86jfeoQQkr7SNA2+jnJfY3kgAAIgAAIgAAIgAAIgAAIgAAIgEE4CEBLCSTMCx4JoFIFOgUkgAAIgAAIgAAIgAAIgAAIgAAIgUA0IQDSqBk4qj4kQjcpDD31BAARAAARAAARAAARAAARAAARAoOYSgGgU5b6HaBTlDsbyQAAEQAAEQAAEQAAEQAAEQAAEQKCCCEA0qiCwkTIsRKNI8QTsAAEQAAEQAAEQAAEQAAEQAAEQAIHqRQCiUfXyV6mthWhUamToAAIgAAIgAAIgAAIgAAIgAAIgAAIgwBiDaBTl2wCiUZQ7GMsDARAAARAAARAAARAAARAAARAAgQoiANGogsBGyrCRKhqpqjqec75bCPGB0+lMMwyjla7rKyOFW0l2tG/fvqlhGHkZGRm5xbVVVbWF3W7/JSMjo6Ck8Wry/Yr0v6ZpdaWUj9pstuWZmZk7w82Zxvd4PBdmZ2cfZIwZ4R4f44EACIAACIAACIAACIAACIBAVRIIKhqpqnoLY6yRrusvVqWRvnNrmtacMTaCMfaBEGJHpNgVqXZUtmgUon9smqbRS/YGIcRNmqa9xBgbJYQotYgZ4nxhc4+mabT3HmOMtTUH3WYYxi1ZWVl7zM9cVdWZnPORjLGL6Dsp5WeMsTt0XT9AnzVNe5wxNkNRlOaZmZmH6Dun09lISnmUMfakEGKqpmk0x1NSyl66rn9hLUDTNFk07ktxcXHjcnNzixOjvhVCpIVt0Yyx0j4LStO+PP4vaY2JiYlJiqJkMMZGCyFeLql9qPcTEhJa2my2dxhjPaw+Usq7dF1/1fTxOsZYcyGE5uO7PzPGVhmG8cesrKzPNU3bXvQc68w5v8rlcq232rVp06a+w+E4Tp+FEDaIUaF6Be1AAARAAARAAARAAARAAATCTSDoS7rT6fxQStlRCHFxuCcu63iqqnbhnG/lnN/qcrneLus4NaVfZYtGofonLS2tdt26dQvWr1/vLo9oEOp84fC3pmnXMcb+yxj7Vkr5nKIoF0opny8SJH72eDytsrOz8y2xh3O+xjCMNxVFSZJSTmWMkcDZUwhxSlXVqZzzJxhjLYQQJJ6RKNOYc/6LlPJpXdcfs4Qlxtgem83W0YpoMkWjRUKI+1RVHUV9FUXpKaUkgffvUsq9jLFjuq6ToBG2q7TPgtK0L4//Q1lgQkJCvezs7JOhtA21jdPp/I+UcjAJRVLKHM75w5zzP5L+J0gp0rSNjLGmfqLRQMbY+5zza10u16eappGw1EdK+bqu63/zEZfuYIz9E6JRqN5AOxAAARAAARAAARAAARAAgYoiUKxopGka/VX+XnNinTF2IwVJUPSD+UJzv5RyQfPmzZ8/ePDgZM75XYyxCznnG6WUd9PLsNPpnCel7Mo5/0hK+QhjbLOiKNMzMzO/onGdTuffKHWE3pkZY2sNw7g/Kysrs7jFOp3ODlLKz80Ijp+llPQCRilNz3HOJ7pcrtXU13xh+0kIcZuqqlsYY99wzi9kjA0i+wzDmKjruovaJiQkJNtstln08sYY2yalnK7r+qaKAl7Z4wYTjYgnY+wZKeWVjLEfybdCiPfIRjNC4xnGWF8p5S5ibAkRPkwpkuZ6xti7RdEQJIRQtMx5/tF1/R5qzzn/ljFG4mMfIcSFmqZtIvHP5XI9aIkGnPN7pJRPFu27w1LKZ6z5NE0TRa56syjqgu6Rf9+XUh5XFGV+oPmSk5PjDMOge/SSfoJz/o7L5SKRxrD2pJRyI+f8for6oDE5589yzruZ4s7jlDbn7yvzJZ8ieEgY8Io9mqbdzhhbxjkfoCjKpx6PJ59EJZvNdoWVlqZp2gOMsWellENpTaUUjWial4UQo835KNKIRCOvYGR+R9FPSzjnl7lcLopeCesV6FlAUX6aplHkzMOMsVT6Xbnd7sezs7O/C9Q+Pj4+o7jnRGlEI59nCu2Bh4oiuPZyzme4XK4PExIS2tlsto84529LKQcwxg4oijLGMIxPSbjTdf1fbdu2vdBut5Ov+zHGCjjnS1wuF+0rD6WaFT3DFjDGbqLfA+f8RZfLtTgQTE3TSIT6XghBvx2WlJQUL6W8jTH2icvlSi+NaGSOX48ERdOftN/pmYhIo7DuZAwGAiAAAiAAAiAAAiAAAiBQWgLBRCN6Ifw7Yyyec/6Yoijvud3uAZxzeomil5vXDMNYrShKAxINpJQvcM73M8ZIgFlOgo2maW8xxm4tEgrWc86/k1KOJ3FICHG1+YKXTS/cUso1nPO5jLFDQoguxS2C6si43e5J5jjLad78/PwNZirHP4UQIzVNI2HLZYpI88yXO6pr8pmiKDupL+c8o1mzZh33799f22azkSByml7qGWP00pfqdrtTdu/e/VNpYUZi++JEow4dOjQoKCjwCmeMsXlFwtqfGGO9bDZb+7Nnz+6PiYmh+i+xjLH5jDGKsCFRra8QYp3FlIQKxtgF5GPaI3a7fYm/f4QQq3zaryVhTgjxqKZph4sibz4394k3PY2iajjntJdIiGnJGKMoNxInpJRyoa7rY82X6h8YY0djYmJuDTSfFQViCpzxjDFKFSMh6CmfPUlC6Cq3273Ybrd/yRjbzzmfSYInY+za2NjYhunp6d4UIfPimqb9Zu7fQT7fK6mpqRfExMQU5ObmJjHGfpBSTtB1ncQH75WcnNzM4/FQGtpsIcQjpRSNFpF46xOdUhWiUaBnwcVFwsvX5E/GGAmN5JsL3W53gt1uJ/HtvGeHx+PpFeQ5EXJ6oq//OOcU7UOC2UWGYbQrEkAdZioaYSch7wubzbbW7XZnkV91Xf+HGQHVn4QmKSXtsRGc83tdLtcrmqb9mzE2REr5IOc8xbw3gAQp/9+2pmkfmYLpm1LK/zDGNum6TumF3qsUohE1p9/WMCHEmykpKQlkL0WqSSn7Iz0tEp+qsAkEQAAEQAAEQAAEQAAEag6BUqWnqap6lykaDSIxgDBRmtGpU6co1ei3EydONLDb7en0F3xKafN5wfP+FV1V1aWc8+FxcXF18vLyLpVS0sv6Io/HM/fs2bMHa9WqFVNSGkmgdCRTJPiDEKK+qqr0gv0ivURSnRlTsPglLi7OuX379kJVVadxzqcriqK63e7WiqJQvZkRiqLQyyV93iCl/Kuu68uiYRsUJxo5nc5rpJSfSClvoALUVFPHMIz7GGMfSynrmVxuFEL826qxYgk3xJSij3Rdv8J8QT7yf0ER4spA/jF98GPRnulk1WfRNI36nCcaeTyezmakymVm1JdXfClONCLx0X8+ijLyeDynSMTUdX0M2WdGOjX8v6yh/xMy3W530927d/+cnJwca0YHfck5fyA3NzcjNjY2ds+ePVTg2mPtgXbt2l1kt9vJ5ueFEBQ59LtLVdXBppDhZerbwEwrWyWEGFQa0SgmJqaZ2+1eW7SexrGxsc6CgoJfKzvSiNbhn26madoMEuKsukzWfuKc/8Xlcq3wb1/Cc6LUopHH40nIzs7eXSTO9C0SO/9Hv2HDML4i0agoqnCBy+WaQHZbIgyJRhRxxhijCKFnhRAkYFP9KRKRf3I4HB/l5+eTz5cpivK4lJJLKX/0Tx3zEYWothrVL6JIO+taFBcXN5aeM6UQjU4ViVYUWZcohLjK3BvDyceMsTkQjaLhKYw1gAAIgAAIgAAIgAAIgED1JVBW0chbt8N8mWxjGMZis57HORJU1Nh8QScxp6kpLngLAOfn5zdo06ZN7qFDh+jFiKJA6KJCwpNIpAiGsxhRglLn3iXRwW63PymlvMiKWDIFi4+p4LJpg7cYLb3scc4TSAjxn49zPsvlclHaXLW/gohGlF64UEqZZKXqWYt1Op3eex6PJyU7O5uKCFPkxO6iF/N99GJrMn1fCPFX8x7VZiFhMC2IaHSuvdnnd6JRfHx8DNU48hFyXqLaPaURjRISEjrZbLZvKdXNSi2y0qXi4uJic3NzlzLGzu1J0xaKciLhgi4SnObpuk4pS76nYRUXaXRuj2iallqaSCOPx3NxdnY2RecxiqIrLCwk8eC8mkaFhYX1FUVpS2siAYNE10gQjXyE2npkv1kYmqLzvBFd/qKR0+kM9pworWg0QAjhnTclJaWh2+0+RumMUkoSfGi/jhRCeGsC+YpGhmF8Y3I8V7Dacp61bwL84IMWFadC7Jzz3mb04+UkXgkhXjNFI6pZRRFQ3svpdN4gpVzhV9OI9tvfKb3Pbrcnut3udVLKFxVFcdP3EI2q/SMYCwABEAABEAABEAABEACBak2gTKIRRelkZmZm0cpVVX2Nc05FXHvm5+fvcjgcKxhjbehlKZholJOTc8J82Wxis9l6U+oOnUjl8XhqUUHh4qhaooSVzkHtrOgSKi5clMc0jdJLdF2ntCoSOyiygKJcLqWDrDRNG0d1S4oiQugFv42U8gOq6XP69OlvfF4gC0m8qNaeNY0PIhoNoLVbL7Bt2rSpVatWrT94PJ4Mm82WLKVcbd2zRBzO+T9cLtfdoYhGvv7xb2/65XeikRUd5vOi/6iu67PMKJ33fIQ/6rvTN9LIJ73HEhG84os518ekH/hEv50nGlEbioTJzc3tyhijOjkUPUJFqykS7twVqKaR0+n8k5RyiWEYI2JiYj4LVNPIjGahGktWTaNhnPM3pJT9dF2nwtq0T62ImTuL7FxiFcIm0WjPnj2/WQW2TWMqtaaRKXicVxRf07Q5JitvFGFSUlI3wzCoftjtQoi3/EWjEp4TpRWNbi0SVppQOpjT6UyTUtJvd7RhGOtN0cgr3JDdvqJRTEzMChKYzNpdJGAT96uklLkxMTG7zXtT8vLyvM8OumrVqmX4P4+osLaiKBShtKkouo5SLukZlOLxeHaa9ZWmaZpGqZsjSCC3nnVWlKNPsWwSW09R9JmmaVTAnNJ1+9jt9tZFv8ObIBpFwxMYawABEAABEAABEAABEACB6k0gqGikquornHOq8XJnbGzsf/Lz8/9C6Wm+opGmaf+iwrFFf8X/E+ec6h/9g6KGShKNHA4HFZB9k17gbDbbGo/HQ6dQXR4fH98wmGCTkpLSyu120wvWJ35Ftan4LZ0gRVdbIQQVdrZEI6pp9IKiKOlSSqqddIZOu4qNjW1g1pqhosyUkkL1lOZwzoe4XC6qU1Ltr+JEI586Ozs451PMotEjFUW5wmaz/UhRL2ZR6KlSSiogTsLgTVQoO5hoFMg/oYpGjDFKEXtVSnmneZS5V7jRNI1qGFGx5XsNw2jNOacoMG9trGLmo1o7FPVB4kxT0+dW1BKlp50TjaiAsWEYFDX3vqIocwzDGEbFnUlUpILGFFFjGMZJOt3KSsGiQtdFRb8pSovqOZHYyeLi4ppt3779tKZpUxhjT5o1aeh0PydjjL7bYbPZetApaElJSa0Nw8ihU9cYY49wTplQ3gLgLSnaZNeuXdn+olGfPn3shw4d2myuq9JFI/9nQUFBAQlsJHhREXRiSmsk5t7fXoD2FFVY3HOiLKIR1ShbLqWkFMTOFGXIOT8bTDSimkaapnn3Bp2+aBhGM845CUQU4TjHvEe+GVFUHL9WUcTiS5zztyjVzRT+vOK4ECK3qAA6CTxxnPNJHo9nv6Io9JykiMfrhRAfa5rmjX6kWkeMsYWc89YkApnPxgRTwLZEoz9b/qbaa7quX+N0OidCNKr2j18sAARAAARAAARAAARAAASqPYGSRCN6uaKXvc6moNKRRCFf0SgpKamzYRj08kgnae2QUp7mnFN6WKBII+8LNf31vehl+azD4XiR/hpvUvyZXtaysrLWlETV+is+vZi7XC4q4EwRT956Mmah5XPFtE3B4gvGWGPzpXaPYRh3ZGVl0ZHYVoQHnRTnPa3ITE2iE6F8U5NKMili7wc7PS0xMfEPiqK8Qi/65gKmCCFmmlyuMuuqEBcqfE6pMtbpZRS9FTA9zezrjbKw/BOCaET7YDTVojHTfChlhyKFqKg6neTWX1EUEmDodCuK7GhJR8vTy3Ux81G9GXph72Gu6728vLzh+/fvP+Mf/Ub3rXQ8HydONddKKWlULDyXUu/Mueg4dKrnQ0WU6dS1DLfbfaOVxkdfaZpGp85RO/pN0J6iull36Lp+wJqDIlyKpqYaO942JCBxzofRUezmPN7fihVpZHJIMkWRqhCNznsW6Lq+zYzaIwGP1kBFzB+wikarqnpee5vN5gnynPD6n1JaS/ohmf6jk9FIqKLTHakm0GMul2uhqqpOzjmdvhgw0ohEIzONjrhbe+Ndh8MxYseOHXmqqrbgnJMIbt37r91uv33Xrl2/aprmtZFqTO3cufOImYpIBcC9zw2f38/T5HJzXz1IkY/mvqWvSGwkQZoEQ3r2kGj0G0UaWRFRPpFa1Hcu0tNK2hG4DwIgAAIgAAIgAAIgAAIgUJEESnxJMye3+RYFDmQQHWVNaTSlNTYtLS3m7NmzdenFjPqqqkq1hroXMw6lclBaDF2K+X8jISHBYbfb6SWLBI9zL4zmi9k5gYPSSoortE2nicXGxuZSEdvSriGS2wcTjSy7ae3p6enE6VzhZ+seFcHOyckhv3pfhEtxnfNPKfqwli1bXpCQkBAoPdCWkpJyobVPAoz5u/ko5ezMmTPujIyMghBsoKLIjYpOaKN9eE4wpP1Zt25d6R/91q5du4tjYmJOu1wuSncKdPHExMRL6tWrd5gikIqbn2ri0D0hxMEQbIyEJv7PAt6hQ4f6fifN+dp5XvtgzwlKkXQ4HN6UwkCXoigrDcN40IoUS01NrdOwYcP8sqSSUt+TJ096cnJyzvrPRfdiYmKkv99ob5Lw6NteVdXGMTEx9Zs0aZJTjB1KYmJim8LCwl+tNLVIcCJsAAEQAAEQAAEQAAEQAAEQAIFQCIQqGoUyVljamLVbvEerB7j2WxEffi9uWzjndMz3f+Pi4gb6Cj+BolzCYmg1GSQU0aiaLAVmRjkBTdMokozSvoq77meMDfIvZB7lWLA8EAABEAABEAABEAABEAABEKgyAhEnGpWFRFJSUvvCwsIz2dnZVMfovLQyiuSw2+1ng0SolGXKatMHolG1cRUMDYGAeVparWoUmRXCqtAEBEAABEAABEAABEAABEAABCKTQFSIRpGJNjKsgmiF1TyrAAAgAElEQVQUGX6AFSAAAiAAAiAAAiAAAiAAAiAAAiBQ3QhANKpuHiulvRCNSgkMzUEABEAABEAABEAABEAABEAABEAABLwEIBpF+UaAaBTlDsbyQAAEQAAEQAAEQAAEQAAEQAAEQKCCCEA0qiCwkTIsRKNI8QTsAAEQAAEQAAEQAAEQAAEQAAEQAIHqRQCiUfXyV6mthWhUamToAAIgAAIgAAIgAAIgAAIgAAIgAAIg4JueZokLoAICIAACIBC9BDRNwx8Lote9WBkIgAAIgAAIgAAIgAAIhJXAuZcHiEZh5YrBQAAEQCAiCUA0iki3wCgQAAEQAAEQAAEQAAEQiEgC+ItzRLolfEYhPS18LGvCSLRfICpEr6fh3+j1LVYGAiAAAiAAAiAAAiAAAhVBAKJRRVCNoDEhGkWQM6qBKRAVqoGTymEi/FsOeOgKAiAAAiAAAiAAAiAAAjWQAESjKHc6RKMod3CYlwdRIcxAI2w4+DfCHAJzQAAEQAAEQAAEQAAEQCDCCUA0inAHldc8iEblJViz+kNUiG5/w7/R7V+sDgRAAARAAARAAARAAATCTQCiUbiJRth4EI0izCERbg5EhQh3UDnNg3/LCRDdQQAEQAAEQAAEQAAEQKCGEYBoFOUOh2gU5Q4O8/IgKoQZaIQNB/9GmENgDgiAAAiAAAiAAAiAAAhEOAGIRhHuoPKaB9GovARrVn+ICtHtb/g3uv2L1YEACIAACIAACIAACIBAuAlUqWikaZpmGIaSlZWVGe6FYbz/IwDRqPJ2gtPpbNSsWbPf1q9f7/aftU+fPvaDBw/W13X9aCCL0tLSap85c0bJyMjIDWZxSe3KY4O1XzRNq9LnQqD1B1tXuDxcko/KO0+bNm1qNWrUSNm+ffvp8o5V1v4QjcpKDv1AAARAAARAAARAAARAoGYSKPbl0Ol0TpZSzgyERUrZUtf1A4HuJScnN3O73UN1XV9QElJVVZ9WFKWWy+WaUFJb3C8bAYhGZePm24vETcbYcsZYfSFEO/8RSdCQUq5kjPVijJ2SUk7z3f9Op/NuKeVcxlhdKeVXnPMhQoiD5jhcVdVFnPO7zc/L4uPjRwQQnoK2K6cN55ZUhaKCTdO0Bxljs6WU9Px4h4wKti5VVVtwzvf7+kNK+Zmu69cU53VVVQdxzslXS4QQd1rtgvmoTZs29R0Ox0LG2O12u731rl279hU3vtPpnC+lHC+l/Kuu68uoXYcOHRoUFBS8zhgbQJ9pD9hstlsyMzP30mdN03Yzxtr6jimEsDPGPNZ3mqZ9xBi73n9eIQTti5A5VKF/y/9DxAggAAIgAAIgAAIgAAIgAAKVTqBY0ahly5YXNGjQoBZZVFBQ8ImUcqnD4XibPqenp//GGDMCWZuUlNTZMIzt9DJT0mogGpVEqPz3IRqVj6HT6fyTlHI1Y2wVYyxNCHGx/4iapr3FOb+gTp06t+fm5iYzxrYZhtEtKytrq9Pp7CCl3GEYRu8zZ85sq1Onziuc84Yul+tPNI6qqndxzp8qGr+T2+122+32TVLKV3Rdn+87T0ntymODn1ghKzvSiCJ8Dh069BljrA5jLJ5z/rDL5fI+a4KtKyEhoZPNZnsnNja2m7UGj8dTWFy0VkpKSkO3250jpdzFGHPpun4H9Qvmo4SEhHY2m219kWCztejRNySYaKRpWg/G2H8ZY4dIcNd1/Q3Tx3M556rD4RjqdrsLDcN4R0r5qyVaaZom7XZ7oqIox6j9qVOnZE5Ozglfv6SmptaRUsZa3xUUFNzHGLtOCNGzNBwgGpXveYDeIAACIAACIAACIAACIFDTCJQo7Jgvbl+YL7Lev5yb301hjNFLF73ILBdCTE5OTnZ6PJ61jLGLGGMUAXCXEOJjp9M5VEo5nd6ROedrCgsLR+zevftniEYVv90gGpWPsaqqFI2yQ1GU+lJKik45TzRKS0uLyc3NLWCMdRRC7DB/G68yxo4KIR4xI/YuFULcZN67hDG2Jz8/vwEJA5qm/U9KuULX9ZfM+7czxsYLIdJ8LQ/Wrrw2VLVoRCl3eXl5T7rd7sk2m20T53wBiUYhrOsaKeUEIcR1JDwFSgv0XZvT6VxsGEaMoii6YRiqj2hEUZUBfVSrVq1kwzASzOikk8WJRsnJybEejyedc/6MYRi3MsbetEQjp9PZu7CwcM/u3bt/MkWkRzjn3YQQg0gMys/Pz6XIoj59+vCS1kD9Kc3N4XDsNQxjRFZW1hqn0xkyB4hG5XseoDcIgAAIgAAIgAAIgAAI1DQCZRKNrFQOwzBu4Jznc86XFr3LLPV4PHPsdjtFZvyb/oBvs9kOKIpSp7CwMIsxNppznimlpLS174QQD0A0qvjtBtEoPIzNF/PfiUYpKSkJbrc7Kz8//4KcnJyzpigwnnPem0QBVVVfY4zl6Lr+hGkJp1JeHo+nc3Z29neaph0pKj01VAhBYitF1lxGkUpCCIUymXxE2mLbpaSktCuPDVUtGvmJY19bolFJbDVNI4FtLGPMwRhLZYytVRRlhJX25TcucV1rs9lUwzDu8BWNSvIRjZOcnBzn8XhOFScaaZo2Tkp5s67rPVRV/dhXNKL+CQkJDs55V4o44pxTFNlAIcQ6p9PZhiLROOefSykHk0DJOX/I5XJ9WtzOJSGTcz5GCHEp7ZHScIBoFJ7nAUYBARAAARAAARAAARAAgZpCoEyikaZpH0spP/CJjvhLUf2Nx4UQHYOkp9HLchxFBnDO+wshukA0qvhtBtEoPIyLE42cTmd3KeWXvumYqqoOM1/qu5i/ldW6rr/oJwANF0J8qmmah6JcdF3/ge4nJia2VRSFatzUE0KcMvsowdpxzikFrqw2kMBx7qpqUUHTtHOiUUlsVVUlcY6idoa53e79NpttBiGk55Cf1+nZQ2l/FNG1wOl0PuorGpXgIy+fYKJRu3btLrLb7dmMsb5CiG9UVSXB51ykEfU321AKHolbqzjn41wuV44lEnLO77HZbGupHhxjbEZxdePM6Ks9jDGKsHqPxi4FB29h/MpOPwzPLxCjgAAIgAAIgAAIgAAIgAAIVAWBsopGRwzDuC0rK+tz86WlI+f8eyGELSkp6VLfmkb0F3ZFUaimx3AqBGwt0izgikLYFex1iEbhAVycaJSUlNTaMIwch8MRt2PHjjyaTdO0hxhjl1NKGqVESSmPCCEeNy2hgs9uznmqy+VK1zTtJ875SCuyJCkpqZthGJ8KIer5Wh6sXXltiFTRKIR1NbLb7fadO3dSFBaJJ40557/4Cy6apt3IGJvl8XiSs7Oz8/1Fo5J8VJJopKoqFcmOs9LdSDRSFGW5y+WiCMzzLkrFy83NnccYu4TS6ujzyZMnm2VlZZEQ5L00TfuhqH7R07qu/8u/vxlV9ER8fLxmpbJRsfBQONBYEI3C8zzAKCAAAiAAAiAAAiAAAiBQUwiUVTRaxzl/3XopSkxM7K8oynwhhOYfaWS+sL1gGEafrKysTDO1jdJxrkKkUcVvM4hG4WFcnGhkFnEuVBTliszMzK/Ml3562ddJKNI07WEzAuU6upeUlNTeMIx0S2SiKBdKmxJCzDH73iulHK7r+hV+olGx7cprQ6SKRiWty3zunKY0L19hh04iE0L8aK1LVVUqPm6dTue7XPIRHY4X1Ee+YwdKTyNBjzHWMsBOe57ScJ1O54NU/No6cdIUBrfYbDaHYRh0Ml+ar8CkquoWzvmLQog3fcc0eVAR71lCCEp79F6hcoBoFJ5nAUYBARAAARAAARAAARAAgZpEoEyikVncdyRj7A+MsXzG2PuMsS30gmRFB0gpu+q6vl1V1Vs553M9Hk97qj1is9nWFNUhoZODIBpVwk6DaBQeyP6ikaZpAz0ez87s7Ozdmqa9LKVs53A4bi4oKKA6M1Rbp0NmZuZO8/StbM75ALfbvdFms9GJWnlCiNvIMlVVb+GcL/Z4PJ0cDkeh2+3+Uko5Q9f1f5C4QG1IjArWzhSbymxDpIpGJa3L6XT+TUr5OOf8akVRDrrd7mmc879SsXJK86NoLl3X36fUsFq1ap2L3PJ4PKOpnrTNZhu3a9eufSX5KJBo5OsbeuYpihJjcXS73csZYys8Hs8/s7Ozf9E07X3O+ZmzZ8+Oql27ttswjPlm4e0uVt0mxtjVJH5pmjaA0tcMw2hXWFj4q8PhmBYTEzOLoqksAb5o3FYUMWXNF4yD/+5HpFF4ngcYBQRAAARAAARAAARAAARqCoGQRSPG2CLrL9/mX7xfYYyNIFB0shAdN759+/bT5oseFcIewjkfcvbs2bUOh+MDxlgvOk3aFJguhmhUOVsMolF4OPuKRlYEjCmMft2hQ4cGBQUFqxljdOT6Kc75Yy6Xi1KWvJdZuJiKH1N65jabzfbnjIyMw9Z9Ep0YY/ean5cJIf7GGDMoColz/pnL5aJ0JkpbCtiO7pXXBsuWqhYVfGsalbQu88QyOnWOBGy69nPO+5lpf5M4571cLtef/HcAid6GYSRa6WSh+Mi/ppG/b3znME+6e906PU3TtOZFAUFvMcb6mO22GYZxi5WSpmka+Z58Sxc9I0cJId5KSEhIttlsuwzD6JaVlbWV0tY45/9wuVwv+M4XjIP/2qvav+H5NWIUEAABEAABEAABEAABEACByiIQkmhUnDFUlPW3335TfP/qbbWlF5mMjIxC6wSohISEei1btjwdypHSlbX4mjAPRKPwe9ksVv19fHx8Q9/9nJSUFE/RIYF+D2YB4yZCiIOBLGrbtu2FhmHwnJycE9Z9OlnN4/FcR6esWd8Fauc7XnlsoHEiVVQIti5N0+q63e761pH2tA5N05ZQnTVf8a6knVCSj3z7B/JNCONTPSObT4Hzc13oeVlYWNiyRYsW+/yekbaiQwY8JY1trvl3HCAahUIObUAABEAABEAABEAABEAABIojUC7RCFgjnwBEo/D7yIw6GimEuDn8o//fiKmpqXXy8/MPCSHqU9RRRc0TraIC1QWy2Wx3UYpguNlVlW/CsY5IFQXDsTaMAQIgAAIgAAIgAAIgAAIgEH4CEI3CzzSiRoRoFH53kGhQdLpVbHp6+vHwj35uRDplrWlxkUkVNW+0iAoJCQkts7OzD1iRjmHmVSW+CccaosW/4WCBMUAABEAABEAABEAABEAABEomANGoZEbVugVEo2rtvko3HqJCpSOv1Anh30rFjclAAARAAARAAARAAARAoNoTgGhU7V0YfAEQjaLcwWFeHkSFMAONsOHg3whzCMwBARAAARAAARAAARAAgQgnANEowh1UXvMgGpWXYM3qD1Ehuv0N/0a3f7E6EAABEAABEAABEAABEAg3AYhG4SYaYeNBNIowh0S4ORAVItxB5TQP/i0nQHQHARAAARAAARAAARAAgRpGAKJRlDscolGUOzjMy4OoEGagETYc/BthDoE5IAACIAACIAACIAACIBDhBMImGuXm5i6P8LXWSPMOHDgwlBbeokWLt2skACy6VARov2CvlApZtWpM/tU0LWzP/Wq1eBgLAiAAAiAAAiAAAiAAAiBQagJhe3mAaFRq9pXSAaJRpWCOmkkgGkWNKwMuBKJRdPsXqwMBEAABEAABEAABEACBcBOAaBRuohE2HkSjCHNIhJsD0SjCHVRO8yAalRMguoMACIAACIAACIAACIBADSMA0SjKHQ7RKModHOblQTQKM9AIGw6iUYQ5BOaAAAiAAAiAAAiAAAiAQIQTgGgU4Q4qr3kQjcpLsGb1h2gU3f6GaBTd/sXqQAAEQAAEQAAEQAAEQCDcBCAahZtohI0H0SjCHBLh5kA0inAHldM8iEblBIjuIAACIAACIAACIAACIFDDCEA0inKHQzSKcgeHeXkQjcIMNMKGg2gUYQ6BOSAAAiAAAiAAAiAAAiAQ4QSqpWi0Zs2aZr169Tpar149d4TzrXLzIBpVjQs8Hg8/fvx4TOPGjQsCWbBv374LGjZsWBAXF+cpi4WnT5+2GYbBStP/6NGjsTRXcTbRvUgSjcrLKFSuxKU4JqFydrvd/NixY7FNmzbNDzQv7YW6deu67Xa79L9f0l4JdR0l2WD5V9O0sD33Q7UN7UAABEAABEAABEAABEAABKongbC9POTm5i6vLARpaWlDX3vttTWpqaknK2vO6joPRKPK9Ry9uM+YMSN1zZo1yTRzXFzc2YkTJ341YMCAQ/R53bp1TaZPn94zNze3Fn3u379/xrRp03bYbDZJ+9rf2g4dOhxYunTpRut7EjgmTpzYLT09vQV916ZNm6OzZs3anJiYmEefd+7cWW/KlCndT58+HfPpp5+upu9IfBk/fnzPnJycxvQ5JSXl4Pz587cEEkoiQTQKxsiXz3vvvddy1qxZvXr16rX72Wef/dqf3fLly1vNmzevh+/3N9988w8PP/xwBn331ltvtX7xxRcvz8/Pj3E4HIUDBw7MmDRpkvdeSZx9x1y0aFHCG2+8cSmNQ/5YsGDBF61atTpDbb755pv606ZN63748OEL6fMVV1zx45w5c7bVrl3bU9Je8Z1j4sSJl61bty7R97u5c+d+ftVVV/1C3wWzwbcPIo0q93mA2UAABEAABEAABEAABECguhOAaFTdPViC/RCNKtfBq1ataj579uzur7766ifJycmnlixZ0vall17qumnTpnfJkl69et00bNiwb8eMGaNnZ2fXGTVq1NUjR478/rbbbttrRQJZFo8bN667qqrHpk6dmm59N3ny5E4HDx6su3Dhws2xsbHGqFGjetSrVy+fRJOVK1e2eOqpp65MTU3dv3fv3oZr165dRf2GDRvW54ILLih89tlnvyKh4r777uvZpEmTvPnz52/zp1PVohFF9gRjZNlLrP785z//OT4+/rfmzZufXLhw4Vb/tSxcuFD98ccfL5w8efIP1j0Sa+i/I0eOOPr163fDlClTNg4ePPgAiTv33HPP9c8+++ynvXr1OhaMs+8827dvr3/33XdfP3v27P9179792EMPPdTl1KlTsW+88cYGajdgwIDru3fvvo+EqsOHDzuGDRt27fDhw38YPnx4TrC9Qjb6zjNixIhevXv3/ql///4Hre/r169fSJFLJdkA0ahynwGYDQRAAARAAARAAARAAASiiUCFikY7duyoN3fu3E7Z2dlN6OVu3Lhx39ILmfUX9g0bNrQlmN27d9/75JNPfkcvQEOHDu2blJT0yxdffNGmW7du+2bMmPHD0qVL27zzzjvtT548Weu222774Z///OdliDQKbRtCNAqNU7ha0V5dvXp14ooVKz6jMffs2VP7xhtvHPjJJ5+s2LVrV70JEyb8cevWre9YaUpjx47tevTo0drLly9fF0iMWL169crmzZufte599tlnF7Vr1y63bdu2p+m7OXPmJGdmZjZ67bXXNi1evLhdSkrKiRMnTsTMmzevK4lG+fn5Svfu3W9+4YUXPrniiit+pT4rVqxo8fTTT1/59ddfv0MRTv6iQosWLd4OF4/SjrNhw4bGoTAaP358F3qOtGzZ8tT+/ftJRPudaPTEE0+kXnDBBW4SbCgFzHetQoi4W2+9dcD69evfo7QxsrNv374Dx48f/zVFhQXj7LumWbNmpezZs6f+4sWLv6TvrXHJ3yTqkJB3/fXXH7LSCG+99darunbtevCBBx4QwfaKfxTYkCFD/jh27NjvevbseczfZ8Fs8B8HkUal3ZFoDwIgAAIgAAIgAAIgAAI1m0CFiUa5ubm2G264oV/79u0P33LLLdkffvhhq88//zzx888/X/nJJ580W7hw4WWPP/745oKCAuWJJ57o9cADD2y9+eabf7rmmmsGkEseeOCBbSkpKScPHTpU6/7777/2rrvu2taxY8dfFy5c2FEI0QyiUWgbF6JRaJzC1YoiYIYPH/6HpKSkn51O56///e9/27Vq1erEggULtpGIescdd/QnQcF6maeUNEph27Bhw0pfG+69997uDRo0OPvMM898628bCUGbNm1qvGfPnrpLly7tNG3atE3XXnvtEasd1fyyRCP6rnv37n+ZNGnS5oEDB3qjVJ577jntjTfe6Pyf//zn/datW3vTqKyrqiONQmG0ZcuWhg8++GDf995778M333yzbXGi0bhx47qcOHGi1o8//tiosLDQdtlll/3097//fZvD4TBovaNHj76C7vft23fvd9991/Tw4cNxy5YtW2tF+ZTEmcYYM2ZM16ZNm+ZNmTJlp8WQfPryyy9/3KVLl+P03cGDB2ulp6dfuHXr1ovWr1/fdunSpZ9S+lqwveLvcxK0VFX9Zdu2ba1pvwwcODBzwoQJrlBt8PUvahqF69eOcUAABEAABEAABEAABEAg+glUmGi0cePGxo888kifjRs3rqCoCvpL/wcffNC8V69ev1gvzFYB2Hvuuaf3ZZdddvDRRx/dRaLR8OHDd1C6DuGfPXt2clZWVsNXX331C/qckZFRd9iwYX+CaBTa5oRoFBqncLUisXTixIld6eW+UaNGuceOHYsbNWrU1jvvvHMP7fdBgwZdFxcXl3/77bdnZGRkNHjnnXcupXo6mzdv/rdlA9UlGj58eP/33ntvlRVR5GsfiRD33HPPVQcPHqxPqWiTJ0/+1qppRO38RaNHH3208+bNm1uPHj36G7fbrSxZsuTS3377rXag31BVi0ahMLrxxhv/0KNHj5/GjRsn6PlQnGj0t7/97cq8vLzYSZMmfXP69Gn7008/3a1z584Hnn766e+I0/z5851vvfVWJ8tPV199tf70009/a0WBlcSZxrj99tv7XHHFFQfuu+++LMtHvXv3Huxbx2r16tXxixYt6kR1jQYPHpx+//33C4pCCrZX/PcjCVF9+vTJGjlypEhPT68/Z86cnpMnT944ZMiQA6HYANEoXL9wjAMCIAACIAACIAACIAACNYtAhYlGr7322iUffvhhgpWm44t17969F0yZMqVrRkZGvPX94MGDd06ZMiWdRKMHH3zwaytygv6S36RJk9NWXRd6qezSpcstEI1C26gQjULjFK5W06ZN67hz586LXn311fUNGjQopKgYipSz0sOoKPWcOXM6ZmRkNG3duvWvHTt2/PnLL7+8+L333vvcsoEiZOjfgYo7+9pJosPUqVM7//zzz3XefPPN9dY9f9GI0riefPLJ1K1bt15cp06d/L/85S9i7ty5PTZs2PCu/+lrVS0a0RqCMXr77bdbvfbaax1Xr169hiKGgolGlBrYsGHDQhJoaNx///vfLRcvXtyJCoSTkPPMM8/0WLRo0adUUJ8EohEjRvzhuuuuyyIxKhTO1IbS5OrXr3+WipnTZ+v5tHjx4v+mpaWd8B2H5hg9enSfHj167H3ooYcyS9orvn0pAislJeWUlZpGQiBFac6bN++b0tiA9LRw/dIxDgiAAAiAAAiAAAiAAAjUDAIVJhp9/vnnFz355JP0Ynou7YbqfbRp0+b0Y4891vnIkSNxM2fO3EppGvfcc0/3Vq1anXzsscd2+otGTz31VHtKG3nhhRe+IpeQ4HTDDTcMgmgU2gaFaBQap3C1oppcnTp1Omyd0EXjUjHkAQMG6LfffnsORcp16tTpN+vlf+rUqR1PnjzpsAQiqybO66+/vqZ9+/a/Ox2QomOGDBmy10oro4i+8ePH/3Hz5s3/stKu/EUjKpTcrl27PEs8oQLMzz333OVWoWzftVe1aESFsIMxGj9+/OUbN25M8PdXkyZNTn388ccf+n7/0ksvJV599dWHNE3Lpe8/+uijZnPnzvXWeqI6QDt37mziK7ZR8etff/31gkWLFm0OhTON+fe//z3phx9+aGqN8+23315411139aNaSSdPnrQvX778Ekojs/xN7bdv3978nXfe+V+wvXL33XfvttZy/PjxmH/84x+JDzzwgMvy8YwZMzqQrbRvgtlg1WuyxoJoFK5fOsYBARAAARAAARAAARAAgZpBoMJEI3rR6d+//0A6xnrUqFH6ihUrLn7hhRe6UT2XGTNmdKIjwZ999tkt27dvb0CFb2+44Yb0QKLRJ5980rQoDaNvUeHetWlpacenT5/eecuWLZdANAptg0I0Co1TuFqRyElF3OfMmbPR6XTmrlixoiVF9bzyyiv/dTqdp6655prBQ4cO3TF69OgsElZpb1sndpENDz/8cBrV2bEKK9N3FCHToUOHEyR+3HHHHb1iY2M9M2fO/IZOT5s2bVrnnJycBitXrvzEWoO/aERpWg6Hw71gwYKtOTk5tR966KFeV1999R6rJk4kiUYUPRWMEUXrUKFvy+Zly5YlHjlypM6UKVO2UyqfLyuKUszNzY19/vnnt1B9ojFjxvRs2rRpLgkt1nNl+vTp66+//vrDdHrapEmT+tx00007KdUsGGcS9nbs2FH/xhtv3G+JfHQKW58+fX6eMGFCN4fD4SHhiea86qqrbrjpppvSR40alUX12caNG3dlx44dDz7xxBM7gu0VEtfnzZvX/v77789o1qxZft++fQf169dPTJw4MTMzM7Pufffdd/WIESO+o1PYgtngv68hGoXrl45xQAAEQAAEQAAEQAAEQKBmEKgw0YjwrVu3rsns2bO7/vLLL3WpbsvYsWO33nLLLT/RC9rDDz/cm+qqUIRA48aNc5OSko4GEo1onJkzZ7Zfs2aNMz8/P6Zfv36ZH330URJEo9A2KESj0DiFqxWJHo8++uhlmzdv9p4MSPt+5MiR344cOXIPfSZBZ+bMmT1pL9M9EhSsdChKyxo8ePAg3yLKlFrWtWvXW55//vlPe/TocYzaPPzww92zsrIuovFatWr166xZs760ommsOXwLYZOoMGHChCuppg7d79q1a87zzz//lVW7J5JEo5IY+fuJIoYOHDgQR6enBWL1wAMPXLlv376G1C8xMfHnF154YZNVU+3ZZ5/V3n333Q7kC7p/zTXXiCeeeOJ7EuOCcaYT6yhK6Y033thA/UzGbYsAACAASURBVOjUOipITuOQP1544YUNLVq08J54R6fBzZw58wqqbUWfL7/88r1z587dSmmBwfbK999/f+HIkSP7WYIiRZQ9/vjjvXJzc2tZtvoWSQ9mg79/UQg7XL92jAMCIAACIAACIAACIAAC0U+gQkUjCx9FHVF9F3+cdHqQ/5HQxSGn+h0FBQXcvwZL9LuofCuEaFQ+fmXtTQIG7W+KEvEfg+7t3r27DqWMBRJufNuT4HPHHXdcZxWUt+6R4EBFra2Us1DspBo/9HurV6+e94j5QFdVp6dZNpWGkdWnOFYHDhyoRZybNm36O19QX4peonv+R9nTvUCcx44d2zUxMfH4mDFjdGtuej4dPnzYQem2gbjSXqBUMSu9zLdNcXuF6iP525SVlVUnPj7+bKDnYEk20JyINArll4I2IAACIAACIAACIAACIAACFoFKEY2Au+oIQDSqOvbhmJkik1atWtXON10tHONGumhUljVWFqshQ4b88bHHHvu6c+fOv5XFzqrsA9GoKuljbhAAARAAARAAARAAARCofgQgGlU/n5XKYohGpcIVcY1PnTplp9o4oUbklXcBkRJpVJZ1VBYrqgtFNYfKYmNV94FoVNUewPwgAAIgAAIgAAIgAAIgUL0IQDSqXv4qtbUQjUqNrEZ3qM6iUY12XIiLh2gUIig0AwEQAAEQAAEQAAEQAAEQ8BKAaBTlGwGiUZQ7OMzLg2gUZqARNhxEowhzCMwBARAAARAAARAAARAAgQgnANEowh1UXvMgGpWXYM3qD9Eouv0N0Si6/YvVgQAIgAAIgAAIgAAIgEC4CUA0CjfRCBsPolGEOSTCzYFoFOEOKqd5EI3KCRDdQQAEQAAEQAAEQAAEQKCGEYBoFOUOh2gU5Q4O8/IgGoUZaIQNB9EowhwCc0AABEAABEAABEAABEAgwgmETTSK8HXWWPOEEJIWr2kafF1jd0HoC6f9gr0SOq/q1hL+rW4eg70gAAIgAAIgAAIgAAIgULUEICRULf8Knx2iUYUjjqoJICpElTt/txj4N7r9i9WBAAiAAAiAAAiAAAiAQLgJQDQKN9EIGw+iUYQ5JMLNgagQ4Q4qp3nwbzkBojsIgAAIgAAIgAAIgAAI1DACEI2i3OEQjaLcwWFeHkSFMAONsOHg3whzCMwBARAAARAAARAAARAAgQgnANEowh1UXvMgGpWXYM3qD1Ehuv0N/0a3f7E6EAABEAABEAABEAABEAg3AYhG4SYaYeNBNIowh0S4ORAVItxB5TQP/i0nQHQHARAAARAAARAAARAAgRpGAKJRlDscolGUOzjMy4OoEGagETYc/BthDoE5IAACIAACIAACIAACIBDhBKqNaKRpmmYYhpKVlZUZ4UwjyjyIRhHjDq5pWrzNZjuakZFRUEFW2VRVbda8efMj69evd/vP0adPH/vBgwfr67p+tLj5q6uoYK6tqa7rhxhjRln5tm/fvunOnTuPBOqfkJDgqF27tn3Hjh15ZR2/qvtVV/9WNTfMDwIgAAIgAAIgAAIgAAI1lUC1EY1UVX1aUZRaLpdrQk11VlnWDdGoLNTC28fpdPaRUn5gjlqXMfaIEGI2fVZV9WbO+Tu+M0opH9V1fZbvdyW1U1X1Ps75M4wxGv8UY2ykEOI9awyn03m3lHIu3ZdSfsU5HyKEOOi/0uooKjidzgfNtdG6mWEYN2RlZX3uuzZN0x5ijM0J4NnLhRDfOJ3O7lLK18gljLE9jLG7hBBrqb3T6Wxk3htg9t9mt9tv3bVrV7b/eJqm7WaMtfX9XghhZ4x5GGM2TdMeZIzNllIO1XXd6/cS+niH0jTtI8bY9QH8xVVVbcE53++3hz7Tdf2aaPBveH+NGA0EQAAEQAAEQAAEQAAEQKA0BCAalYZWNWwL0ajKnUZCwXHO+T0ul+ttVVW7cM632u32RBIdnE7n/VLKlNjY2MmWpadOnTqTk5Nz1tfyYO2SkpK6GYaxRUp5pa7rm1RVvZ5z/pFhGO2ysrL2OJ3ODlLKHYZh9D5z5sy2OnXqvMI5b+hyuf5U3UUFa21SyiRd112mgPSwEKIZY0xa62vTpk2tunXrXmB9Ligo6MQY+5/dbm9Uq1ats7m5uemMscXx8fHzDh48eA/nfGpsbKwzPT39uKZpJPB1YYz9OS4ujtq+XNS2uRCiXwDRSJJvFUU5RvdOnTolc3JyTlAk1KFDhz5jjNVhjMVzzh+m/WAKQgH7+I6dmppaR0oZ62P/fYyx64QQPRMSEjrZbLZ3YmNju1n3PR5PYUZGRm5192+V/3phAAiAAAiAAAiAAAiAAAjUcAIVKholJiYm2Wy2v9PLrJRyl5RyXFZW1lZ6gTp8+PCTUsoRJv/l8fHxD1FKTWJiYldFUV5ijHVmjK1XFOXuzMzMLIo04py3ZIw1pr+4c87XnD179nZ6IavhPgy6fIhGVbs7OnTo0CA/P39M8+bNn7ZSxjRNO8k5/4vL5fpU07QnGWO5ZuSRzYxI+Z3RwdppmjaJMdZDCPFnq6OmaZRiNVcI8Xen0zlZSnmpEOImU6S4hKJp8vPzG/j/fqpbpJEpmHQSQvyT1pacnJzi8Xh2OhyOuGBpZJqmvUsMhBCPqKrak0S2uLi4Rtu3by80I4JyDMO4Nysra42maUuKIo8OCCGm0hxOp3OolHKiECLNX9jJz88nX9r79OnDfVME09LSaufl5T3pdrsn22y2TZzzBSQakRhUXJ/idi4JYA6HY69hGCPIPqfTeY2UcoIQ4jp6tgZKTbTGqm7+rdpfL2YHARAAARAAARAAARAAARCoMNGIXpLMv95/6vF4Ftvt9puklPfl5eU1jYuL+4OU8iVK0eCcxzDGVnHO/+Zyuf5DqRpF4tCrnPPlhmE8whhrKIS42RSNHpVS3qIoyhEpJUVLvONyuabBjcUTgGgUWbtD07S+FOHCOW/scrmOaZr2KmPsIsZY16K0JYqEec/j8YzOzs7O97U8WDtVVe/knI/yETEUTdMoHeplIcRoVVUp7SpH1/UnzDGpvpLh8Xg6Z2dnf+c7T3UXFVRVpefBdbquX1Gc5xMSEpJtNtsuxlgLStFzOp1/k1LeSVE7PqLbB5zzz1wu10IzOmw1Y2x+kViUS1FIRUFEDwoh3vSdw+l0tqGILs7551LKwYwx+vdDJA76+fJrSzQKtY9vf9PfY4QQl1I0laZptzPGxjLGHIyxVMbYWkVRRmRmZu71Z1Dd/RtZv2ZYAwIgAAIgAAIgAAIgAALRT6DCRCMzZebT+Pj4huZfvhWn09nv7NmzX/hEN9g6dOhQLz8//yOKHCr6C/1TFIXBGHsuPz9/nm8UhCkaJVjREqqqTuWcdxZCDIp+N5V9hRCNys4u3D01TWvOGPtOSjlD1/UXaXxN06jWUUMSVG022wWGYbzOOf/Q5XJR7ZtzV7B2SUlJrQ3DSJdSvi6lJAH2NhJhi+rzLBdC3KZp2sdSytXWnOa8FIk0XAjxcbSIRqqqXk2CDWPMW6eoOP+pqrq0SMzJE0JQihf5YBLnvKvL5brBRzRaIqU8ouv65JSUlAS32/0vxlgiY+wMY6yAc36zy+Xa7Oejyxhj2ygV0WazrXW73UMZYzOklC11XT/gM/Y50UjTtJD6WH3T0tJicnNzqeYSRRZ5a1apqjqec/4I53yY2+3eb7PZZpCtQoiOEI3C/SvGeCAAAiAAAiAAAiAAAiBQswhUmGikqupfGWOjAv3F3yzc+g/fwq6c8ydcLtd0TdOuI9GI3oWklJ8ZhjGJoiH8C2FrmkapbX8JVFekZrkw+GohGkXGbkhOTo7zeDwbOOfbXS7X3ZZVKSkprdxu93EhhLeIs6ZpAymiRQjRztfyktpRIeciMYPS0JKklGsogq8o+ugI/aacTudiEkCEEI+bY1KdJTfnPNXlclEtn3NXdY1EoVRYRVG20jNHCPFWcV43BaAsq96Tyfw2KeX9vs8qs/D0aiHEy5qmfS2l3Krr+gNUZ9sqOp6fn3+Rb+0piq48efJkM6oj5SMQ/VBUi+hpXddJdPJeNJ4VaRRqH5++FFX0RHx8vGaloVGhbrvdbrdOfVNVtTHn/Bd/sYrGqK7+jYxfMawAARAAARAAARAAARAAgZpHoMJEo8TExCsVRXnPtyCtpmmX2Gy2Ax6PZwFj7BJFUUZmZmYecjqdb0spM4QQVN/FeyUlJSVSREbRqVMUTaRBNCrb5oRoVDZu4exlFkH+N+fcXqdOncFm3RxLQBjl8Xg+zc7OplO3WGJi4h8URXlNCHGxrw1FNYqKbUcigc1ma0C1v8w+lH5GkTYLKIVK07SHGWN9qeaN+dtqT5FJger+VEdRoX379k0LCwu/kVK+6H/qnL8fNU2jItZ1hBAkalvPGiok/mlcXFyz7du3n05OTo71eDw/UeROs2bN1h46dKiwKFWthxVZlJKS0tDtdh+zim9b41BRbsZYmsvlWmp9p6rqFs75i76pbL6iUah9aDxzH1Fa3SwhBKUceq/ExMT+iqKcFkKso8+mQEkiZFshxI++DKqjf8P5W8RYIAACIAACIAACIAACIAACpSNQYaJR27ZtL4yJiaEXr2cURVnodrtv4Jy/Hhsb27CgoICO/r4wLi7ur3l5eZdKKb8s+gv+1MLCwudjYmI2UlFXXdf/53Q6xzDG7nW5XCkQjUrnWKs1RKOycQtnL03TSCQdZxhGspTSG1Fks9l+o+giqjfEOW/gcDhuO3nyZIzD4VhRlDb2oxDiTkrxpLaZmZlfBWvndDrTpJTfKIpyxZkzZ76PjY0dRelK1ulfCQkJ7Ww2W3ZRlNMAt9u90WazvcEYo/Ss2/zXWd1EBbPA9DYp5Vm32z2Ic+49MS02NvbnjIyMAorcosLYJMq1a9fuYrvdvs9ms7XPyMgg8cV7kUhkGMZ3hmG8f/r06afi4uLGSSlHx8XFaSQiaZr2RdFz6DClnSmKku/xeKYwxkZT6u2BAwdaUcSWruvvW1FMjLGrScDRNG0A1WvzjWqi+XxFo2B9CgsLf3U4HNNiYmJmURSRpmk3Fh0E8ILH42nlW/PKrMn0OOf86qKDAw663e5pnPO/+guPNHd18284f4cYCwRAAARAAARAAARAAARAoPQEKkw0Ml+OejDG6FQjlU6fZoyNEEL8W9M0Kta6hjFGp6Hp9JLMGPuSIo3M+hzzzaXsNwzjtqysrI0BRKM7OOdDAh0bXnoM0dsDolHV+tasY3Suno1lTZF49KCu6/OTkpLiDcNYRXV4zHvr8/PzB1M9L6pFZBZjnhesHfVzOp1UJP5pc4w9Usq7SXi15jOLJ9Pvqi7V3bHZbH/OyMg4XN1FI1NIoZPQzruklF2aN2/+HUUJSSm76rr+tdPppPW38a1dZHUyT21cTtE5jLH9nPPbXS7XBpMtFbimotf0PKNLl1Leruv6NrMeUi/rOaRp2r1UgNxsR8+836XL+YpG5nMyYB+rYLdhGN3o1ElN037gnP/D5XK94LtYMzKKTpwcaT03Oef9/FMP6R5Eo6p9HmB2EAABEAABEAABEAABEKhuBCpUNLJgJCQk1MvOzqYC1+ddbdq0qZ+Tk/MbnQDkd0tp27Zt3T179tA9XOUgANGoHPAqsSulWLndbjedqGZNW5SSdsTj8Vzne8JZoHZWezPq5iKXy5UTyHSziHITOjGsuKVFk6iQmJjYVlGU732K8ZfoUYpG2r179/4AzyRGfI8fPx7j+1zSNG0J5/x7OmXNGpxEnMLCwpYtWrTYZ9UdKmniIH1sjDE6Ca/ES9O0um63u/7u3bt/qgn+LREIGoAACIAACIAACIAACIAACJSbQKWIRuW2EgOUmQBEozKjq9KOqampdfLz8w8JIepT8eXKMiaaRCOn03mNlHKkEOLmiuJHNYuK6rTdlZmZubOi5gjnuNHk33BywVggAAIgAAIgAAIgAAIgAAKBCUA0ivKdAdGo2jqYTjhrGiwqqCJWFk2iAglvRSl7senp6ccrghWNmZCQ0DI7O5vSD/2jJStqynKNG03+LRcIdAYBEAABEAABEAABEAABEAiJAESjkDBV30YQjaqv76rCcogKVUG98uaEfyuPNWYCARAAARAAARAAARAAgWggANEoGrwYZA0QjaLcwWFeHkSFMAONsOHg3whzCMwBARAAARAAARAAARAAgQgnANEowh1UXvMgGpWXYM3qD1Ehuv0N/0a3f7E6EAABEAABEAABEAABEAg3AYhG4SYaYeNBNIowh0S4ORAVItxB5TQP/i0nQHQHARAAARAAARAAARAAgRpGAKJRlDscolGUOzjMy4OoEGagETYc/BthDoE5IAACIAACIAACIAACIBDhBMImGuXm5i6P8LXWSPMOHDgwlBbeokWLt2skACy6VARov2CvlApZtWpM/tU0LWzP/Wq1eBgLAiAAAiAAAiAAAiAAAiBQagJhe3mAaFRq9pXSAaJRpWCOmkkgGkWNKwMuBKJRdPsXqwMBEAABEAABEAABEACBcBOAaBRuohE2HkSjCHNIhJsD0SjCHVRO8yAalRMguoMACIAACIAACIAACIBADSMA0SjKHQ7RKModHOblQTQKM9AIGw6iUYQ5BOaAAAiAAAiAAAiAAAiAQIQTgGgU4Q4qr3kQjcpLsGb1h2gU3f6GaBTd/sXqQAAEQAAEQAAEQAAEQCDcBCAahZtohI0H0SjCHBLh5kA0inAHldM8iEblBIjuIAACIAACIAACIAACIFDDCEA0inKHQzSKcgeHeXkQjcIMNMKGg2gUYQ6BOSAAAiAAAiAAAiAAAiAQ4QQiXjTauXNnPcMwWGpq6kl/lvn5+coHH3zQfODAgQd//fXXmMzMzHpXXXXVLxHOvFLNg2hUqbgrbbLc3FybYRi8Xr16bv9JPR4P379/f60WLVqctdvtsjRGVVfRiJ4FBQUFSt26dX/HI5T1B+NJ/fft23dBw4YNC+Li4jzBxivJjhMnTsTUrl3bExsba4RiV2nauN1ufuzYsdimTZvmF9cPolFpiKItCIAACIAACIAACIAACIBAxItG06ZN61hQUGB75plnvvV3144dO+rdcccd/ZctW/bh7t274xYtWtRpzZo1H8Gt/58ARKPI2g1paWlD/S3q0KHDgaVLl24Mds+3z/jx4y/fuHFjAn3XrVu3nOeee+4rSxx68cUXE996662O+fn5MQ6Ho3DMmDFfDx06dJ/Vf9WqVc3nz5/fNS0tbf/8+fO3+dtS3USjI0eOOCZNmtQ1PT29Ba2lVatWv86cOXNzcnLyKf+1kQA9ZcqU7qdPn4759NNPV1v3g/Fct25dk+nTp/fMzc2tRe379++fMW3atB02m+08Ma4kO7755pv606ZN63748OELaZzLL79876xZs7bVr1+/kD6X5JeJEydetm7dukTfNc2dO/dzSyRftGhRwhtvvHEp+b1NmzZHFyxY8EWrVq3OBPKvpmlhe+5H1q8L1oAACIAACIAACIAACIAACISbQNheHnJzc5eH2zgaL5hoRPcpqoJe4FavXh0P0ej3HoBoVBG7suxjHj16NNa397hx47qrqnps6tSp6cHuWX1eeeWVdsuXL09dtmzZxyQUjRgx4g/XXHNN9oQJE1wbN25sPH78+D/OmTPn86uvvvoX+k1Mnz69z/Lly1drmpY7Y8aMDh9//LHWsmXLEy1atPhtwYIF1V40evzxxy/NyspqtGjRoo0UwfPwww9fduzYsdrLli1b78t55cqVLZ566qkrU1NT9+/du7fh2rVrV9H9YDxPnz5t69Wr103Dhg37dsyYMXp2dnadUaNGXT1y5Mjvb7vttr2+45dkx6BBg65LTU09NHXq1B0UDXTnnXf27dOnz48PPvigKxS/jBgxolfv3r1/6t+//0FrXhKcaA9s3769/t1333397Nmz/9e9e/djDz30UJdTp07FvvHGGxsgGpX9t4qeIAACIAACIAACIAACIAACjFWYaHTgwIFaw4YNu7Zfv376f/7zn5RGjRrlPfroo1sXLVrUYdeuXc01TTv8/PPPf9m4ceMCcsQzzzyTsm7durZut1vp0aPH3unTp/9AYhCJRseOHbsgLy8vZseOHS2Tk5MPPfroo9spkoBesm+66abrV61atWb9+vVNfEUjikKaO3dup+zs7Caqqv782GOPbU9MTMyraU6HaBS5Hrde9levXr2yefPmZ30tLe7e0KFD+/bs2fOn++67L4vav/76621WrlzpfP/99z+eM2dOckZGRmOKWrLG6t279+ABAwa4Jk6cmPnEE0+k3nHHHVlLlixJPHnypCMaRKOxY8d2bdy48WkS3WjNy5Yta71ixYok4uHLc/Hixe1SUlJOUHrYvHnzulqiUTCeGzZsaDxhwoQ/bt269R0rkovmO3r0aO3ly5ev8x2/JDvID5MmTdrSr1+/w9SPopvq1q1bMGPGjB9C8cuQIUP+OHbs2O969ux5zD/KadasWSl79uypv3jx4i9pbCFE3K233jrgk08+WWE9Xy1bkZ4Wuc8DWAYCIAACIAACIAACIAACkUigwkQjqgEyePDgQT169Njz17/+VTz//PMdSSy66667tnXu3JkiK3pYERJWasWUKVO+cDgcntmzZ3fr3bv3j4899thOEo0+/PDD5JtvvvmHK6+88tCrr76acvTo0Th6KTx8+LCjf//+N/zvf//796ZNmxpbohHVJ7nhhhv6paWlHRg8ePCPb775prpv374G/i+SkeiQcNsE0SjcRMM33r333tu9QYMGZwOlXhZ3j8SHyZMnb7722muPkCVbtmxpeP/991+7ffv2t0kY+eijjxKtfU5ReF26dLmlT58+WfPmzfvGsnzatGmp0SIaffnll40mT558Zf/+/UWdOnUK33333fYjRoz4bvjw4TmBPLVmzZpmvqJRMJ5W+quv+EIphHFxcWc3bNiw0nf8kuygiKaVK1cmDRo0yHX06NFaa9eubffss8+u863VFswvffv2Haiq6i/btm1rTfMPHDgwk6LLyIYxY8Z0bdq0ad6UKVN2WjaRnS+//PLHXbp0Oe5rJ0Sj8P1+MRIIgAAIgAAIgAAIgAAI1AQCFS4arVy58n2qrfGvf/3r4iVLllxq1RKZOnVqx7Nnz9rnzJmz/fb/1969x1hdpncAb1ZYdUVFDYuGLlJ0TFygKLIqiEK8QNVIlrB4iSaEjIYEUS6iIuI18gc3JYMGRQ2QSErEibHWoMvEKhRCaWu8ZVxrZE1c1BUFUXYDtWr3dfNrTifDsD4e3ZnHD//hOc/vvM/nmTmJX97f+7vqqlHDhg3bXu2eWLNmzc9Wr1498Omnn15XQqPW1tZea9eubSkDKbuLxowZM37t2rVPldtR2guNqtt0Wlpanij/Kv/ZZ591Gzt27Ljm5uan+vXr98cfwmCrHoVGnXPa5XydiRMnXlx+jvv37///fib391oVAj300EPrhg4d+knprNpVUoLTHTt2/HjixIkXjhgx4rejRo3avm7duuM3b97cv5yf8+CDD27OGBq1trYePmfOnLM+/PDDHt27d//ioIMO+vKOO+7YNHLkyI8OFBodyLMcql1uK+vRo8e+q666qrW1tfWoNWvWnFLOitq8efMTtdc/0DpKWLVgwYJhZX179+7t3rdv310LFizYXHvuUEehUQmBSvjX2Nj45muvvdbzT7cgjpgzZ86G8ePHb2/7/VnWVcKwWbNmbbnkkkveFxp1zu8AqyJAgAABAgQIECDQFQS+89Bo48aNj5dwp5wpsmrVqkHVLoh77rln4CeffHLIokWL/qPtrRvl0NjJkydfuHXr1jV3333335fzOWoP7R0+fPiv7rrrrg2DBg3a3V5otHLlyn5Lly4d1nYA1VkvXWEw9Vqj0KhekvW9zvTp008vV1yyZMnWtlfu6LWy4+SGG274t4svvvjr25xKQDp79uxRVYhRbql69NFHB3zwwQdHnHLKKe+V2z2PPvrovXPnzv369q3yJ9NOo3Hjxo1paGj4qOzWKgFxdRB4S0vLk+V7p61t251GB/IsOyYXLFhQguvexx9//M7Bgwd/uGnTpp9VIXZ1/Y7W8emnn3Yr31OzZs3aVA4lL085mzp16rASmtfeStjRXMqupwEDBnxW3Zp2yy23DClPiys7yGbMmHF6z54995YDust6qjBs+fLl60477bSvw8Xqj51G9f09djUCBAgQIECAAAEC2QU6RWh0+eWXn3fBBRf8trGxcVsBL08SWrZs2ZBnn332n8tOo23bth1VHWxbbj0bOXLkpeWJaeUR2O2FRs8991zvcotbdW5J9iF21J/QqPNNv9odtGrVqmcGDhz4ae0KO3qtvK/sKhk8ePDvb7zxxjfK35ctW3ZiS0vL3zU3N68vT/AqhyzXPjms7JQZN27cb2pv18oSGpXw5Ywzzrj83nvvXV/tLKp2Iq5YseKZ2lu/KuO2oVFHnuUg7LKD6NRTT91dhTVlh2S5ta827DvQOj7++OODZ82adX7t2UjNzc19Fi9ePKx2x9L+5rJr167uDz/8cMO0adN+c/DBB39ZeimHZ+/cufPQso6FCxee/Morr/R+7LHHvj78+6WXXjrymmuuueiFF15YW3ZLCY0633eAFREgQIAAAQIECBDoKgKdIjQqB7k+//zz/ZcuXfovhx566BfTpk0756STTvpo/vz5/1mdaTR79uyN559//u8XLlw4cMuWLX3Xr1//T+V2nPZCo/I/jmPHjh175ZVXvjJp0qRt5ZDspqamoatWrVrfu3fvfV1lOPVYp9CoHor1vcZNN910WtllVx1cXHv19l4ru4nKe84555yPVq9effwDDzzwixUrVjzbvXv3L6+++uoLLrvsstcnT578dnW+0X333bd+6NChu5YvX37ik08++fPm5uZnag9EzhIaFZMJEyacf+SRR+6dN2/ev5fvjkWLFg1oaWlp2LBhQ/Pbb7990WB4OAAAFmpJREFU2KuvvtpzwoQJv9tfaNSRZwmoR48ePe6KK654dcqUKW+1tLT89E+3hJ27ZMmSX5999tkfP/HEE387aNCgT8qT6Tpax549e7qdd955vyrnsk2ZMuXNnTt3/vjmm28edthhh/33I4888q/V2mrnUr7DFi9ePHDq1Kmtxx577L5zzz33lxdddNGb5UDzN9544/Brr732vOrspiponDt37oZRo0Z9OHPmzDPL2XC1tyRWn2GnUX1/l12NAAECBAgQIECAQHaBThEalX+pnzlz5umbNm3qX8AHDx78u6amps09evT4ooRG77777hE7duzo8d577/U85phj9tx5552bhg8fvnN/B2GXa6xfv/6nixcvPn3Hjh2HlzNIGhsbX6p2MmUfam1/QqPONe3qgPj2Dine32tlN8yQIUM+qA4+njlz5i9efPHFE0tnZ5555jtNTU1bqp0w8+fP//njjz8+uLxWfldmzJix9cILL/z60Oz2wom2OuXnpU+fPv/YudT2v5q33nrrsDlz5gzbtm1br/KuXr16fXb77bdvLt8P5Wlyr7/+eq/aR8+33WlUajryLO+fN2/eiH379nUv3yOXXnrpa9OnT3+z2l3U1NT067POOuvjjtZRPqPa/bh79+6flL+ffPLJ78+fP39Lnz59/u+pebWh0csvv3xkY2PjRVVAVYLD22677ew9e/YcUupHjx79Zu0B6uUQ9JUrV55a1tm3b9+d999//4u1164EhUZd5SfbOgkQIECAAAECBAh0DoHvLDSKtFfO6Pjqq6/+proFo+01ym0aRx111Off5Nql5ogjjvifto+p/ibX6MrvFRp15en9ee3lzK+FCxe+UPskrPJzXc6uaftI9fL+skPm/fffP6ShoeEP37T7rhYaVf2Vnj///PMf1X4/XH/99Wc0NDTsuu666/7rQA4deZaAqOxaOuGEE/7QrVu3r8q1yu6eSZMm/UPZ0VT9t8q+7TpqP7vsICpnLbV33lLbNZb5tv3eKuHUcccdt7cE6m3fX74/S5Bee7h22/cIjQ70k+B1AgQIECBAgAABAgRqBTpVaGQ09RcQGtXf9Pu8Ynny35gxY365cePG5u8j+OyqoVF7Mxk/fvwFt95669YhQ4bsrvfMyg6kp5566oT2bjGs92fV83pCo3pquhYBAgQIECBAgACB/AJCo+QzFhp17QGX3Sbbt28/pKPdI/XsMFNo9M477/ykX79+f6ynT3WtEubt27fvR+3t9PouPq9e1xQa1UvSdQgQIECAAAECBAj8MASERsnnLDRKPuA6t5cpNKozTYrLCY1SjFETBAgQIECAAAECBL43AaHR90b91/kgodFfx72rfqrQqKtO7i9bt9DoL3PyLgIECBAgQIAAAQIE/iwgNEr+kyA0Sj7gOrcnNKozaCe7nNCokw3EcggQIECAAAECBAh0cgGhUScf0LddntDo2wr+sOqFRrnnLTTKPV/dESBAgAABAgQIEKi3gNCo3qKd7HpCo042kE6+HKFRJx/Qt1ye0OhbAionQIAAAQIECBAg8AMTqFto9ANz0y4BAgQIECBAgAABAgQIECBAILWA0Cj1eDVHgAABAgQIECBAgAABAgQIEIgJCI1ibqoIECBAgAABAgQIECBAgAABAqkFhEapx6s5AgQIECBAgAABAgQIECBAgEBMQGgUc1NFgAABAgQIECBAgAABAgQIEEgtIDRKPV7NESBAgAABAgQIECBAgAABAgRiAkKjmJsqAgQIECBAgAABAgQIECBAgEBqAaFR6vFqjgABAgQIECBAgAABAgQIECAQExAaxdxUESBAgAABAgQIECBAgAABAgRSCwiNUo9XcwQIECBAgAABAgQIECBAgACBmIDQKOamigABAgQIECBAgAABAgQIECCQWkBolHq8miNAgAABAgQIECBAgAABAgQIxASERjE3VQQIECBAgAABAgQIECBAgACB1AJCo9Tj1RwBAgQIECBAgAABAgQIECBAICYgNIq5qSJAgAABAgQIECBAgAABAgQIpBYQGqUer+YIECBAgAABAgQIECBAgAABAjEBoVHMTRUBAgQIECBAgAABAgQIECBAILWA0Cj1eDVHgAABAgQIECBAgAABAgQIEIgJCI1ibqoIECBAgAABAgQIECBAgAABAqkFhEapx6s5AgQIECBAgAABAgQIECBAgEBMQGgUc1NFgAABAgQIECBAgAABAgQIEEgtIDRKPV7NESBAgAABAgQIECBAgAABAgRiAkKjmJsqAgQIECBAgAABAgQIECBAgEBqAaFR6vFqjgABAgQIECBAgAABAgQIECAQExAaxdxUESBAgAABAgQIECBAgAABAgRSCwiNUo9XcwQIECBAgAABAgQIECBAgACBmIDQKOamigABAgQIECBAgAABAgQIECCQWkBolHq8miNAgAABAgQIECBAgAABAgQIxASERjE3VQQIECBAgAABAgQIECBAgACB1AJCo9Tj1RwBAgQIECBAgAABAgQIECBAICYgNIq5qSJAgAABAgQIECBAgAABAgQIpBYQGqUer+YIECBAgAABAgQIECBAgAABAjEBoVHMTRUBAgQIECBAgAABAgQIECBAILWA0Cj1eDVHgAABAgQIECBAgAABAgQIEIgJCI1ibqoIECBAgAABAgQIECBAgAABAqkFhEapx6s5AgQIECBAgAABAgQIECBAgEBMQGgUc1NFgAABAgQIECBAgAABAgQIEEgtIDRKPV7NESBAgAABAgQIECBAgAABAgRiAkKjmJsqAgQIECBAgAABAgQIECBAgEBqAaFR6vFqjgABAgQIECBAgAABAgQIECAQExAaxdxUESBAgAABAgQIECBAgAABAgRSCwiNUo9XcwQIECBAgAABAgQIECBAgACBmIDQKOamigABAgQIECBAgAABAgQIECCQWkBolHq8miNAgAABAgQIECBAgAABAgQIxASERjE3VQQIECBAgAABAgQIECBAgACB1AJCo9Tj1RwBAgQIECBAgAABAgQIECBAICYgNIq5qSJAgAABAgQIECBAgAABAgQIpBYQGqUer+YIECBAgAABAgQIECBAgAABAjEBoVHMTRUBAgQIECBAgAABAgQIECBAILWA0Cj1eDVHgAABAgQIECBAgAABAgQIEIgJCI1ibqoIECBAgAABAgQIECBAgAABAqkFhEapx6s5AgQIECBAgAABAgQIECBAgEBMQGgUc1NFgAABAgQIECBAgAABAgQIEEgtIDRKPV7NESBAgAABAgQIECBAgAABAgRiAkKjmJsqAgQIECBAgAABAgQIECBAgEBqAaFR6vFqjgABAgQIECBAgAABAgQIECAQExAaxdxUESBAgAABAgQIECBAgAABAgRSCwiNUo9XcwQIECBAgAABAgQIECBAgACBmIDQKOamigABAgQIECBAgAABAgQIECCQWkBolHq8miNAgAABAgQIECBAgAABAgQIxASERjE3VQQIECBAgAABAgQIECBAgACB1AJCo9Tj1RwBAgQIECBAgAABAgQIECBAICYgNIq5qSJAgAABAgQIECBAgAABAgQIpBYQGqUer+YIECBAgAABAgQIECBAgAABAjEBoVHMTRUBAgQIECBAgAABAgQIECBAILWA0Cj1eDVHgAABAgQIECBAgAABAgQIEIgJCI1ibqoIECBAgAABAgQIECBAgAABAqkFhEapx6s5AgQIECBAgAABAgQIECBAgEBMQGgUc1NFgAABAgQIECBAgAABAgQIEEgtIDRKPV7NESBAgAABAgQIECBAgAABAgRiAkKjmJsqAgQIECBAgAABAgQIECBAgEBqAaFR6vFqjgABAgQIECBAgAABAgQIECAQExAaxdxUESBAgAABAgQIECBAgAABAgRSCwiNUo9XcwQIECBAgAABAgQIECBAgACBmIDQKOamigABAgQIECBAgAABAgQIECCQWkBolHq8miNAgAABAgQIECBAgAABAgQIxASERjE3VQQIECBAgAABAgQIECBAgACB1AJCo9Tj1RwBAgQIECBAgAABAgQIECBAICYgNIq5qSJAgAABAgQIECBAgAABAgQIpBYQGqUer+YIECBAgAABAgQIECBAgAABAjEBoVHMTRUBAgQIECBAgAABAgQIECBAILWA0Cj1eDVHgAABAgQIECBAgAABAgQIEIgJCI1ibqoIECBAgAABAgQIECBAgAABAqkFhEapx6s5AgQIECBAgAABAgQIECBAgEBMQGgUc1NFgAABAgQIECBAgAABAgQIEEgtIDRKPV7NESBAgAABAgQIECBAgAABAgRiAkKjmJsqAgQIECBAgAABAgQIECBAgEBqAaFR6vFqjgABAgQIECBAgAABAgQIECAQExAaxdxUESBAgAABAgQIECBAgAABAgRSCwiNUo9XcwQIECBAgAABAgQIECBAgACBmIDQKOamigABAgQIECBAgAABAgQIECCQWkBolHq8miNAgAABAgQIECBAgAABAgQIxASERjE3VQQIECBAgAABAgQIECBAgACB1AJCo9Tj1RwBAgQIECBAgAABAgQIECBAICYgNIq5qSJAgAABAgQIECBAgAABAgQIpBYQGqUer+YIECBAgAABAgQIECBAgAABAjEBoVHMTRUBAgQIECBAgAABAgQIECBAILWA0Cj1eDVHgAABAgQIECBAgAABAgQIEIgJCI1ibqoIECBAgAABAgQIECBAgAABAqkFhEapx6s5AgQIECBAgAABAgQIECBAgEBMQGgUc1NFgAABAgQIECBAgAABAgQIEEgtIDRKPV7NESBAgAABAgQIECBAgAABAgRiAkKjmJsqAgQIECBAgAABAgQIECBAgEBqAaFR6vFqjgABAgQIECBAgAABAgQIECAQExAaxdxUESBAgAABAgQIECBAgAABAgRSCwiNUo9XcwQIECBAgAABAgQIECBAgACBmIDQKOamigABAgQIECBAgAABAgQIECCQWkBolHq8miNAgAABAgQIECBAgAABAgQIxASERjE3VQQIECBAgAABAgQIECBAgACB1AJCo9Tj1RwBAgQIECBAgAABAgQIECBAICYgNIq5qSJAgAABAgQIECBAgAABAgQIpBYQGqUer+YIECBAgAABAgQIECBAgAABAjEBoVHMTRUBAgQIECBAgAABAgQIECBAILWA0Cj1eDVHgAABAgQIECBAgAABAgQIEIgJCI1ibqoIECBAgAABAgQIECBAgAABAqkFhEapx6s5AgQIECBAgAABAgQIECBAgEBMQGgUc1NFgAABAgQIECBAgAABAgQIEEgtIDRKPV7NESBAgAABAgQIECBAgAABAgRiAkKjmJsqAgQIECBAgAABAgQIECBAgEBqAaFR6vFqjgABAgQIECBAgAABAgQIECAQExAaxdxUESBAgAABAgQIECBAgAABAgRSCwiNUo9XcwQIECBAgAABAgQIECBAgACBmIDQKOamigABAgQIECBAgAABAgQIECCQWkBolHq8miNAgAABAgQIECBAgAABAgQIxASERjE3VQQIECBAgAABAgQIECBAgACB1AJCo9Tj1RwBAgQIECBAgAABAgQIECBAICYgNIq5qSJAgAABAgQIECBAgAABAgQIpBYQGqUer+YIECBAgAABAgQIECBAgAABAjEBoVHMTRUBAgQIECBAgAABAgQIECBAILWA0Cj1eDVHgAABAgQIECBAgAABAgQIEIgJCI1ibqoIECBAgAABAgQIECBAgAABAqkFhEapx6s5AgQIECBAgAABAgQIECBAgEBMQGgUc1NFgAABAgQIECBAgAABAgQIEEgtIDRKPV7NESBAgAABAgQIECBAgAABAgRiAkKjmJsqAgQIECBAgAABAgQIECBAgEBqAaFR6vFqjgABAgQIECBAgAABAgQIECAQExAaxdxUESBAgAABAgQIECBAgAABAgRSCwiNUo9XcwQIECBAgAABAgQIECBAgACBmIDQKOamigABAgQIECBAgAABAgQIECCQWkBolHq8miNAgAABAgQIECBAgAABAgQIxASERjE3VQQIECBAgAABAgQIECBAgACB1AJCo9Tj1RwBAgQIECBAgAABAgQIECBAICYgNIq5qSJAgAABAgQIECBAgAABAgQIpBYQGqUer+YIECBAgAABAgQIECBAgAABAjEBoVHMTRUBAgQIECBAgAABAgQIECBAILWA0Cj1eDVHgAABAgQIECBAgAABAgQIEIgJCI1ibqoIECBAgAABAgQIECBAgAABAqkFhEapx6s5AgQIECBAgAABAgQIECBAgEBMQGgUc1NFgAABAgQIECBAgAABAgQIEEgtIDRKPV7NESBAgAABAgQIECBAgAABAgRiAkKjmJsqAgQIECBAgAABAgQIECBAgEBqAaFR6vFqjgABAgQIECBAgAABAgQIECAQExAaxdxUESBAgAABAgQIECBAgAABAgRSCwiNUo9XcwQIECBAgAABAgQIECBAgACBmIDQKOamigABAgQIECBAgAABAgQIECCQWkBolHq8miNAgAABAgQIECBAgAABAgQIxASERjE3VQQIECBAgAABAgQIECBAgACB1AJCo9Tj1RwBAgQIECBAgAABAgQIECBAICYgNIq5qSJAgAABAgQIECBAgAABAgQIpBYQGqUer+YIECBAgAABAgQIECBAgAABAjEBoVHMTRUBAgQIECBAgAABAgQIECBAILWA0Cj1eDVHgAABAgQIECBAgAABAgQIEIgJCI1ibqoIECBAgAABAgQIECBAgAABAqkFhEapx6s5AgQIECBAgAABAgQIECBAgEBMQGgUc1NFgAABAgQIECBAgAABAgQIEEgtIDRKPV7NESBAgAABAgQIECBAgAABAgRiAkKjmJsqAgQIECBAgAABAgQIECBAgEBqAaFR6vFqjgABAgQIECBAgAABAgQIECAQExAaxdxUESBAgAABAgQIECBAgAABAgRSCwiNUo9XcwQIECBAgAABAgQIECBAgACBmIDQKOamigABAgQIECBAgAABAgQIECCQWkBolHq8miNAgAABAgQIECBAgAABAgQIxASERjE3VQQIECBAgAABAgQIECBAgACB1AJCo9Tj1RwBAgQIECBAgAABAgQIECBAICYgNIq5qSJAgAABAgQIECBAgAABAgQIpBYQGqUer+YIECBAgAABAgQIECBAgAABAjEBoVHMTRUBAgQIECBAgAABAgQIECBAILWA0Cj1eDVHgAABAgQIECBAgAABAgQIEIgJCI1ibqoIECBAgAABAgQIECBAgAABAqkFhEapx6s5AgQIECBAgAABAgQIECBAgEBMQGgUc1NFgAABAgQIECBAgAABAgQIEEgtIDRKPV7NESBAgAABAgQIECBAgAABAgRiAkKjmJsqAgQIECBAgAABAgQIECBAgEBqAaFR6vFqjgABAgQIECBAgAABAgQIECAQExAaxdxUESBAgAABAgQIECBAgAABAgRSCwiNUo9XcwQIECBAgAABAgQIECBAgACBmIDQKOamigABAgQIECBAgAABAgQIECCQWkBolHq8miNAgAABAgQIECBAgAABAgQIxASERjE3VQQIECBAgAABAgQIECBAgACB1AL/C3MZ7ZosSPQsAAAAAElFTkSuQmCC\" />"
      ],
      "text/plain": [
       "Open the notebook in JupyterLab with the Atoti JupyterLab extension enabled to build this widget."
      ]
     },
     "metadata": {},
     "output_type": "display_data"
    }
   ],
   "source": [
    "# Slciing by one hierarchy: trans_type\n",
    "session.widget"
   ]
  },
  {
   "cell_type": "code",
   "execution_count": 18,
   "id": "84513525-264d-4487-a0d4-667af88cc757",
   "metadata": {
    "atoti": {
     "widget": {
      "columnWidths": {
       "[Measures].[contributors.COUNT]": 139.453125
      },
      "mapping": {
       "columns": [
        "ALL_MEASURES"
       ],
       "measures": [
        "[Measures].[contributors.COUNT]",
        "[Measures].[total_price.SUM]"
       ],
       "rows": [
        "[trans_dim_table].[trans_type].[trans_type]",
        "[time_dim_table].[muilti-level date].[Year]"
       ]
      },
      "query": {
       "mdx": "SELECT NON EMPTY Hierarchize(Crossjoin(Hierarchize(Descendants({[trans_dim_table].[trans_type].[ALL].[AllMember]}, 1, SELF_AND_BEFORE)), Hierarchize(Descendants({[time_dim_table].[muilti-level date].[ALL].[AllMember]}, 1, SELF_AND_BEFORE)))) ON ROWS, NON EMPTY {[Measures].[contributors.COUNT], [Measures].[total_price.SUM]} ON COLUMNS FROM [sales_fact_table] CELL PROPERTIES VALUE, FORMATTED_VALUE, BACK_COLOR, FORE_COLOR, FONT_FLAGS",
       "updateMode": "once"
      },
      "serverKey": "default",
      "widgetKey": "pivot-table"
     }
    }
   },
   "outputs": [
    {
     "data": {
      "application/vnd.atoti.widget.v0+json": {
       "sessionId": "1704486346_RJZODK",
       "sessionLocation": {
        "https": false,
        "port": 9092
       },
       "widgetCreationCode": "session.widget"
      },
      "text/html": [
       "<img height=\"352\" width=\"1165\" src=\"data:image/png;base64,iVBORw0KGgoAAAANSUhEUgAABI0AAAFgCAYAAAA2KonPAAAAAXNSR0IArs4c6QAAIABJREFUeF7t3QmYXGd5J/rvVLcWsGxjy4BlbFBsqU5JwsYgNgMBJzeTuZnAZM/NZGASIPsyQ4bcmSwk4WZPSEgme8jlZiH7NgkZMpnMhJjVEDCLF6lOqW1MMLbBGNtIxpbUVef2W7eObqnpllpSt/R11a+ehweru+qc9/zer0uqf3/fd4rkQYAAAQIECBAgQIAAAQIECBAgQGCRQEGEAAECBAgQIECAAAECBAgQIECAwGKBY6FRXdc1HgKTJFAUhVB0khrqWggQIECAAAECBAgQIEDgrAoIjc4qt5OdTQGh0dnUdi4CBAgQIECAAAECBAgQmDQBodGkddT1HBMQGhkMBAgQIECAAAECBAgQIEDg9AWERqdv55WZCwiNMm+Q8ggQIECAAAECBAgQIEAgawGhUdbtUdyZCAiNzkTPawkQIECAAAECBAgQIEBg2gWERtM+Aib4+oVGE9xcl0aAAAECBAgQIECAAAECay4gNFpzYic4VwJCo3Ml77wECBAgQIAAAQIECBAgMAkCQqNJ6KJrWFJAaGRgECBAgAABAgQIECBAgACB0xeYuNDo9ttvT61WK33e533e6aucxVd+9rOfTR/72MfSk570pLRly5Zlz/zP//zPqa7r9JSnPOUsVre+TyU0Wt/9Uz0BAgQIECBAgAABAgQInFuBZUOjt7/97cPKnvOc56RNmzYdV+Vdd92VIpzZsWPHMOzI5RGhSlP3i170olUr69Of/nQ6ePBgevKTn5yK4hjZ5xz/nnvuGX5t27ZtKz73vffem6qqSldeeWW64oorln3du9/97jQYDNILXvCCFR972p8oNJr2EeD6CRAgQIAAAQIECBAgQOBMBJYNjd72trcNj/vYxz42PetZzzruHDEz5o477sguNIoiP/7xjw+Dncsuu+xMXI577Yc+9KH00EMPpec973lpw4YNyx73ne985/B7pxLsCI1WrU2fcyCh0drZOjIBAgQIECBAgAABAgQITL7ASUOjIFg8Cybn0GgtWiY0WgvVtT+m0GjtjZ2BAAECBAgQIECAAAECBCZX4ISh0ezsbJqfnx/O3BlfprZUaHT48OG0b9++4TKuWCb2mMc8ZjgT6eKLL06f+tSn0v79+4f7DF1++eVDzY985CMplrnFc5rlXHNzcymWeO3du3c4w2n8ETOIYnZTHCP++9FHHx3WdeGFF6arr756uI9RPN773vcO//uZz3xmete73jWsI47XPOJ6brzxxnTBBRekpz3tacMvR92xBK3f76e45qh5165dw+/FsrCjR48O/zvOF9+PGUfjj9iX6KabbhouH4tHnL85fpzv1ltvTZ/5zGeGLjMzM+kJT3hCarfbw+c2M41imV/U8MgjjwzPc/7556enPvWpx2Y2LbU8bbzujRs3DpcKxhI6j/9PQGhkJBAgQIAAAQIECBAgQIAAgdMXOGFotHnz5vTEJz4xffSjHz1umdri0CjCkPe85z3pyJEjw+dFsBIhSYQfsbQtAo1YuhVBytOf/vRhtf/0T/80DEgi9Ln22muPfS3CoBe+8IWfc0VRw5133jn8egQvEao8/PDDw0Bn/LhxnghtIthpzvH85z9/WFM8muNE+BQBy80335weeOCBYThz3nnnpUOHDg2DsksuuSTt2bMndbvdYegVgdLjHve44bU0gVJTZFx37EsUoU88InSK64rjv+9970sRKoVl/C9cIlzavn37cFPrJjSK1zVhUzw/jhmB17Of/ezhMReHRhFE3X///cN6wrw5blmW6dJLLz39ETFBrxQaTVAzXQoBAgQIECBAgAABAgQInHWBk4ZGMcMoZu9EmHPVVVcNZwotDo1i1lDc3Sv2Edq5c+fwIu67777hDJ4IWmJGT8zuieCl2e+n2TMpgpLP//zPH74mNrGOACRmCS1+NGFPBEYRCDUziyKsillOz3jGM4ZB0nho1GzY3QQ0ccwmSIpzRmj1/ve/f7jR93Of+9zhKccDsPhafO9MlqdFuBPHaFzinFFDBFRxnU1oFNcT52v2TIq6IhTbvXt3evzjH39caBShUoRR46FSGDSzrE5lT6WzPuLO4gmFRmcR26kIECBAgAABAgQIECBAYOIEVhQaRWAUgUTMHIpg4xOf+MRxG2F/8IMfHM50iSVXEeo0j1iSFjN8YqZPBEgRJEXgE5tK33bbbcOQ6e677x7ORorZPXGcmJ0Ts4CWC43Gg6l4TixVi2VtTTA0Hho1d1NrwpWY4fOOd7xjeGv7WLIWQVcEXovvAtcEVBH0xPnOJDRqriN8ItiJGURRb8wQuu66646FRhEMRUDUPGJ2U2MUdYzPNGpCu61btw6XujWPXq83DOZiptaJ7vI2caN4mQsSGk1Lp10nAQIECBAgQIAAAQIECKyFwIpCozhxE7DEDJlYsjZ+97TYOyhCn+UeL3rRi4ZLt2655ZZhQBOhUYQiMSMmQpyYvRQBTwRAMbMplnEtFxotXn4VYUyETU3oMh4axTGaQCtmFkVAdfvtt6dOpzO8hibIiiVzscStecSyr5ghFMu84nxnEho1s7AWX8/i0Gh8NlQ8N8KlmJ3VLN8bD42aupfzbmZdrcWAWU/HFBqtp26plQABAgQIECBAgAABAgRyE1hxaBSFN/vzRMASYU0zQyc2gY69gGL/ncUzXOLPsTwrHrEk7aKLLho+N2b/RFgTy8tidlI8L2Y0Lbe0qpn9c8UVVwzv5tY8muVdzQylxaFRs0wultbFc2NpV7NnUuyRFMddHEQ1y9qa5XinGxo1S9Hi+qK+2OsoLCIMitAoZm019UeIFWFW84h9lmK/pebr46FRE0SFQ4Rlix9LhW65DbyzUY/Q6GwoOwcBAgQIECBAgAABAgQITKrAKYVGzb45MSsoHk1odODAgeEsniZkabBiVk/s0dPc0StCpzhGLKGKwCMCoNhAOoKT5k5ozR3NFoM3oVEzQ6f5fhNYXXPNNcNAanFoFM+L2UwRpERgFM+J58YjZjxFIBR7IcXsnObRhGOxbC72WPrwhz+cHnzwwWP7Ji03GOLcsQSuCaWa8CnuDtfcLa2ZGdXso9SERs1d2ZrQrdmguwm0xkOjpu5mv6imnuhB3L0uXuPh7mnGAAECBAgQIECAAAECBAgQOBOBUwqN4kRNEDIeGkUQFJs7R2AS++zEEraY4RMzbcb36oklbbEfTzyaO5pFyPGBD3xg+LUIViJgWeoxfve0mKUUs3YigInXjwdJS4VGzZ3G4rgRSkXY0jyajbFjn6P4eszwiQ2om42q43nN0rwIeqK+uOvZUo9mKVwcJ54XYVQcPza5jj+HT4REEbotDo3iePG1uGtbzMSKYCiCpNj3KF6/+O5pzebkcY4IwsIigq3xTb3PZGBMwmvNNJqELroGAgQIECBAgAABAgQIEDhXAqccGkWhzZ29xjeQjtAiwpmjR48eu5YIdq6++upjf26Wa8Xso9gQu3nETKAIVGLfoeauaItBmtAowpfYiDue3wQtMUsogqN4LBUaNcFULBNbvPwtZj1FaBWzkJpHBEixdK6pJZ4T4U/sMxQzgZqZRItrjH2bYvPqqC1mKMVMpZhtFUFb8wiTCHfCYPHytNjnKc4Vj7ieCLjiOPFYHBotVXeEaddee+0xi3M1qHI5r9Aol06ogwABAgQIECBAgAABAgTWo8CyodHpXkyEGTHzKAKM1byDVxMaNbegjwAqgpXxu7Wdbs3N6yI4akKapY7VBDonO2dsCh6B03gAFrOXYoncyV4b+zrFcyJUWukjjh3eywVuKz3OpD1PaDRpHXU9BAgQIECAAAECBAgQIHA2BVY9NFqr4heHRmt1HsedHAGh0eT00pUQIECAAAECBAgQIECAwNkXWDehUWzyHHsixUyjWOLlQeBkAkKjkwn5PgECBAgQIECAAAECBAgQWF5g3YRGmkjgVAWERqcq5vkECBAgQIAAAQIECBAgQOD/FxAaGQ0TKyA0mtjWujACBAgQIECAAAECBAgQOAsCQqOzgOwU50ZAaHRu3J2VAAECBAgQIECAAAECBCZDQGg0GX10FUsICI0MCwIECBAgQIAAAQIECBAgcPoCQqPTt/PKzAWERpk3SHkECBAgQIAAAQIECBAgkLWA0Cjr9ijuTASERmei57UECBAgQIAAAQIECBAgMO0CQqNpHwETfP1CowlurksjQIAAAQIECBAgQIAAgTUXOBYarfmZnIAAAQIECBAgQIAAAQIECBAgQGDdCAiN1k2rFEqAAAECBAgQIECAAAECBAgQOHsCQqOzZ+1MBAgQIECAAAECBAgQIECAAIF1IyA0WjetUiiBzxWoqqqOr5Zl6WfZACFAgAABAgQIECBAgACBVRXwQXNVOR2MwNkVEBqdXW9nI0CAAAECBAgQIECAwDQJCI2mqduudeIEhEYT11IXRIAAAQIECBAgQIAAgWwEhEbZtEIhBE5dQGh06mZeQYAAAQIECBAgQIAAAQIrExAarczJswhkKSA0yrItiiJAgAABAgQIECBAgMBECAiNJqKNLmJaBYRG09p5102AAAECBAgQIECAAIG1FxAarb2xMxBYMwGh0ZrROjABAgQIECBAgAABAgSmXkBoNPVDAMB6Fsg1NGq3299TFMXtVVW9udPp7B0MBk/u9Xr/db1YP/WpT33iYDB4eN++fYeWq7ndbj9pdnb2vn379h1ZL9d1Luq8/PLLH3Peeed9aUrplqqqqtWuod1uf0lRFE+tqup1q33slFLrqquuetKmTZseONFYWIPzOiQBAgQIECBAgACBLAROGBq12+2vSylt7fV6v5pFtSmlsiwvSym9IqX05qqqbs6lrvVWR1mW35ZS+vWU0suqqvr9qH/nzp1Xtlqt21NKf1ZV1deut2uaxnrPdmi0wp+/mbIs704pvS3GUVmWv5ZS+vaqqk45pF7h+Vat9WVZxnvLD6aUrhwd9H2DweDrDhw4cMfoz0W73f6JoihemVJ6Qnytruv/mVJ6ea/X+3j8uSzLH1oIG3601Wpdtn///nvia51OZ2td159KKf1YVVU/XJZlnOPH67r+/F6v987mAsqyrBeO+2tbtmx51aFDh5YLoz5QVdXeVbvo03hfPZW+RLhWFMVdKaXvqarqF1ez7pH376WUvnzLli1bb7rppqOrdfx2u/2dRVH8ytjxbmi1Wl8fPe10OtfXdf2PRVF8dbfb/Yux/n04pXSwqqoX7Ny584WtVuttKaUbqqr6gvG6Op3Oa+u6/pGU0vdVVfUzq1Wz4xAgQIAAAQIECBBYbYETfojrdDr/ra7rp1VVdcVqn/h0j9dut59dFMV7i6L4+m63+0ene5xpf93u3bs39vv9/SmljYcPH9555513PlqWZXz4etlgMNh94MCB+J5H5gJnOzRa6c/f3r17H3v++ecfueGGG+bPJDRa6flWo01lWf7vKaX/nlL6QF3X/6XVal1Y1/UvpZQ+2e/3nzw3N3e4CXuKonjLYDD4/Vartauu6x9OKUWA/YKqqg622+0fLori/0opPamqqgjPUrvdvqQoivvquv7JXq/3g02wlFK6Y2Zm5mnNLJZRaPQbVVV9Z7vd/vZ4bavVekFd1xHgv66u64+mlO7v9Xp/vBrX3BzjVJ1P5flrHRotBHEze/fu3XTTTTd9drVMduzY8fSZmZkPjPr8C0VRtCPMSyn9flVVLyvLMkKgt6aUvraqqj9rztvpdG6r6/rhqqqe3el0XlTX9Q3xvX6/v2Nubi4C+XhEqDof/1EUxQ90u92fWq26HYcAAQIECBAgQIDAagssGxqVZRmzUGI2Sjx6KaWviV9Ix2/HU0r/T0rpu+q6/oXLLrvsl+6+++4fKIrim1NKFxZF8fa6rr8lPix1Op2fr+v6OUVR/G1d19+XUnp3q9V67f79+98TB+10Ot9Y1/X3x2eq+Af4YDD4rhOFFZ1O5+q6rv/X6Df8n6zr+q+KooglL/+lKIrv7Xa7fxPHLcvy7Smlj1VV9W/b7faNKaX3F0VxYfw2OuobDAbf2+v1uvHcHTt27J6Zmfnphd8GX59Sel9d16/t9XrvWG3oHI/X6XS+sq7rvyiK4rvrug6z+C35r8UH1rIsz1/o5y/Eh6KU0keKovjVbrf7hpHvNaPvfeFobPxiVVUxXuLD8Y1FUXwgpRRB4/VVVYV7zJ7wWAOBE4VG8fOSUvqpuq5fGD2Mn93mA+7OnTt3tVqt+LD6hXVd3xY/Q00QMfYzEzNpviSl9KcppQhCYrbMcT9/vV7vW5fqeVmW74hwt9vtvroJjYqi+Na6rn9s4X3l3rquf6o5X1mWsWQpPozH9+Ln96/qun6g1Wq9fqnz7d69e8tgMIjvfVlK6cGiKP642+1GSDNo3nNiPBdF8V2DweBfjD6c/2JRFM8dhTs/FMvmFrejLMt/TCnFDJ5OE/aUZfnSlNKbiqJ4SavV+vt+v384QqWZmZnrmmVpZVn+h5TSL9Z1/W/imk4xNIoyfr2qqu8YXXv8rERoNAyMRl+L2U9vLIrimd1u96bVHkZLva9GX5cbI8s9vyzLJd8XTiU02rFjx1UzMzPx98VvF0Xxr1JK18bMxy1btnx3hEJL9bfVan1FjOMIakZ/r3xVXdffk1J6fszyKYri33e73VtGljFm/s+UUtT6dwvj51VNr8dd2+32NxdFEe93cdwYF/H3VRz38VVV/caphkbx8zM2vuN98x9G41JotNoD2vEIECBAgAABAgRWVeBEodG/jt9sp5S2FUXxg61W68/m5+dfMvqH9MGU0m8PBoO/abVaF8WHyrquf2W0BCECmD+MwKYsyz9YCBW+fvQP9w+O/iH/1qqq/rfRh4O5+EBW1/VbiqL4uZTSPc0//Je6ythnZH5+/j+PjvOHcd7Dhw+/LfabiCCrqqpXlmUZwVZ3FCL9fFmWn0kpnR9LSFqt1q3x2qIo9l166aVPu+uuux47MzMTH5jjN9SxbOLfxoeJ+fn5PbfffvvHVlU6z4PFUpt3F0WxJwKz+IA0MzOzbd++ffeWZfnnC3uQxIekV4++/4r44Nztdt9SlmUEbrN1Xb++KIqvjNf1+/09c3Nz+xrv0W/h31dVVYSCQqM16v9yodHVV1990ZEjR4bB6ML4//mF4PTFCx9UP39mZuapjz766F0bNmy4NWaZpZRen1KKGTYRmg4/II/18I0ppcfEz3C8B8zOzr5x8c9fVVV/vVTPF5Y/3rsw8+Z/jd4HhsvTYlZNURTxXhFBzOUppZjFeHPMrqnr+pd7vd6/H32wj/DyUxs2bPj6pc7X6XT+sq7rCAoiwN62EBDHUrEIgn587D0ngu6/np+ff8Ps7Oy7Ukp3FUXxExFop5T+5caNGy++5ZZb4n2jeRRlWT4U47aqqi8f+3rrmmuuecyGDRuOHDp0aFcEq3Vd/8derxeB6vCxe/fuS/v9fixD+5mqqr7vFEOj34hwviiKf9ntdv9+bKbRWQuNlnpfPXr06A3LjZENGzbsW6Ivb17ufaHVaj200uVpo6BqX7jWdf2GoigeNwqumzC7+Ttl2N9+v/+brVbrh+J9qKqqC3bt2vXcwWBwY13X7ymK4q/ilxsxzrdt2/ake++992l1Xb8/ZpPVdf3fiqKI5WF3VVX1zMXvUc1xRuMmAsd/3L9//web551KaBSzlUYzdp8SwWa73f6doigujXFoptEavTE6LAECBAgQIECAwKoJnNLytLHfvn55fFiMKmIZysGDB2MpykMPPvjgRbOzs/Eb3SOxpG3sA9wFo2Ub8Y/lb9iyZct5Dz/88LV1XceHud/o9/s/9+ijj969efPmDXNzcxHyLPtYalnE6EPkFy3sl/G4drsdH8B+dTAYXBX7kIw+0N63ZcuWTux30W63f6Qoite2Wq32/Pz8U1qtVuxH8opWq/XW0Z/fVtf1v+v1em9aNeWMD9TpdJ436kMslfjBbrf7k9dcc815hw8fjg2A3xQfyOq6Luq6/khd17/b6/W+MZbabN68+ZFDhw7Nzs7Oxia0sUxwuExj5P2RhfHx9PiAlPGlT0Rpy4VGnU7ni+u6/h91XX9lbEAde+oMBoPvjNkVC2HfBaNx/zVVVf359u3bHxfBaxPcRA9j9lGv17sukMqy/ERKKfYwfuFSP39L9Xz0muNCo36//4y5ubkPlmUZH9JjVt8wfFkuNIpwefH5YpZRv98/GCF1r9f77qhvNNPp4qqqIjMehgrz8/NPvP322z85WoYZs4PeVRTFfzh06NC+jRs3brzjjjtifPebQXDVVVc9YXZ2Nq7zl6qqiplDn/Not9tfURRFBFZD0/EnjMKev47A6VRCow0bNlw6Pz//1oXruWTjxo2dI0eOfPpszzQaGR637Hfnzp1fdKIxstQ4WO59oa7rCKZXtKdRExrVdf07vV7v5aPxF7Mgy4XZjE9c3N9R7fH3yjA0Gu039QPheuutt35i165dz+j3+y/euHHjbx49ejTG/w9FwL1hw4aHB4PBy2KPqebvisUN73Q6MTPuR5u9q0ah58u63e67TyU0GoVefzoYDGK52odmZmYeillp8b4pNJqIt2EXQYAAAQIECBCYaIHTDY1i+cbwLjidTmf7YDCI3wgPl4E0j9j0dvQP/Ahznjj6x/9wg9jDhw9ftH379kP33HNP/JY9ZgnEIzaa/c/xIfZE4st8aI2lc38aH0pnZ2d/rK7rJzQzlkYfaP+u2di5LMuYQRWBV4QdO+KD8uLzFUXx091uN2bITMWjLMtYKvGFmzZt2nLzzTc/3OznscTFDzfgLcsylndEL2MJ2/ARe670er0/GXn/VVVV/24q8M7xRZ4gNIrlo79c1/WuZilmU2qn0xl+r5kdNvrZjP1W/jk27F3cw9GyrQh+954gNDqu50uFRtu2bdsQexyNBTnN7JElZxotFRqN7TXzrWPLJYdLabds2bLx0KFDv5NSOvaeM7q2mLUTs53iEYHTz/d6vVgKNx5qLjfT6FiHR8uvVjzTqN/vXzE3NxdhSYrZPEePHo1lecftaXT06NHHtVqtK2P/nAhlI1TPITQ62RhZZhws+b6w0I93nkZo9J29Xm/Ys3a7/XNFUbx6YVbcBWGzuL+jmTvD0GjsFwjx3OMeZVnGksSXLP56Xdf/qtfrxV5Wn/O4/vrrZz/+8Y/vbbVaMaPyP8X+VqPwarinUbMksXnhaKnlQ+N7GsWywrqufzaWiI6WTf5u/OLk0KFDDwuNzvEbqNMTIECAAAECBAicVOC0QqOYpbN///4Do3/Qx94T3xibwB4+fPi2TZs2xZ1ktldVddWJQqM777zzwXj9jh07Hj8zM/OiWNoRdyzq9/ubY8PZ5SpvPqyM3/WrmX0Qm8/GHWliSVWv14tlNzFLImYuxcyX2BujLsvyVbEfz8KMgdjTYntd12+OPV8++9nPxrKF4WPHjh1H48PtSfUm5AllWf7JaKbQcDzs2bPn4vn5+ftTSq95+OGHh47x2Lx582DTpk1XzM/PH4ilIxs2bPiJI0eOtGNGgtDo3AyGE4RGL4mx3Sx72r59++bNmzd/Ub/f3zczM7O7ruu/ab7XhDhFUfxWt9v9lpWERuM/f0sFhUuFRs2Mjj179uwYjaHv7/V6Pz2apXPsjn2j1946Hho152vGZhO+jH7GY2+aPWOzG48LjeI5MSPy0KFDzxntZxP7NMWm1THT8dhjqT2NOp3Oi+u6fuNgMHjFhg0b/udSexq12+1Y8hp7LDV7Gr2sKIrfGw8jFvZZa/ax+aaFOt/YbIQdodEdd9zxULPB9qiYs7qn0eh9fDjTqHEeXfeyY2Tx+/BYTz/nfeF0QqOFPeh+odvt/sdRfyPsif3RLlj8d8qo9vGZRscCppjdGnd5K4riGfPz829vtVqxL9erZ2Zmzv/MZz5zbJbZXXfdFX/fHDcrstPpvGQwGDz9/PPP/6nmjmzN+2SE64888sgT406T479gaP4eajbLbjbCHoVGsbQxZq/GMuCbYs+qGPdCo3PzvumsBAgQIECAAAECKxc4YWjUbrd/syiK2APkmzZu3PiXhw8f/urY02g8NGr+IT0YDF5cFEXsf/RbMWvoZKHRpk2bYnPeuNX7j8/MzLyl3+/HXYqetW3btotPFNjs2bPnyfPz83EHof+xaFPtPxrdYSiu/sqqqmLj3yY0ij2NfqXVat1S13XsnfRI3A1p48aNF432IolNe2MZVmyk+rNFUXxVt9v9y5Uzru9nLg6NRm7/tLBv1VPiw/LCRuGbF2Zv/VpRFH/QarXe2O/3Yz+c3x8MBr9VFMVrYpaZ0OjcjIHlQqOxfXZujh6NNo1+ZavVum5mZuYjMetltCn0Dy8smYkN4iP4HV9ieGzm0PhMo6V+/lYaGo2WiP3fdV1/02iT4mFwU5Zl7GF0TVEU3zYYDJ5SFEXM8hvufbbM+WJsPisCjqIonjj6mR7f8+ZYaLRr165tg8EgZkX+VavV+tnRkqT/FKFxbI4cM1MGg8FnYtlls6QvNrpe2PQ7ZmnFfk7D26Fv2bLl0tiIeeGuV6+JJU2jfWpiWWYnwtWwnJmZeX7cBW3Xrl3xc3NnzEqJW6ov7J0TM6liZtPls7OzO2+77ba5xaFRzGi555573j26rrMeGi12PtkYWfz8hTDm4HLvC6cTGoV5LF+M2UWxnDil9BdVVX31CkKjmEH6tzHztCiKNw0Ggx+MPdmif4cOHYq/c2JGUcxgij3xvjXGUNzlrq7rI61W622xIXzMYGu32183WnYbx/i9Vqv15NG+d92xWawxruImDnGTh5gpGzeOiHDwpVVV/cGi0Cj2YGqWXjfjXmh0bt42nZUAAQIECBAgQOAUBE4WGj1rYcPOWA7wjFGg8rQIhcZDo9gzYjAYxD/E405LN9d1/dmiKGJ52FIzjYYfuGJ52sI/tB/dtGnTr8Z+QqN6PxkBxYEDB95ysvrLsowNemNj5rfmz7QtAAAgAElEQVR0u93Y4DeWMAz3G4nf5I5vpj36QPvOlNIlow9kdwwGg5cfOHAg9smIUCn+kR/LW+If//FBJZauxDKEqdmPZxQafUn8Jr+xH93xKGYgxR2I4vHfZ2dnX3rbbbc9MLob1vDOerH3SAQOQqOTjdq1+f6J7p422pfmNyNEHZ39NVVV/cRo3MfymvjZjnEfG9u/buzuTvHhdsnQaPTa437+VhAaxc/5d8TskdEm9rFELJZpxab5aefOnV/aarUigInljnEb88vj1vK9Xu+LlznfZaM7ujVj888efvjhb7jrrrseWSpUaJZajXWguZNVLEmLzcIPxdK70bliH53YxyY26o59vmLT56+JTd5Hr4/XxF3n4nnxnhc/A7Ev2st7vd7Hm3OM9rz547H9cD5ZFEXsh/P3o/MM3wubmUYjh7ijXZznrIdGyzgvO0aWeP5LlntfKIoi7kYZNt+zsO9c3HBg2cfYRtgxxmIp2RNiU+vZ2dmvGG3QH3tWHTeTbHx5Why40+l8b13XPzwaT3GXzW9slp+NZoXFnfZirMW4/46qqn6/LMvPGwU/w83MI8S7++67f3QUYDb1fmBhpt7Xzs3NxVLOdNVVV10xOzsbM2sjwIzH4nH9wgiiWq3W3v3793+g3W7HrNwXLpxvx2jWq9Bobd4WHZUAAQIECBAgQGAVBU4YGo2dZ2Z809ilzn/llVdeGMssTrW2vXv3bnj00UfPv+2222ID2Ah/4jfFz1vmOAerqoq9IeLRGv3/YMeOHZtmZ2dfXdd1fCB+RVVVv928fvwD7Y4dOy5YbqPtuNvUxo0bDzVLEU71Oib1+bEp9oYNG+qYZTF+jZdffvljYrnaiZYSTqpJTtd1otCoqTPG9i233BJB0LElOc33YhPsO++8M35uT/UOd8d+/k7FI8bNMss/Z/bs2XNh8z6wxDE/53yx5OyRRx6Z37dv35EV1BB3Cty6cIe2eJ85FgjH+8/5559fL57dGIHAhg0bPtvtdmOZ5lKPYufOnZ93wQUX3Lv4Z2P8ybE8Kv681G3dV1DzuXjK5zifZIwc9/yTvS+c7P19dEfOCM7iffx3y7I8L5aZnQZEsWfPnouWGU9Fp9O5uNvtxt3zjo2FqD2Cx/Fzjf5+ihsm3L/obnvHnhZ/97VarUvm5uZiduvU/LLhNHriJQQIECBAgAABAutQYKWh0Vm7tNHeHsNbby/xiNsjD2cEjD9Gd096bsyG2bJly5eNBz82Zj5rrXOicyCwktDoHJTllASWFDjZ+/tgMHjpaLbVceE/TgIECBAgQIAAAQIEzo1AdqHR6TDs2rXrqUePHn1kqd/0xm/6Z2dnHz3BDIbTOaXXEMhCQGiURRsUsUoCsSzsrrvuuvSxj33sA3Enx1U6rMMQIECAAAECBAgQIHCaAhMRGp3mtXsZgXUvIDRa9y10AQQIECBAgAABAgQIEMhWQGiUbWsURuDkAkKjkxt5BgECBAgQIECAAAECBAicnoDQ6PTcvIpAFgJCoyzaoAgCBAgQIECAAAECBAhMpIDQaCLb6qKmRUBoNC2ddp0ECBAgQIAAAQIECBA4+wJCo7Nv7owEVk1AaLRqlA5EgAABAgQIECBAgAABAosEjoVGzYdPQgQInBuBCy+8MF188cWnfPKDBw+mT33qU6f8Oi8gQGDyBMqy9MugyWurKyJAgAABAgQInDMBodE5o3diAscLCI2MCAIEzlRAaHSmgl5PgAABAgQIECAwLuA3ksYDgUwE7r333nqpmUaDwSDVdT2ssiiK1Gq1jqs4Zhpt3brVz3ImfVQGAQIECBAgQIAAAQIEJkXAB81J6aTrWPcCS4VGDz30UPrkJz95bPnZJZdckp7whCekmJXUPIRG6771LoAAAQIECBAgQIAAAQJZCgiNsmyLoqZRYHFo9OlPfzp99KMfTY8++uhxHJs3b05PecpTju1/JDSaxtHimgkQIECAAAECBAgQILD2AkKjtTd2BgIrElgcGh04cGDZDa5jxtHOnTuHxxUarYjXkwgQIECAAAECBAgQIEDgFAWERqcI5ukE1kpgPDTq9/vplltuSY888siSp3vMYx6Trr32WqHRWjXDcQkQIECAAAECBAgQIEAgCY0MAgKZCCyeaXTjjTeesLLrrrtOaJRJ75RBgAABAgQIECBAgACBSRQQGk1iV13TuhQQGq3LtimaAAECBAgQIECAAAECEysgNJrY1rqw9SYgNFpvHVMvAQIECBAgQIAAAQIEJltAaDTZ/XV160hAaLSOmqVUAgQIECBAgAABAgQITIGA0GgKmuwS14eA0Gh99EmVBAgQIECAAAECBAgQmBYBodG0dNp1Zi8gNMq+RQokQIAAAQIECBAgQIDAVAkIjaaq3S42ZwGhUc7dURsBAgQIECBAgAABAgSmT0BoNH09d8WZCgiNMm2MsggQIECAAAECBAgQIDClAkKjKW28y85PQGiUX09URIAAAQIECBAgQIAAgWkWEBpNc/dde1YCQqOs2qEYAgQIECBAgAABAgQITL2A0GjqhwCAXASERrl0Qh0ECBAgQIAAAQIECBAgEAJCI+OAQCYCQqNMGqEMAgQIECBAgAABAgQIEBgKCI0MBAKZCAiNMmmEMggQIECAAAECBAgQIEBAaGQMEMhJQGiUUzfUQoAAAQIECBAgQIAAAQJmGhkDBDIREBpl0ghlECBAgAABAgQIECBAgMBQQGhkIBDIREBolEkjlEGAAAECBAgQIECAAAECQiNjgEBOAkKjnLqhFgIECBAgQIAAAQIECBAw08gYIJCJgNAok0YogwABAgQIECBAgAABAgSGAkIjA4FAJgJCo0waoQwCBAgQIECAAAECBAgQEBoZAwRyEhAa5dQNtRAgQIAAAQIECBAgQICAmUbGAIFMBIRGmTRCGQQIECBAgAABAgQIECAwFBAaGQgEMhEQGmXSCGUQIECAAAECBAgQIECAgNDIGCCQk4DQKKduqIUAAQIECBAgQIAAAQIEzDQyBghkIiA0yqQRyiBAgAABAgQIECBAgACBoYDQyEAgkImA0CiTRiiDAAECBAgQIECAAAECBIRGxgCBnASERjl1Qy0ECBAgQIAAAQIECBAgYKaRMUAgEwGhUSaNUAYBAgQIECBAgAABAgQIDAWERgYCgUwEhEaZNEIZBAgQIECAAAECBAgQICA0MgYI5CQgNMqpG2ohQIAAAQIECBAgQIAAATONjAECmQgIjTJphDIIECBAgAABAgQIECBAYCggNDIQCGQiIDTKpBHKIECAAAECBAgQIECAAAGhkTFAICcBoVFO3VALAQIECBAgQIAAAQIECJhpZAwQyERAaJRJI5RBgAABAgQIECBAgAABAkMBoZGBQCATAaFRJo1QBgECBAgQIECAAAECBAgIjYwBAjkJCI1y6oZaCBAgQIAAAQIECBAgQMBMI2OAQCYCQqNMGqEMAgQIECBAgAABAgQIEBgKCI0MBAKZCAiNMmmEMggQIECAAAECBAgQIEBAaGQMEMhJQGiUUzfUQoAAAQIECBAgQIAAAQJmGhkDBDIREBpl0ghlECBAgAABAgQIECBAgMBQQGhkIBDIREBolEkjlEGAAAECBAgQIECAAAECQiNjgEBOAkKjnLqhFgIECBAgQIAAAQIECBAw08gYIJCJgNAok0YogwABAgQIECBAgAABAgSGAkIjA4FAJgJCo0waoQwCBAgQIECAAAECBAgQEBoZAwRyEhAa5dQNtRAgQIAAAQIECBAgQICAmUbGAIFMBIRGmTRCGQQIECBAgAABAgQIECAwFBAaTctA+Nf1ZdNyqev1Ou99wyc+fvHFFx8r/8YbbzzhpVx33XXD7x88eDBt3brVz/J6bby6CRAgQIAAAQIECBAgkKmAD5qZNmbVyxIarTrpah9QaLTaoo5HgAABAgQIECBAgAABAmciIDQ6E7319FqhUfbdEhpl3yIFEiBAgAABAgQIECBAYKoEhEbT0m6hUfadFhpl3yIFEiBAgAABAgQIECBAYKoEhEbT0m6hUfadFhpl3yIFEiBAgAABAgQIECBAYKoEhEbT0m6hUfadFhpl3yIFEiBAgAABAgQIECBAYKoEhEbT0m6hUfadFhpl3yIFEiBAgAABAgQIECBAYKoEhEbT0m6hUfadFhpl3yIFEiBAgAABAgQIECBAYKoEhEbT0m6hUfadFhpl3yIFEiBAgAABAgQIECBAYKoEhEbT0m6hUfadFhpl3yIFEiBAgAABAgQIECBAYKoEhEbT0m6hUfadFhpl3yIFEiBAgAABAgQIECBAYKoEhEbT0m6hUfadFhpl3yIFEiBAgAABAgQIECBAYKoEhEbT0m6hUfadFhpl3yIFEiBAgAABAgQIECBAYKoEhEbT0m6hUfadFhpl3yIFEiBAgAABAgQIECBAYKoEhEbT0m6hUfadFhpl3yIFEiBAgAABAgQIECBAYKoEhEbT0m6hUfadFhpl3yIFEiBAgAABAgQIECBAYKoEhEbT0m6hUfadFhpl3yIFEiBAgAABAgQIECBAYKoEhEbT0m6hUfadFhpl3yIFEiBAgAABAgQIECBAYKoEhEbT0m6hUfadFhpl3yIFEiBAgAABAgQIECBAYKoEhEbT0m6hUfadFhpl3yIFEiBAgAABAgQIECBAYKoEhEbT0m6hUfadFhpl3yIFEiBAgAABAgQIECBAYKoEhEbT0m6hUfadFhpl3yIFEiBAgAABAgQIECBAYKoEhEbT0m6hUfadFhpl3yIFEiBAgAABAgQIECBAYKoEhEbT0m6hUfadFhpl3yIFEiBAgAABAgQIECBAYKoEhEbT0m6hUfadFhpl3yIFEiBAgAABAgQIECBAYKoEhEZT1W4Xm7PAvffeW1988cXHSrzxxhtPWO511103/P7BgwfT1q1b/Szn3Fy1ESBAgAABAgQIECBAYB0K+KC5Dpum5MkUEBpNZl9dFQECBAgQIECAAAECBNargNBovXZO3RMnIDSauJa6IAIECBAgQIAAAQIECKxrAaHRum6f4idJQGg0Sd10LQQIECBAgAABAgQIEFj/AkKj9d9DVzAhAkKjCWmkyyBAgAABAgQIECBAgMCECAiNJqSRLmP9CwiN1n8PXQEBAgQIECBAgAABAgQmSUBoNEnddC3rWkBotK7bp3gCBAgQIECAAAECBAhMnIDQaOJa6oLWq4DQaL12Tt0ECBAgQIAAAQIECBCYTAGh0WT21VWtQwGh0TpsmpIJECBAgAABAgQIECAwwQJCowlurktbXwKLQ6P3ve99aX5+fsmLmJ2dTc961rOG3zt48GDaunWrn+X11W7VEiBAgAABAgQIECBAIHsBHzSzb5ECp0VgcWg0NzeX7rvvviUv//GPf3zasWOH0GhaBofrJECAAAECBAgQIECAwDkQEBqdA3SnJLCUwOLQ6IEHHkgHDhxI/X7/uKfPzMyknTt3posuukhoZCgRIECAAAECBAgQIECAwJoJCI3WjNaBCZyawOLQKF4dwdH9998//P94RFC0devWY4FRfM3ytFNz9mwCBAgQIECAAAECBAgQWJmA0GhlTp5FYM0FlgqNVnJSodFKlDyHAAECBAgQIECAAAECBE5VQGh0qmKeT2CNBIRGawTrsAQIECBAgAABAgQIECBwWgJCo9Ni8yICqy8gNFp9U0ckQIAAAQIECBAgQIAAgdMXEBqdvp1XElhVAaHRqnI6GAECBAgQIECAAAECBAicoYDQ6AwBvZzAagkIjVZL0nEIECBAgAABAgQIECBAYDUEhEaroegYBFZBQGi0CogOQYAAAQIECBAgQIAAAQKrJiA0WjVKByJwZgJCozPz82oCBAgQIECAAAECBAgQWF0BodHqejoagdMWEBqdNp0XEiBAgAABAgQIECBAgMAaCAiN1gDVIQmcjoDQ6HTUvIYAAQIECBAgQIAAAQIE1kpAaLRWso5L4BQFhEanCObpBAgQIECAAAECBAgQILCmAkKjNeV1cAIrFxAardzKMwkQIECAAAECBAgQIEBg7QWERmtv7AwEViQgNFoRkycRIECAAAECBAgQIECAwFkSEBqdJWinIXAyAaHRyYR8nwABAgQIECBAgAABAgTOpoDQ6GxqOxeBEwgIjQwPAgQIECBAgAABAgQIEMhJQGiUUzfUMtUCQqOpbr+LJ0CAAAECBAgQIECAQHYCQqPsWqKgaRUQGk1r5103AQIECBAgQIAAAQIE8hQQGuXZF1VNoYDQaAqb7pIJECBAgAABAgQIECCQsYDQKOPmKG26BIRG09VvV0uAAAECBAgQIECAAIHcBYRGuXdIfVMjIDSamla7UAIECBAgQIAAAQIECKwLAaHRumiTIqdBQGg0DV12jQQIECBAgAABAgQIEFg/AkKj9dMrlU64gNBowhvs8ggQIECAAAECBAgQILDOBIRG66xhyp1cAaHR5PbWlREgQIAAAQIECBAgQGA9CgiN1mPX1DyRAkKjiWyriyJAgAABAgQIECBAgMC6FRAardvWKXzSBIRGk9ZR10OAAAECBAgQIECAAIH1LSA0Wt/9U/0ECQiNJqiZLoUAAQIECBAgQIAAAQITICA0moAmuoTJEBAaTUYfXQUBAgQIECBAgAABAgQmRUBoNCmddB3rXkBotO5b6AIIECBAgAABAgQIECAwUQJCo4lqp4tZzwJCo/XcPbUTIECAAAECBAgQIEBg8gSERpPXU1e0TgWERuu0ccomQIAAAQIECBAgQIDAhAoIjSa0sS5r/QkIjdZfz1RMgAABAgQIECBAgACBSRYQGk1yd13buhIQGq2rdimWAAECBAgQIECAAAECEy8gNJr4FrvA9SIgNFovnVInAQIECBAgQIAAAQIEpkNAaDQdfXaV60BAaLQOmqREAgQIECBAgAABAgQITJGA0GiKmu1S8xYQGuXdH9URIECAAAECBAgQIEBg2gSERtPWcdebrYDQKNvWKIwAAQIECBAgQIAAAQJTKSA0msq2u+gcBYRGOXZFTQQIECBAgAABAgQIEJheAaHR9PbelWcmIDTKrCHKIUCAAAECBAgQIECAwJQLCI2mfAC4/HwEhEb59EIlBAgQIECAAAECBAgQIJCS0MgoIJCJgNAok0YogwABAgQIECBAgAABAgSGAkIjA4FAJgJCo0waoQwCBAgQIECAAAECBAgQEBoZAwRyEhAa5dQNtRAgQIAAAQIECBAgQICAmUbGAIFMBIRGmTRCGQQIECBAgAABAgQIECAwFBAaGQgEMhEQGmXSCGUQIECAAAECBAgQIECAgNDIGCCQk4DQKKduqIUAAQIECBAgQIAAAQIEzDQyBghkIiA0yqQRyiBAgAABAgQIECBAgACBoYDQyEAgkImA0CiTRiiDAAECBAgQIECAAAECBIRGxgCBnASERjl1Qy0ECBAgQIAAAQIECBAgYKaRMUAgEwGhUSaNUAYBAgQIECBAgAABAgQIDAWERgYCgUwEhEaZNEIZBAgQIECAAAECBAgQICA0MgYI5CQgNMqpG2ohQIAAAQIECBAgQIAAATONjAECmQgIjTJphDIIECBAgAABAgQIECBAYCggNDIQCGQiIDTKpBHKIECAAAECBAgQIECAAAGhkTFAICcBoVFO3VALAQIECBAgQIAAAQIECJhpZAwQyERAaJRJI5RBgAABAgQIECBAgAABAkMBoZGBQCATAaFRJo1QBgECBAgQIECAAAECBAgIjYwBAjkJCI1y6oZaCBAgQIAAAQIECBAgQMBMI2OAQCYCQqNMGqEMAgQIECBAgAABAgQIEBgKCI0MBAKZCAiNMmmEMggQIECAAAECBAgQIEBAaGQMEMhJQGiUUzfUQoAAAQIECBAgQIAAAQJmGhkDBDIREBpl0ghlECBAgAABAgQIECBAgMBQQGhkIBDIREBolEkjlEGAAAECBAgQIECAAAECQiNjgEBOAkKjnLqhFgIECBAgQIAAAQIECBAw08gYIJCJgNAok0YogwABAgQIECBAgAABAgSGAkIjA4FAJgJCo0waoQwCBAgQIECAAAECBAgQEBoZAwRyEhAa5dQNtRAgQIAAAQIECBAgQICAmUbGAIFMBIRGmTRCGQQIECBAgAABAgQIECAwFBAaGQgEMhEQGmXSCGUQIECAAAECBAgQIECAgNDIGCCQk4DQKKduqIUAAQIECBAgQIAAAQIEzDQyBghkIiA0yqQRyiBAgAABAgQIECBAgACBoYDQyEAgkImA0CiTRiiDAAECBAgQIECAAAECBIRGxgCBnASERjl1Qy0ECBAgQIAAAQIECBAgYKaRMUAgEwGhUSaNUAYBAgQIECBAgAABAgQIDAWERgYCgUwEhEaZNEIZBAgQIECAAAECBAgQICA0MgYI5CQgNMqpG2ohQIAAAQIECBAgQIAAATONjAECmQgIjTJphDIIECBAgAABAgQIECBAYCggNDIQCGQiIDTKpBHKIECAAAECBAgQIECAAAGhkTFAICcBoVFO3VALAQIECBAgQIAAAQIECJhpZAwQyERAaJRJI5RBgAABAgQIECBAgAABAkMBoZGBQCATAaFRJo1QBgECBAgQIECAAAECBAgIjYwBAjkJCI1y6oZaCBAgQIAAAQIECBAgQMBMI2OAQCYCQqNMGqEMAgQIECBAgAABAgQIEBgKCI0MBAKZCAiNMmmEMggQIECAAAECBAgQIEBAaGQMEMhJQGiUUzfUQoAAAQIECBAgQIAAAQJmGhkDBDIREBpl0ghlECBAgAABAgQIECBAgMBQQGhkIBDIREBolEkjlEGAAAECBAgQIECAAAECQiNjgEBOAkKjnLqhFgIECBAgQIAAAQIECBAw08gYIJCJgNAok0YogwABAgQIECBAgAABAgSGAkIjA4FAJgJCo0waoQwCBAgQIECAAAECBAgQEBoZAwRyEhAa5dQNtRAgQIAAAQIECBAgQICAmUbGAIFMBIRGmTRCGQQIECBAgAABAgQIECAwFBAaGQgEMhEQGmXSCGUQIECAAAECBAgQIECAgNDIGCCQk4DQKKduqIUAAQIECBAgQIAAAQIEzDQyBghkIiA0yqQRyiBAgAABAgQIECBAgACBoYDQyEAgkImA0CiTRiiDAAECBAgQIECAAAECBIRGxgCBnASERjl1Qy0ECBAgQIAAAQIECBAgYKaRMUAgEwGhUSaNUAYBAgQIECBAgAABAgQIDAWERgYCgUwEhEaZNEIZBAgQIECAAAECBAgQICA0MgYI5CQgNMqpG2ohQIAAAQIECBAgQIAAATONjAECmQgIjTJphDIIECBAgAABAgQIECBAYCggNDIQCGQiIDTKpBHKIECAAAECBAgQIECAAAGhkTFAICcBoVFO3VALAQIECBAgQIAAAQIECJhpZAwQyERAaJRJI5RBgAABAgQIECBAgAABAkMBoZGBQCATAaFRJo1QBgECBAgQIECAAAECBAgIjYwBAjkJCI1y6oZaCBAgQIAAAQIECBAgQMBMI2OAQCYCQqNMGqEMAgQIECBAgAABAgQIEBgKCI0MBAKZCAiNMmmEMggQIECAAAECBAgQIEBAaGQMEMhJQGiUUzfUQoAAAQIECBAgQIAAAQJmGhkDBDIREBpl0ghlECBAgAABAgQIECBAgMBQQGhkIBDIREBolEkjlEGAAAECBAgQIECAAAECQiNjgEBOAkKjnLqhFgIECBAgQIAAAQIECBAw08gYIJCJgNAok0YogwABAgQIECBAgAABAgSGAkIjA4FAJgJCo0waoQwCBAgQIECAAAECBAgQEBoZAwRyEhAa5dQNtRAgQIAAAQIECBAgQICAmUbGAIFMBIRGmTRCGQQIECBAgAABAgQIECAwFBAaGQgEMhEQGmXSCGUQIECAAAECBAgQIECAgNDIGCCQk4DQKKduqIUAAQIECBAgQIAAAQIEzDQyBghkIiA0yqQRyiBAgAABAgQIECBAgACBoYDQyEAgkImA0CiTRiiDAAECBAgQIECAAAECBIRGxgCBnASERjl1Qy0ECBAgQIAAAQIECBAgYKaRMUAgEwGhUSaNUAYBAgQIECBAgAABAgQIDAWERgYCgUwEhEaZNEIZBAgQIECAAAECBAgQICA0MgYI5CQgNMqpG2ohQIAAAQIECBAgQIAAATONjAECmQgIjTJphDIIECBAgAABAgQIECBAYCggNDIQCGQiIDTKpBHKIECAAAECBAgQIECAAAGhkTFAICcBoVFO3VALAQIECBAgQIAAAQIECJhpZAwQyERAaJRJI5RBgAABAgQIECBAgAABAkMBoZGBQCATAaFRJo1QBgECBAgQIECAAAECBAgIjYwBAjkJCI1y6oZaCBAgQIAAAQIECBAgQMBMI2OAQCYCQqNMGqEMAgQIECBAgAABAgQIEBgKCI0MBAKZCAiNMmmEMggQIECAAAECBAgQIEBAaGQMEMhJQGiUUzfUQoAAAQIECBAgQIAAAQJmGhkDBDIREBpl0ghlECBAgAABAgQIECBAgMBQQGhkIBDIREBolEkjlEGAAAECBAgQIECAAAECQiNjgEBOAkKjnLqhFgIECBAgQIAAAQIECBAw08gYIJCJgNAok0YogwABAgQIECBAgAABAgSGAkIjA4FAJgJCo0waoQwCBAgQIECAAAECBAgQEBoZAwRyEhAa5dQNtRAgQIAAAQIECBAgQICAmUbGAIFMBIRGmTRCGQQIECBAgAABAgQIECAwFBAaGQgEMhEQGmXSCGUQIECAAAECBAgQIECAgNDIGCCQk4DQKKduqIUAAQIECBAgQIAAAQIEzDQyBghkIiA0yqQRyiBAgAABAgQIECBAgACBoYDQyEAgkImA0CiTRiiDAAECBAgQIECAAAECBIRGxgCBnASERjl1Qy0ECBAgQIAAAQIECBAgYKaRMUAgEwGhUSaNUAYBApWe/3sAAAt7SURBVAQIECBAgAABAgQIDAWERgYCgUwEhEaZNEIZBAgQIECAAAECBAgQICA0MgYI5CQgNMqpG2ohQIAAAQIECBAgQIAAATONjAECmQgIjTJphDIIECBAgAABAgQIECBAYCggNDIQCGQiIDTKpBHKIECAAAECBAgQIECAAAGhkTFAICcBoVFO3VALAQIECBAgQIAAAQIECJhpZAwQyERAaJRJI5RBgAABAgQIECBAgAABAkMBoZGBQCATAaFRJo1QBgECBAgQIECAAAECBAgIjYwBAjkJCI1y6oZaCBAgQIAAAQIECBAgQMBMI2OAQCYCQqNMGqEMAgQIECBAgAABAgQIEBgKCI0MBAKZCAiNMmmEMggQIECAAAECBAgQIEBAaGQMEMhJQGiUUzfUQoAAAQIECBAgQIAAAQJmGhkDBDIREBpl0ghlECBAgAABAgQIECBAgMBQQGhkIBDIREBolEkjlEGAAAECBAgQIECAAAECQiNjgEBOAkKjnLqhFgIECBAgQIAAAQIECBAw08gYIJCJgNAok0YogwABAgQIECBAgAABAgSGAkIjA4FAJgJCo0waoQwCBAgQIECAAAECBAgQEBoZAwRyEhAa5dQNtRAgQIAAAQIECBAgQICAmUbGAIFMBIRGmTRCGQQIECBAgAABAgQIECAwFBAaGQgEMhEQGmXSCGUQIECAAAECBAgQIECAgNDIGCCQk4DQKKduqIUAAQIECBAgQIAAAQIEzDQyBghkIiA0yqQRyiBAgAABAgQIECBAgACBoYDQyEAgkImA0CiTRiiDAAECBAgQIECAAAECBIRGxgABAgQIECBAgAABAgQIECBAgMDSAmYaGRkECBAgQIAAAQIECBAgQIAAAQKfIyA0MigIECBAgAABAgQIECBAgAABAgSERsYAAQIECBAgQIAAAQIECBAgQIDAyQXMNDq5kWcQIECAAAECBAgQIECAAAECBKZOQGg0dS13wQQIECBAgAABAgQIECBAgACBkwsIjU5u5BkECBAgQIAAAQIECBAgQIAAgakTEBpNXctdMAECBAgQIECAAAECBAgQIEDg5AJCo5MbeQYBAgQIECBAgAABAgQIECBwhgLbt2/fPDs7e8nc3NzdKaXBGR5uJS8vyrLcNjMz86l9+/YdOdEL9u7d+9hHHnmktW/fvkMrOfC0PEdoNC2ddp0ECBAgQIAAAQIECBAgQOAcCFxzzTXnHT58+A0ppa8fO/13VFX162tVTqfTub6u6zePjn9+Sun7qqr6mSXOV7Tb7d8oiuJbRt9707Zt215xww03zMefy7IsU0p/mFJ6XFVVV42/fu/evRsOHTr0rpTSswaDwVUHDhy4Y62u51wdV2h0ruSdlwABAgQIECBAgAABAgQITIFAWZavKorim+u6/hdVVd1dluUXpJTeOhgMdh84cGD/GhDMlGX5QFEU39rtdv+o3W4/uyiK987Ozu687bbb5sbP1263v7koih9PKT19fn5+fnZ29h11Xf9mr9d7fafTeXFd13+z8L2/TintrarqivHXdjqd76/r+ktTSs/v9/s75ubmbl/mWranlB4c/W+5y43n3LkGFmd0SKHRGfF5MQECBAgQIECAAAECBAgQIHAigbIsf72u6829Xu/lzfN27dr1jKNHj35sbm7uvrIsb0opvbyqqpvj+2VZ/slgMPi9AwcOvKUsy39IKf1jfD+ltGUwGLyi1Wq9MKX07UVRfKwoipft37//A+Pnv/rqqy86fPjwd1922WU/OTZj6DNFUXx1t9v9+/HnxvHruv6LXq/3a6NzvzSl9D1VVe1tt9vflFK6udVqPa6u6zeOh0Z79uzZMT8/f6Df7++ZmZm5bQWh0eNSSh9axunaUaAkNPKjRIAAAQIECBAgQIAAAQIECEyPwNiMnViO9udbtmx5z0033fTZRqAsy8+klL6wqqr3j4Kbd9Z1/cu9Xu9PyrKM2TsP9vv9b5qdnf2yuq5/pK7rN8zMzPzyYDD4oaIozut2uy8+SWj1hSmlfyiK4pJut3v/otDoEymlf1NV1VtH535mSul9VVW1Ukp1fK3T6Xzx4tCoLMs313V9a6/Xe01Zlv2ThEZxmOWCoZhhdKJA6ZwOFDONzim/kxMgQIAAAQIECBAgQIAAgckXKMvyyxbCn1ellK5PKR2s6/rner3ej0Uws4LQKPYj+rPdu3df2u/37+n3+1fMzc3dtXPnzi9ttVqvr6oq9h1a8lGW5WUppQ/Wdf2jvV7vVxc9qRWBT13X1/Z6vQ/H93bu3Hllq9WKoOqCqqoOLhUa7dy584tardYfpJR2VFX18ApDowiGIjiK2UaxVC0eERjF/27IdQQIjXLtjLoIECBAgAABAgQIECBAgMCECcTSsYVlaa+s6/p1CwHKl1dV9dcrCI2+OWYC7dmz5+L5+fn7Dx8+fNGdd975YFmWMYPotxZvUN2Q7d69e0u/339bURQ3dbvdZqPr40TLsowlbq9slq3t2rXruYPB4O+rqrqgeeL4TKPrr79+9t57742A6XXdbvd3UkrD4Gmp/ZKWaF0THDUhUQRosSQtu2VpTe1Cown7AXQ5BAgQIECAAAECBAgQIEAgJ4GyLF/e7/ffOzc3t6+pq91u31gUxX+tqupny7L8ROxN1AQ3ZVl+uK7rnxxbnnbKoVGEO/fcc8+fL2xyPXveeed9xU033XR0KZOyLP8uNuWOOuL7ZVl+W13X39Dr9a5bKjTas2fPk+fn5z+61LGKoviqbrf7lyexb5ajNbONsg2M4jqERjn9JKmFAAECBAgQIECAAAECBAhMmEC73f7loiieXhTFS7vd7sfKsoyNrN9aFMUXdLvdGxZmDL29ruvb5+fnXzU7O/u8oij+tq7rrzuT0Kgsy1+I5XBxh7a6rofLzGZmZh6KJWexVK7f798adztrt9tfVxTFG/r9/tM3bdp0dH5+/l2jpWy/tVRoFGHUfffdF8HP8DE/Pz+TUurWdf1Fmzdvfs/NN9/88AraF8vU4rHcxtgrOMTZeYrQ6Ow4OwsBAgQIECBAgAABAgQIEJhKgU6nszWl9Luj29M3Bq+pquonY0+jTqfzotGt7c+v6/o9C/sUXVDX9WtjH6PRRtinNNNotI/RxxdjL4RHr77ssst+6Z577jla1/Vzer3eP8Vz4u5uKaVvGz3/TVVVfWNKadC8fqmNsMeOPVOW5fwKNsJeXE4sVWtmG2U7LoRG2bZGYQQIECBAgAABAgQIECBAYHIEYo+hI0eOPPHyyy//6A033DC/6MqK7du3Xxh7Fa3lFY82uv7Qtm3bLh6v4corr7xwMBgUa33+tby2tTi20GgtVB2TAAECBAgQIECAAAECBAgQyE5gNGvolVVV/R/ZFZdhQUKjDJuiJAIECBAgQIAAAQIECBAgQGD1Ba655przFjbZ3njLLbc8sPpHn7wjCo0mr6euiAABAgQIECBAgAABAgQIECBwxgJCozMmdAACBAgQIECAAAECBAgQIECAwOQJCI0mr6euiAABAgQIECBAgAABAgQIECBwxgJCozMmdAACBAgQIECAAAECBAgQIECAwOQJCI0mr6euiAABAgQIECBAgAABAgQIECBwxgJCozMmdAACBAgQIECAAAECBAgQIECAwOQJCI0mr6euiAABAgQIECBAgAABAgQIECBwxgJCozMmdAACBAgQIECAAAECBAgQIECAwOQJCI0mr6euiAABAgQIECBAgAABAgQIECBwxgJCozMmdAACBAgQIECAAAECBAgQIECAwOQJCI0mr6euiAABAgQIECBAgAABAgQIECBwxgJCozMmdAACBAgQIECAAAECBAgQIECAwOQJCI0mr6euiAABAgQIECBAgAABAgQIECBwxgJCozMmdAACBAgQIECAAAECBAgQIECAwOQJ/L94WS0jHOCRcgAAAABJRU5ErkJggg==\" />"
      ],
      "text/plain": [
       "Open the notebook in JupyterLab with the Atoti JupyterLab extension enabled to build this widget."
      ]
     },
     "metadata": {},
     "output_type": "display_data"
    }
   ],
   "source": [
    "# Slciing by two hierarchies: trans_type x year\n",
    "session.widget"
   ]
  },
  {
   "cell_type": "code",
   "execution_count": 19,
   "id": "2c30849b-c9c5-4377-88c1-8d289ab22b9e",
   "metadata": {
    "atoti": {
     "widget": {
      "mapping": {
       "columns": [
        "ALL_MEASURES"
       ],
       "measures": [
        "[Measures].[contributors.COUNT]",
        "[Measures].[total_price.SUM]"
       ],
       "rows": [
        "[trans_dim_table].[trans_type].[trans_type]",
        "[time_dim_table].[muilti-level date].[Year]",
        "[sales_fact_table].[coustomer_key].[coustomer_key]",
        "[sales_fact_table].[payment_key].[payment_key]"
       ]
      },
      "query": {
       "mdx": "SELECT NON EMPTY Hierarchize(Crossjoin(Hierarchize(Descendants({[trans_dim_table].[trans_type].[ALL].[AllMember]}, 1, SELF_AND_BEFORE)), Hierarchize(Descendants({[time_dim_table].[muilti-level date].[ALL].[AllMember]}, 1, SELF_AND_BEFORE)), Hierarchize(Descendants({[sales_fact_table].[coustomer_key].[ALL].[AllMember]}, 1, SELF_AND_BEFORE)), Hierarchize(Descendants({[sales_fact_table].[payment_key].[ALL].[AllMember]}, 1, SELF_AND_BEFORE)))) ON ROWS, NON EMPTY {[Measures].[contributors.COUNT], [Measures].[total_price.SUM]} ON COLUMNS FROM [sales_fact_table] CELL PROPERTIES VALUE, FORMATTED_VALUE, BACK_COLOR, FORE_COLOR, FONT_FLAGS",
       "updateMode": "once"
      },
      "serverKey": "default",
      "widgetKey": "pivot-table"
     }
    }
   },
   "outputs": [
    {
     "data": {
      "application/vnd.atoti.widget.v0+json": {
       "sessionId": "1704486346_RJZODK",
       "sessionLocation": {
        "https": false,
        "port": 9092
       },
       "widgetCreationCode": "session.widget"
      },
      "text/html": [
       "<img height=\"352\" width=\"1165\" src=\"data:image/png;base64,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\" />"
      ],
      "text/plain": [
       "Open the notebook in JupyterLab with the Atoti JupyterLab extension enabled to build this widget."
      ]
     },
     "metadata": {},
     "output_type": "display_data"
    }
   ],
   "source": [
    "# Slicing by three hierarchies: trans_type x year x customer\n",
    "session.widget"
   ]
  },
  {
   "cell_type": "code",
   "execution_count": 20,
   "id": "9d44ad55-924d-4a4a-b9ba-1e7112304085",
   "metadata": {
    "atoti": {
     "widget": {
      "columnWidths": {
       "[item_dim_table].[desc].[desc]": 207.453125
      },
      "mapping": {
       "horizontalSubplots": [],
       "sliceBy": [
        "[item_dim_table].[desc].[desc]"
       ],
       "values": [
        "[Measures].[total_price.SUM]"
       ],
       "verticalSubplots": []
      },
      "query": {
       "mdx": "WITH  Member [Measures].[[item_dim_table]].[desc]].[desc]]_for_order] AS [item_dim_table].[desc].CurrentMember.MEMBER_VALUE  SELECT NON EMPTY Order(Hierarchize(Descendants({[item_dim_table].[desc].[ALL].[AllMember]}, 1, SELF_AND_BEFORE)), [Measures].[[item_dim_table]].[desc]].[desc]]_for_order], BDESC) ON ROWS, NON EMPTY {[Measures].[total_price.SUM]} ON COLUMNS FROM [sales_fact_table] CELL PROPERTIES VALUE, FORMATTED_VALUE, BACK_COLOR, FORE_COLOR, FONT_FLAGS",
       "updateMode": "once"
      },
      "serverKey": "default",
      "widgetKey": "plotly-pie-chart"
     }
    }
   },
   "outputs": [
    {
     "data": {
      "application/vnd.atoti.widget.v0+json": {
       "sessionId": "1704486346_RJZODK",
       "sessionLocation": {
        "https": false,
        "port": 9092
       },
       "widgetCreationCode": "session.widget"
      },
      "text/html": [
       "<img height=\"352\" width=\"1165\" src=\"data:image/png;base64,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\" />"
      ],
      "text/plain": [
       "Open the notebook in JupyterLab with the Atoti JupyterLab extension enabled to build this widget."
      ]
     },
     "metadata": {},
     "output_type": "display_data"
    }
   ],
   "source": [
    "# Slicing by one category: item category\n",
    "session.widget"
   ]
  },
  {
   "cell_type": "code",
   "execution_count": 22,
   "id": "5e648fee-6776-465b-9121-2230b049dfae",
   "metadata": {
    "atoti": {
     "widget": {
      "columnWidths": {
       "[item_dim_table].[item_name].[item_name]": 247.453125
      },
      "mapping": {
       "columns": [
        "ALL_MEASURES"
       ],
       "measures": [
        "[Measures].[quantity.SUM]",
        "[Measures].[total_price.SUM]"
       ],
       "rows": [
        "[item_dim_table].[desc].[desc]",
        "[item_dim_table].[item_name].[item_name]"
       ]
      },
      "query": {
       "mdx": "SELECT NON EMPTY {[Measures].[quantity.SUM], [Measures].[total_price.SUM]} ON COLUMNS, NON EMPTY Order(Crossjoin(Hierarchize(Descendants({[item_dim_table].[desc].[ALL].[AllMember]}, 1, SELF_AND_BEFORE)), Hierarchize(Descendants({[item_dim_table].[item_name].[ALL].[AllMember]}, 1, SELF_AND_BEFORE))), [Measures].[total_price.SUM], DESC) ON ROWS FROM [sales_fact_table] CELL PROPERTIES VALUE, FORMATTED_VALUE, BACK_COLOR, FORE_COLOR, FONT_FLAGS",
       "updateMode": "once"
      },
      "serverKey": "default",
      "widgetKey": "pivot-table"
     }
    }
   },
   "outputs": [
    {
     "data": {
      "application/vnd.atoti.widget.v0+json": {
       "sessionId": "1704486346_RJZODK",
       "sessionLocation": {
        "https": false,
        "port": 9092
       },
       "widgetCreationCode": "session.widget"
      },
      "text/html": [
       "<img height=\"352\" width=\"1165\" src=\"data:image/png;base64,iVBORw0KGgoAAAANSUhEUgAABI0AAAFgCAYAAAA2KonPAAAAAXNSR0IArs4c6QAAIABJREFUeF7t3QmcZGddL/znVPdMJ5lJyAKEgUFC0lOnZiYJyxBkUQi+6vUq4IKicvEKgoIgviJeNxTcUVzw6lUveHHX675er+vFsIYtIAmZqVOZhAEmm0AimcnSM9113v7XW2dup6menqV7zqnqb30+fD5k6tR5nvP9P13d9avneU6WPAgQIECAAAECBAgQIECAAAECBAgsE8iIECBAgAABAgQIECBAgAABAgQIEFgucCw0KsuyxENgkgSyLBOKTlJBXQsBAgQIECBAgAABAgQInFEBodEZ5dbYmRQQGp1JbW0RIECAAAECBAgQIECAwKQJCI0mraKu55iA0MhgIECAAAECBAgQIECAAAECpy4gNDp1O69suIDQqOEF0j0CBAgQIECAAAECBAgQaLSA0KjR5dG50xEQGp2OntcSIECAAAECBAgQIECAwEYXEBpt9BEwwdcvNJrg4ro0AgQIECBAgAABAgQIEFh3AaHRuhNroC4BoVFd8tolQIAAAQIECBAgQIAAgUkQEBpNQhVdw0gBoZGBQYAAAQIECBAgQIAAAQIETl1g4kKjm2++ObVarfTYxz721FXO4Cvvu+++9MlPfjI96lGPSlu3bl2x5U984hOpLMv0mMc85gz2brybEhqNd/30ngABAgQIECBAgAABAgTqFVgxNHrHO94x6Nnnf/7np5mZmQf18uDBgynCmdnZ2UHY0ZRHhCpVv5/5zGeuWbfuuuuudOjQofR5n/d5KcuOkX3O+W+//fbBv23btu2E277jjjtSURTp0ksvTY9+9KNXfN173vOe1O/30xd8wRec8Lk3+oFCo40+Alw/AQIECBAgQIAAAQIECJyOwIqh0dvf/vbBec8555x01VVXPaiNmBlzyy23NC40ik7eeuutg2DnkY985Om4POi1//qv/5o++9nPpqc97Wlp06ZNK573Xe961+C5kwl2hEZrVqbPOZHQaP1snZkAAQIECBAgQIAAAQIEJl9g1dAoCJbPgmlyaLQeJRMarYfq+p9TaLT+xlogQIAAAQIECBAgQIAAgckVOG5oND09nebn5wczd5YuUxsVGs3NzaW9e/cOlnHFMrGzzz57MBPpwgsvTJ/+9KfTvn37BvsMbd++faD5sY99LMUytzimWs61f//+FEu89uzZM5jhtPQRM4hidlOcI/7/Aw88MOjXQx7ykHTFFVcM9jGKx/ve977B/3/Sk56U3v3udw/6EeerHnE91157bTrvvPPS4x73uME/R79jCdrCwkKKa44+79y5c/BcLAs7evTo4P9He/F8zDha+oh9ia677rrB8rF4RPvV+aO9j370o+mee+4ZuExNTaWHP/zhqd1uD46tZhrFMr/ow/333z9o59xzz02XX375sZlNo5anLe335s2bB0sFYwmdx/8vIDQyEggQIECAAAECBAgQIECAwKkLHDc0Ouuss9LFF1+cPv7xjz9omdry0CjCkPe+973pyJEjg+MiWImQJMKPWNoWgUYs3Yog5QlPeMKgt+9///sHAUmEPo9//OOP/VuEQc94xjM+54qiDwcOHBj8ewQvEarce++9g0Bn6XmjnQhtItip2nj6058+6FM8qvNE+BQBy/XXX5/uvvvuQTizZcuWdPjw4UFQ9tCHPjTt3r07dbvdQegVgdL5558/uJYqUKo6Gdcd+xJF6BOPCJ3iuuL8H/jAB1KESmEZ/wuXCJcuueSSwabWVWgUr6vCpjg+zhmB15Of/OTBOZeHRhFEfeYznxn0J8yr8+Z5nh7xiEec+oiYoFcKjSaomC6FAAECBAgQIECAAAECBM64wKqhUcwwitk7EeZcdtllg5lCy0OjmDUUd/eKfYR27NgxuIhPfepTgxk8EbTEjJ6Y3RPBS7XfT7VnUgQlX/iFXzh4TWxiHQFIzBJa/qjCngiMIhCqZhZFWBWznJ74xCcOgqSloVG1YXcV0MQ5qyAp2ozQ6oMf/OBgo++nPOUpgyaXBmDxb/Hc6SxPi3AnzlG5RJvRhwio4jqr0CiuJ9qr9kyKfkUotmvXrvSwhz3sQaFRhEoRRi0NlcKgmmV1MnsqnfERdwYbFBqdQWxNESBAgAABAgQIECBAgMDECZxQaBSBUQQSMXMogo0777zzQRthf/jDHx7MdIklVxHqVI9YkhYzfGKmTwRIESRF4BObSt94442DkOm2224bzEaK2T1xnpidE7OAVgqNlgZTcUwsVYtlbVUwtDQ0qu6mVoUrMcPnne985+DW9rFkLYKuCLyW3wWuCqgi6In2Tic0qq4jfCLYiRlE0d+YIfTUpz71WGgUwVAERNUjZjdVRtGPpTONqtDuoosuGix1qx69Xm8QzMVMrePd5W3iRvEKFyQ02iiVdp0ECBAgQIAAAQIECBAgsB4CJxQaRcNVwBIzZGLJ2tK7p8XeQRH6rPR45jOfOVi6dcMNNwwCmgiNIhSJGTER4sTspQh4IgCKmU2xjGul0Gj58qsIYyJsqkKXpaFRnKMKtGJmUQRUN998c+p0OoNrqIKsWDIXS9yqRyz7ihlCscwr2jud0KiahbX8epaHRktnQ8WxES7F7Kxq+d7S0Kjq90re1ayr9Rgw43ROodE4VUtfCRAgQIAAAQIECBAgQKBpAiccGkXHq/15ImCJsKaaoRObQMdeQLH/zvIZLvHfsTwrHrEk7YILLhgcG7N/IqyJ5WUxOymOixlNKy2tqmb/PPrRjx7cza16VMu7qhlKy0OjaplcLK2LY2NpV7VnUuyRFOddHkRVy9qq5XinGhpVS9Hi+qJ/sddRWEQYFKFRzNqq+h8hVoRZ1SP2WYr9lqp/XxoaVUFUOERYtvwxKnRr2sA7E/0RGp0JZW0QIECAAAECBAgQIECAwKQKnFRoVO2bE7OC4lGFRjfddNNgFk8VslRYMasn9uip7ugVoVOcI5ZQReARAVBsIB3BSXUntOqOZsvBq9ComqFTPV8FVldeeeUgkFoeGsVxMZspgpQIjOKYODYeMeMpAqHYCylm51SPKhyLZXOxx9JHPvKR9O///u/H9k1aaTBE27EErgqlqvAp7g5X3S2tmhlV7aNUhUbVXdmq0K3aoLsKtJaGRlW/q/2iqv5EDeLudfEaD3dPMwYIECBAgAABAgQIECBAgMDpCJxUaBQNVUHI0tAogqDY3DkCk9hnJ5awxQyfmGmzdK+eWNIW+/HEo7qjWYQcH/rQhwb/FsFKBCyjHkvvnhazlGLWTgQw8fqlQdKo0Ki601icN0KpCFuqR7UxduxzFP8eM3xiA+pqo+o4rlqaF0FP9C/uejbqUS2Fi/PEcRFGxfljk+v47/CJkChCt+WhUZwv/i3u2hYzsSIYiiAp9j2K1y+/e1q1OXm0EUFYWESwtXRT79MZGJPwWjONJqGKroEAAQIECBAgQIAAAQIE6hI46dAoOlrd2WvpBtIRWkQ4c/To0WPXEsHOFVdccey/q+VaMfsoNsSuHjETKAKV2HeouivacpAqNIrwJTbijuOroCVmCUVwFI9RoVEVTMUyseXL32LWU4RWMQupekSAFEvnqr7EMRH+xD5DMROomkm0vI+xb1NsXh19ixlKMVMpZltF0FY9wiTCnTBYvjwt9nmKtuIR1xMBV5wnHstDo1H9jjDt8Y9//DGLugZVU9oVGjWlEvpBgAABAgQIECBAgAABAuMosGJodKoXE2FGzDyKAGMt7+BVhUbVLegjgIpgZend2k61z9XrIjiqQppR56oCndXajE3BI3BaGoDF7KVYIrfaa2NfpzgmQqUTfcS5w3ulwO1EzzNpxwmNJq2irocAAQIECBAgQIAAAQIEzqTAmodG69X55aHRerXjvJMjIDSanFq6EgIECBAgQIAAAQIECBA48wJjExrFJs+xJ1LMNIolXh4EVhMQGq0m5HkCBAgQIECAAAECBAgQILCywNiERopI4GQFhEYnK+Z4AgQIECBAgAABAgQIECDwfwWERkbDxAoIjSa2tC6MAAECBAgQIECAAAECBM6AgNDoDCBroh4BoVE97lolQIAAAQIECBAgQIAAgckQEBpNRh1dxQgBoZFhQYAAAQIECBAgQIAAAQIETl1AaHTqdl7ZcAGhUcMLpHsECBAgQIAAAQIECBAg0GgBoVGjy6NzpyMgNDodPa8lQIAAAQIECBAgQIAAgY0uIDTa6CNggq9faDTBxXVpBAgQIECAAAECBAgQILDuAsdCo3VvSQMECBAgQIAAAQIECBAgQIAAAQJjIyA0GptS6SgBAgQIECBAgAABAgQIECBA4MwJCI3OnLWWCBAgQIAAAQIECBAgQIAAAQJjIyA0GptS6SgBAgT+r0BRFGX8V57n3scNDAIECBAgQIAAAQIE1kXAh411YXVSAgQIrK+A0Gh9fZ2dAAECBAgQIECAAIGUhEZGAQECBMZQQGg0hkXTZQIECBAgQIAAAQJjJiA0GrOC6S4BAgRCQGhkHBAgQIAAAQIECBAgsN4CQqP1FnZ+AgQIrIOA0GgdUJ2SAAECBAgQIECAAIEHCQiNDAgCBAiMoYDQaAyLpssECBAgQIAAAQIExkxAaDRmBdNdAgQIhIDQyDggQIAAAQIECBAgQGC9BU4qNNqxY8cXT01NzXe73WvWu2POv74CeZ6fW5blD0xNTf3Bvn37Prq+rTk7AQJrLTAOoVG73X51lmU3F0Xx12tx/bt27drc7/cfuWXLlluvu+66o2txTud4sMD27dvP3rJly1eklG4oiqJYa592u/0fsyy7vCiKn13rc6eUWpdddtmjZmZm7t67d+/hdTi/UxIgQIAAAQIENpzASYVGeZ5fl1K6pyiKZ204qQm74B07duxstVp7U0qvKIri1zqdztPKsvyio0eP/vItt9zy2Qm7XJdDYOIEmhYa5Xn+yJTSt6SU/rooiutTSlN5nt+WUnp7URTPH/H8CdfkkksuOWtmZua/pZResuRFvzo1NfXqvXv3Hsnz/F9SSo8siiKvns/z/Lkppb/q9/tfctNNN/3z8PfXE7Mse9bSLz4uueSS8yNkiNcVRTGVUuqfcMdqOvBkLU/m+Ha7/agsyw6mlF5dFMUvrvUl5nn+Oymlr9q6detFaxn8tdvtV2ZZFmOkelzTarVesG/fvtvX+ho6nc7Vcc6l4yjG4OLYenu32/2RtW7P+QgQIECAAAECdQoIjerUr7nt2dnZ8/bv339PdKPT6bymLMufm56efsyNN974iZq7pnkCBFYRaFpo1G63n5xl2fuyLHtBt9v9n9H9PXv2nHPuueceueaaa+ZHPX+iRe50Ot9RluUvp5R+JqX0D1mWPacsy1enlF5aFMVb8zx/R0rp4mWh0VemlP4yy7L/0O12/3EYLF1dluVv93q9Fy0Jl16cUvqNcQqNTtbyZI5f79AowsQ9e/bMXHfddfedaP1XO252dvYJU1NTH8qy7G/7/f6bsixrp5R+NaX0e0VRfNNqrz/Z56uxVBTFsb+hOp3OICwSGp2spuMJECBAgACBpgscNzTqdDrPLMvyJ1NKV8Yf7FmWfdnSmUZ5nscf5f8lnk8p/X1K6buKorgtlhAsLCz8RErpmxf/yD+7LMs/P3LkyHcdOHDg3y+99NKHTE9P/2KWZV+eUjqSZdlbu93uj6eUFpqONUn927lz52P6/f4/lmX5ularFTX6pZTSuYsfwuIb5tcXRfEbs7Ozu6ampn46pRTfqn6gLMsf6fV675ydnb1samrqf2dZ9ltlWX5tSmlHlmU/VpZlfKP7C0On1xRF8XurmbXb7WtTSh/MsuzhKaX/mFL648Vv+l8X46jT6VxUluWb4lvplNL9ZVn+cb/f/579+/fPdTqdny/L8vPjA+RwDHYXFhZeNj09/eNlWcbSir+bm5t7QYy5YSj2A2VZxgfF87Ms+/0tW7Z831p+y73adXqewFoLHC80uvrqq6dvv/32n1/8DPsNKaWPR1CSZdl3tlqtb+73+/Fh/U+yLHtVhCnxnrxp06b3p5TeVBTFf8/zPN7P4+fui1JKvcWfmV+M2YjR/5V+XrMsi5/Vf178oB4/x/9WluVf9nq9l+V5/q4IklJK8V7xoOezLPuLlNJ/zbLse7rd7t/E+YfhzyeLovhPS73yPP/9xb684N577z3n4MGD98cypDzPX1WWZa/X6/3dyYRGw/OeVxTFoWGbsQQrQoaxmGnU6XSuGGU9nD36hqhbWZY3hm2v1/vDlY5fqc4nExpVvwvKsvzN4e/0x8fY2rp166siFKrepxdnsb4jy7LviFlfrVbrq6OPRVE8efje/LxhAPj0xd8118Q47Xa7NwxrM/JvjOU/S+12+1uzLHvL8Lwx6yy+CInzPizG9Fr+7MUso7IsXx/nzLLsR6vZRsPZR1cLjdZS27kIECBAgACBJgisGBrNzs4+bGpq6uZhJ+Mbuy9ZXHbwxPijLpandTqdPWVZfjA+nJdl+b+yLIs/og4WRfGkdrv9TVmW/XZK6fsXp7jHUqdfK8vyDb1e7wc7nc7/ig/1w5BheyxnyLLs5d1u981NANkofdi9e/fs/Pz8TWVZftvU1NR1/X4/viV9TvwRvDhB4G/iuampqfjgER8wY4lCfIi7cn5+fner1do6XNp2qCzLn4+ZBcMPXbeklH4zpfSq+PC4devWzasFM3mex0ynCKveGgFjfDDMsuy13W73p9rtdgSV37HYh+9NKV2aUnp5lmUv63a7b6k+RA6/Wb4lPgAPaxfn2ZxSim+Xv68oijcuWbYQYeWnhkHozxZFEef1IDCWAscLjfI8/6HFGR0Rxkeoui8C/bjIsiy/uCzLw61W671Zln1tt9v9s927d184Pz//meHP3RvyPO+mlKbLsvyFLMu+Jj6ILyws7N6/f//elX5ep6en3zo/P/99ww//fxDhb1EUf5Xn+Z0ppX/etGnTdy9/fm5u7u3DZWG/URTFS/I8j6Vl3WGIFIHXsUee5/HlxBsXfw+9O8uy/zE1NfWuG2+8cX91wEmERvGSCMG/KULt6n0w3kfi99I4LE+7/PLLL15uefTo0Ws2bdoUe9PFe18E9/EFT1znF23atGnviNr89Up1brVanz3R5WlLljnH2HpLlmXnp5SeH7N8iqJ4ZfU+PQwf/2phYeHNrVbrh2NcFUVx3s6dO5/S7/evLcsyxuNfppTi/X7ztm3bHnXHHXc8bqW/MWIoLx0f1Xnib5DFPsT7/L/s27fvw8uPW6sf9FGzioRGa6XrPAQIECBAgEDTBFYMjXbs2PEVrVYrAp5vjG8rqw8WVWiU5/mPLc4O+uH4MLFp06Z7+/1+fEj/8X6/f1mWZc/Psiy+8fz2hYWFP9u8efP9Z599dv/w4cOxX0SEBPHNdSwtyIYbpcY3y3/SNJxJ7s/S0KjX6/368uVpsel5q9X6pwj1Wq3W2+bn5x/TarXeXpblf44/5Ieh0Q8VRfGTeZ7HbKOYuTD4EJrneYQxsYzk0qIoPnY8x/gQGt+K93q9p8Zxww+Zsf/qM2IGRPzb1q1b5xcWFi6an5+PGRP/rdfrvar6MDI3N3f2gQMHHsjzfLBhayxPGc6yiE1y31oUxUvzPP9ISukRrVZr8M12v9//rVg5Ex9aJrnGrm2yBVYJjWL/ufO3bduWx9Kw6v36BEKjCGsfetZZZ91/+PDh6enp6di0OJaaPT/eo4/38zpqCVQVGsXMoVHPdzqdP48+Le6dc3673Y5Q+Ffid8hNN90UAfSxx549ezYdOnQoQqwIFarHO6empp6/d+/eO04iNDq0+CXFHWVZ7ogvP9rt9uuyLIsZsTEb5Y3jEBrFxS+3XPJ+/XVFUfxptU9TzBDu9XrfOcp+pTqXZfmekw2NyrL8rV6vF8v8qtli+eLstIur9+n5+fmLb7755n8b9v23qtCo3W7/ZJZlP7hp06ZHfPSjH71z586dT1xYWHj25s2b33z06NFXrvQ3xvLxEeftdDovK8sy/i6J2W7xiC8Tvqnb7b5nrd8JVlqKFsGRG4WstbbzESBAgAABAnULrBgadTqdmPr/S/1+f9dNN90U31THH4Pxwfy2+GM7z/O4G85zll9AWZZfPj09/eH5+fm/yLLsKcPn49vhb5+fn5+OfQfKsvzWXq/3P+q++I3c/mqh0ZI9RB7ElGXZTy8sLPzOMDT6lqIofnN4N5xYrjbYYHbxg+K3xzfNoz78LTcfzlz4y6Io/vNwjMXSglg6sqfT6XzpcB+TwdKR4ePXiqJ4xfDDSHzYvHj4uviQfG+ETcP/jnDyT4YzGB70rXR1ooWFhYdUezpt5LHg2sdTYJXQKMZ8zPb5+uHPw2B/nxMJjYazen54OANwgFOW5Tf0er0/Ot7P66mERnmef130c2Fh4YnDpaUPr5YtjapK3PUxy7KnlmX50pRSvPZ3471jGBo9qiiKy6rXdTqdrynL8s+W7WkUsyN/Nsuyd0xPT++Yn5//l8UlTL/SarXm49/HNTSq3q+rGWHDmsdM4U8Mw7HP2W9qpTqnlGJJ4QlthF3NNCrL8pW9Xi9mJEeg9XNZlr0m3seHYdyx9+nh88dCoyWh4ecE+Mf7GyOWJI4aH/GFwa233rqn1WrFDLn48uLfqt8Ra/lTvtJMI4HRWio7FwECBAgQINAUgeOFRoM/uCMEij/Qhnevib0kBsvTqj8Mp6amzr3nnnuO7Ud08ODBueruMxFMHD169Evj2+OyLP9p06ZN3xDLIBaXPvxEURTxoSSCqGfFcoler/eBpqBshH6sFBpVs4M6nU5sNPvXZVk+47777otliIPH7Ozs0VtvvXXHGQiNnpTn+R2xH8vCwsKLZmZm7hiOnZMOjTqdzo1lWd5x7733PntpbYd7o2yEcrvGCRQ4Xmg0HPMPRPg6/KD+3VmWxT5gX5xlWSwZjj3KBh/0h/vS7I/laVNTU388XLb6lk2bNv3kkSNH2jHj8GRCo2rp1/D9fbA8belMo6XP79q1a+vCwkLM/vnR2CemLMvX9Hq9al+0Y1UbfolxX2x6PfzHLM/zz1azFPM8j3//lrm5uQuqfcza7fbrsyyLZbedmLo43Lz4UFEUX5Xn+cdTSrG87erY/H9hYeH54xgaVZadTufZZVn+TRWQDfcVnMuy7Ne73e63VYHe8mV5saRseZ1PJTTKsuxN3W73u4c1jy+Uro6ZnMvD/eWh0dKAKfaYiru8ZVn2xPn5+Xe0Wq2YBfaa4/2NUQ2Q+H3V7/efcO65576hWhKd5/kfxQy5mZmZrddff/29a/kWsDw0Wmmfo7Vs07kIECBAgAABAnUJrBga7d69+/NiOVBM8Y6QZ/FDRmwu/Lwly9Niz4T4ti++XYw9LF423EfmUSml71z8sP/iLMte0u/3/y3LstgA9e+Ht12ODVevin1w+v3+I7Isiw8Ig71n6kLYiO2OCI2+sSzLP4g//ufn539l8+bN9y5uLB0bW78zy7IfLssylna9Mcuy5y0sLOw7Q6FRfLj9WGyMmlL6yuF+KScdGrXb7Z/KsuwHFr91fkWWZfvKsoyxNlMUxeM2Yu1d82QIrDLTKDayjn2MYoP7mCkaY/7cCI02bdoUM0FjD6O9/X7/x4d7ksV+Zq9ttVqx70zsjfN7/X7/17Ms+6Esy77kREKjJb8z/qHVav3Ivn373rt0edqo56MSnU7nf8b5h1UZLGndsWPHM1qt1q+XZfnC+EIhz/PYiDuWr712uP/NM4Yh02CvvGrGUrxfpZRiL7THRAgUv78W9y6ajclSS0Kj5+Z5Hl9axOb9/9Tr9b600+l8zziFRsstp6amPnb06NEI2a+PGwmUZflVWZbFxv+DZYXLj18MYw6tVOdTCY2idmVZRmh03jCo+7OiKL72BEKjWP74v2O2WZZlv9vv91+bZdnurVu3PuLw4cMxa3Tk3xhlWR6J5dKx2Xfscddut79huIwyzhEzYT9vuBdfN2auxVK8pcfHcs2yLL/k3HPPfcbhw4d3Lt0Y/kTeHY6zPM0d1E4E0DEECBAgQIDAWAmsdve0CBJiE+TYI+CvFu86taMsy5ju/azhN4avHm6cHBsZx51oXjHcXDQCpwiS4m4o8fhQbHAc3/bOzs5un5qa+sMlz/3xzMzMt6z1N4FjVYUaOrs8NBreQeltsdl59W3/4pKPuHtSfFgbLA+LTa97vd73ttvtdoQv8c3+CsvTXh6vO93laYuzAY7dCjuWoQxDyZVCowgjY2bF5yxPG+6HEh+AY++SePRardY37tu3L8alB4GxFDheaDScwfOnKaX/EO/NWZb9YSwLjtCo1+v9n06nEzN7Xje88NjPZxDIdLvd2Ag7vgiIn+H4mY+lRC86kdAojq9m/MTG0t1u99lLQ6NRzw9/j3x1lmV/HrOfqqVp7Xb766PP/X7/2TfddNPfDu+kGJvsL10SHXdafGl1F7ThvmxxQ4b4fTT4vRMhd7fbPTBsO5a+fjZmGlXvf4uzjV5YFMXvV3u6jcvytBWs4/dy1DLer+P3cSy3i83QB49ltXnOSnXOsiyCt1sXrV69uNdU/P5f8bFkI+yY6RW1eXiEetPT01893Gsq7nq34vK0OPEwsIuxGHWLO++9qFp+NtzzMG7O8KC/MfI8f+zwC62fKYri+2NZ2m233fZjwy8Hqv5+KGaQ7d+//+blx+d5HmPny2ZmZrbNzc3FFyJvy7Lsxd1uN/a7W/WxwvI0gdGqcg4gQIAAAQIExlHguKHR8IJau3btOmfv3r2HV7jArNPpXNjtdu+ulqVVx1155ZVb5ufns1GvjediWVtsYjyOcJPa5/jjOzbOXXp9V1xxxQWbN28+vNqd0JabDJc0vnYlq1ar9RerBTfRn7vuumtmLULFCI+OHDmy9YYbboix6kFgrAWOFxotfQ++8MIL5+644464Dfs/VKFRPL99+/azt2zZMl2FLksx4rmzzjqrv3///lhufLKP1vAF/RVeeOz52dnZmenp6dcM72g4CKGz/7JPAAAgAElEQVSr1+zZs+ecuG370nPE7425ubnt99577ydWWF7a2rFjxyVHjx69q1qmdrKdH7PjP8c6NsE+cOBAzNIctZfbg45frc7D/eqetoLJoX6//zdLZp3+dp7nW0aNpxMwzXbv3n3BjTfeeNeIY0f+jRF9Xz4G4j3+gQceiJs2fGb5+/yy41uzs7ObqvE9aqwdr8/L75QWIVLMfIuZ2PFFmr2NTqDiDiFAgAABAgTGRuBEQqOxuRgdbZZAbFo73DdkpY59h7vmNatmejM+AicSGlVXM9xU/kGhUROutN1uXzu8YcLfbd269StPNphuwjVMch/yPI/QP5YHj3oc7Pf7L1y6VHmSLVwbAQIECBAgQGCjCgiNNmrlXTcBAmMtcDKhUcz6m56efmhK6VOnOHtoXax27tx5+dGjR+/fv3//x5bPVF2XBp10TQViJujBgwcfcc4559y9FrNB17RzTkaAAAECBAgQILAmAkKjNWF0EgIECJxZgZMJjc5sz7RGgAABAgQIECBAgMCkCAiNJqWSroMAgQ0lIDTaUOV2sQQIECBAgAABAgRqERAa1cKuUQIECJyegNDo9Py8mgABAgQIECBAgACB1QWERqsbOYIAAQKNExAaNa4kOkSAAAECBAgQIEBg4gSERhNXUhdEgMBGEBAabYQqu0YCBAgQIECAAAEC9QocC42qDyD1dkfrBAgQ2HgCD3nIQ9KFF1448sLn5uYG/z4zM/M5zx86dCh9+tOf3nhgrpjAhAjkee7LuwmppcsgQIAAAQKTKiA0mtTKui4CBMZGYFRodPfdd6c777wz3XPPPYPrOO+889LFF1+cLrjggmPXJTQamxLrKIGRAkIjA4MAAQIECBBouoBvuJpeIf0jQGDiBe64445y6UyjCIwOHjyYDh8+/KBr37p1a9q+ffux4ChCo4suusj7+MSPEBdIgAABAgQIECBAoB4BHzbqcdcqAQIEjgksD42Kokh33XXXSKEIl/I8HzwnNDKICBAgQIAAAQIECBBYTwGh0XrqOjcBAgROQGBpaBR7GF1//fVpfn5+5Cunp6fTVVddJTQ6AVeHECBAgAABAgQIECBwegJCo9Pz82oCBAictsDymUbXXnvtcc/51Kc+VWh02upOQIAAAQIECBAgQIDAagJCo9WEPE+AAIF1FhAarTOw0xMgQIAAAQIECBAgcEoCQqNTYvMiAgQIrJ2A0GjtLJ2JAAECBAgQIECAAIG1ExAarZ2lMxEgQOCUBIRGp8TmRQQIECBAgAABAgQIrLOA0GidgZ2eAAECqwkIjVYT8jwBAgQIECBAgAABAnUICI3qUNcmAQIElggIjQwHAgQIECBAgAABAgSaKCA0amJV9IkAgQ0lIDTaUOV2sQQIECBAgAABAgTGRkBoNDal0lECBCZVQGg0qZV1XQQIECBAgAABAgTGW0BoNN7103sCBCZAQGg0AUV0CQQIECBAgAABAgQmUEBoNIFFdUkECIyXgNBovOqltwQIECBAgAABAgQ2ioDQaKNU2nUSINBYgaWh0dzcXLr++uvT/Pz8yP5OT0+nq666avDcoUOH0kUXXeR9vLGV1TECBAgQIECAAAEC4y3gw8Z410/vCRCYAIHlM42Kokh33XXXyCu78MILU57nQqMJqLtLIECAAAECBAgQINB0AaFR0yukfwQITLzA8tDo7rvvTgcPHkyHDx9+0LVv3bo1bd++PV1wwQVCo4kfFS6QAAECBAgQIECAQP0CQqP6a6AHBAhscIHloVFwRHB05513pnvuuWegc95556WLL774WGAU/2Z52gYfOC6fAAECBAgQIECAwDoLCI3WGdjpCRAgsJrAqNBotdcIjU5EyDEECBAgQIAAAQIECJyOgNDodPS8lgABAmsgIDRaA0SnIECAAAECBAgQIEBgzQWERmtO6oQECBA4OQGh0cl5OZoAAQIECBAgQIAAgTMjIDQ6M85aIUCAwIoCQiODgwABAgQIECBAgACBJgoIjZpYFX0iQGBDCQiNNlS5XSwBAgQIECBAgACBsREQGo1NqXSUAIFJFRAaTWplXRcBAgQIECBAgACB8RYQGo13/fSeAIEJEBAaTUARXQIBAgQIECBAgACBCRQQGk1gUV0SAQLjJSA0Gq966S0BAgQIECBAgACBjSIgNNoolXadBAg0VkBo1NjS1N+x55aPrL8TerBuAn+d3bZu53ZiAgQIECBAgMAaCAiN1gDRKQgQIHA6AkKj09Gb8NcKjSa7wEKjya6vqyNAgAABAhMgIDSagCK6BAIExltAaDTe9VvX3guN1pW39pMLjWovgQ4QIECAAAECxxcQGhkhBAgQqFlAaFRzAZrcvNCoydU5/b4JjU7f0BkIECBAgACBdRUQGq0rr5MTIEBgdQGh0epGG/YIodFkl15oNNn1dXUECBAgQGACBIRGE1BEl0CAwHgLCI3Gu37r2nuh0bry1n5yoVHtJdABAgQIECBA4PgCQiMjhAABAjULCI1qLkCTmxcaNbk6p983odHpGzoDAQIECBAgsK4CQqN15XVyAgQIrC4gNFrdaMMeITSa7NILjSa7vq6OAAECBAhMgIDQaAKK6BIIEBhvAaHReNdvXXsvNFpX3tpPLjSqvQQ6QIAAAQIECBxfQGhkhBAgQKBmAaFRzQVocvNCoyZX5/T7JjQ6fUNnIECAAAECBNZVQGi0rrxOToAAgdUFhEarG23YI4RGk116odFk19fVESBAgACBCRAQGk1AEV0CAQLjLSA0Gu/6rWvvhUbrylv7yYVGtZdABwgQIECAAIHjCwiNjBACBAjULCA0qrkATW5eaNTk6px+34RGp2/oDAQIECBAgMC6CgiN1pXXyQkQILC6gNBodaMNe4TQaLJLLzSa7Pq6OgIECBAgMAECQqMJKKJLIEBgvAWERuNdv3XtvdBoXXlrP7nQqPYS6AABAgQIECBwfAGhkRFCgACBmgWERjUXoMnNC42aXJ3T75vQ6PQNnYEAAQIECBBYVwGh0bryOjkBAgRWFxAarW60YY8QGk126YVGk11fV0eAAAECBCZAQGg0AUV0CQQIjLeA0Gi867euvRcarStv7ScXGtVeAh0gQIAAAQIEji8gNDJCCBAgULOA0KjmAjS5eaFRk6tz+n0TGp2+oTMQIECAAAEC6yogNFpXXicnQIDA6gJCo9WNNuwRQqPJLr3QaLLr6+oIECBAgMAECAiNJqCILoEAgfEWEBqNd/3WtfdCo3Xlrf3kQqPaS6ADBAgQIECAwPEFhEZGCAECBGoWEBrVXIAmNy80anJ1Tr9vQqPTN3QGAgQIECBAYF0FhEbryuvkBAgQWF1AaLS60YY9Qmg02aUXGk12fV0dAQIECBCYAAGh0QQU0SUQIDDeAkKj8a7fuvZeaLSuvLWfXGhUewl0gAABAgQIEDi+gNDICCFAgEDNAkKjmgvQ5OaFRk2uzun3TWh0+obOQIAAAQIECKyrgNBoXXmdnAABAqsLCI1WN3IEAQIECBAgQIAAAQJnXkBodObNtUiAAIEHCQiNDAgCBAgQIECAAAECBJooIDRqYlX0iQCBDSUgNNpQ5XaxBAgQIECAAAECBMZGQGg0NqXSUQIEJlVAaDSplXVdBAgQIECAAAECBMZbQGg03vXTewIEJkBAaDQBRXQJBAgQIECAAAECBCZQQGg0gUV1SQQIjJeA0Gi86qW3BAgQIECAAAECBDaKgNBoo1TadRIg0FgBoVFjS6NjBAgQIECAAAECBDa0gNBoQ5ffxRMg0AQBoVETqqAPBAgQIECAAAECBAgsFxAaGRMECBCoWUBoVHMBNE+AAAECBAgQIECAwEgBoZGBQYAAgZoFhEY1F0DzBAgQIECAAAECBAgIjYwBAgQINFFAaNTEqugTAQIECBAgQIAAAQJmGhkDBAgQqFlAaFRzATRPgAABAgQIECBAgMBIAaGRgUGAAIGaBYRGNRdA8wQIECBAgAABAgQICI2MAQIECDRRQGjUxKroEwECBAgQIECAAAECZhoZAwQIEKhZQGhUcwE0T4AAAQIECBAgQIDASAGhkYFBgACBmgWERjUXQPMECBAgQIAAAQIECAiNjAECBAg0UUBo1MSq6BMBAgQIECBAgAABAmYaGQMECBCoWUBoVHMBNE+AAAECBAgQIECAwEgBoZGBQYAAgZoFhEY1F0DzBAgQIECAAAECBAgIjYwBAgQINFFAaNTEqugTAQIECBAgQIAAAQJmGhkDBAgQqFlAaFRzATRPgAABAgQIECBAgMBIAaGRgUGAAIGaBYRGNRdA8wQIECBAgAABAgQICI2MAQIECDRRQGjUxKroEwECBAgQIECAAAECZhoZAwQIEKhZQGhUcwE0T4AAAQIECBAgQIDASAGhkYFBgACBmgWERjUXQPMECBAgQIAAAQIECAiNjAECBAg0UUBo1MSq6BMBAgQIECBAgAABAmYaGQMECBCoWUBoVHMBNE+AAAECBAgQIECAwEgBoZGBQYAAgZoFhEY1F0DzBAgQIECAAAECBAgIjYwBAgQINFFAaNTEqugTAQIECBAgQIAAAQJmGhkDBAgQqFlAaFRzATRPgAABAgQIECBAgMBIAaGRgUGAAIGaBYRGNRdA8wQIECBAgAABAgQICI2MAQIECDRRQGjUxKroEwECBAgQIECAAAECZhoZAwQIEKhZQGhUcwE0T4AAAQIECBAgQIDASAGhkYFBgACBmgWERjUXQPMECBAgQIAAAQIECAiNjAECBAg0UUBo1MSq6BMBAgQIECBAgAABAmYaGQMECBCoWUBoVHMBNE+AAAECBAgQIECAwEgBoZGBQYAAgZoFhEY1F0DzBAgQIECAAAECBAgIjYwBAgQINFFAaNTEqugTAQIECBAgQIAAAQJmGhkDBAgQqFlAaFRzATRPgAABAgQIECBAgMBIAaGRgUGAAIGaBYRGNRdA8wQIECBAgAABAgQICI2MAQIECDRRQGjUxKroEwECBAgQIECAAAECZhoZAwQIEKhZQGhUcwE0T4AAAQIECBAgQIDASAGhkYFBgACBmgWERjUXQPMECBAgQIAAAQIECAiNjAECBAg0UUBo1MSq6BMBAgQIECBAgAABAmYaGQMECBCoWUBoVHMBNE+AAAECBAgQIECAwEgBoZGBQYAAgZoFhEY1F0DzBAgQIECAAAECBAgIjYwBAgQINFFAaNTEqugTAQIECBAgQIAAAQJmGhkDBAgQqFlAaFRzATRPgAABAgQIECBAgMBIAaGRgUGAAIGaBYRGNRdA8wQIECBAgAABAgQICI2MAQIECDRRQGjUxKroEwECBAgQIECAAAECZhoZAwQIEKhZQGhUcwE0T4AAAQIECBAgQIDASAGhkYFBgACBmgWERjUXQPMECBAgQIAAAQIECAiNjAECBAg0UUBo1MSq6BMBAgQIECBAgAABAmYaGQMECBCoWUBoVHMBNE+AAAECBAgQIECAwEgBoZGBQYAAgZoFhEY1F0DzBAgQIECAAAECBAgIjYwBAgQINFFAaNTEqugTAQIECBAgQIAAAQJmGhkDBAgQqFlAaFRzATRPgAABAgQIECBAgMBIAaGRgUGAAIGaBYRGNRdA8wQIECBAgAABAgQICI2MAQIECDRRQGjUxKroEwECBAgQIECAAAECZhoZAwQIEKhZQGhUcwE0T4AAAQIECBAgQIDASAGhkYFBgACBmgWERjUXQPMECBAgQIAAAQIECAiNjAECBAg0UUBo1MSq6BMBAgQIECBAgAABAmYaGQMECBCoWUBoVHMBNE+AAAECBAgQIECAwEgBoZGBQYAAgZoFhEY1F0DzBAgQIECAAAECBAgIjYwBAgQINFFAaNTEqugTAQIECBAgQIAAAQJmGhkDBAgQqFlAaFRzATRPgAABAgQIECBAgMBIAaGRgUGAAIGaBYRGNRdA8wQIECBAgAABAgQICI2MAQIECDRRQGjUxKroEwECBAgQIECAAAECZhoZAwQIEKhZQGhUcwE0T4AAAQIECBAgQIDASAGhkYFBgACBmgWERjUXQPMECBAgQIAAAQIECAiNjAECBAg0UUBo1MSq6BMBAgQIECBAgAABAmYaGQMECBCoWUBoVHMBNE+AAAECBAgQIECAwEgBoZGBQYAAgZoFhEY1F0DzBAgQIECAAAECBAgIjYwBAgQINFFAaNTEqugTAQIECBAgQIAAAQJmGhkDBAgQqFlAaFRzATRPgAABAgQIECBAgMBIAaGRgUGAAIGaBYRGNRdA8wQIECBAgAABAgQICI2MAQIECDRRQGjUxKroEwECBAgQIECAAAECZhoZAwQIEKhZQGhUcwE0T4AAAQIECBAgQIDASAGhkYFBgACBmgWERjUXQPMECBAgQIAAAQIECAiNjAECBAg0UUBo1MSq6BMBAgQIECBAgAABAmYaGQMECBCoWUBoVHMBNE+AAAECBAgQIECAwEgBoZGBQYAAgZoFhEY1F0DzBAgQIECAAAECBAgIjYwBAgQINFFAaNTEqugTAQIECBAgQIAAAQJmGhkDBAgQqFlAaFRzATRPgAABAgQIECBAgMBIAaGRgUGAAIGaBYRGNRdA8wQIECBAgAABAgQICI2MAQIECDRRQGjUxKroEwECBAgQIECAAAECZhoZAwQIEKhZQGhUcwE0T4AAAQIECBAgQIDASAGhkYFBgACBmgWERjUXQPMECBAgQIAAAQIECAiNjAECBAg0UUBo1MSq6BMBAgQIECBAgAABAmYaGQMECBCoWUBoVHMBNE+AAAECBAgQIECAwEgBoZGBQYAAgZoFhEY1F0DzBAgQIECAAAECBAgIjYwBAgQINFFAaNTEqugTAQIECBAgQIAAAQJmGhkDBAgQqFlAaFRzATRPgAABAgQIECBAgMBIAaGRgUGAAIGaBYRGNRdA8wQIECBAgAABAgQICI2MAQIECDRRQGjUxKroEwECBAgQIECAAAECZhoZAwQIEKhZQGhUcwE0T4AAAQIECBAgQIDASAGhkYFBgACBmgWERjUXQPMECBAgQIAAAQIECAiNjAECBAg0UUBo1MSq6BMBAgQIECBAgAABAmYaGQMECBCoWUBoVHMBNE+AAAECBAgQIECAwEgBoZGBQYAAgZoFhEY1F0DzBAgQIECAAAECBAgIjYwBAgQINFFAaNTEqugTAQIECBAgQIAAAQJmGhkDBAgQqFlAaFRzATRPgAABAgQIECBAgMBIAaGRgUGAAIGaBYRGNRdA8wQIECBAgAABAgQICI2MAQIECDRRQGjUxKroEwECBAgQIECAAAECZhoZAwQIEKhZQGhUcwE0T4AAAQIECBAgQIDASAGhkYFBgACBmgWERjUXQPMECBAgQIAAAQIECAiNjAECBAg0UUBo1MSq6BMBAgQIECBAgAABAmYaGQMECBCoWUBoVHMBNE+AAAECBAgQIECAwEgBoZGBQYAAgZoFhEY1F0DzBAgQIECAAAECBAgIjYwBAgQINFFAaNTEqugTAQIECBAgQIAAAQJmGhkDBAgQqFlAaFRzATRPgAABAgQIECBAgMBIAaGRgUGAAIGaBYRGNRdA8wQIECBAgAABAgQICI2MAQIECDRRQGjUxKroEwECBAgQIECAAAECZhoZAwQIEKhZQGhUcwE0T4AAAQIECBAgQIDASAGhkYFBgACBmgWERjUXQPMECBAgQIAAAQIECAiNjAECBAg0UUBo1MSq6BMBAgQIECBAgAABAmYaGQMECBCoWUBoVHMBNE+AAAECBAgQIECAwEgBoZGBQYAAgZoFhEY1F0DzBAgQIECAAAECBAgIjYwBAgQINFFAaNTEqugTAQIECBAgQIAAAQJmGhkDBAgQqFlAaFRzATRPgAABAgQIECBAgMBIAaGRgUGAAIGaBYRGNRdA8wQIECBAgAABAgQICI2MAQIECDRRQGjUxKroEwECBAgQIECAAAECZhoZAwQIEKhZQGhUcwE0T4AAAQIECBAgQIDASAGhkYFBgACBmgWERjUXQPMECBAgQIAAAQIECAiNjAECBAg0UUBo1MSq6BMBAgQIECBAgAABAmYaGQMECBCoWUBoVHMBNE+AAAECBAgQIECAwEgBoZGBQYAAgZoFhEY1F0DzBAgQIECAAAECBAgIjYwBAgQINFFAaNTEqugTAQIECBAgQIAAAQJmGhkDBAgQqFlAaFRzATRPgAABAgQIECBAgMBIAaGRgUGAAIGaBYRGNRdA8wQIECBAgAABAgQICI2MAQIECDRRQGjUxKroEwECBAgQIECAAAECZhoZAwQIEKhZQGhUcwE0T4AAAQIECBAgQIDASAGhkYFBgACBmgWERjUXQPMECBAgQIAAAQIECAiNjAECBAg0UUBo1MSq6BMBAgQIECBAgAABAmYaGQMECBCoWUBoVHMBNE+AAAECBAgQIECAwEgBoZGBQYAAgZoFhEY1F0DzBAgQIECAAAECBAgIjYwBAgQINFFAaNTEqugTAQIECBAgQIAAAQJmGhkDBAgQqFlAaFRzATRPgAABAgQIECBAgMBIAaGRgUGAAIGaBYRGNRdA8wQIECBAgAABAgQICI2MAQIECDRRQGjUxKroEwECBAgQIECAAAECZhoZAwQIEKhZQGhUcwE0T4AAAQIECBAgQIDASAGhkYFBgACBmgWERjUXQPMECBAgQIAAAQIECAiNjAECBAg0UUBo1MSq6BMBAgQIECBAgAABAmYaGQMECBCoWUBoVHMBNE+AAAECBAgQIECAwEgBoZGBQYAAgZoFhEY1F0DzBAgQIECAAAECBAgIjYwBAgQINFFAaNTEqugTAQIECBAgQIAAAQJmGhkDBAgQqFlAaFRzATRPgAABAgQIECBAgMBIAaGRgUGAAIGaBYRGNRdA8wQIECBAgAABAgQICI2MAQIECDRRQGjUxKroEwECBAgQIECAAAECZhoZAwQIEKhZQGhUcwE0T4AAAQIECBAgQIDASAGhkYFBgACBmgWERjUXQPMECBAgQIAAAQIECAiNjAECBAg0UUBo1MSq6BMBAgQIECBAgAABAmYaGQMECBCoWUBoVHMBNE+AAAECBAgQIECAwEgBoZGBQYAAgZoFhEY1F0DzBAgQIECAAAECBAgIjYwBAgQINFFAaNTEqugTAQIECBAgQIAAAQJmGhkDBAgQqFlAaFRzATRPgAABAgQIECBAgMBIAaGRgUGAAIGaBYRGNRdA8wQIECBAgAABAgQICI2MAQIECDRRQGjUxKroEwECBAgQIECAAAECZhoZAwQIEKhZQGhUcwE0T4AAAQIECBAgQIDASAGhkYFBgACBmgWERjUXQPMECBAgQIAAAQIECAiNjAECBAg0UUBo1MSq6BMBAgQIECBAgAABAmYaGQMECBCoWUBoVHMBNE+AAAECBAgQIECAwEgBoZGBQYAAgZoFhEY1F0DzBAgQIECAAAECBAgIjYwBAgQINFFAaNTEqugTAQIECBAgQIAAAQJmGhkDBAgQqFlAaFRzATRPgAABAgQIECBAgMBIAaGRgUGAAIGaBYRGNRdA8wQIECBAgAABAgQICI2MAQIECDRRQGjUxKroEwECBAgQIECAAAECZhoZAwQIEKhZQGhUcwE0T4AAAQIECBAgQIDASAGhkYFBgACBmgWERjUXQPMECBAgQIAAAQIECAiNjAECBAg0UUBo1MSq6BMBAgQIECBAgAABAmYaGQMECBCoWUBoVHMBNE+AAAECBAgQIECAwEgBoZGBQYAAgZoFhEY1F0DzBAgQIECAAAECBAgIjYwBAgQINFFAaNTEqugTAQIECBAgQIAAAQJmGhkDBAgQqFlAaFRzATRPgAABAgQIECBAgMBIAaGRgUGAAIGaBYRGNRdA8wQIECBAgAABAgQICI2MAQIECDRRQGjUxKroEwECBAgQIECAAAECZhoZAwQIEKhZQGhUcwE0T4AAAQIECBAgQIDASAGhkYFBgACBmgWERjUXQPMECBAgQIAAAQIECAiNjAECBAg0UUBo1MSq6BMBAgQIECBAgAABAmYaGQMECBCoWUBoVHMBNE+AAAECBAgQIECAwEgBoZGBQYAAgZoFhEY1F0DzBAgQIECAAAECBAgIjYwBAgQINFFAaNTEqugTAQIECBAgQIAAAQJmGhkDBAgQqFlAaFRzATRPgAABAgQIECBAgMBIAaGRgUGAAIGaBYRGNRdA8wQIECBAgAABAgQICI2MAQIECDRRQGjUxKroEwECBAgQIECAAAECZhoZAwQIEKhZQGhUcwE0T4AAAQIECBAgQIDASAGhkYFBgACBmgWERjUXQPMECBAgQIAAAQIECAiNjAECBAg0UUBo1MSq6BMBAgQIECBAgAABAmYaGQMECBCoWUBoVHMBNE+AAAECBAgQIECAwEgBoZGBQYAAgZoFhEY1F0DzBAgQIECAAAECBAgIjYwBAgQINFFAaNTEqugTAQIECBAgQIAAAQJmGhkDBAgQqFlAaFRzATRPgAABAgQIECBAgMBIAaGRgUGAAIGaBYRGNRdA8wQIECBAgAABAgQICI2MAQIECDRRQGjUxKroEwECBAgQIECAAAECZhoZAwQIEKhZQGhUcwE0T4AAAQIECBAgQIDASAGhkYFBgACBmgWERjUXQPMECBAgQIAAAQIECAiNjAECBAg0UUBo1MSq6BMBAgQIECBAgAABAmYaGQMECBCoWUBoVHMBNE+AAAECBAgQIECAwEgBoZGBQYAAgZoFhEY1F0DzBAgQIECAAAECBAgIjYwBAgQINFFAaNTEqugTAQIECBAgQIAAAQJmGhkDBAgQqFlAaFRzATRPgAABAgQIECBAgMBIAaGRgUGAAIGaBYRGNRdA8wQIECBAgAABAgQICI2MAQIECDRRQGjUxKroEwECBAgQIECAAAECZhoZAwQIEKhZQGhUcwE0T4AAAVnIo3MAAAxsSURBVAIECBAgQIDASAGhkYFBgAABAgQIECBAgAABAgQIECDwOQJCI4OCAAECBAgQIECAAAECBAgQIEBAaGQMECBAgAABAgQIECBAgAABAgQIrC5gptHqRo4gQIAAAQIECBAgQIAAAQIECGw4AaHRhiu5CyZAgAABAgQIECBAgAABAgQIrC4gNFrdyBEECBAgQIAAAQIECBAgQIAAgQ0nIDTacCV3wQQIECBAgAABAgQIECBAgACB1QWERqsbOYIAAQIECBAgQIAAAQIECBAgsOEEhEYbruQumAABAgQIECBAgAABAgQ2osAll1xy1vT09EP3799/W0qpX5fB1VdfPX3bbbed3+v1Pr1aH6644ooLbrjhhn9PKZWrHbv0+Z07d24755xzPnvdddfdd7zX7dmz55z777+/tXfv3sOjjjte+7OzszPnnHPO9PXXX3/vyfRtnI4VGo1TtfSVAAECBAgQIECAAAECBAicpMCVV165ZW5u7i0ppRcseekriqL4tZM81Qkffskll5w/MzPzyymlF05PTz/mxhtv/ES8uNPpfFtZlj+XUjq3LMv3Zln2vKIoIsR60CPP869LKb01jkspHSrL8kd6vd4v7Ny58yn9fv/a5ceXZfndvV7vTXmePz2l9OcppYcPj/mZoih+cERIlrXb7f+eZdm3DY/73W3btn3LNddcMx//vVL7w2u4qCzL30wpPWf42g9MT0+/4MYbb9x/wkBjcqDQaEwKpZsECBAgQIAAAQIECBAgQOBUBPI8/64sy761LMsviYAmz/NnpZTe1u/3d9100037TuWcx3vN7OzsZVNTU9eklN6XUnpeFRp1Op0ryrK8vt/vP/P+++//wJYtW96cZdmF3W732UvPd9lllz18enr6zpTSFxVF8S87duz4/Far9d6U0qXbtm375Gc+85kIkgaPI0eOnJ1S6vb7/a85evTou2ZmZu5PKb26KIpfmp2dfWz0oyzL/9Lr9f5waRvtdvtbsyz7iZTSE+bn5+enp6ffWZblmyOYOl77RVF8LM/zn0kpPTml9NytW7c+cPjw4QjfHlkUxZev4HJJSilmS8X/VnrEMQfWuhanez6h0ekKej0BAgQIECBAgAABAgQIEGiwQJ7nv1aW5Vm9Xu/FVTd37tz5xKNHj35yZmbmIfPz839bFEUez+3atWvzwsLCzVNTU1e1Wq3y6NGjH0wp/VJK6YdTSh8ry/Kli//++rIsv6Isy3+amZn5+htuuOHupZff6XSe1u/3Z7Ms+4uU0j1LQqMfLMvy8UVRPD+Oz/P8sSmlW+bm5i44cODAsUDl8ssvv3h+fv5x3W73H5f0aa7Vau3Zt2/fh5a2lef5t6eUXlwUxZOj3cVg7N3btm3btGTG0FvLsnx0r9f70mWv+z9lWf5Zr9f71WFfXjgMm/as1n6e5zED6taiKF4Xr+10Ot9YluX3FEWx5zih0fkppX9d4fnHDwMloVGDf450jQABAgQIECBAgAABAgQITJxAp9N5dlmWf5NSihkxf7p169b3Vnv9tNvtTpZl+4qiGEwqiX2PYrZOWZbbsyyLfYRuTSn9Rkrpv2ZZ9lMRFmVZ9vL5+fn3T01N/WE1O2cU2q5du7YuLCwcqkKjdrsdS7oO9Hq9Hx0en+V53l9YWHji/v37P7z8HDt37tyxsLAQ4dOLYpnatm3bnluFQUvCpE+WZfmyXq/3l9W1bN68+cIqyMrzPK7h3xaX4l28LDSKmUzfWBTF24ah0ZNSSh8oiqJV7Z+0UvvtdvvJWZaF5y8shkWHsyyL8Og1RVH83nEGz0rBUMwwOl6gVOt4NNOoVn6NEyBAgAABAgQIECBAgACB9RfI8/wrF2ezfFdK6erhHkE/1+v1frzdbucnEBo9Kpa1dTqd55Vl+caiKC4bBi0/XZblll6v96oTCY3yPP/7CK96vd6vVMcvzhSK8Oabi6L4++XnyPP8tSmll6eUtqeUvqkoit9fuiF2p9N5UVmWP1AUxc7hnkWtxeuM8OnTWZb9TMxqSinFUrJDRVGct+T8cdxCPN/r9T4S/75jx45LW63WzYtB0HlFURwaXt/I9nfv3j07Pz//R/GylFIshzuyaPj13W73PcepZARD0Z+YbVTNqorAKP4XS/ka+RAaNbIsOkWAAAECBAgQIECAAAECBNZeIO4Gtrgs7SWLYc/PLgYYX1WWZbFaaDQ3N3f2gQMHHuh0Os+JDamrZVjtdvv1WZY9vCiKV55IaNTpdN5SluWdRVHEUrd4TOV5Pp9l2ZXdbveGla42z/MrU0ofabVaT923b1/sbZTiDmy33357sRgivX7pDJ+4a9rCwsIbsiz7fxY3qr5uGMh8bVEUX7D0/HmefzLLspdUS+CGG2z/47JwafCS5e3nef7+sizf1+v1/t8Iq9rt9iuzLHvD3Nzcw8PpBIKjKiSKAC+WpDVuWVp1DUKjtf8ZdEYCBAgQIECAAAECBAgQINAYgTzPX7ywsPC+/fv376061W63rx3uOfRXsZH01NTUuXHb+Xa7/dAsyz61dHnaWoVGeZ5/73Bz6y+LfuzcufPyfr9/w8zMzNalt61vt9tXpZQuW7p5dcxSSim9qyiK2Lw6tdvtb8iy7Ge3bt166XXXXXc0/i2W1m3evDnv9XoRQPWHgc9Pp5QeWhTFS5eFRnG+txVF8cbhcS8vy/Kbe73eU4/X/rZt23769ttvP5pl2dOrmUW7d+++cH5+/jNlWe7s9XrdVQpfLUerZhs1NjCK6xAaNebHWEcIECBAgAABAgQIECBAgMDaC7Tb7V/OsuwJWZa9sNvtfjLP82dEYJJl2bMeeOCB9w73MHrlfffd95uLdwP7/rIsX7ceodHwrmr7syx7zvz8/DumpqZ+J6V0b1EU/ymWh8WMo9ibaHZ29glTU1Ox4fUXbdu27Z133nnnk/r9/j9mWfa1w5lBMUNpb5Zlv9Dtdt9cie3Zs+ecw4cP35Fl2Wu73e6vVtfZ7/efctNNN70vZhPFsTFbaRg6vWVhYeEJMzMzR+fn599dluWP9Xq9X1+t/TzP37W4bC7aeVmr1ZpbWFj4ocV9k16xbdu2C5fuuXScSsYytXistDH22g+CUzyj0OgU4byMAAECBAgQIECAAAECBAiMg0Cn07kopfTbsYn1kv7+UFEUPxV7BHU6ne8ZLleLp+POYC9JKT1qeOytazXTKM7XbrdfGmFPbGwdG08vhkPP3bt37x15nn9flmVf2O12nx3HDe+KFvsRxXGHYvlXt9t9w/C52J/pLffee+8lBw8ejD2Fjj06nc6XlmX5p9XryrJ8fa/Xe9PwdX+/OEPon7rd7s8P/zs2Bo89k+Lxu0VRxIbb1QyluCvbyPY7nc4lZVnGptdPH762V5blC3u93gdOYjzEHkfH7hh3Eq87o4cKjc4ot8YIECBAgAABAgQIECBAgEA9AnE3syNHjly8ffv2jy+fEbNr167N09PTm5YuE1uvXu7Zs2fT4cOHHxaba1dtxG3ssyz71263+8tL2s0uu+yyh918882frsKcE+lT7Hd08ODBxyy/zth0e2Fh4cuW3qnt0ksvfUi/388OHDgwKsA5bvsxs+nuu+/edMstt3z2RPo1jscIjcaxavpMgAABAgQIECBAgAABAgQmSCD2WJqamvrWffv2fXQ9LuvKK6/cMjc3d3tRFDHDZzCbyGN1AaHR6kaOIECAAAECBAgQIECAAAECBNZRYHZ2dvv+/ftvjeVy69RM7IN08dLZTevUzkSdVmg0UeV0MQQIECBAgAABAgQIECBAgACBtREQGq2No7MQIECAAAECBAgQIECAAAECBCZKQGg0UeV0MQQIECBAgAABAgQIECBAgACBtREQGq2No7MQIECAAAECBAgQIECAAAECBCZKQGg0UeV0MQQIECBAgAABAgQIECBAgACBtREQGq2No7MQIECAAAECBAgQIECAAAECBCZKQGg0UeV0MQQIECBAgAABAgQIECBAgACBtREQGq2No7MQIECAAAECBAgQIECAAAECBCZKQGg0UeV0MQQIECBAgAABAgQIECBAgACBtREQGq2No7MQIECAAAECBAgQIECAAAECBCZKQGg0UeV0MQQIECBAgAABAgQIECBAgACBtREQGq2No7MQIECAAAECBAgQIECAAAECBCZKQGg0UeV0MQQIECBAgAABAgQIECBAgACBtREQGq2No7MQIECAAAECBAgQIECAAAECBCZK4P8DFgyNFFnfzvoAAAAASUVORK5CYII=\" />"
      ],
      "text/plain": [
       "Open the notebook in JupyterLab with the Atoti JupyterLab extension enabled to build this widget."
      ]
     },
     "metadata": {},
     "output_type": "display_data"
    }
   ],
   "source": [
    "# Slicing by two hierarchies: item category x item name\n",
    "session.widget"
   ]
  },
  {
   "cell_type": "code",
   "execution_count": 23,
   "id": "71933eca-beaf-4009-961e-af7e7dfe4852",
   "metadata": {
    "atoti": {
     "widget": {
      "mapping": {
       "horizontalSubplots": [],
       "stackBy": [
        "ALL_MEASURES"
       ],
       "values": [
        "[Measures].[total_price.SUM]"
       ],
       "verticalSubplots": [],
       "xAxis": [
        "[time_dim_table].[muilti-level date].[Year]"
       ]
      },
      "query": {
       "mdx": "WITH  Member [Measures].[[time_dim_table]].[muilti-level date]].[Year]]_for_order] AS [time_dim_table].[muilti-level date].CurrentMember.MEMBER_VALUE  SELECT NON EMPTY {[Measures].[total_price.SUM]} ON COLUMNS, NON EMPTY Hierarchize(Descendants({[time_dim_table].[muilti-level date].[ALL].[AllMember]}, 1, SELF_AND_BEFORE)) ON ROWS FROM [sales_fact_table] CELL PROPERTIES VALUE, FORMATTED_VALUE, BACK_COLOR, FORE_COLOR, FONT_FLAGS",
       "updateMode": "once"
      },
      "serverKey": "default",
      "style": {
       "isTextVisible": true
      },
      "widgetKey": "plotly-stacked-column-chart"
     }
    }
   },
   "outputs": [
    {
     "data": {
      "application/vnd.atoti.widget.v0+json": {
       "sessionId": "1704486346_RJZODK",
       "sessionLocation": {
        "https": false,
        "port": 9092
       },
       "widgetCreationCode": "session.widget"
      },
      "text/html": [
       "<img height=\"352\" width=\"1165\" src=\"data:image/png;base64,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\" />"
      ],
      "text/plain": [
       "Open the notebook in JupyterLab with the Atoti JupyterLab extension enabled to build this widget."
      ]
     },
     "metadata": {},
     "output_type": "display_data"
    }
   ],
   "source": [
    "session.widget"
   ]
  }
 ],
 "metadata": {
  "kernelspec": {
   "display_name": "Python 3 (ipykernel)",
   "language": "python",
   "name": "python3"
  },
  "language_info": {
   "codemirror_mode": {
    "name": "ipython",
    "version": 3
   },
   "file_extension": ".py",
   "mimetype": "text/x-python",
   "name": "python",
   "nbconvert_exporter": "python",
   "pygments_lexer": "ipython3",
   "version": "3.10.13"
  }
 },
 "nbformat": 4,
 "nbformat_minor": 5
}
