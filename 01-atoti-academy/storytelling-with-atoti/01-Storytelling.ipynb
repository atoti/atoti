{
 "cells": [
  {
   "cell_type": "markdown",
   "id": "cdf4be11-e265-4874-8e3a-94eec0d442da",
   "metadata": {
    "editable": true,
    "slideshow": {
     "slide_type": ""
    },
    "tags": []
   },
   "source": [
    "# What is data storytelling?  \n",
    "\n",
    "Let's start with some basic definitions:\n",
    "\n",
    "**Story**\n",
    "\n",
    "A story is a narrative, either true or fictitious, and is used to communicate an idea to the audience based on a selected theme. It can be spoken, written or come in other forms of media such as a movie.  \n",
    "\n",
    "**Storytelling**\n",
    "\n",
    "Storytelling is the way we convey key messages to the audience through stories that resonate with them.  \n",
    "\n",
    "**Data storytelling**\n",
    "\n",
    "Data storytelling is a powerful combination of data and narrative to help our audience and stakeholders understand complex information, and then make informed decisions. To be successful, you need to craft a narrative around your data, and present it in a way that is both easy to understand and resonates with your audience."
   ]
  },
  {
   "cell_type": "markdown",
   "id": "ce067e20-c471-48c3-a61b-3c68ef258c8c",
   "metadata": {},
   "source": [
    "# Objective of data storytelling \n",
    "\n",
    "We want to be able to turn raw data into actionable insights, so that stakeholders can make informed decisions and drive positive change.  "
   ]
  },
  {
   "cell_type": "markdown",
   "id": "41599e20-ec94-4d30-b7e8-44b367c04af0",
   "metadata": {
    "editable": true,
    "slideshow": {
     "slide_type": ""
    },
    "tags": []
   },
   "source": [
    "# Getting started with Storytelling\n",
    "\n",
    "There are some easy techniques to get started with data storytelling.\n",
    "A good place to start is with the \"H and 5 W questions\" - Who, What, When, Where, Why, How.  \n",
    "\n",
    "We will use: \n",
    "- \"Who\" and \"What\" to define the scope of our stories and data.  \n",
    "- \"When\" and \"Where\" to set the context.\n",
    "- \"How\" to determine the presentation of our data.\n",
    "- \"Why\" to structure and streamline our stories.\n",
    "\n",
    "In this notebook, we explore each of these with some examples:  \n",
    "- [1 Scoping stories](#1-Scoping-stories)\n",
    "    - [1.1 Scoping with \"Who\" questions](#1.1-Scoping-with-\"Who\"-questions)\n",
    "    - [1.2 Scoping with \"What\" questions](#1.2-Scoping-with-\"What\"-questions)\n",
    "- [2 Setting the story context](#2-Setting-the-story-context)\n",
    "    - [2.1 Setting the context with \"When\"](#2.1-Setting-the-context-with-\"When\")\n",
    "    - [2.2 Setting the context with \"Where\"](#2.2-Setting-the-context-with-\"Where\")  \n",
    "    \n",
    "Continue on with the following notebooks:  \n",
    "- [02-Storytelling.ipynb](02-Storytelling.ipynb): Story presentation with \"How\" question\n",
    "- [03-Storytelling.ipynb](03-Storytelling.ipynb): Structuring the story"
   ]
  },
  {
   "cell_type": "markdown",
   "id": "099de909-b70f-4455-927e-2850b9d9c962",
   "metadata": {},
   "source": [
    "<div style=\"text-align: center;\" ><a href=\"https://www.atoti.io/?utm_source=gallery&utm_content=01-storytelling\" target=\"_blank\" rel=\"noopener noreferrer\"><img src=\"https://data.atoti.io/notebooks/banners/Discover-Atoti-now.png\" alt=\"Try atoti\"></a></div>"
   ]
  },
  {
   "cell_type": "markdown",
   "id": "e7f948a3-43ae-4278-9910-4d496afc81cd",
   "metadata": {},
   "source": [
    "## 1 Scoping stories"
   ]
  },
  {
   "cell_type": "markdown",
   "id": "d3bcc45d-0fc8-4663-a377-b7420f7b72cb",
   "metadata": {},
   "source": [
    "The universe is huge and we can't take everything and put them into a story.  \n",
    "\n",
    "> KISS: Keep it Short and Simple\n",
    "\n",
    "Therefore, we use scope to define the boundary and parameters as way to keep our story concise.    \n",
    "By keeping only the necessary details, we will improve the clarity and effectiveness of the message that we want to deliver with the story.  "
   ]
  },
  {
   "cell_type": "markdown",
   "id": "bc4c06a4-ee1b-4495-a7dd-d4e9e947a385",
   "metadata": {},
   "source": [
    "### 1.1 Scoping with \"Who\" questions  \n",
    "\n",
    "In literature, the \"who\" refers to the characters in the stories. \n",
    "However, in data stories, it refers to who our audience is.  \n",
    "We need to know who our audience is and what they do.  This will help to set the premise for our data stories and also determine the mode of delivery.    \n",
    "\n",
    "**Audience's nature of business**  \n",
    "If we are analysts working in a bank, our stories will revolve around financial topics such as profits and losses, interest rates and spreads, risks etc.  \n",
    "In a pharmaceutical company, our stories may revolve around clinical trial results, drug life-cycle management, drug sales forecast etc.  \n",
    "For retailers, we will look at the sales, trends and profitability.\n",
    "\n",
    "**Type of users**  \n",
    "Within the company itself, we should also identify which group of users we are addressing. For business groups, they are interested in the key business metrics that will help them make informed decisions. For technical group or the analysts, they are probably interested in deeper diving into how key metrics are derived. \n",
    "\n",
    "Apart from the difference in the level of detail in the stories, the way we present the stories to these groups can also vary. \n",
    "The business users may be happy with reports or interactive dashboards. On the other hand, we can present our stories in Jupyter Notebooks to the technical/analyst group of users.\n",
    "\n",
    "<img src=\"https://data.atoti.io/atoti-academy/images/storytelling-with-atoti/1_1_audiences_views.png\" />\n",
    "\n",
    "**Interest of users**  \n",
    "In a company, there are many departments and teams. Each of them has their own focus and interests. These again, set the boundaries for our stories.  \n",
    "For instance, the sales team of the pharmaceutical company will have a higher interest in the drug sales forecast than the details of the clinical trials. A summary of the success rate for the trials and its performance against competitors will probably suffice for the sales team.    "
   ]
  },
  {
   "cell_type": "markdown",
   "id": "d03b330b-2e72-4ec5-b542-fae9a9eca682",
   "metadata": {},
   "source": [
    "### 1.2 Scoping with \"What\" questions  \n",
    "\n",
    "There are many \"What\" questions that we can have:  \n",
    "- [What is the purpose of the stories we are crafting?](#1.2.1-What-is-the-purpose-of-the-stories-we-are-crafting?)  \n",
    "- [What type of data do we already have?](#1.2.2-What-type-of-data-do-we-already-have?)  \n",
    "- [What type of data do we need in addition to what we already have?](#1.2.3-What-type-of-data-do-we-need-in-addition-to-what-we-already-have?)\n"
   ]
  },
  {
   "cell_type": "markdown",
   "id": "cd49d3c7-da59-4652-8917-132a1f6079b7",
   "metadata": {},
   "source": [
    "#### 1.2.1 What is the purpose of the stories we are crafting?  \n",
    "\n",
    "We mentioned that the aim of data storytelling is to help the stakeholders make informed decisions. So, we need to understand these decisions before we can prepare the necessary insights. For instance, let's assume our stakeholder is a retailer who would like to cut costs and increase profit. There are many ways to achieve the same objective and this is where we get creative.  \n",
    "\n",
    "**To cut costs, the stakeholder may consider**:\n",
    "\n",
    "* Dropping some products from his/her inventory.\n",
    "* Changing their shipment company to one that provides more competitive rates.   \n",
    "\n",
    "**To increase profit, the stakeholder may consider**:  \n",
    "\n",
    "* Leveraging the pricing model for bulk purchases by increasing stock for fast selling products.\n",
    "* Running marketing events such as discounts for loyal shoppers or discount sales.  \n",
    "* Implementing commission systems for employees based on sales targets. \n",
    "\n",
    "Now we know which decisions the stakeholder might consider, we should have an idea of the information we need to provide him/her. For instance, in order to drop products from the inventory, we need to know the performance of each product.\n",
    "\n",
    "Cleary, this might lead us to another question — how does the stakeholder define performance? Let's say in this case, performance is volume sold vs its profit margin. And in order to make decisions about changing the shipment company, we should find out the volume of shipment vs the rates charged by the company in comparison to the other shipment companies. "
   ]
  },
  {
   "cell_type": "markdown",
   "id": "33cf5953-8b06-4bd1-949a-a2ebb5ad7b70",
   "metadata": {
    "tags": []
   },
   "source": [
    "#### 1.2.2 What type of data do we already have?\n",
    "\n",
    "> **You can't make bricks without straws**  \n",
    "\n",
    "Our analysis can only be conducted with the data we have, so we need to make sure we have the correct dataset. As a step forward, we try to gather as many insights as we can with the data we have on-hand and align them with our objectives. This should help us recognize the gap between what we have and what we want to have in our data.  "
   ]
  },
  {
   "cell_type": "markdown",
   "id": "1034ff59-7a36-4d3f-9482-0d67e5d6fea4",
   "metadata": {},
   "source": [
    "**Data Exploration**\n",
    "\n",
    "This is the stage when we try to analyze the data and find as much useful insights as we can from what we have.  \n",
    "\n",
    "💡To illustrate and provide data for our story we will use a script to create a multi-dimensional data cube using [Atoti](https://www.atoti.io/). Refer to the [training material](../03-Atoti/01-intro-Atoti.ipynb) under 03-Atoti if you are unfamiliar with Atoti.  "
   ]
  },
  {
   "cell_type": "code",
   "execution_count": 1,
   "id": "60b78c38-c9bd-43d7-a9af-a848dcb7a657",
   "metadata": {
    "tags": []
   },
   "outputs": [],
   "source": [
    "import atoti as tt\n",
    "from utils import setup"
   ]
  },
  {
   "cell_type": "code",
   "execution_count": 2,
   "id": "978351bf-addf-4bbc-ba4d-8bd28b4c28ea",
   "metadata": {
    "editable": true,
    "slideshow": {
     "slide_type": ""
    },
    "tags": []
   },
   "outputs": [
    {
     "data": {
      "image/png": "[encoded data removed]",
      "text/plain": [
       "erDiagram\n",
       "  \"Orders\" {\n",
       "    _ String PK \"OrderId\"\n",
       "    _ LocalDate \"OrderDate\"\n",
       "    _ int \"QuantitySold\"\n",
       "    _ double \"SellingPricePerUnit\"\n",
       "    _ String \"ShipperName\"\n",
       "    _ String PK \"ProductId\"\n",
       "    _ String \"EmployeeId\"\n",
       "    _ String \"CustomerId\"\n",
       "  }\n",
       "  \"Products\" {\n",
       "    _ String PK \"ProductId\"\n",
       "    _ String \"ProductName\"\n",
       "    _ String \"ProductCategory\"\n",
       "    _ String \"Supplier\"\n",
       "    nullable double \"PurchasingPricePerUnit\"\n",
       "  }\n",
       "  \"Customers\" {\n",
       "    _ String PK \"CustomerId\"\n",
       "    _ String \"CompanyName\"\n",
       "    _ String \"Address\"\n",
       "    _ String \"City\"\n",
       "    _ String \"PostalCode\"\n",
       "    _ String \"Region\"\n",
       "    _ String \"Country\"\n",
       "    _ String \"Subregion\"\n",
       "    _ String \"Phone\"\n",
       "  }\n",
       "  \"Shippers\" {\n",
       "    _ String PK \"Shipper\"\n",
       "    _ String PK \"Interval\"\n",
       "    nullable double \"Rate\"\n",
       "  }\n",
       "  \"Employees\" {\n",
       "    _ String PK \"EmployeeId\"\n",
       "    _ String \"EmployeeName\"\n",
       "    _ String \"EmployeeZone\"\n",
       "    _ String \"EmployeeCountry\"\n",
       "    _ String \"EmployeeCity\"\n",
       "  }\n",
       "  \"HistoricalPrices\" {\n",
       "    _ String PK \"ProductId\"\n",
       "    nullable double[] \"HistoricalPrice\"\n",
       "  }\n",
       "  \"Orders\" }o--o| \"Customers\" : \"`CustomerId` == `CustomerId`\"\n",
       "  \"Orders\" }o--o| \"Employees\" : \"`EmployeeId` == `EmployeeId`\"\n",
       "  \"Orders\" }o--o| \"Products\" : \"`ProductId` == `ProductId`\"\n",
       "  \"Orders\" }o..o{ \"Shippers\" : \"`ShipperName` == `Shipper`\"\n",
       "  \"Products\" }o--o| \"HistoricalPrices\" : \"`ProductId` == `ProductId`\""
      ]
     },
     "execution_count": 2,
     "metadata": {},
     "output_type": "execute_result"
    }
   ],
   "source": [
    "# instantiating our instance and creating the Atoti cube with our data\n",
    "session, cube = setup.create_app()\n",
    "# aliasing cube properties\n",
    "h, l, m = cube.hierarchies, cube.levels, cube.measures\n",
    "\n",
    "session.tables.schema"
   ]
  },
  {
   "cell_type": "markdown",
   "id": "453e7bb1-202e-4ac1-968e-e13e38d953c2",
   "metadata": {
    "editable": true,
    "slideshow": {
     "slide_type": ""
    },
    "tags": []
   },
   "source": [
    "In our context, we are looking at sales data and we will start by exploring this.\n",
    "The data schema allows us to have a high-level understand of the data we have and the relationship between each table.  \n",
    "\n",
    "At a glance, we should be able to provide these information about our current situation, for example:\n",
    "\n",
    "* Number of orders. \n",
    "* Sales of volume product.\n",
    "* Profit by product.  \n",
    "\n",
    "It will be much easier if we can visualize the data to have a better gist of how we can better address our needs. So, let's leverage Atoti's interactive widget to build something that reflects our current situation.  "
   ]
  },
  {
   "cell_type": "code",
   "execution_count": 3,
   "id": "d665749a-e39c-43f0-82a0-f4ec7cad5fd3",
   "metadata": {
    "atoti": {
     "height": 210,
     "widget": {
      "columnWidths": {
       "[Measures].[contributors.COUNT]": 140
      },
      "mapping": {
       "columns": [
        "ALL_MEASURES"
       ],
       "measures": [
        "[Measures].[contributors.COUNT]"
       ],
       "rows": [
        "[Orders].[OrderDate].[OrderDate]"
       ]
      },
      "name": "Number of orders",
      "query": {
       "mdx": "SELECT NON EMPTY Hierarchize(Descendants({[Orders].[OrderDate].[AllMember]}, 1, SELF_AND_BEFORE)) ON ROWS, NON EMPTY {[Measures].[contributors.COUNT]} ON COLUMNS FROM [Order Cube] CELL PROPERTIES VALUE, FORMATTED_VALUE, BACK_COLOR, FORE_COLOR, FONT_FLAGS",
       "updateMode": "once"
      },
      "serverKey": "default",
      "widgetKey": "pivot-table"
     }
    },
    "tags": []
   },
   "outputs": [
    {
     "data": {
      "application/vnd.atoti.widget.v0+json": {
       "sessionId": "1715370982_4M9LT7",
       "sessionLocation": {
        "https": false,
        "port": 9091
       },
       "widgetCreationCode": "session.widget"
      },
      "text/html": [
       "<img height=\"0\" width=\"0\" src=\"data:,\" />"
      ],
      "text/plain": [
       "Open the notebook in JupyterLab with the Atoti JupyterLab extension enabled to build this widget."
      ]
     },
     "metadata": {},
     "output_type": "display_data"
    }
   ],
   "source": [
    "session.widget"
   ]
  },
  {
   "cell_type": "markdown",
   "id": "dd21041d-a925-4ae7-9f2f-bd10139503cd",
   "metadata": {},
   "source": [
    "We can see from the table that we have the same number of orders each day. \n",
    "We can add more depth to the query by adding in other factors into the query such as the country of the customer.\n",
    "This will allow us to investigate which countries contribute most to the overall sales figures."
   ]
  },
  {
   "cell_type": "code",
   "execution_count": 4,
   "id": "2e92250c-bcb4-46e3-bd74-58b2a1a2cea8",
   "metadata": {
    "atoti": {
     "height": 362,
     "widget": {
      "columnWidths": {
       "[Measures].[contributors.COUNT],[Orders].[OrderDate].[AllMember]": 146
      },
      "mapping": {
       "columns": [
        "ALL_MEASURES",
        "[Orders].[OrderDate].[OrderDate]"
       ],
       "measures": [
        "[Measures].[contributors.COUNT]"
       ],
       "rows": [
        "[Customers].[Country].[Country]"
       ]
      },
      "name": "Number of orders",
      "query": {
       "mdx": "SELECT NON EMPTY Hierarchize(Descendants({[Customers].[Country].[AllMember]}, 1, SELF_AND_BEFORE)) ON ROWS, NON EMPTY Crossjoin({[Measures].[contributors.COUNT]}, Hierarchize(Descendants({[Orders].[OrderDate].[AllMember]}, 1, SELF_AND_BEFORE))) ON COLUMNS FROM [Order Cube] CELL PROPERTIES VALUE, FORMATTED_VALUE, BACK_COLOR, FORE_COLOR, FONT_FLAGS",
       "updateMode": "once"
      },
      "serverKey": "default",
      "widgetKey": "pivot-table"
     }
    },
    "tags": []
   },
   "outputs": [
    {
     "data": {
      "application/vnd.atoti.widget.v0+json": {
       "sessionId": "1715370982_4M9LT7",
       "sessionLocation": {
        "https": false,
        "port": 9091
       },
       "widgetCreationCode": "session.widget"
      },
      "text/html": [
       "<img height=\"0\" width=\"0\" src=\"data:,\" />"
      ],
      "text/plain": [
       "Open the notebook in JupyterLab with the Atoti JupyterLab extension enabled to build this widget."
      ]
     },
     "metadata": {},
     "output_type": "display_data"
    }
   ],
   "source": [
    "session.widget"
   ]
  },
  {
   "cell_type": "markdown",
   "id": "b9f2f709-b39d-4707-b0c3-6e063df54813",
   "metadata": {},
   "source": [
    "And, we can go further, as overall orders is not the same as profit. It will also be interesting to see which country yields the highest profit. Feel free to use the Atoti content editor on the left navigation bar to add the measures or hierarchies that may interest you."
   ]
  },
  {
   "cell_type": "code",
   "execution_count": 5,
   "id": "3c98a597-37cc-4d5e-82a4-51d05b2a5fab",
   "metadata": {
    "atoti": {
     "height": 470,
     "widget": {
      "columnWidths": {
       "[Measures].[contributors.COUNT],[Orders].[OrderDate].[AllMember]": 146,
       "[Orders].[OrderDate].[AllMember],[Measures].[contributors.COUNT]": 140,
       "[Orders].[OrderDate].[AllMember].[2019-02-15],[Measures].[contributors.COUNT]": 140,
       "[Orders].[OrderDate].[AllMember].[2019-02-16],[Measures].[contributors.COUNT]": 129,
       "[Orders].[OrderDate].[AllMember].[2019-02-17],[Measures].[contributors.COUNT]": 140,
       "[Orders].[OrderDate].[AllMember].[2019-02-18],[Measures].[contributors.COUNT]": 140
      },
      "mapping": {
       "columns": [
        "[Orders].[OrderDate].[OrderDate]",
        "ALL_MEASURES"
       ],
       "measures": [
        "[Measures].[contributors.COUNT]",
        "[Measures].[Profit]"
       ],
       "rows": [
        "[Customers].[Country].[Country]"
       ]
      },
      "name": "Number of orders and profit",
      "query": {
       "mdx": "SELECT NON EMPTY Order(Hierarchize(Descendants({[Customers].[Country].[AllMember]}, 1, SELF_AND_BEFORE)), ([Orders].[OrderDate].[AllMember], [Measures].[Profit]), DESC) ON ROWS, NON EMPTY Crossjoin(Hierarchize(Descendants({[Orders].[OrderDate].[AllMember]}, 1, SELF_AND_BEFORE)), {[Measures].[contributors.COUNT], [Measures].[Profit]}) ON COLUMNS FROM [Order Cube] CELL PROPERTIES VALUE, FORMATTED_VALUE, BACK_COLOR, FORE_COLOR, FONT_FLAGS",
       "updateMode": "once"
      },
      "serverKey": "default",
      "widgetKey": "pivot-table"
     }
    },
    "tags": []
   },
   "outputs": [
    {
     "data": {
      "application/vnd.atoti.widget.v0+json": {
       "sessionId": "1715370982_4M9LT7",
       "sessionLocation": {
        "https": false,
        "port": 9091
       },
       "widgetCreationCode": "session.widget"
      },
      "text/html": [
       "<img height=\"0\" width=\"0\" src=\"data:,\" />"
      ],
      "text/plain": [
       "Open the notebook in JupyterLab with the Atoti JupyterLab extension enabled to build this widget."
      ]
     },
     "metadata": {},
     "output_type": "display_data"
    }
   ],
   "source": [
    "session.widget"
   ]
  },
  {
   "cell_type": "markdown",
   "id": "1eebee00-6122-43b4-a69a-927ff5548c9f",
   "metadata": {},
   "source": [
    "#### 📐Exercise  \n",
    "\n",
    "Try deriving other insights from the given data set.  "
   ]
  },
  {
   "cell_type": "markdown",
   "id": "80226a97-d2eb-4ec6-b365-c28518419a16",
   "metadata": {
    "tags": []
   },
   "source": [
    "#### 📖 Solution\n",
    "\n",
    "Uncomment and run the next two cells for different insights.  "
   ]
  },
  {
   "cell_type": "code",
   "execution_count": 6,
   "id": "c8bf94be-c90c-4bec-8d55-28f1944f2ab1",
   "metadata": {
    "atoti": {
     "height": 459,
     "widget": {
      "columnWidths": {
       "[Measures].[Profit]": 126,
       "[Products].[Products].[ProductCategory]": 137,
       "[Products].[Products].[ProductName]": 187
      },
      "filters": [
       "Generate([Products].[Products].Levels(1).Members, BottomCount(Filter([Products].[Products].CurrentMember.Children, NOT IsEmpty([Measures].[Profit])), 5, [Measures].[Profit]))"
      ],
      "mapping": {
       "columns": [
        "ALL_MEASURES"
       ],
       "measures": [
        "[Measures].[Profit]"
       ],
       "rows": [
        "[Products].[Products].[ProductCategory] => [Products].[Products].[ProductName]"
       ]
      },
      "name": "Bottom 5 products per category with lowest profit",
      "query": {
       "mdx": "SELECT NON EMPTY Hierarchize(Union(Descendants({[Products].[Products].[AllMember]}, 1, SELF_AND_BEFORE), Descendants({[Products].[Products].[AllMember].[Condiments]}, [Products].[Products].[ProductName]))) ON ROWS, NON EMPTY {[Measures].[Profit]} ON COLUMNS FROM [Order Cube] CELL PROPERTIES VALUE, FORMATTED_VALUE, BACK_COLOR, FORE_COLOR, FONT_FLAGS",
       "updateMode": "once"
      },
      "serverKey": "default",
      "widgetKey": "pivot-table"
     }
    },
    "tags": []
   },
   "outputs": [],
   "source": [
    "# session.widget"
   ]
  },
  {
   "cell_type": "code",
   "execution_count": 7,
   "id": "d7115603-7b7a-49d5-a9c3-cf21bd217332",
   "metadata": {
    "atoti": {
     "height": 438,
     "widget": {
      "columnWidths": {
       "[Customers].[CompanyName].[CompanyName]": 206,
       "[Products].[Supplier].[Supplier]": 176
      },
      "mapping": {
       "columns": [
        "ALL_MEASURES",
        "[Products].[ProductCategory].[ProductCategory] => [Products].[ProductName].[ProductName]"
       ],
       "measures": [
        "[Measures].[QuantitySold.SUM]"
       ],
       "rows": [
        "[Customers].[Region].[Region] => [Customers].[CompanyName].[CompanyName]"
       ]
      },
      "name": "Product demands by region",
      "query": {
       "mdx": "SELECT NON EMPTY Hierarchize(Descendants({[Customers].[Region].[AllMember]}, 1, SELF_AND_BEFORE)) ON ROWS, NON EMPTY Hierarchize(Crossjoin({[Measures].[QuantitySold.SUM]}, Hierarchize(Descendants({[Products].[ProductCategory].[AllMember]}, 1, SELF_AND_BEFORE)))) ON COLUMNS FROM [Order Cube] CELL PROPERTIES VALUE, FORMATTED_VALUE, BACK_COLOR, FORE_COLOR, FONT_FLAGS",
       "updateMode": "once"
      },
      "serverKey": "default",
      "widgetKey": "pivot-table"
     }
    },
    "tags": []
   },
   "outputs": [],
   "source": [
    "# session.widget"
   ]
  },
  {
   "cell_type": "markdown",
   "id": "8b976385-ddbb-46cb-84ee-8f779cd410b1",
   "metadata": {},
   "source": [
    "During the exploration stage, you should play around the data from different perspectives. You might discover some interesting insights and further routes to explore.\n",
    "We can discard ideas based on its relevancy later on as we start to structure our story.  "
   ]
  },
  {
   "cell_type": "markdown",
   "id": "b6be6a17-c676-40cc-a8cc-1298815d4d9e",
   "metadata": {},
   "source": [
    "#### 1.2.3 What type of data do we need in addition to what we already have?  \n",
    "\n",
    "There is a high chance that we need more information to support our findings. We may discover this need upfront or later on. \n",
    "\n",
    "**Upfront need for additional data**  \n",
    "\n",
    "* Usually, these needs are due to requirements triggered by the stakeholders.  \n",
    "\n",
    "* One example could be that the stakeholder informs us that he/she wants to make use of machine learning to perform some predictions. So, we can expect some output from the machine learning model. The challenge in this case is how to translate these predictions into useful business metrics for the stakeholder.   \n",
    "\n",
    "* Another example is that the stakeholder wants to know how the company is positioned against its competitors. So in this case, we can consider purchasing data such as competitors' pricing and sales volume from third part data provider.\n",
    "\n",
    "**Discovering need for additional data later on**  \n",
    "\n",
    "* The findings of our data exploration may lead to the conclusion that we do not have enough information to provide meaningul insights. \n",
    "\n",
    "* Let's compare two products: one has low profit margin but high sales volume while the other has a high profit margin but low sales volume. Should we discontinue one, both or neither of these products? In this case, we can easily compute the sales and profit margin of each product from the existing data. \n",
    "\n",
    "* But, we might need more data in order to make a properly informed decision. For instance, it would be good to know the defect rate and number of returns for each of the products.\n",
    "\n",
    "* The rate of defects is an important metric because if a product is frequently refunded for its defect, it will incur additional costs and reputational risks. Such information can be captured by enhancing the existing systems or integrating additional system into the data pipelines.\n"
   ]
  },
  {
   "cell_type": "markdown",
   "id": "7eeb61f2-443e-4ca2-b955-49f7c7a04e06",
   "metadata": {},
   "source": [
    "**Deriving data to fill the gaps**  \n",
    "\n",
    "Earlier on, we talked about using machine learning algorithms to perform predictions. \n",
    "For instance, we can use machine learning to adjust the selling prices of our product in order to stay competitive against our competitors. We are not going into the details of such algorithm in this training. If you would like more details, you can check up this example on [pricing simulation around product class](https://github.com/atoti/notebooks/blob/main/notebooks/01-use-cases/other-industries/pricing-simulations-around-product-classes/main.ipynb).  "
   ]
  },
  {
   "cell_type": "markdown",
   "id": "42bd5954-3253-4bb6-9484-19d005f5c726",
   "metadata": {},
   "source": [
    "As well as integrating data from other sources, it's also possible to create new measures and investigate what we already have. Let's take a quick look at data deriving by performing a series of aggregations on existing data.  \n",
    "\n",
    "Let's say we want to know total sales revenue. We already have the `QuantitySold` and `SellingPricePerUnit`.  We are able to derive our sales revenu by multiplying the two measurements and summing them up.  \n",
    "\n",
    "💡Refer to the [training material](../03-Atoti/01-intro-Atoti.ipynb) under 03-Atoti if you are unfamiliar with operations of Atoti.  \n",
    "\n",
    "From here, we can continue with aggregation to compute profit margins."
   ]
  },
  {
   "cell_type": "code",
   "execution_count": 8,
   "id": "fc5e8723-2ba4-44c0-9dda-50cce6489b59",
   "metadata": {},
   "outputs": [],
   "source": [
    "# Compute sales and profit margin\n",
    "m[\"Sales\"] = tt.agg.sum_product(\n",
    "    m[\"QuantitySold.SUM\"],\n",
    "    m[\"SellingPricePerUnit\"],\n",
    "    scope=tt.OriginScope(levels={l[\"ProductId\"], l[\"OrderId\"]}),\n",
    ")\n",
    "\n",
    "m[\"ProfitMargin\"] = m[\"Profit\"] / m[\"Sales\"]\n",
    "m[\"ProfitMargin\"].formatter = \"DOUBLE[0.00%]\""
   ]
  },
  {
   "cell_type": "code",
   "execution_count": 9,
   "id": "1456cfb1-ad92-4bd8-85c2-748ef944e20e",
   "metadata": {
    "atoti": {
     "widget": {
      "mapping": {
       "columnValues": [
        "[Measures].[Sales]"
       ],
       "horizontalSubplots": [],
       "lineValues": [
        "[Measures].[ProfitMargin]"
       ],
       "verticalSubplots": [],
       "xAxis": [
        "[Products].[ProductCategory].[ProductCategory]"
       ]
      },
      "name": "Sales by Product category",
      "query": {
       "mdx": "SELECT NON EMPTY {[Measures].[Sales], [Measures].[ProfitMargin]} ON COLUMNS, NON EMPTY Order(Hierarchize(Descendants({[Products].[ProductCategory].[AllMember]}, 1, SELF_AND_BEFORE)), [Measures].[Sales], BDESC) ON ROWS FROM [Order Cube] CELL PROPERTIES VALUE, FORMATTED_VALUE, BACK_COLOR, FORE_COLOR, FONT_FLAGS",
       "updateMode": "once"
      },
      "serverKey": "default",
      "widgetKey": "plotly-columns-and-lines-chart"
     }
    },
    "editable": true,
    "slideshow": {
     "slide_type": ""
    },
    "tags": []
   },
   "outputs": [
    {
     "data": {
      "application/vnd.atoti.widget.v0+json": {
       "sessionId": "1715370982_4M9LT7",
       "sessionLocation": {
        "https": false,
        "port": 9091
       },
       "widgetCreationCode": "session.widget"
      },
      "text/html": [
       "<img height=\"0\" width=\"0\" src=\"data:,\" />"
      ],
      "text/plain": [
       "Open the notebook in JupyterLab with the Atoti JupyterLab extension enabled to build this widget."
      ]
     },
     "metadata": {},
     "output_type": "display_data"
    }
   ],
   "source": [
    "session.widget"
   ]
  },
  {
   "cell_type": "markdown",
   "id": "aa78cfeb-8b14-4b8e-bd5f-e4b238f64a95",
   "metadata": {},
   "source": [
    "## 2 Setting the story context"
   ]
  },
  {
   "cell_type": "markdown",
   "id": "fd442e47-33ee-4c7e-a7c2-9cfbfa686ab7",
   "metadata": {},
   "source": [
    "The price of Product X increased from \\\\$10 to \\\\$25. That's a 150% increase! And that's certainly headline news, but what is the context of this data?\n",
    "\n",
    "* If the time period is only one month it's an unacceptable increase (considering that the average inflation rate as of 2023 is 2.5%.)\n",
    "\n",
    "* If it happens over a span of 10 years, and assuming we have an [average inflation rate of 2.69% and cumulative inflation of 58.57%](https://smartasset.com/investing/inflation-calculator#mjuumacU7Q), the expected pricing should be approximately \\$16. So the increase in price is still higher than expected.  \n",
    "\n",
    "* But if the time period is much longer, say 25 years, this increase will be inline with the inflation rate.  \n",
    "\n",
    "From the example above, we see the importance of context. By presenting facts along with background information and the relevant details, we provide credibility to the magnitude of the figures. Your audience are more likely to understand the information better, and therefore stay engaged. And of course, you can highlight the context that you feel is most relevant to your data."
   ]
  },
  {
   "cell_type": "markdown",
   "id": "b72cbc90-72f9-482a-9318-a80be8bbc934",
   "metadata": {},
   "source": [
    "### 2.1 Setting the context with \"When\"  \n",
    "\n",
    "With the \"When\" question, we explore timelines.  \n",
    "\n",
    "As we have seen in the previous example, providing context with time is important in helping the audience understand the sequence and duration of events. That said, we come back with the following considerations that involves time: \n",
    "\n",
    "* [Period of relevance](#2.1.1-Period-of-relevance)\n",
    "* [Trend intervals](#2.1.2-Trend-Intervals)\n"
   ]
  },
  {
   "cell_type": "markdown",
   "id": "3e12215b-2bb8-4def-9230-321471e9e38e",
   "metadata": {},
   "source": [
    "#### 2.1.1 Period of relevance  \n",
    "\n",
    "Some questions we can ask: \n",
    "- What is the timeline we are looking at? \n",
    "- Are 10 year-old data still relevant to us now?  \n",
    "- Are we trying to forecast our sales for the coming week, month or year?  \n",
    "\n",
    "Considering the period of relevance will help to streamline our data and let users focus on the important timeframe.  "
   ]
  },
  {
   "cell_type": "markdown",
   "id": "a5775065-e077-4a4b-adb0-f1bf3a4038d0",
   "metadata": {},
   "source": [
    "#### 2.1.2 Trend Intervals\n",
    "\n",
    "**Trends**  \n",
    "\n",
    "Some common questions asked when we are presented with a timeline:  \n",
    "- How has the data changed over time?  For example, is purchase price rising or falling? \n",
    "- Is the change consistent or with periodic fluctuations?  \n",
    "- What can possibly cause the hikes or dips during a certain period of time?\n",
    "\n",
    "This is where we make use of trends to discover patterns and trigger further investigation to understand certain phenomenon. Trends help us understand the general direction of a certain phenomenon and the rate of change. We can then look at the events that happen around the period of interest to find a way to mitigate the downward trend if necessary, or boost the trend further if it's already upward.  \n",
    "\n",
    "Trends can also be used to make predictions about the future of the observed phenomenon. For instance, if we observe an upward trend in the sales of bicycles, we should be prepared for increased demands in bicycle accessories as well.   \n",
    "\n",
    "**Trend Intervals**  \n",
    "\n",
    "But when we look at trends, we need to determine the intervals that will bring the most value to us. Do we need hourly, daily, weekly or monthly trends?  \n",
    "\n",
    "A couple of factors that affects the trend intervals:    \n",
    "\n",
    "* The granularity of the data captured: if we capture orders by dates without timestamps, we cannot provide hourly trends.  \n",
    "* Type of analysis we do: if we want to know if the popularity of certain products are seasonal, it makes sense to look at monthly or quarterly trends.  "
   ]
  },
  {
   "cell_type": "markdown",
   "id": "dc602d3d-aa93-4f0a-a7ac-8adf89ed778b",
   "metadata": {},
   "source": [
    "Let's look at an example of trends using our sample dataset.  \n",
    "\n",
    "We can easily derive sales trends by taking the difference between the sales of the current and previous day."
   ]
  },
  {
   "cell_type": "code",
   "execution_count": 10,
   "id": "15cc9792-8858-4f53-9e25-0e1af6419c9e",
   "metadata": {
    "tags": []
   },
   "outputs": [],
   "source": [
    "m[\"_previousSales\"] = tt.shift(m[\"Sales\"], h[\"OrderDate\"], offset=-1)\n",
    "\n",
    "m[\"SalesTrend\"] = tt.where(\n",
    "    ~m[\"_previousSales\"].isnull(), m[\"Sales\"] - m[\"_previousSales\"]\n",
    ")"
   ]
  },
  {
   "cell_type": "code",
   "execution_count": 11,
   "id": "7c521ef9-0a99-488a-9001-fe2efe9c4e9b",
   "metadata": {
    "atoti": {
     "height": 227,
     "widget": {
      "mapping": {
       "columns": [
        "ALL_MEASURES"
       ],
       "measures": [
        "[Measures].[Sales]",
        "[Measures].[_previousSales]",
        "[Measures].[SalesTrend]"
       ],
       "rows": [
        "[Orders].[OrderDate].[OrderDate]"
       ]
      },
      "query": {
       "mdx": "SELECT NON EMPTY Hierarchize(Descendants({[Orders].[OrderDate].[AllMember]}, 1, SELF_AND_BEFORE)) ON ROWS, NON EMPTY {[Measures].[Sales], [Measures].[_previousSales], [Measures].[SalesTrend]} ON COLUMNS FROM [Order Cube] CELL PROPERTIES VALUE, FORMATTED_VALUE, BACK_COLOR, FORE_COLOR, FONT_FLAGS",
       "updateMode": "once"
      },
      "serverKey": "default",
      "widgetKey": "pivot-table"
     }
    },
    "tags": []
   },
   "outputs": [
    {
     "data": {
      "application/vnd.atoti.widget.v0+json": {
       "sessionId": "1715370982_4M9LT7",
       "sessionLocation": {
        "https": false,
        "port": 9091
       },
       "widgetCreationCode": "session.widget"
      },
      "text/html": [
       "<img height=\"0\" width=\"0\" src=\"data:,\" />"
      ],
      "text/plain": [
       "Open the notebook in JupyterLab with the Atoti JupyterLab extension enabled to build this widget."
      ]
     },
     "metadata": {},
     "output_type": "display_data"
    }
   ],
   "source": [
    "session.widget"
   ]
  },
  {
   "cell_type": "markdown",
   "id": "f64b5dde-61d8-4fa7-9e10-d0d4eea8be3e",
   "metadata": {},
   "source": [
    "Let's hide the interim measure `_previousSales` as it's not useful to end-users."
   ]
  },
  {
   "cell_type": "code",
   "execution_count": 12,
   "id": "0d39fcb9-dda7-419b-8602-cdee5006c6c3",
   "metadata": {
    "tags": []
   },
   "outputs": [],
   "source": [
    "# hide technical measures\n",
    "m[\"_previousSales\"].visible = False"
   ]
  },
  {
   "cell_type": "markdown",
   "id": "006ac865-84c5-4d37-b7a6-d3e61bd33e7c",
   "metadata": {},
   "source": [
    "We can then choose a visualization that best present the trend to end users.  "
   ]
  },
  {
   "cell_type": "code",
   "execution_count": 13,
   "id": "4383cc5b-b47c-4fbf-808b-72485cdd9cf0",
   "metadata": {
    "atoti": {
     "widget": {
      "mapping": {
       "horizontalSubplots": [],
       "secondaryValues": [],
       "splitBy": [
        "[Products].[ProductCategory].[ProductCategory]",
        "ALL_MEASURES"
       ],
       "values": [
        "[Measures].[SalesTrend]"
       ],
       "verticalSubplots": [],
       "xAxis": [
        "[Orders].[OrderDate].[OrderDate]"
       ]
      },
      "name": "Daily sales trend by product category",
      "query": {
       "mdx": "SELECT NON EMPTY Hierarchize(Descendants({[Orders].[OrderDate].[AllMember]}, 1, SELF_AND_BEFORE)) ON ROWS, NON EMPTY Crossjoin(Hierarchize(Descendants({[Products].[ProductCategory].[AllMember]}, 1, SELF_AND_BEFORE)), {[Measures].[SalesTrend]}) ON COLUMNS FROM [Order Cube] CELL PROPERTIES VALUE, FORMATTED_VALUE, BACK_COLOR, FORE_COLOR, FONT_FLAGS",
       "updateMode": "once"
      },
      "serverKey": "default",
      "widgetKey": "plotly-line-chart"
     }
    },
    "tags": []
   },
   "outputs": [
    {
     "data": {
      "application/vnd.atoti.widget.v0+json": {
       "sessionId": "1715370982_4M9LT7",
       "sessionLocation": {
        "https": false,
        "port": 9091
       },
       "widgetCreationCode": "session.widget"
      },
      "text/html": [
       "<img height=\"0\" width=\"0\" src=\"data:,\" />"
      ],
      "text/plain": [
       "Open the notebook in JupyterLab with the Atoti JupyterLab extension enabled to build this widget."
      ]
     },
     "metadata": {},
     "output_type": "display_data"
    }
   ],
   "source": [
    "session.widget"
   ]
  },
  {
   "cell_type": "markdown",
   "id": "8905c861-699c-4ae9-a88e-c3cdf38c32b5",
   "metadata": {},
   "source": [
    "We can see a huge dip in the trend for Meat/Poultry on 17th Feb but it started increasing again after. There could be factors causing this dip that is worth investigating.\n",
    "\n",
    "We will come back to this later on.  "
   ]
  },
  {
   "cell_type": "markdown",
   "id": "7ed25744-3cff-4d36-bd43-f2d6e1440793",
   "metadata": {},
   "source": [
    "#### 📐Exercise  \n",
    "\n",
    "The above visualization split the sales trend by product category. Try viewing the sales trend by region instead."
   ]
  },
  {
   "cell_type": "markdown",
   "id": "a64da8bc-f01f-4cff-bf69-6e29bc3275a9",
   "metadata": {
    "tags": []
   },
   "source": [
    "#### 📖 Solution\n",
    "\n",
    "Uncomment and run the next cell for the solution. "
   ]
  },
  {
   "cell_type": "code",
   "execution_count": 14,
   "id": "583149c9-3444-43a5-acf8-6c848446e53d",
   "metadata": {
    "atoti": {
     "widget": {
      "mapping": {
       "horizontalSubplots": [],
       "secondaryValues": [],
       "splitBy": [
        "[Customers].[Region].[Region]",
        "ALL_MEASURES"
       ],
       "values": [
        "[Measures].[SalesTrend]"
       ],
       "verticalSubplots": [],
       "xAxis": [
        "[Orders].[OrderDate].[OrderDate]"
       ]
      },
      "name": "Sales trend by region",
      "query": {
       "mdx": "SELECT NON EMPTY Hierarchize(Descendants({[Orders].[OrderDate].[AllMember]}, 1, SELF_AND_BEFORE)) ON ROWS, NON EMPTY Crossjoin(Hierarchize(Descendants({[Customers].[Region].[AllMember]}, 1, SELF_AND_BEFORE)), {[Measures].[SalesTrend]}) ON COLUMNS FROM [Order Cube] CELL PROPERTIES VALUE, FORMATTED_VALUE, BACK_COLOR, FORE_COLOR, FONT_FLAGS",
       "updateMode": "once"
      },
      "serverKey": "default",
      "widgetKey": "plotly-line-chart"
     }
    },
    "tags": []
   },
   "outputs": [],
   "source": [
    "# session.widget"
   ]
  },
  {
   "cell_type": "markdown",
   "id": "ef205a51-c7b0-4b87-b41d-e91055899069",
   "metadata": {},
   "source": [
    "### 2.2 Setting the context with \"Where\""
   ]
  },
  {
   "cell_type": "markdown",
   "id": "60657804-55f9-46a2-92b6-a2cf25a27daf",
   "metadata": {},
   "source": [
    "\"Where\" usually refers to locations. It works well in answering questions such as the following:  \n",
    "- Are there global differences in the data?  \n",
    "- Which country is outperforming the others?  \n",
    "- Which local area (shop, town, county) is improving?  "
   ]
  },
  {
   "cell_type": "code",
   "execution_count": 15,
   "id": "55985c57-7edd-4799-b01a-a3366ebb6db5",
   "metadata": {
    "atoti": {
     "widget": {
      "filters": [
       "Except([Customers].[Region].Members, [Customers].[Region].[AllMember].[N/A])"
      ],
      "mapping": {
       "horizontalSubplots": [],
       "stackBy": [
        "ALL_MEASURES"
       ],
       "values": [
        "[Measures].[Sales]"
       ],
       "verticalSubplots": [],
       "xAxis": [
        "[Customers].[Region].[Region]"
       ]
      },
      "name": "Sales by region",
      "query": {
       "mdx": "SELECT NON EMPTY Hierarchize(Descendants({[Customers].[Region].[AllMember]}, 1, SELF_AND_BEFORE)) ON ROWS, NON EMPTY {[Measures].[Sales]} ON COLUMNS FROM [Order Cube] CELL PROPERTIES VALUE, FORMATTED_VALUE, BACK_COLOR, FORE_COLOR, FONT_FLAGS",
       "updateMode": "once"
      },
      "serverKey": "default",
      "style": {
       "areAxisTitlesVisible": true
      },
      "widgetKey": "plotly-stacked-column-chart"
     }
    },
    "tags": []
   },
   "outputs": [
    {
     "data": {
      "application/vnd.atoti.widget.v0+json": {
       "sessionId": "1715370982_4M9LT7",
       "sessionLocation": {
        "https": false,
        "port": 9091
       },
       "widgetCreationCode": "session.widget"
      },
      "text/html": [
       "<img height=\"0\" width=\"0\" src=\"data:,\" />"
      ],
      "text/plain": [
       "Open the notebook in JupyterLab with the Atoti JupyterLab extension enabled to build this widget."
      ]
     },
     "metadata": {},
     "output_type": "display_data"
    }
   ],
   "source": [
    "session.widget"
   ]
  },
  {
   "cell_type": "markdown",
   "id": "339c83b7-120d-4b25-9d65-c5df83aa3a90",
   "metadata": {},
   "source": [
    "You probably noticed that the questions are more of \"Which\" than \"Where\". The answer can somewhat be an entity rather than a location, as in the case of shop.  \n",
    "\n",
    "Let's twist the \"Where\" question a little to fit our data context better. Instead of positioning it as a question on location, let's treat it as the `where` clause in [SQL](https://en.wikipedia.org/wiki/SQL) (Structured Query Language for querying databases) or [MDX](https://learn.microsoft.com/en-us/analysis-services/multidimensional-models/mdx/mdx-query-the-basic-query?view=asallproducts-allversions) (Multidimensional Expressions for querying OLAP cubes).  \n",
    "\n",
    "Now, the questions that we can answer can be more target focused. For instance, for a manager who manages the European market, we can filter our data to reflect only the countries under his charge.   "
   ]
  },
  {
   "cell_type": "code",
   "execution_count": 16,
   "id": "f9d08541-a6ce-45de-978b-f1051c747614",
   "metadata": {
    "atoti": {
     "widget": {
      "filters": [
       "[Customers].[Region].[AllMember].[Europe]"
      ],
      "mapping": {
       "horizontalSubplots": [],
       "stackBy": [
        "ALL_MEASURES"
       ],
       "values": [
        "[Measures].[Sales]"
       ],
       "verticalSubplots": [],
       "xAxis": [
        "[Customers].[Country].[Country]"
       ]
      },
      "query": {
       "mdx": "SELECT NON EMPTY Order(Hierarchize(Descendants({[Customers].[Country].[AllMember]}, 1, SELF_AND_BEFORE)), [Measures].[Sales], BDESC) ON ROWS, NON EMPTY {[Measures].[Sales]} ON COLUMNS FROM [Order Cube] CELL PROPERTIES VALUE, FORMATTED_VALUE, BACK_COLOR, FORE_COLOR, FONT_FLAGS",
       "updateMode": "once"
      },
      "serverKey": "default",
      "widgetKey": "plotly-stacked-column-chart"
     }
    },
    "tags": []
   },
   "outputs": [
    {
     "data": {
      "application/vnd.atoti.widget.v0+json": {
       "sessionId": "1715370982_4M9LT7",
       "sessionLocation": {
        "https": false,
        "port": 9091
       },
       "widgetCreationCode": "session.widget"
      },
      "text/html": [
       "<img height=\"0\" width=\"0\" src=\"data:,\" />"
      ],
      "text/plain": [
       "Open the notebook in JupyterLab with the Atoti JupyterLab extension enabled to build this widget."
      ]
     },
     "metadata": {},
     "output_type": "display_data"
    }
   ],
   "source": [
    "session.widget"
   ]
  },
  {
   "cell_type": "markdown",
   "id": "0e4a87b6-5f54-4dcd-a8a1-69b981678260",
   "metadata": {},
   "source": [
    "Also, we can answer questions regarding the top/bottom performance, e.g. the top 5 products in the top 3 product categories with the highest sales.  "
   ]
  },
  {
   "cell_type": "code",
   "execution_count": 17,
   "id": "721231b0-ff31-4c08-99e7-48c8835053cf",
   "metadata": {
    "atoti": {
     "widget": {
      "filters": [
       "TopCount(Filter([Products].[ProductCategory].Levels(1).Members, NOT IsEmpty([Measures].[Sales])), 3, [Measures].[Sales])",
       "Generate([Products].[Products].Levels(1).Members, TopCount(Filter([Products].[Products].CurrentMember.Children, NOT IsEmpty([Measures].[Sales])), 5, [Measures].[Sales]))"
      ],
      "mapping": {
       "horizontalSubplots": [
        "[Products].[ProductCategory].[ProductCategory]"
       ],
       "sliceBy": [
        "[Products].[ProductName].[ProductName]"
       ],
       "values": [
        "[Measures].[Sales]"
       ],
       "verticalSubplots": []
      },
      "name": "Top 5 products of the top 3 product categories",
      "query": {
       "mdx": "SELECT NON EMPTY Crossjoin(Hierarchize(Descendants({[Products].[ProductCategory].[AllMember]}, 1, SELF_AND_BEFORE)), {[Measures].[Sales]}) ON COLUMNS, NON EMPTY Hierarchize(Descendants({[Products].[ProductName].[AllMember]}, 1, SELF_AND_BEFORE)) ON ROWS FROM [Order Cube] CELL PROPERTIES VALUE, FORMATTED_VALUE, BACK_COLOR, FORE_COLOR, FONT_FLAGS",
       "updateMode": "once"
      },
      "serverKey": "default",
      "subplotLimits": {
       "horizontal": 8
      },
      "widgetKey": "plotly-donut-chart"
     }
    },
    "scrolled": true,
    "tags": []
   },
   "outputs": [
    {
     "data": {
      "application/vnd.atoti.widget.v0+json": {
       "sessionId": "1715370982_4M9LT7",
       "sessionLocation": {
        "https": false,
        "port": 9091
       },
       "widgetCreationCode": "session.widget"
      },
      "text/html": [
       "<img height=\"352\" width=\"1283\" src=\"data:image/png;base64,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\" />"
      ],
      "text/plain": [
       "Open the notebook in JupyterLab with the Atoti JupyterLab extension enabled to build this widget."
      ]
     },
     "metadata": {},
     "output_type": "display_data"
    }
   ],
   "source": [
    "session.widget"
   ]
  },
  {
   "cell_type": "markdown",
   "id": "8027942a-41d7-4add-900c-f9748fe8e1c9",
   "metadata": {},
   "source": [
    "# Quick recap"
   ]
  },
  {
   "cell_type": "markdown",
   "id": "3d6cc39a",
   "metadata": {},
   "source": [
    "In this first section on data storytelling we've seen how to think about the context and the purpose of your story and data.\n",
    "\n",
    "* **Who**: Who is my audience, who needs to know?\n",
    "\n",
    "* **What**: What information do they need to know?  What decisions are they trying to make?  What insights do they need?\n",
    "\n",
    "* **When**: Which time period should be considered?  Should data be analysed by day, by week, by month, by year?\n",
    "\n",
    "* **Where**: Where should I look for data (geographical zones, SQL queries, MDX)\n",
    "\n",
    "In the second section, we will focus on how to present your data so that it's easier for your audience to follow your narrative."
   ]
  },
  {
   "cell_type": "markdown",
   "id": "cea63b87-69bf-4c94-8fed-0eab8d034b7a",
   "metadata": {},
   "source": [
    "<div style=\"text-align: center;\" ><a href=\"https://www.atoti.io/?utm_source=gallery&utm_content=01-storytelling\" target=\"_blank\" rel=\"noopener noreferrer\"><img src=\"https://data.atoti.io/notebooks/banners/Your-turn-to-try-Atoti.jpg\" alt=\"Try atoti\"></a></div>"
   ]
  }
 ],
 "metadata": {
  "kernelspec": {
   "display_name": "Python 3 (ipykernel)",
   "language": "python",
   "name": "python3"
  },
  "language_info": {
   "codemirror_mode": {
    "name": "ipython",
    "version": 3
   },
   "file_extension": ".py",
   "mimetype": "text/x-python",
   "name": "python",
   "nbconvert_exporter": "python",
   "pygments_lexer": "ipython3",
   "version": "3.10.13"
  },
  "widgets": {
   "application/vnd.jupyter.widget-state+json": {
    "state": {},
    "version_major": 2,
    "version_minor": 0
   }
  }
 },
 "nbformat": 4,
 "nbformat_minor": 5
}
