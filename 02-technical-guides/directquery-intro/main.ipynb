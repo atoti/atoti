{
 "cells": [
  {
   "cell_type": "markdown",
   "id": "ac3fbb12-82a8-4e9f-aa4e-e1ad414ce283",
   "metadata": {},
   "source": [
    "# DirectQuery: Combining Atoti and Data Warehouses"
   ]
  },
  {
   "cell_type": "markdown",
   "id": "a671e16d-c06b-432f-92c6-5b2d2f7043bd",
   "metadata": {},
   "source": [
    "We know Atoti provides in-memory analytics for big data. This means that we hold data in memory and perform aggregation on the fly in order to achieve fast and dynamic computations. In our usual Atoti setup, the hosting server requires a memory size that's about 1.5 times of the amount of data that gets loaded into the cube. However, with Atoti's DirectQuery, we can better support our users who store their data on the cloud! In fact, it applies for on-premise databases such as [ClickHouse](https://clickhouse.com/clickhouse) and [Microsoft SQL Server](https://www.microsoft.com/en-sg/sql-server/sql-server-downloads) too.  \n",
    "\n",
    "<img src=\"https://data.atoti.io/notebooks/direct-query/img/cost_vs_performance.png\" width=\"850px\"/>\n",
    "\n",
    "In a gist, here's what DirectQuery offers:  \n",
    "\n",
    "- Scalability\n",
    "\n",
    "> Leveraging the scalability of cloud data warehouse, the server that hosts Atoti only has to take into consideration the amount of data that gets queried on a daily basis.  \n",
    "> Instead of storing all of the data in physical memory, DirectQuery enables us to query the Cloud database directly, reducing the need for memory in the hosting server.  \n",
    "\n",
    "- Cost savings\n",
    "\n",
    "> Other than saving on the memory required for the hosting server, DirectQuery helps to save on the data transfer costs.  \n",
    "> While cloud data warehouse is cost-effective, we incur costs when we perform queries.  \n",
    "> We can reduce querying to the Cloud database by loading an aggregated cache in memory for the most frequently queried data.  \n",
    "\n",
    "- Technology agnosticism\n",
    "\n",
    "> With changes to only a few lines of data connectivity code in Atoti, we can easily switch from one Cloud service provider to another without impacting the Atoti server.  \n",
    "> We can even switch over to other data connectors such as physical files.  \n",
    "\n",
    "\n",
    "This notebook provides a quick introduction to how we can connect to Google BigQuery and create an Atoti cube."
   ]
  },
  {
   "cell_type": "markdown",
   "id": "f23aeb88-5455-44ee-892d-4aa7fc2dbfb7",
   "metadata": {},
   "source": [
    "<div style=\"text-align: center;\" ><a href=\"https://www.atoti.io/?utm_source=gallery&utm_content=directquery-intro\" target=\"_blank\" rel=\"noopener noreferrer\"><img src=\"https://data.atoti.io/notebooks/banners/Discover-Atoti-now.png\" alt=\"Try Atoti\"></a></div>"
   ]
  },
  {
   "cell_type": "markdown",
   "id": "663b2051-11e1-4815-8a2c-fde3d450d07b",
   "metadata": {},
   "source": [
    "## Google BigQuery configuration"
   ]
  },
  {
   "cell_type": "markdown",
   "id": "1db76b03-dbe0-4223-a656-8b7e9e2ff260",
   "metadata": {},
   "source": [
    "### Step 1 — Create role with permissions\n",
    "\n",
    "- Login to Google Cloud console.\n",
    "- Navigate to __IAM & Admin__ > __Roles__.  \n",
    "- Create a role with the following permission for the DirectQuery users:  \n",
    "    - `bigquery.datasets.get`\n",
    "    - `bigquery.jobs.create`\n",
    "    - `bigquery.readsessions.create`\n",
    "    - `bigquery.readsessions.getData`\n",
    "    - `bigquery.readsessions.update`\n",
    "    - `bigquery.routines.get`\n",
    "    - `bigquery.tables.get`\n",
    "    - `bigquery.tables.getData`\n",
    "    - `bigquery.tables.list`\n",
    "\n",
    "⚠️ **Important:** Having trouble pulling your data after setting up your account? Confirm that the above permissions have been set up properly!  \n",
    "\n",
    "<img src=\"https://data.atoti.io/notebooks/direct-query/img/bigquery_permission.png\" />\n",
    "\n",
    "💡 **Note:** For more details, refer to the [Atoti Server documentation](https://docs.activeviam.com/products/atoti/server/latest/docs/directquery/connect_to_external/connect_to_bigquery/)."
   ]
  },
  {
   "cell_type": "markdown",
   "id": "2143280e-d2b0-4da1-b20d-78af65d26753",
   "metadata": {},
   "source": [
    "### Step 2 — Create Service Account\n",
    "\n",
    "* Under **IAM & Admin**, navigate to **Service Accounts**.\n",
    "* Create a service account and assign the role created in Step 1.\n",
    "\n",
    "    <img src=\"https://data.atoti.io/notebooks/direct-query/img/service_account.png\" width=\"700px\"/>  "
   ]
  },
  {
   "cell_type": "markdown",
   "id": "03e75ceb-055a-4986-aa8d-6858422b260a",
   "metadata": {
    "tags": []
   },
   "source": [
    "### Step 3 — Generate API Key \n",
    "\n",
    "- Navigate to the __KEYS__ tab and generate a new key.  \n",
    "\n",
    "    <img src=\"https://data.atoti.io/notebooks/direct-query/img/create_key.png\" />  \n",
    "\n",
    "- Select `JSON` as key type and save the downloaded key to a server folder:  \n",
    "\n",
    "    <img src=\"https://data.atoti.io/notebooks/direct-query/img/json_key.png\" />\n",
    "\n",
    "- Configure environment variable pointing to the JSON key. In this use case, our environment variable is `DQ_GOOGLE_CREDENTIAL`:  \n",
    "\n",
    "    <img src=\"https://data.atoti.io/notebooks/direct-query/img/environment_variable.png\" />  \n",
    "\n",
    "💡 **Note:** Alternatively, we can set up [Application Default Credentials](https://cloud.google.com/docs/authentication/provide-credentials-adc) for authentication.  "
   ]
  },
  {
   "cell_type": "markdown",
   "id": "95e30413-d630-4b1b-a304-d824e9649c3d",
   "metadata": {},
   "source": [
    "## Database set up  \n",
    "\n",
    "To try out this notebook, you can setup the database schema and tables using the [database script](db_schema.sql) in the use case folder.  "
   ]
  },
  {
   "cell_type": "markdown",
   "id": "fcfd6d72-801a-460c-9e1f-4e0843909442",
   "metadata": {},
   "source": [
    "## Atoti Setup"
   ]
  },
  {
   "cell_type": "markdown",
   "id": "8857ebb1-032f-4b69-84e6-b8cf7e431def",
   "metadata": {},
   "source": [
    "We import [Atoti](https://docs.atoti.io/latest/getting_started/installation.html) library and create the [Atoti Session](https://docs.atoti.io/latest/api/atoti.Session.html#atoti.Session) as we always do.  "
   ]
  },
  {
   "cell_type": "code",
   "execution_count": 1,
   "id": "7d97f0ea-5b39-4c60-9a10-1cae5a22616d",
   "metadata": {
    "tags": []
   },
   "outputs": [],
   "source": [
    "import os\n",
    "import atoti as tt"
   ]
  },
  {
   "cell_type": "code",
   "execution_count": 2,
   "id": "3898f076-a031-49b7-a75f-074008d89a26",
   "metadata": {
    "tags": []
   },
   "outputs": [],
   "source": [
    "session = tt.Session.start()"
   ]
  },
  {
   "cell_type": "markdown",
   "id": "9e855ec8-18bb-46fa-8e99-751edafeb94c",
   "metadata": {},
   "source": [
    "## DirectQuery Prerequisites"
   ]
  },
  {
   "cell_type": "markdown",
   "id": "01a8923b-80b3-4bfd-86a0-2d705d4bb805",
   "metadata": {},
   "source": [
    "DirectQuery supports a few [databases](https://docs.atoti.io/latest/reference.html#directquery). For each of these databases, we have to install its respective Python plugin.  \n",
    "- `atoti-directquery-bigquery` : To use DirectQuery on Google BigQuery.\n",
    "- `atoti-directquery-clickhouse` : To use DirectQuery with ClickHouse.\n",
    "- `atoti-directquery-databricks` : To use DirectQuery on Databricks.\n",
    "- `atoti-directquery-mssql` : To use DirectQuery with Microsoft SQL Server.\n",
    "- `atoti-directquery-redshift` : To use DirectQuery on Amazon Redshift.\n",
    "- `atoti-directquery-snowflake` : To use DirectQuery on Snowflake.\n",
    "- `atoti-directquery-synapse` : To use DirectQuery on Azure Synapse Analytics.  \n",
    "\n",
    "In our example, we install the plugin for Google BigQuery. Uncomment the below line to install the plugin if it isn't installed.  \n",
    "\n",
    "⚠️ **Important:** We only support one type of database connection per Atoti session."
   ]
  },
  {
   "cell_type": "code",
   "execution_count": 3,
   "id": "af8780d7-ec54-481a-98d7-4cc9f7e030c1",
   "metadata": {
    "tags": []
   },
   "outputs": [],
   "source": [
    "# !pip install \"atoti[directquery-bigquery]\""
   ]
  },
  {
   "cell_type": "markdown",
   "id": "1d997a63-e2db-48f9-b501-0532c5eabb3d",
   "metadata": {},
   "source": [
    "We will be using two components from the DirectQueryPlugin:\n",
    "- [BigqueryConnectionInfo](https://docs.atoti.io/latest/api/atoti_directquery_bigquery.BigqueryConnectionInfo.html#atoti_directquery_bigquery.BigqueryConnectionInfo): Configure the connection information to BigQuery.\n",
    "- [BigqueryTableOptions](https://docs.atoti.io/latest/api/atoti_directquery_bigquery.BigqueryTableOptions.html#atoti_directquery_bigquery.BigqueryTableOptions): Configure the table options about the external table to create in Atoti.  \n",
    "\n",
    "⚠️ **Important:** Use the corresponding components for different databases if we are using a different one from BigQuery. E.g. we use [`ClickhouseConnectionInfo`](https://docs.atoti.io/latest/api/atoti_directquery_clickhouse.ClickhouseConnectionInfo.html#atoti_directquery_clickhouse.ClickhouseConnectionInfo) and [`ClickhouseTableOptions`](https://docs.atoti.io/latest/api/atoti_directquery_clickhouse.ClickhouseTableOptions.html#atoti_directquery_clickhouse.ClickhouseTableOptions) if we are connecting to [ClickHouse](https://clickhouse.com/)."
   ]
  },
  {
   "cell_type": "markdown",
   "id": "4509d71b-4d1b-4297-b18a-10430b128507",
   "metadata": {},
   "source": [
    "## Connection setup to Google BigQuery"
   ]
  },
  {
   "cell_type": "code",
   "execution_count": 4,
   "id": "f5eb2f90-be60-4332-80d2-1a5cd83147d4",
   "metadata": {
    "tags": []
   },
   "outputs": [],
   "source": [
    "from atoti_directquery_bigquery import ConnectionConfig"
   ]
  },
  {
   "cell_type": "markdown",
   "id": "00b90385-93af-479f-888a-bc0677f73eb2",
   "metadata": {},
   "source": [
    "In the below snippet, we use the environment variable to obtain the path to the [API key generated previous in Step 3](#Step-3-—-Generate-API-Key). Setting the credential path into `BigqueryConnectionInfo`, we can invoke the connection to the external database.  "
   ]
  },
  {
   "cell_type": "code",
   "execution_count": 5,
   "id": "ea50d105-284f-4296-b654-b5465037d634",
   "metadata": {
    "tags": []
   },
   "outputs": [],
   "source": [
    "credential = os.environ[\"DQ_GOOGLE_CREDENTIAL\"]\n",
    "connection_info = ConnectionConfig(credentials=credential)\n",
    "\n",
    "external_database = session.connect_to_external_database(connection_info)"
   ]
  },
  {
   "cell_type": "markdown",
   "id": "8e7f4c10-5dc6-4c53-aeea-ef4864471caf",
   "metadata": {},
   "source": [
    "### Discover External Tables"
   ]
  },
  {
   "cell_type": "markdown",
   "id": "51f3c2ee-c57b-49df-9756-60c96d9b0734",
   "metadata": {
    "tags": []
   },
   "source": [
    "Once connected, we can discover the tables available to us from the external database."
   ]
  },
  {
   "cell_type": "code",
   "execution_count": 6,
   "id": "5e85bd6f-dd6a-4ab8-a2f2-51d7759466de",
   "metadata": {
    "tags": []
   },
   "outputs": [
    {
     "data": {
      "application/json": {
       "bd-project-386413": {
        "tutorial": [
         "PRODUCTS",
         "SALES"
        ],
        "var_demo": [
         "BOOKS",
         "TRADE_PNLS"
        ]
       }
      },
      "text/html": [
       "<ul>\n",
       "<li>BIGQUERY\n",
       "  <ul>\n",
       "  <li>bd-project-386413\n",
       "    <ul>\n",
       "    <li>tutorial\n",
       "      <ol>\n",
       "      <li>PRODUCTS</li>\n",
       "      <li>SALES</li>\n",
       "      </ol>    </li>\n",
       "    <li>var_demo\n",
       "      <ol>\n",
       "      <li>BOOKS</li>\n",
       "      <li>TRADE_PNLS</li>\n",
       "      </ol>    </li>\n",
       "    </ul>\n",
       "  </li>\n",
       "  </ul>\n",
       "</li>\n",
       "</ul>\n"
      ],
      "text/plain": [
       "<atoti.directquery.external_tables.ExternalTables at 0x11925ee90>"
      ]
     },
     "execution_count": 6,
     "metadata": {
      "application/json": {
       "expanded": false,
       "root": "BIGQUERY"
      }
     },
     "output_type": "execute_result"
    }
   ],
   "source": [
    "external_database.tables"
   ]
  },
  {
   "cell_type": "markdown",
   "id": "4187eaef-cae3-44ca-80c1-dd952dd3faab",
   "metadata": {},
   "source": [
    "If the database has many schemas, we can perform a filter to access only the schema that we want."
   ]
  },
  {
   "cell_type": "code",
   "execution_count": 7,
   "id": "63c5fafe-05e1-429e-8f35-9f3f072e34f7",
   "metadata": {
    "tags": []
   },
   "outputs": [
    {
     "data": {
      "application/json": {
       "bd-project-386413": {
        "tutorial": [
         "PRODUCTS",
         "SALES"
        ]
       }
      },
      "text/html": [
       "<ul>\n",
       "<li>BIGQUERY\n",
       "  <ul>\n",
       "  <li>bd-project-386413\n",
       "    <ul>\n",
       "    <li>tutorial\n",
       "      <ol>\n",
       "      <li>PRODUCTS</li>\n",
       "      <li>SALES</li>\n",
       "      </ol>    </li>\n",
       "    </ul>\n",
       "  </li>\n",
       "  </ul>\n",
       "</li>\n",
       "</ul>\n"
      ],
      "text/plain": [
       "<atoti.directquery.external_tables.ExternalTables at 0x11925ceb0>"
      ]
     },
     "execution_count": 7,
     "metadata": {
      "application/json": {
       "expanded": false,
       "root": "BIGQUERY"
      }
     },
     "output_type": "execute_result"
    }
   ],
   "source": [
    "external_database.tables._filter(schema_name=\"tutorial\")"
   ]
  },
  {
   "cell_type": "markdown",
   "id": "f1308a2c-a4d2-40e5-9985-7013fa05a9fb",
   "metadata": {},
   "source": [
    "### Discover Table Columns"
   ]
  },
  {
   "cell_type": "markdown",
   "id": "e72119a9-ed38-4d83-a8a5-1fe021b48e5c",
   "metadata": {},
   "source": [
    "If a table name is unique in the database, we can check its structure directly using its name:  "
   ]
  },
  {
   "cell_type": "code",
   "execution_count": 8,
   "id": "f91519b6-a36b-4f0c-b1f0-949b0be22d5f",
   "metadata": {
    "tags": []
   },
   "outputs": [
    {
     "data": {
      "application/json": {
       "DATE": "LocalDate",
       "PRODUCT": "String",
       "QUANTITY": "long",
       "SALE_ID": "String",
       "SHOP": "String",
       "UNIT_PRICE": "double"
      },
      "text/html": [
       "<ul>\n",
       "<li>SALES\n",
       "  <ul>\n",
       "  <li>SALE_ID: String</li>\n",
       "  <li>DATE: LocalDate</li>\n",
       "  <li>SHOP: String</li>\n",
       "  <li>PRODUCT: String</li>\n",
       "  <li>QUANTITY: long</li>\n",
       "  <li>UNIT_PRICE: double</li>\n",
       "  </ul>\n",
       "</li>\n",
       "</ul>\n"
      ],
      "text/plain": [
       "<atoti.directquery.external_table.ExternalTable at 0x11925ce20>"
      ]
     },
     "execution_count": 8,
     "metadata": {
      "application/json": {
       "expanded": true,
       "root": "SALES"
      }
     },
     "output_type": "execute_result"
    }
   ],
   "source": [
    "external_database.tables[\"SALES\"]"
   ]
  },
  {
   "cell_type": "markdown",
   "id": "1d9ef3fb-85a5-472b-aa12-8a88e3d1e6d9",
   "metadata": {},
   "source": [
    "However, to be precise, it is a good practice to refer to the table using its database, schema and table names. Uncomment and execute the following cells as to try this out."
   ]
  },
  {
   "cell_type": "code",
   "execution_count": 9,
   "id": "247c876c-2b44-4b0f-8bcf-8864350bb3d6",
   "metadata": {
    "tags": []
   },
   "outputs": [],
   "source": [
    "# db_name = \"<database name here>\"\n",
    "# db_schema = \"tutorial\"\n",
    "# table_sales = \"SALES\""
   ]
  },
  {
   "cell_type": "code",
   "execution_count": 10,
   "id": "fbfde589-b458-474d-8665-af7b016598bc",
   "metadata": {
    "tags": []
   },
   "outputs": [],
   "source": [
    "# external_database.tables[db_name, db_schema, table_sales]"
   ]
  },
  {
   "cell_type": "markdown",
   "id": "85d14ebe-eb8a-4216-8564-8330b4b7b0d9",
   "metadata": {},
   "source": [
    "## Add External Table to Atoti"
   ]
  },
  {
   "cell_type": "markdown",
   "id": "8fa1b581-ee16-4730-8ea2-b29fa14ee03a",
   "metadata": {},
   "source": [
    "Since we have connected to the external database and we are able to see its structure, we can add the required tables to the Atoti session.  \n",
    "\n",
    "Using [BigqueryTableOptions](https://docs.atoti.io/latest/api/atoti_directquery_bigquery.BigqueryTableOptions.html#atoti_directquery_bigquery.BigqueryTableOptions), we can define additional options to the table that we will create in Atoti:\n",
    "\n",
    "- `array_conversion`: Converting values spread over multiple columns into array columns.\n",
    "- `clustering_columns`: Columns used for splitting up queries.\n",
    "- `keys`: Keys used to identify unique rows for updating of data.\n",
    "\n",
    "We will only use `keys` and `clustering_columns` in our example."
   ]
  },
  {
   "cell_type": "code",
   "execution_count": 11,
   "id": "7dab34b4-ca6f-4c80-8ba9-f8534f9eae5b",
   "metadata": {
    "tags": []
   },
   "outputs": [],
   "source": [
    "from atoti_directquery_bigquery import TableConfig"
   ]
  },
  {
   "cell_type": "markdown",
   "id": "790b7a07-c762-438a-878e-de3611f39b5c",
   "metadata": {},
   "source": [
    "Similar to how we create keys for Atoti tables, we set the key columns in the `BigqueryTableOptions`. Note that this external table is created in Atoti and the defined keys affects only the data that is accessible in Atoti. It does not change the tables in BigQuery.  \n",
    "\n",
    "To distinguish our Atoti external table from the BigQuery table, we named them differently in our example.  "
   ]
  },
  {
   "cell_type": "code",
   "execution_count": 12,
   "id": "a580d644-94e0-4772-ac94-a9600bc08546",
   "metadata": {
    "tags": []
   },
   "outputs": [],
   "source": [
    "sales_table = session.add_external_table(\n",
    "    external_database.tables[\"SALES\"],\n",
    "    table_name=\"Atoti Sales\",\n",
    "    config=TableConfig(keys=[\"SALE_ID\"], clustering_columns={\"DATE\", \"PRODUCT\"}),\n",
    ")"
   ]
  },
  {
   "cell_type": "markdown",
   "id": "ac9b4de4-60f9-45d9-8b87-e7d0452714ee",
   "metadata": {},
   "source": [
    "To speed up querying, Atoti makes use of [aggregate providers](https://docs.atoti.io/latest/api/atoti.AggregateProvider.html#atoti.AggregateProvider) to pre-aggregates some table columns up to certain levels. Feeding such providers from an external database can result in very large queries to be run on the database. Some databases can have trouble processing such large queries. Therefore, we define [clustering columns](https://docs.activeviam.com/products/atoti/server/latest/docs/directquery/directquery-clustering-fields/) to help split up queries made by DirectQuery to these external database when feeding the aggregate providers.  \n",
    "\n",
    "The `clustering_columns` parameter allows us to define columns to be used for clustering. While our example uses a small dataset and clustering column is not necessary, we demonstrate how it can be used in the snippet above.  "
   ]
  },
  {
   "cell_type": "code",
   "execution_count": 13,
   "id": "561e7c19-28cc-4796-918b-24de800147a7",
   "metadata": {
    "tags": []
   },
   "outputs": [
    {
     "data": {
      "text/html": [
       "<div>\n",
       "<style scoped>\n",
       "    .dataframe tbody tr th:only-of-type {\n",
       "        vertical-align: middle;\n",
       "    }\n",
       "\n",
       "    .dataframe tbody tr th {\n",
       "        vertical-align: top;\n",
       "    }\n",
       "\n",
       "    .dataframe thead th {\n",
       "        text-align: right;\n",
       "    }\n",
       "</style>\n",
       "<table border=\"1\" class=\"dataframe\">\n",
       "  <thead>\n",
       "    <tr style=\"text-align: right;\">\n",
       "      <th></th>\n",
       "      <th>DATE</th>\n",
       "      <th>SHOP</th>\n",
       "      <th>PRODUCT</th>\n",
       "      <th>QUANTITY</th>\n",
       "      <th>UNIT_PRICE</th>\n",
       "    </tr>\n",
       "    <tr>\n",
       "      <th>SALE_ID</th>\n",
       "      <th></th>\n",
       "      <th></th>\n",
       "      <th></th>\n",
       "      <th></th>\n",
       "      <th></th>\n",
       "    </tr>\n",
       "  </thead>\n",
       "  <tbody>\n",
       "    <tr>\n",
       "      <th>S0010</th>\n",
       "      <td>2022-01-31</td>\n",
       "      <td>shop_2</td>\n",
       "      <td>BED_2</td>\n",
       "      <td>3</td>\n",
       "      <td>150.0</td>\n",
       "    </tr>\n",
       "    <tr>\n",
       "      <th>S0007</th>\n",
       "      <td>2022-02-01</td>\n",
       "      <td>shop_5</td>\n",
       "      <td>BED_2</td>\n",
       "      <td>1</td>\n",
       "      <td>150.0</td>\n",
       "    </tr>\n",
       "    <tr>\n",
       "      <th>S0008</th>\n",
       "      <td>2022-01-31</td>\n",
       "      <td>shop_4</td>\n",
       "      <td>BED_2</td>\n",
       "      <td>1</td>\n",
       "      <td>150.0</td>\n",
       "    </tr>\n",
       "    <tr>\n",
       "      <th>S0009</th>\n",
       "      <td>2022-01-31</td>\n",
       "      <td>shop_3</td>\n",
       "      <td>BED_2</td>\n",
       "      <td>1</td>\n",
       "      <td>150.0</td>\n",
       "    </tr>\n",
       "    <tr>\n",
       "      <th>S0019</th>\n",
       "      <td>2022-02-02</td>\n",
       "      <td>shop_3</td>\n",
       "      <td>HOO_5</td>\n",
       "      <td>1</td>\n",
       "      <td>48.0</td>\n",
       "    </tr>\n",
       "  </tbody>\n",
       "</table>\n",
       "</div>"
      ],
      "text/plain": [
       "              DATE    SHOP PRODUCT  QUANTITY  UNIT_PRICE\n",
       "SALE_ID                                                 \n",
       "S0010   2022-01-31  shop_2   BED_2         3       150.0\n",
       "S0007   2022-02-01  shop_5   BED_2         1       150.0\n",
       "S0008   2022-01-31  shop_4   BED_2         1       150.0\n",
       "S0009   2022-01-31  shop_3   BED_2         1       150.0\n",
       "S0019   2022-02-02  shop_3   HOO_5         1        48.0"
      ]
     },
     "execution_count": 13,
     "metadata": {},
     "output_type": "execute_result"
    }
   ],
   "source": [
    "sales_table.head()"
   ]
  },
  {
   "cell_type": "markdown",
   "id": "dc44214e-743e-4937-9269-61498986355b",
   "metadata": {},
   "source": [
    "We can add multiple tables."
   ]
  },
  {
   "cell_type": "code",
   "execution_count": 14,
   "id": "f282f67a-dfa9-4ba1-aef7-779ec734fe50",
   "metadata": {
    "tags": []
   },
   "outputs": [
    {
     "data": {
      "text/html": [
       "<div>\n",
       "<style scoped>\n",
       "    .dataframe tbody tr th:only-of-type {\n",
       "        vertical-align: middle;\n",
       "    }\n",
       "\n",
       "    .dataframe tbody tr th {\n",
       "        vertical-align: top;\n",
       "    }\n",
       "\n",
       "    .dataframe thead th {\n",
       "        text-align: right;\n",
       "    }\n",
       "</style>\n",
       "<table border=\"1\" class=\"dataframe\">\n",
       "  <thead>\n",
       "    <tr style=\"text-align: right;\">\n",
       "      <th></th>\n",
       "      <th>CATEGORY</th>\n",
       "      <th>SUB_CATEGORY</th>\n",
       "      <th>SIZE</th>\n",
       "      <th>PURCHASE_PRICE</th>\n",
       "      <th>COLOR</th>\n",
       "      <th>BRAND</th>\n",
       "    </tr>\n",
       "    <tr>\n",
       "      <th>PRODUCT_ID</th>\n",
       "      <th></th>\n",
       "      <th></th>\n",
       "      <th></th>\n",
       "      <th></th>\n",
       "      <th></th>\n",
       "      <th></th>\n",
       "    </tr>\n",
       "  </thead>\n",
       "  <tbody>\n",
       "    <tr>\n",
       "      <th>BED_2</th>\n",
       "      <td>Furniture</td>\n",
       "      <td>Bed</td>\n",
       "      <td>Single</td>\n",
       "      <td>127.0</td>\n",
       "      <td>red</td>\n",
       "      <td>Mega</td>\n",
       "    </tr>\n",
       "    <tr>\n",
       "      <th>TAB_1</th>\n",
       "      <td>Furniture</td>\n",
       "      <td>Table</td>\n",
       "      <td>2m40</td>\n",
       "      <td>280.0</td>\n",
       "      <td>white</td>\n",
       "      <td>Mega</td>\n",
       "    </tr>\n",
       "    <tr>\n",
       "      <th>TAB_0</th>\n",
       "      <td>Furniture</td>\n",
       "      <td>Table</td>\n",
       "      <td>1m80</td>\n",
       "      <td>190.0</td>\n",
       "      <td>black</td>\n",
       "      <td>Basic</td>\n",
       "    </tr>\n",
       "    <tr>\n",
       "      <th>HOO_5</th>\n",
       "      <td>Cloth</td>\n",
       "      <td>Hoodie</td>\n",
       "      <td>M</td>\n",
       "      <td>38.0</td>\n",
       "      <td>red</td>\n",
       "      <td>Mega</td>\n",
       "    </tr>\n",
       "    <tr>\n",
       "      <th>TSH_3</th>\n",
       "      <td>Cloth</td>\n",
       "      <td>Tshirt</td>\n",
       "      <td>M</td>\n",
       "      <td>19.0</td>\n",
       "      <td>brown</td>\n",
       "      <td>Over</td>\n",
       "    </tr>\n",
       "  </tbody>\n",
       "</table>\n",
       "</div>"
      ],
      "text/plain": [
       "             CATEGORY SUB_CATEGORY    SIZE  PURCHASE_PRICE  COLOR  BRAND\n",
       "PRODUCT_ID                                                              \n",
       "BED_2       Furniture          Bed  Single           127.0    red   Mega\n",
       "TAB_1       Furniture        Table    2m40           280.0  white   Mega\n",
       "TAB_0       Furniture        Table    1m80           190.0  black  Basic\n",
       "HOO_5           Cloth       Hoodie       M            38.0    red   Mega\n",
       "TSH_3           Cloth       Tshirt       M            19.0  brown   Over"
      ]
     },
     "execution_count": 14,
     "metadata": {},
     "output_type": "execute_result"
    }
   ],
   "source": [
    "products_table = session.add_external_table(\n",
    "    external_database.tables[\"PRODUCTS\"],\n",
    "    table_name=\"Atoti Product\",\n",
    "    config=TableConfig(keys=[\"PRODUCT_ID\"]),\n",
    ")\n",
    "\n",
    "products_table.head()"
   ]
  },
  {
   "cell_type": "markdown",
   "id": "57349699-117a-4cf9-bb95-5910f18d5187",
   "metadata": {},
   "source": [
    "Once we have created our external tables, the rest is _simply the usual stuff for Atoti_."
   ]
  },
  {
   "cell_type": "markdown",
   "id": "564a8bad-9c60-4c7a-b94e-918b5112cfdb",
   "metadata": {
    "tags": []
   },
   "source": [
    "## Atoti Cube Setup"
   ]
  },
  {
   "cell_type": "markdown",
   "id": "2f24568b-71da-4341-a716-f8abdbdce17d",
   "metadata": {
    "tags": []
   },
   "source": [
    "From this section onwards, the coding remains the same regardless of the underlying data source.  \n",
    "\n",
    "As we have always done, we join the tables and create the cube."
   ]
  },
  {
   "cell_type": "code",
   "execution_count": 15,
   "id": "93f6c667-27b6-4e2e-9685-ef275235622c",
   "metadata": {
    "tags": []
   },
   "outputs": [
    {
     "data": {
      "image/png": "[encoded data removed]",
      "text/plain": [
       "erDiagram\n",
       "  \"Atoti Sales\" {\n",
       "    _ String PK \"SALE_ID\"\n",
       "    _ LocalDate \"DATE\"\n",
       "    _ String \"SHOP\"\n",
       "    _ String \"PRODUCT\"\n",
       "    _ long \"QUANTITY\"\n",
       "    _ double \"UNIT_PRICE\"\n",
       "  }\n",
       "  \"Atoti Product\" {\n",
       "    _ String PK \"PRODUCT_ID\"\n",
       "    _ String \"CATEGORY\"\n",
       "    _ String \"SUB_CATEGORY\"\n",
       "    _ String \"SIZE\"\n",
       "    _ double \"PURCHASE_PRICE\"\n",
       "    _ String \"COLOR\"\n",
       "    _ String \"BRAND\"\n",
       "  }\n",
       "  \"Atoti Sales\" }o--o| \"Atoti Product\" : \"`PRODUCT` == `PRODUCT_ID`\""
      ]
     },
     "execution_count": 15,
     "metadata": {},
     "output_type": "execute_result"
    }
   ],
   "source": [
    "sales_table.join(products_table, sales_table[\"PRODUCT\"] == products_table[\"PRODUCT_ID\"])\n",
    "cube = session.create_cube(sales_table)\n",
    "session.tables.schema"
   ]
  },
  {
   "cell_type": "code",
   "execution_count": 16,
   "id": "4ee29cb6-1f57-43f2-b6e7-ad2e72d8abd4",
   "metadata": {
    "atoti": {
     "widget": {
      "mapping": {
       "columns": [
        "ALL_MEASURES"
       ],
       "measures": [
        "[Measures].[QUANTITY.SUM]"
       ],
       "rows": [
        "[Atoti Sales].[DATE].[DATE]",
        "[Atoti Sales].[SHOP].[SHOP] => [Atoti Product].[BRAND].[BRAND]"
       ]
      },
      "name": "Quantity sold across dates by shops",
      "query": {
       "mdx": "SELECT NON EMPTY {[Measures].[QUANTITY.SUM]} ON COLUMNS, NON EMPTY Hierarchize(Union(Crossjoin(Hierarchize(Descendants({[Atoti Sales].[DATE].[AllMember]}, 1, SELF_AND_BEFORE)), Hierarchize(Descendants({[Atoti Sales].[SHOP].[AllMember]}, 1, SELF_AND_BEFORE)), [Atoti Product].[BRAND].DefaultMember), Crossjoin([Atoti Sales].[DATE].[AllMember].[2022-01-31], [Atoti Sales].[SHOP].[AllMember].[shop_2], Hierarchize(Descendants({[Atoti Product].[BRAND].[AllMember]}, 1, SELF_AND_BEFORE))))) ON ROWS FROM [Atoti Sales] CELL PROPERTIES VALUE, FORMATTED_VALUE, BACK_COLOR, FORE_COLOR, FONT_FLAGS",
       "updateMode": "once"
      },
      "serverKey": "default",
      "widgetKey": "pivot-table"
     }
    },
    "tags": []
   },
   "outputs": [
    {
     "data": {
      "application/vnd.atoti.widget.v0+json": {
       "sessionId": "1728930520_039730",
       "sessionUrl": "http://localhost:54950",
       "widgetCreationCode": "session.widget"
      },
      "text/html": [
       "<img height=\"352\" width=\"1122\" src=\"data:image/png;base64,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\" />"
      ],
      "text/plain": [
       "Open the notebook in JupyterLab with the Atoti JupyterLab extension enabled to build this widget."
      ]
     },
     "metadata": {},
     "output_type": "display_data"
    }
   ],
   "source": [
    "session.widget"
   ]
  },
  {
   "cell_type": "markdown",
   "id": "623a5cce-fee4-489b-9250-c5dd542fb708",
   "metadata": {},
   "source": [
    "### Cube manipulation"
   ]
  },
  {
   "cell_type": "markdown",
   "id": "ad616201-0cc7-4012-8e54-66a99c9c1a23",
   "metadata": {},
   "source": [
    "We perform hierarchy manipulation, level ordering and measure creations the same way we always do in Atoti."
   ]
  },
  {
   "cell_type": "code",
   "execution_count": 17,
   "id": "27bebe22-10e5-4b67-9c18-4bb478fef70b",
   "metadata": {
    "tags": []
   },
   "outputs": [],
   "source": [
    "h, l, m = cube.hierarchies, cube.levels, cube.measures"
   ]
  },
  {
   "cell_type": "code",
   "execution_count": 18,
   "id": "fe4aea14-fc25-4a2d-9401-0ce01df385e4",
   "metadata": {
    "tags": []
   },
   "outputs": [],
   "source": [
    "h[\"CATEGORY\"] = [l[\"CATEGORY\"], l[\"SUB_CATEGORY\"]]\n",
    "del h[\"SUB_CATEGORY\"]"
   ]
  },
  {
   "cell_type": "code",
   "execution_count": 19,
   "id": "efc5d476-6465-4ccf-93d3-9f5dfe19df3c",
   "metadata": {
    "tags": []
   },
   "outputs": [
    {
     "data": {
      "application/json": {
       "Atoti Product": {
        "BRAND": [
         "BRAND"
        ],
        "CATEGORY": [
         "CATEGORY",
         "SUB_CATEGORY"
        ],
        "COLOR": [
         "COLOR"
        ],
        "SIZE": [
         "SIZE"
        ]
       },
       "Atoti Sales": {
        "DATE": [
         "DATE"
        ],
        "PRODUCT": [
         "PRODUCT"
        ],
        "SALE_ID": [
         "SALE_ID"
        ],
        "SHOP": [
         "SHOP"
        ]
       }
      },
      "text/html": [
       "<ul>\n",
       "<li>Dimensions\n",
       "  <ul>\n",
       "  <li>Atoti Product\n",
       "    <ul>\n",
       "    <li>BRAND\n",
       "      <ol>\n",
       "      <li>BRAND</li>\n",
       "      </ol>    </li>\n",
       "    <li>CATEGORY\n",
       "      <ol>\n",
       "      <li>CATEGORY</li>\n",
       "      <li>SUB_CATEGORY</li>\n",
       "      </ol>    </li>\n",
       "    <li>COLOR\n",
       "      <ol>\n",
       "      <li>COLOR</li>\n",
       "      </ol>    </li>\n",
       "    <li>SIZE\n",
       "      <ol>\n",
       "      <li>SIZE</li>\n",
       "      </ol>    </li>\n",
       "    </ul>\n",
       "  </li>\n",
       "  <li>Atoti Sales\n",
       "    <ul>\n",
       "    <li>DATE\n",
       "      <ol>\n",
       "      <li>DATE</li>\n",
       "      </ol>    </li>\n",
       "    <li>PRODUCT\n",
       "      <ol>\n",
       "      <li>PRODUCT</li>\n",
       "      </ol>    </li>\n",
       "    <li>SALE_ID\n",
       "      <ol>\n",
       "      <li>SALE_ID</li>\n",
       "      </ol>    </li>\n",
       "    <li>SHOP\n",
       "      <ol>\n",
       "      <li>SHOP</li>\n",
       "      </ol>    </li>\n",
       "    </ul>\n",
       "  </li>\n",
       "  </ul>\n",
       "</li>\n",
       "</ul>\n"
      ],
      "text/plain": [
       "{('Atoti Product', 'SIZE'): <atoti.hierarchy.Hierarchy object at 0x119412080>, ('Atoti Product', 'BRAND'): <atoti.hierarchy.Hierarchy object at 0x119412140>, ('Atoti Product', 'COLOR'): <atoti.hierarchy.Hierarchy object at 0x119411300>, ('Atoti Product', 'CATEGORY'): <atoti.hierarchy.Hierarchy object at 0x119411390>, ('Atoti Sales', 'SALE_ID'): <atoti.hierarchy.Hierarchy object at 0x119411030>, ('Atoti Sales', 'DATE'): <atoti.hierarchy.Hierarchy object at 0x119410d00>, ('Atoti Sales', 'SHOP'): <atoti.hierarchy.Hierarchy object at 0x119410cd0>, ('Atoti Sales', 'PRODUCT'): <atoti.hierarchy.Hierarchy object at 0x119410940>}"
      ]
     },
     "execution_count": 19,
     "metadata": {
      "application/json": {
       "expanded": true,
       "root": "Dimensions"
      }
     },
     "output_type": "execute_result"
    }
   ],
   "source": [
    "h"
   ]
  },
  {
   "cell_type": "code",
   "execution_count": 20,
   "id": "fe924c60-0c9d-431f-ac72-297db49d8abc",
   "metadata": {
    "tags": []
   },
   "outputs": [],
   "source": [
    "l[\"DATE\"].order = tt.NaturalOrder(ascending=False)"
   ]
  },
  {
   "cell_type": "code",
   "execution_count": 21,
   "id": "343686bd-182e-4de1-b681-8bc6c04b791d",
   "metadata": {
    "tags": []
   },
   "outputs": [],
   "source": [
    "m[\"PURCHASE_PRICE.SUM\"] = tt.agg.sum(products_table[\"PURCHASE_PRICE\"])\n",
    "m[\"PROFIT\"] = tt.agg.sum_product(\n",
    "    m[\"UNIT_PRICE.SUM\"] - m[\"PURCHASE_PRICE.SUM\"],\n",
    "    m[\"QUANTITY.SUM\"],\n",
    "    scope=tt.OriginScope(levels={l[\"SALE_ID\"], l[\"PRODUCT\"]}),\n",
    ")"
   ]
  },
  {
   "cell_type": "markdown",
   "id": "595db925-bf0b-4828-87fb-ff26c717d905",
   "metadata": {},
   "source": [
    "Since we have a join from `sales_table` to `products_table` using the column values of `sales_table.PRODUCT` and `products_table.PRODUCT_ID`, the resultant level is the name of the column from the _from_ table. Therefore, we have the level `PRODUCT` but not `PRODUCT_ID` for our scope in the code snippet above."
   ]
  },
  {
   "cell_type": "code",
   "execution_count": 22,
   "id": "a5dd754e-6d52-43b0-9a18-e7aa7fd42e0b",
   "metadata": {
    "atoti": {
     "widget": {
      "mapping": {
       "columns": [
        "ALL_MEASURES"
       ],
       "measures": [
        "[Measures].[UNIT_PRICE.SUM]",
        "[Measures].[PURCHASE_PRICE.SUM]",
        "[Measures].[QUANTITY.SUM]",
        "[Measures].[PROFIT]"
       ],
       "rows": [
        "[Atoti Sales].[DATE].[DATE]",
        "[Atoti Product].[CATEGORY].[CATEGORY] => [Atoti Product].[CATEGORY].[SUB_CATEGORY]"
       ]
      },
      "name": "Profit by Product Categories across dates",
      "query": {
       "mdx": "SELECT NON EMPTY Hierarchize(Union(Crossjoin(Hierarchize(Descendants({[Atoti Sales].[DATE].[AllMember]}, 1, SELF_AND_BEFORE)), Hierarchize(Descendants({[Atoti Product].[CATEGORY].[AllMember]}, 1, SELF_AND_BEFORE))), Crossjoin([Atoti Sales].[DATE].[AllMember].[2022-02-03], Descendants({[Atoti Product].[CATEGORY].[AllMember].[Cloth]}, [Atoti Product].[CATEGORY].[SUB_CATEGORY])))) ON ROWS, NON EMPTY {[Measures].[UNIT_PRICE.SUM], [Measures].[PURCHASE_PRICE.SUM], [Measures].[QUANTITY.SUM], [Measures].[PROFIT]} ON COLUMNS FROM [Atoti Sales] CELL PROPERTIES VALUE, FORMATTED_VALUE, BACK_COLOR, FORE_COLOR, FONT_FLAGS",
       "updateMode": "once"
      },
      "serverKey": "default",
      "widgetKey": "pivot-table"
     }
    },
    "tags": []
   },
   "outputs": [
    {
     "data": {
      "application/vnd.atoti.widget.v0+json": {
       "sessionId": "1728930520_039730",
       "sessionUrl": "http://localhost:54950",
       "widgetCreationCode": "session.widget"
      },
      "text/html": [
       "<img height=\"352\" width=\"1122\" src=\"data:image/png;base64,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\" />"
      ],
      "text/plain": [
       "Open the notebook in JupyterLab with the Atoti JupyterLab extension enabled to build this widget."
      ]
     },
     "metadata": {},
     "output_type": "display_data"
    }
   ],
   "source": [
    "session.widget"
   ]
  },
  {
   "cell_type": "markdown",
   "id": "08ceaeb7-d0ed-42b5-899e-f4fb4fdcf1ae",
   "metadata": {},
   "source": [
    "## Cost and performance saving with Aggregate Provider"
   ]
  },
  {
   "cell_type": "markdown",
   "id": "b00d6de1-5324-43b0-acb0-c682977c2cf0",
   "metadata": {},
   "source": [
    "Let's take a quick look at our query performance in the current setup."
   ]
  },
  {
   "cell_type": "code",
   "execution_count": 23,
   "id": "37320670-66e8-40c1-9402-26775ed5817c",
   "metadata": {},
   "outputs": [
    {
     "name": "stdout",
     "output_type": "stream",
     "text": [
      "CPU times: user 46.1 ms, sys: 6.94 ms, total: 53 ms\n",
      "Wall time: 1.98 s\n"
     ]
    },
    {
     "data": {
      "application/vnd.atoti.convert-mdx-query-result-to-widget.v0+json": {
       "mdx": "SELECT {[Measures].[QUANTITY.SUM], [Measures].[PROFIT]} ON COLUMNS, NON EMPTY Crossjoin(Hierarchize(Descendants({[Atoti Sales].[DATE].[ALL].[AllMember]}, 1, SELF_AND_BEFORE)), Hierarchize(Descendants({[Atoti Sales].[PRODUCT].[ALL].[AllMember]}, 1, SELF_AND_BEFORE)), Hierarchize(Descendants({[Atoti Sales].[SALE_ID].[ALL].[AllMember]}, 1, SELF_AND_BEFORE))) ON ROWS FROM [Atoti Sales]",
       "sessionId": "1728930520_039730",
       "widgetCreationCode": "session.widget"
      },
      "text/html": [
       "<div>\n",
       "<style scoped>\n",
       "    .dataframe tbody tr th:only-of-type {\n",
       "        vertical-align: middle;\n",
       "    }\n",
       "\n",
       "    .dataframe tbody tr th {\n",
       "        vertical-align: top;\n",
       "    }\n",
       "\n",
       "    .dataframe thead th {\n",
       "        text-align: right;\n",
       "    }\n",
       "</style>\n",
       "<table border=\"1\" class=\"dataframe\">\n",
       "  <thead>\n",
       "    <tr style=\"text-align: right;\">\n",
       "      <th></th>\n",
       "      <th></th>\n",
       "      <th></th>\n",
       "      <th>QUANTITY.SUM</th>\n",
       "      <th>PROFIT</th>\n",
       "    </tr>\n",
       "    <tr>\n",
       "      <th>DATE</th>\n",
       "      <th>PRODUCT</th>\n",
       "      <th>SALE_ID</th>\n",
       "      <th></th>\n",
       "      <th></th>\n",
       "    </tr>\n",
       "  </thead>\n",
       "  <tbody>\n",
       "    <tr>\n",
       "      <th rowspan=\"2\" valign=\"top\">2022-02-04</th>\n",
       "      <th>HOO_5</th>\n",
       "      <th>S0017</th>\n",
       "      <td>1</td>\n",
       "      <td>10.00</td>\n",
       "    </tr>\n",
       "    <tr>\n",
       "      <th>TAB_0</th>\n",
       "      <th>S0000</th>\n",
       "      <td>1</td>\n",
       "      <td>20.00</td>\n",
       "    </tr>\n",
       "    <tr>\n",
       "      <th rowspan=\"4\" valign=\"top\">2022-02-03</th>\n",
       "      <th>HOO_5</th>\n",
       "      <th>S0018</th>\n",
       "      <td>1</td>\n",
       "      <td>10.00</td>\n",
       "    </tr>\n",
       "    <tr>\n",
       "      <th>TAB_0</th>\n",
       "      <th>S0001</th>\n",
       "      <td>1</td>\n",
       "      <td>20.00</td>\n",
       "    </tr>\n",
       "    <tr>\n",
       "      <th>TAB_1</th>\n",
       "      <th>S0004</th>\n",
       "      <td>1</td>\n",
       "      <td>20.00</td>\n",
       "    </tr>\n",
       "    <tr>\n",
       "      <th>TSH_3</th>\n",
       "      <th>S0011</th>\n",
       "      <td>1</td>\n",
       "      <td>3.00</td>\n",
       "    </tr>\n",
       "    <tr>\n",
       "      <th rowspan=\"5\" valign=\"top\">2022-02-02</th>\n",
       "      <th>HOO_5</th>\n",
       "      <th>S0019</th>\n",
       "      <td>1</td>\n",
       "      <td>10.00</td>\n",
       "    </tr>\n",
       "    <tr>\n",
       "      <th>TAB_0</th>\n",
       "      <th>S0002</th>\n",
       "      <td>1</td>\n",
       "      <td>20.00</td>\n",
       "    </tr>\n",
       "    <tr>\n",
       "      <th>TAB_1</th>\n",
       "      <th>S0005</th>\n",
       "      <td>1</td>\n",
       "      <td>20.00</td>\n",
       "    </tr>\n",
       "    <tr>\n",
       "      <th>TSH_3</th>\n",
       "      <th>S0012</th>\n",
       "      <td>1</td>\n",
       "      <td>3.00</td>\n",
       "    </tr>\n",
       "    <tr>\n",
       "      <th>TSH_4</th>\n",
       "      <th>S0014</th>\n",
       "      <td>1</td>\n",
       "      <td>4.00</td>\n",
       "    </tr>\n",
       "    <tr>\n",
       "      <th rowspan=\"5\" valign=\"top\">2022-02-01</th>\n",
       "      <th>BED_2</th>\n",
       "      <th>S0007</th>\n",
       "      <td>1</td>\n",
       "      <td>23.00</td>\n",
       "    </tr>\n",
       "    <tr>\n",
       "      <th>TAB_0</th>\n",
       "      <th>S0003</th>\n",
       "      <td>1</td>\n",
       "      <td>20.00</td>\n",
       "    </tr>\n",
       "    <tr>\n",
       "      <th>TAB_1</th>\n",
       "      <th>S0006</th>\n",
       "      <td>2</td>\n",
       "      <td>40.00</td>\n",
       "    </tr>\n",
       "    <tr>\n",
       "      <th>TSH_3</th>\n",
       "      <th>S0013</th>\n",
       "      <td>1</td>\n",
       "      <td>3.00</td>\n",
       "    </tr>\n",
       "    <tr>\n",
       "      <th>TSH_4</th>\n",
       "      <th>S0015</th>\n",
       "      <td>2</td>\n",
       "      <td>8.00</td>\n",
       "    </tr>\n",
       "    <tr>\n",
       "      <th rowspan=\"4\" valign=\"top\">2022-01-31</th>\n",
       "      <th rowspan=\"3\" valign=\"top\">BED_2</th>\n",
       "      <th>S0008</th>\n",
       "      <td>1</td>\n",
       "      <td>23.00</td>\n",
       "    </tr>\n",
       "    <tr>\n",
       "      <th>S0009</th>\n",
       "      <td>1</td>\n",
       "      <td>23.00</td>\n",
       "    </tr>\n",
       "    <tr>\n",
       "      <th>S0010</th>\n",
       "      <td>3</td>\n",
       "      <td>69.00</td>\n",
       "    </tr>\n",
       "    <tr>\n",
       "      <th>TSH_4</th>\n",
       "      <th>S0016</th>\n",
       "      <td>2</td>\n",
       "      <td>8.00</td>\n",
       "    </tr>\n",
       "  </tbody>\n",
       "</table>\n",
       "</div>"
      ],
      "text/plain": [
       "                           QUANTITY.SUM PROFIT\n",
       "DATE       PRODUCT SALE_ID                    \n",
       "2022-02-04 HOO_5   S0017              1  10.00\n",
       "           TAB_0   S0000              1  20.00\n",
       "2022-02-03 HOO_5   S0018              1  10.00\n",
       "           TAB_0   S0001              1  20.00\n",
       "           TAB_1   S0004              1  20.00\n",
       "           TSH_3   S0011              1   3.00\n",
       "2022-02-02 HOO_5   S0019              1  10.00\n",
       "           TAB_0   S0002              1  20.00\n",
       "           TAB_1   S0005              1  20.00\n",
       "           TSH_3   S0012              1   3.00\n",
       "           TSH_4   S0014              1   4.00\n",
       "2022-02-01 BED_2   S0007              1  23.00\n",
       "           TAB_0   S0003              1  20.00\n",
       "           TAB_1   S0006              2  40.00\n",
       "           TSH_3   S0013              1   3.00\n",
       "           TSH_4   S0015              2   8.00\n",
       "2022-01-31 BED_2   S0008              1  23.00\n",
       "                   S0009              1  23.00\n",
       "                   S0010              3  69.00\n",
       "           TSH_4   S0016              2   8.00"
      ]
     },
     "execution_count": 23,
     "metadata": {},
     "output_type": "execute_result"
    }
   ],
   "source": [
    "%%time\n",
    "\n",
    "cube.query(\n",
    "    m[\"QUANTITY.SUM\"], m[\"PROFIT\"], levels=[l[\"DATE\"], l[\"PRODUCT\"], l[\"SALE_ID\"]]\n",
    ")"
   ]
  },
  {
   "cell_type": "code",
   "execution_count": 24,
   "id": "41a42190-2831-458d-9679-aa942dae9de0",
   "metadata": {},
   "outputs": [
    {
     "name": "stdout",
     "output_type": "stream",
     "text": [
      "CPU times: user 16.6 ms, sys: 3.53 ms, total: 20.1 ms\n",
      "Wall time: 1.87 s\n"
     ]
    },
    {
     "data": {
      "application/vnd.atoti.convert-mdx-query-result-to-widget.v0+json": {
       "mdx": "SELECT {[Measures].[PROFIT]} ON COLUMNS, NON EMPTY Crossjoin(Hierarchize(Descendants({[Atoti Sales].[DATE].[ALL].[AllMember]}, 1, SELF_AND_BEFORE)), Hierarchize(Descendants({[Atoti Product].[CATEGORY].[ALL].[AllMember]}, 2, SELF_AND_BEFORE))) ON ROWS FROM [Atoti Sales]",
       "sessionId": "1728930520_039730",
       "widgetCreationCode": "session.widget"
      },
      "text/html": [
       "<div>\n",
       "<style scoped>\n",
       "    .dataframe tbody tr th:only-of-type {\n",
       "        vertical-align: middle;\n",
       "    }\n",
       "\n",
       "    .dataframe tbody tr th {\n",
       "        vertical-align: top;\n",
       "    }\n",
       "\n",
       "    .dataframe thead th {\n",
       "        text-align: right;\n",
       "    }\n",
       "</style>\n",
       "<table border=\"1\" class=\"dataframe\">\n",
       "  <thead>\n",
       "    <tr style=\"text-align: right;\">\n",
       "      <th></th>\n",
       "      <th></th>\n",
       "      <th></th>\n",
       "      <th>PROFIT</th>\n",
       "    </tr>\n",
       "    <tr>\n",
       "      <th>DATE</th>\n",
       "      <th>CATEGORY</th>\n",
       "      <th>SUB_CATEGORY</th>\n",
       "      <th></th>\n",
       "    </tr>\n",
       "  </thead>\n",
       "  <tbody>\n",
       "    <tr>\n",
       "      <th rowspan=\"2\" valign=\"top\">2022-02-04</th>\n",
       "      <th>Cloth</th>\n",
       "      <th>Hoodie</th>\n",
       "      <td>10.00</td>\n",
       "    </tr>\n",
       "    <tr>\n",
       "      <th>Furniture</th>\n",
       "      <th>Table</th>\n",
       "      <td>20.00</td>\n",
       "    </tr>\n",
       "    <tr>\n",
       "      <th rowspan=\"3\" valign=\"top\">2022-02-03</th>\n",
       "      <th rowspan=\"2\" valign=\"top\">Cloth</th>\n",
       "      <th>Hoodie</th>\n",
       "      <td>10.00</td>\n",
       "    </tr>\n",
       "    <tr>\n",
       "      <th>Tshirt</th>\n",
       "      <td>3.00</td>\n",
       "    </tr>\n",
       "    <tr>\n",
       "      <th>Furniture</th>\n",
       "      <th>Table</th>\n",
       "      <td>40.00</td>\n",
       "    </tr>\n",
       "    <tr>\n",
       "      <th rowspan=\"3\" valign=\"top\">2022-02-02</th>\n",
       "      <th rowspan=\"2\" valign=\"top\">Cloth</th>\n",
       "      <th>Hoodie</th>\n",
       "      <td>10.00</td>\n",
       "    </tr>\n",
       "    <tr>\n",
       "      <th>Tshirt</th>\n",
       "      <td>7.00</td>\n",
       "    </tr>\n",
       "    <tr>\n",
       "      <th>Furniture</th>\n",
       "      <th>Table</th>\n",
       "      <td>40.00</td>\n",
       "    </tr>\n",
       "    <tr>\n",
       "      <th rowspan=\"3\" valign=\"top\">2022-02-01</th>\n",
       "      <th>Cloth</th>\n",
       "      <th>Tshirt</th>\n",
       "      <td>11.00</td>\n",
       "    </tr>\n",
       "    <tr>\n",
       "      <th rowspan=\"2\" valign=\"top\">Furniture</th>\n",
       "      <th>Bed</th>\n",
       "      <td>23.00</td>\n",
       "    </tr>\n",
       "    <tr>\n",
       "      <th>Table</th>\n",
       "      <td>60.00</td>\n",
       "    </tr>\n",
       "    <tr>\n",
       "      <th rowspan=\"2\" valign=\"top\">2022-01-31</th>\n",
       "      <th>Cloth</th>\n",
       "      <th>Tshirt</th>\n",
       "      <td>8.00</td>\n",
       "    </tr>\n",
       "    <tr>\n",
       "      <th>Furniture</th>\n",
       "      <th>Bed</th>\n",
       "      <td>115.00</td>\n",
       "    </tr>\n",
       "  </tbody>\n",
       "</table>\n",
       "</div>"
      ],
      "text/plain": [
       "                                   PROFIT\n",
       "DATE       CATEGORY  SUB_CATEGORY        \n",
       "2022-02-04 Cloth     Hoodie         10.00\n",
       "           Furniture Table          20.00\n",
       "2022-02-03 Cloth     Hoodie         10.00\n",
       "                     Tshirt          3.00\n",
       "           Furniture Table          40.00\n",
       "2022-02-02 Cloth     Hoodie         10.00\n",
       "                     Tshirt          7.00\n",
       "           Furniture Table          40.00\n",
       "2022-02-01 Cloth     Tshirt         11.00\n",
       "           Furniture Bed            23.00\n",
       "                     Table          60.00\n",
       "2022-01-31 Cloth     Tshirt          8.00\n",
       "           Furniture Bed           115.00"
      ]
     },
     "execution_count": 24,
     "metadata": {},
     "output_type": "execute_result"
    }
   ],
   "source": [
    "%%time\n",
    "\n",
    "cube.query(m[\"PROFIT\"], levels=[l[\"DATE\"], l[\"SUB_CATEGORY\"]])"
   ]
  },
  {
   "cell_type": "markdown",
   "id": "ec655a71-8eec-42ae-9dd5-3fa7bbf0f782",
   "metadata": {},
   "source": [
    "It takes approximately `3s` to return the query (YMMV)."
   ]
  },
  {
   "cell_type": "markdown",
   "id": "409bcc8e-c3e4-4592-a6ee-c54d41f97719",
   "metadata": {},
   "source": [
    "To speed up our querying, we make use of the [aggregate provider](https://docs.atoti.io/latest/api/atoti.AggregateProvider.html#atoti.AggregateProvider) to store intermediate aggregates in memory. If a step of a query uses a subset of the aggregate provider's levels and measures, the provider will speed up the query.  \n",
    "\n",
    "Since data is cached in memory, we will __not__ access BigQuery when a subset of these are queried.  "
   ]
  },
  {
   "cell_type": "code",
   "execution_count": 25,
   "id": "0f33a62c-d66d-4e3a-997d-ae325e9276ec",
   "metadata": {
    "tags": []
   },
   "outputs": [],
   "source": [
    "cube.aggregate_providers.update(\n",
    "    {\n",
    "        \"Products provider\": tt.AggregateProvider(\n",
    "            key=\"bitmap\",\n",
    "            levels=[l[\"DATE\"], l[\"PRODUCT\"], l[\"SALE_ID\"]],\n",
    "            measures=[m[\"QUANTITY.SUM\"], m[\"PURCHASE_PRICE.SUM\"], m[\"UNIT_PRICE.SUM\"]],\n",
    "            partitioning=\"hash16(PRODUCT)\",\n",
    "        )\n",
    "    }\n",
    ")"
   ]
  },
  {
   "cell_type": "markdown",
   "id": "4817dae9-0dbb-4c91-95bc-38a1320102ae",
   "metadata": {},
   "source": [
    "⚠️ **Important:** We can only use store aggregated measures supporting disaggregation can be used in aggregate provider, e.g. `tt.agg.sum` or `tt.agg.mean` on table columns.\n",
    "\n",
    "`m[\"PROFIT\"]` cannot be used because it is a chained measure resulting from the `sum_product` of a few measures.\n"
   ]
  },
  {
   "cell_type": "code",
   "execution_count": 26,
   "id": "0bc35e5d-1845-479b-873f-5a24be936f1e",
   "metadata": {
    "tags": []
   },
   "outputs": [
    {
     "name": "stdout",
     "output_type": "stream",
     "text": [
      "CPU times: user 18.2 ms, sys: 4.94 ms, total: 23.1 ms\n",
      "Wall time: 78.7 ms\n"
     ]
    },
    {
     "data": {
      "application/vnd.atoti.convert-mdx-query-result-to-widget.v0+json": {
       "mdx": "SELECT {[Measures].[PROFIT]} ON COLUMNS, NON EMPTY Crossjoin(Hierarchize(Descendants({[Atoti Sales].[DATE].[ALL].[AllMember]}, 1, SELF_AND_BEFORE)), Hierarchize(Descendants({[Atoti Sales].[PRODUCT].[ALL].[AllMember]}, 1, SELF_AND_BEFORE)), Hierarchize(Descendants({[Atoti Sales].[SALE_ID].[ALL].[AllMember]}, 1, SELF_AND_BEFORE))) ON ROWS FROM [Atoti Sales]",
       "sessionId": "1728930520_039730",
       "widgetCreationCode": "session.widget"
      },
      "text/html": [
       "<div>\n",
       "<style scoped>\n",
       "    .dataframe tbody tr th:only-of-type {\n",
       "        vertical-align: middle;\n",
       "    }\n",
       "\n",
       "    .dataframe tbody tr th {\n",
       "        vertical-align: top;\n",
       "    }\n",
       "\n",
       "    .dataframe thead th {\n",
       "        text-align: right;\n",
       "    }\n",
       "</style>\n",
       "<table border=\"1\" class=\"dataframe\">\n",
       "  <thead>\n",
       "    <tr style=\"text-align: right;\">\n",
       "      <th></th>\n",
       "      <th></th>\n",
       "      <th></th>\n",
       "      <th>PROFIT</th>\n",
       "    </tr>\n",
       "    <tr>\n",
       "      <th>DATE</th>\n",
       "      <th>PRODUCT</th>\n",
       "      <th>SALE_ID</th>\n",
       "      <th></th>\n",
       "    </tr>\n",
       "  </thead>\n",
       "  <tbody>\n",
       "    <tr>\n",
       "      <th rowspan=\"2\" valign=\"top\">2022-02-04</th>\n",
       "      <th>HOO_5</th>\n",
       "      <th>S0017</th>\n",
       "      <td>10.00</td>\n",
       "    </tr>\n",
       "    <tr>\n",
       "      <th>TAB_0</th>\n",
       "      <th>S0000</th>\n",
       "      <td>20.00</td>\n",
       "    </tr>\n",
       "    <tr>\n",
       "      <th rowspan=\"4\" valign=\"top\">2022-02-03</th>\n",
       "      <th>HOO_5</th>\n",
       "      <th>S0018</th>\n",
       "      <td>10.00</td>\n",
       "    </tr>\n",
       "    <tr>\n",
       "      <th>TAB_0</th>\n",
       "      <th>S0001</th>\n",
       "      <td>20.00</td>\n",
       "    </tr>\n",
       "    <tr>\n",
       "      <th>TAB_1</th>\n",
       "      <th>S0004</th>\n",
       "      <td>20.00</td>\n",
       "    </tr>\n",
       "    <tr>\n",
       "      <th>TSH_3</th>\n",
       "      <th>S0011</th>\n",
       "      <td>3.00</td>\n",
       "    </tr>\n",
       "    <tr>\n",
       "      <th rowspan=\"5\" valign=\"top\">2022-02-02</th>\n",
       "      <th>HOO_5</th>\n",
       "      <th>S0019</th>\n",
       "      <td>10.00</td>\n",
       "    </tr>\n",
       "    <tr>\n",
       "      <th>TAB_0</th>\n",
       "      <th>S0002</th>\n",
       "      <td>20.00</td>\n",
       "    </tr>\n",
       "    <tr>\n",
       "      <th>TAB_1</th>\n",
       "      <th>S0005</th>\n",
       "      <td>20.00</td>\n",
       "    </tr>\n",
       "    <tr>\n",
       "      <th>TSH_3</th>\n",
       "      <th>S0012</th>\n",
       "      <td>3.00</td>\n",
       "    </tr>\n",
       "    <tr>\n",
       "      <th>TSH_4</th>\n",
       "      <th>S0014</th>\n",
       "      <td>4.00</td>\n",
       "    </tr>\n",
       "    <tr>\n",
       "      <th rowspan=\"5\" valign=\"top\">2022-02-01</th>\n",
       "      <th>BED_2</th>\n",
       "      <th>S0007</th>\n",
       "      <td>23.00</td>\n",
       "    </tr>\n",
       "    <tr>\n",
       "      <th>TAB_0</th>\n",
       "      <th>S0003</th>\n",
       "      <td>20.00</td>\n",
       "    </tr>\n",
       "    <tr>\n",
       "      <th>TAB_1</th>\n",
       "      <th>S0006</th>\n",
       "      <td>40.00</td>\n",
       "    </tr>\n",
       "    <tr>\n",
       "      <th>TSH_3</th>\n",
       "      <th>S0013</th>\n",
       "      <td>3.00</td>\n",
       "    </tr>\n",
       "    <tr>\n",
       "      <th>TSH_4</th>\n",
       "      <th>S0015</th>\n",
       "      <td>8.00</td>\n",
       "    </tr>\n",
       "    <tr>\n",
       "      <th rowspan=\"4\" valign=\"top\">2022-01-31</th>\n",
       "      <th rowspan=\"3\" valign=\"top\">BED_2</th>\n",
       "      <th>S0008</th>\n",
       "      <td>23.00</td>\n",
       "    </tr>\n",
       "    <tr>\n",
       "      <th>S0009</th>\n",
       "      <td>23.00</td>\n",
       "    </tr>\n",
       "    <tr>\n",
       "      <th>S0010</th>\n",
       "      <td>69.00</td>\n",
       "    </tr>\n",
       "    <tr>\n",
       "      <th>TSH_4</th>\n",
       "      <th>S0016</th>\n",
       "      <td>8.00</td>\n",
       "    </tr>\n",
       "  </tbody>\n",
       "</table>\n",
       "</div>"
      ],
      "text/plain": [
       "                           PROFIT\n",
       "DATE       PRODUCT SALE_ID       \n",
       "2022-02-04 HOO_5   S0017    10.00\n",
       "           TAB_0   S0000    20.00\n",
       "2022-02-03 HOO_5   S0018    10.00\n",
       "           TAB_0   S0001    20.00\n",
       "           TAB_1   S0004    20.00\n",
       "           TSH_3   S0011     3.00\n",
       "2022-02-02 HOO_5   S0019    10.00\n",
       "           TAB_0   S0002    20.00\n",
       "           TAB_1   S0005    20.00\n",
       "           TSH_3   S0012     3.00\n",
       "           TSH_4   S0014     4.00\n",
       "2022-02-01 BED_2   S0007    23.00\n",
       "           TAB_0   S0003    20.00\n",
       "           TAB_1   S0006    40.00\n",
       "           TSH_3   S0013     3.00\n",
       "           TSH_4   S0015     8.00\n",
       "2022-01-31 BED_2   S0008    23.00\n",
       "                   S0009    23.00\n",
       "                   S0010    69.00\n",
       "           TSH_4   S0016     8.00"
      ]
     },
     "execution_count": 26,
     "metadata": {},
     "output_type": "execute_result"
    }
   ],
   "source": [
    "%%time\n",
    "\n",
    "cube.query(m[\"PROFIT\"], levels=[l[\"DATE\"], l[\"PRODUCT\"], l[\"SALE_ID\"]])"
   ]
  },
  {
   "cell_type": "markdown",
   "id": "fd36b224-ab65-45f0-a2fb-1e44c5fdb1c8",
   "metadata": {},
   "source": [
    "Previously, it took close to `3s` to return the query results. Now, it only takes slightly over `100ms` to return the results (YMMV).  \n",
    "\n",
    "Note that we are querying `PROFIT` and not the measures `m[\"QUANTITY.SUM\"]`, `m[\"PURCHASE_PRICE.SUM\"]` and `m[\"UNIT_PRICE.SUM\"]`. However, `PROFIT` is computed on the fly using the cached data in memory. Therefore, the query speed is improved drastically."
   ]
  },
  {
   "cell_type": "code",
   "execution_count": 27,
   "id": "800e212c-f4ce-4e77-8653-f8afd9b50043",
   "metadata": {
    "tags": []
   },
   "outputs": [
    {
     "name": "stdout",
     "output_type": "stream",
     "text": [
      "CPU times: user 6.3 ms, sys: 1.86 ms, total: 8.16 ms\n",
      "Wall time: 24.1 ms\n"
     ]
    },
    {
     "data": {
      "application/vnd.atoti.convert-mdx-query-result-to-widget.v0+json": {
       "mdx": "SELECT {[Measures].[PROFIT]} ON COLUMNS, NON EMPTY Hierarchize(Descendants({[Atoti Sales].[PRODUCT].[ALL].[AllMember]}, 1, SELF_AND_BEFORE)) ON ROWS FROM [Atoti Sales]",
       "sessionId": "1728930520_039730",
       "widgetCreationCode": "session.widget"
      },
      "text/html": [
       "<div>\n",
       "<style scoped>\n",
       "    .dataframe tbody tr th:only-of-type {\n",
       "        vertical-align: middle;\n",
       "    }\n",
       "\n",
       "    .dataframe tbody tr th {\n",
       "        vertical-align: top;\n",
       "    }\n",
       "\n",
       "    .dataframe thead th {\n",
       "        text-align: right;\n",
       "    }\n",
       "</style>\n",
       "<table border=\"1\" class=\"dataframe\">\n",
       "  <thead>\n",
       "    <tr style=\"text-align: right;\">\n",
       "      <th></th>\n",
       "      <th>PROFIT</th>\n",
       "    </tr>\n",
       "    <tr>\n",
       "      <th>PRODUCT</th>\n",
       "      <th></th>\n",
       "    </tr>\n",
       "  </thead>\n",
       "  <tbody>\n",
       "    <tr>\n",
       "      <th>BED_2</th>\n",
       "      <td>138.00</td>\n",
       "    </tr>\n",
       "    <tr>\n",
       "      <th>HOO_5</th>\n",
       "      <td>30.00</td>\n",
       "    </tr>\n",
       "    <tr>\n",
       "      <th>TAB_0</th>\n",
       "      <td>80.00</td>\n",
       "    </tr>\n",
       "    <tr>\n",
       "      <th>TAB_1</th>\n",
       "      <td>80.00</td>\n",
       "    </tr>\n",
       "    <tr>\n",
       "      <th>TSH_3</th>\n",
       "      <td>9.00</td>\n",
       "    </tr>\n",
       "    <tr>\n",
       "      <th>TSH_4</th>\n",
       "      <td>20.00</td>\n",
       "    </tr>\n",
       "  </tbody>\n",
       "</table>\n",
       "</div>"
      ],
      "text/plain": [
       "         PROFIT\n",
       "PRODUCT        \n",
       "BED_2    138.00\n",
       "HOO_5     30.00\n",
       "TAB_0     80.00\n",
       "TAB_1     80.00\n",
       "TSH_3      9.00\n",
       "TSH_4     20.00"
      ]
     },
     "execution_count": 27,
     "metadata": {},
     "output_type": "execute_result"
    }
   ],
   "source": [
    "%%time\n",
    "\n",
    "cube.query(m[\"PROFIT\"], levels=[l[\"PRODUCT\"]])"
   ]
  },
  {
   "cell_type": "markdown",
   "id": "3776a1f9-c10c-4912-866f-238a3b95fbee",
   "metadata": {},
   "source": [
    "Querying a subset of the aggregate provider levels also returns the result quickly.  \n",
    "\n",
    "The below query on a different level will access data from BigQuery and therefore, is limited by the querying speed of the cloud database and its network connectivity.  "
   ]
  },
  {
   "cell_type": "code",
   "execution_count": 28,
   "id": "08506fb9-16e3-4052-9288-380ecc441021",
   "metadata": {
    "tags": []
   },
   "outputs": [
    {
     "name": "stdout",
     "output_type": "stream",
     "text": [
      "CPU times: user 16.2 ms, sys: 7.64 ms, total: 23.9 ms\n",
      "Wall time: 1.67 s\n"
     ]
    },
    {
     "data": {
      "application/vnd.atoti.convert-mdx-query-result-to-widget.v0+json": {
       "mdx": "SELECT {[Measures].[PROFIT]} ON COLUMNS, NON EMPTY Crossjoin(Hierarchize(Descendants({[Atoti Sales].[DATE].[ALL].[AllMember]}, 1, SELF_AND_BEFORE)), Hierarchize(Descendants({[Atoti Product].[CATEGORY].[ALL].[AllMember]}, 2, SELF_AND_BEFORE))) ON ROWS FROM [Atoti Sales]",
       "sessionId": "1728930520_039730",
       "widgetCreationCode": "session.widget"
      },
      "text/html": [
       "<div>\n",
       "<style scoped>\n",
       "    .dataframe tbody tr th:only-of-type {\n",
       "        vertical-align: middle;\n",
       "    }\n",
       "\n",
       "    .dataframe tbody tr th {\n",
       "        vertical-align: top;\n",
       "    }\n",
       "\n",
       "    .dataframe thead th {\n",
       "        text-align: right;\n",
       "    }\n",
       "</style>\n",
       "<table border=\"1\" class=\"dataframe\">\n",
       "  <thead>\n",
       "    <tr style=\"text-align: right;\">\n",
       "      <th></th>\n",
       "      <th></th>\n",
       "      <th></th>\n",
       "      <th>PROFIT</th>\n",
       "    </tr>\n",
       "    <tr>\n",
       "      <th>DATE</th>\n",
       "      <th>CATEGORY</th>\n",
       "      <th>SUB_CATEGORY</th>\n",
       "      <th></th>\n",
       "    </tr>\n",
       "  </thead>\n",
       "  <tbody>\n",
       "    <tr>\n",
       "      <th rowspan=\"2\" valign=\"top\">2022-02-04</th>\n",
       "      <th>Cloth</th>\n",
       "      <th>Hoodie</th>\n",
       "      <td>10.00</td>\n",
       "    </tr>\n",
       "    <tr>\n",
       "      <th>Furniture</th>\n",
       "      <th>Table</th>\n",
       "      <td>20.00</td>\n",
       "    </tr>\n",
       "    <tr>\n",
       "      <th rowspan=\"3\" valign=\"top\">2022-02-03</th>\n",
       "      <th rowspan=\"2\" valign=\"top\">Cloth</th>\n",
       "      <th>Hoodie</th>\n",
       "      <td>10.00</td>\n",
       "    </tr>\n",
       "    <tr>\n",
       "      <th>Tshirt</th>\n",
       "      <td>3.00</td>\n",
       "    </tr>\n",
       "    <tr>\n",
       "      <th>Furniture</th>\n",
       "      <th>Table</th>\n",
       "      <td>40.00</td>\n",
       "    </tr>\n",
       "    <tr>\n",
       "      <th rowspan=\"3\" valign=\"top\">2022-02-02</th>\n",
       "      <th rowspan=\"2\" valign=\"top\">Cloth</th>\n",
       "      <th>Hoodie</th>\n",
       "      <td>10.00</td>\n",
       "    </tr>\n",
       "    <tr>\n",
       "      <th>Tshirt</th>\n",
       "      <td>7.00</td>\n",
       "    </tr>\n",
       "    <tr>\n",
       "      <th>Furniture</th>\n",
       "      <th>Table</th>\n",
       "      <td>40.00</td>\n",
       "    </tr>\n",
       "    <tr>\n",
       "      <th rowspan=\"3\" valign=\"top\">2022-02-01</th>\n",
       "      <th>Cloth</th>\n",
       "      <th>Tshirt</th>\n",
       "      <td>11.00</td>\n",
       "    </tr>\n",
       "    <tr>\n",
       "      <th rowspan=\"2\" valign=\"top\">Furniture</th>\n",
       "      <th>Bed</th>\n",
       "      <td>23.00</td>\n",
       "    </tr>\n",
       "    <tr>\n",
       "      <th>Table</th>\n",
       "      <td>60.00</td>\n",
       "    </tr>\n",
       "    <tr>\n",
       "      <th rowspan=\"2\" valign=\"top\">2022-01-31</th>\n",
       "      <th>Cloth</th>\n",
       "      <th>Tshirt</th>\n",
       "      <td>8.00</td>\n",
       "    </tr>\n",
       "    <tr>\n",
       "      <th>Furniture</th>\n",
       "      <th>Bed</th>\n",
       "      <td>115.00</td>\n",
       "    </tr>\n",
       "  </tbody>\n",
       "</table>\n",
       "</div>"
      ],
      "text/plain": [
       "                                   PROFIT\n",
       "DATE       CATEGORY  SUB_CATEGORY        \n",
       "2022-02-04 Cloth     Hoodie         10.00\n",
       "           Furniture Table          20.00\n",
       "2022-02-03 Cloth     Hoodie         10.00\n",
       "                     Tshirt          3.00\n",
       "           Furniture Table          40.00\n",
       "2022-02-02 Cloth     Hoodie         10.00\n",
       "                     Tshirt          7.00\n",
       "           Furniture Table          40.00\n",
       "2022-02-01 Cloth     Tshirt         11.00\n",
       "           Furniture Bed            23.00\n",
       "                     Table          60.00\n",
       "2022-01-31 Cloth     Tshirt          8.00\n",
       "           Furniture Bed           115.00"
      ]
     },
     "execution_count": 28,
     "metadata": {},
     "output_type": "execute_result"
    }
   ],
   "source": [
    "%%time\n",
    "\n",
    "cube.query(m[\"PROFIT\"], levels=[l[\"DATE\"], l[\"SUB_CATEGORY\"]])"
   ]
  },
  {
   "cell_type": "markdown",
   "id": "c260f204-8f69-4f99-aefa-3e881c29e4bc",
   "metadata": {},
   "source": [
    "Before we are done with this example, let's create another aggregate provider with a _slice_ of data using `filter`.  \n",
    "\n",
    "Let's first capture the timing of the query without the aggregate provider."
   ]
  },
  {
   "cell_type": "code",
   "execution_count": 29,
   "id": "fe342fd4-1c7f-4995-833d-f3cac15d2aa4",
   "metadata": {},
   "outputs": [
    {
     "name": "stdout",
     "output_type": "stream",
     "text": [
      "CPU times: user 28.6 ms, sys: 6.54 ms, total: 35.1 ms\n",
      "Wall time: 2.04 s\n"
     ]
    },
    {
     "data": {
      "application/vnd.atoti.convert-mdx-query-result-to-widget.v0+json": {
       "mdx": "SELECT {[Measures].[PROFIT]} ON COLUMNS, NON EMPTY Crossjoin(Hierarchize(Descendants({[Atoti Sales].[DATE].[ALL].[AllMember]}, 1, SELF_AND_BEFORE)), Hierarchize(Descendants({[Atoti Product].[CATEGORY].[ALL].[AllMember]}, 2, SELF_AND_BEFORE))) ON ROWS FROM (SELECT [Atoti Sales].[DATE].[ALL].[AllMember].[2022-02-04] ON COLUMNS FROM [Atoti Sales])",
       "sessionId": "1728930520_039730",
       "widgetCreationCode": "session.widget"
      },
      "text/html": [
       "<div>\n",
       "<style scoped>\n",
       "    .dataframe tbody tr th:only-of-type {\n",
       "        vertical-align: middle;\n",
       "    }\n",
       "\n",
       "    .dataframe tbody tr th {\n",
       "        vertical-align: top;\n",
       "    }\n",
       "\n",
       "    .dataframe thead th {\n",
       "        text-align: right;\n",
       "    }\n",
       "</style>\n",
       "<table border=\"1\" class=\"dataframe\">\n",
       "  <thead>\n",
       "    <tr style=\"text-align: right;\">\n",
       "      <th></th>\n",
       "      <th></th>\n",
       "      <th></th>\n",
       "      <th>PROFIT</th>\n",
       "    </tr>\n",
       "    <tr>\n",
       "      <th>DATE</th>\n",
       "      <th>CATEGORY</th>\n",
       "      <th>SUB_CATEGORY</th>\n",
       "      <th></th>\n",
       "    </tr>\n",
       "  </thead>\n",
       "  <tbody>\n",
       "    <tr>\n",
       "      <th rowspan=\"2\" valign=\"top\">2022-02-04</th>\n",
       "      <th>Cloth</th>\n",
       "      <th>Hoodie</th>\n",
       "      <td>10.00</td>\n",
       "    </tr>\n",
       "    <tr>\n",
       "      <th>Furniture</th>\n",
       "      <th>Table</th>\n",
       "      <td>20.00</td>\n",
       "    </tr>\n",
       "  </tbody>\n",
       "</table>\n",
       "</div>"
      ],
      "text/plain": [
       "                                  PROFIT\n",
       "DATE       CATEGORY  SUB_CATEGORY       \n",
       "2022-02-04 Cloth     Hoodie        10.00\n",
       "           Furniture Table         20.00"
      ]
     },
     "execution_count": 29,
     "metadata": {},
     "output_type": "execute_result"
    }
   ],
   "source": [
    "%%time\n",
    "\n",
    "cube.query(\n",
    "    m[\"PROFIT\"],\n",
    "    levels=[l[\"DATE\"], l[\"CATEGORY\"], l[\"SUB_CATEGORY\"]],\n",
    "    filter=(l[\"DATE\"] == \"2022-02-04\"),\n",
    ")"
   ]
  },
  {
   "cell_type": "code",
   "execution_count": 30,
   "id": "b240a857-71f6-4344-8967-570013c0ac98",
   "metadata": {
    "tags": []
   },
   "outputs": [],
   "source": [
    "from datetime import date\n",
    "\n",
    "current_date = date(2022, 2, 4)"
   ]
  },
  {
   "cell_type": "markdown",
   "id": "9526ed6a-2c74-4ab5-935e-51899123340c",
   "metadata": {},
   "source": [
    "In the event where users are interested in a particular member of level, e.g. the current date or a particular shop, and the amount of querying on this member is huge, then it makes sense to cache them in memory.  \n",
    "\n",
    "In this case, we apply filter just for the interested member. This helps to control the amount of data held in memory."
   ]
  },
  {
   "cell_type": "code",
   "execution_count": 31,
   "id": "17ae6441-66db-4038-bfee-28df3b2c576e",
   "metadata": {},
   "outputs": [],
   "source": [
    "cube.aggregate_providers.update(\n",
    "    {\n",
    "        \"Category provider\": tt.AggregateProvider(\n",
    "            key=\"bitmap\",\n",
    "            levels=[l[\"DATE\"], l[\"CATEGORY\"], l[\"SUB_CATEGORY\"]],\n",
    "            measures=[m[\"QUANTITY.SUM\"], m[\"PURCHASE_PRICE.SUM\"], m[\"UNIT_PRICE.SUM\"]],\n",
    "            filter=(l[\"DATE\"] == current_date),\n",
    "        )\n",
    "    }\n",
    ")"
   ]
  },
  {
   "cell_type": "code",
   "execution_count": 32,
   "id": "adc253db-cebe-49a2-a8ae-2f9630d5338d",
   "metadata": {
    "tags": []
   },
   "outputs": [
    {
     "name": "stdout",
     "output_type": "stream",
     "text": [
      "CPU times: user 23.2 ms, sys: 4.55 ms, total: 27.7 ms\n",
      "Wall time: 1.39 s\n"
     ]
    },
    {
     "data": {
      "application/vnd.atoti.convert-mdx-query-result-to-widget.v0+json": {
       "mdx": "SELECT {[Measures].[PROFIT]} ON COLUMNS, NON EMPTY Crossjoin(Hierarchize(Descendants({[Atoti Sales].[DATE].[ALL].[AllMember]}, 1, SELF_AND_BEFORE)), Hierarchize(Descendants({[Atoti Product].[CATEGORY].[ALL].[AllMember]}, 2, SELF_AND_BEFORE))) ON ROWS FROM (SELECT [Atoti Sales].[DATE].[ALL].[AllMember].[2022-02-04] ON COLUMNS FROM [Atoti Sales])",
       "sessionId": "1728930520_039730",
       "widgetCreationCode": "session.widget"
      },
      "text/html": [
       "<div>\n",
       "<style scoped>\n",
       "    .dataframe tbody tr th:only-of-type {\n",
       "        vertical-align: middle;\n",
       "    }\n",
       "\n",
       "    .dataframe tbody tr th {\n",
       "        vertical-align: top;\n",
       "    }\n",
       "\n",
       "    .dataframe thead th {\n",
       "        text-align: right;\n",
       "    }\n",
       "</style>\n",
       "<table border=\"1\" class=\"dataframe\">\n",
       "  <thead>\n",
       "    <tr style=\"text-align: right;\">\n",
       "      <th></th>\n",
       "      <th></th>\n",
       "      <th></th>\n",
       "      <th>PROFIT</th>\n",
       "    </tr>\n",
       "    <tr>\n",
       "      <th>DATE</th>\n",
       "      <th>CATEGORY</th>\n",
       "      <th>SUB_CATEGORY</th>\n",
       "      <th></th>\n",
       "    </tr>\n",
       "  </thead>\n",
       "  <tbody>\n",
       "    <tr>\n",
       "      <th rowspan=\"2\" valign=\"top\">2022-02-04</th>\n",
       "      <th>Cloth</th>\n",
       "      <th>Hoodie</th>\n",
       "      <td>10.00</td>\n",
       "    </tr>\n",
       "    <tr>\n",
       "      <th>Furniture</th>\n",
       "      <th>Table</th>\n",
       "      <td>20.00</td>\n",
       "    </tr>\n",
       "  </tbody>\n",
       "</table>\n",
       "</div>"
      ],
      "text/plain": [
       "                                  PROFIT\n",
       "DATE       CATEGORY  SUB_CATEGORY       \n",
       "2022-02-04 Cloth     Hoodie        10.00\n",
       "           Furniture Table         20.00"
      ]
     },
     "execution_count": 32,
     "metadata": {},
     "output_type": "execute_result"
    }
   ],
   "source": [
    "%%time\n",
    "\n",
    "cube.query(\n",
    "    m[\"PROFIT\"],\n",
    "    levels=[l[\"DATE\"], l[\"CATEGORY\"], l[\"SUB_CATEGORY\"]],\n",
    "    filter=(l[\"DATE\"] == \"2022-02-04\"),\n",
    ")"
   ]
  },
  {
   "cell_type": "markdown",
   "id": "4b392590-0e19-4d03-84db-853028977e8b",
   "metadata": {},
   "source": [
    "## Balance between Cost and Performance"
   ]
  },
  {
   "cell_type": "markdown",
   "id": "1f44c57a-00ad-44eb-9195-ed0b0a808a62",
   "metadata": {},
   "source": [
    "All in all, Atoti's DirectQuery offers users a way to balance between cost and performance:\n",
    "\n",
    "* For data that is less queried, it resides on the cloud database and gets queried on-demand.\n",
    "* For data that is more frequently queried, we can cache it in memory and reduce the number of queries to the cloud database, thereby improving performance.  \n",
    "\n",
    "<img src=\"https://data.atoti.io/notebooks/direct-query/img/aggregate_cache.png\" />  \n",
    "\n",
    "💡 **Note:** To find out more, reach out to [ActiveViam](https://activeviam.com/contact-us/?utm_source=github&utm_medium=atoti) for a demonstration."
   ]
  },
  {
   "cell_type": "markdown",
   "id": "455e3f95-0a8c-48bf-b793-69d5fe2f2083",
   "metadata": {},
   "source": [
    "<div style=\"text-align: center;\" ><a href=\"https://www.atoti.io/?utm_source=gallery&utm_content=directquery-intro\" target=\"_blank\" rel=\"noopener noreferrer\"><img src=\"https://data.atoti.io/notebooks/banners/Your-turn-to-try-Atoti.jpg\" alt=\"Try Atoti\"></a></div>"
   ]
  }
 ],
 "metadata": {
  "kernelspec": {
   "display_name": "Python 3 (ipykernel)",
   "language": "python",
   "name": "python3"
  },
  "language_info": {
   "codemirror_mode": {
    "name": "ipython",
    "version": 3
   },
   "file_extension": ".py",
   "mimetype": "text/x-python",
   "name": "python",
   "nbconvert_exporter": "python",
   "pygments_lexer": "ipython3",
   "version": "3.10.15"
  },
  "widgets": {
   "application/vnd.jupyter.widget-state+json": {
    "state": {},
    "version_major": 2,
    "version_minor": 0
   }
  }
 },
 "nbformat": 4,
 "nbformat_minor": 5
}
