{
 "cells": [
  {
   "cell_type": "markdown",
   "id": "ac3fbb12-82a8-4e9f-aa4e-e1ad414ce283",
   "metadata": {},
   "source": [
    "# DirectQuery: Combining Atoti and Data Warehouses"
   ]
  },
  {
   "cell_type": "markdown",
   "id": "a671e16d-c06b-432f-92c6-5b2d2f7043bd",
   "metadata": {},
   "source": [
    "We know Atoti provides in-memory analytics for big data. This means that we hold data in memory and perform aggregation on the fly in order to achieve fast and dynamic computations. In our usual Atoti setup, the hosting server requires a memory size that's about 1.5 times of the amount of data that gets loaded into the cube. However, with Atoti's DirectQuery, we can better support our users who store their data on the cloud! In fact, it applies for on-premise databases such as [ClickHouse](https://clickhouse.com/clickhouse) and [Microsoft SQL Server](https://www.microsoft.com/en-sg/sql-server/sql-server-downloads) too.  \n",
    "\n",
    "<img src=\"https://data.atoti.io/notebooks/direct-query/img/cost_vs_performance.png\" width=\"850px\"/>\n",
    "\n",
    "In a gist, here's what DirectQuery offers:  \n",
    "\n",
    "- Scalability\n",
    "\n",
    "> Leveraging the scalability of cloud data warehouse, the server that hosts Atoti only has to take into consideration the amount of data that gets queried on a daily basis.  \n",
    "> Instead of storing all of the data in physical memory, DirectQuery enables us to query the Cloud database directly, reducing the need for memory in the hosting server.  \n",
    "\n",
    "- Cost savings\n",
    "\n",
    "> Other than saving on the memory required for the hosting server, DirectQuery helps to save on the data transfer costs.  \n",
    "> While cloud data warehouse is cost-effective, we incur costs when we perform queries.  \n",
    "> We can reduce querying to the Cloud database by loading an aggregated cache in memory for the most frequently queried data.  \n",
    "\n",
    "- Technology agnosticism\n",
    "\n",
    "> With changes to only a few lines of data connectivity code in Atoti, we can easily switch from one Cloud service provider to another without impacting the Atoti server.  \n",
    "> We can even switch over to other data connectors such as physical files.  \n",
    "\n",
    "\n",
    "This notebook provides a quick introduction to how we can connect to Google BigQuery and create an Atoti cube."
   ]
  },
  {
   "cell_type": "markdown",
   "id": "f23aeb88-5455-44ee-892d-4aa7fc2dbfb7",
   "metadata": {},
   "source": [
    "<div style=\"text-align: center;\" ><a href=\"https://www.atoti.io/?utm_source=gallery&utm_content=directquery-intro\" target=\"_blank\" rel=\"noopener noreferrer\"><img src=\"https://data.atoti.io/notebooks/banners/Discover-Atoti-now.png\" alt=\"Try Atoti\"></a></div>"
   ]
  },
  {
   "cell_type": "markdown",
   "id": "663b2051-11e1-4815-8a2c-fde3d450d07b",
   "metadata": {},
   "source": [
    "## Google BigQuery configuration"
   ]
  },
  {
   "cell_type": "markdown",
   "id": "1db76b03-dbe0-4223-a656-8b7e9e2ff260",
   "metadata": {},
   "source": [
    "### Step 1 — Create role with permissions\n",
    "\n",
    "- Login to Google Cloud console.\n",
    "- Navigate to __IAM & Admin__ > __Roles__.  \n",
    "- Create a role with the following permission for the DirectQuery users:  \n",
    "    - `bigquery.datasets.get`\n",
    "    - `bigquery.jobs.create`\n",
    "    - `bigquery.readsessions.create`\n",
    "    - `bigquery.readsessions.getData`\n",
    "    - `bigquery.readsessions.update`\n",
    "    - `bigquery.routines.get`\n",
    "    - `bigquery.tables.get`\n",
    "    - `bigquery.tables.getData`\n",
    "    - `bigquery.tables.list`\n",
    "\n",
    "⚠️ **Important:** Having trouble pulling your data after setting up your account? Confirm that the above permissions have been set up properly!  \n",
    "\n",
    "<img src=\"https://data.atoti.io/notebooks/direct-query/img/bigquery_permission.png\" />\n",
    "\n",
    "💡 **Note:** For more details, refer to the [Atoti Server documentation](https://docs.activeviam.com/products/atoti/server/latest/docs/directquery/connect_to_external/connect_to_bigquery/)."
   ]
  },
  {
   "cell_type": "markdown",
   "id": "2143280e-d2b0-4da1-b20d-78af65d26753",
   "metadata": {},
   "source": [
    "### Step 2 — Create Service Account\n",
    "\n",
    "* Under **IAM & Admin**, navigate to **Service Accounts**.\n",
    "* Create a service account and assign the role created in Step 1.\n",
    "\n",
    "    <img src=\"https://data.atoti.io/notebooks/direct-query/img/service_account.png\" width=\"700px\"/>  "
   ]
  },
  {
   "cell_type": "markdown",
   "id": "03e75ceb-055a-4986-aa8d-6858422b260a",
   "metadata": {
    "tags": []
   },
   "source": [
    "### Step 3 — Generate API Key \n",
    "\n",
    "- Navigate to the __KEYS__ tab and generate a new key.  \n",
    "\n",
    "    <img src=\"https://data.atoti.io/notebooks/direct-query/img/create_key.png\" />  \n",
    "\n",
    "- Select `JSON` as key type and save the downloaded key to a server folder:  \n",
    "\n",
    "    <img src=\"https://data.atoti.io/notebooks/direct-query/img/json_key.png\" />\n",
    "\n",
    "- Configure environment variable pointing to the JSON key. In this use case, our environment variable is `DQ_GOOGLE_CREDENTIAL`:  \n",
    "\n",
    "    <img src=\"https://data.atoti.io/notebooks/direct-query/img/environment_variable.png\" />  \n",
    "\n",
    "💡 **Note:** Alternatively, we can set up [Application Default Credentials](https://cloud.google.com/docs/authentication/provide-credentials-adc) for authentication.  "
   ]
  },
  {
   "cell_type": "markdown",
   "id": "95e30413-d630-4b1b-a304-d824e9649c3d",
   "metadata": {},
   "source": [
    "## Database set up  \n",
    "\n",
    "To try out this notebook, you can setup the database schema and tables using the [database script](db_schema.sql) in the use case folder.  "
   ]
  },
  {
   "cell_type": "markdown",
   "id": "fcfd6d72-801a-460c-9e1f-4e0843909442",
   "metadata": {},
   "source": [
    "## Atoti Setup"
   ]
  },
  {
   "cell_type": "markdown",
   "id": "8857ebb1-032f-4b69-84e6-b8cf7e431def",
   "metadata": {},
   "source": [
    "We import [Atoti](https://docs.atoti.io/latest/getting_started/installation.html) library and create the [Atoti Session](https://docs.atoti.io/latest/api/atoti.Session.html#atoti.Session) as we always do.  "
   ]
  },
  {
   "cell_type": "code",
   "execution_count": 1,
   "id": "7d97f0ea-5b39-4c60-9a10-1cae5a22616d",
   "metadata": {
    "tags": []
   },
   "outputs": [],
   "source": [
    "import os\n",
    "import atoti as tt"
   ]
  },
  {
   "cell_type": "code",
   "execution_count": 2,
   "id": "3898f076-a031-49b7-a75f-074008d89a26",
   "metadata": {
    "tags": []
   },
   "outputs": [],
   "source": [
    "session = tt.Session.start()"
   ]
  },
  {
   "cell_type": "markdown",
   "id": "9e855ec8-18bb-46fa-8e99-751edafeb94c",
   "metadata": {},
   "source": [
    "## DirectQuery Prerequisites"
   ]
  },
  {
   "cell_type": "markdown",
   "id": "01a8923b-80b3-4bfd-86a0-2d705d4bb805",
   "metadata": {},
   "source": [
    "DirectQuery supports a few [databases](https://docs.atoti.io/latest/reference.html#directquery). For each of these databases, we have to install its respective Python plugin.  \n",
    "- `atoti-directquery-bigquery` : To use DirectQuery on Google BigQuery.\n",
    "- `atoti-directquery-clickhouse` : To use DirectQuery with ClickHouse.\n",
    "- `atoti-directquery-databricks` : To use DirectQuery on Databricks.\n",
    "- `atoti-directquery-mssql` : To use DirectQuery with Microsoft SQL Server.\n",
    "- `atoti-directquery-redshift` : To use DirectQuery on Amazon Redshift.\n",
    "- `atoti-directquery-snowflake` : To use DirectQuery on Snowflake.\n",
    "- `atoti-directquery-synapse` : To use DirectQuery on Azure Synapse Analytics.  \n",
    "\n",
    "In our example, we install the plugin for Google BigQuery. Uncomment the below line to install the plugin if it isn't installed.  \n",
    "\n",
    "⚠️ **Important:** We only support one type of database connection per Atoti session."
   ]
  },
  {
   "cell_type": "code",
   "execution_count": 3,
   "id": "af8780d7-ec54-481a-98d7-4cc9f7e030c1",
   "metadata": {
    "tags": []
   },
   "outputs": [],
   "source": [
    "# !uv pip install \"atoti[directquery-bigquery]\""
   ]
  },
  {
   "cell_type": "markdown",
   "id": "1d997a63-e2db-48f9-b501-0532c5eabb3d",
   "metadata": {},
   "source": [
    "We will be using two components from the DirectQueryPlugin:\n",
    "- [BigqueryConnectionInfo](https://docs.atoti.io/latest/api/atoti_directquery_bigquery.BigqueryConnectionInfo.html#atoti_directquery_bigquery.BigqueryConnectionInfo): Configure the connection information to BigQuery.\n",
    "- [BigqueryTableOptions](https://docs.atoti.io/latest/api/atoti_directquery_bigquery.BigqueryTableOptions.html#atoti_directquery_bigquery.BigqueryTableOptions): Configure the table options about the external table to create in Atoti.  \n",
    "\n",
    "⚠️ **Important:** Use the corresponding components for different databases if we are using a different one from BigQuery. E.g. we use [`ClickhouseConnectionInfo`](https://docs.atoti.io/latest/api/atoti_directquery_clickhouse.ClickhouseConnectionInfo.html#atoti_directquery_clickhouse.ClickhouseConnectionInfo) and [`ClickhouseTableOptions`](https://docs.atoti.io/latest/api/atoti_directquery_clickhouse.ClickhouseTableOptions.html#atoti_directquery_clickhouse.ClickhouseTableOptions) if we are connecting to [ClickHouse](https://clickhouse.com/)."
   ]
  },
  {
   "cell_type": "markdown",
   "id": "4509d71b-4d1b-4297-b18a-10430b128507",
   "metadata": {},
   "source": [
    "## Connection setup to Google BigQuery"
   ]
  },
  {
   "cell_type": "code",
   "execution_count": 4,
   "id": "f5eb2f90-be60-4332-80d2-1a5cd83147d4",
   "metadata": {
    "tags": []
   },
   "outputs": [],
   "source": [
    "from atoti_directquery_bigquery import ConnectionConfig"
   ]
  },
  {
   "cell_type": "markdown",
   "id": "00b90385-93af-479f-888a-bc0677f73eb2",
   "metadata": {},
   "source": [
    "In the below snippet, we use the environment variable to obtain the path to the [API key generated previous in Step 3](#Step-3-—-Generate-API-Key). Setting the credential path into `BigqueryConnectionInfo`, we can invoke the connection to the external database.  "
   ]
  },
  {
   "cell_type": "code",
   "execution_count": 5,
   "id": "ea50d105-284f-4296-b654-b5465037d634",
   "metadata": {
    "tags": []
   },
   "outputs": [],
   "source": [
    "credential = os.environ[\"DQ_GOOGLE_CREDENTIAL\"]\n",
    "connection_info = ConnectionConfig(credentials=credential)\n",
    "\n",
    "external_database = session.connect_to_external_database(connection_info)"
   ]
  },
  {
   "cell_type": "markdown",
   "id": "8e7f4c10-5dc6-4c53-aeea-ef4864471caf",
   "metadata": {},
   "source": [
    "### Discover External Tables"
   ]
  },
  {
   "cell_type": "markdown",
   "id": "51f3c2ee-c57b-49df-9756-60c96d9b0734",
   "metadata": {
    "tags": []
   },
   "source": [
    "Once connected, we can discover the tables available to us from the external database."
   ]
  },
  {
   "cell_type": "code",
   "execution_count": 6,
   "id": "5e85bd6f-dd6a-4ab8-a2f2-51d7759466de",
   "metadata": {
    "tags": []
   },
   "outputs": [
    {
     "data": {
      "application/json": {
       "bd-project-386413": {
        "tutorial": [
         "PRODUCTS",
         "SALES"
        ],
        "var_demo": [
         "BOOKS",
         "TRADE_PNLS"
        ]
       }
      },
      "text/html": [
       "<ul>\n",
       "<li>BIGQUERY\n",
       "  <ul>\n",
       "  <li>bd-project-386413\n",
       "    <ul>\n",
       "    <li>tutorial\n",
       "      <ol>\n",
       "      <li>PRODUCTS</li>\n",
       "      <li>SALES</li>\n",
       "      </ol>    </li>\n",
       "    <li>var_demo\n",
       "      <ol>\n",
       "      <li>BOOKS</li>\n",
       "      <li>TRADE_PNLS</li>\n",
       "      </ol>    </li>\n",
       "    </ul>\n",
       "  </li>\n",
       "  </ul>\n",
       "</li>\n",
       "</ul>\n"
      ],
      "text/plain": [
       "<atoti.directquery.external_tables.ExternalTables at 0x1221280a0>"
      ]
     },
     "execution_count": 6,
     "metadata": {
      "application/json": {
       "expanded": false,
       "root": "BIGQUERY"
      }
     },
     "output_type": "execute_result"
    }
   ],
   "source": [
    "external_database.tables"
   ]
  },
  {
   "cell_type": "markdown",
   "id": "4187eaef-cae3-44ca-80c1-dd952dd3faab",
   "metadata": {},
   "source": [
    "If the database has many schemas, we can perform a filter to access only the schema that we want."
   ]
  },
  {
   "cell_type": "code",
   "execution_count": 7,
   "id": "63c5fafe-05e1-429e-8f35-9f3f072e34f7",
   "metadata": {
    "tags": []
   },
   "outputs": [
    {
     "data": {
      "application/json": {
       "bd-project-386413": {
        "tutorial": [
         "PRODUCTS",
         "SALES"
        ]
       }
      },
      "text/html": [
       "<ul>\n",
       "<li>BIGQUERY\n",
       "  <ul>\n",
       "  <li>bd-project-386413\n",
       "    <ul>\n",
       "    <li>tutorial\n",
       "      <ol>\n",
       "      <li>PRODUCTS</li>\n",
       "      <li>SALES</li>\n",
       "      </ol>    </li>\n",
       "    </ul>\n",
       "  </li>\n",
       "  </ul>\n",
       "</li>\n",
       "</ul>\n"
      ],
      "text/plain": [
       "<atoti.directquery.external_tables.ExternalTables at 0x1221281c0>"
      ]
     },
     "execution_count": 7,
     "metadata": {
      "application/json": {
       "expanded": false,
       "root": "BIGQUERY"
      }
     },
     "output_type": "execute_result"
    }
   ],
   "source": [
    "external_database.tables._filter(schema_name=\"tutorial\")"
   ]
  },
  {
   "cell_type": "markdown",
   "id": "f1308a2c-a4d2-40e5-9985-7013fa05a9fb",
   "metadata": {},
   "source": [
    "### Discover Table Columns"
   ]
  },
  {
   "cell_type": "markdown",
   "id": "e72119a9-ed38-4d83-a8a5-1fe021b48e5c",
   "metadata": {},
   "source": [
    "If a table name is unique in the database, we can check its structure directly using its name:  "
   ]
  },
  {
   "cell_type": "code",
   "execution_count": 8,
   "id": "f91519b6-a36b-4f0c-b1f0-949b0be22d5f",
   "metadata": {
    "tags": []
   },
   "outputs": [
    {
     "data": {
      "application/json": {
       "DATE": "LocalDate",
       "PRODUCT": "String",
       "QUANTITY": "long",
       "SALE_ID": "String",
       "SHOP": "String",
       "UNIT_PRICE": "double"
      },
      "text/html": [
       "<ul>\n",
       "<li>SALES\n",
       "  <ul>\n",
       "  <li>SALE_ID: String</li>\n",
       "  <li>DATE: LocalDate</li>\n",
       "  <li>SHOP: String</li>\n",
       "  <li>PRODUCT: String</li>\n",
       "  <li>QUANTITY: long</li>\n",
       "  <li>UNIT_PRICE: double</li>\n",
       "  </ul>\n",
       "</li>\n",
       "</ul>\n"
      ],
      "text/plain": [
       "<atoti.directquery.external_table.ExternalTable at 0x12212b010>"
      ]
     },
     "execution_count": 8,
     "metadata": {
      "application/json": {
       "expanded": true,
       "root": "SALES"
      }
     },
     "output_type": "execute_result"
    }
   ],
   "source": [
    "external_database.tables[\"SALES\"]"
   ]
  },
  {
   "cell_type": "markdown",
   "id": "1d9ef3fb-85a5-472b-aa12-8a88e3d1e6d9",
   "metadata": {},
   "source": [
    "However, to be precise, it is a good practice to refer to the table using its database, schema and table names. Uncomment and execute the following cells as to try this out."
   ]
  },
  {
   "cell_type": "code",
   "execution_count": 9,
   "id": "247c876c-2b44-4b0f-8bcf-8864350bb3d6",
   "metadata": {
    "tags": []
   },
   "outputs": [],
   "source": [
    "# db_name = \"<database name here>\"\n",
    "# db_schema = \"tutorial\"\n",
    "# table_sales = \"SALES\""
   ]
  },
  {
   "cell_type": "code",
   "execution_count": 10,
   "id": "fbfde589-b458-474d-8665-af7b016598bc",
   "metadata": {
    "tags": []
   },
   "outputs": [],
   "source": [
    "# external_database.tables[db_name, db_schema, table_sales]"
   ]
  },
  {
   "cell_type": "markdown",
   "id": "85d14ebe-eb8a-4216-8564-8330b4b7b0d9",
   "metadata": {},
   "source": [
    "## Add External Table to Atoti"
   ]
  },
  {
   "cell_type": "markdown",
   "id": "8fa1b581-ee16-4730-8ea2-b29fa14ee03a",
   "metadata": {},
   "source": [
    "Since we have connected to the external database and we are able to see its structure, we can add the required tables to the Atoti session.  \n",
    "\n",
    "Using [BigqueryTableOptions](https://docs.atoti.io/latest/api/atoti_directquery_bigquery.BigqueryTableOptions.html#atoti_directquery_bigquery.BigqueryTableOptions), we can define additional options to the table that we will create in Atoti:\n",
    "\n",
    "- `array_conversion`: Converting values spread over multiple columns into array columns.\n",
    "- `clustering_columns`: Columns used for splitting up queries.\n",
    "- `keys`: Keys used to identify unique rows for updating of data.\n",
    "\n",
    "We will only use `keys` and `clustering_columns` in our example."
   ]
  },
  {
   "cell_type": "code",
   "execution_count": 11,
   "id": "7dab34b4-ca6f-4c80-8ba9-f8534f9eae5b",
   "metadata": {
    "tags": []
   },
   "outputs": [],
   "source": [
    "from atoti_directquery_bigquery import TableConfig"
   ]
  },
  {
   "cell_type": "markdown",
   "id": "790b7a07-c762-438a-878e-de3611f39b5c",
   "metadata": {},
   "source": [
    "Similar to how we create keys for Atoti tables, we set the key columns in the `BigqueryTableOptions`. Note that this external table is created in Atoti and the defined keys affects only the data that is accessible in Atoti. It does not change the tables in BigQuery.  \n",
    "\n",
    "To distinguish our Atoti external table from the BigQuery table, we named them differently in our example.  "
   ]
  },
  {
   "cell_type": "code",
   "execution_count": 12,
   "id": "a580d644-94e0-4772-ac94-a9600bc08546",
   "metadata": {
    "tags": []
   },
   "outputs": [],
   "source": [
    "sales_table = session.add_external_table(\n",
    "    external_database.tables[\"SALES\"],\n",
    "    table_name=\"Atoti Sales\",\n",
    "    config=TableConfig(keys=[\"SALE_ID\"], clustering_columns={\"DATE\", \"PRODUCT\"}),\n",
    ")"
   ]
  },
  {
   "cell_type": "markdown",
   "id": "ac9b4de4-60f9-45d9-8b87-e7d0452714ee",
   "metadata": {},
   "source": [
    "To speed up querying, Atoti makes use of [aggregate providers](https://docs.atoti.io/latest/api/atoti.AggregateProvider.html#atoti.AggregateProvider) to pre-aggregates some table columns up to certain levels. Feeding such providers from an external database can result in very large queries to be run on the database. Some databases can have trouble processing such large queries. Therefore, we define [clustering columns](https://docs.activeviam.com/products/atoti/server/latest/docs/directquery/directquery-clustering-fields/) to help split up queries made by DirectQuery to these external database when feeding the aggregate providers.  \n",
    "\n",
    "The `clustering_columns` parameter allows us to define columns to be used for clustering. While our example uses a small dataset and clustering column is not necessary, we demonstrate how it can be used in the snippet above.  "
   ]
  },
  {
   "cell_type": "code",
   "execution_count": 13,
   "id": "561e7c19-28cc-4796-918b-24de800147a7",
   "metadata": {
    "tags": []
   },
   "outputs": [
    {
     "data": {
      "text/html": [
       "<div>\n",
       "<style scoped>\n",
       "    .dataframe tbody tr th:only-of-type {\n",
       "        vertical-align: middle;\n",
       "    }\n",
       "\n",
       "    .dataframe tbody tr th {\n",
       "        vertical-align: top;\n",
       "    }\n",
       "\n",
       "    .dataframe thead th {\n",
       "        text-align: right;\n",
       "    }\n",
       "</style>\n",
       "<table border=\"1\" class=\"dataframe\">\n",
       "  <thead>\n",
       "    <tr style=\"text-align: right;\">\n",
       "      <th></th>\n",
       "      <th>DATE</th>\n",
       "      <th>SHOP</th>\n",
       "      <th>PRODUCT</th>\n",
       "      <th>QUANTITY</th>\n",
       "      <th>UNIT_PRICE</th>\n",
       "    </tr>\n",
       "    <tr>\n",
       "      <th>SALE_ID</th>\n",
       "      <th></th>\n",
       "      <th></th>\n",
       "      <th></th>\n",
       "      <th></th>\n",
       "      <th></th>\n",
       "    </tr>\n",
       "  </thead>\n",
       "  <tbody>\n",
       "    <tr>\n",
       "      <th>S0010</th>\n",
       "      <td>2022-01-31</td>\n",
       "      <td>shop_2</td>\n",
       "      <td>BED_2</td>\n",
       "      <td>3</td>\n",
       "      <td>150.0</td>\n",
       "    </tr>\n",
       "    <tr>\n",
       "      <th>S0007</th>\n",
       "      <td>2022-02-01</td>\n",
       "      <td>shop_5</td>\n",
       "      <td>BED_2</td>\n",
       "      <td>1</td>\n",
       "      <td>150.0</td>\n",
       "    </tr>\n",
       "    <tr>\n",
       "      <th>S0008</th>\n",
       "      <td>2022-01-31</td>\n",
       "      <td>shop_4</td>\n",
       "      <td>BED_2</td>\n",
       "      <td>1</td>\n",
       "      <td>150.0</td>\n",
       "    </tr>\n",
       "    <tr>\n",
       "      <th>S0009</th>\n",
       "      <td>2022-01-31</td>\n",
       "      <td>shop_3</td>\n",
       "      <td>BED_2</td>\n",
       "      <td>1</td>\n",
       "      <td>150.0</td>\n",
       "    </tr>\n",
       "    <tr>\n",
       "      <th>S0019</th>\n",
       "      <td>2022-02-02</td>\n",
       "      <td>shop_3</td>\n",
       "      <td>HOO_5</td>\n",
       "      <td>1</td>\n",
       "      <td>48.0</td>\n",
       "    </tr>\n",
       "  </tbody>\n",
       "</table>\n",
       "</div>"
      ],
      "text/plain": [
       "              DATE    SHOP PRODUCT  QUANTITY  UNIT_PRICE\n",
       "SALE_ID                                                 \n",
       "S0010   2022-01-31  shop_2   BED_2         3       150.0\n",
       "S0007   2022-02-01  shop_5   BED_2         1       150.0\n",
       "S0008   2022-01-31  shop_4   BED_2         1       150.0\n",
       "S0009   2022-01-31  shop_3   BED_2         1       150.0\n",
       "S0019   2022-02-02  shop_3   HOO_5         1        48.0"
      ]
     },
     "execution_count": 13,
     "metadata": {},
     "output_type": "execute_result"
    }
   ],
   "source": [
    "sales_table.head()"
   ]
  },
  {
   "cell_type": "markdown",
   "id": "dc44214e-743e-4937-9269-61498986355b",
   "metadata": {},
   "source": [
    "We can add multiple tables."
   ]
  },
  {
   "cell_type": "code",
   "execution_count": 14,
   "id": "f282f67a-dfa9-4ba1-aef7-779ec734fe50",
   "metadata": {
    "tags": []
   },
   "outputs": [
    {
     "data": {
      "text/html": [
       "<div>\n",
       "<style scoped>\n",
       "    .dataframe tbody tr th:only-of-type {\n",
       "        vertical-align: middle;\n",
       "    }\n",
       "\n",
       "    .dataframe tbody tr th {\n",
       "        vertical-align: top;\n",
       "    }\n",
       "\n",
       "    .dataframe thead th {\n",
       "        text-align: right;\n",
       "    }\n",
       "</style>\n",
       "<table border=\"1\" class=\"dataframe\">\n",
       "  <thead>\n",
       "    <tr style=\"text-align: right;\">\n",
       "      <th></th>\n",
       "      <th>CATEGORY</th>\n",
       "      <th>SUB_CATEGORY</th>\n",
       "      <th>SIZE</th>\n",
       "      <th>PURCHASE_PRICE</th>\n",
       "      <th>COLOR</th>\n",
       "      <th>BRAND</th>\n",
       "    </tr>\n",
       "    <tr>\n",
       "      <th>PRODUCT_ID</th>\n",
       "      <th></th>\n",
       "      <th></th>\n",
       "      <th></th>\n",
       "      <th></th>\n",
       "      <th></th>\n",
       "      <th></th>\n",
       "    </tr>\n",
       "  </thead>\n",
       "  <tbody>\n",
       "    <tr>\n",
       "      <th>BED_2</th>\n",
       "      <td>Furniture</td>\n",
       "      <td>Bed</td>\n",
       "      <td>Single</td>\n",
       "      <td>127.0</td>\n",
       "      <td>red</td>\n",
       "      <td>Mega</td>\n",
       "    </tr>\n",
       "    <tr>\n",
       "      <th>TAB_1</th>\n",
       "      <td>Furniture</td>\n",
       "      <td>Table</td>\n",
       "      <td>2m40</td>\n",
       "      <td>280.0</td>\n",
       "      <td>white</td>\n",
       "      <td>Mega</td>\n",
       "    </tr>\n",
       "    <tr>\n",
       "      <th>TAB_0</th>\n",
       "      <td>Furniture</td>\n",
       "      <td>Table</td>\n",
       "      <td>1m80</td>\n",
       "      <td>190.0</td>\n",
       "      <td>black</td>\n",
       "      <td>Basic</td>\n",
       "    </tr>\n",
       "    <tr>\n",
       "      <th>HOO_5</th>\n",
       "      <td>Cloth</td>\n",
       "      <td>Hoodie</td>\n",
       "      <td>M</td>\n",
       "      <td>38.0</td>\n",
       "      <td>red</td>\n",
       "      <td>Mega</td>\n",
       "    </tr>\n",
       "    <tr>\n",
       "      <th>TSH_3</th>\n",
       "      <td>Cloth</td>\n",
       "      <td>Tshirt</td>\n",
       "      <td>M</td>\n",
       "      <td>19.0</td>\n",
       "      <td>brown</td>\n",
       "      <td>Over</td>\n",
       "    </tr>\n",
       "  </tbody>\n",
       "</table>\n",
       "</div>"
      ],
      "text/plain": [
       "             CATEGORY SUB_CATEGORY    SIZE  PURCHASE_PRICE  COLOR  BRAND\n",
       "PRODUCT_ID                                                              \n",
       "BED_2       Furniture          Bed  Single           127.0    red   Mega\n",
       "TAB_1       Furniture        Table    2m40           280.0  white   Mega\n",
       "TAB_0       Furniture        Table    1m80           190.0  black  Basic\n",
       "HOO_5           Cloth       Hoodie       M            38.0    red   Mega\n",
       "TSH_3           Cloth       Tshirt       M            19.0  brown   Over"
      ]
     },
     "execution_count": 14,
     "metadata": {},
     "output_type": "execute_result"
    }
   ],
   "source": [
    "products_table = session.add_external_table(\n",
    "    external_database.tables[\"PRODUCTS\"],\n",
    "    table_name=\"Atoti Product\",\n",
    "    config=TableConfig(keys=[\"PRODUCT_ID\"]),\n",
    ")\n",
    "\n",
    "products_table.head()"
   ]
  },
  {
   "cell_type": "markdown",
   "id": "57349699-117a-4cf9-bb95-5910f18d5187",
   "metadata": {},
   "source": [
    "Once we have created our external tables, the rest is _simply the usual stuff for Atoti_."
   ]
  },
  {
   "cell_type": "markdown",
   "id": "564a8bad-9c60-4c7a-b94e-918b5112cfdb",
   "metadata": {
    "tags": []
   },
   "source": [
    "## Atoti Cube Setup"
   ]
  },
  {
   "cell_type": "markdown",
   "id": "2f24568b-71da-4341-a716-f8abdbdce17d",
   "metadata": {
    "tags": []
   },
   "source": [
    "From this section onwards, the coding remains the same regardless of the underlying data source.  \n",
    "\n",
    "As we have always done, we join the tables and create the cube."
   ]
  },
  {
   "cell_type": "code",
   "execution_count": 15,
   "id": "93f6c667-27b6-4e2e-9685-ef275235622c",
   "metadata": {
    "tags": []
   },
   "outputs": [
    {
     "data": {
      "image/png": "[encoded data removed]",
      "text/plain": [
       "erDiagram\n",
       "  \"Atoti Sales\" {\n",
       "    _ String PK \"SALE_ID\"\n",
       "    _ LocalDate \"DATE\"\n",
       "    _ String \"SHOP\"\n",
       "    _ String \"PRODUCT\"\n",
       "    _ long \"QUANTITY\"\n",
       "    _ double \"UNIT_PRICE\"\n",
       "  }\n",
       "  \"Atoti Product\" {\n",
       "    _ String PK \"PRODUCT_ID\"\n",
       "    _ String \"CATEGORY\"\n",
       "    _ String \"SUB_CATEGORY\"\n",
       "    _ String \"SIZE\"\n",
       "    _ double \"PURCHASE_PRICE\"\n",
       "    _ String \"COLOR\"\n",
       "    _ String \"BRAND\"\n",
       "  }\n",
       "  \"Atoti Sales\" }o--o| \"Atoti Product\" : \"`PRODUCT` == `PRODUCT_ID`\""
      ]
     },
     "execution_count": 15,
     "metadata": {},
     "output_type": "execute_result"
    }
   ],
   "source": [
    "sales_table.join(products_table, sales_table[\"PRODUCT\"] == products_table[\"PRODUCT_ID\"])\n",
    "cube = session.create_cube(sales_table)\n",
    "session.tables.schema"
   ]
  },
  {
   "cell_type": "code",
   "execution_count": 16,
   "id": "4ee29cb6-1f57-43f2-b6e7-ad2e72d8abd4",
   "metadata": {
    "atoti": {
     "widget": {
      "mapping": {
       "columns": [
        "ALL_MEASURES"
       ],
       "measures": [
        "[Measures].[QUANTITY.SUM]"
       ],
       "rows": [
        "[Atoti Sales].[DATE].[DATE]",
        "[Atoti Sales].[SHOP].[SHOP] => [Atoti Product].[BRAND].[BRAND]"
       ]
      },
      "name": "Quantity sold across dates by shops",
      "query": {
       "mdx": "SELECT NON EMPTY {[Measures].[QUANTITY.SUM]} ON COLUMNS, NON EMPTY Hierarchize(Union(Crossjoin(Hierarchize(Descendants({[Atoti Sales].[DATE].[AllMember]}, 1, SELF_AND_BEFORE)), Hierarchize(Descendants({[Atoti Sales].[SHOP].[AllMember]}, 1, SELF_AND_BEFORE)), [Atoti Product].[BRAND].DefaultMember), Crossjoin([Atoti Sales].[DATE].[AllMember].[2022-01-31], [Atoti Sales].[SHOP].[AllMember].[shop_2], Hierarchize(Descendants({[Atoti Product].[BRAND].[AllMember]}, 1, SELF_AND_BEFORE))))) ON ROWS FROM [Atoti Sales] CELL PROPERTIES VALUE, FORMATTED_VALUE, BACK_COLOR, FORE_COLOR, FONT_FLAGS",
       "updateMode": "once"
      },
      "serverKey": "default",
      "widgetKey": "pivot-table"
     }
    },
    "tags": []
   },
   "outputs": [
    {
     "data": {
      "application/vnd.atoti.widget.v0+json": {
       "sessionId": "1736962237_103943",
       "sessionUrl": "http://localhost:59314",
       "widgetCreationCode": "session.widget"
      },
      "text/html": [
       "<img height=\"352\" width=\"1207\" src=\"data:image/png;base64,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\" />"
      ],
      "text/plain": [
       "Open the notebook in JupyterLab with the Atoti JupyterLab extension enabled to build this widget."
      ]
     },
     "metadata": {},
     "output_type": "display_data"
    }
   ],
   "source": [
    "session.widget"
   ]
  },
  {
   "cell_type": "markdown",
   "id": "623a5cce-fee4-489b-9250-c5dd542fb708",
   "metadata": {},
   "source": [
    "### Cube manipulation"
   ]
  },
  {
   "cell_type": "markdown",
   "id": "ad616201-0cc7-4012-8e54-66a99c9c1a23",
   "metadata": {},
   "source": [
    "We perform hierarchy manipulation, level ordering and measure creations the same way we always do in Atoti."
   ]
  },
  {
   "cell_type": "code",
   "execution_count": 17,
   "id": "27bebe22-10e5-4b67-9c18-4bb478fef70b",
   "metadata": {
    "tags": []
   },
   "outputs": [],
   "source": [
    "h, l, m = cube.hierarchies, cube.levels, cube.measures"
   ]
  },
  {
   "cell_type": "code",
   "execution_count": 18,
   "id": "fe4aea14-fc25-4a2d-9401-0ce01df385e4",
   "metadata": {
    "tags": []
   },
   "outputs": [],
   "source": [
    "h[\"CATEGORY\"] = [l[\"CATEGORY\"], l[\"SUB_CATEGORY\"]]\n",
    "del h[\"SUB_CATEGORY\"]"
   ]
  },
  {
   "cell_type": "code",
   "execution_count": 19,
   "id": "efc5d476-6465-4ccf-93d3-9f5dfe19df3c",
   "metadata": {
    "tags": []
   },
   "outputs": [
    {
     "data": {
      "application/json": {
       "Atoti Product": {
        "BRAND": [
         "BRAND"
        ],
        "CATEGORY": [
         "CATEGORY",
         "SUB_CATEGORY"
        ],
        "COLOR": [
         "COLOR"
        ],
        "SIZE": [
         "SIZE"
        ]
       },
       "Atoti Sales": {
        "DATE": [
         "DATE"
        ],
        "PRODUCT": [
         "PRODUCT"
        ],
        "SALE_ID": [
         "SALE_ID"
        ],
        "SHOP": [
         "SHOP"
        ]
       }
      },
      "text/html": [
       "<ul>\n",
       "<li>Dimensions\n",
       "  <ul>\n",
       "  <li>Atoti Product\n",
       "    <ul>\n",
       "    <li>BRAND\n",
       "      <ol>\n",
       "      <li>BRAND</li>\n",
       "      </ol>    </li>\n",
       "    <li>CATEGORY\n",
       "      <ol>\n",
       "      <li>CATEGORY</li>\n",
       "      <li>SUB_CATEGORY</li>\n",
       "      </ol>    </li>\n",
       "    <li>COLOR\n",
       "      <ol>\n",
       "      <li>COLOR</li>\n",
       "      </ol>    </li>\n",
       "    <li>SIZE\n",
       "      <ol>\n",
       "      <li>SIZE</li>\n",
       "      </ol>    </li>\n",
       "    </ul>\n",
       "  </li>\n",
       "  <li>Atoti Sales\n",
       "    <ul>\n",
       "    <li>DATE\n",
       "      <ol>\n",
       "      <li>DATE</li>\n",
       "      </ol>    </li>\n",
       "    <li>PRODUCT\n",
       "      <ol>\n",
       "      <li>PRODUCT</li>\n",
       "      </ol>    </li>\n",
       "    <li>SALE_ID\n",
       "      <ol>\n",
       "      <li>SALE_ID</li>\n",
       "      </ol>    </li>\n",
       "    <li>SHOP\n",
       "      <ol>\n",
       "      <li>SHOP</li>\n",
       "      </ol>    </li>\n",
       "    </ul>\n",
       "  </li>\n",
       "  </ul>\n",
       "</li>\n",
       "</ul>\n"
      ],
      "text/plain": [
       "{('Atoti Product', 'SIZE'): <atoti.hierarchy.Hierarchy object at 0x1221e0160>, ('Atoti Product', 'BRAND'): <atoti.hierarchy.Hierarchy object at 0x1221e0c40>, ('Atoti Product', 'COLOR'): <atoti.hierarchy.Hierarchy object at 0x12219c190>, ('Atoti Product', 'CATEGORY'): <atoti.hierarchy.Hierarchy object at 0x12219c7c0>, ('Atoti Sales', 'SALE_ID'): <atoti.hierarchy.Hierarchy object at 0x12219c340>, ('Atoti Sales', 'DATE'): <atoti.hierarchy.Hierarchy object at 0x12219cd00>, ('Atoti Sales', 'SHOP'): <atoti.hierarchy.Hierarchy object at 0x12219c0d0>, ('Atoti Sales', 'PRODUCT'): <atoti.hierarchy.Hierarchy object at 0x12219c460>}"
      ]
     },
     "execution_count": 19,
     "metadata": {
      "application/json": {
       "expanded": true,
       "root": "Dimensions"
      }
     },
     "output_type": "execute_result"
    }
   ],
   "source": [
    "h"
   ]
  },
  {
   "cell_type": "code",
   "execution_count": 20,
   "id": "fe924c60-0c9d-431f-ac72-297db49d8abc",
   "metadata": {
    "tags": []
   },
   "outputs": [],
   "source": [
    "l[\"DATE\"].order = tt.NaturalOrder(ascending=False)"
   ]
  },
  {
   "cell_type": "code",
   "execution_count": 21,
   "id": "343686bd-182e-4de1-b681-8bc6c04b791d",
   "metadata": {
    "tags": []
   },
   "outputs": [],
   "source": [
    "m[\"PURCHASE_PRICE.SUM\"] = tt.agg.sum(products_table[\"PURCHASE_PRICE\"])\n",
    "m[\"PROFIT\"] = tt.agg.sum_product(\n",
    "    m[\"UNIT_PRICE.SUM\"] - m[\"PURCHASE_PRICE.SUM\"],\n",
    "    m[\"QUANTITY.SUM\"],\n",
    "    scope=tt.OriginScope(levels={l[\"SALE_ID\"], l[\"PRODUCT\"]}),\n",
    ")"
   ]
  },
  {
   "cell_type": "markdown",
   "id": "595db925-bf0b-4828-87fb-ff26c717d905",
   "metadata": {},
   "source": [
    "Since we have a join from `sales_table` to `products_table` using the column values of `sales_table.PRODUCT` and `products_table.PRODUCT_ID`, the resultant level is the name of the column from the _from_ table. Therefore, we have the level `PRODUCT` but not `PRODUCT_ID` for our scope in the code snippet above."
   ]
  },
  {
   "cell_type": "code",
   "execution_count": 22,
   "id": "a5dd754e-6d52-43b0-9a18-e7aa7fd42e0b",
   "metadata": {
    "atoti": {
     "widget": {
      "mapping": {
       "columns": [
        "ALL_MEASURES"
       ],
       "measures": [
        "[Measures].[UNIT_PRICE.SUM]",
        "[Measures].[PURCHASE_PRICE.SUM]",
        "[Measures].[QUANTITY.SUM]",
        "[Measures].[PROFIT]"
       ],
       "rows": [
        "[Atoti Sales].[DATE].[DATE]",
        "[Atoti Product].[CATEGORY].[CATEGORY] => [Atoti Product].[CATEGORY].[SUB_CATEGORY]"
       ]
      },
      "name": "Profit by Product Categories across dates",
      "query": {
       "mdx": "SELECT NON EMPTY Hierarchize(Union(Crossjoin(Hierarchize(Descendants({[Atoti Sales].[DATE].[AllMember]}, 1, SELF_AND_BEFORE)), Hierarchize(Descendants({[Atoti Product].[CATEGORY].[AllMember]}, 1, SELF_AND_BEFORE))), Crossjoin([Atoti Sales].[DATE].[AllMember].[2022-02-03], Descendants({[Atoti Product].[CATEGORY].[AllMember].[Cloth]}, [Atoti Product].[CATEGORY].[SUB_CATEGORY])))) ON ROWS, NON EMPTY {[Measures].[UNIT_PRICE.SUM], [Measures].[PURCHASE_PRICE.SUM], [Measures].[QUANTITY.SUM], [Measures].[PROFIT]} ON COLUMNS FROM [Atoti Sales] CELL PROPERTIES VALUE, FORMATTED_VALUE, BACK_COLOR, FORE_COLOR, FONT_FLAGS",
       "updateMode": "once"
      },
      "serverKey": "default",
      "widgetKey": "pivot-table"
     }
    },
    "tags": []
   },
   "outputs": [
    {
     "data": {
      "application/vnd.atoti.widget.v0+json": {
       "sessionId": "1736962237_103943",
       "sessionUrl": "http://localhost:59314",
       "widgetCreationCode": "session.widget"
      },
      "text/html": [
       "<img height=\"352\" width=\"1207\" src=\"data:image/png;base64,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\" />"
      ],
      "text/plain": [
       "Open the notebook in JupyterLab with the Atoti JupyterLab extension enabled to build this widget."
      ]
     },
     "metadata": {},
     "output_type": "display_data"
    }
   ],
   "source": [
    "session.widget"
   ]
  },
  {
   "cell_type": "markdown",
   "id": "08ceaeb7-d0ed-42b5-899e-f4fb4fdcf1ae",
   "metadata": {},
   "source": [
    "## Cost and performance saving with Aggregate Provider"
   ]
  },
  {
   "cell_type": "markdown",
   "id": "b00d6de1-5324-43b0-acb0-c682977c2cf0",
   "metadata": {},
   "source": [
    "Let's take a quick look at our query performance in the current setup."
   ]
  },
  {
   "cell_type": "code",
   "execution_count": 23,
   "id": "37320670-66e8-40c1-9402-26775ed5817c",
   "metadata": {},
   "outputs": [
    {
     "name": "stdout",
     "output_type": "stream",
     "text": [
      "CPU times: user 35.3 ms, sys: 6.93 ms, total: 42.2 ms\n",
      "Wall time: 2.3 s\n"
     ]
    },
    {
     "data": {
      "application/vnd.atoti.convert-mdx-query-result-to-widget.v0+json": {
       "mdx": "SELECT {[Measures].[QUANTITY.SUM], [Measures].[PROFIT]} ON COLUMNS, NON EMPTY Crossjoin(Hierarchize(Descendants({[Atoti Sales].[DATE].[ALL].[AllMember]}, 1, SELF_AND_BEFORE)), Hierarchize(Descendants({[Atoti Sales].[PRODUCT].[ALL].[AllMember]}, 1, SELF_AND_BEFORE)), Hierarchize(Descendants({[Atoti Sales].[SALE_ID].[ALL].[AllMember]}, 1, SELF_AND_BEFORE))) ON ROWS FROM [Atoti Sales]",
       "sessionId": "1736962237_103943",
       "widgetCreationCode": "session.widget"
      },
      "text/html": [
       "<div>\n",
       "<style scoped>\n",
       "    .dataframe tbody tr th:only-of-type {\n",
       "        vertical-align: middle;\n",
       "    }\n",
       "\n",
       "    .dataframe tbody tr th {\n",
       "        vertical-align: top;\n",
       "    }\n",
       "\n",
       "    .dataframe thead th {\n",
       "        text-align: right;\n",
       "    }\n",
       "</style>\n",
       "<table border=\"1\" class=\"dataframe\">\n",
       "  <thead>\n",
       "    <tr style=\"text-align: right;\">\n",
       "      <th></th>\n",
       "      <th></th>\n",
       "      <th></th>\n",
       "      <th>QUANTITY.SUM</th>\n",
       "      <th>PROFIT</th>\n",
       "    </tr>\n",
       "    <tr>\n",
       "      <th>DATE</th>\n",
       "      <th>PRODUCT</th>\n",
       "      <th>SALE_ID</th>\n",
       "      <th></th>\n",
       "      <th></th>\n",
       "    </tr>\n",
       "  </thead>\n",
       "  <tbody>\n",
       "    <tr>\n",
       "      <th rowspan=\"2\" valign=\"top\">2022-02-04</th>\n",
       "      <th>HOO_5</th>\n",
       "      <th>S0017</th>\n",
       "      <td>1</td>\n",
       "      <td>10.00</td>\n",
       "    </tr>\n",
       "    <tr>\n",
       "      <th>TAB_0</th>\n",
       "      <th>S0000</th>\n",
       "      <td>1</td>\n",
       "      <td>20.00</td>\n",
       "    </tr>\n",
       "    <tr>\n",
       "      <th rowspan=\"4\" valign=\"top\">2022-02-03</th>\n",
       "      <th>HOO_5</th>\n",
       "      <th>S0018</th>\n",
       "      <td>1</td>\n",
       "      <td>10.00</td>\n",
       "    </tr>\n",
       "    <tr>\n",
       "      <th>TAB_0</th>\n",
       "      <th>S0001</th>\n",
       "      <td>1</td>\n",
       "      <td>20.00</td>\n",
       "    </tr>\n",
       "    <tr>\n",
       "      <th>TAB_1</th>\n",
       "      <th>S0004</th>\n",
       "      <td>1</td>\n",
       "      <td>20.00</td>\n",
       "    </tr>\n",
       "    <tr>\n",
       "      <th>TSH_3</th>\n",
       "      <th>S0011</th>\n",
       "      <td>1</td>\n",
       "      <td>3.00</td>\n",
       "    </tr>\n",
       "    <tr>\n",
       "      <th rowspan=\"5\" valign=\"top\">2022-02-02</th>\n",
       "      <th>HOO_5</th>\n",
       "      <th>S0019</th>\n",
       "      <td>1</td>\n",
       "      <td>10.00</td>\n",
       "    </tr>\n",
       "    <tr>\n",
       "      <th>TAB_0</th>\n",
       "      <th>S0002</th>\n",
       "      <td>1</td>\n",
       "      <td>20.00</td>\n",
       "    </tr>\n",
       "    <tr>\n",
       "      <th>TAB_1</th>\n",
       "      <th>S0005</th>\n",
       "      <td>1</td>\n",
       "      <td>20.00</td>\n",
       "    </tr>\n",
       "    <tr>\n",
       "      <th>TSH_3</th>\n",
       "      <th>S0012</th>\n",
       "      <td>1</td>\n",
       "      <td>3.00</td>\n",
       "    </tr>\n",
       "    <tr>\n",
       "      <th>TSH_4</th>\n",
       "      <th>S0014</th>\n",
       "      <td>1</td>\n",
       "      <td>4.00</td>\n",
       "    </tr>\n",
       "    <tr>\n",
       "      <th rowspan=\"5\" valign=\"top\">2022-02-01</th>\n",
       "      <th>BED_2</th>\n",
       "      <th>S0007</th>\n",
       "      <td>1</td>\n",
       "      <td>23.00</td>\n",
       "    </tr>\n",
       "    <tr>\n",
       "      <th>TAB_0</th>\n",
       "      <th>S0003</th>\n",
       "      <td>1</td>\n",
       "      <td>20.00</td>\n",
       "    </tr>\n",
       "    <tr>\n",
       "      <th>TAB_1</th>\n",
       "      <th>S0006</th>\n",
       "      <td>2</td>\n",
       "      <td>40.00</td>\n",
       "    </tr>\n",
       "    <tr>\n",
       "      <th>TSH_3</th>\n",
       "      <th>S0013</th>\n",
       "      <td>1</td>\n",
       "      <td>3.00</td>\n",
       "    </tr>\n",
       "    <tr>\n",
       "      <th>TSH_4</th>\n",
       "      <th>S0015</th>\n",
       "      <td>2</td>\n",
       "      <td>8.00</td>\n",
       "    </tr>\n",
       "    <tr>\n",
       "      <th rowspan=\"4\" valign=\"top\">2022-01-31</th>\n",
       "      <th rowspan=\"3\" valign=\"top\">BED_2</th>\n",
       "      <th>S0008</th>\n",
       "      <td>1</td>\n",
       "      <td>23.00</td>\n",
       "    </tr>\n",
       "    <tr>\n",
       "      <th>S0009</th>\n",
       "      <td>1</td>\n",
       "      <td>23.00</td>\n",
       "    </tr>\n",
       "    <tr>\n",
       "      <th>S0010</th>\n",
       "      <td>3</td>\n",
       "      <td>69.00</td>\n",
       "    </tr>\n",
       "    <tr>\n",
       "      <th>TSH_4</th>\n",
       "      <th>S0016</th>\n",
       "      <td>2</td>\n",
       "      <td>8.00</td>\n",
       "    </tr>\n",
       "  </tbody>\n",
       "</table>\n",
       "</div>"
      ],
      "text/plain": [
       "                           QUANTITY.SUM PROFIT\n",
       "DATE       PRODUCT SALE_ID                    \n",
       "2022-02-04 HOO_5   S0017              1  10.00\n",
       "           TAB_0   S0000              1  20.00\n",
       "2022-02-03 HOO_5   S0018              1  10.00\n",
       "           TAB_0   S0001              1  20.00\n",
       "           TAB_1   S0004              1  20.00\n",
       "           TSH_3   S0011              1   3.00\n",
       "2022-02-02 HOO_5   S0019              1  10.00\n",
       "           TAB_0   S0002              1  20.00\n",
       "           TAB_1   S0005              1  20.00\n",
       "           TSH_3   S0012              1   3.00\n",
       "           TSH_4   S0014              1   4.00\n",
       "2022-02-01 BED_2   S0007              1  23.00\n",
       "           TAB_0   S0003              1  20.00\n",
       "           TAB_1   S0006              2  40.00\n",
       "           TSH_3   S0013              1   3.00\n",
       "           TSH_4   S0015              2   8.00\n",
       "2022-01-31 BED_2   S0008              1  23.00\n",
       "                   S0009              1  23.00\n",
       "                   S0010              3  69.00\n",
       "           TSH_4   S0016              2   8.00"
      ]
     },
     "execution_count": 23,
     "metadata": {},
     "output_type": "execute_result"
    }
   ],
   "source": [
    "%%time\n",
    "\n",
    "cube.query(\n",
    "    m[\"QUANTITY.SUM\"], m[\"PROFIT\"], levels=[l[\"DATE\"], l[\"PRODUCT\"], l[\"SALE_ID\"]]\n",
    ")"
   ]
  },
  {
   "cell_type": "code",
   "execution_count": 24,
   "id": "41a42190-2831-458d-9679-aa942dae9de0",
   "metadata": {},
   "outputs": [
    {
     "name": "stdout",
     "output_type": "stream",
     "text": [
      "CPU times: user 15.5 ms, sys: 4.34 ms, total: 19.9 ms\n",
      "Wall time: 2.03 s\n"
     ]
    },
    {
     "data": {
      "application/vnd.atoti.convert-mdx-query-result-to-widget.v0+json": {
       "mdx": "SELECT {[Measures].[PROFIT]} ON COLUMNS, NON EMPTY Crossjoin(Hierarchize(Descendants({[Atoti Sales].[DATE].[ALL].[AllMember]}, 1, SELF_AND_BEFORE)), Hierarchize(Descendants({[Atoti Product].[CATEGORY].[ALL].[AllMember]}, 2, SELF_AND_BEFORE))) DIMENSION PROPERTIES CHILDREN_CARDINALITY ON ROWS FROM [Atoti Sales]",
       "sessionId": "1736962237_103943",
       "widgetCreationCode": "session.widget"
      },
      "text/html": [
       "<div>\n",
       "<style scoped>\n",
       "    .dataframe tbody tr th:only-of-type {\n",
       "        vertical-align: middle;\n",
       "    }\n",
       "\n",
       "    .dataframe tbody tr th {\n",
       "        vertical-align: top;\n",
       "    }\n",
       "\n",
       "    .dataframe thead th {\n",
       "        text-align: right;\n",
       "    }\n",
       "</style>\n",
       "<table border=\"1\" class=\"dataframe\">\n",
       "  <thead>\n",
       "    <tr style=\"text-align: right;\">\n",
       "      <th></th>\n",
       "      <th></th>\n",
       "      <th></th>\n",
       "      <th>PROFIT</th>\n",
       "    </tr>\n",
       "    <tr>\n",
       "      <th>DATE</th>\n",
       "      <th>CATEGORY</th>\n",
       "      <th>SUB_CATEGORY</th>\n",
       "      <th></th>\n",
       "    </tr>\n",
       "  </thead>\n",
       "  <tbody>\n",
       "    <tr>\n",
       "      <th rowspan=\"2\" valign=\"top\">2022-02-04</th>\n",
       "      <th>Cloth</th>\n",
       "      <th>Hoodie</th>\n",
       "      <td>10.00</td>\n",
       "    </tr>\n",
       "    <tr>\n",
       "      <th>Furniture</th>\n",
       "      <th>Table</th>\n",
       "      <td>20.00</td>\n",
       "    </tr>\n",
       "    <tr>\n",
       "      <th rowspan=\"3\" valign=\"top\">2022-02-03</th>\n",
       "      <th rowspan=\"2\" valign=\"top\">Cloth</th>\n",
       "      <th>Hoodie</th>\n",
       "      <td>10.00</td>\n",
       "    </tr>\n",
       "    <tr>\n",
       "      <th>Tshirt</th>\n",
       "      <td>3.00</td>\n",
       "    </tr>\n",
       "    <tr>\n",
       "      <th>Furniture</th>\n",
       "      <th>Table</th>\n",
       "      <td>40.00</td>\n",
       "    </tr>\n",
       "    <tr>\n",
       "      <th rowspan=\"3\" valign=\"top\">2022-02-02</th>\n",
       "      <th rowspan=\"2\" valign=\"top\">Cloth</th>\n",
       "      <th>Hoodie</th>\n",
       "      <td>10.00</td>\n",
       "    </tr>\n",
       "    <tr>\n",
       "      <th>Tshirt</th>\n",
       "      <td>7.00</td>\n",
       "    </tr>\n",
       "    <tr>\n",
       "      <th>Furniture</th>\n",
       "      <th>Table</th>\n",
       "      <td>40.00</td>\n",
       "    </tr>\n",
       "    <tr>\n",
       "      <th rowspan=\"3\" valign=\"top\">2022-02-01</th>\n",
       "      <th>Cloth</th>\n",
       "      <th>Tshirt</th>\n",
       "      <td>11.00</td>\n",
       "    </tr>\n",
       "    <tr>\n",
       "      <th rowspan=\"2\" valign=\"top\">Furniture</th>\n",
       "      <th>Bed</th>\n",
       "      <td>23.00</td>\n",
       "    </tr>\n",
       "    <tr>\n",
       "      <th>Table</th>\n",
       "      <td>60.00</td>\n",
       "    </tr>\n",
       "    <tr>\n",
       "      <th rowspan=\"2\" valign=\"top\">2022-01-31</th>\n",
       "      <th>Cloth</th>\n",
       "      <th>Tshirt</th>\n",
       "      <td>8.00</td>\n",
       "    </tr>\n",
       "    <tr>\n",
       "      <th>Furniture</th>\n",
       "      <th>Bed</th>\n",
       "      <td>115.00</td>\n",
       "    </tr>\n",
       "  </tbody>\n",
       "</table>\n",
       "</div>"
      ],
      "text/plain": [
       "                                   PROFIT\n",
       "DATE       CATEGORY  SUB_CATEGORY        \n",
       "2022-02-04 Cloth     Hoodie         10.00\n",
       "           Furniture Table          20.00\n",
       "2022-02-03 Cloth     Hoodie         10.00\n",
       "                     Tshirt          3.00\n",
       "           Furniture Table          40.00\n",
       "2022-02-02 Cloth     Hoodie         10.00\n",
       "                     Tshirt          7.00\n",
       "           Furniture Table          40.00\n",
       "2022-02-01 Cloth     Tshirt         11.00\n",
       "           Furniture Bed            23.00\n",
       "                     Table          60.00\n",
       "2022-01-31 Cloth     Tshirt          8.00\n",
       "           Furniture Bed           115.00"
      ]
     },
     "execution_count": 24,
     "metadata": {},
     "output_type": "execute_result"
    }
   ],
   "source": [
    "%%time\n",
    "\n",
    "cube.query(m[\"PROFIT\"], levels=[l[\"DATE\"], l[\"SUB_CATEGORY\"]])"
   ]
  },
  {
   "cell_type": "markdown",
   "id": "ec655a71-8eec-42ae-9dd5-3fa7bbf0f782",
   "metadata": {},
   "source": [
    "It takes approximately `3s` to return the query (YMMV)."
   ]
  },
  {
   "cell_type": "markdown",
   "id": "409bcc8e-c3e4-4592-a6ee-c54d41f97719",
   "metadata": {},
   "source": [
    "To speed up our querying, we make use of the [aggregate provider](https://docs.atoti.io/latest/api/atoti.AggregateProvider.html#atoti.AggregateProvider) to store intermediate aggregates in memory. If a step of a query uses a subset of the aggregate provider's levels and measures, the provider will speed up the query.  \n",
    "\n",
    "Since data is cached in memory, we will __not__ access BigQuery when a subset of these are queried.  "
   ]
  },
  {
   "cell_type": "code",
   "execution_count": 25,
   "id": "0f33a62c-d66d-4e3a-997d-ae325e9276ec",
   "metadata": {
    "tags": []
   },
   "outputs": [],
   "source": [
    "cube.aggregate_providers.update(\n",
    "    {\n",
    "        \"Products provider\": tt.AggregateProvider(\n",
    "            key=\"bitmap\",\n",
    "            levels=[l[\"DATE\"], l[\"PRODUCT\"], l[\"SALE_ID\"]],\n",
    "            measures=[m[\"QUANTITY.SUM\"], m[\"PURCHASE_PRICE.SUM\"], m[\"UNIT_PRICE.SUM\"]],\n",
    "            partitioning=\"hash16(PRODUCT)\",\n",
    "        )\n",
    "    }\n",
    ")"
   ]
  },
  {
   "cell_type": "markdown",
   "id": "4817dae9-0dbb-4c91-95bc-38a1320102ae",
   "metadata": {},
   "source": [
    "⚠️ **Important:** We can only use store aggregated measures supporting disaggregation can be used in aggregate provider, e.g. `tt.agg.sum` or `tt.agg.mean` on table columns.\n",
    "\n",
    "`m[\"PROFIT\"]` cannot be used because it is a chained measure resulting from the `sum_product` of a few measures.\n"
   ]
  },
  {
   "cell_type": "code",
   "execution_count": 26,
   "id": "0bc35e5d-1845-479b-873f-5a24be936f1e",
   "metadata": {
    "tags": []
   },
   "outputs": [
    {
     "name": "stdout",
     "output_type": "stream",
     "text": [
      "CPU times: user 14.8 ms, sys: 3.22 ms, total: 18 ms\n",
      "Wall time: 64.7 ms\n"
     ]
    },
    {
     "data": {
      "application/vnd.atoti.convert-mdx-query-result-to-widget.v0+json": {
       "mdx": "SELECT {[Measures].[PROFIT]} ON COLUMNS, NON EMPTY Crossjoin(Hierarchize(Descendants({[Atoti Sales].[DATE].[ALL].[AllMember]}, 1, SELF_AND_BEFORE)), Hierarchize(Descendants({[Atoti Sales].[PRODUCT].[ALL].[AllMember]}, 1, SELF_AND_BEFORE)), Hierarchize(Descendants({[Atoti Sales].[SALE_ID].[ALL].[AllMember]}, 1, SELF_AND_BEFORE))) ON ROWS FROM [Atoti Sales]",
       "sessionId": "1736962237_103943",
       "widgetCreationCode": "session.widget"
      },
      "text/html": [
       "<div>\n",
       "<style scoped>\n",
       "    .dataframe tbody tr th:only-of-type {\n",
       "        vertical-align: middle;\n",
       "    }\n",
       "\n",
       "    .dataframe tbody tr th {\n",
       "        vertical-align: top;\n",
       "    }\n",
       "\n",
       "    .dataframe thead th {\n",
       "        text-align: right;\n",
       "    }\n",
       "</style>\n",
       "<table border=\"1\" class=\"dataframe\">\n",
       "  <thead>\n",
       "    <tr style=\"text-align: right;\">\n",
       "      <th></th>\n",
       "      <th></th>\n",
       "      <th></th>\n",
       "      <th>PROFIT</th>\n",
       "    </tr>\n",
       "    <tr>\n",
       "      <th>DATE</th>\n",
       "      <th>PRODUCT</th>\n",
       "      <th>SALE_ID</th>\n",
       "      <th></th>\n",
       "    </tr>\n",
       "  </thead>\n",
       "  <tbody>\n",
       "    <tr>\n",
       "      <th rowspan=\"2\" valign=\"top\">2022-02-04</th>\n",
       "      <th>HOO_5</th>\n",
       "      <th>S0017</th>\n",
       "      <td>10.00</td>\n",
       "    </tr>\n",
       "    <tr>\n",
       "      <th>TAB_0</th>\n",
       "      <th>S0000</th>\n",
       "      <td>20.00</td>\n",
       "    </tr>\n",
       "    <tr>\n",
       "      <th rowspan=\"4\" valign=\"top\">2022-02-03</th>\n",
       "      <th>HOO_5</th>\n",
       "      <th>S0018</th>\n",
       "      <td>10.00</td>\n",
       "    </tr>\n",
       "    <tr>\n",
       "      <th>TAB_0</th>\n",
       "      <th>S0001</th>\n",
       "      <td>20.00</td>\n",
       "    </tr>\n",
       "    <tr>\n",
       "      <th>TAB_1</th>\n",
       "      <th>S0004</th>\n",
       "      <td>20.00</td>\n",
       "    </tr>\n",
       "    <tr>\n",
       "      <th>TSH_3</th>\n",
       "      <th>S0011</th>\n",
       "      <td>3.00</td>\n",
       "    </tr>\n",
       "    <tr>\n",
       "      <th rowspan=\"5\" valign=\"top\">2022-02-02</th>\n",
       "      <th>HOO_5</th>\n",
       "      <th>S0019</th>\n",
       "      <td>10.00</td>\n",
       "    </tr>\n",
       "    <tr>\n",
       "      <th>TAB_0</th>\n",
       "      <th>S0002</th>\n",
       "      <td>20.00</td>\n",
       "    </tr>\n",
       "    <tr>\n",
       "      <th>TAB_1</th>\n",
       "      <th>S0005</th>\n",
       "      <td>20.00</td>\n",
       "    </tr>\n",
       "    <tr>\n",
       "      <th>TSH_3</th>\n",
       "      <th>S0012</th>\n",
       "      <td>3.00</td>\n",
       "    </tr>\n",
       "    <tr>\n",
       "      <th>TSH_4</th>\n",
       "      <th>S0014</th>\n",
       "      <td>4.00</td>\n",
       "    </tr>\n",
       "    <tr>\n",
       "      <th rowspan=\"5\" valign=\"top\">2022-02-01</th>\n",
       "      <th>BED_2</th>\n",
       "      <th>S0007</th>\n",
       "      <td>23.00</td>\n",
       "    </tr>\n",
       "    <tr>\n",
       "      <th>TAB_0</th>\n",
       "      <th>S0003</th>\n",
       "      <td>20.00</td>\n",
       "    </tr>\n",
       "    <tr>\n",
       "      <th>TAB_1</th>\n",
       "      <th>S0006</th>\n",
       "      <td>40.00</td>\n",
       "    </tr>\n",
       "    <tr>\n",
       "      <th>TSH_3</th>\n",
       "      <th>S0013</th>\n",
       "      <td>3.00</td>\n",
       "    </tr>\n",
       "    <tr>\n",
       "      <th>TSH_4</th>\n",
       "      <th>S0015</th>\n",
       "      <td>8.00</td>\n",
       "    </tr>\n",
       "    <tr>\n",
       "      <th rowspan=\"4\" valign=\"top\">2022-01-31</th>\n",
       "      <th rowspan=\"3\" valign=\"top\">BED_2</th>\n",
       "      <th>S0008</th>\n",
       "      <td>23.00</td>\n",
       "    </tr>\n",
       "    <tr>\n",
       "      <th>S0009</th>\n",
       "      <td>23.00</td>\n",
       "    </tr>\n",
       "    <tr>\n",
       "      <th>S0010</th>\n",
       "      <td>69.00</td>\n",
       "    </tr>\n",
       "    <tr>\n",
       "      <th>TSH_4</th>\n",
       "      <th>S0016</th>\n",
       "      <td>8.00</td>\n",
       "    </tr>\n",
       "  </tbody>\n",
       "</table>\n",
       "</div>"
      ],
      "text/plain": [
       "                           PROFIT\n",
       "DATE       PRODUCT SALE_ID       \n",
       "2022-02-04 HOO_5   S0017    10.00\n",
       "           TAB_0   S0000    20.00\n",
       "2022-02-03 HOO_5   S0018    10.00\n",
       "           TAB_0   S0001    20.00\n",
       "           TAB_1   S0004    20.00\n",
       "           TSH_3   S0011     3.00\n",
       "2022-02-02 HOO_5   S0019    10.00\n",
       "           TAB_0   S0002    20.00\n",
       "           TAB_1   S0005    20.00\n",
       "           TSH_3   S0012     3.00\n",
       "           TSH_4   S0014     4.00\n",
       "2022-02-01 BED_2   S0007    23.00\n",
       "           TAB_0   S0003    20.00\n",
       "           TAB_1   S0006    40.00\n",
       "           TSH_3   S0013     3.00\n",
       "           TSH_4   S0015     8.00\n",
       "2022-01-31 BED_2   S0008    23.00\n",
       "                   S0009    23.00\n",
       "                   S0010    69.00\n",
       "           TSH_4   S0016     8.00"
      ]
     },
     "execution_count": 26,
     "metadata": {},
     "output_type": "execute_result"
    }
   ],
   "source": [
    "%%time\n",
    "\n",
    "cube.query(m[\"PROFIT\"], levels=[l[\"DATE\"], l[\"PRODUCT\"], l[\"SALE_ID\"]])"
   ]
  },
  {
   "cell_type": "markdown",
   "id": "fd36b224-ab65-45f0-a2fb-1e44c5fdb1c8",
   "metadata": {},
   "source": [
    "Previously, it took close to `3s` to return the query results. Now, it only takes slightly over `100ms` to return the results (YMMV).  \n",
    "\n",
    "Note that we are querying `PROFIT` and not the measures `m[\"QUANTITY.SUM\"]`, `m[\"PURCHASE_PRICE.SUM\"]` and `m[\"UNIT_PRICE.SUM\"]`. However, `PROFIT` is computed on the fly using the cached data in memory. Therefore, the query speed is improved drastically."
   ]
  },
  {
   "cell_type": "code",
   "execution_count": 27,
   "id": "800e212c-f4ce-4e77-8653-f8afd9b50043",
   "metadata": {
    "tags": []
   },
   "outputs": [
    {
     "name": "stdout",
     "output_type": "stream",
     "text": [
      "CPU times: user 6.33 ms, sys: 1.54 ms, total: 7.87 ms\n",
      "Wall time: 25.5 ms\n"
     ]
    },
    {
     "data": {
      "application/vnd.atoti.convert-mdx-query-result-to-widget.v0+json": {
       "mdx": "SELECT {[Measures].[PROFIT]} ON COLUMNS, NON EMPTY Hierarchize(Descendants({[Atoti Sales].[PRODUCT].[ALL].[AllMember]}, 1, SELF_AND_BEFORE)) ON ROWS FROM [Atoti Sales]",
       "sessionId": "1736962237_103943",
       "widgetCreationCode": "session.widget"
      },
      "text/html": [
       "<div>\n",
       "<style scoped>\n",
       "    .dataframe tbody tr th:only-of-type {\n",
       "        vertical-align: middle;\n",
       "    }\n",
       "\n",
       "    .dataframe tbody tr th {\n",
       "        vertical-align: top;\n",
       "    }\n",
       "\n",
       "    .dataframe thead th {\n",
       "        text-align: right;\n",
       "    }\n",
       "</style>\n",
       "<table border=\"1\" class=\"dataframe\">\n",
       "  <thead>\n",
       "    <tr style=\"text-align: right;\">\n",
       "      <th></th>\n",
       "      <th>PROFIT</th>\n",
       "    </tr>\n",
       "    <tr>\n",
       "      <th>PRODUCT</th>\n",
       "      <th></th>\n",
       "    </tr>\n",
       "  </thead>\n",
       "  <tbody>\n",
       "    <tr>\n",
       "      <th>BED_2</th>\n",
       "      <td>138.00</td>\n",
       "    </tr>\n",
       "    <tr>\n",
       "      <th>HOO_5</th>\n",
       "      <td>30.00</td>\n",
       "    </tr>\n",
       "    <tr>\n",
       "      <th>TAB_0</th>\n",
       "      <td>80.00</td>\n",
       "    </tr>\n",
       "    <tr>\n",
       "      <th>TAB_1</th>\n",
       "      <td>80.00</td>\n",
       "    </tr>\n",
       "    <tr>\n",
       "      <th>TSH_3</th>\n",
       "      <td>9.00</td>\n",
       "    </tr>\n",
       "    <tr>\n",
       "      <th>TSH_4</th>\n",
       "      <td>20.00</td>\n",
       "    </tr>\n",
       "  </tbody>\n",
       "</table>\n",
       "</div>"
      ],
      "text/plain": [
       "         PROFIT\n",
       "PRODUCT        \n",
       "BED_2    138.00\n",
       "HOO_5     30.00\n",
       "TAB_0     80.00\n",
       "TAB_1     80.00\n",
       "TSH_3      9.00\n",
       "TSH_4     20.00"
      ]
     },
     "execution_count": 27,
     "metadata": {},
     "output_type": "execute_result"
    }
   ],
   "source": [
    "%%time\n",
    "\n",
    "cube.query(m[\"PROFIT\"], levels=[l[\"PRODUCT\"]])"
   ]
  },
  {
   "cell_type": "markdown",
   "id": "3776a1f9-c10c-4912-866f-238a3b95fbee",
   "metadata": {},
   "source": [
    "Querying a subset of the aggregate provider levels also returns the result quickly.  \n",
    "\n",
    "The below query on a different level will access data from BigQuery and therefore, is limited by the querying speed of the cloud database and its network connectivity.  "
   ]
  },
  {
   "cell_type": "code",
   "execution_count": 28,
   "id": "08506fb9-16e3-4052-9288-380ecc441021",
   "metadata": {
    "tags": []
   },
   "outputs": [
    {
     "name": "stdout",
     "output_type": "stream",
     "text": [
      "CPU times: user 14.1 ms, sys: 3.72 ms, total: 17.8 ms\n",
      "Wall time: 1.42 s\n"
     ]
    },
    {
     "data": {
      "application/vnd.atoti.convert-mdx-query-result-to-widget.v0+json": {
       "mdx": "SELECT {[Measures].[PROFIT]} ON COLUMNS, NON EMPTY Crossjoin(Hierarchize(Descendants({[Atoti Sales].[DATE].[ALL].[AllMember]}, 1, SELF_AND_BEFORE)), Hierarchize(Descendants({[Atoti Product].[CATEGORY].[ALL].[AllMember]}, 2, SELF_AND_BEFORE))) DIMENSION PROPERTIES CHILDREN_CARDINALITY ON ROWS FROM [Atoti Sales]",
       "sessionId": "1736962237_103943",
       "widgetCreationCode": "session.widget"
      },
      "text/html": [
       "<div>\n",
       "<style scoped>\n",
       "    .dataframe tbody tr th:only-of-type {\n",
       "        vertical-align: middle;\n",
       "    }\n",
       "\n",
       "    .dataframe tbody tr th {\n",
       "        vertical-align: top;\n",
       "    }\n",
       "\n",
       "    .dataframe thead th {\n",
       "        text-align: right;\n",
       "    }\n",
       "</style>\n",
       "<table border=\"1\" class=\"dataframe\">\n",
       "  <thead>\n",
       "    <tr style=\"text-align: right;\">\n",
       "      <th></th>\n",
       "      <th></th>\n",
       "      <th></th>\n",
       "      <th>PROFIT</th>\n",
       "    </tr>\n",
       "    <tr>\n",
       "      <th>DATE</th>\n",
       "      <th>CATEGORY</th>\n",
       "      <th>SUB_CATEGORY</th>\n",
       "      <th></th>\n",
       "    </tr>\n",
       "  </thead>\n",
       "  <tbody>\n",
       "    <tr>\n",
       "      <th rowspan=\"2\" valign=\"top\">2022-02-04</th>\n",
       "      <th>Cloth</th>\n",
       "      <th>Hoodie</th>\n",
       "      <td>10.00</td>\n",
       "    </tr>\n",
       "    <tr>\n",
       "      <th>Furniture</th>\n",
       "      <th>Table</th>\n",
       "      <td>20.00</td>\n",
       "    </tr>\n",
       "    <tr>\n",
       "      <th rowspan=\"3\" valign=\"top\">2022-02-03</th>\n",
       "      <th rowspan=\"2\" valign=\"top\">Cloth</th>\n",
       "      <th>Hoodie</th>\n",
       "      <td>10.00</td>\n",
       "    </tr>\n",
       "    <tr>\n",
       "      <th>Tshirt</th>\n",
       "      <td>3.00</td>\n",
       "    </tr>\n",
       "    <tr>\n",
       "      <th>Furniture</th>\n",
       "      <th>Table</th>\n",
       "      <td>40.00</td>\n",
       "    </tr>\n",
       "    <tr>\n",
       "      <th rowspan=\"3\" valign=\"top\">2022-02-02</th>\n",
       "      <th rowspan=\"2\" valign=\"top\">Cloth</th>\n",
       "      <th>Hoodie</th>\n",
       "      <td>10.00</td>\n",
       "    </tr>\n",
       "    <tr>\n",
       "      <th>Tshirt</th>\n",
       "      <td>7.00</td>\n",
       "    </tr>\n",
       "    <tr>\n",
       "      <th>Furniture</th>\n",
       "      <th>Table</th>\n",
       "      <td>40.00</td>\n",
       "    </tr>\n",
       "    <tr>\n",
       "      <th rowspan=\"3\" valign=\"top\">2022-02-01</th>\n",
       "      <th>Cloth</th>\n",
       "      <th>Tshirt</th>\n",
       "      <td>11.00</td>\n",
       "    </tr>\n",
       "    <tr>\n",
       "      <th rowspan=\"2\" valign=\"top\">Furniture</th>\n",
       "      <th>Bed</th>\n",
       "      <td>23.00</td>\n",
       "    </tr>\n",
       "    <tr>\n",
       "      <th>Table</th>\n",
       "      <td>60.00</td>\n",
       "    </tr>\n",
       "    <tr>\n",
       "      <th rowspan=\"2\" valign=\"top\">2022-01-31</th>\n",
       "      <th>Cloth</th>\n",
       "      <th>Tshirt</th>\n",
       "      <td>8.00</td>\n",
       "    </tr>\n",
       "    <tr>\n",
       "      <th>Furniture</th>\n",
       "      <th>Bed</th>\n",
       "      <td>115.00</td>\n",
       "    </tr>\n",
       "  </tbody>\n",
       "</table>\n",
       "</div>"
      ],
      "text/plain": [
       "                                   PROFIT\n",
       "DATE       CATEGORY  SUB_CATEGORY        \n",
       "2022-02-04 Cloth     Hoodie         10.00\n",
       "           Furniture Table          20.00\n",
       "2022-02-03 Cloth     Hoodie         10.00\n",
       "                     Tshirt          3.00\n",
       "           Furniture Table          40.00\n",
       "2022-02-02 Cloth     Hoodie         10.00\n",
       "                     Tshirt          7.00\n",
       "           Furniture Table          40.00\n",
       "2022-02-01 Cloth     Tshirt         11.00\n",
       "           Furniture Bed            23.00\n",
       "                     Table          60.00\n",
       "2022-01-31 Cloth     Tshirt          8.00\n",
       "           Furniture Bed           115.00"
      ]
     },
     "execution_count": 28,
     "metadata": {},
     "output_type": "execute_result"
    }
   ],
   "source": [
    "%%time\n",
    "\n",
    "cube.query(m[\"PROFIT\"], levels=[l[\"DATE\"], l[\"SUB_CATEGORY\"]])"
   ]
  },
  {
   "cell_type": "markdown",
   "id": "c260f204-8f69-4f99-aefa-3e881c29e4bc",
   "metadata": {},
   "source": [
    "Before we are done with this example, let's create another aggregate provider with a _slice_ of data using `filter`.  \n",
    "\n",
    "Let's first capture the timing of the query without the aggregate provider."
   ]
  },
  {
   "cell_type": "code",
   "execution_count": 29,
   "id": "fe342fd4-1c7f-4995-833d-f3cac15d2aa4",
   "metadata": {},
   "outputs": [
    {
     "name": "stdout",
     "output_type": "stream",
     "text": [
      "CPU times: user 22 ms, sys: 4.16 ms, total: 26.2 ms\n",
      "Wall time: 2.06 s\n"
     ]
    },
    {
     "data": {
      "application/vnd.atoti.convert-mdx-query-result-to-widget.v0+json": {
       "mdx": "SELECT {[Measures].[PROFIT]} ON COLUMNS, NON EMPTY Crossjoin(Hierarchize(Descendants({[Atoti Sales].[DATE].[ALL].[AllMember]}, 1, SELF_AND_BEFORE)), Hierarchize(Descendants({[Atoti Product].[CATEGORY].[ALL].[AllMember]}, 2, SELF_AND_BEFORE))) DIMENSION PROPERTIES CHILDREN_CARDINALITY ON ROWS FROM (SELECT [Atoti Sales].[DATE].[ALL].[AllMember].[2022-02-04] ON COLUMNS FROM [Atoti Sales])",
       "sessionId": "1736962237_103943",
       "widgetCreationCode": "session.widget"
      },
      "text/html": [
       "<div>\n",
       "<style scoped>\n",
       "    .dataframe tbody tr th:only-of-type {\n",
       "        vertical-align: middle;\n",
       "    }\n",
       "\n",
       "    .dataframe tbody tr th {\n",
       "        vertical-align: top;\n",
       "    }\n",
       "\n",
       "    .dataframe thead th {\n",
       "        text-align: right;\n",
       "    }\n",
       "</style>\n",
       "<table border=\"1\" class=\"dataframe\">\n",
       "  <thead>\n",
       "    <tr style=\"text-align: right;\">\n",
       "      <th></th>\n",
       "      <th></th>\n",
       "      <th></th>\n",
       "      <th>PROFIT</th>\n",
       "    </tr>\n",
       "    <tr>\n",
       "      <th>DATE</th>\n",
       "      <th>CATEGORY</th>\n",
       "      <th>SUB_CATEGORY</th>\n",
       "      <th></th>\n",
       "    </tr>\n",
       "  </thead>\n",
       "  <tbody>\n",
       "    <tr>\n",
       "      <th rowspan=\"2\" valign=\"top\">2022-02-04</th>\n",
       "      <th>Cloth</th>\n",
       "      <th>Hoodie</th>\n",
       "      <td>10.00</td>\n",
       "    </tr>\n",
       "    <tr>\n",
       "      <th>Furniture</th>\n",
       "      <th>Table</th>\n",
       "      <td>20.00</td>\n",
       "    </tr>\n",
       "  </tbody>\n",
       "</table>\n",
       "</div>"
      ],
      "text/plain": [
       "                                  PROFIT\n",
       "DATE       CATEGORY  SUB_CATEGORY       \n",
       "2022-02-04 Cloth     Hoodie        10.00\n",
       "           Furniture Table         20.00"
      ]
     },
     "execution_count": 29,
     "metadata": {},
     "output_type": "execute_result"
    }
   ],
   "source": [
    "%%time\n",
    "\n",
    "cube.query(\n",
    "    m[\"PROFIT\"],\n",
    "    levels=[l[\"DATE\"], l[\"CATEGORY\"], l[\"SUB_CATEGORY\"]],\n",
    "    filter=(l[\"DATE\"] == \"2022-02-04\"),\n",
    ")"
   ]
  },
  {
   "cell_type": "code",
   "execution_count": 30,
   "id": "b240a857-71f6-4344-8967-570013c0ac98",
   "metadata": {
    "tags": []
   },
   "outputs": [],
   "source": [
    "from datetime import date\n",
    "\n",
    "current_date = date(2022, 2, 4)"
   ]
  },
  {
   "cell_type": "markdown",
   "id": "9526ed6a-2c74-4ab5-935e-51899123340c",
   "metadata": {},
   "source": [
    "In the event where users are interested in a particular member of level, e.g. the current date or a particular shop, and the amount of querying on this member is huge, then it makes sense to cache them in memory.  \n",
    "\n",
    "In this case, we apply filter just for the interested member. This helps to control the amount of data held in memory."
   ]
  },
  {
   "cell_type": "code",
   "execution_count": 31,
   "id": "17ae6441-66db-4038-bfee-28df3b2c576e",
   "metadata": {},
   "outputs": [],
   "source": [
    "cube.aggregate_providers.update(\n",
    "    {\n",
    "        \"Category provider\": tt.AggregateProvider(\n",
    "            key=\"bitmap\",\n",
    "            levels=[l[\"DATE\"], l[\"CATEGORY\"], l[\"SUB_CATEGORY\"]],\n",
    "            measures=[m[\"QUANTITY.SUM\"], m[\"PURCHASE_PRICE.SUM\"], m[\"UNIT_PRICE.SUM\"]],\n",
    "            filter=(l[\"DATE\"] == current_date),\n",
    "        )\n",
    "    }\n",
    ")"
   ]
  },
  {
   "cell_type": "code",
   "execution_count": 32,
   "id": "adc253db-cebe-49a2-a8ae-2f9630d5338d",
   "metadata": {
    "tags": []
   },
   "outputs": [
    {
     "name": "stdout",
     "output_type": "stream",
     "text": [
      "CPU times: user 17 ms, sys: 4.54 ms, total: 21.6 ms\n",
      "Wall time: 1.36 s\n"
     ]
    },
    {
     "data": {
      "application/vnd.atoti.convert-mdx-query-result-to-widget.v0+json": {
       "mdx": "SELECT {[Measures].[PROFIT]} ON COLUMNS, NON EMPTY Crossjoin(Hierarchize(Descendants({[Atoti Sales].[DATE].[ALL].[AllMember]}, 1, SELF_AND_BEFORE)), Hierarchize(Descendants({[Atoti Product].[CATEGORY].[ALL].[AllMember]}, 2, SELF_AND_BEFORE))) DIMENSION PROPERTIES CHILDREN_CARDINALITY ON ROWS FROM (SELECT [Atoti Sales].[DATE].[ALL].[AllMember].[2022-02-04] ON COLUMNS FROM [Atoti Sales])",
       "sessionId": "1736962237_103943",
       "widgetCreationCode": "session.widget"
      },
      "text/html": [
       "<div>\n",
       "<style scoped>\n",
       "    .dataframe tbody tr th:only-of-type {\n",
       "        vertical-align: middle;\n",
       "    }\n",
       "\n",
       "    .dataframe tbody tr th {\n",
       "        vertical-align: top;\n",
       "    }\n",
       "\n",
       "    .dataframe thead th {\n",
       "        text-align: right;\n",
       "    }\n",
       "</style>\n",
       "<table border=\"1\" class=\"dataframe\">\n",
       "  <thead>\n",
       "    <tr style=\"text-align: right;\">\n",
       "      <th></th>\n",
       "      <th></th>\n",
       "      <th></th>\n",
       "      <th>PROFIT</th>\n",
       "    </tr>\n",
       "    <tr>\n",
       "      <th>DATE</th>\n",
       "      <th>CATEGORY</th>\n",
       "      <th>SUB_CATEGORY</th>\n",
       "      <th></th>\n",
       "    </tr>\n",
       "  </thead>\n",
       "  <tbody>\n",
       "    <tr>\n",
       "      <th rowspan=\"2\" valign=\"top\">2022-02-04</th>\n",
       "      <th>Cloth</th>\n",
       "      <th>Hoodie</th>\n",
       "      <td>10.00</td>\n",
       "    </tr>\n",
       "    <tr>\n",
       "      <th>Furniture</th>\n",
       "      <th>Table</th>\n",
       "      <td>20.00</td>\n",
       "    </tr>\n",
       "  </tbody>\n",
       "</table>\n",
       "</div>"
      ],
      "text/plain": [
       "                                  PROFIT\n",
       "DATE       CATEGORY  SUB_CATEGORY       \n",
       "2022-02-04 Cloth     Hoodie        10.00\n",
       "           Furniture Table         20.00"
      ]
     },
     "execution_count": 32,
     "metadata": {},
     "output_type": "execute_result"
    }
   ],
   "source": [
    "%%time\n",
    "\n",
    "cube.query(\n",
    "    m[\"PROFIT\"],\n",
    "    levels=[l[\"DATE\"], l[\"CATEGORY\"], l[\"SUB_CATEGORY\"]],\n",
    "    filter=(l[\"DATE\"] == \"2022-02-04\"),\n",
    ")"
   ]
  },
  {
   "cell_type": "markdown",
   "id": "4b392590-0e19-4d03-84db-853028977e8b",
   "metadata": {},
   "source": [
    "## Balance between Cost and Performance"
   ]
  },
  {
   "cell_type": "markdown",
   "id": "1f44c57a-00ad-44eb-9195-ed0b0a808a62",
   "metadata": {},
   "source": [
    "All in all, Atoti's DirectQuery offers users a way to balance between cost and performance:\n",
    "\n",
    "* For data that is less queried, it resides on the cloud database and gets queried on-demand.\n",
    "* For data that is more frequently queried, we can cache it in memory and reduce the number of queries to the cloud database, thereby improving performance.  \n",
    "\n",
    "<img src=\"https://data.atoti.io/notebooks/direct-query/img/aggregate_cache.png\" />  \n",
    "\n",
    "💡 **Note:** To find out more, reach out to [ActiveViam](https://activeviam.com/contact-us/?utm_source=github&utm_medium=atoti) for a demonstration."
   ]
  },
  {
   "cell_type": "markdown",
   "id": "455e3f95-0a8c-48bf-b793-69d5fe2f2083",
   "metadata": {},
   "source": [
    "<div style=\"text-align: center;\" ><a href=\"https://www.atoti.io/?utm_source=gallery&utm_content=directquery-intro\" target=\"_blank\" rel=\"noopener noreferrer\"><img src=\"https://data.atoti.io/notebooks/banners/Your-turn-to-try-Atoti.jpg\" alt=\"Try Atoti\"></a></div>"
   ]
  }
 ],
 "metadata": {
  "kernelspec": {
   "display_name": "Python 3 (ipykernel)",
   "language": "python",
   "name": "python3"
  },
  "language_info": {
   "codemirror_mode": {
    "name": "ipython",
    "version": 3
   },
   "file_extension": ".py",
   "mimetype": "text/x-python",
   "name": "python",
   "nbconvert_exporter": "python",
   "pygments_lexer": "ipython3",
   "version": "3.10.11"
  },
  "widgets": {
   "application/vnd.jupyter.widget-state+json": {
    "state": {},
    "version_major": 2,
    "version_minor": 0
   }
  }
 },
 "nbformat": 4,
 "nbformat_minor": 5
}
