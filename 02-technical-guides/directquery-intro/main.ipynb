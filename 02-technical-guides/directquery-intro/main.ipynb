{
 "cells": [
  {
   "cell_type": "markdown",
   "id": "ac3fbb12-82a8-4e9f-aa4e-e1ad414ce283",
   "metadata": {},
   "source": [
    "# DirectQuery: Combining Atoti and Data Warehouses"
   ]
  },
  {
   "cell_type": "markdown",
   "id": "a671e16d-c06b-432f-92c6-5b2d2f7043bd",
   "metadata": {},
   "source": [
    "We know Atoti provides in-memory analytics for big data. This means that we hold data in memory and perform aggregation on the fly in order to achieve fast and dynamic computations. In our usual Atoti setup, the hosting server requires a memory size that's about 1.5 times of the amount of data that gets loaded into the cube. However, with Atoti's DirectQuery, we can better support our users who store their data on the cloud! In fact, it applies for on-premise databases such as [ClickHouse](https://clickhouse.com/clickhouse) and [Microsoft SQL Server](https://www.microsoft.com/en-sg/sql-server/sql-server-downloads) too.  \n",
    "\n",
    "<img src=\"https://data.atoti.io/notebooks/direct-query/img/cost_vs_performance.png\" width=\"850px\"/>\n",
    "\n",
    "In a gist, here's what DirectQuery offers:  \n",
    "\n",
    "- Scalability\n",
    "\n",
    "> Leveraging the scalability of cloud data warehouse, the server that hosts Atoti only has to take into consideration the amount of data that gets queried on a daily basis.  \n",
    "> Instead of storing all of the data in physical memory, DirectQuery enables us to query the Cloud database directly, reducing the need for memory in the hosting server.  \n",
    "\n",
    "- Cost savings\n",
    "\n",
    "> Other than saving on the memory required for the hosting server, DirectQuery helps to save on the data transfer costs.  \n",
    "> While cloud data warehouse is cost-effective, we incur costs when we perform queries.  \n",
    "> We can reduce querying to the Cloud database by loading an aggregated cache in memory for the most frequently queried data.  \n",
    "\n",
    "- Technology agnosticism\n",
    "\n",
    "> With changes to only a few lines of data connectivity code in Atoti, we can easily switch from one Cloud service provider to another without impacting the Atoti server.  \n",
    "> We can even switch over to other data connectors such as physical files.  \n",
    "\n",
    "\n",
    "This notebook provides a quick introduction to how we can connect to Google BigQuery and create an Atoti cube."
   ]
  },
  {
   "cell_type": "markdown",
   "id": "f23aeb88-5455-44ee-892d-4aa7fc2dbfb7",
   "metadata": {},
   "source": [
    "<div style=\"text-align: center;\" ><a href=\"https://www.atoti.io/?utm_source=gallery&utm_content=directquery-intro\" target=\"_blank\" rel=\"noopener noreferrer\"><img src=\"https://data.atoti.io/notebooks/banners/Discover-Atoti-now.png\" alt=\"Try Atoti\"></a></div>"
   ]
  },
  {
   "cell_type": "markdown",
   "id": "663b2051-11e1-4815-8a2c-fde3d450d07b",
   "metadata": {},
   "source": [
    "## Google BigQuery configuration"
   ]
  },
  {
   "cell_type": "markdown",
   "id": "1db76b03-dbe0-4223-a656-8b7e9e2ff260",
   "metadata": {},
   "source": [
    "### Step 1 — Create role with permissions\n",
    "\n",
    "- Login to Google Cloud console.\n",
    "- Navigate to __IAM & Admin__ > __Roles__.  \n",
    "- Create a role with the following permission for the DirectQuery users:  \n",
    "    - `bigquery.datasets.get`\n",
    "    - `bigquery.jobs.create`\n",
    "    - `bigquery.readsessions.create`\n",
    "    - `bigquery.readsessions.getData`\n",
    "    - `bigquery.readsessions.update`\n",
    "    - `bigquery.routines.get`\n",
    "    - `bigquery.tables.get`\n",
    "    - `bigquery.tables.getData`\n",
    "    - `bigquery.tables.list`\n",
    "\n",
    "⚠️ **Important:** Having trouble pulling your data after setting up your account? Confirm that the above permissions have been set up properly!  \n",
    "\n",
    "<img src=\"https://data.atoti.io/notebooks/direct-query/img/bigquery_permission.png\" />\n",
    "\n",
    "💡 **Note:** For more details, refer to the [Atoti Server documentation](https://docs.activeviam.com/products/atoti/server/latest/docs/directquery/connect_to_external/connect_to_bigquery/)."
   ]
  },
  {
   "cell_type": "markdown",
   "id": "2143280e-d2b0-4da1-b20d-78af65d26753",
   "metadata": {},
   "source": [
    "### Step 2 — Create Service Account\n",
    "\n",
    "* Under **IAM & Admin**, navigate to **Service Accounts**.\n",
    "* Create a service account and assign the role created in Step 1.\n",
    "\n",
    "    <img src=\"https://data.atoti.io/notebooks/direct-query/img/service_account.png\" width=\"700px\"/>  "
   ]
  },
  {
   "cell_type": "markdown",
   "id": "03e75ceb-055a-4986-aa8d-6858422b260a",
   "metadata": {
    "tags": []
   },
   "source": [
    "### Step 3 — Generate API Key \n",
    "\n",
    "- Navigate to the __KEYS__ tab and generate a new key.  \n",
    "\n",
    "    <img src=\"https://data.atoti.io/notebooks/direct-query/img/create_key.png\" />  \n",
    "\n",
    "- Select `JSON` as key type and save the downloaded key to a server folder:  \n",
    "\n",
    "    <img src=\"https://data.atoti.io/notebooks/direct-query/img/json_key.png\" />\n",
    "\n",
    "- Configure environment variable pointing to the JSON key. In this use case, our environment variable is `DQ_GOOGLE_CREDENTIAL`:  \n",
    "\n",
    "    <img src=\"https://data.atoti.io/notebooks/direct-query/img/environment_variable.png\" />  \n",
    "\n",
    "💡 **Note:** Alternatively, we can set up [Application Default Credentials](https://cloud.google.com/docs/authentication/provide-credentials-adc) for authentication.  "
   ]
  },
  {
   "cell_type": "markdown",
   "id": "95e30413-d630-4b1b-a304-d824e9649c3d",
   "metadata": {},
   "source": [
    "## Database set up  \n",
    "\n",
    "To try out this notebook, you can setup the database schema and tables using the [database script](db_schema.sql) in the use case folder.  "
   ]
  },
  {
   "cell_type": "markdown",
   "id": "fcfd6d72-801a-460c-9e1f-4e0843909442",
   "metadata": {},
   "source": [
    "## Atoti Setup"
   ]
  },
  {
   "cell_type": "markdown",
   "id": "8857ebb1-032f-4b69-84e6-b8cf7e431def",
   "metadata": {},
   "source": [
    "We import [Atoti](https://docs.atoti.io/latest/getting_started/installation.html) library and create the [Atoti Session](https://docs.atoti.io/latest/api/atoti.Session.html#atoti.Session) as we always do.  "
   ]
  },
  {
   "cell_type": "code",
   "execution_count": 1,
   "id": "7d97f0ea-5b39-4c60-9a10-1cae5a22616d",
   "metadata": {
    "tags": []
   },
   "outputs": [],
   "source": [
    "import os\n",
    "import atoti as tt"
   ]
  },
  {
   "cell_type": "code",
   "execution_count": 2,
   "id": "3898f076-a031-49b7-a75f-074008d89a26",
   "metadata": {
    "tags": []
   },
   "outputs": [],
   "source": [
    "session = tt.Session.start()"
   ]
  },
  {
   "cell_type": "markdown",
   "id": "9e855ec8-18bb-46fa-8e99-751edafeb94c",
   "metadata": {},
   "source": [
    "## DirectQuery Prerequisites"
   ]
  },
  {
   "cell_type": "markdown",
   "id": "01a8923b-80b3-4bfd-86a0-2d705d4bb805",
   "metadata": {},
   "source": [
    "DirectQuery supports a few [databases](https://docs.atoti.io/latest/reference.html#directquery). For each of these databases, we have to install its respective Python plugin.  \n",
    "- `atoti-directquery-bigquery` : To use DirectQuery on Google BigQuery.\n",
    "- `atoti-directquery-clickhouse` : To use DirectQuery with ClickHouse.\n",
    "- `atoti-directquery-databricks` : To use DirectQuery on Databricks.\n",
    "- `atoti-directquery-mssql` : To use DirectQuery with Microsoft SQL Server.\n",
    "- `atoti-directquery-redshift` : To use DirectQuery on Amazon Redshift.\n",
    "- `atoti-directquery-snowflake` : To use DirectQuery on Snowflake.\n",
    "- `atoti-directquery-synapse` : To use DirectQuery on Azure Synapse Analytics.  \n",
    "\n",
    "In our example, we install the plugin for Google BigQuery. Uncomment the below line to install the plugin if it isn't installed.  \n",
    "\n",
    "⚠️ **Important:** We only support one type of database connection per Atoti session."
   ]
  },
  {
   "cell_type": "code",
   "execution_count": 3,
   "id": "af8780d7-ec54-481a-98d7-4cc9f7e030c1",
   "metadata": {
    "tags": []
   },
   "outputs": [],
   "source": [
    "# !pip install \"atoti[directquery-bigquery]\""
   ]
  },
  {
   "cell_type": "markdown",
   "id": "1d997a63-e2db-48f9-b501-0532c5eabb3d",
   "metadata": {},
   "source": [
    "We will be using two components from the DirectQueryPlugin:\n",
    "- [BigqueryConnectionInfo](https://docs.atoti.io/latest/api/atoti_directquery_bigquery.BigqueryConnectionInfo.html#atoti_directquery_bigquery.BigqueryConnectionInfo): Configure the connection information to BigQuery.\n",
    "- [BigqueryTableOptions](https://docs.atoti.io/latest/api/atoti_directquery_bigquery.BigqueryTableOptions.html#atoti_directquery_bigquery.BigqueryTableOptions): Configure the table options about the external table to create in Atoti.  \n",
    "\n",
    "⚠️ **Important:** Use the corresponding components for different databases if we are using a different one from BigQuery. E.g. we use [`ClickhouseConnectionInfo`](https://docs.atoti.io/latest/api/atoti_directquery_clickhouse.ClickhouseConnectionInfo.html#atoti_directquery_clickhouse.ClickhouseConnectionInfo) and [`ClickhouseTableOptions`](https://docs.atoti.io/latest/api/atoti_directquery_clickhouse.ClickhouseTableOptions.html#atoti_directquery_clickhouse.ClickhouseTableOptions) if we are connecting to [ClickHouse](https://clickhouse.com/)."
   ]
  },
  {
   "cell_type": "markdown",
   "id": "4509d71b-4d1b-4297-b18a-10430b128507",
   "metadata": {},
   "source": [
    "## Connection setup to Google BigQuery"
   ]
  },
  {
   "cell_type": "code",
   "execution_count": 4,
   "id": "f5eb2f90-be60-4332-80d2-1a5cd83147d4",
   "metadata": {
    "tags": []
   },
   "outputs": [],
   "source": [
    "from atoti_directquery_bigquery import ConnectionConfig"
   ]
  },
  {
   "cell_type": "markdown",
   "id": "00b90385-93af-479f-888a-bc0677f73eb2",
   "metadata": {},
   "source": [
    "In the below snippet, we use the environment variable to obtain the path to the [API key generated previous in Step 3](#Step-3-—-Generate-API-Key). Setting the credential path into `BigqueryConnectionInfo`, we can invoke the connection to the external database.  "
   ]
  },
  {
   "cell_type": "code",
   "execution_count": 5,
   "id": "ea50d105-284f-4296-b654-b5465037d634",
   "metadata": {
    "tags": []
   },
   "outputs": [],
   "source": [
    "credential = os.environ[\"DQ_GOOGLE_CREDENTIAL\"]\n",
    "connection_info = ConnectionConfig(credentials=credential)\n",
    "\n",
    "external_database = session.connect_to_external_database(connection_info)"
   ]
  },
  {
   "cell_type": "markdown",
   "id": "8e7f4c10-5dc6-4c53-aeea-ef4864471caf",
   "metadata": {},
   "source": [
    "### Discover External Tables"
   ]
  },
  {
   "cell_type": "markdown",
   "id": "51f3c2ee-c57b-49df-9756-60c96d9b0734",
   "metadata": {
    "tags": []
   },
   "source": [
    "Once connected, we can discover the tables available to us from the external database."
   ]
  },
  {
   "cell_type": "code",
   "execution_count": 6,
   "id": "5e85bd6f-dd6a-4ab8-a2f2-51d7759466de",
   "metadata": {
    "tags": []
   },
   "outputs": [
    {
     "data": {
      "application/json": {
       "bd-project-386413": {
        "tutorial": [
         "PRODUCTS",
         "SALES"
        ],
        "var_demo": [
         "BOOKS",
         "TRADE_PNLS"
        ]
       }
      },
      "text/html": [
       "<ul>\n",
       "<li>BIGQUERY\n",
       "  <ul>\n",
       "  <li>bd-project-386413\n",
       "    <ul>\n",
       "    <li>var_demo\n",
       "      <ol>\n",
       "      <li>BOOKS</li>\n",
       "      <li>TRADE_PNLS</li>\n",
       "      </ol>    </li>\n",
       "    <li>tutorial\n",
       "      <ol>\n",
       "      <li>PRODUCTS</li>\n",
       "      <li>SALES</li>\n",
       "      </ol>    </li>\n",
       "    </ul>\n",
       "  </li>\n",
       "  </ul>\n",
       "</li>\n",
       "</ul>\n"
      ],
      "text/plain": [
       "<atoti.directquery.external_tables.ExternalTables at 0x1312daf50>"
      ]
     },
     "execution_count": 6,
     "metadata": {
      "application/json": {
       "expanded": false,
       "root": "BIGQUERY"
      }
     },
     "output_type": "execute_result"
    }
   ],
   "source": [
    "external_database.tables"
   ]
  },
  {
   "cell_type": "markdown",
   "id": "4187eaef-cae3-44ca-80c1-dd952dd3faab",
   "metadata": {},
   "source": [
    "If the database has many schemas, we can perform a filter to access only the schema that we want."
   ]
  },
  {
   "cell_type": "code",
   "execution_count": 7,
   "id": "63c5fafe-05e1-429e-8f35-9f3f072e34f7",
   "metadata": {
    "tags": []
   },
   "outputs": [
    {
     "data": {
      "application/json": {
       "bd-project-386413": {
        "tutorial": [
         "PRODUCTS",
         "SALES"
        ]
       }
      },
      "text/html": [
       "<ul>\n",
       "<li>BIGQUERY\n",
       "  <ul>\n",
       "  <li>bd-project-386413\n",
       "    <ul>\n",
       "    <li>tutorial\n",
       "      <ol>\n",
       "      <li>PRODUCTS</li>\n",
       "      <li>SALES</li>\n",
       "      </ol>    </li>\n",
       "    </ul>\n",
       "  </li>\n",
       "  </ul>\n",
       "</li>\n",
       "</ul>\n"
      ],
      "text/plain": [
       "<atoti.directquery.external_tables.ExternalTables at 0x1312d9780>"
      ]
     },
     "execution_count": 7,
     "metadata": {
      "application/json": {
       "expanded": false,
       "root": "BIGQUERY"
      }
     },
     "output_type": "execute_result"
    }
   ],
   "source": [
    "external_database.tables._filter(schema_name=\"tutorial\")"
   ]
  },
  {
   "cell_type": "markdown",
   "id": "f1308a2c-a4d2-40e5-9985-7013fa05a9fb",
   "metadata": {},
   "source": [
    "### Discover Table Columns"
   ]
  },
  {
   "cell_type": "markdown",
   "id": "e72119a9-ed38-4d83-a8a5-1fe021b48e5c",
   "metadata": {},
   "source": [
    "If a table name is unique in the database, we can check its structure directly using its name:  "
   ]
  },
  {
   "cell_type": "code",
   "execution_count": 8,
   "id": "f91519b6-a36b-4f0c-b1f0-949b0be22d5f",
   "metadata": {
    "tags": []
   },
   "outputs": [
    {
     "data": {
      "application/json": {
       "DATE": "LocalDate",
       "PRODUCT": "String",
       "QUANTITY": "long",
       "SALE_ID": "String",
       "SHOP": "String",
       "UNIT_PRICE": "double"
      },
      "text/html": [
       "<ul>\n",
       "<li>SALES\n",
       "  <ul>\n",
       "  <li>SALE_ID: String</li>\n",
       "  <li>DATE: LocalDate</li>\n",
       "  <li>SHOP: String</li>\n",
       "  <li>PRODUCT: String</li>\n",
       "  <li>QUANTITY: long</li>\n",
       "  <li>UNIT_PRICE: double</li>\n",
       "  </ul>\n",
       "</li>\n",
       "</ul>\n"
      ],
      "text/plain": [
       "<atoti.directquery.external_table.ExternalTable at 0x1312d96c0>"
      ]
     },
     "execution_count": 8,
     "metadata": {
      "application/json": {
       "expanded": true,
       "root": "SALES"
      }
     },
     "output_type": "execute_result"
    }
   ],
   "source": [
    "external_database.tables[\"SALES\"]"
   ]
  },
  {
   "cell_type": "markdown",
   "id": "1d9ef3fb-85a5-472b-aa12-8a88e3d1e6d9",
   "metadata": {},
   "source": [
    "However, to be precise, it is a good practice to refer to the table using its database, schema and table names. Uncomment and execute the following cells as to try this out."
   ]
  },
  {
   "cell_type": "code",
   "execution_count": 9,
   "id": "247c876c-2b44-4b0f-8bcf-8864350bb3d6",
   "metadata": {
    "tags": []
   },
   "outputs": [],
   "source": [
    "# db_name = \"<database name here>\"\n",
    "# db_schema = \"tutorial\"\n",
    "# table_sales = \"SALES\""
   ]
  },
  {
   "cell_type": "code",
   "execution_count": 10,
   "id": "fbfde589-b458-474d-8665-af7b016598bc",
   "metadata": {
    "tags": []
   },
   "outputs": [],
   "source": [
    "# external_database.tables[db_name, db_schema, table_sales]"
   ]
  },
  {
   "cell_type": "markdown",
   "id": "85d14ebe-eb8a-4216-8564-8330b4b7b0d9",
   "metadata": {},
   "source": [
    "## Add External Table to Atoti"
   ]
  },
  {
   "cell_type": "markdown",
   "id": "8fa1b581-ee16-4730-8ea2-b29fa14ee03a",
   "metadata": {},
   "source": [
    "Since we have connected to the external database and we are able to see its structure, we can add the required tables to the Atoti session.  \n",
    "\n",
    "Using [BigqueryTableOptions](https://docs.atoti.io/latest/api/atoti_directquery_bigquery.BigqueryTableOptions.html#atoti_directquery_bigquery.BigqueryTableOptions), we can define additional options to the table that we will create in Atoti:\n",
    "\n",
    "- `array_conversion`: Converting values spread over multiple columns into array columns.\n",
    "- `clustering_columns`: Columns used for splitting up queries.\n",
    "- `keys`: Keys used to identify unique rows for updating of data.\n",
    "\n",
    "We will only use `keys` and `clustering_columns` in our example."
   ]
  },
  {
   "cell_type": "code",
   "execution_count": 11,
   "id": "7dab34b4-ca6f-4c80-8ba9-f8534f9eae5b",
   "metadata": {
    "tags": []
   },
   "outputs": [],
   "source": [
    "from atoti_directquery_bigquery import TableConfig"
   ]
  },
  {
   "cell_type": "markdown",
   "id": "790b7a07-c762-438a-878e-de3611f39b5c",
   "metadata": {},
   "source": [
    "Similar to how we create keys for Atoti tables, we set the key columns in the `BigqueryTableOptions`. Note that this external table is created in Atoti and the defined keys affects only the data that is accessible in Atoti. It does not change the tables in BigQuery.  \n",
    "\n",
    "To distinguish our Atoti external table from the BigQuery table, we named them differently in our example.  "
   ]
  },
  {
   "cell_type": "code",
   "execution_count": 12,
   "id": "a580d644-94e0-4772-ac94-a9600bc08546",
   "metadata": {
    "tags": []
   },
   "outputs": [],
   "source": [
    "sales_table = session.add_external_table(\n",
    "    external_database.tables[\"SALES\"],\n",
    "    table_name=\"Atoti Sales\",\n",
    "    config=TableConfig(keys=[\"SALE_ID\"], clustering_columns={\"DATE\", \"PRODUCT\"}),\n",
    ")"
   ]
  },
  {
   "cell_type": "markdown",
   "id": "ac9b4de4-60f9-45d9-8b87-e7d0452714ee",
   "metadata": {},
   "source": [
    "To speed up querying, Atoti makes use of [aggregate providers](https://docs.atoti.io/latest/api/atoti.AggregateProvider.html#atoti.AggregateProvider) to pre-aggregates some table columns up to certain levels. Feeding such providers from an external database can result in very large queries to be run on the database. Some databases can have trouble processing such large queries. Therefore, we define [clustering columns](https://docs.activeviam.com/products/atoti/server/latest/docs/directquery/directquery-clustering-fields/) to help split up queries made by DirectQuery to these external database when feeding the aggregate providers.  \n",
    "\n",
    "The `clustering_columns` parameter allows us to define columns to be used for clustering. While our example uses a small dataset and clustering column is not necessary, we demonstrate how it can be used in the snippet above.  "
   ]
  },
  {
   "cell_type": "code",
   "execution_count": 13,
   "id": "561e7c19-28cc-4796-918b-24de800147a7",
   "metadata": {
    "tags": []
   },
   "outputs": [
    {
     "data": {
      "text/html": [
       "<div>\n",
       "<style scoped>\n",
       "    .dataframe tbody tr th:only-of-type {\n",
       "        vertical-align: middle;\n",
       "    }\n",
       "\n",
       "    .dataframe tbody tr th {\n",
       "        vertical-align: top;\n",
       "    }\n",
       "\n",
       "    .dataframe thead th {\n",
       "        text-align: right;\n",
       "    }\n",
       "</style>\n",
       "<table border=\"1\" class=\"dataframe\">\n",
       "  <thead>\n",
       "    <tr style=\"text-align: right;\">\n",
       "      <th></th>\n",
       "      <th>DATE</th>\n",
       "      <th>SHOP</th>\n",
       "      <th>PRODUCT</th>\n",
       "      <th>QUANTITY</th>\n",
       "      <th>UNIT_PRICE</th>\n",
       "    </tr>\n",
       "    <tr>\n",
       "      <th>SALE_ID</th>\n",
       "      <th></th>\n",
       "      <th></th>\n",
       "      <th></th>\n",
       "      <th></th>\n",
       "      <th></th>\n",
       "    </tr>\n",
       "  </thead>\n",
       "  <tbody>\n",
       "    <tr>\n",
       "      <th>S0010</th>\n",
       "      <td>2022-01-31</td>\n",
       "      <td>shop_2</td>\n",
       "      <td>BED_2</td>\n",
       "      <td>3</td>\n",
       "      <td>150.0</td>\n",
       "    </tr>\n",
       "    <tr>\n",
       "      <th>S0007</th>\n",
       "      <td>2022-02-01</td>\n",
       "      <td>shop_5</td>\n",
       "      <td>BED_2</td>\n",
       "      <td>1</td>\n",
       "      <td>150.0</td>\n",
       "    </tr>\n",
       "    <tr>\n",
       "      <th>S0008</th>\n",
       "      <td>2022-01-31</td>\n",
       "      <td>shop_4</td>\n",
       "      <td>BED_2</td>\n",
       "      <td>1</td>\n",
       "      <td>150.0</td>\n",
       "    </tr>\n",
       "    <tr>\n",
       "      <th>S0009</th>\n",
       "      <td>2022-01-31</td>\n",
       "      <td>shop_3</td>\n",
       "      <td>BED_2</td>\n",
       "      <td>1</td>\n",
       "      <td>150.0</td>\n",
       "    </tr>\n",
       "    <tr>\n",
       "      <th>S0019</th>\n",
       "      <td>2022-02-02</td>\n",
       "      <td>shop_3</td>\n",
       "      <td>HOO_5</td>\n",
       "      <td>1</td>\n",
       "      <td>48.0</td>\n",
       "    </tr>\n",
       "  </tbody>\n",
       "</table>\n",
       "</div>"
      ],
      "text/plain": [
       "              DATE    SHOP PRODUCT  QUANTITY  UNIT_PRICE\n",
       "SALE_ID                                                 \n",
       "S0010   2022-01-31  shop_2   BED_2         3       150.0\n",
       "S0007   2022-02-01  shop_5   BED_2         1       150.0\n",
       "S0008   2022-01-31  shop_4   BED_2         1       150.0\n",
       "S0009   2022-01-31  shop_3   BED_2         1       150.0\n",
       "S0019   2022-02-02  shop_3   HOO_5         1        48.0"
      ]
     },
     "execution_count": 13,
     "metadata": {},
     "output_type": "execute_result"
    }
   ],
   "source": [
    "sales_table.head()"
   ]
  },
  {
   "cell_type": "markdown",
   "id": "dc44214e-743e-4937-9269-61498986355b",
   "metadata": {},
   "source": [
    "We can add multiple tables."
   ]
  },
  {
   "cell_type": "code",
   "execution_count": 14,
   "id": "f282f67a-dfa9-4ba1-aef7-779ec734fe50",
   "metadata": {
    "tags": []
   },
   "outputs": [
    {
     "data": {
      "text/html": [
       "<div>\n",
       "<style scoped>\n",
       "    .dataframe tbody tr th:only-of-type {\n",
       "        vertical-align: middle;\n",
       "    }\n",
       "\n",
       "    .dataframe tbody tr th {\n",
       "        vertical-align: top;\n",
       "    }\n",
       "\n",
       "    .dataframe thead th {\n",
       "        text-align: right;\n",
       "    }\n",
       "</style>\n",
       "<table border=\"1\" class=\"dataframe\">\n",
       "  <thead>\n",
       "    <tr style=\"text-align: right;\">\n",
       "      <th></th>\n",
       "      <th>CATEGORY</th>\n",
       "      <th>SUB_CATEGORY</th>\n",
       "      <th>SIZE</th>\n",
       "      <th>PURCHASE_PRICE</th>\n",
       "      <th>COLOR</th>\n",
       "      <th>BRAND</th>\n",
       "    </tr>\n",
       "    <tr>\n",
       "      <th>PRODUCT_ID</th>\n",
       "      <th></th>\n",
       "      <th></th>\n",
       "      <th></th>\n",
       "      <th></th>\n",
       "      <th></th>\n",
       "      <th></th>\n",
       "    </tr>\n",
       "  </thead>\n",
       "  <tbody>\n",
       "    <tr>\n",
       "      <th>BED_2</th>\n",
       "      <td>Furniture</td>\n",
       "      <td>Bed</td>\n",
       "      <td>Single</td>\n",
       "      <td>127.0</td>\n",
       "      <td>red</td>\n",
       "      <td>Mega</td>\n",
       "    </tr>\n",
       "    <tr>\n",
       "      <th>TAB_1</th>\n",
       "      <td>Furniture</td>\n",
       "      <td>Table</td>\n",
       "      <td>2m40</td>\n",
       "      <td>280.0</td>\n",
       "      <td>white</td>\n",
       "      <td>Mega</td>\n",
       "    </tr>\n",
       "    <tr>\n",
       "      <th>TAB_0</th>\n",
       "      <td>Furniture</td>\n",
       "      <td>Table</td>\n",
       "      <td>1m80</td>\n",
       "      <td>190.0</td>\n",
       "      <td>black</td>\n",
       "      <td>Basic</td>\n",
       "    </tr>\n",
       "    <tr>\n",
       "      <th>HOO_5</th>\n",
       "      <td>Cloth</td>\n",
       "      <td>Hoodie</td>\n",
       "      <td>M</td>\n",
       "      <td>38.0</td>\n",
       "      <td>red</td>\n",
       "      <td>Mega</td>\n",
       "    </tr>\n",
       "    <tr>\n",
       "      <th>TSH_3</th>\n",
       "      <td>Cloth</td>\n",
       "      <td>Tshirt</td>\n",
       "      <td>M</td>\n",
       "      <td>19.0</td>\n",
       "      <td>brown</td>\n",
       "      <td>Over</td>\n",
       "    </tr>\n",
       "  </tbody>\n",
       "</table>\n",
       "</div>"
      ],
      "text/plain": [
       "             CATEGORY SUB_CATEGORY    SIZE  PURCHASE_PRICE  COLOR  BRAND\n",
       "PRODUCT_ID                                                              \n",
       "BED_2       Furniture          Bed  Single           127.0    red   Mega\n",
       "TAB_1       Furniture        Table    2m40           280.0  white   Mega\n",
       "TAB_0       Furniture        Table    1m80           190.0  black  Basic\n",
       "HOO_5           Cloth       Hoodie       M            38.0    red   Mega\n",
       "TSH_3           Cloth       Tshirt       M            19.0  brown   Over"
      ]
     },
     "execution_count": 14,
     "metadata": {},
     "output_type": "execute_result"
    }
   ],
   "source": [
    "products_table = session.add_external_table(\n",
    "    external_database.tables[\"PRODUCTS\"],\n",
    "    table_name=\"Atoti Product\",\n",
    "    config=TableConfig(keys=[\"PRODUCT_ID\"]),\n",
    ")\n",
    "\n",
    "products_table.head()"
   ]
  },
  {
   "cell_type": "markdown",
   "id": "57349699-117a-4cf9-bb95-5910f18d5187",
   "metadata": {},
   "source": [
    "Once we have created our external tables, the rest is _simply the usual stuff for Atoti_."
   ]
  },
  {
   "cell_type": "markdown",
   "id": "564a8bad-9c60-4c7a-b94e-918b5112cfdb",
   "metadata": {
    "tags": []
   },
   "source": [
    "## Atoti Cube Setup"
   ]
  },
  {
   "cell_type": "markdown",
   "id": "2f24568b-71da-4341-a716-f8abdbdce17d",
   "metadata": {
    "tags": []
   },
   "source": [
    "From this section onwards, the coding remains the same regardless of the underlying data source.  \n",
    "\n",
    "As we have always done, we join the tables and create the cube."
   ]
  },
  {
   "cell_type": "code",
   "execution_count": 15,
   "id": "93f6c667-27b6-4e2e-9685-ef275235622c",
   "metadata": {
    "tags": []
   },
   "outputs": [
    {
     "data": {
      "image/png": "[encoded data removed]",
      "text/plain": [
       "erDiagram\n",
       "  \"Atoti Sales\" {\n",
       "    _ String PK \"SALE_ID\"\n",
       "    _ LocalDate \"DATE\"\n",
       "    _ String \"SHOP\"\n",
       "    _ String \"PRODUCT\"\n",
       "    _ long \"QUANTITY\"\n",
       "    _ double \"UNIT_PRICE\"\n",
       "  }\n",
       "  \"Atoti Product\" {\n",
       "    _ String PK \"PRODUCT_ID\"\n",
       "    _ String \"CATEGORY\"\n",
       "    _ String \"SUB_CATEGORY\"\n",
       "    _ String \"SIZE\"\n",
       "    _ double \"PURCHASE_PRICE\"\n",
       "    _ String \"COLOR\"\n",
       "    _ String \"BRAND\"\n",
       "  }\n",
       "  \"Atoti Sales\" }o--o| \"Atoti Product\" : \"`PRODUCT` == `PRODUCT_ID`\""
      ]
     },
     "execution_count": 15,
     "metadata": {},
     "output_type": "execute_result"
    }
   ],
   "source": [
    "sales_table.join(products_table, sales_table[\"PRODUCT\"] == products_table[\"PRODUCT_ID\"])\n",
    "cube = session.create_cube(sales_table)\n",
    "session.tables.schema"
   ]
  },
  {
   "cell_type": "code",
   "execution_count": 16,
   "id": "4ee29cb6-1f57-43f2-b6e7-ad2e72d8abd4",
   "metadata": {
    "atoti": {
     "widget": {
      "mapping": {
       "columns": [
        "ALL_MEASURES"
       ],
       "measures": [
        "[Measures].[QUANTITY.SUM]"
       ],
       "rows": [
        "[Atoti Sales].[DATE].[DATE]",
        "[Atoti Sales].[SHOP].[SHOP] => [Atoti Product].[BRAND].[BRAND]"
       ]
      },
      "name": "Quantity sold across dates by shops",
      "query": {
       "mdx": "SELECT NON EMPTY {[Measures].[QUANTITY.SUM]} ON COLUMNS, NON EMPTY Hierarchize(Union(Crossjoin(Hierarchize(Descendants({[Atoti Sales].[DATE].[AllMember]}, 1, SELF_AND_BEFORE)), Hierarchize(Descendants({[Atoti Sales].[SHOP].[AllMember]}, 1, SELF_AND_BEFORE)), [Atoti Product].[BRAND].DefaultMember), Crossjoin([Atoti Sales].[DATE].[AllMember].[2022-01-31], [Atoti Sales].[SHOP].[AllMember].[shop_2], Hierarchize(Descendants({[Atoti Product].[BRAND].[AllMember]}, 1, SELF_AND_BEFORE))))) ON ROWS FROM [Atoti Sales] CELL PROPERTIES VALUE, FORMATTED_VALUE, BACK_COLOR, FORE_COLOR, FONT_FLAGS",
       "updateMode": "once"
      },
      "serverKey": "default",
      "widgetKey": "pivot-table"
     }
    },
    "tags": []
   },
   "outputs": [
    {
     "data": {
      "application/vnd.atoti.widget.v0+json": {
       "sessionId": "1728574164_948010",
       "sessionUrl": "http://localhost:58438",
       "widgetCreationCode": "session.widget"
      },
      "text/html": [
       "<img height=\"352\" width=\"1000\" src=\"data:image/png;base64,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\" />"
      ],
      "text/plain": [
       "Open the notebook in JupyterLab with the Atoti JupyterLab extension enabled to build this widget."
      ]
     },
     "metadata": {},
     "output_type": "display_data"
    }
   ],
   "source": [
    "session.widget"
   ]
  },
  {
   "cell_type": "markdown",
   "id": "623a5cce-fee4-489b-9250-c5dd542fb708",
   "metadata": {},
   "source": [
    "### Cube manipulation"
   ]
  },
  {
   "cell_type": "markdown",
   "id": "ad616201-0cc7-4012-8e54-66a99c9c1a23",
   "metadata": {},
   "source": [
    "We perform hierarchy manipulation, level ordering and measure creations the same way we always do in Atoti."
   ]
  },
  {
   "cell_type": "code",
   "execution_count": 17,
   "id": "27bebe22-10e5-4b67-9c18-4bb478fef70b",
   "metadata": {
    "tags": []
   },
   "outputs": [],
   "source": [
    "h, l, m = cube.hierarchies, cube.levels, cube.measures"
   ]
  },
  {
   "cell_type": "code",
   "execution_count": 18,
   "id": "fe4aea14-fc25-4a2d-9401-0ce01df385e4",
   "metadata": {
    "tags": []
   },
   "outputs": [],
   "source": [
    "h[\"CATEGORY\"] = [l[\"CATEGORY\"], l[\"SUB_CATEGORY\"]]\n",
    "del h[\"SUB_CATEGORY\"]"
   ]
  },
  {
   "cell_type": "code",
   "execution_count": 19,
   "id": "efc5d476-6465-4ccf-93d3-9f5dfe19df3c",
   "metadata": {
    "tags": []
   },
   "outputs": [
    {
     "data": {
      "application/json": {
       "Atoti Product": {
        "BRAND": [
         "BRAND"
        ],
        "CATEGORY": [
         "CATEGORY",
         "SUB_CATEGORY"
        ],
        "COLOR": [
         "COLOR"
        ],
        "SIZE": [
         "SIZE"
        ]
       },
       "Atoti Sales": {
        "DATE": [
         "DATE"
        ],
        "PRODUCT": [
         "PRODUCT"
        ],
        "SALE_ID": [
         "SALE_ID"
        ],
        "SHOP": [
         "SHOP"
        ]
       }
      },
      "text/html": [
       "<ul>\n",
       "<li>Dimensions\n",
       "  <ul>\n",
       "  <li>Atoti Product\n",
       "    <ul>\n",
       "    <li>BRAND\n",
       "      <ol>\n",
       "      <li>BRAND</li>\n",
       "      </ol>    </li>\n",
       "    <li>CATEGORY\n",
       "      <ol>\n",
       "      <li>CATEGORY</li>\n",
       "      <li>SUB_CATEGORY</li>\n",
       "      </ol>    </li>\n",
       "    <li>COLOR\n",
       "      <ol>\n",
       "      <li>COLOR</li>\n",
       "      </ol>    </li>\n",
       "    <li>SIZE\n",
       "      <ol>\n",
       "      <li>SIZE</li>\n",
       "      </ol>    </li>\n",
       "    </ul>\n",
       "  </li>\n",
       "  <li>Atoti Sales\n",
       "    <ul>\n",
       "    <li>DATE\n",
       "      <ol>\n",
       "      <li>DATE</li>\n",
       "      </ol>    </li>\n",
       "    <li>PRODUCT\n",
       "      <ol>\n",
       "      <li>PRODUCT</li>\n",
       "      </ol>    </li>\n",
       "    <li>SALE_ID\n",
       "      <ol>\n",
       "      <li>SALE_ID</li>\n",
       "      </ol>    </li>\n",
       "    <li>SHOP\n",
       "      <ol>\n",
       "      <li>SHOP</li>\n",
       "      </ol>    </li>\n",
       "    </ul>\n",
       "  </li>\n",
       "  </ul>\n",
       "</li>\n",
       "</ul>\n"
      ],
      "text/plain": [
       "{('Atoti Product', 'SIZE'): <atoti.hierarchy.Hierarchy object at 0x13133a8c0>, ('Atoti Product', 'BRAND'): <atoti.hierarchy.Hierarchy object at 0x1312d90f0>, ('Atoti Product', 'COLOR'): <atoti.hierarchy.Hierarchy object at 0x131386260>, ('Atoti Product', 'CATEGORY'): <atoti.hierarchy.Hierarchy object at 0x131385fc0>, ('Atoti Sales', 'SALE_ID'): <atoti.hierarchy.Hierarchy object at 0x131385cc0>, ('Atoti Sales', 'DATE'): <atoti.hierarchy.Hierarchy object at 0x131385f90>, ('Atoti Sales', 'SHOP'): <atoti.hierarchy.Hierarchy object at 0x131385bd0>, ('Atoti Sales', 'PRODUCT'): <atoti.hierarchy.Hierarchy object at 0x131385c00>}"
      ]
     },
     "execution_count": 19,
     "metadata": {
      "application/json": {
       "expanded": true,
       "root": "Dimensions"
      }
     },
     "output_type": "execute_result"
    }
   ],
   "source": [
    "h"
   ]
  },
  {
   "cell_type": "code",
   "execution_count": 20,
   "id": "fe924c60-0c9d-431f-ac72-297db49d8abc",
   "metadata": {
    "tags": []
   },
   "outputs": [],
   "source": [
    "l[\"DATE\"].order = tt.NaturalOrder(ascending=False)"
   ]
  },
  {
   "cell_type": "code",
   "execution_count": 21,
   "id": "343686bd-182e-4de1-b681-8bc6c04b791d",
   "metadata": {
    "tags": []
   },
   "outputs": [],
   "source": [
    "m[\"PURCHASE_PRICE.SUM\"] = tt.agg.sum(products_table[\"PURCHASE_PRICE\"])\n",
    "m[\"PROFIT\"] = tt.agg.sum_product(\n",
    "    m[\"UNIT_PRICE.SUM\"] - m[\"PURCHASE_PRICE.SUM\"],\n",
    "    m[\"QUANTITY.SUM\"],\n",
    "    scope=tt.OriginScope(levels={l[\"SALE_ID\"], l[\"PRODUCT\"]}),\n",
    ")"
   ]
  },
  {
   "cell_type": "markdown",
   "id": "595db925-bf0b-4828-87fb-ff26c717d905",
   "metadata": {},
   "source": [
    "Since we have a join from `sales_table` to `products_table` using the column values of `sales_table.PRODUCT` and `products_table.PRODUCT_ID`, the resultant level is the name of the column from the _from_ table. Therefore, we have the level `PRODUCT` but not `PRODUCT_ID` for our scope in the code snippet above."
   ]
  },
  {
   "cell_type": "code",
   "execution_count": 22,
   "id": "a5dd754e-6d52-43b0-9a18-e7aa7fd42e0b",
   "metadata": {
    "atoti": {
     "widget": {
      "mapping": {
       "columns": [
        "ALL_MEASURES"
       ],
       "measures": [
        "[Measures].[UNIT_PRICE.SUM]",
        "[Measures].[PURCHASE_PRICE.SUM]",
        "[Measures].[QUANTITY.SUM]",
        "[Measures].[PROFIT]"
       ],
       "rows": [
        "[Atoti Sales].[DATE].[DATE]",
        "[Atoti Product].[CATEGORY].[CATEGORY] => [Atoti Product].[CATEGORY].[SUB_CATEGORY]"
       ]
      },
      "name": "Profit by Product Categories across dates",
      "query": {
       "mdx": "SELECT NON EMPTY Hierarchize(Union(Crossjoin(Hierarchize(Descendants({[Atoti Sales].[DATE].[AllMember]}, 1, SELF_AND_BEFORE)), Hierarchize(Descendants({[Atoti Product].[CATEGORY].[AllMember]}, 1, SELF_AND_BEFORE))), Crossjoin([Atoti Sales].[DATE].[AllMember].[2022-02-03], Descendants({[Atoti Product].[CATEGORY].[AllMember].[Cloth]}, [Atoti Product].[CATEGORY].[SUB_CATEGORY])))) ON ROWS, NON EMPTY {[Measures].[UNIT_PRICE.SUM], [Measures].[PURCHASE_PRICE.SUM], [Measures].[QUANTITY.SUM], [Measures].[PROFIT]} ON COLUMNS FROM [Atoti Sales] CELL PROPERTIES VALUE, FORMATTED_VALUE, BACK_COLOR, FORE_COLOR, FONT_FLAGS",
       "updateMode": "once"
      },
      "serverKey": "default",
      "widgetKey": "pivot-table"
     }
    },
    "tags": []
   },
   "outputs": [
    {
     "data": {
      "application/vnd.atoti.widget.v0+json": {
       "sessionId": "1728574164_948010",
       "sessionUrl": "http://localhost:58438",
       "widgetCreationCode": "session.widget"
      },
      "text/html": [
       "<img height=\"352\" width=\"1000\" src=\"data:image/png;base64,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\" />"
      ],
      "text/plain": [
       "Open the notebook in JupyterLab with the Atoti JupyterLab extension enabled to build this widget."
      ]
     },
     "metadata": {},
     "output_type": "display_data"
    }
   ],
   "source": [
    "session.widget"
   ]
  },
  {
   "cell_type": "markdown",
   "id": "08ceaeb7-d0ed-42b5-899e-f4fb4fdcf1ae",
   "metadata": {},
   "source": [
    "## Cost and performance saving with Aggregate Provider"
   ]
  },
  {
   "cell_type": "markdown",
   "id": "b00d6de1-5324-43b0-acb0-c682977c2cf0",
   "metadata": {},
   "source": [
    "Let's take a quick look at our query performance in the current setup."
   ]
  },
  {
   "cell_type": "code",
   "execution_count": 23,
   "id": "37320670-66e8-40c1-9402-26775ed5817c",
   "metadata": {},
   "outputs": [
    {
     "name": "stdout",
     "output_type": "stream",
     "text": [
      "CPU times: user 44.3 ms, sys: 4.97 ms, total: 49.3 ms\n",
      "Wall time: 2.21 s\n"
     ]
    },
    {
     "data": {
      "application/vnd.atoti.convert-mdx-query-result-to-widget.v0+json": {
       "mdx": "SELECT {[Measures].[QUANTITY.SUM], [Measures].[PROFIT]} ON COLUMNS, NON EMPTY Crossjoin(Hierarchize(Descendants({[Atoti Sales].[DATE].[ALL].[AllMember]}, 1, SELF_AND_BEFORE)), Hierarchize(Descendants({[Atoti Sales].[PRODUCT].[ALL].[AllMember]}, 1, SELF_AND_BEFORE)), Hierarchize(Descendants({[Atoti Sales].[SALE_ID].[ALL].[AllMember]}, 1, SELF_AND_BEFORE))) ON ROWS FROM [Atoti Sales]",
       "sessionId": "1728574164_948010",
       "widgetCreationCode": "session.widget"
      },
      "text/html": [
       "<div>\n",
       "<style scoped>\n",
       "    .dataframe tbody tr th:only-of-type {\n",
       "        vertical-align: middle;\n",
       "    }\n",
       "\n",
       "    .dataframe tbody tr th {\n",
       "        vertical-align: top;\n",
       "    }\n",
       "\n",
       "    .dataframe thead th {\n",
       "        text-align: right;\n",
       "    }\n",
       "</style>\n",
       "<table border=\"1\" class=\"dataframe\">\n",
       "  <thead>\n",
       "    <tr style=\"text-align: right;\">\n",
       "      <th></th>\n",
       "      <th></th>\n",
       "      <th></th>\n",
       "      <th>QUANTITY.SUM</th>\n",
       "      <th>PROFIT</th>\n",
       "    </tr>\n",
       "    <tr>\n",
       "      <th>DATE</th>\n",
       "      <th>PRODUCT</th>\n",
       "      <th>SALE_ID</th>\n",
       "      <th></th>\n",
       "      <th></th>\n",
       "    </tr>\n",
       "  </thead>\n",
       "  <tbody>\n",
       "    <tr>\n",
       "      <th rowspan=\"2\" valign=\"top\">2022-02-04</th>\n",
       "      <th>HOO_5</th>\n",
       "      <th>S0017</th>\n",
       "      <td>1</td>\n",
       "      <td>10.00</td>\n",
       "    </tr>\n",
       "    <tr>\n",
       "      <th>TAB_0</th>\n",
       "      <th>S0000</th>\n",
       "      <td>1</td>\n",
       "      <td>20.00</td>\n",
       "    </tr>\n",
       "    <tr>\n",
       "      <th rowspan=\"4\" valign=\"top\">2022-02-03</th>\n",
       "      <th>HOO_5</th>\n",
       "      <th>S0018</th>\n",
       "      <td>1</td>\n",
       "      <td>10.00</td>\n",
       "    </tr>\n",
       "    <tr>\n",
       "      <th>TAB_0</th>\n",
       "      <th>S0001</th>\n",
       "      <td>1</td>\n",
       "      <td>20.00</td>\n",
       "    </tr>\n",
       "    <tr>\n",
       "      <th>TAB_1</th>\n",
       "      <th>S0004</th>\n",
       "      <td>1</td>\n",
       "      <td>20.00</td>\n",
       "    </tr>\n",
       "    <tr>\n",
       "      <th>TSH_3</th>\n",
       "      <th>S0011</th>\n",
       "      <td>1</td>\n",
       "      <td>3.00</td>\n",
       "    </tr>\n",
       "    <tr>\n",
       "      <th rowspan=\"5\" valign=\"top\">2022-02-02</th>\n",
       "      <th>HOO_5</th>\n",
       "      <th>S0019</th>\n",
       "      <td>1</td>\n",
       "      <td>10.00</td>\n",
       "    </tr>\n",
       "    <tr>\n",
       "      <th>TAB_0</th>\n",
       "      <th>S0002</th>\n",
       "      <td>1</td>\n",
       "      <td>20.00</td>\n",
       "    </tr>\n",
       "    <tr>\n",
       "      <th>TAB_1</th>\n",
       "      <th>S0005</th>\n",
       "      <td>1</td>\n",
       "      <td>20.00</td>\n",
       "    </tr>\n",
       "    <tr>\n",
       "      <th>TSH_3</th>\n",
       "      <th>S0012</th>\n",
       "      <td>1</td>\n",
       "      <td>3.00</td>\n",
       "    </tr>\n",
       "    <tr>\n",
       "      <th>TSH_4</th>\n",
       "      <th>S0014</th>\n",
       "      <td>1</td>\n",
       "      <td>4.00</td>\n",
       "    </tr>\n",
       "    <tr>\n",
       "      <th rowspan=\"5\" valign=\"top\">2022-02-01</th>\n",
       "      <th>BED_2</th>\n",
       "      <th>S0007</th>\n",
       "      <td>1</td>\n",
       "      <td>23.00</td>\n",
       "    </tr>\n",
       "    <tr>\n",
       "      <th>TAB_0</th>\n",
       "      <th>S0003</th>\n",
       "      <td>1</td>\n",
       "      <td>20.00</td>\n",
       "    </tr>\n",
       "    <tr>\n",
       "      <th>TAB_1</th>\n",
       "      <th>S0006</th>\n",
       "      <td>2</td>\n",
       "      <td>40.00</td>\n",
       "    </tr>\n",
       "    <tr>\n",
       "      <th>TSH_3</th>\n",
       "      <th>S0013</th>\n",
       "      <td>1</td>\n",
       "      <td>3.00</td>\n",
       "    </tr>\n",
       "    <tr>\n",
       "      <th>TSH_4</th>\n",
       "      <th>S0015</th>\n",
       "      <td>2</td>\n",
       "      <td>8.00</td>\n",
       "    </tr>\n",
       "    <tr>\n",
       "      <th rowspan=\"4\" valign=\"top\">2022-01-31</th>\n",
       "      <th rowspan=\"3\" valign=\"top\">BED_2</th>\n",
       "      <th>S0008</th>\n",
       "      <td>1</td>\n",
       "      <td>23.00</td>\n",
       "    </tr>\n",
       "    <tr>\n",
       "      <th>S0009</th>\n",
       "      <td>1</td>\n",
       "      <td>23.00</td>\n",
       "    </tr>\n",
       "    <tr>\n",
       "      <th>S0010</th>\n",
       "      <td>3</td>\n",
       "      <td>69.00</td>\n",
       "    </tr>\n",
       "    <tr>\n",
       "      <th>TSH_4</th>\n",
       "      <th>S0016</th>\n",
       "      <td>2</td>\n",
       "      <td>8.00</td>\n",
       "    </tr>\n",
       "  </tbody>\n",
       "</table>\n",
       "</div>"
      ],
      "text/plain": [
       "                           QUANTITY.SUM PROFIT\n",
       "DATE       PRODUCT SALE_ID                    \n",
       "2022-02-04 HOO_5   S0017              1  10.00\n",
       "           TAB_0   S0000              1  20.00\n",
       "2022-02-03 HOO_5   S0018              1  10.00\n",
       "           TAB_0   S0001              1  20.00\n",
       "           TAB_1   S0004              1  20.00\n",
       "           TSH_3   S0011              1   3.00\n",
       "2022-02-02 HOO_5   S0019              1  10.00\n",
       "           TAB_0   S0002              1  20.00\n",
       "           TAB_1   S0005              1  20.00\n",
       "           TSH_3   S0012              1   3.00\n",
       "           TSH_4   S0014              1   4.00\n",
       "2022-02-01 BED_2   S0007              1  23.00\n",
       "           TAB_0   S0003              1  20.00\n",
       "           TAB_1   S0006              2  40.00\n",
       "           TSH_3   S0013              1   3.00\n",
       "           TSH_4   S0015              2   8.00\n",
       "2022-01-31 BED_2   S0008              1  23.00\n",
       "                   S0009              1  23.00\n",
       "                   S0010              3  69.00\n",
       "           TSH_4   S0016              2   8.00"
      ]
     },
     "execution_count": 23,
     "metadata": {},
     "output_type": "execute_result"
    }
   ],
   "source": [
    "%%time\n",
    "\n",
    "cube.query(\n",
    "    m[\"QUANTITY.SUM\"], m[\"PROFIT\"], levels=[l[\"DATE\"], l[\"PRODUCT\"], l[\"SALE_ID\"]]\n",
    ")"
   ]
  },
  {
   "cell_type": "code",
   "execution_count": 24,
   "id": "41a42190-2831-458d-9679-aa942dae9de0",
   "metadata": {},
   "outputs": [
    {
     "name": "stdout",
     "output_type": "stream",
     "text": [
      "CPU times: user 18.6 ms, sys: 4.7 ms, total: 23.3 ms\n",
      "Wall time: 2.07 s\n"
     ]
    },
    {
     "data": {
      "application/vnd.atoti.convert-mdx-query-result-to-widget.v0+json": {
       "mdx": "SELECT {[Measures].[PROFIT]} ON COLUMNS, NON EMPTY Crossjoin(Hierarchize(Descendants({[Atoti Sales].[DATE].[ALL].[AllMember]}, 1, SELF_AND_BEFORE)), Hierarchize(Descendants({[Atoti Product].[CATEGORY].[ALL].[AllMember]}, 2, SELF_AND_BEFORE))) ON ROWS FROM [Atoti Sales]",
       "sessionId": "1728574164_948010",
       "widgetCreationCode": "session.widget"
      },
      "text/html": [
       "<div>\n",
       "<style scoped>\n",
       "    .dataframe tbody tr th:only-of-type {\n",
       "        vertical-align: middle;\n",
       "    }\n",
       "\n",
       "    .dataframe tbody tr th {\n",
       "        vertical-align: top;\n",
       "    }\n",
       "\n",
       "    .dataframe thead th {\n",
       "        text-align: right;\n",
       "    }\n",
       "</style>\n",
       "<table border=\"1\" class=\"dataframe\">\n",
       "  <thead>\n",
       "    <tr style=\"text-align: right;\">\n",
       "      <th></th>\n",
       "      <th></th>\n",
       "      <th></th>\n",
       "      <th>PROFIT</th>\n",
       "    </tr>\n",
       "    <tr>\n",
       "      <th>DATE</th>\n",
       "      <th>CATEGORY</th>\n",
       "      <th>SUB_CATEGORY</th>\n",
       "      <th></th>\n",
       "    </tr>\n",
       "  </thead>\n",
       "  <tbody>\n",
       "    <tr>\n",
       "      <th rowspan=\"2\" valign=\"top\">2022-02-04</th>\n",
       "      <th>Cloth</th>\n",
       "      <th>Hoodie</th>\n",
       "      <td>10.00</td>\n",
       "    </tr>\n",
       "    <tr>\n",
       "      <th>Furniture</th>\n",
       "      <th>Table</th>\n",
       "      <td>20.00</td>\n",
       "    </tr>\n",
       "    <tr>\n",
       "      <th rowspan=\"3\" valign=\"top\">2022-02-03</th>\n",
       "      <th rowspan=\"2\" valign=\"top\">Cloth</th>\n",
       "      <th>Hoodie</th>\n",
       "      <td>10.00</td>\n",
       "    </tr>\n",
       "    <tr>\n",
       "      <th>Tshirt</th>\n",
       "      <td>3.00</td>\n",
       "    </tr>\n",
       "    <tr>\n",
       "      <th>Furniture</th>\n",
       "      <th>Table</th>\n",
       "      <td>40.00</td>\n",
       "    </tr>\n",
       "    <tr>\n",
       "      <th rowspan=\"3\" valign=\"top\">2022-02-02</th>\n",
       "      <th rowspan=\"2\" valign=\"top\">Cloth</th>\n",
       "      <th>Hoodie</th>\n",
       "      <td>10.00</td>\n",
       "    </tr>\n",
       "    <tr>\n",
       "      <th>Tshirt</th>\n",
       "      <td>7.00</td>\n",
       "    </tr>\n",
       "    <tr>\n",
       "      <th>Furniture</th>\n",
       "      <th>Table</th>\n",
       "      <td>40.00</td>\n",
       "    </tr>\n",
       "    <tr>\n",
       "      <th rowspan=\"3\" valign=\"top\">2022-02-01</th>\n",
       "      <th>Cloth</th>\n",
       "      <th>Tshirt</th>\n",
       "      <td>11.00</td>\n",
       "    </tr>\n",
       "    <tr>\n",
       "      <th rowspan=\"2\" valign=\"top\">Furniture</th>\n",
       "      <th>Bed</th>\n",
       "      <td>23.00</td>\n",
       "    </tr>\n",
       "    <tr>\n",
       "      <th>Table</th>\n",
       "      <td>60.00</td>\n",
       "    </tr>\n",
       "    <tr>\n",
       "      <th rowspan=\"2\" valign=\"top\">2022-01-31</th>\n",
       "      <th>Cloth</th>\n",
       "      <th>Tshirt</th>\n",
       "      <td>8.00</td>\n",
       "    </tr>\n",
       "    <tr>\n",
       "      <th>Furniture</th>\n",
       "      <th>Bed</th>\n",
       "      <td>115.00</td>\n",
       "    </tr>\n",
       "  </tbody>\n",
       "</table>\n",
       "</div>"
      ],
      "text/plain": [
       "                                   PROFIT\n",
       "DATE       CATEGORY  SUB_CATEGORY        \n",
       "2022-02-04 Cloth     Hoodie         10.00\n",
       "           Furniture Table          20.00\n",
       "2022-02-03 Cloth     Hoodie         10.00\n",
       "                     Tshirt          3.00\n",
       "           Furniture Table          40.00\n",
       "2022-02-02 Cloth     Hoodie         10.00\n",
       "                     Tshirt          7.00\n",
       "           Furniture Table          40.00\n",
       "2022-02-01 Cloth     Tshirt         11.00\n",
       "           Furniture Bed            23.00\n",
       "                     Table          60.00\n",
       "2022-01-31 Cloth     Tshirt          8.00\n",
       "           Furniture Bed           115.00"
      ]
     },
     "execution_count": 24,
     "metadata": {},
     "output_type": "execute_result"
    }
   ],
   "source": [
    "%%time\n",
    "\n",
    "cube.query(m[\"PROFIT\"], levels=[l[\"DATE\"], l[\"SUB_CATEGORY\"]])"
   ]
  },
  {
   "cell_type": "markdown",
   "id": "ec655a71-8eec-42ae-9dd5-3fa7bbf0f782",
   "metadata": {},
   "source": [
    "It takes approximately `3s` to return the query (YMMV)."
   ]
  },
  {
   "cell_type": "markdown",
   "id": "409bcc8e-c3e4-4592-a6ee-c54d41f97719",
   "metadata": {},
   "source": [
    "To speed up our querying, we make use of the [aggregate provider](https://docs.atoti.io/latest/api/atoti.AggregateProvider.html#atoti.AggregateProvider) to store intermediate aggregates in memory. If a step of a query uses a subset of the aggregate provider's levels and measures, the provider will speed up the query.  \n",
    "\n",
    "Since data is cached in memory, we will __not__ access BigQuery when a subset of these are queried.  "
   ]
  },
  {
   "cell_type": "code",
   "execution_count": 25,
   "id": "0f33a62c-d66d-4e3a-997d-ae325e9276ec",
   "metadata": {
    "tags": []
   },
   "outputs": [],
   "source": [
    "cube.aggregate_providers.update(\n",
    "    {\n",
    "        \"Products provider\": tt.AggregateProvider(\n",
    "            key=\"bitmap\",\n",
    "            levels=[l[\"DATE\"], l[\"PRODUCT\"], l[\"SALE_ID\"]],\n",
    "            measures=[m[\"QUANTITY.SUM\"], m[\"PURCHASE_PRICE.SUM\"], m[\"UNIT_PRICE.SUM\"]],\n",
    "            partitioning=\"hash16(PRODUCT)\",\n",
    "        )\n",
    "    }\n",
    ")"
   ]
  },
  {
   "cell_type": "markdown",
   "id": "4817dae9-0dbb-4c91-95bc-38a1320102ae",
   "metadata": {},
   "source": [
    "⚠️ **Important:** We can only use store aggregated measures supporting disaggregation can be used in aggregate provider, e.g. `tt.agg.sum` or `tt.agg.mean` on table columns.\n",
    "\n",
    "`m[\"PROFIT\"]` cannot be used because it is a chained measure resulting from the `sum_product` of a few measures.\n"
   ]
  },
  {
   "cell_type": "code",
   "execution_count": 26,
   "id": "0bc35e5d-1845-479b-873f-5a24be936f1e",
   "metadata": {
    "tags": []
   },
   "outputs": [
    {
     "name": "stdout",
     "output_type": "stream",
     "text": [
      "CPU times: user 14.3 ms, sys: 3.63 ms, total: 17.9 ms\n",
      "Wall time: 59 ms\n"
     ]
    },
    {
     "data": {
      "application/vnd.atoti.convert-mdx-query-result-to-widget.v0+json": {
       "mdx": "SELECT {[Measures].[PROFIT]} ON COLUMNS, NON EMPTY Crossjoin(Hierarchize(Descendants({[Atoti Sales].[DATE].[ALL].[AllMember]}, 1, SELF_AND_BEFORE)), Hierarchize(Descendants({[Atoti Sales].[PRODUCT].[ALL].[AllMember]}, 1, SELF_AND_BEFORE)), Hierarchize(Descendants({[Atoti Sales].[SALE_ID].[ALL].[AllMember]}, 1, SELF_AND_BEFORE))) ON ROWS FROM [Atoti Sales]",
       "sessionId": "1728574164_948010",
       "widgetCreationCode": "session.widget"
      },
      "text/html": [
       "<div>\n",
       "<style scoped>\n",
       "    .dataframe tbody tr th:only-of-type {\n",
       "        vertical-align: middle;\n",
       "    }\n",
       "\n",
       "    .dataframe tbody tr th {\n",
       "        vertical-align: top;\n",
       "    }\n",
       "\n",
       "    .dataframe thead th {\n",
       "        text-align: right;\n",
       "    }\n",
       "</style>\n",
       "<table border=\"1\" class=\"dataframe\">\n",
       "  <thead>\n",
       "    <tr style=\"text-align: right;\">\n",
       "      <th></th>\n",
       "      <th></th>\n",
       "      <th></th>\n",
       "      <th>PROFIT</th>\n",
       "    </tr>\n",
       "    <tr>\n",
       "      <th>DATE</th>\n",
       "      <th>PRODUCT</th>\n",
       "      <th>SALE_ID</th>\n",
       "      <th></th>\n",
       "    </tr>\n",
       "  </thead>\n",
       "  <tbody>\n",
       "    <tr>\n",
       "      <th rowspan=\"2\" valign=\"top\">2022-02-04</th>\n",
       "      <th>HOO_5</th>\n",
       "      <th>S0017</th>\n",
       "      <td>10.00</td>\n",
       "    </tr>\n",
       "    <tr>\n",
       "      <th>TAB_0</th>\n",
       "      <th>S0000</th>\n",
       "      <td>20.00</td>\n",
       "    </tr>\n",
       "    <tr>\n",
       "      <th rowspan=\"4\" valign=\"top\">2022-02-03</th>\n",
       "      <th>HOO_5</th>\n",
       "      <th>S0018</th>\n",
       "      <td>10.00</td>\n",
       "    </tr>\n",
       "    <tr>\n",
       "      <th>TAB_0</th>\n",
       "      <th>S0001</th>\n",
       "      <td>20.00</td>\n",
       "    </tr>\n",
       "    <tr>\n",
       "      <th>TAB_1</th>\n",
       "      <th>S0004</th>\n",
       "      <td>20.00</td>\n",
       "    </tr>\n",
       "    <tr>\n",
       "      <th>TSH_3</th>\n",
       "      <th>S0011</th>\n",
       "      <td>3.00</td>\n",
       "    </tr>\n",
       "    <tr>\n",
       "      <th rowspan=\"5\" valign=\"top\">2022-02-02</th>\n",
       "      <th>HOO_5</th>\n",
       "      <th>S0019</th>\n",
       "      <td>10.00</td>\n",
       "    </tr>\n",
       "    <tr>\n",
       "      <th>TAB_0</th>\n",
       "      <th>S0002</th>\n",
       "      <td>20.00</td>\n",
       "    </tr>\n",
       "    <tr>\n",
       "      <th>TAB_1</th>\n",
       "      <th>S0005</th>\n",
       "      <td>20.00</td>\n",
       "    </tr>\n",
       "    <tr>\n",
       "      <th>TSH_3</th>\n",
       "      <th>S0012</th>\n",
       "      <td>3.00</td>\n",
       "    </tr>\n",
       "    <tr>\n",
       "      <th>TSH_4</th>\n",
       "      <th>S0014</th>\n",
       "      <td>4.00</td>\n",
       "    </tr>\n",
       "    <tr>\n",
       "      <th rowspan=\"5\" valign=\"top\">2022-02-01</th>\n",
       "      <th>BED_2</th>\n",
       "      <th>S0007</th>\n",
       "      <td>23.00</td>\n",
       "    </tr>\n",
       "    <tr>\n",
       "      <th>TAB_0</th>\n",
       "      <th>S0003</th>\n",
       "      <td>20.00</td>\n",
       "    </tr>\n",
       "    <tr>\n",
       "      <th>TAB_1</th>\n",
       "      <th>S0006</th>\n",
       "      <td>40.00</td>\n",
       "    </tr>\n",
       "    <tr>\n",
       "      <th>TSH_3</th>\n",
       "      <th>S0013</th>\n",
       "      <td>3.00</td>\n",
       "    </tr>\n",
       "    <tr>\n",
       "      <th>TSH_4</th>\n",
       "      <th>S0015</th>\n",
       "      <td>8.00</td>\n",
       "    </tr>\n",
       "    <tr>\n",
       "      <th rowspan=\"4\" valign=\"top\">2022-01-31</th>\n",
       "      <th rowspan=\"3\" valign=\"top\">BED_2</th>\n",
       "      <th>S0008</th>\n",
       "      <td>23.00</td>\n",
       "    </tr>\n",
       "    <tr>\n",
       "      <th>S0009</th>\n",
       "      <td>23.00</td>\n",
       "    </tr>\n",
       "    <tr>\n",
       "      <th>S0010</th>\n",
       "      <td>69.00</td>\n",
       "    </tr>\n",
       "    <tr>\n",
       "      <th>TSH_4</th>\n",
       "      <th>S0016</th>\n",
       "      <td>8.00</td>\n",
       "    </tr>\n",
       "  </tbody>\n",
       "</table>\n",
       "</div>"
      ],
      "text/plain": [
       "                           PROFIT\n",
       "DATE       PRODUCT SALE_ID       \n",
       "2022-02-04 HOO_5   S0017    10.00\n",
       "           TAB_0   S0000    20.00\n",
       "2022-02-03 HOO_5   S0018    10.00\n",
       "           TAB_0   S0001    20.00\n",
       "           TAB_1   S0004    20.00\n",
       "           TSH_3   S0011     3.00\n",
       "2022-02-02 HOO_5   S0019    10.00\n",
       "           TAB_0   S0002    20.00\n",
       "           TAB_1   S0005    20.00\n",
       "           TSH_3   S0012     3.00\n",
       "           TSH_4   S0014     4.00\n",
       "2022-02-01 BED_2   S0007    23.00\n",
       "           TAB_0   S0003    20.00\n",
       "           TAB_1   S0006    40.00\n",
       "           TSH_3   S0013     3.00\n",
       "           TSH_4   S0015     8.00\n",
       "2022-01-31 BED_2   S0008    23.00\n",
       "                   S0009    23.00\n",
       "                   S0010    69.00\n",
       "           TSH_4   S0016     8.00"
      ]
     },
     "execution_count": 26,
     "metadata": {},
     "output_type": "execute_result"
    }
   ],
   "source": [
    "%%time\n",
    "\n",
    "cube.query(m[\"PROFIT\"], levels=[l[\"DATE\"], l[\"PRODUCT\"], l[\"SALE_ID\"]])"
   ]
  },
  {
   "cell_type": "markdown",
   "id": "fd36b224-ab65-45f0-a2fb-1e44c5fdb1c8",
   "metadata": {},
   "source": [
    "Previously, it took close to `3s` to return the query results. Now, it only takes slightly over `100ms` to return the results (YMMV).  \n",
    "\n",
    "Note that we are querying `PROFIT` and not the measures `m[\"QUANTITY.SUM\"]`, `m[\"PURCHASE_PRICE.SUM\"]` and `m[\"UNIT_PRICE.SUM\"]`. However, `PROFIT` is computed on the fly using the cached data in memory. Therefore, the query speed is improved drastically."
   ]
  },
  {
   "cell_type": "code",
   "execution_count": 27,
   "id": "800e212c-f4ce-4e77-8653-f8afd9b50043",
   "metadata": {
    "tags": []
   },
   "outputs": [
    {
     "name": "stdout",
     "output_type": "stream",
     "text": [
      "CPU times: user 6.69 ms, sys: 2.3 ms, total: 8.99 ms\n",
      "Wall time: 21.8 ms\n"
     ]
    },
    {
     "data": {
      "application/vnd.atoti.convert-mdx-query-result-to-widget.v0+json": {
       "mdx": "SELECT {[Measures].[PROFIT]} ON COLUMNS, NON EMPTY Hierarchize(Descendants({[Atoti Sales].[PRODUCT].[ALL].[AllMember]}, 1, SELF_AND_BEFORE)) ON ROWS FROM [Atoti Sales]",
       "sessionId": "1728574164_948010",
       "widgetCreationCode": "session.widget"
      },
      "text/html": [
       "<div>\n",
       "<style scoped>\n",
       "    .dataframe tbody tr th:only-of-type {\n",
       "        vertical-align: middle;\n",
       "    }\n",
       "\n",
       "    .dataframe tbody tr th {\n",
       "        vertical-align: top;\n",
       "    }\n",
       "\n",
       "    .dataframe thead th {\n",
       "        text-align: right;\n",
       "    }\n",
       "</style>\n",
       "<table border=\"1\" class=\"dataframe\">\n",
       "  <thead>\n",
       "    <tr style=\"text-align: right;\">\n",
       "      <th></th>\n",
       "      <th>PROFIT</th>\n",
       "    </tr>\n",
       "    <tr>\n",
       "      <th>PRODUCT</th>\n",
       "      <th></th>\n",
       "    </tr>\n",
       "  </thead>\n",
       "  <tbody>\n",
       "    <tr>\n",
       "      <th>BED_2</th>\n",
       "      <td>138.00</td>\n",
       "    </tr>\n",
       "    <tr>\n",
       "      <th>HOO_5</th>\n",
       "      <td>30.00</td>\n",
       "    </tr>\n",
       "    <tr>\n",
       "      <th>TAB_0</th>\n",
       "      <td>80.00</td>\n",
       "    </tr>\n",
       "    <tr>\n",
       "      <th>TAB_1</th>\n",
       "      <td>80.00</td>\n",
       "    </tr>\n",
       "    <tr>\n",
       "      <th>TSH_3</th>\n",
       "      <td>9.00</td>\n",
       "    </tr>\n",
       "    <tr>\n",
       "      <th>TSH_4</th>\n",
       "      <td>20.00</td>\n",
       "    </tr>\n",
       "  </tbody>\n",
       "</table>\n",
       "</div>"
      ],
      "text/plain": [
       "         PROFIT\n",
       "PRODUCT        \n",
       "BED_2    138.00\n",
       "HOO_5     30.00\n",
       "TAB_0     80.00\n",
       "TAB_1     80.00\n",
       "TSH_3      9.00\n",
       "TSH_4     20.00"
      ]
     },
     "execution_count": 27,
     "metadata": {},
     "output_type": "execute_result"
    }
   ],
   "source": [
    "%%time\n",
    "\n",
    "cube.query(m[\"PROFIT\"], levels=[l[\"PRODUCT\"]])"
   ]
  },
  {
   "cell_type": "markdown",
   "id": "3776a1f9-c10c-4912-866f-238a3b95fbee",
   "metadata": {},
   "source": [
    "Querying a subset of the aggregate provider levels also returns the result quickly.  \n",
    "\n",
    "The below query on a different level will access data from BigQuery and therefore, is limited by the querying speed of the cloud database and its network connectivity.  "
   ]
  },
  {
   "cell_type": "code",
   "execution_count": 28,
   "id": "08506fb9-16e3-4052-9288-380ecc441021",
   "metadata": {
    "tags": []
   },
   "outputs": [
    {
     "name": "stdout",
     "output_type": "stream",
     "text": [
      "CPU times: user 17.2 ms, sys: 3.17 ms, total: 20.4 ms\n",
      "Wall time: 1.97 s\n"
     ]
    },
    {
     "data": {
      "application/vnd.atoti.convert-mdx-query-result-to-widget.v0+json": {
       "mdx": "SELECT {[Measures].[PROFIT]} ON COLUMNS, NON EMPTY Crossjoin(Hierarchize(Descendants({[Atoti Sales].[DATE].[ALL].[AllMember]}, 1, SELF_AND_BEFORE)), Hierarchize(Descendants({[Atoti Product].[CATEGORY].[ALL].[AllMember]}, 2, SELF_AND_BEFORE))) ON ROWS FROM [Atoti Sales]",
       "sessionId": "1728574164_948010",
       "widgetCreationCode": "session.widget"
      },
      "text/html": [
       "<div>\n",
       "<style scoped>\n",
       "    .dataframe tbody tr th:only-of-type {\n",
       "        vertical-align: middle;\n",
       "    }\n",
       "\n",
       "    .dataframe tbody tr th {\n",
       "        vertical-align: top;\n",
       "    }\n",
       "\n",
       "    .dataframe thead th {\n",
       "        text-align: right;\n",
       "    }\n",
       "</style>\n",
       "<table border=\"1\" class=\"dataframe\">\n",
       "  <thead>\n",
       "    <tr style=\"text-align: right;\">\n",
       "      <th></th>\n",
       "      <th></th>\n",
       "      <th></th>\n",
       "      <th>PROFIT</th>\n",
       "    </tr>\n",
       "    <tr>\n",
       "      <th>DATE</th>\n",
       "      <th>CATEGORY</th>\n",
       "      <th>SUB_CATEGORY</th>\n",
       "      <th></th>\n",
       "    </tr>\n",
       "  </thead>\n",
       "  <tbody>\n",
       "    <tr>\n",
       "      <th rowspan=\"2\" valign=\"top\">2022-02-04</th>\n",
       "      <th>Cloth</th>\n",
       "      <th>Hoodie</th>\n",
       "      <td>10.00</td>\n",
       "    </tr>\n",
       "    <tr>\n",
       "      <th>Furniture</th>\n",
       "      <th>Table</th>\n",
       "      <td>20.00</td>\n",
       "    </tr>\n",
       "    <tr>\n",
       "      <th rowspan=\"3\" valign=\"top\">2022-02-03</th>\n",
       "      <th rowspan=\"2\" valign=\"top\">Cloth</th>\n",
       "      <th>Hoodie</th>\n",
       "      <td>10.00</td>\n",
       "    </tr>\n",
       "    <tr>\n",
       "      <th>Tshirt</th>\n",
       "      <td>3.00</td>\n",
       "    </tr>\n",
       "    <tr>\n",
       "      <th>Furniture</th>\n",
       "      <th>Table</th>\n",
       "      <td>40.00</td>\n",
       "    </tr>\n",
       "    <tr>\n",
       "      <th rowspan=\"3\" valign=\"top\">2022-02-02</th>\n",
       "      <th rowspan=\"2\" valign=\"top\">Cloth</th>\n",
       "      <th>Hoodie</th>\n",
       "      <td>10.00</td>\n",
       "    </tr>\n",
       "    <tr>\n",
       "      <th>Tshirt</th>\n",
       "      <td>7.00</td>\n",
       "    </tr>\n",
       "    <tr>\n",
       "      <th>Furniture</th>\n",
       "      <th>Table</th>\n",
       "      <td>40.00</td>\n",
       "    </tr>\n",
       "    <tr>\n",
       "      <th rowspan=\"3\" valign=\"top\">2022-02-01</th>\n",
       "      <th>Cloth</th>\n",
       "      <th>Tshirt</th>\n",
       "      <td>11.00</td>\n",
       "    </tr>\n",
       "    <tr>\n",
       "      <th rowspan=\"2\" valign=\"top\">Furniture</th>\n",
       "      <th>Bed</th>\n",
       "      <td>23.00</td>\n",
       "    </tr>\n",
       "    <tr>\n",
       "      <th>Table</th>\n",
       "      <td>60.00</td>\n",
       "    </tr>\n",
       "    <tr>\n",
       "      <th rowspan=\"2\" valign=\"top\">2022-01-31</th>\n",
       "      <th>Cloth</th>\n",
       "      <th>Tshirt</th>\n",
       "      <td>8.00</td>\n",
       "    </tr>\n",
       "    <tr>\n",
       "      <th>Furniture</th>\n",
       "      <th>Bed</th>\n",
       "      <td>115.00</td>\n",
       "    </tr>\n",
       "  </tbody>\n",
       "</table>\n",
       "</div>"
      ],
      "text/plain": [
       "                                   PROFIT\n",
       "DATE       CATEGORY  SUB_CATEGORY        \n",
       "2022-02-04 Cloth     Hoodie         10.00\n",
       "           Furniture Table          20.00\n",
       "2022-02-03 Cloth     Hoodie         10.00\n",
       "                     Tshirt          3.00\n",
       "           Furniture Table          40.00\n",
       "2022-02-02 Cloth     Hoodie         10.00\n",
       "                     Tshirt          7.00\n",
       "           Furniture Table          40.00\n",
       "2022-02-01 Cloth     Tshirt         11.00\n",
       "           Furniture Bed            23.00\n",
       "                     Table          60.00\n",
       "2022-01-31 Cloth     Tshirt          8.00\n",
       "           Furniture Bed           115.00"
      ]
     },
     "execution_count": 28,
     "metadata": {},
     "output_type": "execute_result"
    }
   ],
   "source": [
    "%%time\n",
    "\n",
    "cube.query(m[\"PROFIT\"], levels=[l[\"DATE\"], l[\"SUB_CATEGORY\"]])"
   ]
  },
  {
   "cell_type": "markdown",
   "id": "c260f204-8f69-4f99-aefa-3e881c29e4bc",
   "metadata": {},
   "source": [
    "Before we are done with this example, let's create another aggregate provider with a _slice_ of data using `filter`.  \n",
    "\n",
    "Let's first capture the timing of the query without the aggregate provider."
   ]
  },
  {
   "cell_type": "code",
   "execution_count": 29,
   "id": "fe342fd4-1c7f-4995-833d-f3cac15d2aa4",
   "metadata": {},
   "outputs": [
    {
     "name": "stdout",
     "output_type": "stream",
     "text": [
      "CPU times: user 28.9 ms, sys: 4.04 ms, total: 32.9 ms\n",
      "Wall time: 2.08 s\n"
     ]
    },
    {
     "data": {
      "application/vnd.atoti.convert-mdx-query-result-to-widget.v0+json": {
       "mdx": "SELECT {[Measures].[PROFIT]} ON COLUMNS, NON EMPTY Crossjoin(Hierarchize(Descendants({[Atoti Sales].[DATE].[ALL].[AllMember]}, 1, SELF_AND_BEFORE)), Hierarchize(Descendants({[Atoti Product].[CATEGORY].[ALL].[AllMember]}, 2, SELF_AND_BEFORE))) ON ROWS FROM (SELECT [Atoti Sales].[DATE].[ALL].[AllMember].[2022-02-04] ON COLUMNS FROM [Atoti Sales])",
       "sessionId": "1728574164_948010",
       "widgetCreationCode": "session.widget"
      },
      "text/html": [
       "<div>\n",
       "<style scoped>\n",
       "    .dataframe tbody tr th:only-of-type {\n",
       "        vertical-align: middle;\n",
       "    }\n",
       "\n",
       "    .dataframe tbody tr th {\n",
       "        vertical-align: top;\n",
       "    }\n",
       "\n",
       "    .dataframe thead th {\n",
       "        text-align: right;\n",
       "    }\n",
       "</style>\n",
       "<table border=\"1\" class=\"dataframe\">\n",
       "  <thead>\n",
       "    <tr style=\"text-align: right;\">\n",
       "      <th></th>\n",
       "      <th></th>\n",
       "      <th></th>\n",
       "      <th>PROFIT</th>\n",
       "    </tr>\n",
       "    <tr>\n",
       "      <th>DATE</th>\n",
       "      <th>CATEGORY</th>\n",
       "      <th>SUB_CATEGORY</th>\n",
       "      <th></th>\n",
       "    </tr>\n",
       "  </thead>\n",
       "  <tbody>\n",
       "    <tr>\n",
       "      <th rowspan=\"2\" valign=\"top\">2022-02-04</th>\n",
       "      <th>Cloth</th>\n",
       "      <th>Hoodie</th>\n",
       "      <td>10.00</td>\n",
       "    </tr>\n",
       "    <tr>\n",
       "      <th>Furniture</th>\n",
       "      <th>Table</th>\n",
       "      <td>20.00</td>\n",
       "    </tr>\n",
       "  </tbody>\n",
       "</table>\n",
       "</div>"
      ],
      "text/plain": [
       "                                  PROFIT\n",
       "DATE       CATEGORY  SUB_CATEGORY       \n",
       "2022-02-04 Cloth     Hoodie        10.00\n",
       "           Furniture Table         20.00"
      ]
     },
     "execution_count": 29,
     "metadata": {},
     "output_type": "execute_result"
    }
   ],
   "source": [
    "%%time\n",
    "\n",
    "cube.query(\n",
    "    m[\"PROFIT\"],\n",
    "    levels=[l[\"DATE\"], l[\"CATEGORY\"], l[\"SUB_CATEGORY\"]],\n",
    "    filter=(l[\"DATE\"] == \"2022-02-04\"),\n",
    ")"
   ]
  },
  {
   "cell_type": "code",
   "execution_count": 30,
   "id": "b240a857-71f6-4344-8967-570013c0ac98",
   "metadata": {
    "tags": []
   },
   "outputs": [],
   "source": [
    "from datetime import date\n",
    "\n",
    "current_date = date(2022, 2, 4)"
   ]
  },
  {
   "cell_type": "markdown",
   "id": "9526ed6a-2c74-4ab5-935e-51899123340c",
   "metadata": {},
   "source": [
    "In the event where users are interested in a particular member of level, e.g. the current date or a particular shop, and the amount of querying on this member is huge, then it makes sense to cache them in memory.  \n",
    "\n",
    "In this case, we apply filter just for the interested member. This helps to control the amount of data held in memory."
   ]
  },
  {
   "cell_type": "code",
   "execution_count": 31,
   "id": "17ae6441-66db-4038-bfee-28df3b2c576e",
   "metadata": {},
   "outputs": [],
   "source": [
    "cube.aggregate_providers.update(\n",
    "    {\n",
    "        \"Category provider\": tt.AggregateProvider(\n",
    "            key=\"bitmap\",\n",
    "            levels=[l[\"DATE\"], l[\"CATEGORY\"], l[\"SUB_CATEGORY\"]],\n",
    "            measures=[m[\"QUANTITY.SUM\"], m[\"PURCHASE_PRICE.SUM\"], m[\"UNIT_PRICE.SUM\"]],\n",
    "            filter=(l[\"DATE\"] == current_date),\n",
    "        )\n",
    "    }\n",
    ")"
   ]
  },
  {
   "cell_type": "code",
   "execution_count": 32,
   "id": "adc253db-cebe-49a2-a8ae-2f9630d5338d",
   "metadata": {
    "tags": []
   },
   "outputs": [
    {
     "name": "stdout",
     "output_type": "stream",
     "text": [
      "CPU times: user 23.7 ms, sys: 5.54 ms, total: 29.3 ms\n",
      "Wall time: 2.04 s\n"
     ]
    },
    {
     "data": {
      "application/vnd.atoti.convert-mdx-query-result-to-widget.v0+json": {
       "mdx": "SELECT {[Measures].[PROFIT]} ON COLUMNS, NON EMPTY Crossjoin(Hierarchize(Descendants({[Atoti Sales].[DATE].[ALL].[AllMember]}, 1, SELF_AND_BEFORE)), Hierarchize(Descendants({[Atoti Product].[CATEGORY].[ALL].[AllMember]}, 2, SELF_AND_BEFORE))) ON ROWS FROM (SELECT [Atoti Sales].[DATE].[ALL].[AllMember].[2022-02-04] ON COLUMNS FROM [Atoti Sales])",
       "sessionId": "1728574164_948010",
       "widgetCreationCode": "session.widget"
      },
      "text/html": [
       "<div>\n",
       "<style scoped>\n",
       "    .dataframe tbody tr th:only-of-type {\n",
       "        vertical-align: middle;\n",
       "    }\n",
       "\n",
       "    .dataframe tbody tr th {\n",
       "        vertical-align: top;\n",
       "    }\n",
       "\n",
       "    .dataframe thead th {\n",
       "        text-align: right;\n",
       "    }\n",
       "</style>\n",
       "<table border=\"1\" class=\"dataframe\">\n",
       "  <thead>\n",
       "    <tr style=\"text-align: right;\">\n",
       "      <th></th>\n",
       "      <th></th>\n",
       "      <th></th>\n",
       "      <th>PROFIT</th>\n",
       "    </tr>\n",
       "    <tr>\n",
       "      <th>DATE</th>\n",
       "      <th>CATEGORY</th>\n",
       "      <th>SUB_CATEGORY</th>\n",
       "      <th></th>\n",
       "    </tr>\n",
       "  </thead>\n",
       "  <tbody>\n",
       "    <tr>\n",
       "      <th rowspan=\"2\" valign=\"top\">2022-02-04</th>\n",
       "      <th>Cloth</th>\n",
       "      <th>Hoodie</th>\n",
       "      <td>10.00</td>\n",
       "    </tr>\n",
       "    <tr>\n",
       "      <th>Furniture</th>\n",
       "      <th>Table</th>\n",
       "      <td>20.00</td>\n",
       "    </tr>\n",
       "  </tbody>\n",
       "</table>\n",
       "</div>"
      ],
      "text/plain": [
       "                                  PROFIT\n",
       "DATE       CATEGORY  SUB_CATEGORY       \n",
       "2022-02-04 Cloth     Hoodie        10.00\n",
       "           Furniture Table         20.00"
      ]
     },
     "execution_count": 32,
     "metadata": {},
     "output_type": "execute_result"
    }
   ],
   "source": [
    "%%time\n",
    "\n",
    "cube.query(\n",
    "    m[\"PROFIT\"],\n",
    "    levels=[l[\"DATE\"], l[\"CATEGORY\"], l[\"SUB_CATEGORY\"]],\n",
    "    filter=(l[\"DATE\"] == \"2022-02-04\"),\n",
    ")"
   ]
  },
  {
   "cell_type": "markdown",
   "id": "4b392590-0e19-4d03-84db-853028977e8b",
   "metadata": {},
   "source": [
    "## Balance between Cost and Performance"
   ]
  },
  {
   "cell_type": "markdown",
   "id": "1f44c57a-00ad-44eb-9195-ed0b0a808a62",
   "metadata": {},
   "source": [
    "All in all, Atoti's DirectQuery offers users a way to balance between cost and performance:\n",
    "\n",
    "* For data that is less queried, it resides on the cloud database and gets queried on-demand.\n",
    "* For data that is more frequently queried, we can cache it in memory and reduce the number of queries to the cloud database, thereby improving performance.  \n",
    "\n",
    "<img src=\"https://data.atoti.io/notebooks/direct-query/img/aggregate_cache.png\" />  \n",
    "\n",
    "💡 **Note:** To find out more, reach out to [ActiveViam](https://activeviam.com/contact-us/?utm_source=github&utm_medium=atoti) for a demonstration."
   ]
  },
  {
   "cell_type": "markdown",
   "id": "455e3f95-0a8c-48bf-b793-69d5fe2f2083",
   "metadata": {},
   "source": [
    "<div style=\"text-align: center;\" ><a href=\"https://www.atoti.io/?utm_source=gallery&utm_content=directquery-intro\" target=\"_blank\" rel=\"noopener noreferrer\"><img src=\"https://data.atoti.io/notebooks/banners/Your-turn-to-try-Atoti.jpg\" alt=\"Try Atoti\"></a></div>"
   ]
  }
 ],
 "metadata": {
  "kernelspec": {
   "display_name": "Python 3 (ipykernel)",
   "language": "python",
   "name": "python3"
  },
  "language_info": {
   "codemirror_mode": {
    "name": "ipython",
    "version": 3
   },
   "file_extension": ".py",
   "mimetype": "text/x-python",
   "name": "python",
   "nbconvert_exporter": "python",
   "pygments_lexer": "ipython3",
   "version": "3.10.13"
  },
  "widgets": {
   "application/vnd.jupyter.widget-state+json": {
    "state": {},
    "version_major": 2,
    "version_minor": 0
   }
  }
 },
 "nbformat": 4,
 "nbformat_minor": 5
}
