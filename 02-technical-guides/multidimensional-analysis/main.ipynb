{
 "cells": [
  {
   "cell_type": "markdown",
   "id": "f3572592-7139-4cb5-82ec-eb5afefa929f",
   "metadata": {
    "editable": true,
    "slideshow": {
     "slide_type": ""
    },
    "tags": []
   },
   "source": [
    "# Multidimensional Analysis\n",
    "\n",
    "In this notebook, we'll be show you how to perform multidimensional analysis, allowing users to observe data from different viewpoints."
   ]
  },
  {
   "cell_type": "markdown",
   "id": "3aba2356-25d6-4bde-9ef2-49f4f049afb8",
   "metadata": {},
   "source": [
    "<div style=\"text-align: center;\"><img src=\"https://data.atoti.io/notebooks/multidimension/img/cube-slice-dice.png\"></div>"
   ]
  },
  {
   "cell_type": "markdown",
   "id": "430ae29e-d1cd-4dce-83bf-f6664082ecbe",
   "metadata": {},
   "source": [
    "<div style=\"text-align:center\"><a href=\"https://www.atoti.io/?utm_source=gallery&utm_content=multidimensional-analysis\" target=\"_blank\" rel=\"noopener noreferrer\"><img src=\"https://data.atoti.io/notebooks/banners/Discover-Atoti-now.png\" alt=\"atoti table\" /></a></div>"
   ]
  },
  {
   "cell_type": "code",
   "execution_count": 1,
   "id": "43850b85-2acc-445c-aa89-9b2939a0e6a8",
   "metadata": {},
   "outputs": [],
   "source": [
    "import pandas as pd\n",
    "import atoti as tt"
   ]
  },
  {
   "cell_type": "code",
   "execution_count": 2,
   "id": "47c0734a-58bd-4487-922e-a0775c61517d",
   "metadata": {},
   "outputs": [],
   "source": [
    "session = tt.Session()"
   ]
  },
  {
   "cell_type": "code",
   "execution_count": 3,
   "id": "dbb89caf-5375-40ff-9766-2dad75c67017",
   "metadata": {},
   "outputs": [
    {
     "data": {
      "text/html": [
       "<div>\n",
       "<style scoped>\n",
       "    .dataframe tbody tr th:only-of-type {\n",
       "        vertical-align: middle;\n",
       "    }\n",
       "\n",
       "    .dataframe tbody tr th {\n",
       "        vertical-align: top;\n",
       "    }\n",
       "\n",
       "    .dataframe thead th {\n",
       "        text-align: right;\n",
       "    }\n",
       "</style>\n",
       "<table border=\"1\" class=\"dataframe\">\n",
       "  <thead>\n",
       "    <tr style=\"text-align: right;\">\n",
       "      <th></th>\n",
       "      <th>Sale ID</th>\n",
       "      <th>Date</th>\n",
       "      <th>Shop</th>\n",
       "      <th>Product</th>\n",
       "      <th>Quantity</th>\n",
       "      <th>Unit price</th>\n",
       "    </tr>\n",
       "  </thead>\n",
       "  <tbody>\n",
       "    <tr>\n",
       "      <th>0</th>\n",
       "      <td>S000003722</td>\n",
       "      <td>2021-02-02</td>\n",
       "      <td>shop_2</td>\n",
       "      <td>TAB_1</td>\n",
       "      <td>3</td>\n",
       "      <td>300.0</td>\n",
       "    </tr>\n",
       "    <tr>\n",
       "      <th>1</th>\n",
       "      <td>S000003011</td>\n",
       "      <td>2021-01-24</td>\n",
       "      <td>shop_11</td>\n",
       "      <td>TAB_22</td>\n",
       "      <td>1</td>\n",
       "      <td>300.0</td>\n",
       "    </tr>\n",
       "    <tr>\n",
       "      <th>2</th>\n",
       "      <td>S000000089</td>\n",
       "      <td>2021-01-06</td>\n",
       "      <td>shop_9</td>\n",
       "      <td>TSH_28</td>\n",
       "      <td>4</td>\n",
       "      <td>20.0</td>\n",
       "    </tr>\n",
       "    <tr>\n",
       "      <th>3</th>\n",
       "      <td>S000001430</td>\n",
       "      <td>2021-01-15</td>\n",
       "      <td>shop_30</td>\n",
       "      <td>BED_27</td>\n",
       "      <td>1</td>\n",
       "      <td>440.0</td>\n",
       "    </tr>\n",
       "    <tr>\n",
       "      <th>4</th>\n",
       "      <td>S000000149</td>\n",
       "      <td>2021-01-06</td>\n",
       "      <td>shop_29</td>\n",
       "      <td>BED_27</td>\n",
       "      <td>2</td>\n",
       "      <td>440.0</td>\n",
       "    </tr>\n",
       "  </tbody>\n",
       "</table>\n",
       "</div>"
      ],
      "text/plain": [
       "      Sale ID       Date     Shop Product  Quantity  Unit price\n",
       "0  S000003722 2021-02-02   shop_2   TAB_1         3       300.0\n",
       "1  S000003011 2021-01-24  shop_11  TAB_22         1       300.0\n",
       "2  S000000089 2021-01-06   shop_9  TSH_28         4        20.0\n",
       "3  S000001430 2021-01-15  shop_30  BED_27         1       440.0\n",
       "4  S000000149 2021-01-06  shop_29  BED_27         2       440.0"
      ]
     },
     "execution_count": 3,
     "metadata": {},
     "output_type": "execute_result"
    }
   ],
   "source": [
    "sales = session.read_csv(\n",
    "    \"s3://data.atoti.io/notebooks/multidimension/sales.csv\",\n",
    "    types={\"Unit price\": tt.type.DOUBLE},\n",
    ")\n",
    "sales.head()"
   ]
  },
  {
   "cell_type": "code",
   "execution_count": 4,
   "id": "efb6008d-b7fa-4980-a42c-e230e2d9ab4f",
   "metadata": {},
   "outputs": [],
   "source": [
    "cube = session.create_cube(sales, \"sales cube\")"
   ]
  },
  {
   "cell_type": "markdown",
   "id": "e043c008-f810-4495-bf7c-594696e68b66",
   "metadata": {},
   "source": [
    "# Data are group into two categories - Data dimensions and measurements"
   ]
  },
  {
   "cell_type": "code",
   "execution_count": 5,
   "id": "6b740eea-1e79-40bb-9076-eeb9fa82bfbc",
   "metadata": {},
   "outputs": [
    {
     "data": {
      "application/json": {
       "Dimensions": {
        "Sales": {
         "Date": [
          "Date"
         ],
         "Product": [
          "Product"
         ],
         "Sale ID": [
          "Sale ID"
         ],
         "Shop": [
          "Shop"
         ]
        }
       },
       "Measures": {
        "Quantity.MEAN": {
         "formatter": "DOUBLE[#,###.00]"
        },
        "Quantity.SUM": {
         "formatter": "INT[#,###]"
        },
        "Unit price.MEAN": {
         "formatter": "DOUBLE[#,###.00]"
        },
        "Unit price.SUM": {
         "formatter": "DOUBLE[#,###.00]"
        },
        "contributors.COUNT": {
         "formatter": "INT[#,###]"
        }
       }
      },
      "text/html": [
       "<ul>\n",
       "<li>sales cube\n",
       "  <ul>\n",
       "  <li>Dimensions\n",
       "    <ul>\n",
       "    <li>Sales\n",
       "      <ul>\n",
       "      <li>Date\n",
       "        <ol>\n",
       "        <li>Date</li>\n",
       "        </ol>      </li>\n",
       "      <li>Product\n",
       "        <ol>\n",
       "        <li>Product</li>\n",
       "        </ol>      </li>\n",
       "      <li>Sale ID\n",
       "        <ol>\n",
       "        <li>Sale ID</li>\n",
       "        </ol>      </li>\n",
       "      <li>Shop\n",
       "        <ol>\n",
       "        <li>Shop</li>\n",
       "        </ol>      </li>\n",
       "      </ul>\n",
       "    </li>\n",
       "    </ul>\n",
       "  </li>\n",
       "  <li>Measures\n",
       "    <ul>\n",
       "    <li>Quantity.MEAN\n",
       "      <ul>\n",
       "      <li>formatter: DOUBLE[#,###.00]</li>\n",
       "      </ul>\n",
       "    </li>\n",
       "    <li>Quantity.SUM\n",
       "      <ul>\n",
       "      <li>formatter: INT[#,###]</li>\n",
       "      </ul>\n",
       "    </li>\n",
       "    <li>Unit price.MEAN\n",
       "      <ul>\n",
       "      <li>formatter: DOUBLE[#,###.00]</li>\n",
       "      </ul>\n",
       "    </li>\n",
       "    <li>Unit price.SUM\n",
       "      <ul>\n",
       "      <li>formatter: DOUBLE[#,###.00]</li>\n",
       "      </ul>\n",
       "    </li>\n",
       "    <li>contributors.COUNT\n",
       "      <ul>\n",
       "      <li>formatter: INT[#,###]</li>\n",
       "      </ul>\n",
       "    </li>\n",
       "    </ul>\n",
       "  </li>\n",
       "  </ul>\n",
       "</li>\n",
       "</ul>\n"
      ],
      "text/plain": [
       "<atoti.cube.Cube at 0x13a229510>"
      ]
     },
     "execution_count": 5,
     "metadata": {
      "application/json": {
       "expanded": false,
       "root": "sales cube"
      }
     },
     "output_type": "execute_result"
    }
   ],
   "source": [
    "cube"
   ]
  },
  {
   "cell_type": "markdown",
   "id": "7e1ca805-b5d6-48df-95ff-9228f7146d4b",
   "metadata": {},
   "source": [
    "<img alt=\"Multidimensional cube concept\" src=\"https://data.atoti.io/notebooks/multidimension/img/cube-concept.svg\" width=\"400\" />\n",
    "\n",
    "The axes of the cube are called _hierarchies_."
   ]
  },
  {
   "cell_type": "code",
   "execution_count": 6,
   "id": "e44629ea-118e-4977-90da-7713a72bb9d4",
   "metadata": {
    "atoti": {
     "widget": {
      "filters": [
       "[Sales].[Product].[AllMember].[BED_24]"
      ],
      "mapping": {
       "columns": [
        "[Sales].[Product].[Product]",
        "ALL_MEASURES"
       ],
       "measures": [
        "[Measures].[Quantity.SUM]",
        "[Measures].[Unit price.SUM]"
       ],
       "rows": [
        "[Sales].[Shop].[Shop] => [Sales].[Date].[Date]"
       ]
      },
      "name": "Viewing data from different view points",
      "query": {
       "mdx": "SELECT NON EMPTY Crossjoin(Hierarchize(Descendants({[Sales].[Product].[AllMember]}, 1, SELF_AND_BEFORE)), {[Measures].[Quantity.SUM], [Measures].[Unit price.SUM]}) ON COLUMNS, NON EMPTY Hierarchize(Union(Crossjoin(Descendants({[Sales].[Shop].[AllMember]}, 1, SELF_AND_BEFORE), [Sales].[Date].DefaultMember), Crossjoin([Sales].[Shop].[AllMember].[shop_0], Hierarchize(Descendants({[Sales].[Date].[AllMember]}, 1, SELF_AND_BEFORE))), Crossjoin([Sales].[Shop].[AllMember].[shop_1], Hierarchize(Descendants({[Sales].[Date].[AllMember]}, 1, SELF_AND_BEFORE))))) ON ROWS FROM [sales cube] CELL PROPERTIES VALUE, FORMATTED_VALUE, BACK_COLOR, FORE_COLOR, FONT_FLAGS",
       "updateMode": "once"
      },
      "serverKey": "default",
      "widgetKey": "pivot-table"
     }
    },
    "tags": []
   },
   "outputs": [
    {
     "data": {
      "application/vnd.atoti.widget.v0+json": {
       "sessionId": "1715028331_F6E9BD",
       "sessionLocation": {
        "https": false,
        "port": 60066
       },
       "widgetCreationCode": "session.widget"
      },
      "text/html": [
       "<img height=\"0\" width=\"0\" src=\"data:,AAAAAAAAAAAAAAAAAAAAAAAAAAAAAAAAAAAAAAAAAAAAAAAACXBIWXMAABqTAAAakwH55E62\" />"
      ],
      "text/plain": [
       "Open the notebook in JupyterLab with the Atoti JupyterLab extension enabled to build this widget."
      ]
     },
     "metadata": {},
     "output_type": "display_data"
    }
   ],
   "source": [
    "session.widget"
   ]
  },
  {
   "cell_type": "markdown",
   "id": "760a5bbe-c253-4a29-88df-6e2dcd6f0f31",
   "metadata": {
    "tags": []
   },
   "source": [
    "# Capable of integrating multiple data sources "
   ]
  },
  {
   "cell_type": "code",
   "execution_count": 7,
   "id": "865ba8eb-97ca-4bdc-8a24-ba0cc479e20c",
   "metadata": {},
   "outputs": [
    {
     "data": {
      "text/html": [
       "<div>\n",
       "<style scoped>\n",
       "    .dataframe tbody tr th:only-of-type {\n",
       "        vertical-align: middle;\n",
       "    }\n",
       "\n",
       "    .dataframe tbody tr th {\n",
       "        vertical-align: top;\n",
       "    }\n",
       "\n",
       "    .dataframe thead th {\n",
       "        text-align: right;\n",
       "    }\n",
       "</style>\n",
       "<table border=\"1\" class=\"dataframe\">\n",
       "  <thead>\n",
       "    <tr style=\"text-align: right;\">\n",
       "      <th></th>\n",
       "      <th>Category</th>\n",
       "      <th>Sub category</th>\n",
       "      <th>Size</th>\n",
       "      <th>Purchase price</th>\n",
       "      <th>Color</th>\n",
       "      <th>Brand</th>\n",
       "    </tr>\n",
       "    <tr>\n",
       "      <th>Product</th>\n",
       "      <th></th>\n",
       "      <th></th>\n",
       "      <th></th>\n",
       "      <th></th>\n",
       "      <th></th>\n",
       "      <th></th>\n",
       "    </tr>\n",
       "  </thead>\n",
       "  <tbody>\n",
       "    <tr>\n",
       "      <th>TSH_8</th>\n",
       "      <td>Cloth</td>\n",
       "      <td>Tshirt</td>\n",
       "      <td>S</td>\n",
       "      <td>18.0</td>\n",
       "      <td>red</td>\n",
       "      <td>Basic</td>\n",
       "    </tr>\n",
       "    <tr>\n",
       "      <th>SHO_18</th>\n",
       "      <td>Cloth</td>\n",
       "      <td>Shoes</td>\n",
       "      <td>10</td>\n",
       "      <td>46.0</td>\n",
       "      <td>red</td>\n",
       "      <td>Over</td>\n",
       "    </tr>\n",
       "    <tr>\n",
       "      <th>TSH_28</th>\n",
       "      <td>Cloth</td>\n",
       "      <td>Tshirt</td>\n",
       "      <td>XS</td>\n",
       "      <td>17.0</td>\n",
       "      <td>red</td>\n",
       "      <td>Basic</td>\n",
       "    </tr>\n",
       "    <tr>\n",
       "      <th>SHO_38</th>\n",
       "      <td>Cloth</td>\n",
       "      <td>Shoes</td>\n",
       "      <td>9</td>\n",
       "      <td>44.0</td>\n",
       "      <td>red</td>\n",
       "      <td>Over</td>\n",
       "    </tr>\n",
       "    <tr>\n",
       "      <th>BED_48</th>\n",
       "      <td>Furniture</td>\n",
       "      <td>Bed</td>\n",
       "      <td>King</td>\n",
       "      <td>375.0</td>\n",
       "      <td>red</td>\n",
       "      <td>Basic</td>\n",
       "    </tr>\n",
       "  </tbody>\n",
       "</table>\n",
       "</div>"
      ],
      "text/plain": [
       "          Category Sub category  Size  Purchase price Color  Brand\n",
       "Product                                                           \n",
       "TSH_8        Cloth       Tshirt     S            18.0   red  Basic\n",
       "SHO_18       Cloth        Shoes    10            46.0   red   Over\n",
       "TSH_28       Cloth       Tshirt    XS            17.0   red  Basic\n",
       "SHO_38       Cloth        Shoes     9            44.0   red   Over\n",
       "BED_48   Furniture          Bed  King           375.0   red  Basic"
      ]
     },
     "execution_count": 7,
     "metadata": {},
     "output_type": "execute_result"
    }
   ],
   "source": [
    "products = session.read_csv(\n",
    "    \"s3://data.atoti.io/notebooks/multidimension/products.csv\", keys=[\"Product\"]\n",
    ")\n",
    "products.head()"
   ]
  },
  {
   "cell_type": "code",
   "execution_count": 8,
   "id": "d4af45a9-98e7-4053-912d-7b5bcf75fda3",
   "metadata": {},
   "outputs": [
    {
     "data": {
      "text/markdown": [
       "```mermaid\n",
       "erDiagram\n",
       "  \"Products\" {\n",
       "    _ String PK \"Product\"\n",
       "    _ String \"Category\"\n",
       "    _ String \"Sub category\"\n",
       "    _ String \"Size\"\n",
       "    nullable double \"Purchase price\"\n",
       "    _ String \"Color\"\n",
       "    _ String \"Brand\"\n",
       "  }\n",
       "  \"Sales\" {\n",
       "    _ String \"Sale ID\"\n",
       "    _ LocalDate \"Date\"\n",
       "    _ String \"Shop\"\n",
       "    _ String \"Product\"\n",
       "    nullable int \"Quantity\"\n",
       "    nullable double \"Unit price\"\n",
       "  }\n",
       "  \"Sales\" }o--o| \"Products\" : \"`Product` == `Product`\"\n",
       "```\n"
      ],
      "text/plain": [
       "erDiagram\n",
       "  \"Products\" {\n",
       "    _ String PK \"Product\"\n",
       "    _ String \"Category\"\n",
       "    _ String \"Sub category\"\n",
       "    _ String \"Size\"\n",
       "    nullable double \"Purchase price\"\n",
       "    _ String \"Color\"\n",
       "    _ String \"Brand\"\n",
       "  }\n",
       "  \"Sales\" {\n",
       "    _ String \"Sale ID\"\n",
       "    _ LocalDate \"Date\"\n",
       "    _ String \"Shop\"\n",
       "    _ String \"Product\"\n",
       "    nullable int \"Quantity\"\n",
       "    nullable double \"Unit price\"\n",
       "  }\n",
       "  \"Sales\" }o--o| \"Products\" : \"`Product` == `Product`\""
      ]
     },
     "execution_count": 8,
     "metadata": {},
     "output_type": "execute_result"
    }
   ],
   "source": [
    "sales.join(products)\n",
    "session.tables.schema"
   ]
  },
  {
   "cell_type": "code",
   "execution_count": 9,
   "id": "22060b6f-8d9d-443a-ab2f-ab00e0180a21",
   "metadata": {},
   "outputs": [],
   "source": [
    "h, l, m = cube.hierarchies, cube.levels, cube.measures"
   ]
  },
  {
   "cell_type": "code",
   "execution_count": 10,
   "id": "92b6fb72-eba8-4ec7-b002-0464b279f726",
   "metadata": {},
   "outputs": [
    {
     "data": {
      "application/json": {
       "Products": {
        "Brand": [
         "Brand"
        ],
        "Category": [
         "Category"
        ],
        "Color": [
         "Color"
        ],
        "Size": [
         "Size"
        ],
        "Sub category": [
         "Sub category"
        ]
       },
       "Sales": {
        "Date": [
         "Date"
        ],
        "Product": [
         "Product"
        ],
        "Sale ID": [
         "Sale ID"
        ],
        "Shop": [
         "Shop"
        ]
       }
      },
      "text/html": [
       "<ul>\n",
       "<li>Dimensions\n",
       "  <ul>\n",
       "  <li>Products\n",
       "    <ul>\n",
       "    <li>Brand\n",
       "      <ol>\n",
       "      <li>Brand</li>\n",
       "      </ol>    </li>\n",
       "    <li>Category\n",
       "      <ol>\n",
       "      <li>Category</li>\n",
       "      </ol>    </li>\n",
       "    <li>Color\n",
       "      <ol>\n",
       "      <li>Color</li>\n",
       "      </ol>    </li>\n",
       "    <li>Size\n",
       "      <ol>\n",
       "      <li>Size</li>\n",
       "      </ol>    </li>\n",
       "    <li>Sub category\n",
       "      <ol>\n",
       "      <li>Sub category</li>\n",
       "      </ol>    </li>\n",
       "    </ul>\n",
       "  </li>\n",
       "  <li>Sales\n",
       "    <ul>\n",
       "    <li>Date\n",
       "      <ol>\n",
       "      <li>Date</li>\n",
       "      </ol>    </li>\n",
       "    <li>Product\n",
       "      <ol>\n",
       "      <li>Product</li>\n",
       "      </ol>    </li>\n",
       "    <li>Sale ID\n",
       "      <ol>\n",
       "      <li>Sale ID</li>\n",
       "      </ol>    </li>\n",
       "    <li>Shop\n",
       "      <ol>\n",
       "      <li>Shop</li>\n",
       "      </ol>    </li>\n",
       "    </ul>\n",
       "  </li>\n",
       "  </ul>\n",
       "</li>\n",
       "</ul>\n"
      ],
      "text/plain": [
       "{('Products', 'Brand'): <atoti.hierarchy.Hierarchy object at 0x13a2690d0>, ('Sales', 'Sale ID'): <atoti.hierarchy.Hierarchy object at 0x13a268f50>, ('Sales', 'Product'): <atoti.hierarchy.Hierarchy object at 0x13a268c90>, ('Products', 'Sub category'): <atoti.hierarchy.Hierarchy object at 0x13a26cf90>, ('Products', 'Category'): <atoti.hierarchy.Hierarchy object at 0x13a26d050>, ('Products', 'Size'): <atoti.hierarchy.Hierarchy object at 0x13a26d110>, ('Sales', 'Date'): <atoti.hierarchy.Hierarchy object at 0x13a26d1d0>, ('Products', 'Color'): <atoti.hierarchy.Hierarchy object at 0x13a26d290>, ('Sales', 'Shop'): <atoti.hierarchy.Hierarchy object at 0x13a26d350>}"
      ]
     },
     "execution_count": 10,
     "metadata": {
      "application/json": {
       "expanded": true,
       "root": "Dimensions"
      }
     },
     "output_type": "execute_result"
    }
   ],
   "source": [
    "h"
   ]
  },
  {
   "cell_type": "code",
   "execution_count": 11,
   "id": "ce1e2257-ffb6-4819-8f60-a179f5ff47b8",
   "metadata": {},
   "outputs": [],
   "source": [
    "h[\"Product categories\"] = [l[\"Category\"], l[\"Sub category\"]]"
   ]
  },
  {
   "cell_type": "code",
   "execution_count": 12,
   "id": "05bdd8e7-265e-4da1-bd6e-646493d268cd",
   "metadata": {
    "atoti": {
     "height": 357,
     "widget": {
      "mapping": {
       "columns": [
        "ALL_MEASURES"
       ],
       "measures": [
        "[Measures].[Unit price.SUM]",
        "[Measures].[Quantity.SUM]"
       ],
       "rows": [
        "[Sales].[Shop].[Shop] => [Products].[Product categories].[Sub category]"
       ]
      },
      "query": {
       "mdx": "SELECT NON EMPTY {[Measures].[Unit price.SUM], [Measures].[Quantity.SUM]} ON COLUMNS, NON EMPTY Hierarchize(Union(Crossjoin(Descendants({[Sales].[Shop].[AllMember]}, 1, SELF_AND_BEFORE), [Products].[Product categories].DefaultMember), Crossjoin([Sales].[Shop].[AllMember].[shop_0], Hierarchize(Descendants({[Products].[Product categories].[AllMember]}, 2, SELF_AND_BEFORE))))) ON ROWS FROM [sales cube] CELL PROPERTIES VALUE, FORMATTED_VALUE, BACK_COLOR, FORE_COLOR, FONT_FLAGS",
       "updateMode": "once"
      },
      "serverKey": "default",
      "widgetKey": "pivot-table"
     }
    },
    "tags": []
   },
   "outputs": [
    {
     "data": {
      "application/vnd.atoti.widget.v0+json": {
       "sessionId": "1715028331_F6E9BD",
       "sessionLocation": {
        "https": false,
        "port": 60066
       },
       "widgetCreationCode": "session.widget"
      },
      "text/html": [
       "<img height=\"0\" width=\"0\" src=\"data:,AAAAAAAAAAAAAAAAAAAAAAAAAAAAAAAAAAAAAAAAAAAAAAAACXBIWXMAABqTAAAakwH55E62\" />"
      ],
      "text/plain": [
       "Open the notebook in JupyterLab with the Atoti JupyterLab extension enabled to build this widget."
      ]
     },
     "metadata": {},
     "output_type": "display_data"
    }
   ],
   "source": [
    "session.widget"
   ]
  },
  {
   "cell_type": "markdown",
   "id": "c616bde0-866c-498e-8d20-efb34bda175b",
   "metadata": {
    "tags": []
   },
   "source": [
    "# Aggregational flexibility - Pre-processing vs Post-processing\n",
    "\n"
   ]
  },
  {
   "cell_type": "markdown",
   "id": "d2c0baf8-56d2-4390-a5e1-980bbabfb29e",
   "metadata": {},
   "source": [
    "## Pre-processing trades storage consumption for computational efficiency"
   ]
  },
  {
   "cell_type": "code",
   "execution_count": 13,
   "id": "fedc6bef-3477-44e7-af8f-43ad4a4e83de",
   "metadata": {},
   "outputs": [
    {
     "data": {
      "text/html": [
       "<div>\n",
       "<style scoped>\n",
       "    .dataframe tbody tr th:only-of-type {\n",
       "        vertical-align: middle;\n",
       "    }\n",
       "\n",
       "    .dataframe tbody tr th {\n",
       "        vertical-align: top;\n",
       "    }\n",
       "\n",
       "    .dataframe thead th {\n",
       "        text-align: right;\n",
       "    }\n",
       "</style>\n",
       "<table border=\"1\" class=\"dataframe\">\n",
       "  <thead>\n",
       "    <tr style=\"text-align: right;\">\n",
       "      <th></th>\n",
       "      <th>Product</th>\n",
       "      <th>Category</th>\n",
       "      <th>Sub category</th>\n",
       "      <th>Size</th>\n",
       "      <th>Purchase price</th>\n",
       "      <th>Color</th>\n",
       "      <th>Brand</th>\n",
       "    </tr>\n",
       "  </thead>\n",
       "  <tbody>\n",
       "    <tr>\n",
       "      <th>0</th>\n",
       "      <td>TAB_0</td>\n",
       "      <td>Furniture</td>\n",
       "      <td>Table</td>\n",
       "      <td>1m80</td>\n",
       "      <td>190.0</td>\n",
       "      <td>black</td>\n",
       "      <td>Basic</td>\n",
       "    </tr>\n",
       "    <tr>\n",
       "      <th>1</th>\n",
       "      <td>TAB_1</td>\n",
       "      <td>Furniture</td>\n",
       "      <td>Table</td>\n",
       "      <td>2m40</td>\n",
       "      <td>280.0</td>\n",
       "      <td>white</td>\n",
       "      <td>Mega</td>\n",
       "    </tr>\n",
       "    <tr>\n",
       "      <th>2</th>\n",
       "      <td>CHA_2</td>\n",
       "      <td>Furniture</td>\n",
       "      <td>Chair</td>\n",
       "      <td>NaN</td>\n",
       "      <td>48.0</td>\n",
       "      <td>blue</td>\n",
       "      <td>Basic</td>\n",
       "    </tr>\n",
       "    <tr>\n",
       "      <th>3</th>\n",
       "      <td>BED_3</td>\n",
       "      <td>Furniture</td>\n",
       "      <td>Bed</td>\n",
       "      <td>Single</td>\n",
       "      <td>127.0</td>\n",
       "      <td>red</td>\n",
       "      <td>Mega</td>\n",
       "    </tr>\n",
       "    <tr>\n",
       "      <th>4</th>\n",
       "      <td>BED_4</td>\n",
       "      <td>Furniture</td>\n",
       "      <td>Bed</td>\n",
       "      <td>Double</td>\n",
       "      <td>252.0</td>\n",
       "      <td>brown</td>\n",
       "      <td>Basic</td>\n",
       "    </tr>\n",
       "  </tbody>\n",
       "</table>\n",
       "</div>"
      ],
      "text/plain": [
       "  Product   Category Sub category    Size  Purchase price  Color  Brand\n",
       "0   TAB_0  Furniture        Table    1m80           190.0  black  Basic\n",
       "1   TAB_1  Furniture        Table    2m40           280.0  white   Mega\n",
       "2   CHA_2  Furniture        Chair     NaN            48.0   blue  Basic\n",
       "3   BED_3  Furniture          Bed  Single           127.0    red   Mega\n",
       "4   BED_4  Furniture          Bed  Double           252.0  brown  Basic"
      ]
     },
     "execution_count": 13,
     "metadata": {},
     "output_type": "execute_result"
    }
   ],
   "source": [
    "product_df = pd.read_csv(\"https://data.atoti.io/notebooks/multidimension/products.csv\")\n",
    "product_df.head()"
   ]
  },
  {
   "cell_type": "code",
   "execution_count": 14,
   "id": "cb39573f-7d29-4330-8702-cd4c58c3354f",
   "metadata": {},
   "outputs": [
    {
     "data": {
      "text/html": [
       "<div>\n",
       "<style scoped>\n",
       "    .dataframe tbody tr th:only-of-type {\n",
       "        vertical-align: middle;\n",
       "    }\n",
       "\n",
       "    .dataframe tbody tr th {\n",
       "        vertical-align: top;\n",
       "    }\n",
       "\n",
       "    .dataframe thead th {\n",
       "        text-align: right;\n",
       "    }\n",
       "</style>\n",
       "<table border=\"1\" class=\"dataframe\">\n",
       "  <thead>\n",
       "    <tr style=\"text-align: right;\">\n",
       "      <th></th>\n",
       "      <th>Sale ID</th>\n",
       "      <th>Date</th>\n",
       "      <th>Shop</th>\n",
       "      <th>Product</th>\n",
       "      <th>Quantity</th>\n",
       "      <th>Unit price</th>\n",
       "    </tr>\n",
       "  </thead>\n",
       "  <tbody>\n",
       "    <tr>\n",
       "      <th>0</th>\n",
       "      <td>S000000029</td>\n",
       "      <td>2021-01-06</td>\n",
       "      <td>shop_29</td>\n",
       "      <td>TSH_29</td>\n",
       "      <td>1</td>\n",
       "      <td>20</td>\n",
       "    </tr>\n",
       "    <tr>\n",
       "      <th>1</th>\n",
       "      <td>S000000059</td>\n",
       "      <td>2021-01-06</td>\n",
       "      <td>shop_19</td>\n",
       "      <td>SHO_59</td>\n",
       "      <td>2</td>\n",
       "      <td>60</td>\n",
       "    </tr>\n",
       "    <tr>\n",
       "      <th>2</th>\n",
       "      <td>S000000089</td>\n",
       "      <td>2021-01-06</td>\n",
       "      <td>shop_9</td>\n",
       "      <td>TSH_28</td>\n",
       "      <td>4</td>\n",
       "      <td>20</td>\n",
       "    </tr>\n",
       "    <tr>\n",
       "      <th>3</th>\n",
       "      <td>S000000119</td>\n",
       "      <td>2021-01-06</td>\n",
       "      <td>shop_39</td>\n",
       "      <td>SHO_58</td>\n",
       "      <td>2</td>\n",
       "      <td>60</td>\n",
       "    </tr>\n",
       "    <tr>\n",
       "      <th>4</th>\n",
       "      <td>S000000149</td>\n",
       "      <td>2021-01-06</td>\n",
       "      <td>shop_29</td>\n",
       "      <td>BED_27</td>\n",
       "      <td>2</td>\n",
       "      <td>440</td>\n",
       "    </tr>\n",
       "  </tbody>\n",
       "</table>\n",
       "</div>"
      ],
      "text/plain": [
       "      Sale ID        Date     Shop Product  Quantity  Unit price\n",
       "0  S000000029  2021-01-06  shop_29  TSH_29         1          20\n",
       "1  S000000059  2021-01-06  shop_19  SHO_59         2          60\n",
       "2  S000000089  2021-01-06   shop_9  TSH_28         4          20\n",
       "3  S000000119  2021-01-06  shop_39  SHO_58         2          60\n",
       "4  S000000149  2021-01-06  shop_29  BED_27         2         440"
      ]
     },
     "execution_count": 14,
     "metadata": {},
     "output_type": "execute_result"
    }
   ],
   "source": [
    "sales_df = pd.read_csv(\"https://data.atoti.io/notebooks/multidimension/sales.csv\")\n",
    "sales_df.head()"
   ]
  },
  {
   "cell_type": "markdown",
   "id": "b3cbb744-338e-49cf-8312-91bf823fe06f",
   "metadata": {},
   "source": [
    "Within the same data source, we can easily perform aggregation by applying the formulas. Notice that our dataset just grew bigger with the additional column? By loading this dataset, we traded storage consumption for the computational efficiency because the cube need not compute the sales amount every time we query it."
   ]
  },
  {
   "cell_type": "code",
   "execution_count": 15,
   "id": "6f3285c3-f86a-4adf-8522-fd29e32d49bb",
   "metadata": {},
   "outputs": [
    {
     "data": {
      "text/html": [
       "<div>\n",
       "<style scoped>\n",
       "    .dataframe tbody tr th:only-of-type {\n",
       "        vertical-align: middle;\n",
       "    }\n",
       "\n",
       "    .dataframe tbody tr th {\n",
       "        vertical-align: top;\n",
       "    }\n",
       "\n",
       "    .dataframe thead th {\n",
       "        text-align: right;\n",
       "    }\n",
       "</style>\n",
       "<table border=\"1\" class=\"dataframe\">\n",
       "  <thead>\n",
       "    <tr style=\"text-align: right;\">\n",
       "      <th></th>\n",
       "      <th>Sale ID</th>\n",
       "      <th>Date</th>\n",
       "      <th>Shop</th>\n",
       "      <th>Product</th>\n",
       "      <th>Quantity</th>\n",
       "      <th>Unit price</th>\n",
       "      <th>Sales amount</th>\n",
       "    </tr>\n",
       "  </thead>\n",
       "  <tbody>\n",
       "    <tr>\n",
       "      <th>0</th>\n",
       "      <td>S000000029</td>\n",
       "      <td>2021-01-06</td>\n",
       "      <td>shop_29</td>\n",
       "      <td>TSH_29</td>\n",
       "      <td>1</td>\n",
       "      <td>20</td>\n",
       "      <td>20</td>\n",
       "    </tr>\n",
       "    <tr>\n",
       "      <th>1</th>\n",
       "      <td>S000000059</td>\n",
       "      <td>2021-01-06</td>\n",
       "      <td>shop_19</td>\n",
       "      <td>SHO_59</td>\n",
       "      <td>2</td>\n",
       "      <td>60</td>\n",
       "      <td>120</td>\n",
       "    </tr>\n",
       "    <tr>\n",
       "      <th>2</th>\n",
       "      <td>S000000089</td>\n",
       "      <td>2021-01-06</td>\n",
       "      <td>shop_9</td>\n",
       "      <td>TSH_28</td>\n",
       "      <td>4</td>\n",
       "      <td>20</td>\n",
       "      <td>80</td>\n",
       "    </tr>\n",
       "    <tr>\n",
       "      <th>3</th>\n",
       "      <td>S000000119</td>\n",
       "      <td>2021-01-06</td>\n",
       "      <td>shop_39</td>\n",
       "      <td>SHO_58</td>\n",
       "      <td>2</td>\n",
       "      <td>60</td>\n",
       "      <td>120</td>\n",
       "    </tr>\n",
       "    <tr>\n",
       "      <th>4</th>\n",
       "      <td>S000000149</td>\n",
       "      <td>2021-01-06</td>\n",
       "      <td>shop_29</td>\n",
       "      <td>BED_27</td>\n",
       "      <td>2</td>\n",
       "      <td>440</td>\n",
       "      <td>880</td>\n",
       "    </tr>\n",
       "  </tbody>\n",
       "</table>\n",
       "</div>"
      ],
      "text/plain": [
       "      Sale ID        Date     Shop Product  Quantity  Unit price  Sales amount\n",
       "0  S000000029  2021-01-06  shop_29  TSH_29         1          20            20\n",
       "1  S000000059  2021-01-06  shop_19  SHO_59         2          60           120\n",
       "2  S000000089  2021-01-06   shop_9  TSH_28         4          20            80\n",
       "3  S000000119  2021-01-06  shop_39  SHO_58         2          60           120\n",
       "4  S000000149  2021-01-06  shop_29  BED_27         2         440           880"
      ]
     },
     "execution_count": 15,
     "metadata": {},
     "output_type": "execute_result"
    }
   ],
   "source": [
    "sales_df[\"Sales amount\"] = sales_df[\"Quantity\"] * sales_df[\"Unit price\"]\n",
    "sales_df.head()"
   ]
  },
  {
   "cell_type": "markdown",
   "id": "7f9c6fdd-366a-4b7a-9925-eefec9545e27",
   "metadata": {},
   "source": [
    "When aggregation involves multiple data sources, then we need to handle the joins before we can apply the formulas."
   ]
  },
  {
   "cell_type": "code",
   "execution_count": 16,
   "id": "83fc8e4a-cb1b-4c60-8b66-91f6aa313107",
   "metadata": {},
   "outputs": [
    {
     "data": {
      "text/html": [
       "<div>\n",
       "<style scoped>\n",
       "    .dataframe tbody tr th:only-of-type {\n",
       "        vertical-align: middle;\n",
       "    }\n",
       "\n",
       "    .dataframe tbody tr th {\n",
       "        vertical-align: top;\n",
       "    }\n",
       "\n",
       "    .dataframe thead th {\n",
       "        text-align: right;\n",
       "    }\n",
       "</style>\n",
       "<table border=\"1\" class=\"dataframe\">\n",
       "  <thead>\n",
       "    <tr style=\"text-align: right;\">\n",
       "      <th></th>\n",
       "      <th>Sale ID</th>\n",
       "      <th>Date</th>\n",
       "      <th>Shop</th>\n",
       "      <th>Product</th>\n",
       "      <th>Quantity</th>\n",
       "      <th>Unit price</th>\n",
       "      <th>Sales amount</th>\n",
       "      <th>Category</th>\n",
       "      <th>Sub category</th>\n",
       "      <th>Size</th>\n",
       "      <th>Purchase price</th>\n",
       "      <th>Color</th>\n",
       "      <th>Brand</th>\n",
       "    </tr>\n",
       "  </thead>\n",
       "  <tbody>\n",
       "    <tr>\n",
       "      <th>0</th>\n",
       "      <td>S000000029</td>\n",
       "      <td>2021-01-06</td>\n",
       "      <td>shop_29</td>\n",
       "      <td>TSH_29</td>\n",
       "      <td>1</td>\n",
       "      <td>20</td>\n",
       "      <td>20</td>\n",
       "      <td>Cloth</td>\n",
       "      <td>Tshirt</td>\n",
       "      <td>S</td>\n",
       "      <td>18.0</td>\n",
       "      <td>brown</td>\n",
       "      <td>Mega</td>\n",
       "    </tr>\n",
       "    <tr>\n",
       "      <th>1</th>\n",
       "      <td>S000001859</td>\n",
       "      <td>2021-01-06</td>\n",
       "      <td>shop_19</td>\n",
       "      <td>TSH_29</td>\n",
       "      <td>1</td>\n",
       "      <td>20</td>\n",
       "      <td>20</td>\n",
       "      <td>Cloth</td>\n",
       "      <td>Tshirt</td>\n",
       "      <td>S</td>\n",
       "      <td>18.0</td>\n",
       "      <td>brown</td>\n",
       "      <td>Mega</td>\n",
       "    </tr>\n",
       "    <tr>\n",
       "      <th>2</th>\n",
       "      <td>S000003689</td>\n",
       "      <td>2021-01-06</td>\n",
       "      <td>shop_9</td>\n",
       "      <td>TSH_29</td>\n",
       "      <td>1</td>\n",
       "      <td>20</td>\n",
       "      <td>20</td>\n",
       "      <td>Cloth</td>\n",
       "      <td>Tshirt</td>\n",
       "      <td>S</td>\n",
       "      <td>18.0</td>\n",
       "      <td>brown</td>\n",
       "      <td>Mega</td>\n",
       "    </tr>\n",
       "    <tr>\n",
       "      <th>3</th>\n",
       "      <td>S000001798</td>\n",
       "      <td>2021-01-07</td>\n",
       "      <td>shop_38</td>\n",
       "      <td>TSH_29</td>\n",
       "      <td>3</td>\n",
       "      <td>20</td>\n",
       "      <td>60</td>\n",
       "      <td>Cloth</td>\n",
       "      <td>Tshirt</td>\n",
       "      <td>S</td>\n",
       "      <td>18.0</td>\n",
       "      <td>brown</td>\n",
       "      <td>Mega</td>\n",
       "    </tr>\n",
       "    <tr>\n",
       "      <th>4</th>\n",
       "      <td>S000003628</td>\n",
       "      <td>2021-01-07</td>\n",
       "      <td>shop_28</td>\n",
       "      <td>TSH_29</td>\n",
       "      <td>1</td>\n",
       "      <td>20</td>\n",
       "      <td>20</td>\n",
       "      <td>Cloth</td>\n",
       "      <td>Tshirt</td>\n",
       "      <td>S</td>\n",
       "      <td>18.0</td>\n",
       "      <td>brown</td>\n",
       "      <td>Mega</td>\n",
       "    </tr>\n",
       "  </tbody>\n",
       "</table>\n",
       "</div>"
      ],
      "text/plain": [
       "      Sale ID        Date     Shop Product  Quantity  Unit price  \\\n",
       "0  S000000029  2021-01-06  shop_29  TSH_29         1          20   \n",
       "1  S000001859  2021-01-06  shop_19  TSH_29         1          20   \n",
       "2  S000003689  2021-01-06   shop_9  TSH_29         1          20   \n",
       "3  S000001798  2021-01-07  shop_38  TSH_29         3          20   \n",
       "4  S000003628  2021-01-07  shop_28  TSH_29         1          20   \n",
       "\n",
       "   Sales amount Category Sub category Size  Purchase price  Color Brand  \n",
       "0            20    Cloth       Tshirt    S            18.0  brown  Mega  \n",
       "1            20    Cloth       Tshirt    S            18.0  brown  Mega  \n",
       "2            20    Cloth       Tshirt    S            18.0  brown  Mega  \n",
       "3            60    Cloth       Tshirt    S            18.0  brown  Mega  \n",
       "4            20    Cloth       Tshirt    S            18.0  brown  Mega  "
      ]
     },
     "execution_count": 16,
     "metadata": {},
     "output_type": "execute_result"
    }
   ],
   "source": [
    "product_sales = pd.merge(sales_df, product_df, on=\"Product\")\n",
    "product_sales.head()"
   ]
  },
  {
   "cell_type": "code",
   "execution_count": 17,
   "id": "136afb1e-57f2-4d00-a3a4-8aff63a31469",
   "metadata": {},
   "outputs": [
    {
     "data": {
      "text/html": [
       "<div>\n",
       "<style scoped>\n",
       "    .dataframe tbody tr th:only-of-type {\n",
       "        vertical-align: middle;\n",
       "    }\n",
       "\n",
       "    .dataframe tbody tr th {\n",
       "        vertical-align: top;\n",
       "    }\n",
       "\n",
       "    .dataframe thead th {\n",
       "        text-align: right;\n",
       "    }\n",
       "</style>\n",
       "<table border=\"1\" class=\"dataframe\">\n",
       "  <thead>\n",
       "    <tr style=\"text-align: right;\">\n",
       "      <th></th>\n",
       "      <th>Sale ID</th>\n",
       "      <th>Date</th>\n",
       "      <th>Shop</th>\n",
       "      <th>Product</th>\n",
       "      <th>Quantity</th>\n",
       "      <th>Unit price</th>\n",
       "      <th>Sales amount</th>\n",
       "      <th>Category</th>\n",
       "      <th>Sub category</th>\n",
       "      <th>Size</th>\n",
       "      <th>Purchase price</th>\n",
       "      <th>Color</th>\n",
       "      <th>Brand</th>\n",
       "      <th>Cost price</th>\n",
       "      <th>Margin</th>\n",
       "    </tr>\n",
       "  </thead>\n",
       "  <tbody>\n",
       "    <tr>\n",
       "      <th>0</th>\n",
       "      <td>S000000029</td>\n",
       "      <td>2021-01-06</td>\n",
       "      <td>shop_29</td>\n",
       "      <td>TSH_29</td>\n",
       "      <td>1</td>\n",
       "      <td>20</td>\n",
       "      <td>20</td>\n",
       "      <td>Cloth</td>\n",
       "      <td>Tshirt</td>\n",
       "      <td>S</td>\n",
       "      <td>18.0</td>\n",
       "      <td>brown</td>\n",
       "      <td>Mega</td>\n",
       "      <td>18.0</td>\n",
       "      <td>2.0</td>\n",
       "    </tr>\n",
       "    <tr>\n",
       "      <th>1</th>\n",
       "      <td>S000001859</td>\n",
       "      <td>2021-01-06</td>\n",
       "      <td>shop_19</td>\n",
       "      <td>TSH_29</td>\n",
       "      <td>1</td>\n",
       "      <td>20</td>\n",
       "      <td>20</td>\n",
       "      <td>Cloth</td>\n",
       "      <td>Tshirt</td>\n",
       "      <td>S</td>\n",
       "      <td>18.0</td>\n",
       "      <td>brown</td>\n",
       "      <td>Mega</td>\n",
       "      <td>18.0</td>\n",
       "      <td>102.0</td>\n",
       "    </tr>\n",
       "    <tr>\n",
       "      <th>2</th>\n",
       "      <td>S000003689</td>\n",
       "      <td>2021-01-06</td>\n",
       "      <td>shop_9</td>\n",
       "      <td>TSH_29</td>\n",
       "      <td>1</td>\n",
       "      <td>20</td>\n",
       "      <td>20</td>\n",
       "      <td>Cloth</td>\n",
       "      <td>Tshirt</td>\n",
       "      <td>S</td>\n",
       "      <td>18.0</td>\n",
       "      <td>brown</td>\n",
       "      <td>Mega</td>\n",
       "      <td>18.0</td>\n",
       "      <td>62.0</td>\n",
       "    </tr>\n",
       "    <tr>\n",
       "      <th>3</th>\n",
       "      <td>S000001798</td>\n",
       "      <td>2021-01-07</td>\n",
       "      <td>shop_38</td>\n",
       "      <td>TSH_29</td>\n",
       "      <td>3</td>\n",
       "      <td>20</td>\n",
       "      <td>60</td>\n",
       "      <td>Cloth</td>\n",
       "      <td>Tshirt</td>\n",
       "      <td>S</td>\n",
       "      <td>18.0</td>\n",
       "      <td>brown</td>\n",
       "      <td>Mega</td>\n",
       "      <td>54.0</td>\n",
       "      <td>66.0</td>\n",
       "    </tr>\n",
       "    <tr>\n",
       "      <th>4</th>\n",
       "      <td>S000003628</td>\n",
       "      <td>2021-01-07</td>\n",
       "      <td>shop_28</td>\n",
       "      <td>TSH_29</td>\n",
       "      <td>1</td>\n",
       "      <td>20</td>\n",
       "      <td>20</td>\n",
       "      <td>Cloth</td>\n",
       "      <td>Tshirt</td>\n",
       "      <td>S</td>\n",
       "      <td>18.0</td>\n",
       "      <td>brown</td>\n",
       "      <td>Mega</td>\n",
       "      <td>18.0</td>\n",
       "      <td>862.0</td>\n",
       "    </tr>\n",
       "  </tbody>\n",
       "</table>\n",
       "</div>"
      ],
      "text/plain": [
       "      Sale ID        Date     Shop Product  Quantity  Unit price  \\\n",
       "0  S000000029  2021-01-06  shop_29  TSH_29         1          20   \n",
       "1  S000001859  2021-01-06  shop_19  TSH_29         1          20   \n",
       "2  S000003689  2021-01-06   shop_9  TSH_29         1          20   \n",
       "3  S000001798  2021-01-07  shop_38  TSH_29         3          20   \n",
       "4  S000003628  2021-01-07  shop_28  TSH_29         1          20   \n",
       "\n",
       "   Sales amount Category Sub category Size  Purchase price  Color Brand  \\\n",
       "0            20    Cloth       Tshirt    S            18.0  brown  Mega   \n",
       "1            20    Cloth       Tshirt    S            18.0  brown  Mega   \n",
       "2            20    Cloth       Tshirt    S            18.0  brown  Mega   \n",
       "3            60    Cloth       Tshirt    S            18.0  brown  Mega   \n",
       "4            20    Cloth       Tshirt    S            18.0  brown  Mega   \n",
       "\n",
       "   Cost price  Margin  \n",
       "0        18.0     2.0  \n",
       "1        18.0   102.0  \n",
       "2        18.0    62.0  \n",
       "3        54.0    66.0  \n",
       "4        18.0   862.0  "
      ]
     },
     "execution_count": 17,
     "metadata": {},
     "output_type": "execute_result"
    }
   ],
   "source": [
    "product_sales[\"Cost price\"] = (\n",
    "    product_sales[\"Quantity\"] * product_sales[\"Purchase price\"]\n",
    ")\n",
    "product_sales[\"Margin\"] = sales_df[\"Sales amount\"] - product_sales[\"Cost price\"]\n",
    "product_sales.head()"
   ]
  },
  {
   "cell_type": "markdown",
   "id": "7b57e887-bf01-41c0-95fe-0aabeb636412",
   "metadata": {},
   "source": [
    "Pre-processing works when we are at the most granular level because we will still be able to drill down or roll up. At higher aggregation level, we will not know how to break the value when we drill down to the lower level."
   ]
  },
  {
   "cell_type": "markdown",
   "id": "81719157-0196-4bff-b336-471f25aeaf91",
   "metadata": {},
   "source": [
    "<div style=\"text-align: center;\"><img src=\"https://data.atoti.io/notebooks/multidimension/img/drilldown_rollup.png\" width=\"50%\"></div>"
   ]
  },
  {
   "cell_type": "markdown",
   "id": "f56c58ae-27f2-472a-841b-5f01aa686181",
   "metadata": {
    "tags": []
   },
   "source": [
    "## Post-processing computes on the fly and provides flexibility"
   ]
  },
  {
   "cell_type": "code",
   "execution_count": 18,
   "id": "d0e7d65b-a300-44ed-9ae2-4187ec1659c3",
   "metadata": {},
   "outputs": [],
   "source": [
    "h, l, m = cube.hierarchies, cube.levels, cube.measures"
   ]
  },
  {
   "cell_type": "code",
   "execution_count": 19,
   "id": "4c2fca52-9025-4277-9770-949e5e55513b",
   "metadata": {},
   "outputs": [],
   "source": [
    "m[\"Sales amount\"] = tt.agg.sum(\n",
    "    sales[\"Quantity\"] * sales[\"Unit price\"],\n",
    ")"
   ]
  },
  {
   "cell_type": "code",
   "execution_count": 20,
   "id": "d5693639-d478-43d2-999b-1647602cb1ac",
   "metadata": {},
   "outputs": [],
   "source": [
    "m[\"Cost price\"] = tt.agg.sum(\n",
    "    m[\"Quantity.SUM\"] * tt.agg.single_value(products[\"Purchase price\"]),\n",
    "    scope=tt.OriginScope(levels={l[\"Product\"]}),\n",
    ")"
   ]
  },
  {
   "cell_type": "code",
   "execution_count": 21,
   "id": "7df79c7f-a67e-40da-b503-bd80d65b3709",
   "metadata": {},
   "outputs": [],
   "source": [
    "m[\"Margin\"] = m[\"Sales amount\"] - m[\"Cost price\"]"
   ]
  },
  {
   "cell_type": "code",
   "execution_count": 22,
   "id": "90571a79-f793-4fc8-a969-f3eb4f6bdc33",
   "metadata": {},
   "outputs": [],
   "source": [
    "m[\"Cumulative amount\"] = tt.agg.sum(\n",
    "    m[\"Sales amount\"], scope=tt.CumulativeScope(level=l[\"Date\"])\n",
    ")\n",
    "\n",
    "m[\"Cumulative margin\"] = tt.agg.sum(\n",
    "    m[\"Margin\"], scope=tt.CumulativeScope(level=l[\"Date\"])\n",
    ")"
   ]
  },
  {
   "cell_type": "markdown",
   "id": "1f55e25f-42a7-4092-9462-48016bcee711",
   "metadata": {},
   "source": [
    "In the visualization below, we are missing the sales data for `Shop_0` on 15 Jan 2021. Suppose we use pre-processing computation to get the cumulative values, we will need to perform re-calculation and then reload the data into the cube. With post-processing, this is not required as the data is computed on the fly."
   ]
  },
  {
   "cell_type": "code",
   "execution_count": 23,
   "id": "dc945967-d009-4b72-aa8b-13b752e11bbb",
   "metadata": {
    "atoti": {
     "widget": {
      "filters": [],
      "mapping": {
       "columns": [
        "ALL_MEASURES"
       ],
       "measures": [
        "[Measures].[Margin]",
        "[Measures].[Cumulative margin]"
       ],
       "rows": [
        "[Sales].[Date].[Date]"
       ]
      },
      "query": {
       "mdx": "SELECT NON EMPTY Hierarchize(Descendants({[Sales].[Date].[AllMember]}, 1, SELF_AND_BEFORE)) ON ROWS, NON EMPTY {[Measures].[Margin], [Measures].[Cumulative margin]} ON COLUMNS FROM [sales cube] CELL PROPERTIES VALUE, FORMATTED_VALUE, BACK_COLOR, FORE_COLOR, FONT_FLAGS",
       "updateMode": "once"
      },
      "serverKey": "default",
      "switchedTo": "plotly-line-chart",
      "widgetKey": "tree-table"
     }
    },
    "tags": []
   },
   "outputs": [
    {
     "data": {
      "application/vnd.atoti.widget.v0+json": {
       "sessionId": "1715028331_F6E9BD",
       "sessionLocation": {
        "https": false,
        "port": 60066
       },
       "widgetCreationCode": "session.widget"
      },
      "text/html": [
       "<img height=\"352\" width=\"1249\" src=\"data:image/png;base64,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\" />"
      ],
      "text/plain": [
       "Open the notebook in JupyterLab with the Atoti JupyterLab extension enabled to build this widget."
      ]
     },
     "metadata": {},
     "output_type": "display_data"
    }
   ],
   "source": [
    "session.widget"
   ]
  },
  {
   "cell_type": "code",
   "execution_count": 24,
   "id": "b76f6b23-2423-4c05-95fa-e7e54bdb1d67",
   "metadata": {
    "atoti": {
     "height": 390,
     "widget": {
      "columnWidths": {
       "[Measures].[Cumulative margin]": 165
      },
      "filters": [],
      "mapping": {
       "columns": [
        "ALL_MEASURES"
       ],
       "measures": [
        "[Measures].[Margin]",
        "[Measures].[Cumulative margin]"
       ],
       "rows": [
        "[Sales].[Date].[Date]"
       ]
      },
      "query": {
       "mdx": "SELECT NON EMPTY Hierarchize(Descendants({[Sales].[Date].[AllMember]}, 1, SELF_AND_BEFORE)) ON ROWS, NON EMPTY {[Measures].[Margin], [Measures].[Cumulative margin]} ON COLUMNS FROM [sales cube] CELL PROPERTIES VALUE, FORMATTED_VALUE, BACK_COLOR, FORE_COLOR, FONT_FLAGS",
       "updateMode": "once"
      },
      "serverKey": "default",
      "widgetKey": "pivot-table"
     }
    },
    "tags": []
   },
   "outputs": [
    {
     "data": {
      "application/vnd.atoti.widget.v0+json": {
       "sessionId": "1715028331_F6E9BD",
       "sessionLocation": {
        "https": false,
        "port": 60066
       },
       "widgetCreationCode": "session.widget"
      },
      "text/html": [
       "<img height=\"382\" width=\"1249\" src=\"data:image/png;base64,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\" />"
      ],
      "text/plain": [
       "Open the notebook in JupyterLab with the Atoti JupyterLab extension enabled to build this widget."
      ]
     },
     "metadata": {},
     "output_type": "display_data"
    }
   ],
   "source": [
    "session.widget"
   ]
  },
  {
   "cell_type": "markdown",
   "id": "bfad2809-47d7-42e2-b9dc-bc24ecdbab03",
   "metadata": {},
   "source": [
    "Simply load the missing data into the cube and it will be computed automatically."
   ]
  },
  {
   "cell_type": "code",
   "execution_count": 25,
   "id": "57330a4f-f852-4104-858e-c5ca2d863386",
   "metadata": {},
   "outputs": [],
   "source": [
    "sales.load_csv(\"s3://data.atoti.io/notebooks/multidimension/shop0_20210115.csv\")"
   ]
  },
  {
   "cell_type": "markdown",
   "id": "098b95d9-8ce4-40af-b0f6-51015357490a",
   "metadata": {},
   "source": [
    "Re-running the last 2 visualizations should reflect the correct sales."
   ]
  },
  {
   "cell_type": "markdown",
   "id": "828ee921-d6a6-40f5-8df9-541687f22344",
   "metadata": {
    "editable": true,
    "slideshow": {
     "slide_type": ""
    },
    "tags": []
   },
   "source": [
    "<div style=\"text-align:center\"><a href=\"https://www.atoti.io/?utm_source=gallery&utm_content=multidimensional-analysis\" target=\"_blank\" rel=\"noopener noreferrer\"><img src=\"https://data.atoti.io/notebooks/banners/Your-turn-to-try-Atoti.jpg\" alt=\"Atoti table\" /></a></div>"
   ]
  }
 ],
 "metadata": {
  "kernelspec": {
   "display_name": "Python 3 (ipykernel)",
   "language": "python",
   "name": "python3"
  },
  "language_info": {
   "codemirror_mode": {
    "name": "ipython",
    "version": 3
   },
   "file_extension": ".py",
   "mimetype": "text/x-python",
   "name": "python",
   "nbconvert_exporter": "python",
   "pygments_lexer": "ipython3",
   "version": "3.11.9"
  }
 },
 "nbformat": 4,
 "nbformat_minor": 5
}
