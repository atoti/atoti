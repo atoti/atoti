{
 "cells": [
  {
   "cell_type": "markdown",
   "id": "fe46c40a-4535-4114-84a6-5b3293298969",
   "metadata": {},
   "source": [
    "# Enabling Observability with OpenTelemetry\n",
    "\n",
    "Atoti Python API features an observability plugin to integrate OpenTelemetry with Atoti for better monitoring and debugging capabilities. \n",
    "\n",
    "In this notebook, we explore how to set up observability for Atoti Python API using OpenTelemetry."
   ]
  },
  {
   "cell_type": "markdown",
   "id": "df6c1018-716d-4af9-9775-f2525331ae58",
   "metadata": {},
   "source": [
    "<div style=\"text-align: center;\" ><a href=\"https://www.atoti.io/?utm_source=gallery&utm_content=observability-with-otel\" target=\"_blank\" rel=\"noopener noreferrer\"><img src=\"https://data.atoti.io/notebooks/banners/Discover-Atoti-now.png\" alt=\"Try Atoti\"></a></div>"
   ]
  },
  {
   "cell_type": "code",
   "execution_count": 1,
   "id": "9a1f3448-c703-48fa-a806-bf4fd5edec1d",
   "metadata": {},
   "outputs": [],
   "source": [
    "# !uv pip install 'atoti[observability]'"
   ]
  },
  {
   "cell_type": "code",
   "execution_count": 2,
   "id": "c9aed4ad-29fc-4e22-8496-82f00360d1c4",
   "metadata": {},
   "outputs": [],
   "source": [
    "import atoti as tt\n",
    "import zipfile\n",
    "import wget\n",
    "from IPython.display import clear_output, display"
   ]
  },
  {
   "cell_type": "markdown",
   "id": "9c19bcff-dbfb-47c8-95d0-7b2ed9ee7c6e",
   "metadata": {},
   "source": [
    "## Start the OTEL stack"
   ]
  },
  {
   "cell_type": "markdown",
   "id": "4333798e-4cfe-46a8-b580-b6340b87ff00",
   "metadata": {},
   "source": [
    "To set up observability for Atoti using OpenTelemetry, we first need a place to send our metrics, logs, and traces.\n",
    "\n",
    "The `docker-compose.yaml` located in `otel-stack` configures the following multi-container [Docker](https://www.docker.com/) application:\n",
    "\n",
    "![otel-stack-diagram-2](https://data.atoti.io/notebooks/observability-with-otel/img/otel-stack-diagram-2.png)\n",
    "\n",
    "With the Atoti Python API observability plugin, Atoti can use OpenTelemetry to instrument its code and generate telemetry data during execution. The telemetry data is then handled by the [OTEL collector](https://opentelemetry.io/docs/collector/) and sent to the corresponding services integrated with [Grafana](https://grafana.com/):\n",
    "\n",
    "* **Traces:** Exported to [Tempo](https://grafana.com/oss/tempo/) (with OTLP).\n",
    "* **Logs:** Exported to [Loki](https://grafana.com/oss/loki/) (push to an endpoint).\n",
    "* **Metrics:** Scraped from the OTEL collector endpoint via [Prometheus](https://grafana.com/oss/prometheus/) every 15 seconds.\n",
    "\n",
    "Navigate to `otel-stack` and execute the following command to setup and confirm the containers are up and running:\n",
    "\n",
    "```bash\n",
    "docker compose up -d\n",
    "```\n",
    "\n",
    "💡 **Note:** Use the `docker ps` and `docker logs` commands to verify the containers are healthy.\n"
   ]
  },
  {
   "cell_type": "markdown",
   "id": "83ebe6ef-fbd3-4802-8ea3-1d1d5b440833",
   "metadata": {},
   "source": [
    "## Download data\n",
    "\n",
    "To simulate greater computation in this walk through, we've prepared 2GB worth of trades and books data."
   ]
  },
  {
   "cell_type": "code",
   "execution_count": 3,
   "id": "e2d44517-7bec-40bc-a00d-0b2f1fd5907a",
   "metadata": {},
   "outputs": [
    {
     "name": "stdout",
     "output_type": "stream",
     "text": [
      "100% [......................................................................] 843205063 / 843205063"
     ]
    }
   ],
   "source": [
    "url = f\"https://data.atoti.io/notebooks/observability-with-otel/data/data.zip\"\n",
    "filename = wget.download(url)\n",
    "\n",
    "with zipfile.ZipFile(filename, \"r\") as zip_ref:\n",
    "    zip_ref.extractall()"
   ]
  },
  {
   "cell_type": "markdown",
   "id": "11d5b438-dd8b-42da-bc3a-806345fd3d40",
   "metadata": {},
   "source": [
    "## Configure the Atoti session for OpenTelemetry\n",
    "\n",
    "When using the observability plugin for Atoti Python API, we need to configure the underlying Atoti Server JVM to use OpenTelemetry. \n",
    "\n",
    "The following configurations are set as their defaults:\n",
    "\n",
    "```java\n",
    "\"-Dspring.profiles.active=application-monitoring\",\n",
    "\"-Dotel.java.global-autoconfigure.enabled=true\",\n",
    "\"-Dotel.traces.exporter=otlp\",\n",
    "\"-Dotel.metrics.exporter=otlp\",\n",
    "\"-Dotel.logs.exporter=otlp\",\n",
    "\"-Dotel.exporter.otlp.endpoint=http://localhost:4318\",\n",
    "\"-Dotel.resource.attributes=service.name=atoti,service.version=1.0\",\n",
    "\"-Dotel.exporter.otlp.protocol=grpc\"\n",
    "```\n",
    "\n",
    "The following configurations are user specific:\n",
    "\n",
    "```java\n",
    "\"-Djson.log.dir=logs\",\n",
    "\"-Dotel.traces.sampler=always_on\",\n",
    "\"-Dotel.metric.export.interval=1000\",\n",
    "\n",
    "```\n",
    "    \n",
    "We can also add in an OpenTelemetry java agent to report more metrics about the performance of the underlying JVM.\n",
    "\n",
    "```java\n",
    "\"-javaagent:opentelemetry-javaagent.jar\"\n",
    "```\n"
   ]
  },
  {
   "cell_type": "code",
   "execution_count": 4,
   "id": "aef1b3b3-c26c-4a2a-b962-e0039c2c41cc",
   "metadata": {},
   "outputs": [
    {
     "name": "stdout",
     "output_type": "stream",
     "text": [
      "100% [........................................................................] 22185022 / 22185022"
     ]
    }
   ],
   "source": [
    "url = f\"https://github.com/open-telemetry/opentelemetry-java-instrumentation/releases/latest/download/opentelemetry-javaagent.jar\"\n",
    "filename = wget.download(url)"
   ]
  },
  {
   "cell_type": "code",
   "execution_count": 5,
   "id": "af47b24d-2e24-4125-a984-1154c923b027",
   "metadata": {},
   "outputs": [],
   "source": [
    "session = tt.Session.start(\n",
    "    tt.SessionConfig(\n",
    "        port=9105,\n",
    "        java_options=[\n",
    "            \"-Dspring.profiles.active=application-monitoring\",\n",
    "            \"-Dotel.java.global-autoconfigure.enabled=true\",\n",
    "            \"-Dotel.traces.exporter=otlp\",\n",
    "            \"-Dotel.metrics.exporter=otlp\",\n",
    "            \"-Dotel.logs.exporter=otlp\",\n",
    "            \"-Dotel.exporter.otlp.endpoint=http://localhost:4318\",\n",
    "            \"-Dotel.resource.attributes=service.name=atoti,service.version=1.0\",\n",
    "            \"-Dotel.exporter.otlp.protocol=grpc\",\n",
    "            \"-Djson.log.dir=logs\",\n",
    "            \"-Dotel.traces.sampler=always_on\",\n",
    "            \"-Dotel.metric.export.interval=1000\",\n",
    "            \"-javaagent:opentelemetry-javaagent.jar\",\n",
    "        ],\n",
    "    )\n",
    ")"
   ]
  },
  {
   "cell_type": "markdown",
   "id": "84689afb-75b5-44f9-aeb2-fd751caa081a",
   "metadata": {},
   "source": [
    "## Load data, join data, visualize data model\n",
    "\n",
    "We then perform the following:\n",
    "\n",
    "1. Load our data into tables\n",
    "2. Make the corresponding joins\n",
    "3. Visualize the data model of the cube"
   ]
  },
  {
   "cell_type": "code",
   "execution_count": 6,
   "id": "5a25dd6e-e986-4009-ab5d-8697fae520cd",
   "metadata": {},
   "outputs": [
    {
     "name": "stdout",
     "output_type": "stream",
     "text": [
      "Trades Row Count: 383688\n",
      "Books Row Count: 408\n"
     ]
    },
    {
     "data": {
      "image/png": "[encoded data removed]",
      "text/plain": [
       "erDiagram\n",
       "  \"Trade PnL\" {\n",
       "    _ int PK \"BookId\"\n",
       "    _ LocalDate PK \"AsOfDate\"\n",
       "    _ String PK \"TradeId\"\n",
       "    _ String PK \"DataSet\"\n",
       "    _ String \"RiskFactor\"\n",
       "    _ String \"RiskClass\"\n",
       "    _ String \"SensitivityName\"\n",
       "    _ String \"ccy\"\n",
       "    nullable double[] \"pnl_vector\"\n",
       "  }\n",
       "  \"Books\" {\n",
       "    _ int PK \"BOOKID\"\n",
       "    _ String \"BOOK\"\n",
       "    _ String \"TRADING_DESK\"\n",
       "    _ String \"SUB_BUSINESS_UNIT\"\n",
       "    _ String \"BUSINESS_UNIT\"\n",
       "  }\n",
       "  \"Trade PnL\" }o--o| \"Books\" : \"`BookId` == `BOOKID`\""
      ]
     },
     "execution_count": 6,
     "metadata": {},
     "output_type": "execute_result"
    }
   ],
   "source": [
    "trades_tbl = session.read_csv(\n",
    "    \"data/trades/TradePnLs*.csv\",\n",
    "    table_name=\"Trade PnL\",\n",
    "    keys=[\"AsOfDate\", \"TradeId\", \"BookId\", \"DataSet\"],\n",
    "    array_separator=\";\",\n",
    ")\n",
    "books_tbl = session.read_csv(\n",
    "    \"data/books/books_books.csv\", table_name=\"Books\", keys=[\"BOOKID\"]\n",
    ")\n",
    "trades_tbl.join(books_tbl, trades_tbl[\"BookId\"] == books_tbl[\"BOOKID\"])\n",
    "\n",
    "cube = session.create_cube(trades_tbl)\n",
    "h, l, m = cube.hierarchies, cube.levels, cube.measures\n",
    "\n",
    "print(f\"Trades Row Count: {trades_tbl.row_count}\")\n",
    "print(f\"Books Row Count: {books_tbl.row_count}\")\n",
    "\n",
    "session.tables.schema"
   ]
  },
  {
   "cell_type": "markdown",
   "id": "ee2773bd-b529-4bce-aa92-15a0ac6f4e71",
   "metadata": {},
   "source": [
    "### Computing VaR 95\n",
    "\n",
    "We have a `pnl_vector.SUM` measure which is the sum of the profit and loss (PnL) value for each historical date."
   ]
  },
  {
   "cell_type": "code",
   "execution_count": 7,
   "id": "573f9a48-738c-49b6-8ac8-c98e7c2b0f14",
   "metadata": {},
   "outputs": [
    {
     "data": {
      "application/json": {
       "contributors.COUNT": {
        "formatter": "INT[#,###]"
       },
       "pnl_vector.MEAN": {
        "formatter": null
       },
       "pnl_vector.SUM": {
        "formatter": null
       }
      },
      "text/html": [
       "<ul>\n",
       "<li>Measures\n",
       "  <ul>\n",
       "  <li>contributors.COUNT\n",
       "    <ul>\n",
       "    <li>formatter: INT[#,###]</li>\n",
       "    </ul>\n",
       "  </li>\n",
       "  <li>pnl_vector.MEAN\n",
       "    <ul>\n",
       "    <li>formatter: None</li>\n",
       "    </ul>\n",
       "  </li>\n",
       "  <li>pnl_vector.SUM\n",
       "    <ul>\n",
       "    <li>formatter: None</li>\n",
       "    </ul>\n",
       "  </li>\n",
       "  </ul>\n",
       "</li>\n",
       "</ul>\n"
      ],
      "text/plain": [
       "{'pnl_vector.SUM': <atoti.measure.Measure object at 0x12411b750>, 'contributors.COUNT': <atoti.measure.Measure object at 0x124d82c10>, 'pnl_vector.MEAN': <atoti.measure.Measure object at 0x124d81050>, 'update.TIMESTAMP': <atoti.measure.Measure object at 0x124d80110>}"
      ]
     },
     "execution_count": 7,
     "metadata": {
      "application/json": {
       "expanded": false,
       "root": "Measures"
      }
     },
     "output_type": "execute_result"
    }
   ],
   "source": [
    "m"
   ]
  },
  {
   "cell_type": "markdown",
   "id": "0b029e3d-871b-4fe7-a0fd-ecd8874c9e18",
   "metadata": {},
   "source": [
    "Therefore, we can define the formula for a 95% confidence level [value at risk (VaR)](https://www.investopedia.com/articles/04/092904.asp) measure as follows:"
   ]
  },
  {
   "cell_type": "code",
   "execution_count": 8,
   "id": "0fd8d2bd-e90a-4e9b-8f73-a3dc7f3cbfa7",
   "metadata": {},
   "outputs": [],
   "source": [
    "m[\"VaR95\"] = tt.array.quantile(m[\"pnl_vector.SUM\"], 1 - 0.95)"
   ]
  },
  {
   "cell_type": "markdown",
   "id": "a66ca2af-398b-4a5c-996f-e30b3bec5bec",
   "metadata": {},
   "source": [
    "Then, run the query to calculate `Var95` for each `AsOfDate` and `BUSINESS_UNIT`."
   ]
  },
  {
   "cell_type": "code",
   "execution_count": 9,
   "id": "ccd7c76a-ca77-4e5e-85fc-73be2c2638fe",
   "metadata": {
    "atoti": {
     "widget": {
      "mapping": {
       "columns": [
        "ALL_MEASURES"
       ],
       "measures": [
        "[Measures].[VaR95]"
       ],
       "rows": [
        "[Trade PnL].[AsOfDate].[AsOfDate]",
        "[Books].[BUSINESS_UNIT].[BUSINESS_UNIT]"
       ]
      },
      "query": {
       "mdx": "SELECT NON EMPTY Crossjoin(Hierarchize(Descendants({[Trade PnL].[AsOfDate].[ALL].[AllMember]}, 1, SELF_AND_BEFORE)), Hierarchize(Descendants({[Books].[BUSINESS_UNIT].[ALL].[AllMember]}, 1, SELF_AND_BEFORE))) ON ROWS, NON EMPTY {[Measures].[VaR95]} ON COLUMNS FROM [Trade PnL] CELL PROPERTIES VALUE, FORMATTED_VALUE, BACK_COLOR, FORE_COLOR, FONT_FLAGS",
       "updateMode": "once"
      },
      "serverKey": "default",
      "widgetKey": "pivot-table"
     }
    }
   },
   "outputs": [
    {
     "data": {
      "application/vnd.atoti.widget.v0+json": {
       "sessionId": "1740500228_173782",
       "sessionUrl": "http://localhost:9105",
       "widgetCreationCode": "session.widget"
      },
      "text/html": [
       "<img height=\"352\" width=\"1159\" src=\"data:image/png;base64,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\" />"
      ],
      "text/plain": [
       "Open the notebook in JupyterLab with the Atoti JupyterLab extension enabled to build this widget."
      ]
     },
     "metadata": {},
     "output_type": "display_data"
    }
   ],
   "source": [
    "session.widget"
   ]
  },
  {
   "cell_type": "markdown",
   "id": "d768bc78-a8d3-4d33-bcb4-55076d6b6375",
   "metadata": {},
   "source": [
    "## Monitoring Performance\n",
    "\n",
    "By this point, Atoti has already sent over telemetry data to the OpenTelemetry collector from our previous operations. This data can then be processed and visualized in Grafana using Loki, Tempo, and Prometheus. We can verify that Atoti is generating OpenTelemetry data by navigating to `localhost:3000`. In the left-hand pane, we can visit the *Explore* menu to access our metrics, logs, and traces using Grafana."
   ]
  },
  {
   "cell_type": "markdown",
   "id": "820ff974-6323-43c8-961b-87a497960728",
   "metadata": {},
   "source": [
    "### Metrics\n",
    "\n",
    "Metrics are quantifiable measurements that reflect the behvaior, health, and performance of an application and its infrastructure.\n",
    "\n",
    "In our setup, Prometheus scrapes the telemetry data exported from Atoti to the OTEL collector and enables us to visualize the Atoti-specific metrics in Grafana. Navigate to the Grafana UI located at [localhost:3000](http://localhost:3000) and click on the *Metrics* item in the left-hand pane to pull up the metric charts.\n",
    "\n",
    "💡 **Note:** Check out the documentation for more information on [Atoti-specific metrics](https://docs.activeviam.com/products/atoti/server/6.1.0/docs/monitoring/metrics/).\n",
    "\n",
    "For example, we see various metrics pop up relating to the execution of the notebook, such as loading CSV data into the tables and the resulting table memory footprint. By monitoring the details captured from our metrics, we can better assess the results of our operations in real time.\n",
    "\n",
    "![metrics](https://data.atoti.io/notebooks/observability-with-otel/img/metrics.png)\n",
    "\n",
    "Similarly, we can also view the JVM metrics reported by the OpenTelemetry Java agent.\n",
    "\n",
    "![java-metrics](https://data.atoti.io/notebooks/observability-with-otel/img/java-metrics.png)"
   ]
  },
  {
   "cell_type": "markdown",
   "id": "36a06676-e613-4320-bfa9-7758a5b76bbc",
   "metadata": {},
   "source": [
    "## Logs\n",
    "\n",
    "Logs are the detailed records of events, warnings and errors occurring over time for a software application or system.\n",
    "\n",
    "Loki is a log aggregation system that natively integrates with Grafana to store and query logs for more effective log management. When we view the Atoti logs in Grafana using Loki, we see the underlying events performed in this notebook: starting the Atoti session, loading data from CSV, creating the cube, and most recently, querying the database using the Atoti JupyterLab widget shown in previous cells.\n",
    "\n",
    "![logs](https://data.atoti.io/notebooks/observability-with-otel/img/logs-2.png)\n",
    "\n",
    "Notice that if we click on a single log record, we can also see the underlying fields of the event along with their values. This also allows us to perform filters based on field values, which enhances the investigative abilities when dealing with logs.\n",
    "\n",
    "![logs-fields](https://data.atoti.io/notebooks/observability-with-otel/img/logs-fields.png)"
   ]
  },
  {
   "cell_type": "markdown",
   "id": "69eb39d4-7871-4db8-a596-672c45b3b57b",
   "metadata": {},
   "source": [
    "## Traces\n",
    "\n",
    "Traces help us understand the flow of requests and interactions within a system. They are the detailed records of how a request flows through a system, tracking its journey across different components, services, or processes. Traces are made up of one or more spans. A span represents a single operation within that request, providing detailed information about that specific step in the request flow.\n",
    "\n",
    "With the observability plugin, we can visualize our traces in Grafana using Tempo. Tempo is a distributed tracing backend that natively integrates with Grafana and allows us to visualize the interactions of our requests when we use Atoti.\n",
    "\n",
    "If we select one of the logs relating to the `VaR95` query executed in previous cells, we can pinpoint its `TraceID` and visualize the request flow when querying the Atoti database using the Atoti JupyterLab widget.\n",
    "\n",
    "![logs-traceid](https://data.atoti.io/notebooks/observability-with-otel/img/logs-traceid-2.png)\n",
    "\n",
    "Using these insights we are able to determine the time it takes for a request to complete at every stage of its journey across the system. Should any problems arise, this granular view helps us better diagnose issues.\n",
    "\n",
    "![traceid-spans](https://data.atoti.io/notebooks/observability-with-otel/img/traceid-spans-2.png)"
   ]
  },
  {
   "cell_type": "markdown",
   "id": "147cc6f8-b22a-4f6f-8349-50ac61760152",
   "metadata": {},
   "source": [
    "## Monitoring aggregate providers\n",
    "\n",
    "A common use case in Atoti is to use aggregate providers to speed up queries. Aggregate providers pre-compute and store aggregates for the specified granularity for certain hierarchies. These intermediate aggregates are then stored in-memory and used to improve query performance, though at the cost of a higher memory footprint.\n",
    "\n",
    "💡 **Note:** Take a look at the [aggregate providers](../aggregate-provider/main.ipynb) notebook for a better understanding of how to use aggregate providers.\n",
    "\n",
    "Let's use the observability plugin for Atoti Python API to monitor the creation and use of an aggregate provider. We'll use the `query` function with the `%%time` magic command to get a second opinion of how long it takes the query to return the results for the `VaR95` calculation at the specified granularity."
   ]
  },
  {
   "cell_type": "code",
   "execution_count": 10,
   "id": "771537e3-de21-43fc-b012-753afeeff88d",
   "metadata": {},
   "outputs": [
    {
     "name": "stdout",
     "output_type": "stream",
     "text": [
      "CPU times: user 25.2 ms, sys: 5.43 ms, total: 30.6 ms\n",
      "Wall time: 208 ms\n"
     ]
    },
    {
     "data": {
      "application/vnd.atoti.convert-mdx-query-result-to-widget.v0+json": {
       "mdx": "SELECT {[Measures].[VaR95]} ON COLUMNS, NON EMPTY Crossjoin(Hierarchize(Descendants({[Books].[BUSINESS_UNIT].[ALL].[AllMember]}, 1, SELF_AND_BEFORE)), Hierarchize(Descendants({[Books].[SUB_BUSINESS_UNIT].[ALL].[AllMember]}, 1, SELF_AND_BEFORE)), Hierarchize(Descendants({[Books].[TRADING_DESK].[ALL].[AllMember]}, 1, SELF_AND_BEFORE))) ON ROWS FROM [Trade PnL]",
       "sessionId": "1740500228_173782",
       "widgetCreationCode": "session.widget"
      },
      "text/html": [
       "<div>\n",
       "<style scoped>\n",
       "    .dataframe tbody tr th:only-of-type {\n",
       "        vertical-align: middle;\n",
       "    }\n",
       "\n",
       "    .dataframe tbody tr th {\n",
       "        vertical-align: top;\n",
       "    }\n",
       "\n",
       "    .dataframe thead th {\n",
       "        text-align: right;\n",
       "    }\n",
       "</style>\n",
       "<table border=\"1\" class=\"dataframe\">\n",
       "  <thead>\n",
       "    <tr style=\"text-align: right;\">\n",
       "      <th></th>\n",
       "      <th></th>\n",
       "      <th></th>\n",
       "      <th>VaR95</th>\n",
       "    </tr>\n",
       "    <tr>\n",
       "      <th>BUSINESS_UNIT</th>\n",
       "      <th>SUB_BUSINESS_UNIT</th>\n",
       "      <th>TRADING_DESK</th>\n",
       "      <th></th>\n",
       "    </tr>\n",
       "  </thead>\n",
       "  <tbody>\n",
       "    <tr>\n",
       "      <th>Equity</th>\n",
       "      <th>Foreign Equity</th>\n",
       "      <th>Hermes</th>\n",
       "      <td>-15,710,141.00</td>\n",
       "    </tr>\n",
       "    <tr>\n",
       "      <th>Forex</th>\n",
       "      <th>Developed Market</th>\n",
       "      <th>Hades</th>\n",
       "      <td>-11,444,444.85</td>\n",
       "    </tr>\n",
       "    <tr>\n",
       "      <th rowspan=\"2\" valign=\"top\">Rates &amp; Credits</th>\n",
       "      <th rowspan=\"2\" valign=\"top\">Domestic Rates &amp; Credit</th>\n",
       "      <th>Hermes</th>\n",
       "      <td>-14,713,905.70</td>\n",
       "    </tr>\n",
       "    <tr>\n",
       "      <th>Keres</th>\n",
       "      <td>-10,148,741.35</td>\n",
       "    </tr>\n",
       "  </tbody>\n",
       "</table>\n",
       "</div>"
      ],
      "text/plain": [
       "                                                               VaR95\n",
       "BUSINESS_UNIT   SUB_BUSINESS_UNIT       TRADING_DESK                \n",
       "Equity          Foreign Equity          Hermes        -15,710,141.00\n",
       "Forex           Developed Market        Hades         -11,444,444.85\n",
       "Rates & Credits Domestic Rates & Credit Hermes        -14,713,905.70\n",
       "                                        Keres         -10,148,741.35"
      ]
     },
     "execution_count": 10,
     "metadata": {},
     "output_type": "execute_result"
    }
   ],
   "source": [
    "%%time\n",
    "cube.query(\n",
    "    m[\"VaR95\"],\n",
    "    levels=[l[\"BUSINESS_UNIT\"], l[\"SUB_BUSINESS_UNIT\"], l[\"TRADING_DESK\"]],\n",
    ")"
   ]
  },
  {
   "cell_type": "markdown",
   "id": "14e7cae9-149b-4c93-95a5-a84faf71f058",
   "metadata": {},
   "source": [
    "When we re-visit Grafana and Tempo and monitor the trace for the query, we can see the corresponding breakdown of spans for each of the underlying services that were impacted.\n",
    "\n",
    "💡 **Note:** The time taken produced by `%%time` may differ from what is shown in the corresponding TraceID diagram. This is because `%%time` measures the execution time of the notebook cell entirely, whereas the TraceID measures the execution time of a request traveling through the system.\n",
    "\n",
    "![before-aggregate-provider](https://data.atoti.io/notebooks/observability-with-otel/img/before-aggregate-provider.png)"
   ]
  },
  {
   "cell_type": "markdown",
   "id": "c0c1c0c5-2c00-470a-835e-192b506c217a",
   "metadata": {},
   "source": [
    "Let's now create our aggregate provider to match the granularity of the previous query for the `pnl_vector.SUM` measure. This pre-computes and stores the intermediate aggregate for `pnl_vector.SUM` at the specified granularity and improves the query time when calculating `VaR95`."
   ]
  },
  {
   "cell_type": "code",
   "execution_count": 11,
   "id": "467a7574-83b9-4827-9e18-2651a948c7ea",
   "metadata": {},
   "outputs": [],
   "source": [
    "cube.aggregate_providers.update(\n",
    "    {\n",
    "        \"PnL provider\": tt.AggregateProvider(\n",
    "            key=\"bitmap\",\n",
    "            levels=[\n",
    "                l[\"BUSINESS_UNIT\"],\n",
    "                l[\"SUB_BUSINESS_UNIT\"],\n",
    "                l[\"TRADING_DESK\"],\n",
    "            ],\n",
    "            measures=[m[\"pnl_vector.SUM\"]],\n",
    "        )\n",
    "    }\n",
    ")"
   ]
  },
  {
   "cell_type": "markdown",
   "id": "32b5f850-d7ce-4845-8337-8e6c73d70dda",
   "metadata": {},
   "source": [
    "Then, re-run the query."
   ]
  },
  {
   "cell_type": "code",
   "execution_count": 12,
   "id": "a4418335-20e7-467d-b48b-5fdd35152806",
   "metadata": {},
   "outputs": [
    {
     "name": "stdout",
     "output_type": "stream",
     "text": [
      "CPU times: user 8.14 ms, sys: 2.22 ms, total: 10.4 ms\n",
      "Wall time: 62.8 ms\n"
     ]
    },
    {
     "data": {
      "application/vnd.atoti.convert-mdx-query-result-to-widget.v0+json": {
       "mdx": "SELECT {[Measures].[VaR95]} ON COLUMNS, NON EMPTY Crossjoin(Hierarchize(Descendants({[Books].[BUSINESS_UNIT].[ALL].[AllMember]}, 1, SELF_AND_BEFORE)), Hierarchize(Descendants({[Books].[SUB_BUSINESS_UNIT].[ALL].[AllMember]}, 1, SELF_AND_BEFORE)), Hierarchize(Descendants({[Books].[TRADING_DESK].[ALL].[AllMember]}, 1, SELF_AND_BEFORE))) ON ROWS FROM [Trade PnL]",
       "sessionId": "1740500228_173782",
       "widgetCreationCode": "session.widget"
      },
      "text/html": [
       "<div>\n",
       "<style scoped>\n",
       "    .dataframe tbody tr th:only-of-type {\n",
       "        vertical-align: middle;\n",
       "    }\n",
       "\n",
       "    .dataframe tbody tr th {\n",
       "        vertical-align: top;\n",
       "    }\n",
       "\n",
       "    .dataframe thead th {\n",
       "        text-align: right;\n",
       "    }\n",
       "</style>\n",
       "<table border=\"1\" class=\"dataframe\">\n",
       "  <thead>\n",
       "    <tr style=\"text-align: right;\">\n",
       "      <th></th>\n",
       "      <th></th>\n",
       "      <th></th>\n",
       "      <th>VaR95</th>\n",
       "    </tr>\n",
       "    <tr>\n",
       "      <th>BUSINESS_UNIT</th>\n",
       "      <th>SUB_BUSINESS_UNIT</th>\n",
       "      <th>TRADING_DESK</th>\n",
       "      <th></th>\n",
       "    </tr>\n",
       "  </thead>\n",
       "  <tbody>\n",
       "    <tr>\n",
       "      <th>Equity</th>\n",
       "      <th>Foreign Equity</th>\n",
       "      <th>Hermes</th>\n",
       "      <td>-15,710,141.00</td>\n",
       "    </tr>\n",
       "    <tr>\n",
       "      <th>Forex</th>\n",
       "      <th>Developed Market</th>\n",
       "      <th>Hades</th>\n",
       "      <td>-11,444,444.85</td>\n",
       "    </tr>\n",
       "    <tr>\n",
       "      <th rowspan=\"2\" valign=\"top\">Rates &amp; Credits</th>\n",
       "      <th rowspan=\"2\" valign=\"top\">Domestic Rates &amp; Credit</th>\n",
       "      <th>Hermes</th>\n",
       "      <td>-14,713,905.70</td>\n",
       "    </tr>\n",
       "    <tr>\n",
       "      <th>Keres</th>\n",
       "      <td>-10,148,741.35</td>\n",
       "    </tr>\n",
       "  </tbody>\n",
       "</table>\n",
       "</div>"
      ],
      "text/plain": [
       "                                                               VaR95\n",
       "BUSINESS_UNIT   SUB_BUSINESS_UNIT       TRADING_DESK                \n",
       "Equity          Foreign Equity          Hermes        -15,710,141.00\n",
       "Forex           Developed Market        Hades         -11,444,444.85\n",
       "Rates & Credits Domestic Rates & Credit Hermes        -14,713,905.70\n",
       "                                        Keres         -10,148,741.35"
      ]
     },
     "execution_count": 12,
     "metadata": {},
     "output_type": "execute_result"
    }
   ],
   "source": [
    "%%time\n",
    "cube.query(\n",
    "    m[\"VaR95\"],\n",
    "    levels=[l[\"BUSINESS_UNIT\"], l[\"SUB_BUSINESS_UNIT\"], l[\"TRADING_DESK\"]],\n",
    ")"
   ]
  },
  {
   "cell_type": "markdown",
   "id": "7fcae090-9b54-4449-a29c-466cd9d1aa18",
   "metadata": {},
   "source": [
    "We see from the `%%time` magic command that query times have improved thanks to the aggregate provider. In addition, when we view the corresponding TraceID in Grafana and Tempo, we can visualize the granular improvement for the request. For example, we see that the overall time for the trace/request has significantly improved, while the granular spans also show an increase in performance.\n",
    "\n",
    "![after-aggregate-provider](https://data.atoti.io/notebooks/observability-with-otel/img/after-aggregate-provider.png)"
   ]
  },
  {
   "cell_type": "markdown",
   "id": "9a01f240-c9c8-4dab-9862-18a889e91ccf",
   "metadata": {},
   "source": [
    "This walk through was just a small example of how to get observability up and running with OpenTelemetry using the Atoti observability plugin. However, perfomance tuning and monitoring are useful and relevant at any stage of an Atoti project. It's a good idea to set them up during initial stages, so that when the project is ready to scale we have everything we need already in place."
   ]
  },
  {
   "cell_type": "markdown",
   "id": "c92cf61f-d9e1-4911-8b76-2d08e4a8eda8",
   "metadata": {},
   "source": [
    "<div style=\"text-align: center;\" ><a href=\"https://www.atoti.io/?utm_source=gallery&utm_content=observability-with-otel\" target=\"_blank\" rel=\"noopener noreferrer\"><img src=\"https://data.atoti.io/notebooks/banners/Your-turn-to-try-Atoti.jpg\" alt=\"Try Atoti\"></a></div>"
   ]
  }
 ],
 "metadata": {
  "kernelspec": {
   "display_name": "Python 3 (ipykernel)",
   "language": "python",
   "name": "python3"
  },
  "language_info": {
   "codemirror_mode": {
    "name": "ipython",
    "version": 3
   },
   "file_extension": ".py",
   "mimetype": "text/x-python",
   "name": "python",
   "nbconvert_exporter": "python",
   "pygments_lexer": "ipython3",
   "version": "3.11.10"
  },
  "widgets": {
   "application/vnd.jupyter.widget-state+json": {
    "state": {},
    "version_major": 2,
    "version_minor": 0
   }
  }
 },
 "nbformat": 4,
 "nbformat_minor": 5
}
