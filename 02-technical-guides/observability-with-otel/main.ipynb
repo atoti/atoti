{
 "cells": [
  {
   "cell_type": "markdown",
   "id": "fe46c40a-4535-4114-84a6-5b3293298969",
   "metadata": {},
   "source": [
    "# Enabling Observability with OpenTelemetry\n",
    "\n",
    "Atoti Python API features an observability plugin to integrate OpenTelemetry with Atoti for better monitoring and debugging capabilities. \n",
    "\n",
    "In this notebook, we explore how to set up observability for Atoti Python API using OpenTelemetry."
   ]
  },
  {
   "cell_type": "markdown",
   "id": "df6c1018-716d-4af9-9775-f2525331ae58",
   "metadata": {},
   "source": [
    "<div style=\"text-align: center;\" ><a href=\"https://www.atoti.io/?utm_source=gallery&utm_content=observability-with-otel\" target=\"_blank\" rel=\"noopener noreferrer\"><img src=\"https://data.atoti.io/notebooks/banners/Discover-Atoti-now.png\" alt=\"Try Atoti\"></a></div>"
   ]
  },
  {
   "cell_type": "code",
   "execution_count": 1,
   "id": "9a1f3448-c703-48fa-a806-bf4fd5edec1d",
   "metadata": {},
   "outputs": [],
   "source": [
    "# !uv pip install 'atoti[observability]'"
   ]
  },
  {
   "cell_type": "code",
   "execution_count": 2,
   "id": "c9aed4ad-29fc-4e22-8496-82f00360d1c4",
   "metadata": {},
   "outputs": [],
   "source": [
    "import atoti as tt\n",
    "import zipfile\n",
    "import wget\n",
    "from IPython.display import clear_output, display"
   ]
  },
  {
   "cell_type": "markdown",
   "id": "9c19bcff-dbfb-47c8-95d0-7b2ed9ee7c6e",
   "metadata": {},
   "source": [
    "## Start the OTEL stack"
   ]
  },
  {
   "cell_type": "markdown",
   "id": "4333798e-4cfe-46a8-b580-b6340b87ff00",
   "metadata": {},
   "source": [
    "To set up observability for Atoti using OpenTelemetry, we first need a place to send our metrics, logs, and traces.\n",
    "\n",
    "The `docker-compose.yaml` located in `otel-stack` configures the following multi-container [Docker](https://www.docker.com/) application:\n",
    "\n",
    "![otel-stack-diagram-2](https://data.atoti.io/notebooks/observability-with-otel/img/otel-stack-diagram-2.png)\n",
    "\n",
    "With the Atoti Python API observability plugin, Atoti can use OpenTelemetry to instrument its code and generate telemetry data during execution. The telemetry data is then handled by the [OTEL collector](https://opentelemetry.io/docs/collector/) and sent to the corresponding services integrated with [Grafana](https://grafana.com/):\n",
    "\n",
    "* **Traces:** Exported to [Tempo](https://grafana.com/oss/tempo/) (with OTLP).\n",
    "* **Logs:** Exported to [Loki](https://grafana.com/oss/loki/) (push to an endpoint).\n",
    "* **Metrics:** Scraped from the OTEL collector endpoint via [Prometheus](https://grafana.com/oss/prometheus/) every 15 seconds.\n",
    "\n",
    "Navigate to `otel-stack` and execute the following command to setup and confirm the containers are up and running:\n",
    "\n",
    "```bash\n",
    "docker compose up -d\n",
    "```\n",
    "\n",
    "💡 **Note:** Use the `docker ps` and `docker logs` commands to verify the containers are healthy.\n"
   ]
  },
  {
   "cell_type": "markdown",
   "id": "83ebe6ef-fbd3-4802-8ea3-1d1d5b440833",
   "metadata": {},
   "source": [
    "## Download data\n",
    "\n",
    "To simulate greater computation in this walk through, we've prepared 2GB worth of trades and books data."
   ]
  },
  {
   "cell_type": "code",
   "execution_count": 3,
   "id": "e2d44517-7bec-40bc-a00d-0b2f1fd5907a",
   "metadata": {},
   "outputs": [
    {
     "name": "stdout",
     "output_type": "stream",
     "text": [
      "100% [......................................................................] 843205063 / 843205063"
     ]
    }
   ],
   "source": [
    "url = f\"https://data.atoti.io/notebooks/observability-with-otel/data/data.zip\"\n",
    "filename = wget.download(url)\n",
    "\n",
    "with zipfile.ZipFile(filename, \"r\") as zip_ref:\n",
    "    zip_ref.extractall()"
   ]
  },
  {
   "cell_type": "markdown",
   "id": "11d5b438-dd8b-42da-bc3a-806345fd3d40",
   "metadata": {},
   "source": [
    "## Configure the Atoti session for OpenTelemetry\n",
    "\n",
    "When using the observability plugin for Atoti Python API, we need to configure the underlying Atoti Server JVM to use OpenTelemetry. \n",
    "\n",
    "The following configurations are set as their defaults:\n",
    "\n",
    "```java\n",
    "\"-Dspring.profiles.active=application-monitoring\",\n",
    "\"-Dotel.java.global-autoconfigure.enabled=true\",\n",
    "\"-Dotel.traces.exporter=otlp\",\n",
    "\"-Dotel.metrics.exporter=otlp\",\n",
    "\"-Dotel.logs.exporter=otlp\",\n",
    "\"-Dotel.exporter.otlp.endpoint=http://localhost:4318\",\n",
    "\"-Dotel.resource.attributes=service.name=atoti,service.version=1.0\",\n",
    "```\n",
    "\n",
    "The following configurations are user specific:\n",
    "\n",
    "```java\n",
    "\"-Djson.log.dir=logs\",\n",
    "\"-Dotel.traces.sampler=always_on\",\n",
    "\"-Dotel.metric.export.interval=1000\",\n",
    "\n",
    "```\n",
    "    \n",
    "We can also add in an OpenTelemetry java agent to report more metrics about the performance of the underlying JVM.\n",
    "\n",
    "```java\n",
    "\"-javaagent:opentelemetry-javaagent.jar\"\n",
    "```\n"
   ]
  },
  {
   "cell_type": "code",
   "execution_count": 4,
   "id": "aef1b3b3-c26c-4a2a-b962-e0039c2c41cc",
   "metadata": {},
   "outputs": [
    {
     "name": "stdout",
     "output_type": "stream",
     "text": [
      "100% [........................................................................] 21891536 / 21891536"
     ]
    }
   ],
   "source": [
    "url = f\"https://github.com/open-telemetry/opentelemetry-java-instrumentation/releases/latest/download/opentelemetry-javaagent.jar\"\n",
    "filename = wget.download(url)"
   ]
  },
  {
   "cell_type": "code",
   "execution_count": 5,
   "id": "af47b24d-2e24-4125-a984-1154c923b027",
   "metadata": {},
   "outputs": [],
   "source": [
    "session = tt.Session.start(\n",
    "    tt.SessionConfig(\n",
    "        port=9105,\n",
    "        java_options=[\n",
    "            \"-Dspring.profiles.active=application-monitoring\",\n",
    "            \"-Dotel.java.global-autoconfigure.enabled=true\",\n",
    "            \"-Dotel.traces.exporter=otlp\",\n",
    "            \"-Dotel.metrics.exporter=otlp\",\n",
    "            \"-Dotel.logs.exporter=otlp\",\n",
    "            \"-Dotel.exporter.otlp.endpoint=http://localhost:4318\",\n",
    "            \"-Dotel.resource.attributes=service.name=atoti,service.version=1.0\",\n",
    "            \"-Djson.log.dir=logs\",\n",
    "            \"-Dotel.traces.sampler=always_on\",\n",
    "            \"-Dotel.metric.export.interval=1000\",\n",
    "            \"-javaagent:opentelemetry-javaagent.jar\",\n",
    "        ],\n",
    "    )\n",
    ")"
   ]
  },
  {
   "cell_type": "markdown",
   "id": "84689afb-75b5-44f9-aeb2-fd751caa081a",
   "metadata": {},
   "source": [
    "## Load data, join data, visualize data model\n",
    "\n",
    "We then perform the following:\n",
    "\n",
    "1. Load our data into tables\n",
    "2. Make the corresponding joins\n",
    "3. Visualize the data model of the cube"
   ]
  },
  {
   "cell_type": "code",
   "execution_count": 6,
   "id": "5a25dd6e-e986-4009-ab5d-8697fae520cd",
   "metadata": {},
   "outputs": [
    {
     "name": "stdout",
     "output_type": "stream",
     "text": [
      "Trades Row Count: 383688\n",
      "Books Row Count: 408\n"
     ]
    },
    {
     "data": {
      "image/png": "[encoded data removed]",
      "text/plain": [
       "erDiagram\n",
       "  \"Trade PnL\" {\n",
       "    _ int PK \"BookId\"\n",
       "    _ LocalDate PK \"AsOfDate\"\n",
       "    _ String PK \"TradeId\"\n",
       "    _ String PK \"DataSet\"\n",
       "    _ String \"RiskFactor\"\n",
       "    _ String \"RiskClass\"\n",
       "    _ String \"SensitivityName\"\n",
       "    _ String \"ccy\"\n",
       "    nullable double[] \"pnl_vector\"\n",
       "  }\n",
       "  \"Books\" {\n",
       "    _ int PK \"BOOKID\"\n",
       "    _ String \"BOOK\"\n",
       "    _ String \"TRADING_DESK\"\n",
       "    _ String \"SUB_BUSINESS_UNIT\"\n",
       "    _ String \"BUSINESS_UNIT\"\n",
       "  }\n",
       "  \"Trade PnL\" }o--o| \"Books\" : \"`BookId` == `BOOKID`\""
      ]
     },
     "execution_count": 6,
     "metadata": {},
     "output_type": "execute_result"
    }
   ],
   "source": [
    "trades_tbl = session.read_csv(\n",
    "    \"data/trades/TradePnLs*.csv\",\n",
    "    table_name=\"Trade PnL\",\n",
    "    keys=[\"AsOfDate\", \"TradeId\", \"BookId\", \"DataSet\"],\n",
    "    array_separator=\";\",\n",
    ")\n",
    "books_tbl = session.read_csv(\n",
    "    \"data/books/books_books.csv\", table_name=\"Books\", keys=[\"BOOKID\"]\n",
    ")\n",
    "trades_tbl.join(books_tbl, trades_tbl[\"BookId\"] == books_tbl[\"BOOKID\"])\n",
    "\n",
    "cube = session.create_cube(trades_tbl)\n",
    "h, l, m = cube.hierarchies, cube.levels, cube.measures\n",
    "\n",
    "print(f\"Trades Row Count: {trades_tbl.row_count}\")\n",
    "print(f\"Books Row Count: {books_tbl.row_count}\")\n",
    "\n",
    "session.tables.schema"
   ]
  },
  {
   "cell_type": "markdown",
   "id": "ee2773bd-b529-4bce-aa92-15a0ac6f4e71",
   "metadata": {},
   "source": [
    "### Computing VaR 95\n",
    "\n",
    "We have a `pnl_vector.SUM` measure which is the sum of the profit and loss (PnL) value for each historical date."
   ]
  },
  {
   "cell_type": "code",
   "execution_count": 7,
   "id": "573f9a48-738c-49b6-8ac8-c98e7c2b0f14",
   "metadata": {},
   "outputs": [
    {
     "data": {
      "application/json": {
       "contributors.COUNT": {
        "formatter": "INT[#,###]"
       },
       "pnl_vector.MEAN": {
        "formatter": null
       },
       "pnl_vector.SUM": {
        "formatter": null
       }
      },
      "text/html": [
       "<ul>\n",
       "<li>Measures\n",
       "  <ul>\n",
       "  <li>contributors.COUNT\n",
       "    <ul>\n",
       "    <li>formatter: INT[#,###]</li>\n",
       "    </ul>\n",
       "  </li>\n",
       "  <li>pnl_vector.MEAN\n",
       "    <ul>\n",
       "    <li>formatter: None</li>\n",
       "    </ul>\n",
       "  </li>\n",
       "  <li>pnl_vector.SUM\n",
       "    <ul>\n",
       "    <li>formatter: None</li>\n",
       "    </ul>\n",
       "  </li>\n",
       "  </ul>\n",
       "</li>\n",
       "</ul>\n"
      ],
      "text/plain": [
       "{'pnl_vector.SUM': <atoti.measure.Measure object at 0x1302022d0>, 'pnl_vector.MEAN': <atoti.measure.Measure object at 0x117cbb550>, 'contributors.COUNT': <atoti.measure.Measure object at 0x117cbb410>, 'update.TIMESTAMP': <atoti.measure.Measure object at 0x117cbb6d0>}"
      ]
     },
     "execution_count": 7,
     "metadata": {
      "application/json": {
       "expanded": false,
       "root": "Measures"
      }
     },
     "output_type": "execute_result"
    }
   ],
   "source": [
    "m"
   ]
  },
  {
   "cell_type": "markdown",
   "id": "0b029e3d-871b-4fe7-a0fd-ecd8874c9e18",
   "metadata": {},
   "source": [
    "Therefore, we can define the formula for a 95% confidence level [value at risk (VaR)](https://www.investopedia.com/articles/04/092904.asp) measure as follows:"
   ]
  },
  {
   "cell_type": "code",
   "execution_count": 8,
   "id": "0fd8d2bd-e90a-4e9b-8f73-a3dc7f3cbfa7",
   "metadata": {},
   "outputs": [],
   "source": [
    "m[\"VaR95\"] = tt.array.quantile(m[\"pnl_vector.SUM\"], 1 - 0.95)"
   ]
  },
  {
   "cell_type": "markdown",
   "id": "a66ca2af-398b-4a5c-996f-e30b3bec5bec",
   "metadata": {},
   "source": [
    "Then, run the query to calculate `Var95` for each `AsOfDate` and `BUSINESS_UNIT`."
   ]
  },
  {
   "cell_type": "code",
   "execution_count": 9,
   "id": "ccd7c76a-ca77-4e5e-85fc-73be2c2638fe",
   "metadata": {
    "atoti": {
     "widget": {
      "mapping": {
       "columns": [
        "ALL_MEASURES"
       ],
       "measures": [
        "[Measures].[VaR95]"
       ],
       "rows": [
        "[Trade PnL].[AsOfDate].[AsOfDate]",
        "[Books].[BUSINESS_UNIT].[BUSINESS_UNIT]"
       ]
      },
      "query": {
       "mdx": "SELECT NON EMPTY Crossjoin(Hierarchize(Descendants({[Trade PnL].[AsOfDate].[ALL].[AllMember]}, 1, SELF_AND_BEFORE)), Hierarchize(Descendants({[Books].[BUSINESS_UNIT].[ALL].[AllMember]}, 1, SELF_AND_BEFORE))) ON ROWS, NON EMPTY {[Measures].[VaR95]} ON COLUMNS FROM [Trade PnL] CELL PROPERTIES VALUE, FORMATTED_VALUE, BACK_COLOR, FORE_COLOR, FONT_FLAGS",
       "updateMode": "once"
      },
      "serverKey": "default",
      "widgetKey": "pivot-table"
     }
    }
   },
   "outputs": [
    {
     "data": {
      "application/vnd.atoti.widget.v0+json": {
       "sessionId": "1737473176_499123",
       "sessionUrl": "http://localhost:9105",
       "widgetCreationCode": "session.widget"
      },
      "text/html": [
       "<img height=\"352\" width=\"1158\" src=\"data:image/png;base64,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\" />"
      ],
      "text/plain": [
       "Open the notebook in JupyterLab with the Atoti JupyterLab extension enabled to build this widget."
      ]
     },
     "metadata": {},
     "output_type": "display_data"
    }
   ],
   "source": [
    "session.widget"
   ]
  },
  {
   "cell_type": "markdown",
   "id": "d768bc78-a8d3-4d33-bcb4-55076d6b6375",
   "metadata": {},
   "source": [
    "## Monitoring Performance\n",
    "\n",
    "By this point, Atoti has already sent over telemetry data to the OpenTelemetry collector from our previous operations. This data can then be processed and visualized in Grafana using Loki, Tempo, and Prometheus."
   ]
  },
  {
   "cell_type": "markdown",
   "id": "820ff974-6323-43c8-961b-87a497960728",
   "metadata": {},
   "source": [
    "### Metrics\n",
    "\n",
    "Metrics are quantifiable measurements that reflect the behvaior, health, and performance of an application and its infrastructure.\n",
    "\n",
    "In our setup, Prometheus scrapes the telemetry data exported from Atoti to the OTEL collector and enables us to visualize the Atoti-specific metrics in Grafana. Navigate to the Grafana UI located at [localhost:3000](http://localhost:3000) and click on the *Metrics* item in the left-hand pane to pull up the metric charts.\n",
    "\n",
    "💡 **Note:** Check out the documentation for more information on [Atoti-specific metrics](https://docs.activeviam.com/products/atoti/server/6.1.0/docs/monitoring/metrics/).\n",
    "\n",
    "For example, we see various metrics pop up relating to the execution of the notebook, such as loading CSV data into the tables and the resulting table memory footprint. By monitoring the details captured from our metrics, we can better assess the results of our operations in real time.\n",
    "\n",
    "![metrics](https://data.atoti.io/notebooks/observability-with-otel/img/metrics.png)\n",
    "\n",
    "Similarly, we can also view the JVM metrics reported by the OpenTelemetry Java agent.\n",
    "\n",
    "![java-metrics](https://data.atoti.io/notebooks/observability-with-otel/img/java-metrics.png)"
   ]
  },
  {
   "cell_type": "markdown",
   "id": "36a06676-e613-4320-bfa9-7758a5b76bbc",
   "metadata": {},
   "source": [
    "## Logs\n",
    "\n",
    "Logs are the detailed records of events, warnings and errors occurring over time for a software application or system.\n",
    "\n",
    "Loki is a log aggregation system that natively integrates with Grafana to store and query logs for more effective log management. When we view the Atoti logs in Grafana using Loki, we see the underlying events performed in this notebook: starting the Atoti session, loading data from CSV, creating the cube, and most recently, querying the database using the Atoti JupyterLab widget shown in previous cells.\n",
    "\n",
    "![logs](https://data.atoti.io/notebooks/observability-with-otel/img/logs-2.png)\n",
    "\n",
    "Notice that if we click on a single log record, we can also see the underlying fields of the event along with their values. This also allows us to perform filters based on field values, which enhances the investigative abilities when dealing with logs.\n",
    "\n",
    "![logs-fields](https://data.atoti.io/notebooks/observability-with-otel/img/logs-fields.png)"
   ]
  },
  {
   "cell_type": "markdown",
   "id": "69eb39d4-7871-4db8-a596-672c45b3b57b",
   "metadata": {},
   "source": [
    "## Traces\n",
    "\n",
    "Traces help us understand the flow of requests and interactions within a system. They are the detailed records of how a request flows through a system, tracking its journey across different components, services, or processes. Traces are made up of one or more spans. A span represents a single operation within that request, providing detailed information about that specific step in the request flow.\n",
    "\n",
    "With the observability plugin, we can visualize our traces in Grafana using Tempo. Tempo is an open source, easy-to-use, and high-scale distributed tracing backend that natively integrates with Grafana to allow us to visualize the interactions of our requests when we use Atoti.\n",
    "\n",
    "If we select one of the logs relating to the `VaR95` query executed in previous cells, we can pinpoint its `TraceID` and visualize the request flow when querying the Atoti database using the Atoti JupyterLab widget.\n",
    "\n",
    "![logs-traceid](https://data.atoti.io/notebooks/observability-with-otel/img/logs-traceid-2.png)\n",
    "\n",
    "Using these insights we are able to determine the time it takes for a request to complete at every stage of its journey across the system. Should any problems arise, this granular view helps us better diagnose issues.\n",
    "\n",
    "![traceid-spans](https://data.atoti.io/notebooks/observability-with-otel/img/traceid-spans-2.png)"
   ]
  },
  {
   "cell_type": "markdown",
   "id": "147cc6f8-b22a-4f6f-8349-50ac61760152",
   "metadata": {},
   "source": [
    "## Monitoring aggregate providers\n",
    "\n",
    "A common use case in Atoti is to use aggregate providers to speed up queries. Aggregate providers pre-compute and store aggregates for the specified granularity for certain hierarchies. These intermediate aggregates are then stored in-memory and used to improve query performance, though at the cost of a higher memory footprint.\n",
    "\n",
    "💡 **Note:** Take a look at the [aggregate providers](../aggregate-provider/main.ipynb) notebook for a better understanding of how to use aggregate providers.\n",
    "\n",
    "Let's use the observability plugin for Atoti Python API to monitor the creation and use of an aggregate provider. We'll use the `query` function with the `%%time` magic command to get a second opinion of how long it takes the query to return the results for the `VaR95` calculation at the specified granularity."
   ]
  },
  {
   "cell_type": "code",
   "execution_count": 10,
   "id": "771537e3-de21-43fc-b012-753afeeff88d",
   "metadata": {},
   "outputs": [
    {
     "name": "stdout",
     "output_type": "stream",
     "text": [
      "CPU times: user 29.9 ms, sys: 8.44 ms, total: 38.4 ms\n",
      "Wall time: 180 ms\n"
     ]
    },
    {
     "data": {
      "application/vnd.atoti.convert-mdx-query-result-to-widget.v0+json": {
       "mdx": "SELECT {[Measures].[VaR95]} ON COLUMNS, NON EMPTY Crossjoin(Hierarchize(Descendants({[Books].[BUSINESS_UNIT].[ALL].[AllMember]}, 1, SELF_AND_BEFORE)), Hierarchize(Descendants({[Books].[SUB_BUSINESS_UNIT].[ALL].[AllMember]}, 1, SELF_AND_BEFORE)), Hierarchize(Descendants({[Books].[TRADING_DESK].[ALL].[AllMember]}, 1, SELF_AND_BEFORE))) ON ROWS FROM [Trade PnL]",
       "sessionId": "1737473176_499123",
       "widgetCreationCode": "session.widget"
      },
      "text/html": [
       "<div>\n",
       "<style scoped>\n",
       "    .dataframe tbody tr th:only-of-type {\n",
       "        vertical-align: middle;\n",
       "    }\n",
       "\n",
       "    .dataframe tbody tr th {\n",
       "        vertical-align: top;\n",
       "    }\n",
       "\n",
       "    .dataframe thead th {\n",
       "        text-align: right;\n",
       "    }\n",
       "</style>\n",
       "<table border=\"1\" class=\"dataframe\">\n",
       "  <thead>\n",
       "    <tr style=\"text-align: right;\">\n",
       "      <th></th>\n",
       "      <th></th>\n",
       "      <th></th>\n",
       "      <th>VaR95</th>\n",
       "    </tr>\n",
       "    <tr>\n",
       "      <th>BUSINESS_UNIT</th>\n",
       "      <th>SUB_BUSINESS_UNIT</th>\n",
       "      <th>TRADING_DESK</th>\n",
       "      <th></th>\n",
       "    </tr>\n",
       "  </thead>\n",
       "  <tbody>\n",
       "    <tr>\n",
       "      <th>Equity</th>\n",
       "      <th>Foreign Equity</th>\n",
       "      <th>Hermes</th>\n",
       "      <td>-15,635,436.75</td>\n",
       "    </tr>\n",
       "    <tr>\n",
       "      <th>Forex</th>\n",
       "      <th>Developed Market</th>\n",
       "      <th>Hades</th>\n",
       "      <td>-11,454,498.60</td>\n",
       "    </tr>\n",
       "    <tr>\n",
       "      <th rowspan=\"2\" valign=\"top\">Rates &amp; Credits</th>\n",
       "      <th rowspan=\"2\" valign=\"top\">Domestic Rates &amp; Credit</th>\n",
       "      <th>Hermes</th>\n",
       "      <td>-14,885,183.60</td>\n",
       "    </tr>\n",
       "    <tr>\n",
       "      <th>Keres</th>\n",
       "      <td>-10,002,711.20</td>\n",
       "    </tr>\n",
       "  </tbody>\n",
       "</table>\n",
       "</div>"
      ],
      "text/plain": [
       "                                                               VaR95\n",
       "BUSINESS_UNIT   SUB_BUSINESS_UNIT       TRADING_DESK                \n",
       "Equity          Foreign Equity          Hermes        -15,635,436.75\n",
       "Forex           Developed Market        Hades         -11,454,498.60\n",
       "Rates & Credits Domestic Rates & Credit Hermes        -14,885,183.60\n",
       "                                        Keres         -10,002,711.20"
      ]
     },
     "execution_count": 10,
     "metadata": {},
     "output_type": "execute_result"
    }
   ],
   "source": [
    "%%time\n",
    "cube.query(\n",
    "    m[\"VaR95\"],\n",
    "    levels=[l[\"BUSINESS_UNIT\"], l[\"SUB_BUSINESS_UNIT\"], l[\"TRADING_DESK\"]],\n",
    ")"
   ]
  },
  {
   "cell_type": "markdown",
   "id": "14e7cae9-149b-4c93-95a5-a84faf71f058",
   "metadata": {},
   "source": [
    "When we re-visit Grafana and Tempo and monitor the trace for the query, we can see the corresponding breakdown of spans for each of the underlying services that were impacted.\n",
    "\n",
    "💡 **Note:** The time taken produced by `%%time` may differ from what is shown in the corresponding TraceID diagram. This is because `%%time` measures the execution time of the notebook cell entirely, whereas the TraceID measures the execution time of a request traveling through the system.\n",
    "\n",
    "![before-aggregate-provider](https://data.atoti.io/notebooks/observability-with-otel/img/before-aggregate-provider.png)"
   ]
  },
  {
   "cell_type": "markdown",
   "id": "c0c1c0c5-2c00-470a-835e-192b506c217a",
   "metadata": {},
   "source": [
    "Let's now create our aggregate provider to match the granularity of the previous query for the `pnl_vector.SUM` measure. This pre-computes and stores the intermediate aggregate for `pnl_vector.SUM` at the specified granularity and improves the query time when calculating `VaR95`."
   ]
  },
  {
   "cell_type": "code",
   "execution_count": 11,
   "id": "467a7574-83b9-4827-9e18-2651a948c7ea",
   "metadata": {},
   "outputs": [],
   "source": [
    "cube.aggregate_providers.update(\n",
    "    {\n",
    "        \"PnL provider\": tt.AggregateProvider(\n",
    "            key=\"bitmap\",\n",
    "            levels=[\n",
    "                l[\"BUSINESS_UNIT\"],\n",
    "                l[\"SUB_BUSINESS_UNIT\"],\n",
    "                l[\"TRADING_DESK\"],\n",
    "            ],\n",
    "            measures=[m[\"pnl_vector.SUM\"]],\n",
    "        )\n",
    "    }\n",
    ")"
   ]
  },
  {
   "cell_type": "markdown",
   "id": "32b5f850-d7ce-4845-8337-8e6c73d70dda",
   "metadata": {},
   "source": [
    "Then, re-run the query."
   ]
  },
  {
   "cell_type": "code",
   "execution_count": 12,
   "id": "a4418335-20e7-467d-b48b-5fdd35152806",
   "metadata": {},
   "outputs": [
    {
     "name": "stdout",
     "output_type": "stream",
     "text": [
      "CPU times: user 8.32 ms, sys: 1.98 ms, total: 10.3 ms\n",
      "Wall time: 60.7 ms\n"
     ]
    },
    {
     "data": {
      "application/vnd.atoti.convert-mdx-query-result-to-widget.v0+json": {
       "mdx": "SELECT {[Measures].[VaR95]} ON COLUMNS, NON EMPTY Crossjoin(Hierarchize(Descendants({[Books].[BUSINESS_UNIT].[ALL].[AllMember]}, 1, SELF_AND_BEFORE)), Hierarchize(Descendants({[Books].[SUB_BUSINESS_UNIT].[ALL].[AllMember]}, 1, SELF_AND_BEFORE)), Hierarchize(Descendants({[Books].[TRADING_DESK].[ALL].[AllMember]}, 1, SELF_AND_BEFORE))) ON ROWS FROM [Trade PnL]",
       "sessionId": "1737473176_499123",
       "widgetCreationCode": "session.widget"
      },
      "text/html": [
       "<div>\n",
       "<style scoped>\n",
       "    .dataframe tbody tr th:only-of-type {\n",
       "        vertical-align: middle;\n",
       "    }\n",
       "\n",
       "    .dataframe tbody tr th {\n",
       "        vertical-align: top;\n",
       "    }\n",
       "\n",
       "    .dataframe thead th {\n",
       "        text-align: right;\n",
       "    }\n",
       "</style>\n",
       "<table border=\"1\" class=\"dataframe\">\n",
       "  <thead>\n",
       "    <tr style=\"text-align: right;\">\n",
       "      <th></th>\n",
       "      <th></th>\n",
       "      <th></th>\n",
       "      <th>VaR95</th>\n",
       "    </tr>\n",
       "    <tr>\n",
       "      <th>BUSINESS_UNIT</th>\n",
       "      <th>SUB_BUSINESS_UNIT</th>\n",
       "      <th>TRADING_DESK</th>\n",
       "      <th></th>\n",
       "    </tr>\n",
       "  </thead>\n",
       "  <tbody>\n",
       "    <tr>\n",
       "      <th>Equity</th>\n",
       "      <th>Foreign Equity</th>\n",
       "      <th>Hermes</th>\n",
       "      <td>-15,635,436.75</td>\n",
       "    </tr>\n",
       "    <tr>\n",
       "      <th>Forex</th>\n",
       "      <th>Developed Market</th>\n",
       "      <th>Hades</th>\n",
       "      <td>-11,454,498.60</td>\n",
       "    </tr>\n",
       "    <tr>\n",
       "      <th rowspan=\"2\" valign=\"top\">Rates &amp; Credits</th>\n",
       "      <th rowspan=\"2\" valign=\"top\">Domestic Rates &amp; Credit</th>\n",
       "      <th>Hermes</th>\n",
       "      <td>-14,885,183.60</td>\n",
       "    </tr>\n",
       "    <tr>\n",
       "      <th>Keres</th>\n",
       "      <td>-10,002,711.20</td>\n",
       "    </tr>\n",
       "  </tbody>\n",
       "</table>\n",
       "</div>"
      ],
      "text/plain": [
       "                                                               VaR95\n",
       "BUSINESS_UNIT   SUB_BUSINESS_UNIT       TRADING_DESK                \n",
       "Equity          Foreign Equity          Hermes        -15,635,436.75\n",
       "Forex           Developed Market        Hades         -11,454,498.60\n",
       "Rates & Credits Domestic Rates & Credit Hermes        -14,885,183.60\n",
       "                                        Keres         -10,002,711.20"
      ]
     },
     "execution_count": 12,
     "metadata": {},
     "output_type": "execute_result"
    }
   ],
   "source": [
    "%%time\n",
    "cube.query(\n",
    "    m[\"VaR95\"],\n",
    "    levels=[l[\"BUSINESS_UNIT\"], l[\"SUB_BUSINESS_UNIT\"], l[\"TRADING_DESK\"]],\n",
    ")"
   ]
  },
  {
   "cell_type": "markdown",
   "id": "7fcae090-9b54-4449-a29c-466cd9d1aa18",
   "metadata": {},
   "source": [
    "We see from the `%%time` magic command that query times have improved thanks to the aggregate provider. In addition, when we view the corresponding TraceID in Grafana and Tempo, we can visualize the granular improvement for the request. For example, we see that the overall time for the trace/request has significantly improved, while the granular spans also show an increase in performance.\n",
    "\n",
    "![after-aggregate-provider](https://data.atoti.io/notebooks/observability-with-otel/img/after-aggregate-provider.png)"
   ]
  },
  {
   "cell_type": "markdown",
   "id": "9a01f240-c9c8-4dab-9862-18a889e91ccf",
   "metadata": {},
   "source": [
    "This walk through was just a small example of how to get observability up and running with OpenTelemetry using the Atoti observability plugin. However, perfomance tuning and monitoring are useful and relevant at any stage of an Atoti project. It's a good idea to set them up during initial stages, so that when the project is ready to scale we have everything we need already in place."
   ]
  },
  {
   "cell_type": "markdown",
   "id": "c92cf61f-d9e1-4911-8b76-2d08e4a8eda8",
   "metadata": {},
   "source": [
    "<div style=\"text-align: center;\" ><a href=\"https://www.atoti.io/?utm_source=gallery&utm_content=observability-with-otel\" target=\"_blank\" rel=\"noopener noreferrer\"><img src=\"https://data.atoti.io/notebooks/banners/Your-turn-to-try-Atoti.jpg\" alt=\"Try Atoti\"></a></div>"
   ]
  }
 ],
 "metadata": {
  "kernelspec": {
   "display_name": "Python 3 (ipykernel)",
   "language": "python",
   "name": "python3"
  },
  "language_info": {
   "codemirror_mode": {
    "name": "ipython",
    "version": 3
   },
   "file_extension": ".py",
   "mimetype": "text/x-python",
   "name": "python",
   "nbconvert_exporter": "python",
   "pygments_lexer": "ipython3",
   "version": "3.11.10"
  },
  "widgets": {
   "application/vnd.jupyter.widget-state+json": {
    "state": {},
    "version_major": 2,
    "version_minor": 0
   }
  }
 },
 "nbformat": 4,
 "nbformat_minor": 5
}
