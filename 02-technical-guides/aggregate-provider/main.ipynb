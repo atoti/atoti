{
 "cells": [
  {
   "cell_type": "markdown",
   "id": "cb213d83-5c16-4b45-8967-abac205d0864",
   "metadata": {},
   "source": [
    "# Understanding Aggregate Providers"
   ]
  },
  {
   "cell_type": "markdown",
   "id": "5b16c953-ab3b-4667-809a-498dbb043444",
   "metadata": {},
   "source": [
    "An [aggregate provider](https://docs.atoti.io/latest/api/atoti.AggregateProvider.html#atoti.AggregateProvider) precomputes and stores aggregates for the finest granularity of aggregation possible for certain hierarchies. This is also known as pre-aggregation. These intermediate aggregates are then stored in memory to speed up querying. \n",
    "\n",
    "In this notebook, we will look at how we can implement aggregate providers and how the performance varies with its addition.  \n",
    "\n",
    "<div style=\"text-align: center;\" ><a href=\"https://www.atoti.io/?utm_source=gallery&utm_content=aggregate-provider\" target=\"_blank\" rel=\"noopener noreferrer\"><img src=\"https://data.atoti.io/notebooks/banners/Discover-Atoti-now.png\" alt=\"Try atoti\"></a></div>"
   ]
  },
  {
   "cell_type": "code",
   "execution_count": 1,
   "id": "2fefdac5-fe75-4c51-bfe7-e11a4f623c12",
   "metadata": {
    "tags": []
   },
   "outputs": [],
   "source": [
    "import atoti as tt\n",
    "import zipfile\n",
    "import wget\n",
    "from IPython.display import clear_output, display"
   ]
  },
  {
   "cell_type": "code",
   "execution_count": 2,
   "id": "115f0050-162a-4922-8012-67517d3497b0",
   "metadata": {
    "tags": []
   },
   "outputs": [],
   "source": [
    "def download_data(filename=\"small_data.zip\"):\n",
    "    url = f\"https://data.atoti.io/notebooks/aggregate-provider/{filename}\"\n",
    "    filename = wget.download(url)\n",
    "\n",
    "    with zipfile.ZipFile(filename, \"r\") as zip_ref:\n",
    "        zip_ref.extractall()"
   ]
  },
  {
   "cell_type": "markdown",
   "id": "439adb00-b4dd-4993-90bb-f0000711b15d",
   "metadata": {
    "tags": []
   },
   "source": [
    "## Downloading Data\n",
    "\n",
    "In order to test out aggregate providers on a server hosted on a local machine, we prepared 2GB worth of data. The below cell downloads a smaller dataset by default for testing purpose. Set `testing` to `False` to download the full dataset. You can skip this if you already have the data downloaded.\n",
    "\n",
    "💡 **Note**: You may have to start your JupyterLab with `--ServerApp.iopub_msg_rate_limit=1e10`"
   ]
  },
  {
   "cell_type": "code",
   "execution_count": 3,
   "id": "5e53eb1c-6c2d-4581-80f0-2435aa0df343",
   "metadata": {},
   "outputs": [
    {
     "name": "stdout",
     "output_type": "stream",
     "text": [
      "100% [......................................................................] 200865990 / 200865990"
     ]
    }
   ],
   "source": [
    "testing = True\n",
    "download_data(\"small_data.zip\" if testing else \"data.zip\")"
   ]
  },
  {
   "cell_type": "markdown",
   "id": "9b353081-c34e-4c12-85c4-1a0e8dee924c",
   "metadata": {},
   "source": [
    "## Creating Atoti cube"
   ]
  },
  {
   "cell_type": "markdown",
   "id": "42d3ff7c-96f6-499d-87d8-7564d186155e",
   "metadata": {},
   "source": [
    "In an Atoti session, the [JVM memory setting](https://docs.atoti.io/latest/api/atoti.Session.html#atoti.Session) is defaulted to 25% of the machine memory. However, we can restrict the maximum [Java heap memory allocation](https://docs.atoti.io/latest/deployment/deployment_setup.html#memory) to 4GB since we only have 2GB data.  "
   ]
  },
  {
   "cell_type": "code",
   "execution_count": 4,
   "id": "ad90651f-1e18-474e-a4a1-cc7ec8f6b556",
   "metadata": {},
   "outputs": [],
   "source": [
    "session = tt.Session.start(\n",
    "    tt.SessionConfig(\n",
    "        java_options=[\"-Xmx4g\"],\n",
    "    )\n",
    ")\n",
    "\n",
    "trades_tbl = session.read_csv(\n",
    "    \"data/trades/TradePnLs*.csv\",\n",
    "    table_name=\"Trade PnL\",\n",
    "    keys=[\"AsOfDate\", \"TradeId\", \"BookId\", \"DataSet\"],\n",
    "    array_separator=\";\",\n",
    ")\n",
    "\n",
    "books_tbl = session.read_csv(\n",
    "    \"data/books/books_books.csv\", table_name=\"Books\", keys=[\"BOOKID\"]\n",
    ")\n",
    "\n",
    "trades_tbl.join(books_tbl, trades_tbl[\"BookId\"] == books_tbl[\"BOOKID\"])\n",
    "\n",
    "cube = session.create_cube(trades_tbl)"
   ]
  },
  {
   "cell_type": "markdown",
   "id": "a4ad5ef3-c6a7-41dd-a8c7-68acfcaef327",
   "metadata": {},
   "source": [
    "To truly test the performance of the aggregate providers, let's [disable caching and sharing](https://docs.atoti.io/latest/api/atoti.aggregates_cache.AggregatesCache.html#atoti.aggregates_cache.AggregatesCache) by setting the `aggregates_cache.capacity` to `-1`."
   ]
  },
  {
   "cell_type": "code",
   "execution_count": 5,
   "id": "6adaa80d-74ed-4f17-958d-3eb450f40d43",
   "metadata": {},
   "outputs": [],
   "source": [
    "cube.aggregate_cache = tt.AggregateCache(\n",
    "    capacity=0,\n",
    ")"
   ]
  },
  {
   "cell_type": "markdown",
   "id": "aff8cb83-7e4a-4723-821a-cd89633c183f",
   "metadata": {},
   "source": [
    "In the default cube creation mode, only `pnl_vector` from the below schema will be created into measures. The rest of the columns will be created as single-level hierarchies."
   ]
  },
  {
   "cell_type": "code",
   "execution_count": 6,
   "id": "340ebc1b-b654-4931-b995-e62384de63ec",
   "metadata": {},
   "outputs": [
    {
     "data": {
      "text/markdown": [
       "```mermaid\n",
       "erDiagram\n",
       "  \"Trade PnL\" {\n",
       "    non-null int PK \"BookId\"\n",
       "    non-null LocalDate PK \"AsOfDate\"\n",
       "    non-null String PK \"TradeId\"\n",
       "    non-null String PK \"DataSet\"\n",
       "    non-null String \"RiskFactor\"\n",
       "    non-null String \"RiskClass\"\n",
       "    non-null String \"SensitivityName\"\n",
       "    non-null String \"ccy\"\n",
       "    nullable double[] \"pnl_vector\"\n",
       "  }\n",
       "  \"Books\" {\n",
       "    non-null int PK \"BOOKID\"\n",
       "    non-null String \"BOOK\"\n",
       "    non-null String \"TRADING_DESK\"\n",
       "    non-null String \"SUB_BUSINESS_UNIT\"\n",
       "    non-null String \"BUSINESS_UNIT\"\n",
       "  }\n",
       "  \"Trade PnL\" }o--o| \"Books\" : \"BookId == BOOKID\"\n",
       "```\n"
      ],
      "text/plain": [
       "erDiagram\n",
       "  \"Trade PnL\" {\n",
       "    non-null int PK \"BookId\"\n",
       "    non-null LocalDate PK \"AsOfDate\"\n",
       "    non-null String PK \"TradeId\"\n",
       "    non-null String PK \"DataSet\"\n",
       "    non-null String \"RiskFactor\"\n",
       "    non-null String \"RiskClass\"\n",
       "    non-null String \"SensitivityName\"\n",
       "    non-null String \"ccy\"\n",
       "    nullable double[] \"pnl_vector\"\n",
       "  }\n",
       "  \"Books\" {\n",
       "    non-null int PK \"BOOKID\"\n",
       "    non-null String \"BOOK\"\n",
       "    non-null String \"TRADING_DESK\"\n",
       "    non-null String \"SUB_BUSINESS_UNIT\"\n",
       "    non-null String \"BUSINESS_UNIT\"\n",
       "  }\n",
       "  \"Trade PnL\" }o--o| \"Books\" : \"BookId == BOOKID\""
      ]
     },
     "execution_count": 6,
     "metadata": {},
     "output_type": "execute_result"
    }
   ],
   "source": [
    "session.tables.schema"
   ]
  },
  {
   "cell_type": "code",
   "execution_count": 7,
   "id": "502186f1-0a44-400d-8ab2-190fcd737f7a",
   "metadata": {},
   "outputs": [
    {
     "data": {
      "application/json": {
       "Dimensions": {
        "Books": {
         "BOOK": [
          "BOOK"
         ],
         "BUSINESS_UNIT": [
          "BUSINESS_UNIT"
         ],
         "SUB_BUSINESS_UNIT": [
          "SUB_BUSINESS_UNIT"
         ],
         "TRADING_DESK": [
          "TRADING_DESK"
         ]
        },
        "Trade PnL": {
         "AsOfDate": [
          "AsOfDate"
         ],
         "BookId": [
          "BookId"
         ],
         "DataSet": [
          "DataSet"
         ],
         "RiskClass": [
          "RiskClass"
         ],
         "RiskFactor": [
          "RiskFactor"
         ],
         "SensitivityName": [
          "SensitivityName"
         ],
         "TradeId": [
          "TradeId"
         ],
         "ccy": [
          "ccy"
         ]
        }
       },
       "Measures": {
        "contributors.COUNT": {
         "formatter": "INT[#,###]"
        },
        "pnl_vector.MEAN": {
         "formatter": null
        },
        "pnl_vector.SUM": {
         "formatter": null
        }
       }
      },
      "text/html": [
       "<ul>\n",
       "<li>Trade PnL\n",
       "  <ul>\n",
       "  <li>Dimensions\n",
       "    <ul>\n",
       "    <li>Books\n",
       "      <ul>\n",
       "      <li>BOOK\n",
       "        <ol>\n",
       "        <li>BOOK</li>\n",
       "        </ol>      </li>\n",
       "      <li>BUSINESS_UNIT\n",
       "        <ol>\n",
       "        <li>BUSINESS_UNIT</li>\n",
       "        </ol>      </li>\n",
       "      <li>SUB_BUSINESS_UNIT\n",
       "        <ol>\n",
       "        <li>SUB_BUSINESS_UNIT</li>\n",
       "        </ol>      </li>\n",
       "      <li>TRADING_DESK\n",
       "        <ol>\n",
       "        <li>TRADING_DESK</li>\n",
       "        </ol>      </li>\n",
       "      </ul>\n",
       "    </li>\n",
       "    <li>Trade PnL\n",
       "      <ul>\n",
       "      <li>AsOfDate\n",
       "        <ol>\n",
       "        <li>AsOfDate</li>\n",
       "        </ol>      </li>\n",
       "      <li>BookId\n",
       "        <ol>\n",
       "        <li>BookId</li>\n",
       "        </ol>      </li>\n",
       "      <li>DataSet\n",
       "        <ol>\n",
       "        <li>DataSet</li>\n",
       "        </ol>      </li>\n",
       "      <li>RiskClass\n",
       "        <ol>\n",
       "        <li>RiskClass</li>\n",
       "        </ol>      </li>\n",
       "      <li>RiskFactor\n",
       "        <ol>\n",
       "        <li>RiskFactor</li>\n",
       "        </ol>      </li>\n",
       "      <li>SensitivityName\n",
       "        <ol>\n",
       "        <li>SensitivityName</li>\n",
       "        </ol>      </li>\n",
       "      <li>TradeId\n",
       "        <ol>\n",
       "        <li>TradeId</li>\n",
       "        </ol>      </li>\n",
       "      <li>ccy\n",
       "        <ol>\n",
       "        <li>ccy</li>\n",
       "        </ol>      </li>\n",
       "      </ul>\n",
       "    </li>\n",
       "    </ul>\n",
       "  </li>\n",
       "  <li>Measures\n",
       "    <ul>\n",
       "    <li>contributors.COUNT\n",
       "      <ul>\n",
       "      <li>formatter: INT[#,###]</li>\n",
       "      </ul>\n",
       "    </li>\n",
       "    <li>pnl_vector.MEAN\n",
       "      <ul>\n",
       "      <li>formatter: None</li>\n",
       "      </ul>\n",
       "    </li>\n",
       "    <li>pnl_vector.SUM\n",
       "      <ul>\n",
       "      <li>formatter: None</li>\n",
       "      </ul>\n",
       "    </li>\n",
       "    </ul>\n",
       "  </li>\n",
       "  </ul>\n",
       "</li>\n",
       "</ul>\n"
      ],
      "text/plain": [
       "<atoti.cube.Cube at 0x10e197410>"
      ]
     },
     "execution_count": 7,
     "metadata": {
      "application/json": {
       "expanded": false,
       "root": "Trade PnL"
      }
     },
     "output_type": "execute_result"
    }
   ],
   "source": [
    "cube"
   ]
  },
  {
   "cell_type": "code",
   "execution_count": 8,
   "id": "0e8328f8-649d-43b5-b950-7f298380e69f",
   "metadata": {},
   "outputs": [],
   "source": [
    "h, l, m = cube.hierarchies, cube.levels, cube.measures"
   ]
  },
  {
   "cell_type": "markdown",
   "id": "50b9950f-a349-48bf-9f73-fc0c7541029f",
   "metadata": {},
   "source": [
    "## Primitive measures vs measures created from UDF"
   ]
  },
  {
   "cell_type": "markdown",
   "id": "d4d255eb-b0a7-4d3c-9195-dc1bb1c349b4",
   "metadata": {},
   "source": [
    "`pnl_vector.SUM` and `pnl_vector.MEAN` are primitive measures that were created automatically during cube creation.  \n",
    "\n",
    "They can also be created as follows:\n",
    "\n",
    "```python\n",
    "m[\"pnl_vector.SUM\"] = tt.agg.sum(trades_tbl[\"pnl_vector\"])\n",
    "m[\"pnl_vector.MEAN\"] = tt.agg.mean(trades_tbl[\"pnl_vector\"])\n",
    "```\n",
    "\n",
    "We can see that these measures are created from the underlying facts that contributes to the cube. In the next section, we will look at measures created from user defined functions (UDF).\n",
    "\n",
    "💡 **Note:** It is important to understand the difference between the two type of measures as we can only use the primitive measures with aggregate provider."
   ]
  },
  {
   "cell_type": "markdown",
   "id": "7739578e-d047-44e6-994a-736e36bee5fd",
   "metadata": {},
   "source": [
    "### Computing VaR 95 with user defined function\n",
    "\n",
    "Since we have the `pnl_vector.SUM` which is the sum of the profit and loss (PnL) value for each historical date, we define the formula of [value at risk (VaR)](https://www.investopedia.com/articles/04/092904.asp) at 95% confidence level as follows:"
   ]
  },
  {
   "cell_type": "code",
   "execution_count": 9,
   "id": "8905dbd1-fbbe-443c-a3ea-2712308a6b63",
   "metadata": {},
   "outputs": [],
   "source": [
    "m[\"VaR95\"] = tt.array.quantile(m[\"pnl_vector.SUM\"], 1 - 0.95)"
   ]
  },
  {
   "cell_type": "markdown",
   "id": "b7f8056e-841a-46df-b7df-93d7cff1c76d",
   "metadata": {},
   "source": [
    "We formulate our computation of `VaR95` on top of the primitive measure `pnl_vector.SUM`. Depending on the query, `VaR95` is computed on the fly for each level in the query."
   ]
  },
  {
   "cell_type": "code",
   "execution_count": 10,
   "id": "21c1b63d-45bd-43a2-a9fa-b1f40d24c318",
   "metadata": {
    "atoti": {
     "widget": {
      "mapping": {
       "columns": [
        "ALL_MEASURES"
       ],
       "measures": [
        "[Measures].[VaR95]"
       ],
       "rows": [
        "[Trade PnL].[AsOfDate].[AsOfDate] => [Books].[BUSINESS_UNIT].[BUSINESS_UNIT]"
       ]
      },
      "name": "Available report dates",
      "query": {
       "mdx": "SELECT NON EMPTY Hierarchize(Descendants({[Trade PnL].[AsOfDate].[AllMember]}, 1, SELF_AND_BEFORE)) ON ROWS, NON EMPTY {[Measures].[VaR95]} ON COLUMNS FROM [Trade PnL] CELL PROPERTIES VALUE, FORMATTED_VALUE, BACK_COLOR, FORE_COLOR, FONT_FLAGS",
       "updateMode": "once"
      },
      "serverKey": "default",
      "widgetKey": "pivot-table"
     }
    },
    "tags": []
   },
   "outputs": [
    {
     "data": {
      "application/vnd.atoti.widget.v0+json": {
       "sessionId": "1747353440_833305",
       "sessionUrl": "http://localhost:50971",
       "widgetCreationCode": "session.widget"
      },
      "text/html": [
       "<img height=\"352\" width=\"1281\" src=\"data:image/png;base64,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\" />"
      ],
      "text/plain": [
       "Open the notebook in JupyterLab with the Atoti JupyterLab extension enabled to build this widget."
      ]
     },
     "metadata": {},
     "output_type": "display_data"
    }
   ],
   "source": [
    "session.widget"
   ]
  },
  {
   "cell_type": "markdown",
   "id": "d60e72a7-d575-4ad9-9daf-f304b19a4e3d",
   "metadata": {},
   "source": [
    "## Timing our performance without aggregate provider"
   ]
  },
  {
   "cell_type": "markdown",
   "id": "e4586429-f18f-4c46-9cbd-45e59a9d5fbc",
   "metadata": {},
   "source": [
    "Let's capture the performance of our queries before we proceed to create our aggregate provider."
   ]
  },
  {
   "cell_type": "code",
   "execution_count": 11,
   "id": "7a237ed8-ed61-4152-9d15-e9633749f72a",
   "metadata": {
    "tags": []
   },
   "outputs": [
    {
     "name": "stdout",
     "output_type": "stream",
     "text": [
      "CPU times: user 21.6 ms, sys: 6.14 ms, total: 27.8 ms\n",
      "Wall time: 107 ms\n"
     ]
    },
    {
     "data": {
      "application/vnd.atoti.convert-mdx-query-result-to-widget.v0+json": {
       "mdx": "SELECT {[Measures].[VaR95]} ON COLUMNS, NON EMPTY Crossjoin(Hierarchize(Descendants({[Books].[BUSINESS_UNIT].[ALL].[AllMember]}, 1, SELF_AND_BEFORE)), Hierarchize(Descendants({[Books].[SUB_BUSINESS_UNIT].[ALL].[AllMember]}, 1, SELF_AND_BEFORE)), Hierarchize(Descendants({[Books].[TRADING_DESK].[ALL].[AllMember]}, 1, SELF_AND_BEFORE))) ON ROWS FROM [Trade PnL] WHERE [Trade PnL].[AsOfDate].[ALL].[AllMember].[2021-02-26]",
       "sessionId": "1747353440_833305",
       "widgetCreationCode": "session.widget"
      },
      "text/html": [
       "<div>\n",
       "<style scoped>\n",
       "    .dataframe tbody tr th:only-of-type {\n",
       "        vertical-align: middle;\n",
       "    }\n",
       "\n",
       "    .dataframe tbody tr th {\n",
       "        vertical-align: top;\n",
       "    }\n",
       "\n",
       "    .dataframe thead th {\n",
       "        text-align: right;\n",
       "    }\n",
       "</style>\n",
       "<table border=\"1\" class=\"dataframe\">\n",
       "  <thead>\n",
       "    <tr style=\"text-align: right;\">\n",
       "      <th></th>\n",
       "      <th></th>\n",
       "      <th></th>\n",
       "      <th>VaR95</th>\n",
       "    </tr>\n",
       "    <tr>\n",
       "      <th>BUSINESS_UNIT</th>\n",
       "      <th>SUB_BUSINESS_UNIT</th>\n",
       "      <th>TRADING_DESK</th>\n",
       "      <th></th>\n",
       "    </tr>\n",
       "  </thead>\n",
       "  <tbody>\n",
       "    <tr>\n",
       "      <th>Rates &amp; Credits</th>\n",
       "      <th>Domestic Rates &amp; Credit</th>\n",
       "      <th>Keres</th>\n",
       "      <td>-3,316,449.75</td>\n",
       "    </tr>\n",
       "  </tbody>\n",
       "</table>\n",
       "</div>"
      ],
      "text/plain": [
       "                                                              VaR95\n",
       "BUSINESS_UNIT   SUB_BUSINESS_UNIT       TRADING_DESK               \n",
       "Rates & Credits Domestic Rates & Credit Keres         -3,316,449.75"
      ]
     },
     "execution_count": 11,
     "metadata": {},
     "output_type": "execute_result"
    }
   ],
   "source": [
    "%%time\n",
    "cube.query(\n",
    "    m[\"VaR95\"],\n",
    "    levels=[l[\"BUSINESS_UNIT\"], l[\"SUB_BUSINESS_UNIT\"], l[\"TRADING_DESK\"]],\n",
    "    filter=(l[\"AsOfDate\"] == \"2021-02-26\"),\n",
    ")"
   ]
  },
  {
   "cell_type": "markdown",
   "id": "780646ad-7fd3-477f-b81a-bb9964486aba",
   "metadata": {},
   "source": [
    "## Creating aggregate provider"
   ]
  },
  {
   "cell_type": "code",
   "execution_count": 12,
   "id": "2e834d0b-d343-4ea0-bc8c-5caffe9a1a67",
   "metadata": {},
   "outputs": [],
   "source": [
    "from datetime import date\n",
    "\n",
    "current_date = date(2021, 2, 26)"
   ]
  },
  {
   "cell_type": "markdown",
   "id": "cb99bbbb-fb01-4f91-b04d-7a30662f4d6a",
   "metadata": {},
   "source": [
    "### Type of aggregate providers\n",
    "\n",
    "We named our aggregate provider `PnL provider` and used a **Bitmap aggregate provider** instead of the default **Leaf aggregate provider**:\n",
    "\n",
    "- `bitmap`: Bitmap aggregate provider\n",
    "\n",
    "> Bitmap aggregate provider computes on-the-fly at query time using the multidimensional bitmap indexing. It is generally faster but it takes more memory.\n",
    "\n",
    "- `leaf`: Leaf aggregate provider (default)\n",
    "\n",
    "> Leaf aggregate provider maintains a dictionary of index tuples, known as the point index. It computes on the fly at query time via efficient compilation and bitmap operations. Its performance is generally slightly slower than that of the Bitmap aggregate provider. However, since it doesn’t store the bitmap index, it has a lower memory cost.\n",
    "\n",
    "Without our self-defined aggregate provider, Atoti uses the **JUST IN TIME (JIT) aggregate provider** to retrieve its aggregate directly from the data tables as required during runtime. There is no pre-computation of aggregates, therefore queries are slower."
   ]
  },
  {
   "cell_type": "code",
   "execution_count": 13,
   "id": "bec05170-65d2-41e4-bfd7-0513df973e71",
   "metadata": {},
   "outputs": [],
   "source": [
    "cube.aggregate_providers.update(\n",
    "    {\n",
    "        \"PnL provider\": tt.AggregateProvider(\n",
    "            key=\"bitmap\",\n",
    "            levels=[\n",
    "                l[\"AsOfDate\"],\n",
    "                l[\"BUSINESS_UNIT\"],\n",
    "                l[\"SUB_BUSINESS_UNIT\"],\n",
    "                l[\"TRADING_DESK\"],\n",
    "            ],\n",
    "            measures=[m[\"pnl_vector.SUM\"]],\n",
    "            filter=(l[\"AsOfDate\"] == current_date),\n",
    "        )\n",
    "    }\n",
    ")"
   ]
  },
  {
   "cell_type": "markdown",
   "id": "7ddb0bbe-4ffc-4b14-87d6-3238db315402",
   "metadata": {},
   "source": [
    "### Filtering data\n",
    "\n",
    "When a large volume of data is expected, it is useful to limit the amount of data that we want to cache in memory. To do so, we make use of the `filter` parameter to set the condition(s) for the data used for pre-computations. In this case, we expect that users will query the latest date most frequently. Therefore, it make sense to cache the data for the day in memory."
   ]
  },
  {
   "cell_type": "markdown",
   "id": "e2b0e5b9-e9ad-4160-ba61-41de3049ba80",
   "metadata": {},
   "source": [
    "## Verifying performance"
   ]
  },
  {
   "cell_type": "markdown",
   "id": "944891d1-58d8-4561-b7aa-83bea98513bf",
   "metadata": {},
   "source": [
    "The measure listed above is pre-computed and aggregated before storing in memory along with the levels defined in the aggregate provider. Consequently, as we query the measure `pnl_vector.SUM` along any of the levels listed above, the performance will be improved.  "
   ]
  },
  {
   "cell_type": "code",
   "execution_count": 14,
   "id": "37d1a23c-4ccc-477c-93d3-f23c18104509",
   "metadata": {},
   "outputs": [
    {
     "name": "stdout",
     "output_type": "stream",
     "text": [
      "CPU times: user 8.81 ms, sys: 2.21 ms, total: 11 ms\n",
      "Wall time: 49.6 ms\n"
     ]
    },
    {
     "data": {
      "application/vnd.atoti.convert-mdx-query-result-to-widget.v0+json": {
       "mdx": "SELECT {[Measures].[VaR95]} ON COLUMNS, NON EMPTY Crossjoin(Hierarchize(Descendants({[Books].[BUSINESS_UNIT].[ALL].[AllMember]}, 1, SELF_AND_BEFORE)), Hierarchize(Descendants({[Books].[SUB_BUSINESS_UNIT].[ALL].[AllMember]}, 1, SELF_AND_BEFORE)), Hierarchize(Descendants({[Books].[TRADING_DESK].[ALL].[AllMember]}, 1, SELF_AND_BEFORE))) ON ROWS FROM [Trade PnL] WHERE [Trade PnL].[AsOfDate].[ALL].[AllMember].[2021-02-26]",
       "sessionId": "1747353440_833305",
       "widgetCreationCode": "session.widget"
      },
      "text/html": [
       "<div>\n",
       "<style scoped>\n",
       "    .dataframe tbody tr th:only-of-type {\n",
       "        vertical-align: middle;\n",
       "    }\n",
       "\n",
       "    .dataframe tbody tr th {\n",
       "        vertical-align: top;\n",
       "    }\n",
       "\n",
       "    .dataframe thead th {\n",
       "        text-align: right;\n",
       "    }\n",
       "</style>\n",
       "<table border=\"1\" class=\"dataframe\">\n",
       "  <thead>\n",
       "    <tr style=\"text-align: right;\">\n",
       "      <th></th>\n",
       "      <th></th>\n",
       "      <th></th>\n",
       "      <th>VaR95</th>\n",
       "    </tr>\n",
       "    <tr>\n",
       "      <th>BUSINESS_UNIT</th>\n",
       "      <th>SUB_BUSINESS_UNIT</th>\n",
       "      <th>TRADING_DESK</th>\n",
       "      <th></th>\n",
       "    </tr>\n",
       "  </thead>\n",
       "  <tbody>\n",
       "    <tr>\n",
       "      <th>Rates &amp; Credits</th>\n",
       "      <th>Domestic Rates &amp; Credit</th>\n",
       "      <th>Keres</th>\n",
       "      <td>-3,316,449.75</td>\n",
       "    </tr>\n",
       "  </tbody>\n",
       "</table>\n",
       "</div>"
      ],
      "text/plain": [
       "                                                              VaR95\n",
       "BUSINESS_UNIT   SUB_BUSINESS_UNIT       TRADING_DESK               \n",
       "Rates & Credits Domestic Rates & Credit Keres         -3,316,449.75"
      ]
     },
     "execution_count": 14,
     "metadata": {},
     "output_type": "execute_result"
    }
   ],
   "source": [
    "%%time\n",
    "cube.query(\n",
    "    m[\"VaR95\"],\n",
    "    levels=[l[\"BUSINESS_UNIT\"], l[\"SUB_BUSINESS_UNIT\"], l[\"TRADING_DESK\"]],\n",
    "    filter=(l[\"AsOfDate\"] == \"2021-02-26\"),\n",
    ")"
   ]
  },
  {
   "cell_type": "markdown",
   "id": "93cec2c3-2327-4a2c-b8c7-5782ae6fff3e",
   "metadata": {},
   "source": [
    "We are querying `VaR95` and not `pnl_vector.SUM`, yet the performance of the query is much faster than before. This is because `VaR95` aggregates on top of `pnl_vector.SUM`, which is already available in memory due to the aggregate provider.  \n",
    "\n",
    "⚠️ Therefore, **we cannot and should not use measures that are computed from UDF in an aggregate provider**."
   ]
  },
  {
   "cell_type": "code",
   "execution_count": 15,
   "id": "d41aefdc-47d5-473f-ae26-fac08070725f",
   "metadata": {},
   "outputs": [
    {
     "name": "stdout",
     "output_type": "stream",
     "text": [
      "CPU times: user 7.15 ms, sys: 1.73 ms, total: 8.89 ms\n",
      "Wall time: 32.3 ms\n"
     ]
    },
    {
     "data": {
      "application/vnd.atoti.convert-mdx-query-result-to-widget.v0+json": {
       "mdx": "SELECT {[Measures].[VaR95]} ON COLUMNS, NON EMPTY Crossjoin(Hierarchize(Descendants({[Books].[BUSINESS_UNIT].[ALL].[AllMember]}, 1, SELF_AND_BEFORE)), Hierarchize(Descendants({[Books].[SUB_BUSINESS_UNIT].[ALL].[AllMember]}, 1, SELF_AND_BEFORE))) ON ROWS FROM [Trade PnL] WHERE [Trade PnL].[AsOfDate].[ALL].[AllMember].[2021-02-26]",
       "sessionId": "1747353440_833305",
       "widgetCreationCode": "session.widget"
      },
      "text/html": [
       "<div>\n",
       "<style scoped>\n",
       "    .dataframe tbody tr th:only-of-type {\n",
       "        vertical-align: middle;\n",
       "    }\n",
       "\n",
       "    .dataframe tbody tr th {\n",
       "        vertical-align: top;\n",
       "    }\n",
       "\n",
       "    .dataframe thead th {\n",
       "        text-align: right;\n",
       "    }\n",
       "</style>\n",
       "<table border=\"1\" class=\"dataframe\">\n",
       "  <thead>\n",
       "    <tr style=\"text-align: right;\">\n",
       "      <th></th>\n",
       "      <th></th>\n",
       "      <th>VaR95</th>\n",
       "    </tr>\n",
       "    <tr>\n",
       "      <th>BUSINESS_UNIT</th>\n",
       "      <th>SUB_BUSINESS_UNIT</th>\n",
       "      <th></th>\n",
       "    </tr>\n",
       "  </thead>\n",
       "  <tbody>\n",
       "    <tr>\n",
       "      <th>Rates &amp; Credits</th>\n",
       "      <th>Domestic Rates &amp; Credit</th>\n",
       "      <td>-3,316,449.75</td>\n",
       "    </tr>\n",
       "  </tbody>\n",
       "</table>\n",
       "</div>"
      ],
      "text/plain": [
       "                                                 VaR95\n",
       "BUSINESS_UNIT   SUB_BUSINESS_UNIT                     \n",
       "Rates & Credits Domestic Rates & Credit  -3,316,449.75"
      ]
     },
     "execution_count": 15,
     "metadata": {},
     "output_type": "execute_result"
    }
   ],
   "source": [
    "%%time\n",
    "cube.query(\n",
    "    m[\"VaR95\"],\n",
    "    levels=[l[\"BUSINESS_UNIT\"], l[\"SUB_BUSINESS_UNIT\"]],\n",
    "    filter=(l[\"AsOfDate\"] == \"2021-02-26\"),\n",
    ")"
   ]
  },
  {
   "cell_type": "markdown",
   "id": "6fdd6105-6338-49d7-a883-7423dbe5e87e",
   "metadata": {},
   "source": [
    "### Querying outside of aggregate provider's range\n",
    "\n",
    "As we add in a new level that's not listed in the levels for the aggregate provider, we will see that the querying speed slows down slightly. This may be due to JIT retrieval of the level from the data table."
   ]
  },
  {
   "cell_type": "code",
   "execution_count": 16,
   "id": "8edf6d49-1be4-44b4-bdbd-c06a7790def9",
   "metadata": {
    "atoti": {
     "widget": {
      "columnWidths": {
       "[Trade PnL].[RISKFACTOR].[RISKFACTOR]": 338.0000305175781
      },
      "mapping": {
       "columns": [
        "ALL_MEASURES"
       ],
       "measures": [],
       "rows": [
        "[Trade PnL].[CCY].[CCY]"
       ]
      },
      "query": {
       "mdx": "SELECT NON EMPTY Hierarchize(Descendants({[Trade PnL].[CCY].[AllMember]}, 1, SELF_AND_BEFORE)) ON ROWS FROM [Trade PnL] CELL PROPERTIES VALUE, FORMATTED_VALUE, BACK_COLOR, FORE_COLOR, FONT_FLAGS",
       "updateMode": "once"
      },
      "serverKey": "default",
      "widgetKey": "pivot-table"
     }
    },
    "tags": []
   },
   "outputs": [
    {
     "name": "stdout",
     "output_type": "stream",
     "text": [
      "CPU times: user 10.3 ms, sys: 2.14 ms, total: 12.4 ms\n",
      "Wall time: 50.6 ms\n"
     ]
    },
    {
     "data": {
      "application/vnd.atoti.convert-mdx-query-result-to-widget.v0+json": {
       "mdx": "SELECT {[Measures].[VaR95]} ON COLUMNS, NON EMPTY Crossjoin(Hierarchize(Descendants({[Books].[BUSINESS_UNIT].[ALL].[AllMember]}, 1, SELF_AND_BEFORE)), Hierarchize(Descendants({[Books].[SUB_BUSINESS_UNIT].[ALL].[AllMember]}, 1, SELF_AND_BEFORE)), Hierarchize(Descendants({[Books].[TRADING_DESK].[ALL].[AllMember]}, 1, SELF_AND_BEFORE)), Hierarchize(Descendants({[Trade PnL].[ccy].[ALL].[AllMember]}, 1, SELF_AND_BEFORE))) ON ROWS FROM [Trade PnL] WHERE [Trade PnL].[AsOfDate].[ALL].[AllMember].[2021-02-26]",
       "sessionId": "1747353440_833305",
       "widgetCreationCode": "session.widget"
      },
      "text/html": [
       "<div>\n",
       "<style scoped>\n",
       "    .dataframe tbody tr th:only-of-type {\n",
       "        vertical-align: middle;\n",
       "    }\n",
       "\n",
       "    .dataframe tbody tr th {\n",
       "        vertical-align: top;\n",
       "    }\n",
       "\n",
       "    .dataframe thead th {\n",
       "        text-align: right;\n",
       "    }\n",
       "</style>\n",
       "<table border=\"1\" class=\"dataframe\">\n",
       "  <thead>\n",
       "    <tr style=\"text-align: right;\">\n",
       "      <th></th>\n",
       "      <th></th>\n",
       "      <th></th>\n",
       "      <th></th>\n",
       "      <th>VaR95</th>\n",
       "    </tr>\n",
       "    <tr>\n",
       "      <th>BUSINESS_UNIT</th>\n",
       "      <th>SUB_BUSINESS_UNIT</th>\n",
       "      <th>TRADING_DESK</th>\n",
       "      <th>ccy</th>\n",
       "      <th></th>\n",
       "    </tr>\n",
       "  </thead>\n",
       "  <tbody>\n",
       "    <tr>\n",
       "      <th>Rates &amp; Credits</th>\n",
       "      <th>Domestic Rates &amp; Credit</th>\n",
       "      <th>Keres</th>\n",
       "      <th>EUR</th>\n",
       "      <td>-3,316,449.75</td>\n",
       "    </tr>\n",
       "  </tbody>\n",
       "</table>\n",
       "</div>"
      ],
      "text/plain": [
       "                                                                  VaR95\n",
       "BUSINESS_UNIT   SUB_BUSINESS_UNIT       TRADING_DESK ccy               \n",
       "Rates & Credits Domestic Rates & Credit Keres        EUR  -3,316,449.75"
      ]
     },
     "execution_count": 16,
     "metadata": {},
     "output_type": "execute_result"
    }
   ],
   "source": [
    "%%time\n",
    "cube.query(\n",
    "    m[\"VaR95\"],\n",
    "    levels=[l[\"BUSINESS_UNIT\"], l[\"SUB_BUSINESS_UNIT\"], l[\"TRADING_DESK\"], l[\"ccy\"]],\n",
    "    filter=(l[\"AsOfDate\"] == \"2021-02-26\"),\n",
    ")"
   ]
  },
  {
   "cell_type": "markdown",
   "id": "be8263f3-fe7f-4f3c-9fad-c72a0b84dc05",
   "metadata": {},
   "source": [
    "### Explaining query plans"
   ]
  },
  {
   "cell_type": "markdown",
   "id": "c4a2c263-ac7a-4f93-ae0c-f6d087d55933",
   "metadata": {},
   "source": [
    "We can understand how the query is executed with [`cube.explain_query`](https://docs.atoti.io/latest/api/atoti.Cube.explain_query.html#atoti.Cube.explain_query).  \n",
    "\n",
    "We replace the `query` function with `explain_query` and re-run the query with levels defined in the aggregate provider. Under Retrievals, we will see that _PartialPrimitiveAggregatesRetrieval_ is used in the query plan. "
   ]
  },
  {
   "cell_type": "code",
   "execution_count": 17,
   "id": "b04361cd-02a8-4031-89d2-c69c840e2756",
   "metadata": {
    "tags": []
   },
   "outputs": [
    {
     "data": {
      "text/plain": [
       "(QueryPlan(info={'pivotType': 'ActivePivotVersion', 'pivotId': 'Trade PnL', 'epoch': '20', 'branch': 'Base', 'retrieverType': 'ActivePivotAggregatesRetriever', 'mdxPass': 'SelectPass_0', 'contextValues': {'IBranch': 'null', 'ISubCubeProperties': 'SubCubeProperties [grantedMeasures=ALL, grantedMembers=ALL]', 'ISecurityCubeRestriction': 'null', 'IAsOfEpoch': 'null', 'IQueryMonitoring': 'QueryMonitoring [printExecutionPlan=false, printExecutionTiming=false, queryPlanExport=true, queryPlanSummary=false, queryPlanCycleDetection=true]', 'IQueryBasedCubeRestriction': 'null', 'IQueriesResultLimit': 'QueriesResultLimit [transientLimit=10000000, intermediateLimit=1000000]'}, 'rangeSharing': 1000000, 'missedPrefetchBehavior': 'WARN', 'aggregatesCache': 'capacity=0, size=0', 'globalTimings': {'executionContextCreationTime': 0, 'finalizationTime': 0, 'planningTime': 0, 'queryExecutionTime': 0}, 'continuous': False}, aggregate_retrievals=(AggregateRetrieval(id=0, filter_id=0, measure_names=('VaR95',), type='PostProcessedCacheRetrieval'), AggregateRetrieval(id=1, filter_id=0, measure_names=('VaR95',), type='PostProcessedAggregatesRetrieval'), AggregateRetrieval(id=2, filter_id=0, measure_names=('contributors.COUNT', 'pnl_vector.SUM'), type='PartialPrimitiveAggregatesRetrieval')), dependencies={'-1': (0,), '0': (1, 2), '1': (2,)}, database_retrievals=(), database_dependencies={}, filters=(QueryFilter(id=0, description='CubeFilter#1212813 with SubCubeProperties [grantedMeasures=ALL, grantedMembers=ALL]'),), summary={'measures': ['contributors.COUNT', 'VaR95', 'pnl_vector.SUM'], 'totalRetrievals': 3, 'retrievalsCountByType': {'PostProcessedAggregatesRetrieval': 1, 'PostProcessedCacheRetrieval': 1, 'PartialPrimitiveAggregatesRetrieval': 1}, 'partitioningCountByType': {'Constant partitioning': 3}, 'resultSizeByPartitioning': {'Constant partitioning': 3}, 'partialProviders': ['PnL provider'], 'totalDatabaseResultSize': 0}),)"
      ]
     },
     "execution_count": 17,
     "metadata": {},
     "output_type": "execute_result"
    }
   ],
   "source": [
    "cube.query(\n",
    "    m[\"VaR95\"],\n",
    "    levels=[l[\"BUSINESS_UNIT\"], l[\"SUB_BUSINESS_UNIT\"], l[\"TRADING_DESK\"]],\n",
    "    filter=(l[\"AsOfDate\"] == \"2021-02-26\"),\n",
    "    explain=True,\n",
    ")"
   ]
  },
  {
   "cell_type": "markdown",
   "id": "472911c2-a339-4f4e-9623-cd7b5d27ac05",
   "metadata": {},
   "source": [
    "However, once we queried levels outside of the aggregate provider's range, we see that _JITPrimitiveAggregatesRetrieval_ is used instead. "
   ]
  },
  {
   "cell_type": "code",
   "execution_count": 18,
   "id": "7f2889f1-d8b9-458b-9577-95619d629fcd",
   "metadata": {},
   "outputs": [
    {
     "data": {
      "text/plain": [
       "(QueryPlan(info={'pivotType': 'ActivePivotVersion', 'pivotId': 'Trade PnL', 'epoch': '20', 'branch': 'Base', 'retrieverType': 'ActivePivotAggregatesRetriever', 'mdxPass': 'SelectPass_0', 'contextValues': {'IBranch': 'null', 'ISubCubeProperties': 'SubCubeProperties [grantedMeasures=ALL, grantedMembers=ALL]', 'ISecurityCubeRestriction': 'null', 'IAsOfEpoch': 'null', 'IQueryMonitoring': 'QueryMonitoring [printExecutionPlan=false, printExecutionTiming=false, queryPlanExport=true, queryPlanSummary=false, queryPlanCycleDetection=true]', 'IQueryBasedCubeRestriction': 'null', 'IQueriesResultLimit': 'QueriesResultLimit [transientLimit=10000000, intermediateLimit=1000000]'}, 'rangeSharing': 1000000, 'missedPrefetchBehavior': 'WARN', 'aggregatesCache': 'capacity=0, size=0', 'globalTimings': {'executionContextCreationTime': 0, 'finalizationTime': 0, 'planningTime': 0, 'queryExecutionTime': 7}, 'continuous': False}, aggregate_retrievals=(AggregateRetrieval(id=0, filter_id=0, measure_names=('VaR95',), type='PostProcessedCacheRetrieval'), AggregateRetrieval(id=1, filter_id=0, measure_names=('contributors.COUNT', 'pnl_vector.SUM'), type='PrimitiveResultsMerger'), AggregateRetrieval(id=2, filter_id=0, measure_names=('contributors.COUNT', 'pnl_vector.SUM'), type='JITPrimitiveAggregatesRetrieval'), AggregateRetrieval(id=3, filter_id=0, measure_names=('VaR95',), type='PostProcessedAggregatesRetrieval')), dependencies={'-1': (0,), '0': (1, 3), '1': (2,), '3': (1,)}, database_retrievals=(), database_dependencies={}, filters=(QueryFilter(id=0, description='CubeFilter#1212813 with SubCubeProperties [grantedMeasures=ALL, grantedMembers=ALL]'),), summary={'measures': ['contributors.COUNT', 'VaR95', 'pnl_vector.SUM'], 'totalRetrievals': 4, 'retrievalsCountByType': {'JITPrimitiveAggregatesRetrieval': 1, 'PostProcessedAggregatesRetrieval': 1, 'PostProcessedCacheRetrieval': 1, 'PrimitiveResultsMerger': 1}, 'partitioningCountByType': {'modulo14(Trade PnL.BookId, Trade PnL.AsOfDate, Trade PnL.TradeId, Trade PnL.DataSet)': 1, 'Constant partitioning': 3}, 'resultSizeByPartitioning': {'modulo14(Trade PnL.BookId, Trade PnL.AsOfDate, Trade PnL.TradeId, Trade PnL.DataSet)': 1, 'Constant partitioning': 3}, 'partialProviders': [], 'totalDatabaseResultSize': 0}),)"
      ]
     },
     "execution_count": 18,
     "metadata": {},
     "output_type": "execute_result"
    }
   ],
   "source": [
    "cube.query(\n",
    "    m[\"VaR95\"],\n",
    "    levels=[l[\"BUSINESS_UNIT\"], l[\"SUB_BUSINESS_UNIT\"], l[\"TRADING_DESK\"], l[\"ccy\"]],\n",
    "    filter=(l[\"AsOfDate\"] == \"2021-02-26\"),\n",
    "    explain=True,\n",
    ")"
   ]
  },
  {
   "cell_type": "markdown",
   "id": "d67a2e8e-e5d8-4af1-98ca-cb3734a6b7cb",
   "metadata": {},
   "source": [
    "# Tuning Atoti\n",
    "\n",
    "There are many ways to tune the performance of our Atoti instance, for example:\n",
    "- [Aggregate provider](https://docs.atoti.io/latest/api/atoti.AggregateProvider.html#atoti.AggregateProvider) as we have seen in the example above.\n",
    "- [Aggregate cache](https://docs.atoti.io/latest/api/atoti.aggregates_cache.AggregatesCache.html#atoti.aggregates_cache.AggregatesCache) which we have turned off to prevent interference in performance.\n",
    "- Partitioning of tables.\n",
    "\n",
    "[Partitioning](https://docs.activeviam.com/products/atoti/server/latest/docs/concepts/partitioning/) a table is to cluster the data that the table holds and separate them into different partitions. This distributes the work performed by the processing cores for both data loading and querying. Although we did not explicitly configure partition for our aggregate provider example, it is useful to know that it is defaulted to the [partitioning of the cube’s base table](https://docs.atoti.io/latest/api/atoti.Session.create_table.html#atoti.Session.create_table). And fortunately, Atoti has default partitioning rules applied.  \n",
    "\n",
    "To find out more, reach out to [ActiveViam](https://activeviam.com/contact-us/?utm_source=github) or the Atoti team on [GitHub discussion](https://github.com/atoti/atoti/discussions).\n",
    "\n",
    "<div style=\"text-align: center;\" ><a href=\"https://www.atoti.io/?utm_source=gallery&utm_content=aggregate-provider\" target=\"_blank\" rel=\"noopener noreferrer\"><img src=\"https://data.atoti.io/notebooks/banners/Your-turn-to-try-Atoti.jpg\" alt=\"Try atoti\"></a></div>"
   ]
  }
 ],
 "metadata": {
  "kernelspec": {
   "display_name": "Python 3 (ipykernel)",
   "language": "python",
   "name": "python3"
  },
  "language_info": {
   "codemirror_mode": {
    "name": "ipython",
    "version": 3
   },
   "file_extension": ".py",
   "mimetype": "text/x-python",
   "name": "python",
   "nbconvert_exporter": "python",
   "pygments_lexer": "ipython3",
   "version": "3.11.10"
  },
  "widgets": {
   "application/vnd.jupyter.widget-state+json": {
    "state": {},
    "version_major": 2,
    "version_minor": 0
   }
  }
 },
 "nbformat": 4,
 "nbformat_minor": 5
}
