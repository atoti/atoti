{
 "cells": [
  {
   "cell_type": "markdown",
   "id": "e9924c94-89b0-4cc2-98de-0bb9973fa731",
   "metadata": {
    "editable": true,
    "slideshow": {
     "slide_type": ""
    },
    "tags": []
   },
   "source": [
    "# How a virtual hierarchy reduces memory footprint"
   ]
  },
  {
   "cell_type": "markdown",
   "id": "8ae95963-be99-455d-9f9c-b3aa6a2f42c3",
   "metadata": {},
   "source": [
    "A [virtual hierarchy](https://docs.activeviam.com/products/atoti/server/latest/docs/concepts/dimensions_and_hierarchies/#virtual-hierarchies) is a lightweight hierarchy implemented in [Atoti](https://www.atoti.io/). It offers a smaller memory footprint by not storing its members in the cube. This is especially handy for hierarchies with high cardinality, i.e. with many possible values. Usually, these are identifiers such as User ID, Shopping Cart ID, or Trade ID, where the hierarchy can have thousands of distinct values. These hierarchies are not typically the focus of interest for users in data analytics unless the specific use case requires a deep-dive investigation of such hierarchies.\n",
    "\n",
    "Creating a virtual or \"lightweight\" hierarchy comes with some trade-offs in features:\n",
    "\n",
    "* Navigation between the hierarchy members are not allowed. This means that it is not possible to use [`Lead`](https://learn.microsoft.com/en-us/sql/mdx/lead-mdx?view=sql-server-ver16) and [`Lag`](https://learn.microsoft.com/en-us/sql/mdx/lag-mdx?view=sql-server-ver16) functions such as [`atoti.shift`](https://docs.atoti.io/latest/lib/atoti/atoti.function.shift.html#atoti.shift) and [`atoti.date_shift`](https://docs.atoti.io/latest/lib/atoti/atoti.function.date_shift.html) on the virtual hierarchies.  \n",
    "* The virtual hierarchy cannot be a [slicing hierarchy](https://docs.atoti.io/latest/api/atoti.Hierarchy.slicing.html#atoti.Hierarchy.slicing).\n",
    "* For advanced users who manipulate the underlying MDX for querying, MDX expressions that includes a virtual hierarchy must include the `NON EMPTY` keyword. Member expressions must be written with the full member path: `[Dimension].[Hierarchy].[FirstLevel].[Path].[To].[My].[Member]`.  \n",
    "* In the Atoti UI and the Atoti JupyterLab extension, when creating or editing a filter on a virtual hierarchy, the full list of members is not displayed. Rather, the user must use the searchbar to find members and filter on them.  \n",
    "\n",
    "Let's explore more about virtual hierarchies in this notebook."
   ]
  },
  {
   "cell_type": "markdown",
   "id": "04dd12a2-5180-443a-bad1-9d4d194e230d",
   "metadata": {},
   "source": [
    "<div style=\"text-align:center\"><a href=\"https://www.atoti.io/?utm_source=gallery&utm_content=virtual-hierarchies\" target=\"_blank\" rel=\"noopener noreferrer\"><img src=\"https://data.atoti.io/notebooks/banners/Discover-Atoti-now.png\" alt=\"Atoti table\" /></a></div>"
   ]
  },
  {
   "cell_type": "markdown",
   "id": "d969ebe0-c20a-4dd8-8337-8ebfed611109",
   "metadata": {},
   "source": [
    "## Setting up ClickHouse for Atoti DirectQuery\n",
    "\n",
    "For this walkthrough, we will demonstrate a case where we have a hierarchy with high cardinality, and use [Atoti DirectQuery](https://docs.atoti.io/latest/how_tos/use_directquery.html) to connect to a ClickHouse instance that hosts more than 700k trade records.\n",
    "\n",
    "⚠️ We require a valid license to [unlock all Atoti features](https://docs.atoti.io/latest/how_tos/unlock_all_features.html) and to be able to use DirectQuery. You can register online for an [evaluation license](https://atoti.io/evaluation-license-request/). In addition, ClickHouse provides a 30-day trial for its [cloud-based DBMS](https://clickhouse.com/cloud).  \n",
    "\n",
    "Let's first set up our database by creating a service and running the following [clickhouse_table_user.sql](./clickhouse_table_user.sql) script.\n",
    "\n",
    "### Creating DB, Tables, and Roles  \n",
    "\n",
    "We can navigate to our query editor for one of our Clickhouse instances and run the following SQL commands from [clickhouse_table_user.sql](./clickhouse_table_user.sql):\n",
    "\n",
    "![setting-up-db](https://data.atoti.io/notebooks/virtual-hierarchies/img/setting-up-db.png)\n",
    "\n",
    "Here, we create the `ATOTI` database.\n",
    "\n",
    "```sql\n",
    "CREATE DATABASE IF NOT EXISTS ATOTI;\n",
    "```\n",
    "\n",
    "Next, we create the `TRADE_PNLS` table.\n",
    "\n",
    "```sql\n",
    "CREATE TABLE IF NOT EXISTS ATOTI.TRADE_PNLS (\n",
    "  `BookId` Int64, \n",
    "  `AsOfDate` Date32, \n",
    "  `TradeId` String, \n",
    "  `DataSet` String, \n",
    "  `RiskFactor` String, \n",
    "  `RiskClass` String, \n",
    "  `SensitivityName` String, \n",
    "  `ccy` String, \n",
    "  `pnl_vector` Array(Float64), \n",
    ")\n",
    "ENGINE = MergeTree()\n",
    "PRIMARY KEY (`BookId`, `AsOfDate`, `TradeId`, `DataSet`);\n",
    "```\n",
    "\n",
    "And finally, we grant the specific privileges for the `querier` role, which will be the role assigned to any user connecting to the ClickHouse instance using Atoti DirectQuery. In this case, we create a user `ATOTI_QUERIER` and specify the password as `Password123!`.\n",
    "\n",
    "```sql\n",
    "CREATE ROLE querier;\n",
    "\n",
    "GRANT SELECT ON ATOTI.* TO querier WITH GRANT OPTION;\n",
    "GRANT SELECT ON system.databases TO querier WITH GRANT OPTION;\n",
    "GRANT SELECT ON system.processes TO querier WITH GRANT OPTION;\n",
    "GRANT SELECT ON system.tables TO querier WITH GRANT OPTION;\n",
    "GRANT SELECT ON system.columns TO querier WITH GRANT OPTION;\n",
    "\n",
    "CREATE USER IF NOT EXISTS ATOTI_QUERIER IDENTIFIED WITH sha256_password BY 'Password123!' DEFAULT ROLE querier;\n",
    "```\n",
    "\n",
    "### Loading Data into ClickHouse\n",
    "\n",
    "Now let's load data within the `TRADE_PNLS` table that we just created. Download the following `.zip` file:\n",
    "\n",
    "* [trades_pnl.zip](https://data.atoti.io/notebooks/direct-query/data/trades_pnl.zip)\n",
    "\n",
    "and extract the CSV from within the `.zip` file to upload the CSV to the ClickHouse instance using the [ClickHouse Command-Line Client (CLI)](https://clickhouse.com/docs/en/install). For Windows users, first install WLS 2 by running the command `wsl --install` in PowerShell before installing [ClickHouse CLI](https://clickhouse.com/docs/en/integrations/sql-clients/clickhouse-client-local).  \n",
    "\n",
    "To do this, we'll also need to set up the following environment variables. \n",
    "\n",
    "💡 **Note:** We set up our environment variables as a DBMS user.\n",
    "\n",
    "```bash\n",
    "export CLICKHOUSE_HOST=<host>\n",
    "export CLICKHOUSE_USER=<db_user>\n",
    "export CLICKHOUSE_PASSWORD=<db_password>\n",
    "export CLICKHOUSE_DB=<db>\n",
    "export TRADE_PNL_FILEPATH=<filepath_to_csv>\n",
    "```\n",
    "\n",
    "We can also verify our credentials by clicking the *Connect* button.\n",
    "\n",
    "![find-hostname](https://data.atoti.io/notebooks/virtual-hierarchies/img/find-hostname.png)\n",
    "\n",
    "Once we've set our environment variables, we can execute the following to upload the CSV and load the `TRADE_PNLS` table:\n",
    "\n",
    "```bash\n",
    "clickhouse client --host \"$CLICKHOUSE_HOST\" --secure --password  \"$CLICKHOUSE_PASSWORD\" --database \"$CLICKHOUSE_DB\" --query=\"INSERT INTO TRADE_PNLS FORMAT CSV\" < \"$TRADE_PNL_FILEPATH\"\n",
    "```\n",
    "\n",
    "For this walkthrough, we executed the following sequence:\n",
    "\n",
    "```bash\n",
    "export CLICKHOUSE_HOST=jelt586y67.us-east1.gcp.clickhouse.cloud\n",
    "export CLICKHOUSE_USER=default\n",
    "export CLICKHOUSE_PASSWORD=5A2_wByjrMBxz\n",
    "export CLICKHOUSE_DB=ATOTI\n",
    "export TRADE_PNL_FILEPATH=~/Downloads/trades_pnl.csv\n",
    "```\n",
    "\n",
    "```bash\n",
    "clickhouse client --host jelt586y67.us-east1.gcp.clickhouse.cloud --secure --password '5A2_wByjrMBxz' --database \"ATOTI\" --query=\"INSERT INTO TRADE_PNLS FORMAT CSV\" < ~/Downloads/trades_pnl.csv\n",
    "``` \n",
    "\n",
    "For Windows users, remember to copy the unzipped datafile to the Ubuntu directory:  \n",
    "\n",
    "<img src=\"https://data.atoti.io/notebooks/virtual-hierarchies/img/ubuntu_folder.png\" width=\"750px\"/>"
   ]
  },
  {
   "cell_type": "markdown",
   "id": "9fe85f82-7c08-46bd-8bad-7f378191a09a",
   "metadata": {},
   "source": [
    "## Using Atoti DirectQuery "
   ]
  },
  {
   "cell_type": "markdown",
   "id": "32346038-eb28-40e7-8b1c-ac5fda90cef9",
   "metadata": {},
   "source": [
    "Now that we have our ClickHouse instance set up and ready-to-go, let's set up our Atoti cube."
   ]
  },
  {
   "cell_type": "markdown",
   "id": "ad8a7814-2de0-493e-8d2c-0289b1e03d12",
   "metadata": {},
   "source": [
    "### Set up Atoti cube\n",
    "\n",
    "Uncomment the following cell to install the [DirectQuery plugin](https://docs.atoti.io/latest/reference.html#directquery) if you haven't installed it yet."
   ]
  },
  {
   "cell_type": "code",
   "execution_count": 1,
   "id": "28f26e79-07a4-4355-84cb-304915085686",
   "metadata": {},
   "outputs": [],
   "source": [
    "# !pip install atoti_directquery_clickhouse"
   ]
  },
  {
   "cell_type": "markdown",
   "id": "a3d7a49f-6752-42c5-987c-1e4b1931ec9e",
   "metadata": {},
   "source": [
    "Now let's import the required libraries and instantiate the Atoti session."
   ]
  },
  {
   "cell_type": "code",
   "execution_count": 2,
   "id": "5e53eb1c-6c2d-4581-80f0-2435aa0df343",
   "metadata": {},
   "outputs": [],
   "source": [
    "import os\n",
    "import atoti as tt\n",
    "from atoti_directquery_clickhouse import (\n",
    "    ClickhouseConnectionInfo,\n",
    "    ClickhouseTableOptions,\n",
    ")"
   ]
  },
  {
   "cell_type": "code",
   "execution_count": 3,
   "id": "ad90651f-1e18-474e-a4a1-cc7ec8f6b556",
   "metadata": {},
   "outputs": [],
   "source": [
    "session = tt.Session()"
   ]
  },
  {
   "cell_type": "markdown",
   "id": "91ecb350-60e0-4e80-a775-c0515081a092",
   "metadata": {},
   "source": [
    "Next, we'll make the connection to the ClickHouse instance using [connect_to_external_database()](https://docs.atoti.io/latest/api/atoti.Session.connect_to_external_database.html#atoti.Session.connect_to_external_database). \n",
    "\n",
    "Before we do this, we should make sure we set our environment variables to use the `ATOTI_QUERIER` user assigned with the `querier` role that we created in previous steps.\n",
    "\n",
    "```bash\n",
    "export CLICKHOUSE_HOST=<host>\n",
    "export CLICKHOUSE_PORT=8443\n",
    "export CLICKHOUSE_USER=ATOTI_QUERIER\n",
    "export CLICKHOUSE_PASSWORD=Password123!\n",
    "```\n",
    "\n",
    "💡 **Note:** In the below code snippet, we configure the password in a separate parameter instead of embedding it in the URL. This is a good practice to prevent the password from getting logged along with the URL. Furthermore, the ClickHouse password requires at least 1 special character, and special characters can cause problems in URLs. "
   ]
  },
  {
   "cell_type": "code",
   "execution_count": 4,
   "id": "4f261f12-f04a-4792-a97a-4955b82cc951",
   "metadata": {
    "tags": []
   },
   "outputs": [],
   "source": [
    "connection_info = ClickhouseConnectionInfo(\n",
    "    f\"clickhouse:https://{os.environ['CLICKHOUSE_USER']}@{os.environ['CLICKHOUSE_HOST']}:{os.environ['CLICKHOUSE_PORT']}\",\n",
    "    password=os.environ[\"CLICKHOUSE_PASSWORD\"],\n",
    ")\n",
    "\n",
    "db = session.connect_to_external_database(connection_info)"
   ]
  },
  {
   "cell_type": "markdown",
   "id": "9ffd7984-3337-479a-8828-46ccadca53f4",
   "metadata": {},
   "source": [
    "Under the `ATOTI` database in ClickHouse, we have two tables. We'll use only the `TRADE_PNLS` table."
   ]
  },
  {
   "cell_type": "code",
   "execution_count": 5,
   "id": "dcb0359d-f3e3-48b8-ab4d-c7b6e63a1c68",
   "metadata": {
    "tags": []
   },
   "outputs": [
    {
     "data": {
      "application/json": {
       "ATOTI": {
        "ATOTI": [
         "TRADE_PNLS"
        ]
       },
       "system": {
        "system": [
         "columns",
         "databases",
         "processes",
         "tables"
        ]
       }
      },
      "text/html": [
       "<ul>\n",
       "<li>CLICKHOUSE\n",
       "  <ul>\n",
       "  <li>system\n",
       "    <ul>\n",
       "    <li>system\n",
       "      <ol>\n",
       "      <li>columns</li>\n",
       "      <li>databases</li>\n",
       "      <li>processes</li>\n",
       "      <li>tables</li>\n",
       "      </ol>    </li>\n",
       "    </ul>\n",
       "  </li>\n",
       "  <li>ATOTI\n",
       "    <ul>\n",
       "    <li>ATOTI\n",
       "      <ol>\n",
       "      <li>TRADE_PNLS</li>\n",
       "      </ol>    </li>\n",
       "    </ul>\n",
       "  </li>\n",
       "  </ul>\n",
       "</li>\n",
       "</ul>\n"
      ],
      "text/plain": [
       "<atoti.directquery.external_tables.ExternalTables at 0x10457e950>"
      ]
     },
     "execution_count": 5,
     "metadata": {
      "application/json": {
       "expanded": false,
       "root": "CLICKHOUSE"
      }
     },
     "output_type": "execute_result"
    }
   ],
   "source": [
    "db.tables"
   ]
  },
  {
   "cell_type": "code",
   "execution_count": 6,
   "id": "b5d65597-dd92-4559-8a16-b0f7422f433f",
   "metadata": {
    "tags": []
   },
   "outputs": [],
   "source": [
    "trades_atoti = session.add_external_table(\n",
    "    db.tables[\"TRADE_PNLS\"],\n",
    "    table_name=\"Trade PnL\",\n",
    "    options=ClickhouseTableOptions(keys=[\"AsOfDate\", \"TradeId\", \"BookId\", \"DataSet\"]),\n",
    ")"
   ]
  },
  {
   "cell_type": "code",
   "execution_count": 7,
   "id": "a1fc1cb9-f22d-4b57-859e-d034d4ba0c37",
   "metadata": {},
   "outputs": [
    {
     "name": "stdout",
     "output_type": "stream",
     "text": [
      "# of records: 765754, # of columns: 9\n"
     ]
    }
   ],
   "source": [
    "print(f\"# of records: {len(trades_atoti)}, # of columns: {len(trades_atoti.columns)}\")"
   ]
  },
  {
   "cell_type": "code",
   "execution_count": 8,
   "id": "e0ecab9a-c2aa-419d-965c-a7b02a874968",
   "metadata": {},
   "outputs": [
    {
     "data": {
      "image/png": "[encoded data removed]",
      "text/plain": [
       "erDiagram\n",
       "  \"Trade PnL\" {\n",
       "    _ long PK \"BookId\"\n",
       "    _ LocalDate PK \"AsOfDate\"\n",
       "    _ String PK \"TradeId\"\n",
       "    _ String PK \"DataSet\"\n",
       "    _ String \"RiskFactor\"\n",
       "    _ String \"RiskClass\"\n",
       "    _ String \"SensitivityName\"\n",
       "    _ String \"ccy\"\n",
       "    nullable double[] \"pnl_vector\"\n",
       "  }"
      ]
     },
     "execution_count": 8,
     "metadata": {},
     "output_type": "execute_result"
    }
   ],
   "source": [
    "cube = session.create_cube(trades_atoti)\n",
    "session.tables.schema"
   ]
  },
  {
   "cell_type": "markdown",
   "id": "142ef4e9-a829-489a-b713-03788539c51f",
   "metadata": {},
   "source": [
    "Before proceeding further, let's do some simple configurations that will help avoid querying the entire database. We set the `AsOfDate` as a slicing hierarchy and sort it in descending order. This way, only data from the latest `AsOfDate` will be returned by default when we query Atoti.  "
   ]
  },
  {
   "cell_type": "code",
   "execution_count": 9,
   "id": "0e8328f8-649d-43b5-b950-7f298380e69f",
   "metadata": {},
   "outputs": [],
   "source": [
    "h, l, m = cube.hierarchies, cube.levels, cube.measures"
   ]
  },
  {
   "cell_type": "code",
   "execution_count": 10,
   "id": "eb441bb8-9b29-4e18-a8e6-b44570f9096c",
   "metadata": {
    "tags": []
   },
   "outputs": [],
   "source": [
    "h[\"AsOfDate\"].slicing = True\n",
    "l[\"AsOfDate\"].order = tt.NaturalOrder(ascending=False)"
   ]
  },
  {
   "cell_type": "markdown",
   "id": "ad57bfb6-f8ac-4b87-9bef-cb5f38176958",
   "metadata": {},
   "source": [
    "Atoti is now able to retrieve data from ClickHouse without storing them in-memory.  "
   ]
  },
  {
   "cell_type": "code",
   "execution_count": 11,
   "id": "65a82548-15fe-412e-80d4-278c8e3f2e6e",
   "metadata": {
    "atoti": {
     "height": 191,
     "widget": {
      "mapping": {
       "columns": [
        "ALL_MEASURES"
       ],
       "measures": [
        "[Measures].[contributors.COUNT]"
       ],
       "rows": [
        "[Trade PnL].[AsOfDate].[AsOfDate]"
       ]
      },
      "name": "Daily data volume",
      "query": {
       "mdx": "SELECT NON EMPTY {[Measures].[contributors.COUNT]} ON COLUMNS, NON EMPTY [Trade PnL].[AsOfDate].[AsOfDate].Members ON ROWS FROM [Trade PnL] CELL PROPERTIES VALUE, FORMATTED_VALUE, BACK_COLOR, FORE_COLOR, FONT_FLAGS",
       "updateMode": "once"
      },
      "serverKey": "default",
      "widgetKey": "pivot-table"
     }
    },
    "tags": []
   },
   "outputs": [
    {
     "data": {
      "application/vnd.atoti.widget.v0+json": {
       "sessionId": "1722612823_O84809",
       "sessionLocation": {
        "https": false,
        "port": 55037
       },
       "widgetCreationCode": "session.widget"
      },
      "text/html": [
       "<img height=\"183\" width=\"1211\" src=\"data:image/png;base64,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\" />"
      ],
      "text/plain": [
       "Open the notebook in JupyterLab with the Atoti JupyterLab extension enabled to build this widget."
      ]
     },
     "metadata": {},
     "output_type": "display_data"
    }
   ],
   "source": [
    "session.widget"
   ]
  },
  {
   "cell_type": "markdown",
   "id": "4142fcf8-391e-4e6c-bc0a-8b6388491342",
   "metadata": {},
   "source": [
    "### Cardinality Investigation"
   ]
  },
  {
   "cell_type": "markdown",
   "id": "618e595f-fa6c-4992-9fda-eaffafd36161",
   "metadata": {},
   "source": [
    "Some of our hierarchies have a high cardinality (= number of distinct values). Let's create some measures to visualize that."
   ]
  },
  {
   "cell_type": "code",
   "execution_count": 12,
   "id": "45e109e8-a388-4efb-a67b-2e59e5d7f621",
   "metadata": {
    "tags": []
   },
   "outputs": [],
   "source": [
    "m[\"Distinct Trade Id\"] = tt.agg.count_distinct(trades_atoti[\"TradeId\"])\n",
    "m[\"Distinct BookId\"] = tt.agg.count_distinct(trades_atoti[\"BookId\"])\n",
    "m[\"Distinct RiskFactor\"] = tt.agg.count_distinct(trades_atoti[\"RiskFactor\"])\n",
    "m[\"Distinct RiskClass\"] = tt.agg.count_distinct(trades_atoti[\"RiskClass\"])"
   ]
  },
  {
   "cell_type": "code",
   "execution_count": 13,
   "id": "9bb810de-6465-43d9-aa3c-30348d004ad1",
   "metadata": {
    "atoti": {
     "widget": {
      "mapping": {
       "columns": [
        "ALL_MEASURES"
       ],
       "measures": [
        "[Measures].[Distinct BookId]",
        "[Measures].[Distinct RiskClass]",
        "[Measures].[Distinct RiskFactor]",
        "[Measures].[Distinct Trade Id]"
       ],
       "rows": []
      },
      "query": {
       "mdx": "SELECT NON EMPTY {[Measures].[Distinct BookId], [Measures].[Distinct RiskClass], [Measures].[Distinct RiskFactor], [Measures].[Distinct Trade Id]} ON COLUMNS FROM [Trade PnL] CELL PROPERTIES VALUE, FORMATTED_VALUE, BACK_COLOR, FORE_COLOR, FONT_FLAGS",
       "updateMode": "once"
      },
      "serverKey": "default",
      "widgetKey": "pivot-table"
     }
    }
   },
   "outputs": [
    {
     "data": {
      "application/vnd.atoti.widget.v0+json": {
       "sessionId": "1722612823_O84809",
       "sessionLocation": {
        "https": false,
        "port": 55037
       },
       "widgetCreationCode": "session.widget"
      },
      "text/html": [
       "<img height=\"352\" width=\"1211\" src=\"data:image/png;base64,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\" />"
      ],
      "text/plain": [
       "Open the notebook in JupyterLab with the Atoti JupyterLab extension enabled to build this widget."
      ]
     },
     "metadata": {},
     "output_type": "display_data"
    }
   ],
   "source": [
    "session.widget"
   ]
  },
  {
   "cell_type": "markdown",
   "id": "05de8c4f-9f0c-4351-b9be-af2f8dc3fc94",
   "metadata": {},
   "source": [
    "We can see that `TradeId` has far more unique values than the other hierarchies. Iterating through the hierarchies, we can see that only `TradeId` is set as a virtual hierarchy by the application."
   ]
  },
  {
   "cell_type": "code",
   "execution_count": 14,
   "id": "068d8cbd-60d3-4a54-82a3-088f85c13564",
   "metadata": {
    "tags": []
   },
   "outputs": [
    {
     "name": "stdout",
     "output_type": "stream",
     "text": [
      "Hierarchy name: ('Trade PnL', 'RiskFactor'): False\n",
      "Hierarchy name: ('Trade PnL', 'AsOfDate'): False\n",
      "Hierarchy name: ('Trade PnL', 'ccy'): False\n",
      "Hierarchy name: ('Trade PnL', 'BookId'): False\n",
      "Hierarchy name: ('Trade PnL', 'RiskClass'): False\n",
      "Hierarchy name: ('Trade PnL', 'DataSet'): False\n",
      "Hierarchy name: ('Trade PnL', 'SensitivityName'): False\n",
      "Hierarchy name: ('Trade PnL', 'TradeId'): True\n"
     ]
    }
   ],
   "source": [
    "for _hierarchy in h:\n",
    "    print(f\"Hierarchy name: {_hierarchy}: {h[_hierarchy].virtual}\")"
   ]
  },
  {
   "cell_type": "markdown",
   "id": "7ee1c971-d2e0-4520-bb11-9f9e5b97e581",
   "metadata": {},
   "source": [
    "⚠️ It is important to know that **with the use of DirectQuery, a hierarchy is automatically set as virtual if its cardinality is greater than or equal to 10000**. Without DirectQuery, we have to explicitly set a hierarchy as virtual where necessary."
   ]
  },
  {
   "cell_type": "markdown",
   "id": "cc7f18ce-0568-47ac-82ba-640263dcc819",
   "metadata": {},
   "source": [
    "### Trade-off on interactive filtering"
   ]
  },
  {
   "cell_type": "markdown",
   "id": "a457b587-75c8-43fe-a02b-76081088d1db",
   "metadata": {},
   "source": [
    "Normally, when creating or editing filters on a visualization using Atoti UI or the Atoti JupyterLab extension, the popover displays the full list of members of the selected hierarchy:  \n",
    "\n",
    "<img src=\"https://data.atoti.io/notebooks/virtual-hierarchies/img/normal_hierarchy_filter.gif\" width=\"75%\"/>  \n",
    "\n",
    "For virtual hierarchies, while the members are not retrieved by default, we can search on demand:  \n",
    "\n",
    "<img src=\"https://data.atoti.io/notebooks/virtual-hierarchies/img/filter-on-demand.gif\" width=\"75%\" />  "
   ]
  },
  {
   "cell_type": "code",
   "execution_count": 15,
   "id": "35266910-4ce1-4633-83f9-2285b9abb3a2",
   "metadata": {
    "atoti": {
     "widget": {
      "columnWidths": {
       "[Trade PnL].[TradeId].[TradeId]": 291
      },
      "filters": [
       {
        "dimensionName": "Trade PnL",
        "hierarchyName": "TradeId",
        "isExclusionFilter": false,
        "members": [
         [
          "AllMember",
          "EQB_AUTOCALL_BESP_BASKET_1 0385def4"
         ],
         [
          "AllMember",
          "EQB_AUTOCALL_BESP_BASKET_1 01575a67"
         ]
        ],
        "type": "members"
       }
      ],
      "mapping": {
       "columns": [
        "ALL_MEASURES"
       ],
       "measures": [
        "[Measures].[contributors.COUNT]"
       ],
       "rows": [
        "[Trade PnL].[RiskClass].[RiskClass] => [Trade PnL].[TradeId].[TradeId]"
       ]
      },
      "name": "Virtual Hierarchy",
      "query": {
       "mdx": "SELECT NON EMPTY Hierarchize(Union(Crossjoin(Descendants({[Trade PnL].[RiskClass].[ALL].[AllMember]}, 1, SELF_AND_BEFORE), [Trade PnL].[TradeId].DefaultMember), Crossjoin([Trade PnL].[RiskClass].[ALL].[AllMember].[Equity], Hierarchize(Descendants({[Trade PnL].[TradeId].[ALL].[AllMember]}, 1, SELF_AND_BEFORE))), Crossjoin([Trade PnL].[RiskClass].[ALL].[AllMember].[Foreign exchange], Hierarchize(Descendants({[Trade PnL].[TradeId].[ALL].[AllMember]}, 1, SELF_AND_BEFORE))), Crossjoin([Trade PnL].[RiskClass].[ALL].[AllMember].[Interest rate], Hierarchize(Descendants({[Trade PnL].[TradeId].[ALL].[AllMember]}, 1, SELF_AND_BEFORE))), Crossjoin([Trade PnL].[RiskClass].[ALL].[AllMember].[N/A], Hierarchize(Descendants({[Trade PnL].[TradeId].[ALL].[AllMember]}, 1, SELF_AND_BEFORE))))) ON ROWS, NON EMPTY {[Measures].[contributors.COUNT]} ON COLUMNS FROM [Trade PnL] CELL PROPERTIES VALUE, FORMATTED_VALUE, BACK_COLOR, FORE_COLOR, FONT_FLAGS",
       "updateMode": "once"
      },
      "serverKey": "default",
      "widgetKey": "pivot-table"
     }
    }
   },
   "outputs": [
    {
     "data": {
      "application/vnd.atoti.widget.v0+json": {
       "sessionId": "1722612823_O84809",
       "sessionLocation": {
        "https": false,
        "port": 55037
       },
       "widgetCreationCode": "session.widget"
      },
      "text/html": [
       "<img height=\"352\" width=\"1211\" src=\"data:image/png;base64,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\" />"
      ],
      "text/plain": [
       "Open the notebook in JupyterLab with the Atoti JupyterLab extension enabled to build this widget."
      ]
     },
     "metadata": {},
     "output_type": "display_data"
    }
   ],
   "source": [
    "session.widget"
   ]
  },
  {
   "cell_type": "markdown",
   "id": "3411ae4e-d804-4c11-8930-e1e523c25128",
   "metadata": {},
   "source": [
    "### MDX with Non Empty for a virtual hierarchy \n",
    "\n",
    "In [Multidimensional Expressions (MDX)](https://learn.microsoft.com/en-us/analysis-services/multidimensional-models/mdx/mdx-query-the-basic-query?view=asallproducts-allversions), the keyword [`Non Empty`](https://learn.microsoft.com/en-us/sql/mdx/nonempty-mdx?view=sql-server-ver16) is used to filter out empty cells from the result set of a query.\n",
    "\n",
    "<img src=\"https://data.atoti.io/notebooks/virtual-hierarchies/img/mdx.png\"/>  \n",
    "\n",
    "We can inspect the generated MDX of a visualization by expanding on the Property Inspector of JupyterLab for its cell.    \n",
    "\n",
    "MDX expressions including a virtual hierarchy must include the `NON EMPTY` keyword. Let's see what happens when we remove it for the rows containing our `TradeId` from the MDX above: "
   ]
  },
  {
   "cell_type": "code",
   "execution_count": 16,
   "id": "481f3c7d-1676-423e-bf6d-40553c02419b",
   "metadata": {
    "atoti": {
     "widget": {
      "columnWidths": {
       "[Trade PnL].[TradeId].[TradeId]": 291
      },
      "filters": [
       {
        "dimensionName": "Trade PnL",
        "hierarchyName": "TradeId",
        "isExclusionFilter": false,
        "members": [
         [
          "AllMember",
          "EQB_AUTOCALL_BESP_BASKET_1 0385def4"
         ],
         [
          "AllMember",
          "EQB_AUTOCALL_BESP_BASKET_1 01575a67"
         ]
        ],
        "type": "members"
       }
      ],
      "mapping": {
       "columns": [
        "ALL_MEASURES"
       ],
       "measures": [
        "[Measures].[contributors.COUNT]"
       ],
       "rows": [
        "[Trade PnL].[RiskClass].[RiskClass] => [Trade PnL].[TradeId].[TradeId]"
       ]
      },
      "name": "Virtual Hierarchy - not working as expected",
      "query": {
       "mdx": "SELECT Hierarchize(Union(Crossjoin(Descendants({[Trade PnL].[RiskClass].[ALL].[AllMember]}, 1, SELF_AND_BEFORE), [Trade PnL].[TradeId].DefaultMember), Crossjoin([Trade PnL].[RiskClass].[ALL].[AllMember].[Equity], Hierarchize(Descendants({[Trade PnL].[TradeId].[ALL].[AllMember]}, 1, SELF_AND_BEFORE))), Crossjoin([Trade PnL].[RiskClass].[ALL].[AllMember].[Foreign exchange], Hierarchize(Descendants({[Trade PnL].[TradeId].[ALL].[AllMember]}, 1, SELF_AND_BEFORE))), Crossjoin([Trade PnL].[RiskClass].[ALL].[AllMember].[Interest rate], Hierarchize(Descendants({[Trade PnL].[TradeId].[ALL].[AllMember]}, 1, SELF_AND_BEFORE))), Crossjoin([Trade PnL].[RiskClass].[ALL].[AllMember].[N/A], Hierarchize(Descendants({[Trade PnL].[TradeId].[ALL].[AllMember]}, 1, SELF_AND_BEFORE))))) ON ROWS, NON EMPTY {[Measures].[contributors.COUNT]} ON COLUMNS FROM [Trade PnL] CELL PROPERTIES VALUE, FORMATTED_VALUE, BACK_COLOR, FORE_COLOR, FONT_FLAGS",
       "updateMode": "once"
      },
      "serverKey": "default",
      "widgetKey": "pivot-table"
     }
    },
    "editable": true,
    "slideshow": {
     "slide_type": ""
    },
    "tags": []
   },
   "outputs": [
    {
     "data": {
      "application/vnd.atoti.widget.v0+json": {
       "sessionId": "1722612823_O84809",
       "sessionLocation": {
        "https": false,
        "port": 55037
       },
       "widgetCreationCode": "session.widget"
      },
      "text/plain": [
       "Open the notebook in JupyterLab with the Atoti JupyterLab extension enabled to build this widget."
      ]
     },
     "metadata": {},
     "output_type": "display_data"
    }
   ],
   "source": [
    "session.widget"
   ]
  },
  {
   "cell_type": "markdown",
   "id": "35cf0f0c-05aa-4872-87ea-1e29865782fe",
   "metadata": {},
   "source": [
    "### Memory footprint difference between virtual and non-virtual hierarchies"
   ]
  },
  {
   "cell_type": "markdown",
   "id": "3eac9179-3009-4804-92dc-49b27fe5c73e",
   "metadata": {},
   "source": [
    "From the [server log](https://docs.atoti.io/latest/lib/atoti/atoti.config.logging_config.html#atoti.LoggingConfig) (found under `$HOME/.atoti` folder by default), we can see that we have only utilized `140KB` of direct memory and less than `100 MB` of heap so far:  \n",
    "\n",
    "<img src=\"https://data.atoti.io/notebooks/virtual-hierarchies/img/virtual_hierarchy_mem_usage.png\" />  \n",
    "\n",
    "Let's try changing the `TradeId` into a non-virtual hierarchy."
   ]
  },
  {
   "cell_type": "code",
   "execution_count": 17,
   "id": "cfb31b3e-5388-4a32-9462-e03bd8d401e4",
   "metadata": {
    "tags": []
   },
   "outputs": [],
   "source": [
    "h[\"TradeId\"].virtual = False"
   ]
  },
  {
   "cell_type": "markdown",
   "id": "e88c2c11-d789-4c96-9049-356474e65383",
   "metadata": {},
   "source": [
    "After setting the `virtual` parameter to `False` for the `TradeId` hierarchy, the memory usage increases — now we utilize more than 1 MB of direct memory. \n",
    "  \n",
    "<img src=\"https://data.atoti.io/notebooks/virtual-hierarchies/img/non-virtual_hierarchy_mem_usage.png\" />"
   ]
  },
  {
   "cell_type": "markdown",
   "id": "6ee6bdfb-4d2c-4f17-9796-66962f6d712d",
   "metadata": {},
   "source": [
    "We can see that setting a hierarchy as virtual makes it lightweight memory-wise, while still being queryable by users, just in a slightly more restrictive way."
   ]
  },
  {
   "cell_type": "markdown",
   "id": "49554a62-574d-4852-8ca9-20f0a3736d71",
   "metadata": {},
   "source": [
    "<div style=\"text-align:center\"><a href=\"https://www.atoti.io/?utm_source=gallery&utm_content=virtual-hierarchies\" target=\"_blank\" rel=\"noopener noreferrer\"><img src=\"https://data.atoti.io/notebooks/banners/Your-turn-to-try-Atoti.jpg\" alt=\"Atoti table\" /></a></div>"
   ]
  }
 ],
 "metadata": {
  "kernelspec": {
   "display_name": "Python 3 (ipykernel)",
   "language": "python",
   "name": "python3"
  },
  "language_info": {
   "codemirror_mode": {
    "name": "ipython",
    "version": 3
   },
   "file_extension": ".py",
   "mimetype": "text/x-python",
   "name": "python",
   "nbconvert_exporter": "python",
   "pygments_lexer": "ipython3",
   "version": "3.10.0"
  },
  "widgets": {
   "application/vnd.jupyter.widget-state+json": {
    "state": {},
    "version_major": 2,
    "version_minor": 0
   }
  }
 },
 "nbformat": 4,
 "nbformat_minor": 5
}
