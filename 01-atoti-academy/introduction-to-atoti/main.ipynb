{
 "cells": [
  {
   "cell_type": "markdown",
   "id": "8d668eea-0a00-4c60-9efb-d7cdbb97d362",
   "metadata": {
    "editable": true,
    "slideshow": {
     "slide_type": ""
    },
    "tags": []
   },
   "source": [
    "# Introduction to Atoti\n",
    "\n",
    "This course gives a quick introduction to Atoti Python, a library that allow users to build their own operational intelligence platform for better collaboration and faster analysis.   \n",
    "\n",
    "<img src=\"https://data.atoti.io/atoti-academy/images/introduction/0_Atoti_architecture.png\" width=\"750px\"/>\n",
    "\n",
    "We will look at some commonly used functions and operations from the library.  \n",
    "\n",
    "<u><b>Course Outline and Objectives</b></u>\n",
    "1. Create Atoti tables via data source or from scratch.\n",
    "2. Build an Atoti cube.\n",
    "3. Master common operations such as hierarchy manipulations and measure creations.\n",
    "4. Explore your data with interactive visualization.\n",
    "5. Export and share your data to Pandas DataFrame or other data structures.\n",
    "\n",
    "The notebook is expected to run sequentially as some data objects created at the beginning may be used in later cells.  \n",
    "Some cells may fail to execute. This is expected as it's intended to demonstrate the erroneous behaviour one may encounter.  \n",
    "\n",
    "This notebook is broken up into the following sections:  \n",
    "\n",
    "- [1. Getting Started](#1.-Getting-Started)\n",
    "\t- [1.1 Install Atoti and its plugins](#1.1-Install-Atoti-and-its-plugins)\n",
    "\t- [1.2 Import the Python libraries](#1.2-Import-the-Python-libraries)\n",
    "- [2. Create an Atoti Session](#2.-Create-an-Atoti-Session)\n",
    "- [3. Initialize Atoti UI](#3.-Initialize-Atoti-UI)\n",
    "- [4. Data modeling](#4.-Data-modeling)\n",
    "\t- [4.1 Table structure creation](#4.1-Table-structure-creation)\n",
    "\t- [4.2 Table creation through exploration](#4.2-Table-creation-through-exploration)\n",
    "\t\t- [4.2.1 Check on data types](#4.2.1-Check-on-data-types)\n",
    "\t\t- [4.2.2 Delete tables](#4.2.2-Delete-tables)\n",
    "\t\t- [4.2.3 Table configuration](#4.2.3-Table-configuration)\n",
    "\t- [4.3 Data schema](#4.3-Data-schema)\n",
    "\t\t- [4.3.1 Identify base table](#4.3.1-Identify-base-table)\n",
    "\t\t- [4.3.2 Visualize table schema](#4.3.2-Visualize-table-schema)\n",
    "\t\t- [4.3.3 Table join](#4.3.3-Table-join)\n",
    "- [5. Loading data into tables](#5.-Load-data-into-tables)\n",
    "- [6. Atoti Cube](#6.-Atoti-Cube)\n",
    "\t- [6.1 Cube creation](#6.1-Cube-creation)\n",
    "\t- [6.2 Cube attributes](#6.2-Cube-attributes)\n",
    "\t\t- [6.2.1 Hierarchies and levels](#6.2.1-Hierarchies-and-levels)\n",
    "\t\t- [6.2.2 Measures](#6.2.2-Measures)\n",
    "    - [6.3 Cube Housekeeping ](#6.3-Cube-Housekeeping)\n",
    "        - [6.3.1 Delete unwanted hierarchies, levels and measures](#6.3.1-Delete-unwanted-hierarchies,-levels-and-measures)\n",
    "        - [6.3.2 Hide technical measures](#6.3.2-Hide-technical-measures)  \n",
    "        - [6.3.3 Organize measures in folders](#6.3.3-Organize-measures-in-folders)  \n",
    "- [7. Visualization](#7.-Visualization)\n",
    "\t- [7.1 Build our visualization](#7.1-Build-our-visualization)\n",
    "\t\t- [7.1.1 Add hierarchies and measures to the visualization](#7.1.1-Add-hierarchies-and-measures-to-the-visualization)\n",
    "\t\t- [7.1.2 Expandable levels vs multi-level hierarchy](#7.1.2-Expandable-levels-vs-multi-level-hierarchy)\n",
    "\t- [7.2 Change type of visualization](#7.2-Change-type-of-visualization)\n",
    "\t- [7.3 Filter data](#7.3-Filter-data)\n",
    "\t\t- [7.3.1 Focus on a single trace on charts](#7.3.1-Focus-on-a-single-trace-on-charts)\n",
    "\t\t- [7.3.2 Filter by member](#7.3.2-Filter-by-member)\n",
    "\t\t- [7.3.3 Conditional filtering](#7.3.3-Conditional-filtering)\n",
    "\t- [7.4 Publish in app](#7.4-Publish-in-app)\n",
    "- [8. Output query results](#8.-Output-query-results)\n",
    "\t- [8.1 Export data to CSV](#8.1-Export-data-to-CSV)\n",
    "\t- [8.2 Output query results to Pandas DataFrame](#8.2-Output-query-results-to-Pandas-DataFrame)\n",
    "\t- [8.3 Output query results to other data structure](#8.3-Output-query-results-to-other-data-structure)\n"
   ]
  },
  {
   "cell_type": "markdown",
   "id": "bf12c5ae-e3b2-40b9-b670-cdbd66850cc7",
   "metadata": {},
   "source": [
    "<div style=\"text-align: center;\" ><a href=\"https://www.atoti.io/?utm_source=gallery&utm_content=introduction-to-atoti\" target=\"_blank\" rel=\"noopener noreferrer\"><img src=\"https://data.atoti.io/notebooks/banners/Discover-Atoti-now.png\" alt=\"Try atoti\"></a></div>"
   ]
  },
  {
   "cell_type": "markdown",
   "id": "c35a734f-2776-41c0-8344-63ab65769ea2",
   "metadata": {
    "tags": []
   },
   "source": [
    "# 1. Getting Started"
   ]
  },
  {
   "cell_type": "markdown",
   "id": "d5886545-8f36-4b0a-92db-b481d7950093",
   "metadata": {},
   "source": [
    "## 1.1 Install Atoti and its plugins"
   ]
  },
  {
   "cell_type": "markdown",
   "id": "48b5e9a2-ce06-4f9f-a2c1-d815e6ec725d",
   "metadata": {},
   "source": [
    "We can use Atoti in a Jupyter notebook or in a Python script. Minimally, we install the atoti library with either of the following:\n",
    "- `pip install atoti`\n",
    "- `conda install atoti`\n",
    "\n",
    "If we want to be able to explore data on the fly with Atoti in JupyterLab, we have to install extra plugin for its JupyterLab extension. Again, run with either `pip` or `conda` as shown below:\n",
    "- `pip install atoti-jupyterlab`\n",
    "- `conda install atoti-jupyterlab`  \n",
    "\n",
    "💡There are other [plugins](https://docs.atoti.io/latest/reference.html#plugins) available for Atoti. For instance, to access CSV or Parquet on AWS S3 bucket, we have to install its corresponding plugin `atoti-aws`. Similarly, `atoti-sql` is required for connectivity to SQL database. Using `pip`, we can install multiple plugins with the `extra` syntax as shown below:    \n",
    "- `pip install 'atoti[jupyterlab,aws,sql]'`\n",
    "\n",
    "Since there's no shortcuts for conda, therefore we have to list out the extra plugins we needed:\n",
    "- `conda install atoti atoti-jupyterlab atoti-aws atoti-sql`"
   ]
  },
  {
   "cell_type": "markdown",
   "id": "71d79a29-33ad-4ccb-874d-1bb6a2b1d251",
   "metadata": {},
   "source": [
    "## 1.2 Import the Python libraries"
   ]
  },
  {
   "cell_type": "markdown",
   "id": "553714ed-fe19-4ce7-9743-d15b66608a9d",
   "metadata": {},
   "source": [
    "Usually, it is sufficient to import just the Atoti libraries. However, if we would like to perform some pre-computation before using Atoti, we can import `pandas` as well."
   ]
  },
  {
   "cell_type": "code",
   "execution_count": 1,
   "id": "e6a4b8b1-d7b2-41eb-bd72-b0b4b7c2c526",
   "metadata": {
    "tags": []
   },
   "outputs": [],
   "source": [
    "import atoti as tt"
   ]
  },
  {
   "cell_type": "markdown",
   "id": "3b13dea3-2996-453d-add6-dc575861292b",
   "metadata": {},
   "source": [
    "# 2. Create an Atoti Session"
   ]
  },
  {
   "cell_type": "markdown",
   "id": "70fc309d-36b6-4dc5-af93-f807d95e8f91",
   "metadata": {},
   "source": [
    "We instantiate an Atoti session in order to establish a connection to the Java gateway of the Atoti Server. "
   ]
  },
  {
   "cell_type": "code",
   "execution_count": 2,
   "id": "dd234fd4-e8be-4cb8-95e6-79a9303deebc",
   "metadata": {
    "tags": []
   },
   "outputs": [],
   "source": [
    "session = tt.Session()"
   ]
  },
  {
   "cell_type": "markdown",
   "id": "4e8df675-9839-402b-a087-4da54f5e352c",
   "metadata": {},
   "source": [
    "⚠️ Windows users may encounter the following Windows Security Alert:  \n",
    "\n",
    "<img src=\"https://data.atoti.io/atoti-academy/images/introduction/2_window_security_alert.png\" width=\"400px\"/>  \n",
    "\n",
    "This is because Atoti Server, the underlying aggregation engine used by Atoti, is built using Java. The web application, Atoti UI, is built using REACT.  "
   ]
  },
  {
   "cell_type": "markdown",
   "id": "409a3cae-3a42-430f-b526-eeaa0bb6b33e",
   "metadata": {},
   "source": [
    "⚠️ We can have multiple Atoti sessions within a instance, provided that they are given different names. In the above code snippet, we have not set any [parameters for the session](https://docs.atoti.io/latest/api/atoti.Session.html#atoti.Session). If we re-instantiate a session without defining a name for it, the existing session will be deleted and a new session gets created as we will see in the next cell. "
   ]
  },
  {
   "cell_type": "code",
   "execution_count": 3,
   "id": "3caf8639-c20c-4002-b55b-4342dfe7ae3a",
   "metadata": {},
   "outputs": [
    {
     "name": "stderr",
     "output_type": "stream",
     "text": [
      "Closing existing \"Unnamed\" session to create the new one.\n"
     ]
    }
   ],
   "source": [
    "session = tt.Session(\n",
    "    user_content_storage=\"./content\",\n",
    "    port=9092,\n",
    "    java_options=[\"-Xms1G\", \"-Xmx10G\"],\n",
    ")"
   ]
  },
  {
   "cell_type": "markdown",
   "id": "01ca5d40-3dc4-4a1c-8009-8dc01db3fb3f",
   "metadata": {},
   "source": [
    "💡The above code snippet demonstrate how we configure some of the common parameters for [Atoti deployment](https://docs.atoti.io/latest/deployment/deployment_setup.html#):\n",
    "- `user_content_storage`: Persists saved dashboards, widgets and filters in the session to a database. A \"content\" folder in the same directory as this notebook and a H2 database is created. \n",
    "- `port`: Sets the port for the Atoti UI.\n",
    "- `java_options`: Additional options to pass when starting the Java process, e.g. increasing the amount of RAM that the session can use via `-Xmx` option.  "
   ]
  },
  {
   "cell_type": "markdown",
   "id": "b8551715-8d5e-40b7-951e-780ecfeb17db",
   "metadata": {},
   "source": [
    "# 3. Initialize Atoti UI"
   ]
  },
  {
   "cell_type": "markdown",
   "id": "773af7fe-c3c2-4153-8a02-437fc2a35d2b",
   "metadata": {},
   "source": [
    "Once the session gets instantiated, Atoti UI will start on a random port unless specified.  "
   ]
  },
  {
   "cell_type": "code",
   "execution_count": 4,
   "id": "2f48a819-84bc-45ef-9db8-4d6226be8bce",
   "metadata": {
    "tags": []
   },
   "outputs": [
    {
     "data": {
      "application/vnd.atoti.link.v0+json": {
       "path": "",
       "sessionLocation": {
        "https": false,
        "port": 9092
       }
      },
      "text/markdown": [
       "http://localhost:9092\n",
       "\n",
       "_Note_: This is the session's local URL: it may not be reachable if Atoti is running on another machine."
      ],
      "text/plain": [
       "http://localhost:9092 (This is the session's local URL: it may not be reachable if Atoti is running on another machine.)"
      ]
     },
     "execution_count": 4,
     "metadata": {},
     "output_type": "execute_result"
    }
   ],
   "source": [
    "session.link"
   ]
  },
  {
   "cell_type": "markdown",
   "id": "a4ca9c61-4354-4763-ab52-4b44103e3f9a",
   "metadata": {},
   "source": [
    "⚠️ There is nothing interesting in Atoti UI at this point in time because we have yet to create our data model. We will revisit Atoti UI later on."
   ]
  },
  {
   "cell_type": "markdown",
   "id": "8f842961-c5ce-4996-a171-da0f6910a697",
   "metadata": {},
   "source": [
    "# 4. Data modeling "
   ]
  },
  {
   "cell_type": "markdown",
   "id": "c44fdc77-a913-4eed-8b71-53f9ca4f276d",
   "metadata": {},
   "source": [
    "There are two ways we can create Atoti tables (along with recommendations):  \n",
    "\n",
    "1. Defining table structure:\n",
    "   * For **full application implementations**, we recommend that we define the table structure as we can start the application quickly before loading data.  \n",
    "3. Infer table structure from a datasource:\n",
    "   * For **data exploration, model prototyping or adhoc reporting with new data source**, creating a table by inferring its structure from a datasource is a quick way to get things moving.  \n",
    "\n",
    "\n"
   ]
  },
  {
   "cell_type": "markdown",
   "id": "a8a54803-e37d-4928-bd9b-6c76ac8436ef",
   "metadata": {},
   "source": [
    "## 4.1 Table structure creation"
   ]
  },
  {
   "cell_type": "markdown",
   "id": "e84f3623-e991-4360-aa17-271ffb37c646",
   "metadata": {},
   "source": [
    "Similar to the creation of database tables, we can define the structure of the table by defining:\n",
    "* `name`: Name of table.\n",
    "* `types`: Column names and its corresponding data type.\n",
    "* `keys`: Column(s) used to dictionarize data for faster querying. It is also used to identify unique data rows. Atoti keeps the last uploaded row when there are duplicates.  \n",
    "* `default_values`: Default value when value is not provided. `\"N/A\"` by default for category columns, `null` for numerical columns and `1970-01-01` for date columns. If column is used in hierarchy manipulation, e.g. create multi-level hierarchies, a non-empty default value has to be set."
   ]
  },
  {
   "cell_type": "code",
   "execution_count": 5,
   "id": "22ec7f77-5ba8-45b7-8118-ad03790ca5e0",
   "metadata": {
    "tags": []
   },
   "outputs": [
    {
     "data": {
      "text/html": [
       "<div>\n",
       "<style scoped>\n",
       "    .dataframe tbody tr th:only-of-type {\n",
       "        vertical-align: middle;\n",
       "    }\n",
       "\n",
       "    .dataframe tbody tr th {\n",
       "        vertical-align: top;\n",
       "    }\n",
       "\n",
       "    .dataframe thead th {\n",
       "        text-align: right;\n",
       "    }\n",
       "</style>\n",
       "<table border=\"1\" class=\"dataframe\">\n",
       "  <thead>\n",
       "    <tr style=\"text-align: right;\">\n",
       "      <th></th>\n",
       "      <th>ProductName</th>\n",
       "      <th>ProductCategory</th>\n",
       "      <th>Supplier</th>\n",
       "      <th>PurchasingPricePerUnit</th>\n",
       "    </tr>\n",
       "    <tr>\n",
       "      <th>ProductId</th>\n",
       "      <th></th>\n",
       "      <th></th>\n",
       "      <th></th>\n",
       "      <th></th>\n",
       "    </tr>\n",
       "  </thead>\n",
       "  <tbody>\n",
       "  </tbody>\n",
       "</table>\n",
       "</div>"
      ],
      "text/plain": [
       "Empty DataFrame\n",
       "Columns: [ProductName, ProductCategory, Supplier, PurchasingPricePerUnit]\n",
       "Index: []"
      ]
     },
     "execution_count": 5,
     "metadata": {},
     "output_type": "execute_result"
    }
   ],
   "source": [
    "product_tbl = session.create_table(\n",
    "    name=\"Products\",\n",
    "    types={\n",
    "        \"ProductId\": tt.type.STRING,\n",
    "        \"ProductName\": tt.type.STRING,\n",
    "        \"ProductCategory\": tt.type.STRING,\n",
    "        \"Supplier\": tt.type.STRING,\n",
    "        \"PurchasingPricePerUnit\": tt.type.FLOAT,\n",
    "    },\n",
    "    keys=[\"ProductId\"],\n",
    "    # optional. Setting default value to 0 for demonstrative purpose\n",
    "    default_values={\"PurchasingPricePerUnit\": 0},\n",
    ")\n",
    "\n",
    "product_tbl.head()"
   ]
  },
  {
   "cell_type": "markdown",
   "id": "909bd02a-7ed5-4ed4-a6d2-c5347e9662b3",
   "metadata": {},
   "source": [
    "💡Similar to Pandas, we can use `head` function to preview the data in the Atoti table. "
   ]
  },
  {
   "cell_type": "markdown",
   "id": "390ca1bf-668a-4664-8f9f-cca2876e2d83",
   "metadata": {},
   "source": [
    "⚠️ An empty table is created. We will load data into the table separately."
   ]
  },
  {
   "cell_type": "markdown",
   "id": "d6f5f175-56b6-4a52-87e1-9c26e0769ae9",
   "metadata": {},
   "source": [
    "## 4.2 Table creation through exploration\n",
    "\n",
    "Another way to create a table is by using a corresponding connector to consume an existing data source. This is a quick and convenient way to create an Atoti table and especially useful when we want to explore the data quickly.  \n",
    "\n",
    "We can use `session.read_csv`, for instance, to consume CSV files and `session.read_parquet` for parquet files etc. This way, we need not define the table structure as the table will be created automatically after consuming the data.  "
   ]
  },
  {
   "cell_type": "code",
   "execution_count": 6,
   "id": "31fda3d6-b8be-483d-90a8-766597bbefe9",
   "metadata": {
    "tags": []
   },
   "outputs": [
    {
     "data": {
      "text/html": [
       "<div>\n",
       "<style scoped>\n",
       "    .dataframe tbody tr th:only-of-type {\n",
       "        vertical-align: middle;\n",
       "    }\n",
       "\n",
       "    .dataframe tbody tr th {\n",
       "        vertical-align: top;\n",
       "    }\n",
       "\n",
       "    .dataframe thead th {\n",
       "        text-align: right;\n",
       "    }\n",
       "</style>\n",
       "<table border=\"1\" class=\"dataframe\">\n",
       "  <thead>\n",
       "    <tr style=\"text-align: right;\">\n",
       "      <th></th>\n",
       "      <th>OrderId</th>\n",
       "      <th>OrderDate</th>\n",
       "      <th>QuantitySold</th>\n",
       "      <th>SellingPricePerUnit</th>\n",
       "      <th>ShipperName</th>\n",
       "      <th>ProductId</th>\n",
       "      <th>EmployeeId</th>\n",
       "      <th>CustomerId</th>\n",
       "    </tr>\n",
       "  </thead>\n",
       "  <tbody>\n",
       "    <tr>\n",
       "      <th>0</th>\n",
       "      <td>1</td>\n",
       "      <td>18/2/2019</td>\n",
       "      <td>650</td>\n",
       "      <td>22.42</td>\n",
       "      <td>Freight United</td>\n",
       "      <td>994</td>\n",
       "      <td>18336</td>\n",
       "      <td>c4411</td>\n",
       "    </tr>\n",
       "    <tr>\n",
       "      <th>1</th>\n",
       "      <td>12</td>\n",
       "      <td>18/2/2019</td>\n",
       "      <td>148</td>\n",
       "      <td>5.5</td>\n",
       "      <td>United Package</td>\n",
       "      <td>1384</td>\n",
       "      <td>18336</td>\n",
       "      <td>c2619</td>\n",
       "    </tr>\n",
       "    <tr>\n",
       "      <th>2</th>\n",
       "      <td>25</td>\n",
       "      <td>18/2/2019</td>\n",
       "      <td>883</td>\n",
       "      <td>17.57</td>\n",
       "      <td>The Transporter</td>\n",
       "      <td>773</td>\n",
       "      <td>18551</td>\n",
       "      <td>c1723</td>\n",
       "    </tr>\n",
       "    <tr>\n",
       "      <th>3</th>\n",
       "      <td>72</td>\n",
       "      <td>18/2/2019</td>\n",
       "      <td>927</td>\n",
       "      <td>27.14</td>\n",
       "      <td>Freight United</td>\n",
       "      <td>1423</td>\n",
       "      <td>63528</td>\n",
       "      <td>c1835</td>\n",
       "    </tr>\n",
       "    <tr>\n",
       "      <th>4</th>\n",
       "      <td>74</td>\n",
       "      <td>18/2/2019</td>\n",
       "      <td>651</td>\n",
       "      <td>56.83</td>\n",
       "      <td>Freight United</td>\n",
       "      <td>1059</td>\n",
       "      <td>18680</td>\n",
       "      <td>c5475</td>\n",
       "    </tr>\n",
       "  </tbody>\n",
       "</table>\n",
       "</div>"
      ],
      "text/plain": [
       "   OrderId  OrderDate  QuantitySold  SellingPricePerUnit      ShipperName  \\\n",
       "0        1  18/2/2019           650                22.42   Freight United   \n",
       "1       12  18/2/2019           148                  5.5   United Package   \n",
       "2       25  18/2/2019           883                17.57  The Transporter   \n",
       "3       72  18/2/2019           927                27.14   Freight United   \n",
       "4       74  18/2/2019           651                56.83   Freight United   \n",
       "\n",
       "   ProductId  EmployeeId CustomerId  \n",
       "0        994       18336      c4411  \n",
       "1       1384       18336      c2619  \n",
       "2        773       18551      c1723  \n",
       "3       1423       63528      c1835  \n",
       "4       1059       18680      c5475  "
      ]
     },
     "execution_count": 6,
     "metadata": {},
     "output_type": "execute_result"
    }
   ],
   "source": [
    "orders_tbl = session.read_csv(\"s3://data.atoti.io/atoti-academy/data/Orders.csv\")\n",
    "orders_tbl.head()"
   ]
  },
  {
   "cell_type": "markdown",
   "id": "c69c21de-6663-4d88-a3d5-8670fd067dc2",
   "metadata": {
    "tags": []
   },
   "source": [
    "💡Data is loaded into the table upon creation. For quick prototyping, we advise using smaller dataset during initial table creation. Data can be **incrementally loaded** into the table later on.   "
   ]
  },
  {
   "cell_type": "markdown",
   "id": "9089d6e3-f7db-4a4c-ac1a-4947b3aa278c",
   "metadata": {},
   "source": [
    "💡For data sources that are not supported natively by the Python API, we can consume it with either Pandas, Apache PyArrow or Apache Spark DataFrame before loading it into an Atoti table. Check out [`atoti.Session` module](https://docs.atoti.io/latest/api/atoti.Session.html#atoti.Session) or press `tab` on `session.read` to see the available functions:  \n",
    "\n",
    "<img src=\"https://data.atoti.io/atoti-academy/images/introduction/4_read_functions.png\" />"
   ]
  },
  {
   "cell_type": "markdown",
   "id": "5bf484f3-6c31-4cd1-ba08-59945706553e",
   "metadata": {},
   "source": [
    "### 4.2.1 Check on data types"
   ]
  },
  {
   "cell_type": "markdown",
   "id": "8a8c83df-877e-4581-b8b1-491df5df5123",
   "metadata": {},
   "source": [
    "Some data structures such as Pandas DataFrame or parquet files comes with metadata information. In such case, Atoti will be able to inherit the data types of the columns from the sources. Otherwise, the API automatically infers the data type based on the first `1000` records.  \n",
    "\n",
    "To check the data types of the table columns:"
   ]
  },
  {
   "cell_type": "code",
   "execution_count": 7,
   "id": "c5a55ff0-2cb4-4dee-8207-9c005955f79e",
   "metadata": {
    "tags": []
   },
   "outputs": [
    {
     "data": {
      "application/json": {
       "CustomerId": {
        "default_value": "N/A",
        "key": false,
        "type": "String"
       },
       "EmployeeId": {
        "default_value": null,
        "key": false,
        "type": "int"
       },
       "OrderDate": {
        "default_value": "N/A",
        "key": false,
        "type": "String"
       },
       "OrderId": {
        "default_value": null,
        "key": false,
        "type": "int"
       },
       "ProductId": {
        "default_value": null,
        "key": false,
        "type": "int"
       },
       "QuantitySold": {
        "default_value": null,
        "key": false,
        "type": "int"
       },
       "SellingPricePerUnit": {
        "default_value": null,
        "key": false,
        "type": "double"
       },
       "ShipperName": {
        "default_value": "N/A",
        "key": false,
        "type": "String"
       }
      },
      "text/html": [
       "<ul>\n",
       "<li>Orders\n",
       "  <ul>\n",
       "  <li>OrderId\n",
       "    <ul>\n",
       "    <li>key: False</li>\n",
       "    <li>type: int</li>\n",
       "    <li>default_value: None</li>\n",
       "    </ul>\n",
       "  </li>\n",
       "  <li>OrderDate\n",
       "    <ul>\n",
       "    <li>key: False</li>\n",
       "    <li>type: String</li>\n",
       "    <li>default_value: N/A</li>\n",
       "    </ul>\n",
       "  </li>\n",
       "  <li>QuantitySold\n",
       "    <ul>\n",
       "    <li>key: False</li>\n",
       "    <li>type: int</li>\n",
       "    <li>default_value: None</li>\n",
       "    </ul>\n",
       "  </li>\n",
       "  <li>SellingPricePerUnit\n",
       "    <ul>\n",
       "    <li>key: False</li>\n",
       "    <li>type: double</li>\n",
       "    <li>default_value: None</li>\n",
       "    </ul>\n",
       "  </li>\n",
       "  <li>ShipperName\n",
       "    <ul>\n",
       "    <li>key: False</li>\n",
       "    <li>type: String</li>\n",
       "    <li>default_value: N/A</li>\n",
       "    </ul>\n",
       "  </li>\n",
       "  <li>ProductId\n",
       "    <ul>\n",
       "    <li>key: False</li>\n",
       "    <li>type: int</li>\n",
       "    <li>default_value: None</li>\n",
       "    </ul>\n",
       "  </li>\n",
       "  <li>EmployeeId\n",
       "    <ul>\n",
       "    <li>key: False</li>\n",
       "    <li>type: int</li>\n",
       "    <li>default_value: None</li>\n",
       "    </ul>\n",
       "  </li>\n",
       "  <li>CustomerId\n",
       "    <ul>\n",
       "    <li>key: False</li>\n",
       "    <li>type: String</li>\n",
       "    <li>default_value: N/A</li>\n",
       "    </ul>\n",
       "  </li>\n",
       "  </ul>\n",
       "</li>\n",
       "</ul>\n"
      ],
      "text/plain": [
       "<atoti.table.Table at 0x16922bca0>"
      ]
     },
     "execution_count": 7,
     "metadata": {
      "application/json": {
       "expanded": true,
       "root": "Orders"
      }
     },
     "output_type": "execute_result"
    }
   ],
   "source": [
    "orders_tbl"
   ]
  },
  {
   "cell_type": "markdown",
   "id": "6778f4be-e940-444d-a370-0c0877c6f0f9",
   "metadata": {},
   "source": [
    "💡To discover the data type programmatically for a specific column, we can do the following:  "
   ]
  },
  {
   "cell_type": "code",
   "execution_count": 8,
   "id": "6a8084e6-2f87-4ab5-880a-f5c4bb568b6e",
   "metadata": {
    "tags": []
   },
   "outputs": [
    {
     "data": {
      "text/plain": [
       "'double'"
      ]
     },
     "execution_count": 8,
     "metadata": {},
     "output_type": "execute_result"
    }
   ],
   "source": [
    "orders_tbl[\"SellingPricePerUnit\"].data_type"
   ]
  },
  {
   "cell_type": "markdown",
   "id": "f0cb8919-7cdd-43bb-85a2-d30e230a484b",
   "metadata": {},
   "source": [
    "In some cases, it is useful to iterate through the columns and handle the data based on its data type. For instance, we can define measures for numerical columns iteratively."
   ]
  },
  {
   "cell_type": "code",
   "execution_count": 9,
   "id": "53704b8a-15cc-4b27-8a90-7403653eda9f",
   "metadata": {
    "tags": []
   },
   "outputs": [
    {
     "name": "stdout",
     "output_type": "stream",
     "text": [
      "OrderId is a numerical type column.\n",
      "OrderDate is a hierarchical type column.\n",
      "QuantitySold is a numerical type column.\n",
      "SellingPricePerUnit is a numerical type column.\n",
      "ShipperName is a hierarchical type column.\n",
      "ProductId is a numerical type column.\n",
      "EmployeeId is a numerical type column.\n",
      "CustomerId is a hierarchical type column.\n"
     ]
    }
   ],
   "source": [
    "for col in orders_tbl.columns:\n",
    "    (\n",
    "        print(f\"{col} is a numerical type column.\")\n",
    "        if orders_tbl[col].data_type\n",
    "        in [\n",
    "            \"int\",\n",
    "            \"double\",\n",
    "            \"float\",\n",
    "            \"int[]\",\n",
    "            \"double[]\",\n",
    "        ]\n",
    "        else print(f\"{col} is a hierarchical type column.\")\n",
    "    )"
   ]
  },
  {
   "cell_type": "markdown",
   "id": "0c864c4f-e28d-4aac-bec2-6063cd4e3d85",
   "metadata": {},
   "source": [
    "### 4.2.2 Delete tables\n",
    "\n",
    "Once a table is created, we cannot re-execute the table creation command to perform updates. Instead, we should delete the table and before re-creating it.  \n",
    "\n",
    "The tables are stored as a map under the session. Therefore we can access it simply by using the table's name as the key to the map. "
   ]
  },
  {
   "cell_type": "code",
   "execution_count": 10,
   "id": "886c02c0-42df-4f06-bcba-1663efd3187c",
   "metadata": {
    "tags": []
   },
   "outputs": [],
   "source": [
    "# del session.tables[\"Orders\"]\n",
    "del session.tables[orders_tbl.name]"
   ]
  },
  {
   "cell_type": "markdown",
   "id": "2d8c3835-4bc1-4777-bb19-2dfc187470c9",
   "metadata": {},
   "source": [
    "💡Alternatively, we can restart the session and re-execute everything after."
   ]
  },
  {
   "cell_type": "markdown",
   "id": "1b0fd231-a347-4de2-ab56-b7263ab2169e",
   "metadata": {},
   "source": [
    "### 4.2.3 Table configuration"
   ]
  },
  {
   "cell_type": "markdown",
   "id": "a2d01c3c-b5de-467a-8c31-cf3b18680beb",
   "metadata": {},
   "source": [
    "When we create a table from datasource, we can tweak the table structure as necessary. For instance, we can define key columns to ensure the uniqueness of the data loaded. The key columns are indexed, allowing better search performance.  "
   ]
  },
  {
   "cell_type": "code",
   "execution_count": 11,
   "id": "5ba0ca44-e0e1-493c-b2f5-ba62cab2ee39",
   "metadata": {
    "tags": []
   },
   "outputs": [],
   "source": [
    "orders_tbl = session.read_csv(\n",
    "    \"s3://data.atoti.io/atoti-academy/data/Orders.csv\",\n",
    "    table_name=\"Orders\",\n",
    "    columns={\n",
    "        \"OrderId\": \"Order Id\",\n",
    "        \"OrderDate\": \"Order Date\",\n",
    "        \"QuantitySold\": \"Quantity Sold\",\n",
    "        \"SellingPricePerUnit\": \"Selling Price Per Unit\",\n",
    "        \"ShipperName\": \"Shipper Name\",\n",
    "        \"ProductId\": \"Product Id\",\n",
    "    },\n",
    "    keys=[\"Order Id\", \"Product Id\"],\n",
    "    types={\n",
    "        \"Order Id\": tt.type.STRING,\n",
    "        \"Product Id\": tt.type.STRING,\n",
    "        \"Order Date\": tt.type.LOCAL_DATE,\n",
    "    },\n",
    "    date_patterns={\"Order Date\": \"dd/M/yyyy\"},\n",
    "    default_values={\"Quantity Sold\": 0, \"Selling Price Per Unit\": 0.0},\n",
    ")"
   ]
  },
  {
   "cell_type": "markdown",
   "id": "7963a55c-b45a-4d17-91d9-16dedac8e02c",
   "metadata": {},
   "source": [
    "The example above covered some of the parameters that we commonly configure when creating Atoti table from data sources.\n",
    "\n",
    "**table_name**\n",
    "\n",
    "When reading from a file source, the table name is defaulted to name of the file without the extension. E.g. for Orders.csv, the table name will be \"Orders\" unless specified.  \n",
    "\n",
    "**columns**\n",
    "\n",
    "This parameter is only available for `read_csv` and `read_parquet`. It allows us to:\n",
    "1. Rename columns.\n",
    "2. Select only the required columns from the data source.\n",
    "\n",
    "After renaming the columns, be aware that the following parameters expect the updated names in the mapping instead of the original column names:\n",
    "* `keys`\n",
    "* `types`\n",
    "* `date_patterns`\n",
    "* `default_values`\n",
    "\n",
    "**types**\n",
    "\n",
    "We can cast the data types for the columns explicitly. The parameter expects a dictionary with the column name as key, mapped to the expected [data type](https://docs.atoti.io/latest/api/atoti.type.html#module-atoti.type). This parameter is however, not available for Parquet and Spark DataFrame. \n",
    "\n",
    "**date_patterns**\n",
    "\n",
    "Defines the date format pattern for the date column if it is not in the `yyyy-MM-dd` format. Check out [Java date patterns](https://docs.oracle.com/en/java/javase/15/docs/api/java.base/java/time/format/DateTimeFormatter.html#patterns):  \n",
    "\n",
    "<img src=\"https://data.atoti.io/atoti-academy/images/introduction/4_date_patterns.png\" />\n"
   ]
  },
  {
   "cell_type": "markdown",
   "id": "7c0617ca-5f5a-4613-9ca6-fd4db3f1723d",
   "metadata": {
    "tags": []
   },
   "source": [
    "## 4.3 Data schema \n",
    "\n",
    "Atoti implements a [snowflake schema](https://en.wikipedia.org/wiki/Snowflake_schema). This means that the schema organize data around a central fact table (we call it base table). The other dimension tables joining to the central table can be normalized, i.e. split into multiple related tables, creating a branching structure that resembles a snowflake.  \n",
    "\n",
    "<img src=\"https://data.atoti.io/atoti-academy/images/introduction/4_snowflake_schema.png\" width=\"500px\" />"
   ]
  },
  {
   "cell_type": "markdown",
   "id": "96c740c4-98e2-4195-ae6a-a27598ad2db8",
   "metadata": {},
   "source": [
    "### 4.3.1 Identify base table"
   ]
  },
  {
   "cell_type": "markdown",
   "id": "3c942ab9-7201-4227-bc2f-43af77c95955",
   "metadata": {},
   "source": [
    "The base table contains data at the lowest level of granularity, known as \"facts\" for the cube. It's normally the largest table.  \n",
    "\n",
    "💡To be able to query an item, it has to be reachable from the base table to the refenced table. Therefore, the base table has to be the most granular."
   ]
  },
  {
   "cell_type": "markdown",
   "id": "2bf4812d-8598-4c4e-8951-391c963522e4",
   "metadata": {},
   "source": [
    "### 4.3.2 Visualize table schema"
   ]
  },
  {
   "cell_type": "markdown",
   "id": "60007a50-b8ec-4f64-b178-bc3b78fe04bb",
   "metadata": {},
   "source": [
    "The table schema will show us all the tables in the session, along with their columns and their respective data types. It makes it easier for us to identify the column(s) which we want to use for the table join."
   ]
  },
  {
   "cell_type": "code",
   "execution_count": 12,
   "id": "48f4f004-0c75-42fa-8599-1732b28b5cf9",
   "metadata": {
    "tags": []
   },
   "outputs": [
    {
     "data": {
      "image/png": "[encoded data removed]",
      "text/plain": [
       "erDiagram\n",
       "  \"Orders\" {\n",
       "    _ String PK \"Order Id\"\n",
       "    _ LocalDate \"Order Date\"\n",
       "    _ int \"Quantity Sold\"\n",
       "    _ double \"Selling Price Per Unit\"\n",
       "    _ String \"Shipper Name\"\n",
       "    _ String PK \"Product Id\"\n",
       "  }\n",
       "  \"Products\" {\n",
       "    _ String PK \"ProductId\"\n",
       "    _ String \"ProductName\"\n",
       "    _ String \"ProductCategory\"\n",
       "    _ String \"Supplier\"\n",
       "    _ float \"PurchasingPricePerUnit\"\n",
       "  }"
      ]
     },
     "execution_count": 12,
     "metadata": {},
     "output_type": "execute_result"
    }
   ],
   "source": [
    "session.tables.schema"
   ]
  },
  {
   "cell_type": "markdown",
   "id": "7bb0a2d2-8e10-43c0-b1ae-8f0728580261",
   "metadata": {},
   "source": [
    "In this case, we can see that Product Id is common between the two tables but named differently — `Product Id` in Orders table and `ProductId` in Products table. "
   ]
  },
  {
   "cell_type": "markdown",
   "id": "39d93e04-fa31-46fe-a018-6ba0312a0092",
   "metadata": {},
   "source": [
    "### 4.3.3 Table join"
   ]
  },
  {
   "cell_type": "markdown",
   "id": "43cf528f-14c3-4ef9-852d-a4bdcfb47aa2",
   "metadata": {},
   "source": [
    "Usually, we can perform a table join without defining the columns used for it if the columns have the same name in both tables: \n",
    "\n",
    "`orders_tbl.join(product_tbl)`\n",
    "\n",
    "Atoti automatically infers the join by columns with the same name. However, because there are no common columns by name between the two tables, we will get a cartesian join between the tables. This may result in wrong results returned in queries and definitely poorer querying performance. Hence, let's define the condition of the join explicitly.  "
   ]
  },
  {
   "cell_type": "code",
   "execution_count": 13,
   "id": "1ec640b0-7873-4d70-bfb2-521db0b05a26",
   "metadata": {
    "tags": []
   },
   "outputs": [],
   "source": [
    "orders_tbl.join(product_tbl, (orders_tbl[\"Product Id\"] == product_tbl[\"ProductId\"]))"
   ]
  },
  {
   "cell_type": "markdown",
   "id": "af2956c4-857c-46ed-be0c-a364c15a7992",
   "metadata": {},
   "source": [
    "💡It is a good practice to define the condition of the join explicitly, such that any reader will know clearly which columns are they joined by.  \n",
    "\n",
    "💡We perform the join from the parent table to referenced table, i.e. `orders_tbl → product_tbl`. Similarly, the order of the condition has to be from parent table to referenced table, i.e. `orders_tbl → product_tbl`.  \n",
    "\n",
    "We can have multiple joins by surrounding each condition with a parenthesis and combine the conditions with the `&` operand:\n",
    "\n",
    "`a.join(b, (a[\"col1\"] == b[\"col1\"]) & (a[\"col2\"] == b[\"col2\"]))`"
   ]
  },
  {
   "cell_type": "markdown",
   "id": "0b1e3111-8ccd-4ca9-ad13-3afcdeac484e",
   "metadata": {},
   "source": [
    "### 📐Exercise  \n",
    "\n",
    "View how the schema changed after the last join.  "
   ]
  },
  {
   "cell_type": "markdown",
   "id": "0d59f86d-c3a0-4e5d-bf75-3db374813d4c",
   "metadata": {},
   "source": [
    "### 📖 Solution\n",
    "\n",
    "`session.tables.schema`"
   ]
  },
  {
   "cell_type": "code",
   "execution_count": 14,
   "id": "ede6473d-0f5e-4246-8bae-e53519691172",
   "metadata": {},
   "outputs": [
    {
     "data": {
      "image/png": "[encoded data removed]",
      "text/plain": [
       "erDiagram\n",
       "  \"Orders\" {\n",
       "    _ String PK \"Order Id\"\n",
       "    _ LocalDate \"Order Date\"\n",
       "    _ int \"Quantity Sold\"\n",
       "    _ double \"Selling Price Per Unit\"\n",
       "    _ String \"Shipper Name\"\n",
       "    _ String PK \"Product Id\"\n",
       "  }\n",
       "  \"Products\" {\n",
       "    _ String PK \"ProductId\"\n",
       "    _ String \"ProductName\"\n",
       "    _ String \"ProductCategory\"\n",
       "    _ String \"Supplier\"\n",
       "    _ float \"PurchasingPricePerUnit\"\n",
       "  }\n",
       "  \"Orders\" }o--o| \"Products\" : \"`Product Id` == `ProductId`\""
      ]
     },
     "execution_count": 14,
     "metadata": {},
     "output_type": "execute_result"
    }
   ],
   "source": [
    "session.tables.schema"
   ]
  },
  {
   "cell_type": "markdown",
   "id": "f2ab8314-d53b-4a18-bbdd-d07506a05d24",
   "metadata": {
    "tags": []
   },
   "source": [
    "# 5. Load data into tables\n",
    " \n",
    "After a table is created, we can load data into the tables using the `load` function corresponding to the data source format. For instance, if the data source is a CSV file, we can use [`load_csv`](https://docs.atoti.io/latest/api/atoti.Table.load_csv.html#atoti.Table.load_csv) to upload the data.  \n",
    "\n",
    "💡 Check out the [`atoti.table` module](https://docs.atoti.io/latest/api/atoti.Table.html#atoti.Table) or press `tab` on `table.load` to see the available functions:  \n",
    "\n",
    "<img src=\"https://data.atoti.io/atoti-academy/images/introduction/5_load_functions.png\" />"
   ]
  },
  {
   "cell_type": "code",
   "execution_count": 15,
   "id": "bd6c3a1d-4b37-499b-8509-aff29a9ab9cf",
   "metadata": {
    "tags": []
   },
   "outputs": [
    {
     "data": {
      "text/html": [
       "<div>\n",
       "<style scoped>\n",
       "    .dataframe tbody tr th:only-of-type {\n",
       "        vertical-align: middle;\n",
       "    }\n",
       "\n",
       "    .dataframe tbody tr th {\n",
       "        vertical-align: top;\n",
       "    }\n",
       "\n",
       "    .dataframe thead th {\n",
       "        text-align: right;\n",
       "    }\n",
       "</style>\n",
       "<table border=\"1\" class=\"dataframe\">\n",
       "  <thead>\n",
       "    <tr style=\"text-align: right;\">\n",
       "      <th></th>\n",
       "      <th>ProductName</th>\n",
       "      <th>ProductCategory</th>\n",
       "      <th>Supplier</th>\n",
       "      <th>PurchasingPricePerUnit</th>\n",
       "    </tr>\n",
       "    <tr>\n",
       "      <th>ProductId</th>\n",
       "      <th></th>\n",
       "      <th></th>\n",
       "      <th></th>\n",
       "      <th></th>\n",
       "    </tr>\n",
       "  </thead>\n",
       "  <tbody>\n",
       "    <tr>\n",
       "      <th>539</th>\n",
       "      <td>Queso Cabrales</td>\n",
       "      <td>Dairy Products</td>\n",
       "      <td>Cooperativa de Quesos Las Cabras</td>\n",
       "      <td>11.340000</td>\n",
       "    </tr>\n",
       "    <tr>\n",
       "      <th>552</th>\n",
       "      <td>Singaporean Hokkien Fried Mee</td>\n",
       "      <td>Grains/Cereals</td>\n",
       "      <td>Leka Trading</td>\n",
       "      <td>8.060000</td>\n",
       "    </tr>\n",
       "    <tr>\n",
       "      <th>565</th>\n",
       "      <td>Mozzarella di Giovanni</td>\n",
       "      <td>Dairy Products</td>\n",
       "      <td>Formaggi Fortini s.r.l.</td>\n",
       "      <td>18.770000</td>\n",
       "    </tr>\n",
       "    <tr>\n",
       "      <th>578</th>\n",
       "      <td>Tofu</td>\n",
       "      <td>Produce</td>\n",
       "      <td>Mayumis</td>\n",
       "      <td>12.560000</td>\n",
       "    </tr>\n",
       "    <tr>\n",
       "      <th>591</th>\n",
       "      <td>Manjimup Dried Apples</td>\n",
       "      <td>Produce</td>\n",
       "      <td>Gday, Mate</td>\n",
       "      <td>30.530001</td>\n",
       "    </tr>\n",
       "  </tbody>\n",
       "</table>\n",
       "</div>"
      ],
      "text/plain": [
       "                             ProductName ProductCategory  \\\n",
       "ProductId                                                  \n",
       "539                       Queso Cabrales  Dairy Products   \n",
       "552        Singaporean Hokkien Fried Mee  Grains/Cereals   \n",
       "565               Mozzarella di Giovanni  Dairy Products   \n",
       "578                                 Tofu         Produce   \n",
       "591                Manjimup Dried Apples         Produce   \n",
       "\n",
       "                                   Supplier  PurchasingPricePerUnit  \n",
       "ProductId                                                            \n",
       "539        Cooperativa de Quesos Las Cabras               11.340000  \n",
       "552                            Leka Trading                8.060000  \n",
       "565                 Formaggi Fortini s.r.l.               18.770000  \n",
       "578                                 Mayumis               12.560000  \n",
       "591                              Gday, Mate               30.530001  "
      ]
     },
     "execution_count": 15,
     "metadata": {},
     "output_type": "execute_result"
    }
   ],
   "source": [
    "product_tbl.load_csv(\"s3://data.atoti.io/atoti-academy/data/Products.csv\")\n",
    "product_tbl.head()"
   ]
  },
  {
   "cell_type": "markdown",
   "id": "56b891ed-ccec-43de-8f59-0c8478a40d85",
   "metadata": {},
   "source": [
    "For CSV files which doesn't come with metadata information on the data type, we have to take special note on date columns. Atoti recognizes values formatted in `yyyy-MM-dd` as dates. For all other formats, we have to define the pattern with the `date_patterns` parameter as seen in the previous example in the section \"4.2.3 Table Configuration\".    \n",
    "\n",
    "💡 Read: [Atoti: Working with dates in Python](https://www.atoti.io/guides/atoti-working-with-dates-in-python/)  "
   ]
  },
  {
   "cell_type": "markdown",
   "id": "bac1109a-5cd3-4d21-a0f4-74be5be6b406",
   "metadata": {
    "tags": []
   },
   "source": [
    "Verify the shape of the table after the data loading. "
   ]
  },
  {
   "cell_type": "code",
   "execution_count": 16,
   "id": "5df8dda6-b1a9-487f-b02a-a852a959ffda",
   "metadata": {
    "tags": []
   },
   "outputs": [
    {
     "name": "stdout",
     "output_type": "stream",
     "text": [
      "Number of rows: 77, Number of columns: 5\n"
     ]
    }
   ],
   "source": [
    "print(\n",
    "    f\"Number of rows: {len(product_tbl)}, Number of columns: {len(product_tbl.columns)}\"\n",
    ")"
   ]
  },
  {
   "cell_type": "markdown",
   "id": "76391a28-58fc-448f-beb4-2c4a3dadf16f",
   "metadata": {},
   "source": [
    "# 6. Atoti Cube"
   ]
  },
  {
   "cell_type": "markdown",
   "id": "42218e81-1a0b-4355-ac62-236fc8d81693",
   "metadata": {},
   "source": [
    "## 6.1 Cube creation"
   ]
  },
  {
   "cell_type": "markdown",
   "id": "eadb6e56-f4ab-483e-8962-9d4679ff2947",
   "metadata": {},
   "source": [
    "As Atoti follows the [snowflake schema](https://en.wikipedia.org/wiki/Snowflake_schema), we will create the cube with the base table. \n",
    "\n",
    "💡We can create new tables and join them to the reference table even after the cube is created. Therefore, it is possible to start the cube with a single table and build the model incrementally afterward.  "
   ]
  },
  {
   "cell_type": "code",
   "execution_count": 17,
   "id": "dd90c614-f284-45ba-8243-d40f4819a62b",
   "metadata": {
    "tags": []
   },
   "outputs": [],
   "source": [
    "cube = session.create_cube(orders_tbl, name=\"Order Cube\")"
   ]
  },
  {
   "cell_type": "markdown",
   "id": "daab14ee-f34a-4cad-b85c-50c3272d0454",
   "metadata": {},
   "source": [
    "By default, the cube is created in `auto` mode. This means that non-numerical or key columns are created as single-level hierarchies. A `SUM` and a `MEAN` measure is automatically created for each numerical column.  \n",
    "\n",
    "Other [available modes](https://docs.atoti.io/latest/api/atoti.Session.create_cube.html#atoti.Session.create_cube) are:\n",
    "- `manual`: Only `contributors.COUNT` is created. Users have to manually create the hierarchies and measures they require.\n",
    "- `no_measures`: Similar to `auto` mode, except that measures are not created. This is useful if we have a lot of numerical columns but we do not require the sum and average metrics for all of them.  \n",
    "\n",
    "💡We can create multiple cubes per session. Just remember to give each of them a different name."
   ]
  },
  {
   "cell_type": "markdown",
   "id": "c692f403-542b-4099-9922-cc46bd6458a6",
   "metadata": {},
   "source": [
    "## 6.2 Cube attributes"
   ]
  },
  {
   "cell_type": "markdown",
   "id": "7167c06f-b60c-4d66-bcd0-a4f855e1dd21",
   "metadata": {
    "tags": []
   },
   "source": [
    "The main attributes of a cube are:  \n",
    "\n",
    "* **Dimensions / Hierarchies / Levels**: This is how the data is structured in the cube.  \n",
    "* **Measures**: They are the numberical data / metrics contained in the cube.\n",
    "\n",
    "We will look at these in more detail below. \n",
    "\n",
    "First, let's take a look at the cube, so see the dimensions, hierarchies, levels and measures."
   ]
  },
  {
   "cell_type": "code",
   "execution_count": 18,
   "id": "92381aac-bf3a-407e-bc66-2e02481499d8",
   "metadata": {
    "tags": []
   },
   "outputs": [
    {
     "data": {
      "application/json": {
       "Dimensions": {
        "Orders": {
         "Order Date": [
          "Order Date"
         ],
         "Order Id": [
          "Order Id"
         ],
         "Product Id": [
          "Product Id"
         ],
         "Shipper Name": [
          "Shipper Name"
         ]
        },
        "Products": {
         "ProductCategory": [
          "ProductCategory"
         ],
         "ProductName": [
          "ProductName"
         ],
         "Supplier": [
          "Supplier"
         ]
        }
       },
       "Measures": {
        "Quantity Sold.MEAN": {
         "formatter": "DOUBLE[#,###.00]"
        },
        "Quantity Sold.SUM": {
         "formatter": "INT[#,###]"
        },
        "Selling Price Per Unit.MEAN": {
         "formatter": "DOUBLE[#,###.00]"
        },
        "Selling Price Per Unit.SUM": {
         "formatter": "DOUBLE[#,###.00]"
        },
        "contributors.COUNT": {
         "formatter": "INT[#,###]"
        }
       }
      },
      "text/html": [
       "<ul>\n",
       "<li>Order Cube\n",
       "  <ul>\n",
       "  <li>Dimensions\n",
       "    <ul>\n",
       "    <li>Orders\n",
       "      <ul>\n",
       "      <li>Order Date\n",
       "        <ol>\n",
       "        <li>Order Date</li>\n",
       "        </ol>      </li>\n",
       "      <li>Order Id\n",
       "        <ol>\n",
       "        <li>Order Id</li>\n",
       "        </ol>      </li>\n",
       "      <li>Product Id\n",
       "        <ol>\n",
       "        <li>Product Id</li>\n",
       "        </ol>      </li>\n",
       "      <li>Shipper Name\n",
       "        <ol>\n",
       "        <li>Shipper Name</li>\n",
       "        </ol>      </li>\n",
       "      </ul>\n",
       "    </li>\n",
       "    <li>Products\n",
       "      <ul>\n",
       "      <li>ProductCategory\n",
       "        <ol>\n",
       "        <li>ProductCategory</li>\n",
       "        </ol>      </li>\n",
       "      <li>ProductName\n",
       "        <ol>\n",
       "        <li>ProductName</li>\n",
       "        </ol>      </li>\n",
       "      <li>Supplier\n",
       "        <ol>\n",
       "        <li>Supplier</li>\n",
       "        </ol>      </li>\n",
       "      </ul>\n",
       "    </li>\n",
       "    </ul>\n",
       "  </li>\n",
       "  <li>Measures\n",
       "    <ul>\n",
       "    <li>Quantity Sold.MEAN\n",
       "      <ul>\n",
       "      <li>formatter: DOUBLE[#,###.00]</li>\n",
       "      </ul>\n",
       "    </li>\n",
       "    <li>Quantity Sold.SUM\n",
       "      <ul>\n",
       "      <li>formatter: INT[#,###]</li>\n",
       "      </ul>\n",
       "    </li>\n",
       "    <li>Selling Price Per Unit.MEAN\n",
       "      <ul>\n",
       "      <li>formatter: DOUBLE[#,###.00]</li>\n",
       "      </ul>\n",
       "    </li>\n",
       "    <li>Selling Price Per Unit.SUM\n",
       "      <ul>\n",
       "      <li>formatter: DOUBLE[#,###.00]</li>\n",
       "      </ul>\n",
       "    </li>\n",
       "    <li>contributors.COUNT\n",
       "      <ul>\n",
       "      <li>formatter: INT[#,###]</li>\n",
       "      </ul>\n",
       "    </li>\n",
       "    </ul>\n",
       "  </li>\n",
       "  </ul>\n",
       "</li>\n",
       "</ul>\n"
      ],
      "text/plain": [
       "<atoti.cube.Cube at 0x16952c6a0>"
      ]
     },
     "execution_count": 18,
     "metadata": {
      "application/json": {
       "expanded": false,
       "root": "Order Cube"
      }
     },
     "output_type": "execute_result"
    }
   ],
   "source": [
    "cube"
   ]
  },
  {
   "cell_type": "markdown",
   "id": "4d59a2d0-16aa-4450-86f5-b406fb926c45",
   "metadata": {},
   "source": [
    "In the diagram below, you'll find an overview of the relationship between dimensions, hierarchies and levels:\n",
    "\n",
    "<img src=\"https://data.atoti.io/atoti-academy/images/introduction/6_cube_attributes.png\" width=\"800px\" />"
   ]
  },
  {
   "cell_type": "markdown",
   "id": "8e1387a5-f675-46d0-b289-1988ab3ed307",
   "metadata": {},
   "source": [
    "Understanding the hierarchies and levels is important for us to understand how data is being retrieved from the cube. Each level added to the query will help us identify the location of the value that we are targetting:  \n",
    "\n",
    "<img src=\"https://data.atoti.io/atoti-academy/images/introduction/6_location.png\" width=\"800px\" />"
   ]
  },
  {
   "cell_type": "markdown",
   "id": "4772e4d0-3789-40d7-9829-81325682370c",
   "metadata": {},
   "source": [
    "We can access the attributes individually as well. For instance, let's look at the hierarchies:"
   ]
  },
  {
   "cell_type": "code",
   "execution_count": 19,
   "id": "bc013703-88c4-4690-bd92-bf19eb0277a8",
   "metadata": {
    "tags": []
   },
   "outputs": [
    {
     "data": {
      "application/json": {
       "Quantity Sold.MEAN": {
        "formatter": "DOUBLE[#,###.00]"
       },
       "Quantity Sold.SUM": {
        "formatter": "INT[#,###]"
       },
       "Selling Price Per Unit.MEAN": {
        "formatter": "DOUBLE[#,###.00]"
       },
       "Selling Price Per Unit.SUM": {
        "formatter": "DOUBLE[#,###.00]"
       },
       "contributors.COUNT": {
        "formatter": "INT[#,###]"
       }
      },
      "text/html": [
       "<ul>\n",
       "<li>Measures\n",
       "  <ul>\n",
       "  <li>Quantity Sold.MEAN\n",
       "    <ul>\n",
       "    <li>formatter: DOUBLE[#,###.00]</li>\n",
       "    </ul>\n",
       "  </li>\n",
       "  <li>Quantity Sold.SUM\n",
       "    <ul>\n",
       "    <li>formatter: INT[#,###]</li>\n",
       "    </ul>\n",
       "  </li>\n",
       "  <li>Selling Price Per Unit.MEAN\n",
       "    <ul>\n",
       "    <li>formatter: DOUBLE[#,###.00]</li>\n",
       "    </ul>\n",
       "  </li>\n",
       "  <li>Selling Price Per Unit.SUM\n",
       "    <ul>\n",
       "    <li>formatter: DOUBLE[#,###.00]</li>\n",
       "    </ul>\n",
       "  </li>\n",
       "  <li>contributors.COUNT\n",
       "    <ul>\n",
       "    <li>formatter: INT[#,###]</li>\n",
       "    </ul>\n",
       "  </li>\n",
       "  </ul>\n",
       "</li>\n",
       "</ul>\n"
      ],
      "text/plain": [
       "{'contributors.COUNT': <atoti.measure.Measure object at 0x1692a7f10>, 'update.TIMESTAMP': <atoti.measure.Measure object at 0x1692a7e80>, 'Quantity Sold.MEAN': <atoti.measure.Measure object at 0x1692a5f00>, 'Quantity Sold.SUM': <atoti.measure.Measure object at 0x1692a7dc0>, 'Selling Price Per Unit.MEAN': <atoti.measure.Measure object at 0x1692a57b0>, 'Selling Price Per Unit.SUM': <atoti.measure.Measure object at 0x169191ae0>}"
      ]
     },
     "execution_count": 19,
     "metadata": {
      "application/json": {
       "expanded": false,
       "root": "Measures"
      }
     },
     "output_type": "execute_result"
    }
   ],
   "source": [
    "cube.measures"
   ]
  },
  {
   "cell_type": "markdown",
   "id": "99b5dfe6-08c6-44a4-b7dd-f45b1f1c5826",
   "metadata": {},
   "source": [
    "💡 We can manipulate the cube via these attributes. To simplify coding, we will aliase these attributes with the variable h, l and m for hierarchies, levels and measures respectively.  "
   ]
  },
  {
   "cell_type": "code",
   "execution_count": 20,
   "id": "f5c2575f-e9c3-4521-9820-0bb7ae56ea69",
   "metadata": {
    "tags": []
   },
   "outputs": [],
   "source": [
    "h, l, m = cube.hierarchies, cube.levels, cube.measures"
   ]
  },
  {
   "cell_type": "markdown",
   "id": "7154dd5b-ad35-4c0b-b43a-77915a194696",
   "metadata": {},
   "source": [
    "The equivalent of `cube.measures` is now `m`:"
   ]
  },
  {
   "cell_type": "code",
   "execution_count": 21,
   "id": "937f1394-37c0-465e-a21d-f47b6a7c7a09",
   "metadata": {
    "tags": []
   },
   "outputs": [
    {
     "data": {
      "application/json": {
       "Quantity Sold.MEAN": {
        "formatter": "DOUBLE[#,###.00]"
       },
       "Quantity Sold.SUM": {
        "formatter": "INT[#,###]"
       },
       "Selling Price Per Unit.MEAN": {
        "formatter": "DOUBLE[#,###.00]"
       },
       "Selling Price Per Unit.SUM": {
        "formatter": "DOUBLE[#,###.00]"
       },
       "contributors.COUNT": {
        "formatter": "INT[#,###]"
       }
      },
      "text/html": [
       "<ul>\n",
       "<li>Measures\n",
       "  <ul>\n",
       "  <li>Quantity Sold.MEAN\n",
       "    <ul>\n",
       "    <li>formatter: DOUBLE[#,###.00]</li>\n",
       "    </ul>\n",
       "  </li>\n",
       "  <li>Quantity Sold.SUM\n",
       "    <ul>\n",
       "    <li>formatter: INT[#,###]</li>\n",
       "    </ul>\n",
       "  </li>\n",
       "  <li>Selling Price Per Unit.MEAN\n",
       "    <ul>\n",
       "    <li>formatter: DOUBLE[#,###.00]</li>\n",
       "    </ul>\n",
       "  </li>\n",
       "  <li>Selling Price Per Unit.SUM\n",
       "    <ul>\n",
       "    <li>formatter: DOUBLE[#,###.00]</li>\n",
       "    </ul>\n",
       "  </li>\n",
       "  <li>contributors.COUNT\n",
       "    <ul>\n",
       "    <li>formatter: INT[#,###]</li>\n",
       "    </ul>\n",
       "  </li>\n",
       "  </ul>\n",
       "</li>\n",
       "</ul>\n"
      ],
      "text/plain": [
       "{'contributors.COUNT': <atoti.measure.Measure object at 0x16922bc10>, 'update.TIMESTAMP': <atoti.measure.Measure object at 0x1692a5d20>, 'Quantity Sold.MEAN': <atoti.measure.Measure object at 0x16952ef50>, 'Quantity Sold.SUM': <atoti.measure.Measure object at 0x16952ef80>, 'Selling Price Per Unit.MEAN': <atoti.measure.Measure object at 0x16952c100>, 'Selling Price Per Unit.SUM': <atoti.measure.Measure object at 0x16952d9f0>}"
      ]
     },
     "execution_count": 21,
     "metadata": {
      "application/json": {
       "expanded": false,
       "root": "Measures"
      }
     },
     "output_type": "execute_result"
    }
   ],
   "source": [
    "m"
   ]
  },
  {
   "cell_type": "markdown",
   "id": "9a2c4f56-adda-49ae-acf1-3f705571a077",
   "metadata": {},
   "source": [
    "### 6.2.1 Hierarchies and levels"
   ]
  },
  {
   "cell_type": "markdown",
   "id": "417cba0d-abb2-42ae-8534-27c9ed17e97f",
   "metadata": {},
   "source": [
    "A few key points:\n",
    "\n",
    "* Each column in the data source can be treated as a level. \n",
    "* Hierarchies are logical orderings of these data elements (or levels).\n",
    "* It is possible that there is only one level in the hierarchy.  This is known as single-level hierarchy.\n",
    "* Or we might have a parent-child relationship between them. For example in the hierarchy of geographical zones, we might find one level for continents (Europe, Asia, etc.) and a child level for countries (Signapore, China, Malaysia, etc.) Hierarchies can therefore be single-level or multi-level.  \n",
    "\n",
    "We will look at these in greater detail in this section:  \n",
    "- [6.2.1.1 Create multi-level hierarchies](#6.2.1.1-Create-multi-level-hierarchies)\n",
    "- [6.2.1.2 Access levels that exist under more than one hierarchy](#6.2.1.2-Access-levels-that-exist-under-more-than-one-hierarchy)\n",
    "- [6.2.1.3 Single-level vs multi-level hierarchies](#6.2.1.3-Single-level-vs-multi-level-hierarchies)\n",
    "    - [6.2.1.3.1 Single-level hierarchies](#6.2.1.3.1-Single-level-hierarchies)\n",
    "    - [6.2.1.3.2 Multi-level hierarchies](#6.2.1.3.2-Multi-level-hierarchies)\n",
    " \n",
    "💡 By default, hierarchies automatically created in Atoti are single-level."
   ]
  },
  {
   "cell_type": "code",
   "execution_count": 22,
   "id": "72df5a65-7ad9-4813-8713-fde7ca98a841",
   "metadata": {
    "tags": []
   },
   "outputs": [
    {
     "data": {
      "application/json": {
       "Orders": {
        "Order Date": [
         "Order Date"
        ],
        "Order Id": [
         "Order Id"
        ],
        "Product Id": [
         "Product Id"
        ],
        "Shipper Name": [
         "Shipper Name"
        ]
       },
       "Products": {
        "ProductCategory": [
         "ProductCategory"
        ],
        "ProductName": [
         "ProductName"
        ],
        "Supplier": [
         "Supplier"
        ]
       }
      },
      "text/html": [
       "<ul>\n",
       "<li>Dimensions\n",
       "  <ul>\n",
       "  <li>Orders\n",
       "    <ul>\n",
       "    <li>Order Date\n",
       "      <ol>\n",
       "      <li>Order Date</li>\n",
       "      </ol>    </li>\n",
       "    <li>Order Id\n",
       "      <ol>\n",
       "      <li>Order Id</li>\n",
       "      </ol>    </li>\n",
       "    <li>Product Id\n",
       "      <ol>\n",
       "      <li>Product Id</li>\n",
       "      </ol>    </li>\n",
       "    <li>Shipper Name\n",
       "      <ol>\n",
       "      <li>Shipper Name</li>\n",
       "      </ol>    </li>\n",
       "    </ul>\n",
       "  </li>\n",
       "  <li>Products\n",
       "    <ul>\n",
       "    <li>ProductCategory\n",
       "      <ol>\n",
       "      <li>ProductCategory</li>\n",
       "      </ol>    </li>\n",
       "    <li>ProductName\n",
       "      <ol>\n",
       "      <li>ProductName</li>\n",
       "      </ol>    </li>\n",
       "    <li>Supplier\n",
       "      <ol>\n",
       "      <li>Supplier</li>\n",
       "      </ol>    </li>\n",
       "    </ul>\n",
       "  </li>\n",
       "  </ul>\n",
       "</li>\n",
       "</ul>\n"
      ],
      "text/plain": [
       "{('Products', 'Supplier'): <atoti.hierarchy.Hierarchy object at 0x16952f5e0>, ('Orders', 'Shipper Name'): <atoti.hierarchy.Hierarchy object at 0x16952f010>, ('Products', 'ProductName'): <atoti.hierarchy.Hierarchy object at 0x16952ef80>, ('Orders', 'Order Date'): <atoti.hierarchy.Hierarchy object at 0x16952f100>, ('Orders', 'Order Id'): <atoti.hierarchy.Hierarchy object at 0x16952e410>, ('Orders', 'Product Id'): <atoti.hierarchy.Hierarchy object at 0x109aff2e0>, ('Products', 'ProductCategory'): <atoti.hierarchy.Hierarchy object at 0x16952f850>}"
      ]
     },
     "execution_count": 22,
     "metadata": {
      "application/json": {
       "expanded": true,
       "root": "Dimensions"
      }
     },
     "output_type": "execute_result"
    }
   ],
   "source": [
    "# we can use either `cube.hierarchies` or its alias `h` to view the hierarchies\n",
    "h"
   ]
  },
  {
   "cell_type": "markdown",
   "id": "bc4f756e-6180-4e06-834c-d8f83d5d94d0",
   "metadata": {},
   "source": [
    "A few key points:\n",
    "\n",
    "* The highest level of the tree consists of dimensions, which usually are the table names.  \n",
    "* The second level of the tree containing a list is the hierarchies.  \n",
    "* The list under the hierarchy contains the levels under that hierarchy. As we can see, the hierarchies contain 1 level each, indexed by 0."
   ]
  },
  {
   "cell_type": "markdown",
   "id": "0cd7a758-0689-4c8c-a49f-5075fada5c5a",
   "metadata": {},
   "source": [
    "Since `cube.hierarchies` is a list of hierarchy, we can access a specific hierarchy using its name as a key to the list."
   ]
  },
  {
   "cell_type": "code",
   "execution_count": 23,
   "id": "ce3afb1e-b5fe-41d9-b604-e54ffad58627",
   "metadata": {
    "tags": []
   },
   "outputs": [
    {
     "data": {
      "application/json": [
       "Order Date"
      ],
      "text/html": [
       "<ul>\n",
       "<li>Order Date\n",
       "  <ol>\n",
       "  <li>Order Date</li>\n",
       "  </ol></li>\n",
       "</ul>\n"
      ],
      "text/plain": [
       "<atoti.hierarchy.Hierarchy at 0x169559f90>"
      ]
     },
     "execution_count": 23,
     "metadata": {
      "application/json": {
       "expanded": false,
       "root": "Order Date"
      }
     },
     "output_type": "execute_result"
    }
   ],
   "source": [
    "h[\"Order Date\"]"
   ]
  },
  {
   "cell_type": "markdown",
   "id": "2954f2f1-0e47-4b1e-9a05-0c65b379efbd",
   "metadata": {},
   "source": [
    "Similarly, we can view the levels either using `cube.levels` or its alias `l`:"
   ]
  },
  {
   "cell_type": "code",
   "execution_count": 24,
   "id": "b07a4f75-7fa8-45cf-b4f7-5d964028c8cf",
   "metadata": {
    "tags": []
   },
   "outputs": [
    {
     "data": {
      "application/json": {
       "Order Date (Orders/Order Date/Order Date)": {
        "dimension": "Orders",
        "hierarchy": "Order Date",
        "order": "NaturalOrder",
        "type": "LocalDate"
       },
       "Order Id (Orders/Order Id/Order Id)": {
        "dimension": "Orders",
        "hierarchy": "Order Id",
        "order": "NaturalOrder",
        "type": "String"
       },
       "Product Id (Orders/Product Id/Product Id)": {
        "dimension": "Orders",
        "hierarchy": "Product Id",
        "order": "NaturalOrder",
        "type": "String"
       },
       "ProductCategory (Products/ProductCategory/ProductCategory)": {
        "dimension": "Products",
        "hierarchy": "ProductCategory",
        "order": "NaturalOrder",
        "type": "String"
       },
       "ProductName (Products/ProductName/ProductName)": {
        "dimension": "Products",
        "hierarchy": "ProductName",
        "order": "NaturalOrder",
        "type": "String"
       },
       "Shipper Name (Orders/Shipper Name/Shipper Name)": {
        "dimension": "Orders",
        "hierarchy": "Shipper Name",
        "order": "NaturalOrder",
        "type": "String"
       },
       "Supplier (Products/Supplier/Supplier)": {
        "dimension": "Products",
        "hierarchy": "Supplier",
        "order": "NaturalOrder",
        "type": "String"
       }
      },
      "text/html": [
       "<ul>\n",
       "<li>Levels\n",
       "  <ul>\n",
       "  <li>Order Date (Orders/Order Date/Order Date)\n",
       "    <ul>\n",
       "    <li>dimension: Orders</li>\n",
       "    <li>hierarchy: Order Date</li>\n",
       "    <li>type: LocalDate</li>\n",
       "    <li>order: NaturalOrder</li>\n",
       "    </ul>\n",
       "  </li>\n",
       "  <li>Order Id (Orders/Order Id/Order Id)\n",
       "    <ul>\n",
       "    <li>dimension: Orders</li>\n",
       "    <li>hierarchy: Order Id</li>\n",
       "    <li>type: String</li>\n",
       "    <li>order: NaturalOrder</li>\n",
       "    </ul>\n",
       "  </li>\n",
       "  <li>Product Id (Orders/Product Id/Product Id)\n",
       "    <ul>\n",
       "    <li>dimension: Orders</li>\n",
       "    <li>hierarchy: Product Id</li>\n",
       "    <li>type: String</li>\n",
       "    <li>order: NaturalOrder</li>\n",
       "    </ul>\n",
       "  </li>\n",
       "  <li>ProductCategory (Products/ProductCategory/ProductCategory)\n",
       "    <ul>\n",
       "    <li>dimension: Products</li>\n",
       "    <li>hierarchy: ProductCategory</li>\n",
       "    <li>type: String</li>\n",
       "    <li>order: NaturalOrder</li>\n",
       "    </ul>\n",
       "  </li>\n",
       "  <li>ProductName (Products/ProductName/ProductName)\n",
       "    <ul>\n",
       "    <li>dimension: Products</li>\n",
       "    <li>hierarchy: ProductName</li>\n",
       "    <li>type: String</li>\n",
       "    <li>order: NaturalOrder</li>\n",
       "    </ul>\n",
       "  </li>\n",
       "  <li>Shipper Name (Orders/Shipper Name/Shipper Name)\n",
       "    <ul>\n",
       "    <li>dimension: Orders</li>\n",
       "    <li>hierarchy: Shipper Name</li>\n",
       "    <li>type: String</li>\n",
       "    <li>order: NaturalOrder</li>\n",
       "    </ul>\n",
       "  </li>\n",
       "  <li>Supplier (Products/Supplier/Supplier)\n",
       "    <ul>\n",
       "    <li>dimension: Products</li>\n",
       "    <li>hierarchy: Supplier</li>\n",
       "    <li>type: String</li>\n",
       "    <li>order: NaturalOrder</li>\n",
       "    </ul>\n",
       "  </li>\n",
       "  </ul>\n",
       "</li>\n",
       "</ul>\n"
      ],
      "text/plain": [
       "<atoti.levels.Levels at 0x16952e950>"
      ]
     },
     "execution_count": 24,
     "metadata": {
      "application/json": {
       "expanded": true,
       "root": "Levels"
      }
     },
     "output_type": "execute_result"
    }
   ],
   "source": [
    "l"
   ]
  },
  {
   "cell_type": "markdown",
   "id": "981c1739-3559-416d-ab0f-5218b0b7f627",
   "metadata": {},
   "source": [
    "#### 6.2.1.1 Create multi-level hierarchies"
   ]
  },
  {
   "cell_type": "markdown",
   "id": "fcb458d7-5293-44e5-bc41-a3eda8f661c5",
   "metadata": {},
   "source": [
    "The advantages of having a multi-level hierarchy is that we will be able to control the way the levels are grouped and structured. This will in turn, allow us to determine how users navigate through the data in the cube.  \n",
    "\n",
    "⚠️ But, we have to be careful with multi-level hierarchies because we might end up with more than one level with the same name. This means that we have to determine the exact path of the location. We will come back to this in the next section.  \n",
    "\n",
    "<hr/>"
   ]
  },
  {
   "cell_type": "markdown",
   "id": "6621decd-3922-4928-9f01-515386f7108c",
   "metadata": {},
   "source": [
    "##### 6.2.1.1.1 List levels under hierarchy manually"
   ]
  },
  {
   "cell_type": "markdown",
   "id": "88be751d-e338-417e-90f1-fb94c9de8c75",
   "metadata": {},
   "source": [
    "`cube.hierarchies` is a list. We can create new hierarchy simply by adding a new key to the list, i.e. `Product Tree` and assigning it a list of levels in the correct order:"
   ]
  },
  {
   "cell_type": "code",
   "execution_count": 25,
   "id": "153c984f-0a49-4856-a08f-761e0999074d",
   "metadata": {
    "tags": []
   },
   "outputs": [],
   "source": [
    "cube.hierarchies[\"Product Tree\"] = [\n",
    "    product_tbl[\"ProductCategory\"],\n",
    "    product_tbl[\"ProductName\"],\n",
    "]"
   ]
  },
  {
   "cell_type": "markdown",
   "id": "87fa31db-8f48-46b1-8dbc-298b1cb49e5a",
   "metadata": {},
   "source": [
    "💡 The below snippet will give the same result as the above snippet:  \n",
    "\n",
    "* `cube.hierarchies[\"Product Tree\"] = [cube.levels[\"ProductCategory\"], cube.levels[\"ProductName\"]]`  \n",
    "\n",
    "and so will the following snippet which uses the alias:  \n",
    "\n",
    "* `h[\"Product Tree\"] = [l[\"ProductCategory\"], l[\"ProductName\"]]`  \n",
    "\n",
    "\n",
    "We can build multi-level hierarchies either by referring to the table column or using a level in the cube."
   ]
  },
  {
   "cell_type": "markdown",
   "id": "9669b843-74c8-4d34-b4fd-2f21f243de28",
   "metadata": {},
   "source": [
    "##### 6.2.1.1.2 Create date bucketing hierarchy with function"
   ]
  },
  {
   "cell_type": "markdown",
   "id": "d99e3616-f338-475c-9e47-0d399918ee34",
   "metadata": {},
   "source": [
    "If we have the date value broken into different columns containing the data components such as `Year`, `Month` and `Day`, we can create multilevel hierarchy date buckets using the method listed in section 6.2.1.1.1. However, a quicker way is to use the [`create_date_hierarchy`](https://docs.atoti.io/latest/api/atoti.Cube.create_date_hierarchy.html#atoti.Cube.create_date_hierarchy) function that allow us to split a date column into different date components.  "
   ]
  },
  {
   "cell_type": "code",
   "execution_count": 26,
   "id": "879e3c23-9d0d-4b82-b8ea-cf7e67c25029",
   "metadata": {
    "tags": []
   },
   "outputs": [],
   "source": [
    "cube.create_date_hierarchy(\n",
    "    \"Date Hierarchy\",\n",
    "    column=orders_tbl[\"Order Date\"],\n",
    "    levels={\"Year\": \"yyyy\", \"Month\": \"MM\"},\n",
    ")\n",
    "h[\"Date Hierarchy\"] = {\n",
    "    **h[\"Date Hierarchy\"].levels,\n",
    "    \"Order Date\": orders_tbl[\"Order Date\"],\n",
    "}"
   ]
  },
  {
   "cell_type": "markdown",
   "id": "5a912811-92b1-4e5b-82da-7bbdfdbb2e39",
   "metadata": {},
   "source": [
    "In the above example, we created another `Order Date` level that contains the same value as `Order Date` column, instead of creating a `Day` level that contains the day value. We will use the two `Order Date` levels to demonstrate how the same data under different hierarchies may have different behaviour during aggregation."
   ]
  },
  {
   "cell_type": "code",
   "execution_count": 27,
   "id": "d1300b71-d16c-4380-8f96-4d0b569d61d4",
   "metadata": {
    "atoti": {
     "height": 288,
     "widget": {
      "columnWidths": {
       "[Measures].[Quantity Sold.SUM]": 170,
       "[Measures].[Selling Price Per Unit.SUM]": 181
      },
      "mapping": {
       "columns": [
        "ALL_MEASURES"
       ],
       "measures": [
        "[Measures].[Selling Price Per Unit.SUM]",
        "[Measures].[Quantity Sold.SUM]"
       ],
       "rows": [
        "[Orders].[Date Hierarchy].[Month] => [Orders].[Date Hierarchy].[Order Date]"
       ]
      },
      "name": "Date bucketing",
      "query": {
       "mdx": "SELECT NON EMPTY Hierarchize(Union(Descendants({[Orders].[Date Hierarchy].[AllMember]}, 2, SELF_AND_BEFORE), Descendants({[Orders].[Date Hierarchy].[AllMember].[2019].[02]}, [Orders].[Date Hierarchy].[Order Date]))) ON ROWS, NON EMPTY {[Measures].[Selling Price Per Unit.SUM], [Measures].[Quantity Sold.SUM]} ON COLUMNS FROM [Order Cube] CELL PROPERTIES VALUE, FORMATTED_VALUE, BACK_COLOR, FORE_COLOR, FONT_FLAGS",
       "updateMode": "once"
      },
      "serverKey": "default",
      "widgetKey": "pivot-table"
     }
    },
    "tags": []
   },
   "outputs": [
    {
     "data": {
      "application/vnd.atoti.widget.v0+json": {
       "sessionId": "1711997165_RKBAUW",
       "sessionLocation": {
        "https": false,
        "port": 9092
       },
       "widgetCreationCode": "session.widget"
      },
      "text/html": [
       "<img height=\"280\" width=\"1281\" src=\"data:image/png;base64,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\" />"
      ],
      "text/plain": [
       "Open the notebook in JupyterLab with the Atoti JupyterLab extension enabled to build this widget."
      ]
     },
     "metadata": {},
     "output_type": "display_data"
    }
   ],
   "source": [
    "session.widget"
   ]
  },
  {
   "cell_type": "markdown",
   "id": "81c77548-a512-4788-914b-342ad0bd4fc2",
   "metadata": {},
   "source": [
    "#### 📐Exercise  \n",
    "\n",
    "Review the hierarchies again."
   ]
  },
  {
   "cell_type": "markdown",
   "id": "ef3f69db-2f11-4177-a967-cce15f77f423",
   "metadata": {
    "tags": []
   },
   "source": [
    "#### 📖 Solution  \n",
    "\n",
    "`cube.hierarchies` or `h`."
   ]
  },
  {
   "cell_type": "code",
   "execution_count": 28,
   "id": "7ddf236d-f86b-4f28-aa04-44da1043384b",
   "metadata": {},
   "outputs": [
    {
     "data": {
      "application/json": {
       "Orders": {
        "Date Hierarchy": [
         "Year",
         "Month",
         "Order Date"
        ],
        "Order Date": [
         "Order Date"
        ],
        "Order Id": [
         "Order Id"
        ],
        "Product Id": [
         "Product Id"
        ],
        "Shipper Name": [
         "Shipper Name"
        ]
       },
       "Products": {
        "Product Tree": [
         "ProductCategory",
         "ProductName"
        ],
        "ProductCategory": [
         "ProductCategory"
        ],
        "ProductName": [
         "ProductName"
        ],
        "Supplier": [
         "Supplier"
        ]
       }
      },
      "text/html": [
       "<ul>\n",
       "<li>Dimensions\n",
       "  <ul>\n",
       "  <li>Orders\n",
       "    <ul>\n",
       "    <li>Date Hierarchy\n",
       "      <ol>\n",
       "      <li>Year</li>\n",
       "      <li>Month</li>\n",
       "      <li>Order Date</li>\n",
       "      </ol>    </li>\n",
       "    <li>Order Date\n",
       "      <ol>\n",
       "      <li>Order Date</li>\n",
       "      </ol>    </li>\n",
       "    <li>Order Id\n",
       "      <ol>\n",
       "      <li>Order Id</li>\n",
       "      </ol>    </li>\n",
       "    <li>Product Id\n",
       "      <ol>\n",
       "      <li>Product Id</li>\n",
       "      </ol>    </li>\n",
       "    <li>Shipper Name\n",
       "      <ol>\n",
       "      <li>Shipper Name</li>\n",
       "      </ol>    </li>\n",
       "    </ul>\n",
       "  </li>\n",
       "  <li>Products\n",
       "    <ul>\n",
       "    <li>Product Tree\n",
       "      <ol>\n",
       "      <li>ProductCategory</li>\n",
       "      <li>ProductName</li>\n",
       "      </ol>    </li>\n",
       "    <li>ProductCategory\n",
       "      <ol>\n",
       "      <li>ProductCategory</li>\n",
       "      </ol>    </li>\n",
       "    <li>ProductName\n",
       "      <ol>\n",
       "      <li>ProductName</li>\n",
       "      </ol>    </li>\n",
       "    <li>Supplier\n",
       "      <ol>\n",
       "      <li>Supplier</li>\n",
       "      </ol>    </li>\n",
       "    </ul>\n",
       "  </li>\n",
       "  </ul>\n",
       "</li>\n",
       "</ul>\n"
      ],
      "text/plain": [
       "{('Products', 'Supplier'): <atoti.hierarchy.Hierarchy object at 0x169588730>, ('Orders', 'Shipper Name'): <atoti.hierarchy.Hierarchy object at 0x169588880>, ('Products', 'ProductName'): <atoti.hierarchy.Hierarchy object at 0x169588970>, ('Orders', 'Order Date'): <atoti.hierarchy.Hierarchy object at 0x16955bf10>, ('Orders', 'Order Id'): <atoti.hierarchy.Hierarchy object at 0x16955bee0>, ('Orders', 'Product Id'): <atoti.hierarchy.Hierarchy object at 0x16955bca0>, ('Orders', 'Date Hierarchy'): <atoti.hierarchy.Hierarchy object at 0x16955bbe0>, ('Products', 'ProductCategory'): <atoti.hierarchy.Hierarchy object at 0x16955b7f0>, ('Products', 'Product Tree'): <atoti.hierarchy.Hierarchy object at 0x16955b5e0>}"
      ]
     },
     "execution_count": 28,
     "metadata": {
      "application/json": {
       "expanded": true,
       "root": "Dimensions"
      }
     },
     "output_type": "execute_result"
    }
   ],
   "source": [
    "h"
   ]
  },
  {
   "cell_type": "markdown",
   "id": "025435a9-5d1d-45b1-b20b-e03bfd4d161f",
   "metadata": {
    "tags": []
   },
   "source": [
    "We can see from the tree above, we now have 2 levels with the same name `ProductName` and also another 2 levels with the name `Order Date`."
   ]
  },
  {
   "cell_type": "markdown",
   "id": "afe328f5-88ed-4c64-b6ef-129d0bc3df3b",
   "metadata": {},
   "source": [
    "#### 6.2.1.2 Access levels that exist under more than one hierarchy"
   ]
  },
  {
   "cell_type": "markdown",
   "id": "87498297-9bd8-4035-a7bf-e8e5db25b0d1",
   "metadata": {},
   "source": [
    "When we create a multi-level hierarchy using a column that has an existing level, there are now levels with the same name but under different hierarchies. Therefore, we cannot identify the level using its name as a key."
   ]
  },
  {
   "cell_type": "code",
   "execution_count": 29,
   "id": "e19705a0-54bf-4aeb-90e1-4a94be7b5450",
   "metadata": {
    "tags": []
   },
   "outputs": [
    {
     "ename": "KeyError",
     "evalue": "'An error occurred while calling o1290.findLevelHierarchy.\\n: com.activeviam.fwk.ActiveViamRuntimeException: Levels named `ProductName` are present in several hierarchies: [(`Products`, `ProductName`), (`Products`, `Product Tree`)]. Specify the hierarchy name (and the dimension if necessary).\\n\\tat io.atoti.api.impl.OutsideTransactionApiImpl.findLevelHierarchy(OutsideTransactionApiImpl.java:222)\\n\\tat java.base/jdk.internal.reflect.NativeMethodAccessorImpl.invoke0(Native Method)\\n\\tat java.base/jdk.internal.reflect.NativeMethodAccessorImpl.invoke(Unknown Source)\\n\\tat java.base/jdk.internal.reflect.DelegatingMethodAccessorImpl.invoke(Unknown Source)\\n\\tat java.base/java.lang.reflect.Method.invoke(Unknown Source)\\n\\tat py4j.reflection.MethodInvoker.invoke(MethodInvoker.java:244)\\n\\tat py4j.reflection.ReflectionEngine.invoke(ReflectionEngine.java:357)\\n\\tat py4j.Gateway.invoke(Gateway.java:282)\\n\\tat py4j.commands.AbstractCommand.invokeMethod(AbstractCommand.java:132)\\n\\tat py4j.commands.CallCommand.execute(CallCommand.java:79)\\n\\tat py4j.ClientServerConnection.waitForCommands(ClientServerConnection.java:182)\\n\\tat py4j.ClientServerConnection.run(ClientServerConnection.java:106)\\n\\tat java.base/java.lang.Thread.run(Unknown Source)\\n'",
     "output_type": "error",
     "traceback": [
      "\u001b[0;31m---------------------------------------------------------------------------\u001b[0m",
      "\u001b[0;31mKeyError\u001b[0m                                  Traceback (most recent call last)",
      "Cell \u001b[0;32mIn[29], line 1\u001b[0m\n\u001b[0;32m----> 1\u001b[0m \u001b[43ml\u001b[49m\u001b[43m[\u001b[49m\u001b[38;5;124;43m\"\u001b[39;49m\u001b[38;5;124;43mProductName\u001b[39;49m\u001b[38;5;124;43m\"\u001b[39;49m\u001b[43m]\u001b[49m\n",
      "File \u001b[0;32m~/anaconda3/envs/atoti-0.8.11/lib/python3.10/site-packages/pydantic/validate_call_decorator.py:58\u001b[0m, in \u001b[0;36mvalidate_call.<locals>.validate.<locals>.wrapper_function\u001b[0;34m(*args, **kwargs)\u001b[0m\n\u001b[1;32m     56\u001b[0m \u001b[38;5;129m@functools\u001b[39m\u001b[38;5;241m.\u001b[39mwraps(function)\n\u001b[1;32m     57\u001b[0m \u001b[38;5;28;01mdef\u001b[39;00m \u001b[38;5;21mwrapper_function\u001b[39m(\u001b[38;5;241m*\u001b[39margs, \u001b[38;5;241m*\u001b[39m\u001b[38;5;241m*\u001b[39mkwargs):\n\u001b[0;32m---> 58\u001b[0m     \u001b[38;5;28;01mreturn\u001b[39;00m \u001b[43mvalidate_call_wrapper\u001b[49m\u001b[43m(\u001b[49m\u001b[38;5;241;43m*\u001b[39;49m\u001b[43margs\u001b[49m\u001b[43m,\u001b[49m\u001b[43m \u001b[49m\u001b[38;5;241;43m*\u001b[39;49m\u001b[38;5;241;43m*\u001b[39;49m\u001b[43mkwargs\u001b[49m\u001b[43m)\u001b[49m\n",
      "File \u001b[0;32m~/anaconda3/envs/atoti-0.8.11/lib/python3.10/site-packages/pydantic/_internal/_validate_call.py:81\u001b[0m, in \u001b[0;36mValidateCallWrapper.__call__\u001b[0;34m(self, *args, **kwargs)\u001b[0m\n\u001b[1;32m     80\u001b[0m \u001b[38;5;28;01mdef\u001b[39;00m \u001b[38;5;21m__call__\u001b[39m(\u001b[38;5;28mself\u001b[39m, \u001b[38;5;241m*\u001b[39margs: Any, \u001b[38;5;241m*\u001b[39m\u001b[38;5;241m*\u001b[39mkwargs: Any) \u001b[38;5;241m-\u001b[39m\u001b[38;5;241m>\u001b[39m Any:\n\u001b[0;32m---> 81\u001b[0m     res \u001b[38;5;241m=\u001b[39m \u001b[38;5;28;43mself\u001b[39;49m\u001b[38;5;241;43m.\u001b[39;49m\u001b[43m__pydantic_validator__\u001b[49m\u001b[38;5;241;43m.\u001b[39;49m\u001b[43mvalidate_python\u001b[49m\u001b[43m(\u001b[49m\u001b[43mpydantic_core\u001b[49m\u001b[38;5;241;43m.\u001b[39;49m\u001b[43mArgsKwargs\u001b[49m\u001b[43m(\u001b[49m\u001b[43margs\u001b[49m\u001b[43m,\u001b[49m\u001b[43m \u001b[49m\u001b[43mkwargs\u001b[49m\u001b[43m)\u001b[49m\u001b[43m)\u001b[49m\n\u001b[1;32m     82\u001b[0m     \u001b[38;5;28;01mif\u001b[39;00m \u001b[38;5;28mself\u001b[39m\u001b[38;5;241m.\u001b[39m__return_pydantic_validator__:\n\u001b[1;32m     83\u001b[0m         \u001b[38;5;28;01mreturn\u001b[39;00m \u001b[38;5;28mself\u001b[39m\u001b[38;5;241m.\u001b[39m__return_pydantic_validator__(res)\n",
      "File \u001b[0;32m~/anaconda3/envs/atoti-0.8.11/lib/python3.10/site-packages/atoti_core/base_levels.py:51\u001b[0m, in \u001b[0;36mBaseLevels.__getitem__\u001b[0;34m(self, key)\u001b[0m\n\u001b[1;32m     49\u001b[0m \u001b[38;5;250m\u001b[39m\u001b[38;5;124;03m\"\"\"Return the level with the given key.\"\"\"\u001b[39;00m\n\u001b[1;32m     50\u001b[0m \u001b[38;5;28;01mif\u001b[39;00m \u001b[38;5;28misinstance\u001b[39m(key, \u001b[38;5;28mstr\u001b[39m):\n\u001b[0;32m---> 51\u001b[0m     \u001b[38;5;28;01mreturn\u001b[39;00m \u001b[38;5;28;43mself\u001b[39;49m\u001b[38;5;241;43m.\u001b[39;49m\u001b[43m_find_level\u001b[49m\u001b[43m(\u001b[49m\u001b[43mkey\u001b[49m\u001b[43m)\u001b[49m\n\u001b[1;32m     53\u001b[0m \u001b[38;5;28;01mif\u001b[39;00m \u001b[38;5;28mlen\u001b[39m(key) \u001b[38;5;241m==\u001b[39m \u001b[38;5;241m2\u001b[39m:  \u001b[38;5;66;03m# noqa: PLR2004\u001b[39;00m\n\u001b[1;32m     54\u001b[0m     \u001b[38;5;28;01mreturn\u001b[39;00m \u001b[38;5;28mself\u001b[39m\u001b[38;5;241m.\u001b[39m_find_level(key[\u001b[38;5;241m1\u001b[39m], hierarchy_name\u001b[38;5;241m=\u001b[39mkey[\u001b[38;5;241m0\u001b[39m])\n",
      "File \u001b[0;32m~/anaconda3/envs/atoti-0.8.11/lib/python3.10/site-packages/atoti/levels.py:42\u001b[0m, in \u001b[0;36mLevels._find_level\u001b[0;34m(self, level_name, dimension_name, hierarchy_name)\u001b[0m\n\u001b[1;32m     35\u001b[0m     hierarchy_argument \u001b[38;5;241m=\u001b[39m \u001b[38;5;28mself\u001b[39m\u001b[38;5;241m.\u001b[39m_hierarchies\u001b[38;5;241m.\u001b[39m_java_api\u001b[38;5;241m.\u001b[39mfind_level_hierarchy(\n\u001b[1;32m     36\u001b[0m         level_name,\n\u001b[1;32m     37\u001b[0m         cube_name\u001b[38;5;241m=\u001b[39m\u001b[38;5;28mself\u001b[39m\u001b[38;5;241m.\u001b[39m_hierarchies\u001b[38;5;241m.\u001b[39m_cube_name,\n\u001b[1;32m     38\u001b[0m         dimension_name\u001b[38;5;241m=\u001b[39mdimension_name,\n\u001b[1;32m     39\u001b[0m         hierarchy_name\u001b[38;5;241m=\u001b[39mhierarchy_name,\n\u001b[1;32m     40\u001b[0m     )\n\u001b[1;32m     41\u001b[0m \u001b[38;5;28;01mexcept\u001b[39;00m Py4JError \u001b[38;5;28;01mas\u001b[39;00m error:\n\u001b[0;32m---> 42\u001b[0m     \u001b[38;5;28;01mraise\u001b[39;00m \u001b[38;5;167;01mKeyError\u001b[39;00m(\u001b[38;5;28mstr\u001b[39m(error)) \u001b[38;5;28;01mfrom\u001b[39;00m \u001b[38;5;28;01mNone\u001b[39;00m\n\u001b[1;32m     43\u001b[0m hierarchy \u001b[38;5;241m=\u001b[39m \u001b[38;5;28mself\u001b[39m\u001b[38;5;241m.\u001b[39m_hierarchies\u001b[38;5;241m.\u001b[39m_create_hierarchy_from_arguments(\n\u001b[1;32m     44\u001b[0m     hierarchy_argument\n\u001b[1;32m     45\u001b[0m )\n\u001b[1;32m     46\u001b[0m \u001b[38;5;28;01mreturn\u001b[39;00m hierarchy\u001b[38;5;241m.\u001b[39mlevels[level_name]\n",
      "\u001b[0;31mKeyError\u001b[0m: 'An error occurred while calling o1290.findLevelHierarchy.\\n: com.activeviam.fwk.ActiveViamRuntimeException: Levels named `ProductName` are present in several hierarchies: [(`Products`, `ProductName`), (`Products`, `Product Tree`)]. Specify the hierarchy name (and the dimension if necessary).\\n\\tat io.atoti.api.impl.OutsideTransactionApiImpl.findLevelHierarchy(OutsideTransactionApiImpl.java:222)\\n\\tat java.base/jdk.internal.reflect.NativeMethodAccessorImpl.invoke0(Native Method)\\n\\tat java.base/jdk.internal.reflect.NativeMethodAccessorImpl.invoke(Unknown Source)\\n\\tat java.base/jdk.internal.reflect.DelegatingMethodAccessorImpl.invoke(Unknown Source)\\n\\tat java.base/java.lang.reflect.Method.invoke(Unknown Source)\\n\\tat py4j.reflection.MethodInvoker.invoke(MethodInvoker.java:244)\\n\\tat py4j.reflection.ReflectionEngine.invoke(ReflectionEngine.java:357)\\n\\tat py4j.Gateway.invoke(Gateway.java:282)\\n\\tat py4j.commands.AbstractCommand.invokeMethod(AbstractCommand.java:132)\\n\\tat py4j.commands.CallCommand.execute(CallCommand.java:79)\\n\\tat py4j.ClientServerConnection.waitForCommands(ClientServerConnection.java:182)\\n\\tat py4j.ClientServerConnection.run(ClientServerConnection.java:106)\\n\\tat java.base/java.lang.Thread.run(Unknown Source)\\n'"
     ]
    }
   ],
   "source": [
    "l[\"ProductName\"]"
   ]
  },
  {
   "cell_type": "markdown",
   "id": "a909d43a-22d0-4961-9708-039132b9b6b6",
   "metadata": {
    "tags": []
   },
   "source": [
    "Although the two levels of `ProductName` originated from the same data column, we have go through different hierarchy (sometimes different dimension) to reach each of them. The application will not know from which hierarchy it should access the level from.  \n",
    "\n",
    "<img src=\"https://data.atoti.io/atoti-academy/images/introduction/6_locate_level.png\" width=\"800px\" />\n",
    "\n",
    "As seen in the diagram above, to help us identify the exact level that we are targeting, we should indicate the path to the level as a tuple that comprises of __`(dimension, Hierarchy, level)`__."
   ]
  },
  {
   "cell_type": "code",
   "execution_count": null,
   "id": "2f3df171-cc0b-48b7-94df-4bd4da058d7e",
   "metadata": {
    "tags": []
   },
   "outputs": [],
   "source": [
    "# ProductName under the multi-level hierarchy that we just created\n",
    "l[(\"Products\", \"Product Tree\", \"ProductName\")]"
   ]
  },
  {
   "cell_type": "markdown",
   "id": "162433be-7a64-4bfd-850e-4b01ed59fa8a",
   "metadata": {},
   "source": [
    "We will see in Section 6.2.2 later on, how understanding the hierarchies and levels will help us in crafting our measure definitions.  "
   ]
  },
  {
   "cell_type": "markdown",
   "id": "45005377-6194-4f98-8b4c-ee3ecc51b207",
   "metadata": {},
   "source": [
    "#### 📐Exercise  \n",
    "\n",
    "Try accessing the other level named `ProductName` under (`Products`, `ProductName`)."
   ]
  },
  {
   "cell_type": "markdown",
   "id": "aa20261e-829f-4543-9545-076fd43f3d31",
   "metadata": {},
   "source": [
    "#### 📖 Solution\n",
    "\n",
    "`cube.levels[(\"Products\", \"ProductName\", \"ProductName\")]`\n",
    "\n",
    "or \n",
    "\n",
    "`l[(\"Products\", \"ProductName\", \"ProductName\")]`"
   ]
  },
  {
   "cell_type": "code",
   "execution_count": null,
   "id": "ee00d34f-1753-4fd5-b28b-f34135c7c2c5",
   "metadata": {},
   "outputs": [],
   "source": [
    "l[(\"Products\", \"ProductName\", \"ProductName\")]"
   ]
  },
  {
   "cell_type": "markdown",
   "id": "6bd66eff-deec-4dda-be40-f0a4cecd5edb",
   "metadata": {
    "tags": []
   },
   "source": [
    "#### 6.2.1.3 Single-level vs multi-level hierarchies\n",
    "\n",
    "To understand the difference between the two, we are going to jump ahead to visualization to explore the data.  "
   ]
  },
  {
   "cell_type": "markdown",
   "id": "6379c268-15c5-4e11-a65f-ef5efa662100",
   "metadata": {},
   "source": [
    "##### 6.2.1.3.1 Single-level hierarchies  \n",
    "\n",
    "Let's looks at the data with single-level hierarchies first.  "
   ]
  },
  {
   "cell_type": "code",
   "execution_count": null,
   "id": "3792ce21-37be-4e71-b23a-8a5f7b845fb4",
   "metadata": {
    "atoti": {
     "widget": {
      "columnWidths": {
       "[Measures].[contributors.COUNT]": 140,
       "[Products].[Product Tree].[ProductCategory]": 122,
       "[Products].[ProductName].[ProductName]": 209
      },
      "mapping": {
       "columns": [
        "ALL_MEASURES"
       ],
       "measures": [
        "[Measures].[contributors.COUNT]"
       ],
       "rows": [
        "[Products].[Product Tree].[ProductCategory]",
        "[Products].[ProductName].[ProductName]"
       ]
      },
      "query": {
       "mdx": "SELECT NON EMPTY {[Measures].[contributors.COUNT]} ON COLUMNS, NON EMPTY Crossjoin(Hierarchize(Descendants({[Products].[Product Tree].[ALL].[AllMember]}, 1, SELF_AND_BEFORE)), Hierarchize(Descendants({[Products].[ProductName].[ALL].[AllMember]}, 1, SELF_AND_BEFORE))) ON ROWS FROM [Order Cube] CELL PROPERTIES VALUE, FORMATTED_VALUE, BACK_COLOR, FORE_COLOR, FONT_FLAGS",
       "updateMode": "once"
      },
      "serverKey": "default",
      "widgetKey": "pivot-table"
     }
    },
    "tags": []
   },
   "outputs": [],
   "source": [
    "session.widget"
   ]
  },
  {
   "cell_type": "markdown",
   "id": "46e358b4-7077-458f-89d7-1394f2305355",
   "metadata": {},
   "source": [
    "With single-level hierarchies, we have to add each required levels individually. This gives users the flexibility in the ordering of the levels they want to see. We can easily switch the query order from `ProductName`→`ProductCategory` to the reverse `ProductCategory`→`ProductName` using the Atoti JupyterLab extension on the right:  \n",
    "\n",
    "<img src=\"https://data.atoti.io/atoti-academy/images/introduction/6_Atoti_extension.png\" />"
   ]
  },
  {
   "cell_type": "markdown",
   "id": "6fc67351-1db3-437d-b596-5c578da9e58d",
   "metadata": {},
   "source": [
    "💡`contributors.COUNT` returns the number of underlying facts (or rows of data) contributing to the corresponding level. "
   ]
  },
  {
   "cell_type": "markdown",
   "id": "3499c662-98cc-47d8-b7c7-b707d237370b",
   "metadata": {},
   "source": [
    "##### 6.2.1.3.2 Multi-level hierarchies\n",
    "\n",
    "In the below table, we added the hierarchy `Product Tree` to the table. The top displayed level is `ProductCategory` and it allows us to drill-down to the `ProductName` level as per the order we defined in our list above. Users cannot insert any levels in between the levels we have defined."
   ]
  },
  {
   "cell_type": "code",
   "execution_count": null,
   "id": "2a815328-4772-44cc-90e8-905ee64eb134",
   "metadata": {
    "atoti": {
     "height": 318,
     "widget": {
      "columnWidths": {
       "[Measures].[contributors.COUNT]": 131,
       "[Products].[Product Tree].[ProductName]": 194
      },
      "mapping": {
       "columns": [
        "ALL_MEASURES"
       ],
       "measures": [
        "[Measures].[contributors.COUNT]"
       ],
       "rows": [
        "[Products].[Product Tree].[ProductCategory]"
       ]
      },
      "name": "Multi-level hierarchies",
      "query": {
       "mdx": "SELECT NON EMPTY {[Measures].[contributors.COUNT]} ON COLUMNS, NON EMPTY Hierarchize(Descendants({[Products].[Product Tree].[ALL].[AllMember]}, 1, SELF_AND_BEFORE)) ON ROWS FROM [Order Cube] CELL PROPERTIES VALUE, FORMATTED_VALUE, BACK_COLOR, FORE_COLOR, FONT_FLAGS",
       "updateMode": "once"
      },
      "serverKey": "default",
      "widgetKey": "pivot-table"
     }
    },
    "tags": []
   },
   "outputs": [],
   "source": [
    "session.widget"
   ]
  },
  {
   "cell_type": "markdown",
   "id": "6b2a2c56-5239-48f3-9b99-bd08234c28b9",
   "metadata": {},
   "source": [
    "With multi-level hierarchies, the order of querying is pre-defined. It helps users to follow through the relationship of facts."
   ]
  },
  {
   "cell_type": "markdown",
   "id": "72876bd5-d25e-42c9-a7f0-e683089ae0b1",
   "metadata": {},
   "source": [
    "### 6.2.2 Measures"
   ]
  },
  {
   "cell_type": "markdown",
   "id": "83457229-51f7-4c3a-adbc-3b617e102d5c",
   "metadata": {},
   "source": [
    "Measures are numerical data/metrics that are analyzed and compared across dimension in order to gain insights and make informed decisions.  \n",
    "\n",
    "Below are the measures that are automatically created during cube creation. For each numerical column in the base table, corresponding `MEAN` and `SUM` measures are created. We will have to create measures for referenced table where necessary.   "
   ]
  },
  {
   "cell_type": "code",
   "execution_count": null,
   "id": "39f284ef-7bcb-4cbb-9f18-47b996a8759b",
   "metadata": {
    "tags": []
   },
   "outputs": [],
   "source": [
    "cube.measures"
   ]
  },
  {
   "cell_type": "markdown",
   "id": "d798a594-7fe6-404b-b857-196b8a87ea8b",
   "metadata": {},
   "source": [
    "Atoti has a range of [aggregation functions](https://docs.atoti.io/latest/api/atoti.agg.html). Let's spend some time to understand measures and what we can do with them:   \n",
    "\n",
    "- [6.2.2.1 Create measures from table](#6.2.2.1.-Create-measures-from-table)\n",
    "- [6.2.2.2 Chain up measures](#6.2.2.2-Chain-up-measures)\n",
    "- [6.2.2.3 Prevent aggregation above a given level](#6.2.2.3-Prevent-aggregation-above-a-given-level)\n",
    "- [6.2.2.4 Understand measure scope](#6.2.2.4-Understand-measure-scope)\n",
    "- [6.2.2.5 Format measures](#6.2.2.5-Format-measures)"
   ]
  },
  {
   "cell_type": "markdown",
   "id": "800b0e15-9497-4338-b166-30c981518271",
   "metadata": {},
   "source": [
    "#### 6.2.2.1 Create measures from table"
   ]
  },
  {
   "cell_type": "markdown",
   "id": "e74fc624-de2c-4295-8cc6-4c95e0be2d34",
   "metadata": {},
   "source": [
    "`cube.measures` is a list of measure. We can create a new measure by adding a new key to the list, e.g. \n",
    "- `Selling Price Per Unit`,  \n",
    "- `PurchasingPricePerUnit`\n",
    "- `PurchasingPricePerUnit.SUM` \n",
    "- `PurchasingPricePerUnit.MEAN` \n",
    "in the below examples and formulate their definitions.  \n",
    "\n",
    "💡 Note that `Selling Price Per Unit.SUM` and `Selling Price Per Unit.MEAN` were automatically created during cube creation."
   ]
  },
  {
   "cell_type": "code",
   "execution_count": null,
   "id": "70fb556b-8cfc-4eac-95c3-7beefa080204",
   "metadata": {
    "tags": []
   },
   "outputs": [],
   "source": [
    "# single value\n",
    "cube.measures[\"Selling Price Per Unit\"] = tt.agg.single_value(\n",
    "    orders_tbl[\"Selling Price Per Unit\"]\n",
    ")\n",
    "# single value\n",
    "cube.measures[\"PurchasingPricePerUnit\"] = tt.agg.single_value(\n",
    "    product_tbl[\"PurchasingPricePerUnit\"]\n",
    ")\n",
    "# summation\n",
    "cube.measures[\"PurchasingPricePerUnit.SUM\"] = tt.agg.sum(\n",
    "    product_tbl[\"PurchasingPricePerUnit\"]\n",
    ")\n",
    "# average\n",
    "cube.measures[\"PurchasingPricePerUnit.MEAN\"] = tt.agg.mean(\n",
    "    product_tbl[\"PurchasingPricePerUnit\"]\n",
    ")"
   ]
  },
  {
   "cell_type": "markdown",
   "id": "69cd45dc-3e65-4d82-b54e-81a1ebcd03cb",
   "metadata": {},
   "source": [
    "💡We can alternatively use the alias `m` instead of `cube.measures` for the above."
   ]
  },
  {
   "cell_type": "markdown",
   "id": "45de3fb5-4386-4ba9-986e-28519323053c",
   "metadata": {},
   "source": [
    "`PurchasingPricePerUnit.SUM` and `PurchasingPricePerUnit.MEAN` is similar to the `SUM` and `MEAN` measures that are automatically created by the cube. It aggregates the value along the queried levels. Refer to the type of [aggregation functions](https://docs.atoti.io/latest/api/atoti.agg.html) available from [Atoti documentation](https://docs.atoti.io/latest/index.html).\n",
    "\n",
    "As for the measures `Selling Price Per Unit` and `PurchasingPricePerUnit` created using `single_value`, we will understand their values through the next few examples."
   ]
  },
  {
   "cell_type": "markdown",
   "id": "110dfa98-2f64-4e42-b36b-bcaf15fb40bc",
   "metadata": {},
   "source": [
    "##### 6.2.2.1.1 Single Values"
   ]
  },
  {
   "cell_type": "code",
   "execution_count": null,
   "id": "2b8b3974-186b-481a-a679-d158d782f5a4",
   "metadata": {
    "atoti": {
     "widget": {
      "columnWidths": {
       "[Measures].[PurchasingPricePerUnit]": 159,
       "[Measures].[Selling Price Per Unit]": 144,
       "[Products].[Product Tree].[ProductCategory]": 122,
       "[Products].[ProductName].[ProductName]": 209
      },
      "mapping": {
       "columns": [
        "ALL_MEASURES"
       ],
       "measures": [
        "[Measures].[Selling Price Per Unit]",
        "[Measures].[PurchasingPricePerUnit]"
       ],
       "rows": [
        "[Products].[Product Tree].[ProductCategory]",
        "[Products].[ProductName].[ProductName]"
       ]
      },
      "query": {
       "mdx": "SELECT NON EMPTY Crossjoin(Hierarchize(Descendants({[Products].[Product Tree].[ALL].[AllMember]}, 1, SELF_AND_BEFORE)), Hierarchize(Descendants({[Products].[ProductName].[ALL].[AllMember]}, 1, SELF_AND_BEFORE))) ON ROWS, NON EMPTY {[Measures].[Selling Price Per Unit], [Measures].[PurchasingPricePerUnit]} ON COLUMNS FROM [Order Cube] CELL PROPERTIES VALUE, FORMATTED_VALUE, BACK_COLOR, FORE_COLOR, FONT_FLAGS",
       "updateMode": "once"
      },
      "serverKey": "default",
      "widgetKey": "pivot-table"
     }
    },
    "tags": []
   },
   "outputs": [],
   "source": [
    "session.widget"
   ]
  },
  {
   "cell_type": "markdown",
   "id": "b57480ab-ad99-423b-b4d6-daca323199b6",
   "metadata": {},
   "source": [
    "The `single_value` function will only return a value when all the members on the same level has the same value. In the above visualization, we see only a few products were returned, such as the `ProductName` member \"Chai\", returned for the \"Beverages\" product category. This is because the underlying [MDX](https://learn.microsoft.com/en-us/analysis-services/multidimensional-models/mdx/mdx-query-the-basic-query?view=asallproducts-allversions) for querying the cube uses `NON EMPTY`: \n",
    "\n",
    "The `NON EMPTY` function returns only set of tuples that are not empty. Therefore, we may have less members being displayed in the visualization than the actual number.\n",
    "\n",
    "```\n",
    "SELECT\n",
    "  NON EMPTY {\n",
    "    [Measures].[Selling Price Per Unit]\n",
    "  } ON COLUMNS,\n",
    "  NON EMPTY Crossjoin(\n",
    "    Hierarchize(\n",
    "      Descendants(\n",
    "        {\n",
    "          [Products].[ProductCategory].[ALL].[AllMember]\n",
    "        },\n",
    "        1,\n",
    "        SELF_AND_BEFORE\n",
    "      )\n",
    "    ),\n",
    "    Hierarchize(\n",
    "      Descendants(\n",
    "        {\n",
    "          [Products].[ProductName].[ALL].[AllMember]\n",
    "        },\n",
    "        1,\n",
    "        SELF_AND_BEFORE\n",
    "      )\n",
    "    )\n",
    "  ) ON ROWS\n",
    "  FROM [Order Cube]\n",
    "  CELL PROPERTIES VALUE, FORMATTED_VALUE, BACK_COLOR, FORE_COLOR, FONT_FLAGS\n",
    "```\n",
    "\n",
    "💡 A good way to verify if we are missing any members that you shouldn't is to include measures that we know will not be empty:\n",
    "\n",
    "1. Add `contributors.COUNT` measure to the query as it returns the number of underlying facts for each member.\n",
    "2. Add the summation e.g. `Selling Price Per Unit.SUM` for the intended measure as it will return the summation of the value if it exists.  "
   ]
  },
  {
   "cell_type": "code",
   "execution_count": null,
   "id": "ccd6cc1a-d601-4267-bc22-4f6b44ef3777",
   "metadata": {
    "atoti": {
     "widget": {
      "columnWidths": {
       "[Measures].[contributors.COUNT]": 140
      },
      "mapping": {
       "columns": [
        "ALL_MEASURES"
       ],
       "measures": [
        "[Measures].[contributors.COUNT]"
       ],
       "rows": [
        "[Products].[Product Tree].[ProductCategory]",
        "[Products].[ProductName].[ProductName]"
       ]
      },
      "name": "Displaying available member with contributors.COUNT",
      "query": {
       "mdx": "SELECT NON EMPTY Crossjoin(Hierarchize(Descendants({[Products].[Product Tree].[ALL].[AllMember]}, 1, SELF_AND_BEFORE)), Hierarchize(Descendants({[Products].[ProductName].[ALL].[AllMember]}, 1, SELF_AND_BEFORE))) ON ROWS, NON EMPTY {[Measures].[contributors.COUNT]} ON COLUMNS FROM [Order Cube] CELL PROPERTIES VALUE, FORMATTED_VALUE, BACK_COLOR, FORE_COLOR, FONT_FLAGS",
       "updateMode": "once"
      },
      "serverKey": "default",
      "widgetKey": "pivot-table"
     }
    },
    "tags": []
   },
   "outputs": [],
   "source": [
    "session.widget"
   ]
  },
  {
   "cell_type": "markdown",
   "id": "92e9665c-fe51-41dc-8afd-c5f419f3f09d",
   "metadata": {},
   "source": [
    "Let's try to understand why `Selling Price Per Unit` is not returning any value while its corresponding summation/mean has value.  "
   ]
  },
  {
   "cell_type": "code",
   "execution_count": null,
   "id": "3ef498a1-5c9e-44d7-afd6-3a769dcb0d95",
   "metadata": {
    "tags": []
   },
   "outputs": [],
   "source": [
    "session.tables.schema"
   ]
  },
  {
   "cell_type": "markdown",
   "id": "65bf0f07-37da-48d7-bc11-c3bb56a1f33e",
   "metadata": {},
   "source": [
    "From the cube schema, we can see that the keys `Order Id` and `Product Id` will help us identify unique rows within the table. Since `single_value` only returns a value when all the members have the same value, let's use the keys to investigate the underlying values.  \n",
    "\n",
    "From the previous visualization, we add `Order Id` to the query. We can skip `Product Id` since each (`ProductCategory`, `ProductName`) tuple has a unique `ProductId`."
   ]
  },
  {
   "cell_type": "code",
   "execution_count": null,
   "id": "4384138f-c046-43f3-bee3-1857bb371c19",
   "metadata": {
    "atoti": {
     "widget": {
      "columnWidths": {
       "[Measures].[Selling Price Per Unit.MEAN]": 182,
       "[Measures].[Selling Price Per Unit.SUM]": 174,
       "[Measures].[Selling Price Per Unit]": 144,
       "[Measures].[contributors.COUNT]": 140
      },
      "mapping": {
       "columns": [
        "ALL_MEASURES"
       ],
       "measures": [
        "[Measures].[contributors.COUNT]",
        "[Measures].[Selling Price Per Unit]",
        "[Measures].[Selling Price Per Unit.MEAN]",
        "[Measures].[Selling Price Per Unit.SUM]"
       ],
       "rows": [
        "[Products].[Product Tree].[ProductCategory]",
        "[Products].[ProductName].[ProductName] => [Orders].[Order Id].[Order Id]"
       ]
      },
      "name": "Displaying available member with contributors.COUNT",
      "query": {
       "mdx": "SELECT NON EMPTY Crossjoin(Hierarchize(Descendants({[Products].[Product Tree].[ALL].[AllMember]}, 1, SELF_AND_BEFORE)), Hierarchize(Descendants({[Products].[ProductName].[ALL].[AllMember]}, 1, SELF_AND_BEFORE))) ON ROWS, NON EMPTY {[Measures].[contributors.COUNT], [Measures].[Selling Price Per Unit], [Measures].[Selling Price Per Unit.MEAN], [Measures].[Selling Price Per Unit.SUM]} ON COLUMNS FROM [Order Cube] CELL PROPERTIES VALUE, FORMATTED_VALUE, BACK_COLOR, FORE_COLOR, FONT_FLAGS",
       "updateMode": "once"
      },
      "serverKey": "default",
      "style": {
       "areTooltipsVisible": false
      },
      "widgetKey": "pivot-table"
     }
    },
    "tags": []
   },
   "outputs": [],
   "source": [
    "session.widget"
   ]
  },
  {
   "cell_type": "markdown",
   "id": "3f68557c-035f-4815-b75d-6f36cb0e1bfb",
   "metadata": {},
   "source": [
    "**Single value**: We can see from the table above that the `Selling Price Per Unit` for each order under the `ProductName` is different, i.e. the same product sells at different prices in different orders. Hence, the single-value measure `Selling Price Per Unit` is empty for the `ProductName` level.  \n",
    "\n",
    "**Summation**: In most cases, we cannot use the summation `Selling Price Per Unit.SUM` at the subtotal level, e.g.:\n",
    "- Total profit = (Selling price - Unit Price) x Quantity Sold  \n",
    "\n",
    "**Average**: `Selling Price Per Unit.MEAN` is a good alternative to the single value if we just want the average and not the precise amount.\n",
    "\n",
    "<hr />\n",
    "\n",
    "💡 Instead of referring to the table keys, we can also perform a drillthrough on the measure to perform our investigation. \n",
    "Drillthrough allows us to see the underlying data and understand that the `Selling Price Per Unit` is different for product in different orders."
   ]
  },
  {
   "cell_type": "code",
   "execution_count": null,
   "id": "f70877b7-ed05-4699-8cb0-5e22177be1fe",
   "metadata": {
    "atoti": {
     "height": 284,
     "widget": {
      "columnWidths": {
       "Orders.Order Id": 119,
       "Orders.Quantity Sold": 149,
       "Orders.Selling Price Per Unit": 192,
       "Products.ProductCategory": 182,
       "Products.ProductId": 141,
       "Products.ProductName": 163,
       "Products.PurchasingPricePerUnit": 219
      },
      "filters": [
       {
        "dimensionName": "Measures",
        "hierarchyName": "Measures",
        "members": [
         [
          "Selling Price Per Unit.SUM"
         ]
        ],
        "type": "members"
       },
       {
        "dimensionName": "Products",
        "hierarchyName": "Product Tree",
        "isExclusionFilter": false,
        "members": [
         [
          "AllMember",
          "Beverages",
          "Chang"
         ]
        ],
        "type": "members"
       },
       {
        "dimensionName": "Orders",
        "hierarchyName": "Product Id",
        "isExclusionFilter": false,
        "members": [
         [
          "AllMember",
          "773"
         ]
        ],
        "type": "members"
       }
      ],
      "name": "Drillthrough",
      "query": {
       "mdx": "DRILLTHROUGH SELECT FROM [Order Cube] RETURN MemberValue([Orders.Order Id]), Caption([Orders.Order Id]), MemberValue([Orders.Quantity Sold]), Caption([Orders.Quantity Sold]), MemberValue([Orders.Selling Price Per Unit]), Caption([Orders.Selling Price Per Unit]), MemberValue([Products.ProductCategory]), Caption([Products.ProductCategory]), MemberValue([Products.ProductId]), Caption([Products.ProductId]), MemberValue([Products.ProductName]), Caption([Products.ProductName]), MemberValue([Products.PurchasingPricePerUnit]), Caption([Products.PurchasingPricePerUnit]), MemberValue([Orders.Order Date]), Caption([Orders.Order Date])",
       "updateMode": "once"
      },
      "serverKey": "default",
      "style": {
       "areTooltipsVisible": true,
       "measures": {
        "Orders.Order Id": {
         "justifyContent": "right"
        },
        "Orders.Quantity Sold": {
         "justifyContent": "right"
        }
       },
       "size": "large",
       "wrapHeaders": true
      },
      "widgetKey": "drillthrough-table"
     }
    },
    "tags": []
   },
   "outputs": [],
   "source": [
    "session.widget"
   ]
  },
  {
   "cell_type": "markdown",
   "id": "50acbf94-7eee-43ec-aaa7-98b31cce1ac5",
   "metadata": {},
   "source": [
    "In the later section, we will see how we can chain up measures such as the single-values to achieve our business metrics.  "
   ]
  },
  {
   "cell_type": "markdown",
   "id": "4617f9e0-5231-47d0-8ca7-4b30dd30d5a6",
   "metadata": {},
   "source": [
    "#### 6.2.2.2 Chain up measures"
   ]
  },
  {
   "cell_type": "markdown",
   "id": "18b3e3b9-2868-4381-b4a3-5eb1a3bd1da3",
   "metadata": {},
   "source": [
    "We can implement a formula by chaining up measures. E.g. suppose we want to compute the profit per unit:  \n",
    "\n",
    "$ProfitPerUnit = SellingPricePerUnit - PurchasePricePerUnit$  \n",
    "\n",
    "Below is how we formulate it in Atoti:"
   ]
  },
  {
   "cell_type": "code",
   "execution_count": null,
   "id": "bc737d4f-863e-43dc-aa79-4618c2968885",
   "metadata": {
    "tags": []
   },
   "outputs": [],
   "source": [
    "m[\"_ProfitPerUnit (sv)\"] = m[\"Selling Price Per Unit\"] - m[\"PurchasingPricePerUnit\"]\n",
    "m[\"_ProfitPerUnit (sum)\"] = (\n",
    "    m[\"Selling Price Per Unit.SUM\"] - m[\"PurchasingPricePerUnit.SUM\"]\n",
    ")\n",
    "m[\"_ProfitPerUnit (mean)\"] = (\n",
    "    m[\"Selling Price Per Unit.MEAN\"] - m[\"PurchasingPricePerUnit.MEAN\"]\n",
    ")"
   ]
  },
  {
   "cell_type": "markdown",
   "id": "c8f15ee9-e4d6-468c-8fe7-ebc9741ade4a",
   "metadata": {},
   "source": [
    "At the `Order Id` level, we get the same value for all 3 measures. However, we get different values for each of them at the sub-total and grandtotal levels. So, which is the correct measure we should use?"
   ]
  },
  {
   "cell_type": "code",
   "execution_count": null,
   "id": "27e7f68f-614a-45df-b0d7-fe2b7723fb6c",
   "metadata": {
    "atoti": {
     "widget": {
      "columnWidths": {
       "[Measures].[PurchasingPricePerUnit]": 159,
       "[Measures].[Selling Price Per Unit.SUM]": 161,
       "[Measures].[Selling Price Per Unit]": 144,
       "[Measures].[_ProfitPerUnit (mean)]": 148,
       "[Measures].[_ProfitPerUnit (sum)]": 141,
       "[Measures].[_ProfitPerUnit (sv)]": 130,
       "[Products].[Product Tree].[ProductCategory]": 122,
       "[Products].[Product Tree].[ProductName]": 227
      },
      "mapping": {
       "columns": [
        "ALL_MEASURES"
       ],
       "measures": [
        "[Measures].[Selling Price Per Unit]",
        "[Measures].[PurchasingPricePerUnit]",
        "[Measures].[_ProfitPerUnit (sv)]",
        "[Measures].[_ProfitPerUnit (sum)]",
        "[Measures].[_ProfitPerUnit (mean)]"
       ],
       "rows": [
        "[Products].[Product Tree].[ProductName] => [Orders].[Order Id].[Order Id]"
       ]
      },
      "query": {
       "mdx": "SELECT NON EMPTY {[Measures].[Selling Price Per Unit], [Measures].[PurchasingPricePerUnit], [Measures].[_ProfitPerUnit (sv)], [Measures].[_ProfitPerUnit (sum)], [Measures].[_ProfitPerUnit (mean)]} ON COLUMNS, NON EMPTY Hierarchize(Descendants({[Products].[Product Tree].[AllMember]}, 2, SELF_AND_BEFORE)) ON ROWS FROM [Order Cube] CELL PROPERTIES VALUE, FORMATTED_VALUE, BACK_COLOR, FORE_COLOR, FONT_FLAGS",
       "updateMode": "once"
      },
      "serverKey": "default",
      "widgetKey": "pivot-table"
     }
    },
    "tags": []
   },
   "outputs": [],
   "source": [
    "session.widget"
   ]
  },
  {
   "cell_type": "markdown",
   "id": "772abd6d-f750-43e7-b2db-5387648ee53f",
   "metadata": {},
   "source": [
    "It all depends on what KPI we want to achieve:  \n",
    "- `_ProfitPerUnit (mean)` makes the most sense as it gives us the average profit per unit for the product across the orders.  \n",
    "- `_ProfitPerUnit (sv)` makes no sense as `Selling Price Per Unit` is empty at the `ProductName` level, hence the difference is the `PurchasingPricePerUnit` itself.  \n",
    "- Although `_ProfitPerUnit (sum)` is computed correctly, the value itself does not give any useful insights.  \n",
    "\n",
    "Let's correct the computation of `_ProfitPerUnit (sv)` first in the next section before continuing with our measure creations.  "
   ]
  },
  {
   "cell_type": "markdown",
   "id": "ee1eaee9-7de6-4ccc-84b3-9bf976f11e73",
   "metadata": {},
   "source": [
    "#### 6.2.2.3 Prevent aggregation above a given level"
   ]
  },
  {
   "cell_type": "markdown",
   "id": "2292cd56-a357-4592-8f2f-9f426f3e6c00",
   "metadata": {},
   "source": [
    "With respect to our dataset, it is possible that `Selling Price Per Unit` is empty at the `ProductName` level.  \n",
    "\n",
    "The most logical fix we have in this case, is to prevent the computation of the measure at the sub-total or grandtotal levels, which in this case, are ProductName and ProductCategory levels. This is the same as saying that we want to prevent aggregation of the measures for any levels above the `Order Id` level.  \n",
    "\n",
    "We achieve this by simply checking if the `Order Id` level is available. We only return the measure value if `Order Id` is available. Otherwise, it's empty.  "
   ]
  },
  {
   "cell_type": "code",
   "execution_count": null,
   "id": "78fa0caf-d36d-4d91-bbb8-906fae638927",
   "metadata": {
    "tags": []
   },
   "outputs": [],
   "source": [
    "m[\"ProfitPerUnit (sv)\"] = tt.where(\n",
    "    l[\"Order Id\"].isnull(), m[\"Selling Price Per Unit\"] - m[\"PurchasingPricePerUnit\"]\n",
    ")"
   ]
  },
  {
   "cell_type": "code",
   "execution_count": null,
   "id": "aea68a5e-63ff-4859-8689-9f40238f7a00",
   "metadata": {
    "atoti": {
     "height": 404,
     "widget": {
      "columnWidths": {
       "[Measures].[ProfitPerUnit (sv)]": 123,
       "[Measures].[PurchasingPricePerUnit]": 146,
       "[Measures].[Selling Price Per Unit.SUM]": 179.10511779785156,
       "[Measures].[Selling Price Per Unit]": 148,
       "[Measures].[_ProfitPerUnit (mean)]": 148,
       "[Measures].[_ProfitPerUnit (sum)]": 141,
       "[Measures].[_ProfitPerUnit (sv)]": 130,
       "[Orders].[Order Id].[Order Id]": 71,
       "[Products].[Product Tree].[ProductCategory]": 122,
       "[Products].[Product Tree].[ProductName]": 194
      },
      "mapping": {
       "columns": [
        "ALL_MEASURES"
       ],
       "measures": [
        "[Measures].[_ProfitPerUnit (sum)]",
        "[Measures].[_ProfitPerUnit (mean)]",
        "[Measures].[_ProfitPerUnit (sv)]",
        "[Measures].[ProfitPerUnit (sv)]"
       ],
       "rows": [
        "[Products].[Product Tree].[ProductCategory] => [Products].[Product Tree].[ProductName] => [Orders].[Order Id].[Order Id]"
       ]
      },
      "name": "Order Id below the Product Tree level",
      "query": {
       "mdx": "SELECT NON EMPTY {[Measures].[_ProfitPerUnit (sum)], [Measures].[_ProfitPerUnit (mean)], [Measures].[_ProfitPerUnit (sv)], [Measures].[ProfitPerUnit (sv)]} ON COLUMNS, NON EMPTY Hierarchize(Union(Crossjoin(Union(Descendants({[Products].[Product Tree].[AllMember]}, 1, SELF_AND_BEFORE), Descendants({[Products].[Product Tree].[AllMember].[Beverages]}, [Products].[Product Tree].[ProductName])), [Orders].[Order Id].DefaultMember), Crossjoin([Products].[Product Tree].[ALL].[AllMember].[Beverages].[Chai], Hierarchize(Descendants({[Orders].[Order Id].[ALL].[AllMember]}, 1, SELF_AND_BEFORE))), Crossjoin([Products].[Product Tree].[ALL].[AllMember].[Beverages].[Chang], Hierarchize(Descendants({[Orders].[Order Id].[ALL].[AllMember]}, 1, SELF_AND_BEFORE))))) ON ROWS FROM [Order Cube] CELL PROPERTIES VALUE, FORMATTED_VALUE, BACK_COLOR, FORE_COLOR, FONT_FLAGS",
       "updateMode": "once"
      },
      "serverKey": "default",
      "widgetKey": "pivot-table"
     }
    },
    "tags": []
   },
   "outputs": [],
   "source": [
    "session.widget"
   ]
  },
  {
   "cell_type": "markdown",
   "id": "a678a0a5-54ca-4344-9d03-e0854bd57c3c",
   "metadata": {},
   "source": [
    "When it comes to designing a __User Defined Function (UDF)__ in the cube, the above illustrates a key principle of Atoti's on the fly computation capability. We can define if data should be aggregated depending on the presence of a queried level.  \n",
    "\n",
    "In the example above, there is no value for `Order Id` where we have the summarized levels of `ProductName` and `ProductCategory`.  \n",
    "\n",
    "<img src=\"https://data.atoti.io/atoti-academy/images/introduction/6_order_of_query.png\" width=\"950px\"/>  \n",
    "\n",
    "In order of querying, we say that `ProductCategory` and `ProductName` are __above__ `Order Id`.  \n",
    "\n",
    "We shifted `Order Id` in the below visualization to be above the `ProductCategory` and `ProductName`. Now, we can see that we are only missing the value of `ProfitPerUnit (sv)` at the grandtotal level. This is because that's the only level that doesn't have the `Order Id` value."
   ]
  },
  {
   "cell_type": "code",
   "execution_count": null,
   "id": "e6ae6669-02a3-4d5c-afef-ac3ddedbf0b4",
   "metadata": {
    "atoti": {
     "height": 404,
     "widget": {
      "columnWidths": {
       "[Measures].[ProfitPerUnit (sv)]": 113,
       "[Measures].[PurchasingPricePerUnit]": 146,
       "[Measures].[Selling Price Per Unit.SUM]": 179.10511779785156,
       "[Measures].[Selling Price Per Unit]": 148,
       "[Measures].[_ProfitPerUnit (mean)]": 148,
       "[Measures].[_ProfitPerUnit (sum)]": 141,
       "[Measures].[_ProfitPerUnit (sv)]": 130,
       "[Orders].[Order Id].[Order Id]": 71,
       "[Products].[Product Tree].[ProductCategory]": 122,
       "[Products].[Product Tree].[ProductName]": 139
      },
      "filters": [
       {
        "dimensionName": "Products",
        "hierarchyName": "ProductCategory",
        "isExclusionFilter": false,
        "members": [
         [
          "AllMember",
          "Beverages"
         ]
        ],
        "type": "members"
       }
      ],
      "mapping": {
       "columns": [
        "ALL_MEASURES"
       ],
       "measures": [
        "[Measures].[_ProfitPerUnit (sum)]",
        "[Measures].[_ProfitPerUnit (mean)]",
        "[Measures].[_ProfitPerUnit (sv)]",
        "[Measures].[ProfitPerUnit (sv)]"
       ],
       "rows": [
        "[Orders].[Order Id].[Order Id]",
        "[Products].[Product Tree].[ProductCategory] => [Products].[Product Tree].[ProductName]"
       ]
      },
      "name": "Order Id above Product Tree level",
      "query": {
       "mdx": "SELECT NON EMPTY {[Measures].[_ProfitPerUnit (sum)], [Measures].[_ProfitPerUnit (mean)], [Measures].[_ProfitPerUnit (sv)], [Measures].[ProfitPerUnit (sv)]} ON COLUMNS, NON EMPTY Hierarchize(Union(Crossjoin(Hierarchize(Descendants({[Orders].[Order Id].[AllMember]}, 1, SELF_AND_BEFORE)), Hierarchize(Descendants({[Products].[Product Tree].[AllMember]}, 1, SELF_AND_BEFORE))), Crossjoin([Orders].[Order Id].[AllMember].[6], Descendants({[Products].[Product Tree].[AllMember].[Beverages]}, [Products].[Product Tree].[ProductName])), Crossjoin([Orders].[Order Id].[AllMember].[18], Descendants({[Products].[Product Tree].[AllMember].[Beverages]}, [Products].[Product Tree].[ProductName])))) ON ROWS FROM [Order Cube] CELL PROPERTIES VALUE, FORMATTED_VALUE, BACK_COLOR, FORE_COLOR, FONT_FLAGS",
       "updateMode": "once"
      },
      "serverKey": "default",
      "widgetKey": "pivot-table"
     }
    },
    "tags": []
   },
   "outputs": [],
   "source": [
    "session.widget"
   ]
  },
  {
   "cell_type": "markdown",
   "id": "3aec5ee8-94ea-43b3-b924-6ef354c8b6ac",
   "metadata": {},
   "source": [
    "Similarly, by switching the `Product Tree` hierarchy to columns instead of rows, we see that the grandtotal value is missing for `_ProfitPerUnit (sv)`. Again, it's for the same reason: `Order Id` is empty and according to our measure definition, nothing is returned.  "
   ]
  },
  {
   "cell_type": "code",
   "execution_count": null,
   "id": "f4683dba-308e-4628-a9db-708280b4bf50",
   "metadata": {
    "atoti": {
     "height": 404,
     "widget": {
      "columnWidths": {
       "[Measures].[ProfitPerUnit (sv)]": 113,
       "[Measures].[PurchasingPricePerUnit]": 146,
       "[Measures].[Selling Price Per Unit.SUM]": 179.10511779785156,
       "[Measures].[Selling Price Per Unit]": 148,
       "[Measures].[_ProfitPerUnit (mean)]": 136,
       "[Measures].[_ProfitPerUnit (sum)]": 129,
       "[Measures].[_ProfitPerUnit (sv)]": 118,
       "[Products].[Product Tree].[AllMember],[Measures].[ProfitPerUnit (sv)]": 123,
       "[Products].[Product Tree].[AllMember],[Measures].[_ProfitPerUnit (mean)]": 148,
       "[Products].[Product Tree].[AllMember],[Measures].[_ProfitPerUnit (sum)]": 141,
       "[Products].[Product Tree].[AllMember].[Beverages],[Measures].[_ProfitPerUnit (mean)]": 148,
       "[Products].[Product Tree].[AllMember].[Beverages],[Measures].[_ProfitPerUnit (sum)]": 141,
       "[Products].[Product Tree].[AllMember].[Beverages],[Measures].[_ProfitPerUnit (sv)]": 126
      },
      "filters": [
       {
        "dimensionName": "Products",
        "hierarchyName": "ProductCategory",
        "isExclusionFilter": false,
        "members": [
         [
          "AllMember",
          "Beverages"
         ]
        ],
        "type": "members"
       }
      ],
      "mapping": {
       "columns": [
        "[Products].[Product Tree].[ProductCategory] => [Products].[Product Tree].[ProductName]",
        "ALL_MEASURES"
       ],
       "measures": [
        "[Measures].[_ProfitPerUnit (sum)]",
        "[Measures].[_ProfitPerUnit (mean)]",
        "[Measures].[_ProfitPerUnit (sv)]",
        "[Measures].[ProfitPerUnit (sv)]"
       ],
       "rows": [
        "[Orders].[Order Id].[Order Id]"
       ]
      },
      "name": "Order Id above Product Tree level",
      "query": {
       "mdx": "SELECT NON EMPTY Crossjoin(Hierarchize(Descendants({[Products].[Product Tree].[AllMember]}, 1, SELF_AND_BEFORE)), {[Measures].[_ProfitPerUnit (sum)], [Measures].[_ProfitPerUnit (mean)], [Measures].[_ProfitPerUnit (sv)], [Measures].[ProfitPerUnit (sv)]}) ON COLUMNS, NON EMPTY Hierarchize(Descendants({[Orders].[Order Id].[AllMember]}, 1, SELF_AND_BEFORE)) ON ROWS FROM [Order Cube] CELL PROPERTIES VALUE, FORMATTED_VALUE, BACK_COLOR, FORE_COLOR, FONT_FLAGS",
       "updateMode": "once"
      },
      "serverKey": "default",
      "widgetKey": "pivot-table"
     }
    },
    "editable": true,
    "slideshow": {
     "slide_type": ""
    },
    "tags": []
   },
   "outputs": [],
   "source": [
    "session.widget"
   ]
  },
  {
   "cell_type": "markdown",
   "id": "4fab9459-3d78-4aa9-993e-5b4694e161ca",
   "metadata": {},
   "source": [
    "With __aggregation on the fly__ capability, we are able to control the behavior of our measures depending on:  \n",
    "\n",
    "* What is being queried.\n",
    "* How measures are ordered in the query. "
   ]
  },
  {
   "cell_type": "markdown",
   "id": "8f3a7a84-6aee-42ac-b4cb-76b9dd187fb2",
   "metadata": {},
   "source": [
    "#### 6.2.2.4 Understand measure scope"
   ]
  },
  {
   "cell_type": "markdown",
   "id": "3a071e79-87db-4b15-8ac2-24680b1823fa",
   "metadata": {},
   "source": [
    "Let's recap on what we have learnt so far on measure definitions:  \n",
    "\n",
    "* It can minimally contain a constant value or simply a formula, for example:\n",
    "\n",
    "```python\n",
    "m[\"_ProfitPerUnit\"] = m[\"Selling Price Per Unit\"] - m[\"PurchasingPricePerUnit\"]\n",
    "```\n",
    "\n",
    "* Otherwise, it may contain functions such as the `where` condition we saw previously:  \n",
    "\n",
    "```python\n",
    "m[\"ProfitPerUnit\"] = tt.where(\n",
    "    l[\"Order Id\"].isnull(), m[\"Selling Price Per Unit\"] - m[\"PurchasingPricePerUnit\"]\n",
    ")\n",
    "```"
   ]
  },
  {
   "cell_type": "markdown",
   "id": "6a30653b-91bf-4b77-bb8d-007f61287341",
   "metadata": {},
   "source": [
    "In this section, we will see how we can further control the behavior of measures with the use of [`scope`](https://docs.atoti.io/latest/api/atoti.scope.html) and why we need such controls.\n",
    "\n",
    "We have three types of scopes:\n",
    "- [Origin scope](https://docs.atoti.io/latest/api/atoti.OriginScope.html#atoti.OriginScope): To start aggregation from the specified levels. \n",
    "- [Cumulative scope](https://docs.atoti.io/latest/api/atoti.CumulativeScope.html): Used when we want to perform a cumulative aggregation e.g. running total.\n",
    "- [Sibling scope](https://docs.atoti.io/latest/api/atoti.SiblingsScope.html): To perform aggregation with values from members within the same level. Suitable for achieving non-linear aggregation."
   ]
  },
  {
   "cell_type": "markdown",
   "id": "8cd9c6ff-70a5-466f-a935-27b7071853f0",
   "metadata": {},
   "source": [
    "##### 6.2.2.4.1 Origin scope"
   ]
  },
  {
   "cell_type": "markdown",
   "id": "4d2243a1-73c0-494f-88c6-3ceeb23ebc31",
   "metadata": {},
   "source": [
    "Given that the formula to compute sales is:\n",
    "\n",
    "$$ Profit = \\sum (ProfitPerUnit \\times QuantitySold) $$\n",
    "\n",
    "We can see there are actually two parts to the above formula:\n",
    "\n",
    "1. We multiply the `ProfitPerUnit` by `Quantity Sold`.\n",
    "2. We take the sum of the above multiplication.\n",
    " "
   ]
  },
  {
   "cell_type": "markdown",
   "id": "8a08b24f-1ed0-4893-b0ef-fae7dbdc3a16",
   "metadata": {},
   "source": [
    "__Applying formula without aggregation__\n",
    "\n",
    "Let's define the first part of the `Sales` measure by taking the multiple between the unit selling price and the quantity sold. "
   ]
  },
  {
   "cell_type": "code",
   "execution_count": null,
   "id": "13d1adec-e9f0-4ba3-a6b2-4197b270e6fe",
   "metadata": {
    "tags": []
   },
   "outputs": [],
   "source": [
    "m[\"Profit\"] = m[\"_ProfitPerUnit (sum)\"] * m[\"Quantity Sold.SUM\"]"
   ]
  },
  {
   "cell_type": "code",
   "execution_count": null,
   "id": "868d1daf-9e1a-499d-a8a6-ca606fb21ac5",
   "metadata": {
    "atoti": {
     "height": 321,
     "widget": {
      "columnWidths": {
       "[Measures].[Profit]": 107,
       "[Measures].[Quantity Sold.SUM]": 132,
       "[Measures].[Selling Price Per Unit.SUM]": 159,
       "[Measures].[_ProfitPerUnit (sum)]": 141,
       "[Orders].[Order Date].[Order Date]": 87,
       "[Orders].[Order Id].[Order Id]": 71,
       "[Products].[Product Tree].[ProductCategory]": 122,
       "[Products].[Product Tree].[ProductName]": 139
      },
      "mapping": {
       "columns": [
        "ALL_MEASURES"
       ],
       "measures": [
        "[Measures].[_ProfitPerUnit (sum)]",
        "[Measures].[Quantity Sold.SUM]",
        "[Measures].[Profit]"
       ],
       "rows": [
        "[Orders].[Order Date].[Order Date]",
        "[Products].[Product Tree].[ProductCategory] => [Products].[Product Tree].[ProductName] => [Orders].[Order Id].[Order Id]"
       ]
      },
      "query": {
       "mdx": "SELECT NON EMPTY Hierarchize(Union(Crossjoin(Hierarchize(Descendants({[Orders].[Order Date].[AllMember]}, 1, SELF_AND_BEFORE)), Hierarchize(Descendants({[Products].[Product Tree].[AllMember]}, 1, SELF_AND_BEFORE)), [Orders].[Order Id].DefaultMember), Crossjoin([Orders].[Order Date].[AllMember].[2019-02-15], Descendants({[Products].[Product Tree].[AllMember].[Beverages]}, [Products].[Product Tree].[ProductName]), [Orders].[Order Id].DefaultMember), Crossjoin([Orders].[Order Date].[AllMember].[2019-02-15], [Products].[Product Tree].[AllMember].[Beverages].[Guaraná Fantástica], Hierarchize(Descendants({[Orders].[Order Id].[AllMember]}, 1, SELF_AND_BEFORE))))) ON ROWS, NON EMPTY {[Measures].[_ProfitPerUnit (sum)], [Measures].[Quantity Sold.SUM], [Measures].[Profit]} ON COLUMNS FROM [Order Cube] CELL PROPERTIES VALUE, FORMATTED_VALUE, BACK_COLOR, FORE_COLOR, FONT_FLAGS",
       "updateMode": "once"
      },
      "serverKey": "default",
      "widgetKey": "pivot-table"
     }
    },
    "tags": []
   },
   "outputs": [],
   "source": [
    "session.widget"
   ]
  },
  {
   "cell_type": "markdown",
   "id": "c1afcaba-6f0e-4111-b838-b4dd925b05c4",
   "metadata": {},
   "source": [
    "With the measure definition above, we see that at every level, including the total levels, Atoti applies the formula of `m[\"_ProfitPerUnit (sum)\"] * m[\"Quantity Sold.SUM\"]`.  \n",
    "\n",
    "<img src=\"https://data.atoti.io/atoti-academy/images/introduction/6_incorrect_aggregation.png\"/>  \n",
    "\n",
    "Therefore, our sales at the total level for the product \"Guaraná Fantástica\" is `2,715.72` (result of 2.12 * 1,281). It should instead, be the summation of the sales for Order Id `338` and `352`, which equals to `1,091.29`."
   ]
  },
  {
   "cell_type": "markdown",
   "id": "797cdb51-35e8-437f-a33e-03cc95a09c70",
   "metadata": {},
   "source": [
    "__Applying aggregation to formula__  \n",
    "\n",
    "Let's work on the second part of the `Profit` measure — the aggregation; Atoti offers a range of [aggregation functions](https://docs.atoti.io/latest/api/atoti.agg.html) such as `long`, `short`, `min`, `max`, `prod`, `std` etc.  \n",
    "\n",
    "1. As per our formula, we will use the summation function [`tt.agg.sum`](https://docs.atoti.io/latest/api/atoti.agg.sum.html#atoti.agg.sum) to sum up the profit:  \n",
    "\n",
    "    `atoti.agg.sum(operand: NonConstantMeasureConvertible, /, *, scope: Scope) → MeasureDescription`\n",
    "\n",
    "2. We know that at `Order Id` level, we want to apply the multiplication between `m[\"_ProfitPerUnit (sum)\"]` and `m[\"Quantity Sold.SUM\"]`. Thereafter, we want to sum up the multiplication. Therefore, the scope `OriginScope` comes into play. It defines the level(s) from which we will start the aggregation.\n",
    "\n",
    "In our case, we will __start aggregating above the `Order Id` level__."
   ]
  },
  {
   "cell_type": "code",
   "execution_count": null,
   "id": "545f33a3-c07e-4906-aa2d-386ce4432fc3",
   "metadata": {
    "tags": []
   },
   "outputs": [],
   "source": [
    "m[\"Aggregated Profit\"] = tt.agg.sum(\n",
    "    m[\"Profit\"], scope=tt.OriginScope(levels={l[\"Order Id\"]})\n",
    ")"
   ]
  },
  {
   "cell_type": "code",
   "execution_count": null,
   "id": "fe119302-48e1-4f1f-bb16-cc56e7bfd386",
   "metadata": {
    "atoti": {
     "height": 321,
     "widget": {
      "columnWidths": {
       "[Measures].[Aggregated Profit]": 125,
       "[Measures].[Profit]": 106,
       "[Measures].[Quantity Sold.SUM]": 132,
       "[Measures].[Selling Price Per Unit.SUM]": 159,
       "[Measures].[_ProfitPerUnit (sum)]": 141,
       "[Orders].[Order Date].[Order Date]": 87,
       "[Products].[Product Tree].[ProductCategory]": 122,
       "[Products].[Product Tree].[ProductName]": 139
      },
      "mapping": {
       "columns": [
        "ALL_MEASURES"
       ],
       "measures": [
        "[Measures].[_ProfitPerUnit (sum)]",
        "[Measures].[Quantity Sold.SUM]",
        "[Measures].[Profit]",
        "[Measures].[Aggregated Profit]"
       ],
       "rows": [
        "[Orders].[Order Date].[Order Date]",
        "[Products].[Product Tree].[ProductCategory] => [Products].[Product Tree].[ProductName] => [Orders].[Order Id].[Order Id]"
       ]
      },
      "query": {
       "mdx": "SELECT NON EMPTY Hierarchize(Union(Crossjoin(Hierarchize(Descendants({[Orders].[Order Date].[AllMember]}, 1, SELF_AND_BEFORE)), Hierarchize(Descendants({[Products].[Product Tree].[AllMember]}, 1, SELF_AND_BEFORE))), Crossjoin([Orders].[Order Date].[ALL].[AllMember].[2019-02-15], Descendants({[Products].[Product Tree].[ALL].[AllMember].[Beverages]}, [Products].[Product Tree].[ProductName])))) ON ROWS, NON EMPTY {[Measures].[_ProfitPerUnit (sum)], [Measures].[Quantity Sold.SUM], [Measures].[Profit], [Measures].[Aggregated Profit]} ON COLUMNS FROM [Order Cube] CELL PROPERTIES VALUE, FORMATTED_VALUE, BACK_COLOR, FORE_COLOR, FONT_FLAGS",
       "updateMode": "once"
      },
      "serverKey": "default",
      "widgetKey": "pivot-table"
     }
    },
    "tags": []
   },
   "outputs": [],
   "source": [
    "session.widget"
   ]
  },
  {
   "cell_type": "markdown",
   "id": "6a1d6aff-5e17-4599-bb1a-4a782079f470",
   "metadata": {},
   "source": [
    "We can see that `Aggregated Profit` now has different behavior above the `Order Id` level. We get the correct computation of the profit value.  \n",
    "\n",
    "__Quick summary:__  \n",
    "\n",
    "By applying scope on `Order Id`, it means:  \n",
    "- For the queried level `Order Id` and whatever levels added after `Order Id`, the formula `m[\"_ProfitPerUnit (sum)\"] * m[\"Quantity Sold.SUM\"]` will be applied. \n",
    "- For any levels that were queried above the `Order Id` level, it will be the sum of the members of the level below.  \n",
    "\n",
    "<img src=\"https://data.atoti.io/atoti-academy/images/introduction/6_measure_scope.png\" width=\"800px\"/>"
   ]
  },
  {
   "cell_type": "markdown",
   "id": "2f01a35f-8b49-448d-9fc5-05f1b359d2bb",
   "metadata": {},
   "source": [
    "##### 📐Exercise  \n",
    "\n",
    "$$ Sales = \\sum (SellingPricePerUnit \\times QuantitySold) $$\n",
    "\n",
    "Given the above formula, create the following measures:\n",
    "- `Sales (sum)`, which uses the measure `Selling Price Per Unit.SUM` to multiply with `Quantity Sold.SUM`.\n",
    "- `Aggregated Sales (sum)`, which aggregates `Sales (sum)` against the scope `Order Id`.\n",
    "- `Sales (sv)`, which uses the measure `Selling Price Per Unit` to multiply with `Quantity Sold.SUM`.\n",
    "- `Aggregated Sales (sv)`, which aggregates `Sales (sv)` against the scope `Order Id`."
   ]
  },
  {
   "cell_type": "markdown",
   "id": "7e810ae5-0e71-4f52-b57d-a176f51dfa54",
   "metadata": {},
   "source": [
    "##### 📖 Solution  \n",
    "\n",
    "```python\n",
    "m[\"Sales (sum)\"] = m[\"Selling Price Per Unit.SUM\"] * m[\"Quantity Sold.SUM\"]\n",
    "m[\"Aggregated Sales (sum)\"] = tt.agg.sum(\n",
    "    m[\"Sales (sum)\"], scope=tt.OriginScope(levels={l[\"Order Id\"]})\n",
    ")\n",
    "\n",
    "m[\"Sales (sv)\"] = m[\"Selling Price Per Unit\"] * m[\"Quantity Sold.SUM\"]\n",
    "m[\"Aggregated Sales (sv)\"] = tt.agg.sum(\n",
    "    m[\"Sales (sv)\"], scope=tt.OriginScope(levels={l[\"Order Id\"]})\n",
    ")\n",
    "```\n",
    "\n",
    "__Difference between SUM vs Single-value measure__\n",
    "\n",
    "💡 `Selling Price Per Unit.SUM` gives us incorrect value at the total levels. Mathematically speaking, we cannot sum the unit selling price to achieve what we wanted. As a result, the `Sales (sum)` measure gives an incorrect total value when we multiplies the unit selling price with the quantity sold. This can be prevented by using the single value measure `Selling Price Per Unit` (refer to [6.2.2.2 Create measures from table](#6.2.2.1-Create-measures-from-table)).   \n",
    "\n",
    "By using the single value measure, we see that the `Selling Price Per Unit` is only available at the total level if all its member has the same value (e.g. for \"Chai\" and \"Côte de Blaye\"). In the case of \"Guaraná Fantástica\", its selling price varies between orders. Therefore, value is only displayed at the `Order Id` level. Sales total is empty in this case as the selling price is not available at the total level.  \n",
    "\n",
    "__However, do note that after applying aggregation with the correct scope, both returns the correct aggregated sales value. The interim `Sales` value is usually important when users want to investigate and understand the final values they see.__"
   ]
  },
  {
   "cell_type": "code",
   "execution_count": null,
   "id": "35cd25fb-8211-4637-93bb-df73136683df",
   "metadata": {
    "tags": []
   },
   "outputs": [],
   "source": [
    "m[\"Sales (sum)\"] = m[\"Selling Price Per Unit.SUM\"] * m[\"Quantity Sold.SUM\"]\n",
    "m[\"Aggregated Sales (sum)\"] = tt.agg.sum(\n",
    "    m[\"Sales (sum)\"], scope=tt.OriginScope(levels={l[\"Order Id\"]})\n",
    ")\n",
    "\n",
    "m[\"Sales (sv)\"] = m[\"Selling Price Per Unit\"] * m[\"Quantity Sold.SUM\"]\n",
    "m[\"Aggregated Sales (sv)\"] = tt.agg.sum(\n",
    "    m[\"Sales (sv)\"], scope=tt.OriginScope(levels={l[\"Order Id\"]})\n",
    ")"
   ]
  },
  {
   "cell_type": "code",
   "execution_count": null,
   "id": "80c56728-e510-4927-bbe4-f12a0149193c",
   "metadata": {
    "atoti": {
     "height": 321,
     "widget": {
      "columnWidths": {
       "[Measures].[Quantity Sold.SUM]": 132,
       "[Measures].[Sales (sum)]": 117,
       "[Measures].[Sales (sv)]": 83,
       "[Measures].[Selling Price Per Unit.SUM]": 174,
       "[Measures].[Selling Price Per Unit]": 144,
       "[Measures].[_ProfitPerUnit (sum)]": 129,
       "[Orders].[Order Date].[Order Date]": 87,
       "[Products].[Product Tree].[ProductCategory]": 122,
       "[Products].[Product Tree].[ProductName]": 139
      },
      "mapping": {
       "columns": [
        "ALL_MEASURES"
       ],
       "measures": [
        "[Measures].[Quantity Sold.SUM]",
        "[Measures].[Selling Price Per Unit.SUM]",
        "[Measures].[Sales (sum)]",
        "[Measures].[Selling Price Per Unit]",
        "[Measures].[Sales (sv)]"
       ],
       "rows": [
        "[Orders].[Order Date].[Order Date]",
        "[Products].[Product Tree].[ProductCategory] => [Products].[Product Tree].[ProductName] => [Orders].[Order Id].[Order Id]"
       ]
      },
      "query": {
       "mdx": "SELECT NON EMPTY Hierarchize(Union(Crossjoin(Hierarchize(Descendants({[Orders].[Order Date].[AllMember]}, 1, SELF_AND_BEFORE)), Hierarchize(Descendants({[Products].[Product Tree].[AllMember]}, 1, SELF_AND_BEFORE))), Crossjoin([Orders].[Order Date].[AllMember].[2019-02-15], Descendants({[Products].[Product Tree].[AllMember].[Beverages]}, [Products].[Product Tree].[ProductName])))) ON ROWS, NON EMPTY {[Measures].[Quantity Sold.SUM], [Measures].[Selling Price Per Unit.SUM], [Measures].[Sales (sum)], [Measures].[Selling Price Per Unit], [Measures].[Sales (sv)]} ON COLUMNS FROM [Order Cube] CELL PROPERTIES VALUE, FORMATTED_VALUE, BACK_COLOR, FORE_COLOR, FONT_FLAGS",
       "updateMode": "once"
      },
      "serverKey": "default",
      "widgetKey": "pivot-table"
     }
    },
    "tags": []
   },
   "outputs": [],
   "source": [
    "session.widget"
   ]
  },
  {
   "cell_type": "markdown",
   "id": "29021e30-6edd-4446-99b8-c8a8850d3325",
   "metadata": {
    "tags": []
   },
   "source": [
    "__Alternative aggregation function__\n",
    "\n",
    "💡 Instead of chaining up two measures, we can also make use of the aggregation function [`sum_product`](https://docs.atoti.io/latest/api/atoti.agg.sum_product.html)."
   ]
  },
  {
   "cell_type": "code",
   "execution_count": null,
   "id": "d91b353a-7846-4391-9755-be5d1fea0a16",
   "metadata": {
    "tags": []
   },
   "outputs": [],
   "source": [
    "m[\"ProdSum Proft\"] = tt.agg.sum_product(\n",
    "    m[\"_ProfitPerUnit (sum)\"],\n",
    "    m[\"Quantity Sold.SUM\"],\n",
    "    scope=tt.OriginScope(levels={l[\"Order Id\"]}),\n",
    ")"
   ]
  },
  {
   "cell_type": "code",
   "execution_count": null,
   "id": "b7e3e985-9455-42eb-b1e1-425f45a19030",
   "metadata": {
    "atoti": {
     "height": 321,
     "widget": {
      "columnWidths": {
       "[Measures].[Aggregated Profit]": 125,
       "[Measures].[ProdSum Proft]": 108,
       "[Measures].[Profit]": 106,
       "[Measures].[Quantity Sold.SUM]": 132,
       "[Measures].[Selling Price Per Unit.SUM]": 159,
       "[Measures].[_ProfitPerUnit (sum)]": 141,
       "[Orders].[Order Date].[Order Date]": 87,
       "[Products].[Product Tree].[ProductCategory]": 122,
       "[Products].[Product Tree].[ProductName]": 139
      },
      "mapping": {
       "columns": [
        "ALL_MEASURES"
       ],
       "measures": [
        "[Measures].[_ProfitPerUnit (sum)]",
        "[Measures].[Quantity Sold.SUM]",
        "[Measures].[Profit]",
        "[Measures].[Aggregated Profit]",
        "[Measures].[ProdSum Proft]"
       ],
       "rows": [
        "[Orders].[Order Date].[Order Date]",
        "[Products].[Product Tree].[ProductCategory] => [Products].[Product Tree].[ProductName] => [Orders].[Order Id].[Order Id]"
       ]
      },
      "query": {
       "mdx": "SELECT NON EMPTY Hierarchize(Union(Crossjoin(Hierarchize(Descendants({[Orders].[Order Date].[AllMember]}, 1, SELF_AND_BEFORE)), Hierarchize(Descendants({[Products].[Product Tree].[AllMember]}, 1, SELF_AND_BEFORE))), Crossjoin([Orders].[Order Date].[AllMember].[2019-02-15], Descendants({[Products].[Product Tree].[AllMember].[Beverages]}, [Products].[Product Tree].[ProductName])))) ON ROWS, NON EMPTY {[Measures].[_ProfitPerUnit (sum)], [Measures].[Quantity Sold.SUM], [Measures].[Profit], [Measures].[Aggregated Profit], [Measures].[ProdSum Proft]} ON COLUMNS FROM [Order Cube] CELL PROPERTIES VALUE, FORMATTED_VALUE, BACK_COLOR, FORE_COLOR, FONT_FLAGS",
       "updateMode": "once"
      },
      "serverKey": "default",
      "widgetKey": "pivot-table"
     }
    },
    "tags": []
   },
   "outputs": [],
   "source": [
    "session.widget"
   ]
  },
  {
   "cell_type": "markdown",
   "id": "4d7f9bcd-7614-48fa-ba92-aa68de64f4ed",
   "metadata": {},
   "source": [
    "##### 📐Exercise  \n",
    "\n",
    "The key value of multidimensional analysis to the ability to gather insights from different perspective. In the below visualization, expand on `Shipper Name` level and verify the correctness of the `Aggregated Profit` value.  "
   ]
  },
  {
   "cell_type": "code",
   "execution_count": null,
   "id": "a48336b9-5597-4eb6-8a4c-a68c34d0fe42",
   "metadata": {
    "atoti": {
     "height": 441,
     "widget": {
      "columnWidths": {
       "[Measures].[Aggregated Profit]": 125,
       "[Measures].[Profit]": 106,
       "[Measures].[Quantity Sold.SUM]": 132,
       "[Measures].[_ProfitPerUnit (sum)]": 141,
       "[Orders].[Order Date].[Order Date]": 87,
       "[Orders].[Shipper Name].[Shipper Name]": 114
      },
      "mapping": {
       "columns": [
        "ALL_MEASURES"
       ],
       "measures": [
        "[Measures].[_ProfitPerUnit (sum)]",
        "[Measures].[Quantity Sold.SUM]",
        "[Measures].[Profit]",
        "[Measures].[Aggregated Profit]"
       ],
       "rows": [
        "[Orders].[Order Date].[Order Date]",
        "[Orders].[Shipper Name].[Shipper Name] => [Orders].[Order Id].[Order Id]"
       ]
      },
      "name": "Sales by shipper",
      "query": {
       "mdx": "SELECT NON EMPTY Hierarchize(Crossjoin(Hierarchize(Descendants({[Orders].[Order Date].[AllMember]}, 1, SELF_AND_BEFORE)), Hierarchize(Descendants({[Orders].[Shipper Name].[AllMember]}, 1, SELF_AND_BEFORE)))) ON ROWS, NON EMPTY {[Measures].[_ProfitPerUnit (sum)], [Measures].[Quantity Sold.SUM], [Measures].[Profit], [Measures].[Aggregated Profit]} ON COLUMNS FROM [Order Cube] CELL PROPERTIES VALUE, FORMATTED_VALUE, BACK_COLOR, FORE_COLOR, FONT_FLAGS",
       "updateMode": "once"
      },
      "serverKey": "default",
      "widgetKey": "pivot-table"
     }
    },
    "tags": []
   },
   "outputs": [],
   "source": [
    "session.widget"
   ]
  },
  {
   "cell_type": "markdown",
   "id": "a91010e0-ac61-4049-99eb-f3a45b6aa610",
   "metadata": {},
   "source": [
    "##### 📖 Solution  \n",
    "\n",
    "The value `Profit` is computed correctly at the most granular level, which is the `Order Id` in this case. Since we are performing summation for any levels above `Order Id` as defined using the `OriginScope`, we are able to achieve the total sales by \"Shipper Name\".  \n",
    "\n",
    "Again, this demonstrates the aggregation on the fly capability of Atoti. Regardless of the levels that we are querying, we will sum up the `Profit` value from the most underlying `Order Id` level at query time.  "
   ]
  },
  {
   "cell_type": "markdown",
   "id": "fe8d75a3-5621-4694-be60-569950bac412",
   "metadata": {},
   "source": [
    "##### 6.2.2.4.2 Cumulative Scope"
   ]
  },
  {
   "cell_type": "markdown",
   "id": "183eb8c8-594d-42f9-9c8c-93f5ae993f28",
   "metadata": {},
   "source": [
    "In data analytics, it is common to compute running totals. In Atoti, we make use of [`CumulativeScope`](https://docs.atoti.io/latest/api/atoti.CumulativeScope.html) to achieve cumulative aggregations, or running totals:\n",
    "\n",
    "Let's see how we can get the running total across the `Order Date`."
   ]
  },
  {
   "cell_type": "code",
   "execution_count": null,
   "id": "817a220d-384a-49c1-a232-ad61254954fa",
   "metadata": {},
   "outputs": [],
   "source": [
    "m[\"Cumulative Profit\"] = tt.agg.sum(\n",
    "    m[\"Aggregated Profit\"],\n",
    "    scope=tt.CumulativeScope(level=l[(\"Orders\", \"Date Hierarchy\", \"Order Date\")]),\n",
    ")"
   ]
  },
  {
   "cell_type": "code",
   "execution_count": null,
   "id": "6001dabb-7fb7-4326-8468-65fe57389edb",
   "metadata": {
    "atoti": {
     "height": 295,
     "widget": {
      "columnWidths": {
       "[Measures].[Aggregated Profit (sv)]": 140,
       "[Measures].[Aggregated Profit]": 125,
       "[Measures].[Aggregated Sales (sv)]": 138,
       "[Measures].[Cumulative Profit (sv)]": 137,
       "[Measures].[Cumulative Profit]": 122,
       "[Measures].[Cumulative Sales (sv)]": 135,
       "[Orders].[Date Hierarchy].[Month]": 65,
       "[Orders].[Date Hierarchy].[Order Date]": 104,
       "[Orders].[Date Hierarchy].[Year]": 65
      },
      "mapping": {
       "columns": [
        "ALL_MEASURES"
       ],
       "measures": [
        "[Measures].[Aggregated Profit]",
        "[Measures].[Cumulative Profit]"
       ],
       "rows": [
        "[Orders].[Date Hierarchy].[Year] => [Orders].[Date Hierarchy].[Order Date]"
       ]
      },
      "query": {
       "mdx": "SELECT NON EMPTY Hierarchize(Union(Descendants({[Orders].[Date Hierarchy].[AllMember]}, 1, SELF_AND_BEFORE), Descendants({[Orders].[Date Hierarchy].[AllMember].[2019]}, [Orders].[Date Hierarchy].[Month]), Descendants({[Orders].[Date Hierarchy].[ALL].[AllMember].[2019].[02]}, [Orders].[Date Hierarchy].[Order Date]))) ON ROWS, NON EMPTY {[Measures].[Aggregated Profit], [Measures].[Cumulative Profit]} ON COLUMNS FROM [Order Cube] CELL PROPERTIES VALUE, FORMATTED_VALUE, BACK_COLOR, FORE_COLOR, FONT_FLAGS",
       "updateMode": "once"
      },
      "serverKey": "default",
      "widgetKey": "pivot-table"
     }
    },
    "tags": []
   },
   "outputs": [],
   "source": [
    "session.widget"
   ]
  },
  {
   "cell_type": "markdown",
   "id": "6393065f-ca6a-49a0-b08c-0b5cabb5e26b",
   "metadata": {},
   "source": [
    "We can verify that the `Cumulative Profit` measure is indeed cumulating the value of the `Aggregated Profit` measure:  \n",
    "\n",
    "<img src=\"https://data.atoti.io/atoti-academy/images/introduction/6_cumulative_totals.png\"/>"
   ]
  },
  {
   "cell_type": "markdown",
   "id": "bb07ea13-ea3f-4e9e-8bed-e7d334d533b8",
   "metadata": {},
   "source": [
    "Now, let's load data from another month to see what happens to our running total:"
   ]
  },
  {
   "cell_type": "code",
   "execution_count": null,
   "id": "ce3b7e38-54fe-4613-a7b9-12ca5ec69969",
   "metadata": {
    "tags": []
   },
   "outputs": [],
   "source": [
    "orders_tbl.load_csv(\n",
    "    \"s3://data.atoti.io/atoti-academy/data/Orders-adhoc.csv\",\n",
    "    columns={\n",
    "        \"OrderId\": \"Order Id\",\n",
    "        \"OrderDate\": \"Order Date\",\n",
    "        \"QuantitySold\": \"Quantity Sold\",\n",
    "        \"SellingPricePerUnit\": \"Selling Price Per Unit\",\n",
    "        \"ShipperName\": \"Shipper Name\",\n",
    "        \"ProductId\": \"Product Id\",\n",
    "    },\n",
    "    date_patterns={\"Order Date\": \"dd/M/yyyy\"},\n",
    ")"
   ]
  },
  {
   "cell_type": "markdown",
   "id": "b208982f-c04a-45ee-bf88-8e5a843a0cdf",
   "metadata": {},
   "source": [
    "Working with cumulative on multi-level hierarchies, we get our bucketed cumulative values.  \n",
    "\n",
    "We can see that the running total starts from the first order date `2019-02-15` and continues until the last date on `2019-03-18`. By collapsing the `Order Date` level from the `Month` level, we get a monthly cumulative total. In a similar manner, we also obtained our yearly cumulative total.  "
   ]
  },
  {
   "cell_type": "code",
   "execution_count": null,
   "id": "2092b7fa-6d08-4f5f-9903-32e1718b64ea",
   "metadata": {
    "atoti": {
     "height": 506,
     "widget": {
      "columnWidths": {
       "[Measures].[Aggregated Profit]": 125,
       "[Measures].[Aggregated Sales (sv)]": 138,
       "[Measures].[Cumulative Profit]": 122,
       "[Measures].[Cumulative Sales (sv)]": 135,
       "[Orders].[Date Hierarchy].[Month]": 65,
       "[Orders].[Date Hierarchy].[Order Date]": 104,
       "[Orders].[Date Hierarchy].[Year]": 65
      },
      "mapping": {
       "columns": [
        "ALL_MEASURES"
       ],
       "measures": [
        "[Measures].[Aggregated Profit]",
        "[Measures].[Cumulative Profit]"
       ],
       "rows": [
        "[Orders].[Date Hierarchy].[Year] => [Orders].[Date Hierarchy].[Order Date]"
       ]
      },
      "name": "Bucketed running total",
      "query": {
       "mdx": "SELECT NON EMPTY {[Measures].[Aggregated Profit], [Measures].[Cumulative Profit]} ON COLUMNS, NON EMPTY Hierarchize(Union(Descendants({[Orders].[Date Hierarchy].[AllMember]}, 1, SELF_AND_BEFORE), Descendants({[Orders].[Date Hierarchy].[AllMember].[2019]}, [Orders].[Date Hierarchy].[Month]), Descendants({[Orders].[Date Hierarchy].[AllMember].[2019].[03]}, [Orders].[Date Hierarchy].[Order Date]), Descendants({[Orders].[Date Hierarchy].[AllMember].[2019].[02]}, [Orders].[Date Hierarchy].[Order Date]))) ON ROWS FROM [Order Cube] CELL PROPERTIES VALUE, FORMATTED_VALUE, BACK_COLOR, FORE_COLOR, FONT_FLAGS",
       "updateMode": "once"
      },
      "serverKey": "default",
      "widgetKey": "pivot-table"
     }
    },
    "tags": []
   },
   "outputs": [],
   "source": [
    "session.widget"
   ]
  },
  {
   "cell_type": "markdown",
   "id": "4ab8b84b-9eaf-4120-a260-6edfb9ccb752",
   "metadata": {},
   "source": [
    "__Reset cumulative total__  \n",
    "\n",
    "We can reset the cumulative total for a certain level by using the `partitioning` parameter of the `CumulativeScope` function. Let's update the definition of our `Cumulative Profit` measure.  "
   ]
  },
  {
   "cell_type": "code",
   "execution_count": null,
   "id": "0c611b8f-0eff-4693-acaf-c006c5d9ea41",
   "metadata": {
    "tags": []
   },
   "outputs": [],
   "source": [
    "m[\"Cumulative Profit\"] = tt.agg.sum(\n",
    "    m[\"Aggregated Profit\"],\n",
    "    scope=tt.CumulativeScope(\n",
    "        level=l[(\"Orders\", \"Date Hierarchy\", \"Order Date\")], partitioning=l[\"Year\"]\n",
    "    ),\n",
    ")"
   ]
  },
  {
   "cell_type": "code",
   "execution_count": null,
   "id": "a7894842-02bd-4387-9adc-9a1d2134f2e4",
   "metadata": {
    "atoti": {
     "height": 232,
     "widget": {
      "columnWidths": {
       "[Measures].[Aggregated Profit (sv)]": 140,
       "[Measures].[Aggregated Profit]": 125,
       "[Measures].[Aggregated Sales (sv)]": 138,
       "[Measures].[Cumulative Profit (sv)]": 137,
       "[Measures].[Cumulative Profit]": 122,
       "[Measures].[Cumulative Sales (sv)]": 135,
       "[Orders].[Date Hierarchy].[Month]": 65,
       "[Orders].[Date Hierarchy].[Year]": 65
      },
      "mapping": {
       "columns": [
        "ALL_MEASURES"
       ],
       "measures": [
        "[Measures].[Aggregated Profit]",
        "[Measures].[Cumulative Profit]"
       ],
       "rows": [
        "[Orders].[Date Hierarchy].[Year] => [Orders].[Date Hierarchy].[Month]"
       ]
      },
      "name": "Cumulative total reset on yearly basis",
      "query": {
       "mdx": "SELECT NON EMPTY Hierarchize(Union(Descendants({[Orders].[Date Hierarchy].[AllMember]}, 1, SELF_AND_BEFORE), Descendants({[Orders].[Date Hierarchy].[AllMember].[2019]}, [Orders].[Date Hierarchy].[Month]))) ON ROWS, NON EMPTY {[Measures].[Aggregated Profit], [Measures].[Cumulative Profit]} ON COLUMNS FROM [Order Cube] CELL PROPERTIES VALUE, FORMATTED_VALUE, BACK_COLOR, FORE_COLOR, FONT_FLAGS",
       "updateMode": "once"
      },
      "serverKey": "default",
      "widgetKey": "pivot-table"
     }
    },
    "tags": []
   },
   "outputs": [],
   "source": [
    "session.widget"
   ]
  },
  {
   "cell_type": "markdown",
   "id": "bb5002d8-3a70-4080-8a27-780015692183",
   "metadata": {},
   "source": [
    "⚠️ We cumulate the `Aggregated Profit` along the level identified by `l[(\"Orders\", \"Date Hierarchy\", \"Order Date\")]`. As explained in earlier sections, even though both `l[(\"Orders\", \"Date Hierarchy\", \"Order Date\")]` and `l[(\"Orders\", \"Order Date\", \"Order Date\")]` originates from the same data column, they are treated as two different levels. Therefore, the measure definition for `Cumulative Profit` does not applies to the `l[(\"Orders\", \"Order Date\", \"Order Date\")]` level. \n",
    "\n",
    "<img src=\"https://data.atoti.io/atoti-academy/images/introduction/6_date_path.png\" />\n",
    "\n",
    "Without a surprise, we will not have any values for `Cumulative Profit` when we query it along the `l[(\"Orders\", \"Order Date\", \"Order Date\")]` as shown below:"
   ]
  },
  {
   "cell_type": "code",
   "execution_count": null,
   "id": "b7cc0cbb-ef06-4b86-8660-a27e8e15f004",
   "metadata": {
    "atoti": {
     "height": 271,
     "widget": {
      "columnWidths": {
       "[Measures].[Aggregated Sales (sv)]": 138,
       "[Measures].[Cumulative Sales (sv)]": 135
      },
      "mapping": {
       "columns": [
        "ALL_MEASURES"
       ],
       "measures": [
        "[Measures].[Aggregated Profit]",
        "[Measures].[Cumulative Profit]"
       ],
       "rows": [
        "[Orders].[Order Date].[Order Date]"
       ]
      },
      "name": "Cumulative profit not available",
      "query": {
       "mdx": "SELECT NON EMPTY Hierarchize(Descendants({[Orders].[Order Date].[AllMember]}, 1, SELF_AND_BEFORE)) ON ROWS, NON EMPTY {[Measures].[Aggregated Profit], [Measures].[Cumulative Profit]} ON COLUMNS FROM [Order Cube] CELL PROPERTIES VALUE, FORMATTED_VALUE, BACK_COLOR, FORE_COLOR, FONT_FLAGS",
       "updateMode": "once"
      },
      "serverKey": "default",
      "widgetKey": "pivot-table"
     }
    },
    "tags": []
   },
   "outputs": [],
   "source": [
    "session.widget"
   ]
  },
  {
   "cell_type": "markdown",
   "id": "4347f11b-70ea-4c9f-91ad-9fedee240804",
   "metadata": {},
   "source": [
    "Create a separate measure to accumulate along the `l[(\"Orders\", \"Order Date\", \"Order Date\")]` if necessary.  "
   ]
  },
  {
   "cell_type": "markdown",
   "id": "7640412e-985c-4bdb-b587-c574ac6f078f",
   "metadata": {},
   "source": [
    "##### 6.2.2.4.3 Sibling Scope"
   ]
  },
  {
   "cell_type": "markdown",
   "id": "623dc01f-4d1a-4792-af2c-0a4bd1075f20",
   "metadata": {},
   "source": [
    "There are times when we want to perform aggregation with members of the same levels. Members of the same level are referred to as siblings, as they have the same parent level. In such cases, we will use [`SiblingScope`](https://docs.atoti.io/latest/api/atoti.SiblingsScope.html) to do so.  \n",
    "\n",
    "Unlike the other two scope functions, `SiblingScope` works on hierarchies. In the below example, we look at the maximum profit within each level in the `Date Hierarchy`.  "
   ]
  },
  {
   "cell_type": "code",
   "execution_count": null,
   "id": "b643a13e-58c0-4e4a-a683-7bc379325a6d",
   "metadata": {
    "tags": []
   },
   "outputs": [],
   "source": [
    "m[\"Max profit\"] = tt.agg.max(\n",
    "    m[\"Aggregated Profit\"], scope=tt.SiblingsScope(hierarchy=h[\"Date Hierarchy\"])\n",
    ")"
   ]
  },
  {
   "cell_type": "code",
   "execution_count": null,
   "id": "4387fad8-0842-4d66-ad5f-5c90063b842c",
   "metadata": {
    "atoti": {
     "height": 448,
     "widget": {
      "columnWidths": {
       "[Measures].[Aggregated Profit (sv)]": 140,
       "[Measures].[Aggregated Profit]": 125,
       "[Measures].[Aggregated Sales (sv)]": 138,
       "[Measures].[Max profit]": 95,
       "[Orders].[Date Hierarchy].[Month]": 65,
       "[Orders].[Date Hierarchy].[Order Date]": 104,
       "[Orders].[Date Hierarchy].[Year]": 65
      },
      "mapping": {
       "columns": [
        "ALL_MEASURES"
       ],
       "measures": [
        "[Measures].[Aggregated Profit]",
        "[Measures].[Max profit]"
       ],
       "rows": [
        "[Orders].[Date Hierarchy].[Year] => [Orders].[Date Hierarchy].[Order Date]"
       ]
      },
      "query": {
       "mdx": "SELECT NON EMPTY Order(Hierarchize(Union(Descendants({[Orders].[Date Hierarchy].[AllMember]}, 1, SELF_AND_BEFORE), Descendants({[Orders].[Date Hierarchy].[AllMember].[2019]}, [Orders].[Date Hierarchy].[Month]), Descendants({[Orders].[Date Hierarchy].[AllMember].[2019].[02]}, [Orders].[Date Hierarchy].[Order Date]), Descendants({[Orders].[Date Hierarchy].[AllMember].[2019].[03]}, [Orders].[Date Hierarchy].[Order Date]))), [Measures].[Aggregated Sales (sv)], DESC) ON ROWS, NON EMPTY {[Measures].[Aggregated Profit], [Measures].[Max profit]} ON COLUMNS FROM [Order Cube] CELL PROPERTIES VALUE, FORMATTED_VALUE, BACK_COLOR, FORE_COLOR, FONT_FLAGS",
       "updateMode": "once"
      },
      "serverKey": "default",
      "widgetKey": "pivot-table"
     }
    },
    "tags": []
   },
   "outputs": [],
   "source": [
    "session.widget"
   ]
  },
  {
   "cell_type": "markdown",
   "id": "98ee7406-e4aa-4cb0-983c-aad9c7b05f23",
   "metadata": {},
   "source": [
    "A few key points:\n",
    "\n",
    "* At the `Order Date` level: We see that the maximum profit in Feb 2019 is `548,588.54` across the 4 dates. Likewise, in Mar 2019, the maximum sales is `548,588.54`.  \n",
    "* At the `Month` level: Comparing Feb and Mar in 2019, Feb has the higher profit value of `1,814,408.23`.  \n",
    "* At the `Year` level: Comparing the profit of 2019 and 2020, 2019 has the higher profit value of `3,616,995.21`.  \n",
    "\n",
    "At the grand total level, it displays the total profit value across `2019` and `2020`."
   ]
  },
  {
   "cell_type": "markdown",
   "id": "8c2a72b5-f389-45bc-930f-e1a96c7cae7f",
   "metadata": {},
   "source": [
    "##### 6.2.2.4.4 Multidimensional Aggregations & Scope"
   ]
  },
  {
   "cell_type": "markdown",
   "id": "a7ca8b07-d2a5-439a-bfb9-09f78dc106c3",
   "metadata": {},
   "source": [
    "Let's explore another use case where scope is extremely useful when we have different aggregation behavior for the same measure, along different dimensions. We will compute the historical average of sales profit where it is:  \n",
    "\n",
    "1. Sum of profits across products which we have previously computed `m[\"Aggregated Profit\"]`.\n",
    "2. Average across dates.\n",
    "\n",
    "The formula looks like this:  \n",
    "\n",
    "$$ \\frac{\\sum AggregatedProfit_{Products}}{DateCount}\\ $$\n",
    "\n",
    "In the below cell, we explore the [`atoti.agg.mean`](https://docs.atoti.io/latest/api/atoti.agg.mean.html#atoti-agg-mean) function across the two `Order Date` levels to see what happens."
   ]
  },
  {
   "cell_type": "code",
   "execution_count": null,
   "id": "53761293-6285-418d-bff6-1ea88c63d753",
   "metadata": {
    "tags": []
   },
   "outputs": [],
   "source": [
    "# \"Order Date\" hierarchy\n",
    "m[\"Average Daily Profit (od)\"] = tt.agg.mean(\n",
    "    m[\"Aggregated Profit\"],\n",
    "    scope=tt.OriginScope(levels={l[(\"Orders\", \"Order Date\", \"Order Date\")]}),\n",
    ")\n",
    "\n",
    "# \"Date Hierarchy\" hierarchy\n",
    "m[\"Average Daily Profit (dh)\"] = tt.agg.mean(\n",
    "    m[\"Aggregated Profit\"],\n",
    "    scope=tt.OriginScope(levels={l[(\"Orders\", \"Date Hierarchy\", \"Order Date\")]}),\n",
    ")"
   ]
  },
  {
   "cell_type": "markdown",
   "id": "5abc95f7-6b94-4bda-a9ee-1b0d63cae07d",
   "metadata": {},
   "source": [
    "In fact, the average daily profit gives the same results regardless of which `Order Date` level is indicated in the scope. This is because for any levels that we queried, it will take the average of the profit value at `Order Date` level and apply the average for the level above.  "
   ]
  },
  {
   "cell_type": "code",
   "execution_count": null,
   "id": "300616ab-70e0-43d4-af2d-4c28b471016c",
   "metadata": {
    "atoti": {
     "height": 472,
     "widget": {
      "columnWidths": {
       "[Measures].[Average Daily Profit (dh)]": 153,
       "[Measures].[Average Daily Profit (od)]": 153
      },
      "mapping": {
       "columns": [
        "ALL_MEASURES"
       ],
       "measures": [
        "[Measures].[Aggregated Profit]",
        "[Measures].[Average Daily Profit (od)]",
        "[Measures].[Average Daily Profit (dh)]"
       ],
       "rows": [
        "[Products].[ProductName].[ProductName] => [Orders].[Order Date].[Order Date] => [Orders].[Order Id].[Order Id]"
       ]
      },
      "name": "Average daily profit - Row-based representation",
      "query": {
       "mdx": "SELECT NON EMPTY Hierarchize(Union(Crossjoin(Descendants({[Products].[ProductName].[AllMember]}, 1, SELF_AND_BEFORE), [Orders].[Order Date].DefaultMember, [Orders].[Order Id].DefaultMember), Crossjoin([Products].[ProductName].[AllMember].[Boston Crab Meat], Hierarchize(Descendants({[Orders].[Order Date].[AllMember]}, 1, SELF_AND_BEFORE)), [Orders].[Order Id].DefaultMember), Crossjoin([Products].[ProductName].[AllMember].[Boston Crab Meat], [Orders].[Order Date].[AllMember].[2019-02-17], Hierarchize(Descendants({[Orders].[Order Id].[AllMember]}, 1, SELF_AND_BEFORE))))) ON ROWS, NON EMPTY {[Measures].[Aggregated Profit], [Measures].[Average Daily Profit (od)], [Measures].[Average Daily Profit (dh)]} ON COLUMNS FROM [Order Cube] CELL PROPERTIES VALUE, FORMATTED_VALUE, BACK_COLOR, FORE_COLOR, FONT_FLAGS",
       "updateMode": "once"
      },
      "serverKey": "default",
      "widgetKey": "pivot-table"
     }
    },
    "tags": []
   },
   "outputs": [],
   "source": [
    "session.widget"
   ]
  },
  {
   "cell_type": "markdown",
   "id": "3314c9d9-1019-498a-94ed-b969e7c5a7ee",
   "metadata": {},
   "source": [
    "In the above visualization, we have summation for the `Order Id` level. However, for the levels above `Order Id`, i.e. `Order Date` and `ProductName`, we have the mean aggregations. This may get confusing for some end-users.  \n",
    "\n",
    "A better way to represent our Pivot table when we have different aggregations across different dimensions is to have consistent aggregation on columns and rows where possible. In the visualization below, we sum up the Profits across the `Order Id` for each product (column-wise); and we take the average of the profit across the dates (row-wise).  "
   ]
  },
  {
   "cell_type": "code",
   "execution_count": null,
   "id": "993fc790-97df-4f2e-af99-fb5e1b92e06a",
   "metadata": {
    "atoti": {
     "height": 294,
     "widget": {
      "columnWidths": {
       "[Measures].[Aggregated Profit]": 119,
       "[Measures].[Average Daily Profit (od)]": 153,
       "[Measures].[Average Daily Profit (od)],[Orders].[Order Date].[AllMember]": 149,
       "[Orders].[Order Date].[AllMember],[Measures].[Aggregated Profit]": 119,
       "[Orders].[Order Date].[AllMember],[Measures].[Average Daily Profit (od)]": 153
      },
      "filters": [
       "{[Orders].[Order Date].[AllMember].[2019-02-15], [Orders].[Order Date].[AllMember].[2019-02-16], [Orders].[Order Date].[AllMember].[2019-02-17], [Orders].[Order Date].[AllMember].[2019-02-18]}"
      ],
      "mapping": {
       "columns": [
        "ALL_MEASURES",
        "[Orders].[Order Date].[Order Date]"
       ],
       "measures": [
        "[Measures].[Average Daily Profit (od)]"
       ],
       "rows": [
        "[Products].[ProductName].[ProductName] => [Orders].[Order Id].[Order Id]"
       ]
      },
      "name": "Dimension wise aggregation - summation on columns, mean on rows",
      "query": {
       "mdx": "SELECT NON EMPTY Hierarchize(Union(Crossjoin(Descendants({[Products].[ProductName].[AllMember]}, 1, SELF_AND_BEFORE), [Orders].[Order Id].DefaultMember), Crossjoin([Products].[ProductName].[AllMember].[Alice Mutton], Hierarchize(Descendants({[Orders].[Order Id].[AllMember]}, 1, SELF_AND_BEFORE))))) ON ROWS, NON EMPTY Crossjoin({[Measures].[Average Daily Profit (od)]}, Hierarchize(Descendants({[Orders].[Order Date].[AllMember]}, 1, SELF_AND_BEFORE))) ON COLUMNS FROM [Order Cube] CELL PROPERTIES VALUE, FORMATTED_VALUE, BACK_COLOR, FORE_COLOR, FONT_FLAGS",
       "updateMode": "once"
      },
      "serverKey": "default",
      "widgetKey": "pivot-table"
     }
    },
    "tags": []
   },
   "outputs": [],
   "source": [
    "session.widget"
   ]
  },
  {
   "cell_type": "markdown",
   "id": "481ab309-6245-46d8-8e8c-34811fa660f5",
   "metadata": {},
   "source": [
    "By toggling the view to have the `Order Date` on the columns, we can see that there are missing data points on the timeline. Now, the `mean` function takes the average over the number of members, which means that it only considers the days where there are orders accounted for. However, in our case, we needed the profit to be divided by the total number of days within the given period.  \n",
    "\n",
    "Let's see how we manage aggregation over sparse data in such cases. "
   ]
  },
  {
   "cell_type": "markdown",
   "id": "a6c1008a-fca2-40b6-853c-659d69bfbc61",
   "metadata": {},
   "source": [
    "##### 6.2.2.4.2 Managing total counts over sparse data"
   ]
  },
  {
   "cell_type": "markdown",
   "id": "37bf2707-ea5a-4eb2-aa54-7dbb0b04aa8a",
   "metadata": {},
   "source": [
    "Sometimes, it's all about creativity. There are many ways to chain up different measures to achieve the results we wanted, for example:\n",
    "\n",
    "1. Count the number of days. Then we divide profit by the total number of days.  \n",
    "2. We force a value, e.g. 0, for each day in the period and take the mean of the profit.   "
   ]
  },
  {
   "cell_type": "markdown",
   "id": "fdae9ac7-3188-4dca-931c-e2f5f5cc4eb6",
   "metadata": {},
   "source": [
    "__1. Profit / Day count method__\n",
    "\n",
    "Let's look at how we can achieve the first method.  \n",
    "\n",
    "By making use of the aggregate function [`atoti.agg.count_distinct`](https://docs.atoti.io/latest/api/atoti.agg.count_distinct.html#atoti-agg-count-distinct), we can count the number of distinct days in the queried levels.  "
   ]
  },
  {
   "cell_type": "code",
   "execution_count": null,
   "id": "3ca83b00-9bcf-423e-8923-d4f0a9f42fc2",
   "metadata": {
    "tags": []
   },
   "outputs": [],
   "source": [
    "m[\"Total Days\"] = tt.agg.count_distinct(orders_tbl[\"Order Date\"])"
   ]
  },
  {
   "cell_type": "markdown",
   "id": "f1b922d9-79b1-48b1-80e9-2366e925a1d6",
   "metadata": {},
   "source": [
    "However, what we want is the distinct date count across all the levels, which is the grand total of our `distinct_count` measure. Therefore, we make use of the function [`atoti.total`](https://docs.atoti.io/latest/api/atoti.total.html#atoti-total) to apply the grand total value to the level below, i.e. the `ProductName` level.   \n",
    "\n",
    "However, some products may not be sold on a given day. So, when we query these products, the days counted will be lesser than the span of days we are looking at across all products. What we want is in fact, the number of distinct dates where we have at least an order placed, regardless of the products. If we look at a product level, we would count less days these products, compared to the actual number of days, counted across all products. Here, what we want is the distinct date count across all the levels, which is the grand total of our distinct_count measure."
   ]
  },
  {
   "cell_type": "code",
   "execution_count": null,
   "id": "6a5f506d-90e4-47bc-b91b-2950c9e40f9d",
   "metadata": {
    "tags": []
   },
   "outputs": [],
   "source": [
    "m[\"Total Day Count\"] = tt.total(m[\"Total Days\"], h[\"ProductName\"])"
   ]
  },
  {
   "cell_type": "markdown",
   "id": "5e0e74f3-21b2-4ad9-9547-33cc2be44696",
   "metadata": {},
   "source": [
    "Finally, we divide the profit over the total day count.  "
   ]
  },
  {
   "cell_type": "code",
   "execution_count": null,
   "id": "fe5f75a2-cc68-41be-9a9d-d5969b2ec039",
   "metadata": {
    "tags": []
   },
   "outputs": [],
   "source": [
    "# average daily profit computed using the day count method\n",
    "m[\"Average Daily Profit (dc)\"] = m[\"Aggregated Profit\"] / m[\"Total Day Count\"]"
   ]
  },
  {
   "cell_type": "code",
   "execution_count": null,
   "id": "d55e3009-7500-47c9-8de0-4777013e85ef",
   "metadata": {
    "atoti": {
     "height": 373,
     "widget": {
      "columnWidths": {
       "[Measures].[Historical Daily Profit]": 135,
       "[Orders].[Order Date].[AllMember],[Measures].[Aggregated Profit]": 125,
       "[Orders].[Order Date].[AllMember],[Measures].[Average Daily Profit (dc)]": 163,
       "[Orders].[Order Date].[AllMember],[Measures].[Historical Daily Profit]": 135,
       "[Orders].[Order Date].[AllMember],[Measures].[Total Day Count]": 115,
       "[Orders].[Order Date].[AllMember],[Measures].[Total Days]": 84,
       "[Orders].[Order Date].[AllMember].[2019-02-15],[Measures].[Aggregated Profit]": 125,
       "[Orders].[Order Date].[AllMember].[2019-02-15],[Measures].[Average Daily Profit (dc)]": 163,
       "[Orders].[Order Date].[AllMember].[2019-02-15],[Measures].[Total Day Count]": 115,
       "[Orders].[Order Date].[AllMember].[2019-02-15],[Measures].[Total Days]": 92,
       "[Orders].[Order Date].[AllMember].[2019-02-16],[Measures].[Aggregated Profit]": 125,
       "[Orders].[Order Date].[AllMember].[2019-02-16],[Measures].[Average Daily Profit (dc)]": 163,
       "[Orders].[Order Date].[AllMember].[2019-02-16],[Measures].[Total Day Count]": 115,
       "[Orders].[Order Date].[AllMember].[2019-02-16],[Measures].[Total Days]": 92,
       "[Orders].[Order Date].[AllMember].[2019-02-17],[Measures].[Aggregated Profit]": 125,
       "[Orders].[Order Date].[AllMember].[2019-02-17],[Measures].[Average Daily Profit (dc)]": 163,
       "[Orders].[Order Date].[AllMember].[2019-02-17],[Measures].[Total Day Count]": 115,
       "[Orders].[Order Date].[AllMember].[2019-02-17],[Measures].[Total Days]": 92,
       "[Orders].[Order Date].[AllMember].[2019-02-18],[Measures].[Aggregated Profit]": 125,
       "[Orders].[Order Date].[AllMember].[2019-02-18],[Measures].[Average Daily Profit (dc)]": 163,
       "[Orders].[Order Date].[AllMember].[2019-02-18],[Measures].[Total Day Count]": 115,
       "[Orders].[Order Date].[AllMember].[2019-02-18],[Measures].[Total Days]": 92,
       "[Orders].[Order Date].[AllMember].[2019-03-15],[Measures].[Aggregated Profit]": 125,
       "[Orders].[Order Date].[AllMember].[2019-03-15],[Measures].[Average Daily Profit (dc)]": 163,
       "[Orders].[Order Date].[AllMember].[2019-03-15],[Measures].[Total Day Count]": 115,
       "[Orders].[Order Date].[AllMember].[2019-03-15],[Measures].[Total Days]": 92,
       "[Orders].[Order Date].[AllMember].[2019-03-16],[Measures].[Aggregated Profit]": 125,
       "[Orders].[Order Date].[AllMember].[2019-03-16],[Measures].[Average Daily Profit (dc)]": 163,
       "[Orders].[Order Date].[AllMember].[2019-03-16],[Measures].[Total Day Count]": 115,
       "[Orders].[Order Date].[AllMember].[2019-03-16],[Measures].[Total Days]": 93,
       "[Orders].[Order Date].[AllMember].[2019-03-17],[Measures].[Aggregated Profit]": 125,
       "[Orders].[Order Date].[AllMember].[2019-03-17],[Measures].[Average Daily Profit (dc)]": 163,
       "[Orders].[Order Date].[AllMember].[2019-03-17],[Measures].[Total Day Count]": 115,
       "[Orders].[Order Date].[AllMember].[2019-03-17],[Measures].[Total Days]": 92,
       "[Orders].[Order Date].[AllMember].[2019-03-18],[Measures].[Aggregated Profit]": 125,
       "[Orders].[Order Date].[AllMember].[2019-03-18],[Measures].[Average Daily Profit (dc)]": 163,
       "[Orders].[Order Date].[AllMember].[2019-03-18],[Measures].[Total Day Count]": 115,
       "[Orders].[Order Date].[AllMember].[2019-03-18],[Measures].[Total Days]": 93,
       "[Orders].[Order Date].[AllMember].[2020-01-15],[Measures].[Aggregated Profit]": 125,
       "[Orders].[Order Date].[AllMember].[2020-01-15],[Measures].[Average Daily Profit (dc)]": 163,
       "[Orders].[Order Date].[AllMember].[2020-01-15],[Measures].[Total Day Count]": 115,
       "[Orders].[Order Date].[AllMember].[2020-01-15],[Measures].[Total Days]": 92,
       "[Orders].[Order Date].[AllMember].[2020-01-16],[Measures].[Aggregated Profit]": 125,
       "[Orders].[Order Date].[AllMember].[2020-01-16],[Measures].[Average Daily Profit (dc)]": 163,
       "[Orders].[Order Date].[AllMember].[2020-01-16],[Measures].[Total Day Count]": 115,
       "[Orders].[Order Date].[AllMember].[2020-01-16],[Measures].[Total Days]": 92,
       "[Orders].[Order Date].[AllMember].[2020-01-17],[Measures].[Aggregated Profit]": 125,
       "[Orders].[Order Date].[AllMember].[2020-01-17],[Measures].[Average Daily Profit (dc)]": 163,
       "[Orders].[Order Date].[AllMember].[2020-01-17],[Measures].[Total Day Count]": 115,
       "[Orders].[Order Date].[AllMember].[2020-01-17],[Measures].[Total Days]": 91,
       "[Orders].[Order Date].[AllMember].[2020-01-18],[Measures].[Aggregated Profit]": 125,
       "[Orders].[Order Date].[AllMember].[2020-01-18],[Measures].[Average Daily Profit (dc)]": 163,
       "[Orders].[Order Date].[AllMember].[2020-01-18],[Measures].[Total Day Count]": 115,
       "[Orders].[Order Date].[AllMember].[2020-01-18],[Measures].[Total Days]": 92,
       "[Products].[ProductName].[ProductName]": 209
      },
      "mapping": {
       "columns": [
        "[Orders].[Order Date].[Order Date]",
        "ALL_MEASURES"
       ],
       "measures": [
        "[Measures].[Total Days]",
        "[Measures].[Total Day Count]",
        "[Measures].[Aggregated Profit]",
        "[Measures].[Average Daily Profit (dc)]"
       ],
       "rows": [
        "[Products].[ProductName].[ProductName]"
       ]
      },
      "name": "Historical Daily Profit",
      "query": {
       "mdx": "SELECT NON EMPTY Crossjoin(Hierarchize(Descendants({[Orders].[Order Date].[AllMember]}, 1, SELF_AND_BEFORE)), {[Measures].[Total Days], [Measures].[Total Day Count], [Measures].[Aggregated Profit], [Measures].[Average Daily Profit (dc)]}) ON COLUMNS, NON EMPTY Hierarchize(Descendants({[Products].[ProductName].[AllMember]}, 1, SELF_AND_BEFORE)) ON ROWS FROM [Order Cube] CELL PROPERTIES VALUE, FORMATTED_VALUE, BACK_COLOR, FORE_COLOR, FONT_FLAGS",
       "updateMode": "once"
      },
      "serverKey": "default",
      "widgetKey": "pivot-table"
     }
    },
    "tags": []
   },
   "outputs": [],
   "source": [
    "session.widget"
   ]
  },
  {
   "cell_type": "markdown",
   "id": "b2862261-0e8d-4382-8042-6337f5f5180b",
   "metadata": {},
   "source": [
    "This method works even when we use the multi-level `Date Hierarchy` to look at the average monthly or yearly profit.  "
   ]
  },
  {
   "cell_type": "code",
   "execution_count": null,
   "id": "7f8117e3-2459-4cd1-b23b-653f64716d4d",
   "metadata": {
    "atoti": {
     "height": 373,
     "widget": {
      "columnWidths": {
       "[Measures].[Historical Daily Profit]": 135,
       "[Orders].[Date Hierarchy].[AllMember],[Measures].[Aggregated Profit]": 125,
       "[Orders].[Date Hierarchy].[AllMember],[Measures].[Average Daily Profit (dc)]": 163,
       "[Orders].[Date Hierarchy].[AllMember],[Measures].[Total Day Count]": 115,
       "[Orders].[Date Hierarchy].[AllMember],[Measures].[Total Days]": 84,
       "[Orders].[Date Hierarchy].[AllMember].[2019],[Measures].[Aggregated Profit]": 125,
       "[Orders].[Date Hierarchy].[AllMember].[2019],[Measures].[Average Daily Profit (dc)]": 163,
       "[Orders].[Date Hierarchy].[AllMember].[2019],[Measures].[Total Day Count]": 115,
       "[Orders].[Date Hierarchy].[AllMember].[2019],[Measures].[Total Days]": 84,
       "[Orders].[Date Hierarchy].[AllMember].[2019].[02],[Measures].[Aggregated Profit]": 125,
       "[Orders].[Date Hierarchy].[AllMember].[2019].[02],[Measures].[Average Daily Profit (dc)]": 163,
       "[Orders].[Date Hierarchy].[AllMember].[2019].[02],[Measures].[Total Day Count]": 115,
       "[Orders].[Date Hierarchy].[AllMember].[2019].[02],[Measures].[Total Days]": 84,
       "[Orders].[Date Hierarchy].[AllMember].[2019].[02].[2019-02-15],[Measures].[Aggregated Profit]": 125,
       "[Orders].[Date Hierarchy].[AllMember].[2019].[02].[2019-02-15],[Measures].[Average Daily Profit (dc)]": 163,
       "[Orders].[Date Hierarchy].[AllMember].[2019].[02].[2019-02-15],[Measures].[Total Day Count]": 115,
       "[Orders].[Date Hierarchy].[AllMember].[2019].[02].[2019-02-15],[Measures].[Total Days]": 92,
       "[Orders].[Date Hierarchy].[AllMember].[2019].[02].[2019-02-16],[Measures].[Aggregated Profit]": 125,
       "[Orders].[Date Hierarchy].[AllMember].[2019].[02].[2019-02-16],[Measures].[Average Daily Profit (dc)]": 163,
       "[Orders].[Date Hierarchy].[AllMember].[2019].[02].[2019-02-16],[Measures].[Total Day Count]": 115,
       "[Orders].[Date Hierarchy].[AllMember].[2019].[02].[2019-02-16],[Measures].[Total Days]": 92,
       "[Orders].[Date Hierarchy].[AllMember].[2019].[02].[2019-02-17],[Measures].[Aggregated Profit]": 125,
       "[Orders].[Date Hierarchy].[AllMember].[2019].[02].[2019-02-17],[Measures].[Average Daily Profit (dc)]": 163,
       "[Orders].[Date Hierarchy].[AllMember].[2019].[02].[2019-02-17],[Measures].[Total Day Count]": 115,
       "[Orders].[Date Hierarchy].[AllMember].[2019].[02].[2019-02-17],[Measures].[Total Days]": 92,
       "[Orders].[Date Hierarchy].[AllMember].[2019].[02].[2019-02-18],[Measures].[Aggregated Profit]": 125,
       "[Orders].[Date Hierarchy].[AllMember].[2019].[02].[2019-02-18],[Measures].[Average Daily Profit (dc)]": 163,
       "[Orders].[Date Hierarchy].[AllMember].[2019].[02].[2019-02-18],[Measures].[Total Day Count]": 115,
       "[Orders].[Date Hierarchy].[AllMember].[2019].[02].[2019-02-18],[Measures].[Total Days]": 92,
       "[Orders].[Date Hierarchy].[AllMember].[2019].[03],[Measures].[Aggregated Profit]": 125,
       "[Orders].[Date Hierarchy].[AllMember].[2019].[03],[Measures].[Average Daily Profit (dc)]": 163,
       "[Orders].[Date Hierarchy].[AllMember].[2019].[03],[Measures].[Total Day Count]": 115,
       "[Orders].[Date Hierarchy].[AllMember].[2019].[03],[Measures].[Total Days]": 84,
       "[Orders].[Date Hierarchy].[AllMember].[2020],[Measures].[Aggregated Profit]": 125,
       "[Orders].[Date Hierarchy].[AllMember].[2020],[Measures].[Average Daily Profit (dc)]": 163,
       "[Orders].[Date Hierarchy].[AllMember].[2020],[Measures].[Total Day Count]": 115,
       "[Orders].[Date Hierarchy].[AllMember].[2020],[Measures].[Total Days]": 84,
       "[Orders].[Order Date].[AllMember],[Measures].[Average Daily Profit (dc)]": 152,
       "[Orders].[Order Date].[AllMember],[Measures].[Historical Daily Profit]": 135,
       "[Products].[ProductName].[ProductName]": 209
      },
      "mapping": {
       "columns": [
        "[Orders].[Date Hierarchy].[Year] => [Orders].[Date Hierarchy].[Order Date]",
        "ALL_MEASURES"
       ],
       "measures": [
        "[Measures].[Total Days]",
        "[Measures].[Total Day Count]",
        "[Measures].[Aggregated Profit]",
        "[Measures].[Average Daily Profit (dc)]"
       ],
       "rows": [
        "[Products].[ProductName].[ProductName]"
       ]
      },
      "name": "Historical Daily Profit",
      "query": {
       "mdx": "SELECT NON EMPTY Crossjoin(Hierarchize(Union(Descendants({[Orders].[Date Hierarchy].[AllMember]}, 1, SELF_AND_BEFORE), Descendants({[Orders].[Date Hierarchy].[AllMember].[2019]}, [Orders].[Date Hierarchy].[Month]), Descendants({[Orders].[Date Hierarchy].[AllMember].[2019].[02]}, [Orders].[Date Hierarchy].[Order Date]))), {[Measures].[Total Days], [Measures].[Total Day Count], [Measures].[Aggregated Profit], [Measures].[Average Daily Profit (dc)]}) ON COLUMNS, NON EMPTY Hierarchize(Descendants({[Products].[ProductName].[AllMember]}, 1, SELF_AND_BEFORE)) ON ROWS FROM [Order Cube] CELL PROPERTIES VALUE, FORMATTED_VALUE, BACK_COLOR, FORE_COLOR, FONT_FLAGS",
       "updateMode": "once"
      },
      "serverKey": "default",
      "widgetKey": "pivot-table"
     }
    },
    "tags": []
   },
   "outputs": [],
   "source": [
    "session.widget"
   ]
  },
  {
   "cell_type": "markdown",
   "id": "8a266de0-b73a-430b-9d13-6184d58dbe04",
   "metadata": {},
   "source": [
    "__2. Force zero value for days without orders__  \n",
    "\n",
    "In this method, we will make use of the property of [`atoti.CumulativeScope`](https://docs.atoti.io/latest/api/atoti.CumulativeScope.html#atoti-cumulativescope) to ensure there is a value for all members of the level. We will build a few measures to show the property of the `dense` and `window` parameters from the `atoti.CumulativeScope` function.\n",
    "\n",
    "Previously, we learned how we can use `atoti.CumulativeScope` to compute running total. The function has a `dense` parameter which generate values for all the members of the level. For members with no underlying values, it will repeat the value of the previous member."
   ]
  },
  {
   "cell_type": "code",
   "execution_count": null,
   "id": "72de71ee-6b62-45a1-81c8-4d1fd01c6765",
   "metadata": {
    "tags": []
   },
   "outputs": [],
   "source": [
    "m[\"Cumulative profit (dense)\"] = tt.agg.sum(\n",
    "    m[\"Aggregated Profit\"],\n",
    "    scope=tt.CumulativeScope(\n",
    "        level=l[(\"Orders\", \"Order Date\", \"Order Date\")], dense=True\n",
    "    ),\n",
    ")"
   ]
  },
  {
   "cell_type": "code",
   "execution_count": null,
   "id": "65767bc3-0665-425e-be44-4c4d9639bab2",
   "metadata": {
    "atoti": {
     "height": 298,
     "widget": {
      "columnWidths": {
       "[Measures].[Aggregated Profit]": 125,
       "[Measures].[Average Daily Profit (cumulative)]": 197,
       "[Measures].[Average Daily Profit (dh)]": 153,
       "[Measures].[Cumulative profit (dense winSize 0)]": 210,
       "[Measures].[Cumulative profit (dense)]": 169,
       "[Orders].[Order Date].[Order Date]": 87,
       "[Products].[ProductName].[ProductName]": 209
      },
      "filters": [
       "[Products].[ProductName].[AllMember].[Alice Mutton]"
      ],
      "mapping": {
       "columns": [
        "ALL_MEASURES"
       ],
       "measures": [
        "[Measures].[Aggregated Profit]",
        "[Measures].[Cumulative profit (dense)]"
       ],
       "rows": [
        "[Products].[ProductName].[ProductName]",
        "[Orders].[Order Date].[Order Date]"
       ]
      },
      "name": "Cumulative aggregation with dense set to True",
      "query": {
       "mdx": "SELECT NON EMPTY {[Measures].[Aggregated Profit], [Measures].[Cumulative profit (dense)]} ON COLUMNS, NON EMPTY Crossjoin(Hierarchize(Descendants({[Products].[ProductName].[AllMember]}, 1, SELF_AND_BEFORE)), Hierarchize(Descendants({[Orders].[Order Date].[AllMember]}, 1, SELF_AND_BEFORE))) ON ROWS FROM [Order Cube] CELL PROPERTIES VALUE, FORMATTED_VALUE, BACK_COLOR, FORE_COLOR, FONT_FLAGS",
       "updateMode": "once"
      },
      "serverKey": "default",
      "widgetKey": "pivot-table"
     }
    },
    "tags": []
   },
   "outputs": [],
   "source": [
    "session.widget"
   ]
  },
  {
   "cell_type": "markdown",
   "id": "a373af2a-cf31-4ca7-8e23-4dd08863ff34",
   "metadata": {},
   "source": [
    "While we want to ensure there is value for each member, we do not actually want it to accumulate. Therefore, we are going to make use of the `window` parameter to limit the number of members to accumulate to 0, i.e. only aggregate its own value. Therefore, a value of 0 will be returned when there is no value.  "
   ]
  },
  {
   "cell_type": "code",
   "execution_count": null,
   "id": "bfd9ab61-6d99-48c0-bc1c-a861de8c0d64",
   "metadata": {
    "tags": []
   },
   "outputs": [],
   "source": [
    "m[\"Cumulative profit (dense winSize 0)\"] = tt.agg.sum(\n",
    "    m[\"Aggregated Profit\"],\n",
    "    scope=tt.CumulativeScope(\n",
    "        level=l[(\"Orders\", \"Order Date\", \"Order Date\")], dense=True, window=range(0, 0)\n",
    "    ),\n",
    ")"
   ]
  },
  {
   "cell_type": "code",
   "execution_count": null,
   "id": "613dcd2c-25b0-4ccc-8811-3de701bd6cf3",
   "metadata": {
    "atoti": {
     "height": 481,
     "widget": {
      "columnWidths": {
       "[Measures].[Aggregated Profit]": 125,
       "[Measures].[Average Daily Profit (cumulative)]": 197,
       "[Measures].[Average Daily Profit (dh)]": 153,
       "[Measures].[Cumulative profit (dense winSize 0)]": 226,
       "[Measures].[Cumulative profit (dense)]": 169,
       "[Orders].[Order Date].[Order Date]": 87,
       "[Products].[ProductName].[ProductName]": 209
      },
      "filters": [
       "[Products].[ProductName].[AllMember].[Alice Mutton]"
      ],
      "mapping": {
       "columns": [
        "ALL_MEASURES"
       ],
       "measures": [
        "[Measures].[Aggregated Profit]",
        "[Measures].[Cumulative profit (dense)]",
        "[Measures].[Cumulative profit (dense winSize 0)]"
       ],
       "rows": [
        "[Products].[ProductName].[ProductName]",
        "[Orders].[Order Date].[Order Date]"
       ]
      },
      "name": "Limit cumulative window size to 0",
      "query": {
       "mdx": "SELECT NON EMPTY {[Measures].[Aggregated Profit], [Measures].[Cumulative profit (dense)], [Measures].[Cumulative profit (dense winSize 0)]} ON COLUMNS, NON EMPTY Crossjoin(Hierarchize(Descendants({[Products].[ProductName].[AllMember]}, 1, SELF_AND_BEFORE)), Hierarchize(Descendants({[Orders].[Order Date].[AllMember]}, 1, SELF_AND_BEFORE))) ON ROWS FROM [Order Cube] CELL PROPERTIES VALUE, FORMATTED_VALUE, BACK_COLOR, FORE_COLOR, FONT_FLAGS",
       "updateMode": "once"
      },
      "serverKey": "default",
      "widgetKey": "pivot-table"
     }
    },
    "tags": []
   },
   "outputs": [],
   "source": [
    "session.widget"
   ]
  },
  {
   "cell_type": "markdown",
   "id": "ca52227d-af73-433c-87ba-746fdd707727",
   "metadata": {},
   "source": [
    "Now, we can compute our daily average profit using the `atoti.agg.mean` function.  "
   ]
  },
  {
   "cell_type": "code",
   "execution_count": null,
   "id": "7f7c1331-de5e-4334-826c-f3f66a4c9852",
   "metadata": {
    "tags": []
   },
   "outputs": [],
   "source": [
    "# average daily profit computed using the cumulative function\n",
    "m[\"Average Daily Profit (cumulative)\"] = tt.agg.mean(\n",
    "    m[\"Cumulative profit (dense winSize 0)\"],\n",
    "    scope=tt.OriginScope(levels={l[(\"Orders\", \"Order Date\", \"Order Date\")]}),\n",
    ")"
   ]
  },
  {
   "cell_type": "code",
   "execution_count": null,
   "id": "04df6839-2976-4f16-a53a-0bec4b23a3d0",
   "metadata": {
    "atoti": {
     "height": 468,
     "widget": {
      "columnWidths": {
       "[Measures].[Aggregated Profit]": 125,
       "[Measures].[Average Daily Profit (cumulative)]": 210,
       "[Measures].[Average Daily Profit (dc)]": 163,
       "[Measures].[Average Daily Profit (dh)]": 153,
       "[Measures].[Cumulative profit (dense winSize 0)]": 226,
       "[Measures].[Cumulative profit (dense)]": 169,
       "[Orders].[Order Date].[Order Date]": 87,
       "[Products].[ProductName].[ProductName]": 209
      },
      "filters": [
       "[Products].[ProductName].[AllMember].[Alice Mutton]"
      ],
      "mapping": {
       "columns": [
        "ALL_MEASURES"
       ],
       "measures": [
        "[Measures].[Aggregated Profit]",
        "[Measures].[Cumulative profit (dense)]",
        "[Measures].[Cumulative profit (dense winSize 0)]",
        "[Measures].[Average Daily Profit (cumulative)]",
        "[Measures].[Average Daily Profit (dc)]"
       ],
       "rows": [
        "[Products].[ProductName].[ProductName]",
        "[Orders].[Order Date].[Order Date]"
       ]
      },
      "name": "Average Daily Profit - zero value for days without orders",
      "query": {
       "mdx": "SELECT NON EMPTY {[Measures].[Aggregated Profit], [Measures].[Cumulative profit (dense)], [Measures].[Cumulative profit (dense winSize 0)], [Measures].[Average Daily Profit (cumulative)], [Measures].[Average Daily Profit (dc)]} ON COLUMNS, NON EMPTY Crossjoin(Hierarchize(Descendants({[Products].[ProductName].[AllMember]}, 1, SELF_AND_BEFORE)), Hierarchize(Descendants({[Orders].[Order Date].[AllMember]}, 1, SELF_AND_BEFORE))) ON ROWS FROM [Order Cube] CELL PROPERTIES VALUE, FORMATTED_VALUE, BACK_COLOR, FORE_COLOR, FONT_FLAGS",
       "updateMode": "once"
      },
      "serverKey": "default",
      "widgetKey": "pivot-table"
     }
    },
    "tags": []
   },
   "outputs": [],
   "source": [
    "session.widget"
   ]
  },
  {
   "cell_type": "markdown",
   "id": "2df12801-bee7-4827-9b87-6619846af22a",
   "metadata": {},
   "source": [
    "The drawback of this method is that the computation will not work for bucketed daily average along the `Date Hierarchy`. It currently accumulates along the `Date Order` level under the `Date Order` hierarchy; and not under the `Date Hierarchy` hierarchy.  \n",
    "\n",
    "As we can see from the results below, the value for `Average Daily Profit (cumulative)` is incorrect. We will have to create a separate measure along the `Date Order` level under the `Date Hierarchy` hierarchy. "
   ]
  },
  {
   "cell_type": "code",
   "execution_count": null,
   "id": "55419d04-a963-4cca-9bba-d350eb436c38",
   "metadata": {
    "atoti": {
     "widget": {
      "columnWidths": {
       "[Measures].[Average Daily Profit (cumulative)]": 210,
       "[Measures].[Average Daily Profit (dc)]": 163,
       "[Measures].[Cumulative profit (dense winSize 0)]": 226,
       "[Orders].[Date Hierarchy].[Year]": 86,
       "[Products].[ProductName].[ProductName]": 209
      },
      "mapping": {
       "columns": [
        "ALL_MEASURES"
       ],
       "measures": [
        "[Measures].[Cumulative profit (dense winSize 0)]",
        "[Measures].[Average Daily Profit (cumulative)]",
        "[Measures].[Average Daily Profit (dc)]"
       ],
       "rows": [
        "[Products].[ProductName].[ProductName]",
        "[Orders].[Date Hierarchy].[Year] => [Orders].[Date Hierarchy].[Order Date]"
       ]
      },
      "query": {
       "mdx": "SELECT NON EMPTY Hierarchize(Crossjoin(Hierarchize(Descendants({[Products].[ProductName].[AllMember]}, 1, SELF_AND_BEFORE)), Hierarchize(Descendants({[Orders].[Date Hierarchy].[AllMember]}, 1, SELF_AND_BEFORE)))) ON ROWS, NON EMPTY {[Measures].[Cumulative profit (dense winSize 0)], [Measures].[Average Daily Profit (cumulative)], [Measures].[Average Daily Profit (dc)]} ON COLUMNS FROM [Order Cube] CELL PROPERTIES VALUE, FORMATTED_VALUE, BACK_COLOR, FORE_COLOR, FONT_FLAGS",
       "updateMode": "once"
      },
      "serverKey": "default",
      "widgetKey": "pivot-table"
     }
    },
    "tags": []
   },
   "outputs": [],
   "source": [
    "session.widget"
   ]
  },
  {
   "cell_type": "markdown",
   "id": "8ac6a8e4-3431-4174-af0b-bcf60610ec6c",
   "metadata": {},
   "source": [
    "#### 6.2.2.5 Format measures"
   ]
  },
  {
   "cell_type": "markdown",
   "id": "af8415b5-bffe-4d49-883b-781f4ce7da41",
   "metadata": {},
   "source": [
    "We can apply formatting for the **display** of our measures in the returned query results. Note that aggregations performed on the measure will still use its unformatted value for the computation. "
   ]
  },
  {
   "cell_type": "code",
   "execution_count": null,
   "id": "00694941-d15d-4350-82e8-ca807e8a6cc9",
   "metadata": {
    "tags": []
   },
   "outputs": [],
   "source": [
    "m[\"Aggregated Profit\"].formatter = \"DOUBLE[$#,##0.00]\""
   ]
  },
  {
   "cell_type": "code",
   "execution_count": null,
   "id": "c1bb9c59-fa8f-4504-bc3c-87eba0541e36",
   "metadata": {
    "atoti": {
     "height": 317,
     "widget": {
      "mapping": {
       "columns": [
        "ALL_MEASURES"
       ],
       "measures": [
        "[Measures].[Quantity Sold.SUM]",
        "[Measures].[Aggregated Profit]"
       ],
       "rows": [
        "[Products].[Product Tree].[ProductCategory]"
       ]
      },
      "name": "Profit by Product Category",
      "query": {
       "mdx": "SELECT NON EMPTY Hierarchize(Descendants({[Products].[Product Tree].[AllMember]}, 1, SELF_AND_BEFORE)) ON ROWS, NON EMPTY {[Measures].[Quantity Sold.SUM], [Measures].[Aggregated Profit]} ON COLUMNS FROM [Order Cube] CELL PROPERTIES VALUE, FORMATTED_VALUE, BACK_COLOR, FORE_COLOR, FONT_FLAGS",
       "updateMode": "once"
      },
      "serverKey": "default",
      "widgetKey": "pivot-table"
     }
    },
    "tags": []
   },
   "outputs": [],
   "source": [
    "session.widget"
   ]
  },
  {
   "cell_type": "markdown",
   "id": "b2c22604-c0dd-404c-a798-b652ccf02eaa",
   "metadata": {},
   "source": [
    "💡 Refer to Atoti documentation for other [formatting syntax](https://docs.atoti.io/latest/api/atoti.Measure.formatter.html#atoti-measure-formatter)."
   ]
  },
  {
   "cell_type": "markdown",
   "id": "45c37c01-ee20-4874-84ad-d7f55d799f7f",
   "metadata": {},
   "source": [
    "## 6.3 Cube Housekeeping"
   ]
  },
  {
   "cell_type": "markdown",
   "id": "c5086f99-179e-4996-81ef-da4da51a0f25",
   "metadata": {},
   "source": [
    "There are a few ways to maintaining and looking after your cube:  \n",
    "- [Delete unwanted hierarchies, levels and measures](#6.3.1-Delete-unwanted-hierarchies,-levels-and-measures)\n",
    "- [Hide technical measures](#6.3.2-Hide-technical-measures)  \n",
    "- [Keep measures organized in folders](#6.3.3-Keep-measures-organized-in-folders)  \n"
   ]
  },
  {
   "cell_type": "markdown",
   "id": "7a3fae5d-1a31-4b0e-8410-c83f48a5a3ed",
   "metadata": {},
   "source": [
    "### 6.3.1 Delete unwanted hierarchies, levels and measures  "
   ]
  },
  {
   "cell_type": "markdown",
   "id": "cd251f7e-0790-40e8-a35f-0745409386a8",
   "metadata": {},
   "source": [
    "Let's recall that a cube has three type of attributes: hierarchies, levels and measures. This section looks at how we can delete these attributes:   \n",
    "\n",
    "- [6.3.1.1 Delete hierarchies](#6.3.1.1-Delete-hierarchies)\n",
    "- [6.3.1.2 Delete levels](#6.3.1.2-Delete-levels)\n",
    "- [6.3.1.3 Delete measures](#6.3.1.3-Delete-measures)"
   ]
  },
  {
   "cell_type": "markdown",
   "id": "830caa96-d033-4f53-be98-5e27a9f2ae59",
   "metadata": {},
   "source": [
    "#### 6.3.1.1 Delete hierarchies"
   ]
  },
  {
   "cell_type": "markdown",
   "id": "e19f5f97-5657-4677-ab5e-37de528c3320",
   "metadata": {},
   "source": [
    "Previously, we have created a multi-level hierarchy called `Product Tree` which comprises of the levels `ProductCategory` and `ProductName`.  \n",
    "\n",
    "Whenever, we add the hierarchy `Product Tree` to our query, `ProductCategory` is displayed. Therefore, we can actually delete the single hierarchy `ProductCategory` since it's no longer required.  "
   ]
  },
  {
   "cell_type": "raw",
   "id": "e0000c28-8e6f-4a2c-adf0-50cec4bdd30a",
   "metadata": {
    "tags": []
   },
   "source": [
    "# We've marked this cell as `Raw` to prevent breakages of dependent upstream widgets\n",
    "# that may depend on this hierarchy. Set this cell to `Code` to execute the change\n",
    "del h[\"ProductCategory\"]\n",
    "h"
   ]
  },
  {
   "cell_type": "markdown",
   "id": "e7290509-32e1-41e7-9288-0215f8031490",
   "metadata": {},
   "source": [
    "When the hierarchy is deleted, the underlying levels will also be removed.  "
   ]
  },
  {
   "cell_type": "markdown",
   "id": "700fe533-e260-48c3-a30b-301c91fdc30d",
   "metadata": {},
   "source": [
    "#### 6.3.1.2 Delete levels"
   ]
  },
  {
   "cell_type": "markdown",
   "id": "291dfb60-94aa-4ad3-8b65-7a9b601be345",
   "metadata": {},
   "source": [
    "We can delete levels in the same way as we delete the hierarchy. However, if there is more than 1 level with the same name, we have to define the full path to the level: "
   ]
  },
  {
   "cell_type": "raw",
   "id": "a79e09d3-5789-43ad-b1c0-a20df4916a51",
   "metadata": {
    "tags": []
   },
   "source": [
    "# We've marked this cell as `Raw` to prevent breakages of dependent upstream widgets\n",
    "# that may depend on this level. Set this cell to `Code` to execute the change\n",
    "del l[(\"Products\", \"Product Tree\", \"ProductName\")]\n",
    "l"
   ]
  },
  {
   "cell_type": "markdown",
   "id": "1591f26e-3441-4220-810e-db96e6134d4d",
   "metadata": {
    "tags": []
   },
   "source": [
    "##### **💡Update existing hierarchy**  \n",
    "\n",
    "Since we still want our multi-level hierarchy, let's update it back to its original state:"
   ]
  },
  {
   "cell_type": "raw",
   "id": "af04b21c-8372-4778-8c34-9a41e848bfcd",
   "metadata": {
    "tags": []
   },
   "source": [
    "# We've marked this cell as `Raw` to prevent breakages of dependent upstream widgets\n",
    "# that may depend on this hierarchy. Set this cell to `Code` to execute the change\n",
    "h.update(\n",
    "    {\n",
    "        \"Product Tree\": [\n",
    "            product_tbl[\"ProductCategory\"],\n",
    "            product_tbl[\"ProductName\"],\n",
    "            orders_tbl[\"Product Id\"],\n",
    "        ],\n",
    "    }\n",
    ")\n",
    "h"
   ]
  },
  {
   "cell_type": "markdown",
   "id": "f3117cc2-2d53-49cb-b6a9-6c17b4784606",
   "metadata": {},
   "source": [
    "#### 6.3.1.3 Delete measures"
   ]
  },
  {
   "cell_type": "markdown",
   "id": "cb214bef-ce71-4c07-8780-5ab32d404126",
   "metadata": {},
   "source": [
    "As with hierarchies and levels, we use `del` command to delete measures.  "
   ]
  },
  {
   "cell_type": "code",
   "execution_count": null,
   "id": "b011cee6-8af5-4e55-ad32-a93cb3311792",
   "metadata": {
    "tags": []
   },
   "outputs": [],
   "source": [
    "m"
   ]
  },
  {
   "cell_type": "raw",
   "id": "7106d40a-6575-4625-b106-676f035b6fb8",
   "metadata": {
    "tags": []
   },
   "source": [
    "# We've marked this cell as `Raw` to prevent breakages of dependent upstream widgets\n",
    "# that may depend on this measure. Set this cell to `Code` to execute the change\n",
    "del m[\"Quantity Sold.MEAN\"]\n",
    "m"
   ]
  },
  {
   "cell_type": "markdown",
   "id": "19143f41-e1ef-49bb-8860-a3b24ba5df30",
   "metadata": {},
   "source": [
    "### 6.3.2 Hide technical measures"
   ]
  },
  {
   "cell_type": "markdown",
   "id": "171a4f33-c60b-4404-8bd1-885f09330130",
   "metadata": {},
   "source": [
    "In section [6.2.2.1.2 Chaining up measures](#6.2.2.1.2-Chaining-up-measures), we saw how we can create a measure using other measures. Some of the interim measures, also known as technical measures, are of little interest to end users.  \n",
    "\n",
    "We cannot delete these measures as they are required for the aggregation. Instead, we can hide them from the view of end users to avoid cluttering and confusion."
   ]
  },
  {
   "cell_type": "code",
   "execution_count": null,
   "id": "f552e81b-ff00-402a-b5b7-1bb88f7b1b6d",
   "metadata": {
    "tags": []
   },
   "outputs": [],
   "source": [
    "m[\"_ProfitPerUnit (mean)\"].visible = False\n",
    "m[\"_ProfitPerUnit (sum)\"].visible = False\n",
    "m[\"_ProfitPerUnit (sv)\"].visible = False"
   ]
  },
  {
   "cell_type": "code",
   "execution_count": null,
   "id": "65c101c9-815f-4795-898b-ef5d5aa737ee",
   "metadata": {
    "atoti": {
     "height": 116
    },
    "tags": []
   },
   "outputs": [],
   "source": [
    "session.widget"
   ]
  },
  {
   "cell_type": "markdown",
   "id": "ba4a606f-dd7d-41e2-8540-85f52e7be87a",
   "metadata": {},
   "source": [
    "Select the widget cell above and verify that the measures with name starting with `_ProfitPerUnit` is no longer displayed in the content editor:  \n",
    "\n",
    "<img src=\"https://data.atoti.io/atoti-academy/images/introduction/6_hide_measures.png\" width=\"500px\"/>"
   ]
  },
  {
   "cell_type": "markdown",
   "id": "aaca7abd-a929-4bdb-8453-54752ebed7a0",
   "metadata": {},
   "source": [
    "It is also not displayed when we view the `cube.measures`."
   ]
  },
  {
   "cell_type": "code",
   "execution_count": null,
   "id": "2ff052fb-6395-4e40-8093-5bcd505f9534",
   "metadata": {
    "tags": []
   },
   "outputs": [],
   "source": [
    "m"
   ]
  },
  {
   "cell_type": "markdown",
   "id": "e9832320-13ec-4453-8261-3cc243afc4fa",
   "metadata": {},
   "source": [
    "### 6.3.3 Organize measures in folders"
   ]
  },
  {
   "cell_type": "markdown",
   "id": "d4c2ec50-d9e2-469d-9e70-1d537f12642b",
   "metadata": {},
   "source": [
    "Folders helps to keep the measures organized. We can expand the relevant folders to access the measures or perform a search to find the intended measure quickly:  \n",
    "\n",
    "<img src=\"https://data.atoti.io/atoti-academy/images/introduction/6_verify_folder.gif\" width=\"500px\" />  "
   ]
  },
  {
   "cell_type": "code",
   "execution_count": null,
   "id": "43744bdc-5ac1-46d6-8f9c-5148248dbb59",
   "metadata": {
    "tags": []
   },
   "outputs": [],
   "source": [
    "m[\"Selling Price Per Unit\"].folder = \"Unit Price\""
   ]
  },
  {
   "cell_type": "markdown",
   "id": "cea28d5b-8b58-4468-a9d6-55748cfd1665",
   "metadata": {},
   "source": [
    "Let's assign the measures with the substring \"Unit\" in its name to the \"Unit Price\" folder."
   ]
  },
  {
   "cell_type": "code",
   "execution_count": null,
   "id": "bc0b4794-6101-4107-9f52-01b0078d2b00",
   "metadata": {
    "tags": []
   },
   "outputs": [],
   "source": [
    "for _m_name in m:\n",
    "    if \"Unit\" in m[_m_name].name:\n",
    "        m[_m_name].folder = \"Unit Price\""
   ]
  },
  {
   "cell_type": "markdown",
   "id": "bc15aa4f-201e-4250-b76c-ec47fd1e4b23",
   "metadata": {},
   "source": [
    "### 📐Exercise  \n",
    "\n",
    "Try accessing the measure `Selling Price Per Unit` from the content editor.  "
   ]
  },
  {
   "cell_type": "markdown",
   "id": "e5c40991-19d7-460c-aef3-d4819d04dfdf",
   "metadata": {},
   "source": [
    "### 📖 Solution  \n",
    "\n",
    "Get started with and follow the gif at the beginning of section [6.3.3](#6.3.3-Keep-measures-organized-in-folders):  \n",
    "\n",
    "`session.widget`"
   ]
  },
  {
   "cell_type": "code",
   "execution_count": null,
   "id": "c1774a4e-b8c0-43a3-bc5c-39f61bf386ef",
   "metadata": {},
   "outputs": [],
   "source": [
    "session.widget"
   ]
  },
  {
   "cell_type": "markdown",
   "id": "b85c55c0-abad-47e1-a1e5-c0b000657164",
   "metadata": {},
   "source": [
    "# 7. Visualization"
   ]
  },
  {
   "cell_type": "markdown",
   "id": "ffe46ad8-fbb8-40c3-8f78-d4426fdf5bbc",
   "metadata": {},
   "source": [
    "As we have seen with in earlier sections, we can use `session.widget` to explore data interactively. In this section, we will see quickly how we use the Atoti's JupyterLab extension to interact with the data.  "
   ]
  },
  {
   "cell_type": "markdown",
   "id": "565bd748-e0a8-46e7-b60d-79954804c3eb",
   "metadata": {},
   "source": [
    "## 7.1 Build our visualization"
   ]
  },
  {
   "cell_type": "markdown",
   "id": "c2bbb6ec-2994-45b8-a9dd-048136ee4809",
   "metadata": {},
   "source": [
    "### 7.1.1 Add hierarchies and measures to the visualization"
   ]
  },
  {
   "cell_type": "markdown",
   "id": "34dc49ba-4116-45e2-8215-478dd213c36f",
   "metadata": {
    "tags": []
   },
   "source": [
    "When we execute `session.widget()`, the widget will display an empty Pivot table by default. The custom JupyterLab extension for Atoti will be expanded. Expanding the panel will automatically adjust the view of cube attributes and the widget's attribute into two panels, allowing greater visibility. \n",
    "\n",
    "<img src=\"https://data.atoti.io/atoti-academy/images/introduction/7-atoti-visualization.gif\" />  \n",
    "\n",
    "Clicking on a measure automatically adds it to the visualization as column. Clicking on a hierarchy automatically adds it to the row. Alternatively, drag and drop hierarchies or to move the tiles between rows and columns.  \n",
    "\n",
    "<img src=\"https://data.atoti.io/atoti-academy/images/introduction/7-atoti-drag-and-drop.gif\" />"
   ]
  },
  {
   "cell_type": "markdown",
   "id": "3f41e162-b8ff-4f5d-842f-af0395792f36",
   "metadata": {},
   "source": [
    "### 📐Exercise  \n",
    "\n",
    "Try building your own Pivot table and shift the measures and hierarchies between rows and columns to see how your visualization changes.  "
   ]
  },
  {
   "cell_type": "markdown",
   "id": "9a5b87ee-a3a0-4cbf-a0a2-7754fe216ff7",
   "metadata": {},
   "source": [
    "### 📖 Solution  \n",
    "\n",
    "Get started with:  \n",
    "\n",
    "`session.widget`"
   ]
  },
  {
   "cell_type": "markdown",
   "id": "38839836-53e6-45b9-947c-553325227a98",
   "metadata": {},
   "source": [
    "### 7.1.2 Expandable levels vs multi-level hierarchy"
   ]
  },
  {
   "cell_type": "markdown",
   "id": "4fad9aa0-0db7-437c-8af6-53582536e4e0",
   "metadata": {},
   "source": [
    "__Expanded display by adding hierarchies to rows__  \n",
    "\n",
    "When we add hierarchies to rows/columns, all the levels are displayed with the corresponding measures.  \n",
    "\n",
    "<img src=\"https://data.atoti.io/atoti-academy/images/introduction/7-atoti-expanded.gif\" />  \n",
    "\n",
    "__Collapsible levels by dropping hierarchies into Pivot table__  \n",
    "\n",
    "Drag and drop a level on a member of the column on the pivot table to expand on:   \n",
    "\n",
    "<img src=\"https://data.atoti.io/atoti-academy/images/introduction/7-atoti-collapsible.gif\" />  \n",
    "\n",
    "We can replace the expanded level with another level simply by dropping the new level on member of the parent level.  \n",
    "\n",
    "__Naturally collapsible levels with multilevel hierarchies__\n",
    "\n",
    "For multilevel hierarchy, adding the top level of the hierarchy will have the same collapsible effect for the underlying levels.  \n",
    "\n",
    "<img src=\"https://data.atoti.io/atoti-academy/images/introduction/7-atoti-multilevel-hierarchies.gif\" />  \n",
    "\n"
   ]
  },
  {
   "cell_type": "markdown",
   "id": "2f74389a-ccca-4465-a89d-5c02bb0977a2",
   "metadata": {},
   "source": [
    "## 7.2 Change type of visualization"
   ]
  },
  {
   "cell_type": "markdown",
   "id": "655d3d7c-8f66-4cdb-ab41-d6682e14bf95",
   "metadata": {},
   "source": [
    "We can easily toggle the type of visualization using the drop-down menu in the Atoti's JupyterLab extension.  \n",
    "\n",
    "<img src=\"https://data.atoti.io/atoti-academy/images/introduction/7-atoti-change_type.gif\" />  \n",
    "\n",
    "Adjust the hierarchies and measures interactively to obtain the best-fitting visualization. "
   ]
  },
  {
   "cell_type": "markdown",
   "id": "3051cc1c-b163-4a2c-9358-5a5534d73fde",
   "metadata": {},
   "source": [
    "### 📐Exercise  \n",
    "\n",
    "Using the visualization from the previous exercise, explore the type of visualizations interactively.  "
   ]
  },
  {
   "cell_type": "markdown",
   "id": "30b4f76a-4d64-4df1-b2d3-88ec466a43a5",
   "metadata": {},
   "source": [
    "## 7.3 Filter data"
   ]
  },
  {
   "cell_type": "markdown",
   "id": "8efb22be-ba27-428c-874a-b5144e15848a",
   "metadata": {},
   "source": [
    "### 7.3.1 Focus on a single trace on charts"
   ]
  },
  {
   "cell_type": "markdown",
   "id": "4e592288-ebdc-4c48-8700-87409beacd4b",
   "metadata": {},
   "source": [
    "Atoti uses [Plotly charts](https://plotly.com/python/basic-charts/). Therefore, you can see that we can zoom in on the chart and also (de)select a single trace the same way we do with Plotly.  \n",
    "\n",
    "<img src=\"https://data.atoti.io/atoti-academy/images/introduction/7-atoti-deselect-trace.gif\" />"
   ]
  },
  {
   "cell_type": "markdown",
   "id": "3b22d2bc-13f5-4cb7-9889-60e76eb472ec",
   "metadata": {},
   "source": [
    "### 7.3.2 Filter by member"
   ]
  },
  {
   "cell_type": "markdown",
   "id": "ed27136c-99e9-43e1-9e41-b9b4102e1f45",
   "metadata": {},
   "source": [
    "One of the wonder of Atoti is in its ability to slice and dice the cube. \n",
    "\n",
    "<img src=\"https://data.atoti.io/atoti-academy/images/introduction/7-atoti-slice-dice.png\" />  \n",
    "\n",
    "We can view a subset of the data using the widget filter in Atoti's JupyterLab extension:  \n",
    "\n",
    "<img src=\"https://data.atoti.io/atoti-academy/images/introduction/7-atoti-widget_filter.gif\" />  \n"
   ]
  },
  {
   "cell_type": "markdown",
   "id": "88e5ae1e-0044-4d70-8c9e-773c34792262",
   "metadata": {},
   "source": [
    "### 7.3.3 Conditional filtering "
   ]
  },
  {
   "cell_type": "markdown",
   "id": "4ada65d5-1de2-4956-aaf9-cd9833bf8242",
   "metadata": {},
   "source": [
    "We can apply conditional filtering by toggling to \"Advanced\" mode in the widget filter's pop up:  \n",
    "\n",
    "<img src=\"https://data.atoti.io/atoti-academy/images/introduction/7-atoti-advanced-filter.gif\" />  \n",
    "\n",
    "The GIF above shows how we can obtain the daily profit of the top 5 product categories having the highest profit."
   ]
  },
  {
   "cell_type": "markdown",
   "id": "a2648951-9057-439c-b265-17b92dddf538",
   "metadata": {},
   "source": [
    "### 📐Exercise  \n",
    "\n",
    "In the visualization below, apply advanced filter such that we get the bottom 10 products with the lowest profit.  \n",
    "\n",
    "💡 Right-click on the chart to access the context menu. Try sorting the chart by profit.  "
   ]
  },
  {
   "cell_type": "code",
   "execution_count": null,
   "id": "2bc68912-475c-46b1-85f1-6875aa21128f",
   "metadata": {
    "atoti": {
     "height": 628,
     "widget": {
      "filters": [],
      "mapping": {
       "horizontalSubplots": [],
       "splitBy": [
        "ALL_MEASURES"
       ],
       "values": [
        "[Measures].[Profit]"
       ],
       "verticalSubplots": [],
       "xAxis": [
        "[Products].[Product Tree].[ProductName]"
       ]
      },
      "name": "Bottom 10 products with the lowest profit",
      "query": {
       "mdx": "SELECT NON EMPTY {[Measures].[Profit]} ON COLUMNS, NON EMPTY Hierarchize(Descendants({[Products].[Product Tree].[AllMember]}, 2, SELF_AND_BEFORE)) ON ROWS FROM [Order Cube] CELL PROPERTIES VALUE, FORMATTED_VALUE, BACK_COLOR, FORE_COLOR, FONT_FLAGS",
       "updateMode": "once"
      },
      "serverKey": "default",
      "widgetKey": "plotly-clustered-column-chart"
     }
    },
    "tags": []
   },
   "outputs": [],
   "source": [
    "session.widget"
   ]
  },
  {
   "cell_type": "markdown",
   "id": "c051df5d-d1e2-438e-90bd-9c1bc86f83d9",
   "metadata": {},
   "source": [
    "### 📖 Solution  \n",
    "\n",
    "<img src=\"https://data.atoti.io/atoti-academy/images/introduction/7-atoti-advanced-filter-solution.gif\">  "
   ]
  },
  {
   "cell_type": "markdown",
   "id": "7bf21357-2b9f-45ce-963f-146209cf4e63",
   "metadata": {},
   "source": [
    "## 7.4 Publish in app  "
   ]
  },
  {
   "cell_type": "markdown",
   "id": "1fa14bb7-775a-4ce6-8355-80dbe57f60ca",
   "metadata": {},
   "source": [
    "During our data exploration, we might want to save some of our investigations and put them in a dashboard for end-users to reference. To do so, we can publish the visualizations that we create in the notebook to Atoti UI application using the `Publish in App` menu.  \n",
    "\n",
    "<img src=\"https://data.atoti.io/atoti-academy/images/introduction/7-atoti-publish-in-app.gif\" />"
   ]
  },
  {
   "cell_type": "markdown",
   "id": "e80fe8df-ebea-4031-a723-ccf1980cef60",
   "metadata": {
    "tags": []
   },
   "source": [
    "💡 We can access Atoti UI using `session.link`."
   ]
  },
  {
   "cell_type": "code",
   "execution_count": null,
   "id": "201be2fc-a366-4ccd-8d3e-6adc886123df",
   "metadata": {
    "tags": []
   },
   "outputs": [],
   "source": [
    "session.link"
   ]
  },
  {
   "cell_type": "markdown",
   "id": "94ffd3ae-3300-4a5e-83f4-375558a909fa",
   "metadata": {},
   "source": [
    "# 8. Output query results"
   ]
  },
  {
   "cell_type": "markdown",
   "id": "e07306e6-e010-43e6-b06f-388953dc1719",
   "metadata": {},
   "source": [
    "## 8.1 Export data to CSV\n",
    "We can export underlying data from the Atoti widgets. Simply right-click on the visualization and click on \"Export to CSV\".  \n",
    "\n",
    "<img src=\"https://data.atoti.io/atoti-academy/images/introduction/7-atoti-export-to-csv.gif\" />"
   ]
  },
  {
   "cell_type": "markdown",
   "id": "5a5d5f62-a02c-4710-9bbc-0b7d6b3a26df",
   "metadata": {},
   "source": [
    "## 8.2 Output query results to Pandas DataFrame"
   ]
  },
  {
   "cell_type": "markdown",
   "id": "e52a6f81-d521-4d75-bec1-2508b9bfb4cc",
   "metadata": {},
   "source": [
    "We can perform a [cube query](https://docs.atoti.io/latest/api/atoti_query.QueryCube.query.html#atoti-query-querycube-query) and it will return a Pandas DataFrame as shown below:  "
   ]
  },
  {
   "cell_type": "code",
   "execution_count": null,
   "id": "eff4e313-f7a0-4cf6-ba5d-8043b4b253fd",
   "metadata": {
    "tags": []
   },
   "outputs": [],
   "source": [
    "df_profit = cube.query(\n",
    "    m[\"Aggregated Profit\"],\n",
    "    m[\"Quantity Sold.SUM\"],\n",
    "    levels=[\n",
    "        l[\"Products\", \"Product Tree\", \"ProductCategory\"],\n",
    "        l[(\"Products\", \"ProductName\", \"ProductName\")],\n",
    "    ],\n",
    ")\n",
    "df_profit.head()"
   ]
  },
  {
   "cell_type": "markdown",
   "id": "4da44312-f6a9-4467-9030-09ba45cb8abd",
   "metadata": {},
   "source": [
    "Since it's a Pandas DataFrame, we can manipulate it the way we do with Pandas.  "
   ]
  },
  {
   "cell_type": "code",
   "execution_count": null,
   "id": "ebee1885-c2a8-4038-a460-456ef596efee",
   "metadata": {
    "tags": []
   },
   "outputs": [],
   "source": [
    "df_profit.reset_index()"
   ]
  },
  {
   "cell_type": "markdown",
   "id": "57c80e82-f9c9-489a-9cca-022f0003654c",
   "metadata": {},
   "source": [
    "So, this means that we can pass the DataFrame to another Python function, or we can output to CSV file for a downstream system.  "
   ]
  },
  {
   "cell_type": "markdown",
   "id": "c29dfe5e-76ab-4acf-8b84-ab62a4f3f32d",
   "metadata": {},
   "source": [
    "## 8.3 Output query results to other data structure"
   ]
  },
  {
   "cell_type": "markdown",
   "id": "2f9ea00b-9ae5-48b8-a5a7-1ad4c68ab881",
   "metadata": {},
   "source": [
    "From the previous section, we obtained a Pandas DataFrame. Leveraging Pandas functionality, we can output the data to different file structures such as [CSV](https://pandas.pydata.org/docs/reference/api/pandas.DataFrame.to_csv.html):"
   ]
  },
  {
   "cell_type": "code",
   "execution_count": null,
   "id": "56b25593-9c97-4ce9-9cb2-678b3bb49edc",
   "metadata": {
    "tags": []
   },
   "outputs": [],
   "source": [
    "df_profit.to_csv(\"profit.csv\", index=False)"
   ]
  },
  {
   "cell_type": "markdown",
   "id": "6ac3ba72-b734-4e09-91a8-6d4b336dd1d3",
   "metadata": {},
   "source": [
    "# 📐Exercise  \n",
    "\n",
    "With reference to the [cube query](https://docs.atoti.io/latest/api/atoti_query.QueryCube.query.html#atoti-query-querycube-query) function call in the documentation, try outputting the profit by product category for order date 2019-02-17. "
   ]
  },
  {
   "cell_type": "markdown",
   "id": "5346cd79-2f32-448c-94ce-961bd6d8e3a8",
   "metadata": {
    "tags": []
   },
   "source": [
    "# 📖 Solution  \n",
    "\n",
    "```\n",
    "df = cube.query(\n",
    "    m[\"Profit\"],\n",
    "    levels=[l[\"Order Date\"], l[\"ProductCategory\"]],\n",
    "    filter=(l[\"Order Date\"] == \"2019-02-17\"),\n",
    ")  \n",
    "\n",
    "df.to_csv(\"exercise.csv\", index=False)\n",
    "```"
   ]
  },
  {
   "cell_type": "markdown",
   "id": "0e145a65-878f-47e9-ac7d-e9fc2c7f6dbc",
   "metadata": {},
   "source": [
    "<div style=\"text-align: center;\" ><a href=\"https://www.atoti.io/?utm_source=gallery&utm_content=introduction-to-atoti\" target=\"_blank\" rel=\"noopener noreferrer\"><img src=\"https://data.atoti.io/notebooks/banners/Your-turn-to-try-Atoti.jpg\" alt=\"Try atoti\"></a></div>"
   ]
  }
 ],
 "metadata": {
  "kernelspec": {
   "display_name": "Python 3 (ipykernel)",
   "language": "python",
   "name": "python3"
  },
  "language_info": {
   "codemirror_mode": {
    "name": "ipython",
    "version": 3
   },
   "file_extension": ".py",
   "mimetype": "text/x-python",
   "name": "python",
   "nbconvert_exporter": "python",
   "pygments_lexer": "ipython3",
   "version": "3.10.14"
  },
  "toc-autonumbering": false,
  "toc-showcode": false,
  "toc-showtags": false
 },
 "nbformat": 4,
 "nbformat_minor": 5
}
