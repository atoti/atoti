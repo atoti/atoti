{
 "cells": [
  {
   "cell_type": "markdown",
   "id": "3fff47ba-8753-46f3-94f0-59674629f17d",
   "metadata": {},
   "source": [
    "# Pizza Sales! 🍕\n",
    "\n",
    "Welcome to our Pizza Sales Challenge, here you’ll be playing the role of a Consultant hired by Plato's Pizza, a Greek-inspired pizza place in NYC, to help the restaurant use data to improve operations. You've received the following note:\n",
    "\n",
    "> Welcome aboard, we're so glad you're here to help!\n",
    "> Things are going OK here at Plato's, but there's room for improvement. We've been collecting transactional data for the past year, but really haven't been able to put it to good use. Hoping you can analyze the data and put together a report to help us find opportunities to drive more sales and work more efficiently.\n",
    ">\n",
    "> -Plato, CEO\n",
    "\n",
    "Plato's Pizza has historically been using Excel for their sales reporting needs, but want to see if there could be a more effective, scalable solution. They want to be able to monitor key business metrics such as: \n",
    "\n",
    "* What days and times do we tend to be busiest?\n",
    "* How many pizzas are we making during peak periods?\n",
    "* What are our best and worst-selling pizzas?\n",
    "* What's our average order value?\n",
    "\n",
    "Let's use Atoti to analyze Plato's Pizza sales, and address their operational needs.\n",
    "\n",
    "**💡 Note:** Our pizza dataset comes from [Kaggle](https://www.kaggle.com/datasets/shilongzhuang/pizza-sales/data), feel free to check it out!"
   ]
  },
  {
   "cell_type": "markdown",
   "id": "946d8335-c63a-4bae-a5cc-5c89533550f9",
   "metadata": {},
   "source": [
    "## Import Libraries\n",
    "\n",
    "First off, let's import the necessary libraries."
   ]
  },
  {
   "cell_type": "code",
   "execution_count": 1,
   "id": "2aa389e9-1a5a-42cd-9315-45bf97a41b0b",
   "metadata": {},
   "outputs": [],
   "source": [
    "import atoti\n",
    "import pandas as pd"
   ]
  },
  {
   "cell_type": "markdown",
   "id": "6a7c34a3-c091-494c-b6b8-7c8f29608a45",
   "metadata": {},
   "source": [
    "## Instantiate Atoti Server and UI\n",
    "\n",
    "Now, we'll spin up the Atoti server and link the session to our web-based Atoti UI.\n",
    "\n",
    "**💡 Note:**  https://docs.atoti.io/latest/api/atoti.Session.html#atoti.Session"
   ]
  },
  {
   "cell_type": "code",
   "execution_count": 2,
   "id": "50b174f8-ce5e-4a45-a62f-f12d59b2a2c8",
   "metadata": {},
   "outputs": [
    {
     "data": {
      "application/vnd.atoti.link.v0+json": {
       "path": "",
       "sessionLocation": {
        "https": false,
        "port": 9092
       }
      },
      "text/markdown": [
       "http://localhost:9092\n",
       "\n",
       "_Note_: This is the session's local URL: it may not be reachable if Atoti is running on another machine."
      ],
      "text/plain": [
       "http://localhost:9092 (This is the session's local URL: it may not be reachable if Atoti is running on another machine.)"
      ]
     },
     "execution_count": 2,
     "metadata": {},
     "output_type": "execute_result"
    }
   ],
   "source": [
    "# Start an Atoti Server instance\n",
    "session = atoti.Session(\n",
    "    user_content_storage=\"./content\",\n",
    "    port=9092,\n",
    "    java_options=[\"-Xms1G\", \"-Xmx10G\"],\n",
    ")\n",
    "session.link"
   ]
  },
  {
   "cell_type": "markdown",
   "id": "6b39f719-9784-42c4-ad91-d23a0524715a",
   "metadata": {},
   "source": [
    "## Inspect Data Quality Using Pandas\n",
    "\n",
    "Next, let's load up Pandas to quickly take a look at the pizza sales data, inspect it's quality, and make quick formatting changes if need be."
   ]
  },
  {
   "cell_type": "code",
   "execution_count": 3,
   "id": "b07beac5-0f02-4ed4-9a85-39587f819ee8",
   "metadata": {},
   "outputs": [
    {
     "data": {
      "text/html": [
       "<div>\n",
       "<style scoped>\n",
       "    .dataframe tbody tr th:only-of-type {\n",
       "        vertical-align: middle;\n",
       "    }\n",
       "\n",
       "    .dataframe tbody tr th {\n",
       "        vertical-align: top;\n",
       "    }\n",
       "\n",
       "    .dataframe thead th {\n",
       "        text-align: right;\n",
       "    }\n",
       "</style>\n",
       "<table border=\"1\" class=\"dataframe\">\n",
       "  <thead>\n",
       "    <tr style=\"text-align: right;\">\n",
       "      <th></th>\n",
       "      <th>order_details_id</th>\n",
       "      <th>order_id</th>\n",
       "      <th>pizza_id</th>\n",
       "      <th>quantity</th>\n",
       "      <th>order_date</th>\n",
       "      <th>order_time</th>\n",
       "      <th>unit_price</th>\n",
       "      <th>total_price</th>\n",
       "      <th>pizza_size</th>\n",
       "      <th>pizza_category</th>\n",
       "      <th>pizza_ingredients</th>\n",
       "      <th>pizza_name</th>\n",
       "    </tr>\n",
       "  </thead>\n",
       "  <tbody>\n",
       "    <tr>\n",
       "      <th>0</th>\n",
       "      <td>1</td>\n",
       "      <td>1</td>\n",
       "      <td>hawaiian_m</td>\n",
       "      <td>1</td>\n",
       "      <td>1/1/15</td>\n",
       "      <td>11:38:36</td>\n",
       "      <td>13.25</td>\n",
       "      <td>13.25</td>\n",
       "      <td>M</td>\n",
       "      <td>Classic</td>\n",
       "      <td>Sliced Ham, Pineapple, Mozzarella Cheese</td>\n",
       "      <td>The Hawaiian Pizza</td>\n",
       "    </tr>\n",
       "    <tr>\n",
       "      <th>1</th>\n",
       "      <td>2</td>\n",
       "      <td>2</td>\n",
       "      <td>classic_dlx_m</td>\n",
       "      <td>1</td>\n",
       "      <td>1/1/15</td>\n",
       "      <td>11:57:40</td>\n",
       "      <td>16.00</td>\n",
       "      <td>16.00</td>\n",
       "      <td>M</td>\n",
       "      <td>Classic</td>\n",
       "      <td>Pepperoni, Mushrooms, Red Onions, Red Peppers,...</td>\n",
       "      <td>The Classic Deluxe Pizza</td>\n",
       "    </tr>\n",
       "    <tr>\n",
       "      <th>2</th>\n",
       "      <td>3</td>\n",
       "      <td>2</td>\n",
       "      <td>five_cheese_l</td>\n",
       "      <td>1</td>\n",
       "      <td>1/1/15</td>\n",
       "      <td>11:57:40</td>\n",
       "      <td>18.50</td>\n",
       "      <td>18.50</td>\n",
       "      <td>L</td>\n",
       "      <td>Veggie</td>\n",
       "      <td>Mozzarella Cheese, Provolone Cheese, Smoked Go...</td>\n",
       "      <td>The Five Cheese Pizza</td>\n",
       "    </tr>\n",
       "    <tr>\n",
       "      <th>3</th>\n",
       "      <td>4</td>\n",
       "      <td>2</td>\n",
       "      <td>ital_supr_l</td>\n",
       "      <td>1</td>\n",
       "      <td>1/1/15</td>\n",
       "      <td>11:57:40</td>\n",
       "      <td>20.75</td>\n",
       "      <td>20.75</td>\n",
       "      <td>L</td>\n",
       "      <td>Supreme</td>\n",
       "      <td>Calabrese Salami, Capocollo, Tomatoes, Red Oni...</td>\n",
       "      <td>The Italian Supreme Pizza</td>\n",
       "    </tr>\n",
       "    <tr>\n",
       "      <th>4</th>\n",
       "      <td>5</td>\n",
       "      <td>2</td>\n",
       "      <td>mexicana_m</td>\n",
       "      <td>1</td>\n",
       "      <td>1/1/15</td>\n",
       "      <td>11:57:40</td>\n",
       "      <td>16.00</td>\n",
       "      <td>16.00</td>\n",
       "      <td>M</td>\n",
       "      <td>Veggie</td>\n",
       "      <td>Tomatoes, Red Peppers, Jalapeno Peppers, Red O...</td>\n",
       "      <td>The Mexicana Pizza</td>\n",
       "    </tr>\n",
       "  </tbody>\n",
       "</table>\n",
       "</div>"
      ],
      "text/plain": [
       "   order_details_id  order_id       pizza_id  quantity order_date order_time  \\\n",
       "0                 1         1     hawaiian_m         1     1/1/15   11:38:36   \n",
       "1                 2         2  classic_dlx_m         1     1/1/15   11:57:40   \n",
       "2                 3         2  five_cheese_l         1     1/1/15   11:57:40   \n",
       "3                 4         2    ital_supr_l         1     1/1/15   11:57:40   \n",
       "4                 5         2     mexicana_m         1     1/1/15   11:57:40   \n",
       "\n",
       "   unit_price  total_price pizza_size pizza_category  \\\n",
       "0       13.25        13.25          M        Classic   \n",
       "1       16.00        16.00          M        Classic   \n",
       "2       18.50        18.50          L         Veggie   \n",
       "3       20.75        20.75          L        Supreme   \n",
       "4       16.00        16.00          M         Veggie   \n",
       "\n",
       "                                   pizza_ingredients  \\\n",
       "0           Sliced Ham, Pineapple, Mozzarella Cheese   \n",
       "1  Pepperoni, Mushrooms, Red Onions, Red Peppers,...   \n",
       "2  Mozzarella Cheese, Provolone Cheese, Smoked Go...   \n",
       "3  Calabrese Salami, Capocollo, Tomatoes, Red Oni...   \n",
       "4  Tomatoes, Red Peppers, Jalapeno Peppers, Red O...   \n",
       "\n",
       "                  pizza_name  \n",
       "0         The Hawaiian Pizza  \n",
       "1   The Classic Deluxe Pizza  \n",
       "2      The Five Cheese Pizza  \n",
       "3  The Italian Supreme Pizza  \n",
       "4         The Mexicana Pizza  "
      ]
     },
     "execution_count": 3,
     "metadata": {},
     "output_type": "execute_result"
    }
   ],
   "source": [
    "# Read CSV into Pandas DataFrame\n",
    "pizza_sales_df = pd.read_csv(\"s3://data.atoti.io/notebooks/pizza-sales/pizza_sales.csv\")\n",
    "pizza_sales_df.head()"
   ]
  },
  {
   "cell_type": "markdown",
   "id": "64c843f2-085a-4540-99e8-b1eabce50571",
   "metadata": {},
   "source": [
    "Nice, looks like we're working with some pretty intact data."
   ]
  },
  {
   "cell_type": "code",
   "execution_count": 4,
   "id": "d88ebed4-ba96-4493-97c8-93e7ed3219e2",
   "metadata": {},
   "outputs": [
    {
     "data": {
      "text/plain": [
       "order_details_id     0\n",
       "order_id             0\n",
       "pizza_id             0\n",
       "quantity             0\n",
       "order_date           0\n",
       "order_time           0\n",
       "unit_price           0\n",
       "total_price          0\n",
       "pizza_size           0\n",
       "pizza_category       0\n",
       "pizza_ingredients    0\n",
       "pizza_name           0\n",
       "dtype: int64"
      ]
     },
     "execution_count": 4,
     "metadata": {},
     "output_type": "execute_result"
    }
   ],
   "source": [
    "# Check null counts for each column\n",
    "pizza_sales_df.isnull().sum(axis=0)"
   ]
  },
  {
   "cell_type": "markdown",
   "id": "7b516ab3-0622-4895-b487-c9d333e38040",
   "metadata": {},
   "source": [
    "Let's take a look at the data types of our columns to see the intended hierarchies vs. measures (non-numerical vs. numerical columns) that Atoti will use when loaded."
   ]
  },
  {
   "cell_type": "code",
   "execution_count": 5,
   "id": "a1fbefb0-b441-4e2b-81ce-cdb78af09daf",
   "metadata": {},
   "outputs": [
    {
     "data": {
      "text/plain": [
       "order_details_id       int64\n",
       "order_id               int64\n",
       "pizza_id              object\n",
       "quantity               int64\n",
       "order_date            object\n",
       "order_time            object\n",
       "unit_price           float64\n",
       "total_price          float64\n",
       "pizza_size            object\n",
       "pizza_category        object\n",
       "pizza_ingredients     object\n",
       "pizza_name            object\n",
       "dtype: object"
      ]
     },
     "execution_count": 5,
     "metadata": {},
     "output_type": "execute_result"
    }
   ],
   "source": [
    "# Check column data types\n",
    "pizza_sales_df.dtypes"
   ]
  },
  {
   "cell_type": "markdown",
   "id": "08534124-91bc-4e85-8506-e79ce42a7e37",
   "metadata": {},
   "source": [
    "## Format Data in Pandas\n",
    "\n",
    "Upon inspection, it looks like a few things need to be updated:\n",
    "\n",
    "* Our `order_date` column needs to be set to a DateTime data type.\n",
    "* We need to create a `dayofweek` column/attribute to answer best/worst sales on week days.\n",
    "* Intended hierarchies set as numerical data types should be set as strings for Atoti (e.g. no need to aggregate order ids!)\n",
    "\n",
    "**💡 Note:**  https://docs.atoti.io/latest/getting_started/tutorial/tutorial.html#Multidimensional-concepts"
   ]
  },
  {
   "cell_type": "code",
   "execution_count": 6,
   "id": "651bc1c3-a49f-470d-aa75-23dbe0760773",
   "metadata": {},
   "outputs": [
    {
     "data": {
      "text/html": [
       "<div>\n",
       "<style scoped>\n",
       "    .dataframe tbody tr th:only-of-type {\n",
       "        vertical-align: middle;\n",
       "    }\n",
       "\n",
       "    .dataframe tbody tr th {\n",
       "        vertical-align: top;\n",
       "    }\n",
       "\n",
       "    .dataframe thead th {\n",
       "        text-align: right;\n",
       "    }\n",
       "</style>\n",
       "<table border=\"1\" class=\"dataframe\">\n",
       "  <thead>\n",
       "    <tr style=\"text-align: right;\">\n",
       "      <th></th>\n",
       "      <th>order_details_id</th>\n",
       "      <th>order_id</th>\n",
       "      <th>pizza_id</th>\n",
       "      <th>quantity</th>\n",
       "      <th>order_date</th>\n",
       "      <th>order_time</th>\n",
       "      <th>unit_price</th>\n",
       "      <th>total_price</th>\n",
       "      <th>pizza_size</th>\n",
       "      <th>pizza_category</th>\n",
       "      <th>pizza_ingredients</th>\n",
       "      <th>pizza_name</th>\n",
       "      <th>order_datetime</th>\n",
       "      <th>dayofweek</th>\n",
       "    </tr>\n",
       "  </thead>\n",
       "  <tbody>\n",
       "    <tr>\n",
       "      <th>0</th>\n",
       "      <td>1</td>\n",
       "      <td>1</td>\n",
       "      <td>hawaiian_m</td>\n",
       "      <td>1</td>\n",
       "      <td>1/1/15</td>\n",
       "      <td>11:38:36</td>\n",
       "      <td>13.25</td>\n",
       "      <td>13.25</td>\n",
       "      <td>M</td>\n",
       "      <td>Classic</td>\n",
       "      <td>Sliced Ham, Pineapple, Mozzarella Cheese</td>\n",
       "      <td>The Hawaiian Pizza</td>\n",
       "      <td>2015-01-01 11:38:36</td>\n",
       "      <td>Thursday</td>\n",
       "    </tr>\n",
       "    <tr>\n",
       "      <th>1</th>\n",
       "      <td>2</td>\n",
       "      <td>2</td>\n",
       "      <td>classic_dlx_m</td>\n",
       "      <td>1</td>\n",
       "      <td>1/1/15</td>\n",
       "      <td>11:57:40</td>\n",
       "      <td>16.00</td>\n",
       "      <td>16.00</td>\n",
       "      <td>M</td>\n",
       "      <td>Classic</td>\n",
       "      <td>Pepperoni, Mushrooms, Red Onions, Red Peppers,...</td>\n",
       "      <td>The Classic Deluxe Pizza</td>\n",
       "      <td>2015-01-01 11:57:40</td>\n",
       "      <td>Thursday</td>\n",
       "    </tr>\n",
       "    <tr>\n",
       "      <th>2</th>\n",
       "      <td>3</td>\n",
       "      <td>2</td>\n",
       "      <td>five_cheese_l</td>\n",
       "      <td>1</td>\n",
       "      <td>1/1/15</td>\n",
       "      <td>11:57:40</td>\n",
       "      <td>18.50</td>\n",
       "      <td>18.50</td>\n",
       "      <td>L</td>\n",
       "      <td>Veggie</td>\n",
       "      <td>Mozzarella Cheese, Provolone Cheese, Smoked Go...</td>\n",
       "      <td>The Five Cheese Pizza</td>\n",
       "      <td>2015-01-01 11:57:40</td>\n",
       "      <td>Thursday</td>\n",
       "    </tr>\n",
       "    <tr>\n",
       "      <th>3</th>\n",
       "      <td>4</td>\n",
       "      <td>2</td>\n",
       "      <td>ital_supr_l</td>\n",
       "      <td>1</td>\n",
       "      <td>1/1/15</td>\n",
       "      <td>11:57:40</td>\n",
       "      <td>20.75</td>\n",
       "      <td>20.75</td>\n",
       "      <td>L</td>\n",
       "      <td>Supreme</td>\n",
       "      <td>Calabrese Salami, Capocollo, Tomatoes, Red Oni...</td>\n",
       "      <td>The Italian Supreme Pizza</td>\n",
       "      <td>2015-01-01 11:57:40</td>\n",
       "      <td>Thursday</td>\n",
       "    </tr>\n",
       "    <tr>\n",
       "      <th>4</th>\n",
       "      <td>5</td>\n",
       "      <td>2</td>\n",
       "      <td>mexicana_m</td>\n",
       "      <td>1</td>\n",
       "      <td>1/1/15</td>\n",
       "      <td>11:57:40</td>\n",
       "      <td>16.00</td>\n",
       "      <td>16.00</td>\n",
       "      <td>M</td>\n",
       "      <td>Veggie</td>\n",
       "      <td>Tomatoes, Red Peppers, Jalapeno Peppers, Red O...</td>\n",
       "      <td>The Mexicana Pizza</td>\n",
       "      <td>2015-01-01 11:57:40</td>\n",
       "      <td>Thursday</td>\n",
       "    </tr>\n",
       "  </tbody>\n",
       "</table>\n",
       "</div>"
      ],
      "text/plain": [
       "  order_details_id order_id       pizza_id  quantity order_date order_time  \\\n",
       "0                1        1     hawaiian_m         1     1/1/15   11:38:36   \n",
       "1                2        2  classic_dlx_m         1     1/1/15   11:57:40   \n",
       "2                3        2  five_cheese_l         1     1/1/15   11:57:40   \n",
       "3                4        2    ital_supr_l         1     1/1/15   11:57:40   \n",
       "4                5        2     mexicana_m         1     1/1/15   11:57:40   \n",
       "\n",
       "   unit_price  total_price pizza_size pizza_category  \\\n",
       "0       13.25        13.25          M        Classic   \n",
       "1       16.00        16.00          M        Classic   \n",
       "2       18.50        18.50          L         Veggie   \n",
       "3       20.75        20.75          L        Supreme   \n",
       "4       16.00        16.00          M         Veggie   \n",
       "\n",
       "                                   pizza_ingredients  \\\n",
       "0           Sliced Ham, Pineapple, Mozzarella Cheese   \n",
       "1  Pepperoni, Mushrooms, Red Onions, Red Peppers,...   \n",
       "2  Mozzarella Cheese, Provolone Cheese, Smoked Go...   \n",
       "3  Calabrese Salami, Capocollo, Tomatoes, Red Oni...   \n",
       "4  Tomatoes, Red Peppers, Jalapeno Peppers, Red O...   \n",
       "\n",
       "                  pizza_name      order_datetime dayofweek  \n",
       "0         The Hawaiian Pizza 2015-01-01 11:38:36  Thursday  \n",
       "1   The Classic Deluxe Pizza 2015-01-01 11:57:40  Thursday  \n",
       "2      The Five Cheese Pizza 2015-01-01 11:57:40  Thursday  \n",
       "3  The Italian Supreme Pizza 2015-01-01 11:57:40  Thursday  \n",
       "4         The Mexicana Pizza 2015-01-01 11:57:40  Thursday  "
      ]
     },
     "execution_count": 6,
     "metadata": {},
     "output_type": "execute_result"
    }
   ],
   "source": [
    "# Convert string to datetime and set day of the week (e.g. Monday=0, Sunday=6)\n",
    "pizza_sales_df[\"order_datetime\"] = pd.to_datetime(\n",
    "    pizza_sales_df[\"order_date\"] + \" \" + pizza_sales_df[\"order_time\"], format=\"mixed\"\n",
    ")\n",
    "pizza_sales_df[\"dayofweek\"] = pizza_sales_df[\"order_datetime\"].dt.day_name()\n",
    "\n",
    "# Cast as string data types and view modified DataFrame\n",
    "pizza_sales_df[\"order_details_id\"] = pizza_sales_df[\"order_details_id\"].astype(str)\n",
    "pizza_sales_df[\"order_id\"] = pizza_sales_df[\"order_id\"].astype(str)\n",
    "pizza_sales_df[\"dayofweek\"] = pizza_sales_df[\"dayofweek\"].astype(str)\n",
    "pizza_sales_df.head()"
   ]
  },
  {
   "cell_type": "markdown",
   "id": "44bfd665-4d15-43c9-98cd-7f14c2cf0a0f",
   "metadata": {},
   "source": [
    "Lastly, let's take a look at our column data types again to verify our data formatting. Great, looks like our changes went through!"
   ]
  },
  {
   "cell_type": "code",
   "execution_count": 7,
   "id": "375b9d42-ae3e-43eb-b365-a405cf8a5dc5",
   "metadata": {},
   "outputs": [
    {
     "data": {
      "text/plain": [
       "order_details_id             object\n",
       "order_id                     object\n",
       "pizza_id                     object\n",
       "quantity                      int64\n",
       "order_date                   object\n",
       "order_time                   object\n",
       "unit_price                  float64\n",
       "total_price                 float64\n",
       "pizza_size                   object\n",
       "pizza_category               object\n",
       "pizza_ingredients            object\n",
       "pizza_name                   object\n",
       "order_datetime       datetime64[ns]\n",
       "dayofweek                    object\n",
       "dtype: object"
      ]
     },
     "execution_count": 7,
     "metadata": {},
     "output_type": "execute_result"
    }
   ],
   "source": [
    "# Check new column data types\n",
    "pizza_sales_df.dtypes"
   ]
  },
  {
   "cell_type": "markdown",
   "id": "d35c1921-0ebf-4526-9ec1-ee346a39ba9e",
   "metadata": {},
   "source": [
    "## Load Pandas DataFrame Into Atoti Cube\n",
    "\n",
    "Now, let's load our formatted data from our Pandas DataFrame to an Atoti table using the `read_pandas()` function, verify that the data was loaded properly, and create our Atoti cube.\n",
    "\n",
    "**💡 Note:**  https://docs.atoti.io/latest/api/atoti.Session.read_pandas.html#atoti.Session.read_pandas"
   ]
  },
  {
   "cell_type": "code",
   "execution_count": 8,
   "id": "bc989133-1cfa-44cd-a930-c055698154ac",
   "metadata": {},
   "outputs": [
    {
     "data": {
      "text/html": [
       "<div>\n",
       "<style scoped>\n",
       "    .dataframe tbody tr th:only-of-type {\n",
       "        vertical-align: middle;\n",
       "    }\n",
       "\n",
       "    .dataframe tbody tr th {\n",
       "        vertical-align: top;\n",
       "    }\n",
       "\n",
       "    .dataframe thead th {\n",
       "        text-align: right;\n",
       "    }\n",
       "</style>\n",
       "<table border=\"1\" class=\"dataframe\">\n",
       "  <thead>\n",
       "    <tr style=\"text-align: right;\">\n",
       "      <th></th>\n",
       "      <th>order_id</th>\n",
       "      <th>pizza_id</th>\n",
       "      <th>quantity</th>\n",
       "      <th>order_date</th>\n",
       "      <th>order_time</th>\n",
       "      <th>unit_price</th>\n",
       "      <th>total_price</th>\n",
       "      <th>pizza_size</th>\n",
       "      <th>pizza_category</th>\n",
       "      <th>pizza_ingredients</th>\n",
       "      <th>pizza_name</th>\n",
       "      <th>order_datetime</th>\n",
       "      <th>dayofweek</th>\n",
       "    </tr>\n",
       "    <tr>\n",
       "      <th>order_details_id</th>\n",
       "      <th></th>\n",
       "      <th></th>\n",
       "      <th></th>\n",
       "      <th></th>\n",
       "      <th></th>\n",
       "      <th></th>\n",
       "      <th></th>\n",
       "      <th></th>\n",
       "      <th></th>\n",
       "      <th></th>\n",
       "      <th></th>\n",
       "      <th></th>\n",
       "      <th></th>\n",
       "    </tr>\n",
       "  </thead>\n",
       "  <tbody>\n",
       "    <tr>\n",
       "      <th>13</th>\n",
       "      <td>7</td>\n",
       "      <td>spinach_supr_s</td>\n",
       "      <td>1</td>\n",
       "      <td>1/1/15</td>\n",
       "      <td>12:50:37</td>\n",
       "      <td>12.5</td>\n",
       "      <td>12.5</td>\n",
       "      <td>S</td>\n",
       "      <td>Supreme</td>\n",
       "      <td>Spinach, Red Onions, Pepperoni, Tomatoes, Arti...</td>\n",
       "      <td>The Spinach Supreme Pizza</td>\n",
       "      <td>2015-01-01 12:50:37</td>\n",
       "      <td>Thursday</td>\n",
       "    </tr>\n",
       "    <tr>\n",
       "      <th>27</th>\n",
       "      <td>11</td>\n",
       "      <td>cali_ckn_l</td>\n",
       "      <td>1</td>\n",
       "      <td>1/1/15</td>\n",
       "      <td>13:02:59</td>\n",
       "      <td>20.75</td>\n",
       "      <td>20.75</td>\n",
       "      <td>L</td>\n",
       "      <td>Chicken</td>\n",
       "      <td>Chicken, Artichoke, Spinach, Garlic, Jalapeno ...</td>\n",
       "      <td>The California Chicken Pizza</td>\n",
       "      <td>2015-01-01 13:02:59</td>\n",
       "      <td>Thursday</td>\n",
       "    </tr>\n",
       "    <tr>\n",
       "      <th>41</th>\n",
       "      <td>16</td>\n",
       "      <td>napolitana_s</td>\n",
       "      <td>1</td>\n",
       "      <td>1/1/15</td>\n",
       "      <td>13:34:07</td>\n",
       "      <td>12.0</td>\n",
       "      <td>12.0</td>\n",
       "      <td>S</td>\n",
       "      <td>Classic</td>\n",
       "      <td>Tomatoes, Anchovies, Green Olives, Red Onions,...</td>\n",
       "      <td>The Napolitana Pizza</td>\n",
       "      <td>2015-01-01 13:34:07</td>\n",
       "      <td>Thursday</td>\n",
       "    </tr>\n",
       "    <tr>\n",
       "      <th>55</th>\n",
       "      <td>19</td>\n",
       "      <td>sicilian_l</td>\n",
       "      <td>1</td>\n",
       "      <td>1/1/15</td>\n",
       "      <td>13:59:09</td>\n",
       "      <td>20.25</td>\n",
       "      <td>20.25</td>\n",
       "      <td>L</td>\n",
       "      <td>Supreme</td>\n",
       "      <td>Coarse Sicilian Salami, Tomatoes, Green Olives...</td>\n",
       "      <td>The Sicilian Pizza</td>\n",
       "      <td>2015-01-01 13:59:09</td>\n",
       "      <td>Thursday</td>\n",
       "    </tr>\n",
       "    <tr>\n",
       "      <th>69</th>\n",
       "      <td>26</td>\n",
       "      <td>classic_dlx_s</td>\n",
       "      <td>1</td>\n",
       "      <td>1/1/15</td>\n",
       "      <td>14:54:26</td>\n",
       "      <td>12.0</td>\n",
       "      <td>12.0</td>\n",
       "      <td>S</td>\n",
       "      <td>Classic</td>\n",
       "      <td>Pepperoni, Mushrooms, Red Onions, Red Peppers,...</td>\n",
       "      <td>The Classic Deluxe Pizza</td>\n",
       "      <td>2015-01-01 14:54:26</td>\n",
       "      <td>Thursday</td>\n",
       "    </tr>\n",
       "  </tbody>\n",
       "</table>\n",
       "</div>"
      ],
      "text/plain": [
       "                 order_id        pizza_id  quantity order_date order_time  \\\n",
       "order_details_id                                                            \n",
       "13                      7  spinach_supr_s         1     1/1/15   12:50:37   \n",
       "27                     11      cali_ckn_l         1     1/1/15   13:02:59   \n",
       "41                     16    napolitana_s         1     1/1/15   13:34:07   \n",
       "55                     19      sicilian_l         1     1/1/15   13:59:09   \n",
       "69                     26   classic_dlx_s         1     1/1/15   14:54:26   \n",
       "\n",
       "                  unit_price  total_price pizza_size pizza_category  \\\n",
       "order_details_id                                                      \n",
       "13                      12.5         12.5          S        Supreme   \n",
       "27                     20.75        20.75          L        Chicken   \n",
       "41                      12.0         12.0          S        Classic   \n",
       "55                     20.25        20.25          L        Supreme   \n",
       "69                      12.0         12.0          S        Classic   \n",
       "\n",
       "                                                  pizza_ingredients  \\\n",
       "order_details_id                                                      \n",
       "13                Spinach, Red Onions, Pepperoni, Tomatoes, Arti...   \n",
       "27                Chicken, Artichoke, Spinach, Garlic, Jalapeno ...   \n",
       "41                Tomatoes, Anchovies, Green Olives, Red Onions,...   \n",
       "55                Coarse Sicilian Salami, Tomatoes, Green Olives...   \n",
       "69                Pepperoni, Mushrooms, Red Onions, Red Peppers,...   \n",
       "\n",
       "                                    pizza_name      order_datetime dayofweek  \n",
       "order_details_id                                                              \n",
       "13                   The Spinach Supreme Pizza 2015-01-01 12:50:37  Thursday  \n",
       "27                The California Chicken Pizza 2015-01-01 13:02:59  Thursday  \n",
       "41                        The Napolitana Pizza 2015-01-01 13:34:07  Thursday  \n",
       "55                          The Sicilian Pizza 2015-01-01 13:59:09  Thursday  \n",
       "69                    The Classic Deluxe Pizza 2015-01-01 14:54:26  Thursday  "
      ]
     },
     "execution_count": 8,
     "metadata": {},
     "output_type": "execute_result"
    }
   ],
   "source": [
    "# Load Pandas DataFrame as Atoti Table object\n",
    "pizza_sales_table = session.read_pandas(\n",
    "    pizza_sales_df, table_name=\"pizza_sales_table\", keys=[\"order_details_id\"]\n",
    ")\n",
    "pizza_sales_table.head()"
   ]
  },
  {
   "cell_type": "markdown",
   "id": "6fad4cf6-bde9-44ea-abc7-8de2bc91ee4d",
   "metadata": {},
   "source": [
    "**💡 Note:**  https://docs.atoti.io/latest/api/atoti.Session.create_cube.html#atoti.Session.create_cube"
   ]
  },
  {
   "cell_type": "code",
   "execution_count": 9,
   "id": "1d455c49-4997-4406-a523-3f76eb0052f0",
   "metadata": {},
   "outputs": [],
   "source": [
    "# Create Cube from Atoti Table object\n",
    "cube = session.create_cube(pizza_sales_table)"
   ]
  },
  {
   "cell_type": "markdown",
   "id": "e8d9b7c4-f3be-43ff-b9c0-7625ab34c286",
   "metadata": {},
   "source": [
    "## Cube Data Model Analysis\n",
    "\n",
    "Now, let's verify the cube has been set up properly, and take a look at the schema of the cube, along with the hierarchies, levels, and measures automatically created."
   ]
  },
  {
   "cell_type": "code",
   "execution_count": 10,
   "id": "30162e03-a45f-4fa6-82bf-bfe594f4a9b6",
   "metadata": {},
   "outputs": [
    {
     "data": {
      "image/svg+xml": [
       "<svg xmlns=\"http://www.w3.org/2000/svg\" xmlns:xlink=\"http://www.w3.org/1999/xlink\" width=\"272px\" height=\"389px\" viewBox=\"0.00 0.00 272.00 389.00\">\n",
       "<g id=\"graph0\" class=\"graph\" transform=\"scale(1.0 1.0) rotate(0) translate(4 385)\">\n",
       "<title>Datastore schema</title>\n",
       "<polygon fill=\"white\" stroke=\"none\" points=\"-4,4 -4,-385 268,-385 268,4 -4,4\"/>\n",
       "<!-- pizza_sales_table -->\n",
       "<g id=\"node1\" class=\"node\">\n",
       "<title>pizza_sales_table</title>\n",
       "<text text-anchor=\"start\" x=\"75.38\" y=\"-359.65\" font-family=\"-apple-system, BlinkMacSystemFont, 'Segoe UI', Helvetica, Arial, sans-serif, 'Apple Color Emoji', 'Segoe UI Emoji', 'Segoe UI Symbol'\" font-weight=\"bold\" font-size=\"13.00\">pizza_sales_table</text>\n",
       "<text text-anchor=\"start\" x=\"52.5\" y=\"-333.65\" font-family=\"-apple-system, BlinkMacSystemFont, 'Segoe UI', Helvetica, Arial, sans-serif, 'Apple Color Emoji', 'Segoe UI Emoji', 'Segoe UI Symbol'\" font-size=\"13.00\">base of: pizza_sales_table</text>\n",
       "<polygon fill=\"#f5f5f5\" stroke=\"none\" points=\"9,-304 9,-327 41,-327 41,-304 9,-304\"/>\n",
       "<text text-anchor=\"start\" x=\"13.75\" y=\"-310.65\" font-family=\"-apple-system, BlinkMacSystemFont, 'Segoe UI', Helvetica, Arial, sans-serif, 'Apple Color Emoji', 'Segoe UI Emoji', 'Segoe UI Symbol'\" font-weight=\"bold\" font-size=\"13.00\">key</text>\n",
       "<polygon fill=\"#f5f5f5\" stroke=\"none\" points=\"41,-304 41,-327 156,-327 156,-304 41,-304\"/>\n",
       "<text text-anchor=\"start\" x=\"46\" y=\"-309.65\" font-family=\"-apple-system, BlinkMacSystemFont, 'Segoe UI', Helvetica, Arial, sans-serif, 'Apple Color Emoji', 'Segoe UI Emoji', 'Segoe UI Symbol'\" font-size=\"13.00\">order_details_id</text>\n",
       "<polygon fill=\"#f5f5f5\" stroke=\"none\" points=\"156,-304 156,-327 255,-327 255,-304 156,-304\"/>\n",
       "<text text-anchor=\"start\" x=\"217\" y=\"-310.65\" font-family=\"-apple-system, BlinkMacSystemFont, 'Segoe UI', Helvetica, Arial, sans-serif, 'Apple Color Emoji', 'Segoe UI Emoji', 'Segoe UI Symbol'\" font-style=\"italic\" font-size=\"13.00\">string</text>\n",
       "<polygon fill=\"#ffffff\" stroke=\"none\" points=\"9,-281 9,-304 41,-304 41,-281 9,-281\"/>\n",
       "<polygon fill=\"#ffffff\" stroke=\"none\" points=\"41,-281 41,-304 156,-304 156,-281 41,-281\"/>\n",
       "<text text-anchor=\"start\" x=\"46\" y=\"-286.65\" font-family=\"-apple-system, BlinkMacSystemFont, 'Segoe UI', Helvetica, Arial, sans-serif, 'Apple Color Emoji', 'Segoe UI Emoji', 'Segoe UI Symbol'\" font-size=\"13.00\">order_id</text>\n",
       "<polygon fill=\"#ffffff\" stroke=\"none\" points=\"156,-281 156,-304 255,-304 255,-281 156,-281\"/>\n",
       "<text text-anchor=\"start\" x=\"217\" y=\"-287.65\" font-family=\"-apple-system, BlinkMacSystemFont, 'Segoe UI', Helvetica, Arial, sans-serif, 'Apple Color Emoji', 'Segoe UI Emoji', 'Segoe UI Symbol'\" font-style=\"italic\" font-size=\"13.00\">string</text>\n",
       "<polygon fill=\"#f5f5f5\" stroke=\"none\" points=\"9,-258 9,-281 41,-281 41,-258 9,-258\"/>\n",
       "<polygon fill=\"#f5f5f5\" stroke=\"none\" points=\"41,-258 41,-281 156,-281 156,-258 41,-258\"/>\n",
       "<text text-anchor=\"start\" x=\"46\" y=\"-263.65\" font-family=\"-apple-system, BlinkMacSystemFont, 'Segoe UI', Helvetica, Arial, sans-serif, 'Apple Color Emoji', 'Segoe UI Emoji', 'Segoe UI Symbol'\" font-size=\"13.00\">pizza_id</text>\n",
       "<polygon fill=\"#f5f5f5\" stroke=\"none\" points=\"156,-258 156,-281 255,-281 255,-258 156,-258\"/>\n",
       "<text text-anchor=\"start\" x=\"217\" y=\"-264.65\" font-family=\"-apple-system, BlinkMacSystemFont, 'Segoe UI', Helvetica, Arial, sans-serif, 'Apple Color Emoji', 'Segoe UI Emoji', 'Segoe UI Symbol'\" font-style=\"italic\" font-size=\"13.00\">string</text>\n",
       "<polygon fill=\"#ffffff\" stroke=\"none\" points=\"9,-235 9,-258 41,-258 41,-235 9,-235\"/>\n",
       "<polygon fill=\"#ffffff\" stroke=\"none\" points=\"41,-235 41,-258 156,-258 156,-235 41,-235\"/>\n",
       "<text text-anchor=\"start\" x=\"46\" y=\"-240.65\" font-family=\"-apple-system, BlinkMacSystemFont, 'Segoe UI', Helvetica, Arial, sans-serif, 'Apple Color Emoji', 'Segoe UI Emoji', 'Segoe UI Symbol'\" font-size=\"13.00\">quantity</text>\n",
       "<polygon fill=\"#ffffff\" stroke=\"none\" points=\"156,-235 156,-258 255,-258 255,-235 156,-235\"/>\n",
       "<text text-anchor=\"start\" x=\"224.5\" y=\"-241.65\" font-family=\"-apple-system, BlinkMacSystemFont, 'Segoe UI', Helvetica, Arial, sans-serif, 'Apple Color Emoji', 'Segoe UI Emoji', 'Segoe UI Symbol'\" font-style=\"italic\" font-size=\"13.00\">long</text>\n",
       "<polygon fill=\"#f5f5f5\" stroke=\"none\" points=\"9,-212 9,-235 41,-235 41,-212 9,-212\"/>\n",
       "<polygon fill=\"#f5f5f5\" stroke=\"none\" points=\"41,-212 41,-235 156,-235 156,-212 41,-212\"/>\n",
       "<text text-anchor=\"start\" x=\"46\" y=\"-217.65\" font-family=\"-apple-system, BlinkMacSystemFont, 'Segoe UI', Helvetica, Arial, sans-serif, 'Apple Color Emoji', 'Segoe UI Emoji', 'Segoe UI Symbol'\" font-size=\"13.00\">order_date</text>\n",
       "<polygon fill=\"#f5f5f5\" stroke=\"none\" points=\"156,-212 156,-235 255,-235 255,-212 156,-212\"/>\n",
       "<text text-anchor=\"start\" x=\"217\" y=\"-218.65\" font-family=\"-apple-system, BlinkMacSystemFont, 'Segoe UI', Helvetica, Arial, sans-serif, 'Apple Color Emoji', 'Segoe UI Emoji', 'Segoe UI Symbol'\" font-style=\"italic\" font-size=\"13.00\">string</text>\n",
       "<polygon fill=\"#ffffff\" stroke=\"none\" points=\"9,-189 9,-212 41,-212 41,-189 9,-189\"/>\n",
       "<polygon fill=\"#ffffff\" stroke=\"none\" points=\"41,-189 41,-212 156,-212 156,-189 41,-189\"/>\n",
       "<text text-anchor=\"start\" x=\"46\" y=\"-194.65\" font-family=\"-apple-system, BlinkMacSystemFont, 'Segoe UI', Helvetica, Arial, sans-serif, 'Apple Color Emoji', 'Segoe UI Emoji', 'Segoe UI Symbol'\" font-size=\"13.00\">order_time</text>\n",
       "<polygon fill=\"#ffffff\" stroke=\"none\" points=\"156,-189 156,-212 255,-212 255,-189 156,-189\"/>\n",
       "<text text-anchor=\"start\" x=\"217\" y=\"-195.65\" font-family=\"-apple-system, BlinkMacSystemFont, 'Segoe UI', Helvetica, Arial, sans-serif, 'Apple Color Emoji', 'Segoe UI Emoji', 'Segoe UI Symbol'\" font-style=\"italic\" font-size=\"13.00\">string</text>\n",
       "<polygon fill=\"#f5f5f5\" stroke=\"none\" points=\"9,-166 9,-189 41,-189 41,-166 9,-166\"/>\n",
       "<polygon fill=\"#f5f5f5\" stroke=\"none\" points=\"41,-166 41,-189 156,-189 156,-166 41,-166\"/>\n",
       "<text text-anchor=\"start\" x=\"46\" y=\"-171.65\" font-family=\"-apple-system, BlinkMacSystemFont, 'Segoe UI', Helvetica, Arial, sans-serif, 'Apple Color Emoji', 'Segoe UI Emoji', 'Segoe UI Symbol'\" font-size=\"13.00\">unit_price</text>\n",
       "<polygon fill=\"#f5f5f5\" stroke=\"none\" points=\"156,-166 156,-189 255,-189 255,-166 156,-166\"/>\n",
       "<text text-anchor=\"start\" x=\"209.5\" y=\"-172.65\" font-family=\"-apple-system, BlinkMacSystemFont, 'Segoe UI', Helvetica, Arial, sans-serif, 'Apple Color Emoji', 'Segoe UI Emoji', 'Segoe UI Symbol'\" font-style=\"italic\" font-size=\"13.00\">double</text>\n",
       "<polygon fill=\"#ffffff\" stroke=\"none\" points=\"9,-143 9,-166 41,-166 41,-143 9,-143\"/>\n",
       "<polygon fill=\"#ffffff\" stroke=\"none\" points=\"41,-143 41,-166 156,-166 156,-143 41,-143\"/>\n",
       "<text text-anchor=\"start\" x=\"46\" y=\"-148.65\" font-family=\"-apple-system, BlinkMacSystemFont, 'Segoe UI', Helvetica, Arial, sans-serif, 'Apple Color Emoji', 'Segoe UI Emoji', 'Segoe UI Symbol'\" font-size=\"13.00\">total_price</text>\n",
       "<polygon fill=\"#ffffff\" stroke=\"none\" points=\"156,-143 156,-166 255,-166 255,-143 156,-143\"/>\n",
       "<text text-anchor=\"start\" x=\"209.5\" y=\"-149.65\" font-family=\"-apple-system, BlinkMacSystemFont, 'Segoe UI', Helvetica, Arial, sans-serif, 'Apple Color Emoji', 'Segoe UI Emoji', 'Segoe UI Symbol'\" font-style=\"italic\" font-size=\"13.00\">double</text>\n",
       "<polygon fill=\"#f5f5f5\" stroke=\"none\" points=\"9,-120 9,-143 41,-143 41,-120 9,-120\"/>\n",
       "<polygon fill=\"#f5f5f5\" stroke=\"none\" points=\"41,-120 41,-143 156,-143 156,-120 41,-120\"/>\n",
       "<text text-anchor=\"start\" x=\"46\" y=\"-125.65\" font-family=\"-apple-system, BlinkMacSystemFont, 'Segoe UI', Helvetica, Arial, sans-serif, 'Apple Color Emoji', 'Segoe UI Emoji', 'Segoe UI Symbol'\" font-size=\"13.00\">pizza_size</text>\n",
       "<polygon fill=\"#f5f5f5\" stroke=\"none\" points=\"156,-120 156,-143 255,-143 255,-120 156,-120\"/>\n",
       "<text text-anchor=\"start\" x=\"217\" y=\"-126.65\" font-family=\"-apple-system, BlinkMacSystemFont, 'Segoe UI', Helvetica, Arial, sans-serif, 'Apple Color Emoji', 'Segoe UI Emoji', 'Segoe UI Symbol'\" font-style=\"italic\" font-size=\"13.00\">string</text>\n",
       "<polygon fill=\"#ffffff\" stroke=\"none\" points=\"9,-97 9,-120 41,-120 41,-97 9,-97\"/>\n",
       "<polygon fill=\"#ffffff\" stroke=\"none\" points=\"41,-97 41,-120 156,-120 156,-97 41,-97\"/>\n",
       "<text text-anchor=\"start\" x=\"46\" y=\"-102.65\" font-family=\"-apple-system, BlinkMacSystemFont, 'Segoe UI', Helvetica, Arial, sans-serif, 'Apple Color Emoji', 'Segoe UI Emoji', 'Segoe UI Symbol'\" font-size=\"13.00\">pizza_category</text>\n",
       "<polygon fill=\"#ffffff\" stroke=\"none\" points=\"156,-97 156,-120 255,-120 255,-97 156,-97\"/>\n",
       "<text text-anchor=\"start\" x=\"217\" y=\"-103.65\" font-family=\"-apple-system, BlinkMacSystemFont, 'Segoe UI', Helvetica, Arial, sans-serif, 'Apple Color Emoji', 'Segoe UI Emoji', 'Segoe UI Symbol'\" font-style=\"italic\" font-size=\"13.00\">string</text>\n",
       "<polygon fill=\"#f5f5f5\" stroke=\"none\" points=\"9,-74 9,-97 41,-97 41,-74 9,-74\"/>\n",
       "<polygon fill=\"#f5f5f5\" stroke=\"none\" points=\"41,-74 41,-97 156,-97 156,-74 41,-74\"/>\n",
       "<text text-anchor=\"start\" x=\"46\" y=\"-79.65\" font-family=\"-apple-system, BlinkMacSystemFont, 'Segoe UI', Helvetica, Arial, sans-serif, 'Apple Color Emoji', 'Segoe UI Emoji', 'Segoe UI Symbol'\" font-size=\"13.00\">pizza_ingredients</text>\n",
       "<polygon fill=\"#f5f5f5\" stroke=\"none\" points=\"156,-74 156,-97 255,-97 255,-74 156,-74\"/>\n",
       "<text text-anchor=\"start\" x=\"217\" y=\"-80.65\" font-family=\"-apple-system, BlinkMacSystemFont, 'Segoe UI', Helvetica, Arial, sans-serif, 'Apple Color Emoji', 'Segoe UI Emoji', 'Segoe UI Symbol'\" font-style=\"italic\" font-size=\"13.00\">string</text>\n",
       "<polygon fill=\"#ffffff\" stroke=\"none\" points=\"9,-51 9,-74 41,-74 41,-51 9,-51\"/>\n",
       "<polygon fill=\"#ffffff\" stroke=\"none\" points=\"41,-51 41,-74 156,-74 156,-51 41,-51\"/>\n",
       "<text text-anchor=\"start\" x=\"46\" y=\"-56.65\" font-family=\"-apple-system, BlinkMacSystemFont, 'Segoe UI', Helvetica, Arial, sans-serif, 'Apple Color Emoji', 'Segoe UI Emoji', 'Segoe UI Symbol'\" font-size=\"13.00\">pizza_name</text>\n",
       "<polygon fill=\"#ffffff\" stroke=\"none\" points=\"156,-51 156,-74 255,-74 255,-51 156,-51\"/>\n",
       "<text text-anchor=\"start\" x=\"217\" y=\"-57.65\" font-family=\"-apple-system, BlinkMacSystemFont, 'Segoe UI', Helvetica, Arial, sans-serif, 'Apple Color Emoji', 'Segoe UI Emoji', 'Segoe UI Symbol'\" font-style=\"italic\" font-size=\"13.00\">string</text>\n",
       "<polygon fill=\"#f5f5f5\" stroke=\"none\" points=\"9,-28 9,-51 41,-51 41,-28 9,-28\"/>\n",
       "<polygon fill=\"#f5f5f5\" stroke=\"none\" points=\"41,-28 41,-51 156,-51 156,-28 41,-28\"/>\n",
       "<text text-anchor=\"start\" x=\"46\" y=\"-33.65\" font-family=\"-apple-system, BlinkMacSystemFont, 'Segoe UI', Helvetica, Arial, sans-serif, 'Apple Color Emoji', 'Segoe UI Emoji', 'Segoe UI Symbol'\" font-size=\"13.00\">order_datetime</text>\n",
       "<polygon fill=\"#f5f5f5\" stroke=\"none\" points=\"156,-28 156,-51 255,-51 255,-28 156,-28\"/>\n",
       "<text text-anchor=\"start\" x=\"160.88\" y=\"-34.65\" font-family=\"-apple-system, BlinkMacSystemFont, 'Segoe UI', Helvetica, Arial, sans-serif, 'Apple Color Emoji', 'Segoe UI Emoji', 'Segoe UI Symbol'\" font-style=\"italic\" font-size=\"13.00\">LocalDateTime</text>\n",
       "<polygon fill=\"#ffffff\" stroke=\"none\" points=\"9,-5 9,-28 41,-28 41,-5 9,-5\"/>\n",
       "<polygon fill=\"#ffffff\" stroke=\"none\" points=\"41,-5 41,-28 156,-28 156,-5 41,-5\"/>\n",
       "<text text-anchor=\"start\" x=\"46\" y=\"-10.65\" font-family=\"-apple-system, BlinkMacSystemFont, 'Segoe UI', Helvetica, Arial, sans-serif, 'Apple Color Emoji', 'Segoe UI Emoji', 'Segoe UI Symbol'\" font-size=\"13.00\">dayofweek</text>\n",
       "<polygon fill=\"#ffffff\" stroke=\"none\" points=\"156,-5 156,-28 255,-28 255,-5 156,-5\"/>\n",
       "<text text-anchor=\"start\" x=\"217\" y=\"-11.65\" font-family=\"-apple-system, BlinkMacSystemFont, 'Segoe UI', Helvetica, Arial, sans-serif, 'Apple Color Emoji', 'Segoe UI Emoji', 'Segoe UI Symbol'\" font-style=\"italic\" font-size=\"13.00\">string</text>\n",
       "<polygon fill=\"none\" stroke=\"black\" points=\"8,-4 8,-377 256,-377 256,-4 8,-4\"/>\n",
       "</g>\n",
       "</g>\n",
       "</svg>"
      ],
      "text/plain": [
       "<IPython.core.display.SVG object>"
      ]
     },
     "execution_count": 10,
     "metadata": {},
     "output_type": "execute_result"
    }
   ],
   "source": [
    "# View the schema\n",
    "session.tables.schema"
   ]
  },
  {
   "cell_type": "code",
   "execution_count": 11,
   "id": "7cb80b89-c7ec-46bc-8c84-e5d73bc1e72e",
   "metadata": {},
   "outputs": [],
   "source": [
    "# Set variables for hierarchies, levels, and measures\n",
    "h, l, m = cube.hierarchies, cube.levels, cube.measures"
   ]
  },
  {
   "cell_type": "markdown",
   "id": "5e1d2501-cb09-4a60-8bed-20f6c3a217fe",
   "metadata": {},
   "source": [
    "Remember that when slicing-and-dicing, we need to be specific on what we slice-and-dice on. In other words, hierarchies are the logical groupings of non-numeric attributes of our data model that we want to see aggregated numeric calculations for. For example, perhaps we want to see the total amount of revenue generated for each category in `pizza_category`. At this point in time for our pizza sales use case, our data model consists of \"single-level hierarchies\", where each hierarchy consists of a single level attribute."
   ]
  },
  {
   "cell_type": "code",
   "execution_count": 12,
   "id": "2e637f33-6b4e-4d2a-9372-7181f5d2c45c",
   "metadata": {},
   "outputs": [
    {
     "data": {
      "application/json": {
       "pizza_sales_table": {
        "dayofweek": [
         "dayofweek"
        ],
        "order_date": [
         "order_date"
        ],
        "order_datetime": [
         "order_datetime"
        ],
        "order_details_id": [
         "order_details_id"
        ],
        "order_id": [
         "order_id"
        ],
        "order_time": [
         "order_time"
        ],
        "pizza_category": [
         "pizza_category"
        ],
        "pizza_id": [
         "pizza_id"
        ],
        "pizza_ingredients": [
         "pizza_ingredients"
        ],
        "pizza_name": [
         "pizza_name"
        ],
        "pizza_size": [
         "pizza_size"
        ]
       }
      },
      "text/html": [
       "<ul>\n",
       "<li>Dimensions\n",
       "  <ul>\n",
       "  <li>pizza_sales_table\n",
       "    <ul>\n",
       "    <li>dayofweek\n",
       "      <ol>\n",
       "      <li>dayofweek</li>\n",
       "      </ol>    </li>\n",
       "    <li>order_date\n",
       "      <ol>\n",
       "      <li>order_date</li>\n",
       "      </ol>    </li>\n",
       "    <li>order_datetime\n",
       "      <ol>\n",
       "      <li>order_datetime</li>\n",
       "      </ol>    </li>\n",
       "    <li>order_details_id\n",
       "      <ol>\n",
       "      <li>order_details_id</li>\n",
       "      </ol>    </li>\n",
       "    <li>order_id\n",
       "      <ol>\n",
       "      <li>order_id</li>\n",
       "      </ol>    </li>\n",
       "    <li>order_time\n",
       "      <ol>\n",
       "      <li>order_time</li>\n",
       "      </ol>    </li>\n",
       "    <li>pizza_category\n",
       "      <ol>\n",
       "      <li>pizza_category</li>\n",
       "      </ol>    </li>\n",
       "    <li>pizza_id\n",
       "      <ol>\n",
       "      <li>pizza_id</li>\n",
       "      </ol>    </li>\n",
       "    <li>pizza_ingredients\n",
       "      <ol>\n",
       "      <li>pizza_ingredients</li>\n",
       "      </ol>    </li>\n",
       "    <li>pizza_name\n",
       "      <ol>\n",
       "      <li>pizza_name</li>\n",
       "      </ol>    </li>\n",
       "    <li>pizza_size\n",
       "      <ol>\n",
       "      <li>pizza_size</li>\n",
       "      </ol>    </li>\n",
       "    </ul>\n",
       "  </li>\n",
       "  </ul>\n",
       "</li>\n",
       "</ul>\n"
      ],
      "text/plain": [
       "{('pizza_sales_table', 'dayofweek'): <atoti.hierarchy.Hierarchy object at 0x2b55ac9a0>, ('pizza_sales_table', 'pizza_id'): <atoti.hierarchy.Hierarchy object at 0x2b55aca00>, ('pizza_sales_table', 'pizza_name'): <atoti.hierarchy.Hierarchy object at 0x2b55acaf0>, ('pizza_sales_table', 'order_datetime'): <atoti.hierarchy.Hierarchy object at 0x2b55acbe0>, ('pizza_sales_table', 'pizza_ingredients'): <atoti.hierarchy.Hierarchy object at 0x2b55accd0>, ('pizza_sales_table', 'order_id'): <atoti.hierarchy.Hierarchy object at 0x2b55acdc0>, ('pizza_sales_table', 'order_date'): <atoti.hierarchy.Hierarchy object at 0x2b55aceb0>, ('pizza_sales_table', 'order_details_id'): <atoti.hierarchy.Hierarchy object at 0x2b55acfa0>, ('pizza_sales_table', 'pizza_category'): <atoti.hierarchy.Hierarchy object at 0x2b55ad090>, ('pizza_sales_table', 'order_time'): <atoti.hierarchy.Hierarchy object at 0x2b55ad180>, ('pizza_sales_table', 'pizza_size'): <atoti.hierarchy.Hierarchy object at 0x2b55ad270>}"
      ]
     },
     "execution_count": 12,
     "metadata": {
      "application/json": {
       "expanded": true,
       "root": "Dimensions"
      }
     },
     "output_type": "execute_result"
    }
   ],
   "source": [
    "h"
   ]
  },
  {
   "cell_type": "markdown",
   "id": "f51e5cb8-063b-4226-9cfc-20ae53c0e2bb",
   "metadata": {},
   "source": [
    "And so now we know that levels make up hierarchies, but suppose we have levels that are similar in nature to each other, in particular levels that have a parent-child relationship. For example, perhaps we have a city that belongs to a country so `Country` and `City` could be the two levels of a `Geography` hierarchy. Or more commonly (and in this particular example), we have an `order_datetime` hierarchy that could be split into multiple levels such as `Year`, `Month`, `Day`, `Hour`, etc. that would allow us to drill-down to the specific year, month, day, hour level when doing our calculations."
   ]
  },
  {
   "cell_type": "code",
   "execution_count": 13,
   "id": "d36f8ad4-0f53-48d4-9dfc-ea3042b9e92b",
   "metadata": {},
   "outputs": [
    {
     "data": {
      "application/json": {
       "dayofweek (pizza_sales_table/dayofweek/dayofweek)": {
        "dimension": "pizza_sales_table",
        "hierarchy": "dayofweek",
        "order": "NaturalOrder",
        "type": "String"
       },
       "order_date (pizza_sales_table/order_date/order_date)": {
        "dimension": "pizza_sales_table",
        "hierarchy": "order_date",
        "order": "NaturalOrder",
        "type": "String"
       },
       "order_datetime (pizza_sales_table/order_datetime/order_datetime)": {
        "dimension": "pizza_sales_table",
        "hierarchy": "order_datetime",
        "order": "NaturalOrder",
        "type": "LocalDateTime"
       },
       "order_details_id (pizza_sales_table/order_details_id/order_details_id)": {
        "dimension": "pizza_sales_table",
        "hierarchy": "order_details_id",
        "order": "NaturalOrder",
        "type": "String"
       },
       "order_id (pizza_sales_table/order_id/order_id)": {
        "dimension": "pizza_sales_table",
        "hierarchy": "order_id",
        "order": "NaturalOrder",
        "type": "String"
       },
       "order_time (pizza_sales_table/order_time/order_time)": {
        "dimension": "pizza_sales_table",
        "hierarchy": "order_time",
        "order": "NaturalOrder",
        "type": "String"
       },
       "pizza_category (pizza_sales_table/pizza_category/pizza_category)": {
        "dimension": "pizza_sales_table",
        "hierarchy": "pizza_category",
        "order": "NaturalOrder",
        "type": "String"
       },
       "pizza_id (pizza_sales_table/pizza_id/pizza_id)": {
        "dimension": "pizza_sales_table",
        "hierarchy": "pizza_id",
        "order": "NaturalOrder",
        "type": "String"
       },
       "pizza_ingredients (pizza_sales_table/pizza_ingredients/pizza_ingredients)": {
        "dimension": "pizza_sales_table",
        "hierarchy": "pizza_ingredients",
        "order": "NaturalOrder",
        "type": "String"
       },
       "pizza_name (pizza_sales_table/pizza_name/pizza_name)": {
        "dimension": "pizza_sales_table",
        "hierarchy": "pizza_name",
        "order": "NaturalOrder",
        "type": "String"
       },
       "pizza_size (pizza_sales_table/pizza_size/pizza_size)": {
        "dimension": "pizza_sales_table",
        "hierarchy": "pizza_size",
        "order": "NaturalOrder",
        "type": "String"
       }
      },
      "text/html": [
       "<ul>\n",
       "<li>Levels\n",
       "  <ul>\n",
       "  <li>dayofweek (pizza_sales_table/dayofweek/dayofweek)\n",
       "    <ul>\n",
       "    <li>dimension: pizza_sales_table</li>\n",
       "    <li>hierarchy: dayofweek</li>\n",
       "    <li>type: String</li>\n",
       "    <li>order: NaturalOrder</li>\n",
       "    </ul>\n",
       "  </li>\n",
       "  <li>order_date (pizza_sales_table/order_date/order_date)\n",
       "    <ul>\n",
       "    <li>dimension: pizza_sales_table</li>\n",
       "    <li>hierarchy: order_date</li>\n",
       "    <li>type: String</li>\n",
       "    <li>order: NaturalOrder</li>\n",
       "    </ul>\n",
       "  </li>\n",
       "  <li>order_datetime (pizza_sales_table/order_datetime/order_datetime)\n",
       "    <ul>\n",
       "    <li>dimension: pizza_sales_table</li>\n",
       "    <li>hierarchy: order_datetime</li>\n",
       "    <li>type: LocalDateTime</li>\n",
       "    <li>order: NaturalOrder</li>\n",
       "    </ul>\n",
       "  </li>\n",
       "  <li>order_details_id (pizza_sales_table/order_details_id/order_details_id)\n",
       "    <ul>\n",
       "    <li>dimension: pizza_sales_table</li>\n",
       "    <li>hierarchy: order_details_id</li>\n",
       "    <li>type: String</li>\n",
       "    <li>order: NaturalOrder</li>\n",
       "    </ul>\n",
       "  </li>\n",
       "  <li>order_id (pizza_sales_table/order_id/order_id)\n",
       "    <ul>\n",
       "    <li>dimension: pizza_sales_table</li>\n",
       "    <li>hierarchy: order_id</li>\n",
       "    <li>type: String</li>\n",
       "    <li>order: NaturalOrder</li>\n",
       "    </ul>\n",
       "  </li>\n",
       "  <li>order_time (pizza_sales_table/order_time/order_time)\n",
       "    <ul>\n",
       "    <li>dimension: pizza_sales_table</li>\n",
       "    <li>hierarchy: order_time</li>\n",
       "    <li>type: String</li>\n",
       "    <li>order: NaturalOrder</li>\n",
       "    </ul>\n",
       "  </li>\n",
       "  <li>pizza_category (pizza_sales_table/pizza_category/pizza_category)\n",
       "    <ul>\n",
       "    <li>dimension: pizza_sales_table</li>\n",
       "    <li>hierarchy: pizza_category</li>\n",
       "    <li>type: String</li>\n",
       "    <li>order: NaturalOrder</li>\n",
       "    </ul>\n",
       "  </li>\n",
       "  <li>pizza_id (pizza_sales_table/pizza_id/pizza_id)\n",
       "    <ul>\n",
       "    <li>dimension: pizza_sales_table</li>\n",
       "    <li>hierarchy: pizza_id</li>\n",
       "    <li>type: String</li>\n",
       "    <li>order: NaturalOrder</li>\n",
       "    </ul>\n",
       "  </li>\n",
       "  <li>pizza_ingredients (pizza_sales_table/pizza_ingredients/pizza_ingredients)\n",
       "    <ul>\n",
       "    <li>dimension: pizza_sales_table</li>\n",
       "    <li>hierarchy: pizza_ingredients</li>\n",
       "    <li>type: String</li>\n",
       "    <li>order: NaturalOrder</li>\n",
       "    </ul>\n",
       "  </li>\n",
       "  <li>pizza_name (pizza_sales_table/pizza_name/pizza_name)\n",
       "    <ul>\n",
       "    <li>dimension: pizza_sales_table</li>\n",
       "    <li>hierarchy: pizza_name</li>\n",
       "    <li>type: String</li>\n",
       "    <li>order: NaturalOrder</li>\n",
       "    </ul>\n",
       "  </li>\n",
       "  <li>pizza_size (pizza_sales_table/pizza_size/pizza_size)\n",
       "    <ul>\n",
       "    <li>dimension: pizza_sales_table</li>\n",
       "    <li>hierarchy: pizza_size</li>\n",
       "    <li>type: String</li>\n",
       "    <li>order: NaturalOrder</li>\n",
       "    </ul>\n",
       "  </li>\n",
       "  </ul>\n",
       "</li>\n",
       "</ul>\n"
      ],
      "text/plain": [
       "<atoti.levels.Levels at 0x2b55588e0>"
      ]
     },
     "execution_count": 13,
     "metadata": {
      "application/json": {
       "expanded": true,
       "root": "Levels"
      }
     },
     "output_type": "execute_result"
    }
   ],
   "source": [
    "l"
   ]
  },
  {
   "cell_type": "markdown",
   "id": "8ba0e230-2407-4827-9591-6209dc60fb85",
   "metadata": {},
   "source": [
    "And lastly, measures are the numeric attributes that we want to aggregate depending on the hierarchies that we want to slice-and-dice on. So an example again could be the total amount of revenue (`total_price.SUM`) generated for every pizza category (`pizza_category`)."
   ]
  },
  {
   "cell_type": "code",
   "execution_count": 14,
   "id": "bf4dd872-58b9-4f2b-a695-37f86fddc7b6",
   "metadata": {},
   "outputs": [
    {
     "data": {
      "application/json": {
       "contributors.COUNT": {
        "formatter": "INT[#,###]"
       },
       "quantity.MEAN": {
        "formatter": "DOUBLE[#,###.00]"
       },
       "quantity.SUM": {
        "formatter": "INT[#,###]"
       },
       "total_price.MEAN": {
        "formatter": "DOUBLE[#,###.00]"
       },
       "total_price.SUM": {
        "formatter": "DOUBLE[#,###.00]"
       },
       "unit_price.MEAN": {
        "formatter": "DOUBLE[#,###.00]"
       },
       "unit_price.SUM": {
        "formatter": "DOUBLE[#,###.00]"
       }
      },
      "text/html": [
       "<ul>\n",
       "<li>Measures\n",
       "  <ul>\n",
       "  <li>contributors.COUNT\n",
       "    <ul>\n",
       "    <li>formatter: INT[#,###]</li>\n",
       "    </ul>\n",
       "  </li>\n",
       "  <li>quantity.MEAN\n",
       "    <ul>\n",
       "    <li>formatter: DOUBLE[#,###.00]</li>\n",
       "    </ul>\n",
       "  </li>\n",
       "  <li>quantity.SUM\n",
       "    <ul>\n",
       "    <li>formatter: INT[#,###]</li>\n",
       "    </ul>\n",
       "  </li>\n",
       "  <li>total_price.MEAN\n",
       "    <ul>\n",
       "    <li>formatter: DOUBLE[#,###.00]</li>\n",
       "    </ul>\n",
       "  </li>\n",
       "  <li>total_price.SUM\n",
       "    <ul>\n",
       "    <li>formatter: DOUBLE[#,###.00]</li>\n",
       "    </ul>\n",
       "  </li>\n",
       "  <li>unit_price.MEAN\n",
       "    <ul>\n",
       "    <li>formatter: DOUBLE[#,###.00]</li>\n",
       "    </ul>\n",
       "  </li>\n",
       "  <li>unit_price.SUM\n",
       "    <ul>\n",
       "    <li>formatter: DOUBLE[#,###.00]</li>\n",
       "    </ul>\n",
       "  </li>\n",
       "  </ul>\n",
       "</li>\n",
       "</ul>\n"
      ],
      "text/plain": [
       "{'contributors.COUNT': <atoti.measure.Measure object at 0x2b21709d0>, 'update.TIMESTAMP': <atoti.measure.Measure object at 0x2b55d5f90>, 'unit_price.SUM': <atoti.measure.Measure object at 0x2b55d5f00>, 'unit_price.MEAN': <atoti.measure.Measure object at 0x2b55d5f30>, 'quantity.SUM': <atoti.measure.Measure object at 0x2b55d5d80>, 'quantity.MEAN': <atoti.measure.Measure object at 0x2b55d5e70>, 'total_price.SUM': <atoti.measure.Measure object at 0x2b55d5ea0>, 'total_price.MEAN': <atoti.measure.Measure object at 0x2b55d5e10>}"
      ]
     },
     "execution_count": 14,
     "metadata": {
      "application/json": {
       "expanded": false,
       "root": "Measures"
      }
     },
     "output_type": "execute_result"
    }
   ],
   "source": [
    "m"
   ]
  },
  {
   "cell_type": "markdown",
   "id": "a5aaa007-a83b-4893-bfb1-89d70e0ee31d",
   "metadata": {},
   "source": [
    "## Enriching the Cube\n",
    "\n",
    "Now that we've gone over hierarchies, levels, and measures, lets add some additional hierarchies and configurations that will help us answer our analytical questions. In particular, we'll be adding a few multi-level hierarchies, and customizing the ordering for some of our levels.\n"
   ]
  },
  {
   "cell_type": "code",
   "execution_count": 15,
   "id": "930f4ca8-da79-472f-80cd-b87b071fe1c0",
   "metadata": {},
   "outputs": [
    {
     "data": {
      "application/json": {
       "pizza_sales_table": {
        "dayofweek": [
         "dayofweek"
        ],
        "multi-level date": [
         "Year",
         "Quarter",
         "Month",
         "Day",
         "Hour"
        ],
        "multi-level dayofweek": [
         "Weekday",
         "Hour"
        ],
        "order_date": [
         "order_date"
        ],
        "order_datetime": [
         "order_datetime"
        ],
        "order_details_id": [
         "order_details_id"
        ],
        "order_id": [
         "order_id"
        ],
        "order_time": [
         "order_time"
        ],
        "pizza_category": [
         "pizza_category"
        ],
        "pizza_id": [
         "pizza_id"
        ],
        "pizza_ingredients": [
         "pizza_ingredients"
        ],
        "pizza_name": [
         "pizza_name"
        ],
        "pizza_size": [
         "pizza_size"
        ]
       }
      },
      "text/html": [
       "<ul>\n",
       "<li>Dimensions\n",
       "  <ul>\n",
       "  <li>pizza_sales_table\n",
       "    <ul>\n",
       "    <li>dayofweek\n",
       "      <ol>\n",
       "      <li>dayofweek</li>\n",
       "      </ol>    </li>\n",
       "    <li>multi-level date\n",
       "      <ol>\n",
       "      <li>Year</li>\n",
       "      <li>Quarter</li>\n",
       "      <li>Month</li>\n",
       "      <li>Day</li>\n",
       "      <li>Hour</li>\n",
       "      </ol>    </li>\n",
       "    <li>multi-level dayofweek\n",
       "      <ol>\n",
       "      <li>Weekday</li>\n",
       "      <li>Hour</li>\n",
       "      </ol>    </li>\n",
       "    <li>order_date\n",
       "      <ol>\n",
       "      <li>order_date</li>\n",
       "      </ol>    </li>\n",
       "    <li>order_datetime\n",
       "      <ol>\n",
       "      <li>order_datetime</li>\n",
       "      </ol>    </li>\n",
       "    <li>order_details_id\n",
       "      <ol>\n",
       "      <li>order_details_id</li>\n",
       "      </ol>    </li>\n",
       "    <li>order_id\n",
       "      <ol>\n",
       "      <li>order_id</li>\n",
       "      </ol>    </li>\n",
       "    <li>order_time\n",
       "      <ol>\n",
       "      <li>order_time</li>\n",
       "      </ol>    </li>\n",
       "    <li>pizza_category\n",
       "      <ol>\n",
       "      <li>pizza_category</li>\n",
       "      </ol>    </li>\n",
       "    <li>pizza_id\n",
       "      <ol>\n",
       "      <li>pizza_id</li>\n",
       "      </ol>    </li>\n",
       "    <li>pizza_ingredients\n",
       "      <ol>\n",
       "      <li>pizza_ingredients</li>\n",
       "      </ol>    </li>\n",
       "    <li>pizza_name\n",
       "      <ol>\n",
       "      <li>pizza_name</li>\n",
       "      </ol>    </li>\n",
       "    <li>pizza_size\n",
       "      <ol>\n",
       "      <li>pizza_size</li>\n",
       "      </ol>    </li>\n",
       "    </ul>\n",
       "  </li>\n",
       "  </ul>\n",
       "</li>\n",
       "</ul>\n"
      ],
      "text/plain": [
       "{('pizza_sales_table', 'dayofweek'): <atoti.hierarchy.Hierarchy object at 0x2b55d7b80>, ('pizza_sales_table', 'pizza_id'): <atoti.hierarchy.Hierarchy object at 0x2b55d7970>, ('pizza_sales_table', 'pizza_name'): <atoti.hierarchy.Hierarchy object at 0x2b55d7640>, ('pizza_sales_table', 'order_datetime'): <atoti.hierarchy.Hierarchy object at 0x2b55d7700>, ('pizza_sales_table', 'multi-level date'): <atoti.hierarchy.Hierarchy object at 0x2b55d7670>, ('pizza_sales_table', 'multi-level dayofweek'): <atoti.hierarchy.Hierarchy object at 0x2b55d72e0>, ('pizza_sales_table', 'order_id'): <atoti.hierarchy.Hierarchy object at 0x2b55d6b90>, ('pizza_sales_table', 'order_details_id'): <atoti.hierarchy.Hierarchy object at 0x2b55d4100>, ('pizza_sales_table', 'order_time'): <atoti.hierarchy.Hierarchy object at 0x2b55d5270>, ('pizza_sales_table', 'pizza_ingredients'): <atoti.hierarchy.Hierarchy object at 0x2b55d5210>, ('pizza_sales_table', 'order_date'): <atoti.hierarchy.Hierarchy object at 0x2b55d4370>, ('pizza_sales_table', 'pizza_category'): <atoti.hierarchy.Hierarchy object at 0x2b55d5750>, ('pizza_sales_table', 'pizza_size'): <atoti.hierarchy.Hierarchy object at 0x2b55d5810>}"
      ]
     },
     "execution_count": 15,
     "metadata": {
      "application/json": {
       "expanded": true,
       "root": "Dimensions"
      }
     },
     "output_type": "execute_result"
    }
   ],
   "source": [
    "# Create a multi-level date hierarchy\n",
    "# For Year, Quarter, Month, Day, Hour\n",
    "cube.create_date_hierarchy(\n",
    "    \"multi-level date\",\n",
    "    column=pizza_sales_table[\"order_datetime\"],\n",
    "    levels={\n",
    "        \"Year\": \"yyyy\",\n",
    "        \"Quarter\": \"QQQ\",\n",
    "        \"Month\": \"MMM\",\n",
    "        \"Day\": \"dd\",\n",
    "        \"Hour\": \"HH\",\n",
    "    },\n",
    ")\n",
    "\n",
    "# Create a multi-level date hierarchy\n",
    "# For Weekday, and Hour\n",
    "cube.create_date_hierarchy(\n",
    "    \"multi-level dayofweek\",\n",
    "    column=pizza_sales_table[\"order_datetime\"],\n",
    "    levels={\n",
    "        \"Weekday\": \"E\",\n",
    "        \"Hour\": \"HH\",\n",
    "    },\n",
    ")\n",
    "h"
   ]
  },
  {
   "cell_type": "code",
   "execution_count": 16,
   "id": "662f774d-93fe-45db-9e3a-eb3fce8b95f0",
   "metadata": {},
   "outputs": [
    {
     "data": {
      "application/json": {
       "Day (pizza_sales_table/multi-level date/Day)": {
        "dimension": "pizza_sales_table",
        "hierarchy": "multi-level date",
        "order": "NaturalOrder",
        "type": "String"
       },
       "Hour (pizza_sales_table/multi-level date/Hour)": {
        "dimension": "pizza_sales_table",
        "hierarchy": "multi-level date",
        "order": "NaturalOrder",
        "type": "String"
       },
       "Hour (pizza_sales_table/multi-level dayofweek/Hour)": {
        "dimension": "pizza_sales_table",
        "hierarchy": "multi-level dayofweek",
        "order": "NaturalOrder",
        "type": "String"
       },
       "Month (pizza_sales_table/multi-level date/Month)": {
        "dimension": "pizza_sales_table",
        "hierarchy": "multi-level date",
        "order": "Custom",
        "type": "String"
       },
       "Quarter (pizza_sales_table/multi-level date/Quarter)": {
        "dimension": "pizza_sales_table",
        "hierarchy": "multi-level date",
        "order": "NaturalOrder",
        "type": "String"
       },
       "Weekday (pizza_sales_table/multi-level dayofweek/Weekday)": {
        "dimension": "pizza_sales_table",
        "hierarchy": "multi-level dayofweek",
        "order": "Custom",
        "type": "String"
       },
       "Year (pizza_sales_table/multi-level date/Year)": {
        "dimension": "pizza_sales_table",
        "hierarchy": "multi-level date",
        "order": "NaturalOrder",
        "type": "String"
       },
       "dayofweek (pizza_sales_table/dayofweek/dayofweek)": {
        "dimension": "pizza_sales_table",
        "hierarchy": "dayofweek",
        "order": "NaturalOrder",
        "type": "String"
       },
       "order_date (pizza_sales_table/order_date/order_date)": {
        "dimension": "pizza_sales_table",
        "hierarchy": "order_date",
        "order": "NaturalOrder",
        "type": "String"
       },
       "order_datetime (pizza_sales_table/order_datetime/order_datetime)": {
        "dimension": "pizza_sales_table",
        "hierarchy": "order_datetime",
        "order": "NaturalOrder",
        "type": "LocalDateTime"
       },
       "order_details_id (pizza_sales_table/order_details_id/order_details_id)": {
        "dimension": "pizza_sales_table",
        "hierarchy": "order_details_id",
        "order": "NaturalOrder",
        "type": "String"
       },
       "order_id (pizza_sales_table/order_id/order_id)": {
        "dimension": "pizza_sales_table",
        "hierarchy": "order_id",
        "order": "NaturalOrder",
        "type": "String"
       },
       "order_time (pizza_sales_table/order_time/order_time)": {
        "dimension": "pizza_sales_table",
        "hierarchy": "order_time",
        "order": "NaturalOrder",
        "type": "String"
       },
       "pizza_category (pizza_sales_table/pizza_category/pizza_category)": {
        "dimension": "pizza_sales_table",
        "hierarchy": "pizza_category",
        "order": "NaturalOrder",
        "type": "String"
       },
       "pizza_id (pizza_sales_table/pizza_id/pizza_id)": {
        "dimension": "pizza_sales_table",
        "hierarchy": "pizza_id",
        "order": "NaturalOrder",
        "type": "String"
       },
       "pizza_ingredients (pizza_sales_table/pizza_ingredients/pizza_ingredients)": {
        "dimension": "pizza_sales_table",
        "hierarchy": "pizza_ingredients",
        "order": "NaturalOrder",
        "type": "String"
       },
       "pizza_name (pizza_sales_table/pizza_name/pizza_name)": {
        "dimension": "pizza_sales_table",
        "hierarchy": "pizza_name",
        "order": "NaturalOrder",
        "type": "String"
       },
       "pizza_size (pizza_sales_table/pizza_size/pizza_size)": {
        "dimension": "pizza_sales_table",
        "hierarchy": "pizza_size",
        "order": "NaturalOrder",
        "type": "String"
       }
      },
      "text/html": [
       "<ul>\n",
       "<li>Levels\n",
       "  <ul>\n",
       "  <li>Day (pizza_sales_table/multi-level date/Day)\n",
       "    <ul>\n",
       "    <li>dimension: pizza_sales_table</li>\n",
       "    <li>hierarchy: multi-level date</li>\n",
       "    <li>type: String</li>\n",
       "    <li>order: NaturalOrder</li>\n",
       "    </ul>\n",
       "  </li>\n",
       "  <li>Hour (pizza_sales_table/multi-level date/Hour)\n",
       "    <ul>\n",
       "    <li>dimension: pizza_sales_table</li>\n",
       "    <li>hierarchy: multi-level date</li>\n",
       "    <li>type: String</li>\n",
       "    <li>order: NaturalOrder</li>\n",
       "    </ul>\n",
       "  </li>\n",
       "  <li>Hour (pizza_sales_table/multi-level dayofweek/Hour)\n",
       "    <ul>\n",
       "    <li>dimension: pizza_sales_table</li>\n",
       "    <li>hierarchy: multi-level dayofweek</li>\n",
       "    <li>type: String</li>\n",
       "    <li>order: NaturalOrder</li>\n",
       "    </ul>\n",
       "  </li>\n",
       "  <li>Month (pizza_sales_table/multi-level date/Month)\n",
       "    <ul>\n",
       "    <li>dimension: pizza_sales_table</li>\n",
       "    <li>hierarchy: multi-level date</li>\n",
       "    <li>type: String</li>\n",
       "    <li>order: Custom</li>\n",
       "    </ul>\n",
       "  </li>\n",
       "  <li>Quarter (pizza_sales_table/multi-level date/Quarter)\n",
       "    <ul>\n",
       "    <li>dimension: pizza_sales_table</li>\n",
       "    <li>hierarchy: multi-level date</li>\n",
       "    <li>type: String</li>\n",
       "    <li>order: NaturalOrder</li>\n",
       "    </ul>\n",
       "  </li>\n",
       "  <li>Weekday (pizza_sales_table/multi-level dayofweek/Weekday)\n",
       "    <ul>\n",
       "    <li>dimension: pizza_sales_table</li>\n",
       "    <li>hierarchy: multi-level dayofweek</li>\n",
       "    <li>type: String</li>\n",
       "    <li>order: Custom</li>\n",
       "    </ul>\n",
       "  </li>\n",
       "  <li>Year (pizza_sales_table/multi-level date/Year)\n",
       "    <ul>\n",
       "    <li>dimension: pizza_sales_table</li>\n",
       "    <li>hierarchy: multi-level date</li>\n",
       "    <li>type: String</li>\n",
       "    <li>order: NaturalOrder</li>\n",
       "    </ul>\n",
       "  </li>\n",
       "  <li>dayofweek (pizza_sales_table/dayofweek/dayofweek)\n",
       "    <ul>\n",
       "    <li>dimension: pizza_sales_table</li>\n",
       "    <li>hierarchy: dayofweek</li>\n",
       "    <li>type: String</li>\n",
       "    <li>order: NaturalOrder</li>\n",
       "    </ul>\n",
       "  </li>\n",
       "  <li>order_date (pizza_sales_table/order_date/order_date)\n",
       "    <ul>\n",
       "    <li>dimension: pizza_sales_table</li>\n",
       "    <li>hierarchy: order_date</li>\n",
       "    <li>type: String</li>\n",
       "    <li>order: NaturalOrder</li>\n",
       "    </ul>\n",
       "  </li>\n",
       "  <li>order_datetime (pizza_sales_table/order_datetime/order_datetime)\n",
       "    <ul>\n",
       "    <li>dimension: pizza_sales_table</li>\n",
       "    <li>hierarchy: order_datetime</li>\n",
       "    <li>type: LocalDateTime</li>\n",
       "    <li>order: NaturalOrder</li>\n",
       "    </ul>\n",
       "  </li>\n",
       "  <li>order_details_id (pizza_sales_table/order_details_id/order_details_id)\n",
       "    <ul>\n",
       "    <li>dimension: pizza_sales_table</li>\n",
       "    <li>hierarchy: order_details_id</li>\n",
       "    <li>type: String</li>\n",
       "    <li>order: NaturalOrder</li>\n",
       "    </ul>\n",
       "  </li>\n",
       "  <li>order_id (pizza_sales_table/order_id/order_id)\n",
       "    <ul>\n",
       "    <li>dimension: pizza_sales_table</li>\n",
       "    <li>hierarchy: order_id</li>\n",
       "    <li>type: String</li>\n",
       "    <li>order: NaturalOrder</li>\n",
       "    </ul>\n",
       "  </li>\n",
       "  <li>order_time (pizza_sales_table/order_time/order_time)\n",
       "    <ul>\n",
       "    <li>dimension: pizza_sales_table</li>\n",
       "    <li>hierarchy: order_time</li>\n",
       "    <li>type: String</li>\n",
       "    <li>order: NaturalOrder</li>\n",
       "    </ul>\n",
       "  </li>\n",
       "  <li>pizza_category (pizza_sales_table/pizza_category/pizza_category)\n",
       "    <ul>\n",
       "    <li>dimension: pizza_sales_table</li>\n",
       "    <li>hierarchy: pizza_category</li>\n",
       "    <li>type: String</li>\n",
       "    <li>order: NaturalOrder</li>\n",
       "    </ul>\n",
       "  </li>\n",
       "  <li>pizza_id (pizza_sales_table/pizza_id/pizza_id)\n",
       "    <ul>\n",
       "    <li>dimension: pizza_sales_table</li>\n",
       "    <li>hierarchy: pizza_id</li>\n",
       "    <li>type: String</li>\n",
       "    <li>order: NaturalOrder</li>\n",
       "    </ul>\n",
       "  </li>\n",
       "  <li>pizza_ingredients (pizza_sales_table/pizza_ingredients/pizza_ingredients)\n",
       "    <ul>\n",
       "    <li>dimension: pizza_sales_table</li>\n",
       "    <li>hierarchy: pizza_ingredients</li>\n",
       "    <li>type: String</li>\n",
       "    <li>order: NaturalOrder</li>\n",
       "    </ul>\n",
       "  </li>\n",
       "  <li>pizza_name (pizza_sales_table/pizza_name/pizza_name)\n",
       "    <ul>\n",
       "    <li>dimension: pizza_sales_table</li>\n",
       "    <li>hierarchy: pizza_name</li>\n",
       "    <li>type: String</li>\n",
       "    <li>order: NaturalOrder</li>\n",
       "    </ul>\n",
       "  </li>\n",
       "  <li>pizza_size (pizza_sales_table/pizza_size/pizza_size)\n",
       "    <ul>\n",
       "    <li>dimension: pizza_sales_table</li>\n",
       "    <li>hierarchy: pizza_size</li>\n",
       "    <li>type: String</li>\n",
       "    <li>order: NaturalOrder</li>\n",
       "    </ul>\n",
       "  </li>\n",
       "  </ul>\n",
       "</li>\n",
       "</ul>\n"
      ],
      "text/plain": [
       "<atoti.levels.Levels at 0x2b55588e0>"
      ]
     },
     "execution_count": 16,
     "metadata": {
      "application/json": {
       "expanded": true,
       "root": "Levels"
      }
     },
     "output_type": "execute_result"
    }
   ],
   "source": [
    "# Change `NaturalOrder` to `CustomOrder` for specific levels\n",
    "l[(\"pizza_sales_table\", \"multi-level date\", \"Month\")].order = atoti.CustomOrder(\n",
    "    first_elements=[\n",
    "        \"Jan\",\n",
    "        \"Feb\",\n",
    "        \"Mar\",\n",
    "        \"Apr\",\n",
    "        \"May\",\n",
    "        \"Jun\",\n",
    "        \"Jul\",\n",
    "        \"Aug\",\n",
    "        \"Sep\",\n",
    "        \"Oct\",\n",
    "        \"Nov\",\n",
    "        \"Dec\",\n",
    "    ]\n",
    ")\n",
    "l[(\"pizza_sales_table\", \"multi-level dayofweek\", \"Weekday\")].order = atoti.CustomOrder(\n",
    "    first_elements=[\"Mon\", \"Tue\", \"Wed\", \"Thu\", \"Fri\"]\n",
    ")\n",
    "l"
   ]
  },
  {
   "cell_type": "markdown",
   "id": "33941fbf-4bb9-4bde-bcde-8ddce668ef81",
   "metadata": {},
   "source": [
    "## Data Analysis and Visualization in Atoti\n",
    "\n",
    "With the data in the cube ready-to-go, let's now get to slicing-and-dicing! Be aware that from this point onwards we'll be using the Atoti JupyterLab extension which allows us to create notebook widgets and interact with Atoti and the data in the cube. Select the Atoti JupyterLab extension in your left-hand menu pane to follow along. Otherwise, you can always go to [http://localhost:9092/#/dashboard/e49](http://localhost:9092/#/dashboard/e49) to pull up the dashboard.\n",
    "\n",
    " "
   ]
  },
  {
   "cell_type": "markdown",
   "id": "36177858-e3d8-4356-9721-8affc1d2844f",
   "metadata": {},
   "source": [
    "### What days and times do we tend to be busiest?\n",
    "\n",
    "To answer this question, we need to analyze the amount of revenue generated per weekday, and when we determine which weekday generates the most revenue, we need to drill-down to the hourly revenue for that day to determine which day and time tends to be the busiest. Good thing we already made our `multi-level dayofweek` hierarchy! For the below, based on our analysis, it looks like Plato's Pizza generates the most revenue on Fridays."
   ]
  },
  {
   "cell_type": "code",
   "execution_count": 17,
   "id": "ea59792b-74ca-4888-8080-481ed1669ae1",
   "metadata": {
    "atoti": {
     "widget": {
      "mapping": {
       "horizontalSubplots": [],
       "stackBy": [
        "ALL_MEASURES"
       ],
       "values": [
        "[Measures].[total_price.SUM]"
       ],
       "verticalSubplots": [],
       "xAxis": [
        "[pizza_sales_table].[multi-level dayofweek].[Weekday]"
       ]
      },
      "query": {
       "mdx": "WITH  Member [Measures].[[pizza_sales_table]].[multi-level dayofweek]].[Weekday]]_for_order] AS Rank(IIf([pizza_sales_table].[multi-level dayofweek].CurrentMember.Level.Ordinal > [pizza_sales_table].[multi-level dayofweek].[Weekday].Ordinal, Ancestor([pizza_sales_table].[multi-level dayofweek].CurrentMember, [pizza_sales_table].[multi-level dayofweek].[Weekday]), [pizza_sales_table].[multi-level dayofweek].CurrentMember), [pizza_sales_table].[multi-level dayofweek].Members)  SELECT NON EMPTY {[Measures].[total_price.SUM]} ON COLUMNS, NON EMPTY Order(Hierarchize(Descendants({[pizza_sales_table].[multi-level dayofweek].[ALL].[AllMember]}, 1, SELF_AND_BEFORE)), [Measures].[[pizza_sales_table]].[multi-level dayofweek]].[Weekday]]_for_order], BASC) DIMENSION PROPERTIES CHILDREN_CARDINALITY ON ROWS FROM [pizza_sales_table] CELL PROPERTIES VALUE, FORMATTED_VALUE, BACK_COLOR, FORE_COLOR, FONT_FLAGS",
       "updateMode": "once"
      },
      "serverKey": "default",
      "widgetKey": "plotly-stacked-column-chart"
     }
    }
   },
   "outputs": [
    {
     "data": {
      "application/vnd.atoti.widget.v0+json": {
       "sessionId": "1707409745_PR9VA3",
       "sessionLocation": {
        "https": false,
        "port": 9092
       },
       "widgetCreationCode": "session.widget"
      },
      "text/html": [
       "<img height=\"352\" width=\"1254\" src=\"data:image/png;base64,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\" />"
      ],
      "text/plain": [
       "Open the notebook in JupyterLab with the Atoti JupyterLab extension enabled to build this widget."
      ]
     },
     "metadata": {},
     "output_type": "display_data"
    }
   ],
   "source": [
    "# X-axis: Weekday\n",
    "# Y-axis: total_price.SUM\n",
    "session.widget"
   ]
  },
  {
   "cell_type": "markdown",
   "id": "51a9b156-ded3-4f2d-aa36-b97042ddf9cb",
   "metadata": {},
   "source": [
    "Now, when we drill-down further and look at total revenue per hour, with a filter for Fridays only, we can see that around 12 PM is the time when Plato's Pizza tends to be busiest, which makes sense as that's typical of lunch rush hour! 🍕"
   ]
  },
  {
   "cell_type": "code",
   "execution_count": 27,
   "id": "741e741e-162c-4c59-8cf8-a8d084b4af59",
   "metadata": {
    "atoti": {
     "widget": {
      "filters": [
       {
        "dimensionName": "pizza_sales_table",
        "hierarchyName": "multi-level dayofweek",
        "isExclusionFilter": false,
        "members": [
         [
          "AllMember",
          "Fri"
         ]
        ],
        "type": "members"
       }
      ],
      "mapping": {
       "horizontalSubplots": [],
       "stackBy": [
        "ALL_MEASURES"
       ],
       "values": [
        "[Measures].[total_price.SUM]"
       ],
       "verticalSubplots": [],
       "xAxis": [
        "[pizza_sales_table].[multi-level dayofweek].[Hour]"
       ]
      },
      "name": "Total Hourly Revenue on Fridays",
      "query": {
       "mdx": "SELECT NON EMPTY Hierarchize(Descendants({[pizza_sales_table].[multi-level dayofweek].[ALL].[AllMember]}, 2, SELF_AND_BEFORE)) DIMENSION PROPERTIES CHILDREN_CARDINALITY ON ROWS, NON EMPTY {[Measures].[total_price.SUM]} ON COLUMNS FROM [pizza_sales_table] CELL PROPERTIES VALUE, FORMATTED_VALUE, BACK_COLOR, FORE_COLOR, FONT_FLAGS",
       "updateMode": "once"
      },
      "serverKey": "default",
      "widgetKey": "plotly-stacked-column-chart"
     }
    }
   },
   "outputs": [
    {
     "data": {
      "application/vnd.atoti.widget.v0+json": {
       "sessionId": "1707409745_PR9VA3",
       "sessionLocation": {
        "https": false,
        "port": 9092
       },
       "widgetCreationCode": "session.widget"
      },
      "text/html": [
       "<img height=\"352\" width=\"1254\" src=\"data:image/png;base64,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\" />"
      ],
      "text/plain": [
       "Open the notebook in JupyterLab with the Atoti JupyterLab extension enabled to build this widget."
      ]
     },
     "metadata": {},
     "output_type": "display_data"
    }
   ],
   "source": [
    "# X-axis: Hour\n",
    "# Y-axis: total_price.SUM\n",
    "# Filter: Fri\n",
    "session.widget"
   ]
  },
  {
   "cell_type": "markdown",
   "id": "a61003ce-727f-4765-ba4b-5ee6b7051e7c",
   "metadata": {},
   "source": [
    "### How many pizzas are we making during peak periods?\n",
    "\n",
    "So we've determined that 12 PM on Fridays is our busiest time, but what about the amount of pizza sold? This is as easy as adding our `Quantity.SUM` measure to our visualization, and we've used a clustered Column graph to easily depict this. Looks like `1101` pizzas have been sold at Plato's Pizza's peak period."
   ]
  },
  {
   "cell_type": "code",
   "execution_count": 23,
   "id": "7f7b7e3f-9a24-454d-ac02-785bfc760c5c",
   "metadata": {
    "atoti": {
     "widget": {
      "filters": [
       {
        "dimensionName": "pizza_sales_table",
        "hierarchyName": "multi-level dayofweek",
        "isExclusionFilter": false,
        "members": [
         [
          "AllMember",
          "Fri"
         ]
        ],
        "type": "members"
       }
      ],
      "mapping": {
       "horizontalSubplots": [],
       "stackBy": [
        "ALL_MEASURES"
       ],
       "values": [
        "[Measures].[total_price.SUM]",
        "[Measures].[quantity.SUM]"
       ],
       "verticalSubplots": [],
       "xAxis": [
        "[pizza_sales_table].[multi-level dayofweek].[Hour]"
       ]
      },
      "name": "Total Hourly Revenue and Quantity Sold on Fridays",
      "query": {
       "mdx": "WITH  Member [Measures].[[pizza_sales_table]].[multi-level dayofweek]].[Hour]]_for_order] AS Rank(IIf([pizza_sales_table].[multi-level dayofweek].CurrentMember.Level.Ordinal > [pizza_sales_table].[multi-level dayofweek].[Hour].Ordinal, Ancestor([pizza_sales_table].[multi-level dayofweek].CurrentMember, [pizza_sales_table].[multi-level dayofweek].[Hour]), [pizza_sales_table].[multi-level dayofweek].CurrentMember), [pizza_sales_table].[multi-level dayofweek].Members)  SELECT NON EMPTY {[Measures].[total_price.SUM], [Measures].[quantity.SUM]} ON COLUMNS, NON EMPTY Order(Hierarchize(Descendants({[pizza_sales_table].[multi-level dayofweek].[ALL].[AllMember]}, 2, SELF_AND_BEFORE)), [Measures].[[pizza_sales_table]].[multi-level dayofweek]].[Hour]]_for_order], BASC) DIMENSION PROPERTIES CHILDREN_CARDINALITY ON ROWS FROM [pizza_sales_table] CELL PROPERTIES VALUE, FORMATTED_VALUE, BACK_COLOR, FORE_COLOR, FONT_FLAGS",
       "updateMode": "once"
      },
      "serverKey": "default",
      "style": {
       "areAxisTitlesVisible": true
      },
      "switchedTo": "plotly-clustered-column-chart",
      "widgetKey": "plotly-stacked-column-chart"
     }
    }
   },
   "outputs": [
    {
     "data": {
      "application/vnd.atoti.widget.v0+json": {
       "sessionId": "1707409745_PR9VA3",
       "sessionLocation": {
        "https": false,
        "port": 9092
       },
       "widgetCreationCode": "session.widget"
      },
      "text/html": [
       "<img height=\"352\" width=\"1254\" src=\"data:image/png;base64,iVBORw0KGgoAAAANSUhEUgAABOYAAAFgCAYAAAAfLXZIAAAAAXNSR0IArs4c6QAAIABJREFUeF7s3Qu8TXX+//HPIZeIcokklVKKKV1VMr+hya3EIKIpcutCulG6KKUaJd0vuo2uEymkCyJlNN2mUiEiUZjoQkoIxf/xXv3XaZ/jHGd/v2evvfdZXuvx6NHk7O9eaz2/+5zmvPqutXKMDQEEEEAAAQQQQAABBBBAAAEEEEAAAQTSLpCT9j2yQwQQQAABBBBAAAEEEEAAAQQQQAABBBCw3DC3bdu2bXgggAACCJR4gS05OTllS/xZcAIIIIAAAggggAACCCCAwE4gQJjbCSaZU0QAgZ1KYH1OTs5uO9UZc7IIIIAAAggggAACCCCAQAkVIMyV0InjsBFAAIFCBAhzfDQQQAABBBBAAAEEEEAAgRIiQJgrIRPFYSKAAAJJChDmkoTiZQgggAACCCCAAAIIIIBApgUIc5meAfaPAAIIpFaAMJdaT94NAQQQQAABBBBAAAEEEIhMgDAXGS1vjAACCGREgDCXEXZ2igACCCCAAAIIIIAAAgi4CxDm3M0YgQACCGSzAGEum2eHY0MAAQQQQAABBBBAAAEEEgQIc3wcEEAAgXgJEObiNZ+cDQIIIIAAAggggAACCMRYICvD3MKFC23+/PnWrl07K126dNbzT5w40erXr28NGjTI+mPdmQ/wxRdftP33398OP/zwpBhWrlxpZcuWtWrVqiX1+nS+aMuWLTZmzBg75phjIvvc/fLLL7ZixQrbc889bffdd3c+vdWrV9usWbPsxBNPtBo1ahQ6/u233zbt66STTnLeR6YGTJ06NfjZ1KJFi0IPYfHixTZ37lxr27atlSlTJp2HSphLpzb7QgABBBBAAAEEEEAAAQSKIVBgmLvlllvs8ccf3+HbPvvss9aoUaMdvua3336zN9980/bbbz+rW7du0of56KOP2siRI+3jjz+28uXLbzdOgeWKK66wV155xQ488MDtvn7GGWfYrrvuWuQ5JH1ARbzwkEMOsf79+9uAAQO83nLIkCH2/PPP5xlbr149O+GEE2zgwIEFGnjtaCcfpHnq06ePDRo0qFCJb775xu655x576623bNWqVcHrFPOaNWtmF154oe22225pVyzo++jTTz+1Tp06WZs2bezOO+8Mjumjjz4K/n7kkUcW6xi//fbbwOi///1v7vvUqVPHRowY4fTen3zyiel7cfTo0dakSZNCj0nfO4qgEyZMKNZxuw4Of44UNO7vf/+7XXvttQW+peajYcOGVrFiRfvwww8L3e3TTz9tN910U+BYuXJl18MrzusJc8XRYywCCCCAAAIIIIAAAgggkEaBAsPczJkzbd68ebmHcd999wWrchJXtCgK1KpVa4eHqlUwRxxxhHO0KirMvfDCC3bllVfayy+/bApY+bfOnTtbuXLlTL8Yp2Mrbpi76qqrTKvuLr744uBw169fH/yzVhw1bdrUHnnkEcvJyZ2qdJxSLPdRVJj76aefglWaCnLHH398EL02bNhgL730UrCCUyH6mWeeSfsqzoK+j7Zu3WpTpkwJVv8pmmk788wzg7/rGH03Rae//vWvgcG5554bhLjly5fb3XffHXwutc9kI3u2h7nw50jXrl2tevXqecj+9Kc/BTG2sE2xbZdddrGjjjqq0NcQ5nw/hYxDAAEEEEAAAQQQQAABBHYegaQuZVXQ2NEKksK4CHPJfZAU5qZNm5Zn9Y0CiVYSKZK++uqrwarDTGzbtm3L6ijocnxFhbk77rjDHn74YTv77LPtmmuuyeVWBDv//PODyzKHDx9uHTp0iGwqCjqfZL+PUhHmFCA7duwYrJjT6sJwCyPbZZddFgS7ZLZMhrlkPhdFBf6CzjGZ9w3H7SjMubyPx3GwYi6ZDyivQQABBBBAAAEEEEAAAQSyQKBYYU6h4rnnnrPp06cH91j7y1/+Yv369QsuvdTX/vGPf9iXX34ZXPKl1XX6ZV+rUL777rvgUtX//Oc/wb2ltBLp0ksvtcMOOywgSfWKOf0S/K9//ct0X6gPPvggWA3VunVr00qZcDvnnHOC+3XpcsVwUxTTcWrFmo7/kksuCVbW6J5bTz75pB100EHB5bLhijmFNF26p/PR5anhtnnz5mBfOveLLrpou2kvKMzpRTpe7fP222+3U089NRinS4PHjRsXmGu1jv5c0VTxSPs++uijg9WE4SZf/bnuhaVz+/nnn+2hhx4Kxmse5KAAE66Cev/99+2GG24wHZPCwhtvvGF77bVXEKt69+4dvO2MGTOCyyd1iWLivcMUbGSheKOtqH0V9PnXPbn03oo6+hxprq6++urc+7yFc3DAAQcEc6DPly6THDp0aJ54qVVu+mxqZZOc9B6nn376Di9llYU2BZv8l1Br9WLLli2D+6XpUletKAsvi01cWXX//ffbe++9FxybtqI+64899liwIk/eOu/Zs2cHq0AHDx5sf/7znwv9PtJlzlq12rNnz+Bz1aNHD9M9zbRpvM5FMVdzrdVuiZd8y+WJJ56wf/7zn1azZs080xB+5hQo/+///i/P1/T9oM++LuMM5/fBBx8M4rEuRdXxdunSJfey1YLCnP5M56z96BJhXf49efLkIi9l3dHPGh1Lsp+LxBNKJsyF86PvW82P7n+py4g1XxUqVLDrr78+eEtd/jtq1KggsGvTZ0335dPlv+GlrJs2bQrmQ+erz61+3ul7929/+5stWbIk+Nmg7yGt2gw3hVJdtq/vKa1Y1vfnvffeG7ynVkqefPLJwUrbfJ9XwlxBP1z4MwQQQAABBBBAAAEEEEAgCwW8w9y7775rillhBFi2bJnpnk0KQHfddVfwi6dWeiliKHgp2jVv3jwIQIpJChb6JV43UA8v21SoU/hKdZjTL8yKE7osVJfmKZzoF1v9cq2goU3BRZfwDRs2LHeadA873eNNv2zvu+++wUoi/aKs0HjaaacFl/fqHBIvZQ3vF5d4fzzdr0xRS8chg/xbYWFOUeDWW2+18H5+ijZaFaUIKmddbqwoEp5HuG/FD13Kq01f12ovhRado+KcYpuOW+FA9/XSjek1B1WqVMl9vc5RYUa//I8fPz64rFYBSTEyDBqvv/667b333rmno2NSGNQ9CrXir6h95Xf4+uuvg/igfbZv3z6IX7r3npzD+49pDr766iurVKlSMB8LFiwIzifxXmvhOeuz2apVK/viiy+CoKlLMQu7x5wuWVXAU+hSFCtoUzRZtGhRYKTPu0LdbbfdFnwWwk2hRtFTcy6Doj7rCr/6vOsBE3pIgOLN2LFjg8+YPqOFfR/ts88+wWXiit36TCg8h/eF1PelPiOKlwo3it7nnXde7jEq1CrYTpo0abvTDM9LdopKhT3Q5Ndffw0ivIKZwpI+B2FwCj+v+cPc//73v9zopMvNda76maFNEbGwe8wV9bNGP0OS+VzkP9lkwlw4P5oPBdDatWsHIUyhWmFOc6fwLnN9f8pCsVrntW7duuAzF4Y5BW89sEOv0WdcgVs/TxQ39b2mz75iZeL9PfVzSz839ICMtWvX2imnnBKEf0VZfa4VWPW9nPhzS1fD5+TkpP9miFn4LzgOCQEEEEAAAQQQQAABBBDIdgHvMKcVOQoP+mVakUSbVlDpl3mtMNPqmYIuwVuzZk2w4qtx48a592fSL/eKHop4ih3JhjmtONEvzPk3/SKvGKgVX99//30Q5BLDjVaXaXWbgo5W0OmG/i5hTuElvK+X9p0Y5sKI8MADD+Tek0+/kOsX9XfeeSd4ymf+LQxzikfa5KZIqUsr9cu9frFXfFC40aYVT3q4hVYCKswoICoEKoQoNCaudlKs033BFCMVlBTLNEfhqhytAFIE08ql8NJZhbzES5f1ZM7EwJNMmHvttdeK3Fd+B61EkoGOJ7x/YXh5aRhtwziaGAXzx9DwSZkKiuFN97XqUJ/LwsJcGJF2dKlqeCyaY92Prqgwl8xnPQw/itnhir3woQSKbQqdBX0fhX+WeMlpQZey6s8Uh8IIp9ipwJQYpfPPQ/h9rD/XaklFIx3bcccdl3t/PcVqrfBSiAxXniocKUQq0ukzmj/M6bWKjvqZEQa/MKImxtf8x5PMz5pkPheFhTlFtfxPjVX4UrgO50dzrygWbnINw1wY8K+77rrc+/xpBaG+XxPDnEK7/sNDGHLlpRWhZ511VrDCVvfy1F+KcFWrVg12pc+yIqninD4PN954Y577/GnloVbrde/ePfH0CHPZ/m9ejg8BBBBAAAEEEEAAAQQQ+P8CXmFOv2wqGGjlyAUXXJCLqVih4Bbeh2pH98ZS1FPw0RitCrr88sst/MU22TCnFU4FPe1Qv+yHYS5crfbUU0/Zsccem3usYQzUjfL1PsmGOUW88DLF8M0Sw5zOSyFDYTJcOSYTrZIp7CmP4cMf8n8qtYrq5ptvDkJKuKJL/zvx6a8KYPqlXRFKx6F9a1WengapVU2KKVqdpMtbdSmeLqXTqp3EQKgIoctBFWTCUJL/SZoKBLocUqt7kglzyeyrsO/CLVu2BCvSdCmsQo5W8yksaRWYAoxW+GlVVriFYUTBVysyNc+KRlrRFW7harzCwpzCpaJmYiDLf3yKrYrHMtIqqaLCXDh+R5/1MPzoiaqKrdoUdTSHWrmnFXzFCXNacajoE6761NwrFP/73//e7jLWxPPVZbEKhAqg4SWy8ldcUjQK53fOnDl5PkthANUlyVoNlvhUVs1dQd8/+kzrPQtaMZfsz5qiPhd6SEb+LfwcF/Q5DB9yEc5P/vNMDHPhOSeuVNV76ueZPpP5n8qq+f3hhx+Cz7eCmr63dHmqLmdV/AvjsFZnKqCHn8nwe1MxTzFRP4PD/yiS7xwIc/wrHgEEEEAAAQQQQAABBBAoIQJeYS68QXzivc/C89Uvi1pdpUswCwoKihSKO/pFNP/mGuaSeSpreAP2/JddKjZoRYvCl8JUsmFOK7l0H7HELf9TWbW6RqtbtEJOv9BrRUwYAAv6XIRhTjFNmy7P1HiFPK1c0xaaF/a5Cuci3LdCk+5HpbCjOKAw0atXr2A1TkGbIqAiZvjLf+KqJr1egUUriLQaL5kwl8y+8h+HIq2ikUJb/i0xzOWfgzC+KtYp2inS5L/EVKsktSqrsDCn1W2Kk1o1mBg+E49DsU/7+vDDD5O+lLWoz3oYfj777LPcXW3cuDG45Fr3FpNjccLcjz/+GMTZMPIp6JQqVSqIsMluS5cuDeZdgTS8bFJOWuGoz0vips+avo8VtjSfiWFO3ycFXHYZzIn8Cwpzyf6s0Zzv6HOhyz/zby6XsibOj94nMcwVZhH+B4YwzOnSVdnosvDETRFWcV2bIrq+F/W50V+KcomXxWvVp/5cwVKbop5WTeZ7OAxhLtkPN69DAAEEEEAAAQQQQAABBDIs4BXmwkuwtMotfCCAziMMCLpcUn8VFBR0+ahW2enJlroETpeEajWYYl4UYU5BTiunwvtehd6KZopWWgGkG+krzOnvCiXhplCghwYk3mMumTAXXh6qm+vr0kxdbqbjUBApaMt/jzmtGNPKGbnoslldMheGI51LeF+8xPfSaxSlwn3rPlUaq5WBOv6cnJxgBZ/+XOee/1j0da0+dAlzCmiJDxWQYbhSMJl95bdQzNV8hA8J0eWF8tN9/pINc7r3mo4j/1NFw0uaCwtzOhaN04o7ra6Uh1Z06j6Jipq6bFr3INSDDxSpwnux6d5eik3hpgCmy24V8JL5rEcd5nRcCopapaWgo3OUsy4XLmjTykKt5Dr44IPzfDlcCar7ECqIh3OlOKfLrMMtvBxTMUmfxcQwpxCuS2MVrBI3Xaqqz29BYS7ZnzWZDHNa4aZ7veW3UGjXfxhQmJOffr4oECrkKVLq+02XteozpQCnLbxcVWMU//R6/ceDxE0/HxQs9X2tnzEyzRdICXMZ/hcru0cAAQQQQAABBBBAAAEEkhXwCnN6c11+pic06tK4XXbZJdhfeEmhfjlXaNPN3fWLZbdu3YKnZmoLf3EPY1fiuCjCnG44r6CS/6b+4f2uwvs5aaWKooSCSrhdc801wSWirmFO4xUhdImsVsno/BOf9pp/cgp6+ENoqadN6p5vobluDq9fxsMYokCk++Tp4RpaaRPuW5dz6rh1k/pwfHjvMkUEraIKN4VD3atPUS2ZMBeuUEu8H1sYqnTJrqJcMvvK76AQoQc7JM5BOE/Jhjl93hSfdJ+zxM9mGDx2FObCkBKuLlNMkZ8Cky7j1M399TnWfIaXWIbnq3PR6xWZFFR1Dsl81pMJcwV9HxV2jzk9VEVBNnEL7/enIKTVnlpJWcglkBZerpt/Nar2J1ddKq3LWMP5TXygiY5Tq0+1aXz+e8zJVfOoYBneQzBcEbeje8wl87Mmk2EuDPiJ95XUvSEV3XRPP0U2nadWKyZ+z4SXLOszE4a5MCCHcxX+hwOZat50Cax+toZhPYyC+S6XJcwl+29AXocAAggggAACCCCAAAIIZFjAO8zpsjYFJUUvre5SANNllFpZpBVH5cuXD05NwUv3TtKqJ/2CrcihFXMad/rppwf3l9PqG21RhDm9b3ipqOKcwo1+wVWoSXzAQbgCSPd00uVhugRVl41p8wlz4RNVNT7/yrL8c15QmFPk0aomXXKryKPopkioWKjj08MstLJJT23UpgAYmifuOzGAKhYoKikIKBRqdZlW8mkuQ/tkwlwYD7RSR6FLq6h0abLmMgxVyewrv0M4B3379g3un6Xz1mdJm0uYCyNc+NnUcYWXTu8ozCks6TOiAKewqgj1+eef534O9Ge6RFar6bRpfvR51oNL9LlSoNE8hJcFhyvmdvRZTybMFfR9pHuyhU9l1TlpC+/7prnV5ZFaiaUtjHj63zqHxFWh+edg+fLlwedLoVYr7fQUXs23YrDONXxAS+L8KiIp0uupvVqhGd4TLX+Y01OE9T2vhxlo1afu06fvMcWrHYW5ZH7WZDLM6ZJdBUmtapWF5l8Pv1Aw16ZopkupdW84nbt+/mnVmyKpvBPDnF6vkK7vQ72PPMMIr6CuEKeVxvqZqwj7j3/8I/dhGwlzSZjL8L9Y2T0CCCCAAAIIIIAAAgggkKyAd5jTDhRAFE4UPrQpQOgeYXryYLgl3ldJUUO/UOoX9zB66ZdPraTR/bTC1UiKAHpt4r2VEk9IkUZjCgteioG6kX74kAb9EqxfYBWpdH8n7VOBQvsMf+nVKietTtMvwtr0C7R+Ydaqp8QwV7t27e3uj6fL0sLLd8PjDFfDaIWbVqTtaFNs02t077LELYxkiav99Mu5VoKF5nqwhFaVHXDAAblDw30rFiU+JEEv0KpAXX4ZXvqmAKNQoEuSFZx2FOYU4HQ5pDYdr54QGd4vS3YKh3rohuJBMvvKb6LAoTkJj02xRvOkp8hqhZYur1SAyT8HWvWoe7GF99LT+yrE6cEROj6do95D0UTRT5G4sE1xRZ89fQ7y3wvsvPPOs0svvTR3qIKzLi0O50JBS5dkhpeyKq4W9VkPHxyQeA+zMKSFK/e0w/zfR9qXwlzi5eS6F5zOTauz8t/LLVx5qPlTIN/RpgCn9wkf+qDXylCXVIZPjtWf6XOmz5ICZPg9o+Cm7z9tYZhLXPWlS4M1N+F76/tG91TUexV0KWt4nEX9rEn2c+Hyc0SvLWh+9Oda3akHWeiyZm16UINWXCrCadP86POrcB6uZtP3jL7Xw/vD6XJrxUxdPh2umNPYcLVs/oiscCy7xEuBFY/1fVizZs3EUyPM7fATzhcRQAABBBBAAAEEEEAAgewRSCrMFXW4usG8fklNvNdU4hitFtHqmHLlyuWuNlK00GVZij2FjStqv65f37ZtW7CqJbzks6DxiiK6+b6OqzhbeIleuBKtOO9V0Fjde0sr5MJVcq7vr1ipEKbzLOzed8m8p+KVLotMfMpr/nGu+5K/IsQee+yRzCEU+hp97sLPmOs56rOiy3N13z5dFqun2uphAfnvVaidy1Hvr++BgrZUfdYL+j4q7DOs4078vlKUVOhW9NTXktl0XrrPnkK77vdX2Kan/ypsF/SE5MLGaF4U+3b0uSlobFE/a5I5ryhfE0Y3nVtBmz5X+p6RVWHnrv+goP+QEK4Szf8++hzo55gexlLIXBLmopxk3hsBBBBAAAEEEEAAAQQQSKFASsJcCo+nxL+VYoZWxuiXa60C0uWYvvGsxGPE6AQUnnRzfwWqfE/AzOqz1CpM3WNOq9Z0yXRBDw7J6hPYiQ5OKx4VTrVKVythwye1ehAQ5jzQGIIAAggggAACCCCAAAIIZEKAMJdidd2TTPeA0sMChgwZElzOxoZApgS00k9xTvckvPjii9O2OjVT51uS96v70umSVj24RZf1F2PVLmGuJH8QOHYEEEAAAQQQQAABBBDYqQQIczvVdHOyCCCwEwgQ5naCSeYUEUAAAQQQQAABBBBAIB4ChLl4zCNngQACCIQChDk+CwgggAACCCCAAAIIIIBACREgzJWQieIwEUAAgSQFCHNJQvEyBBBAAAEEEEAAAQQQQCDTAoS5TM8A+0cAAQRSK0CYS60n74YAAggggAACCCCAAAIIRCZAmIuMljdGAAEEMiJAmMsIOztFAAEEEEAAAQQQQAABBNwFCHPuZoxAAAEEslmAMJfNs8OxIYAAAggggAACCCCAAAIJAoQ5Pg4IIIBAvAS25OTklI3XKXE2CCCAAAIIIIAAAggggEA8BXLDXDxPj7NCAAEEEEAAAQQQQAABBBBAAAEEEEAgOwUIc9k5LxwVAggggAACCCCAAAIIIIAAAggggEDMBQhzMZ9gTg8BBBBAAAEEEEAAAQQQQAABBBBAIDsFuMdcds4LR4UAAggggAACCCCAAAIIIIAAAgggEE+BNTk5OdV0aoS5eE4wZ4UAAggggAACCCCAAAIIIIAAAgggkJ0Ci3Nycg4izGXn5HBUCCCAAAIIIIAAAggggAACCCCAAALxFSDMxXduOTMEEEAAAQQQQAABBBBAAAEEEEAAgSwWIMxl8eRwaAgggAACCCCAAAIIIIAAAggggAAC8RUgzMV3bjkzBBBAAAEEEEAAAQQQQAABBBBAAIEsFiDMZfHkcGgIIIAAAggggAACCCCAAAIIIIAAAvEVIMzFd245MwQQQAABBBBAAAEEEEAAAQQQQACBLBYgzGXx5HBoCCCAAAIIIIAAAggggAACCCCAAALxFSDMxXduOTMEEEAAAQQQQAABBBBAAAEEEEAAgSwWIMxl8eRwaAgggAACCCCAAAIIIIAAAggggAAC8RUgzMV3bjkzBBBAAAEEEEAAAQQQQAABBBBAAIEsFiDMZfHkcGgIIIAAAggggAACCCCAAAIIIIAAAvEVIMzFd245MwQQQAABBBBAAAEEEEAAAQQQQACBLBYgzGXx5HBoCCCAAAIIIIAAAggggAACCCCAAALxFSDMxXduOTMEEEAAAQQQQAABBBBAAAEEEEAAgSwWIMxl8eRwaAgggAACCCCAAAIIIIAAAggggAAC8RUgzMV3bjkzBBBAAAEEEEAAAQQQQAABBBBAAIEsFiDMZfHkcGgIIIAAAggggAACCCCAAAIIIIAAAvEVIMzFd245MwQQQAABBBBAAAEEEEAAAQQQQACBLBYgzGXx5HBoCCCAAAIIIIAAAggggAACCCCAAALxFSDMxXduOTMEEEAAAQQQQAABBBBAAAEEEEAAgSwWIMxl8eRwaAgggAACCCCAAAIIIIAAAggggAAC8RUgzMV3bjkzBBBAAAEEEEAAAQQQQAABBBBAAIEsFiDMZfHkcGgIIIAAAggggAACCCCAAAIIIIAAAvEVIMzFd245MwQQQAABBBBAAAEEEEAAAQQQQACBLBYgzGXx5HBoCCCAAAIIIIAAAggggAACCCCAAALxFSDMxXduOTMEEEAAAQQQQAABBBBAAAEEEEAAgSwWIMxl8eRwaAgggAACCCCAAAIIIIAAAggggAAC8RUgzMV3bjkzBBBAAAEEEEAAAQQQQAABBBBAAIEsFiDMpXJy/vvf/1rjxo1T+Za8FwIIIIAAAggggAACCCCAAAIIIIBAPAW25uTklNap5YTnt23btm3xPNfoz4owF70xe0AAAQQQQAABBBBAAAEEEEAAAQRiIrAlJyenLGEuRbNJmEsRJG+DAAIIIIAAAggggAACCCCAAAIIxF+AMJfKOSbMpVKT90IAAQQQQAABBBBAAAEEEEAAAQRiLUCYS+X0EuZSqcl7IYAAAggggAACCCCAAAIIIIAAArEWIMylcnoJc6nU5L0QQAABBBBAAAEEEEAAAQQQQACBWAsQ5lI5vYS5VGryXggggAACCCCAAAIIIIAAAggggECsBQhzqZxewlwqNXkvBBBAAAEEEEAAAQQQQAABBBBAINYChLlUTi9hLpWavBcCCCCAAAIIIIAAAggggAAC8RdYuHy1zV60MukTXfvzL3ZB+2OSfj0vzGoBwlwqp4cwl0pN3gsBBBBAAAEEEEAAAQQQQACB+At8+8N663vbS0mfaM0qFe3hy09L+vXpfOFPP/1k//nPf6xNmzaWk5OT8l3/8ssvVrp0aStTpkzK31tvuHr1aitbtqxVqlQpkvcv4E0Jc6mUJsylUpP3QgABBBBAAAEEEEAAAQQQQCD+AukMcytWrLCRI0fa7bffHgSuZLYrrrjC+vbtawcddFCRL//000+tU6dOpr8n+/5FvmnCC84880xr1KiRDR482GXYDl+7detWe/DBB23y5Mm2ePHi4LUVK1a0Cy+80Hr27GmjRo2y9957zx5//PE873PIIYfYP//5TzvxxBNtyJAh9vzzz9sjjzxif/7zn3Nf179/f5sxY4Y988wzdtRRRxV0HKkLc/PnzzdNVjLb2LFjbbfddkvmpSXqNYS5aKbrzU+WWZVK5aN58yLedd3GzXZCw30ysm92igACCCCAAAIIIIAAAgggEH+BdIY5tZuOHTva3Llzk151pgBBuhWsAAAgAElEQVT15JNPWuPGjYucjKjD3NKlS23XXXe1vfbaq8hjSfYFY8aMsRtuuCGIaopna9eutbfeestkdf3119sDDzxg7777bmCQuMklDHFhmDvmmGPs6aefDl62ZMkSO+WUU4L/nZYwN3v2bFO51Na6dWsrV65coQY6MUHGbSPMRTOjd45712Z+/GU0b17Eu/brcKy1OvbAjOybnSKAAAIIIIAAAggggAACCMRfIJ1hTlFOwalBgwbBijYFpT/96U/Byi/Fo3Xr1tnJJ59sV199te2+++7ByjrFpzp16tgee+wRRL169eoFIWvlyt/vi9e8eXO77rrrrHLlysFKuWRXzGl1mhZ4tWzZ0rSAS/s+77zz7Nxzzw3ed/jw4bbvvvvajz/+aG+//bZ169bN5s2bF+xf+9i2bVuwSk0hTCsBDz30UBs4cKAdeeSR9vXXX9vNN98cBDWtsDvjjDOsVatWBX6YBg0aFMS4Rx99tMCvJxvmdDzjx483hT4dg9qXLrl96qmn0hPmBPjYY4/ZE088EVyLK0hNWPnymVnplIlvXcJcNOqEuWhceVcEEEAAAQQQQAABBBBAAIHMC6QzzE2YMCGIbqNHjw6iUf369W3q1Kl26623BpeHaiXaXXfdZbVr17Z7773XPv/8czvttNPsyiuvtIYNGwZfVyjTnyuEbdy40a699togzimKuYS5OXPmWJcuXaxt27bWrl274HJRBcJp06YFQe7888+3mTNnBverU1w7/PDDg0io/62vvfjii0HYu+SSS+yEE04I4p3ioCKc3vOII46w7t27m1bZ6dh0SanOK//2yiuvBF/v0aOHNWvWLDCpWrVq7suSDXMKl7qvnoLjsGHDgktadS4Kj2lZMRce8c8//5x7Xa1uyqfa2bVr1wAn7hthLpoZJsxF48q7IoAAAggggAACCCCAAAIIZF4gnWGuoEtZFbIU2bTCS9v06dNtwIABQSjTqrmCLmX97rvvTFdOfvPNN0F80gIt3YvNJ8wtWLAg90ERugIzXOil+HbwwQfbZZddljtJF1xwQW6Y01WbWsmnqJi4aZXcOeecE6xU073itA0dOtT+9re/2d///vftJvy3334LIp8C3PLly4OvN23aNAiVuq+eS5g766yzgrinv2rUqGHXXHNNcLxpDXPhGW7evDk4MS2L1DZp0qSgOsZ5I8xFM7uEuWhceVcEEEAAAQQQQAABBBBAAIHMC2Q6zOnhBVoxpqsetekSVa2ACztO/jCnhyQolul+avraokWLgqslH3744WKHOa1+02o1XRqrMKd7voWXturYEsPc0UcfbVdddZWdfvrpeSZRl5MqiOV/2MJJJ51kffr02eGEKzjq/nt333138HTW5557LjgvrdxTXAs3PTBClwPrylGt1lP70oo5XRYb3m9uypQptvfee2cmzG3atCmIcvfff7+tWrUqWJKo0litWrXMf+IjPALCXDS4hLloXHlXBBBAAAEEEEAAAQQQQACBzAukM8x99tlnwcqxTz75JPfZAO3btw9WiF1++eUBhi4J7dWrl82aNStY9aX4pieSHn/88cHXdZmoLi/VE0e16fJTra5LRZjTSjNd3tqvX78iw5yOW8ekOJe4KaIpNKrRJPNkWF2Om/85CIqS6liKdApsWpX35ptvWqlSpYJdhfFSkfKAAw7IE+aWLVsWvFar89TH0rpibsOGDabrlbV8cfXq1cFB6BpdXRu8M2yEuWhmmTAXjSvvigACCCCAAAIIIIAAAgggkHmBdIY53XJM917T8wEUjPTAAj30QKvMtEpM95DT/dEUnvRnumeaLgvVE1m1cm39+vXBqjVdYqr4pUs/dZlolSpVvMOcFnYpAGp/t912W+5KvaJWzN13333Bgxb0kAit+lOT0e3VjjvuuGDFn1YAXnrppcEE62tbtmyxFi1aBKvcdL+58OmpipCyOPXUU4N70GkF4E033RSES70mjHBaJah71ukKUT38Qpftvvzyy7bLLrvkCXOJn6i0hjk9BrZz587BJJ199tnBX4ItaIvrAyEIc9H8QCPMRePKuyKAAAIIIIAAAggggAACCGReIJ1hTmerhzroCkdtegiEQp0e7qB7xWnbf//9TdFLTz/V9tprrwXxTQuwtEpOl4jqoQv6Z93DTbct03MFHnzwweCJrwpiilZFrVYLH/6gqyv1Xtr0JFU9cVWbwpwuV+3bt2/uJGn/egiEnmegyKhANnHixODrOhaFPV2y+tFHHwUr6b788svcr2nVm544q7+PGzfOPvzww+Brim+Kk7riM9wU9nTPvZo1awZ/pAdk6PJYNa/Q6I477gguZ9Wmy1cVJxUrE7e0hjnd9E833ktmU8CK48MgCHPJzL77awhz7maMQAABBBBAAAEEEEAAAQQQKBkC6Q5zUlHU0sqvxDbz008/BU9ZDWNUop4ekLB27drg/m9aRad//vrrr61WrVrBirH8m1bi6f0K2zTmiy++CC5bVcTTe+sebUXFvILeT+eh8Qp8+cfrGLRSLjzuHX0i1q1bFxxz9erVcy/zTXy97iunh13o3nMpvFXblpycnLLaT064s23S89jWrFlj77zzTlIj9ahYPZY3bhthLpoZJcxF48q7IoAAAggggAACCCCAAAIIZF5g4fLVNnvRyqQPZO3Pv9gF7Y9J+vWZeKEi18UXX1zoro888kj7y1/+EoS5xKeyZuJYM7zP1IW5DJ9IVuyeMBfNNBDmonHlXRFAAAEEEEAAAQQQQAABBBDIlIAWeP373/+2Dh06ZOoQsmG/qQtzWgapm/4VtOmGeXpEbEHLG7NBIVXHQJhLlWTe9yHMRePKuyKAAAIIIIAAAggggAACCCCAQEYFUhfmkrnHnJ7SqqWMcby/nKaRMBfNh5kwF40r74oAAggggAACCCCAAAIIIIAAAhkVSF2Y0w3yFOcK2jZs2BA8mUNPuWjdurXdddddGT3rqHZOmItGljDn7vrb1m1WulTurSPd34ARCCCAAAIIIIAAAggggAACCCAQtUDqwlwyR6pH2OpxtbNmzbIaNWokM6REvYYwF810EebcXTdt+c3OuP55y8lAm9PjYybe1CV4Ug8bAggggAACCCCAAAIIIIAAAggUKpDeMPf9999b06ZNbcyYMaYncMRtI8xFM6OEOXdXhbkuQ59zH5iiES/cfAZhLkWWvA0CCCCAAAIIIIAAAggggEBsBdIb5pYuXWpt2rSxSZMmWf369WOnSpiLZkoJc+6uhDl3M0YggAACCCCAAAIIIIAAAgggkGaB9IU5PbX1yiuvtKlTp9rHH39s5cuXT/O5Rr87wlw0xoQ5d1fCnLsZIxBAAAEEEEAAAQQQQAABBBBIs0DqwtzixYtt5MiRBR7/zz//bAsWLLD169fbzTffbJ06dUrzeaZnd4S5aJwJc+6uhDl3M0YggAACCCCAAAIIIIAAAgggkGaB1IW5hQsX2o033ljg8e++++5Wp04da9eunTVo0CDN55i+3RHmorEmzLm7EubczRiBAAIIIIAAAggggAACCCCAQJoFUhfm0nzgWbk7wlw000KYc3clzLmbMQIBBBBAAAEEEEAAAQQQQACBNAukJ8zp/nIbNmywqlWrpvn80rs7wlw03oQ5d1fCnLsZIxBAAAEEEEAAAQQQQAABBBBIs0Bqw9xVV11lup/cPffcYzk5OcG53HLLLfb4448H/7tp06Z22223WZUqVdJ8nunZHWEuGmfCnLsrYc7djBEIIIAAAggggAACCCCAAAIIpFkgdWFu5cqV1rx5c7viiiusV69ewXm8//77dvbZZ9v//d//2QEHHBAEuvbt29utt96a5vNMz+4Ic9E4E+bcXQlz7maMQAABBBBAAAEEEEAAAQQQQCDNAqkLc2+++ab17dvX3njjDatVq1ZwHoMGDQr+WV+rUKGCjRkzxm644YYg2FWqVCnN5xr97ghz0RgT5txdCXPuZoxAAAEEEEAAAQQQQAABBBBAIM0CqQtzEydONF3KumDBgtzLWFu0aGEHH3yw3X///cF56cmtWjH3wgsv2CGHHJLmc41+d4S5aIwJc+6uhDl3M0YggAACCCCAAAIIIIAAAgggkGaB1IW5qVOn2iWXXGKKU5UrV7Yff/zRjjvuOBswYID1798/OK8lS5bYKaecYhMmTLAGDRqk+Vyj3x1hLhpjwpy7K2HO3YwRCCCAAAIIIIAAAggggEAmBH5bNcd++/I/Se9624bVVu6ka5N+PS/MaoHUhbnFixdb27Zt7corr7QePXrYI488YnfccYc9//zz9qc//SlQCOPdrFmzrEaNGlkt43NwhDkftaLHEOaKNsr/CsKcuxkjEEAAAQQQQAABBBBAAIFMCGz96Wtb/89WSe+61O61rWKvqUm/Pltf+Ouvv5r+Kl++fMoOcd26dcF77r777laqVKmUvW+Eb5S6MKeDvPTSS23KlClWsWJFW79+ffDQh4cffjg4/m3btlnXrl3tm2++sddff72kADnZE+acuJJ+MWEuaarcFxLm3M0YgQACCCCAAAIIIIAAAghkQmBnCHMrVqywkSNH2u23326lS5cOmO+991577bXXbNKkSVbQ113m4sUXXwyuznz33Xdzh7Vp08buvPPOINRpwdhTTz1lxx57bO7XH3vsMZs8ebI999xzwf5PPvlkO+yww4J/Drf58+dbx44drUmTJjZ69GiXQ0r2takNc5s3bw4O9JNPPrGmTZsGl61WqVIlOBj92XXXXWft2rWz3r17J3uAJep1hLloposw5+5KmHM3YwQCCCCAAAIIIIAAAgggkAmBnSHMhYFr7ty5VqZMmYD522+/tZ9++snq1atnBX092bn46KOPrFu3bjZ48ODguQZaGKb9aKHYM888U2iYU7/S4rLEMKd9Pvnkk9a4ceNg91dccYUp+pWYMJcsWlxfR5iLZmYJc+6uhDl3M0YggAACCCCAAAIIIIAAApkQSHeYe/PNN+3WW2813ZLsmGOOsU2bNtmIESOsbt26wYKq448/Plhope2NN94I4pW+Hoaqt956y1avXh0ENT1XoFWr3y/DHT58uO2yyy72xRdf2Pvvv2/Nmze3iy++2OrUqROsOlN80/MGtGJuyJAhwSq1Dz74wIYOHbrd13VFpla7XXvttXb44Yfnhjw9w0Cr7vbdd9/cqdIt1PR+8+bNC/affytsxVxBYe6ss86yL7/80h599FH73//+Z3/961+tS5cuwbGWiBVzmfgAZ9M+CXPRzAZhzt2VMOduxggEEEAAAQQQQAABBBBAIBMC6Qxzy5Yts5YtWwaxqVOnTkFwGjhwYO5DOhWmdAno3//+94Bi4sSJ9vjjjweXm2p7+umn7aCDDrJq1aoF0U6R7L333gvu6Xb++ecHQU5RTa/RpauKfOH7X3311UHc0oq5+vXrB++t99D76zLU/F/XajVdhangp+3BBx+0adOmBa9N3FauXBlEQP3VuXNnO+SQQ2zvvffOfYlLmFOE1PmPHz/eXn75Zdu6datVqlTJZs+eXfLD3G+//WY9e/YMYEaNGhXchy5uG2EumhklzLm7EubczRiBAAIIIIAAAggggAACCGRCIJ1hTnFL91rTqjdtW7ZsCe6rptil1WxFhTm1nYULF9qCBQuCS1Hvvvvu3Id+KswdddRRdu655wbvrZVs2peiXkGXqj7xxBO5Ya6gr8+cOTOIfQp/u+22W/AcA8U6Xa6af9NrdM86rcDTtv/++wcPJ23WrJnTpazqOvfcc0+wmlD3q9M98F544YV4hLlwsgWkE61cuXImPu+R7pMwFw0vYc7dlTDnbsYIBBBAAAEEEEAAAQQQQCATAukMc9dcc00Q48JLU13CnB7yed555wVRTpd47rXXXsF93J599llr1KhRENESw9zUqVODFXXTp0/3CnOKgNpP3759gxVwgwYNCoLijp7i+vPPPwfhUNFPq+vUabQwrGHDhqaHPZxwwgm5U6xjV/zTfejChz/o9WvXrg1WFSoA6pLf++67r+SFOS0jrFWr1nafZ6FqC5/AkYkPvPapGwFqOaLLcWi5pyZKN/wrbCPMRTOjhDl3V8KcuxkjEEAAgTgKbNy0xTb8siVjp1a2TGmrVKFcxvbPjhFAAAEEECgJAukMc7oUVSvYwieP5g9z55xzjv3lL3/JveIx8VJWrR678MIL8yy20mWjyYS5zz77zP72t78FDwYtV+73/2+QuGKuoK/rNY888khwWek+++wTrOi77LLLtpvSjRs32q677prnz5cvX24tWrTIfRKrVs7pfncdOnTIfd31119vCnm65DYxzGkh2ZgxY4LLcHXfvRIZ5nQzPp2ULl1t3br1DmtmJr5J9ESNO+64IyijiVvbtm2D5YqJmz50+ksfNC3t1N8Jc+mdNcKcuzdhzt2MEQgggEBcBdpfPTZjp/bs9adb+bLb34Q5YwfEjhFAAAEEEMhCgXSGuc8//9xOO+00GzZsWBCe1EcUnsJLWe+///7g0lH9mbrOP/7xD1u3bl0Q8955552g8+h/a7Wc7sF24403JhXmfvnlFzviiCOCGKfVdVowNW7cuNxLWQv6umLb999/b02bNg1mTWFQgU7H06NHD+vTp0/wkAods1qOoqIeSPHNN9/YP//5T9OKvddffz24/52OU6vt9Fpd5qqFVTqX2267LfDIH+YSPyYlMszpZn9CUPjSksHu3bsHNxYsaBVdOr8ntOqtd+/epnKqD1FBYU5xTjf6CzdN4B577EGYS+dE5dsXYc4dnzDnbsYIBBBAIK4ChLm4ziznhQACCCAQF4F0hjkFsRtuuMHGjv39P9ypgSiwhWFu6dKldskllwSXg6rnHH300UEc09d15aG+pktEteky0xkzZgSBTU9O1aWser0uPdX26quvBqvRdCmrNt0DTmFMmx4CoZimcKaHPxT09fCKRQU4rbILx/7444923HHHBU+QPfPMM+3tt98OnuA6d+7c3I+EHi6hFXFHHnlk8Gc//fSTXXXVVcHxhpv6kB5MUapUqfiFufAkFcK0PFLX6+paZK2e05M99DjenJyctH8P6VLa7777LpgILYcsKMypmOrJJPm3/Cvm9CGePHly8CGrUaNG8HIuZY1mSglz7q6EOXczRiCAAAJxFSDMxXVmOS8EEEAAgbgIpDPMhWYbNmwIgpRu8ZX48Ifw66tWrbI999yzwFuArV69OhirJ6a6bloZt3nz5kKfO5D/6wpqjRs3DkLejm4tpuPYtGmTrVmzJniKqh4WUdCmNqXjr1mzZu4lta7nkOLXb8nJySmr98ytZNuUT1O86cZ5uhw0fDqGlhYqgJ166qkZucxVQU03OiwozKkI6/i0uq9du3a27777BhqJYU7XWKu06prjsL4S5lL8oUl4O8Kcuy1hzt2MEQgggEBcBQhzcZ1ZzgsBBBBAIC4Cv62aY799+Z+kT2fbhtVW7qRrk379jl6Y/x5zKXnTFL6JVtP961//ClbfKQbGcIs2zOkaXa2Y080FVSV1HbFutPfmm28Gq9Z0Xa+u+U33VliY03XDmmi1SR3fV199ZYpwinNhmOvVq1dww0A98vfYY4/Nc+haMXfooYem+3Riv79RL35sb336v4ycZ682h9lJR/weZ0vSpjDXe2T6v7dCo6euPCUjq2JL0hxxrAgggEC6BM4a/kq6drXdfh4d2Ip7zGVMnx0jgAACCCQjoNVVO/Omy1N1z7iTTjopuBdbtm2zZs0Kjks9KaZbNGFOK+N0j7k33ngjcNP95bp27Ro8QSPcFL0U5fSo3XRvhYW5xONQNdYTPHR/PMU4hbmhQ4cGL1FcHD58+HaHrTCnp3ewpVZg7H++so+W/JDaN03y3Toev48dd3D1JF+dPS/b/OtWu/aZORk7oFvObkSYy5g+O0YAAQTyCgx+8uOMkQzrdpiVK1M6Y/tnxwgggAACCBQloKeKsiGQQYFowpyeyrpo0SI766yzgsfhZlt1TSbMaVI6d+5seqSuzkdhTpe/Dh48OLjBoG4iqNiYuHGPuWg+ylzK6u7KpazuZoxAAAEE4irApaxxnVnOCwEEEEAAAQRiIBBNmPvoo4+sbt26wdNMEzfdxE832dt7770zsppGl6j++uuvNmXKFLvjjjuCJ4OENzvUgyp0+aqeyFq9evXgNZdffnlwGa4eVpF4jzk9geSiiy6yu+++21q1apV7ioS5aL4lCHPuroQ5dzNGIIAAAnEVIMzFdWY5LwQQQAABBBCIgUA0YU4rzBo2bGj9+vXLY6RH4epRvLrEVQ9XSPcW7j9xv+3bt7dbb73VFOZ02aqePBJuesBDjx49gn/U43/Hjx8fBDptetLssGHD8txrjjAXzYwS5txdCXPuZoxAAAEE4ipAmIvrzHJeCCCAAAIIIBADgfSGuZUrV1rz5s2DGwvWr18/6/y0ok6P1tVjg7WqT48NdtkIcy5ayb+WMJe8VfhKwpy7GSMQQACBuAoQ5uI6s5wXAggggAACCMRAILVhbuzYsUHU0uoyha2mTZvmGulhCq+99pp9/fXXpqdquEavkoBNmItmlghz7q6EOXczRiCAAAJxFSDMxXVmOS8EEEAAAQQQiIFAasOcnmK6fPnyAl0qVqwYrJY7/fTT7fjjj4+B3fanQJiLZloJc+6uhDl3M0YggAACcRUgzMV1ZjkvBBBAAAEEEIiBwNacnJzgcs2c8GS26XrOYm66Z5se/tClS5divlPJGk6Yi2a+CHPuroQ5dzNGIIAAAnEVIMzFdWY5LwQQQAABBBCIgcDinJycg1Ie5mIA43UKhDkvtiIHEeaKJNruBYQ5dzNGIIAAAnEVIMzFdWY5LwQQQAABBBCIgUDqwtyHH35ot9xyi91zzz3Bwx0++eSTQn1uv/12q1ChQgz88p4CYS6aKSXMubsS5tzNGIEAAgjEVYAwF9eZ5bwQQAABBBBAIAYCqQtzs2fPNl3Cetddd9mLL75oc+bMKdTntttuI8zF4NOTrlMgzLlLE+bczRiBAAIIxFWAMBfXmeW8EEAAAQQQQCAGAqkLczHAKPYpsGKu2IQFvgFhzt2VMOduxggEEEAgrgKEubjOLOeFAAIIIIAAAjEQiCbMXXfddXbwwQfbWWedlcdo4cKFdt5559nEiROtSpUqMfDLewqEuWimlDDn7kqYczdjBAIIIBBXAcJcXGeW80IAAQQQQACBGAhEE+b69+9vDRs2tH79+uUx+u677+zPf/6zTZgwwRo0aBADP8JcOiaRMOeuTJhzN2MEAgggEFcBwlxcZ5bzQgABBBBAAIEYCKQ2zM2fP9+2bNkS3GvugAMOsM6dO+ca/frrrzZ58mT717/+ZR9//LGVL18+Bn6EuXRMImHOXZkw527GCAQQQCCuAoS5uM4s54UAAggggAACMRBIbZg78cQTbfXq1YW6VKtWzfr06WM9e/aMgd32p8ClrNFMK2HO3ZUw527GCAQQQCCuAoS5uM4s54UAAggggAACMRBIbZhbvHixaWXcTTfdZPXq1bOuXbvmGpUpU8bq1q1rpUqVioFbwadAmItmaglz7q6EOXczRiCAAAJxFSDMxXVmOS8EEEAAAQQQiIFAasNcCLJx48YgwJUrVy4GRsmfAmEueSuXVxLmXLR+fy1hzt2MEQgggEBcBQhzcZ1ZzgsBBBBAAAEEYiAQTZgLYZYuXWorVqzYzqlJkyZWunTpGPjlPQXCXDRTSphzdyXMuZsxAgEEEIirAGEurjPLeSGAAAIIIIBADASiCXPz5s2zSy+91JYvX16gkQJW5cqVY+BHmEvHJBLm3JUJc+5mjEAAAQTiKkCYi+vMcl4IIIAAAgggEAOBaMJc//79bdGiRcG95mrVqmW6v1ziVrNmzVjea44Vc9F8SxDm3F0Jc+5mjEAAAQTiKkCYi+vMcl4IIIAAAgggEAOBaMJcs2bNrEuXLtavX78YGCV/CoS55K1cXkmYc9H6/bWEOXczRiCAAAJxFSDMxXVmOS8EEEAAAQQQiIFANGHuiiuusC1bttidd94ZA6PkT4Ewl7yVyysJcy5ahDl3LUYggAAC8RYgzMV7fjk7BBBAAAEEECjRAtGEuZkzZ9r5559vo0aNMl22mn+rX78+D38o0Z+b9B48Yc7dmxVz7maMQAABBOIqQJiL68xyXggggAACCCAQA4FowpzuMTdjxoxCfXj4Qww+Omk8BcKcOzZhzt2MEQgggEBcBQhzcZ1ZzgsBBBBAAAEEYiAQTZj76quv7McffyzUp2HDhqyYi8GnJ12nQJhzlybMuZsxAgEEEIirAGEurjPLeSGAAAIIIIBADASiCXMxgPE6Be4x58VW5CDCXJFE272AMOduxggEEEAgrgKEubjOLOeFAAIIIIAAAjEQiC7MvfXWW/bee+/Z+vXrt3O6/PLLrXz58jHwy3sKhLloppQw5+5KmHM3YwQCCCAQVwHCXFxnlvNCAAEEEEAAgRgIRBPmXnnlFRs4cKBVrFgxCHP777+/lStXzhYuXGjVqlWzV1991XbbbbcY+BHm0jGJhDl3ZcKcuxkjEEAAgbgKEObiOrOcFwIIIIAAAgjEQCCaMNe9e3erWrWqDRs2zBo3bmyvv/667b333nbnnXfau+++a88++2wM7LY/BVbMRTOthDl3V8KcuxkjEEAg+wXun/i+5WToMHffrbz9vcVhGdp78XZLmCueH6MRQAABBBBAAIEIBaIJcy1atLBzzz3XOnXqZA0aNAhCXKNGjWzRokXWrl07mzJlitWtWzfC88rMWxPmonEnzLm7EubczRiBAALZL3DvhP/aax8syciB9ml7lJ3W5OCM7Lu4OyXMFVeQ8QgggAACCCCAQGQC0YS5tm3bWseOHa1Xr17B30855RTr06ePzZ8/P/jnMNRFdloZemPCXDTwhDl3V8KcuxkjEEAg+wUIc35zRJjzc2MUAggggAACCKAzb34AACAASURBVCCQBoFowtwFF1wQHPuoUaPs/vvvt3vvvdfOOecce+edd+z777+3WbNmWenSpdNwfundBWEuGm/CnLsrYc7djBEIIJD9AoQ5vzkizPm5MQoBBBBAAAEEEEiDQDRhTivjvv32W2vWrJlt3rzZhgwZYi+++KIdc8wx1q9fP2vSpEkazi39uyDMRWNOmHN3Jcy5mzECAQSyX4Aw5zdHhDl3txf+s9A2btriPjAFI9Zt2GznnnZUCt6Jt0AAAQQQQACBEiAQTZgr6MS3bt1qpUqVKgEm/odImPO329FIwpy7K2HO3YwRCCCQ/QKEOb85Isy5u736/hf2wMT33QemYMT/NdrPBp5xQgreibdAAAEEEEAAgRIgEE2Y27Zt2w7PPScnU89Ui3ZKCHPR+BLm3F0Jc+5mjEAAgewXIMz5zRFhzt2NMOduxggEEEAAAQQQ8BKIJswNGDDApk+fXugRKWBVrlzZ64izeRBhLprZIcy5uxLm3M0YgQAC2S9AmPObI8Kcuxthzt2MEQgggAACCCDgJRBNmNPDHVauXLndEd1zzz3WsGFDu++++6xs2bJeR5zNgwhz0cwOYc7dlTDnbsYIBBDIfgHCnN8cEebc3Qhz7maMQAABBBBAAAEvgWjCXGGHMmHCBLv55puDp7MS5rwmbKccRJhzn3bCnLsZIxBAIPsFCHN+c0SYc3cjzLmbMQIBBBBAAAEEvATSG+aWLVtmLVu2NAW6Bg0aeB1xNg9ixVw0s0OYc3clzLmbMQIBBLJfgDDnN0eEOXc3wpy7GSMQQAABBBBAwEsgfWFOT2UdM2aM3XjjjTZt2jTbd999vY44mwcR5qKZHcKcuythzt2MEQggkP0ChDm/OSLMubsR5tzNMj1i/cbNVnHX+N0qJ9Ou7B8BBBBAIHKBaMLckCFD7I033shz9KtXrw7+uXXr1nbXXXdFfmaZ2AFhLhp1wpy7K2HO3YwRCCCQ/QKEOb85Isy5uxHm3M00YuAD023btm1+g4sxauOmX+2C9kfb4QfWLMa7MBQBBBBAAIGMCEQT5l555RVbunRpnjOqWLGinXjiiXbwwQdn5EzTsVPCXDTKhDl3V8KcuxkjEEAg+wUIc35zRJhzdyPMuZtpxKAHptvnK37/j/Hp3m7s3Zwwl2509ocAAgggkAqBaMJcKo6sJL4HYS6aWSPMubsS5tzNGIEAAtkvQJjzmyPCnLsbYc7djDDnZ8YoBBBAAIGdXiCaMPfjjz/apk2bitQtXbq0VatWrcjXlZQXEOaimSnCnLsrYc7djBEIIJD9AoQ5vzkizLm7EebczQhzfmaMQgABBBDY6QWiCXP9+/e3GTNmFKm711572cyZM4t8XUl5AWEumpkizLm7EubczRiBAALZL0CY85sjwpy7G2HO3Yww52fGKAQQQACBnV4gmjB3/fXX24IFC+yCCy7II3zzzTfboYceah07dgz+vFy5cnbCCSfEZhYIc9FMJWHO3ZUw527GCAQQyH4BwpzfHBHm3N0Ic+5mhDk/M0YhgAACCOz0AtGEufbt21unTp2se/fueYRffPFFu+KKK2zu3LlWpkyZ2OkT5qKZUsKcuythzt2MEQggkP0ChDm/OSLMubsR5tzNCHN+ZoxCAAEEENjpBaIJc82aNbO//vWvdu211+YRfuedd6xnz5720ksv2UEHHRQ7fcJcNFNKmHN3Jcy5mzECAQSyX4Aw5zdHhDl3N8Kcuxlhzs+MUQgggAACO71ANGHuyiuvtBdeeMGef/55a9CggZUqVcrWr19vl156qc2aNcvefvttq1q1auz0CXPRTClhzt2VMOduxggEEMh+AcKc3xwR5tzdCHPuZoQ5PzNGIYAAAgjs9ALRhLlvv/3WunTpYqtWrQqeulq9enVbuHBhoD1kyBA766yzYilPmItmWglz7q6EOXczRiCAQPYLEOb85ogw5+5GmHM3I8z5mTEKAQQQQGCnF4gmzIl148aNNn78ePv0009t7dq1tvfee1vLli3tuOOOi606YS6aqSXMubsS5tzNGIEAAtkvQJjzmyPCnLsbYc7djDDnZ8YoBBBAAIGdXiC6MLcz0hLmopl1wpy7K2HO3YwRCCCQ/QKEOb85Isy5uxHm3M0Ic35mjEIAAQQQ2OkFCHOp/AgQ5lKp+cd7EebcXQlz7maMQACB7BcgzPnNEWHO3Y0w525GmPMzYxQCCCCAwE4vQJhL5UeAMJdKTcJccTQJc8XRYywCCGSrAGHOb2YIc+5uhDl3M8KcnxmjEEAAAQR2egHCXCo/AoS5VGoS5oqjSZgrjh5jEUAgWwUIc34zQ5hzdyPMuZsR5vzMGIUAAgggsNML7Jxhbtu2bbZ161YrXbr0dp8A/bmeKrvnnnvm+fqyZctsxYoV1qRJk0I/NYS5aL6huJTV3ZUw527GCAQQyH4BwpzfHBHm3N0Ic+5mhDk/M0YhgAACCOz0AjtnmHvxxRftjjvusJkzZ+b5BOifBw4caOvXrw/+fNiwYdalS5fgfz/77LM2YcKE4O+FbYS5aL6hCHPuroQ5dzNGIIBA9gsQ5vzmiDDn7kaYczcjzPmZMQoBBBBAYKcXSF+Y++2334Kwdeqpp1qFChUyIq9Vb71797bly5fbXnvtlSfM/fLLL3biiSfagAED7Oyzz7bXX389+N+vvfaa7bPPPoS5jMzY7zslzLnjE+bczRiBAALZL0CY85sjwpy7G2HO3Yww52fGKAQQQACBnV4gfWFuy5Ytdthhh1nFihWtW7dudsYZZ1idOnXSOgOKg999953NmDHDHnnkkTxhTqvlzj//fJszZ46VLVs2OK7WrVvbWWedFfyVf8Xc2LFjbfLkyTZy5EirUaNG8HpWzEUznYQ5d1fCnLsZIxBAIPsFCHN+c0SYc3cjzLmbEeb8zFat/tnKltn+9jp+7+Y+atdyZWzXcru4D2QEAggggECqBNIX5nTvNsWtt99+26ZPnx6cwODBg61nz56pOpmk30dBbcSIEXnC3Lhx42z06NE2derU3Pfp37+/1a1b1wYNGpQnzE2cONGuuuoqGzNmjB155JG5ryfMJT0FTi8kzDlxBS8mzLmbMQIBBLJfgDDnN0eEOXc3wpy7GWHOz+yrVT/aRfdM8RtczFGVKpS1p4d0LOa7MBwBBBBAoJgC6QtziQeqlWvz5s2zzZs327HHHlvMc3AfXlCY0wq6KVOmBJfbhpvuN6cVfrrXXLhirlevXnbxxRfbU089td2xK8yxpV5g0off2rzlP6f+jZN4x1OOqG5H7l85iVdm10u2/LbNRry0NGMHdXX7AywnJ2O7Z8cIIBBTgVc++s4+/mpdRs6u5WHV7NgDd8/Ivou705tfWFLct/Aef3nb/a3sLqW8x2dq4Edf/mSTP/4+I7tvuM9u9rdjfr8ao6Rtj/37f/b1D5sycth/P7GW7b/nrhnZd3F2+u1Pm+2R11cU5y28x1apWMb6tUjvFUzeB8tABCIUaNy4cYTvzlsjUKRAZsJckYcV8Qt8V8wNHTo0OLIOHTrY8OHDtztKVsxFM3GsmHN3ZcWcuxkjEEAg+wVYMec3R6yYc3djxZy7mUYMemC6fb5itd/gYo66sXdzO/zAmsV8l/QPz+SKuVrVdrMHB7ZN/0mzRwQQQACBRIHUhbm1a9faBx98kBRvs2bNbJddMncvg4LCXHiPublz51qZMmWC82jRooX16NEj9x5zuvxVl99ed911dv3111vXrl3znC9hLqnpd34RYc6ZjEtZ3ckYgQACJUCAMOc3SYQ5dzfCnLsZYc7PjDDn58YoBBBAIEYCqQtzs2fPtjPPPDMpGwWsypXTf3ngtm3b7Ndffw0uWb3jjjuCe92VKlXKSpcubRs3bgzuF6d7x+lhDzt6Kuu0adPsoosusrvvvttatWqVe86EuaSm3/lFhDlnMsKcOxkjEECgBAgQ5vwmiTDn7kaYczcjzPmZEeb83BiFAAIIxEggdWFu0aJF1q5du8BGq8x0uWe5cuUKtNpvv/2CIJbubfHixda2bd7l2u3bt7dbb701OBTFuH79+uUellbGhbFRD4cYP358cK85bc8880xw77nEe80R5qKZUcKcuyuXsrqbMQKBdAqs+O4nq1Du99XZmdgqVyxnu5RO/7+Hi3uuhDk/QcKcuxthzt1MI7iU1d2NMOduxggEEEAgZgKpC3OC0eWsClcPP/ywlS9f3vr27WudO3cOHqBQUjY9mGLVqlVWo0aN3Etakz12wlyyUm6vI8y5eenVhDl3M0YgkE6BRctX2+Wjfn9Cebq3mlUr2sODTkv3blOyP8KcHyNhzt2NMOduRpjzMyPM+bkxCgEEEIiRQGrDXAjzyy+/2KRJk2zUqFG2bt0605NMtYput912i5Hd9qdCmItmeglz7q6EOXczRiCQToFMhrn99trd7rmoTTpPN2X7Isz5URLm3N0Ic+5mhDk/M8KcnxujEEAAgRgJRBPmBLRly5Ygzg0ZMiTw0kq6Ro0axciOMJeuySTMuUsT5tzNGIFAOgUIc37ahDk/N8Kcuxthzt2MMOdnRpjzc2MUAgggECOB1Ic5rZabOHGiPfTQQ8EloaeffnqwYu6AAw6IkVvBp8KKuWimmDDn7kqYczdjBALpFCDM+WkT5vzcCHPuboQ5dzPCnJ8ZYc7PjVEIIIBAjARSF+YU5PRAhPvvv9/Wr19vPXv2tO7du1utWrVi5LXjUyHMRTPVhDl3V8KcuxkjEEinAGHOT5sw5+dGmHN3I8y5mxHm/MwIc35ujEIAAQRiJJC6MDd79uzcJ5h26dLF9txzz0Kd9FAIPRwibhthLpoZJcy5uxLm3M0YgUA6BQhzftqEOT83wpy7G2HO3Yww52dGmPNzYxQCCCAQI4HUhblPP/3ULrnkkqRsJkyYYJUqVUrqtSXpRYS5aGaLMOfuSphzN2MEAukUIMz5aRPm/NwIc+5uhDl3M8Kcnxlhzs+NUQgggECMBFIX5mKE4n0qhDlvuh0OJMy5uxLm3M0YgUA6BQhzftqEOT83wpy7G2HO3Yww52dGmPNzYxQCCCAQIwHCXConkzCXSs0/3osw5+5KmHM3YwQC6RQgzPlpE+b83Ahz7m6EOXczwpyfGWHOz41RCCCAQIwEUhfmlixZYvfee2+BNrqfXN26de3UU0+12rVrx8gv76kQ5qKZWsKcuythzt2MEQikU4Aw56dNmPNzI8y5uxHm3M0Ic35mhDk/N0YhgAACMRJIXZj77LPP7Oqrry7QZt26dbZ8+fLga4p3LVq0iJHhH6dCmItmWglz7q6EOXczRiCQTgHCnJ82Yc7PjTDn7kaYczcjzPmZEeb83BiFAAIIxEggdWGuKJQ1a9bYoEGD7JNPPrG3337bypUrV9SQEvd1wlw0U0aYc3clzLmbMQKBdAoQ5vy0CXN+boQ5dzfCnLsZYc7PjDDn58YoBBBAIEYC6QtzQvv888/ttNNOs5dfftnq1asXI8ffT4UwF82UEubcXQlz7mYasfh/P1ilCmX9Bhdz1Hdr19uf6tYo5rswvKQIEOb8Zoow5+dGmHN3I8y5mxHm/MwIc35ujEIAAQRiJJDeMLd69Wo78cQT7ZlnnrGjjjoqRo6EuSgnkzDnrkuYczfTiFfe+dwefulDv8HFHNXimAPswo6Ni/kuDC8pAoQ5v5kizPm5Eebc3Qhz7maEOT8zwpyfG6MQQACBGAmkN8xNmzbNLrroIvv3v/9tNWvWjJEjYS7KySTMuesS5tzNCHN+ZozyEyDM+bkR5vzcCHPuboQ5dzPCnJ8ZYc7PjVEIIIBAjARSF+Y2bNhgX3zxRYE2+tr8+fPtvvvus0aNGtno0aNjZPjHqXApazTTSphzdyXMuZsR5vzMGOUnQJjzcyPM+bkR5tzdCHPuZoQ5PzPCnJ8boxBAAIEYCaQuzM2ePdvOPPPMHdroaazXXnut1agRz/soEeai+dYgzLm7EubczQhzfmaM8hMgzPm5Eeb83Ahz7m6EOXczwpyfGWHOz41RCCCAQIwEUhfmfvrpJ1uwYEGBNpUqVbK99trLqlatGiO77U+FMBfN9BLm3F0Jc+5mhDk/M0b5CRDm/NwIc35uhDl3N8Kcuxlhzs+MMOfnxigEEEAgRgKpC3MxQvE+FcKcN90OBxLm3F0Jc+5mhDk/M0b5CRDm/NwIc35uhDl3N8Kcuxlhzs+MMOfnxigEEEAgRgKpDXPjx4+3NWvWWJ8+fSwnJydw0gMfxo0bZ999952ddtpp1rNnTytdunSMDP84FcJcNNNKmHN3Jcy5mxHm/MwY5SdAmPNzI8z5uRHm3N0Ic+5mhDk/M8KcnxujEEAAgRgJpC7M6VLWxo0bW7du3Wzo0KGB0bJly6xly5ZWrVo1q169ui1cuNAGDBhg/fv3j5EhYS7qySTMuQsT5tzNCHN+ZozyEyDM+bkR5vzcCHPuboQ5dzPCnJ8ZYc7PjVEIIIBAjARSF+bee+8969Gjh7388stWr169wOimm26yp59+2t54443gHnMjRoywxx57zD755BMrV65cjBx/PxVWzEUzpYQ5d1fCnLsZYc7PjFF+AoQ5PzfCnJ8bYc7djTDnbkaY8zMjzPm5MQoBBBCIkUDqwtxLL71kl19+uc2bN8922WWXwKh9+/ZWpUoVe/zxx4N/Dp/cOmXKFKtbt26MHAlzUU4mYc5dlzDnbkaY8zNjlJ8AYc7PjTDn50aYc3cjzLmbEeb8zAhzfm6MQgABBGIkkLowN2nSJBs8eLDNmTPHypYta5s2bbJGjRpZ3759beDAgYHZihUr7OSTT7Znn302+FrcNlbMRTOjhDl3V8Kcuxlhzs+MUX4ChDk/N8Kcnxthzt2NMOduRpjzMyPM+bkxCgEEEIiRQOrC3EcffRTcX2706NHWpEkTmzp1ql1yySU2atQoa968eWA2a9YsO/fcc23GjBlWu3btGDn+fiqEuWimlDDn7kqYczcjzPmZMcpPgDDn50aY83MjzLm7EebczQhzfmaEOT83RiGAAAIxEkhdmNu6dat16NAheMBD69at7c0337Q999zTXnnlldynsGpFnVbWzZ0718qUKRMjR8JclJNJmHPXJcy5mxHm/MwY5SdAmPNzI8z5uRHm3N0Ic+5mhDk/M8KcnxujEEAAgRgJpC7MCeXrr7+2q6++2t59911r0aJFsDrusMMOC7zmz59vHTt2tE6dOtnNN98cI8M/ToUVc9FMK2HO3ZUw525GmPMzY5SfAGHOz40w5+dGmHN3I8y5mxHm/MwIc35ujEIAAQRiJJDaMLcjmC1bttiGDRuCp7GWL18+RoaEuagnkzDnLkyYczcjzPmZMcpPgDDn50aY83MjzLm7EebczQhzfmaEOT83RiGAAAIxEkhfmIsRWqGnwoq5aGaZMOfuSphzNyPM+Zkxyk+AMOfnRpjzcyPMubsR5tzNCHN+ZoQ5PzdGIYAAAjESSF+Y++233+yhhx4K7Hr16hXLVXOEuWi+NQhz7q6EOXczwpyfWaZHbdi0xSqUK3n3LCXM+X1yCHN+boQ5dzfCnLsZYc7PjDDn58YoBBBAIEYC6QtzupQ1vN+cAlblypVj5Pj7qRDmoplSwpy7K2HO3Yww52cW/MeWWybZug2b/d/Ac+S2bdvs5r4nWf19q3u+Q+aGEeb87Alzfm6EOXc3wpy7GWHOz4ww5+fGKAQQQCBGAukLc/oF6sMPPzT9/aijjsp9UmuMMAlzEU0mYc4dljDnbkaY8zPTqIvumWL6xSIT24jzTybMOcLvt9fuds9FbRxHZcfLCXN+80CYc3cjzLmbEeb8zAhzfm6MQgABBGIkkL4wFyO0Qk+FFXPRzDJhzt2VMOduRpjzMyPM+bmxYs7PjTDn50aYc3cjzLmbEeb8zAhzfm6MQgABBGIkEF2Y08q4L7/80lauXGkHHnig1axZ05YtW2YVKlSw6tVL3mVHyUw6YS4ZJffXEObczQhz7maEOT8zwpyfG2HOz40w5+dGmHN3I8y5mxHm/MwIc35ujEIAAQRiJBBNmFu/fr2dd9559sEHHwRWI0aMsHbt2tmAAQNs6dKl9vLLL8fI8I9TIcxFM62EOXdXwpy7GWHOz4ww5+dGmPNzI8z5uRHm3N0Ic+5mhDk/M8KcnxujEEAAgRgJRBPmxo0bZ3fffbcNHjzYnnrqKTv77LODMKdw1b17d5s1a5bVqFEjRo6/nwphLpopJcy5uxLm3M0Ic35mhDk/N8Kcnxthzs+NMOfuRphzNyPM+ZkR5vzcGIUAAgjESCCaMNe+fXtr3bq1XXDBBdanT58gyumvNWvWWJMmTey5557LfUJrjDAJcxFNJmHOHZYw525GmPMzI8z5uRHm/NwIc35uhDl3N8Kcuxlhzs+MMOfnxigEEEAgRgLRhLm2bdtahw4drHfv3nnC3OLFi01fmzFjhtWuXTtGjr+fCivmoplSwpy7K2HO3Yww52dGmPNzI8z5uRHm/NwIc+5uhDl3M8Kcnxlhzs+NUQgggECMBKIJc8OGDbM333wzuIx1yJAhwWq5Fi1a2GWXXWZz5swJLmUtXbp0jByTC3Prf9liFcuXid15R31ChDl3YcKcuxlhzs+MMOfnRpjzcyPM+bkR5tzdCHPuZoQ5PzPCnJ8boxBAAIEYCUQT5n744YdgxdyqVasCqzp16gSXseqhEKNGjbLmzZvHyPCPUylqxdy8Jd/ataPfyMi5V6m0q40e3C4j+y7uTglz7oKEOXczwpyfGWHOz40w5+dGmPNzI8y5uxHm3M0Ic35mhDk/N0YhgAACMRKIJswJ6JdffrGxY8favHnz7Oeff7a6detax44d7aCDDoqRX95TSSbMXfPo6xk5/3q1q9rt/VtmZN/F3Slhzl2QMOduRpjzMyPM+bkR5vzcCHN+boQ5dzfCnLsZYc7PjDDn58YoBBBAIEYC0YS51atX29y5c4MHPFSrVi3XS5e36p8bNGgQI8M/ToUwF820EubcXQlz7maEOT8zwpyfG2HOz40w5+dGmHN3I8y5mxHm/MwIc35ud4x7xz5fscZvcDFHHXVwLevb9qhivgvDEUAAgVyBaMLcyJEjbeLEiTZ16lSrVKlS7t5uueUWe+mll3bae8zpUlZWzLl/+xHm3M0Ic+5mhDk/M8Kcnxthzs+NMOfnRphzdyPMuZsR5vzMCHN+bg+/9KG98s7nfoOLOersVofb6X+J50KTYtIwHAEE/ASiCXOdO3e2Jk2a2KWXXprnsJYuXWpt2rSxV1991fbbbz+/Q87iUayYi2ZyCHPuroQ5dzPCnJ8ZYc7PjTDn50aY83MjzLm7EebczQhzfmaEOT83wpyfG6MQQCArBaIJc23btrXWrVvbhRdemOeslyxZYqeccoq98MILdsghh2SlSHEOijBXHL3CxxLm3F0Jc+5mhDk/M8Kcnxthzs+NMOfnRphzdyPMuZsR5vzMCHN+boQ5PzdGIYBAVgpEE+auuOIKe+utt2zGjBlWvnz53DMfPny4PfHEE/bhhx9axYoVs1KkOAdFmCuOHmEulXqEOT9NXRKh/6OXia3FMQfYhR0bZ2LXxd7nRfdMMf1ikYltxPknW/19q2di18XaJ2HOj48w5+dGmHN3I8y5mxHm/MwIc35uhDk/N0YhgEBWCkQT5hYvXmxaNadNl67WrFkziHTLly+3Pn362KBBg7JSo7gHRZgrrmDB41kx5+5KmHM30wjCnJ8bYc7djTDnbqYRhDk/N8Kcuxthzt2MMOdnRpjzcyPM+bkxCgEEslIgmjCnU50/f77dddddweq49evXW7169axr167WrVs3K126dFZqFPegCHPFFSTMpUqQMOcnSZjzcyPMubsR5tzNCHN+ZhpFmHO3I8y5mxHm/MwIc35uhDk/N0YhgEBWCkQX5hJPd+vWrVaqVKmsFEjlQRHmUqn5x3uxYs7dlTDnbqYRhDk/N8Kcuxthzt2MMOdnRpjzcyPM+bkNemC6fb5itd/gYo66sXdzO/zAmsV8l/QPJ8z5mRPm/NwYhQACWSmQujC3evVq++yzz+zoo4+2b7/91tatW1foGevBD3FcNUeYi+ZDTphzdyXMuZsR5vzMNIow525HmHM3I8z5mRHm/NwIc35uhDl3N8Kcu5lGEOb83BiFAAJZKZC6MDdz5kw7//zz7dVXX7URI0YE95QrbFPAqly5claKFOegCHPF0St8LGHO3ZUw525GmPMzI8z5uRHm/Ny4x5yfG5eyursR5tzNNIIw5+5GmHM3I8z5mTEKAQSyViB1YW7NmjW2YMGC3BVzP//8c6FnXb9+/RK3Ym7ZsmW2YsUKa9KkyQ6DY+PGhT9Vcd6Sb+2aR1/PyKehXu2qdnv/lhnZd3F3SphzFyTMuZsR5vzMCHN+boQ5PzfCnJ8bYc7djTDnbkaY8zMjzPm5sWLOz41RCCCQlQKpC3OJp/fkk0/a999/b5dddllWnnVhB6UnyeqJsonbhRdeaPrr2WeftQkTJgR/L2xjxVw0002Yc3clzLmbEeb8zAhzfm6EOT83wpyfG2HO3Y0w525GmPMzI8z5uRHm/NwYhQACWSkQTZgbNGiQrV271h599NGsPOsdhTnFuTZt2uS+ZPfdd7c99tiDMJfBmSTMueMT5tzNCHN+ZoQ5PzfCnJ8bYc7PjTDn7kaYczcjzPmZEeb83Ahzfm6MQgCBrBSIJsyNGTPGRo4caVpBVpIe8qAo17NnT+vUqdN2s5V/xdzYsWNt8uTJwXnWqFEjeD0r5qL5kBPm3F0Jc+5mhDk/M8Kcnxthzs+NMOfnRphzdyPMuZsR5vzMCHN+boQ5PzdGIYBAVgpEE+a++OIL69Kli/Xq1cuaN2++3Zln6z3mFOYqVqxo9erVs1q1alm7du1s3333DY4/McxNnDjRrrrqKlOAPPLII3PPjzAXzYecMOfuSphzNyPM+ZkR5vzc9f4m7QAAIABJREFUCHN+boQ5PzfCnLsbYc7djDDnZ0aY83MjzPm5MQoBBLJSIJow179//xL5VNb77rvPSpUqZdu2bQuO/6uvvjJFOMW5MMwpNl588cX21FNP2bHHHptnVot62uwXq362h6flvYdduj4W+1SrYANOPThdu0vpfsb+5yv7aMkPKX3PZN+s4/H72HEHV0/25Vnzus2/brVrn5mTseO55exGlpOTk7H9++747c++t0n/XeE7vFjjjq1X1U5v8vt/CChp250vfWarfvglI4fdv81Btu+eFTOy7+LsdPn3G+y+yYuK8xbeY/eqUt4uPe0Q7/GZHPj828vs/cVrMnII7Y6tbSceumdG9l3cnQ5+8uPivoX3+GHdDrNyZUp7j8/UwPcWfW8T3s3Mvw+OqFvFuv15v0yderH2q59r+vmWia1viwOtXq1Kmdh1sfa58oeNdtdLC4v1Hr6Dq1UqZ1d0ONR3eEbH6f+v6f+3ZWJrfWQta35YzUzsmn1GJHDIISXz/xdFxMHbpl8gmjCnoPXjjz8WejoNGzbM+ktct2zZYi1atLDu3bsHK/8U5oYOHRqcU4cOHWz48OHbnZ/C3KGHFv4vtwVfrbabn3k3/dNsZnX32t1u7Nk0I/su7k5HvfixvfXp/4r7Nl7je7U5zE46ouTFEq2Y6z1yqtc5p2LQU1eeUiLD3LQPvrQnp3+aCgLn92jWqI71OeVw53HZMOCqf86y5d+uy8ihXN+9idWrXSUj+y7OTr/4eq0NfeKt4ryF99g6NSrZ8N7/5z0+kwMfmTzH/v3J8owcwtknN7BWx9bNyL6Lu9Ozhr9S3LfwHv/owFZWvuwu3uMzNfD1j5fZ6ClzM7L7Exrsbf3b/3FFRkYOwnOn1z3+li1ZudZzdPGGXdXtOGu4f8n7j6n696f+PZqJrWaVCnb7+dtf3ZSJY3Hd5xPT5tn0D79yHZaS13dpVt/anVAvJe/Fm2SHQKVKJS/qZ4ccR5EigWjCXIoOLuNv07lzZ2vWrJlpBaDC3IgRI2zw4MF23XXX2fXXX29du3bNc4xcyhrNlHEpq7srl7K6m2nEK+98bro0IhNbi2MOsAs7Ns7Erou9z4vumWK6FCcT24jzT7b6+5a8X8S4lNXv08KlrH5uXMrq7salrO5mGjHogen2+YrVfoOLOerG3s3t8ANL3iomLmX1m3guZfVzYxQCCGSlQHRh7q233rLnnnvOli5dGpy57tvWrVs3O+aYY7JSYtmyZcHlq3oia/Xq1W3KlCl2+eWX29NPPx0cc+I95qZNm2YXXXSR3X333daqVavc8yHMRTO1hDl3V8Kcuxlhzs9Mowhz7naEOXczjSDM+bkR5tzdCHPuZoQ5PzPCnJ8bYc7PjVEIIJCVAtGEOUW53r17B2fctGlTK1OmjL3xxhvBPxe00iwbaBTmdNnqqlWrcg9HD3jo0aNH8M/jxo2z8ePHB4FO2zPPPGPDhg3Lc685wlw0M0mYc3clzLmbEeb8zAhzfm6EOT83wpyfG2HO3Y0w525GmPMzI8z5uRHm/NwYhQACWSkQTZjT001/+OEHe/31161cuXLBmW/atCm4DHTq1Kn28ccfW/ny5bNORA99WLNmjW3YsMH23ntv5/vgEeaimVLCnLsrYc7djDDnZ0aY83MjzPm5Eeb83Ahz7m6EOXczwpyfGWHOz40w5+fGKAQQyEqBaMJc69atrWXLlnbZZZflOeuPPvoouJx10qRJVr9+/awUKc5BEeaKo1f4WMKcuythzt2MMOdnRpjzcyPM+bkR5vzcCHPuboQ5dzPCnJ8ZYc7PjTDn58YoBBDISoFowtxNN91kS5YssdGjR+c568WLF5tW082aNctq1KiRlSLFOSjCXHH0CHOp1CPM+Wny8Ac/N+4x5+5GmHM30wjCnJ8bYc7djTDnbkaY8zMjzPm5Eeb83BiFAAJZKRBNmNNDH6699lq74IILggcphNvs2bNt5syZuSvpKlSoYB06dMhKGZ+DIsz5qBU9hhVzRRvlfwVhzt1MIwhzfm6EOXc3wpy7GWHOz0yjCHPudoQ5dzPCnJ8ZYc7PjTDn58YoBBDISoFowpyeWKonlxa11alTx6ZPn17Uy0rM1wlz0UwVYc7dlTDnbkaY8zPTKMKcux1hzt2MMOdnRpjzcyPM+bkNemC6fb5itd/gYo66sXdzO/zAmsV8l/QPJ8z5mRPm/NwYhQACWSkQTZjLylNNw0ER5qJBJsy5uxLm3M0Ic35mhDk/N8KcnxuXsvq5sWLO3Y0w526mEYQ5dzfCnLuZRhDm/NwYhQACWSmQuTA3YMAAGzp0aJ5LXbOSyOGgCHMOWA4vJcw5YP3/lxLm3M0Ic35mhDk/N8Kcnxthzs+NMOfuRphzNyPM+ZkR5vzcCHN+boxCAIGsFMhcmNNDIB555BGrVatWVsr4HBRhzket6DGEuaKN8r+CMOduRpjzMyPM+bkR5vzcCHN+boQ5dzfCnLsZYc7PjDDn50aY83NjFAIIZKUAYS6V00KYS6XmH+9FmHN3Jcy5mxHm/MwIc35uhDk/N8Kcnxthzt2NMOduRpjzMyPM+bkR5vzcGIUAAlkpQJhL5bQQ5lKpSZgrjiZhzk+Pp7L6ufHwB3c3wpy7mUYQ5vzcCHPuboQ5dzPCnJ8ZYc7PjTDn58YoBBDISgHCXCqnhTCXSk3CXHE0CXN+eoQ5PzfCnLsbYc7djDDnZ6ZRhDl3O8Kcuxlhzs+MMOfnRpjzc2MUAghkpQBhLpXTQphLpSZhrjiahDk/PcKcnxthzt2NMOduRpjzMyPM+bkR5vzceCqruxthzt1MIwhzfm6MQgCBrBQgzKVyWghzqdQkzBVHkzDnp0eY83MjzLm7EebczQhzfmaEOT83wpyfG2HO3Y0w525GmPMzYxQCCGStAGEulVNDmEulJmGuOJqEOT89wpyfG2HO3Y0w525GmPMzI8z5uRHm/NwIc+5uhDl3M8KcnxmjEEAgawUIc6mcGsJcKjUJc8XRJMz56RHm/NwIc+5uhDl3M8Kcnxlhzs+NMOfnRphzdyPMuZsR5vzMGIUAAlkrkLkwN3fuXKtfv76VLVs2a3VcD4ww5yqW3OvvHPeuzfz4y+RenOJX9etwrLU69sAUv2v0b0eY8zMmzPm5Eebc3Qhz7maEOT8zwpyfG2HOz40w5+5GmHM3I8z5mTEKAQSyViB1Ye7BBx+0Tz75JKkzvf32261ChQpJvbYkvYgwF81sEebcXQlz7mYaQZjzcyPMubsR5tzNCHN+ZoQ5PzfCnJ8bYc7djTDnbkaY8zNjFAIIZK1A6sLcQw89ZHPmzEnqTG+77TbCXFJSqXtRvdpV7fb+LVP3hv+vvTOBsqK4GvAdGBiWAZRVQYZFlM0FFImQRBGjJuJKcCFxiUSJAYLGoOY3iMZ9VyCgUTG4sWkAVwwaNWgEF9SYiIK4ABEXQGQTmAHmP7djj7O8N/Pq9nvT9Wa+PoejMH27q7+qmqr6uqq6Gq+EmHOHjZhzZ4aYszHTKMScOzvEnDszxJyNGWLOxg0xZ+OGmHPnhphzZ4aYszEjCgIQ8JZA+sSct49YjQljxlxmYCPm3Lki5tyZIeZszBBzNm6IORu3ibNfk+fe+MgWHDHq3OMOkuP77xvxKvGEn3jZjHhuLCIzrxwiDernxnZ/640RczZyiDl3bog5d2aIORszoiAAAW8JIObSmTWIuXTS/O5aiDl3rog5d2aIORszxJyNG2LOxg0xZ+OGmHPnhphzZ6YRiDl3bog5d2aIORszoiAAAW8JZEbMFRYWyqRJk+SVV16RTZs2VXj6Rx55RJo0aeItFWvCEHNWcpXHIebcuSLm3Jkh5mzMEHM2bog5GzfEnI0bYs6dG2LOnRlizsYMMWfjdvcTi4O9geM4zjzmABlyeI84bs09IQCBmkkgM2Ju8uTJMmHCBDn66KNl/vz5cvrpp0vjxo1lxowZ0qFDB5k2bZo0aNCgxiFFzGUmSxFz7lwRc+7MEHM2Zog5GzfEnI0bYs7GDTHnzg0x584MMWdjhpizcUPM2bgRBQEIeEkgM2LulFNOkUMPPVRGjBghvXv3DuRcQUGBzJo1S8aPHy8LFiyQunXrekkkSqIQc1HoJY9FzLlzRcy5M0PM2Zgh5mzcEHM2bog5GzfEnDs3xJw7M8ScjRlizsYNMWfjRhQEIOAlgcyIuQEDBsjIkSNFBV23bt1k6tSpgahbuXJlMItu9uzZ0qNHzZv+i5jLTCFHzLlzRcy5M0PM2Zgh5mzcEHM2bog5GzfEnDs3xJw7M8ScjRlizsYNMWfjRhQEIOAlgcyIucGDB8uRRx4ZyLlhw4ZJx44dZdy4ccGec/r3xx57TLp27eolkSiJQsxFoZc8FjHnzhUx584MMWdjhpizcUPM2bgh5mzcEHPu3BBz7swQczZmiDkbN8ScjRtREICAlwQyI+bGjBkjq1atkpkzZ8rjjz8ul1xyiXTp0kWWL18eCDkVczXxQMxlJlcRc+5cEXPuzBBzNmaIORs3xJyNG2LOxg0x584NMefODDFnY4aYs3FDzNm4EQUBCHhJIDNibvPmzbJ9+3Zp0aJF8NSPPvqovPDCC8Hy1SFDhkibNm28pBE1UYi5qAQTxyPm3Lki5tyZIeZszBBzNm6IORs3xJyNG2LOnRtizp0ZYs7GDDFn44aYs3EjCgIQ8JJAZsScCqpmzZpVWK66Zs0aWbhwoQwaNIiPP1RzeejSrrncOvLoar5rem6HmHPniJhzZ4aYszFDzNm4IeZs3BBzNm6IOXduiDl3Zog5GzPEnI0bYs7GjSgIQMBLApkRc7q3XM+ePYOvspY+Vq9eLQMHDpR58+ZJp06dvCQSJVHMmItCL3ksYs6dK2LOnRlizsYMMWfjhpizcUPM2bgh5ty5IebcmSHmbMwQczZuiDkbN6IgAAEvCVSvmFuyZInohyHmz58vBQUFXhKJkijEXBR6iLl00kPM2Wg+tfAD0Y5eHMdRfTrLqMF947h15HuOnjBPdGARx3HT+T+SrgUt47h1pHsi5mz4EHM2bog5d26IOXdmiDkbM8ScjRtizsaNKAhAwEsC6RVzl156qaxfv14WL14szZs3LzMrrrCwUBYtWhTsMzd79mwvaURNFGIuKsHE8cyYc+eKmHNnphGIORs3xJw7N8ScOzONQMzZuCHm3Lkh5tyZIeZszBBzNm6IORs3oiAAAS8JpFfMjR07VjZs2CBvvvmmNGnSRPbZZ5+Sp87Ly5O+ffvKgAEDpHXr1l7SiJooxFxUgoi5dBFEzNlIIuZs3BBz7twQc+7MEHM2ZhqFmHNnh5hzZ4aYszFDzNm4IeZs3IiCAAS8JJBeMRc+4pw5c4Ivr/bv39/Lp85UohBzmSHLjDl3rog5d2YagZizcUPMuXNDzLkzQ8zZmCHmbNwQczZuYyY/Kx/8d50tOGLU1b88Qg7Yu03Eq1R/OGLOxhwxZ+NGFAQg4CWBzIi58FFXrFghy5Ytk61bt0r79u3lgAMOqJFfYw2fFzGXmUKOmHPniphzZ4aYszHTKMScOzvEnDszxJyNGWLOxg0xZ+OGmHPnhphzZ6YRiDkbN6IgAAEvCWRGzBUVFcnll18uc+fOLfPUHTt2lAkTJsi+++7rJY2oiULMRSWYOB4x584VMefODDFnY4aYs3FDzNm4scecjRtLWd25IebcmWkEYs6dG2LOnRlizsaMKAhAwFsCmRFzkyZNkokTJ8ro0aOlX79+0qxZs+CDEFOmTAlIPPXUUzVy5hxiLjMFHTHnzhUx584MMWdjhpizcUPM2bgh5mzcEHPu3BBz7swQczZmiDkbN2bM2bgRBQEIeEkgM2LuuOOOk27dusktt9xS5qkXLFggw4cPlyeffFK6dOniJZEoiULMRaGXPBYx584VMefODDFnY4aYs3FDzNm4IeZs3BBz7twQc+7MEHM2Zog5GzfEnI0bURCAgJcEMiPmjjrqKDnxxBNl1KhRZZ76ww8/lEGDBsnDDz8sBx98sJdEoiQKMReFHmIunfQQczaafPzBxo095ty5IebcmWkEYs7GDTHnzg0x584MMWdjhpizcUPM2bgRBQEIeEkgM2Lu0ksvleeee05mzZolnTt3lpycHFm/fr1ce+21wWw5XdbauHFjL4lESRRiLgo9xFw66SHmbDQRczZuiDl3bog5d2aIORszjULMubNDzLkzQ8zZmCHmbNwQczZuREEAAl4SyIyY++yzz0SXs27ZskVatGghLVu2lKVLlwYErrjiChk6dKiXNKImCjEXlWDieJayunNFzLkz0wjEnI0bYs6dG2LOnRlizsYMMWfjhpizcePjD+7cEHPuzDQCMWfjRhQEIOAlgcyIOX3UjRs3yowZM+S9996TrVu3SocOHeSEE06Qnj17ekkiHYlCzKWDYsVrIObcuSLm3Jkh5mzMNAox584OMefODDFnY4aYs3FDzNm4IebcuSHm3Jkh5mzMiIIABLwlkBkxp4JKv8TatWvXMk++Zs0aWbhwYbDPXN26db2lYk0YYs5KrvI4xJw7V8ScOzPEnI0ZYs7GDTFn48YeczZuLGV154aYc2emEYg5d26IOXdmiDkbM6IgAAFvCWRGzI0cOTKYGTdixIgyT7569WoZOHCgzJs3Tzp16uQtFWvCEHNWcoi5dJNDzNmIspTVxo0Zc+7cEHPuzDQCMWfjhphz54aYc2eGmLMxQ8zZuLGU1caNKAhAwEsC1SvmlixZIoMHD5b58+dLQUGBl0SiJAoxF4Ve8tg4Z8zd1Ptd6VSwV2YerKqr1q0n9fsMq+qshD+v1WKueJdITh0TN8ScCRtLWQ3YEHMGaIg5GzQ+/mDihpgzYWPGnAEbYs4AjT3mbNCIggAEfCWQXjGnX2PVr6/qV1ebN29eZlZcYWGhLFq0SHr06CGzZ8/2FUikdCHmIuFLGhynmLt1/9elzefzM/NgVVw17/CLpf5BZ5nuHbeYm9ZzjuQ0aGJKe5Sg4u0bpdEpUyWnXiPTZRBzJmyIOQM2xJwBGmLOBg0xZ+KGmDNhQ8wZsCHmDNAQczZoREEAAr4SSK+YGzt2rGzYsEHefPNNadKkieyzzz4lD56Xlyd9+/aVAQMGSOvWrX0FEildiLlI+BBz5Qhks5h7qPX1IjpzLYYjf9SriLlq5s5SVnfgiDl3ZhrBUlYbtziXsk4buFzq7dbOlvCIUbkdfyB1Wn7XF3W5HGLOhdZ357LHnDs3xJw7M41gKauNG1EQgICXBNIr5sJHnDNnjrRp00b69+/v5VNnKlGIucyQZcacO9e4Z8wh5tzz7Kg+nWXU4L7ugR5EIObcMwEx584MMWdjplFxirmH2t4uUvSNPfERIvPPXyA5DXc3XQExZ8LGjDkDNsScARpizgaNKAhAwFcCmRFzvj5tptOFmMsMYcScO1fEHEtZ3UuNPQIx584OMefOLG4x94dDN8lB++1rS3jEqOJv1km9/Qabr4KYc0cXp5g7vfs2OW3QYe6JTlNEnaZtRXIbmK7GjDl3bIg5d2YawYw5GzeiIAABLwkg5tKZLYi5dNL87lqIOXeuiDnEnHupsUcg5tzZIebcmcUt5m7Y/23Z6/OnbAmPGJX3/dFSv+955qsg5tzRxSnmhu37hQxcf697otMQUbdtL2l02oPmK8Up5u7e/3lptptthqT5gb8NrFtwqNTrebLpMog5EzbEnA0bURCAgJ8EEHPpzBfEXDppIubYY85WnthjzsYtShRizp1enGKu1x675MrzjnVPdJoicuo1MM/GiXOPOcScrQCwlNWdW5xiLrfzAGl44kT3RH8bEaeYu6f7U9Jw7dvmtEcJbHjSJMntZJvlGKeY699inVzYrzjKo5tji7eskQZH/dEcz4w5MzoCIQAB/wgg5tKZJ4i5dNJEzCHmbOUpW8XcqG4r5fD949kgvXjzF5L3w4tswEX4KquBXJxirm+brTJ6122GVEcPyWnQVPJ//U/zhRBzNnTMmHPnVltnzCHm3MuKRmSrmNu/xXa5tM4ttoeOGJXTuKXkD3/BfBXEnBkdgRCAgH8EEHOuebJ27VrJz8+XBg0q7r3hs5jr2a6xXDfyeNfH9eJ8lrK6ZwNLWbNvKeuIbp9K/3VT3TM7DRG5XX8iDY+9yXylOGfM3Xn4amnVtsCc9iiBKply9znadInaKubqNGsnjYc9Y2KmQYg5GzrEnDs3xJw7M41gxpw7tzhnzCHm3PNLI8485gAZcngPW3CMUZu3For2P+I6WjRrJB3aNIvr9twXAj4TQMylmjsrV66U4cOHyyeffBKEDBkyRK688krJzc0tuYTPYu6wtlvk/N2ekZy8Jqk+cvrO27FVGg2dbr4eYs4dHWIOMedSarJZzN3Xda7U/+pdl8dN27kNf3q35Bb0M10PMWfChpizYeOrrAZuiDkDNMScCRpizoQt1j3mbuj+qnTcPceW8IhROY2aS4OBY81XGTJulhTt2GWOjxL48OWDJb9h/SiXIBYCNZUAYi7VnD333HODmXI33HCDfPbZZ4GYu+KKK+SEE07IGjE3vOiOVB83refVabG3ND5rrvmaiDl3dIg5xJxLqUHMudD67lzEnDs3Zsy5M9MIPv5g45Z//gLJaWj7GABizsacGXPu3BBz7sw0Is6lrFft/650/tw+trE98f+i6h96vuT1G2m+xClXPCKFRTvN8VECEXNR6BFbwwkg5lLJ4I0bN0rfvn1l+vTp0rt37yDk6quvls8//1wmTZqEmKsCImIulVJW8Rz2mLNxy9Y95ljKastvZsy5c4tzjznEnHt+IeZszDQKMefOjj3m3JlpBHvMuXPL5j3mEHPu+a0RiDkbN6JqBQHEXCrZvHz5cjnuuOPkpZdeklatWgUhDzzwgMydO1dmz56NmEPMpVKMnM9BzDkjCwIQc+7cmDHnziwYiLGU1RkcYs4ZWRDAjDkbN8ScOzfEnDszxJyNGWLOxo0ZczZuxYWbJad+vi2YKAhkngBiLhXGb731lgwdOlR0D7mmTZsGIbNmzZLJkyfLiy++WEbMVXa9lWu3yYMvr07llmk/p1ezr2RM/TvTft1ULqh7ISzpfXMqpyY855HX1sqy1RvN8VECb+n0hOyx+Z0olzDHftHpNPmqrW1j+aKdxXLTEx+b7x018KFW14lIcdTLmOKX9pssu+rkmWLf+Gij/O2dtabYqEFD2y6VQUWPRr2MKb6w5f7yYdcLTbEadMe8FbJlezzLIqa0nSx5RevNaY8SuHK/38mWZrbNn1ev3y5/+cenUW5vju3RdINclvcnc3yUQP1gxpKDbzdfYvbidfLeqg3m+CiBN3acJ+22vBnlEubYNR0Gy9q9Bpnjr537kTk2auCDrW+UnOIdUS9jiv/ge+NlR65tIPbWik3y9FtrTPeNGjR4j49k8E773rxR7l/UvJss736x+RITnlkpm7bFk993dXhI8r9ZYU57lMBVPS6QzbsfYLrEmo1Fcvfzq0yxUYM6N94sVzUaH/Uypvic+o1kySETTbEa9PhbX8m/V3xtjo8SeE3H+dJxy+tRLmGO3dr+CPmk4Axz/PWPfyy7dsXTR3+g1fVSR+LZ3255n5ulKK95Um66Oo4DAjESQMylAj+cMffyyy9Ly5Ytg5BkM+bef//9pJfcsStHcuvE84uwbtFm2VnP1jlNhVFNPadoV47UiynP8oq3yvachia02uDWqRPPprSaYC3lcd09R3ZJsdQxcSvclSP1Y8vvbbI9p+LXnk0PUouC4syz3OJC2ZFj28T4m+07pVFe3Vhyqs6OLbIrt3Es987mm8ZZ1hoUfyPbcmx7Z8bNvLhYJCemBqGu7JSdYqtncbb/9Yu3S2GO7QVT3Pkd5/3j7GfXKy6UImN7sK1wlzSob+u3ROVdZ8dW2ZVr62tGvXc2x2/fmSN5deMZ02UzN/WBcQ1PcouLZEdOvaT4zjrrrGxGS9qznwBiLpU8TLTH3FVXXSVffPFFmT3mUrkW50AAAhCAAAQgAAEIQAACEIAABCAAAQhAQEQQc6kWg2HDhkmzZs3k+uuvT/pV1lSvxXkQgAAEIAABCEAAAhCAAAQgAAEIQAACtZ4AYi7VIvDxxx/L8OHDZdWq/+0BcfLJJ4vOmqtXL/mU2FSvzXkQgAAEIAABCEAAAhCAAAQgAAEIQAACtY4AYs41y3X5an5+vjRuzP48ruw4HwIQgAAEIAABCEAAAhCAAAQgAAEIQKCEAGKuphWGbdu2Sd26dZ1n8u3atUuKi4uD2ETHzp07JScnR+rUiWdz2kzmkz5bYWGhNGzovvltMi76719++aU0b95c8vJq5gbOO3bsEP3ToIHbBwu0nGl5S1TWtm/fLmvWrJFGjRoF7GrisXXrVqlfv37SupbsmauqozWRVfhMUetost9rNZmZPpu1PaisjobM1q1bF/xvixYtahTGqGWtpraTVWVyJtoDvaeWM30R6trOVJVeX36eifZgy5Yton9atWoV9Ntq2mGpo9p+rl+/PugbN23aNCGSTZs2BX2a3XffvaYhC57H0h6k0petyeMD5Wapo7o3ufJu3bp1hbKUSlnM9gJoaQ+q4lIbxgfZnu+kPzIBxFxkhBm+wNixY+XRRx+tcJfFixcnnLX3s5/9TA488EC59NJLU06ZDsKuuOKK4Hxdnlv+0MZlyJAh8qtf/UqOP/74lK8b14n//e9/5Uc/+lGF2+tS5IsuuqjCv7/yyiuiewguWrRIdtttt5STnYzL3XffLbfddlvJdX784x/LH//4x2CPQp+Pxx9/XC655JIKSbznnnvkhz/8YYV/nzhxojz33HPy2GOPOT2W3kf5vPjii2Xi/vCHP8hf//rXkn/r06eP/OlPf3LKE6eEpOnkAQMGyOeff17mavvvv7888sgjCetSr169ZPLkyTJw4MCUU1BVHdULKc/zzz9f7rrrLtE0+XxUVx0dCfx5AAAV/klEQVRduXKlHH300fL8889L27ZtS5BouR01alQFRP/617+8FunV0R4olGR1VDvO9957r9x///0lwkTbIp+P6iprydqD3//+9zJ37twKiLRNOO2007xFF3d78M9//lMmTJggmn/Ktn///sEev7piwecjzvZAXzDq7wjNOz322GMP0XZa2yOfj0zXUe3j/eY3vwlkpR59+/YN+jr77bdf8PdvvvlGLr74Yvn73/8e/F370JMmTZKWLVv6jC3I60yOD1Lpy2bb+EAzNJN1dO3atXLGGWfIJ598EpSdLl26BNsgnXDCCcHfqyqLvha4TLcHVXHJ1vGBr/lJurwlgJjzNmu+TZg2vBs2bKgglDp06JBw9pruhaczv7RDlsrxzDPPyNVXXx0Msk499dQKYu7mm2+WKVOmBJfS/88mMXfffffJnnvuWYJBxViiWVibN2+WFStWSLdu3VKexVQZl1mzZklBQYGogFExcM4558i5554b/NfnQxveG2+8UR566KEyydSylGg2oc4I1LeC2vFI5VAWv/zlL4N9GvWa5cWcCiUVgF27dpXVq1fL0KFDRT9drkLY50M7eSrEjzrqqJJk6uyO0mUv/IGKjffff1/22muvpG/tyz9rVXVUz1+6dGmQBh14ZJOYy2QdVemhok2P8mLu2WefFRUms2fPLoNb663PM0wy3R5UVUdvueUWmTNnjowYMUJ+8pOfBDONU21r4qrD4aA/k2WtsvZAB2qhEFAGOvvipJNOkvHjx8sxxxwTF5Yq7xtne6AzcHr27CmjR4+WX//61wGzwYMHyymnnBK0IT4fcbYHTz31lFx33XWiL9P23Xdfueaaa0QF55NPPun1C4dM11F96ar9Fc0bLUtXXnllsEJE20o9lJf22x5++OGgr6N9js6dOwf8fD4y3R5U1ZfNxvGB5mcm66iWM20jTzzxxGDyhL7E+stf/hLUQ+0XVlUWfS1vmW4PquKSreMDX/OTdHlLADHnbdZ8mzBteLUDce2111ZIqg48dYbMggULZMmSJUGHTN+eqSj56U9/mtKjaSdFxZ/OYNJGo/yMua+//jp4W3366afL7373u6wSczr4bt++fRkOy5cvl//7v/+Tyy67LGgwtRFVMamD9BkzZqQs5ly4aB5qx3Pq1Kkp5UlcJ4UNr3Ygyh86U0GlhZYVfbOl0kyPN954o2S2ZVXp1sGWLlPVt9LaES4v5krHFxUVBZ0nHZj5PKsk7OT99re/DTpi5Y9EdfTyyy8P3nT36NGjKmTBz6uqo8pUB6xaP3XAceutt2bNjLlEdVTL4dtvvx3MWnjiiSdkn332CWbsutZRrdufffZZUH4SiTlllaisp5QpMZ1UWXuQqI7+5z//cWoPKqujWs5UnGs7o5IkW45w0O9Le6CCcPr06aLC3ecl1nG2B/o7r3fv3sEMOf3Qlh5a/3Nzc72XJdpuxdUe6MuZgw8+OGgL9NClm/369Qtmoqvo9PWorI6mqz0o/ezh7J933303qIP6+0xXNujMJj20bl544YXy3nvvef+iJtn4IB3tQfnyUr4v69IP9qnsJaujicYH06ZNC156uvTZSj9rWLZV+mrdLH+UL4s+cSpfZ/TFfaI+U6I6qrNRXcYHLlyyaXzga36SLm8JIOa8zZpvE6aNgUo3fcMeHjoNX2d36R89zjzzzGCZlnYsVKzpgFaFncuhy2p0UJZoKateR2cDqSTJphlz+tYz3P9I9/RSufjOO+8EMwN1locO9lVGasdVRWbYSXPhVhUX3WdBl9Ued9xxMmbMGJdLV/u52rhqObjgggtK7q0yTjsxWp5UpOksGS1fBxxwgPz73/+WF154wVk4Pv3003LTTTclFHM6A0dnaOq9dG+ObFm6pB0u5RIeumxBl0UnqqNHHHFEMCtRl+q6HInqqEpzrf+HHXZYsFRH05FNYi5RHdW3y9oBVJ5av3TmYceOHU11VD/Wc/jhhycUc8pLf6/q74BDDjkk+P3psyjRslJZe5CojqoAt7QHiepouPxXBynLli0L9klUGZ1ISLuU60yfGw6MfGgPdIax1n990ablzecj7vZAf49p+dUZcvoSI5wJluoLjbjYansZV3ugL2i0P1N6yw5tg3Q5a+kZ3XGxSXbfyupoOtuD8P661csHH3xQMmNa80vLVziDVfvcKutee+21lGe2x8G0utoDfbbK+rJV9YPjYFPZPZPVUZ0xXn58oKtdtA5Z+myaBp2VrxMB9IV2ohU75cuib6zC9FTWHiSqozpT3DI+SFZH9d+zcXzga36SLm8JIOa8zZpvE6YNr/5yUxESHjpbSQfi2liU3/9Ll31YBmI1UcypwAy/nqv/1WVYoZgrvUefCrlMiblx48aJLi+ZN29ewk1gfSp/4Zs7HTiGx0EHHSTnnXdeIOZ0aUzpDr/OOLQ0vJWJORVNOqNR31SrmFNBk2hJqE/ctJOny6RL72Gms+L074nqqLWTV76O6rLYcGaEDmL1wyzZJuYS1VHt5OmMBZ1VFH5sxlpHk4k5lcp6D803XTats2V//vOfi+abz0dl7UGiOmptDxLVUX3jr7OL9QWNLjfX5dO6B5iWvUGDBnmLLRz0+9Ae6Mz0f/zjH8FSJ98/pBR3e6BLm/T3m/Z9tJ35wQ9+EMzsT7Zxvy8FMK72QJ8/HCDrYF/bTV3Kr/+WLWIu0+2BMgrLtc5c1X0LdcZZ9+7dy2wBoTOn9GWqljuf+x/V1R4ot8r6stko5hL12VQmqZgrv4e3tc+m8lcnBPziF78IXpyWP8qXRV9+hyVKR2XtQaI+m3V8kKiOhunJxvGBz3lK2rwkgJjzMltKJaqypUvaWOjgVZd8hId1IFYTxVyipUuhmCu9RME66FfmlXVI9MMF+kc/AuD75sthY5hsqroO+lXShUs99Hxrw1uZmAvLsXaWdaaEdooTLeP2qd5WtnQpUR21dvLK11FdqqmCXjuSoYDWDpKKVZ0J5vP+VZUtXdJneOmll0QHTuFhraPJxFz58qNLvXRzYcus2eosi5W1B4nqqLU9SCbmtL3R/arCQwWALjtUQefrUVlZq872QD8Qo78rsmEPyLjbA51ZqJJG25jvfe97wV6tuq+hLmu//fbbfS1qQbriag/03tpu6kuG8CMGupep/j2bl7Kmsz3QZXjaryj/4RV9oaWz8/VDQXpk04y5ZEtZ09keVNWXzUYxl2i5eaL2QMuDpc/26aefBi/79PeYlq3ys/GTlUVff7lVtrVBojpqHR+kwiWbxge+5ifp8pYAYs7brPk2YYg59xyKeyCmM5l0U1zdOPfBBx9MeS8x9ydNb0RlDW91izl9Mt14+aOPPiojaNL7xOm5WlwDMf2SnJav0ocOWnUZrb7tV2nn6+GbmFMRqDNDdW87Xdrq6xGnmAu/+qv71uleX3rojCYth3feeaevyIL9PXU7gbhf1OiME51lOHPmTG9ZlU5YnO1BWB9LfyldB3oqgH3/CnBc7UGiQvXnP/9Z9Mua4cbzvha86mgPwn3jSu9bGPLQZau6TYe2AXrUhD3m0iHmUu3LIubK1iydcXn22WfLkUceGezBXF7KVVYWfa2j1SHmXLhky/jA1/wkXd4SQMx5mzVpEnO6LFAbV50JlejQfeX057pESTfU1D3mtBEJl9mEPz/22GODN9Y64K9Xr57X2KIOxHS6tO6jpMtb9Y1XZdwScQk/663LjPXLXuGh+9r5vIdV1IGYLnWbO3dusHQmPz+/AjZ9y6X7lOiyXl2SpANlLWfKRL+Mq4MI7SDrBzt05tKwYcNKltH6XOCiDMRcylqyOlqaTbYtZU0kS1KZIaFLtHTWgy49LT1juDQLLWv68QcdNPztb3+Tdu3alQglLau6HFM3KNYNrHX/R5VNvn+gJaqYq6o9qKyOhvuj6bIcbQtU0OmHNTQPkv2e9KHext0eKAN9waBtxQMPPBDMoMiGI872QGeb6KB21KhRwRcydVamigZdxhp+SdNXhlHaA32mqupoZX027cutW7dOmjRpEuyPprOCdM9Y/bq5z0dUMVdVe6D9Ev14iO71peUqPHbffXdp1KhRIC91ZYO2C/p3XRmQLV9ljTJjrqqyVlVfNhvHB5r3yepoKjPmquqz6csX3XdVx0pa98KxlJYrLW9VlUVf62lUMVfV+KAyLvp7LVvHB77mJ+nylgBiztusMYq5kSNHBnuyaGdWZzLo8kOVbbrcLdGhb+/1jU7pQ5cOhl911Y6dipTSh/69U6dO3qKrrJOne0vpBsmll7KGyxbCZWwLFy6Uc845J9gbbu+99074nJVxURGwatWqCnEqBzp06OAtt6oGYip9wjfK+hA6yNSvXYYyQ2Wm7qume/klOsJ9W0r/TDswKo23bNkSfMRA8yI89Gt8+uXMvLw8b5lV1snTnyVbyhp+oSuVslZVHS0Np6aIOZ3hce+995Y8Wvk6qktrdFml7tcVzt4qX0iUhZar8NAPwYRfFAs3lg9/pvty6r/p0i+fj6rEXPk66toeVFZHlYtuYK175YRcVcjpYNfnFw5xtwfKTb/wqGKz9PJsn8uZpi3O9kDvr7MntI3Rga4eusxQB7r6gsvnwyLmwvYgap8tjFc++vtOeSXr+/nEsCoxF7U90Jc42l6UP8IvTOvvM539G34pXrcemTRpkvf7Ame6PaiqL5uN44PK+myJxgdhPy7VPptuA1F6L+awzIV93arKok/1snRaqhJz5euo6/igMi66LUu2jg98zU/S5S0BxJy3WZOGhOkvSt2o++WXX5aGDRum4Yq14xLjx48PvjhaWgzUjie3P6XOeNOvjJbf89D1itpB1jf+rVq1qhVllrLmWkL+d77O1NLliaVFseuV9M33mjVrgtkl+gXdmn6kqz3QWRK6X1o426Smc6OOuudwutoDvbPWUZ0p5/sLGndKFSPSUUe1buqqhvCL9OlIl+/XSEd7oM+o8ly//NiyZUvfHzly+tJR1iInIgsvQHvgnmnpag9q2/jAnTQRNYAAYq4GZGLSR9AZIHqEX26syc+azmfT5ZQqNPXNN0dqBBYsWCB33HFH8Gl4jtQJUNZSZxWeGW4Mr7O3mjdv7n6BWhpBe2DLeOqoOzfaA3dmGkEddedGe+DOjLJmY6ZRtAfu7GgP3JkRUWsJIOZqctbrVxt1Ngiz5dxyWb8Ap/tR+bw8y+2JMn+2do51Ty9EiRtrypobLz1b98LUWTS6bJojdQK0B6mzKn0mddSdG+2BOzONoI66c6M9cGdGWbMx0yjaA3d2tAfuzIiotQQQc7U263lwCEAAAhCAAAQgAAEIQAACEIAABCAAgTgJIObipM+9IQABCEAAAhCAAAQgAAEIQAACEIAABGotAcRcrc16HhwCEIAABCAAAQhAAAIQgAAEIAABCEAgTgKIuTjpc28IQAACEIAABCAAAQhAAAIQgAAEIACBWksAMVdrs54HhwAEIAABCEAAAhCAAAQgAAEIQAACEIiTAGIuTvrcGwIQgAAEIAABCEAAAhCAAAQgAAEIQKDWEkDM1dqs58EhAAEIQAACEIAABCAAAQhAAAIQgAAE4iSAmIuTPveGAAQgAAEIQAACEIAABCAAAQhAAAIQqLUEEHO1Nut5cAhAAAIQgAAEIAABCEAAAhCAAAQgAIE4CSDm4qTPvSEAAQhAAAIQgAAEIAABCEAAAhCAAARqLQHEXK3Neh4cAhCAAAQgAAEIQAACEIAABCAAAQhAIE4CiLk46XNvCEAAAhCAAAQgAAEIQAACEIAABCAAgVpLADFXa7OeB4cABCAAAQhAAAIQgAAEIAABCEAAAhCIkwBiLk763BsCEIAABCAAAQhAAAIQgAAEIAABCECg1hJAzNXarOfBIQABCEAAAhCAAAQgAAEIQAACEIAABOIkgJiLkz73hgAEIAABCEAAAhCAAAQgAAEIQAACEKi1BBBztTbreXAIQAACEIBALSKwadMmee2116RXr17SokWLMk++ePFiyc3NlQMPPLAWEeFRIQABCEAAAhCAAAQ8IICY8yATSAIEIAABCEAAAhkmsGTJEhk8eLBMmTJFvv/975e52xlnnCH5+fly1113ZTgVXB4CEIAABCAAAQhAAAJlCCDmKBAQgAAEIAABCNR8Aoi5mp/HPCEEIAABCEAAAhDIQgKIuSzMNJIMAQhAAAIQgIAjARcxV1RUJJMnT5Ynn3xSVq1aJYceeqhcfPHF0rNnz+CuCxculIkTJ8q9994rjRo1Cv5Nr3/NNdfIrbfeKnvuuafMmDFDXn31VRk5cqQ8/PDD8uGHH8oFF1wgBx98sGPKOR0CEIAABCAAAQhAoAYTQMzV4Mzl0SAAAQhAAAIQ+JZAKOZUlPXo0aMMl5tvvlk6duxYspR13LhxMmvWLDn11FOle/fucv/998snn3wizz77rLRv316efvppueiii4I965o2bRpc6/XXX5czzzwz+Fnnzp0DQXfPPfcEP+vTp4+0adNGTj/9dDnkkEPIEwhAAAIQgAAEIAABCIQEEHOUBQhAAAIQgAAEaj6BUMwle9IBAwYEYu7LL7+Uww47TM4991wZM2ZMcPrXX38dzJrTvejGjh2bspibNm2a6J+uXbvWfMA8IQQgAAEIQAACEICAhQBizkKNGAhAAAIQgAAEsotAKObuvvvuCh9/0JluOvNNxZwuPz377LNFz1NBFx764QhdtvrQQw+lLOaeeeaZYJYdBwQgAAEIQAACEIAABJIQQMxRNCAAAQhAAAIQqPkEUt1j7qWXXpLzzjsv2Beu9H5wZ511lmzfvl1mzpxZIuZU4jVr1iyAl2gpK2Ku5pcrnhACEIAABCAAAQhEJICYiwiQcAhAAAIQgAAEsoBAqmJuxYoVcswxx8jo0aNlxIgRwZNt27ZNevXqJSeddJLccMMN8sorr8iwYcNk/vz5UlBQEJyj+82pvCu9xxxiLgsKBkmEAAQgAAEIQAAC8RJAzMXLn7tDAAIQgAAEIFAdBFIVc5oWlW5Lly4N5Fy3bt1k6tSpMm/ePJk+fbr07t27RNSdfPLJwQcdli1bJnfccYesW7cOMVcdmck9IAABCEAAAhCAQM0hgJirOXnJk0AAAhCAAAQgkIxAKObuu+8+6d+/f5nT9KMO+fn5JV9l1Q9AXHLJJbJo0aKS86677jrRfebCQ/eau/POOwMZ17hxYxk0aFDwJVcVeJ06dZLbbrst+H/2mKNMQgACEIAABCAAAQhUQgAxR/GAAAQgAAEIQAACiQjo11g3btwo7dq1k7p161Y4ZceOHbJ69eqkP4cqBCAAAQhAAAIQgAAEqiCAmKOIQAACEIAABCAAAQhAAAIQgAAEIAABCEAgBgKIuRigc0sIQAACEIAABCAAAQhAAAIQgAAEIAABCHyVk5PTQjHkwAICEIAABCAAAQhAAAIQgAAEIAABCEAAAhCofgKIuepnzh0hAAEIQAACEIAABCAAAQhAAAIQgAAEIMCMOcoABCAAAQhAAAIQgAAEIAABCEAAAhCAAATiIPD/ie5lHw5qODMAAAAASUVORK5CYII=\" />"
      ],
      "text/plain": [
       "Open the notebook in JupyterLab with the Atoti JupyterLab extension enabled to build this widget."
      ]
     },
     "metadata": {},
     "output_type": "display_data"
    }
   ],
   "source": [
    "# X-axis: Hour\n",
    "# Y-axis: total_price.SUM & quantity.SUM\n",
    "# Filter: Fri\n",
    "session.widget"
   ]
  },
  {
   "cell_type": "markdown",
   "id": "d7c14e6c-62e7-45ee-acb6-db720d404c6e",
   "metadata": {},
   "source": [
    "### What are our best and worst-selling pizzas?\n",
    "\n",
    "To anwser this question, we could simply create a visualization and sort by amount of revenue (`total_price.SUM`) generated for every pizza name (`pizza_name`), but perhaps Plato wants to see this as a percentage — how would we go about doing this? Answer: we can create new measures!"
   ]
  },
  {
   "cell_type": "code",
   "execution_count": 20,
   "id": "c70af295-659a-43a8-83b1-328415668a58",
   "metadata": {
    "atoti": {
     "widget": {
      "mapping": {
       "columns": [
        "ALL_MEASURES"
       ],
       "measures": [
        "[Measures].[total_price.SUM]"
       ],
       "rows": [
        "[pizza_sales_table].[pizza_name].[pizza_name]"
       ]
      },
      "query": {
       "mdx": "SELECT NON EMPTY Order(Hierarchize(Descendants({[pizza_sales_table].[pizza_name].[ALL].[AllMember]}, 1, SELF_AND_BEFORE)), [Measures].[total_price.SUM], DESC) ON ROWS, NON EMPTY {[Measures].[total_price.SUM]} ON COLUMNS FROM [pizza_sales_table] CELL PROPERTIES VALUE, FORMATTED_VALUE, BACK_COLOR, FORE_COLOR, FONT_FLAGS",
       "updateMode": "once"
      },
      "serverKey": "default",
      "widgetKey": "tree-table"
     }
    }
   },
   "outputs": [
    {
     "data": {
      "application/vnd.atoti.widget.v0+json": {
       "sessionId": "1707409745_PR9VA3",
       "sessionLocation": {
        "https": false,
        "port": 9092
       },
       "widgetCreationCode": "session.widget"
      },
      "text/html": [
       "<img height=\"352\" width=\"1254\" src=\"data:image/png;base64,iVBORw0KGgoAAAANSUhEUgAABOYAAAFgCAYAAAAfLXZIAAAAAXNSR0IArs4c6QAAIABJREFUeF7t3XmQZedZH+Bzbs9mecbyps2WLNmaufdaQpZteV+VBAgkmLXCvlWRADEGDCQmECiMwxYChAQSCBSEfQkEAgRDQsrxbmF7jDOyNH2vxnLJlj02xrJ2W6PpPpn3Vt+pVrvPTPfs7zvPrXJhps8953uf3/U/v/rOOW3jQ4AAAQIECBAgQIAAAQIECBAgQIDAGRdoz/gVXZAAAQIECBAgQIAAAQIECBAgQIAAgeZoMdd1XceDQCGBh9u23VZoHqMQIECAAAECBAgQIECAAAECxQQUc8UCNc5RAcWcHwMBAgQIECBAgAABAgQIECBwTgso5s7peCzuJAQUcyeB56sECBAgQIAAAQIECBAgQIDA6RdQzJ1+Y1c4OwKKubPj7qoECBAgQIAAAQIECBAgQIDABgUUcxuEclg6AcVcusgsmAABAgQIECBAgAABAgQInF8CirnzK+/zaVrF3PmUtlkJECBAgAABAgQIECBAgEBCAcVcwtAseUMCirkNMTmIAAECBAgQIECAAAECBAgQOFsCirmzJe+6p1tAMXe6hZ2fAAECBAgQIECAAAECBAgQOCkBxdxJ8W3syw8++GDzoQ99qHnyk5/c7Ny5s/dLH/zgB5uu65orr7xyYyd21LEEFHN+HwQIECBAgAABAgQIECBAgMA5LdBbzL35zW+eLfz5z39+s3379kcMceeddzbvf//7m927d8/KpjP1OXjw4OxSl1122Zm65Gdc50TW8NGPfrSZTCbN0572tOaKK67oXfvb3/72Znl5uXnJS15y1uYrdGHFXKEwjUKAAAECBAgQIECAAAECBCoK9BZzb3rTm2bzXnDBBc1zn/vcR8weu79uv/32M17MvfWtb52t42wWVyeyBsXcWfmfjmLurLC7KAECBAgQIECAAAECBAgQILBRgeMWc3GitTu9FHObKwcVcxv9OZ7S4xRzp5TTyQgQIECAAAECBAgQIECAAIFTLXDMYm7Lli3N4cOHm7ZtH3FL63rF3EMPPdTceuutzX333Td7TtqjHvWo2Y66xz/+8c3f/d3fNfv372+e+tSnNpdffvlshg984ANN3BIbx8xvTT1w4EATt4recMMNs5168088o23v3r2z2zzjMxgMmsc85jHN9ddf39x0001NrHPbtm3NJz/5ydl/f/GLX9wcaz3z8951111NXPNTn/rUbMZ4/ttnfdZnzc619nOsNYTR+973vubee++dzb6wsNBcfPHFzXA4nJ1mXszFbb9xzfn1du3aNbve1q1bZ8etdytrmMZ3lpaWZuuKczzlKU851b+DiudTzFVM1UwECBAgQIAAAQIECBAgQKCQwDGLuR07djSXXHJJc8cddzzilta1xVyUUVGQHTp0aHZclGNRUkXZFbfBRqEUt4BGmfasZz1rxvfOd75zVlBdeOGFzTOf+cyj//bpT3+6ednLXvYI4jhvPKMtCqr4RNkX34uC6i1vecvRwi6uHWXXaDQ65nqiNIyi7d3vfvesSIt1RbkW/xZrfcELXjBb++rPsdbwrne9a/bd8Ir/xOxRIl511VWzFznMi7k437xUjOPjnLGW5z3veesWc1H2feITn5itKWabnzfmu/TSSwv9DE/LKIq508LqpAQIECBAgAABAgQIECBAgMCpEjhuMRcvf/jrv/7rJgqzq6++erbjbW0xF7vf4o2iT3rSk5o9e/bM1vbxj398toPusY997Gxn2zve8Y7Zrq/58+Hmz7CLouqlL33p7DvxwokooJ7znOesO996z3ebF3NR7kVZF5+NrCd24N1///3NddddNyv64hO7+v72b//2mM/OW28NUaDFCzLms0fhGMXjox/96Nks82IuZo3Sb75DLorBBx54oLnmmmuaiy666BE75qK4i8JvdXEXuwAjizjP2XzO3qn68Z3m8yjmTjOw0xMgQIAAAQIECBAgQIAAAQInJ7ChYi5KuSiEYhdZFEsf+9jHHvHyh7/5m7+Z7eaKWzfjNs75J4qu+a2lUdJFWfeiF72oueeee5pbbrllVuR95CMfme2qix1rcZ7YBRe3vK736SvmoqiK21fnn42sJ0rA2C339Kc//ej3oviKl1o88YlPbK699toNr2F+YBjEOWInXNwiGzvdXvjCFx4t5qJ8ixJu/olbfOcOUeqtvpV1Xn4+4QlPmN0WO/9Mp9NZwRm7Ctfu6ju5n0K5byvmykVqIAIECBAgQIAAAQIECBAgUEtgQ8VcjBw74mInWuwCi9tbV7+V9W1ve9usWOv7vPzlL5/dhnrzzTfPdqNFMRelVOz6ih1vsQsvSrIPf/jDs2fZxe2gmynmovyLAmz+2ch65jv21rvOem+inR+3Xjk436G39lxri7n5ra3z46LAi52E89t5Vxdz8yKzz/TZz3727LZdn14BxZwfBwECBAgQIECAAAECBAgQIHBOC2y4mIsp5s9Si2eyxe6wKNniZQTz20LjWWlrd3HF/x+3ecYnyrDHPe5xs1tI4xbNeN5cPJsudtnFcbEz71i3aPbtmFtbzG1kPbFjLnbarXfbbKxnfrvp2vTWrmF+22p8J3b7xW2xMW8UbvPn1c1vZY1CczweHz1lvKxi3759s6Iz/n11MTcv++KNuLHTbu2nr7w8p39tZ3Zxirkz6+1qBAgQIECAAAECBAgQIECAwCYFNlXMzZ9xFrvb4jMv5m677bbZLanzZ9DN1/D+979/VnDN3yIaxV6cI27FjMLpiiuumL3UIYqrKOZi51g8j67vE6VYvFRh9cshYsfd2mJuI+uZv3wibqOdvwE2drBFIRbl2nplWKxr7RrizbIxZ7xZdv4W1igt43baKOji1t95MRfrjFt55+VllHJRzs1f5rC6mItdhe9973uPPqNvbhLO8ebb+I7PMQUUc34gBAgQIECAAAECBAgQIECAwDktsKliLiaZF1Gri7ko26LoitIsnokWt7vG8+RiN9nq56rF7a/x7LT4xDPhoqiKkuk973nP7N+i2IqCq+8zf3ZcvFAijotnr61XzG1kPfOXU8SuuThPrOXgwYOz0nD+Mob11rF2DXE7acwe54k1hUEUcVFeri3m4nzxb/EMu9g1GOXbvFSM768u5uLY+Us34hqx0zAKv7vvvvvoec/pX9bZX5xi7uxnYAUECBAgQIAAAQIECBAgQIDAMQQ2XczFueZvE53vmIt/i9Io3k768MMPH71c7DyLt57OP/PbPmMXXewcm3/mb1aNt7NGQdX3iefUxcsSovyaPwduvWJuo+uJkvCOO+6YlXHxiZ1sV1555ew/m1lD7JiLwnL+ibmjQIs5V++Yi1tW49l68+vFra6xQ3C+Y29tMRfHRWkZb2idf+IW4HgDbXzX55gCijk/EAIECBAgQIAAAQIECBAgQOCcFugt5k501VEmxY61KJBO11tD40UTUeAdq8Sbr38j64lbWKPs28xz29ZbwwMPPDA7x+o3067nGM/SO9Zz7Nb7Tpw7TDcy84lmV+x7irligRqHAAECBAgQIECAAAECBAhUEzjlxVw1IPOkFVDMpY3OwgkQIECAAAECBAgQIECAwPkhoJg7P3I+H6dUzJ2PqZuZAAECBAgQIECAAAECBAgkElDMJQrLUjcloJjbFJeDCRAgQIAAAQIECBAgQIAAgTMtoJg70+Kud6YEFHNnStp1CBAgQIAAAQIECBAgQIAAgRMSUMydEJsvJRBQzCUIyRIJECBAgAABAgQIECBAgMD5LKCYO5/Trz27Yq52vqYjQIAAAQIECBAgQIAAAQLpBRRz6SM0QI+AYs5PgwABAgQIECBAgAABAgQIEDinBRRz53Q8FncSAoq5k8DzVQIECBAgQIAAAQIECBAgQOD0CyjmTr+xK5wdAcXc2XF3VQIECBAgQIAAAQIECBAgQGCDAkeLuQ0e7zACBAgQIECAAAECBAgQIECAAAECBE6BgGLuFCA6BQECBAgQIECAAAECBAgQIECAAIHNCijmNivmeAIECBAgQIAAAQIECBAgQIAAAQKnQEAxdwoQz9VTdF23MJ1ODzdNc3g0Gm09V9dpXQQIECBAgAABAgQIECBAgACB81FAMVc4dcVc4XCNRoAAAQIECBAgQIAAAQIECKQXUMylj7B/AMVc4XCNRoAAAQIECBAgQIAAAQIECKQXUMylj1AxVzhCoxEgQIAAAQIECBAgQIAAAQKFBRRzhcO1Y65wuEYjQIAAAQIECBAgQIAAAQIE0gso5tJH2D+AYq5wuEYjQIAAAQIECBAgQIAAAQIE0gso5tJHqJgrHKHRCBAgQIAAAQIECBAgQIAAgcICJ1zM7dmz5x8vLCw8Y3Fx8ccL+6Qe7WzumLv22mufcvjw4ee3bfuGxcXFT5xqyPF4/D1N03xgcXHxj071ua+55ppty8vLTxoMBh+59dZbD53q8zsfAQIECBAgQIAAAQIECBAgQCAETriYG41Gv9E0zRcvLS1ddODAgYdwnnsCxyvmxuPxV3Vdd8lkMvnZjax+M8cPh8OvaNv29waDwQv3799/00bOv4ljFkaj0Ufatn3b4uLil27ie8c89Kqrrtqxffv2n2+a5ptWHfiLS0tLrz5Tv/HxeHxjXHtxcfGN8zWMRqP/27btmxYXF197qmZ1HgIECBAgQIAAAQIECBAgQODsC5xwMXfjjTduueuuu7bv27fvgbM/hhWsJ7CBYu5/dl333MlkcslGBMfj8YaPP83FXHPDDTdcsGvXrkNvfOMbD29k7Rs5Zjwev6rrup9r2/bfN03zl8vLy69o2/ZVbdt+y+Li4i9t5Bwne0yUcHGOyWTy9+bnGo/Hs0JOMXeyur5PgAABAgQIECBAgAABAgTOLYHeYm737t1XLywsvL5t21/vuu5zmqa5oeu6/75ly5Zvv/XWW+8fjUY/0TTN50wmkxvG4/GLuq77r2tG+/RkMrl+PB7/btd1z179t67rfmQ6nf7maDR6RtM0UYL8/aZppl3X/cfpdPqfjkc0Ho9/uuu6lzZN8wdN0/xg13U3DQaD1y4uLr49vjsej7+067ofapomzv+e5eXl77rtttvevFIWva5pmv/cNM2/aJpm25HbIb+haZrYpfTKtm0/1DTN1y8uLu6N84xGoy9qmuZfrpznL7uu+67pdPrh463vXPn7sYq50Wj0C03TfOvKWqeDweCr9u/f/57RaPSFKzbPbJrmrW3b/mB4rHf8JZdcsu/gwYPf1zTNNzZNc1Ecv7S09M0HDhy4czPF3Ko8f6dpmjjfnU3TvG4ymfxJrG84HL6jbdv3Nk1zWfxWFhYWnri0tPSGpmn2TiaT74ydn8Ph8Afbtv2alWP+bNu2ba+6+eabP7nye/i+rutijY89crrf2blz52v27t378NqcVn6rX7l9+/adK4XzYDgcvnowGNy2uLj4Z6c719gtt/K7bdq2/eH5rrmVXXQ3KuZOdwLOT4AAAQIECBAgQIAAAQIEzqxAbzG3Z8+epw8Gg1tjOV3X/dpgMLiw67ov6brul6bT6bfMb2WdTCaPGY/HVy0vL89vKXxi27ZRrrxtMpm8ZDgcfmXTNE+K86wUJ8/uuu6zp9PpG0aj0WLTNBe0bfuTXdfF96Mgu34ymew7FsNoNPrtI0XeV8c1uq57T9u23940zVsmk8nLdu/effnCwkIUbFHcRJkSzyK78Mjtmo8dDoff1LZt7HyaNk3z+1HqrVznbVEqNU3zvUfW8MbYrTQej6OIfHfXdX81GAz+tOu6OPajR8qiZzVNs3xmYzqxqx2rmBsOh1/Stm2Uq8Ou68IoPJ7Utu07o8xs2/YPu657ZdgtLCwMDx8+/MK1x7dt+6Kmaf5b0zS/GKVm13U/GmXpZDL58s0Uc6vyvL3ruj9u2/brjpSnFw8Gg+H+/ftvG41G9zZNsyvyjvVdeumlrzl48GAUpG+Ka8Xz5rqu+6lYS9d1B9q2/f5V6/i2tm1/vuu6n2/b9mNN0/yb2BG3uLj43WtVR6NR5P8TUfS2bfvLg8HgLXH9E9M/sW+ttztOMXdilr5FgAABAgQIECBAgAABAgTOdYGNFHO/M5lMYidSOxqN3hK7x6KMW13MrRoyjvnj2NU0GAyu279//x3zv+3Zs+f5g8Hgpq7rfno6ncZutebqq6++ePv27Q8++OCDW7Zt2/Z5bdv+btu2X724uPi7Gynmtm3b9vjYFbWylihzHrNz585P33333Y9bWlq6d8eOHY/uuu7fxjPDtmzZcuXDDz/8D1eKuX9wpMR7w3A4jNsWXxV/u+WWWz44Go1e3zTNS1bmi511UcZd37btvcvLy18fu5jmZdG5HuxKobownU7jVs/Do9Fo69o1r701dTQazWaeewyHw89v2/b1Xdd95XQ6/f21x8ftpHfffffO7du33z0YDB738MMPzwrVuDX2RIq5ruuePp1OF/fs2fPZg8Hgr+a3kK4Ucwcvu+yya+e3ro5GoyjZZsXcaDSKMjHK12uOrH9pNBr9kygcJ5PJj45Go//XNM1T27aN3ZNRMsezEV86mUw+47cfL31YWlr6D6t2EsZXorT98slk8pEzkXnfbatRzq1+7tyZWItrECBAgAABAgQIECBAgAABAqdXYCPF3Ksnk0mUFXGL6M/E7ZxRiB06dCj+7YujxJovcTgcfnfbtj/dNM0XTSaTP53/+3g8fkLXdXEr4sGFhYWXzN90ORqNXnOkNPqBld1Q88O/bjKZ/NYGirlXzK89Go2iQHtd13UX7dq168EHHnjgZ6NMWn3eI7fkPnV5eflzophbWlq69sCBA7eOx+Mf77ruX81vXRyNRrFr7PNXirn/EXOsXcfy8vIX3HbbbX9+emM5NWff7DPmRqPRbOZ5abXyZtU7uq577XQ6/eG1xVzslOy67ldWbkU+uuj4/okUc/PrDofD2HX58aZp/t1kMnnNSjH3F5PJ5CvmF1lTzHXzHXJr5UajUfztMz7zUne9vz3taU+7cMuWLS86sgswXgLxZfESi8XFxa86Nakc+yx9O+aUcmdC3zUIECBAgAABAgQIECBAgMCZFThuMRe3AE6n07hVNJ65FmVbFGKD0Wj066uLuZXnzMWthmtvExyMx+O4FfRlK7epfiDOde211+4+fPhw3Cb4K23b/sjKLZX/q2makyrmBoPBF8Tz7rque9W2bdv+8NChQ9/atu1rN1vMrTz37LuXlpYuvPDCC4++YGDv3r3xBtqlMxvTiV1ts8XccDj8qbZtv2deWs0z7bruG6bT6W+sLeaGw+GvtW37DcvLyy/fsWPHzYcOHfqjpml2TyaTK06kmGua5smxM200Gj2naZp3tW37HYuLiz8XxVzbtn++uhxbU8zFrrjD8bzDkBoOh9d3XXd5FKjj8fiWrus+uXPnzs9drbh3794H1ynxvrNt20+tetFD/M7vjvcuTCaT551YCpv71tpiru+5c5s7q6MJECBAgAABAgQIECBAgACBc1HguMXcyqLj2VvxjK/Y3fZnk8nkC1ffyrp79+6LFhYW3tc0zaPatv3G5eXlT8X3ptPpX67siotnmf1KvDwi/n3r1q23dV23fWlpKb4ze0bZyrnjJRAnW8x9Wdd18cyz719aWto3GAx+NZ5XttlibjQafV7TNH8Rz9Truu63B4PBP2ua5mvnt3mei2GuXdPxirn5Cx26rvu2rVu3/t7hw4ejfPqLtm3/eHl5+TdXnhX43C1btuy55ZZbDqxzfLxA4sujoG3b9pKu6/5LvLjhJIq5uFU6Ct/vWHnhRrwx9t0bKObi9/W9bdu+bnl5eX/sioznxE2n088dDoc/FnPEcwhX/vaTTdPsnEwmo/F4/PKu6341nmkXLw5ZNd8PxW3XUTiuPK/uJyeTyfeuOf6m0Wj0V/FMu3jm4koR+WNHvvd5J/NcumPcyhpvZn2jnXMZ/pdnjQQIECBAgAABAgQIECBAYGMCGynmotj6gii3YhfTyi652NUUz+qa3co6Ho9jl9pnvLXysssu23rw4MF4w+ns+V6rPj8wmUx+fDgc/kLbtt8c/x4vmIhSL8qvyWQSL3fo/ay8LGDdW1kHg8GRF1t28TbPFx958cN9bdv+n3hpxWAwuGppaelzN3ora1x85dbcKESilLwvCqx4m+zGaM/+Uccr5obD4XPbto234Mb/ffFKOfXqlTejRt63N03zXfPbktcef+S4h7qui+fyxbHxfLnYTXjZCRZzr+i67tfjmX8r1nH77M+E4vGKuZVnw8UttV+7or5vy5YtXxZl4g033LD1vvvu++XY2bfyt3jxx9esFH7xLLoohuN3/Ccrt1zH24VfsSq9P1haWvqnBw4cuHfl2XWz43fu3Pn6+++/P94ee2u8LGR+G/cRj+dNp9P438kJfXpuZY3fYOOtrCdE6ksECBAgQIAAAQIECBAgQOCcFThuMbfyAP5fHo1GscvovlM9yeWXX/6oHTt2LB84cCBKndlnOBy+sm3by3qutW8ymfzB8dYxGo12HXk+WdyueLK3ncbz0p4wnU7vyvI21rnN8Yq5VYYLa5za66677rHxYo0e50ccH89ku/322+9Z79irrrpqx/bt2/91X15d1/1p27ZRBs6K1nihxK5duw7NX/JwvJxX/z1KuHvuuedRUaKt/V787dChQzvXzhTXW3tb6zOe8YxHP/TQQ5fv3LnzQ2v/tvr4KAQvvvji5fla1zvXZtYfx659A2sUdUea5h+K3XLx8hE75jYr6ngCBAgQIECAAAECBAgQIHDuCmy0mPulMznCcDj8323bvqDnmr81mUxeeSbXk/VamyjmTtuIUZA2TfPhY1zgnzdN84/mxdxpW4gTEyBAgAABAgQIECBAgAABAgTOMYHeYu7GG2/ccuedd156wQUXfHLfvn0PnGPrtpwNCJwLxdwGlhkvAnn84cOHd8SLHzZyvGMIECBAgAABAgQIECBAgAABAhUEeou5CsOd7zNkKebO95zMT4AAAQIECBAgQIAAAQIECJyfAoq5wrkr5gqHazQCBAgQIECAAAECBAgQIEAgvYBiLn2E/QMo5gqHazQCBAgQIECAAAECBAgQIEAgvYBiLn2EirnCERqNAAECBAgQIECAAAECBAgQKCygmCscrh1zhcM1GgECBAgQIECAAAECBAgQIJBe4GgxN5lMuvTTGIDA+Snw0Gg02nF+jm5qAgQIECBAgAABAgQIECCQV0Axlzc7KycwF1DM+S0QIECAAAECBAgQIECAAIGEAm5lTRjaRpe86lbWpdFotGWj33McAQIECBAgQIAAAQIECBAgQIDA6RdQzJ1+47N2BcXcWaN3YQIECBAgQIAAAQIECBAgQIDAcQUUc8clynuAYi5vdlZOgAABAgQIECBAgAABAgQI1BdQzBXOWDFXOFyjESBAgAABAgQIECBAgAABAukFFHPpI+wfQDFXOFyjESBAgAABAgQIECBAgAABAukFFHPpI1TMFY7QaAQIECBAgAABAgQIECBAgEBhAcVc4XDtmCscrtEIECBAgAABAgQIECBAgACB9AKKufQR9g+gmCscrtEIECBAgAABAgQIECBAgACB9AKKufQRKuYKR2g0AgQIECBAgAABAgQIECBAoLCAYq5wuHbMFQ7XaAQIECBAgAABAgQIECBAgEB6AcVc+gj7B1DMFQ7XaAQIECBAgAABAgQIECBAgEB6AcVc+ggVc4UjNBoBAgQIECBAgAABAgQIECBQWEAxVzhcO+YKh2s0AgQIECBAgAABAgQIECBAIL2AYi59hP0DKOYKh2s0AgQIECBAgAABAgQIECBAIL2AYi59hIq5whEajQABAgQIECBAgAABAgQIECgsoJgrHK4dc4XDNRoBAgQIECBAgAABAgQIECCQXkAxlz7C/gEUc4XDNRoBAgQIECBAgAABAgQIECCQXkAxlz5CxVzhCI1GgAABAgQIECBAgAABAgQIFBZQzBUO1465wuEajQABAgQIECBAgAABAgQIEEgvoJhLH2H/AIq5wuEajQABAgQIECBAgAABAgQIEEgvoJhLH6FirnCERiNAgAABAgQIECBAgAABAgQKCyjmCodrx1zhcI1GgAABAgQIECBAgAABAgQIpBdQzKWPsH8AxVzhcI1GgAABAgQIECBAgAABAgQIpBdQzKWPUDFXOEKjESBAgAABAgQIECBAgAABAoUFFHOFw7VjrnC4RiNAgAABAgQIECBAgAABAgTSCyjm0kfYP4BirnC4RiNAgAABAgQIECBAgAABAgTSCyjm0keomCscodEIECBAgAABAgQIECBAgACBwgKKucLh2jFXOFyjESBAgAABAgQIECBAgAABAukFFHPpI+wfQDFXOFyjESBAgAABAgQIECBAgAABAukFFHPpI1TMFY7QaAQIECBAgAABAgQIECBAgEBhAcVc4XDtmCscrtEIECBAgAABAgQIECBAgACB9AKKufQR9g+gmCscrtEIECBAgAABAgQIECBAgACB9AKKufQRKuYKR2g0AgQIECBAgAABAgQIECBAoLCAYq5wuHbMFQ7XaAQIECBAgAABAgQIECBAgEB6AcVc+gj7B1DMFQ7XaAQIECBAgAABAgQIECBAgEB6AcVc+ggVc4UjNBoBAgQIECBAgAABAgQIECBQWEAxVzhcO+YKh2s0AgQIECBAgAABAgQIECBAIL2AYi59hP0DKOYKh2s0AgQIECBAgAABAgQIECBAIL2AYi59hIq5whEajQABAgQIECBAgAABAgQIECgsoJgrHK4dc4XDNRoBAgQIECBAgAABAgQIECCQXkAxlz7C/gEUc4XDNRoBAgQIECBAgAABAgQIECCQXkAxlz5CxVzhCI1GgAABAgQIECBAgAABAgQIFBZQzBUO1465wuEajQABAgQIECBAgAABAgQIEEgvoJhLH2H/AIq5wuEajQABAgQIECBAgAABAgQIEEgvoJhLH6FirnCERiMbITqAAAAa/klEQVRAgAABAgQIECBAgAABAgQKCyjmCodrx1zhcI1GgAABAgQIECBAgAABAgQIpBdQzKWPsH8AxVzhcI1GgAABAgQIECBAgAABAgQIpBdQzKWPUDFXOEKjESBAgAABAgQIECBAgAABAoUFFHOFw7VjrnC4RiNAgAABAgQIECBAgAABAgTSCyjm0kfYP4BirnC4RiNAgAABAgQIECBAgAABAgTSCyjm0keomCscodEIECBAgAABAgQIECBAgACBwgKKucLh2jFXOFyjESBAgAABAgQIECBAgAABAukFFHPpI+wfQDFXOFyjESBAgAABAgQIECBAgAABAukFFHPpI1TMFY7QaAQIECBAgAABAgQIECBAgEBhAcVc4XDtmCscrtEIECBAgAABAgQIECBAgACB9AKKufQR9g+gmCscrtEIECBAgAABAgQIECBAgACB9AKKufQRKuYKR2g0AgQIECBAgAABAgQIECBAoLCAYq5wuHbMFQ7XaAQIECBAgAABAgQIECBAgEB6AcVc+gj7B1DMFQ7XaAQIECBAgAABAgQIECBAgEB6AcVc+ggVc4UjNBoBAgQIECBAgAABAgQIECBQWEAxVzhcO+YKh2s0AgQIECBAgAABAgQIECBAIL2AYi59hP0DKOYKh2s0AgQIECBAgAABAgQIECBAIL2AYi59hIq5whEajQABAgQIECBAgAABAgQIECgsoJgrHK4dc4XDNRoBAgQIECBAgAABAgQIECCQXkAxlz7C/gEUc4XDNRoBAgQIECBAgAABAgQIECCQXkAxlz5CxVzhCI1GgAABAgQIECBAgAABAgQIFBZQzBUO1465wuEajQABAgQIECBAgAABAgQIEEgvoJhLH2H/AIq5wuEajQABAgQIECBAgAABAgQIEEgvoJhLH6FirnCERiNAgAABAgQIECBAgAABAgQKCyjmCodrx1zhcI1GgAABAgQIECBAgAABAgQIpBdQzKWPsH8AxVzhcI1GgAABAgQIECBAgAABAgQIpBdQzKWPUDFXOEKjESBAgAABAgQIECBAgAABAoUFFHOFw7VjrnC4RiNAgAABAgQIECBAgAABAgTSCyjm0kfYP4BirnC4RiNAgAABAgQIECBAgAABAgTSCyjm0keomCscodEIECBAgAABAgQIECBAgACBwgKKucLh2jFXOFyjESBAgAABAgQIECBAgAABAukFFHPpI+wfQDFXOFyjESBAgAABAgQIECBAgAABAukFFHPpI1TMFY7QaAQIECBAgAABAgQIECBAgEBhAcVc4XDtmCscrtEIECBAgAABAgQIECBAgACB9AKKufQR9g+gmCscrtEIECBAgAABAgQIECBAgACB9AKKufQRKuYKR2g0AgQIECBAgAABAgQIECBAoLCAYq5wuHbMFQ7XaAQIECBAgAABAgQIECBAgEB6AcVc+gj7B1DMFQ7XaAQIECBAgAABAgQIECBAgEB6AcVc+ggVc4UjNBoBAgQIECBAgAABAgQIECBQWEAxVzhcO+YKh2s0AgQIECBAgAABAgQIECBAIL2AYi59hP0DKOYKh2s0AgQIECBAgAABAgQIECBAIL2AYi59hIq5whEajQABAgQIECBAgAABAgQIECgsoJgrHK4dc4XDNRoBAgQIECBAgAABAgQIECCQXkAxlz7C/gEUc4XDNRoBAgQIECBAgAABAgQIECCQXkAxlz5CxVzhCI1GgAABAgQIECBAgAABAgQIFBZQzBUO1465wuEajQABAgQIECBAgAABAgQIEEgvoJhLH2H/AIq5wuEajQABAgQIECBAgAABAgQIEEgvoJhLH6FirnCERiNAgAABAgQIECBAgAABAgQKCyjmCodrx1zhcI1GgAABAgQIECBAgAABAgQIpBdQzKWPsH8AxVzhcI1GgAABAgQIECBAgAABAgQIpBdQzKWPUDFXOEKjESBAgAABAgQIECBAgAABAoUFFHOFw7VjrnC4RiNAgAABAgQIECBAgAABAgTSCyjm0kfYP4BirnC4RiNAgAABAgQIECBAgAABAgTSCyjm0keomCscodEIECBAgAABAgQIECBAgACBwgKKucLh2jFXOFyjESBAgAABAgQIECBAgAABAukFFHPpI+wfQDFXOFyjESBAgAABAgQIECBAgAABAukFFHPpI1TMFY7QaAQIECBAgAABAgQIECBAgEBhAcVc4XDtmCscrtEIECBAgAABAgQIECBAgACB9AKKufQR9g+gmCscrtEIECBAgAABAgQIECBAgACB9AKKufQRKuYKR2g0AgQIECBAgAABAgQIECBAoLCAYq5wuHbMFQ7XaAQIECBAgAABAgQIECBAgEB6AcVc+gj7B1DMFQ7XaAQIECBAgAABAgQIECBAgEB6AcVc+ggVc4UjNBoBAgQIECBAgAABAgQIECBQWEAxVzhcO+YKh2s0AgQIECBAgAABAgQIECBAIL2AYi59hP0DKOYKh2s0AgQIECBAgAABAgQIECBAIL2AYi59hIq5whEajQABAgQIECBAgAABAgQIECgsoJgrHK4dc4XDNRoBAgQIECBAgAABAgQIECCQXkAxlz7C/gEUc4XDNRoBAgQIECBAgAABAgQIECCQXkAxlz5CxVzhCI1GgAABAgQIECBAgAABAgQIFBZQzBUO1465wuEajQABAgQIECBAgAABAgQIEEgvoJhLH2H/AIq5wuEajQABAgQIECBAgAABAgQIEEgvoJhLH6FirnCERiNAgAABAgQIECBAgAABAgQKCyjmCodrx1zhcI1GgAABAgQIECBAgAABAgQIpBdQzKWPsH8AxVzhcI1GgAABAgQIECBAgAABAgQIpBdQzKWPUDFXOEKjESBAgAABAgQIECBAgAABAoUFFHOFw7VjrnC4RiNAgAABAgQIECBAgAABAgTSCyjm0kfYP4BirnC4RiNAgAABAgQIECBAgAABAgTSCyjm0keomCscodEIECBAgAABAgQIECBAgACBwgKKucLh2jFXOFyjESBAgAABAgQIECBAgAABAukFFHPpI+wfQDFXOFyjESBAgAABAgQIECBAgAABAukFFHPpI1TMFY7QaAQIECBAgAABAgQIECBAgEBhAcVc4XDtmCscrtEIECBAgAABAgQIECBAgACB9AKKufQR9g+gmCscrtEIECBAgAABAgQIECBAgACB9AKKufQRKuYKR2g0AgQIECBAgAABAgQIECBAoLCAYq5wuHbMFQ7XaAQIECBAgAABAgQIECBAgEB6AcVc+gj7B1DMFQ7XaAQIECBAgAABAgQIECBAgEB6AcVc+ggVc4UjNBoBAgQIECBAgAABAgQIECBQWEAxVzhcO+YKh2s0AgQIECBAgAABAgQIECBAIL2AYi59hP0DKOYKh2s0AgQIECBAgAABAgQIECBAIL2AYi59hIq5whEajQABAgQIECBAgAABAgQIECgsoJgrHK4dc4XDNRoBAgQIECBAgAABAgQIECCQXkAxlz7C/gEUc4XDNRoBAgQIECBAgAABAgQIECCQXkAxlz5CxVzhCI1GgAABAgQIECBAgAABAgQIFBZQzBUO1465wuEajQABAgQIECBAgAABAgQIEEgvoJhLH2H/AIq5wuEajQABAgQIECBAgAABAgQIEEgvoJhLH6FirnCERiNAgAABAgQIECBAgAABAgQKCyjmCodrx1zhcI1GgAABAgQIECBAgAABAgQIpBdQzKWPsH8AxVzhcI1GgAABAgQIECBAgAABAgQIpBdQzKWPUDFXOEKjESBAgAABAgQIECBAgAABAoUFFHOFw7VjrnC4RiNAgAABAgQIECBAgAABAgTSCyjm0kfYP4BirnC4RiNAgAABAgQIECBAgAABAgTSCyjm0keomCscodEIECBAgAABAgQIECBAgACBwgKKucLh2jFXOFyjESBAgAABAgQIECBAgAABAukFFHPpI+wfQDFXOFyjESBAgAABAgQIECBAgAABAukFFHPpI1TMFY7QaAQIECBAgAABAgQIECBAgEBhAcVc4XDtmCscrtEIECBAgAABAgQIECBAgACB9AKKufQR9g+gmCscrtEIECBAgAABAgQIECBAgACB9AKKufQRKuYKR2g0AgQIECBAgAABAgQIECBAoLCAYq5wuHbMFQ7XaAQIECBAgAABAgQIECBAgEB6AcVc+gj7B1DMFQ7XaAQIECBAgAABAgQIECBAgEB6AcVc+ggVc4UjNBoBAgQIECBAgAABAgQIECBQWEAxVzhcO+YKh2s0AgQIECBAgAABAgQIECBAIL2AYi59hP0DKOYKh2s0AgQIECBAgAABAgQIECBAIL2AYi59hIq5whEajQABAgQIECBAgAABAgQIECgsoJgrHK4dc4XDNRoBAgQIECBAgAABAgQIECCQXkAxlz7C/gEUc4XDNRoBAgQIECBAgAABAgQIECCQXkAxlz5CxVzhCI1GgAABAgQIECBAgAABAgQIFBZQzBUO1465wuEajQABAgQIECBAgAABAgQIEEgvoJhLH2H/AIq5wuEajQABAgQIECBAgAABAgQIEEgvoJhLH6FirnCERiNAgAABAgQIECBAgAABAgQKCyjmCodrx1zhcI1GgAABAgQIECBAgAABAgQIpBdQzKWPsH8AxVzhcI1GgAABAgQIECBAgAABAgQIpBdQzKWPUDFXOEKjESBAgAABAgQIECBAgAABAoUFFHOFw7VjrnC4RiNAgAABAgQIECBAgAABAgTSCyjm0kfYP4BirnC4RiNAgAABAgQIECBAgAABAgTSCyjm0keomCscodEIECBAgAABAgQIECBAgACBwgKKucLh2jFXOFyjESBAgAABAgQIECBAgAABAukFFHPpI+wfQDFXOFyjESBAgAABAgQIECBAgAABAukFFHPpI1TMFY7QaAQIECBAgAABAgQIECBAgEBhAcVc4XDtmCscrtEIECBAgAABAgQIECBAgACB9AKKufQR9g+gmCscrtEIECBAgAABAgQIECBAgACB9AKKufQRKuYKR2g0AgQIECBAgAABAgQIECBAoLCAYq5wuHbMFQ7XaAQIECBAgAABAgQIECBAgEB6AcVc+gj7B1DMFQ7XaAQIECBAgAABAgQIECBAgEB6AcVc+ggVc4UjNBoBAgQIECBAgAABAgQIECBQWEAxVzhcO+YKh2s0AgQIECBAgAABAgQIECBAIL2AYi59hP0DKOYKh2s0AgQIECBAgAABAgQIECBAIL2AYi59hIq5whEajQABAgQIECBAgAABAgQIECgsoJgrHK4dc4XDNRoBAgQIECBAgAABAgQIECCQXkAxlz7C/gEUc4XDNRoBAgQIECBAgAABAgQIECCQXkAxlz5CxVzhCI1GgAABAgQIECBAgAABAgQIFBZQzBUO1465wuEajQABAgQIECBAgAABAgQIEEgvoJhLH2H/AIq5wuEajQABAgQIECBAgAABAgQIEEgvoJhLH6FirnCERiNAgAABAgQIECBAgAABAgQKCyjmCodrx1zhcI1GgAABAgQIECBAgAABAgQIpBdQzKWPsH8AxVzhcI1GgAABAgQIECBAgAABAgQIpBdQzKWPUDFXOEKjESBAgAABAgQIECBAgAABAoUFFHOFw7VjrnC4RiNAgAABAgQIECBAgAABAgTSCyjm0kfYP4BirnC4RiNAgAABAgQIECBAgAABAgTSCyjm0keomCscodEIECBAgAABAgQIECBAgACBwgKKucLh2jFXOFyjESBAgAABAgQIECBAgAABAukFFHPpI+wfQDFXOFyjESBAgAABAgQIECBAgAABAukFFHPpI1TMFY7QaAQIECBAgAABAgQIECBAgEBhAcVc4XDtmCscrtEIECBAgAABAgQIECBAgACB9AKKufQR9g+gmCscrtEIECBAgAABAgQIECBAgACB9AKKufQRKuYKR2g0AgQIECBAgAABAgQIECBAoLCAYq5wuHbMFQ7XaAQIECBAgAABAgQIECBAgEB6AcVc+gj7B1DMFQ7XaAQIECBAgAABAgQIECBAgEB6AcVc+ggVc4UjNBoBAgQIECBAgAABAgQIECBQWEAxVzhcO+YKh2s0AgQIECBAgAABAgQIECBAIL2AYi59hP0DKOYKh2s0AgQIECBAgAABAgQIECBAIL2AYi59hIq5whEajQABAgQIECBAgAABAgQIECgsoJgrHK4dc4XDNRoBAgQIECBAgAABAgQIECCQXkAxlz7C/gEUc4XDNRoBAgQIECBAgAABAgQIECCQXkAxlz5CxVzhCI1GgAABAgQIECBAgAABAgQIFBZQzBUO1465wuEajQABAgQIECBAgAABAgQIEEgvoJhLH2H/AIq5wuEajQABAgQIECBAgAABAgQIEEgvoJhLH6FirnCERiNAgAABAgQIECBAgAABAgQKCyjmCodrx1zhcI1GgAABAgQIECBAgAABAgQIpBdQzKWPsH8AxVzhcI1GgAABAgQIECBAgAABAgQIpBdQzKWPUDFXOEKjESBAgAABAgQIECBAgAABAoUFFHOFw7VjrnC4RiNAgAABAgQIECBAgAABAgTSCyjm0kfYP4BirnC4RiNAgAABAgQIECBAgAABAgTSCyjm0keomCscodEIECBAgAABAgQIECBAgACBwgKKucLh2jFXOFyjESBAgAABAgQIECBAgAABAukFFHPpI+wfQDFXOFyjESBAgAABAgQIECBAgAABAukFFHPpI1TMFY7QaAQIECBAgAABAgQIECBAgEBhAcVc4XDtmCscrtEIECBAgAABAgQIECBAgACB9AKKufQR9g+gmCscrtEIECBAgAABAgQIECBAgACB9AKKufQRKuYKR2g0AgQIECBAgAABAgQIECBAoLCAYq5wuHbMFQ7XaAQIECBAgAABAgQIECBAgEB6AcVc+gj7B1DMFQ7XaAQIECBAgAABAgQIECBAgEB6AcVc+ggVc4UjNBoBAgQIECBAgAABAgQIECBQWEAxVzhcO+YKh2s0AgQIECBAgAABAgQIECBAIL2AYi59hP0DKOYKh2s0AgQIECBAgAABAgQIECBAIL2AYi59hIq5whEajQABAgQIECBAgAABAgQIECgsoJgrHK4dc4XDNRoBAgQIECBAgAABAgQIECCQXkAxlz7C/gEUc4XDNRoBAgQIECBAgAABAgQIECCQXkAxlz5CxVzhCI1GgAABAgQIECBAgAABAgQIFBZQzBUO1465wuEajQABAgQIECBAgAABAgQIEEgvoJhLH2H/AIq5wuEajQABAgQIECBAgAABAgQIEEgvoJhLH6FirnCERiNAgAABAgQIECBAgAABAgQKCyjmCodrx1zhcI1GgAABAgQIECBAgAABAgQIpBdQzKWPsH8AxVzhcI1GgAABAgQIECBAgAABAgQIpBdQzKWPUDFXOEKjESBAgAABAgQIECBAgAABAoUFFHOFw7VjrnC4RiNAgAABAgQIECBAgAABAgTSCyjm0kfYP4BirnC4RiNAgAABAgQIECBAgAABAgTSCyjm0keomCscodEIECBAgAABAgQIECBAgACBwgKKucLh2jFXOFyjESBAgAABAgQIECBAgAABAukFFHPpI+wfQDFXOFyjESBAgAABAgQIECBAgAABAukFFHPpI1TMFY7QaAQIECBAgAABAgQIECBAgEBhAcVc4XDtmCscrtEIECBAgAABAgQIECBAgACB9AKKufQR9g+gmCscrtEIECBAgAABAgQIECBAgACB9AKKufQRKuYKR2g0AgQIECBAgAABAgQIECBAoLCAYq5wuHbMFQ7XaAQIECBAgAABAgQIECBAgEB6AcVc+gj7B1DMFQ7XaAQIECBAgAABAgQIECBAgEB6AcVc+ggVc4UjNBoBAgQIECBAgAABAgQIECBQWEAxVzhcO+YKh2s0AgQIECBAgAABAgQIECBAIL2AYi59hP0DKOYKh2s0AgQIECBAgAABAgQIECBAIL2AYi59hAYgQIAAAQIECBAgQIAAAQIECBDIKKCYy5iaNRMgQIAAAQIECBAgQIAAAQIECKQXUMylj9AABAgQIECAAAECBAgQIECAAAECGQUUcxlTs2YCBAgQIECAAAECBAgQIECAAIH0Aoq59BEagAABAgQIECBAgAABAgQIECBAIKOAYi5jatZMgAABAgQIECBAgAABAgQIECCQXkAxlz5CAxAgQIAAAQIECBAgQIAAAQIECGQUUMxlTM2aCRAgQIAAAQIECBAgQIAAAQIE0gso5tJHaAACBAgQIECAAAECBAgQIECAAIGMAoq5jKlZMwECBAgQIECAAAECBAgQIECAQHoBxVz6CA1AgAABAgQIECBAgAABAgQIECCQUUAxlzE1ayZAgAABAgQIECBAgAABAgQIEEgvoJhLH6EBCBAgQIAAAQIECBAgQIAAAQIEMgoo5jKmZs0ECBAgQIAAAQIECBAgQIAAAQLpBRRz6SM0AAECBAgQIECAAAECBAgQIECAQEYBxVzG1KyZAAECBAgQIECAAAECBAgQIEAgvYBiLn2EBiBAgAABAgQIECBAgAABAgQIEMgooJjLmJo1EyBAgAABAgQIECBAgAABAgQIpBdQzKWP0AAECBAgQIAAAQIECBAgQIAAAQIZBRRzGVOzZgIECBAgQIAAAQIECBAgQIAAgfQCirn0ERqAAAECBAgQIECAAAECBAgQIEAgo4BiLmNq1kyAAAECBAgQIECAAAECBAgQIJBeQDGXPkIDECBAgAABAgQIECBAgAABAgQIZBRQzGVMzZoJECBAgAABAgQIECBAgAABAgTSCyjm0kdoAAIECBAgQIAAAQIECBAgQIAAgYwCirmMqVkzAQIECBAgQIAAAQIECBAgQIBAegHFXPoIDUCAAAECBAgQIECAAAECBAgQIJBRQDGXMTVrJkCAAAECBAgQIECAAAECBAgQSC+gmEsfoQEIECBAgAABAgQIECBAgAABAgQyCijmMqZmzQQIECBAgAABAgQIECBAgAABAukFFHPpIzQAAQIECBAgQIAAAQIECBAgQIBARgHFXMbUrJkAAQIECBAgQIAAAQIECBAgQCC9gGIufYQGIECAAAECBAgQIECAAAECBAgQyCigmMuYmjUTIECAAAECBAgQIECAAAECBAikF1DMpY/QAAQIECBAgAABAgQIECBAgAABAhkF/j+Xvvd+W+TYVAAAAABJRU5ErkJggg==\" />"
      ],
      "text/plain": [
       "Open the notebook in JupyterLab with the Atoti JupyterLab extension enabled to build this widget."
      ]
     },
     "metadata": {},
     "output_type": "display_data"
    }
   ],
   "source": [
    "# X-axis: pizza_name\n",
    "# Y-axis: total_price.SUM\n",
    "session.widget"
   ]
  },
  {
   "cell_type": "markdown",
   "id": "70ac8a12-862b-42bf-97db-1132e7510297",
   "metadata": {},
   "source": [
    "When creating new measures, we should be mindful of *how* we aggregate our numeric values and at which level. Therefore, we use the `atoti.total` function to sum up our `total_price.SUM` values at specific hierarchies. From the below, we can see that the `Thai Chicken Pizza` is the best selling pizza, while the `Brie Carre Pizza` is the worst selling pizza.\n",
    "\n",
    "**💡 Note:** https://docs.atoti.io/latest/api/atoti.total.html#atoti.total"
   ]
  },
  {
   "cell_type": "code",
   "execution_count": 21,
   "id": "38d3d5da-c99d-4a66-8513-f5e85072c0f6",
   "metadata": {
    "atoti": {
     "widget": {
      "mapping": {
       "columns": [
        "ALL_MEASURES"
       ],
       "measures": [
        "[Measures].[Percent of Total Revenue]",
        "[Measures].[total_price.SUM]"
       ],
       "rows": [
        "[pizza_sales_table].[pizza_name].[pizza_name]"
       ]
      },
      "query": {
       "mdx": "SELECT NON EMPTY {[Measures].[Percent of Total Revenue], [Measures].[total_price.SUM]} ON COLUMNS, NON EMPTY Order(Hierarchize(Descendants({[pizza_sales_table].[pizza_name].[ALL].[AllMember]}, 1, SELF_AND_BEFORE)), [Measures].[Percent of Total Revenue], DESC) ON ROWS FROM [pizza_sales_table] CELL PROPERTIES VALUE, FORMATTED_VALUE, BACK_COLOR, FORE_COLOR, FONT_FLAGS",
       "updateMode": "once"
      },
      "serverKey": "default",
      "widgetKey": "pivot-table"
     }
    }
   },
   "outputs": [
    {
     "data": {
      "application/vnd.atoti.widget.v0+json": {
       "sessionId": "1707409745_PR9VA3",
       "sessionLocation": {
        "https": false,
        "port": 9092
       },
       "widgetCreationCode": "session.widget"
      },
      "text/html": [
       "<img height=\"352\" width=\"1254\" src=\"data:image/png;base64,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\" />"
      ],
      "text/plain": [
       "Open the notebook in JupyterLab with the Atoti JupyterLab extension enabled to build this widget."
      ]
     },
     "metadata": {},
     "output_type": "display_data"
    }
   ],
   "source": [
    "# Calculate percent of total revenue by pizza item (correct)\n",
    "m[\"Percent of Total Revenue\"] = m[\"total_price.SUM\"] / atoti.total(\n",
    "    m[\"total_price.SUM\"], h[\"pizza_name\"]\n",
    ")\n",
    "session.widget"
   ]
  },
  {
   "cell_type": "markdown",
   "id": "16ffba49-7200-4659-8843-198b97a9860d",
   "metadata": {},
   "source": [
    "### What's our average order value?\n",
    "\n",
    "Lastly, let's calculate the average revenue per order. At first glance, this may be as simple as looking at `order_id` and the `total_price.MEAN` measure, but notice what this does. It calculates the average revenue down to the `pizza_id` level, which is not what we want! Instead, we want to see the average revenue per order at the `order_id` level. For this scenario, we need to calculate a new measure using the `atoti.agg.mean` function and specify the `scope` parameter using `OriginScope`. **To be clear, the `AVG Order Revenue` is the correct calculation, we've included the other columns just to show how `OriginScope` is functioning.**\n",
    "\n",
    "**💡 Note:** https://docs.atoti.io/latest/api/atoti.OriginScope.html#atoti.OriginScope"
   ]
  },
  {
   "cell_type": "code",
   "execution_count": 22,
   "id": "cb840c1b-5f88-4480-8755-6410ee16b71e",
   "metadata": {
    "atoti": {
     "widget": {
      "columnWidths": {
       "[Measures].[AVG Order Revenue]": 153.8125
      },
      "mapping": {
       "columns": [
        "ALL_MEASURES"
       ],
       "measures": [
        "[Measures].[total_price.MEAN]",
        "[Measures].[total_price.SUM]",
        "[Measures].[AVG Order Revenue]"
       ],
       "rows": [
        "[pizza_sales_table].[order_id].[order_id]",
        "[pizza_sales_table].[pizza_id].[pizza_id]"
       ]
      },
      "name": "Average Revenue for Orders",
      "query": {
       "mdx": "SELECT NON EMPTY {[Measures].[total_price.MEAN], [Measures].[total_price.SUM], [Measures].[AVG Order Revenue]} ON COLUMNS, NON EMPTY Crossjoin(Hierarchize(Descendants({[pizza_sales_table].[order_id].[ALL].[AllMember]}, 1, SELF_AND_BEFORE)), Hierarchize(Descendants({[pizza_sales_table].[pizza_id].[ALL].[AllMember]}, 1, SELF_AND_BEFORE))) ON ROWS FROM [pizza_sales_table] CELL PROPERTIES VALUE, FORMATTED_VALUE, BACK_COLOR, FORE_COLOR, FONT_FLAGS",
       "updateMode": "once"
      },
      "serverKey": "default",
      "widgetKey": "pivot-table"
     }
    }
   },
   "outputs": [
    {
     "data": {
      "application/vnd.atoti.widget.v0+json": {
       "sessionId": "1707409745_PR9VA3",
       "sessionLocation": {
        "https": false,
        "port": 9092
       },
       "widgetCreationCode": "session.widget"
      },
      "text/html": [
       "<img height=\"352\" width=\"1254\" src=\"data:image/png;base64,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\" />"
      ],
      "text/plain": [
       "Open the notebook in JupyterLab with the Atoti JupyterLab extension enabled to build this widget."
      ]
     },
     "metadata": {},
     "output_type": "display_data"
    }
   ],
   "source": [
    "# Calculate average revenue per order\n",
    "m[\"AVG Order Revenue\"] = atoti.agg.mean(\n",
    "    m[\"total_price.SUM\"], scope=atoti.OriginScope(l[\"order_id\"])\n",
    ")\n",
    "session.widget"
   ]
  },
  {
   "cell_type": "markdown",
   "id": "46e9afec-2440-4b4a-a196-62792231b095",
   "metadata": {},
   "source": [
    "## Summary\n",
    "\n",
    "And that's it, here we were able to quickly analyze Plato Pizza's sales data and create visualizations, while customizing how we wanted these visualizations to look and how measures were calculated/aggregated. Can you think of some other ways to slice-and-dice this data to present as insightful findings? If so, feel free to extend this notebook and create a pull request to our GitHub repo!"
   ]
  }
 ],
 "metadata": {
  "kernelspec": {
   "display_name": "Python 3 (ipykernel)",
   "language": "python",
   "name": "python3"
  },
  "language_info": {
   "codemirror_mode": {
    "name": "ipython",
    "version": 3
   },
   "file_extension": ".py",
   "mimetype": "text/x-python",
   "name": "python",
   "nbconvert_exporter": "python",
   "pygments_lexer": "ipython3",
   "version": "3.10.13"
  }
 },
 "nbformat": 4,
 "nbformat_minor": 5
}
