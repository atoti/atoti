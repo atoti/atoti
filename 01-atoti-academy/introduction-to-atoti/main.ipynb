{
 "cells": [
  {
   "cell_type": "markdown",
   "id": "8d668eea-0a00-4c60-9efb-d7cdbb97d362",
   "metadata": {
    "editable": true,
    "slideshow": {
     "slide_type": ""
    },
    "tags": []
   },
   "source": [
    "# Introduction to Atoti\n",
    "\n",
    "This course gives a quick introduction to Atoti Python, a library that allow users to build their own operational intelligence platform for better collaboration and faster analysis.   \n",
    "\n",
    "<img src=\"https://data.atoti.io/atoti-academy/images/introduction/0_Atoti_architecture.png\" width=\"750px\"/>\n",
    "\n",
    "We will look at some commonly used functions and operations from the library.  \n",
    "\n",
    "<u><b>Course Outline and Objectives</b></u>\n",
    "1. Create Atoti tables via data source or from scratch.\n",
    "2. Build an Atoti cube.\n",
    "3. Master common operations such as hierarchy manipulations and measure creations.\n",
    "4. Explore your data with interactive visualization.\n",
    "5. Export and share your data to Pandas DataFrame or other data structures.\n",
    "\n",
    "The notebook is expected to run sequentially as some data objects created at the beginning may be used in later cells.  \n",
    "Some cells may fail to execute. This is expected as it's intended to demonstrate the erroneous behaviour one may encounter.  \n",
    "\n",
    "This notebook is broken up into the following sections:  \n",
    "\n",
    "- [1. Getting Started](#1.-Getting-Started)\n",
    "\t- [1.1 Install Atoti and its plugins](#1.1-Install-Atoti-and-its-plugins)\n",
    "\t- [1.2 Import the Python libraries](#1.2-Import-the-Python-libraries)\n",
    "- [2. Create an Atoti Session](#2.-Create-an-Atoti-Session)\n",
    "- [3. Initialize Atoti UI](#3.-Initialize-Atoti-UI)\n",
    "- [4. Data modeling](#4.-Data-modeling)\n",
    "\t- [4.1 Table structure creation](#4.1-Table-structure-creation)\n",
    "\t- [4.2 Table creation through exploration](#4.2-Table-creation-through-exploration)\n",
    "\t\t- [4.2.1 Check on data types](#4.2.1-Check-on-data-types)\n",
    "\t\t- [4.2.2 Delete tables](#4.2.2-Delete-tables)\n",
    "\t\t- [4.2.3 Table configuration](#4.2.3-Table-configuration)\n",
    "\t- [4.3 Data schema](#4.3-Data-schema)\n",
    "\t\t- [4.3.1 Identify base table](#4.3.1-Identify-base-table)\n",
    "\t\t- [4.3.2 Visualize table schema](#4.3.2-Visualize-table-schema)\n",
    "\t\t- [4.3.3 Table join](#4.3.3-Table-join)\n",
    "- [5. Loading data into tables](#5.-Load-data-into-tables)\n",
    "- [6. Atoti Cube](#6.-Atoti-Cube)\n",
    "\t- [6.1 Cube creation](#6.1-Cube-creation)\n",
    "\t- [6.2 Cube attributes](#6.2-Cube-attributes)\n",
    "\t\t- [6.2.1 Hierarchies and levels](#6.2.1-Hierarchies-and-levels)\n",
    "\t\t- [6.2.2 Measures](#6.2.2-Measures)\n",
    "    - [6.3 Cube Housekeeping ](#6.3-Cube-Housekeeping)\n",
    "        - [6.3.1 Delete unwanted hierarchies, levels and measures](#6.3.1-Delete-unwanted-hierarchies,-levels-and-measures)\n",
    "        - [6.3.2 Hide technical measures](#6.3.2-Hide-technical-measures)  \n",
    "        - [6.3.3 Organize measures in folders](#6.3.3-Organize-measures-in-folders)  \n",
    "- [7. Visualization](#7.-Visualization)\n",
    "\t- [7.1 Build our visualization](#7.1-Build-our-visualization)\n",
    "\t\t- [7.1.1 Add hierarchies and measures to the visualization](#7.1.1-Add-hierarchies-and-measures-to-the-visualization)\n",
    "\t\t- [7.1.2 Expandable levels vs multi-level hierarchy](#7.1.2-Expandable-levels-vs-multi-level-hierarchy)\n",
    "\t- [7.2 Change type of visualization](#7.2-Change-type-of-visualization)\n",
    "\t- [7.3 Filter data](#7.3-Filter-data)\n",
    "\t\t- [7.3.1 Focus on a single trace on charts](#7.3.1-Focus-on-a-single-trace-on-charts)\n",
    "\t\t- [7.3.2 Filter by member](#7.3.2-Filter-by-member)\n",
    "\t\t- [7.3.3 Conditional filtering](#7.3.3-Conditional-filtering)\n",
    "\t- [7.4 Publish in app](#7.4-Publish-in-app)\n",
    "- [8. Output query results](#8.-Output-query-results)\n",
    "\t- [8.1 Export data to CSV](#8.1-Export-data-to-CSV)\n",
    "\t- [8.2 Output query results to Pandas DataFrame](#8.2-Output-query-results-to-Pandas-DataFrame)\n",
    "\t- [8.3 Output query results to other data structure](#8.3-Output-query-results-to-other-data-structure)\n"
   ]
  },
  {
   "cell_type": "markdown",
   "id": "bf12c5ae-e3b2-40b9-b670-cdbd66850cc7",
   "metadata": {},
   "source": [
    "<div style=\"text-align: center;\" ><a href=\"https://www.atoti.io/?utm_source=gallery&utm_content=introduction-to-atoti\" target=\"_blank\" rel=\"noopener noreferrer\"><img src=\"https://data.atoti.io/notebooks/banners/Discover-Atoti-now.png\" alt=\"Try atoti\"></a></div>"
   ]
  },
  {
   "cell_type": "markdown",
   "id": "c35a734f-2776-41c0-8344-63ab65769ea2",
   "metadata": {
    "tags": []
   },
   "source": [
    "# 1. Getting Started"
   ]
  },
  {
   "cell_type": "markdown",
   "id": "d5886545-8f36-4b0a-92db-b481d7950093",
   "metadata": {},
   "source": [
    "## 1.1 Install Atoti and its plugins"
   ]
  },
  {
   "cell_type": "markdown",
   "id": "48b5e9a2-ce06-4f9f-a2c1-d815e6ec725d",
   "metadata": {},
   "source": [
    "We can use Atoti in a Jupyter notebook or in a Python script. Minimally, we install the atoti library with either of the following:\n",
    "- `pip install atoti`\n",
    "- `conda install atoti`\n",
    "\n",
    "If we want to be able to explore data on the fly with Atoti in JupyterLab, we have to install extra plugin for its JupyterLab extension. Again, run with either `pip` or `conda` as shown below:\n",
    "- `pip install atoti-jupyterlab`\n",
    "- `conda install atoti-jupyterlab`  \n",
    "\n",
    "💡There are other [plugins](https://docs.atoti.io/latest/reference.html#plugins) available for Atoti. For instance, to access CSV or Parquet on AWS S3 bucket, we have to install its corresponding plugin `atoti-aws`. Similarly, `atoti-sql` is required for connectivity to SQL database. Using `pip`, we can install multiple plugins with the `extra` syntax as shown below:    \n",
    "- `pip install 'atoti[jupyterlab,aws,sql]'`\n",
    "\n",
    "Since there's no shortcuts for conda, therefore we have to list out the extra plugins we needed:\n",
    "- `conda install atoti atoti-jupyterlab atoti-aws atoti-sql`"
   ]
  },
  {
   "cell_type": "markdown",
   "id": "71d79a29-33ad-4ccb-874d-1bb6a2b1d251",
   "metadata": {},
   "source": [
    "## 1.2 Import the Python libraries"
   ]
  },
  {
   "cell_type": "markdown",
   "id": "553714ed-fe19-4ce7-9743-d15b66608a9d",
   "metadata": {},
   "source": [
    "Usually, it is sufficient to import just the Atoti libraries. However, if we would like to perform some pre-computation before using Atoti, we can import `pandas` as well."
   ]
  },
  {
   "cell_type": "code",
   "execution_count": 1,
   "id": "e6a4b8b1-d7b2-41eb-bd72-b0b4b7c2c526",
   "metadata": {
    "tags": []
   },
   "outputs": [],
   "source": [
    "import atoti as tt"
   ]
  },
  {
   "cell_type": "markdown",
   "id": "3b13dea3-2996-453d-add6-dc575861292b",
   "metadata": {},
   "source": [
    "# 2. Create an Atoti Session"
   ]
  },
  {
   "cell_type": "markdown",
   "id": "70fc309d-36b6-4dc5-af93-f807d95e8f91",
   "metadata": {},
   "source": [
    "We instantiate an Atoti session in order to establish a connection to the Java gateway of the Atoti Server. "
   ]
  },
  {
   "cell_type": "code",
   "execution_count": 2,
   "id": "dd234fd4-e8be-4cb8-95e6-79a9303deebc",
   "metadata": {
    "tags": []
   },
   "outputs": [],
   "source": [
    "session = tt.Session()"
   ]
  },
  {
   "cell_type": "markdown",
   "id": "4e8df675-9839-402b-a087-4da54f5e352c",
   "metadata": {},
   "source": [
    "⚠️ Windows users may encounter the following Windows Security Alert:  \n",
    "\n",
    "<img src=\"https://data.atoti.io/atoti-academy/images/introduction/2_window_security_alert.png\" width=\"400px\"/>  \n",
    "\n",
    "This is because Atoti Server, the underlying aggregation engine used by Atoti, is built using Java. The web application, Atoti UI, is built using REACT.  "
   ]
  },
  {
   "cell_type": "markdown",
   "id": "409a3cae-3a42-430f-b526-eeaa0bb6b33e",
   "metadata": {},
   "source": [
    "⚠️ We can have multiple Atoti sessions within a instance, provided that they are given different names. In the above code snippet, we have not set any [parameters for the session](https://docs.atoti.io/latest/api/atoti.Session.html#atoti.Session). If we re-instantiate a session without defining a name for it, the existing session will be deleted and a new session gets created as we will see in the next cell. "
   ]
  },
  {
   "cell_type": "code",
   "execution_count": 3,
   "id": "3caf8639-c20c-4002-b55b-4342dfe7ae3a",
   "metadata": {},
   "outputs": [
    {
     "name": "stderr",
     "output_type": "stream",
     "text": [
      "Closing existing \"Unnamed\" session to create the new one.\n"
     ]
    }
   ],
   "source": [
    "session = tt.Session(\n",
    "    user_content_storage=\"./content\",\n",
    "    port=9092,\n",
    "    java_options=[\"-Xms1G\", \"-Xmx10G\"],\n",
    ")"
   ]
  },
  {
   "cell_type": "markdown",
   "id": "01ca5d40-3dc4-4a1c-8009-8dc01db3fb3f",
   "metadata": {},
   "source": [
    "💡The above code snippet demonstrate how we configure some of the common parameters for [Atoti deployment](https://docs.atoti.io/latest/deployment/deployment_setup.html#):\n",
    "- `user_content_storage`: Persists saved dashboards, widgets and filters in the session to a database. A \"content\" folder in the same directory as this notebook and a H2 database is created. \n",
    "- `port`: Sets the port for the Atoti UI.\n",
    "- `java_options`: Additional options to pass when starting the Java process, e.g. increasing the amount of RAM that the session can use via `-Xmx` option.  "
   ]
  },
  {
   "cell_type": "markdown",
   "id": "b8551715-8d5e-40b7-951e-780ecfeb17db",
   "metadata": {},
   "source": [
    "# 3. Initialize Atoti UI"
   ]
  },
  {
   "cell_type": "markdown",
   "id": "773af7fe-c3c2-4153-8a02-437fc2a35d2b",
   "metadata": {},
   "source": [
    "Once the session gets instantiated, Atoti UI will start on a random port unless specified.  "
   ]
  },
  {
   "cell_type": "code",
   "execution_count": 4,
   "id": "2f48a819-84bc-45ef-9db8-4d6226be8bce",
   "metadata": {
    "tags": []
   },
   "outputs": [
    {
     "data": {
      "application/vnd.atoti.link.v0+json": {
       "path": "",
       "sessionLocation": {
        "https": false,
        "port": 9092
       }
      },
      "text/markdown": [
       "http://localhost:9092\n",
       "\n",
       "_Note_: This is the session's local URL: it may not be reachable if Atoti is running on another machine."
      ],
      "text/plain": [
       "http://localhost:9092 (This is the session's local URL: it may not be reachable if Atoti is running on another machine.)"
      ]
     },
     "execution_count": 4,
     "metadata": {},
     "output_type": "execute_result"
    }
   ],
   "source": [
    "session.link"
   ]
  },
  {
   "cell_type": "markdown",
   "id": "a4ca9c61-4354-4763-ab52-4b44103e3f9a",
   "metadata": {},
   "source": [
    "⚠️ There is nothing interesting in Atoti UI at this point in time because we have yet to create our data model. We will revisit Atoti UI later on."
   ]
  },
  {
   "cell_type": "markdown",
   "id": "8f842961-c5ce-4996-a171-da0f6910a697",
   "metadata": {},
   "source": [
    "# 4. Data modeling "
   ]
  },
  {
   "cell_type": "markdown",
   "id": "c44fdc77-a913-4eed-8b71-53f9ca4f276d",
   "metadata": {},
   "source": [
    "There are two ways we can create Atoti tables (along with recommendations):  \n",
    "\n",
    "1. Defining table structure:\n",
    "   * For **full application implementations**, we recommend that we define the table structure as we can start the application quickly before loading data.  \n",
    "3. Infer table structure from a datasource:\n",
    "   * For **data exploration, model prototyping or adhoc reporting with new data source**, creating a table by inferring its structure from a datasource is a quick way to get things moving.  \n",
    "\n",
    "\n"
   ]
  },
  {
   "cell_type": "markdown",
   "id": "a8a54803-e37d-4928-bd9b-6c76ac8436ef",
   "metadata": {},
   "source": [
    "## 4.1 Table structure creation"
   ]
  },
  {
   "cell_type": "markdown",
   "id": "e84f3623-e991-4360-aa17-271ffb37c646",
   "metadata": {},
   "source": [
    "Similar to the creation of database tables, we can define the structure of the table by defining:\n",
    "* `name`: Name of table.\n",
    "* `types`: Column names and its corresponding data type.\n",
    "* `keys`: Column(s) used to dictionarize data for faster querying. It is also used to identify unique data rows. Atoti keeps the last uploaded row when there are duplicates.  \n",
    "* `default_values`: Default value when value is not provided. `\"N/A\"` by default for category columns, `null` for numerical columns and `1970-01-01` for date columns. If column is used in hierarchy manipulation, e.g. create multi-level hierarchies, a non-empty default value has to be set."
   ]
  },
  {
   "cell_type": "code",
   "execution_count": 5,
   "id": "22ec7f77-5ba8-45b7-8118-ad03790ca5e0",
   "metadata": {
    "tags": []
   },
   "outputs": [
    {
     "data": {
      "text/html": [
       "<div>\n",
       "<style scoped>\n",
       "    .dataframe tbody tr th:only-of-type {\n",
       "        vertical-align: middle;\n",
       "    }\n",
       "\n",
       "    .dataframe tbody tr th {\n",
       "        vertical-align: top;\n",
       "    }\n",
       "\n",
       "    .dataframe thead th {\n",
       "        text-align: right;\n",
       "    }\n",
       "</style>\n",
       "<table border=\"1\" class=\"dataframe\">\n",
       "  <thead>\n",
       "    <tr style=\"text-align: right;\">\n",
       "      <th></th>\n",
       "      <th>ProductName</th>\n",
       "      <th>ProductCategory</th>\n",
       "      <th>Supplier</th>\n",
       "      <th>PurchasingPricePerUnit</th>\n",
       "    </tr>\n",
       "    <tr>\n",
       "      <th>ProductId</th>\n",
       "      <th></th>\n",
       "      <th></th>\n",
       "      <th></th>\n",
       "      <th></th>\n",
       "    </tr>\n",
       "  </thead>\n",
       "  <tbody>\n",
       "  </tbody>\n",
       "</table>\n",
       "</div>"
      ],
      "text/plain": [
       "Empty DataFrame\n",
       "Columns: [ProductName, ProductCategory, Supplier, PurchasingPricePerUnit]\n",
       "Index: []"
      ]
     },
     "execution_count": 5,
     "metadata": {},
     "output_type": "execute_result"
    }
   ],
   "source": [
    "product_tbl = session.create_table(\n",
    "    name=\"Products\",\n",
    "    types={\n",
    "        \"ProductId\": tt.type.STRING,\n",
    "        \"ProductName\": tt.type.STRING,\n",
    "        \"ProductCategory\": tt.type.STRING,\n",
    "        \"Supplier\": tt.type.STRING,\n",
    "        \"PurchasingPricePerUnit\": tt.type.FLOAT,\n",
    "    },\n",
    "    keys=[\"ProductId\"],\n",
    "    # optional. Setting default value to 0 for demonstrative purpose\n",
    "    default_values={\"PurchasingPricePerUnit\": 0},\n",
    ")\n",
    "\n",
    "product_tbl.head()"
   ]
  },
  {
   "cell_type": "markdown",
   "id": "909bd02a-7ed5-4ed4-a6d2-c5347e9662b3",
   "metadata": {},
   "source": [
    "💡Similar to Pandas, we can use `head` function to preview the data in the Atoti table. "
   ]
  },
  {
   "cell_type": "markdown",
   "id": "390ca1bf-668a-4664-8f9f-cca2876e2d83",
   "metadata": {},
   "source": [
    "⚠️ An empty table is created. We will load data into the table separately."
   ]
  },
  {
   "cell_type": "markdown",
   "id": "d6f5f175-56b6-4a52-87e1-9c26e0769ae9",
   "metadata": {},
   "source": [
    "## 4.2 Table creation through exploration\n",
    "\n",
    "Another way to create a table is by using a corresponding connector to consume an existing data source. This is a quick and convenient way to create an Atoti table and especially useful when we want to explore the data quickly.  \n",
    "\n",
    "We can use `session.read_csv`, for instance, to consume CSV files and `session.read_parquet` for parquet files etc. This way, we need not define the table structure as the table will be created automatically after consuming the data.  "
   ]
  },
  {
   "cell_type": "code",
   "execution_count": 6,
   "id": "31fda3d6-b8be-483d-90a8-766597bbefe9",
   "metadata": {
    "tags": []
   },
   "outputs": [
    {
     "data": {
      "text/html": [
       "<div>\n",
       "<style scoped>\n",
       "    .dataframe tbody tr th:only-of-type {\n",
       "        vertical-align: middle;\n",
       "    }\n",
       "\n",
       "    .dataframe tbody tr th {\n",
       "        vertical-align: top;\n",
       "    }\n",
       "\n",
       "    .dataframe thead th {\n",
       "        text-align: right;\n",
       "    }\n",
       "</style>\n",
       "<table border=\"1\" class=\"dataframe\">\n",
       "  <thead>\n",
       "    <tr style=\"text-align: right;\">\n",
       "      <th></th>\n",
       "      <th>OrderId</th>\n",
       "      <th>OrderDate</th>\n",
       "      <th>QuantitySold</th>\n",
       "      <th>SellingPricePerUnit</th>\n",
       "      <th>ShipperName</th>\n",
       "      <th>ProductId</th>\n",
       "      <th>EmployeeId</th>\n",
       "      <th>CustomerId</th>\n",
       "    </tr>\n",
       "  </thead>\n",
       "  <tbody>\n",
       "    <tr>\n",
       "      <th>0</th>\n",
       "      <td>1</td>\n",
       "      <td>18/2/2019</td>\n",
       "      <td>650</td>\n",
       "      <td>22.42</td>\n",
       "      <td>Freight United</td>\n",
       "      <td>994</td>\n",
       "      <td>18336</td>\n",
       "      <td>c4411</td>\n",
       "    </tr>\n",
       "    <tr>\n",
       "      <th>1</th>\n",
       "      <td>4</td>\n",
       "      <td>18/2/2019</td>\n",
       "      <td>14</td>\n",
       "      <td>28.01</td>\n",
       "      <td>Speedy Express</td>\n",
       "      <td>994</td>\n",
       "      <td>63528</td>\n",
       "      <td>c2171</td>\n",
       "    </tr>\n",
       "    <tr>\n",
       "      <th>2</th>\n",
       "      <td>6</td>\n",
       "      <td>18/2/2019</td>\n",
       "      <td>927</td>\n",
       "      <td>4.94</td>\n",
       "      <td>Freight United</td>\n",
       "      <td>1163</td>\n",
       "      <td>98635</td>\n",
       "      <td>c4859</td>\n",
       "    </tr>\n",
       "    <tr>\n",
       "      <th>3</th>\n",
       "      <td>10</td>\n",
       "      <td>18/2/2019</td>\n",
       "      <td>990</td>\n",
       "      <td>26.96</td>\n",
       "      <td>United Package</td>\n",
       "      <td>1514</td>\n",
       "      <td>18594</td>\n",
       "      <td>c4523</td>\n",
       "    </tr>\n",
       "    <tr>\n",
       "      <th>4</th>\n",
       "      <td>39</td>\n",
       "      <td>18/2/2019</td>\n",
       "      <td>120</td>\n",
       "      <td>284.01</td>\n",
       "      <td>Speedy Express</td>\n",
       "      <td>1410</td>\n",
       "      <td>18508</td>\n",
       "      <td>c3179</td>\n",
       "    </tr>\n",
       "  </tbody>\n",
       "</table>\n",
       "</div>"
      ],
      "text/plain": [
       "   OrderId  OrderDate  QuantitySold  SellingPricePerUnit     ShipperName  \\\n",
       "0        1  18/2/2019           650                22.42  Freight United   \n",
       "1        4  18/2/2019            14                28.01  Speedy Express   \n",
       "2        6  18/2/2019           927                 4.94  Freight United   \n",
       "3       10  18/2/2019           990                26.96  United Package   \n",
       "4       39  18/2/2019           120               284.01  Speedy Express   \n",
       "\n",
       "   ProductId  EmployeeId CustomerId  \n",
       "0        994       18336      c4411  \n",
       "1        994       63528      c2171  \n",
       "2       1163       98635      c4859  \n",
       "3       1514       18594      c4523  \n",
       "4       1410       18508      c3179  "
      ]
     },
     "execution_count": 6,
     "metadata": {},
     "output_type": "execute_result"
    }
   ],
   "source": [
    "orders_tbl = session.read_csv(\"s3://data.atoti.io/atoti-academy/data/Orders.csv\")\n",
    "orders_tbl.head()"
   ]
  },
  {
   "cell_type": "markdown",
   "id": "c69c21de-6663-4d88-a3d5-8670fd067dc2",
   "metadata": {
    "tags": []
   },
   "source": [
    "💡Data is loaded into the table upon creation. For quick prototyping, we advise using smaller dataset during initial table creation. Data can be **incrementally loaded** into the table later on.   "
   ]
  },
  {
   "cell_type": "markdown",
   "id": "9089d6e3-f7db-4a4c-ac1a-4947b3aa278c",
   "metadata": {},
   "source": [
    "💡For data sources that are not supported natively by the Python API, we can consume it with either Pandas, Apache PyArrow or Apache Spark DataFrame before loading it into an Atoti table. Check out [`atoti.Session` module](https://docs.atoti.io/latest/api/atoti.Session.html#atoti.Session) or press `tab` on `session.read` to see the available functions:  \n",
    "\n",
    "<img src=\"https://data.atoti.io/atoti-academy/images/introduction/4_read_functions.png\" />"
   ]
  },
  {
   "cell_type": "markdown",
   "id": "5bf484f3-6c31-4cd1-ba08-59945706553e",
   "metadata": {},
   "source": [
    "### 4.2.1 Check on data types"
   ]
  },
  {
   "cell_type": "markdown",
   "id": "8a8c83df-877e-4581-b8b1-491df5df5123",
   "metadata": {},
   "source": [
    "Some data structures such as Pandas DataFrame or parquet files comes with metadata information. In such case, Atoti will be able to inherit the data types of the columns from the sources. Otherwise, the API automatically infers the data type based on the first `1000` records.  \n",
    "\n",
    "To check the data types of the table columns:"
   ]
  },
  {
   "cell_type": "code",
   "execution_count": 7,
   "id": "c5a55ff0-2cb4-4dee-8207-9c005955f79e",
   "metadata": {
    "tags": []
   },
   "outputs": [
    {
     "data": {
      "application/json": {
       "CustomerId": {
        "default_value": "N/A",
        "key": false,
        "type": "String"
       },
       "EmployeeId": {
        "default_value": null,
        "key": false,
        "type": "int"
       },
       "OrderDate": {
        "default_value": "N/A",
        "key": false,
        "type": "String"
       },
       "OrderId": {
        "default_value": null,
        "key": false,
        "type": "int"
       },
       "ProductId": {
        "default_value": null,
        "key": false,
        "type": "int"
       },
       "QuantitySold": {
        "default_value": null,
        "key": false,
        "type": "int"
       },
       "SellingPricePerUnit": {
        "default_value": null,
        "key": false,
        "type": "double"
       },
       "ShipperName": {
        "default_value": "N/A",
        "key": false,
        "type": "String"
       }
      },
      "text/html": [
       "<ul>\n",
       "<li>Orders\n",
       "  <ul>\n",
       "  <li>OrderId\n",
       "    <ul>\n",
       "    <li>key: False</li>\n",
       "    <li>type: int</li>\n",
       "    <li>default_value: None</li>\n",
       "    </ul>\n",
       "  </li>\n",
       "  <li>OrderDate\n",
       "    <ul>\n",
       "    <li>key: False</li>\n",
       "    <li>type: String</li>\n",
       "    <li>default_value: N/A</li>\n",
       "    </ul>\n",
       "  </li>\n",
       "  <li>QuantitySold\n",
       "    <ul>\n",
       "    <li>key: False</li>\n",
       "    <li>type: int</li>\n",
       "    <li>default_value: None</li>\n",
       "    </ul>\n",
       "  </li>\n",
       "  <li>SellingPricePerUnit\n",
       "    <ul>\n",
       "    <li>key: False</li>\n",
       "    <li>type: double</li>\n",
       "    <li>default_value: None</li>\n",
       "    </ul>\n",
       "  </li>\n",
       "  <li>ShipperName\n",
       "    <ul>\n",
       "    <li>key: False</li>\n",
       "    <li>type: String</li>\n",
       "    <li>default_value: N/A</li>\n",
       "    </ul>\n",
       "  </li>\n",
       "  <li>ProductId\n",
       "    <ul>\n",
       "    <li>key: False</li>\n",
       "    <li>type: int</li>\n",
       "    <li>default_value: None</li>\n",
       "    </ul>\n",
       "  </li>\n",
       "  <li>EmployeeId\n",
       "    <ul>\n",
       "    <li>key: False</li>\n",
       "    <li>type: int</li>\n",
       "    <li>default_value: None</li>\n",
       "    </ul>\n",
       "  </li>\n",
       "  <li>CustomerId\n",
       "    <ul>\n",
       "    <li>key: False</li>\n",
       "    <li>type: String</li>\n",
       "    <li>default_value: N/A</li>\n",
       "    </ul>\n",
       "  </li>\n",
       "  </ul>\n",
       "</li>\n",
       "</ul>\n"
      ],
      "text/plain": [
       "<atoti.table.Table at 0x1325077d0>"
      ]
     },
     "execution_count": 7,
     "metadata": {
      "application/json": {
       "expanded": true,
       "root": "Orders"
      }
     },
     "output_type": "execute_result"
    }
   ],
   "source": [
    "orders_tbl"
   ]
  },
  {
   "cell_type": "markdown",
   "id": "6778f4be-e940-444d-a370-0c0877c6f0f9",
   "metadata": {},
   "source": [
    "💡To discover the data type programmatically for a specific column, we can do the following:  "
   ]
  },
  {
   "cell_type": "code",
   "execution_count": 8,
   "id": "6a8084e6-2f87-4ab5-880a-f5c4bb568b6e",
   "metadata": {
    "tags": []
   },
   "outputs": [
    {
     "data": {
      "text/plain": [
       "'double'"
      ]
     },
     "execution_count": 8,
     "metadata": {},
     "output_type": "execute_result"
    }
   ],
   "source": [
    "orders_tbl[\"SellingPricePerUnit\"].data_type"
   ]
  },
  {
   "cell_type": "markdown",
   "id": "f0cb8919-7cdd-43bb-85a2-d30e230a484b",
   "metadata": {},
   "source": [
    "In some cases, it is useful to iterate through the columns and handle the data based on its data type. For instance, we can define measures for numerical columns iteratively."
   ]
  },
  {
   "cell_type": "code",
   "execution_count": 9,
   "id": "53704b8a-15cc-4b27-8a90-7403653eda9f",
   "metadata": {
    "tags": []
   },
   "outputs": [
    {
     "name": "stdout",
     "output_type": "stream",
     "text": [
      "OrderId is a numerical type column.\n",
      "OrderDate is a hierarchical type column.\n",
      "QuantitySold is a numerical type column.\n",
      "SellingPricePerUnit is a numerical type column.\n",
      "ShipperName is a hierarchical type column.\n",
      "ProductId is a numerical type column.\n",
      "EmployeeId is a numerical type column.\n",
      "CustomerId is a hierarchical type column.\n"
     ]
    }
   ],
   "source": [
    "for col in orders_tbl.columns:\n",
    "    (\n",
    "        print(f\"{col} is a numerical type column.\")\n",
    "        if orders_tbl[col].data_type\n",
    "        in [\n",
    "            \"int\",\n",
    "            \"double\",\n",
    "            \"float\",\n",
    "            \"int[]\",\n",
    "            \"double[]\",\n",
    "        ]\n",
    "        else print(f\"{col} is a hierarchical type column.\")\n",
    "    )"
   ]
  },
  {
   "cell_type": "markdown",
   "id": "0c864c4f-e28d-4aac-bec2-6063cd4e3d85",
   "metadata": {},
   "source": [
    "### 4.2.2 Delete tables\n",
    "\n",
    "Once a table is created, we cannot re-execute the table creation command to perform updates. Instead, we should delete the table and before re-creating it.  \n",
    "\n",
    "The tables are stored as a map under the session. Therefore we can access it simply by using the table's name as the key to the map. "
   ]
  },
  {
   "cell_type": "code",
   "execution_count": 10,
   "id": "886c02c0-42df-4f06-bcba-1663efd3187c",
   "metadata": {
    "tags": []
   },
   "outputs": [],
   "source": [
    "# del session.tables[\"Orders\"]\n",
    "del session.tables[orders_tbl.name]"
   ]
  },
  {
   "cell_type": "markdown",
   "id": "2d8c3835-4bc1-4777-bb19-2dfc187470c9",
   "metadata": {},
   "source": [
    "💡Alternatively, we can restart the session and re-execute everything after."
   ]
  },
  {
   "cell_type": "markdown",
   "id": "1b0fd231-a347-4de2-ab56-b7263ab2169e",
   "metadata": {},
   "source": [
    "### 4.2.3 Table configuration"
   ]
  },
  {
   "cell_type": "markdown",
   "id": "a2d01c3c-b5de-467a-8c31-cf3b18680beb",
   "metadata": {},
   "source": [
    "When we create a table from datasource, we can tweak the table structure as necessary. For instance, we can define key columns to ensure the uniqueness of the data loaded. The key columns are indexed, allowing better search performance.  "
   ]
  },
  {
   "cell_type": "code",
   "execution_count": 11,
   "id": "5ba0ca44-e0e1-493c-b2f5-ba62cab2ee39",
   "metadata": {
    "tags": []
   },
   "outputs": [],
   "source": [
    "orders_tbl = session.read_csv(\n",
    "    \"s3://data.atoti.io/atoti-academy/data/Orders.csv\",\n",
    "    table_name=\"Orders\",\n",
    "    columns={\n",
    "        \"OrderId\": \"Order Id\",\n",
    "        \"OrderDate\": \"Order Date\",\n",
    "        \"QuantitySold\": \"Quantity Sold\",\n",
    "        \"SellingPricePerUnit\": \"Selling Price Per Unit\",\n",
    "        \"ShipperName\": \"Shipper Name\",\n",
    "        \"ProductId\": \"Product Id\",\n",
    "    },\n",
    "    keys=[\"Order Id\", \"Product Id\"],\n",
    "    types={\n",
    "        \"Order Id\": tt.type.STRING,\n",
    "        \"Product Id\": tt.type.STRING,\n",
    "        \"Order Date\": tt.type.LOCAL_DATE,\n",
    "    },\n",
    "    date_patterns={\"Order Date\": \"dd/M/yyyy\"},\n",
    "    default_values={\"Quantity Sold\": 0, \"Selling Price Per Unit\": 0.0},\n",
    ")"
   ]
  },
  {
   "cell_type": "markdown",
   "id": "7963a55c-b45a-4d17-91d9-16dedac8e02c",
   "metadata": {},
   "source": [
    "The example above covered some of the parameters that we commonly configure when creating Atoti table from data sources.\n",
    "\n",
    "**table_name**\n",
    "\n",
    "When reading from a file source, the table name is defaulted to name of the file without the extension. E.g. for Orders.csv, the table name will be \"Orders\" unless specified.  \n",
    "\n",
    "**columns**\n",
    "\n",
    "This parameter is only available for `read_csv` and `read_parquet`. It allows us to:\n",
    "1. Rename columns.\n",
    "2. Select only the required columns from the data source.\n",
    "\n",
    "After renaming the columns, be aware that the following parameters expect the updated names in the mapping instead of the original column names:\n",
    "* `keys`\n",
    "* `types`\n",
    "* `date_patterns`\n",
    "* `default_values`\n",
    "\n",
    "**types**\n",
    "\n",
    "We can cast the data types for the columns explicitly. The parameter expects a dictionary with the column name as key, mapped to the expected [data type](https://docs.atoti.io/latest/api/atoti.type.html#module-atoti.type). This parameter is however, not available for Parquet and Spark DataFrame. \n",
    "\n",
    "**date_patterns**\n",
    "\n",
    "Defines the date format pattern for the date column if it is not in the `yyyy-MM-dd` format. Check out [Java date patterns](https://docs.oracle.com/en/java/javase/15/docs/api/java.base/java/time/format/DateTimeFormatter.html#patterns):  \n",
    "\n",
    "<img src=\"https://data.atoti.io/atoti-academy/images/introduction/4_date_patterns.png\" />\n"
   ]
  },
  {
   "cell_type": "markdown",
   "id": "7c0617ca-5f5a-4613-9ca6-fd4db3f1723d",
   "metadata": {
    "tags": []
   },
   "source": [
    "## 4.3 Data schema \n",
    "\n",
    "Atoti implements a [snowflake schema](https://en.wikipedia.org/wiki/Snowflake_schema). This means that the schema organize data around a central fact table (we call it base table). The other dimension tables joining to the central table can be normalized, i.e. split into multiple related tables, creating a branching structure that resembles a snowflake.  \n",
    "\n",
    "<img src=\"https://data.atoti.io/atoti-academy/images/introduction/4_snowflake_schema.png\" width=\"500px\" />"
   ]
  },
  {
   "cell_type": "markdown",
   "id": "96c740c4-98e2-4195-ae6a-a27598ad2db8",
   "metadata": {},
   "source": [
    "### 4.3.1 Identify base table"
   ]
  },
  {
   "cell_type": "markdown",
   "id": "3c942ab9-7201-4227-bc2f-43af77c95955",
   "metadata": {},
   "source": [
    "The base table contains data at the lowest level of granularity, known as \"facts\" for the cube. It's normally the largest table.  \n",
    "\n",
    "💡To be able to query an item, it has to be reachable from the base table to the refenced table. Therefore, the base table has to be the most granular."
   ]
  },
  {
   "cell_type": "markdown",
   "id": "2bf4812d-8598-4c4e-8951-391c963522e4",
   "metadata": {},
   "source": [
    "### 4.3.2 Visualize table schema"
   ]
  },
  {
   "cell_type": "markdown",
   "id": "60007a50-b8ec-4f64-b178-bc3b78fe04bb",
   "metadata": {},
   "source": [
    "The table schema will show us all the tables in the session, along with their columns and their respective data types. It makes it easier for us to identify the column(s) which we want to use for the table join."
   ]
  },
  {
   "cell_type": "code",
   "execution_count": 12,
   "id": "48f4f004-0c75-42fa-8599-1732b28b5cf9",
   "metadata": {
    "tags": []
   },
   "outputs": [
    {
     "data": {
      "text/markdown": [
       "```mermaid\n",
       "erDiagram\n",
       "  \"Orders\" {\n",
       "    _ String PK \"Order Id\"\n",
       "    _ LocalDate \"Order Date\"\n",
       "    _ int \"Quantity Sold\"\n",
       "    _ double \"Selling Price Per Unit\"\n",
       "    _ String \"Shipper Name\"\n",
       "    _ String PK \"Product Id\"\n",
       "  }\n",
       "  \"Products\" {\n",
       "    _ String PK \"ProductId\"\n",
       "    _ String \"ProductName\"\n",
       "    _ String \"ProductCategory\"\n",
       "    _ String \"Supplier\"\n",
       "    _ float \"PurchasingPricePerUnit\"\n",
       "  }\n",
       "```\n"
      ],
      "text/plain": [
       "erDiagram\n",
       "  \"Orders\" {\n",
       "    _ String PK \"Order Id\"\n",
       "    _ LocalDate \"Order Date\"\n",
       "    _ int \"Quantity Sold\"\n",
       "    _ double \"Selling Price Per Unit\"\n",
       "    _ String \"Shipper Name\"\n",
       "    _ String PK \"Product Id\"\n",
       "  }\n",
       "  \"Products\" {\n",
       "    _ String PK \"ProductId\"\n",
       "    _ String \"ProductName\"\n",
       "    _ String \"ProductCategory\"\n",
       "    _ String \"Supplier\"\n",
       "    _ float \"PurchasingPricePerUnit\"\n",
       "  }"
      ]
     },
     "execution_count": 12,
     "metadata": {},
     "output_type": "execute_result"
    }
   ],
   "source": [
    "session.tables.schema"
   ]
  },
  {
   "cell_type": "markdown",
   "id": "7bb0a2d2-8e10-43c0-b1ae-8f0728580261",
   "metadata": {},
   "source": [
    "In this case, we can see that Product Id is common between the two tables but named differently — `Product Id` in Orders table and `ProductId` in Products table. "
   ]
  },
  {
   "cell_type": "markdown",
   "id": "39d93e04-fa31-46fe-a018-6ba0312a0092",
   "metadata": {},
   "source": [
    "### 4.3.3 Table join"
   ]
  },
  {
   "cell_type": "markdown",
   "id": "43cf528f-14c3-4ef9-852d-a4bdcfb47aa2",
   "metadata": {},
   "source": [
    "Usually, we can perform a table join without defining the columns used for it if the columns have the same name in both tables: \n",
    "\n",
    "`orders_tbl.join(product_tbl)`\n",
    "\n",
    "Atoti automatically infers the join by columns with the same name. However, because there are no common columns by name between the two tables, we will get a cartesian join between the tables. This may result in wrong results returned in queries and definitely poorer querying performance. Hence, let's define the condition of the join explicitly.  "
   ]
  },
  {
   "cell_type": "code",
   "execution_count": 13,
   "id": "1ec640b0-7873-4d70-bfb2-521db0b05a26",
   "metadata": {
    "tags": []
   },
   "outputs": [],
   "source": [
    "orders_tbl.join(product_tbl, (orders_tbl[\"Product Id\"] == product_tbl[\"ProductId\"]))"
   ]
  },
  {
   "cell_type": "markdown",
   "id": "af2956c4-857c-46ed-be0c-a364c15a7992",
   "metadata": {},
   "source": [
    "💡It is a good practice to define the condition of the join explicitly, such that any reader will know clearly which columns are they joined by.  \n",
    "\n",
    "💡We perform the join from the parent table to referenced table, i.e. `orders_tbl → product_tbl`. Similarly, the order of the condition has to be from parent table to referenced table, i.e. `orders_tbl → product_tbl`.  \n",
    "\n",
    "We can have multiple joins by surrounding each condition with a parenthesis and combine the conditions with the `&` operand:\n",
    "\n",
    "`a.join(b, (a[\"col1\"] == b[\"col1\"]) & (a[\"col2\"] == b[\"col2\"]))`"
   ]
  },
  {
   "cell_type": "markdown",
   "id": "0b1e3111-8ccd-4ca9-ad13-3afcdeac484e",
   "metadata": {},
   "source": [
    "### 📐Exercise  \n",
    "\n",
    "View how the schema changed after the last join.  "
   ]
  },
  {
   "cell_type": "markdown",
   "id": "0d59f86d-c3a0-4e5d-bf75-3db374813d4c",
   "metadata": {},
   "source": [
    "### 📖 Solution\n",
    "\n",
    "`session.tables.schema`"
   ]
  },
  {
   "cell_type": "code",
   "execution_count": 14,
   "id": "ede6473d-0f5e-4246-8bae-e53519691172",
   "metadata": {},
   "outputs": [
    {
     "data": {
      "text/markdown": [
       "```mermaid\n",
       "erDiagram\n",
       "  \"Orders\" {\n",
       "    _ String PK \"Order Id\"\n",
       "    _ LocalDate \"Order Date\"\n",
       "    _ int \"Quantity Sold\"\n",
       "    _ double \"Selling Price Per Unit\"\n",
       "    _ String \"Shipper Name\"\n",
       "    _ String PK \"Product Id\"\n",
       "  }\n",
       "  \"Products\" {\n",
       "    _ String PK \"ProductId\"\n",
       "    _ String \"ProductName\"\n",
       "    _ String \"ProductCategory\"\n",
       "    _ String \"Supplier\"\n",
       "    _ float \"PurchasingPricePerUnit\"\n",
       "  }\n",
       "  \"Orders\" }o--o| \"Products\" : \"`Product Id` == `ProductId`\"\n",
       "```\n"
      ],
      "text/plain": [
       "erDiagram\n",
       "  \"Orders\" {\n",
       "    _ String PK \"Order Id\"\n",
       "    _ LocalDate \"Order Date\"\n",
       "    _ int \"Quantity Sold\"\n",
       "    _ double \"Selling Price Per Unit\"\n",
       "    _ String \"Shipper Name\"\n",
       "    _ String PK \"Product Id\"\n",
       "  }\n",
       "  \"Products\" {\n",
       "    _ String PK \"ProductId\"\n",
       "    _ String \"ProductName\"\n",
       "    _ String \"ProductCategory\"\n",
       "    _ String \"Supplier\"\n",
       "    _ float \"PurchasingPricePerUnit\"\n",
       "  }\n",
       "  \"Orders\" }o--o| \"Products\" : \"`Product Id` == `ProductId`\""
      ]
     },
     "execution_count": 14,
     "metadata": {},
     "output_type": "execute_result"
    }
   ],
   "source": [
    "session.tables.schema"
   ]
  },
  {
   "cell_type": "markdown",
   "id": "f2ab8314-d53b-4a18-bbdd-d07506a05d24",
   "metadata": {
    "tags": []
   },
   "source": [
    "# 5. Load data into tables\n",
    " \n",
    "After a table is created, we can load data into the tables using the `load` function corresponding to the data source format. For instance, if the data source is a CSV file, we can use [`load_csv`](https://docs.atoti.io/latest/api/atoti.Table.load_csv.html#atoti.Table.load_csv) to upload the data.  \n",
    "\n",
    "💡 Check out the [`atoti.table` module](https://docs.atoti.io/latest/api/atoti.Table.html#atoti.Table) or press `tab` on `table.load` to see the available functions:  \n",
    "\n",
    "<img src=\"https://data.atoti.io/atoti-academy/images/introduction/5_load_functions.png\" />"
   ]
  },
  {
   "cell_type": "code",
   "execution_count": 15,
   "id": "bd6c3a1d-4b37-499b-8509-aff29a9ab9cf",
   "metadata": {
    "tags": []
   },
   "outputs": [
    {
     "data": {
      "text/html": [
       "<div>\n",
       "<style scoped>\n",
       "    .dataframe tbody tr th:only-of-type {\n",
       "        vertical-align: middle;\n",
       "    }\n",
       "\n",
       "    .dataframe tbody tr th {\n",
       "        vertical-align: top;\n",
       "    }\n",
       "\n",
       "    .dataframe thead th {\n",
       "        text-align: right;\n",
       "    }\n",
       "</style>\n",
       "<table border=\"1\" class=\"dataframe\">\n",
       "  <thead>\n",
       "    <tr style=\"text-align: right;\">\n",
       "      <th></th>\n",
       "      <th>ProductName</th>\n",
       "      <th>ProductCategory</th>\n",
       "      <th>Supplier</th>\n",
       "      <th>PurchasingPricePerUnit</th>\n",
       "    </tr>\n",
       "    <tr>\n",
       "      <th>ProductId</th>\n",
       "      <th></th>\n",
       "      <th></th>\n",
       "      <th></th>\n",
       "      <th></th>\n",
       "    </tr>\n",
       "  </thead>\n",
       "  <tbody>\n",
       "    <tr>\n",
       "      <th>539</th>\n",
       "      <td>Queso Cabrales</td>\n",
       "      <td>Dairy Products</td>\n",
       "      <td>Cooperativa de Quesos Las Cabras</td>\n",
       "      <td>11.340000</td>\n",
       "    </tr>\n",
       "    <tr>\n",
       "      <th>552</th>\n",
       "      <td>Singaporean Hokkien Fried Mee</td>\n",
       "      <td>Grains/Cereals</td>\n",
       "      <td>Leka Trading</td>\n",
       "      <td>8.060000</td>\n",
       "    </tr>\n",
       "    <tr>\n",
       "      <th>565</th>\n",
       "      <td>Mozzarella di Giovanni</td>\n",
       "      <td>Dairy Products</td>\n",
       "      <td>Formaggi Fortini s.r.l.</td>\n",
       "      <td>18.770000</td>\n",
       "    </tr>\n",
       "    <tr>\n",
       "      <th>578</th>\n",
       "      <td>Tofu</td>\n",
       "      <td>Produce</td>\n",
       "      <td>Mayumis</td>\n",
       "      <td>12.560000</td>\n",
       "    </tr>\n",
       "    <tr>\n",
       "      <th>591</th>\n",
       "      <td>Manjimup Dried Apples</td>\n",
       "      <td>Produce</td>\n",
       "      <td>Gday, Mate</td>\n",
       "      <td>30.530001</td>\n",
       "    </tr>\n",
       "  </tbody>\n",
       "</table>\n",
       "</div>"
      ],
      "text/plain": [
       "                             ProductName ProductCategory  \\\n",
       "ProductId                                                  \n",
       "539                       Queso Cabrales  Dairy Products   \n",
       "552        Singaporean Hokkien Fried Mee  Grains/Cereals   \n",
       "565               Mozzarella di Giovanni  Dairy Products   \n",
       "578                                 Tofu         Produce   \n",
       "591                Manjimup Dried Apples         Produce   \n",
       "\n",
       "                                   Supplier  PurchasingPricePerUnit  \n",
       "ProductId                                                            \n",
       "539        Cooperativa de Quesos Las Cabras               11.340000  \n",
       "552                            Leka Trading                8.060000  \n",
       "565                 Formaggi Fortini s.r.l.               18.770000  \n",
       "578                                 Mayumis               12.560000  \n",
       "591                              Gday, Mate               30.530001  "
      ]
     },
     "execution_count": 15,
     "metadata": {},
     "output_type": "execute_result"
    }
   ],
   "source": [
    "product_tbl.load_csv(\"s3://data.atoti.io/atoti-academy/data/Products.csv\")\n",
    "product_tbl.head()"
   ]
  },
  {
   "cell_type": "markdown",
   "id": "56b891ed-ccec-43de-8f59-0c8478a40d85",
   "metadata": {},
   "source": [
    "For CSV files which doesn't come with metadata information on the data type, we have to take special note on date columns. Atoti recognizes values formatted in `yyyy-MM-dd` as dates. For all other formats, we have to define the pattern with the `date_patterns` parameter as seen in the previous example in the section \"4.2.3 Table Configuration\".    \n",
    "\n",
    "💡 Read: [Atoti: Working with dates in Python](https://www.atoti.io/guides/atoti-working-with-dates-in-python/)  "
   ]
  },
  {
   "cell_type": "markdown",
   "id": "bac1109a-5cd3-4d21-a0f4-74be5be6b406",
   "metadata": {
    "tags": []
   },
   "source": [
    "Verify the shape of the table after the data loading. "
   ]
  },
  {
   "cell_type": "code",
   "execution_count": 16,
   "id": "5df8dda6-b1a9-487f-b02a-a852a959ffda",
   "metadata": {
    "tags": []
   },
   "outputs": [
    {
     "name": "stdout",
     "output_type": "stream",
     "text": [
      "Number of rows: 77, Number of columns: 5\n"
     ]
    }
   ],
   "source": [
    "print(\n",
    "    f\"Number of rows: {len(product_tbl)}, Number of columns: {len(product_tbl.columns)}\"\n",
    ")"
   ]
  },
  {
   "cell_type": "markdown",
   "id": "76391a28-58fc-448f-beb4-2c4a3dadf16f",
   "metadata": {},
   "source": [
    "# 6. Atoti Cube"
   ]
  },
  {
   "cell_type": "markdown",
   "id": "42218e81-1a0b-4355-ac62-236fc8d81693",
   "metadata": {},
   "source": [
    "## 6.1 Cube creation"
   ]
  },
  {
   "cell_type": "markdown",
   "id": "eadb6e56-f4ab-483e-8962-9d4679ff2947",
   "metadata": {},
   "source": [
    "As Atoti follows the [snowflake schema](https://en.wikipedia.org/wiki/Snowflake_schema), we will create the cube with the base table. \n",
    "\n",
    "💡We can create new tables and join them to the reference table even after the cube is created. Therefore, it is possible to start the cube with a single table and build the model incrementally afterward.  "
   ]
  },
  {
   "cell_type": "code",
   "execution_count": 17,
   "id": "dd90c614-f284-45ba-8243-d40f4819a62b",
   "metadata": {
    "tags": []
   },
   "outputs": [],
   "source": [
    "cube = session.create_cube(orders_tbl, name=\"Order Cube\")"
   ]
  },
  {
   "cell_type": "markdown",
   "id": "daab14ee-f34a-4cad-b85c-50c3272d0454",
   "metadata": {},
   "source": [
    "By default, the cube is created in `auto` mode. This means that non-numerical or key columns are created as single-level hierarchies. A `SUM` and a `MEAN` measure is automatically created for each numerical column.  \n",
    "\n",
    "Other [available modes](https://docs.atoti.io/latest/api/atoti.Session.create_cube.html#atoti.Session.create_cube) are:\n",
    "- `manual`: Only `contributors.COUNT` is created. Users have to manually create the hierarchies and measures they require.\n",
    "- `no_measures`: Similar to `auto` mode, except that measures are not created. This is useful if we have a lot of numerical columns but we do not require the sum and average metrics for all of them.  \n",
    "\n",
    "💡We can create multiple cubes per session. Just remember to give each of them a different name."
   ]
  },
  {
   "cell_type": "markdown",
   "id": "c692f403-542b-4099-9922-cc46bd6458a6",
   "metadata": {},
   "source": [
    "## 6.2 Cube attributes"
   ]
  },
  {
   "cell_type": "markdown",
   "id": "7167c06f-b60c-4d66-bcd0-a4f855e1dd21",
   "metadata": {
    "tags": []
   },
   "source": [
    "The main attributes of a cube are:  \n",
    "\n",
    "* **Dimensions / Hierarchies / Levels**: This is how the data is structured in the cube.  \n",
    "* **Measures**: They are the numberical data / metrics contained in the cube.\n",
    "\n",
    "We will look at these in more detail below. \n",
    "\n",
    "First, let's take a look at the cube, so see the dimensions, hierarchies, levels and measures."
   ]
  },
  {
   "cell_type": "code",
   "execution_count": 18,
   "id": "92381aac-bf3a-407e-bc66-2e02481499d8",
   "metadata": {
    "tags": []
   },
   "outputs": [
    {
     "data": {
      "application/json": {
       "Dimensions": {
        "Orders": {
         "Order Date": [
          "Order Date"
         ],
         "Order Id": [
          "Order Id"
         ],
         "Product Id": [
          "Product Id"
         ],
         "Shipper Name": [
          "Shipper Name"
         ]
        },
        "Products": {
         "ProductCategory": [
          "ProductCategory"
         ],
         "ProductName": [
          "ProductName"
         ],
         "Supplier": [
          "Supplier"
         ]
        }
       },
       "Measures": {
        "Quantity Sold.MEAN": {
         "formatter": "DOUBLE[#,###.00]"
        },
        "Quantity Sold.SUM": {
         "formatter": "INT[#,###]"
        },
        "Selling Price Per Unit.MEAN": {
         "formatter": "DOUBLE[#,###.00]"
        },
        "Selling Price Per Unit.SUM": {
         "formatter": "DOUBLE[#,###.00]"
        },
        "contributors.COUNT": {
         "formatter": "INT[#,###]"
        }
       }
      },
      "text/html": [
       "<ul>\n",
       "<li>Order Cube\n",
       "  <ul>\n",
       "  <li>Dimensions\n",
       "    <ul>\n",
       "    <li>Orders\n",
       "      <ul>\n",
       "      <li>Order Date\n",
       "        <ol>\n",
       "        <li>Order Date</li>\n",
       "        </ol>      </li>\n",
       "      <li>Order Id\n",
       "        <ol>\n",
       "        <li>Order Id</li>\n",
       "        </ol>      </li>\n",
       "      <li>Product Id\n",
       "        <ol>\n",
       "        <li>Product Id</li>\n",
       "        </ol>      </li>\n",
       "      <li>Shipper Name\n",
       "        <ol>\n",
       "        <li>Shipper Name</li>\n",
       "        </ol>      </li>\n",
       "      </ul>\n",
       "    </li>\n",
       "    <li>Products\n",
       "      <ul>\n",
       "      <li>ProductCategory\n",
       "        <ol>\n",
       "        <li>ProductCategory</li>\n",
       "        </ol>      </li>\n",
       "      <li>ProductName\n",
       "        <ol>\n",
       "        <li>ProductName</li>\n",
       "        </ol>      </li>\n",
       "      <li>Supplier\n",
       "        <ol>\n",
       "        <li>Supplier</li>\n",
       "        </ol>      </li>\n",
       "      </ul>\n",
       "    </li>\n",
       "    </ul>\n",
       "  </li>\n",
       "  <li>Measures\n",
       "    <ul>\n",
       "    <li>Quantity Sold.MEAN\n",
       "      <ul>\n",
       "      <li>formatter: DOUBLE[#,###.00]</li>\n",
       "      </ul>\n",
       "    </li>\n",
       "    <li>Quantity Sold.SUM\n",
       "      <ul>\n",
       "      <li>formatter: INT[#,###]</li>\n",
       "      </ul>\n",
       "    </li>\n",
       "    <li>Selling Price Per Unit.MEAN\n",
       "      <ul>\n",
       "      <li>formatter: DOUBLE[#,###.00]</li>\n",
       "      </ul>\n",
       "    </li>\n",
       "    <li>Selling Price Per Unit.SUM\n",
       "      <ul>\n",
       "      <li>formatter: DOUBLE[#,###.00]</li>\n",
       "      </ul>\n",
       "    </li>\n",
       "    <li>contributors.COUNT\n",
       "      <ul>\n",
       "      <li>formatter: INT[#,###]</li>\n",
       "      </ul>\n",
       "    </li>\n",
       "    </ul>\n",
       "  </li>\n",
       "  </ul>\n",
       "</li>\n",
       "</ul>\n"
      ],
      "text/plain": [
       "<atoti.cube.Cube at 0x1325349d0>"
      ]
     },
     "execution_count": 18,
     "metadata": {
      "application/json": {
       "expanded": false,
       "root": "Order Cube"
      }
     },
     "output_type": "execute_result"
    }
   ],
   "source": [
    "cube"
   ]
  },
  {
   "cell_type": "markdown",
   "id": "4d59a2d0-16aa-4450-86f5-b406fb926c45",
   "metadata": {},
   "source": [
    "In the diagram below, you'll find an overview of the relationship between dimensions, hierarchies and levels:\n",
    "\n",
    "<img src=\"https://data.atoti.io/atoti-academy/images/introduction/6_cube_attributes.png\" width=\"800px\" />"
   ]
  },
  {
   "cell_type": "markdown",
   "id": "8e1387a5-f675-46d0-b289-1988ab3ed307",
   "metadata": {},
   "source": [
    "Understanding the hierarchies and levels is important for us to understand how data is being retrieved from the cube. Each level added to the query will help us identify the location of the value that we are targetting:  \n",
    "\n",
    "<img src=\"https://data.atoti.io/atoti-academy/images/introduction/6_location.png\" width=\"800px\" />"
   ]
  },
  {
   "cell_type": "markdown",
   "id": "4772e4d0-3789-40d7-9829-81325682370c",
   "metadata": {},
   "source": [
    "We can access the attributes individually as well. For instance, let's look at the hierarchies:"
   ]
  },
  {
   "cell_type": "code",
   "execution_count": 19,
   "id": "bc013703-88c4-4690-bd92-bf19eb0277a8",
   "metadata": {
    "tags": []
   },
   "outputs": [
    {
     "data": {
      "application/json": {
       "Quantity Sold.MEAN": {
        "formatter": "DOUBLE[#,###.00]"
       },
       "Quantity Sold.SUM": {
        "formatter": "INT[#,###]"
       },
       "Selling Price Per Unit.MEAN": {
        "formatter": "DOUBLE[#,###.00]"
       },
       "Selling Price Per Unit.SUM": {
        "formatter": "DOUBLE[#,###.00]"
       },
       "contributors.COUNT": {
        "formatter": "INT[#,###]"
       }
      },
      "text/html": [
       "<ul>\n",
       "<li>Measures\n",
       "  <ul>\n",
       "  <li>Quantity Sold.MEAN\n",
       "    <ul>\n",
       "    <li>formatter: DOUBLE[#,###.00]</li>\n",
       "    </ul>\n",
       "  </li>\n",
       "  <li>Quantity Sold.SUM\n",
       "    <ul>\n",
       "    <li>formatter: INT[#,###]</li>\n",
       "    </ul>\n",
       "  </li>\n",
       "  <li>Selling Price Per Unit.MEAN\n",
       "    <ul>\n",
       "    <li>formatter: DOUBLE[#,###.00]</li>\n",
       "    </ul>\n",
       "  </li>\n",
       "  <li>Selling Price Per Unit.SUM\n",
       "    <ul>\n",
       "    <li>formatter: DOUBLE[#,###.00]</li>\n",
       "    </ul>\n",
       "  </li>\n",
       "  <li>contributors.COUNT\n",
       "    <ul>\n",
       "    <li>formatter: INT[#,###]</li>\n",
       "    </ul>\n",
       "  </li>\n",
       "  </ul>\n",
       "</li>\n",
       "</ul>\n"
      ],
      "text/plain": [
       "{'contributors.COUNT': <atoti.measure.Measure object at 0x132505a50>, 'update.TIMESTAMP': <atoti.measure.Measure object at 0x132507110>, 'Quantity Sold.MEAN': <atoti.measure.Measure object at 0x132505710>, 'Quantity Sold.SUM': <atoti.measure.Measure object at 0x132507b90>, 'Selling Price Per Unit.MEAN': <atoti.measure.Measure object at 0x1325051d0>, 'Selling Price Per Unit.SUM': <atoti.measure.Measure object at 0x132507550>}"
      ]
     },
     "execution_count": 19,
     "metadata": {
      "application/json": {
       "expanded": false,
       "root": "Measures"
      }
     },
     "output_type": "execute_result"
    }
   ],
   "source": [
    "cube.measures"
   ]
  },
  {
   "cell_type": "markdown",
   "id": "99b5dfe6-08c6-44a4-b7dd-f45b1f1c5826",
   "metadata": {},
   "source": [
    "💡 We can manipulate the cube via these attributes. To simplify coding, we will aliase these attributes with the variable h, l and m for hierarchies, levels and measures respectively.  "
   ]
  },
  {
   "cell_type": "code",
   "execution_count": 20,
   "id": "f5c2575f-e9c3-4521-9820-0bb7ae56ea69",
   "metadata": {
    "tags": []
   },
   "outputs": [],
   "source": [
    "h, l, m = cube.hierarchies, cube.levels, cube.measures"
   ]
  },
  {
   "cell_type": "markdown",
   "id": "7154dd5b-ad35-4c0b-b43a-77915a194696",
   "metadata": {},
   "source": [
    "The equivalent of `cube.measures` is now `m`:"
   ]
  },
  {
   "cell_type": "code",
   "execution_count": 21,
   "id": "937f1394-37c0-465e-a21d-f47b6a7c7a09",
   "metadata": {
    "tags": []
   },
   "outputs": [
    {
     "data": {
      "application/json": {
       "Quantity Sold.MEAN": {
        "formatter": "DOUBLE[#,###.00]"
       },
       "Quantity Sold.SUM": {
        "formatter": "INT[#,###]"
       },
       "Selling Price Per Unit.MEAN": {
        "formatter": "DOUBLE[#,###.00]"
       },
       "Selling Price Per Unit.SUM": {
        "formatter": "DOUBLE[#,###.00]"
       },
       "contributors.COUNT": {
        "formatter": "INT[#,###]"
       }
      },
      "text/html": [
       "<ul>\n",
       "<li>Measures\n",
       "  <ul>\n",
       "  <li>Quantity Sold.MEAN\n",
       "    <ul>\n",
       "    <li>formatter: DOUBLE[#,###.00]</li>\n",
       "    </ul>\n",
       "  </li>\n",
       "  <li>Quantity Sold.SUM\n",
       "    <ul>\n",
       "    <li>formatter: INT[#,###]</li>\n",
       "    </ul>\n",
       "  </li>\n",
       "  <li>Selling Price Per Unit.MEAN\n",
       "    <ul>\n",
       "    <li>formatter: DOUBLE[#,###.00]</li>\n",
       "    </ul>\n",
       "  </li>\n",
       "  <li>Selling Price Per Unit.SUM\n",
       "    <ul>\n",
       "    <li>formatter: DOUBLE[#,###.00]</li>\n",
       "    </ul>\n",
       "  </li>\n",
       "  <li>contributors.COUNT\n",
       "    <ul>\n",
       "    <li>formatter: INT[#,###]</li>\n",
       "    </ul>\n",
       "  </li>\n",
       "  </ul>\n",
       "</li>\n",
       "</ul>\n"
      ],
      "text/plain": [
       "{'contributors.COUNT': <atoti.measure.Measure object at 0x132505cd0>, 'update.TIMESTAMP': <atoti.measure.Measure object at 0x132505710>, 'Quantity Sold.MEAN': <atoti.measure.Measure object at 0x1325051d0>, 'Quantity Sold.SUM': <atoti.measure.Measure object at 0x132506050>, 'Selling Price Per Unit.MEAN': <atoti.measure.Measure object at 0x1325078d0>, 'Selling Price Per Unit.SUM': <atoti.measure.Measure object at 0x132506d10>}"
      ]
     },
     "execution_count": 21,
     "metadata": {
      "application/json": {
       "expanded": false,
       "root": "Measures"
      }
     },
     "output_type": "execute_result"
    }
   ],
   "source": [
    "m"
   ]
  },
  {
   "cell_type": "markdown",
   "id": "9a2c4f56-adda-49ae-acf1-3f705571a077",
   "metadata": {},
   "source": [
    "### 6.2.1 Hierarchies and levels"
   ]
  },
  {
   "cell_type": "markdown",
   "id": "417cba0d-abb2-42ae-8534-27c9ed17e97f",
   "metadata": {},
   "source": [
    "A few key points:\n",
    "\n",
    "* Each column in the data source can be treated as a level. \n",
    "* Hierarchies are logical orderings of these data elements (or levels).\n",
    "* It is possible that there is only one level in the hierarchy.  This is known as single-level hierarchy.\n",
    "* Or we might have a parent-child relationship between them. For example in the hierarchy of geographical zones, we might find one level for continents (Europe, Asia, etc.) and a child level for countries (Signapore, China, Malaysia, etc.) Hierarchies can therefore be single-level or multi-level.  \n",
    "\n",
    "We will look at these in greater detail in this section:  \n",
    "- [6.2.1.1 Create multi-level hierarchies](#6.2.1.1-Create-multi-level-hierarchies)\n",
    "- [6.2.1.2 Access levels that exist under more than one hierarchy](#6.2.1.2-Access-levels-that-exist-under-more-than-one-hierarchy)\n",
    "- [6.2.1.3 Single-level vs multi-level hierarchies](#6.2.1.3-Single-level-vs-multi-level-hierarchies)\n",
    "    - [6.2.1.3.1 Single-level hierarchies](#6.2.1.3.1-Single-level-hierarchies)\n",
    "    - [6.2.1.3.2 Multi-level hierarchies](#6.2.1.3.2-Multi-level-hierarchies)\n",
    " \n",
    "💡 By default, hierarchies automatically created in Atoti are single-level."
   ]
  },
  {
   "cell_type": "code",
   "execution_count": 22,
   "id": "72df5a65-7ad9-4813-8713-fde7ca98a841",
   "metadata": {
    "tags": []
   },
   "outputs": [
    {
     "data": {
      "application/json": {
       "Orders": {
        "Order Date": [
         "Order Date"
        ],
        "Order Id": [
         "Order Id"
        ],
        "Product Id": [
         "Product Id"
        ],
        "Shipper Name": [
         "Shipper Name"
        ]
       },
       "Products": {
        "ProductCategory": [
         "ProductCategory"
        ],
        "ProductName": [
         "ProductName"
        ],
        "Supplier": [
         "Supplier"
        ]
       }
      },
      "text/html": [
       "<ul>\n",
       "<li>Dimensions\n",
       "  <ul>\n",
       "  <li>Orders\n",
       "    <ul>\n",
       "    <li>Order Date\n",
       "      <ol>\n",
       "      <li>Order Date</li>\n",
       "      </ol>    </li>\n",
       "    <li>Order Id\n",
       "      <ol>\n",
       "      <li>Order Id</li>\n",
       "      </ol>    </li>\n",
       "    <li>Product Id\n",
       "      <ol>\n",
       "      <li>Product Id</li>\n",
       "      </ol>    </li>\n",
       "    <li>Shipper Name\n",
       "      <ol>\n",
       "      <li>Shipper Name</li>\n",
       "      </ol>    </li>\n",
       "    </ul>\n",
       "  </li>\n",
       "  <li>Products\n",
       "    <ul>\n",
       "    <li>ProductCategory\n",
       "      <ol>\n",
       "      <li>ProductCategory</li>\n",
       "      </ol>    </li>\n",
       "    <li>ProductName\n",
       "      <ol>\n",
       "      <li>ProductName</li>\n",
       "      </ol>    </li>\n",
       "    <li>Supplier\n",
       "      <ol>\n",
       "      <li>Supplier</li>\n",
       "      </ol>    </li>\n",
       "    </ul>\n",
       "  </li>\n",
       "  </ul>\n",
       "</li>\n",
       "</ul>\n"
      ],
      "text/plain": [
       "{('Products', 'Supplier'): <atoti.hierarchy.Hierarchy object at 0x1324b6990>, ('Orders', 'Shipper Name'): <atoti.hierarchy.Hierarchy object at 0x1324c1010>, ('Products', 'ProductName'): <atoti.hierarchy.Hierarchy object at 0x1324c1250>, ('Orders', 'Order Date'): <atoti.hierarchy.Hierarchy object at 0x1324c3b50>, ('Orders', 'Order Id'): <atoti.hierarchy.Hierarchy object at 0x1324c1350>, ('Orders', 'Product Id'): <atoti.hierarchy.Hierarchy object at 0x1324c1590>, ('Products', 'ProductCategory'): <atoti.hierarchy.Hierarchy object at 0x1323bf610>}"
      ]
     },
     "execution_count": 22,
     "metadata": {
      "application/json": {
       "expanded": true,
       "root": "Dimensions"
      }
     },
     "output_type": "execute_result"
    }
   ],
   "source": [
    "# we can use either `cube.hierarchies` or its alias `h` to view the hierarchies\n",
    "h"
   ]
  },
  {
   "cell_type": "markdown",
   "id": "bc4f756e-6180-4e06-834c-d8f83d5d94d0",
   "metadata": {},
   "source": [
    "A few key points:\n",
    "\n",
    "* The highest level of the tree consists of dimensions, which usually are the table names.  \n",
    "* The second level of the tree containing a list is the hierarchies.  \n",
    "* The list under the hierarchy contains the levels under that hierarchy. As we can see, the hierarchies contain 1 level each, indexed by 0."
   ]
  },
  {
   "cell_type": "markdown",
   "id": "0cd7a758-0689-4c8c-a49f-5075fada5c5a",
   "metadata": {},
   "source": [
    "Since `cube.hierarchies` is a list of hierarchy, we can access a specific hierarchy using its name as a key to the list."
   ]
  },
  {
   "cell_type": "code",
   "execution_count": 23,
   "id": "ce3afb1e-b5fe-41d9-b604-e54ffad58627",
   "metadata": {
    "tags": []
   },
   "outputs": [
    {
     "data": {
      "application/json": [
       "Order Date"
      ],
      "text/html": [
       "<ul>\n",
       "<li>Order Date\n",
       "  <ol>\n",
       "  <li>Order Date</li>\n",
       "  </ol></li>\n",
       "</ul>\n"
      ],
      "text/plain": [
       "<atoti.hierarchy.Hierarchy at 0x132544450>"
      ]
     },
     "execution_count": 23,
     "metadata": {
      "application/json": {
       "expanded": false,
       "root": "Order Date"
      }
     },
     "output_type": "execute_result"
    }
   ],
   "source": [
    "h[\"Order Date\"]"
   ]
  },
  {
   "cell_type": "markdown",
   "id": "2954f2f1-0e47-4b1e-9a05-0c65b379efbd",
   "metadata": {},
   "source": [
    "Similarly, we can view the levels either using `cube.levels` or its alias `l`:"
   ]
  },
  {
   "cell_type": "code",
   "execution_count": 24,
   "id": "b07a4f75-7fa8-45cf-b4f7-5d964028c8cf",
   "metadata": {
    "tags": []
   },
   "outputs": [
    {
     "data": {
      "application/json": {
       "Order Date (Orders/Order Date/Order Date)": {
        "dimension": "Orders",
        "hierarchy": "Order Date",
        "order": "NaturalOrder",
        "type": "LocalDate"
       },
       "Order Id (Orders/Order Id/Order Id)": {
        "dimension": "Orders",
        "hierarchy": "Order Id",
        "order": "NaturalOrder",
        "type": "String"
       },
       "Product Id (Orders/Product Id/Product Id)": {
        "dimension": "Orders",
        "hierarchy": "Product Id",
        "order": "NaturalOrder",
        "type": "String"
       },
       "ProductCategory (Products/ProductCategory/ProductCategory)": {
        "dimension": "Products",
        "hierarchy": "ProductCategory",
        "order": "NaturalOrder",
        "type": "String"
       },
       "ProductName (Products/ProductName/ProductName)": {
        "dimension": "Products",
        "hierarchy": "ProductName",
        "order": "NaturalOrder",
        "type": "String"
       },
       "Shipper Name (Orders/Shipper Name/Shipper Name)": {
        "dimension": "Orders",
        "hierarchy": "Shipper Name",
        "order": "NaturalOrder",
        "type": "String"
       },
       "Supplier (Products/Supplier/Supplier)": {
        "dimension": "Products",
        "hierarchy": "Supplier",
        "order": "NaturalOrder",
        "type": "String"
       }
      },
      "text/html": [
       "<ul>\n",
       "<li>Levels\n",
       "  <ul>\n",
       "  <li>Order Date (Orders/Order Date/Order Date)\n",
       "    <ul>\n",
       "    <li>dimension: Orders</li>\n",
       "    <li>hierarchy: Order Date</li>\n",
       "    <li>type: LocalDate</li>\n",
       "    <li>order: NaturalOrder</li>\n",
       "    </ul>\n",
       "  </li>\n",
       "  <li>Order Id (Orders/Order Id/Order Id)\n",
       "    <ul>\n",
       "    <li>dimension: Orders</li>\n",
       "    <li>hierarchy: Order Id</li>\n",
       "    <li>type: String</li>\n",
       "    <li>order: NaturalOrder</li>\n",
       "    </ul>\n",
       "  </li>\n",
       "  <li>Product Id (Orders/Product Id/Product Id)\n",
       "    <ul>\n",
       "    <li>dimension: Orders</li>\n",
       "    <li>hierarchy: Product Id</li>\n",
       "    <li>type: String</li>\n",
       "    <li>order: NaturalOrder</li>\n",
       "    </ul>\n",
       "  </li>\n",
       "  <li>ProductCategory (Products/ProductCategory/ProductCategory)\n",
       "    <ul>\n",
       "    <li>dimension: Products</li>\n",
       "    <li>hierarchy: ProductCategory</li>\n",
       "    <li>type: String</li>\n",
       "    <li>order: NaturalOrder</li>\n",
       "    </ul>\n",
       "  </li>\n",
       "  <li>ProductName (Products/ProductName/ProductName)\n",
       "    <ul>\n",
       "    <li>dimension: Products</li>\n",
       "    <li>hierarchy: ProductName</li>\n",
       "    <li>type: String</li>\n",
       "    <li>order: NaturalOrder</li>\n",
       "    </ul>\n",
       "  </li>\n",
       "  <li>Shipper Name (Orders/Shipper Name/Shipper Name)\n",
       "    <ul>\n",
       "    <li>dimension: Orders</li>\n",
       "    <li>hierarchy: Shipper Name</li>\n",
       "    <li>type: String</li>\n",
       "    <li>order: NaturalOrder</li>\n",
       "    </ul>\n",
       "  </li>\n",
       "  <li>Supplier (Products/Supplier/Supplier)\n",
       "    <ul>\n",
       "    <li>dimension: Products</li>\n",
       "    <li>hierarchy: Supplier</li>\n",
       "    <li>type: String</li>\n",
       "    <li>order: NaturalOrder</li>\n",
       "    </ul>\n",
       "  </li>\n",
       "  </ul>\n",
       "</li>\n",
       "</ul>\n"
      ],
      "text/plain": [
       "<atoti.levels.Levels at 0x132544a50>"
      ]
     },
     "execution_count": 24,
     "metadata": {
      "application/json": {
       "expanded": true,
       "root": "Levels"
      }
     },
     "output_type": "execute_result"
    }
   ],
   "source": [
    "l"
   ]
  },
  {
   "cell_type": "markdown",
   "id": "981c1739-3559-416d-ab0f-5218b0b7f627",
   "metadata": {},
   "source": [
    "#### 6.2.1.1 Create multi-level hierarchies"
   ]
  },
  {
   "cell_type": "markdown",
   "id": "fcb458d7-5293-44e5-bc41-a3eda8f661c5",
   "metadata": {},
   "source": [
    "The advantages of having a multi-level hierarchy is that we will be able to control the way the levels are grouped and structured. This will in turn, allow us to determine how users navigate through the data in the cube.  \n",
    "\n",
    "⚠️ But, we have to be careful with multi-level hierarchies because we might end up with more than one level with the same name. This means that we have to determine the exact path of the location. We will come back to this in the next section.  \n",
    "\n",
    "<hr/>"
   ]
  },
  {
   "cell_type": "markdown",
   "id": "6621decd-3922-4928-9f01-515386f7108c",
   "metadata": {},
   "source": [
    "##### 6.2.1.1.1 List levels under hierarchy manually"
   ]
  },
  {
   "cell_type": "markdown",
   "id": "88be751d-e338-417e-90f1-fb94c9de8c75",
   "metadata": {},
   "source": [
    "`cube.hierarchies` is a list. We can create new hierarchy simply by adding a new key to the list, i.e. `Product Tree` and assigning it a list of levels in the correct order:"
   ]
  },
  {
   "cell_type": "code",
   "execution_count": 25,
   "id": "153c984f-0a49-4856-a08f-761e0999074d",
   "metadata": {
    "tags": []
   },
   "outputs": [],
   "source": [
    "cube.hierarchies[\"Product Tree\"] = [\n",
    "    product_tbl[\"ProductCategory\"],\n",
    "    product_tbl[\"ProductName\"],\n",
    "]"
   ]
  },
  {
   "cell_type": "markdown",
   "id": "87fa31db-8f48-46b1-8dbc-298b1cb49e5a",
   "metadata": {},
   "source": [
    "💡 The below snippet will give the same result as the above snippet:  \n",
    "\n",
    "* `cube.hierarchies[\"Product Tree\"] = [cube.levels[\"ProductCategory\"], cube.levels[\"ProductName\"]]`  \n",
    "\n",
    "and so will the following snippet which uses the alias:  \n",
    "\n",
    "* `h[\"Product Tree\"] = [l[\"ProductCategory\"], l[\"ProductName\"]]`  \n",
    "\n",
    "\n",
    "We can build multi-level hierarchies either by referring to the table column or using a level in the cube."
   ]
  },
  {
   "cell_type": "markdown",
   "id": "9669b843-74c8-4d34-b4fd-2f21f243de28",
   "metadata": {},
   "source": [
    "##### 6.2.1.1.2 Create date bucketing hierarchy with function"
   ]
  },
  {
   "cell_type": "markdown",
   "id": "d99e3616-f338-475c-9e47-0d399918ee34",
   "metadata": {},
   "source": [
    "If we have the date value broken into different columns containing the data components such as `Year`, `Month` and `Day`, we can create multilevel hierarchy date buckets using the method listed in section 6.2.1.1.1. However, a quicker way is to use the [`create_date_hierarchy`](https://docs.atoti.io/latest/api/atoti.Cube.create_date_hierarchy.html#atoti.Cube.create_date_hierarchy) function that allow us to split a date column into different date components.  "
   ]
  },
  {
   "cell_type": "code",
   "execution_count": 26,
   "id": "879e3c23-9d0d-4b82-b8ea-cf7e67c25029",
   "metadata": {
    "tags": []
   },
   "outputs": [],
   "source": [
    "cube.create_date_hierarchy(\n",
    "    \"Date Hierarchy\",\n",
    "    column=orders_tbl[\"Order Date\"],\n",
    "    levels={\"Year\": \"yyyy\", \"Month\": \"MM\"},\n",
    ")\n",
    "h[\"Date Hierarchy\"] = {\n",
    "    **h[\"Date Hierarchy\"].levels,\n",
    "    \"Order Date\": orders_tbl[\"Order Date\"],\n",
    "}"
   ]
  },
  {
   "cell_type": "markdown",
   "id": "5a912811-92b1-4e5b-82da-7bbdfdbb2e39",
   "metadata": {},
   "source": [
    "In the above example, we created another `Order Date` level that contains the same value as `Order Date` column, instead of creating a `Day` level that contains the day value. We will use the two `Order Date` levels to demonstrate how the same data under different hierarchies may have different behaviour during aggregation."
   ]
  },
  {
   "cell_type": "code",
   "execution_count": 27,
   "id": "d1300b71-d16c-4380-8f96-4d0b569d61d4",
   "metadata": {
    "atoti": {
     "height": 288,
     "widget": {
      "columnWidths": {
       "[Measures].[Quantity Sold.SUM]": 170,
       "[Measures].[Selling Price Per Unit.SUM]": 181
      },
      "mapping": {
       "columns": [
        "ALL_MEASURES"
       ],
       "measures": [
        "[Measures].[Selling Price Per Unit.SUM]",
        "[Measures].[Quantity Sold.SUM]"
       ],
       "rows": [
        "[Orders].[Date Hierarchy].[Month] => [Orders].[Date Hierarchy].[Order Date]"
       ]
      },
      "name": "Date bucketing",
      "query": {
       "mdx": "SELECT NON EMPTY Hierarchize(Union(Descendants({[Orders].[Date Hierarchy].[AllMember]}, 2, SELF_AND_BEFORE), Descendants({[Orders].[Date Hierarchy].[AllMember].[2019].[02]}, [Orders].[Date Hierarchy].[Order Date]))) ON ROWS, NON EMPTY {[Measures].[Selling Price Per Unit.SUM], [Measures].[Quantity Sold.SUM]} ON COLUMNS FROM [Order Cube] CELL PROPERTIES VALUE, FORMATTED_VALUE, BACK_COLOR, FORE_COLOR, FONT_FLAGS",
       "updateMode": "once"
      },
      "serverKey": "default",
      "widgetKey": "pivot-table"
     }
    },
    "tags": []
   },
   "outputs": [
    {
     "data": {
      "application/vnd.atoti.widget.v0+json": {
       "sessionId": "1715104709_0I4MJO",
       "sessionLocation": {
        "https": false,
        "port": 9092
       },
       "widgetCreationCode": "session.widget"
      },
      "text/html": [
       "<img height=\"0\" width=\"0\" src=\"data:,AAAAAAAAAAAAAAAAAAAAAAAAAAAAAAAAAAAAAAAAAAAAAAAACXBIWXMAABqTAAAakwH55E62\" />"
      ],
      "text/plain": [
       "Open the notebook in JupyterLab with the Atoti JupyterLab extension enabled to build this widget."
      ]
     },
     "metadata": {},
     "output_type": "display_data"
    }
   ],
   "source": [
    "session.widget"
   ]
  },
  {
   "cell_type": "markdown",
   "id": "81c77548-a512-4788-914b-342ad0bd4fc2",
   "metadata": {},
   "source": [
    "#### 📐Exercise  \n",
    "\n",
    "Review the hierarchies again."
   ]
  },
  {
   "cell_type": "markdown",
   "id": "ef3f69db-2f11-4177-a967-cce15f77f423",
   "metadata": {
    "tags": []
   },
   "source": [
    "#### 📖 Solution  \n",
    "\n",
    "`cube.hierarchies` or `h`."
   ]
  },
  {
   "cell_type": "code",
   "execution_count": 28,
   "id": "7ddf236d-f86b-4f28-aa04-44da1043384b",
   "metadata": {},
   "outputs": [
    {
     "data": {
      "application/json": {
       "Orders": {
        "Date Hierarchy": [
         "Year",
         "Month",
         "Order Date"
        ],
        "Order Date": [
         "Order Date"
        ],
        "Order Id": [
         "Order Id"
        ],
        "Product Id": [
         "Product Id"
        ],
        "Shipper Name": [
         "Shipper Name"
        ]
       },
       "Products": {
        "Product Tree": [
         "ProductCategory",
         "ProductName"
        ],
        "ProductCategory": [
         "ProductCategory"
        ],
        "ProductName": [
         "ProductName"
        ],
        "Supplier": [
         "Supplier"
        ]
       }
      },
      "text/html": [
       "<ul>\n",
       "<li>Dimensions\n",
       "  <ul>\n",
       "  <li>Orders\n",
       "    <ul>\n",
       "    <li>Date Hierarchy\n",
       "      <ol>\n",
       "      <li>Year</li>\n",
       "      <li>Month</li>\n",
       "      <li>Order Date</li>\n",
       "      </ol>    </li>\n",
       "    <li>Order Date\n",
       "      <ol>\n",
       "      <li>Order Date</li>\n",
       "      </ol>    </li>\n",
       "    <li>Order Id\n",
       "      <ol>\n",
       "      <li>Order Id</li>\n",
       "      </ol>    </li>\n",
       "    <li>Product Id\n",
       "      <ol>\n",
       "      <li>Product Id</li>\n",
       "      </ol>    </li>\n",
       "    <li>Shipper Name\n",
       "      <ol>\n",
       "      <li>Shipper Name</li>\n",
       "      </ol>    </li>\n",
       "    </ul>\n",
       "  </li>\n",
       "  <li>Products\n",
       "    <ul>\n",
       "    <li>Product Tree\n",
       "      <ol>\n",
       "      <li>ProductCategory</li>\n",
       "      <li>ProductName</li>\n",
       "      </ol>    </li>\n",
       "    <li>ProductCategory\n",
       "      <ol>\n",
       "      <li>ProductCategory</li>\n",
       "      </ol>    </li>\n",
       "    <li>ProductName\n",
       "      <ol>\n",
       "      <li>ProductName</li>\n",
       "      </ol>    </li>\n",
       "    <li>Supplier\n",
       "      <ol>\n",
       "      <li>Supplier</li>\n",
       "      </ol>    </li>\n",
       "    </ul>\n",
       "  </li>\n",
       "  </ul>\n",
       "</li>\n",
       "</ul>\n"
      ],
      "text/plain": [
       "{('Products', 'Supplier'): <atoti.hierarchy.Hierarchy object at 0x1324f0750>, ('Orders', 'Shipper Name'): <atoti.hierarchy.Hierarchy object at 0x1324b6ad0>, ('Products', 'ProductName'): <atoti.hierarchy.Hierarchy object at 0x132456ad0>, ('Orders', 'Order Date'): <atoti.hierarchy.Hierarchy object at 0x132454c90>, ('Orders', 'Order Id'): <atoti.hierarchy.Hierarchy object at 0x1322755d0>, ('Orders', 'Product Id'): <atoti.hierarchy.Hierarchy object at 0x132274590>, ('Orders', 'Date Hierarchy'): <atoti.hierarchy.Hierarchy object at 0x1322754d0>, ('Products', 'ProductCategory'): <atoti.hierarchy.Hierarchy object at 0x132274290>, ('Products', 'Product Tree'): <atoti.hierarchy.Hierarchy object at 0x132276310>}"
      ]
     },
     "execution_count": 28,
     "metadata": {
      "application/json": {
       "expanded": true,
       "root": "Dimensions"
      }
     },
     "output_type": "execute_result"
    }
   ],
   "source": [
    "h"
   ]
  },
  {
   "cell_type": "markdown",
   "id": "025435a9-5d1d-45b1-b20b-e03bfd4d161f",
   "metadata": {
    "tags": []
   },
   "source": [
    "We can see from the tree above, we now have 2 levels with the same name `ProductName` and also another 2 levels with the name `Order Date`."
   ]
  },
  {
   "cell_type": "markdown",
   "id": "afe328f5-88ed-4c64-b6ef-129d0bc3df3b",
   "metadata": {},
   "source": [
    "#### 6.2.1.2 Access levels that exist under more than one hierarchy"
   ]
  },
  {
   "cell_type": "markdown",
   "id": "87498297-9bd8-4035-a7bf-e8e5db25b0d1",
   "metadata": {},
   "source": [
    "When we create a multi-level hierarchy using a column that has an existing level, there are now levels with the same name but under different hierarchies. Therefore, we cannot identify the level using its name as a key."
   ]
  },
  {
   "cell_type": "code",
   "execution_count": 29,
   "id": "2f8c9c3b-c276-4207-ae78-154300510bc1",
   "metadata": {
    "tags": []
   },
   "outputs": [
    {
     "ename": "KeyError",
     "evalue": "'An error occurred while calling o1290.findLevelHierarchy.\\n: com.activeviam.fwk.ActiveViamRuntimeException: Levels named `ProductName` are present in several hierarchies: [(`Products`, `ProductName`), (`Products`, `Product Tree`)]. Specify the hierarchy name (and the dimension if necessary).\\n\\tat io.atoti.api.impl.OutsideTransactionApiImpl.findLevelHierarchy(OutsideTransactionApiImpl.java:222)\\n\\tat java.base/jdk.internal.reflect.NativeMethodAccessorImpl.invoke0(Native Method)\\n\\tat java.base/jdk.internal.reflect.NativeMethodAccessorImpl.invoke(NativeMethodAccessorImpl.java:77)\\n\\tat java.base/jdk.internal.reflect.DelegatingMethodAccessorImpl.invoke(DelegatingMethodAccessorImpl.java:43)\\n\\tat java.base/java.lang.reflect.Method.invoke(Method.java:568)\\n\\tat py4j.reflection.MethodInvoker.invoke(MethodInvoker.java:244)\\n\\tat py4j.reflection.ReflectionEngine.invoke(ReflectionEngine.java:357)\\n\\tat py4j.Gateway.invoke(Gateway.java:282)\\n\\tat py4j.commands.AbstractCommand.invokeMethod(AbstractCommand.java:132)\\n\\tat py4j.commands.CallCommand.execute(CallCommand.java:79)\\n\\tat py4j.ClientServerConnection.waitForCommands(ClientServerConnection.java:182)\\n\\tat py4j.ClientServerConnection.run(ClientServerConnection.java:106)\\n\\tat java.base/java.lang.Thread.run(Thread.java:842)\\n'",
     "output_type": "error",
     "traceback": [
      "\u001b[0;31m---------------------------------------------------------------------------\u001b[0m",
      "\u001b[0;31mKeyError\u001b[0m                                  Traceback (most recent call last)",
      "Cell \u001b[0;32mIn[29], line 1\u001b[0m\n\u001b[0;32m----> 1\u001b[0m \u001b[43ml\u001b[49m\u001b[43m[\u001b[49m\u001b[38;5;124;43m\"\u001b[39;49m\u001b[38;5;124;43mProductName\u001b[39;49m\u001b[38;5;124;43m\"\u001b[39;49m\u001b[43m]\u001b[49m\n",
      "File \u001b[0;32m~/Library/Caches/pypoetry/virtualenvs/notebooks-eqPJ-FNi-py3.11/lib/python3.11/site-packages/pydantic/validate_call_decorator.py:59\u001b[0m, in \u001b[0;36mvalidate_call.<locals>.validate.<locals>.wrapper_function\u001b[0;34m(*args, **kwargs)\u001b[0m\n\u001b[1;32m     57\u001b[0m \u001b[38;5;129m@functools\u001b[39m\u001b[38;5;241m.\u001b[39mwraps(function)\n\u001b[1;32m     58\u001b[0m \u001b[38;5;28;01mdef\u001b[39;00m \u001b[38;5;21mwrapper_function\u001b[39m(\u001b[38;5;241m*\u001b[39margs, \u001b[38;5;241m*\u001b[39m\u001b[38;5;241m*\u001b[39mkwargs):\n\u001b[0;32m---> 59\u001b[0m     \u001b[38;5;28;01mreturn\u001b[39;00m \u001b[43mvalidate_call_wrapper\u001b[49m\u001b[43m(\u001b[49m\u001b[38;5;241;43m*\u001b[39;49m\u001b[43margs\u001b[49m\u001b[43m,\u001b[49m\u001b[43m \u001b[49m\u001b[38;5;241;43m*\u001b[39;49m\u001b[38;5;241;43m*\u001b[39;49m\u001b[43mkwargs\u001b[49m\u001b[43m)\u001b[49m\n",
      "File \u001b[0;32m~/Library/Caches/pypoetry/virtualenvs/notebooks-eqPJ-FNi-py3.11/lib/python3.11/site-packages/pydantic/_internal/_validate_call.py:81\u001b[0m, in \u001b[0;36mValidateCallWrapper.__call__\u001b[0;34m(self, *args, **kwargs)\u001b[0m\n\u001b[1;32m     80\u001b[0m \u001b[38;5;28;01mdef\u001b[39;00m \u001b[38;5;21m__call__\u001b[39m(\u001b[38;5;28mself\u001b[39m, \u001b[38;5;241m*\u001b[39margs: Any, \u001b[38;5;241m*\u001b[39m\u001b[38;5;241m*\u001b[39mkwargs: Any) \u001b[38;5;241m-\u001b[39m\u001b[38;5;241m>\u001b[39m Any:\n\u001b[0;32m---> 81\u001b[0m     res \u001b[38;5;241m=\u001b[39m \u001b[38;5;28mself\u001b[39m\u001b[38;5;241m.\u001b[39m__pydantic_validator__\u001b[38;5;241m.\u001b[39mvalidate_python(pydantic_core\u001b[38;5;241m.\u001b[39mArgsKwargs(args, kwargs))\n\u001b[1;32m     82\u001b[0m     \u001b[38;5;28;01mif\u001b[39;00m \u001b[38;5;28mself\u001b[39m\u001b[38;5;241m.\u001b[39m__return_pydantic_validator__:\n\u001b[1;32m     83\u001b[0m         \u001b[38;5;28;01mreturn\u001b[39;00m \u001b[38;5;28mself\u001b[39m\u001b[38;5;241m.\u001b[39m__return_pydantic_validator__(res)\n",
      "File \u001b[0;32m~/Library/Caches/pypoetry/virtualenvs/notebooks-eqPJ-FNi-py3.11/lib/python3.11/site-packages/atoti_core/base_levels.py:51\u001b[0m, in \u001b[0;36mBaseLevels.__getitem__\u001b[0;34m(self, key)\u001b[0m\n\u001b[1;32m     49\u001b[0m \u001b[38;5;250m\u001b[39m\u001b[38;5;124;03m\"\"\"Return the level with the given key.\"\"\"\u001b[39;00m\n\u001b[1;32m     50\u001b[0m \u001b[38;5;28;01mif\u001b[39;00m \u001b[38;5;28misinstance\u001b[39m(key, \u001b[38;5;28mstr\u001b[39m):\n\u001b[0;32m---> 51\u001b[0m     \u001b[38;5;28;01mreturn\u001b[39;00m \u001b[38;5;28;43mself\u001b[39;49m\u001b[38;5;241;43m.\u001b[39;49m\u001b[43m_find_level\u001b[49m\u001b[43m(\u001b[49m\u001b[43mkey\u001b[49m\u001b[43m)\u001b[49m\n\u001b[1;32m     53\u001b[0m \u001b[38;5;28;01mif\u001b[39;00m \u001b[38;5;28mlen\u001b[39m(key) \u001b[38;5;241m==\u001b[39m \u001b[38;5;241m2\u001b[39m:  \u001b[38;5;66;03m# noqa: PLR2004\u001b[39;00m\n\u001b[1;32m     54\u001b[0m     \u001b[38;5;28;01mreturn\u001b[39;00m \u001b[38;5;28mself\u001b[39m\u001b[38;5;241m.\u001b[39m_find_level(key[\u001b[38;5;241m1\u001b[39m], hierarchy_name\u001b[38;5;241m=\u001b[39mkey[\u001b[38;5;241m0\u001b[39m])\n",
      "File \u001b[0;32m~/Library/Caches/pypoetry/virtualenvs/notebooks-eqPJ-FNi-py3.11/lib/python3.11/site-packages/atoti/levels.py:42\u001b[0m, in \u001b[0;36mLevels._find_level\u001b[0;34m(self, level_name, dimension_name, hierarchy_name)\u001b[0m\n\u001b[1;32m     35\u001b[0m     hierarchy_argument \u001b[38;5;241m=\u001b[39m \u001b[38;5;28mself\u001b[39m\u001b[38;5;241m.\u001b[39m_hierarchies\u001b[38;5;241m.\u001b[39m_java_api\u001b[38;5;241m.\u001b[39mfind_level_hierarchy(\n\u001b[1;32m     36\u001b[0m         level_name,\n\u001b[1;32m     37\u001b[0m         cube_name\u001b[38;5;241m=\u001b[39m\u001b[38;5;28mself\u001b[39m\u001b[38;5;241m.\u001b[39m_hierarchies\u001b[38;5;241m.\u001b[39m_cube_name,\n\u001b[1;32m     38\u001b[0m         dimension_name\u001b[38;5;241m=\u001b[39mdimension_name,\n\u001b[1;32m     39\u001b[0m         hierarchy_name\u001b[38;5;241m=\u001b[39mhierarchy_name,\n\u001b[1;32m     40\u001b[0m     )\n\u001b[1;32m     41\u001b[0m \u001b[38;5;28;01mexcept\u001b[39;00m Py4JError \u001b[38;5;28;01mas\u001b[39;00m error:\n\u001b[0;32m---> 42\u001b[0m     \u001b[38;5;28;01mraise\u001b[39;00m \u001b[38;5;167;01mKeyError\u001b[39;00m(\u001b[38;5;28mstr\u001b[39m(error)) \u001b[38;5;28;01mfrom\u001b[39;00m \u001b[38;5;28;01mNone\u001b[39;00m\n\u001b[1;32m     43\u001b[0m hierarchy \u001b[38;5;241m=\u001b[39m \u001b[38;5;28mself\u001b[39m\u001b[38;5;241m.\u001b[39m_hierarchies\u001b[38;5;241m.\u001b[39m_create_hierarchy_from_arguments(\n\u001b[1;32m     44\u001b[0m     hierarchy_argument\n\u001b[1;32m     45\u001b[0m )\n\u001b[1;32m     46\u001b[0m \u001b[38;5;28;01mreturn\u001b[39;00m hierarchy\u001b[38;5;241m.\u001b[39mlevels[level_name]\n",
      "\u001b[0;31mKeyError\u001b[0m: 'An error occurred while calling o1290.findLevelHierarchy.\\n: com.activeviam.fwk.ActiveViamRuntimeException: Levels named `ProductName` are present in several hierarchies: [(`Products`, `ProductName`), (`Products`, `Product Tree`)]. Specify the hierarchy name (and the dimension if necessary).\\n\\tat io.atoti.api.impl.OutsideTransactionApiImpl.findLevelHierarchy(OutsideTransactionApiImpl.java:222)\\n\\tat java.base/jdk.internal.reflect.NativeMethodAccessorImpl.invoke0(Native Method)\\n\\tat java.base/jdk.internal.reflect.NativeMethodAccessorImpl.invoke(NativeMethodAccessorImpl.java:77)\\n\\tat java.base/jdk.internal.reflect.DelegatingMethodAccessorImpl.invoke(DelegatingMethodAccessorImpl.java:43)\\n\\tat java.base/java.lang.reflect.Method.invoke(Method.java:568)\\n\\tat py4j.reflection.MethodInvoker.invoke(MethodInvoker.java:244)\\n\\tat py4j.reflection.ReflectionEngine.invoke(ReflectionEngine.java:357)\\n\\tat py4j.Gateway.invoke(Gateway.java:282)\\n\\tat py4j.commands.AbstractCommand.invokeMethod(AbstractCommand.java:132)\\n\\tat py4j.commands.CallCommand.execute(CallCommand.java:79)\\n\\tat py4j.ClientServerConnection.waitForCommands(ClientServerConnection.java:182)\\n\\tat py4j.ClientServerConnection.run(ClientServerConnection.java:106)\\n\\tat java.base/java.lang.Thread.run(Thread.java:842)\\n'"
     ]
    }
   ],
   "source": [
    "l[\"ProductName\"]"
   ]
  },
  {
   "cell_type": "markdown",
   "id": "a909d43a-22d0-4961-9708-039132b9b6b6",
   "metadata": {
    "tags": []
   },
   "source": [
    "Although the two levels of `ProductName` originated from the same data column, we have go through different hierarchy (sometimes different dimension) to reach each of them. The application will not know from which hierarchy it should access the level from.  \n",
    "\n",
    "<img src=\"https://data.atoti.io/atoti-academy/images/introduction/6_locate_level.png\" width=\"800px\" />\n",
    "\n",
    "As seen in the diagram above, to help us identify the exact level that we are targeting, we should indicate the path to the level as a tuple that comprises of __`(dimension, Hierarchy, level)`__."
   ]
  },
  {
   "cell_type": "code",
   "execution_count": 30,
   "id": "2f3df171-cc0b-48b7-94df-4bd4da058d7e",
   "metadata": {
    "tags": []
   },
   "outputs": [
    {
     "data": {
      "application/json": {
       "dimension": "Products",
       "hierarchy": "Product Tree",
       "order": "NaturalOrder",
       "type": "String"
      },
      "text/html": [
       "<ul>\n",
       "<li>ProductName\n",
       "  <ul>\n",
       "  <li>dimension: Products</li>\n",
       "  <li>hierarchy: Product Tree</li>\n",
       "  <li>type: String</li>\n",
       "  <li>order: NaturalOrder</li>\n",
       "  </ul>\n",
       "</li>\n",
       "</ul>\n"
      ],
      "text/plain": [
       "<atoti.level.Level at 0x132ab4c90>"
      ]
     },
     "execution_count": 30,
     "metadata": {
      "application/json": {
       "expanded": true,
       "root": "ProductName"
      }
     },
     "output_type": "execute_result"
    }
   ],
   "source": [
    "# ProductName under the multi-level hierarchy that we just created\n",
    "l[(\"Products\", \"Product Tree\", \"ProductName\")]"
   ]
  },
  {
   "cell_type": "markdown",
   "id": "162433be-7a64-4bfd-850e-4b01ed59fa8a",
   "metadata": {},
   "source": [
    "We will see in Section 6.2.2 later on, how understanding the hierarchies and levels will help us in crafting our measure definitions.  "
   ]
  },
  {
   "cell_type": "markdown",
   "id": "45005377-6194-4f98-8b4c-ee3ecc51b207",
   "metadata": {},
   "source": [
    "#### 📐Exercise  \n",
    "\n",
    "Try accessing the other level named `ProductName` under (`Products`, `ProductName`)."
   ]
  },
  {
   "cell_type": "markdown",
   "id": "aa20261e-829f-4543-9545-076fd43f3d31",
   "metadata": {},
   "source": [
    "#### 📖 Solution\n",
    "\n",
    "`cube.levels[(\"Products\", \"ProductName\", \"ProductName\")]`\n",
    "\n",
    "or \n",
    "\n",
    "`l[(\"Products\", \"ProductName\", \"ProductName\")]`"
   ]
  },
  {
   "cell_type": "code",
   "execution_count": 31,
   "id": "ee00d34f-1753-4fd5-b28b-f34135c7c2c5",
   "metadata": {},
   "outputs": [
    {
     "data": {
      "application/json": {
       "dimension": "Products",
       "hierarchy": "ProductName",
       "order": "NaturalOrder",
       "type": "String"
      },
      "text/html": [
       "<ul>\n",
       "<li>ProductName\n",
       "  <ul>\n",
       "  <li>dimension: Products</li>\n",
       "  <li>hierarchy: ProductName</li>\n",
       "  <li>type: String</li>\n",
       "  <li>order: NaturalOrder</li>\n",
       "  </ul>\n",
       "</li>\n",
       "</ul>\n"
      ],
      "text/plain": [
       "<atoti.level.Level at 0x132ad3c50>"
      ]
     },
     "execution_count": 31,
     "metadata": {
      "application/json": {
       "expanded": true,
       "root": "ProductName"
      }
     },
     "output_type": "execute_result"
    }
   ],
   "source": [
    "l[(\"Products\", \"ProductName\", \"ProductName\")]"
   ]
  },
  {
   "cell_type": "markdown",
   "id": "6bd66eff-deec-4dda-be40-f0a4cecd5edb",
   "metadata": {
    "tags": []
   },
   "source": [
    "#### 6.2.1.3 Single-level vs multi-level hierarchies\n",
    "\n",
    "To understand the difference between the two, we are going to jump ahead to visualization to explore the data.  "
   ]
  },
  {
   "cell_type": "markdown",
   "id": "6379c268-15c5-4e11-a65f-ef5efa662100",
   "metadata": {},
   "source": [
    "##### 6.2.1.3.1 Single-level hierarchies  \n",
    "\n",
    "Let's looks at the data with single-level hierarchies first.  "
   ]
  },
  {
   "cell_type": "code",
   "execution_count": 32,
   "id": "3792ce21-37be-4e71-b23a-8a5f7b845fb4",
   "metadata": {
    "atoti": {
     "widget": {
      "columnWidths": {
       "[Measures].[contributors.COUNT]": 140,
       "[Products].[Product Tree].[ProductCategory]": 122,
       "[Products].[ProductName].[ProductName]": 209
      },
      "mapping": {
       "columns": [
        "ALL_MEASURES"
       ],
       "measures": [
        "[Measures].[contributors.COUNT]"
       ],
       "rows": [
        "[Products].[Product Tree].[ProductCategory]",
        "[Products].[ProductName].[ProductName]"
       ]
      },
      "query": {
       "mdx": "SELECT NON EMPTY {[Measures].[contributors.COUNT]} ON COLUMNS, NON EMPTY Crossjoin(Hierarchize(Descendants({[Products].[Product Tree].[ALL].[AllMember]}, 1, SELF_AND_BEFORE)), Hierarchize(Descendants({[Products].[ProductName].[ALL].[AllMember]}, 1, SELF_AND_BEFORE))) ON ROWS FROM [Order Cube] CELL PROPERTIES VALUE, FORMATTED_VALUE, BACK_COLOR, FORE_COLOR, FONT_FLAGS",
       "updateMode": "once"
      },
      "serverKey": "default",
      "widgetKey": "pivot-table"
     }
    },
    "tags": []
   },
   "outputs": [
    {
     "data": {
      "application/vnd.atoti.widget.v0+json": {
       "sessionId": "1715104709_0I4MJO",
       "sessionLocation": {
        "https": false,
        "port": 9092
       },
       "widgetCreationCode": "session.widget"
      },
      "text/html": [
       "<img height=\"0\" width=\"0\" src=\"data:,AAAAAAAAAAAAAAAAAAAAAAAAAAAAAAAAAAAAAAAAAAAAAAAACXBIWXMAABqTAAAakwH55E62\" />"
      ],
      "text/plain": [
       "Open the notebook in JupyterLab with the Atoti JupyterLab extension enabled to build this widget."
      ]
     },
     "metadata": {},
     "output_type": "display_data"
    }
   ],
   "source": [
    "session.widget"
   ]
  },
  {
   "cell_type": "markdown",
   "id": "46e358b4-7077-458f-89d7-1394f2305355",
   "metadata": {},
   "source": [
    "With single-level hierarchies, we have to add each required levels individually. This gives users the flexibility in the ordering of the levels they want to see. We can easily switch the query order from `ProductName`→`ProductCategory` to the reverse `ProductCategory`→`ProductName` using the Atoti JupyterLab extension on the right:  \n",
    "\n",
    "<img src=\"https://data.atoti.io/atoti-academy/images/introduction/6_Atoti_extension.png\" />"
   ]
  },
  {
   "cell_type": "markdown",
   "id": "6fc67351-1db3-437d-b596-5c578da9e58d",
   "metadata": {},
   "source": [
    "💡`contributors.COUNT` returns the number of underlying facts (or rows of data) contributing to the corresponding level. "
   ]
  },
  {
   "cell_type": "markdown",
   "id": "3499c662-98cc-47d8-b7c7-b707d237370b",
   "metadata": {},
   "source": [
    "##### 6.2.1.3.2 Multi-level hierarchies\n",
    "\n",
    "In the below table, we added the hierarchy `Product Tree` to the table. The top displayed level is `ProductCategory` and it allows us to drill-down to the `ProductName` level as per the order we defined in our list above. Users cannot insert any levels in between the levels we have defined."
   ]
  },
  {
   "cell_type": "code",
   "execution_count": 33,
   "id": "2a815328-4772-44cc-90e8-905ee64eb134",
   "metadata": {
    "atoti": {
     "height": 318,
     "widget": {
      "columnWidths": {
       "[Measures].[contributors.COUNT]": 131,
       "[Products].[Product Tree].[ProductName]": 194
      },
      "mapping": {
       "columns": [
        "ALL_MEASURES"
       ],
       "measures": [
        "[Measures].[contributors.COUNT]"
       ],
       "rows": [
        "[Products].[Product Tree].[ProductCategory]"
       ]
      },
      "name": "Multi-level hierarchies",
      "query": {
       "mdx": "SELECT NON EMPTY {[Measures].[contributors.COUNT]} ON COLUMNS, NON EMPTY Hierarchize(Descendants({[Products].[Product Tree].[ALL].[AllMember]}, 1, SELF_AND_BEFORE)) ON ROWS FROM [Order Cube] CELL PROPERTIES VALUE, FORMATTED_VALUE, BACK_COLOR, FORE_COLOR, FONT_FLAGS",
       "updateMode": "once"
      },
      "serverKey": "default",
      "widgetKey": "pivot-table"
     }
    },
    "tags": []
   },
   "outputs": [
    {
     "data": {
      "application/vnd.atoti.widget.v0+json": {
       "sessionId": "1715104709_0I4MJO",
       "sessionLocation": {
        "https": false,
        "port": 9092
       },
       "widgetCreationCode": "session.widget"
      },
      "text/html": [
       "<img height=\"0\" width=\"0\" src=\"data:,AAAAAAAAAAAAAAAAAAAAAAAAAAAAAAAAAAAAAAAAAAAAAAAACXBIWXMAABqTAAAakwH55E62\" />"
      ],
      "text/plain": [
       "Open the notebook in JupyterLab with the Atoti JupyterLab extension enabled to build this widget."
      ]
     },
     "metadata": {},
     "output_type": "display_data"
    }
   ],
   "source": [
    "session.widget"
   ]
  },
  {
   "cell_type": "markdown",
   "id": "6b2a2c56-5239-48f3-9b99-bd08234c28b9",
   "metadata": {},
   "source": [
    "With multi-level hierarchies, the order of querying is pre-defined. It helps users to follow through the relationship of facts."
   ]
  },
  {
   "cell_type": "markdown",
   "id": "72876bd5-d25e-42c9-a7f0-e683089ae0b1",
   "metadata": {},
   "source": [
    "### 6.2.2 Measures"
   ]
  },
  {
   "cell_type": "markdown",
   "id": "83457229-51f7-4c3a-adbc-3b617e102d5c",
   "metadata": {},
   "source": [
    "Measures are numerical data/metrics that are analyzed and compared across dimension in order to gain insights and make informed decisions.  \n",
    "\n",
    "Below are the measures that are automatically created during cube creation. For each numerical column in the base table, corresponding `MEAN` and `SUM` measures are created. We will have to create measures for referenced table where necessary.   "
   ]
  },
  {
   "cell_type": "code",
   "execution_count": 34,
   "id": "39f284ef-7bcb-4cbb-9f18-47b996a8759b",
   "metadata": {
    "tags": []
   },
   "outputs": [
    {
     "data": {
      "application/json": {
       "Quantity Sold.MEAN": {
        "formatter": "DOUBLE[#,###.00]"
       },
       "Quantity Sold.SUM": {
        "formatter": "INT[#,###]"
       },
       "Selling Price Per Unit.MEAN": {
        "formatter": "DOUBLE[#,###.00]"
       },
       "Selling Price Per Unit.SUM": {
        "formatter": "DOUBLE[#,###.00]"
       },
       "contributors.COUNT": {
        "formatter": "INT[#,###]"
       }
      },
      "text/html": [
       "<ul>\n",
       "<li>Measures\n",
       "  <ul>\n",
       "  <li>Quantity Sold.MEAN\n",
       "    <ul>\n",
       "    <li>formatter: DOUBLE[#,###.00]</li>\n",
       "    </ul>\n",
       "  </li>\n",
       "  <li>Quantity Sold.SUM\n",
       "    <ul>\n",
       "    <li>formatter: INT[#,###]</li>\n",
       "    </ul>\n",
       "  </li>\n",
       "  <li>Selling Price Per Unit.MEAN\n",
       "    <ul>\n",
       "    <li>formatter: DOUBLE[#,###.00]</li>\n",
       "    </ul>\n",
       "  </li>\n",
       "  <li>Selling Price Per Unit.SUM\n",
       "    <ul>\n",
       "    <li>formatter: DOUBLE[#,###.00]</li>\n",
       "    </ul>\n",
       "  </li>\n",
       "  <li>contributors.COUNT\n",
       "    <ul>\n",
       "    <li>formatter: INT[#,###]</li>\n",
       "    </ul>\n",
       "  </li>\n",
       "  </ul>\n",
       "</li>\n",
       "</ul>\n"
      ],
      "text/plain": [
       "{'contributors.COUNT': <atoti.measure.Measure object at 0x132ad1050>, 'update.TIMESTAMP': <atoti.measure.Measure object at 0x132ad2f50>, 'Quantity Sold.MEAN': <atoti.measure.Measure object at 0x132ad26d0>, 'Quantity Sold.SUM': <atoti.measure.Measure object at 0x132ad2210>, 'Selling Price Per Unit.MEAN': <atoti.measure.Measure object at 0x132ad2910>, 'Selling Price Per Unit.SUM': <atoti.measure.Measure object at 0x132ad0b90>}"
      ]
     },
     "execution_count": 34,
     "metadata": {
      "application/json": {
       "expanded": false,
       "root": "Measures"
      }
     },
     "output_type": "execute_result"
    }
   ],
   "source": [
    "cube.measures"
   ]
  },
  {
   "cell_type": "markdown",
   "id": "d798a594-7fe6-404b-b857-196b8a87ea8b",
   "metadata": {},
   "source": [
    "Atoti has a range of [aggregation functions](https://docs.atoti.io/latest/api/atoti.agg.html). Let's spend some time to understand measures and what we can do with them:   \n",
    "\n",
    "- [6.2.2.1 Create measures from table](#6.2.2.1.-Create-measures-from-table)\n",
    "- [6.2.2.2 Chain up measures](#6.2.2.2-Chain-up-measures)\n",
    "- [6.2.2.3 Prevent aggregation above a given level](#6.2.2.3-Prevent-aggregation-above-a-given-level)\n",
    "- [6.2.2.4 Understand measure scope](#6.2.2.4-Understand-measure-scope)\n",
    "- [6.2.2.5 Format measures](#6.2.2.5-Format-measures)"
   ]
  },
  {
   "cell_type": "markdown",
   "id": "800b0e15-9497-4338-b166-30c981518271",
   "metadata": {},
   "source": [
    "#### 6.2.2.1 Create measures from table"
   ]
  },
  {
   "cell_type": "markdown",
   "id": "e74fc624-de2c-4295-8cc6-4c95e0be2d34",
   "metadata": {},
   "source": [
    "`cube.measures` is a list of measure. We can create a new measure by adding a new key to the list, e.g. \n",
    "- `Selling Price Per Unit`,  \n",
    "- `PurchasingPricePerUnit`\n",
    "- `PurchasingPricePerUnit.SUM` \n",
    "- `PurchasingPricePerUnit.MEAN` \n",
    "in the below examples and formulate their definitions.  \n",
    "\n",
    "💡 Note that `Selling Price Per Unit.SUM` and `Selling Price Per Unit.MEAN` were automatically created during cube creation."
   ]
  },
  {
   "cell_type": "code",
   "execution_count": 35,
   "id": "70fb556b-8cfc-4eac-95c3-7beefa080204",
   "metadata": {
    "tags": []
   },
   "outputs": [],
   "source": [
    "# single value\n",
    "cube.measures[\"Selling Price Per Unit\"] = tt.agg.single_value(\n",
    "    orders_tbl[\"Selling Price Per Unit\"]\n",
    ")\n",
    "# single value\n",
    "cube.measures[\"PurchasingPricePerUnit\"] = tt.agg.single_value(\n",
    "    product_tbl[\"PurchasingPricePerUnit\"]\n",
    ")\n",
    "# summation\n",
    "cube.measures[\"PurchasingPricePerUnit.SUM\"] = tt.agg.sum(\n",
    "    product_tbl[\"PurchasingPricePerUnit\"]\n",
    ")\n",
    "# average\n",
    "cube.measures[\"PurchasingPricePerUnit.MEAN\"] = tt.agg.mean(\n",
    "    product_tbl[\"PurchasingPricePerUnit\"]\n",
    ")"
   ]
  },
  {
   "cell_type": "markdown",
   "id": "69cd45dc-3e65-4d82-b54e-81a1ebcd03cb",
   "metadata": {},
   "source": [
    "💡We can alternatively use the alias `m` instead of `cube.measures` for the above."
   ]
  },
  {
   "cell_type": "markdown",
   "id": "45de3fb5-4386-4ba9-986e-28519323053c",
   "metadata": {},
   "source": [
    "`PurchasingPricePerUnit.SUM` and `PurchasingPricePerUnit.MEAN` is similar to the `SUM` and `MEAN` measures that are automatically created by the cube. It aggregates the value along the queried levels. Refer to the type of [aggregation functions](https://docs.atoti.io/latest/api/atoti.agg.html) available from [Atoti documentation](https://docs.atoti.io/latest/index.html).\n",
    "\n",
    "As for the measures `Selling Price Per Unit` and `PurchasingPricePerUnit` created using `single_value`, we will understand their values through the next few examples."
   ]
  },
  {
   "cell_type": "markdown",
   "id": "110dfa98-2f64-4e42-b36b-bcaf15fb40bc",
   "metadata": {},
   "source": [
    "##### 6.2.2.1.1 Single Values"
   ]
  },
  {
   "cell_type": "code",
   "execution_count": 36,
   "id": "2b8b3974-186b-481a-a679-d158d782f5a4",
   "metadata": {
    "atoti": {
     "widget": {
      "columnWidths": {
       "[Measures].[PurchasingPricePerUnit]": 159,
       "[Measures].[Selling Price Per Unit]": 144,
       "[Products].[Product Tree].[ProductCategory]": 122,
       "[Products].[ProductName].[ProductName]": 209
      },
      "mapping": {
       "columns": [
        "ALL_MEASURES"
       ],
       "measures": [
        "[Measures].[Selling Price Per Unit]",
        "[Measures].[PurchasingPricePerUnit]"
       ],
       "rows": [
        "[Products].[Product Tree].[ProductCategory]",
        "[Products].[ProductName].[ProductName]"
       ]
      },
      "query": {
       "mdx": "SELECT NON EMPTY Crossjoin(Hierarchize(Descendants({[Products].[Product Tree].[ALL].[AllMember]}, 1, SELF_AND_BEFORE)), Hierarchize(Descendants({[Products].[ProductName].[ALL].[AllMember]}, 1, SELF_AND_BEFORE))) ON ROWS, NON EMPTY {[Measures].[Selling Price Per Unit], [Measures].[PurchasingPricePerUnit]} ON COLUMNS FROM [Order Cube] CELL PROPERTIES VALUE, FORMATTED_VALUE, BACK_COLOR, FORE_COLOR, FONT_FLAGS",
       "updateMode": "once"
      },
      "serverKey": "default",
      "widgetKey": "pivot-table"
     }
    },
    "tags": []
   },
   "outputs": [
    {
     "data": {
      "application/vnd.atoti.widget.v0+json": {
       "sessionId": "1715104709_0I4MJO",
       "sessionLocation": {
        "https": false,
        "port": 9092
       },
       "widgetCreationCode": "session.widget"
      },
      "text/html": [
       "<img height=\"0\" width=\"0\" src=\"data:,AAAAAAAAAAAAAAAAAAAAAAAAAAAAAAAAAAAAAAAAAAAAAAAACXBIWXMAABqTAAAakwH55E62\" />"
      ],
      "text/plain": [
       "Open the notebook in JupyterLab with the Atoti JupyterLab extension enabled to build this widget."
      ]
     },
     "metadata": {},
     "output_type": "display_data"
    }
   ],
   "source": [
    "session.widget"
   ]
  },
  {
   "cell_type": "markdown",
   "id": "b57480ab-ad99-423b-b4d6-daca323199b6",
   "metadata": {},
   "source": [
    "The `single_value` function will only return a value when all the members on the same level has the same value. In the above visualization, we see only a few products were returned, such as the `ProductName` member \"Chai\", returned for the \"Beverages\" product category. This is because the underlying [MDX](https://learn.microsoft.com/en-us/analysis-services/multidimensional-models/mdx/mdx-query-the-basic-query?view=asallproducts-allversions) for querying the cube uses `NON EMPTY`: \n",
    "\n",
    "The `NON EMPTY` function returns only set of tuples that are not empty. Therefore, we may have less members being displayed in the visualization than the actual number.\n",
    "\n",
    "```\n",
    "SELECT\n",
    "  NON EMPTY {\n",
    "    [Measures].[Selling Price Per Unit]\n",
    "  } ON COLUMNS,\n",
    "  NON EMPTY Crossjoin(\n",
    "    Hierarchize(\n",
    "      Descendants(\n",
    "        {\n",
    "          [Products].[ProductCategory].[ALL].[AllMember]\n",
    "        },\n",
    "        1,\n",
    "        SELF_AND_BEFORE\n",
    "      )\n",
    "    ),\n",
    "    Hierarchize(\n",
    "      Descendants(\n",
    "        {\n",
    "          [Products].[ProductName].[ALL].[AllMember]\n",
    "        },\n",
    "        1,\n",
    "        SELF_AND_BEFORE\n",
    "      )\n",
    "    )\n",
    "  ) ON ROWS\n",
    "  FROM [Order Cube]\n",
    "  CELL PROPERTIES VALUE, FORMATTED_VALUE, BACK_COLOR, FORE_COLOR, FONT_FLAGS\n",
    "```\n",
    "\n",
    "💡 A good way to verify if we are missing any members that you shouldn't is to include measures that we know will not be empty:\n",
    "\n",
    "1. Add `contributors.COUNT` measure to the query as it returns the number of underlying facts for each member.\n",
    "2. Add the summation e.g. `Selling Price Per Unit.SUM` for the intended measure as it will return the summation of the value if it exists.  "
   ]
  },
  {
   "cell_type": "code",
   "execution_count": 37,
   "id": "ccd6cc1a-d601-4267-bc22-4f6b44ef3777",
   "metadata": {
    "atoti": {
     "widget": {
      "columnWidths": {
       "[Measures].[contributors.COUNT]": 140
      },
      "mapping": {
       "columns": [
        "ALL_MEASURES"
       ],
       "measures": [
        "[Measures].[contributors.COUNT]"
       ],
       "rows": [
        "[Products].[Product Tree].[ProductCategory]",
        "[Products].[ProductName].[ProductName]"
       ]
      },
      "name": "Displaying available member with contributors.COUNT",
      "query": {
       "mdx": "SELECT NON EMPTY Crossjoin(Hierarchize(Descendants({[Products].[Product Tree].[ALL].[AllMember]}, 1, SELF_AND_BEFORE)), Hierarchize(Descendants({[Products].[ProductName].[ALL].[AllMember]}, 1, SELF_AND_BEFORE))) ON ROWS, NON EMPTY {[Measures].[contributors.COUNT]} ON COLUMNS FROM [Order Cube] CELL PROPERTIES VALUE, FORMATTED_VALUE, BACK_COLOR, FORE_COLOR, FONT_FLAGS",
       "updateMode": "once"
      },
      "serverKey": "default",
      "widgetKey": "pivot-table"
     }
    },
    "tags": []
   },
   "outputs": [
    {
     "data": {
      "application/vnd.atoti.widget.v0+json": {
       "sessionId": "1715104709_0I4MJO",
       "sessionLocation": {
        "https": false,
        "port": 9092
       },
       "widgetCreationCode": "session.widget"
      },
      "text/html": [
       "<img height=\"0\" width=\"0\" src=\"data:,AAAAAAAAAAAAAAAAAAAAAAAAAAAAAAAAAAAAAAAAAAAAAAAACXBIWXMAABqTAAAakwH55E62\" />"
      ],
      "text/plain": [
       "Open the notebook in JupyterLab with the Atoti JupyterLab extension enabled to build this widget."
      ]
     },
     "metadata": {},
     "output_type": "display_data"
    }
   ],
   "source": [
    "session.widget"
   ]
  },
  {
   "cell_type": "markdown",
   "id": "92e9665c-fe51-41dc-8afd-c5f419f3f09d",
   "metadata": {},
   "source": [
    "Let's try to understand why `Selling Price Per Unit` is not returning any value while its corresponding summation/mean has value.  "
   ]
  },
  {
   "cell_type": "code",
   "execution_count": 38,
   "id": "3ef498a1-5c9e-44d7-afd6-3a769dcb0d95",
   "metadata": {
    "tags": []
   },
   "outputs": [
    {
     "data": {
      "text/markdown": [
       "```mermaid\n",
       "erDiagram\n",
       "  \"Orders\" {\n",
       "    _ String PK \"Order Id\"\n",
       "    _ LocalDate \"Order Date\"\n",
       "    _ int \"Quantity Sold\"\n",
       "    _ double \"Selling Price Per Unit\"\n",
       "    _ String \"Shipper Name\"\n",
       "    _ String PK \"Product Id\"\n",
       "  }\n",
       "  \"Products\" {\n",
       "    _ String PK \"ProductId\"\n",
       "    _ String \"ProductName\"\n",
       "    _ String \"ProductCategory\"\n",
       "    _ String \"Supplier\"\n",
       "    _ float \"PurchasingPricePerUnit\"\n",
       "  }\n",
       "  \"Orders\" }o--o| \"Products\" : \"`Product Id` == `ProductId`\"\n",
       "```\n"
      ],
      "text/plain": [
       "erDiagram\n",
       "  \"Orders\" {\n",
       "    _ String PK \"Order Id\"\n",
       "    _ LocalDate \"Order Date\"\n",
       "    _ int \"Quantity Sold\"\n",
       "    _ double \"Selling Price Per Unit\"\n",
       "    _ String \"Shipper Name\"\n",
       "    _ String PK \"Product Id\"\n",
       "  }\n",
       "  \"Products\" {\n",
       "    _ String PK \"ProductId\"\n",
       "    _ String \"ProductName\"\n",
       "    _ String \"ProductCategory\"\n",
       "    _ String \"Supplier\"\n",
       "    _ float \"PurchasingPricePerUnit\"\n",
       "  }\n",
       "  \"Orders\" }o--o| \"Products\" : \"`Product Id` == `ProductId`\""
      ]
     },
     "execution_count": 38,
     "metadata": {},
     "output_type": "execute_result"
    }
   ],
   "source": [
    "session.tables.schema"
   ]
  },
  {
   "cell_type": "markdown",
   "id": "65bf0f07-37da-48d7-bc11-c3bb56a1f33e",
   "metadata": {},
   "source": [
    "From the cube schema, we can see that the keys `Order Id` and `Product Id` will help us identify unique rows within the table. Since `single_value` only returns a value when all the members have the same value, let's use the keys to investigate the underlying values.  \n",
    "\n",
    "From the previous visualization, we add `Order Id` to the query. We can skip `Product Id` since each (`ProductCategory`, `ProductName`) tuple has a unique `ProductId`."
   ]
  },
  {
   "cell_type": "code",
   "execution_count": 39,
   "id": "4384138f-c046-43f3-bee3-1857bb371c19",
   "metadata": {
    "atoti": {
     "widget": {
      "columnWidths": {
       "[Measures].[Selling Price Per Unit.MEAN]": 182,
       "[Measures].[Selling Price Per Unit.SUM]": 174,
       "[Measures].[Selling Price Per Unit]": 144,
       "[Measures].[contributors.COUNT]": 140
      },
      "mapping": {
       "columns": [
        "ALL_MEASURES"
       ],
       "measures": [
        "[Measures].[contributors.COUNT]",
        "[Measures].[Selling Price Per Unit]",
        "[Measures].[Selling Price Per Unit.MEAN]",
        "[Measures].[Selling Price Per Unit.SUM]"
       ],
       "rows": [
        "[Products].[Product Tree].[ProductCategory]",
        "[Products].[ProductName].[ProductName] => [Orders].[Order Id].[Order Id]"
       ]
      },
      "name": "Displaying available member with contributors.COUNT",
      "query": {
       "mdx": "SELECT NON EMPTY Crossjoin(Hierarchize(Descendants({[Products].[Product Tree].[ALL].[AllMember]}, 1, SELF_AND_BEFORE)), Hierarchize(Descendants({[Products].[ProductName].[ALL].[AllMember]}, 1, SELF_AND_BEFORE))) ON ROWS, NON EMPTY {[Measures].[contributors.COUNT], [Measures].[Selling Price Per Unit], [Measures].[Selling Price Per Unit.MEAN], [Measures].[Selling Price Per Unit.SUM]} ON COLUMNS FROM [Order Cube] CELL PROPERTIES VALUE, FORMATTED_VALUE, BACK_COLOR, FORE_COLOR, FONT_FLAGS",
       "updateMode": "once"
      },
      "serverKey": "default",
      "style": {
       "areTooltipsVisible": false
      },
      "widgetKey": "pivot-table"
     }
    },
    "tags": []
   },
   "outputs": [
    {
     "data": {
      "application/vnd.atoti.widget.v0+json": {
       "sessionId": "1715104709_0I4MJO",
       "sessionLocation": {
        "https": false,
        "port": 9092
       },
       "widgetCreationCode": "session.widget"
      },
      "text/html": [
       "<img height=\"0\" width=\"0\" src=\"data:,AAAAAAAAAAAAAAAAAAAAAAAAAAAAAAAAAAAAAAAAAAAAAAAACXBIWXMAABqTAAAakwH55E62\" />"
      ],
      "text/plain": [
       "Open the notebook in JupyterLab with the Atoti JupyterLab extension enabled to build this widget."
      ]
     },
     "metadata": {},
     "output_type": "display_data"
    }
   ],
   "source": [
    "session.widget"
   ]
  },
  {
   "cell_type": "markdown",
   "id": "3f68557c-035f-4815-b75d-6f36cb0e1bfb",
   "metadata": {},
   "source": [
    "**Single value**: We can see from the table above that the `Selling Price Per Unit` for each order under the `ProductName` is different, i.e. the same product sells at different prices in different orders. Hence, the single-value measure `Selling Price Per Unit` is empty for the `ProductName` level.  \n",
    "\n",
    "**Summation**: In most cases, we cannot use the summation `Selling Price Per Unit.SUM` at the subtotal level, e.g.:\n",
    "- Total profit = (Selling price - Unit Price) x Quantity Sold  \n",
    "\n",
    "**Average**: `Selling Price Per Unit.MEAN` is a good alternative to the single value if we just want the average and not the precise amount.\n",
    "\n",
    "<hr />\n",
    "\n",
    "💡 Instead of referring to the table keys, we can also perform a drillthrough on the measure to perform our investigation. \n",
    "Drillthrough allows us to see the underlying data and understand that the `Selling Price Per Unit` is different for product in different orders."
   ]
  },
  {
   "cell_type": "code",
   "execution_count": 40,
   "id": "f70877b7-ed05-4699-8cb0-5e22177be1fe",
   "metadata": {
    "atoti": {
     "height": 284,
     "widget": {
      "columnWidths": {
       "Orders.Order Id": 119,
       "Orders.Quantity Sold": 149,
       "Orders.Selling Price Per Unit": 192,
       "Products.ProductCategory": 182,
       "Products.ProductId": 141,
       "Products.ProductName": 163,
       "Products.PurchasingPricePerUnit": 219
      },
      "filters": [
       {
        "dimensionName": "Measures",
        "hierarchyName": "Measures",
        "members": [
         [
          "Selling Price Per Unit.SUM"
         ]
        ],
        "type": "members"
       },
       {
        "dimensionName": "Products",
        "hierarchyName": "Product Tree",
        "isExclusionFilter": false,
        "members": [
         [
          "AllMember",
          "Beverages",
          "Chang"
         ]
        ],
        "type": "members"
       },
       {
        "dimensionName": "Orders",
        "hierarchyName": "Product Id",
        "isExclusionFilter": false,
        "members": [
         [
          "AllMember",
          "773"
         ]
        ],
        "type": "members"
       }
      ],
      "name": "Drillthrough",
      "query": {
       "mdx": "DRILLTHROUGH SELECT FROM [Order Cube] RETURN MemberValue([Orders.Order Id]), Caption([Orders.Order Id]), MemberValue([Orders.Quantity Sold]), Caption([Orders.Quantity Sold]), MemberValue([Orders.Selling Price Per Unit]), Caption([Orders.Selling Price Per Unit]), MemberValue([Products.ProductCategory]), Caption([Products.ProductCategory]), MemberValue([Products.ProductId]), Caption([Products.ProductId]), MemberValue([Products.ProductName]), Caption([Products.ProductName]), MemberValue([Products.PurchasingPricePerUnit]), Caption([Products.PurchasingPricePerUnit]), MemberValue([Orders.Order Date]), Caption([Orders.Order Date])",
       "updateMode": "once"
      },
      "serverKey": "default",
      "style": {
       "areTooltipsVisible": true,
       "measures": {
        "Orders.Order Id": {
         "justifyContent": "right"
        },
        "Orders.Quantity Sold": {
         "justifyContent": "right"
        }
       },
       "size": "large",
       "wrapHeaders": true
      },
      "widgetKey": "drillthrough-table"
     }
    },
    "tags": []
   },
   "outputs": [
    {
     "data": {
      "application/vnd.atoti.widget.v0+json": {
       "sessionId": "1715104709_0I4MJO",
       "sessionLocation": {
        "https": false,
        "port": 9092
       },
       "widgetCreationCode": "session.widget"
      },
      "text/html": [
       "<img height=\"0\" width=\"0\" src=\"data:,AAAAAAAAAAAAAAAAAAAAAAAAAAAAAAAAAAAAAAAAAAAAAAAACXBIWXMAABqTAAAakwH55E62\" />"
      ],
      "text/plain": [
       "Open the notebook in JupyterLab with the Atoti JupyterLab extension enabled to build this widget."
      ]
     },
     "metadata": {},
     "output_type": "display_data"
    }
   ],
   "source": [
    "session.widget"
   ]
  },
  {
   "cell_type": "markdown",
   "id": "50acbf94-7eee-43ec-aaa7-98b31cce1ac5",
   "metadata": {},
   "source": [
    "In the later section, we will see how we can chain up measures such as the single-values to achieve our business metrics.  "
   ]
  },
  {
   "cell_type": "markdown",
   "id": "4617f9e0-5231-47d0-8ca7-4b30dd30d5a6",
   "metadata": {},
   "source": [
    "#### 6.2.2.2 Chain up measures"
   ]
  },
  {
   "cell_type": "markdown",
   "id": "a539ca77-20bf-418c-8fb7-b1d03d99afd0",
   "metadata": {},
   "source": [
    "We can implement a formula by chaining up measures. E.g. suppose we want to compute the profit per unit:  \n",
    "\n",
    "$$ ProfitPerUnit = SellingPricePerUnit - PurchasePricePerUnit $$"
   ]
  },
  {
   "cell_type": "markdown",
   "id": "18b3e3b9-2868-4381-b4a3-5eb1a3bd1da3",
   "metadata": {},
   "source": [
    "Below is how we formulate it in Atoti:"
   ]
  },
  {
   "cell_type": "code",
   "execution_count": 41,
   "id": "bc737d4f-863e-43dc-aa79-4618c2968885",
   "metadata": {
    "tags": []
   },
   "outputs": [],
   "source": [
    "m[\"_ProfitPerUnit (sv)\"] = m[\"Selling Price Per Unit\"] - m[\"PurchasingPricePerUnit\"]\n",
    "m[\"_ProfitPerUnit (sum)\"] = (\n",
    "    m[\"Selling Price Per Unit.SUM\"] - m[\"PurchasingPricePerUnit.SUM\"]\n",
    ")\n",
    "m[\"_ProfitPerUnit (mean)\"] = (\n",
    "    m[\"Selling Price Per Unit.MEAN\"] - m[\"PurchasingPricePerUnit.MEAN\"]\n",
    ")"
   ]
  },
  {
   "cell_type": "markdown",
   "id": "c8f15ee9-e4d6-468c-8fe7-ebc9741ade4a",
   "metadata": {},
   "source": [
    "At the `Order Id` level, we get the same value for all 3 measures. However, we get different values for each of them at the sub-total and grandtotal levels. So, which is the correct measure we should use?"
   ]
  },
  {
   "cell_type": "code",
   "execution_count": 42,
   "id": "27e7f68f-614a-45df-b0d7-fe2b7723fb6c",
   "metadata": {
    "atoti": {
     "widget": {
      "columnWidths": {
       "[Measures].[PurchasingPricePerUnit]": 159,
       "[Measures].[Selling Price Per Unit.SUM]": 161,
       "[Measures].[Selling Price Per Unit]": 144,
       "[Measures].[_ProfitPerUnit (mean)]": 148,
       "[Measures].[_ProfitPerUnit (sum)]": 141,
       "[Measures].[_ProfitPerUnit (sv)]": 130,
       "[Products].[Product Tree].[ProductCategory]": 122,
       "[Products].[Product Tree].[ProductName]": 227
      },
      "mapping": {
       "columns": [
        "ALL_MEASURES"
       ],
       "measures": [
        "[Measures].[Selling Price Per Unit]",
        "[Measures].[PurchasingPricePerUnit]",
        "[Measures].[_ProfitPerUnit (sv)]",
        "[Measures].[_ProfitPerUnit (sum)]",
        "[Measures].[_ProfitPerUnit (mean)]"
       ],
       "rows": [
        "[Products].[Product Tree].[ProductName] => [Orders].[Order Id].[Order Id]"
       ]
      },
      "query": {
       "mdx": "SELECT NON EMPTY {[Measures].[Selling Price Per Unit], [Measures].[PurchasingPricePerUnit], [Measures].[_ProfitPerUnit (sv)], [Measures].[_ProfitPerUnit (sum)], [Measures].[_ProfitPerUnit (mean)]} ON COLUMNS, NON EMPTY Hierarchize(Descendants({[Products].[Product Tree].[AllMember]}, 2, SELF_AND_BEFORE)) ON ROWS FROM [Order Cube] CELL PROPERTIES VALUE, FORMATTED_VALUE, BACK_COLOR, FORE_COLOR, FONT_FLAGS",
       "updateMode": "once"
      },
      "serverKey": "default",
      "widgetKey": "pivot-table"
     }
    },
    "tags": []
   },
   "outputs": [
    {
     "data": {
      "application/vnd.atoti.widget.v0+json": {
       "sessionId": "1715104709_0I4MJO",
       "sessionLocation": {
        "https": false,
        "port": 9092
       },
       "widgetCreationCode": "session.widget"
      },
      "text/html": [
       "<img height=\"0\" width=\"0\" src=\"data:,AAAAAAAAAAAAAAAAAAAAAAAAAAAAAAAAAAAAAAAAAAAAAAAACXBIWXMAABqTAAAakwH55E62\" />"
      ],
      "text/plain": [
       "Open the notebook in JupyterLab with the Atoti JupyterLab extension enabled to build this widget."
      ]
     },
     "metadata": {},
     "output_type": "display_data"
    }
   ],
   "source": [
    "session.widget"
   ]
  },
  {
   "cell_type": "markdown",
   "id": "772abd6d-f750-43e7-b2db-5387648ee53f",
   "metadata": {},
   "source": [
    "It all depends on what KPI we want to achieve:  \n",
    "- `_ProfitPerUnit (mean)` makes the most sense as it gives us the average profit per unit for the product across the orders.  \n",
    "- `_ProfitPerUnit (sv)` makes no sense as `Selling Price Per Unit` is empty at the `ProductName` level, hence the difference is the `PurchasingPricePerUnit` itself.  \n",
    "- Although `_ProfitPerUnit (sum)` is computed correctly, the value itself does not give any useful insights.  \n",
    "\n",
    "Let's correct the computation of `_ProfitPerUnit (sv)` first in the next section before continuing with our measure creations.  "
   ]
  },
  {
   "cell_type": "markdown",
   "id": "ee1eaee9-7de6-4ccc-84b3-9bf976f11e73",
   "metadata": {},
   "source": [
    "#### 6.2.2.3 Prevent aggregation above a given level"
   ]
  },
  {
   "cell_type": "markdown",
   "id": "2292cd56-a357-4592-8f2f-9f426f3e6c00",
   "metadata": {},
   "source": [
    "With respect to our dataset, it is possible that `Selling Price Per Unit` is empty at the `ProductName` level.  \n",
    "\n",
    "The most logical fix we have in this case, is to prevent the computation of the measure at the sub-total or grandtotal levels, which in this case, are ProductName and ProductCategory levels. This is the same as saying that we want to prevent aggregation of the measures for any levels above the `Order Id` level.  \n",
    "\n",
    "We achieve this by simply checking if the `Order Id` level is available. We only return the measure value if `Order Id` is available. Otherwise, it's empty.  "
   ]
  },
  {
   "cell_type": "code",
   "execution_count": 43,
   "id": "78fa0caf-d36d-4d91-bbb8-906fae638927",
   "metadata": {
    "tags": []
   },
   "outputs": [],
   "source": [
    "m[\"ProfitPerUnit (sv)\"] = tt.where(\n",
    "    l[\"Order Id\"].isnull(), m[\"Selling Price Per Unit\"] - m[\"PurchasingPricePerUnit\"]\n",
    ")"
   ]
  },
  {
   "cell_type": "code",
   "execution_count": 44,
   "id": "aea68a5e-63ff-4859-8689-9f40238f7a00",
   "metadata": {
    "atoti": {
     "height": 404,
     "widget": {
      "columnWidths": {
       "[Measures].[ProfitPerUnit (sv)]": 123,
       "[Measures].[PurchasingPricePerUnit]": 146,
       "[Measures].[Selling Price Per Unit.SUM]": 179.10511779785156,
       "[Measures].[Selling Price Per Unit]": 148,
       "[Measures].[_ProfitPerUnit (mean)]": 148,
       "[Measures].[_ProfitPerUnit (sum)]": 141,
       "[Measures].[_ProfitPerUnit (sv)]": 130,
       "[Orders].[Order Id].[Order Id]": 71,
       "[Products].[Product Tree].[ProductCategory]": 122,
       "[Products].[Product Tree].[ProductName]": 194
      },
      "mapping": {
       "columns": [
        "ALL_MEASURES"
       ],
       "measures": [
        "[Measures].[_ProfitPerUnit (sum)]",
        "[Measures].[_ProfitPerUnit (mean)]",
        "[Measures].[_ProfitPerUnit (sv)]",
        "[Measures].[ProfitPerUnit (sv)]"
       ],
       "rows": [
        "[Products].[Product Tree].[ProductCategory] => [Products].[Product Tree].[ProductName] => [Orders].[Order Id].[Order Id]"
       ]
      },
      "name": "Order Id below the Product Tree level",
      "query": {
       "mdx": "SELECT NON EMPTY {[Measures].[_ProfitPerUnit (sum)], [Measures].[_ProfitPerUnit (mean)], [Measures].[_ProfitPerUnit (sv)], [Measures].[ProfitPerUnit (sv)]} ON COLUMNS, NON EMPTY Hierarchize(Union(Crossjoin(Union(Descendants({[Products].[Product Tree].[AllMember]}, 1, SELF_AND_BEFORE), Descendants({[Products].[Product Tree].[AllMember].[Beverages]}, [Products].[Product Tree].[ProductName])), [Orders].[Order Id].DefaultMember), Crossjoin([Products].[Product Tree].[ALL].[AllMember].[Beverages].[Chai], Hierarchize(Descendants({[Orders].[Order Id].[ALL].[AllMember]}, 1, SELF_AND_BEFORE))), Crossjoin([Products].[Product Tree].[ALL].[AllMember].[Beverages].[Chang], Hierarchize(Descendants({[Orders].[Order Id].[ALL].[AllMember]}, 1, SELF_AND_BEFORE))))) ON ROWS FROM [Order Cube] CELL PROPERTIES VALUE, FORMATTED_VALUE, BACK_COLOR, FORE_COLOR, FONT_FLAGS",
       "updateMode": "once"
      },
      "serverKey": "default",
      "widgetKey": "pivot-table"
     }
    },
    "tags": []
   },
   "outputs": [
    {
     "data": {
      "application/vnd.atoti.widget.v0+json": {
       "sessionId": "1715104709_0I4MJO",
       "sessionLocation": {
        "https": false,
        "port": 9092
       },
       "widgetCreationCode": "session.widget"
      },
      "text/html": [
       "<img height=\"0\" width=\"0\" src=\"data:,AAAAAAAAAAAAAAAAAAAAAAAAAAAAAAAAAAAAAAAAAAAAAAAACXBIWXMAABqTAAAakwH55E62\" />"
      ],
      "text/plain": [
       "Open the notebook in JupyterLab with the Atoti JupyterLab extension enabled to build this widget."
      ]
     },
     "metadata": {},
     "output_type": "display_data"
    }
   ],
   "source": [
    "session.widget"
   ]
  },
  {
   "cell_type": "markdown",
   "id": "a678a0a5-54ca-4344-9d03-e0854bd57c3c",
   "metadata": {},
   "source": [
    "When it comes to designing a __User Defined Function (UDF)__ in the cube, the above illustrates a key principle of Atoti's on the fly computation capability. We can define if data should be aggregated depending on the presence of a queried level.  \n",
    "\n",
    "In the example above, there is no value for `Order Id` where we have the summarized levels of `ProductName` and `ProductCategory`.  \n",
    "\n",
    "<img src=\"https://data.atoti.io/atoti-academy/images/introduction/6_order_of_query.png\" width=\"950px\"/>  \n",
    "\n",
    "In order of querying, we say that `ProductCategory` and `ProductName` are __above__ `Order Id`.  \n",
    "\n",
    "We shifted `Order Id` in the below visualization to be above the `ProductCategory` and `ProductName`. Now, we can see that we are only missing the value of `ProfitPerUnit (sv)` at the grandtotal level. This is because that's the only level that doesn't have the `Order Id` value."
   ]
  },
  {
   "cell_type": "code",
   "execution_count": 45,
   "id": "e6ae6669-02a3-4d5c-afef-ac3ddedbf0b4",
   "metadata": {
    "atoti": {
     "height": 404,
     "widget": {
      "columnWidths": {
       "[Measures].[ProfitPerUnit (sv)]": 113,
       "[Measures].[PurchasingPricePerUnit]": 146,
       "[Measures].[Selling Price Per Unit.SUM]": 179.10511779785156,
       "[Measures].[Selling Price Per Unit]": 148,
       "[Measures].[_ProfitPerUnit (mean)]": 148,
       "[Measures].[_ProfitPerUnit (sum)]": 141,
       "[Measures].[_ProfitPerUnit (sv)]": 130,
       "[Orders].[Order Id].[Order Id]": 71,
       "[Products].[Product Tree].[ProductCategory]": 122,
       "[Products].[Product Tree].[ProductName]": 139
      },
      "filters": [
       {
        "dimensionName": "Products",
        "hierarchyName": "ProductCategory",
        "isExclusionFilter": false,
        "members": [
         [
          "AllMember",
          "Beverages"
         ]
        ],
        "type": "members"
       }
      ],
      "mapping": {
       "columns": [
        "ALL_MEASURES"
       ],
       "measures": [
        "[Measures].[_ProfitPerUnit (sum)]",
        "[Measures].[_ProfitPerUnit (mean)]",
        "[Measures].[_ProfitPerUnit (sv)]",
        "[Measures].[ProfitPerUnit (sv)]"
       ],
       "rows": [
        "[Orders].[Order Id].[Order Id]",
        "[Products].[Product Tree].[ProductCategory] => [Products].[Product Tree].[ProductName]"
       ]
      },
      "name": "Order Id above Product Tree level",
      "query": {
       "mdx": "SELECT NON EMPTY {[Measures].[_ProfitPerUnit (sum)], [Measures].[_ProfitPerUnit (mean)], [Measures].[_ProfitPerUnit (sv)], [Measures].[ProfitPerUnit (sv)]} ON COLUMNS, NON EMPTY Hierarchize(Union(Crossjoin(Hierarchize(Descendants({[Orders].[Order Id].[AllMember]}, 1, SELF_AND_BEFORE)), Hierarchize(Descendants({[Products].[Product Tree].[AllMember]}, 1, SELF_AND_BEFORE))), Crossjoin([Orders].[Order Id].[AllMember].[6], Descendants({[Products].[Product Tree].[AllMember].[Beverages]}, [Products].[Product Tree].[ProductName])), Crossjoin([Orders].[Order Id].[AllMember].[18], Descendants({[Products].[Product Tree].[AllMember].[Beverages]}, [Products].[Product Tree].[ProductName])))) ON ROWS FROM [Order Cube] CELL PROPERTIES VALUE, FORMATTED_VALUE, BACK_COLOR, FORE_COLOR, FONT_FLAGS",
       "updateMode": "once"
      },
      "serverKey": "default",
      "widgetKey": "pivot-table"
     }
    },
    "tags": []
   },
   "outputs": [
    {
     "data": {
      "application/vnd.atoti.widget.v0+json": {
       "sessionId": "1715104709_0I4MJO",
       "sessionLocation": {
        "https": false,
        "port": 9092
       },
       "widgetCreationCode": "session.widget"
      },
      "text/html": [
       "<img height=\"0\" width=\"0\" src=\"data:,AAAAAAAAAAAAAAAAAAAAAAAAAAAAAAAAAAAAAAAAAAAAAAAACXBIWXMAABqTAAAakwH55E62\" />"
      ],
      "text/plain": [
       "Open the notebook in JupyterLab with the Atoti JupyterLab extension enabled to build this widget."
      ]
     },
     "metadata": {},
     "output_type": "display_data"
    }
   ],
   "source": [
    "session.widget"
   ]
  },
  {
   "cell_type": "markdown",
   "id": "3aec5ee8-94ea-43b3-b924-6ef354c8b6ac",
   "metadata": {},
   "source": [
    "Similarly, by switching the `Product Tree` hierarchy to columns instead of rows, we see that the grandtotal value is missing for `_ProfitPerUnit (sv)`. Again, it's for the same reason: `Order Id` is empty and according to our measure definition, nothing is returned.  "
   ]
  },
  {
   "cell_type": "code",
   "execution_count": 46,
   "id": "f4683dba-308e-4628-a9db-708280b4bf50",
   "metadata": {
    "atoti": {
     "height": 404,
     "widget": {
      "columnWidths": {
       "[Measures].[ProfitPerUnit (sv)]": 113,
       "[Measures].[PurchasingPricePerUnit]": 146,
       "[Measures].[Selling Price Per Unit.SUM]": 179.10511779785156,
       "[Measures].[Selling Price Per Unit]": 148,
       "[Measures].[_ProfitPerUnit (mean)]": 136,
       "[Measures].[_ProfitPerUnit (sum)]": 129,
       "[Measures].[_ProfitPerUnit (sv)]": 118,
       "[Products].[Product Tree].[AllMember],[Measures].[ProfitPerUnit (sv)]": 123,
       "[Products].[Product Tree].[AllMember],[Measures].[_ProfitPerUnit (mean)]": 148,
       "[Products].[Product Tree].[AllMember],[Measures].[_ProfitPerUnit (sum)]": 141,
       "[Products].[Product Tree].[AllMember].[Beverages],[Measures].[_ProfitPerUnit (mean)]": 148,
       "[Products].[Product Tree].[AllMember].[Beverages],[Measures].[_ProfitPerUnit (sum)]": 141,
       "[Products].[Product Tree].[AllMember].[Beverages],[Measures].[_ProfitPerUnit (sv)]": 126
      },
      "filters": [
       {
        "dimensionName": "Products",
        "hierarchyName": "ProductCategory",
        "isExclusionFilter": false,
        "members": [
         [
          "AllMember",
          "Beverages"
         ]
        ],
        "type": "members"
       }
      ],
      "mapping": {
       "columns": [
        "[Products].[Product Tree].[ProductCategory] => [Products].[Product Tree].[ProductName]",
        "ALL_MEASURES"
       ],
       "measures": [
        "[Measures].[_ProfitPerUnit (sum)]",
        "[Measures].[_ProfitPerUnit (mean)]",
        "[Measures].[_ProfitPerUnit (sv)]",
        "[Measures].[ProfitPerUnit (sv)]"
       ],
       "rows": [
        "[Orders].[Order Id].[Order Id]"
       ]
      },
      "name": "Order Id above Product Tree level",
      "query": {
       "mdx": "SELECT NON EMPTY Crossjoin(Hierarchize(Descendants({[Products].[Product Tree].[AllMember]}, 1, SELF_AND_BEFORE)), {[Measures].[_ProfitPerUnit (sum)], [Measures].[_ProfitPerUnit (mean)], [Measures].[_ProfitPerUnit (sv)], [Measures].[ProfitPerUnit (sv)]}) ON COLUMNS, NON EMPTY Hierarchize(Descendants({[Orders].[Order Id].[AllMember]}, 1, SELF_AND_BEFORE)) ON ROWS FROM [Order Cube] CELL PROPERTIES VALUE, FORMATTED_VALUE, BACK_COLOR, FORE_COLOR, FONT_FLAGS",
       "updateMode": "once"
      },
      "serverKey": "default",
      "widgetKey": "pivot-table"
     }
    },
    "editable": true,
    "slideshow": {
     "slide_type": ""
    },
    "tags": []
   },
   "outputs": [
    {
     "data": {
      "application/vnd.atoti.widget.v0+json": {
       "sessionId": "1715104709_0I4MJO",
       "sessionLocation": {
        "https": false,
        "port": 9092
       },
       "widgetCreationCode": "session.widget"
      },
      "text/html": [
       "<img height=\"0\" width=\"0\" src=\"data:,AAAAAAAAAAAAAAAAAAAAAAAAAAAAAAAAAAAAAAAAAAAAAAAACXBIWXMAABqTAAAakwH55E62\" />"
      ],
      "text/plain": [
       "Open the notebook in JupyterLab with the Atoti JupyterLab extension enabled to build this widget."
      ]
     },
     "metadata": {},
     "output_type": "display_data"
    }
   ],
   "source": [
    "session.widget"
   ]
  },
  {
   "cell_type": "markdown",
   "id": "4fab9459-3d78-4aa9-993e-5b4694e161ca",
   "metadata": {},
   "source": [
    "With __aggregation on the fly__ capability, we are able to control the behavior of our measures depending on:  \n",
    "\n",
    "* What is being queried.\n",
    "* How measures are ordered in the query. "
   ]
  },
  {
   "cell_type": "markdown",
   "id": "8f3a7a84-6aee-42ac-b4cb-76b9dd187fb2",
   "metadata": {},
   "source": [
    "#### 6.2.2.4 Understand measure scope"
   ]
  },
  {
   "cell_type": "markdown",
   "id": "3a071e79-87db-4b15-8ac2-24680b1823fa",
   "metadata": {},
   "source": [
    "Let's recap on what we have learnt so far on measure definitions:  \n",
    "\n",
    "* It can minimally contain a constant value or simply a formula, for example:\n",
    "\n",
    "```python\n",
    "m[\"_ProfitPerUnit\"] = m[\"Selling Price Per Unit\"] - m[\"PurchasingPricePerUnit\"]\n",
    "```\n",
    "\n",
    "* Otherwise, it may contain functions such as the `where` condition we saw previously:  \n",
    "\n",
    "```python\n",
    "m[\"ProfitPerUnit\"] = tt.where(\n",
    "    l[\"Order Id\"].isnull(), m[\"Selling Price Per Unit\"] - m[\"PurchasingPricePerUnit\"]\n",
    ")\n",
    "```"
   ]
  },
  {
   "cell_type": "markdown",
   "id": "6a30653b-91bf-4b77-bb8d-007f61287341",
   "metadata": {},
   "source": [
    "In this section, we will see how we can further control the behavior of measures with the use of [`scope`](https://docs.atoti.io/latest/api/atoti.scope.html) and why we need such controls.\n",
    "\n",
    "We have three types of scopes:\n",
    "- [Origin scope](https://docs.atoti.io/latest/api/atoti.OriginScope.html#atoti.OriginScope): To start aggregation from the specified levels. \n",
    "- [Cumulative scope](https://docs.atoti.io/latest/api/atoti.CumulativeScope.html): Used when we want to perform a cumulative aggregation e.g. running total.\n",
    "- [Sibling scope](https://docs.atoti.io/latest/api/atoti.SiblingsScope.html): To perform aggregation with values from members within the same level. Suitable for achieving non-linear aggregation."
   ]
  },
  {
   "cell_type": "markdown",
   "id": "8cd9c6ff-70a5-466f-a935-27b7071853f0",
   "metadata": {},
   "source": [
    "##### 6.2.2.4.1 Origin scope"
   ]
  },
  {
   "cell_type": "markdown",
   "id": "7ea5ef42-140e-43d4-ab90-6a6e63e88260",
   "metadata": {},
   "source": [
    "Given that the formula to compute sales is:\n",
    "\n",
    "$$ Profit = \\sum (ProfitPerUnit \\times QuantitySold) $$"
   ]
  },
  {
   "cell_type": "markdown",
   "id": "4d2243a1-73c0-494f-88c6-3ceeb23ebc31",
   "metadata": {},
   "source": [
    "We can see there are actually two parts to the above formula:\n",
    "\n",
    "1. We multiply the `ProfitPerUnit` by `Quantity Sold`.\n",
    "2. We take the sum of the above multiplication.\n",
    " "
   ]
  },
  {
   "cell_type": "markdown",
   "id": "8a08b24f-1ed0-4893-b0ef-fae7dbdc3a16",
   "metadata": {},
   "source": [
    "__Applying formula without aggregation__\n",
    "\n",
    "Let's define the first part of the `Sales` measure by taking the multiple between the unit selling price and the quantity sold. "
   ]
  },
  {
   "cell_type": "code",
   "execution_count": 47,
   "id": "13d1adec-e9f0-4ba3-a6b2-4197b270e6fe",
   "metadata": {
    "tags": []
   },
   "outputs": [],
   "source": [
    "m[\"Profit\"] = m[\"_ProfitPerUnit (sum)\"] * m[\"Quantity Sold.SUM\"]"
   ]
  },
  {
   "cell_type": "code",
   "execution_count": 48,
   "id": "868d1daf-9e1a-499d-a8a6-ca606fb21ac5",
   "metadata": {
    "atoti": {
     "height": 321,
     "widget": {
      "columnWidths": {
       "[Measures].[Profit]": 107,
       "[Measures].[Quantity Sold.SUM]": 132,
       "[Measures].[Selling Price Per Unit.SUM]": 159,
       "[Measures].[_ProfitPerUnit (sum)]": 141,
       "[Orders].[Order Date].[Order Date]": 87,
       "[Orders].[Order Id].[Order Id]": 71,
       "[Products].[Product Tree].[ProductCategory]": 122,
       "[Products].[Product Tree].[ProductName]": 139
      },
      "mapping": {
       "columns": [
        "ALL_MEASURES"
       ],
       "measures": [
        "[Measures].[_ProfitPerUnit (sum)]",
        "[Measures].[Quantity Sold.SUM]",
        "[Measures].[Profit]"
       ],
       "rows": [
        "[Orders].[Order Date].[Order Date]",
        "[Products].[Product Tree].[ProductCategory] => [Products].[Product Tree].[ProductName] => [Orders].[Order Id].[Order Id]"
       ]
      },
      "query": {
       "mdx": "SELECT NON EMPTY Hierarchize(Union(Crossjoin(Hierarchize(Descendants({[Orders].[Order Date].[AllMember]}, 1, SELF_AND_BEFORE)), Hierarchize(Descendants({[Products].[Product Tree].[AllMember]}, 1, SELF_AND_BEFORE)), [Orders].[Order Id].DefaultMember), Crossjoin([Orders].[Order Date].[AllMember].[2019-02-15], Descendants({[Products].[Product Tree].[AllMember].[Beverages]}, [Products].[Product Tree].[ProductName]), [Orders].[Order Id].DefaultMember), Crossjoin([Orders].[Order Date].[AllMember].[2019-02-15], [Products].[Product Tree].[AllMember].[Beverages].[Guaraná Fantástica], Hierarchize(Descendants({[Orders].[Order Id].[AllMember]}, 1, SELF_AND_BEFORE))))) ON ROWS, NON EMPTY {[Measures].[_ProfitPerUnit (sum)], [Measures].[Quantity Sold.SUM], [Measures].[Profit]} ON COLUMNS FROM [Order Cube] CELL PROPERTIES VALUE, FORMATTED_VALUE, BACK_COLOR, FORE_COLOR, FONT_FLAGS",
       "updateMode": "once"
      },
      "serverKey": "default",
      "widgetKey": "pivot-table"
     }
    },
    "tags": []
   },
   "outputs": [
    {
     "data": {
      "application/vnd.atoti.widget.v0+json": {
       "sessionId": "1715104709_0I4MJO",
       "sessionLocation": {
        "https": false,
        "port": 9092
       },
       "widgetCreationCode": "session.widget"
      },
      "text/html": [
       "<img height=\"0\" width=\"0\" src=\"data:,AAAAAAAAAAAAAAAAAAAAAAAAAAAAAAAAAAAAAAAAAAAAAAAACXBIWXMAABqTAAAakwH55E62\" />"
      ],
      "text/plain": [
       "Open the notebook in JupyterLab with the Atoti JupyterLab extension enabled to build this widget."
      ]
     },
     "metadata": {},
     "output_type": "display_data"
    }
   ],
   "source": [
    "session.widget"
   ]
  },
  {
   "cell_type": "markdown",
   "id": "c1afcaba-6f0e-4111-b838-b4dd925b05c4",
   "metadata": {},
   "source": [
    "With the measure definition above, we see that at every level, including the total levels, Atoti applies the formula of `m[\"_ProfitPerUnit (sum)\"] * m[\"Quantity Sold.SUM\"]`.  \n",
    "\n",
    "<img src=\"https://data.atoti.io/atoti-academy/images/introduction/6_incorrect_aggregation.png\"/>  \n",
    "\n",
    "Therefore, our sales at the total level for the product \"Guaraná Fantástica\" is `2,715.72` (result of 2.12 * 1,281). It should instead, be the summation of the sales for Order Id `338` and `352`, which equals to `1,091.29`."
   ]
  },
  {
   "cell_type": "markdown",
   "id": "797cdb51-35e8-437f-a33e-03cc95a09c70",
   "metadata": {},
   "source": [
    "__Applying aggregation to formula__  \n",
    "\n",
    "Let's work on the second part of the `Profit` measure — the aggregation; Atoti offers a range of [aggregation functions](https://docs.atoti.io/latest/api/atoti.agg.html) such as `long`, `short`, `min`, `max`, `prod`, `std` etc.  \n",
    "\n",
    "1. As per our formula, we will use the summation function [`tt.agg.sum`](https://docs.atoti.io/latest/api/atoti.agg.sum.html#atoti.agg.sum) to sum up the profit:  \n",
    "\n",
    "    `atoti.agg.sum(operand: NonConstantMeasureConvertible, /, *, scope: Scope) → MeasureDescription`\n",
    "\n",
    "2. We know that at `Order Id` level, we want to apply the multiplication between `m[\"_ProfitPerUnit (sum)\"]` and `m[\"Quantity Sold.SUM\"]`. Thereafter, we want to sum up the multiplication. Therefore, the scope `OriginScope` comes into play. It defines the level(s) from which we will start the aggregation.\n",
    "\n",
    "In our case, we will __start aggregating above the `Order Id` level__."
   ]
  },
  {
   "cell_type": "code",
   "execution_count": 49,
   "id": "545f33a3-c07e-4906-aa2d-386ce4432fc3",
   "metadata": {
    "tags": []
   },
   "outputs": [],
   "source": [
    "m[\"Aggregated Profit\"] = tt.agg.sum(\n",
    "    m[\"Profit\"], scope=tt.OriginScope(levels={l[\"Order Id\"]})\n",
    ")"
   ]
  },
  {
   "cell_type": "code",
   "execution_count": 50,
   "id": "fe119302-48e1-4f1f-bb16-cc56e7bfd386",
   "metadata": {
    "atoti": {
     "height": 321,
     "widget": {
      "columnWidths": {
       "[Measures].[Aggregated Profit]": 125,
       "[Measures].[Profit]": 106,
       "[Measures].[Quantity Sold.SUM]": 132,
       "[Measures].[Selling Price Per Unit.SUM]": 159,
       "[Measures].[_ProfitPerUnit (sum)]": 141,
       "[Orders].[Order Date].[Order Date]": 87,
       "[Products].[Product Tree].[ProductCategory]": 122,
       "[Products].[Product Tree].[ProductName]": 139
      },
      "mapping": {
       "columns": [
        "ALL_MEASURES"
       ],
       "measures": [
        "[Measures].[_ProfitPerUnit (sum)]",
        "[Measures].[Quantity Sold.SUM]",
        "[Measures].[Profit]",
        "[Measures].[Aggregated Profit]"
       ],
       "rows": [
        "[Orders].[Order Date].[Order Date]",
        "[Products].[Product Tree].[ProductCategory] => [Products].[Product Tree].[ProductName] => [Orders].[Order Id].[Order Id]"
       ]
      },
      "query": {
       "mdx": "SELECT NON EMPTY Hierarchize(Union(Crossjoin(Hierarchize(Descendants({[Orders].[Order Date].[AllMember]}, 1, SELF_AND_BEFORE)), Hierarchize(Descendants({[Products].[Product Tree].[AllMember]}, 1, SELF_AND_BEFORE))), Crossjoin([Orders].[Order Date].[ALL].[AllMember].[2019-02-15], Descendants({[Products].[Product Tree].[ALL].[AllMember].[Beverages]}, [Products].[Product Tree].[ProductName])))) ON ROWS, NON EMPTY {[Measures].[_ProfitPerUnit (sum)], [Measures].[Quantity Sold.SUM], [Measures].[Profit], [Measures].[Aggregated Profit]} ON COLUMNS FROM [Order Cube] CELL PROPERTIES VALUE, FORMATTED_VALUE, BACK_COLOR, FORE_COLOR, FONT_FLAGS",
       "updateMode": "once"
      },
      "serverKey": "default",
      "widgetKey": "pivot-table"
     }
    },
    "tags": []
   },
   "outputs": [
    {
     "data": {
      "application/vnd.atoti.widget.v0+json": {
       "sessionId": "1715104709_0I4MJO",
       "sessionLocation": {
        "https": false,
        "port": 9092
       },
       "widgetCreationCode": "session.widget"
      },
      "text/html": [
       "<img height=\"0\" width=\"0\" src=\"data:,AAAAAAAAAAAAAAAAAAAAAAAAAAAAAAAAAAAAAAAAAAAAAAAACXBIWXMAABqTAAAakwH55E62\" />"
      ],
      "text/plain": [
       "Open the notebook in JupyterLab with the Atoti JupyterLab extension enabled to build this widget."
      ]
     },
     "metadata": {},
     "output_type": "display_data"
    }
   ],
   "source": [
    "session.widget"
   ]
  },
  {
   "cell_type": "markdown",
   "id": "6a1d6aff-5e17-4599-bb1a-4a782079f470",
   "metadata": {},
   "source": [
    "We can see that `Aggregated Profit` now has different behavior above the `Order Id` level. We get the correct computation of the profit value.  \n",
    "\n",
    "__Quick summary:__  \n",
    "\n",
    "By applying scope on `Order Id`, it means:  \n",
    "- For the queried level `Order Id` and whatever levels added after `Order Id`, the formula `m[\"_ProfitPerUnit (sum)\"] * m[\"Quantity Sold.SUM\"]` will be applied. \n",
    "- For any levels that were queried above the `Order Id` level, it will be the sum of the members of the level below.  \n",
    "\n",
    "<img src=\"https://data.atoti.io/atoti-academy/images/introduction/6_measure_scope.png\" width=\"800px\"/>"
   ]
  },
  {
   "cell_type": "markdown",
   "id": "2f01a35f-8b49-448d-9fc5-05f1b359d2bb",
   "metadata": {},
   "source": [
    "##### 📐Exercise  \n",
    "\n",
    "$$ Sales = \\sum (SellingPricePerUnit \\times QuantitySold) $$"
   ]
  },
  {
   "cell_type": "markdown",
   "id": "383d503b-6605-4777-b711-b51889d8979b",
   "metadata": {},
   "source": [
    "Given the above formula, create the following measures:\n",
    "- `Sales (sum)`, which uses the measure `Selling Price Per Unit.SUM` to multiply with `Quantity Sold.SUM`.\n",
    "- `Aggregated Sales (sum)`, which aggregates `Sales (sum)` against the scope `Order Id`.\n",
    "- `Sales (sv)`, which uses the measure `Selling Price Per Unit` to multiply with `Quantity Sold.SUM`.\n",
    "- `Aggregated Sales (sv)`, which aggregates `Sales (sv)` against the scope `Order Id`."
   ]
  },
  {
   "cell_type": "markdown",
   "id": "7e810ae5-0e71-4f52-b57d-a176f51dfa54",
   "metadata": {},
   "source": [
    "##### 📖 Solution  \n",
    "\n",
    "```python\n",
    "m[\"Sales (sum)\"] = m[\"Selling Price Per Unit.SUM\"] * m[\"Quantity Sold.SUM\"]\n",
    "m[\"Aggregated Sales (sum)\"] = tt.agg.sum(\n",
    "    m[\"Sales (sum)\"], scope=tt.OriginScope(levels={l[\"Order Id\"]})\n",
    ")\n",
    "\n",
    "m[\"Sales (sv)\"] = m[\"Selling Price Per Unit\"] * m[\"Quantity Sold.SUM\"]\n",
    "m[\"Aggregated Sales (sv)\"] = tt.agg.sum(\n",
    "    m[\"Sales (sv)\"], scope=tt.OriginScope(levels={l[\"Order Id\"]})\n",
    ")\n",
    "```\n",
    "\n",
    "__Difference between SUM vs Single-value measure__\n",
    "\n",
    "💡 `Selling Price Per Unit.SUM` gives us incorrect value at the total levels. Mathematically speaking, we cannot sum the unit selling price to achieve what we wanted. As a result, the `Sales (sum)` measure gives an incorrect total value when we multiplies the unit selling price with the quantity sold. This can be prevented by using the single value measure `Selling Price Per Unit` (refer to [6.2.2.2 Create measures from table](#6.2.2.1-Create-measures-from-table)).   \n",
    "\n",
    "By using the single value measure, we see that the `Selling Price Per Unit` is only available at the total level if all its member has the same value (e.g. for \"Chai\" and \"Côte de Blaye\"). In the case of \"Guaraná Fantástica\", its selling price varies between orders. Therefore, value is only displayed at the `Order Id` level. Sales total is empty in this case as the selling price is not available at the total level.  \n",
    "\n",
    "__However, do note that after applying aggregation with the correct scope, both returns the correct aggregated sales value. The interim `Sales` value is usually important when users want to investigate and understand the final values they see.__"
   ]
  },
  {
   "cell_type": "code",
   "execution_count": 51,
   "id": "35cd25fb-8211-4637-93bb-df73136683df",
   "metadata": {
    "tags": []
   },
   "outputs": [],
   "source": [
    "m[\"Sales (sum)\"] = m[\"Selling Price Per Unit.SUM\"] * m[\"Quantity Sold.SUM\"]\n",
    "m[\"Aggregated Sales (sum)\"] = tt.agg.sum(\n",
    "    m[\"Sales (sum)\"], scope=tt.OriginScope(levels={l[\"Order Id\"]})\n",
    ")\n",
    "\n",
    "m[\"Sales (sv)\"] = m[\"Selling Price Per Unit\"] * m[\"Quantity Sold.SUM\"]\n",
    "m[\"Aggregated Sales (sv)\"] = tt.agg.sum(\n",
    "    m[\"Sales (sv)\"], scope=tt.OriginScope(levels={l[\"Order Id\"]})\n",
    ")"
   ]
  },
  {
   "cell_type": "code",
   "execution_count": 52,
   "id": "80c56728-e510-4927-bbe4-f12a0149193c",
   "metadata": {
    "atoti": {
     "height": 321,
     "widget": {
      "columnWidths": {
       "[Measures].[Quantity Sold.SUM]": 132,
       "[Measures].[Sales (sum)]": 117,
       "[Measures].[Sales (sv)]": 83,
       "[Measures].[Selling Price Per Unit.SUM]": 174,
       "[Measures].[Selling Price Per Unit]": 144,
       "[Measures].[_ProfitPerUnit (sum)]": 129,
       "[Orders].[Order Date].[Order Date]": 87,
       "[Products].[Product Tree].[ProductCategory]": 122,
       "[Products].[Product Tree].[ProductName]": 139
      },
      "mapping": {
       "columns": [
        "ALL_MEASURES"
       ],
       "measures": [
        "[Measures].[Quantity Sold.SUM]",
        "[Measures].[Selling Price Per Unit.SUM]",
        "[Measures].[Sales (sum)]",
        "[Measures].[Selling Price Per Unit]",
        "[Measures].[Sales (sv)]"
       ],
       "rows": [
        "[Orders].[Order Date].[Order Date]",
        "[Products].[Product Tree].[ProductCategory] => [Products].[Product Tree].[ProductName] => [Orders].[Order Id].[Order Id]"
       ]
      },
      "query": {
       "mdx": "SELECT NON EMPTY Hierarchize(Union(Crossjoin(Hierarchize(Descendants({[Orders].[Order Date].[AllMember]}, 1, SELF_AND_BEFORE)), Hierarchize(Descendants({[Products].[Product Tree].[AllMember]}, 1, SELF_AND_BEFORE))), Crossjoin([Orders].[Order Date].[AllMember].[2019-02-15], Descendants({[Products].[Product Tree].[AllMember].[Beverages]}, [Products].[Product Tree].[ProductName])))) ON ROWS, NON EMPTY {[Measures].[Quantity Sold.SUM], [Measures].[Selling Price Per Unit.SUM], [Measures].[Sales (sum)], [Measures].[Selling Price Per Unit], [Measures].[Sales (sv)]} ON COLUMNS FROM [Order Cube] CELL PROPERTIES VALUE, FORMATTED_VALUE, BACK_COLOR, FORE_COLOR, FONT_FLAGS",
       "updateMode": "once"
      },
      "serverKey": "default",
      "widgetKey": "pivot-table"
     }
    },
    "tags": []
   },
   "outputs": [
    {
     "data": {
      "application/vnd.atoti.widget.v0+json": {
       "sessionId": "1715104709_0I4MJO",
       "sessionLocation": {
        "https": false,
        "port": 9092
       },
       "widgetCreationCode": "session.widget"
      },
      "text/html": [
       "<img height=\"0\" width=\"0\" src=\"data:,AAAAAAAAAAAAAAAAAAAAAAAAAAAAAAAAAAAAAAAAAAAAAAAACXBIWXMAABqTAAAakwH55E62\" />"
      ],
      "text/plain": [
       "Open the notebook in JupyterLab with the Atoti JupyterLab extension enabled to build this widget."
      ]
     },
     "metadata": {},
     "output_type": "display_data"
    }
   ],
   "source": [
    "session.widget"
   ]
  },
  {
   "cell_type": "markdown",
   "id": "29021e30-6edd-4446-99b8-c8a8850d3325",
   "metadata": {
    "tags": []
   },
   "source": [
    "__Alternative aggregation function__\n",
    "\n",
    "💡 Instead of chaining up two measures, we can also make use of the aggregation function [`sum_product`](https://docs.atoti.io/latest/api/atoti.agg.sum_product.html)."
   ]
  },
  {
   "cell_type": "code",
   "execution_count": 53,
   "id": "d91b353a-7846-4391-9755-be5d1fea0a16",
   "metadata": {
    "tags": []
   },
   "outputs": [],
   "source": [
    "m[\"ProdSum Proft\"] = tt.agg.sum_product(\n",
    "    m[\"_ProfitPerUnit (sum)\"],\n",
    "    m[\"Quantity Sold.SUM\"],\n",
    "    scope=tt.OriginScope(levels={l[\"Order Id\"]}),\n",
    ")"
   ]
  },
  {
   "cell_type": "code",
   "execution_count": 54,
   "id": "b7e3e985-9455-42eb-b1e1-425f45a19030",
   "metadata": {
    "atoti": {
     "height": 321,
     "widget": {
      "columnWidths": {
       "[Measures].[Aggregated Profit]": 125,
       "[Measures].[ProdSum Proft]": 108,
       "[Measures].[Profit]": 106,
       "[Measures].[Quantity Sold.SUM]": 132,
       "[Measures].[Selling Price Per Unit.SUM]": 159,
       "[Measures].[_ProfitPerUnit (sum)]": 141,
       "[Orders].[Order Date].[Order Date]": 87,
       "[Products].[Product Tree].[ProductCategory]": 122,
       "[Products].[Product Tree].[ProductName]": 139
      },
      "mapping": {
       "columns": [
        "ALL_MEASURES"
       ],
       "measures": [
        "[Measures].[_ProfitPerUnit (sum)]",
        "[Measures].[Quantity Sold.SUM]",
        "[Measures].[Profit]",
        "[Measures].[Aggregated Profit]",
        "[Measures].[ProdSum Proft]"
       ],
       "rows": [
        "[Orders].[Order Date].[Order Date]",
        "[Products].[Product Tree].[ProductCategory] => [Products].[Product Tree].[ProductName] => [Orders].[Order Id].[Order Id]"
       ]
      },
      "query": {
       "mdx": "SELECT NON EMPTY Hierarchize(Union(Crossjoin(Hierarchize(Descendants({[Orders].[Order Date].[AllMember]}, 1, SELF_AND_BEFORE)), Hierarchize(Descendants({[Products].[Product Tree].[AllMember]}, 1, SELF_AND_BEFORE))), Crossjoin([Orders].[Order Date].[AllMember].[2019-02-15], Descendants({[Products].[Product Tree].[AllMember].[Beverages]}, [Products].[Product Tree].[ProductName])))) ON ROWS, NON EMPTY {[Measures].[_ProfitPerUnit (sum)], [Measures].[Quantity Sold.SUM], [Measures].[Profit], [Measures].[Aggregated Profit], [Measures].[ProdSum Proft]} ON COLUMNS FROM [Order Cube] CELL PROPERTIES VALUE, FORMATTED_VALUE, BACK_COLOR, FORE_COLOR, FONT_FLAGS",
       "updateMode": "once"
      },
      "serverKey": "default",
      "widgetKey": "pivot-table"
     }
    },
    "tags": []
   },
   "outputs": [
    {
     "data": {
      "application/vnd.atoti.widget.v0+json": {
       "sessionId": "1715104709_0I4MJO",
       "sessionLocation": {
        "https": false,
        "port": 9092
       },
       "widgetCreationCode": "session.widget"
      },
      "text/html": [
       "<img height=\"0\" width=\"0\" src=\"data:,AAAAAAAAAAAAAAAAAAAAAAAAAAAAAAAAAAAAAAAAAAAAAAAACXBIWXMAABqTAAAakwH55E62\" />"
      ],
      "text/plain": [
       "Open the notebook in JupyterLab with the Atoti JupyterLab extension enabled to build this widget."
      ]
     },
     "metadata": {},
     "output_type": "display_data"
    }
   ],
   "source": [
    "session.widget"
   ]
  },
  {
   "cell_type": "markdown",
   "id": "4d7f9bcd-7614-48fa-ba92-aa68de64f4ed",
   "metadata": {},
   "source": [
    "##### 📐Exercise  \n",
    "\n",
    "The key value of multidimensional analysis to the ability to gather insights from different perspective. In the below visualization, expand on `Shipper Name` level and verify the correctness of the `Aggregated Profit` value.  "
   ]
  },
  {
   "cell_type": "code",
   "execution_count": 55,
   "id": "a48336b9-5597-4eb6-8a4c-a68c34d0fe42",
   "metadata": {
    "atoti": {
     "height": 441,
     "widget": {
      "columnWidths": {
       "[Measures].[Aggregated Profit]": 125,
       "[Measures].[Profit]": 106,
       "[Measures].[Quantity Sold.SUM]": 132,
       "[Measures].[_ProfitPerUnit (sum)]": 141,
       "[Orders].[Order Date].[Order Date]": 87,
       "[Orders].[Shipper Name].[Shipper Name]": 114
      },
      "mapping": {
       "columns": [
        "ALL_MEASURES"
       ],
       "measures": [
        "[Measures].[_ProfitPerUnit (sum)]",
        "[Measures].[Quantity Sold.SUM]",
        "[Measures].[Profit]",
        "[Measures].[Aggregated Profit]"
       ],
       "rows": [
        "[Orders].[Order Date].[Order Date]",
        "[Orders].[Shipper Name].[Shipper Name] => [Orders].[Order Id].[Order Id]"
       ]
      },
      "name": "Sales by shipper",
      "query": {
       "mdx": "SELECT NON EMPTY Hierarchize(Crossjoin(Hierarchize(Descendants({[Orders].[Order Date].[AllMember]}, 1, SELF_AND_BEFORE)), Hierarchize(Descendants({[Orders].[Shipper Name].[AllMember]}, 1, SELF_AND_BEFORE)))) ON ROWS, NON EMPTY {[Measures].[_ProfitPerUnit (sum)], [Measures].[Quantity Sold.SUM], [Measures].[Profit], [Measures].[Aggregated Profit]} ON COLUMNS FROM [Order Cube] CELL PROPERTIES VALUE, FORMATTED_VALUE, BACK_COLOR, FORE_COLOR, FONT_FLAGS",
       "updateMode": "once"
      },
      "serverKey": "default",
      "widgetKey": "pivot-table"
     }
    },
    "tags": []
   },
   "outputs": [
    {
     "data": {
      "application/vnd.atoti.widget.v0+json": {
       "sessionId": "1715104709_0I4MJO",
       "sessionLocation": {
        "https": false,
        "port": 9092
       },
       "widgetCreationCode": "session.widget"
      },
      "text/html": [
       "<img height=\"0\" width=\"0\" src=\"data:,AAAAAAAAAAAAAAAAAAAAAAAAAAAAAAAAAAAAAAAAAAAAAAAACXBIWXMAABqTAAAakwH55E62\" />"
      ],
      "text/plain": [
       "Open the notebook in JupyterLab with the Atoti JupyterLab extension enabled to build this widget."
      ]
     },
     "metadata": {},
     "output_type": "display_data"
    }
   ],
   "source": [
    "session.widget"
   ]
  },
  {
   "cell_type": "markdown",
   "id": "a91010e0-ac61-4049-99eb-f3a45b6aa610",
   "metadata": {},
   "source": [
    "##### 📖 Solution  \n",
    "\n",
    "The value `Profit` is computed correctly at the most granular level, which is the `Order Id` in this case. Since we are performing summation for any levels above `Order Id` as defined using the `OriginScope`, we are able to achieve the total sales by \"Shipper Name\".  \n",
    "\n",
    "Again, this demonstrates the aggregation on the fly capability of Atoti. Regardless of the levels that we are querying, we will sum up the `Profit` value from the most underlying `Order Id` level at query time.  "
   ]
  },
  {
   "cell_type": "markdown",
   "id": "fe8d75a3-5621-4694-be60-569950bac412",
   "metadata": {},
   "source": [
    "##### 6.2.2.4.2 Cumulative Scope"
   ]
  },
  {
   "cell_type": "markdown",
   "id": "183eb8c8-594d-42f9-9c8c-93f5ae993f28",
   "metadata": {},
   "source": [
    "In data analytics, it is common to compute running totals. In Atoti, we make use of [`CumulativeScope`](https://docs.atoti.io/latest/api/atoti.CumulativeScope.html) to achieve cumulative aggregations, or running totals:\n",
    "\n",
    "Let's see how we can get the running total across the `Order Date`."
   ]
  },
  {
   "cell_type": "code",
   "execution_count": 56,
   "id": "817a220d-384a-49c1-a232-ad61254954fa",
   "metadata": {},
   "outputs": [],
   "source": [
    "m[\"Cumulative Profit\"] = tt.agg.sum(\n",
    "    m[\"Aggregated Profit\"],\n",
    "    scope=tt.CumulativeScope(level=l[(\"Orders\", \"Date Hierarchy\", \"Order Date\")]),\n",
    ")"
   ]
  },
  {
   "cell_type": "code",
   "execution_count": 57,
   "id": "6001dabb-7fb7-4326-8468-65fe57389edb",
   "metadata": {
    "atoti": {
     "height": 295,
     "widget": {
      "columnWidths": {
       "[Measures].[Aggregated Profit (sv)]": 140,
       "[Measures].[Aggregated Profit]": 125,
       "[Measures].[Aggregated Sales (sv)]": 138,
       "[Measures].[Cumulative Profit (sv)]": 137,
       "[Measures].[Cumulative Profit]": 122,
       "[Measures].[Cumulative Sales (sv)]": 135,
       "[Orders].[Date Hierarchy].[Month]": 65,
       "[Orders].[Date Hierarchy].[Order Date]": 104,
       "[Orders].[Date Hierarchy].[Year]": 65
      },
      "mapping": {
       "columns": [
        "ALL_MEASURES"
       ],
       "measures": [
        "[Measures].[Aggregated Profit]",
        "[Measures].[Cumulative Profit]"
       ],
       "rows": [
        "[Orders].[Date Hierarchy].[Year] => [Orders].[Date Hierarchy].[Order Date]"
       ]
      },
      "query": {
       "mdx": "SELECT NON EMPTY Hierarchize(Union(Descendants({[Orders].[Date Hierarchy].[AllMember]}, 1, SELF_AND_BEFORE), Descendants({[Orders].[Date Hierarchy].[AllMember].[2019]}, [Orders].[Date Hierarchy].[Month]), Descendants({[Orders].[Date Hierarchy].[ALL].[AllMember].[2019].[02]}, [Orders].[Date Hierarchy].[Order Date]))) ON ROWS, NON EMPTY {[Measures].[Aggregated Profit], [Measures].[Cumulative Profit]} ON COLUMNS FROM [Order Cube] CELL PROPERTIES VALUE, FORMATTED_VALUE, BACK_COLOR, FORE_COLOR, FONT_FLAGS",
       "updateMode": "once"
      },
      "serverKey": "default",
      "widgetKey": "pivot-table"
     }
    },
    "tags": []
   },
   "outputs": [
    {
     "data": {
      "application/vnd.atoti.widget.v0+json": {
       "sessionId": "1715104709_0I4MJO",
       "sessionLocation": {
        "https": false,
        "port": 9092
       },
       "widgetCreationCode": "session.widget"
      },
      "text/html": [
       "<img height=\"0\" width=\"0\" src=\"data:,AAAAAAAAAAAAAAAAAAAAAAAAAAAAAAAAAAAAAAAAAAAAAAAACXBIWXMAABqTAAAakwH55E62\" />"
      ],
      "text/plain": [
       "Open the notebook in JupyterLab with the Atoti JupyterLab extension enabled to build this widget."
      ]
     },
     "metadata": {},
     "output_type": "display_data"
    }
   ],
   "source": [
    "session.widget"
   ]
  },
  {
   "cell_type": "markdown",
   "id": "6393065f-ca6a-49a0-b08c-0b5cabb5e26b",
   "metadata": {},
   "source": [
    "We can verify that the `Cumulative Profit` measure is indeed cumulating the value of the `Aggregated Profit` measure:  \n",
    "\n",
    "<img src=\"https://data.atoti.io/atoti-academy/images/introduction/6_cumulative_totals.png\"/>"
   ]
  },
  {
   "cell_type": "markdown",
   "id": "bb07ea13-ea3f-4e9e-8bed-e7d334d533b8",
   "metadata": {},
   "source": [
    "Now, let's load data from another month to see what happens to our running total:"
   ]
  },
  {
   "cell_type": "code",
   "execution_count": 58,
   "id": "ce3b7e38-54fe-4613-a7b9-12ca5ec69969",
   "metadata": {
    "tags": []
   },
   "outputs": [],
   "source": [
    "orders_tbl.load_csv(\n",
    "    \"s3://data.atoti.io/atoti-academy/data/Orders-adhoc.csv\",\n",
    "    columns={\n",
    "        \"OrderId\": \"Order Id\",\n",
    "        \"OrderDate\": \"Order Date\",\n",
    "        \"QuantitySold\": \"Quantity Sold\",\n",
    "        \"SellingPricePerUnit\": \"Selling Price Per Unit\",\n",
    "        \"ShipperName\": \"Shipper Name\",\n",
    "        \"ProductId\": \"Product Id\",\n",
    "    },\n",
    "    date_patterns={\"Order Date\": \"dd/M/yyyy\"},\n",
    ")"
   ]
  },
  {
   "cell_type": "markdown",
   "id": "b208982f-c04a-45ee-bf88-8e5a843a0cdf",
   "metadata": {},
   "source": [
    "Working with cumulative on multi-level hierarchies, we get our bucketed cumulative values.  \n",
    "\n",
    "We can see that the running total starts from the first order date `2019-02-15` and continues until the last date on `2019-03-18`. By collapsing the `Order Date` level from the `Month` level, we get a monthly cumulative total. In a similar manner, we also obtained our yearly cumulative total.  "
   ]
  },
  {
   "cell_type": "code",
   "execution_count": 59,
   "id": "2092b7fa-6d08-4f5f-9903-32e1718b64ea",
   "metadata": {
    "atoti": {
     "height": 506,
     "widget": {
      "columnWidths": {
       "[Measures].[Aggregated Profit]": 125,
       "[Measures].[Aggregated Sales (sv)]": 138,
       "[Measures].[Cumulative Profit]": 122,
       "[Measures].[Cumulative Sales (sv)]": 135,
       "[Orders].[Date Hierarchy].[Month]": 65,
       "[Orders].[Date Hierarchy].[Order Date]": 104,
       "[Orders].[Date Hierarchy].[Year]": 65
      },
      "mapping": {
       "columns": [
        "ALL_MEASURES"
       ],
       "measures": [
        "[Measures].[Aggregated Profit]",
        "[Measures].[Cumulative Profit]"
       ],
       "rows": [
        "[Orders].[Date Hierarchy].[Year] => [Orders].[Date Hierarchy].[Order Date]"
       ]
      },
      "name": "Bucketed running total",
      "query": {
       "mdx": "SELECT NON EMPTY {[Measures].[Aggregated Profit], [Measures].[Cumulative Profit]} ON COLUMNS, NON EMPTY Hierarchize(Union(Descendants({[Orders].[Date Hierarchy].[AllMember]}, 1, SELF_AND_BEFORE), Descendants({[Orders].[Date Hierarchy].[AllMember].[2019]}, [Orders].[Date Hierarchy].[Month]), Descendants({[Orders].[Date Hierarchy].[AllMember].[2019].[03]}, [Orders].[Date Hierarchy].[Order Date]), Descendants({[Orders].[Date Hierarchy].[AllMember].[2019].[02]}, [Orders].[Date Hierarchy].[Order Date]))) ON ROWS FROM [Order Cube] CELL PROPERTIES VALUE, FORMATTED_VALUE, BACK_COLOR, FORE_COLOR, FONT_FLAGS",
       "updateMode": "once"
      },
      "serverKey": "default",
      "widgetKey": "pivot-table"
     }
    },
    "tags": []
   },
   "outputs": [
    {
     "data": {
      "application/vnd.atoti.widget.v0+json": {
       "sessionId": "1715104709_0I4MJO",
       "sessionLocation": {
        "https": false,
        "port": 9092
       },
       "widgetCreationCode": "session.widget"
      },
      "text/html": [
       "<img height=\"0\" width=\"0\" src=\"data:,AAAAAAAAAAAAAAAAAAAAAAAAAAAAAAAAAAAAAAAAAAAAAAAACXBIWXMAABqTAAAakwH55E62\" />"
      ],
      "text/plain": [
       "Open the notebook in JupyterLab with the Atoti JupyterLab extension enabled to build this widget."
      ]
     },
     "metadata": {},
     "output_type": "display_data"
    }
   ],
   "source": [
    "session.widget"
   ]
  },
  {
   "cell_type": "markdown",
   "id": "4ab8b84b-9eaf-4120-a260-6edfb9ccb752",
   "metadata": {},
   "source": [
    "__Reset cumulative total__  \n",
    "\n",
    "We can reset the cumulative total for a certain level by using the `partitioning` parameter of the `CumulativeScope` function. Let's update the definition of our `Cumulative Profit` measure.  "
   ]
  },
  {
   "cell_type": "code",
   "execution_count": 60,
   "id": "0c611b8f-0eff-4693-acaf-c006c5d9ea41",
   "metadata": {
    "tags": []
   },
   "outputs": [],
   "source": [
    "m[\"Cumulative Profit\"] = tt.agg.sum(\n",
    "    m[\"Aggregated Profit\"],\n",
    "    scope=tt.CumulativeScope(\n",
    "        level=l[(\"Orders\", \"Date Hierarchy\", \"Order Date\")], partitioning=l[\"Year\"]\n",
    "    ),\n",
    ")"
   ]
  },
  {
   "cell_type": "code",
   "execution_count": 61,
   "id": "a7894842-02bd-4387-9adc-9a1d2134f2e4",
   "metadata": {
    "atoti": {
     "height": 232,
     "widget": {
      "columnWidths": {
       "[Measures].[Aggregated Profit (sv)]": 140,
       "[Measures].[Aggregated Profit]": 125,
       "[Measures].[Aggregated Sales (sv)]": 138,
       "[Measures].[Cumulative Profit (sv)]": 137,
       "[Measures].[Cumulative Profit]": 122,
       "[Measures].[Cumulative Sales (sv)]": 135,
       "[Orders].[Date Hierarchy].[Month]": 65,
       "[Orders].[Date Hierarchy].[Year]": 65
      },
      "mapping": {
       "columns": [
        "ALL_MEASURES"
       ],
       "measures": [
        "[Measures].[Aggregated Profit]",
        "[Measures].[Cumulative Profit]"
       ],
       "rows": [
        "[Orders].[Date Hierarchy].[Year] => [Orders].[Date Hierarchy].[Month]"
       ]
      },
      "name": "Cumulative total reset on yearly basis",
      "query": {
       "mdx": "SELECT NON EMPTY Hierarchize(Union(Descendants({[Orders].[Date Hierarchy].[AllMember]}, 1, SELF_AND_BEFORE), Descendants({[Orders].[Date Hierarchy].[AllMember].[2019]}, [Orders].[Date Hierarchy].[Month]))) ON ROWS, NON EMPTY {[Measures].[Aggregated Profit], [Measures].[Cumulative Profit]} ON COLUMNS FROM [Order Cube] CELL PROPERTIES VALUE, FORMATTED_VALUE, BACK_COLOR, FORE_COLOR, FONT_FLAGS",
       "updateMode": "once"
      },
      "serverKey": "default",
      "widgetKey": "pivot-table"
     }
    },
    "tags": []
   },
   "outputs": [
    {
     "data": {
      "application/vnd.atoti.widget.v0+json": {
       "sessionId": "1715104709_0I4MJO",
       "sessionLocation": {
        "https": false,
        "port": 9092
       },
       "widgetCreationCode": "session.widget"
      },
      "text/html": [
       "<img height=\"0\" width=\"0\" src=\"data:,AAAAAAAAAAAAAAAAAAAAAAAAAAAAAAAAAAAAAAAAAAAAAAAACXBIWXMAABqTAAAakwH55E62\" />"
      ],
      "text/plain": [
       "Open the notebook in JupyterLab with the Atoti JupyterLab extension enabled to build this widget."
      ]
     },
     "metadata": {},
     "output_type": "display_data"
    }
   ],
   "source": [
    "session.widget"
   ]
  },
  {
   "cell_type": "markdown",
   "id": "bb5002d8-3a70-4080-8a27-780015692183",
   "metadata": {},
   "source": [
    "⚠️ We cumulate the `Aggregated Profit` along the level identified by `l[(\"Orders\", \"Date Hierarchy\", \"Order Date\")]`. As explained in earlier sections, even though both `l[(\"Orders\", \"Date Hierarchy\", \"Order Date\")]` and `l[(\"Orders\", \"Order Date\", \"Order Date\")]` originates from the same data column, they are treated as two different levels. Therefore, the measure definition for `Cumulative Profit` does not applies to the `l[(\"Orders\", \"Order Date\", \"Order Date\")]` level. \n",
    "\n",
    "<img src=\"https://data.atoti.io/atoti-academy/images/introduction/6_date_path.png\" />\n",
    "\n",
    "Without a surprise, we will not have any values for `Cumulative Profit` when we query it along the `l[(\"Orders\", \"Order Date\", \"Order Date\")]` as shown below:"
   ]
  },
  {
   "cell_type": "code",
   "execution_count": 62,
   "id": "b7cc0cbb-ef06-4b86-8660-a27e8e15f004",
   "metadata": {
    "atoti": {
     "height": 271,
     "widget": {
      "columnWidths": {
       "[Measures].[Aggregated Sales (sv)]": 138,
       "[Measures].[Cumulative Sales (sv)]": 135
      },
      "mapping": {
       "columns": [
        "ALL_MEASURES"
       ],
       "measures": [
        "[Measures].[Aggregated Profit]",
        "[Measures].[Cumulative Profit]"
       ],
       "rows": [
        "[Orders].[Order Date].[Order Date]"
       ]
      },
      "name": "Cumulative profit not available",
      "query": {
       "mdx": "SELECT NON EMPTY Hierarchize(Descendants({[Orders].[Order Date].[AllMember]}, 1, SELF_AND_BEFORE)) ON ROWS, NON EMPTY {[Measures].[Aggregated Profit], [Measures].[Cumulative Profit]} ON COLUMNS FROM [Order Cube] CELL PROPERTIES VALUE, FORMATTED_VALUE, BACK_COLOR, FORE_COLOR, FONT_FLAGS",
       "updateMode": "once"
      },
      "serverKey": "default",
      "widgetKey": "pivot-table"
     }
    },
    "tags": []
   },
   "outputs": [
    {
     "data": {
      "application/vnd.atoti.widget.v0+json": {
       "sessionId": "1715104709_0I4MJO",
       "sessionLocation": {
        "https": false,
        "port": 9092
       },
       "widgetCreationCode": "session.widget"
      },
      "text/html": [
       "<img height=\"0\" width=\"0\" src=\"data:,AAAAAAAAAAAAAAAAAAAAAAAAAAAAAAAAAAAAAAAAAAAAAAAACXBIWXMAABqTAAAakwH55E62\" />"
      ],
      "text/plain": [
       "Open the notebook in JupyterLab with the Atoti JupyterLab extension enabled to build this widget."
      ]
     },
     "metadata": {},
     "output_type": "display_data"
    }
   ],
   "source": [
    "session.widget"
   ]
  },
  {
   "cell_type": "markdown",
   "id": "4347f11b-70ea-4c9f-91ad-9fedee240804",
   "metadata": {},
   "source": [
    "Create a separate measure to accumulate along the `l[(\"Orders\", \"Order Date\", \"Order Date\")]` if necessary.  "
   ]
  },
  {
   "cell_type": "markdown",
   "id": "7640412e-985c-4bdb-b587-c574ac6f078f",
   "metadata": {},
   "source": [
    "##### 6.2.2.4.3 Sibling Scope"
   ]
  },
  {
   "cell_type": "markdown",
   "id": "623dc01f-4d1a-4792-af2c-0a4bd1075f20",
   "metadata": {},
   "source": [
    "There are times when we want to perform aggregation with members of the same levels. Members of the same level are referred to as siblings, as they have the same parent level. In such cases, we will use [`SiblingScope`](https://docs.atoti.io/latest/api/atoti.SiblingsScope.html) to do so.  \n",
    "\n",
    "Unlike the other two scope functions, `SiblingScope` works on hierarchies. In the below example, we look at the maximum profit within each level in the `Date Hierarchy`.  "
   ]
  },
  {
   "cell_type": "code",
   "execution_count": 63,
   "id": "b643a13e-58c0-4e4a-a683-7bc379325a6d",
   "metadata": {
    "tags": []
   },
   "outputs": [],
   "source": [
    "m[\"Max profit\"] = tt.agg.max(\n",
    "    m[\"Aggregated Profit\"], scope=tt.SiblingsScope(hierarchy=h[\"Date Hierarchy\"])\n",
    ")"
   ]
  },
  {
   "cell_type": "code",
   "execution_count": 64,
   "id": "4387fad8-0842-4d66-ad5f-5c90063b842c",
   "metadata": {
    "atoti": {
     "height": 448,
     "widget": {
      "columnWidths": {
       "[Measures].[Aggregated Profit (sv)]": 140,
       "[Measures].[Aggregated Profit]": 125,
       "[Measures].[Aggregated Sales (sv)]": 138,
       "[Measures].[Max profit]": 95,
       "[Orders].[Date Hierarchy].[Month]": 65,
       "[Orders].[Date Hierarchy].[Order Date]": 104,
       "[Orders].[Date Hierarchy].[Year]": 65
      },
      "mapping": {
       "columns": [
        "ALL_MEASURES"
       ],
       "measures": [
        "[Measures].[Aggregated Profit]",
        "[Measures].[Max profit]"
       ],
       "rows": [
        "[Orders].[Date Hierarchy].[Year] => [Orders].[Date Hierarchy].[Order Date]"
       ]
      },
      "query": {
       "mdx": "SELECT NON EMPTY Order(Hierarchize(Union(Descendants({[Orders].[Date Hierarchy].[AllMember]}, 1, SELF_AND_BEFORE), Descendants({[Orders].[Date Hierarchy].[AllMember].[2019]}, [Orders].[Date Hierarchy].[Month]), Descendants({[Orders].[Date Hierarchy].[AllMember].[2019].[02]}, [Orders].[Date Hierarchy].[Order Date]), Descendants({[Orders].[Date Hierarchy].[AllMember].[2019].[03]}, [Orders].[Date Hierarchy].[Order Date]))), [Measures].[Aggregated Sales (sv)], DESC) ON ROWS, NON EMPTY {[Measures].[Aggregated Profit], [Measures].[Max profit]} ON COLUMNS FROM [Order Cube] CELL PROPERTIES VALUE, FORMATTED_VALUE, BACK_COLOR, FORE_COLOR, FONT_FLAGS",
       "updateMode": "once"
      },
      "serverKey": "default",
      "widgetKey": "pivot-table"
     }
    },
    "tags": []
   },
   "outputs": [
    {
     "data": {
      "application/vnd.atoti.widget.v0+json": {
       "sessionId": "1715104709_0I4MJO",
       "sessionLocation": {
        "https": false,
        "port": 9092
       },
       "widgetCreationCode": "session.widget"
      },
      "text/html": [
       "<img height=\"0\" width=\"0\" src=\"data:,AAAAAAAAAAAAAAAAAAAAAAAAAAAAAAAAAAAAAAAAAAAAAAAACXBIWXMAABqTAAAakwH55E62\" />"
      ],
      "text/plain": [
       "Open the notebook in JupyterLab with the Atoti JupyterLab extension enabled to build this widget."
      ]
     },
     "metadata": {},
     "output_type": "display_data"
    }
   ],
   "source": [
    "session.widget"
   ]
  },
  {
   "cell_type": "markdown",
   "id": "98ee7406-e4aa-4cb0-983c-aad9c7b05f23",
   "metadata": {},
   "source": [
    "A few key points:\n",
    "\n",
    "* At the `Order Date` level: We see that the maximum profit in Feb 2019 is `548,588.54` across the 4 dates. Likewise, in Mar 2019, the maximum sales is `548,588.54`.  \n",
    "* At the `Month` level: Comparing Feb and Mar in 2019, Feb has the higher profit value of `1,814,408.23`.  \n",
    "* At the `Year` level: Comparing the profit of 2019 and 2020, 2019 has the higher profit value of `3,616,995.21`.  \n",
    "\n",
    "At the grand total level, it displays the total profit value across `2019` and `2020`."
   ]
  },
  {
   "cell_type": "markdown",
   "id": "8c2a72b5-f389-45bc-930f-e1a96c7cae7f",
   "metadata": {},
   "source": [
    "##### 6.2.2.4.4 Multidimensional Aggregations & Scope"
   ]
  },
  {
   "cell_type": "markdown",
   "id": "a7ca8b07-d2a5-439a-bfb9-09f78dc106c3",
   "metadata": {},
   "source": [
    "Let's explore another use case where scope is extremely useful when we have different aggregation behavior for the same measure, along different dimensions. We will compute the historical average of sales profit where it is:  \n",
    "\n",
    "1. Sum of profits across products which we have previously computed `m[\"Aggregated Profit\"]`.\n",
    "2. Average across dates."
   ]
  },
  {
   "cell_type": "markdown",
   "id": "2e883ba0-8bf1-4781-b683-062ae73ca776",
   "metadata": {},
   "source": [
    "The formula looks like this:  \n",
    "\n",
    "$$ \\frac{\\sum AggregatedProfit_{Products}}{DateCount}\\ $$"
   ]
  },
  {
   "cell_type": "markdown",
   "id": "56ce9e66-c4b8-4a2c-9b28-be70b5f4a54b",
   "metadata": {},
   "source": [
    "In the below cell, we explore the [`atoti.agg.mean`](https://docs.atoti.io/latest/api/atoti.agg.mean.html#atoti-agg-mean) function across the two `Order Date` levels to see what happens."
   ]
  },
  {
   "cell_type": "code",
   "execution_count": 65,
   "id": "53761293-6285-418d-bff6-1ea88c63d753",
   "metadata": {
    "tags": []
   },
   "outputs": [],
   "source": [
    "# \"Order Date\" hierarchy\n",
    "m[\"Average Daily Profit (od)\"] = tt.agg.mean(\n",
    "    m[\"Aggregated Profit\"],\n",
    "    scope=tt.OriginScope(levels={l[(\"Orders\", \"Order Date\", \"Order Date\")]}),\n",
    ")\n",
    "\n",
    "# \"Date Hierarchy\" hierarchy\n",
    "m[\"Average Daily Profit (dh)\"] = tt.agg.mean(\n",
    "    m[\"Aggregated Profit\"],\n",
    "    scope=tt.OriginScope(levels={l[(\"Orders\", \"Date Hierarchy\", \"Order Date\")]}),\n",
    ")"
   ]
  },
  {
   "cell_type": "markdown",
   "id": "5abc95f7-6b94-4bda-a9ee-1b0d63cae07d",
   "metadata": {},
   "source": [
    "In fact, the average daily profit gives the same results regardless of which `Order Date` level is indicated in the scope. This is because for any levels that we queried, it will take the average of the profit value at `Order Date` level and apply the average for the level above.  "
   ]
  },
  {
   "cell_type": "code",
   "execution_count": 66,
   "id": "300616ab-70e0-43d4-af2d-4c28b471016c",
   "metadata": {
    "atoti": {
     "height": 472,
     "widget": {
      "columnWidths": {
       "[Measures].[Average Daily Profit (dh)]": 153,
       "[Measures].[Average Daily Profit (od)]": 153
      },
      "mapping": {
       "columns": [
        "ALL_MEASURES"
       ],
       "measures": [
        "[Measures].[Aggregated Profit]",
        "[Measures].[Average Daily Profit (od)]",
        "[Measures].[Average Daily Profit (dh)]"
       ],
       "rows": [
        "[Products].[ProductName].[ProductName] => [Orders].[Order Date].[Order Date] => [Orders].[Order Id].[Order Id]"
       ]
      },
      "name": "Average daily profit - Row-based representation",
      "query": {
       "mdx": "SELECT NON EMPTY Hierarchize(Union(Crossjoin(Descendants({[Products].[ProductName].[AllMember]}, 1, SELF_AND_BEFORE), [Orders].[Order Date].DefaultMember, [Orders].[Order Id].DefaultMember), Crossjoin([Products].[ProductName].[AllMember].[Boston Crab Meat], Hierarchize(Descendants({[Orders].[Order Date].[AllMember]}, 1, SELF_AND_BEFORE)), [Orders].[Order Id].DefaultMember), Crossjoin([Products].[ProductName].[AllMember].[Boston Crab Meat], [Orders].[Order Date].[AllMember].[2019-02-17], Hierarchize(Descendants({[Orders].[Order Id].[AllMember]}, 1, SELF_AND_BEFORE))))) ON ROWS, NON EMPTY {[Measures].[Aggregated Profit], [Measures].[Average Daily Profit (od)], [Measures].[Average Daily Profit (dh)]} ON COLUMNS FROM [Order Cube] CELL PROPERTIES VALUE, FORMATTED_VALUE, BACK_COLOR, FORE_COLOR, FONT_FLAGS",
       "updateMode": "once"
      },
      "serverKey": "default",
      "widgetKey": "pivot-table"
     }
    },
    "tags": []
   },
   "outputs": [
    {
     "data": {
      "application/vnd.atoti.widget.v0+json": {
       "sessionId": "1715104709_0I4MJO",
       "sessionLocation": {
        "https": false,
        "port": 9092
       },
       "widgetCreationCode": "session.widget"
      },
      "text/html": [
       "<img height=\"0\" width=\"0\" src=\"data:,AAAAAAAAAAAAAAAAAAAAAAAAAAAAAAAAAAAAAAAAAAAAAAAACXBIWXMAABqTAAAakwH55E62\" />"
      ],
      "text/plain": [
       "Open the notebook in JupyterLab with the Atoti JupyterLab extension enabled to build this widget."
      ]
     },
     "metadata": {},
     "output_type": "display_data"
    }
   ],
   "source": [
    "session.widget"
   ]
  },
  {
   "cell_type": "markdown",
   "id": "3314c9d9-1019-498a-94ed-b969e7c5a7ee",
   "metadata": {},
   "source": [
    "In the above visualization, we have summation for the `Order Id` level. However, for the levels above `Order Id`, i.e. `Order Date` and `ProductName`, we have the mean aggregations. This may get confusing for some end-users.  \n",
    "\n",
    "A better way to represent our Pivot table when we have different aggregations across different dimensions is to have consistent aggregation on columns and rows where possible. In the visualization below, we sum up the Profits across the `Order Id` for each product (column-wise); and we take the average of the profit across the dates (row-wise).  "
   ]
  },
  {
   "cell_type": "code",
   "execution_count": 67,
   "id": "993fc790-97df-4f2e-af99-fb5e1b92e06a",
   "metadata": {
    "atoti": {
     "height": 294,
     "widget": {
      "columnWidths": {
       "[Measures].[Aggregated Profit]": 119,
       "[Measures].[Average Daily Profit (od)]": 153,
       "[Measures].[Average Daily Profit (od)],[Orders].[Order Date].[AllMember]": 149,
       "[Orders].[Order Date].[AllMember],[Measures].[Aggregated Profit]": 119,
       "[Orders].[Order Date].[AllMember],[Measures].[Average Daily Profit (od)]": 153
      },
      "filters": [
       {
        "dimensionName": "Orders",
        "hierarchyName": "Order Date",
        "isExclusionFilter": false,
        "members": [
         [
          "AllMember",
          "2019-02-15"
         ],
         [
          "AllMember",
          "2019-02-16"
         ],
         [
          "AllMember",
          "2019-02-17"
         ],
         [
          "AllMember",
          "2019-02-18"
         ]
        ],
        "type": "members"
       }
      ],
      "mapping": {
       "columns": [
        "ALL_MEASURES",
        "[Orders].[Order Date].[Order Date]"
       ],
       "measures": [
        "[Measures].[Average Daily Profit (od)]"
       ],
       "rows": [
        "[Products].[ProductName].[ProductName] => [Orders].[Order Id].[Order Id]"
       ]
      },
      "name": "Dimension wise aggregation - summation on columns, mean on rows",
      "query": {
       "mdx": "SELECT NON EMPTY Hierarchize(Union(Crossjoin(Descendants({[Products].[ProductName].[AllMember]}, 1, SELF_AND_BEFORE), [Orders].[Order Id].DefaultMember), Crossjoin([Products].[ProductName].[AllMember].[Alice Mutton], Hierarchize(Descendants({[Orders].[Order Id].[AllMember]}, 1, SELF_AND_BEFORE))))) ON ROWS, NON EMPTY Crossjoin({[Measures].[Average Daily Profit (od)]}, Hierarchize(Descendants({[Orders].[Order Date].[AllMember]}, 1, SELF_AND_BEFORE))) ON COLUMNS FROM [Order Cube] CELL PROPERTIES VALUE, FORMATTED_VALUE, BACK_COLOR, FORE_COLOR, FONT_FLAGS",
       "updateMode": "once"
      },
      "serverKey": "default",
      "widgetKey": "pivot-table"
     }
    },
    "tags": []
   },
   "outputs": [
    {
     "data": {
      "application/vnd.atoti.widget.v0+json": {
       "sessionId": "1715104709_0I4MJO",
       "sessionLocation": {
        "https": false,
        "port": 9092
       },
       "widgetCreationCode": "session.widget"
      },
      "text/html": [
       "<img height=\"0\" width=\"0\" src=\"data:,AAAAAAAAAAAAAAAAAAAAAAAAAAAAAAAAAAAAAAAAAAAAAAAACXBIWXMAABqTAAAakwH55E62\" />"
      ],
      "text/plain": [
       "Open the notebook in JupyterLab with the Atoti JupyterLab extension enabled to build this widget."
      ]
     },
     "metadata": {},
     "output_type": "display_data"
    }
   ],
   "source": [
    "session.widget"
   ]
  },
  {
   "cell_type": "markdown",
   "id": "481ab309-6245-46d8-8e8c-34811fa660f5",
   "metadata": {},
   "source": [
    "By toggling the view to have the `Order Date` on the columns, we can see that there are missing data points on the timeline. Now, the `mean` function takes the average over the number of members, which means that it only considers the days where there are orders accounted for. However, in our case, we needed the profit to be divided by the total number of days within the given period.  \n",
    "\n",
    "Let's see how we manage aggregation over sparse data in such cases. "
   ]
  },
  {
   "cell_type": "markdown",
   "id": "a6c1008a-fca2-40b6-853c-659d69bfbc61",
   "metadata": {},
   "source": [
    "##### 6.2.2.4.2 Managing total counts over sparse data"
   ]
  },
  {
   "cell_type": "markdown",
   "id": "37bf2707-ea5a-4eb2-aa54-7dbb0b04aa8a",
   "metadata": {},
   "source": [
    "Sometimes, it's all about creativity. There are many ways to chain up different measures to achieve the results we wanted, for example:\n",
    "\n",
    "1. Count the number of days. Then we divide profit by the total number of days.  \n",
    "2. We force a value, e.g. 0, for each day in the period and take the mean of the profit.   "
   ]
  },
  {
   "cell_type": "markdown",
   "id": "fdae9ac7-3188-4dca-931c-e2f5f5cc4eb6",
   "metadata": {},
   "source": [
    "__1. Profit / Day count method__\n",
    "\n",
    "Let's look at how we can achieve the first method.  \n",
    "\n",
    "By making use of the aggregate function [`atoti.agg.count_distinct`](https://docs.atoti.io/latest/api/atoti.agg.count_distinct.html#atoti-agg-count-distinct), we can count the number of distinct days in the queried levels.  "
   ]
  },
  {
   "cell_type": "code",
   "execution_count": 68,
   "id": "3ca83b00-9bcf-423e-8923-d4f0a9f42fc2",
   "metadata": {
    "tags": []
   },
   "outputs": [],
   "source": [
    "m[\"Total Days\"] = tt.agg.count_distinct(orders_tbl[\"Order Date\"])"
   ]
  },
  {
   "cell_type": "markdown",
   "id": "f1b922d9-79b1-48b1-80e9-2366e925a1d6",
   "metadata": {},
   "source": [
    "However, what we want is the distinct date count across all the levels, which is the grand total of our `distinct_count` measure. Therefore, we make use of the function [`atoti.total`](https://docs.atoti.io/latest/api/atoti.total.html#atoti-total) to apply the grand total value to the level below, i.e. the `ProductName` level.   \n",
    "\n",
    "However, some products may not be sold on a given day. So, when we query these products, the days counted will be lesser than the span of days we are looking at across all products. What we want is in fact, the number of distinct dates where we have at least an order placed, regardless of the products. If we look at a product level, we would count less days these products, compared to the actual number of days, counted across all products. Here, what we want is the distinct date count across all the levels, which is the grand total of our distinct_count measure."
   ]
  },
  {
   "cell_type": "code",
   "execution_count": 69,
   "id": "6a5f506d-90e4-47bc-b91b-2950c9e40f9d",
   "metadata": {
    "tags": []
   },
   "outputs": [],
   "source": [
    "m[\"Total Day Count\"] = tt.total(m[\"Total Days\"], h[\"ProductName\"])"
   ]
  },
  {
   "cell_type": "markdown",
   "id": "5e0e74f3-21b2-4ad9-9547-33cc2be44696",
   "metadata": {},
   "source": [
    "Finally, we divide the profit over the total day count.  "
   ]
  },
  {
   "cell_type": "code",
   "execution_count": 70,
   "id": "fe5f75a2-cc68-41be-9a9d-d5969b2ec039",
   "metadata": {
    "tags": []
   },
   "outputs": [],
   "source": [
    "# average daily profit computed using the day count method\n",
    "m[\"Average Daily Profit (dc)\"] = m[\"Aggregated Profit\"] / m[\"Total Day Count\"]"
   ]
  },
  {
   "cell_type": "code",
   "execution_count": 71,
   "id": "d55e3009-7500-47c9-8de0-4777013e85ef",
   "metadata": {
    "atoti": {
     "height": 373,
     "widget": {
      "columnWidths": {
       "[Measures].[Historical Daily Profit]": 135,
       "[Orders].[Order Date].[AllMember],[Measures].[Aggregated Profit]": 125,
       "[Orders].[Order Date].[AllMember],[Measures].[Average Daily Profit (dc)]": 163,
       "[Orders].[Order Date].[AllMember],[Measures].[Historical Daily Profit]": 135,
       "[Orders].[Order Date].[AllMember],[Measures].[Total Day Count]": 115,
       "[Orders].[Order Date].[AllMember],[Measures].[Total Days]": 84,
       "[Orders].[Order Date].[AllMember].[2019-02-15],[Measures].[Aggregated Profit]": 125,
       "[Orders].[Order Date].[AllMember].[2019-02-15],[Measures].[Average Daily Profit (dc)]": 163,
       "[Orders].[Order Date].[AllMember].[2019-02-15],[Measures].[Total Day Count]": 115,
       "[Orders].[Order Date].[AllMember].[2019-02-15],[Measures].[Total Days]": 92,
       "[Orders].[Order Date].[AllMember].[2019-02-16],[Measures].[Aggregated Profit]": 125,
       "[Orders].[Order Date].[AllMember].[2019-02-16],[Measures].[Average Daily Profit (dc)]": 163,
       "[Orders].[Order Date].[AllMember].[2019-02-16],[Measures].[Total Day Count]": 115,
       "[Orders].[Order Date].[AllMember].[2019-02-16],[Measures].[Total Days]": 92,
       "[Orders].[Order Date].[AllMember].[2019-02-17],[Measures].[Aggregated Profit]": 125,
       "[Orders].[Order Date].[AllMember].[2019-02-17],[Measures].[Average Daily Profit (dc)]": 163,
       "[Orders].[Order Date].[AllMember].[2019-02-17],[Measures].[Total Day Count]": 115,
       "[Orders].[Order Date].[AllMember].[2019-02-17],[Measures].[Total Days]": 92,
       "[Orders].[Order Date].[AllMember].[2019-02-18],[Measures].[Aggregated Profit]": 125,
       "[Orders].[Order Date].[AllMember].[2019-02-18],[Measures].[Average Daily Profit (dc)]": 163,
       "[Orders].[Order Date].[AllMember].[2019-02-18],[Measures].[Total Day Count]": 115,
       "[Orders].[Order Date].[AllMember].[2019-02-18],[Measures].[Total Days]": 92,
       "[Orders].[Order Date].[AllMember].[2019-03-15],[Measures].[Aggregated Profit]": 125,
       "[Orders].[Order Date].[AllMember].[2019-03-15],[Measures].[Average Daily Profit (dc)]": 163,
       "[Orders].[Order Date].[AllMember].[2019-03-15],[Measures].[Total Day Count]": 115,
       "[Orders].[Order Date].[AllMember].[2019-03-15],[Measures].[Total Days]": 92,
       "[Orders].[Order Date].[AllMember].[2019-03-16],[Measures].[Aggregated Profit]": 125,
       "[Orders].[Order Date].[AllMember].[2019-03-16],[Measures].[Average Daily Profit (dc)]": 163,
       "[Orders].[Order Date].[AllMember].[2019-03-16],[Measures].[Total Day Count]": 115,
       "[Orders].[Order Date].[AllMember].[2019-03-16],[Measures].[Total Days]": 93,
       "[Orders].[Order Date].[AllMember].[2019-03-17],[Measures].[Aggregated Profit]": 125,
       "[Orders].[Order Date].[AllMember].[2019-03-17],[Measures].[Average Daily Profit (dc)]": 163,
       "[Orders].[Order Date].[AllMember].[2019-03-17],[Measures].[Total Day Count]": 115,
       "[Orders].[Order Date].[AllMember].[2019-03-17],[Measures].[Total Days]": 92,
       "[Orders].[Order Date].[AllMember].[2019-03-18],[Measures].[Aggregated Profit]": 125,
       "[Orders].[Order Date].[AllMember].[2019-03-18],[Measures].[Average Daily Profit (dc)]": 163,
       "[Orders].[Order Date].[AllMember].[2019-03-18],[Measures].[Total Day Count]": 115,
       "[Orders].[Order Date].[AllMember].[2019-03-18],[Measures].[Total Days]": 93,
       "[Orders].[Order Date].[AllMember].[2020-01-15],[Measures].[Aggregated Profit]": 125,
       "[Orders].[Order Date].[AllMember].[2020-01-15],[Measures].[Average Daily Profit (dc)]": 163,
       "[Orders].[Order Date].[AllMember].[2020-01-15],[Measures].[Total Day Count]": 115,
       "[Orders].[Order Date].[AllMember].[2020-01-15],[Measures].[Total Days]": 92,
       "[Orders].[Order Date].[AllMember].[2020-01-16],[Measures].[Aggregated Profit]": 125,
       "[Orders].[Order Date].[AllMember].[2020-01-16],[Measures].[Average Daily Profit (dc)]": 163,
       "[Orders].[Order Date].[AllMember].[2020-01-16],[Measures].[Total Day Count]": 115,
       "[Orders].[Order Date].[AllMember].[2020-01-16],[Measures].[Total Days]": 92,
       "[Orders].[Order Date].[AllMember].[2020-01-17],[Measures].[Aggregated Profit]": 125,
       "[Orders].[Order Date].[AllMember].[2020-01-17],[Measures].[Average Daily Profit (dc)]": 163,
       "[Orders].[Order Date].[AllMember].[2020-01-17],[Measures].[Total Day Count]": 115,
       "[Orders].[Order Date].[AllMember].[2020-01-17],[Measures].[Total Days]": 91,
       "[Orders].[Order Date].[AllMember].[2020-01-18],[Measures].[Aggregated Profit]": 125,
       "[Orders].[Order Date].[AllMember].[2020-01-18],[Measures].[Average Daily Profit (dc)]": 163,
       "[Orders].[Order Date].[AllMember].[2020-01-18],[Measures].[Total Day Count]": 115,
       "[Orders].[Order Date].[AllMember].[2020-01-18],[Measures].[Total Days]": 92,
       "[Products].[ProductName].[ProductName]": 209
      },
      "mapping": {
       "columns": [
        "[Orders].[Order Date].[Order Date]",
        "ALL_MEASURES"
       ],
       "measures": [
        "[Measures].[Total Days]",
        "[Measures].[Total Day Count]",
        "[Measures].[Aggregated Profit]",
        "[Measures].[Average Daily Profit (dc)]"
       ],
       "rows": [
        "[Products].[ProductName].[ProductName]"
       ]
      },
      "name": "Historical Daily Profit",
      "query": {
       "mdx": "SELECT NON EMPTY Crossjoin(Hierarchize(Descendants({[Orders].[Order Date].[AllMember]}, 1, SELF_AND_BEFORE)), {[Measures].[Total Days], [Measures].[Total Day Count], [Measures].[Aggregated Profit], [Measures].[Average Daily Profit (dc)]}) ON COLUMNS, NON EMPTY Hierarchize(Descendants({[Products].[ProductName].[AllMember]}, 1, SELF_AND_BEFORE)) ON ROWS FROM [Order Cube] CELL PROPERTIES VALUE, FORMATTED_VALUE, BACK_COLOR, FORE_COLOR, FONT_FLAGS",
       "updateMode": "once"
      },
      "serverKey": "default",
      "widgetKey": "pivot-table"
     }
    },
    "tags": []
   },
   "outputs": [
    {
     "data": {
      "application/vnd.atoti.widget.v0+json": {
       "sessionId": "1715104709_0I4MJO",
       "sessionLocation": {
        "https": false,
        "port": 9092
       },
       "widgetCreationCode": "session.widget"
      },
      "text/html": [
       "<img height=\"0\" width=\"0\" src=\"data:,AAAAAAAAAAAAAAAAAAAAAAAAAAAAAAAAAAAAAAAAAAAAAAAACXBIWXMAABqTAAAakwH55E62\" />"
      ],
      "text/plain": [
       "Open the notebook in JupyterLab with the Atoti JupyterLab extension enabled to build this widget."
      ]
     },
     "metadata": {},
     "output_type": "display_data"
    }
   ],
   "source": [
    "session.widget"
   ]
  },
  {
   "cell_type": "markdown",
   "id": "b2862261-0e8d-4382-8042-6337f5f5180b",
   "metadata": {},
   "source": [
    "This method works even when we use the multi-level `Date Hierarchy` to look at the average monthly or yearly profit.  "
   ]
  },
  {
   "cell_type": "code",
   "execution_count": 72,
   "id": "7f8117e3-2459-4cd1-b23b-653f64716d4d",
   "metadata": {
    "atoti": {
     "height": 373,
     "widget": {
      "columnWidths": {
       "[Measures].[Historical Daily Profit]": 135,
       "[Orders].[Date Hierarchy].[AllMember],[Measures].[Aggregated Profit]": 125,
       "[Orders].[Date Hierarchy].[AllMember],[Measures].[Average Daily Profit (dc)]": 163,
       "[Orders].[Date Hierarchy].[AllMember],[Measures].[Total Day Count]": 115,
       "[Orders].[Date Hierarchy].[AllMember],[Measures].[Total Days]": 84,
       "[Orders].[Date Hierarchy].[AllMember].[2019],[Measures].[Aggregated Profit]": 125,
       "[Orders].[Date Hierarchy].[AllMember].[2019],[Measures].[Average Daily Profit (dc)]": 163,
       "[Orders].[Date Hierarchy].[AllMember].[2019],[Measures].[Total Day Count]": 115,
       "[Orders].[Date Hierarchy].[AllMember].[2019],[Measures].[Total Days]": 84,
       "[Orders].[Date Hierarchy].[AllMember].[2019].[02],[Measures].[Aggregated Profit]": 125,
       "[Orders].[Date Hierarchy].[AllMember].[2019].[02],[Measures].[Average Daily Profit (dc)]": 163,
       "[Orders].[Date Hierarchy].[AllMember].[2019].[02],[Measures].[Total Day Count]": 115,
       "[Orders].[Date Hierarchy].[AllMember].[2019].[02],[Measures].[Total Days]": 84,
       "[Orders].[Date Hierarchy].[AllMember].[2019].[02].[2019-02-15],[Measures].[Aggregated Profit]": 125,
       "[Orders].[Date Hierarchy].[AllMember].[2019].[02].[2019-02-15],[Measures].[Average Daily Profit (dc)]": 163,
       "[Orders].[Date Hierarchy].[AllMember].[2019].[02].[2019-02-15],[Measures].[Total Day Count]": 115,
       "[Orders].[Date Hierarchy].[AllMember].[2019].[02].[2019-02-15],[Measures].[Total Days]": 92,
       "[Orders].[Date Hierarchy].[AllMember].[2019].[02].[2019-02-16],[Measures].[Aggregated Profit]": 125,
       "[Orders].[Date Hierarchy].[AllMember].[2019].[02].[2019-02-16],[Measures].[Average Daily Profit (dc)]": 163,
       "[Orders].[Date Hierarchy].[AllMember].[2019].[02].[2019-02-16],[Measures].[Total Day Count]": 115,
       "[Orders].[Date Hierarchy].[AllMember].[2019].[02].[2019-02-16],[Measures].[Total Days]": 92,
       "[Orders].[Date Hierarchy].[AllMember].[2019].[02].[2019-02-17],[Measures].[Aggregated Profit]": 125,
       "[Orders].[Date Hierarchy].[AllMember].[2019].[02].[2019-02-17],[Measures].[Average Daily Profit (dc)]": 163,
       "[Orders].[Date Hierarchy].[AllMember].[2019].[02].[2019-02-17],[Measures].[Total Day Count]": 115,
       "[Orders].[Date Hierarchy].[AllMember].[2019].[02].[2019-02-17],[Measures].[Total Days]": 92,
       "[Orders].[Date Hierarchy].[AllMember].[2019].[02].[2019-02-18],[Measures].[Aggregated Profit]": 125,
       "[Orders].[Date Hierarchy].[AllMember].[2019].[02].[2019-02-18],[Measures].[Average Daily Profit (dc)]": 163,
       "[Orders].[Date Hierarchy].[AllMember].[2019].[02].[2019-02-18],[Measures].[Total Day Count]": 115,
       "[Orders].[Date Hierarchy].[AllMember].[2019].[02].[2019-02-18],[Measures].[Total Days]": 92,
       "[Orders].[Date Hierarchy].[AllMember].[2019].[03],[Measures].[Aggregated Profit]": 125,
       "[Orders].[Date Hierarchy].[AllMember].[2019].[03],[Measures].[Average Daily Profit (dc)]": 163,
       "[Orders].[Date Hierarchy].[AllMember].[2019].[03],[Measures].[Total Day Count]": 115,
       "[Orders].[Date Hierarchy].[AllMember].[2019].[03],[Measures].[Total Days]": 84,
       "[Orders].[Date Hierarchy].[AllMember].[2020],[Measures].[Aggregated Profit]": 125,
       "[Orders].[Date Hierarchy].[AllMember].[2020],[Measures].[Average Daily Profit (dc)]": 163,
       "[Orders].[Date Hierarchy].[AllMember].[2020],[Measures].[Total Day Count]": 115,
       "[Orders].[Date Hierarchy].[AllMember].[2020],[Measures].[Total Days]": 84,
       "[Orders].[Order Date].[AllMember],[Measures].[Average Daily Profit (dc)]": 152,
       "[Orders].[Order Date].[AllMember],[Measures].[Historical Daily Profit]": 135,
       "[Products].[ProductName].[ProductName]": 209
      },
      "mapping": {
       "columns": [
        "[Orders].[Date Hierarchy].[Year] => [Orders].[Date Hierarchy].[Order Date]",
        "ALL_MEASURES"
       ],
       "measures": [
        "[Measures].[Total Days]",
        "[Measures].[Total Day Count]",
        "[Measures].[Aggregated Profit]",
        "[Measures].[Average Daily Profit (dc)]"
       ],
       "rows": [
        "[Products].[ProductName].[ProductName]"
       ]
      },
      "name": "Historical Daily Profit",
      "query": {
       "mdx": "SELECT NON EMPTY Crossjoin(Hierarchize(Union(Descendants({[Orders].[Date Hierarchy].[AllMember]}, 1, SELF_AND_BEFORE), Descendants({[Orders].[Date Hierarchy].[AllMember].[2019]}, [Orders].[Date Hierarchy].[Month]), Descendants({[Orders].[Date Hierarchy].[AllMember].[2019].[02]}, [Orders].[Date Hierarchy].[Order Date]))), {[Measures].[Total Days], [Measures].[Total Day Count], [Measures].[Aggregated Profit], [Measures].[Average Daily Profit (dc)]}) ON COLUMNS, NON EMPTY Hierarchize(Descendants({[Products].[ProductName].[AllMember]}, 1, SELF_AND_BEFORE)) ON ROWS FROM [Order Cube] CELL PROPERTIES VALUE, FORMATTED_VALUE, BACK_COLOR, FORE_COLOR, FONT_FLAGS",
       "updateMode": "once"
      },
      "serverKey": "default",
      "widgetKey": "pivot-table"
     }
    },
    "tags": []
   },
   "outputs": [
    {
     "data": {
      "application/vnd.atoti.widget.v0+json": {
       "sessionId": "1715104709_0I4MJO",
       "sessionLocation": {
        "https": false,
        "port": 9092
       },
       "widgetCreationCode": "session.widget"
      },
      "text/html": [
       "<img height=\"0\" width=\"0\" src=\"data:,AAAAAAAAAAAAAAAAAAAAAAAAAAAAAAAAAAAAAAAAAAAAAAAACXBIWXMAABqTAAAakwH55E62\" />"
      ],
      "text/plain": [
       "Open the notebook in JupyterLab with the Atoti JupyterLab extension enabled to build this widget."
      ]
     },
     "metadata": {},
     "output_type": "display_data"
    }
   ],
   "source": [
    "session.widget"
   ]
  },
  {
   "cell_type": "markdown",
   "id": "8a266de0-b73a-430b-9d13-6184d58dbe04",
   "metadata": {},
   "source": [
    "__2. Force zero value for days without orders__  \n",
    "\n",
    "In this method, we will make use of the property of [`atoti.CumulativeScope`](https://docs.atoti.io/latest/api/atoti.CumulativeScope.html#atoti-cumulativescope) to ensure there is a value for all members of the level. We will build a few measures to show the property of the `dense` and `window` parameters from the `atoti.CumulativeScope` function.\n",
    "\n",
    "Previously, we learned how we can use `atoti.CumulativeScope` to compute running total. The function has a `dense` parameter which generate values for all the members of the level. For members with no underlying values, it will repeat the value of the previous member."
   ]
  },
  {
   "cell_type": "code",
   "execution_count": 73,
   "id": "72de71ee-6b62-45a1-81c8-4d1fd01c6765",
   "metadata": {
    "tags": []
   },
   "outputs": [],
   "source": [
    "m[\"Cumulative profit (dense)\"] = tt.agg.sum(\n",
    "    m[\"Aggregated Profit\"],\n",
    "    scope=tt.CumulativeScope(\n",
    "        level=l[(\"Orders\", \"Order Date\", \"Order Date\")], dense=True\n",
    "    ),\n",
    ")"
   ]
  },
  {
   "cell_type": "code",
   "execution_count": 74,
   "id": "65767bc3-0665-425e-be44-4c4d9639bab2",
   "metadata": {
    "atoti": {
     "height": 298,
     "widget": {
      "columnWidths": {
       "[Measures].[Aggregated Profit]": 125,
       "[Measures].[Average Daily Profit (cumulative)]": 197,
       "[Measures].[Average Daily Profit (dh)]": 153,
       "[Measures].[Cumulative profit (dense winSize 0)]": 210,
       "[Measures].[Cumulative profit (dense)]": 169,
       "[Orders].[Order Date].[Order Date]": 87,
       "[Products].[ProductName].[ProductName]": 209
      },
      "filters": [
       {
        "dimensionName": "Products",
        "hierarchyName": "ProductName",
        "isExclusionFilter": false,
        "members": [
         [
          "AllMember",
          "Alice Mutton"
         ]
        ],
        "type": "members"
       }
      ],
      "mapping": {
       "columns": [
        "ALL_MEASURES"
       ],
       "measures": [
        "[Measures].[Aggregated Profit]",
        "[Measures].[Cumulative profit (dense)]"
       ],
       "rows": [
        "[Products].[ProductName].[ProductName]",
        "[Orders].[Order Date].[Order Date]"
       ]
      },
      "name": "Cumulative aggregation with dense set to True",
      "query": {
       "mdx": "SELECT NON EMPTY {[Measures].[Aggregated Profit], [Measures].[Cumulative profit (dense)]} ON COLUMNS, NON EMPTY Crossjoin(Hierarchize(Descendants({[Products].[ProductName].[AllMember]}, 1, SELF_AND_BEFORE)), Hierarchize(Descendants({[Orders].[Order Date].[AllMember]}, 1, SELF_AND_BEFORE))) ON ROWS FROM [Order Cube] CELL PROPERTIES VALUE, FORMATTED_VALUE, BACK_COLOR, FORE_COLOR, FONT_FLAGS",
       "updateMode": "once"
      },
      "serverKey": "default",
      "widgetKey": "pivot-table"
     }
    },
    "tags": []
   },
   "outputs": [
    {
     "data": {
      "application/vnd.atoti.widget.v0+json": {
       "sessionId": "1715104709_0I4MJO",
       "sessionLocation": {
        "https": false,
        "port": 9092
       },
       "widgetCreationCode": "session.widget"
      },
      "text/html": [
       "<img height=\"0\" width=\"0\" src=\"data:,AAAAAAAAAAAAAAAAAAAAAAAAAAAAAAAAAAAAAAAAAAAAAAAACXBIWXMAABqTAAAakwH55E62\" />"
      ],
      "text/plain": [
       "Open the notebook in JupyterLab with the Atoti JupyterLab extension enabled to build this widget."
      ]
     },
     "metadata": {},
     "output_type": "display_data"
    }
   ],
   "source": [
    "session.widget"
   ]
  },
  {
   "cell_type": "markdown",
   "id": "a373af2a-cf31-4ca7-8e23-4dd08863ff34",
   "metadata": {},
   "source": [
    "While we want to ensure there is value for each member, we do not actually want it to accumulate. Therefore, we are going to make use of the `window` parameter to limit the number of members to accumulate to 0, i.e. only aggregate its own value. Therefore, a value of 0 will be returned when there is no value.  "
   ]
  },
  {
   "cell_type": "code",
   "execution_count": 75,
   "id": "bfd9ab61-6d99-48c0-bc1c-a861de8c0d64",
   "metadata": {
    "tags": []
   },
   "outputs": [],
   "source": [
    "m[\"Cumulative profit (dense winSize 0)\"] = tt.agg.sum(\n",
    "    m[\"Aggregated Profit\"],\n",
    "    scope=tt.CumulativeScope(\n",
    "        level=l[(\"Orders\", \"Order Date\", \"Order Date\")], dense=True, window=range(0, 0)\n",
    "    ),\n",
    ")"
   ]
  },
  {
   "cell_type": "code",
   "execution_count": 76,
   "id": "613dcd2c-25b0-4ccc-8811-3de701bd6cf3",
   "metadata": {
    "atoti": {
     "height": 481,
     "widget": {
      "columnWidths": {
       "[Measures].[Aggregated Profit]": 125,
       "[Measures].[Average Daily Profit (cumulative)]": 197,
       "[Measures].[Average Daily Profit (dh)]": 153,
       "[Measures].[Cumulative profit (dense winSize 0)]": 226,
       "[Measures].[Cumulative profit (dense)]": 169,
       "[Orders].[Order Date].[Order Date]": 87,
       "[Products].[ProductName].[ProductName]": 209
      },
      "filters": [
       {
        "dimensionName": "Products",
        "hierarchyName": "ProductName",
        "isExclusionFilter": false,
        "members": [
         [
          "AllMember",
          "Alice Mutton"
         ]
        ],
        "type": "members"
       }
      ],
      "mapping": {
       "columns": [
        "ALL_MEASURES"
       ],
       "measures": [
        "[Measures].[Aggregated Profit]",
        "[Measures].[Cumulative profit (dense)]",
        "[Measures].[Cumulative profit (dense winSize 0)]"
       ],
       "rows": [
        "[Products].[ProductName].[ProductName]",
        "[Orders].[Order Date].[Order Date]"
       ]
      },
      "name": "Limit cumulative window size to 0",
      "query": {
       "mdx": "SELECT NON EMPTY {[Measures].[Aggregated Profit], [Measures].[Cumulative profit (dense)], [Measures].[Cumulative profit (dense winSize 0)]} ON COLUMNS, NON EMPTY Crossjoin(Hierarchize(Descendants({[Products].[ProductName].[AllMember]}, 1, SELF_AND_BEFORE)), Hierarchize(Descendants({[Orders].[Order Date].[AllMember]}, 1, SELF_AND_BEFORE))) ON ROWS FROM [Order Cube] CELL PROPERTIES VALUE, FORMATTED_VALUE, BACK_COLOR, FORE_COLOR, FONT_FLAGS",
       "updateMode": "once"
      },
      "serverKey": "default",
      "widgetKey": "pivot-table"
     }
    },
    "tags": []
   },
   "outputs": [
    {
     "data": {
      "application/vnd.atoti.widget.v0+json": {
       "sessionId": "1715104709_0I4MJO",
       "sessionLocation": {
        "https": false,
        "port": 9092
       },
       "widgetCreationCode": "session.widget"
      },
      "text/html": [
       "<img height=\"0\" width=\"0\" src=\"data:,AAAAAAAAAAAAAAAAAAAAAAAAAAAAAAAAAAAAAAAAAAAAAAAACXBIWXMAABqTAAAakwH55E62\" />"
      ],
      "text/plain": [
       "Open the notebook in JupyterLab with the Atoti JupyterLab extension enabled to build this widget."
      ]
     },
     "metadata": {},
     "output_type": "display_data"
    }
   ],
   "source": [
    "session.widget"
   ]
  },
  {
   "cell_type": "markdown",
   "id": "ca52227d-af73-433c-87ba-746fdd707727",
   "metadata": {},
   "source": [
    "Now, we can compute our daily average profit using the `atoti.agg.mean` function.  "
   ]
  },
  {
   "cell_type": "code",
   "execution_count": 77,
   "id": "7f7c1331-de5e-4334-826c-f3f66a4c9852",
   "metadata": {
    "tags": []
   },
   "outputs": [],
   "source": [
    "# average daily profit computed using the cumulative function\n",
    "m[\"Average Daily Profit (cumulative)\"] = tt.agg.mean(\n",
    "    m[\"Cumulative profit (dense winSize 0)\"],\n",
    "    scope=tt.OriginScope(levels={l[(\"Orders\", \"Order Date\", \"Order Date\")]}),\n",
    ")"
   ]
  },
  {
   "cell_type": "code",
   "execution_count": 78,
   "id": "04df6839-2976-4f16-a53a-0bec4b23a3d0",
   "metadata": {
    "atoti": {
     "height": 468,
     "widget": {
      "columnWidths": {
       "[Measures].[Aggregated Profit]": 125,
       "[Measures].[Average Daily Profit (cumulative)]": 210,
       "[Measures].[Average Daily Profit (dc)]": 163,
       "[Measures].[Average Daily Profit (dh)]": 153,
       "[Measures].[Cumulative profit (dense winSize 0)]": 226,
       "[Measures].[Cumulative profit (dense)]": 169,
       "[Orders].[Order Date].[Order Date]": 87,
       "[Products].[ProductName].[ProductName]": 209
      },
      "filters": [
       {
        "dimensionName": "Products",
        "hierarchyName": "ProductName",
        "isExclusionFilter": false,
        "members": [
         [
          "AllMember",
          "Alice Mutton"
         ]
        ],
        "type": "members"
       }
      ],
      "mapping": {
       "columns": [
        "ALL_MEASURES"
       ],
       "measures": [
        "[Measures].[Aggregated Profit]",
        "[Measures].[Cumulative profit (dense)]",
        "[Measures].[Cumulative profit (dense winSize 0)]",
        "[Measures].[Average Daily Profit (cumulative)]",
        "[Measures].[Average Daily Profit (dc)]"
       ],
       "rows": [
        "[Products].[ProductName].[ProductName]",
        "[Orders].[Order Date].[Order Date]"
       ]
      },
      "name": "Average Daily Profit - zero value for days without orders",
      "query": {
       "mdx": "SELECT NON EMPTY {[Measures].[Aggregated Profit], [Measures].[Cumulative profit (dense)], [Measures].[Cumulative profit (dense winSize 0)], [Measures].[Average Daily Profit (cumulative)], [Measures].[Average Daily Profit (dc)]} ON COLUMNS, NON EMPTY Crossjoin(Hierarchize(Descendants({[Products].[ProductName].[AllMember]}, 1, SELF_AND_BEFORE)), Hierarchize(Descendants({[Orders].[Order Date].[AllMember]}, 1, SELF_AND_BEFORE))) ON ROWS FROM [Order Cube] CELL PROPERTIES VALUE, FORMATTED_VALUE, BACK_COLOR, FORE_COLOR, FONT_FLAGS",
       "updateMode": "once"
      },
      "serverKey": "default",
      "widgetKey": "pivot-table"
     }
    },
    "tags": []
   },
   "outputs": [
    {
     "data": {
      "application/vnd.atoti.widget.v0+json": {
       "sessionId": "1715104709_0I4MJO",
       "sessionLocation": {
        "https": false,
        "port": 9092
       },
       "widgetCreationCode": "session.widget"
      },
      "text/html": [
       "<img height=\"0\" width=\"0\" src=\"data:,AAAAAAAAAAAAAAAAAAAAAAAAAAAAAAAAAAAAAAAAAAAAAAAACXBIWXMAABqTAAAakwH55E62\" />"
      ],
      "text/plain": [
       "Open the notebook in JupyterLab with the Atoti JupyterLab extension enabled to build this widget."
      ]
     },
     "metadata": {},
     "output_type": "display_data"
    }
   ],
   "source": [
    "session.widget"
   ]
  },
  {
   "cell_type": "markdown",
   "id": "2df12801-bee7-4827-9b87-6619846af22a",
   "metadata": {},
   "source": [
    "The drawback of this method is that the computation will not work for bucketed daily average along the `Date Hierarchy`. It currently accumulates along the `Date Order` level under the `Date Order` hierarchy; and not under the `Date Hierarchy` hierarchy.  \n",
    "\n",
    "As we can see from the results below, the value for `Average Daily Profit (cumulative)` is incorrect. We will have to create a separate measure along the `Date Order` level under the `Date Hierarchy` hierarchy. "
   ]
  },
  {
   "cell_type": "code",
   "execution_count": 79,
   "id": "55419d04-a963-4cca-9bba-d350eb436c38",
   "metadata": {
    "atoti": {
     "widget": {
      "columnWidths": {
       "[Measures].[Average Daily Profit (cumulative)]": 210,
       "[Measures].[Average Daily Profit (dc)]": 163,
       "[Measures].[Cumulative profit (dense winSize 0)]": 226,
       "[Orders].[Date Hierarchy].[Year]": 86,
       "[Products].[ProductName].[ProductName]": 209
      },
      "mapping": {
       "columns": [
        "ALL_MEASURES"
       ],
       "measures": [
        "[Measures].[Cumulative profit (dense winSize 0)]",
        "[Measures].[Average Daily Profit (cumulative)]",
        "[Measures].[Average Daily Profit (dc)]"
       ],
       "rows": [
        "[Products].[ProductName].[ProductName]",
        "[Orders].[Date Hierarchy].[Year] => [Orders].[Date Hierarchy].[Order Date]"
       ]
      },
      "query": {
       "mdx": "SELECT NON EMPTY Hierarchize(Crossjoin(Hierarchize(Descendants({[Products].[ProductName].[AllMember]}, 1, SELF_AND_BEFORE)), Hierarchize(Descendants({[Orders].[Date Hierarchy].[AllMember]}, 1, SELF_AND_BEFORE)))) ON ROWS, NON EMPTY {[Measures].[Cumulative profit (dense winSize 0)], [Measures].[Average Daily Profit (cumulative)], [Measures].[Average Daily Profit (dc)]} ON COLUMNS FROM [Order Cube] CELL PROPERTIES VALUE, FORMATTED_VALUE, BACK_COLOR, FORE_COLOR, FONT_FLAGS",
       "updateMode": "once"
      },
      "serverKey": "default",
      "widgetKey": "pivot-table"
     }
    },
    "tags": []
   },
   "outputs": [
    {
     "data": {
      "application/vnd.atoti.widget.v0+json": {
       "sessionId": "1715104709_0I4MJO",
       "sessionLocation": {
        "https": false,
        "port": 9092
       },
       "widgetCreationCode": "session.widget"
      },
      "text/html": [
       "<img height=\"0\" width=\"0\" src=\"data:,AAAAAAAAAAAAAAAAAAAAAAAAAAAAAAAAAAAAAAAAAAAAAAAACXBIWXMAABqTAAAakwH55E62\" />"
      ],
      "text/plain": [
       "Open the notebook in JupyterLab with the Atoti JupyterLab extension enabled to build this widget."
      ]
     },
     "metadata": {},
     "output_type": "display_data"
    }
   ],
   "source": [
    "session.widget"
   ]
  },
  {
   "cell_type": "markdown",
   "id": "8ac6a8e4-3431-4174-af0b-bcf60610ec6c",
   "metadata": {},
   "source": [
    "#### 6.2.2.5 Format measures"
   ]
  },
  {
   "cell_type": "markdown",
   "id": "af8415b5-bffe-4d49-883b-781f4ce7da41",
   "metadata": {},
   "source": [
    "We can apply formatting for the **display** of our measures in the returned query results. Note that aggregations performed on the measure will still use its unformatted value for the computation. "
   ]
  },
  {
   "cell_type": "code",
   "execution_count": 80,
   "id": "00694941-d15d-4350-82e8-ca807e8a6cc9",
   "metadata": {
    "tags": []
   },
   "outputs": [],
   "source": [
    "m[\"Aggregated Profit\"].formatter = \"DOUBLE[$#,##0.00]\""
   ]
  },
  {
   "cell_type": "code",
   "execution_count": 81,
   "id": "c1bb9c59-fa8f-4504-bc3c-87eba0541e36",
   "metadata": {
    "atoti": {
     "height": 317,
     "widget": {
      "mapping": {
       "columns": [
        "ALL_MEASURES"
       ],
       "measures": [
        "[Measures].[Quantity Sold.SUM]",
        "[Measures].[Aggregated Profit]"
       ],
       "rows": [
        "[Products].[Product Tree].[ProductCategory]"
       ]
      },
      "name": "Profit by Product Category",
      "query": {
       "mdx": "SELECT NON EMPTY Hierarchize(Descendants({[Products].[Product Tree].[AllMember]}, 1, SELF_AND_BEFORE)) ON ROWS, NON EMPTY {[Measures].[Quantity Sold.SUM], [Measures].[Aggregated Profit]} ON COLUMNS FROM [Order Cube] CELL PROPERTIES VALUE, FORMATTED_VALUE, BACK_COLOR, FORE_COLOR, FONT_FLAGS",
       "updateMode": "once"
      },
      "serverKey": "default",
      "widgetKey": "pivot-table"
     }
    },
    "tags": []
   },
   "outputs": [
    {
     "data": {
      "application/vnd.atoti.widget.v0+json": {
       "sessionId": "1715104709_0I4MJO",
       "sessionLocation": {
        "https": false,
        "port": 9092
       },
       "widgetCreationCode": "session.widget"
      },
      "text/html": [
       "<img height=\"0\" width=\"0\" src=\"data:,AAAAAAAAAAAAAAAAAAAAAAAAAAAAAAAAAAAAAAAAAAAAAAAACXBIWXMAABqTAAAakwH55E62\" />"
      ],
      "text/plain": [
       "Open the notebook in JupyterLab with the Atoti JupyterLab extension enabled to build this widget."
      ]
     },
     "metadata": {},
     "output_type": "display_data"
    }
   ],
   "source": [
    "session.widget"
   ]
  },
  {
   "cell_type": "markdown",
   "id": "b2c22604-c0dd-404c-a798-b652ccf02eaa",
   "metadata": {},
   "source": [
    "💡 Refer to Atoti documentation for other [formatting syntax](https://docs.atoti.io/latest/api/atoti.Measure.formatter.html#atoti-measure-formatter)."
   ]
  },
  {
   "cell_type": "markdown",
   "id": "45c37c01-ee20-4874-84ad-d7f55d799f7f",
   "metadata": {},
   "source": [
    "## 6.3 Cube Housekeeping"
   ]
  },
  {
   "cell_type": "markdown",
   "id": "c5086f99-179e-4996-81ef-da4da51a0f25",
   "metadata": {},
   "source": [
    "There are a few ways to maintaining and looking after your cube:  \n",
    "- [Delete unwanted hierarchies, levels and measures](#6.3.1-Delete-unwanted-hierarchies,-levels-and-measures)\n",
    "- [Hide technical measures](#6.3.2-Hide-technical-measures)  \n",
    "- [Keep measures organized in folders](#6.3.3-Keep-measures-organized-in-folders)  \n"
   ]
  },
  {
   "cell_type": "markdown",
   "id": "7a3fae5d-1a31-4b0e-8410-c83f48a5a3ed",
   "metadata": {},
   "source": [
    "### 6.3.1 Delete unwanted hierarchies, levels and measures  "
   ]
  },
  {
   "cell_type": "markdown",
   "id": "cd251f7e-0790-40e8-a35f-0745409386a8",
   "metadata": {},
   "source": [
    "Let's recall that a cube has three type of attributes: hierarchies, levels and measures. This section looks at how we can delete these attributes:   \n",
    "\n",
    "- [6.3.1.1 Delete hierarchies](#6.3.1.1-Delete-hierarchies)\n",
    "- [6.3.1.2 Delete levels](#6.3.1.2-Delete-levels)\n",
    "- [6.3.1.3 Delete measures](#6.3.1.3-Delete-measures)"
   ]
  },
  {
   "cell_type": "markdown",
   "id": "830caa96-d033-4f53-be98-5e27a9f2ae59",
   "metadata": {},
   "source": [
    "#### 6.3.1.1 Delete hierarchies"
   ]
  },
  {
   "cell_type": "markdown",
   "id": "e19f5f97-5657-4677-ab5e-37de528c3320",
   "metadata": {},
   "source": [
    "Previously, we have created a multi-level hierarchy called `Product Tree` which comprises of the levels `ProductCategory` and `ProductName`.  \n",
    "\n",
    "Whenever, we add the hierarchy `Product Tree` to our query, `ProductCategory` is displayed. Therefore, we can actually delete the single hierarchy `ProductCategory` since it's no longer required.  "
   ]
  },
  {
   "cell_type": "code",
   "execution_count": 82,
   "id": "d30498e3-ab5a-4330-93a9-6f580e6dff54",
   "metadata": {
    "tags": []
   },
   "outputs": [],
   "source": [
    "# # We've commented out this cell to prevent breakages of dependent upstream widgets\n",
    "# # that may depend on this hierarchy. Uncomment the below lines of this cell to execute the change\n",
    "# del h[\"ProductCategory\"]\n",
    "# h"
   ]
  },
  {
   "cell_type": "markdown",
   "id": "e7290509-32e1-41e7-9288-0215f8031490",
   "metadata": {},
   "source": [
    "When the hierarchy is deleted, the underlying levels will also be removed.  "
   ]
  },
  {
   "cell_type": "markdown",
   "id": "700fe533-e260-48c3-a30b-301c91fdc30d",
   "metadata": {},
   "source": [
    "#### 6.3.1.2 Delete levels"
   ]
  },
  {
   "cell_type": "markdown",
   "id": "291dfb60-94aa-4ad3-8b65-7a9b601be345",
   "metadata": {},
   "source": [
    "We can delete levels in the same way as we delete the hierarchy. However, if there is more than 1 level with the same name, we have to define the full path to the level: "
   ]
  },
  {
   "cell_type": "code",
   "execution_count": 83,
   "id": "ddb49802-9ff4-4822-8588-44ff21f1cda6",
   "metadata": {
    "tags": []
   },
   "outputs": [],
   "source": [
    "# # We've commented out this cell to prevent breakages of dependent upstream widgets\n",
    "# # that may depend on this level. Uncomment the below lines of this cell to execute the change\n",
    "# del l[(\"Products\", \"Product Tree\", \"ProductName\")]\n",
    "# l"
   ]
  },
  {
   "cell_type": "markdown",
   "id": "1591f26e-3441-4220-810e-db96e6134d4d",
   "metadata": {
    "tags": []
   },
   "source": [
    "##### **💡Update existing hierarchy**  \n",
    "\n",
    "Since we still want our multi-level hierarchy, let's update it back to its original state:"
   ]
  },
  {
   "cell_type": "code",
   "execution_count": 84,
   "id": "3c8e3f05-6220-43d5-aa79-34dbf9118a6e",
   "metadata": {
    "tags": []
   },
   "outputs": [],
   "source": [
    "# # We've commented out this cell to prevent breakages of dependent upstream widgets\n",
    "# # that may depend on this hierarchy. Uncomment the below lines of this cell to execute the change\n",
    "# h.update(\n",
    "#     {\n",
    "#         \"Product Tree\": [\n",
    "#             product_tbl[\"ProductCategory\"],\n",
    "#             product_tbl[\"ProductName\"],\n",
    "#             orders_tbl[\"Product Id\"],\n",
    "#         ],\n",
    "#     }\n",
    "# )\n",
    "# h"
   ]
  },
  {
   "cell_type": "markdown",
   "id": "f3117cc2-2d53-49cb-b6a9-6c17b4784606",
   "metadata": {},
   "source": [
    "#### 6.3.1.3 Delete measures"
   ]
  },
  {
   "cell_type": "markdown",
   "id": "cb214bef-ce71-4c07-8780-5ab32d404126",
   "metadata": {},
   "source": [
    "As with hierarchies and levels, we use `del` command to delete measures.  "
   ]
  },
  {
   "cell_type": "code",
   "execution_count": 85,
   "id": "b011cee6-8af5-4e55-ad32-a93cb3311792",
   "metadata": {
    "tags": []
   },
   "outputs": [
    {
     "data": {
      "application/json": {
       "Aggregated Profit": {
        "formatter": "DOUBLE[$#,##0.00]"
       },
       "Aggregated Sales (sum)": {
        "formatter": "DOUBLE[#,###.00]"
       },
       "Aggregated Sales (sv)": {
        "formatter": "DOUBLE[#,###.00]"
       },
       "Average Daily Profit (cumulative)": {
        "formatter": "DOUBLE[#,###.00]"
       },
       "Average Daily Profit (dc)": {
        "formatter": "DOUBLE[#,###.00]"
       },
       "Average Daily Profit (dh)": {
        "formatter": "DOUBLE[#,###.00]"
       },
       "Average Daily Profit (od)": {
        "formatter": "DOUBLE[#,###.00]"
       },
       "Cumulative Profit": {
        "formatter": "DOUBLE[#,###.00]"
       },
       "Cumulative profit (dense winSize 0)": {
        "formatter": "DOUBLE[#,###.00]"
       },
       "Cumulative profit (dense)": {
        "formatter": "DOUBLE[#,###.00]"
       },
       "Max profit": {
        "formatter": "DOUBLE[#,###.00]"
       },
       "ProdSum Proft": {
        "formatter": "DOUBLE[#,###.00]"
       },
       "Profit": {
        "formatter": "DOUBLE[#,###.00]"
       },
       "ProfitPerUnit (sv)": {
        "formatter": "DOUBLE[#,###.00]"
       },
       "PurchasingPricePerUnit": {
        "formatter": "DOUBLE[#,###.00]"
       },
       "PurchasingPricePerUnit.MEAN": {
        "formatter": "DOUBLE[#,###.00]"
       },
       "PurchasingPricePerUnit.SUM": {
        "formatter": "DOUBLE[#,###.00]"
       },
       "Quantity Sold.MEAN": {
        "formatter": "DOUBLE[#,###.00]"
       },
       "Quantity Sold.SUM": {
        "formatter": "INT[#,###]"
       },
       "Sales (sum)": {
        "formatter": "DOUBLE[#,###.00]"
       },
       "Sales (sv)": {
        "formatter": "DOUBLE[#,###.00]"
       },
       "Selling Price Per Unit": {
        "formatter": "DOUBLE[#,###.00]"
       },
       "Selling Price Per Unit.MEAN": {
        "formatter": "DOUBLE[#,###.00]"
       },
       "Selling Price Per Unit.SUM": {
        "formatter": "DOUBLE[#,###.00]"
       },
       "Total Day Count": {
        "formatter": "INT[#,###]"
       },
       "Total Days": {
        "formatter": "INT[#,###]"
       },
       "_ProfitPerUnit (mean)": {
        "formatter": "DOUBLE[#,###.00]"
       },
       "_ProfitPerUnit (sum)": {
        "formatter": "DOUBLE[#,###.00]"
       },
       "_ProfitPerUnit (sv)": {
        "formatter": "DOUBLE[#,###.00]"
       },
       "contributors.COUNT": {
        "formatter": "INT[#,###]"
       }
      },
      "text/html": [
       "<ul>\n",
       "<li>Measures\n",
       "  <ul>\n",
       "  <li>Aggregated Profit\n",
       "    <ul>\n",
       "    <li>formatter: DOUBLE[$#,##0.00]</li>\n",
       "    </ul>\n",
       "  </li>\n",
       "  <li>Aggregated Sales (sum)\n",
       "    <ul>\n",
       "    <li>formatter: DOUBLE[#,###.00]</li>\n",
       "    </ul>\n",
       "  </li>\n",
       "  <li>Aggregated Sales (sv)\n",
       "    <ul>\n",
       "    <li>formatter: DOUBLE[#,###.00]</li>\n",
       "    </ul>\n",
       "  </li>\n",
       "  <li>Average Daily Profit (cumulative)\n",
       "    <ul>\n",
       "    <li>formatter: DOUBLE[#,###.00]</li>\n",
       "    </ul>\n",
       "  </li>\n",
       "  <li>Average Daily Profit (dc)\n",
       "    <ul>\n",
       "    <li>formatter: DOUBLE[#,###.00]</li>\n",
       "    </ul>\n",
       "  </li>\n",
       "  <li>Average Daily Profit (dh)\n",
       "    <ul>\n",
       "    <li>formatter: DOUBLE[#,###.00]</li>\n",
       "    </ul>\n",
       "  </li>\n",
       "  <li>Average Daily Profit (od)\n",
       "    <ul>\n",
       "    <li>formatter: DOUBLE[#,###.00]</li>\n",
       "    </ul>\n",
       "  </li>\n",
       "  <li>Cumulative Profit\n",
       "    <ul>\n",
       "    <li>formatter: DOUBLE[#,###.00]</li>\n",
       "    </ul>\n",
       "  </li>\n",
       "  <li>Cumulative profit (dense winSize 0)\n",
       "    <ul>\n",
       "    <li>formatter: DOUBLE[#,###.00]</li>\n",
       "    </ul>\n",
       "  </li>\n",
       "  <li>Cumulative profit (dense)\n",
       "    <ul>\n",
       "    <li>formatter: DOUBLE[#,###.00]</li>\n",
       "    </ul>\n",
       "  </li>\n",
       "  <li>Max profit\n",
       "    <ul>\n",
       "    <li>formatter: DOUBLE[#,###.00]</li>\n",
       "    </ul>\n",
       "  </li>\n",
       "  <li>ProdSum Proft\n",
       "    <ul>\n",
       "    <li>formatter: DOUBLE[#,###.00]</li>\n",
       "    </ul>\n",
       "  </li>\n",
       "  <li>Profit\n",
       "    <ul>\n",
       "    <li>formatter: DOUBLE[#,###.00]</li>\n",
       "    </ul>\n",
       "  </li>\n",
       "  <li>ProfitPerUnit (sv)\n",
       "    <ul>\n",
       "    <li>formatter: DOUBLE[#,###.00]</li>\n",
       "    </ul>\n",
       "  </li>\n",
       "  <li>PurchasingPricePerUnit\n",
       "    <ul>\n",
       "    <li>formatter: DOUBLE[#,###.00]</li>\n",
       "    </ul>\n",
       "  </li>\n",
       "  <li>PurchasingPricePerUnit.MEAN\n",
       "    <ul>\n",
       "    <li>formatter: DOUBLE[#,###.00]</li>\n",
       "    </ul>\n",
       "  </li>\n",
       "  <li>PurchasingPricePerUnit.SUM\n",
       "    <ul>\n",
       "    <li>formatter: DOUBLE[#,###.00]</li>\n",
       "    </ul>\n",
       "  </li>\n",
       "  <li>Quantity Sold.MEAN\n",
       "    <ul>\n",
       "    <li>formatter: DOUBLE[#,###.00]</li>\n",
       "    </ul>\n",
       "  </li>\n",
       "  <li>Quantity Sold.SUM\n",
       "    <ul>\n",
       "    <li>formatter: INT[#,###]</li>\n",
       "    </ul>\n",
       "  </li>\n",
       "  <li>Sales (sum)\n",
       "    <ul>\n",
       "    <li>formatter: DOUBLE[#,###.00]</li>\n",
       "    </ul>\n",
       "  </li>\n",
       "  <li>Sales (sv)\n",
       "    <ul>\n",
       "    <li>formatter: DOUBLE[#,###.00]</li>\n",
       "    </ul>\n",
       "  </li>\n",
       "  <li>Selling Price Per Unit\n",
       "    <ul>\n",
       "    <li>formatter: DOUBLE[#,###.00]</li>\n",
       "    </ul>\n",
       "  </li>\n",
       "  <li>Selling Price Per Unit.MEAN\n",
       "    <ul>\n",
       "    <li>formatter: DOUBLE[#,###.00]</li>\n",
       "    </ul>\n",
       "  </li>\n",
       "  <li>Selling Price Per Unit.SUM\n",
       "    <ul>\n",
       "    <li>formatter: DOUBLE[#,###.00]</li>\n",
       "    </ul>\n",
       "  </li>\n",
       "  <li>Total Day Count\n",
       "    <ul>\n",
       "    <li>formatter: INT[#,###]</li>\n",
       "    </ul>\n",
       "  </li>\n",
       "  <li>Total Days\n",
       "    <ul>\n",
       "    <li>formatter: INT[#,###]</li>\n",
       "    </ul>\n",
       "  </li>\n",
       "  <li>_ProfitPerUnit (mean)\n",
       "    <ul>\n",
       "    <li>formatter: DOUBLE[#,###.00]</li>\n",
       "    </ul>\n",
       "  </li>\n",
       "  <li>_ProfitPerUnit (sum)\n",
       "    <ul>\n",
       "    <li>formatter: DOUBLE[#,###.00]</li>\n",
       "    </ul>\n",
       "  </li>\n",
       "  <li>_ProfitPerUnit (sv)\n",
       "    <ul>\n",
       "    <li>formatter: DOUBLE[#,###.00]</li>\n",
       "    </ul>\n",
       "  </li>\n",
       "  <li>contributors.COUNT\n",
       "    <ul>\n",
       "    <li>formatter: INT[#,###]</li>\n",
       "    </ul>\n",
       "  </li>\n",
       "  </ul>\n",
       "</li>\n",
       "</ul>\n"
      ],
      "text/plain": [
       "{'contributors.COUNT': <atoti.measure.Measure object at 0x132b45d10>, 'update.TIMESTAMP': <atoti.measure.Measure object at 0x132b45d90>, 'Quantity Sold.MEAN': <atoti.measure.Measure object at 0x132b45f50>, 'Quantity Sold.SUM': <atoti.measure.Measure object at 0x132b45cd0>, 'Selling Price Per Unit.MEAN': <atoti.measure.Measure object at 0x132b45e90>, 'Selling Price Per Unit.SUM': <atoti.measure.Measure object at 0x132b45f90>, 'Selling Price Per Unit': <atoti.measure.Measure object at 0x132b46010>, 'PurchasingPricePerUnit': <atoti.measure.Measure object at 0x132b46050>, 'PurchasingPricePerUnit.SUM': <atoti.measure.Measure object at 0x132b46090>, 'PurchasingPricePerUnit.MEAN': <atoti.measure.Measure object at 0x132b460d0>, '_ProfitPerUnit (sv)': <atoti.measure.Measure object at 0x132b46110>, '_ProfitPerUnit (sum)': <atoti.measure.Measure object at 0x132b46150>, '_ProfitPerUnit (mean)': <atoti.measure.Measure object at 0x132b46190>, '__hidden_0_CALCULATED': <atoti.measure.Measure object at 0x132b461d0>, '__hidden_1_LEVEL': <atoti.measure.Measure object at 0x132b46210>, '__hidden_2_BOOLEAN': <atoti.measure.Measure object at 0x132b46250>, 'ProfitPerUnit (sv)': <atoti.measure.Measure object at 0x132b46290>, 'Profit': <atoti.measure.Measure object at 0x132b462d0>, 'Aggregated Profit': <atoti.measure.Measure object at 0x132b46310>, 'Sales (sum)': <atoti.measure.Measure object at 0x132b46350>, 'Aggregated Sales (sum)': <atoti.measure.Measure object at 0x132b46390>, 'Sales (sv)': <atoti.measure.Measure object at 0x132b463d0>, 'Aggregated Sales (sv)': <atoti.measure.Measure object at 0x132b46410>, '__hidden_3_SUM_PRODUCT_ENCAPSULATION': <atoti.measure.Measure object at 0x132b46450>, 'ProdSum Proft': <atoti.measure.Measure object at 0x132b46490>, '__hidden_4_CUMULATIVE_AGG_INNER': <atoti.measure.Measure object at 0x132b464d0>, '__hidden_6_LEVEL': <atoti.measure.Measure object at 0x132b46510>, '__hidden_7_LEVEL': <atoti.measure.Measure object at 0x132b46550>, '__hidden_8_LEVEL': <atoti.measure.Measure object at 0x132b46590>, '__hidden_5_COMPARABLE_MAX': <atoti.measure.Measure object at 0x132b465d0>, 'Cumulative Profit': <atoti.measure.Measure object at 0x132b46610>, '__hidden_9_CUMULATIVE_AGG_INNER': <atoti.measure.Measure object at 0x132b46650>, '__hidden_10_COMPARABLE_MAX': <atoti.measure.Measure object at 0x132b46690>, '__hidden_11_LEAF_NO_AGG': <atoti.measure.Measure object at 0x132b466d0>, 'Max profit': <atoti.measure.Measure object at 0x132b46710>, 'Average Daily Profit (od)': <atoti.measure.Measure object at 0x132b46750>, 'Average Daily Profit (dh)': <atoti.measure.Measure object at 0x132b46790>, 'Total Days': <atoti.measure.Measure object at 0x132b467d0>, 'Total Day Count': <atoti.measure.Measure object at 0x132b46810>, 'Average Daily Profit (dc)': <atoti.measure.Measure object at 0x132b46850>, '__hidden_12_CUMULATIVE_AGG_INNER': <atoti.measure.Measure object at 0x132b46890>, '__hidden_14_LEVEL': <atoti.measure.Measure object at 0x132b468d0>, '__hidden_13_COMPARABLE_MAX': <atoti.measure.Measure object at 0x132b46910>, 'Cumulative profit (dense)': <atoti.measure.Measure object at 0x132b46950>, '__hidden_15_CUMULATIVE_AGG_INNER': <atoti.measure.Measure object at 0x132b46990>, '__hidden_16_COMPARABLE_MAX': <atoti.measure.Measure object at 0x132b469d0>, 'Cumulative profit (dense winSize 0)': <atoti.measure.Measure object at 0x132b46a10>, 'Average Daily Profit (cumulative)': <atoti.measure.Measure object at 0x132b46a50>}"
      ]
     },
     "execution_count": 85,
     "metadata": {
      "application/json": {
       "expanded": false,
       "root": "Measures"
      }
     },
     "output_type": "execute_result"
    }
   ],
   "source": [
    "m"
   ]
  },
  {
   "cell_type": "code",
   "execution_count": 86,
   "id": "73904202-828c-4cbe-aaa2-3186d701432c",
   "metadata": {
    "tags": []
   },
   "outputs": [],
   "source": [
    "# # We've commented out this cell to prevent breakages of dependent upstream widgets\n",
    "# # that may depend on this measure. Uncomment the below lines of this cell to execute the change\n",
    "# del m[\"Quantity Sold.MEAN\"]\n",
    "# m"
   ]
  },
  {
   "cell_type": "markdown",
   "id": "19143f41-e1ef-49bb-8860-a3b24ba5df30",
   "metadata": {},
   "source": [
    "### 6.3.2 Hide technical measures"
   ]
  },
  {
   "cell_type": "markdown",
   "id": "171a4f33-c60b-4404-8bd1-885f09330130",
   "metadata": {},
   "source": [
    "In section [6.2.2.1.2 Chaining up measures](#6.2.2.1.2-Chaining-up-measures), we saw how we can create a measure using other measures. Some of the interim measures, also known as technical measures, are of little interest to end users.  \n",
    "\n",
    "We cannot delete these measures as they are required for the aggregation. Instead, we can hide them from the view of end users to avoid cluttering and confusion."
   ]
  },
  {
   "cell_type": "code",
   "execution_count": 87,
   "id": "f552e81b-ff00-402a-b5b7-1bb88f7b1b6d",
   "metadata": {
    "tags": []
   },
   "outputs": [],
   "source": [
    "m[\"_ProfitPerUnit (mean)\"].visible = False\n",
    "m[\"_ProfitPerUnit (sum)\"].visible = False\n",
    "m[\"_ProfitPerUnit (sv)\"].visible = False"
   ]
  },
  {
   "cell_type": "code",
   "execution_count": 88,
   "id": "65c101c9-815f-4795-898b-ef5d5aa737ee",
   "metadata": {
    "atoti": {
     "height": 116
    },
    "tags": []
   },
   "outputs": [
    {
     "data": {
      "application/vnd.atoti.widget.v0+json": {
       "sessionId": "1715104709_0I4MJO",
       "sessionLocation": {
        "https": false,
        "port": 9092
       },
       "widgetCreationCode": "session.widget"
      },
      "text/html": [
       "<img height=\"0\" width=\"0\" src=\"data:,AAAAAAAAAAAAAAAAAAAAAAAAAAAAAAAAAAAAAAAAAAAAAAAACXBIWXMAABqTAAAakwH55E62\" />"
      ],
      "text/plain": [
       "Open the notebook in JupyterLab with the Atoti JupyterLab extension enabled to build this widget."
      ]
     },
     "metadata": {},
     "output_type": "display_data"
    }
   ],
   "source": [
    "session.widget"
   ]
  },
  {
   "cell_type": "markdown",
   "id": "ba4a606f-dd7d-41e2-8540-85f52e7be87a",
   "metadata": {},
   "source": [
    "Select the widget cell above and verify that the measures with name starting with `_ProfitPerUnit` is no longer displayed in the content editor:  \n",
    "\n",
    "<img src=\"https://data.atoti.io/atoti-academy/images/introduction/6_hide_measures.png\" width=\"500px\"/>"
   ]
  },
  {
   "cell_type": "markdown",
   "id": "aaca7abd-a929-4bdb-8453-54752ebed7a0",
   "metadata": {},
   "source": [
    "It is also not displayed when we view the `cube.measures`."
   ]
  },
  {
   "cell_type": "code",
   "execution_count": 89,
   "id": "2ff052fb-6395-4e40-8093-5bcd505f9534",
   "metadata": {
    "tags": []
   },
   "outputs": [
    {
     "data": {
      "application/json": {
       "Aggregated Profit": {
        "formatter": "DOUBLE[$#,##0.00]"
       },
       "Aggregated Sales (sum)": {
        "formatter": "DOUBLE[#,###.00]"
       },
       "Aggregated Sales (sv)": {
        "formatter": "DOUBLE[#,###.00]"
       },
       "Average Daily Profit (cumulative)": {
        "formatter": "DOUBLE[#,###.00]"
       },
       "Average Daily Profit (dc)": {
        "formatter": "DOUBLE[#,###.00]"
       },
       "Average Daily Profit (dh)": {
        "formatter": "DOUBLE[#,###.00]"
       },
       "Average Daily Profit (od)": {
        "formatter": "DOUBLE[#,###.00]"
       },
       "Cumulative Profit": {
        "formatter": "DOUBLE[#,###.00]"
       },
       "Cumulative profit (dense winSize 0)": {
        "formatter": "DOUBLE[#,###.00]"
       },
       "Cumulative profit (dense)": {
        "formatter": "DOUBLE[#,###.00]"
       },
       "Max profit": {
        "formatter": "DOUBLE[#,###.00]"
       },
       "ProdSum Proft": {
        "formatter": "DOUBLE[#,###.00]"
       },
       "Profit": {
        "formatter": "DOUBLE[#,###.00]"
       },
       "ProfitPerUnit (sv)": {
        "formatter": "DOUBLE[#,###.00]"
       },
       "PurchasingPricePerUnit": {
        "formatter": "DOUBLE[#,###.00]"
       },
       "PurchasingPricePerUnit.MEAN": {
        "formatter": "DOUBLE[#,###.00]"
       },
       "PurchasingPricePerUnit.SUM": {
        "formatter": "DOUBLE[#,###.00]"
       },
       "Quantity Sold.MEAN": {
        "formatter": "DOUBLE[#,###.00]"
       },
       "Quantity Sold.SUM": {
        "formatter": "INT[#,###]"
       },
       "Sales (sum)": {
        "formatter": "DOUBLE[#,###.00]"
       },
       "Sales (sv)": {
        "formatter": "DOUBLE[#,###.00]"
       },
       "Selling Price Per Unit": {
        "formatter": "DOUBLE[#,###.00]"
       },
       "Selling Price Per Unit.MEAN": {
        "formatter": "DOUBLE[#,###.00]"
       },
       "Selling Price Per Unit.SUM": {
        "formatter": "DOUBLE[#,###.00]"
       },
       "Total Day Count": {
        "formatter": "INT[#,###]"
       },
       "Total Days": {
        "formatter": "INT[#,###]"
       },
       "contributors.COUNT": {
        "formatter": "INT[#,###]"
       }
      },
      "text/html": [
       "<ul>\n",
       "<li>Measures\n",
       "  <ul>\n",
       "  <li>Aggregated Profit\n",
       "    <ul>\n",
       "    <li>formatter: DOUBLE[$#,##0.00]</li>\n",
       "    </ul>\n",
       "  </li>\n",
       "  <li>Aggregated Sales (sum)\n",
       "    <ul>\n",
       "    <li>formatter: DOUBLE[#,###.00]</li>\n",
       "    </ul>\n",
       "  </li>\n",
       "  <li>Aggregated Sales (sv)\n",
       "    <ul>\n",
       "    <li>formatter: DOUBLE[#,###.00]</li>\n",
       "    </ul>\n",
       "  </li>\n",
       "  <li>Average Daily Profit (cumulative)\n",
       "    <ul>\n",
       "    <li>formatter: DOUBLE[#,###.00]</li>\n",
       "    </ul>\n",
       "  </li>\n",
       "  <li>Average Daily Profit (dc)\n",
       "    <ul>\n",
       "    <li>formatter: DOUBLE[#,###.00]</li>\n",
       "    </ul>\n",
       "  </li>\n",
       "  <li>Average Daily Profit (dh)\n",
       "    <ul>\n",
       "    <li>formatter: DOUBLE[#,###.00]</li>\n",
       "    </ul>\n",
       "  </li>\n",
       "  <li>Average Daily Profit (od)\n",
       "    <ul>\n",
       "    <li>formatter: DOUBLE[#,###.00]</li>\n",
       "    </ul>\n",
       "  </li>\n",
       "  <li>Cumulative Profit\n",
       "    <ul>\n",
       "    <li>formatter: DOUBLE[#,###.00]</li>\n",
       "    </ul>\n",
       "  </li>\n",
       "  <li>Cumulative profit (dense winSize 0)\n",
       "    <ul>\n",
       "    <li>formatter: DOUBLE[#,###.00]</li>\n",
       "    </ul>\n",
       "  </li>\n",
       "  <li>Cumulative profit (dense)\n",
       "    <ul>\n",
       "    <li>formatter: DOUBLE[#,###.00]</li>\n",
       "    </ul>\n",
       "  </li>\n",
       "  <li>Max profit\n",
       "    <ul>\n",
       "    <li>formatter: DOUBLE[#,###.00]</li>\n",
       "    </ul>\n",
       "  </li>\n",
       "  <li>ProdSum Proft\n",
       "    <ul>\n",
       "    <li>formatter: DOUBLE[#,###.00]</li>\n",
       "    </ul>\n",
       "  </li>\n",
       "  <li>Profit\n",
       "    <ul>\n",
       "    <li>formatter: DOUBLE[#,###.00]</li>\n",
       "    </ul>\n",
       "  </li>\n",
       "  <li>ProfitPerUnit (sv)\n",
       "    <ul>\n",
       "    <li>formatter: DOUBLE[#,###.00]</li>\n",
       "    </ul>\n",
       "  </li>\n",
       "  <li>PurchasingPricePerUnit\n",
       "    <ul>\n",
       "    <li>formatter: DOUBLE[#,###.00]</li>\n",
       "    </ul>\n",
       "  </li>\n",
       "  <li>PurchasingPricePerUnit.MEAN\n",
       "    <ul>\n",
       "    <li>formatter: DOUBLE[#,###.00]</li>\n",
       "    </ul>\n",
       "  </li>\n",
       "  <li>PurchasingPricePerUnit.SUM\n",
       "    <ul>\n",
       "    <li>formatter: DOUBLE[#,###.00]</li>\n",
       "    </ul>\n",
       "  </li>\n",
       "  <li>Quantity Sold.MEAN\n",
       "    <ul>\n",
       "    <li>formatter: DOUBLE[#,###.00]</li>\n",
       "    </ul>\n",
       "  </li>\n",
       "  <li>Quantity Sold.SUM\n",
       "    <ul>\n",
       "    <li>formatter: INT[#,###]</li>\n",
       "    </ul>\n",
       "  </li>\n",
       "  <li>Sales (sum)\n",
       "    <ul>\n",
       "    <li>formatter: DOUBLE[#,###.00]</li>\n",
       "    </ul>\n",
       "  </li>\n",
       "  <li>Sales (sv)\n",
       "    <ul>\n",
       "    <li>formatter: DOUBLE[#,###.00]</li>\n",
       "    </ul>\n",
       "  </li>\n",
       "  <li>Selling Price Per Unit\n",
       "    <ul>\n",
       "    <li>formatter: DOUBLE[#,###.00]</li>\n",
       "    </ul>\n",
       "  </li>\n",
       "  <li>Selling Price Per Unit.MEAN\n",
       "    <ul>\n",
       "    <li>formatter: DOUBLE[#,###.00]</li>\n",
       "    </ul>\n",
       "  </li>\n",
       "  <li>Selling Price Per Unit.SUM\n",
       "    <ul>\n",
       "    <li>formatter: DOUBLE[#,###.00]</li>\n",
       "    </ul>\n",
       "  </li>\n",
       "  <li>Total Day Count\n",
       "    <ul>\n",
       "    <li>formatter: INT[#,###]</li>\n",
       "    </ul>\n",
       "  </li>\n",
       "  <li>Total Days\n",
       "    <ul>\n",
       "    <li>formatter: INT[#,###]</li>\n",
       "    </ul>\n",
       "  </li>\n",
       "  <li>contributors.COUNT\n",
       "    <ul>\n",
       "    <li>formatter: INT[#,###]</li>\n",
       "    </ul>\n",
       "  </li>\n",
       "  </ul>\n",
       "</li>\n",
       "</ul>\n"
      ],
      "text/plain": [
       "{'contributors.COUNT': <atoti.measure.Measure object at 0x132bca990>, 'update.TIMESTAMP': <atoti.measure.Measure object at 0x132bcaa10>, 'Quantity Sold.MEAN': <atoti.measure.Measure object at 0x132bcaa50>, 'Quantity Sold.SUM': <atoti.measure.Measure object at 0x132bcaa90>, 'Selling Price Per Unit.MEAN': <atoti.measure.Measure object at 0x132bcaad0>, 'Selling Price Per Unit.SUM': <atoti.measure.Measure object at 0x132bcab10>, 'Selling Price Per Unit': <atoti.measure.Measure object at 0x132bcab50>, 'PurchasingPricePerUnit': <atoti.measure.Measure object at 0x132bcab90>, 'PurchasingPricePerUnit.SUM': <atoti.measure.Measure object at 0x132bcabd0>, 'PurchasingPricePerUnit.MEAN': <atoti.measure.Measure object at 0x132bcac10>, '_ProfitPerUnit (sv)': <atoti.measure.Measure object at 0x132bcac50>, '_ProfitPerUnit (sum)': <atoti.measure.Measure object at 0x132bcac90>, '_ProfitPerUnit (mean)': <atoti.measure.Measure object at 0x132bcacd0>, '__hidden_0_CALCULATED': <atoti.measure.Measure object at 0x132bcad10>, '__hidden_1_LEVEL': <atoti.measure.Measure object at 0x132bcad50>, '__hidden_2_BOOLEAN': <atoti.measure.Measure object at 0x132bcad90>, 'ProfitPerUnit (sv)': <atoti.measure.Measure object at 0x132bcadd0>, 'Profit': <atoti.measure.Measure object at 0x132bcae10>, 'Aggregated Profit': <atoti.measure.Measure object at 0x132bcae50>, 'Sales (sum)': <atoti.measure.Measure object at 0x132bcae90>, 'Aggregated Sales (sum)': <atoti.measure.Measure object at 0x132bcaed0>, 'Sales (sv)': <atoti.measure.Measure object at 0x132bcaf10>, 'Aggregated Sales (sv)': <atoti.measure.Measure object at 0x132bcaf50>, '__hidden_3_SUM_PRODUCT_ENCAPSULATION': <atoti.measure.Measure object at 0x132bcaf90>, 'ProdSum Proft': <atoti.measure.Measure object at 0x132bcafd0>, '__hidden_4_CUMULATIVE_AGG_INNER': <atoti.measure.Measure object at 0x132bcb010>, '__hidden_6_LEVEL': <atoti.measure.Measure object at 0x132bcb050>, '__hidden_7_LEVEL': <atoti.measure.Measure object at 0x132bcb090>, '__hidden_8_LEVEL': <atoti.measure.Measure object at 0x132bcb0d0>, '__hidden_5_COMPARABLE_MAX': <atoti.measure.Measure object at 0x132bcb110>, 'Cumulative Profit': <atoti.measure.Measure object at 0x132bcb150>, '__hidden_9_CUMULATIVE_AGG_INNER': <atoti.measure.Measure object at 0x132bcb190>, '__hidden_10_COMPARABLE_MAX': <atoti.measure.Measure object at 0x132bcb1d0>, '__hidden_11_LEAF_NO_AGG': <atoti.measure.Measure object at 0x132bcb210>, 'Max profit': <atoti.measure.Measure object at 0x132bcb250>, 'Average Daily Profit (od)': <atoti.measure.Measure object at 0x132bcb290>, 'Average Daily Profit (dh)': <atoti.measure.Measure object at 0x132bcb2d0>, 'Total Days': <atoti.measure.Measure object at 0x132bcb310>, 'Total Day Count': <atoti.measure.Measure object at 0x132bcb350>, 'Average Daily Profit (dc)': <atoti.measure.Measure object at 0x132bcb390>, '__hidden_12_CUMULATIVE_AGG_INNER': <atoti.measure.Measure object at 0x132bcb3d0>, '__hidden_14_LEVEL': <atoti.measure.Measure object at 0x132bcb410>, '__hidden_13_COMPARABLE_MAX': <atoti.measure.Measure object at 0x132bcb450>, 'Cumulative profit (dense)': <atoti.measure.Measure object at 0x132bcb490>, '__hidden_15_CUMULATIVE_AGG_INNER': <atoti.measure.Measure object at 0x132bcb4d0>, '__hidden_16_COMPARABLE_MAX': <atoti.measure.Measure object at 0x132bcb510>, 'Cumulative profit (dense winSize 0)': <atoti.measure.Measure object at 0x132bcb550>, 'Average Daily Profit (cumulative)': <atoti.measure.Measure object at 0x132bcb590>}"
      ]
     },
     "execution_count": 89,
     "metadata": {
      "application/json": {
       "expanded": false,
       "root": "Measures"
      }
     },
     "output_type": "execute_result"
    }
   ],
   "source": [
    "m"
   ]
  },
  {
   "cell_type": "markdown",
   "id": "e9832320-13ec-4453-8261-3cc243afc4fa",
   "metadata": {},
   "source": [
    "### 6.3.3 Organize measures in folders"
   ]
  },
  {
   "cell_type": "markdown",
   "id": "d4c2ec50-d9e2-469d-9e70-1d537f12642b",
   "metadata": {},
   "source": [
    "Folders helps to keep the measures organized. We can expand the relevant folders to access the measures or perform a search to find the intended measure quickly:  \n",
    "\n",
    "<img src=\"https://data.atoti.io/atoti-academy/images/introduction/6_verify_folder.gif\" width=\"500px\" />  "
   ]
  },
  {
   "cell_type": "code",
   "execution_count": 90,
   "id": "43744bdc-5ac1-46d6-8f9c-5148248dbb59",
   "metadata": {
    "tags": []
   },
   "outputs": [],
   "source": [
    "m[\"Selling Price Per Unit\"].folder = \"Unit Price\""
   ]
  },
  {
   "cell_type": "markdown",
   "id": "cea28d5b-8b58-4468-a9d6-55748cfd1665",
   "metadata": {},
   "source": [
    "Let's assign the measures with the substring \"Unit\" in its name to the \"Unit Price\" folder."
   ]
  },
  {
   "cell_type": "code",
   "execution_count": 91,
   "id": "bc0b4794-6101-4107-9f52-01b0078d2b00",
   "metadata": {
    "tags": []
   },
   "outputs": [],
   "source": [
    "for _m_name in m:\n",
    "    if \"Unit\" in m[_m_name].name:\n",
    "        m[_m_name].folder = \"Unit Price\""
   ]
  },
  {
   "cell_type": "markdown",
   "id": "bc15aa4f-201e-4250-b76c-ec47fd1e4b23",
   "metadata": {},
   "source": [
    "### 📐Exercise  \n",
    "\n",
    "Try accessing the measure `Selling Price Per Unit` from the content editor.  "
   ]
  },
  {
   "cell_type": "markdown",
   "id": "e5c40991-19d7-460c-aef3-d4819d04dfdf",
   "metadata": {},
   "source": [
    "### 📖 Solution  \n",
    "\n",
    "Get started with and follow the gif at the beginning of section [6.3.3](#6.3.3-Keep-measures-organized-in-folders):  \n",
    "\n",
    "`session.widget`"
   ]
  },
  {
   "cell_type": "code",
   "execution_count": 92,
   "id": "c1774a4e-b8c0-43a3-bc5c-39f61bf386ef",
   "metadata": {},
   "outputs": [
    {
     "data": {
      "application/vnd.atoti.widget.v0+json": {
       "sessionId": "1715104709_0I4MJO",
       "sessionLocation": {
        "https": false,
        "port": 9092
       },
       "widgetCreationCode": "session.widget"
      },
      "text/html": [
       "<img height=\"0\" width=\"0\" src=\"data:,AAAAAAAAAAAAAAAAAAAAAAAAAAAAAAAAAAAAAAAAAAAAAAAACXBIWXMAABqTAAAakwH55E62\" />"
      ],
      "text/plain": [
       "Open the notebook in JupyterLab with the Atoti JupyterLab extension enabled to build this widget."
      ]
     },
     "metadata": {},
     "output_type": "display_data"
    }
   ],
   "source": [
    "session.widget"
   ]
  },
  {
   "cell_type": "markdown",
   "id": "b85c55c0-abad-47e1-a1e5-c0b000657164",
   "metadata": {},
   "source": [
    "# 7. Visualization"
   ]
  },
  {
   "cell_type": "markdown",
   "id": "ffe46ad8-fbb8-40c3-8f78-d4426fdf5bbc",
   "metadata": {},
   "source": [
    "As we have seen with in earlier sections, we can use `session.widget` to explore data interactively. In this section, we will see quickly how we use the Atoti's JupyterLab extension to interact with the data.  "
   ]
  },
  {
   "cell_type": "markdown",
   "id": "565bd748-e0a8-46e7-b60d-79954804c3eb",
   "metadata": {},
   "source": [
    "## 7.1 Build our visualization"
   ]
  },
  {
   "cell_type": "markdown",
   "id": "c2bbb6ec-2994-45b8-a9dd-048136ee4809",
   "metadata": {},
   "source": [
    "### 7.1.1 Add hierarchies and measures to the visualization"
   ]
  },
  {
   "cell_type": "markdown",
   "id": "34dc49ba-4116-45e2-8215-478dd213c36f",
   "metadata": {
    "tags": []
   },
   "source": [
    "When we execute `session.widget()`, the widget will display an empty Pivot table by default. The custom JupyterLab extension for Atoti will be expanded. Expanding the panel will automatically adjust the view of cube attributes and the widget's attribute into two panels, allowing greater visibility. \n",
    "\n",
    "<img src=\"https://data.atoti.io/atoti-academy/images/introduction/7-atoti-visualization.gif\" />  \n",
    "\n",
    "Clicking on a measure automatically adds it to the visualization as column. Clicking on a hierarchy automatically adds it to the row. Alternatively, drag and drop hierarchies or to move the tiles between rows and columns.  \n",
    "\n",
    "<img src=\"https://data.atoti.io/atoti-academy/images/introduction/7-atoti-drag-and-drop.gif\" />"
   ]
  },
  {
   "cell_type": "markdown",
   "id": "3f41e162-b8ff-4f5d-842f-af0395792f36",
   "metadata": {},
   "source": [
    "### 📐Exercise  \n",
    "\n",
    "Try building your own Pivot table and shift the measures and hierarchies between rows and columns to see how your visualization changes.  "
   ]
  },
  {
   "cell_type": "markdown",
   "id": "9a5b87ee-a3a0-4cbf-a0a2-7754fe216ff7",
   "metadata": {},
   "source": [
    "### 📖 Solution  \n",
    "\n",
    "Get started with:  \n",
    "\n",
    "`session.widget`"
   ]
  },
  {
   "cell_type": "markdown",
   "id": "38839836-53e6-45b9-947c-553325227a98",
   "metadata": {},
   "source": [
    "### 7.1.2 Expandable levels vs multi-level hierarchy"
   ]
  },
  {
   "cell_type": "markdown",
   "id": "4fad9aa0-0db7-437c-8af6-53582536e4e0",
   "metadata": {},
   "source": [
    "__Expanded display by adding hierarchies to rows__  \n",
    "\n",
    "When we add hierarchies to rows/columns, all the levels are displayed with the corresponding measures.  \n",
    "\n",
    "<img src=\"https://data.atoti.io/atoti-academy/images/introduction/7-atoti-expanded.gif\" />  \n",
    "\n",
    "__Collapsible levels by dropping hierarchies into Pivot table__  \n",
    "\n",
    "Drag and drop a level on a member of the column on the pivot table to expand on:   \n",
    "\n",
    "<img src=\"https://data.atoti.io/atoti-academy/images/introduction/7-atoti-collapsible.gif\" />  \n",
    "\n",
    "We can replace the expanded level with another level simply by dropping the new level on member of the parent level.  \n",
    "\n",
    "__Naturally collapsible levels with multilevel hierarchies__\n",
    "\n",
    "For multilevel hierarchy, adding the top level of the hierarchy will have the same collapsible effect for the underlying levels.  \n",
    "\n",
    "<img src=\"https://data.atoti.io/atoti-academy/images/introduction/7-atoti-multilevel-hierarchies.gif\" />  \n",
    "\n"
   ]
  },
  {
   "cell_type": "markdown",
   "id": "2f74389a-ccca-4465-a89d-5c02bb0977a2",
   "metadata": {},
   "source": [
    "## 7.2 Change type of visualization"
   ]
  },
  {
   "cell_type": "markdown",
   "id": "655d3d7c-8f66-4cdb-ab41-d6682e14bf95",
   "metadata": {},
   "source": [
    "We can easily toggle the type of visualization using the drop-down menu in the Atoti's JupyterLab extension.  \n",
    "\n",
    "<img src=\"https://data.atoti.io/atoti-academy/images/introduction/7-atoti-change_type.gif\" />  \n",
    "\n",
    "Adjust the hierarchies and measures interactively to obtain the best-fitting visualization. "
   ]
  },
  {
   "cell_type": "markdown",
   "id": "3051cc1c-b163-4a2c-9358-5a5534d73fde",
   "metadata": {},
   "source": [
    "### 📐Exercise  \n",
    "\n",
    "Using the visualization from the previous exercise, explore the type of visualizations interactively.  "
   ]
  },
  {
   "cell_type": "markdown",
   "id": "30b4f76a-4d64-4df1-b2d3-88ec466a43a5",
   "metadata": {},
   "source": [
    "## 7.3 Filter data"
   ]
  },
  {
   "cell_type": "markdown",
   "id": "8efb22be-ba27-428c-874a-b5144e15848a",
   "metadata": {},
   "source": [
    "### 7.3.1 Focus on a single trace on charts"
   ]
  },
  {
   "cell_type": "markdown",
   "id": "4e592288-ebdc-4c48-8700-87409beacd4b",
   "metadata": {},
   "source": [
    "Atoti uses [Plotly charts](https://plotly.com/python/basic-charts/). Therefore, you can see that we can zoom in on the chart and also (de)select a single trace the same way we do with Plotly.  \n",
    "\n",
    "<img src=\"https://data.atoti.io/atoti-academy/images/introduction/7-atoti-deselect-trace.gif\" />"
   ]
  },
  {
   "cell_type": "markdown",
   "id": "3b22d2bc-13f5-4cb7-9889-60e76eb472ec",
   "metadata": {},
   "source": [
    "### 7.3.2 Filter by member"
   ]
  },
  {
   "cell_type": "markdown",
   "id": "ed27136c-99e9-43e1-9e41-b9b4102e1f45",
   "metadata": {},
   "source": [
    "One of the wonder of Atoti is in its ability to slice and dice the cube. \n",
    "\n",
    "<img src=\"https://data.atoti.io/atoti-academy/images/introduction/7-atoti-slice-dice.png\" />  \n",
    "\n",
    "We can view a subset of the data using the widget filter in Atoti's JupyterLab extension:  \n",
    "\n",
    "<img src=\"https://data.atoti.io/atoti-academy/images/introduction/7-atoti-widget_filter.gif\" />  \n"
   ]
  },
  {
   "cell_type": "markdown",
   "id": "88e5ae1e-0044-4d70-8c9e-773c34792262",
   "metadata": {},
   "source": [
    "### 7.3.3 Conditional filtering "
   ]
  },
  {
   "cell_type": "markdown",
   "id": "4ada65d5-1de2-4956-aaf9-cd9833bf8242",
   "metadata": {},
   "source": [
    "We can apply conditional filtering by toggling to \"Advanced\" mode in the widget filter's pop up:  \n",
    "\n",
    "<img src=\"https://data.atoti.io/atoti-academy/images/introduction/7-atoti-advanced-filter.gif\" />  \n",
    "\n",
    "The GIF above shows how we can obtain the daily profit of the top 5 product categories having the highest profit."
   ]
  },
  {
   "cell_type": "markdown",
   "id": "a2648951-9057-439c-b265-17b92dddf538",
   "metadata": {},
   "source": [
    "### 📐Exercise  \n",
    "\n",
    "In the visualization below, apply advanced filter such that we get the bottom 10 products with the lowest profit.  \n",
    "\n",
    "💡 Right-click on the chart to access the context menu. Try sorting the chart by profit.  "
   ]
  },
  {
   "cell_type": "code",
   "execution_count": 93,
   "id": "2bc68912-475c-46b1-85f1-6875aa21128f",
   "metadata": {
    "atoti": {
     "height": 628,
     "widget": {
      "filters": [],
      "mapping": {
       "horizontalSubplots": [],
       "splitBy": [
        "ALL_MEASURES"
       ],
       "values": [
        "[Measures].[Profit]"
       ],
       "verticalSubplots": [],
       "xAxis": [
        "[Products].[Product Tree].[ProductName]"
       ]
      },
      "name": "Bottom 10 products with the lowest profit",
      "query": {
       "mdx": "SELECT NON EMPTY {[Measures].[Profit]} ON COLUMNS, NON EMPTY Hierarchize(Descendants({[Products].[Product Tree].[AllMember]}, 2, SELF_AND_BEFORE)) ON ROWS FROM [Order Cube] CELL PROPERTIES VALUE, FORMATTED_VALUE, BACK_COLOR, FORE_COLOR, FONT_FLAGS",
       "updateMode": "once"
      },
      "serverKey": "default",
      "widgetKey": "plotly-clustered-column-chart"
     }
    },
    "tags": []
   },
   "outputs": [
    {
     "data": {
      "application/vnd.atoti.widget.v0+json": {
       "sessionId": "1715104709_0I4MJO",
       "sessionLocation": {
        "https": false,
        "port": 9092
       },
       "widgetCreationCode": "session.widget"
      },
      "text/html": [
       "<img height=\"620\" width=\"1538\" src=\"data:image/png;base64,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\" />"
      ],
      "text/plain": [
       "Open the notebook in JupyterLab with the Atoti JupyterLab extension enabled to build this widget."
      ]
     },
     "metadata": {},
     "output_type": "display_data"
    }
   ],
   "source": [
    "session.widget"
   ]
  },
  {
   "cell_type": "markdown",
   "id": "c051df5d-d1e2-438e-90bd-9c1bc86f83d9",
   "metadata": {},
   "source": [
    "### 📖 Solution  \n",
    "\n",
    "<img src=\"https://data.atoti.io/atoti-academy/images/introduction/7-atoti-advanced-filter-solution.gif\">  "
   ]
  },
  {
   "cell_type": "markdown",
   "id": "7bf21357-2b9f-45ce-963f-146209cf4e63",
   "metadata": {},
   "source": [
    "## 7.4 Publish in app  "
   ]
  },
  {
   "cell_type": "markdown",
   "id": "1fa14bb7-775a-4ce6-8355-80dbe57f60ca",
   "metadata": {},
   "source": [
    "During our data exploration, we might want to save some of our investigations and put them in a dashboard for end-users to reference. To do so, we can publish the visualizations that we create in the notebook to Atoti UI application using the `Publish in App` menu.  \n",
    "\n",
    "<img src=\"https://data.atoti.io/atoti-academy/images/introduction/7-atoti-publish-in-app.gif\" />"
   ]
  },
  {
   "cell_type": "markdown",
   "id": "e80fe8df-ebea-4031-a723-ccf1980cef60",
   "metadata": {
    "tags": []
   },
   "source": [
    "💡 We can access Atoti UI using `session.link`."
   ]
  },
  {
   "cell_type": "code",
   "execution_count": 94,
   "id": "201be2fc-a366-4ccd-8d3e-6adc886123df",
   "metadata": {
    "tags": []
   },
   "outputs": [
    {
     "data": {
      "application/vnd.atoti.link.v0+json": {
       "path": "",
       "sessionLocation": {
        "https": false,
        "port": 9092
       }
      },
      "text/markdown": [
       "http://localhost:9092\n",
       "\n",
       "_Note_: This is the session's local URL: it may not be reachable if Atoti is running on another machine."
      ],
      "text/plain": [
       "http://localhost:9092 (This is the session's local URL: it may not be reachable if Atoti is running on another machine.)"
      ]
     },
     "execution_count": 94,
     "metadata": {},
     "output_type": "execute_result"
    }
   ],
   "source": [
    "session.link"
   ]
  },
  {
   "cell_type": "markdown",
   "id": "94ffd3ae-3300-4a5e-83f4-375558a909fa",
   "metadata": {},
   "source": [
    "# 8. Output query results"
   ]
  },
  {
   "cell_type": "markdown",
   "id": "e07306e6-e010-43e6-b06f-388953dc1719",
   "metadata": {},
   "source": [
    "## 8.1 Export data to CSV\n",
    "We can export underlying data from the Atoti widgets. Simply right-click on the visualization and click on \"Export to CSV\".  \n",
    "\n",
    "<img src=\"https://data.atoti.io/atoti-academy/images/introduction/7-atoti-export-to-csv.gif\" />"
   ]
  },
  {
   "cell_type": "markdown",
   "id": "5a5d5f62-a02c-4710-9bbc-0b7d6b3a26df",
   "metadata": {},
   "source": [
    "## 8.2 Output query results to Pandas DataFrame"
   ]
  },
  {
   "cell_type": "markdown",
   "id": "e52a6f81-d521-4d75-bec1-2508b9bfb4cc",
   "metadata": {},
   "source": [
    "We can perform a [cube query](https://docs.atoti.io/latest/api/atoti_query.QueryCube.query.html#atoti-query-querycube-query) and it will return a Pandas DataFrame as shown below:  "
   ]
  },
  {
   "cell_type": "code",
   "execution_count": 95,
   "id": "eff4e313-f7a0-4cf6-ba5d-8043b4b253fd",
   "metadata": {
    "tags": []
   },
   "outputs": [
    {
     "data": {
      "text/html": [
       "<div>\n",
       "<style scoped>\n",
       "    .dataframe tbody tr th:only-of-type {\n",
       "        vertical-align: middle;\n",
       "    }\n",
       "\n",
       "    .dataframe tbody tr th {\n",
       "        vertical-align: top;\n",
       "    }\n",
       "\n",
       "    .dataframe thead th {\n",
       "        text-align: right;\n",
       "    }\n",
       "</style>\n",
       "<table border=\"1\" class=\"dataframe\">\n",
       "  <thead>\n",
       "    <tr style=\"text-align: right;\">\n",
       "      <th></th>\n",
       "      <th></th>\n",
       "      <th>Aggregated Profit</th>\n",
       "      <th>Quantity Sold.SUM</th>\n",
       "    </tr>\n",
       "    <tr>\n",
       "      <th>ProductCategory</th>\n",
       "      <th>ProductName</th>\n",
       "      <th></th>\n",
       "      <th></th>\n",
       "    </tr>\n",
       "  </thead>\n",
       "  <tbody>\n",
       "    <tr>\n",
       "      <th rowspan=\"5\" valign=\"top\">Beverages</th>\n",
       "      <th>Chai</th>\n",
       "      <td>11543.790294</td>\n",
       "      <td>2571</td>\n",
       "    </tr>\n",
       "    <tr>\n",
       "      <th>Chang</th>\n",
       "      <td>72384.597123</td>\n",
       "      <td>12570</td>\n",
       "    </tr>\n",
       "    <tr>\n",
       "      <th>Chartreuse verte</th>\n",
       "      <td>33510.55808</td>\n",
       "      <td>7192</td>\n",
       "    </tr>\n",
       "    <tr>\n",
       "      <th>Côte de Blaye</th>\n",
       "      <td>910872.094836</td>\n",
       "      <td>9657</td>\n",
       "    </tr>\n",
       "    <tr>\n",
       "      <th>Guaraná Fantástica</th>\n",
       "      <td>11544.12</td>\n",
       "      <td>9354</td>\n",
       "    </tr>\n",
       "  </tbody>\n",
       "</table>\n",
       "</div>"
      ],
      "text/plain": [
       "                                    Aggregated Profit  Quantity Sold.SUM\n",
       "ProductCategory ProductName                                             \n",
       "Beverages       Chai                     11543.790294               2571\n",
       "                Chang                    72384.597123              12570\n",
       "                Chartreuse verte          33510.55808               7192\n",
       "                Côte de Blaye           910872.094836               9657\n",
       "                Guaraná Fantástica           11544.12               9354"
      ]
     },
     "execution_count": 95,
     "metadata": {},
     "output_type": "execute_result"
    }
   ],
   "source": [
    "df_profit = cube.query(\n",
    "    m[\"Aggregated Profit\"],\n",
    "    m[\"Quantity Sold.SUM\"],\n",
    "    levels=[\n",
    "        l[\"Products\", \"Product Tree\", \"ProductCategory\"],\n",
    "        l[(\"Products\", \"ProductName\", \"ProductName\")],\n",
    "    ],\n",
    ")\n",
    "df_profit.head()"
   ]
  },
  {
   "cell_type": "markdown",
   "id": "4da44312-f6a9-4467-9030-09ba45cb8abd",
   "metadata": {},
   "source": [
    "Since it's a Pandas DataFrame, we can manipulate it the way we do with Pandas.  "
   ]
  },
  {
   "cell_type": "code",
   "execution_count": 96,
   "id": "ebee1885-c2a8-4038-a460-456ef596efee",
   "metadata": {
    "tags": []
   },
   "outputs": [
    {
     "data": {
      "text/html": [
       "<div>\n",
       "<style scoped>\n",
       "    .dataframe tbody tr th:only-of-type {\n",
       "        vertical-align: middle;\n",
       "    }\n",
       "\n",
       "    .dataframe tbody tr th {\n",
       "        vertical-align: top;\n",
       "    }\n",
       "\n",
       "    .dataframe thead th {\n",
       "        text-align: right;\n",
       "    }\n",
       "</style>\n",
       "<table border=\"1\" class=\"dataframe\">\n",
       "  <thead>\n",
       "    <tr style=\"text-align: right;\">\n",
       "      <th></th>\n",
       "      <th>ProductCategory</th>\n",
       "      <th>ProductName</th>\n",
       "      <th>Aggregated Profit</th>\n",
       "      <th>Quantity Sold.SUM</th>\n",
       "    </tr>\n",
       "  </thead>\n",
       "  <tbody>\n",
       "    <tr>\n",
       "      <th>0</th>\n",
       "      <td>Beverages</td>\n",
       "      <td>Chai</td>\n",
       "      <td>11543.790294</td>\n",
       "      <td>2571</td>\n",
       "    </tr>\n",
       "    <tr>\n",
       "      <th>1</th>\n",
       "      <td>Beverages</td>\n",
       "      <td>Chang</td>\n",
       "      <td>72384.597123</td>\n",
       "      <td>12570</td>\n",
       "    </tr>\n",
       "    <tr>\n",
       "      <th>2</th>\n",
       "      <td>Beverages</td>\n",
       "      <td>Chartreuse verte</td>\n",
       "      <td>33510.55808</td>\n",
       "      <td>7192</td>\n",
       "    </tr>\n",
       "    <tr>\n",
       "      <th>3</th>\n",
       "      <td>Beverages</td>\n",
       "      <td>Côte de Blaye</td>\n",
       "      <td>910872.094836</td>\n",
       "      <td>9657</td>\n",
       "    </tr>\n",
       "    <tr>\n",
       "      <th>4</th>\n",
       "      <td>Beverages</td>\n",
       "      <td>Guaraná Fantástica</td>\n",
       "      <td>11544.12</td>\n",
       "      <td>9354</td>\n",
       "    </tr>\n",
       "    <tr>\n",
       "      <th>...</th>\n",
       "      <td>...</td>\n",
       "      <td>...</td>\n",
       "      <td>...</td>\n",
       "      <td>...</td>\n",
       "    </tr>\n",
       "    <tr>\n",
       "      <th>71</th>\n",
       "      <td>Seafood</td>\n",
       "      <td>Konbu</td>\n",
       "      <td>14568.629067</td>\n",
       "      <td>8895</td>\n",
       "    </tr>\n",
       "    <tr>\n",
       "      <th>72</th>\n",
       "      <td>Seafood</td>\n",
       "      <td>Nord-Ost Matjeshering</td>\n",
       "      <td>88984.414407</td>\n",
       "      <td>9627</td>\n",
       "    </tr>\n",
       "    <tr>\n",
       "      <th>73</th>\n",
       "      <td>Seafood</td>\n",
       "      <td>Rogede sild</td>\n",
       "      <td>6314.611366</td>\n",
       "      <td>6511</td>\n",
       "    </tr>\n",
       "    <tr>\n",
       "      <th>74</th>\n",
       "      <td>Seafood</td>\n",
       "      <td>Röd Kaviar</td>\n",
       "      <td>7946.639679</td>\n",
       "      <td>936</td>\n",
       "    </tr>\n",
       "    <tr>\n",
       "      <th>75</th>\n",
       "      <td>Seafood</td>\n",
       "      <td>Spegesild</td>\n",
       "      <td>17771.489851</td>\n",
       "      <td>7788</td>\n",
       "    </tr>\n",
       "  </tbody>\n",
       "</table>\n",
       "<p>76 rows × 4 columns</p>\n",
       "</div>"
      ],
      "text/plain": [
       "   ProductCategory            ProductName  Aggregated Profit  \\\n",
       "0        Beverages                   Chai       11543.790294   \n",
       "1        Beverages                  Chang       72384.597123   \n",
       "2        Beverages       Chartreuse verte        33510.55808   \n",
       "3        Beverages          Côte de Blaye      910872.094836   \n",
       "4        Beverages     Guaraná Fantástica           11544.12   \n",
       "..             ...                    ...                ...   \n",
       "71         Seafood                  Konbu       14568.629067   \n",
       "72         Seafood  Nord-Ost Matjeshering       88984.414407   \n",
       "73         Seafood            Rogede sild        6314.611366   \n",
       "74         Seafood             Röd Kaviar        7946.639679   \n",
       "75         Seafood              Spegesild       17771.489851   \n",
       "\n",
       "    Quantity Sold.SUM  \n",
       "0                2571  \n",
       "1               12570  \n",
       "2                7192  \n",
       "3                9657  \n",
       "4                9354  \n",
       "..                ...  \n",
       "71               8895  \n",
       "72               9627  \n",
       "73               6511  \n",
       "74                936  \n",
       "75               7788  \n",
       "\n",
       "[76 rows x 4 columns]"
      ]
     },
     "execution_count": 96,
     "metadata": {},
     "output_type": "execute_result"
    }
   ],
   "source": [
    "df_profit.reset_index()"
   ]
  },
  {
   "cell_type": "markdown",
   "id": "57c80e82-f9c9-489a-9cca-022f0003654c",
   "metadata": {},
   "source": [
    "So, this means that we can pass the DataFrame to another Python function, or we can output to CSV file for a downstream system.  "
   ]
  },
  {
   "cell_type": "markdown",
   "id": "c29dfe5e-76ab-4acf-8b84-ab62a4f3f32d",
   "metadata": {},
   "source": [
    "## 8.3 Output query results to other data structure"
   ]
  },
  {
   "cell_type": "markdown",
   "id": "2f9ea00b-9ae5-48b8-a5a7-1ad4c68ab881",
   "metadata": {},
   "source": [
    "From the previous section, we obtained a Pandas DataFrame. Leveraging Pandas functionality, we can output the data to different file structures such as [CSV](https://pandas.pydata.org/docs/reference/api/pandas.DataFrame.to_csv.html):"
   ]
  },
  {
   "cell_type": "code",
   "execution_count": 97,
   "id": "56b25593-9c97-4ce9-9cb2-678b3bb49edc",
   "metadata": {
    "tags": []
   },
   "outputs": [],
   "source": [
    "df_profit.to_csv(\"profit.csv\", index=False)"
   ]
  },
  {
   "cell_type": "markdown",
   "id": "6ac3ba72-b734-4e09-91a8-6d4b336dd1d3",
   "metadata": {},
   "source": [
    "# 📐Exercise  \n",
    "\n",
    "With reference to the [cube query](https://docs.atoti.io/latest/api/atoti_query.QueryCube.query.html#atoti-query-querycube-query) function call in the documentation, try outputting the profit by product category for order date 2019-02-17. "
   ]
  },
  {
   "cell_type": "markdown",
   "id": "5346cd79-2f32-448c-94ce-961bd6d8e3a8",
   "metadata": {
    "tags": []
   },
   "source": [
    "# 📖 Solution  \n",
    "\n",
    "```\n",
    "df = cube.query(\n",
    "    m[\"Profit\"],\n",
    "    levels=[l[\"Order Date\"], l[\"ProductCategory\"]],\n",
    "    filter=(l[\"Order Date\"] == \"2019-02-17\"),\n",
    ")  \n",
    "\n",
    "df.to_csv(\"exercise.csv\", index=False)\n",
    "```"
   ]
  },
  {
   "cell_type": "markdown",
   "id": "0e145a65-878f-47e9-ac7d-e9fc2c7f6dbc",
   "metadata": {},
   "source": [
    "<div style=\"text-align: center;\" ><a href=\"https://www.atoti.io/?utm_source=gallery&utm_content=introduction-to-atoti\" target=\"_blank\" rel=\"noopener noreferrer\"><img src=\"https://data.atoti.io/notebooks/banners/Your-turn-to-try-Atoti.jpg\" alt=\"Try atoti\"></a></div>"
   ]
  }
 ],
 "metadata": {
  "kernelspec": {
   "display_name": "Python 3 (ipykernel)",
   "language": "python",
   "name": "python3"
  },
  "language_info": {
   "codemirror_mode": {
    "name": "ipython",
    "version": 3
   },
   "file_extension": ".py",
   "mimetype": "text/x-python",
   "name": "python",
   "nbconvert_exporter": "python",
   "pygments_lexer": "ipython3",
   "version": "3.11.9"
  },
  "toc-autonumbering": false,
  "toc-showcode": false,
  "toc-showtags": false
 },
 "nbformat": 4,
 "nbformat_minor": 5
}
