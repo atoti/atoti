{
 "cells": [
  {
   "cell_type": "markdown",
   "id": "4b3bb4a0-74bf-4f21-a181-095dd87e0fee",
   "metadata": {},
   "source": [
    "# Working with Hierachies in Atoti\n",
    "\n",
    "In this notebook, we'll show you how to work with hierarchies when using the Atoti Python API. In particular, we'll show you how to implement the following properties and functions for [hierarchies](https://docs.atoti.io/latest/api/atoti.Hierarchy.html):\n",
    "\n",
    "* [`dimension`](#Hierarchy.dimension): Name of the dimension of the hierarchy.\n",
    "* [`dimension_default`](#Hierarchy.dimension_default): Whether the hierarchy is the default in its dimension or not.\n",
    "* [`isin`](#Hierarchy.isin()): Return a condition to check that the hierarchy is on one of the given members.\n",
    "* `levels`: Levels of the hierarchy.\n",
    "* `name`: Name of the hierarchy.\n",
    "* `slicing`: Whether the hierarchy is slicing or not.\n",
    "* `virtual`: Whether the hierarchy is virtual or not.\n",
    "* `visible`: Whether the hierarchy is visible or not.\n",
    "\n",
    "💡 **Note:** Check out the Atoti Server Docs for more conceptual information on [dimensions and hierarchies](https://docs.activeviam.com/products/atoti/server/6.0.7/docs/concepts/dimensions_and_hierarchies/) and on the different [types of hierarchies](https://docs.activeviam.com/products/atoti/server/6.0.7/docs/concepts/dimensions_and_hierarchies/#different-types-of-hierarchies) that Atoti supports."
   ]
  },
  {
   "cell_type": "markdown",
   "id": "f2e8584c-67f1-4396-9c5e-ba5e2db7bae5",
   "metadata": {},
   "source": [
    "<div style=\"text-align: center;\" ><a href=\"https://www.atoti.io/?utm_source=gallery&utm_content=hierarchies\" target=\"_blank\" rel=\"noopener noreferrer\"><img src=\"https://data.atoti.io/notebooks/banners/Discover-Atoti-now.png\" alt=\"Try Atoti\"></a></div>"
   ]
  },
  {
   "cell_type": "markdown",
   "id": "96b431ed-d908-4c90-8028-63faa6ad5210",
   "metadata": {},
   "source": [
    "## Import Libraries\n",
    "\n",
    "First things first, let's import our libraries."
   ]
  },
  {
   "cell_type": "code",
   "execution_count": 1,
   "id": "dd52328a-81c5-4404-a791-ee01d9f83379",
   "metadata": {},
   "outputs": [],
   "source": [
    "import atoti as tt\n",
    "import pandas"
   ]
  },
  {
   "cell_type": "markdown",
   "id": "3dd1ef72-b31a-4bb4-993c-3e379e01f4fc",
   "metadata": {},
   "source": [
    "## Instantiate Atoti Server and Link UI\n",
    "\n",
    "Next, we'll spin up the Atoti server and link the session to our web-based Atoti UI.\n",
    "\n",
    "💡 **Note**: https://docs.atoti.io/latest/api/atoti.Session.html#atoti.Session"
   ]
  },
  {
   "cell_type": "code",
   "execution_count": 2,
   "id": "5989628c-d209-4c17-b023-cd18cb362b40",
   "metadata": {},
   "outputs": [
    {
     "data": {
      "application/vnd.atoti.link.v0+json": {
       "path": "",
       "sessionLocation": {
        "https": false,
        "port": 9092
       }
      },
      "text/markdown": [
       "http://localhost:9092\n",
       "\n",
       "_Note_: This is the session's local URL: it may not be reachable if Atoti is running on another machine."
      ],
      "text/plain": [
       "http://localhost:9092 (This is the session's local URL: it may not be reachable if Atoti is running on another machine.)"
      ]
     },
     "execution_count": 2,
     "metadata": {},
     "output_type": "execute_result"
    }
   ],
   "source": [
    "session = tt.Session(\n",
    "    user_content_storage=\"./content\",\n",
    "    port=9092,\n",
    "    java_options=[\"-Xms1G\", \"-Xmx10G\"],\n",
    ")\n",
    "session.link"
   ]
  },
  {
   "cell_type": "markdown",
   "id": "338e45ac-5994-4d0f-8d32-a750f90eda51",
   "metadata": {},
   "source": [
    "## Load CSVs from S3 Into Atoti Tables\n",
    "\n",
    "From here on, we'll be loading the following CSVs from S3 into Atoti Tables.\n",
    "\n",
    "* [Orders](#Orders)\n",
    "* [Products](#Products)\n",
    "* [Shippers](#Shippers)\n",
    "* [Customers](#Customers)\n",
    "* [Employees](#Employees)\n",
    "\n",
    "💡 **Note**: We should be mindful of the (numerical) columns that we intend to use as hierarchies instead of measures (e.g. an Order ID does not need to be aggregated!). For this reason, we can explicitly set specific Atoti Table columns as desired data types when loading data into Atoti Tables. See https://docs.atoti.io/latest/api/atoti.Session.read_csv.html#atoti.Session.read_csv for more info."
   ]
  },
  {
   "cell_type": "markdown",
   "id": "c2436684-84d0-4875-941e-2609c877b412",
   "metadata": {},
   "source": [
    "### Orders"
   ]
  },
  {
   "cell_type": "code",
   "execution_count": 3,
   "id": "c5bb6cc1-7f54-44d3-9934-f142644c5ca5",
   "metadata": {},
   "outputs": [
    {
     "data": {
      "text/html": [
       "<div>\n",
       "<style scoped>\n",
       "    .dataframe tbody tr th:only-of-type {\n",
       "        vertical-align: middle;\n",
       "    }\n",
       "\n",
       "    .dataframe tbody tr th {\n",
       "        vertical-align: top;\n",
       "    }\n",
       "\n",
       "    .dataframe thead th {\n",
       "        text-align: right;\n",
       "    }\n",
       "</style>\n",
       "<table border=\"1\" class=\"dataframe\">\n",
       "  <thead>\n",
       "    <tr style=\"text-align: right;\">\n",
       "      <th></th>\n",
       "      <th>OrderDate</th>\n",
       "      <th>QuantitySold</th>\n",
       "      <th>SellingPricePerUnit</th>\n",
       "      <th>ShipperName</th>\n",
       "      <th>ProductId</th>\n",
       "      <th>EmployeeId</th>\n",
       "      <th>CustomerId</th>\n",
       "    </tr>\n",
       "    <tr>\n",
       "      <th>OrderId</th>\n",
       "      <th></th>\n",
       "      <th></th>\n",
       "      <th></th>\n",
       "      <th></th>\n",
       "      <th></th>\n",
       "      <th></th>\n",
       "      <th></th>\n",
       "    </tr>\n",
       "  </thead>\n",
       "  <tbody>\n",
       "    <tr>\n",
       "      <th>13</th>\n",
       "      <td>18/2/2019</td>\n",
       "      <td>233</td>\n",
       "      <td>32.01</td>\n",
       "      <td>Federal Shipping</td>\n",
       "      <td>1358</td>\n",
       "      <td>18551</td>\n",
       "      <td>c4859</td>\n",
       "    </tr>\n",
       "    <tr>\n",
       "      <th>27</th>\n",
       "      <td>18/2/2019</td>\n",
       "      <td>749</td>\n",
       "      <td>21.96</td>\n",
       "      <td>Rapid Post</td>\n",
       "      <td>1514</td>\n",
       "      <td>26584</td>\n",
       "      <td>c4747</td>\n",
       "    </tr>\n",
       "    <tr>\n",
       "      <th>41</th>\n",
       "      <td>18/2/2019</td>\n",
       "      <td>454</td>\n",
       "      <td>11.73</td>\n",
       "      <td>Freight United</td>\n",
       "      <td>773</td>\n",
       "      <td>98635</td>\n",
       "      <td>c2675</td>\n",
       "    </tr>\n",
       "    <tr>\n",
       "      <th>55</th>\n",
       "      <td>18/2/2019</td>\n",
       "      <td>2</td>\n",
       "      <td>32.18</td>\n",
       "      <td>Speedy Express</td>\n",
       "      <td>1137</td>\n",
       "      <td>18336</td>\n",
       "      <td>c1275</td>\n",
       "    </tr>\n",
       "    <tr>\n",
       "      <th>69</th>\n",
       "      <td>18/2/2019</td>\n",
       "      <td>672</td>\n",
       "      <td>56.04</td>\n",
       "      <td>Speedy Express</td>\n",
       "      <td>591</td>\n",
       "      <td>26584</td>\n",
       "      <td>c3067</td>\n",
       "    </tr>\n",
       "  </tbody>\n",
       "</table>\n",
       "</div>"
      ],
      "text/plain": [
       "         OrderDate  QuantitySold  SellingPricePerUnit       ShipperName  \\\n",
       "OrderId                                                                   \n",
       "13       18/2/2019           233                32.01  Federal Shipping   \n",
       "27       18/2/2019           749                21.96        Rapid Post   \n",
       "41       18/2/2019           454                11.73    Freight United   \n",
       "55       18/2/2019             2                32.18    Speedy Express   \n",
       "69       18/2/2019           672                56.04    Speedy Express   \n",
       "\n",
       "        ProductId EmployeeId CustomerId  \n",
       "OrderId                                  \n",
       "13           1358      18551      c4859  \n",
       "27           1514      26584      c4747  \n",
       "41            773      98635      c2675  \n",
       "55           1137      18336      c1275  \n",
       "69            591      26584      c3067  "
      ]
     },
     "execution_count": 3,
     "metadata": {},
     "output_type": "execute_result"
    }
   ],
   "source": [
    "orders = session.read_csv(\n",
    "    \"s3://data.atoti.io/notebooks/hierarchies/data/Orders.csv\",\n",
    "    types={\n",
    "        \"OrderId\": tt.STRING,\n",
    "        \"ProductId\": tt.STRING,\n",
    "        \"EmployeeId\": tt.STRING,\n",
    "        \"CustomerId\": tt.STRING,\n",
    "    },\n",
    "    keys=[\"OrderId\"],\n",
    ")\n",
    "orders.head()"
   ]
  },
  {
   "cell_type": "markdown",
   "id": "9784490d-6226-4db7-b10c-e4b9577a2e34",
   "metadata": {},
   "source": [
    "### Products"
   ]
  },
  {
   "cell_type": "code",
   "execution_count": 4,
   "id": "d37199f3-a0eb-4cb4-91a3-57da1d2c752f",
   "metadata": {},
   "outputs": [
    {
     "data": {
      "text/html": [
       "<div>\n",
       "<style scoped>\n",
       "    .dataframe tbody tr th:only-of-type {\n",
       "        vertical-align: middle;\n",
       "    }\n",
       "\n",
       "    .dataframe tbody tr th {\n",
       "        vertical-align: top;\n",
       "    }\n",
       "\n",
       "    .dataframe thead th {\n",
       "        text-align: right;\n",
       "    }\n",
       "</style>\n",
       "<table border=\"1\" class=\"dataframe\">\n",
       "  <thead>\n",
       "    <tr style=\"text-align: right;\">\n",
       "      <th></th>\n",
       "      <th>ProductName</th>\n",
       "      <th>ProductCategory</th>\n",
       "      <th>Supplier</th>\n",
       "      <th>PurchasingPricePerUnit</th>\n",
       "    </tr>\n",
       "    <tr>\n",
       "      <th>ProductId</th>\n",
       "      <th></th>\n",
       "      <th></th>\n",
       "      <th></th>\n",
       "      <th></th>\n",
       "    </tr>\n",
       "  </thead>\n",
       "  <tbody>\n",
       "    <tr>\n",
       "      <th>695</th>\n",
       "      <td>Gorgonzola Telino</td>\n",
       "      <td>Dairy Products</td>\n",
       "      <td>Formaggi Fortini s.r.l.</td>\n",
       "      <td>7.2</td>\n",
       "    </tr>\n",
       "    <tr>\n",
       "      <th>877</th>\n",
       "      <td>Mascarpone Fabioli</td>\n",
       "      <td>Dairy Products</td>\n",
       "      <td>Formaggi Fortini s.r.l.</td>\n",
       "      <td>18.43</td>\n",
       "    </tr>\n",
       "    <tr>\n",
       "      <th>1059</th>\n",
       "      <td>Ipoh Coffee</td>\n",
       "      <td>Beverages</td>\n",
       "      <td>Leka Trading</td>\n",
       "      <td>31.05</td>\n",
       "    </tr>\n",
       "    <tr>\n",
       "      <th>1241</th>\n",
       "      <td>Spegesild</td>\n",
       "      <td>Seafood</td>\n",
       "      <td>Lyngbysild</td>\n",
       "      <td>6.48</td>\n",
       "    </tr>\n",
       "    <tr>\n",
       "      <th>1423</th>\n",
       "      <td>Gumbär Gummibärchen</td>\n",
       "      <td>Confections</td>\n",
       "      <td>Heli Süßwaren GmbH &amp; Co. KG</td>\n",
       "      <td>16.81</td>\n",
       "    </tr>\n",
       "  </tbody>\n",
       "</table>\n",
       "</div>"
      ],
      "text/plain": [
       "                   ProductName ProductCategory                     Supplier  \\\n",
       "ProductId                                                                     \n",
       "695          Gorgonzola Telino  Dairy Products      Formaggi Fortini s.r.l.   \n",
       "877         Mascarpone Fabioli  Dairy Products      Formaggi Fortini s.r.l.   \n",
       "1059               Ipoh Coffee       Beverages                 Leka Trading   \n",
       "1241                 Spegesild         Seafood                   Lyngbysild   \n",
       "1423       Gumbär Gummibärchen     Confections  Heli Süßwaren GmbH & Co. KG   \n",
       "\n",
       "           PurchasingPricePerUnit  \n",
       "ProductId                          \n",
       "695                           7.2  \n",
       "877                         18.43  \n",
       "1059                        31.05  \n",
       "1241                         6.48  \n",
       "1423                        16.81  "
      ]
     },
     "execution_count": 4,
     "metadata": {},
     "output_type": "execute_result"
    }
   ],
   "source": [
    "products = session.read_csv(\n",
    "    \"s3://data.atoti.io/notebooks/hierarchies/data/Products.csv\",\n",
    "    types={\n",
    "        \"ProductId\": tt.STRING,\n",
    "        \"ProductName\": tt.STRING,\n",
    "        \"ProductCategory\": tt.STRING,\n",
    "        \"Supplier\": tt.STRING,\n",
    "        \"PurchasingPricePerUnit\": tt.DOUBLE,\n",
    "    },\n",
    "    keys=[\"ProductId\"],\n",
    ")\n",
    "products.head()"
   ]
  },
  {
   "cell_type": "markdown",
   "id": "ac89f164-064a-4658-b7a7-642dd5d45d80",
   "metadata": {},
   "source": [
    "### Shippers"
   ]
  },
  {
   "cell_type": "code",
   "execution_count": 5,
   "id": "1280d556-8697-4086-9cb9-3b93c339255a",
   "metadata": {},
   "outputs": [
    {
     "data": {
      "text/html": [
       "<div>\n",
       "<style scoped>\n",
       "    .dataframe tbody tr th:only-of-type {\n",
       "        vertical-align: middle;\n",
       "    }\n",
       "\n",
       "    .dataframe tbody tr th {\n",
       "        vertical-align: top;\n",
       "    }\n",
       "\n",
       "    .dataframe thead th {\n",
       "        text-align: right;\n",
       "    }\n",
       "</style>\n",
       "<table border=\"1\" class=\"dataframe\">\n",
       "  <thead>\n",
       "    <tr style=\"text-align: right;\">\n",
       "      <th></th>\n",
       "      <th>ShipperName</th>\n",
       "      <th>Contact</th>\n",
       "    </tr>\n",
       "  </thead>\n",
       "  <tbody>\n",
       "    <tr>\n",
       "      <th>0</th>\n",
       "      <td>Freight United</td>\n",
       "      <td>Geoff Matthews</td>\n",
       "    </tr>\n",
       "    <tr>\n",
       "      <th>1</th>\n",
       "      <td>Federal Shipping</td>\n",
       "      <td>Liz Welds</td>\n",
       "    </tr>\n",
       "    <tr>\n",
       "      <th>2</th>\n",
       "      <td>Rapid Post</td>\n",
       "      <td>Payal Shah</td>\n",
       "    </tr>\n",
       "    <tr>\n",
       "      <th>3</th>\n",
       "      <td>The Transporter</td>\n",
       "      <td>Funmi Odunga</td>\n",
       "    </tr>\n",
       "    <tr>\n",
       "      <th>4</th>\n",
       "      <td>United Package</td>\n",
       "      <td>Junqi Huang</td>\n",
       "    </tr>\n",
       "  </tbody>\n",
       "</table>\n",
       "</div>"
      ],
      "text/plain": [
       "        ShipperName         Contact\n",
       "0    Freight United  Geoff Matthews\n",
       "1  Federal Shipping       Liz Welds\n",
       "2        Rapid Post      Payal Shah\n",
       "3   The Transporter    Funmi Odunga\n",
       "4    United Package     Junqi Huang"
      ]
     },
     "execution_count": 5,
     "metadata": {},
     "output_type": "execute_result"
    }
   ],
   "source": [
    "shippers = session.read_csv(\n",
    "    \"s3://data.atoti.io/notebooks/hierarchies/data/Shippers.csv\",\n",
    "    types={\n",
    "        \"ShipperName\": tt.STRING,\n",
    "        \"Contact\": tt.STRING,\n",
    "    },\n",
    ")\n",
    "shippers.head()"
   ]
  },
  {
   "cell_type": "markdown",
   "id": "9c4dac8a-8dc7-4158-8976-1ba48b98f2be",
   "metadata": {},
   "source": [
    "### Customers"
   ]
  },
  {
   "cell_type": "code",
   "execution_count": 6,
   "id": "5c17d95f-eb31-4a3b-b05a-ff3b30c0fe79",
   "metadata": {},
   "outputs": [
    {
     "data": {
      "text/html": [
       "<div>\n",
       "<style scoped>\n",
       "    .dataframe tbody tr th:only-of-type {\n",
       "        vertical-align: middle;\n",
       "    }\n",
       "\n",
       "    .dataframe tbody tr th {\n",
       "        vertical-align: top;\n",
       "    }\n",
       "\n",
       "    .dataframe thead th {\n",
       "        text-align: right;\n",
       "    }\n",
       "</style>\n",
       "<table border=\"1\" class=\"dataframe\">\n",
       "  <thead>\n",
       "    <tr style=\"text-align: right;\">\n",
       "      <th></th>\n",
       "      <th>CompanyName</th>\n",
       "      <th>Address</th>\n",
       "      <th>City</th>\n",
       "      <th>PostalCode</th>\n",
       "      <th>Region</th>\n",
       "      <th>Country</th>\n",
       "      <th>Subregion</th>\n",
       "      <th>Phone</th>\n",
       "      <th>PostCode</th>\n",
       "    </tr>\n",
       "    <tr>\n",
       "      <th>CustomerId</th>\n",
       "      <th></th>\n",
       "      <th></th>\n",
       "      <th></th>\n",
       "      <th></th>\n",
       "      <th></th>\n",
       "      <th></th>\n",
       "      <th></th>\n",
       "      <th></th>\n",
       "      <th></th>\n",
       "    </tr>\n",
       "  </thead>\n",
       "  <tbody>\n",
       "    <tr>\n",
       "      <th>c3571</th>\n",
       "      <td>Bon app'</td>\n",
       "      <td>12, rue des Bouchers</td>\n",
       "      <td>Marseille</td>\n",
       "      <td>13008</td>\n",
       "      <td>Europe</td>\n",
       "      <td>France</td>\n",
       "      <td>Western Europe</td>\n",
       "      <td>91.24.45.40</td>\n",
       "      <td>N/A</td>\n",
       "    </tr>\n",
       "    <tr>\n",
       "      <th>c4075</th>\n",
       "      <td>Drachenblut Delikatessen</td>\n",
       "      <td>Walserweg 21</td>\n",
       "      <td>Aachen</td>\n",
       "      <td>52066</td>\n",
       "      <td>Europe</td>\n",
       "      <td>Germany</td>\n",
       "      <td>Western Europe</td>\n",
       "      <td>0241-039123</td>\n",
       "      <td>N/A</td>\n",
       "    </tr>\n",
       "    <tr>\n",
       "      <th>c4243</th>\n",
       "      <td>Galería del gastrónomo</td>\n",
       "      <td>Rambla de Cataluña, 23</td>\n",
       "      <td>Barcelona</td>\n",
       "      <td>8022</td>\n",
       "      <td>Europe</td>\n",
       "      <td>Spain</td>\n",
       "      <td>Southern Europe</td>\n",
       "      <td>(93) 203 4560</td>\n",
       "      <td>N/A</td>\n",
       "    </tr>\n",
       "    <tr>\n",
       "      <th>c5083</th>\n",
       "      <td>Laughing Bacchus Wine Cellars</td>\n",
       "      <td>1900 Oak St.</td>\n",
       "      <td>Vancouver</td>\n",
       "      <td>V3F 2K1</td>\n",
       "      <td>Northern America</td>\n",
       "      <td>Canada</td>\n",
       "      <td>North America</td>\n",
       "      <td>(604) 555-3392</td>\n",
       "      <td>N/A</td>\n",
       "    </tr>\n",
       "    <tr>\n",
       "      <th>c5027</th>\n",
       "      <td>Lazy K Kountry Store</td>\n",
       "      <td>12 Orchestra Terrace</td>\n",
       "      <td>Walla Walla</td>\n",
       "      <td>99362</td>\n",
       "      <td>Northern America</td>\n",
       "      <td>United States</td>\n",
       "      <td>North America</td>\n",
       "      <td>(509) 555-7969</td>\n",
       "      <td>N/A</td>\n",
       "    </tr>\n",
       "  </tbody>\n",
       "</table>\n",
       "</div>"
      ],
      "text/plain": [
       "                              CompanyName                 Address  \\\n",
       "CustomerId                                                          \n",
       "c3571                            Bon app'    12, rue des Bouchers   \n",
       "c4075            Drachenblut Delikatessen            Walserweg 21   \n",
       "c4243              Galería del gastrónomo  Rambla de Cataluña, 23   \n",
       "c5083       Laughing Bacchus Wine Cellars            1900 Oak St.   \n",
       "c5027                Lazy K Kountry Store    12 Orchestra Terrace   \n",
       "\n",
       "                   City PostalCode            Region        Country  \\\n",
       "CustomerId                                                            \n",
       "c3571         Marseille      13008            Europe         France   \n",
       "c4075            Aachen      52066            Europe        Germany   \n",
       "c4243         Barcelona       8022            Europe          Spain   \n",
       "c5083         Vancouver    V3F 2K1  Northern America         Canada   \n",
       "c5027       Walla Walla      99362  Northern America  United States   \n",
       "\n",
       "                  Subregion           Phone PostCode  \n",
       "CustomerId                                            \n",
       "c3571        Western Europe     91.24.45.40      N/A  \n",
       "c4075        Western Europe     0241-039123      N/A  \n",
       "c4243       Southern Europe   (93) 203 4560      N/A  \n",
       "c5083         North America  (604) 555-3392      N/A  \n",
       "c5027         North America  (509) 555-7969      N/A  "
      ]
     },
     "execution_count": 6,
     "metadata": {},
     "output_type": "execute_result"
    }
   ],
   "source": [
    "customers = session.read_csv(\n",
    "    \"s3://data.atoti.io/notebooks/hierarchies/data/Customers.csv\",\n",
    "    types={\n",
    "        \"CustomerId\": tt.STRING,\n",
    "        \"CompanyName\": tt.STRING,\n",
    "        \"Region\": tt.STRING,\n",
    "        \"Country\": tt.STRING,\n",
    "        \"Address\": tt.STRING,\n",
    "        \"City\": tt.STRING,\n",
    "        \"PostCode\": tt.STRING,\n",
    "        \"Phone\": tt.STRING,\n",
    "    },\n",
    "    keys=[\"CustomerId\"],\n",
    ")\n",
    "customers.head()"
   ]
  },
  {
   "cell_type": "markdown",
   "id": "0c30a612-1763-4390-9c33-336934e7d033",
   "metadata": {},
   "source": [
    "### Employees"
   ]
  },
  {
   "cell_type": "code",
   "execution_count": 7,
   "id": "c3ce0b51-5296-4696-960a-d18346499be3",
   "metadata": {},
   "outputs": [
    {
     "data": {
      "text/html": [
       "<div>\n",
       "<style scoped>\n",
       "    .dataframe tbody tr th:only-of-type {\n",
       "        vertical-align: middle;\n",
       "    }\n",
       "\n",
       "    .dataframe tbody tr th {\n",
       "        vertical-align: top;\n",
       "    }\n",
       "\n",
       "    .dataframe thead th {\n",
       "        text-align: right;\n",
       "    }\n",
       "</style>\n",
       "<table border=\"1\" class=\"dataframe\">\n",
       "  <thead>\n",
       "    <tr style=\"text-align: right;\">\n",
       "      <th></th>\n",
       "      <th>EmployeeName</th>\n",
       "      <th>EmployeeZone</th>\n",
       "      <th>EmployeeCountry</th>\n",
       "      <th>EmployeeCity</th>\n",
       "    </tr>\n",
       "    <tr>\n",
       "      <th>EmployeeId</th>\n",
       "      <th></th>\n",
       "      <th></th>\n",
       "      <th></th>\n",
       "      <th></th>\n",
       "    </tr>\n",
       "  </thead>\n",
       "  <tbody>\n",
       "    <tr>\n",
       "      <th>63528</th>\n",
       "      <td>Sean Tan</td>\n",
       "      <td>ASIA</td>\n",
       "      <td>SG</td>\n",
       "      <td>Singapore</td>\n",
       "    </tr>\n",
       "    <tr>\n",
       "      <th>98635</th>\n",
       "      <td>Shannon Lim</td>\n",
       "      <td>ASIA</td>\n",
       "      <td>SG</td>\n",
       "      <td>Singapore</td>\n",
       "    </tr>\n",
       "    <tr>\n",
       "      <th>12344</th>\n",
       "      <td>Paul Henry</td>\n",
       "      <td>EMEA</td>\n",
       "      <td>FR</td>\n",
       "      <td>Paris</td>\n",
       "    </tr>\n",
       "    <tr>\n",
       "      <th>12695</th>\n",
       "      <td>Louis Philippe</td>\n",
       "      <td>EMEA</td>\n",
       "      <td>FR</td>\n",
       "      <td>Lyon</td>\n",
       "    </tr>\n",
       "    <tr>\n",
       "      <th>18336</th>\n",
       "      <td>Steven Buchanan</td>\n",
       "      <td>EMEA</td>\n",
       "      <td>UK</td>\n",
       "      <td>London</td>\n",
       "    </tr>\n",
       "  </tbody>\n",
       "</table>\n",
       "</div>"
      ],
      "text/plain": [
       "               EmployeeName EmployeeZone EmployeeCountry EmployeeCity\n",
       "EmployeeId                                                           \n",
       "63528              Sean Tan         ASIA              SG    Singapore\n",
       "98635           Shannon Lim         ASIA              SG    Singapore\n",
       "12344            Paul Henry         EMEA              FR        Paris\n",
       "12695        Louis Philippe         EMEA              FR         Lyon\n",
       "18336       Steven Buchanan         EMEA              UK       London"
      ]
     },
     "execution_count": 7,
     "metadata": {},
     "output_type": "execute_result"
    }
   ],
   "source": [
    "employees = session.read_csv(\n",
    "    \"s3://data.atoti.io/notebooks/hierarchies/data/Employees.csv\",\n",
    "    types={\n",
    "        \"EmployeeId\": tt.STRING,\n",
    "        \"EmployeeName\": tt.STRING,\n",
    "        \"EmployeeCountry\": tt.STRING,\n",
    "        \"EmployeeCity\": tt.STRING,\n",
    "    },\n",
    "    keys=[\"EmployeeId\"],\n",
    ")\n",
    "employees.head()"
   ]
  },
  {
   "cell_type": "markdown",
   "id": "6e277a6c-bf86-46d0-8c28-ab48986f8237",
   "metadata": {},
   "source": [
    "## Join Tables and Create Cube\n",
    "\n",
    "Now, that our data is loaded into our Atoti Tables and in the format that we want, we should join our tables together on common keys to extend attributes from other entity relationships, and create our Atoti cube."
   ]
  },
  {
   "cell_type": "code",
   "execution_count": 8,
   "id": "63f8f654-b769-4362-ac4c-5470c22d27b2",
   "metadata": {},
   "outputs": [],
   "source": [
    "# Join tables\n",
    "orders.join(products, orders[\"ProductId\"] == products[\"ProductId\"])\n",
    "orders.join(employees, orders[\"EmployeeId\"] == employees[\"EmployeeId\"])\n",
    "orders.join(customers, orders[\"CustomerId\"] == customers[\"CustomerId\"])\n",
    "orders.join(shippers, orders[\"ShipperName\"] == shippers[\"ShipperName\"])"
   ]
  },
  {
   "cell_type": "code",
   "execution_count": 9,
   "id": "b5f9b569-eaa7-4b41-8a36-071f6970444a",
   "metadata": {},
   "outputs": [],
   "source": [
    "# Create Cube from Atoti Table object\n",
    "cube = session.create_cube(orders)"
   ]
  },
  {
   "cell_type": "markdown",
   "id": "43c0ab89-5c1a-4546-8d4a-942ee8dc8708",
   "metadata": {},
   "source": [
    "## Analyze the Atoti Cube\n",
    "\n",
    "Now that the data has been loaded into the cube, we'll want to examine the data model of the cube to confirm that the columns and data types match up to what we expect. In addition, we can view the hierarchies, levels, and measures for our cube by assigning them to variables."
   ]
  },
  {
   "cell_type": "code",
   "execution_count": 10,
   "id": "eaf46e7c-2501-462b-82a1-107e74e497f7",
   "metadata": {},
   "outputs": [
    {
     "data": {
      "image/png": "[encoded data removed]",
      "text/plain": [
       "erDiagram\n",
       "  \"Orders\" {\n",
       "    _ String PK \"OrderId\"\n",
       "    _ String \"OrderDate\"\n",
       "    nullable int \"QuantitySold\"\n",
       "    nullable double \"SellingPricePerUnit\"\n",
       "    _ String \"ShipperName\"\n",
       "    _ String \"ProductId\"\n",
       "    _ String \"EmployeeId\"\n",
       "    _ String \"CustomerId\"\n",
       "  }\n",
       "  \"Products\" {\n",
       "    _ String PK \"ProductId\"\n",
       "    _ String \"ProductName\"\n",
       "    _ String \"ProductCategory\"\n",
       "    _ String \"Supplier\"\n",
       "    nullable double \"PurchasingPricePerUnit\"\n",
       "  }\n",
       "  \"Customers\" {\n",
       "    _ String PK \"CustomerId\"\n",
       "    _ String \"CompanyName\"\n",
       "    _ String \"Address\"\n",
       "    _ String \"City\"\n",
       "    _ String \"PostalCode\"\n",
       "    _ String \"Region\"\n",
       "    _ String \"Country\"\n",
       "    _ String \"Subregion\"\n",
       "    _ String \"Phone\"\n",
       "    _ String \"PostCode\"\n",
       "  }\n",
       "  \"Shippers\" {\n",
       "    _ String \"ShipperName\"\n",
       "    _ String \"Contact\"\n",
       "  }\n",
       "  \"Employees\" {\n",
       "    _ String PK \"EmployeeId\"\n",
       "    _ String \"EmployeeName\"\n",
       "    _ String \"EmployeeZone\"\n",
       "    _ String \"EmployeeCountry\"\n",
       "    _ String \"EmployeeCity\"\n",
       "  }\n",
       "  \"Orders\" }o--o| \"Customers\" : \"`CustomerId` == `CustomerId`\"\n",
       "  \"Orders\" }o--o| \"Employees\" : \"`EmployeeId` == `EmployeeId`\"\n",
       "  \"Orders\" }o--o| \"Products\" : \"`ProductId` == `ProductId`\"\n",
       "  \"Orders\" }o--o| \"Shippers\" : \"`ShipperName` == `ShipperName`\""
      ]
     },
     "execution_count": 10,
     "metadata": {},
     "output_type": "execute_result"
    }
   ],
   "source": [
    "# View the schema of the data model\n",
    "session.tables.schema"
   ]
  },
  {
   "cell_type": "code",
   "execution_count": 11,
   "id": "9d3894be-2af4-4a75-a091-7a060bc403f5",
   "metadata": {},
   "outputs": [],
   "source": [
    "# Set variables for hierarchies, levels, and measures\n",
    "h, l, m = cube.hierarchies, cube.levels, cube.measures"
   ]
  },
  {
   "cell_type": "markdown",
   "id": "5e262b11-8c22-4ba2-9795-b6cf03d753b1",
   "metadata": {},
   "source": [
    "## Viewing Hierarchies\n",
    "\n",
    "Because this walk through will mainly be focusing on hierarchies, let's view the hierarchies for the data model by printing the list of hierarchies based on the variable that we assigned.\n",
    "\n",
    "We can see that each hierarchy is categorized under dimensions, and each hierarchy has it's own set of levels (starting with a 0-based index).\n",
    "\n",
    "💡 **Note**: Hierarchies can have [multiple levels](https://docs.atoti.io/latest/getting_started/tutorial/tutorial.html#Multilevel-hierarchies), which we will show later in this notebook."
   ]
  },
  {
   "cell_type": "code",
   "execution_count": 12,
   "id": "d62e8940-8ae1-4bb0-afa6-3425471f65ef",
   "metadata": {},
   "outputs": [
    {
     "data": {
      "application/json": {
       "Customers": {
        "Address": [
         "Address"
        ],
        "City": [
         "City"
        ],
        "CompanyName": [
         "CompanyName"
        ],
        "Country": [
         "Country"
        ],
        "Phone": [
         "Phone"
        ],
        "PostCode": [
         "PostCode"
        ],
        "PostalCode": [
         "PostalCode"
        ],
        "Region": [
         "Region"
        ],
        "Subregion": [
         "Subregion"
        ]
       },
       "Employees": {
        "EmployeeCity": [
         "EmployeeCity"
        ],
        "EmployeeCountry": [
         "EmployeeCountry"
        ],
        "EmployeeName": [
         "EmployeeName"
        ],
        "EmployeeZone": [
         "EmployeeZone"
        ]
       },
       "Orders": {
        "CustomerId": [
         "CustomerId"
        ],
        "EmployeeId": [
         "EmployeeId"
        ],
        "OrderDate": [
         "OrderDate"
        ],
        "OrderId": [
         "OrderId"
        ],
        "ProductId": [
         "ProductId"
        ],
        "ShipperName": [
         "ShipperName"
        ]
       },
       "Products": {
        "ProductCategory": [
         "ProductCategory"
        ],
        "ProductName": [
         "ProductName"
        ],
        "Supplier": [
         "Supplier"
        ]
       },
       "Shippers": {
        "Contact": [
         "Contact"
        ]
       }
      },
      "text/html": [
       "<ul>\n",
       "<li>Dimensions\n",
       "  <ul>\n",
       "  <li>Customers\n",
       "    <ul>\n",
       "    <li>Address\n",
       "      <ol>\n",
       "      <li>Address</li>\n",
       "      </ol>    </li>\n",
       "    <li>City\n",
       "      <ol>\n",
       "      <li>City</li>\n",
       "      </ol>    </li>\n",
       "    <li>CompanyName\n",
       "      <ol>\n",
       "      <li>CompanyName</li>\n",
       "      </ol>    </li>\n",
       "    <li>Country\n",
       "      <ol>\n",
       "      <li>Country</li>\n",
       "      </ol>    </li>\n",
       "    <li>Phone\n",
       "      <ol>\n",
       "      <li>Phone</li>\n",
       "      </ol>    </li>\n",
       "    <li>PostCode\n",
       "      <ol>\n",
       "      <li>PostCode</li>\n",
       "      </ol>    </li>\n",
       "    <li>PostalCode\n",
       "      <ol>\n",
       "      <li>PostalCode</li>\n",
       "      </ol>    </li>\n",
       "    <li>Region\n",
       "      <ol>\n",
       "      <li>Region</li>\n",
       "      </ol>    </li>\n",
       "    <li>Subregion\n",
       "      <ol>\n",
       "      <li>Subregion</li>\n",
       "      </ol>    </li>\n",
       "    </ul>\n",
       "  </li>\n",
       "  <li>Employees\n",
       "    <ul>\n",
       "    <li>EmployeeCity\n",
       "      <ol>\n",
       "      <li>EmployeeCity</li>\n",
       "      </ol>    </li>\n",
       "    <li>EmployeeCountry\n",
       "      <ol>\n",
       "      <li>EmployeeCountry</li>\n",
       "      </ol>    </li>\n",
       "    <li>EmployeeName\n",
       "      <ol>\n",
       "      <li>EmployeeName</li>\n",
       "      </ol>    </li>\n",
       "    <li>EmployeeZone\n",
       "      <ol>\n",
       "      <li>EmployeeZone</li>\n",
       "      </ol>    </li>\n",
       "    </ul>\n",
       "  </li>\n",
       "  <li>Orders\n",
       "    <ul>\n",
       "    <li>CustomerId\n",
       "      <ol>\n",
       "      <li>CustomerId</li>\n",
       "      </ol>    </li>\n",
       "    <li>EmployeeId\n",
       "      <ol>\n",
       "      <li>EmployeeId</li>\n",
       "      </ol>    </li>\n",
       "    <li>OrderDate\n",
       "      <ol>\n",
       "      <li>OrderDate</li>\n",
       "      </ol>    </li>\n",
       "    <li>OrderId\n",
       "      <ol>\n",
       "      <li>OrderId</li>\n",
       "      </ol>    </li>\n",
       "    <li>ProductId\n",
       "      <ol>\n",
       "      <li>ProductId</li>\n",
       "      </ol>    </li>\n",
       "    <li>ShipperName\n",
       "      <ol>\n",
       "      <li>ShipperName</li>\n",
       "      </ol>    </li>\n",
       "    </ul>\n",
       "  </li>\n",
       "  <li>Products\n",
       "    <ul>\n",
       "    <li>ProductCategory\n",
       "      <ol>\n",
       "      <li>ProductCategory</li>\n",
       "      </ol>    </li>\n",
       "    <li>ProductName\n",
       "      <ol>\n",
       "      <li>ProductName</li>\n",
       "      </ol>    </li>\n",
       "    <li>Supplier\n",
       "      <ol>\n",
       "      <li>Supplier</li>\n",
       "      </ol>    </li>\n",
       "    </ul>\n",
       "  </li>\n",
       "  <li>Shippers\n",
       "    <ul>\n",
       "    <li>Contact\n",
       "      <ol>\n",
       "      <li>Contact</li>\n",
       "      </ol>    </li>\n",
       "    </ul>\n",
       "  </li>\n",
       "  </ul>\n",
       "</li>\n",
       "</ul>\n"
      ],
      "text/plain": [
       "{('Products', 'Supplier'): <atoti.hierarchy.Hierarchy object at 0x168503760>, ('Orders', 'OrderDate'): <atoti.hierarchy.Hierarchy object at 0x1685038b0>, ('Orders', 'ProductId'): <atoti.hierarchy.Hierarchy object at 0x1685039a0>, ('Products', 'ProductName'): <atoti.hierarchy.Hierarchy object at 0x168503a90>, ('Customers', 'Phone'): <atoti.hierarchy.Hierarchy object at 0x168503b80>, ('Customers', 'Address'): <atoti.hierarchy.Hierarchy object at 0x168503c70>, ('Customers', 'Region'): <atoti.hierarchy.Hierarchy object at 0x168503d60>, ('Shippers', 'Contact'): <atoti.hierarchy.Hierarchy object at 0x168503e50>, ('Orders', 'EmployeeId'): <atoti.hierarchy.Hierarchy object at 0x168503f40>, ('Customers', 'PostCode'): <atoti.hierarchy.Hierarchy object at 0x168503700>, ('Employees', 'EmployeeCountry'): <atoti.hierarchy.Hierarchy object at 0x168503580>, ('Products', 'ProductCategory'): <atoti.hierarchy.Hierarchy object at 0x168503460>, ('Customers', 'PostalCode'): <atoti.hierarchy.Hierarchy object at 0x168503190>, ('Customers', 'Subregion'): <atoti.hierarchy.Hierarchy object at 0x168502e60>, ('Orders', 'CustomerId'): <atoti.hierarchy.Hierarchy object at 0x168502f20>, ('Employees', 'EmployeeCity'): <atoti.hierarchy.Hierarchy object at 0x168502e90>, ('Customers', 'Country'): <atoti.hierarchy.Hierarchy object at 0x168502b00>, ('Orders', 'OrderId'): <atoti.hierarchy.Hierarchy object at 0x1685029b0>, ('Customers', 'CompanyName'): <atoti.hierarchy.Hierarchy object at 0x168502860>, ('Orders', 'ShipperName'): <atoti.hierarchy.Hierarchy object at 0x1685025f0>, ('Employees', 'EmployeeName'): <atoti.hierarchy.Hierarchy object at 0x1685023b0>, ('Employees', 'EmployeeZone'): <atoti.hierarchy.Hierarchy object at 0x1685022f0>, ('Customers', 'City'): <atoti.hierarchy.Hierarchy object at 0x168500430>}"
      ]
     },
     "execution_count": 12,
     "metadata": {
      "application/json": {
       "expanded": true,
       "root": "Dimensions"
      }
     },
     "output_type": "execute_result"
    }
   ],
   "source": [
    "h"
   ]
  },
  {
   "cell_type": "markdown",
   "id": "a69c6a34-4f17-4dc2-a325-5c8cc8145652",
   "metadata": {},
   "source": [
    "## Using atoti.Hierarchy Properties and Functions\n",
    "\n",
    "With our hierarchies listed, let's now walk through how to use the various `atoti.Hierarchy` properties and functions to interact with (and manipulate) our hierarchies in our data model.\n",
    "\n",
    "We will categorize our hierarchy properties and functions by the following difficulties:\n",
    "\n",
    "* [Basic](#Basic-Implementations)\n",
    "* [Advanced](#Advanced-Implementations)"
   ]
  },
  {
   "cell_type": "markdown",
   "id": "10ea66d5-13cc-4855-9849-acb1cb9dc2f0",
   "metadata": {},
   "source": [
    "### Basic Implementations\n",
    "\n",
    "These are the basic implementations and tips for working with hierarchies in the Atoti Python API."
   ]
  },
  {
   "cell_type": "markdown",
   "id": "a6e66793-aa26-4a3b-a6c6-9f00c04d1585",
   "metadata": {},
   "source": [
    "#### `Hierarchy.dimension`\n",
    "\n",
    "We can use the `dimension` property of a Hierarchy object to determine the parent dimension which it is categorized under. For example, we can call the `dimension` property of the `Address` hierarchy to determine that its parent dimension is `Customers`. "
   ]
  },
  {
   "cell_type": "code",
   "execution_count": 13,
   "id": "0a98f4be-4776-410f-b3e5-f1caecef40d7",
   "metadata": {},
   "outputs": [
    {
     "data": {
      "text/plain": [
       "'Customers'"
      ]
     },
     "execution_count": 13,
     "metadata": {},
     "output_type": "execute_result"
    }
   ],
   "source": [
    "h['Address'].dimension"
   ]
  },
  {
   "cell_type": "markdown",
   "id": "19c6b620-d95f-4807-b652-b0624e045dce",
   "metadata": {},
   "source": [
    "#### `Hierarchy.dimension_default`"
   ]
  },
  {
   "cell_type": "markdown",
   "id": "345470f0-b46d-4ca0-95c6-1f5c57e244ef",
   "metadata": {},
   "source": [
    "We can also call the `dimension_default` property of a Hierarchy object to determine if a specified hierarchy is the default hierarchy in its parent dimension."
   ]
  },
  {
   "cell_type": "code",
   "execution_count": 14,
   "id": "ddfcdf1a-f39f-4b4c-a2e9-a0e2859dc37b",
   "metadata": {},
   "outputs": [
    {
     "data": {
      "text/plain": [
       "False"
      ]
     },
     "execution_count": 14,
     "metadata": {},
     "output_type": "execute_result"
    }
   ],
   "source": [
    "h['Address'].dimension_default"
   ]
  },
  {
   "cell_type": "markdown",
   "id": "663db110-bfa5-476a-bdf0-438864e4cdfc",
   "metadata": {},
   "source": [
    "The output of the `dimension_default` property for a Hierarchy should be either `True` or `False`. In this case, the `Address` hiearchy of the `Customers` dimension is **not** the default hierarchy for the `Customers` dimension.\n",
    "\n",
    "So which hierarchy **is** the default hierarchy for the `Customers` dimension? We can create a simple `for` loop to test this. \n",
    "\n",
    "💡 **Note:** The `Orders` and `Customers` tables are joined by the common key: `CustomerId`. However, from an Atoti data model perspective, `CustomerId` is a hierarchy present under the base table or `Orders` dimension, and is no longer present as a (redundant) hierarchy under the `Customers` dimension. Therefore, when checking the `Customers` dimension for its default hierarchy, we must filter out the `CustomerId` out from the search criteria — otherwise we get a missing `KeyError`."
   ]
  },
  {
   "cell_type": "code",
   "execution_count": 15,
   "id": "1fe311c8-b976-429d-9898-13ee34ba9d2e",
   "metadata": {},
   "outputs": [
    {
     "name": "stdout",
     "output_type": "stream",
     "text": [
      "h['Customers', 'CompanyName'].dimension_default == False\n",
      "h['Customers', 'Address'].dimension_default == False\n",
      "h['Customers', 'City'].dimension_default == False\n",
      "h['Customers', 'PostalCode'].dimension_default == True\n",
      "h['Customers', 'Region'].dimension_default == False\n",
      "h['Customers', 'Country'].dimension_default == False\n",
      "h['Customers', 'Subregion'].dimension_default == False\n",
      "h['Customers', 'Phone'].dimension_default == False\n",
      "h['Customers', 'PostCode'].dimension_default == False\n"
     ]
    }
   ],
   "source": [
    "def check_default_hierarchy(hierachies, table):\n",
    "    \"\"\"Checks for the default hierarchy for an Atoti Table object.\"\"\"    \n",
    "    dimension = table.name\n",
    "    for hierarchy in table.columns:\n",
    "        if hierarchy != \"CustomerId\":\n",
    "            print(f\"h['{dimension}', '{hierarchy}'].dimension_default == {h[dimension, hierarchy].dimension_default}\")\n",
    "\n",
    "check_default_hierarchy(h, customers)"
   ]
  },
  {
   "cell_type": "markdown",
   "id": "cb5eb9ff-9dcd-4ca6-95b5-f671694f9603",
   "metadata": {},
   "source": [
    "We can see that the default hierarchy for the `Customers` dimension is actually `PostalCode`. If we set another hierarchy under the `Customers` dimension as the default hierarchy, it would look like this:"
   ]
  },
  {
   "cell_type": "code",
   "execution_count": 27,
   "id": "a6abbe1a-8799-437f-a533-eb8ceba43395",
   "metadata": {},
   "outputs": [],
   "source": [
    "h['Address'].dimension_default = True"
   ]
  },
  {
   "cell_type": "markdown",
   "id": "bb1d2b9b-6f1e-45fe-a0b5-90638eace9f7",
   "metadata": {},
   "source": [
    "Then, if we use the `check_default_hierarchy` function that we defined previously, we can see that the default hierarchy for the `Customers` dimension has indeed been updated."
   ]
  },
  {
   "cell_type": "code",
   "execution_count": 28,
   "id": "9c814d42-e50e-4da2-bf4c-143123207525",
   "metadata": {},
   "outputs": [
    {
     "name": "stdout",
     "output_type": "stream",
     "text": [
      "h['Customers', 'CompanyName'].dimension_default == False\n",
      "h['Customers', 'Address'].dimension_default == True\n",
      "h['Customers', 'City'].dimension_default == False\n",
      "h['Customers', 'PostalCode'].dimension_default == False\n",
      "h['Customers', 'Region'].dimension_default == False\n",
      "h['Customers', 'Country'].dimension_default == False\n",
      "h['Customers', 'Subregion'].dimension_default == False\n",
      "h['Customers', 'Phone'].dimension_default == False\n",
      "h['Customers', 'PostCode'].dimension_default == False\n"
     ]
    }
   ],
   "source": [
    "check_default_hierarchy(h, customers)"
   ]
  },
  {
   "cell_type": "markdown",
   "id": "aa493f00-fb82-43f5-ab04-d246b9470791",
   "metadata": {},
   "source": [
    "#### `Hierarchy.levels`"
   ]
  },
  {
   "cell_type": "markdown",
   "id": "ff352309-92f0-43b3-8adb-284d49c19710",
   "metadata": {},
   "source": []
  },
  {
   "cell_type": "code",
   "execution_count": 18,
   "id": "452f41c9-7fe4-4b0b-832c-9521d8f4ea54",
   "metadata": {},
   "outputs": [
    {
     "data": {
      "application/json": {
       "Address (Customers/Address/Address)": {
        "dimension": "Customers",
        "hierarchy": "Address",
        "order": "NaturalOrder",
        "type": "String"
       },
       "City (Customers/City/City)": {
        "dimension": "Customers",
        "hierarchy": "City",
        "order": "NaturalOrder",
        "type": "String"
       },
       "CompanyName (Customers/CompanyName/CompanyName)": {
        "dimension": "Customers",
        "hierarchy": "CompanyName",
        "order": "NaturalOrder",
        "type": "String"
       },
       "Contact (Shippers/Contact/Contact)": {
        "dimension": "Shippers",
        "hierarchy": "Contact",
        "order": "NaturalOrder",
        "type": "String"
       },
       "Country (Customers/Country/Country)": {
        "dimension": "Customers",
        "hierarchy": "Country",
        "order": "NaturalOrder",
        "type": "String"
       },
       "CustomerId (Orders/CustomerId/CustomerId)": {
        "dimension": "Orders",
        "hierarchy": "CustomerId",
        "order": "NaturalOrder",
        "type": "String"
       },
       "EmployeeCity (Employees/EmployeeCity/EmployeeCity)": {
        "dimension": "Employees",
        "hierarchy": "EmployeeCity",
        "order": "NaturalOrder",
        "type": "String"
       },
       "EmployeeCountry (Employees/EmployeeCountry/EmployeeCountry)": {
        "dimension": "Employees",
        "hierarchy": "EmployeeCountry",
        "order": "NaturalOrder",
        "type": "String"
       },
       "EmployeeId (Orders/EmployeeId/EmployeeId)": {
        "dimension": "Orders",
        "hierarchy": "EmployeeId",
        "order": "NaturalOrder",
        "type": "String"
       },
       "EmployeeName (Employees/EmployeeName/EmployeeName)": {
        "dimension": "Employees",
        "hierarchy": "EmployeeName",
        "order": "NaturalOrder",
        "type": "String"
       },
       "EmployeeZone (Employees/EmployeeZone/EmployeeZone)": {
        "dimension": "Employees",
        "hierarchy": "EmployeeZone",
        "order": "NaturalOrder",
        "type": "String"
       },
       "OrderDate (Orders/OrderDate/OrderDate)": {
        "dimension": "Orders",
        "hierarchy": "OrderDate",
        "order": "NaturalOrder",
        "type": "String"
       },
       "OrderId (Orders/OrderId/OrderId)": {
        "dimension": "Orders",
        "hierarchy": "OrderId",
        "order": "NaturalOrder",
        "type": "String"
       },
       "Phone (Customers/Phone/Phone)": {
        "dimension": "Customers",
        "hierarchy": "Phone",
        "order": "NaturalOrder",
        "type": "String"
       },
       "PostCode (Customers/PostCode/PostCode)": {
        "dimension": "Customers",
        "hierarchy": "PostCode",
        "order": "NaturalOrder",
        "type": "String"
       },
       "PostalCode (Customers/PostalCode/PostalCode)": {
        "dimension": "Customers",
        "hierarchy": "PostalCode",
        "order": "NaturalOrder",
        "type": "String"
       },
       "ProductCategory (Products/ProductCategory/ProductCategory)": {
        "dimension": "Products",
        "hierarchy": "ProductCategory",
        "order": "NaturalOrder",
        "type": "String"
       },
       "ProductId (Orders/ProductId/ProductId)": {
        "dimension": "Orders",
        "hierarchy": "ProductId",
        "order": "NaturalOrder",
        "type": "String"
       },
       "ProductName (Products/ProductName/ProductName)": {
        "dimension": "Products",
        "hierarchy": "ProductName",
        "order": "NaturalOrder",
        "type": "String"
       },
       "Region (Customers/Region/Region)": {
        "dimension": "Customers",
        "hierarchy": "Region",
        "order": "NaturalOrder",
        "type": "String"
       },
       "ShipperName (Orders/ShipperName/ShipperName)": {
        "dimension": "Orders",
        "hierarchy": "ShipperName",
        "order": "NaturalOrder",
        "type": "String"
       },
       "Subregion (Customers/Subregion/Subregion)": {
        "dimension": "Customers",
        "hierarchy": "Subregion",
        "order": "NaturalOrder",
        "type": "String"
       },
       "Supplier (Products/Supplier/Supplier)": {
        "dimension": "Products",
        "hierarchy": "Supplier",
        "order": "NaturalOrder",
        "type": "String"
       }
      },
      "text/html": [
       "<ul>\n",
       "<li>Levels\n",
       "  <ul>\n",
       "  <li>Address (Customers/Address/Address)\n",
       "    <ul>\n",
       "    <li>dimension: Customers</li>\n",
       "    <li>hierarchy: Address</li>\n",
       "    <li>type: String</li>\n",
       "    <li>order: NaturalOrder</li>\n",
       "    </ul>\n",
       "  </li>\n",
       "  <li>City (Customers/City/City)\n",
       "    <ul>\n",
       "    <li>dimension: Customers</li>\n",
       "    <li>hierarchy: City</li>\n",
       "    <li>type: String</li>\n",
       "    <li>order: NaturalOrder</li>\n",
       "    </ul>\n",
       "  </li>\n",
       "  <li>CompanyName (Customers/CompanyName/CompanyName)\n",
       "    <ul>\n",
       "    <li>dimension: Customers</li>\n",
       "    <li>hierarchy: CompanyName</li>\n",
       "    <li>type: String</li>\n",
       "    <li>order: NaturalOrder</li>\n",
       "    </ul>\n",
       "  </li>\n",
       "  <li>Contact (Shippers/Contact/Contact)\n",
       "    <ul>\n",
       "    <li>dimension: Shippers</li>\n",
       "    <li>hierarchy: Contact</li>\n",
       "    <li>type: String</li>\n",
       "    <li>order: NaturalOrder</li>\n",
       "    </ul>\n",
       "  </li>\n",
       "  <li>Country (Customers/Country/Country)\n",
       "    <ul>\n",
       "    <li>dimension: Customers</li>\n",
       "    <li>hierarchy: Country</li>\n",
       "    <li>type: String</li>\n",
       "    <li>order: NaturalOrder</li>\n",
       "    </ul>\n",
       "  </li>\n",
       "  <li>CustomerId (Orders/CustomerId/CustomerId)\n",
       "    <ul>\n",
       "    <li>dimension: Orders</li>\n",
       "    <li>hierarchy: CustomerId</li>\n",
       "    <li>type: String</li>\n",
       "    <li>order: NaturalOrder</li>\n",
       "    </ul>\n",
       "  </li>\n",
       "  <li>EmployeeCity (Employees/EmployeeCity/EmployeeCity)\n",
       "    <ul>\n",
       "    <li>dimension: Employees</li>\n",
       "    <li>hierarchy: EmployeeCity</li>\n",
       "    <li>type: String</li>\n",
       "    <li>order: NaturalOrder</li>\n",
       "    </ul>\n",
       "  </li>\n",
       "  <li>EmployeeCountry (Employees/EmployeeCountry/EmployeeCountry)\n",
       "    <ul>\n",
       "    <li>dimension: Employees</li>\n",
       "    <li>hierarchy: EmployeeCountry</li>\n",
       "    <li>type: String</li>\n",
       "    <li>order: NaturalOrder</li>\n",
       "    </ul>\n",
       "  </li>\n",
       "  <li>EmployeeId (Orders/EmployeeId/EmployeeId)\n",
       "    <ul>\n",
       "    <li>dimension: Orders</li>\n",
       "    <li>hierarchy: EmployeeId</li>\n",
       "    <li>type: String</li>\n",
       "    <li>order: NaturalOrder</li>\n",
       "    </ul>\n",
       "  </li>\n",
       "  <li>EmployeeName (Employees/EmployeeName/EmployeeName)\n",
       "    <ul>\n",
       "    <li>dimension: Employees</li>\n",
       "    <li>hierarchy: EmployeeName</li>\n",
       "    <li>type: String</li>\n",
       "    <li>order: NaturalOrder</li>\n",
       "    </ul>\n",
       "  </li>\n",
       "  <li>EmployeeZone (Employees/EmployeeZone/EmployeeZone)\n",
       "    <ul>\n",
       "    <li>dimension: Employees</li>\n",
       "    <li>hierarchy: EmployeeZone</li>\n",
       "    <li>type: String</li>\n",
       "    <li>order: NaturalOrder</li>\n",
       "    </ul>\n",
       "  </li>\n",
       "  <li>OrderDate (Orders/OrderDate/OrderDate)\n",
       "    <ul>\n",
       "    <li>dimension: Orders</li>\n",
       "    <li>hierarchy: OrderDate</li>\n",
       "    <li>type: String</li>\n",
       "    <li>order: NaturalOrder</li>\n",
       "    </ul>\n",
       "  </li>\n",
       "  <li>OrderId (Orders/OrderId/OrderId)\n",
       "    <ul>\n",
       "    <li>dimension: Orders</li>\n",
       "    <li>hierarchy: OrderId</li>\n",
       "    <li>type: String</li>\n",
       "    <li>order: NaturalOrder</li>\n",
       "    </ul>\n",
       "  </li>\n",
       "  <li>Phone (Customers/Phone/Phone)\n",
       "    <ul>\n",
       "    <li>dimension: Customers</li>\n",
       "    <li>hierarchy: Phone</li>\n",
       "    <li>type: String</li>\n",
       "    <li>order: NaturalOrder</li>\n",
       "    </ul>\n",
       "  </li>\n",
       "  <li>PostCode (Customers/PostCode/PostCode)\n",
       "    <ul>\n",
       "    <li>dimension: Customers</li>\n",
       "    <li>hierarchy: PostCode</li>\n",
       "    <li>type: String</li>\n",
       "    <li>order: NaturalOrder</li>\n",
       "    </ul>\n",
       "  </li>\n",
       "  <li>PostalCode (Customers/PostalCode/PostalCode)\n",
       "    <ul>\n",
       "    <li>dimension: Customers</li>\n",
       "    <li>hierarchy: PostalCode</li>\n",
       "    <li>type: String</li>\n",
       "    <li>order: NaturalOrder</li>\n",
       "    </ul>\n",
       "  </li>\n",
       "  <li>ProductCategory (Products/ProductCategory/ProductCategory)\n",
       "    <ul>\n",
       "    <li>dimension: Products</li>\n",
       "    <li>hierarchy: ProductCategory</li>\n",
       "    <li>type: String</li>\n",
       "    <li>order: NaturalOrder</li>\n",
       "    </ul>\n",
       "  </li>\n",
       "  <li>ProductId (Orders/ProductId/ProductId)\n",
       "    <ul>\n",
       "    <li>dimension: Orders</li>\n",
       "    <li>hierarchy: ProductId</li>\n",
       "    <li>type: String</li>\n",
       "    <li>order: NaturalOrder</li>\n",
       "    </ul>\n",
       "  </li>\n",
       "  <li>ProductName (Products/ProductName/ProductName)\n",
       "    <ul>\n",
       "    <li>dimension: Products</li>\n",
       "    <li>hierarchy: ProductName</li>\n",
       "    <li>type: String</li>\n",
       "    <li>order: NaturalOrder</li>\n",
       "    </ul>\n",
       "  </li>\n",
       "  <li>Region (Customers/Region/Region)\n",
       "    <ul>\n",
       "    <li>dimension: Customers</li>\n",
       "    <li>hierarchy: Region</li>\n",
       "    <li>type: String</li>\n",
       "    <li>order: NaturalOrder</li>\n",
       "    </ul>\n",
       "  </li>\n",
       "  <li>ShipperName (Orders/ShipperName/ShipperName)\n",
       "    <ul>\n",
       "    <li>dimension: Orders</li>\n",
       "    <li>hierarchy: ShipperName</li>\n",
       "    <li>type: String</li>\n",
       "    <li>order: NaturalOrder</li>\n",
       "    </ul>\n",
       "  </li>\n",
       "  <li>Subregion (Customers/Subregion/Subregion)\n",
       "    <ul>\n",
       "    <li>dimension: Customers</li>\n",
       "    <li>hierarchy: Subregion</li>\n",
       "    <li>type: String</li>\n",
       "    <li>order: NaturalOrder</li>\n",
       "    </ul>\n",
       "  </li>\n",
       "  <li>Supplier (Products/Supplier/Supplier)\n",
       "    <ul>\n",
       "    <li>dimension: Products</li>\n",
       "    <li>hierarchy: Supplier</li>\n",
       "    <li>type: String</li>\n",
       "    <li>order: NaturalOrder</li>\n",
       "    </ul>\n",
       "  </li>\n",
       "  </ul>\n",
       "</li>\n",
       "</ul>\n"
      ],
      "text/plain": [
       "<atoti.levels.Levels at 0x11001e740>"
      ]
     },
     "execution_count": 18,
     "metadata": {
      "application/json": {
       "expanded": true,
       "root": "Levels"
      }
     },
     "output_type": "execute_result"
    }
   ],
   "source": [
    "l"
   ]
  },
  {
   "cell_type": "code",
   "execution_count": 19,
   "id": "300a379b-9bfb-44a5-b126-4d60018ae5cc",
   "metadata": {},
   "outputs": [
    {
     "name": "stdout",
     "output_type": "stream",
     "text": [
      "Address\n"
     ]
    }
   ],
   "source": [
    "address_levels = h['Address'].levels\n",
    "\n",
    "for key in address_levels.keys():\n",
    "    print(key)"
   ]
  },
  {
   "cell_type": "code",
   "execution_count": 20,
   "id": "9673bf93-00e0-4e7a-bdf2-7a859d409657",
   "metadata": {},
   "outputs": [
    {
     "data": {
      "application/json": {
       "dimension": "Customers",
       "hierarchy": "Address",
       "order": "NaturalOrder",
       "type": "String"
      },
      "text/html": [
       "<ul>\n",
       "<li>Address\n",
       "  <ul>\n",
       "  <li>dimension: Customers</li>\n",
       "  <li>hierarchy: Address</li>\n",
       "  <li>type: String</li>\n",
       "  <li>order: NaturalOrder</li>\n",
       "  </ul>\n",
       "</li>\n",
       "</ul>\n"
      ],
      "text/plain": [
       "<atoti.level.Level at 0x168480e50>"
      ]
     },
     "execution_count": 20,
     "metadata": {
      "application/json": {
       "expanded": true,
       "root": "Address"
      }
     },
     "output_type": "execute_result"
    }
   ],
   "source": [
    "address_levels['Address']"
   ]
  },
  {
   "cell_type": "markdown",
   "id": "298d9420-a4da-45b4-99e4-1e02ec1eb743",
   "metadata": {},
   "source": [
    "#### `Hierarchy.name`"
   ]
  },
  {
   "cell_type": "markdown",
   "id": "2ed435a6-6a96-4496-9470-40b60327a107",
   "metadata": {},
   "source": [
    "The `name` property will output the name of the hierarchy like so:"
   ]
  },
  {
   "cell_type": "code",
   "execution_count": 21,
   "id": "be0e7632-92f9-48e3-a1b6-92a111a03262",
   "metadata": {},
   "outputs": [
    {
     "data": {
      "text/plain": [
       "'Address'"
      ]
     },
     "execution_count": 21,
     "metadata": {},
     "output_type": "execute_result"
    }
   ],
   "source": [
    "h['Address'].name"
   ]
  },
  {
   "cell_type": "markdown",
   "id": "7482e122-3185-4224-923e-937f23366379",
   "metadata": {},
   "source": [
    "Though this is a bit redundant when we already know the name of the hierarchy. Therefore, using the `name` property may be more helpful when trying to execute a `for` loop to iterate over all hierarchies in an Atoti data model, where we may want the "
   ]
  },
  {
   "cell_type": "code",
   "execution_count": 22,
   "id": "560cc096-3bdc-4799-9c3c-0cd1fb1f9302",
   "metadata": {},
   "outputs": [
    {
     "name": "stdout",
     "output_type": "stream",
     "text": [
      "('Products', 'Supplier')\n",
      "('Orders', 'OrderDate')\n",
      "('Orders', 'ProductId')\n",
      "('Products', 'ProductName')\n",
      "('Customers', 'Phone')\n",
      "('Customers', 'Address')\n",
      "('Customers', 'Region')\n",
      "('Shippers', 'Contact')\n",
      "('Orders', 'EmployeeId')\n",
      "('Customers', 'PostCode')\n",
      "('Employees', 'EmployeeCountry')\n",
      "('Products', 'ProductCategory')\n",
      "('Customers', 'PostalCode')\n",
      "('Customers', 'Subregion')\n",
      "('Orders', 'CustomerId')\n",
      "('Employees', 'EmployeeCity')\n",
      "('Customers', 'Country')\n",
      "('Orders', 'OrderId')\n",
      "('Customers', 'CompanyName')\n",
      "('Orders', 'ShipperName')\n",
      "('Employees', 'EmployeeName')\n",
      "('Employees', 'EmployeeZone')\n",
      "('Customers', 'City')\n"
     ]
    }
   ],
   "source": [
    "for key in h.keys():\n",
    "    print(key)"
   ]
  },
  {
   "cell_type": "code",
   "execution_count": 23,
   "id": "745087f5-b41a-47d8-9f0f-2876a19aebad",
   "metadata": {},
   "outputs": [
    {
     "name": "stdout",
     "output_type": "stream",
     "text": [
      "Supplier\n",
      "OrderDate\n",
      "ProductId\n",
      "ProductName\n",
      "Phone\n",
      "Address\n",
      "Region\n",
      "Contact\n",
      "EmployeeId\n",
      "PostCode\n",
      "EmployeeCountry\n",
      "ProductCategory\n",
      "PostalCode\n",
      "Subregion\n",
      "CustomerId\n",
      "EmployeeCity\n",
      "Country\n",
      "OrderId\n",
      "CompanyName\n",
      "ShipperName\n",
      "EmployeeName\n",
      "EmployeeZone\n",
      "City\n"
     ]
    }
   ],
   "source": [
    "for key in h.keys():\n",
    "    print(h[key].name)"
   ]
  },
  {
   "cell_type": "markdown",
   "id": "823f8274-eda1-45fb-9137-b3aac5c7ba9b",
   "metadata": {},
   "source": [
    "#### `Hierarchy.visible`"
   ]
  },
  {
   "cell_type": "code",
   "execution_count": 24,
   "id": "fea74973-b2dd-4b26-8cdf-ef3d6de978d2",
   "metadata": {},
   "outputs": [],
   "source": [
    "h['Address'].visible = False"
   ]
  },
  {
   "cell_type": "code",
   "execution_count": 25,
   "id": "a3e20b55-7614-4baf-ae73-e0610c908fe3",
   "metadata": {},
   "outputs": [
    {
     "data": {
      "application/vnd.atoti.widget.v0+json": {
       "sessionId": "1712694512_130K14",
       "sessionLocation": {
        "https": false,
        "port": 9092
       },
       "widgetCreationCode": "session.widget"
      },
      "text/html": [
       "<img height=\"352\" width=\"1024\" src=\"data:image/png;base64,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\" />"
      ],
      "text/plain": [
       "Open the notebook in JupyterLab with the Atoti JupyterLab extension enabled to build this widget."
      ]
     },
     "metadata": {},
     "output_type": "display_data"
    }
   ],
   "source": [
    "session.widget"
   ]
  },
  {
   "cell_type": "code",
   "execution_count": 26,
   "id": "328d2cc5-1c02-4e4e-bc7e-09554b49d497",
   "metadata": {},
   "outputs": [
    {
     "data": {
      "application/json": {
       "Customers": {
        "Address": [
         "Address"
        ],
        "City": [
         "City"
        ],
        "CompanyName": [
         "CompanyName"
        ],
        "Country": [
         "Country"
        ],
        "Phone": [
         "Phone"
        ],
        "PostCode": [
         "PostCode"
        ],
        "PostalCode": [
         "PostalCode"
        ],
        "Region": [
         "Region"
        ],
        "Subregion": [
         "Subregion"
        ]
       },
       "Employees": {
        "EmployeeCity": [
         "EmployeeCity"
        ],
        "EmployeeCountry": [
         "EmployeeCountry"
        ],
        "EmployeeName": [
         "EmployeeName"
        ],
        "EmployeeZone": [
         "EmployeeZone"
        ]
       },
       "Orders": {
        "CustomerId": [
         "CustomerId"
        ],
        "EmployeeId": [
         "EmployeeId"
        ],
        "OrderDate": [
         "OrderDate"
        ],
        "OrderId": [
         "OrderId"
        ],
        "ProductId": [
         "ProductId"
        ],
        "ShipperName": [
         "ShipperName"
        ]
       },
       "Products": {
        "ProductCategory": [
         "ProductCategory"
        ],
        "ProductName": [
         "ProductName"
        ],
        "Supplier": [
         "Supplier"
        ]
       },
       "Shippers": {
        "Contact": [
         "Contact"
        ]
       }
      },
      "text/html": [
       "<ul>\n",
       "<li>Dimensions\n",
       "  <ul>\n",
       "  <li>Customers\n",
       "    <ul>\n",
       "    <li>Address\n",
       "      <ol>\n",
       "      <li>Address</li>\n",
       "      </ol>    </li>\n",
       "    <li>City\n",
       "      <ol>\n",
       "      <li>City</li>\n",
       "      </ol>    </li>\n",
       "    <li>CompanyName\n",
       "      <ol>\n",
       "      <li>CompanyName</li>\n",
       "      </ol>    </li>\n",
       "    <li>Country\n",
       "      <ol>\n",
       "      <li>Country</li>\n",
       "      </ol>    </li>\n",
       "    <li>Phone\n",
       "      <ol>\n",
       "      <li>Phone</li>\n",
       "      </ol>    </li>\n",
       "    <li>PostCode\n",
       "      <ol>\n",
       "      <li>PostCode</li>\n",
       "      </ol>    </li>\n",
       "    <li>PostalCode\n",
       "      <ol>\n",
       "      <li>PostalCode</li>\n",
       "      </ol>    </li>\n",
       "    <li>Region\n",
       "      <ol>\n",
       "      <li>Region</li>\n",
       "      </ol>    </li>\n",
       "    <li>Subregion\n",
       "      <ol>\n",
       "      <li>Subregion</li>\n",
       "      </ol>    </li>\n",
       "    </ul>\n",
       "  </li>\n",
       "  <li>Employees\n",
       "    <ul>\n",
       "    <li>EmployeeCity\n",
       "      <ol>\n",
       "      <li>EmployeeCity</li>\n",
       "      </ol>    </li>\n",
       "    <li>EmployeeCountry\n",
       "      <ol>\n",
       "      <li>EmployeeCountry</li>\n",
       "      </ol>    </li>\n",
       "    <li>EmployeeName\n",
       "      <ol>\n",
       "      <li>EmployeeName</li>\n",
       "      </ol>    </li>\n",
       "    <li>EmployeeZone\n",
       "      <ol>\n",
       "      <li>EmployeeZone</li>\n",
       "      </ol>    </li>\n",
       "    </ul>\n",
       "  </li>\n",
       "  <li>Orders\n",
       "    <ul>\n",
       "    <li>CustomerId\n",
       "      <ol>\n",
       "      <li>CustomerId</li>\n",
       "      </ol>    </li>\n",
       "    <li>EmployeeId\n",
       "      <ol>\n",
       "      <li>EmployeeId</li>\n",
       "      </ol>    </li>\n",
       "    <li>OrderDate\n",
       "      <ol>\n",
       "      <li>OrderDate</li>\n",
       "      </ol>    </li>\n",
       "    <li>OrderId\n",
       "      <ol>\n",
       "      <li>OrderId</li>\n",
       "      </ol>    </li>\n",
       "    <li>ProductId\n",
       "      <ol>\n",
       "      <li>ProductId</li>\n",
       "      </ol>    </li>\n",
       "    <li>ShipperName\n",
       "      <ol>\n",
       "      <li>ShipperName</li>\n",
       "      </ol>    </li>\n",
       "    </ul>\n",
       "  </li>\n",
       "  <li>Products\n",
       "    <ul>\n",
       "    <li>ProductCategory\n",
       "      <ol>\n",
       "      <li>ProductCategory</li>\n",
       "      </ol>    </li>\n",
       "    <li>ProductName\n",
       "      <ol>\n",
       "      <li>ProductName</li>\n",
       "      </ol>    </li>\n",
       "    <li>Supplier\n",
       "      <ol>\n",
       "      <li>Supplier</li>\n",
       "      </ol>    </li>\n",
       "    </ul>\n",
       "  </li>\n",
       "  <li>Shippers\n",
       "    <ul>\n",
       "    <li>Contact\n",
       "      <ol>\n",
       "      <li>Contact</li>\n",
       "      </ol>    </li>\n",
       "    </ul>\n",
       "  </li>\n",
       "  </ul>\n",
       "</li>\n",
       "</ul>\n"
      ],
      "text/plain": [
       "{('Products', 'Supplier'): <atoti.hierarchy.Hierarchy object at 0x1685039d0>, ('Orders', 'OrderDate'): <atoti.hierarchy.Hierarchy object at 0x168503640>, ('Orders', 'ProductId'): <atoti.hierarchy.Hierarchy object at 0x1685001c0>, ('Products', 'ProductName'): <atoti.hierarchy.Hierarchy object at 0x1685032e0>, ('Customers', 'Phone'): <atoti.hierarchy.Hierarchy object at 0x168500d00>, ('Customers', 'Address'): <atoti.hierarchy.Hierarchy object at 0x1685023e0>, ('Customers', 'Region'): <atoti.hierarchy.Hierarchy object at 0x168503460>, ('Shippers', 'Contact'): <atoti.hierarchy.Hierarchy object at 0x168501180>, ('Orders', 'EmployeeId'): <atoti.hierarchy.Hierarchy object at 0x168552410>, ('Customers', 'PostCode'): <atoti.hierarchy.Hierarchy object at 0x168552290>, ('Employees', 'EmployeeCountry'): <atoti.hierarchy.Hierarchy object at 0x1685533a0>, ('Products', 'ProductCategory'): <atoti.hierarchy.Hierarchy object at 0x168550130>, ('Customers', 'PostalCode'): <atoti.hierarchy.Hierarchy object at 0x168550e50>, ('Customers', 'Subregion'): <atoti.hierarchy.Hierarchy object at 0x168552a70>, ('Orders', 'CustomerId'): <atoti.hierarchy.Hierarchy object at 0x168551240>, ('Employees', 'EmployeeCity'): <atoti.hierarchy.Hierarchy object at 0x168550580>, ('Customers', 'Country'): <atoti.hierarchy.Hierarchy object at 0x168550b20>, ('Orders', 'OrderId'): <atoti.hierarchy.Hierarchy object at 0x168553250>, ('Customers', 'CompanyName'): <atoti.hierarchy.Hierarchy object at 0x168552650>, ('Orders', 'ShipperName'): <atoti.hierarchy.Hierarchy object at 0x168550d60>, ('Employees', 'EmployeeName'): <atoti.hierarchy.Hierarchy object at 0x168552950>, ('Employees', 'EmployeeZone'): <atoti.hierarchy.Hierarchy object at 0x168550250>, ('Customers', 'City'): <atoti.hierarchy.Hierarchy object at 0x1685518d0>}"
      ]
     },
     "execution_count": 26,
     "metadata": {
      "application/json": {
       "expanded": true,
       "root": "Dimensions"
      }
     },
     "output_type": "execute_result"
    }
   ],
   "source": [
    "h"
   ]
  },
  {
   "cell_type": "markdown",
   "id": "2c42d5a7-9842-4219-99d2-391d13287dd0",
   "metadata": {},
   "source": [
    "### Advanced Implementations"
   ]
  },
  {
   "cell_type": "markdown",
   "id": "2e71b1d4-fc9a-45ab-8c7b-0f9cfa32345f",
   "metadata": {},
   "source": [
    "#### `Hierarchy.isin()`"
   ]
  },
  {
   "cell_type": "markdown",
   "id": "c71f02bb-2a7a-4dfb-8c42-47e0b157b9c2",
   "metadata": {},
   "source": [
    "<div style=\"text-align: center;\" ><a href=\"https://www.atoti.io/?utm_source=gallery&utm_content=hierarchies\" target=\"_blank\" rel=\"noopener noreferrer\"><img src=\"https://data.atoti.io/notebooks/banners/Your-turn-to-try-Atoti.jpg\" alt=\"Try Atoti\"></a></div>"
   ]
  }
 ],
 "metadata": {
  "kernelspec": {
   "display_name": "Python 3 (ipykernel)",
   "language": "python",
   "name": "python3"
  },
  "language_info": {
   "codemirror_mode": {
    "name": "ipython",
    "version": 3
   },
   "file_extension": ".py",
   "mimetype": "text/x-python",
   "name": "python",
   "nbconvert_exporter": "python",
   "pygments_lexer": "ipython3",
   "version": "3.10.0"
  }
 },
 "nbformat": 4,
 "nbformat_minor": 5
}
