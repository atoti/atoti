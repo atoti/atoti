{
 "cells": [
  {
   "cell_type": "markdown",
   "id": "4b3bb4a0-74bf-4f21-a181-095dd87e0fee",
   "metadata": {},
   "source": [
    "# Working with Hierarchies in Atoti\n",
    "\n",
    "In this notebook, we'll show you what you need to know to start working with hierarchies when using the Atoti Python API.\n",
    "\n",
    "Before we begin, let's start off with a refresher from our Atoti Python API [Tutorial](https://docs.atoti.io/latest/getting_started/tutorial/tutorial.html#Multidimensional-concepts):\n",
    "\n",
    "> A **cube** is a multidimensional view of some data, making it easy to explore, aggregate, filter and compare. It’s called a cube because each attribute of the data can be represented as a dimension of the cube. The axes of the cube are called **hierarchies**. The purpose of multidimensional analysis is to visualize some numeric indicators at specific coordinates of the cube. These indicators are called **measures**.\n",
    "\n",
    "In other words, the purpose of an OLAP cube is to provide multidimensional analysis capabilities, which gives us the flexibility to slice-and-dice our data however we see fit. With this being said, let's talk about hierarchies!\n",
    "\n",
    "💡 **Note:** Many of the initial operations in this notebook revolve around [Table Creation and Data Loads](../table-creation-and-data-loads/main.ipynb). Feel free to check out the notebook if you need some reminders on creating, loading, and joining Atoti tables."
   ]
  },
  {
   "cell_type": "markdown",
   "id": "f2e8584c-67f1-4396-9c5e-ba5e2db7bae5",
   "metadata": {},
   "source": [
    "<div style=\"text-align: center;\" ><a href=\"https://www.atoti.io/?utm_source=gallery&utm_content=hierarchies\" target=\"_blank\" rel=\"noopener noreferrer\"><img src=\"https://data.atoti.io/notebooks/banners/Discover-Atoti-now.png\" alt=\"Try Atoti\"></a></div>"
   ]
  },
  {
   "cell_type": "markdown",
   "id": "96b431ed-d908-4c90-8028-63faa6ad5210",
   "metadata": {},
   "source": [
    "## Import libraries\n",
    "\n",
    "First things first, let's import our libraries."
   ]
  },
  {
   "cell_type": "code",
   "execution_count": 1,
   "id": "dd52328a-81c5-4404-a791-ee01d9f83379",
   "metadata": {},
   "outputs": [],
   "source": [
    "import atoti as tt\n",
    "import pandas"
   ]
  },
  {
   "cell_type": "markdown",
   "id": "3dd1ef72-b31a-4bb4-993c-3e379e01f4fc",
   "metadata": {},
   "source": [
    "## Instantiate Atoti server and link UI\n",
    "\n",
    "Next, we'll spin up the Atoti server and link the session to our web-based Atoti UI.\n",
    "\n",
    "💡 **Note**: https://docs.atoti.io/latest/api/atoti.Session.html#atoti.Session"
   ]
  },
  {
   "cell_type": "code",
   "execution_count": 2,
   "id": "5989628c-d209-4c17-b023-cd18cb362b40",
   "metadata": {},
   "outputs": [
    {
     "data": {
      "application/vnd.atoti.link.v0+json": {
       "path": "",
       "sessionLocation": {
        "https": false,
        "port": 9092
       }
      },
      "text/markdown": [
       "http://localhost:9092\n",
       "\n",
       "_Note_: This is the session's local URL: it may not be reachable if Atoti is running on another machine."
      ],
      "text/plain": [
       "http://localhost:9092 (This is the session's local URL: it may not be reachable if Atoti is running on another machine.)"
      ]
     },
     "execution_count": 2,
     "metadata": {},
     "output_type": "execute_result"
    }
   ],
   "source": [
    "session = tt.Session(\n",
    "    user_content_storage=\"./content\",\n",
    "    port=9092,\n",
    "    java_options=[\"-Xms1G\", \"-Xmx10G\"],\n",
    ")\n",
    "session.link"
   ]
  },
  {
   "cell_type": "markdown",
   "id": "338e45ac-5994-4d0f-8d32-a750f90eda51",
   "metadata": {},
   "source": [
    "## Load CSVs from S3 into Atoti tables\n",
    "\n",
    "From here on, we'll load the following CSVs from S3 into Atoti tables.\n",
    "\n",
    "* [Orders](#Orders)\n",
    "* [Products](#Products)\n",
    "* [Shippers](#Shippers)\n",
    "* [Customers](#Customers)\n",
    "* [Employees](#Employees)\n",
    "\n",
    "💡 **Note**: Sometimes we want inherently numerical columns to be used as hierarchies instead of measures (e.g. an Order ID should be used as a hierarchy rather than a measure, and does not need to be aggregated). For this reason, we can explicitly set specific Atoti table columns as desired data types (in this case strings) when loading data into Atoti tables.\n",
    "\n",
    "See https://docs.atoti.io/latest/api/atoti.Session.read_csv.html#atoti.Session.read_csv for more info."
   ]
  },
  {
   "cell_type": "markdown",
   "id": "c2436684-84d0-4875-941e-2609c877b412",
   "metadata": {},
   "source": [
    "### Orders"
   ]
  },
  {
   "cell_type": "code",
   "execution_count": 3,
   "id": "c5bb6cc1-7f54-44d3-9934-f142644c5ca5",
   "metadata": {},
   "outputs": [
    {
     "data": {
      "text/html": [
       "<div>\n",
       "<style scoped>\n",
       "    .dataframe tbody tr th:only-of-type {\n",
       "        vertical-align: middle;\n",
       "    }\n",
       "\n",
       "    .dataframe tbody tr th {\n",
       "        vertical-align: top;\n",
       "    }\n",
       "\n",
       "    .dataframe thead th {\n",
       "        text-align: right;\n",
       "    }\n",
       "</style>\n",
       "<table border=\"1\" class=\"dataframe\">\n",
       "  <thead>\n",
       "    <tr style=\"text-align: right;\">\n",
       "      <th></th>\n",
       "      <th>OrderDate</th>\n",
       "      <th>QuantitySold</th>\n",
       "      <th>SellingPricePerUnit</th>\n",
       "      <th>ShipperName</th>\n",
       "      <th>ProductId</th>\n",
       "      <th>EmployeeId</th>\n",
       "      <th>CustomerId</th>\n",
       "    </tr>\n",
       "    <tr>\n",
       "      <th>OrderId</th>\n",
       "      <th></th>\n",
       "      <th></th>\n",
       "      <th></th>\n",
       "      <th></th>\n",
       "      <th></th>\n",
       "      <th></th>\n",
       "      <th></th>\n",
       "    </tr>\n",
       "  </thead>\n",
       "  <tbody>\n",
       "    <tr>\n",
       "      <th>9</th>\n",
       "      <td>2024-02-18</td>\n",
       "      <td>339</td>\n",
       "      <td>19.39</td>\n",
       "      <td>The Transporter</td>\n",
       "      <td>1423</td>\n",
       "      <td>18336</td>\n",
       "      <td>c5755</td>\n",
       "    </tr>\n",
       "    <tr>\n",
       "      <th>19</th>\n",
       "      <td>2024-02-18</td>\n",
       "      <td>971</td>\n",
       "      <td>11.1</td>\n",
       "      <td>Freight United</td>\n",
       "      <td>708</td>\n",
       "      <td>18422</td>\n",
       "      <td>c1891</td>\n",
       "    </tr>\n",
       "    <tr>\n",
       "      <th>29</th>\n",
       "      <td>2024-02-18</td>\n",
       "      <td>716</td>\n",
       "      <td>12.56</td>\n",
       "      <td>Rapid Post</td>\n",
       "      <td>1202</td>\n",
       "      <td>18465</td>\n",
       "      <td>c3235</td>\n",
       "    </tr>\n",
       "    <tr>\n",
       "      <th>39</th>\n",
       "      <td>2024-02-18</td>\n",
       "      <td>120</td>\n",
       "      <td>284.01</td>\n",
       "      <td>Speedy Express</td>\n",
       "      <td>1410</td>\n",
       "      <td>18508</td>\n",
       "      <td>c3179</td>\n",
       "    </tr>\n",
       "    <tr>\n",
       "      <th>49</th>\n",
       "      <td>2024-02-18</td>\n",
       "      <td>471</td>\n",
       "      <td>51.67</td>\n",
       "      <td>United Package</td>\n",
       "      <td>1111</td>\n",
       "      <td>26584</td>\n",
       "      <td>c2003</td>\n",
       "    </tr>\n",
       "  </tbody>\n",
       "</table>\n",
       "</div>"
      ],
      "text/plain": [
       "         OrderDate  QuantitySold  SellingPricePerUnit      ShipperName  \\\n",
       "OrderId                                                                  \n",
       "9       2024-02-18           339                19.39  The Transporter   \n",
       "19      2024-02-18           971                 11.1   Freight United   \n",
       "29      2024-02-18           716                12.56       Rapid Post   \n",
       "39      2024-02-18           120               284.01   Speedy Express   \n",
       "49      2024-02-18           471                51.67   United Package   \n",
       "\n",
       "        ProductId EmployeeId CustomerId  \n",
       "OrderId                                  \n",
       "9            1423      18336      c5755  \n",
       "19            708      18422      c1891  \n",
       "29           1202      18465      c3235  \n",
       "39           1410      18508      c3179  \n",
       "49           1111      26584      c2003  "
      ]
     },
     "execution_count": 3,
     "metadata": {},
     "output_type": "execute_result"
    }
   ],
   "source": [
    "orders = session.read_csv(\n",
    "    \"s3://data.atoti.io/notebooks/hierarchies/data/Orders.csv\",\n",
    "    types={\n",
    "        \"OrderId\": tt.STRING,\n",
    "        \"OrderDate\": tt.LOCAL_DATE,\n",
    "        \"ProductId\": tt.STRING,\n",
    "        \"EmployeeId\": tt.STRING,\n",
    "        \"CustomerId\": tt.STRING,\n",
    "    },\n",
    "    date_patterns={\"OrderDate\": \"dd/M/yyyy\"},\n",
    "    keys=[\"OrderId\"],\n",
    ")\n",
    "orders.head()"
   ]
  },
  {
   "cell_type": "markdown",
   "id": "9784490d-6226-4db7-b10c-e4b9577a2e34",
   "metadata": {},
   "source": [
    "### Products"
   ]
  },
  {
   "cell_type": "code",
   "execution_count": 4,
   "id": "d37199f3-a0eb-4cb4-91a3-57da1d2c752f",
   "metadata": {},
   "outputs": [
    {
     "data": {
      "text/html": [
       "<div>\n",
       "<style scoped>\n",
       "    .dataframe tbody tr th:only-of-type {\n",
       "        vertical-align: middle;\n",
       "    }\n",
       "\n",
       "    .dataframe tbody tr th {\n",
       "        vertical-align: top;\n",
       "    }\n",
       "\n",
       "    .dataframe thead th {\n",
       "        text-align: right;\n",
       "    }\n",
       "</style>\n",
       "<table border=\"1\" class=\"dataframe\">\n",
       "  <thead>\n",
       "    <tr style=\"text-align: right;\">\n",
       "      <th></th>\n",
       "      <th>ProductName</th>\n",
       "      <th>ProductCategory</th>\n",
       "      <th>Supplier</th>\n",
       "      <th>PurchasingPricePerUnit</th>\n",
       "    </tr>\n",
       "    <tr>\n",
       "      <th>ProductId</th>\n",
       "      <th></th>\n",
       "      <th></th>\n",
       "      <th></th>\n",
       "      <th></th>\n",
       "    </tr>\n",
       "  </thead>\n",
       "  <tbody>\n",
       "    <tr>\n",
       "      <th>643</th>\n",
       "      <td>Ravioli Angelo</td>\n",
       "      <td>Grains/Cereals</td>\n",
       "      <td>Pasta Buttini s.r.l.</td>\n",
       "      <td>11.23</td>\n",
       "    </tr>\n",
       "    <tr>\n",
       "      <th>773</th>\n",
       "      <td>Chang</td>\n",
       "      <td>Beverages</td>\n",
       "      <td>Exotic Liquids</td>\n",
       "      <td>10.26</td>\n",
       "    </tr>\n",
       "    <tr>\n",
       "      <th>903</th>\n",
       "      <td>Gravad lax</td>\n",
       "      <td>Seafood</td>\n",
       "      <td>Svensk Sjöföda AB</td>\n",
       "      <td>18.72</td>\n",
       "    </tr>\n",
       "    <tr>\n",
       "      <th>1033</th>\n",
       "      <td>Lakkalikööri</td>\n",
       "      <td>Beverages</td>\n",
       "      <td>Karkki Oy</td>\n",
       "      <td>9.72</td>\n",
       "    </tr>\n",
       "    <tr>\n",
       "      <th>1163</th>\n",
       "      <td>Rhönbräu Klosterbier</td>\n",
       "      <td>Beverages</td>\n",
       "      <td>Plutzer Lebensmittelgroßmärkte AG</td>\n",
       "      <td>4.19</td>\n",
       "    </tr>\n",
       "  </tbody>\n",
       "</table>\n",
       "</div>"
      ],
      "text/plain": [
       "                    ProductName ProductCategory  \\\n",
       "ProductId                                         \n",
       "643              Ravioli Angelo  Grains/Cereals   \n",
       "773                       Chang       Beverages   \n",
       "903                  Gravad lax         Seafood   \n",
       "1033               Lakkalikööri       Beverages   \n",
       "1163       Rhönbräu Klosterbier       Beverages   \n",
       "\n",
       "                                    Supplier  PurchasingPricePerUnit  \n",
       "ProductId                                                             \n",
       "643                     Pasta Buttini s.r.l.                   11.23  \n",
       "773                           Exotic Liquids                   10.26  \n",
       "903                        Svensk Sjöföda AB                   18.72  \n",
       "1033                               Karkki Oy                    9.72  \n",
       "1163       Plutzer Lebensmittelgroßmärkte AG                    4.19  "
      ]
     },
     "execution_count": 4,
     "metadata": {},
     "output_type": "execute_result"
    }
   ],
   "source": [
    "products = session.read_csv(\n",
    "    \"s3://data.atoti.io/notebooks/hierarchies/data/Products.csv\",\n",
    "    types={\n",
    "        \"ProductId\": tt.STRING,\n",
    "        \"ProductName\": tt.STRING,\n",
    "        \"ProductCategory\": tt.STRING,\n",
    "        \"Supplier\": tt.STRING,\n",
    "        \"PurchasingPricePerUnit\": tt.DOUBLE,\n",
    "    },\n",
    "    keys=[\"ProductId\"],\n",
    ")\n",
    "products.head()"
   ]
  },
  {
   "cell_type": "markdown",
   "id": "ac89f164-064a-4658-b7a7-642dd5d45d80",
   "metadata": {},
   "source": [
    "### Shippers"
   ]
  },
  {
   "cell_type": "code",
   "execution_count": 5,
   "id": "1280d556-8697-4086-9cb9-3b93c339255a",
   "metadata": {},
   "outputs": [
    {
     "data": {
      "text/html": [
       "<div>\n",
       "<style scoped>\n",
       "    .dataframe tbody tr th:only-of-type {\n",
       "        vertical-align: middle;\n",
       "    }\n",
       "\n",
       "    .dataframe tbody tr th {\n",
       "        vertical-align: top;\n",
       "    }\n",
       "\n",
       "    .dataframe thead th {\n",
       "        text-align: right;\n",
       "    }\n",
       "</style>\n",
       "<table border=\"1\" class=\"dataframe\">\n",
       "  <thead>\n",
       "    <tr style=\"text-align: right;\">\n",
       "      <th></th>\n",
       "      <th>ShipperName</th>\n",
       "      <th>Contact</th>\n",
       "    </tr>\n",
       "  </thead>\n",
       "  <tbody>\n",
       "    <tr>\n",
       "      <th>0</th>\n",
       "      <td>Freight United</td>\n",
       "      <td>Geoff Matthews</td>\n",
       "    </tr>\n",
       "    <tr>\n",
       "      <th>1</th>\n",
       "      <td>Rapid Post</td>\n",
       "      <td>Payal Shah</td>\n",
       "    </tr>\n",
       "    <tr>\n",
       "      <th>2</th>\n",
       "      <td>United Package</td>\n",
       "      <td>Junqi Huang</td>\n",
       "    </tr>\n",
       "    <tr>\n",
       "      <th>3</th>\n",
       "      <td>Speedy Express</td>\n",
       "      <td>Natalia Ramirez</td>\n",
       "    </tr>\n",
       "    <tr>\n",
       "      <th>4</th>\n",
       "      <td>The Transporter</td>\n",
       "      <td>Funmi Odunga</td>\n",
       "    </tr>\n",
       "  </tbody>\n",
       "</table>\n",
       "</div>"
      ],
      "text/plain": [
       "       ShipperName          Contact\n",
       "0   Freight United   Geoff Matthews\n",
       "1       Rapid Post       Payal Shah\n",
       "2   United Package      Junqi Huang\n",
       "3   Speedy Express  Natalia Ramirez\n",
       "4  The Transporter     Funmi Odunga"
      ]
     },
     "execution_count": 5,
     "metadata": {},
     "output_type": "execute_result"
    }
   ],
   "source": [
    "shippers = session.read_csv(\n",
    "    \"s3://data.atoti.io/notebooks/hierarchies/data/Shippers.csv\",\n",
    "    types={\n",
    "        \"ShipperName\": tt.STRING,\n",
    "        \"Contact\": tt.STRING,\n",
    "    },\n",
    ")\n",
    "shippers.head()"
   ]
  },
  {
   "cell_type": "markdown",
   "id": "9c4dac8a-8dc7-4158-8976-1ba48b98f2be",
   "metadata": {},
   "source": [
    "### Customers"
   ]
  },
  {
   "cell_type": "code",
   "execution_count": 6,
   "id": "5c17d95f-eb31-4a3b-b05a-ff3b30c0fe79",
   "metadata": {},
   "outputs": [
    {
     "data": {
      "text/html": [
       "<div>\n",
       "<style scoped>\n",
       "    .dataframe tbody tr th:only-of-type {\n",
       "        vertical-align: middle;\n",
       "    }\n",
       "\n",
       "    .dataframe tbody tr th {\n",
       "        vertical-align: top;\n",
       "    }\n",
       "\n",
       "    .dataframe thead th {\n",
       "        text-align: right;\n",
       "    }\n",
       "</style>\n",
       "<table border=\"1\" class=\"dataframe\">\n",
       "  <thead>\n",
       "    <tr style=\"text-align: right;\">\n",
       "      <th></th>\n",
       "      <th>CompanyName</th>\n",
       "      <th>Address</th>\n",
       "      <th>City</th>\n",
       "      <th>PostalCode</th>\n",
       "      <th>Region</th>\n",
       "      <th>Country</th>\n",
       "      <th>Subregion</th>\n",
       "      <th>Phone</th>\n",
       "      <th>PostCode</th>\n",
       "    </tr>\n",
       "    <tr>\n",
       "      <th>CustomerId</th>\n",
       "      <th></th>\n",
       "      <th></th>\n",
       "      <th></th>\n",
       "      <th></th>\n",
       "      <th></th>\n",
       "      <th></th>\n",
       "      <th></th>\n",
       "      <th></th>\n",
       "      <th></th>\n",
       "    </tr>\n",
       "  </thead>\n",
       "  <tbody>\n",
       "    <tr>\n",
       "      <th>c883</th>\n",
       "      <td>Vins et alcools Chevalier</td>\n",
       "      <td>59 rue de l'Abbaye</td>\n",
       "      <td>Reims</td>\n",
       "      <td>51100</td>\n",
       "      <td>Europe</td>\n",
       "      <td>France</td>\n",
       "      <td>Western Europe</td>\n",
       "      <td>26.47.15.10</td>\n",
       "      <td>N/A</td>\n",
       "    </tr>\n",
       "    <tr>\n",
       "      <th>c939</th>\n",
       "      <td>Toms Spezialitäten</td>\n",
       "      <td>Luisenstr. 48</td>\n",
       "      <td>Münster</td>\n",
       "      <td>44087</td>\n",
       "      <td>Europe</td>\n",
       "      <td>Germany</td>\n",
       "      <td>Western Europe</td>\n",
       "      <td>0251-031259</td>\n",
       "      <td>N/A</td>\n",
       "    </tr>\n",
       "    <tr>\n",
       "      <th>c5643</th>\n",
       "      <td>Alfreds Futterkiste</td>\n",
       "      <td>Obere Str. 57</td>\n",
       "      <td>Berlin</td>\n",
       "      <td>12209</td>\n",
       "      <td>Europe</td>\n",
       "      <td>Germany</td>\n",
       "      <td>Western Europe</td>\n",
       "      <td>030-0074321</td>\n",
       "      <td>N/A</td>\n",
       "    </tr>\n",
       "    <tr>\n",
       "      <th>c2899</th>\n",
       "      <td>Godos Cocina Típica</td>\n",
       "      <td>C/ Romero, 33</td>\n",
       "      <td>Sevilla</td>\n",
       "      <td>41101</td>\n",
       "      <td>Europe</td>\n",
       "      <td>Spain</td>\n",
       "      <td>Southern Europe</td>\n",
       "      <td>(95) 555 82 82</td>\n",
       "      <td>N/A</td>\n",
       "    </tr>\n",
       "    <tr>\n",
       "      <th>c4019</th>\n",
       "      <td>Seven Seas Imports</td>\n",
       "      <td>90 Wadhurst Rd.</td>\n",
       "      <td>London</td>\n",
       "      <td>OX15 4NB</td>\n",
       "      <td>Europe</td>\n",
       "      <td>United Kingdom</td>\n",
       "      <td>Northern Europe</td>\n",
       "      <td>(171) 555-1717</td>\n",
       "      <td>N/A</td>\n",
       "    </tr>\n",
       "  </tbody>\n",
       "</table>\n",
       "</div>"
      ],
      "text/plain": [
       "                          CompanyName             Address     City PostalCode  \\\n",
       "CustomerId                                                                      \n",
       "c883        Vins et alcools Chevalier  59 rue de l'Abbaye    Reims      51100   \n",
       "c939               Toms Spezialitäten       Luisenstr. 48  Münster      44087   \n",
       "c5643             Alfreds Futterkiste       Obere Str. 57   Berlin      12209   \n",
       "c2899             Godos Cocina Típica       C/ Romero, 33  Sevilla      41101   \n",
       "c4019              Seven Seas Imports     90 Wadhurst Rd.   London   OX15 4NB   \n",
       "\n",
       "            Region         Country        Subregion           Phone PostCode  \n",
       "CustomerId                                                                    \n",
       "c883        Europe          France   Western Europe     26.47.15.10      N/A  \n",
       "c939        Europe         Germany   Western Europe     0251-031259      N/A  \n",
       "c5643       Europe         Germany   Western Europe     030-0074321      N/A  \n",
       "c2899       Europe           Spain  Southern Europe  (95) 555 82 82      N/A  \n",
       "c4019       Europe  United Kingdom  Northern Europe  (171) 555-1717      N/A  "
      ]
     },
     "execution_count": 6,
     "metadata": {},
     "output_type": "execute_result"
    }
   ],
   "source": [
    "customers = session.read_csv(\n",
    "    \"s3://data.atoti.io/notebooks/hierarchies/data/Customers.csv\",\n",
    "    types={\n",
    "        \"CustomerId\": tt.STRING,\n",
    "        \"CompanyName\": tt.STRING,\n",
    "        \"Region\": tt.STRING,\n",
    "        \"Country\": tt.STRING,\n",
    "        \"Address\": tt.STRING,\n",
    "        \"City\": tt.STRING,\n",
    "        \"PostCode\": tt.STRING,\n",
    "        \"Phone\": tt.STRING,\n",
    "    },\n",
    "    keys=[\"CustomerId\"],\n",
    ")\n",
    "customers.head()"
   ]
  },
  {
   "cell_type": "markdown",
   "id": "0c30a612-1763-4390-9c33-336934e7d033",
   "metadata": {},
   "source": [
    "### Employees"
   ]
  },
  {
   "cell_type": "code",
   "execution_count": 7,
   "id": "c3ce0b51-5296-4696-960a-d18346499be3",
   "metadata": {},
   "outputs": [
    {
     "data": {
      "text/html": [
       "<div>\n",
       "<style scoped>\n",
       "    .dataframe tbody tr th:only-of-type {\n",
       "        vertical-align: middle;\n",
       "    }\n",
       "\n",
       "    .dataframe tbody tr th {\n",
       "        vertical-align: top;\n",
       "    }\n",
       "\n",
       "    .dataframe thead th {\n",
       "        text-align: right;\n",
       "    }\n",
       "</style>\n",
       "<table border=\"1\" class=\"dataframe\">\n",
       "  <thead>\n",
       "    <tr style=\"text-align: right;\">\n",
       "      <th></th>\n",
       "      <th>EmployeeName</th>\n",
       "      <th>EmployeeZone</th>\n",
       "      <th>EmployeeCountry</th>\n",
       "      <th>EmployeeCity</th>\n",
       "    </tr>\n",
       "    <tr>\n",
       "      <th>EmployeeId</th>\n",
       "      <th></th>\n",
       "      <th></th>\n",
       "      <th></th>\n",
       "      <th></th>\n",
       "    </tr>\n",
       "  </thead>\n",
       "  <tbody>\n",
       "    <tr>\n",
       "      <th>18594</th>\n",
       "      <td>Laura Callahan</td>\n",
       "      <td>AMERICAS</td>\n",
       "      <td>USA</td>\n",
       "      <td>Seattle</td>\n",
       "    </tr>\n",
       "    <tr>\n",
       "      <th>18637</th>\n",
       "      <td>Andrew Fuller</td>\n",
       "      <td>AMERICAS</td>\n",
       "      <td>USA</td>\n",
       "      <td>Tacoma</td>\n",
       "    </tr>\n",
       "    <tr>\n",
       "      <th>12344</th>\n",
       "      <td>Paul Henry</td>\n",
       "      <td>EMEA</td>\n",
       "      <td>FR</td>\n",
       "      <td>Paris</td>\n",
       "    </tr>\n",
       "    <tr>\n",
       "      <th>18680</th>\n",
       "      <td>Robert King</td>\n",
       "      <td>EMEA</td>\n",
       "      <td>UK</td>\n",
       "      <td>London</td>\n",
       "    </tr>\n",
       "    <tr>\n",
       "      <th>12695</th>\n",
       "      <td>Louis Philippe</td>\n",
       "      <td>EMEA</td>\n",
       "      <td>FR</td>\n",
       "      <td>Lyon</td>\n",
       "    </tr>\n",
       "  </tbody>\n",
       "</table>\n",
       "</div>"
      ],
      "text/plain": [
       "              EmployeeName EmployeeZone EmployeeCountry EmployeeCity\n",
       "EmployeeId                                                          \n",
       "18594       Laura Callahan     AMERICAS             USA      Seattle\n",
       "18637        Andrew Fuller     AMERICAS             USA       Tacoma\n",
       "12344           Paul Henry         EMEA              FR        Paris\n",
       "18680          Robert King         EMEA              UK       London\n",
       "12695       Louis Philippe         EMEA              FR         Lyon"
      ]
     },
     "execution_count": 7,
     "metadata": {},
     "output_type": "execute_result"
    }
   ],
   "source": [
    "employees = session.read_csv(\n",
    "    \"s3://data.atoti.io/notebooks/hierarchies/data/Employees.csv\",\n",
    "    types={\n",
    "        \"EmployeeId\": tt.STRING,\n",
    "        \"EmployeeName\": tt.STRING,\n",
    "        \"EmployeeCountry\": tt.STRING,\n",
    "        \"EmployeeCity\": tt.STRING,\n",
    "    },\n",
    "    keys=[\"EmployeeId\"],\n",
    ")\n",
    "employees.head()"
   ]
  },
  {
   "cell_type": "markdown",
   "id": "6e277a6c-bf86-46d0-8c28-ab48986f8237",
   "metadata": {},
   "source": [
    "## Join tables and create cube\n",
    "\n",
    "Now that our data is loaded into Atoti tables and in the format that we want, we can join our tables together on their common keys and create our Atoti cube."
   ]
  },
  {
   "cell_type": "code",
   "execution_count": 8,
   "id": "63f8f654-b769-4362-ac4c-5470c22d27b2",
   "metadata": {},
   "outputs": [],
   "source": [
    "# Join tables\n",
    "orders.join(products, orders[\"ProductId\"] == products[\"ProductId\"])\n",
    "orders.join(employees, orders[\"EmployeeId\"] == employees[\"EmployeeId\"])\n",
    "orders.join(customers, orders[\"CustomerId\"] == customers[\"CustomerId\"])\n",
    "orders.join(shippers, orders[\"ShipperName\"] == shippers[\"ShipperName\"])"
   ]
  },
  {
   "cell_type": "code",
   "execution_count": 9,
   "id": "b5f9b569-eaa7-4b41-8a36-071f6970444a",
   "metadata": {},
   "outputs": [],
   "source": [
    "# Create Cube from Atoti Table object\n",
    "cube = session.create_cube(orders)"
   ]
  },
  {
   "cell_type": "markdown",
   "id": "43c0ab89-5c1a-4546-8d4a-942ee8dc8708",
   "metadata": {},
   "source": [
    "## Analyze the Atoti cube\n",
    "\n",
    "Now that the data has been loaded into the cube, we'll want to examine the data model of the cube to confirm that the columns and data types match up to what we expect. In addition, we can view the hierarchies, levels, and measures for our cube by assigning them to variables."
   ]
  },
  {
   "cell_type": "code",
   "execution_count": 10,
   "id": "eaf46e7c-2501-462b-82a1-107e74e497f7",
   "metadata": {},
   "outputs": [
    {
     "data": {
      "text/markdown": [
       "```mermaid\n",
       "erDiagram\n",
       "  \"Orders\" {\n",
       "    _ String PK \"OrderId\"\n",
       "    _ LocalDate \"OrderDate\"\n",
       "    nullable int \"QuantitySold\"\n",
       "    nullable double \"SellingPricePerUnit\"\n",
       "    _ String \"ShipperName\"\n",
       "    _ String \"ProductId\"\n",
       "    _ String \"EmployeeId\"\n",
       "    _ String \"CustomerId\"\n",
       "  }\n",
       "  \"Products\" {\n",
       "    _ String PK \"ProductId\"\n",
       "    _ String \"ProductName\"\n",
       "    _ String \"ProductCategory\"\n",
       "    _ String \"Supplier\"\n",
       "    nullable double \"PurchasingPricePerUnit\"\n",
       "  }\n",
       "  \"Customers\" {\n",
       "    _ String PK \"CustomerId\"\n",
       "    _ String \"CompanyName\"\n",
       "    _ String \"Address\"\n",
       "    _ String \"City\"\n",
       "    _ String \"PostalCode\"\n",
       "    _ String \"Region\"\n",
       "    _ String \"Country\"\n",
       "    _ String \"Subregion\"\n",
       "    _ String \"Phone\"\n",
       "    _ String \"PostCode\"\n",
       "  }\n",
       "  \"Shippers\" {\n",
       "    _ String \"ShipperName\"\n",
       "    _ String \"Contact\"\n",
       "  }\n",
       "  \"Employees\" {\n",
       "    _ String PK \"EmployeeId\"\n",
       "    _ String \"EmployeeName\"\n",
       "    _ String \"EmployeeZone\"\n",
       "    _ String \"EmployeeCountry\"\n",
       "    _ String \"EmployeeCity\"\n",
       "  }\n",
       "  \"Orders\" }o--o| \"Customers\" : \"`CustomerId` == `CustomerId`\"\n",
       "  \"Orders\" }o--o| \"Employees\" : \"`EmployeeId` == `EmployeeId`\"\n",
       "  \"Orders\" }o--o| \"Products\" : \"`ProductId` == `ProductId`\"\n",
       "  \"Orders\" }o--o| \"Shippers\" : \"`ShipperName` == `ShipperName`\"\n",
       "```\n"
      ],
      "text/plain": [
       "erDiagram\n",
       "  \"Orders\" {\n",
       "    _ String PK \"OrderId\"\n",
       "    _ LocalDate \"OrderDate\"\n",
       "    nullable int \"QuantitySold\"\n",
       "    nullable double \"SellingPricePerUnit\"\n",
       "    _ String \"ShipperName\"\n",
       "    _ String \"ProductId\"\n",
       "    _ String \"EmployeeId\"\n",
       "    _ String \"CustomerId\"\n",
       "  }\n",
       "  \"Products\" {\n",
       "    _ String PK \"ProductId\"\n",
       "    _ String \"ProductName\"\n",
       "    _ String \"ProductCategory\"\n",
       "    _ String \"Supplier\"\n",
       "    nullable double \"PurchasingPricePerUnit\"\n",
       "  }\n",
       "  \"Customers\" {\n",
       "    _ String PK \"CustomerId\"\n",
       "    _ String \"CompanyName\"\n",
       "    _ String \"Address\"\n",
       "    _ String \"City\"\n",
       "    _ String \"PostalCode\"\n",
       "    _ String \"Region\"\n",
       "    _ String \"Country\"\n",
       "    _ String \"Subregion\"\n",
       "    _ String \"Phone\"\n",
       "    _ String \"PostCode\"\n",
       "  }\n",
       "  \"Shippers\" {\n",
       "    _ String \"ShipperName\"\n",
       "    _ String \"Contact\"\n",
       "  }\n",
       "  \"Employees\" {\n",
       "    _ String PK \"EmployeeId\"\n",
       "    _ String \"EmployeeName\"\n",
       "    _ String \"EmployeeZone\"\n",
       "    _ String \"EmployeeCountry\"\n",
       "    _ String \"EmployeeCity\"\n",
       "  }\n",
       "  \"Orders\" }o--o| \"Customers\" : \"`CustomerId` == `CustomerId`\"\n",
       "  \"Orders\" }o--o| \"Employees\" : \"`EmployeeId` == `EmployeeId`\"\n",
       "  \"Orders\" }o--o| \"Products\" : \"`ProductId` == `ProductId`\"\n",
       "  \"Orders\" }o--o| \"Shippers\" : \"`ShipperName` == `ShipperName`\""
      ]
     },
     "execution_count": 10,
     "metadata": {},
     "output_type": "execute_result"
    }
   ],
   "source": [
    "# View the schema of the data model\n",
    "session.tables.schema"
   ]
  },
  {
   "cell_type": "code",
   "execution_count": 11,
   "id": "9d3894be-2af4-4a75-a091-7a060bc403f5",
   "metadata": {},
   "outputs": [],
   "source": [
    "# Set variables for hierarchies, levels, and measures\n",
    "h, l, m = cube.hierarchies, cube.levels, cube.measures"
   ]
  },
  {
   "cell_type": "markdown",
   "id": "5e262b11-8c22-4ba2-9795-b6cf03d753b1",
   "metadata": {},
   "source": [
    "## Viewing hierarchies\n",
    "\n",
    "Because this walk through will mainly be focusing on hierarchies, let's view the hierarchies for the data model by printing the list of hierarchies based on the variable that we assigned.\n",
    "\n",
    "We can see that each hierarchy is categorized under dimensions, which derive from the Atoti tables that we loaded, and each hierarchy has its own set of levels (starting with a 0-based index).\n",
    "\n",
    "💡 **Note**: Hierarchies can have [multiple levels](https://docs.atoti.io/latest/getting_started/tutorial/tutorial.html#Multilevel-hierarchies), which we will show [later in this notebook](#Using-Multi-Level-Hierarchies)."
   ]
  },
  {
   "cell_type": "code",
   "execution_count": 12,
   "id": "d62e8940-8ae1-4bb0-afa6-3425471f65ef",
   "metadata": {},
   "outputs": [
    {
     "data": {
      "application/json": {
       "Customers": {
        "Address": [
         "Address"
        ],
        "City": [
         "City"
        ],
        "CompanyName": [
         "CompanyName"
        ],
        "Country": [
         "Country"
        ],
        "Phone": [
         "Phone"
        ],
        "PostCode": [
         "PostCode"
        ],
        "PostalCode": [
         "PostalCode"
        ],
        "Region": [
         "Region"
        ],
        "Subregion": [
         "Subregion"
        ]
       },
       "Employees": {
        "EmployeeCity": [
         "EmployeeCity"
        ],
        "EmployeeCountry": [
         "EmployeeCountry"
        ],
        "EmployeeName": [
         "EmployeeName"
        ],
        "EmployeeZone": [
         "EmployeeZone"
        ]
       },
       "Orders": {
        "CustomerId": [
         "CustomerId"
        ],
        "EmployeeId": [
         "EmployeeId"
        ],
        "OrderDate": [
         "OrderDate"
        ],
        "OrderId": [
         "OrderId"
        ],
        "ProductId": [
         "ProductId"
        ],
        "ShipperName": [
         "ShipperName"
        ]
       },
       "Products": {
        "ProductCategory": [
         "ProductCategory"
        ],
        "ProductName": [
         "ProductName"
        ],
        "Supplier": [
         "Supplier"
        ]
       },
       "Shippers": {
        "Contact": [
         "Contact"
        ]
       }
      },
      "text/html": [
       "<ul>\n",
       "<li>Dimensions\n",
       "  <ul>\n",
       "  <li>Customers\n",
       "    <ul>\n",
       "    <li>Address\n",
       "      <ol>\n",
       "      <li>Address</li>\n",
       "      </ol>    </li>\n",
       "    <li>City\n",
       "      <ol>\n",
       "      <li>City</li>\n",
       "      </ol>    </li>\n",
       "    <li>CompanyName\n",
       "      <ol>\n",
       "      <li>CompanyName</li>\n",
       "      </ol>    </li>\n",
       "    <li>Country\n",
       "      <ol>\n",
       "      <li>Country</li>\n",
       "      </ol>    </li>\n",
       "    <li>Phone\n",
       "      <ol>\n",
       "      <li>Phone</li>\n",
       "      </ol>    </li>\n",
       "    <li>PostCode\n",
       "      <ol>\n",
       "      <li>PostCode</li>\n",
       "      </ol>    </li>\n",
       "    <li>PostalCode\n",
       "      <ol>\n",
       "      <li>PostalCode</li>\n",
       "      </ol>    </li>\n",
       "    <li>Region\n",
       "      <ol>\n",
       "      <li>Region</li>\n",
       "      </ol>    </li>\n",
       "    <li>Subregion\n",
       "      <ol>\n",
       "      <li>Subregion</li>\n",
       "      </ol>    </li>\n",
       "    </ul>\n",
       "  </li>\n",
       "  <li>Employees\n",
       "    <ul>\n",
       "    <li>EmployeeCity\n",
       "      <ol>\n",
       "      <li>EmployeeCity</li>\n",
       "      </ol>    </li>\n",
       "    <li>EmployeeCountry\n",
       "      <ol>\n",
       "      <li>EmployeeCountry</li>\n",
       "      </ol>    </li>\n",
       "    <li>EmployeeName\n",
       "      <ol>\n",
       "      <li>EmployeeName</li>\n",
       "      </ol>    </li>\n",
       "    <li>EmployeeZone\n",
       "      <ol>\n",
       "      <li>EmployeeZone</li>\n",
       "      </ol>    </li>\n",
       "    </ul>\n",
       "  </li>\n",
       "  <li>Orders\n",
       "    <ul>\n",
       "    <li>CustomerId\n",
       "      <ol>\n",
       "      <li>CustomerId</li>\n",
       "      </ol>    </li>\n",
       "    <li>EmployeeId\n",
       "      <ol>\n",
       "      <li>EmployeeId</li>\n",
       "      </ol>    </li>\n",
       "    <li>OrderDate\n",
       "      <ol>\n",
       "      <li>OrderDate</li>\n",
       "      </ol>    </li>\n",
       "    <li>OrderId\n",
       "      <ol>\n",
       "      <li>OrderId</li>\n",
       "      </ol>    </li>\n",
       "    <li>ProductId\n",
       "      <ol>\n",
       "      <li>ProductId</li>\n",
       "      </ol>    </li>\n",
       "    <li>ShipperName\n",
       "      <ol>\n",
       "      <li>ShipperName</li>\n",
       "      </ol>    </li>\n",
       "    </ul>\n",
       "  </li>\n",
       "  <li>Products\n",
       "    <ul>\n",
       "    <li>ProductCategory\n",
       "      <ol>\n",
       "      <li>ProductCategory</li>\n",
       "      </ol>    </li>\n",
       "    <li>ProductName\n",
       "      <ol>\n",
       "      <li>ProductName</li>\n",
       "      </ol>    </li>\n",
       "    <li>Supplier\n",
       "      <ol>\n",
       "      <li>Supplier</li>\n",
       "      </ol>    </li>\n",
       "    </ul>\n",
       "  </li>\n",
       "  <li>Shippers\n",
       "    <ul>\n",
       "    <li>Contact\n",
       "      <ol>\n",
       "      <li>Contact</li>\n",
       "      </ol>    </li>\n",
       "    </ul>\n",
       "  </li>\n",
       "  </ul>\n",
       "</li>\n",
       "</ul>\n"
      ],
      "text/plain": [
       "{('Products', 'Supplier'): <atoti.hierarchy.Hierarchy object at 0x133ea7290>, ('Orders', 'OrderDate'): <atoti.hierarchy.Hierarchy object at 0x133ea6350>, ('Orders', 'ProductId'): <atoti.hierarchy.Hierarchy object at 0x133ea6310>, ('Products', 'ProductName'): <atoti.hierarchy.Hierarchy object at 0x133ea6250>, ('Customers', 'Phone'): <atoti.hierarchy.Hierarchy object at 0x133ea62d0>, ('Customers', 'Address'): <atoti.hierarchy.Hierarchy object at 0x133ea5fd0>, ('Customers', 'Region'): <atoti.hierarchy.Hierarchy object at 0x133e62790>, ('Shippers', 'Contact'): <atoti.hierarchy.Hierarchy object at 0x133e61cd0>, ('Orders', 'EmployeeId'): <atoti.hierarchy.Hierarchy object at 0x133e61010>, ('Customers', 'PostCode'): <atoti.hierarchy.Hierarchy object at 0x133e63c50>, ('Employees', 'EmployeeCountry'): <atoti.hierarchy.Hierarchy object at 0x133e63590>, ('Products', 'ProductCategory'): <atoti.hierarchy.Hierarchy object at 0x133e637d0>, ('Customers', 'PostalCode'): <atoti.hierarchy.Hierarchy object at 0x133e63c10>, ('Customers', 'Subregion'): <atoti.hierarchy.Hierarchy object at 0x133e62e10>, ('Orders', 'CustomerId'): <atoti.hierarchy.Hierarchy object at 0x133e63f50>, ('Employees', 'EmployeeCity'): <atoti.hierarchy.Hierarchy object at 0x133e628d0>, ('Customers', 'Country'): <atoti.hierarchy.Hierarchy object at 0x133e63ed0>, ('Orders', 'OrderId'): <atoti.hierarchy.Hierarchy object at 0x133e612d0>, ('Customers', 'CompanyName'): <atoti.hierarchy.Hierarchy object at 0x133e636d0>, ('Orders', 'ShipperName'): <atoti.hierarchy.Hierarchy object at 0x133e634d0>, ('Employees', 'EmployeeName'): <atoti.hierarchy.Hierarchy object at 0x133e63a90>, ('Employees', 'EmployeeZone'): <atoti.hierarchy.Hierarchy object at 0x133dae710>, ('Customers', 'City'): <atoti.hierarchy.Hierarchy object at 0x133e94a10>}"
      ]
     },
     "execution_count": 12,
     "metadata": {
      "application/json": {
       "expanded": true,
       "root": "Dimensions"
      }
     },
     "output_type": "execute_result"
    }
   ],
   "source": [
    "h"
   ]
  },
  {
   "cell_type": "markdown",
   "id": "ae8d18f7-bfde-45f4-b286-20f4d3393cc4",
   "metadata": {},
   "source": [
    "## Hierarchy basics\n",
    "\n",
    "Now that we have our cube up and running and have checked the hierarchies present in the cube, let's use `session.widget` to open up an Atoti JupyterLab extension connected to our cube, and investigate the quantity sold per product.\n",
    "\n",
    "Here we can use the `ProductId` hierarchy and the `QuantitySold.SUM` measure to perform this operation in Atoti.\n",
    "\n",
    "💡 **Note**: You may also use `session.link` to perform the same investigation within the Atoti UI; however, for the purposes of this walk through, we've elected to use `session.widget` so that we can show our analysis directly within this Jupyter notebook."
   ]
  },
  {
   "cell_type": "code",
   "execution_count": 13,
   "id": "a6e27eef-7e31-4eb3-a836-00c80b66d2bb",
   "metadata": {
    "atoti": {
     "widget": {
      "mapping": {
       "columns": [
        "ALL_MEASURES"
       ],
       "measures": [
        "[Measures].[QuantitySold.SUM]"
       ],
       "rows": [
        "[Orders].[ProductId].[ProductId]"
       ]
      },
      "query": {
       "mdx": "SELECT NON EMPTY {[Measures].[QuantitySold.SUM]} ON COLUMNS, NON EMPTY Hierarchize(Descendants({[Orders].[ProductId].[ALL].[AllMember]}, 1, SELF_AND_BEFORE)) ON ROWS FROM [Orders] CELL PROPERTIES VALUE, FORMATTED_VALUE, BACK_COLOR, FORE_COLOR, FONT_FLAGS",
       "updateMode": "once"
      },
      "serverKey": "default",
      "widgetKey": "pivot-table"
     }
    }
   },
   "outputs": [
    {
     "data": {
      "application/vnd.atoti.widget.v0+json": {
       "sessionId": "1715105474_0D54E9",
       "sessionLocation": {
        "https": false,
        "port": 9092
       },
       "widgetCreationCode": "session.widget"
      },
      "text/html": [
       "<img height=\"0\" width=\"0\" src=\"data:,AAAAAAAAAAAAAAAAAAAAAAAAAAAAAAAAAAAAAAAAAAAAAAAACXBIWXMAABqTAAAakwH55E62\" />"
      ],
      "text/plain": [
       "Open the notebook in JupyterLab with the Atoti JupyterLab extension enabled to build this widget."
      ]
     },
     "metadata": {},
     "output_type": "display_data"
    }
   ],
   "source": [
    "session.widget"
   ]
  },
  {
   "cell_type": "markdown",
   "id": "d4b9f75b-f15c-47c8-b38c-c4cac187dc99",
   "metadata": {},
   "source": [
    "But perhaps we also want to know the particular customers that bought each product, along with the quantity sold per product and customer. With Atoti, this is as simple as adding another hierarchy, `CustomerId`, to our analysis to further slice-and-dice our data. As we can see, the total for the `QuantitySold.SUM` measure stays the same at `212,034`, but we can drill down to see a more granular breakdown."
   ]
  },
  {
   "cell_type": "code",
   "execution_count": 14,
   "id": "3373f187-d416-42f7-b4ee-508a0670f6ff",
   "metadata": {
    "atoti": {
     "widget": {
      "mapping": {
       "columns": [
        "ALL_MEASURES"
       ],
       "measures": [
        "[Measures].[QuantitySold.SUM]"
       ],
       "rows": [
        "[Orders].[ProductId].[ProductId]",
        "[Orders].[CustomerId].[CustomerId]"
       ]
      },
      "query": {
       "mdx": "SELECT NON EMPTY Crossjoin(Hierarchize(Descendants({[Orders].[ProductId].[ALL].[AllMember]}, 1, SELF_AND_BEFORE)), Hierarchize(Descendants({[Orders].[CustomerId].[ALL].[AllMember]}, 1, SELF_AND_BEFORE))) ON ROWS, NON EMPTY {[Measures].[QuantitySold.SUM]} ON COLUMNS FROM [Orders] CELL PROPERTIES VALUE, FORMATTED_VALUE, BACK_COLOR, FORE_COLOR, FONT_FLAGS",
       "updateMode": "once"
      },
      "serverKey": "default",
      "widgetKey": "pivot-table"
     }
    }
   },
   "outputs": [
    {
     "data": {
      "application/vnd.atoti.widget.v0+json": {
       "sessionId": "1715105474_0D54E9",
       "sessionLocation": {
        "https": false,
        "port": 9092
       },
       "widgetCreationCode": "session.widget"
      },
      "text/html": [
       "<img height=\"0\" width=\"0\" src=\"data:,AAAAAAAAAAAAAAAAAAAAAAAAAAAAAAAAAAAAAAAAAAAAAAAACXBIWXMAABqTAAAakwH55E62\" />"
      ],
      "text/plain": [
       "Open the notebook in JupyterLab with the Atoti JupyterLab extension enabled to build this widget."
      ]
     },
     "metadata": {},
     "output_type": "display_data"
    }
   ],
   "source": [
    "session.widget"
   ]
  },
  {
   "cell_type": "markdown",
   "id": "a846a879-9a01-483c-af02-e2d9ccafff53",
   "metadata": {},
   "source": [
    "## Using multi-level hierarchies\n",
    "\n",
    "As we mentioned previously, our hierarchies in the cube currently have one level each, but sometimes there are parent-child relationships that we want to logically group together in Atoti to exemplify these relationships. For example, there is a parent-child relationship between our `ProductCategory` (parent) and `ProductId` (child) hierarchies, as each individual product falls within the umbrella of a higher-level product category.\n",
    "\n",
    "We can create a new `Product` multi-level hierarchy that uses the underlying levels for the `ProductCategory` and `ProductId` hierarchies."
   ]
  },
  {
   "cell_type": "code",
   "execution_count": 15,
   "id": "319f07dd-c14b-47f6-b5d2-a0035f8ecfac",
   "metadata": {},
   "outputs": [],
   "source": [
    "h[\"Product\"] = [l[\"ProductCategory\"], l[\"ProductId\"]]"
   ]
  },
  {
   "cell_type": "markdown",
   "id": "9996b6b8-aa14-4f96-8407-00236551bfef",
   "metadata": {},
   "source": [
    "As a best practice, we should also clean up the associated single-level hierarchies to avoid redundancy."
   ]
  },
  {
   "cell_type": "code",
   "execution_count": 16,
   "id": "48c65092-6f22-4c1d-ba27-dd13bbfe742b",
   "metadata": {},
   "outputs": [],
   "source": [
    "# # We've commented this cell to avoid disrupting the\n",
    "# # upstream widgets that depend on these hierarchies.\n",
    "# # Uncomment this cell and execute to delete the hierarchies.\n",
    "# del h['ProductCategory']\n",
    "# del h['ProductId']"
   ]
  },
  {
   "cell_type": "markdown",
   "id": "14630db6-58c4-4c36-8ca2-f7fb4e27086c",
   "metadata": {},
   "source": [
    "When we take a look back at our list of hierarchies, either in the Atoti JupyterLab extension or the Atoti UI, we can now see our new multi-level hierarchy `Product` with a drop-down to represent it's underlying (multiple) levels."
   ]
  },
  {
   "cell_type": "markdown",
   "id": "81d07b31-5088-4ed5-bf37-625666105509",
   "metadata": {},
   "source": [
    "![multi-level-hierarchies](https://data.atoti.io/notebooks/hierarchies/images/multi-level-hierarchies.png)"
   ]
  },
  {
   "cell_type": "markdown",
   "id": "53ee0f3f-a719-4e2f-b46c-ed130028f49d",
   "metadata": {},
   "source": [
    "\n",
    "And if we now use the `Product` hierarchy in our analysis, we get a breakdown of our data for `QuantitySold.SUM` by associated product categories and product IDs."
   ]
  },
  {
   "cell_type": "code",
   "execution_count": 17,
   "id": "880613aa-4820-4948-a869-ea4a1f29c42f",
   "metadata": {
    "atoti": {
     "widget": {
      "mapping": {
       "columns": [
        "ALL_MEASURES"
       ],
       "measures": [
        "[Measures].[QuantitySold.SUM]"
       ],
       "rows": [
        "[Products].[Product].[ProductCategory] => [Products].[Product].[ProductId]"
       ]
      },
      "query": {
       "mdx": "SELECT NON EMPTY {[Measures].[QuantitySold.SUM]} ON COLUMNS, NON EMPTY Hierarchize(Union(Descendants({[Products].[Product].[ALL].[AllMember]}, 1, SELF_AND_BEFORE), Descendants({[Products].[Product].[ALL].[AllMember].[Beverages]}, [Products].[Product].[ProductId]))) DIMENSION PROPERTIES CHILDREN_CARDINALITY ON ROWS FROM [Orders] CELL PROPERTIES VALUE, FORMATTED_VALUE, BACK_COLOR, FORE_COLOR, FONT_FLAGS",
       "updateMode": "once"
      },
      "serverKey": "default",
      "widgetKey": "pivot-table"
     }
    }
   },
   "outputs": [
    {
     "data": {
      "application/vnd.atoti.widget.v0+json": {
       "sessionId": "1715105474_0D54E9",
       "sessionLocation": {
        "https": false,
        "port": 9092
       },
       "widgetCreationCode": "session.widget"
      },
      "text/html": [
       "<img height=\"0\" width=\"0\" src=\"data:,AAAAAAAAAAAAAAAAAAAAAAAAAAAAAAAAAAAAAAAAAAAAAAAACXBIWXMAABqTAAAakwH55E62\" />"
      ],
      "text/plain": [
       "Open the notebook in JupyterLab with the Atoti JupyterLab extension enabled to build this widget."
      ]
     },
     "metadata": {},
     "output_type": "display_data"
    }
   ],
   "source": [
    "session.widget"
   ]
  },
  {
   "cell_type": "markdown",
   "id": "9bed5d43-5218-4cb5-98ac-2decfeb1fbd1",
   "metadata": {},
   "source": [
    "## Multi-level date hierarchies"
   ]
  },
  {
   "cell_type": "markdown",
   "id": "dba93e15-8cff-43cb-876c-e92dd4cbfec4",
   "metadata": {},
   "source": [
    "One of the most common use cases for creating multi-level hierarchies is when dealing with dates. For example, perhaps we want to have a multi-level `OrderDate` hierarchy that shows the breakdown for each corresponding year, quarter, month, day, and so on.\n",
    "\n",
    "As of right now, our single-level `OrderDate` hierarchy can only drill-down to the fully qualified date as shown. "
   ]
  },
  {
   "cell_type": "code",
   "execution_count": 18,
   "id": "90362201-e1de-4a71-b979-ddf767a5c984",
   "metadata": {
    "atoti": {
     "widget": {
      "mapping": {
       "columns": [
        "ALL_MEASURES"
       ],
       "measures": [
        "[Measures].[QuantitySold.SUM]"
       ],
       "rows": [
        "[Orders].[OrderDate].[OrderDate]"
       ]
      },
      "query": {
       "mdx": "SELECT NON EMPTY Hierarchize(Descendants({[Orders].[OrderDate].[ALL].[AllMember]}, 1, SELF_AND_BEFORE)) ON ROWS, NON EMPTY {[Measures].[QuantitySold.SUM]} ON COLUMNS FROM [Orders] CELL PROPERTIES VALUE, FORMATTED_VALUE, BACK_COLOR, FORE_COLOR, FONT_FLAGS",
       "updateMode": "once"
      },
      "serverKey": "default",
      "widgetKey": "pivot-table"
     }
    }
   },
   "outputs": [
    {
     "data": {
      "application/vnd.atoti.widget.v0+json": {
       "sessionId": "1715105474_0D54E9",
       "sessionLocation": {
        "https": false,
        "port": 9092
       },
       "widgetCreationCode": "session.widget"
      },
      "text/html": [
       "<img height=\"0\" width=\"0\" src=\"data:,AAAAAAAAAAAAAAAAAAAAAAAAAAAAAAAAAAAAAAAAAAAAAAAACXBIWXMAABqTAAAakwH55E62\" />"
      ],
      "text/plain": [
       "Open the notebook in JupyterLab with the Atoti JupyterLab extension enabled to build this widget."
      ]
     },
     "metadata": {},
     "output_type": "display_data"
    }
   ],
   "source": [
    "session.widget"
   ]
  },
  {
   "cell_type": "markdown",
   "id": "f669d049-9d03-4ac8-93ee-943cb5481968",
   "metadata": {},
   "source": [
    "But if we create a multi-level `OrderDate` hierarchy, we can then show the breakdown for each corresponding year, quarter, month, and day.\n",
    "\n",
    "💡 **Note**: https://docs.atoti.io/latest/api/atoti.Cube.create_date_hierarchy.html#atoti.Cube.create_date_hierarchy"
   ]
  },
  {
   "cell_type": "code",
   "execution_count": 19,
   "id": "3f9ebeeb-05fe-41c1-ac6d-837feb27fa8e",
   "metadata": {},
   "outputs": [],
   "source": [
    "# Create a multi-level date hierarchy\n",
    "cube.create_date_hierarchy(\n",
    "    \"Multi-level Date\",\n",
    "    column=orders[\"OrderDate\"],\n",
    "    levels={\"Year\": \"yyyy\", \"Quarter\": \"QQQ\", \"Month\": \"MMM\", \"Day\": \"dd\"},\n",
    ")"
   ]
  },
  {
   "cell_type": "code",
   "execution_count": 20,
   "id": "9415cce6-4dfe-4620-b7b8-70a9281a95e6",
   "metadata": {},
   "outputs": [],
   "source": [
    "# # We've commented this cell to avoid disrupting the\n",
    "# # upstream widgets that depend on these hierarchies.\n",
    "# # Uncomment this cell and execute to delete the hierarchies.\n",
    "# del h['OrderDate']"
   ]
  },
  {
   "cell_type": "code",
   "execution_count": 21,
   "id": "ab7e444f-358a-45de-9c8f-60988edaa137",
   "metadata": {
    "atoti": {
     "widget": {
      "mapping": {
       "columns": [
        "ALL_MEASURES"
       ],
       "measures": [
        "[Measures].[QuantitySold.SUM]"
       ],
       "rows": [
        "[Orders].[Multi-level Date].[Day]"
       ]
      },
      "query": {
       "mdx": "SELECT NON EMPTY Hierarchize(Descendants({[Orders].[Multi-level Date].[ALL].[AllMember]}, 4, SELF_AND_BEFORE)) DIMENSION PROPERTIES CHILDREN_CARDINALITY ON ROWS, NON EMPTY {[Measures].[QuantitySold.SUM]} ON COLUMNS FROM [Orders] CELL PROPERTIES VALUE, FORMATTED_VALUE, BACK_COLOR, FORE_COLOR, FONT_FLAGS",
       "updateMode": "once"
      },
      "serverKey": "default",
      "widgetKey": "pivot-table"
     }
    }
   },
   "outputs": [
    {
     "data": {
      "application/vnd.atoti.widget.v0+json": {
       "sessionId": "1715105474_0D54E9",
       "sessionLocation": {
        "https": false,
        "port": 9092
       },
       "widgetCreationCode": "session.widget"
      },
      "text/html": [
       "<img height=\"0\" width=\"0\" src=\"data:,AAAAAAAAAAAAAAAAAAAAAAAAAAAAAAAAAAAAAAAAAAAAAAAACXBIWXMAABqTAAAakwH55E62\" />"
      ],
      "text/plain": [
       "Open the notebook in JupyterLab with the Atoti JupyterLab extension enabled to build this widget."
      ]
     },
     "metadata": {},
     "output_type": "display_data"
    }
   ],
   "source": [
    "session.widget"
   ]
  },
  {
   "cell_type": "markdown",
   "id": "a69c6a34-4f17-4dc2-a325-5c8cc8145652",
   "metadata": {},
   "source": [
    "## Using hierarchy properties and functions\n",
    "\n",
    "Each hierarchy is an object of the [atoti.Hierarchy](https://docs.atoti.io/latest/api/atoti.Hierarchy.html#atoti.Hierarchy) class. This means that we are able to interact with and manipulate hierarchies using their associated class properties and functions. Let's focus on using some of the more basic properties and functions."
   ]
  },
  {
   "cell_type": "markdown",
   "id": "10ea66d5-13cc-4855-9849-acb1cb9dc2f0",
   "metadata": {},
   "source": [
    "### Basic hierarchy properties and functions"
   ]
  },
  {
   "cell_type": "markdown",
   "id": "a6e66793-aa26-4a3b-a6c6-9f00c04d1585",
   "metadata": {},
   "source": [
    "#### `Hierarchy.dimension`\n",
    "\n",
    "We can use the `dimension` property of a Hierarchy object to determine its parent dimension. For example, we can call the `dimension` property of the `Address` hierarchy to determine that its parent dimension is `Customers`. "
   ]
  },
  {
   "cell_type": "code",
   "execution_count": 22,
   "id": "0a98f4be-4776-410f-b3e5-f1caecef40d7",
   "metadata": {},
   "outputs": [
    {
     "data": {
      "text/plain": [
       "'Customers'"
      ]
     },
     "execution_count": 22,
     "metadata": {},
     "output_type": "execute_result"
    }
   ],
   "source": [
    "h[\"Address\"].dimension"
   ]
  },
  {
   "cell_type": "markdown",
   "id": "ba520c84-c760-4e11-ae6c-41dbdeaa80ab",
   "metadata": {},
   "source": [
    "#### `Hierarchy.name`"
   ]
  },
  {
   "cell_type": "markdown",
   "id": "123230b5-c9b8-4ad5-a43b-ce5ca530a51f",
   "metadata": {},
   "source": [
    "The `name` property will output the name of the hierarchy like so:"
   ]
  },
  {
   "cell_type": "code",
   "execution_count": 23,
   "id": "be0e7632-92f9-48e3-a1b6-92a111a03262",
   "metadata": {},
   "outputs": [
    {
     "data": {
      "text/plain": [
       "'Address'"
      ]
     },
     "execution_count": 23,
     "metadata": {},
     "output_type": "execute_result"
    }
   ],
   "source": [
    "h[\"Address\"].name"
   ]
  },
  {
   "cell_type": "markdown",
   "id": "1ffbe252-9b8b-46e5-80fb-197b0f64e1df",
   "metadata": {},
   "source": [
    "Though this is a bit redundant when we already know the name of the hierarchy. Therefore, using the `name` property may be more helpful when trying to execute a `for` loop to iterate over all hierarchies in an Atoti data model, where we may want the colloquial hierarchy name rather than the fully qualified one (with both the dimension and hierarchy listed)."
   ]
  },
  {
   "cell_type": "code",
   "execution_count": 24,
   "id": "560cc096-3bdc-4799-9c3c-0cd1fb1f9302",
   "metadata": {},
   "outputs": [
    {
     "name": "stdout",
     "output_type": "stream",
     "text": [
      "('Products', 'ProductName')\n",
      "('Customers', 'PostCode')\n",
      "('Employees', 'EmployeeCountry')\n",
      "('Customers', 'PostalCode')\n",
      "('Customers', 'Subregion')\n",
      "('Employees', 'EmployeeCity')\n",
      "('Customers', 'Country')\n",
      "('Orders', 'OrderId')\n",
      "('Orders', 'ShipperName')\n",
      "('Employees', 'EmployeeZone')\n",
      "('Products', 'Supplier')\n",
      "('Orders', 'OrderDate')\n",
      "('Orders', 'ProductId')\n",
      "('Customers', 'Phone')\n",
      "('Customers', 'Address')\n",
      "('Customers', 'Region')\n",
      "('Orders', 'Multi-level Date')\n",
      "('Shippers', 'Contact')\n",
      "('Orders', 'EmployeeId')\n",
      "('Products', 'ProductCategory')\n",
      "('Orders', 'CustomerId')\n",
      "('Products', 'Product')\n",
      "('Customers', 'CompanyName')\n",
      "('Employees', 'EmployeeName')\n",
      "('Customers', 'City')\n"
     ]
    }
   ],
   "source": [
    "for key in h.keys():\n",
    "    print(key)"
   ]
  },
  {
   "cell_type": "code",
   "execution_count": 25,
   "id": "745087f5-b41a-47d8-9f0f-2876a19aebad",
   "metadata": {},
   "outputs": [
    {
     "name": "stdout",
     "output_type": "stream",
     "text": [
      "ProductName\n",
      "PostCode\n",
      "EmployeeCountry\n",
      "PostalCode\n",
      "Subregion\n",
      "EmployeeCity\n",
      "Country\n",
      "OrderId\n",
      "ShipperName\n",
      "EmployeeZone\n",
      "Supplier\n",
      "OrderDate\n",
      "ProductId\n",
      "Phone\n",
      "Address\n",
      "Region\n",
      "Multi-level Date\n",
      "Contact\n",
      "EmployeeId\n",
      "ProductCategory\n",
      "CustomerId\n",
      "Product\n",
      "CompanyName\n",
      "EmployeeName\n",
      "City\n"
     ]
    }
   ],
   "source": [
    "for key in h.keys():\n",
    "    print(h[key].name)"
   ]
  },
  {
   "cell_type": "markdown",
   "id": "0909f55a-78f5-4f3b-b0e8-c6bd17af3e8e",
   "metadata": {},
   "source": [
    "#### `Hierarchy.levels`\n",
    "\n"
   ]
  },
  {
   "cell_type": "markdown",
   "id": "318ba333-e892-4bd4-8da7-f9d998f4564a",
   "metadata": {},
   "source": [
    "We can use the `levels` property to display the available levels for a particular hierarchy. For example, if we were to print the assigned variable that we used for `cube.levels`, this will show us all the available levels for the entire data model."
   ]
  },
  {
   "cell_type": "code",
   "execution_count": 26,
   "id": "826bfd55-e6d4-44d7-8b49-a1b5332539e9",
   "metadata": {},
   "outputs": [
    {
     "data": {
      "application/json": {
       "Address (Customers/Address/Address)": {
        "dimension": "Customers",
        "hierarchy": "Address",
        "order": "NaturalOrder",
        "type": "String"
       },
       "City (Customers/City/City)": {
        "dimension": "Customers",
        "hierarchy": "City",
        "order": "NaturalOrder",
        "type": "String"
       },
       "CompanyName (Customers/CompanyName/CompanyName)": {
        "dimension": "Customers",
        "hierarchy": "CompanyName",
        "order": "NaturalOrder",
        "type": "String"
       },
       "Contact (Shippers/Contact/Contact)": {
        "dimension": "Shippers",
        "hierarchy": "Contact",
        "order": "NaturalOrder",
        "type": "String"
       },
       "Country (Customers/Country/Country)": {
        "dimension": "Customers",
        "hierarchy": "Country",
        "order": "NaturalOrder",
        "type": "String"
       },
       "CustomerId (Orders/CustomerId/CustomerId)": {
        "dimension": "Orders",
        "hierarchy": "CustomerId",
        "order": "NaturalOrder",
        "type": "String"
       },
       "Day (Orders/Multi-level Date/Day)": {
        "dimension": "Orders",
        "hierarchy": "Multi-level Date",
        "order": "NaturalOrder",
        "type": "String"
       },
       "EmployeeCity (Employees/EmployeeCity/EmployeeCity)": {
        "dimension": "Employees",
        "hierarchy": "EmployeeCity",
        "order": "NaturalOrder",
        "type": "String"
       },
       "EmployeeCountry (Employees/EmployeeCountry/EmployeeCountry)": {
        "dimension": "Employees",
        "hierarchy": "EmployeeCountry",
        "order": "NaturalOrder",
        "type": "String"
       },
       "EmployeeId (Orders/EmployeeId/EmployeeId)": {
        "dimension": "Orders",
        "hierarchy": "EmployeeId",
        "order": "NaturalOrder",
        "type": "String"
       },
       "EmployeeName (Employees/EmployeeName/EmployeeName)": {
        "dimension": "Employees",
        "hierarchy": "EmployeeName",
        "order": "NaturalOrder",
        "type": "String"
       },
       "EmployeeZone (Employees/EmployeeZone/EmployeeZone)": {
        "dimension": "Employees",
        "hierarchy": "EmployeeZone",
        "order": "NaturalOrder",
        "type": "String"
       },
       "Month (Orders/Multi-level Date/Month)": {
        "dimension": "Orders",
        "hierarchy": "Multi-level Date",
        "order": "NaturalOrder",
        "type": "String"
       },
       "OrderDate (Orders/OrderDate/OrderDate)": {
        "dimension": "Orders",
        "hierarchy": "OrderDate",
        "order": "NaturalOrder",
        "type": "LocalDate"
       },
       "OrderId (Orders/OrderId/OrderId)": {
        "dimension": "Orders",
        "hierarchy": "OrderId",
        "order": "NaturalOrder",
        "type": "String"
       },
       "Phone (Customers/Phone/Phone)": {
        "dimension": "Customers",
        "hierarchy": "Phone",
        "order": "NaturalOrder",
        "type": "String"
       },
       "PostCode (Customers/PostCode/PostCode)": {
        "dimension": "Customers",
        "hierarchy": "PostCode",
        "order": "NaturalOrder",
        "type": "String"
       },
       "PostalCode (Customers/PostalCode/PostalCode)": {
        "dimension": "Customers",
        "hierarchy": "PostalCode",
        "order": "NaturalOrder",
        "type": "String"
       },
       "ProductCategory (Products/Product/ProductCategory)": {
        "dimension": "Products",
        "hierarchy": "Product",
        "order": "NaturalOrder",
        "type": "String"
       },
       "ProductCategory (Products/ProductCategory/ProductCategory)": {
        "dimension": "Products",
        "hierarchy": "ProductCategory",
        "order": "NaturalOrder",
        "type": "String"
       },
       "ProductId (Orders/ProductId/ProductId)": {
        "dimension": "Orders",
        "hierarchy": "ProductId",
        "order": "NaturalOrder",
        "type": "String"
       },
       "ProductId (Products/Product/ProductId)": {
        "dimension": "Products",
        "hierarchy": "Product",
        "order": "NaturalOrder",
        "type": "String"
       },
       "ProductName (Products/ProductName/ProductName)": {
        "dimension": "Products",
        "hierarchy": "ProductName",
        "order": "NaturalOrder",
        "type": "String"
       },
       "Quarter (Orders/Multi-level Date/Quarter)": {
        "dimension": "Orders",
        "hierarchy": "Multi-level Date",
        "order": "NaturalOrder",
        "type": "String"
       },
       "Region (Customers/Region/Region)": {
        "dimension": "Customers",
        "hierarchy": "Region",
        "order": "NaturalOrder",
        "type": "String"
       },
       "ShipperName (Orders/ShipperName/ShipperName)": {
        "dimension": "Orders",
        "hierarchy": "ShipperName",
        "order": "NaturalOrder",
        "type": "String"
       },
       "Subregion (Customers/Subregion/Subregion)": {
        "dimension": "Customers",
        "hierarchy": "Subregion",
        "order": "NaturalOrder",
        "type": "String"
       },
       "Supplier (Products/Supplier/Supplier)": {
        "dimension": "Products",
        "hierarchy": "Supplier",
        "order": "NaturalOrder",
        "type": "String"
       },
       "Year (Orders/Multi-level Date/Year)": {
        "dimension": "Orders",
        "hierarchy": "Multi-level Date",
        "order": "NaturalOrder",
        "type": "String"
       }
      },
      "text/html": [
       "<ul>\n",
       "<li>Levels\n",
       "  <ul>\n",
       "  <li>Address (Customers/Address/Address)\n",
       "    <ul>\n",
       "    <li>dimension: Customers</li>\n",
       "    <li>hierarchy: Address</li>\n",
       "    <li>type: String</li>\n",
       "    <li>order: NaturalOrder</li>\n",
       "    </ul>\n",
       "  </li>\n",
       "  <li>City (Customers/City/City)\n",
       "    <ul>\n",
       "    <li>dimension: Customers</li>\n",
       "    <li>hierarchy: City</li>\n",
       "    <li>type: String</li>\n",
       "    <li>order: NaturalOrder</li>\n",
       "    </ul>\n",
       "  </li>\n",
       "  <li>CompanyName (Customers/CompanyName/CompanyName)\n",
       "    <ul>\n",
       "    <li>dimension: Customers</li>\n",
       "    <li>hierarchy: CompanyName</li>\n",
       "    <li>type: String</li>\n",
       "    <li>order: NaturalOrder</li>\n",
       "    </ul>\n",
       "  </li>\n",
       "  <li>Contact (Shippers/Contact/Contact)\n",
       "    <ul>\n",
       "    <li>dimension: Shippers</li>\n",
       "    <li>hierarchy: Contact</li>\n",
       "    <li>type: String</li>\n",
       "    <li>order: NaturalOrder</li>\n",
       "    </ul>\n",
       "  </li>\n",
       "  <li>Country (Customers/Country/Country)\n",
       "    <ul>\n",
       "    <li>dimension: Customers</li>\n",
       "    <li>hierarchy: Country</li>\n",
       "    <li>type: String</li>\n",
       "    <li>order: NaturalOrder</li>\n",
       "    </ul>\n",
       "  </li>\n",
       "  <li>CustomerId (Orders/CustomerId/CustomerId)\n",
       "    <ul>\n",
       "    <li>dimension: Orders</li>\n",
       "    <li>hierarchy: CustomerId</li>\n",
       "    <li>type: String</li>\n",
       "    <li>order: NaturalOrder</li>\n",
       "    </ul>\n",
       "  </li>\n",
       "  <li>Day (Orders/Multi-level Date/Day)\n",
       "    <ul>\n",
       "    <li>dimension: Orders</li>\n",
       "    <li>hierarchy: Multi-level Date</li>\n",
       "    <li>type: String</li>\n",
       "    <li>order: NaturalOrder</li>\n",
       "    </ul>\n",
       "  </li>\n",
       "  <li>EmployeeCity (Employees/EmployeeCity/EmployeeCity)\n",
       "    <ul>\n",
       "    <li>dimension: Employees</li>\n",
       "    <li>hierarchy: EmployeeCity</li>\n",
       "    <li>type: String</li>\n",
       "    <li>order: NaturalOrder</li>\n",
       "    </ul>\n",
       "  </li>\n",
       "  <li>EmployeeCountry (Employees/EmployeeCountry/EmployeeCountry)\n",
       "    <ul>\n",
       "    <li>dimension: Employees</li>\n",
       "    <li>hierarchy: EmployeeCountry</li>\n",
       "    <li>type: String</li>\n",
       "    <li>order: NaturalOrder</li>\n",
       "    </ul>\n",
       "  </li>\n",
       "  <li>EmployeeId (Orders/EmployeeId/EmployeeId)\n",
       "    <ul>\n",
       "    <li>dimension: Orders</li>\n",
       "    <li>hierarchy: EmployeeId</li>\n",
       "    <li>type: String</li>\n",
       "    <li>order: NaturalOrder</li>\n",
       "    </ul>\n",
       "  </li>\n",
       "  <li>EmployeeName (Employees/EmployeeName/EmployeeName)\n",
       "    <ul>\n",
       "    <li>dimension: Employees</li>\n",
       "    <li>hierarchy: EmployeeName</li>\n",
       "    <li>type: String</li>\n",
       "    <li>order: NaturalOrder</li>\n",
       "    </ul>\n",
       "  </li>\n",
       "  <li>EmployeeZone (Employees/EmployeeZone/EmployeeZone)\n",
       "    <ul>\n",
       "    <li>dimension: Employees</li>\n",
       "    <li>hierarchy: EmployeeZone</li>\n",
       "    <li>type: String</li>\n",
       "    <li>order: NaturalOrder</li>\n",
       "    </ul>\n",
       "  </li>\n",
       "  <li>Month (Orders/Multi-level Date/Month)\n",
       "    <ul>\n",
       "    <li>dimension: Orders</li>\n",
       "    <li>hierarchy: Multi-level Date</li>\n",
       "    <li>type: String</li>\n",
       "    <li>order: NaturalOrder</li>\n",
       "    </ul>\n",
       "  </li>\n",
       "  <li>OrderDate (Orders/OrderDate/OrderDate)\n",
       "    <ul>\n",
       "    <li>dimension: Orders</li>\n",
       "    <li>hierarchy: OrderDate</li>\n",
       "    <li>type: LocalDate</li>\n",
       "    <li>order: NaturalOrder</li>\n",
       "    </ul>\n",
       "  </li>\n",
       "  <li>OrderId (Orders/OrderId/OrderId)\n",
       "    <ul>\n",
       "    <li>dimension: Orders</li>\n",
       "    <li>hierarchy: OrderId</li>\n",
       "    <li>type: String</li>\n",
       "    <li>order: NaturalOrder</li>\n",
       "    </ul>\n",
       "  </li>\n",
       "  <li>Phone (Customers/Phone/Phone)\n",
       "    <ul>\n",
       "    <li>dimension: Customers</li>\n",
       "    <li>hierarchy: Phone</li>\n",
       "    <li>type: String</li>\n",
       "    <li>order: NaturalOrder</li>\n",
       "    </ul>\n",
       "  </li>\n",
       "  <li>PostCode (Customers/PostCode/PostCode)\n",
       "    <ul>\n",
       "    <li>dimension: Customers</li>\n",
       "    <li>hierarchy: PostCode</li>\n",
       "    <li>type: String</li>\n",
       "    <li>order: NaturalOrder</li>\n",
       "    </ul>\n",
       "  </li>\n",
       "  <li>PostalCode (Customers/PostalCode/PostalCode)\n",
       "    <ul>\n",
       "    <li>dimension: Customers</li>\n",
       "    <li>hierarchy: PostalCode</li>\n",
       "    <li>type: String</li>\n",
       "    <li>order: NaturalOrder</li>\n",
       "    </ul>\n",
       "  </li>\n",
       "  <li>ProductCategory (Products/Product/ProductCategory)\n",
       "    <ul>\n",
       "    <li>dimension: Products</li>\n",
       "    <li>hierarchy: Product</li>\n",
       "    <li>type: String</li>\n",
       "    <li>order: NaturalOrder</li>\n",
       "    </ul>\n",
       "  </li>\n",
       "  <li>ProductCategory (Products/ProductCategory/ProductCategory)\n",
       "    <ul>\n",
       "    <li>dimension: Products</li>\n",
       "    <li>hierarchy: ProductCategory</li>\n",
       "    <li>type: String</li>\n",
       "    <li>order: NaturalOrder</li>\n",
       "    </ul>\n",
       "  </li>\n",
       "  <li>ProductId (Orders/ProductId/ProductId)\n",
       "    <ul>\n",
       "    <li>dimension: Orders</li>\n",
       "    <li>hierarchy: ProductId</li>\n",
       "    <li>type: String</li>\n",
       "    <li>order: NaturalOrder</li>\n",
       "    </ul>\n",
       "  </li>\n",
       "  <li>ProductId (Products/Product/ProductId)\n",
       "    <ul>\n",
       "    <li>dimension: Products</li>\n",
       "    <li>hierarchy: Product</li>\n",
       "    <li>type: String</li>\n",
       "    <li>order: NaturalOrder</li>\n",
       "    </ul>\n",
       "  </li>\n",
       "  <li>ProductName (Products/ProductName/ProductName)\n",
       "    <ul>\n",
       "    <li>dimension: Products</li>\n",
       "    <li>hierarchy: ProductName</li>\n",
       "    <li>type: String</li>\n",
       "    <li>order: NaturalOrder</li>\n",
       "    </ul>\n",
       "  </li>\n",
       "  <li>Quarter (Orders/Multi-level Date/Quarter)\n",
       "    <ul>\n",
       "    <li>dimension: Orders</li>\n",
       "    <li>hierarchy: Multi-level Date</li>\n",
       "    <li>type: String</li>\n",
       "    <li>order: NaturalOrder</li>\n",
       "    </ul>\n",
       "  </li>\n",
       "  <li>Region (Customers/Region/Region)\n",
       "    <ul>\n",
       "    <li>dimension: Customers</li>\n",
       "    <li>hierarchy: Region</li>\n",
       "    <li>type: String</li>\n",
       "    <li>order: NaturalOrder</li>\n",
       "    </ul>\n",
       "  </li>\n",
       "  <li>ShipperName (Orders/ShipperName/ShipperName)\n",
       "    <ul>\n",
       "    <li>dimension: Orders</li>\n",
       "    <li>hierarchy: ShipperName</li>\n",
       "    <li>type: String</li>\n",
       "    <li>order: NaturalOrder</li>\n",
       "    </ul>\n",
       "  </li>\n",
       "  <li>Subregion (Customers/Subregion/Subregion)\n",
       "    <ul>\n",
       "    <li>dimension: Customers</li>\n",
       "    <li>hierarchy: Subregion</li>\n",
       "    <li>type: String</li>\n",
       "    <li>order: NaturalOrder</li>\n",
       "    </ul>\n",
       "  </li>\n",
       "  <li>Supplier (Products/Supplier/Supplier)\n",
       "    <ul>\n",
       "    <li>dimension: Products</li>\n",
       "    <li>hierarchy: Supplier</li>\n",
       "    <li>type: String</li>\n",
       "    <li>order: NaturalOrder</li>\n",
       "    </ul>\n",
       "  </li>\n",
       "  <li>Year (Orders/Multi-level Date/Year)\n",
       "    <ul>\n",
       "    <li>dimension: Orders</li>\n",
       "    <li>hierarchy: Multi-level Date</li>\n",
       "    <li>type: String</li>\n",
       "    <li>order: NaturalOrder</li>\n",
       "    </ul>\n",
       "  </li>\n",
       "  </ul>\n",
       "</li>\n",
       "</ul>\n"
      ],
      "text/plain": [
       "<atoti.levels.Levels at 0x133f25890>"
      ]
     },
     "execution_count": 26,
     "metadata": {
      "application/json": {
       "expanded": true,
       "root": "Levels"
      }
     },
     "output_type": "execute_result"
    }
   ],
   "source": [
    "l"
   ]
  },
  {
   "cell_type": "markdown",
   "id": "80461972-2dcd-42c3-8136-eac2a1a5f330",
   "metadata": {},
   "source": [
    "But let's say we wanted to see just the levels for our previous multi-level hierarchy `Product`. Scanning through the fully qualified list of levels may be a bit cumbersome (especially if we have a large amount of levels!). Thus, we can instead use the `levels` property for the multi-level `Product` hierarchy object to only show the levels for that particular hierarchy."
   ]
  },
  {
   "cell_type": "code",
   "execution_count": 27,
   "id": "300a379b-9bfb-44a5-b126-4d60018ae5cc",
   "metadata": {},
   "outputs": [
    {
     "name": "stdout",
     "output_type": "stream",
     "text": [
      "ProductCategory\n",
      "ProductId\n"
     ]
    }
   ],
   "source": [
    "product_levels = h[\"Product\"].levels\n",
    "\n",
    "for key in product_levels.keys():\n",
    "    print(key)"
   ]
  },
  {
   "cell_type": "code",
   "execution_count": 28,
   "id": "9673bf93-00e0-4e7a-bdf2-7a859d409657",
   "metadata": {},
   "outputs": [
    {
     "data": {
      "application/json": {
       "dimension": "Products",
       "hierarchy": "Product",
       "order": "NaturalOrder",
       "type": "String"
      },
      "text/html": [
       "<ul>\n",
       "<li>ProductCategory\n",
       "  <ul>\n",
       "  <li>dimension: Products</li>\n",
       "  <li>hierarchy: Product</li>\n",
       "  <li>type: String</li>\n",
       "  <li>order: NaturalOrder</li>\n",
       "  </ul>\n",
       "</li>\n",
       "</ul>\n"
      ],
      "text/plain": [
       "<atoti.level.Level at 0x133ea7550>"
      ]
     },
     "execution_count": 28,
     "metadata": {
      "application/json": {
       "expanded": true,
       "root": "ProductCategory"
      }
     },
     "output_type": "execute_result"
    }
   ],
   "source": [
    "product_levels[\"ProductCategory\"]"
   ]
  },
  {
   "cell_type": "code",
   "execution_count": 29,
   "id": "31a1e116-70e7-46d7-856b-77f8e73f0347",
   "metadata": {},
   "outputs": [
    {
     "data": {
      "application/json": {
       "dimension": "Products",
       "hierarchy": "Product",
       "order": "NaturalOrder",
       "type": "String"
      },
      "text/html": [
       "<ul>\n",
       "<li>ProductId\n",
       "  <ul>\n",
       "  <li>dimension: Products</li>\n",
       "  <li>hierarchy: Product</li>\n",
       "  <li>type: String</li>\n",
       "  <li>order: NaturalOrder</li>\n",
       "  </ul>\n",
       "</li>\n",
       "</ul>\n"
      ],
      "text/plain": [
       "<atoti.level.Level at 0x133ea7950>"
      ]
     },
     "execution_count": 29,
     "metadata": {
      "application/json": {
       "expanded": true,
       "root": "ProductId"
      }
     },
     "output_type": "execute_result"
    }
   ],
   "source": [
    "product_levels[\"ProductId\"]"
   ]
  },
  {
   "cell_type": "markdown",
   "id": "19c6b620-d95f-4807-b652-b0624e045dce",
   "metadata": {},
   "source": [
    "#### `Hierarchy.dimension_default`"
   ]
  },
  {
   "cell_type": "markdown",
   "id": "345470f0-b46d-4ca0-95c6-1f5c57e244ef",
   "metadata": {},
   "source": [
    "We can also call the `dimension_default` property of a Hierarchy object to determine if a specified hierarchy is the default hierarchy in its parent dimension.\n",
    "\n",
    "💡 **Note:** https://docs.atoti.io/latest/api/atoti.Hierarchy.dimension_default.html#atoti.Hierarchy.dimension_default"
   ]
  },
  {
   "cell_type": "code",
   "execution_count": 30,
   "id": "ddfcdf1a-f39f-4b4c-a2e9-a0e2859dc37b",
   "metadata": {},
   "outputs": [
    {
     "data": {
      "text/plain": [
       "False"
      ]
     },
     "execution_count": 30,
     "metadata": {},
     "output_type": "execute_result"
    }
   ],
   "source": [
    "h[\"Address\"].dimension_default"
   ]
  },
  {
   "cell_type": "markdown",
   "id": "663db110-bfa5-476a-bdf0-438864e4cdfc",
   "metadata": {},
   "source": [
    "The output of the `dimension_default` property for a Hierarchy should be either `True` or `False`. In this case, the `Address` hierarchy of the `Customers` dimension is **not** the default hierarchy for the `Customers` dimension.\n",
    "\n",
    "So which hierarchy **is** the default hierarchy for the `Customers` dimension? We can create a simple `for` loop to test this. \n",
    "\n",
    "💡 **Note:** The `Orders` and `Customers` tables are joined by the common key: `CustomerId`. However, from an Atoti data model perspective, `CustomerId` is a hierarchy present under the base table or `Orders` dimension, and is no longer present as a (redundant) hierarchy under the `Customers` dimension. Therefore, when checking the `Customers` dimension for its default hierarchy, we must filter out the `CustomerId` out from the search criteria — otherwise we get a missing `KeyError`."
   ]
  },
  {
   "cell_type": "code",
   "execution_count": 31,
   "id": "1fe311c8-b976-429d-9898-13ee34ba9d2e",
   "metadata": {},
   "outputs": [
    {
     "name": "stdout",
     "output_type": "stream",
     "text": [
      "h['Customers', 'CompanyName'].dimension_default == False\n",
      "h['Customers', 'Address'].dimension_default == False\n",
      "h['Customers', 'City'].dimension_default == False\n",
      "h['Customers', 'PostalCode'].dimension_default == True\n",
      "h['Customers', 'Region'].dimension_default == False\n",
      "h['Customers', 'Country'].dimension_default == False\n",
      "h['Customers', 'Subregion'].dimension_default == False\n",
      "h['Customers', 'Phone'].dimension_default == False\n",
      "h['Customers', 'PostCode'].dimension_default == False\n"
     ]
    }
   ],
   "source": [
    "def check_default_hierarchy(hierachies, table):\n",
    "    \"\"\"Checks for the default hierarchy for an Atoti Table object.\"\"\"\n",
    "    dimension = table.name\n",
    "    for hierarchy in table.columns:\n",
    "        if hierarchy != \"CustomerId\":\n",
    "            print(\n",
    "                f\"h['{dimension}', '{hierarchy}'].dimension_default == {h[dimension, hierarchy].dimension_default}\"\n",
    "            )\n",
    "\n",
    "\n",
    "check_default_hierarchy(h, customers)"
   ]
  },
  {
   "cell_type": "markdown",
   "id": "cb5eb9ff-9dcd-4ca6-95b5-f671694f9603",
   "metadata": {},
   "source": [
    "We can see that the default hierarchy for the `Customers` dimension is actually `PostalCode`. If we set another hierarchy under the `Customers` dimension as the default hierarchy, it would look like this:"
   ]
  },
  {
   "cell_type": "code",
   "execution_count": 32,
   "id": "a6abbe1a-8799-437f-a533-eb8ceba43395",
   "metadata": {},
   "outputs": [],
   "source": [
    "h[\"Address\"].dimension_default = True"
   ]
  },
  {
   "cell_type": "markdown",
   "id": "bb1d2b9b-6f1e-45fe-a0b5-90638eace9f7",
   "metadata": {},
   "source": [
    "Then, if we re-use the `check_default_hierarchy` function that we defined previously, we can see that the default hierarchy for the `Customers` dimension has indeed been updated."
   ]
  },
  {
   "cell_type": "code",
   "execution_count": 33,
   "id": "9c814d42-e50e-4da2-bf4c-143123207525",
   "metadata": {},
   "outputs": [
    {
     "name": "stdout",
     "output_type": "stream",
     "text": [
      "h['Customers', 'CompanyName'].dimension_default == False\n",
      "h['Customers', 'Address'].dimension_default == True\n",
      "h['Customers', 'City'].dimension_default == False\n",
      "h['Customers', 'PostalCode'].dimension_default == False\n",
      "h['Customers', 'Region'].dimension_default == False\n",
      "h['Customers', 'Country'].dimension_default == False\n",
      "h['Customers', 'Subregion'].dimension_default == False\n",
      "h['Customers', 'Phone'].dimension_default == False\n",
      "h['Customers', 'PostCode'].dimension_default == False\n"
     ]
    }
   ],
   "source": [
    "check_default_hierarchy(h, customers)"
   ]
  },
  {
   "cell_type": "markdown",
   "id": "823f8274-eda1-45fb-9137-b3aac5c7ba9b",
   "metadata": {},
   "source": [
    "#### `Hierarchy.visible`\n",
    "\n",
    "The `visible` property will either display or hide a hierarchy from the list of available hierarchies when using Atoti in either the Atoti JupyterLab extension or the Atoti UI. For example, if we look at our data model, we can see the `CustomerId` hierarchy present in the list of available hierarchies.\n",
    "\n",
    "💡 **Note:** The `visible` property will **not** delete a hierarchy from an Atoti data model, it merely hides it as an available hierarchy in any of our UI interfaces. Programmatically, a hidden hierarchy can still be used."
   ]
  },
  {
   "cell_type": "markdown",
   "id": "1dfd1308-35b4-4926-8a97-74254786f073",
   "metadata": {
    "editable": true,
    "slideshow": {
     "slide_type": ""
    },
    "tags": []
   },
   "source": [
    "<img src=\"https://data.atoti.io/notebooks/hierarchies/images/hierarchies-visible-true.png\" alt=\"hierarchies-visible-true\" width=\"225\"/>"
   ]
  },
  {
   "cell_type": "markdown",
   "id": "2c002e25-1cfb-4a40-a599-1382b582705b",
   "metadata": {},
   "source": [
    "If we use `session.widget` to select the `CustomerId` as our hierarchy and `QuantitySold.SUM` as our measure, we can see output as expected."
   ]
  },
  {
   "cell_type": "code",
   "execution_count": 34,
   "id": "c7385596-5551-4506-a0b5-b499c97fe377",
   "metadata": {
    "atoti": {
     "widget": {
      "columnWidths": {
       "[Customers].[Address].[Address]": 170,
       "[Measures].[contributors.COUNT]": 140
      },
      "mapping": {
       "columns": [
        "ALL_MEASURES"
       ],
       "measures": [
        "[Measures].[QuantitySold.SUM]"
       ],
       "rows": [
        "[Orders].[CustomerId].[CustomerId]"
       ]
      },
      "query": {
       "mdx": "SELECT NON EMPTY Hierarchize(Descendants({[Orders].[CustomerId].[ALL].[AllMember]}, 1, SELF_AND_BEFORE)) ON ROWS, NON EMPTY {[Measures].[QuantitySold.SUM]} ON COLUMNS FROM [Orders] CELL PROPERTIES VALUE, FORMATTED_VALUE, BACK_COLOR, FORE_COLOR, FONT_FLAGS",
       "updateMode": "once"
      },
      "serverKey": "default",
      "widgetKey": "pivot-table"
     }
    },
    "editable": true,
    "slideshow": {
     "slide_type": ""
    },
    "tags": []
   },
   "outputs": [
    {
     "data": {
      "application/vnd.atoti.widget.v0+json": {
       "sessionId": "1715105474_0D54E9",
       "sessionLocation": {
        "https": false,
        "port": 9092
       },
       "widgetCreationCode": "session.widget"
      },
      "text/html": [
       "<img height=\"0\" width=\"0\" src=\"data:,AAAAAAAAAAAAAAAAAAAAAAAAAAAAAAAAAAAAAAAAAAAAAAAACXBIWXMAABqTAAAakwH55E62\" />"
      ],
      "text/plain": [
       "Open the notebook in JupyterLab with the Atoti JupyterLab extension enabled to build this widget."
      ]
     },
     "metadata": {},
     "output_type": "display_data"
    }
   ],
   "source": [
    "session.widget"
   ]
  },
  {
   "cell_type": "markdown",
   "id": "6540f93c-d19c-47fa-8994-543f31c62dc9",
   "metadata": {},
   "source": [
    "However if we set the `visible` property of the `CustomerId` hierarchy to `False`, it will hide it from our list of available hierarchies as expected. \n",
    "\n",
    "💡 **Note:** Notice that the total number of hierarchies in the data model (`23`) does not change whether or not the `visible` property for a hierarchy is set to `True` or `False`, and that the previous `session.widget` still shows the analysis for quantity sold per customer, as the hierarchy is not **deleted** but **hidden**."
   ]
  },
  {
   "cell_type": "code",
   "execution_count": 35,
   "id": "fea74973-b2dd-4b26-8cdf-ef3d6de978d2",
   "metadata": {},
   "outputs": [],
   "source": [
    "h[\"CustomerId\"].visible = False"
   ]
  },
  {
   "cell_type": "markdown",
   "id": "6fc69554-ef5f-46ca-92e4-4a226987253c",
   "metadata": {},
   "source": [
    "<img src=\"https://data.atoti.io/notebooks/hierarchies/images/hierarchies-visible-false.png\" alt=\"hierarchies-visible-false\" width=\"225\"/>"
   ]
  },
  {
   "cell_type": "markdown",
   "id": "44bd039a-5045-4fb6-9dbb-70bf09fd68a9",
   "metadata": {},
   "source": [
    "And that's it for now! 🎉\n",
    "\n",
    "We hope that this walk through gives you a jump start for working with hierarchies in Atoti 😊. Stay tuned for more advanced topics on Atoti hierarchies in the future! Until then, take care! 👋"
   ]
  },
  {
   "cell_type": "markdown",
   "id": "c71f02bb-2a7a-4dfb-8c42-47e0b157b9c2",
   "metadata": {},
   "source": [
    "<div style=\"text-align: center;\" ><a href=\"https://www.atoti.io/?utm_source=gallery&utm_content=hierarchies\" target=\"_blank\" rel=\"noopener noreferrer\"><img src=\"https://data.atoti.io/notebooks/banners/Your-turn-to-try-Atoti.jpg\" alt=\"Try Atoti\"></a></div>"
   ]
  }
 ],
 "metadata": {
  "kernelspec": {
   "display_name": "Python 3 (ipykernel)",
   "language": "python",
   "name": "python3"
  },
  "language_info": {
   "codemirror_mode": {
    "name": "ipython",
    "version": 3
   },
   "file_extension": ".py",
   "mimetype": "text/x-python",
   "name": "python",
   "nbconvert_exporter": "python",
   "pygments_lexer": "ipython3",
   "version": "3.11.9"
  }
 },
 "nbformat": 4,
 "nbformat_minor": 5
}
