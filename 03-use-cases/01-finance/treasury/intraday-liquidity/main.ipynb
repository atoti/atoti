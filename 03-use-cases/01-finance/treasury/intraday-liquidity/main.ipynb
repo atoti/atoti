{
 "cells": [
  {
   "cell_type": "markdown",
   "id": "b0cdd533-c4c9-494d-a7b6-685fae6ca60b",
   "metadata": {},
   "source": [
    "# Intraday Liquidity Reporting\n",
    "\n",
    "Last tested version: <img src=\"https://img.shields.io/badge/Atoti-v0.9.8-blue\">\n",
    "\n",
    "This notebook is a small preview of what we can do with [Atoti](https://www.atoti.io/) for intraday liquidity monitoring based on [BCBS248](https://www.bis.org/publ/bcbs248.pdf):\n",
    "\n",
    "* Daily maximum intraday liquidity usage\n",
    "* Largest positive and negative net cumulative positions\n",
    "* Gross payment sent and received\n",
    "\n",
    "With that, we can easily derive the monthly reporting:  \n",
    "\n",
    "<img src=\"http://data.atoti.io/notebooks/intraday-liquidity/img/monthly_reporting.png\" width=\"850px\" />"
   ]
  },
  {
   "cell_type": "markdown",
   "id": "64ed971b-fe48-43d6-a3b4-8a1cdad9ece4",
   "metadata": {},
   "source": [
    "<div style=\"text-align: center;\" ><a href=\"https://www.atoti.io/?utm_source=gallery&utm_content=intraday_liquidity\" target=\"_blank\" rel=\"noopener noreferrer\"><img src=\"https://data.atoti.io/notebooks/banners/Discover-Atoti-now.png\" alt=\"Try Atoti\"></a></div>"
   ]
  },
  {
   "cell_type": "code",
   "execution_count": 1,
   "id": "c3093d6d-c5d8-4032-b95e-2fe41599e609",
   "metadata": {},
   "outputs": [],
   "source": [
    "import random\n",
    "import time\n",
    "import atoti as tt\n",
    "import pandas as pd"
   ]
  },
  {
   "cell_type": "markdown",
   "id": "d4f5ea75-af40-4f52-8020-06e74b297458",
   "metadata": {},
   "source": [
    "## 1. Getting started\n",
    "\n",
    "The general outline to [getting started with Atoti](https://docs.atoti.io/latest/getting_started/tutorial/tutorial.html#Getting-started) is as follows:\n",
    "1. Instantiate an [Atoti session](https://docs.atoti.io/latest/lib/atoti/atoti.session.html#atoti.Session)\n",
    "2. Create [Atoti table(s)](https://docs.atoti.io/latest/lib/atoti/atoti.table.html)\n",
    "3. [Join the Atoti tables](https://docs.atoti.io/latest/getting_started/tutorial/tutorial.html#Enriching-the-cube) as necessary\n",
    "4. [Create Atoti cube](https://docs.atoti.io/latest/lib/atoti/atoti.session.html#atoti.Session.create_cube)\n",
    "5. Proceed with [hierarchy manipulations](https://docs.atoti.io/latest/lib/atoti/atoti.hierarchies.html), [measure creation](https://docs.atoti.io/latest/lib/atoti/atoti.measure.html) and visualization.\n",
    "\n",
    "Interwined with the business use case, we will show some tips on how to customize the solution."
   ]
  },
  {
   "cell_type": "markdown",
   "id": "fce08d77-f940-4c92-b9fc-a3fc11775f77",
   "metadata": {},
   "source": [
    "### 1.1 Instantiate Atoti session\n",
    "\n",
    "We can easily instantiate [Atoti session](https://docs.atoti.io/latest/lib/atoti/atoti.session.html#atoti.Session) without any parameters. However, in our use case, we have fixed the `port` for the web application and also persist our dashboards in the content folder as configured with the `user_content_storage` parameter.  \n",
    "\n",
    "Here, we zoom in on the parameter `java_options` to see how we can customize the memory usage for the instance. The JVM default memory is set to use 25% of the machine memory.  \n",
    "We used `-XX:MaxRAMPercentage` to dedicate 50% of the resources to the Java Heap. Check out the [_Deployment setup_](https://docs.atoti.io/latest/deployment/deployment_setup.html) guide in [Atoti documentation](https://docs.atoti.io/) to find out more."
   ]
  },
  {
   "cell_type": "code",
   "execution_count": 2,
   "id": "4d84d3d1-e12d-49e2-8a0a-03e7c6a291d5",
   "metadata": {},
   "outputs": [],
   "source": [
    "session = tt.Session.start(\n",
    "    tt.SessionConfig(\n",
    "        port=10012,\n",
    "        user_content_storage=\"./content\",\n",
    "        java_options=[\"-XX:MaxRAMPercentage=50\", \"-XX:+UnlockExperimentalVMOptions\"],\n",
    "    )\n",
    ")"
   ]
  },
  {
   "cell_type": "markdown",
   "id": "eacfcfd0-8221-43cd-9ae5-f46461fac503",
   "metadata": {},
   "source": [
    "Access the web application from the link below. It's running on the port defined for the session above.  \n",
    "Bear in mind that we have yet to create any cubes for the session. Hence, there's nothing we can do on the web application yet. We will come back to this later on."
   ]
  },
  {
   "cell_type": "code",
   "execution_count": 3,
   "id": "6fd82a7a-8753-4080-8106-8b164d496215",
   "metadata": {
    "editable": true,
    "slideshow": {
     "slide_type": ""
    },
    "tags": []
   },
   "outputs": [
    {
     "data": {
      "application/vnd.atoti.link.v0+json": {
       "path": "",
       "sessionUrl": "http://localhost:10012"
      },
      "text/plain": [
       "http://localhost:10012"
      ]
     },
     "execution_count": 3,
     "metadata": {},
     "output_type": "execute_result"
    }
   ],
   "source": [
    "session.link"
   ]
  },
  {
   "cell_type": "markdown",
   "id": "8b5dd914-9f9a-4e82-aac1-b873f6afd5c9",
   "metadata": {
    "tags": []
   },
   "source": [
    "### 1.2 Create Atoti tables  "
   ]
  },
  {
   "cell_type": "markdown",
   "id": "05748932-d948-4de5-83ab-24d9a92ad657",
   "metadata": {},
   "source": [
    "There are two ways we can create Atoti tables:\n",
    "1. Use [`atoti.Session.create_table`](https://docs.atoti.io/latest/lib/atoti/atoti.session.html#atoti.Session.create_table) \n",
    "2. Use the `atoti.Session.read_*` functions where `*` depends on the type of data sources. E.g. we will use [`atoti.Session.read_csv`](https://docs.atoti.io/latest/lib/atoti/atoti.session.html#atoti.Session.read_csv) to read `CSV` files and [`atoti.Session.read_parquet`](https://docs.atoti.io/latest/lib/atoti/atoti.session.html#atoti.Session.read_parquet) to read parquet files.  \n",
    "\n",
    "<strong>Differences between `create_table` and `read_*`</strong>\n",
    "\n",
    "Using `create_table`, we will have to define the table structure all the way to the data type of the columns.  \n",
    "In addition, the created table is empty. We will use the `atoti.Table.load_*` functions such as [`load_csv`](https://docs.atoti.io/latest/lib/atoti/atoti.table.html#atoti.Table.load_csv) to load data into the table.  \n",
    "\n",
    "`read_*` functions creates the table based on the data source structure and loads the data.  \n",
    "Data type is inferred for CSV types and inherited from Python objects such as Pandas DataFrame and the metadata of Parquet files.  "
   ]
  },
  {
   "cell_type": "markdown",
   "id": "2f40f8b6-274d-4cd7-add8-95b40a667b67",
   "metadata": {},
   "source": [
    "#### 1.2.1 Payment cashflows\n",
    "\n",
    "We have created some mock cashflows for the month of September 2021 and some days in October 2021.  \n",
    "Based on the direction of the cashflow, we know if it's payment sent or received:\n",
    "- IN: Payment received\n",
    "- OUT: Payment sent\n",
    "\n",
    "For each day, we will receive the opening balance at the time 00:00:00 for each account, identified by the status _Open party_ or _Open posn_."
   ]
  },
  {
   "cell_type": "code",
   "execution_count": 4,
   "id": "c1f212f5-0ab1-4128-bd4a-ea6fcb541da7",
   "metadata": {},
   "outputs": [
    {
     "data": {
      "text/html": [
       "<div>\n",
       "<style scoped>\n",
       "    .dataframe tbody tr th:only-of-type {\n",
       "        vertical-align: middle;\n",
       "    }\n",
       "\n",
       "    .dataframe tbody tr th {\n",
       "        vertical-align: top;\n",
       "    }\n",
       "\n",
       "    .dataframe thead th {\n",
       "        text-align: right;\n",
       "    }\n",
       "</style>\n",
       "<table border=\"1\" class=\"dataframe\">\n",
       "  <thead>\n",
       "    <tr style=\"text-align: right;\">\n",
       "      <th></th>\n",
       "      <th></th>\n",
       "      <th></th>\n",
       "      <th>Legal_Entity</th>\n",
       "      <th>Country</th>\n",
       "      <th>Correspondent_Name</th>\n",
       "      <th>Correspondent_Account</th>\n",
       "      <th>Counterparty</th>\n",
       "      <th>Settlement_Currency</th>\n",
       "      <th>Settlement_Time</th>\n",
       "      <th>Status</th>\n",
       "      <th>Direction</th>\n",
       "      <th>Settlement_Amount</th>\n",
       "      <th>Net_Settlement_Amount</th>\n",
       "      <th>Opening_Balance</th>\n",
       "      <th>Available</th>\n",
       "      <th>Expected</th>\n",
       "      <th>Processing</th>\n",
       "      <th>Anticipated</th>\n",
       "      <th>Collateral</th>\n",
       "      <th>Outlook_Amount</th>\n",
       "      <th>Forecast_Amount</th>\n",
       "    </tr>\n",
       "    <tr>\n",
       "      <th>Transaction_Id</th>\n",
       "      <th>Transaction_Date</th>\n",
       "      <th>Settlement_Date</th>\n",
       "      <th></th>\n",
       "      <th></th>\n",
       "      <th></th>\n",
       "      <th></th>\n",
       "      <th></th>\n",
       "      <th></th>\n",
       "      <th></th>\n",
       "      <th></th>\n",
       "      <th></th>\n",
       "      <th></th>\n",
       "      <th></th>\n",
       "      <th></th>\n",
       "      <th></th>\n",
       "      <th></th>\n",
       "      <th></th>\n",
       "      <th></th>\n",
       "      <th></th>\n",
       "      <th></th>\n",
       "      <th></th>\n",
       "    </tr>\n",
       "  </thead>\n",
       "  <tbody>\n",
       "    <tr>\n",
       "      <th>TXN2021090101391563A1</th>\n",
       "      <th>2021-09-01</th>\n",
       "      <th>2021-09-01</th>\n",
       "      <td>AU_BRANCH</td>\n",
       "      <td>UNITED STATES</td>\n",
       "      <td>J.P Morgan Chase Bank, New York</td>\n",
       "      <td>987777175</td>\n",
       "      <td>Argenta</td>\n",
       "      <td>USD</td>\n",
       "      <td>00:00:00</td>\n",
       "      <td>Open posn</td>\n",
       "      <td>IN</td>\n",
       "      <td>1741638.01</td>\n",
       "      <td>1741638.01</td>\n",
       "      <td>1741638.01</td>\n",
       "      <td>1741638.01</td>\n",
       "      <td>&lt;NA&gt;</td>\n",
       "      <td>&lt;NA&gt;</td>\n",
       "      <td>&lt;NA&gt;</td>\n",
       "      <td>&lt;NA&gt;</td>\n",
       "      <td>1741638.01</td>\n",
       "      <td>1741638.01</td>\n",
       "    </tr>\n",
       "    <tr>\n",
       "      <th>TXN2021090101391591A1</th>\n",
       "      <th>2021-09-01</th>\n",
       "      <th>2021-09-01</th>\n",
       "      <td>AU_BRANCH</td>\n",
       "      <td>UNITED KINGDOM</td>\n",
       "      <td>Barclays Bank PLC, London</td>\n",
       "      <td>20325555629413</td>\n",
       "      <td>Julius Baer Group</td>\n",
       "      <td>GBP</td>\n",
       "      <td>00:00:00</td>\n",
       "      <td>Open posn</td>\n",
       "      <td>IN</td>\n",
       "      <td>1367205.47</td>\n",
       "      <td>1367205.47</td>\n",
       "      <td>1367205.47</td>\n",
       "      <td>1367205.47</td>\n",
       "      <td>&lt;NA&gt;</td>\n",
       "      <td>&lt;NA&gt;</td>\n",
       "      <td>&lt;NA&gt;</td>\n",
       "      <td>&lt;NA&gt;</td>\n",
       "      <td>1367205.47</td>\n",
       "      <td>1367205.47</td>\n",
       "    </tr>\n",
       "    <tr>\n",
       "      <th>TXN2021090101391594A1</th>\n",
       "      <th>2021-09-01</th>\n",
       "      <th>2021-09-01</th>\n",
       "      <td>US_BRANCH</td>\n",
       "      <td>GERMANY</td>\n",
       "      <td>Deutsche Bank AG, Frankfurt am Main</td>\n",
       "      <td>100 8885417 1000</td>\n",
       "      <td>Macquarie Bank</td>\n",
       "      <td>EUR</td>\n",
       "      <td>00:00:00</td>\n",
       "      <td>Open posn</td>\n",
       "      <td>IN</td>\n",
       "      <td>1463774.34</td>\n",
       "      <td>1463774.34</td>\n",
       "      <td>1463774.34</td>\n",
       "      <td>1463774.34</td>\n",
       "      <td>&lt;NA&gt;</td>\n",
       "      <td>&lt;NA&gt;</td>\n",
       "      <td>&lt;NA&gt;</td>\n",
       "      <td>&lt;NA&gt;</td>\n",
       "      <td>1463774.34</td>\n",
       "      <td>1463774.34</td>\n",
       "    </tr>\n",
       "    <tr>\n",
       "      <th>TXN2021090101391612A1</th>\n",
       "      <th>2021-09-01</th>\n",
       "      <th>2021-09-01</th>\n",
       "      <td>UK_PLC</td>\n",
       "      <td>UNITED KINGDOM</td>\n",
       "      <td>Citibank NA, New York</td>\n",
       "      <td>ATOTI-0033</td>\n",
       "      <td>Sumitomo Mitsui Financial Group</td>\n",
       "      <td>GBP</td>\n",
       "      <td>00:00:00</td>\n",
       "      <td>Open party</td>\n",
       "      <td>IN</td>\n",
       "      <td>1218198.24</td>\n",
       "      <td>1218198.24</td>\n",
       "      <td>1218198.24</td>\n",
       "      <td>1218198.24</td>\n",
       "      <td>&lt;NA&gt;</td>\n",
       "      <td>&lt;NA&gt;</td>\n",
       "      <td>&lt;NA&gt;</td>\n",
       "      <td>&lt;NA&gt;</td>\n",
       "      <td>1218198.24</td>\n",
       "      <td>1218198.24</td>\n",
       "    </tr>\n",
       "    <tr>\n",
       "      <th>TXN2021090101391613A1</th>\n",
       "      <th>2021-09-01</th>\n",
       "      <th>2021-09-01</th>\n",
       "      <td>US_BRANCH</td>\n",
       "      <td>UNITED STATES</td>\n",
       "      <td>Account 3</td>\n",
       "      <td>RAND-0039</td>\n",
       "      <td>HSBC Hong Kong</td>\n",
       "      <td>USD</td>\n",
       "      <td>00:00:00</td>\n",
       "      <td>Open party</td>\n",
       "      <td>IN</td>\n",
       "      <td>1914110.13</td>\n",
       "      <td>1914110.13</td>\n",
       "      <td>1914110.13</td>\n",
       "      <td>1914110.13</td>\n",
       "      <td>&lt;NA&gt;</td>\n",
       "      <td>&lt;NA&gt;</td>\n",
       "      <td>&lt;NA&gt;</td>\n",
       "      <td>&lt;NA&gt;</td>\n",
       "      <td>1914110.13</td>\n",
       "      <td>1914110.13</td>\n",
       "    </tr>\n",
       "  </tbody>\n",
       "</table>\n",
       "</div>"
      ],
      "text/plain": [
       "                                                       Legal_Entity  \\\n",
       "Transaction_Id        Transaction_Date Settlement_Date                \n",
       "TXN2021090101391563A1 2021-09-01       2021-09-01         AU_BRANCH   \n",
       "TXN2021090101391591A1 2021-09-01       2021-09-01         AU_BRANCH   \n",
       "TXN2021090101391594A1 2021-09-01       2021-09-01         US_BRANCH   \n",
       "TXN2021090101391612A1 2021-09-01       2021-09-01            UK_PLC   \n",
       "TXN2021090101391613A1 2021-09-01       2021-09-01         US_BRANCH   \n",
       "\n",
       "                                                               Country  \\\n",
       "Transaction_Id        Transaction_Date Settlement_Date                   \n",
       "TXN2021090101391563A1 2021-09-01       2021-09-01        UNITED STATES   \n",
       "TXN2021090101391591A1 2021-09-01       2021-09-01       UNITED KINGDOM   \n",
       "TXN2021090101391594A1 2021-09-01       2021-09-01              GERMANY   \n",
       "TXN2021090101391612A1 2021-09-01       2021-09-01       UNITED KINGDOM   \n",
       "TXN2021090101391613A1 2021-09-01       2021-09-01        UNITED STATES   \n",
       "\n",
       "                                                                         Correspondent_Name  \\\n",
       "Transaction_Id        Transaction_Date Settlement_Date                                        \n",
       "TXN2021090101391563A1 2021-09-01       2021-09-01           J.P Morgan Chase Bank, New York   \n",
       "TXN2021090101391591A1 2021-09-01       2021-09-01                 Barclays Bank PLC, London   \n",
       "TXN2021090101391594A1 2021-09-01       2021-09-01       Deutsche Bank AG, Frankfurt am Main   \n",
       "TXN2021090101391612A1 2021-09-01       2021-09-01                     Citibank NA, New York   \n",
       "TXN2021090101391613A1 2021-09-01       2021-09-01                                 Account 3   \n",
       "\n",
       "                                                       Correspondent_Account  \\\n",
       "Transaction_Id        Transaction_Date Settlement_Date                         \n",
       "TXN2021090101391563A1 2021-09-01       2021-09-01                  987777175   \n",
       "TXN2021090101391591A1 2021-09-01       2021-09-01             20325555629413   \n",
       "TXN2021090101391594A1 2021-09-01       2021-09-01           100 8885417 1000   \n",
       "TXN2021090101391612A1 2021-09-01       2021-09-01                 ATOTI-0033   \n",
       "TXN2021090101391613A1 2021-09-01       2021-09-01                  RAND-0039   \n",
       "\n",
       "                                                                           Counterparty  \\\n",
       "Transaction_Id        Transaction_Date Settlement_Date                                    \n",
       "TXN2021090101391563A1 2021-09-01       2021-09-01                               Argenta   \n",
       "TXN2021090101391591A1 2021-09-01       2021-09-01                     Julius Baer Group   \n",
       "TXN2021090101391594A1 2021-09-01       2021-09-01                        Macquarie Bank   \n",
       "TXN2021090101391612A1 2021-09-01       2021-09-01       Sumitomo Mitsui Financial Group   \n",
       "TXN2021090101391613A1 2021-09-01       2021-09-01                        HSBC Hong Kong   \n",
       "\n",
       "                                                       Settlement_Currency  \\\n",
       "Transaction_Id        Transaction_Date Settlement_Date                       \n",
       "TXN2021090101391563A1 2021-09-01       2021-09-01                      USD   \n",
       "TXN2021090101391591A1 2021-09-01       2021-09-01                      GBP   \n",
       "TXN2021090101391594A1 2021-09-01       2021-09-01                      EUR   \n",
       "TXN2021090101391612A1 2021-09-01       2021-09-01                      GBP   \n",
       "TXN2021090101391613A1 2021-09-01       2021-09-01                      USD   \n",
       "\n",
       "                                                       Settlement_Time  \\\n",
       "Transaction_Id        Transaction_Date Settlement_Date                   \n",
       "TXN2021090101391563A1 2021-09-01       2021-09-01             00:00:00   \n",
       "TXN2021090101391591A1 2021-09-01       2021-09-01             00:00:00   \n",
       "TXN2021090101391594A1 2021-09-01       2021-09-01             00:00:00   \n",
       "TXN2021090101391612A1 2021-09-01       2021-09-01             00:00:00   \n",
       "TXN2021090101391613A1 2021-09-01       2021-09-01             00:00:00   \n",
       "\n",
       "                                                            Status Direction  \\\n",
       "Transaction_Id        Transaction_Date Settlement_Date                         \n",
       "TXN2021090101391563A1 2021-09-01       2021-09-01        Open posn        IN   \n",
       "TXN2021090101391591A1 2021-09-01       2021-09-01        Open posn        IN   \n",
       "TXN2021090101391594A1 2021-09-01       2021-09-01        Open posn        IN   \n",
       "TXN2021090101391612A1 2021-09-01       2021-09-01       Open party        IN   \n",
       "TXN2021090101391613A1 2021-09-01       2021-09-01       Open party        IN   \n",
       "\n",
       "                                                        Settlement_Amount  \\\n",
       "Transaction_Id        Transaction_Date Settlement_Date                      \n",
       "TXN2021090101391563A1 2021-09-01       2021-09-01              1741638.01   \n",
       "TXN2021090101391591A1 2021-09-01       2021-09-01              1367205.47   \n",
       "TXN2021090101391594A1 2021-09-01       2021-09-01              1463774.34   \n",
       "TXN2021090101391612A1 2021-09-01       2021-09-01              1218198.24   \n",
       "TXN2021090101391613A1 2021-09-01       2021-09-01              1914110.13   \n",
       "\n",
       "                                                        Net_Settlement_Amount  \\\n",
       "Transaction_Id        Transaction_Date Settlement_Date                          \n",
       "TXN2021090101391563A1 2021-09-01       2021-09-01                  1741638.01   \n",
       "TXN2021090101391591A1 2021-09-01       2021-09-01                  1367205.47   \n",
       "TXN2021090101391594A1 2021-09-01       2021-09-01                  1463774.34   \n",
       "TXN2021090101391612A1 2021-09-01       2021-09-01                  1218198.24   \n",
       "TXN2021090101391613A1 2021-09-01       2021-09-01                  1914110.13   \n",
       "\n",
       "                                                        Opening_Balance  \\\n",
       "Transaction_Id        Transaction_Date Settlement_Date                    \n",
       "TXN2021090101391563A1 2021-09-01       2021-09-01            1741638.01   \n",
       "TXN2021090101391591A1 2021-09-01       2021-09-01            1367205.47   \n",
       "TXN2021090101391594A1 2021-09-01       2021-09-01            1463774.34   \n",
       "TXN2021090101391612A1 2021-09-01       2021-09-01            1218198.24   \n",
       "TXN2021090101391613A1 2021-09-01       2021-09-01            1914110.13   \n",
       "\n",
       "                                                         Available  Expected  \\\n",
       "Transaction_Id        Transaction_Date Settlement_Date                         \n",
       "TXN2021090101391563A1 2021-09-01       2021-09-01       1741638.01      <NA>   \n",
       "TXN2021090101391591A1 2021-09-01       2021-09-01       1367205.47      <NA>   \n",
       "TXN2021090101391594A1 2021-09-01       2021-09-01       1463774.34      <NA>   \n",
       "TXN2021090101391612A1 2021-09-01       2021-09-01       1218198.24      <NA>   \n",
       "TXN2021090101391613A1 2021-09-01       2021-09-01       1914110.13      <NA>   \n",
       "\n",
       "                                                        Processing  \\\n",
       "Transaction_Id        Transaction_Date Settlement_Date               \n",
       "TXN2021090101391563A1 2021-09-01       2021-09-01             <NA>   \n",
       "TXN2021090101391591A1 2021-09-01       2021-09-01             <NA>   \n",
       "TXN2021090101391594A1 2021-09-01       2021-09-01             <NA>   \n",
       "TXN2021090101391612A1 2021-09-01       2021-09-01             <NA>   \n",
       "TXN2021090101391613A1 2021-09-01       2021-09-01             <NA>   \n",
       "\n",
       "                                                        Anticipated  \\\n",
       "Transaction_Id        Transaction_Date Settlement_Date                \n",
       "TXN2021090101391563A1 2021-09-01       2021-09-01              <NA>   \n",
       "TXN2021090101391591A1 2021-09-01       2021-09-01              <NA>   \n",
       "TXN2021090101391594A1 2021-09-01       2021-09-01              <NA>   \n",
       "TXN2021090101391612A1 2021-09-01       2021-09-01              <NA>   \n",
       "TXN2021090101391613A1 2021-09-01       2021-09-01              <NA>   \n",
       "\n",
       "                                                        Collateral  \\\n",
       "Transaction_Id        Transaction_Date Settlement_Date               \n",
       "TXN2021090101391563A1 2021-09-01       2021-09-01             <NA>   \n",
       "TXN2021090101391591A1 2021-09-01       2021-09-01             <NA>   \n",
       "TXN2021090101391594A1 2021-09-01       2021-09-01             <NA>   \n",
       "TXN2021090101391612A1 2021-09-01       2021-09-01             <NA>   \n",
       "TXN2021090101391613A1 2021-09-01       2021-09-01             <NA>   \n",
       "\n",
       "                                                        Outlook_Amount  \\\n",
       "Transaction_Id        Transaction_Date Settlement_Date                   \n",
       "TXN2021090101391563A1 2021-09-01       2021-09-01           1741638.01   \n",
       "TXN2021090101391591A1 2021-09-01       2021-09-01           1367205.47   \n",
       "TXN2021090101391594A1 2021-09-01       2021-09-01           1463774.34   \n",
       "TXN2021090101391612A1 2021-09-01       2021-09-01           1218198.24   \n",
       "TXN2021090101391613A1 2021-09-01       2021-09-01           1914110.13   \n",
       "\n",
       "                                                        Forecast_Amount  \n",
       "Transaction_Id        Transaction_Date Settlement_Date                   \n",
       "TXN2021090101391563A1 2021-09-01       2021-09-01            1741638.01  \n",
       "TXN2021090101391591A1 2021-09-01       2021-09-01            1367205.47  \n",
       "TXN2021090101391594A1 2021-09-01       2021-09-01            1463774.34  \n",
       "TXN2021090101391612A1 2021-09-01       2021-09-01            1218198.24  \n",
       "TXN2021090101391613A1 2021-09-01       2021-09-01            1914110.13  "
      ]
     },
     "execution_count": 4,
     "metadata": {},
     "output_type": "execute_result"
    }
   ],
   "source": [
    "payment_tbl = session.read_parquet(\n",
    "    \"s3://data.atoti.io/notebooks/intraday-liquidity/data/cashflow_202110_counterparty.parquet\",\n",
    "    table_name=\"Cashflows\",\n",
    "    keys=[\"Transaction_Id\", \"Transaction_Date\", \"Settlement_Date\"],\n",
    ")\n",
    "payment_tbl.head()"
   ]
  },
  {
   "cell_type": "markdown",
   "id": "e2957023-9fdd-4cf7-8a2a-77fa34e68d6f",
   "metadata": {},
   "source": [
    "#### 1.2.2 Time table for bucketing\n",
    "\n",
    "The time table consists of the time buckets that allows us to look at the cashflows at hours, minutes or seconds intervals. It's basically a permutation of 24 hours x 60 minutes x 60 seconds."
   ]
  },
  {
   "cell_type": "code",
   "execution_count": 5,
   "id": "c7adf1b0-ba8c-484d-bba3-c1d4b520a281",
   "metadata": {
    "editable": true,
    "slideshow": {
     "slide_type": ""
    },
    "tags": []
   },
   "outputs": [
    {
     "data": {
      "text/html": [
       "<div>\n",
       "<style scoped>\n",
       "    .dataframe tbody tr th:only-of-type {\n",
       "        vertical-align: middle;\n",
       "    }\n",
       "\n",
       "    .dataframe tbody tr th {\n",
       "        vertical-align: top;\n",
       "    }\n",
       "\n",
       "    .dataframe thead th {\n",
       "        text-align: right;\n",
       "    }\n",
       "</style>\n",
       "<table border=\"1\" class=\"dataframe\">\n",
       "  <thead>\n",
       "    <tr style=\"text-align: right;\">\n",
       "      <th></th>\n",
       "      <th>Hour</th>\n",
       "      <th>Minute</th>\n",
       "      <th>Second</th>\n",
       "      <th>Minute (ext)</th>\n",
       "    </tr>\n",
       "    <tr>\n",
       "      <th>Time</th>\n",
       "      <th></th>\n",
       "      <th></th>\n",
       "      <th></th>\n",
       "      <th></th>\n",
       "    </tr>\n",
       "  </thead>\n",
       "  <tbody>\n",
       "    <tr>\n",
       "      <th>03:22:15</th>\n",
       "      <td>03</td>\n",
       "      <td>:22</td>\n",
       "      <td>:15</td>\n",
       "      <td>03:22</td>\n",
       "    </tr>\n",
       "    <tr>\n",
       "      <th>02:01:19</th>\n",
       "      <td>02</td>\n",
       "      <td>:01</td>\n",
       "      <td>:19</td>\n",
       "      <td>02:01</td>\n",
       "    </tr>\n",
       "    <tr>\n",
       "      <th>01:21:01</th>\n",
       "      <td>01</td>\n",
       "      <td>:21</td>\n",
       "      <td>:01</td>\n",
       "      <td>01:21</td>\n",
       "    </tr>\n",
       "    <tr>\n",
       "      <th>01:21:08</th>\n",
       "      <td>01</td>\n",
       "      <td>:21</td>\n",
       "      <td>:08</td>\n",
       "      <td>01:21</td>\n",
       "    </tr>\n",
       "    <tr>\n",
       "      <th>02:01:22</th>\n",
       "      <td>02</td>\n",
       "      <td>:01</td>\n",
       "      <td>:22</td>\n",
       "      <td>02:01</td>\n",
       "    </tr>\n",
       "  </tbody>\n",
       "</table>\n",
       "</div>"
      ],
      "text/plain": [
       "         Hour Minute Second Minute (ext)\n",
       "Time                                    \n",
       "03:22:15   03    :22    :15        03:22\n",
       "02:01:19   02    :01    :19        02:01\n",
       "01:21:01   01    :21    :01        01:21\n",
       "01:21:08   01    :21    :08        01:21\n",
       "02:01:22   02    :01    :22        02:01"
      ]
     },
     "execution_count": 5,
     "metadata": {},
     "output_type": "execute_result"
    }
   ],
   "source": [
    "time_tbl = session.read_csv(\n",
    "    \"s3://data.atoti.io/notebooks/intraday-liquidity/data/time.csv\",\n",
    "    keys=[\"Time\"],\n",
    "    data_types={\n",
    "        \"Time\": tt.type.STRING,\n",
    "        \"Hour\": tt.type.STRING,\n",
    "        \"Minute\": tt.type.STRING,\n",
    "        \"Second\": tt.type.STRING,\n",
    "        \"Minute (ext)\": tt.type.STRING,\n",
    "    },\n",
    "    table_name=\"Time\",\n",
    ")\n",
    "\n",
    "time_tbl.head()"
   ]
  },
  {
   "cell_type": "markdown",
   "id": "09a3994d-fbff-4042-93be-84bd7188485d",
   "metadata": {},
   "source": [
    "### 1.3 Join tables  \n",
    "\n",
    "[Joining Atoti table](https://docs.atoti.io/latest/getting_started/tutorial/tutorial.html#Join) is similar to how we perform table joins in databases. However, we apply [snowflake schema](https://en.wikipedia.org/wiki/Snowflake_schema) for Atoti.  \n",
    "This means that we choose a base table that is most granular and we centralize other fact tables around the based table.  \n",
    "\n",
    "In this case, our base table is the payment table. So, we perform a join from `payment_tbl.Settlement_Time` to `time_tbl.Time` by specifying the join condition.  \n",
    "\n",
    "> Tips: Usually, we do not have to specify the conditions joining the tables unless the joining columns have different names. Atoti infers the relationship based on common column names between the tables."
   ]
  },
  {
   "cell_type": "code",
   "execution_count": 6,
   "id": "699f7abe-7337-49ec-984e-de6483be889d",
   "metadata": {},
   "outputs": [],
   "source": [
    "payment_tbl.join(time_tbl, payment_tbl[\"Settlement_Time\"] == time_tbl[\"Time\"])"
   ]
  },
  {
   "cell_type": "markdown",
   "id": "8f4b7a36-211f-4c40-8af5-e94bc9dde8d0",
   "metadata": {},
   "source": [
    "Verify the table schema below:"
   ]
  },
  {
   "cell_type": "code",
   "execution_count": 7,
   "id": "65ac4150-189a-468a-92e0-2af1df106e50",
   "metadata": {},
   "outputs": [
    {
     "data": {
      "text/markdown": [
       "```mermaid\n",
       "erDiagram\n",
       "  \"Cashflows\" {\n",
       "    non-null String PK \"Transaction_Id\"\n",
       "    non-null String \"Legal_Entity\"\n",
       "    non-null String \"Country\"\n",
       "    non-null String \"Correspondent_Name\"\n",
       "    non-null String \"Correspondent_Account\"\n",
       "    non-null String \"Counterparty\"\n",
       "    non-null String \"Settlement_Currency\"\n",
       "    non-null LocalDate PK \"Transaction_Date\"\n",
       "    non-null LocalDate PK \"Settlement_Date\"\n",
       "    non-null String \"Settlement_Time\"\n",
       "    non-null String \"Status\"\n",
       "    non-null String \"Direction\"\n",
       "    nullable double \"Settlement_Amount\"\n",
       "    nullable double \"Net_Settlement_Amount\"\n",
       "    nullable double \"Opening_Balance\"\n",
       "    nullable double \"Available\"\n",
       "    nullable double \"Expected\"\n",
       "    nullable double \"Processing\"\n",
       "    nullable double \"Anticipated\"\n",
       "    nullable double \"Collateral\"\n",
       "    nullable double \"Outlook_Amount\"\n",
       "    nullable double \"Forecast_Amount\"\n",
       "  }\n",
       "  \"Time\" {\n",
       "    non-null String \"Hour\"\n",
       "    non-null String \"Minute\"\n",
       "    non-null String \"Second\"\n",
       "    non-null String PK \"Time\"\n",
       "    non-null String \"Minute (ext)\"\n",
       "  }\n",
       "  \"Cashflows\" }o--o| \"Time\" : \"Settlement_Time == Time\"\n",
       "```\n"
      ],
      "text/plain": [
       "erDiagram\n",
       "  \"Cashflows\" {\n",
       "    non-null String PK \"Transaction_Id\"\n",
       "    non-null String \"Legal_Entity\"\n",
       "    non-null String \"Country\"\n",
       "    non-null String \"Correspondent_Name\"\n",
       "    non-null String \"Correspondent_Account\"\n",
       "    non-null String \"Counterparty\"\n",
       "    non-null String \"Settlement_Currency\"\n",
       "    non-null LocalDate PK \"Transaction_Date\"\n",
       "    non-null LocalDate PK \"Settlement_Date\"\n",
       "    non-null String \"Settlement_Time\"\n",
       "    non-null String \"Status\"\n",
       "    non-null String \"Direction\"\n",
       "    nullable double \"Settlement_Amount\"\n",
       "    nullable double \"Net_Settlement_Amount\"\n",
       "    nullable double \"Opening_Balance\"\n",
       "    nullable double \"Available\"\n",
       "    nullable double \"Expected\"\n",
       "    nullable double \"Processing\"\n",
       "    nullable double \"Anticipated\"\n",
       "    nullable double \"Collateral\"\n",
       "    nullable double \"Outlook_Amount\"\n",
       "    nullable double \"Forecast_Amount\"\n",
       "  }\n",
       "  \"Time\" {\n",
       "    non-null String \"Hour\"\n",
       "    non-null String \"Minute\"\n",
       "    non-null String \"Second\"\n",
       "    non-null String PK \"Time\"\n",
       "    non-null String \"Minute (ext)\"\n",
       "  }\n",
       "  \"Cashflows\" }o--o| \"Time\" : \"Settlement_Time == Time\""
      ]
     },
     "execution_count": 7,
     "metadata": {},
     "output_type": "execute_result"
    }
   ],
   "source": [
    "session.tables.schema"
   ]
  },
  {
   "cell_type": "markdown",
   "id": "5221c5db-9a4d-4808-bb40-1631f81401ed",
   "metadata": {},
   "source": [
    "By joining the two tables via timestamps allows us to identify the time bucket each cashflow transaction falls under."
   ]
  },
  {
   "cell_type": "markdown",
   "id": "dc3d38fd-ae57-4e7a-8651-fc53a920232d",
   "metadata": {},
   "source": [
    "### 1.4 Create Atoti cube\n",
    "\n",
    "When we create a cube in `auto` mode, Atoti creates a `mean` and a `sum` measure for each numerical columns. It's a great way to quickly explore the data and perform simple analytics.  \n",
    "In this use case, to avoid cluttering of unwanted measures, we create the Atoti cube with the `no_measures` mode.  \n",
    "Check the [Atoti documentation](https://docs.atoti.io/latest/lib/atoti/atoti.session.html#atoti.Session.create_cube) on the available modes."
   ]
  },
  {
   "cell_type": "code",
   "execution_count": 8,
   "id": "9fe02df3-38be-47d9-8d37-bb6b9b226fa5",
   "metadata": {},
   "outputs": [],
   "source": [
    "cube = session.create_cube(payment_tbl, name=\"Intraday Liquidity\", mode=\"no_measures\")"
   ]
  },
  {
   "cell_type": "markdown",
   "id": "f5a9e81f-bd63-4605-a153-cdd7db93ef96",
   "metadata": {},
   "source": [
    "> Tips: We could change the default limits set on some of the application behaviours such as `queriesTimeLimit`, `queriesResultLimit.intermediateLimit` and `queriesResultLimit.transientLimit`.  \n",
    "  \n",
    "  \n",
    "Below we removed the restrictions on the intermediate results, which is a limit on the number of point locations for a single intermediate result.  \n",
    "Check out the [shared contexts](https://docs.atoti.io/latest/lib/atoti/atoti.cube.html#atoti.Cube.shared_context)."
   ]
  },
  {
   "cell_type": "code",
   "execution_count": 9,
   "id": "c86db4be-d9b7-4ef6-b3de-03ae5f573bb0",
   "metadata": {},
   "outputs": [],
   "source": [
    "cube.shared_context[\"queriesResultLimit.intermediateLimit\"] = -1\n",
    "cube.shared_context[\"queriesResultLimit.transientLimit\"] = -1"
   ]
  },
  {
   "cell_type": "markdown",
   "id": "aaec0308-8aa2-408c-9219-344f1f5120e2",
   "metadata": {},
   "source": [
    "## 2 Setting up Atoti as monitoring tool  "
   ]
  },
  {
   "cell_type": "markdown",
   "id": "8e492a47-7e46-4ab7-b6b5-ead20c742eab",
   "metadata": {},
   "source": [
    "In this section, we look at how we can manipulate the hierarchies and craft some measures to cater to our needs.  \n",
    "Before we start, let's create alias variables for the cube attributes:"
   ]
  },
  {
   "cell_type": "code",
   "execution_count": 10,
   "id": "4366b9bb-e54f-4e5e-9b0c-32a004c49f0c",
   "metadata": {},
   "outputs": [],
   "source": [
    "h, l, m = cube.hierarchies, cube.levels, cube.measures"
   ]
  },
  {
   "cell_type": "markdown",
   "id": "92b28e18-c533-4227-862b-da7af69ba8c8",
   "metadata": {},
   "source": [
    "### 2.1 Creating basic measures"
   ]
  },
  {
   "cell_type": "markdown",
   "id": "25653ac0-04f5-4ae2-9b0a-d2b9c1d5cee9",
   "metadata": {},
   "source": [
    "While cube in \"auto\" mode can create the basic `mean` and `sum` measures by default, we will create our measures manually to keep things lean and clean.  \n",
    "Let's start with the easiest type of measure - summation. We will create it recursively for all the numerical columns in the payment table. Check out other available [aggregation functions](https://docs.atoti.io/latest/lib/atoti/atoti.agg.html)."
   ]
  },
  {
   "cell_type": "code",
   "execution_count": 11,
   "id": "32d483a0-1c2a-4d5c-bab6-b78b9bcb4a77",
   "metadata": {},
   "outputs": [],
   "source": [
    "def create_sum_measure(col_name, tbl):\n",
    "    m[col_name] = tt.where(\n",
    "        ~l[\"Settlement_Currency\"].isnull(), tt.agg.sum(tbl[col_name])\n",
    "    )"
   ]
  },
  {
   "cell_type": "markdown",
   "id": "80b19f93-f1f4-4864-bd32-ae1526db8588",
   "metadata": {},
   "source": [
    "We have impose a [condition](https://docs.atoti.io/latest/lib/atoti/atoti.function.where.html#atoti.where) to return the summation only when `Settlement_Currency` is available in the query.  \n",
    "This is important as we cannot add values such as `Settlement_Amount` across different currencies."
   ]
  },
  {
   "cell_type": "code",
   "execution_count": 12,
   "id": "1ecc7878-2a50-4664-9570-7f1fcb92baff",
   "metadata": {},
   "outputs": [],
   "source": [
    "for col in list(payment_tbl):\n",
    "    if payment_tbl[col].data_type == \"double\":\n",
    "        create_sum_measure(col, payment_tbl)"
   ]
  },
  {
   "cell_type": "markdown",
   "id": "79a6186b-9355-42a7-b3b3-3a2a937c66e3",
   "metadata": {},
   "source": [
    "By creating the measures manually, we have control over the naming convention and the manner of implementation of the measures.  \n",
    "Below are the measures created for columns of the type `double`."
   ]
  },
  {
   "cell_type": "code",
   "execution_count": 13,
   "id": "5ec259c8-9c19-4540-86c6-27b9b91952a6",
   "metadata": {},
   "outputs": [
    {
     "data": {
      "application/json": {
       "Anticipated": {
        "formatter": "DOUBLE[#,###.00]"
       },
       "Available": {
        "formatter": "DOUBLE[#,###.00]"
       },
       "Collateral": {
        "formatter": "DOUBLE[#,###.00]"
       },
       "Expected": {
        "formatter": "DOUBLE[#,###.00]"
       },
       "Forecast_Amount": {
        "formatter": "DOUBLE[#,###.00]"
       },
       "Net_Settlement_Amount": {
        "formatter": "DOUBLE[#,###.00]"
       },
       "Opening_Balance": {
        "formatter": "DOUBLE[#,###.00]"
       },
       "Outlook_Amount": {
        "formatter": "DOUBLE[#,###.00]"
       },
       "Processing": {
        "formatter": "DOUBLE[#,###.00]"
       },
       "Settlement_Amount": {
        "formatter": "DOUBLE[#,###.00]"
       },
       "contributors.COUNT": {
        "formatter": "INT[#,###]"
       }
      },
      "text/html": [
       "<ul>\n",
       "<li>Measures\n",
       "  <ul>\n",
       "  <li>Anticipated\n",
       "    <ul>\n",
       "    <li>formatter: DOUBLE[#,###.00]</li>\n",
       "    </ul>\n",
       "  </li>\n",
       "  <li>Available\n",
       "    <ul>\n",
       "    <li>formatter: DOUBLE[#,###.00]</li>\n",
       "    </ul>\n",
       "  </li>\n",
       "  <li>Collateral\n",
       "    <ul>\n",
       "    <li>formatter: DOUBLE[#,###.00]</li>\n",
       "    </ul>\n",
       "  </li>\n",
       "  <li>Expected\n",
       "    <ul>\n",
       "    <li>formatter: DOUBLE[#,###.00]</li>\n",
       "    </ul>\n",
       "  </li>\n",
       "  <li>Forecast_Amount\n",
       "    <ul>\n",
       "    <li>formatter: DOUBLE[#,###.00]</li>\n",
       "    </ul>\n",
       "  </li>\n",
       "  <li>Net_Settlement_Amount\n",
       "    <ul>\n",
       "    <li>formatter: DOUBLE[#,###.00]</li>\n",
       "    </ul>\n",
       "  </li>\n",
       "  <li>Opening_Balance\n",
       "    <ul>\n",
       "    <li>formatter: DOUBLE[#,###.00]</li>\n",
       "    </ul>\n",
       "  </li>\n",
       "  <li>Outlook_Amount\n",
       "    <ul>\n",
       "    <li>formatter: DOUBLE[#,###.00]</li>\n",
       "    </ul>\n",
       "  </li>\n",
       "  <li>Processing\n",
       "    <ul>\n",
       "    <li>formatter: DOUBLE[#,###.00]</li>\n",
       "    </ul>\n",
       "  </li>\n",
       "  <li>Settlement_Amount\n",
       "    <ul>\n",
       "    <li>formatter: DOUBLE[#,###.00]</li>\n",
       "    </ul>\n",
       "  </li>\n",
       "  <li>contributors.COUNT\n",
       "    <ul>\n",
       "    <li>formatter: INT[#,###]</li>\n",
       "    </ul>\n",
       "  </li>\n",
       "  </ul>\n",
       "</li>\n",
       "</ul>\n"
      ],
      "text/plain": [
       "{'contributors.COUNT': <atoti.measure.Measure object at 0x117d33a90>, 'update.TIMESTAMP': <atoti.measure.Measure object at 0x130fb85d0>, '__hidden_2_AGGREGATED': <atoti.measure.Measure object at 0x130fb8610>, 'Settlement_Amount': <atoti.measure.Measure object at 0x130fb9850>, 'Net_Settlement_Amount': <atoti.measure.Measure object at 0x130fb9f90>, '__hidden_3_AGGREGATED': <atoti.measure.Measure object at 0x130fbaa90>, 'Opening_Balance': <atoti.measure.Measure object at 0x130fb8810>, '__hidden_4_AGGREGATED': <atoti.measure.Measure object at 0x131abb1d0>, 'Available': <atoti.measure.Measure object at 0x131abb790>, '__hidden_5_AGGREGATED': <atoti.measure.Measure object at 0x131ab8210>, '__hidden_6_AGGREGATED': <atoti.measure.Measure object at 0x131ab9310>, 'Expected': <atoti.measure.Measure object at 0x131abab90>, '__hidden_7_AGGREGATED': <atoti.measure.Measure object at 0x131aba6d0>, 'Processing': <atoti.measure.Measure object at 0x130a44190>, '__hidden_8_AGGREGATED': <atoti.measure.Measure object at 0x130f4a7d0>, 'Anticipated': <atoti.measure.Measure object at 0x131c27190>, 'Collateral': <atoti.measure.Measure object at 0x131c27f10>, '__hidden_9_AGGREGATED': <atoti.measure.Measure object at 0x131c24290>, '__hidden_10_AGGREGATED': <atoti.measure.Measure object at 0x131c24410>, 'Outlook_Amount': <atoti.measure.Measure object at 0x131c26610>, '__hidden_11_AGGREGATED': <atoti.measure.Measure object at 0x131c26f90>, 'Forecast_Amount': <atoti.measure.Measure object at 0x131c27850>}"
      ]
     },
     "execution_count": 13,
     "metadata": {
      "application/json": {
       "expanded": false,
       "root": "Measures"
      }
     },
     "output_type": "execute_result"
    }
   ],
   "source": [
    "m"
   ]
  },
  {
   "cell_type": "markdown",
   "id": "9747abb5-7faf-49d6-bd8d-b158b9ccf69a",
   "metadata": {},
   "source": [
    "So we can start some data exploration!"
   ]
  },
  {
   "cell_type": "code",
   "execution_count": 14,
   "id": "29cf8d59-64ea-4834-9c1b-c82f4f35b76d",
   "metadata": {
    "atoti": {
     "widget": {
      "columnWidths": {
       "[Measures].[Net_Settlement_Amount]": 165,
       "[Measures].[Settlement_Amount]": 138
      },
      "filters": [
       {
        "dimensionName": "Cashflows",
        "hierarchyName": "Transaction_Date",
        "isExclusionFilter": false,
        "members": [
         [
          "AllMember",
          "2021-10-01"
         ]
        ],
        "type": "members"
       }
      ],
      "mapping": {
       "columns": [
        "ALL_MEASURES"
       ],
       "measures": [
        "[Measures].[Opening_Balance]",
        "[Measures].[Settlement_Amount]",
        "[Measures].[Net_Settlement_Amount]",
        "[Measures].[Available]",
        "[Measures].[Processing]",
        "[Measures].[Anticipated]",
        "[Measures].[Expected]",
        "[Measures].[Collateral]",
        "[Measures].[Forecast_Amount]",
        "[Measures].[Outlook_Amount]"
       ],
       "rows": [
        "[Cashflows].[Settlement_Currency].[Settlement_Currency]",
        "[Cashflows].[Direction].[Direction]"
       ]
      },
      "query": {
       "mdx": "SELECT NON EMPTY {[Measures].[Opening_Balance], [Measures].[Settlement_Amount], [Measures].[Net_Settlement_Amount], [Measures].[Available], [Measures].[Processing], [Measures].[Anticipated], [Measures].[Expected], [Measures].[Collateral], [Measures].[Forecast_Amount], [Measures].[Outlook_Amount]} ON COLUMNS, NON EMPTY Crossjoin(Hierarchize(Descendants({[Cashflows].[Settlement_Currency].[AllMember]}, 1, SELF_AND_BEFORE)), Hierarchize(Descendants({[Cashflows].[Direction].[AllMember]}, 1, SELF_AND_BEFORE))) ON ROWS FROM [Intraday Liquidity] CELL PROPERTIES VALUE, FORMATTED_VALUE, BACK_COLOR, FORE_COLOR, FONT_FLAGS",
       "updateMode": "once"
      },
      "serverKey": "default",
      "widgetKey": "pivot-table"
     }
    },
    "tags": []
   },
   "outputs": [
    {
     "data": {
      "application/vnd.atoti.widget.v0+json": {
       "sessionId": "1747383875_555865",
       "sessionUrl": "http://localhost:10012",
       "widgetCreationCode": "session.widget"
      },
      "text/html": [
       "<img height=\"0\" width=\"0\" src=\"data:,AAAAAAAAAAAAAAAAAAAAAAAAAAAAAAAAAAAAAAAAAAAAAAAACXBIWXMAAB2HAAAdhwGP5fFl\" />"
      ],
      "text/plain": [
       "Open the notebook in JupyterLab with the Atoti JupyterLab extension enabled to build this widget."
      ]
     },
     "metadata": {},
     "output_type": "display_data"
    }
   ],
   "source": [
    "# Cashflows on 1st Oct 2021 for all currencies\n",
    "session.widget"
   ]
  },
  {
   "cell_type": "markdown",
   "id": "d0b45b53-772b-436d-a509-c27604a26c78",
   "metadata": {},
   "source": [
    "### 2.2 Gross payment"
   ]
  },
  {
   "cell_type": "markdown",
   "id": "19f037d0-7c75-4c7b-8d1c-0007b9f95034",
   "metadata": {},
   "source": [
    "There are many ways we can get the gross payment received and sent. For instance, in the pivot table above, by querying the Direction level, we can see the total inflow and outflow amount.  \n",
    "However, to put the two values side-by-side for comparison or further manipulation, we can create dedicated measures for each one using the [`filter`](https://docs.atoti.io/latest/lib/atoti/atoti.function.filter.html) function.  \n",
    "Check out other [Atoti functions](https://docs.atoti.io/latest/lib/atoti/atoti.function.html). "
   ]
  },
  {
   "cell_type": "code",
   "execution_count": 15,
   "id": "d4f3f144-a363-44d3-8c75-4b92b134cb8e",
   "metadata": {},
   "outputs": [],
   "source": [
    "m[\"Gross payment received\"] = tt.agg.sum(\n",
    "    tt.filter(\n",
    "        m[\"Settlement_Amount\"],\n",
    "        (l[\"Direction\"] == \"IN\") & (~l[\"Status\"].isin(\"Open posn\", \"Open party\")),\n",
    "    ),\n",
    "    scope=tt.OriginScope({l[\"Settlement_Date\"]}),\n",
    ")\n",
    "m[\"Gross payment sent\"] = tt.agg.sum(\n",
    "    tt.filter(m[\"Settlement_Amount\"], l[\"Direction\"] == \"OUT\"),\n",
    "    scope=tt.OriginScope({l[\"Settlement_Date\"]}),\n",
    ")"
   ]
  },
  {
   "cell_type": "code",
   "execution_count": 16,
   "id": "ec30dab0-51cd-4e3f-a714-a43ce8dbeaaa",
   "metadata": {
    "atoti": {
     "height": 131,
     "widget": {
      "filters": [
       {
        "dimensionName": "Cashflows",
        "hierarchyName": "Settlement_Currency",
        "isExclusionFilter": false,
        "members": [
         [
          "AllMember",
          "EUR"
         ]
        ],
        "type": "members"
       },
       {
        "dimensionName": "Cashflows",
        "hierarchyName": "Settlement_Date",
        "isExclusionFilter": false,
        "members": [
         [
          "AllMember",
          "2021-10-01"
         ]
        ],
        "type": "members"
       }
      ],
      "mapping": {
       "columns": [],
       "measures": [
        "[Measures].[Gross payment received]",
        "[Measures].[Gross payment sent]"
       ],
       "rows": [
        "[Cashflows].[Settlement_Date].[Settlement_Date]"
       ]
      },
      "query": {
       "mdx": "SELECT NON EMPTY {[Measures].[Gross payment received], [Measures].[Gross payment sent]} ON COLUMNS, NON EMPTY Hierarchize(Descendants({[Cashflows].[Settlement_Date].[AllMember]}, 1, SELF_AND_BEFORE)) ON ROWS FROM [Intraday Liquidity] CELL PROPERTIES VALUE, FORMATTED_VALUE, BACK_COLOR, FORE_COLOR, FONT_FLAGS",
       "updateMode": "once"
      },
      "queryContext": [
       {
        "key": "mdx.hiddengrandtotals",
        "value": "1"
       }
      ],
      "serverKey": "default",
      "widgetKey": "kpi"
     }
    },
    "editable": true,
    "slideshow": {
     "slide_type": ""
    },
    "tags": []
   },
   "outputs": [
    {
     "data": {
      "application/vnd.atoti.widget.v0+json": {
       "sessionId": "1747383875_555865",
       "sessionUrl": "http://localhost:10012",
       "widgetCreationCode": "session.widget"
      },
      "text/html": [
       "<img height=\"0\" width=\"0\" src=\"data:,AAAAAAAAAAAAAAAAAAAAAAAAAAAAAAAAAAAAAAAAAAAAAAAACXBIWXMAAB2HAAAdhwGP5fFl\" />"
      ],
      "text/plain": [
       "Open the notebook in JupyterLab with the Atoti JupyterLab extension enabled to build this widget."
      ]
     },
     "metadata": {},
     "output_type": "display_data"
    }
   ],
   "source": [
    "# Gross payment sent and received for EUR on 1st Oct 2021\n",
    "session.widget"
   ]
  },
  {
   "cell_type": "markdown",
   "id": "92b87f67-732f-49e5-86f2-a9a4cb14fd14",
   "metadata": {
    "editable": true,
    "slideshow": {
     "slide_type": ""
    },
    "tags": []
   },
   "source": [
    "### 2.3 Net cumulative positions and Running balance"
   ]
  },
  {
   "cell_type": "markdown",
   "id": "1cff91e6-2d21-4f6d-9301-df7cae948158",
   "metadata": {},
   "source": [
    "Both _Net cumulative positions_ and _Running balance_ are running total on the `Net_Settlement_Amount`. By making use of the [`CumulativeScope`](https://docs.atoti.io/latest/lib/atoti/atoti.scope.cumulative_scope.html) on the `Settlement_Time` level, we can accumulate the `Net_Settlement_Amount` along the `Settlement_Time` axis. This gives cumulative value accurate to the seconds. Check out on the available [Atoti scope](https://docs.atoti.io/latest/lib/atoti/atoti.scope.html) options.\n",
    "\n",
    "The main difference between the two is that _Running balance_ is inclusive of the opening balance while _Net cumulative positions_ considers only the liquidity usage. For the intraday liquidity reporting, mostly we focus on the _Net cumulative positions_."
   ]
  },
  {
   "cell_type": "code",
   "execution_count": 17,
   "id": "ff2bea9b-1215-413d-a803-6356b208c1c4",
   "metadata": {},
   "outputs": [],
   "source": [
    "# excludes the opening balance\n",
    "m[\"Net cumulative position\"] = tt.agg.sum(\n",
    "    tt.filter(m[\"Net_Settlement_Amount\"], ~l[\"Status\"].isin(\"Open posn\", \"Open party\")),\n",
    "    scope=tt.CumulativeScope(level=l[\"Settlement_Time\"]),\n",
    ")\n",
    "\n",
    "m[\"Running balance\"] = tt.agg.sum(\n",
    "    m[\"Net_Settlement_Amount\"], scope=tt.CumulativeScope(level=l[\"Settlement_Time\"])\n",
    ")"
   ]
  },
  {
   "cell_type": "code",
   "execution_count": 18,
   "id": "bffce3c2-87b8-441d-a5c7-c0dcdc00942a",
   "metadata": {
    "atoti": {
     "widget": {
      "filters": [
       {
        "dimensionName": "Cashflows",
        "hierarchyName": "Settlement_Date",
        "isExclusionFilter": false,
        "members": [
         [
          "AllMember",
          "2021-10-01"
         ]
        ],
        "type": "members"
       },
       {
        "dimensionName": "Cashflows",
        "hierarchyName": "Settlement_Currency",
        "isExclusionFilter": false,
        "members": [
         [
          "AllMember",
          "EUR"
         ]
        ],
        "type": "members"
       }
      ],
      "mapping": {
       "horizontalSubplots": [],
       "secondaryValues": [],
       "splitBy": [
        "ALL_MEASURES"
       ],
       "values": [
        "[Measures].[Net cumulative position]"
       ],
       "verticalSubplots": [],
       "xAxis": [
        "[Cashflows].[Settlement_Time].[Settlement_Time]"
       ]
      },
      "query": {
       "mdx": "SELECT NON EMPTY Hierarchize(Descendants({[Cashflows].[Settlement_Time].[AllMember]}, 1, SELF_AND_BEFORE)) ON ROWS, NON EMPTY {[Measures].[Net cumulative position]} ON COLUMNS FROM [Intraday Liquidity] CELL PROPERTIES VALUE, FORMATTED_VALUE, BACK_COLOR, FORE_COLOR, FONT_FLAGS",
       "updateMode": "once"
      },
      "serverKey": "default",
      "widgetKey": "plotly-line-chart"
     }
    },
    "tags": []
   },
   "outputs": [
    {
     "data": {
      "application/vnd.atoti.widget.v0+json": {
       "sessionId": "1747383875_555865",
       "sessionUrl": "http://localhost:10012",
       "widgetCreationCode": "session.widget"
      },
      "text/html": [
       "<img height=\"0\" width=\"0\" src=\"data:,AAAAAAAAAAAAAAAAAAAAAAAAAAAAAAAAAAAAAAAAAAAAAAAACXBIWXMAAB2HAAAdhwGP5fFl\" />"
      ],
      "text/plain": [
       "Open the notebook in JupyterLab with the Atoti JupyterLab extension enabled to build this widget."
      ]
     },
     "metadata": {},
     "output_type": "display_data"
    }
   ],
   "source": [
    "session.widget"
   ]
  },
  {
   "cell_type": "markdown",
   "id": "873d62a4-cdd6-4828-8dac-2beaa05976a2",
   "metadata": {
    "tags": []
   },
   "source": [
    "### 2.4 Bucketing with Atoti"
   ]
  },
  {
   "cell_type": "markdown",
   "id": "f0aa49c4-bbaf-4301-8cfa-5d92ef837931",
   "metadata": {},
   "source": [
    "In this use case, we can perform bucketing by two hierarchies:\n",
    "- Settlement Date\n",
    "- Settlement Time "
   ]
  },
  {
   "cell_type": "markdown",
   "id": "95c59a06-e189-4777-8327-22f09a20e2c3",
   "metadata": {},
   "source": [
    "#### 2.4.1 Date bucketing  "
   ]
  },
  {
   "cell_type": "markdown",
   "id": "c7da4e96-e552-41f8-b946-d86d12587de4",
   "metadata": {},
   "source": [
    "A common way to perform bucketing is to store the bucket values within the record. E.g. tokenize the `Settlement_Date` value into `Year`, `Month` and `Day`.\n",
    "\n",
    "In Atoti, we can create the date hierarchy as shown below. Configure the required levels accordingly. Refer to the [Atoti documentation](https://docs.atoti.io/latest/lib/atoti/atoti.cube.html#atoti.Cube.create_date_hierarchy) for the date patterns that can be applied to the function."
   ]
  },
  {
   "cell_type": "code",
   "execution_count": 19,
   "id": "3f80cf3e-d474-4e94-a1ac-4b0559dbbda3",
   "metadata": {
    "editable": true,
    "slideshow": {
     "slide_type": ""
    },
    "tags": []
   },
   "outputs": [],
   "source": [
    "cube.create_date_hierarchy(\n",
    "    \"Dates\",\n",
    "    column=payment_tbl[\"Settlement_Date\"],\n",
    "    levels={\"Year\": \"yyyy\", \"Quarter\": \"QQQ\", \"Month\": \"MM\", \"Day\": \"dd\"},\n",
    ")"
   ]
  },
  {
   "cell_type": "markdown",
   "id": "4ecf14c8-0033-491d-8611-877665871b47",
   "metadata": {},
   "source": [
    "We can easily drill down on each level to see the bucketed values."
   ]
  },
  {
   "cell_type": "code",
   "execution_count": 20,
   "id": "04fdcc61-68c9-468d-a6ac-031215f977ef",
   "metadata": {
    "atoti": {
     "height": 470,
     "widget": {
      "columnWidths": {
       "[Measures].[Gross payment received]": 151,
       "[Measures].[Gross payment sent]": 142.9375
      },
      "mapping": {
       "columns": [
        "ALL_MEASURES"
       ],
       "measures": [
        "[Measures].[Gross payment sent]",
        "[Measures].[Gross payment received]"
       ],
       "rows": [
        "[Cashflows].[Settlement_Currency].[Settlement_Currency]",
        "[Cashflows].[Dates].[Year] => [Cashflows].[Dates].[Day]"
       ]
      },
      "query": {
       "mdx": "SELECT NON EMPTY Hierarchize(Union(Crossjoin(Hierarchize(Descendants({[Cashflows].[Settlement_Currency].[AllMember]}, 1, SELF_AND_BEFORE)), Hierarchize(Descendants({[Cashflows].[Dates].[AllMember]}, 1, SELF_AND_BEFORE))), Crossjoin([Cashflows].[Settlement_Currency].[AllMember].[EUR], Descendants({[Cashflows].[Dates].[AllMember].[2021]}, [Cashflows].[Dates].[Quarter])), Crossjoin([Cashflows].[Settlement_Currency].[AllMember].[EUR], Descendants({[Cashflows].[Dates].[AllMember].[2021].[Q4]}, [Cashflows].[Dates].[Month])), Crossjoin([Cashflows].[Settlement_Currency].[AllMember].[EUR], Descendants({[Cashflows].[Dates].[AllMember].[2021].[Q4].[10]}, [Cashflows].[Dates].[Day])))) ON ROWS, NON EMPTY {[Measures].[Gross payment sent], [Measures].[Gross payment received]} ON COLUMNS FROM [Intraday Liquidity] CELL PROPERTIES VALUE, FORMATTED_VALUE, BACK_COLOR, FORE_COLOR, FONT_FLAGS",
       "updateMode": "once"
      },
      "serverKey": "default",
      "widgetKey": "pivot-table"
     }
    },
    "tags": []
   },
   "outputs": [
    {
     "data": {
      "application/vnd.atoti.widget.v0+json": {
       "sessionId": "1747383875_555865",
       "sessionUrl": "http://localhost:10012",
       "widgetCreationCode": "session.widget"
      },
      "text/html": [
       "<img height=\"0\" width=\"0\" src=\"data:,AAAAAAAAAAAAAAAAAAAAAAAAAAAAAAAAAAAAAAAAAAAAAAAACXBIWXMAAB2HAAAdhwGP5fFl\" />"
      ],
      "text/plain": [
       "Open the notebook in JupyterLab with the Atoti JupyterLab extension enabled to build this widget."
      ]
     },
     "metadata": {},
     "output_type": "display_data"
    }
   ],
   "source": [
    "session.widget"
   ]
  },
  {
   "cell_type": "markdown",
   "id": "df4fc4c7-177c-47db-a943-87d392a35607",
   "metadata": {},
   "source": [
    "#### 2.4.2 Time bucketing  \n",
    "\n",
    "In this use case, we have stored the possible time buckets permutation in the Time table.  \n",
    "We can create a multilevel `Time` hierarchy that stacks the `Hour`, `Minute` and `Second`.  "
   ]
  },
  {
   "cell_type": "code",
   "execution_count": 21,
   "id": "08a89c04-f8da-473c-af98-d2a8c2e38374",
   "metadata": {},
   "outputs": [],
   "source": [
    "h[\"Time\"] = [l[\"Hour\"], l[\"Minute\"], l[\"Second\"]]"
   ]
  },
  {
   "cell_type": "markdown",
   "id": "02df678c-8151-4263-aead-7d2e03c02529",
   "metadata": {},
   "source": [
    "Previously, we created the measure `Net cumulative position` along the Cumulative scope of `Settlement_Time`, giving accuracy up to the seconds.  \n",
    "\n",
    "Now that we have a multilevel time hierarchy, we can create another running total on the `Net_Settlement_Amount` along the lowest level, which is the `Second`.  "
   ]
  },
  {
   "cell_type": "code",
   "execution_count": 22,
   "id": "eb647939-f78e-4699-aff7-2e219110a695",
   "metadata": {},
   "outputs": [],
   "source": [
    "m[\"Cumulative position (ts)\"] = tt.agg.sum(\n",
    "    tt.filter(m[\"Net_Settlement_Amount\"], ~l[\"Status\"].isin(\"Open posn\", \"Open party\")),\n",
    "    scope=tt.CumulativeScope(level=l[(\"Time\", \"Time\", \"Second\")]),\n",
    ")"
   ]
  },
  {
   "cell_type": "markdown",
   "id": "0bc2a75a-2e06-4fa8-bb79-56c6e7f2bee7",
   "metadata": {},
   "source": [
    "Do pay attention that we have to indicate the full path for level that is passed to the cumulative scope - `level=l[(\"Time\", \"Time\", \"Second\")]`. That's because there are two paths to the level `Second`: \n",
    "- `l[(\"Time\", \"Second\", \"Second\")`: the original single hierarchy `Second`\n",
    "- `l[(\"Time\", \"Time\", \"Second\")`: the newly created multilevel hierarchy."
   ]
  },
  {
   "cell_type": "markdown",
   "id": "c0e7ba81-32c7-4283-837d-20f8bf967197",
   "metadata": {},
   "source": [
    "We can now easily look at the liquidity usage at different intervals as shown in the GIF below:  \n",
    "\n",
    "<img src=\"http://data.atoti.io/notebooks/intraday-liquidity/img/bucketed_cumulative_positions.gif\" width=\"800px\" />  \n",
    "\n",
    "Try it out in the visualization below:"
   ]
  },
  {
   "cell_type": "code",
   "execution_count": 23,
   "id": "d0c856f5-e8d1-41ae-8470-86155ce7de1b",
   "metadata": {
    "atoti": {
     "height": 329,
     "widget": {
      "columnWidths": {
       "[Measures].[Cumulative position (ts)]": 159,
       "[Measures].[Settlement_Amount_Signed]": 178.625
      },
      "filters": [
       {
        "dimensionName": "Cashflows",
        "hierarchyName": "Settlement_Date",
        "isExclusionFilter": false,
        "members": [
         [
          "AllMember",
          "2021-10-14"
         ]
        ],
        "type": "members"
       },
       {
        "dimensionName": "Cashflows",
        "hierarchyName": "Settlement_Currency",
        "isExclusionFilter": false,
        "members": [
         [
          "AllMember",
          "USD"
         ]
        ],
        "type": "members"
       }
      ],
      "mapping": {
       "horizontalSubplots": [],
       "secondaryValues": [],
       "splitBy": [
        "ALL_MEASURES"
       ],
       "values": [
        "[Measures].[Cumulative position (ts)]"
       ],
       "verticalSubplots": [],
       "xAxis": [
        "[Time].[Hour].[Hour]"
       ]
      },
      "plotly": {
       "data": {
        "overridesByTraceIndex": [
         {
          "mode": "lines"
         }
        ]
       }
      },
      "query": {
       "mdx": "SELECT NON EMPTY {[Measures].[Cumulative position (ts)]} ON COLUMNS, NON EMPTY Hierarchize(Descendants({[Time].[Hour].[ALL].[AllMember]}, 1, SELF_AND_BEFORE)) ON ROWS FROM [Intraday Liquidity] CELL PROPERTIES VALUE, FORMATTED_VALUE, BACK_COLOR, FORE_COLOR, FONT_FLAGS",
       "updateMode": "once"
      },
      "queryContext": [
       {
        "key": "mdx.hiddensubtotals",
        "value": ""
       }
      ],
      "serverKey": "default",
      "widgetKey": "plotly-line-chart"
     }
    },
    "editable": true,
    "slideshow": {
     "slide_type": ""
    },
    "tags": []
   },
   "outputs": [
    {
     "data": {
      "application/vnd.atoti.widget.v0+json": {
       "sessionId": "1747383875_555865",
       "sessionUrl": "http://localhost:10012",
       "widgetCreationCode": "session.widget"
      },
      "text/html": [
       "<img height=\"0\" width=\"0\" src=\"data:,AAAAAAAAAAAAAAAAAAAAAAAAAAAAAAAAAAAAAAAAAAAAAAAACXBIWXMAAB2HAAAdhwGP5fFl\" />"
      ],
      "text/plain": [
       "Open the notebook in JupyterLab with the Atoti JupyterLab extension enabled to build this widget."
      ]
     },
     "metadata": {},
     "output_type": "display_data"
    }
   ],
   "source": [
    "session.widget"
   ]
  },
  {
   "cell_type": "markdown",
   "id": "c41e72da-f6d7-42e3-a12c-e56bf5af9d3d",
   "metadata": {},
   "source": [
    "### 2.5 Daily maximum and minimum cumulative position "
   ]
  },
  {
   "cell_type": "markdown",
   "id": "64f5514e-bdef-45c9-9fab-3c715fae6faa",
   "metadata": {},
   "source": [
    "The below measures look at the maximum/minimum value at the `Settlement_Time` level."
   ]
  },
  {
   "cell_type": "code",
   "execution_count": 24,
   "id": "58dc1f52-e5b5-4b33-b6d9-8317a08c02a5",
   "metadata": {},
   "outputs": [],
   "source": [
    "m[\"_time_min\"] = tt.agg.min(\n",
    "    tt.where(~m[\"Settlement_Amount\"].isnull(), m[\"Net cumulative position\"]),\n",
    "    scope=tt.SiblingsScope(hierarchy=h[\"Settlement_Time\"], exclude_self=False),\n",
    ")\n",
    "\n",
    "m[\"_time_max\"] = tt.agg.max(\n",
    "    tt.where(~m[\"Settlement_Amount\"].isnull(), m[\"Net cumulative position\"]),\n",
    "    scope=tt.SiblingsScope(hierarchy=h[\"Settlement_Time\"], exclude_self=False),\n",
    ")\n",
    "\n",
    "m[\"_time_min_origin_scope\"] = tt.agg.min(\n",
    "    tt.where(~m[\"Settlement_Amount\"].isnull(), m[\"Net cumulative position\"]),\n",
    "    scope=tt.OriginScope({l[\"Settlement_Time\"]}),\n",
    ")"
   ]
  },
  {
   "cell_type": "markdown",
   "id": "ada502c0-70b6-4625-a851-d866d7a6312c",
   "metadata": {},
   "source": [
    "Using sibling scope, we compare the values within a given level. Hence the values will be constant across all the `Settlement_Time`.  \n",
    "Below table shows the difference in behavior from `OriginScope` and `SiblingScope` on the maximum and minimum aggregation function. \n",
    "Check out the [Atoti scopes](https://docs.atoti.io/latest/lib/atoti/atoti.scope.html). "
   ]
  },
  {
   "cell_type": "code",
   "execution_count": 25,
   "id": "4d50eea3-524b-43c0-ac71-6da41b20032d",
   "metadata": {
    "atoti": {
     "height": 258,
     "widget": {
      "columnWidths": {
       "[Measures].[_time_min]": 133.9375,
       "[Measures].[_time_min_origin_scope]": 181
      },
      "filters": [
       {
        "dimensionName": "Cashflows",
        "hierarchyName": "Settlement_Date",
        "isExclusionFilter": false,
        "members": [
         [
          "AllMember",
          "2021-10-01"
         ]
        ],
        "type": "members"
       },
       {
        "dimensionName": "Cashflows",
        "hierarchyName": "Settlement_Currency",
        "isExclusionFilter": false,
        "members": [
         [
          "AllMember",
          "USD"
         ]
        ],
        "type": "members"
       }
      ],
      "mapping": {
       "columns": [
        "ALL_MEASURES"
       ],
       "measures": [
        "[Measures].[_time_min]",
        "[Measures].[_time_min_origin_scope]"
       ],
       "rows": [
        "[Cashflows].[Settlement_Time].[Settlement_Time]"
       ]
      },
      "query": {
       "mdx": "SELECT NON EMPTY Hierarchize(Descendants({[Cashflows].[Settlement_Time].[AllMember]}, 1, SELF_AND_BEFORE)) ON ROWS, NON EMPTY {[Measures].[_time_min], [Measures].[_time_min_origin_scope]} ON COLUMNS FROM [Intraday Liquidity] CELL PROPERTIES VALUE, FORMATTED_VALUE, BACK_COLOR, FORE_COLOR, FONT_FLAGS",
       "updateMode": "once"
      },
      "serverKey": "default",
      "widgetKey": "pivot-table"
     }
    },
    "tags": []
   },
   "outputs": [
    {
     "data": {
      "application/vnd.atoti.widget.v0+json": {
       "sessionId": "1747383875_555865",
       "sessionUrl": "http://localhost:10012",
       "widgetCreationCode": "session.widget"
      },
      "text/html": [
       "<img height=\"0\" width=\"0\" src=\"data:,AAAAAAAAAAAAAAAAAAAAAAAAAAAAAAAAAAAAAAAAAAAAAAAACXBIWXMAAB2HAAAdhwGP5fFl\" />"
      ],
      "text/plain": [
       "Open the notebook in JupyterLab with the Atoti JupyterLab extension enabled to build this widget."
      ]
     },
     "metadata": {},
     "output_type": "display_data"
    }
   ],
   "source": [
    "# Difference between OriginScope and SiblingScope\n",
    "session.widget"
   ]
  },
  {
   "cell_type": "markdown",
   "id": "0933298c-fd4d-42f9-acd2-8ed75abfae3f",
   "metadata": {},
   "source": [
    "Using `_time_max` and `_time_min`, we can see which are the timings where the cumulative balance is close to the peaks."
   ]
  },
  {
   "cell_type": "code",
   "execution_count": 26,
   "id": "90173142-4e84-4e19-b6ba-1a45c3e83a6c",
   "metadata": {
    "atoti": {
     "widget": {
      "filters": [
       {
        "dimensionName": "Cashflows",
        "hierarchyName": "Settlement_Currency",
        "isExclusionFilter": false,
        "members": [
         [
          "AllMember",
          "EUR"
         ]
        ],
        "type": "members"
       },
       {
        "dimensionName": "Cashflows",
        "hierarchyName": "Settlement_Date",
        "isExclusionFilter": false,
        "members": [
         [
          "AllMember",
          "2021-10-01"
         ]
        ],
        "type": "members"
       }
      ],
      "mapping": {
       "horizontalSubplots": [],
       "secondaryValues": [],
       "splitBy": [
        "ALL_MEASURES"
       ],
       "values": [
        "[Measures].[Net cumulative position]",
        "[Measures].[_time_max]",
        "[Measures].[_time_min]"
       ],
       "verticalSubplots": [],
       "xAxis": [
        "[Cashflows].[Settlement_Time].[Settlement_Time]"
       ]
      },
      "plotly": {
       "data": {
        "overridesByTraceIndex": [
         {
          "mode": "lines"
         }
        ]
       }
      },
      "query": {
       "mdx": "SELECT NON EMPTY Hierarchize(Descendants({[Cashflows].[Settlement_Time].[AllMember]}, 1, SELF_AND_BEFORE)) ON ROWS, NON EMPTY {[Measures].[Net cumulative position], [Measures].[_time_max], [Measures].[_time_min]} ON COLUMNS FROM [Intraday Liquidity] CELL PROPERTIES VALUE, FORMATTED_VALUE, BACK_COLOR, FORE_COLOR, FONT_FLAGS",
       "updateMode": "once"
      },
      "serverKey": "default",
      "widgetKey": "plotly-line-chart"
     }
    },
    "tags": []
   },
   "outputs": [
    {
     "data": {
      "application/vnd.atoti.widget.v0+json": {
       "sessionId": "1747383875_555865",
       "sessionUrl": "http://localhost:10012",
       "widgetCreationCode": "session.widget"
      },
      "text/html": [
       "<img height=\"0\" width=\"0\" src=\"data:,AAAAAAAAAAAAAAAAAAAAAAAAAAAAAAAAAAAAAAAAAAAAAAAACXBIWXMAAB2HAAAdhwGP5fFl\" />"
      ],
      "text/plain": [
       "Open the notebook in JupyterLab with the Atoti JupyterLab extension enabled to build this widget."
      ]
     },
     "metadata": {},
     "output_type": "display_data"
    }
   ],
   "source": [
    "# Daily maximum liquidity usage for EUR on 1st Oct 2021\n",
    "session.widget"
   ]
  },
  {
   "cell_type": "markdown",
   "id": "dabf9d1b-637a-4ab3-ad91-8a49d7dc0330",
   "metadata": {},
   "source": [
    "Alternatively, we can make use of the measures `_time_max` and `_time_min` to compute keep only the largest positive and negative net cumulative positions across the `Settlement_Date` at the time of occurrence.  \n",
    "\n",
    "To do so, we applied a conditional check such that the value is only returned if the largest value is the same as the `Net cumulative position` value (i.e. only 1 point is returned for each measure). "
   ]
  },
  {
   "cell_type": "code",
   "execution_count": 27,
   "id": "444a5ec6-1105-4731-84a0-a56f2e615e92",
   "metadata": {},
   "outputs": [],
   "source": [
    "m[\"Largest +ve net cumulative position\"] = tt.agg.max(\n",
    "    tt.where(m[\"Net cumulative position\"] == m[\"_time_max\"], m[\"_time_max\"]),\n",
    "    scope=tt.OriginScope({l[\"Settlement_Time\"], l[\"Settlement_Date\"]}),\n",
    ")\n",
    "\n",
    "m[\"Largest -ve net cumulative position\"] = tt.agg.min(\n",
    "    tt.where(m[\"Net cumulative position\"] == m[\"_time_min\"], m[\"_time_min\"]),\n",
    "    scope=tt.OriginScope({l[\"Settlement_Time\"], l[\"Settlement_Date\"]}),\n",
    ")"
   ]
  },
  {
   "cell_type": "markdown",
   "id": "74d35914-eaf1-4e73-8a9b-22e7312899f3",
   "metadata": {},
   "source": [
    "So, we can now highlight the highest and lowest point in the curve in the visual below. "
   ]
  },
  {
   "cell_type": "code",
   "execution_count": 28,
   "id": "2bda71d7-87e5-4b9c-816b-979f29e225a1",
   "metadata": {
    "atoti": {
     "widget": {
      "filters": [
       {
        "dimensionName": "Cashflows",
        "hierarchyName": "Settlement_Currency",
        "isExclusionFilter": false,
        "members": [
         [
          "AllMember",
          "EUR"
         ]
        ],
        "type": "members"
       },
       {
        "dimensionName": "Cashflows",
        "hierarchyName": "Settlement_Date",
        "isExclusionFilter": false,
        "members": [
         [
          "AllMember",
          "2021-10-01"
         ]
        ],
        "type": "members"
       }
      ],
      "mapping": {
       "horizontalSubplots": [],
       "secondaryValues": [],
       "splitBy": [
        "ALL_MEASURES"
       ],
       "values": [
        "[Measures].[Net cumulative position]",
        "[Measures].[Largest +ve net cumulative position]",
        "[Measures].[Largest -ve net cumulative position]"
       ],
       "verticalSubplots": [
        "[Epoch].[Epoch].[Branch]"
       ],
       "xAxis": [
        "[Cashflows].[Settlement_Time].[Settlement_Time]"
       ]
      },
      "plotly": {
       "data": {
        "overridesByTraceIndex": [
         {
          "mode": "lines"
         }
        ]
       }
      },
      "query": {
       "mdx": "SELECT NON EMPTY Hierarchize(Descendants({[Cashflows].[Settlement_Time].[AllMember]}, 1, SELF_AND_BEFORE)) ON ROWS, NON EMPTY Crossjoin({[Measures].[Net cumulative position], [Measures].[Largest +ve net cumulative position], [Measures].[Largest -ve net cumulative position]}, [Epoch].[Epoch].[Branch].Members) ON COLUMNS FROM [Intraday Liquidity] CELL PROPERTIES VALUE, FORMATTED_VALUE, BACK_COLOR, FORE_COLOR, FONT_FLAGS",
       "updateMode": "once"
      },
      "serverKey": "default",
      "widgetKey": "plotly-line-chart"
     }
    },
    "editable": true,
    "slideshow": {
     "slide_type": ""
    },
    "tags": []
   },
   "outputs": [
    {
     "data": {
      "application/vnd.atoti.widget.v0+json": {
       "sessionId": "1747383875_555865",
       "sessionUrl": "http://localhost:10012",
       "widgetCreationCode": "session.widget"
      },
      "text/html": [
       "<img height=\"0\" width=\"0\" src=\"data:,AAAAAAAAAAAAAAAAAAAAAAAAAAAAAAAAAAAAAAAAAAAAAAAACXBIWXMAAB2HAAAdhwGP5fFl\" />"
      ],
      "text/plain": [
       "Open the notebook in JupyterLab with the Atoti JupyterLab extension enabled to build this widget."
      ]
     },
     "metadata": {},
     "output_type": "display_data"
    }
   ],
   "source": [
    "# Daily maximum liquidity usage for EUR on 1st Oct 2021\n",
    "session.widget"
   ]
  },
  {
   "cell_type": "markdown",
   "id": "40a39f58-925f-4a82-8210-e035cc531389",
   "metadata": {},
   "source": [
    "Since the measure `_time_min_origin_scope` is only used to showcase the different use of scope, we will delete it to avoid cluttering of the measures."
   ]
  },
  {
   "cell_type": "code",
   "execution_count": 29,
   "id": "c32156d2-9446-4447-bb7e-310151e5daf7",
   "metadata": {},
   "outputs": [],
   "source": [
    "del m[\"_time_min_origin_scope\"]"
   ]
  },
  {
   "cell_type": "markdown",
   "id": "3a11bb39-5969-4d38-984c-0c650232a81d",
   "metadata": {},
   "source": [
    "### 2.6 Intraday throughput"
   ]
  },
  {
   "cell_type": "markdown",
   "id": "1b31b1c5-be2e-40f8-b87e-f4a635c95d4e",
   "metadata": {},
   "source": [
    "Intraday throughput looks at the total payment sent across the day. Therefore, let's exclude the opening balance and look at the `Settlement_Amount` for the out flow."
   ]
  },
  {
   "cell_type": "code",
   "execution_count": 30,
   "id": "a9ee4f10-e403-438b-bb35-8d79e2e35630",
   "metadata": {},
   "outputs": [],
   "source": [
    "m[\"Intraday throughput\"] = tt.agg.sum(\n",
    "    tt.filter(\n",
    "        m[\"Settlement_Amount\"],\n",
    "        (~l[\"Status\"].isin(\"Open posn\", \"Open party\")) & (l[\"Direction\"] == \"OUT\"),\n",
    "    ),\n",
    "    scope=tt.CumulativeScope(level=l[(\"Time\", \"Time\", \"Minute\")]),\n",
    ")"
   ]
  },
  {
   "cell_type": "markdown",
   "id": "4c30c75d-6a83-46da-906b-6acef8620019",
   "metadata": {},
   "source": [
    "Once we get the running total of the outgoing cashflows, we use [`atoti.total` function](https://docs.atoti.io/latest/lib/atoti/atoti.function.total.html#) to get the total value of the throughput across the time bucket.  \n",
    "This will allow us to get the `% sent` value as specified in [BCBS248](https://www.bis.org/publ/bcbs248.pdf)."
   ]
  },
  {
   "cell_type": "code",
   "execution_count": 31,
   "id": "5f33ebab-5c98-4f1a-9d01-71eaea306736",
   "metadata": {},
   "outputs": [],
   "source": [
    "m[\"_parent_total\"] = tt.total(m[\"Intraday throughput\"], h[\"Time\"])\n",
    "m[\"% sent\"] = m[\"Intraday throughput\"] / m[\"_parent_total\"]\n",
    "m[\"% sent\"].formatter = \"DOUBLE[#.00%]\""
   ]
  },
  {
   "cell_type": "code",
   "execution_count": 32,
   "id": "5f0a0302-dfb2-4270-8945-1e1f4a3d652e",
   "metadata": {
    "atoti": {
     "height": 376,
     "widget": {
      "filters": [
       {
        "dimensionName": "Cashflows",
        "hierarchyName": "Settlement_Date",
        "isExclusionFilter": false,
        "members": [
         [
          "AllMember",
          "2021-10-01"
         ]
        ],
        "type": "members"
       },
       {
        "dimensionName": "Cashflows",
        "hierarchyName": "Settlement_Currency",
        "isExclusionFilter": false,
        "members": [
         [
          "AllMember",
          "EUR"
         ]
        ],
        "type": "members"
       }
      ],
      "mapping": {
       "columns": [
        "ALL_MEASURES"
       ],
       "measures": [
        "[Measures].[Intraday throughput]",
        "[Measures].[_parent_total]",
        "[Measures].[% sent]"
       ],
       "rows": [
        "[Time].[Time].[Hour]"
       ]
      },
      "name": "Daily maximum liquidity usage",
      "plotly": {
       "data": {
        "overridesByTraceIndex": [
         {
          "mode": "lines"
         }
        ]
       }
      },
      "query": {
       "mdx": "SELECT NON EMPTY Hierarchize(Descendants({[Time].[Time].[AllMember]}, 1, SELF_AND_BEFORE)) ON ROWS, NON EMPTY {[Measures].[Intraday throughput], [Measures].[_parent_total], [Measures].[% sent]} ON COLUMNS FROM [Intraday Liquidity] CELL PROPERTIES VALUE, FORMATTED_VALUE, BACK_COLOR, FORE_COLOR, FONT_FLAGS",
       "updateMode": "once"
      },
      "serverKey": "default",
      "widgetKey": "pivot-table"
     }
    },
    "tags": []
   },
   "outputs": [
    {
     "data": {
      "application/vnd.atoti.widget.v0+json": {
       "sessionId": "1747383875_555865",
       "sessionUrl": "http://localhost:10012",
       "widgetCreationCode": "session.widget"
      },
      "text/html": [
       "<img height=\"0\" width=\"0\" src=\"data:,AAAAAAAAAAAAAAAAAAAAAAAAAAAAAAAAAAAAAAAAAAAAAAAACXBIWXMAAB2HAAAdhwGP5fFl\" />"
      ],
      "text/plain": [
       "Open the notebook in JupyterLab with the Atoti JupyterLab extension enabled to build this widget."
      ]
     },
     "metadata": {},
     "output_type": "display_data"
    }
   ],
   "source": [
    "# Daily maximum liquidity usage\n",
    "session.widget"
   ]
  },
  {
   "cell_type": "markdown",
   "id": "5581204f-1304-469c-9544-da534b3720c9",
   "metadata": {},
   "source": [
    "Again, the `_parent_total` measure is just a technical measure. So let's hide it."
   ]
  },
  {
   "cell_type": "code",
   "execution_count": 33,
   "id": "1fb79651-cf8b-49eb-9cea-3213371002c5",
   "metadata": {},
   "outputs": [],
   "source": [
    "m[\"_parent_total\"].visible = False"
   ]
  },
  {
   "cell_type": "markdown",
   "id": "82b0dedf-45e2-4b6a-b708-cdad7fb34c17",
   "metadata": {
    "tags": []
   },
   "source": [
    "## 3 Reporting measures"
   ]
  },
  {
   "cell_type": "markdown",
   "id": "5df4885c-3e75-4b9e-b3a3-dc4923874eac",
   "metadata": {},
   "source": [
    "Based on the sample report mentioned in [BCBS248](https://www.bis.org/publ/bcbs248.pdf), a bulk of it involves the top and bottom 3 positions on various type of cashflows .  \n",
    "Below is a simple demonstration to show how we can obtain the top 3 largest positive and negative net cumulative positions for each month."
   ]
  },
  {
   "cell_type": "markdown",
   "id": "3671fb30-8321-4572-b16e-a8e2203ef186",
   "metadata": {},
   "source": [
    "#### 3.1 Ranking the measures"
   ]
  },
  {
   "cell_type": "markdown",
   "id": "f1bf18cc-6309-48c1-829a-d3c4c20f2adc",
   "metadata": {},
   "source": [
    "We [rank](https://docs.atoti.io/latest/lib/atoti/atoti.function.rank.html) the `largest +ve net cumulative position` of the `Settlement_Date` in descending order while the `largest -ve net cumulative position` in ascending order so that we can get the maximum and minimum values ranked at the top."
   ]
  },
  {
   "cell_type": "code",
   "execution_count": 34,
   "id": "26ddf1cc-c50d-4f48-bf95-76ba00db6e11",
   "metadata": {},
   "outputs": [],
   "source": [
    "m[\"Daily max ranking\"] = tt.rank(\n",
    "    m[\"Largest +ve net cumulative position\"], h[\"Settlement_Date\"], ascending=False\n",
    ")\n",
    "m[\"Daily min ranking\"] = tt.rank(\n",
    "    m[\"Largest -ve net cumulative position\"], h[\"Settlement_Date\"]\n",
    ")"
   ]
  },
  {
   "cell_type": "markdown",
   "id": "661f94c0-e540-4f47-8ee7-650a1bdc4114",
   "metadata": {},
   "source": [
    "#### 3.2 Creating measures for 1st, 2nd and 3rd in period"
   ]
  },
  {
   "cell_type": "markdown",
   "id": "2415d47b-3cfb-493b-a80f-4ff8c5957b10",
   "metadata": {},
   "source": [
    "Again, we could use filters in the Atoti content editor to interactive filter the results to show only the top 3 positions.  \n",
    "However, for reporting purpose, it is easier to create a measure for each of these, using the `filter` function programmatically.  "
   ]
  },
  {
   "cell_type": "code",
   "execution_count": 35,
   "id": "297bfe8d-c02d-43b3-bb85-d97fbbf3a4d3",
   "metadata": {},
   "outputs": [],
   "source": [
    "m[\"Max in period\"] = tt.agg.single_value(\n",
    "    tt.where(m[\"Daily max ranking\"] == 1, m[\"Largest +ve net cumulative position\"]),\n",
    "    scope=tt.OriginScope({l[\"Settlement_Date\"]}),\n",
    ")\n",
    "m[\"2nd max in period\"] = tt.agg.single_value(\n",
    "    tt.where(m[\"Daily max ranking\"] == 2, m[\"Largest +ve net cumulative position\"]),\n",
    "    scope=tt.OriginScope({l[\"Settlement_Date\"]}),\n",
    ")\n",
    "m[\"3rd max in period\"] = tt.agg.single_value(\n",
    "    tt.where(m[\"Daily max ranking\"] == 3, m[\"Largest +ve net cumulative position\"]),\n",
    "    scope=tt.OriginScope({l[\"Settlement_Date\"]}),\n",
    ")"
   ]
  },
  {
   "cell_type": "code",
   "execution_count": 36,
   "id": "77c86053-9057-4fc0-9622-672aeac6fc90",
   "metadata": {},
   "outputs": [],
   "source": [
    "m[\"Min in period\"] = tt.agg.single_value(\n",
    "    tt.where(m[\"Daily min ranking\"] == 1, m[\"Largest -ve net cumulative position\"]),\n",
    "    scope=tt.OriginScope({l[\"Settlement_Date\"]}),\n",
    ")\n",
    "m[\"2nd min in period\"] = tt.agg.single_value(\n",
    "    tt.where(m[\"Daily min ranking\"] == 2, m[\"Largest -ve net cumulative position\"]),\n",
    "    scope=tt.OriginScope({l[\"Settlement_Date\"]}),\n",
    ")\n",
    "m[\"3rd min in period\"] = tt.agg.single_value(\n",
    "    tt.where(m[\"Daily min ranking\"] == 3, m[\"Largest -ve net cumulative position\"]),\n",
    "    scope=tt.OriginScope({l[\"Settlement_Date\"]}),\n",
    ")"
   ]
  },
  {
   "cell_type": "markdown",
   "id": "34ef6d54-c63f-4677-9f27-0b54c86e1e25",
   "metadata": {},
   "source": [
    "#### 3.3 Average max over period"
   ]
  },
  {
   "cell_type": "markdown",
   "id": "3bbdb039-6377-4c8e-9009-f393adcf1799",
   "metadata": {},
   "source": [
    "To get the average max over period, simply apply the `atoti.agg.mean` function over the `largest +ve net cumulative position`.  \n",
    "Repeat the same thing for the minimum value, using the `largest -ve net cumulative position` instead."
   ]
  },
  {
   "cell_type": "code",
   "execution_count": 37,
   "id": "b9bd5254-ed4d-42b0-9781-2a4cbbb3d7f0",
   "metadata": {
    "editable": true,
    "slideshow": {
     "slide_type": ""
    },
    "tags": []
   },
   "outputs": [],
   "source": [
    "m[\"Average max over period\"] = tt.agg.mean(\n",
    "    m[\"Largest +ve net cumulative position\"],\n",
    "    scope=tt.OriginScope({l[\"Settlement_Date\"]}),\n",
    ")\n",
    "\n",
    "m[\"Average min over period\"] = tt.agg.mean(\n",
    "    m[\"Largest -ve net cumulative position\"],\n",
    "    scope=tt.OriginScope({l[\"Settlement_Date\"]}),\n",
    ")"
   ]
  },
  {
   "cell_type": "markdown",
   "id": "30cb6c90-09d9-4bf4-a9eb-7ae8aa94be64",
   "metadata": {},
   "source": [
    "The below visualization shows how easily we can expand each currency to see when the max value occurred."
   ]
  },
  {
   "cell_type": "code",
   "execution_count": 38,
   "id": "cd2bacd3-7193-4ad6-9c0b-c53cd17b8937",
   "metadata": {
    "atoti": {
     "height": 246,
     "widget": {
      "columnWidths": {
       "[Measures].[Daily max ranking]": 153,
       "[Measures].[Largest +ve net cumulative position]": 197,
       "[Measures].[Largest -ve net cumulative position]": 195.40625,
       "[Measures].[Measures]": 150.40625
      },
      "filters": [
       {
        "dimensionName": "Cashflows",
        "hierarchyName": "Dates",
        "isExclusionFilter": false,
        "members": [
         [
          "AllMember",
          "2021",
          "Q4",
          "10"
         ]
        ],
        "type": "members"
       }
      ],
      "mapping": {
       "columns": [
        "[Cashflows].[Settlement_Currency].[Settlement_Currency] => [Cashflows].[Settlement_Date].[Settlement_Date]"
       ],
       "measures": [
        "[Measures].[Max in period]",
        "[Measures].[2nd max in period]",
        "[Measures].[3rd max in period]",
        "[Measures].[Average max over period]"
       ],
       "rows": [
        "ALL_MEASURES"
       ]
      },
      "query": {
       "mdx": "SELECT NON EMPTY Hierarchize(Union(Crossjoin(Descendants({[Cashflows].[Settlement_Currency].[AllMember]}, 1, SELF_AND_BEFORE), [Cashflows].[Settlement_Date].DefaultMember), Crossjoin([Cashflows].[Settlement_Currency].[AllMember].[EUR], Hierarchize(Descendants({[Cashflows].[Settlement_Date].[AllMember]}, 1, SELF_AND_BEFORE))))) ON COLUMNS, NON EMPTY {[Measures].[Max in period], [Measures].[2nd max in period], [Measures].[3rd max in period], [Measures].[Average max over period]} ON ROWS FROM [Intraday Liquidity] CELL PROPERTIES VALUE, FORMATTED_VALUE, BACK_COLOR, FORE_COLOR, FONT_FLAGS",
       "updateMode": "once"
      },
      "queryContext": [],
      "serverKey": "default",
      "widgetKey": "pivot-table"
     }
    },
    "tags": []
   },
   "outputs": [
    {
     "data": {
      "application/vnd.atoti.widget.v0+json": {
       "sessionId": "1747383875_555865",
       "sessionUrl": "http://localhost:10012",
       "widgetCreationCode": "session.widget"
      },
      "text/html": [
       "<img height=\"0\" width=\"0\" src=\"data:,AAAAAAAAAAAAAAAAAAAAAAAAAAAAAAAAAAAAAAAAAAAAAAAACXBIWXMAAB2HAAAdhwGP5fFl\" />"
      ],
      "text/plain": [
       "Open the notebook in JupyterLab with the Atoti JupyterLab extension enabled to build this widget."
      ]
     },
     "metadata": {},
     "output_type": "display_data"
    }
   ],
   "source": [
    "# Largest positive net cumulative position\n",
    "session.widget"
   ]
  },
  {
   "cell_type": "code",
   "execution_count": 39,
   "id": "f5e8391d-2e95-43bf-baeb-72982e760f86",
   "metadata": {
    "atoti": {
     "height": 237,
     "widget": {
      "columnWidths": {
       "[Measures].[Daily max ranking]": 153,
       "[Measures].[Largest +ve net cumulative position]": 197,
       "[Measures].[Largest -ve net cumulative position]": 195.40625,
       "[Measures].[Measures]": 149.40625
      },
      "filters": [
       {
        "dimensionName": "Cashflows",
        "hierarchyName": "Dates",
        "isExclusionFilter": false,
        "members": [
         [
          "AllMember",
          "2021",
          "Q4",
          "10"
         ]
        ],
        "type": "members"
       }
      ],
      "mapping": {
       "columns": [
        "[Cashflows].[Settlement_Currency].[Settlement_Currency] => [Cashflows].[Settlement_Date].[Settlement_Date]"
       ],
       "measures": [
        "[Measures].[Min in period]",
        "[Measures].[2nd min in period]",
        "[Measures].[3rd min in period]",
        "[Measures].[Average min over period]"
       ],
       "rows": [
        "ALL_MEASURES"
       ]
      },
      "query": {
       "mdx": "SELECT NON EMPTY Hierarchize(Union(Crossjoin(Descendants({[Cashflows].[Settlement_Currency].[AllMember]}, 1, SELF_AND_BEFORE), [Cashflows].[Settlement_Date].DefaultMember), Crossjoin([Cashflows].[Settlement_Currency].[AllMember].[EUR], Hierarchize(Descendants({[Cashflows].[Settlement_Date].[AllMember]}, 1, SELF_AND_BEFORE))))) ON COLUMNS, NON EMPTY {[Measures].[Min in period], [Measures].[2nd min in period], [Measures].[3rd min in period], [Measures].[Average min over period]} ON ROWS FROM [Intraday Liquidity] CELL PROPERTIES VALUE, FORMATTED_VALUE, BACK_COLOR, FORE_COLOR, FONT_FLAGS",
       "updateMode": "once"
      },
      "queryContext": [
       {
        "key": "queriesTimeLimit",
        "value": 60
       }
      ],
      "serverKey": "default",
      "widgetKey": "pivot-table"
     }
    },
    "tags": []
   },
   "outputs": [
    {
     "data": {
      "application/vnd.atoti.widget.v0+json": {
       "sessionId": "1747383875_555865",
       "sessionUrl": "http://localhost:10012",
       "widgetCreationCode": "session.widget"
      },
      "text/html": [
       "<img height=\"0\" width=\"0\" src=\"data:,AAAAAAAAAAAAAAAAAAAAAAAAAAAAAAAAAAAAAAAAAAAAAAAACXBIWXMAAB2HAAAdhwGP5fFl\" />"
      ],
      "text/plain": [
       "Open the notebook in JupyterLab with the Atoti JupyterLab extension enabled to build this widget."
      ]
     },
     "metadata": {},
     "output_type": "display_data"
    }
   ],
   "source": [
    "# Largest negative net cumulative position\n",
    "session.widget"
   ]
  },
  {
   "cell_type": "code",
   "execution_count": 40,
   "id": "5bb3f1b7-2119-471e-a550-ccaa6a8c329d",
   "metadata": {
    "atoti": {
     "widget": {
      "filters": [
       {
        "dimensionName": "Cashflows",
        "hierarchyName": "Dates",
        "isExclusionFilter": false,
        "members": [
         [
          "AllMember",
          "2021",
          "Q4",
          "10"
         ]
        ],
        "type": "members"
       },
       {
        "dimensionName": "Cashflows",
        "hierarchyName": "Settlement_Currency",
        "isExclusionFilter": false,
        "members": [
         [
          "AllMember",
          "EUR"
         ]
        ],
        "type": "members"
       }
      ],
      "mapping": {
       "horizontalSubplots": [],
       "secondaryValues": [],
       "splitBy": [
        "ALL_MEASURES"
       ],
       "values": [
        "[Measures].[Largest +ve net cumulative position]",
        "[Measures].[Largest -ve net cumulative position]"
       ],
       "verticalSubplots": [],
       "xAxis": [
        "[Cashflows].[Settlement_Date].[Settlement_Date]"
       ]
      },
      "query": {
       "mdx": "SELECT NON EMPTY Hierarchize(Descendants({[Cashflows].[Settlement_Date].[AllMember]}, 1, SELF_AND_BEFORE)) ON ROWS, NON EMPTY {[Measures].[Largest +ve net cumulative position], [Measures].[Largest -ve net cumulative position]} ON COLUMNS FROM [Intraday Liquidity] CELL PROPERTIES VALUE, FORMATTED_VALUE, BACK_COLOR, FORE_COLOR, FONT_FLAGS",
       "updateMode": "once"
      },
      "serverKey": "default",
      "widgetKey": "plotly-line-chart"
     }
    },
    "tags": []
   },
   "outputs": [
    {
     "data": {
      "application/vnd.atoti.widget.v0+json": {
       "sessionId": "1747383875_555865",
       "sessionUrl": "http://localhost:10012",
       "widgetCreationCode": "session.widget"
      },
      "text/html": [
       "<img height=\"0\" width=\"0\" src=\"data:,AAAAAAAAAAAAAAAAAAAAAAAAAAAAAAAAAAAAAAAAAAAAAAAACXBIWXMAAB2HAAAdhwGP5fFl\" />"
      ],
      "text/plain": [
       "Open the notebook in JupyterLab with the Atoti JupyterLab extension enabled to build this widget."
      ]
     },
     "metadata": {},
     "output_type": "display_data"
    }
   ],
   "source": [
    "# Largest +ve/-ve net cumulative position trend for October 2021\n",
    "session.widget"
   ]
  },
  {
   "cell_type": "markdown",
   "id": "56ddd67f-8881-4fe9-b455-9d98c7845fec",
   "metadata": {},
   "source": [
    "#### 3.4 Organize the measures "
   ]
  },
  {
   "cell_type": "markdown",
   "id": "a4f91c38-fba2-49a3-a6e6-e7a4e75a3b5d",
   "metadata": {},
   "source": [
    "Instead of having the measures ordered alphabetically in a long list, we can organize them in folders for easier access:"
   ]
  },
  {
   "cell_type": "code",
   "execution_count": 41,
   "id": "ce105445-03f5-4915-821f-f6e5a031f129",
   "metadata": {},
   "outputs": [],
   "source": [
    "for measure in [\n",
    "    m[\"Largest +ve net cumulative position\"],\n",
    "    m[\"Daily max ranking\"],\n",
    "    m[\"Max in period\"],\n",
    "    m[\"2nd max in period\"],\n",
    "    m[\"3rd max in period\"],\n",
    "    m[\"Average max over period\"],\n",
    "]:\n",
    "    measure.folder = \"Max\"\n",
    "\n",
    "for measure in [\n",
    "    m[\"Largest -ve net cumulative position\"],\n",
    "    m[\"Daily min ranking\"],\n",
    "    m[\"Min in period\"],\n",
    "    m[\"2nd min in period\"],\n",
    "    m[\"3rd min in period\"],\n",
    "    m[\"Average min over period\"],\n",
    "]:\n",
    "    measure.folder = \"Min\""
   ]
  },
  {
   "cell_type": "markdown",
   "id": "a32ee771-b54b-4ff5-a834-218d27818178",
   "metadata": {},
   "source": [
    "## 4 Creating dashboard"
   ]
  },
  {
   "cell_type": "markdown",
   "id": "83e4a4cc-0c90-4a51-bfca-23e846e3d9f2",
   "metadata": {},
   "source": [
    "We can easily export the visuals above and put together a dashboard as shown in the GIF below:\n",
    "\n",
    "<img src=\"http://data.atoti.io/notebooks/intraday-liquidity/img/dashboard_building.gif\" width=\"800px\" />"
   ]
  },
  {
   "cell_type": "markdown",
   "id": "109b6529-e3fa-4ad2-95cf-de666f87e296",
   "metadata": {},
   "source": [
    "Check out this dashboard which we prepared beforehand!"
   ]
  },
  {
   "cell_type": "code",
   "execution_count": 42,
   "id": "3fbba67a-6b71-4f18-bc8e-b13bcfd2881c",
   "metadata": {
    "scrolled": true
   },
   "outputs": [
    {
     "data": {
      "application/vnd.atoti.link.v0+json": {
       "path": "#/dashboard/1b7",
       "sessionUrl": "http://localhost:10012"
      },
      "text/plain": [
       "http://localhost:10012/#/dashboard/1b7"
      ]
     },
     "execution_count": 42,
     "metadata": {},
     "output_type": "execute_result"
    }
   ],
   "source": [
    "session.link / \"#/dashboard/1b7\""
   ]
  },
  {
   "cell_type": "markdown",
   "id": "c4e6179c-7340-432d-9bca-411983db2ea6",
   "metadata": {},
   "source": [
    "## 5 Stress testing (what-if analysis)\n",
    "\n",
    "Simulations are a way to compare several scenarios and do what-if analysis. This helps us understand how changing the source data or a piece of the model impacts key indicators. For this use case, we can perform a source simulation in which we simulate 1 hour late payments received for the counterparty `Commerzbank`."
   ]
  },
  {
   "cell_type": "code",
   "execution_count": 43,
   "id": "6ab2cd0d-5222-4499-b4fb-861545c4658e",
   "metadata": {},
   "outputs": [],
   "source": [
    "payment_df = pd.read_parquet(\n",
    "    \"s3://data.atoti.io/notebooks/intraday-liquidity/data/cashflow_202110_counterparty.parquet\"\n",
    ")\n",
    "\n",
    "\n",
    "def shift_date_time_by_hour(x):\n",
    "    late_payment_df = payment_df[payment_df[\"Counterparty\"] == \"Commerzbank\"].copy()\n",
    "\n",
    "    # Format as datetime and push incoming payments received by x hrs (excluding opening balance)\n",
    "    late_payment_df[\"Settlement_Time\"] = pd.to_datetime(\n",
    "        late_payment_df[\"Settlement_Time\"], format=\"%H:%M:%S\"\n",
    "    )\n",
    "    late_payment_df.loc[\n",
    "        (late_payment_df[\"Direction\"] == \"IN\")\n",
    "        & (~late_payment_df[\"Status\"].isin([\"Open posn\", \"Open party\"])),\n",
    "        \"Settlement_Time\",\n",
    "    ] += pd.Timedelta(hours=x)\n",
    "\n",
    "    # Take time value only and set back to string for loading into Atoti table\n",
    "    late_payment_df[\"Settlement_Time\"] = late_payment_df[\"Settlement_Time\"].dt.time\n",
    "    late_payment_df[\"Settlement_Time\"] = late_payment_df[\"Settlement_Time\"].astype(str)\n",
    "    payment_tbl.scenarios[f\"{x} hour late payments received\"].load(late_payment_df)\n",
    "\n",
    "\n",
    "for i in range(1, 4):\n",
    "    shift_date_time_by_hour(i)"
   ]
  },
  {
   "cell_type": "markdown",
   "id": "74ad3319-7643-43e7-b039-f43bb135bf6e",
   "metadata": {},
   "source": [
    "We see the impacts of 1, 2, and 3 hour late payments received when we compare the simulations to the `Base` scenario by tracking the running balance with consideration to payments received vs. payments sent."
   ]
  },
  {
   "cell_type": "code",
   "execution_count": 44,
   "id": "bd092766-012b-4c08-954a-a05b7724ede0",
   "metadata": {
    "atoti": {
     "widget": {
      "columnWidths": {
       "[Cashflows].[Correspondent_Account].[Correspondent_Account]": 164,
       "[Cashflows].[Transaction_Id].[Transaction_Id]": 169
      },
      "filters": [
       {
        "dimensionName": "Cashflows",
        "hierarchyName": "Correspondent_Account",
        "isExclusionFilter": false,
        "members": [
         [
          "AllMember",
          "987777175"
         ]
        ],
        "type": "members"
       },
       {
        "dimensionName": "Cashflows",
        "hierarchyName": "Settlement_Currency",
        "isExclusionFilter": false,
        "members": [
         [
          "AllMember",
          "USD"
         ]
        ],
        "type": "members"
       },
       {
        "dimensionName": "Cashflows",
        "hierarchyName": "Settlement_Date",
        "isExclusionFilter": false,
        "members": [
         [
          "AllMember",
          "2021-10-01"
         ]
        ],
        "type": "members"
       },
       {
        "dimensionName": "Cashflows",
        "hierarchyName": "Counterparty",
        "isExclusionFilter": false,
        "members": [
         [
          "AllMember",
          "Commerzbank"
         ]
        ],
        "type": "members"
       }
      ],
      "mapping": {
       "columns": [
        "[Epoch].[Epoch].[Branch]",
        "ALL_MEASURES"
       ],
       "measures": [
        "[Measures].[Net_Settlement_Amount]"
       ],
       "rows": [
        "[Cashflows].[Transaction_Date].[Transaction_Date]",
        "[Cashflows].[Correspondent_Account].[Correspondent_Account]",
        "[Cashflows].[Counterparty].[Counterparty]",
        "[Cashflows].[Transaction_Id].[Transaction_Id]",
        "[Cashflows].[Settlement_Time].[Settlement_Time]",
        "[Cashflows].[Direction].[Direction]"
       ]
      },
      "query": {
       "mdx": "SELECT NON EMPTY Crossjoin([Epoch].[Epoch].[Branch].Members, {[Measures].[Net_Settlement_Amount]}) ON COLUMNS, NON EMPTY Crossjoin(Hierarchize(Descendants({[Cashflows].[Transaction_Date].[ALL].[AllMember]}, 1, SELF_AND_BEFORE)), Hierarchize(Descendants({[Cashflows].[Correspondent_Account].[ALL].[AllMember]}, 1, SELF_AND_BEFORE)), Hierarchize(Descendants({[Cashflows].[Counterparty].[ALL].[AllMember]}, 1, SELF_AND_BEFORE)), Hierarchize(Descendants({[Cashflows].[Transaction_Id].[ALL].[AllMember]}, 1, SELF_AND_BEFORE)), Hierarchize(Descendants({[Cashflows].[Settlement_Time].[ALL].[AllMember]}, 1, SELF_AND_BEFORE)), Hierarchize(Descendants({[Cashflows].[Direction].[ALL].[AllMember]}, 1, SELF_AND_BEFORE))) ON ROWS FROM [Intraday Liquidity] CELL PROPERTIES VALUE, FORMATTED_VALUE, BACK_COLOR, FORE_COLOR, FONT_FLAGS",
       "updateMode": "once"
      },
      "queryContext": [
       {
        "key": "mdx.hiddengrandtotals",
        "value": "0,1"
       },
       {
        "key": "mdx.hiddensubtotals",
        "value": "[Cashflows].[Transaction_Date].[Transaction_Date],[Cashflows].[Correspondent_Account].[Correspondent_Account],[Cashflows].[Counterparty].[Counterparty],[Cashflows].[Transaction_Id].[Transaction_Id],[Cashflows].[Settlement_Time].[Settlement_Time]"
       }
      ],
      "serverKey": "default",
      "widgetKey": "pivot-table"
     }
    }
   },
   "outputs": [
    {
     "data": {
      "application/vnd.atoti.widget.v0+json": {
       "sessionId": "1747383875_555865",
       "sessionUrl": "http://localhost:10012",
       "widgetCreationCode": "session.widget"
      },
      "text/html": [
       "<img height=\"0\" width=\"0\" src=\"data:,AAAAAAAAAAAAAAAAAAAAAAAAAAAAAAAAAAAAAAAAAAAAAAAACXBIWXMAAB2HAAAdhwGP5fFl\" />"
      ],
      "text/plain": [
       "Open the notebook in JupyterLab with the Atoti JupyterLab extension enabled to build this widget."
      ]
     },
     "metadata": {},
     "output_type": "display_data"
    }
   ],
   "source": [
    "session.widget"
   ]
  },
  {
   "cell_type": "code",
   "execution_count": 45,
   "id": "54df6d04-4041-4b71-80a0-5cbe03dd6f4e",
   "metadata": {
    "atoti": {
     "widget": {
      "columnWidths": {
       "[Cashflows].[Correspondent_Name].[Correspondent_Name]": 381,
       "[Epoch].[Epoch].[1 hr late payments received],[Measures].[Net cumulative position]": 180,
       "[Measures].[Gross payment sent]": 138,
       "[Measures].[Running balance Min]": 139,
       "[Measures].[Running balance],[Epoch].[Epoch].[1 hr late payments]": 175,
       "[Measures].[Settlement_Amount]": 138
      },
      "filters": [
       {
        "dimensionName": "Cashflows",
        "hierarchyName": "Correspondent_Account",
        "isExclusionFilter": false,
        "members": [
         [
          "AllMember",
          "987777175"
         ]
        ],
        "type": "members"
       },
       {
        "dimensionName": "Cashflows",
        "hierarchyName": "Settlement_Currency",
        "isExclusionFilter": false,
        "members": [
         [
          "AllMember",
          "USD"
         ]
        ],
        "type": "members"
       },
       {
        "dimensionName": "Cashflows",
        "hierarchyName": "Settlement_Date",
        "isExclusionFilter": false,
        "members": [
         [
          "AllMember",
          "2021-09-01"
         ],
         [
          "AllMember",
          "2021-10-01"
         ]
        ],
        "type": "members"
       }
      ],
      "mapping": {
       "horizontalSubplots": [],
       "secondaryValues": [],
       "splitBy": [
        "[Epoch].[Epoch].[Branch]",
        "ALL_MEASURES"
       ],
       "values": [
        "[Measures].[Running balance]"
       ],
       "verticalSubplots": [],
       "xAxis": [
        "[Cashflows].[Settlement_Time].[Settlement_Time]"
       ]
      },
      "query": {
       "mdx": "SELECT NON EMPTY Crossjoin([Epoch].[Epoch].[Branch].Members, {[Measures].[Running balance]}) ON COLUMNS, NON EMPTY Hierarchize(Descendants({[Cashflows].[Settlement_Time].[ALL].[AllMember]}, 1, SELF_AND_BEFORE)) ON ROWS FROM [Intraday Liquidity] CELL PROPERTIES VALUE, FORMATTED_VALUE, BACK_COLOR, FORE_COLOR, FONT_FLAGS",
       "updateMode": "once"
      },
      "serverKey": "default",
      "widgetKey": "plotly-line-chart"
     }
    }
   },
   "outputs": [
    {
     "data": {
      "application/vnd.atoti.widget.v0+json": {
       "sessionId": "1747383875_555865",
       "sessionUrl": "http://localhost:10012",
       "widgetCreationCode": "session.widget"
      },
      "text/html": [
       "<img height=\"0\" width=\"0\" src=\"data:,AAAAAAAAAAAAAAAAAAAAAAAAAAAAAAAAAAAAAAAAAAAAAAAACXBIWXMAAB2HAAAdhwGP5fFl\" />"
      ],
      "text/plain": [
       "Open the notebook in JupyterLab with the Atoti JupyterLab extension enabled to build this widget."
      ]
     },
     "metadata": {},
     "output_type": "display_data"
    }
   ],
   "source": [
    "session.widget"
   ]
  },
  {
   "cell_type": "markdown",
   "id": "18fcd70c-50d4-4f51-9311-f6387824166e",
   "metadata": {},
   "source": [
    "Alternatively, we can track the _Net cumulative positions_ to consider the impacts on liquidity usage for the additional scenarios."
   ]
  },
  {
   "cell_type": "code",
   "execution_count": 46,
   "id": "21710dc1-84b6-493b-ad48-bc986cd6a202",
   "metadata": {
    "atoti": {
     "widget": {
      "filters": [
       {
        "dimensionName": "Cashflows",
        "hierarchyName": "Correspondent_Account",
        "isExclusionFilter": false,
        "members": [
         [
          "AllMember",
          "36266668"
         ]
        ],
        "type": "members"
       },
       {
        "dimensionName": "Cashflows",
        "hierarchyName": "Settlement_Currency",
        "isExclusionFilter": false,
        "members": [
         [
          "AllMember",
          "USD"
         ]
        ],
        "type": "members"
       },
       {
        "dimensionName": "Cashflows",
        "hierarchyName": "Settlement_Date",
        "isExclusionFilter": false,
        "members": [
         [
          "AllMember",
          "2021-10-14"
         ]
        ],
        "type": "members"
       }
      ],
      "mapping": {
       "horizontalSubplots": [],
       "secondaryValues": [],
       "splitBy": [
        "[Epoch].[Epoch].[Branch]",
        "ALL_MEASURES"
       ],
       "values": [
        "[Measures].[Net cumulative position]",
        "[Measures].[Largest +ve net cumulative position]",
        "[Measures].[Largest -ve net cumulative position]"
       ],
       "verticalSubplots": [],
       "xAxis": [
        "[Cashflows].[Settlement_Time].[Settlement_Time]"
       ]
      },
      "query": {
       "mdx": "SELECT NON EMPTY Hierarchize(Descendants({[Cashflows].[Settlement_Time].[ALL].[AllMember]}, 1, SELF_AND_BEFORE)) ON ROWS, NON EMPTY Crossjoin([Epoch].[Epoch].[Branch].Members, {[Measures].[Net cumulative position], [Measures].[Largest +ve net cumulative position], [Measures].[Largest -ve net cumulative position]}) ON COLUMNS FROM [Intraday Liquidity] CELL PROPERTIES VALUE, FORMATTED_VALUE, BACK_COLOR, FORE_COLOR, FONT_FLAGS",
       "updateMode": "once"
      },
      "serverKey": "default",
      "widgetKey": "plotly-line-chart"
     }
    }
   },
   "outputs": [
    {
     "data": {
      "application/vnd.atoti.widget.v0+json": {
       "sessionId": "1747383875_555865",
       "sessionUrl": "http://localhost:10012",
       "widgetCreationCode": "session.widget"
      },
      "text/html": [
       "<img height=\"0\" width=\"0\" src=\"data:,AAAAAAAAAAAAAAAAAAAAAAAAAAAAAAAAAAAAAAAAAAAAAAAACXBIWXMAAB2HAAAdhwGP5fFl\" />"
      ],
      "text/plain": [
       "Open the notebook in JupyterLab with the Atoti JupyterLab extension enabled to build this widget."
      ]
     },
     "metadata": {},
     "output_type": "display_data"
    }
   ],
   "source": [
    "session.widget"
   ]
  },
  {
   "cell_type": "markdown",
   "id": "77fd3a09-4c27-41d1-b776-0d57993b80e4",
   "metadata": {},
   "source": [
    "## 6 Intraday real-time monitoring"
   ]
  },
  {
   "cell_type": "markdown",
   "id": "d05ac510-28d6-4cdd-903f-7b82b95cd380",
   "metadata": {},
   "source": [
    "We have prepared some cashflow transactions for 15th Oct 2021. Before you continue with the below sections, open up the dashboard below and ensure that the quick filter is on the correct settlement date."
   ]
  },
  {
   "cell_type": "code",
   "execution_count": 47,
   "id": "4bb58eb3-ba1a-4a67-ba00-d58be75bc810",
   "metadata": {},
   "outputs": [
    {
     "data": {
      "application/vnd.atoti.link.v0+json": {
       "path": "#/dashboard/1fc",
       "sessionUrl": "http://localhost:10012"
      },
      "text/plain": [
       "http://localhost:10012/#/dashboard/1fc"
      ]
     },
     "execution_count": 47,
     "metadata": {},
     "output_type": "execute_result"
    }
   ],
   "source": [
    "session.link / \"#/dashboard/1fc\""
   ]
  },
  {
   "cell_type": "markdown",
   "id": "6827a22e-0ffc-406e-8fa5-80919005ba77",
   "metadata": {},
   "source": [
    "Let's simulate some real-time cashflows."
   ]
  },
  {
   "cell_type": "code",
   "execution_count": 48,
   "id": "32787045-7264-4388-8850-b11ee7bd0126",
   "metadata": {
    "tags": []
   },
   "outputs": [],
   "source": [
    "# Keep the minimum balance in order to keep the breach in case the running balance moves back up\n",
    "m[\"Running balance Min\"] = tt.agg.min(\n",
    "    m[\"Running balance\"], scope=tt.OriginScope({l[\"Settlement_Time\"]})\n",
    ")\n",
    "\n",
    "m[\"Running balance Max\"] = tt.agg.max(\n",
    "    m[\"Running balance\"], scope=tt.OriginScope({l[\"Settlement_Time\"]})\n",
    ")"
   ]
  },
  {
   "cell_type": "code",
   "execution_count": 49,
   "id": "d83db7f4-e530-4068-9c5d-7d26024f3b61",
   "metadata": {
    "tags": []
   },
   "outputs": [],
   "source": [
    "# Create some limits\n",
    "m[\"Running balance Min KPI Status\"] = tt.where(\n",
    "    m[\"Running balance Min\"] < 1330000, \"❌\", \"✅\"\n",
    ")\n",
    "m[\"Running balance KPI Status\"] = tt.where(m[\"Running balance\"] < 1330000, \"❌\", \"✅\")"
   ]
  },
  {
   "cell_type": "code",
   "execution_count": 50,
   "id": "e11857c7-9eda-46a7-9899-cd9727a1401c",
   "metadata": {},
   "outputs": [],
   "source": [
    "rt_chunks_df = pd.read_csv(\n",
    "    \"s3://data.atoti.io/notebooks/intraday-liquidity/data/cashflow_realtime_20211015_counterparty.csv\",\n",
    "    chunksize=50,\n",
    "    parse_dates=[\"Transaction_Date\", \"Settlement_Date\"],\n",
    ")"
   ]
  },
  {
   "cell_type": "code",
   "execution_count": 51,
   "id": "19f60865-63fc-4dbe-9fea-4ad18b0ab2bd",
   "metadata": {},
   "outputs": [
    {
     "name": "stdout",
     "output_type": "stream",
     "text": [
      "..............................................................................................................End\n"
     ]
    }
   ],
   "source": [
    "# Columns to exclude\n",
    "columns_to_exclude = [\n",
    "    \"Settlement_Date_auto_yyyy\",\n",
    "    \"Settlement_Date_auto_QQQ\",\n",
    "    \"Settlement_Date_auto_MM\",\n",
    "    \"Settlement_Date_auto_dd\",\n",
    "]\n",
    "\n",
    "# Determine final list of clumns to load (those in payment_tbl minus excluded columns)\n",
    "columns_to_load = [col for col in payment_tbl if col not in columns_to_exclude]\n",
    "\n",
    "for chunk in rt_chunks_df:\n",
    "    t = chunk.reset_index()\n",
    "    # loads only the relevant columns\n",
    "    # https://github.com/atoti/atoti/issues/758\n",
    "    payment_tbl.load(t[columns_to_load])\n",
    "    print(\".\", end=\"\")\n",
    "    time.sleep(1)\n",
    "print(\"End\")"
   ]
  },
  {
   "cell_type": "markdown",
   "id": "6bab1d9e-8bd0-45c1-8f61-12eaabec83d4",
   "metadata": {},
   "source": [
    "Check out how responsive the dashboard is, loading 50 records at 1s throttled speed:\n",
    "\n",
    "<img src=\"http://data.atoti.io/notebooks/intraday-liquidity/img/realtime_cashflow_monitoring.gif\" width=\"850px\" />"
   ]
  },
  {
   "cell_type": "markdown",
   "id": "60080e03-e7b5-4885-a8a5-f402c8727805",
   "metadata": {
    "editable": true,
    "slideshow": {
     "slide_type": ""
    },
    "tags": []
   },
   "source": [
    "<div style=\"text-align: center;\" ><a href=\"https://www.atoti.io/?utm_source=gallery&utm_content=intraday_liquidity\" target=\"_blank\" rel=\"noopener noreferrer\"><img src=\"https://data.atoti.io/notebooks/banners/Your-turn-to-try-Atoti.jpg\" alt=\"Try Atoti\"></a></div>"
   ]
  }
 ],
 "metadata": {
  "kernelspec": {
   "display_name": "Python 3 (ipykernel)",
   "language": "python",
   "name": "python3"
  },
  "language_info": {
   "codemirror_mode": {
    "name": "ipython",
    "version": 3
   },
   "file_extension": ".py",
   "mimetype": "text/x-python",
   "name": "python",
   "nbconvert_exporter": "python",
   "pygments_lexer": "ipython3",
   "version": "3.11.10"
  },
  "toc-autonumbering": false,
  "toc-showmarkdowntxt": false,
  "widgets": {
   "application/vnd.jupyter.widget-state+json": {
    "state": {},
    "version_major": 2,
    "version_minor": 0
   }
  }
 },
 "nbformat": 4,
 "nbformat_minor": 5
}
