{
 "cells": [
  {
   "cell_type": "markdown",
   "id": "ac3fbb12-82a8-4e9f-aa4e-e1ad414ce283",
   "metadata": {},
   "source": [
    "# DirectQuery: Combining Atoti and Data Warehouses"
   ]
  },
  {
   "cell_type": "markdown",
   "id": "a671e16d-c06b-432f-92c6-5b2d2f7043bd",
   "metadata": {},
   "source": [
    "We know Atoti provides in-memory analytics for big data. This means that we hold data in memory and perform aggregation on the fly in order to achieve fast and dynamic computations. In our usual Atoti setup, the hosting server requires a memory size that's about 1.5 times of the amount of data that gets loaded into the cube. However, with Atoti's DirectQuery, we can better support our users who store their data on the cloud! In fact, it applies for on-premise databases such as [ClickHouse](https://clickhouse.com/clickhouse) and [Microsoft SQL Server](https://www.microsoft.com/en-sg/sql-server/sql-server-downloads) too.  \n",
    "\n",
    "<img src=\"https://data.atoti.io/notebooks/direct-query/img/cost_vs_performance.png\" width=\"850px\"/>\n",
    "\n",
    "In a gist, here's what DirectQuery offers:  \n",
    "\n",
    "- Scalability\n",
    "\n",
    "> Leveraging the scalability of cloud data warehouse, the server that hosts Atoti only has to take into consideration the amount of data that gets queried on a daily basis.  \n",
    "> Instead of storing all of the data in physical memory, DirectQuery enables us to query the Cloud database directly, reducing the need for memory in the hosting server.  \n",
    "\n",
    "- Cost savings\n",
    "\n",
    "> Other than saving on the memory required for the hosting server, DirectQuery helps to save on the data transfer costs.  \n",
    "> While cloud data warehouse is cost-effective, we incur costs when we perform queries.  \n",
    "> We can reduce querying to the Cloud database by loading an aggregated cache in memory for the most frequently queried data.  \n",
    "\n",
    "- Technology agnosticism\n",
    "\n",
    "> With changes to only a few lines of data connectivity code in Atoti, we can easily switch from one Cloud service provider to another without impacting the Atoti server.  \n",
    "> We can even switch over to other data connectors such as physical files.  \n",
    "\n",
    "\n",
    "This notebook provides a quick introduction to how we can connect to Google BigQuery and create an Atoti cube."
   ]
  },
  {
   "cell_type": "markdown",
   "id": "f23aeb88-5455-44ee-892d-4aa7fc2dbfb7",
   "metadata": {},
   "source": [
    "<div style=\"text-align: center;\" ><a href=\"https://www.atoti.io/?utm_source=gallery&utm_content=directquery-intro\" target=\"_blank\" rel=\"noopener noreferrer\"><img src=\"https://data.atoti.io/notebooks/banners/Discover-Atoti-now.png\" alt=\"Try Atoti\"></a></div>"
   ]
  },
  {
   "cell_type": "markdown",
   "id": "663b2051-11e1-4815-8a2c-fde3d450d07b",
   "metadata": {},
   "source": [
    "## Google BigQuery configuration"
   ]
  },
  {
   "cell_type": "markdown",
   "id": "1db76b03-dbe0-4223-a656-8b7e9e2ff260",
   "metadata": {},
   "source": [
    "### Step 1 — Create role with permissions\n",
    "\n",
    "- Login to Google Cloud console.\n",
    "- Navigate to __IAM & Admin__ > __Roles__.  \n",
    "- Create a role with the following permission for the DirectQuery users:  \n",
    "    - `bigquery.datasets.get`\n",
    "    - `bigquery.jobs.create`\n",
    "    - `bigquery.readsessions.create`\n",
    "    - `bigquery.readsessions.getData`\n",
    "    - `bigquery.readsessions.update`\n",
    "    - `bigquery.routines.get`\n",
    "    - `bigquery.tables.get`\n",
    "    - `bigquery.tables.getData`\n",
    "    - `bigquery.tables.list`\n",
    "\n",
    "⚠️ **Important:** Having trouble pulling your data after setting up your account? Confirm that the above permissions have been set up properly!  \n",
    "\n",
    "<img src=\"https://data.atoti.io/notebooks/direct-query/img/bigquery_permission.png\" />\n",
    "\n",
    "💡 **Note:** For more details, refer to the [Atoti Server documentation](https://docs.activeviam.com/products/atoti/server/latest/docs/directquery/connect_to_external/connect_to_bigquery/)."
   ]
  },
  {
   "cell_type": "markdown",
   "id": "2143280e-d2b0-4da1-b20d-78af65d26753",
   "metadata": {},
   "source": [
    "### Step 2 — Create Service Account\n",
    "\n",
    "* Under **IAM & Admin**, navigate to **Service Accounts**.\n",
    "* Create a service account and assign the role created in Step 1.\n",
    "\n",
    "    <img src=\"https://data.atoti.io/notebooks/direct-query/img/service_account.png\" width=\"700px\"/>  "
   ]
  },
  {
   "cell_type": "markdown",
   "id": "03e75ceb-055a-4986-aa8d-6858422b260a",
   "metadata": {
    "tags": []
   },
   "source": [
    "### Step 3 — Generate API Key \n",
    "\n",
    "- Navigate to the __KEYS__ tab and generate a new key.  \n",
    "\n",
    "    <img src=\"https://data.atoti.io/notebooks/direct-query/img/create_key.png\" />  \n",
    "\n",
    "- Select `JSON` as key type and save the downloaded key to a server folder:  \n",
    "\n",
    "    <img src=\"https://data.atoti.io/notebooks/direct-query/img/json_key.png\" />\n",
    "\n",
    "- Configure environment variable pointing to the JSON key. In this use case, our environment variable is `DQ_GOOGLE_CREDENTIAL`:  \n",
    "\n",
    "    <img src=\"https://data.atoti.io/notebooks/direct-query/img/environment_variable.png\" />  \n",
    "\n",
    "💡 **Note:** Alternatively, we can set up [Application Default Credentials](https://cloud.google.com/docs/authentication/provide-credentials-adc) for authentication.  "
   ]
  },
  {
   "cell_type": "markdown",
   "id": "95e30413-d630-4b1b-a304-d824e9649c3d",
   "metadata": {},
   "source": [
    "## Database set up  \n",
    "\n",
    "To try out this notebook, you can setup the database schema and tables using the [database script](db_schema.sql) in the use case folder.  "
   ]
  },
  {
   "cell_type": "markdown",
   "id": "fcfd6d72-801a-460c-9e1f-4e0843909442",
   "metadata": {},
   "source": [
    "## Atoti Setup"
   ]
  },
  {
   "cell_type": "markdown",
   "id": "8857ebb1-032f-4b69-84e6-b8cf7e431def",
   "metadata": {},
   "source": [
    "We import [Atoti](https://docs.atoti.io/latest/getting_started/installation.html) library and create the [Atoti Session](https://docs.atoti.io/latest/api/atoti.Session.html#atoti.Session) as we always do.  "
   ]
  },
  {
   "cell_type": "code",
   "execution_count": 1,
   "id": "7d97f0ea-5b39-4c60-9a10-1cae5a22616d",
   "metadata": {
    "tags": []
   },
   "outputs": [],
   "source": [
    "import os\n",
    "import atoti as tt"
   ]
  },
  {
   "cell_type": "code",
   "execution_count": 2,
   "id": "3898f076-a031-49b7-a75f-074008d89a26",
   "metadata": {
    "tags": []
   },
   "outputs": [],
   "source": [
    "session = tt.Session()"
   ]
  },
  {
   "cell_type": "markdown",
   "id": "9e855ec8-18bb-46fa-8e99-751edafeb94c",
   "metadata": {},
   "source": [
    "## DirectQuery Prerequisites"
   ]
  },
  {
   "cell_type": "markdown",
   "id": "01a8923b-80b3-4bfd-86a0-2d705d4bb805",
   "metadata": {},
   "source": [
    "DirectQuery supports a few [databases](https://docs.atoti.io/latest/reference.html#directquery). For each of these databases, we have to install its respective Python plugin.  \n",
    "- `atoti-directquery-bigquery` : To use DirectQuery on Google BigQuery.\n",
    "- `atoti-directquery-clickhouse` : To use DirectQuery with ClickHouse.\n",
    "- `atoti-directquery-databricks` : To use DirectQuery on Databricks.\n",
    "- `atoti-directquery-mssql` : To use DirectQuery with Microsoft SQL Server.\n",
    "- `atoti-directquery-redshift` : To use DirectQuery on Amazon Redshift.\n",
    "- `atoti-directquery-snowflake` : To use DirectQuery on Snowflake.\n",
    "- `atoti-directquery-synapse` : To use DirectQuery on Azure Synapse Analytics.  \n",
    "\n",
    "In our example, we install the plugin for Google BigQuery. Uncomment the below line to install the plugin if it isn't installed.  \n",
    "\n",
    "⚠️ **Important:** We only support one type of database connection per Atoti session."
   ]
  },
  {
   "cell_type": "code",
   "execution_count": 3,
   "id": "af8780d7-ec54-481a-98d7-4cc9f7e030c1",
   "metadata": {
    "tags": []
   },
   "outputs": [],
   "source": [
    "# !pip install atoti-directquery-bigquery"
   ]
  },
  {
   "cell_type": "markdown",
   "id": "1d997a63-e2db-48f9-b501-0532c5eabb3d",
   "metadata": {},
   "source": [
    "We will be using two components from the DirectQueryPlugin:\n",
    "- [BigqueryConnectionInfo](https://docs.atoti.io/latest/api/atoti_directquery_bigquery.BigqueryConnectionInfo.html#atoti_directquery_bigquery.BigqueryConnectionInfo): Configure the connection information to BigQuery.\n",
    "- [BigqueryTableOptions](https://docs.atoti.io/latest/api/atoti_directquery_bigquery.BigqueryTableOptions.html#atoti_directquery_bigquery.BigqueryTableOptions): Configure the table options about the external table to create in Atoti.  \n",
    "\n",
    "⚠️ **Important:** Use the corresponding components for different databases if we are using a different one from BigQuery. E.g. we use [`ClickhouseConnectionInfo`](https://docs.atoti.io/latest/api/atoti_directquery_clickhouse.ClickhouseConnectionInfo.html#atoti_directquery_clickhouse.ClickhouseConnectionInfo) and [`ClickhouseTableOptions`](https://docs.atoti.io/latest/api/atoti_directquery_clickhouse.ClickhouseTableOptions.html#atoti_directquery_clickhouse.ClickhouseTableOptions) if we are connecting to [ClickHouse](https://clickhouse.com/)."
   ]
  },
  {
   "cell_type": "markdown",
   "id": "4509d71b-4d1b-4297-b18a-10430b128507",
   "metadata": {},
   "source": [
    "## Connection setup to Google BigQuery"
   ]
  },
  {
   "cell_type": "code",
   "execution_count": 4,
   "id": "f5eb2f90-be60-4332-80d2-1a5cd83147d4",
   "metadata": {
    "tags": []
   },
   "outputs": [],
   "source": [
    "from atoti_directquery_bigquery import BigqueryConnectionInfo"
   ]
  },
  {
   "cell_type": "markdown",
   "id": "00b90385-93af-479f-888a-bc0677f73eb2",
   "metadata": {},
   "source": [
    "In the below snippet, we use the environment variable to obtain the path to the [API key generated previous in Step 3](#Step-3-—-Generate-API-Key). Setting the credential path into `BigqueryConnectionInfo`, we can invoke the connection to the external database.  "
   ]
  },
  {
   "cell_type": "code",
   "execution_count": 5,
   "id": "ea50d105-284f-4296-b654-b5465037d634",
   "metadata": {
    "tags": []
   },
   "outputs": [],
   "source": [
    "credential = os.environ[\"DQ_GOOGLE_CREDENTIAL\"]\n",
    "connection_info = BigqueryConnectionInfo(credential)\n",
    "\n",
    "external_database = session.connect_to_external_database(connection_info)"
   ]
  },
  {
   "cell_type": "markdown",
   "id": "8e7f4c10-5dc6-4c53-aeea-ef4864471caf",
   "metadata": {},
   "source": [
    "### Discover External Tables"
   ]
  },
  {
   "cell_type": "markdown",
   "id": "51f3c2ee-c57b-49df-9756-60c96d9b0734",
   "metadata": {
    "tags": []
   },
   "source": [
    "Once connected, we can discover the tables available to us from the external database."
   ]
  },
  {
   "cell_type": "code",
   "execution_count": 6,
   "id": "5e85bd6f-dd6a-4ab8-a2f2-51d7759466de",
   "metadata": {
    "tags": []
   },
   "outputs": [
    {
     "data": {
      "application/json": {
       "activeviam-dq-tutorial": {
        "tutorial": [
         "PRODUCTS",
         "SALES"
        ]
       }
      },
      "text/html": [
       "<ul>\n",
       "<li>BIGQUERY\n",
       "  <ul>\n",
       "  <li>activeviam-dq-tutorial\n",
       "    <ul>\n",
       "    <li>tutorial\n",
       "      <ol>\n",
       "      <li>PRODUCTS</li>\n",
       "      <li>SALES</li>\n",
       "      </ol>    </li>\n",
       "    </ul>\n",
       "  </li>\n",
       "  </ul>\n",
       "</li>\n",
       "</ul>\n"
      ],
      "text/plain": [
       "<atoti.directquery.external_tables.ExternalTables at 0x103e1efb0>"
      ]
     },
     "execution_count": 6,
     "metadata": {
      "application/json": {
       "expanded": false,
       "root": "BIGQUERY"
      }
     },
     "output_type": "execute_result"
    }
   ],
   "source": [
    "external_database.tables"
   ]
  },
  {
   "cell_type": "markdown",
   "id": "4187eaef-cae3-44ca-80c1-dd952dd3faab",
   "metadata": {},
   "source": [
    "If the database has many schemas, we can perform a filter to access only the schema that we want."
   ]
  },
  {
   "cell_type": "code",
   "execution_count": 7,
   "id": "63c5fafe-05e1-429e-8f35-9f3f072e34f7",
   "metadata": {
    "tags": []
   },
   "outputs": [
    {
     "data": {
      "application/json": {
       "activeviam-dq-tutorial": {
        "tutorial": [
         "PRODUCTS",
         "SALES"
        ]
       }
      },
      "text/html": [
       "<ul>\n",
       "<li>BIGQUERY\n",
       "  <ul>\n",
       "  <li>activeviam-dq-tutorial\n",
       "    <ul>\n",
       "    <li>tutorial\n",
       "      <ol>\n",
       "      <li>PRODUCTS</li>\n",
       "      <li>SALES</li>\n",
       "      </ol>    </li>\n",
       "    </ul>\n",
       "  </li>\n",
       "  </ul>\n",
       "</li>\n",
       "</ul>\n"
      ],
      "text/plain": [
       "<atoti.directquery.external_tables.ExternalTables at 0x11fe8e5c0>"
      ]
     },
     "execution_count": 7,
     "metadata": {
      "application/json": {
       "expanded": false,
       "root": "BIGQUERY"
      }
     },
     "output_type": "execute_result"
    }
   ],
   "source": [
    "external_database.tables._filter(schema_pattern=\"tutorial\")"
   ]
  },
  {
   "cell_type": "markdown",
   "id": "f1308a2c-a4d2-40e5-9985-7013fa05a9fb",
   "metadata": {},
   "source": [
    "### Discover Table Columns"
   ]
  },
  {
   "cell_type": "markdown",
   "id": "e72119a9-ed38-4d83-a8a5-1fe021b48e5c",
   "metadata": {},
   "source": [
    "If a table name is unique in the database, we can check its structure directly using its name:  "
   ]
  },
  {
   "cell_type": "code",
   "execution_count": 8,
   "id": "f91519b6-a36b-4f0c-b1f0-949b0be22d5f",
   "metadata": {
    "tags": []
   },
   "outputs": [
    {
     "data": {
      "application/json": {
       "DATE": "LocalDate",
       "PRODUCT": "String",
       "QUANTITY": "long",
       "SALE_ID": "String",
       "SHOP": "String",
       "UNIT_PRICE": "double"
      },
      "text/html": [
       "<ul>\n",
       "<li>SALES\n",
       "  <ul>\n",
       "  <li>SALE_ID: String</li>\n",
       "  <li>DATE: LocalDate</li>\n",
       "  <li>SHOP: String</li>\n",
       "  <li>PRODUCT: String</li>\n",
       "  <li>QUANTITY: long</li>\n",
       "  <li>UNIT_PRICE: double</li>\n",
       "  </ul>\n",
       "</li>\n",
       "</ul>\n"
      ],
      "text/plain": [
       "<atoti_directquery_bigquery.table.BigqueryTable at 0x11fe8cc10>"
      ]
     },
     "execution_count": 8,
     "metadata": {
      "application/json": {
       "expanded": true,
       "root": "SALES"
      }
     },
     "output_type": "execute_result"
    }
   ],
   "source": [
    "external_database.tables[\"SALES\"]"
   ]
  },
  {
   "cell_type": "markdown",
   "id": "1d9ef3fb-85a5-472b-aa12-8a88e3d1e6d9",
   "metadata": {},
   "source": [
    "However, to be precise, it is a good practice to refer to the table using its database, schema and table names. Uncomment and execute the following cells as to try this out."
   ]
  },
  {
   "cell_type": "code",
   "execution_count": 9,
   "id": "247c876c-2b44-4b0f-8bcf-8864350bb3d6",
   "metadata": {
    "tags": []
   },
   "outputs": [],
   "source": [
    "# db_name = \"<database name here>\"\n",
    "# db_schema = \"tutorial\"\n",
    "# table_sales = \"SALES\""
   ]
  },
  {
   "cell_type": "code",
   "execution_count": 10,
   "id": "fbfde589-b458-474d-8665-af7b016598bc",
   "metadata": {
    "tags": []
   },
   "outputs": [],
   "source": [
    "# external_database.tables[db_name, db_schema, table_sales]"
   ]
  },
  {
   "cell_type": "markdown",
   "id": "85d14ebe-eb8a-4216-8564-8330b4b7b0d9",
   "metadata": {},
   "source": [
    "## Add External Table to Atoti"
   ]
  },
  {
   "cell_type": "markdown",
   "id": "8fa1b581-ee16-4730-8ea2-b29fa14ee03a",
   "metadata": {},
   "source": [
    "Since we have connected to the external database and we are able to see its structure, we can add the required tables to the Atoti session.  \n",
    "\n",
    "Using [BigqueryTableOptions](https://docs.atoti.io/latest/api/atoti_directquery_bigquery.BigqueryTableOptions.html#atoti_directquery_bigquery.BigqueryTableOptions), we can define additional options to the table that we will create in Atoti:\n",
    "\n",
    "- `array_conversion`: Converting values spread over multiple columns into array columns.\n",
    "- `clustering_columns`: Columns used for splitting up queries.\n",
    "- `keys`: Keys used to identify unique rows for updating of data.\n",
    "\n",
    "We will only use `keys` and `clustering_columns` in our example."
   ]
  },
  {
   "cell_type": "code",
   "execution_count": 11,
   "id": "7dab34b4-ca6f-4c80-8ba9-f8534f9eae5b",
   "metadata": {
    "tags": []
   },
   "outputs": [],
   "source": [
    "from atoti_directquery_bigquery import BigqueryTableOptions"
   ]
  },
  {
   "cell_type": "markdown",
   "id": "790b7a07-c762-438a-878e-de3611f39b5c",
   "metadata": {},
   "source": [
    "Similar to how we create keys for Atoti tables, we set the key columns in the `BigqueryTableOptions`. Note that this external table is created in Atoti and the defined keys affects only the data that is accessible in Atoti. It does not change the tables in BigQuery.  \n",
    "\n",
    "To distinguish our Atoti external table from the BigQuery table, we named them differently in our example.  "
   ]
  },
  {
   "cell_type": "code",
   "execution_count": 12,
   "id": "a580d644-94e0-4772-ac94-a9600bc08546",
   "metadata": {
    "tags": []
   },
   "outputs": [],
   "source": [
    "sales_table = session.add_external_table(\n",
    "    external_database.tables[\"SALES\"],\n",
    "    table_name=\"Atoti Sales\",\n",
    "    options=BigqueryTableOptions(\n",
    "        keys=[\"SALE_ID\"], clustering_columns={\"DATE\", \"PRODUCT\"}\n",
    "    ),\n",
    ")"
   ]
  },
  {
   "cell_type": "markdown",
   "id": "ac9b4de4-60f9-45d9-8b87-e7d0452714ee",
   "metadata": {},
   "source": [
    "To speed up querying, Atoti makes use of [aggregate providers](https://docs.atoti.io/latest/api/atoti.AggregateProvider.html#atoti.AggregateProvider) to pre-aggregates some table columns up to certain levels. Feeding such providers from an external database can result in very large queries to be run on the database. Some databases can have trouble processing such large queries. Therefore, we define [clustering columns](https://docs.activeviam.com/products/atoti/server/latest/docs/directquery/directquery-clustering-fields/) to help split up queries made by DirectQuery to these external database when feeding the aggregate providers.  \n",
    "\n",
    "The `clustering_columns` parameter allows us to define columns to be used for clustering. While our example uses a small dataset and clustering column is not necessary, we demonstrate how it can be used in the snippet above.  "
   ]
  },
  {
   "cell_type": "code",
   "execution_count": 13,
   "id": "561e7c19-28cc-4796-918b-24de800147a7",
   "metadata": {
    "tags": []
   },
   "outputs": [
    {
     "data": {
      "text/html": [
       "<div>\n",
       "<style scoped>\n",
       "    .dataframe tbody tr th:only-of-type {\n",
       "        vertical-align: middle;\n",
       "    }\n",
       "\n",
       "    .dataframe tbody tr th {\n",
       "        vertical-align: top;\n",
       "    }\n",
       "\n",
       "    .dataframe thead th {\n",
       "        text-align: right;\n",
       "    }\n",
       "</style>\n",
       "<table border=\"1\" class=\"dataframe\">\n",
       "  <thead>\n",
       "    <tr style=\"text-align: right;\">\n",
       "      <th></th>\n",
       "      <th>DATE</th>\n",
       "      <th>SHOP</th>\n",
       "      <th>PRODUCT</th>\n",
       "      <th>QUANTITY</th>\n",
       "      <th>UNIT_PRICE</th>\n",
       "    </tr>\n",
       "    <tr>\n",
       "      <th>SALE_ID</th>\n",
       "      <th></th>\n",
       "      <th></th>\n",
       "      <th></th>\n",
       "      <th></th>\n",
       "      <th></th>\n",
       "    </tr>\n",
       "  </thead>\n",
       "  <tbody>\n",
       "    <tr>\n",
       "      <th>S0010</th>\n",
       "      <td>2022-01-31</td>\n",
       "      <td>shop_2</td>\n",
       "      <td>BED_2</td>\n",
       "      <td>3</td>\n",
       "      <td>150.0</td>\n",
       "    </tr>\n",
       "    <tr>\n",
       "      <th>S0009</th>\n",
       "      <td>2022-01-31</td>\n",
       "      <td>shop_3</td>\n",
       "      <td>BED_2</td>\n",
       "      <td>1</td>\n",
       "      <td>150.0</td>\n",
       "    </tr>\n",
       "    <tr>\n",
       "      <th>S0008</th>\n",
       "      <td>2022-01-31</td>\n",
       "      <td>shop_4</td>\n",
       "      <td>BED_2</td>\n",
       "      <td>1</td>\n",
       "      <td>150.0</td>\n",
       "    </tr>\n",
       "    <tr>\n",
       "      <th>S0007</th>\n",
       "      <td>2022-02-01</td>\n",
       "      <td>shop_5</td>\n",
       "      <td>BED_2</td>\n",
       "      <td>1</td>\n",
       "      <td>150.0</td>\n",
       "    </tr>\n",
       "    <tr>\n",
       "      <th>S0019</th>\n",
       "      <td>2022-02-02</td>\n",
       "      <td>shop_3</td>\n",
       "      <td>HOO_5</td>\n",
       "      <td>1</td>\n",
       "      <td>48.0</td>\n",
       "    </tr>\n",
       "  </tbody>\n",
       "</table>\n",
       "</div>"
      ],
      "text/plain": [
       "              DATE    SHOP PRODUCT  QUANTITY  UNIT_PRICE\n",
       "SALE_ID                                                 \n",
       "S0010   2022-01-31  shop_2   BED_2         3       150.0\n",
       "S0009   2022-01-31  shop_3   BED_2         1       150.0\n",
       "S0008   2022-01-31  shop_4   BED_2         1       150.0\n",
       "S0007   2022-02-01  shop_5   BED_2         1       150.0\n",
       "S0019   2022-02-02  shop_3   HOO_5         1        48.0"
      ]
     },
     "execution_count": 13,
     "metadata": {},
     "output_type": "execute_result"
    }
   ],
   "source": [
    "sales_table.head()"
   ]
  },
  {
   "cell_type": "markdown",
   "id": "dc44214e-743e-4937-9269-61498986355b",
   "metadata": {},
   "source": [
    "We can add multiple tables."
   ]
  },
  {
   "cell_type": "code",
   "execution_count": 14,
   "id": "f282f67a-dfa9-4ba1-aef7-779ec734fe50",
   "metadata": {
    "tags": []
   },
   "outputs": [
    {
     "data": {
      "text/html": [
       "<div>\n",
       "<style scoped>\n",
       "    .dataframe tbody tr th:only-of-type {\n",
       "        vertical-align: middle;\n",
       "    }\n",
       "\n",
       "    .dataframe tbody tr th {\n",
       "        vertical-align: top;\n",
       "    }\n",
       "\n",
       "    .dataframe thead th {\n",
       "        text-align: right;\n",
       "    }\n",
       "</style>\n",
       "<table border=\"1\" class=\"dataframe\">\n",
       "  <thead>\n",
       "    <tr style=\"text-align: right;\">\n",
       "      <th></th>\n",
       "      <th>CATEGORY</th>\n",
       "      <th>SUB_CATEGORY</th>\n",
       "      <th>SIZE</th>\n",
       "      <th>PURCHASE_PRICE</th>\n",
       "      <th>COLOR</th>\n",
       "      <th>BRAND</th>\n",
       "    </tr>\n",
       "    <tr>\n",
       "      <th>PRODUCT_ID</th>\n",
       "      <th></th>\n",
       "      <th></th>\n",
       "      <th></th>\n",
       "      <th></th>\n",
       "      <th></th>\n",
       "      <th></th>\n",
       "    </tr>\n",
       "  </thead>\n",
       "  <tbody>\n",
       "    <tr>\n",
       "      <th>BED_2</th>\n",
       "      <td>Furniture</td>\n",
       "      <td>Bed</td>\n",
       "      <td>Single</td>\n",
       "      <td>127.0</td>\n",
       "      <td>red</td>\n",
       "      <td>Mega</td>\n",
       "    </tr>\n",
       "    <tr>\n",
       "      <th>TAB_0</th>\n",
       "      <td>Furniture</td>\n",
       "      <td>Table</td>\n",
       "      <td>1m80</td>\n",
       "      <td>190.0</td>\n",
       "      <td>black</td>\n",
       "      <td>Basic</td>\n",
       "    </tr>\n",
       "    <tr>\n",
       "      <th>TAB_1</th>\n",
       "      <td>Furniture</td>\n",
       "      <td>Table</td>\n",
       "      <td>2m40</td>\n",
       "      <td>280.0</td>\n",
       "      <td>white</td>\n",
       "      <td>Mega</td>\n",
       "    </tr>\n",
       "    <tr>\n",
       "      <th>HOO_5</th>\n",
       "      <td>Cloth</td>\n",
       "      <td>Hoodie</td>\n",
       "      <td>M</td>\n",
       "      <td>38.0</td>\n",
       "      <td>red</td>\n",
       "      <td>Mega</td>\n",
       "    </tr>\n",
       "    <tr>\n",
       "      <th>TSH_4</th>\n",
       "      <td>Cloth</td>\n",
       "      <td>Tshirt</td>\n",
       "      <td>L</td>\n",
       "      <td>20.0</td>\n",
       "      <td>black</td>\n",
       "      <td>Over</td>\n",
       "    </tr>\n",
       "  </tbody>\n",
       "</table>\n",
       "</div>"
      ],
      "text/plain": [
       "             CATEGORY SUB_CATEGORY    SIZE  PURCHASE_PRICE  COLOR  BRAND\n",
       "PRODUCT_ID                                                              \n",
       "BED_2       Furniture          Bed  Single           127.0    red   Mega\n",
       "TAB_0       Furniture        Table    1m80           190.0  black  Basic\n",
       "TAB_1       Furniture        Table    2m40           280.0  white   Mega\n",
       "HOO_5           Cloth       Hoodie       M            38.0    red   Mega\n",
       "TSH_4           Cloth       Tshirt       L            20.0  black   Over"
      ]
     },
     "execution_count": 14,
     "metadata": {},
     "output_type": "execute_result"
    }
   ],
   "source": [
    "products_table = session.add_external_table(\n",
    "    external_database.tables[\"PRODUCTS\"],\n",
    "    table_name=\"Atoti Product\",\n",
    "    options=BigqueryTableOptions(keys=[\"PRODUCT_ID\"]),\n",
    ")\n",
    "\n",
    "products_table.head()"
   ]
  },
  {
   "cell_type": "markdown",
   "id": "57349699-117a-4cf9-bb95-5910f18d5187",
   "metadata": {},
   "source": [
    "Once we have created our external tables, the rest is _simply the usual stuff for Atoti_."
   ]
  },
  {
   "cell_type": "markdown",
   "id": "564a8bad-9c60-4c7a-b94e-918b5112cfdb",
   "metadata": {
    "tags": []
   },
   "source": [
    "## Atoti Cube Setup"
   ]
  },
  {
   "cell_type": "markdown",
   "id": "2f24568b-71da-4341-a716-f8abdbdce17d",
   "metadata": {
    "tags": []
   },
   "source": [
    "From this section onwards, the coding remains the same regardless of the underlying data source.  \n",
    "\n",
    "As we have always done, we join the tables and create the cube."
   ]
  },
  {
   "cell_type": "code",
   "execution_count": 15,
   "id": "93f6c667-27b6-4e2e-9685-ef275235622c",
   "metadata": {
    "tags": []
   },
   "outputs": [
    {
     "data": {
      "image/png": "[encoded data removed]",
      "text/plain": [
       "erDiagram\n",
       "  \"Atoti Product\" {\n",
       "    _ String PK \"PRODUCT_ID\"\n",
       "    _ String \"CATEGORY\"\n",
       "    _ String \"SUB_CATEGORY\"\n",
       "    _ String \"SIZE\"\n",
       "    _ double \"PURCHASE_PRICE\"\n",
       "    _ String \"COLOR\"\n",
       "    _ String \"BRAND\"\n",
       "  }\n",
       "  \"Atoti Sales\" {\n",
       "    _ String PK \"SALE_ID\"\n",
       "    _ LocalDate \"DATE\"\n",
       "    _ String \"SHOP\"\n",
       "    _ String \"PRODUCT\"\n",
       "    _ long \"QUANTITY\"\n",
       "    _ double \"UNIT_PRICE\"\n",
       "  }\n",
       "  \"Atoti Sales\" }o--o| \"Atoti Product\" : \"`PRODUCT` == `PRODUCT_ID`\""
      ]
     },
     "execution_count": 15,
     "metadata": {},
     "output_type": "execute_result"
    }
   ],
   "source": [
    "sales_table.join(products_table, sales_table[\"PRODUCT\"] == products_table[\"PRODUCT_ID\"])\n",
    "cube = session.create_cube(sales_table)\n",
    "session.tables.schema"
   ]
  },
  {
   "cell_type": "code",
   "execution_count": 16,
   "id": "4ee29cb6-1f57-43f2-b6e7-ad2e72d8abd4",
   "metadata": {
    "atoti": {
     "widget": {
      "mapping": {
       "columns": [
        "ALL_MEASURES"
       ],
       "measures": [
        "[Measures].[QUANTITY.SUM]"
       ],
       "rows": [
        "[Atoti Sales].[DATE].[DATE]",
        "[Atoti Sales].[SHOP].[SHOP] => [Atoti Product].[BRAND].[BRAND]"
       ]
      },
      "name": "Quantity sold across dates by shops",
      "query": {
       "mdx": "SELECT NON EMPTY {[Measures].[QUANTITY.SUM]} ON COLUMNS, NON EMPTY Hierarchize(Union(Crossjoin(Hierarchize(Descendants({[Atoti Sales].[DATE].[AllMember]}, 1, SELF_AND_BEFORE)), Hierarchize(Descendants({[Atoti Sales].[SHOP].[AllMember]}, 1, SELF_AND_BEFORE)), [Atoti Product].[BRAND].DefaultMember), Crossjoin([Atoti Sales].[DATE].[AllMember].[2022-01-31], [Atoti Sales].[SHOP].[AllMember].[shop_2], Hierarchize(Descendants({[Atoti Product].[BRAND].[AllMember]}, 1, SELF_AND_BEFORE))))) ON ROWS FROM [Atoti Sales] CELL PROPERTIES VALUE, FORMATTED_VALUE, BACK_COLOR, FORE_COLOR, FONT_FLAGS",
       "updateMode": "once"
      },
      "serverKey": "default",
      "widgetKey": "pivot-table"
     }
    },
    "tags": []
   },
   "outputs": [
    {
     "data": {
      "application/vnd.atoti.widget.v0+json": {
       "sessionId": "1721027430_7ZQJ3T",
       "sessionLocation": {
        "https": false,
        "port": 64237
       },
       "widgetCreationCode": "session.widget"
      },
      "text/html": [
       "<img height=\"352\" width=\"1351\" src=\"data:image/png;base64,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\" />"
      ],
      "text/plain": [
       "Open the notebook in JupyterLab with the Atoti JupyterLab extension enabled to build this widget."
      ]
     },
     "metadata": {},
     "output_type": "display_data"
    }
   ],
   "source": [
    "session.widget"
   ]
  },
  {
   "cell_type": "markdown",
   "id": "623a5cce-fee4-489b-9250-c5dd542fb708",
   "metadata": {},
   "source": [
    "### Cube manipulation"
   ]
  },
  {
   "cell_type": "markdown",
   "id": "ad616201-0cc7-4012-8e54-66a99c9c1a23",
   "metadata": {},
   "source": [
    "We perform hierarchy manipulation, level ordering and measure creations the same way we always do in Atoti."
   ]
  },
  {
   "cell_type": "code",
   "execution_count": 17,
   "id": "27bebe22-10e5-4b67-9c18-4bb478fef70b",
   "metadata": {
    "tags": []
   },
   "outputs": [],
   "source": [
    "h, l, m = cube.hierarchies, cube.levels, cube.measures"
   ]
  },
  {
   "cell_type": "code",
   "execution_count": 18,
   "id": "fe4aea14-fc25-4a2d-9401-0ce01df385e4",
   "metadata": {
    "tags": []
   },
   "outputs": [],
   "source": [
    "h[\"CATEGORY\"] = [l[\"CATEGORY\"], l[\"SUB_CATEGORY\"]]\n",
    "del h[\"SUB_CATEGORY\"]"
   ]
  },
  {
   "cell_type": "code",
   "execution_count": 19,
   "id": "efc5d476-6465-4ccf-93d3-9f5dfe19df3c",
   "metadata": {
    "tags": []
   },
   "outputs": [
    {
     "data": {
      "application/json": {
       "Atoti Product": {
        "BRAND": [
         "BRAND"
        ],
        "CATEGORY": [
         "CATEGORY",
         "SUB_CATEGORY"
        ],
        "COLOR": [
         "COLOR"
        ],
        "SIZE": [
         "SIZE"
        ]
       },
       "Atoti Sales": {
        "DATE": [
         "DATE"
        ],
        "PRODUCT": [
         "PRODUCT"
        ],
        "SALE_ID": [
         "SALE_ID"
        ],
        "SHOP": [
         "SHOP"
        ]
       }
      },
      "text/html": [
       "<ul>\n",
       "<li>Dimensions\n",
       "  <ul>\n",
       "  <li>Atoti Product\n",
       "    <ul>\n",
       "    <li>BRAND\n",
       "      <ol>\n",
       "      <li>BRAND</li>\n",
       "      </ol>    </li>\n",
       "    <li>CATEGORY\n",
       "      <ol>\n",
       "      <li>CATEGORY</li>\n",
       "      <li>SUB_CATEGORY</li>\n",
       "      </ol>    </li>\n",
       "    <li>COLOR\n",
       "      <ol>\n",
       "      <li>COLOR</li>\n",
       "      </ol>    </li>\n",
       "    <li>SIZE\n",
       "      <ol>\n",
       "      <li>SIZE</li>\n",
       "      </ol>    </li>\n",
       "    </ul>\n",
       "  </li>\n",
       "  <li>Atoti Sales\n",
       "    <ul>\n",
       "    <li>DATE\n",
       "      <ol>\n",
       "      <li>DATE</li>\n",
       "      </ol>    </li>\n",
       "    <li>PRODUCT\n",
       "      <ol>\n",
       "      <li>PRODUCT</li>\n",
       "      </ol>    </li>\n",
       "    <li>SALE_ID\n",
       "      <ol>\n",
       "      <li>SALE_ID</li>\n",
       "      </ol>    </li>\n",
       "    <li>SHOP\n",
       "      <ol>\n",
       "      <li>SHOP</li>\n",
       "      </ol>    </li>\n",
       "    </ul>\n",
       "  </li>\n",
       "  </ul>\n",
       "</li>\n",
       "</ul>\n"
      ],
      "text/plain": [
       "{('Atoti Product', 'BRAND'): <atoti.hierarchy.Hierarchy object at 0x12a012350>, ('Atoti Sales', 'DATE'): <atoti.hierarchy.Hierarchy object at 0x12a013c40>, ('Atoti Sales', 'SHOP'): <atoti.hierarchy.Hierarchy object at 0x12a0139a0>, ('Atoti Product', 'COLOR'): <atoti.hierarchy.Hierarchy object at 0x12a0115a0>, ('Atoti Sales', 'PRODUCT'): <atoti.hierarchy.Hierarchy object at 0x12a010640>, ('Atoti Product', 'SIZE'): <atoti.hierarchy.Hierarchy object at 0x12a0119f0>, ('Atoti Product', 'CATEGORY'): <atoti.hierarchy.Hierarchy object at 0x12a012d70>, ('Atoti Sales', 'SALE_ID'): <atoti.hierarchy.Hierarchy object at 0x12a012980>}"
      ]
     },
     "execution_count": 19,
     "metadata": {
      "application/json": {
       "expanded": true,
       "root": "Dimensions"
      }
     },
     "output_type": "execute_result"
    }
   ],
   "source": [
    "h"
   ]
  },
  {
   "cell_type": "code",
   "execution_count": 20,
   "id": "fe924c60-0c9d-431f-ac72-297db49d8abc",
   "metadata": {
    "tags": []
   },
   "outputs": [],
   "source": [
    "l[\"DATE\"].order = tt.NaturalOrder(ascending=False)"
   ]
  },
  {
   "cell_type": "code",
   "execution_count": 21,
   "id": "343686bd-182e-4de1-b681-8bc6c04b791d",
   "metadata": {
    "tags": []
   },
   "outputs": [],
   "source": [
    "m[\"PURCHASE_PRICE.SUM\"] = tt.agg.sum(products_table[\"PURCHASE_PRICE\"])\n",
    "m[\"PROFIT\"] = tt.agg.sum_product(\n",
    "    m[\"UNIT_PRICE.SUM\"] - m[\"PURCHASE_PRICE.SUM\"],\n",
    "    m[\"QUANTITY.SUM\"],\n",
    "    scope=tt.OriginScope(levels={l[\"SALE_ID\"], l[\"PRODUCT\"]}),\n",
    ")"
   ]
  },
  {
   "cell_type": "markdown",
   "id": "595db925-bf0b-4828-87fb-ff26c717d905",
   "metadata": {},
   "source": [
    "Since we have a join from `sales_table` to `products_table` using the column values of `sales_table.PRODUCT` and `products_table.PRODUCT_ID`, the resultant level is the name of the column from the _from_ table. Therefore, we have the level `PRODUCT` but not `PRODUCT_ID` for our scope in the code snippet above."
   ]
  },
  {
   "cell_type": "code",
   "execution_count": 22,
   "id": "a5dd754e-6d52-43b0-9a18-e7aa7fd42e0b",
   "metadata": {
    "atoti": {
     "widget": {
      "mapping": {
       "columns": [
        "ALL_MEASURES"
       ],
       "measures": [
        "[Measures].[UNIT_PRICE.SUM]",
        "[Measures].[PURCHASE_PRICE.SUM]",
        "[Measures].[QUANTITY.SUM]",
        "[Measures].[PROFIT]"
       ],
       "rows": [
        "[Atoti Sales].[DATE].[DATE]",
        "[Atoti Product].[CATEGORY].[CATEGORY] => [Atoti Product].[CATEGORY].[SUB_CATEGORY]"
       ]
      },
      "name": "Profit by Product Categories across dates",
      "query": {
       "mdx": "SELECT NON EMPTY Hierarchize(Union(Crossjoin(Hierarchize(Descendants({[Atoti Sales].[DATE].[AllMember]}, 1, SELF_AND_BEFORE)), Hierarchize(Descendants({[Atoti Product].[CATEGORY].[AllMember]}, 1, SELF_AND_BEFORE))), Crossjoin([Atoti Sales].[DATE].[AllMember].[2022-02-03], Descendants({[Atoti Product].[CATEGORY].[AllMember].[Cloth]}, [Atoti Product].[CATEGORY].[SUB_CATEGORY])))) ON ROWS, NON EMPTY {[Measures].[UNIT_PRICE.SUM], [Measures].[PURCHASE_PRICE.SUM], [Measures].[QUANTITY.SUM], [Measures].[PROFIT]} ON COLUMNS FROM [Atoti Sales] CELL PROPERTIES VALUE, FORMATTED_VALUE, BACK_COLOR, FORE_COLOR, FONT_FLAGS",
       "updateMode": "once"
      },
      "serverKey": "default",
      "widgetKey": "pivot-table"
     }
    },
    "tags": []
   },
   "outputs": [
    {
     "data": {
      "application/vnd.atoti.widget.v0+json": {
       "sessionId": "1721027430_7ZQJ3T",
       "sessionLocation": {
        "https": false,
        "port": 64237
       },
       "widgetCreationCode": "session.widget"
      },
      "text/html": [
       "<img height=\"352\" width=\"1351\" src=\"data:image/png;base64,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\" />"
      ],
      "text/plain": [
       "Open the notebook in JupyterLab with the Atoti JupyterLab extension enabled to build this widget."
      ]
     },
     "metadata": {},
     "output_type": "display_data"
    }
   ],
   "source": [
    "session.widget"
   ]
  },
  {
   "cell_type": "markdown",
   "id": "08ceaeb7-d0ed-42b5-899e-f4fb4fdcf1ae",
   "metadata": {},
   "source": [
    "## Cost and performance saving with Aggregate Provider"
   ]
  },
  {
   "cell_type": "markdown",
   "id": "b00d6de1-5324-43b0-acb0-c682977c2cf0",
   "metadata": {},
   "source": [
    "Let's take a quick look at our query performance in the current setup."
   ]
  },
  {
   "cell_type": "code",
   "execution_count": 23,
   "id": "37320670-66e8-40c1-9402-26775ed5817c",
   "metadata": {},
   "outputs": [
    {
     "name": "stdout",
     "output_type": "stream",
     "text": [
      "CPU times: user 57 ms, sys: 10.7 ms, total: 67.7 ms\n",
      "Wall time: 2.25 s\n"
     ]
    },
    {
     "data": {
      "text/html": [
       "<div>\n",
       "<style scoped>\n",
       "    .dataframe tbody tr th:only-of-type {\n",
       "        vertical-align: middle;\n",
       "    }\n",
       "\n",
       "    .dataframe tbody tr th {\n",
       "        vertical-align: top;\n",
       "    }\n",
       "\n",
       "    .dataframe thead th {\n",
       "        text-align: right;\n",
       "    }\n",
       "</style>\n",
       "<table border=\"1\" class=\"dataframe\">\n",
       "  <thead>\n",
       "    <tr style=\"text-align: right;\">\n",
       "      <th></th>\n",
       "      <th></th>\n",
       "      <th></th>\n",
       "      <th>QUANTITY.SUM</th>\n",
       "      <th>PROFIT</th>\n",
       "    </tr>\n",
       "    <tr>\n",
       "      <th>DATE</th>\n",
       "      <th>PRODUCT</th>\n",
       "      <th>SALE_ID</th>\n",
       "      <th></th>\n",
       "      <th></th>\n",
       "    </tr>\n",
       "  </thead>\n",
       "  <tbody>\n",
       "    <tr>\n",
       "      <th rowspan=\"2\" valign=\"top\">2022-02-04</th>\n",
       "      <th>HOO_5</th>\n",
       "      <th>S0017</th>\n",
       "      <td>1</td>\n",
       "      <td>10.00</td>\n",
       "    </tr>\n",
       "    <tr>\n",
       "      <th>TAB_0</th>\n",
       "      <th>S0000</th>\n",
       "      <td>1</td>\n",
       "      <td>20.00</td>\n",
       "    </tr>\n",
       "    <tr>\n",
       "      <th rowspan=\"4\" valign=\"top\">2022-02-03</th>\n",
       "      <th>HOO_5</th>\n",
       "      <th>S0018</th>\n",
       "      <td>1</td>\n",
       "      <td>10.00</td>\n",
       "    </tr>\n",
       "    <tr>\n",
       "      <th>TAB_0</th>\n",
       "      <th>S0001</th>\n",
       "      <td>1</td>\n",
       "      <td>20.00</td>\n",
       "    </tr>\n",
       "    <tr>\n",
       "      <th>TAB_1</th>\n",
       "      <th>S0004</th>\n",
       "      <td>1</td>\n",
       "      <td>20.00</td>\n",
       "    </tr>\n",
       "    <tr>\n",
       "      <th>TSH_3</th>\n",
       "      <th>S0011</th>\n",
       "      <td>1</td>\n",
       "      <td>3.00</td>\n",
       "    </tr>\n",
       "    <tr>\n",
       "      <th rowspan=\"5\" valign=\"top\">2022-02-02</th>\n",
       "      <th>HOO_5</th>\n",
       "      <th>S0019</th>\n",
       "      <td>1</td>\n",
       "      <td>10.00</td>\n",
       "    </tr>\n",
       "    <tr>\n",
       "      <th>TAB_0</th>\n",
       "      <th>S0002</th>\n",
       "      <td>1</td>\n",
       "      <td>20.00</td>\n",
       "    </tr>\n",
       "    <tr>\n",
       "      <th>TAB_1</th>\n",
       "      <th>S0005</th>\n",
       "      <td>1</td>\n",
       "      <td>20.00</td>\n",
       "    </tr>\n",
       "    <tr>\n",
       "      <th>TSH_3</th>\n",
       "      <th>S0012</th>\n",
       "      <td>1</td>\n",
       "      <td>3.00</td>\n",
       "    </tr>\n",
       "    <tr>\n",
       "      <th>TSH_4</th>\n",
       "      <th>S0014</th>\n",
       "      <td>1</td>\n",
       "      <td>4.00</td>\n",
       "    </tr>\n",
       "    <tr>\n",
       "      <th rowspan=\"5\" valign=\"top\">2022-02-01</th>\n",
       "      <th>BED_2</th>\n",
       "      <th>S0007</th>\n",
       "      <td>1</td>\n",
       "      <td>23.00</td>\n",
       "    </tr>\n",
       "    <tr>\n",
       "      <th>TAB_0</th>\n",
       "      <th>S0003</th>\n",
       "      <td>1</td>\n",
       "      <td>20.00</td>\n",
       "    </tr>\n",
       "    <tr>\n",
       "      <th>TAB_1</th>\n",
       "      <th>S0006</th>\n",
       "      <td>2</td>\n",
       "      <td>40.00</td>\n",
       "    </tr>\n",
       "    <tr>\n",
       "      <th>TSH_3</th>\n",
       "      <th>S0013</th>\n",
       "      <td>1</td>\n",
       "      <td>3.00</td>\n",
       "    </tr>\n",
       "    <tr>\n",
       "      <th>TSH_4</th>\n",
       "      <th>S0015</th>\n",
       "      <td>2</td>\n",
       "      <td>8.00</td>\n",
       "    </tr>\n",
       "    <tr>\n",
       "      <th rowspan=\"4\" valign=\"top\">2022-01-31</th>\n",
       "      <th rowspan=\"3\" valign=\"top\">BED_2</th>\n",
       "      <th>S0008</th>\n",
       "      <td>1</td>\n",
       "      <td>23.00</td>\n",
       "    </tr>\n",
       "    <tr>\n",
       "      <th>S0009</th>\n",
       "      <td>1</td>\n",
       "      <td>23.00</td>\n",
       "    </tr>\n",
       "    <tr>\n",
       "      <th>S0010</th>\n",
       "      <td>3</td>\n",
       "      <td>69.00</td>\n",
       "    </tr>\n",
       "    <tr>\n",
       "      <th>TSH_4</th>\n",
       "      <th>S0016</th>\n",
       "      <td>2</td>\n",
       "      <td>8.00</td>\n",
       "    </tr>\n",
       "  </tbody>\n",
       "</table>\n",
       "</div>"
      ],
      "text/plain": [
       "                           QUANTITY.SUM PROFIT\n",
       "DATE       PRODUCT SALE_ID                    \n",
       "2022-02-04 HOO_5   S0017              1  10.00\n",
       "           TAB_0   S0000              1  20.00\n",
       "2022-02-03 HOO_5   S0018              1  10.00\n",
       "           TAB_0   S0001              1  20.00\n",
       "           TAB_1   S0004              1  20.00\n",
       "           TSH_3   S0011              1   3.00\n",
       "2022-02-02 HOO_5   S0019              1  10.00\n",
       "           TAB_0   S0002              1  20.00\n",
       "           TAB_1   S0005              1  20.00\n",
       "           TSH_3   S0012              1   3.00\n",
       "           TSH_4   S0014              1   4.00\n",
       "2022-02-01 BED_2   S0007              1  23.00\n",
       "           TAB_0   S0003              1  20.00\n",
       "           TAB_1   S0006              2  40.00\n",
       "           TSH_3   S0013              1   3.00\n",
       "           TSH_4   S0015              2   8.00\n",
       "2022-01-31 BED_2   S0008              1  23.00\n",
       "                   S0009              1  23.00\n",
       "                   S0010              3  69.00\n",
       "           TSH_4   S0016              2   8.00"
      ]
     },
     "execution_count": 23,
     "metadata": {},
     "output_type": "execute_result"
    }
   ],
   "source": [
    "%%time\n",
    "\n",
    "cube.query(\n",
    "    m[\"QUANTITY.SUM\"], m[\"PROFIT\"], levels=[l[\"DATE\"], l[\"PRODUCT\"], l[\"SALE_ID\"]]\n",
    ")"
   ]
  },
  {
   "cell_type": "code",
   "execution_count": 24,
   "id": "41a42190-2831-458d-9679-aa942dae9de0",
   "metadata": {},
   "outputs": [
    {
     "name": "stdout",
     "output_type": "stream",
     "text": [
      "CPU times: user 13.8 ms, sys: 5.29 ms, total: 19.1 ms\n",
      "Wall time: 2.31 s\n"
     ]
    },
    {
     "data": {
      "text/html": [
       "<div>\n",
       "<style scoped>\n",
       "    .dataframe tbody tr th:only-of-type {\n",
       "        vertical-align: middle;\n",
       "    }\n",
       "\n",
       "    .dataframe tbody tr th {\n",
       "        vertical-align: top;\n",
       "    }\n",
       "\n",
       "    .dataframe thead th {\n",
       "        text-align: right;\n",
       "    }\n",
       "</style>\n",
       "<table border=\"1\" class=\"dataframe\">\n",
       "  <thead>\n",
       "    <tr style=\"text-align: right;\">\n",
       "      <th></th>\n",
       "      <th></th>\n",
       "      <th></th>\n",
       "      <th>PROFIT</th>\n",
       "    </tr>\n",
       "    <tr>\n",
       "      <th>DATE</th>\n",
       "      <th>CATEGORY</th>\n",
       "      <th>SUB_CATEGORY</th>\n",
       "      <th></th>\n",
       "    </tr>\n",
       "  </thead>\n",
       "  <tbody>\n",
       "    <tr>\n",
       "      <th rowspan=\"2\" valign=\"top\">2022-02-04</th>\n",
       "      <th>Cloth</th>\n",
       "      <th>Hoodie</th>\n",
       "      <td>10.00</td>\n",
       "    </tr>\n",
       "    <tr>\n",
       "      <th>Furniture</th>\n",
       "      <th>Table</th>\n",
       "      <td>20.00</td>\n",
       "    </tr>\n",
       "    <tr>\n",
       "      <th rowspan=\"3\" valign=\"top\">2022-02-03</th>\n",
       "      <th rowspan=\"2\" valign=\"top\">Cloth</th>\n",
       "      <th>Hoodie</th>\n",
       "      <td>10.00</td>\n",
       "    </tr>\n",
       "    <tr>\n",
       "      <th>Tshirt</th>\n",
       "      <td>3.00</td>\n",
       "    </tr>\n",
       "    <tr>\n",
       "      <th>Furniture</th>\n",
       "      <th>Table</th>\n",
       "      <td>40.00</td>\n",
       "    </tr>\n",
       "    <tr>\n",
       "      <th rowspan=\"3\" valign=\"top\">2022-02-02</th>\n",
       "      <th rowspan=\"2\" valign=\"top\">Cloth</th>\n",
       "      <th>Hoodie</th>\n",
       "      <td>10.00</td>\n",
       "    </tr>\n",
       "    <tr>\n",
       "      <th>Tshirt</th>\n",
       "      <td>7.00</td>\n",
       "    </tr>\n",
       "    <tr>\n",
       "      <th>Furniture</th>\n",
       "      <th>Table</th>\n",
       "      <td>40.00</td>\n",
       "    </tr>\n",
       "    <tr>\n",
       "      <th rowspan=\"3\" valign=\"top\">2022-02-01</th>\n",
       "      <th>Cloth</th>\n",
       "      <th>Tshirt</th>\n",
       "      <td>11.00</td>\n",
       "    </tr>\n",
       "    <tr>\n",
       "      <th rowspan=\"2\" valign=\"top\">Furniture</th>\n",
       "      <th>Bed</th>\n",
       "      <td>23.00</td>\n",
       "    </tr>\n",
       "    <tr>\n",
       "      <th>Table</th>\n",
       "      <td>60.00</td>\n",
       "    </tr>\n",
       "    <tr>\n",
       "      <th rowspan=\"2\" valign=\"top\">2022-01-31</th>\n",
       "      <th>Cloth</th>\n",
       "      <th>Tshirt</th>\n",
       "      <td>8.00</td>\n",
       "    </tr>\n",
       "    <tr>\n",
       "      <th>Furniture</th>\n",
       "      <th>Bed</th>\n",
       "      <td>115.00</td>\n",
       "    </tr>\n",
       "  </tbody>\n",
       "</table>\n",
       "</div>"
      ],
      "text/plain": [
       "                                   PROFIT\n",
       "DATE       CATEGORY  SUB_CATEGORY        \n",
       "2022-02-04 Cloth     Hoodie         10.00\n",
       "           Furniture Table          20.00\n",
       "2022-02-03 Cloth     Hoodie         10.00\n",
       "                     Tshirt          3.00\n",
       "           Furniture Table          40.00\n",
       "2022-02-02 Cloth     Hoodie         10.00\n",
       "                     Tshirt          7.00\n",
       "           Furniture Table          40.00\n",
       "2022-02-01 Cloth     Tshirt         11.00\n",
       "           Furniture Bed            23.00\n",
       "                     Table          60.00\n",
       "2022-01-31 Cloth     Tshirt          8.00\n",
       "           Furniture Bed           115.00"
      ]
     },
     "execution_count": 24,
     "metadata": {},
     "output_type": "execute_result"
    }
   ],
   "source": [
    "%%time\n",
    "\n",
    "cube.query(m[\"PROFIT\"], levels=[l[\"DATE\"], l[\"SUB_CATEGORY\"]])"
   ]
  },
  {
   "cell_type": "markdown",
   "id": "ec655a71-8eec-42ae-9dd5-3fa7bbf0f782",
   "metadata": {},
   "source": [
    "It takes approximately `3s` to return the query (YMMV)."
   ]
  },
  {
   "cell_type": "markdown",
   "id": "409bcc8e-c3e4-4592-a6ee-c54d41f97719",
   "metadata": {},
   "source": [
    "To speed up our querying, we make use of the [aggregate provider](https://docs.atoti.io/latest/api/atoti.AggregateProvider.html#atoti.AggregateProvider) to store intermediate aggregates in memory. If a step of a query uses a subset of the aggregate provider's levels and measures, the provider will speed up the query.  \n",
    "\n",
    "Since data is cached in memory, we will __not__ access BigQuery when a subset of these are queried.  "
   ]
  },
  {
   "cell_type": "code",
   "execution_count": 25,
   "id": "0f33a62c-d66d-4e3a-997d-ae325e9276ec",
   "metadata": {
    "tags": []
   },
   "outputs": [],
   "source": [
    "cube.aggregate_providers.update(\n",
    "    {\n",
    "        \"Products provider\": tt.AggregateProvider(\n",
    "            key=\"bitmap\",\n",
    "            levels=[l[\"DATE\"], l[\"PRODUCT\"], l[\"SALE_ID\"]],\n",
    "            measures=[m[\"QUANTITY.SUM\"], m[\"PURCHASE_PRICE.SUM\"], m[\"UNIT_PRICE.SUM\"]],\n",
    "            partitioning=\"hash16(PRODUCT)\",\n",
    "        )\n",
    "    }\n",
    ")"
   ]
  },
  {
   "cell_type": "markdown",
   "id": "4817dae9-0dbb-4c91-95bc-38a1320102ae",
   "metadata": {},
   "source": [
    "⚠️ **Important:** We can only use store aggregated measures supporting disaggregation can be used in aggregate provider, e.g. `tt.agg.sum` or `tt.agg.mean` on table columns.\n",
    "\n",
    "`m[\"PROFIT\"]` cannot be used because it is a chained measure resulting from the `sum_product` of a few measures.\n"
   ]
  },
  {
   "cell_type": "code",
   "execution_count": 26,
   "id": "0bc35e5d-1845-479b-873f-5a24be936f1e",
   "metadata": {
    "tags": []
   },
   "outputs": [
    {
     "name": "stdout",
     "output_type": "stream",
     "text": [
      "CPU times: user 8.01 ms, sys: 4.1 ms, total: 12.1 ms\n",
      "Wall time: 43.6 ms\n"
     ]
    },
    {
     "data": {
      "text/html": [
       "<div>\n",
       "<style scoped>\n",
       "    .dataframe tbody tr th:only-of-type {\n",
       "        vertical-align: middle;\n",
       "    }\n",
       "\n",
       "    .dataframe tbody tr th {\n",
       "        vertical-align: top;\n",
       "    }\n",
       "\n",
       "    .dataframe thead th {\n",
       "        text-align: right;\n",
       "    }\n",
       "</style>\n",
       "<table border=\"1\" class=\"dataframe\">\n",
       "  <thead>\n",
       "    <tr style=\"text-align: right;\">\n",
       "      <th></th>\n",
       "      <th></th>\n",
       "      <th></th>\n",
       "      <th>PROFIT</th>\n",
       "    </tr>\n",
       "    <tr>\n",
       "      <th>DATE</th>\n",
       "      <th>PRODUCT</th>\n",
       "      <th>SALE_ID</th>\n",
       "      <th></th>\n",
       "    </tr>\n",
       "  </thead>\n",
       "  <tbody>\n",
       "    <tr>\n",
       "      <th rowspan=\"2\" valign=\"top\">2022-02-04</th>\n",
       "      <th>HOO_5</th>\n",
       "      <th>S0017</th>\n",
       "      <td>10.00</td>\n",
       "    </tr>\n",
       "    <tr>\n",
       "      <th>TAB_0</th>\n",
       "      <th>S0000</th>\n",
       "      <td>20.00</td>\n",
       "    </tr>\n",
       "    <tr>\n",
       "      <th rowspan=\"4\" valign=\"top\">2022-02-03</th>\n",
       "      <th>HOO_5</th>\n",
       "      <th>S0018</th>\n",
       "      <td>10.00</td>\n",
       "    </tr>\n",
       "    <tr>\n",
       "      <th>TAB_0</th>\n",
       "      <th>S0001</th>\n",
       "      <td>20.00</td>\n",
       "    </tr>\n",
       "    <tr>\n",
       "      <th>TAB_1</th>\n",
       "      <th>S0004</th>\n",
       "      <td>20.00</td>\n",
       "    </tr>\n",
       "    <tr>\n",
       "      <th>TSH_3</th>\n",
       "      <th>S0011</th>\n",
       "      <td>3.00</td>\n",
       "    </tr>\n",
       "    <tr>\n",
       "      <th rowspan=\"5\" valign=\"top\">2022-02-02</th>\n",
       "      <th>HOO_5</th>\n",
       "      <th>S0019</th>\n",
       "      <td>10.00</td>\n",
       "    </tr>\n",
       "    <tr>\n",
       "      <th>TAB_0</th>\n",
       "      <th>S0002</th>\n",
       "      <td>20.00</td>\n",
       "    </tr>\n",
       "    <tr>\n",
       "      <th>TAB_1</th>\n",
       "      <th>S0005</th>\n",
       "      <td>20.00</td>\n",
       "    </tr>\n",
       "    <tr>\n",
       "      <th>TSH_3</th>\n",
       "      <th>S0012</th>\n",
       "      <td>3.00</td>\n",
       "    </tr>\n",
       "    <tr>\n",
       "      <th>TSH_4</th>\n",
       "      <th>S0014</th>\n",
       "      <td>4.00</td>\n",
       "    </tr>\n",
       "    <tr>\n",
       "      <th rowspan=\"5\" valign=\"top\">2022-02-01</th>\n",
       "      <th>BED_2</th>\n",
       "      <th>S0007</th>\n",
       "      <td>23.00</td>\n",
       "    </tr>\n",
       "    <tr>\n",
       "      <th>TAB_0</th>\n",
       "      <th>S0003</th>\n",
       "      <td>20.00</td>\n",
       "    </tr>\n",
       "    <tr>\n",
       "      <th>TAB_1</th>\n",
       "      <th>S0006</th>\n",
       "      <td>40.00</td>\n",
       "    </tr>\n",
       "    <tr>\n",
       "      <th>TSH_3</th>\n",
       "      <th>S0013</th>\n",
       "      <td>3.00</td>\n",
       "    </tr>\n",
       "    <tr>\n",
       "      <th>TSH_4</th>\n",
       "      <th>S0015</th>\n",
       "      <td>8.00</td>\n",
       "    </tr>\n",
       "    <tr>\n",
       "      <th rowspan=\"4\" valign=\"top\">2022-01-31</th>\n",
       "      <th rowspan=\"3\" valign=\"top\">BED_2</th>\n",
       "      <th>S0008</th>\n",
       "      <td>23.00</td>\n",
       "    </tr>\n",
       "    <tr>\n",
       "      <th>S0009</th>\n",
       "      <td>23.00</td>\n",
       "    </tr>\n",
       "    <tr>\n",
       "      <th>S0010</th>\n",
       "      <td>69.00</td>\n",
       "    </tr>\n",
       "    <tr>\n",
       "      <th>TSH_4</th>\n",
       "      <th>S0016</th>\n",
       "      <td>8.00</td>\n",
       "    </tr>\n",
       "  </tbody>\n",
       "</table>\n",
       "</div>"
      ],
      "text/plain": [
       "                           PROFIT\n",
       "DATE       PRODUCT SALE_ID       \n",
       "2022-02-04 HOO_5   S0017    10.00\n",
       "           TAB_0   S0000    20.00\n",
       "2022-02-03 HOO_5   S0018    10.00\n",
       "           TAB_0   S0001    20.00\n",
       "           TAB_1   S0004    20.00\n",
       "           TSH_3   S0011     3.00\n",
       "2022-02-02 HOO_5   S0019    10.00\n",
       "           TAB_0   S0002    20.00\n",
       "           TAB_1   S0005    20.00\n",
       "           TSH_3   S0012     3.00\n",
       "           TSH_4   S0014     4.00\n",
       "2022-02-01 BED_2   S0007    23.00\n",
       "           TAB_0   S0003    20.00\n",
       "           TAB_1   S0006    40.00\n",
       "           TSH_3   S0013     3.00\n",
       "           TSH_4   S0015     8.00\n",
       "2022-01-31 BED_2   S0008    23.00\n",
       "                   S0009    23.00\n",
       "                   S0010    69.00\n",
       "           TSH_4   S0016     8.00"
      ]
     },
     "execution_count": 26,
     "metadata": {},
     "output_type": "execute_result"
    }
   ],
   "source": [
    "%%time\n",
    "\n",
    "cube.query(m[\"PROFIT\"], levels=[l[\"DATE\"], l[\"PRODUCT\"], l[\"SALE_ID\"]])"
   ]
  },
  {
   "cell_type": "markdown",
   "id": "fd36b224-ab65-45f0-a2fb-1e44c5fdb1c8",
   "metadata": {},
   "source": [
    "Previously, it took close to `3s` to return the query results. Now, it only takes slightly over `100ms` to return the results (YMMV).  \n",
    "\n",
    "Note that we are querying `PROFIT` and not the measures `m[\"QUANTITY.SUM\"]`, `m[\"PURCHASE_PRICE.SUM\"]` and `m[\"UNIT_PRICE.SUM\"]`. However, `PROFIT` is computed on the fly using the cached data in memory. Therefore, the query speed is improved drastically."
   ]
  },
  {
   "cell_type": "code",
   "execution_count": 27,
   "id": "800e212c-f4ce-4e77-8653-f8afd9b50043",
   "metadata": {
    "tags": []
   },
   "outputs": [
    {
     "name": "stdout",
     "output_type": "stream",
     "text": [
      "CPU times: user 4.4 ms, sys: 2.05 ms, total: 6.45 ms\n",
      "Wall time: 21.1 ms\n"
     ]
    },
    {
     "data": {
      "text/html": [
       "<div>\n",
       "<style scoped>\n",
       "    .dataframe tbody tr th:only-of-type {\n",
       "        vertical-align: middle;\n",
       "    }\n",
       "\n",
       "    .dataframe tbody tr th {\n",
       "        vertical-align: top;\n",
       "    }\n",
       "\n",
       "    .dataframe thead th {\n",
       "        text-align: right;\n",
       "    }\n",
       "</style>\n",
       "<table border=\"1\" class=\"dataframe\">\n",
       "  <thead>\n",
       "    <tr style=\"text-align: right;\">\n",
       "      <th></th>\n",
       "      <th>PROFIT</th>\n",
       "    </tr>\n",
       "    <tr>\n",
       "      <th>PRODUCT</th>\n",
       "      <th></th>\n",
       "    </tr>\n",
       "  </thead>\n",
       "  <tbody>\n",
       "    <tr>\n",
       "      <th>BED_2</th>\n",
       "      <td>138.00</td>\n",
       "    </tr>\n",
       "    <tr>\n",
       "      <th>HOO_5</th>\n",
       "      <td>30.00</td>\n",
       "    </tr>\n",
       "    <tr>\n",
       "      <th>TAB_0</th>\n",
       "      <td>80.00</td>\n",
       "    </tr>\n",
       "    <tr>\n",
       "      <th>TAB_1</th>\n",
       "      <td>80.00</td>\n",
       "    </tr>\n",
       "    <tr>\n",
       "      <th>TSH_3</th>\n",
       "      <td>9.00</td>\n",
       "    </tr>\n",
       "    <tr>\n",
       "      <th>TSH_4</th>\n",
       "      <td>20.00</td>\n",
       "    </tr>\n",
       "  </tbody>\n",
       "</table>\n",
       "</div>"
      ],
      "text/plain": [
       "         PROFIT\n",
       "PRODUCT        \n",
       "BED_2    138.00\n",
       "HOO_5     30.00\n",
       "TAB_0     80.00\n",
       "TAB_1     80.00\n",
       "TSH_3      9.00\n",
       "TSH_4     20.00"
      ]
     },
     "execution_count": 27,
     "metadata": {},
     "output_type": "execute_result"
    }
   ],
   "source": [
    "%%time\n",
    "\n",
    "cube.query(m[\"PROFIT\"], levels=[l[\"PRODUCT\"]])"
   ]
  },
  {
   "cell_type": "markdown",
   "id": "3776a1f9-c10c-4912-866f-238a3b95fbee",
   "metadata": {},
   "source": [
    "Querying a subset of the aggregate provider levels also returns the result quickly.  \n",
    "\n",
    "The below query on a different level will access data from BigQuery and therefore, is limited by the querying speed of the cloud database and its network connectivity.  "
   ]
  },
  {
   "cell_type": "code",
   "execution_count": 28,
   "id": "08506fb9-16e3-4052-9288-380ecc441021",
   "metadata": {
    "tags": []
   },
   "outputs": [
    {
     "name": "stdout",
     "output_type": "stream",
     "text": [
      "CPU times: user 14.8 ms, sys: 7.62 ms, total: 22.5 ms\n",
      "Wall time: 3.16 s\n"
     ]
    },
    {
     "data": {
      "text/html": [
       "<div>\n",
       "<style scoped>\n",
       "    .dataframe tbody tr th:only-of-type {\n",
       "        vertical-align: middle;\n",
       "    }\n",
       "\n",
       "    .dataframe tbody tr th {\n",
       "        vertical-align: top;\n",
       "    }\n",
       "\n",
       "    .dataframe thead th {\n",
       "        text-align: right;\n",
       "    }\n",
       "</style>\n",
       "<table border=\"1\" class=\"dataframe\">\n",
       "  <thead>\n",
       "    <tr style=\"text-align: right;\">\n",
       "      <th></th>\n",
       "      <th></th>\n",
       "      <th></th>\n",
       "      <th>PROFIT</th>\n",
       "    </tr>\n",
       "    <tr>\n",
       "      <th>DATE</th>\n",
       "      <th>CATEGORY</th>\n",
       "      <th>SUB_CATEGORY</th>\n",
       "      <th></th>\n",
       "    </tr>\n",
       "  </thead>\n",
       "  <tbody>\n",
       "    <tr>\n",
       "      <th rowspan=\"2\" valign=\"top\">2022-02-04</th>\n",
       "      <th>Cloth</th>\n",
       "      <th>Hoodie</th>\n",
       "      <td>10.00</td>\n",
       "    </tr>\n",
       "    <tr>\n",
       "      <th>Furniture</th>\n",
       "      <th>Table</th>\n",
       "      <td>20.00</td>\n",
       "    </tr>\n",
       "    <tr>\n",
       "      <th rowspan=\"3\" valign=\"top\">2022-02-03</th>\n",
       "      <th rowspan=\"2\" valign=\"top\">Cloth</th>\n",
       "      <th>Hoodie</th>\n",
       "      <td>10.00</td>\n",
       "    </tr>\n",
       "    <tr>\n",
       "      <th>Tshirt</th>\n",
       "      <td>3.00</td>\n",
       "    </tr>\n",
       "    <tr>\n",
       "      <th>Furniture</th>\n",
       "      <th>Table</th>\n",
       "      <td>40.00</td>\n",
       "    </tr>\n",
       "    <tr>\n",
       "      <th rowspan=\"3\" valign=\"top\">2022-02-02</th>\n",
       "      <th rowspan=\"2\" valign=\"top\">Cloth</th>\n",
       "      <th>Hoodie</th>\n",
       "      <td>10.00</td>\n",
       "    </tr>\n",
       "    <tr>\n",
       "      <th>Tshirt</th>\n",
       "      <td>7.00</td>\n",
       "    </tr>\n",
       "    <tr>\n",
       "      <th>Furniture</th>\n",
       "      <th>Table</th>\n",
       "      <td>40.00</td>\n",
       "    </tr>\n",
       "    <tr>\n",
       "      <th rowspan=\"3\" valign=\"top\">2022-02-01</th>\n",
       "      <th>Cloth</th>\n",
       "      <th>Tshirt</th>\n",
       "      <td>11.00</td>\n",
       "    </tr>\n",
       "    <tr>\n",
       "      <th rowspan=\"2\" valign=\"top\">Furniture</th>\n",
       "      <th>Bed</th>\n",
       "      <td>23.00</td>\n",
       "    </tr>\n",
       "    <tr>\n",
       "      <th>Table</th>\n",
       "      <td>60.00</td>\n",
       "    </tr>\n",
       "    <tr>\n",
       "      <th rowspan=\"2\" valign=\"top\">2022-01-31</th>\n",
       "      <th>Cloth</th>\n",
       "      <th>Tshirt</th>\n",
       "      <td>8.00</td>\n",
       "    </tr>\n",
       "    <tr>\n",
       "      <th>Furniture</th>\n",
       "      <th>Bed</th>\n",
       "      <td>115.00</td>\n",
       "    </tr>\n",
       "  </tbody>\n",
       "</table>\n",
       "</div>"
      ],
      "text/plain": [
       "                                   PROFIT\n",
       "DATE       CATEGORY  SUB_CATEGORY        \n",
       "2022-02-04 Cloth     Hoodie         10.00\n",
       "           Furniture Table          20.00\n",
       "2022-02-03 Cloth     Hoodie         10.00\n",
       "                     Tshirt          3.00\n",
       "           Furniture Table          40.00\n",
       "2022-02-02 Cloth     Hoodie         10.00\n",
       "                     Tshirt          7.00\n",
       "           Furniture Table          40.00\n",
       "2022-02-01 Cloth     Tshirt         11.00\n",
       "           Furniture Bed            23.00\n",
       "                     Table          60.00\n",
       "2022-01-31 Cloth     Tshirt          8.00\n",
       "           Furniture Bed           115.00"
      ]
     },
     "execution_count": 28,
     "metadata": {},
     "output_type": "execute_result"
    }
   ],
   "source": [
    "%%time\n",
    "\n",
    "cube.query(m[\"PROFIT\"], levels=[l[\"DATE\"], l[\"SUB_CATEGORY\"]])"
   ]
  },
  {
   "cell_type": "markdown",
   "id": "c260f204-8f69-4f99-aefa-3e881c29e4bc",
   "metadata": {},
   "source": [
    "Before we are done with this example, let's create another aggregate provider with a _slice_ of data using `filter`.  \n",
    "\n",
    "Let's first capture the timing of the query without the aggregate provider."
   ]
  },
  {
   "cell_type": "code",
   "execution_count": 29,
   "id": "fe342fd4-1c7f-4995-833d-f3cac15d2aa4",
   "metadata": {},
   "outputs": [
    {
     "name": "stdout",
     "output_type": "stream",
     "text": [
      "CPU times: user 22.8 ms, sys: 5.7 ms, total: 28.5 ms\n",
      "Wall time: 2.39 s\n"
     ]
    },
    {
     "data": {
      "text/html": [
       "<div>\n",
       "<style scoped>\n",
       "    .dataframe tbody tr th:only-of-type {\n",
       "        vertical-align: middle;\n",
       "    }\n",
       "\n",
       "    .dataframe tbody tr th {\n",
       "        vertical-align: top;\n",
       "    }\n",
       "\n",
       "    .dataframe thead th {\n",
       "        text-align: right;\n",
       "    }\n",
       "</style>\n",
       "<table border=\"1\" class=\"dataframe\">\n",
       "  <thead>\n",
       "    <tr style=\"text-align: right;\">\n",
       "      <th></th>\n",
       "      <th></th>\n",
       "      <th></th>\n",
       "      <th>PROFIT</th>\n",
       "    </tr>\n",
       "    <tr>\n",
       "      <th>DATE</th>\n",
       "      <th>CATEGORY</th>\n",
       "      <th>SUB_CATEGORY</th>\n",
       "      <th></th>\n",
       "    </tr>\n",
       "  </thead>\n",
       "  <tbody>\n",
       "    <tr>\n",
       "      <th rowspan=\"2\" valign=\"top\">2022-02-04</th>\n",
       "      <th>Cloth</th>\n",
       "      <th>Hoodie</th>\n",
       "      <td>10.00</td>\n",
       "    </tr>\n",
       "    <tr>\n",
       "      <th>Furniture</th>\n",
       "      <th>Table</th>\n",
       "      <td>20.00</td>\n",
       "    </tr>\n",
       "  </tbody>\n",
       "</table>\n",
       "</div>"
      ],
      "text/plain": [
       "                                  PROFIT\n",
       "DATE       CATEGORY  SUB_CATEGORY       \n",
       "2022-02-04 Cloth     Hoodie        10.00\n",
       "           Furniture Table         20.00"
      ]
     },
     "execution_count": 29,
     "metadata": {},
     "output_type": "execute_result"
    }
   ],
   "source": [
    "%%time\n",
    "\n",
    "cube.query(\n",
    "    m[\"PROFIT\"],\n",
    "    levels=[l[\"DATE\"], l[\"CATEGORY\"], l[\"SUB_CATEGORY\"]],\n",
    "    filter=(l[\"DATE\"] == \"2022-02-04\"),\n",
    ")"
   ]
  },
  {
   "cell_type": "code",
   "execution_count": 30,
   "id": "b240a857-71f6-4344-8967-570013c0ac98",
   "metadata": {
    "tags": []
   },
   "outputs": [],
   "source": [
    "from datetime import date\n",
    "\n",
    "current_date = date(2022, 2, 24)"
   ]
  },
  {
   "cell_type": "markdown",
   "id": "9526ed6a-2c74-4ab5-935e-51899123340c",
   "metadata": {},
   "source": [
    "In the event where users are interested in a particular member of level, e.g. the current date or a particular shop, and the amount of querying on this member is huge, then it makes sense to cache them in memory.  \n",
    "\n",
    "In this case, we apply filter just for the interested member. This helps to control the amount of data held in memory."
   ]
  },
  {
   "cell_type": "code",
   "execution_count": 31,
   "id": "17ae6441-66db-4038-bfee-28df3b2c576e",
   "metadata": {},
   "outputs": [],
   "source": [
    "cube.aggregate_providers.update(\n",
    "    {\n",
    "        \"Category provider\": tt.AggregateProvider(\n",
    "            key=\"bitmap\",\n",
    "            levels=[l[\"DATE\"], l[\"CATEGORY\"], l[\"SUB_CATEGORY\"]],\n",
    "            measures=[m[\"QUANTITY.SUM\"], m[\"PURCHASE_PRICE.SUM\"], m[\"UNIT_PRICE.SUM\"]],\n",
    "            filter=(l[\"DATE\"] == current_date),\n",
    "        )\n",
    "    }\n",
    ")"
   ]
  },
  {
   "cell_type": "code",
   "execution_count": 32,
   "id": "adc253db-cebe-49a2-a8ae-2f9630d5338d",
   "metadata": {
    "tags": []
   },
   "outputs": [
    {
     "name": "stdout",
     "output_type": "stream",
     "text": [
      "CPU times: user 15.7 ms, sys: 5.65 ms, total: 21.3 ms\n",
      "Wall time: 3.14 s\n"
     ]
    },
    {
     "data": {
      "text/html": [
       "<div>\n",
       "<style scoped>\n",
       "    .dataframe tbody tr th:only-of-type {\n",
       "        vertical-align: middle;\n",
       "    }\n",
       "\n",
       "    .dataframe tbody tr th {\n",
       "        vertical-align: top;\n",
       "    }\n",
       "\n",
       "    .dataframe thead th {\n",
       "        text-align: right;\n",
       "    }\n",
       "</style>\n",
       "<table border=\"1\" class=\"dataframe\">\n",
       "  <thead>\n",
       "    <tr style=\"text-align: right;\">\n",
       "      <th></th>\n",
       "      <th></th>\n",
       "      <th></th>\n",
       "      <th>PROFIT</th>\n",
       "    </tr>\n",
       "    <tr>\n",
       "      <th>DATE</th>\n",
       "      <th>CATEGORY</th>\n",
       "      <th>SUB_CATEGORY</th>\n",
       "      <th></th>\n",
       "    </tr>\n",
       "  </thead>\n",
       "  <tbody>\n",
       "    <tr>\n",
       "      <th rowspan=\"2\" valign=\"top\">2022-02-04</th>\n",
       "      <th>Cloth</th>\n",
       "      <th>Hoodie</th>\n",
       "      <td>10.00</td>\n",
       "    </tr>\n",
       "    <tr>\n",
       "      <th>Furniture</th>\n",
       "      <th>Table</th>\n",
       "      <td>20.00</td>\n",
       "    </tr>\n",
       "  </tbody>\n",
       "</table>\n",
       "</div>"
      ],
      "text/plain": [
       "                                  PROFIT\n",
       "DATE       CATEGORY  SUB_CATEGORY       \n",
       "2022-02-04 Cloth     Hoodie        10.00\n",
       "           Furniture Table         20.00"
      ]
     },
     "execution_count": 32,
     "metadata": {},
     "output_type": "execute_result"
    }
   ],
   "source": [
    "%%time\n",
    "\n",
    "cube.query(\n",
    "    m[\"PROFIT\"],\n",
    "    levels=[l[\"DATE\"], l[\"CATEGORY\"], l[\"SUB_CATEGORY\"]],\n",
    "    filter=(l[\"DATE\"] == \"2022-02-04\"),\n",
    ")"
   ]
  },
  {
   "cell_type": "markdown",
   "id": "4b392590-0e19-4d03-84db-853028977e8b",
   "metadata": {},
   "source": [
    "## Balance between Cost and Performance"
   ]
  },
  {
   "cell_type": "markdown",
   "id": "1f44c57a-00ad-44eb-9195-ed0b0a808a62",
   "metadata": {},
   "source": [
    "All in all, Atoti's DirectQuery offers users a way to balance between cost and performance:\n",
    "\n",
    "* For data that is less queried, it resides on the cloud database and gets queried on-demand.\n",
    "* For data that is more frequently queried, we can cache it in memory and reduce the number of queries to the cloud database, thereby improving performance.  \n",
    "\n",
    "<img src=\"https://data.atoti.io/notebooks/direct-query/img/aggregate_cache.png\" />  \n",
    "\n",
    "💡 **Note:** To find out more, reach out to [ActiveViam](https://activeviam.com/contact-us/?utm_source=github&utm_medium=atoti) for a demonstration."
   ]
  },
  {
   "cell_type": "markdown",
   "id": "455e3f95-0a8c-48bf-b793-69d5fe2f2083",
   "metadata": {},
   "source": [
    "<div style=\"text-align: center;\" ><a href=\"https://www.atoti.io/?utm_source=gallery&utm_content=directquery-intro\" target=\"_blank\" rel=\"noopener noreferrer\"><img src=\"https://data.atoti.io/notebooks/banners/Your-turn-to-try-Atoti.jpg\" alt=\"Try Atoti\"></a></div>"
   ]
  }
 ],
 "metadata": {
  "kernelspec": {
   "display_name": "Python 3 (ipykernel)",
   "language": "python",
   "name": "python3"
  },
  "language_info": {
   "codemirror_mode": {
    "name": "ipython",
    "version": 3
   },
   "file_extension": ".py",
   "mimetype": "text/x-python",
   "name": "python",
   "nbconvert_exporter": "python",
   "pygments_lexer": "ipython3",
   "version": "3.10.0"
  },
  "widgets": {
   "application/vnd.jupyter.widget-state+json": {
    "state": {},
    "version_major": 2,
    "version_minor": 0
   }
  }
 },
 "nbformat": 4,
 "nbformat_minor": 5
}
