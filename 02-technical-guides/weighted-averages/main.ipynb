{
 "cells": [
  {
   "cell_type": "markdown",
   "id": "1c39acb5-4168-422c-bfb6-a9c2d404f944",
   "metadata": {},
   "source": [
    "# A Quick Guide to Weighted Averages\n",
    "\n",
    "Consider the following situations:\n",
    "\n",
    "* A vendor sets the price for their wares at...\n",
    "    * `10.00` USD per unit for 9 or fewer units,\n",
    "    * `9.50` USD per unit for 10-99 units, and\n",
    "    * `8.00` USD per unit for 100+ units.\n",
    "* A course rubric states...\n",
    "    * quizzes and homeworks count for `10%`,\n",
    "    * each exam counts for `20%`, and\n",
    "    * the final counts for `40%` of a student's final grade.\n",
    "* A research student needs...\n",
    "    * 10 mL of `70%` acetone solution,\n",
    "    * but only has `90%` and `60%` acetone.\n",
    "\n",
    "All of the above examples are cases of weighted averages, a common method of taking averages where each contributor has a different \"weight\" or \"importance\" to the average.\n",
    "\n",
    "So, how can we interact with weighted averages in our datasets? Consider the following example of a manufacturer listing out their cost of production."
   ]
  },
  {
   "cell_type": "markdown",
   "id": "6ce2fed8-a006-4bd4-adf9-fe5174932cf3",
   "metadata": {},
   "source": [
    "<div style=\"text-align: center;\" ><a href=\"https://www.atoti.io/?utm_source=gallery&utm_content=weighted-averages\" target=\"_blank\" rel=\"noopener noreferrer\"><img src=\"https://data.atoti.io/notebooks/banners/Discover-Atoti-now.png\" alt=\"Try Atoti\"></a></div>"
   ]
  },
  {
   "cell_type": "code",
   "execution_count": 1,
   "id": "22224e76-dc1f-48b4-9542-3b034ce638d2",
   "metadata": {},
   "outputs": [
    {
     "data": {
      "text/html": [
       "<div>\n",
       "<style scoped>\n",
       "    .dataframe tbody tr th:only-of-type {\n",
       "        vertical-align: middle;\n",
       "    }\n",
       "\n",
       "    .dataframe tbody tr th {\n",
       "        vertical-align: top;\n",
       "    }\n",
       "\n",
       "    .dataframe thead th {\n",
       "        text-align: right;\n",
       "    }\n",
       "</style>\n",
       "<table border=\"1\" class=\"dataframe\">\n",
       "  <thead>\n",
       "    <tr style=\"text-align: right;\">\n",
       "      <th></th>\n",
       "      <th></th>\n",
       "      <th>Qty</th>\n",
       "      <th>Cst</th>\n",
       "    </tr>\n",
       "    <tr>\n",
       "      <th>Ord</th>\n",
       "      <th>Itm</th>\n",
       "      <th></th>\n",
       "      <th></th>\n",
       "    </tr>\n",
       "  </thead>\n",
       "  <tbody>\n",
       "    <tr>\n",
       "      <th>1123123</th>\n",
       "      <th>Lumber Nails, pounds</th>\n",
       "      <td>10</td>\n",
       "      <td>14.0</td>\n",
       "    </tr>\n",
       "    <tr>\n",
       "      <th>9472872</th>\n",
       "      <th>Lumber Nails, pounds</th>\n",
       "      <td>10</td>\n",
       "      <td>12.0</td>\n",
       "    </tr>\n",
       "    <tr>\n",
       "      <th rowspan=\"2\" valign=\"top\">1123123</th>\n",
       "      <th>Paint, gals</th>\n",
       "      <td>5</td>\n",
       "      <td>32.0</td>\n",
       "    </tr>\n",
       "    <tr>\n",
       "      <th>Pressure Treated Planks</th>\n",
       "      <td>800</td>\n",
       "      <td>9100.0</td>\n",
       "    </tr>\n",
       "    <tr>\n",
       "      <th>1342342</th>\n",
       "      <th>Pressure Treated Planks</th>\n",
       "      <td>300</td>\n",
       "      <td>4100.0</td>\n",
       "    </tr>\n",
       "  </tbody>\n",
       "</table>\n",
       "</div>"
      ],
      "text/plain": [
       "                                 Qty     Cst\n",
       "Ord     Itm                                 \n",
       "1123123 Lumber Nails, pounds      10    14.0\n",
       "9472872 Lumber Nails, pounds      10    12.0\n",
       "1123123 Paint, gals                5    32.0\n",
       "        Pressure Treated Planks  800  9100.0\n",
       "1342342 Pressure Treated Planks  300  4100.0"
      ]
     },
     "execution_count": 1,
     "metadata": {},
     "output_type": "execute_result"
    }
   ],
   "source": [
    "import pandas as pd\n",
    "import atoti as tt\n",
    "\n",
    "session = tt.Session()\n",
    "supplycost = session.read_pandas(\n",
    "    pd.DataFrame(\n",
    "        columns=[\"Ord\", \"Itm\", \"Qty\", \"Cst\"],\n",
    "        data=[\n",
    "            (1123123, \"Lumber Nails, pounds\", 10, 14.00),\n",
    "            (1123123, \"Paint, gals\", 5, 32.00),\n",
    "            (1123123, \"Pressure Treated Planks\", 800, 9100.00),\n",
    "            (1342342, \"Pressure Treated Planks\", 300, 4100.00),\n",
    "            (1342342, \"Polycarbonate Sheets\", 100, 302.00),\n",
    "            (3134910, \"Paint, gals\", 10, 80.00),\n",
    "            (7423123, \"Pressure Treated Planks\", 1600, 12500.00),\n",
    "            (9472872, \"Lumber Nails, pounds\", 10, 12.00),\n",
    "        ],\n",
    "    ),\n",
    "    table_name=\"supplycost\",\n",
    "    keys=[\"Ord\", \"Itm\"],\n",
    ")\n",
    "\n",
    "supplycost.head()"
   ]
  },
  {
   "cell_type": "markdown",
   "id": "cf5aabee-07ca-4e20-823a-180a7bf437d6",
   "metadata": {},
   "source": [
    "In this example, a few of the items needed to manufacture the company's wares were purchased multiple times--but each time the unit price was different.  This could have happened because the vendor changed their prices, the manufacturer bought a different quantity and thus were eligible for a different price, or perhaps the manufacturer chose a different vendor.\n",
    "\n",
    "Determining the overall cost of manufacturing is straight forward, but what if the manufacturer wants to dig a bit deeper into the costs, and determine things like what was the average cost of lumber per item manufactured?"
   ]
  },
  {
   "cell_type": "code",
   "execution_count": 2,
   "id": "93d73f5e-146d-4932-82bf-570e9e54bbf4",
   "metadata": {},
   "outputs": [
    {
     "data": {
      "text/markdown": [
       "```mermaid\n",
       "erDiagram\n",
       "  \"supplycost\" {\n",
       "    _ long PK \"Ord\"\n",
       "    _ String PK \"Itm\"\n",
       "    nullable long \"Qty\"\n",
       "    nullable double \"Cst\"\n",
       "  }\n",
       "```\n"
      ],
      "text/plain": [
       "erDiagram\n",
       "  \"supplycost\" {\n",
       "    _ long PK \"Ord\"\n",
       "    _ String PK \"Itm\"\n",
       "    nullable long \"Qty\"\n",
       "    nullable double \"Cst\"\n",
       "  }"
      ]
     },
     "execution_count": 2,
     "metadata": {},
     "output_type": "execute_result"
    }
   ],
   "source": [
    "cube = session.create_cube(supplycost, mode=\"auto\")\n",
    "h, l, m = cube.hierarchies, cube.levels, cube.measures\n",
    "\n",
    "session.tables.schema"
   ]
  },
  {
   "cell_type": "markdown",
   "id": "da924482-adc2-40be-8055-e6e68e939ba0",
   "metadata": {},
   "source": [
    "Let's create a quick pivot table to see what measures we have and what they look like."
   ]
  },
  {
   "cell_type": "code",
   "execution_count": 3,
   "id": "bd7a46b0-0f0c-4608-bf06-764fa52d14db",
   "metadata": {
    "atoti": {
     "widget": {
      "columnWidths": {
       "[supplycost].[Itm].[Itm]": 178.125
      },
      "mapping": {
       "columns": [
        "ALL_MEASURES"
       ],
       "measures": [
        "[Measures].[Qty.MEAN]",
        "[Measures].[Qty.SUM]",
        "[Measures].[Cst.MEAN]",
        "[Measures].[Cst.SUM]"
       ],
       "rows": [
        "[supplycost].[Itm].[Itm]",
        "[supplycost].[Ord].[Ord]"
       ]
      },
      "query": {
       "mdx": "SELECT NON EMPTY Crossjoin(Hierarchize(Descendants({[supplycost].[Itm].[AllMember]}, 1, SELF_AND_BEFORE)), Hierarchize(Descendants({[supplycost].[Ord].[AllMember]}, 1, SELF_AND_BEFORE))) ON ROWS, NON EMPTY {[Measures].[Qty.MEAN], [Measures].[Qty.SUM], [Measures].[Cst.MEAN], [Measures].[Cst.SUM]} ON COLUMNS FROM [supplycost] CELL PROPERTIES VALUE, FORMATTED_VALUE, BACK_COLOR, FORE_COLOR, FONT_FLAGS",
       "updateMode": "once"
      },
      "serverKey": "default",
      "widgetKey": "pivot-table"
     }
    },
    "tags": []
   },
   "outputs": [
    {
     "data": {
      "application/vnd.atoti.widget.v0+json": {
       "sessionId": "1715105515_XA5DSP",
       "sessionLocation": {
        "https": false,
        "port": 54552
       },
       "widgetCreationCode": "session.widget"
      },
      "text/html": [
       "<img height=\"0\" width=\"0\" src=\"data:,AAAAAAAAAAAAAAAAAAAAAAAAAAAAAAAAAAAAAAAAAAAAAAAACXBIWXMAABqTAAAakwH55E62\" />"
      ],
      "text/plain": [
       "Open the notebook in JupyterLab with the Atoti JupyterLab extension enabled to build this widget."
      ]
     },
     "metadata": {},
     "output_type": "display_data"
    }
   ],
   "source": [
    "session.widget"
   ]
  },
  {
   "cell_type": "markdown",
   "id": "286d6cd0-b7c5-4225-86ff-66576c55e6b8",
   "metadata": {},
   "source": [
    "Several things pop out:\n",
    "\n",
    "* Firstly, with the exception of the `Cst.SUM` Total, none of the grand totals are sensible.  After all, paint would sold in terms of volume, bulk lumber nails in terms of weight, and planks and sheets in terms of linear length or square area.  Summing or averaging things with different units is odd.\n",
    "\n",
    "* Secondly, the `Cst.MEAN` is only relevant if we think about it in terms of number of orders-but it does not take into account the variation of quantity in each order.\n",
    "\n",
    "* Finally, to rectify this, we can create additional measures and replace our existing measures with new ones to better study our costs. For example, we can calculate the unit price for each item in each order."
   ]
  },
  {
   "cell_type": "code",
   "execution_count": 4,
   "id": "d96b6420-f634-455c-a0f5-f390cf8e570a",
   "metadata": {},
   "outputs": [],
   "source": [
    "m[\"UnitPrice\"] = tt.agg.single_value(supplycost[\"Cst\"]) / tt.agg.single_value(\n",
    "    supplycost[\"Qty\"]\n",
    ")"
   ]
  },
  {
   "cell_type": "markdown",
   "id": "5dd61cbb-5e3d-41f7-9271-c1fa313a8797",
   "metadata": {},
   "source": [
    "Looking at this in our pivot table, this seems sensible.  It would not make sense to sum up the unit cost for the same item across two orders.  At best, it might make sense to compute the average at the subtotal."
   ]
  },
  {
   "cell_type": "code",
   "execution_count": 5,
   "id": "c13eae3f-e9b8-45ac-a451-6c226c232e93",
   "metadata": {
    "atoti": {
     "widget": {
      "columnWidths": {
       "[supplycost].[Itm].[Itm]": 159
      },
      "mapping": {
       "columns": [
        "ALL_MEASURES"
       ],
       "measures": [
        "[Measures].[UnitPrice]"
       ],
       "rows": [
        "[supplycost].[Itm].[Itm]",
        "[supplycost].[Ord].[Ord]"
       ]
      },
      "query": {
       "mdx": "SELECT NON EMPTY Crossjoin(Hierarchize(Descendants({[supplycost].[Itm].[AllMember]}, 1, SELF_AND_BEFORE)), Hierarchize(Descendants({[supplycost].[Ord].[AllMember]}, 1, SELF_AND_BEFORE))) ON ROWS, NON EMPTY {[Measures].[UnitPrice]} ON COLUMNS FROM [supplycost] CELL PROPERTIES VALUE, FORMATTED_VALUE, BACK_COLOR, FORE_COLOR, FONT_FLAGS",
       "updateMode": "once"
      },
      "queryContext": [
       {
        "key": "mdx.hiddengrandtotals",
        "value": "1"
       }
      ],
      "serverKey": "default",
      "widgetKey": "pivot-table"
     }
    },
    "tags": []
   },
   "outputs": [
    {
     "data": {
      "application/vnd.atoti.widget.v0+json": {
       "sessionId": "1715105515_XA5DSP",
       "sessionLocation": {
        "https": false,
        "port": 54552
       },
       "widgetCreationCode": "session.widget"
      },
      "text/html": [
       "<img height=\"0\" width=\"0\" src=\"data:,AAAAAAAAAAAAAAAAAAAAAAAAAAAAAAAAAAAAAAAAAAAAAAAACXBIWXMAABqTAAAakwH55E62\" />"
      ],
      "text/plain": [
       "Open the notebook in JupyterLab with the Atoti JupyterLab extension enabled to build this widget."
      ]
     },
     "metadata": {},
     "output_type": "display_data"
    }
   ],
   "source": [
    "session.widget"
   ]
  },
  {
   "cell_type": "markdown",
   "id": "67a2504d-2fdd-4755-a64c-7e20a92e99c3",
   "metadata": {},
   "source": [
    "While summing up the unit price may not make sense, it could make sense to determine the max or min price.  Let's create these measures, as well as a (non-weighted) average."
   ]
  },
  {
   "cell_type": "code",
   "execution_count": 6,
   "id": "51dec40d-8e40-4163-bdb6-90c6d92ea68c",
   "metadata": {},
   "outputs": [],
   "source": [
    "m[\"UnitPrice.MAX\"] = tt.agg.max(\n",
    "    m[\"UnitPrice\"], scope=tt.OriginScope(levels={l[\"Itm\"], l[\"Ord\"]})\n",
    ")\n",
    "m[\"UnitPrice.MIN\"] = tt.agg.min(\n",
    "    m[\"UnitPrice\"], scope=tt.OriginScope(levels={l[\"Itm\"], l[\"Ord\"]})\n",
    ")\n",
    "\n",
    "m[\"UnitPrice.MEAN\"] = tt.agg.mean(\n",
    "    m[\"UnitPrice\"], scope=tt.OriginScope(levels={l[\"Itm\"], l[\"Ord\"]})\n",
    ")"
   ]
  },
  {
   "cell_type": "code",
   "execution_count": 7,
   "id": "372b5778-9c48-4a89-a12a-d6f9db73221f",
   "metadata": {
    "atoti": {
     "widget": {
      "mapping": {
       "columns": [
        "ALL_MEASURES"
       ],
       "measures": [
        "[Measures].[UnitPrice]",
        "[Measures].[UnitPrice.MEAN]",
        "[Measures].[UnitPrice.MAX]",
        "[Measures].[UnitPrice.MIN]"
       ],
       "rows": [
        "[supplycost].[Itm].[Itm]",
        "[supplycost].[Ord].[Ord]"
       ]
      },
      "query": {
       "mdx": "SELECT NON EMPTY Crossjoin(Hierarchize(Descendants({[supplycost].[Itm].[AllMember]}, 1, SELF_AND_BEFORE)), Hierarchize(Descendants({[supplycost].[Ord].[AllMember]}, 1, SELF_AND_BEFORE))) ON ROWS, NON EMPTY {[Measures].[UnitPrice], [Measures].[UnitPrice.MEAN], [Measures].[UnitPrice.MAX], [Measures].[UnitPrice.MIN]} ON COLUMNS FROM [supplycost] CELL PROPERTIES VALUE, FORMATTED_VALUE, BACK_COLOR, FORE_COLOR, FONT_FLAGS",
       "updateMode": "once"
      },
      "serverKey": "default",
      "widgetKey": "pivot-table"
     }
    },
    "tags": []
   },
   "outputs": [
    {
     "data": {
      "application/vnd.atoti.widget.v0+json": {
       "sessionId": "1715105515_XA5DSP",
       "sessionLocation": {
        "https": false,
        "port": 54552
       },
       "widgetCreationCode": "session.widget"
      },
      "text/html": [
       "<img height=\"0\" width=\"0\" src=\"data:,AAAAAAAAAAAAAAAAAAAAAAAAAAAAAAAAAAAAAAAAAAAAAAAACXBIWXMAABqTAAAakwH55E62\" />"
      ],
      "text/plain": [
       "Open the notebook in JupyterLab with the Atoti JupyterLab extension enabled to build this widget."
      ]
     },
     "metadata": {},
     "output_type": "display_data"
    }
   ],
   "source": [
    "session.widget"
   ]
  },
  {
   "cell_type": "markdown",
   "id": "df462906-c0a2-46a5-b1f7-7cee372c5fbc",
   "metadata": {},
   "source": [
    "We've computed the average unit price, but what about the weighted average unit price - that is, the price taking into account the different order sizes?  The average unit price is a simple average.\n",
    "\n",
    "To compute the weighted average, we need to take the total cost for each item across orders, and divide by the overall number of units purchased for each item across orders.  This will help account, or weight, orders where a greater number or more were purchased heavier than orders of the same item where fewer or less were purchased."
   ]
  },
  {
   "cell_type": "code",
   "execution_count": 8,
   "id": "ecc4e9e6-f10b-4c7c-8012-6262f5917bda",
   "metadata": {},
   "outputs": [],
   "source": [
    "m[\"UnitPrice.WA\"] = tt.agg.sum(\n",
    "    (m[\"Cst.SUM\"] / m[\"Qty.SUM\"]), scope=tt.OriginScope(levels={l[\"Itm\"]})\n",
    ")"
   ]
  },
  {
   "cell_type": "code",
   "execution_count": 9,
   "id": "ccaed4b6-72d1-40a5-8381-65e8d669a180",
   "metadata": {
    "atoti": {
     "widget": {
      "mapping": {
       "columns": [
        "ALL_MEASURES"
       ],
       "measures": [
        "[Measures].[UnitPrice.WA]",
        "[Measures].[Qty.SUM]",
        "[Measures].[Cst.SUM]"
       ],
       "rows": [
        "[supplycost].[Itm].[Itm]",
        "[supplycost].[Ord].[Ord]"
       ]
      },
      "query": {
       "mdx": "SELECT NON EMPTY Crossjoin(Hierarchize(Descendants({[supplycost].[Itm].[AllMember]}, 1, SELF_AND_BEFORE)), Hierarchize(Descendants({[supplycost].[Ord].[AllMember]}, 1, SELF_AND_BEFORE))) ON ROWS, NON EMPTY {[Measures].[UnitPrice.WA], [Measures].[Qty.SUM], [Measures].[Cst.SUM]} ON COLUMNS FROM [supplycost] CELL PROPERTIES VALUE, FORMATTED_VALUE, BACK_COLOR, FORE_COLOR, FONT_FLAGS",
       "updateMode": "once"
      },
      "serverKey": "default",
      "widgetKey": "pivot-table"
     }
    },
    "tags": []
   },
   "outputs": [
    {
     "data": {
      "application/vnd.atoti.widget.v0+json": {
       "sessionId": "1715105515_XA5DSP",
       "sessionLocation": {
        "https": false,
        "port": 54552
       },
       "widgetCreationCode": "session.widget"
      },
      "text/html": [
       "<img height=\"0\" width=\"0\" src=\"data:,AAAAAAAAAAAAAAAAAAAAAAAAAAAAAAAAAAAAAAAAAAAAAAAACXBIWXMAABqTAAAakwH55E62\" />"
      ],
      "text/plain": [
       "Open the notebook in JupyterLab with the Atoti JupyterLab extension enabled to build this widget."
      ]
     },
     "metadata": {},
     "output_type": "display_data"
    }
   ],
   "source": [
    "session.widget"
   ]
  },
  {
   "cell_type": "markdown",
   "id": "540f4ea9-f17e-4f6b-aec4-b7b3f8dc9e88",
   "metadata": {},
   "source": [
    "And for comparison, this is not the same as the mean Unit Price!"
   ]
  },
  {
   "cell_type": "code",
   "execution_count": 10,
   "id": "59069291-a9ae-448a-a3c4-c51c459869b7",
   "metadata": {
    "atoti": {
     "widget": {
      "mapping": {
       "columns": [
        "ALL_MEASURES"
       ],
       "measures": [
        "[Measures].[UnitPrice]",
        "[Measures].[UnitPrice.WA]",
        "[Measures].[UnitPrice.MEAN]"
       ],
       "rows": [
        "[supplycost].[Itm].[Itm]",
        "[supplycost].[Ord].[Ord]"
       ]
      },
      "query": {
       "mdx": "SELECT NON EMPTY {[Measures].[UnitPrice], [Measures].[UnitPrice.WA], [Measures].[UnitPrice.MEAN]} ON COLUMNS, NON EMPTY Crossjoin(Hierarchize(Descendants({[supplycost].[Itm].[AllMember]}, 1, SELF_AND_BEFORE)), Hierarchize(Descendants({[supplycost].[Ord].[AllMember]}, 1, SELF_AND_BEFORE))) ON ROWS FROM [supplycost] CELL PROPERTIES VALUE, FORMATTED_VALUE, BACK_COLOR, FORE_COLOR, FONT_FLAGS",
       "updateMode": "once"
      },
      "serverKey": "default",
      "widgetKey": "pivot-table"
     }
    },
    "tags": []
   },
   "outputs": [
    {
     "data": {
      "application/vnd.atoti.widget.v0+json": {
       "sessionId": "1715105515_XA5DSP",
       "sessionLocation": {
        "https": false,
        "port": 54552
       },
       "widgetCreationCode": "session.widget"
      },
      "text/html": [
       "<img height=\"0\" width=\"0\" src=\"data:,AAAAAAAAAAAAAAAAAAAAAAAAAAAAAAAAAAAAAAAAAAAAAAAACXBIWXMAABqTAAAakwH55E62\" />"
      ],
      "text/plain": [
       "Open the notebook in JupyterLab with the Atoti JupyterLab extension enabled to build this widget."
      ]
     },
     "metadata": {},
     "output_type": "display_data"
    }
   ],
   "source": [
    "session.widget"
   ]
  },
  {
   "cell_type": "markdown",
   "id": "4df06859-c3b4-4edb-ad87-03a897c31444",
   "metadata": {},
   "source": [
    "A note about the newly creating measures:  it is still accurate regardless of the order of our hierarchies, allowing us to view the supply costs costs from multiple perspectives.  For example, if we wanted to determine the unit price weighted average for each item in an order (if that made sense; in this example, it is a bit odd), we can do so with the measure we already created."
   ]
  },
  {
   "cell_type": "code",
   "execution_count": 11,
   "id": "a5245701-18d6-4bb2-9aec-968ea661781b",
   "metadata": {
    "atoti": {
     "height": 498,
     "widget": {
      "mapping": {
       "columns": [
        "ALL_MEASURES"
       ],
       "measures": [
        "[Measures].[UnitPrice]",
        "[Measures].[UnitPrice.WA]",
        "[Measures].[Cst.SUM]"
       ],
       "rows": [
        "[supplycost].[Ord].[Ord]",
        "[supplycost].[Itm].[Itm]"
       ]
      },
      "query": {
       "mdx": "SELECT NON EMPTY Crossjoin(Hierarchize(Descendants({[supplycost].[Ord].[AllMember]}, 1, SELF_AND_BEFORE)), Hierarchize(Descendants({[supplycost].[Itm].[ALL].[AllMember]}, 1, SELF_AND_BEFORE))) ON ROWS, NON EMPTY {[Measures].[UnitPrice], [Measures].[UnitPrice.WA], [Measures].[Cst.SUM]} ON COLUMNS FROM [supplycost] CELL PROPERTIES VALUE, FORMATTED_VALUE, BACK_COLOR, FORE_COLOR, FONT_FLAGS",
       "updateMode": "once"
      },
      "serverKey": "default",
      "widgetKey": "pivot-table"
     }
    },
    "tags": []
   },
   "outputs": [
    {
     "data": {
      "application/vnd.atoti.widget.v0+json": {
       "sessionId": "1715105515_XA5DSP",
       "sessionLocation": {
        "https": false,
        "port": 54552
       },
       "widgetCreationCode": "session.widget"
      },
      "text/html": [
       "<img height=\"0\" width=\"0\" src=\"data:,AAAAAAAAAAAAAAAAAAAAAAAAAAAAAAAAAAAAAAAAAAAAAAAACXBIWXMAABqTAAAakwH55E62\" />"
      ],
      "text/plain": [
       "Open the notebook in JupyterLab with the Atoti JupyterLab extension enabled to build this widget."
      ]
     },
     "metadata": {},
     "output_type": "display_data"
    }
   ],
   "source": [
    "session.widget"
   ]
  },
  {
   "cell_type": "markdown",
   "id": "5398e521-5e8d-4050-a90d-8926c66aa4ef",
   "metadata": {},
   "source": [
    "<div style=\"text-align: center;\" ><a href=\"https://www.atoti.io/?utm_source=gallery&utm_content=weighted-averages\" target=\"_blank\" rel=\"noopener noreferrer\"><img src=\"https://data.atoti.io/notebooks/banners/Your-turn-to-try-Atoti.jpg\" alt=\"Try Atoti\"></a></div>"
   ]
  }
 ],
 "metadata": {
  "kernelspec": {
   "display_name": "Python 3 (ipykernel)",
   "language": "python",
   "name": "python3"
  },
  "language_info": {
   "codemirror_mode": {
    "name": "ipython",
    "version": 3
   },
   "file_extension": ".py",
   "mimetype": "text/x-python",
   "name": "python",
   "nbconvert_exporter": "python",
   "pygments_lexer": "ipython3",
   "version": "3.11.9"
  }
 },
 "nbformat": 4,
 "nbformat_minor": 5
}
