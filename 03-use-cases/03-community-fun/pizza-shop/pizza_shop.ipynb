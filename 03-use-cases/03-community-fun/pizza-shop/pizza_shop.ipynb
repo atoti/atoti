{
 "cells": [
  {
   "cell_type": "code",
   "execution_count": 1,
   "id": "69ce0e76-af57-4e95-ad8a-8a9a609c89f5",
   "metadata": {},
   "outputs": [
    {
     "name": "stdout",
     "output_type": "stream",
     "text": [
      "Welcome to Atoti 0.8.7!\n",
      "\n",
      "By using this community edition, you agree with the license available at https://docs.atoti.io/latest/eula.html.\n",
      "Browse the official documentation at https://docs.atoti.io.\n",
      "Join the community at https://www.atoti.io/register.\n",
      "\n",
      "Atoti collects telemetry data, which is used to help understand how to improve the product.\n",
      "If you don't wish to send usage data, you can request a trial license at https://www.atoti.io/evaluation-license-request.\n",
      "\n",
      "You can hide this message by setting the `ATOTI_HIDE_EULA_MESSAGE` environment variable to True.\n"
     ]
    }
   ],
   "source": [
    "import atoti\n",
    "import pandas as pd"
   ]
  },
  {
   "cell_type": "markdown",
   "id": "6a7c34a3-c091-494c-b6b8-7c8f29608a45",
   "metadata": {},
   "source": [
    "## Instantiate Atoti Server and UI"
   ]
  },
  {
   "cell_type": "code",
   "execution_count": 2,
   "id": "50b174f8-ce5e-4a45-a62f-f12d59b2a2c8",
   "metadata": {},
   "outputs": [
    {
     "data": {
      "application/vnd.atoti.link.v0+json": {
       "path": "",
       "sessionLocation": {
        "https": false,
        "port": 9092
       }
      },
      "text/markdown": [
       "http://localhost:9092\n",
       "\n",
       "_Note_: This is the session's local URL: it may not be reachable if Atoti is running on another machine."
      ],
      "text/plain": [
       "http://localhost:9092 (This is the session's local URL: it may not be reachable if Atoti is running on another machine.)"
      ]
     },
     "execution_count": 2,
     "metadata": {},
     "output_type": "execute_result"
    }
   ],
   "source": [
    "# Start an Atoti Server instance\n",
    "session = atoti.Session(\n",
    "    user_content_storage=\"./content\",\n",
    "    port=9092,\n",
    "    java_options=[\"-Xms1G\", \"-Xmx10G\"],\n",
    "    # app_extensions=tt.ADVANCED_APP_EXTENSION,\n",
    ")\n",
    "session.link"
   ]
  },
  {
   "cell_type": "markdown",
   "id": "99e102f0-a91c-4ee7-af58-9999a91b27a9",
   "metadata": {},
   "source": [
    "## Inspect Data Quality Using Pandas"
   ]
  },
  {
   "cell_type": "code",
   "execution_count": 3,
   "id": "b07beac5-0f02-4ed4-9a85-39587f819ee8",
   "metadata": {},
   "outputs": [
    {
     "data": {
      "text/html": [
       "<div>\n",
       "<style scoped>\n",
       "    .dataframe tbody tr th:only-of-type {\n",
       "        vertical-align: middle;\n",
       "    }\n",
       "\n",
       "    .dataframe tbody tr th {\n",
       "        vertical-align: top;\n",
       "    }\n",
       "\n",
       "    .dataframe thead th {\n",
       "        text-align: right;\n",
       "    }\n",
       "</style>\n",
       "<table border=\"1\" class=\"dataframe\">\n",
       "  <thead>\n",
       "    <tr style=\"text-align: right;\">\n",
       "      <th></th>\n",
       "      <th>order_details_id</th>\n",
       "      <th>order_id</th>\n",
       "      <th>pizza_id</th>\n",
       "      <th>quantity</th>\n",
       "      <th>order_date</th>\n",
       "      <th>order_time</th>\n",
       "      <th>unit_price</th>\n",
       "      <th>total_price</th>\n",
       "      <th>pizza_size</th>\n",
       "      <th>pizza_category</th>\n",
       "      <th>pizza_ingredients</th>\n",
       "      <th>pizza_name</th>\n",
       "    </tr>\n",
       "  </thead>\n",
       "  <tbody>\n",
       "    <tr>\n",
       "      <th>0</th>\n",
       "      <td>1</td>\n",
       "      <td>1</td>\n",
       "      <td>hawaiian_m</td>\n",
       "      <td>1</td>\n",
       "      <td>1/1/15</td>\n",
       "      <td>11:38:36</td>\n",
       "      <td>13.25</td>\n",
       "      <td>13.25</td>\n",
       "      <td>M</td>\n",
       "      <td>Classic</td>\n",
       "      <td>Sliced Ham, Pineapple, Mozzarella Cheese</td>\n",
       "      <td>The Hawaiian Pizza</td>\n",
       "    </tr>\n",
       "    <tr>\n",
       "      <th>1</th>\n",
       "      <td>2</td>\n",
       "      <td>2</td>\n",
       "      <td>classic_dlx_m</td>\n",
       "      <td>1</td>\n",
       "      <td>1/1/15</td>\n",
       "      <td>11:57:40</td>\n",
       "      <td>16.00</td>\n",
       "      <td>16.00</td>\n",
       "      <td>M</td>\n",
       "      <td>Classic</td>\n",
       "      <td>Pepperoni, Mushrooms, Red Onions, Red Peppers,...</td>\n",
       "      <td>The Classic Deluxe Pizza</td>\n",
       "    </tr>\n",
       "    <tr>\n",
       "      <th>2</th>\n",
       "      <td>3</td>\n",
       "      <td>2</td>\n",
       "      <td>five_cheese_l</td>\n",
       "      <td>1</td>\n",
       "      <td>1/1/15</td>\n",
       "      <td>11:57:40</td>\n",
       "      <td>18.50</td>\n",
       "      <td>18.50</td>\n",
       "      <td>L</td>\n",
       "      <td>Veggie</td>\n",
       "      <td>Mozzarella Cheese, Provolone Cheese, Smoked Go...</td>\n",
       "      <td>The Five Cheese Pizza</td>\n",
       "    </tr>\n",
       "    <tr>\n",
       "      <th>3</th>\n",
       "      <td>4</td>\n",
       "      <td>2</td>\n",
       "      <td>ital_supr_l</td>\n",
       "      <td>1</td>\n",
       "      <td>1/1/15</td>\n",
       "      <td>11:57:40</td>\n",
       "      <td>20.75</td>\n",
       "      <td>20.75</td>\n",
       "      <td>L</td>\n",
       "      <td>Supreme</td>\n",
       "      <td>Calabrese Salami, Capocollo, Tomatoes, Red Oni...</td>\n",
       "      <td>The Italian Supreme Pizza</td>\n",
       "    </tr>\n",
       "    <tr>\n",
       "      <th>4</th>\n",
       "      <td>5</td>\n",
       "      <td>2</td>\n",
       "      <td>mexicana_m</td>\n",
       "      <td>1</td>\n",
       "      <td>1/1/15</td>\n",
       "      <td>11:57:40</td>\n",
       "      <td>16.00</td>\n",
       "      <td>16.00</td>\n",
       "      <td>M</td>\n",
       "      <td>Veggie</td>\n",
       "      <td>Tomatoes, Red Peppers, Jalapeno Peppers, Red O...</td>\n",
       "      <td>The Mexicana Pizza</td>\n",
       "    </tr>\n",
       "  </tbody>\n",
       "</table>\n",
       "</div>"
      ],
      "text/plain": [
       "   order_details_id  order_id       pizza_id  quantity order_date order_time  \\\n",
       "0                 1         1     hawaiian_m         1     1/1/15   11:38:36   \n",
       "1                 2         2  classic_dlx_m         1     1/1/15   11:57:40   \n",
       "2                 3         2  five_cheese_l         1     1/1/15   11:57:40   \n",
       "3                 4         2    ital_supr_l         1     1/1/15   11:57:40   \n",
       "4                 5         2     mexicana_m         1     1/1/15   11:57:40   \n",
       "\n",
       "   unit_price  total_price pizza_size pizza_category  \\\n",
       "0       13.25        13.25          M        Classic   \n",
       "1       16.00        16.00          M        Classic   \n",
       "2       18.50        18.50          L         Veggie   \n",
       "3       20.75        20.75          L        Supreme   \n",
       "4       16.00        16.00          M         Veggie   \n",
       "\n",
       "                                   pizza_ingredients  \\\n",
       "0           Sliced Ham, Pineapple, Mozzarella Cheese   \n",
       "1  Pepperoni, Mushrooms, Red Onions, Red Peppers,...   \n",
       "2  Mozzarella Cheese, Provolone Cheese, Smoked Go...   \n",
       "3  Calabrese Salami, Capocollo, Tomatoes, Red Oni...   \n",
       "4  Tomatoes, Red Peppers, Jalapeno Peppers, Red O...   \n",
       "\n",
       "                  pizza_name  \n",
       "0         The Hawaiian Pizza  \n",
       "1   The Classic Deluxe Pizza  \n",
       "2      The Five Cheese Pizza  \n",
       "3  The Italian Supreme Pizza  \n",
       "4         The Mexicana Pizza  "
      ]
     },
     "execution_count": 3,
     "metadata": {},
     "output_type": "execute_result"
    }
   ],
   "source": [
    "pizza_sales_df = pd.read_csv(\"data/pizza_sales.csv\")\n",
    "pizza_sales_df.head()"
   ]
  },
  {
   "cell_type": "code",
   "execution_count": 4,
   "id": "651bc1c3-a49f-470d-aa75-23dbe0760773",
   "metadata": {},
   "outputs": [
    {
     "name": "stderr",
     "output_type": "stream",
     "text": [
      "/var/folders/0c/xpj2tqqs5yvfd1bxcb1ydy5h0000gp/T/ipykernel_3595/3229000270.py:1: UserWarning: Could not infer format, so each element will be parsed individually, falling back to `dateutil`. To ensure parsing is consistent and as-expected, please specify a format.\n",
      "  pizza_sales_df['order_date'] = pd.to_datetime(pizza_sales_df['order_date'], dayfirst=True)\n",
      "/var/folders/0c/xpj2tqqs5yvfd1bxcb1ydy5h0000gp/T/ipykernel_3595/3229000270.py:2: UserWarning: Could not infer format, so each element will be parsed individually, falling back to `dateutil`. To ensure parsing is consistent and as-expected, please specify a format.\n",
      "  pizza_sales_df['order_time'] = pd.to_datetime(pizza_sales_df['order_time'])\n"
     ]
    },
    {
     "data": {
      "text/html": [
       "<div>\n",
       "<style scoped>\n",
       "    .dataframe tbody tr th:only-of-type {\n",
       "        vertical-align: middle;\n",
       "    }\n",
       "\n",
       "    .dataframe tbody tr th {\n",
       "        vertical-align: top;\n",
       "    }\n",
       "\n",
       "    .dataframe thead th {\n",
       "        text-align: right;\n",
       "    }\n",
       "</style>\n",
       "<table border=\"1\" class=\"dataframe\">\n",
       "  <thead>\n",
       "    <tr style=\"text-align: right;\">\n",
       "      <th></th>\n",
       "      <th>order_details_id</th>\n",
       "      <th>order_id</th>\n",
       "      <th>pizza_id</th>\n",
       "      <th>quantity</th>\n",
       "      <th>order_date</th>\n",
       "      <th>order_time</th>\n",
       "      <th>unit_price</th>\n",
       "      <th>total_price</th>\n",
       "      <th>pizza_size</th>\n",
       "      <th>pizza_category</th>\n",
       "      <th>pizza_ingredients</th>\n",
       "      <th>pizza_name</th>\n",
       "    </tr>\n",
       "  </thead>\n",
       "  <tbody>\n",
       "    <tr>\n",
       "      <th>0</th>\n",
       "      <td>1</td>\n",
       "      <td>1</td>\n",
       "      <td>hawaiian_m</td>\n",
       "      <td>1</td>\n",
       "      <td>2015-01-01</td>\n",
       "      <td>2024-01-08 11:38:36</td>\n",
       "      <td>13.25</td>\n",
       "      <td>13.25</td>\n",
       "      <td>M</td>\n",
       "      <td>Classic</td>\n",
       "      <td>Sliced Ham, Pineapple, Mozzarella Cheese</td>\n",
       "      <td>The Hawaiian Pizza</td>\n",
       "    </tr>\n",
       "    <tr>\n",
       "      <th>1</th>\n",
       "      <td>2</td>\n",
       "      <td>2</td>\n",
       "      <td>classic_dlx_m</td>\n",
       "      <td>1</td>\n",
       "      <td>2015-01-01</td>\n",
       "      <td>2024-01-08 11:57:40</td>\n",
       "      <td>16.00</td>\n",
       "      <td>16.00</td>\n",
       "      <td>M</td>\n",
       "      <td>Classic</td>\n",
       "      <td>Pepperoni, Mushrooms, Red Onions, Red Peppers,...</td>\n",
       "      <td>The Classic Deluxe Pizza</td>\n",
       "    </tr>\n",
       "    <tr>\n",
       "      <th>2</th>\n",
       "      <td>3</td>\n",
       "      <td>2</td>\n",
       "      <td>five_cheese_l</td>\n",
       "      <td>1</td>\n",
       "      <td>2015-01-01</td>\n",
       "      <td>2024-01-08 11:57:40</td>\n",
       "      <td>18.50</td>\n",
       "      <td>18.50</td>\n",
       "      <td>L</td>\n",
       "      <td>Veggie</td>\n",
       "      <td>Mozzarella Cheese, Provolone Cheese, Smoked Go...</td>\n",
       "      <td>The Five Cheese Pizza</td>\n",
       "    </tr>\n",
       "    <tr>\n",
       "      <th>3</th>\n",
       "      <td>4</td>\n",
       "      <td>2</td>\n",
       "      <td>ital_supr_l</td>\n",
       "      <td>1</td>\n",
       "      <td>2015-01-01</td>\n",
       "      <td>2024-01-08 11:57:40</td>\n",
       "      <td>20.75</td>\n",
       "      <td>20.75</td>\n",
       "      <td>L</td>\n",
       "      <td>Supreme</td>\n",
       "      <td>Calabrese Salami, Capocollo, Tomatoes, Red Oni...</td>\n",
       "      <td>The Italian Supreme Pizza</td>\n",
       "    </tr>\n",
       "    <tr>\n",
       "      <th>4</th>\n",
       "      <td>5</td>\n",
       "      <td>2</td>\n",
       "      <td>mexicana_m</td>\n",
       "      <td>1</td>\n",
       "      <td>2015-01-01</td>\n",
       "      <td>2024-01-08 11:57:40</td>\n",
       "      <td>16.00</td>\n",
       "      <td>16.00</td>\n",
       "      <td>M</td>\n",
       "      <td>Veggie</td>\n",
       "      <td>Tomatoes, Red Peppers, Jalapeno Peppers, Red O...</td>\n",
       "      <td>The Mexicana Pizza</td>\n",
       "    </tr>\n",
       "    <tr>\n",
       "      <th>...</th>\n",
       "      <td>...</td>\n",
       "      <td>...</td>\n",
       "      <td>...</td>\n",
       "      <td>...</td>\n",
       "      <td>...</td>\n",
       "      <td>...</td>\n",
       "      <td>...</td>\n",
       "      <td>...</td>\n",
       "      <td>...</td>\n",
       "      <td>...</td>\n",
       "      <td>...</td>\n",
       "      <td>...</td>\n",
       "    </tr>\n",
       "    <tr>\n",
       "      <th>48615</th>\n",
       "      <td>48616</td>\n",
       "      <td>21348</td>\n",
       "      <td>ckn_alfredo_m</td>\n",
       "      <td>1</td>\n",
       "      <td>2015-12-31</td>\n",
       "      <td>2024-01-08 21:23:10</td>\n",
       "      <td>16.75</td>\n",
       "      <td>16.75</td>\n",
       "      <td>M</td>\n",
       "      <td>Chicken</td>\n",
       "      <td>Chicken, Red Onions, Red Peppers, Mushrooms, A...</td>\n",
       "      <td>The Chicken Alfredo Pizza</td>\n",
       "    </tr>\n",
       "    <tr>\n",
       "      <th>48616</th>\n",
       "      <td>48617</td>\n",
       "      <td>21348</td>\n",
       "      <td>four_cheese_l</td>\n",
       "      <td>1</td>\n",
       "      <td>2015-12-31</td>\n",
       "      <td>2024-01-08 21:23:10</td>\n",
       "      <td>17.95</td>\n",
       "      <td>17.95</td>\n",
       "      <td>L</td>\n",
       "      <td>Veggie</td>\n",
       "      <td>Ricotta Cheese, Gorgonzola Piccante Cheese, Mo...</td>\n",
       "      <td>The Four Cheese Pizza</td>\n",
       "    </tr>\n",
       "    <tr>\n",
       "      <th>48617</th>\n",
       "      <td>48618</td>\n",
       "      <td>21348</td>\n",
       "      <td>napolitana_s</td>\n",
       "      <td>1</td>\n",
       "      <td>2015-12-31</td>\n",
       "      <td>2024-01-08 21:23:10</td>\n",
       "      <td>12.00</td>\n",
       "      <td>12.00</td>\n",
       "      <td>S</td>\n",
       "      <td>Classic</td>\n",
       "      <td>Tomatoes, Anchovies, Green Olives, Red Onions,...</td>\n",
       "      <td>The Napolitana Pizza</td>\n",
       "    </tr>\n",
       "    <tr>\n",
       "      <th>48618</th>\n",
       "      <td>48619</td>\n",
       "      <td>21349</td>\n",
       "      <td>mexicana_l</td>\n",
       "      <td>1</td>\n",
       "      <td>2015-12-31</td>\n",
       "      <td>2024-01-08 22:09:54</td>\n",
       "      <td>20.25</td>\n",
       "      <td>20.25</td>\n",
       "      <td>L</td>\n",
       "      <td>Veggie</td>\n",
       "      <td>Tomatoes, Red Peppers, Jalapeno Peppers, Red O...</td>\n",
       "      <td>The Mexicana Pizza</td>\n",
       "    </tr>\n",
       "    <tr>\n",
       "      <th>48619</th>\n",
       "      <td>48620</td>\n",
       "      <td>21350</td>\n",
       "      <td>bbq_ckn_s</td>\n",
       "      <td>1</td>\n",
       "      <td>2015-12-31</td>\n",
       "      <td>2024-01-08 23:02:05</td>\n",
       "      <td>12.75</td>\n",
       "      <td>12.75</td>\n",
       "      <td>S</td>\n",
       "      <td>Chicken</td>\n",
       "      <td>Barbecued Chicken, Red Peppers, Green Peppers,...</td>\n",
       "      <td>The Barbecue Chicken Pizza</td>\n",
       "    </tr>\n",
       "  </tbody>\n",
       "</table>\n",
       "<p>48620 rows × 12 columns</p>\n",
       "</div>"
      ],
      "text/plain": [
       "       order_details_id  order_id       pizza_id  quantity order_date  \\\n",
       "0                     1         1     hawaiian_m         1 2015-01-01   \n",
       "1                     2         2  classic_dlx_m         1 2015-01-01   \n",
       "2                     3         2  five_cheese_l         1 2015-01-01   \n",
       "3                     4         2    ital_supr_l         1 2015-01-01   \n",
       "4                     5         2     mexicana_m         1 2015-01-01   \n",
       "...                 ...       ...            ...       ...        ...   \n",
       "48615             48616     21348  ckn_alfredo_m         1 2015-12-31   \n",
       "48616             48617     21348  four_cheese_l         1 2015-12-31   \n",
       "48617             48618     21348   napolitana_s         1 2015-12-31   \n",
       "48618             48619     21349     mexicana_l         1 2015-12-31   \n",
       "48619             48620     21350      bbq_ckn_s         1 2015-12-31   \n",
       "\n",
       "               order_time  unit_price  total_price pizza_size pizza_category  \\\n",
       "0     2024-01-08 11:38:36       13.25        13.25          M        Classic   \n",
       "1     2024-01-08 11:57:40       16.00        16.00          M        Classic   \n",
       "2     2024-01-08 11:57:40       18.50        18.50          L         Veggie   \n",
       "3     2024-01-08 11:57:40       20.75        20.75          L        Supreme   \n",
       "4     2024-01-08 11:57:40       16.00        16.00          M         Veggie   \n",
       "...                   ...         ...          ...        ...            ...   \n",
       "48615 2024-01-08 21:23:10       16.75        16.75          M        Chicken   \n",
       "48616 2024-01-08 21:23:10       17.95        17.95          L         Veggie   \n",
       "48617 2024-01-08 21:23:10       12.00        12.00          S        Classic   \n",
       "48618 2024-01-08 22:09:54       20.25        20.25          L         Veggie   \n",
       "48619 2024-01-08 23:02:05       12.75        12.75          S        Chicken   \n",
       "\n",
       "                                       pizza_ingredients  \\\n",
       "0               Sliced Ham, Pineapple, Mozzarella Cheese   \n",
       "1      Pepperoni, Mushrooms, Red Onions, Red Peppers,...   \n",
       "2      Mozzarella Cheese, Provolone Cheese, Smoked Go...   \n",
       "3      Calabrese Salami, Capocollo, Tomatoes, Red Oni...   \n",
       "4      Tomatoes, Red Peppers, Jalapeno Peppers, Red O...   \n",
       "...                                                  ...   \n",
       "48615  Chicken, Red Onions, Red Peppers, Mushrooms, A...   \n",
       "48616  Ricotta Cheese, Gorgonzola Piccante Cheese, Mo...   \n",
       "48617  Tomatoes, Anchovies, Green Olives, Red Onions,...   \n",
       "48618  Tomatoes, Red Peppers, Jalapeno Peppers, Red O...   \n",
       "48619  Barbecued Chicken, Red Peppers, Green Peppers,...   \n",
       "\n",
       "                       pizza_name  \n",
       "0              The Hawaiian Pizza  \n",
       "1        The Classic Deluxe Pizza  \n",
       "2           The Five Cheese Pizza  \n",
       "3       The Italian Supreme Pizza  \n",
       "4              The Mexicana Pizza  \n",
       "...                           ...  \n",
       "48615   The Chicken Alfredo Pizza  \n",
       "48616       The Four Cheese Pizza  \n",
       "48617        The Napolitana Pizza  \n",
       "48618          The Mexicana Pizza  \n",
       "48619  The Barbecue Chicken Pizza  \n",
       "\n",
       "[48620 rows x 12 columns]"
      ]
     },
     "execution_count": 4,
     "metadata": {},
     "output_type": "execute_result"
    }
   ],
   "source": [
    "pizza_sales_df['order_date'] = pd.to_datetime(pizza_sales_df['order_date'], dayfirst=True)\n",
    "pizza_sales_df['order_time'] = pd.to_datetime(pizza_sales_df['order_time'])\n",
    "pizza_sales_df"
   ]
  },
  {
   "cell_type": "markdown",
   "id": "d35c1921-0ebf-4526-9ec1-ee346a39ba9e",
   "metadata": {},
   "source": [
    "## Load Pandas DataFrame Into Atoti Cube"
   ]
  },
  {
   "cell_type": "code",
   "execution_count": 5,
   "id": "bc989133-1cfa-44cd-a930-c055698154ac",
   "metadata": {},
   "outputs": [],
   "source": [
    "# Load Pandas DataFrame as Atoti Table Objects\n",
    "pizza_sales_table = session.read_pandas(pizza_sales_df, table_name=\"pizza_sales_df\")"
   ]
  },
  {
   "cell_type": "code",
   "execution_count": 6,
   "id": "1d455c49-4997-4406-a523-3f76eb0052f0",
   "metadata": {},
   "outputs": [],
   "source": [
    "cube = session.create_cube(pizza_sales_table)"
   ]
  },
  {
   "cell_type": "markdown",
   "id": "e8d9b7c4-f3be-43ff-b9c0-7625ab34c286",
   "metadata": {},
   "source": [
    "## Cube Data Model Analysis"
   ]
  },
  {
   "cell_type": "code",
   "execution_count": 7,
   "id": "30162e03-a45f-4fa6-82bf-bfe594f4a9b6",
   "metadata": {},
   "outputs": [
    {
     "data": {
      "image/svg+xml": [
       "<svg xmlns=\"http://www.w3.org/2000/svg\" xmlns:xlink=\"http://www.w3.org/1999/xlink\" width=\"250px\" height=\"317px\" viewBox=\"0.00 0.00 250.00 317.00\">\n",
       "<g id=\"graph0\" class=\"graph\" transform=\"scale(1.0 1.0) rotate(0) translate(4 313)\">\n",
       "<title>pizza_sales_df schema</title>\n",
       "<polygon fill=\"white\" stroke=\"none\" points=\"-4,4 -4,-313 246,-313 246,4 -4,4\"/>\n",
       "<!-- pizza_sales_df -->\n",
       "<g id=\"node1\" class=\"node\">\n",
       "<title>pizza_sales_df</title>\n",
       "<text text-anchor=\"start\" x=\"73.75\" y=\"-287.65\" font-family=\"-apple-system, BlinkMacSystemFont, 'Segoe UI', Helvetica, Arial, sans-serif, 'Apple Color Emoji', 'Segoe UI Emoji', 'Segoe UI Symbol'\" font-weight=\"bold\" font-size=\"13.00\">pizza_sales_df</text>\n",
       "<polygon fill=\"#f5f5f5\" stroke=\"none\" points=\"9,-258 9,-281 19,-281 19,-258 9,-258\"/>\n",
       "<polygon fill=\"#f5f5f5\" stroke=\"none\" points=\"19,-258 19,-281 134,-281 134,-258 19,-258\"/>\n",
       "<text text-anchor=\"start\" x=\"24\" y=\"-263.65\" font-family=\"-apple-system, BlinkMacSystemFont, 'Segoe UI', Helvetica, Arial, sans-serif, 'Apple Color Emoji', 'Segoe UI Emoji', 'Segoe UI Symbol'\" font-size=\"13.00\">order_details_id</text>\n",
       "<polygon fill=\"#f5f5f5\" stroke=\"none\" points=\"134,-258 134,-281 233,-281 233,-258 134,-258\"/>\n",
       "<text text-anchor=\"start\" x=\"202.5\" y=\"-264.65\" font-family=\"-apple-system, BlinkMacSystemFont, 'Segoe UI', Helvetica, Arial, sans-serif, 'Apple Color Emoji', 'Segoe UI Emoji', 'Segoe UI Symbol'\" font-style=\"italic\" font-size=\"13.00\">long</text>\n",
       "<polygon fill=\"#ffffff\" stroke=\"none\" points=\"9,-235 9,-258 19,-258 19,-235 9,-235\"/>\n",
       "<polygon fill=\"#ffffff\" stroke=\"none\" points=\"19,-235 19,-258 134,-258 134,-235 19,-235\"/>\n",
       "<text text-anchor=\"start\" x=\"24\" y=\"-240.65\" font-family=\"-apple-system, BlinkMacSystemFont, 'Segoe UI', Helvetica, Arial, sans-serif, 'Apple Color Emoji', 'Segoe UI Emoji', 'Segoe UI Symbol'\" font-size=\"13.00\">order_id</text>\n",
       "<polygon fill=\"#ffffff\" stroke=\"none\" points=\"134,-235 134,-258 233,-258 233,-235 134,-235\"/>\n",
       "<text text-anchor=\"start\" x=\"202.5\" y=\"-241.65\" font-family=\"-apple-system, BlinkMacSystemFont, 'Segoe UI', Helvetica, Arial, sans-serif, 'Apple Color Emoji', 'Segoe UI Emoji', 'Segoe UI Symbol'\" font-style=\"italic\" font-size=\"13.00\">long</text>\n",
       "<polygon fill=\"#f5f5f5\" stroke=\"none\" points=\"9,-212 9,-235 19,-235 19,-212 9,-212\"/>\n",
       "<polygon fill=\"#f5f5f5\" stroke=\"none\" points=\"19,-212 19,-235 134,-235 134,-212 19,-212\"/>\n",
       "<text text-anchor=\"start\" x=\"24\" y=\"-217.65\" font-family=\"-apple-system, BlinkMacSystemFont, 'Segoe UI', Helvetica, Arial, sans-serif, 'Apple Color Emoji', 'Segoe UI Emoji', 'Segoe UI Symbol'\" font-size=\"13.00\">pizza_id</text>\n",
       "<polygon fill=\"#f5f5f5\" stroke=\"none\" points=\"134,-212 134,-235 233,-235 233,-212 134,-212\"/>\n",
       "<text text-anchor=\"start\" x=\"195\" y=\"-218.65\" font-family=\"-apple-system, BlinkMacSystemFont, 'Segoe UI', Helvetica, Arial, sans-serif, 'Apple Color Emoji', 'Segoe UI Emoji', 'Segoe UI Symbol'\" font-style=\"italic\" font-size=\"13.00\">string</text>\n",
       "<polygon fill=\"#ffffff\" stroke=\"none\" points=\"9,-189 9,-212 19,-212 19,-189 9,-189\"/>\n",
       "<polygon fill=\"#ffffff\" stroke=\"none\" points=\"19,-189 19,-212 134,-212 134,-189 19,-189\"/>\n",
       "<text text-anchor=\"start\" x=\"24\" y=\"-194.65\" font-family=\"-apple-system, BlinkMacSystemFont, 'Segoe UI', Helvetica, Arial, sans-serif, 'Apple Color Emoji', 'Segoe UI Emoji', 'Segoe UI Symbol'\" font-size=\"13.00\">quantity</text>\n",
       "<polygon fill=\"#ffffff\" stroke=\"none\" points=\"134,-189 134,-212 233,-212 233,-189 134,-189\"/>\n",
       "<text text-anchor=\"start\" x=\"202.5\" y=\"-195.65\" font-family=\"-apple-system, BlinkMacSystemFont, 'Segoe UI', Helvetica, Arial, sans-serif, 'Apple Color Emoji', 'Segoe UI Emoji', 'Segoe UI Symbol'\" font-style=\"italic\" font-size=\"13.00\">long</text>\n",
       "<polygon fill=\"#f5f5f5\" stroke=\"none\" points=\"9,-166 9,-189 19,-189 19,-166 9,-166\"/>\n",
       "<polygon fill=\"#f5f5f5\" stroke=\"none\" points=\"19,-166 19,-189 134,-189 134,-166 19,-166\"/>\n",
       "<text text-anchor=\"start\" x=\"24\" y=\"-171.65\" font-family=\"-apple-system, BlinkMacSystemFont, 'Segoe UI', Helvetica, Arial, sans-serif, 'Apple Color Emoji', 'Segoe UI Emoji', 'Segoe UI Symbol'\" font-size=\"13.00\">order_date</text>\n",
       "<polygon fill=\"#f5f5f5\" stroke=\"none\" points=\"134,-166 134,-189 233,-189 233,-166 134,-166\"/>\n",
       "<text text-anchor=\"start\" x=\"167.25\" y=\"-172.65\" font-family=\"-apple-system, BlinkMacSystemFont, 'Segoe UI', Helvetica, Arial, sans-serif, 'Apple Color Emoji', 'Segoe UI Emoji', 'Segoe UI Symbol'\" font-style=\"italic\" font-size=\"13.00\">LocalDate</text>\n",
       "<polygon fill=\"#ffffff\" stroke=\"none\" points=\"9,-143 9,-166 19,-166 19,-143 9,-143\"/>\n",
       "<polygon fill=\"#ffffff\" stroke=\"none\" points=\"19,-143 19,-166 134,-166 134,-143 19,-143\"/>\n",
       "<text text-anchor=\"start\" x=\"24\" y=\"-148.65\" font-family=\"-apple-system, BlinkMacSystemFont, 'Segoe UI', Helvetica, Arial, sans-serif, 'Apple Color Emoji', 'Segoe UI Emoji', 'Segoe UI Symbol'\" font-size=\"13.00\">order_time</text>\n",
       "<polygon fill=\"#ffffff\" stroke=\"none\" points=\"134,-143 134,-166 233,-166 233,-143 134,-143\"/>\n",
       "<text text-anchor=\"start\" x=\"138.88\" y=\"-149.65\" font-family=\"-apple-system, BlinkMacSystemFont, 'Segoe UI', Helvetica, Arial, sans-serif, 'Apple Color Emoji', 'Segoe UI Emoji', 'Segoe UI Symbol'\" font-style=\"italic\" font-size=\"13.00\">LocalDateTime</text>\n",
       "<polygon fill=\"#f5f5f5\" stroke=\"none\" points=\"9,-120 9,-143 19,-143 19,-120 9,-120\"/>\n",
       "<polygon fill=\"#f5f5f5\" stroke=\"none\" points=\"19,-120 19,-143 134,-143 134,-120 19,-120\"/>\n",
       "<text text-anchor=\"start\" x=\"24\" y=\"-125.65\" font-family=\"-apple-system, BlinkMacSystemFont, 'Segoe UI', Helvetica, Arial, sans-serif, 'Apple Color Emoji', 'Segoe UI Emoji', 'Segoe UI Symbol'\" font-size=\"13.00\">unit_price</text>\n",
       "<polygon fill=\"#f5f5f5\" stroke=\"none\" points=\"134,-120 134,-143 233,-143 233,-120 134,-120\"/>\n",
       "<text text-anchor=\"start\" x=\"187.5\" y=\"-126.65\" font-family=\"-apple-system, BlinkMacSystemFont, 'Segoe UI', Helvetica, Arial, sans-serif, 'Apple Color Emoji', 'Segoe UI Emoji', 'Segoe UI Symbol'\" font-style=\"italic\" font-size=\"13.00\">double</text>\n",
       "<polygon fill=\"#ffffff\" stroke=\"none\" points=\"9,-97 9,-120 19,-120 19,-97 9,-97\"/>\n",
       "<polygon fill=\"#ffffff\" stroke=\"none\" points=\"19,-97 19,-120 134,-120 134,-97 19,-97\"/>\n",
       "<text text-anchor=\"start\" x=\"24\" y=\"-102.65\" font-family=\"-apple-system, BlinkMacSystemFont, 'Segoe UI', Helvetica, Arial, sans-serif, 'Apple Color Emoji', 'Segoe UI Emoji', 'Segoe UI Symbol'\" font-size=\"13.00\">total_price</text>\n",
       "<polygon fill=\"#ffffff\" stroke=\"none\" points=\"134,-97 134,-120 233,-120 233,-97 134,-97\"/>\n",
       "<text text-anchor=\"start\" x=\"187.5\" y=\"-103.65\" font-family=\"-apple-system, BlinkMacSystemFont, 'Segoe UI', Helvetica, Arial, sans-serif, 'Apple Color Emoji', 'Segoe UI Emoji', 'Segoe UI Symbol'\" font-style=\"italic\" font-size=\"13.00\">double</text>\n",
       "<polygon fill=\"#f5f5f5\" stroke=\"none\" points=\"9,-74 9,-97 19,-97 19,-74 9,-74\"/>\n",
       "<polygon fill=\"#f5f5f5\" stroke=\"none\" points=\"19,-74 19,-97 134,-97 134,-74 19,-74\"/>\n",
       "<text text-anchor=\"start\" x=\"24\" y=\"-79.65\" font-family=\"-apple-system, BlinkMacSystemFont, 'Segoe UI', Helvetica, Arial, sans-serif, 'Apple Color Emoji', 'Segoe UI Emoji', 'Segoe UI Symbol'\" font-size=\"13.00\">pizza_size</text>\n",
       "<polygon fill=\"#f5f5f5\" stroke=\"none\" points=\"134,-74 134,-97 233,-97 233,-74 134,-74\"/>\n",
       "<text text-anchor=\"start\" x=\"195\" y=\"-80.65\" font-family=\"-apple-system, BlinkMacSystemFont, 'Segoe UI', Helvetica, Arial, sans-serif, 'Apple Color Emoji', 'Segoe UI Emoji', 'Segoe UI Symbol'\" font-style=\"italic\" font-size=\"13.00\">string</text>\n",
       "<polygon fill=\"#ffffff\" stroke=\"none\" points=\"9,-51 9,-74 19,-74 19,-51 9,-51\"/>\n",
       "<polygon fill=\"#ffffff\" stroke=\"none\" points=\"19,-51 19,-74 134,-74 134,-51 19,-51\"/>\n",
       "<text text-anchor=\"start\" x=\"24\" y=\"-56.65\" font-family=\"-apple-system, BlinkMacSystemFont, 'Segoe UI', Helvetica, Arial, sans-serif, 'Apple Color Emoji', 'Segoe UI Emoji', 'Segoe UI Symbol'\" font-size=\"13.00\">pizza_category</text>\n",
       "<polygon fill=\"#ffffff\" stroke=\"none\" points=\"134,-51 134,-74 233,-74 233,-51 134,-51\"/>\n",
       "<text text-anchor=\"start\" x=\"195\" y=\"-57.65\" font-family=\"-apple-system, BlinkMacSystemFont, 'Segoe UI', Helvetica, Arial, sans-serif, 'Apple Color Emoji', 'Segoe UI Emoji', 'Segoe UI Symbol'\" font-style=\"italic\" font-size=\"13.00\">string</text>\n",
       "<polygon fill=\"#f5f5f5\" stroke=\"none\" points=\"9,-28 9,-51 19,-51 19,-28 9,-28\"/>\n",
       "<polygon fill=\"#f5f5f5\" stroke=\"none\" points=\"19,-28 19,-51 134,-51 134,-28 19,-28\"/>\n",
       "<text text-anchor=\"start\" x=\"24\" y=\"-33.65\" font-family=\"-apple-system, BlinkMacSystemFont, 'Segoe UI', Helvetica, Arial, sans-serif, 'Apple Color Emoji', 'Segoe UI Emoji', 'Segoe UI Symbol'\" font-size=\"13.00\">pizza_ingredients</text>\n",
       "<polygon fill=\"#f5f5f5\" stroke=\"none\" points=\"134,-28 134,-51 233,-51 233,-28 134,-28\"/>\n",
       "<text text-anchor=\"start\" x=\"195\" y=\"-34.65\" font-family=\"-apple-system, BlinkMacSystemFont, 'Segoe UI', Helvetica, Arial, sans-serif, 'Apple Color Emoji', 'Segoe UI Emoji', 'Segoe UI Symbol'\" font-style=\"italic\" font-size=\"13.00\">string</text>\n",
       "<polygon fill=\"#ffffff\" stroke=\"none\" points=\"9,-5 9,-28 19,-28 19,-5 9,-5\"/>\n",
       "<polygon fill=\"#ffffff\" stroke=\"none\" points=\"19,-5 19,-28 134,-28 134,-5 19,-5\"/>\n",
       "<text text-anchor=\"start\" x=\"24\" y=\"-10.65\" font-family=\"-apple-system, BlinkMacSystemFont, 'Segoe UI', Helvetica, Arial, sans-serif, 'Apple Color Emoji', 'Segoe UI Emoji', 'Segoe UI Symbol'\" font-size=\"13.00\">pizza_name</text>\n",
       "<polygon fill=\"#ffffff\" stroke=\"none\" points=\"134,-5 134,-28 233,-28 233,-5 134,-5\"/>\n",
       "<text text-anchor=\"start\" x=\"195\" y=\"-11.65\" font-family=\"-apple-system, BlinkMacSystemFont, 'Segoe UI', Helvetica, Arial, sans-serif, 'Apple Color Emoji', 'Segoe UI Emoji', 'Segoe UI Symbol'\" font-style=\"italic\" font-size=\"13.00\">string</text>\n",
       "<polygon fill=\"none\" stroke=\"black\" points=\"8,-4 8,-305 234,-305 234,-4 8,-4\"/>\n",
       "</g>\n",
       "</g>\n",
       "</svg>"
      ],
      "text/plain": [
       "<IPython.core.display.SVG object>"
      ]
     },
     "execution_count": 7,
     "metadata": {},
     "output_type": "execute_result"
    }
   ],
   "source": [
    "cube.schema"
   ]
  },
  {
   "cell_type": "code",
   "execution_count": 8,
   "id": "7cb80b89-c7ec-46bc-8c84-e5d73bc1e72e",
   "metadata": {},
   "outputs": [],
   "source": [
    "h, l, m = cube.hierarchies, cube.levels, cube.measures"
   ]
  },
  {
   "cell_type": "code",
   "execution_count": 9,
   "id": "5b45a979-72c4-414a-bd42-81844a4c887f",
   "metadata": {},
   "outputs": [
    {
     "data": {
      "application/json": {
       "pizza_sales_df": {
        "order_date": [
         "order_date"
        ],
        "order_time": [
         "order_time"
        ],
        "pizza_category": [
         "pizza_category"
        ],
        "pizza_id": [
         "pizza_id"
        ],
        "pizza_ingredients": [
         "pizza_ingredients"
        ],
        "pizza_name": [
         "pizza_name"
        ],
        "pizza_size": [
         "pizza_size"
        ]
       }
      },
      "text/html": [
       "<ul>\n",
       "<li>Dimensions\n",
       "  <ul>\n",
       "  <li>pizza_sales_df\n",
       "    <ul>\n",
       "    <li>order_date\n",
       "      <ol>\n",
       "      <li>order_date</li>\n",
       "      </ol>    </li>\n",
       "    <li>order_time\n",
       "      <ol>\n",
       "      <li>order_time</li>\n",
       "      </ol>    </li>\n",
       "    <li>pizza_category\n",
       "      <ol>\n",
       "      <li>pizza_category</li>\n",
       "      </ol>    </li>\n",
       "    <li>pizza_id\n",
       "      <ol>\n",
       "      <li>pizza_id</li>\n",
       "      </ol>    </li>\n",
       "    <li>pizza_ingredients\n",
       "      <ol>\n",
       "      <li>pizza_ingredients</li>\n",
       "      </ol>    </li>\n",
       "    <li>pizza_name\n",
       "      <ol>\n",
       "      <li>pizza_name</li>\n",
       "      </ol>    </li>\n",
       "    <li>pizza_size\n",
       "      <ol>\n",
       "      <li>pizza_size</li>\n",
       "      </ol>    </li>\n",
       "    </ul>\n",
       "  </li>\n",
       "  </ul>\n",
       "</li>\n",
       "</ul>\n"
      ],
      "text/plain": [
       "{('pizza_sales_df', 'order_time'): <atoti.hierarchy.Hierarchy object at 0x128dc4d60>, ('pizza_sales_df', 'order_date'): <atoti.hierarchy.Hierarchy object at 0x128dc4dc0>, ('pizza_sales_df', 'pizza_ingredients'): <atoti.hierarchy.Hierarchy object at 0x128dc4eb0>, ('pizza_sales_df', 'pizza_category'): <atoti.hierarchy.Hierarchy object at 0x128dc4fa0>, ('pizza_sales_df', 'pizza_id'): <atoti.hierarchy.Hierarchy object at 0x128dc5090>, ('pizza_sales_df', 'pizza_name'): <atoti.hierarchy.Hierarchy object at 0x128dc5180>, ('pizza_sales_df', 'pizza_size'): <atoti.hierarchy.Hierarchy object at 0x128dc5270>}"
      ]
     },
     "execution_count": 9,
     "metadata": {
      "application/json": {
       "expanded": true,
       "root": "Dimensions"
      }
     },
     "output_type": "execute_result"
    }
   ],
   "source": [
    "# View hierarchies for the cube\n",
    "#cube.create_date_hierarchy(\"muilti-level date\", column=pizza_sales_table[\"order_date\"])\n",
    "h"
   ]
  },
  {
   "cell_type": "code",
   "execution_count": 10,
   "id": "930f4ca8-da79-472f-80cd-b87b071fe1c0",
   "metadata": {},
   "outputs": [
    {
     "data": {
      "application/json": {
       "pizza_sales_df": {
        "multi-level time": [
         "Year",
         "Month",
         "Day"
        ],
        "order_date": [
         "order_date"
        ],
        "order_time": [
         "order_time"
        ],
        "pizza_category": [
         "pizza_category"
        ],
        "pizza_id": [
         "pizza_id"
        ],
        "pizza_ingredients": [
         "pizza_ingredients"
        ],
        "pizza_name": [
         "pizza_name"
        ],
        "pizza_size": [
         "pizza_size"
        ]
       }
      },
      "text/html": [
       "<ul>\n",
       "<li>Dimensions\n",
       "  <ul>\n",
       "  <li>pizza_sales_df\n",
       "    <ul>\n",
       "    <li>multi-level time\n",
       "      <ol>\n",
       "      <li>Year</li>\n",
       "      <li>Month</li>\n",
       "      <li>Day</li>\n",
       "      </ol>    </li>\n",
       "    <li>order_date\n",
       "      <ol>\n",
       "      <li>order_date</li>\n",
       "      </ol>    </li>\n",
       "    <li>order_time\n",
       "      <ol>\n",
       "      <li>order_time</li>\n",
       "      </ol>    </li>\n",
       "    <li>pizza_category\n",
       "      <ol>\n",
       "      <li>pizza_category</li>\n",
       "      </ol>    </li>\n",
       "    <li>pizza_id\n",
       "      <ol>\n",
       "      <li>pizza_id</li>\n",
       "      </ol>    </li>\n",
       "    <li>pizza_ingredients\n",
       "      <ol>\n",
       "      <li>pizza_ingredients</li>\n",
       "      </ol>    </li>\n",
       "    <li>pizza_name\n",
       "      <ol>\n",
       "      <li>pizza_name</li>\n",
       "      </ol>    </li>\n",
       "    <li>pizza_size\n",
       "      <ol>\n",
       "      <li>pizza_size</li>\n",
       "      </ol>    </li>\n",
       "    </ul>\n",
       "  </li>\n",
       "  </ul>\n",
       "</li>\n",
       "</ul>\n"
      ],
      "text/plain": [
       "{('pizza_sales_df', 'order_time'): <atoti.hierarchy.Hierarchy object at 0x128dc4070>, ('pizza_sales_df', 'order_date'): <atoti.hierarchy.Hierarchy object at 0x128dc4190>, ('pizza_sales_df', 'pizza_ingredients'): <atoti.hierarchy.Hierarchy object at 0x128dc4700>, ('pizza_sales_df', 'pizza_category'): <atoti.hierarchy.Hierarchy object at 0x128dc4b20>, ('pizza_sales_df', 'pizza_id'): <atoti.hierarchy.Hierarchy object at 0x128dc4c40>, ('pizza_sales_df', 'multi-level time'): <atoti.hierarchy.Hierarchy object at 0x128dc4520>, ('pizza_sales_df', 'pizza_name'): <atoti.hierarchy.Hierarchy object at 0x128dc5c00>, ('pizza_sales_df', 'pizza_size'): <atoti.hierarchy.Hierarchy object at 0x128dc5e70>}"
      ]
     },
     "execution_count": 10,
     "metadata": {
      "application/json": {
       "expanded": true,
       "root": "Dimensions"
      }
     },
     "output_type": "execute_result"
    }
   ],
   "source": [
    "# View hierarchies for the cube\n",
    "cube.create_date_hierarchy(\"multi-level time\", column=pizza_sales_table[\"order_time\"])\n",
    "h"
   ]
  },
  {
   "cell_type": "code",
   "execution_count": 19,
   "id": "db33c5a1-1bfd-40e1-bf42-07d3358b96ff",
   "metadata": {},
   "outputs": [
    {
     "data": {
      "application/json": {
       "pizza_sales_df": {
        "multi-level date": [
         "Year",
         "Month",
         "Day"
        ],
        "multi-level time": [
         "Year",
         "Month",
         "Day"
        ],
        "order_date": [
         "order_date"
        ],
        "order_time": [
         "order_time"
        ],
        "pizza_category": [
         "pizza_category"
        ],
        "pizza_id": [
         "pizza_id"
        ],
        "pizza_ingredients": [
         "pizza_ingredients"
        ],
        "pizza_name": [
         "pizza_name"
        ],
        "pizza_size": [
         "pizza_size"
        ]
       }
      },
      "text/html": [
       "<ul>\n",
       "<li>Dimensions\n",
       "  <ul>\n",
       "  <li>pizza_sales_df\n",
       "    <ul>\n",
       "    <li>multi-level date\n",
       "      <ol>\n",
       "      <li>Year</li>\n",
       "      <li>Month</li>\n",
       "      <li>Day</li>\n",
       "      </ol>    </li>\n",
       "    <li>multi-level time\n",
       "      <ol>\n",
       "      <li>Year</li>\n",
       "      <li>Month</li>\n",
       "      <li>Day</li>\n",
       "      </ol>    </li>\n",
       "    <li>order_date\n",
       "      <ol>\n",
       "      <li>order_date</li>\n",
       "      </ol>    </li>\n",
       "    <li>order_time\n",
       "      <ol>\n",
       "      <li>order_time</li>\n",
       "      </ol>    </li>\n",
       "    <li>pizza_category\n",
       "      <ol>\n",
       "      <li>pizza_category</li>\n",
       "      </ol>    </li>\n",
       "    <li>pizza_id\n",
       "      <ol>\n",
       "      <li>pizza_id</li>\n",
       "      </ol>    </li>\n",
       "    <li>pizza_ingredients\n",
       "      <ol>\n",
       "      <li>pizza_ingredients</li>\n",
       "      </ol>    </li>\n",
       "    <li>pizza_name\n",
       "      <ol>\n",
       "      <li>pizza_name</li>\n",
       "      </ol>    </li>\n",
       "    <li>pizza_size\n",
       "      <ol>\n",
       "      <li>pizza_size</li>\n",
       "      </ol>    </li>\n",
       "    </ul>\n",
       "  </li>\n",
       "  </ul>\n",
       "</li>\n",
       "</ul>\n"
      ],
      "text/plain": [
       "{('pizza_sales_df', 'order_time'): <atoti.hierarchy.Hierarchy object at 0x128de38e0>, ('pizza_sales_df', 'order_date'): <atoti.hierarchy.Hierarchy object at 0x128de37f0>, ('pizza_sales_df', 'pizza_ingredients'): <atoti.hierarchy.Hierarchy object at 0x128de3be0>, ('pizza_sales_df', 'pizza_category'): <atoti.hierarchy.Hierarchy object at 0x128de2ce0>, ('pizza_sales_df', 'pizza_id'): <atoti.hierarchy.Hierarchy object at 0x128de2c80>, ('pizza_sales_df', 'multi-level time'): <atoti.hierarchy.Hierarchy object at 0x128de1cf0>, ('pizza_sales_df', 'pizza_name'): <atoti.hierarchy.Hierarchy object at 0x128de3fa0>, ('pizza_sales_df', 'multi-level date'): <atoti.hierarchy.Hierarchy object at 0x128de2140>, ('pizza_sales_df', 'pizza_size'): <atoti.hierarchy.Hierarchy object at 0x128de2d10>}"
      ]
     },
     "execution_count": 19,
     "metadata": {
      "application/json": {
       "expanded": true,
       "root": "Dimensions"
      }
     },
     "output_type": "execute_result"
    }
   ],
   "source": [
    "# View hierarchies for the cube\n",
    "cube.create_date_hierarchy(\"multi-level date\", column=pizza_sales_table[\"order_date\"])\n",
    "h"
   ]
  },
  {
   "cell_type": "code",
   "execution_count": 11,
   "id": "43915b04-0bce-474c-877d-4a459484963c",
   "metadata": {},
   "outputs": [
    {
     "data": {
      "application/json": {
       "Day (pizza_sales_df/multi-level time/Day)": {
        "dimension": "pizza_sales_df",
        "hierarchy": "multi-level time",
        "order": "NaturalOrder",
        "type": "int"
       },
       "Month (pizza_sales_df/multi-level time/Month)": {
        "dimension": "pizza_sales_df",
        "hierarchy": "multi-level time",
        "order": "NaturalOrder",
        "type": "int"
       },
       "Year (pizza_sales_df/multi-level time/Year)": {
        "dimension": "pizza_sales_df",
        "hierarchy": "multi-level time",
        "order": "NaturalOrder",
        "type": "int"
       },
       "order_date (pizza_sales_df/order_date/order_date)": {
        "dimension": "pizza_sales_df",
        "hierarchy": "order_date",
        "order": "NaturalOrder",
        "type": "LocalDate"
       },
       "order_time (pizza_sales_df/order_time/order_time)": {
        "dimension": "pizza_sales_df",
        "hierarchy": "order_time",
        "order": "NaturalOrder",
        "type": "LocalDateTime"
       },
       "pizza_category (pizza_sales_df/pizza_category/pizza_category)": {
        "dimension": "pizza_sales_df",
        "hierarchy": "pizza_category",
        "order": "NaturalOrder",
        "type": "String"
       },
       "pizza_id (pizza_sales_df/pizza_id/pizza_id)": {
        "dimension": "pizza_sales_df",
        "hierarchy": "pizza_id",
        "order": "NaturalOrder",
        "type": "String"
       },
       "pizza_ingredients (pizza_sales_df/pizza_ingredients/pizza_ingredients)": {
        "dimension": "pizza_sales_df",
        "hierarchy": "pizza_ingredients",
        "order": "NaturalOrder",
        "type": "String"
       },
       "pizza_name (pizza_sales_df/pizza_name/pizza_name)": {
        "dimension": "pizza_sales_df",
        "hierarchy": "pizza_name",
        "order": "NaturalOrder",
        "type": "String"
       },
       "pizza_size (pizza_sales_df/pizza_size/pizza_size)": {
        "dimension": "pizza_sales_df",
        "hierarchy": "pizza_size",
        "order": "NaturalOrder",
        "type": "String"
       }
      },
      "text/html": [
       "<ul>\n",
       "<li>Levels\n",
       "  <ul>\n",
       "  <li>Day (pizza_sales_df/multi-level time/Day)\n",
       "    <ul>\n",
       "    <li>dimension: pizza_sales_df</li>\n",
       "    <li>hierarchy: multi-level time</li>\n",
       "    <li>type: int</li>\n",
       "    <li>order: NaturalOrder</li>\n",
       "    </ul>\n",
       "  </li>\n",
       "  <li>Month (pizza_sales_df/multi-level time/Month)\n",
       "    <ul>\n",
       "    <li>dimension: pizza_sales_df</li>\n",
       "    <li>hierarchy: multi-level time</li>\n",
       "    <li>type: int</li>\n",
       "    <li>order: NaturalOrder</li>\n",
       "    </ul>\n",
       "  </li>\n",
       "  <li>Year (pizza_sales_df/multi-level time/Year)\n",
       "    <ul>\n",
       "    <li>dimension: pizza_sales_df</li>\n",
       "    <li>hierarchy: multi-level time</li>\n",
       "    <li>type: int</li>\n",
       "    <li>order: NaturalOrder</li>\n",
       "    </ul>\n",
       "  </li>\n",
       "  <li>order_date (pizza_sales_df/order_date/order_date)\n",
       "    <ul>\n",
       "    <li>dimension: pizza_sales_df</li>\n",
       "    <li>hierarchy: order_date</li>\n",
       "    <li>type: LocalDate</li>\n",
       "    <li>order: NaturalOrder</li>\n",
       "    </ul>\n",
       "  </li>\n",
       "  <li>order_time (pizza_sales_df/order_time/order_time)\n",
       "    <ul>\n",
       "    <li>dimension: pizza_sales_df</li>\n",
       "    <li>hierarchy: order_time</li>\n",
       "    <li>type: LocalDateTime</li>\n",
       "    <li>order: NaturalOrder</li>\n",
       "    </ul>\n",
       "  </li>\n",
       "  <li>pizza_category (pizza_sales_df/pizza_category/pizza_category)\n",
       "    <ul>\n",
       "    <li>dimension: pizza_sales_df</li>\n",
       "    <li>hierarchy: pizza_category</li>\n",
       "    <li>type: String</li>\n",
       "    <li>order: NaturalOrder</li>\n",
       "    </ul>\n",
       "  </li>\n",
       "  <li>pizza_id (pizza_sales_df/pizza_id/pizza_id)\n",
       "    <ul>\n",
       "    <li>dimension: pizza_sales_df</li>\n",
       "    <li>hierarchy: pizza_id</li>\n",
       "    <li>type: String</li>\n",
       "    <li>order: NaturalOrder</li>\n",
       "    </ul>\n",
       "  </li>\n",
       "  <li>pizza_ingredients (pizza_sales_df/pizza_ingredients/pizza_ingredients)\n",
       "    <ul>\n",
       "    <li>dimension: pizza_sales_df</li>\n",
       "    <li>hierarchy: pizza_ingredients</li>\n",
       "    <li>type: String</li>\n",
       "    <li>order: NaturalOrder</li>\n",
       "    </ul>\n",
       "  </li>\n",
       "  <li>pizza_name (pizza_sales_df/pizza_name/pizza_name)\n",
       "    <ul>\n",
       "    <li>dimension: pizza_sales_df</li>\n",
       "    <li>hierarchy: pizza_name</li>\n",
       "    <li>type: String</li>\n",
       "    <li>order: NaturalOrder</li>\n",
       "    </ul>\n",
       "  </li>\n",
       "  <li>pizza_size (pizza_sales_df/pizza_size/pizza_size)\n",
       "    <ul>\n",
       "    <li>dimension: pizza_sales_df</li>\n",
       "    <li>hierarchy: pizza_size</li>\n",
       "    <li>type: String</li>\n",
       "    <li>order: NaturalOrder</li>\n",
       "    </ul>\n",
       "  </li>\n",
       "  </ul>\n",
       "</li>\n",
       "</ul>\n"
      ],
      "text/plain": [
       "<atoti.levels.Levels at 0x128d54dc0>"
      ]
     },
     "execution_count": 11,
     "metadata": {
      "application/json": {
       "expanded": true,
       "root": "Levels"
      }
     },
     "output_type": "execute_result"
    }
   ],
   "source": [
    "# View levels for the cube\n",
    "l"
   ]
  },
  {
   "cell_type": "code",
   "execution_count": 12,
   "id": "a8a1ce77-8a46-4d2b-9165-527cdba60c0e",
   "metadata": {},
   "outputs": [
    {
     "data": {
      "application/json": {
       "contributors.COUNT": {
        "formatter": "INT[#,###]"
       },
       "order_details_id.MEAN": {
        "formatter": "DOUBLE[#,###.00]"
       },
       "order_details_id.SUM": {
        "formatter": "INT[#,###]"
       },
       "order_id.MEAN": {
        "formatter": "DOUBLE[#,###.00]"
       },
       "order_id.SUM": {
        "formatter": "INT[#,###]"
       },
       "order_time_auto_M.MEAN": {
        "formatter": "DOUBLE[#,###.00]"
       },
       "order_time_auto_M.SUM": {
        "formatter": "INT[#,###]"
       },
       "order_time_auto_d.MEAN": {
        "formatter": "DOUBLE[#,###.00]"
       },
       "order_time_auto_d.SUM": {
        "formatter": "INT[#,###]"
       },
       "order_time_auto_y.MEAN": {
        "formatter": "DOUBLE[#,###.00]"
       },
       "order_time_auto_y.SUM": {
        "formatter": "INT[#,###]"
       },
       "quantity.MEAN": {
        "formatter": "DOUBLE[#,###.00]"
       },
       "quantity.SUM": {
        "formatter": "INT[#,###]"
       },
       "total_price.MEAN": {
        "formatter": "DOUBLE[#,###.00]"
       },
       "total_price.SUM": {
        "formatter": "DOUBLE[#,###.00]"
       },
       "unit_price.MEAN": {
        "formatter": "DOUBLE[#,###.00]"
       },
       "unit_price.SUM": {
        "formatter": "DOUBLE[#,###.00]"
       }
      },
      "text/html": [
       "<ul>\n",
       "<li>Measures\n",
       "  <ul>\n",
       "  <li>contributors.COUNT\n",
       "    <ul>\n",
       "    <li>formatter: INT[#,###]</li>\n",
       "    </ul>\n",
       "  </li>\n",
       "  <li>order_details_id.MEAN\n",
       "    <ul>\n",
       "    <li>formatter: DOUBLE[#,###.00]</li>\n",
       "    </ul>\n",
       "  </li>\n",
       "  <li>order_details_id.SUM\n",
       "    <ul>\n",
       "    <li>formatter: INT[#,###]</li>\n",
       "    </ul>\n",
       "  </li>\n",
       "  <li>order_id.MEAN\n",
       "    <ul>\n",
       "    <li>formatter: DOUBLE[#,###.00]</li>\n",
       "    </ul>\n",
       "  </li>\n",
       "  <li>order_id.SUM\n",
       "    <ul>\n",
       "    <li>formatter: INT[#,###]</li>\n",
       "    </ul>\n",
       "  </li>\n",
       "  <li>order_time_auto_M.MEAN\n",
       "    <ul>\n",
       "    <li>formatter: DOUBLE[#,###.00]</li>\n",
       "    </ul>\n",
       "  </li>\n",
       "  <li>order_time_auto_M.SUM\n",
       "    <ul>\n",
       "    <li>formatter: INT[#,###]</li>\n",
       "    </ul>\n",
       "  </li>\n",
       "  <li>order_time_auto_d.MEAN\n",
       "    <ul>\n",
       "    <li>formatter: DOUBLE[#,###.00]</li>\n",
       "    </ul>\n",
       "  </li>\n",
       "  <li>order_time_auto_d.SUM\n",
       "    <ul>\n",
       "    <li>formatter: INT[#,###]</li>\n",
       "    </ul>\n",
       "  </li>\n",
       "  <li>order_time_auto_y.MEAN\n",
       "    <ul>\n",
       "    <li>formatter: DOUBLE[#,###.00]</li>\n",
       "    </ul>\n",
       "  </li>\n",
       "  <li>order_time_auto_y.SUM\n",
       "    <ul>\n",
       "    <li>formatter: INT[#,###]</li>\n",
       "    </ul>\n",
       "  </li>\n",
       "  <li>quantity.MEAN\n",
       "    <ul>\n",
       "    <li>formatter: DOUBLE[#,###.00]</li>\n",
       "    </ul>\n",
       "  </li>\n",
       "  <li>quantity.SUM\n",
       "    <ul>\n",
       "    <li>formatter: INT[#,###]</li>\n",
       "    </ul>\n",
       "  </li>\n",
       "  <li>total_price.MEAN\n",
       "    <ul>\n",
       "    <li>formatter: DOUBLE[#,###.00]</li>\n",
       "    </ul>\n",
       "  </li>\n",
       "  <li>total_price.SUM\n",
       "    <ul>\n",
       "    <li>formatter: DOUBLE[#,###.00]</li>\n",
       "    </ul>\n",
       "  </li>\n",
       "  <li>unit_price.MEAN\n",
       "    <ul>\n",
       "    <li>formatter: DOUBLE[#,###.00]</li>\n",
       "    </ul>\n",
       "  </li>\n",
       "  <li>unit_price.SUM\n",
       "    <ul>\n",
       "    <li>formatter: DOUBLE[#,###.00]</li>\n",
       "    </ul>\n",
       "  </li>\n",
       "  </ul>\n",
       "</li>\n",
       "</ul>\n"
      ],
      "text/plain": [
       "{'contributors.COUNT': <atoti.measure.Measure object at 0x128de1810>, 'update.TIMESTAMP': <atoti.measure.Measure object at 0x128de04f0>, 'order_time_auto_M.MEAN': <atoti.measure.Measure object at 0x128de1780>, 'order_time_auto_M.SUM': <atoti.measure.Measure object at 0x128de1240>, 'order_id.MEAN': <atoti.measure.Measure object at 0x128de1150>, 'order_id.SUM': <atoti.measure.Measure object at 0x128de06a0>, 'total_price.MEAN': <atoti.measure.Measure object at 0x128de1270>, 'total_price.SUM': <atoti.measure.Measure object at 0x128de1210>, 'order_time_auto_d.MEAN': <atoti.measure.Measure object at 0x128de2c20>, 'order_time_auto_d.SUM': <atoti.measure.Measure object at 0x128de3250>, 'unit_price.MEAN': <atoti.measure.Measure object at 0x128de2c50>, 'unit_price.SUM': <atoti.measure.Measure object at 0x128de2d40>, 'order_time_auto_y.MEAN': <atoti.measure.Measure object at 0x128de32e0>, 'order_time_auto_y.SUM': <atoti.measure.Measure object at 0x128de3100>, 'quantity.MEAN': <atoti.measure.Measure object at 0x128de30a0>, 'quantity.SUM': <atoti.measure.Measure object at 0x128de30d0>, 'order_details_id.MEAN': <atoti.measure.Measure object at 0x128de3160>, 'order_details_id.SUM': <atoti.measure.Measure object at 0x128de31c0>}"
      ]
     },
     "execution_count": 12,
     "metadata": {
      "application/json": {
       "expanded": false,
       "root": "Measures"
      }
     },
     "output_type": "execute_result"
    }
   ],
   "source": [
    "# View measures for the cube\n",
    "m"
   ]
  },
  {
   "cell_type": "markdown",
   "id": "33941fbf-4bb9-4bde-bcde-8ddce668ef81",
   "metadata": {},
   "source": [
    "## Data Analysis and Visualization in Atoti"
   ]
  },
  {
   "cell_type": "code",
   "execution_count": 13,
   "id": "f8f05e4e-8902-4a75-bfca-0b5b5b6c61f9",
   "metadata": {
    "atoti": {
     "widget": {
      "columnWidths": {
       "[Measures].[contributors.COUNT]": 139
      },
      "filters": [],
      "mapping": {
       "columns": [
        "ALL_MEASURES"
       ],
       "measures": [
        "[Measures].[contributors.COUNT]",
        "[Measures].[total_price.SUM]"
       ],
       "rows": [
        "[trans_dim_table].[trans_type].[trans_type]"
       ]
      },
      "query": {
       "mdx": "SELECT NON EMPTY {[Measures].[contributors.COUNT], [Measures].[total_price.SUM]} ON COLUMNS, NON EMPTY Hierarchize(Descendants({[trans_dim_table].[trans_type].[ALL].[AllMember]}, 1, SELF_AND_BEFORE)) ON ROWS FROM [sales_fact_table] CELL PROPERTIES VALUE, FORMATTED_VALUE, BACK_COLOR, FORE_COLOR, FONT_FLAGS",
       "updateMode": "once"
      },
      "serverKey": "default",
      "widgetKey": "tree-table"
     }
    }
   },
   "outputs": [
    {
     "data": {
      "application/vnd.atoti.widget.v0+json": {
       "sessionId": "1704702808_Z3M2U6",
       "sessionLocation": {
        "https": false,
        "port": 9092
       },
       "widgetCreationCode": "session.widget"
      },
      "text/plain": [
       "Open the notebook in JupyterLab with the Atoti JupyterLab extension enabled to build this widget."
      ]
     },
     "metadata": {},
     "output_type": "display_data"
    }
   ],
   "source": [
    "# Slciing by one hierarchy: trans_type\n",
    "session.widget"
   ]
  },
  {
   "cell_type": "code",
   "execution_count": 14,
   "id": "f2d49a6c-d6b8-47cc-9637-0b26bf4e5e6e",
   "metadata": {
    "atoti": {
     "widget": {
      "columnWidths": {
       "[Measures].[contributors.COUNT]": 139.453125
      },
      "mapping": {
       "columns": [
        "ALL_MEASURES"
       ],
       "measures": [
        "[Measures].[contributors.COUNT]",
        "[Measures].[total_price.SUM]"
       ],
       "rows": [
        "[trans_dim_table].[trans_type].[trans_type]",
        "[time_dim_table].[muilti-level date].[Year]"
       ]
      },
      "query": {
       "mdx": "SELECT NON EMPTY Hierarchize(Crossjoin(Hierarchize(Descendants({[trans_dim_table].[trans_type].[ALL].[AllMember]}, 1, SELF_AND_BEFORE)), Hierarchize(Descendants({[time_dim_table].[muilti-level date].[ALL].[AllMember]}, 1, SELF_AND_BEFORE)))) ON ROWS, NON EMPTY {[Measures].[contributors.COUNT], [Measures].[total_price.SUM]} ON COLUMNS FROM [sales_fact_table] CELL PROPERTIES VALUE, FORMATTED_VALUE, BACK_COLOR, FORE_COLOR, FONT_FLAGS",
       "updateMode": "once"
      },
      "serverKey": "default",
      "widgetKey": "pivot-table"
     }
    }
   },
   "outputs": [
    {
     "data": {
      "application/vnd.atoti.widget.v0+json": {
       "sessionId": "1704702808_Z3M2U6",
       "sessionLocation": {
        "https": false,
        "port": 9092
       },
       "widgetCreationCode": "session.widget"
      },
      "text/plain": [
       "Open the notebook in JupyterLab with the Atoti JupyterLab extension enabled to build this widget."
      ]
     },
     "metadata": {},
     "output_type": "display_data"
    }
   ],
   "source": [
    "# Slciing by two hierarchies: trans_type x year\n",
    "session.widget"
   ]
  },
  {
   "cell_type": "code",
   "execution_count": 15,
   "id": "58fba344-c89a-4ce1-8b9e-63ca86df1fc7",
   "metadata": {
    "atoti": {
     "widget": {
      "mapping": {
       "columns": [
        "ALL_MEASURES"
       ],
       "measures": [
        "[Measures].[contributors.COUNT]",
        "[Measures].[total_price.SUM]"
       ],
       "rows": [
        "[trans_dim_table].[trans_type].[trans_type]",
        "[time_dim_table].[muilti-level date].[Year]",
        "[sales_fact_table].[coustomer_key].[coustomer_key]",
        "[sales_fact_table].[payment_key].[payment_key]"
       ]
      },
      "query": {
       "mdx": "SELECT NON EMPTY Hierarchize(Crossjoin(Hierarchize(Descendants({[trans_dim_table].[trans_type].[ALL].[AllMember]}, 1, SELF_AND_BEFORE)), Hierarchize(Descendants({[time_dim_table].[muilti-level date].[ALL].[AllMember]}, 1, SELF_AND_BEFORE)), Hierarchize(Descendants({[sales_fact_table].[coustomer_key].[ALL].[AllMember]}, 1, SELF_AND_BEFORE)), Hierarchize(Descendants({[sales_fact_table].[payment_key].[ALL].[AllMember]}, 1, SELF_AND_BEFORE)))) ON ROWS, NON EMPTY {[Measures].[contributors.COUNT], [Measures].[total_price.SUM]} ON COLUMNS FROM [sales_fact_table] CELL PROPERTIES VALUE, FORMATTED_VALUE, BACK_COLOR, FORE_COLOR, FONT_FLAGS",
       "updateMode": "once"
      },
      "serverKey": "default",
      "widgetKey": "pivot-table"
     }
    }
   },
   "outputs": [
    {
     "data": {
      "application/vnd.atoti.widget.v0+json": {
       "sessionId": "1704702808_Z3M2U6",
       "sessionLocation": {
        "https": false,
        "port": 9092
       },
       "widgetCreationCode": "session.widget"
      },
      "text/plain": [
       "Open the notebook in JupyterLab with the Atoti JupyterLab extension enabled to build this widget."
      ]
     },
     "metadata": {},
     "output_type": "display_data"
    }
   ],
   "source": [
    "# Slicing by three hierarchies: trans_type x year x customer\n",
    "session.widget"
   ]
  },
  {
   "cell_type": "code",
   "execution_count": 16,
   "id": "abfdadea-6b93-4d38-88b7-5f7b4668b58a",
   "metadata": {
    "atoti": {
     "widget": {
      "columnWidths": {
       "[item_dim_table].[desc].[desc]": 207.453125
      },
      "mapping": {
       "horizontalSubplots": [],
       "sliceBy": [
        "[item_dim_table].[desc].[desc]"
       ],
       "values": [
        "[Measures].[total_price.SUM]"
       ],
       "verticalSubplots": []
      },
      "query": {
       "mdx": "WITH  Member [Measures].[[item_dim_table]].[desc]].[desc]]_for_order] AS [item_dim_table].[desc].CurrentMember.MEMBER_VALUE  SELECT NON EMPTY Order(Hierarchize(Descendants({[item_dim_table].[desc].[ALL].[AllMember]}, 1, SELF_AND_BEFORE)), [Measures].[[item_dim_table]].[desc]].[desc]]_for_order], BDESC) ON ROWS, NON EMPTY {[Measures].[total_price.SUM]} ON COLUMNS FROM [sales_fact_table] CELL PROPERTIES VALUE, FORMATTED_VALUE, BACK_COLOR, FORE_COLOR, FONT_FLAGS",
       "updateMode": "once"
      },
      "serverKey": "default",
      "widgetKey": "plotly-pie-chart"
     }
    }
   },
   "outputs": [
    {
     "data": {
      "application/vnd.atoti.widget.v0+json": {
       "sessionId": "1704702808_Z3M2U6",
       "sessionLocation": {
        "https": false,
        "port": 9092
       },
       "widgetCreationCode": "session.widget"
      },
      "text/plain": [
       "Open the notebook in JupyterLab with the Atoti JupyterLab extension enabled to build this widget."
      ]
     },
     "metadata": {},
     "output_type": "display_data"
    }
   ],
   "source": [
    "# Slicing by one category: item category\n",
    "session.widget"
   ]
  },
  {
   "cell_type": "code",
   "execution_count": 17,
   "id": "85cb02f0-ddbe-4423-aa08-d48c92ca02ad",
   "metadata": {
    "atoti": {
     "widget": {
      "columnWidths": {
       "[item_dim_table].[item_name].[item_name]": 247.453125
      },
      "mapping": {
       "columns": [
        "ALL_MEASURES"
       ],
       "measures": [
        "[Measures].[quantity.SUM]",
        "[Measures].[total_price.SUM]"
       ],
       "rows": [
        "[item_dim_table].[desc].[desc]",
        "[item_dim_table].[item_name].[item_name]"
       ]
      },
      "query": {
       "mdx": "SELECT NON EMPTY {[Measures].[quantity.SUM], [Measures].[total_price.SUM]} ON COLUMNS, NON EMPTY Order(Crossjoin(Hierarchize(Descendants({[item_dim_table].[desc].[ALL].[AllMember]}, 1, SELF_AND_BEFORE)), Hierarchize(Descendants({[item_dim_table].[item_name].[ALL].[AllMember]}, 1, SELF_AND_BEFORE))), [Measures].[total_price.SUM], DESC) ON ROWS FROM [sales_fact_table] CELL PROPERTIES VALUE, FORMATTED_VALUE, BACK_COLOR, FORE_COLOR, FONT_FLAGS",
       "updateMode": "once"
      },
      "serverKey": "default",
      "widgetKey": "pivot-table"
     }
    }
   },
   "outputs": [
    {
     "data": {
      "application/vnd.atoti.widget.v0+json": {
       "sessionId": "1704702808_Z3M2U6",
       "sessionLocation": {
        "https": false,
        "port": 9092
       },
       "widgetCreationCode": "session.widget"
      },
      "text/plain": [
       "Open the notebook in JupyterLab with the Atoti JupyterLab extension enabled to build this widget."
      ]
     },
     "metadata": {},
     "output_type": "display_data"
    }
   ],
   "source": [
    "# Slicing by two hierarchies: item category x item name\n",
    "session.widget"
   ]
  },
  {
   "cell_type": "code",
   "execution_count": 18,
   "id": "06706cb6-6a5f-4cd9-8c99-03cd3151de71",
   "metadata": {
    "atoti": {
     "widget": {
      "mapping": {
       "horizontalSubplots": [],
       "stackBy": [
        "ALL_MEASURES"
       ],
       "values": [
        "[Measures].[total_price.SUM]"
       ],
       "verticalSubplots": [],
       "xAxis": [
        "[time_dim_table].[muilti-level date].[Year]"
       ]
      },
      "query": {
       "mdx": "WITH  Member [Measures].[[time_dim_table]].[muilti-level date]].[Year]]_for_order] AS [time_dim_table].[muilti-level date].CurrentMember.MEMBER_VALUE  SELECT NON EMPTY {[Measures].[total_price.SUM]} ON COLUMNS, NON EMPTY Hierarchize(Descendants({[time_dim_table].[muilti-level date].[ALL].[AllMember]}, 1, SELF_AND_BEFORE)) ON ROWS FROM [sales_fact_table] CELL PROPERTIES VALUE, FORMATTED_VALUE, BACK_COLOR, FORE_COLOR, FONT_FLAGS",
       "updateMode": "once"
      },
      "serverKey": "default",
      "style": {
       "isTextVisible": true
      },
      "widgetKey": "plotly-stacked-column-chart"
     }
    }
   },
   "outputs": [
    {
     "data": {
      "application/vnd.atoti.widget.v0+json": {
       "sessionId": "1704702808_Z3M2U6",
       "sessionLocation": {
        "https": false,
        "port": 9092
       },
       "widgetCreationCode": "session.widget"
      },
      "text/plain": [
       "Open the notebook in JupyterLab with the Atoti JupyterLab extension enabled to build this widget."
      ]
     },
     "metadata": {},
     "output_type": "display_data"
    }
   ],
   "source": [
    "session.widget"
   ]
  }
 ],
 "metadata": {
  "kernelspec": {
   "display_name": "Python 3 (ipykernel)",
   "language": "python",
   "name": "python3"
  },
  "language_info": {
   "codemirror_mode": {
    "name": "ipython",
    "version": 3
   },
   "file_extension": ".py",
   "mimetype": "text/x-python",
   "name": "python",
   "nbconvert_exporter": "python",
   "pygments_lexer": "ipython3",
   "version": "3.10.13"
  }
 },
 "nbformat": 4,
 "nbformat_minor": 5
}
