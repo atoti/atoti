{
 "cells": [
  {
   "cell_type": "markdown",
   "id": "ac3fbb12-82a8-4e9f-aa4e-e1ad414ce283",
   "metadata": {},
   "source": [
    "# DirectQuery: Combining Atoti and Data Warehouses"
   ]
  },
  {
   "cell_type": "markdown",
   "id": "a671e16d-c06b-432f-92c6-5b2d2f7043bd",
   "metadata": {},
   "source": [
    "We know Atoti provides in-memory analytics for big data. This means that we hold data in memory and perform aggregation on the fly in order to achieve fast and dynamic computations. In our usual Atoti setup, the hosting server requires a memory size that's about 1.5 times of the amount of data that gets loaded into the cube. However, with Atoti's DirectQuery, we can better support our users who store their data on the cloud! In fact, it applies for on-premise databases such as [ClickHouse](https://clickhouse.com/clickhouse) and [Microsoft SQL Server](https://www.microsoft.com/en-sg/sql-server/sql-server-downloads) too.  \n",
    "\n",
    "<img src=\"https://data.atoti.io/notebooks/direct-query/img/cost_vs_performance.png\" width=\"850px\"/>\n",
    "\n",
    "In a gist, here's what DirectQuery offers:  \n",
    "\n",
    "- Scalability\n",
    "\n",
    "> Leveraging the scalability of cloud data warehouse, the server that hosts Atoti only has to take into consideration the amount of data that gets queried on a daily basis.  \n",
    "> Instead of storing all of the data in physical memory, DirectQuery enables us to query the Cloud database directly, reducing the need for memory in the hosting server.  \n",
    "\n",
    "- Cost savings\n",
    "\n",
    "> Other than saving on the memory required for the hosting server, DirectQuery helps to save on the data transfer costs.  \n",
    "> While cloud data warehouse is cost-effective, we incur costs when we perform queries.  \n",
    "> We can reduce querying to the Cloud database by loading an aggregated cache in memory for the most frequently queried data.  \n",
    "\n",
    "- Technology agnosticism\n",
    "\n",
    "> With changes to only a few lines of data connectivity code in Atoti, we can easily switch from one Cloud service provider to another without impacting the Atoti server.  \n",
    "> We can even switch over to other data connectors such as physical files.  \n",
    "\n",
    "\n",
    "This notebook provides a quick introduction to how we can connect to Google BigQuery and create an Atoti cube."
   ]
  },
  {
   "cell_type": "markdown",
   "id": "f23aeb88-5455-44ee-892d-4aa7fc2dbfb7",
   "metadata": {},
   "source": [
    "<div style=\"text-align: center;\" ><a href=\"https://www.atoti.io/?utm_source=gallery&utm_content=directquery-intro\" target=\"_blank\" rel=\"noopener noreferrer\"><img src=\"https://data.atoti.io/notebooks/banners/Discover-Atoti-now.png\" alt=\"Try Atoti\"></a></div>"
   ]
  },
  {
   "cell_type": "markdown",
   "id": "663b2051-11e1-4815-8a2c-fde3d450d07b",
   "metadata": {},
   "source": [
    "## Google BigQuery configuration"
   ]
  },
  {
   "cell_type": "markdown",
   "id": "1db76b03-dbe0-4223-a656-8b7e9e2ff260",
   "metadata": {},
   "source": [
    "### Step 1 — Create role with permissions\n",
    "\n",
    "- Login to Google Cloud console.\n",
    "- Navigate to __IAM & Admin__ > __Roles__.  \n",
    "- Create a role with the following permission for the DirectQuery users:  \n",
    "    - `bigquery.datasets.get`\n",
    "    - `bigquery.jobs.create`\n",
    "    - `bigquery.readsessions.create`\n",
    "    - `bigquery.readsessions.getData`\n",
    "    - `bigquery.readsessions.update`\n",
    "    - `bigquery.routines.get`\n",
    "    - `bigquery.tables.get`\n",
    "    - `bigquery.tables.getData`\n",
    "    - `bigquery.tables.list`\n",
    "\n",
    "⚠️ **Important:** Having trouble pulling your data after setting up your account? Confirm that the above permissions have been set up properly!  \n",
    "\n",
    "<img src=\"https://data.atoti.io/notebooks/direct-query/img/bigquery_permission.png\" />\n",
    "\n",
    "💡 **Note:** For more details, refer to the [Atoti Server documentation](https://docs.activeviam.com/products/atoti/server/latest/docs/directquery/connect_to_external/connect_to_bigquery/)."
   ]
  },
  {
   "cell_type": "markdown",
   "id": "2143280e-d2b0-4da1-b20d-78af65d26753",
   "metadata": {},
   "source": [
    "### Step 2 — Create Service Account\n",
    "\n",
    "* Under **IAM & Admin**, navigate to **Service Accounts**.\n",
    "* Create a service account and assign the role created in Step 1.\n",
    "\n",
    "    <img src=\"https://data.atoti.io/notebooks/direct-query/img/service_account.png\" width=\"700px\"/>  "
   ]
  },
  {
   "cell_type": "markdown",
   "id": "03e75ceb-055a-4986-aa8d-6858422b260a",
   "metadata": {
    "tags": []
   },
   "source": [
    "### Step 3 — Generate API Key \n",
    "\n",
    "- Navigate to the __KEYS__ tab and generate a new key.  \n",
    "\n",
    "    <img src=\"https://data.atoti.io/notebooks/direct-query/img/create_key.png\" />  \n",
    "\n",
    "- Select `JSON` as key type and save the downloaded key to a server folder:  \n",
    "\n",
    "    <img src=\"https://data.atoti.io/notebooks/direct-query/img/json_key.png\" />\n",
    "\n",
    "- Configure environment variable pointing to the JSON key. In this use case, our environment variable is `DQ_GOOGLE_CREDENTIAL`:  \n",
    "\n",
    "    <img src=\"https://data.atoti.io/notebooks/direct-query/img/environment_variable.png\" />  \n",
    "\n",
    "💡 **Note:** Alternatively, we can set up [Application Default Credentials](https://cloud.google.com/docs/authentication/provide-credentials-adc) for authentication.  "
   ]
  },
  {
   "cell_type": "markdown",
   "id": "95e30413-d630-4b1b-a304-d824e9649c3d",
   "metadata": {},
   "source": [
    "## Database set up  \n",
    "\n",
    "To try out this notebook, you can setup the database schema and tables using the [database script](db_schema.sql) in the use case folder.  "
   ]
  },
  {
   "cell_type": "markdown",
   "id": "fcfd6d72-801a-460c-9e1f-4e0843909442",
   "metadata": {},
   "source": [
    "## Atoti Setup"
   ]
  },
  {
   "cell_type": "markdown",
   "id": "8857ebb1-032f-4b69-84e6-b8cf7e431def",
   "metadata": {},
   "source": [
    "We import [Atoti](https://docs.atoti.io/latest/getting_started/installation.html) library and create the [Atoti Session](https://docs.atoti.io/latest/api/atoti.Session.html#atoti.Session) as we always do.  "
   ]
  },
  {
   "cell_type": "code",
   "execution_count": 1,
   "id": "7d97f0ea-5b39-4c60-9a10-1cae5a22616d",
   "metadata": {
    "tags": []
   },
   "outputs": [],
   "source": [
    "import os\n",
    "import atoti as tt"
   ]
  },
  {
   "cell_type": "code",
   "execution_count": 2,
   "id": "3898f076-a031-49b7-a75f-074008d89a26",
   "metadata": {
    "tags": []
   },
   "outputs": [],
   "source": [
    "session = tt.Session.start()"
   ]
  },
  {
   "cell_type": "markdown",
   "id": "9e855ec8-18bb-46fa-8e99-751edafeb94c",
   "metadata": {},
   "source": [
    "## DirectQuery Prerequisites"
   ]
  },
  {
   "cell_type": "markdown",
   "id": "01a8923b-80b3-4bfd-86a0-2d705d4bb805",
   "metadata": {},
   "source": [
    "DirectQuery supports a few [databases](https://docs.atoti.io/latest/reference.html#directquery). For each of these databases, we have to install its respective Python plugin.  \n",
    "- `atoti-directquery-bigquery` : To use DirectQuery on Google BigQuery.\n",
    "- `atoti-directquery-clickhouse` : To use DirectQuery with ClickHouse.\n",
    "- `atoti-directquery-databricks` : To use DirectQuery on Databricks.\n",
    "- `atoti-directquery-mssql` : To use DirectQuery with Microsoft SQL Server.\n",
    "- `atoti-directquery-redshift` : To use DirectQuery on Amazon Redshift.\n",
    "- `atoti-directquery-snowflake` : To use DirectQuery on Snowflake.\n",
    "- `atoti-directquery-synapse` : To use DirectQuery on Azure Synapse Analytics.  \n",
    "\n",
    "In our example, we install the plugin for Google BigQuery. Uncomment the below line to install the plugin if it isn't installed.  \n",
    "\n",
    "⚠️ **Important:** We only support one type of database connection per Atoti session."
   ]
  },
  {
   "cell_type": "code",
   "execution_count": 3,
   "id": "af8780d7-ec54-481a-98d7-4cc9f7e030c1",
   "metadata": {
    "tags": []
   },
   "outputs": [],
   "source": [
    "# !pip install \"atoti[directquery-bigquery]\"==0.9.0"
   ]
  },
  {
   "cell_type": "markdown",
   "id": "1d997a63-e2db-48f9-b501-0532c5eabb3d",
   "metadata": {},
   "source": [
    "We will be using two components from the DirectQueryPlugin:\n",
    "- [BigqueryConnectionInfo](https://docs.atoti.io/latest/api/atoti_directquery_bigquery.BigqueryConnectionInfo.html#atoti_directquery_bigquery.BigqueryConnectionInfo): Configure the connection information to BigQuery.\n",
    "- [BigqueryTableOptions](https://docs.atoti.io/latest/api/atoti_directquery_bigquery.BigqueryTableOptions.html#atoti_directquery_bigquery.BigqueryTableOptions): Configure the table options about the external table to create in Atoti.  \n",
    "\n",
    "⚠️ **Important:** Use the corresponding components for different databases if we are using a different one from BigQuery. E.g. we use [`ClickhouseConnectionInfo`](https://docs.atoti.io/latest/api/atoti_directquery_clickhouse.ClickhouseConnectionInfo.html#atoti_directquery_clickhouse.ClickhouseConnectionInfo) and [`ClickhouseTableOptions`](https://docs.atoti.io/latest/api/atoti_directquery_clickhouse.ClickhouseTableOptions.html#atoti_directquery_clickhouse.ClickhouseTableOptions) if we are connecting to [ClickHouse](https://clickhouse.com/)."
   ]
  },
  {
   "cell_type": "markdown",
   "id": "4509d71b-4d1b-4297-b18a-10430b128507",
   "metadata": {},
   "source": [
    "## Connection setup to Google BigQuery"
   ]
  },
  {
   "cell_type": "code",
   "execution_count": 4,
   "id": "f5eb2f90-be60-4332-80d2-1a5cd83147d4",
   "metadata": {
    "tags": []
   },
   "outputs": [],
   "source": [
    "from atoti_directquery_bigquery import ConnectionConfig"
   ]
  },
  {
   "cell_type": "markdown",
   "id": "00b90385-93af-479f-888a-bc0677f73eb2",
   "metadata": {},
   "source": [
    "In the below snippet, we use the environment variable to obtain the path to the [API key generated previous in Step 3](#Step-3-—-Generate-API-Key). Setting the credential path into `BigqueryConnectionInfo`, we can invoke the connection to the external database.  "
   ]
  },
  {
   "cell_type": "code",
   "execution_count": 5,
   "id": "ea50d105-284f-4296-b654-b5465037d634",
   "metadata": {
    "tags": []
   },
   "outputs": [
    {
     "name": "stdout",
     "output_type": "stream",
     "text": [
      "/Users/aya/Documents/bd-project-386413-bc58af956b30.json\n"
     ]
    }
   ],
   "source": [
    "credential = os.environ[\"DQ_GOOGLE_CREDENTIAL\"]\n",
    "print(credential)\n",
    "connection_info = ConnectionConfig(credentials=credential)\n",
    "\n",
    "external_database = session.connect_to_external_database(connection_info)"
   ]
  },
  {
   "cell_type": "markdown",
   "id": "8e7f4c10-5dc6-4c53-aeea-ef4864471caf",
   "metadata": {},
   "source": [
    "### Discover External Tables"
   ]
  },
  {
   "cell_type": "markdown",
   "id": "51f3c2ee-c57b-49df-9756-60c96d9b0734",
   "metadata": {
    "tags": []
   },
   "source": [
    "Once connected, we can discover the tables available to us from the external database."
   ]
  },
  {
   "cell_type": "code",
   "execution_count": 6,
   "id": "5e85bd6f-dd6a-4ab8-a2f2-51d7759466de",
   "metadata": {
    "tags": []
   },
   "outputs": [
    {
     "data": {
      "application/json": {
       "bd-project-386413": {
        "tutorial": [
         "PRODUCTS",
         "SALES"
        ],
        "var_demo": [
         "BOOKS",
         "TRADE_PNLS"
        ]
       }
      },
      "text/html": [
       "<ul>\n",
       "<li>BIGQUERY\n",
       "  <ul>\n",
       "  <li>bd-project-386413\n",
       "    <ul>\n",
       "    <li>tutorial\n",
       "      <ol>\n",
       "      <li>PRODUCTS</li>\n",
       "      <li>SALES</li>\n",
       "      </ol>    </li>\n",
       "    <li>var_demo\n",
       "      <ol>\n",
       "      <li>BOOKS</li>\n",
       "      <li>TRADE_PNLS</li>\n",
       "      </ol>    </li>\n",
       "    </ul>\n",
       "  </li>\n",
       "  </ul>\n",
       "</li>\n",
       "</ul>\n"
      ],
      "text/plain": [
       "<atoti.directquery.external_tables.ExternalTables at 0x127578d90>"
      ]
     },
     "execution_count": 6,
     "metadata": {
      "application/json": {
       "expanded": false,
       "root": "BIGQUERY"
      }
     },
     "output_type": "execute_result"
    }
   ],
   "source": [
    "external_database.tables"
   ]
  },
  {
   "cell_type": "markdown",
   "id": "4187eaef-cae3-44ca-80c1-dd952dd3faab",
   "metadata": {},
   "source": [
    "If the database has many schemas, we can perform a filter to access only the schema that we want."
   ]
  },
  {
   "cell_type": "code",
   "execution_count": 7,
   "id": "63c5fafe-05e1-429e-8f35-9f3f072e34f7",
   "metadata": {
    "tags": []
   },
   "outputs": [
    {
     "data": {
      "application/json": {
       "bd-project-386413": {
        "tutorial": [
         "PRODUCTS",
         "SALES"
        ]
       }
      },
      "text/html": [
       "<ul>\n",
       "<li>BIGQUERY\n",
       "  <ul>\n",
       "  <li>bd-project-386413\n",
       "    <ul>\n",
       "    <li>tutorial\n",
       "      <ol>\n",
       "      <li>PRODUCTS</li>\n",
       "      <li>SALES</li>\n",
       "      </ol>    </li>\n",
       "    </ul>\n",
       "  </li>\n",
       "  </ul>\n",
       "</li>\n",
       "</ul>\n"
      ],
      "text/plain": [
       "<atoti.directquery.external_tables.ExternalTables at 0x127578f70>"
      ]
     },
     "execution_count": 7,
     "metadata": {
      "application/json": {
       "expanded": false,
       "root": "BIGQUERY"
      }
     },
     "output_type": "execute_result"
    }
   ],
   "source": [
    "external_database.tables._filter(schema_name=\"tutorial\")"
   ]
  },
  {
   "cell_type": "markdown",
   "id": "f1308a2c-a4d2-40e5-9985-7013fa05a9fb",
   "metadata": {},
   "source": [
    "### Discover Table Columns"
   ]
  },
  {
   "cell_type": "markdown",
   "id": "e72119a9-ed38-4d83-a8a5-1fe021b48e5c",
   "metadata": {},
   "source": [
    "If a table name is unique in the database, we can check its structure directly using its name:  "
   ]
  },
  {
   "cell_type": "code",
   "execution_count": 8,
   "id": "f91519b6-a36b-4f0c-b1f0-949b0be22d5f",
   "metadata": {
    "tags": []
   },
   "outputs": [
    {
     "data": {
      "application/json": {
       "DATE": "LocalDate",
       "PRODUCT": "String",
       "QUANTITY": "long",
       "SALE_ID": "String",
       "SHOP": "String",
       "UNIT_PRICE": "double"
      },
      "text/html": [
       "<ul>\n",
       "<li>SALES\n",
       "  <ul>\n",
       "  <li>SALE_ID: String</li>\n",
       "  <li>DATE: LocalDate</li>\n",
       "  <li>SHOP: String</li>\n",
       "  <li>PRODUCT: String</li>\n",
       "  <li>QUANTITY: long</li>\n",
       "  <li>UNIT_PRICE: double</li>\n",
       "  </ul>\n",
       "</li>\n",
       "</ul>\n"
      ],
      "text/plain": [
       "<atoti.directquery.external_table.ExternalTable at 0x1275788e0>"
      ]
     },
     "execution_count": 8,
     "metadata": {
      "application/json": {
       "expanded": true,
       "root": "SALES"
      }
     },
     "output_type": "execute_result"
    }
   ],
   "source": [
    "external_database.tables[\"SALES\"]"
   ]
  },
  {
   "cell_type": "markdown",
   "id": "1d9ef3fb-85a5-472b-aa12-8a88e3d1e6d9",
   "metadata": {},
   "source": [
    "However, to be precise, it is a good practice to refer to the table using its database, schema and table names. Uncomment and execute the following cells as to try this out."
   ]
  },
  {
   "cell_type": "code",
   "execution_count": 9,
   "id": "247c876c-2b44-4b0f-8bcf-8864350bb3d6",
   "metadata": {
    "tags": []
   },
   "outputs": [],
   "source": [
    "# db_name = \"<database name here>\"\n",
    "# db_schema = \"tutorial\"\n",
    "# table_sales = \"SALES\""
   ]
  },
  {
   "cell_type": "code",
   "execution_count": 10,
   "id": "fbfde589-b458-474d-8665-af7b016598bc",
   "metadata": {
    "tags": []
   },
   "outputs": [],
   "source": [
    "# external_database.tables[db_name, db_schema, table_sales]"
   ]
  },
  {
   "cell_type": "markdown",
   "id": "85d14ebe-eb8a-4216-8564-8330b4b7b0d9",
   "metadata": {},
   "source": [
    "## Add External Table to Atoti"
   ]
  },
  {
   "cell_type": "markdown",
   "id": "8fa1b581-ee16-4730-8ea2-b29fa14ee03a",
   "metadata": {},
   "source": [
    "Since we have connected to the external database and we are able to see its structure, we can add the required tables to the Atoti session.  \n",
    "\n",
    "Using [BigqueryTableOptions](https://docs.atoti.io/latest/api/atoti_directquery_bigquery.BigqueryTableOptions.html#atoti_directquery_bigquery.BigqueryTableOptions), we can define additional options to the table that we will create in Atoti:\n",
    "\n",
    "- `array_conversion`: Converting values spread over multiple columns into array columns.\n",
    "- `clustering_columns`: Columns used for splitting up queries.\n",
    "- `keys`: Keys used to identify unique rows for updating of data.\n",
    "\n",
    "We will only use `keys` and `clustering_columns` in our example."
   ]
  },
  {
   "cell_type": "code",
   "execution_count": 11,
   "id": "7dab34b4-ca6f-4c80-8ba9-f8534f9eae5b",
   "metadata": {
    "tags": []
   },
   "outputs": [],
   "source": [
    "from atoti_directquery_bigquery import TableConfig"
   ]
  },
  {
   "cell_type": "markdown",
   "id": "790b7a07-c762-438a-878e-de3611f39b5c",
   "metadata": {},
   "source": [
    "Similar to how we create keys for Atoti tables, we set the key columns in the `BigqueryTableOptions`. Note that this external table is created in Atoti and the defined keys affects only the data that is accessible in Atoti. It does not change the tables in BigQuery.  \n",
    "\n",
    "To distinguish our Atoti external table from the BigQuery table, we named them differently in our example.  "
   ]
  },
  {
   "cell_type": "code",
   "execution_count": 12,
   "id": "a580d644-94e0-4772-ac94-a9600bc08546",
   "metadata": {
    "tags": []
   },
   "outputs": [],
   "source": [
    "sales_table = session.add_external_table(\n",
    "    external_database.tables[\"SALES\"],\n",
    "    table_name=\"Atoti Sales\",\n",
    "    config=TableConfig(keys=[\"SALE_ID\"], clustering_columns={\"DATE\", \"PRODUCT\"}),\n",
    ")"
   ]
  },
  {
   "cell_type": "markdown",
   "id": "ac9b4de4-60f9-45d9-8b87-e7d0452714ee",
   "metadata": {},
   "source": [
    "To speed up querying, Atoti makes use of [aggregate providers](https://docs.atoti.io/latest/api/atoti.AggregateProvider.html#atoti.AggregateProvider) to pre-aggregates some table columns up to certain levels. Feeding such providers from an external database can result in very large queries to be run on the database. Some databases can have trouble processing such large queries. Therefore, we define [clustering columns](https://docs.activeviam.com/products/atoti/server/latest/docs/directquery/directquery-clustering-fields/) to help split up queries made by DirectQuery to these external database when feeding the aggregate providers.  \n",
    "\n",
    "The `clustering_columns` parameter allows us to define columns to be used for clustering. While our example uses a small dataset and clustering column is not necessary, we demonstrate how it can be used in the snippet above.  "
   ]
  },
  {
   "cell_type": "code",
   "execution_count": 13,
   "id": "561e7c19-28cc-4796-918b-24de800147a7",
   "metadata": {
    "tags": []
   },
   "outputs": [
    {
     "data": {
      "text/html": [
       "<div>\n",
       "<style scoped>\n",
       "    .dataframe tbody tr th:only-of-type {\n",
       "        vertical-align: middle;\n",
       "    }\n",
       "\n",
       "    .dataframe tbody tr th {\n",
       "        vertical-align: top;\n",
       "    }\n",
       "\n",
       "    .dataframe thead th {\n",
       "        text-align: right;\n",
       "    }\n",
       "</style>\n",
       "<table border=\"1\" class=\"dataframe\">\n",
       "  <thead>\n",
       "    <tr style=\"text-align: right;\">\n",
       "      <th></th>\n",
       "      <th>DATE</th>\n",
       "      <th>SHOP</th>\n",
       "      <th>PRODUCT</th>\n",
       "      <th>QUANTITY</th>\n",
       "      <th>UNIT_PRICE</th>\n",
       "    </tr>\n",
       "    <tr>\n",
       "      <th>SALE_ID</th>\n",
       "      <th></th>\n",
       "      <th></th>\n",
       "      <th></th>\n",
       "      <th></th>\n",
       "      <th></th>\n",
       "    </tr>\n",
       "  </thead>\n",
       "  <tbody>\n",
       "    <tr>\n",
       "      <th>S0010</th>\n",
       "      <td>2022-01-31</td>\n",
       "      <td>shop_2</td>\n",
       "      <td>BED_2</td>\n",
       "      <td>3</td>\n",
       "      <td>150.0</td>\n",
       "    </tr>\n",
       "    <tr>\n",
       "      <th>S0007</th>\n",
       "      <td>2022-02-01</td>\n",
       "      <td>shop_5</td>\n",
       "      <td>BED_2</td>\n",
       "      <td>1</td>\n",
       "      <td>150.0</td>\n",
       "    </tr>\n",
       "    <tr>\n",
       "      <th>S0008</th>\n",
       "      <td>2022-01-31</td>\n",
       "      <td>shop_4</td>\n",
       "      <td>BED_2</td>\n",
       "      <td>1</td>\n",
       "      <td>150.0</td>\n",
       "    </tr>\n",
       "    <tr>\n",
       "      <th>S0009</th>\n",
       "      <td>2022-01-31</td>\n",
       "      <td>shop_3</td>\n",
       "      <td>BED_2</td>\n",
       "      <td>1</td>\n",
       "      <td>150.0</td>\n",
       "    </tr>\n",
       "    <tr>\n",
       "      <th>S0019</th>\n",
       "      <td>2022-02-02</td>\n",
       "      <td>shop_3</td>\n",
       "      <td>HOO_5</td>\n",
       "      <td>1</td>\n",
       "      <td>48.0</td>\n",
       "    </tr>\n",
       "  </tbody>\n",
       "</table>\n",
       "</div>"
      ],
      "text/plain": [
       "              DATE    SHOP PRODUCT  QUANTITY  UNIT_PRICE\n",
       "SALE_ID                                                 \n",
       "S0010   2022-01-31  shop_2   BED_2         3       150.0\n",
       "S0007   2022-02-01  shop_5   BED_2         1       150.0\n",
       "S0008   2022-01-31  shop_4   BED_2         1       150.0\n",
       "S0009   2022-01-31  shop_3   BED_2         1       150.0\n",
       "S0019   2022-02-02  shop_3   HOO_5         1        48.0"
      ]
     },
     "execution_count": 13,
     "metadata": {},
     "output_type": "execute_result"
    }
   ],
   "source": [
    "sales_table.head()"
   ]
  },
  {
   "cell_type": "markdown",
   "id": "dc44214e-743e-4937-9269-61498986355b",
   "metadata": {},
   "source": [
    "We can add multiple tables."
   ]
  },
  {
   "cell_type": "code",
   "execution_count": 14,
   "id": "f282f67a-dfa9-4ba1-aef7-779ec734fe50",
   "metadata": {
    "tags": []
   },
   "outputs": [
    {
     "data": {
      "text/html": [
       "<div>\n",
       "<style scoped>\n",
       "    .dataframe tbody tr th:only-of-type {\n",
       "        vertical-align: middle;\n",
       "    }\n",
       "\n",
       "    .dataframe tbody tr th {\n",
       "        vertical-align: top;\n",
       "    }\n",
       "\n",
       "    .dataframe thead th {\n",
       "        text-align: right;\n",
       "    }\n",
       "</style>\n",
       "<table border=\"1\" class=\"dataframe\">\n",
       "  <thead>\n",
       "    <tr style=\"text-align: right;\">\n",
       "      <th></th>\n",
       "      <th>CATEGORY</th>\n",
       "      <th>SUB_CATEGORY</th>\n",
       "      <th>SIZE</th>\n",
       "      <th>PURCHASE_PRICE</th>\n",
       "      <th>COLOR</th>\n",
       "      <th>BRAND</th>\n",
       "    </tr>\n",
       "    <tr>\n",
       "      <th>PRODUCT_ID</th>\n",
       "      <th></th>\n",
       "      <th></th>\n",
       "      <th></th>\n",
       "      <th></th>\n",
       "      <th></th>\n",
       "      <th></th>\n",
       "    </tr>\n",
       "  </thead>\n",
       "  <tbody>\n",
       "    <tr>\n",
       "      <th>BED_2</th>\n",
       "      <td>Furniture</td>\n",
       "      <td>Bed</td>\n",
       "      <td>Single</td>\n",
       "      <td>127.0</td>\n",
       "      <td>red</td>\n",
       "      <td>Mega</td>\n",
       "    </tr>\n",
       "    <tr>\n",
       "      <th>TAB_1</th>\n",
       "      <td>Furniture</td>\n",
       "      <td>Table</td>\n",
       "      <td>2m40</td>\n",
       "      <td>280.0</td>\n",
       "      <td>white</td>\n",
       "      <td>Mega</td>\n",
       "    </tr>\n",
       "    <tr>\n",
       "      <th>TAB_0</th>\n",
       "      <td>Furniture</td>\n",
       "      <td>Table</td>\n",
       "      <td>1m80</td>\n",
       "      <td>190.0</td>\n",
       "      <td>black</td>\n",
       "      <td>Basic</td>\n",
       "    </tr>\n",
       "    <tr>\n",
       "      <th>HOO_5</th>\n",
       "      <td>Cloth</td>\n",
       "      <td>Hoodie</td>\n",
       "      <td>M</td>\n",
       "      <td>38.0</td>\n",
       "      <td>red</td>\n",
       "      <td>Mega</td>\n",
       "    </tr>\n",
       "    <tr>\n",
       "      <th>TSH_3</th>\n",
       "      <td>Cloth</td>\n",
       "      <td>Tshirt</td>\n",
       "      <td>M</td>\n",
       "      <td>19.0</td>\n",
       "      <td>brown</td>\n",
       "      <td>Over</td>\n",
       "    </tr>\n",
       "  </tbody>\n",
       "</table>\n",
       "</div>"
      ],
      "text/plain": [
       "             CATEGORY SUB_CATEGORY    SIZE  PURCHASE_PRICE  COLOR  BRAND\n",
       "PRODUCT_ID                                                              \n",
       "BED_2       Furniture          Bed  Single           127.0    red   Mega\n",
       "TAB_1       Furniture        Table    2m40           280.0  white   Mega\n",
       "TAB_0       Furniture        Table    1m80           190.0  black  Basic\n",
       "HOO_5           Cloth       Hoodie       M            38.0    red   Mega\n",
       "TSH_3           Cloth       Tshirt       M            19.0  brown   Over"
      ]
     },
     "execution_count": 14,
     "metadata": {},
     "output_type": "execute_result"
    }
   ],
   "source": [
    "products_table = session.add_external_table(\n",
    "    external_database.tables[\"PRODUCTS\"],\n",
    "    table_name=\"Atoti Product\",\n",
    "    config=TableConfig(keys=[\"PRODUCT_ID\"]),\n",
    ")\n",
    "\n",
    "products_table.head()"
   ]
  },
  {
   "cell_type": "markdown",
   "id": "57349699-117a-4cf9-bb95-5910f18d5187",
   "metadata": {},
   "source": [
    "Once we have created our external tables, the rest is _simply the usual stuff for Atoti_."
   ]
  },
  {
   "cell_type": "markdown",
   "id": "564a8bad-9c60-4c7a-b94e-918b5112cfdb",
   "metadata": {
    "tags": []
   },
   "source": [
    "## Atoti Cube Setup"
   ]
  },
  {
   "cell_type": "markdown",
   "id": "2f24568b-71da-4341-a716-f8abdbdce17d",
   "metadata": {
    "tags": []
   },
   "source": [
    "From this section onwards, the coding remains the same regardless of the underlying data source.  \n",
    "\n",
    "As we have always done, we join the tables and create the cube."
   ]
  },
  {
   "cell_type": "code",
   "execution_count": 15,
   "id": "93f6c667-27b6-4e2e-9685-ef275235622c",
   "metadata": {
    "tags": []
   },
   "outputs": [
    {
     "data": {
      "image/png": "[encoded data removed]",
      "text/plain": [
       "erDiagram\n",
       "  \"Atoti Sales\" {\n",
       "    _ String PK \"SALE_ID\"\n",
       "    _ LocalDate \"DATE\"\n",
       "    _ String \"SHOP\"\n",
       "    _ String \"PRODUCT\"\n",
       "    _ long \"QUANTITY\"\n",
       "    _ double \"UNIT_PRICE\"\n",
       "  }\n",
       "  \"Atoti Product\" {\n",
       "    _ String PK \"PRODUCT_ID\"\n",
       "    _ String \"CATEGORY\"\n",
       "    _ String \"SUB_CATEGORY\"\n",
       "    _ String \"SIZE\"\n",
       "    _ double \"PURCHASE_PRICE\"\n",
       "    _ String \"COLOR\"\n",
       "    _ String \"BRAND\"\n",
       "  }\n",
       "  \"Atoti Sales\" }o--o| \"Atoti Product\" : \"`PRODUCT` == `PRODUCT_ID`\""
      ]
     },
     "execution_count": 15,
     "metadata": {},
     "output_type": "execute_result"
    }
   ],
   "source": [
    "sales_table.join(products_table, sales_table[\"PRODUCT\"] == products_table[\"PRODUCT_ID\"])\n",
    "cube = session.create_cube(sales_table)\n",
    "session.tables.schema"
   ]
  },
  {
   "cell_type": "code",
   "execution_count": 16,
   "id": "4ee29cb6-1f57-43f2-b6e7-ad2e72d8abd4",
   "metadata": {
    "atoti": {
     "widget": {
      "mapping": {
       "columns": [
        "ALL_MEASURES"
       ],
       "measures": [
        "[Measures].[QUANTITY.SUM]"
       ],
       "rows": [
        "[Atoti Sales].[DATE].[DATE]",
        "[Atoti Sales].[SHOP].[SHOP] => [Atoti Product].[BRAND].[BRAND]"
       ]
      },
      "name": "Quantity sold across dates by shops",
      "query": {
       "mdx": "SELECT NON EMPTY {[Measures].[QUANTITY.SUM]} ON COLUMNS, NON EMPTY Hierarchize(Union(Crossjoin(Hierarchize(Descendants({[Atoti Sales].[DATE].[AllMember]}, 1, SELF_AND_BEFORE)), Hierarchize(Descendants({[Atoti Sales].[SHOP].[AllMember]}, 1, SELF_AND_BEFORE)), [Atoti Product].[BRAND].DefaultMember), Crossjoin([Atoti Sales].[DATE].[AllMember].[2022-01-31], [Atoti Sales].[SHOP].[AllMember].[shop_2], Hierarchize(Descendants({[Atoti Product].[BRAND].[AllMember]}, 1, SELF_AND_BEFORE))))) ON ROWS FROM [Atoti Sales] CELL PROPERTIES VALUE, FORMATTED_VALUE, BACK_COLOR, FORE_COLOR, FONT_FLAGS",
       "updateMode": "once"
      },
      "serverKey": "default",
      "widgetKey": "pivot-table"
     }
    },
    "tags": []
   },
   "outputs": [
    {
     "data": {
      "application/vnd.atoti.widget.v0+json": {
       "sessionId": "1728068645_417060",
       "sessionUrl": "http://localhost:57549",
       "widgetCreationCode": "session.widget"
      },
      "text/html": [
       "<img height=\"352\" width=\"1068\" src=\"data:image/png;base64,iVBORw0KGgoAAAANSUhEUgAACFgAAALACAYAAACt/FR2AAAACXBIWXMAAB2HAAAdhwGP5fFlAAAAAXNSR0IArs4c6QAAIABJREFUeF7s3QmUHFX9/v97u2cSgWHfjEQIMOnqLEQxIqAoICIigggCsinKV1DABQUFUUARUAERFBWUVUREARHcN2QRFcISSNLVM4SAgWgQNCYsk0x3/fPUr6v/dyrV20zPpLvnfc/hHKa7upbXraqezH3qc62hIYAAAggggAACCCCAAAIIIIAAAggggAACCCCAAAIIIIAAAggggAACCFQVsPgggAACCCCAAAIIIIAAAggggAACCCCAAAIIIIAAAggggAACCCCAAAIIVBcgYMEZggACCCCAAAIIIIAAAggggAACCCCAAAIIIIAAAggggAACCCCAAAII1BAgYMEpggACCCCAAAIIIIAAAggggAACCCCAAAIIIIAAAggggAACCCCAAAII1BBYI2ARBEGAGgIIIIAAAgggMBoC1lrCnaMByzoRQAABBBBAAAEEEEAAAQQQQAABBBBAAAEEEEBg1AUIWIw6MRtAAAEEEEAAgUiAgAXnAgIIIIAAAggggAACCCCAAAIIIIAAAggggAACCLSrAAGLdu059hsBBBBAAIE2FCBg0Yadxi4jgAACCCCAAAIIIIAAAggggAACCCCAAAIIIIBAKEDAghMBAQQQQAABBMZMgIDFmFGzIQQQQAABBBBAAAEEEEAAAQQQQAABBBBAAAEEEGiyAAGLJoOyOgQQQAABBBCoLEDAgrMDAQQQQAABBBBAAAEEEEAAAQQQQAABBBBAAAEE2lWAgEW79hz7jQACCCCAQBsKELBow05jlxFAAAEEEEAAAQQQQAABBBBAAAEEEEAAAQQQQCAUIGDBiYAAAggggAACYyZAwGLMqNkQAggggAACCCCAAAIIIIAAAggggAACCCCAAAIINFmAgEWTQVkdAggggAACCFQWIGDB2YEAAggggAACCCCAAAIIIIAAAggggAACCCCAAALtKkDAol17jv1GAAEEEECgDQUIWLRhp7HLCCCAAAIIIIAAAggggAACCCCAAAIIIIAAAgggEAoQsOBEQAABBBBAAIExEyBgMWbUbAgBBBBAAAEEEEAAAQQQQAABBBBAAAEEEEAAAQSaLEDAosmgrA4BBBBAAAEEKgsQsODsQAABBBBAAAEEEEAAAQQQQAABBBBAAAEEEEAAgXYVIGDRrj3HfiOAAAIIINCGAgQs2rDT2GUEEEAAAQQQQAABBBBAAAEEEEAAAQQQQAABBBAIBQhYcCIggAACCCCAwJgJELAYM2o2hAACCCCAAAIIIIAAAggggAACCCCAAAIIIIAAAk0WIGDRZFBWhwACCCCAAAKVBQhYcHYggAACCCCAAAIIIIAAAggggAACCCCAAAIIIIBAuwoQsGjXnmO/EUAAAQQQaEMBAhZt2GnsMgIIIIAAAggggAACCCCAAAIIIIAAAggggAACCIQCBCw4ERBAAAEEEEBgzAQIWIwZNRtCAAEEEEAAAQQQQAABBBBAAAEEEEAAAQQQQACBJgsQsGgyKKtDAAEEEEAAgcoCBCw4OxBAAAEEEEAAAQQQQAABBBBAAAEEEEAAAQQQQKBdBQhYtGDPPffccyadTpuNNtqoBfeOXUIAAQQQQGD4AgQshm/HJxFAAAEEEEAAAQQQQAABBBBAAAEEEEAAAQQQQGDtCjQtYFEoFMzTTz9t/vnPf5olS5aYwcFB88pXvjL8b/LkyWbixIlr90jbZOuXX365ufjii8O9/cIXvmCOPPLINtnztbubp59+urnrrrvCnbjwwgvNrrvuOuwdOvfcc80vf/nL8PNnn3222XvvvYe9Lj7Y3gK/+MUvzHnnnRcexEEHHWQ+/elPt/cBjdHe77HHHmbVqlWmu7vb3H777Wb99dcfoy2P/WZyuZw59thjww3PmDHDXHHFFWO/E222RQIWbdZh7C4CCCCAAAIIIIAAAggggAACCCCAAAIIIIAAAgiUBUYcsFi2bJm59dZbzTXXXBOGK5LaeuutFwYFDj300DBsQUsWePnll81rX/va8ptyu//++00qlYKshsD//d//mXvuuSdc6rLLLjN77bXXsM00iK6BdbWvfOUr5sADDxz2uvhgewvcdNNN5swzzwwP4j3veY85//zz2/uAxmjvs9lseUv33Xef2Xjjjcdoy2O/mUceecQcdthh4YZ7e3vNHXfcMfY70WZbJGDRZh3G7iKAAAIIIIAAAggggAACCCCAAAIIIIAAAggggEBZYEQBiwceeMAcf/zx5oUXXqibVNUBDj744LqX75QF77zzTiMvtde//vVGT3jHm6qAvOMd7zD/+Mc/wrc8zzO33XbbkMUWLlxobrnllvA1VQc56qijOoVoRMdBwGJEfHy4gsBYBSyuv/76ckBNlTK22267tu4TAhZt3X2jvvMELEadmA0ggAACCCCAAAIIIIAAAggggAACCCCAAAIIIIDAKAkMO2ChJ/yTyuXvtttuZuuttw5Lwz/11FPm73//+xoBjOOOO8586lOfGqVDas3VqhKCqnyoHXPMMea0005L3FFVrPjmN79pXvGKV5gTTzzRvOY1rxmy3B/+8IfwdTWelv7/aQhYtOZ53+57NVYBi3e9612mv78/5BppBZZWMCdg0Qq90Lr7QMCidfuGPUMAAQQQQAABBBBAAAEEEEAAAQQQQAABBBBAAIHqAsMKWDz++ONmv/32G7JmDXB/4AMfMJtvvvmQ11988cVwCpFzzjlnyOsKEey9997jpn/qDVjUAiFgkSxEwKLWmcP7wxEgYDEcNWMIWAzPbbx8ioDFeOlpjhMBBBBAAAEEEEAAAQQQQAABBBBAAAEEEEAAgc4TaDhgoWksjj76aPPggw+WNS644AKz//77V9WZO3eu+eAHP1iuZrHpppuaX/3qV2aDDTboPNWEIyJgMbrdTMBidH3H69oJWAyv5wlYDM9tvHyKgMV46WmOEwEEEEAAAQQQQAABBBBAAAEEEEAAAQQQQACBzhNoOGBx1113GU3xEbWPf/zj5oQTTqhL5s477zQf+chHystqmhB3XUEQGN/3TbFYNOl02nieV3W9WlaBj1QqFS5r7RqHE35+1apV5sknnzSqvLF48WKz1VZbhctrKhNtp1JbuHChefnll8O3tXy0rKY+efjhh83zzz9vpkyZYrbbbrtwXfE2MDAQblPtiiuuML/+9a/D/3/HO94x5Lj1eU0Jovbss8+G/6lNmjTJbLzxxuH/5/N5Mzg4aO69915z0UUXha+98pWvNN/+9rfLm9XPm2yySTg1y4oVK8rL6LVqzd2mtqftDqctXbrU5HK58JgVoNEUJu6x1bNO9emiRYvMkiVLTFdXl9lyyy3N9ttvH66nWmskYKHjfeyxx8zTTz8dnjNa9/Tp082GG24YbkJT32gKHDUFYw488MB6dj1xmRdeeME88cQT4fQP//nPf8JjyWQyYd810uSi9fzzn/806623Xri/8p04cWLF1fzrX/8yzz33XPj+5MmTwzCTrjH5PvDAA+Z///uf2WmnncysWbPWWMfy5cuNQlHqB+33ZpttFu7zjjvuWD5X69n/kZwTug/84x//MAsWLAj7SteY/LbZZpuq1209+xUto+tbYTHdF9RXup51rb/qVa8KF2kkYNFoX8tVvmq6h6pvo/PvTW96U/j/te6D8+fPD88L9bXOC127mlYoOpdrWYyWcVLAQvdqnce6P2h/dW1vu+22ZubMmYm7qWOLWj33Ed3j1Qfu+V7r+OPvD8fjkUceMYcddli4KnfaJn3v6Bh0r1l//fXNDjvsEJ5flb6nkvZ1uPfDpO+u6PtV/jrvVG1K+6P90ndoPU33BX0X6T6vc3Pq1KnhNbnRRhvV8/HyMgQsGuJiYQQQQAABBBBAAAEEEEAAAQQQQAABBBBAAAEEEGghgYYDFp///OfNT3/60/AQNOCq0EAUDqjnuD760Y+aP/3pT+GiGsi87bbbyh/T4Njs2bPLPz/66KOmu7s7cbUarJsxY0b5vb///e9rVMPQMldddVU5kJC0IlXVOOWUUxIHbDXIGQ1Q33HHHeFgr44/es1dn6ZM+dznPhcGC6LmDrxVs7nuuuvMG97whnARt9KF9kvBATV3wLLSuj72sY+ZE088MQyxKMyi9t73vtd8+ctfrto1+oymHlE78sgjzRe+8IV6urK8zP33329OPfXU8gBx/MPHHHOM+eQnP1n1PNH+XnrppeGAZFJ73eteZ04++eQwEJDU6glYaHBQ4ZQbb7wxcR0K/GiaG/XjSAMWy5YtM+edd96Q89vdqAbDzz777JqVX+6+++7QRddCUtN5o+0oQBFvp59+ejg9j9qXvvSlcDBb/eCev+p7nTdRU+jikksuMT/84Q8Tt6f9PuKII8LzrNp1P9JzQtuPTyvk7pCO+aCDDmroPHUX1kD6tddea771rW+VB+Xd93XdfOITnwjvVWeeeWb41nve8x5z/vnnr7HN4fb197//fXPhhRfWPIak+6DOi4svvrji9XLUUUeFfd3T01Nx/aNpHA9YaFBffZZ0fWuA/7TTThty71+5cqXZddddy33zta99zRxwwAEVj0Vhhl122aW8vM7hffbZp6atu8BwPeIBi5///Ofm3HPPTbyGdP3oPqP7bLU20vth/LtL34W6nhSsijeFQj7zmc+Yt7zlLRV3SYEM3eOTPq8PvfGNbwyvDYVm6mkELOpRYhkEEEAAAQQQQAABBBBAAAEEEEAAAQQQQAABBBBoRYGGAhbxQSwNQCow0UiLV7H47W9/W67+0MyAhZ4OV3WMSgPT7j6//e1vNxrAiw8Yu4NUGpyqFTyIB07WVsBC4QBVYVDTgN5f//rXikEVDahH4Q4t/6Mf/SisUlBvu+aaa8JQSK2mQTyFXbbYYos1FlUVDoUI6mkKJbzvfe9bY9FaAQtVG9EylQIc0Qrf9a53hVVRNH2N2nAqWKjyg66LpCBOfMfdEE38vSuvvNJo+p1aTX38ne98Z0g/6jNuwOLDH/6wueGGG9YIE7gBC1U+0TWjChe1mipofPe7303sz5GcE6oocdZZZ1UMprj7pUowCsxUq0KTdBzqXwWlovBJpWPV0/0KcXz9618PF0kKWIykr4cbsLj++utrhqa0vwqwaRuqVOC2sTB2AxbyU6igVvvmN79p9t577/JiutajMNSee+4ZnuOVmir7HHvsseW3VWGo3uDfSD3iAYu99trLXH755VUPt1pAqBn3Q/e7q17/Svuk7w/dJ6LqIJUOTPch3RMqheDczxGwqHU18D4CCCCAAAIIIIAAAggggAACCCCAAAIIIIAAAgi0qkBDAQuVot93333Lx3LLLbeEUxU00l566aUhA/juk8bNDFhowN6dPmO33XYzr3/968MS7goV6CljDRxFLT5diV53B6mi5VR+X0/6qjS6Svpr0NodkHZDJ3qyParWIStV2VBToMF9+l7ri6bxqFTB4vbbbw8H/jVwGA06akDLDX2oLzT9hAYMX/va15aP7Xvf+55585vfnNhNbhjj1a9+tVHgpd4S9n/729/Cig9R0/Y1QK/1yETva4qFqGmQPwp+RK+pAoqetHebBijVXwr03HPPPUbT0rjtBz/4wRqDeLUCFprKRscWNVUa0aCtKqaonP7vfve7xGDBcAIWqvCgaSeiptCGQisK4OhJcFVOUDWUqOkcUoUOt/3+9783J5100pDXtL+77757WKll3rx5RgEMt7lhJb3uBizc5fSkv45b1WE0PYiePpe1qjZoSoKoKWCgvtBAvYJKCke5+631KDTjTi8w0nPisssuMxpod+3kp/7SVAt//vOfy9VZtIwGdPfYY4/Ec7vSi0mVCnScukZU5UTXrNt/0XqSAhYj6WtNG6NjUlOAKxrAVoAoun5lu//++5evyfgUTboHvO1tbwuvB92PVNlCA/5R03Wk69+9psfCuFLFHX1/6L6qqWPkHA/AqZKOpnBSe+ihh8zhhx9ePpakKkXRm6oyEt1rDj300LBiS71tpB6VgnQKAOler+kzNKWGpolym6o3xafBatb9MOm7S9uOznNNIfXHP/5xjfP8Zz/72ZBqSfoOe+tb31o+N3W+ffaznw33WyHGOXPmGH23RWEyfQfo51qNgEUtId5HAAEEEEAAAQQQQAABBBBAAAEEEEAAAQQQQACBVhVoKGChwRS3tLkGeRt9elwQhxxySHlgTQGBaJ3NClhokFSDrtGApQbfVSkg3twwgwaZNVjstvgglQbuvvjFLw4ZrFSYQaGCKDyhgWA9TV1tW5oyQyXxk1qlgEW0rAYg9TSxmsIimrokqbkDjtWmCXGnB1HQQdOL1Nvc6WIUEFBwID6ly9VXX22++tWvhqvU4JwCE+uss074swb5FBiI+knv//KXv1yjzLymF9AULFFTgEMDke65Vy1gcd999xlNBRM1BW1UZaGrq2vIoSrsE39KvtGAhabGOProo8vr1foUjHCbwgwamI8Gl+PhnhdffDF8kj8atJSLqi1svfXWQ9bz5JNPDpkGIR5giQcsFJhQf0yaNGmNLo5XyzjhhBOMQinx5p5Xek99++53v7u82EjPCV23CgqoJQVyNLWHztkouKQAgao01Nv++9//hoPM7jmnkJHCL25TUEHbd1s8YNGMvo7WrxCJAhdqGvDXPsab7jUatI98tM+armmzzTYbsqimDnErKMQrQ4y2sXYmHrDQNXvzzTevMY2Tgm6aniJqOr5vfOMb4Y9BEBhVF4pCPZWmCRkcHDQ777xzuU9V4UPXeL1tpB5JAYukUJv6V/0cNX2XHHbYYeWfm3k/jH936R6SdJ7HK3/ITX5Ri/eP7t/x8y1+/PVUQSJgUe/ZyXIIIIAAAggggAACCCCAAAIIIIAAAggggAACCCDQagINBSz0hHw06FopSFDPAWr6hGiA1J2ioFkBC1XJ0NO5ahpE1xPeSUEQDWBrICpqKvc/YcKE8s/uIJUCBKqckLSe+ACTnn5fd911h1C4wYmxCFg88MAD5qijjgr3odI0IfHpQVTFQQOh9TYdR1QFpFI4QwPiqnygPlHTgGkUwlCYwp06IKkyRbQv2rePfexj5V277rrrhkyJUS1gccYZZ4SDu2o6b/WUdnzaBL2nCiHHH398GAKJWqMBi8WLF5crCGgb7vQrrqt7PPFwT/wp9moVSDSYqYHaqJ81YBpNjRAPWChosvHGGyd2rwId0UC2KqooGJJ0rg8MDITnVRQOiQ/IjuSckP+MGTPK+1dpoFznrY5FA+uq5lGpOkvSgapqgJ7Aj5pCQRqcT2qqjhEN9uv9eMCiGX0dbbeegIXuaQq+RH2tig3bb7/9Gruua07Xlc4jNYU1FNqIzvHRNtZ24gGLpGoN0Y6r2oSquETNrVTh9kGlaUL+8pe/mA996EPhxxU6kZNbVSWxc0svNuOci9//3dBgfNsKJCnkpBavtNHM+2E8YBG/X7r7FZ+SRNVzJk+eHC6ioI4CO2qqWKNgWlJTtZFnnnkmfEv3hC233LIau0KKa/zuUfUDvIkAAggggAACCCCAAAIIIIAAAggggAACCCCAAAIItIhAQwGLn/zkJ+UpKapVT6h1bKreoEFuNVWviKa5aFbAotb23ffdgcD4FAvuIFXSFCLReuKDdJrOQ1OIuG2sAxYaZFVp9+hp96RBend6kPhAeT2GmtZA0y2o6XzQ4Fv86eZq6zn55JPNr371q3ARTR0QDeRV+owG9hUcUYuHVCoFLNQ3CjlEFQvOOuusIdMOxLel6ULe+c53ll9uNGBRj5uW0VQcUeWHeFjJdVHwwZ0yI75+9bPCBjpOjVkqrBEFI9yAhTvIHl9HX19fOA1F1FQVRf1ZqcWnAVGoQ8egNtJzQhUMoil3DjjgAHPuueeuURWlXuOk5RQEioIHbrWEpGVlq/BGVEkkaYqQevalWl9Hn68nYOHeNw888ECjc7NSc0MHWkZTC0XBm9E21vbc+6qqx7ihlvg+x6c00vROCmKpKfSjayBqSdOEnH322eVpkxTCiir81NM3WmakHvGAxW9+8xuzzTbbJG7eDVZpmg0FT6LWzPuh+92lc+vCCy+syFHtHqlj0bRXUfvxj39sNE3WSBsBi5EK8nkEEEAAAQQQQAABBBBAAAEEEEAAAQQQQAABBBBYWwINBSzcJ+tHUsHCnZZC1SyiAZzRDFhoEElTh0T/aVsqya7tR61awELTh2jwulJzy8wriLLDDjsMWXSsAxbauPtkctI0IRqM1ICf2vnnnx8+od9Iiz9xrUoZWocqhsyaNWuNKh7xdStgoMFntWoBluhzGmxXlQs1VVm44ooryqusFLCIVylRIGT27NkVDzMelmlGwGLlypVGVRd0zun803mn6Xai4ET8WnIH2xudtsU9MDdgocF5hVKSmlsZQe8/9thja0yf4n4ubuoOuo70nFA1DlXliJoqqhx88MFh0EGD9sOZksjdd9dWA9qqWFKtacocVWBRqydg0WhfR9uuJ2DhXi8ycae9iR/D0qVLy1Ud9J5blWC0jbU9N2BRaWoPd5/dkEP8XvD+97+/PAVTfF3x6UHi9/B67mcj9XADFroHauqYShU0VCVJlSvUVG0jOrf0czPvh27AQuGWaueKtu1WnnHDawro6bst3lcKoek+GgWr6nF2lyFg0agYyyOAAAIIIIAAAggggAACCCCAAAIIIIAAAggggECrCDQUsNDA0dFHH13e9/nz59ddit094EMOOaQ8xYBbTr3ZAQsNMqpShqax0BPdtVq1gEWtp/rdAcJWCVg89dRT5SfB49OEaKB/p512KpMkPRley0thBFWE+OlPf5q4qJ50VmUEVadIGojTAF1UWUJhEFXcqNY0JcKZZ54ZLhJ/+rtSwKK/v99o8DpqOhc22mijqttxz8/hBix0bag6h6o76P+rtXjAolGXSut2AxaahiEa2I0vX8210ror7eNIz4lly5aFg8GVzDRNhM4pnStRRYZa56n7fqO2X//618tBnkoBi5H0dbRv9QQs3H1v5Ji1rBuCGW1jbc8NWNxyyy1m+vTpVXf5lFNOMbrHqsWr09x6661G57JafJoQt1KHpnFypxqp12ikHm7AolZlJ7eaSTxg0ei5We26dQMW1aYYiozcqUv2228/c9FFF5X5XP+46ZQpU8LvGFWbqVb1Jv45Ahb1np0shwACCCCAAAIIIIAAAggggAACCCCAAAIIIIAAAq0m0FDA4vHHHzcafIla0lQYtQ4wXg7+G9/4RliiXa2ZAQsFBlSdIhrAr7Vfer/TAhY6piOOOMI8+OCD4eG7A23u9CC1SshXs9M0CjfeeGM4gBtVo0ha/vDDDzef//znh1QgcAdhNVioqhfVmp72VkUBtfjgZKWARbx8/4IFC8KpNKq1j3/84+G5oNZowCIIgnCQV1Nl1NviAQvXZSQl+esNWKg6iyoDqOlp9e9+97s1d9192j5eVWAk54Q2rGofV155ZRjciabnSNqhaqGRSgfQ6DmniidRX8YDFs3o62g/6wlYuPtes4NiC1x33XXhVDlRG01jbcPd17vvvttsvvnmVXf5ggsuCPtcLV5tp1oYzJ0eRP2kcNRw2kg8mhWwaPTcrHY/dAMWmoZEgbRq7eqrrzYKWajFqwPpNfWhqgfdddddFVejaaYuueSSuqpaELAYzlnKZxBAAAEEEEAAAQQQQAABBBBAAAEEEEAAAQQQQKAVBBoKWAwMDAyZf/0zn/nMkDL09RyQBmiOO+648qIa6N9+++3Dn5sVsNAT5QcddNCQ3VGIQ0/YbrHFFmaDDTYw66+/vunp6TGHHXZYeblODFjcfPPN5owzzgiP0R24dKcHqecJ53r6Vu56ovyBBx4YUvo++qz64OKLLy4HHNxBQD0x7YZ3kranQeLzzjsvfEtPxOvJ+KhVClg8+eSTZp999ikvp0FJhTOqNXewu9GAhTsgr22ocoiOW096K0ih807/LVmypPxUfjxg4brUM71CpWOpN2DhPqGuKTmiaWMqrVcBCrcigaZq0aBsUmv0nHDXoWoYf/vb38L/VD0nCgq5y7gVcOo5Rxs95zR1zrXXXhuuOh6waEZfR/tcT8DC3Xfti6o5VGsvvfSSWWeddcJFdt55Z7PhhhuusfhoGGsjblhAU77suOOOVffVnTbqwx/+sPn0pz89ZHlNc6GggFp0TcSnBxlOFZ74Tg3Ho1kBi0bPzWr3Q3ddmopo7733rurvBlUUnorCFvEPacoQfYfL+r777lsjAKX7nAJmm2yySdXtEbCo527FMggggAACCCCAAAIIIIAAAggggAACCCCAAAIIINCKAg0FLHQAClX8/Oc/D49FgykKSKTT6SHHpgEYVaaImioXqHy7mlsdQJ//9a9/XV4uHrCoNmD2r3/9y+y+++7lz7rLXn755eFAvpoGjDUQqmBFvGmAbubMmeWXOzFgoSezoyfXo2lCVEUkmh5Eg/vqr3gfjvRkXblyZTg1i84Dd7oHTZux7bbbhqtXCCZ674QTTgjPjWpN51E0HUl8qoBKAQv3+LVuVWt44xvfWHEz8RBRowELTW+g41bT1CgaoE+aysIdlI0HLNwpSnRcmj5hOK3egEU89PTQQw+VB+aTtvv000+bvfbaq/yWQjwzZsyouYv1nBPVVqK+VPhD03ZElS1kd88999SsShKt1628Uc859/73vz8cTFaLByya0dfRftUTsHCvl+GE22p2UKl6yEiNtR03YFFPpRFVTtHgvZrCFJomxm3uVCDRte++pmstuufXc5z1LlPPOdesgEUz74duwEL3VZ3r1ZqChjoOtWOPPdaceuqpNYlUwUX3b91T9XtA1M4991xz8MEHV/08AYuavCyAAAIIIIAAAggggAACCCCAAAIIIIAAAggggAACLSrQcMBCg2+qfhC1pCfIFVzQwGT0xLkqBiiU8dhjjw2peKH16MnlqOnpYXegttoUJBr01Dai5gYs3GkxqlUAUKWFo44mj7wQAAAgAElEQVQ6qryOsQpYHH300eWqEvHzQgP611xzTfiyBtY1wO62P/zhD2WzeECl0jmm9dxxxx3h26pWoUHD6AnxpKfFm3muaiBcg31RUwWKqLqI+9T0LrvsUj7upO3r3NDgeH9/f/h2/NypFLDQsu7gba3BRp2zOn+i1kjAIh4QUl9ttdVWiZyahiMKIcUDFhqgVDl+tR122CGcfiWVSiWuZ9WqVUYBB/l0d3eHA5tRWKbegIWqabjVEK6//nqjcv+V2m9+8xvziU98ovz2nDlzwkod9bZq50Q963CnRtDy2p9tttmmno+G09REIR0Fj1QFoFJ78cUXzZvf/ObyNENuwKJZfR1t2w1YVKo4cOaZZxpNpaOmqihuiK2ug29goZEYazNuwKJaRQQtu3Tp0iEVUJJCUDq/VSUlCtbofq+gjaYnUtP1pOt8tFo1j2YFLJp5P3QDFgqUybRSi5/LjVbNUdBC950oLFerv7UfBCxG60xlvQgggAACCCCAAAIIIIAAAggggAACCCCAAAIIIDDaAg0HLBSe0GCK7/vlfbvyyiuHDKLrDT3lfsABB5QHJxWy0GBwNECmAVkFGjS47DY3HJH0JHO07Ec+8pEh01C4AQv3KfULLrjA7L///ms4alBIg60anI7aaAYsVHJd89yrVRscrRWw+NOf/mQ++tGPhuuRoQa3a7W7777bKEihpmlCli1bVp4GQmX3Pc+rtYo13v/3v/9tZKumgX0NuG+++eaJ69HxLlq0KHxPg8RRgMF9Al3vffGLXxwyZYu7sssuu8xo4Dlq8f2uFrBw7fV5TS3iTnERrVPBE53b//jHP8rbaSRg8d///tcoKBK1P/7xj+ZVr3rVGiYauD/00EPLYZF4wCIe/JFt1OfxlWlqFYVm1HSNKdTRaMBCn3WvO1V9kZGmMok3DYYraBBdx+65PNJzQtOAROEHVZz55Cc/mVhZ5fnnnx9ShaSRc9i9fnRsZ511ljn88MPXOE7dHxRMcp/MdwMWzerraMPuPcu9Rtwdu/fee8PqAlGrFipQEOnCCy8sX58KY+i8GAtjbdQNWOjnb33rW+Ztb3vbGs4KTuiYoqovWmDu3LlmwoQJayyrQIWmo1FTUEtBJIUDdB/UNDJdXV1rfKbWC83waFbAopn3QzdgUe3eqvP8U5/6lFFloahp6o+NN944/PHLX/6yWb58eVghRvesqBJV3FXLKZilVk/4h4BFrTOT9xFAAAEEEEAAAQQQQAABBBBAAAEEEEAAAQQQQKBVBRoOWOhAVIlCA/VuUxhCZcbXXXfd8sua/kODpElNg94aVIw3N2CggWdVc5g6dWp5MU0zoIHFb3/720M+6gYs3EHn3t7e8Cl1d054hUT0tHA0mButaDQDFtoHDQpGrdKgcK2AhZ4SjipAaF1y1NPv1ab4iD/9He2DghXaj+G0+Do18HbttdeGYQu3qQqJW25elRmi6UnUDwceeGA5aKDPKayz6667lis2aDs6j6KKG1omqfJAtYCFBptlFDUFEdQfW2+9dfk1hU4+97nPhQEFtzUSsNDn3DL/OrZzzjlniImCCQq7uNOmxAMWOub3ve995tFHHy3vigaX99lnn3I/axkFOKpVk6m3goU2Er9WNQWIpjfZYIMNyvugfdf2oso0esPtz5GeEwsXLjTvfOc7y9tLqq6ikJb6RNP+RO3hhx9OnIYl6bzW9DgaAI6mo9AyCqhoQDqqEqJldC7Hp5yITxHSjL6O9lGVfKJzT1VLdI+Lh8907AqLRWElfVb7qetBA+BR03mjQfMoKPT2t7/dXHrppeHbY2Gs7cQDFnpNlVhmzZpV3lc5X3LJJeXgmZapNj1F/DqOjlfTiej7ZzitGR7NClg0834YD1gkneeaDknnj+4tUdN9Mgrm6DW3+pGCLLqfx0NjupepKpPCLmrVAmHRdghYDOds5TMIIIAAAggggAACCCCAAAIIIIAAAggggAACCCDQCgLDClhox/W0qp5adZsGYPSUsp6ALxaLYen3eIhBy+tJWFUrcAcFo/XEn+LV6/vuu2+4zmeffdbo6X63wkD0OTdgoaehjznmmCH7pkHI2bNnh4P52kY0GOQuNJoBi/jT59quAg4KgGjaimiKg1oBC1VZ0LG4TQOxqpygwWkNjCc1N3QSva9AgTvNSqMnpJ4mdwfntB+77babec1rXhM+9aynw++5557yahXC0MC42+/z5s0Lq0bEzyNNB6Cnq1V9I95X8X7SZ6sFLPR+0vFripUdd9zRPPnkk0NCAzqOqEJDowELPamv/9ymAX2FOfRkvvukfrRMPGCh15MGk6PrSyGju+66a4iL3vvzn/9senp6yptuJGChDyk8oSmA3KY+22677cJAiBsK0TKq/KAKEG4b6TnxoQ99KLw+o6Y+0jmVyWSMpjLR/kXTxGiZE044Ibx+Gmnx6R70WfWBrivZuiEb91yIByya1dfavsIcl19++ZDD0DW95ZZbhsGsKEDlDua754/2faONNjJ9fX3hPdJtmp5JflEbC2M3YOEa6v81+K8KIDqH3ab3NN2Lew7H+9UNtUTvVapIU+85MVKPZgUstL/Nuh+6AQvdG6J7qP5f99b4eR5ZqU9UPSZqDz300BoVXjQVi0JyCtMtWLDA3HrrreXlK1WmivcFAYt6z06WQwABBBBAAAEEEEAAAQQQQAABBBBAAAEEEEAAgVYTGHbAQgeiwU73Cfp6D67WE+c/+tGPwgBGtaYBc7eqgRuw0MC8ngDX09HVmqacOO2008qDT6MZsFDgRGGG+OCn9k/VFKLQRK2AhZZPGtjV6+oLPQmf1DSlS7xiiMILlab1qKcvX3rppbDKwU033VRz8f322y+sGpI07YT2Q5VOkkIv7oo1eHfVVVeFAY54qxWw0NPhmhLmZz/7WdV9VehEA6bR1BCNBiw0/YcqdsQrYcSPQ5VHTjrppPDlpICFXldARVPh1HJRUEdTqEyePHnIsTUasNC+63rQdVCrKST1hS98YY2KJSM9JxSeUjUCt0pGpX3R9a/B8WrVWyp99sYbbwzPx2pt7733Dqciie5F8YBFM/tagR5Vmkjqa1WkcCvDJAVEKh2H7qUKEbltLIzdgIVCdh/4wAeqnse6BlRNQYGzau2GG24wX/rSl8qLaPk77rij1ula9f2RejQzYKEdbcb90A1YqAqUrmu3akscpNq9NSlMmQSq+5Cmotl2221r9gcBi5pELIAAAggggAACCCCAAAIIIIAAAggggAACCCCAAAItKjCigIWOafHixWHpdw181RoIjgyOPPLIcHC2WtM6NX1FfKBVA2pnnHGG2Xnnnc306dPLq1BwIf7kswbJNeVE/Ml7PZWvQXANPLoDUZpywS1/rid1o0EpzVFfbeBIpdWjJ+srPVGt6hO//OUvjQY9FXiImjvNgsqzf//73w/f0kCzyt/Hm6Zi+NOf/hRWB9Fga9T0JL+e6K/U3H3UsSmE0oymfdG6NNAYb7JWhYp4lYr4chrk1ECeBlnjTYN/RxxxRFiG3n262l1OQYTIQvui44s3hVz0NL/ed6dZ0HIaHNR5paCL3KOpUy644IJwWoZGmvpHgQeV049XW1HIRWESTY+gyixqmrLE7Ud3W6raoACOQizx60v7rACA+n2dddZZYxfPPPPMcvjl3HPPrdkHWoGMdN1om+4UJdHK5aN+UPigWhvJOSG/q6++OgzDuNUqtD2dC3p6/vjjj18jONBIH2lZBVi+853vDKmYodc12H/yyScbBSq0Dzov1BQqcQf39Voz+1r3Um1P94eogoq2EQ9Y6DVVXdG1ovtu0vWiMJf+23jjjRNZRtvYDVgo/KbpTRQM07HFm84nTQdT6dp2l3/++efDcz5qle6RjZ4LI/FQ/xxyyCHhJvWdpPt/peZWplFVpnjFmOhzI70fut9rCqDIVlPh6L9403Rfxx133JApk+LLaL/13aRrJuk+tPvuu4ffPa94xSvqoidgURcTCyGAAAIIIIAAAggggAACCCCAAAIIIIAAAggggEALCow4YBEdk55cz+fzYSBBg8KpVCocqNTgcfSU8TnnnFMm0AB0peksXCfNE6/BcJU01xP6lQYMq9lqMHvhwoXh4LGmathggw3WelcobKH90dP3SVUd6t1BuctG69IUAUnTrmhdGkBUafho4FZPGmvqimY27cMzzzwTbkP9pP7SedBI00Dsv/71L6OBVFUi0cCg/htOlYJK29V+/vvf/w7PVa1XA52jdU785z//CUMWGnjUuVfvAGR831WBQ/srl66urnDajuGuq97+0DQO6gtValCwQddyo04jPSd0PihMoH2YNGnSiCquVDruZcuWmaefftrIWMeoqi6VrqNqds3qa12ruj/o2pk4cWLVfta1rz7StrXPW221ldlkk03q7eJwubEwjnZI29L1oCmEdC6pTxs5j5966qmw0kfUNC2OplFpZhtLj1r7Pdz7YTxgEVUG0bmlc13ni65pnS9J4axq+6X7u77jVVVFocMJEybUOow13idg0TAZH0AAAQQQQAABBBBAAAEEEEAAAQQQQAABBBBAAIEWEWhawKLW8WiwXE+46sl2NQ3u6El5DWjSRl/grrvuCp9SjuzvvffehgY2R38P2QICCCBQXUBTQ0VVGPbcc8+wAgltTYFKAYtWsSJg0So9wX4ggAACCCCAAAIIIIAAAggggAACCCCAAAIIIIBAowJjFrDQjumpWU0DETUNAmkKCdroCuRyOaMpNKLpTk488UTzsY99bHQ3ytoRQACBJglE0yKddNJJ5TVeddVVQ6YLadKmOmI1BCw6ohs5CAQQQAABBBBAAAEEEEAAAQQQQAABBBBAAAEEEGhBgTENWLTg8XfsLj377LPm9NNPN/39/eVghQ5WlUNURaTRqR46FooDQwCBlhX4y1/+Yr7//e+bRx55xLzwwgvl/dxtt93C12nJAgQsODMQQAABBBBAAAEEEEAAAQQQQAABBBBAAAEEEEAAgdERIGAxOq5rfa1PPPGE2XfffYfsh6Zjufzyy43neWt9/9gBBBBAoJbAzTffbM4444whi+2yyy7mkksuMRtuuGGtj4/b9wlYjNuu58ARQAABBBBAAAEEEEAAAQQQQAABBBBAAAEEEEBglAUIWIwy8Npa/TPPPGM+8IEPmIkTJ5ptttkmDFUceeSRZtNNN11bu8R2EUAAgYYEfve735mvfe1rZt111zVTp041s2bNMkcccYTp6upqaD3jbeFLL700nJJLTdOqtNp931q7xu8e462POF4EEEAAAQQQQAABBBBAAAEEEEAAAQQQQAABBBBoTwECFu3Zb+w1AggggAACbSlAwKItu42dRgABBBBAAAEEEEAAAQQQQAABBBBAAAEEEEAAAWMMAQtOAwQQQAABBBAYMwECFmNGzYYQQAABBBBAAAEEEEAAAQQQQAABBBBAAAEEEECgyQIELJoMyuoQQAABBBBAoLIAAQvODgQQQAABBBBAAAEEEEAAAQQQQAABBBBAAAEEEGhXAQIW7dpz7DcCCCCAAAJtKEDAog07jV1GAAEEEEAAAQQQQAABBBBAAAEEEEAAAQQQQACBUICABScCAggggAACCIyZAAGLMaNmQwgggAACCCCAAAIIIIAAAggggAACCCCAAAIIINBkAQIWTQZldQgggAACCCBQWYCABWcHAggggAACCCCAAAIIIIAAAggggAACCCCAAAIItKsAAYt27Tn2GwEEEEAAgTYUIGDRhp3GLiOAAAIIIIAAAggggAACCCCAAAIIIIAAAggggEAoQMCCEwEBBBBAAAEExkyAgMWYUbMhBBBAAAEEEEAAAQQQQAABBBBAAAEEEEAAAQQQaLIAAYsmg7I6BBBAAAEEEKgsQMCCswMBBBBAAAEEEEAAAQQQQAABBBBAAAEEEEAAAQTaVYCARbv2HPuNAAIIIIBAGwoQsGjDTmOXEUAAAQQQQAABBBBAAAEEEEAAAQQQQAABBBBAIBQgYMGJgAACCCCAAAJjJkDAYsyo2RACCCCAAAIIIIAAAggggAACCCCAAAIIIIAAAgg0WYCARZNBWR0CCCCAAAIIVBYgYMHZgQACCCCAAAIIIIAAAggggAACCCCAAAIIIIAAAu0qQMCiXXuO/UYAAQQQQKANBQhYtGGnscsIIIAAAggggAACCCCAAAIIIIAAAggggAACCCAQChCw4ERAAAEEEEAAgTETIGAxZtRsCAEEEEAAAQQQQAABBBBAAAEEEEAAAQQQQAABBJossEbAosnrZ3UIIIAAAggggAACCCCAAAIIIIAAAggggAACCCCAAAIIIIAAAggggEDbCxCwaPsu5AAQQAABBBBAAAEEEEAAAQQQQAABBBBAAAEEEEAAAQQQQAABBBBAYLQFCFiMtjDrRwABBBBAAAEEEEAAAQQQQAABBBBAAAEEEEAAAQQQQAABBBBAAIG2FyBg0fZdyAEggAACCCCAAAIIIIAAAggggAACCCCAAAIIIIAAAggggAACCCCAwGgLELAYbWHWjwACCCCAAAIIIIAAAggggAACCCCAAAIIIIAAAggggAACCCCAAAJtL0DAou27kANAAAEEEEAAAQQQQAABBBBAAAEEEEAAAQQQQAABBBBAAAEEEEAAgdEWIGAx2sKsHwEEEEAAAQQQQKCjBHzfD9wD8jyP36k7qoc5GAQQQAABBBBAAAEEEEAAAQQQQAABBBBAIFmAPwZzZiCAAAIIIIAAAggg0IAAAYsGsFgUAQQQQAABBBBAAAEEEEAAAQQQQAABBBDoIAECFh3UmRwKAggggAACCCCAwOgLELAYfWO2gAACCCCAAAIIIIAAAggggAACCCCAAAIItKIAAYtW7BX2CQEEEEAAAQQQQKBlBQhYtGzXsGMIIIAAAggggAACCCCAAAIIIIAAAggggMCoChCwGFVeVo4AAggggAACCCDQaQIELDqtRzkeBBBAAAEEEEAAAQQQQAABBBBAAAEEEECgPgECFvU5sRQCCCCAAAIIIIAAAqEAAQtOBAQQQAABBBBAAAEEEEAAAQQQQAABBBBAYHwKELAYn/3OUSOAAAIIIIAAAggMU4CAxTDh+BgCCCCAAAIIIIAAAggggAACCCCAAAIIINDmAgQs2rwD2X0EEEAAAQQQQACBsRUgYDG23mwNAQQQQAABBBBAAAEEEEAAAQQQQAABBBBoFQECFq3SE+wHAggggAACCCCAQFsIELBoi25iJxFAAAEEEEAAAQQQQAABBBBAAAEEEEAAgaYLELBoOikrRAABBBBAAAEEEOhkAQIWndy7HBsCCCCAAAIIIIAAAggggAACCCCAAAIIIFBZgIAFZwcCCCCAAAIIIIAAAg0IELBoAItFEUAAAQQQQAABBBBAAAEEEEAAAQQQQACBDhIgYNFBncmhIIAAAggggAACCIy+AAGL0TdmCwgggAACCCCAAAIIIIAAAggggAACCCCAQCsKELBoxV5hnxBAAAEEEEAAAQRaVoCARct2DTuGAAIIIIAAAggggAACCCCAAAIIIIAAAgiMqgABi1HlZeUIIIAAAggggAACnSZAwKLTepTjQQABBBBAAAEEEEAAAQQQQAABBBBAAAEE6hMgYFGfE0shgAACCCCAAAIIIBAKELDgREAAAQQQQAABBBBAAAEEEEAAAQQQQAABBManAAGL8dnvHDUCCCCAAAIIIIDAMAUIWAwTjo8hgAACCCCAAAIIIIAAAggggAACCCCAAAJtLkDAos07kN1HAAEEEEAAAQQQGFsBAhZj683WEEAAAQQQQAABBBBAAAEEEEAAAQQQQACBVhEgYNEqPcF+IIAAAggggAACCLSFAAGLtugmdhIBBBBAAAEEEEAAAQQQQAABBBBAAAEEEGi6wHADFra3t3fahAkT1vj8qlWritbaZ/P5/HPGmKCRPe7t7d1gwoQJrx4cHNwklUqljDGP5XI5rWdIy2azU1Kp1HqNrDsIgpULFizo02dmz5697ksvvbRtPZ93P1fP8iyDQLsITJ8+fUKhUMgGQfAaa+1Ma+3SYrH4cKFQePTxxx9fmnQcvb29m0+YMGELvRcEwYoFCxY8Wel4Z82atd7g4OAUva/7Ql9f34JqNjNmzOhdtWrVG62121hrNw6CYEkQBE91d3f/bt68ec9X+mx0Pa9atWqKtbanq6vrsWhZbXfVqlVPLFq06OV26Rf2E4EkAX3vBUGwWRAEvalU6p+pVOrZaLlCoTBYKBQW9ff3D9S6TpLeX7lyZTBhwoSn5s+fv6IR/Xq/s511ln93GBwcLOTz+Vy17Xme56XT6S4ts8466zwxZ86cF6PlK/0eoGNJp9P/nTRp0tI777xzsJHjYVkEGhFoVsBiuN99jXzH7rDDDhsXCoVX6fistQPz5s3rr/V9HATBxGKx6BUKhQW1vr/d3w2stUuqfWe7++L+HtHI7+buvr/44otPL1q06L96rdLvKO7rjfTxOuusk58zZ86qqVOnTuvu7ta/S0yhUPiP7/vPVFrPzJkztywWi5tF78+fP39+nf8eSvX29m6bSqVmpVKp1xaLxYK19hFjzFzf9xdVWMeQf4/973//W7h48eKXkvZNv/MZY6Y6+6X7b6H085D1FAqFF33ff6KWlXsOatmVK1cu7e/vL3831fo87yOAAAIIIIAAAggggAACCCCAAAIIINCuAsMKWOgPagMDA/UMxNweBMFV+Xz+58aYYi2kTCZz3uo//J7uLHeD7/tHxj+XyWTus9buUmt9sfeX+76/gV7LZrNvD4LgN3V+vvy5OpdnMQRaXiCTyexrrf2xMWb9Cjv7g56eno+4A5pabvV45znGmM+XPnOv7/u7VTrY0jZ+Gb0/adKk7qQBTw1cpFKpi4wx+1Zal7X2e93d3Z999NFH/xNfps7r+W5jzG8LhcIF1QahW77j2MFxK1Dn995cY4y+Ny+If+fWc51Ya+cXi8V70un0edXCU1En1PudHS2f8LvDob7v/6RSp3qe97/oHmWt3TOXy93pbLue3wPuN8ZclU6nr280PDJuTzQOvG6BkQYsRvrdV+93rA4ok8mcaK39VungFvq+v32lA1UAYuXKlUNCjUEQTKsWiIr9bjB3YGBg50rBxkwmc4K19rLS9u/2ff8tw/jdvLz7qwMdx+dyuSuq/Y4S27+6+7hQKMzo7+9f4Hne34wxO5U+uLSnp2fb+O9Hem+PPfboWrJkyTyRl5bN9/T0zFRIo9pGp02bNjUIgp8FQTC9wnIPWmsPzuVyClqU23bbbbdhd3d3GC5RKxaLu/f19d2VtI5MJqMw7cPRe4ODg1s//vjj/9DPSf+umzhxYs/cuXNfqLbf2Wz2c0EQnOssc47v+2fWDcyCCCCAAAIIIIAAAggggAACCCCAAAIItKnAaAcsIpbbJkyY8MGkwVHHLe15np4IC5+Od9oGvu8vd1+oc6Ap3iUELNr0JGW3myuQyWROs9aeX8daNVi7r/ukZrMDFvUM+jr7me/q6tov/uRtg+u4fWBg4FAqWtTR+yzSUgINfu/dXCgUjnTDRA1eJ0vT6fRb58+fr4HCSq3u7+xoBQmDeMu7urpmzps376mkjTQhYBGtNl8oFN7T39+vJ8lpCDRFYCQBiwavx8TvvtEKWHie90EFk1ykIAjOyufzX6oEFw8wBEFwUT6fPyVp+TYMWMyfNm3aLsVi8b7oeIIgOD2fz38lfnzZbPa4IAgud5Z7Zz6f/1W1E650Lvy0SuA1+rj+LaTfye6NXhjNgEUQBO/P5/M/qPEdoMDHZGcZAhZNubuwEgQQQAABBBBAAAEEEEAAAQQQQACBVhdoVsBCT5WGT0GpQITzlJd7/HpKbU+nHO0Qm0wm82Zr7RpPXVlrj8jlcj9yF/Y87wtumdvSe28yxmxX+n/9EfJn7meCIFi2etqSj4U7GKtgYa29MQiCxKfL3M+1emeyfwjUEvA8TyXCn3aW01QgqhyzIAiCzfWEZBAE74net9Z+KZfLnRX93MyAxbRp07YpFotDnsY0xixd/QTnTdbaedba3YMg2C826DA3nU7vNH/+/JXRPiUMVH0nCIIXNc1QEAT6w/87Yuu4yff9w2pZ8T4CrSQQD1hYa8PvsyAI1jXGvNUYs4+7v9bafXK53G8rXScaAFVFd72vaXmMMUfEjnf5wMDAFlWeQq/7Oztab4XqV3dPmjTprUnVbRoIWORXDzzqCXN5vNJau3dC3y1PpVLeggULlrRSv7Iv7Ssw3IBFs777RjFg8YfSPcXtHFW96K001UVShYj4PShaWaWAxbRp02YWi8XPxO5jPe7vJEEQ/M5a+8/YWXO17/t/0muVfkfxPO+9xpgDYp/Tvxn0b4eoJYUJTotCpp7nXWeMOTpaeHBwcEt3OjXP81QRTL9fRZXBfuX7/jtrneGe5/lOxQst/mVr7d+LxWLaGLObtfbTzjqGVA4bzYCFMaZWlbK9rLW/jx0fAYtaHc77CCCAAAIIIIAAAggggAACCCCAAAIdIdCsgMVeq0v8/jESKf3Bb/fV0yFfHxvYPNn3/W8kyXme921jzEcT3qv3D5SXGGM+rs9ba3+Ry+XeVamH4gOyAwMD6/BEe0eczxxEDYH4k6mrS4ZvlsvlnnM/Fiv7v9j3fQ2+hlP8NDNgkc1m7ygFKKLNX+r7/ifdAZzJkyevs+666/7RnRLIWntqLpe7MPpQretZ96MJEyb80N1WT0/PeknlvTmBEGhVATdgEQTB2fl8/ovuvpamG3ArNHzN9/3P1nudKPywcuXKzwRB4JZ33819Wtrd3nC+sytNL2atPSOXy50Xt683YBH3mD59+oRVq1btmEqlNG3ALGe9t/u+Hx9kbdUuZ79aXGC4AYtmffeNRsCit7d3cjqdjgLTQ3qgWCzu0tfXFwaZEq5Vd/qw6O2lhUJhZn9//7Ox3zESpwhJWvMIXY4AACAASURBVO/MmTO3XLVqVTlQEQTBzvl8/u+VTo1GfkfJZrMHBUFwc7Qu3/er/psobhMEwbei4LbWkclkzrLWnh2tr9a0KlpOU4MUi0UFxMJWLBb37uvrGxJa8DxPIdFyFYyurq6pUSWvUQ5YKLBWcWoYz/N+mBDMI2DR4vctdg8BBBBAAAEEEEAAAQQQQAABBBBAoDkCoxKwiHZt6tSpb0mlUn92dlWDtVvHn4Dr7e2dmE6n9QfY6KmvvYwxeoIubN3d3a987LHH/lXtkD3PI2DRnHOCtXSwQOwJzDtLVWWGHHE2m93UHWQdGBg4a9GiReEc340MXlQb/MlkMltZaxc7G763NCVBuTJF9F5pUEMDx9H9Ycj88bUCFlpPfGDEWrtHLpdz700d3OscWicI1ApY6BgzmcxvneoNP/B9//3RsddznRhjNO3Hf6JrrVIZ/OF+Z1cKWGgfkwZvhxuwiI552rRpk4rFogZjyyXsrbXb5nK5eOWcTjhFOIYxFhhOwKKZ332jEbDIZDInW2u/XqL8iTFG18qp+tlae3Eul/tUEnNSBYvScrf5vq+qWEH0uUoVLJLW20oBi9LvQGeowoSzr1nf9/14dTAZ5nI5t/JE4tnped6HjDFXRm+m0+mJboUux0zhjU30cyqVunbBggUP6v9HO2BhjPmq7/unxXe+9HvivxMOioDFGN+H2BwCCCCAAAIIIIAAAggggAACCCCAwNoRGNWARemPkSr3+9Xo8FKp1OzoD4PRa9lsdv8gCH5e+jkcPHUHioIgODGfz6vCRcVGwGLtnEBstb0EMpnMmdba8pPv1to35XK5v9R7FM0KWHiep2o17jX9Gt/351baD8/zPmKM+Y7zfnn5OgeOFQ75nzNw/Ol8Ph8NItV7+CyHwFoTqCNgoXCEwgSv005aa4/P5XKq4BC2Oq+TlOd5mkJji9LHvuv7/hqVpYb7nV0tYGGMWbh6aq/X+r6vKb7CNtKAhdYxbdq0XYrF4n1Ox33S930FMmkIjEhgOAGLZn73jUbAwvO8R6KqL0EQHG6tVTWLe0pQyydNmrRJhel8kipYhB9bPaXHR3K53OURdjsHLGbPnr3uihUrNKVHFNpSgOTAbDZ7RRAEH46cJkyYsM2jjz6qsFrV5nmepk4sVwA0xlSs9Je0olEMWGj6OH0PLE+n05vFQx+ZTObE1RXQvlXap2hZ/UjAolan8z4CCCCAAAIIIIAAAggggAACCCCAQEcIjEXAQvMbR3+cVbnZw/P5/I2uXjab/VEQBO/Ta0EQnJfP58/IZrPHr55L/bul1/6az+d3rSY+koCFMWarCRMmvJS0/pdeeunF/v7+gY7obQ5i3AtMnTr1balU6ncxiNtUJltzfvu+3xdNB5KEFQtYKBBxaBXUt7ohikmTJnVHAzPu9arP9/T0TJgzZ86qSuuKD5Jaa9+by+XC0t71DBzHB3attQfkcrnbx/0JAUDbCMQCFt9cuXJlOJXHeuutt1mhUNgtCIKDjDH7lw5objqdftP8+fNXRAdYz3WSyWTebK29y0E5zff9ckDSWdewvrMTrsOD3RL9QRBck8/nPxhtpxkBC00XUigU3O/wxNBI25wI7GjLCAwzYFGutjbS775mByx6e3unp9PpeRHwwMDAxosWLVruVrWx1u6Ty+V+G++E2O8GN6yeyusFJ3BgCoXCjP7+/nAKo3YOWGj/Pc87xBhzU2Rgrf14EASXOj8PCbfV+LeLKnMp/FluQRD81Vr741QqddeqVavmVfs3yGgFLKy1n9O/x7RT+m7J5/O3uvuYzWbnBUEwXa8ptBsEwVml9wlYtMwdih1BAAEEEEAAAQQQQAABBBBAAAEEEBhNgVEPWPT29m6QTqeXRQcRBMGn8vn8xdHP8T8OBkHwhnw+f3+83K4753ASyAgDFtWMEweYRrNTWDcCoyigp9z1VLvKUic1PT1+tQYPfN//qzGm4C5UpQx4zV2OBSw0OKFBCrUHfd+fXW0FCfeJk/L5/GX6TD0Dx9lsVgMA4YC0WhAEm+fz+aTy1jWPgwUQWBsCbsCixvZVbv5M3/efcZerdp3MmDFjk0KhcEAQBCdHT6/rs9baWblc7lF3PSP5zo4HLIIgmGaM2c1a+z1nG4f6vq+pCZpSwaK0HlX22Km0jdt93z9gbfQh2+wsgWEGLJr23dfsgEU2mz07Gii31v4il8u9Sz2WyWS+aa09qfTdOSQEFfVoPGCRTqePLxQKqoaxXWmZuQMDAzsvWrTo5XYPWOjWuLryhKYYe3PCGT130qRJs5OqfFQ6+z3PU6jsqipXx01BEPxo/fXX/+2cOXNerHY/LhaLu/f19bkhufLimUzmNdbah6MXBgcHt3788cdVocTE782FQuHV6XQ6fM89F0rnwxustX8rrec71trHgyC4sPQzAYvOus1xNAgggAACCCCAAAIIIIAAAggggAACFQRGPWCh7cZK85+Vz+e/FO2P53lHGWN+UPp5qe/7k6In6D3PU+ULVcDQH/jOyOVy4dNUSY2ABec4AnULpDOZzDmlARM9PVmpqWz1gbGS/RXLgNfauhuwcKcAMsbc7Pv+e2t9PvY0e/l+EB84Lj3J/3JpfVupWoXzZL9erhnoqLUvvI/AWAs0ELDQVBvX+L6v78tyQCp+ndSx/1/1ff+0+HIj+c5OCljk8/lcNpu9JQiC95S2tbyrq2vmvHnznmpGBYvS7yA/dqrt3O37/lvqOH4WQaCqwHACFs387mtywELTAz0ZTX1hrf1gLpe7RgDxylcTJ07smTt37gsuTjxgsboa1pHZbHZ2EAQPRMsFQXBRPp8/pQMCFqa3t3fHdDr9YPwEsdbumcvl7mz00slms4cHQfA1Z+qRpFVoKo63+L6vKUrCNloVLHzft9ls9o4gCPbTdrq6urbRPbl0P9V0bZq2TWHVN6RSqbcQsGi0x1keAQQQQAABBBBAAAEEEEAAAQQQQKDdBUY9YDFz5swtV61a9U8H6gTf9/XHubB5nvdrY8w++n9r7cW5XO5TznufNMZE1S7yvu97lcBHErBQWXJjzMqkdVtrb/V9X/tIQ6CjBKZMmfKKCRMmvMNaq6kFFGSKnjQtH6dKVefz+Tfq7+il69UNWKjaRbVpNraJAlL6bKyCxQ+NMUeUNlT12tYy22+//RZdXV3/inbMWlsuwd3gwPHCrq6uPaOBgo7qUA6mowViAQsNtEVPlKettVtba3dxQgr6Pv1eLpc7Prp2G7lOkqbyasZ3dpWAxaZBEGj6gC1K27l70qRJb12yZMnzxpgwBBYfuIxNmXJ2Pp//YpXfDzQgmSm9/xPf96tNbdTR5xEH1zyB4QQsPM9r2ndfMwMW2Wz2jUEQ3BvpDA4Obvn444/rPmNK0+yo4lMUyCxXmXHuC+7vBjcoYFH6neEzxpjyNEPFYnFva23GWhtWoDLGVA08xf8NEQTBzvl8XhVpElss6HGv7/u7VVo2m80e5E5RpFBBI2dHJpO53Fp7nPOZusKiVbahUMOuQRCoupdCYK9LWHb54ODgjKjyxGgGLDzPe7cx5melffi87/vnTp8+vadQKOh3P92T5+dyuRnZbPbTBCwaOXNYFgEEEEAAAQQQQAABBBBAAAEEEECgEwQa+mNidMDxQZLVfyDda/UToXrafY0Wf/LNWntwLpe7RQtOmzZtUrFYHFLGvBpqKpWavWDBgjWeGNNnRhKwGBgYWEdlizuhQzkGBIYrkMlkVO1h/9V/N9dAZTTQqScUp+kp89J15g6iVB28qDb4k81mL9J0QdG+vvDCC+suXrz4pUr7vroc956rBxzce8y7fd//uZZvYOD4j0EQvD+fzz89XCM+h8DaEqgnUOB53rGrn4D+frSP7hQfCdeJKkdFwUIFDqLBU1V4eX0UzHCPd6Tf2ZUCFqV7y1tXl9z/g7PvnwuC4PSRBixmz5697ooVK9yn7S/1ff8Ta6sf2W7nCAwnYNHM7774d2y132U9z3MDywt939/e7Qn3d+g6eug23/cPjH0+MWBhjNG0ZL81xuj6Vltqrf2uM2VX2wYsPM9T6Dv83UgtlUrtumDBAk2t1pSmKRZTqdRbrbVfcMMWQRB8OJ/Ph/f5eMCi2r/H4hVFqk0RorBJLFiz2Pf9KZlM5khr7bXadhAE4VRtBCya0t2sBAEEEEAAAQQQQAABBBBAAAEEEECgzQRGPWAR/2NyKpWasmDBApUh1rzOJ1prv9WA2dd83/9s0vIELBpQZFEEqgjEB2LdUuGNPB1aLWARm2bAVJs3XLvqeZ4GGMpTC2lcwff9J/RewsDxydbacJ7yYrEY6CnLnp6eh+Jzl3MSINBOAvUELHp7eyem02k3LPhR3/e/m3SduIOxmUzmU9baixwPTQ10W9xnpN/Z1QIWpev8K8aYxO/44Vaw8DxPUwS5x3KU7/uqIkBDYEQCwwlYVPvuK31nvl07Za1dmsvlvuJ53uerfPftEQTBn6KDKBQKr+vv73+owu/IVxpjPlRad1h5IFpu9uzZ3StWrHjOCVnVdAmCYPN8Pq+qFmFLmiIkeq+3t3dyOp1WhZqkKcnaNmAxY8aMrQcHB8N/z5Taa3zfn1sTr8EFMpnMZtbaZ6OPqepePp//oH6O3/OttR/P5XLfTNpEJpM52lp7nbOech/G781RNY9sNnt+EAThVFGqPpJKpc52pm7cLJfLPUfAosEOZXEEEEAAAQQQQAABBBBAAAEEEEAAgY4QGNWARTabPSYIgqudP+ZpuoFdo589z1OZ353cPxrGVa21xzivLZ00adJWd95552B8OQIWHXE+chCjKFB6GvFRTadd+mP58X19fb+PbzKhQs2xvu9fpeWaFbDYYYcdNl65cqXK/0dt4YQJE17/6KOP/ie+P5lMZidrrVsS/H7f998QLRcPWFCRZhRPIla91gTqCVhMnjx5nfXWWy8MF6lFTxjr/6tdJ6UqDwosRZVr8pMmTZoR/64d6Xd2rYBFabDwL0ml8YcTsPA8b5Yx5hG30wYGBjZetGjRf9daR7LhjhEYTsCi2ndfaToMDdCH16G19sYgCN7ngA357psxY0bv4OBgX/S+tfaUXC7nBqXCt0rf/Y+vrm4zubTskAoU8TCkpu0IgkDLl5u1dj1jjKauiO4tx+Xz+e9FP1cLWJTuP0Om43BWPa4DFp7nKfCgKdrU31fmcrnzki6Q2BRRP/B9//2OvaZPi86ZX+RyuXclraO0raOj93zfT0WViioFLDKZTNZau6D0GZ2buqeqXe/7frguAhYdc0vjQBBAAAEEEEAAAQQQQAABBBBAAAEEGhBoesBCAyTd3d07BkHw1iAIznX3pVgsvquvr+8Xei1eWtcYs6/v+7+O7/u0adNmFotFDQpHLXE6EgIWDfQ6i45bAc/zNK2GpgFRu98YoyfV3Wl6UplM5vPWWk0TErYgCN6cz+fvKV23TZkipLSu7xhjPuJ0xu3d3d0ffuyxxzRYELbp06fPKBQKmhqkPGWJtfaIXC73o2gZAhbj9nQeVwdeK2ChKX5WP2R8prX2uAgmnU7PnD9//jz9XOs6yWazxwdBEFa7KLVysKp0vQ4phz+c7+xaAYsK2wl3p4GARWrq1KleKpV6ozFGg5Xle4cxpmIVrHF1MnGwTREYTsCi1ndfNpsdUpXC3dH4d58uC8/zNEVFJlrO/T1br5WqU+j78uBomSAI4uEIDfJHA+9DQhzu9j3P+7ExRtMJqQ2ZIqxWwKJ0D7pC01vE8Ds+YNHb2zs9lUppWqKV3d3dl8ybN68/MohN3bJcU6n4vv+Aa5Qw1eIZbhAjk8l801p7kvOZL/u+r6pf5ZZQpegG3/ePjBaoFLAona/6/S8MgTit/G8xAhZNuZ2wEgQQQAABBBBAAAEEEEAAAQQQQACBNhNoVsBiqTEmeiK0/IfemMV3fd//aPRaqeyxBmvDVigUXtHf3z+Q5Od5np6k207vWWu/l8vlygNIzvouMcZ8vLRMxSe49H7ClAL5Kv32rO/7u7VZv7K7CCQKZLPZ+FOk+oP+T4wxeWvtRkEQ7OVWldH0GrlcbgdVh9YKm1XBQuuaMmXKRhMnTvRjA6B6S8EPhar2iK5752Bu931fJf/LrdbAMacCAp0gEHuCWcGna0rHtToPZVUZKv7du3h15ZmtoyeUa10npeoRGviLnnJf2tPTs200tU4zvrPrCViU7jPHrt6P77v9Vi1gYYzRfWxJaflJSVMR6F62YsWK1y9evPilTjgfOIa1LzDcgEUd333hVB6xtsZ3X+n32aTKEKo0oEHxzY0x74hdD/p99/W+7+uaUYixp1AohP+vZq09NZfLXZikm8lkDlNVDWfZbXO53KKE3w2GDN5Hy5e2pYoy4e/zpdbxAYtY5Z/f+L6vPgmb53mvMsY8HbvX3VosFh+21gbKyBhj3u2+XygUXt3f3784eq1UyeTBWD8vXh2O/YO1VhX/9oz/LhUEwWvz+Xy5uk+1gEV8ahFjjL5btol+LyRgsfbvRewBAggggAACCCCAAAIIIIAAAggggMDYCzQrYFFrz8/0fV/VLMJB2tJTdxrIif7IOqTcbXxlnud9aXUGI3oaa/kLL7ywZXyQZCQVLGrs/HLf9zeodYC8j0A7COyxxx5dS5Ys0VPdp9axv/cXCoWD3D/kNzNgoe1PnTp1WiqVuiMhSLHG7llrf7Fy5cojFy5cuMx9s9bAcR3HySIItLxAPGBRY4fndnV17T9v3rynouXquU4SBtI+6/v+15r1nV1vwEL7nM1mbwmC4D3R/tcIWFTlsNbeunLlyg/G7x0t3+nsYEsLDDdg0eh3n5ZftWrVRpXOX8/zFDq8rRZWEAR/7e7u3m/evHnl6bkymcz7rLXlilCpVCqzYMGC8rQj7jq32267Dbu7u93pdT7j+/4FWqaeChal63p2EARuhYaODliUfueS9/oly6W+72/punqep0oS19fqPwXJgiB4Z1RRLLYOVRjSlG9RQK7S6pYGQfB2N1yhBasFLBJCOJ/L5XLnO98tnw6CIArlnOP7/pl1HAuLIIAAAggggAACCCCAAAIIIIAAAggg0NYCwwpYlOZrf6HKkauiRV8QBL8tFos/7O/vHzKXc3xedA2i5PP5n1Van+d5ry891R4uUvoD46/c5bPZ7NeDIDi59Frik37R8vFyuzV6kIBFW5/i7HySwNSpU/dLpVKXVgg26GnW61944YVPx4NM2Wz2i0EQRH88rzow4nmentIsX6eTJk3qvvPOO/U05ZA2Y8aMTVatWnVKqcR1NAjhLqMnbr8xadKk7yV9Pn49V6uGw9mAQLsKeJ6XVKY9fp38zRjzYE9PzxVR5YlK33tJ10lpMFBTikTVMJb39PS8csWKFb3GmPLTzsP9zk743SHr+76q2KzRstnspkEQzI8q3BSLxd37+vruihas4aF7mAaJ/55Kpa5dsGCBXPQ0OA2BpgmMJGChnajju6+8r5paI5/PD6nq4h5IJpNRpTVNEbR3wgEuNMb8uqen59T4fcHzvJuMMYfoM6WKVTOqAcWnGfN9/w1aPva7Qa3Q9GeMMV8tbedO3/dVYSGx9fb2bp5Op/VviqjtFJ9Cw/1gI7+jZDKZAxW+ij7v+35D/ybq7e2dnE6n/xF93lo7K5fLuVMahm9ls9nTgyBQsFX/fjkpn89fFj/Y0rSJ3zPGvLkCxW+6urqOc0NzCetQNYyLS9W/3KmRtOhya+3vBwcHT43/m0xvxu/NcQvP875tjAmrEMYraGQymZOttV8vnUNfzOVyZzftImNFCCCAAAIIIIAAAggggAACCCCAAAIItKhAQ39MbNFjYLcQQGCYAnoycXBwcJq1doq1dlkQBI/5vv/MMFc3oo9NmTLlFV1dXdO6urr0BGaPMea5wcHBxf39/QsYHB0RLR9GAAEEEGiywEgDFtHuVPruS6fTmuKnHFKsNIAfO6x0JpOZmkqlZhQKhWXpdPqhXC73XJMPndU1KKCgSFdXV7FWX8yePbt72bJl6r+Mpgjp6uqaN2/evCeUa2hkkwp/dHV1vVa5GU25Fk3l0sg6WBYBBBBAAAEEEEAAAQQQQAABBBBAAAEEKgsQsODsQAABBBBAAAEEEECgAYFmBSyqbTKbzWr6hagqxcO+75/WwC6yKAIIIIAAAggggAACCCCAAAIIIIAAAggggMAoCBCwGAVUVokAAggggAACCCDQuQJjEbDoXD2ODAEEEEAAAQQQQAABBBBAAAEEEEAAAQQQaF8BAhbt23fsOQIIIIAAAggggMBaECBgsRbQ2SQCCCCAAAIIIIAAAggggAACCCCAAAIIINACAgQsWqAT2AUEEEAAAQQQQACB9hEgYNE+fcWeIoAAAggggAACCCCAAAIIIIAAAggggAACzRQgYNFMTdaFAAIIIIAAAggg0PECBCw6vos5QAQQQAABBBBAAAEEEEAAAQQQQAABBBBAIFGAgAUnBgIIIIAAAggggAACDQgQsGgAi0URQAABBBBAAAEEEEAAAQQQQAABBBBAAIEOEiBg0UGdyaEggAACCCCAAAIIjL4AAYvRN2YLCCCAAAIIIIAAAggggAACCCCAAAIIIIBAKwoQsGjFXmGfEEAAAQQQQAABBFpWgIBFy3YNO4YAAggggAACCCCAAAIIIIAAAggggAACCIyqAAGLUeVl5QgggAACCCCAAAKdJkDAotN6lONBAAEEEEAAAQQQQAABBBBAAAEEEEAAAQTqEyBgUZ8TSyGAAAIIIIAAAgggEAoQsOBEQAABBBBAAAEEEEAAAQQQQAABBBBAAAEExqcAAYvx2e8cNQIIIIAAAggggMAwBQhYDBOOjyGAAAIIIIAAAggggAACCCCAAAIIIIAAAm0uQMCizTuQ3UcAAQQQQAABBBAYWwECFmPrzdYQQAABBBBAAAEEEEAAAQQQQAABBBBAAIFWESBg0So9wX4ggAACCCCAAAIItIUAAYu26CZ2EgEEEEAAAQQQQAABBBBAAAEEEEAAAQQQaLrAGgGL+B+Mm75FVogAAggggAACCCCAAAIIIIBACwh4nsdDBy3QD+wCAggggAACCCCAAAIIIIAAAggg0C4CBCzapafYTwQQQAABBBBAAAEEEEAAgaYKELBoKicrQwABBBBAAAEEEEAAAQQQQAABBDpegIBFx3cxB4gAAggggAACCCCAAAIIIJAkQMCC8wIBBBBAAAEEEEAAAQQQQAABBBBAoBEBAhaNaLEsAggggAACCCCAAAIIIIBAxwgQsOiYruRAEEAAAQQQQAABBBBAAAEEEEAAgTERYL7ZMWFmIwgggAACCCCAAAKdIuD7fuAeCwO0ndKzHMd4EoiuY67f8dTrHCsCCCCAAAIIIIAAAggggAACCCBQWeC5554L/+676aabVs1QELDgLEIAAQQQQAABBBBAoAEBAhYNYLEoAi0qQMCiRTuG3UIAAQQQQAABBBBAAAEEEEAAAQTWkgABi7UEz2YRQAABBBBAAAEEOluAgEVn9y9HNz4ECFiMj37mKBFAAAEEEEAAAQQQQAABBBBAAIF6BQhY1CvFcggggAACCCCAAAIINCBAwKIBLBZFoEUFCFi0aMewWwgggAACCCCAAAIIIIAAAggggMBaEiBgsZbg2SwCCCCAAAIIIIBAZwsQsOjs/uXoxocAAYvx0c8cJQIIIIAAAggggAACCCCAAAIIIFCvAAGLeqVYDgEEEEAAAQQQQACBBgQIWDSAxaIItKgAAYsW7Rh2CwEEEEAAAQQQQAABBBBAAAEEEFhLAgQs1hI8m0UAAQQQQAABBBDobAECFp3dvxzd+BAgYDE++pmjRAABBBBAAAEEEEAAAQQQQAABBOoVIGBRrxTLIYAAAggggAACCCDQgAABiwawWBSBFhUgYNGiHcNuIYAAAggggAACCCCAAAIIIIAAAmtJgIDFWoJnswgggAACCCCAAAKdLUDAorP7l6MbHwIELMZHP3OUCCCAAAIIIIAAAggggAACCCCAQL0CBCzqlWI5BBBAAAEEEEAAAQQaECBg0QAWiyLQogIELFq0Y9gtBBBAAAEEEEAAAQQQQAABBBBAYC0JELBYS/BsFgEEEEAAAQQQQKCzBQhYdHb/cnTjQ4CAxfjoZ44SAQQQQAABBBBAAAEEEEAAAQQQqFeAgEW9UiyHAAIIIIAAAggggEADAgQsGsBiUQRaVICARYt2DLuFAAIIIIAAAggggAACCCCAAAIIrCUBAhZrCZ7NIoAAAggggAACCHS2AAGLzu5fjm58CBCwGB/9zFEigAACCCCAAAIIIIAAAggggAAC9QoQsKhXiuUQQAABBBBAAAEEEGhAgIBFA1gsikCLChCwaNGOYbcQQAABBBBAAAEEEEAAAQQQQACBtSRAwGItwbNZBBBAAAEEEEAAgc4WIGDR2f3L0Y0PAQIW46OfOUoEEEAAAQQQQAABBBBAAAEEEECgXgECFvVKsRwCCCCAAAIIIIAAAg0IELBoAItFEWhRAQIWLdox7BYCCCCAAAIIIIAAAggggAACCCCwlgQIWKwleDaLAAIIIIAAAggg0NkCBCw6u385uvEhQMBifPQzR4kAAggggAACCCCAAAIIIIAAAgjUK0DAol4pY8zs2bPXXbVqldVH5s6d+6IxJmjg4yyKAAIIIIAAAgggMI4ECFiMo87mUDtWgIBFx3YtB4YAAggggAACCCCAAAIIIIAAAggMS2A0Axa2t7d32oQJE8JAQr2tUCj8x/f9Z+pdfiyX8zyvHKgIgmDnfD7/97HcPttCAAEEEEAAAQQQaB8BAhbt01fsaWsKTJ48eZ2enp4di8XiLtbadYIg+Ovg4OADCxcuXFZpjz3P89LpdFe1IwqCYMWCBQuerOeoCVjUo8QyCCCAAAIIIIAAAggggAACCCCAwPgRGLWAxaxZs9YbGBhY0SiltfbGXC53eKOfi5afGtTNOAAAIABJREFUOXPmlitXrtxGPwdBsLyvr2/BcNcV/5wbsNAf+fr6+v7WrHWzHgQQQAABBBBAAIHOEiBg0Vn9ydGMrYDneUcZY35QYavH+r5/VdJ77r/Zquzxnb7v71nPERGwqEeJZRBAAAEEEEAAAQQQQAABBBBAAIHxI9BxAQvP8z5hjPlGqQvv933/Dc3qTgIWzZJkPQgggAACCCCAQOcLELDo/D7mCEdHIJPJnGit/VZp7UuNMb81xkw0xrzDGLO+XrfWnpLL5S5y92C77bbbsLu7+7917NVvfN/Xumo2AhY1iVgAAQQQQAABBBBAAAEEEEAAAQQQGFcCoxawmD59+oTBwcErrLWpmOjRzs9zjTGPxN6/z/f97wy3FwhYDFeOzyGAAAIIIIAAAgg0U4CARTM1Wdd4EYiFJG4rFAqH9ff3D+j4M5nMZtbaPxhjZhljlvf09Gw6Z86cVZHNjBkzegcHB/v0s+/7DU1VWcmXgMV4OfM4TgQQQAABBBBAAAEEEEAAAQQQQKA+gVELWFTavOd5vv42pveTnjqKf27GjBmbFIvFTBAEmwdB8Lwx5gnf95+JL9fb2zsxlUrpaaYTrLVfLK1/frFY3F3/v3LlyhWLFi16Of652bNnr7t8+fKpQRBMDoLgiQ033LDP/SOduzwVLOo7qVgKAQQQQAABBBBAIBzgDWK/SzZlwBdbBDpZIJvNvisIgtt1jOl0ev358+cPmXYym83uHgTBnSWD3XzfvzfyyGazbwyCQD8v9H1/+2Y4EbBohiLrQAABBBBAAAEEEEAAAQQQQAABBDpHoGUDFlOmTNlo4sSJlxljjkjg/o0x5qO+7z8RvRcrI7vGR6y1Z+RyufOiN6ZNmza1WCxeYYzZI76wtfbWl19++UOLFi0aUl6WgEXnnPgcCQIIIIAAAgggMNoCBCxGW5j1d6JANps9JQiCDxtjHvV9/73xY9xhhx02XrlypYL3Cux/MJfLXRMt43neu40xP1v9b7w7fd/fsxk+BCyaocg6EEAAAQQQQAABBBBAAAEEEEAAgc4RaMmAhapKrFixQvPsvqkK9cJ0Ov2m+fPn/1PLNBKw8DxP672nRjfmC4XCbv39/c86f7ArP4VYLBZ36evr+1vnnAocCQIIIIAAAggggEAzBQhYNFOTdSHw/wQymcxrrLUP6/+ttW/K5XJ/iWyy2exxQRBcvnqxG3zfP3L77bfforu7e1qxWCy++OKLDyxevPilRh0JWDQqxvIIIIAAAggggAACCCCAAAIIIIBAZwu0YsDCep73C2PMvg79DcaYu621rys9zRS9NbcUsljhed4sa63Kxe5tjNm/tMBSa+2X9f/FYvGv+Xz+fv1/Npu9IwiC/UrLLFw9/chl1tqlxhg95fShaOWrpwz5QD6fvy76mQoWnX0xcHQIIIAAAggggEAzBQhYNFOTdSHw/wQ8z7vJGHPI6qkhl/b09Gw7Z86cF51/r33BGPMlY8ylxpguTR/pugVB8LtUKnV6LpebU68nAYt6pVgOAQQQQAABBBBAAAEEEEAAAQQQGB8CLRewmDFjRu/g4GBfxG+t/Vwulzvf+aOZ/pimP6qFzVq7Ty6XU7WLsHme9wljzDdKP97v+/4b3K7cY489upYsWfJNa226WCwGQRB8ta+vb2G0jBu+CILg2nw+f4yzbipYjI/rgqNEAAEEEEAAAQRGLEDAYsSErACBIQLZbPaYIAiuLr14tO/717sLeJ6nKSaHhCqstfODIJjuLLfcGLOb7/tz6+ElYFGPEssggAACCCCAAAIIIIAAAggggAAC40eg5QIW/x979wInd1Xf//9zZia7GDYI2kICEdZk9nu+u0nwD1sQ/igGEYQCXim1Kv1hvQJqBYraUkRp6wXEe5XailS8VQr+Fa0FL42XKKCLPxN293u+u8StpgbSAtrNQvYy3/PPSb/f9OswuzOz+93dubzm8VAy8z3fc3meM7nsvOccz/P+UCn1xXgKdhtjjhSRUtkPzr4nIs92rymlrgqC4N3J9WoBi2pT6/v+6621N8blvm+MOTVVNwGLaoBcRwABBBBAAAEEENgvQMCChYBAdgKe552ulPpW/G/ALwdB8FIROfDvM/e67/u3W2tf7H5trX3nqlWrrnc7XPT19XXMzMy4+/8l7tF4V1fX6vTuF7P1lIBFdnNITQgggAACCCCAAAIIIIAAAggggEArCDRiwOL9Sqkr4h+cfT0IgnPLoX3f/4C19rL49TuMMS9IytQasNi4ceMR09PTZ1hrXVDj6UqpQ0XkqSKyLtUeAYtWWOWMAQEEEEAAAQQQWAYBAhbLgE6TLSlQLBaPy+fz98WD29rV1XVmpXCE53lup8JnKqU+EwTBx8oxtNbP3RfU/3b8b83NQRB8txoYAYtqQlxHAAEEEEAAAQQQQAABBBBAAAEE2kug4QIWWuuvish58TR8whjzW1u8utc9z7tcKXVDXGaHMWZ9Mm21BCw8z3uR+6GbiKyqMt0ELNrr/cBoEUAAAQQQQACBzAQIWGRGSUVtLKC11iLy4/jfbmGhUDh5cHDwkfmSaK0fEpHDReQvjTF/U60eAhbVhLiOAAIIIIAAAggggAACCCCAAAIItJdAwwUsfN9/j7X27fE03GmMOat8SjzP+4hS6k3x67cZY85PylQLWHied5RSameqTvdrt5XsdqXUb0TkwlTAg4BFe70fGC0CCCCAAAIIIJCZAAGLzCipqE0FisXi2nw+/yMRWSsiO0ul0smjo6Ppf8vVLZMK9H/eGPOKahUQsKgmxHUEEEAAAQQQQAABBBBAAAEEEECgvQQaMWDxEmvtbfE07M7n808bGhqaSk+L1vpeETkhfu1txpjrkutlAYttxphnpO/1ff8ia+2nk/onJyePGRsb25uUKQt4ELBor/cDo0UAAQQQQAABBDITIGCRGSUVtaGA7/tPtdb+0G1g6MIVSqlnB0EwNhtFd3f3QZ2dnbe761EUvWtkZOSeSmW11r90gQ2l1JVBELy/Gi0Bi2pCXEcAAQQQQAABBBBAAAEEEEAAAQTaS6DhAhZa66eLyI7UNLzPGJPsaCG+77/OWvt3qeunG2O+kzz3PO9SpdSB83YLhcJT01vIaq2vFpFr4/I71qxZo7ds2TLjnse7W9wdf0PKvUTAor3eD4wWAQQQQAABBBDITICARWaUVNRmAlprd5Tjt+NQ/e5CoXDK4ODgaDUGrfUPROQUpdQXgyD4o/Lyvu8/x1q7xb1urX1mGIYuuD/ng4BFNSGuI4AAAggggAACCCCAAAIIIIAAAu0l0HABCxFRWuvPisjLU1PhfgjmfljmdqM4L/X61omJiTN27tz5ePKa7/vnWmvvSJXZ7Y4AiaLotpGRkW+lf6gWl/mGiNyhlDrCWntxfB5vcjsBi/Z6PzBaBBBAAAEEEEAgMwECFplRUlEbCbidKDo6Or6qlDrDDVsp9dIoioYqESil/tsY86vUvwXTYfyPdHZ2/sW2bdsmNm/eXHjwwQefa629My67u6ura+3AwMB0NVoCFtWEuI4AAggggAACCCCAAAIIIIAAAgi0l0AjBiykr6+vI4qi262158wxHds6Ojo2b9++/dF0mU2bNh02NTUVlAUl3A/mrgqC4N3x1rFbReT4Weq+L3WNgEV7vR8YLQIIIIAAAgggkJkAAYvMKKmojQTKjnysNvKvGGNelBRau3btkw4++OCbReSC5DWl1JC1ti9VUc07Yrh7CFhUmwKuI4AAAggggAACCCCAAAIIIIAAAu0lsOQBC9/3B5MfcFlrLw/D8IOVyPv7+1fu2bPnb0Tk1SLitog98LDW/mOhUHj70NDQg5Xu1Vofq5R6p7X2eal732qMud6Vj7ec/biIvDB13e10kRxFclNc7xZjzGlJG1prm/zaWntiGIY/bq/lwmgRQAABBBBAAAEEahUgYFGrFOUQ+F8BrfWVInJdLSZKqS8HQfCSsrI53/ff4f6tWf7vSBFxO1hcbIz5eS31uzIELGqVohwCCCCAAAIIIIAAAggggAACCCDQHgJLHrCol7VYLHaKyNpCoXCotXZPV1fXLwcGBh6rtZ7+/v4VDz/8cH5sbGxvhXvyWuujrbVTYRjuEpGo1nophwACCCCAAAIIIIDAXAIELFgfCCyrgOrt7S1GUdRnrd21atWqn9ZyJEh5jwlYLOsc0jgCCCCAAAIIIIAAAggggAACCCDQcAINH7BoODE6hAACCCCAAAIIIIBADQIELGpAoggCDS5AwKLBJ4juIYAAAggggAACCCCAAAIIIIAAAkssQMBiicFpDgEEEEAAAQQQQKA9BAhYtMc8M8rWFiBg0drzy+gQQAABBBBAAAEEEEAAAQQQQACBegUIWNQrRnkEEEAAAQQQQAABBGoQIGBRAxJFEGhwAQIWDT5BdA8BBBBAAAEEEEAAAQQQQAABBBBYYgECFksMTnMIIIAAAggggAAC7SFAwKI95plRtrYAAYvWnl9GhwACCCCAAAIIIIAAAggggAACCNQrQMCiXjHKI4AAAggggAACCCBQgwABixqQKIJAgwsQsGjwCaJ7CCCAAAIIIIAAAggggAACCCCAwBILELBYYnCaQwABBBBAAAEEEGgPAQIW7THPjLK1BQhYtPb8MjoEEEAAAQQQQAABBBBAAAEEEECgXgECFvWKUR4BBBBAAAEEEEAAgRoECFjUgEQRBBpcgIBFg08Q3UMAAQQQQAABBBBAAAEEEEAAAQSWWICAxRKD0xwCCCCAAAIIIIBAewgQsGiPeWaUrS1AwKK155fRIYAAAggggAACCCCAAAIIIIAAAvUKELCoV4zyCCCAAAIIIIAAAgjUIEDAogYkiiDQ4AIELBp8gugeAggggAACCCCAAAIIIIAAAgggsMQCBCyWGJzmEEAAAQQQQAABBNpDgIBFe8wzo2xtAQIWrT2/jA4BBBBAAAEEEEAAAQQQQAABBBCoV4CARb1ilEcAAQQQQAABBBBAoAYBAhY1IFEEgQYXIGDR4BNE9xBAAAEEEEAAAQQQQAABBBBAAIElFiBgscTgNIcAAggggAACCCDQHgIELNpjnhllawsQsGjt+WV0CCCAAAIIIIAAAggggAACCCCAQL0CBCzqFaM8AggggAACCCCAAAI1CBCwqAGJIgg0uAABiwafILqHAAIIIIAAAggggAACCCCAAAIILLHAvAMW5T8wXuJ+0xwCCCCAAAIIIIAAAggggAACSyKgtVZL0hCNIIAAAggggAACCCCAAAIIIIAAAgg0tAABi4aeHjqHAAIIIIAAAggggAACCCCw3AIELJZ7BmgfAQQQQAABBBBAAAEEEEAAAQQQaAyBeQcsGqP79AIBBBBAAAEEEEAAgcYU4IiQxpwXeoVAPQIcEVKPFmURQAABBBBAAAEEEEAAAQQQQACB1hcgYNH6c8wIEUAAAQQQQAABBJZBgIDFMqDTJAIZCxCwyBiU6hBAAAEEEEAAAQQQQAABBBBAAIEmFyBg0eQTSPcRQAABBBBAAAEEGlOAgEVjzgu9QqAeAQIW9WhRFgEEEEAAAQQQQAABBBBAAAEEEGh9AQIWrT/HjBABBBBAAAEEEEBgGQQIWCwDOk0ikLEAAYuMQakOAQQQQAABBBBAAAEEEEAAAQQQaHIBAhZNPoF0HwEEEEAAAQQQQKAxBQhYNOa80CsE6hEgYFGPFmURQAABBBBAAAEEEEAAAQQQQACB1hcgYNH6c8wIEUAAAQQQQAABBJZBgIDFMqDTJAIZCxCwyBiU6hBAAAEEEEAAAQQQQAABBBBAAIEmFyBg0eQTSPcRQAABBBBAAAEEGlOAgEVjzgu9QqAeAQIW9WhRFgEEEEAAAQQQQAABBBBAAAEEEGh9AQIWrT/HjBABBBBAAAEEEEBgGQQIWCwDOk0ikLEAAYuMQakOAQQQQAABBBBAAAEEEEAAAQQQaHIBAhZNPoF0HwEEEEAAAQQQQKAxBQhYNOa80CsE6hEgYFGPFmURQAABBBBAAAEEEEAAAQQQQACB1hcgYNH6c8wIEUAAAQQQQAABBJZBgIDFMqDTJAIZCxCwyBiU6hBAAAEEEEAAAQQQQAABBBBAAIEmFyBg0eQTSPcRQAABBBBAAAEEGlOAgEVjzgu9QqAeAQIW9WhRFgEEEEAAAQQQQAABBBBAAAEEEGh9AQIWrT/HjBABBBBAAAEEEEBgGQQIWCwDOk0ikLEAAYuMQakOAQQQQAABBBBAAAEEEEAAAQQQaHIBAhZNPoF0HwEEEEAAAQQQQKAxBQhYNOa80CsE6hEgYFGPFmURQAABBBBAAAEEEEAAAQQQQACB1hcgYNH6c8wIEUAAAQQQQAABBJZBgIDFMqDTJAIZCxCwyBiU6hBAAAEEEEAAAQQQQAABBBBAAIEmFyBg0eQTSPcRQAABBBBAAAEEGlOAgEVjzgu9QqAeAQIW9WhRFgEEEEAAAQQQQAABBBBAAAEEEGh9AQIWrT/HjBABBESkv79/5fT0tHIY27Zte0xELDAIIIAAAggspgABi8XUpW4ElkaAgMXSONMKAggggAACCCCAAAIIIIAAAggg0CwCSxmwyPf09HhKqd9TSm2y1o5ZawcOOeSQ7QMDA+7DzjkfnucdpZQ601pbdAVzudyItfYuY8yvqt0rIgtqu1gsrs3lcq7f/dbaCWvtTzo6Ou4bHBx8pIa26ypSLBaPy+VyJ4vIOqXUr0XEdHV1fb0WI9eQ1vrIfD5/mPv11NTU3tHR0Qfq6sAchd0H1OPj4xtzudz/E0VRVy6Xu99ae3+NcyDr1q178kEHHbQ2aWJoaGhYRKKs+kc9mQqoYrHY29HRsT+QUOujVCo9Wut6qLXOrMpprQ8EKqy1zwzD8N6s6qYeBBBAAAEEKgkQsGBdILC0AuvXr39aZ2fnIbW0OjU19ZvR0dGd1coSsKgmxHUEEEAAAQQQQAABBBBAAAEEEECgvQSWJGDhQgP5fP5fReTwSrxKqecHQXDXLPQ5rfU7ReTqWe59VxAE75rt2+gLadv3/adaa78iIqfM0vZfBEHw3iy+Cb9p06bDpqenP2WtfXGFtnYrpS4OguD2OZZnzvf9S621H0mVCY0xOoMl7ep+h7X2mlnq2ioiF8z1wXpPT8/zcrnc59JrIJ/PrxkaGnowg/5RRcYCxx577MGTk5N76q1WKfXFIAj+qN77kvIbN248Ympq6hj33Fo7PjIy4kI4mTzSAYsoik4aGRm5J5OKqQQBBBBAAIFZBAhYsDQQWFoBrbX7N+fza2z1K8aYF1UrS8CimhDXEUAAAQQQQAABBBBAAAEEEEAAgfYSWPSARfzB+jersSqlXhUEwc3l5TzP+4hS6k1z3a+U+mAQBJeXl1lI277vd1tr7xQRb662rbU3h2H4qmrjm+t6X19f18zMzDeVUidVGef5QRDcVsHoKBH5tFLqjLJrCw5YdHd3H3TQQQd9fpbgR7q53fl8/rlDQ0OD6RfXrl37pK6urr+x1l5W3m8CFgtZNYt773IFLLTWfyoiH4pH92NjzIlZjZSARVaS1IMAAgggUKsAAYtapSiHQDYCWuuvish5NdZGwKJGKIohgAACCCCAAAIIIIAAAggggAACCPyvwGIHLJTW2u1QkOxcscNae1UURaZQKDwj3m1hVdyd3caYNekjI3zf32yt/beku0qpIWvtB6y1KpfLXWat7UuuWWtPDcPw+6nJXVDbWutbROSVqbbfbK39kYgcue/L9W4nh+NTbfnGGDPfheV53juUUm4Xjv0PpdTXoyj6lIhsUkr9mYgkRuMdHR3HbN++/dGkrO/7L7XWfjpVJt2NBQcstNbni8itqUpvstb+cy6Xc8e6nJbe1aI86KK1PlYp9YX0PKU7R8Bivitm8e/r6+vrmJmZ+aRSKlfW2oWp59tE5Gdl139kjPnEfHtIwGK+ctyHAAIIINCIAgQsGnFW6FM7C7hdA6empv7d/dvJ/TsrCIIbqnmwg0U1Ia4jgAACCCCAAAIIIIAAAggggAAC7SWwqAEL9wF7+gNYa+3aMAz/IyH2PO/ZSqnvJc9LpdLxo6OjP02ea61duGJz/Hx83xEaT9uxY8dv3PPu7u5DOzs7f5EKFnzHGHN66t6FtJ3f90GvCzHsDzYopV4QBMEdSd3pH8zF198UBMHH5rN0isXiIfl8fv+Y4sedxpizUuNwx5P8IHX9L40xf5O6/ksRWRs/Tz7wTj4EX3DAwvf925PdK5RSHwiC4Ir0OH3f/3Nr7bvj13YaY56WXPd9/5PW2tcm87cvaPNxEXlbcp2AxXxWzPLeo7V2QaL9u7rU8kPpDRs2PCWKIs9a+7vW2kdE5OeVjpIpFouduVzOvd8uScJGLlAVRdFzXFtTU1N7xsbG9paPvr+/f+X4+HiP+73FWvvzJz/5ySMDAwPTlZTYwWJ51w6tI4AAAu0oQMCiHWedMTeygO/777LWvkNExvP5/JFDQ0NVj8QjYNHIM0rfEEAAAQQQQAABBBBAAAEEEEAAgaUXWNSAhe/7b4p3qdi/K0MQBOeWDdEFGWaS16y1fxyGods5QjZv3lzYtWvXgQ9KrbWXh2H4wfT9nuddrpQ68K0jY0xBREquzELaLhaLx+Xz+fuStrq6ujrKP7T1ff9r1tpz4jI3GWNePZ/p6+3tPSmKIrczRvI4wRjzk3Rd6bbKHbXWScDiulKp9I5cLndpyiSrgMVBrj+FQuHNg4ODo+m+lR3DMm6MOTTZhSQVsPhGLpd7dalUWquUuje5n4DFfFbM8t5Ta8AiDkD9rYi8vEKP3dE7Fxtjfp5c8zzPrdtZQ0pKqauCIEiCPNLb29sTRdEnUwGsA80opb68d+/ePxkbG/t1um0CFsu7dmgdAQQQaEcBAhbtOOuMuVEFisXi7+bz+d2uf9baK8Iw/EAtfSVgUYsSZRBAAAEEEEAAAQQQQAABBBBAAIH2EVjUgEV3d7f7YP6gVatWqY6OjsmBgQF3rMSBx/r16w8vFAoPJS/kcrmTh4eH73bPN2zYUJyZmRlJFT+q/JvvnucdpZTamZSJomj9yMjIDvd8IW27cMfY2FiX6/fExESU7JqR7rvv+4Opoy/eaoy5fj7Lxvf9i+IjPtztFQMRnuf9oVLqi3H97iiVI5K2tNZud4urjTH7j1IpC50sOGBRbUxa6/cmu1K4D7aDIHhJco/neR8REROGodu5wnqedwIBi2qijX29loCF21Viz549d4mI231ltseOfD5/ytDQkDtCyK3bmgMWWuvyXV0qtRGWSqVnjY6O/mfqvWJTv1ecNDIyck9ja9M7BBBAAIFmFyBg0ewzSP9bScD3/fdYa9/udq/o7Oxcs23btolaxkfAohYlyiCAAAIIIIAAAggggAACCCCAAALtI7CoAYtqjOVHSHR1da1OQhg9PT3n5HK5ryV1pHenSF6rsMvF74dh+I1q7brrc7Vd7X6t9StE5LNJOWvtiWEY/rjafZWupwMKIvJbx4Mk5X3f/3+ttVuT56VS6cmjo6P/HT9XLryQXFvMgIXz3rlz5+rOzs5cqVRaF0XRS5RSb4rbHs/lcpuHh4cP7PzhTpEo6xsBi/kskga6p4aAhdJaf11Ezk51+/Mi8n2l1PGpI2Pc5W1xyGKPO05IKfWcfev8DBE5L753t1Lqr92voyi6O3mPle0es2Pf8SN/q5Ry30Y8TUT+JPW+/D9hGH4mec4OFg20kOgKAggg0CYCBCzaZKIZZsML9PX1rS6VSrvijl62b9e9D9XaaQIWtUpRDgEEEEAAAQQQQAABBBBAAAEEEGgPgWULWGit3Qehn0oxX2iMORBa8H3/z6y1ya4QO4wx6ytNSeqIDLfV6xOOEZnlnjnbnmvq4+NDvisiq+JynzLGvGa+y0Vr/S+pD6NvNMZcXF7Xhg0bjp6Zmfn31OtPOEYkubaYAQvP856hlPq/Fcb6DaXU1UEQDMzlwA4W810ljXNftYBF+c4zSqm/CILgPckItNZ/ICJfSp4rpZ4fBIHb7WL/Q2v9pyKS/MD7x8aYE9Ojj0NVH1VK5aMostba9yW71rhy6fCFtfYfwzC8KFU3O1g0zlKiJwgggEBbCBCwaItpZpBNIOD7/g3u34pu94p0qL+WrhOwqEWJMggggAACCCCAAAIIIIAAAggggED7CCxLwEJrff6+U0BuTZjjoyVemt7twPf9D1hrL4vLPOGD1tSHpveKyAnuubX2hjAM/2yu6aul7dnu9zzPj4+4SMIVO5RSJwZB8HDqnrzv+6+21uYq1aOUsqtXr/7Uli1bZtz19FEj1tp3h2F4Vfl9WmvXXrJjhSilXhAEwR2V6q8WsNBa/56IuP9VfERR9NPZjk6YI2Bxn7X2piOPPPLvknHN0jd2sGjy31uqBSwqHGdz5L4jbErpYWutvyciz3avKaWuCoLg3an385wBi2p8vu+/3lp7Y1zu+8aYU1N1E7CoBsh1BBBAAIFMBQhYZMpJZQjMS6DsWMm3GGM+XE9FBCzq0aIsAggggAACCCCAAAIIIIAAAggg0PoCSx6w8H3/XGvtgXCAtfabU1NTLxgbG9ub5vY871Kl1Mfi13YbY46oNB1a64dE5PD42iX7yn1itmmrte1K98ffzHfHdCRtueMLnhkEwVi6fHd390GdnZ2PV1k6hxhjxl0ZrfU/i4gLl7iAyM1hGL6q/N4KuwIcGwTB9kptVAtYeJ53jVLqnbP1z1r7njAM/6LS9U2bNh02OTn50lwul7PWHrfviIeXpDzch+VfDoLAvVbxwQ4Wzf8bSg0Bi/crpa5wI1VKfT0IgnPLR10WnrrDGPOCpEy1HSySchs3bjxienr6DGutC2o8XSl1qIg8VUTWpdojYNH8S44RIIAAAk0tQMCiqaePzreIgOd5H4mPNdzd1dX19ORIylqHR8CiVinKIYAAAggggAACCCCAAAIIIIAAAu0hsKR3fK+hAAAgAElEQVQBC8/zzt6344M7EiN5bM3n82cNDQ3tKef2PO90pdS3kte7uro6BgYGptPl+vr6Okql0mTqtecaY/6t0tTV03b5/Vrrp4vI3akwgQtHuGM6THnZegMWvu+/c985B9fE9XzHGHN6eZ2+7z/HWrsleX1iYmLlzp07K4Y4FjNgUcFV+b7/f6y1n06uRVF07sjIyNdnmQN2sGjy31eqBSy01l8VkfPiYX7CGHNJhff25UqpG+LXf+v4n1oCFp7nvUgp9ZnUMT2zqRKwaPL1RvcRQACBZhcgYNHsM0j/m12gt7f3mCiK9gfiXcgiCIIkwF/z0AhY1ExFQQQQQAABBBBAAAEEEEAAAQQQQKAtBJYsYOH7/pnW2jtTqlunp6fP2bFjx28qSReLxbX5fP6XybVSqVQcHR19IF22fGcHETnKGPOr8vrqbTt9f/xDuR+IyNr49d2lUum00dHRoVlWSF5r/Xb3M7zZVlBXV9f7krCI53kvU0p9IanbGLM6fVSKe933/YtSIYbf+kC6vI1qAYuenp5Tc7ncgWMTKvRx62whldnGo7V287TfRyl1bRAESWDkt25hB4vm/z2lWsDC9/33WGvd+nePO40xZ1VYo8m3CN2l24wx7sig/Y9qAYuyLZ7dLTtF5HZr7XallPu95MJUwIOARfMvOUaAAAIINLUAAYumnj463wICWmu3u+EbRGReu1c4AgIWLbAQGAICCCCAAAIIIIAAAggggAACCCCQocCSBCy01s8VkW+n+v2dfD7/wko7V6TKKK11lHp+vTHmremx+75/g7X28vi1cWPMIeU282x7fzVxyOO7qWMHdovIqZV2rpjvnBSLxePy+fx9yf1KqfOCIPhaqr6c1vrHInJ8/NqtxpgLZmuvWsCinn6W7SIy3tnZuWbbtm0TZXW4/v062U1AKfXBIAiSOfmtogQs6tFvzLI1BCxeYq29Le797nw+/7ShoaGp9Gi01ve6HWDi195mjLkuuV4WsNhmjHlG2Xs+HTbaPTk5eUz6eKGygAcBi8ZcRvQKAQQQaBsBAhZtM9UMtAEFisXi+nw+P+q6Zq19YxiGfzufbhKwmI8a9yCAAAIIIIAAAggggAACCCCAAAKtK7DoAYt4xwQXUkgeW7q6us6p5exbrfWXROQPkhtzuVz38PDwv7vnvu93W2t/nqr3S8aYP0xP1QLbPlJEvp8KV0gURetHRkZ2ZLkc4iNF3JgOd/UqpYZWr179jC1btsy451prN37nsP+hlHpDEAR/N1sfsgxYFIvFznw+/5+poxiuX7NmzV8kfXN98DzvUqXUga125+ofAYssV87y1FUtYBEfp5N+j7zPGJPsaOHet6+z1qbX7+nGmO8koylfT4VC4amDg4OPJNe11leLyLXx8x1r1qzRyXqMd7dwR/kku80QsFieZUKrCCCAAAKxAAELlgICyyfged6nlVIXud0rJiYmumc7YrFaDwlYVBPiOgIIIIAAAggggAACCCCAAAIIINBeAosasPB9f5O1dlsZqdvSf1clZqXUN9LHSxSLxb58Pj+YLmut/di+Yyhy+35QdklZHX56Z4mFtN3f379yz549P3X5gbI23E4SlR6PVDoKodal5Hnea5RSf58q74zcDwQ3WmtfnH49Piplcra6swxYuDY8z/uoUuqNqfbcfN6plHo8iqKTlVJnpK6Nd3R0HLN9+/ZHK/WPgEWtK6Jxy1ULWLgMkNb6syLy8tQotoiIO2bH7UZxXur1rRMTE2ekf9jt+/651to7UmXcrjG3R1F028jIyLd833+OtdbVlzy+ISJ3KKWOsNZenASV4osELBp3KdEzBBBAoC0ECFi0xTQzyAYU0FprEQlc16y1l4Zh+PH5dpOAxXzluA8BBBBAAAEEEEAAAQQQQAABBBBoTYFFDViU775QjVAp9cUgCP4oXa7CN94rVfMaY8yn0hcW0rbW2u1e8R/V+pu6XvF4kjruz2utPy0iF85xz7hS6rQgCAbmqjfrgMW6deuevC808emyoEelLuy01p4bhuHPZusfAYs6VkSDFq0hYCF9fX0dURTdbq09Z45hbOvo6NhcHsbZtGnTYVNTU+6H4ft3dEkeSqmrgiB4d7zjy9bUkTnlTbjjdpLjdAhYNOg6olsIIIBAuwgQsGiXmWacjSagtb5FRF650N0r3LgIWDTa7NIfBBBAAAEEEEAAAQQQQAABBBBAYHkFFjtgcb6I3FrHED9vjHlFeXmttavnfenjOuIyO5RSVwZBcPss98yr7d7e3jVRFP2qjn4vNGAhmzdvLuzatcsdpfDW1JEcSRe2WGvfMld4ISmotX6LiHzQPXfHjQRBsKGOccxWNKe1vkJEXlNhVw+3w8Bd1trLwjD8r7na8n2/f18I4ydJmZmZmSMeeOABdz+PJhHwfX/QWtvnumutvTwMw/1rrfwR7wLzNyLy6vL1bK39x0Kh8PahoaEHK92rtT5WKfVOa+3zUve+1RhzvSuvtV61L4DhvoX4wtR1t46So0huiuvdYow5LfXesMmvrbUnhmE42440TTIbdBMBBBBAoNEFCFg0+gzRv1YU6OnpWZfL5R6Ix3aJMeYTCxknAYuF6HEvAggggAACCCCAAAIIIIAAAggg0HoCixqwyJKrv79/xZ49e56hlDomrnfs4IMP3jYwMDCdZTvLXZfbMaJQKGwSkbW5XG4iiqKRMAz3b2/bCI++vr4ua607uqQzl8uZ2T4kb4S+0oflFygWi51uLRcKhUOttXu6urp+OTAw8FitPXPv+4cffjg/Nja2t8I9bueXo621U2EYumOHolrrpRwCCCCAAAJLIUDAYimUaQOBxRUgYLG4vtSOAAIIIIAAAggggAACCCCAAAIINJtA0wQsmg2W/iKAAAIIIIAAAgi0twABi/aef0bfGgIELFpjHhkFAggggAACCCCAAAIIIIAAAgggkJUAAYusJKkHAQQQQAABBBBAAIGUAAELlgMCzS9AwKL555ARIIAAAggggAACCCCAAAIIIIAAAlkKELDIUpO6EEAAAQQQQAABBBCIBQhYsBQQaH4BAhbNP4eMAAEEEEAAAQQQQAABBBBAAAEEEMhSgIBFlprUhQACCCCAAAIIIIBALEDAgqWAQPMLELBo/jlkBAgggAACCCCAAAIIIIAAAggggECWAgQsstSkLgQQQAABBBBAAAEEYgECFiwFBJpfgIBF888hI0AAAQQQQAABBBBAAAEEEEAAAQSyFCBgkaUmdSGAAAIIIIAAAgggEAsQsGApIND8AgQsmn8OGQECCCCAAAIIIIAAAggggAACCCCQpQABiyw1qQsBBBBAAAEEEEAAgViAgAVLAYHmFyBg0fxzyAgQQAABBBBAAAEEEEAAAQQQQACBLAUIWGSpSV0IIIAAAggggAACCMQCBCxYCgg0vwABi+afQ0aAAAIIIIAAAggggAACCCCAAAIIZClAwCJLTepCAAEEEEAAAQQQQCAWIGDBUkCg+QUIWDT/HDICBBBAAAEEEEAAAQQQQAABBBBAIEsBAhZZalIXAggggAACCCCAAAKxAAELlgICzS9AwKL555ARIIAAAggggAACCCCAAAIIIIAAAlkKELDIUpO6EEAAAQQQQAABBBCIBQhYsBQQaH4BAhbNP4eMAAEEEEAAAQQQQAABBBBAAAEEEMhSgIBFlprUhQACCCCAAAIIIIBALEDAgqWAQPMLELBo/jlkBAgggAACCCCAAAIIIIAAAggggECWAgQsstSkLgQQQAABBBBAAAEEYgECFiwFBJpfgIBF888hI0AAAQQQQAABBBBAAAEEEEAAAQSyFJh3wKL8B8ZZdoq6EEAAAQQQQAABBBBAAAEEEGgUAa21apS+0A8EEEAAAQQQQAABBBBAAAEEEEAAgeUTIGCxfPa0jAACCCCAAAIIIIAAAggg0AQCBCyaYJLoIgIIIIAAAggggAACCCCAAAIIILAEAvMOWCxB32gCAQQQQAABBBBAAIGmFeCIkKadOjqOwAEBjghhMSCAAAIIIIAAAggggAACCCCAAAIIpAUIWLAeEEAAAQQQQAABBBBYBAECFouASpUILLEAAYslBqc5BBBAAAEEEEAAAQQQQAABBBBAoMEFCFg0+ATRPQQQQAABBBBAAIHmFCBg0ZzzRq8RSAsQsGA9IIAAAggggAACCCCAAAIIIIAAAgikBQhYsB4QQAABBBBAAAEEEFgEAQIWi4BKlQgssQABiyUGpzkEEEAAAQQQQAABBBBAAAEEEECgwQUIWDT4BNE9BBBAAAEEEEAAgeYUIGDRnPNGrxFICxCwYD0ggAACCCCAAAIIIIAAAggggAACCKQFCFiwHhBAAAEEEEAAAQQQWAQBAhaLgEqVCCyxAAGLJQanOQQQQAABBBBAAAEEEEAAAQQQQKDBBQhYNPgE0T0EEEAAAQQQQACB5hQgYNGc80avEUgLELBgPSCAAAIIIIAAAggggAACCCCAAAIIpAUIWLAeEEAAAQQQQAABBBBYBAECFouASpUILLEAAYslBqc5BBBAAAEEEEAAAQQQQAABBBBAoMEFCFg0+ATRPQQQQAABBBBAAIHmFCBg0ZzzRq8RSAsQsGA9IIAAAggggAACCCCAAAIIIIAAAgikBQhYsB4QQAABBBBAAAEEEFgEAQIWi4BKlQgssQABiyUGpzkEEEAAAQQQQAABBBBAAAEEEECgwQUIWDT4BNE9BBBAAAEEEEAAgeYUIGDRnPNGrxFICxCwYD0ggAACCCCAAAIIIIAAAggggAACCKQFCFiwHhBAAAEEEEAAAQQQWAQBAhaLgEqVCCyxAAGLJQanOQQQQAABBBBAAAEEEEAAAQQQQKDBBQhYNPgE0T0EEEAAAQQQQACB5hQgYNGc80avEUgLELBgPSCAAAIIIIAAAggggAACCCCAAAIIpAUIWLAeEEAAAQQQQAABBBBYBAECFouASpUILLEAAYslBqc5BBBAAAEEEEAAAQQQQAABBBBAoMEFCFg0+ATRPQQQQAABBBBAAIHmFCBg0ZzzRq8RSAsQsGA9IIAAAggggAACCCCAAAIIIIAAAgikBQhYsB4QQKClBfr7+1dOT08rN8ht27Y9JiK2pQfM4BBAAAEEGkaAgEXDTAUdQWDeAgQs5k3HjQgggAACCCCAAAIIIIAAAggggEBLChCwaMlpZVAIIJAIaK0PBCqstc8Mw/DeVtbZsGFD0Vrb6caYy+X+6/7773+olcfL2CoL9PT09K5YsSJXj89jjz32wNjY2N567lnMshs3bjxienp6JG7jBGOMWcz2qBuBxRAgYLEYqtSJQG0CGzZseMrMzMyJ1toTc7nco1EU3VMoFP7v0NDQVG01/E8pAhb1aFEWAQQQQAABBBBAAAEEEEAAAQQQaH0BAhatP8eMEIFMBYaHhzf39vZuybTSRawsHbCIouikkZGRexaxuWWrWmu9SkQ+KCKvTjphrf1oGIZvXrZO0fCyCHR3dx/U2dn5eL2N53K5k4eHh++u9z5Xvru7+9AVK1as6ejomB4cHBydTx3l93ied5RSaqd7PZfLbRoeHr4/i3qpA4GlFCBgsZTatIXAAYG853kfUkq9sYLJuIg81xjzk1q9CFjUKkU5BBBAAAEEEEAAAQQQQAABBBBAoD0ECFi0xzwzSgQyE4h/yPwurfU7M6t0EStqh4BFb2/vSVEUfU5E1qUpCVgs4sJq4KqLxWJnPp+veyeKhezworV+g4h8QkTGjTGHZMFDwCILRepYbgECFss9A7TfbgL9/f0r9uzZc7OIvNyNXSk1JCJboyjqVkqdkXhEUfSckZGR79XiQ8CiFiXKIIAAAggggAACCCCAAAIIIIAAAu0jQMCifeaakSKQiUDyQ2al1BbP807LpNJFrKSVAxabN28u/OpXv7pKKVUx7ELAYhEXVhNW7fv+Ddbay621d4dheHKWQyBgkaUmdbWSAAGLVppNxtIMAr7vn2mtvTPu69uNMe9L+u153glKqW+LiNv16w5jzAtqGRMBi1qUKIMAAggggAACCCCAAAIIIIAAAgi0jwABi/aZa0aKQCYC6Q+LljFkke/t7V03MzPjFQqFXStXrgwGBgYeqzTASgEL9w3/QqHQH0VRbtWqVffNdm+6vg0bNhw9NTXVnc/nD4mi6KGZmZlwx44dv6nUZn9//8rx8fGV7tqqVasei+vP9/T0HJPP548WkYf37t07MjY2VvcuA+n2ent7j4miaCz12pdE5OkicoJ7jYBFJku+ZSqZT8Bi06ZNhz3++OOPjY6OTs4FUW/Awn3DeHJy8in333//Q7PVyw4WLbP02nogBCzaevoZ/DIIaK2vE5Er3a4VxphnlXdBa331vpOnrnWvT0xMrNy5c2fVI7UIWCzDRNIkAggggAACCCCAAAIIIIAAAggg0MACBCwaeHLoGgKNKFD+YZHrYxRFp/X29m5Z7P52d3cf1NnZ6b6J+OYKbW0tFAoXDQ4OjqavpQMWuVzu5FKp9HKl1JvSZZRSX96zZ88rKv2QXWt9rIh8XEROqdDmjRMTE5eX3+d53kdT5367YxM+p5T6pLW2L1XHuLX2jWEYfma+bumAhbX2j8MwvMX3/a9Za89xdRKwmK9sa95Xa8CiWCwel8/nXyYiZ4mIW//u4b4N/J1CofAPg4ODjyRCWutXiMgH9r1HDk+p7Xa/Vkp9JQiC1yWvux1Xdu3adZmIvDJV77iI/DCKovePjIx8Ky1PwKI112G7jYqARbvNOONdbgGt9T+LyHFKqY8HQXBDeX983z/XWnuHe71QKPSU/72xUv8JWCz3rNI+AggggAACCCCAAAIIIIAAAggg0FgCBCwaaz7oDQINL1ApYOE6vdghizhcsVVEjp8LKZfL9Q8PD9+XlEkHLOIPiZ9f6X4XsgiC4Hw3lOR6b29vTxRFA/FW0hWbdfetXr36gi1btswkBdIBC3ccg1LqpNn6rJR6fhAEd81n4t2uGvt28fi8iFxojPm5q4OAxXwk2+OeWgIWcaDoZ3OIbO3q6joz2fXF87zXuvDQLOVvM8a495T09fV1zMzMfHeu94ILXhhjPpd6Hx2llNrpnudyuU3Dw8P3t8dMMcpWEiBg0UqzyVhaQcDzvEuVUh9zY1mzZs2K9N/fZhsfAYtWmHnGgAACCCCAAAIIIIAAAggggAACCGQnQMAiO0tqQqAtBGYLWMSDf5fW+p2LAeF53tlKqX9J1f2afD5/d6lUcrtC/LWIeO6atfbmMAxflZQrC1i4l3eIyK1KKc9a++KyvvrGGONe27hx4xHT09M/EZG1cRm348TNIhIopc4UkRem7v2UMeY1yfOyHSz2v6yUGnIBjyiKNiqlzkjdOx5/ePzv83RTbtjJvQQs5qnYBrdVC1jEO6LcG+9GsUMp9VYR2WKt/R1r7e8rpdxOFe7xFWPMS0Wk5Hal2L1790EzMzOvU0rt/6ZwPp93Z9vL1NTUdHK0iOd5Fyqlkt1aro6i6PPT09OPdHZ2nrrvlr+Kd7TYbYw5IvU+ImDRBuuy1YdIwKLVZ5jxNZNAX19fV6lUGo7/buf+LHtRLf0nYFGLEmUQQAABBBBAAAEEEEAAAQQQQACB9hEgYNE+c81IEchEoErAwrWxKCELrfWHU0eDfNYYc2EyoJ6ent58Pv9a99xau8cY847kWjpg4UIOK1aseNb27dsfddd7e3tPiqLoRymYC4wxt7rnvu9fZK39dHLNWntqGIbfT9X7tyJySereQ4wx7rgDKQ9YlIc+PM97mVLqC6m63VEhrr4FPwhYLJiwZSuoFrDwPO8apVQSkHqGMWZbGsP3/Suste93r5VKpeNHR0d/mno/vEFE3HE448aYQ8oRtdbnuyNy3I4Uxpibyup9ibX2Nvdaert2jghp2aXYVgMjYNFW081gG1tAeZ53k1LqovI/b6p1m4BFNSGuI4AAAggggAACCCCAAAIIIIAAAu0lQMCiveab0SKwYIEaAhaujcxDFlrrt4nIe5MBWGtfu2LFitsHBwcfmWtQ6YCFtbY8yJDTWv86OQLEWntNGIbXuvq01h8XkYvjum8xxvxxup3+/v6Ve/bsmUj159lhGP7APS8LWIx3dXWtTo5USMprrb8qIue550qpvw+C4HULnhyOCMmCsGXrqBaw0Fq7HWLO3reDxceNMZdWgFBa69/E75dXp4MSWus5AxZzoa5du/ZJBx988GPxe+HAkTkELFp2KbbVwAhYtNV0M9gGFvA87x1KqXfFf9a8OQiCj9baXQIWtUpRDgEEEEAAAQQQQAABBBBAAAEEEGgPAQIW7THPjBKBzASWMWBxrIj8rHwgbleKKIq+ve+YjduCIHABh1K6TDpgEUXRc0ZGRr6Xvu77/u2po0L+2hhztbuutXZtuTbdrhhXhGGYHI9w4Hbf9wfdt/LjFy4zxnzI/bosYLHFGHNaeb993/9za+2749fvM8b0ZzFJ7GCRhWJr1lElYJEOT1xsjLmxkoLW+tsi8ly3W4Ux5sAOLjUGLFSxWFyXz+ePj99bT1VKHRZFkfvv/mNzlFIELFpz+bXtqAhYtO3UM/AGEtBav3rfsSD/EP+d7oYwDP+snu4RsKhHi7IIIIAAAggggAACCCCAAAIIIIBA6wsQsGj9OWaECGQqUEPAIvPdK5IB9PT0PC+Xy7ljO9bOMqhQRM4yxvw8uV4WsDhpZGTknvS9vu9/wVr7svi1dMDCJuXc9TAM/6m8zXSYIf2t/3TAovx4kFS/Xikit8TPKx6rMJ+JI2AxH7X2uGeugMX69esPLxQKD8USZxtj/rWSitbaHQPidqv4vjHm1NR6nnMHi2KxeEihULg5FWaqiE7Aoj3WYjuNkoBFO802Y21EAd/3DxxDtS8D+/n4iLmonr4SsKhHi7IIIIAAAggggAACCCCAAAIIIIBA6wsQsGj9OWaECGQqUCVgsWjhitQg8r7vP9tae5aIPEtETikbYGiM0akPfg8EJaIoqidgca+InBDX8zZjzHXlkFpr4zascK+njx8p28FiqzHG9fO3Hlprt1PG/uNIROTHxpgTs5goAhZZKLZmHVV2sDhwXI47ficMw/3f9K2wbl3w4vnlx9pU28EidfyIq/JOpdTXoih6IJ/PP2qtnbDWbnMXCFi05tpr51ERsGjn2Wfsyy3ged7pSqlvxf24I5/Pnz80NDRVb78IWNQrRnkEEEAAAQQQQAABBBBAAAEEEECgtQUIWLT2/DI6BDIXmCNgsRThiieMR2t9pLX2GqXU65KLSqmnB0Ew5p4vYAeLD4vIm+M6bzXGXJBuvLu7+9DOzs5Hk9dyudzJw8PDd7vnZQEL6ejoeMr27dsPlI37lRy14J7eaIy5OIvJImCRhWJr1lElYOHW7V3xUR0fMsZcVklBa+12uThcKfX6IAg+mZSZK2Cxbt26J69YseLXrqx7r4ZhmASL9t9eLBbX5/P5UfdrAhatufbaeVQELNp59hn7cgp4nneCUsqFZd3jzsnJyReNjY3tnU+fCFjMR417EEAAAQQQQAABBBBAAAEEEEAAgdYVIGDRunPLyBBYFIFKAYsoik7r7e3dsigNxpVqrT8jIofGT28xxtyatNfX17ehVCrdnzwvlUpPGx0d3emeLyBgkT7CQ6IoOndkZOTrSRta68+JyMuT511dXQcPDAw85p6XByxE5A5jzItFpBRfv1Qp9bGU1yXGGHf0woIfBCwWTNiyFVQLWGit/0pE/lJExguFwvGDg4P7Qw+pNZ8+w/7EMAx/nFzzff/11tob3fOZmZkjHnjggd2pa5uSHSpE5IXGmK+W1ftWEXmfe42ARcsuv7YdGAGLtp16Br6MAj09Pb25XM4dCbdKRLZ0dXWdk/wdbT7dImAxHzXuQQABBBBAAAEEEEAAAQQQQAABBFpXgIBF684tI0NgUQTSHxYppbZ4nnfaojRUVqnneR9RSr0pedl9E95a+8NcLudCF+64jWPdtX1Hh9wdhuHJSbn5Biw2bdp02NTUlNuRYv8RIPHjVqXUA9ba01PHh7hL1xlj3pYUqhCwcJfGRcTtENBrre1L1ek+iD7OGPOrLBwJWGSh2Jp11BCwcEfruNDEKqXUUKlUuthae0+hUOja99+zReSWWMZ9WHXmwMDAdCLl+/551tr9wQlr7XuiKPrg6OjowyISbd68ubBr165HXL3u/amUusgYY9x7bHJy8lVKqRuSeghYtObaa+dREbBo59ln7Msh0Nvbe0wURW7nisPjP5OeKSL/XakvU1NTD46Nje3fYWmuBwGLakJcRwABBBBAAAEEEEAAAQQQQAABBNpLgIBFe803o0VgwQKpD4uW9EiQDRs2FGdmZrYmPzCfZSDj1toXh2Hojt/Y/5hvwMLd63neUUopF7JYOwfcTcaY17oPkpMyZQGLb4jIs+JvUT6hGqXUKUEQ/HDBExNXQMAiK8nWq6dawCJ+v5wiIj+YbfQueLF3795Tyj+Q6uvrW10qlXaV3XfgaB2ttTsWxAWhkocLHLlvFrtAxjfjo0nYwaL1ll3bj4iARdsvAQCWWEBr/f+53ZJqbPYtxhh3JNycDwIW1YS4jgACCCCAAAIIIIAAAggggAACCLSXAAGL9ppvRovAggXiHzIvabgi6XS8q8T1InJBWWDBfVj7nUKh8ObBwcFfpAeZDlhYa3/rWANXLn3Uh1Lq2iAIrknfHwc73isiLy3Dc21+aM2aNddu2bJlJn2tLGDxiSiKPqqU+nDyIXJcdse+b1Reboz5yoInJVWB1trtInBe/NKHjDGXZVk/dTWvgNb6OhG5UkS2GmNc6Kfiw/f950RR5HaWcLtW7P8GsIhsc2fYW2s/HIbhf1S60fO805VSro3j3XWl1JeDIHhJUlZr/RYR+fN0SMpa+7HOzs53TE1NuR0u3FE8Z4yMjHwrfm8eKSL72yqVShtGR0eHmlefnjaTCJAAACAASURBVLerAAGLdp15xr1cAlrrfxER9+dX1YfbGS0IgvSRbRXvIWBRlZICCCCAAAIIIIAAAggggAACCCCAQFsJELBoq+lmsAgsXGB4eHhzb2/vloXXtLAaPM/7nSiKniYi/zk6OrpzYbVVv1trvSqKorWFQuFJ1tpHVq9evbM8WJHUUh6wMMZc4q719fV1icgxIvLw0NDQQ+7L+8k9vu8/NZfLrajekyeWGBoaenA+93EPAlUElO/7bqv1PWEY/letWu5IkF/84hcHH3300ROV3iNa6yMLhcLKiYmJnWNjY3trrZdyCDSjAAGLZpw1+ozAbwsQsGBFIIAAAggggAACCCCAAAIIIIAAAgikBQhYsB4QQACBjAVmC1jM1YzW+pdVjiKZ9XZr7e/W8wF4xsOlOgQQQACBWQQIWLA0EGh+AQIWzT+HjAABBBBAAAEEEEAAAQQQQAABBBDIUoCARZaa1IUAAgiICAELlgECCCCAgBMgYME6QKD5BQhYNP8cMgIEEEAAAQQQQAABBBBAAAEEEEAgSwECFllqUhcCCCAwz4CF53l3KaXc8SF1PyYnJ585Njb267pv5AYEEEAAgUUVIGCxqLxUjsCSCBCwWBJmGkEAAQQQQAABBBBAAAEEEEAAAQSaRoCARdNMFR1FAIFmEejp6VmXz+dXu/6WSqUHR0ZGdjRL3+knAggggEB2AgQssrOkJgSWS4CAxXLJ0y4CCCCAAAIIIIAAAggggAACCCDQmAIELBpzXugVAggggAACCCCAQJMLELBo8gmk+wikjvrRWitAEEAAAQQQQAABBBBAAAEEEEAAAQQQIGDBGkAAAQQQQAABBBBAYBEECFgsAipVIrDEAuxgscTgNIcAAggggAACCCCAAAIIIIAAAgg0uAABiwafILqHAAIIIIAAAggg0JwCBCyac97oNQJpAQIWrAcEEEAAAQQQQAABBBBAAAEEEEAAgbQAAQvWAwIIIIAAAggggAACiyBAwGIRUKkSgSUWIGCxxOA0hwACCCCAAAIIIIAAAggggAACCDS4AAGLBp8guocAAggggAACCCDQnAIELJpz3ug1AmkBAhasBwQQQAABBBBAAAEEEEAAAQQQQACBtAABC9YDAggggAACCCCAAAKLIEDAYhFQqRKBJRYgYLHE4DSHAAIIIIAAAggggAACCCCAAAIINLgAAYsGnyC6hwACCCCAAAIIINCcAgQsmnPe6DUCaQECFqwHBBBAAAEEEEAAAQQQQAABBBBAAIG0AAEL1gMCCCCAAAIIIIAAAosgQMBiEVCpEoElFiBgscTgNIcAAggggAACCCCAAAIIIIAAAgg0uAABiwafILqHAAIIIIAAAggg0JwCBCyac97oNQJpAQIWrAcEEEAAAQQQQAABBBBAAAEEEEAAgbTAvAMW5T8whhUBBBBAAAEEEEAAAQQQQACBVhTQWqtWHBdjQgABBBBAAAEEEEAAAQQQQAABBBCoT4CARX1elEYAAQQQQAABBBBAAAEEEGgzAQIWbTbhDBcBBBBAAAEEEEAAAQQQQAABBBCYRWDeAQtEEUAAAQQQQAABBBBAYHYBjghhdSDQ/AIcEdL8c8gIEEAAAQQQQAABBBBAAAEEEEAAgSwFCFhkqUldCCCAAAIIIIAAAgjEAgQsWAoINL8AAYvmn0NGgAACCCCAAAIIIIAAAggggAACCGQpQMAiS03qQgABBBBAAAEEEEAgFiBgwVJAoPkFCFg0/xwyAgQQQAABBBBAAAEEEEAAAQQQQCBLAQIWWWpSFwIIIIAAAggggAACsQABC5YCAs0vQMCi+eeQESCAAAIIIIAAAggggAACCCCAAAJZChCwyFKTuhBAAAEEEEAAAQQQiAUIWLAUEGh+AQIWzT+HjAABBBBAAAEEEEAAAQQQQAABBBDIUoCARZaa1IUAAggggAACCCCAQCxAwIKlgEDzCxCwaP45ZAQIIIAAAggggAACCCCAAAIIIIBAlgIELLLUpC4EEEAAAQQQQAABBGIBAhYsBQSaX4CARfPPISNAAAEEEEAAAQQQQAABBBBAAAEEshQgYJGlJnUhgAACCCCAAAIIIBALELBgKSDQ/AIELJp/DhkBAggggAACCCCAAAIIIIAAAgggkKUAAYssNakLAQQQQAABBBBAAIFYgIAFSwGB5hcgYNH8c8gIEEAAAQQQQAABBBBAAAEEEEAAgSwFCFhkqUldCCCAAAIIIIAAAgjEAgQsWAoINL8AAYvmn0NGgAACCCCAAAIIIIAAAggggAACCGQpQMAiS03qQgABBBBAAAEEEEAgFiBgwVJAoPkFCFg0/xwyAgQQQAABBBBAAAEEEEAAAQQQQCBLAQIWWWpSFwIIIIAAAggggAACsQABC5YCAs0vQMCi+eeQESCAAAIIIIAAAggggAACCCCAAAJZChCwyFKTuhBAAAEEEEAAAQQQiAUIWLAUEGh+AQIWzT+HjAABBBBAAAEEEEAAAQQQQAABBBDIUoCARZaa1IUAAggggAACCCCAQCxAwIKlgEDzCxCwaP45ZAQIIIAAAggggAACCCCAAAIIIIBAlgIELLLUpC4EEEAAAQQQQAABBGIBAhYsBQSaX4CARfPPISNAAAEEEEAAAQQQQAABBBBAAAEEshQgYJGlJnUhgEDDCfT396+cnp5WrmPbtm17TERsw3WSDiGAAAIItKQAAYuWnFYG1WYCBCzabMIZLgIIIIAAAggggAACCCCAAAIIIFBFgIAFSwQBBFpaQGt9IFBhrX1mGIb3tvSA/2dw+Z6eHk8p9XtKqU3W2jFr7cAhhxyyfWBgwIVMeLS4QE9PT++KFSty9Qzzsccee2BsbGxvPfcsZtmNGzceMT09PRK3cYIxxixme9SNwGIIELBYDFXqRKA2gXXr1j25UCgcm8vl+kql0k5r7c9GR0d31nb3/5YiYFGvGOURQAABBBBAAAEEEEAAAQQQQACB1hYgYNHa88voEGh7gXTAIoqik0ZGRu5pZZRisXhcPp//VxE5vNI4lVLPD4LgrlY2aPexdXd3H9TZ2fl4vQ65XO7k4eHhu+u9z5Xv7u4+dMWKFWs6OjqmBwcHR+dTR/k9nucdpZTa/0FYLpfbNDw8fH8W9VIHAkspQMBiKbVpC4H/EXDBio6Ojk/vC1S8uILJjlwu98J6/kwhYMHKQgABBBBAAAEEEEAAAQQQQAABBBBICxCwYD0ggEBLC7RTwKKnp+d5uVzum9UmVCn1qiAIbq5WjuvNKVAsFjvz+XzdO1EsZIcXrfUbROQTIjJujDkkCzkCFlkoUsdyCxCwWO4ZoP12E9BaHyki/yYiXjz2HSKyXUSeLiLHJh7W2meHYfiDWnwIWNSiRBkEEEAAAQQQQAABBBBAAAEEEECgfQQIWLTPXDNSBNpSoI0CFmrfh9wPpnau2GGtvSqKIlMoFJ5hrf2IiKyKF8FuY8waEYnaclG06aB937/BWnu5tfbuMAxPzpKBgEWWmtTVSgIELFppNhlLMwhora8Vkatd4E9ELjTGfCXpt+d5Jyilvh3/fehLxpg/rGVMBCxqUaIMAggggAACCCCAAAIIIIAAAggg0D4CBCzaZ64ZKQKtJJDv7e1dNzMz4xUKhV0rV64MBgYGHqs0wEoBC/cN/0Kh0B9FUW7VqlX3zXZvur4NGzYcPTU11Z3P5w+JouihmZmZcMeOHb+p1GZ/f//K8fHxle7aqlWrHovrz/f09ByTz+ePFpGH9+7dOzI2Nlb3LgOzTaLW2n0r82fJdWvt2jAM/yP1ocKzlVLfS56XSqXjR0dHf9pKi4KxzC0wn4DFpk2bDnv88ccfGx0dnZyr9noDFv39/SsmJyefcv/99z80W73sYMGKbgUBAhatMIuMoYkEclrrfxeRtUqpq4IgeHd53z3Pe4dS6l3u9Xw+3zk0NDRVbXwELKoJcR0BBBBAAAEEEEAAAQQQQAABBBBoLwECFu0134wWgboFrr/++s25XM5ttTzvRxRFp1155ZVb5l1BfGN3d/dBnZ2d7xORN1eoa2uhULhocHBwNH0tHbDI5XInl0qllyul3pQuo5T68p49e16xc+fOx8vrjYMLHxeRUyq0eePExMTl5fd5nvdRpdQb4/Lu2ITPKaU+aa3tS9Uxbq19YxiGn1moi7vf9/03xbtUiFLq60EQnFtWb15rPZO8Zq394zAMb8mibepoDoFaAxbFYvG4fD7/MhE5K7Wd+p0i8p1CofAPg4ODjyQj1lq/QkQ+kNo5xV3a7f5PKfWVIAhel5TdvHlzYdeuXZeJyCtT9bpvGP8wiqL3j4yMfCstScCiOdYVvZxbgIAFKwSBpRM49thjD56cnHR/zrjHTcaYX1X4e92fiMin3OsTExMrK/3dr/weAhZLN4e0hAACCCCAAAIIIIAAAggggAACCDSDAAGLZpgl+ojAMgvccMMN7xSRa+bZjXddccUV7v4FPeJwxVYROX6uinK5XP/w8PB9SZl0wEJE3IfEz690vwtZBEFwfvrYjN7e3p4oigZSR2s84VZ33+rVqy/YsmXLgfBCOmDhjmNQSp00W5+VUs8PguCuBeGIiPMRkYNWrVqlOjo6Jst35Vi/fv3hhULhwG4BLmwyPDx890Lb5f7mEaglYFG+E0qF0W3t6uo6M1lfnue91oWHZlG4zRjj3lPS19fXMTMz89253gsueGGM+VxSFwGL5llb9HR2AQIWrA4EGkrAHaf2ZRF5oYhsMcacVkvvCFjUokQZBBBAAAEEEEAAAQQQQAABBBBAoH0ECFi0z1wzUgQWJPCBD3zg36y1m+usJJNwhWvT87yzlVL/kmr/Nfl8/u5SqeR2hfhrV8Rds9beHIbhq5JyZQEL9/IOEblVKeVZa19cNh7fGGPcaxs3bjxienr6J26b6biM23HiZhEJlFJnxj+cT27/lDHmNcmTsh0s9r+slBpyAY8oijYqpc5ItTuey+U2DQ8Puy2tF+3h+77bQeO1yVi6urpW13I0yqJ1iIqXXKBawKK3t/eYKIrujXej2KGUeqv7AMpa+zvW2t9XSrmdKtzjK8aYl+47477kdqXYvXv3QTMzM69TSt3gLubz+VXuv1NTU9PJ0SKe512olEp2a7k6iqLPT09PP9LZ2Xnqvlv+Kt7RYrcx5ojU++gopdRO9zx+j9y/5Gg0iMACBQhYLBCQ2xHIRkBt2LBh/fT09FVKqYviP1dqDpoSsMhmEqgFAQQQQAABBBBAAAEEEEAAAQQQaBUBAhatMpOMA4ElEKgnZKGU2nL55ZfX9M3AWrqutf5w6miQzxpjLkzu6+np6c3n8/vDA9baPcaYdyTX0gELF3JYsWLFs7Zv3/6ou97b23tSFEU/SrV/gTHmVvfc9/2LrLWfTq5Za08Nw/D7qXr/dt9RCJek7j3EGOOOO3BhkPQRIU8IfXie9zKl1BdSdbujQlx9i/LQWh/YDjtu4EJjzGcXpTEqbViBagELz/OuUUolu808wxizLT0Y3/evsNa+371WKpWOHx0d/Wnq/fAGEXHH4YwbYw4pR9Ban++OyHGBCWPMTWX1vsRae5t7rVAo9CTH/LCDRcMuJTpWhwABizqwKIpAxgKe592slDpbRJ6U2o3szlwu9856dvEiYJHxxFAdAggggAACCCCAAAIIIIAAAggg0OQCBCyafALpPgJLLXDDDTfYWtq84oorVC3lai2jtX7bviMw3puUd7sxrFix4vbBwcFH5qojHbCw1pYHGXJa618nP3S31l4ThuG1rj6t9cdF5OK47luMMX+cbqe/v3/lnj17JlL9eXYYhj9wz8sCFuOVdovQWn9VRM5z5ZVSfx8EwetqtainnPtg2+3YkdwTH4Xidh+oaR7raYuyjS1QLWChtXY7xLgPoj5ujLm0wmjc1uq/id8vr04HJbTWcwYs5pJZu3btkw4++ODH4vfCgSNzCFg09nqid7UJELCozYlSCCyGgNb6X8uPhnNh2yiKPnXkkUd+JH2821ztE7BYjNmhTgQQQAABBBBAAAEEEEAAAQQQQKB5BQhYNO/c0XMElkXg+uuv35zL5f5trsajKDrtyiuv3JJlB7XWx4rIz8rrjH9Q/u19RwjcFgSBCziU0mXSAYsoip4zMjLyvfR13/dvTx0V8tfGmKvdda21a8u16XaguCIMw+R4hAO3+74/6L6VH79wmTHmQ+7XZQGLimd8+77/59bad8f33meM6c/Sy9Xl+/651to7knqttd+cmpp6wdjY2N6s26K+xheoErBIhycuNsbcWGlEWutvi8hz3W4VxpgDO7jUGLBQxWJxXT6fPz5+bz1VKXVYFEXuv/uPzVFKEbBo/KVED+sQIGBRBxZFEchYoLe3d00ulzt4cnKyo1AorLXWXiAir46bccddvaiWJglY1KJEGQQQQAABBBBAAAEEEEAAAQQQQKB9BAhYtM9cM1IEMhOoErJ41xVXXJEcM5BZm66inp6e5+VyOXdsx9pZKg5F5CxjzM+T62UBi5NGRkbuSd/r+/4XrLUvi19LBywO7PDgrodh+E/lbfq+/zVr7Tnx6we+9Z8OWFhrbw7D8FXl92qtXykit8SvVzxWYSF4nuedrZRyOxIkj635fP6soaGhPQupl3ubV2CugMX69esPLxQKD8WjO9sY4771+4SH1todA+J2q/i+MebU1Ptszh0sisXiIYVC4eZUmKkiJAGL5l1f9LyyAAELVgYCjSXged5r3M5hrldRFJ07MjLy9Wo9JGBRTYjrCCCAAAIIIIAAAggggAACCCCAQHsJELBor/lmtAhkJnDDDTe4EMU1ZRUuWrgi1U7e9/1nW2vPEpFnicgpZX0IjTE6eW0BAYt7ReSEuJ63GWOuK8fTWhu3YYV7PX38SNkOFluNMa6fv/XQWrudMvYfRyIiPzbGnJjV5Pi+f6a19s5UfVunp6fP2bFjhzvegUebClTZweLAcTnu+J0wDP+hElOy3Xr5sTbVdrBIHT/iqr1TKfW1KIoeyOfzj1prJ6y129wFAhZtujhbeNgELFp4chla0wporf87Pu7qQLB2rsEQsGjaqabjCCCAAAIIIIAAAggggAACCCCAwKIIELBYFFYqRaA9BMpCFksRrngCrNb6SGvtNUqp1yUXlVJPD4JgzD1fQMDiwyLy5rjOW40xblvpA4/u7u5DOzs7H01eyOVyJw8PD9/tnpcFLKSjo+Mp27dvP1A27ldy1IJ7eqMx5uIsVo3W2h3f4OpOHt/J5/MvZOeKLHSbu44qAQu3bu+Kj+r4kDHmskqj1Vq7XS4OV0q9PgiCTyZl5gpYrFu37skrVqz4tSvr3qthGCbBov23F4vF9fl8ftT9moBFc68xev9EAQIWrAoElk6gp6fnHKXUnyqlfm2McbuTRbP8WfZLtxuaUuqDQRBcXq2HBCyqCXEdAQQQQAABBBBAAAEEEEAAAQQQaC8BAhbtNd+MFoHMBeKQhSzWsSBJh7XWnxGRQ+Pntxhjbk2u9fX1bSiVSvcnz0ul0tNGR0d3uucLCFikj/B4wjbSWuvPicjLkza7uroOHhgYeMw9Lw9YiMgdxpgXi0gpvn6pUupjqcm4xBjjjl5Y0KOnp+fUXC733VQlW7q6us5J+rWgyrm56QWqBSy01n8lIn8pIuOFQuH4wcHB/aGH1HvQnVu/f2cLa+2JYRj+OLnm+/7rrbU3uuczMzNHPPDAA7tT1zYlO1SIyAuNMV8tq/etIvI+9xoBi6ZfZgygTICABUsCgaUT0Fq7HcyC8j9P0j0oFovH5fP5++LXZj0SK30PAYulm0NaQgABBBBAAAEEEEAAAQQQQAABBJpBgIBFM8wSfUQAARda+IhS6k0JhfsmvLX2h7lczoUu3HEbx7pr+44OuTsMw5OTcvMNWGzatOmwqakptyPF/iNA4setSqkHrLWnp44PcZeuM8a8LSlUIWDhLo2LiNshoNda25eq030QfZwx5lcLmWbf99MfYidVuZDJrkr1KqW+EQRB+REvC+kC9za4QA0BC/fBlAtNrFJKDZVKpYuttfcUCoWuff89W0RuiYfogjtnDgwMTCdD9n3/PGvt/uCEtfY9URR9cHR09GH37eHNmzcXdu3a9Yir170/lVIXGWOMe49NTk6+Sil1Q1IPAYsGX0R0r24BAhZ1k3EDAgsS8DzvR0qpk1wlSqlXWWtvM8aMd3d3H9TR0XHavr+H/VN8PIhMTEys3Llz5+PVGiRgUU2I6wgggAACCCCAAAIIIIAAAggggEB7CRCwaK/5ZrQINK3Ahg0bijMzM1vd8QRzDGLcWvviMAwPHJEx34CFa8PzvKOUUi5ksXaONm8yxrw2vQ11WcDiGyLyrOSH+eX1KKVOCYLghwudGK31H4jIl2qtRyn1xSAI/qjW8pRrfoFqAQs3Qq31KSLyg9lG64IXe/fuPWVsbGz/kR/Jo6+vb3WpVCoP8xw4Wkdr7Y4FcUGo5OECR6vcE2vtN+OjSdjBovmXGSMoEyBgwZJAYGkF4l0sXOAvHZB1Ydb03x/Hoyg6Y2Rk5J5aekfAohYlyiCAAAIIIIAAAggggAACCCCAAALtI0DAon3mmpEi0PQC8a4S14vIBWWBBfdh7XcKhcKbBwcHf5EeaDpgUX6sgSuXPupDKXVt+a4OcbDjvSLy0jJA1+aH1qxZc+2WLVtm0tfKAhafiKLoo0qpDycfIsdld4jI5caYr2QxMVrr80XkwLEpNdT5eWPMK2ooR5EWEdBaXyciV4rIVmOMC/1UfPi+/5woitzOEm7XiuQDqW0icqe19sNhGP5HpRs9zztdKeXaON5dV0p9OQiClyRltdZvEZE/T3/IZa39WGdn5zumpqbcDhfuKB73gde34vfmkSKyv61SqbRhdHR0qEWmgmG0kQABizaabIbaMALFYvGQfD7vjp46tywk64IWWwqFwpXlf1+cq/MELBpmaukIAggggAACCCCAAAIIIIAAAggg0BACBCwaYhroBAII1Cvged7vRFH0NBH5z9HRUXcUxqI+tNaroihaWygUnmStfWT16tU7y4MVSQfKAxbGmEvctb6+vi4ROUZEHh4aGnrIfXk/ucf3/afmcrkV8xnE0NDQg/O5j3sQqCKgfN8/JoqiPWEY/letWu5IkF/84hcHH3300ROV3iNa6yMLhcLKiYmJnWNjY3trrZdyCDSjAAGLZpw1+txKAhs2bHjK9PT0+lKp9OADDzzwy/mMjYDFfNS4BwEEEEAAAQQQQAABBBBAAAEEEGhdAQIWrTu3jAwBBJZJYLaAxVzd0Vq7H/rPdRTJrLdba3+3ng/Al4mFZhFAAIG2EyBg0XZTzoBbUICARQtOKkNCAAEEEEAAAQQQQAABBBBAAAEEFiBAwGIBeNyKAAIIVBIgYMG6QAABBBBwAgQsWAcINL8AAYvmn0NGgAACCCCAAAIIIIAAAggggAACCGQpQMAiS03qQgABBERkPgELz/PuUkq540PqfkxOTj5zbGzs13XfyA0IIIAAAosqQMBiUXmpHIElESBgsSTMNIIAAggggAACCCCAAAIIIIAAAgg0jQABi6aZKjqKAALNItDT07Mun8+vdv11Z36PjIzsaJa+008EEEAAgewECFhkZ0lNCCyXAAGL5ZKnXQQQQAABBBBAAAEEEEAAAQQQQKAxBQhYNOa80CsEEEAAAQQQQACBJhcgYNHkE0j3EUgd9aO1VoAggAACCPz/7N17YFxVvff/tWYmDZS0pVwbWkpOm8zaSVt4JCpwEGhByl1FLj8VeuRa5foIqHBE7ni4CIqCIgiKoqD2ICIXDzeNIpVbUFrSzNpJayyFQik3k5Y2yez1dOXM7m8zTpJJumcye+Y9/8jM3ntdXt81D+dhPlkLAQQQQAABBBBAAAEEEEAAAQIWrAEEEEAAAQQQQAABBAogQMCiAKg0iUCRBdjBosjgdIcAAggggAACCCCAAAIIIIAAAgiUuAABixIvEMNDAAEEEEAAAQQQiKYAAYto1o1RIxAUIGDBekAAAQQQQAABBBBAAAEEEEAAAQQQCAoQsGA9IIAAAggggAACCCBQAAECFgVApUkEiixAwKLI4HSHAAIIIIAAAggggAACCCCAAAIIlLgAAYsSLxDDQwABBBBAAAEEEIimAAGLaNaNUSMQFCBgwXpAAAEEEEAAAQQQQAABBBBAAAEEEAgKELBgPSCAAAIIIIAAAgggUAABAhYFQKVJBIosQMCiyOB0hwACCCCAAAIIIIAAAggggAACCJS4AAGLEi8Qw0MAAQQQQAABBBCIpgABi2jWjVEjEBQgYMF6QAABBBBAAAEEEEAAAQQQQAABBBAIChCwYD0ggAACCCCAAAIIIFAAAQIWBUClSQSKLEDAosjgdIcAAggggAACCCCAAAIIIIAAAgiUuAABixIvEMNDAAEEEEAAAQQQiKYAAYto1o1RIxAUIGDBekAAAQQQQAABBBBAAAEEEEAAAQQQCAoQsGA9IIAAAgggECGBnp6eeyI0XIaKQEULvPrqq58NAkydOvXeigZh8ghEUMD/HiulZASHz5ARQAABBBBAAAEEEEAAAQQQQAABBEIWIGARMijNIYAAAgggUEgBAhaF1KVtBMIVIGARrietITAWAgQsxkKdPhFAAAEEEEAAAQQQQAABBBBAAIHSFSBgUbq1YWQIIIAAAgj8iwABCxYFAtERIGARnVoxUgQGEyBgwdpAAAEEEEAAAQQQQAABBBBAAAEEEAgKELBgPSCAAAIIIBAhAQIWESoWQ614AQIWFb8EACgDAQIWZVBEpoAAAggggAACCCCAAAIIIIAAAgiEKEDAIkRMmkIAAQQQQKDQAgQsCi1M+wiEJ0DAIjxLWkJgrAQIWIyVPP0igAACCCCAAAIIIIAAAggggAACpSlAwKI068KoEEAAAQQQyClAwIKFgUB0BAhYRKdWjBSBwQQIWLA2EEAAAQQQ0GSMRQAAIABJREFUQAABBBBAAAEEEEAAAQSCAgQsWA8IIIAAAghESICARYSKxVArXoCARcUvAQDKQICARRkUkSkggAACCCCAAAIIIIAAAggggAACIQoQsAgRk6YQQAABBBAotAABi0IL0z4C4QkQsAjPkpYQGCsBAhZjJU+/CCCAAAIIIIAAAggggAACCCCAQGkKELAozbowKgQQQAABBHIKELBgYSAQHQECFtGpFSNFYDABAhasDQQQQAABBBBAAAEEEEAAAQQQQACBoAABC9YDAggggAACERIgYBGhYjHUihcgYFHxSwCAMhAgYFEGRWQKCCCAAAIIIIAAAggggAACCCCAQIgCBCxCxKQpBBBAAAEECi1AwKLQwrSPQHgCBCzCs6QlBMZKgIDFWMnTLwIIIIAAAggggAACCCCAAAIIIFCaAgQsSrMujAoBBBBAAIGcAgQsWBgIREeAgEV0asVIERhMgIAFawMBBBBAAAEEEEAAAQQQQAABBBBAIChAwIL1gAACCCCAQIQECFhEqFgMteIFCFhU/BIAoAwECFiUQRGZAgIIIIAAAggggAACCCCAAAIIIBCiAAGLEDFpCgEEEEAAgUILELAotDDtIxCeAAGL8CxpCYGxEiBgMVby9IsAAggggAACCCCAAAIIIIAAAgiUpgABi9KsC6NCAAEEEEAgpwABCxYGAtERIGARnVoxUgQGEyBgwdpAAAEEEEAAAQQQQAABBBBAAAEEEAgKELBgPSCAAAIIIBAhAQIWESoWQ614AQIWFb8EACgDAQIWZVBEpoAAAggggAACCCCAAAIIIIAAAgiEKEDAIkRMmkIAAQQQQKDQAgQsCi1M+wiEJ0DAIjxLWkJgrAQIWIyVPP0igAACCCCAAAIIIIAAAggggAACpSlAwKI068KoEEAAAQQQyClAwIKFgUB0BAhYRKdWjBSBwQQIWLA2EEAAAQQQQAABBBBAAAEEEEAAAQSCAgQsWA8IIIAAAghESCDfgMWSJUsmep4nt95667RSqiffKWqta95///14IpEws2fP/me+z3EfAgj8qwABC1YFAmMn8M4771S9+OKL23Z0dEyqra1dv8cee7xbV1e3fqQjImAxUjHuRwABBBBAAAEEEEAAAQQQQAABBMpbgIBFedeX2SGAAAIIlJlAvgGL5ubmz/pTf+KJJ/578uTJfcNRrF27dtwhhxxyjH9fa2vrvcM9w3UEEBhcgIAFqwOB4gvYYMUFF1yw90svvTQtu/ftt9++59prr/3Tnnvu+V6+IyNgka8U9yGAAAIIIIAAAggggAACCCCAAAKVIUDAojLqzCwRQAABBMpEYDQBi9NPP/35L37xi53DEdx8883Ju+66q9m/j4DFcGJcR2BoAQIWrBAEiiuwcuXKrRcuXHjQm2++OcH2bAMVU6dOfXft2rU1r7322rb+aG644YYn5s2b92Y+oyNgkY8S9yCAAAIIIIAAAggggAACCCCAAAKVI0DAonJqzUwRQAABBMpAYDQBiylTprz38MMPPzLc9A899NAj/R+l7L0ELIYT4zoCQwsQsGCFIFBcgSuvvHLOAw88MLu6urrv/PPPf+bYY49d5Y9g8eLF2335y18+cOPGjVXNzc0rb7/99qfzGR0Bi3yUuAcBBBBAAAEEEEAAAQQQQAABBBCoHAECFpVTa2aKAAIIIFAGAqMJWNhpD/fXuo8++ujOX/va1w4MEg0XsHjjjTeqJ0yY0D9+/Ph0vrTpdFq+/vrr1VOnTt2Q7zP+fba/bbbZpr+mpibv/kbaB/cjEKYAAYswNWkLgaEF7L9fDj744E+8995744877rglF110UVv2E9/4xjdm//rXv55jP1+8ePEvq6urveFcCVgMJ8R1BBBAAAEEEEAAAQQQQAABBBBAoLIECFhUVr2ZLQIIIIBAxAVGG7DYe++9u773ve/9ZbDpL1y4cN/W1tbpweu5AhZ2+/Xvfve7s/7whz80+Pc2Njau/vCHP7z6lFNOWT5x4sT+XH08+OCDtY899tj01tbWXe1fD9t7DjjggM4LL7xwyXXXXbd7a2vrtAMPPHD5ZZddtiT4/N/+9rdJN9100x6u6+7kP2d35Jg9e/Ybl1xyyd8IW0R8QZf58AlYlHmBmV5JCXR3dyduueUWZQd1wgknrJg+ffr72QO84447Ztx666172c+feuqpX+UTECRgUVJlZjAIIIAAAggggAACCCCAAAIIIIDAmAsQsBjzEjAABBBAAAEE8hcYacDiyCOPXPbQQw812R4efPDB+3fZZZd/2TnChiaOPvroT9l7jjjiiGUPP/zwwP3ZAYt//vOfiRNOOOHg4Dn2wZHPmTPn1TvuuOOpRCJhgp8vWrRo2rXXXrtfrlnasMSkSZPe11pPOeigg9zrr7++1b9vqOfsPXV1dWtvu+22P+6www69+QtyJwLFEyBgUTxrekIgH4GTTz55vyVLlkxraGhY84tf/OLJfJ4hYJGPEvcggAACCCCAAAIIIIAAAggggAAClSNAwKJyas1MEUAAAQTKQGCkAYtNwYYnv/nNb+711ltv1Xzuc5/76wUXXJDKZrj22mtnLVq0aPcdd9yx+9xzz33hkksumWfvCQYs+vv75Wmnnbbf0qVLp9prZ5555rMHH3zw6vfffz/+4IMP7nrvvff+H/v5/Pnz9TXXXPOi38dzzz03+YwzzjjUvrftn3766X894IAD3ly1atXWDz/88K7+Vu32ejBgYfs7/PDDj7Tjts9deOGFzzY3N7/T2dm5zSOPPLLr/fffP7DF+xlnnPHsaaedtqIMSssUylCAgEUZFpUpRVJg2bJlE2699damxYsXz7AT+Pa3v/34/vvvvzafyRCwyEeJexBAAAEEEEAAAQQQQAABBBBAAIHKESBgUTm1ZqYIIIAAAmUgMNKAxQ033PDEkiVLtvvpT3+656RJk9Y//vjjv43H45t3mLBBhoMOOuhTPT09W51yyikv1NfX//NrX/vagZYqGLB4/PHHd7rooosOsp9vuv6nY4455tUgpx/SsJ+1tLQsmjBhwsBRIV/96lebn3zyyWR1dXXfj3/84/9RSvUEn/vGN74x2w9ZBAMWr7/+evWdd945cAzJscce25X93BFHHHH466+/Pmmfffb5+y233PJMGZSWKZShAAGLMiwqU4qMwNlnn7330qVLa/v6+uL+EVP2SKuFCxe+nG+4wk6WgEVkSs5AEUAAAQQQQAABBBBAAAEEEEAAgaIIELAoCjOdIIAAAgggEI7AaAIWc+bMee+QQw45xo7g8ssvbznqqKNW+6O5//77p1599dX72/ePPvrofa2trZNzBSxuuukmdffdd+9pj/R4+OGHH8mezdq1a8f5fQT/MvhTn/rUoa+88srkww8/vP2qq676W/ZzNuCx1157fcZ+nn1EyFBiV1999Zz7779/tj0m5L777ns8HF1aQSBcAQIW4XrSGgIjETjxxBPntre31wafsf8OO+igg1ace+65Ovs4q8HaJmAxEnXuRQABBBBAAAEEEEAAAQQQQAABBMpfgIBF+deYGSKAAAIIlJHAaAIW8+bNe/NLX/rSR5966qmZu++++6of//jHT/kkCxYsmLts2bLauXPndtx4440vPProozvnClh88Ytf/Pfnn39+N/vc/vvvvzwX6Z/+9KeZ9vNTTz31hTPPPLNj/fr18f322+94+9mXvvSlxQsWLPhHrueOP/74jy9fvnzHXAGLd999t+rpp5/efsmSJdv/85//rO7p6anq6ekZt2TJkmm2LQIWZbS4y3AqBCzKsKhMKTICK1eu3LqnpyfR29sbe/XVV7d+/PHHp9t/D9oJZP+7cKhJEbCITMkZKAIIIIAAAggggAACCCCAAAIIIFAUAQIWRWGmEwQQQAABBMIRGG3A4i9/+ct2Z5999iF2FIsWLXpgxowZ6+2Z9AsWLDjSfnbbbbf97sMf/vC7gwUs/CM58pnFYYcd1n711Vf/LbirxabjRZ467rjjVuV63g95ZAcsFi1aNO3aa6/db6g+CVjkUxHuGSsBAhZjJU+/COQWuP3222fedtttH7VXL7300j9+8pOffG04KwIWwwlxHQEEEEAAAQQQQAABBBBAAAEEEKgsAQIWlVVvZosAAgggEHGB0QYs7LSPPvroQ1auXLnd0Ucf/fLXv/71pZdeeukeDz/8cNOMGTPeXLRo0RP2nsECFieffPJ+dteISZMmrb/44osX52K0fyU8btw4b9q0ae8rpXrsPfPnzz/qrbfeqvn0pz+99OKLL34513P//u//fuzGjRurggGLP/7xjzucf/75B9v7bZ8f+chHVn3oQx9as/3222+cNGlS309+8hPnmWeeqSNgEfEFXebDJ2BR5gVmepEU8P+d84lPfKLtsssuWzLcJAhYDCfEdQQQQAABBBBAAAEEEEAAAQQQQKCyBAhYVFa9mS0CCCCAQMQFtiRgcdddd9XdfPPN+9TU1Gz4zW9+89ARRxzxSRtsOP/88xefcMIJA8d3DBawuPbaa2ctWrRo91133fWd3/zmN/+TL+NZZ521jw1C7Ljjjt2/+MUvHt122237gs8Gd6kIBiyuuOKK3X/729/Oyozpvh122KE3+Nw555yz1+LFi2cQsMi3Etw3FgIELMZCnT4rVeCBBx7Y5Ze//KWqqanpvfXWWxfH43GTy+LAAw/85HvvvTd+/vz5+pprrnlxOC8CFsMJcR0BBBBAAAEEEEAAAQQQQAABBBCoLAECFpVVb2aLAAIIIBBxgS0JWPT09MTnz59/tA1VzJo167W2trZdqqur+5544on7x48fn7Y0gwUsHnzwwdrLL798rr1n07EdTx588MFrgpS27ZtuuqnR8zx5+OGHv2KPG7HXgwGKOXPmvHrFFVc8v9tuu71vd7uwfflt2nuDAYuFCxfu29raOn2XXXZ598EHH/xdsK933nmnyg+HELCI+IIu8+ETsCjzAjO9khJ4+eWXJ37+858/wg7qyiuv/MMRRxzxevYAn3vuuclnnHHGofbzTf/+aTnqqKNWDzcJAhbDCXEdAQQQQAABBBBAAAEEEEAAAQQQqCwBAhaVVW9miwACCCAQcYEtCVjYqV9yySX/55FHHmn0GbK3SB8sYNHd3Z1YsGDBx1955ZXJNpRx3nnnPfPxj3/8jcmTJ/ctWbJk4vXXX79ne3t7rW33/vvv/8306dPf9/sI7kZhP7NHfti/Hrb/bNuaPHny+tdff31SMGDxve99r+FHP/rRh+09Z5xxxrOf+cxn/rH11lt7f/3rXyddccUV+7z22mvb2msELCK+oMt8+AQsyrzATK/kBI455piDu7q6drADO/PMM5895phjXrE7J61fvz7+5JNP7nTNNdfsa0OG9vpTTz31Kz9cONRECFiUXJkZEAIIIIAAAggggAACCCCAAAIIIDCmAgQsxpSfzhFAAAEEEBiZwJYGLJYtWzZhwYIFR/q93nPPPQ8qpXr894MFLOz1lStXbn3SSSfN98MRuUZuf9A69dRTVwSvpdNp+Y1vfGP2n//857q33nqrxr9md6f4yle+8vw999yTfP7553cLBixWrFgx/uSTTz6kp6dnK/9+G8bwfxibMWPGmytWrNiRgMXI1g93F1eAgEVxvekNAbuLxZe//OX933zzzQm+hj0WK/vfJdddd90f9ttvv7fyESNgkY8S9yCAAAIIIIAAAggggAACCCCAAAKVI0DAonJqzUwRQAABBMpAYKQBi29961uPH3DAAWuDUz/xxBPn2t0m7JEdd91115+C1x5//PGdLrroooNsmGHx4sX/nU1mAxo/+clPki+99FJt8AesmTNnvnn66acvyT46JNfzy5cvr9ltt93WzZo1qzsej5tTTjllv5deemlaMGBhn7Mhi4svvnhv13V39tvZcccdu88555wX2tratvvlL3+5hw1aLFq06IkyKC1TKEMBAhZlWFSmVPIC9hipq6666v/87W9/2yUYCLRBC6XUmosuuuivM2bMWJ/vRAhY5CvFfQgggAACCCCAAAIIIIAAAggggEBlCBCwqIw6M0sEEEAAgTIRyDdgUYzp2h0tenp6EnV1desH22bd/jXxq6++uvW4ceO8efPmvZk9rv7+fjl//vxP2B/BvvCFLzy3cOHC5dn3bNy4MdbR0VEzefLk3qlTp24oxtzoA4EwBAhYhKFIGwiMXmDt2rXjXNetmTJlyoaRhCqCPRKwGL0/TyKAAAIIIIAAAggggAACCCCAAALlKEDAohyrypwQQAABBMpWoJQCFvkg33vvvdNvuOGGfe29J5xwwl/PP//8lP+c1rrmhz/8ofOHP/yhwX6WfVxJPu1zDwKlLEDAopSrw9gQyE+AgEV+TtyFAAIIIIAAAggggAACCCCAAAIIVIoAAYtKqTTzRAABBBAoC4GoBSzsDhWHH374kW+99VaNLYA9emTGjBlr165dWxM8YmTevHkdN9xwwwtlUSQmgUBGgIAFSwGB6AsQsIh+DZkBAggggAACCCCAAAIIIIAAAgggEKYAAYswNWkLAQQQQACBAgtELWBhOewW7VdcccWHFi9ePCMXzymnnPLCWWed1VFgOppHoOgCBCyKTk6HCIQuQMAidFIaRAABBBBAAAEEEEAAAQQQQAABBCItQMAi0uVj8AgggAAClSYQxYCFX6PXX3+9ur29feLKlSu32WqrrdJz5sx5VynVE4/HTaXVkflWhgABi8qoM7MsbwECFuVdX2aHAAIIIIAAAggggAACCCCAAAIIjFSAgMVIxbgfAQQQQACBMRSIcsBiDNnoGoExESBgMSbsdIpAqAIELELlpDEEEEAAAQQQQAABBBBAAAEEEEAg8gIELCJfQiaAAAIIIFBJAgQsKqnazDXqAgQsol5Bxo+AEAQsWAUIIIAAAggggAACCCCAAAIIIIAAAkEBAhasBwQQQAABBCIkQMAiQsViqBUvQMCi4pcAAGUgQMCiDIrIFBBAAAEEEEAAAQQQQAABBBBAAIEQBQhYhIhJUwgggAACCBRagIBFoYVpH4HwBAhYhGdJSwiMlQABi7GSp18EEEAAAQQQQAABBBBAAAEEEECgNAUIWJRmXRgVAggggAACOQUIWLAwEIiOAAGL6NSKkSIwmAABC9YGAggggAACCCCAAAIIIIAAAggggEBQgIAF6wEBBBBAAIEICRCwiFCxGGrFCxCwqPglAEAZCBCwKIMiMgUEEEAAAQQQQAABBBBAAAEEEEAgRAECFiFi0hQCCCCAAAKFFiBgUWhh2kcgPAECFuFZ0hICYyVAwGKs5OkXAQQQQAABBBBAAAEEEEAAAQQQKE0BAhalWRdGhQACCCCAQE4BAhYsDASiI0DAIjq1YqQIDCZAwIK1gQACCCCAAAIIIIAAAggggAACCCAQFCBgwXpAAAEEEEAgQgIELCJULIZa8QIELCp+CQBQBgIELMqgiEwBAQQQQAABBBBAAAEEEEAAAQQQCFFg1AELrbUJcRw0hQACCCCAAAIIIIAAAggggEBJCiilZEkOjEEhgAACCCCAAAIIIIAAAggggAACCBRVgIBFUbnpDAEEEEAAAQQQQAABBBBAIGoCBCyiVjHGiwACCCCAAAIIIIAAAggggAACCBRGYNQBi8IMh1YRQAABBBBAAAEEECgPgewd3/iBtjzqyiwqS8D/HvP9ray6M1sEEEAAAQQQQAABBBBAAAEEEEBgMAECFqwNBBBAAAEEEEAAAQQKIEDAogCoNIlAkQUIWBQZnO4QQAABBBBAAAEEEEAAAQQQQACBEhcgYFHiBWJ4CCCAAAIIIIAAAtEUIGARzboxagSCAgQsWA8IIIAAAggggAACCCCAAAIIIIAAAkEBAhasBwQQQAABBBBAAAEECiBAwKIAqDSJQJEFCFgUGZzuEEAAAQQQQAABBBBAAAEEEEAAgRIXIGBR4gVieAgggAACCCCAAALRFCBgEc26MWoEggIELFgPCCCAAAIIIIAAAggggAACCCCAAAJBAQIWrAcEEEAAAQQQQAABBAogQMCiAKg0iUCRBQhYFBmc7hBAAAEEEEAAAQQQQAABBBBAAIESFyBgUeIFYngIIIAAAggggAAC0RQgYBHNujFqBIICBCxYDwgggAACCCCAAAIIIIAAAggggAACQQECFqwHBBBAAAEEEEAAAQQKIEDAogCoNIlAkQUIWBQZnO4QQAABBBBAAAEEEEAAAQQQQACBEhcgYFHiBWJ4CCCAAAIIIIAAAtEUIGARzboxagSCAgQsWA8IIIAAAggggAACCCCAAAIIIIAAAkEBAhasBwQQQAABBBBAAAEECiBAwKIAqDSJQJEFCFgUGZzuEEAAAQQQQAABBBBAAAEEEEAAgRIXIGBR4gVieAgggAACCCCAAALRFCBgEc26MWoEggIELFgPCCCAAAIIIIAAAggggAACCCCAAAJBAQIWrAcEEEAAAQQQQAABBAogQMCiAKg0iUCRBQhYFBmc7hBAAAEEEEAAAQQQQAABBBBAAIESFyBgUeIFYngIIIAAAggggAAC0RQgYBHNujFqBIICBCxYDwgggAACCCCAAAIIIIAAAggggAACQQECFqwHBBBAAAEEEEAAAQQKIEDAogCoNIlAkQUIWBQZnO4QQAABBBBAAAEEEEAAAQQQQACBEhcgYFHiBWJ4CCCAAAIIIIAAAtEUIGARzboxagSCAgQsWA8IIIAAAggggAACCCCAAAIIIIAAAkEBAhasBwQQKGuB5ubm8X19fdJOcsmSJeuFEKasJ8zkEEAAAQRKRoCARcmUgoEgMGoBAhajpuNBBBBAAAEEEEAAAQQQQAABBBBAoCwFCFiUZVmZFAII+AJKqc2BCmPMXq7rPlfuOrNmzZqeTqf3MMY0CSFeNcYs7e3t1V1dXRvKfe7M738FGhoaGquqqmIj8Vi/fv3yUlojs2fP3rmvr68jM4ePaK31SObDvQiUggABi1KoAmNA4H8FksnkDolEwv67xevo6GjP14WARb5S3IcAAggggAACCCCAAAIIIIAAAghUhgABi8qoM7NEIDSB9vb2uY2NjS2hNVjghoIBC8/z9u7o6Hi2wF2OWfP2R/VYLPYb+xtCrkEYY053XfeOMRsgHRdFoK6ubqvq6ur3R9pZLBbbp729/ZmRPmfvr6ur27aqqqp23LhxfW1tbZ2jaSP7mWQyOVVKucp+HovF5rS3t78cRru0gUAxBQhYFFObvhAYXEApdZwQ4k4hxAR7V21tbVVLS0t/PmYELPJR4h4EEEAAAQQQQAABBBBAAAEEEECgcgQIWFROrZkpAqEIZP4j8xVKqctDabDAjVRKwKKhoeHjsVjs8eE4jTG3uK57znD3cT26AvX19dXxeHzEu5VsyQ4vSqkvCiFuFUJ0a60nhqFHwCIMRdoYawECFmNdAfqvdIGmpqaadDp9kxDi1KAFAYtKXxnMHwEEEEAAAQQQQAABBBBAAAEEEBi9AAGL0dvxJAIVKeD/WCSlbEkmk/NKHaFSAhZKKXt8gr9zxRohxNeklO3GmKlCiIuEEHv6terv7995+fLl9h5eFSTgOM6NxpjzjTHPuK67T5hTJ2ARpiZtlZMAAYtyqiZziZqA4zjNm45L+5UQYoYdu5RyWeb4NHawiFoxGS8CCCCAAAIIIIAAAggggAACCCBQQgIELEqoGAwFgSgIBH8sGsOQRbyxsXFGf39/MpFIrB4/fnyqtbV1fS6/XAEL+xf+iUSi2fO82IQJE14c7Nlge7NmzZre29tbF4/HJ3qe90Z/f7+7YsWK93L12dzcPL67u3u8vTZhwoT1mfbjDQ0Nu8Xj8elCiLc2bNjQ0dXVNeJdBnL1V19f/6F4PP5i4NpUrfVr/nullN0O+1V/W2whxAKt9c+isN4YY3gCowlYzJkzZ/L777+/vrOzc+NQIxlpwKK5ublq48aN27388stvDNYuO1iEV3taGjsBAhZjZ0/PCATCp92e5302FovZ/9vMBi4IWLA8EEAAAQQQQAABBBBAAAEEEEAAAQRGLUDAYtR0PIhAZQpk/1hkFTzPm9fY2NhSaJG6urqtqqurrxNCnJujr6cTicRJbW1tncFrwYBFLBbbJ51Of05K+YEjMqSU9/f09JywatWq97PbVUrtLoT4vhBi3xx9/mDdunXnZz+XTCZvllKenbnfHpvwcynl7f5fTWY+7zbGnO267k+31E0p9QkhhD2iQWR2J7gyxzz+7M8h0+/3trRfno+WQL4Bi0xg5zNCiEOFEHb929ejQojfJxKJO9ra2t72Z66UOkEI8a1N35GdAhoDu6NIKR9IpVIL/c/nzp2bWL169XlCiBMD7XYLIRZ7nndDR0fHE0FRAhbRWl+MNrcAAQtWBgJjJ2ADFsaYf0gpT7LBU6XUcQQsxq4e9IwAAggggAACCCCAAAIIIIAAAgiUiwABi3KpJPNAoEgCuQIWtutChywy4Yqng0dd5JpyLBZrbm9v37ybQzBgkfmR+JBcz9mQRSqVOtZOxb/e2NjY4Hlea2Dnh3951D43ZcqU41taWvr9i8GAhQ08SCn3Hqw8UspDUqnUY4Us38yZM3dKJBKbdwpIp9N7dnZ2/rWQfdJ26QnkE7DIBIpeGmL0T9fU1Mz3d31JJpOn2/DQIPffp7W23ynR1NQ0rr+//49DfRds8EJr/fPA92iqlHKVfR+Lxea0t7e/XHqqjAiBoQUIWLBCEBg7AcdxjkylUr8TQqTtKAhYjF0t6BkBBBBAAAEEEEAAAQQQQAABBBAoJwECFuVUTeaCQBEEBgtYZLq+Qil1eSGGkUwmD5NSPhJo+7R4PP5MOp1uEkJcLYRI2mvGmLtc1z3Zvy8rYGE/XiGEWCSlTBpjjs4aq6O11vaz2bNn79zX1/eCEGJa5h6748RdQoiUlHK+EOKTgWfv1Fqf5r/P2sFi4GN77rcNeHieN1tKeXB3tRkgAAAgAElEQVTg2e7Mj8f/CMstc6zDNpt2FpiYSCT2MMZc78/DGPMT13VPCQZJwuqXdkpbYLiARWNj426e5z2X2Y1ihZTyq0KIFmPMDsaYw6WUdqcK+3pAa32M/cHK7kqxZs2arfr7+xdKKW+0F+PxuD2SRvT29vb5R4skk8kFUkp/t5ZLPM+7p6+v7+3q6ur9Nz1yVWZHizVa650D3yMCFqW9pBhdHgIELPJA4hYEiiRAwKJI0HSDAAIIIIAAAggggAACCCCAAAIIlLkAAYsyLzDTQyBsgWECFra7goQslFLfCRwN8jOt9QJ/bg0NDY3xePx0+94Y06O1vtS/FgxY2JBDVVXVx5YuXfqOvd7Y2Li353l/CRgdr7VeZN87jnOSMebH/jVjzP6u6z4VaNcesXFm4NmJWmt73IHIDlhkhz6SyeRnpJT3Btq2R4WEdmSH4zi/zhEesWP7Zm1t7TXB3TbCXh+0V7oCwwUsksnkZVJKPyC1h9Z6SXA2juNcYIy5wX6WvQuKUsoeUWOPw+nWWk/MVlBKHWuPyLE7Umitf5TV7qeNMffZzxKJRIN/zA9HhJTuWmJk+QsQsMjfijsRKLQAAYtCC9M+AggggAACCCCAAAIIIIAAAgggUBkCBCwqo87MEoHQBPIIWNi+Qg9ZKKUuFEJc60/EGHN6VVXVr9va2t4eanLBgIUxJjvIEFNKvesfAWKMucx13Stte0qp7wshzsi0fbfW+j+C/TQ3N4/v6elZFxjPfq7r/tm+zwpYdNfU1Ezxj1Tw71dK/VYIcZR9L6X8YSqVWhhWkQYJWNjmf7Vp54pL/V06wuqPdqIhMFzAQilld4g5bNMOFt/XWp+VY1ZSKfVe5vtyajAoMVzAYiihadOmbb3NNtusz3wXNh+ZQ8AiGuuKUQ4tQMCCFYJA6QgQsCidWjASBBBAAAEEEEAAAQQQQAABBBBAIMoCBCyiXD3GjsAYCIxhwGJ3IcRL2VO2u1J4nvfkpmM27kulUjbgMHDOtv8KBiw8zzugo6PjT8HrWWGEq7XWl9jrSinbl+3T7opxgeu6/vEImx93HKfN/lV+5oPztNY32X/OCli0aK3nZY/bcZz/NMb8V+bzF7XWzWGVs6Gh4eNSyjop5fZCCHucyYHBto0xe7mua4+C4FVBAsMELILhiTO01j/IRaOUejKznm7VWm/ewSXPgIWsr6+fEY/H98x8t7aXUk72PM/+78CxOVJKAhYVtCYrYaoELCqhyswxKgIELKJSKcaJAAIIIIAAAggggAACCCCAAAIIlLYAAYvSrg+jQ6DkBPIIWIS+e4WPYIMDsVjMHtsxbRAYVwhxqNb67/71rIDF3h0dHc8Gn3Uc515jzGcynwUDFsa/z153XfeX2X06jvOQMeaIzOeb/+o/GLDIPh4kMK4ThRB3Z97nPFYhrOLPmTNncm9vb4sfGBFChBroCGuctFNYgaECFjNnztwpkUi8kRnBYVrr/8k1GqWUPQbEHgfylNZ6/8B6HvKIkPr6+omJROKuHEfXfKAbAhaFXQO0XnwBAhbFN6dHBAYTIGDB2kAAAQQQQAABBBBAAAEEEEAAAQQQCEOAgEUYirSBQAUJDBOwKFi4IkAcdxxnP2PMoUKIjwkh9s3id7XWyv9sCwIWdoeHj2TauVBrfX12mZVS2m5YYT8PHj+StYPF01prO84PvJRSdqeMgeNIhBDPa60/WshlpJQKBjpETU3NNtnHlhSyf9oee4FhdrDYfFyOPX7Hdd07co1YKWWDF4dkH2sz3A4WgeNHbLOPSikf8jxveTwef8cYs84Ys8ReIGAx9uuEEYQrQMAiXE9aQ2BLBAhYbIkezyKAAAIIIIAAAggggAACCCCAAAII+AIELFgLCCAwIoEhAhbFCFf8y1iVUrsYYy6TUi70L0op/y2VSnXZ91sQsPiOEOLcTJuLtNbHBzuvq6vbtrq6+h3/s1gstk97e/sz9n1WwEKMGzduu6VLl26+NzMu/6gF+/YHWuszRlSIwM1KKXs0ih80uUhrfV12W47jLDTG3OZ/nk6nd+rs7HxztH3yXPQEhglY2HX7WOaojpu01uflmqFSyu5ysZOU8gupVOp2/56hAhYzZsyYVFVV9a69135XXdf1g0UDj9fX18+Mx+Od9p8JWERvXTHioQUIWLBCECgdAQIWpVMLRoIAAggggAACCCCAAAIIIIAAAghEWYCARZSrx9gRGAOBXAELz/PmNTY22iMoCvZSSv1UCLFtpoO7tdaL/M6amppmpdPpl/336XR6187OzlX2/RYELD6w44PneUd2dHQ87PehlPq5EOJz/vvgjhDZAQshxINa66OFEGl7fzKZPEtKeUsA60yttT16YVQvpdSXhBDfzjy8Jp1Oz+vs7FzmN9bY2FhrjHnCGNOU+aygR5KMahI8VHCB4QIWSqmrhBBfF0J0JxKJPdva2gZCD4E1f+qm43kGdrYwxnzUdd3n/WuO43zBGPMD+76/v3/n5cuXrwlcm+PvUCGE+KTW+rdZ7X5VCDEQCiJgUfBlQAdFFiBgUWRwukNgCAECFiwPBBBAAAEEEEAAAQQQQAABBBBAAIEwBAhYhKFIGwhUkEDwxyIpZUsymZxXjOknk8nvSinP8fuyfwlvjFkci8Vs6MIet7G7vbbp6JBnXNfdx79vtAGLOXPmTO7t7bU7UgwcAZJ5LZJSLjfGHBQ4PsReul5rfaF/U46Ahb3ULYSwOwQ0BoIO9nP7Q/SHtNavjdbR7uIhhHg16/m7hRDaGDNdSvkpu+tA0C57F4HR9s1z0RHII2Bhj9axoYkJUspl6XT6DGPMs4lEombT/x4mhLBryr5aampq5re2tvb5s3cc5yhjzEBwwhhzjed53+7s7HxLCOHNnTs3sXr16rdtu/b7KaU8SWut7Xds48aNJ0spb/TbIWARnfXESPMTIGCRnxN3IVAMAQIWxVCmDwQQQAABBBBAAAEEEEAAAQQQQKD8BQhYlH+NmSECoQoEfiwq6pEgs2bNqu/v7386GBTIMbFuY8zRruva4zcGXqMNWNhnk8nkVCmlDVlMGwLxR1rr0+0Pyf49WQGL3wkhPmZ/XM7VhpRy31QqtXhLi+Q4zpHGmHsG6yfQ/jdra2u/1tLS0r+lffJ8tASGC1hkvi/2qBl75EzOlw1ebNiwYd+urq6BIz/8V1NT05R0Or0666HNR+sopeyxIDYI5b9s4GjgO2GMeTxzNAk7WERrSTHaPAQIWOSBxC0IFEmAgEWRoOkGAQQQQAABBBBAAAEEEEAAAQQQKHMBAhZlXmCmh0DYApkfi4oarvDnkNlV4ptCiOOzggT2x9rfJxKJc9va2lYG5xwMWGQfa2DvCx71IaW8MpVKXRZ8PhPsuFYIcUyWpe3zptra2iuzwwpZAYtbPc+7WUr5Hf9H5Ew7K4QQ52utHwirRo2NjQ2e531nkEDHi8aYb7qu+4uw+qOdaAkopa4XQnxFCPG01tqGfnK+HMc5wPM8u7OE3bXC3/lkiRDiUWPMd1zXzd4tZaCdZDJ5kJTS9rGnfS+lvD+VSn3a7yRzlM1/Zu2mckt1dfWlvb29docL4XnewR0dHU9kvpubd2ZJp9OzgsfeREue0VayAAGLSq4+cy81AcdxjjHG/LcdV21tbVW+YVP/e6yUkqU2J8aDAAIIIIAAAggggAACCCCAAAIIIFB8AQIWxTenRwQiLdDe3j63sbGxZawnkUwmd/A8b1chxJudnZ2rCj0epdQEz/OmJRKJrY0xb0+ZMmXVYP9hPjtgobU+046vqampRgixmxDirWXLlr1h/3jfH7fjONvHYrGq0cxj2bJlr2c9JxsaGv5NCDEjFouticfjqWXLlvWOpm2eqWgB6TjObp7n9biuuzZfCXskyMqVK7eZPn36ulzfEXukTSKRGL9u3bpVXV1dG/Jtl/sQiKIAAYsoVo0xI/BBAQIWrAgEEEAAAQQQQAABBBBAAAEEEEAAgaAAAQvWAwIIIBCywGABi6G6UUq9MsxRJIM+bozZcSQ/gIc8XZpDAAEEEBhEgIAFSwOB6AsQsIh+DZkBAggggAACCCCAAAIIIIAAAgggEKYAAYswNWkLAQQQ+N+jEuyRIGdnMG71d7AYCoeABUsHAQQQKD8BAhblV1NmVHkCBCwqr+bMGAEEEEAAAQQQQAABBBBAAAEEEBhKgIAF6wMBBBAIWWA0AYtkMvmYlNIeHzLi18aNG/fq6up6d8QP8gACCCCAQEEFCFgUlJfGESiKAAGLojDTCQIIIIAAAggggAACCCCAAAIIIBAZAQIWkSkVA0UAgagINDQ0zIjH41PseNPp9OsdHR0rojJ2xokAAgggEJ4AAYvwLGkJgbESIGAxVvL0iwACCCCAAAIIIIAAAggggAACCJSmAAGL0qwLo0IAAQQQQAABBBCIuAABi4gXkOEjIIQgYMEyQAABBBBAAAEEEEAAAQQQQAABBBAIChCwYD0ggAACCCCAAAIIIFAAAQIWBUClSQSKLEDAosjgdIcAAggggAACCCCAAAIIIIAAAgiUuAABixIvEMNDAAEEEEAAAQQQiKYAAYto1o1RIxAUIGDBekAAAQQQQAABBBBAAAEEEEAAAQQQCAoQsGA9IIAAAggggAACCCBQAAECFgVApUkEiixAwKLI4HSHAAIIIIAAAggggAACCCCAAAIIlLgAAYsSLxDDQwABBBBAAAEEEIimAAGLaNaNUSMQFCBgwXpAAAEEEEAAAQQQQAABBBBAAAEEEAgKELBgPSCAAAIIIIAAAgggUAABAhYFQKVJBIosQMCiyOB0hwACCCCAAAIIIIAAAggggAACCJS4AAGLEi8Qw0MAAQQQQAABBBCIpgABi2jWjVEjEBQgYMF6QAABBBBAAAEEEEAAAQQQQAABBBAIChCwYD0ggAACCCCAAAIIIFAAAQIWBUClSQSKLEDAosjgdIcAAggggAACCCCAAAIIIIAAAgiUuAABixIvEMNDAAEEEEAAAQQQiKYAAYto1o1RIxAUIGDBekAAAQQQQAABBBBAAAEEEEAAAQQQCAqMOmCR/R+MYUUAAQQQQAABBBBAAAEEEECgHAWUUrIc58WcEEAAAQQQQAABBBBAAAEEEEAAAQRGJkDAYmRe3I0AAggggAACCCCAAAIIIFBhAgQsKqzgTBcBBBBAAAEEEEAAAQQQQAABBBAYRGDUAQtEEUAAAQQQQAABBBBAYHABjghhdSAQfQGOCIl+DZkBAggggAACCCCAAAIIIIAAAgggEKYAAYswNWkLAQQQQAABBBBAAIGMAAELlgIC0RcgYBH9GjIDBBBAAAEEEEAAAQQQQAABBBBAIEwBAhZhatIWAggggAACCCCAAAIZAQIWLAUEoi9AwCL6NWQGCCCAAAIIIIAAAggggAACCCCAQJgCBCzC1KQtBBBAAAEEEEAAAQQyAgQsWAoIRF+AgEX0a8gMEEAAAQQQQAABBBBAAAEEEEAAgTAFCFiEqUlbCCCAAAIIIIAAAghkBAhYsBQQiL4AAYvo15AZIIAAAggggAACCCCAAAIIIIAAAmEKELAIU5O2EEAAAQQQQAABBBDICBCwYCkgEH0BAhbRryEzQAABBBBAAAEEEEAAAQQQQAABBMIUIGARpiZtIYAAAggggAACCCCQESBgwVJAIPoCBCyiX0NmgAACCCCAAAIIIIAAAggggAACCIQpQMAiTE3aQgABBBBAAAEEEEAgI0DAgqWAQPQFCFhEv4bMAAEEEEAAAQQQQAABBBBAAAEEEAhTgIBFmJq0hQACCCCAAAIIIIBARoCABUsBgegLELCIfg2ZAQIIIIAAAggggAACCCCAAAIIIBCmAAGLMDVpCwEEEEAAAQQQQACBjAABC5YCAtEXIGAR/RoyAwQQQAABBBBAAAEEEEAAAQQQQCBMAQIWYWrSFgIIIIAAAggggAACGQECFiwFBKIvQMAi+jVkBggggAACCCCAAAIIIIAAAggggECYAgQswtSkLQQQQAABBBBAAAEEMgIELFgKCERfgIBF9GvIDBBAAAEEEEAAAQQQQAABBBBAAIEwBQhYhKlJWwgggAACCCCAAAIIZAQIWLAUEIi+AAGL6NeQGSCAAAIIIIAAAggggAACCCCAAAJhChCwCFOTthBAAAEEEEAAAQQQyAgQsGApIBB9AQIW0a8hM0AAAQQQQAABBBBAAAEEEEAAAQTCFCBgEaYmbSGAAAIIIIAAAgggkBEgYMFSQCD6AgQsol9DZoAAAggggAACCCCAAAIIIIAAAgiEKUDAIkxN2kIAgZITaG5uHt/X1yftwJYsWbJeCGFKbpAMCAEEEECgLAUIWJRlWZlUhQkQsKiwgjNdBBBAAAEEEEAAAQQQQAABBBBAYBgBAhYsEQQQKGsBpdTmQIUxZi/XdZ8r6wkHJrf77rtv09/fXxecb29v7yudnZ3/rBSDSp1nQ0NDY1VVVWwk81+/fv3yrq6uDSN5ppD3zp49e+e+vr6OTB8f0VrrQvZH2wgUQoCARSFUaROB0Qkkk8kdEomE/XeL19HR0Z5vKwQs8pXiPgQQQAABBBBAAAEEEEAAAQQQQKAyBAhYVEadmSUCoQm0t7fPbWxsbAmtwQI3FAxYeJ63d0dHx7MF7rJkmk8mk3dJKT+fNaAFWuuflcwgGUjoAnV1dVtVV1e/P9KGY7HYPu3t7c+M9Dl7f11d3bZVVVW148aN62tra+scTRvZzySTyalSylX281gsNqe9vf3lMNqlDQSKKUDAopja9IXA4AJKqeOEEHcKISbYu2pra6taWlr68zEjYJGPEvcggAACCCCAAAIIIIAAAggggAAClSNAwKJyas1MEQhFIPMfma9QSl0eSoMFbqRSAxZKqUOFEL/LwUvAosBrbqybr6+vr47H4yPeiWJLdnhRSn1RCHGrEKJbaz0xDAMCFmEo0sZYCxCwGOsK0H+lCzQ1NdWk0+mbhBCnBi0IWFT6ymD+CCCAAAIIIIAAAggggAACCCCAwOgFCFiM3o4nEahIAf/HIillSzKZnFfqCJUYsMj8mGC3vp6Woz4ELEp90RZofI7j3GiMOd8Y84zruvuE2Q0BizA1aaucBAhYlFM1mUvUBBzHaTbG/EoIMcOOXUq5bNP7JvvPBCyiVk3GiwACCCCAAAIIIIAAAggggAACCJSOAAGL0qkFI0EgEgLBH4vGMGQRb2xsnNHf359MJBKrx48fn2ptbV2fCzBXwML+hX8ikWj2PC82YcKEFwd7NtjerFmzpvf29tbF4/GJnue90d/f765YseK9XH02NzeP7+7uHm+vTZgwYX2m/XhDQ8Nu8Xh8uhDirQ0bNnR0dXWNeJeBfBaJUup6IcRXMj8m3G+MmSSEODDzLAGLfBDL8J7RBCzmzJkz+f3331/f2dm5cSiSkQYsmpubqzZu3Ljdyy+//MZg7bKDRRkuwgqcEgGLCiw6Uy4ZAaWUFkIk7e5Knud9NhaL2f/bzAYuCFiUTJUYCAIIIIAAAggggAACCCCAAAIIIBA9AQIW0asZI0ZgTAWyfyyyg/E8b15jY2NLoQdWV1e3VXV19XVCiHNz9PV0IpE4qa2trTN4LRiwiMVi+6TT6c9JKc8J3iOlvL+np+eEVatWvZ/drlJqdyHE94UQ++bo8wfr1q07P/u5ZDJ5s5Ty7Mz99tiEn0spb/f/ajLzebcx5mzXdX8aplt9ff2H4vH4i34fQghHCHE3AYswlaPZVr4Bi8wa+owQwh4zY9e/fT0qhPh9IpG4o62t7W1fQCl1ghDiW5u+IzsFVNbYf5ZSPpBKpRb6n8+dOzexevXq84QQJwba7RZCLPY874aOjo4ngrIELKK5zhj1BwUIWLAiEBg7ARuwMMb8Q0p5ktb6NaXUcQQsxq4e9IwAAggggAACCCCAAAIIIIAAAgiUiwABi3KpJPNAoEgCuQIWtutChywy4YqnhRB7DjXVWCzW3N7e7gcMRDBgkfmR+JBcz9uQRSqVOtZOxb/e2NjY4Hleq92IYrA+7XNTpkw5vqWlpd+/JxiwsMcxSCn3HuL5Q1Kp1GMhlS+ulPqLEOIjtj1jzELXdX+olHqSgEVIwhFuJp+ARSZQ9NIQ03y6pqZmvr/rSzKZPN2Ghwa5/z6ttf1OiaampnH9/f1/HOq7YIMXWuufB75HU6WUq+z7WCw2p729/eUI8zP0ChUgYFGhhWfaJSHgOM6RqVTqd0KItB0QAYuSKAuDQAABBBBAAAEEEEAAAQQQQAABBCIvQMAi8iVkAggUV2CwgEVmFFcopS4vxIiSyeRhUspHAm2fFo/Hn0mn0/Ys7aszW0DbUMFdruue7N+XFbCwH68QQiySUiaNMUdnjdXRWtvtpMXs2bN37uvre0EIMS1zj91x4i4hREpKOV8I8cnAs3dqrU/z32ftYDHwsT332wY8PM+bLaU8OPBsd+bH439sqZvjOAuNMbdl2nlaa72/DYwQsNhS2fJ4friARWNj426e5z2X2Y1ihZTyq0KIFmPMDsaYw6WUdqcK+3pAa32M/cHK7kqxZs2arfr7+xdKKW+0F+Px+EAgqbe3t88/WiSZTC6QUvq7tVzied49fX19b1dXV9s1elVmR4s1WuudA98jAhblsfQqehYELCq6/Ey+xAQIWJRYQRgOAggggAACCCCAAAIIIIAAAgggEFEBAhYRLRzDRmCsBIYJWNhhFSRkoZT6TuBokJ9prRf4Bg0NDY3xePx0+94Y06O1vtS/FgxY2JBDVVXVx5YuXfqOvd7Y2Li353l2xwf/dbzWepF94zjOScaYH/sXjDH7u677VKDd7wkhzgw8O1FrbY87ENkBi+zQRzKZ/IyU8t5A2/aoENveqF/JZHIHKaUNj/i7beyhtV5iGyRgMWrWsnpwuIBFMpm8TErpB6Q2rx8fwXGcC4wxN9j36XR6z87Ozr8Gvg9fFELY43C6tdYTs+GUUsfaI3LsjhRa6x8FrzuO82ljzH32s0Qi0eAf88MRIWW1/Cp2MgQsKrb0TLwEBQhYlGBRGBICCCCAAAIIIIAAAggggAACCCAQQQECFhEsGkNGYCwF8ghY2OGFHrJQSl0ohLjWn7sx5vSqqqpft7W1vT2URzBgYYzJDjLElFLv+qEEY8xlruteadtTSn1fCHFGpu27tdb/Eeynubl5fE9Pz7rAePZzXffP9n1WwKK7pqZmin+kgn+/Uuq3Qoij7Hsp5Q9TqdTCLamrUsr+uG1/5LYhkxtd1/1yoC+OCNkS3DJ5driAhVLK7hBz2KYdLL6vtT4rx7SlUuq9zPfl1GBQQik1ZMBiKMJp06Ztvc0226zPfBc2H5lDwKJMFl6FT4OARYUvAKZfUgIELEqqHAwGAQQQQAABBBBAAAEEEEAAAQQQiKwAAYvIlo6BIzA2AmMYsNhdCPFS9qztrhSe5z256ZiN+1KplA04DJyz7b+CAQvP8w7o6Oj4U/C64zi/DhwVcrXW+hJ7XSll+7J92sDCBa7r+scjbH7ccZw2+1f5mQ/O01rfZP85K2DRorWelz1ux3H+0xjzX5nPX9RaN4+2oo7jNBtj7HEm9rUmnU43dHZ2/jNgQMBitLhl9NwwAYtgeOIMrfUPck09sBvKrVrrzTu45BmwkPX19TPi8fieme/W9lLKyZ7n2f8dODZHSknAoozWHFMRgoAFqwCB0hEgYFE6tWAkCCCAAAIIIIAAAggggAACCCCAQJQFCFhEuXqMHYExEMgjYBH67hX+NBsaGj4ei8XssR3TBpm6K4Q4VGv9d/96VsBi746OjmeDzzqOc68x5jOZz4IBC+PfZ6+7rvvL7D4dx3nIGHNE5vPNf/UfDFhkHw8SGNeJQoi7M+9zHquQZ3ntLhw2NLKvvd8Y8x+u6/rtDjSRdUTIqRs3brynrq6uv6WlpT/PPritDASGCljMnDlzp0Qi8UZmmodprf8n15QDO6U8pbXeP7Ceh9zBor6+fmIikbgrEGbKKUrAogwWGlP4gAABCxYEAqUjQMCidGrBSBBAAAEEEEAAAQQQQAABBBBAAIEoCxCwiHL1GDsCYyAwTMCiYOGKwFTjjuPsZ4w5VAjxMT9YELjuaq1V4IffzUEJz/NGErB4TgjxkUw7F2qtr8/mVkppu2GF/Tx4/EjWDhZPa63tOD/wUkrZnTIGjiMRQjyvtf7oaMrpOM72m/peO9JnjTE/cV33pJE+x/3RFRhmB4vNx+XY43dc170j10yVUjZ4cUj2sTbD7WAROH7ENvuolPIhz/OWx+Pxd4wx64wxS+wFAhbRXV+MPLcAAQtWBgKlI0DAonRqwUgQQAABBBBAAAEEEEAAAQQQQACBKAsQsIhy9Rg7AmMgMETAohjhin+ZsVJqF2PMZVLKhf5FKeW/pVKpLvt+C3aw+I4Q4txMm4u01scHO6+rq9u2urr6Hf+zWCy2T3t7+zP2fVbAQowbN267pUuXbr43M67gsR0/0FqfMZpyjjZgYXfP0Fr/x2j65JloCgwTsLDr9rHMUR03aa3PyzVLpZTd5WInKeUXUqnU7f49QwUsZsyYMamqqupde6/9rrqu6weLBh6vr6+fGY/HO+0/E7CI5tpi1IMLELBgdSBQOgIELEqnFowEAQQQQAABBBBAAAEEEEAAAQQQiLIAAYsoV4+xIzAGArkCFp7nzWtsbGwp5HCUUj8VQmyb6cOGAxb5/TU1Nc1Kp9Mv++/T6fSunZ2dq+z7LQhYBI/wEJ7nHdnR0fGw34dS6udCiM/572tqarZpbW1db99nByyEEA9qrY8WQqQz18+SUt4S8DpTa33raPyUUhOEEL8Z5tkDA9dXCCFs+OQxrfV1o+mTZ6IpMFzAQil1lRDi60KI7kQisWdbW9tA6CGw5k/ddDzPwM4WxpiPuq77vH/NcZwvGGN+YN/39/fvvHz58jWBa3P8HSqEEJ/UWv82q92vCiEG1iIBi2iuLQgcYtAAACAASURBVEY9uAABC1YHAqUjQMCidGrBSBBAAAEEEEAAAQQQQAABBBBAAIEoCxCwiHL1GDsCYyAQ/LFIStmSTCbnFWMYyWTyu1LKc/y+7F/CG2MWx2IxG7qwx23sbq9tOjrkGdd19/HvG23AYs6cOZN7e3vtjhQDR4BkXouklMuNMQcFjg+xl67XWl/o35QjYGEvddtQg5Sy0RjTFGjT/hD9Ia31a4VyVEq1CiH2zLS/QGv9s0L1RbulK5BHwMIerWNDExOklMvS6fQZxphnE4lEzab/PczuepKZXUtNTc381tbWPn+2juMcZYwZCE4YY67xPO/bnZ2dbwkhvLlz5yZWr179tm3Xfj+llCdprbX9jm3cuPFkKeWNfjsELEp3/TCy0QkQsBidG08hUAgBAhaFUKVNBBBAAAEEEEAAAQQQQAABBBBAoPIECFhUXs2ZMQJbJBD4saioR4LMmjWrvr+//2l7PMEQE+g2xhztuq49fmPgNdqAhX02mUxOlVLakMW0Ifr8kdb6dPtDsn9PVsDid0KIj9kfl3O1IaXcN5VKLd6iogzzMAGLQupGp+3hAhaZ78u+Qog/DzYrG7zYsGHDvl1dXQNHfvivpqamKel0enXWc5uP1lFK2WNBbBDKf9nA0cB3whjzeOZoEnawiM5yYqR5ChCwyBOK2xAoggABiyIg0wUCCCCAAAIIIIAAAggggAACCCBQAQIELCqgyEwRgTAFMj8WFTVc4Y8/s6vEN4UQx2cFFuyPtb9PJBLntrW1rQzONxiwyD7WwN4XPOpDSnllKpW6LPh8JthxrRDimCxH2+dNtbW1V7a0tPQHr2UFLG71PO9mKeV3/B+RM/faozrO11o/EGZ9crWllHrO33FDSvm5VCp1b6H7pP3SE1BKXS+E+IoQ4mmttQ395Hw5jnOA53l2Zwm7a4UfaFoihHjUGPMd13VfzfVgMpk8SEpp+xjYLUVKeX8qlfq0f69S6ktCiP8MhqSMMbdUV1df2tvba3e4sEfxHNzR0fFE5ru5ixBioK90Oj2rs7NzWempMiIEhhYgYMEKQaB0BBzHOcYY8992RLW1tVXZ//fbYCP1v8dKKVk6s2EkCCCAAAIIIIAAAggggAACCCCAAAJjJUDAYqzk6ReBiAq0t7fPbWxsbBnr4SeTyR08z9tVCPFmZ2fnqkKPRyk1wfO8aYlEYmtjzNtTpkxZNdh/mM8OWGitz7Tja2pqqhFC7CaEeGvZsmVv2D/e98ftOM72sVisajTzWLZs2eujeY5nEBhGQDqOs5vneT2u667NV8seCbJy5cptpk+fvi7Xd0QptUsikRi/bt26VV1dXRvybZf7EIiiAAGLKFaNMSPwQQECFqwIBBBAAAEEEEAAAQQQQAABBBBAAIGgAAEL1gMCCCAQssBgAYuhulFKvTLMUSSDPm6M2XEkP4CHPF2aQwABBBAYRICABUsDgegLELCIfg2ZAQIIIIAAAggggAACCCCAAAIIIBCmAAGLMDVpCwEEEBBCELBgGSCAAAIIWAECFqwDBKIvQMAi+jVkBggggAACCCCAAAIIIIAAAggggECYAgQswtSkLQQQQGCUAYtkMvmYlNIeHzLi18aNG/fq6up6d8QP8gACCCCAQEEFCFgUlJfGESiKAAGLojDTCQIIIIAAAggggAACCCCAAAIIIBAZAQIWkSkVA0UAgagINDQ0zIjH41PseNPp9OsdHR0rojJ2xokAAgggEJ4AAYvwLGkJgbESIGAxVvL0iwACCCCAAAIIIIAAAggggAACCJSmAAGL0qwLo0IAAQQQQAABBBCIuAABi4gXkOEjEDjqRyklAUEAAQQQQAABBBBAAAEEEEAAAQQQQICABWsAAQQQQAABBBBAAIECCBCwKAAqTSJQZAF2sCgyON0hgAACCCCAAAIIIIAAAggggAACJS5AwKLEC8TwEEAAAQQQQAABBKIpQMAimnVj1AgEBQhYsB4QQAABBBBAAAEEEEAAAQQQQAABBIICBCxYDwgggAACCCCAAAIIFECAgEUBUGkSgSILELAoMjjdIYAAAggggAACCCCAAAIIIIAAAiUuQMCixAvE8BBAAAEEEEAAAQSiKUDAIpp1Y9QIBAUIWLAeEEAAAQQQQAABBBBAAAEEEEAAAQSCAgQsWA8IIIAAAggggAACCBRAgIBFAVBpEoEiCxCwKDI43SGAAAIIIIAAAggggAACCCCAAAIlLkDAosQLxPAQQAABBBBAAAEEoilAwCKadWPUCAQFCFiwHhBAAAEEEEAAAQQQQAABBBBAAAEEggIELFgPCCCAAAIIIIAAAggUQICARQFQaRKBIgsQsCgyON0hgAACCCCAAAIIIIAAAggggAACJS5AwKLEC8TwEEAAAQQQQAABBKIpQMAimnVj1AgEBQhYsB4QQAABBBBAAAEEEEAAAQQQQAABBIICow5YZP8HY1gRQAABBBBAAAEEEEAAAQQQKEcBpZQsx3kxJwQQQAABBBBAAAEEEEAAAQQQQACBkQkQsBiZF3cjgAACCCCAAAIIIIAAAghUmAABiworONNFAAEEEEAAAQQQQAABBBBAAAEEBhEYdcACUQQQQAABBBBAAAEEEBhcgCNCWB0IRF+AI0KiX0NmgAACCCCAAAIIIIAAAggggAACCIQpQMAiTE3aQgABBBBAAAEEEEAgI0DAgqWAQPQFCFhEv4bMAAEEEEAAAQQQQAABBBBAAAEEEAhTgIBFmJq0hQACCCCAAAIIIIBARoCABUsBgegLELCIfg2ZAQIIIIAAAggggAACCCCAAAIIIBCmAAGLMDVpCwEEEEAAAQQQQACBjAABC5YCAtEXIGAR/RoyAwQQQAABBBBAAAEEEEAAAQQQQCBMAQIWYWrSFgIIIIAAAggggAACGQECFiwFBKIvQMAi+jVkBggggAACCCCAAAIIIIAAAggggECYAgQswtSkLQQQQAABBBBAAAEEMgIELFgKCERfgIBF9GvIDBBAAAEEEEAAAQQQQAABBBBAAIEwBQhYhKlJWwgggAACCCCAAAIIZAQIWLAUEIi+AAGL6NeQGSCAAAIIIIAAAggggAACCCCAAAJhChCwCFOTthBAAAEEEEAAAQQQyAgQsGApIBB9AQIW0a8hM0AAAQQQQAABBBBAAAEEEEAAAQTCFCBgEaYmbSGAAAIIIIAAAgggkBEgYMFSQCD6AgQsol9DZoAAAggggAACCCCAAAIIIIAAAgiEKUDAIkxN2kIAAQQQQAABBBBAICNAwIKlgED0BQhYRL+GzAABBBBAAAEEEEAAAQQQQAABBBAIU4CARZiatIUAAggggAACCCCAQEaAgAVLAYHoCxCwiH4NmQECCCCAAAIIIIAAAggggAACCCAQpgABizA1aQsBBBBAAAEEEEAAgYwAAQuWAgLRFyBgEf0aMgMEEEAAAQQQQAABBBBAAAEEEEAgTAECFmFq0hYCCCCAAAIIIIAAAhkBAhYsBQSiL0DAIvo1ZAYIIIAAAggggAACCCCAAAIIIIBAmAIELMLUpC0EEEAAAQQQQAABBDICBCxYCghEX4CARfRryAwQQAABBBBAAAEEEEAAAQQQQACBMAUIWISpSVsIIIAAAggggAACCGQECFiwFBCIvgABi+jXkBkggAACCCCAAAIIIIAAAggggAACYQoQsAhTk7YQQKBkBZqbm8f39fVJO8AlS5asF0KYkh0sA0MAAQQQKAsBAhZlUUYmUeECBCwqfAEwfQQQQAABBBBAAAEEEEAAAQQQQCBLoJgBi3hDQ0NSSvlhKeUcY0yXMaZ14sSJS1tbW+2PnUO+ksnkVCnlfGNMvb0xFot1GGMe01q/NtyzQogt6ru+vn5aLBaz4242xqwzxrwwbty4F9va2t7Oo+8R3VJfX/+hWCy2jxBihpTyXSGErqmpeTgfo7q6uq3GjRu3uxDiI1LK3YwxSxOJxIs77bSTbmlp6R/RQIa/OeY4zseFEHOEEFOFEK+m0+mXOjo6fi+E8IZ/XIhZs2bVG2OqM/Vc+/LLL7+Rz3PcUxQBWV9f3zhu3LiBQEK+r3Q6/U6e38l8mwztPqXU5kCFMWYv13WfC61xGkIAAQQQQCCHAAELlgUCxRWYOXPmrtXV1RPz6bW3t/e9zs7OVcPdS8BiOCGuI4AAAggggAACCCCAAAIIIIAAApUlUJSAhQ0NxOPx/xFC7JSLV0p5SCqVemwQ+phS6nIhxCWDPHtFKpW6YrC/Rt+Svh3H2d4Y84AQYt9B+v5aKpW6Noy/hJ8zZ87kvr6+O40xR+foa42U8oxUKvXrwZZnMplcIKX86SDX3XQ6fXhnZ+fyMJa3UsqGOO4WQtj/zX69GIvFPt/e3v7yYH0ppSYIIb4thDjVv8cYc7PruueGMT7a2HKB3XfffZuNGzf2jLQlKeUvUqnUZ0f6nH//7Nmzd+7t7d3NvjfGdHd0dLSPtq3s54IBC8/z9u7o6Hg2rLZpBwEEEEAAgVwCBCxYFwgUV0ApZf//nIfk2esDWutPDXcvAYvhhLiOAAIIIIAAAggggAACCCCAAAIIVJZAwQMWDQ0NH4/FYo8PxyqlPDmVSt2VfV8ymfyulPKcoZ6XUn47lUqdn33PlvTtOE6dMeZRIURyqL6NMXe5rnvycPMb6npTU1NNf3//41LKvYeZ57GpVOq+HEYXSSmvGWYM3bFYbG57e/uLWzLWZDLpSCntX/7bkMRgr267i4bWWmff0NjYuLfneT+3O3QErxGw2JKqhP/sWAUslFL/VwhxU2ZGz2utPxrW7AhYhCVJOwgggAAC+QoQsMhXivsQCEdAKfVbIcRRebZGwCJPKG5DAAEEEEAAAQQQQAABBBBAAAEEEPj/BQodsJBKqdcDO1esMMZc7HmeTiQSexhjvhv4oX6N1ro2eLyE4zhzjTF/8IcrpVxmjPmWMUbGYrHzjDFN/jVjzP6u6z4VKO4W9a2Usjs0nBjo+1xjzF+EELts+uP6y4QQewb6cnKFCfJdaMlk8lIppd2FY+AlpXzY87w77fEbUsovB4y6x40bt9vSpUvf8e9Vm7b3EEKkAn09aoz5jhDiLXukyqbjUa4KXPuZ1npBvuPKdZ9SytZjbuDaDzzPeygWix0phPhi4PPfa60P8t/PnTs38dprr10spbS7kfzLi4DFllQl/GebmprG9ff33y6ljGW1Hlw/S4QQL2Vd/4vW+tbRjoiAxWjleA4BBBBAoBQFCFiUYlUYUyUL2F0De3t7/2H//1f2/5+VSqVuHM6DHSyGE+I6AggggAACCCCAAAIIIIAAAgggUFkCBQ1YZI6S2PwDrDFmmuu6r/rEyWRyPynln/z36XR6z87Ozr/677N+zO/edITGritWrHjPXq+rq9u2urp6ZSB88IEf9Lew7/imH3ptiGFglwYp5SdSqdSD/riC/2Euc/2cVCp1y2iWTn19/cR4PD4wp8zrUa31oQEDezzJnwPXv661/kbA8Ewp5ffse2PMM57nze3s7NwYeP5iIcTVmffdtbW127W0tPSPZqyO4xxgjGkJPHuR1vo6/73jOP9pjPkv/30w9NLY2Lib53ldgWd/JYT4N7vTRWbsHBEymqIU+RmllN2VZGBXl3z+o/SsWbO28zwvaYzZ0RjzthDi71rr17KHXV9fXx2Lxez3za7ngbCRDVR5nneA/efe3t6erq6uDdnPNTc3j+/u7m6w/2+LMebvkyZN6mhtbe3LxcIOFkVeLHSHAAIIICAIWLAIECgtAcdxrjDGXCqE6I7H47ssW7Zs2CPxCFiUVg0ZDQIIIIAAAggggAACCCCAAAIIIDDWAgUNWDiOc05ml4qBXRlSqZTd5SD4skGGzT/2G2P+w3Vdu3OEsDserF69evMPpcaY813X/Xbw4WQyeb6UcvNfHWmtE0KItL1nS/qur6//UDwe33yURk1NzbjsH20dx3nIGHNEZjw/0lqfOppiZo7MsDtj+C97tMYLwbaCfWU7KqV+I4T4pL0/1w/eyWTyI5kjPQaa9DxvZkdHx4rRjFUp9RUhxPWZZ//lP0rao07S6bT98dwPpmz+q7BgwMKvc3Be7GAxmooU/5l8AxaZAJQN/nwuxyjt0TtnaK3/7l9LJpNnSSkHDSlJKS9OpVKbwzuNjY0NnufdnrWbykBzUsr7N2zYcEpXV9e7wb4JWBR/vdAjAgggUOkCBCwqfQUw/1ISqK+v3zEej6+xYzLGXOC67rfyGR8Bi3yUuAcBBBBAAAEEEEAAAQQQQAABBBCoHIGCBizq6uq2EkJsNWHCBDlu3LiNra2t64O0M2fO3CmRSLzhfxaLxfZpb29/xr6fNWtWfX9/f0fg/qnZf/meTCanSilX+fcEwwNb0rcNd3R1ddXYca9bt87zd80Ijt1xnLbAESVf1Vp/czTLxnGck4wxP84862qt7ZEfH3glk8n/T0r5i8yH9iiVnf0bbKhh/fr1CTvWdDq9btmyZb3Bh5PJ5NFSyl/7n9XW1laNdgeLZDL5YynlSbYtY8wtruuekz1WpdT37Y/nmc83B09mzZo1vb+//x4hxAL/h3UCFqNZMWP7TD4BC7urRE9Pz2NCCLv7ymCvFfF4fN9ly5bZI4TESAIWSqnsXV1y9eGm0+mPdXZ2vulfJGAxtmuH3hFAAIFKFCBgUYlVZ86lKuA4zjXGmIvs7hXV1dW1S5YsWZfPWAlY5KPEPQgggAACCCCAAAIIIIAAAggggEDlCBQ0YDEco+M4txtjTs/c111TUzPFD2E0NDQcEYvFHvLbCO5O4X+WY5eLw13X/d1w/drrQ/U93PNKqROEED/z7zPGfNR13eeHey7XdaXUtUKICzPXPnA8iH+/4zj/box52n+fTqcndXZ2/nO4/mzIZKuttmoNBEEe1Fp/YrjnBruulGoVQuyZuX6h1trfzWLzI0opOxc7J/t6Xmv90UB70mYzAvPavAsIO1iMtirFfS6PgIVUSj0shDgsMDIbrHlKSrln4PtuLy/JhCx67JE+Ukp7BM3BQoijMs+ukVIOHG/jed4z/ncsa/eYFZuOH/melNL+NeI8IcQpge/l513X/an/noBFcdcKvSGAAAIICI4IYREgUCICTU1NU9Lp9OrMcM7TWt+U79AIWOQrxX0IIIAAAggggAACCCCAAAIIIIBAZQiMWcBCKWV/CL0zwGx3NtgcWnAc58vGGH9XiBVa65m5SqKUekUIMc1ey3WMyCDPDNn3UKXPHB/yR/8YDDsHrfVpo10uSqlHAj9G/0Br7e/+sLnJzO4P/wj08S/HiOToP5ZMJu/0d5yw12OxWLK9vT24K8hIhp19nMtnXdf1d9XY3I7jOJ81xtgf1AdeuYIx/jV2sBgJf2ncO1zAInvnGSnl11Kp1DX+6JVSxwkhfuW/l1Iekkql7G4XAy+l1P8VQvj/wTs7oOMfHXSzlDLueZ4xxlwXPPIma039xHXdgR1XMm1vDvd4nrd3R0fHs6WhyigQQAABBMpVgB0s/h979x4nSVXf//9zunt2cJlFEAO7sMK4O1OnenYXHzI/FB4oLl4QIsaghq9R8YtRUED5Csbb1yiKfo2iRFACxHgh4iWRoPGSGLx9J9E1gFnyk2Vm6tTMbia4urIJqNkLO5eu89szVs2vaHpmemaqe7qmX/2Hu9116lye5zQ7Tr/7nJU6s4wrbwK+71/v/r+i270iHeqvZxwELOpRogwCCCCAAAIIIIAAAggggAACCCDQPgLLErDQWr/88CkgdyTMSqmvBUHwsqrdDf7MWntVXOZxH7Qm92qt7xWR09xza+31YRj+8VzTV0/bs93veZ6vlHLtrYnL7FJKPSMIgodT9xR933+dtbZQqx6llF27du1nkmM60keNWGs/FIbhu6vv01q79mZ2rFBK/V4QBN+cZ5w3isiVKeMrgyD4ZPoerfUJIjLrjhbW2ofCMPyau8fzvCcrpWaOW6j+YDyp1/O88w6buNDI9KNUKh07ODj4SK2+ErDI339o5gtY1DjOxq2xStW6+2cRebZ7TSn17iAIPpR6P88ZsJhPzPf9N1hrb43L/dAYc1aqbgIW8wFyHQEEEEAgUwECFplyUhkCixKoOlbyLcYY9/+T6n4QsKibioIIIIAAAggggAACCCCAAAIIIIBAWwg0PWDh+/751tqZcIC19rsTExO/NzY2digt7nneFUqpm+LX9hpjjq81I1rrh0TkuPja5YfL3TLbzNXbdq3742/mu2M6krbc8QXPDIJgLF3eHcvR2dn56Dyr5yhjzD5XRmv9tyLiwiUuIHJbGIavrb63xq4ApxwOpOyYY5zJ+cLTRZRS1wZBcE11ea31cw9/0P39OfqaDra4ox9+k4RLrLWPOX4hqcP3/YuttZ+Ln+8zxhw1Rz85IiRn/5mpI2DxMaXUW+N19/dBEJxfPUTf99PhqcccWzPfDhZJXZs3bz5+cnLyBdZaF9R4qlLqaBE5VkQ2pNojYJGz9UV3EUAAgZUmQMBipc0o48mjgOd5n1BKvVlE9nZ1dT01OZKy3rEQsKhXinIIIIAAAggggAACCCCAAAIIIIBAewg0NWBRvbuBiGwrFovnDg0N7a/m9jzveUqp7yWvd3V1rdq+fftkulxfX9+qSqUynnrtucaY/1tr6hbSdvX9WuunisjdqXCFC0e4YzpMddmFBix833/f4XMOkvDDD4wxz6uu0/f951hrB5LXDxw4sHr37t01Qxy+77/fWvvepKxS6uNBELjtcB/3WGDAwoVBfiQiZ8YV/Ykx5v/UsHrP4dNIro1ff8wH3DXGRcAiZ/+dmS9gobX+hoi8OB7WLcaYy2u8t69WSl0fv/6Y43/qCVh4nvf7SqnPp3aSmU2RgEXO1hfdRQABBFaaAAGLlTajjCdvAuVy+eQoiqYD8S5kEQRBEuCveygELOqmoiACCCCAAAIIIIAAAggggAACCCDQFgJNC1j4vn+OtfaulOq2ycnJF+3atcvtivC4R09Pz/pisfiz5EKlUukZHR3dmS5YvbODiJxojPlFdWULbTt9f/xLORcsWB+/vrdSqZw9Ojo6NMsKKWqt3+l+hzfbCurq6vpIEhbxPO8VSqkvJ3UbY9amj0pxr1ftCvGYD6TTbWit0+EGd+kGY4wLV8wcjZAu7/t+t7X21XOs9J8bY5LdKFzAwu0O8kZXfrbdNjzPu00p9T/jOm82xlwxW/0cEZK//8bMF7DwfT+9e8pdxphzq0eZ+hahu3SnMcYdGTT9mC9gUbXFs7tlt4h81Vq7Qynl/ltyUSrgQcAif0uMHiOAAAIrSoCAxYqaTgaTQ4HU/39Z1O4VbsgELHI48XQZAQQQQAABBBBAAAEEEEAAAQQQaKBAUwIWNXZK+EGxWHxJrZ0rUmN1R1JEqecfNca8PW3h+/711tpkd4aax1Essu3pZuKQxz+ljh3YKyJn1dq5YrFz1NPT8/RisXhfcr9S6sVBEHwrVV9Ba/0TETk1fu0OY8yF1e35vv8ua+2HUq9/xBjjgh6ZPXzff5O19pNJhYVC4YTh4eE9yXOt9Qki8vPkubX2ijAMb56tAwQsMpuaplVUR8DipdbaO+MO7S0Wi08ZGhqaSHdQa32v2wEmfu0dxpjrUmvof7lgUPz8fmPM06re8+kjaPaOj4+fnD5eqCrgQcCiaSuDhhBAAAEEagkQsGBdILB8Aj09PRuLxeKo64G19k1hGP75YnpDwGIxatyDAAIIIIAAAggggAACCCCAAAIIrFyBhgcsent7zyoUCi6kkDwGurq6XlTP2bda66+IyB8kNxYKhe7h4eH/cM/j3Rf+PVXvV4wx/yM9VUts24UFfpgKV0gURRtHRkZ2Zbkc4iNF3JiOc/UqpYbWrl37tIGBgSn3XGvtxu8cph9KqTcGQfAX6T74vv/H1tqPJq9Za98XhuH7s+xn3JdTROSnqXZuCsPQnWc8/dBau19azhwJUSgUtgwPDz8wWz8IWGQ9Q42vb76ARXycTvo98pigj+/7l1pr0+v3ecaYHyQ99zzvCqXUzNbNpVLp2MHBwUdSayy9S8uudevW6eS9Eu9u4Y7ySXabIWDR+CVBCwgggAACcwgQsGB5ILB8Ap7nfU4pdfHh/3+y98CBA92zHbE4Xw8JWMwnxHUEEEAAAQQQQAABBBBAAAEEEECgvQQaGrDwfX+Ltfb+KlK3pf/Mrgfpa0qpbwdBcE3yWk9PT1+xWBxMl7HW3qSUKqQ/yI+v++mdJZbSdn9//+r9+/f/m4h4VX13O0nUejxS6yiEepeS53mvV0r9Zaq8M3K/ENxsrb0g/Xp8VMp48lrV8SHJy7P1031760NhGP5dvX2rLqe1/qKIvDL1umvrm/GxDMmuBO7y7caY18zVDgGLxc7C8t03X8DCZYC01l+oWiMDIuKO2XG7Ubw41fttBw4ceEH6l92+759vrXXrKXm4XWO+GkXRnSMjI9/zff851lpXX/L4tlt/SqnjrbWXJUGl+CIBi+VbKrSMAAIIIJA6WiDB0FrPeoQcYAggkJ2A1lqLSOBqnG9XvflaJWAxnxDXEUAAAQQQQAABBBBAAAEEEEAAgfYSaGjAonr3hflolVJ/HQTBH6bL1fjGe61qXm+M+Uz6wlLarj7qYr5+i0jN40nquC8pUtRaf05ELprjnn1KqbODINheNc7H7BoxX5tKqTcEQfCp+crNdt3zvCe7HUmstX1z1HG/Uuq5QRA8PFc7BCwWOwvLd18dAQvp6+tbFUXRV621L5prjaxatWrrjh07fpUus2XLlmMmJibcL8Ond3RJHkqpdwdB8KF4x5dtqSNzqptwx+0kx+kQsFi+pULLCCCAAAIELFgDCCybgNb6dhF59VJ3r3ADIGCxbNNIwwgggAACCCCAAAIIIIAAAggggEBLCjQ6YPFyEbljASP/kjHmVdXltdauno+kj+uIy+xSSr0tCIKvznLPotoul8vroij6tOUM4wAAIABJREFUxQL6vdSAhWzdurW0Z8+ed4rI20VkTVXbA9bat4RhOHM8R3Ld87xPKqXeVG9frbWXhGH46XrL1yq3cePG44rF4kfiLXeri3zGWvvOMAz/a742tNbfSO1ocIMx5qr57uH68gr4vj+YhGustVeHYfjxWj2Kd4H5PyLyuur1bK39q1Kp9M6hoaFf1rpXa32KUup91trnp+59uzFm+hgcrbV7f9wsIi9JXXc7Xbj3j3t8Nv5zwBhzdtKG1tomf7fWPiMMw1l3elleZVpHAAEEEFgpAhwRslJmknHkSaC3t3dDoVDYGff5cmPMLUvpPwGLpehxLwIIIIAAAggggAACCCCAAAIIILDyBBoasMiSq7+/v2P//v1PU0qdHNc7duSRR96/ffv2ySzbWe66NmzY8MRSqbRFRNYXCoUDURSNhGE4vb1tqz08zzvRWlsuFou/U6lU/rNQKAwZYxYSTGm1IdGfjAV6eno63VoulUpHW2v3d3V1/Wz79u0H623Gve8ffvjh4tjY2KEa97idX06y1k6EYeiOHYrqrZdyCCCAAAIINEOAgEUzlGkDgcYKELBorC+1I4AAAggggAACCCCAAAIIIIAAAnkTyE3AIm+w9BcBBBBAAAEEEECgvQUIWLT3/DP6lSFAwGJlzCOjQAABBBBAAAEEEEAAAQQQQAABBLISIGCRlST1IIAAAggggAACCCCQEiBgwXJAIP8CBCzyP4eMAAEEEEAAAQQQQAABBBBAAAEEEMhSgIBFlprUhQACCCCAAAIIIIBALEDAgqWAQP4FCFjkfw4ZAQIIIIAAAggggAACCCCAAAIIIJClAAGLLDWpCwEEEEAAAQQQQACBWICABUsBgfwLELDI/xwyAgQQQAABBBBAAAEEEEAAAQQQQCBLAQIWWWpSFwIIIIAAAggggAACsQABC5YCAvkXIGCR/zlkBAgggAACCCCAAAIIIIAAAggggECWAgQsstSkLgQQQAABBBBAAAEEYgECFiwFBPIvQMAi/3PICBBAAAEEEEAAAQQQQAABBBBAAIEsBQhYZKlJXQgggAACCCCAAAIIxAIELFgKCORfgIBF/ueQESCAAAIIIIAAAggggAACCCCAAAJZChCwyFKTuhBAAAEEEEAAAQQQiAUIWLAUEMi/AAGL/M8hI0AAAQQQQAABBBBAAAEEEEAAAQSyFCBgkaUmdSGAAAIIIIAAAgggEAsQsGApIJB/AQIW+Z9DRoAAAggggAACCCCAAAIIIIAAAghkKUDAIktN6kIAAQQQQAABBBBAIBYgYMFSQCD/AgQs8j+HjAABBBBAAAEEEEAAAQQQQAABBBDIUoCARZaa1IUAAggggAACCCCAQCxAwIKlgED+BQhY5H8OGQECCCCAAAIIIIAAAggggAACCCCQpQABiyw1qQsBBBBAAAEEEEAAgViAgAVLAYH8CxCwyP8cMgIEEEAAAQQQQAABBBBAAAEEEEAgSwECFllqUhcCCCCAAAIIIIAAArEAAQuWAgL5FyBgkf85ZAQIIIAAAggggAACCCCAAAIIIIBAlgKLDlhU/8I4y05RFwIIIIAAAggggAACCCCAAAKtIqC1Vq3SF/qBAAIIIIAAAggggAACCCCAAAIIILB8AgQsls+elhFAAAEEEEAAAQQQQAABBHIgQMAiB5NEFxFAAAEEEEAAAQQQQAABBBBAAIEmCCw6YNGEvtEEAggggAACCCCAAAK5FeCIkNxOHR1HYEaAI0JYDAgggAACCCCAAAIIIIAAAggggAACaQECFqwHBBBAAAEEEEAAAQQaIEDAogGoVIlAkwUIWDQZnOYQQAABBBBAAAEEEEAAAQQQQACBFhcgYNHiE0T3EEAAAQQQQAABBPIpQMAin/NGrxFICxCwYD0ggAACCCCAAAIIIIAAAggggAACCKQFCFiwHhBAAAEEEEAAAQQQaIAAAYsGoFIlAk0WIGDRZHCaQwABBBBAAAEEEEAAAQQQQAABBFpcgIBFi08Q3UMAAQQQQAABBBDIpwABi3zOG71GIC1AwIL1gAACCCCAAAIIIIAAAggggAACCCCQFiBgwXpAAAEEEEAAAQQQQKABAgQsGoBKlQg0WYCARZPBaQ4BBBBAAAEEEEAAAQQQQAABBBBocQECFi0+QXQPAQQQQAABBBBAIJ8CBCzyOW/0GoG0AAEL1gMCCCCAAAIIIIAAAggggAACCCCAQFqAgAXrAQEEEEAAAQQQQACBBggQsGgAKlUi0GQBAhZNBqc5BBBAAAEEEEAAAQQQQAABBBBAoMUFCFi0+ATRPQQQQAABBBBAAIF8ChCwyOe80WsE0gIELFgPCCCAAAIIIIAAAggggAACCCCAAAJpAQIWrAcEEEAAAQQQQAABBBogQMCiAahUiUCTBQhYNBmc5hBAAAEEEEAAAQQQQAABBBBAAIEWFyBg0eITRPcQQAABBBBAAAEE8ilAwCKf80avEUgLELBgPSCAAAIIIIAAAggggAACCCCAAAIIpAUIWLAeEEAAAQQQQAABBBBogAABiwagUiUCTRYgYNFkcJpDAAEEEEAAAQQQQAABBBBAAAEEWlyAgEWLTxDdQwABBBBAAAEEEMinAAGLfM4bvUYgLUDAgvWAAAIIIIAAAggggAACCCCAAAIIIJAWIGDBekAAAQQQQAABBBBAoAECBCwagEqVCDRZgIBFk8FpDgEEEEAAAQQQQAABBBBAAAEEEGhxAQIWLT5BdA8BBBBAAAEEEEAgnwIELPI5b/QagbQAAQvWAwIIIIAAAggggAACCCCAAAIIIIBAWoCABesBAQRWtEB/f//qyclJ5QZ5//33HxQRu6IHzOAQQAABBFpGgIBFy0wFHUFg0QIELBZNx40IIIAAAggggAACCCCAAAIIIIDAihQgYLEip5VBIYBAIqC1nglUWGufGYbhvW2gU+zt7fWUUv+PUmqLtXbMWrv9qKOO2rF9+3YXMuGxwgV6e3vLHR0dhYUM8+DBgzvHxsYOLeSeRpbdvHnz8ZOTkyNxG6cZY0wj26NuBBohQMCiEarUiUB9Aps2bXrS1NTUM6y1zygUCr+KouieUqn0/w4NDU3UV8NvSxGwWIgWZRFAAAEEEEAAAQQQQAABBBBAAIGVL0DAYuXPMSNEIFOB4eHhreVyeSDTShtYWTpgEUXR6SMjI/c0sLllr7qnp+fpxWLxH0XkuFqdUUq9MAiC7yx7R+lAwwS6u7uP6OzsfHShDRQKhTOGh4fvXuh9rnx3d/fRHR0d61atWjU5ODg4upg6qu/xPO9EpdRu93qhUNgyPDz8QBb1UgcCzRQgYNFMbdpCYEag6HneDUqpN9Uw2ScizzXG/Gu9XgQs6pWiHAIIIIAAAggggAACCCCAAAIIINAeAgQs2mOeGSUCmQnEv2R+v9b6fZlV2sCK2ilg0dvb+/xCofDd+TiVUq8NguC2+cpxPZ8CPT09ncViccE7USxlhxet9RtF5BYR2WeMOSoLOQIWWShSx3ILELBY7hmg/XYT6O/v79i/f7/7GeeVbuxKqSER2RZFUbdS6gWJRxRFzxkZGfnnenwIWNSjRBkEEEAAAQQQQAABBBBAAAEEEECgfQQIWLTPXDNSBDIRSH7JrJQa8Dzv7EwqbWAlbRSwUIc/5P5laueKXdbad0dRZEql0tOstZ8QkTUx9V5jzDoRiRpIT9UtJuD7/vXW2quttXeHYXhGlt0jYJGlJnWtJAECFitpNhlLHgR83z/HWntX3Nd3GmM+kvTb87zTlFLfj38e+qYx5vfqGRMBi3qUKIMAAggggAACCCCAAAIIIIAAAgi0jwABi/aZa0aKQCYC6Q+LljFkUSyXyxumpqa8Uqm0Z/Xq1cH27dsP1hpgrYCF+4Z/qVTqj6KosGbNmvtmuzdd36ZNm06amJjoLhaLR0VR9NDU1FS4a9eu39Rqs7+/f/W+fftWu2tr1qw5GNdf7O3tPblYLJ4kIg8fOnRoZGxsbMG7DMw2iVrrU0Tkp8l1a+36MAx/nvpQ4dlKqZlvalYqlVNHR0f/LZNFQSW5EFhMwGLLli3HPProowdHR0fH5xrkQgMW7hvG4+PjT3rggQcemq1edrDIxbKik/MIELBgiSDQXAGt9XUi8ja3a4Ux5lnVrWut33P45Klr3esHDhxYvXv37nmP1CJg0dw5pDUEEEAAAQQQQAABBBBAAAEEEECg1QUIWLT6DNE/BFpMoPrDIte9KIrOLpfLA43uand39xGdnZ3um4hX1mhrW6lUunhwcHA0fS0dsCgUCmdUKpVXKqXenC6jlPra/v37X1Xrl+xxcOFmETmzRpu3Hjhw4Orq+zzP+2Tq3G93bMIXlVKfstb2perYZ619UxiGn8/Czff9N8e7VLjtsP8+CILzq+otaq2nktesta8Jw/D2LNqmjnwI1Buw6OnpeXqxWHyFiJwrIi644x7u28A/KJVKnx4cHHwkGbHW+lUi8mepnVPcpb3uf5RSXw+C4NKk7NatW0t79uy5SkRenap3n4j8OIqij42MjHwvLUnAIh/ril7OLUDAghWCQHMFtNZ/KyJPV0rdHATB9dWt+75/vrX2m+71UqnUW/1zY63eErBo7hzSGgIIIIAAAggggAACCCCAAAIIINDqAgQsWn2G6B8CLSZQK2DhutjokEUcrtgmIqfORVIoFPqHh4fvS8qkAxbxh8QvrHW/C1kEQfDy9LEZ5XK5N4qi7amjNR53q7tv7dq1Fw4MDMyEF9IBC3ccg1Lq9Nn6rJR6YRAE31nqNDsfETlizZo1atWqVePVu3Js3LjxuFKpNLNbgAubDA8P373Udrk/PwL1BCyqd0KpMbptXV1d5yTry/O8S1x4aBaFO40x7j0lfX19q6ampv5prveCC14YY76Y1EXAIj9ri57OLkDAgtWBQGsJeJ53hVLqJterdevWdaR/fputpwQsWmsO6Q0CCCCAAAIIIIAAAggggAACCCCw3AIELJZ7BmgfgZwJzBawiIfxfq31+xoxJM/zzlNK/UOq7tcXi8W7K5WK2xXigyLiuWvW2tvCMHxtUq4qYOFe3iUidyilPGvtBVV99Y0xxr22efPm4ycnJ/9VRNbHZdyOE7eJSKCUOkdEXpK69zPGmNcnz6t2sJh+WSk15AIeURRtVkq9IHXvvkKhsGV4ePg/GuGW1On7vttB45JkLF1dXWvrORqlkX2i7uYKzBewKJfLJ0dRdG+8G8UupdTbRWTAWvtka+3vKqXcThXu8XVjzMtEpOJ2pdi7d+8RU1NTlyqlpr8pXCwW17g/JyYmJpOjRTzPu0gplezW8p4oir40OTn5SGdn51mHb/lAvKPFXmPM8an30YlKqd3uefweeaC5YrSGwNIFCFgs3ZAaEMhKoK+vr6tSqQzHP9u5f8t+v566CVjUo0QZBBBAAAEEEEAAAQQQQAABBBBAoH0ECFi0z1wzUgQyEZgnYOHaaEjIQmt9Y+pokC8YYy5KBtTb21suFovT4QFr7X5jzHuTa+mAhQs5dHR0PGvHjh2/ctfL5fLpURT9SwrmQmPMHe657/sXW2s/l1yz1p4VhuEPU/X++eGjEC5P3XuUMcYddyDVAYvq0Ifnea9QSn05Vbc7KsTV15CH1vqPROQzqcovMsZ8oSGNUWnLCswXsPA87xqlVBKQepox5v70YHzff6u19mPutUqlcuro6Oi/pd4PbxQRdxzOPmPMUdUIWuuXuyNyXGDCGPPZqnpfaq29072W3q6dHSxadinRsQUIELBYABZFEWisgPI877NKqYur/72Zr1kCFvMJcR0BBBBAAAEEEEAAAQQQQAABBBBoLwECFu0134wWgSUL1BGwcG1kHrLQWr/j8BEYH04G4HZj6Ojo+Org4OAjcw0qHbCw1lYHGQpa618nR4BYa68Jw/BaV5/W+mYRuSyu+3ZjzGvS7fT396/ev3//gVR/nh2G4Y/c86qAxb5au0Vorb8hIi925ZVSfxkEwaVLnpwaFbgPtt2OHcml+CgUt/uAbUR71Nm6AvMFLLTWboeY8w7vYHGzMeaKGiNRWuvfxO+X16WDElrrOQMWc6msX7/+CUceeeTB+L0wc2QOAYvWXUv0rH4BAhb1W1ESgUYKeJ73XqXU++N/a64MguCT9bZHwKJeKcohgAACCCCAAAIIIIAAAggggAAC7SFAwKI95plRIpCZwDIGLE4RkZ9WD8TtShFF0fcPHyFwZxAELuBQSZdJByyiKHrOyMjIP6ev+77/1dRRIR80xrzHXddau7Zcm25XjLeGYZgcjzBzu+/7g+5b+fELVxljbnB/rwpYDBhjzq7ut+/777LWfih+/T5jTH9mkxRX5Pv++dbabyb1Wmu/OzEx8XtjY2OHsm6L+lpfYJ6ARTo8cZkx5tZaI9Jaf19Enut2qzDGzOzgUmfAQvX09GwoFounxu+tY5VSx0RR5P6cPjZHKUXAovWXEj1cgAABiwVgURSBBglorV93+FiQT8c/010fhuEfL6QpAhYL0aIsAggggAACCCCAAAIIIIAAAgggsPIFCFis/DlmhAhkKlBHwCLz3SuSAfT29j6/UCi4YzvWzzKoUETONcb8e3K9KmBx+sjIyD3pe33f/7K19hXxa+mAxcwOD+56GIZ/U92m7/vfsta+KH595lv/6YBF9fEgqX69WkRuj5/XPFZhKRPned55Sim3I0Hy2FYsFs8dGhrav5R6uTe/AnMFLDZu3HhcqVR6KB7decaYf6w1Uq21OwbE7VbxQ2PMWan1POcOFj09PUeVSqXbUmGmmpAELPK7vuh5bQECFqwMBJZXwPf9mWOoDmdgvxQfMRctpFcELBaiRVkEEEAAAQQQQAABBBBAAAEEEEBg5QsQsFj5c8wIEchUYJ6ARcPCFalBFH3ff7a19lwReZaInFk1wNAYo5PXlhCwuFdETovreYcx5rpqSK21cRtWuNfTx49U7WCxzRjj+vmYh9ba7ZQxfRyJiPzEGPOMrCbK9/1zrLV3perbNjk5+aJdu3a54x14tKnAPDtYzByX447fCcNw+pu+NdatC168sPpYm/l2sEgdP+KqvEsp9a0oinYWi8VfWWsPWGvvdxcIWLTp4lzBwyZgsYInl6G1vIDnec9TSn0v7ug3i8Xiy4eGhiYW2nECFgsVozwCCCCAAAIIIIAAAggggAACCCCwsgUIWKzs+WV0CGQuMEfAohnhiseNR2t9grX2GqXUpclFpdRTgyAYc8+XELC4UUSujOu8wxhzYbrx7u7uozs7O3+VvFYoFM4YHh6+2z2vCljIqlWrnrRjx46ZsnG/kqMW3NNbjTGXZTFZWmt3fIOrO3n8oFgsvoSdK7LQzXcd8wQs3Lr9TnxUxw3GmKtqjVZr7Xa5OE4p9YYgCD6VlJkrYLFhw4YndnR0/NqVde/VMAyTYNH07T09PRuLxeKo+zsBi3yvMXr/eAECFqwKBJZHwPO805RSLizrHneNj4///mKPSCNgsTxzSKsIIIAAAggggAACCCCAAAIIIIBAqwoQsGjVmaFfCLSoQK2ARRRFZ5fL5YFGdllr/XkROTpu43ZjzB1Je319fZsqlcoDyfNKpfKU0dHR3e75EgIW6SM8JIqi80dGRv4+aUNr/UUReWXyvKur68jt27cfdM+rAxYi8k1jzAUiUomvX6GUuinldbkxxh29sKRHb2/vWYVC4Z9SlQx0dXW9KOnXkirn5twLzBew0Fp/QET+RET2lUqlUwcHB6dDD6k1nz7D/hlhGP4kueb7/hustbe651NTU8fv3Llzb+ralmSHChF5iTHmG1X1vl1EPuJeI2CR+2XGAKoECFiwJBBovkBvb2+5UCi4I+HWiMiSfxYiYNH8OaRFBBBAAAEEEEAAAQQQQAABBBBAoJUFCFi08uzQNwRaUCD9YZFSasDzvLOb0U3P8z6hlHpz0pb7Jry19seFQsGFLtxxG6e4a4ePDrk7DMMzknKLDVhs2bLlmImJCbcjxfQRIPHjDqXUTmvt81LHh7hL1xlj3pEUqhGwcJf2iYjbIaBsre1L1ek+iH66MeYXS3H0fT/9IXZSlQuZ7KlVr1Lq20EQXLOUNrk3XwJ1BCzc0TouNLFGKTVUqVQus9beUyqVug7/eZ6I3B6P2H1Ydc727dsnEwHf919srZ0OTlhr/zSKoo+Pjo4+LCLR1q1bS3v27HnE1even0qpi40xxr3HxsfHX6uUuj6ph4BFvtYUvZ1fgIDF/EaUQCBLgXK5fHIURW7niuPif5OeKSL/XauNiYmJX46NjU3vsDTXg4DFfEJcRwABBBBAAAEEEEAAAQQQQAABBNpLgIBFe803o0VgyQKpD4uaeiTIpk2beqamprYlvzCfZSD7rLUXhGE4c0TGYgMWrn7P805USrmQxfo54D5rjLnEfZCclKkKWHxbRJ4Vf4vycdUopc4MguDHS50YrfUfiMhX6q1HKfXXQRD8Yb3lKZd/gfkCFm6EWuszReRHs43WBS8OHTp0ZvUHUn19fWsrlUp1mGfmaB2ttTsWxAWhkocLHLlvFrtAxnfjo0nYwSL/y4wRVAkQsGBJINBcAa3137ndkups9S3GGHck3JwPAhbzCXEdAQQQQAABBBBAAAEEEEAAAQQQaC8BAhbtNd+MFoElC8S/ZG5quCLpdLyrxEdF5MKqwIL7sPYHpVLpysHBwQfTg0wHLKy1jznWwJVLH/WhlLq2eleHONjxYRF5WRWea/OGdevWXTswMDCVvlYVsLgliqJPKqVuTD5EjsvuOvyNyquNMV9f8qT8dhwvF5GZY1PqqPNLxphX1VGOIitEQGt9nYi8TUS2GWNc6Kfmw/f950RR5HaWcLtWTH8DWETud2fYW2tvDMPw57Vu9DzveUop18ap7rpS6mtBELw0Kau1fouIvCsdkrLW3tTZ2fneiYkJt8OFO4rnBSMjI9+L35sniMh0W5VKZdPo6OjQCpkKhtFGAgQs2miyGWpLCGit/0FE3L9f8z7czmhBEKSPbKt5DwGLeSkpgAACCCCAAAIIIIAAAggggAACCLSVAAGLtppuBovA0gWGh4e3lsvlgaXXtLQaPM97chRFTxGR/xwdHXVHYTT0obVeE0XR+lKp9ARr7SNr167dXR2sSDpQHbAwxlzurvX19XWJyMki8vDQ0NBD7sv7yT2+7x9bKBQ6FjOIoaGhXy7mPu5BYB4B5fu+22p9fxiG/1WvljsS5MEHHzzypJNOOlDrPaK1PqFUKq0+cODA7rGxsUP11ks5BPIoQMAij7NGnxF4rAABC1YEAggggAACCCCAAAIIIIAAAggggEBagIAF6wEBBBDIWGC2gMVczWitfzbPUSSz3m6t/Z2FfACe8XCpDgEEEEBgFgECFiwNBPIvQMAi/3PICBBAAAEEEEAAAQQQQAABBBBAAIEsBQhYZKlJXQgggICIELBgGSCAAAIIOAECFqwDBPIvQMAi/3PICBBAAAEEEEAAAQQQQAABBBBAAIEsBQhYZKlJXQgggMAiAxae531HKeWOD1nwY3x8/JljY2O/XvCN3IAAAggg0FABAhYN5aVyBJoiQMCiKcw0ggACCCCAAAIIIIAAAggggAACCORGgIBFbqaKjiKAQF4Eent7NxSLxbWuv5VK5ZcjIyO78tJ3+okAAgggkJ0AAYvsLKkJgeUSIGCxXPK0iwACCCCAAAIIIIAAAggggAACCLSmAAGL1pwXeoUAAggggAACCCCQcwECFjmfQLqPQOqoH621AgQBBBBAAAEEEEAAAQQQQAABBBBAAAECFqwBBBBAAAEEEEAAAQQaIEDAogGoVIlAkwXYwaLJ4DSHAAIIIIAAAggggAACCCCAAAIItLgAAYsWnyC6hwACCCCAAAIIIJBPAQIW+Zw3eo1AWoCABesBAQQQQAABBBBAAAEEEEAAAQQQQCAtQMCC9YAAAggggAACCCCAQAMECFg0AJUqEWiyAAGLJoPTHAIIIIAAAggggAACCCCAAAIIINDiAgQsWnyC6B4CCCCAAAIIIIBAPgUIWORz3ug1AmkBAhasBwQQQAABBBBAAAEEEEAAAQQQQACBtAABC9YDAggggAACCCCAAAINECBg0QBUqkSgyQIELJoMTnMIIIAAAggggAACCCCAAAIIIIBAiwsQsGjxCaJ7CCCAAAIIIIAAAvkUIGCRz3mj1wikBQhYsB4QQAABBBBAAAEEEEAAAQQQQAABBNICBCxYDwgggAACCCCAAAIINECAgEUDUKkSgSYLELBoMjjNIYAAAggggAACCCCAAAIIIIAAAi0uQMCixSeI7iGAAAIIIIAAAgjkU4CART7njV4jkBYgYMF6QAABBBBAAAEEEEAAAQQQQAABBBBICyw6YFH9C2NYEUAAAQQQQAABBBBAAAEEEFiJAlprtRLHxZgQQAABBBBAAAEEEEAAAQQQQAABBBYmQMBiYV6URgABBBBAAAEEEEAAAQQQaDMBAhZtNuEMFwEEEEAAAQQQQAABBBBAAAEEEJhFYNEBC0QRQAABBBBAAAEEEEBgdgGOCGF1IJB/AY4Iyf8cMgIEEEAAAQQQQAABBBBAAAEEEEAgSwECFllqUhcCCCCAAAIIIIAAArEAAQuWAgL5FyBgkf85ZAQIIIAAAggggAACCCCAAAIIIIBAlgIELLLUpC4EEEAAAQQQQAABBGIBAhYsBQTyL0DAIv9zyAgQQAABBBBAAAEEEEAAAQQQQACBLAUIWGSpSV0IIIAAAggggAACCMQCBCxYCgjkX4CARf7nkBEggAACCCCAAAIIIIAAAggggAACWQoQsMhSk7oQQAABBBBAAAEEEIgFCFiwFBDIvwABi/zPISNAAAEEEEAAAQQQQAABBBBAAAEEshQgYJGlJnUhgAACCCCAAAIIIBALELBgKSCQfwECFvmfQ0aAAAIIIIAAAggggAACCCCAAAIIZClAwCJLTepCAAEEEEBWE4UAAAAgAElEQVQAAQQQQCAWIGDBUkAg/wIELPI/h4wAAQQQQAABBBBAAAEEEEAAAQQQyFKAgEWWmtSFAAIIIIAAAggggEAsQMCCpYBA/gUIWOR/DhkBAggggAACCCCAAAIIIIAAAgggkKUAAYssNakLAQQQQAABBBBAAIFYgIAFSwGB/AsQsMj/HDICBBBAAAEEEEAAAQQQQAABBBBAIEsBAhZZalIXAggggAACCCCAAAKxAAELlgIC+RcgYJH/OWQECCCAAAIIIIAAAggggAACCCCAQJYCBCyy1KQuBBBAAAEEEEAAAQRiAQIWLAUE8i9AwCL/c8gIEEAAAQQQQAABBBBAAAEEEEAAgSwFCFhkqUldCCCAAAIIIIAAAgjEAgQsWAoI5F+AgEX+55ARIIAAAggggAACCCCAAAIIIIAAAlkKELDIUpO6EEAAAQQQQAABBBCIBQhYsBQQyL8AAYv8zyEjQAABBBBAAAEEEEAAAQQQQAABBLIUIGCRpSZ1IYAAAggggAACCCAQCxCwYCkgkH8BAhb5n0NGgAACCCCAAAIIIIAAAggggAACCGQpQMAiS03qQgABBBBAAAEEEEAgFiBgwVJAIP8CBCzyP4eMAAEEEEAAAQQQQAABBBBAAAEEEMhSgIBFlprUhQACLSfQ39+/enJyUrmO3X///QdFxLZcJ+kQAggggMCKFCBgsSKnlUG1mQABizabcIaLAAIIIIAAAggggAACCCCAAAIIzCNAwIIlggACK1pAaz0TqLDWPjMMw3tX9IBFZNOmTSdVKpWnWWv7ROTn1todExMTZmxs7NBKHzvj+61Ab29vuaOjo7AQj4MHD+5spTWyefPm4ycnJ0fiMZxmjDELGQ9lEWgFAQIWrTAL9AGB3wp4nvfkUqnk/m2JRkZGhut1IWBRrxTlEEAAAQQQQAABBBBAAAEEEEAAgfYQIGDRHvPMKBHITGB4eHhruVweyKzCBleUDlhEUXT6yMjIPQ1uctmqdx+qFwqFv3OfIdTqhLX2kjAMP71sHaThpgh0d3cf0dnZ+ehCGysUCmcMDw/fvdD7XPnu7u6jOzo61q1atWpycHBwdDF1VN/jed6JSqnd7vVCobBleHj4gSzqpQ4EmilAwKKZ2rSFwOwCWus/EJHPiMgaV2rdunUdAwMDU/WYEbCoR4kyCCCAAAIIIIAAAggggAACCCCAQPsIELBon7lmpAhkIhD/kvn9Wuv3ZVJhgytpl4BFb2/v8wuFwnfn47TW3hSG4ZvnK8f1/Ar09PR0FovFBe9WspQdXrTWbxSRW0RknzHmqCz0CFhkoUgdyy1AwGK5Z4D2212gr6+vq1Kp3CAir0tbELBo95XB+BFAAAEEEEAAAQQQQAABBBBAAIHFCxCwWLwddyLQlgLJh0VKqQHP885udYR2CVhord3xCcnOFXtF5H8rpYattSeKyDtF5NRkrqampo7fuXOnK8OjjQR837/eWnu1tfbuMAzPyHLoBCyy1KSulSRAwGIlzSZjyZuA7/v9h49L+4qIbHB9V0oNxcensYNF3iaT/iKAAAIIIIAAAggggAACCCCAAAItJEDAooUmg64gkAeB9IdFyxiyKJbL5Q1TU1NeqVTas3r16mD79u0Ha/nVCli4b/iXSqX+KIoKa9asuW+2e9P1bdq06aSJiYnuYrF4VBRFD01NTYW7du36Ta02+/v7V+/bt2+1u7ZmzZqDcf3F3t7ek4vF4kki8vChQ4dGxsbGFrzLQK32enp6nl4sFu9LXTvRGPOL5LnW2m2H/fNkW2wRucgY84U8rDf6mJ3AYgIWW7ZsOebRRx89ODo6Oj5XTxYasOjv7+8YHx9/0gMPPPDQbPWyg0V2c09NyydAwGL57GkZgVT4dF8URX9YKBTcz2YucEHAguWBAAIIIIAAAggggAACCCCAAAIIILBoAQIWi6bjRgTaU6D6wyKnEEXR2eVyeaDRIt3d3Ud0dnZ+RESurNHWtlKpdPHg4OBo+lo6YFEoFM6oVCqvVEo95ogMpdTX9u/f/6rdu3c/Wl2v1voUEblZRM6s0eatBw4cuLr6Ps/zPqmUelNc3h2b8EWl1KeSb03Gr++z1r4pDMPPL9VNa/17IuKOaJB4d4Jra4zjR8kY4nb/fKntcn++BOoNWMSBnVeIyLki4ta/e9wlIj8olUqfHhwcfCQZudb6VSLyZ4ffI8elNKZ3R1FKfT0IgkuT17du3Vras2fPVSLy6lS9+0Tkx1EUfWxkZOR7aVECFvlaX/S2tgABC1YGAssn4AIW1tr/UEpd7IKnWus/IGCxfPNBywgggAACCCCAAAIIIIAAAggggMBKESBgsVJmknEg0CSBWgEL13SjQxZxuGJb+qiLWkMuFAr9w8PDM7s5pAMW8YfEL6x1nwtZBEHwcjeU5Hq5XO6Nomh7aueHx93q7lu7du2FAwMDU8nFdMDCBR6UUqfPNj1KqRcGQfCdRk7fxo0bjyuVSjM7BVQqlVNHR0f/rZFtUnfrCdQTsIgDRT+do/fburq6zkl2ffE87xIXHpql/J3GGPeekr6+vlVTU1P/NNd7wQUvjDFfTL2PTlRK7XbPC4XCluHh4QdaT5UeITC3AAELVggCyyfg+/75QRB8W0QqrhcELJZvLmgZAQQQQAABBBBAAAEEEEAAAQQQWEkCBCxW0mwyFgSaIDBbwCJu+v1a6/c1ohue552nlPqHVN2vLxaLd1cqlT4R+aCIeO6atfa2MAxfm5SrCli4l3eJyB1KKc9ae0FVX31jjHGvbd68+fjJycl/FZH1cRm348RtIhIopc4RkZek7v2MMeb1yfOqHSymX3bnfruARxRFm5VSL0jduy/+8Pg/snKLj3U48vDOAkeVSqWnWWuvS8Zhrf2rMAz/KB0kyapd6mltgfkCFuVy+eQoiu6Nd6PYpZR6u4gMWGufbK39XaWU26nCPb5ujHmZ+8DK7Uqxd+/eI6ampi5VSl3vLhaLRXckjUxMTEwmR4t4nneRUirZreU9URR9aXJy8pHOzs6zDt/ygXhHi73GmONT7yMCFq29pOhdHQIELOpAoggCTRIgYNEkaJpBAAEEEEAAAQQQQAABBBBAAAEEVrgAAYsVPsEMD4GsBeYJWLjmGhKy0FrfmDoa5AvGmIuSsfX29paLxeIl7rm1dr8x5r3JtXTAwoUcOjo6nrVjx45fuevlcvn0KIr+JWV0oTHmDvfc9/2LrbWfS65Za88Kw/CHqXrdERuXp+49yhjjjjuQ6oBFdejD87xXKKW+nKrbHRWS2ZEdvu9/tUZ4xPXto+vWrfvT9G4bWa8P6mtdgfkCFp7nXaOUSgJSTzPG3J8eje/7b7XWfsy9Vr0LitbaHVHjjsPZZ4w5qlpBa/1yd0SO25HCGPPZqnpfaq29071WKpV6k2N+OCKkddcSPatfgIBF/VaURKDRAgQsGi1M/QgggAACCCCAAAIIIIAAAggggEB7CBCwaI95ZpQIZCZQR8DCtZV5yEJr/Q4R+XAyEGvtJR0dHV8dHBx8ZK7BpQMW1trqIENBa/3r5AgQa+01YRhe6+rTWt8sIpfFdd9ujHlNup3+/v7V+/fvP5Dqz7PDMPyRe14VsNjX1dW1NjlSISmvtf6GiLzYPVdK/WUQBJdmNUmzBCxc9V85vHPFe5NdOrJqj3ryITBfwEJr7XaIOe/wDhY3G2OuqDEqpbX+Tfx+eV06KDFfwGIuofXr1z/hyCOPPBi/F2aOzCFgkY91RS/nFiBgwQpBoHUECFi0zlzQEwQQQAABBBBAAAEEEEAAAQQQQCDPAgQs8jx79B2BZRBYxoDFKSLy0+ohu10poij6/uFjNu4MgsAFHKbP2U4e6YBFFEXPGRkZ+ef09aowwgeNMe9x17XWri3XptsV461hGCbHI8zc7vv+oPtWfvzCVcaYG9zfqwIWA8aYs6v77fv+u6y1H4pfv88Y05/VdPb29j5fKdWtlDpWRNxxJs9N122tfWYYhu4oCB5tJDBPwCIdnrjMGHNrLRqt9ffj9XSLMWZmB5c6Axaqp6dnQ7FYPDV+bx2rlDomiiL35/SxOUopAhZttCbbYagELNphlhljXgQIWORlpugnAggggAACCCCAAAIIIIAAAggg0NoCBCxae37oHQItJ1BHwCLz3SsSBBccKBQK7tiO9bPAhCJyrjHm35PrVQGL00dGRu5J3+v7/petta+IX0sHLGxSzl0Pw/Bvqtv0ff9b1toXxa/PfOs/HbCoPh4k1a9Xi8jt8fOaxypkNflbtmw5ZmJiYiAJjIhIpoGOrPpJPY0VmCtgsXHjxuNKpdJDcQ/OM8b8Y63eaK3dMSDuOJAfGmPOSq3nOY8I6enpOapUKt1W4+iaxzRDwKKxa4Damy9AwKL55rSIwGwCBCxYGwgggAACCCCAAAIIIIAAAggggAACWQgQsMhCkToQaCOBeQIWDQtXpIiLvu8/21p7rog8S0TOrOIPjTE6eW0JAQu3w8NpcT3vMMZcVz3NWmvjNqxwr6ePH6nawWKbMcb18zEPrbXbKWP6OBIR+Ykx5hmNXEZa63SgQ7q6uo6sPrakke1T9/ILzLODxcxxOe74nTAMP12rx1prF7x4YfWxNvPtYJE6fsRVe5dS6ltRFO0sFou/stYesNbe7y4QsFj+dUIPshUgYJGtJ7UhsBQBAhZL0eNeBBBAAAEEEEAAAQQQQAABBBBAAIFEgIAFawEBBBYkMEfAohnhisf1VWt9grX2GqXUpclFpdRTgyAYc8+XELC4UUSujOu8wxhzYbrx7u7uozs7O3+VvFYoFM4YHh6+2z2vCljIqlWrnrRjx46ZsnG/kqMW3NNbjTGXLWgiUoW11u5olCRo8k5jzEeq6/J9/1Jr7V8kr1cqleNGR0f/c7Ftcl/+BOYJWLh1+534qI4bjDFX1Rqh1trtcnGcUuoNQRB8KikzV8Biw4YNT+zo6Pi1K+veq2EYJsGi6dt7eno2FovFUfd3Ahb5W1f0eG4BAhasEARaR4CARevMBT1BAAEEEEAAAQQQQAABBBBAAAEE8ixAwCLPs0ffEVgGgVoBiyiKzi6Xy+4IioY9tNafF5Gj4wZuN8bckTTW19e3qVKpPJA8r1QqTxkdHd3tni8hYPGYHR+iKDp/ZGTk75M2tNZfFJFXJs/TO0JUByxE5JvGmAtEpOLKe553hVLqphTW5cYYd/TCoh5a67eIyMfjm/dWKpWzR0dHh5LKyuXyOmvt96y1ffFrDT2SZFGD4KaGC8wXsNBaf0BE/kRE9pVKpVMHBwenQw+pNf+6w8fzTO9sYa19RhiGP0mu+b7/Bmvtre751NTU8Tt37tyburYl2aFCRF5ijPlGVb1vF5HpUBABi4YvAxposgABiyaD0xwCcwgQsGB5IIAAAggggAACCCCAAAIIIIAAAghkIUDAIgtF6kCgjQTSHxYppQY8zzu7GcP3PO8TSqk3J225b8Jba39cKBRc6MIdt3GKu3b46JC7wzA8Iym32IDFli1bjpmYmHA7UkwfARI/7lBK7bTWPi91fIi7dJ0x5h1JoRoBC3dpn4i4HQLKqaCDe919EP10Y8wvFuvodvEQkZ9X3X+7iBhr7UlKqd93uw6k7ap3EVhs29yXH4E6AhbuaB0XmlijlBqqVCqXWWvvKZVKXYf/PE9E3Jpyj4Gurq5ztm/fPpmM3vf9F1trp4MT1to/jaLo46Ojow+LSLR169bSnj17HnH1uvenUupiY4xx77Hx8fHXKqWuT+ohYJGf9URP6xMgYFGfE6UQaIYAAYtmKNMGAggggAACCCCAAAIIIIAAAgggsPIFCFis/DlmhAhkKpD6sKipR4Js2rSpZ2pqals6KFBjYPustReEYeiO35h+LDZg4e71PO9EpZQLWayfA/GzxphL3AfJSZmqgMW3ReRZ7sPlWnUopc4MguDHS50k3/fPt9Z+abZ2UvV/dN26df97YGBgaqltcn++BOYLWMTvF3fUjDtypubDBS8OHTp05tjY2PSRH8mjr69vbaVS2VN108zROlprdyyIC0IlDxc4mn5PWGu/Gx9Nwg4W+VpS9LYOAQIWdSBRBIEmCRCwaBI0zSCAAAIIIIAAAggggAACCCCAAAIrXICAxQqfYIaHQNYC8YdFTQ1XJGOId5X4qIhcWBUkcB/W/qBUKl05ODj4YHrM6YBF9bEGrlz6qA+l1LVBEFyTvj8OdnxYRF5WZenavGHdunXXVocVqgIWt0RR9Eml1I3Jh8hxPbtE5GpjzNezmqNyudwbRdGNswQ67rPWfjQMw7/Oqj3qyZeA1vo6EXmbiGwzxrjQT82H7/vPiaLI7Szhdq1Idj65X0TustbeGIZh9W4p0/V4nvc8pZRr41T3XCn1tSAIXpo0Eh9l866q3VRu6uzsfO/ExITb4UKiKHrByMjI9+L35szOLJVKZVP62Jt8ydPbdhYgYNHOs8/YW03A9/2XWWv/1vVr3bp1HfWGTZP3sdZatdqY6A8CCCCAAAIIIIAAAggggAACCCCAQPMFCFg035wWEci1wPDw8NZyuTyw3IPwPO/JURQ9RUT+c3R0dHej+6O1XhNF0fpSqfQEa+0ja9eu3T3bL+arAxbGmMtd//r6+rpE5GQReXhoaOgh9+X9pN++7x9bKBQ6FjOOoaGhX1bdp3p7e58qIhsKhcLeYrEYDA0NTSymbu5pawHl+/7JURTtD8Pwv+qVcEeCPPjgg0eedNJJB2q9R9yRNqVSafWBAwd2j42NHaq3XsohkEcBAhZ5nDX6jMBjBQhYsCIQQAABBBBAAAEEEEAAAQQQQAABBNICBCxYDwgggEDGArMFLOZqRmv9s3mOIpn1dmvt7yzkA/CMh0t1CCCAAAKzCBCwYGkgkH8BAhb5n0NGgAACCCCAAAIIIIAAAggggAACCGQpQMAiS03qQgABBH57VII7EuRNMcYtyQ4Wc+EQsGDpIIAAAitPgIDFyptTRtR+AgQs2m/OGTECCCCAAAIIIIAAAggggAACCCAwlwABC9YHAgggkLHAYgIWnud9Rynljg9Z8GN8fPyZY2Njv17wjdyAAAIIINBQAQIWDeWlcgSaIkDAoinMNIIAAggggAACCCCAAAIIIIAAAgjkRoCARW6mio4igEBeBHp7ezcUi8W1rr+VSuWXIyMju/LSd/qJAAIIIJCdAAGL7CypCYHlEiBgsVzytIsAAggggAACCCCAAAIIIIAAAgi0pgABi9acF3qFAAIIIIAAAgggkHMBAhY5n0C6j4CIELBgGSCAAAIIIIAAAggggAACCCCAAAIIpAUIWLAeEEAAAQQQQAABBBBogAABiwagUiUCTRYgYNFkcJpDAAEEEEAAAQQQQAABBBBAAAEEWlyAgEWLTxDdQwABBBBAAAEEEMinAAGLfM4bvUYgLUDAgvWAAAIIIIAAAggggAACCCCAAAIIIJAWIGDBekAAAQQQQAABBBBAoAECBCwagEqVCDRZgIBFk8FpDgEEEEAAAQQQQAABBBBAAAEEEGhxAQIWLT5BdA8BBBBAAAEEEEAgnwIELPI5b/QagbQAAQvWAwIIIIAAAggggAACCCCAAAIIIIBAWoCABesBAQQQQAABBBBAAIEGCBCwaAAqVSLQZAECFk0GpzkEEEAAAQQQQAABBBBAAAEEEECgxQUIWLT4BNE9BBBAAAEEEEAAgXwKELDI57zRawTSAgQsWA8IIIAAAggggAACCCCAAAIIIIAAAmkBAhasBwQQQAABBBBAAAEEGiBAwKIBqFSJQJMFCFg0GZzmEEAAAQQQQAABBBBAAAEEEEAAgRYXIGDR4hNE9xBAAAEEEEAAAQTyKUDAIp/zRq8RSAsQsGA9IIAAAggggAACCCCAAAIIIIAAAgikBRYdsKj+hTGsCCCAAAIIIIAAAggggAACCKxEAa21WonjYkwIIIAAAggggAACCCCAAAIIIIAAAgsTIGCxMC9KI4AAAggggAACCCCAAAIItJkAAYs2m3CGiwACCCCAAAIIIIAAAggggAACCMwisOiABaIIIIAAAggggAACCCAwuwBHhLA6EMi/AEeE5H8OGQECCCCAAAIIIIAAAggggAACCCCQpQABiyw1qQsBBBBAAAEEEEAAgViAgAVLAYH8CxCwyP8cMgIEEEAAAQQQQAABBBBAAAEEEEAgSwECFllqUhcCCCCAAAIIIIAAArEAAQuWAgL5FyBgkf85ZAQIIIAAAggggAACCCCAAAIIIIBAlgIELLLUpC4EEEAAAQQQQAABBGIBAhYsBQTyL0DAIv9zyAgQQAABBBBAAAEEEEAAAQQQQACBLAUIWGSpSV0IIIAAAggggAACCMQCBCxYCgjkX4CARf7nkBEggAACCCCAAAIIIIAAAggggAACWQoQsMhSk7oQQAABBBBAAAEEEIgFCFiwFBDIvwABi/zPISNAAAEEEEAAAQQQQAABBBBAAAEEshQgYJGlJnUhgAACCCCAAAIIIBALELBgKSCQfwECFvmfQ0aAAAIIIIAAAggggAACCCCAAAIIZClAwCJLTepCAAEEEEAAAQQQQCAWIGDBUkAg/wIELPI/h4wAAQQQQAABBBBAAAEEEEAAAQQQyFKAgEWWmtSFAAIIIIAAAggggEAsQMCCpYBA/gUIWOR/DhkBAggggAACCCCAAAIIIIAAAgggkKUAAYssNakLAQQQQAABBBBAAIFYgIAFSwGB/AsQsMj/HDICBBBAAAEEEEAAAQQQQAABBBBAIEsBAhZZalIXAggggAACCCCAAAKxAAELlgIC+RcgYJH/OWQECCCAAAIIIIAAAggggAACCCCAQJYCBCyy1KQuBBBAAAEEEEAAAQRiAQIWLAUE8i9AwCL/c8gIEEAAAQQQQAABBBBAAAEEEEAAgSwFCFhkqUldCCCAAAIIIIAAAgjEAgQsWAoI5F+AgEX+55ARIIAAAggggAACCCCAAAIIIIAAAlkKELDIUpO6EEAAAQQQQAABBBCIBQhYsBQQyL8AAYv8zyEjQAABBBBAAAEEEEAAAQQQQAABBLIUIGCRpSZ1IYAAAggggAACCCAQCxCwYCkgkH8BAhb5n0NGgAACCCCAAAIIIIAAAggggAACCGQpQMAiS03qQgCBlhPo7+9fPTk5qVzH7r///oMiYluuk3QIAQQQQGBFChCwWJHTyqDaTICARZtNOMNFAAEEEEAAAQQQQAABBBBAAAEE5hEgYMESQQCBFS2gtZ4JVFhrnxmG4b0resCpwZ1yyilHTk1NdafHOzEx8bPR0dH/bheDdh1nb29vuaOjo7CQ8R88eHDn2NjYoYXc08iymzdvPn5ycnIkbuM0Y4xpZHvUjUAjBAhYNEKVOhGoT2DDhg1PLJVKpxQKhb5KpbLbWvvT0dHR3fXd/f+XImCxUDHKI4AAAggggAACCCCAAAIIIIAAAitbgIDFyp5fRodA5gLDw8Nby+XyQOYVN6jCdMAiiqLTR0ZG7mlQUy1Xred5tyml/mdVxy4yxnyh5TpLhzIT6O7uPqKzs/PRhVZYKBTOGB4evnuh97ny3d3dR3d0dKxbtWrV5ODg4Ohi6qi+x/O8E5VS0x+EFQqFLcPDww9kUS91INBMAQIWzdSmLQR+K+CCFatWrfrc4UDFBTVMdhUKhZcs5N8UAhasLAQQQAABBBBAAAEEEEAAAQQQQACBtAABC9YDAggsSCD+JfP7tdbvW9CNy1S4XQMWWutzReTbNdgJWCzTWmxWsz09PZ3FYnHBO1EsZYcXrfUbReQWEdlnjDkqi7ESsMhCkTqWW4CAxXLPAO23m4DW+gQR+b8i4sVj3yUiO0TkqSJySuJhrX12GIY/qseHgEU9SpRBAAEEEEAAAQQQQAABBBBAAAEE2keAgEX7zDUjRSATgeSXzEqpAc/zzs6k0gZW0o4Bi76+vq5KpTIsIutr0BKwaOB6a+Wqfd+/3lp7tbX27jAMz8iyrwQsstSkrpUkQMBiJc0mY8mDgNb6WhF5jwv8iYj7mefrSb89zztNKfV9EVkjIl8xxvyPesZEwKIeJcoggAACCCCAAAIIIIAAAggggAAC7SNAwKJ95pqRIpCJQPrDomUMWRTL5fKGqakpr1Qq7Vm9enWwffv2g7UGWCtg4b7hXyqV+qMoKqxZs+a+2e5N17dp06aTJiYmuovF4lFRFD00NTUV7tq16ze12uzv71+9b9++1e7amjVrDsb1F3t7e08uFosnicjDhw4dGhkbG1vwLgP1TKLW+joReZsrq5T6mrX2iSLy3PheAhb1IK7AMosJWGzZsuWYRx999ODo6Oj4XCQLDVj09/d3jI+PP+mBBx54aLZ62cFiBS7CNhwSAYs2nHSGvJwCBa31f7iAqVLq3UEQfKi6M57nvVcp9X73erFY7BwaGpqYr8MELOYT4joCCCCAAAIIIIAAAggggAACCCDQXgIELNprvhktAksWqP6wyFUYRdHZ5XJ5YMmVz1NBd3f3EZ2dnR8RkStrFN1WKpUuHhwcHE1fSwcsCoXCGZVK5ZVKqTeny7gQwv79+1+1e/fuR6vr1Vq77aRvFpEza7R564EDB66uvs/zvE8qpd4Ul3fHJnxRKfUpa21fqo591to3hWH4+Szdenp6nl4sFu+L63Tf3vRF5HYCFlkq57OuegMW8Rp6hYi4Y2aS7dTvEpEflEqlTw8ODj6SCGitXyUif3b4PXJcSmWv+7tS6utBEFyavL5169bSnj17rhKRV6fqdWv0x1EUfWxkZOR7aVkCFvlcZ/T6sQIELFgRCDRP4JRTTjlyfHzc/TvjHp81xvyixs91fyQin3GvHzhwYHWtn/2q7yFg0bw5pCUEEEAAAQQQQAABBBBAAAEEEEAgDwIELPIwS/QRgRYSqBWwcN1rdMgiDldsE5FT5+IoFAr9w8PDScBA0gELEXEfEr+w1v0uZBEEwcvdUJLr5XK5N4qi7fFW0k5te6AAABXHSURBVDWbdfetXbv2woGBgamkQDpg4Y5jUEqdPluflVIvDILgOxlNcVFr/S8icpqrz1p7aRiGf6m1dtths4NFRsh5raaegEUcKPrpHGPc1tXVdU6y64vneZe48NAs5e80xrj3lPT19a2ampr6p7neCy54YYz5Yup9dKJSard7XigUtgwPDz+QV3v63b4CBCzad+4ZeUsKKK3110TkJSIyYIyp66g7AhYtOZd0CgEEEEAAAQQQQAABBBBAAAEEEFg2AQIWy0ZPwwjkU2C2gEU8mvdrrd/XiJF5nneeUuofUnW/vlgs3l2pVNyuEB8UEc9ds9beFobha5NyVQEL9/IuEblDKeVZay+o6qtvjDHutc2bNx8/OTn5r26b6biM23HiNhEJlFLnxL+cT27/jDHm9cmTqh0spl9WSg25gEcURZuVUi9Itbsv/vDYbWm9pIfv+5daa/8irmSbMeYsFxghYLEk1hVz83wBi3K5fHIURffGu1HsUkq93X0AZa19srX2d5VSbqcK9/i6MeZlh8+4r7hdKfbu3XvE1NTUpUqp693FYrHozraXiYmJyeRoEc/zLlJKJbu1vCeKoi9NTk4+0tnZ6dboB+IdLfYaY45PvY8IWKyY1de+AyFg0b5zz8hbSkBt2rRp4+Tk5LuVUhe7nrldzYaHh++up5cELOpRogwCCCCAAAIIIIAAAggggAACCCDQPgIELNpnrhkpApkIzBOwcG00JGShtb4xdTTIF4wxFyUD6u3tLReLxUvcc2vtfmPMe5Nr6YCFCzl0dHQ8a8eOHb9y18vl8ulRFLkdH5LHhcaYO9wT3/cvttZ+LrlgrT0rDMMfpur9cxG5PHXvUcYYd9yBVAcsqkMfnue9Qin15VTd7qgQV9+iH57nPVkp5cIj0x9ui8jTjDH3u78QsFg064q6cb6Ahed51yilkoDUzPpJEHzff6u19mPueaVSOXV0dPTfUu+HN4qIOw5nnzHmqGo4rfXL3RE5bkcKY8xn09d933+ptfZO91qpVOpNjvnhiJAVtfzadjAELNp26hl4Cwh4nnebUuo8EXlC6uejuwqFwvvqDVe4YRCwaIHJpAsIIIAAAggggAACCCCAAAIIIIBACwkQsGihyaArCORBoI6AhRtG5iELrfU7ROTDiZG19pKOjo6vDg4OPjKXWzpgYa2tDjIUtNa/Tn7pbq29JgzDa119WuubReSyuO7bjTGvSbfT39+/ev/+/QdS/Xl2GIY/cs+rAhb7urq61iZHKiTltdbfEJEXu+dKqb8MguDSpcy/1tp9uO0+5HYhk+vDMPzjVFscEbIU3BVy73wBC6212yHGfRB1szHmihrDdlur/yZ+v7wuHZTQWs8ZsJiLcP369U848sgjD8bvhZkjcwhYrJCF1+bDIGDR5guA4S+rgNb6H6uPhnNh2yiKPnPCCSd8In2821wdJWCxrNNI4wgggAACCCCAAAIIIIAAAggggEDLCRCwaLkpoUMItLbAMgYsThGRn1brxL8o//7hYzbuDILABRwq6TLpgEUURc8ZGRn55/R13/e/mjoq5IPGmPe461pr15Zr0wUW3hqGYXI8wsztvu8Pum/lxy9cZYy5wf29KmBR84xv3/ffZa39UHzvfcaY/sXOvO/7/dZad5yJe+ytVCq9o6Oj/53Uxw4Wi5VdWffNE7BIhycuM8bcWmv0qbV0izFmZgeXOgMWqqenZ0OxWDw1fm8dq5Q6Jooi9+f0sTlKKQIWK2vZtf1oCFi0/RIAYBkFyuXyukKhcOT4+PiqUqm03lp7oYi8Lu6SO+7q9+vpHgGLepQogwACCCCAAAIIIIAAAggggAACCLSPAAGL9plrRopAJgJ1BCwy370i6Xhvb+/zC4WCO7Zj/SyDCUXkXGPMvyfXqwIWp4+MjNyTvtf3/S9ba18Rv5YOWNiknLsehuHfVLfp+/63rLUvil+f+dZ/OmBRfTxIql+vFpHb4+c1j1Woc8LcLhwuNHKmK2+tfU0Yhkm901VUBSxeNz4+/qXu7u6per+5WWc/KNbiAnMFLDZu3HhcqVR6KB7CecYY963fxz1SO6X80BhzVmo9z7mDRU9Pz1GlUum2VJipphYBixZfRHRvwQIELBZMxg0INFTA87zXu53DXCNRFJ0/MjLy9/M1SMBiPiGuI4AAAggggAACCCCAAAIIIIAAAu0lQMCiveab0SKwZIF5AhYNC1ekOl70ff/Z1tpzReRZSbAgdT00xujk+RICFveKyGlxPe8wxlxXjae1Nm7DCvd6+viRqh0sthljXD8f89Bau50ypo8jEZGfGGOesZjJ8X3/2MNt/9dC77XW/lUYhhcv9D7K51dgnh0sZo7LccfvhGH46VojTbZbrz7WZr4dLFLHj7hq71JKfSuKop3FYvFX1toD1tr73QUCFvldX/S8tgABC1YGAq0noLV2u3ytEZGZYO1cvSRg0XpzSI8QQAABBBBAAAEEEEAAAQQQQACB5RQgYLGc+rSNQA4F5ghYNCNc8TgxrfUJ1tprlFKXJheVUk8NgmDMPV9CwOJGEbkyrvMOY4zbVnrm0d3dfXRnZ+evkhcKhcIZw8PDd7vnVQELWbVq1ZN27NgxUzbu1/dF5Lnx/bcaYy5bzHJYbMDC7Z5hjHnNYtrknnwKzBOwcOv2O/FRHTcYY66qNUqttdvl4jil1BuCIPhUUmaugMWGDRue2NHR8WtX1r1XwzBMgkXTt/f09GwsFouj7u8ELPK5tuj17AIELFgdCDRPoLe390VKqf+llPq1McbtThbN8m/Zz9xuaEqpjwdBcPV8PSRgMZ8Q1xFAAAEEEEAAAQQQQAABBBBAAIH2EiBg0V7zzWgRWLJArYBFFEVnl8vlgSVXPkcFWuvPi8jRcREXDrgjKd7X17epUqk8kDyvVCpPGR0d3e2eLyFgkT7C43HbSGutvygir0za7OrqOnL79u0H3fPqgIWIfNMYc4GIVOLrVyilbkoN93JjzC2L8dNau29g/t089yZBDldsl4i48Ml3jDEfWUyb3JNPgfkCFlrrD4jIn4jIvlKpdOrg4OB06CF5aK3dufXTO1tYa58RhuFPkmu+77/BWnurez41NXX8zp0796aubUl2qBCRlxhjvlFV79tFZHotErDI59qi17MLELBgdSDQPAGttdvBLKj+9yTdg56enqcXi8X74tdmPRIrfQ8Bi+bNIS0hgAACCCCAAAIIIIAAAggggAACeRAgYJGHWaKPCLSQQPrDIqXUgOd5Zzeje57nfUIp9eakLfdNeGvtjwuFggtduOM2TnHXDh8dcncYhmck5RYbsNiyZcsxExMTbkeK6SNA4scdSqmd1trnpY4PcZeuM8a8IylUI2DhLu1zoQalVNla25eq030Q/XRjzC8a5ai13i4ip8b1X2SM+UKj2qLe1hWoI2DhPphyoYk1SqmhSqVymbX2nlKp1HX4z/Pcrifx6Aa6urrO2b59+2QyWt/3X2ytnQ5OWGv/NIqij4+Ojj7svj28devW0p49ex5x9br3p1LqYmOMce+x8fHx1yqlrk/qIWDRuuuHni1OgIDF4ty4C4HFCnie9y9KqdPd/Uqp11pr7zTG7Ovu7j5i1apVZx/+Oexv4uNB5MCBA6t379796HxtEbCYT4jrCCCAAAIIIIAAAggggAACCCCAQHsJELBor/lmtAgsWSD1YVFTjwTZtGlTz9TU1DZ3PMEcg9hnrb0gDEN3/Mb0Y7EBC3ev53knKqVcyGL9HG1+1hhzSXob6qqAxbdF5FnJL/Or61FKnRkEwY+XPDFzVEDAopG6+al7voBF/H45U0R+NNuoXPDi0KFDZ46NjU0f+ZE8+vr61lYqlT1V980craO1dseCuCBU8nCBI7f7igtkfDc+moQdLPKznOhpnQIELOqEohgCGQnEu1i4wF86IOvCrOmfH/dFUfSCkZGRe+pploBFPUqUQQABBBBAAAEEEEAAAQQQQAABBNpHgIBF+8w1I0UgE4H4l8xNDVckHY93lfioiFxYFVhwH9b+oFQqXTk4OPhgeqDpgEX1sQauXPqoD6XUtUEQXJO+Pw52fFhEXlYF6Nq8Yd26ddcODAxMpa9VBSxuiaLok0qpG5MPkeOy7qiOq40xX89kYuaoRGt9b7LjhlLqlUEQfLnRbVJ/6wlora8TkbeJyDZjjAv91Hz4vv+cKIrczhJu14rkA6n7ReQua+2NYRj+vNaNnuc9Tynl2pjeLUUp9bUgCF6alNVav0VE3pX+kMtae1NnZ+d7JyYm3A4X7ige94HX9+L35gkiMt1WpVLZNDo6OtR6qvQIgbkFCFiwQhBovkBPT89RxWLRHT11flVI1gUtBkql0tuqf16cq5cELJo/h7SIAAIIIIAAAggggAACCCCAAAIItLIAAYtWnh36hkALCgwPD28tl8sDy901z/OeHEXRU0TkP0dHR3c3uj9a6zVRFK0vlUpPsNY+snbt2t3VwYqkD9UBC2PM5e5aX19fl4icLCIPDw0NPeS+vJ/c4/v+sYVCoWMx4xgaGvrlYu7jHgTmEVC+758cRdH+MAz/q14tdyTIgw8+eORJJ530/7V3xypqRFEAhhWtUgYCIWWCTuED5N3zKmIQkiJlGiEi4iLcYgjrMrpnxjlzv63HO/d+56bZ/KyH1/6NNE3zZblcfjgcDr/3+/2/rut6jkBGAYFFxqnZ85QENpvNx9Pp9O18Pv/Z7Xa/HjmbwOIRNZ8hQIAAAQIECBAgQIAAAQIECExXQGAx3dk6GQECTxK4FVi8tZ2maa6/9H/rq0hufvxyuXy65z/An8TitQQIEKhOQGBR3cgdeIICAosJDtWRCBAgQIAAAQIECBAgQIAAAQLvEBBYvAPPRwkQIPCagMDCvSBAgACBq4DAwj0gkF9AYJF/hk5AgAABAgQIECBAgAABAgQIEIgUEFhEalqLAAECs9nskcBivV7/mM/n168PufvneDx+3+/3f+/+oA8QIECAQK8CAoteeS1OYBABgcUgzF5CgAABAgQIECBAgAABAgQIEEgjILBIMyobJUAgi8Bqtfq6WCw+X/d7/c7v7Xb7M8ve7ZMAAQIE4gQEFnGWViLwLAGBxbPkvZcAAQIECBAgQIAAAQIECBAgME4BgcU452JXBAgQIECAAAECyQUEFskHaPsEWl/10zTNHAgBAgQIECBAgAABAgQIECBAgAABgYU7QIAAAQIECBAgQKAHAYFFD6iWJDCwgL9gMTC41xEgQIAAAQIECBAgQIAAAQIERi4gsBj5gGyPAAECBAgQIEAgp4DAIufc7JpAW0Bg4T4QIECAAAECBAgQIECAAAECBAi0BQQW7gMBAgQIECBAgACBHgQEFj2gWpLAwAICi4HBvY4AAQIECBAgQIAAAQIECBAgMHIBgcXIB2R7BAgQIECAAAECOQUEFjnnZtcE2gICC/eBAAECBAgQIECAAAECBAgQIECgLSCwcB8IECBAgAABAgQI9CAgsOgB1ZIEBhYQWAwM7nUECBAgQIAAAQIECBAgQIAAgZELCCxGPiDbI0CAAAECBAgQyCkgsMg5N7sm0BYQWLgPBAgQIECAAAECBAgQIECAAAECbQGBhftAgAABAgQIECBAoAcBgUUPqJYkMLCAwGJgcK8jQIAAAQIECBAgQIAAAQIECIxcQGAx8gHZHgECBAgQIECAQE4BgUXOudk1gbaAwMJ9IECAAAECBAgQIECAAAECBAgQaAs8HFj8/wtjrAQIECBAgAABAgQIECBAYIoCTdPMp3guZyJAgAABAgQIECBAgAABAgQIELhPQGBxn5enCRAgQIAAAQIECBAgQKAyAYFFZQN3XAIECBAgQIAAAQIECBAgQIDADYGHAwuiBAgQIECAAAECBAjcFvAVIW4HgfwCviIk/wydgAABAgQIECBAgAABAgQIECAQKSCwiNS0FgECBAgQIECAAIEiILBwFQjkFxBY5J+hExAgQIAAAQIECBAgQIAAAQIEIgUEFpGa1iJAgAABAgQIECBQBAQWrgKB/AICi/wzdAICBAgQIECAAAECBAgQIECAQKSAwCJS01oECBAgQIAAAQIEioDAwlUgkF9AYJF/hk5AgAABAgQIECBAgAABAgQIEIgUEFhEalqLAAECBAgQIECAQBEQWLgKBPILCCzyz9AJCBAgQIAAAQIECBAgQIAAAQKRAgKLSE1rESBAgAABAgQIECgCAgtXgUB+AYFF/hk6AQECBAgQIECAAAECBAgQIEAgUkBgEalpLQIECBAgQIAAAQJFQGDhKhDILyCwyD9DJyBAgAABAgQIECBAgAABAgQIRAoILCI1rUWAAAECBAgQIECgCAgsXAUC+QUEFvln6AQECBAgQIAAAQIECBAgQIAAgUgBgUWkprUIECBAgAABAgQIFAGBhatAIL+AwCL/DJ2AAAECBAgQIECAAAECBAgQIBApILCI1LQWAQIECBAgQIAAgSIgsHAVCOQXEFjkn6ETECBAgAABAgQIECBAgAABAgQiBQQWkZrWIkCAAAECBAgQIFAEBBauAoH8AgKL/DN0AgIECBAgQIAAAQIECBAgQIBApIDAIlLTWgQIECBAgAABAgSKgMDCVSCQX0BgkX+GTkCAAAECBAgQIECAAAECBAgQiBQQWERqWosAAQIECBAgQIBAERBYuAoE8gsILPLP0AkIECBAgAABAgQIECBAgAABApECAotITWsRIECAAAECBAgQKAICC1eBQH4BgUX+GToBAQIECBAgQIAAAQIECBAgQCBSQGARqWktAgQIECBAgAABAgQIECBAgAABAgQIECBAgAABAgQIECBAoGqBedWnd3gCBAgQIECAAAECBAgQIECAAAECBAgQIECAAAECBAgQIECAQAcBgUUHJI8QIECAAAECBAgQIECAAAECBAgQIECAAAECBAgQIECAAAECdQsILOqev9MTIECAAAECBAgQIECAAAECBAgQIECAAAECBAgQIECAAAECHQQEFh2QPEKAAAECBAgQIECAAAECBAgQIECAAAECBAgQIECAAAECBAjULSCwqHv+Tk+AAAECBAgQIECAAAECBAgQIECAAAECBAgQIECAAAECBAh0EBBYdEDyCAECBAgQIECAAAECBAgQIECAAAECBAgQIECAAAECBAgQIFC3gMCi7vk7PQECBAgQIECAAAECBAgQIECAAAECBAgQIECAAAECBAgQINBBQGDRAckjBAgQIECAAAECBAgQIECAAAECBAgQIECAAAECBAgQIECAQN0CAou65+/0BAgQIECAAAECBAgQIECAAAECBAgQIECAAAECBAgQIECAQAcBgUUHJI8QIECAAAECBAgQIECAAAECBAgQIECAAAECBAgQIECAAAECdQsILOqev9MTIECAAAECBAgQIECAAAECBAgQIECAAAECBAgQIECAAAECHQReAHVORfQrLACmAAAAAElFTkSuQmCC\" />"
      ],
      "text/plain": [
       "Open the notebook in JupyterLab with the Atoti JupyterLab extension enabled to build this widget."
      ]
     },
     "metadata": {},
     "output_type": "display_data"
    }
   ],
   "source": [
    "session.widget"
   ]
  },
  {
   "cell_type": "markdown",
   "id": "623a5cce-fee4-489b-9250-c5dd542fb708",
   "metadata": {},
   "source": [
    "### Cube manipulation"
   ]
  },
  {
   "cell_type": "markdown",
   "id": "ad616201-0cc7-4012-8e54-66a99c9c1a23",
   "metadata": {},
   "source": [
    "We perform hierarchy manipulation, level ordering and measure creations the same way we always do in Atoti."
   ]
  },
  {
   "cell_type": "code",
   "execution_count": 17,
   "id": "27bebe22-10e5-4b67-9c18-4bb478fef70b",
   "metadata": {
    "tags": []
   },
   "outputs": [],
   "source": [
    "h, l, m = cube.hierarchies, cube.levels, cube.measures"
   ]
  },
  {
   "cell_type": "code",
   "execution_count": 18,
   "id": "fe4aea14-fc25-4a2d-9401-0ce01df385e4",
   "metadata": {
    "tags": []
   },
   "outputs": [],
   "source": [
    "h[\"CATEGORY\"] = [l[\"CATEGORY\"], l[\"SUB_CATEGORY\"]]\n",
    "del h[\"SUB_CATEGORY\"]"
   ]
  },
  {
   "cell_type": "code",
   "execution_count": 19,
   "id": "efc5d476-6465-4ccf-93d3-9f5dfe19df3c",
   "metadata": {
    "tags": []
   },
   "outputs": [
    {
     "data": {
      "application/json": {
       "Atoti Product": {
        "BRAND": [
         "BRAND"
        ],
        "CATEGORY": [
         "CATEGORY",
         "SUB_CATEGORY"
        ],
        "COLOR": [
         "COLOR"
        ],
        "SIZE": [
         "SIZE"
        ]
       },
       "Atoti Sales": {
        "DATE": [
         "DATE"
        ],
        "PRODUCT": [
         "PRODUCT"
        ],
        "SALE_ID": [
         "SALE_ID"
        ],
        "SHOP": [
         "SHOP"
        ]
       }
      },
      "text/html": [
       "<ul>\n",
       "<li>Dimensions\n",
       "  <ul>\n",
       "  <li>Atoti Product\n",
       "    <ul>\n",
       "    <li>BRAND\n",
       "      <ol>\n",
       "      <li>BRAND</li>\n",
       "      </ol>    </li>\n",
       "    <li>CATEGORY\n",
       "      <ol>\n",
       "      <li>CATEGORY</li>\n",
       "      <li>SUB_CATEGORY</li>\n",
       "      </ol>    </li>\n",
       "    <li>COLOR\n",
       "      <ol>\n",
       "      <li>COLOR</li>\n",
       "      </ol>    </li>\n",
       "    <li>SIZE\n",
       "      <ol>\n",
       "      <li>SIZE</li>\n",
       "      </ol>    </li>\n",
       "    </ul>\n",
       "  </li>\n",
       "  <li>Atoti Sales\n",
       "    <ul>\n",
       "    <li>DATE\n",
       "      <ol>\n",
       "      <li>DATE</li>\n",
       "      </ol>    </li>\n",
       "    <li>PRODUCT\n",
       "      <ol>\n",
       "      <li>PRODUCT</li>\n",
       "      </ol>    </li>\n",
       "    <li>SALE_ID\n",
       "      <ol>\n",
       "      <li>SALE_ID</li>\n",
       "      </ol>    </li>\n",
       "    <li>SHOP\n",
       "      <ol>\n",
       "      <li>SHOP</li>\n",
       "      </ol>    </li>\n",
       "    </ul>\n",
       "  </li>\n",
       "  </ul>\n",
       "</li>\n",
       "</ul>\n"
      ],
      "text/plain": [
       "{('Atoti Product', 'SIZE'): <atoti.hierarchy.Hierarchy object at 0x12757a290>, ('Atoti Product', 'BRAND'): <atoti.hierarchy.Hierarchy object at 0x1275782b0>, ('Atoti Product', 'COLOR'): <atoti.hierarchy.Hierarchy object at 0x127578ac0>, ('Atoti Product', 'CATEGORY'): <atoti.hierarchy.Hierarchy object at 0x12757b970>, ('Atoti Sales', 'SALE_ID'): <atoti.hierarchy.Hierarchy object at 0x1275780d0>, ('Atoti Sales', 'DATE'): <atoti.hierarchy.Hierarchy object at 0x127579960>, ('Atoti Sales', 'SHOP'): <atoti.hierarchy.Hierarchy object at 0x1275781f0>, ('Atoti Sales', 'PRODUCT'): <atoti.hierarchy.Hierarchy object at 0x12757a080>}"
      ]
     },
     "execution_count": 19,
     "metadata": {
      "application/json": {
       "expanded": true,
       "root": "Dimensions"
      }
     },
     "output_type": "execute_result"
    }
   ],
   "source": [
    "h"
   ]
  },
  {
   "cell_type": "code",
   "execution_count": 20,
   "id": "fe924c60-0c9d-431f-ac72-297db49d8abc",
   "metadata": {
    "tags": []
   },
   "outputs": [],
   "source": [
    "l[\"DATE\"].order = tt.NaturalOrder(ascending=False)"
   ]
  },
  {
   "cell_type": "code",
   "execution_count": 21,
   "id": "343686bd-182e-4de1-b681-8bc6c04b791d",
   "metadata": {
    "tags": []
   },
   "outputs": [],
   "source": [
    "m[\"PURCHASE_PRICE.SUM\"] = tt.agg.sum(products_table[\"PURCHASE_PRICE\"])\n",
    "m[\"PROFIT\"] = tt.agg.sum_product(\n",
    "    m[\"UNIT_PRICE.SUM\"] - m[\"PURCHASE_PRICE.SUM\"],\n",
    "    m[\"QUANTITY.SUM\"],\n",
    "    scope=tt.OriginScope(levels={l[\"SALE_ID\"], l[\"PRODUCT\"]}),\n",
    ")"
   ]
  },
  {
   "cell_type": "markdown",
   "id": "595db925-bf0b-4828-87fb-ff26c717d905",
   "metadata": {},
   "source": [
    "Since we have a join from `sales_table` to `products_table` using the column values of `sales_table.PRODUCT` and `products_table.PRODUCT_ID`, the resultant level is the name of the column from the _from_ table. Therefore, we have the level `PRODUCT` but not `PRODUCT_ID` for our scope in the code snippet above."
   ]
  },
  {
   "cell_type": "code",
   "execution_count": 22,
   "id": "a5dd754e-6d52-43b0-9a18-e7aa7fd42e0b",
   "metadata": {
    "atoti": {
     "widget": {
      "mapping": {
       "columns": [
        "ALL_MEASURES"
       ],
       "measures": [
        "[Measures].[UNIT_PRICE.SUM]",
        "[Measures].[PURCHASE_PRICE.SUM]",
        "[Measures].[QUANTITY.SUM]",
        "[Measures].[PROFIT]"
       ],
       "rows": [
        "[Atoti Sales].[DATE].[DATE]",
        "[Atoti Product].[CATEGORY].[CATEGORY] => [Atoti Product].[CATEGORY].[SUB_CATEGORY]"
       ]
      },
      "name": "Profit by Product Categories across dates",
      "query": {
       "mdx": "SELECT NON EMPTY Hierarchize(Union(Crossjoin(Hierarchize(Descendants({[Atoti Sales].[DATE].[AllMember]}, 1, SELF_AND_BEFORE)), Hierarchize(Descendants({[Atoti Product].[CATEGORY].[AllMember]}, 1, SELF_AND_BEFORE))), Crossjoin([Atoti Sales].[DATE].[AllMember].[2022-02-03], Descendants({[Atoti Product].[CATEGORY].[AllMember].[Cloth]}, [Atoti Product].[CATEGORY].[SUB_CATEGORY])))) ON ROWS, NON EMPTY {[Measures].[UNIT_PRICE.SUM], [Measures].[PURCHASE_PRICE.SUM], [Measures].[QUANTITY.SUM], [Measures].[PROFIT]} ON COLUMNS FROM [Atoti Sales] CELL PROPERTIES VALUE, FORMATTED_VALUE, BACK_COLOR, FORE_COLOR, FONT_FLAGS",
       "updateMode": "once"
      },
      "serverKey": "default",
      "widgetKey": "pivot-table"
     }
    },
    "tags": []
   },
   "outputs": [
    {
     "data": {
      "application/vnd.atoti.widget.v0+json": {
       "sessionId": "1728068645_417060",
       "sessionUrl": "http://localhost:57549",
       "widgetCreationCode": "session.widget"
      },
      "text/html": [
       "<img height=\"352\" width=\"1068\" src=\"data:image/png;base64,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\" />"
      ],
      "text/plain": [
       "Open the notebook in JupyterLab with the Atoti JupyterLab extension enabled to build this widget."
      ]
     },
     "metadata": {},
     "output_type": "display_data"
    }
   ],
   "source": [
    "session.widget"
   ]
  },
  {
   "cell_type": "markdown",
   "id": "08ceaeb7-d0ed-42b5-899e-f4fb4fdcf1ae",
   "metadata": {},
   "source": [
    "## Cost and performance saving with Aggregate Provider"
   ]
  },
  {
   "cell_type": "markdown",
   "id": "b00d6de1-5324-43b0-acb0-c682977c2cf0",
   "metadata": {},
   "source": [
    "Let's take a quick look at our query performance in the current setup."
   ]
  },
  {
   "cell_type": "code",
   "execution_count": 23,
   "id": "37320670-66e8-40c1-9402-26775ed5817c",
   "metadata": {},
   "outputs": [
    {
     "name": "stdout",
     "output_type": "stream",
     "text": [
      "CPU times: user 53.4 ms, sys: 5.35 ms, total: 58.8 ms\n",
      "Wall time: 2.03 s\n"
     ]
    },
    {
     "data": {
      "application/vnd.atoti.convert-mdx-query-result-to-widget.v0+json": {
       "mdx": "SELECT {[Measures].[QUANTITY.SUM], [Measures].[PROFIT]} ON COLUMNS, NON EMPTY Crossjoin(Hierarchize(Descendants({[Atoti Sales].[DATE].[ALL].[AllMember]}, 1, SELF_AND_BEFORE)), Hierarchize(Descendants({[Atoti Sales].[PRODUCT].[ALL].[AllMember]}, 1, SELF_AND_BEFORE)), Hierarchize(Descendants({[Atoti Sales].[SALE_ID].[ALL].[AllMember]}, 1, SELF_AND_BEFORE))) ON ROWS FROM [Atoti Sales]",
       "sessionId": "1728068645_417060",
       "widgetCreationCode": "session.widget"
      },
      "text/html": [
       "<div>\n",
       "<style scoped>\n",
       "    .dataframe tbody tr th:only-of-type {\n",
       "        vertical-align: middle;\n",
       "    }\n",
       "\n",
       "    .dataframe tbody tr th {\n",
       "        vertical-align: top;\n",
       "    }\n",
       "\n",
       "    .dataframe thead th {\n",
       "        text-align: right;\n",
       "    }\n",
       "</style>\n",
       "<table border=\"1\" class=\"dataframe\">\n",
       "  <thead>\n",
       "    <tr style=\"text-align: right;\">\n",
       "      <th></th>\n",
       "      <th></th>\n",
       "      <th></th>\n",
       "      <th>QUANTITY.SUM</th>\n",
       "      <th>PROFIT</th>\n",
       "    </tr>\n",
       "    <tr>\n",
       "      <th>DATE</th>\n",
       "      <th>PRODUCT</th>\n",
       "      <th>SALE_ID</th>\n",
       "      <th></th>\n",
       "      <th></th>\n",
       "    </tr>\n",
       "  </thead>\n",
       "  <tbody>\n",
       "    <tr>\n",
       "      <th rowspan=\"2\" valign=\"top\">2022-02-04</th>\n",
       "      <th>HOO_5</th>\n",
       "      <th>S0017</th>\n",
       "      <td>1</td>\n",
       "      <td>10.00</td>\n",
       "    </tr>\n",
       "    <tr>\n",
       "      <th>TAB_0</th>\n",
       "      <th>S0000</th>\n",
       "      <td>1</td>\n",
       "      <td>20.00</td>\n",
       "    </tr>\n",
       "    <tr>\n",
       "      <th rowspan=\"4\" valign=\"top\">2022-02-03</th>\n",
       "      <th>HOO_5</th>\n",
       "      <th>S0018</th>\n",
       "      <td>1</td>\n",
       "      <td>10.00</td>\n",
       "    </tr>\n",
       "    <tr>\n",
       "      <th>TAB_0</th>\n",
       "      <th>S0001</th>\n",
       "      <td>1</td>\n",
       "      <td>20.00</td>\n",
       "    </tr>\n",
       "    <tr>\n",
       "      <th>TAB_1</th>\n",
       "      <th>S0004</th>\n",
       "      <td>1</td>\n",
       "      <td>20.00</td>\n",
       "    </tr>\n",
       "    <tr>\n",
       "      <th>TSH_3</th>\n",
       "      <th>S0011</th>\n",
       "      <td>1</td>\n",
       "      <td>3.00</td>\n",
       "    </tr>\n",
       "    <tr>\n",
       "      <th rowspan=\"5\" valign=\"top\">2022-02-02</th>\n",
       "      <th>HOO_5</th>\n",
       "      <th>S0019</th>\n",
       "      <td>1</td>\n",
       "      <td>10.00</td>\n",
       "    </tr>\n",
       "    <tr>\n",
       "      <th>TAB_0</th>\n",
       "      <th>S0002</th>\n",
       "      <td>1</td>\n",
       "      <td>20.00</td>\n",
       "    </tr>\n",
       "    <tr>\n",
       "      <th>TAB_1</th>\n",
       "      <th>S0005</th>\n",
       "      <td>1</td>\n",
       "      <td>20.00</td>\n",
       "    </tr>\n",
       "    <tr>\n",
       "      <th>TSH_3</th>\n",
       "      <th>S0012</th>\n",
       "      <td>1</td>\n",
       "      <td>3.00</td>\n",
       "    </tr>\n",
       "    <tr>\n",
       "      <th>TSH_4</th>\n",
       "      <th>S0014</th>\n",
       "      <td>1</td>\n",
       "      <td>4.00</td>\n",
       "    </tr>\n",
       "    <tr>\n",
       "      <th rowspan=\"5\" valign=\"top\">2022-02-01</th>\n",
       "      <th>BED_2</th>\n",
       "      <th>S0007</th>\n",
       "      <td>1</td>\n",
       "      <td>23.00</td>\n",
       "    </tr>\n",
       "    <tr>\n",
       "      <th>TAB_0</th>\n",
       "      <th>S0003</th>\n",
       "      <td>1</td>\n",
       "      <td>20.00</td>\n",
       "    </tr>\n",
       "    <tr>\n",
       "      <th>TAB_1</th>\n",
       "      <th>S0006</th>\n",
       "      <td>2</td>\n",
       "      <td>40.00</td>\n",
       "    </tr>\n",
       "    <tr>\n",
       "      <th>TSH_3</th>\n",
       "      <th>S0013</th>\n",
       "      <td>1</td>\n",
       "      <td>3.00</td>\n",
       "    </tr>\n",
       "    <tr>\n",
       "      <th>TSH_4</th>\n",
       "      <th>S0015</th>\n",
       "      <td>2</td>\n",
       "      <td>8.00</td>\n",
       "    </tr>\n",
       "    <tr>\n",
       "      <th rowspan=\"4\" valign=\"top\">2022-01-31</th>\n",
       "      <th rowspan=\"3\" valign=\"top\">BED_2</th>\n",
       "      <th>S0008</th>\n",
       "      <td>1</td>\n",
       "      <td>23.00</td>\n",
       "    </tr>\n",
       "    <tr>\n",
       "      <th>S0009</th>\n",
       "      <td>1</td>\n",
       "      <td>23.00</td>\n",
       "    </tr>\n",
       "    <tr>\n",
       "      <th>S0010</th>\n",
       "      <td>3</td>\n",
       "      <td>69.00</td>\n",
       "    </tr>\n",
       "    <tr>\n",
       "      <th>TSH_4</th>\n",
       "      <th>S0016</th>\n",
       "      <td>2</td>\n",
       "      <td>8.00</td>\n",
       "    </tr>\n",
       "  </tbody>\n",
       "</table>\n",
       "</div>"
      ],
      "text/plain": [
       "                           QUANTITY.SUM PROFIT\n",
       "DATE       PRODUCT SALE_ID                    \n",
       "2022-02-04 HOO_5   S0017              1  10.00\n",
       "           TAB_0   S0000              1  20.00\n",
       "2022-02-03 HOO_5   S0018              1  10.00\n",
       "           TAB_0   S0001              1  20.00\n",
       "           TAB_1   S0004              1  20.00\n",
       "           TSH_3   S0011              1   3.00\n",
       "2022-02-02 HOO_5   S0019              1  10.00\n",
       "           TAB_0   S0002              1  20.00\n",
       "           TAB_1   S0005              1  20.00\n",
       "           TSH_3   S0012              1   3.00\n",
       "           TSH_4   S0014              1   4.00\n",
       "2022-02-01 BED_2   S0007              1  23.00\n",
       "           TAB_0   S0003              1  20.00\n",
       "           TAB_1   S0006              2  40.00\n",
       "           TSH_3   S0013              1   3.00\n",
       "           TSH_4   S0015              2   8.00\n",
       "2022-01-31 BED_2   S0008              1  23.00\n",
       "                   S0009              1  23.00\n",
       "                   S0010              3  69.00\n",
       "           TSH_4   S0016              2   8.00"
      ]
     },
     "execution_count": 23,
     "metadata": {},
     "output_type": "execute_result"
    }
   ],
   "source": [
    "%%time\n",
    "\n",
    "cube.query(\n",
    "    m[\"QUANTITY.SUM\"], m[\"PROFIT\"], levels=[l[\"DATE\"], l[\"PRODUCT\"], l[\"SALE_ID\"]]\n",
    ")"
   ]
  },
  {
   "cell_type": "code",
   "execution_count": 24,
   "id": "41a42190-2831-458d-9679-aa942dae9de0",
   "metadata": {},
   "outputs": [
    {
     "name": "stdout",
     "output_type": "stream",
     "text": [
      "CPU times: user 15.6 ms, sys: 3.93 ms, total: 19.6 ms\n",
      "Wall time: 1.54 s\n"
     ]
    },
    {
     "data": {
      "application/vnd.atoti.convert-mdx-query-result-to-widget.v0+json": {
       "mdx": "SELECT {[Measures].[PROFIT]} ON COLUMNS, NON EMPTY Crossjoin(Hierarchize(Descendants({[Atoti Sales].[DATE].[ALL].[AllMember]}, 1, SELF_AND_BEFORE)), Hierarchize(Descendants({[Atoti Product].[CATEGORY].[ALL].[AllMember]}, 2, SELF_AND_BEFORE))) ON ROWS FROM [Atoti Sales]",
       "sessionId": "1728068645_417060",
       "widgetCreationCode": "session.widget"
      },
      "text/html": [
       "<div>\n",
       "<style scoped>\n",
       "    .dataframe tbody tr th:only-of-type {\n",
       "        vertical-align: middle;\n",
       "    }\n",
       "\n",
       "    .dataframe tbody tr th {\n",
       "        vertical-align: top;\n",
       "    }\n",
       "\n",
       "    .dataframe thead th {\n",
       "        text-align: right;\n",
       "    }\n",
       "</style>\n",
       "<table border=\"1\" class=\"dataframe\">\n",
       "  <thead>\n",
       "    <tr style=\"text-align: right;\">\n",
       "      <th></th>\n",
       "      <th></th>\n",
       "      <th></th>\n",
       "      <th>PROFIT</th>\n",
       "    </tr>\n",
       "    <tr>\n",
       "      <th>DATE</th>\n",
       "      <th>CATEGORY</th>\n",
       "      <th>SUB_CATEGORY</th>\n",
       "      <th></th>\n",
       "    </tr>\n",
       "  </thead>\n",
       "  <tbody>\n",
       "    <tr>\n",
       "      <th rowspan=\"2\" valign=\"top\">2022-02-04</th>\n",
       "      <th>Cloth</th>\n",
       "      <th>Hoodie</th>\n",
       "      <td>10.00</td>\n",
       "    </tr>\n",
       "    <tr>\n",
       "      <th>Furniture</th>\n",
       "      <th>Table</th>\n",
       "      <td>20.00</td>\n",
       "    </tr>\n",
       "    <tr>\n",
       "      <th rowspan=\"3\" valign=\"top\">2022-02-03</th>\n",
       "      <th rowspan=\"2\" valign=\"top\">Cloth</th>\n",
       "      <th>Hoodie</th>\n",
       "      <td>10.00</td>\n",
       "    </tr>\n",
       "    <tr>\n",
       "      <th>Tshirt</th>\n",
       "      <td>3.00</td>\n",
       "    </tr>\n",
       "    <tr>\n",
       "      <th>Furniture</th>\n",
       "      <th>Table</th>\n",
       "      <td>40.00</td>\n",
       "    </tr>\n",
       "    <tr>\n",
       "      <th rowspan=\"3\" valign=\"top\">2022-02-02</th>\n",
       "      <th rowspan=\"2\" valign=\"top\">Cloth</th>\n",
       "      <th>Hoodie</th>\n",
       "      <td>10.00</td>\n",
       "    </tr>\n",
       "    <tr>\n",
       "      <th>Tshirt</th>\n",
       "      <td>7.00</td>\n",
       "    </tr>\n",
       "    <tr>\n",
       "      <th>Furniture</th>\n",
       "      <th>Table</th>\n",
       "      <td>40.00</td>\n",
       "    </tr>\n",
       "    <tr>\n",
       "      <th rowspan=\"3\" valign=\"top\">2022-02-01</th>\n",
       "      <th>Cloth</th>\n",
       "      <th>Tshirt</th>\n",
       "      <td>11.00</td>\n",
       "    </tr>\n",
       "    <tr>\n",
       "      <th rowspan=\"2\" valign=\"top\">Furniture</th>\n",
       "      <th>Bed</th>\n",
       "      <td>23.00</td>\n",
       "    </tr>\n",
       "    <tr>\n",
       "      <th>Table</th>\n",
       "      <td>60.00</td>\n",
       "    </tr>\n",
       "    <tr>\n",
       "      <th rowspan=\"2\" valign=\"top\">2022-01-31</th>\n",
       "      <th>Cloth</th>\n",
       "      <th>Tshirt</th>\n",
       "      <td>8.00</td>\n",
       "    </tr>\n",
       "    <tr>\n",
       "      <th>Furniture</th>\n",
       "      <th>Bed</th>\n",
       "      <td>115.00</td>\n",
       "    </tr>\n",
       "  </tbody>\n",
       "</table>\n",
       "</div>"
      ],
      "text/plain": [
       "                                   PROFIT\n",
       "DATE       CATEGORY  SUB_CATEGORY        \n",
       "2022-02-04 Cloth     Hoodie         10.00\n",
       "           Furniture Table          20.00\n",
       "2022-02-03 Cloth     Hoodie         10.00\n",
       "                     Tshirt          3.00\n",
       "           Furniture Table          40.00\n",
       "2022-02-02 Cloth     Hoodie         10.00\n",
       "                     Tshirt          7.00\n",
       "           Furniture Table          40.00\n",
       "2022-02-01 Cloth     Tshirt         11.00\n",
       "           Furniture Bed            23.00\n",
       "                     Table          60.00\n",
       "2022-01-31 Cloth     Tshirt          8.00\n",
       "           Furniture Bed           115.00"
      ]
     },
     "execution_count": 24,
     "metadata": {},
     "output_type": "execute_result"
    }
   ],
   "source": [
    "%%time\n",
    "\n",
    "cube.query(m[\"PROFIT\"], levels=[l[\"DATE\"], l[\"SUB_CATEGORY\"]])"
   ]
  },
  {
   "cell_type": "markdown",
   "id": "ec655a71-8eec-42ae-9dd5-3fa7bbf0f782",
   "metadata": {},
   "source": [
    "It takes approximately `3s` to return the query (YMMV)."
   ]
  },
  {
   "cell_type": "markdown",
   "id": "409bcc8e-c3e4-4592-a6ee-c54d41f97719",
   "metadata": {},
   "source": [
    "To speed up our querying, we make use of the [aggregate provider](https://docs.atoti.io/latest/api/atoti.AggregateProvider.html#atoti.AggregateProvider) to store intermediate aggregates in memory. If a step of a query uses a subset of the aggregate provider's levels and measures, the provider will speed up the query.  \n",
    "\n",
    "Since data is cached in memory, we will __not__ access BigQuery when a subset of these are queried.  "
   ]
  },
  {
   "cell_type": "code",
   "execution_count": 25,
   "id": "0f33a62c-d66d-4e3a-997d-ae325e9276ec",
   "metadata": {
    "tags": []
   },
   "outputs": [],
   "source": [
    "cube.aggregate_providers.update(\n",
    "    {\n",
    "        \"Products provider\": tt.AggregateProvider(\n",
    "            key=\"bitmap\",\n",
    "            levels=[l[\"DATE\"], l[\"PRODUCT\"], l[\"SALE_ID\"]],\n",
    "            measures=[m[\"QUANTITY.SUM\"], m[\"PURCHASE_PRICE.SUM\"], m[\"UNIT_PRICE.SUM\"]],\n",
    "            partitioning=\"hash16(PRODUCT)\",\n",
    "        )\n",
    "    }\n",
    ")"
   ]
  },
  {
   "cell_type": "markdown",
   "id": "4817dae9-0dbb-4c91-95bc-38a1320102ae",
   "metadata": {},
   "source": [
    "⚠️ **Important:** We can only use store aggregated measures supporting disaggregation can be used in aggregate provider, e.g. `tt.agg.sum` or `tt.agg.mean` on table columns.\n",
    "\n",
    "`m[\"PROFIT\"]` cannot be used because it is a chained measure resulting from the `sum_product` of a few measures.\n"
   ]
  },
  {
   "cell_type": "code",
   "execution_count": 26,
   "id": "0bc35e5d-1845-479b-873f-5a24be936f1e",
   "metadata": {
    "tags": []
   },
   "outputs": [
    {
     "name": "stdout",
     "output_type": "stream",
     "text": [
      "CPU times: user 14.1 ms, sys: 2.61 ms, total: 16.7 ms\n",
      "Wall time: 57.7 ms\n"
     ]
    },
    {
     "data": {
      "application/vnd.atoti.convert-mdx-query-result-to-widget.v0+json": {
       "mdx": "SELECT {[Measures].[PROFIT]} ON COLUMNS, NON EMPTY Crossjoin(Hierarchize(Descendants({[Atoti Sales].[DATE].[ALL].[AllMember]}, 1, SELF_AND_BEFORE)), Hierarchize(Descendants({[Atoti Sales].[PRODUCT].[ALL].[AllMember]}, 1, SELF_AND_BEFORE)), Hierarchize(Descendants({[Atoti Sales].[SALE_ID].[ALL].[AllMember]}, 1, SELF_AND_BEFORE))) ON ROWS FROM [Atoti Sales]",
       "sessionId": "1728068645_417060",
       "widgetCreationCode": "session.widget"
      },
      "text/html": [
       "<div>\n",
       "<style scoped>\n",
       "    .dataframe tbody tr th:only-of-type {\n",
       "        vertical-align: middle;\n",
       "    }\n",
       "\n",
       "    .dataframe tbody tr th {\n",
       "        vertical-align: top;\n",
       "    }\n",
       "\n",
       "    .dataframe thead th {\n",
       "        text-align: right;\n",
       "    }\n",
       "</style>\n",
       "<table border=\"1\" class=\"dataframe\">\n",
       "  <thead>\n",
       "    <tr style=\"text-align: right;\">\n",
       "      <th></th>\n",
       "      <th></th>\n",
       "      <th></th>\n",
       "      <th>PROFIT</th>\n",
       "    </tr>\n",
       "    <tr>\n",
       "      <th>DATE</th>\n",
       "      <th>PRODUCT</th>\n",
       "      <th>SALE_ID</th>\n",
       "      <th></th>\n",
       "    </tr>\n",
       "  </thead>\n",
       "  <tbody>\n",
       "    <tr>\n",
       "      <th rowspan=\"2\" valign=\"top\">2022-02-04</th>\n",
       "      <th>HOO_5</th>\n",
       "      <th>S0017</th>\n",
       "      <td>10.00</td>\n",
       "    </tr>\n",
       "    <tr>\n",
       "      <th>TAB_0</th>\n",
       "      <th>S0000</th>\n",
       "      <td>20.00</td>\n",
       "    </tr>\n",
       "    <tr>\n",
       "      <th rowspan=\"4\" valign=\"top\">2022-02-03</th>\n",
       "      <th>HOO_5</th>\n",
       "      <th>S0018</th>\n",
       "      <td>10.00</td>\n",
       "    </tr>\n",
       "    <tr>\n",
       "      <th>TAB_0</th>\n",
       "      <th>S0001</th>\n",
       "      <td>20.00</td>\n",
       "    </tr>\n",
       "    <tr>\n",
       "      <th>TAB_1</th>\n",
       "      <th>S0004</th>\n",
       "      <td>20.00</td>\n",
       "    </tr>\n",
       "    <tr>\n",
       "      <th>TSH_3</th>\n",
       "      <th>S0011</th>\n",
       "      <td>3.00</td>\n",
       "    </tr>\n",
       "    <tr>\n",
       "      <th rowspan=\"5\" valign=\"top\">2022-02-02</th>\n",
       "      <th>HOO_5</th>\n",
       "      <th>S0019</th>\n",
       "      <td>10.00</td>\n",
       "    </tr>\n",
       "    <tr>\n",
       "      <th>TAB_0</th>\n",
       "      <th>S0002</th>\n",
       "      <td>20.00</td>\n",
       "    </tr>\n",
       "    <tr>\n",
       "      <th>TAB_1</th>\n",
       "      <th>S0005</th>\n",
       "      <td>20.00</td>\n",
       "    </tr>\n",
       "    <tr>\n",
       "      <th>TSH_3</th>\n",
       "      <th>S0012</th>\n",
       "      <td>3.00</td>\n",
       "    </tr>\n",
       "    <tr>\n",
       "      <th>TSH_4</th>\n",
       "      <th>S0014</th>\n",
       "      <td>4.00</td>\n",
       "    </tr>\n",
       "    <tr>\n",
       "      <th rowspan=\"5\" valign=\"top\">2022-02-01</th>\n",
       "      <th>BED_2</th>\n",
       "      <th>S0007</th>\n",
       "      <td>23.00</td>\n",
       "    </tr>\n",
       "    <tr>\n",
       "      <th>TAB_0</th>\n",
       "      <th>S0003</th>\n",
       "      <td>20.00</td>\n",
       "    </tr>\n",
       "    <tr>\n",
       "      <th>TAB_1</th>\n",
       "      <th>S0006</th>\n",
       "      <td>40.00</td>\n",
       "    </tr>\n",
       "    <tr>\n",
       "      <th>TSH_3</th>\n",
       "      <th>S0013</th>\n",
       "      <td>3.00</td>\n",
       "    </tr>\n",
       "    <tr>\n",
       "      <th>TSH_4</th>\n",
       "      <th>S0015</th>\n",
       "      <td>8.00</td>\n",
       "    </tr>\n",
       "    <tr>\n",
       "      <th rowspan=\"4\" valign=\"top\">2022-01-31</th>\n",
       "      <th rowspan=\"3\" valign=\"top\">BED_2</th>\n",
       "      <th>S0008</th>\n",
       "      <td>23.00</td>\n",
       "    </tr>\n",
       "    <tr>\n",
       "      <th>S0009</th>\n",
       "      <td>23.00</td>\n",
       "    </tr>\n",
       "    <tr>\n",
       "      <th>S0010</th>\n",
       "      <td>69.00</td>\n",
       "    </tr>\n",
       "    <tr>\n",
       "      <th>TSH_4</th>\n",
       "      <th>S0016</th>\n",
       "      <td>8.00</td>\n",
       "    </tr>\n",
       "  </tbody>\n",
       "</table>\n",
       "</div>"
      ],
      "text/plain": [
       "                           PROFIT\n",
       "DATE       PRODUCT SALE_ID       \n",
       "2022-02-04 HOO_5   S0017    10.00\n",
       "           TAB_0   S0000    20.00\n",
       "2022-02-03 HOO_5   S0018    10.00\n",
       "           TAB_0   S0001    20.00\n",
       "           TAB_1   S0004    20.00\n",
       "           TSH_3   S0011     3.00\n",
       "2022-02-02 HOO_5   S0019    10.00\n",
       "           TAB_0   S0002    20.00\n",
       "           TAB_1   S0005    20.00\n",
       "           TSH_3   S0012     3.00\n",
       "           TSH_4   S0014     4.00\n",
       "2022-02-01 BED_2   S0007    23.00\n",
       "           TAB_0   S0003    20.00\n",
       "           TAB_1   S0006    40.00\n",
       "           TSH_3   S0013     3.00\n",
       "           TSH_4   S0015     8.00\n",
       "2022-01-31 BED_2   S0008    23.00\n",
       "                   S0009    23.00\n",
       "                   S0010    69.00\n",
       "           TSH_4   S0016     8.00"
      ]
     },
     "execution_count": 26,
     "metadata": {},
     "output_type": "execute_result"
    }
   ],
   "source": [
    "%%time\n",
    "\n",
    "cube.query(m[\"PROFIT\"], levels=[l[\"DATE\"], l[\"PRODUCT\"], l[\"SALE_ID\"]])"
   ]
  },
  {
   "cell_type": "markdown",
   "id": "fd36b224-ab65-45f0-a2fb-1e44c5fdb1c8",
   "metadata": {},
   "source": [
    "Previously, it took close to `3s` to return the query results. Now, it only takes slightly over `100ms` to return the results (YMMV).  \n",
    "\n",
    "Note that we are querying `PROFIT` and not the measures `m[\"QUANTITY.SUM\"]`, `m[\"PURCHASE_PRICE.SUM\"]` and `m[\"UNIT_PRICE.SUM\"]`. However, `PROFIT` is computed on the fly using the cached data in memory. Therefore, the query speed is improved drastically."
   ]
  },
  {
   "cell_type": "code",
   "execution_count": 27,
   "id": "800e212c-f4ce-4e77-8653-f8afd9b50043",
   "metadata": {
    "tags": []
   },
   "outputs": [
    {
     "name": "stdout",
     "output_type": "stream",
     "text": [
      "CPU times: user 5.48 ms, sys: 1.47 ms, total: 6.96 ms\n",
      "Wall time: 21.3 ms\n"
     ]
    },
    {
     "data": {
      "application/vnd.atoti.convert-mdx-query-result-to-widget.v0+json": {
       "mdx": "SELECT {[Measures].[PROFIT]} ON COLUMNS, NON EMPTY Hierarchize(Descendants({[Atoti Sales].[PRODUCT].[ALL].[AllMember]}, 1, SELF_AND_BEFORE)) ON ROWS FROM [Atoti Sales]",
       "sessionId": "1728068645_417060",
       "widgetCreationCode": "session.widget"
      },
      "text/html": [
       "<div>\n",
       "<style scoped>\n",
       "    .dataframe tbody tr th:only-of-type {\n",
       "        vertical-align: middle;\n",
       "    }\n",
       "\n",
       "    .dataframe tbody tr th {\n",
       "        vertical-align: top;\n",
       "    }\n",
       "\n",
       "    .dataframe thead th {\n",
       "        text-align: right;\n",
       "    }\n",
       "</style>\n",
       "<table border=\"1\" class=\"dataframe\">\n",
       "  <thead>\n",
       "    <tr style=\"text-align: right;\">\n",
       "      <th></th>\n",
       "      <th>PROFIT</th>\n",
       "    </tr>\n",
       "    <tr>\n",
       "      <th>PRODUCT</th>\n",
       "      <th></th>\n",
       "    </tr>\n",
       "  </thead>\n",
       "  <tbody>\n",
       "    <tr>\n",
       "      <th>BED_2</th>\n",
       "      <td>138.00</td>\n",
       "    </tr>\n",
       "    <tr>\n",
       "      <th>HOO_5</th>\n",
       "      <td>30.00</td>\n",
       "    </tr>\n",
       "    <tr>\n",
       "      <th>TAB_0</th>\n",
       "      <td>80.00</td>\n",
       "    </tr>\n",
       "    <tr>\n",
       "      <th>TAB_1</th>\n",
       "      <td>80.00</td>\n",
       "    </tr>\n",
       "    <tr>\n",
       "      <th>TSH_3</th>\n",
       "      <td>9.00</td>\n",
       "    </tr>\n",
       "    <tr>\n",
       "      <th>TSH_4</th>\n",
       "      <td>20.00</td>\n",
       "    </tr>\n",
       "  </tbody>\n",
       "</table>\n",
       "</div>"
      ],
      "text/plain": [
       "         PROFIT\n",
       "PRODUCT        \n",
       "BED_2    138.00\n",
       "HOO_5     30.00\n",
       "TAB_0     80.00\n",
       "TAB_1     80.00\n",
       "TSH_3      9.00\n",
       "TSH_4     20.00"
      ]
     },
     "execution_count": 27,
     "metadata": {},
     "output_type": "execute_result"
    }
   ],
   "source": [
    "%%time\n",
    "\n",
    "cube.query(m[\"PROFIT\"], levels=[l[\"PRODUCT\"]])"
   ]
  },
  {
   "cell_type": "markdown",
   "id": "3776a1f9-c10c-4912-866f-238a3b95fbee",
   "metadata": {},
   "source": [
    "Querying a subset of the aggregate provider levels also returns the result quickly.  \n",
    "\n",
    "The below query on a different level will access data from BigQuery and therefore, is limited by the querying speed of the cloud database and its network connectivity.  "
   ]
  },
  {
   "cell_type": "code",
   "execution_count": 28,
   "id": "08506fb9-16e3-4052-9288-380ecc441021",
   "metadata": {
    "tags": []
   },
   "outputs": [
    {
     "name": "stdout",
     "output_type": "stream",
     "text": [
      "CPU times: user 19.2 ms, sys: 4.81 ms, total: 24 ms\n",
      "Wall time: 1.56 s\n"
     ]
    },
    {
     "data": {
      "application/vnd.atoti.convert-mdx-query-result-to-widget.v0+json": {
       "mdx": "SELECT {[Measures].[PROFIT]} ON COLUMNS, NON EMPTY Crossjoin(Hierarchize(Descendants({[Atoti Sales].[DATE].[ALL].[AllMember]}, 1, SELF_AND_BEFORE)), Hierarchize(Descendants({[Atoti Product].[CATEGORY].[ALL].[AllMember]}, 2, SELF_AND_BEFORE))) ON ROWS FROM [Atoti Sales]",
       "sessionId": "1728068645_417060",
       "widgetCreationCode": "session.widget"
      },
      "text/html": [
       "<div>\n",
       "<style scoped>\n",
       "    .dataframe tbody tr th:only-of-type {\n",
       "        vertical-align: middle;\n",
       "    }\n",
       "\n",
       "    .dataframe tbody tr th {\n",
       "        vertical-align: top;\n",
       "    }\n",
       "\n",
       "    .dataframe thead th {\n",
       "        text-align: right;\n",
       "    }\n",
       "</style>\n",
       "<table border=\"1\" class=\"dataframe\">\n",
       "  <thead>\n",
       "    <tr style=\"text-align: right;\">\n",
       "      <th></th>\n",
       "      <th></th>\n",
       "      <th></th>\n",
       "      <th>PROFIT</th>\n",
       "    </tr>\n",
       "    <tr>\n",
       "      <th>DATE</th>\n",
       "      <th>CATEGORY</th>\n",
       "      <th>SUB_CATEGORY</th>\n",
       "      <th></th>\n",
       "    </tr>\n",
       "  </thead>\n",
       "  <tbody>\n",
       "    <tr>\n",
       "      <th rowspan=\"2\" valign=\"top\">2022-02-04</th>\n",
       "      <th>Cloth</th>\n",
       "      <th>Hoodie</th>\n",
       "      <td>10.00</td>\n",
       "    </tr>\n",
       "    <tr>\n",
       "      <th>Furniture</th>\n",
       "      <th>Table</th>\n",
       "      <td>20.00</td>\n",
       "    </tr>\n",
       "    <tr>\n",
       "      <th rowspan=\"3\" valign=\"top\">2022-02-03</th>\n",
       "      <th rowspan=\"2\" valign=\"top\">Cloth</th>\n",
       "      <th>Hoodie</th>\n",
       "      <td>10.00</td>\n",
       "    </tr>\n",
       "    <tr>\n",
       "      <th>Tshirt</th>\n",
       "      <td>3.00</td>\n",
       "    </tr>\n",
       "    <tr>\n",
       "      <th>Furniture</th>\n",
       "      <th>Table</th>\n",
       "      <td>40.00</td>\n",
       "    </tr>\n",
       "    <tr>\n",
       "      <th rowspan=\"3\" valign=\"top\">2022-02-02</th>\n",
       "      <th rowspan=\"2\" valign=\"top\">Cloth</th>\n",
       "      <th>Hoodie</th>\n",
       "      <td>10.00</td>\n",
       "    </tr>\n",
       "    <tr>\n",
       "      <th>Tshirt</th>\n",
       "      <td>7.00</td>\n",
       "    </tr>\n",
       "    <tr>\n",
       "      <th>Furniture</th>\n",
       "      <th>Table</th>\n",
       "      <td>40.00</td>\n",
       "    </tr>\n",
       "    <tr>\n",
       "      <th rowspan=\"3\" valign=\"top\">2022-02-01</th>\n",
       "      <th>Cloth</th>\n",
       "      <th>Tshirt</th>\n",
       "      <td>11.00</td>\n",
       "    </tr>\n",
       "    <tr>\n",
       "      <th rowspan=\"2\" valign=\"top\">Furniture</th>\n",
       "      <th>Bed</th>\n",
       "      <td>23.00</td>\n",
       "    </tr>\n",
       "    <tr>\n",
       "      <th>Table</th>\n",
       "      <td>60.00</td>\n",
       "    </tr>\n",
       "    <tr>\n",
       "      <th rowspan=\"2\" valign=\"top\">2022-01-31</th>\n",
       "      <th>Cloth</th>\n",
       "      <th>Tshirt</th>\n",
       "      <td>8.00</td>\n",
       "    </tr>\n",
       "    <tr>\n",
       "      <th>Furniture</th>\n",
       "      <th>Bed</th>\n",
       "      <td>115.00</td>\n",
       "    </tr>\n",
       "  </tbody>\n",
       "</table>\n",
       "</div>"
      ],
      "text/plain": [
       "                                   PROFIT\n",
       "DATE       CATEGORY  SUB_CATEGORY        \n",
       "2022-02-04 Cloth     Hoodie         10.00\n",
       "           Furniture Table          20.00\n",
       "2022-02-03 Cloth     Hoodie         10.00\n",
       "                     Tshirt          3.00\n",
       "           Furniture Table          40.00\n",
       "2022-02-02 Cloth     Hoodie         10.00\n",
       "                     Tshirt          7.00\n",
       "           Furniture Table          40.00\n",
       "2022-02-01 Cloth     Tshirt         11.00\n",
       "           Furniture Bed            23.00\n",
       "                     Table          60.00\n",
       "2022-01-31 Cloth     Tshirt          8.00\n",
       "           Furniture Bed           115.00"
      ]
     },
     "execution_count": 28,
     "metadata": {},
     "output_type": "execute_result"
    }
   ],
   "source": [
    "%%time\n",
    "\n",
    "cube.query(m[\"PROFIT\"], levels=[l[\"DATE\"], l[\"SUB_CATEGORY\"]])"
   ]
  },
  {
   "cell_type": "markdown",
   "id": "c260f204-8f69-4f99-aefa-3e881c29e4bc",
   "metadata": {},
   "source": [
    "Before we are done with this example, let's create another aggregate provider with a _slice_ of data using `filter`.  \n",
    "\n",
    "Let's first capture the timing of the query without the aggregate provider."
   ]
  },
  {
   "cell_type": "code",
   "execution_count": 29,
   "id": "fe342fd4-1c7f-4995-833d-f3cac15d2aa4",
   "metadata": {},
   "outputs": [
    {
     "name": "stdout",
     "output_type": "stream",
     "text": [
      "CPU times: user 30.8 ms, sys: 4.62 ms, total: 35.4 ms\n",
      "Wall time: 1.72 s\n"
     ]
    },
    {
     "data": {
      "application/vnd.atoti.convert-mdx-query-result-to-widget.v0+json": {
       "mdx": "SELECT {[Measures].[PROFIT]} ON COLUMNS, NON EMPTY Crossjoin(Hierarchize(Descendants({[Atoti Sales].[DATE].[ALL].[AllMember]}, 1, SELF_AND_BEFORE)), Hierarchize(Descendants({[Atoti Product].[CATEGORY].[ALL].[AllMember]}, 2, SELF_AND_BEFORE))) ON ROWS FROM (SELECT [Atoti Sales].[DATE].[ALL].[AllMember].[2022-02-04] ON COLUMNS FROM [Atoti Sales])",
       "sessionId": "1728068645_417060",
       "widgetCreationCode": "session.widget"
      },
      "text/html": [
       "<div>\n",
       "<style scoped>\n",
       "    .dataframe tbody tr th:only-of-type {\n",
       "        vertical-align: middle;\n",
       "    }\n",
       "\n",
       "    .dataframe tbody tr th {\n",
       "        vertical-align: top;\n",
       "    }\n",
       "\n",
       "    .dataframe thead th {\n",
       "        text-align: right;\n",
       "    }\n",
       "</style>\n",
       "<table border=\"1\" class=\"dataframe\">\n",
       "  <thead>\n",
       "    <tr style=\"text-align: right;\">\n",
       "      <th></th>\n",
       "      <th></th>\n",
       "      <th></th>\n",
       "      <th>PROFIT</th>\n",
       "    </tr>\n",
       "    <tr>\n",
       "      <th>DATE</th>\n",
       "      <th>CATEGORY</th>\n",
       "      <th>SUB_CATEGORY</th>\n",
       "      <th></th>\n",
       "    </tr>\n",
       "  </thead>\n",
       "  <tbody>\n",
       "    <tr>\n",
       "      <th rowspan=\"2\" valign=\"top\">2022-02-04</th>\n",
       "      <th>Cloth</th>\n",
       "      <th>Hoodie</th>\n",
       "      <td>10.00</td>\n",
       "    </tr>\n",
       "    <tr>\n",
       "      <th>Furniture</th>\n",
       "      <th>Table</th>\n",
       "      <td>20.00</td>\n",
       "    </tr>\n",
       "  </tbody>\n",
       "</table>\n",
       "</div>"
      ],
      "text/plain": [
       "                                  PROFIT\n",
       "DATE       CATEGORY  SUB_CATEGORY       \n",
       "2022-02-04 Cloth     Hoodie        10.00\n",
       "           Furniture Table         20.00"
      ]
     },
     "execution_count": 29,
     "metadata": {},
     "output_type": "execute_result"
    }
   ],
   "source": [
    "%%time\n",
    "\n",
    "cube.query(\n",
    "    m[\"PROFIT\"],\n",
    "    levels=[l[\"DATE\"], l[\"CATEGORY\"], l[\"SUB_CATEGORY\"]],\n",
    "    filter=(l[\"DATE\"] == \"2022-02-04\"),\n",
    ")"
   ]
  },
  {
   "cell_type": "code",
   "execution_count": 30,
   "id": "b240a857-71f6-4344-8967-570013c0ac98",
   "metadata": {
    "tags": []
   },
   "outputs": [],
   "source": [
    "from datetime import date\n",
    "\n",
    "current_date = date(2022, 2, 4)"
   ]
  },
  {
   "cell_type": "markdown",
   "id": "9526ed6a-2c74-4ab5-935e-51899123340c",
   "metadata": {},
   "source": [
    "In the event where users are interested in a particular member of level, e.g. the current date or a particular shop, and the amount of querying on this member is huge, then it makes sense to cache them in memory.  \n",
    "\n",
    "In this case, we apply filter just for the interested member. This helps to control the amount of data held in memory."
   ]
  },
  {
   "cell_type": "code",
   "execution_count": 31,
   "id": "17ae6441-66db-4038-bfee-28df3b2c576e",
   "metadata": {},
   "outputs": [],
   "source": [
    "cube.aggregate_providers.update(\n",
    "    {\n",
    "        \"Category provider\": tt.AggregateProvider(\n",
    "            key=\"bitmap\",\n",
    "            levels=[l[\"DATE\"], l[\"CATEGORY\"], l[\"SUB_CATEGORY\"]],\n",
    "            measures=[m[\"QUANTITY.SUM\"], m[\"PURCHASE_PRICE.SUM\"], m[\"UNIT_PRICE.SUM\"]],\n",
    "            filter=(l[\"DATE\"] == current_date),\n",
    "        )\n",
    "    }\n",
    ")"
   ]
  },
  {
   "cell_type": "code",
   "execution_count": 32,
   "id": "adc253db-cebe-49a2-a8ae-2f9630d5338d",
   "metadata": {
    "tags": []
   },
   "outputs": [
    {
     "name": "stdout",
     "output_type": "stream",
     "text": [
      "CPU times: user 24.8 ms, sys: 6.82 ms, total: 31.6 ms\n",
      "Wall time: 1.56 s\n"
     ]
    },
    {
     "data": {
      "application/vnd.atoti.convert-mdx-query-result-to-widget.v0+json": {
       "mdx": "SELECT {[Measures].[PROFIT]} ON COLUMNS, NON EMPTY Crossjoin(Hierarchize(Descendants({[Atoti Sales].[DATE].[ALL].[AllMember]}, 1, SELF_AND_BEFORE)), Hierarchize(Descendants({[Atoti Product].[CATEGORY].[ALL].[AllMember]}, 2, SELF_AND_BEFORE))) ON ROWS FROM (SELECT [Atoti Sales].[DATE].[ALL].[AllMember].[2022-02-04] ON COLUMNS FROM [Atoti Sales])",
       "sessionId": "1728068645_417060",
       "widgetCreationCode": "session.widget"
      },
      "text/html": [
       "<div>\n",
       "<style scoped>\n",
       "    .dataframe tbody tr th:only-of-type {\n",
       "        vertical-align: middle;\n",
       "    }\n",
       "\n",
       "    .dataframe tbody tr th {\n",
       "        vertical-align: top;\n",
       "    }\n",
       "\n",
       "    .dataframe thead th {\n",
       "        text-align: right;\n",
       "    }\n",
       "</style>\n",
       "<table border=\"1\" class=\"dataframe\">\n",
       "  <thead>\n",
       "    <tr style=\"text-align: right;\">\n",
       "      <th></th>\n",
       "      <th></th>\n",
       "      <th></th>\n",
       "      <th>PROFIT</th>\n",
       "    </tr>\n",
       "    <tr>\n",
       "      <th>DATE</th>\n",
       "      <th>CATEGORY</th>\n",
       "      <th>SUB_CATEGORY</th>\n",
       "      <th></th>\n",
       "    </tr>\n",
       "  </thead>\n",
       "  <tbody>\n",
       "    <tr>\n",
       "      <th rowspan=\"2\" valign=\"top\">2022-02-04</th>\n",
       "      <th>Cloth</th>\n",
       "      <th>Hoodie</th>\n",
       "      <td>10.00</td>\n",
       "    </tr>\n",
       "    <tr>\n",
       "      <th>Furniture</th>\n",
       "      <th>Table</th>\n",
       "      <td>20.00</td>\n",
       "    </tr>\n",
       "  </tbody>\n",
       "</table>\n",
       "</div>"
      ],
      "text/plain": [
       "                                  PROFIT\n",
       "DATE       CATEGORY  SUB_CATEGORY       \n",
       "2022-02-04 Cloth     Hoodie        10.00\n",
       "           Furniture Table         20.00"
      ]
     },
     "execution_count": 32,
     "metadata": {},
     "output_type": "execute_result"
    }
   ],
   "source": [
    "%%time\n",
    "\n",
    "cube.query(\n",
    "    m[\"PROFIT\"],\n",
    "    levels=[l[\"DATE\"], l[\"CATEGORY\"], l[\"SUB_CATEGORY\"]],\n",
    "    filter=(l[\"DATE\"] == \"2022-02-04\"),\n",
    ")"
   ]
  },
  {
   "cell_type": "markdown",
   "id": "4b392590-0e19-4d03-84db-853028977e8b",
   "metadata": {},
   "source": [
    "## Balance between Cost and Performance"
   ]
  },
  {
   "cell_type": "markdown",
   "id": "1f44c57a-00ad-44eb-9195-ed0b0a808a62",
   "metadata": {},
   "source": [
    "All in all, Atoti's DirectQuery offers users a way to balance between cost and performance:\n",
    "\n",
    "* For data that is less queried, it resides on the cloud database and gets queried on-demand.\n",
    "* For data that is more frequently queried, we can cache it in memory and reduce the number of queries to the cloud database, thereby improving performance.  \n",
    "\n",
    "<img src=\"https://data.atoti.io/notebooks/direct-query/img/aggregate_cache.png\" />  \n",
    "\n",
    "💡 **Note:** To find out more, reach out to [ActiveViam](https://activeviam.com/contact-us/?utm_source=github&utm_medium=atoti) for a demonstration."
   ]
  },
  {
   "cell_type": "markdown",
   "id": "455e3f95-0a8c-48bf-b793-69d5fe2f2083",
   "metadata": {},
   "source": [
    "<div style=\"text-align: center;\" ><a href=\"https://www.atoti.io/?utm_source=gallery&utm_content=directquery-intro\" target=\"_blank\" rel=\"noopener noreferrer\"><img src=\"https://data.atoti.io/notebooks/banners/Your-turn-to-try-Atoti.jpg\" alt=\"Try Atoti\"></a></div>"
   ]
  }
 ],
 "metadata": {
  "kernelspec": {
   "display_name": "Python 3 (ipykernel)",
   "language": "python",
   "name": "python3"
  },
  "language_info": {
   "codemirror_mode": {
    "name": "ipython",
    "version": 3
   },
   "file_extension": ".py",
   "mimetype": "text/x-python",
   "name": "python",
   "nbconvert_exporter": "python",
   "pygments_lexer": "ipython3",
   "version": "3.10.0"
  },
  "widgets": {
   "application/vnd.jupyter.widget-state+json": {
    "state": {},
    "version_major": 2,
    "version_minor": 0
   }
  }
 },
 "nbformat": 4,
 "nbformat_minor": 5
}
