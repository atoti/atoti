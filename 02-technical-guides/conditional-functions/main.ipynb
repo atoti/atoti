{
 "cells": [
  {
   "cell_type": "markdown",
   "id": "6628f4f3-85b5-41b1-a238-b5a74a1f2951",
   "metadata": {},
   "source": [
    "# Conditional Querying and Measure Creation in Atoti   \n",
    "\n",
    "Regardless of the programming language used, we always require conditional statements to manage things differently based on situations:\n",
    "\n",
    "```python\n",
    "if value > x:\n",
    "    do something\n",
    "else:\n",
    "    do different thing\n",
    "```\n",
    "\n",
    "To allow us manage our aggregation dynamically, [Atoti](https://www.atoti.io/) also has our own conditional functions:  \n",
    "- [atoti.where](https://docs.atoti.io/latest/api/atoti.where.html#atoti.where)\n",
    "- [atoti.switch](https://docs.atoti.io/latest/api/atoti.switch.html#atoti.switch)\n",
    "- [atoti.filter](https://docs.atoti.io/latest/api/atoti.filter.html#atoti.filter)  \n",
    "\n",
    "Generally speaking, `atoti.where` and `atoti.switch` are implemented the same way and we can apply conditions on `measures` and `levels`. `atoti.filter`, on the other hand, is more restrictive as we can only apply conditions on `levels`. It is, however, faster in terms of performance.\n",
    "\n",
    "Other than defining measures conditionally, we can also query the atoti cube conditionally by using the `filter` parameter in `cube.query`. This would allow us to return a subset of the query results according to our needs. Keep on reading to see when and how we apply them in our queries and measure definition.  \n",
    "\n",
    "💡 **Note:** This notebook references the [XVA use case](https://github.com/atoti/notebooks/blob/main/notebooks/01-use-cases/finance/risk-management/credit-risk/xva/main.ipynb) in the [Atoti CE notebook gallery](https://github.com/atoti/notebooks). Refer to the [app.py](./utils/app.py) for the details of the creation of cube, hierarchies and other measures created for this use case.  "
   ]
  },
  {
   "cell_type": "markdown",
   "id": "e5f1b5b6-ac8b-44ef-ba52-7c75353389c5",
   "metadata": {},
   "source": [
    "<div style=\"text-align: center;\" ><a href=\"https://www.atoti.io/?utm_source=gallery&utm_content=conditional-functions\" target=\"_blank\" rel=\"noopener noreferrer\"><img src=\"https://data.atoti.io/notebooks/banners/Discover-Atoti-now.png\" alt=\"Try atoti\"></a></div>"
   ]
  },
  {
   "cell_type": "code",
   "execution_count": 1,
   "id": "f428c44d-e819-477c-8363-147a6a5ce3ca",
   "metadata": {},
   "outputs": [],
   "source": [
    "from utils import app\n",
    "\n",
    "import atoti as tt"
   ]
  },
  {
   "cell_type": "code",
   "execution_count": 2,
   "id": "3a20f03c-6885-4277-90fa-9f2852f39d86",
   "metadata": {},
   "outputs": [
    {
     "name": "stdout",
     "output_type": "stream",
     "text": [
      "Downloading: 43% [12279808 / 28237877] bytes\n"
     ]
    },
    {
     "name": "stderr",
     "output_type": "stream",
     "text": [
      "IOPub message rate exceeded.\n",
      "The Jupyter server will temporarily stop sending output\n",
      "to the client in order to avoid crashing it.\n",
      "To change this limit, set the config variable\n",
      "`--ServerApp.iopub_msg_rate_limit`.\n",
      "\n",
      "Current values:\n",
      "ServerApp.iopub_msg_rate_limit=1000.0 (msgs/sec)\n",
      "ServerApp.rate_limit_window=3.0 (secs)\n",
      "\n"
     ]
    }
   ],
   "source": [
    "# set getDate=\"N\" if you have previously downloaded data for this particular use case\n",
    "session, cube = app.launch_cube(getData=\"Y\")"
   ]
  },
  {
   "cell_type": "code",
   "execution_count": 3,
   "id": "8901527b-8627-4d44-9fb3-f64c28d8cc7b",
   "metadata": {
    "editable": true,
    "slideshow": {
     "slide_type": ""
    },
    "tags": []
   },
   "outputs": [
    {
     "data": {
      "text/markdown": [
       "```mermaid\n",
       "erDiagram\n",
       "  \"Monte Carlo Data\" {\n",
       "    _ LocalDate PK \"AsOfDate\"\n",
       "    _ String PK \"TradeId\"\n",
       "    _ int PK \"TimePoint\"\n",
       "    nullable double[] \"MtM_vector\"\n",
       "    _ String \"CounterpartyId\"\n",
       "  }\n",
       "  \"Limits\" {\n",
       "    _ String PK \"CounterpartyId\"\n",
       "    nullable int \"PFE Limit\"\n",
       "  }\n",
       "  \"Confidence Levels\" {\n",
       "    _ String PK \"Scenario\"\n",
       "    _ double \"Confidence Level\"\n",
       "  }\n",
       "  \"Trade Attributes\" {\n",
       "    _ LocalDate PK \"AsOfDate\"\n",
       "    _ String PK \"TradeId\"\n",
       "    _ String \"StrutureId\"\n",
       "    nullable int \"ProductId\"\n",
       "    _ String \"EntityId\"\n",
       "    _ String \"AgreementId\"\n",
       "    _ String \"AgreementPool\"\n",
       "    _ String \"CSAIdVM\"\n",
       "    _ String \"CSAIdIM\"\n",
       "    _ LocalDate \"BreakDate\"\n",
       "    _ LocalDate \"MaturityDate\"\n",
       "    _ LocalDate \"TradeDate\"\n",
       "    nullable double \"NotionalUSD\"\n",
       "    nullable int \"IndependentAmount\"\n",
       "    _ String \"Desk\"\n",
       "  }\n",
       "  \"TypeofRiskMitigant-f6dba90f-b12e-4e14-9acd-83e1bddcb4d9\" {\n",
       "    _ String PK \"TypeofRiskMitigant\"\n",
       "  }\n",
       "  \"Monte Carlo Date Labels\" {\n",
       "    _ LocalDate PK \"AsOfDate\"\n",
       "    _ int PK \"TimePoint\"\n",
       "    _ LocalDate \"TimePointDate\"\n",
       "  }\n",
       "  \"Monte Carlo Data\" }o--o| \"Monte Carlo Date Labels\" : \"(`TimePoint` == `TimePoint`) & (`AsOfDate` == `AsOfDate`)\"\n",
       "  \"Monte Carlo Data\" }o--o| \"Limits\" : \"`CounterpartyId` == `CounterpartyId`\"\n",
       "  \"Monte Carlo Data\" }o--o| \"Trade Attributes\" : \"(`TradeId` == `TradeId`) & (`AsOfDate` == `AsOfDate`)\"\n",
       "  \"Monte Carlo Data\" }o..o{ \"TypeofRiskMitigant-f6dba90f-b12e-4e14-9acd-83e1bddcb4d9\" : \"\"\n",
       "```\n"
      ],
      "text/plain": [
       "erDiagram\n",
       "  \"Monte Carlo Data\" {\n",
       "    _ LocalDate PK \"AsOfDate\"\n",
       "    _ String PK \"TradeId\"\n",
       "    _ int PK \"TimePoint\"\n",
       "    nullable double[] \"MtM_vector\"\n",
       "    _ String \"CounterpartyId\"\n",
       "  }\n",
       "  \"Limits\" {\n",
       "    _ String PK \"CounterpartyId\"\n",
       "    nullable int \"PFE Limit\"\n",
       "  }\n",
       "  \"Confidence Levels\" {\n",
       "    _ String PK \"Scenario\"\n",
       "    _ double \"Confidence Level\"\n",
       "  }\n",
       "  \"Trade Attributes\" {\n",
       "    _ LocalDate PK \"AsOfDate\"\n",
       "    _ String PK \"TradeId\"\n",
       "    _ String \"StrutureId\"\n",
       "    nullable int \"ProductId\"\n",
       "    _ String \"EntityId\"\n",
       "    _ String \"AgreementId\"\n",
       "    _ String \"AgreementPool\"\n",
       "    _ String \"CSAIdVM\"\n",
       "    _ String \"CSAIdIM\"\n",
       "    _ LocalDate \"BreakDate\"\n",
       "    _ LocalDate \"MaturityDate\"\n",
       "    _ LocalDate \"TradeDate\"\n",
       "    nullable double \"NotionalUSD\"\n",
       "    nullable int \"IndependentAmount\"\n",
       "    _ String \"Desk\"\n",
       "  }\n",
       "  \"TypeofRiskMitigant-f6dba90f-b12e-4e14-9acd-83e1bddcb4d9\" {\n",
       "    _ String PK \"TypeofRiskMitigant\"\n",
       "  }\n",
       "  \"Monte Carlo Date Labels\" {\n",
       "    _ LocalDate PK \"AsOfDate\"\n",
       "    _ int PK \"TimePoint\"\n",
       "    _ LocalDate \"TimePointDate\"\n",
       "  }\n",
       "  \"Monte Carlo Data\" }o--o| \"Monte Carlo Date Labels\" : \"(`TimePoint` == `TimePoint`) & (`AsOfDate` == `AsOfDate`)\"\n",
       "  \"Monte Carlo Data\" }o--o| \"Limits\" : \"`CounterpartyId` == `CounterpartyId`\"\n",
       "  \"Monte Carlo Data\" }o--o| \"Trade Attributes\" : \"(`TradeId` == `TradeId`) & (`AsOfDate` == `AsOfDate`)\"\n",
       "  \"Monte Carlo Data\" }o..o{ \"TypeofRiskMitigant-f6dba90f-b12e-4e14-9acd-83e1bddcb4d9\" : \"\""
      ]
     },
     "execution_count": 3,
     "metadata": {},
     "output_type": "execute_result"
    }
   ],
   "source": [
    "session.tables.schema"
   ]
  },
  {
   "cell_type": "code",
   "execution_count": 4,
   "id": "95f4a3e6-8830-4bef-8993-1424f9170467",
   "metadata": {},
   "outputs": [],
   "source": [
    "m, h, l = cube.measures, cube.hierarchies, cube.levels"
   ]
  },
  {
   "cell_type": "markdown",
   "id": "028d31bb-3383-4e7b-8251-70a68ad30f30",
   "metadata": {},
   "source": [
    "## Querying atoti cube conditionally"
   ]
  },
  {
   "cell_type": "markdown",
   "id": "6aa9c1d6-bfff-4930-b4e4-23f2e41e03ab",
   "metadata": {},
   "source": [
    "We look at two ways we can query the Atoti cube:  \n",
    "- [Visualization](https://activeviam.com/activeui/documentation/latest/docs/user-guides/filters) with the help to the Atoti JupyterLab extension or filter editor in the web application.\n",
    "- [Cube querying](https://docs.atoti.io/latest/api/atoti.Cube.query.html#atoti.Cube.query) that outputs a DataFrame."
   ]
  },
  {
   "cell_type": "markdown",
   "id": "a2d65e9d-ec44-4b6f-8b73-d4c67917f189",
   "metadata": {},
   "source": [
    "### Applying widget filter on data visualization"
   ]
  },
  {
   "cell_type": "markdown",
   "id": "02dd43e4-ba44-43d1-932e-b18dfcd3f882",
   "metadata": {},
   "source": [
    "By applying widget filter on the below visualization, we restricted the view that is returned:  \n",
    "\n",
    "<img src=\"img/visualization-filter.png\" width=\"60%\" />  \n",
    "\n",
    "We excluded the \"xVA Desk\" and included only those `CounterpartyId` starting with \"Banco\"."
   ]
  },
  {
   "cell_type": "code",
   "execution_count": 5,
   "id": "ab4aee23-2fad-4c9f-b5a4-412eac11b108",
   "metadata": {
    "atoti": {
     "height": 312,
     "widget": {
      "columnWidths": {
       "[Measures].[MtM_vector.SUM]": 238,
       "[Monte Carlo Data].[CounterpartyId].[CounterpartyId]": 230
      },
      "filters": [
       "Except([Trade Attributes].[Desk].Members, [Trade Attributes].[Desk].[AllMember].[xVA Desk])",
       "{[Monte Carlo Data].[CounterpartyId].[AllMember].[Banco Popular - Societa Cooperativa], [Monte Carlo Data].[CounterpartyId].[AllMember].[Banco Santander Chile (ADR)], [Monte Carlo Data].[CounterpartyId].[AllMember].[Banco Santander SA]}"
      ],
      "mapping": {
       "columns": [
        "ALL_MEASURES"
       ],
       "measures": [
        "[Measures].[MtM_vector.SUM]"
       ],
       "rows": [
        "[Trade Attributes].[Desk].[Desk]",
        "[Monte Carlo Data].[CounterpartyId].[CounterpartyId]"
       ]
      },
      "query": {
       "mdx": "SELECT NON EMPTY {[Measures].[MtM_vector.SUM]} ON COLUMNS, NON EMPTY Crossjoin(Hierarchize(Descendants({[Trade Attributes].[Desk].[AllMember]}, 1, SELF_AND_BEFORE)), Hierarchize(Descendants({[Monte Carlo Data].[CounterpartyId].[AllMember]}, 1, SELF_AND_BEFORE))) ON ROWS FROM [Monte Carlo Analytics] CELL PROPERTIES VALUE, FORMATTED_VALUE, BACK_COLOR, FORE_COLOR, FONT_FLAGS",
       "updateMode": "once"
      },
      "serverKey": "default",
      "widgetKey": "pivot-table"
     }
    },
    "tags": []
   },
   "outputs": [
    {
     "data": {
      "application/vnd.atoti.widget.v0+json": {
       "sessionId": "1715107364_6EMIT4",
       "sessionLocation": {
        "https": false,
        "port": 56123
       },
       "widgetCreationCode": "session.widget"
      },
      "text/html": [
       "<img height=\"0\" width=\"0\" src=\"data:,AAAAAAAAAAAAAAAAAAAAAAAAAAAAAAAAAAAAAAAAAAAAAAAACXBIWXMAABqTAAAakwH55E62\" />"
      ],
      "text/plain": [
       "Open the notebook in JupyterLab with the Atoti JupyterLab extension enabled to build this widget."
      ]
     },
     "metadata": {},
     "output_type": "display_data"
    }
   ],
   "source": [
    "session.widget"
   ]
  },
  {
   "cell_type": "markdown",
   "id": "5bd79368-bf9a-492c-9eb5-3cfa4aaaeadd",
   "metadata": {},
   "source": [
    "### Using `filter` parameter in Cube Query"
   ]
  },
  {
   "cell_type": "markdown",
   "id": "851bf365-7943-4463-883a-e92408c0c58d",
   "metadata": {},
   "source": [
    "In the [`filter` parameter](https://docs.atoti.io/latest/api/atoti_query.QueryCube.query.html#atoti_query.QueryCube.query) of the `cube.query`, we can apply the conditions on levels to provide a subset of the returned result set. This is different from the [`atoti.filter` function](https://docs.atoti.io/latest/api/atoti.filter.html#atoti.filter) which we can use in measure definitions (shown below). Nonetheless, the way we write the conditions are similar. If there are more than one condition, remember to group each on in its on parenthesis before applying the logical operator in between. Use `&` for `and` operator, and `|` for `or` operator.  \n",
    "\n",
    "💡 **Note:**\n",
    "\n",
    "1. Filtering conditions in cube querying is inclusive only, i.e. we cannot negate `isin` to exclude `xVA Desk` as in the visualization above.  \n",
    "2. The filter conditions for the query works only with _LevelCoordinates_ and not with _MeasureCoordinates_. This means, we cannot apply conditions such as `m[\"contributor.COUNT\"] > 10` in the query. \n",
    "3. We can only apply __equality conditions__ on __constants__. i.e. `l[\"AsOfDate\"] == \"2020-09-08\"` or `l[\"Desk\"].isin(\"Commodities Desk\", \"Equity Desk\", \"Rates Desk\")`."
   ]
  },
  {
   "cell_type": "code",
   "execution_count": 6,
   "id": "335961ad-926b-4fd2-9779-ec4322f41e0b",
   "metadata": {},
   "outputs": [
    {
     "data": {
      "text/html": [
       "<div>\n",
       "<style scoped>\n",
       "    .dataframe tbody tr th:only-of-type {\n",
       "        vertical-align: middle;\n",
       "    }\n",
       "\n",
       "    .dataframe tbody tr th {\n",
       "        vertical-align: top;\n",
       "    }\n",
       "\n",
       "    .dataframe thead th {\n",
       "        text-align: right;\n",
       "    }\n",
       "</style>\n",
       "<table border=\"1\" class=\"dataframe\">\n",
       "  <thead>\n",
       "    <tr style=\"text-align: right;\">\n",
       "      <th></th>\n",
       "      <th></th>\n",
       "      <th>MtM_vector.SUM</th>\n",
       "    </tr>\n",
       "    <tr>\n",
       "      <th>Desk</th>\n",
       "      <th>CounterpartyId</th>\n",
       "      <th></th>\n",
       "    </tr>\n",
       "  </thead>\n",
       "  <tbody>\n",
       "    <tr>\n",
       "      <th rowspan=\"2\" valign=\"top\">Commodities Desk</th>\n",
       "      <th>Banco Santander Chile (ADR)</th>\n",
       "      <td>[-115498.8072, 177260.416, 80310.30010000001, ...</td>\n",
       "    </tr>\n",
       "    <tr>\n",
       "      <th>Banco Santander SA</th>\n",
       "      <td>[-60767.9726, 185600.36490000002, -148429.0567...</td>\n",
       "    </tr>\n",
       "    <tr>\n",
       "      <th>Equity Desk</th>\n",
       "      <th>Banco Santander SA</th>\n",
       "      <td>[-104984.05439999998, -38411.4983, -31112.7732...</td>\n",
       "    </tr>\n",
       "    <tr>\n",
       "      <th>Rates Desk</th>\n",
       "      <th>Banco Popular - Societa Cooperativa</th>\n",
       "      <td>[-136593.7919, 301989.336, 182280.58620000002,...</td>\n",
       "    </tr>\n",
       "  </tbody>\n",
       "</table>\n",
       "</div>"
      ],
      "text/plain": [
       "                                                                                         MtM_vector.SUM\n",
       "Desk             CounterpartyId                                                                        \n",
       "Commodities Desk Banco Santander Chile (ADR)          [-115498.8072, 177260.416, 80310.30010000001, ...\n",
       "                 Banco Santander SA                   [-60767.9726, 185600.36490000002, -148429.0567...\n",
       "Equity Desk      Banco Santander SA                   [-104984.05439999998, -38411.4983, -31112.7732...\n",
       "Rates Desk       Banco Popular - Societa Cooperativa  [-136593.7919, 301989.336, 182280.58620000002,..."
      ]
     },
     "execution_count": 6,
     "metadata": {},
     "output_type": "execute_result"
    }
   ],
   "source": [
    "cp_mtm_df = cube.query(\n",
    "    m[\"MtM_vector.SUM\"],\n",
    "    levels=[l[\"Desk\"], l[\"CounterpartyId\"]],\n",
    "    filter=(l[\"Desk\"].isin(\"Commodities Desk\", \"Equity Desk\", \"Rates Desk\"))\n",
    "    & (\n",
    "        l[\"CounterpartyId\"].isin(\n",
    "            \"Banco Popular - Societa Cooperativa\",\n",
    "            \"Banco Popular Espanol SA\",\n",
    "            \"Banco Santander Chile (ADR)\",\n",
    "            \"Banco Santander SA\",\n",
    "        )\n",
    "    ),\n",
    ")\n",
    "\n",
    "cp_mtm_df.head()"
   ]
  },
  {
   "cell_type": "markdown",
   "id": "86d8a190-b0b2-4e45-af58-9f87fd0e5429",
   "metadata": {
    "tags": []
   },
   "source": [
    "## Understanding `atoti.filter` function and its application"
   ]
  },
  {
   "cell_type": "markdown",
   "id": "8433d7dd-2c9e-42a2-a9c6-2c972c1640d8",
   "metadata": {},
   "source": [
    "In this section, we look at the atoti function [`atoti.filter`](https://docs.atoti.io/latest/api/atoti.filter.html#atoti.filter), which is different from the `filter` parameter of the `cube.query` function.  \n",
    "\n",
    "We make use of the `atoti.filter` function in measure definitions to apply condition(s) on _levels_. It returns the measure value only when the condition is `True`. Otherwise, `None` is returned.  "
   ]
  },
  {
   "cell_type": "code",
   "execution_count": 7,
   "id": "1142c47a-2ab7-4cf6-b704-d88654fdfcfc",
   "metadata": {},
   "outputs": [],
   "source": [
    "from datetime import date\n",
    "\n",
    "current_date = date.today()"
   ]
  },
  {
   "cell_type": "code",
   "execution_count": 8,
   "id": "de42f956-a6da-4e6d-bb57-fcae54e8f4ae",
   "metadata": {},
   "outputs": [],
   "source": [
    "m[\"Matured Notional Value\"] = tt.filter(\n",
    "    m[\"NotionalUSD\"], l[\"MaturityDate\"] <= current_date\n",
    ")"
   ]
  },
  {
   "cell_type": "markdown",
   "id": "c5a3c239-a8d0-4841-99e4-232f598f3a5a",
   "metadata": {},
   "source": [
    "In the above filter, we return the `NotionalUSD` values when `MaturityDate` is before or equal to current date. The `atoti.filter` function supports inequality comparisons."
   ]
  },
  {
   "cell_type": "code",
   "execution_count": 9,
   "id": "9e1268ac-8f47-4043-a82e-44104046ca73",
   "metadata": {
    "atoti": {
     "height": 618,
     "widget": {
      "columnWidths": {
       "[Measures].[Matured Notional Value]": 150,
       "[Measures].[NotionalUSD]": 114
      },
      "mapping": {
       "columns": [
        "ALL_MEASURES"
       ],
       "measures": [
        "[Measures].[NotionalUSD]",
        "[Measures].[Matured Notional Value]"
       ],
       "rows": [
        "[Monte Carlo Data].[AsOfDate].[AsOfDate]",
        "[Trade Attributes].[MaturityDate].[MaturityDate]"
       ]
      },
      "query": {
       "mdx": "SELECT NON EMPTY Crossjoin(Hierarchize(Descendants({[Monte Carlo Data].[AsOfDate].[AllMember]}, 1, SELF_AND_BEFORE)), Hierarchize(Descendants({[Trade Attributes].[MaturityDate].[AllMember]}, 1, SELF_AND_BEFORE))) ON ROWS, NON EMPTY {[Measures].[NotionalUSD], [Measures].[Matured Notional Value]} ON COLUMNS FROM [Monte Carlo Analytics] CELL PROPERTIES VALUE, FORMATTED_VALUE, BACK_COLOR, FORE_COLOR, FONT_FLAGS",
       "updateMode": "once"
      },
      "serverKey": "default",
      "widgetKey": "pivot-table"
     }
    },
    "tags": []
   },
   "outputs": [
    {
     "data": {
      "application/vnd.atoti.widget.v0+json": {
       "sessionId": "1715107364_6EMIT4",
       "sessionLocation": {
        "https": false,
        "port": 56123
       },
       "widgetCreationCode": "session.widget"
      },
      "text/html": [
       "<img height=\"0\" width=\"0\" src=\"data:,AAAAAAAAAAAAAAAAAAAAAAAAAAAAAAAAAAAAAAAAAAAAAAAACXBIWXMAABqTAAAakwH55E62\" />"
      ],
      "text/plain": [
       "Open the notebook in JupyterLab with the Atoti JupyterLab extension enabled to build this widget."
      ]
     },
     "metadata": {},
     "output_type": "display_data"
    }
   ],
   "source": [
    "session.widget"
   ]
  },
  {
   "cell_type": "markdown",
   "id": "31ffd182-c7ec-42f8-95e7-3155c3eeb092",
   "metadata": {},
   "source": [
    "We can also use `atoti.filter` if we want the measure to be returned for a particular member of the hierarchy only. E.g below, we compute the notional amount that is maturing in 2023."
   ]
  },
  {
   "cell_type": "code",
   "execution_count": 10,
   "id": "05342c5d-b468-4dcd-9f39-1ab4e60e4fa5",
   "metadata": {},
   "outputs": [],
   "source": [
    "m[\"Notional 2023\"] = tt.filter(m[\"NotionalUSD\"], l[\"Year\"] == \"2023\")"
   ]
  },
  {
   "cell_type": "code",
   "execution_count": 11,
   "id": "c24a768a-1de3-4443-8157-fe5d3e0897fa",
   "metadata": {
    "atoti": {
     "height": 493,
     "widget": {
      "columnWidths": {
       "[Measures].[Matured Notional Value]": 150,
       "[Measures].[NotionalUSD]": 114
      },
      "mapping": {
       "columns": [
        "ALL_MEASURES"
       ],
       "measures": [
        "[Measures].[NotionalUSD]",
        "[Measures].[Matured Notional Value]",
        "[Measures].[Notional 2023]"
       ],
       "rows": [
        "[Monte Carlo Data].[AsOfDate].[AsOfDate]",
        "[Trade Attributes].[MaturityDate].[MaturityDate]"
       ]
      },
      "query": {
       "mdx": "SELECT NON EMPTY Crossjoin(Hierarchize(Descendants({[Monte Carlo Data].[AsOfDate].[AllMember]}, 1, SELF_AND_BEFORE)), Hierarchize(Descendants({[Trade Attributes].[MaturityDate].[AllMember]}, 1, SELF_AND_BEFORE))) ON ROWS, NON EMPTY {[Measures].[NotionalUSD], [Measures].[Matured Notional Value], [Measures].[Notional 2023]} ON COLUMNS FROM [Monte Carlo Analytics] CELL PROPERTIES VALUE, FORMATTED_VALUE, BACK_COLOR, FORE_COLOR, FONT_FLAGS",
       "updateMode": "once"
      },
      "serverKey": "default",
      "widgetKey": "pivot-table"
     }
    },
    "tags": []
   },
   "outputs": [
    {
     "data": {
      "application/vnd.atoti.widget.v0+json": {
       "sessionId": "1715107364_6EMIT4",
       "sessionLocation": {
        "https": false,
        "port": 56123
       },
       "widgetCreationCode": "session.widget"
      },
      "text/html": [
       "<img height=\"0\" width=\"0\" src=\"data:,AAAAAAAAAAAAAAAAAAAAAAAAAAAAAAAAAAAAAAAAAAAAAAAACXBIWXMAABqTAAAakwH55E62\" />"
      ],
      "text/plain": [
       "Open the notebook in JupyterLab with the Atoti JupyterLab extension enabled to build this widget."
      ]
     },
     "metadata": {},
     "output_type": "display_data"
    }
   ],
   "source": [
    "session.widget"
   ]
  },
  {
   "cell_type": "markdown",
   "id": "a99b56a4-f311-4cd8-a4ad-bbca0e75f6fa",
   "metadata": {},
   "source": [
    "To summarize, we make use of `atoti.filter` to return the values of a measure for either a given member of a level or a combination of selection criteria on multiple levels. Therefore, we __do not__ check for `None` type values using `atoti.filter`."
   ]
  },
  {
   "cell_type": "markdown",
   "id": "1f7064b4-0a59-433f-b7a0-a0ca7ff7ff70",
   "metadata": {},
   "source": [
    "## Understanding `atoti.where` and its application"
   ]
  },
  {
   "cell_type": "markdown",
   "id": "33b10a31-913b-49d2-9e10-6b26b011a5ce",
   "metadata": {},
   "source": [
    "Different from `atoti.filter`, we can do the following with the [`atoti.where`](https://docs.atoti.io/latest/api/atoti.where.html#atoti.where) function:\n",
    "\n",
    "1. Apply conditions on both _levels_ and _measures_.\n",
    "2. Propose a different value for `atoti.where` when the condition returns false, i.e. the `else` option.\n",
    "\n",
    "Let's look at some examples.  "
   ]
  },
  {
   "cell_type": "markdown",
   "id": "3e26b462-a6dd-450d-a2b1-605e383079bd",
   "metadata": {},
   "source": [
    "### Using conditional checks to hide grand totals"
   ]
  },
  {
   "cell_type": "markdown",
   "id": "850e148d-1c6a-4c69-bc9a-398f2c075e08",
   "metadata": {},
   "source": [
    "There are some instances where we do not want the sub-totals or grand-totals as it doesn't make sense to aggregate the values.\n",
    "\n",
    "Let's take a quick look at the following Pivot table and suppose that we want the `CE_vector` value to be applicable only at the `TimePoint` level.  "
   ]
  },
  {
   "cell_type": "code",
   "execution_count": 12,
   "id": "89f1f33b-6c68-4300-a091-573ccc327219",
   "metadata": {
    "tags": []
   },
   "outputs": [
    {
     "data": {
      "text/html": [
       "<div>\n",
       "<style scoped>\n",
       "    .dataframe tbody tr th:only-of-type {\n",
       "        vertical-align: middle;\n",
       "    }\n",
       "\n",
       "    .dataframe tbody tr th {\n",
       "        vertical-align: top;\n",
       "    }\n",
       "\n",
       "    .dataframe thead th {\n",
       "        text-align: right;\n",
       "    }\n",
       "</style>\n",
       "<table border=\"1\" class=\"dataframe\">\n",
       "  <thead>\n",
       "    <tr style=\"text-align: right;\">\n",
       "      <th></th>\n",
       "      <th></th>\n",
       "      <th>CE_vector</th>\n",
       "    </tr>\n",
       "    <tr>\n",
       "      <th>CounterpartyId</th>\n",
       "      <th>TimePoint</th>\n",
       "      <th></th>\n",
       "    </tr>\n",
       "  </thead>\n",
       "  <tbody>\n",
       "    <tr>\n",
       "      <th>Total</th>\n",
       "      <th></th>\n",
       "      <td>doubleVector[1001]{4700.667100000001, ...}</td>\n",
       "    </tr>\n",
       "    <tr>\n",
       "      <th rowspan=\"6\" valign=\"top\">BOC Hong Kong (Holdings) Limited</th>\n",
       "      <th></th>\n",
       "      <td>doubleVector[1001]{4700.667100000001, ...}</td>\n",
       "    </tr>\n",
       "    <tr>\n",
       "      <th>0</th>\n",
       "      <td>doubleVector[1001]{1447.2077000000002, ...}</td>\n",
       "    </tr>\n",
       "    <tr>\n",
       "      <th>1</th>\n",
       "      <td>doubleVector[1001]{1228.1900999999998, ...}</td>\n",
       "    </tr>\n",
       "    <tr>\n",
       "      <th>2</th>\n",
       "      <td>doubleVector[1001]{1274.1402, ...}</td>\n",
       "    </tr>\n",
       "    <tr>\n",
       "      <th>3</th>\n",
       "      <td>doubleVector[1001]{224.4532999999999, ...}</td>\n",
       "    </tr>\n",
       "    <tr>\n",
       "      <th>4</th>\n",
       "      <td>doubleVector[1001]{526.6758, ...}</td>\n",
       "    </tr>\n",
       "  </tbody>\n",
       "</table>\n",
       "</div>"
      ],
      "text/plain": [
       "                                                                              CE_vector\n",
       "CounterpartyId                   TimePoint                                             \n",
       "Total                                        doubleVector[1001]{4700.667100000001, ...}\n",
       "BOC Hong Kong (Holdings) Limited             doubleVector[1001]{4700.667100000001, ...}\n",
       "                                 0          doubleVector[1001]{1447.2077000000002, ...}\n",
       "                                 1          doubleVector[1001]{1228.1900999999998, ...}\n",
       "                                 2                   doubleVector[1001]{1274.1402, ...}\n",
       "                                 3           doubleVector[1001]{224.4532999999999, ...}\n",
       "                                 4                    doubleVector[1001]{526.6758, ...}"
      ]
     },
     "execution_count": 12,
     "metadata": {},
     "output_type": "execute_result"
    }
   ],
   "source": [
    "cube.query(\n",
    "    m[\"CE_vector\"],\n",
    "    levels=[\n",
    "        l[\"CounterpartyId\"],\n",
    "        l[\"TimePoint\"],\n",
    "    ],\n",
    "    filter=(l[\"CounterpartyId\"] == \"BOC Hong Kong (Holdings) Limited\")\n",
    "    & (l[\"TimePoint\"].isin(\"0\", \"1\", \"2\", \"3\", \"4\")),\n",
    "    include_totals=True,\n",
    ")"
   ]
  },
  {
   "cell_type": "code",
   "execution_count": 13,
   "id": "612905fd-3a30-4348-ba35-4f218f6fbea0",
   "metadata": {},
   "outputs": [],
   "source": [
    "m[\"CE\"] = tt.where(~l[\"TimePoint\"].isnull(), m[\"CE_vector\"], None)"
   ]
  },
  {
   "cell_type": "markdown",
   "id": "e744f63b-6a99-4a15-9efd-d794c9d00238",
   "metadata": {},
   "source": [
    "In the above measure definition, we returned the value of `CE_vector` only when `l[\"TimePoint\"]` has a value. In the below query, there is no `TimePoint` value at the `CounterpartyId` level and above. Therefore, `CE_vector` is only returned up to the `TimePoint` level.  \n",
    "\n",
    "💡 __Note__: This is something that we cannot achieve with `atoti.filter` as it doesn't deal with `None` value."
   ]
  },
  {
   "cell_type": "code",
   "execution_count": 14,
   "id": "4582f455-9c60-413e-b3e9-c0c3c32a361e",
   "metadata": {},
   "outputs": [
    {
     "data": {
      "text/html": [
       "<div>\n",
       "<style scoped>\n",
       "    .dataframe tbody tr th:only-of-type {\n",
       "        vertical-align: middle;\n",
       "    }\n",
       "\n",
       "    .dataframe tbody tr th {\n",
       "        vertical-align: top;\n",
       "    }\n",
       "\n",
       "    .dataframe thead th {\n",
       "        text-align: right;\n",
       "    }\n",
       "</style>\n",
       "<table border=\"1\" class=\"dataframe\">\n",
       "  <thead>\n",
       "    <tr style=\"text-align: right;\">\n",
       "      <th></th>\n",
       "      <th></th>\n",
       "      <th>CE_vector</th>\n",
       "      <th>CE</th>\n",
       "    </tr>\n",
       "    <tr>\n",
       "      <th>CounterpartyId</th>\n",
       "      <th>TimePoint</th>\n",
       "      <th></th>\n",
       "      <th></th>\n",
       "    </tr>\n",
       "  </thead>\n",
       "  <tbody>\n",
       "    <tr>\n",
       "      <th>Total</th>\n",
       "      <th></th>\n",
       "      <td>doubleVector[1001]{4700.667100000001, ...}</td>\n",
       "      <td></td>\n",
       "    </tr>\n",
       "    <tr>\n",
       "      <th rowspan=\"6\" valign=\"top\">BOC Hong Kong (Holdings) Limited</th>\n",
       "      <th></th>\n",
       "      <td>doubleVector[1001]{4700.667100000001, ...}</td>\n",
       "      <td></td>\n",
       "    </tr>\n",
       "    <tr>\n",
       "      <th>0</th>\n",
       "      <td>doubleVector[1001]{1447.2077000000002, ...}</td>\n",
       "      <td>doubleVector[1001]{1447.2077000000002, ...}</td>\n",
       "    </tr>\n",
       "    <tr>\n",
       "      <th>1</th>\n",
       "      <td>doubleVector[1001]{1228.1900999999998, ...}</td>\n",
       "      <td>doubleVector[1001]{1228.1900999999998, ...}</td>\n",
       "    </tr>\n",
       "    <tr>\n",
       "      <th>2</th>\n",
       "      <td>doubleVector[1001]{1274.1402, ...}</td>\n",
       "      <td>doubleVector[1001]{1274.1402, ...}</td>\n",
       "    </tr>\n",
       "    <tr>\n",
       "      <th>3</th>\n",
       "      <td>doubleVector[1001]{224.4532999999999, ...}</td>\n",
       "      <td>doubleVector[1001]{224.4532999999999, ...}</td>\n",
       "    </tr>\n",
       "    <tr>\n",
       "      <th>4</th>\n",
       "      <td>doubleVector[1001]{526.6758, ...}</td>\n",
       "      <td>doubleVector[1001]{526.6758, ...}</td>\n",
       "    </tr>\n",
       "  </tbody>\n",
       "</table>\n",
       "</div>"
      ],
      "text/plain": [
       "                                                                              CE_vector  \\\n",
       "CounterpartyId                   TimePoint                                                \n",
       "Total                                        doubleVector[1001]{4700.667100000001, ...}   \n",
       "BOC Hong Kong (Holdings) Limited             doubleVector[1001]{4700.667100000001, ...}   \n",
       "                                 0          doubleVector[1001]{1447.2077000000002, ...}   \n",
       "                                 1          doubleVector[1001]{1228.1900999999998, ...}   \n",
       "                                 2                   doubleVector[1001]{1274.1402, ...}   \n",
       "                                 3           doubleVector[1001]{224.4532999999999, ...}   \n",
       "                                 4                    doubleVector[1001]{526.6758, ...}   \n",
       "\n",
       "                                                                                     CE  \n",
       "CounterpartyId                   TimePoint                                               \n",
       "Total                                                                                    \n",
       "BOC Hong Kong (Holdings) Limited                                                         \n",
       "                                 0          doubleVector[1001]{1447.2077000000002, ...}  \n",
       "                                 1          doubleVector[1001]{1228.1900999999998, ...}  \n",
       "                                 2                   doubleVector[1001]{1274.1402, ...}  \n",
       "                                 3           doubleVector[1001]{224.4532999999999, ...}  \n",
       "                                 4                    doubleVector[1001]{526.6758, ...}  "
      ]
     },
     "execution_count": 14,
     "metadata": {},
     "output_type": "execute_result"
    }
   ],
   "source": [
    "cube.query(\n",
    "    m[\"CE_vector\"],\n",
    "    m[\"CE\"],\n",
    "    levels=[\n",
    "        l[\"CounterpartyId\"],\n",
    "        l[\"TimePoint\"],\n",
    "    ],\n",
    "    filter=(l[\"CounterpartyId\"] == \"BOC Hong Kong (Holdings) Limited\")\n",
    "    & (l[\"TimePoint\"].isin(\"0\", \"1\", \"2\", \"3\", \"4\")),\n",
    "    include_totals=True,\n",
    ")"
   ]
  },
  {
   "cell_type": "markdown",
   "id": "f556ba94-1470-474d-b31e-12824b6abe05",
   "metadata": {},
   "source": [
    "The above is a classic example of how we use `atoti.where` function:  \n",
    "\n",
    "\n",
    "* `atoti.where(condition, true_value, false_value=None)`\n",
    "\n",
    "where `true_value` can be a __measure, measure definition, constant value or another `atoti.where` condition__ that is returned when condition is `true`. Similarly, `false_value` is the value returned when condition is `false`. It is defaulted to `None` when nothing is specified.  "
   ]
  },
  {
   "cell_type": "markdown",
   "id": "5d1b3779-3274-42ed-9992-6fbd5326e015",
   "metadata": {},
   "source": [
    "### Comparing level against level"
   ]
  },
  {
   "cell_type": "markdown",
   "id": "28cef720-8bef-44fe-a1c5-32de0204445f",
   "metadata": {},
   "source": [
    "There are times when we would like to compare the members of two levels. For instance, to include the trade break dates into the exposure model as a risk mitigant, we take the `CE` value when the scenario date (`TimePointDate`) is before or on Trade break date (`BreakDate`). Otherwise, it is assumed that we exited the trade and `CE` is therefore `None`.  "
   ]
  },
  {
   "cell_type": "code",
   "execution_count": 15,
   "id": "574c55dc-fbb2-4519-bc61-4d54ecdc9d27",
   "metadata": {},
   "outputs": [],
   "source": [
    "m[\"Filtered MtM_vector.SUM\"] = tt.where(\n",
    "    l[\"TimePointDate\"] <= l[\"BreakDate\"], m[\"MtM_vector.SUM\"]\n",
    ")\n",
    "\n",
    "m[\"CE with BreakDates\"] = tt.agg.sum(\n",
    "    tt.where(\n",
    "        ~l[\"TimePoint\"].isnull(),\n",
    "        tt.array.positive_values(m[\"Filtered MtM_vector.SUM\"]),\n",
    "    ),\n",
    "    scope=tt.OriginScope(levels={l[\"BreakDate\"], l[\"TimePointDate\"]}),\n",
    ")"
   ]
  },
  {
   "cell_type": "code",
   "execution_count": 16,
   "id": "606d756a-24ce-4acf-b7ea-009c51967a80",
   "metadata": {
    "tags": []
   },
   "outputs": [
    {
     "data": {
      "text/html": [
       "<div>\n",
       "<style scoped>\n",
       "    .dataframe tbody tr th:only-of-type {\n",
       "        vertical-align: middle;\n",
       "    }\n",
       "\n",
       "    .dataframe tbody tr th {\n",
       "        vertical-align: top;\n",
       "    }\n",
       "\n",
       "    .dataframe thead th {\n",
       "        text-align: right;\n",
       "    }\n",
       "</style>\n",
       "<table border=\"1\" class=\"dataframe\">\n",
       "  <thead>\n",
       "    <tr style=\"text-align: right;\">\n",
       "      <th></th>\n",
       "      <th></th>\n",
       "      <th></th>\n",
       "      <th></th>\n",
       "      <th>CE with BreakDates</th>\n",
       "      <th>contributors.COUNT</th>\n",
       "    </tr>\n",
       "    <tr>\n",
       "      <th>CounterpartyId</th>\n",
       "      <th>TimePoint</th>\n",
       "      <th>TimePointDate</th>\n",
       "      <th>BreakDate</th>\n",
       "      <th></th>\n",
       "      <th></th>\n",
       "    </tr>\n",
       "  </thead>\n",
       "  <tbody>\n",
       "    <tr>\n",
       "      <th rowspan=\"10\" valign=\"top\">BOC Hong Kong (Holdings) Limited</th>\n",
       "      <th rowspan=\"2\" valign=\"top\">26</th>\n",
       "      <th rowspan=\"2\" valign=\"top\">2020-10-04</th>\n",
       "      <th>2020-10-06</th>\n",
       "      <td>doubleVector[1001]{0.0, ...}</td>\n",
       "      <td>1</td>\n",
       "    </tr>\n",
       "    <tr>\n",
       "      <th>2029-09-20</th>\n",
       "      <td>doubleVector[1001]{1502.77, ...}</td>\n",
       "      <td>1</td>\n",
       "    </tr>\n",
       "    <tr>\n",
       "      <th rowspan=\"2\" valign=\"top\">28</th>\n",
       "      <th rowspan=\"2\" valign=\"top\">2020-10-06</th>\n",
       "      <th>2020-10-06</th>\n",
       "      <td>doubleVector[1001]{0.0, ...}</td>\n",
       "      <td>1</td>\n",
       "    </tr>\n",
       "    <tr>\n",
       "      <th>2029-09-20</th>\n",
       "      <td>doubleVector[1001]{1608.0883, ...}</td>\n",
       "      <td>1</td>\n",
       "    </tr>\n",
       "    <tr>\n",
       "      <th rowspan=\"2\" valign=\"top\">36</th>\n",
       "      <th rowspan=\"2\" valign=\"top\">2020-10-14</th>\n",
       "      <th>2020-10-06</th>\n",
       "      <td></td>\n",
       "      <td>1</td>\n",
       "    </tr>\n",
       "    <tr>\n",
       "      <th>2029-09-20</th>\n",
       "      <td>doubleVector[1001]{962.1073, ...}</td>\n",
       "      <td>1</td>\n",
       "    </tr>\n",
       "    <tr>\n",
       "      <th rowspan=\"2\" valign=\"top\">43</th>\n",
       "      <th rowspan=\"2\" valign=\"top\">2020-10-21</th>\n",
       "      <th>2020-10-06</th>\n",
       "      <td></td>\n",
       "      <td>1</td>\n",
       "    </tr>\n",
       "    <tr>\n",
       "      <th>2029-09-20</th>\n",
       "      <td>doubleVector[1001]{682.4062, ...}</td>\n",
       "      <td>1</td>\n",
       "    </tr>\n",
       "    <tr>\n",
       "      <th rowspan=\"2\" valign=\"top\">50</th>\n",
       "      <th rowspan=\"2\" valign=\"top\">2020-10-28</th>\n",
       "      <th>2020-10-06</th>\n",
       "      <td></td>\n",
       "      <td>1</td>\n",
       "    </tr>\n",
       "    <tr>\n",
       "      <th>2029-09-20</th>\n",
       "      <td>doubleVector[1001]{234.0055, ...}</td>\n",
       "      <td>1</td>\n",
       "    </tr>\n",
       "  </tbody>\n",
       "</table>\n",
       "</div>"
      ],
      "text/plain": [
       "                                                                                     CE with BreakDates  \\\n",
       "CounterpartyId                   TimePoint TimePointDate BreakDate                                        \n",
       "BOC Hong Kong (Holdings) Limited 26        2020-10-04    2020-10-06        doubleVector[1001]{0.0, ...}   \n",
       "                                                         2029-09-20    doubleVector[1001]{1502.77, ...}   \n",
       "                                 28        2020-10-06    2020-10-06        doubleVector[1001]{0.0, ...}   \n",
       "                                                         2029-09-20  doubleVector[1001]{1608.0883, ...}   \n",
       "                                 36        2020-10-14    2020-10-06                                       \n",
       "                                                         2029-09-20   doubleVector[1001]{962.1073, ...}   \n",
       "                                 43        2020-10-21    2020-10-06                                       \n",
       "                                                         2029-09-20   doubleVector[1001]{682.4062, ...}   \n",
       "                                 50        2020-10-28    2020-10-06                                       \n",
       "                                                         2029-09-20   doubleVector[1001]{234.0055, ...}   \n",
       "\n",
       "                                                                    contributors.COUNT  \n",
       "CounterpartyId                   TimePoint TimePointDate BreakDate                      \n",
       "BOC Hong Kong (Holdings) Limited 26        2020-10-04    2020-10-06                  1  \n",
       "                                                         2029-09-20                  1  \n",
       "                                 28        2020-10-06    2020-10-06                  1  \n",
       "                                                         2029-09-20                  1  \n",
       "                                 36        2020-10-14    2020-10-06                  1  \n",
       "                                                         2029-09-20                  1  \n",
       "                                 43        2020-10-21    2020-10-06                  1  \n",
       "                                                         2029-09-20                  1  \n",
       "                                 50        2020-10-28    2020-10-06                  1  \n",
       "                                                         2029-09-20                  1  "
      ]
     },
     "execution_count": 16,
     "metadata": {},
     "output_type": "execute_result"
    }
   ],
   "source": [
    "cube.query(\n",
    "    m[\"CE with BreakDates\"],\n",
    "    m[\"contributors.COUNT\"],\n",
    "    levels=[\n",
    "        l[\"CounterpartyId\"],\n",
    "        l[\"TimePoint\"],\n",
    "        l[\"TimePointDate\"],\n",
    "        l[\"BreakDate\"],\n",
    "    ],\n",
    "    filter=(l[\"CounterpartyId\"] == \"BOC Hong Kong (Holdings) Limited\")\n",
    "    & (l[\"TimePoint\"].isin(\"26\", \"28\", \"36\", \"43\", \"50\")),\n",
    ")"
   ]
  },
  {
   "cell_type": "markdown",
   "id": "8db47439-1a41-488d-b307-5996e5f4f5e2",
   "metadata": {},
   "source": [
    "We can see that from time point 36 onwards, there is a breakdate with value and one without value for `CE with BreakDates` for each `TimePoint`. The `BreakDate` without values are those before the `TimePointDate` as per our conditions.  "
   ]
  },
  {
   "cell_type": "markdown",
   "id": "1a2a5b7f-70b9-43dc-87c9-763a3988879b",
   "metadata": {},
   "source": [
    "## Assigning values conditionally to level members - `atoti.where` vs `atoti.switch`\n",
    "\n",
    "Following the above Trade break date example, we will use the `atoti.where` condition to determine the [Expected exposure (EE)](https://www.bis.org/basel_framework/chapter/CRE/50.htm#:~:text=Expected%20exposure%20is%20the%20mean,transactions%20in%20the%20netting%20set.) based on the type of risk mitigant."
   ]
  },
  {
   "cell_type": "code",
   "execution_count": 17,
   "id": "15c255df-9b54-4bfe-8d18-3aaff55d27f2",
   "metadata": {},
   "outputs": [],
   "source": [
    "m[\"CE.MEAN\"] = tt.array.mean(m[\"CE\"])\n",
    "m[\"CEBreakDate.MEAN\"] = tt.array.mean(m[\"CE with BreakDates\"])\n",
    "\n",
    "m[\"EE (where)\"] = tt.where(\n",
    "    l[\"TypeofRiskMitigant\"] == \"No Risk Mitigant\",\n",
    "    m[\"CE.MEAN\"],\n",
    "    tt.where(\n",
    "        l[\"TypeofRiskMitigant\"] == \"Trade Break Date\",\n",
    "        m[\"CEBreakDate.MEAN\"],\n",
    "    ),\n",
    ")"
   ]
  },
  {
   "cell_type": "markdown",
   "id": "b5e2f70d-afda-4015-920f-ae07c12914cc",
   "metadata": {},
   "source": [
    "In the above code snippet, we embedded:\n",
    "\n",
    "1. Another measure for the `true_value`.\n",
    "2. Another `atoti.where` condition on the same level for the `false_value`.\n",
    "\n",
    "We could embed even more `atoti.where` conditions as necessary but it will become a challenge in terms of readability. Below, we demonstrate how we could perform the same conditional assignment by using the [`atoti.switch` function](https://docs.atoti.io/latest/api/atoti.switch.html#atoti.switch)."
   ]
  },
  {
   "cell_type": "code",
   "execution_count": 18,
   "id": "abac6d59-0c05-48ca-bbd0-c6cd767c24f8",
   "metadata": {},
   "outputs": [],
   "source": [
    "m[\"EE (switch)\"] = tt.switch(\n",
    "    l[\"TypeofRiskMitigant\"],\n",
    "    {\n",
    "        \"No Risk Mitigant\": m[\"CE.MEAN\"],\n",
    "        \"Trade Break Date\": m[\"CEBreakDate.MEAN\"],\n",
    "    },\n",
    ")"
   ]
  },
  {
   "cell_type": "code",
   "execution_count": 19,
   "id": "28322a15-0a45-4f44-92f8-3751f04cd7c0",
   "metadata": {},
   "outputs": [
    {
     "data": {
      "text/html": [
       "<div>\n",
       "<style scoped>\n",
       "    .dataframe tbody tr th:only-of-type {\n",
       "        vertical-align: middle;\n",
       "    }\n",
       "\n",
       "    .dataframe tbody tr th {\n",
       "        vertical-align: top;\n",
       "    }\n",
       "\n",
       "    .dataframe thead th {\n",
       "        text-align: right;\n",
       "    }\n",
       "</style>\n",
       "<table border=\"1\" class=\"dataframe\">\n",
       "  <thead>\n",
       "    <tr style=\"text-align: right;\">\n",
       "      <th></th>\n",
       "      <th></th>\n",
       "      <th></th>\n",
       "      <th></th>\n",
       "      <th></th>\n",
       "      <th>CE.MEAN</th>\n",
       "      <th>CEBreakDate.MEAN</th>\n",
       "      <th>EE (where)</th>\n",
       "      <th>EE (switch)</th>\n",
       "    </tr>\n",
       "    <tr>\n",
       "      <th>CounterpartyId</th>\n",
       "      <th>TimePoint</th>\n",
       "      <th>TimePointDate</th>\n",
       "      <th>BreakDate</th>\n",
       "      <th>TypeofRiskMitigant</th>\n",
       "      <th></th>\n",
       "      <th></th>\n",
       "      <th></th>\n",
       "      <th></th>\n",
       "    </tr>\n",
       "  </thead>\n",
       "  <tbody>\n",
       "    <tr>\n",
       "      <th rowspan=\"20\" valign=\"top\">BOC Hong Kong (Holdings) Limited</th>\n",
       "      <th rowspan=\"4\" valign=\"top\">26</th>\n",
       "      <th rowspan=\"4\" valign=\"top\">2020-10-04</th>\n",
       "      <th rowspan=\"2\" valign=\"top\">2020-10-06</th>\n",
       "      <th>No Risk Mitigant</th>\n",
       "      <td>478.44</td>\n",
       "      <td>478.44</td>\n",
       "      <td>478.44</td>\n",
       "      <td>478.44</td>\n",
       "    </tr>\n",
       "    <tr>\n",
       "      <th>Trade Break Date</th>\n",
       "      <td>478.44</td>\n",
       "      <td>478.44</td>\n",
       "      <td>478.44</td>\n",
       "      <td>478.44</td>\n",
       "    </tr>\n",
       "    <tr>\n",
       "      <th rowspan=\"2\" valign=\"top\">2029-09-20</th>\n",
       "      <th>No Risk Mitigant</th>\n",
       "      <td>3,211.21</td>\n",
       "      <td>3,211.21</td>\n",
       "      <td>3,211.21</td>\n",
       "      <td>3,211.21</td>\n",
       "    </tr>\n",
       "    <tr>\n",
       "      <th>Trade Break Date</th>\n",
       "      <td>3,211.21</td>\n",
       "      <td>3,211.21</td>\n",
       "      <td>3,211.21</td>\n",
       "      <td>3,211.21</td>\n",
       "    </tr>\n",
       "    <tr>\n",
       "      <th rowspan=\"4\" valign=\"top\">28</th>\n",
       "      <th rowspan=\"4\" valign=\"top\">2020-10-06</th>\n",
       "      <th rowspan=\"2\" valign=\"top\">2020-10-06</th>\n",
       "      <th>No Risk Mitigant</th>\n",
       "      <td>511.16</td>\n",
       "      <td>511.16</td>\n",
       "      <td>511.16</td>\n",
       "      <td>511.16</td>\n",
       "    </tr>\n",
       "    <tr>\n",
       "      <th>Trade Break Date</th>\n",
       "      <td>511.16</td>\n",
       "      <td>511.16</td>\n",
       "      <td>511.16</td>\n",
       "      <td>511.16</td>\n",
       "    </tr>\n",
       "    <tr>\n",
       "      <th rowspan=\"2\" valign=\"top\">2029-09-20</th>\n",
       "      <th>No Risk Mitigant</th>\n",
       "      <td>3,214.52</td>\n",
       "      <td>3,214.52</td>\n",
       "      <td>3,214.52</td>\n",
       "      <td>3,214.52</td>\n",
       "    </tr>\n",
       "    <tr>\n",
       "      <th>Trade Break Date</th>\n",
       "      <td>3,214.52</td>\n",
       "      <td>3,214.52</td>\n",
       "      <td>3,214.52</td>\n",
       "      <td>3,214.52</td>\n",
       "    </tr>\n",
       "    <tr>\n",
       "      <th rowspan=\"4\" valign=\"top\">36</th>\n",
       "      <th rowspan=\"4\" valign=\"top\">2020-10-14</th>\n",
       "      <th rowspan=\"2\" valign=\"top\">2020-10-06</th>\n",
       "      <th>No Risk Mitigant</th>\n",
       "      <td>536.18</td>\n",
       "      <td></td>\n",
       "      <td>536.18</td>\n",
       "      <td>536.18</td>\n",
       "    </tr>\n",
       "    <tr>\n",
       "      <th>Trade Break Date</th>\n",
       "      <td>536.18</td>\n",
       "      <td></td>\n",
       "      <td></td>\n",
       "      <td></td>\n",
       "    </tr>\n",
       "    <tr>\n",
       "      <th rowspan=\"2\" valign=\"top\">2029-09-20</th>\n",
       "      <th>No Risk Mitigant</th>\n",
       "      <td>3,242.34</td>\n",
       "      <td>3,242.34</td>\n",
       "      <td>3,242.34</td>\n",
       "      <td>3,242.34</td>\n",
       "    </tr>\n",
       "    <tr>\n",
       "      <th>Trade Break Date</th>\n",
       "      <td>3,242.34</td>\n",
       "      <td>3,242.34</td>\n",
       "      <td>3,242.34</td>\n",
       "      <td>3,242.34</td>\n",
       "    </tr>\n",
       "    <tr>\n",
       "      <th rowspan=\"4\" valign=\"top\">43</th>\n",
       "      <th rowspan=\"4\" valign=\"top\">2020-10-21</th>\n",
       "      <th rowspan=\"2\" valign=\"top\">2020-10-06</th>\n",
       "      <th>No Risk Mitigant</th>\n",
       "      <td>558.82</td>\n",
       "      <td></td>\n",
       "      <td>558.82</td>\n",
       "      <td>558.82</td>\n",
       "    </tr>\n",
       "    <tr>\n",
       "      <th>Trade Break Date</th>\n",
       "      <td>558.82</td>\n",
       "      <td></td>\n",
       "      <td></td>\n",
       "      <td></td>\n",
       "    </tr>\n",
       "    <tr>\n",
       "      <th rowspan=\"2\" valign=\"top\">2029-09-20</th>\n",
       "      <th>No Risk Mitigant</th>\n",
       "      <td>3,258.21</td>\n",
       "      <td>3,258.21</td>\n",
       "      <td>3,258.21</td>\n",
       "      <td>3,258.21</td>\n",
       "    </tr>\n",
       "    <tr>\n",
       "      <th>Trade Break Date</th>\n",
       "      <td>3,258.21</td>\n",
       "      <td>3,258.21</td>\n",
       "      <td>3,258.21</td>\n",
       "      <td>3,258.21</td>\n",
       "    </tr>\n",
       "    <tr>\n",
       "      <th rowspan=\"4\" valign=\"top\">50</th>\n",
       "      <th rowspan=\"4\" valign=\"top\">2020-10-28</th>\n",
       "      <th rowspan=\"2\" valign=\"top\">2020-10-06</th>\n",
       "      <th>No Risk Mitigant</th>\n",
       "      <td>570.81</td>\n",
       "      <td></td>\n",
       "      <td>570.81</td>\n",
       "      <td>570.81</td>\n",
       "    </tr>\n",
       "    <tr>\n",
       "      <th>Trade Break Date</th>\n",
       "      <td>570.81</td>\n",
       "      <td></td>\n",
       "      <td></td>\n",
       "      <td></td>\n",
       "    </tr>\n",
       "    <tr>\n",
       "      <th rowspan=\"2\" valign=\"top\">2029-09-20</th>\n",
       "      <th>No Risk Mitigant</th>\n",
       "      <td>3,261.56</td>\n",
       "      <td>3,261.56</td>\n",
       "      <td>3,261.56</td>\n",
       "      <td>3,261.56</td>\n",
       "    </tr>\n",
       "    <tr>\n",
       "      <th>Trade Break Date</th>\n",
       "      <td>3,261.56</td>\n",
       "      <td>3,261.56</td>\n",
       "      <td>3,261.56</td>\n",
       "      <td>3,261.56</td>\n",
       "    </tr>\n",
       "  </tbody>\n",
       "</table>\n",
       "</div>"
      ],
      "text/plain": [
       "                                                                                         CE.MEAN  \\\n",
       "CounterpartyId                   TimePoint TimePointDate BreakDate  TypeofRiskMitigant             \n",
       "BOC Hong Kong (Holdings) Limited 26        2020-10-04    2020-10-06 No Risk Mitigant      478.44   \n",
       "                                                                    Trade Break Date      478.44   \n",
       "                                                         2029-09-20 No Risk Mitigant    3,211.21   \n",
       "                                                                    Trade Break Date    3,211.21   \n",
       "                                 28        2020-10-06    2020-10-06 No Risk Mitigant      511.16   \n",
       "                                                                    Trade Break Date      511.16   \n",
       "                                                         2029-09-20 No Risk Mitigant    3,214.52   \n",
       "                                                                    Trade Break Date    3,214.52   \n",
       "                                 36        2020-10-14    2020-10-06 No Risk Mitigant      536.18   \n",
       "                                                                    Trade Break Date      536.18   \n",
       "                                                         2029-09-20 No Risk Mitigant    3,242.34   \n",
       "                                                                    Trade Break Date    3,242.34   \n",
       "                                 43        2020-10-21    2020-10-06 No Risk Mitigant      558.82   \n",
       "                                                                    Trade Break Date      558.82   \n",
       "                                                         2029-09-20 No Risk Mitigant    3,258.21   \n",
       "                                                                    Trade Break Date    3,258.21   \n",
       "                                 50        2020-10-28    2020-10-06 No Risk Mitigant      570.81   \n",
       "                                                                    Trade Break Date      570.81   \n",
       "                                                         2029-09-20 No Risk Mitigant    3,261.56   \n",
       "                                                                    Trade Break Date    3,261.56   \n",
       "\n",
       "                                                                                       CEBreakDate.MEAN  \\\n",
       "CounterpartyId                   TimePoint TimePointDate BreakDate  TypeofRiskMitigant                    \n",
       "BOC Hong Kong (Holdings) Limited 26        2020-10-04    2020-10-06 No Risk Mitigant             478.44   \n",
       "                                                                    Trade Break Date             478.44   \n",
       "                                                         2029-09-20 No Risk Mitigant           3,211.21   \n",
       "                                                                    Trade Break Date           3,211.21   \n",
       "                                 28        2020-10-06    2020-10-06 No Risk Mitigant             511.16   \n",
       "                                                                    Trade Break Date             511.16   \n",
       "                                                         2029-09-20 No Risk Mitigant           3,214.52   \n",
       "                                                                    Trade Break Date           3,214.52   \n",
       "                                 36        2020-10-14    2020-10-06 No Risk Mitigant                      \n",
       "                                                                    Trade Break Date                      \n",
       "                                                         2029-09-20 No Risk Mitigant           3,242.34   \n",
       "                                                                    Trade Break Date           3,242.34   \n",
       "                                 43        2020-10-21    2020-10-06 No Risk Mitigant                      \n",
       "                                                                    Trade Break Date                      \n",
       "                                                         2029-09-20 No Risk Mitigant           3,258.21   \n",
       "                                                                    Trade Break Date           3,258.21   \n",
       "                                 50        2020-10-28    2020-10-06 No Risk Mitigant                      \n",
       "                                                                    Trade Break Date                      \n",
       "                                                         2029-09-20 No Risk Mitigant           3,261.56   \n",
       "                                                                    Trade Break Date           3,261.56   \n",
       "\n",
       "                                                                                       EE (where)  \\\n",
       "CounterpartyId                   TimePoint TimePointDate BreakDate  TypeofRiskMitigant              \n",
       "BOC Hong Kong (Holdings) Limited 26        2020-10-04    2020-10-06 No Risk Mitigant       478.44   \n",
       "                                                                    Trade Break Date       478.44   \n",
       "                                                         2029-09-20 No Risk Mitigant     3,211.21   \n",
       "                                                                    Trade Break Date     3,211.21   \n",
       "                                 28        2020-10-06    2020-10-06 No Risk Mitigant       511.16   \n",
       "                                                                    Trade Break Date       511.16   \n",
       "                                                         2029-09-20 No Risk Mitigant     3,214.52   \n",
       "                                                                    Trade Break Date     3,214.52   \n",
       "                                 36        2020-10-14    2020-10-06 No Risk Mitigant       536.18   \n",
       "                                                                    Trade Break Date                \n",
       "                                                         2029-09-20 No Risk Mitigant     3,242.34   \n",
       "                                                                    Trade Break Date     3,242.34   \n",
       "                                 43        2020-10-21    2020-10-06 No Risk Mitigant       558.82   \n",
       "                                                                    Trade Break Date                \n",
       "                                                         2029-09-20 No Risk Mitigant     3,258.21   \n",
       "                                                                    Trade Break Date     3,258.21   \n",
       "                                 50        2020-10-28    2020-10-06 No Risk Mitigant       570.81   \n",
       "                                                                    Trade Break Date                \n",
       "                                                         2029-09-20 No Risk Mitigant     3,261.56   \n",
       "                                                                    Trade Break Date     3,261.56   \n",
       "\n",
       "                                                                                       EE (switch)  \n",
       "CounterpartyId                   TimePoint TimePointDate BreakDate  TypeofRiskMitigant              \n",
       "BOC Hong Kong (Holdings) Limited 26        2020-10-04    2020-10-06 No Risk Mitigant        478.44  \n",
       "                                                                    Trade Break Date        478.44  \n",
       "                                                         2029-09-20 No Risk Mitigant      3,211.21  \n",
       "                                                                    Trade Break Date      3,211.21  \n",
       "                                 28        2020-10-06    2020-10-06 No Risk Mitigant        511.16  \n",
       "                                                                    Trade Break Date        511.16  \n",
       "                                                         2029-09-20 No Risk Mitigant      3,214.52  \n",
       "                                                                    Trade Break Date      3,214.52  \n",
       "                                 36        2020-10-14    2020-10-06 No Risk Mitigant        536.18  \n",
       "                                                                    Trade Break Date                \n",
       "                                                         2029-09-20 No Risk Mitigant      3,242.34  \n",
       "                                                                    Trade Break Date      3,242.34  \n",
       "                                 43        2020-10-21    2020-10-06 No Risk Mitigant        558.82  \n",
       "                                                                    Trade Break Date                \n",
       "                                                         2029-09-20 No Risk Mitigant      3,258.21  \n",
       "                                                                    Trade Break Date      3,258.21  \n",
       "                                 50        2020-10-28    2020-10-06 No Risk Mitigant        570.81  \n",
       "                                                                    Trade Break Date                \n",
       "                                                         2029-09-20 No Risk Mitigant      3,261.56  \n",
       "                                                                    Trade Break Date      3,261.56  "
      ]
     },
     "execution_count": 19,
     "metadata": {},
     "output_type": "execute_result"
    }
   ],
   "source": [
    "cube.query(\n",
    "    m[\"CE.MEAN\"],\n",
    "    m[\"CEBreakDate.MEAN\"],\n",
    "    m[\"EE (where)\"],\n",
    "    m[\"EE (switch)\"],\n",
    "    levels=[\n",
    "        l[\"CounterpartyId\"],\n",
    "        l[\"TimePoint\"],\n",
    "        l[\"TimePointDate\"],\n",
    "        l[\"BreakDate\"],\n",
    "        l[\"TypeofRiskMitigant\"],\n",
    "    ],\n",
    "    filter=(l[\"CounterpartyId\"] == \"BOC Hong Kong (Holdings) Limited\")\n",
    "    & (l[\"TimePoint\"].isin(\"26\", \"28\", \"36\", \"43\", \"50\")),\n",
    ")"
   ]
  },
  {
   "cell_type": "markdown",
   "id": "65c6e960-5d32-4a30-a1f6-fb3f16af652e",
   "metadata": {},
   "source": [
    "As we can see, both `atoti.where` and `atoti.switch` returns the same results. However, the code snippet for `atoti.switch` is more elegant and clean. Therefore, when you have multiple `else` conditions on the same level, do consider using `atoti.switch` for readability and easier coding. "
   ]
  },
  {
   "cell_type": "markdown",
   "id": "0c0794d6-78d0-4f48-b65c-c0b35eb28ddc",
   "metadata": {},
   "source": [
    "## When `atoti.where` behaves like a `atoti.switch`"
   ]
  },
  {
   "cell_type": "markdown",
   "id": "67628aaf-874d-48ac-876a-5bad184127e0",
   "metadata": {},
   "source": [
    "`atoti.switch` apply conditional checks on members of a level. But what if you would like to have multiple conditions on a measure? Instead of having a `atoti.where` conditions that embeds multiple `atoti.where` conditions for the `else` situation, `atoti.where` can behave similar to `atoti.switch` for conditions on measures."
   ]
  },
  {
   "cell_type": "markdown",
   "id": "32d49d13-07ca-40a2-aeb9-7c620f9529d4",
   "metadata": {},
   "source": [
    "Coming back to our use case, we can impose limits monitoring using `atoti.where` conditions. Let's use the [Potential future exposure (PFE)](https://en.wikipedia.org/wiki/Potential_future_exposure) to see how it's done.  "
   ]
  },
  {
   "cell_type": "code",
   "execution_count": 20,
   "id": "e720ca5d-d0ba-4e50-9561-964c3413d98f",
   "metadata": {},
   "outputs": [],
   "source": [
    "m[\"PFE 1Y\"] = tt.agg.sum(\n",
    "    tt.filter(m[\"PFE\"], l[\"TimePoint\"] == 254),\n",
    "    scope=tt.OriginScope(levels={l[\"TimePoint\"], l[\"CounterpartyId\"]}),\n",
    ")"
   ]
  },
  {
   "cell_type": "code",
   "execution_count": 21,
   "id": "e18dfd62-486a-46f9-82af-781dca5c26a4",
   "metadata": {},
   "outputs": [],
   "source": [
    "m[\"Breaches Status\"] = tt.where(\n",
    "    {\n",
    "        m[\"PFE 1Y\"] > m[\"PFE Limit\"]: \"🟥\",\n",
    "        m[\"PFE 1Y\"] == m[\"PFE Limit\"]: \"🔶\",\n",
    "        m[\"PFE 1Y\"] < m[\"PFE Limit\"]: \"🟢\",\n",
    "    }\n",
    ")"
   ]
  },
  {
   "cell_type": "code",
   "execution_count": 22,
   "id": "87dd8882-5746-4831-a078-65850413e357",
   "metadata": {
    "atoti": {
     "height": 565,
     "widget": {
      "mapping": {
       "columns": [
        "ALL_MEASURES"
       ],
       "measures": [
        "[Measures].[PFE 1Y]",
        "[Measures].[PFE Limit]",
        "[Measures].[Breaches Status]"
       ],
       "rows": [
        "[Monte Carlo Data].[CounterpartyId].[CounterpartyId]"
       ]
      },
      "query": {
       "mdx": "SELECT NON EMPTY {[Measures].[PFE 1Y], [Measures].[PFE Limit], [Measures].[Breaches Status]} ON COLUMNS, NON EMPTY Hierarchize(Descendants({[Monte Carlo Data].[CounterpartyId].[AllMember]}, 1, SELF_AND_BEFORE)) ON ROWS FROM [Monte Carlo Analytics] CELL PROPERTIES VALUE, FORMATTED_VALUE, BACK_COLOR, FORE_COLOR, FONT_FLAGS",
       "updateMode": "once"
      },
      "serverKey": "default",
      "widgetKey": "pivot-table"
     }
    },
    "tags": []
   },
   "outputs": [
    {
     "data": {
      "application/vnd.atoti.widget.v0+json": {
       "sessionId": "1715107364_6EMIT4",
       "sessionLocation": {
        "https": false,
        "port": 56123
       },
       "widgetCreationCode": "session.widget"
      },
      "text/html": [
       "<img height=\"0\" width=\"0\" src=\"data:,AAAAAAAAAAAAAAAAAAAAAAAAAAAAAAAAAAAAAAAAAAAAAAAACXBIWXMAABqTAAAakwH55E62\" />"
      ],
      "text/plain": [
       "Open the notebook in JupyterLab with the Atoti JupyterLab extension enabled to build this widget."
      ]
     },
     "metadata": {},
     "output_type": "display_data"
    }
   ],
   "source": [
    "session.widget"
   ]
  },
  {
   "cell_type": "markdown",
   "id": "3c9f4e01-3cd4-4235-b348-8783a43628d6",
   "metadata": {},
   "source": [
    "## Last but not least"
   ]
  },
  {
   "cell_type": "markdown",
   "id": "b10d3e03-3e79-43f8-833f-5a73729cf14a",
   "metadata": {},
   "source": [
    "<img src=\"img/summary.png\"/>  \n",
    "\n",
    "Check out the above summary table for a quick reference on how the conditional function works. Refer to the [Atoti CE documentation](https://docs.atoti.io/) for details of the functions. As always, we love to hear from you. Share with us on [GitHub Discussions](https://github.com/atoti/atoti/discussions) if we are missing out on how you expects the conditional statements should work.  \n",
    "\n",
    "<div style=\"text-align: center;\" ><a href=\"https://www.atoti.io/?utm_source=gallery&utm_content=conditional-functions\" target=\"_blank\" rel=\"noopener noreferrer\"><img src=\"https://data.atoti.io/notebooks/banners/Your-turn-to-try-Atoti.jpg\" alt=\"Try atoti\"></a></div>"
   ]
  }
 ],
 "metadata": {
  "kernelspec": {
   "display_name": "Python 3 (ipykernel)",
   "language": "python",
   "name": "python3"
  },
  "language_info": {
   "codemirror_mode": {
    "name": "ipython",
    "version": 3
   },
   "file_extension": ".py",
   "mimetype": "text/x-python",
   "name": "python",
   "nbconvert_exporter": "python",
   "pygments_lexer": "ipython3",
   "version": "3.11.9"
  }
 },
 "nbformat": 4,
 "nbformat_minor": 5
}
