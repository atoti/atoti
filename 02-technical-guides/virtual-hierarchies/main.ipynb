{
 "cells": [
  {
   "cell_type": "markdown",
   "id": "e9924c94-89b0-4cc2-98de-0bb9973fa731",
   "metadata": {
    "editable": true,
    "slideshow": {
     "slide_type": ""
    },
    "tags": []
   },
   "source": [
    "# How a virtual hierarchy reduces memory footprint"
   ]
  },
  {
   "cell_type": "markdown",
   "id": "8ae95963-be99-455d-9f9c-b3aa6a2f42c3",
   "metadata": {},
   "source": [
    "A [virtual hierarchy](https://docs.activeviam.com/products/atoti/server/latest/docs/concepts/dimensions_and_hierarchies/#virtual-hierarchies) is a lightweight hierarchy implemented in [Atoti](https://www.atoti.io/). It offers a smaller memory footprint by not storing its members in the cube. This is especially handy for hierarchies with high cardinality, i.e. with many possible values. Usually, these are identifiers such as User ID, Shopping Cart ID, or Trade ID, where the hierarchy can have thousands of distinct values. These hierarchies are not typically the focus of interest for users in data analytics unless the specific use case requires a deep-dive investigation of such hierarchies.\n",
    "\n",
    "Creating a virtual or \"lightweight\" hierarchy comes with some trade-offs in features:\n",
    "\n",
    "* Navigation between the hierarchy members are not allowed. This means that it is not possible to use [`Lead`](https://learn.microsoft.com/en-us/sql/mdx/lead-mdx?view=sql-server-ver16) and [`Lag`](https://learn.microsoft.com/en-us/sql/mdx/lag-mdx?view=sql-server-ver16) functions such as [`atoti.shift`](https://docs.atoti.io/latest/lib/atoti/atoti.function.shift.html#atoti.shift) and [`atoti.date_shift`](https://docs.atoti.io/latest/lib/atoti/atoti.function.date_shift.html) on the virtual hierarchies.  \n",
    "* The virtual hierarchy cannot be a [slicing hierarchy](https://docs.atoti.io/latest/api/atoti.Hierarchy.slicing.html#atoti.Hierarchy.slicing).\n",
    "* For advanced users who manipulate the underlying MDX for querying, MDX expressions that includes a virtual hierarchy must include the `NON EMPTY` keyword. Member expressions must be written with the full member path: `[Dimension].[Hierarchy].[FirstLevel].[Path].[To].[My].[Member]`.  \n",
    "* In the Atoti UI and the Atoti JupyterLab extension, when creating or editing a filter on a virtual hierarchy, the full list of members is not displayed. Rather, the user must use the searchbar to find members and filter on them.  \n",
    "\n",
    "Let's explore more about virtual hierarchies in this notebook."
   ]
  },
  {
   "cell_type": "markdown",
   "id": "04dd12a2-5180-443a-bad1-9d4d194e230d",
   "metadata": {},
   "source": [
    "<div style=\"text-align:center\"><a href=\"https://www.atoti.io/?utm_source=gallery&utm_content=virtual-hierarchies\" target=\"_blank\" rel=\"noopener noreferrer\"><img src=\"https://data.atoti.io/notebooks/banners/Discover-Atoti-now.png\" alt=\"Atoti table\" /></a></div>"
   ]
  },
  {
   "cell_type": "markdown",
   "id": "d969ebe0-c20a-4dd8-8337-8ebfed611109",
   "metadata": {},
   "source": [
    "## Setting up ClickHouse for Atoti DirectQuery\n",
    "\n",
    "For this walkthrough, we will demonstrate a case where we have a hierarchy with high cardinality, and use [Atoti DirectQuery](https://docs.atoti.io/latest/how_tos/use_directquery.html) to connect to a ClickHouse instance that hosts more than 700k trade records.\n",
    "\n",
    "⚠️ We require a valid license to [unlock all Atoti features](https://docs.atoti.io/latest/how_tos/unlock_all_features.html) and to be able to use DirectQuery. You can register online for an [evaluation license](https://atoti.io/evaluation-license-request/). In addition, ClickHouse provides a 30-day trial for its [cloud-based DBMS](https://clickhouse.com/cloud).  \n",
    "\n",
    "Let's first set up our database by creating a service and running the following [clickhouse_table_user.sql](./clickhouse_table_user.sql) script.\n",
    "\n",
    "### Creating DB, Tables, and Roles  \n",
    "\n",
    "We can navigate to our query editor for one of our Clickhouse instances and run the following SQL commands from [clickhouse_table_user.sql](./clickhouse_table_user.sql):\n",
    "\n",
    "![setting-up-db](https://data.atoti.io/notebooks/virtual-hierarchies/img/setting-up-db.png)\n",
    "\n",
    "Here, we create the `ATOTI` database.\n",
    "\n",
    "```sql\n",
    "CREATE DATABASE IF NOT EXISTS ATOTI;\n",
    "```\n",
    "\n",
    "Next, we create the `TRADE_PNLS` table.\n",
    "\n",
    "```sql\n",
    "CREATE TABLE IF NOT EXISTS ATOTI.TRADE_PNLS (\n",
    "  `BookId` Int64, \n",
    "  `AsOfDate` Date32, \n",
    "  `TradeId` String, \n",
    "  `DataSet` String, \n",
    "  `RiskFactor` String, \n",
    "  `RiskClass` String, \n",
    "  `SensitivityName` String, \n",
    "  `ccy` String, \n",
    "  `pnl_vector` Array(Float64), \n",
    ")\n",
    "ENGINE = MergeTree()\n",
    "PRIMARY KEY (`BookId`, `AsOfDate`, `TradeId`, `DataSet`);\n",
    "```\n",
    "\n",
    "And finally, we grant the specific privileges for the `querier` role, which will be the role assigned to any user connecting to the ClickHouse instance using Atoti DirectQuery. In this case, we create a user `ATOTI_QUERIER` and specify the password as `Password123!`.\n",
    "\n",
    "```sql\n",
    "CREATE ROLE querier;\n",
    "\n",
    "GRANT SELECT ON ATOTI.* TO querier WITH GRANT OPTION;\n",
    "GRANT SELECT ON system.databases TO querier WITH GRANT OPTION;\n",
    "GRANT SELECT ON system.processes TO querier WITH GRANT OPTION;\n",
    "GRANT SELECT ON system.tables TO querier WITH GRANT OPTION;\n",
    "GRANT SELECT ON system.columns TO querier WITH GRANT OPTION;\n",
    "\n",
    "CREATE USER IF NOT EXISTS ATOTI_QUERIER IDENTIFIED WITH sha256_password BY 'Password123!' DEFAULT ROLE querier;\n",
    "```\n",
    "\n",
    "### Loading Data into ClickHouse\n",
    "\n",
    "Now let's load data within the `TRADE_PNLS` table that we just created. Download the following `.zip` file:\n",
    "\n",
    "* [trades_pnl.zip](https://data.atoti.io/notebooks/direct-query/data/trades_pnl.zip)\n",
    "\n",
    "and extract the CSV from within the `.zip` file to upload the CSV to the ClickHouse instance using the [ClickHouse Command-Line Client (CLI)](https://clickhouse.com/docs/en/install). For Windows users, first install WLS 2 by running the command `wsl --install` in PowerShell before installing [ClickHouse CLI](https://clickhouse.com/docs/en/integrations/sql-clients/clickhouse-client-local).  \n",
    "\n",
    "To do this, we'll also need to set up the following environment variables. \n",
    "\n",
    "💡 **Note:** We set up our environment variables as a DBMS user.\n",
    "\n",
    "```bash\n",
    "export CLICKHOUSE_HOST=<host>\n",
    "export CLICKHOUSE_USER=<db_user>\n",
    "export CLICKHOUSE_PASSWORD=<db_password>\n",
    "export CLICKHOUSE_DB=<db>\n",
    "export TRADE_PNL_FILEPATH=<filepath_to_csv>\n",
    "```\n",
    "\n",
    "We can also verify our credentials by clicking the *Connect* button.\n",
    "\n",
    "![find-hostname](https://data.atoti.io/notebooks/virtual-hierarchies/img/find-hostname.png)\n",
    "\n",
    "Once we've set our environment variables, we can execute the following to upload the CSV and load the `TRADE_PNLS` table:\n",
    "\n",
    "```bash\n",
    "clickhouse client --host \"$CLICKHOUSE_HOST\" --secure --password  \"$CLICKHOUSE_PASSWORD\" --database \"$CLICKHOUSE_DB\" --query=\"INSERT INTO TRADE_PNLS FORMAT CSV\" < \"$TRADE_PNL_FILEPATH\"\n",
    "```\n",
    "\n",
    "For this walkthrough, we executed the following sequence:\n",
    "\n",
    "```bash\n",
    "export CLICKHOUSE_HOST=jelt586y67.us-east1.gcp.clickhouse.cloud\n",
    "export CLICKHOUSE_USER=default\n",
    "export CLICKHOUSE_PASSWORD=5A2_wByjrMBxz\n",
    "export CLICKHOUSE_DB=ATOTI\n",
    "export TRADE_PNL_FILEPATH=~/Downloads/trades_pnl.csv\n",
    "```\n",
    "\n",
    "```bash\n",
    "clickhouse client --host jelt586y67.us-east1.gcp.clickhouse.cloud --secure --password '5A2_wByjrMBxz' --database \"ATOTI\" --query=\"INSERT INTO TRADE_PNLS FORMAT CSV\" < ~/Downloads/trades_pnl.csv\n",
    "``` \n",
    "\n",
    "For Windows users, remember to copy the unzipped datafile to the Ubuntu directory:  \n",
    "\n",
    "<img src=\"https://data.atoti.io/notebooks/virtual-hierarchies/img/ubuntu_folder.png\" width=\"750px\"/>"
   ]
  },
  {
   "cell_type": "markdown",
   "id": "9fe85f82-7c08-46bd-8bad-7f378191a09a",
   "metadata": {},
   "source": [
    "## Using Atoti DirectQuery "
   ]
  },
  {
   "cell_type": "markdown",
   "id": "32346038-eb28-40e7-8b1c-ac5fda90cef9",
   "metadata": {},
   "source": [
    "Now that we have our ClickHouse instance set up and ready-to-go, let's set up our Atoti cube."
   ]
  },
  {
   "cell_type": "markdown",
   "id": "ad8a7814-2de0-493e-8d2c-0289b1e03d12",
   "metadata": {},
   "source": [
    "### Set up Atoti cube\n",
    "\n",
    "Uncomment the following cell to install the [DirectQuery plugin](https://docs.atoti.io/latest/reference.html#directquery) if you haven't installed it yet."
   ]
  },
  {
   "cell_type": "code",
   "execution_count": 1,
   "id": "28f26e79-07a4-4355-84cb-304915085686",
   "metadata": {},
   "outputs": [],
   "source": [
    "# !pip install atoti_server_directquery_clickhouse"
   ]
  },
  {
   "cell_type": "markdown",
   "id": "a3d7a49f-6752-42c5-987c-1e4b1931ec9e",
   "metadata": {},
   "source": [
    "Now let's import the required libraries and instantiate the Atoti session."
   ]
  },
  {
   "cell_type": "code",
   "execution_count": 2,
   "id": "5e53eb1c-6c2d-4581-80f0-2435aa0df343",
   "metadata": {},
   "outputs": [],
   "source": [
    "import os\n",
    "import atoti as tt\n",
    "from atoti_directquery_clickhouse import ConnectionConfig, TableConfig"
   ]
  },
  {
   "cell_type": "code",
   "execution_count": 3,
   "id": "ad90651f-1e18-474e-a4a1-cc7ec8f6b556",
   "metadata": {},
   "outputs": [],
   "source": [
    "session = tt.Session.start()"
   ]
  },
  {
   "cell_type": "markdown",
   "id": "91ecb350-60e0-4e80-a775-c0515081a092",
   "metadata": {},
   "source": [
    "Next, we'll make the connection to the ClickHouse instance using [connect_to_external_database()](https://docs.atoti.io/latest/api/atoti.Session.connect_to_external_database.html#atoti.Session.connect_to_external_database). \n",
    "\n",
    "Before we do this, we should make sure we set our environment variables to use the `ATOTI_QUERIER` user assigned with the `querier` role that we created in previous steps.\n",
    "\n",
    "```bash\n",
    "export CLICKHOUSE_HOST=<host>\n",
    "export CLICKHOUSE_PORT=8443\n",
    "export CLICKHOUSE_USER=ATOTI_QUERIER\n",
    "export CLICKHOUSE_PASSWORD=Password123!\n",
    "```\n",
    "\n",
    "💡 **Note:** In the below code snippet, we configure the password in a separate parameter instead of embedding it in the URL. This is a good practice to prevent the password from getting logged along with the URL. Furthermore, the ClickHouse password requires at least 1 special character, and special characters can cause problems in URLs. "
   ]
  },
  {
   "cell_type": "code",
   "execution_count": 4,
   "id": "4f261f12-f04a-4792-a97a-4955b82cc951",
   "metadata": {
    "tags": []
   },
   "outputs": [
    {
     "ename": "Py4JJavaError",
     "evalue": "An error occurred while calling o6.connectToDatabase.\n: com.activeviam.tech.core.api.exceptions.ActiveViamRuntimeException: com.clickhouse.client.ClickHouseException: SSL peer shut down incorrectly\n\tat com.activeviam.database.clickhouse.internal.ClickhouseConfiguration.getInitServerVersion(ClickhouseConfiguration.java:168)\n\tat com.activeviam.database.clickhouse.internal.ClickhouseConfiguration.from(ClickhouseConfiguration.java:109)\n\tat io.atoti.directquery.clickhouse.private_.ClickhouseManager.connectToClickhouse(ClickhouseManager.java:55)\n\tat io.atoti.directquery.clickhouse.private_.ClickhouseDatabaseApi.connectToDatabase(ClickhouseDatabaseApi.java:57)\n\tat java.base/jdk.internal.reflect.DirectMethodHandleAccessor.invoke(Unknown Source)\n\tat java.base/java.lang.reflect.Method.invoke(Unknown Source)\n\tat py4j.reflection.MethodInvoker.invoke(MethodInvoker.java:244)\n\tat py4j.reflection.ReflectionEngine.invoke(ReflectionEngine.java:357)\n\tat py4j.Gateway.invoke(Gateway.java:282)\n\tat py4j.commands.AbstractCommand.invokeMethod(AbstractCommand.java:132)\n\tat py4j.commands.CallCommand.execute(CallCommand.java:79)\n\tat py4j.ClientServerConnection.waitForCommands(ClientServerConnection.java:182)\n\tat py4j.ClientServerConnection.run(ClientServerConnection.java:106)\n\tat java.base/java.lang.Thread.run(Unknown Source)\nCaused by: com.clickhouse.client.ClickHouseException: SSL peer shut down incorrectly\n\tat com.clickhouse.client.ClickHouseException.of(ClickHouseException.java:151)\n\tat com.clickhouse.client.AbstractClient.lambda$execute$0(AbstractClient.java:275)\n\tat java.base/java.util.concurrent.CompletableFuture$AsyncSupply.run(Unknown Source)\n\tat java.base/java.util.concurrent.ThreadPoolExecutor.runWorker(Unknown Source)\n\tat java.base/java.util.concurrent.ThreadPoolExecutor$Worker.run(Unknown Source)\n\t... 1 more\nCaused by: java.io.EOFException: SSL peer shut down incorrectly\n\tat java.base/sun.security.ssl.SSLSocketInputRecord.read(Unknown Source)\n\tat java.base/sun.security.ssl.SSLSocketInputRecord.readHeader(Unknown Source)\n\tat java.base/sun.security.ssl.SSLSocketInputRecord.decode(Unknown Source)\n\tat java.base/sun.security.ssl.SSLTransport.decode(Unknown Source)\n\tat java.base/sun.security.ssl.SSLSocketImpl.decode(Unknown Source)\n\tat java.base/sun.security.ssl.SSLSocketImpl.readHandshakeRecord(Unknown Source)\n\tat java.base/sun.security.ssl.SSLSocketImpl.startHandshake(Unknown Source)\n\tat java.base/sun.security.ssl.SSLSocketImpl.startHandshake(Unknown Source)\n\tat java.base/sun.net.www.protocol.https.HttpsClient.afterConnect(Unknown Source)\n\tat java.base/sun.net.www.protocol.https.AbstractDelegateHttpsURLConnection.connect(Unknown Source)\n\tat java.base/sun.net.www.protocol.http.HttpURLConnection.getOutputStream0(Unknown Source)\n\tat java.base/sun.net.www.protocol.http.HttpURLConnection.getOutputStream(Unknown Source)\n\tat java.base/sun.net.www.protocol.https.HttpsURLConnectionImpl.getOutputStream(Unknown Source)\n\tat com.clickhouse.client.http.HttpUrlConnectionImpl.post(HttpUrlConnectionImpl.java:244)\n\tat com.clickhouse.client.http.ClickHouseHttpClient.send(ClickHouseHttpClient.java:201)\n\tat com.clickhouse.client.AbstractClient.sendAsync(AbstractClient.java:161)\n\tat com.clickhouse.client.AbstractClient.lambda$execute$0(AbstractClient.java:273)\n\t... 4 more\n",
     "output_type": "error",
     "traceback": [
      "\u001b[0;31m---------------------------------------------------------------------------\u001b[0m",
      "\u001b[0;31mPy4JJavaError\u001b[0m                             Traceback (most recent call last)",
      "Cell \u001b[0;32mIn[4], line 6\u001b[0m\n\u001b[1;32m      1\u001b[0m connection_info \u001b[38;5;241m=\u001b[39m ConnectionConfig(\n\u001b[1;32m      2\u001b[0m     url\u001b[38;5;241m=\u001b[39m\u001b[38;5;124mf\u001b[39m\u001b[38;5;124m\"\u001b[39m\u001b[38;5;124mclickhouse:https://\u001b[39m\u001b[38;5;132;01m{\u001b[39;00mos\u001b[38;5;241m.\u001b[39menviron[\u001b[38;5;124m'\u001b[39m\u001b[38;5;124mCLICKHOUSE_USER\u001b[39m\u001b[38;5;124m'\u001b[39m]\u001b[38;5;132;01m}\u001b[39;00m\u001b[38;5;124m@\u001b[39m\u001b[38;5;132;01m{\u001b[39;00mos\u001b[38;5;241m.\u001b[39menviron[\u001b[38;5;124m'\u001b[39m\u001b[38;5;124mCLICKHOUSE_HOST\u001b[39m\u001b[38;5;124m'\u001b[39m]\u001b[38;5;132;01m}\u001b[39;00m\u001b[38;5;124m:\u001b[39m\u001b[38;5;132;01m{\u001b[39;00mos\u001b[38;5;241m.\u001b[39menviron[\u001b[38;5;124m'\u001b[39m\u001b[38;5;124mCLICKHOUSE_PORT\u001b[39m\u001b[38;5;124m'\u001b[39m]\u001b[38;5;132;01m}\u001b[39;00m\u001b[38;5;124m\"\u001b[39m,\n\u001b[1;32m      3\u001b[0m     password\u001b[38;5;241m=\u001b[39mos\u001b[38;5;241m.\u001b[39menviron[\u001b[38;5;124m\"\u001b[39m\u001b[38;5;124mCLICKHOUSE_PASSWORD\u001b[39m\u001b[38;5;124m\"\u001b[39m],\n\u001b[1;32m      4\u001b[0m )\n\u001b[0;32m----> 6\u001b[0m db \u001b[38;5;241m=\u001b[39m \u001b[43msession\u001b[49m\u001b[38;5;241;43m.\u001b[39;49m\u001b[43mconnect_to_external_database\u001b[49m\u001b[43m(\u001b[49m\u001b[43mconnection_info\u001b[49m\u001b[43m)\u001b[49m\n",
      "File \u001b[0;32m~/Library/Caches/pypoetry/virtualenvs/notebooks-k2yxt2gM-py3.10/lib/python3.10/site-packages/pydantic/validate_call_decorator.py:60\u001b[0m, in \u001b[0;36mvalidate_call.<locals>.validate.<locals>.wrapper_function\u001b[0;34m(*args, **kwargs)\u001b[0m\n\u001b[1;32m     58\u001b[0m \u001b[38;5;129m@functools\u001b[39m\u001b[38;5;241m.\u001b[39mwraps(function)\n\u001b[1;32m     59\u001b[0m \u001b[38;5;28;01mdef\u001b[39;00m \u001b[38;5;21mwrapper_function\u001b[39m(\u001b[38;5;241m*\u001b[39margs, \u001b[38;5;241m*\u001b[39m\u001b[38;5;241m*\u001b[39mkwargs):\n\u001b[0;32m---> 60\u001b[0m     \u001b[38;5;28;01mreturn\u001b[39;00m \u001b[43mvalidate_call_wrapper\u001b[49m\u001b[43m(\u001b[49m\u001b[38;5;241;43m*\u001b[39;49m\u001b[43margs\u001b[49m\u001b[43m,\u001b[49m\u001b[43m \u001b[49m\u001b[38;5;241;43m*\u001b[39;49m\u001b[38;5;241;43m*\u001b[39;49m\u001b[43mkwargs\u001b[49m\u001b[43m)\u001b[49m\n",
      "File \u001b[0;32m~/Library/Caches/pypoetry/virtualenvs/notebooks-k2yxt2gM-py3.10/lib/python3.10/site-packages/pydantic/_internal/_validate_call.py:96\u001b[0m, in \u001b[0;36mValidateCallWrapper.__call__\u001b[0;34m(self, *args, **kwargs)\u001b[0m\n\u001b[1;32m     95\u001b[0m \u001b[38;5;28;01mdef\u001b[39;00m \u001b[38;5;21m__call__\u001b[39m(\u001b[38;5;28mself\u001b[39m, \u001b[38;5;241m*\u001b[39margs: Any, \u001b[38;5;241m*\u001b[39m\u001b[38;5;241m*\u001b[39mkwargs: Any) \u001b[38;5;241m-\u001b[39m\u001b[38;5;241m>\u001b[39m Any:\n\u001b[0;32m---> 96\u001b[0m     res \u001b[38;5;241m=\u001b[39m \u001b[38;5;28;43mself\u001b[39;49m\u001b[38;5;241;43m.\u001b[39;49m\u001b[43m__pydantic_validator__\u001b[49m\u001b[38;5;241;43m.\u001b[39;49m\u001b[43mvalidate_python\u001b[49m\u001b[43m(\u001b[49m\u001b[43mpydantic_core\u001b[49m\u001b[38;5;241;43m.\u001b[39;49m\u001b[43mArgsKwargs\u001b[49m\u001b[43m(\u001b[49m\u001b[43margs\u001b[49m\u001b[43m,\u001b[49m\u001b[43m \u001b[49m\u001b[43mkwargs\u001b[49m\u001b[43m)\u001b[49m\u001b[43m)\u001b[49m\n\u001b[1;32m     97\u001b[0m     \u001b[38;5;28;01mif\u001b[39;00m \u001b[38;5;28mself\u001b[39m\u001b[38;5;241m.\u001b[39m__return_pydantic_validator__:\n\u001b[1;32m     98\u001b[0m         \u001b[38;5;28;01mreturn\u001b[39;00m \u001b[38;5;28mself\u001b[39m\u001b[38;5;241m.\u001b[39m__return_pydantic_validator__(res)\n",
      "File \u001b[0;32m~/Library/Caches/pypoetry/virtualenvs/notebooks-k2yxt2gM-py3.10/lib/python3.10/site-packages/atoti/session.py:484\u001b[0m, in \u001b[0;36mSession.connect_to_external_database\u001b[0;34m(self, connection_config)\u001b[0m\n\u001b[1;32m    470\u001b[0m \u001b[38;5;28;01mdef\u001b[39;00m \u001b[38;5;21mconnect_to_external_database\u001b[39m(\n\u001b[1;32m    471\u001b[0m     \u001b[38;5;28mself\u001b[39m,\n\u001b[1;32m    472\u001b[0m     connection_config: ExternalDatabaseConnectionConfigT,\n\u001b[1;32m    473\u001b[0m     \u001b[38;5;241m/\u001b[39m,\n\u001b[1;32m    474\u001b[0m ) \u001b[38;5;241m-\u001b[39m\u001b[38;5;241m>\u001b[39m ExternalDatabaseConnection[ExternalDatabaseConnectionConfigT]:\n\u001b[1;32m    475\u001b[0m \u001b[38;5;250m    \u001b[39m\u001b[38;5;124;03m\"\"\"Connect to an external database using DirectQuery.\u001b[39;00m\n\u001b[1;32m    476\u001b[0m \n\u001b[1;32m    477\u001b[0m \u001b[38;5;124;03m    Note:\u001b[39;00m\n\u001b[0;32m   (...)\u001b[0m\n\u001b[1;32m    482\u001b[0m \u001b[38;5;124;03m            Each :ref:`DirectQuery plugin <reference:DirectQuery>` has its own ``ConnectionConfig`` class.\u001b[39;00m\n\u001b[1;32m    483\u001b[0m \u001b[38;5;124;03m    \"\"\"\u001b[39;00m\n\u001b[0;32m--> 484\u001b[0m     \u001b[38;5;28;43mself\u001b[39;49m\u001b[38;5;241;43m.\u001b[39;49m\u001b[43m_java_api\u001b[49m\u001b[38;5;241;43m.\u001b[39;49m\u001b[43mconnect_to_database\u001b[49m\u001b[43m(\u001b[49m\n\u001b[1;32m    485\u001b[0m \u001b[43m        \u001b[49m\u001b[43mconnection_config\u001b[49m\u001b[38;5;241;43m.\u001b[39;49m\u001b[43m_database_key\u001b[49m\u001b[43m,\u001b[49m\n\u001b[1;32m    486\u001b[0m \u001b[43m        \u001b[49m\u001b[43murl\u001b[49m\u001b[38;5;241;43m=\u001b[39;49m\u001b[43mconnection_config\u001b[49m\u001b[38;5;241;43m.\u001b[39;49m\u001b[43m_url\u001b[49m\u001b[43m,\u001b[49m\n\u001b[1;32m    487\u001b[0m \u001b[43m        \u001b[49m\u001b[43mpassword\u001b[49m\u001b[38;5;241;43m=\u001b[39;49m\u001b[43mconnection_config\u001b[49m\u001b[38;5;241;43m.\u001b[39;49m\u001b[43m_password\u001b[49m\u001b[43m,\u001b[49m\n\u001b[1;32m    488\u001b[0m \u001b[43m        \u001b[49m\u001b[43moptions\u001b[49m\u001b[38;5;241;43m=\u001b[39;49m\u001b[43mconnection_config\u001b[49m\u001b[38;5;241;43m.\u001b[39;49m\u001b[43m_options\u001b[49m\u001b[43m,\u001b[49m\n\u001b[1;32m    489\u001b[0m \u001b[43m    \u001b[49m\u001b[43m)\u001b[49m\n\u001b[1;32m    490\u001b[0m     \u001b[38;5;28;01mreturn\u001b[39;00m ExternalDatabaseConnection(\n\u001b[1;32m    491\u001b[0m         database_key\u001b[38;5;241m=\u001b[39mconnection_config\u001b[38;5;241m.\u001b[39m_database_key,\n\u001b[1;32m    492\u001b[0m         java_api\u001b[38;5;241m=\u001b[39m\u001b[38;5;28mself\u001b[39m\u001b[38;5;241m.\u001b[39m_java_api,\n\u001b[1;32m    493\u001b[0m     )\n",
      "File \u001b[0;32m~/Library/Caches/pypoetry/virtualenvs/notebooks-k2yxt2gM-py3.10/lib/python3.10/site-packages/atoti/_java_api.py:1983\u001b[0m, in \u001b[0;36mJavaApi.connect_to_database\u001b[0;34m(self, key, url, password, options)\u001b[0m\n\u001b[1;32m   1973\u001b[0m \u001b[38;5;28;01mdef\u001b[39;00m \u001b[38;5;21mconnect_to_database\u001b[39m(\n\u001b[1;32m   1974\u001b[0m     \u001b[38;5;28mself\u001b[39m,\n\u001b[1;32m   1975\u001b[0m     key: \u001b[38;5;28mstr\u001b[39m,\n\u001b[0;32m   (...)\u001b[0m\n\u001b[1;32m   1980\u001b[0m     options: Mapping[\u001b[38;5;28mstr\u001b[39m, \u001b[38;5;28mstr\u001b[39m \u001b[38;5;241m|\u001b[39m \u001b[38;5;28;01mNone\u001b[39;00m],\n\u001b[1;32m   1981\u001b[0m ) \u001b[38;5;241m-\u001b[39m\u001b[38;5;241m>\u001b[39m \u001b[38;5;28;01mNone\u001b[39;00m:\n\u001b[1;32m   1982\u001b[0m     options \u001b[38;5;241m=\u001b[39m to_java_map(options, gateway\u001b[38;5;241m=\u001b[39m\u001b[38;5;28mself\u001b[39m\u001b[38;5;241m.\u001b[39mgateway)\n\u001b[0;32m-> 1983\u001b[0m     \u001b[38;5;28;43mself\u001b[39;49m\u001b[38;5;241;43m.\u001b[39;49m\u001b[43mexternal_api\u001b[49m\u001b[43m(\u001b[49m\u001b[43mkey\u001b[49m\u001b[43m)\u001b[49m\u001b[38;5;241;43m.\u001b[39;49m\u001b[43mconnectToDatabase\u001b[49m\u001b[43m(\u001b[49m\u001b[43murl\u001b[49m\u001b[43m,\u001b[49m\u001b[43m \u001b[49m\u001b[43mpassword\u001b[49m\u001b[43m,\u001b[49m\u001b[43m \u001b[49m\u001b[43moptions\u001b[49m\u001b[43m)\u001b[49m\n",
      "File \u001b[0;32m~/Library/Caches/pypoetry/virtualenvs/notebooks-k2yxt2gM-py3.10/lib/python3.10/site-packages/py4j/java_gateway.py:1322\u001b[0m, in \u001b[0;36mJavaMember.__call__\u001b[0;34m(self, *args)\u001b[0m\n\u001b[1;32m   1316\u001b[0m command \u001b[38;5;241m=\u001b[39m proto\u001b[38;5;241m.\u001b[39mCALL_COMMAND_NAME \u001b[38;5;241m+\u001b[39m\\\n\u001b[1;32m   1317\u001b[0m     \u001b[38;5;28mself\u001b[39m\u001b[38;5;241m.\u001b[39mcommand_header \u001b[38;5;241m+\u001b[39m\\\n\u001b[1;32m   1318\u001b[0m     args_command \u001b[38;5;241m+\u001b[39m\\\n\u001b[1;32m   1319\u001b[0m     proto\u001b[38;5;241m.\u001b[39mEND_COMMAND_PART\n\u001b[1;32m   1321\u001b[0m answer \u001b[38;5;241m=\u001b[39m \u001b[38;5;28mself\u001b[39m\u001b[38;5;241m.\u001b[39mgateway_client\u001b[38;5;241m.\u001b[39msend_command(command)\n\u001b[0;32m-> 1322\u001b[0m return_value \u001b[38;5;241m=\u001b[39m \u001b[43mget_return_value\u001b[49m\u001b[43m(\u001b[49m\n\u001b[1;32m   1323\u001b[0m \u001b[43m    \u001b[49m\u001b[43manswer\u001b[49m\u001b[43m,\u001b[49m\u001b[43m \u001b[49m\u001b[38;5;28;43mself\u001b[39;49m\u001b[38;5;241;43m.\u001b[39;49m\u001b[43mgateway_client\u001b[49m\u001b[43m,\u001b[49m\u001b[43m \u001b[49m\u001b[38;5;28;43mself\u001b[39;49m\u001b[38;5;241;43m.\u001b[39;49m\u001b[43mtarget_id\u001b[49m\u001b[43m,\u001b[49m\u001b[43m \u001b[49m\u001b[38;5;28;43mself\u001b[39;49m\u001b[38;5;241;43m.\u001b[39;49m\u001b[43mname\u001b[49m\u001b[43m)\u001b[49m\n\u001b[1;32m   1325\u001b[0m \u001b[38;5;28;01mfor\u001b[39;00m temp_arg \u001b[38;5;129;01min\u001b[39;00m temp_args:\n\u001b[1;32m   1326\u001b[0m     \u001b[38;5;28;01mif\u001b[39;00m \u001b[38;5;28mhasattr\u001b[39m(temp_arg, \u001b[38;5;124m\"\u001b[39m\u001b[38;5;124m_detach\u001b[39m\u001b[38;5;124m\"\u001b[39m):\n",
      "File \u001b[0;32m~/Library/Caches/pypoetry/virtualenvs/notebooks-k2yxt2gM-py3.10/lib/python3.10/site-packages/py4j/protocol.py:326\u001b[0m, in \u001b[0;36mget_return_value\u001b[0;34m(answer, gateway_client, target_id, name)\u001b[0m\n\u001b[1;32m    324\u001b[0m value \u001b[38;5;241m=\u001b[39m OUTPUT_CONVERTER[\u001b[38;5;28mtype\u001b[39m](answer[\u001b[38;5;241m2\u001b[39m:], gateway_client)\n\u001b[1;32m    325\u001b[0m \u001b[38;5;28;01mif\u001b[39;00m answer[\u001b[38;5;241m1\u001b[39m] \u001b[38;5;241m==\u001b[39m REFERENCE_TYPE:\n\u001b[0;32m--> 326\u001b[0m     \u001b[38;5;28;01mraise\u001b[39;00m Py4JJavaError(\n\u001b[1;32m    327\u001b[0m         \u001b[38;5;124m\"\u001b[39m\u001b[38;5;124mAn error occurred while calling \u001b[39m\u001b[38;5;132;01m{0}\u001b[39;00m\u001b[38;5;132;01m{1}\u001b[39;00m\u001b[38;5;132;01m{2}\u001b[39;00m\u001b[38;5;124m.\u001b[39m\u001b[38;5;130;01m\\n\u001b[39;00m\u001b[38;5;124m\"\u001b[39m\u001b[38;5;241m.\u001b[39m\n\u001b[1;32m    328\u001b[0m         \u001b[38;5;28mformat\u001b[39m(target_id, \u001b[38;5;124m\"\u001b[39m\u001b[38;5;124m.\u001b[39m\u001b[38;5;124m\"\u001b[39m, name), value)\n\u001b[1;32m    329\u001b[0m \u001b[38;5;28;01melse\u001b[39;00m:\n\u001b[1;32m    330\u001b[0m     \u001b[38;5;28;01mraise\u001b[39;00m Py4JError(\n\u001b[1;32m    331\u001b[0m         \u001b[38;5;124m\"\u001b[39m\u001b[38;5;124mAn error occurred while calling \u001b[39m\u001b[38;5;132;01m{0}\u001b[39;00m\u001b[38;5;132;01m{1}\u001b[39;00m\u001b[38;5;132;01m{2}\u001b[39;00m\u001b[38;5;124m. Trace:\u001b[39m\u001b[38;5;130;01m\\n\u001b[39;00m\u001b[38;5;132;01m{3}\u001b[39;00m\u001b[38;5;130;01m\\n\u001b[39;00m\u001b[38;5;124m\"\u001b[39m\u001b[38;5;241m.\u001b[39m\n\u001b[1;32m    332\u001b[0m         \u001b[38;5;28mformat\u001b[39m(target_id, \u001b[38;5;124m\"\u001b[39m\u001b[38;5;124m.\u001b[39m\u001b[38;5;124m\"\u001b[39m, name, value))\n",
      "\u001b[0;31mPy4JJavaError\u001b[0m: An error occurred while calling o6.connectToDatabase.\n: com.activeviam.tech.core.api.exceptions.ActiveViamRuntimeException: com.clickhouse.client.ClickHouseException: SSL peer shut down incorrectly\n\tat com.activeviam.database.clickhouse.internal.ClickhouseConfiguration.getInitServerVersion(ClickhouseConfiguration.java:168)\n\tat com.activeviam.database.clickhouse.internal.ClickhouseConfiguration.from(ClickhouseConfiguration.java:109)\n\tat io.atoti.directquery.clickhouse.private_.ClickhouseManager.connectToClickhouse(ClickhouseManager.java:55)\n\tat io.atoti.directquery.clickhouse.private_.ClickhouseDatabaseApi.connectToDatabase(ClickhouseDatabaseApi.java:57)\n\tat java.base/jdk.internal.reflect.DirectMethodHandleAccessor.invoke(Unknown Source)\n\tat java.base/java.lang.reflect.Method.invoke(Unknown Source)\n\tat py4j.reflection.MethodInvoker.invoke(MethodInvoker.java:244)\n\tat py4j.reflection.ReflectionEngine.invoke(ReflectionEngine.java:357)\n\tat py4j.Gateway.invoke(Gateway.java:282)\n\tat py4j.commands.AbstractCommand.invokeMethod(AbstractCommand.java:132)\n\tat py4j.commands.CallCommand.execute(CallCommand.java:79)\n\tat py4j.ClientServerConnection.waitForCommands(ClientServerConnection.java:182)\n\tat py4j.ClientServerConnection.run(ClientServerConnection.java:106)\n\tat java.base/java.lang.Thread.run(Unknown Source)\nCaused by: com.clickhouse.client.ClickHouseException: SSL peer shut down incorrectly\n\tat com.clickhouse.client.ClickHouseException.of(ClickHouseException.java:151)\n\tat com.clickhouse.client.AbstractClient.lambda$execute$0(AbstractClient.java:275)\n\tat java.base/java.util.concurrent.CompletableFuture$AsyncSupply.run(Unknown Source)\n\tat java.base/java.util.concurrent.ThreadPoolExecutor.runWorker(Unknown Source)\n\tat java.base/java.util.concurrent.ThreadPoolExecutor$Worker.run(Unknown Source)\n\t... 1 more\nCaused by: java.io.EOFException: SSL peer shut down incorrectly\n\tat java.base/sun.security.ssl.SSLSocketInputRecord.read(Unknown Source)\n\tat java.base/sun.security.ssl.SSLSocketInputRecord.readHeader(Unknown Source)\n\tat java.base/sun.security.ssl.SSLSocketInputRecord.decode(Unknown Source)\n\tat java.base/sun.security.ssl.SSLTransport.decode(Unknown Source)\n\tat java.base/sun.security.ssl.SSLSocketImpl.decode(Unknown Source)\n\tat java.base/sun.security.ssl.SSLSocketImpl.readHandshakeRecord(Unknown Source)\n\tat java.base/sun.security.ssl.SSLSocketImpl.startHandshake(Unknown Source)\n\tat java.base/sun.security.ssl.SSLSocketImpl.startHandshake(Unknown Source)\n\tat java.base/sun.net.www.protocol.https.HttpsClient.afterConnect(Unknown Source)\n\tat java.base/sun.net.www.protocol.https.AbstractDelegateHttpsURLConnection.connect(Unknown Source)\n\tat java.base/sun.net.www.protocol.http.HttpURLConnection.getOutputStream0(Unknown Source)\n\tat java.base/sun.net.www.protocol.http.HttpURLConnection.getOutputStream(Unknown Source)\n\tat java.base/sun.net.www.protocol.https.HttpsURLConnectionImpl.getOutputStream(Unknown Source)\n\tat com.clickhouse.client.http.HttpUrlConnectionImpl.post(HttpUrlConnectionImpl.java:244)\n\tat com.clickhouse.client.http.ClickHouseHttpClient.send(ClickHouseHttpClient.java:201)\n\tat com.clickhouse.client.AbstractClient.sendAsync(AbstractClient.java:161)\n\tat com.clickhouse.client.AbstractClient.lambda$execute$0(AbstractClient.java:273)\n\t... 4 more\n"
     ]
    }
   ],
   "source": [
    "connection_info = ConnectionConfig(\n",
    "    url=f\"clickhouse:https://{os.environ['CLICKHOUSE_USER']}@{os.environ['CLICKHOUSE_HOST']}:{os.environ['CLICKHOUSE_PORT']}\",\n",
    "    password=os.environ[\"CLICKHOUSE_PASSWORD\"],\n",
    ")\n",
    "\n",
    "db = session.connect_to_external_database(connection_info)"
   ]
  },
  {
   "cell_type": "markdown",
   "id": "9ffd7984-3337-479a-8828-46ccadca53f4",
   "metadata": {},
   "source": [
    "Under the `ATOTI` database in ClickHouse, we have two tables. We'll use only the `TRADE_PNLS` table."
   ]
  },
  {
   "cell_type": "code",
   "execution_count": null,
   "id": "dcb0359d-f3e3-48b8-ab4d-c7b6e63a1c68",
   "metadata": {
    "tags": []
   },
   "outputs": [],
   "source": [
    "db.tables"
   ]
  },
  {
   "cell_type": "code",
   "execution_count": null,
   "id": "b5d65597-dd92-4559-8a16-b0f7422f433f",
   "metadata": {
    "tags": []
   },
   "outputs": [],
   "source": [
    "trades_atoti = session.add_external_table(\n",
    "    db.tables[\"TRADE_PNLS\"],\n",
    "    table_name=\"Trade PnL\",\n",
    "    config=TableConfig(keys=[\"AsOfDate\", \"TradeId\", \"BookId\", \"DataSet\"]),\n",
    ")"
   ]
  },
  {
   "cell_type": "code",
   "execution_count": null,
   "id": "a1fc1cb9-f22d-4b57-859e-d034d4ba0c37",
   "metadata": {},
   "outputs": [],
   "source": [
    "print(\n",
    "    f\"# of records: {trades_atoti.row_count}, # of columns: {len(list(trades_atoti))}\"\n",
    ")"
   ]
  },
  {
   "cell_type": "code",
   "execution_count": null,
   "id": "e0ecab9a-c2aa-419d-965c-a7b02a874968",
   "metadata": {},
   "outputs": [],
   "source": [
    "cube = session.create_cube(trades_atoti)\n",
    "session.tables.schema"
   ]
  },
  {
   "cell_type": "markdown",
   "id": "142ef4e9-a829-489a-b713-03788539c51f",
   "metadata": {},
   "source": [
    "Before proceeding further, let's do some simple configurations that will help avoid querying the entire database. We set the `AsOfDate` as a slicing hierarchy and sort it in descending order. This way, only data from the latest `AsOfDate` will be returned by default when we query Atoti.  "
   ]
  },
  {
   "cell_type": "code",
   "execution_count": null,
   "id": "0e8328f8-649d-43b5-b950-7f298380e69f",
   "metadata": {},
   "outputs": [],
   "source": [
    "h, l, m = cube.hierarchies, cube.levels, cube.measures"
   ]
  },
  {
   "cell_type": "code",
   "execution_count": null,
   "id": "eb441bb8-9b29-4e18-a8e6-b44570f9096c",
   "metadata": {
    "tags": []
   },
   "outputs": [],
   "source": [
    "h[\"AsOfDate\"].slicing = True\n",
    "l[\"AsOfDate\"].order = tt.NaturalOrder(ascending=False)"
   ]
  },
  {
   "cell_type": "markdown",
   "id": "ad57bfb6-f8ac-4b87-9bef-cb5f38176958",
   "metadata": {},
   "source": [
    "Atoti is now able to retrieve data from ClickHouse without storing them in-memory.  "
   ]
  },
  {
   "cell_type": "code",
   "execution_count": null,
   "id": "65a82548-15fe-412e-80d4-278c8e3f2e6e",
   "metadata": {
    "atoti": {
     "height": 191,
     "widget": {
      "mapping": {
       "columns": [
        "ALL_MEASURES"
       ],
       "measures": [
        "[Measures].[contributors.COUNT]"
       ],
       "rows": [
        "[Trade PnL].[AsOfDate].[AsOfDate]"
       ]
      },
      "name": "Daily data volume",
      "query": {
       "mdx": "SELECT NON EMPTY {[Measures].[contributors.COUNT]} ON COLUMNS, NON EMPTY [Trade PnL].[AsOfDate].[AsOfDate].Members ON ROWS FROM [Trade PnL] CELL PROPERTIES VALUE, FORMATTED_VALUE, BACK_COLOR, FORE_COLOR, FONT_FLAGS",
       "updateMode": "once"
      },
      "serverKey": "default",
      "widgetKey": "pivot-table"
     }
    },
    "tags": []
   },
   "outputs": [],
   "source": [
    "session.widget"
   ]
  },
  {
   "cell_type": "markdown",
   "id": "4142fcf8-391e-4e6c-bc0a-8b6388491342",
   "metadata": {},
   "source": [
    "### Cardinality Investigation"
   ]
  },
  {
   "cell_type": "markdown",
   "id": "618e595f-fa6c-4992-9fda-eaffafd36161",
   "metadata": {},
   "source": [
    "Some of our hierarchies have a high cardinality (= number of distinct values). Let's create some measures to visualize that."
   ]
  },
  {
   "cell_type": "code",
   "execution_count": null,
   "id": "45e109e8-a388-4efb-a67b-2e59e5d7f621",
   "metadata": {
    "tags": []
   },
   "outputs": [],
   "source": [
    "m[\"Distinct Trade Id\"] = tt.agg.count_distinct(trades_atoti[\"TradeId\"])\n",
    "m[\"Distinct BookId\"] = tt.agg.count_distinct(trades_atoti[\"BookId\"])\n",
    "m[\"Distinct RiskFactor\"] = tt.agg.count_distinct(trades_atoti[\"RiskFactor\"])\n",
    "m[\"Distinct RiskClass\"] = tt.agg.count_distinct(trades_atoti[\"RiskClass\"])"
   ]
  },
  {
   "cell_type": "code",
   "execution_count": null,
   "id": "9bb810de-6465-43d9-aa3c-30348d004ad1",
   "metadata": {
    "atoti": {
     "widget": {
      "mapping": {
       "columns": [
        "ALL_MEASURES"
       ],
       "measures": [
        "[Measures].[Distinct BookId]",
        "[Measures].[Distinct RiskClass]",
        "[Measures].[Distinct RiskFactor]",
        "[Measures].[Distinct Trade Id]"
       ],
       "rows": []
      },
      "query": {
       "mdx": "SELECT NON EMPTY {[Measures].[Distinct BookId], [Measures].[Distinct RiskClass], [Measures].[Distinct RiskFactor], [Measures].[Distinct Trade Id]} ON COLUMNS FROM [Trade PnL] CELL PROPERTIES VALUE, FORMATTED_VALUE, BACK_COLOR, FORE_COLOR, FONT_FLAGS",
       "updateMode": "once"
      },
      "serverKey": "default",
      "widgetKey": "pivot-table"
     }
    }
   },
   "outputs": [],
   "source": [
    "session.widget"
   ]
  },
  {
   "cell_type": "markdown",
   "id": "05de8c4f-9f0c-4351-b9be-af2f8dc3fc94",
   "metadata": {},
   "source": [
    "We can see that `TradeId` has far more unique values than the other hierarchies. Iterating through the hierarchies, we can see that only `TradeId` is set as a virtual hierarchy by the application."
   ]
  },
  {
   "cell_type": "code",
   "execution_count": null,
   "id": "068d8cbd-60d3-4a54-82a3-088f85c13564",
   "metadata": {
    "tags": []
   },
   "outputs": [],
   "source": [
    "for _hierarchy in h:\n",
    "    print(f\"Hierarchy name: {_hierarchy}: {h[_hierarchy].virtual}\")"
   ]
  },
  {
   "cell_type": "markdown",
   "id": "7ee1c971-d2e0-4520-bb11-9f9e5b97e581",
   "metadata": {},
   "source": [
    "⚠️ It is important to know that **with the use of DirectQuery, a hierarchy is automatically set as virtual if its cardinality is greater than or equal to 10000**. Without DirectQuery, we have to explicitly set a hierarchy as virtual where necessary."
   ]
  },
  {
   "cell_type": "markdown",
   "id": "cc7f18ce-0568-47ac-82ba-640263dcc819",
   "metadata": {},
   "source": [
    "### Trade-off on interactive filtering"
   ]
  },
  {
   "cell_type": "markdown",
   "id": "a457b587-75c8-43fe-a02b-76081088d1db",
   "metadata": {},
   "source": [
    "Normally, when creating or editing filters on a visualization using Atoti UI or the Atoti JupyterLab extension, the popover displays the full list of members of the selected hierarchy:  \n",
    "\n",
    "<img src=\"https://data.atoti.io/notebooks/virtual-hierarchies/img/normal_hierarchy_filter.gif\" width=\"75%\"/>  \n",
    "\n",
    "For virtual hierarchies, while the members are not retrieved by default, we can search on demand:  \n",
    "\n",
    "<img src=\"https://data.atoti.io/notebooks/virtual-hierarchies/img/filter-on-demand.gif\" width=\"75%\" />  "
   ]
  },
  {
   "cell_type": "code",
   "execution_count": null,
   "id": "35266910-4ce1-4633-83f9-2285b9abb3a2",
   "metadata": {
    "atoti": {
     "widget": {
      "columnWidths": {
       "[Trade PnL].[TradeId].[TradeId]": 291
      },
      "filters": [
       {
        "dimensionName": "Trade PnL",
        "hierarchyName": "TradeId",
        "isExclusionFilter": false,
        "members": [
         [
          "AllMember",
          "EQB_AUTOCALL_BESP_BASKET_1 0385def4"
         ],
         [
          "AllMember",
          "EQB_AUTOCALL_BESP_BASKET_1 01575a67"
         ]
        ],
        "type": "members"
       }
      ],
      "mapping": {
       "columns": [
        "ALL_MEASURES"
       ],
       "measures": [
        "[Measures].[contributors.COUNT]"
       ],
       "rows": [
        "[Trade PnL].[RiskClass].[RiskClass] => [Trade PnL].[TradeId].[TradeId]"
       ]
      },
      "name": "Virtual Hierarchy",
      "query": {
       "mdx": "SELECT NON EMPTY Hierarchize(Union(Crossjoin(Descendants({[Trade PnL].[RiskClass].[ALL].[AllMember]}, 1, SELF_AND_BEFORE), [Trade PnL].[TradeId].DefaultMember), Crossjoin([Trade PnL].[RiskClass].[ALL].[AllMember].[Equity], Hierarchize(Descendants({[Trade PnL].[TradeId].[ALL].[AllMember]}, 1, SELF_AND_BEFORE))), Crossjoin([Trade PnL].[RiskClass].[ALL].[AllMember].[Foreign exchange], Hierarchize(Descendants({[Trade PnL].[TradeId].[ALL].[AllMember]}, 1, SELF_AND_BEFORE))), Crossjoin([Trade PnL].[RiskClass].[ALL].[AllMember].[Interest rate], Hierarchize(Descendants({[Trade PnL].[TradeId].[ALL].[AllMember]}, 1, SELF_AND_BEFORE))), Crossjoin([Trade PnL].[RiskClass].[ALL].[AllMember].[N/A], Hierarchize(Descendants({[Trade PnL].[TradeId].[ALL].[AllMember]}, 1, SELF_AND_BEFORE))))) ON ROWS, NON EMPTY {[Measures].[contributors.COUNT]} ON COLUMNS FROM [Trade PnL] CELL PROPERTIES VALUE, FORMATTED_VALUE, BACK_COLOR, FORE_COLOR, FONT_FLAGS",
       "updateMode": "once"
      },
      "serverKey": "default",
      "widgetKey": "pivot-table"
     }
    }
   },
   "outputs": [],
   "source": [
    "session.widget"
   ]
  },
  {
   "cell_type": "markdown",
   "id": "3411ae4e-d804-4c11-8930-e1e523c25128",
   "metadata": {},
   "source": [
    "### MDX with Non Empty for a virtual hierarchy \n",
    "\n",
    "In [Multidimensional Expressions (MDX)](https://learn.microsoft.com/en-us/analysis-services/multidimensional-models/mdx/mdx-query-the-basic-query?view=asallproducts-allversions), the keyword [`Non Empty`](https://learn.microsoft.com/en-us/sql/mdx/nonempty-mdx?view=sql-server-ver16) is used to filter out empty cells from the result set of a query.\n",
    "\n",
    "<img src=\"https://data.atoti.io/notebooks/virtual-hierarchies/img/mdx.png\"/>  \n",
    "\n",
    "We can inspect the generated MDX of a visualization by expanding on the Property Inspector of JupyterLab for its cell.    \n",
    "\n",
    "MDX expressions including a virtual hierarchy must include the `NON EMPTY` keyword. Let's see what happens when we remove it for the rows containing our `TradeId` from the MDX above: "
   ]
  },
  {
   "cell_type": "code",
   "execution_count": null,
   "id": "481f3c7d-1676-423e-bf6d-40553c02419b",
   "metadata": {
    "atoti": {
     "widget": {
      "columnWidths": {
       "[Trade PnL].[TradeId].[TradeId]": 291
      },
      "filters": [
       {
        "dimensionName": "Trade PnL",
        "hierarchyName": "TradeId",
        "isExclusionFilter": false,
        "members": [
         [
          "AllMember",
          "EQB_AUTOCALL_BESP_BASKET_1 0385def4"
         ],
         [
          "AllMember",
          "EQB_AUTOCALL_BESP_BASKET_1 01575a67"
         ]
        ],
        "type": "members"
       }
      ],
      "mapping": {
       "columns": [
        "ALL_MEASURES"
       ],
       "measures": [
        "[Measures].[contributors.COUNT]"
       ],
       "rows": [
        "[Trade PnL].[RiskClass].[RiskClass] => [Trade PnL].[TradeId].[TradeId]"
       ]
      },
      "name": "Virtual Hierarchy - not working as expected",
      "query": {
       "mdx": "SELECT Hierarchize(Union(Crossjoin(Descendants({[Trade PnL].[RiskClass].[ALL].[AllMember]}, 1, SELF_AND_BEFORE), [Trade PnL].[TradeId].DefaultMember), Crossjoin([Trade PnL].[RiskClass].[ALL].[AllMember].[Equity], Hierarchize(Descendants({[Trade PnL].[TradeId].[ALL].[AllMember]}, 1, SELF_AND_BEFORE))), Crossjoin([Trade PnL].[RiskClass].[ALL].[AllMember].[Foreign exchange], Hierarchize(Descendants({[Trade PnL].[TradeId].[ALL].[AllMember]}, 1, SELF_AND_BEFORE))), Crossjoin([Trade PnL].[RiskClass].[ALL].[AllMember].[Interest rate], Hierarchize(Descendants({[Trade PnL].[TradeId].[ALL].[AllMember]}, 1, SELF_AND_BEFORE))), Crossjoin([Trade PnL].[RiskClass].[ALL].[AllMember].[N/A], Hierarchize(Descendants({[Trade PnL].[TradeId].[ALL].[AllMember]}, 1, SELF_AND_BEFORE))))) ON ROWS, NON EMPTY {[Measures].[contributors.COUNT]} ON COLUMNS FROM [Trade PnL] CELL PROPERTIES VALUE, FORMATTED_VALUE, BACK_COLOR, FORE_COLOR, FONT_FLAGS",
       "updateMode": "once"
      },
      "serverKey": "default",
      "widgetKey": "pivot-table"
     }
    },
    "editable": true,
    "slideshow": {
     "slide_type": ""
    },
    "tags": []
   },
   "outputs": [],
   "source": [
    "session.widget"
   ]
  },
  {
   "cell_type": "markdown",
   "id": "35cf0f0c-05aa-4872-87ea-1e29865782fe",
   "metadata": {},
   "source": [
    "### Memory footprint difference between virtual and non-virtual hierarchies"
   ]
  },
  {
   "cell_type": "markdown",
   "id": "3eac9179-3009-4804-92dc-49b27fe5c73e",
   "metadata": {},
   "source": [
    "From the [server log](https://docs.atoti.io/latest/lib/atoti/atoti.config.logging_config.html#atoti.LoggingConfig) (found under `$HOME/.atoti` folder by default), we can see that we have only utilized `140KB` of direct memory and less than `100 MB` of heap so far:  \n",
    "\n",
    "<img src=\"https://data.atoti.io/notebooks/virtual-hierarchies/img/virtual_hierarchy_mem_usage.png\" />  \n",
    "\n",
    "Let's try changing the `TradeId` into a non-virtual hierarchy."
   ]
  },
  {
   "cell_type": "code",
   "execution_count": null,
   "id": "cfb31b3e-5388-4a32-9462-e03bd8d401e4",
   "metadata": {
    "tags": []
   },
   "outputs": [],
   "source": [
    "h[\"TradeId\"].virtual = False"
   ]
  },
  {
   "cell_type": "markdown",
   "id": "e88c2c11-d789-4c96-9049-356474e65383",
   "metadata": {},
   "source": [
    "After setting the `virtual` parameter to `False` for the `TradeId` hierarchy, the memory usage increases — now we utilize more than 1 MB of direct memory. \n",
    "  \n",
    "<img src=\"https://data.atoti.io/notebooks/virtual-hierarchies/img/non-virtual_hierarchy_mem_usage.png\" />"
   ]
  },
  {
   "cell_type": "markdown",
   "id": "6ee6bdfb-4d2c-4f17-9796-66962f6d712d",
   "metadata": {},
   "source": [
    "We can see that setting a hierarchy as virtual makes it lightweight memory-wise, while still being queryable by users, just in a slightly more restrictive way."
   ]
  },
  {
   "cell_type": "markdown",
   "id": "49554a62-574d-4852-8ca9-20f0a3736d71",
   "metadata": {},
   "source": [
    "<div style=\"text-align:center\"><a href=\"https://www.atoti.io/?utm_source=gallery&utm_content=virtual-hierarchies\" target=\"_blank\" rel=\"noopener noreferrer\"><img src=\"https://data.atoti.io/notebooks/banners/Your-turn-to-try-Atoti.jpg\" alt=\"Atoti table\" /></a></div>"
   ]
  }
 ],
 "metadata": {
  "kernelspec": {
   "display_name": "Python 3 (ipykernel)",
   "language": "python",
   "name": "python3"
  },
  "language_info": {
   "codemirror_mode": {
    "name": "ipython",
    "version": 3
   },
   "file_extension": ".py",
   "mimetype": "text/x-python",
   "name": "python",
   "nbconvert_exporter": "python",
   "pygments_lexer": "ipython3",
   "version": "3.10.13"
  },
  "widgets": {
   "application/vnd.jupyter.widget-state+json": {
    "state": {},
    "version_major": 2,
    "version_minor": 0
   }
  }
 },
 "nbformat": 4,
 "nbformat_minor": 5
}
