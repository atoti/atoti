{
 "cells": [
  {
   "cell_type": "markdown",
   "id": "ac3fbb12-82a8-4e9f-aa4e-e1ad414ce283",
   "metadata": {},
   "source": [
    "# DirectQuery: Combining Atoti and Data Warehouses"
   ]
  },
  {
   "cell_type": "markdown",
   "id": "a671e16d-c06b-432f-92c6-5b2d2f7043bd",
   "metadata": {},
   "source": [
    "We know Atoti provides in-memory analytics for big data. This means that we hold data in memory and perform aggregation on the fly in order to achieve fast and dynamic computations. In our usual Atoti setup, the hosting server requires a memory size that's about 1.5 times of the amount of data that gets loaded into the cube. However, with Atoti's DirectQuery, we can better support our users who store their data on the cloud! In fact, it applies for on-premise databases such as [ClickHouse](https://clickhouse.com/clickhouse) and [Microsoft SQL Server](https://www.microsoft.com/en-sg/sql-server/sql-server-downloads) too.  \n",
    "\n",
    "<img src=\"https://data.atoti.io/notebooks/direct-query/img/cost_vs_performance.png\" width=\"850px\"/>\n",
    "\n",
    "In a gist, here's what DirectQuery offers:  \n",
    "\n",
    "- Scalability\n",
    "\n",
    "> Leveraging the scalability of cloud data warehouse, the server that hosts Atoti only has to take into consideration the amount of data that gets queried on a daily basis.  \n",
    "> Instead of storing all of the data in physical memory, DirectQuery enables us to query the Cloud database directly, reducing the need for memory in the hosting server.  \n",
    "\n",
    "- Cost savings\n",
    "\n",
    "> Other than saving on the memory required for the hosting server, DirectQuery helps to save on the data transfer costs.  \n",
    "> While cloud data warehouse is cost-effective, we incur costs when we perform queries.  \n",
    "> We can reduce querying to the Cloud database by loading an aggregated cache in memory for the most frequently queried data.  \n",
    "\n",
    "- Technology agnosticism\n",
    "\n",
    "> With changes to only a few lines of data connectivity code in Atoti, we can easily switch from one Cloud service provider to another without impacting the Atoti server.  \n",
    "> We can even switch over to other data connectors such as physical files.  \n",
    "\n",
    "\n",
    "This notebook provides a quick introduction to how we can connect to Google BigQuery and create an Atoti cube."
   ]
  },
  {
   "cell_type": "markdown",
   "id": "f23aeb88-5455-44ee-892d-4aa7fc2dbfb7",
   "metadata": {},
   "source": [
    "<div style=\"text-align: center;\" ><a href=\"https://www.atoti.io/?utm_source=gallery&utm_content=directquery-intro\" target=\"_blank\" rel=\"noopener noreferrer\"><img src=\"https://data.atoti.io/notebooks/banners/Discover-Atoti-now.png\" alt=\"Try Atoti\"></a></div>"
   ]
  },
  {
   "cell_type": "markdown",
   "id": "663b2051-11e1-4815-8a2c-fde3d450d07b",
   "metadata": {},
   "source": [
    "## Google BigQuery configuration"
   ]
  },
  {
   "cell_type": "markdown",
   "id": "1db76b03-dbe0-4223-a656-8b7e9e2ff260",
   "metadata": {},
   "source": [
    "### Step 1 — Create role with permissions\n",
    "\n",
    "- Login to Google Cloud console.\n",
    "- Navigate to __IAM & Admin__ > __Roles__.  \n",
    "- Create a role with the following permission for the DirectQuery users:  \n",
    "    - `bigquery.datasets.get`\n",
    "    - `bigquery.jobs.create`\n",
    "    - `bigquery.readsessions.create`\n",
    "    - `bigquery.readsessions.getData`\n",
    "    - `bigquery.readsessions.update`\n",
    "    - `bigquery.routines.get`\n",
    "    - `bigquery.tables.get`\n",
    "    - `bigquery.tables.getData`\n",
    "    - `bigquery.tables.list`\n",
    "\n",
    "⚠️ **Important:** Having trouble pulling your data after setting up your account? Confirm that the above permissions have been set up properly!  \n",
    "\n",
    "<img src=\"https://data.atoti.io/notebooks/direct-query/img/bigquery_permission.png\" />\n",
    "\n",
    "💡 **Note:** For more details, refer to the [Atoti Server documentation](https://docs.activeviam.com/products/atoti/server/latest/docs/directquery/connect_to_external/connect_to_bigquery/)."
   ]
  },
  {
   "cell_type": "markdown",
   "id": "2143280e-d2b0-4da1-b20d-78af65d26753",
   "metadata": {},
   "source": [
    "### Step 2 — Create Service Account\n",
    "\n",
    "* Under **IAM & Admin**, navigate to **Service Accounts**.\n",
    "* Create a service account and assign the role created in Step 1.\n",
    "\n",
    "    <img src=\"https://data.atoti.io/notebooks/direct-query/img/service_account.png\" width=\"700px\"/>  "
   ]
  },
  {
   "cell_type": "markdown",
   "id": "03e75ceb-055a-4986-aa8d-6858422b260a",
   "metadata": {
    "tags": []
   },
   "source": [
    "### Step 3 — Generate API Key \n",
    "\n",
    "- Navigate to the __KEYS__ tab and generate a new key.  \n",
    "\n",
    "    <img src=\"https://data.atoti.io/notebooks/direct-query/img/create_key.png\" />  \n",
    "\n",
    "- Select `JSON` as key type and save the downloaded key to a server folder:  \n",
    "\n",
    "    <img src=\"https://data.atoti.io/notebooks/direct-query/img/json_key.png\" />\n",
    "\n",
    "- Configure environment variable pointing to the JSON key. In this use case, our environment variable is `DQ_GOOGLE_CREDENTIAL`:  \n",
    "\n",
    "    <img src=\"https://data.atoti.io/notebooks/direct-query/img/environment_variable.png\" />  \n",
    "\n",
    "💡 **Note:** Alternatively, we can set up [Application Default Credentials](https://cloud.google.com/docs/authentication/provide-credentials-adc) for authentication.  "
   ]
  },
  {
   "cell_type": "markdown",
   "id": "95e30413-d630-4b1b-a304-d824e9649c3d",
   "metadata": {},
   "source": [
    "## Database set up  \n",
    "\n",
    "To try out this notebook, you can setup the database schema and tables using the [database script](db_schema.sql) in the use case folder.  "
   ]
  },
  {
   "cell_type": "markdown",
   "id": "fcfd6d72-801a-460c-9e1f-4e0843909442",
   "metadata": {},
   "source": [
    "## Atoti Setup"
   ]
  },
  {
   "cell_type": "markdown",
   "id": "8857ebb1-032f-4b69-84e6-b8cf7e431def",
   "metadata": {},
   "source": [
    "We import [Atoti](https://docs.atoti.io/latest/getting_started/installation.html) library and create the [Atoti Session](https://docs.atoti.io/latest/api/atoti.Session.html#atoti.Session) as we always do.  "
   ]
  },
  {
   "cell_type": "code",
   "execution_count": 1,
   "id": "7d97f0ea-5b39-4c60-9a10-1cae5a22616d",
   "metadata": {
    "tags": []
   },
   "outputs": [],
   "source": [
    "import os\n",
    "import atoti as tt"
   ]
  },
  {
   "cell_type": "code",
   "execution_count": 2,
   "id": "3898f076-a031-49b7-a75f-074008d89a26",
   "metadata": {
    "tags": []
   },
   "outputs": [],
   "source": [
    "session = tt.Session()"
   ]
  },
  {
   "cell_type": "markdown",
   "id": "9e855ec8-18bb-46fa-8e99-751edafeb94c",
   "metadata": {},
   "source": [
    "## DirectQuery Prerequisites"
   ]
  },
  {
   "cell_type": "markdown",
   "id": "01a8923b-80b3-4bfd-86a0-2d705d4bb805",
   "metadata": {},
   "source": [
    "DirectQuery supports a few [databases](https://docs.atoti.io/latest/reference.html#directquery). For each of these databases, we have to install its respective Python plugin.  \n",
    "- `atoti-directquery-bigquery` : To use DirectQuery on Google BigQuery.\n",
    "- `atoti-directquery-clickhouse` : To use DirectQuery with ClickHouse.\n",
    "- `atoti-directquery-databricks` : To use DirectQuery on Databricks.\n",
    "- `atoti-directquery-mssql` : To use DirectQuery with Microsoft SQL Server.\n",
    "- `atoti-directquery-redshift` : To use DirectQuery on Amazon Redshift.\n",
    "- `atoti-directquery-snowflake` : To use DirectQuery on Snowflake.\n",
    "- `atoti-directquery-synapse` : To use DirectQuery on Azure Synapse Analytics.  \n",
    "\n",
    "In our example, we install the plugin for Google BigQuery. Uncomment the below line to install the plugin if it isn't installed.  \n",
    "\n",
    "⚠️ **Important:** We only support one type of database connection per Atoti session."
   ]
  },
  {
   "cell_type": "code",
   "execution_count": 3,
   "id": "af8780d7-ec54-481a-98d7-4cc9f7e030c1",
   "metadata": {
    "tags": []
   },
   "outputs": [],
   "source": [
    "# !pip install atoti-directquery-bigquery"
   ]
  },
  {
   "cell_type": "markdown",
   "id": "1d997a63-e2db-48f9-b501-0532c5eabb3d",
   "metadata": {},
   "source": [
    "We will be using two components from the DirectQueryPlugin:\n",
    "- [BigqueryConnectionInfo](https://docs.atoti.io/latest/api/atoti_directquery_bigquery.BigqueryConnectionInfo.html#atoti_directquery_bigquery.BigqueryConnectionInfo): Configure the connection information to BigQuery.\n",
    "- [BigqueryTableOptions](https://docs.atoti.io/latest/api/atoti_directquery_bigquery.BigqueryTableOptions.html#atoti_directquery_bigquery.BigqueryTableOptions): Configure the table options about the external table to create in Atoti.  \n",
    "\n",
    "⚠️ **Important:** Use the corresponding components for different databases if we are using a different one from BigQuery. E.g. we use [`ClickhouseConnectionInfo`](https://docs.atoti.io/latest/api/atoti_directquery_clickhouse.ClickhouseConnectionInfo.html#atoti_directquery_clickhouse.ClickhouseConnectionInfo) and [`ClickhouseTableOptions`](https://docs.atoti.io/latest/api/atoti_directquery_clickhouse.ClickhouseTableOptions.html#atoti_directquery_clickhouse.ClickhouseTableOptions) if we are connecting to [ClickHouse](https://clickhouse.com/)."
   ]
  },
  {
   "cell_type": "markdown",
   "id": "4509d71b-4d1b-4297-b18a-10430b128507",
   "metadata": {},
   "source": [
    "## Connection setup to Google BigQuery"
   ]
  },
  {
   "cell_type": "code",
   "execution_count": 4,
   "id": "f5eb2f90-be60-4332-80d2-1a5cd83147d4",
   "metadata": {
    "tags": []
   },
   "outputs": [],
   "source": [
    "from atoti_directquery_bigquery import BigqueryConnectionInfo"
   ]
  },
  {
   "cell_type": "markdown",
   "id": "00b90385-93af-479f-888a-bc0677f73eb2",
   "metadata": {},
   "source": [
    "In the below snippet, we use the environment variable to obtain the path to the [API key generated previous in Step 3](#Step-3-—-Generate-API-Key). Setting the credential path into `BigqueryConnectionInfo`, we can invoke the connection to the external database.  "
   ]
  },
  {
   "cell_type": "code",
   "execution_count": 5,
   "id": "ea50d105-284f-4296-b654-b5465037d634",
   "metadata": {
    "tags": []
   },
   "outputs": [],
   "source": [
    "credential = os.environ[\"DQ_GOOGLE_CREDENTIAL\"]\n",
    "connection_info = BigqueryConnectionInfo(credential)\n",
    "\n",
    "external_database = session.connect_to_external_database(connection_info)"
   ]
  },
  {
   "cell_type": "markdown",
   "id": "8e7f4c10-5dc6-4c53-aeea-ef4864471caf",
   "metadata": {},
   "source": [
    "### Discover External Tables"
   ]
  },
  {
   "cell_type": "markdown",
   "id": "51f3c2ee-c57b-49df-9756-60c96d9b0734",
   "metadata": {
    "tags": []
   },
   "source": [
    "Once connected, we can discover the tables available to us from the external database."
   ]
  },
  {
   "cell_type": "code",
   "execution_count": 6,
   "id": "5e85bd6f-dd6a-4ab8-a2f2-51d7759466de",
   "metadata": {
    "tags": []
   },
   "outputs": [
    {
     "data": {
      "application/json": {
       "activeviam-dq-tutorial": {
        "tutorial": [
         "PRODUCTS",
         "SALES"
        ]
       }
      },
      "text/html": [
       "<ul>\n",
       "<li>BIGQUERY\n",
       "  <ul>\n",
       "  <li>activeviam-dq-tutorial\n",
       "    <ul>\n",
       "    <li>tutorial\n",
       "      <ol>\n",
       "      <li>PRODUCTS</li>\n",
       "      <li>SALES</li>\n",
       "      </ol>    </li>\n",
       "    </ul>\n",
       "  </li>\n",
       "  </ul>\n",
       "</li>\n",
       "</ul>\n"
      ],
      "text/plain": [
       "<atoti.directquery.external_tables.ExternalTables at 0x12f31be20>"
      ]
     },
     "execution_count": 6,
     "metadata": {
      "application/json": {
       "expanded": false,
       "root": "BIGQUERY"
      }
     },
     "output_type": "execute_result"
    }
   ],
   "source": [
    "external_database.tables"
   ]
  },
  {
   "cell_type": "markdown",
   "id": "4187eaef-cae3-44ca-80c1-dd952dd3faab",
   "metadata": {},
   "source": [
    "If the database has many schemas, we can perform a filter to access only the schema that we want."
   ]
  },
  {
   "cell_type": "code",
   "execution_count": 7,
   "id": "63c5fafe-05e1-429e-8f35-9f3f072e34f7",
   "metadata": {
    "tags": []
   },
   "outputs": [
    {
     "data": {
      "application/json": {
       "activeviam-dq-tutorial": {
        "tutorial": [
         "PRODUCTS",
         "SALES"
        ]
       }
      },
      "text/html": [
       "<ul>\n",
       "<li>BIGQUERY\n",
       "  <ul>\n",
       "  <li>activeviam-dq-tutorial\n",
       "    <ul>\n",
       "    <li>tutorial\n",
       "      <ol>\n",
       "      <li>PRODUCTS</li>\n",
       "      <li>SALES</li>\n",
       "      </ol>    </li>\n",
       "    </ul>\n",
       "  </li>\n",
       "  </ul>\n",
       "</li>\n",
       "</ul>\n"
      ],
      "text/plain": [
       "<atoti.directquery.external_tables.ExternalTables at 0x12f365090>"
      ]
     },
     "execution_count": 7,
     "metadata": {
      "application/json": {
       "expanded": false,
       "root": "BIGQUERY"
      }
     },
     "output_type": "execute_result"
    }
   ],
   "source": [
    "external_database.tables._filter(schema_pattern=\"tutorial\")"
   ]
  },
  {
   "cell_type": "markdown",
   "id": "f1308a2c-a4d2-40e5-9985-7013fa05a9fb",
   "metadata": {},
   "source": [
    "### Discover Table Columns"
   ]
  },
  {
   "cell_type": "markdown",
   "id": "e72119a9-ed38-4d83-a8a5-1fe021b48e5c",
   "metadata": {},
   "source": [
    "If a table name is unique in the database, we can check its structure directly using its name:  "
   ]
  },
  {
   "cell_type": "code",
   "execution_count": 8,
   "id": "f91519b6-a36b-4f0c-b1f0-949b0be22d5f",
   "metadata": {
    "tags": []
   },
   "outputs": [
    {
     "data": {
      "application/json": {
       "DATE": "LocalDate",
       "PRODUCT": "String",
       "QUANTITY": "long",
       "SALE_ID": "String",
       "SHOP": "String",
       "UNIT_PRICE": "double"
      },
      "text/html": [
       "<ul>\n",
       "<li>SALES\n",
       "  <ul>\n",
       "  <li>SALE_ID: String</li>\n",
       "  <li>DATE: LocalDate</li>\n",
       "  <li>SHOP: String</li>\n",
       "  <li>PRODUCT: String</li>\n",
       "  <li>QUANTITY: long</li>\n",
       "  <li>UNIT_PRICE: double</li>\n",
       "  </ul>\n",
       "</li>\n",
       "</ul>\n"
      ],
      "text/plain": [
       "<atoti_directquery_bigquery.table.BigqueryTable at 0x12f365a50>"
      ]
     },
     "execution_count": 8,
     "metadata": {
      "application/json": {
       "expanded": true,
       "root": "SALES"
      }
     },
     "output_type": "execute_result"
    }
   ],
   "source": [
    "external_database.tables[\"SALES\"]"
   ]
  },
  {
   "cell_type": "markdown",
   "id": "1d9ef3fb-85a5-472b-aa12-8a88e3d1e6d9",
   "metadata": {},
   "source": [
    "However, to be precise, it is a good practice to refer to the table using its database, schema and table names. Execute the following cells as `Code` to try this out."
   ]
  },
  {
   "cell_type": "raw",
   "id": "fdb15217-bb02-469c-98ba-413e3fceb744",
   "metadata": {
    "tags": []
   },
   "source": [
    "db_name = \"<database name here>\"\n",
    "db_schema = \"tutorial\"\n",
    "table_sales = \"SALES\""
   ]
  },
  {
   "cell_type": "raw",
   "id": "6e432977-a20e-450d-ba16-c9974db91f95",
   "metadata": {
    "tags": []
   },
   "source": [
    "external_database.tables[db_name, db_schema, table_sales]"
   ]
  },
  {
   "cell_type": "markdown",
   "id": "85d14ebe-eb8a-4216-8564-8330b4b7b0d9",
   "metadata": {},
   "source": [
    "## Add External Table to Atoti"
   ]
  },
  {
   "cell_type": "markdown",
   "id": "8fa1b581-ee16-4730-8ea2-b29fa14ee03a",
   "metadata": {},
   "source": [
    "Since we have connected to the external database and we are able to see its structure, we can add the required tables to the Atoti session.  \n",
    "\n",
    "Using [BigqueryTableOptions](https://docs.atoti.io/latest/api/atoti_directquery_bigquery.BigqueryTableOptions.html#atoti_directquery_bigquery.BigqueryTableOptions), we can define additional options to the table that we will create in Atoti:\n",
    "\n",
    "- `array_conversion`: Converting values spread over multiple columns into array columns.\n",
    "- `clustering_columns`: Columns used for splitting up queries.\n",
    "- `keys`: Keys used to identify unique rows for updating of data.\n",
    "\n",
    "We will only use `keys` and `clustering_columns` in our example."
   ]
  },
  {
   "cell_type": "code",
   "execution_count": 9,
   "id": "7dab34b4-ca6f-4c80-8ba9-f8534f9eae5b",
   "metadata": {
    "tags": []
   },
   "outputs": [],
   "source": [
    "from atoti_directquery_bigquery import BigqueryTableOptions"
   ]
  },
  {
   "cell_type": "markdown",
   "id": "790b7a07-c762-438a-878e-de3611f39b5c",
   "metadata": {},
   "source": [
    "Similar to how we create keys for Atoti tables, we set the key columns in the `BigqueryTableOptions`. Note that this external table is created in Atoti and the defined keys affects only the data that is accessible in Atoti. It does not change the tables in BigQuery.  \n",
    "\n",
    "To distinguish our Atoti external table from the BigQuery table, we named them differently in our example.  "
   ]
  },
  {
   "cell_type": "code",
   "execution_count": 10,
   "id": "a580d644-94e0-4772-ac94-a9600bc08546",
   "metadata": {
    "tags": []
   },
   "outputs": [],
   "source": [
    "sales_table = session.add_external_table(\n",
    "    external_database.tables[\"SALES\"],\n",
    "    table_name=\"Atoti Sales\",\n",
    "    options=BigqueryTableOptions(\n",
    "        keys=[\"SALE_ID\"], clustering_columns={\"DATE\", \"PRODUCT\"}\n",
    "    ),\n",
    ")"
   ]
  },
  {
   "cell_type": "markdown",
   "id": "ac9b4de4-60f9-45d9-8b87-e7d0452714ee",
   "metadata": {},
   "source": [
    "To speed up querying, Atoti makes use of [aggregate providers](https://docs.atoti.io/latest/api/atoti.AggregateProvider.html#atoti.AggregateProvider) to pre-aggregates some table columns up to certain levels. Feeding such providers from an external database can result in very large queries to be run on the database. Some databases can have trouble processing such large queries. Therefore, we define [clustering columns](https://docs.activeviam.com/products/atoti/server/latest/docs/directquery/directquery-clustering-fields/) to help split up queries made by DirectQuery to these external database when feeding the aggregate providers.  \n",
    "\n",
    "The `clustering_columns` parameter allows us to define columns to be used for clustering. While our example uses a small dataset and clustering column is not necessary, we demonstrate how it can be used in the snippet above.  "
   ]
  },
  {
   "cell_type": "code",
   "execution_count": 11,
   "id": "561e7c19-28cc-4796-918b-24de800147a7",
   "metadata": {
    "tags": []
   },
   "outputs": [
    {
     "data": {
      "text/html": [
       "<div>\n",
       "<style scoped>\n",
       "    .dataframe tbody tr th:only-of-type {\n",
       "        vertical-align: middle;\n",
       "    }\n",
       "\n",
       "    .dataframe tbody tr th {\n",
       "        vertical-align: top;\n",
       "    }\n",
       "\n",
       "    .dataframe thead th {\n",
       "        text-align: right;\n",
       "    }\n",
       "</style>\n",
       "<table border=\"1\" class=\"dataframe\">\n",
       "  <thead>\n",
       "    <tr style=\"text-align: right;\">\n",
       "      <th></th>\n",
       "      <th>DATE</th>\n",
       "      <th>SHOP</th>\n",
       "      <th>PRODUCT</th>\n",
       "      <th>QUANTITY</th>\n",
       "      <th>UNIT_PRICE</th>\n",
       "    </tr>\n",
       "    <tr>\n",
       "      <th>SALE_ID</th>\n",
       "      <th></th>\n",
       "      <th></th>\n",
       "      <th></th>\n",
       "      <th></th>\n",
       "      <th></th>\n",
       "    </tr>\n",
       "  </thead>\n",
       "  <tbody>\n",
       "    <tr>\n",
       "      <th>S0010</th>\n",
       "      <td>2022-01-31</td>\n",
       "      <td>shop_2</td>\n",
       "      <td>BED_2</td>\n",
       "      <td>3</td>\n",
       "      <td>150.0</td>\n",
       "    </tr>\n",
       "    <tr>\n",
       "      <th>S0009</th>\n",
       "      <td>2022-01-31</td>\n",
       "      <td>shop_3</td>\n",
       "      <td>BED_2</td>\n",
       "      <td>1</td>\n",
       "      <td>150.0</td>\n",
       "    </tr>\n",
       "    <tr>\n",
       "      <th>S0008</th>\n",
       "      <td>2022-01-31</td>\n",
       "      <td>shop_4</td>\n",
       "      <td>BED_2</td>\n",
       "      <td>1</td>\n",
       "      <td>150.0</td>\n",
       "    </tr>\n",
       "    <tr>\n",
       "      <th>S0007</th>\n",
       "      <td>2022-02-01</td>\n",
       "      <td>shop_5</td>\n",
       "      <td>BED_2</td>\n",
       "      <td>1</td>\n",
       "      <td>150.0</td>\n",
       "    </tr>\n",
       "    <tr>\n",
       "      <th>S0019</th>\n",
       "      <td>2022-02-02</td>\n",
       "      <td>shop_3</td>\n",
       "      <td>HOO_5</td>\n",
       "      <td>1</td>\n",
       "      <td>48.0</td>\n",
       "    </tr>\n",
       "  </tbody>\n",
       "</table>\n",
       "</div>"
      ],
      "text/plain": [
       "              DATE    SHOP PRODUCT  QUANTITY  UNIT_PRICE\n",
       "SALE_ID                                                 \n",
       "S0010   2022-01-31  shop_2   BED_2         3       150.0\n",
       "S0009   2022-01-31  shop_3   BED_2         1       150.0\n",
       "S0008   2022-01-31  shop_4   BED_2         1       150.0\n",
       "S0007   2022-02-01  shop_5   BED_2         1       150.0\n",
       "S0019   2022-02-02  shop_3   HOO_5         1        48.0"
      ]
     },
     "execution_count": 11,
     "metadata": {},
     "output_type": "execute_result"
    }
   ],
   "source": [
    "sales_table.head()"
   ]
  },
  {
   "cell_type": "markdown",
   "id": "dc44214e-743e-4937-9269-61498986355b",
   "metadata": {},
   "source": [
    "We can add multiple tables."
   ]
  },
  {
   "cell_type": "code",
   "execution_count": 12,
   "id": "f282f67a-dfa9-4ba1-aef7-779ec734fe50",
   "metadata": {
    "tags": []
   },
   "outputs": [
    {
     "data": {
      "text/html": [
       "<div>\n",
       "<style scoped>\n",
       "    .dataframe tbody tr th:only-of-type {\n",
       "        vertical-align: middle;\n",
       "    }\n",
       "\n",
       "    .dataframe tbody tr th {\n",
       "        vertical-align: top;\n",
       "    }\n",
       "\n",
       "    .dataframe thead th {\n",
       "        text-align: right;\n",
       "    }\n",
       "</style>\n",
       "<table border=\"1\" class=\"dataframe\">\n",
       "  <thead>\n",
       "    <tr style=\"text-align: right;\">\n",
       "      <th></th>\n",
       "      <th>CATEGORY</th>\n",
       "      <th>SUB_CATEGORY</th>\n",
       "      <th>SIZE</th>\n",
       "      <th>PURCHASE_PRICE</th>\n",
       "      <th>COLOR</th>\n",
       "      <th>BRAND</th>\n",
       "    </tr>\n",
       "    <tr>\n",
       "      <th>PRODUCT_ID</th>\n",
       "      <th></th>\n",
       "      <th></th>\n",
       "      <th></th>\n",
       "      <th></th>\n",
       "      <th></th>\n",
       "      <th></th>\n",
       "    </tr>\n",
       "  </thead>\n",
       "  <tbody>\n",
       "    <tr>\n",
       "      <th>BED_2</th>\n",
       "      <td>Furniture</td>\n",
       "      <td>Bed</td>\n",
       "      <td>Single</td>\n",
       "      <td>127.0</td>\n",
       "      <td>red</td>\n",
       "      <td>Mega</td>\n",
       "    </tr>\n",
       "    <tr>\n",
       "      <th>TAB_0</th>\n",
       "      <td>Furniture</td>\n",
       "      <td>Table</td>\n",
       "      <td>1m80</td>\n",
       "      <td>190.0</td>\n",
       "      <td>black</td>\n",
       "      <td>Basic</td>\n",
       "    </tr>\n",
       "    <tr>\n",
       "      <th>TAB_1</th>\n",
       "      <td>Furniture</td>\n",
       "      <td>Table</td>\n",
       "      <td>2m40</td>\n",
       "      <td>280.0</td>\n",
       "      <td>white</td>\n",
       "      <td>Mega</td>\n",
       "    </tr>\n",
       "    <tr>\n",
       "      <th>HOO_5</th>\n",
       "      <td>Cloth</td>\n",
       "      <td>Hoodie</td>\n",
       "      <td>M</td>\n",
       "      <td>38.0</td>\n",
       "      <td>red</td>\n",
       "      <td>Mega</td>\n",
       "    </tr>\n",
       "    <tr>\n",
       "      <th>TSH_4</th>\n",
       "      <td>Cloth</td>\n",
       "      <td>Tshirt</td>\n",
       "      <td>L</td>\n",
       "      <td>20.0</td>\n",
       "      <td>black</td>\n",
       "      <td>Over</td>\n",
       "    </tr>\n",
       "  </tbody>\n",
       "</table>\n",
       "</div>"
      ],
      "text/plain": [
       "             CATEGORY SUB_CATEGORY    SIZE  PURCHASE_PRICE  COLOR  BRAND\n",
       "PRODUCT_ID                                                              \n",
       "BED_2       Furniture          Bed  Single           127.0    red   Mega\n",
       "TAB_0       Furniture        Table    1m80           190.0  black  Basic\n",
       "TAB_1       Furniture        Table    2m40           280.0  white   Mega\n",
       "HOO_5           Cloth       Hoodie       M            38.0    red   Mega\n",
       "TSH_4           Cloth       Tshirt       L            20.0  black   Over"
      ]
     },
     "execution_count": 12,
     "metadata": {},
     "output_type": "execute_result"
    }
   ],
   "source": [
    "products_table = session.add_external_table(\n",
    "    external_database.tables[\"PRODUCTS\"],\n",
    "    table_name=\"Atoti Product\",\n",
    "    options=BigqueryTableOptions(keys=[\"PRODUCT_ID\"]),\n",
    ")\n",
    "\n",
    "products_table.head()"
   ]
  },
  {
   "cell_type": "markdown",
   "id": "57349699-117a-4cf9-bb95-5910f18d5187",
   "metadata": {},
   "source": [
    "Once we have created our external tables, the rest is _simply the usual stuff for Atoti_."
   ]
  },
  {
   "cell_type": "markdown",
   "id": "564a8bad-9c60-4c7a-b94e-918b5112cfdb",
   "metadata": {
    "tags": []
   },
   "source": [
    "## Atoti Cube Setup"
   ]
  },
  {
   "cell_type": "markdown",
   "id": "2f24568b-71da-4341-a716-f8abdbdce17d",
   "metadata": {
    "tags": []
   },
   "source": [
    "From this section onwards, the coding remains the same regardless of the underlying data source.  \n",
    "\n",
    "As we have always done, we join the tables and create the cube."
   ]
  },
  {
   "cell_type": "code",
   "execution_count": 13,
   "id": "93f6c667-27b6-4e2e-9685-ef275235622c",
   "metadata": {
    "tags": []
   },
   "outputs": [
    {
     "data": {
      "image/png": "[encoded data removed]",
      "text/plain": [
       "erDiagram\n",
       "  \"Atoti Product\" {\n",
       "    _ String PK \"PRODUCT_ID\"\n",
       "    _ String \"CATEGORY\"\n",
       "    _ String \"SUB_CATEGORY\"\n",
       "    _ String \"SIZE\"\n",
       "    _ double \"PURCHASE_PRICE\"\n",
       "    _ String \"COLOR\"\n",
       "    _ String \"BRAND\"\n",
       "  }\n",
       "  \"Atoti Sales\" {\n",
       "    _ String PK \"SALE_ID\"\n",
       "    _ LocalDate \"DATE\"\n",
       "    _ String \"SHOP\"\n",
       "    _ String \"PRODUCT\"\n",
       "    _ long \"QUANTITY\"\n",
       "    _ double \"UNIT_PRICE\"\n",
       "  }\n",
       "  \"Atoti Sales\" }o--o| \"Atoti Product\" : \"`PRODUCT` == `PRODUCT_ID`\""
      ]
     },
     "execution_count": 13,
     "metadata": {},
     "output_type": "execute_result"
    }
   ],
   "source": [
    "sales_table.join(products_table, sales_table[\"PRODUCT\"] == products_table[\"PRODUCT_ID\"])\n",
    "cube = session.create_cube(sales_table)\n",
    "session.tables.schema"
   ]
  },
  {
   "cell_type": "code",
   "execution_count": 14,
   "id": "4ee29cb6-1f57-43f2-b6e7-ad2e72d8abd4",
   "metadata": {
    "atoti": {
     "widget": {
      "mapping": {
       "columns": [
        "ALL_MEASURES"
       ],
       "measures": [
        "[Measures].[QUANTITY.SUM]"
       ],
       "rows": [
        "[Atoti Sales].[DATE].[DATE]",
        "[Atoti Sales].[SHOP].[SHOP] => [Atoti Product].[BRAND].[BRAND]"
       ]
      },
      "name": "Quantity sold across dates by shops",
      "query": {
       "mdx": "SELECT NON EMPTY {[Measures].[QUANTITY.SUM]} ON COLUMNS, NON EMPTY Hierarchize(Union(Crossjoin(Hierarchize(Descendants({[Atoti Sales].[DATE].[AllMember]}, 1, SELF_AND_BEFORE)), Hierarchize(Descendants({[Atoti Sales].[SHOP].[AllMember]}, 1, SELF_AND_BEFORE)), [Atoti Product].[BRAND].DefaultMember), Crossjoin([Atoti Sales].[DATE].[AllMember].[2022-01-31], [Atoti Sales].[SHOP].[AllMember].[shop_2], Hierarchize(Descendants({[Atoti Product].[BRAND].[AllMember]}, 1, SELF_AND_BEFORE))))) ON ROWS FROM [Atoti Sales] CELL PROPERTIES VALUE, FORMATTED_VALUE, BACK_COLOR, FORE_COLOR, FONT_FLAGS",
       "updateMode": "once"
      },
      "serverKey": "default",
      "widgetKey": "pivot-table"
     }
    },
    "tags": []
   },
   "outputs": [
    {
     "data": {
      "application/vnd.atoti.widget.v0+json": {
       "sessionId": "1712172318_NGC7Q9",
       "sessionLocation": {
        "https": false,
        "port": 58901
       },
       "widgetCreationCode": "session.widget"
      },
      "text/html": [
       "<img height=\"352\" width=\"1007\" src=\"data:image/png;base64,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\" />"
      ],
      "text/plain": [
       "Open the notebook in JupyterLab with the Atoti JupyterLab extension enabled to build this widget."
      ]
     },
     "metadata": {},
     "output_type": "display_data"
    }
   ],
   "source": [
    "session.widget"
   ]
  },
  {
   "cell_type": "markdown",
   "id": "623a5cce-fee4-489b-9250-c5dd542fb708",
   "metadata": {},
   "source": [
    "### Cube manipulation"
   ]
  },
  {
   "cell_type": "markdown",
   "id": "ad616201-0cc7-4012-8e54-66a99c9c1a23",
   "metadata": {},
   "source": [
    "We perform hierarchy manipulation, level ordering and measure creations the same way we always do in Atoti."
   ]
  },
  {
   "cell_type": "code",
   "execution_count": 15,
   "id": "27bebe22-10e5-4b67-9c18-4bb478fef70b",
   "metadata": {
    "tags": []
   },
   "outputs": [],
   "source": [
    "h, l, m = cube.hierarchies, cube.levels, cube.measures"
   ]
  },
  {
   "cell_type": "code",
   "execution_count": 16,
   "id": "fe4aea14-fc25-4a2d-9401-0ce01df385e4",
   "metadata": {
    "tags": []
   },
   "outputs": [],
   "source": [
    "h[\"CATEGORY\"] = [l[\"CATEGORY\"], l[\"SUB_CATEGORY\"]]\n",
    "del h[\"SUB_CATEGORY\"]"
   ]
  },
  {
   "cell_type": "code",
   "execution_count": 17,
   "id": "efc5d476-6465-4ccf-93d3-9f5dfe19df3c",
   "metadata": {
    "tags": []
   },
   "outputs": [
    {
     "data": {
      "application/json": {
       "Atoti Product": {
        "BRAND": [
         "BRAND"
        ],
        "CATEGORY": [
         "CATEGORY",
         "SUB_CATEGORY"
        ],
        "COLOR": [
         "COLOR"
        ],
        "SIZE": [
         "SIZE"
        ]
       },
       "Atoti Sales": {
        "DATE": [
         "DATE"
        ],
        "PRODUCT": [
         "PRODUCT"
        ],
        "SALE_ID": [
         "SALE_ID"
        ],
        "SHOP": [
         "SHOP"
        ]
       }
      },
      "text/html": [
       "<ul>\n",
       "<li>Dimensions\n",
       "  <ul>\n",
       "  <li>Atoti Product\n",
       "    <ul>\n",
       "    <li>BRAND\n",
       "      <ol>\n",
       "      <li>BRAND</li>\n",
       "      </ol>    </li>\n",
       "    <li>CATEGORY\n",
       "      <ol>\n",
       "      <li>CATEGORY</li>\n",
       "      <li>SUB_CATEGORY</li>\n",
       "      </ol>    </li>\n",
       "    <li>COLOR\n",
       "      <ol>\n",
       "      <li>COLOR</li>\n",
       "      </ol>    </li>\n",
       "    <li>SIZE\n",
       "      <ol>\n",
       "      <li>SIZE</li>\n",
       "      </ol>    </li>\n",
       "    </ul>\n",
       "  </li>\n",
       "  <li>Atoti Sales\n",
       "    <ul>\n",
       "    <li>DATE\n",
       "      <ol>\n",
       "      <li>DATE</li>\n",
       "      </ol>    </li>\n",
       "    <li>PRODUCT\n",
       "      <ol>\n",
       "      <li>PRODUCT</li>\n",
       "      </ol>    </li>\n",
       "    <li>SALE_ID\n",
       "      <ol>\n",
       "      <li>SALE_ID</li>\n",
       "      </ol>    </li>\n",
       "    <li>SHOP\n",
       "      <ol>\n",
       "      <li>SHOP</li>\n",
       "      </ol>    </li>\n",
       "    </ul>\n",
       "  </li>\n",
       "  </ul>\n",
       "</li>\n",
       "</ul>\n"
      ],
      "text/plain": [
       "{('Atoti Product', 'BRAND'): <atoti.hierarchy.Hierarchy object at 0x12f318c70>, ('Atoti Sales', 'DATE'): <atoti.hierarchy.Hierarchy object at 0x12f319420>, ('Atoti Sales', 'SHOP'): <atoti.hierarchy.Hierarchy object at 0x12f319f00>, ('Atoti Product', 'COLOR'): <atoti.hierarchy.Hierarchy object at 0x12f31acb0>, ('Atoti Sales', 'PRODUCT'): <atoti.hierarchy.Hierarchy object at 0x12f627790>, ('Atoti Product', 'SIZE'): <atoti.hierarchy.Hierarchy object at 0x12f6276d0>, ('Atoti Product', 'CATEGORY'): <atoti.hierarchy.Hierarchy object at 0x12f627310>, ('Atoti Sales', 'SALE_ID'): <atoti.hierarchy.Hierarchy object at 0x12f6272b0>}"
      ]
     },
     "execution_count": 17,
     "metadata": {
      "application/json": {
       "expanded": true,
       "root": "Dimensions"
      }
     },
     "output_type": "execute_result"
    }
   ],
   "source": [
    "h"
   ]
  },
  {
   "cell_type": "code",
   "execution_count": 18,
   "id": "fe924c60-0c9d-431f-ac72-297db49d8abc",
   "metadata": {
    "tags": []
   },
   "outputs": [],
   "source": [
    "l[\"DATE\"].order = tt.NaturalOrder(ascending=False)"
   ]
  },
  {
   "cell_type": "code",
   "execution_count": 19,
   "id": "343686bd-182e-4de1-b681-8bc6c04b791d",
   "metadata": {
    "tags": []
   },
   "outputs": [],
   "source": [
    "m[\"PURCHASE_PRICE.SUM\"] = tt.agg.sum(products_table[\"PURCHASE_PRICE\"])\n",
    "m[\"PROFIT\"] = tt.agg.sum_product(\n",
    "    m[\"UNIT_PRICE.SUM\"] - m[\"PURCHASE_PRICE.SUM\"],\n",
    "    m[\"QUANTITY.SUM\"],\n",
    "    scope=tt.OriginScope(levels={l[\"SALE_ID\"], l[\"PRODUCT\"]}),\n",
    ")"
   ]
  },
  {
   "cell_type": "markdown",
   "id": "595db925-bf0b-4828-87fb-ff26c717d905",
   "metadata": {},
   "source": [
    "Since we have a join from `sales_table` to `products_table` using the column values of `sales_table.PRODUCT` and `products_table.PRODUCT_ID`, the resultant level is the name of the column from the _from_ table. Therefore, we have the level `PRODUCT` but not `PRODUCT_ID` for our scope in the code snippet above."
   ]
  },
  {
   "cell_type": "code",
   "execution_count": 20,
   "id": "a5dd754e-6d52-43b0-9a18-e7aa7fd42e0b",
   "metadata": {
    "atoti": {
     "widget": {
      "mapping": {
       "columns": [
        "ALL_MEASURES"
       ],
       "measures": [
        "[Measures].[UNIT_PRICE.SUM]",
        "[Measures].[PURCHASE_PRICE.SUM]",
        "[Measures].[QUANTITY.SUM]",
        "[Measures].[PROFIT]"
       ],
       "rows": [
        "[Atoti Sales].[DATE].[DATE]",
        "[Atoti Product].[CATEGORY].[CATEGORY] => [Atoti Product].[CATEGORY].[SUB_CATEGORY]"
       ]
      },
      "name": "Profit by Product Categories across dates",
      "query": {
       "mdx": "SELECT NON EMPTY Hierarchize(Union(Crossjoin(Hierarchize(Descendants({[Atoti Sales].[DATE].[AllMember]}, 1, SELF_AND_BEFORE)), Hierarchize(Descendants({[Atoti Product].[CATEGORY].[AllMember]}, 1, SELF_AND_BEFORE))), Crossjoin([Atoti Sales].[DATE].[AllMember].[2022-02-03], Descendants({[Atoti Product].[CATEGORY].[AllMember].[Cloth]}, [Atoti Product].[CATEGORY].[SUB_CATEGORY])))) ON ROWS, NON EMPTY {[Measures].[UNIT_PRICE.SUM], [Measures].[PURCHASE_PRICE.SUM], [Measures].[QUANTITY.SUM], [Measures].[PROFIT]} ON COLUMNS FROM [Atoti Sales] CELL PROPERTIES VALUE, FORMATTED_VALUE, BACK_COLOR, FORE_COLOR, FONT_FLAGS",
       "updateMode": "once"
      },
      "serverKey": "default",
      "widgetKey": "pivot-table"
     }
    },
    "tags": []
   },
   "outputs": [
    {
     "data": {
      "application/vnd.atoti.widget.v0+json": {
       "sessionId": "1712172318_NGC7Q9",
       "sessionLocation": {
        "https": false,
        "port": 58901
       },
       "widgetCreationCode": "session.widget"
      },
      "text/html": [
       "<img height=\"352\" width=\"1007\" src=\"data:image/png;base64,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\" />"
      ],
      "text/plain": [
       "Open the notebook in JupyterLab with the Atoti JupyterLab extension enabled to build this widget."
      ]
     },
     "metadata": {},
     "output_type": "display_data"
    }
   ],
   "source": [
    "session.widget"
   ]
  },
  {
   "cell_type": "markdown",
   "id": "08ceaeb7-d0ed-42b5-899e-f4fb4fdcf1ae",
   "metadata": {},
   "source": [
    "## Cost and performance saving with Aggregate Provider"
   ]
  },
  {
   "cell_type": "markdown",
   "id": "b00d6de1-5324-43b0-acb0-c682977c2cf0",
   "metadata": {},
   "source": [
    "Let's take a quick look at our query performance in the current setup."
   ]
  },
  {
   "cell_type": "code",
   "execution_count": 21,
   "id": "37320670-66e8-40c1-9402-26775ed5817c",
   "metadata": {},
   "outputs": [
    {
     "name": "stdout",
     "output_type": "stream",
     "text": [
      "CPU times: user 55 ms, sys: 12.3 ms, total: 67.3 ms\n",
      "Wall time: 2.4 s\n"
     ]
    },
    {
     "data": {
      "text/html": [
       "<div>\n",
       "<style scoped>\n",
       "    .dataframe tbody tr th:only-of-type {\n",
       "        vertical-align: middle;\n",
       "    }\n",
       "\n",
       "    .dataframe tbody tr th {\n",
       "        vertical-align: top;\n",
       "    }\n",
       "\n",
       "    .dataframe thead th {\n",
       "        text-align: right;\n",
       "    }\n",
       "</style>\n",
       "<table border=\"1\" class=\"dataframe\">\n",
       "  <thead>\n",
       "    <tr style=\"text-align: right;\">\n",
       "      <th></th>\n",
       "      <th></th>\n",
       "      <th></th>\n",
       "      <th>QUANTITY.SUM</th>\n",
       "      <th>PROFIT</th>\n",
       "    </tr>\n",
       "    <tr>\n",
       "      <th>DATE</th>\n",
       "      <th>PRODUCT</th>\n",
       "      <th>SALE_ID</th>\n",
       "      <th></th>\n",
       "      <th></th>\n",
       "    </tr>\n",
       "  </thead>\n",
       "  <tbody>\n",
       "    <tr>\n",
       "      <th rowspan=\"2\" valign=\"top\">2022-02-04</th>\n",
       "      <th>HOO_5</th>\n",
       "      <th>S0017</th>\n",
       "      <td>1</td>\n",
       "      <td>10.00</td>\n",
       "    </tr>\n",
       "    <tr>\n",
       "      <th>TAB_0</th>\n",
       "      <th>S0000</th>\n",
       "      <td>1</td>\n",
       "      <td>20.00</td>\n",
       "    </tr>\n",
       "    <tr>\n",
       "      <th rowspan=\"4\" valign=\"top\">2022-02-03</th>\n",
       "      <th>HOO_5</th>\n",
       "      <th>S0018</th>\n",
       "      <td>1</td>\n",
       "      <td>10.00</td>\n",
       "    </tr>\n",
       "    <tr>\n",
       "      <th>TAB_0</th>\n",
       "      <th>S0001</th>\n",
       "      <td>1</td>\n",
       "      <td>20.00</td>\n",
       "    </tr>\n",
       "    <tr>\n",
       "      <th>TAB_1</th>\n",
       "      <th>S0004</th>\n",
       "      <td>1</td>\n",
       "      <td>20.00</td>\n",
       "    </tr>\n",
       "    <tr>\n",
       "      <th>TSH_3</th>\n",
       "      <th>S0011</th>\n",
       "      <td>1</td>\n",
       "      <td>3.00</td>\n",
       "    </tr>\n",
       "    <tr>\n",
       "      <th rowspan=\"5\" valign=\"top\">2022-02-02</th>\n",
       "      <th>HOO_5</th>\n",
       "      <th>S0019</th>\n",
       "      <td>1</td>\n",
       "      <td>10.00</td>\n",
       "    </tr>\n",
       "    <tr>\n",
       "      <th>TAB_0</th>\n",
       "      <th>S0002</th>\n",
       "      <td>1</td>\n",
       "      <td>20.00</td>\n",
       "    </tr>\n",
       "    <tr>\n",
       "      <th>TAB_1</th>\n",
       "      <th>S0005</th>\n",
       "      <td>1</td>\n",
       "      <td>20.00</td>\n",
       "    </tr>\n",
       "    <tr>\n",
       "      <th>TSH_3</th>\n",
       "      <th>S0012</th>\n",
       "      <td>1</td>\n",
       "      <td>3.00</td>\n",
       "    </tr>\n",
       "    <tr>\n",
       "      <th>TSH_4</th>\n",
       "      <th>S0014</th>\n",
       "      <td>1</td>\n",
       "      <td>4.00</td>\n",
       "    </tr>\n",
       "    <tr>\n",
       "      <th rowspan=\"5\" valign=\"top\">2022-02-01</th>\n",
       "      <th>BED_2</th>\n",
       "      <th>S0007</th>\n",
       "      <td>1</td>\n",
       "      <td>23.00</td>\n",
       "    </tr>\n",
       "    <tr>\n",
       "      <th>TAB_0</th>\n",
       "      <th>S0003</th>\n",
       "      <td>1</td>\n",
       "      <td>20.00</td>\n",
       "    </tr>\n",
       "    <tr>\n",
       "      <th>TAB_1</th>\n",
       "      <th>S0006</th>\n",
       "      <td>2</td>\n",
       "      <td>40.00</td>\n",
       "    </tr>\n",
       "    <tr>\n",
       "      <th>TSH_3</th>\n",
       "      <th>S0013</th>\n",
       "      <td>1</td>\n",
       "      <td>3.00</td>\n",
       "    </tr>\n",
       "    <tr>\n",
       "      <th>TSH_4</th>\n",
       "      <th>S0015</th>\n",
       "      <td>2</td>\n",
       "      <td>8.00</td>\n",
       "    </tr>\n",
       "    <tr>\n",
       "      <th rowspan=\"4\" valign=\"top\">2022-01-31</th>\n",
       "      <th rowspan=\"3\" valign=\"top\">BED_2</th>\n",
       "      <th>S0008</th>\n",
       "      <td>1</td>\n",
       "      <td>23.00</td>\n",
       "    </tr>\n",
       "    <tr>\n",
       "      <th>S0009</th>\n",
       "      <td>1</td>\n",
       "      <td>23.00</td>\n",
       "    </tr>\n",
       "    <tr>\n",
       "      <th>S0010</th>\n",
       "      <td>3</td>\n",
       "      <td>69.00</td>\n",
       "    </tr>\n",
       "    <tr>\n",
       "      <th>TSH_4</th>\n",
       "      <th>S0016</th>\n",
       "      <td>2</td>\n",
       "      <td>8.00</td>\n",
       "    </tr>\n",
       "  </tbody>\n",
       "</table>\n",
       "</div>"
      ],
      "text/plain": [
       "                           QUANTITY.SUM PROFIT\n",
       "DATE       PRODUCT SALE_ID                    \n",
       "2022-02-04 HOO_5   S0017              1  10.00\n",
       "           TAB_0   S0000              1  20.00\n",
       "2022-02-03 HOO_5   S0018              1  10.00\n",
       "           TAB_0   S0001              1  20.00\n",
       "           TAB_1   S0004              1  20.00\n",
       "           TSH_3   S0011              1   3.00\n",
       "2022-02-02 HOO_5   S0019              1  10.00\n",
       "           TAB_0   S0002              1  20.00\n",
       "           TAB_1   S0005              1  20.00\n",
       "           TSH_3   S0012              1   3.00\n",
       "           TSH_4   S0014              1   4.00\n",
       "2022-02-01 BED_2   S0007              1  23.00\n",
       "           TAB_0   S0003              1  20.00\n",
       "           TAB_1   S0006              2  40.00\n",
       "           TSH_3   S0013              1   3.00\n",
       "           TSH_4   S0015              2   8.00\n",
       "2022-01-31 BED_2   S0008              1  23.00\n",
       "                   S0009              1  23.00\n",
       "                   S0010              3  69.00\n",
       "           TSH_4   S0016              2   8.00"
      ]
     },
     "execution_count": 21,
     "metadata": {},
     "output_type": "execute_result"
    }
   ],
   "source": [
    "%%time\n",
    "\n",
    "cube.query(\n",
    "    m[\"QUANTITY.SUM\"], m[\"PROFIT\"], levels=[l[\"DATE\"], l[\"PRODUCT\"], l[\"SALE_ID\"]]\n",
    ")"
   ]
  },
  {
   "cell_type": "code",
   "execution_count": 22,
   "id": "41a42190-2831-458d-9679-aa942dae9de0",
   "metadata": {},
   "outputs": [
    {
     "name": "stdout",
     "output_type": "stream",
     "text": [
      "CPU times: user 12.6 ms, sys: 4.39 ms, total: 16.9 ms\n",
      "Wall time: 2.59 s\n"
     ]
    },
    {
     "data": {
      "text/html": [
       "<div>\n",
       "<style scoped>\n",
       "    .dataframe tbody tr th:only-of-type {\n",
       "        vertical-align: middle;\n",
       "    }\n",
       "\n",
       "    .dataframe tbody tr th {\n",
       "        vertical-align: top;\n",
       "    }\n",
       "\n",
       "    .dataframe thead th {\n",
       "        text-align: right;\n",
       "    }\n",
       "</style>\n",
       "<table border=\"1\" class=\"dataframe\">\n",
       "  <thead>\n",
       "    <tr style=\"text-align: right;\">\n",
       "      <th></th>\n",
       "      <th></th>\n",
       "      <th></th>\n",
       "      <th>PROFIT</th>\n",
       "    </tr>\n",
       "    <tr>\n",
       "      <th>DATE</th>\n",
       "      <th>CATEGORY</th>\n",
       "      <th>SUB_CATEGORY</th>\n",
       "      <th></th>\n",
       "    </tr>\n",
       "  </thead>\n",
       "  <tbody>\n",
       "    <tr>\n",
       "      <th rowspan=\"2\" valign=\"top\">2022-02-04</th>\n",
       "      <th>Cloth</th>\n",
       "      <th>Hoodie</th>\n",
       "      <td>10.00</td>\n",
       "    </tr>\n",
       "    <tr>\n",
       "      <th>Furniture</th>\n",
       "      <th>Table</th>\n",
       "      <td>20.00</td>\n",
       "    </tr>\n",
       "    <tr>\n",
       "      <th rowspan=\"3\" valign=\"top\">2022-02-03</th>\n",
       "      <th rowspan=\"2\" valign=\"top\">Cloth</th>\n",
       "      <th>Hoodie</th>\n",
       "      <td>10.00</td>\n",
       "    </tr>\n",
       "    <tr>\n",
       "      <th>Tshirt</th>\n",
       "      <td>3.00</td>\n",
       "    </tr>\n",
       "    <tr>\n",
       "      <th>Furniture</th>\n",
       "      <th>Table</th>\n",
       "      <td>40.00</td>\n",
       "    </tr>\n",
       "    <tr>\n",
       "      <th rowspan=\"3\" valign=\"top\">2022-02-02</th>\n",
       "      <th rowspan=\"2\" valign=\"top\">Cloth</th>\n",
       "      <th>Hoodie</th>\n",
       "      <td>10.00</td>\n",
       "    </tr>\n",
       "    <tr>\n",
       "      <th>Tshirt</th>\n",
       "      <td>7.00</td>\n",
       "    </tr>\n",
       "    <tr>\n",
       "      <th>Furniture</th>\n",
       "      <th>Table</th>\n",
       "      <td>40.00</td>\n",
       "    </tr>\n",
       "    <tr>\n",
       "      <th rowspan=\"3\" valign=\"top\">2022-02-01</th>\n",
       "      <th>Cloth</th>\n",
       "      <th>Tshirt</th>\n",
       "      <td>11.00</td>\n",
       "    </tr>\n",
       "    <tr>\n",
       "      <th rowspan=\"2\" valign=\"top\">Furniture</th>\n",
       "      <th>Bed</th>\n",
       "      <td>23.00</td>\n",
       "    </tr>\n",
       "    <tr>\n",
       "      <th>Table</th>\n",
       "      <td>60.00</td>\n",
       "    </tr>\n",
       "    <tr>\n",
       "      <th rowspan=\"2\" valign=\"top\">2022-01-31</th>\n",
       "      <th>Cloth</th>\n",
       "      <th>Tshirt</th>\n",
       "      <td>8.00</td>\n",
       "    </tr>\n",
       "    <tr>\n",
       "      <th>Furniture</th>\n",
       "      <th>Bed</th>\n",
       "      <td>115.00</td>\n",
       "    </tr>\n",
       "  </tbody>\n",
       "</table>\n",
       "</div>"
      ],
      "text/plain": [
       "                                   PROFIT\n",
       "DATE       CATEGORY  SUB_CATEGORY        \n",
       "2022-02-04 Cloth     Hoodie         10.00\n",
       "           Furniture Table          20.00\n",
       "2022-02-03 Cloth     Hoodie         10.00\n",
       "                     Tshirt          3.00\n",
       "           Furniture Table          40.00\n",
       "2022-02-02 Cloth     Hoodie         10.00\n",
       "                     Tshirt          7.00\n",
       "           Furniture Table          40.00\n",
       "2022-02-01 Cloth     Tshirt         11.00\n",
       "           Furniture Bed            23.00\n",
       "                     Table          60.00\n",
       "2022-01-31 Cloth     Tshirt          8.00\n",
       "           Furniture Bed           115.00"
      ]
     },
     "execution_count": 22,
     "metadata": {},
     "output_type": "execute_result"
    }
   ],
   "source": [
    "%%time\n",
    "\n",
    "cube.query(m[\"PROFIT\"], levels=[l[\"DATE\"], l[\"SUB_CATEGORY\"]])"
   ]
  },
  {
   "cell_type": "markdown",
   "id": "ec655a71-8eec-42ae-9dd5-3fa7bbf0f782",
   "metadata": {},
   "source": [
    "It takes approximately `3s` to return the query (YMMV)."
   ]
  },
  {
   "cell_type": "markdown",
   "id": "409bcc8e-c3e4-4592-a6ee-c54d41f97719",
   "metadata": {},
   "source": [
    "To speed up our querying, we make use of the [aggregate provider](https://docs.atoti.io/latest/api/atoti.AggregateProvider.html#atoti.AggregateProvider) to store intermediate aggregates in memory. If a step of a query uses a subset of the aggregate provider's levels and measures, the provider will speed up the query.  \n",
    "\n",
    "Since data is cached in memory, we will __not__ access BigQuery when a subset of these are queried.  "
   ]
  },
  {
   "cell_type": "code",
   "execution_count": 23,
   "id": "0f33a62c-d66d-4e3a-997d-ae325e9276ec",
   "metadata": {
    "tags": []
   },
   "outputs": [],
   "source": [
    "cube.aggregate_providers.update(\n",
    "    {\n",
    "        \"Products provider\": tt.AggregateProvider(\n",
    "            key=\"bitmap\",\n",
    "            levels=[l[\"DATE\"], l[\"PRODUCT\"], l[\"SALE_ID\"]],\n",
    "            measures=[m[\"QUANTITY.SUM\"], m[\"PURCHASE_PRICE.SUM\"], m[\"UNIT_PRICE.SUM\"]],\n",
    "            partitioning=\"hash16(PRODUCT)\",\n",
    "        )\n",
    "    }\n",
    ")"
   ]
  },
  {
   "cell_type": "markdown",
   "id": "4817dae9-0dbb-4c91-95bc-38a1320102ae",
   "metadata": {},
   "source": [
    "⚠️ **Important:** We can only use store aggregated measures supporting disaggregation can be used in aggregate provider, e.g. `tt.agg.sum` or `tt.agg.mean` on table columns.\n",
    "\n",
    "`m[\"PROFIT\"]` cannot be used because it is a chained measure resulting from the `sum_product` of a few measures.\n"
   ]
  },
  {
   "cell_type": "code",
   "execution_count": 24,
   "id": "0bc35e5d-1845-479b-873f-5a24be936f1e",
   "metadata": {
    "tags": []
   },
   "outputs": [
    {
     "name": "stdout",
     "output_type": "stream",
     "text": [
      "CPU times: user 8.14 ms, sys: 4.02 ms, total: 12.2 ms\n",
      "Wall time: 42.3 ms\n"
     ]
    },
    {
     "data": {
      "text/html": [
       "<div>\n",
       "<style scoped>\n",
       "    .dataframe tbody tr th:only-of-type {\n",
       "        vertical-align: middle;\n",
       "    }\n",
       "\n",
       "    .dataframe tbody tr th {\n",
       "        vertical-align: top;\n",
       "    }\n",
       "\n",
       "    .dataframe thead th {\n",
       "        text-align: right;\n",
       "    }\n",
       "</style>\n",
       "<table border=\"1\" class=\"dataframe\">\n",
       "  <thead>\n",
       "    <tr style=\"text-align: right;\">\n",
       "      <th></th>\n",
       "      <th></th>\n",
       "      <th></th>\n",
       "      <th>PROFIT</th>\n",
       "    </tr>\n",
       "    <tr>\n",
       "      <th>DATE</th>\n",
       "      <th>PRODUCT</th>\n",
       "      <th>SALE_ID</th>\n",
       "      <th></th>\n",
       "    </tr>\n",
       "  </thead>\n",
       "  <tbody>\n",
       "    <tr>\n",
       "      <th rowspan=\"2\" valign=\"top\">2022-02-04</th>\n",
       "      <th>HOO_5</th>\n",
       "      <th>S0017</th>\n",
       "      <td>10.00</td>\n",
       "    </tr>\n",
       "    <tr>\n",
       "      <th>TAB_0</th>\n",
       "      <th>S0000</th>\n",
       "      <td>20.00</td>\n",
       "    </tr>\n",
       "    <tr>\n",
       "      <th rowspan=\"4\" valign=\"top\">2022-02-03</th>\n",
       "      <th>HOO_5</th>\n",
       "      <th>S0018</th>\n",
       "      <td>10.00</td>\n",
       "    </tr>\n",
       "    <tr>\n",
       "      <th>TAB_0</th>\n",
       "      <th>S0001</th>\n",
       "      <td>20.00</td>\n",
       "    </tr>\n",
       "    <tr>\n",
       "      <th>TAB_1</th>\n",
       "      <th>S0004</th>\n",
       "      <td>20.00</td>\n",
       "    </tr>\n",
       "    <tr>\n",
       "      <th>TSH_3</th>\n",
       "      <th>S0011</th>\n",
       "      <td>3.00</td>\n",
       "    </tr>\n",
       "    <tr>\n",
       "      <th rowspan=\"5\" valign=\"top\">2022-02-02</th>\n",
       "      <th>HOO_5</th>\n",
       "      <th>S0019</th>\n",
       "      <td>10.00</td>\n",
       "    </tr>\n",
       "    <tr>\n",
       "      <th>TAB_0</th>\n",
       "      <th>S0002</th>\n",
       "      <td>20.00</td>\n",
       "    </tr>\n",
       "    <tr>\n",
       "      <th>TAB_1</th>\n",
       "      <th>S0005</th>\n",
       "      <td>20.00</td>\n",
       "    </tr>\n",
       "    <tr>\n",
       "      <th>TSH_3</th>\n",
       "      <th>S0012</th>\n",
       "      <td>3.00</td>\n",
       "    </tr>\n",
       "    <tr>\n",
       "      <th>TSH_4</th>\n",
       "      <th>S0014</th>\n",
       "      <td>4.00</td>\n",
       "    </tr>\n",
       "    <tr>\n",
       "      <th rowspan=\"5\" valign=\"top\">2022-02-01</th>\n",
       "      <th>BED_2</th>\n",
       "      <th>S0007</th>\n",
       "      <td>23.00</td>\n",
       "    </tr>\n",
       "    <tr>\n",
       "      <th>TAB_0</th>\n",
       "      <th>S0003</th>\n",
       "      <td>20.00</td>\n",
       "    </tr>\n",
       "    <tr>\n",
       "      <th>TAB_1</th>\n",
       "      <th>S0006</th>\n",
       "      <td>40.00</td>\n",
       "    </tr>\n",
       "    <tr>\n",
       "      <th>TSH_3</th>\n",
       "      <th>S0013</th>\n",
       "      <td>3.00</td>\n",
       "    </tr>\n",
       "    <tr>\n",
       "      <th>TSH_4</th>\n",
       "      <th>S0015</th>\n",
       "      <td>8.00</td>\n",
       "    </tr>\n",
       "    <tr>\n",
       "      <th rowspan=\"4\" valign=\"top\">2022-01-31</th>\n",
       "      <th rowspan=\"3\" valign=\"top\">BED_2</th>\n",
       "      <th>S0008</th>\n",
       "      <td>23.00</td>\n",
       "    </tr>\n",
       "    <tr>\n",
       "      <th>S0009</th>\n",
       "      <td>23.00</td>\n",
       "    </tr>\n",
       "    <tr>\n",
       "      <th>S0010</th>\n",
       "      <td>69.00</td>\n",
       "    </tr>\n",
       "    <tr>\n",
       "      <th>TSH_4</th>\n",
       "      <th>S0016</th>\n",
       "      <td>8.00</td>\n",
       "    </tr>\n",
       "  </tbody>\n",
       "</table>\n",
       "</div>"
      ],
      "text/plain": [
       "                           PROFIT\n",
       "DATE       PRODUCT SALE_ID       \n",
       "2022-02-04 HOO_5   S0017    10.00\n",
       "           TAB_0   S0000    20.00\n",
       "2022-02-03 HOO_5   S0018    10.00\n",
       "           TAB_0   S0001    20.00\n",
       "           TAB_1   S0004    20.00\n",
       "           TSH_3   S0011     3.00\n",
       "2022-02-02 HOO_5   S0019    10.00\n",
       "           TAB_0   S0002    20.00\n",
       "           TAB_1   S0005    20.00\n",
       "           TSH_3   S0012     3.00\n",
       "           TSH_4   S0014     4.00\n",
       "2022-02-01 BED_2   S0007    23.00\n",
       "           TAB_0   S0003    20.00\n",
       "           TAB_1   S0006    40.00\n",
       "           TSH_3   S0013     3.00\n",
       "           TSH_4   S0015     8.00\n",
       "2022-01-31 BED_2   S0008    23.00\n",
       "                   S0009    23.00\n",
       "                   S0010    69.00\n",
       "           TSH_4   S0016     8.00"
      ]
     },
     "execution_count": 24,
     "metadata": {},
     "output_type": "execute_result"
    }
   ],
   "source": [
    "%%time\n",
    "\n",
    "cube.query(m[\"PROFIT\"], levels=[l[\"DATE\"], l[\"PRODUCT\"], l[\"SALE_ID\"]])"
   ]
  },
  {
   "cell_type": "markdown",
   "id": "fd36b224-ab65-45f0-a2fb-1e44c5fdb1c8",
   "metadata": {},
   "source": [
    "Previously, it took close to `3s` to return the query results. Now, it only takes slightly over `100ms` to return the results (YMMV).  \n",
    "\n",
    "Note that we are querying `PROFIT` and not the measures `m[\"QUANTITY.SUM\"]`, `m[\"PURCHASE_PRICE.SUM\"]` and `m[\"UNIT_PRICE.SUM\"]`. However, `PROFIT` is computed on the fly using the cached data in memory. Therefore, the query speed is improved drastically."
   ]
  },
  {
   "cell_type": "code",
   "execution_count": 25,
   "id": "800e212c-f4ce-4e77-8653-f8afd9b50043",
   "metadata": {
    "tags": []
   },
   "outputs": [
    {
     "name": "stdout",
     "output_type": "stream",
     "text": [
      "CPU times: user 4.22 ms, sys: 1.92 ms, total: 6.14 ms\n",
      "Wall time: 20.5 ms\n"
     ]
    },
    {
     "data": {
      "text/html": [
       "<div>\n",
       "<style scoped>\n",
       "    .dataframe tbody tr th:only-of-type {\n",
       "        vertical-align: middle;\n",
       "    }\n",
       "\n",
       "    .dataframe tbody tr th {\n",
       "        vertical-align: top;\n",
       "    }\n",
       "\n",
       "    .dataframe thead th {\n",
       "        text-align: right;\n",
       "    }\n",
       "</style>\n",
       "<table border=\"1\" class=\"dataframe\">\n",
       "  <thead>\n",
       "    <tr style=\"text-align: right;\">\n",
       "      <th></th>\n",
       "      <th>PROFIT</th>\n",
       "    </tr>\n",
       "    <tr>\n",
       "      <th>PRODUCT</th>\n",
       "      <th></th>\n",
       "    </tr>\n",
       "  </thead>\n",
       "  <tbody>\n",
       "    <tr>\n",
       "      <th>BED_2</th>\n",
       "      <td>138.00</td>\n",
       "    </tr>\n",
       "    <tr>\n",
       "      <th>HOO_5</th>\n",
       "      <td>30.00</td>\n",
       "    </tr>\n",
       "    <tr>\n",
       "      <th>TAB_0</th>\n",
       "      <td>80.00</td>\n",
       "    </tr>\n",
       "    <tr>\n",
       "      <th>TAB_1</th>\n",
       "      <td>80.00</td>\n",
       "    </tr>\n",
       "    <tr>\n",
       "      <th>TSH_3</th>\n",
       "      <td>9.00</td>\n",
       "    </tr>\n",
       "    <tr>\n",
       "      <th>TSH_4</th>\n",
       "      <td>20.00</td>\n",
       "    </tr>\n",
       "  </tbody>\n",
       "</table>\n",
       "</div>"
      ],
      "text/plain": [
       "         PROFIT\n",
       "PRODUCT        \n",
       "BED_2    138.00\n",
       "HOO_5     30.00\n",
       "TAB_0     80.00\n",
       "TAB_1     80.00\n",
       "TSH_3      9.00\n",
       "TSH_4     20.00"
      ]
     },
     "execution_count": 25,
     "metadata": {},
     "output_type": "execute_result"
    }
   ],
   "source": [
    "%%time\n",
    "\n",
    "cube.query(m[\"PROFIT\"], levels=[l[\"PRODUCT\"]])"
   ]
  },
  {
   "cell_type": "markdown",
   "id": "3776a1f9-c10c-4912-866f-238a3b95fbee",
   "metadata": {},
   "source": [
    "Querying a subset of the aggregate provider levels also returns the result quickly.  \n",
    "\n",
    "The below query on a different level will access data from BigQuery and therefore, is limited by the querying speed of the cloud database and its network connectivity.  "
   ]
  },
  {
   "cell_type": "code",
   "execution_count": 26,
   "id": "08506fb9-16e3-4052-9288-380ecc441021",
   "metadata": {
    "tags": []
   },
   "outputs": [
    {
     "name": "stdout",
     "output_type": "stream",
     "text": [
      "CPU times: user 15.7 ms, sys: 10.2 ms, total: 25.9 ms\n",
      "Wall time: 2.99 s\n"
     ]
    },
    {
     "data": {
      "text/html": [
       "<div>\n",
       "<style scoped>\n",
       "    .dataframe tbody tr th:only-of-type {\n",
       "        vertical-align: middle;\n",
       "    }\n",
       "\n",
       "    .dataframe tbody tr th {\n",
       "        vertical-align: top;\n",
       "    }\n",
       "\n",
       "    .dataframe thead th {\n",
       "        text-align: right;\n",
       "    }\n",
       "</style>\n",
       "<table border=\"1\" class=\"dataframe\">\n",
       "  <thead>\n",
       "    <tr style=\"text-align: right;\">\n",
       "      <th></th>\n",
       "      <th></th>\n",
       "      <th></th>\n",
       "      <th>PROFIT</th>\n",
       "    </tr>\n",
       "    <tr>\n",
       "      <th>DATE</th>\n",
       "      <th>CATEGORY</th>\n",
       "      <th>SUB_CATEGORY</th>\n",
       "      <th></th>\n",
       "    </tr>\n",
       "  </thead>\n",
       "  <tbody>\n",
       "    <tr>\n",
       "      <th rowspan=\"2\" valign=\"top\">2022-02-04</th>\n",
       "      <th>Cloth</th>\n",
       "      <th>Hoodie</th>\n",
       "      <td>10.00</td>\n",
       "    </tr>\n",
       "    <tr>\n",
       "      <th>Furniture</th>\n",
       "      <th>Table</th>\n",
       "      <td>20.00</td>\n",
       "    </tr>\n",
       "    <tr>\n",
       "      <th rowspan=\"3\" valign=\"top\">2022-02-03</th>\n",
       "      <th rowspan=\"2\" valign=\"top\">Cloth</th>\n",
       "      <th>Hoodie</th>\n",
       "      <td>10.00</td>\n",
       "    </tr>\n",
       "    <tr>\n",
       "      <th>Tshirt</th>\n",
       "      <td>3.00</td>\n",
       "    </tr>\n",
       "    <tr>\n",
       "      <th>Furniture</th>\n",
       "      <th>Table</th>\n",
       "      <td>40.00</td>\n",
       "    </tr>\n",
       "    <tr>\n",
       "      <th rowspan=\"3\" valign=\"top\">2022-02-02</th>\n",
       "      <th rowspan=\"2\" valign=\"top\">Cloth</th>\n",
       "      <th>Hoodie</th>\n",
       "      <td>10.00</td>\n",
       "    </tr>\n",
       "    <tr>\n",
       "      <th>Tshirt</th>\n",
       "      <td>7.00</td>\n",
       "    </tr>\n",
       "    <tr>\n",
       "      <th>Furniture</th>\n",
       "      <th>Table</th>\n",
       "      <td>40.00</td>\n",
       "    </tr>\n",
       "    <tr>\n",
       "      <th rowspan=\"3\" valign=\"top\">2022-02-01</th>\n",
       "      <th>Cloth</th>\n",
       "      <th>Tshirt</th>\n",
       "      <td>11.00</td>\n",
       "    </tr>\n",
       "    <tr>\n",
       "      <th rowspan=\"2\" valign=\"top\">Furniture</th>\n",
       "      <th>Bed</th>\n",
       "      <td>23.00</td>\n",
       "    </tr>\n",
       "    <tr>\n",
       "      <th>Table</th>\n",
       "      <td>60.00</td>\n",
       "    </tr>\n",
       "    <tr>\n",
       "      <th rowspan=\"2\" valign=\"top\">2022-01-31</th>\n",
       "      <th>Cloth</th>\n",
       "      <th>Tshirt</th>\n",
       "      <td>8.00</td>\n",
       "    </tr>\n",
       "    <tr>\n",
       "      <th>Furniture</th>\n",
       "      <th>Bed</th>\n",
       "      <td>115.00</td>\n",
       "    </tr>\n",
       "  </tbody>\n",
       "</table>\n",
       "</div>"
      ],
      "text/plain": [
       "                                   PROFIT\n",
       "DATE       CATEGORY  SUB_CATEGORY        \n",
       "2022-02-04 Cloth     Hoodie         10.00\n",
       "           Furniture Table          20.00\n",
       "2022-02-03 Cloth     Hoodie         10.00\n",
       "                     Tshirt          3.00\n",
       "           Furniture Table          40.00\n",
       "2022-02-02 Cloth     Hoodie         10.00\n",
       "                     Tshirt          7.00\n",
       "           Furniture Table          40.00\n",
       "2022-02-01 Cloth     Tshirt         11.00\n",
       "           Furniture Bed            23.00\n",
       "                     Table          60.00\n",
       "2022-01-31 Cloth     Tshirt          8.00\n",
       "           Furniture Bed           115.00"
      ]
     },
     "execution_count": 26,
     "metadata": {},
     "output_type": "execute_result"
    }
   ],
   "source": [
    "%%time\n",
    "\n",
    "cube.query(m[\"PROFIT\"], levels=[l[\"DATE\"], l[\"SUB_CATEGORY\"]])"
   ]
  },
  {
   "cell_type": "markdown",
   "id": "c260f204-8f69-4f99-aefa-3e881c29e4bc",
   "metadata": {},
   "source": [
    "Before we are done with this example, let's create another aggregate provider with a _slice_ of data using `filter`.  \n",
    "\n",
    "Let's first capture the timing of the query without the aggregate provider."
   ]
  },
  {
   "cell_type": "code",
   "execution_count": 27,
   "id": "fe342fd4-1c7f-4995-833d-f3cac15d2aa4",
   "metadata": {},
   "outputs": [
    {
     "name": "stdout",
     "output_type": "stream",
     "text": [
      "CPU times: user 35.1 ms, sys: 12.4 ms, total: 47.5 ms\n",
      "Wall time: 2.19 s\n"
     ]
    },
    {
     "data": {
      "text/html": [
       "<div>\n",
       "<style scoped>\n",
       "    .dataframe tbody tr th:only-of-type {\n",
       "        vertical-align: middle;\n",
       "    }\n",
       "\n",
       "    .dataframe tbody tr th {\n",
       "        vertical-align: top;\n",
       "    }\n",
       "\n",
       "    .dataframe thead th {\n",
       "        text-align: right;\n",
       "    }\n",
       "</style>\n",
       "<table border=\"1\" class=\"dataframe\">\n",
       "  <thead>\n",
       "    <tr style=\"text-align: right;\">\n",
       "      <th></th>\n",
       "      <th></th>\n",
       "      <th></th>\n",
       "      <th>PROFIT</th>\n",
       "    </tr>\n",
       "    <tr>\n",
       "      <th>DATE</th>\n",
       "      <th>CATEGORY</th>\n",
       "      <th>SUB_CATEGORY</th>\n",
       "      <th></th>\n",
       "    </tr>\n",
       "  </thead>\n",
       "  <tbody>\n",
       "    <tr>\n",
       "      <th rowspan=\"2\" valign=\"top\">2022-02-04</th>\n",
       "      <th>Cloth</th>\n",
       "      <th>Hoodie</th>\n",
       "      <td>10.00</td>\n",
       "    </tr>\n",
       "    <tr>\n",
       "      <th>Furniture</th>\n",
       "      <th>Table</th>\n",
       "      <td>20.00</td>\n",
       "    </tr>\n",
       "  </tbody>\n",
       "</table>\n",
       "</div>"
      ],
      "text/plain": [
       "                                  PROFIT\n",
       "DATE       CATEGORY  SUB_CATEGORY       \n",
       "2022-02-04 Cloth     Hoodie        10.00\n",
       "           Furniture Table         20.00"
      ]
     },
     "execution_count": 27,
     "metadata": {},
     "output_type": "execute_result"
    }
   ],
   "source": [
    "%%time\n",
    "\n",
    "cube.query(\n",
    "    m[\"PROFIT\"],\n",
    "    levels=[l[\"DATE\"], l[\"CATEGORY\"], l[\"SUB_CATEGORY\"]],\n",
    "    filter=(l[\"DATE\"] == \"2022-02-04\"),\n",
    ")"
   ]
  },
  {
   "cell_type": "code",
   "execution_count": 28,
   "id": "b240a857-71f6-4344-8967-570013c0ac98",
   "metadata": {
    "tags": []
   },
   "outputs": [],
   "source": [
    "from datetime import date\n",
    "\n",
    "current_date = date(2022, 2, 24)"
   ]
  },
  {
   "cell_type": "markdown",
   "id": "9526ed6a-2c74-4ab5-935e-51899123340c",
   "metadata": {},
   "source": [
    "In the event where users are interested in a particular member of level, e.g. the current date or a particular shop, and the amount of querying on this member is huge, then it makes sense to cache them in memory.  \n",
    "\n",
    "In this case, we apply filter just for the interested member. This helps to control the amount of data held in memory."
   ]
  },
  {
   "cell_type": "code",
   "execution_count": 29,
   "id": "17ae6441-66db-4038-bfee-28df3b2c576e",
   "metadata": {},
   "outputs": [],
   "source": [
    "cube.aggregate_providers.update(\n",
    "    {\n",
    "        \"Category provider\": tt.AggregateProvider(\n",
    "            key=\"bitmap\",\n",
    "            levels=[l[\"DATE\"], l[\"CATEGORY\"], l[\"SUB_CATEGORY\"]],\n",
    "            measures=[m[\"QUANTITY.SUM\"], m[\"PURCHASE_PRICE.SUM\"], m[\"UNIT_PRICE.SUM\"]],\n",
    "            filter=(l[\"DATE\"] == current_date),\n",
    "        )\n",
    "    }\n",
    ")"
   ]
  },
  {
   "cell_type": "code",
   "execution_count": 30,
   "id": "adc253db-cebe-49a2-a8ae-2f9630d5338d",
   "metadata": {
    "tags": []
   },
   "outputs": [
    {
     "name": "stdout",
     "output_type": "stream",
     "text": [
      "CPU times: user 15.8 ms, sys: 11.3 ms, total: 27.2 ms\n",
      "Wall time: 2.52 s\n"
     ]
    },
    {
     "data": {
      "text/html": [
       "<div>\n",
       "<style scoped>\n",
       "    .dataframe tbody tr th:only-of-type {\n",
       "        vertical-align: middle;\n",
       "    }\n",
       "\n",
       "    .dataframe tbody tr th {\n",
       "        vertical-align: top;\n",
       "    }\n",
       "\n",
       "    .dataframe thead th {\n",
       "        text-align: right;\n",
       "    }\n",
       "</style>\n",
       "<table border=\"1\" class=\"dataframe\">\n",
       "  <thead>\n",
       "    <tr style=\"text-align: right;\">\n",
       "      <th></th>\n",
       "      <th></th>\n",
       "      <th></th>\n",
       "      <th>PROFIT</th>\n",
       "    </tr>\n",
       "    <tr>\n",
       "      <th>DATE</th>\n",
       "      <th>CATEGORY</th>\n",
       "      <th>SUB_CATEGORY</th>\n",
       "      <th></th>\n",
       "    </tr>\n",
       "  </thead>\n",
       "  <tbody>\n",
       "    <tr>\n",
       "      <th rowspan=\"2\" valign=\"top\">2022-02-04</th>\n",
       "      <th>Cloth</th>\n",
       "      <th>Hoodie</th>\n",
       "      <td>10.00</td>\n",
       "    </tr>\n",
       "    <tr>\n",
       "      <th>Furniture</th>\n",
       "      <th>Table</th>\n",
       "      <td>20.00</td>\n",
       "    </tr>\n",
       "  </tbody>\n",
       "</table>\n",
       "</div>"
      ],
      "text/plain": [
       "                                  PROFIT\n",
       "DATE       CATEGORY  SUB_CATEGORY       \n",
       "2022-02-04 Cloth     Hoodie        10.00\n",
       "           Furniture Table         20.00"
      ]
     },
     "execution_count": 30,
     "metadata": {},
     "output_type": "execute_result"
    }
   ],
   "source": [
    "%%time\n",
    "\n",
    "cube.query(\n",
    "    m[\"PROFIT\"],\n",
    "    levels=[l[\"DATE\"], l[\"CATEGORY\"], l[\"SUB_CATEGORY\"]],\n",
    "    filter=(l[\"DATE\"] == \"2022-02-04\"),\n",
    ")"
   ]
  },
  {
   "cell_type": "markdown",
   "id": "4b392590-0e19-4d03-84db-853028977e8b",
   "metadata": {},
   "source": [
    "## Balance between Cost and Performance"
   ]
  },
  {
   "cell_type": "markdown",
   "id": "1f44c57a-00ad-44eb-9195-ed0b0a808a62",
   "metadata": {},
   "source": [
    "All in all, Atoti's DirectQuery offers users a way to balance between cost and performance:\n",
    "\n",
    "* For data that is less queried, it resides on the cloud database and gets queried on-demand.\n",
    "* For data that is more frequently queried, we can cache it in memory and reduce the number of queries to the cloud database, thereby improving performance.  \n",
    "\n",
    "<img src=\"https://data.atoti.io/notebooks/direct-query/img/aggregate_cache.png\" />  \n",
    "\n",
    "💡 **Note:** To find out more, reach out to [ActiveViam](https://activeviam.com/contact-us/?utm_source=github&utm_medium=atoti) for a demonstration."
   ]
  },
  {
   "cell_type": "markdown",
   "id": "455e3f95-0a8c-48bf-b793-69d5fe2f2083",
   "metadata": {},
   "source": [
    "<div style=\"text-align: center;\" ><a href=\"https://www.atoti.io/?utm_source=gallery&utm_content=directquery-intro\" target=\"_blank\" rel=\"noopener noreferrer\"><img src=\"https://data.atoti.io/notebooks/banners/Your-turn-to-try-Atoti.jpg\" alt=\"Try Atoti\"></a></div>"
   ]
  }
 ],
 "metadata": {
  "kernelspec": {
   "display_name": "Python 3 (ipykernel)",
   "language": "python",
   "name": "python3"
  },
  "language_info": {
   "codemirror_mode": {
    "name": "ipython",
    "version": 3
   },
   "file_extension": ".py",
   "mimetype": "text/x-python",
   "name": "python",
   "nbconvert_exporter": "python",
   "pygments_lexer": "ipython3",
   "version": "3.10.14"
  }
 },
 "nbformat": 4,
 "nbformat_minor": 5
}
