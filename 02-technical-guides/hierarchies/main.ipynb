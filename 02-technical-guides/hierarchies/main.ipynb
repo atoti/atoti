{
 "cells": [
  {
   "cell_type": "markdown",
   "id": "4b3bb4a0-74bf-4f21-a181-095dd87e0fee",
   "metadata": {},
   "source": [
    "# Working with Hierarchies in Atoti\n",
    "\n",
    "In this notebook, we'll show you what you need to know to start working with hierarchies when using the Atoti Python API.\n",
    "\n",
    "Before we begin, let's start off with a refresher from our Atoti Python API [Tutorial](https://docs.atoti.io/latest/getting_started/tutorial/tutorial.html#Multidimensional-concepts):\n",
    "\n",
    "> A **cube** is a multidimensional view of some data, making it easy to explore, aggregate, filter and compare. It’s called a cube because each attribute of the data can be represented as a dimension of the cube. The axes of the cube are called **hierarchies**. The purpose of multidimensional analysis is to visualize some numeric indicators at specific coordinates of the cube. These indicators are called **measures**.\n",
    "\n",
    "In other words, the purpose of an OLAP cube is to provide multidimensional analysis capabilities, which gives us the flexibility to slice-and-dice our data however we see fit. With this being said, let's talk about hierarchies!\n",
    "\n",
    "💡 **Note:** Many of the initial operations in this notebook revolve around [Table Creation and Data Loads](../table-creation-and-data-loads/main.ipynb). Feel free to check out the notebook if you need some reminders on creating, loading, and joining Atoti tables."
   ]
  },
  {
   "cell_type": "markdown",
   "id": "f2e8584c-67f1-4396-9c5e-ba5e2db7bae5",
   "metadata": {},
   "source": [
    "<div style=\"text-align: center;\" ><a href=\"https://www.atoti.io/?utm_source=gallery&utm_content=hierarchies\" target=\"_blank\" rel=\"noopener noreferrer\"><img src=\"https://data.atoti.io/notebooks/banners/Discover-Atoti-now.png\" alt=\"Try Atoti\"></a></div>"
   ]
  },
  {
   "cell_type": "markdown",
   "id": "96b431ed-d908-4c90-8028-63faa6ad5210",
   "metadata": {},
   "source": [
    "## Import libraries\n",
    "\n",
    "First things first, let's import our libraries."
   ]
  },
  {
   "cell_type": "code",
   "execution_count": 1,
   "id": "dd52328a-81c5-4404-a791-ee01d9f83379",
   "metadata": {},
   "outputs": [],
   "source": [
    "import atoti as tt\n",
    "import pandas"
   ]
  },
  {
   "cell_type": "markdown",
   "id": "3dd1ef72-b31a-4bb4-993c-3e379e01f4fc",
   "metadata": {},
   "source": [
    "## Instantiate Atoti server and link UI\n",
    "\n",
    "Next, we'll spin up the Atoti server and link the session to our web-based Atoti UI.\n",
    "\n",
    "💡 **Note**: https://docs.atoti.io/latest/api/atoti.Session.html#atoti.Session"
   ]
  },
  {
   "cell_type": "code",
   "execution_count": 2,
   "id": "5989628c-d209-4c17-b023-cd18cb362b40",
   "metadata": {},
   "outputs": [
    {
     "data": {
      "application/vnd.atoti.link.v0+json": {
       "path": "",
       "sessionLocation": {
        "https": false,
        "port": 9092
       }
      },
      "text/markdown": [
       "http://localhost:9092\n",
       "\n",
       "_Note_: This is the session's local URL: it may not be reachable if Atoti is running on another machine."
      ],
      "text/plain": [
       "http://localhost:9092 (This is the session's local URL: it may not be reachable if Atoti is running on another machine.)"
      ]
     },
     "execution_count": 2,
     "metadata": {},
     "output_type": "execute_result"
    }
   ],
   "source": [
    "session = tt.Session(\n",
    "    user_content_storage=\"./content\",\n",
    "    port=9092,\n",
    "    java_options=[\"-Xms1G\", \"-Xmx10G\"],\n",
    ")\n",
    "session.link"
   ]
  },
  {
   "cell_type": "markdown",
   "id": "338e45ac-5994-4d0f-8d32-a750f90eda51",
   "metadata": {},
   "source": [
    "## Load CSVs from S3 into Atoti tables\n",
    "\n",
    "From here on, we'll load the following CSVs from S3 into Atoti tables.\n",
    "\n",
    "* [Orders](#Orders)\n",
    "* [Products](#Products)\n",
    "* [Shippers](#Shippers)\n",
    "* [Customers](#Customers)\n",
    "* [Employees](#Employees)\n",
    "\n",
    "💡 **Note**: Sometimes we want inherently numerical columns to be used as hierarchies instead of measures (e.g. an Order ID should be used as a hierarchy rather than a measure, and does not need to be aggregated). For this reason, we can explicitly set specific Atoti table columns as desired data types (in this case strings) when loading data into Atoti tables.\n",
    "\n",
    "See https://docs.atoti.io/latest/api/atoti.Session.read_csv.html#atoti.Session.read_csv for more info."
   ]
  },
  {
   "cell_type": "markdown",
   "id": "c2436684-84d0-4875-941e-2609c877b412",
   "metadata": {},
   "source": [
    "### Orders"
   ]
  },
  {
   "cell_type": "code",
   "execution_count": 3,
   "id": "c5bb6cc1-7f54-44d3-9934-f142644c5ca5",
   "metadata": {},
   "outputs": [
    {
     "data": {
      "text/html": [
       "<div>\n",
       "<style scoped>\n",
       "    .dataframe tbody tr th:only-of-type {\n",
       "        vertical-align: middle;\n",
       "    }\n",
       "\n",
       "    .dataframe tbody tr th {\n",
       "        vertical-align: top;\n",
       "    }\n",
       "\n",
       "    .dataframe thead th {\n",
       "        text-align: right;\n",
       "    }\n",
       "</style>\n",
       "<table border=\"1\" class=\"dataframe\">\n",
       "  <thead>\n",
       "    <tr style=\"text-align: right;\">\n",
       "      <th></th>\n",
       "      <th>OrderDate</th>\n",
       "      <th>QuantitySold</th>\n",
       "      <th>SellingPricePerUnit</th>\n",
       "      <th>ShipperName</th>\n",
       "      <th>ProductId</th>\n",
       "      <th>EmployeeId</th>\n",
       "      <th>CustomerId</th>\n",
       "    </tr>\n",
       "    <tr>\n",
       "      <th>OrderId</th>\n",
       "      <th></th>\n",
       "      <th></th>\n",
       "      <th></th>\n",
       "      <th></th>\n",
       "      <th></th>\n",
       "      <th></th>\n",
       "      <th></th>\n",
       "    </tr>\n",
       "  </thead>\n",
       "  <tbody>\n",
       "    <tr>\n",
       "      <th>9</th>\n",
       "      <td>2024-02-18</td>\n",
       "      <td>339</td>\n",
       "      <td>19.39</td>\n",
       "      <td>The Transporter</td>\n",
       "      <td>1423</td>\n",
       "      <td>18336</td>\n",
       "      <td>c5755</td>\n",
       "    </tr>\n",
       "    <tr>\n",
       "      <th>19</th>\n",
       "      <td>2024-02-18</td>\n",
       "      <td>971</td>\n",
       "      <td>11.1</td>\n",
       "      <td>Freight United</td>\n",
       "      <td>708</td>\n",
       "      <td>18422</td>\n",
       "      <td>c1891</td>\n",
       "    </tr>\n",
       "    <tr>\n",
       "      <th>29</th>\n",
       "      <td>2024-02-18</td>\n",
       "      <td>716</td>\n",
       "      <td>12.56</td>\n",
       "      <td>Rapid Post</td>\n",
       "      <td>1202</td>\n",
       "      <td>18465</td>\n",
       "      <td>c3235</td>\n",
       "    </tr>\n",
       "    <tr>\n",
       "      <th>39</th>\n",
       "      <td>2024-02-18</td>\n",
       "      <td>120</td>\n",
       "      <td>284.01</td>\n",
       "      <td>Speedy Express</td>\n",
       "      <td>1410</td>\n",
       "      <td>18508</td>\n",
       "      <td>c3179</td>\n",
       "    </tr>\n",
       "    <tr>\n",
       "      <th>49</th>\n",
       "      <td>2024-02-18</td>\n",
       "      <td>471</td>\n",
       "      <td>51.67</td>\n",
       "      <td>United Package</td>\n",
       "      <td>1111</td>\n",
       "      <td>26584</td>\n",
       "      <td>c2003</td>\n",
       "    </tr>\n",
       "  </tbody>\n",
       "</table>\n",
       "</div>"
      ],
      "text/plain": [
       "         OrderDate  QuantitySold  SellingPricePerUnit      ShipperName  \\\n",
       "OrderId                                                                  \n",
       "9       2024-02-18           339                19.39  The Transporter   \n",
       "19      2024-02-18           971                 11.1   Freight United   \n",
       "29      2024-02-18           716                12.56       Rapid Post   \n",
       "39      2024-02-18           120               284.01   Speedy Express   \n",
       "49      2024-02-18           471                51.67   United Package   \n",
       "\n",
       "        ProductId EmployeeId CustomerId  \n",
       "OrderId                                  \n",
       "9            1423      18336      c5755  \n",
       "19            708      18422      c1891  \n",
       "29           1202      18465      c3235  \n",
       "39           1410      18508      c3179  \n",
       "49           1111      26584      c2003  "
      ]
     },
     "execution_count": 3,
     "metadata": {},
     "output_type": "execute_result"
    }
   ],
   "source": [
    "orders = session.read_csv(\n",
    "    \"s3://data.atoti.io/notebooks/hierarchies/data/Orders.csv\",\n",
    "    types={\n",
    "        \"OrderId\": tt.STRING,\n",
    "        \"OrderDate\": tt.LOCAL_DATE,\n",
    "        \"ProductId\": tt.STRING,\n",
    "        \"EmployeeId\": tt.STRING,\n",
    "        \"CustomerId\": tt.STRING,\n",
    "    },\n",
    "    date_patterns={\"OrderDate\": \"dd/M/yyyy\"},\n",
    "    keys=[\"OrderId\"],\n",
    ")\n",
    "orders.head()"
   ]
  },
  {
   "cell_type": "markdown",
   "id": "9784490d-6226-4db7-b10c-e4b9577a2e34",
   "metadata": {},
   "source": [
    "### Products"
   ]
  },
  {
   "cell_type": "code",
   "execution_count": 4,
   "id": "d37199f3-a0eb-4cb4-91a3-57da1d2c752f",
   "metadata": {},
   "outputs": [
    {
     "data": {
      "text/html": [
       "<div>\n",
       "<style scoped>\n",
       "    .dataframe tbody tr th:only-of-type {\n",
       "        vertical-align: middle;\n",
       "    }\n",
       "\n",
       "    .dataframe tbody tr th {\n",
       "        vertical-align: top;\n",
       "    }\n",
       "\n",
       "    .dataframe thead th {\n",
       "        text-align: right;\n",
       "    }\n",
       "</style>\n",
       "<table border=\"1\" class=\"dataframe\">\n",
       "  <thead>\n",
       "    <tr style=\"text-align: right;\">\n",
       "      <th></th>\n",
       "      <th>ProductName</th>\n",
       "      <th>ProductCategory</th>\n",
       "      <th>Supplier</th>\n",
       "      <th>PurchasingPricePerUnit</th>\n",
       "    </tr>\n",
       "    <tr>\n",
       "      <th>ProductId</th>\n",
       "      <th></th>\n",
       "      <th></th>\n",
       "      <th></th>\n",
       "      <th></th>\n",
       "    </tr>\n",
       "  </thead>\n",
       "  <tbody>\n",
       "    <tr>\n",
       "      <th>643</th>\n",
       "      <td>Ravioli Angelo</td>\n",
       "      <td>Grains/Cereals</td>\n",
       "      <td>Pasta Buttini s.r.l.</td>\n",
       "      <td>11.23</td>\n",
       "    </tr>\n",
       "    <tr>\n",
       "      <th>773</th>\n",
       "      <td>Chang</td>\n",
       "      <td>Beverages</td>\n",
       "      <td>Exotic Liquids</td>\n",
       "      <td>10.26</td>\n",
       "    </tr>\n",
       "    <tr>\n",
       "      <th>903</th>\n",
       "      <td>Gravad lax</td>\n",
       "      <td>Seafood</td>\n",
       "      <td>Svensk Sjöföda AB</td>\n",
       "      <td>18.72</td>\n",
       "    </tr>\n",
       "    <tr>\n",
       "      <th>1033</th>\n",
       "      <td>Lakkalikööri</td>\n",
       "      <td>Beverages</td>\n",
       "      <td>Karkki Oy</td>\n",
       "      <td>9.72</td>\n",
       "    </tr>\n",
       "    <tr>\n",
       "      <th>1163</th>\n",
       "      <td>Rhönbräu Klosterbier</td>\n",
       "      <td>Beverages</td>\n",
       "      <td>Plutzer Lebensmittelgroßmärkte AG</td>\n",
       "      <td>4.19</td>\n",
       "    </tr>\n",
       "  </tbody>\n",
       "</table>\n",
       "</div>"
      ],
      "text/plain": [
       "                    ProductName ProductCategory  \\\n",
       "ProductId                                         \n",
       "643              Ravioli Angelo  Grains/Cereals   \n",
       "773                       Chang       Beverages   \n",
       "903                  Gravad lax         Seafood   \n",
       "1033               Lakkalikööri       Beverages   \n",
       "1163       Rhönbräu Klosterbier       Beverages   \n",
       "\n",
       "                                    Supplier  PurchasingPricePerUnit  \n",
       "ProductId                                                             \n",
       "643                     Pasta Buttini s.r.l.                   11.23  \n",
       "773                           Exotic Liquids                   10.26  \n",
       "903                        Svensk Sjöföda AB                   18.72  \n",
       "1033                               Karkki Oy                    9.72  \n",
       "1163       Plutzer Lebensmittelgroßmärkte AG                    4.19  "
      ]
     },
     "execution_count": 4,
     "metadata": {},
     "output_type": "execute_result"
    }
   ],
   "source": [
    "products = session.read_csv(\n",
    "    \"s3://data.atoti.io/notebooks/hierarchies/data/Products.csv\",\n",
    "    types={\n",
    "        \"ProductId\": tt.STRING,\n",
    "        \"ProductName\": tt.STRING,\n",
    "        \"ProductCategory\": tt.STRING,\n",
    "        \"Supplier\": tt.STRING,\n",
    "        \"PurchasingPricePerUnit\": tt.DOUBLE,\n",
    "    },\n",
    "    keys=[\"ProductId\"],\n",
    ")\n",
    "products.head()"
   ]
  },
  {
   "cell_type": "markdown",
   "id": "ac89f164-064a-4658-b7a7-642dd5d45d80",
   "metadata": {},
   "source": [
    "### Shippers"
   ]
  },
  {
   "cell_type": "code",
   "execution_count": 5,
   "id": "1280d556-8697-4086-9cb9-3b93c339255a",
   "metadata": {},
   "outputs": [
    {
     "data": {
      "text/html": [
       "<div>\n",
       "<style scoped>\n",
       "    .dataframe tbody tr th:only-of-type {\n",
       "        vertical-align: middle;\n",
       "    }\n",
       "\n",
       "    .dataframe tbody tr th {\n",
       "        vertical-align: top;\n",
       "    }\n",
       "\n",
       "    .dataframe thead th {\n",
       "        text-align: right;\n",
       "    }\n",
       "</style>\n",
       "<table border=\"1\" class=\"dataframe\">\n",
       "  <thead>\n",
       "    <tr style=\"text-align: right;\">\n",
       "      <th></th>\n",
       "      <th>ShipperName</th>\n",
       "      <th>Contact</th>\n",
       "    </tr>\n",
       "  </thead>\n",
       "  <tbody>\n",
       "    <tr>\n",
       "      <th>0</th>\n",
       "      <td>Freight United</td>\n",
       "      <td>Geoff Matthews</td>\n",
       "    </tr>\n",
       "    <tr>\n",
       "      <th>1</th>\n",
       "      <td>Rapid Post</td>\n",
       "      <td>Payal Shah</td>\n",
       "    </tr>\n",
       "    <tr>\n",
       "      <th>2</th>\n",
       "      <td>United Package</td>\n",
       "      <td>Junqi Huang</td>\n",
       "    </tr>\n",
       "    <tr>\n",
       "      <th>3</th>\n",
       "      <td>Speedy Express</td>\n",
       "      <td>Natalia Ramirez</td>\n",
       "    </tr>\n",
       "    <tr>\n",
       "      <th>4</th>\n",
       "      <td>The Transporter</td>\n",
       "      <td>Funmi Odunga</td>\n",
       "    </tr>\n",
       "  </tbody>\n",
       "</table>\n",
       "</div>"
      ],
      "text/plain": [
       "       ShipperName          Contact\n",
       "0   Freight United   Geoff Matthews\n",
       "1       Rapid Post       Payal Shah\n",
       "2   United Package      Junqi Huang\n",
       "3   Speedy Express  Natalia Ramirez\n",
       "4  The Transporter     Funmi Odunga"
      ]
     },
     "execution_count": 5,
     "metadata": {},
     "output_type": "execute_result"
    }
   ],
   "source": [
    "shippers = session.read_csv(\n",
    "    \"s3://data.atoti.io/notebooks/hierarchies/data/Shippers.csv\",\n",
    "    types={\n",
    "        \"ShipperName\": tt.STRING,\n",
    "        \"Contact\": tt.STRING,\n",
    "    },\n",
    ")\n",
    "shippers.head()"
   ]
  },
  {
   "cell_type": "markdown",
   "id": "9c4dac8a-8dc7-4158-8976-1ba48b98f2be",
   "metadata": {},
   "source": [
    "### Customers"
   ]
  },
  {
   "cell_type": "code",
   "execution_count": 6,
   "id": "5c17d95f-eb31-4a3b-b05a-ff3b30c0fe79",
   "metadata": {},
   "outputs": [
    {
     "data": {
      "text/html": [
       "<div>\n",
       "<style scoped>\n",
       "    .dataframe tbody tr th:only-of-type {\n",
       "        vertical-align: middle;\n",
       "    }\n",
       "\n",
       "    .dataframe tbody tr th {\n",
       "        vertical-align: top;\n",
       "    }\n",
       "\n",
       "    .dataframe thead th {\n",
       "        text-align: right;\n",
       "    }\n",
       "</style>\n",
       "<table border=\"1\" class=\"dataframe\">\n",
       "  <thead>\n",
       "    <tr style=\"text-align: right;\">\n",
       "      <th></th>\n",
       "      <th>CompanyName</th>\n",
       "      <th>Address</th>\n",
       "      <th>City</th>\n",
       "      <th>PostalCode</th>\n",
       "      <th>Region</th>\n",
       "      <th>Country</th>\n",
       "      <th>Subregion</th>\n",
       "      <th>Phone</th>\n",
       "      <th>PostCode</th>\n",
       "    </tr>\n",
       "    <tr>\n",
       "      <th>CustomerId</th>\n",
       "      <th></th>\n",
       "      <th></th>\n",
       "      <th></th>\n",
       "      <th></th>\n",
       "      <th></th>\n",
       "      <th></th>\n",
       "      <th></th>\n",
       "      <th></th>\n",
       "      <th></th>\n",
       "    </tr>\n",
       "  </thead>\n",
       "  <tbody>\n",
       "    <tr>\n",
       "      <th>c883</th>\n",
       "      <td>Vins et alcools Chevalier</td>\n",
       "      <td>59 rue de l'Abbaye</td>\n",
       "      <td>Reims</td>\n",
       "      <td>51100</td>\n",
       "      <td>Europe</td>\n",
       "      <td>France</td>\n",
       "      <td>Western Europe</td>\n",
       "      <td>26.47.15.10</td>\n",
       "      <td>N/A</td>\n",
       "    </tr>\n",
       "    <tr>\n",
       "      <th>c939</th>\n",
       "      <td>Toms Spezialitäten</td>\n",
       "      <td>Luisenstr. 48</td>\n",
       "      <td>Münster</td>\n",
       "      <td>44087</td>\n",
       "      <td>Europe</td>\n",
       "      <td>Germany</td>\n",
       "      <td>Western Europe</td>\n",
       "      <td>0251-031259</td>\n",
       "      <td>N/A</td>\n",
       "    </tr>\n",
       "    <tr>\n",
       "      <th>c5643</th>\n",
       "      <td>Alfreds Futterkiste</td>\n",
       "      <td>Obere Str. 57</td>\n",
       "      <td>Berlin</td>\n",
       "      <td>12209</td>\n",
       "      <td>Europe</td>\n",
       "      <td>Germany</td>\n",
       "      <td>Western Europe</td>\n",
       "      <td>030-0074321</td>\n",
       "      <td>N/A</td>\n",
       "    </tr>\n",
       "    <tr>\n",
       "      <th>c2899</th>\n",
       "      <td>Godos Cocina Típica</td>\n",
       "      <td>C/ Romero, 33</td>\n",
       "      <td>Sevilla</td>\n",
       "      <td>41101</td>\n",
       "      <td>Europe</td>\n",
       "      <td>Spain</td>\n",
       "      <td>Southern Europe</td>\n",
       "      <td>(95) 555 82 82</td>\n",
       "      <td>N/A</td>\n",
       "    </tr>\n",
       "    <tr>\n",
       "      <th>c4019</th>\n",
       "      <td>Seven Seas Imports</td>\n",
       "      <td>90 Wadhurst Rd.</td>\n",
       "      <td>London</td>\n",
       "      <td>OX15 4NB</td>\n",
       "      <td>Europe</td>\n",
       "      <td>United Kingdom</td>\n",
       "      <td>Northern Europe</td>\n",
       "      <td>(171) 555-1717</td>\n",
       "      <td>N/A</td>\n",
       "    </tr>\n",
       "  </tbody>\n",
       "</table>\n",
       "</div>"
      ],
      "text/plain": [
       "                          CompanyName             Address     City PostalCode  \\\n",
       "CustomerId                                                                      \n",
       "c883        Vins et alcools Chevalier  59 rue de l'Abbaye    Reims      51100   \n",
       "c939               Toms Spezialitäten       Luisenstr. 48  Münster      44087   \n",
       "c5643             Alfreds Futterkiste       Obere Str. 57   Berlin      12209   \n",
       "c2899             Godos Cocina Típica       C/ Romero, 33  Sevilla      41101   \n",
       "c4019              Seven Seas Imports     90 Wadhurst Rd.   London   OX15 4NB   \n",
       "\n",
       "            Region         Country        Subregion           Phone PostCode  \n",
       "CustomerId                                                                    \n",
       "c883        Europe          France   Western Europe     26.47.15.10      N/A  \n",
       "c939        Europe         Germany   Western Europe     0251-031259      N/A  \n",
       "c5643       Europe         Germany   Western Europe     030-0074321      N/A  \n",
       "c2899       Europe           Spain  Southern Europe  (95) 555 82 82      N/A  \n",
       "c4019       Europe  United Kingdom  Northern Europe  (171) 555-1717      N/A  "
      ]
     },
     "execution_count": 6,
     "metadata": {},
     "output_type": "execute_result"
    }
   ],
   "source": [
    "customers = session.read_csv(\n",
    "    \"s3://data.atoti.io/notebooks/hierarchies/data/Customers.csv\",\n",
    "    types={\n",
    "        \"CustomerId\": tt.STRING,\n",
    "        \"CompanyName\": tt.STRING,\n",
    "        \"Region\": tt.STRING,\n",
    "        \"Country\": tt.STRING,\n",
    "        \"Address\": tt.STRING,\n",
    "        \"City\": tt.STRING,\n",
    "        \"PostCode\": tt.STRING,\n",
    "        \"Phone\": tt.STRING,\n",
    "    },\n",
    "    keys=[\"CustomerId\"],\n",
    ")\n",
    "customers.head()"
   ]
  },
  {
   "cell_type": "markdown",
   "id": "0c30a612-1763-4390-9c33-336934e7d033",
   "metadata": {},
   "source": [
    "### Employees"
   ]
  },
  {
   "cell_type": "code",
   "execution_count": 7,
   "id": "c3ce0b51-5296-4696-960a-d18346499be3",
   "metadata": {},
   "outputs": [
    {
     "data": {
      "text/html": [
       "<div>\n",
       "<style scoped>\n",
       "    .dataframe tbody tr th:only-of-type {\n",
       "        vertical-align: middle;\n",
       "    }\n",
       "\n",
       "    .dataframe tbody tr th {\n",
       "        vertical-align: top;\n",
       "    }\n",
       "\n",
       "    .dataframe thead th {\n",
       "        text-align: right;\n",
       "    }\n",
       "</style>\n",
       "<table border=\"1\" class=\"dataframe\">\n",
       "  <thead>\n",
       "    <tr style=\"text-align: right;\">\n",
       "      <th></th>\n",
       "      <th>EmployeeName</th>\n",
       "      <th>EmployeeZone</th>\n",
       "      <th>EmployeeCountry</th>\n",
       "      <th>EmployeeCity</th>\n",
       "    </tr>\n",
       "    <tr>\n",
       "      <th>EmployeeId</th>\n",
       "      <th></th>\n",
       "      <th></th>\n",
       "      <th></th>\n",
       "      <th></th>\n",
       "    </tr>\n",
       "  </thead>\n",
       "  <tbody>\n",
       "    <tr>\n",
       "      <th>18594</th>\n",
       "      <td>Laura Callahan</td>\n",
       "      <td>AMERICAS</td>\n",
       "      <td>USA</td>\n",
       "      <td>Seattle</td>\n",
       "    </tr>\n",
       "    <tr>\n",
       "      <th>18637</th>\n",
       "      <td>Andrew Fuller</td>\n",
       "      <td>AMERICAS</td>\n",
       "      <td>USA</td>\n",
       "      <td>Tacoma</td>\n",
       "    </tr>\n",
       "    <tr>\n",
       "      <th>12344</th>\n",
       "      <td>Paul Henry</td>\n",
       "      <td>EMEA</td>\n",
       "      <td>FR</td>\n",
       "      <td>Paris</td>\n",
       "    </tr>\n",
       "    <tr>\n",
       "      <th>18680</th>\n",
       "      <td>Robert King</td>\n",
       "      <td>EMEA</td>\n",
       "      <td>UK</td>\n",
       "      <td>London</td>\n",
       "    </tr>\n",
       "    <tr>\n",
       "      <th>12695</th>\n",
       "      <td>Louis Philippe</td>\n",
       "      <td>EMEA</td>\n",
       "      <td>FR</td>\n",
       "      <td>Lyon</td>\n",
       "    </tr>\n",
       "  </tbody>\n",
       "</table>\n",
       "</div>"
      ],
      "text/plain": [
       "              EmployeeName EmployeeZone EmployeeCountry EmployeeCity\n",
       "EmployeeId                                                          \n",
       "18594       Laura Callahan     AMERICAS             USA      Seattle\n",
       "18637        Andrew Fuller     AMERICAS             USA       Tacoma\n",
       "12344           Paul Henry         EMEA              FR        Paris\n",
       "18680          Robert King         EMEA              UK       London\n",
       "12695       Louis Philippe         EMEA              FR         Lyon"
      ]
     },
     "execution_count": 7,
     "metadata": {},
     "output_type": "execute_result"
    }
   ],
   "source": [
    "employees = session.read_csv(\n",
    "    \"s3://data.atoti.io/notebooks/hierarchies/data/Employees.csv\",\n",
    "    types={\n",
    "        \"EmployeeId\": tt.STRING,\n",
    "        \"EmployeeName\": tt.STRING,\n",
    "        \"EmployeeCountry\": tt.STRING,\n",
    "        \"EmployeeCity\": tt.STRING,\n",
    "    },\n",
    "    keys=[\"EmployeeId\"],\n",
    ")\n",
    "employees.head()"
   ]
  },
  {
   "cell_type": "markdown",
   "id": "6e277a6c-bf86-46d0-8c28-ab48986f8237",
   "metadata": {},
   "source": [
    "## Join tables and create cube\n",
    "\n",
    "Now that our data is loaded into Atoti tables and in the format that we want, we can join our tables together on their common keys and create our Atoti cube."
   ]
  },
  {
   "cell_type": "code",
   "execution_count": 8,
   "id": "63f8f654-b769-4362-ac4c-5470c22d27b2",
   "metadata": {},
   "outputs": [],
   "source": [
    "# Join tables\n",
    "orders.join(products, orders[\"ProductId\"] == products[\"ProductId\"])\n",
    "orders.join(employees, orders[\"EmployeeId\"] == employees[\"EmployeeId\"])\n",
    "orders.join(customers, orders[\"CustomerId\"] == customers[\"CustomerId\"])\n",
    "orders.join(shippers, orders[\"ShipperName\"] == shippers[\"ShipperName\"])"
   ]
  },
  {
   "cell_type": "code",
   "execution_count": 9,
   "id": "b5f9b569-eaa7-4b41-8a36-071f6970444a",
   "metadata": {},
   "outputs": [],
   "source": [
    "# Create Cube from Atoti Table object\n",
    "cube = session.create_cube(orders)"
   ]
  },
  {
   "cell_type": "markdown",
   "id": "43c0ab89-5c1a-4546-8d4a-942ee8dc8708",
   "metadata": {},
   "source": [
    "## Analyze the Atoti cube\n",
    "\n",
    "Now that the data has been loaded into the cube, we'll want to examine the data model of the cube to confirm that the columns and data types match up to what we expect. In addition, we can view the hierarchies, levels, and measures for our cube by assigning them to variables."
   ]
  },
  {
   "cell_type": "code",
   "execution_count": 10,
   "id": "eaf46e7c-2501-462b-82a1-107e74e497f7",
   "metadata": {},
   "outputs": [
    {
     "data": {
      "text/markdown": [
       "```mermaid\n",
       "erDiagram\n",
       "  \"Orders\" {\n",
       "    _ String PK \"OrderId\"\n",
       "    _ LocalDate \"OrderDate\"\n",
       "    nullable int \"QuantitySold\"\n",
       "    nullable double \"SellingPricePerUnit\"\n",
       "    _ String \"ShipperName\"\n",
       "    _ String \"ProductId\"\n",
       "    _ String \"EmployeeId\"\n",
       "    _ String \"CustomerId\"\n",
       "  }\n",
       "  \"Products\" {\n",
       "    _ String PK \"ProductId\"\n",
       "    _ String \"ProductName\"\n",
       "    _ String \"ProductCategory\"\n",
       "    _ String \"Supplier\"\n",
       "    nullable double \"PurchasingPricePerUnit\"\n",
       "  }\n",
       "  \"Customers\" {\n",
       "    _ String PK \"CustomerId\"\n",
       "    _ String \"CompanyName\"\n",
       "    _ String \"Address\"\n",
       "    _ String \"City\"\n",
       "    _ String \"PostalCode\"\n",
       "    _ String \"Region\"\n",
       "    _ String \"Country\"\n",
       "    _ String \"Subregion\"\n",
       "    _ String \"Phone\"\n",
       "    _ String \"PostCode\"\n",
       "  }\n",
       "  \"Shippers\" {\n",
       "    _ String \"ShipperName\"\n",
       "    _ String \"Contact\"\n",
       "  }\n",
       "  \"Employees\" {\n",
       "    _ String PK \"EmployeeId\"\n",
       "    _ String \"EmployeeName\"\n",
       "    _ String \"EmployeeZone\"\n",
       "    _ String \"EmployeeCountry\"\n",
       "    _ String \"EmployeeCity\"\n",
       "  }\n",
       "  \"Orders\" }o--o| \"Customers\" : \"`CustomerId` == `CustomerId`\"\n",
       "  \"Orders\" }o--o| \"Employees\" : \"`EmployeeId` == `EmployeeId`\"\n",
       "  \"Orders\" }o--o| \"Products\" : \"`ProductId` == `ProductId`\"\n",
       "  \"Orders\" }o--o| \"Shippers\" : \"`ShipperName` == `ShipperName`\"\n",
       "```\n"
      ],
      "text/plain": [
       "erDiagram\n",
       "  \"Orders\" {\n",
       "    _ String PK \"OrderId\"\n",
       "    _ LocalDate \"OrderDate\"\n",
       "    nullable int \"QuantitySold\"\n",
       "    nullable double \"SellingPricePerUnit\"\n",
       "    _ String \"ShipperName\"\n",
       "    _ String \"ProductId\"\n",
       "    _ String \"EmployeeId\"\n",
       "    _ String \"CustomerId\"\n",
       "  }\n",
       "  \"Products\" {\n",
       "    _ String PK \"ProductId\"\n",
       "    _ String \"ProductName\"\n",
       "    _ String \"ProductCategory\"\n",
       "    _ String \"Supplier\"\n",
       "    nullable double \"PurchasingPricePerUnit\"\n",
       "  }\n",
       "  \"Customers\" {\n",
       "    _ String PK \"CustomerId\"\n",
       "    _ String \"CompanyName\"\n",
       "    _ String \"Address\"\n",
       "    _ String \"City\"\n",
       "    _ String \"PostalCode\"\n",
       "    _ String \"Region\"\n",
       "    _ String \"Country\"\n",
       "    _ String \"Subregion\"\n",
       "    _ String \"Phone\"\n",
       "    _ String \"PostCode\"\n",
       "  }\n",
       "  \"Shippers\" {\n",
       "    _ String \"ShipperName\"\n",
       "    _ String \"Contact\"\n",
       "  }\n",
       "  \"Employees\" {\n",
       "    _ String PK \"EmployeeId\"\n",
       "    _ String \"EmployeeName\"\n",
       "    _ String \"EmployeeZone\"\n",
       "    _ String \"EmployeeCountry\"\n",
       "    _ String \"EmployeeCity\"\n",
       "  }\n",
       "  \"Orders\" }o--o| \"Customers\" : \"`CustomerId` == `CustomerId`\"\n",
       "  \"Orders\" }o--o| \"Employees\" : \"`EmployeeId` == `EmployeeId`\"\n",
       "  \"Orders\" }o--o| \"Products\" : \"`ProductId` == `ProductId`\"\n",
       "  \"Orders\" }o--o| \"Shippers\" : \"`ShipperName` == `ShipperName`\""
      ]
     },
     "execution_count": 10,
     "metadata": {},
     "output_type": "execute_result"
    }
   ],
   "source": [
    "# View the schema of the data model\n",
    "session.tables.schema"
   ]
  },
  {
   "cell_type": "code",
   "execution_count": 11,
   "id": "9d3894be-2af4-4a75-a091-7a060bc403f5",
   "metadata": {},
   "outputs": [],
   "source": [
    "# Set variables for hierarchies, levels, and measures\n",
    "h, l, m = cube.hierarchies, cube.levels, cube.measures"
   ]
  },
  {
   "cell_type": "markdown",
   "id": "5e262b11-8c22-4ba2-9795-b6cf03d753b1",
   "metadata": {},
   "source": [
    "## Viewing hierarchies\n",
    "\n",
    "Because this walk through will mainly be focusing on hierarchies, let's view the hierarchies for the data model by printing the list of hierarchies based on the variable that we assigned.\n",
    "\n",
    "We can see that each hierarchy is categorized under dimensions, which derive from the Atoti tables that we loaded, and each hierarchy has its own set of levels (starting with a 0-based index).\n",
    "\n",
    "💡 **Note**: Hierarchies can have [multiple levels](https://docs.atoti.io/latest/getting_started/tutorial/tutorial.html#Multilevel-hierarchies), which we will show [later in this notebook](#Using-Multi-Level-Hierarchies)."
   ]
  },
  {
   "cell_type": "code",
   "execution_count": 12,
   "id": "d62e8940-8ae1-4bb0-afa6-3425471f65ef",
   "metadata": {},
   "outputs": [
    {
     "data": {
      "application/json": {
       "Customers": {
        "Address": [
         "Address"
        ],
        "City": [
         "City"
        ],
        "CompanyName": [
         "CompanyName"
        ],
        "Country": [
         "Country"
        ],
        "Phone": [
         "Phone"
        ],
        "PostCode": [
         "PostCode"
        ],
        "PostalCode": [
         "PostalCode"
        ],
        "Region": [
         "Region"
        ],
        "Subregion": [
         "Subregion"
        ]
       },
       "Employees": {
        "EmployeeCity": [
         "EmployeeCity"
        ],
        "EmployeeCountry": [
         "EmployeeCountry"
        ],
        "EmployeeName": [
         "EmployeeName"
        ],
        "EmployeeZone": [
         "EmployeeZone"
        ]
       },
       "Orders": {
        "CustomerId": [
         "CustomerId"
        ],
        "EmployeeId": [
         "EmployeeId"
        ],
        "OrderDate": [
         "OrderDate"
        ],
        "OrderId": [
         "OrderId"
        ],
        "ProductId": [
         "ProductId"
        ],
        "ShipperName": [
         "ShipperName"
        ]
       },
       "Products": {
        "ProductCategory": [
         "ProductCategory"
        ],
        "ProductName": [
         "ProductName"
        ],
        "Supplier": [
         "Supplier"
        ]
       },
       "Shippers": {
        "Contact": [
         "Contact"
        ]
       }
      },
      "text/html": [
       "<ul>\n",
       "<li>Dimensions\n",
       "  <ul>\n",
       "  <li>Customers\n",
       "    <ul>\n",
       "    <li>Address\n",
       "      <ol>\n",
       "      <li>Address</li>\n",
       "      </ol>    </li>\n",
       "    <li>City\n",
       "      <ol>\n",
       "      <li>City</li>\n",
       "      </ol>    </li>\n",
       "    <li>CompanyName\n",
       "      <ol>\n",
       "      <li>CompanyName</li>\n",
       "      </ol>    </li>\n",
       "    <li>Country\n",
       "      <ol>\n",
       "      <li>Country</li>\n",
       "      </ol>    </li>\n",
       "    <li>Phone\n",
       "      <ol>\n",
       "      <li>Phone</li>\n",
       "      </ol>    </li>\n",
       "    <li>PostCode\n",
       "      <ol>\n",
       "      <li>PostCode</li>\n",
       "      </ol>    </li>\n",
       "    <li>PostalCode\n",
       "      <ol>\n",
       "      <li>PostalCode</li>\n",
       "      </ol>    </li>\n",
       "    <li>Region\n",
       "      <ol>\n",
       "      <li>Region</li>\n",
       "      </ol>    </li>\n",
       "    <li>Subregion\n",
       "      <ol>\n",
       "      <li>Subregion</li>\n",
       "      </ol>    </li>\n",
       "    </ul>\n",
       "  </li>\n",
       "  <li>Employees\n",
       "    <ul>\n",
       "    <li>EmployeeCity\n",
       "      <ol>\n",
       "      <li>EmployeeCity</li>\n",
       "      </ol>    </li>\n",
       "    <li>EmployeeCountry\n",
       "      <ol>\n",
       "      <li>EmployeeCountry</li>\n",
       "      </ol>    </li>\n",
       "    <li>EmployeeName\n",
       "      <ol>\n",
       "      <li>EmployeeName</li>\n",
       "      </ol>    </li>\n",
       "    <li>EmployeeZone\n",
       "      <ol>\n",
       "      <li>EmployeeZone</li>\n",
       "      </ol>    </li>\n",
       "    </ul>\n",
       "  </li>\n",
       "  <li>Orders\n",
       "    <ul>\n",
       "    <li>CustomerId\n",
       "      <ol>\n",
       "      <li>CustomerId</li>\n",
       "      </ol>    </li>\n",
       "    <li>EmployeeId\n",
       "      <ol>\n",
       "      <li>EmployeeId</li>\n",
       "      </ol>    </li>\n",
       "    <li>OrderDate\n",
       "      <ol>\n",
       "      <li>OrderDate</li>\n",
       "      </ol>    </li>\n",
       "    <li>OrderId\n",
       "      <ol>\n",
       "      <li>OrderId</li>\n",
       "      </ol>    </li>\n",
       "    <li>ProductId\n",
       "      <ol>\n",
       "      <li>ProductId</li>\n",
       "      </ol>    </li>\n",
       "    <li>ShipperName\n",
       "      <ol>\n",
       "      <li>ShipperName</li>\n",
       "      </ol>    </li>\n",
       "    </ul>\n",
       "  </li>\n",
       "  <li>Products\n",
       "    <ul>\n",
       "    <li>ProductCategory\n",
       "      <ol>\n",
       "      <li>ProductCategory</li>\n",
       "      </ol>    </li>\n",
       "    <li>ProductName\n",
       "      <ol>\n",
       "      <li>ProductName</li>\n",
       "      </ol>    </li>\n",
       "    <li>Supplier\n",
       "      <ol>\n",
       "      <li>Supplier</li>\n",
       "      </ol>    </li>\n",
       "    </ul>\n",
       "  </li>\n",
       "  <li>Shippers\n",
       "    <ul>\n",
       "    <li>Contact\n",
       "      <ol>\n",
       "      <li>Contact</li>\n",
       "      </ol>    </li>\n",
       "    </ul>\n",
       "  </li>\n",
       "  </ul>\n",
       "</li>\n",
       "</ul>\n"
      ],
      "text/plain": [
       "{('Products', 'Supplier'): <atoti.hierarchy.Hierarchy object at 0x131f4b990>, ('Orders', 'OrderDate'): <atoti.hierarchy.Hierarchy object at 0x131f4bdd0>, ('Orders', 'ProductId'): <atoti.hierarchy.Hierarchy object at 0x131f4bc10>, ('Products', 'ProductName'): <atoti.hierarchy.Hierarchy object at 0x131f4a610>, ('Customers', 'Phone'): <atoti.hierarchy.Hierarchy object at 0x131f4ab50>, ('Customers', 'Address'): <atoti.hierarchy.Hierarchy object at 0x131f4abd0>, ('Customers', 'Region'): <atoti.hierarchy.Hierarchy object at 0x131f4a410>, ('Shippers', 'Contact'): <atoti.hierarchy.Hierarchy object at 0x131f4af90>, ('Orders', 'EmployeeId'): <atoti.hierarchy.Hierarchy object at 0x131f4a450>, ('Customers', 'PostCode'): <atoti.hierarchy.Hierarchy object at 0x131f49d90>, ('Employees', 'EmployeeCountry'): <atoti.hierarchy.Hierarchy object at 0x131f49d10>, ('Products', 'ProductCategory'): <atoti.hierarchy.Hierarchy object at 0x131efbdd0>, ('Customers', 'PostalCode'): <atoti.hierarchy.Hierarchy object at 0x131f780d0>, ('Customers', 'Subregion'): <atoti.hierarchy.Hierarchy object at 0x131f78650>, ('Orders', 'CustomerId'): <atoti.hierarchy.Hierarchy object at 0x131f78250>, ('Employees', 'EmployeeCity'): <atoti.hierarchy.Hierarchy object at 0x131f78510>, ('Customers', 'Country'): <atoti.hierarchy.Hierarchy object at 0x131f78450>, ('Orders', 'OrderId'): <atoti.hierarchy.Hierarchy object at 0x131f7ab10>, ('Customers', 'CompanyName'): <atoti.hierarchy.Hierarchy object at 0x131f7b410>, ('Orders', 'ShipperName'): <atoti.hierarchy.Hierarchy object at 0x131f93b90>, ('Employees', 'EmployeeName'): <atoti.hierarchy.Hierarchy object at 0x131f93c50>, ('Employees', 'EmployeeZone'): <atoti.hierarchy.Hierarchy object at 0x131f93910>, ('Customers', 'City'): <atoti.hierarchy.Hierarchy object at 0x131f937d0>}"
      ]
     },
     "execution_count": 12,
     "metadata": {
      "application/json": {
       "expanded": true,
       "root": "Dimensions"
      }
     },
     "output_type": "execute_result"
    }
   ],
   "source": [
    "h"
   ]
  },
  {
   "cell_type": "markdown",
   "id": "ae8d18f7-bfde-45f4-b286-20f4d3393cc4",
   "metadata": {},
   "source": [
    "## Hierarchy basics\n",
    "\n",
    "Now that we have our cube up and running and have checked the hierarchies present in the cube, let's use `session.widget` to open up an Atoti JupyterLab extension connected to our cube, and investigate the quantity sold per product.\n",
    "\n",
    "Here we can use the `ProductId` hierarchy and the `QuantitySold.SUM` measure to perform this operation in Atoti.\n",
    "\n",
    "💡 **Note**: You may also use `session.link` to perform the same investigation within the Atoti UI; however, for the purposes of this walk through, we've elected to use `session.widget` so that we can show our analysis directly within this Jupyter notebook."
   ]
  },
  {
   "cell_type": "code",
   "execution_count": 13,
   "id": "a6e27eef-7e31-4eb3-a836-00c80b66d2bb",
   "metadata": {
    "atoti": {
     "widget": {
      "mapping": {
       "columns": [
        "ALL_MEASURES"
       ],
       "measures": [
        "[Measures].[QuantitySold.SUM]"
       ],
       "rows": [
        "[Orders].[ProductId].[ProductId]"
       ]
      },
      "query": {
       "mdx": "SELECT NON EMPTY {[Measures].[QuantitySold.SUM]} ON COLUMNS, NON EMPTY Hierarchize(Descendants({[Orders].[ProductId].[ALL].[AllMember]}, 1, SELF_AND_BEFORE)) ON ROWS FROM [Orders] CELL PROPERTIES VALUE, FORMATTED_VALUE, BACK_COLOR, FORE_COLOR, FONT_FLAGS",
       "updateMode": "once"
      },
      "serverKey": "default",
      "widgetKey": "pivot-table"
     }
    }
   },
   "outputs": [
    {
     "data": {
      "application/vnd.atoti.widget.v0+json": {
       "sessionId": "1715028786_349WG0",
       "sessionLocation": {
        "https": false,
        "port": 9092
       },
       "widgetCreationCode": "session.widget"
      },
      "text/html": [
       "<img height=\"0\" width=\"0\" src=\"data:,AAAAAAAAAAAAAAAAAAAAAAAAAAAAAAAAAAAAAAAAAAAAAAAACXBIWXMAABqTAAAakwH55E62\" />"
      ],
      "text/plain": [
       "Open the notebook in JupyterLab with the Atoti JupyterLab extension enabled to build this widget."
      ]
     },
     "metadata": {},
     "output_type": "display_data"
    }
   ],
   "source": [
    "session.widget"
   ]
  },
  {
   "cell_type": "markdown",
   "id": "d4b9f75b-f15c-47c8-b38c-c4cac187dc99",
   "metadata": {},
   "source": [
    "But perhaps we also want to know the particular customers that bought each product, along with the quantity sold per product and customer. With Atoti, this is as simple as adding another hierarchy, `CustomerId`, to our analysis to further slice-and-dice our data. As we can see, the total for the `QuantitySold.SUM` measure stays the same at `212,034`, but we can drill down to see a more granular breakdown."
   ]
  },
  {
   "cell_type": "code",
   "execution_count": 14,
   "id": "3373f187-d416-42f7-b4ee-508a0670f6ff",
   "metadata": {
    "atoti": {
     "widget": {
      "mapping": {
       "columns": [
        "ALL_MEASURES"
       ],
       "measures": [
        "[Measures].[QuantitySold.SUM]"
       ],
       "rows": [
        "[Orders].[ProductId].[ProductId]",
        "[Orders].[CustomerId].[CustomerId]"
       ]
      },
      "query": {
       "mdx": "SELECT NON EMPTY Crossjoin(Hierarchize(Descendants({[Orders].[ProductId].[ALL].[AllMember]}, 1, SELF_AND_BEFORE)), Hierarchize(Descendants({[Orders].[CustomerId].[ALL].[AllMember]}, 1, SELF_AND_BEFORE))) ON ROWS, NON EMPTY {[Measures].[QuantitySold.SUM]} ON COLUMNS FROM [Orders] CELL PROPERTIES VALUE, FORMATTED_VALUE, BACK_COLOR, FORE_COLOR, FONT_FLAGS",
       "updateMode": "once"
      },
      "serverKey": "default",
      "widgetKey": "pivot-table"
     }
    }
   },
   "outputs": [
    {
     "data": {
      "application/vnd.atoti.widget.v0+json": {
       "sessionId": "1715028786_349WG0",
       "sessionLocation": {
        "https": false,
        "port": 9092
       },
       "widgetCreationCode": "session.widget"
      },
      "text/html": [
       "<img height=\"0\" width=\"0\" src=\"data:,AAAAAAAAAAAAAAAAAAAAAAAAAAAAAAAAAAAAAAAAAAAAAAAACXBIWXMAABqTAAAakwH55E62\" />"
      ],
      "text/plain": [
       "Open the notebook in JupyterLab with the Atoti JupyterLab extension enabled to build this widget."
      ]
     },
     "metadata": {},
     "output_type": "display_data"
    }
   ],
   "source": [
    "session.widget"
   ]
  },
  {
   "cell_type": "markdown",
   "id": "a846a879-9a01-483c-af02-e2d9ccafff53",
   "metadata": {},
   "source": [
    "## Using multi-level hierarchies\n",
    "\n",
    "As we mentioned previously, our hierarchies in the cube currently have one level each, but sometimes there are parent-child relationships that we want to logically group together in Atoti to exemplify these relationships. For example, there is a parent-child relationship between our `ProductCategory` (parent) and `ProductId` (child) hierarchies, as each individual product falls within the umbrella of a higher-level product category.\n",
    "\n",
    "We can create a new `Product` multi-level hierarchy that uses the underlying levels for the `ProductCategory` and `ProductId` hierarchies."
   ]
  },
  {
   "cell_type": "code",
   "execution_count": 15,
   "id": "319f07dd-c14b-47f6-b5d2-a0035f8ecfac",
   "metadata": {},
   "outputs": [],
   "source": [
    "h[\"Product\"] = [l[\"ProductCategory\"], l[\"ProductId\"]]"
   ]
  },
  {
   "cell_type": "markdown",
   "id": "9996b6b8-aa14-4f96-8407-00236551bfef",
   "metadata": {},
   "source": [
    "As a best practice, we should also clean up the associated single-level hierarchies to avoid redundancy."
   ]
  },
  {
   "cell_type": "code",
   "execution_count": 16,
   "id": "48c65092-6f22-4c1d-ba27-dd13bbfe742b",
   "metadata": {},
   "outputs": [],
   "source": [
    "# # We've commented this cell to avoid disrupting the\n",
    "# # upstream widgets that depend on these hierarchies.\n",
    "# # Uncomment this cell and execute to delete the hierarchies.\n",
    "# del h['ProductCategory']\n",
    "# del h['ProductId']"
   ]
  },
  {
   "cell_type": "markdown",
   "id": "14630db6-58c4-4c36-8ca2-f7fb4e27086c",
   "metadata": {},
   "source": [
    "When we take a look back at our list of hierarchies, either in the Atoti JupyterLab extension or the Atoti UI, we can now see our new multi-level hierarchy `Product` with a drop-down to represent it's underlying (multiple) levels."
   ]
  },
  {
   "cell_type": "markdown",
   "id": "81d07b31-5088-4ed5-bf37-625666105509",
   "metadata": {},
   "source": [
    "![multi-level-hierarchies](https://data.atoti.io/notebooks/hierarchies/images/multi-level-hierarchies.png)"
   ]
  },
  {
   "cell_type": "markdown",
   "id": "53ee0f3f-a719-4e2f-b46c-ed130028f49d",
   "metadata": {},
   "source": [
    "\n",
    "And if we now use the `Product` hierarchy in our analysis, we get a breakdown of our data for `QuantitySold.SUM` by associated product categories and product IDs."
   ]
  },
  {
   "cell_type": "code",
   "execution_count": 17,
   "id": "880613aa-4820-4948-a869-ea4a1f29c42f",
   "metadata": {
    "atoti": {
     "widget": {
      "mapping": {
       "columns": [
        "ALL_MEASURES"
       ],
       "measures": [
        "[Measures].[QuantitySold.SUM]"
       ],
       "rows": [
        "[Products].[Product].[ProductCategory] => [Products].[Product].[ProductId]"
       ]
      },
      "query": {
       "mdx": "SELECT NON EMPTY {[Measures].[QuantitySold.SUM]} ON COLUMNS, NON EMPTY Hierarchize(Union(Descendants({[Products].[Product].[ALL].[AllMember]}, 1, SELF_AND_BEFORE), Descendants({[Products].[Product].[ALL].[AllMember].[Beverages]}, [Products].[Product].[ProductId]))) DIMENSION PROPERTIES CHILDREN_CARDINALITY ON ROWS FROM [Orders] CELL PROPERTIES VALUE, FORMATTED_VALUE, BACK_COLOR, FORE_COLOR, FONT_FLAGS",
       "updateMode": "once"
      },
      "serverKey": "default",
      "widgetKey": "pivot-table"
     }
    }
   },
   "outputs": [
    {
     "data": {
      "application/vnd.atoti.widget.v0+json": {
       "sessionId": "1715028786_349WG0",
       "sessionLocation": {
        "https": false,
        "port": 9092
       },
       "widgetCreationCode": "session.widget"
      },
      "text/html": [
       "<img height=\"0\" width=\"0\" src=\"data:,AAAAAAAAAAAAAAAAAAAAAAAAAAAAAAAAAAAAAAAAAAAAAAAACXBIWXMAABqTAAAakwH55E62\" />"
      ],
      "text/plain": [
       "Open the notebook in JupyterLab with the Atoti JupyterLab extension enabled to build this widget."
      ]
     },
     "metadata": {},
     "output_type": "display_data"
    }
   ],
   "source": [
    "session.widget"
   ]
  },
  {
   "cell_type": "markdown",
   "id": "9bed5d43-5218-4cb5-98ac-2decfeb1fbd1",
   "metadata": {},
   "source": [
    "## Multi-level date hierarchies"
   ]
  },
  {
   "cell_type": "markdown",
   "id": "dba93e15-8cff-43cb-876c-e92dd4cbfec4",
   "metadata": {},
   "source": [
    "One of the most common use cases for creating multi-level hierarchies is when dealing with dates. For example, perhaps we want to have a multi-level `OrderDate` hierarchy that shows the breakdown for each corresponding year, quarter, month, day, and so on.\n",
    "\n",
    "As of right now, our single-level `OrderDate` hierarchy can only drill-down to the fully qualified date as shown. "
   ]
  },
  {
   "cell_type": "code",
   "execution_count": 18,
   "id": "90362201-e1de-4a71-b979-ddf767a5c984",
   "metadata": {
    "atoti": {
     "widget": {
      "mapping": {
       "columns": [
        "ALL_MEASURES"
       ],
       "measures": [
        "[Measures].[QuantitySold.SUM]"
       ],
       "rows": [
        "[Orders].[OrderDate].[OrderDate]"
       ]
      },
      "query": {
       "mdx": "SELECT NON EMPTY Hierarchize(Descendants({[Orders].[OrderDate].[ALL].[AllMember]}, 1, SELF_AND_BEFORE)) ON ROWS, NON EMPTY {[Measures].[QuantitySold.SUM]} ON COLUMNS FROM [Orders] CELL PROPERTIES VALUE, FORMATTED_VALUE, BACK_COLOR, FORE_COLOR, FONT_FLAGS",
       "updateMode": "once"
      },
      "serverKey": "default",
      "widgetKey": "pivot-table"
     }
    }
   },
   "outputs": [
    {
     "data": {
      "application/vnd.atoti.widget.v0+json": {
       "sessionId": "1715028786_349WG0",
       "sessionLocation": {
        "https": false,
        "port": 9092
       },
       "widgetCreationCode": "session.widget"
      },
      "text/html": [
       "<img height=\"0\" width=\"0\" src=\"data:,AAAAAAAAAAAAAAAAAAAAAAAAAAAAAAAAAAAAAAAAAAAAAAAACXBIWXMAABqTAAAakwH55E62\" />"
      ],
      "text/plain": [
       "Open the notebook in JupyterLab with the Atoti JupyterLab extension enabled to build this widget."
      ]
     },
     "metadata": {},
     "output_type": "display_data"
    }
   ],
   "source": [
    "session.widget"
   ]
  },
  {
   "cell_type": "markdown",
   "id": "f669d049-9d03-4ac8-93ee-943cb5481968",
   "metadata": {},
   "source": [
    "But if we create a multi-level `OrderDate` hierarchy, we can then show the breakdown for each corresponding year, quarter, month, and day.\n",
    "\n",
    "💡 **Note**: https://docs.atoti.io/latest/api/atoti.Cube.create_date_hierarchy.html#atoti.Cube.create_date_hierarchy"
   ]
  },
  {
   "cell_type": "code",
   "execution_count": 19,
   "id": "3f9ebeeb-05fe-41c1-ac6d-837feb27fa8e",
   "metadata": {},
   "outputs": [],
   "source": [
    "# Create a multi-level date hierarchy\n",
    "cube.create_date_hierarchy(\n",
    "    \"Multi-level Date\",\n",
    "    column=orders[\"OrderDate\"],\n",
    "    levels={\"Year\": \"yyyy\", \"Quarter\": \"QQQ\", \"Month\": \"MMM\", \"Day\": \"dd\"},\n",
    ")"
   ]
  },
  {
   "cell_type": "code",
   "execution_count": 20,
   "id": "9415cce6-4dfe-4620-b7b8-70a9281a95e6",
   "metadata": {},
   "outputs": [],
   "source": [
    "# # We've commented this cell to avoid disrupting the\n",
    "# # upstream widgets that depend on these hierarchies.\n",
    "# # Uncomment this cell and execute to delete the hierarchies.\n",
    "# del h['OrderDate']"
   ]
  },
  {
   "cell_type": "code",
   "execution_count": 21,
   "id": "ab7e444f-358a-45de-9c8f-60988edaa137",
   "metadata": {
    "atoti": {
     "widget": {
      "mapping": {
       "columns": [
        "ALL_MEASURES"
       ],
       "measures": [
        "[Measures].[QuantitySold.SUM]"
       ],
       "rows": [
        "[Orders].[Multi-level Date].[Day]"
       ]
      },
      "query": {
       "mdx": "SELECT NON EMPTY Hierarchize(Descendants({[Orders].[Multi-level Date].[ALL].[AllMember]}, 4, SELF_AND_BEFORE)) DIMENSION PROPERTIES CHILDREN_CARDINALITY ON ROWS, NON EMPTY {[Measures].[QuantitySold.SUM]} ON COLUMNS FROM [Orders] CELL PROPERTIES VALUE, FORMATTED_VALUE, BACK_COLOR, FORE_COLOR, FONT_FLAGS",
       "updateMode": "once"
      },
      "serverKey": "default",
      "widgetKey": "pivot-table"
     }
    }
   },
   "outputs": [
    {
     "data": {
      "application/vnd.atoti.widget.v0+json": {
       "sessionId": "1715028786_349WG0",
       "sessionLocation": {
        "https": false,
        "port": 9092
       },
       "widgetCreationCode": "session.widget"
      },
      "text/html": [
       "<img height=\"0\" width=\"0\" src=\"data:,AAAAAAAAAAAAAAAAAAAAAAAAAAAAAAAAAAAAAAAAAAAAAAAACXBIWXMAABqTAAAakwH55E62\" />"
      ],
      "text/plain": [
       "Open the notebook in JupyterLab with the Atoti JupyterLab extension enabled to build this widget."
      ]
     },
     "metadata": {},
     "output_type": "display_data"
    }
   ],
   "source": [
    "session.widget"
   ]
  },
  {
   "cell_type": "markdown",
   "id": "a69c6a34-4f17-4dc2-a325-5c8cc8145652",
   "metadata": {},
   "source": [
    "## Using hierarchy properties and functions\n",
    "\n",
    "Each hierarchy is an object of the [atoti.Hierarchy](https://docs.atoti.io/latest/api/atoti.Hierarchy.html#atoti.Hierarchy) class. This means that we are able to interact with and manipulate hierarchies using their associated class properties and functions. Let's focus on using some of the more basic properties and functions."
   ]
  },
  {
   "cell_type": "markdown",
   "id": "10ea66d5-13cc-4855-9849-acb1cb9dc2f0",
   "metadata": {},
   "source": [
    "### Basic hierarchy properties and functions"
   ]
  },
  {
   "cell_type": "markdown",
   "id": "a6e66793-aa26-4a3b-a6c6-9f00c04d1585",
   "metadata": {},
   "source": [
    "#### `Hierarchy.dimension`\n",
    "\n",
    "We can use the `dimension` property of a Hierarchy object to determine its parent dimension. For example, we can call the `dimension` property of the `Address` hierarchy to determine that its parent dimension is `Customers`. "
   ]
  },
  {
   "cell_type": "code",
   "execution_count": 22,
   "id": "0a98f4be-4776-410f-b3e5-f1caecef40d7",
   "metadata": {},
   "outputs": [
    {
     "data": {
      "text/plain": [
       "'Customers'"
      ]
     },
     "execution_count": 22,
     "metadata": {},
     "output_type": "execute_result"
    }
   ],
   "source": [
    "h[\"Address\"].dimension"
   ]
  },
  {
   "cell_type": "markdown",
   "id": "ba520c84-c760-4e11-ae6c-41dbdeaa80ab",
   "metadata": {},
   "source": [
    "#### `Hierarchy.name`"
   ]
  },
  {
   "cell_type": "markdown",
   "id": "123230b5-c9b8-4ad5-a43b-ce5ca530a51f",
   "metadata": {},
   "source": [
    "The `name` property will output the name of the hierarchy like so:"
   ]
  },
  {
   "cell_type": "code",
   "execution_count": 23,
   "id": "be0e7632-92f9-48e3-a1b6-92a111a03262",
   "metadata": {},
   "outputs": [
    {
     "data": {
      "text/plain": [
       "'Address'"
      ]
     },
     "execution_count": 23,
     "metadata": {},
     "output_type": "execute_result"
    }
   ],
   "source": [
    "h[\"Address\"].name"
   ]
  },
  {
   "cell_type": "markdown",
   "id": "1ffbe252-9b8b-46e5-80fb-197b0f64e1df",
   "metadata": {},
   "source": [
    "Though this is a bit redundant when we already know the name of the hierarchy. Therefore, using the `name` property may be more helpful when trying to execute a `for` loop to iterate over all hierarchies in an Atoti data model, where we may want the colloquial hierarchy name rather than the fully qualified one (with both the dimension and hierarchy listed)."
   ]
  },
  {
   "cell_type": "code",
   "execution_count": 24,
   "id": "560cc096-3bdc-4799-9c3c-0cd1fb1f9302",
   "metadata": {},
   "outputs": [
    {
     "name": "stdout",
     "output_type": "stream",
     "text": [
      "('Products', 'ProductName')\n",
      "('Customers', 'PostCode')\n",
      "('Employees', 'EmployeeCountry')\n",
      "('Customers', 'PostalCode')\n",
      "('Customers', 'Subregion')\n",
      "('Employees', 'EmployeeCity')\n",
      "('Customers', 'Country')\n",
      "('Orders', 'OrderId')\n",
      "('Orders', 'ShipperName')\n",
      "('Employees', 'EmployeeZone')\n",
      "('Products', 'Supplier')\n",
      "('Orders', 'OrderDate')\n",
      "('Orders', 'ProductId')\n",
      "('Customers', 'Phone')\n",
      "('Customers', 'Address')\n",
      "('Customers', 'Region')\n",
      "('Orders', 'Multi-level Date')\n",
      "('Shippers', 'Contact')\n",
      "('Orders', 'EmployeeId')\n",
      "('Products', 'ProductCategory')\n",
      "('Orders', 'CustomerId')\n",
      "('Products', 'Product')\n",
      "('Customers', 'CompanyName')\n",
      "('Employees', 'EmployeeName')\n",
      "('Customers', 'City')\n"
     ]
    }
   ],
   "source": [
    "for key in h.keys():\n",
    "    print(key)"
   ]
  },
  {
   "cell_type": "code",
   "execution_count": 25,
   "id": "745087f5-b41a-47d8-9f0f-2876a19aebad",
   "metadata": {},
   "outputs": [
    {
     "name": "stdout",
     "output_type": "stream",
     "text": [
      "ProductName\n",
      "PostCode\n",
      "EmployeeCountry\n",
      "PostalCode\n",
      "Subregion\n",
      "EmployeeCity\n",
      "Country\n",
      "OrderId\n",
      "ShipperName\n",
      "EmployeeZone\n",
      "Supplier\n",
      "OrderDate\n",
      "ProductId\n",
      "Phone\n",
      "Address\n",
      "Region\n",
      "Multi-level Date\n",
      "Contact\n",
      "EmployeeId\n",
      "ProductCategory\n",
      "CustomerId\n",
      "Product\n",
      "CompanyName\n",
      "EmployeeName\n",
      "City\n"
     ]
    }
   ],
   "source": [
    "for key in h.keys():\n",
    "    print(h[key].name)"
   ]
  },
  {
   "cell_type": "markdown",
   "id": "0909f55a-78f5-4f3b-b0e8-c6bd17af3e8e",
   "metadata": {},
   "source": [
    "#### `Hierarchy.levels`\n",
    "\n"
   ]
  },
  {
   "cell_type": "markdown",
   "id": "318ba333-e892-4bd4-8da7-f9d998f4564a",
   "metadata": {},
   "source": [
    "We can use the `levels` property to display the available levels for a particular hierarchy. For example, if we were to print the assigned variable that we used for `cube.levels`, this will show us all the available levels for the entire data model."
   ]
  },
  {
   "cell_type": "code",
   "execution_count": 26,
   "id": "826bfd55-e6d4-44d7-8b49-a1b5332539e9",
   "metadata": {},
   "outputs": [
    {
     "data": {
      "application/json": {
       "Address (Customers/Address/Address)": {
        "dimension": "Customers",
        "hierarchy": "Address",
        "order": "NaturalOrder",
        "type": "String"
       },
       "City (Customers/City/City)": {
        "dimension": "Customers",
        "hierarchy": "City",
        "order": "NaturalOrder",
        "type": "String"
       },
       "CompanyName (Customers/CompanyName/CompanyName)": {
        "dimension": "Customers",
        "hierarchy": "CompanyName",
        "order": "NaturalOrder",
        "type": "String"
       },
       "Contact (Shippers/Contact/Contact)": {
        "dimension": "Shippers",
        "hierarchy": "Contact",
        "order": "NaturalOrder",
        "type": "String"
       },
       "Country (Customers/Country/Country)": {
        "dimension": "Customers",
        "hierarchy": "Country",
        "order": "NaturalOrder",
        "type": "String"
       },
       "CustomerId (Orders/CustomerId/CustomerId)": {
        "dimension": "Orders",
        "hierarchy": "CustomerId",
        "order": "NaturalOrder",
        "type": "String"
       },
       "Day (Orders/Multi-level Date/Day)": {
        "dimension": "Orders",
        "hierarchy": "Multi-level Date",
        "order": "NaturalOrder",
        "type": "String"
       },
       "EmployeeCity (Employees/EmployeeCity/EmployeeCity)": {
        "dimension": "Employees",
        "hierarchy": "EmployeeCity",
        "order": "NaturalOrder",
        "type": "String"
       },
       "EmployeeCountry (Employees/EmployeeCountry/EmployeeCountry)": {
        "dimension": "Employees",
        "hierarchy": "EmployeeCountry",
        "order": "NaturalOrder",
        "type": "String"
       },
       "EmployeeId (Orders/EmployeeId/EmployeeId)": {
        "dimension": "Orders",
        "hierarchy": "EmployeeId",
        "order": "NaturalOrder",
        "type": "String"
       },
       "EmployeeName (Employees/EmployeeName/EmployeeName)": {
        "dimension": "Employees",
        "hierarchy": "EmployeeName",
        "order": "NaturalOrder",
        "type": "String"
       },
       "EmployeeZone (Employees/EmployeeZone/EmployeeZone)": {
        "dimension": "Employees",
        "hierarchy": "EmployeeZone",
        "order": "NaturalOrder",
        "type": "String"
       },
       "Month (Orders/Multi-level Date/Month)": {
        "dimension": "Orders",
        "hierarchy": "Multi-level Date",
        "order": "NaturalOrder",
        "type": "String"
       },
       "OrderDate (Orders/OrderDate/OrderDate)": {
        "dimension": "Orders",
        "hierarchy": "OrderDate",
        "order": "NaturalOrder",
        "type": "LocalDate"
       },
       "OrderId (Orders/OrderId/OrderId)": {
        "dimension": "Orders",
        "hierarchy": "OrderId",
        "order": "NaturalOrder",
        "type": "String"
       },
       "Phone (Customers/Phone/Phone)": {
        "dimension": "Customers",
        "hierarchy": "Phone",
        "order": "NaturalOrder",
        "type": "String"
       },
       "PostCode (Customers/PostCode/PostCode)": {
        "dimension": "Customers",
        "hierarchy": "PostCode",
        "order": "NaturalOrder",
        "type": "String"
       },
       "PostalCode (Customers/PostalCode/PostalCode)": {
        "dimension": "Customers",
        "hierarchy": "PostalCode",
        "order": "NaturalOrder",
        "type": "String"
       },
       "ProductCategory (Products/Product/ProductCategory)": {
        "dimension": "Products",
        "hierarchy": "Product",
        "order": "NaturalOrder",
        "type": "String"
       },
       "ProductCategory (Products/ProductCategory/ProductCategory)": {
        "dimension": "Products",
        "hierarchy": "ProductCategory",
        "order": "NaturalOrder",
        "type": "String"
       },
       "ProductId (Orders/ProductId/ProductId)": {
        "dimension": "Orders",
        "hierarchy": "ProductId",
        "order": "NaturalOrder",
        "type": "String"
       },
       "ProductId (Products/Product/ProductId)": {
        "dimension": "Products",
        "hierarchy": "Product",
        "order": "NaturalOrder",
        "type": "String"
       },
       "ProductName (Products/ProductName/ProductName)": {
        "dimension": "Products",
        "hierarchy": "ProductName",
        "order": "NaturalOrder",
        "type": "String"
       },
       "Quarter (Orders/Multi-level Date/Quarter)": {
        "dimension": "Orders",
        "hierarchy": "Multi-level Date",
        "order": "NaturalOrder",
        "type": "String"
       },
       "Region (Customers/Region/Region)": {
        "dimension": "Customers",
        "hierarchy": "Region",
        "order": "NaturalOrder",
        "type": "String"
       },
       "ShipperName (Orders/ShipperName/ShipperName)": {
        "dimension": "Orders",
        "hierarchy": "ShipperName",
        "order": "NaturalOrder",
        "type": "String"
       },
       "Subregion (Customers/Subregion/Subregion)": {
        "dimension": "Customers",
        "hierarchy": "Subregion",
        "order": "NaturalOrder",
        "type": "String"
       },
       "Supplier (Products/Supplier/Supplier)": {
        "dimension": "Products",
        "hierarchy": "Supplier",
        "order": "NaturalOrder",
        "type": "String"
       },
       "Year (Orders/Multi-level Date/Year)": {
        "dimension": "Orders",
        "hierarchy": "Multi-level Date",
        "order": "NaturalOrder",
        "type": "String"
       }
      },
      "text/html": [
       "<ul>\n",
       "<li>Levels\n",
       "  <ul>\n",
       "  <li>Address (Customers/Address/Address)\n",
       "    <ul>\n",
       "    <li>dimension: Customers</li>\n",
       "    <li>hierarchy: Address</li>\n",
       "    <li>type: String</li>\n",
       "    <li>order: NaturalOrder</li>\n",
       "    </ul>\n",
       "  </li>\n",
       "  <li>City (Customers/City/City)\n",
       "    <ul>\n",
       "    <li>dimension: Customers</li>\n",
       "    <li>hierarchy: City</li>\n",
       "    <li>type: String</li>\n",
       "    <li>order: NaturalOrder</li>\n",
       "    </ul>\n",
       "  </li>\n",
       "  <li>CompanyName (Customers/CompanyName/CompanyName)\n",
       "    <ul>\n",
       "    <li>dimension: Customers</li>\n",
       "    <li>hierarchy: CompanyName</li>\n",
       "    <li>type: String</li>\n",
       "    <li>order: NaturalOrder</li>\n",
       "    </ul>\n",
       "  </li>\n",
       "  <li>Contact (Shippers/Contact/Contact)\n",
       "    <ul>\n",
       "    <li>dimension: Shippers</li>\n",
       "    <li>hierarchy: Contact</li>\n",
       "    <li>type: String</li>\n",
       "    <li>order: NaturalOrder</li>\n",
       "    </ul>\n",
       "  </li>\n",
       "  <li>Country (Customers/Country/Country)\n",
       "    <ul>\n",
       "    <li>dimension: Customers</li>\n",
       "    <li>hierarchy: Country</li>\n",
       "    <li>type: String</li>\n",
       "    <li>order: NaturalOrder</li>\n",
       "    </ul>\n",
       "  </li>\n",
       "  <li>CustomerId (Orders/CustomerId/CustomerId)\n",
       "    <ul>\n",
       "    <li>dimension: Orders</li>\n",
       "    <li>hierarchy: CustomerId</li>\n",
       "    <li>type: String</li>\n",
       "    <li>order: NaturalOrder</li>\n",
       "    </ul>\n",
       "  </li>\n",
       "  <li>Day (Orders/Multi-level Date/Day)\n",
       "    <ul>\n",
       "    <li>dimension: Orders</li>\n",
       "    <li>hierarchy: Multi-level Date</li>\n",
       "    <li>type: String</li>\n",
       "    <li>order: NaturalOrder</li>\n",
       "    </ul>\n",
       "  </li>\n",
       "  <li>EmployeeCity (Employees/EmployeeCity/EmployeeCity)\n",
       "    <ul>\n",
       "    <li>dimension: Employees</li>\n",
       "    <li>hierarchy: EmployeeCity</li>\n",
       "    <li>type: String</li>\n",
       "    <li>order: NaturalOrder</li>\n",
       "    </ul>\n",
       "  </li>\n",
       "  <li>EmployeeCountry (Employees/EmployeeCountry/EmployeeCountry)\n",
       "    <ul>\n",
       "    <li>dimension: Employees</li>\n",
       "    <li>hierarchy: EmployeeCountry</li>\n",
       "    <li>type: String</li>\n",
       "    <li>order: NaturalOrder</li>\n",
       "    </ul>\n",
       "  </li>\n",
       "  <li>EmployeeId (Orders/EmployeeId/EmployeeId)\n",
       "    <ul>\n",
       "    <li>dimension: Orders</li>\n",
       "    <li>hierarchy: EmployeeId</li>\n",
       "    <li>type: String</li>\n",
       "    <li>order: NaturalOrder</li>\n",
       "    </ul>\n",
       "  </li>\n",
       "  <li>EmployeeName (Employees/EmployeeName/EmployeeName)\n",
       "    <ul>\n",
       "    <li>dimension: Employees</li>\n",
       "    <li>hierarchy: EmployeeName</li>\n",
       "    <li>type: String</li>\n",
       "    <li>order: NaturalOrder</li>\n",
       "    </ul>\n",
       "  </li>\n",
       "  <li>EmployeeZone (Employees/EmployeeZone/EmployeeZone)\n",
       "    <ul>\n",
       "    <li>dimension: Employees</li>\n",
       "    <li>hierarchy: EmployeeZone</li>\n",
       "    <li>type: String</li>\n",
       "    <li>order: NaturalOrder</li>\n",
       "    </ul>\n",
       "  </li>\n",
       "  <li>Month (Orders/Multi-level Date/Month)\n",
       "    <ul>\n",
       "    <li>dimension: Orders</li>\n",
       "    <li>hierarchy: Multi-level Date</li>\n",
       "    <li>type: String</li>\n",
       "    <li>order: NaturalOrder</li>\n",
       "    </ul>\n",
       "  </li>\n",
       "  <li>OrderDate (Orders/OrderDate/OrderDate)\n",
       "    <ul>\n",
       "    <li>dimension: Orders</li>\n",
       "    <li>hierarchy: OrderDate</li>\n",
       "    <li>type: LocalDate</li>\n",
       "    <li>order: NaturalOrder</li>\n",
       "    </ul>\n",
       "  </li>\n",
       "  <li>OrderId (Orders/OrderId/OrderId)\n",
       "    <ul>\n",
       "    <li>dimension: Orders</li>\n",
       "    <li>hierarchy: OrderId</li>\n",
       "    <li>type: String</li>\n",
       "    <li>order: NaturalOrder</li>\n",
       "    </ul>\n",
       "  </li>\n",
       "  <li>Phone (Customers/Phone/Phone)\n",
       "    <ul>\n",
       "    <li>dimension: Customers</li>\n",
       "    <li>hierarchy: Phone</li>\n",
       "    <li>type: String</li>\n",
       "    <li>order: NaturalOrder</li>\n",
       "    </ul>\n",
       "  </li>\n",
       "  <li>PostCode (Customers/PostCode/PostCode)\n",
       "    <ul>\n",
       "    <li>dimension: Customers</li>\n",
       "    <li>hierarchy: PostCode</li>\n",
       "    <li>type: String</li>\n",
       "    <li>order: NaturalOrder</li>\n",
       "    </ul>\n",
       "  </li>\n",
       "  <li>PostalCode (Customers/PostalCode/PostalCode)\n",
       "    <ul>\n",
       "    <li>dimension: Customers</li>\n",
       "    <li>hierarchy: PostalCode</li>\n",
       "    <li>type: String</li>\n",
       "    <li>order: NaturalOrder</li>\n",
       "    </ul>\n",
       "  </li>\n",
       "  <li>ProductCategory (Products/Product/ProductCategory)\n",
       "    <ul>\n",
       "    <li>dimension: Products</li>\n",
       "    <li>hierarchy: Product</li>\n",
       "    <li>type: String</li>\n",
       "    <li>order: NaturalOrder</li>\n",
       "    </ul>\n",
       "  </li>\n",
       "  <li>ProductCategory (Products/ProductCategory/ProductCategory)\n",
       "    <ul>\n",
       "    <li>dimension: Products</li>\n",
       "    <li>hierarchy: ProductCategory</li>\n",
       "    <li>type: String</li>\n",
       "    <li>order: NaturalOrder</li>\n",
       "    </ul>\n",
       "  </li>\n",
       "  <li>ProductId (Orders/ProductId/ProductId)\n",
       "    <ul>\n",
       "    <li>dimension: Orders</li>\n",
       "    <li>hierarchy: ProductId</li>\n",
       "    <li>type: String</li>\n",
       "    <li>order: NaturalOrder</li>\n",
       "    </ul>\n",
       "  </li>\n",
       "  <li>ProductId (Products/Product/ProductId)\n",
       "    <ul>\n",
       "    <li>dimension: Products</li>\n",
       "    <li>hierarchy: Product</li>\n",
       "    <li>type: String</li>\n",
       "    <li>order: NaturalOrder</li>\n",
       "    </ul>\n",
       "  </li>\n",
       "  <li>ProductName (Products/ProductName/ProductName)\n",
       "    <ul>\n",
       "    <li>dimension: Products</li>\n",
       "    <li>hierarchy: ProductName</li>\n",
       "    <li>type: String</li>\n",
       "    <li>order: NaturalOrder</li>\n",
       "    </ul>\n",
       "  </li>\n",
       "  <li>Quarter (Orders/Multi-level Date/Quarter)\n",
       "    <ul>\n",
       "    <li>dimension: Orders</li>\n",
       "    <li>hierarchy: Multi-level Date</li>\n",
       "    <li>type: String</li>\n",
       "    <li>order: NaturalOrder</li>\n",
       "    </ul>\n",
       "  </li>\n",
       "  <li>Region (Customers/Region/Region)\n",
       "    <ul>\n",
       "    <li>dimension: Customers</li>\n",
       "    <li>hierarchy: Region</li>\n",
       "    <li>type: String</li>\n",
       "    <li>order: NaturalOrder</li>\n",
       "    </ul>\n",
       "  </li>\n",
       "  <li>ShipperName (Orders/ShipperName/ShipperName)\n",
       "    <ul>\n",
       "    <li>dimension: Orders</li>\n",
       "    <li>hierarchy: ShipperName</li>\n",
       "    <li>type: String</li>\n",
       "    <li>order: NaturalOrder</li>\n",
       "    </ul>\n",
       "  </li>\n",
       "  <li>Subregion (Customers/Subregion/Subregion)\n",
       "    <ul>\n",
       "    <li>dimension: Customers</li>\n",
       "    <li>hierarchy: Subregion</li>\n",
       "    <li>type: String</li>\n",
       "    <li>order: NaturalOrder</li>\n",
       "    </ul>\n",
       "  </li>\n",
       "  <li>Supplier (Products/Supplier/Supplier)\n",
       "    <ul>\n",
       "    <li>dimension: Products</li>\n",
       "    <li>hierarchy: Supplier</li>\n",
       "    <li>type: String</li>\n",
       "    <li>order: NaturalOrder</li>\n",
       "    </ul>\n",
       "  </li>\n",
       "  <li>Year (Orders/Multi-level Date/Year)\n",
       "    <ul>\n",
       "    <li>dimension: Orders</li>\n",
       "    <li>hierarchy: Multi-level Date</li>\n",
       "    <li>type: String</li>\n",
       "    <li>order: NaturalOrder</li>\n",
       "    </ul>\n",
       "  </li>\n",
       "  </ul>\n",
       "</li>\n",
       "</ul>\n"
      ],
      "text/plain": [
       "<atoti.levels.Levels at 0x13200aed0>"
      ]
     },
     "execution_count": 26,
     "metadata": {
      "application/json": {
       "expanded": true,
       "root": "Levels"
      }
     },
     "output_type": "execute_result"
    }
   ],
   "source": [
    "l"
   ]
  },
  {
   "cell_type": "markdown",
   "id": "80461972-2dcd-42c3-8136-eac2a1a5f330",
   "metadata": {},
   "source": [
    "But let's say we wanted to see just the levels for our previous multi-level hierarchy `Product`. Scanning through the fully qualified list of levels may be a bit cumbersome (especially if we have a large amount of levels!). Thus, we can instead use the `levels` property for the multi-level `Product` hierarchy object to only show the levels for that particular hierarchy."
   ]
  },
  {
   "cell_type": "code",
   "execution_count": 27,
   "id": "300a379b-9bfb-44a5-b126-4d60018ae5cc",
   "metadata": {},
   "outputs": [
    {
     "name": "stdout",
     "output_type": "stream",
     "text": [
      "ProductCategory\n",
      "ProductId\n"
     ]
    }
   ],
   "source": [
    "product_levels = h[\"Product\"].levels\n",
    "\n",
    "for key in product_levels.keys():\n",
    "    print(key)"
   ]
  },
  {
   "cell_type": "code",
   "execution_count": 28,
   "id": "9673bf93-00e0-4e7a-bdf2-7a859d409657",
   "metadata": {},
   "outputs": [
    {
     "data": {
      "application/json": {
       "dimension": "Products",
       "hierarchy": "Product",
       "order": "NaturalOrder",
       "type": "String"
      },
      "text/html": [
       "<ul>\n",
       "<li>ProductCategory\n",
       "  <ul>\n",
       "  <li>dimension: Products</li>\n",
       "  <li>hierarchy: Product</li>\n",
       "  <li>type: String</li>\n",
       "  <li>order: NaturalOrder</li>\n",
       "  </ul>\n",
       "</li>\n",
       "</ul>\n"
      ],
      "text/plain": [
       "<atoti.level.Level at 0x131ffeed0>"
      ]
     },
     "execution_count": 28,
     "metadata": {
      "application/json": {
       "expanded": true,
       "root": "ProductCategory"
      }
     },
     "output_type": "execute_result"
    }
   ],
   "source": [
    "product_levels[\"ProductCategory\"]"
   ]
  },
  {
   "cell_type": "code",
   "execution_count": 29,
   "id": "31a1e116-70e7-46d7-856b-77f8e73f0347",
   "metadata": {},
   "outputs": [
    {
     "data": {
      "application/json": {
       "dimension": "Products",
       "hierarchy": "Product",
       "order": "NaturalOrder",
       "type": "String"
      },
      "text/html": [
       "<ul>\n",
       "<li>ProductId\n",
       "  <ul>\n",
       "  <li>dimension: Products</li>\n",
       "  <li>hierarchy: Product</li>\n",
       "  <li>type: String</li>\n",
       "  <li>order: NaturalOrder</li>\n",
       "  </ul>\n",
       "</li>\n",
       "</ul>\n"
      ],
      "text/plain": [
       "<atoti.level.Level at 0x131fff690>"
      ]
     },
     "execution_count": 29,
     "metadata": {
      "application/json": {
       "expanded": true,
       "root": "ProductId"
      }
     },
     "output_type": "execute_result"
    }
   ],
   "source": [
    "product_levels[\"ProductId\"]"
   ]
  },
  {
   "cell_type": "markdown",
   "id": "19c6b620-d95f-4807-b652-b0624e045dce",
   "metadata": {},
   "source": [
    "#### `Hierarchy.dimension_default`"
   ]
  },
  {
   "cell_type": "markdown",
   "id": "345470f0-b46d-4ca0-95c6-1f5c57e244ef",
   "metadata": {},
   "source": [
    "We can also call the `dimension_default` property of a Hierarchy object to determine if a specified hierarchy is the default hierarchy in its parent dimension.\n",
    "\n",
    "💡 **Note:** https://docs.atoti.io/latest/api/atoti.Hierarchy.dimension_default.html#atoti.Hierarchy.dimension_default"
   ]
  },
  {
   "cell_type": "code",
   "execution_count": 30,
   "id": "ddfcdf1a-f39f-4b4c-a2e9-a0e2859dc37b",
   "metadata": {},
   "outputs": [
    {
     "data": {
      "text/plain": [
       "False"
      ]
     },
     "execution_count": 30,
     "metadata": {},
     "output_type": "execute_result"
    }
   ],
   "source": [
    "h[\"Address\"].dimension_default"
   ]
  },
  {
   "cell_type": "markdown",
   "id": "663db110-bfa5-476a-bdf0-438864e4cdfc",
   "metadata": {},
   "source": [
    "The output of the `dimension_default` property for a Hierarchy should be either `True` or `False`. In this case, the `Address` hierarchy of the `Customers` dimension is **not** the default hierarchy for the `Customers` dimension.\n",
    "\n",
    "So which hierarchy **is** the default hierarchy for the `Customers` dimension? We can create a simple `for` loop to test this. \n",
    "\n",
    "💡 **Note:** The `Orders` and `Customers` tables are joined by the common key: `CustomerId`. However, from an Atoti data model perspective, `CustomerId` is a hierarchy present under the base table or `Orders` dimension, and is no longer present as a (redundant) hierarchy under the `Customers` dimension. Therefore, when checking the `Customers` dimension for its default hierarchy, we must filter out the `CustomerId` out from the search criteria — otherwise we get a missing `KeyError`."
   ]
  },
  {
   "cell_type": "code",
   "execution_count": 31,
   "id": "1fe311c8-b976-429d-9898-13ee34ba9d2e",
   "metadata": {},
   "outputs": [
    {
     "name": "stdout",
     "output_type": "stream",
     "text": [
      "h['Customers', 'CompanyName'].dimension_default == False\n",
      "h['Customers', 'Address'].dimension_default == False\n",
      "h['Customers', 'City'].dimension_default == False\n",
      "h['Customers', 'PostalCode'].dimension_default == True\n",
      "h['Customers', 'Region'].dimension_default == False\n",
      "h['Customers', 'Country'].dimension_default == False\n",
      "h['Customers', 'Subregion'].dimension_default == False\n",
      "h['Customers', 'Phone'].dimension_default == False\n",
      "h['Customers', 'PostCode'].dimension_default == False\n"
     ]
    }
   ],
   "source": [
    "def check_default_hierarchy(hierachies, table):\n",
    "    \"\"\"Checks for the default hierarchy for an Atoti Table object.\"\"\"\n",
    "    dimension = table.name\n",
    "    for hierarchy in table.columns:\n",
    "        if hierarchy != \"CustomerId\":\n",
    "            print(\n",
    "                f\"h['{dimension}', '{hierarchy}'].dimension_default == {h[dimension, hierarchy].dimension_default}\"\n",
    "            )\n",
    "\n",
    "\n",
    "check_default_hierarchy(h, customers)"
   ]
  },
  {
   "cell_type": "markdown",
   "id": "cb5eb9ff-9dcd-4ca6-95b5-f671694f9603",
   "metadata": {},
   "source": [
    "We can see that the default hierarchy for the `Customers` dimension is actually `PostalCode`. If we set another hierarchy under the `Customers` dimension as the default hierarchy, it would look like this:"
   ]
  },
  {
   "cell_type": "code",
   "execution_count": 32,
   "id": "a6abbe1a-8799-437f-a533-eb8ceba43395",
   "metadata": {},
   "outputs": [],
   "source": [
    "h[\"Address\"].dimension_default = True"
   ]
  },
  {
   "cell_type": "markdown",
   "id": "bb1d2b9b-6f1e-45fe-a0b5-90638eace9f7",
   "metadata": {},
   "source": [
    "Then, if we re-use the `check_default_hierarchy` function that we defined previously, we can see that the default hierarchy for the `Customers` dimension has indeed been updated."
   ]
  },
  {
   "cell_type": "code",
   "execution_count": 33,
   "id": "9c814d42-e50e-4da2-bf4c-143123207525",
   "metadata": {},
   "outputs": [
    {
     "name": "stdout",
     "output_type": "stream",
     "text": [
      "h['Customers', 'CompanyName'].dimension_default == False\n",
      "h['Customers', 'Address'].dimension_default == True\n",
      "h['Customers', 'City'].dimension_default == False\n",
      "h['Customers', 'PostalCode'].dimension_default == False\n",
      "h['Customers', 'Region'].dimension_default == False\n",
      "h['Customers', 'Country'].dimension_default == False\n",
      "h['Customers', 'Subregion'].dimension_default == False\n",
      "h['Customers', 'Phone'].dimension_default == False\n",
      "h['Customers', 'PostCode'].dimension_default == False\n"
     ]
    }
   ],
   "source": [
    "check_default_hierarchy(h, customers)"
   ]
  },
  {
   "cell_type": "markdown",
   "id": "823f8274-eda1-45fb-9137-b3aac5c7ba9b",
   "metadata": {},
   "source": [
    "#### `Hierarchy.visible`\n",
    "\n",
    "The `visible` property will either display or hide a hierarchy from the list of available hierarchies when using Atoti in either the Atoti JupyterLab extension or the Atoti UI. For example, if we look at our data model, we can see the `CustomerId` hierarchy present in the list of available hierarchies.\n",
    "\n",
    "💡 **Note:** The `visible` property will **not** delete a hierarchy from an Atoti data model, it merely hides it as an available hierarchy in any of our UI interfaces. Programmatically, a hidden hierarchy can still be used."
   ]
  },
  {
   "cell_type": "markdown",
   "id": "1dfd1308-35b4-4926-8a97-74254786f073",
   "metadata": {
    "editable": true,
    "slideshow": {
     "slide_type": ""
    },
    "tags": []
   },
   "source": [
    "<img src=\"https://data.atoti.io/notebooks/hierarchies/images/hierarchies-visible-true.png\" alt=\"hierarchies-visible-true\" width=\"225\"/>"
   ]
  },
  {
   "cell_type": "markdown",
   "id": "2c002e25-1cfb-4a40-a599-1382b582705b",
   "metadata": {},
   "source": [
    "If we use `session.widget` to select the `CustomerId` as our hierarchy and `QuantitySold.SUM` as our measure, we can see output as expected."
   ]
  },
  {
   "cell_type": "code",
   "execution_count": 34,
   "id": "c7385596-5551-4506-a0b5-b499c97fe377",
   "metadata": {
    "atoti": {
     "widget": {
      "columnWidths": {
       "[Customers].[Address].[Address]": 170,
       "[Measures].[contributors.COUNT]": 140
      },
      "mapping": {
       "columns": [
        "ALL_MEASURES"
       ],
       "measures": [
        "[Measures].[QuantitySold.SUM]"
       ],
       "rows": [
        "[Orders].[CustomerId].[CustomerId]"
       ]
      },
      "query": {
       "mdx": "SELECT NON EMPTY Hierarchize(Descendants({[Orders].[CustomerId].[ALL].[AllMember]}, 1, SELF_AND_BEFORE)) ON ROWS, NON EMPTY {[Measures].[QuantitySold.SUM]} ON COLUMNS FROM [Orders] CELL PROPERTIES VALUE, FORMATTED_VALUE, BACK_COLOR, FORE_COLOR, FONT_FLAGS",
       "updateMode": "once"
      },
      "serverKey": "default",
      "widgetKey": "pivot-table"
     }
    },
    "editable": true,
    "slideshow": {
     "slide_type": ""
    },
    "tags": []
   },
   "outputs": [
    {
     "data": {
      "application/vnd.atoti.widget.v0+json": {
       "sessionId": "1715028786_349WG0",
       "sessionLocation": {
        "https": false,
        "port": 9092
       },
       "widgetCreationCode": "session.widget"
      },
      "text/html": [
       "<img height=\"352\" width=\"1249\" src=\"data:image/png;base64,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\" />"
      ],
      "text/plain": [
       "Open the notebook in JupyterLab with the Atoti JupyterLab extension enabled to build this widget."
      ]
     },
     "metadata": {},
     "output_type": "display_data"
    }
   ],
   "source": [
    "session.widget"
   ]
  },
  {
   "cell_type": "markdown",
   "id": "6540f93c-d19c-47fa-8994-543f31c62dc9",
   "metadata": {},
   "source": [
    "However if we set the `visible` property of the `CustomerId` hierarchy to `False`, it will hide it from our list of available hierarchies as expected. \n",
    "\n",
    "💡 **Note:** Notice that the total number of hierarchies in the data model (`23`) does not change whether or not the `visible` property for a hierarchy is set to `True` or `False`, and that the previous `session.widget` still shows the analysis for quantity sold per customer, as the hierarchy is not **deleted** but **hidden**."
   ]
  },
  {
   "cell_type": "code",
   "execution_count": 35,
   "id": "fea74973-b2dd-4b26-8cdf-ef3d6de978d2",
   "metadata": {},
   "outputs": [],
   "source": [
    "h[\"CustomerId\"].visible = False"
   ]
  },
  {
   "cell_type": "markdown",
   "id": "6fc69554-ef5f-46ca-92e4-4a226987253c",
   "metadata": {},
   "source": [
    "<img src=\"https://data.atoti.io/notebooks/hierarchies/images/hierarchies-visible-false.png\" alt=\"hierarchies-visible-false\" width=\"225\"/>"
   ]
  },
  {
   "cell_type": "markdown",
   "id": "44bd039a-5045-4fb6-9dbb-70bf09fd68a9",
   "metadata": {},
   "source": [
    "And that's it for now! 🎉\n",
    "\n",
    "We hope that this walk through gives you a jump start for working with hierarchies in Atoti 😊. Stay tuned for more advanced topics on Atoti hierarchies in the future! Until then, take care! 👋"
   ]
  },
  {
   "cell_type": "markdown",
   "id": "c71f02bb-2a7a-4dfb-8c42-47e0b157b9c2",
   "metadata": {},
   "source": [
    "<div style=\"text-align: center;\" ><a href=\"https://www.atoti.io/?utm_source=gallery&utm_content=hierarchies\" target=\"_blank\" rel=\"noopener noreferrer\"><img src=\"https://data.atoti.io/notebooks/banners/Your-turn-to-try-Atoti.jpg\" alt=\"Try Atoti\"></a></div>"
   ]
  }
 ],
 "metadata": {
  "kernelspec": {
   "display_name": "Python 3 (ipykernel)",
   "language": "python",
   "name": "python3"
  },
  "language_info": {
   "codemirror_mode": {
    "name": "ipython",
    "version": 3
   },
   "file_extension": ".py",
   "mimetype": "text/x-python",
   "name": "python",
   "nbconvert_exporter": "python",
   "pygments_lexer": "ipython3",
   "version": "3.11.9"
  }
 },
 "nbformat": 4,
 "nbformat_minor": 5
}
