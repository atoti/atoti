{
 "cells": [
  {
   "cell_type": "markdown",
   "id": "8d668eea-0a00-4c60-9efb-d7cdbb97d362",
   "metadata": {
    "editable": true,
    "slideshow": {
     "slide_type": ""
    },
    "tags": []
   },
   "source": [
    "# Introduction to Atoti\n",
    "\n",
    "This course gives a quick introduction to Atoti Python, a library that allow users to build their own operational intelligence platform for better collaboration and faster analysis.   \n",
    "\n",
    "<img src=\"https://data.atoti.io/atoti-academy/images/introduction/0_Atoti_architecture.png\" width=\"750px\"/>\n",
    "\n",
    "We will look at some commonly used functions and operations from the library.  \n",
    "\n",
    "<u><b>Course Outline and Objectives</b></u>\n",
    "1. Create Atoti tables via data source or from scratch.\n",
    "2. Build an Atoti cube.\n",
    "3. Master common operations such as hierarchy manipulations and measure creations.\n",
    "4. Explore your data with interactive visualization.\n",
    "5. Export and share your data to Pandas DataFrame or other data structures.\n",
    "\n",
    "The notebook is expected to run sequentially as some data objects created at the beginning may be used in later cells.  \n",
    "Some cells may fail to execute. This is expected as it's intended to demonstrate the erroneous behaviour one may encounter.  \n",
    "\n",
    "This notebook is broken up into the following sections:  \n",
    "\n",
    "- [1. Getting Started](#1.-Getting-Started)\n",
    "\t- [1.1 Install Atoti and its plugins](#1.1-Install-Atoti-and-its-plugins)\n",
    "\t- [1.2 Import the Python libraries](#1.2-Import-the-Python-libraries)\n",
    "- [2. Create an Atoti Session](#2.-Create-an-Atoti-Session)\n",
    "- [3. Initialize Atoti UI](#3.-Initialize-Atoti-UI)\n",
    "- [4. Data modeling](#4.-Data-modeling)\n",
    "\t- [4.1 Table structure creation](#4.1-Table-structure-creation)\n",
    "\t- [4.2 Table creation through exploration](#4.2-Table-creation-through-exploration)\n",
    "\t\t- [4.2.1 Check on data types](#4.2.1-Check-on-data-types)\n",
    "\t\t- [4.2.2 Delete tables](#4.2.2-Delete-tables)\n",
    "\t\t- [4.2.3 Table configuration](#4.2.3-Table-configuration)\n",
    "\t- [4.3 Data schema](#4.3-Data-schema)\n",
    "\t\t- [4.3.1 Identify base table](#4.3.1-Identify-base-table)\n",
    "\t\t- [4.3.2 Visualize table schema](#4.3.2-Visualize-table-schema)\n",
    "\t\t- [4.3.3 Table join](#4.3.3-Table-join)\n",
    "- [5. Loading data into tables](#5.-Load-data-into-tables)\n",
    "- [6. Atoti Cube](#6.-Atoti-Cube)\n",
    "\t- [6.1 Cube creation](#6.1-Cube-creation)\n",
    "\t- [6.2 Cube attributes](#6.2-Cube-attributes)\n",
    "\t\t- [6.2.1 Hierarchies and levels](#6.2.1-Hierarchies-and-levels)\n",
    "\t\t- [6.2.2 Measures](#6.2.2-Measures)\n",
    "    - [6.3 Cube Housekeeping ](#6.3-Cube-Housekeeping)\n",
    "        - [6.3.1 Delete unwanted hierarchies, levels and measures](#6.3.1-Delete-unwanted-hierarchies,-levels-and-measures)\n",
    "        - [6.3.2 Hide technical measures](#6.3.2-Hide-technical-measures)  \n",
    "        - [6.3.3 Organize measures in folders](#6.3.3-Organize-measures-in-folders)  \n",
    "- [7. Visualization](#7.-Visualization)\n",
    "\t- [7.1 Build our visualization](#7.1-Build-our-visualization)\n",
    "\t\t- [7.1.1 Add hierarchies and measures to the visualization](#7.1.1-Add-hierarchies-and-measures-to-the-visualization)\n",
    "\t\t- [7.1.2 Expandable levels vs multi-level hierarchy](#7.1.2-Expandable-levels-vs-multi-level-hierarchy)\n",
    "\t- [7.2 Change type of visualization](#7.2-Change-type-of-visualization)\n",
    "\t- [7.3 Filter data](#7.3-Filter-data)\n",
    "\t\t- [7.3.1 Focus on a single trace on charts](#7.3.1-Focus-on-a-single-trace-on-charts)\n",
    "\t\t- [7.3.2 Filter by member](#7.3.2-Filter-by-member)\n",
    "\t\t- [7.3.3 Conditional filtering](#7.3.3-Conditional-filtering)\n",
    "\t- [7.4 Publish in app](#7.4-Publish-in-app)\n",
    "- [8. Output query results](#8.-Output-query-results)\n",
    "\t- [8.1 Export data to CSV](#8.1-Export-data-to-CSV)\n",
    "\t- [8.2 Output query results to Pandas DataFrame](#8.2-Output-query-results-to-Pandas-DataFrame)\n",
    "\t- [8.3 Output query results to other data structure](#8.3-Output-query-results-to-other-data-structure)\n"
   ]
  },
  {
   "cell_type": "markdown",
   "id": "bf12c5ae-e3b2-40b9-b670-cdbd66850cc7",
   "metadata": {},
   "source": [
    "<div style=\"text-align: center;\" ><a href=\"https://www.atoti.io/?utm_source=gallery&utm_content=introduction-to-atoti\" target=\"_blank\" rel=\"noopener noreferrer\"><img src=\"https://data.atoti.io/notebooks/banners/Discover-Atoti-now.png\" alt=\"Try atoti\"></a></div>"
   ]
  },
  {
   "cell_type": "markdown",
   "id": "c35a734f-2776-41c0-8344-63ab65769ea2",
   "metadata": {
    "tags": []
   },
   "source": [
    "# 1. Getting Started"
   ]
  },
  {
   "cell_type": "markdown",
   "id": "d5886545-8f36-4b0a-92db-b481d7950093",
   "metadata": {},
   "source": [
    "## 1.1 Install Atoti and its plugins"
   ]
  },
  {
   "cell_type": "markdown",
   "id": "48b5e9a2-ce06-4f9f-a2c1-d815e6ec725d",
   "metadata": {},
   "source": [
    "We can use Atoti in a Jupyter notebook or in a Python script. Minimally, we install the atoti library with either of the following:\n",
    "- `pip install atoti`\n",
    "- `conda install atoti`\n",
    "\n",
    "If we want to be able to explore data on the fly with Atoti in JupyterLab, we have to install extra plugin for its JupyterLab extension. Again, run with either `pip` or `conda` as shown below:\n",
    "- `pip install atoti-jupyterlab`\n",
    "- `conda install atoti-jupyterlab`  \n",
    "\n",
    "💡There are other [plugins](https://docs.atoti.io/latest/reference.html#plugins) available for Atoti. For instance, to access CSV or Parquet on AWS S3 bucket, we have to install its corresponding plugin `atoti-aws`. Similarly, `atoti-sql` is required for connectivity to SQL database. Using `pip`, we can install multiple plugins with the `extra` syntax as shown below:    \n",
    "- `pip install 'atoti[jupyterlab,aws,sql]'`\n",
    "\n",
    "Since there's no shortcuts for conda, therefore we have to list out the extra plugins we needed:\n",
    "- `conda install atoti atoti-jupyterlab atoti-aws atoti-sql`"
   ]
  },
  {
   "cell_type": "markdown",
   "id": "71d79a29-33ad-4ccb-874d-1bb6a2b1d251",
   "metadata": {},
   "source": [
    "## 1.2 Import the Python libraries"
   ]
  },
  {
   "cell_type": "markdown",
   "id": "553714ed-fe19-4ce7-9743-d15b66608a9d",
   "metadata": {},
   "source": [
    "Usually, it is sufficient to import just the Atoti libraries. However, if we would like to perform some pre-computation before using Atoti, we can import `pandas` as well."
   ]
  },
  {
   "cell_type": "code",
   "execution_count": 1,
   "id": "e6a4b8b1-d7b2-41eb-bd72-b0b4b7c2c526",
   "metadata": {
    "tags": []
   },
   "outputs": [],
   "source": [
    "import atoti as tt"
   ]
  },
  {
   "cell_type": "markdown",
   "id": "3b13dea3-2996-453d-add6-dc575861292b",
   "metadata": {},
   "source": [
    "# 2. Create an Atoti Session"
   ]
  },
  {
   "cell_type": "markdown",
   "id": "70fc309d-36b6-4dc5-af93-f807d95e8f91",
   "metadata": {},
   "source": [
    "We instantiate an Atoti session in order to establish a connection to the Java gateway of the Atoti Server. "
   ]
  },
  {
   "cell_type": "code",
   "execution_count": 2,
   "id": "dd234fd4-e8be-4cb8-95e6-79a9303deebc",
   "metadata": {
    "tags": []
   },
   "outputs": [],
   "source": [
    "session = tt.Session()"
   ]
  },
  {
   "cell_type": "markdown",
   "id": "4e8df675-9839-402b-a087-4da54f5e352c",
   "metadata": {},
   "source": [
    "⚠️ Windows users may encounter the following Windows Security Alert:  \n",
    "\n",
    "<img src=\"https://data.atoti.io/atoti-academy/images/introduction/2_window_security_alert.png\" width=\"400px\"/>  \n",
    "\n",
    "This is because Atoti Server, the underlying aggregation engine used by Atoti, is built using Java. The web application, Atoti UI, is built using REACT.  "
   ]
  },
  {
   "cell_type": "markdown",
   "id": "409a3cae-3a42-430f-b526-eeaa0bb6b33e",
   "metadata": {},
   "source": [
    "⚠️ We can have multiple Atoti sessions within a instance, provided that they are given different names. In the above code snippet, we have not set any [parameters for the session](https://docs.atoti.io/latest/api/atoti.Session.html#atoti.Session). If we re-instantiate a session without defining a name for it, the existing session will be deleted and a new session gets created as we will see in the next cell. "
   ]
  },
  {
   "cell_type": "code",
   "execution_count": 3,
   "id": "3caf8639-c20c-4002-b55b-4342dfe7ae3a",
   "metadata": {},
   "outputs": [
    {
     "name": "stderr",
     "output_type": "stream",
     "text": [
      "Closing existing \"Unnamed\" session to create the new one.\n"
     ]
    }
   ],
   "source": [
    "session = tt.Session(\n",
    "    user_content_storage=\"./content\",\n",
    "    port=9092,\n",
    "    java_options=[\"-Xms1G\", \"-Xmx10G\"],\n",
    ")"
   ]
  },
  {
   "cell_type": "markdown",
   "id": "01ca5d40-3dc4-4a1c-8009-8dc01db3fb3f",
   "metadata": {},
   "source": [
    "💡The above code snippet demonstrate how we configure some of the common parameters for [Atoti deployment](https://docs.atoti.io/latest/deployment/deployment_setup.html#):\n",
    "- `user_content_storage`: Persists saved dashboards, widgets and filters in the session to a database. A \"content\" folder in the same directory as this notebook and a H2 database is created. \n",
    "- `port`: Sets the port for the Atoti UI.\n",
    "- `java_options`: Additional options to pass when starting the Java process, e.g. increasing the amount of RAM that the session can use via `-Xmx` option.  "
   ]
  },
  {
   "cell_type": "markdown",
   "id": "b8551715-8d5e-40b7-951e-780ecfeb17db",
   "metadata": {},
   "source": [
    "# 3. Initialize Atoti UI"
   ]
  },
  {
   "cell_type": "markdown",
   "id": "773af7fe-c3c2-4153-8a02-437fc2a35d2b",
   "metadata": {},
   "source": [
    "Once the session gets instantiated, Atoti UI will start on a random port unless specified.  "
   ]
  },
  {
   "cell_type": "code",
   "execution_count": 4,
   "id": "2f48a819-84bc-45ef-9db8-4d6226be8bce",
   "metadata": {
    "tags": []
   },
   "outputs": [
    {
     "data": {
      "application/vnd.atoti.link.v0+json": {
       "path": "",
       "sessionLocation": {
        "https": false,
        "port": 9092
       }
      },
      "text/markdown": [
       "http://localhost:9092\n",
       "\n",
       "_Note_: This is the session's local URL: it may not be reachable if Atoti is running on another machine."
      ],
      "text/plain": [
       "http://localhost:9092 (This is the session's local URL: it may not be reachable if Atoti is running on another machine.)"
      ]
     },
     "execution_count": 4,
     "metadata": {},
     "output_type": "execute_result"
    }
   ],
   "source": [
    "session.link"
   ]
  },
  {
   "cell_type": "markdown",
   "id": "a4ca9c61-4354-4763-ab52-4b44103e3f9a",
   "metadata": {},
   "source": [
    "⚠️ There is nothing interesting in Atoti UI at this point in time because we have yet to create our data model. We will revisit Atoti UI later on."
   ]
  },
  {
   "cell_type": "markdown",
   "id": "8f842961-c5ce-4996-a171-da0f6910a697",
   "metadata": {},
   "source": [
    "# 4. Data modeling "
   ]
  },
  {
   "cell_type": "markdown",
   "id": "c44fdc77-a913-4eed-8b71-53f9ca4f276d",
   "metadata": {},
   "source": [
    "There are two ways we can create Atoti tables (along with recommendations):  \n",
    "\n",
    "1. Defining table structure:\n",
    "   * For **full application implementations**, we recommend that we define the table structure as we can start the application quickly before loading data.  \n",
    "3. Infer table structure from a datasource:\n",
    "   * For **data exploration, model prototyping or adhoc reporting with new data source**, creating a table by inferring its structure from a datasource is a quick way to get things moving.  \n",
    "\n",
    "\n"
   ]
  },
  {
   "cell_type": "markdown",
   "id": "a8a54803-e37d-4928-bd9b-6c76ac8436ef",
   "metadata": {},
   "source": [
    "## 4.1 Table structure creation"
   ]
  },
  {
   "cell_type": "markdown",
   "id": "e84f3623-e991-4360-aa17-271ffb37c646",
   "metadata": {},
   "source": [
    "Similar to the creation of database tables, we can define the structure of the table by defining:\n",
    "* `name`: Name of table.\n",
    "* `types`: Column names and its corresponding data type.\n",
    "* `keys`: Column(s) used to dictionarize data for faster querying. It is also used to identify unique data rows. Atoti keeps the last uploaded row when there are duplicates.  \n",
    "* `default_values`: Default value when value is not provided. `\"N/A\"` by default for category columns, `null` for numerical columns and `1970-01-01` for date columns. If column is used in hierarchy manipulation, e.g. create multi-level hierarchies, a non-empty default value has to be set."
   ]
  },
  {
   "cell_type": "code",
   "execution_count": 5,
   "id": "22ec7f77-5ba8-45b7-8118-ad03790ca5e0",
   "metadata": {
    "tags": []
   },
   "outputs": [
    {
     "data": {
      "text/html": [
       "<div>\n",
       "<style scoped>\n",
       "    .dataframe tbody tr th:only-of-type {\n",
       "        vertical-align: middle;\n",
       "    }\n",
       "\n",
       "    .dataframe tbody tr th {\n",
       "        vertical-align: top;\n",
       "    }\n",
       "\n",
       "    .dataframe thead th {\n",
       "        text-align: right;\n",
       "    }\n",
       "</style>\n",
       "<table border=\"1\" class=\"dataframe\">\n",
       "  <thead>\n",
       "    <tr style=\"text-align: right;\">\n",
       "      <th></th>\n",
       "      <th>ProductName</th>\n",
       "      <th>ProductCategory</th>\n",
       "      <th>Supplier</th>\n",
       "      <th>PurchasingPricePerUnit</th>\n",
       "    </tr>\n",
       "    <tr>\n",
       "      <th>ProductId</th>\n",
       "      <th></th>\n",
       "      <th></th>\n",
       "      <th></th>\n",
       "      <th></th>\n",
       "    </tr>\n",
       "  </thead>\n",
       "  <tbody>\n",
       "  </tbody>\n",
       "</table>\n",
       "</div>"
      ],
      "text/plain": [
       "Empty DataFrame\n",
       "Columns: [ProductName, ProductCategory, Supplier, PurchasingPricePerUnit]\n",
       "Index: []"
      ]
     },
     "execution_count": 5,
     "metadata": {},
     "output_type": "execute_result"
    }
   ],
   "source": [
    "product_tbl = session.create_table(\n",
    "    name=\"Products\",\n",
    "    types={\n",
    "        \"ProductId\": tt.type.STRING,\n",
    "        \"ProductName\": tt.type.STRING,\n",
    "        \"ProductCategory\": tt.type.STRING,\n",
    "        \"Supplier\": tt.type.STRING,\n",
    "        \"PurchasingPricePerUnit\": tt.type.FLOAT,\n",
    "    },\n",
    "    keys=[\"ProductId\"],\n",
    "    # optional. Setting default value to 0 for demonstrative purpose\n",
    "    default_values={\"PurchasingPricePerUnit\": 0},\n",
    ")\n",
    "\n",
    "product_tbl.head()"
   ]
  },
  {
   "cell_type": "markdown",
   "id": "909bd02a-7ed5-4ed4-a6d2-c5347e9662b3",
   "metadata": {},
   "source": [
    "💡Similar to Pandas, we can use `head` function to preview the data in the Atoti table. "
   ]
  },
  {
   "cell_type": "markdown",
   "id": "390ca1bf-668a-4664-8f9f-cca2876e2d83",
   "metadata": {},
   "source": [
    "⚠️ An empty table is created. We will load data into the table separately."
   ]
  },
  {
   "cell_type": "markdown",
   "id": "d6f5f175-56b6-4a52-87e1-9c26e0769ae9",
   "metadata": {},
   "source": [
    "## 4.2 Table creation through exploration\n",
    "\n",
    "Another way to create a table is by using a corresponding connector to consume an existing data source. This is a quick and convenient way to create an Atoti table and especially useful when we want to explore the data quickly.  \n",
    "\n",
    "We can use `session.read_csv`, for instance, to consume CSV files and `session.read_parquet` for parquet files etc. This way, we need not define the table structure as the table will be created automatically after consuming the data.  "
   ]
  },
  {
   "cell_type": "code",
   "execution_count": 6,
   "id": "31fda3d6-b8be-483d-90a8-766597bbefe9",
   "metadata": {
    "tags": []
   },
   "outputs": [
    {
     "data": {
      "text/html": [
       "<div>\n",
       "<style scoped>\n",
       "    .dataframe tbody tr th:only-of-type {\n",
       "        vertical-align: middle;\n",
       "    }\n",
       "\n",
       "    .dataframe tbody tr th {\n",
       "        vertical-align: top;\n",
       "    }\n",
       "\n",
       "    .dataframe thead th {\n",
       "        text-align: right;\n",
       "    }\n",
       "</style>\n",
       "<table border=\"1\" class=\"dataframe\">\n",
       "  <thead>\n",
       "    <tr style=\"text-align: right;\">\n",
       "      <th></th>\n",
       "      <th>OrderId</th>\n",
       "      <th>OrderDate</th>\n",
       "      <th>QuantitySold</th>\n",
       "      <th>SellingPricePerUnit</th>\n",
       "      <th>ShipperName</th>\n",
       "      <th>ProductId</th>\n",
       "      <th>EmployeeId</th>\n",
       "      <th>CustomerId</th>\n",
       "    </tr>\n",
       "  </thead>\n",
       "  <tbody>\n",
       "    <tr>\n",
       "      <th>0</th>\n",
       "      <td>1</td>\n",
       "      <td>18/2/2019</td>\n",
       "      <td>650</td>\n",
       "      <td>22.42</td>\n",
       "      <td>Freight United</td>\n",
       "      <td>994</td>\n",
       "      <td>18336</td>\n",
       "      <td>c4411</td>\n",
       "    </tr>\n",
       "    <tr>\n",
       "      <th>1</th>\n",
       "      <td>12</td>\n",
       "      <td>18/2/2019</td>\n",
       "      <td>148</td>\n",
       "      <td>5.5</td>\n",
       "      <td>United Package</td>\n",
       "      <td>1384</td>\n",
       "      <td>18336</td>\n",
       "      <td>c2619</td>\n",
       "    </tr>\n",
       "    <tr>\n",
       "      <th>2</th>\n",
       "      <td>25</td>\n",
       "      <td>18/2/2019</td>\n",
       "      <td>883</td>\n",
       "      <td>17.57</td>\n",
       "      <td>The Transporter</td>\n",
       "      <td>773</td>\n",
       "      <td>18551</td>\n",
       "      <td>c1723</td>\n",
       "    </tr>\n",
       "    <tr>\n",
       "      <th>3</th>\n",
       "      <td>72</td>\n",
       "      <td>18/2/2019</td>\n",
       "      <td>927</td>\n",
       "      <td>27.14</td>\n",
       "      <td>Freight United</td>\n",
       "      <td>1423</td>\n",
       "      <td>63528</td>\n",
       "      <td>c1835</td>\n",
       "    </tr>\n",
       "    <tr>\n",
       "      <th>4</th>\n",
       "      <td>74</td>\n",
       "      <td>18/2/2019</td>\n",
       "      <td>651</td>\n",
       "      <td>56.83</td>\n",
       "      <td>Freight United</td>\n",
       "      <td>1059</td>\n",
       "      <td>18680</td>\n",
       "      <td>c5475</td>\n",
       "    </tr>\n",
       "  </tbody>\n",
       "</table>\n",
       "</div>"
      ],
      "text/plain": [
       "   OrderId  OrderDate  QuantitySold  SellingPricePerUnit      ShipperName  \\\n",
       "0        1  18/2/2019           650                22.42   Freight United   \n",
       "1       12  18/2/2019           148                  5.5   United Package   \n",
       "2       25  18/2/2019           883                17.57  The Transporter   \n",
       "3       72  18/2/2019           927                27.14   Freight United   \n",
       "4       74  18/2/2019           651                56.83   Freight United   \n",
       "\n",
       "   ProductId  EmployeeId CustomerId  \n",
       "0        994       18336      c4411  \n",
       "1       1384       18336      c2619  \n",
       "2        773       18551      c1723  \n",
       "3       1423       63528      c1835  \n",
       "4       1059       18680      c5475  "
      ]
     },
     "execution_count": 6,
     "metadata": {},
     "output_type": "execute_result"
    }
   ],
   "source": [
    "orders_tbl = session.read_csv(\"s3://data.atoti.io/atoti-academy/data/Orders.csv\")\n",
    "orders_tbl.head()"
   ]
  },
  {
   "cell_type": "markdown",
   "id": "c69c21de-6663-4d88-a3d5-8670fd067dc2",
   "metadata": {
    "tags": []
   },
   "source": [
    "💡Data is loaded into the table upon creation. For quick prototyping, we advise using smaller dataset during initial table creation. Data can be **incrementally loaded** into the table later on.   "
   ]
  },
  {
   "cell_type": "markdown",
   "id": "9089d6e3-f7db-4a4c-ac1a-4947b3aa278c",
   "metadata": {},
   "source": [
    "💡For data sources that are not supported natively by the Python API, we can consume it with either Pandas, Apache PyArrow or Apache Spark DataFrame before loading it into an Atoti table. Check out [`atoti.Session` module](https://docs.atoti.io/latest/api/atoti.Session.html#atoti.Session) or press `tab` on `session.read` to see the available functions:  \n",
    "\n",
    "<img src=\"https://data.atoti.io/atoti-academy/images/introduction/4_read_functions.png\" />"
   ]
  },
  {
   "cell_type": "markdown",
   "id": "5bf484f3-6c31-4cd1-ba08-59945706553e",
   "metadata": {},
   "source": [
    "### 4.2.1 Check on data types"
   ]
  },
  {
   "cell_type": "markdown",
   "id": "8a8c83df-877e-4581-b8b1-491df5df5123",
   "metadata": {},
   "source": [
    "Some data structures such as Pandas DataFrame or parquet files comes with metadata information. In such case, Atoti will be able to inherit the data types of the columns from the sources. Otherwise, the API automatically infers the data type based on the first `1000` records.  \n",
    "\n",
    "To check the data types of the table columns:"
   ]
  },
  {
   "cell_type": "code",
   "execution_count": 7,
   "id": "c5a55ff0-2cb4-4dee-8207-9c005955f79e",
   "metadata": {
    "tags": []
   },
   "outputs": [
    {
     "data": {
      "application/json": {
       "CustomerId": {
        "default_value": "N/A",
        "key": false,
        "type": "String"
       },
       "EmployeeId": {
        "default_value": null,
        "key": false,
        "type": "int"
       },
       "OrderDate": {
        "default_value": "N/A",
        "key": false,
        "type": "String"
       },
       "OrderId": {
        "default_value": null,
        "key": false,
        "type": "int"
       },
       "ProductId": {
        "default_value": null,
        "key": false,
        "type": "int"
       },
       "QuantitySold": {
        "default_value": null,
        "key": false,
        "type": "int"
       },
       "SellingPricePerUnit": {
        "default_value": null,
        "key": false,
        "type": "double"
       },
       "ShipperName": {
        "default_value": "N/A",
        "key": false,
        "type": "String"
       }
      },
      "text/html": [
       "<ul>\n",
       "<li>Orders\n",
       "  <ul>\n",
       "  <li>OrderId\n",
       "    <ul>\n",
       "    <li>key: False</li>\n",
       "    <li>type: int</li>\n",
       "    <li>default_value: None</li>\n",
       "    </ul>\n",
       "  </li>\n",
       "  <li>OrderDate\n",
       "    <ul>\n",
       "    <li>key: False</li>\n",
       "    <li>type: String</li>\n",
       "    <li>default_value: N/A</li>\n",
       "    </ul>\n",
       "  </li>\n",
       "  <li>QuantitySold\n",
       "    <ul>\n",
       "    <li>key: False</li>\n",
       "    <li>type: int</li>\n",
       "    <li>default_value: None</li>\n",
       "    </ul>\n",
       "  </li>\n",
       "  <li>SellingPricePerUnit\n",
       "    <ul>\n",
       "    <li>key: False</li>\n",
       "    <li>type: double</li>\n",
       "    <li>default_value: None</li>\n",
       "    </ul>\n",
       "  </li>\n",
       "  <li>ShipperName\n",
       "    <ul>\n",
       "    <li>key: False</li>\n",
       "    <li>type: String</li>\n",
       "    <li>default_value: N/A</li>\n",
       "    </ul>\n",
       "  </li>\n",
       "  <li>ProductId\n",
       "    <ul>\n",
       "    <li>key: False</li>\n",
       "    <li>type: int</li>\n",
       "    <li>default_value: None</li>\n",
       "    </ul>\n",
       "  </li>\n",
       "  <li>EmployeeId\n",
       "    <ul>\n",
       "    <li>key: False</li>\n",
       "    <li>type: int</li>\n",
       "    <li>default_value: None</li>\n",
       "    </ul>\n",
       "  </li>\n",
       "  <li>CustomerId\n",
       "    <ul>\n",
       "    <li>key: False</li>\n",
       "    <li>type: String</li>\n",
       "    <li>default_value: N/A</li>\n",
       "    </ul>\n",
       "  </li>\n",
       "  </ul>\n",
       "</li>\n",
       "</ul>\n"
      ],
      "text/plain": [
       "<atoti.table.Table at 0x13cc23c10>"
      ]
     },
     "execution_count": 7,
     "metadata": {
      "application/json": {
       "expanded": true,
       "root": "Orders"
      }
     },
     "output_type": "execute_result"
    }
   ],
   "source": [
    "orders_tbl"
   ]
  },
  {
   "cell_type": "markdown",
   "id": "6778f4be-e940-444d-a370-0c0877c6f0f9",
   "metadata": {},
   "source": [
    "💡To discover the data type programmatically for a specific column, we can do the following:  "
   ]
  },
  {
   "cell_type": "code",
   "execution_count": 8,
   "id": "6a8084e6-2f87-4ab5-880a-f5c4bb568b6e",
   "metadata": {
    "tags": []
   },
   "outputs": [
    {
     "data": {
      "text/plain": [
       "'double'"
      ]
     },
     "execution_count": 8,
     "metadata": {},
     "output_type": "execute_result"
    }
   ],
   "source": [
    "orders_tbl[\"SellingPricePerUnit\"].data_type"
   ]
  },
  {
   "cell_type": "markdown",
   "id": "f0cb8919-7cdd-43bb-85a2-d30e230a484b",
   "metadata": {},
   "source": [
    "In some cases, it is useful to iterate through the columns and handle the data based on its data type. For instance, we can define measures for numerical columns iteratively."
   ]
  },
  {
   "cell_type": "code",
   "execution_count": 9,
   "id": "53704b8a-15cc-4b27-8a90-7403653eda9f",
   "metadata": {
    "tags": []
   },
   "outputs": [
    {
     "name": "stdout",
     "output_type": "stream",
     "text": [
      "OrderId is a numerical type column.\n",
      "OrderDate is a hierarchical type column.\n",
      "QuantitySold is a numerical type column.\n",
      "SellingPricePerUnit is a numerical type column.\n",
      "ShipperName is a hierarchical type column.\n",
      "ProductId is a numerical type column.\n",
      "EmployeeId is a numerical type column.\n",
      "CustomerId is a hierarchical type column.\n"
     ]
    }
   ],
   "source": [
    "for col in orders_tbl.columns:\n",
    "    (\n",
    "        print(f\"{col} is a numerical type column.\")\n",
    "        if orders_tbl[col].data_type\n",
    "        in [\n",
    "            \"int\",\n",
    "            \"double\",\n",
    "            \"float\",\n",
    "            \"int[]\",\n",
    "            \"double[]\",\n",
    "        ]\n",
    "        else print(f\"{col} is a hierarchical type column.\")\n",
    "    )"
   ]
  },
  {
   "cell_type": "markdown",
   "id": "0c864c4f-e28d-4aac-bec2-6063cd4e3d85",
   "metadata": {},
   "source": [
    "### 4.2.2 Delete tables\n",
    "\n",
    "Once a table is created, we cannot re-execute the table creation command to perform updates. Instead, we should delete the table and before re-creating it.  \n",
    "\n",
    "The tables are stored as a map under the session. Therefore we can access it simply by using the table's name as the key to the map. "
   ]
  },
  {
   "cell_type": "code",
   "execution_count": 10,
   "id": "886c02c0-42df-4f06-bcba-1663efd3187c",
   "metadata": {
    "tags": []
   },
   "outputs": [],
   "source": [
    "# del session.tables[\"Orders\"]\n",
    "del session.tables[orders_tbl.name]"
   ]
  },
  {
   "cell_type": "markdown",
   "id": "2d8c3835-4bc1-4777-bb19-2dfc187470c9",
   "metadata": {},
   "source": [
    "💡Alternatively, we can restart the session and re-execute everything after."
   ]
  },
  {
   "cell_type": "markdown",
   "id": "1b0fd231-a347-4de2-ab56-b7263ab2169e",
   "metadata": {},
   "source": [
    "### 4.2.3 Table configuration"
   ]
  },
  {
   "cell_type": "markdown",
   "id": "a2d01c3c-b5de-467a-8c31-cf3b18680beb",
   "metadata": {},
   "source": [
    "When we create a table from datasource, we can tweak the table structure as necessary. For instance, we can define key columns to ensure the uniqueness of the data loaded. The key columns are indexed, allowing better search performance.  "
   ]
  },
  {
   "cell_type": "code",
   "execution_count": 11,
   "id": "5ba0ca44-e0e1-493c-b2f5-ba62cab2ee39",
   "metadata": {
    "tags": []
   },
   "outputs": [],
   "source": [
    "orders_tbl = session.read_csv(\n",
    "    \"s3://data.atoti.io/atoti-academy/data/Orders.csv\",\n",
    "    table_name=\"Orders\",\n",
    "    columns={\n",
    "        \"OrderId\": \"Order Id\",\n",
    "        \"OrderDate\": \"Order Date\",\n",
    "        \"QuantitySold\": \"Quantity Sold\",\n",
    "        \"SellingPricePerUnit\": \"Selling Price Per Unit\",\n",
    "        \"ShipperName\": \"Shipper Name\",\n",
    "        \"ProductId\": \"Product Id\",\n",
    "    },\n",
    "    keys=[\"Order Id\", \"Product Id\"],\n",
    "    types={\n",
    "        \"Order Id\": tt.type.STRING,\n",
    "        \"Product Id\": tt.type.STRING,\n",
    "        \"Order Date\": tt.type.LOCAL_DATE,\n",
    "    },\n",
    "    date_patterns={\"Order Date\": \"dd/M/yyyy\"},\n",
    "    default_values={\"Quantity Sold\": 0, \"Selling Price Per Unit\": 0.0},\n",
    ")"
   ]
  },
  {
   "cell_type": "markdown",
   "id": "7963a55c-b45a-4d17-91d9-16dedac8e02c",
   "metadata": {},
   "source": [
    "The example above covered some of the parameters that we commonly configure when creating Atoti table from data sources.\n",
    "\n",
    "**table_name**\n",
    "\n",
    "When reading from a file source, the table name is defaulted to name of the file without the extension. E.g. for Orders.csv, the table name will be \"Orders\" unless specified.  \n",
    "\n",
    "**columns**\n",
    "\n",
    "This parameter is only available for `read_csv` and `read_parquet`. It allows us to:\n",
    "1. Rename columns.\n",
    "2. Select only the required columns from the data source.\n",
    "\n",
    "After renaming the columns, be aware that the following parameters expect the updated names in the mapping instead of the original column names:\n",
    "* `keys`\n",
    "* `types`\n",
    "* `date_patterns`\n",
    "* `default_values`\n",
    "\n",
    "**types**\n",
    "\n",
    "We can cast the data types for the columns explicitly. The parameter expects a dictionary with the column name as key, mapped to the expected [data type](https://docs.atoti.io/latest/api/atoti.type.html#module-atoti.type). This parameter is however, not available for Parquet and Spark DataFrame. \n",
    "\n",
    "**date_patterns**\n",
    "\n",
    "Defines the date format pattern for the date column if it is not in the `yyyy-MM-dd` format. Check out [Java date patterns](https://docs.oracle.com/en/java/javase/15/docs/api/java.base/java/time/format/DateTimeFormatter.html#patterns):  \n",
    "\n",
    "<img src=\"https://data.atoti.io/atoti-academy/images/introduction/4_date_patterns.png\" />\n"
   ]
  },
  {
   "cell_type": "markdown",
   "id": "7c0617ca-5f5a-4613-9ca6-fd4db3f1723d",
   "metadata": {
    "tags": []
   },
   "source": [
    "## 4.3 Data schema \n",
    "\n",
    "Atoti implements a [snowflake schema](https://en.wikipedia.org/wiki/Snowflake_schema). This means that the schema organize data around a central fact table (we call it base table). The other dimension tables joining to the central table can be normalized, i.e. split into multiple related tables, creating a branching structure that resembles a snowflake.  \n",
    "\n",
    "<img src=\"https://data.atoti.io/atoti-academy/images/introduction/4_snowflake_schema.png\" width=\"500px\" />"
   ]
  },
  {
   "cell_type": "markdown",
   "id": "96c740c4-98e2-4195-ae6a-a27598ad2db8",
   "metadata": {},
   "source": [
    "### 4.3.1 Identify base table"
   ]
  },
  {
   "cell_type": "markdown",
   "id": "3c942ab9-7201-4227-bc2f-43af77c95955",
   "metadata": {},
   "source": [
    "The base table contains data at the lowest level of granularity, known as \"facts\" for the cube. It's normally the largest table.  \n",
    "\n",
    "💡To be able to query an item, it has to be reachable from the base table to the refenced table. Therefore, the base table has to be the most granular."
   ]
  },
  {
   "cell_type": "markdown",
   "id": "2bf4812d-8598-4c4e-8951-391c963522e4",
   "metadata": {},
   "source": [
    "### 4.3.2 Visualize table schema"
   ]
  },
  {
   "cell_type": "markdown",
   "id": "60007a50-b8ec-4f64-b178-bc3b78fe04bb",
   "metadata": {},
   "source": [
    "The table schema will show us all the tables in the session, along with their columns and their respective data types. It makes it easier for us to identify the column(s) which we want to use for the table join."
   ]
  },
  {
   "cell_type": "code",
   "execution_count": 12,
   "id": "48f4f004-0c75-42fa-8599-1732b28b5cf9",
   "metadata": {
    "tags": []
   },
   "outputs": [
    {
     "data": {
      "image/png": "[encoded data removed]",
      "text/plain": [
       "erDiagram\n",
       "  \"Orders\" {\n",
       "    _ String PK \"Order Id\"\n",
       "    _ LocalDate \"Order Date\"\n",
       "    _ int \"Quantity Sold\"\n",
       "    _ double \"Selling Price Per Unit\"\n",
       "    _ String \"Shipper Name\"\n",
       "    _ String PK \"Product Id\"\n",
       "  }\n",
       "  \"Products\" {\n",
       "    _ String PK \"ProductId\"\n",
       "    _ String \"ProductName\"\n",
       "    _ String \"ProductCategory\"\n",
       "    _ String \"Supplier\"\n",
       "    _ float \"PurchasingPricePerUnit\"\n",
       "  }"
      ]
     },
     "execution_count": 12,
     "metadata": {},
     "output_type": "execute_result"
    }
   ],
   "source": [
    "session.tables.schema"
   ]
  },
  {
   "cell_type": "markdown",
   "id": "7bb0a2d2-8e10-43c0-b1ae-8f0728580261",
   "metadata": {},
   "source": [
    "In this case, we can see that Product Id is common between the two tables but named differently — `Product Id` in Orders table and `ProductId` in Products table. "
   ]
  },
  {
   "cell_type": "markdown",
   "id": "39d93e04-fa31-46fe-a018-6ba0312a0092",
   "metadata": {},
   "source": [
    "### 4.3.3 Table join"
   ]
  },
  {
   "cell_type": "markdown",
   "id": "43cf528f-14c3-4ef9-852d-a4bdcfb47aa2",
   "metadata": {},
   "source": [
    "Usually, we can perform a table join without defining the columns used for it if the columns have the same name in both tables: \n",
    "\n",
    "`orders_tbl.join(product_tbl)`\n",
    "\n",
    "Atoti automatically infers the join by columns with the same name. However, because there are no common columns by name between the two tables, we will get a cartesian join between the tables. This may result in wrong results returned in queries and definitely poorer querying performance. Hence, let's define the condition of the join explicitly.  "
   ]
  },
  {
   "cell_type": "code",
   "execution_count": 13,
   "id": "1ec640b0-7873-4d70-bfb2-521db0b05a26",
   "metadata": {
    "tags": []
   },
   "outputs": [],
   "source": [
    "orders_tbl.join(product_tbl, (orders_tbl[\"Product Id\"] == product_tbl[\"ProductId\"]))"
   ]
  },
  {
   "cell_type": "markdown",
   "id": "af2956c4-857c-46ed-be0c-a364c15a7992",
   "metadata": {},
   "source": [
    "💡It is a good practice to define the condition of the join explicitly, such that any reader will know clearly which columns are they joined by.  \n",
    "\n",
    "💡We perform the join from the parent table to referenced table, i.e. `orders_tbl → product_tbl`. Similarly, the order of the condition has to be from parent table to referenced table, i.e. `orders_tbl → product_tbl`.  \n",
    "\n",
    "We can have multiple joins by surrounding each condition with a parenthesis and combine the conditions with the `&` operand:\n",
    "\n",
    "`a.join(b, (a[\"col1\"] == b[\"col1\"]) & (a[\"col2\"] == b[\"col2\"]))`"
   ]
  },
  {
   "cell_type": "markdown",
   "id": "0b1e3111-8ccd-4ca9-ad13-3afcdeac484e",
   "metadata": {},
   "source": [
    "### 📐Exercise  \n",
    "\n",
    "View how the schema changed after the last join.  "
   ]
  },
  {
   "cell_type": "markdown",
   "id": "0d59f86d-c3a0-4e5d-bf75-3db374813d4c",
   "metadata": {},
   "source": [
    "### 📖 Solution\n",
    "\n",
    "`session.tables.schema`"
   ]
  },
  {
   "cell_type": "code",
   "execution_count": 14,
   "id": "ede6473d-0f5e-4246-8bae-e53519691172",
   "metadata": {},
   "outputs": [
    {
     "data": {
      "image/png": "[encoded data removed]",
      "text/plain": [
       "erDiagram\n",
       "  \"Orders\" {\n",
       "    _ String PK \"Order Id\"\n",
       "    _ LocalDate \"Order Date\"\n",
       "    _ int \"Quantity Sold\"\n",
       "    _ double \"Selling Price Per Unit\"\n",
       "    _ String \"Shipper Name\"\n",
       "    _ String PK \"Product Id\"\n",
       "  }\n",
       "  \"Products\" {\n",
       "    _ String PK \"ProductId\"\n",
       "    _ String \"ProductName\"\n",
       "    _ String \"ProductCategory\"\n",
       "    _ String \"Supplier\"\n",
       "    _ float \"PurchasingPricePerUnit\"\n",
       "  }\n",
       "  \"Orders\" }o--o| \"Products\" : \"`Product Id` == `ProductId`\""
      ]
     },
     "execution_count": 14,
     "metadata": {},
     "output_type": "execute_result"
    }
   ],
   "source": [
    "session.tables.schema"
   ]
  },
  {
   "cell_type": "markdown",
   "id": "f2ab8314-d53b-4a18-bbdd-d07506a05d24",
   "metadata": {
    "tags": []
   },
   "source": [
    "# 5. Load data into tables\n",
    " \n",
    "After a table is created, we can load data into the tables using the `load` function corresponding to the data source format. For instance, if the data source is a CSV file, we can use [`load_csv`](https://docs.atoti.io/latest/api/atoti.Table.load_csv.html#atoti.Table.load_csv) to upload the data.  \n",
    "\n",
    "💡 Check out the [`atoti.table` module](https://docs.atoti.io/latest/api/atoti.Table.html#atoti.Table) or press `tab` on `table.load` to see the available functions:  \n",
    "\n",
    "<img src=\"https://data.atoti.io/atoti-academy/images/introduction/5_load_functions.png\" />"
   ]
  },
  {
   "cell_type": "code",
   "execution_count": 15,
   "id": "bd6c3a1d-4b37-499b-8509-aff29a9ab9cf",
   "metadata": {
    "tags": []
   },
   "outputs": [
    {
     "data": {
      "text/html": [
       "<div>\n",
       "<style scoped>\n",
       "    .dataframe tbody tr th:only-of-type {\n",
       "        vertical-align: middle;\n",
       "    }\n",
       "\n",
       "    .dataframe tbody tr th {\n",
       "        vertical-align: top;\n",
       "    }\n",
       "\n",
       "    .dataframe thead th {\n",
       "        text-align: right;\n",
       "    }\n",
       "</style>\n",
       "<table border=\"1\" class=\"dataframe\">\n",
       "  <thead>\n",
       "    <tr style=\"text-align: right;\">\n",
       "      <th></th>\n",
       "      <th>ProductName</th>\n",
       "      <th>ProductCategory</th>\n",
       "      <th>Supplier</th>\n",
       "      <th>PurchasingPricePerUnit</th>\n",
       "    </tr>\n",
       "    <tr>\n",
       "      <th>ProductId</th>\n",
       "      <th></th>\n",
       "      <th></th>\n",
       "      <th></th>\n",
       "      <th></th>\n",
       "    </tr>\n",
       "  </thead>\n",
       "  <tbody>\n",
       "    <tr>\n",
       "      <th>539</th>\n",
       "      <td>Queso Cabrales</td>\n",
       "      <td>Dairy Products</td>\n",
       "      <td>Cooperativa de Quesos Las Cabras</td>\n",
       "      <td>11.340000</td>\n",
       "    </tr>\n",
       "    <tr>\n",
       "      <th>552</th>\n",
       "      <td>Singaporean Hokkien Fried Mee</td>\n",
       "      <td>Grains/Cereals</td>\n",
       "      <td>Leka Trading</td>\n",
       "      <td>8.060000</td>\n",
       "    </tr>\n",
       "    <tr>\n",
       "      <th>565</th>\n",
       "      <td>Mozzarella di Giovanni</td>\n",
       "      <td>Dairy Products</td>\n",
       "      <td>Formaggi Fortini s.r.l.</td>\n",
       "      <td>18.770000</td>\n",
       "    </tr>\n",
       "    <tr>\n",
       "      <th>578</th>\n",
       "      <td>Tofu</td>\n",
       "      <td>Produce</td>\n",
       "      <td>Mayumis</td>\n",
       "      <td>12.560000</td>\n",
       "    </tr>\n",
       "    <tr>\n",
       "      <th>591</th>\n",
       "      <td>Manjimup Dried Apples</td>\n",
       "      <td>Produce</td>\n",
       "      <td>Gday, Mate</td>\n",
       "      <td>30.530001</td>\n",
       "    </tr>\n",
       "  </tbody>\n",
       "</table>\n",
       "</div>"
      ],
      "text/plain": [
       "                             ProductName ProductCategory  \\\n",
       "ProductId                                                  \n",
       "539                       Queso Cabrales  Dairy Products   \n",
       "552        Singaporean Hokkien Fried Mee  Grains/Cereals   \n",
       "565               Mozzarella di Giovanni  Dairy Products   \n",
       "578                                 Tofu         Produce   \n",
       "591                Manjimup Dried Apples         Produce   \n",
       "\n",
       "                                   Supplier  PurchasingPricePerUnit  \n",
       "ProductId                                                            \n",
       "539        Cooperativa de Quesos Las Cabras               11.340000  \n",
       "552                            Leka Trading                8.060000  \n",
       "565                 Formaggi Fortini s.r.l.               18.770000  \n",
       "578                                 Mayumis               12.560000  \n",
       "591                              Gday, Mate               30.530001  "
      ]
     },
     "execution_count": 15,
     "metadata": {},
     "output_type": "execute_result"
    }
   ],
   "source": [
    "product_tbl.load_csv(\"s3://data.atoti.io/atoti-academy/data/Products.csv\")\n",
    "product_tbl.head()"
   ]
  },
  {
   "cell_type": "markdown",
   "id": "56b891ed-ccec-43de-8f59-0c8478a40d85",
   "metadata": {},
   "source": [
    "For CSV files which doesn't come with metadata information on the data type, we have to take special note on date columns. Atoti recognizes values formatted in `yyyy-MM-dd` as dates. For all other formats, we have to define the pattern with the `date_patterns` parameter as seen in the previous example in the section \"4.2.3 Table Configuration\".    \n",
    "\n",
    "💡 Read: [Atoti: Working with dates in Python](https://www.atoti.io/guides/atoti-working-with-dates-in-python/)  "
   ]
  },
  {
   "cell_type": "markdown",
   "id": "bac1109a-5cd3-4d21-a0f4-74be5be6b406",
   "metadata": {
    "tags": []
   },
   "source": [
    "Verify the shape of the table after the data loading. "
   ]
  },
  {
   "cell_type": "code",
   "execution_count": 16,
   "id": "5df8dda6-b1a9-487f-b02a-a852a959ffda",
   "metadata": {
    "tags": []
   },
   "outputs": [
    {
     "name": "stdout",
     "output_type": "stream",
     "text": [
      "Number of rows: 77, Number of columns: 5\n"
     ]
    }
   ],
   "source": [
    "print(\n",
    "    f\"Number of rows: {len(product_tbl)}, Number of columns: {len(product_tbl.columns)}\"\n",
    ")"
   ]
  },
  {
   "cell_type": "markdown",
   "id": "76391a28-58fc-448f-beb4-2c4a3dadf16f",
   "metadata": {},
   "source": [
    "# 6. Atoti Cube"
   ]
  },
  {
   "cell_type": "markdown",
   "id": "42218e81-1a0b-4355-ac62-236fc8d81693",
   "metadata": {},
   "source": [
    "## 6.1 Cube creation"
   ]
  },
  {
   "cell_type": "markdown",
   "id": "eadb6e56-f4ab-483e-8962-9d4679ff2947",
   "metadata": {},
   "source": [
    "As Atoti follows the [snowflake schema](https://en.wikipedia.org/wiki/Snowflake_schema), we will create the cube with the base table. \n",
    "\n",
    "💡We can create new tables and join them to the reference table even after the cube is created. Therefore, it is possible to start the cube with a single table and build the model incrementally afterward.  "
   ]
  },
  {
   "cell_type": "code",
   "execution_count": 17,
   "id": "dd90c614-f284-45ba-8243-d40f4819a62b",
   "metadata": {
    "tags": []
   },
   "outputs": [],
   "source": [
    "cube = session.create_cube(orders_tbl, name=\"Order Cube\")"
   ]
  },
  {
   "cell_type": "markdown",
   "id": "daab14ee-f34a-4cad-b85c-50c3272d0454",
   "metadata": {},
   "source": [
    "By default, the cube is created in `auto` mode. This means that non-numerical or key columns are created as single-level hierarchies. A `SUM` and a `MEAN` measure is automatically created for each numerical column.  \n",
    "\n",
    "Other [available modes](https://docs.atoti.io/latest/api/atoti.Session.create_cube.html#atoti.Session.create_cube) are:\n",
    "- `manual`: Only `contributors.COUNT` is created. Users have to manually create the hierarchies and measures they require.\n",
    "- `no_measures`: Similar to `auto` mode, except that measures are not created. This is useful if we have a lot of numerical columns but we do not require the sum and average metrics for all of them.  \n",
    "\n",
    "💡We can create multiple cubes per session. Just remember to give each of them a different name."
   ]
  },
  {
   "cell_type": "markdown",
   "id": "c692f403-542b-4099-9922-cc46bd6458a6",
   "metadata": {},
   "source": [
    "## 6.2 Cube attributes"
   ]
  },
  {
   "cell_type": "markdown",
   "id": "7167c06f-b60c-4d66-bcd0-a4f855e1dd21",
   "metadata": {
    "tags": []
   },
   "source": [
    "The main attributes of a cube are:  \n",
    "\n",
    "* **Dimensions / Hierarchies / Levels**: This is how the data is structured in the cube.  \n",
    "* **Measures**: They are the numberical data / metrics contained in the cube.\n",
    "\n",
    "We will look at these in more detail below. \n",
    "\n",
    "First, let's take a look at the cube, so see the dimensions, hierarchies, levels and measures."
   ]
  },
  {
   "cell_type": "code",
   "execution_count": 18,
   "id": "92381aac-bf3a-407e-bc66-2e02481499d8",
   "metadata": {
    "tags": []
   },
   "outputs": [
    {
     "data": {
      "application/json": {
       "Dimensions": {
        "Orders": {
         "Order Date": [
          "Order Date"
         ],
         "Order Id": [
          "Order Id"
         ],
         "Product Id": [
          "Product Id"
         ],
         "Shipper Name": [
          "Shipper Name"
         ]
        },
        "Products": {
         "ProductCategory": [
          "ProductCategory"
         ],
         "ProductName": [
          "ProductName"
         ],
         "Supplier": [
          "Supplier"
         ]
        }
       },
       "Measures": {
        "Quantity Sold.MEAN": {
         "formatter": "DOUBLE[#,###.00]"
        },
        "Quantity Sold.SUM": {
         "formatter": "INT[#,###]"
        },
        "Selling Price Per Unit.MEAN": {
         "formatter": "DOUBLE[#,###.00]"
        },
        "Selling Price Per Unit.SUM": {
         "formatter": "DOUBLE[#,###.00]"
        },
        "contributors.COUNT": {
         "formatter": "INT[#,###]"
        }
       }
      },
      "text/html": [
       "<ul>\n",
       "<li>Order Cube\n",
       "  <ul>\n",
       "  <li>Dimensions\n",
       "    <ul>\n",
       "    <li>Orders\n",
       "      <ul>\n",
       "      <li>Order Date\n",
       "        <ol>\n",
       "        <li>Order Date</li>\n",
       "        </ol>      </li>\n",
       "      <li>Order Id\n",
       "        <ol>\n",
       "        <li>Order Id</li>\n",
       "        </ol>      </li>\n",
       "      <li>Product Id\n",
       "        <ol>\n",
       "        <li>Product Id</li>\n",
       "        </ol>      </li>\n",
       "      <li>Shipper Name\n",
       "        <ol>\n",
       "        <li>Shipper Name</li>\n",
       "        </ol>      </li>\n",
       "      </ul>\n",
       "    </li>\n",
       "    <li>Products\n",
       "      <ul>\n",
       "      <li>ProductCategory\n",
       "        <ol>\n",
       "        <li>ProductCategory</li>\n",
       "        </ol>      </li>\n",
       "      <li>ProductName\n",
       "        <ol>\n",
       "        <li>ProductName</li>\n",
       "        </ol>      </li>\n",
       "      <li>Supplier\n",
       "        <ol>\n",
       "        <li>Supplier</li>\n",
       "        </ol>      </li>\n",
       "      </ul>\n",
       "    </li>\n",
       "    </ul>\n",
       "  </li>\n",
       "  <li>Measures\n",
       "    <ul>\n",
       "    <li>Quantity Sold.MEAN\n",
       "      <ul>\n",
       "      <li>formatter: DOUBLE[#,###.00]</li>\n",
       "      </ul>\n",
       "    </li>\n",
       "    <li>Quantity Sold.SUM\n",
       "      <ul>\n",
       "      <li>formatter: INT[#,###]</li>\n",
       "      </ul>\n",
       "    </li>\n",
       "    <li>Selling Price Per Unit.MEAN\n",
       "      <ul>\n",
       "      <li>formatter: DOUBLE[#,###.00]</li>\n",
       "      </ul>\n",
       "    </li>\n",
       "    <li>Selling Price Per Unit.SUM\n",
       "      <ul>\n",
       "      <li>formatter: DOUBLE[#,###.00]</li>\n",
       "      </ul>\n",
       "    </li>\n",
       "    <li>contributors.COUNT\n",
       "      <ul>\n",
       "      <li>formatter: INT[#,###]</li>\n",
       "      </ul>\n",
       "    </li>\n",
       "    </ul>\n",
       "  </li>\n",
       "  </ul>\n",
       "</li>\n",
       "</ul>\n"
      ],
      "text/plain": [
       "<atoti.cube.Cube at 0x1725b1a80>"
      ]
     },
     "execution_count": 18,
     "metadata": {
      "application/json": {
       "expanded": false,
       "root": "Order Cube"
      }
     },
     "output_type": "execute_result"
    }
   ],
   "source": [
    "cube"
   ]
  },
  {
   "cell_type": "markdown",
   "id": "4d59a2d0-16aa-4450-86f5-b406fb926c45",
   "metadata": {},
   "source": [
    "In the diagram below, you'll find an overview of the relationship between dimensions, hierarchies and levels:\n",
    "\n",
    "<img src=\"https://data.atoti.io/atoti-academy/images/introduction/6_cube_attributes.png\" width=\"800px\" />"
   ]
  },
  {
   "cell_type": "markdown",
   "id": "8e1387a5-f675-46d0-b289-1988ab3ed307",
   "metadata": {},
   "source": [
    "Understanding the hierarchies and levels is important for us to understand how data is being retrieved from the cube. Each level added to the query will help us identify the location of the value that we are targetting:  \n",
    "\n",
    "<img src=\"https://data.atoti.io/atoti-academy/images/introduction/6_location.png\" width=\"800px\" />"
   ]
  },
  {
   "cell_type": "markdown",
   "id": "4772e4d0-3789-40d7-9829-81325682370c",
   "metadata": {},
   "source": [
    "We can access the attributes individually as well. For instance, let's look at the hierarchies:"
   ]
  },
  {
   "cell_type": "code",
   "execution_count": 19,
   "id": "bc013703-88c4-4690-bd92-bf19eb0277a8",
   "metadata": {
    "tags": []
   },
   "outputs": [
    {
     "data": {
      "application/json": {
       "Quantity Sold.MEAN": {
        "formatter": "DOUBLE[#,###.00]"
       },
       "Quantity Sold.SUM": {
        "formatter": "INT[#,###]"
       },
       "Selling Price Per Unit.MEAN": {
        "formatter": "DOUBLE[#,###.00]"
       },
       "Selling Price Per Unit.SUM": {
        "formatter": "DOUBLE[#,###.00]"
       },
       "contributors.COUNT": {
        "formatter": "INT[#,###]"
       }
      },
      "text/html": [
       "<ul>\n",
       "<li>Measures\n",
       "  <ul>\n",
       "  <li>Quantity Sold.MEAN\n",
       "    <ul>\n",
       "    <li>formatter: DOUBLE[#,###.00]</li>\n",
       "    </ul>\n",
       "  </li>\n",
       "  <li>Quantity Sold.SUM\n",
       "    <ul>\n",
       "    <li>formatter: INT[#,###]</li>\n",
       "    </ul>\n",
       "  </li>\n",
       "  <li>Selling Price Per Unit.MEAN\n",
       "    <ul>\n",
       "    <li>formatter: DOUBLE[#,###.00]</li>\n",
       "    </ul>\n",
       "  </li>\n",
       "  <li>Selling Price Per Unit.SUM\n",
       "    <ul>\n",
       "    <li>formatter: DOUBLE[#,###.00]</li>\n",
       "    </ul>\n",
       "  </li>\n",
       "  <li>contributors.COUNT\n",
       "    <ul>\n",
       "    <li>formatter: INT[#,###]</li>\n",
       "    </ul>\n",
       "  </li>\n",
       "  </ul>\n",
       "</li>\n",
       "</ul>\n"
      ],
      "text/plain": [
       "{'contributors.COUNT': <atoti.measure.Measure object at 0x13cc9de70>, 'update.TIMESTAMP': <atoti.measure.Measure object at 0x13cc23f10>, 'Quantity Sold.SUM': <atoti.measure.Measure object at 0x13cc23d00>, 'Quantity Sold.MEAN': <atoti.measure.Measure object at 0x13cc20700>, 'Selling Price Per Unit.SUM': <atoti.measure.Measure object at 0x13cc20670>, 'Selling Price Per Unit.MEAN': <atoti.measure.Measure object at 0x13cc20760>}"
      ]
     },
     "execution_count": 19,
     "metadata": {
      "application/json": {
       "expanded": false,
       "root": "Measures"
      }
     },
     "output_type": "execute_result"
    }
   ],
   "source": [
    "cube.measures"
   ]
  },
  {
   "cell_type": "markdown",
   "id": "99b5dfe6-08c6-44a4-b7dd-f45b1f1c5826",
   "metadata": {},
   "source": [
    "💡 We can manipulate the cube via these attributes. To simplify coding, we will aliase these attributes with the variable h, l and m for hierarchies, levels and measures respectively.  "
   ]
  },
  {
   "cell_type": "code",
   "execution_count": 20,
   "id": "f5c2575f-e9c3-4521-9820-0bb7ae56ea69",
   "metadata": {
    "tags": []
   },
   "outputs": [],
   "source": [
    "h, l, m = cube.hierarchies, cube.levels, cube.measures"
   ]
  },
  {
   "cell_type": "markdown",
   "id": "7154dd5b-ad35-4c0b-b43a-77915a194696",
   "metadata": {},
   "source": [
    "The equivalent of `cube.measures` is now `m`:"
   ]
  },
  {
   "cell_type": "code",
   "execution_count": 21,
   "id": "937f1394-37c0-465e-a21d-f47b6a7c7a09",
   "metadata": {
    "tags": []
   },
   "outputs": [
    {
     "data": {
      "application/json": {
       "Quantity Sold.MEAN": {
        "formatter": "DOUBLE[#,###.00]"
       },
       "Quantity Sold.SUM": {
        "formatter": "INT[#,###]"
       },
       "Selling Price Per Unit.MEAN": {
        "formatter": "DOUBLE[#,###.00]"
       },
       "Selling Price Per Unit.SUM": {
        "formatter": "DOUBLE[#,###.00]"
       },
       "contributors.COUNT": {
        "formatter": "INT[#,###]"
       }
      },
      "text/html": [
       "<ul>\n",
       "<li>Measures\n",
       "  <ul>\n",
       "  <li>Quantity Sold.MEAN\n",
       "    <ul>\n",
       "    <li>formatter: DOUBLE[#,###.00]</li>\n",
       "    </ul>\n",
       "  </li>\n",
       "  <li>Quantity Sold.SUM\n",
       "    <ul>\n",
       "    <li>formatter: INT[#,###]</li>\n",
       "    </ul>\n",
       "  </li>\n",
       "  <li>Selling Price Per Unit.MEAN\n",
       "    <ul>\n",
       "    <li>formatter: DOUBLE[#,###.00]</li>\n",
       "    </ul>\n",
       "  </li>\n",
       "  <li>Selling Price Per Unit.SUM\n",
       "    <ul>\n",
       "    <li>formatter: DOUBLE[#,###.00]</li>\n",
       "    </ul>\n",
       "  </li>\n",
       "  <li>contributors.COUNT\n",
       "    <ul>\n",
       "    <li>formatter: INT[#,###]</li>\n",
       "    </ul>\n",
       "  </li>\n",
       "  </ul>\n",
       "</li>\n",
       "</ul>\n"
      ],
      "text/plain": [
       "{'contributors.COUNT': <atoti.measure.Measure object at 0x13cb8ce20>, 'update.TIMESTAMP': <atoti.measure.Measure object at 0x13cc20580>, 'Quantity Sold.SUM': <atoti.measure.Measure object at 0x1725b1090>, 'Quantity Sold.MEAN': <atoti.measure.Measure object at 0x1725b2fe0>, 'Selling Price Per Unit.SUM': <atoti.measure.Measure object at 0x1725b0a00>, 'Selling Price Per Unit.MEAN': <atoti.measure.Measure object at 0x1725b0a60>}"
      ]
     },
     "execution_count": 21,
     "metadata": {
      "application/json": {
       "expanded": false,
       "root": "Measures"
      }
     },
     "output_type": "execute_result"
    }
   ],
   "source": [
    "m"
   ]
  },
  {
   "cell_type": "markdown",
   "id": "9a2c4f56-adda-49ae-acf1-3f705571a077",
   "metadata": {},
   "source": [
    "### 6.2.1 Hierarchies and levels"
   ]
  },
  {
   "cell_type": "markdown",
   "id": "417cba0d-abb2-42ae-8534-27c9ed17e97f",
   "metadata": {},
   "source": [
    "A few key points:\n",
    "\n",
    "* Each column in the data source can be treated as a level. \n",
    "* Hierarchies are logical orderings of these data elements (or levels).\n",
    "* It is possible that there is only one level in the hierarchy.  This is known as single-level hierarchy.\n",
    "* Or we might have a parent-child relationship between them. For example in the hierarchy of geographical zones, we might find one level for continents (Europe, Asia, etc.) and a child level for countries (Signapore, China, Malaysia, etc.) Hierarchies can therefore be single-level or multi-level.  \n",
    "\n",
    "We will look at these in greater detail in this section:  \n",
    "- [6.2.1.1 Create multi-level hierarchies](#6.2.1.1-Create-multi-level-hierarchies)\n",
    "- [6.2.1.2 Access levels that exist under more than one hierarchy](#6.2.1.2-Access-levels-that-exist-under-more-than-one-hierarchy)\n",
    "- [6.2.1.3 Single-level vs multi-level hierarchies](#6.2.1.3-Single-level-vs-multi-level-hierarchies)\n",
    "    - [6.2.1.3.1 Single-level hierarchies](#6.2.1.3.1-Single-level-hierarchies)\n",
    "    - [6.2.1.3.2 Multi-level hierarchies](#6.2.1.3.2-Multi-level-hierarchies)\n",
    " \n",
    "💡 By default, hierarchies automatically created in Atoti are single-level."
   ]
  },
  {
   "cell_type": "code",
   "execution_count": 22,
   "id": "72df5a65-7ad9-4813-8713-fde7ca98a841",
   "metadata": {
    "tags": []
   },
   "outputs": [
    {
     "data": {
      "application/json": {
       "Orders": {
        "Order Date": [
         "Order Date"
        ],
        "Order Id": [
         "Order Id"
        ],
        "Product Id": [
         "Product Id"
        ],
        "Shipper Name": [
         "Shipper Name"
        ]
       },
       "Products": {
        "ProductCategory": [
         "ProductCategory"
        ],
        "ProductName": [
         "ProductName"
        ],
        "Supplier": [
         "Supplier"
        ]
       }
      },
      "text/html": [
       "<ul>\n",
       "<li>Dimensions\n",
       "  <ul>\n",
       "  <li>Orders\n",
       "    <ul>\n",
       "    <li>Order Date\n",
       "      <ol>\n",
       "      <li>Order Date</li>\n",
       "      </ol>    </li>\n",
       "    <li>Order Id\n",
       "      <ol>\n",
       "      <li>Order Id</li>\n",
       "      </ol>    </li>\n",
       "    <li>Product Id\n",
       "      <ol>\n",
       "      <li>Product Id</li>\n",
       "      </ol>    </li>\n",
       "    <li>Shipper Name\n",
       "      <ol>\n",
       "      <li>Shipper Name</li>\n",
       "      </ol>    </li>\n",
       "    </ul>\n",
       "  </li>\n",
       "  <li>Products\n",
       "    <ul>\n",
       "    <li>ProductCategory\n",
       "      <ol>\n",
       "      <li>ProductCategory</li>\n",
       "      </ol>    </li>\n",
       "    <li>ProductName\n",
       "      <ol>\n",
       "      <li>ProductName</li>\n",
       "      </ol>    </li>\n",
       "    <li>Supplier\n",
       "      <ol>\n",
       "      <li>Supplier</li>\n",
       "      </ol>    </li>\n",
       "    </ul>\n",
       "  </li>\n",
       "  </ul>\n",
       "</li>\n",
       "</ul>\n"
      ],
      "text/plain": [
       "{('Products', 'Supplier'): <atoti.hierarchy.Hierarchy object at 0x1725b3130>, ('Orders', 'Shipper Name'): <atoti.hierarchy.Hierarchy object at 0x1725b30a0>, ('Products', 'ProductName'): <atoti.hierarchy.Hierarchy object at 0x1725b0a60>, ('Orders', 'Order Date'): <atoti.hierarchy.Hierarchy object at 0x1725b2f50>, ('Orders', 'Order Id'): <atoti.hierarchy.Hierarchy object at 0x1725b0ee0>, ('Orders', 'Product Id'): <atoti.hierarchy.Hierarchy object at 0x1725b2fb0>, ('Products', 'ProductCategory'): <atoti.hierarchy.Hierarchy object at 0x13cb8f8b0>}"
      ]
     },
     "execution_count": 22,
     "metadata": {
      "application/json": {
       "expanded": true,
       "root": "Dimensions"
      }
     },
     "output_type": "execute_result"
    }
   ],
   "source": [
    "# we can use either `cube.hierarchies` or its alias `h` to view the hierarchies\n",
    "h"
   ]
  },
  {
   "cell_type": "markdown",
   "id": "bc4f756e-6180-4e06-834c-d8f83d5d94d0",
   "metadata": {},
   "source": [
    "A few key points:\n",
    "\n",
    "* The highest level of the tree consists of dimensions, which usually are the table names.  \n",
    "* The second level of the tree containing a list is the hierarchies.  \n",
    "* The list under the hierarchy contains the levels under that hierarchy. As we can see, the hierarchies contain 1 level each, indexed by 0."
   ]
  },
  {
   "cell_type": "markdown",
   "id": "0cd7a758-0689-4c8c-a49f-5075fada5c5a",
   "metadata": {},
   "source": [
    "Since `cube.hierarchies` is a list of hierarchy, we can access a specific hierarchy using its name as a key to the list."
   ]
  },
  {
   "cell_type": "code",
   "execution_count": 23,
   "id": "ce3afb1e-b5fe-41d9-b604-e54ffad58627",
   "metadata": {
    "tags": []
   },
   "outputs": [
    {
     "data": {
      "application/json": [
       "Order Date"
      ],
      "text/html": [
       "<ul>\n",
       "<li>Order Date\n",
       "  <ol>\n",
       "  <li>Order Date</li>\n",
       "  </ol></li>\n",
       "</ul>\n"
      ],
      "text/plain": [
       "<atoti.hierarchy.Hierarchy at 0x1725e5cf0>"
      ]
     },
     "execution_count": 23,
     "metadata": {
      "application/json": {
       "expanded": false,
       "root": "Order Date"
      }
     },
     "output_type": "execute_result"
    }
   ],
   "source": [
    "h[\"Order Date\"]"
   ]
  },
  {
   "cell_type": "markdown",
   "id": "2954f2f1-0e47-4b1e-9a05-0c65b379efbd",
   "metadata": {},
   "source": [
    "Similarly, we can view the levels either using `cube.levels` or its alias `l`:"
   ]
  },
  {
   "cell_type": "code",
   "execution_count": 24,
   "id": "b07a4f75-7fa8-45cf-b4f7-5d964028c8cf",
   "metadata": {
    "tags": []
   },
   "outputs": [
    {
     "data": {
      "application/json": {
       "Order Date (Orders/Order Date/Order Date)": {
        "dimension": "Orders",
        "hierarchy": "Order Date",
        "order": "NaturalOrder",
        "type": "LocalDate"
       },
       "Order Id (Orders/Order Id/Order Id)": {
        "dimension": "Orders",
        "hierarchy": "Order Id",
        "order": "NaturalOrder",
        "type": "String"
       },
       "Product Id (Orders/Product Id/Product Id)": {
        "dimension": "Orders",
        "hierarchy": "Product Id",
        "order": "NaturalOrder",
        "type": "String"
       },
       "ProductCategory (Products/ProductCategory/ProductCategory)": {
        "dimension": "Products",
        "hierarchy": "ProductCategory",
        "order": "NaturalOrder",
        "type": "String"
       },
       "ProductName (Products/ProductName/ProductName)": {
        "dimension": "Products",
        "hierarchy": "ProductName",
        "order": "NaturalOrder",
        "type": "String"
       },
       "Shipper Name (Orders/Shipper Name/Shipper Name)": {
        "dimension": "Orders",
        "hierarchy": "Shipper Name",
        "order": "NaturalOrder",
        "type": "String"
       },
       "Supplier (Products/Supplier/Supplier)": {
        "dimension": "Products",
        "hierarchy": "Supplier",
        "order": "NaturalOrder",
        "type": "String"
       }
      },
      "text/html": [
       "<ul>\n",
       "<li>Levels\n",
       "  <ul>\n",
       "  <li>Order Date (Orders/Order Date/Order Date)\n",
       "    <ul>\n",
       "    <li>dimension: Orders</li>\n",
       "    <li>hierarchy: Order Date</li>\n",
       "    <li>type: LocalDate</li>\n",
       "    <li>order: NaturalOrder</li>\n",
       "    </ul>\n",
       "  </li>\n",
       "  <li>Order Id (Orders/Order Id/Order Id)\n",
       "    <ul>\n",
       "    <li>dimension: Orders</li>\n",
       "    <li>hierarchy: Order Id</li>\n",
       "    <li>type: String</li>\n",
       "    <li>order: NaturalOrder</li>\n",
       "    </ul>\n",
       "  </li>\n",
       "  <li>Product Id (Orders/Product Id/Product Id)\n",
       "    <ul>\n",
       "    <li>dimension: Orders</li>\n",
       "    <li>hierarchy: Product Id</li>\n",
       "    <li>type: String</li>\n",
       "    <li>order: NaturalOrder</li>\n",
       "    </ul>\n",
       "  </li>\n",
       "  <li>ProductCategory (Products/ProductCategory/ProductCategory)\n",
       "    <ul>\n",
       "    <li>dimension: Products</li>\n",
       "    <li>hierarchy: ProductCategory</li>\n",
       "    <li>type: String</li>\n",
       "    <li>order: NaturalOrder</li>\n",
       "    </ul>\n",
       "  </li>\n",
       "  <li>ProductName (Products/ProductName/ProductName)\n",
       "    <ul>\n",
       "    <li>dimension: Products</li>\n",
       "    <li>hierarchy: ProductName</li>\n",
       "    <li>type: String</li>\n",
       "    <li>order: NaturalOrder</li>\n",
       "    </ul>\n",
       "  </li>\n",
       "  <li>Shipper Name (Orders/Shipper Name/Shipper Name)\n",
       "    <ul>\n",
       "    <li>dimension: Orders</li>\n",
       "    <li>hierarchy: Shipper Name</li>\n",
       "    <li>type: String</li>\n",
       "    <li>order: NaturalOrder</li>\n",
       "    </ul>\n",
       "  </li>\n",
       "  <li>Supplier (Products/Supplier/Supplier)\n",
       "    <ul>\n",
       "    <li>dimension: Products</li>\n",
       "    <li>hierarchy: Supplier</li>\n",
       "    <li>type: String</li>\n",
       "    <li>order: NaturalOrder</li>\n",
       "    </ul>\n",
       "  </li>\n",
       "  </ul>\n",
       "</li>\n",
       "</ul>\n"
      ],
      "text/plain": [
       "<atoti.levels.Levels at 0x1725b2830>"
      ]
     },
     "execution_count": 24,
     "metadata": {
      "application/json": {
       "expanded": true,
       "root": "Levels"
      }
     },
     "output_type": "execute_result"
    }
   ],
   "source": [
    "l"
   ]
  },
  {
   "cell_type": "markdown",
   "id": "981c1739-3559-416d-ab0f-5218b0b7f627",
   "metadata": {},
   "source": [
    "#### 6.2.1.1 Create multi-level hierarchies"
   ]
  },
  {
   "cell_type": "markdown",
   "id": "fcb458d7-5293-44e5-bc41-a3eda8f661c5",
   "metadata": {},
   "source": [
    "The advantages of having a multi-level hierarchy is that we will be able to control the way the levels are grouped and structured. This will in turn, allow us to determine how users navigate through the data in the cube.  \n",
    "\n",
    "⚠️ But, we have to be careful with multi-level hierarchies because we might end up with more than one level with the same name. This means that we have to determine the exact path of the location. We will come back to this in the next section.  \n",
    "\n",
    "<hr/>"
   ]
  },
  {
   "cell_type": "markdown",
   "id": "6621decd-3922-4928-9f01-515386f7108c",
   "metadata": {},
   "source": [
    "##### 6.2.1.1.1 List levels under hierarchy manually"
   ]
  },
  {
   "cell_type": "markdown",
   "id": "88be751d-e338-417e-90f1-fb94c9de8c75",
   "metadata": {},
   "source": [
    "`cube.hierarchies` is a list. We can create new hierarchy simply by adding a new key to the list, i.e. `Product Tree` and assigning it a list of levels in the correct order:"
   ]
  },
  {
   "cell_type": "code",
   "execution_count": 25,
   "id": "153c984f-0a49-4856-a08f-761e0999074d",
   "metadata": {
    "tags": []
   },
   "outputs": [],
   "source": [
    "cube.hierarchies[\"Product Tree\"] = [\n",
    "    product_tbl[\"ProductCategory\"],\n",
    "    product_tbl[\"ProductName\"],\n",
    "]"
   ]
  },
  {
   "cell_type": "markdown",
   "id": "87fa31db-8f48-46b1-8dbc-298b1cb49e5a",
   "metadata": {},
   "source": [
    "💡 The below snippet will give the same result as the above snippet:  \n",
    "\n",
    "* `cube.hierarchies[\"Product Tree\"] = [cube.levels[\"ProductCategory\"], cube.levels[\"ProductName\"]]`  \n",
    "\n",
    "and so will the following snippet which uses the alias:  \n",
    "\n",
    "* `h[\"Product Tree\"] = [l[\"ProductCategory\"], l[\"ProductName\"]]`  \n",
    "\n",
    "\n",
    "We can build multi-level hierarchies either by referring to the table column or using a level in the cube."
   ]
  },
  {
   "cell_type": "markdown",
   "id": "9669b843-74c8-4d34-b4fd-2f21f243de28",
   "metadata": {},
   "source": [
    "##### 6.2.1.1.2 Create date bucketing hierarchy with function"
   ]
  },
  {
   "cell_type": "markdown",
   "id": "d99e3616-f338-475c-9e47-0d399918ee34",
   "metadata": {},
   "source": [
    "If we have the date value broken into different columns containing the data components such as `Year`, `Month` and `Day`, we can create multilevel hierarchy date buckets using the method listed in section 6.2.1.1.1. However, a quicker way is to use the [`create_date_hierarchy`](https://docs.atoti.io/latest/api/atoti.Cube.create_date_hierarchy.html#atoti.Cube.create_date_hierarchy) function that allow us to split a date column into different date components.  "
   ]
  },
  {
   "cell_type": "code",
   "execution_count": 26,
   "id": "879e3c23-9d0d-4b82-b8ea-cf7e67c25029",
   "metadata": {
    "tags": []
   },
   "outputs": [],
   "source": [
    "cube.create_date_hierarchy(\n",
    "    \"Date Hierarchy\",\n",
    "    column=orders_tbl[\"Order Date\"],\n",
    "    levels={\"Year\": \"yyyy\", \"Month\": \"MM\"},\n",
    ")\n",
    "h[\"Date Hierarchy\"] = {\n",
    "    **h[\"Date Hierarchy\"].levels,\n",
    "    \"Order Date\": orders_tbl[\"Order Date\"],\n",
    "}"
   ]
  },
  {
   "cell_type": "markdown",
   "id": "5a912811-92b1-4e5b-82da-7bbdfdbb2e39",
   "metadata": {},
   "source": [
    "In the above example, we created another `Order Date` level that contains the same value as `Order Date` column, instead of creating a `Day` level that contains the day value. We will use the two `Order Date` levels to demonstrate how the same data under different hierarchies may have different behaviour during aggregation."
   ]
  },
  {
   "cell_type": "code",
   "execution_count": 27,
   "id": "d1300b71-d16c-4380-8f96-4d0b569d61d4",
   "metadata": {
    "atoti": {
     "height": 288,
     "widget": {
      "columnWidths": {
       "[Measures].[Quantity Sold.SUM]": 170,
       "[Measures].[Selling Price Per Unit.SUM]": 181
      },
      "mapping": {
       "columns": [
        "ALL_MEASURES"
       ],
       "measures": [
        "[Measures].[Selling Price Per Unit.SUM]",
        "[Measures].[Quantity Sold.SUM]"
       ],
       "rows": [
        "[Orders].[Date Hierarchy].[Month] => [Orders].[Date Hierarchy].[Order Date]"
       ]
      },
      "name": "Date bucketing",
      "query": {
       "mdx": "SELECT NON EMPTY Hierarchize(Union(Descendants({[Orders].[Date Hierarchy].[AllMember]}, 2, SELF_AND_BEFORE), Descendants({[Orders].[Date Hierarchy].[AllMember].[2019].[02]}, [Orders].[Date Hierarchy].[Order Date]))) ON ROWS, NON EMPTY {[Measures].[Selling Price Per Unit.SUM], [Measures].[Quantity Sold.SUM]} ON COLUMNS FROM [Order Cube] CELL PROPERTIES VALUE, FORMATTED_VALUE, BACK_COLOR, FORE_COLOR, FONT_FLAGS",
       "updateMode": "once"
      },
      "serverKey": "default",
      "widgetKey": "pivot-table"
     }
    },
    "tags": []
   },
   "outputs": [
    {
     "data": {
      "application/vnd.atoti.widget.v0+json": {
       "sessionId": "1711996833_AFI0EV",
       "sessionLocation": {
        "https": false,
        "port": 9092
       },
       "widgetCreationCode": "session.widget"
      },
      "text/html": [
       "<img height=\"280\" width=\"1157\" src=\"data:image/png;base64,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\" />"
      ],
      "text/plain": [
       "Open the notebook in JupyterLab with the Atoti JupyterLab extension enabled to build this widget."
      ]
     },
     "metadata": {},
     "output_type": "display_data"
    }
   ],
   "source": [
    "session.widget"
   ]
  },
  {
   "cell_type": "markdown",
   "id": "81c77548-a512-4788-914b-342ad0bd4fc2",
   "metadata": {},
   "source": [
    "#### 📐Exercise  \n",
    "\n",
    "Review the hierarchies again."
   ]
  },
  {
   "cell_type": "markdown",
   "id": "ef3f69db-2f11-4177-a967-cce15f77f423",
   "metadata": {
    "tags": []
   },
   "source": [
    "#### 📖 Solution  \n",
    "\n",
    "`cube.hierarchies` or `h`."
   ]
  },
  {
   "cell_type": "code",
   "execution_count": 28,
   "id": "7ddf236d-f86b-4f28-aa04-44da1043384b",
   "metadata": {},
   "outputs": [
    {
     "data": {
      "application/json": {
       "Orders": {
        "Date Hierarchy": [
         "Year",
         "Month",
         "Order Date"
        ],
        "Order Date": [
         "Order Date"
        ],
        "Order Id": [
         "Order Id"
        ],
        "Product Id": [
         "Product Id"
        ],
        "Shipper Name": [
         "Shipper Name"
        ]
       },
       "Products": {
        "Product Tree": [
         "ProductCategory",
         "ProductName"
        ],
        "ProductCategory": [
         "ProductCategory"
        ],
        "ProductName": [
         "ProductName"
        ],
        "Supplier": [
         "Supplier"
        ]
       }
      },
      "text/html": [
       "<ul>\n",
       "<li>Dimensions\n",
       "  <ul>\n",
       "  <li>Orders\n",
       "    <ul>\n",
       "    <li>Date Hierarchy\n",
       "      <ol>\n",
       "      <li>Year</li>\n",
       "      <li>Month</li>\n",
       "      <li>Order Date</li>\n",
       "      </ol>    </li>\n",
       "    <li>Order Date\n",
       "      <ol>\n",
       "      <li>Order Date</li>\n",
       "      </ol>    </li>\n",
       "    <li>Order Id\n",
       "      <ol>\n",
       "      <li>Order Id</li>\n",
       "      </ol>    </li>\n",
       "    <li>Product Id\n",
       "      <ol>\n",
       "      <li>Product Id</li>\n",
       "      </ol>    </li>\n",
       "    <li>Shipper Name\n",
       "      <ol>\n",
       "      <li>Shipper Name</li>\n",
       "      </ol>    </li>\n",
       "    </ul>\n",
       "  </li>\n",
       "  <li>Products\n",
       "    <ul>\n",
       "    <li>Product Tree\n",
       "      <ol>\n",
       "      <li>ProductCategory</li>\n",
       "      <li>ProductName</li>\n",
       "      </ol>    </li>\n",
       "    <li>ProductCategory\n",
       "      <ol>\n",
       "      <li>ProductCategory</li>\n",
       "      </ol>    </li>\n",
       "    <li>ProductName\n",
       "      <ol>\n",
       "      <li>ProductName</li>\n",
       "      </ol>    </li>\n",
       "    <li>Supplier\n",
       "      <ol>\n",
       "      <li>Supplier</li>\n",
       "      </ol>    </li>\n",
       "    </ul>\n",
       "  </li>\n",
       "  </ul>\n",
       "</li>\n",
       "</ul>\n"
      ],
      "text/plain": [
       "{('Products', 'Supplier'): <atoti.hierarchy.Hierarchy object at 0x17260c790>, ('Orders', 'Shipper Name'): <atoti.hierarchy.Hierarchy object at 0x17260c8e0>, ('Products', 'ProductName'): <atoti.hierarchy.Hierarchy object at 0x17260c9d0>, ('Orders', 'Order Date'): <atoti.hierarchy.Hierarchy object at 0x1725e7f70>, ('Orders', 'Order Id'): <atoti.hierarchy.Hierarchy object at 0x1725e7f40>, ('Orders', 'Product Id'): <atoti.hierarchy.Hierarchy object at 0x1725e7d00>, ('Orders', 'Date Hierarchy'): <atoti.hierarchy.Hierarchy object at 0x1725e7c40>, ('Products', 'ProductCategory'): <atoti.hierarchy.Hierarchy object at 0x1725e7850>, ('Products', 'Product Tree'): <atoti.hierarchy.Hierarchy object at 0x1725e7640>}"
      ]
     },
     "execution_count": 28,
     "metadata": {
      "application/json": {
       "expanded": true,
       "root": "Dimensions"
      }
     },
     "output_type": "execute_result"
    }
   ],
   "source": [
    "h"
   ]
  },
  {
   "cell_type": "markdown",
   "id": "025435a9-5d1d-45b1-b20b-e03bfd4d161f",
   "metadata": {
    "tags": []
   },
   "source": [
    "We can see from the tree above, we now have 2 levels with the same name `ProductName` and also another 2 levels with the name `Order Date`."
   ]
  },
  {
   "cell_type": "markdown",
   "id": "afe328f5-88ed-4c64-b6ef-129d0bc3df3b",
   "metadata": {},
   "source": [
    "#### 6.2.1.2 Access levels that exist under more than one hierarchy"
   ]
  },
  {
   "cell_type": "markdown",
   "id": "87498297-9bd8-4035-a7bf-e8e5db25b0d1",
   "metadata": {},
   "source": [
    "When we create a multi-level hierarchy using a column that has an existing level, there are now levels with the same name but under different hierarchies. Therefore, we cannot identify the level using its name as a key."
   ]
  },
  {
   "cell_type": "code",
   "execution_count": 29,
   "id": "e19705a0-54bf-4aeb-90e1-4a94be7b5450",
   "metadata": {
    "tags": []
   },
   "outputs": [
    {
     "ename": "KeyError",
     "evalue": "'An error occurred while calling o1290.findLevelHierarchy.\\n: com.activeviam.fwk.ActiveViamRuntimeException: Levels named `ProductName` are present in several hierarchies: [(`Products`, `ProductName`), (`Products`, `Product Tree`)]. Specify the hierarchy name (and the dimension if necessary).\\n\\tat io.atoti.api.impl.OutsideTransactionApiImpl.findLevelHierarchy(OutsideTransactionApiImpl.java:222)\\n\\tat java.base/jdk.internal.reflect.NativeMethodAccessorImpl.invoke0(Native Method)\\n\\tat java.base/jdk.internal.reflect.NativeMethodAccessorImpl.invoke(Unknown Source)\\n\\tat java.base/jdk.internal.reflect.DelegatingMethodAccessorImpl.invoke(Unknown Source)\\n\\tat java.base/java.lang.reflect.Method.invoke(Unknown Source)\\n\\tat py4j.reflection.MethodInvoker.invoke(MethodInvoker.java:244)\\n\\tat py4j.reflection.ReflectionEngine.invoke(ReflectionEngine.java:357)\\n\\tat py4j.Gateway.invoke(Gateway.java:282)\\n\\tat py4j.commands.AbstractCommand.invokeMethod(AbstractCommand.java:132)\\n\\tat py4j.commands.CallCommand.execute(CallCommand.java:79)\\n\\tat py4j.ClientServerConnection.waitForCommands(ClientServerConnection.java:182)\\n\\tat py4j.ClientServerConnection.run(ClientServerConnection.java:106)\\n\\tat java.base/java.lang.Thread.run(Unknown Source)\\n'",
     "output_type": "error",
     "traceback": [
      "\u001b[0;31m---------------------------------------------------------------------------\u001b[0m",
      "\u001b[0;31mKeyError\u001b[0m                                  Traceback (most recent call last)",
      "Cell \u001b[0;32mIn[29], line 1\u001b[0m\n\u001b[0;32m----> 1\u001b[0m \u001b[43ml\u001b[49m\u001b[43m[\u001b[49m\u001b[38;5;124;43m\"\u001b[39;49m\u001b[38;5;124;43mProductName\u001b[39;49m\u001b[38;5;124;43m\"\u001b[39;49m\u001b[43m]\u001b[49m\n",
      "File \u001b[0;32m~/anaconda3/envs/atoti-0.8.11/lib/python3.10/site-packages/pydantic/validate_call_decorator.py:58\u001b[0m, in \u001b[0;36mvalidate_call.<locals>.validate.<locals>.wrapper_function\u001b[0;34m(*args, **kwargs)\u001b[0m\n\u001b[1;32m     56\u001b[0m \u001b[38;5;129m@functools\u001b[39m\u001b[38;5;241m.\u001b[39mwraps(function)\n\u001b[1;32m     57\u001b[0m \u001b[38;5;28;01mdef\u001b[39;00m \u001b[38;5;21mwrapper_function\u001b[39m(\u001b[38;5;241m*\u001b[39margs, \u001b[38;5;241m*\u001b[39m\u001b[38;5;241m*\u001b[39mkwargs):\n\u001b[0;32m---> 58\u001b[0m     \u001b[38;5;28;01mreturn\u001b[39;00m \u001b[43mvalidate_call_wrapper\u001b[49m\u001b[43m(\u001b[49m\u001b[38;5;241;43m*\u001b[39;49m\u001b[43margs\u001b[49m\u001b[43m,\u001b[49m\u001b[43m \u001b[49m\u001b[38;5;241;43m*\u001b[39;49m\u001b[38;5;241;43m*\u001b[39;49m\u001b[43mkwargs\u001b[49m\u001b[43m)\u001b[49m\n",
      "File \u001b[0;32m~/anaconda3/envs/atoti-0.8.11/lib/python3.10/site-packages/pydantic/_internal/_validate_call.py:81\u001b[0m, in \u001b[0;36mValidateCallWrapper.__call__\u001b[0;34m(self, *args, **kwargs)\u001b[0m\n\u001b[1;32m     80\u001b[0m \u001b[38;5;28;01mdef\u001b[39;00m \u001b[38;5;21m__call__\u001b[39m(\u001b[38;5;28mself\u001b[39m, \u001b[38;5;241m*\u001b[39margs: Any, \u001b[38;5;241m*\u001b[39m\u001b[38;5;241m*\u001b[39mkwargs: Any) \u001b[38;5;241m-\u001b[39m\u001b[38;5;241m>\u001b[39m Any:\n\u001b[0;32m---> 81\u001b[0m     res \u001b[38;5;241m=\u001b[39m \u001b[38;5;28;43mself\u001b[39;49m\u001b[38;5;241;43m.\u001b[39;49m\u001b[43m__pydantic_validator__\u001b[49m\u001b[38;5;241;43m.\u001b[39;49m\u001b[43mvalidate_python\u001b[49m\u001b[43m(\u001b[49m\u001b[43mpydantic_core\u001b[49m\u001b[38;5;241;43m.\u001b[39;49m\u001b[43mArgsKwargs\u001b[49m\u001b[43m(\u001b[49m\u001b[43margs\u001b[49m\u001b[43m,\u001b[49m\u001b[43m \u001b[49m\u001b[43mkwargs\u001b[49m\u001b[43m)\u001b[49m\u001b[43m)\u001b[49m\n\u001b[1;32m     82\u001b[0m     \u001b[38;5;28;01mif\u001b[39;00m \u001b[38;5;28mself\u001b[39m\u001b[38;5;241m.\u001b[39m__return_pydantic_validator__:\n\u001b[1;32m     83\u001b[0m         \u001b[38;5;28;01mreturn\u001b[39;00m \u001b[38;5;28mself\u001b[39m\u001b[38;5;241m.\u001b[39m__return_pydantic_validator__(res)\n",
      "File \u001b[0;32m~/anaconda3/envs/atoti-0.8.11/lib/python3.10/site-packages/atoti_core/base_levels.py:51\u001b[0m, in \u001b[0;36mBaseLevels.__getitem__\u001b[0;34m(self, key)\u001b[0m\n\u001b[1;32m     49\u001b[0m \u001b[38;5;250m\u001b[39m\u001b[38;5;124;03m\"\"\"Return the level with the given key.\"\"\"\u001b[39;00m\n\u001b[1;32m     50\u001b[0m \u001b[38;5;28;01mif\u001b[39;00m \u001b[38;5;28misinstance\u001b[39m(key, \u001b[38;5;28mstr\u001b[39m):\n\u001b[0;32m---> 51\u001b[0m     \u001b[38;5;28;01mreturn\u001b[39;00m \u001b[38;5;28;43mself\u001b[39;49m\u001b[38;5;241;43m.\u001b[39;49m\u001b[43m_find_level\u001b[49m\u001b[43m(\u001b[49m\u001b[43mkey\u001b[49m\u001b[43m)\u001b[49m\n\u001b[1;32m     53\u001b[0m \u001b[38;5;28;01mif\u001b[39;00m \u001b[38;5;28mlen\u001b[39m(key) \u001b[38;5;241m==\u001b[39m \u001b[38;5;241m2\u001b[39m:  \u001b[38;5;66;03m# noqa: PLR2004\u001b[39;00m\n\u001b[1;32m     54\u001b[0m     \u001b[38;5;28;01mreturn\u001b[39;00m \u001b[38;5;28mself\u001b[39m\u001b[38;5;241m.\u001b[39m_find_level(key[\u001b[38;5;241m1\u001b[39m], hierarchy_name\u001b[38;5;241m=\u001b[39mkey[\u001b[38;5;241m0\u001b[39m])\n",
      "File \u001b[0;32m~/anaconda3/envs/atoti-0.8.11/lib/python3.10/site-packages/atoti/levels.py:42\u001b[0m, in \u001b[0;36mLevels._find_level\u001b[0;34m(self, level_name, dimension_name, hierarchy_name)\u001b[0m\n\u001b[1;32m     35\u001b[0m     hierarchy_argument \u001b[38;5;241m=\u001b[39m \u001b[38;5;28mself\u001b[39m\u001b[38;5;241m.\u001b[39m_hierarchies\u001b[38;5;241m.\u001b[39m_java_api\u001b[38;5;241m.\u001b[39mfind_level_hierarchy(\n\u001b[1;32m     36\u001b[0m         level_name,\n\u001b[1;32m     37\u001b[0m         cube_name\u001b[38;5;241m=\u001b[39m\u001b[38;5;28mself\u001b[39m\u001b[38;5;241m.\u001b[39m_hierarchies\u001b[38;5;241m.\u001b[39m_cube_name,\n\u001b[1;32m     38\u001b[0m         dimension_name\u001b[38;5;241m=\u001b[39mdimension_name,\n\u001b[1;32m     39\u001b[0m         hierarchy_name\u001b[38;5;241m=\u001b[39mhierarchy_name,\n\u001b[1;32m     40\u001b[0m     )\n\u001b[1;32m     41\u001b[0m \u001b[38;5;28;01mexcept\u001b[39;00m Py4JError \u001b[38;5;28;01mas\u001b[39;00m error:\n\u001b[0;32m---> 42\u001b[0m     \u001b[38;5;28;01mraise\u001b[39;00m \u001b[38;5;167;01mKeyError\u001b[39;00m(\u001b[38;5;28mstr\u001b[39m(error)) \u001b[38;5;28;01mfrom\u001b[39;00m \u001b[38;5;28;01mNone\u001b[39;00m\n\u001b[1;32m     43\u001b[0m hierarchy \u001b[38;5;241m=\u001b[39m \u001b[38;5;28mself\u001b[39m\u001b[38;5;241m.\u001b[39m_hierarchies\u001b[38;5;241m.\u001b[39m_create_hierarchy_from_arguments(\n\u001b[1;32m     44\u001b[0m     hierarchy_argument\n\u001b[1;32m     45\u001b[0m )\n\u001b[1;32m     46\u001b[0m \u001b[38;5;28;01mreturn\u001b[39;00m hierarchy\u001b[38;5;241m.\u001b[39mlevels[level_name]\n",
      "\u001b[0;31mKeyError\u001b[0m: 'An error occurred while calling o1290.findLevelHierarchy.\\n: com.activeviam.fwk.ActiveViamRuntimeException: Levels named `ProductName` are present in several hierarchies: [(`Products`, `ProductName`), (`Products`, `Product Tree`)]. Specify the hierarchy name (and the dimension if necessary).\\n\\tat io.atoti.api.impl.OutsideTransactionApiImpl.findLevelHierarchy(OutsideTransactionApiImpl.java:222)\\n\\tat java.base/jdk.internal.reflect.NativeMethodAccessorImpl.invoke0(Native Method)\\n\\tat java.base/jdk.internal.reflect.NativeMethodAccessorImpl.invoke(Unknown Source)\\n\\tat java.base/jdk.internal.reflect.DelegatingMethodAccessorImpl.invoke(Unknown Source)\\n\\tat java.base/java.lang.reflect.Method.invoke(Unknown Source)\\n\\tat py4j.reflection.MethodInvoker.invoke(MethodInvoker.java:244)\\n\\tat py4j.reflection.ReflectionEngine.invoke(ReflectionEngine.java:357)\\n\\tat py4j.Gateway.invoke(Gateway.java:282)\\n\\tat py4j.commands.AbstractCommand.invokeMethod(AbstractCommand.java:132)\\n\\tat py4j.commands.CallCommand.execute(CallCommand.java:79)\\n\\tat py4j.ClientServerConnection.waitForCommands(ClientServerConnection.java:182)\\n\\tat py4j.ClientServerConnection.run(ClientServerConnection.java:106)\\n\\tat java.base/java.lang.Thread.run(Unknown Source)\\n'"
     ]
    }
   ],
   "source": [
    "l[\"ProductName\"]"
   ]
  },
  {
   "cell_type": "markdown",
   "id": "a909d43a-22d0-4961-9708-039132b9b6b6",
   "metadata": {
    "tags": []
   },
   "source": [
    "Although the two levels of `ProductName` originated from the same data column, we have go through different hierarchy (sometimes different dimension) to reach each of them. The application will not know from which hierarchy it should access the level from.  \n",
    "\n",
    "<img src=\"https://data.atoti.io/atoti-academy/images/introduction/6_locate_level.png\" width=\"800px\" />\n",
    "\n",
    "As seen in the diagram above, to help us identify the exact level that we are targeting, we should indicate the path to the level as a tuple that comprises of __`(dimension, Hierarchy, level)`__."
   ]
  },
  {
   "cell_type": "code",
   "execution_count": null,
   "id": "2f3df171-cc0b-48b7-94df-4bd4da058d7e",
   "metadata": {
    "tags": []
   },
   "outputs": [],
   "source": [
    "# ProductName under the multi-level hierarchy that we just created\n",
    "l[(\"Products\", \"Product Tree\", \"ProductName\")]"
   ]
  },
  {
   "cell_type": "markdown",
   "id": "162433be-7a64-4bfd-850e-4b01ed59fa8a",
   "metadata": {},
   "source": [
    "We will see in Section 6.2.2 later on, how understanding the hierarchies and levels will help us in crafting our measure definitions.  "
   ]
  },
  {
   "cell_type": "markdown",
   "id": "45005377-6194-4f98-8b4c-ee3ecc51b207",
   "metadata": {},
   "source": [
    "#### 📐Exercise  \n",
    "\n",
    "Try accessing the other level named `ProductName` under (`Products`, `ProductName`)."
   ]
  },
  {
   "cell_type": "markdown",
   "id": "aa20261e-829f-4543-9545-076fd43f3d31",
   "metadata": {},
   "source": [
    "#### 📖 Solution\n",
    "\n",
    "`cube.levels[(\"Products\", \"ProductName\", \"ProductName\")]`\n",
    "\n",
    "or \n",
    "\n",
    "`l[(\"Products\", \"ProductName\", \"ProductName\")]`"
   ]
  },
  {
   "cell_type": "code",
   "execution_count": null,
   "id": "ee00d34f-1753-4fd5-b28b-f34135c7c2c5",
   "metadata": {},
   "outputs": [],
   "source": [
    "l[(\"Products\", \"ProductName\", \"ProductName\")]"
   ]
  },
  {
   "cell_type": "markdown",
   "id": "6bd66eff-deec-4dda-be40-f0a4cecd5edb",
   "metadata": {
    "tags": []
   },
   "source": [
    "#### 6.2.1.3 Single-level vs multi-level hierarchies\n",
    "\n",
    "To understand the difference between the two, we are going to jump ahead to visualization to explore the data.  "
   ]
  },
  {
   "cell_type": "markdown",
   "id": "6379c268-15c5-4e11-a65f-ef5efa662100",
   "metadata": {},
   "source": [
    "##### 6.2.1.3.1 Single-level hierarchies  \n",
    "\n",
    "Let's looks at the data with single-level hierarchies first.  "
   ]
  },
  {
   "cell_type": "code",
   "execution_count": null,
   "id": "3792ce21-37be-4e71-b23a-8a5f7b845fb4",
   "metadata": {
    "atoti": {
     "widget": {
      "columnWidths": {
       "[Measures].[contributors.COUNT]": 140,
       "[Products].[Product Tree].[ProductCategory]": 122,
       "[Products].[ProductName].[ProductName]": 209
      },
      "mapping": {
       "columns": [
        "ALL_MEASURES"
       ],
       "measures": [
        "[Measures].[contributors.COUNT]"
       ],
       "rows": [
        "[Products].[Product Tree].[ProductCategory]",
        "[Products].[ProductName].[ProductName]"
       ]
      },
      "query": {
       "mdx": "SELECT NON EMPTY {[Measures].[contributors.COUNT]} ON COLUMNS, NON EMPTY Crossjoin(Hierarchize(Descendants({[Products].[Product Tree].[ALL].[AllMember]}, 1, SELF_AND_BEFORE)), Hierarchize(Descendants({[Products].[ProductName].[ALL].[AllMember]}, 1, SELF_AND_BEFORE))) ON ROWS FROM [Order Cube] CELL PROPERTIES VALUE, FORMATTED_VALUE, BACK_COLOR, FORE_COLOR, FONT_FLAGS",
       "updateMode": "once"
      },
      "serverKey": "default",
      "widgetKey": "pivot-table"
     }
    },
    "tags": []
   },
   "outputs": [],
   "source": [
    "session.widget"
   ]
  },
  {
   "cell_type": "markdown",
   "id": "46e358b4-7077-458f-89d7-1394f2305355",
   "metadata": {},
   "source": [
    "With single-level hierarchies, we have to add each required levels individually. This gives users the flexibility in the ordering of the levels they want to see. We can easily switch the query order from `ProductName`→`ProductCategory` to the reverse `ProductCategory`→`ProductName` using the Atoti JupyterLab extension on the right:  \n",
    "\n",
    "<img src=\"https://data.atoti.io/atoti-academy/images/introduction/6_Atoti_extension.png\" />"
   ]
  },
  {
   "cell_type": "markdown",
   "id": "6fc67351-1db3-437d-b596-5c578da9e58d",
   "metadata": {},
   "source": [
    "💡`contributors.COUNT` returns the number of underlying facts (or rows of data) contributing to the corresponding level. "
   ]
  },
  {
   "cell_type": "markdown",
   "id": "3499c662-98cc-47d8-b7c7-b707d237370b",
   "metadata": {},
   "source": [
    "##### 6.2.1.3.2 Multi-level hierarchies\n",
    "\n",
    "In the below table, we added the hierarchy `Product Tree` to the table. The top displayed level is `ProductCategory` and it allows us to drill-down to the `ProductName` level as per the order we defined in our list above. Users cannot insert any levels in between the levels we have defined."
   ]
  },
  {
   "cell_type": "code",
   "execution_count": null,
   "id": "2a815328-4772-44cc-90e8-905ee64eb134",
   "metadata": {
    "atoti": {
     "height": 318,
     "widget": {
      "columnWidths": {
       "[Measures].[contributors.COUNT]": 131,
       "[Products].[Product Tree].[ProductName]": 194
      },
      "mapping": {
       "columns": [
        "ALL_MEASURES"
       ],
       "measures": [
        "[Measures].[contributors.COUNT]"
       ],
       "rows": [
        "[Products].[Product Tree].[ProductCategory]"
       ]
      },
      "name": "Multi-level hierarchies",
      "query": {
       "mdx": "SELECT NON EMPTY {[Measures].[contributors.COUNT]} ON COLUMNS, NON EMPTY Hierarchize(Descendants({[Products].[Product Tree].[ALL].[AllMember]}, 1, SELF_AND_BEFORE)) ON ROWS FROM [Order Cube] CELL PROPERTIES VALUE, FORMATTED_VALUE, BACK_COLOR, FORE_COLOR, FONT_FLAGS",
       "updateMode": "once"
      },
      "serverKey": "default",
      "widgetKey": "pivot-table"
     }
    },
    "tags": []
   },
   "outputs": [],
   "source": [
    "session.widget"
   ]
  },
  {
   "cell_type": "markdown",
   "id": "6b2a2c56-5239-48f3-9b99-bd08234c28b9",
   "metadata": {},
   "source": [
    "With multi-level hierarchies, the order of querying is pre-defined. It helps users to follow through the relationship of facts."
   ]
  },
  {
   "cell_type": "markdown",
   "id": "72876bd5-d25e-42c9-a7f0-e683089ae0b1",
   "metadata": {},
   "source": [
    "### 6.2.2 Measures"
   ]
  },
  {
   "cell_type": "markdown",
   "id": "83457229-51f7-4c3a-adbc-3b617e102d5c",
   "metadata": {},
   "source": [
    "Measures are numerical data/metrics that are analyzed and compared across dimension in order to gain insights and make informed decisions.  \n",
    "\n",
    "Below are the measures that are automatically created during cube creation. For each numerical column in the base table, corresponding `MEAN` and `SUM` measures are created. We will have to create measures for referenced table where necessary.   "
   ]
  },
  {
   "cell_type": "code",
   "execution_count": null,
   "id": "39f284ef-7bcb-4cbb-9f18-47b996a8759b",
   "metadata": {
    "tags": []
   },
   "outputs": [],
   "source": [
    "cube.measures"
   ]
  },
  {
   "cell_type": "markdown",
   "id": "d798a594-7fe6-404b-b857-196b8a87ea8b",
   "metadata": {},
   "source": [
    "Atoti has a range of [aggregation functions](https://docs.atoti.io/latest/api/atoti.agg.html). Let's spend some time to understand measures and what we can do with them:   \n",
    "\n",
    "- [6.2.2.1 Create measures from table](#6.2.2.1.-Create-measures-from-table)\n",
    "- [6.2.2.2 Chain up measures](#6.2.2.2-Chain-up-measures)\n",
    "- [6.2.2.3 Prevent aggregation above a given level](#6.2.2.3-Prevent-aggregation-above-a-given-level)\n",
    "- [6.2.2.4 Understand measure scope](#6.2.2.4-Understand-measure-scope)\n",
    "- [6.2.2.5 Format measures](#6.2.2.5-Format-measures)"
   ]
  },
  {
   "cell_type": "markdown",
   "id": "800b0e15-9497-4338-b166-30c981518271",
   "metadata": {},
   "source": [
    "#### 6.2.2.1 Create measures from table"
   ]
  },
  {
   "cell_type": "markdown",
   "id": "e74fc624-de2c-4295-8cc6-4c95e0be2d34",
   "metadata": {},
   "source": [
    "`cube.measures` is a list of measure. We can create a new measure by adding a new key to the list, e.g. \n",
    "- `Selling Price Per Unit`,  \n",
    "- `PurchasingPricePerUnit`\n",
    "- `PurchasingPricePerUnit.SUM` \n",
    "- `PurchasingPricePerUnit.MEAN` \n",
    "in the below examples and formulate their definitions.  \n",
    "\n",
    "💡 Note that `Selling Price Per Unit.SUM` and `Selling Price Per Unit.MEAN` were automatically created during cube creation."
   ]
  },
  {
   "cell_type": "code",
   "execution_count": null,
   "id": "70fb556b-8cfc-4eac-95c3-7beefa080204",
   "metadata": {
    "tags": []
   },
   "outputs": [],
   "source": [
    "# single value\n",
    "cube.measures[\"Selling Price Per Unit\"] = tt.agg.single_value(\n",
    "    orders_tbl[\"Selling Price Per Unit\"]\n",
    ")\n",
    "# single value\n",
    "cube.measures[\"PurchasingPricePerUnit\"] = tt.agg.single_value(\n",
    "    product_tbl[\"PurchasingPricePerUnit\"]\n",
    ")\n",
    "# summation\n",
    "cube.measures[\"PurchasingPricePerUnit.SUM\"] = tt.agg.sum(\n",
    "    product_tbl[\"PurchasingPricePerUnit\"]\n",
    ")\n",
    "# average\n",
    "cube.measures[\"PurchasingPricePerUnit.MEAN\"] = tt.agg.mean(\n",
    "    product_tbl[\"PurchasingPricePerUnit\"]\n",
    ")"
   ]
  },
  {
   "cell_type": "markdown",
   "id": "69cd45dc-3e65-4d82-b54e-81a1ebcd03cb",
   "metadata": {},
   "source": [
    "💡We can alternatively use the alias `m` instead of `cube.measures` for the above."
   ]
  },
  {
   "cell_type": "markdown",
   "id": "45de3fb5-4386-4ba9-986e-28519323053c",
   "metadata": {},
   "source": [
    "`PurchasingPricePerUnit.SUM` and `PurchasingPricePerUnit.MEAN` is similar to the `SUM` and `MEAN` measures that are automatically created by the cube. It aggregates the value along the queried levels. Refer to the type of [aggregation functions](https://docs.atoti.io/latest/api/atoti.agg.html) available from [Atoti documentation](https://docs.atoti.io/latest/index.html).\n",
    "\n",
    "As for the measures `Selling Price Per Unit` and `PurchasingPricePerUnit` created using `single_value`, we will understand their values through the next few examples."
   ]
  },
  {
   "cell_type": "markdown",
   "id": "110dfa98-2f64-4e42-b36b-bcaf15fb40bc",
   "metadata": {},
   "source": [
    "##### 6.2.2.1.1 Single Values"
   ]
  },
  {
   "cell_type": "code",
   "execution_count": null,
   "id": "2b8b3974-186b-481a-a679-d158d782f5a4",
   "metadata": {
    "atoti": {
     "widget": {
      "columnWidths": {
       "[Measures].[PurchasingPricePerUnit]": 159,
       "[Measures].[Selling Price Per Unit]": 144,
       "[Products].[Product Tree].[ProductCategory]": 122,
       "[Products].[ProductName].[ProductName]": 209
      },
      "mapping": {
       "columns": [
        "ALL_MEASURES"
       ],
       "measures": [
        "[Measures].[Selling Price Per Unit]",
        "[Measures].[PurchasingPricePerUnit]"
       ],
       "rows": [
        "[Products].[Product Tree].[ProductCategory]",
        "[Products].[ProductName].[ProductName]"
       ]
      },
      "query": {
       "mdx": "SELECT NON EMPTY Crossjoin(Hierarchize(Descendants({[Products].[Product Tree].[ALL].[AllMember]}, 1, SELF_AND_BEFORE)), Hierarchize(Descendants({[Products].[ProductName].[ALL].[AllMember]}, 1, SELF_AND_BEFORE))) ON ROWS, NON EMPTY {[Measures].[Selling Price Per Unit], [Measures].[PurchasingPricePerUnit]} ON COLUMNS FROM [Order Cube] CELL PROPERTIES VALUE, FORMATTED_VALUE, BACK_COLOR, FORE_COLOR, FONT_FLAGS",
       "updateMode": "once"
      },
      "serverKey": "default",
      "widgetKey": "pivot-table"
     }
    },
    "tags": []
   },
   "outputs": [],
   "source": [
    "session.widget"
   ]
  },
  {
   "cell_type": "markdown",
   "id": "b57480ab-ad99-423b-b4d6-daca323199b6",
   "metadata": {},
   "source": [
    "The `single_value` function will only return a value when all the members on the same level has the same value. In the above visualization, we see only a few products were returned, such as the `ProductName` member \"Chai\", returned for the \"Beverages\" product category. This is because the underlying [MDX](https://learn.microsoft.com/en-us/analysis-services/multidimensional-models/mdx/mdx-query-the-basic-query?view=asallproducts-allversions) for querying the cube uses `NON EMPTY`: \n",
    "\n",
    "The `NON EMPTY` function returns only set of tuples that are not empty. Therefore, we may have less members being displayed in the visualization than the actual number.\n",
    "\n",
    "```\n",
    "SELECT\n",
    "  NON EMPTY {\n",
    "    [Measures].[Selling Price Per Unit]\n",
    "  } ON COLUMNS,\n",
    "  NON EMPTY Crossjoin(\n",
    "    Hierarchize(\n",
    "      Descendants(\n",
    "        {\n",
    "          [Products].[ProductCategory].[ALL].[AllMember]\n",
    "        },\n",
    "        1,\n",
    "        SELF_AND_BEFORE\n",
    "      )\n",
    "    ),\n",
    "    Hierarchize(\n",
    "      Descendants(\n",
    "        {\n",
    "          [Products].[ProductName].[ALL].[AllMember]\n",
    "        },\n",
    "        1,\n",
    "        SELF_AND_BEFORE\n",
    "      )\n",
    "    )\n",
    "  ) ON ROWS\n",
    "  FROM [Order Cube]\n",
    "  CELL PROPERTIES VALUE, FORMATTED_VALUE, BACK_COLOR, FORE_COLOR, FONT_FLAGS\n",
    "```\n",
    "\n",
    "💡 A good way to verify if we are missing any members that you shouldn't is to include measures that we know will not be empty:\n",
    "\n",
    "1. Add `contributors.COUNT` measure to the query as it returns the number of underlying facts for each member.\n",
    "2. Add the summation e.g. `Selling Price Per Unit.SUM` for the intended measure as it will return the summation of the value if it exists.  "
   ]
  },
  {
   "cell_type": "code",
   "execution_count": null,
   "id": "ccd6cc1a-d601-4267-bc22-4f6b44ef3777",
   "metadata": {
    "atoti": {
     "widget": {
      "columnWidths": {
       "[Measures].[contributors.COUNT]": 140
      },
      "mapping": {
       "columns": [
        "ALL_MEASURES"
       ],
       "measures": [
        "[Measures].[contributors.COUNT]"
       ],
       "rows": [
        "[Products].[Product Tree].[ProductCategory]",
        "[Products].[ProductName].[ProductName]"
       ]
      },
      "name": "Displaying available member with contributors.COUNT",
      "query": {
       "mdx": "SELECT NON EMPTY Crossjoin(Hierarchize(Descendants({[Products].[Product Tree].[ALL].[AllMember]}, 1, SELF_AND_BEFORE)), Hierarchize(Descendants({[Products].[ProductName].[ALL].[AllMember]}, 1, SELF_AND_BEFORE))) ON ROWS, NON EMPTY {[Measures].[contributors.COUNT]} ON COLUMNS FROM [Order Cube] CELL PROPERTIES VALUE, FORMATTED_VALUE, BACK_COLOR, FORE_COLOR, FONT_FLAGS",
       "updateMode": "once"
      },
      "serverKey": "default",
      "widgetKey": "pivot-table"
     }
    },
    "tags": []
   },
   "outputs": [],
   "source": [
    "session.widget"
   ]
  },
  {
   "cell_type": "markdown",
   "id": "92e9665c-fe51-41dc-8afd-c5f419f3f09d",
   "metadata": {},
   "source": [
    "Let's try to understand why `Selling Price Per Unit` is not returning any value while its corresponding summation/mean has value.  "
   ]
  },
  {
   "cell_type": "code",
   "execution_count": null,
   "id": "3ef498a1-5c9e-44d7-afd6-3a769dcb0d95",
   "metadata": {
    "tags": []
   },
   "outputs": [],
   "source": [
    "session.tables.schema"
   ]
  },
  {
   "cell_type": "markdown",
   "id": "65bf0f07-37da-48d7-bc11-c3bb56a1f33e",
   "metadata": {},
   "source": [
    "From the cube schema, we can see that the keys `Order Id` and `Product Id` will help us identify unique rows within the table. Since `single_value` only returns a value when all the members have the same value, let's use the keys to investigate the underlying values.  \n",
    "\n",
    "From the previous visualization, we add `Order Id` to the query. We can skip `Product Id` since each (`ProductCategory`, `ProductName`) tuple has a unique `ProductId`."
   ]
  },
  {
   "cell_type": "code",
   "execution_count": null,
   "id": "4384138f-c046-43f3-bee3-1857bb371c19",
   "metadata": {
    "atoti": {
     "widget": {
      "columnWidths": {
       "[Measures].[Selling Price Per Unit.MEAN]": 182,
       "[Measures].[Selling Price Per Unit.SUM]": 174,
       "[Measures].[Selling Price Per Unit]": 144,
       "[Measures].[contributors.COUNT]": 140
      },
      "mapping": {
       "columns": [
        "ALL_MEASURES"
       ],
       "measures": [
        "[Measures].[contributors.COUNT]",
        "[Measures].[Selling Price Per Unit]",
        "[Measures].[Selling Price Per Unit.MEAN]",
        "[Measures].[Selling Price Per Unit.SUM]"
       ],
       "rows": [
        "[Products].[Product Tree].[ProductCategory]",
        "[Products].[ProductName].[ProductName] => [Orders].[Order Id].[Order Id]"
       ]
      },
      "name": "Displaying available member with contributors.COUNT",
      "query": {
       "mdx": "SELECT NON EMPTY Crossjoin(Hierarchize(Descendants({[Products].[Product Tree].[ALL].[AllMember]}, 1, SELF_AND_BEFORE)), Hierarchize(Descendants({[Products].[ProductName].[ALL].[AllMember]}, 1, SELF_AND_BEFORE))) ON ROWS, NON EMPTY {[Measures].[contributors.COUNT], [Measures].[Selling Price Per Unit], [Measures].[Selling Price Per Unit.MEAN], [Measures].[Selling Price Per Unit.SUM]} ON COLUMNS FROM [Order Cube] CELL PROPERTIES VALUE, FORMATTED_VALUE, BACK_COLOR, FORE_COLOR, FONT_FLAGS",
       "updateMode": "once"
      },
      "serverKey": "default",
      "style": {
       "areTooltipsVisible": false
      },
      "widgetKey": "pivot-table"
     }
    },
    "tags": []
   },
   "outputs": [],
   "source": [
    "session.widget"
   ]
  },
  {
   "cell_type": "markdown",
   "id": "3f68557c-035f-4815-b75d-6f36cb0e1bfb",
   "metadata": {},
   "source": [
    "**Single value**: We can see from the table above that the `Selling Price Per Unit` for each order under the `ProductName` is different, i.e. the same product sells at different prices in different orders. Hence, the single-value measure `Selling Price Per Unit` is empty for the `ProductName` level.  \n",
    "\n",
    "**Summation**: In most cases, we cannot use the summation `Selling Price Per Unit.SUM` at the subtotal level, e.g.:\n",
    "- Total profit = (Selling price - Unit Price) x Quantity Sold  \n",
    "\n",
    "**Average**: `Selling Price Per Unit.MEAN` is a good alternative to the single value if we just want the average and not the precise amount.\n",
    "\n",
    "<hr />\n",
    "\n",
    "💡 Instead of referring to the table keys, we can also perform a drillthrough on the measure to perform our investigation. \n",
    "Drillthrough allows us to see the underlying data and understand that the `Selling Price Per Unit` is different for product in different orders."
   ]
  },
  {
   "cell_type": "code",
   "execution_count": null,
   "id": "f70877b7-ed05-4699-8cb0-5e22177be1fe",
   "metadata": {
    "atoti": {
     "height": 284,
     "widget": {
      "columnWidths": {
       "Orders.Order Id": 119,
       "Orders.Quantity Sold": 149,
       "Orders.Selling Price Per Unit": 192,
       "Products.ProductCategory": 182,
       "Products.ProductId": 141,
       "Products.ProductName": 163,
       "Products.PurchasingPricePerUnit": 219
      },
      "filters": [
       {
        "dimensionName": "Measures",
        "hierarchyName": "Measures",
        "members": [
         [
          "Selling Price Per Unit.SUM"
         ]
        ],
        "type": "members"
       },
       {
        "dimensionName": "Products",
        "hierarchyName": "Product Tree",
        "isExclusionFilter": false,
        "members": [
         [
          "AllMember",
          "Beverages",
          "Chang"
         ]
        ],
        "type": "members"
       },
       {
        "dimensionName": "Orders",
        "hierarchyName": "Product Id",
        "isExclusionFilter": false,
        "members": [
         [
          "AllMember",
          "773"
         ]
        ],
        "type": "members"
       }
      ],
      "name": "Drillthrough",
      "query": {
       "mdx": "DRILLTHROUGH SELECT FROM [Order Cube] RETURN MemberValue([Orders.Order Id]), Caption([Orders.Order Id]), MemberValue([Orders.Quantity Sold]), Caption([Orders.Quantity Sold]), MemberValue([Orders.Selling Price Per Unit]), Caption([Orders.Selling Price Per Unit]), MemberValue([Products.ProductCategory]), Caption([Products.ProductCategory]), MemberValue([Products.ProductId]), Caption([Products.ProductId]), MemberValue([Products.ProductName]), Caption([Products.ProductName]), MemberValue([Products.PurchasingPricePerUnit]), Caption([Products.PurchasingPricePerUnit]), MemberValue([Orders.Order Date]), Caption([Orders.Order Date])",
       "updateMode": "once"
      },
      "serverKey": "default",
      "style": {
       "areTooltipsVisible": true,
       "measures": {
        "Orders.Order Id": {
         "justifyContent": "right"
        },
        "Orders.Quantity Sold": {
         "justifyContent": "right"
        }
       },
       "size": "large",
       "wrapHeaders": true
      },
      "widgetKey": "drillthrough-table"
     }
    },
    "tags": []
   },
   "outputs": [],
   "source": [
    "session.widget"
   ]
  },
  {
   "cell_type": "markdown",
   "id": "50acbf94-7eee-43ec-aaa7-98b31cce1ac5",
   "metadata": {},
   "source": [
    "In the later section, we will see how we can chain up measures such as the single-values to achieve our business metrics.  "
   ]
  },
  {
   "cell_type": "markdown",
   "id": "4617f9e0-5231-47d0-8ca7-4b30dd30d5a6",
   "metadata": {},
   "source": [
    "#### 6.2.2.2 Chain up measures"
   ]
  },
  {
   "cell_type": "markdown",
   "id": "18b3e3b9-2868-4381-b4a3-5eb1a3bd1da3",
   "metadata": {},
   "source": [
    "We can implement a formula by chaining up measures. E.g. suppose we want to compute the profit per unit:  \n",
    "\n",
    "$ProfitPerUnit = SellingPricePerUnit - PurchasePricePerUnit$  \n",
    "\n",
    "Below is how we formulate it in Atoti:"
   ]
  },
  {
   "cell_type": "code",
   "execution_count": null,
   "id": "bc737d4f-863e-43dc-aa79-4618c2968885",
   "metadata": {
    "tags": []
   },
   "outputs": [],
   "source": [
    "m[\"_ProfitPerUnit (sv)\"] = m[\"Selling Price Per Unit\"] - m[\"PurchasingPricePerUnit\"]\n",
    "m[\"_ProfitPerUnit (sum)\"] = (\n",
    "    m[\"Selling Price Per Unit.SUM\"] - m[\"PurchasingPricePerUnit.SUM\"]\n",
    ")\n",
    "m[\"_ProfitPerUnit (mean)\"] = (\n",
    "    m[\"Selling Price Per Unit.MEAN\"] - m[\"PurchasingPricePerUnit.MEAN\"]\n",
    ")"
   ]
  },
  {
   "cell_type": "markdown",
   "id": "c8f15ee9-e4d6-468c-8fe7-ebc9741ade4a",
   "metadata": {},
   "source": [
    "At the `Order Id` level, we get the same value for all 3 measures. However, we get different values for each of them at the sub-total and grandtotal levels. So, which is the correct measure we should use?"
   ]
  },
  {
   "cell_type": "code",
   "execution_count": null,
   "id": "27e7f68f-614a-45df-b0d7-fe2b7723fb6c",
   "metadata": {
    "atoti": {
     "widget": {
      "columnWidths": {
       "[Measures].[PurchasingPricePerUnit]": 159,
       "[Measures].[Selling Price Per Unit.SUM]": 161,
       "[Measures].[Selling Price Per Unit]": 144,
       "[Measures].[_ProfitPerUnit (mean)]": 148,
       "[Measures].[_ProfitPerUnit (sum)]": 141,
       "[Measures].[_ProfitPerUnit (sv)]": 130,
       "[Products].[Product Tree].[ProductCategory]": 122,
       "[Products].[Product Tree].[ProductName]": 227
      },
      "mapping": {
       "columns": [
        "ALL_MEASURES"
       ],
       "measures": [
        "[Measures].[Selling Price Per Unit]",
        "[Measures].[PurchasingPricePerUnit]",
        "[Measures].[_ProfitPerUnit (sv)]",
        "[Measures].[_ProfitPerUnit (sum)]",
        "[Measures].[_ProfitPerUnit (mean)]"
       ],
       "rows": [
        "[Products].[Product Tree].[ProductName] => [Orders].[Order Id].[Order Id]"
       ]
      },
      "query": {
       "mdx": "SELECT NON EMPTY {[Measures].[Selling Price Per Unit], [Measures].[PurchasingPricePerUnit], [Measures].[_ProfitPerUnit (sv)], [Measures].[_ProfitPerUnit (sum)], [Measures].[_ProfitPerUnit (mean)]} ON COLUMNS, NON EMPTY Hierarchize(Descendants({[Products].[Product Tree].[AllMember]}, 2, SELF_AND_BEFORE)) ON ROWS FROM [Order Cube] CELL PROPERTIES VALUE, FORMATTED_VALUE, BACK_COLOR, FORE_COLOR, FONT_FLAGS",
       "updateMode": "once"
      },
      "serverKey": "default",
      "widgetKey": "pivot-table"
     }
    },
    "tags": []
   },
   "outputs": [],
   "source": [
    "session.widget"
   ]
  },
  {
   "cell_type": "markdown",
   "id": "772abd6d-f750-43e7-b2db-5387648ee53f",
   "metadata": {},
   "source": [
    "It all depends on what KPI we want to achieve:  \n",
    "- `_ProfitPerUnit (mean)` makes the most sense as it gives us the average profit per unit for the product across the orders.  \n",
    "- `_ProfitPerUnit (sv)` makes no sense as `Selling Price Per Unit` is empty at the `ProductName` level, hence the difference is the `PurchasingPricePerUnit` itself.  \n",
    "- Although `_ProfitPerUnit (sum)` is computed correctly, the value itself does not give any useful insights.  \n",
    "\n",
    "Let's correct the computation of `_ProfitPerUnit (sv)` first in the next section before continuing with our measure creations.  "
   ]
  },
  {
   "cell_type": "markdown",
   "id": "ee1eaee9-7de6-4ccc-84b3-9bf976f11e73",
   "metadata": {},
   "source": [
    "#### 6.2.2.3 Prevent aggregation above a given level"
   ]
  },
  {
   "cell_type": "markdown",
   "id": "2292cd56-a357-4592-8f2f-9f426f3e6c00",
   "metadata": {},
   "source": [
    "With respect to our dataset, it is possible that `Selling Price Per Unit` is empty at the `ProductName` level.  \n",
    "\n",
    "The most logical fix we have in this case, is to prevent the computation of the measure at the sub-total or grandtotal levels, which in this case, are ProductName and ProductCategory levels. This is the same as saying that we want to prevent aggregation of the measures for any levels above the `Order Id` level.  \n",
    "\n",
    "We achieve this by simply checking if the `Order Id` level is available. We only return the measure value if `Order Id` is available. Otherwise, it's empty.  "
   ]
  },
  {
   "cell_type": "code",
   "execution_count": null,
   "id": "78fa0caf-d36d-4d91-bbb8-906fae638927",
   "metadata": {
    "tags": []
   },
   "outputs": [],
   "source": [
    "m[\"ProfitPerUnit (sv)\"] = tt.where(\n",
    "    l[\"Order Id\"].isnull(), m[\"Selling Price Per Unit\"] - m[\"PurchasingPricePerUnit\"]\n",
    ")"
   ]
  },
  {
   "cell_type": "code",
   "execution_count": null,
   "id": "aea68a5e-63ff-4859-8689-9f40238f7a00",
   "metadata": {
    "atoti": {
     "height": 404,
     "widget": {
      "columnWidths": {
       "[Measures].[ProfitPerUnit (sv)]": 123,
       "[Measures].[PurchasingPricePerUnit]": 146,
       "[Measures].[Selling Price Per Unit.SUM]": 179.10511779785156,
       "[Measures].[Selling Price Per Unit]": 148,
       "[Measures].[_ProfitPerUnit (mean)]": 148,
       "[Measures].[_ProfitPerUnit (sum)]": 141,
       "[Measures].[_ProfitPerUnit (sv)]": 130,
       "[Orders].[Order Id].[Order Id]": 71,
       "[Products].[Product Tree].[ProductCategory]": 122,
       "[Products].[Product Tree].[ProductName]": 194
      },
      "mapping": {
       "columns": [
        "ALL_MEASURES"
       ],
       "measures": [
        "[Measures].[_ProfitPerUnit (sum)]",
        "[Measures].[_ProfitPerUnit (mean)]",
        "[Measures].[_ProfitPerUnit (sv)]",
        "[Measures].[ProfitPerUnit (sv)]"
       ],
       "rows": [
        "[Products].[Product Tree].[ProductCategory] => [Products].[Product Tree].[ProductName] => [Orders].[Order Id].[Order Id]"
       ]
      },
      "name": "Order Id below the Product Tree level",
      "query": {
       "mdx": "SELECT NON EMPTY {[Measures].[_ProfitPerUnit (sum)], [Measures].[_ProfitPerUnit (mean)], [Measures].[_ProfitPerUnit (sv)], [Measures].[ProfitPerUnit (sv)]} ON COLUMNS, NON EMPTY Hierarchize(Union(Crossjoin(Union(Descendants({[Products].[Product Tree].[AllMember]}, 1, SELF_AND_BEFORE), Descendants({[Products].[Product Tree].[AllMember].[Beverages]}, [Products].[Product Tree].[ProductName])), [Orders].[Order Id].DefaultMember), Crossjoin([Products].[Product Tree].[ALL].[AllMember].[Beverages].[Chai], Hierarchize(Descendants({[Orders].[Order Id].[ALL].[AllMember]}, 1, SELF_AND_BEFORE))), Crossjoin([Products].[Product Tree].[ALL].[AllMember].[Beverages].[Chang], Hierarchize(Descendants({[Orders].[Order Id].[ALL].[AllMember]}, 1, SELF_AND_BEFORE))))) ON ROWS FROM [Order Cube] CELL PROPERTIES VALUE, FORMATTED_VALUE, BACK_COLOR, FORE_COLOR, FONT_FLAGS",
       "updateMode": "once"
      },
      "serverKey": "default",
      "widgetKey": "pivot-table"
     }
    },
    "tags": []
   },
   "outputs": [],
   "source": [
    "session.widget"
   ]
  },
  {
   "cell_type": "markdown",
   "id": "a678a0a5-54ca-4344-9d03-e0854bd57c3c",
   "metadata": {},
   "source": [
    "When it comes to designing a __User Defined Function (UDF)__ in the cube, the above illustrates a key principle of Atoti's on the fly computation capability. We can define if data should be aggregated depending on the presence of a queried level.  \n",
    "\n",
    "In the example above, there is no value for `Order Id` where we have the summarized levels of `ProductName` and `ProductCategory`.  \n",
    "\n",
    "<img src=\"https://data.atoti.io/atoti-academy/images/introduction/6_order_of_query.png\" width=\"950px\"/>  \n",
    "\n",
    "In order of querying, we say that `ProductCategory` and `ProductName` are __above__ `Order Id`.  \n",
    "\n",
    "We shifted `Order Id` in the below visualization to be above the `ProductCategory` and `ProductName`. Now, we can see that we are only missing the value of `ProfitPerUnit (sv)` at the grandtotal level. This is because that's the only level that doesn't have the `Order Id` value."
   ]
  },
  {
   "cell_type": "code",
   "execution_count": null,
   "id": "e6ae6669-02a3-4d5c-afef-ac3ddedbf0b4",
   "metadata": {
    "atoti": {
     "height": 404,
     "widget": {
      "columnWidths": {
       "[Measures].[ProfitPerUnit (sv)]": 113,
       "[Measures].[PurchasingPricePerUnit]": 146,
       "[Measures].[Selling Price Per Unit.SUM]": 179.10511779785156,
       "[Measures].[Selling Price Per Unit]": 148,
       "[Measures].[_ProfitPerUnit (mean)]": 148,
       "[Measures].[_ProfitPerUnit (sum)]": 141,
       "[Measures].[_ProfitPerUnit (sv)]": 130,
       "[Orders].[Order Id].[Order Id]": 71,
       "[Products].[Product Tree].[ProductCategory]": 122,
       "[Products].[Product Tree].[ProductName]": 139
      },
      "filters": [
       {
        "dimensionName": "Products",
        "hierarchyName": "ProductCategory",
        "isExclusionFilter": false,
        "members": [
         [
          "AllMember",
          "Beverages"
         ]
        ],
        "type": "members"
       }
      ],
      "mapping": {
       "columns": [
        "ALL_MEASURES"
       ],
       "measures": [
        "[Measures].[_ProfitPerUnit (sum)]",
        "[Measures].[_ProfitPerUnit (mean)]",
        "[Measures].[_ProfitPerUnit (sv)]",
        "[Measures].[ProfitPerUnit (sv)]"
       ],
       "rows": [
        "[Orders].[Order Id].[Order Id]",
        "[Products].[Product Tree].[ProductCategory] => [Products].[Product Tree].[ProductName]"
       ]
      },
      "name": "Order Id above Product Tree level",
      "query": {
       "mdx": "SELECT NON EMPTY {[Measures].[_ProfitPerUnit (sum)], [Measures].[_ProfitPerUnit (mean)], [Measures].[_ProfitPerUnit (sv)], [Measures].[ProfitPerUnit (sv)]} ON COLUMNS, NON EMPTY Hierarchize(Union(Crossjoin(Hierarchize(Descendants({[Orders].[Order Id].[AllMember]}, 1, SELF_AND_BEFORE)), Hierarchize(Descendants({[Products].[Product Tree].[AllMember]}, 1, SELF_AND_BEFORE))), Crossjoin([Orders].[Order Id].[AllMember].[6], Descendants({[Products].[Product Tree].[AllMember].[Beverages]}, [Products].[Product Tree].[ProductName])), Crossjoin([Orders].[Order Id].[AllMember].[18], Descendants({[Products].[Product Tree].[AllMember].[Beverages]}, [Products].[Product Tree].[ProductName])))) ON ROWS FROM [Order Cube] CELL PROPERTIES VALUE, FORMATTED_VALUE, BACK_COLOR, FORE_COLOR, FONT_FLAGS",
       "updateMode": "once"
      },
      "serverKey": "default",
      "widgetKey": "pivot-table"
     }
    },
    "tags": []
   },
   "outputs": [],
   "source": [
    "session.widget"
   ]
  },
  {
   "cell_type": "markdown",
   "id": "3aec5ee8-94ea-43b3-b924-6ef354c8b6ac",
   "metadata": {},
   "source": [
    "Similarly, by switching the `Product Tree` hierarchy to columns instead of rows, we see that the grandtotal value is missing for `_ProfitPerUnit (sv)`. Again, it's for the same reason: `Order Id` is empty and according to our measure definition, nothing is returned.  "
   ]
  },
  {
   "cell_type": "code",
   "execution_count": null,
   "id": "f4683dba-308e-4628-a9db-708280b4bf50",
   "metadata": {
    "atoti": {
     "height": 404,
     "widget": {
      "columnWidths": {
       "[Measures].[ProfitPerUnit (sv)]": 113,
       "[Measures].[PurchasingPricePerUnit]": 146,
       "[Measures].[Selling Price Per Unit.SUM]": 179.10511779785156,
       "[Measures].[Selling Price Per Unit]": 148,
       "[Measures].[_ProfitPerUnit (mean)]": 136,
       "[Measures].[_ProfitPerUnit (sum)]": 129,
       "[Measures].[_ProfitPerUnit (sv)]": 118,
       "[Products].[Product Tree].[AllMember],[Measures].[ProfitPerUnit (sv)]": 123,
       "[Products].[Product Tree].[AllMember],[Measures].[_ProfitPerUnit (mean)]": 148,
       "[Products].[Product Tree].[AllMember],[Measures].[_ProfitPerUnit (sum)]": 141,
       "[Products].[Product Tree].[AllMember].[Beverages],[Measures].[_ProfitPerUnit (mean)]": 148,
       "[Products].[Product Tree].[AllMember].[Beverages],[Measures].[_ProfitPerUnit (sum)]": 141,
       "[Products].[Product Tree].[AllMember].[Beverages],[Measures].[_ProfitPerUnit (sv)]": 126
      },
      "filters": [
       {
        "dimensionName": "Products",
        "hierarchyName": "ProductCategory",
        "isExclusionFilter": false,
        "members": [
         [
          "AllMember",
          "Beverages"
         ]
        ],
        "type": "members"
       }
      ],
      "mapping": {
       "columns": [
        "[Products].[Product Tree].[ProductCategory] => [Products].[Product Tree].[ProductName]",
        "ALL_MEASURES"
       ],
       "measures": [
        "[Measures].[_ProfitPerUnit (sum)]",
        "[Measures].[_ProfitPerUnit (mean)]",
        "[Measures].[_ProfitPerUnit (sv)]",
        "[Measures].[ProfitPerUnit (sv)]"
       ],
       "rows": [
        "[Orders].[Order Id].[Order Id]"
       ]
      },
      "name": "Order Id above Product Tree level",
      "query": {
       "mdx": "SELECT NON EMPTY Crossjoin(Hierarchize(Descendants({[Products].[Product Tree].[AllMember]}, 1, SELF_AND_BEFORE)), {[Measures].[_ProfitPerUnit (sum)], [Measures].[_ProfitPerUnit (mean)], [Measures].[_ProfitPerUnit (sv)], [Measures].[ProfitPerUnit (sv)]}) ON COLUMNS, NON EMPTY Hierarchize(Descendants({[Orders].[Order Id].[AllMember]}, 1, SELF_AND_BEFORE)) ON ROWS FROM [Order Cube] CELL PROPERTIES VALUE, FORMATTED_VALUE, BACK_COLOR, FORE_COLOR, FONT_FLAGS",
       "updateMode": "once"
      },
      "serverKey": "default",
      "widgetKey": "pivot-table"
     }
    },
    "editable": true,
    "slideshow": {
     "slide_type": ""
    },
    "tags": []
   },
   "outputs": [],
   "source": [
    "session.widget"
   ]
  },
  {
   "cell_type": "markdown",
   "id": "4fab9459-3d78-4aa9-993e-5b4694e161ca",
   "metadata": {},
   "source": [
    "With __aggregation on the fly__ capability, we are able to control the behavior of our measures depending on:  \n",
    "\n",
    "* What is being queried.\n",
    "* How measures are ordered in the query. "
   ]
  },
  {
   "cell_type": "markdown",
   "id": "8f3a7a84-6aee-42ac-b4cb-76b9dd187fb2",
   "metadata": {},
   "source": [
    "#### 6.2.2.4 Understand measure scope"
   ]
  },
  {
   "cell_type": "markdown",
   "id": "3a071e79-87db-4b15-8ac2-24680b1823fa",
   "metadata": {},
   "source": [
    "Let's recap on what we have learnt so far on measure definitions:  \n",
    "\n",
    "* It can minimally contain a constant value or simply a formula, for example:\n",
    "\n",
    "```python\n",
    "m[\"_ProfitPerUnit\"] = m[\"Selling Price Per Unit\"] - m[\"PurchasingPricePerUnit\"]\n",
    "```\n",
    "\n",
    "* Otherwise, it may contain functions such as the `where` condition we saw previously:  \n",
    "\n",
    "```python\n",
    "m[\"ProfitPerUnit\"] = tt.where(\n",
    "    l[\"Order Id\"].isnull(), m[\"Selling Price Per Unit\"] - m[\"PurchasingPricePerUnit\"]\n",
    ")\n",
    "```"
   ]
  },
  {
   "cell_type": "markdown",
   "id": "6a30653b-91bf-4b77-bb8d-007f61287341",
   "metadata": {},
   "source": [
    "In this section, we will see how we can further control the behavior of measures with the use of [`scope`](https://docs.atoti.io/latest/api/atoti.scope.html) and why we need such controls.\n",
    "\n",
    "We have three types of scopes:\n",
    "- [Origin scope](https://docs.atoti.io/latest/api/atoti.OriginScope.html#atoti.OriginScope): To start aggregation from the specified levels. \n",
    "- [Cumulative scope](https://docs.atoti.io/latest/api/atoti.CumulativeScope.html): Used when we want to perform a cumulative aggregation e.g. running total.\n",
    "- [Sibling scope](https://docs.atoti.io/latest/api/atoti.SiblingsScope.html): To perform aggregation with values from members within the same level. Suitable for achieving non-linear aggregation."
   ]
  },
  {
   "cell_type": "markdown",
   "id": "8cd9c6ff-70a5-466f-a935-27b7071853f0",
   "metadata": {},
   "source": [
    "##### 6.2.2.4.1 Origin scope"
   ]
  },
  {
   "cell_type": "markdown",
   "id": "4d2243a1-73c0-494f-88c6-3ceeb23ebc31",
   "metadata": {},
   "source": [
    "Given that the formula to compute sales is:\n",
    "\n",
    "$$ Profit = \\sum (ProfitPerUnit \\times QuantitySold) $$\n",
    "\n",
    "We can see there are actually two parts to the above formula:\n",
    "\n",
    "1. We multiply the `ProfitPerUnit` by `Quantity Sold`.\n",
    "2. We take the sum of the above multiplication.\n",
    " "
   ]
  },
  {
   "cell_type": "markdown",
   "id": "8a08b24f-1ed0-4893-b0ef-fae7dbdc3a16",
   "metadata": {},
   "source": [
    "__Applying formula without aggregation__\n",
    "\n",
    "Let's define the first part of the `Sales` measure by taking the multiple between the unit selling price and the quantity sold. "
   ]
  },
  {
   "cell_type": "code",
   "execution_count": null,
   "id": "13d1adec-e9f0-4ba3-a6b2-4197b270e6fe",
   "metadata": {
    "tags": []
   },
   "outputs": [],
   "source": [
    "m[\"Profit\"] = m[\"_ProfitPerUnit (sum)\"] * m[\"Quantity Sold.SUM\"]"
   ]
  },
  {
   "cell_type": "code",
   "execution_count": null,
   "id": "868d1daf-9e1a-499d-a8a6-ca606fb21ac5",
   "metadata": {
    "atoti": {
     "height": 321,
     "widget": {
      "columnWidths": {
       "[Measures].[Profit]": 107,
       "[Measures].[Quantity Sold.SUM]": 132,
       "[Measures].[Selling Price Per Unit.SUM]": 159,
       "[Measures].[_ProfitPerUnit (sum)]": 141,
       "[Orders].[Order Date].[Order Date]": 87,
       "[Orders].[Order Id].[Order Id]": 71,
       "[Products].[Product Tree].[ProductCategory]": 122,
       "[Products].[Product Tree].[ProductName]": 139
      },
      "mapping": {
       "columns": [
        "ALL_MEASURES"
       ],
       "measures": [
        "[Measures].[_ProfitPerUnit (sum)]",
        "[Measures].[Quantity Sold.SUM]",
        "[Measures].[Profit]"
       ],
       "rows": [
        "[Orders].[Order Date].[Order Date]",
        "[Products].[Product Tree].[ProductCategory] => [Products].[Product Tree].[ProductName] => [Orders].[Order Id].[Order Id]"
       ]
      },
      "query": {
       "mdx": "SELECT NON EMPTY Hierarchize(Union(Crossjoin(Hierarchize(Descendants({[Orders].[Order Date].[AllMember]}, 1, SELF_AND_BEFORE)), Hierarchize(Descendants({[Products].[Product Tree].[AllMember]}, 1, SELF_AND_BEFORE)), [Orders].[Order Id].DefaultMember), Crossjoin([Orders].[Order Date].[AllMember].[2019-02-15], Descendants({[Products].[Product Tree].[AllMember].[Beverages]}, [Products].[Product Tree].[ProductName]), [Orders].[Order Id].DefaultMember), Crossjoin([Orders].[Order Date].[AllMember].[2019-02-15], [Products].[Product Tree].[AllMember].[Beverages].[Guaraná Fantástica], Hierarchize(Descendants({[Orders].[Order Id].[AllMember]}, 1, SELF_AND_BEFORE))))) ON ROWS, NON EMPTY {[Measures].[_ProfitPerUnit (sum)], [Measures].[Quantity Sold.SUM], [Measures].[Profit]} ON COLUMNS FROM [Order Cube] CELL PROPERTIES VALUE, FORMATTED_VALUE, BACK_COLOR, FORE_COLOR, FONT_FLAGS",
       "updateMode": "once"
      },
      "serverKey": "default",
      "widgetKey": "pivot-table"
     }
    },
    "tags": []
   },
   "outputs": [],
   "source": [
    "session.widget"
   ]
  },
  {
   "cell_type": "markdown",
   "id": "c1afcaba-6f0e-4111-b838-b4dd925b05c4",
   "metadata": {},
   "source": [
    "With the measure definition above, we see that at every level, including the total levels, Atoti applies the formula of `m[\"_ProfitPerUnit (sum)\"] * m[\"Quantity Sold.SUM\"]`.  \n",
    "\n",
    "<img src=\"https://data.atoti.io/atoti-academy/images/introduction/6_incorrect_aggregation.png\"/>  \n",
    "\n",
    "Therefore, our sales at the total level for the product \"Guaraná Fantástica\" is `2,715.72` (result of 2.12 * 1,281). It should instead, be the summation of the sales for Order Id `338` and `352`, which equals to `1,091.29`."
   ]
  },
  {
   "cell_type": "markdown",
   "id": "797cdb51-35e8-437f-a33e-03cc95a09c70",
   "metadata": {},
   "source": [
    "__Applying aggregation to formula__  \n",
    "\n",
    "Let's work on the second part of the `Profit` measure — the aggregation; Atoti offers a range of [aggregation functions](https://docs.atoti.io/latest/api/atoti.agg.html) such as `long`, `short`, `min`, `max`, `prod`, `std` etc.  \n",
    "\n",
    "1. As per our formula, we will use the summation function [`tt.agg.sum`](https://docs.atoti.io/latest/api/atoti.agg.sum.html#atoti.agg.sum) to sum up the profit:  \n",
    "\n",
    "    `atoti.agg.sum(operand: NonConstantMeasureConvertible, /, *, scope: Scope) → MeasureDescription`\n",
    "\n",
    "2. We know that at `Order Id` level, we want to apply the multiplication between `m[\"_ProfitPerUnit (sum)\"]` and `m[\"Quantity Sold.SUM\"]`. Thereafter, we want to sum up the multiplication. Therefore, the scope `OriginScope` comes into play. It defines the level(s) from which we will start the aggregation.\n",
    "\n",
    "In our case, we will __start aggregating above the `Order Id` level__."
   ]
  },
  {
   "cell_type": "code",
   "execution_count": null,
   "id": "545f33a3-c07e-4906-aa2d-386ce4432fc3",
   "metadata": {
    "tags": []
   },
   "outputs": [],
   "source": [
    "m[\"Aggregated Profit\"] = tt.agg.sum(\n",
    "    m[\"Profit\"], scope=tt.OriginScope(levels={l[\"Order Id\"]})\n",
    ")"
   ]
  },
  {
   "cell_type": "code",
   "execution_count": null,
   "id": "fe119302-48e1-4f1f-bb16-cc56e7bfd386",
   "metadata": {
    "atoti": {
     "height": 321,
     "widget": {
      "columnWidths": {
       "[Measures].[Aggregated Profit]": 125,
       "[Measures].[Profit]": 106,
       "[Measures].[Quantity Sold.SUM]": 132,
       "[Measures].[Selling Price Per Unit.SUM]": 159,
       "[Measures].[_ProfitPerUnit (sum)]": 141,
       "[Orders].[Order Date].[Order Date]": 87,
       "[Products].[Product Tree].[ProductCategory]": 122,
       "[Products].[Product Tree].[ProductName]": 139
      },
      "mapping": {
       "columns": [
        "ALL_MEASURES"
       ],
       "measures": [
        "[Measures].[_ProfitPerUnit (sum)]",
        "[Measures].[Quantity Sold.SUM]",
        "[Measures].[Profit]",
        "[Measures].[Aggregated Profit]"
       ],
       "rows": [
        "[Orders].[Order Date].[Order Date]",
        "[Products].[Product Tree].[ProductCategory] => [Products].[Product Tree].[ProductName] => [Orders].[Order Id].[Order Id]"
       ]
      },
      "query": {
       "mdx": "SELECT NON EMPTY Hierarchize(Union(Crossjoin(Hierarchize(Descendants({[Orders].[Order Date].[AllMember]}, 1, SELF_AND_BEFORE)), Hierarchize(Descendants({[Products].[Product Tree].[AllMember]}, 1, SELF_AND_BEFORE))), Crossjoin([Orders].[Order Date].[ALL].[AllMember].[2019-02-15], Descendants({[Products].[Product Tree].[ALL].[AllMember].[Beverages]}, [Products].[Product Tree].[ProductName])))) ON ROWS, NON EMPTY {[Measures].[_ProfitPerUnit (sum)], [Measures].[Quantity Sold.SUM], [Measures].[Profit], [Measures].[Aggregated Profit]} ON COLUMNS FROM [Order Cube] CELL PROPERTIES VALUE, FORMATTED_VALUE, BACK_COLOR, FORE_COLOR, FONT_FLAGS",
       "updateMode": "once"
      },
      "serverKey": "default",
      "widgetKey": "pivot-table"
     }
    },
    "tags": []
   },
   "outputs": [],
   "source": [
    "session.widget"
   ]
  },
  {
   "cell_type": "markdown",
   "id": "6a1d6aff-5e17-4599-bb1a-4a782079f470",
   "metadata": {},
   "source": [
    "We can see that `Aggregated Profit` now has different behavior above the `Order Id` level. We get the correct computation of the profit value.  \n",
    "\n",
    "__Quick summary:__  \n",
    "\n",
    "By applying scope on `Order Id`, it means:  \n",
    "- For the queried level `Order Id` and whatever levels added after `Order Id`, the formula `m[\"_ProfitPerUnit (sum)\"] * m[\"Quantity Sold.SUM\"]` will be applied. \n",
    "- For any levels that were queried above the `Order Id` level, it will be the sum of the members of the level below.  \n",
    "\n",
    "<img src=\"https://data.atoti.io/atoti-academy/images/introduction/6_measure_scope.png\" width=\"800px\"/>"
   ]
  },
  {
   "cell_type": "markdown",
   "id": "2f01a35f-8b49-448d-9fc5-05f1b359d2bb",
   "metadata": {},
   "source": [
    "##### 📐Exercise  \n",
    "\n",
    "$$ Sales = \\sum (SellingPricePerUnit \\times QuantitySold) $$\n",
    "\n",
    "Given the above formula, create the following measures:\n",
    "- `Sales (sum)`, which uses the measure `Selling Price Per Unit.SUM` to multiply with `Quantity Sold.SUM`.\n",
    "- `Aggregated Sales (sum)`, which aggregates `Sales (sum)` against the scope `Order Id`.\n",
    "- `Sales (sv)`, which uses the measure `Selling Price Per Unit` to multiply with `Quantity Sold.SUM`.\n",
    "- `Aggregated Sales (sv)`, which aggregates `Sales (sv)` against the scope `Order Id`."
   ]
  },
  {
   "cell_type": "markdown",
   "id": "7e810ae5-0e71-4f52-b57d-a176f51dfa54",
   "metadata": {},
   "source": [
    "##### 📖 Solution  \n",
    "\n",
    "```python\n",
    "m[\"Sales (sum)\"] = m[\"Selling Price Per Unit.SUM\"] * m[\"Quantity Sold.SUM\"]\n",
    "m[\"Aggregated Sales (sum)\"] = tt.agg.sum(\n",
    "    m[\"Sales (sum)\"], scope=tt.OriginScope(levels={l[\"Order Id\"]})\n",
    ")\n",
    "\n",
    "m[\"Sales (sv)\"] = m[\"Selling Price Per Unit\"] * m[\"Quantity Sold.SUM\"]\n",
    "m[\"Aggregated Sales (sv)\"] = tt.agg.sum(\n",
    "    m[\"Sales (sv)\"], scope=tt.OriginScope(levels={l[\"Order Id\"]})\n",
    ")\n",
    "```\n",
    "\n",
    "__Difference between SUM vs Single-value measure__\n",
    "\n",
    "💡 `Selling Price Per Unit.SUM` gives us incorrect value at the total levels. Mathematically speaking, we cannot sum the unit selling price to achieve what we wanted. As a result, the `Sales (sum)` measure gives an incorrect total value when we multiplies the unit selling price with the quantity sold. This can be prevented by using the single value measure `Selling Price Per Unit` (refer to [6.2.2.2 Create measures from table](#6.2.2.1-Create-measures-from-table)).   \n",
    "\n",
    "By using the single value measure, we see that the `Selling Price Per Unit` is only available at the total level if all its member has the same value (e.g. for \"Chai\" and \"Côte de Blaye\"). In the case of \"Guaraná Fantástica\", its selling price varies between orders. Therefore, value is only displayed at the `Order Id` level. Sales total is empty in this case as the selling price is not available at the total level.  \n",
    "\n",
    "__However, do note that after applying aggregation with the correct scope, both returns the correct aggregated sales value. The interim `Sales` value is usually important when users want to investigate and understand the final values they see.__"
   ]
  },
  {
   "cell_type": "code",
   "execution_count": null,
   "id": "35cd25fb-8211-4637-93bb-df73136683df",
   "metadata": {
    "tags": []
   },
   "outputs": [],
   "source": [
    "m[\"Sales (sum)\"] = m[\"Selling Price Per Unit.SUM\"] * m[\"Quantity Sold.SUM\"]\n",
    "m[\"Aggregated Sales (sum)\"] = tt.agg.sum(\n",
    "    m[\"Sales (sum)\"], scope=tt.OriginScope(levels={l[\"Order Id\"]})\n",
    ")\n",
    "\n",
    "m[\"Sales (sv)\"] = m[\"Selling Price Per Unit\"] * m[\"Quantity Sold.SUM\"]\n",
    "m[\"Aggregated Sales (sv)\"] = tt.agg.sum(\n",
    "    m[\"Sales (sv)\"], scope=tt.OriginScope(levels={l[\"Order Id\"]})\n",
    ")"
   ]
  },
  {
   "cell_type": "code",
   "execution_count": null,
   "id": "80c56728-e510-4927-bbe4-f12a0149193c",
   "metadata": {
    "atoti": {
     "height": 321,
     "widget": {
      "columnWidths": {
       "[Measures].[Quantity Sold.SUM]": 132,
       "[Measures].[Sales (sum)]": 117,
       "[Measures].[Sales (sv)]": 83,
       "[Measures].[Selling Price Per Unit.SUM]": 174,
       "[Measures].[Selling Price Per Unit]": 144,
       "[Measures].[_ProfitPerUnit (sum)]": 129,
       "[Orders].[Order Date].[Order Date]": 87,
       "[Products].[Product Tree].[ProductCategory]": 122,
       "[Products].[Product Tree].[ProductName]": 139
      },
      "mapping": {
       "columns": [
        "ALL_MEASURES"
       ],
       "measures": [
        "[Measures].[Quantity Sold.SUM]",
        "[Measures].[Selling Price Per Unit.SUM]",
        "[Measures].[Sales (sum)]",
        "[Measures].[Selling Price Per Unit]",
        "[Measures].[Sales (sv)]"
       ],
       "rows": [
        "[Orders].[Order Date].[Order Date]",
        "[Products].[Product Tree].[ProductCategory] => [Products].[Product Tree].[ProductName] => [Orders].[Order Id].[Order Id]"
       ]
      },
      "query": {
       "mdx": "SELECT NON EMPTY Hierarchize(Union(Crossjoin(Hierarchize(Descendants({[Orders].[Order Date].[AllMember]}, 1, SELF_AND_BEFORE)), Hierarchize(Descendants({[Products].[Product Tree].[AllMember]}, 1, SELF_AND_BEFORE))), Crossjoin([Orders].[Order Date].[AllMember].[2019-02-15], Descendants({[Products].[Product Tree].[AllMember].[Beverages]}, [Products].[Product Tree].[ProductName])))) ON ROWS, NON EMPTY {[Measures].[Quantity Sold.SUM], [Measures].[Selling Price Per Unit.SUM], [Measures].[Sales (sum)], [Measures].[Selling Price Per Unit], [Measures].[Sales (sv)]} ON COLUMNS FROM [Order Cube] CELL PROPERTIES VALUE, FORMATTED_VALUE, BACK_COLOR, FORE_COLOR, FONT_FLAGS",
       "updateMode": "once"
      },
      "serverKey": "default",
      "widgetKey": "pivot-table"
     }
    },
    "tags": []
   },
   "outputs": [],
   "source": [
    "session.widget"
   ]
  },
  {
   "cell_type": "markdown",
   "id": "29021e30-6edd-4446-99b8-c8a8850d3325",
   "metadata": {
    "tags": []
   },
   "source": [
    "__Alternative aggregation function__\n",
    "\n",
    "💡 Instead of chaining up two measures, we can also make use of the aggregation function [`sum_product`](https://docs.atoti.io/latest/api/atoti.agg.sum_product.html)."
   ]
  },
  {
   "cell_type": "code",
   "execution_count": null,
   "id": "d91b353a-7846-4391-9755-be5d1fea0a16",
   "metadata": {
    "tags": []
   },
   "outputs": [],
   "source": [
    "m[\"ProdSum Proft\"] = tt.agg.sum_product(\n",
    "    m[\"_ProfitPerUnit (sum)\"],\n",
    "    m[\"Quantity Sold.SUM\"],\n",
    "    scope=tt.OriginScope(levels={l[\"Order Id\"]}),\n",
    ")"
   ]
  },
  {
   "cell_type": "code",
   "execution_count": null,
   "id": "b7e3e985-9455-42eb-b1e1-425f45a19030",
   "metadata": {
    "atoti": {
     "height": 321,
     "widget": {
      "columnWidths": {
       "[Measures].[Aggregated Profit]": 125,
       "[Measures].[ProdSum Proft]": 108,
       "[Measures].[Profit]": 106,
       "[Measures].[Quantity Sold.SUM]": 132,
       "[Measures].[Selling Price Per Unit.SUM]": 159,
       "[Measures].[_ProfitPerUnit (sum)]": 141,
       "[Orders].[Order Date].[Order Date]": 87,
       "[Products].[Product Tree].[ProductCategory]": 122,
       "[Products].[Product Tree].[ProductName]": 139
      },
      "mapping": {
       "columns": [
        "ALL_MEASURES"
       ],
       "measures": [
        "[Measures].[_ProfitPerUnit (sum)]",
        "[Measures].[Quantity Sold.SUM]",
        "[Measures].[Profit]",
        "[Measures].[Aggregated Profit]",
        "[Measures].[ProdSum Proft]"
       ],
       "rows": [
        "[Orders].[Order Date].[Order Date]",
        "[Products].[Product Tree].[ProductCategory] => [Products].[Product Tree].[ProductName] => [Orders].[Order Id].[Order Id]"
       ]
      },
      "query": {
       "mdx": "SELECT NON EMPTY Hierarchize(Union(Crossjoin(Hierarchize(Descendants({[Orders].[Order Date].[AllMember]}, 1, SELF_AND_BEFORE)), Hierarchize(Descendants({[Products].[Product Tree].[AllMember]}, 1, SELF_AND_BEFORE))), Crossjoin([Orders].[Order Date].[AllMember].[2019-02-15], Descendants({[Products].[Product Tree].[AllMember].[Beverages]}, [Products].[Product Tree].[ProductName])))) ON ROWS, NON EMPTY {[Measures].[_ProfitPerUnit (sum)], [Measures].[Quantity Sold.SUM], [Measures].[Profit], [Measures].[Aggregated Profit], [Measures].[ProdSum Proft]} ON COLUMNS FROM [Order Cube] CELL PROPERTIES VALUE, FORMATTED_VALUE, BACK_COLOR, FORE_COLOR, FONT_FLAGS",
       "updateMode": "once"
      },
      "serverKey": "default",
      "widgetKey": "pivot-table"
     }
    },
    "tags": []
   },
   "outputs": [],
   "source": [
    "session.widget"
   ]
  },
  {
   "cell_type": "markdown",
   "id": "4d7f9bcd-7614-48fa-ba92-aa68de64f4ed",
   "metadata": {},
   "source": [
    "##### 📐Exercise  \n",
    "\n",
    "The key value of multidimensional analysis to the ability to gather insights from different perspective. In the below visualization, expand on `Shipper Name` level and verify the correctness of the `Aggregated Profit` value.  "
   ]
  },
  {
   "cell_type": "code",
   "execution_count": null,
   "id": "a48336b9-5597-4eb6-8a4c-a68c34d0fe42",
   "metadata": {
    "atoti": {
     "height": 441,
     "widget": {
      "columnWidths": {
       "[Measures].[Aggregated Profit]": 125,
       "[Measures].[Profit]": 106,
       "[Measures].[Quantity Sold.SUM]": 132,
       "[Measures].[_ProfitPerUnit (sum)]": 141,
       "[Orders].[Order Date].[Order Date]": 87,
       "[Orders].[Shipper Name].[Shipper Name]": 114
      },
      "mapping": {
       "columns": [
        "ALL_MEASURES"
       ],
       "measures": [
        "[Measures].[_ProfitPerUnit (sum)]",
        "[Measures].[Quantity Sold.SUM]",
        "[Measures].[Profit]",
        "[Measures].[Aggregated Profit]"
       ],
       "rows": [
        "[Orders].[Order Date].[Order Date]",
        "[Orders].[Shipper Name].[Shipper Name] => [Orders].[Order Id].[Order Id]"
       ]
      },
      "name": "Sales by shipper",
      "query": {
       "mdx": "SELECT NON EMPTY Hierarchize(Crossjoin(Hierarchize(Descendants({[Orders].[Order Date].[AllMember]}, 1, SELF_AND_BEFORE)), Hierarchize(Descendants({[Orders].[Shipper Name].[AllMember]}, 1, SELF_AND_BEFORE)))) ON ROWS, NON EMPTY {[Measures].[_ProfitPerUnit (sum)], [Measures].[Quantity Sold.SUM], [Measures].[Profit], [Measures].[Aggregated Profit]} ON COLUMNS FROM [Order Cube] CELL PROPERTIES VALUE, FORMATTED_VALUE, BACK_COLOR, FORE_COLOR, FONT_FLAGS",
       "updateMode": "once"
      },
      "serverKey": "default",
      "widgetKey": "pivot-table"
     }
    },
    "tags": []
   },
   "outputs": [],
   "source": [
    "session.widget"
   ]
  },
  {
   "cell_type": "markdown",
   "id": "a91010e0-ac61-4049-99eb-f3a45b6aa610",
   "metadata": {},
   "source": [
    "##### 📖 Solution  \n",
    "\n",
    "The value `Profit` is computed correctly at the most granular level, which is the `Order Id` in this case. Since we are performing summation for any levels above `Order Id` as defined using the `OriginScope`, we are able to achieve the total sales by \"Shipper Name\".  \n",
    "\n",
    "Again, this demonstrates the aggregation on the fly capability of Atoti. Regardless of the levels that we are querying, we will sum up the `Profit` value from the most underlying `Order Id` level at query time.  "
   ]
  },
  {
   "cell_type": "markdown",
   "id": "fe8d75a3-5621-4694-be60-569950bac412",
   "metadata": {},
   "source": [
    "##### 6.2.2.4.2 Cumulative Scope"
   ]
  },
  {
   "cell_type": "markdown",
   "id": "183eb8c8-594d-42f9-9c8c-93f5ae993f28",
   "metadata": {},
   "source": [
    "In data analytics, it is common to compute running totals. In Atoti, we make use of [`CumulativeScope`](https://docs.atoti.io/latest/api/atoti.CumulativeScope.html) to achieve cumulative aggregations, or running totals:\n",
    "\n",
    "Let's see how we can get the running total across the `Order Date`."
   ]
  },
  {
   "cell_type": "code",
   "execution_count": null,
   "id": "817a220d-384a-49c1-a232-ad61254954fa",
   "metadata": {},
   "outputs": [],
   "source": [
    "m[\"Cumulative Profit\"] = tt.agg.sum(\n",
    "    m[\"Aggregated Profit\"],\n",
    "    scope=tt.CumulativeScope(level=l[(\"Orders\", \"Date Hierarchy\", \"Order Date\")]),\n",
    ")"
   ]
  },
  {
   "cell_type": "code",
   "execution_count": null,
   "id": "6001dabb-7fb7-4326-8468-65fe57389edb",
   "metadata": {
    "atoti": {
     "height": 295,
     "widget": {
      "columnWidths": {
       "[Measures].[Aggregated Profit (sv)]": 140,
       "[Measures].[Aggregated Profit]": 125,
       "[Measures].[Aggregated Sales (sv)]": 138,
       "[Measures].[Cumulative Profit (sv)]": 137,
       "[Measures].[Cumulative Profit]": 122,
       "[Measures].[Cumulative Sales (sv)]": 135,
       "[Orders].[Date Hierarchy].[Month]": 65,
       "[Orders].[Date Hierarchy].[Order Date]": 104,
       "[Orders].[Date Hierarchy].[Year]": 65
      },
      "mapping": {
       "columns": [
        "ALL_MEASURES"
       ],
       "measures": [
        "[Measures].[Aggregated Profit]",
        "[Measures].[Cumulative Profit]"
       ],
       "rows": [
        "[Orders].[Date Hierarchy].[Year] => [Orders].[Date Hierarchy].[Order Date]"
       ]
      },
      "query": {
       "mdx": "SELECT NON EMPTY Hierarchize(Union(Descendants({[Orders].[Date Hierarchy].[AllMember]}, 1, SELF_AND_BEFORE), Descendants({[Orders].[Date Hierarchy].[AllMember].[2019]}, [Orders].[Date Hierarchy].[Month]), Descendants({[Orders].[Date Hierarchy].[ALL].[AllMember].[2019].[02]}, [Orders].[Date Hierarchy].[Order Date]))) ON ROWS, NON EMPTY {[Measures].[Aggregated Profit], [Measures].[Cumulative Profit]} ON COLUMNS FROM [Order Cube] CELL PROPERTIES VALUE, FORMATTED_VALUE, BACK_COLOR, FORE_COLOR, FONT_FLAGS",
       "updateMode": "once"
      },
      "serverKey": "default",
      "widgetKey": "pivot-table"
     }
    },
    "tags": []
   },
   "outputs": [],
   "source": [
    "session.widget"
   ]
  },
  {
   "cell_type": "markdown",
   "id": "6393065f-ca6a-49a0-b08c-0b5cabb5e26b",
   "metadata": {},
   "source": [
    "We can verify that the `Cumulative Profit` measure is indeed cumulating the value of the `Aggregated Profit` measure:  \n",
    "\n",
    "<img src=\"https://data.atoti.io/atoti-academy/images/introduction/6_cumulative_totals.png\"/>"
   ]
  },
  {
   "cell_type": "markdown",
   "id": "bb07ea13-ea3f-4e9e-8bed-e7d334d533b8",
   "metadata": {},
   "source": [
    "Now, let's load data from another month to see what happens to our running total:"
   ]
  },
  {
   "cell_type": "code",
   "execution_count": null,
   "id": "ce3b7e38-54fe-4613-a7b9-12ca5ec69969",
   "metadata": {
    "tags": []
   },
   "outputs": [],
   "source": [
    "orders_tbl.load_csv(\n",
    "    \"s3://data.atoti.io/atoti-academy/data/Orders-adhoc.csv\",\n",
    "    columns={\n",
    "        \"OrderId\": \"Order Id\",\n",
    "        \"OrderDate\": \"Order Date\",\n",
    "        \"QuantitySold\": \"Quantity Sold\",\n",
    "        \"SellingPricePerUnit\": \"Selling Price Per Unit\",\n",
    "        \"ShipperName\": \"Shipper Name\",\n",
    "        \"ProductId\": \"Product Id\",\n",
    "    },\n",
    "    date_patterns={\"Order Date\": \"dd/M/yyyy\"},\n",
    ")"
   ]
  },
  {
   "cell_type": "markdown",
   "id": "b208982f-c04a-45ee-bf88-8e5a843a0cdf",
   "metadata": {},
   "source": [
    "Working with cumulative on multi-level hierarchies, we get our bucketed cumulative values.  \n",
    "\n",
    "We can see that the running total starts from the first order date `2019-02-15` and continues until the last date on `2019-03-18`. By collapsing the `Order Date` level from the `Month` level, we get a monthly cumulative total. In a similar manner, we also obtained our yearly cumulative total.  "
   ]
  },
  {
   "cell_type": "code",
   "execution_count": null,
   "id": "2092b7fa-6d08-4f5f-9903-32e1718b64ea",
   "metadata": {
    "atoti": {
     "height": 506,
     "widget": {
      "columnWidths": {
       "[Measures].[Aggregated Profit]": 125,
       "[Measures].[Aggregated Sales (sv)]": 138,
       "[Measures].[Cumulative Profit]": 122,
       "[Measures].[Cumulative Sales (sv)]": 135,
       "[Orders].[Date Hierarchy].[Month]": 65,
       "[Orders].[Date Hierarchy].[Order Date]": 104,
       "[Orders].[Date Hierarchy].[Year]": 65
      },
      "mapping": {
       "columns": [
        "ALL_MEASURES"
       ],
       "measures": [
        "[Measures].[Aggregated Profit]",
        "[Measures].[Cumulative Profit]"
       ],
       "rows": [
        "[Orders].[Date Hierarchy].[Year] => [Orders].[Date Hierarchy].[Order Date]"
       ]
      },
      "name": "Bucketed running total",
      "query": {
       "mdx": "SELECT NON EMPTY {[Measures].[Aggregated Profit], [Measures].[Cumulative Profit]} ON COLUMNS, NON EMPTY Hierarchize(Union(Descendants({[Orders].[Date Hierarchy].[AllMember]}, 1, SELF_AND_BEFORE), Descendants({[Orders].[Date Hierarchy].[AllMember].[2019]}, [Orders].[Date Hierarchy].[Month]), Descendants({[Orders].[Date Hierarchy].[AllMember].[2019].[03]}, [Orders].[Date Hierarchy].[Order Date]), Descendants({[Orders].[Date Hierarchy].[AllMember].[2019].[02]}, [Orders].[Date Hierarchy].[Order Date]))) ON ROWS FROM [Order Cube] CELL PROPERTIES VALUE, FORMATTED_VALUE, BACK_COLOR, FORE_COLOR, FONT_FLAGS",
       "updateMode": "once"
      },
      "serverKey": "default",
      "widgetKey": "pivot-table"
     }
    },
    "tags": []
   },
   "outputs": [],
   "source": [
    "session.widget"
   ]
  },
  {
   "cell_type": "markdown",
   "id": "4ab8b84b-9eaf-4120-a260-6edfb9ccb752",
   "metadata": {},
   "source": [
    "__Reset cumulative total__  \n",
    "\n",
    "We can reset the cumulative total for a certain level by using the `partitioning` parameter of the `CumulativeScope` function. Let's update the definition of our `Cumulative Profit` measure.  "
   ]
  },
  {
   "cell_type": "code",
   "execution_count": null,
   "id": "0c611b8f-0eff-4693-acaf-c006c5d9ea41",
   "metadata": {
    "tags": []
   },
   "outputs": [],
   "source": [
    "m[\"Cumulative Profit\"] = tt.agg.sum(\n",
    "    m[\"Aggregated Profit\"],\n",
    "    scope=tt.CumulativeScope(\n",
    "        level=l[(\"Orders\", \"Date Hierarchy\", \"Order Date\")], partitioning=l[\"Year\"]\n",
    "    ),\n",
    ")"
   ]
  },
  {
   "cell_type": "code",
   "execution_count": null,
   "id": "a7894842-02bd-4387-9adc-9a1d2134f2e4",
   "metadata": {
    "atoti": {
     "height": 232,
     "widget": {
      "columnWidths": {
       "[Measures].[Aggregated Profit (sv)]": 140,
       "[Measures].[Aggregated Profit]": 125,
       "[Measures].[Aggregated Sales (sv)]": 138,
       "[Measures].[Cumulative Profit (sv)]": 137,
       "[Measures].[Cumulative Profit]": 122,
       "[Measures].[Cumulative Sales (sv)]": 135,
       "[Orders].[Date Hierarchy].[Month]": 65,
       "[Orders].[Date Hierarchy].[Year]": 65
      },
      "mapping": {
       "columns": [
        "ALL_MEASURES"
       ],
       "measures": [
        "[Measures].[Aggregated Profit]",
        "[Measures].[Cumulative Profit]"
       ],
       "rows": [
        "[Orders].[Date Hierarchy].[Year] => [Orders].[Date Hierarchy].[Month]"
       ]
      },
      "name": "Cumulative total reset on yearly basis",
      "query": {
       "mdx": "SELECT NON EMPTY Hierarchize(Union(Descendants({[Orders].[Date Hierarchy].[AllMember]}, 1, SELF_AND_BEFORE), Descendants({[Orders].[Date Hierarchy].[AllMember].[2019]}, [Orders].[Date Hierarchy].[Month]))) ON ROWS, NON EMPTY {[Measures].[Aggregated Profit], [Measures].[Cumulative Profit]} ON COLUMNS FROM [Order Cube] CELL PROPERTIES VALUE, FORMATTED_VALUE, BACK_COLOR, FORE_COLOR, FONT_FLAGS",
       "updateMode": "once"
      },
      "serverKey": "default",
      "widgetKey": "pivot-table"
     }
    },
    "tags": []
   },
   "outputs": [],
   "source": [
    "session.widget"
   ]
  },
  {
   "cell_type": "markdown",
   "id": "bb5002d8-3a70-4080-8a27-780015692183",
   "metadata": {},
   "source": [
    "⚠️ We cumulate the `Aggregated Profit` along the level identified by `l[(\"Orders\", \"Date Hierarchy\", \"Order Date\")]`. As explained in earlier sections, even though both `l[(\"Orders\", \"Date Hierarchy\", \"Order Date\")]` and `l[(\"Orders\", \"Order Date\", \"Order Date\")]` originates from the same data column, they are treated as two different levels. Therefore, the measure definition for `Cumulative Profit` does not applies to the `l[(\"Orders\", \"Order Date\", \"Order Date\")]` level. \n",
    "\n",
    "<img src=\"https://data.atoti.io/atoti-academy/images/introduction/6_date_path.png\" />\n",
    "\n",
    "Without a surprise, we will not have any values for `Cumulative Profit` when we query it along the `l[(\"Orders\", \"Order Date\", \"Order Date\")]` as shown below:"
   ]
  },
  {
   "cell_type": "code",
   "execution_count": null,
   "id": "b7cc0cbb-ef06-4b86-8660-a27e8e15f004",
   "metadata": {
    "atoti": {
     "height": 271,
     "widget": {
      "columnWidths": {
       "[Measures].[Aggregated Sales (sv)]": 138,
       "[Measures].[Cumulative Sales (sv)]": 135
      },
      "mapping": {
       "columns": [
        "ALL_MEASURES"
       ],
       "measures": [
        "[Measures].[Aggregated Profit]",
        "[Measures].[Cumulative Profit]"
       ],
       "rows": [
        "[Orders].[Order Date].[Order Date]"
       ]
      },
      "name": "Cumulative profit not available",
      "query": {
       "mdx": "SELECT NON EMPTY Hierarchize(Descendants({[Orders].[Order Date].[AllMember]}, 1, SELF_AND_BEFORE)) ON ROWS, NON EMPTY {[Measures].[Aggregated Profit], [Measures].[Cumulative Profit]} ON COLUMNS FROM [Order Cube] CELL PROPERTIES VALUE, FORMATTED_VALUE, BACK_COLOR, FORE_COLOR, FONT_FLAGS",
       "updateMode": "once"
      },
      "serverKey": "default",
      "widgetKey": "pivot-table"
     }
    },
    "tags": []
   },
   "outputs": [],
   "source": [
    "session.widget"
   ]
  },
  {
   "cell_type": "markdown",
   "id": "4347f11b-70ea-4c9f-91ad-9fedee240804",
   "metadata": {},
   "source": [
    "Create a separate measure to accumulate along the `l[(\"Orders\", \"Order Date\", \"Order Date\")]` if necessary.  "
   ]
  },
  {
   "cell_type": "markdown",
   "id": "7640412e-985c-4bdb-b587-c574ac6f078f",
   "metadata": {},
   "source": [
    "##### 6.2.2.4.3 Sibling Scope"
   ]
  },
  {
   "cell_type": "markdown",
   "id": "623dc01f-4d1a-4792-af2c-0a4bd1075f20",
   "metadata": {},
   "source": [
    "There are times when we want to perform aggregation with members of the same levels. Members of the same level are referred to as siblings, as they have the same parent level. In such cases, we will use [`SiblingScope`](https://docs.atoti.io/latest/api/atoti.SiblingsScope.html) to do so.  \n",
    "\n",
    "Unlike the other two scope functions, `SiblingScope` works on hierarchies. In the below example, we look at the maximum profit within each level in the `Date Hierarchy`.  "
   ]
  },
  {
   "cell_type": "code",
   "execution_count": null,
   "id": "b643a13e-58c0-4e4a-a683-7bc379325a6d",
   "metadata": {
    "tags": []
   },
   "outputs": [],
   "source": [
    "m[\"Max profit\"] = tt.agg.max(\n",
    "    m[\"Aggregated Profit\"], scope=tt.SiblingsScope(hierarchy=h[\"Date Hierarchy\"])\n",
    ")"
   ]
  },
  {
   "cell_type": "code",
   "execution_count": null,
   "id": "4387fad8-0842-4d66-ad5f-5c90063b842c",
   "metadata": {
    "atoti": {
     "height": 448,
     "widget": {
      "columnWidths": {
       "[Measures].[Aggregated Profit (sv)]": 140,
       "[Measures].[Aggregated Profit]": 125,
       "[Measures].[Aggregated Sales (sv)]": 138,
       "[Measures].[Max profit]": 95,
       "[Orders].[Date Hierarchy].[Month]": 65,
       "[Orders].[Date Hierarchy].[Order Date]": 104,
       "[Orders].[Date Hierarchy].[Year]": 65
      },
      "mapping": {
       "columns": [
        "ALL_MEASURES"
       ],
       "measures": [
        "[Measures].[Aggregated Profit]",
        "[Measures].[Max profit]"
       ],
       "rows": [
        "[Orders].[Date Hierarchy].[Year] => [Orders].[Date Hierarchy].[Order Date]"
       ]
      },
      "query": {
       "mdx": "SELECT NON EMPTY Order(Hierarchize(Union(Descendants({[Orders].[Date Hierarchy].[AllMember]}, 1, SELF_AND_BEFORE), Descendants({[Orders].[Date Hierarchy].[AllMember].[2019]}, [Orders].[Date Hierarchy].[Month]), Descendants({[Orders].[Date Hierarchy].[AllMember].[2019].[02]}, [Orders].[Date Hierarchy].[Order Date]), Descendants({[Orders].[Date Hierarchy].[AllMember].[2019].[03]}, [Orders].[Date Hierarchy].[Order Date]))), [Measures].[Aggregated Sales (sv)], DESC) ON ROWS, NON EMPTY {[Measures].[Aggregated Profit], [Measures].[Max profit]} ON COLUMNS FROM [Order Cube] CELL PROPERTIES VALUE, FORMATTED_VALUE, BACK_COLOR, FORE_COLOR, FONT_FLAGS",
       "updateMode": "once"
      },
      "serverKey": "default",
      "widgetKey": "pivot-table"
     }
    },
    "tags": []
   },
   "outputs": [],
   "source": [
    "session.widget"
   ]
  },
  {
   "cell_type": "markdown",
   "id": "98ee7406-e4aa-4cb0-983c-aad9c7b05f23",
   "metadata": {},
   "source": [
    "A few key points:\n",
    "\n",
    "* At the `Order Date` level: We see that the maximum profit in Feb 2019 is `548,588.54` across the 4 dates. Likewise, in Mar 2019, the maximum sales is `548,588.54`.  \n",
    "* At the `Month` level: Comparing Feb and Mar in 2019, Feb has the higher profit value of `1,814,408.23`.  \n",
    "* At the `Year` level: Comparing the profit of 2019 and 2020, 2019 has the higher profit value of `3,616,995.21`.  \n",
    "\n",
    "At the grand total level, it displays the total profit value across `2019` and `2020`."
   ]
  },
  {
   "cell_type": "markdown",
   "id": "8c2a72b5-f389-45bc-930f-e1a96c7cae7f",
   "metadata": {},
   "source": [
    "##### 6.2.2.4.4 Multidimensional Aggregations & Scope"
   ]
  },
  {
   "cell_type": "markdown",
   "id": "a7ca8b07-d2a5-439a-bfb9-09f78dc106c3",
   "metadata": {},
   "source": [
    "Let's explore another use case where scope is extremely useful when we have different aggregation behavior for the same measure, along different dimensions. We will compute the historical average of sales profit where it is:  \n",
    "\n",
    "1. Sum of profits across products which we have previously computed `m[\"Aggregated Profit\"]`.\n",
    "2. Average across dates.\n",
    "\n",
    "The formula looks like this:  \n",
    "\n",
    "$$\\frac{\\sum AggregatedProfit_{Products}}{DateCount}\\$$\n",
    "\n",
    "In the below cell, we explore the [`atoti.agg.mean`](https://docs.atoti.io/latest/api/atoti.agg.mean.html#atoti-agg-mean) function across the two `Order Date` levels to see what happens."
   ]
  },
  {
   "cell_type": "code",
   "execution_count": null,
   "id": "53761293-6285-418d-bff6-1ea88c63d753",
   "metadata": {
    "tags": []
   },
   "outputs": [],
   "source": [
    "# \"Order Date\" hierarchy\n",
    "m[\"Average Daily Profit (od)\"] = tt.agg.mean(\n",
    "    m[\"Aggregated Profit\"],\n",
    "    scope=tt.OriginScope(levels={l[(\"Orders\", \"Order Date\", \"Order Date\")]}),\n",
    ")\n",
    "\n",
    "# \"Date Hierarchy\" hierarchy\n",
    "m[\"Average Daily Profit (dh)\"] = tt.agg.mean(\n",
    "    m[\"Aggregated Profit\"],\n",
    "    scope=tt.OriginScope(levels={l[(\"Orders\", \"Date Hierarchy\", \"Order Date\")]}),\n",
    ")"
   ]
  },
  {
   "cell_type": "markdown",
   "id": "5abc95f7-6b94-4bda-a9ee-1b0d63cae07d",
   "metadata": {},
   "source": [
    "In fact, the average daily profit gives the same results regardless of which `Order Date` level is indicated in the scope. This is because for any levels that we queried, it will take the average of the profit value at `Order Date` level and apply the average for the level above.  "
   ]
  },
  {
   "cell_type": "code",
   "execution_count": null,
   "id": "300616ab-70e0-43d4-af2d-4c28b471016c",
   "metadata": {
    "atoti": {
     "height": 472,
     "widget": {
      "columnWidths": {
       "[Measures].[Average Daily Profit (dh)]": 153,
       "[Measures].[Average Daily Profit (od)]": 153
      },
      "mapping": {
       "columns": [
        "ALL_MEASURES"
       ],
       "measures": [
        "[Measures].[Aggregated Profit]",
        "[Measures].[Average Daily Profit (od)]",
        "[Measures].[Average Daily Profit (dh)]"
       ],
       "rows": [
        "[Products].[ProductName].[ProductName] => [Orders].[Order Date].[Order Date] => [Orders].[Order Id].[Order Id]"
       ]
      },
      "name": "Average daily profit - Row-based representation",
      "query": {
       "mdx": "SELECT NON EMPTY Hierarchize(Union(Crossjoin(Descendants({[Products].[ProductName].[AllMember]}, 1, SELF_AND_BEFORE), [Orders].[Order Date].DefaultMember, [Orders].[Order Id].DefaultMember), Crossjoin([Products].[ProductName].[AllMember].[Boston Crab Meat], Hierarchize(Descendants({[Orders].[Order Date].[AllMember]}, 1, SELF_AND_BEFORE)), [Orders].[Order Id].DefaultMember), Crossjoin([Products].[ProductName].[AllMember].[Boston Crab Meat], [Orders].[Order Date].[AllMember].[2019-02-17], Hierarchize(Descendants({[Orders].[Order Id].[AllMember]}, 1, SELF_AND_BEFORE))))) ON ROWS, NON EMPTY {[Measures].[Aggregated Profit], [Measures].[Average Daily Profit (od)], [Measures].[Average Daily Profit (dh)]} ON COLUMNS FROM [Order Cube] CELL PROPERTIES VALUE, FORMATTED_VALUE, BACK_COLOR, FORE_COLOR, FONT_FLAGS",
       "updateMode": "once"
      },
      "serverKey": "default",
      "widgetKey": "pivot-table"
     }
    },
    "tags": []
   },
   "outputs": [],
   "source": [
    "session.widget"
   ]
  },
  {
   "cell_type": "markdown",
   "id": "3314c9d9-1019-498a-94ed-b969e7c5a7ee",
   "metadata": {},
   "source": [
    "In the above visualization, we have summation for the `Order Id` level. However, for the levels above `Order Id`, i.e. `Order Date` and `ProductName`, we have the mean aggregations. This may get confusing for some end-users.  \n",
    "\n",
    "A better way to represent our Pivot table when we have different aggregations across different dimensions is to have consistent aggregation on columns and rows where possible. In the visualization below, we sum up the Profits across the `Order Id` for each product (column-wise); and we take the average of the profit across the dates (row-wise).  "
   ]
  },
  {
   "cell_type": "code",
   "execution_count": null,
   "id": "993fc790-97df-4f2e-af99-fb5e1b92e06a",
   "metadata": {
    "atoti": {
     "height": 294,
     "widget": {
      "columnWidths": {
       "[Measures].[Aggregated Profit]": 119,
       "[Measures].[Average Daily Profit (od)]": 153,
       "[Measures].[Average Daily Profit (od)],[Orders].[Order Date].[AllMember]": 149,
       "[Orders].[Order Date].[AllMember],[Measures].[Aggregated Profit]": 119,
       "[Orders].[Order Date].[AllMember],[Measures].[Average Daily Profit (od)]": 153
      },
      "filters": [
       "{[Orders].[Order Date].[AllMember].[2019-02-15], [Orders].[Order Date].[AllMember].[2019-02-16], [Orders].[Order Date].[AllMember].[2019-02-17], [Orders].[Order Date].[AllMember].[2019-02-18]}"
      ],
      "mapping": {
       "columns": [
        "ALL_MEASURES",
        "[Orders].[Order Date].[Order Date]"
       ],
       "measures": [
        "[Measures].[Average Daily Profit (od)]"
       ],
       "rows": [
        "[Products].[ProductName].[ProductName] => [Orders].[Order Id].[Order Id]"
       ]
      },
      "name": "Dimension wise aggregation - summation on columns, mean on rows",
      "query": {
       "mdx": "SELECT NON EMPTY Hierarchize(Union(Crossjoin(Descendants({[Products].[ProductName].[AllMember]}, 1, SELF_AND_BEFORE), [Orders].[Order Id].DefaultMember), Crossjoin([Products].[ProductName].[AllMember].[Alice Mutton], Hierarchize(Descendants({[Orders].[Order Id].[AllMember]}, 1, SELF_AND_BEFORE))))) ON ROWS, NON EMPTY Crossjoin({[Measures].[Average Daily Profit (od)]}, Hierarchize(Descendants({[Orders].[Order Date].[AllMember]}, 1, SELF_AND_BEFORE))) ON COLUMNS FROM [Order Cube] CELL PROPERTIES VALUE, FORMATTED_VALUE, BACK_COLOR, FORE_COLOR, FONT_FLAGS",
       "updateMode": "once"
      },
      "serverKey": "default",
      "widgetKey": "pivot-table"
     }
    },
    "tags": []
   },
   "outputs": [],
   "source": [
    "session.widget"
   ]
  },
  {
   "cell_type": "markdown",
   "id": "481ab309-6245-46d8-8e8c-34811fa660f5",
   "metadata": {},
   "source": [
    "By toggling the view to have the `Order Date` on the columns, we can see that there are missing data points on the timeline. Now, the `mean` function takes the average over the number of members, which means that it only considers the days where there are orders accounted for. However, in our case, we needed the profit to be divided by the total number of days within the given period.  \n",
    "\n",
    "Let's see how we manage aggregation over sparse data in such cases. "
   ]
  },
  {
   "cell_type": "markdown",
   "id": "a6c1008a-fca2-40b6-853c-659d69bfbc61",
   "metadata": {},
   "source": [
    "##### 6.2.2.4.2 Managing total counts over sparse data"
   ]
  },
  {
   "cell_type": "markdown",
   "id": "37bf2707-ea5a-4eb2-aa54-7dbb0b04aa8a",
   "metadata": {},
   "source": [
    "Sometimes, it's all about creativity. There are many ways to chain up different measures to achieve the results we wanted, for example:\n",
    "\n",
    "1. Count the number of days. Then we divide profit by the total number of days.  \n",
    "2. We force a value, e.g. 0, for each day in the period and take the mean of the profit.   "
   ]
  },
  {
   "cell_type": "markdown",
   "id": "fdae9ac7-3188-4dca-931c-e2f5f5cc4eb6",
   "metadata": {},
   "source": [
    "__1. Profit / Day count method__\n",
    "\n",
    "Let's look at how we can achieve the first method.  \n",
    "\n",
    "By making use of the aggregate function [`atoti.agg.count_distinct`](https://docs.atoti.io/latest/api/atoti.agg.count_distinct.html#atoti-agg-count-distinct), we can count the number of distinct days in the queried levels.  "
   ]
  },
  {
   "cell_type": "code",
   "execution_count": null,
   "id": "3ca83b00-9bcf-423e-8923-d4f0a9f42fc2",
   "metadata": {
    "tags": []
   },
   "outputs": [],
   "source": [
    "m[\"Total Days\"] = tt.agg.count_distinct(orders_tbl[\"Order Date\"])"
   ]
  },
  {
   "cell_type": "markdown",
   "id": "f1b922d9-79b1-48b1-80e9-2366e925a1d6",
   "metadata": {},
   "source": [
    "However, what we want is the distinct date count across all the levels, which is the grand total of our `distinct_count` measure. Therefore, we make use of the function [`atoti.total`](https://docs.atoti.io/latest/api/atoti.total.html#atoti-total) to apply the grand total value to the level below, i.e. the `ProductName` level.   \n",
    "\n",
    "However, some products may not be sold on a given day. So, when we query these products, the days counted will be lesser than the span of days we are looking at across all products. What we want is in fact, the number of distinct dates where we have at least an order placed, regardless of the products. If we look at a product level, we would count less days these products, compared to the actual number of days, counted across all products. Here, what we want is the distinct date count across all the levels, which is the grand total of our distinct_count measure."
   ]
  },
  {
   "cell_type": "code",
   "execution_count": null,
   "id": "6a5f506d-90e4-47bc-b91b-2950c9e40f9d",
   "metadata": {
    "tags": []
   },
   "outputs": [],
   "source": [
    "m[\"Total Day Count\"] = tt.total(m[\"Total Days\"], h[\"ProductName\"])"
   ]
  },
  {
   "cell_type": "markdown",
   "id": "5e0e74f3-21b2-4ad9-9547-33cc2be44696",
   "metadata": {},
   "source": [
    "Finally, we divide the profit over the total day count.  "
   ]
  },
  {
   "cell_type": "code",
   "execution_count": null,
   "id": "fe5f75a2-cc68-41be-9a9d-d5969b2ec039",
   "metadata": {
    "tags": []
   },
   "outputs": [],
   "source": [
    "# average daily profit computed using the day count method\n",
    "m[\"Average Daily Profit (dc)\"] = m[\"Aggregated Profit\"] / m[\"Total Day Count\"]"
   ]
  },
  {
   "cell_type": "code",
   "execution_count": null,
   "id": "d55e3009-7500-47c9-8de0-4777013e85ef",
   "metadata": {
    "atoti": {
     "height": 373,
     "widget": {
      "columnWidths": {
       "[Measures].[Historical Daily Profit]": 135,
       "[Orders].[Order Date].[AllMember],[Measures].[Aggregated Profit]": 125,
       "[Orders].[Order Date].[AllMember],[Measures].[Average Daily Profit (dc)]": 163,
       "[Orders].[Order Date].[AllMember],[Measures].[Historical Daily Profit]": 135,
       "[Orders].[Order Date].[AllMember],[Measures].[Total Day Count]": 115,
       "[Orders].[Order Date].[AllMember],[Measures].[Total Days]": 84,
       "[Orders].[Order Date].[AllMember].[2019-02-15],[Measures].[Aggregated Profit]": 125,
       "[Orders].[Order Date].[AllMember].[2019-02-15],[Measures].[Average Daily Profit (dc)]": 163,
       "[Orders].[Order Date].[AllMember].[2019-02-15],[Measures].[Total Day Count]": 115,
       "[Orders].[Order Date].[AllMember].[2019-02-15],[Measures].[Total Days]": 92,
       "[Orders].[Order Date].[AllMember].[2019-02-16],[Measures].[Aggregated Profit]": 125,
       "[Orders].[Order Date].[AllMember].[2019-02-16],[Measures].[Average Daily Profit (dc)]": 163,
       "[Orders].[Order Date].[AllMember].[2019-02-16],[Measures].[Total Day Count]": 115,
       "[Orders].[Order Date].[AllMember].[2019-02-16],[Measures].[Total Days]": 92,
       "[Orders].[Order Date].[AllMember].[2019-02-17],[Measures].[Aggregated Profit]": 125,
       "[Orders].[Order Date].[AllMember].[2019-02-17],[Measures].[Average Daily Profit (dc)]": 163,
       "[Orders].[Order Date].[AllMember].[2019-02-17],[Measures].[Total Day Count]": 115,
       "[Orders].[Order Date].[AllMember].[2019-02-17],[Measures].[Total Days]": 92,
       "[Orders].[Order Date].[AllMember].[2019-02-18],[Measures].[Aggregated Profit]": 125,
       "[Orders].[Order Date].[AllMember].[2019-02-18],[Measures].[Average Daily Profit (dc)]": 163,
       "[Orders].[Order Date].[AllMember].[2019-02-18],[Measures].[Total Day Count]": 115,
       "[Orders].[Order Date].[AllMember].[2019-02-18],[Measures].[Total Days]": 92,
       "[Orders].[Order Date].[AllMember].[2019-03-15],[Measures].[Aggregated Profit]": 125,
       "[Orders].[Order Date].[AllMember].[2019-03-15],[Measures].[Average Daily Profit (dc)]": 163,
       "[Orders].[Order Date].[AllMember].[2019-03-15],[Measures].[Total Day Count]": 115,
       "[Orders].[Order Date].[AllMember].[2019-03-15],[Measures].[Total Days]": 92,
       "[Orders].[Order Date].[AllMember].[2019-03-16],[Measures].[Aggregated Profit]": 125,
       "[Orders].[Order Date].[AllMember].[2019-03-16],[Measures].[Average Daily Profit (dc)]": 163,
       "[Orders].[Order Date].[AllMember].[2019-03-16],[Measures].[Total Day Count]": 115,
       "[Orders].[Order Date].[AllMember].[2019-03-16],[Measures].[Total Days]": 93,
       "[Orders].[Order Date].[AllMember].[2019-03-17],[Measures].[Aggregated Profit]": 125,
       "[Orders].[Order Date].[AllMember].[2019-03-17],[Measures].[Average Daily Profit (dc)]": 163,
       "[Orders].[Order Date].[AllMember].[2019-03-17],[Measures].[Total Day Count]": 115,
       "[Orders].[Order Date].[AllMember].[2019-03-17],[Measures].[Total Days]": 92,
       "[Orders].[Order Date].[AllMember].[2019-03-18],[Measures].[Aggregated Profit]": 125,
       "[Orders].[Order Date].[AllMember].[2019-03-18],[Measures].[Average Daily Profit (dc)]": 163,
       "[Orders].[Order Date].[AllMember].[2019-03-18],[Measures].[Total Day Count]": 115,
       "[Orders].[Order Date].[AllMember].[2019-03-18],[Measures].[Total Days]": 93,
       "[Orders].[Order Date].[AllMember].[2020-01-15],[Measures].[Aggregated Profit]": 125,
       "[Orders].[Order Date].[AllMember].[2020-01-15],[Measures].[Average Daily Profit (dc)]": 163,
       "[Orders].[Order Date].[AllMember].[2020-01-15],[Measures].[Total Day Count]": 115,
       "[Orders].[Order Date].[AllMember].[2020-01-15],[Measures].[Total Days]": 92,
       "[Orders].[Order Date].[AllMember].[2020-01-16],[Measures].[Aggregated Profit]": 125,
       "[Orders].[Order Date].[AllMember].[2020-01-16],[Measures].[Average Daily Profit (dc)]": 163,
       "[Orders].[Order Date].[AllMember].[2020-01-16],[Measures].[Total Day Count]": 115,
       "[Orders].[Order Date].[AllMember].[2020-01-16],[Measures].[Total Days]": 92,
       "[Orders].[Order Date].[AllMember].[2020-01-17],[Measures].[Aggregated Profit]": 125,
       "[Orders].[Order Date].[AllMember].[2020-01-17],[Measures].[Average Daily Profit (dc)]": 163,
       "[Orders].[Order Date].[AllMember].[2020-01-17],[Measures].[Total Day Count]": 115,
       "[Orders].[Order Date].[AllMember].[2020-01-17],[Measures].[Total Days]": 91,
       "[Orders].[Order Date].[AllMember].[2020-01-18],[Measures].[Aggregated Profit]": 125,
       "[Orders].[Order Date].[AllMember].[2020-01-18],[Measures].[Average Daily Profit (dc)]": 163,
       "[Orders].[Order Date].[AllMember].[2020-01-18],[Measures].[Total Day Count]": 115,
       "[Orders].[Order Date].[AllMember].[2020-01-18],[Measures].[Total Days]": 92,
       "[Products].[ProductName].[ProductName]": 209
      },
      "mapping": {
       "columns": [
        "[Orders].[Order Date].[Order Date]",
        "ALL_MEASURES"
       ],
       "measures": [
        "[Measures].[Total Days]",
        "[Measures].[Total Day Count]",
        "[Measures].[Aggregated Profit]",
        "[Measures].[Average Daily Profit (dc)]"
       ],
       "rows": [
        "[Products].[ProductName].[ProductName]"
       ]
      },
      "name": "Historical Daily Profit",
      "query": {
       "mdx": "SELECT NON EMPTY Crossjoin(Hierarchize(Descendants({[Orders].[Order Date].[AllMember]}, 1, SELF_AND_BEFORE)), {[Measures].[Total Days], [Measures].[Total Day Count], [Measures].[Aggregated Profit], [Measures].[Average Daily Profit (dc)]}) ON COLUMNS, NON EMPTY Hierarchize(Descendants({[Products].[ProductName].[AllMember]}, 1, SELF_AND_BEFORE)) ON ROWS FROM [Order Cube] CELL PROPERTIES VALUE, FORMATTED_VALUE, BACK_COLOR, FORE_COLOR, FONT_FLAGS",
       "updateMode": "once"
      },
      "serverKey": "default",
      "widgetKey": "pivot-table"
     }
    },
    "tags": []
   },
   "outputs": [],
   "source": [
    "session.widget"
   ]
  },
  {
   "cell_type": "markdown",
   "id": "b2862261-0e8d-4382-8042-6337f5f5180b",
   "metadata": {},
   "source": [
    "This method works even when we use the multi-level `Date Hierarchy` to look at the average monthly or yearly profit.  "
   ]
  },
  {
   "cell_type": "code",
   "execution_count": null,
   "id": "7f8117e3-2459-4cd1-b23b-653f64716d4d",
   "metadata": {
    "atoti": {
     "height": 373,
     "widget": {
      "columnWidths": {
       "[Measures].[Historical Daily Profit]": 135,
       "[Orders].[Date Hierarchy].[AllMember],[Measures].[Aggregated Profit]": 125,
       "[Orders].[Date Hierarchy].[AllMember],[Measures].[Average Daily Profit (dc)]": 163,
       "[Orders].[Date Hierarchy].[AllMember],[Measures].[Total Day Count]": 115,
       "[Orders].[Date Hierarchy].[AllMember],[Measures].[Total Days]": 84,
       "[Orders].[Date Hierarchy].[AllMember].[2019],[Measures].[Aggregated Profit]": 125,
       "[Orders].[Date Hierarchy].[AllMember].[2019],[Measures].[Average Daily Profit (dc)]": 163,
       "[Orders].[Date Hierarchy].[AllMember].[2019],[Measures].[Total Day Count]": 115,
       "[Orders].[Date Hierarchy].[AllMember].[2019],[Measures].[Total Days]": 84,
       "[Orders].[Date Hierarchy].[AllMember].[2019].[02],[Measures].[Aggregated Profit]": 125,
       "[Orders].[Date Hierarchy].[AllMember].[2019].[02],[Measures].[Average Daily Profit (dc)]": 163,
       "[Orders].[Date Hierarchy].[AllMember].[2019].[02],[Measures].[Total Day Count]": 115,
       "[Orders].[Date Hierarchy].[AllMember].[2019].[02],[Measures].[Total Days]": 84,
       "[Orders].[Date Hierarchy].[AllMember].[2019].[02].[2019-02-15],[Measures].[Aggregated Profit]": 125,
       "[Orders].[Date Hierarchy].[AllMember].[2019].[02].[2019-02-15],[Measures].[Average Daily Profit (dc)]": 163,
       "[Orders].[Date Hierarchy].[AllMember].[2019].[02].[2019-02-15],[Measures].[Total Day Count]": 115,
       "[Orders].[Date Hierarchy].[AllMember].[2019].[02].[2019-02-15],[Measures].[Total Days]": 92,
       "[Orders].[Date Hierarchy].[AllMember].[2019].[02].[2019-02-16],[Measures].[Aggregated Profit]": 125,
       "[Orders].[Date Hierarchy].[AllMember].[2019].[02].[2019-02-16],[Measures].[Average Daily Profit (dc)]": 163,
       "[Orders].[Date Hierarchy].[AllMember].[2019].[02].[2019-02-16],[Measures].[Total Day Count]": 115,
       "[Orders].[Date Hierarchy].[AllMember].[2019].[02].[2019-02-16],[Measures].[Total Days]": 92,
       "[Orders].[Date Hierarchy].[AllMember].[2019].[02].[2019-02-17],[Measures].[Aggregated Profit]": 125,
       "[Orders].[Date Hierarchy].[AllMember].[2019].[02].[2019-02-17],[Measures].[Average Daily Profit (dc)]": 163,
       "[Orders].[Date Hierarchy].[AllMember].[2019].[02].[2019-02-17],[Measures].[Total Day Count]": 115,
       "[Orders].[Date Hierarchy].[AllMember].[2019].[02].[2019-02-17],[Measures].[Total Days]": 92,
       "[Orders].[Date Hierarchy].[AllMember].[2019].[02].[2019-02-18],[Measures].[Aggregated Profit]": 125,
       "[Orders].[Date Hierarchy].[AllMember].[2019].[02].[2019-02-18],[Measures].[Average Daily Profit (dc)]": 163,
       "[Orders].[Date Hierarchy].[AllMember].[2019].[02].[2019-02-18],[Measures].[Total Day Count]": 115,
       "[Orders].[Date Hierarchy].[AllMember].[2019].[02].[2019-02-18],[Measures].[Total Days]": 92,
       "[Orders].[Date Hierarchy].[AllMember].[2019].[03],[Measures].[Aggregated Profit]": 125,
       "[Orders].[Date Hierarchy].[AllMember].[2019].[03],[Measures].[Average Daily Profit (dc)]": 163,
       "[Orders].[Date Hierarchy].[AllMember].[2019].[03],[Measures].[Total Day Count]": 115,
       "[Orders].[Date Hierarchy].[AllMember].[2019].[03],[Measures].[Total Days]": 84,
       "[Orders].[Date Hierarchy].[AllMember].[2020],[Measures].[Aggregated Profit]": 125,
       "[Orders].[Date Hierarchy].[AllMember].[2020],[Measures].[Average Daily Profit (dc)]": 163,
       "[Orders].[Date Hierarchy].[AllMember].[2020],[Measures].[Total Day Count]": 115,
       "[Orders].[Date Hierarchy].[AllMember].[2020],[Measures].[Total Days]": 84,
       "[Orders].[Order Date].[AllMember],[Measures].[Average Daily Profit (dc)]": 152,
       "[Orders].[Order Date].[AllMember],[Measures].[Historical Daily Profit]": 135,
       "[Products].[ProductName].[ProductName]": 209
      },
      "mapping": {
       "columns": [
        "[Orders].[Date Hierarchy].[Year] => [Orders].[Date Hierarchy].[Order Date]",
        "ALL_MEASURES"
       ],
       "measures": [
        "[Measures].[Total Days]",
        "[Measures].[Total Day Count]",
        "[Measures].[Aggregated Profit]",
        "[Measures].[Average Daily Profit (dc)]"
       ],
       "rows": [
        "[Products].[ProductName].[ProductName]"
       ]
      },
      "name": "Historical Daily Profit",
      "query": {
       "mdx": "SELECT NON EMPTY Crossjoin(Hierarchize(Union(Descendants({[Orders].[Date Hierarchy].[AllMember]}, 1, SELF_AND_BEFORE), Descendants({[Orders].[Date Hierarchy].[AllMember].[2019]}, [Orders].[Date Hierarchy].[Month]), Descendants({[Orders].[Date Hierarchy].[AllMember].[2019].[02]}, [Orders].[Date Hierarchy].[Order Date]))), {[Measures].[Total Days], [Measures].[Total Day Count], [Measures].[Aggregated Profit], [Measures].[Average Daily Profit (dc)]}) ON COLUMNS, NON EMPTY Hierarchize(Descendants({[Products].[ProductName].[AllMember]}, 1, SELF_AND_BEFORE)) ON ROWS FROM [Order Cube] CELL PROPERTIES VALUE, FORMATTED_VALUE, BACK_COLOR, FORE_COLOR, FONT_FLAGS",
       "updateMode": "once"
      },
      "serverKey": "default",
      "widgetKey": "pivot-table"
     }
    },
    "tags": []
   },
   "outputs": [],
   "source": [
    "session.widget"
   ]
  },
  {
   "cell_type": "markdown",
   "id": "8a266de0-b73a-430b-9d13-6184d58dbe04",
   "metadata": {},
   "source": [
    "__2. Force zero value for days without orders__  \n",
    "\n",
    "In this method, we will make use of the property of [`atoti.CumulativeScope`](https://docs.atoti.io/latest/api/atoti.CumulativeScope.html#atoti-cumulativescope) to ensure there is a value for all members of the level. We will build a few measures to show the property of the `dense` and `window` parameters from the `atoti.CumulativeScope` function.\n",
    "\n",
    "Previously, we learned how we can use `atoti.CumulativeScope` to compute running total. The function has a `dense` parameter which generate values for all the members of the level. For members with no underlying values, it will repeat the value of the previous member."
   ]
  },
  {
   "cell_type": "code",
   "execution_count": null,
   "id": "72de71ee-6b62-45a1-81c8-4d1fd01c6765",
   "metadata": {
    "tags": []
   },
   "outputs": [],
   "source": [
    "m[\"Cumulative profit (dense)\"] = tt.agg.sum(\n",
    "    m[\"Aggregated Profit\"],\n",
    "    scope=tt.CumulativeScope(\n",
    "        level=l[(\"Orders\", \"Order Date\", \"Order Date\")], dense=True\n",
    "    ),\n",
    ")"
   ]
  },
  {
   "cell_type": "code",
   "execution_count": null,
   "id": "65767bc3-0665-425e-be44-4c4d9639bab2",
   "metadata": {
    "atoti": {
     "height": 298,
     "widget": {
      "columnWidths": {
       "[Measures].[Aggregated Profit]": 125,
       "[Measures].[Average Daily Profit (cumulative)]": 197,
       "[Measures].[Average Daily Profit (dh)]": 153,
       "[Measures].[Cumulative profit (dense winSize 0)]": 210,
       "[Measures].[Cumulative profit (dense)]": 169,
       "[Orders].[Order Date].[Order Date]": 87,
       "[Products].[ProductName].[ProductName]": 209
      },
      "filters": [
       "[Products].[ProductName].[AllMember].[Alice Mutton]"
      ],
      "mapping": {
       "columns": [
        "ALL_MEASURES"
       ],
       "measures": [
        "[Measures].[Aggregated Profit]",
        "[Measures].[Cumulative profit (dense)]"
       ],
       "rows": [
        "[Products].[ProductName].[ProductName]",
        "[Orders].[Order Date].[Order Date]"
       ]
      },
      "name": "Cumulative aggregation with dense set to True",
      "query": {
       "mdx": "SELECT NON EMPTY {[Measures].[Aggregated Profit], [Measures].[Cumulative profit (dense)]} ON COLUMNS, NON EMPTY Crossjoin(Hierarchize(Descendants({[Products].[ProductName].[AllMember]}, 1, SELF_AND_BEFORE)), Hierarchize(Descendants({[Orders].[Order Date].[AllMember]}, 1, SELF_AND_BEFORE))) ON ROWS FROM [Order Cube] CELL PROPERTIES VALUE, FORMATTED_VALUE, BACK_COLOR, FORE_COLOR, FONT_FLAGS",
       "updateMode": "once"
      },
      "serverKey": "default",
      "widgetKey": "pivot-table"
     }
    },
    "tags": []
   },
   "outputs": [],
   "source": [
    "session.widget"
   ]
  },
  {
   "cell_type": "markdown",
   "id": "a373af2a-cf31-4ca7-8e23-4dd08863ff34",
   "metadata": {},
   "source": [
    "While we want to ensure there is value for each member, we do not actually want it to accumulate. Therefore, we are going to make use of the `window` parameter to limit the number of members to accumulate to 0, i.e. only aggregate its own value. Therefore, a value of 0 will be returned when there is no value.  "
   ]
  },
  {
   "cell_type": "code",
   "execution_count": null,
   "id": "bfd9ab61-6d99-48c0-bc1c-a861de8c0d64",
   "metadata": {
    "tags": []
   },
   "outputs": [],
   "source": [
    "m[\"Cumulative profit (dense winSize 0)\"] = tt.agg.sum(\n",
    "    m[\"Aggregated Profit\"],\n",
    "    scope=tt.CumulativeScope(\n",
    "        level=l[(\"Orders\", \"Order Date\", \"Order Date\")], dense=True, window=range(0, 0)\n",
    "    ),\n",
    ")"
   ]
  },
  {
   "cell_type": "code",
   "execution_count": null,
   "id": "613dcd2c-25b0-4ccc-8811-3de701bd6cf3",
   "metadata": {
    "atoti": {
     "height": 481,
     "widget": {
      "columnWidths": {
       "[Measures].[Aggregated Profit]": 125,
       "[Measures].[Average Daily Profit (cumulative)]": 197,
       "[Measures].[Average Daily Profit (dh)]": 153,
       "[Measures].[Cumulative profit (dense winSize 0)]": 226,
       "[Measures].[Cumulative profit (dense)]": 169,
       "[Orders].[Order Date].[Order Date]": 87,
       "[Products].[ProductName].[ProductName]": 209
      },
      "filters": [
       "[Products].[ProductName].[AllMember].[Alice Mutton]"
      ],
      "mapping": {
       "columns": [
        "ALL_MEASURES"
       ],
       "measures": [
        "[Measures].[Aggregated Profit]",
        "[Measures].[Cumulative profit (dense)]",
        "[Measures].[Cumulative profit (dense winSize 0)]"
       ],
       "rows": [
        "[Products].[ProductName].[ProductName]",
        "[Orders].[Order Date].[Order Date]"
       ]
      },
      "name": "Limit cumulative window size to 0",
      "query": {
       "mdx": "SELECT NON EMPTY {[Measures].[Aggregated Profit], [Measures].[Cumulative profit (dense)], [Measures].[Cumulative profit (dense winSize 0)]} ON COLUMNS, NON EMPTY Crossjoin(Hierarchize(Descendants({[Products].[ProductName].[AllMember]}, 1, SELF_AND_BEFORE)), Hierarchize(Descendants({[Orders].[Order Date].[AllMember]}, 1, SELF_AND_BEFORE))) ON ROWS FROM [Order Cube] CELL PROPERTIES VALUE, FORMATTED_VALUE, BACK_COLOR, FORE_COLOR, FONT_FLAGS",
       "updateMode": "once"
      },
      "serverKey": "default",
      "widgetKey": "pivot-table"
     }
    },
    "tags": []
   },
   "outputs": [],
   "source": [
    "session.widget"
   ]
  },
  {
   "cell_type": "markdown",
   "id": "ca52227d-af73-433c-87ba-746fdd707727",
   "metadata": {},
   "source": [
    "Now, we can compute our daily average profit using the `atoti.agg.mean` function.  "
   ]
  },
  {
   "cell_type": "code",
   "execution_count": null,
   "id": "7f7c1331-de5e-4334-826c-f3f66a4c9852",
   "metadata": {
    "tags": []
   },
   "outputs": [],
   "source": [
    "# average daily profit computed using the cumulative function\n",
    "m[\"Average Daily Profit (cumulative)\"] = tt.agg.mean(\n",
    "    m[\"Cumulative profit (dense winSize 0)\"],\n",
    "    scope=tt.OriginScope(levels={l[(\"Orders\", \"Order Date\", \"Order Date\")]}),\n",
    ")"
   ]
  },
  {
   "cell_type": "code",
   "execution_count": null,
   "id": "04df6839-2976-4f16-a53a-0bec4b23a3d0",
   "metadata": {
    "atoti": {
     "height": 468,
     "widget": {
      "columnWidths": {
       "[Measures].[Aggregated Profit]": 125,
       "[Measures].[Average Daily Profit (cumulative)]": 210,
       "[Measures].[Average Daily Profit (dc)]": 163,
       "[Measures].[Average Daily Profit (dh)]": 153,
       "[Measures].[Cumulative profit (dense winSize 0)]": 226,
       "[Measures].[Cumulative profit (dense)]": 169,
       "[Orders].[Order Date].[Order Date]": 87,
       "[Products].[ProductName].[ProductName]": 209
      },
      "filters": [
       "[Products].[ProductName].[AllMember].[Alice Mutton]"
      ],
      "mapping": {
       "columns": [
        "ALL_MEASURES"
       ],
       "measures": [
        "[Measures].[Aggregated Profit]",
        "[Measures].[Cumulative profit (dense)]",
        "[Measures].[Cumulative profit (dense winSize 0)]",
        "[Measures].[Average Daily Profit (cumulative)]",
        "[Measures].[Average Daily Profit (dc)]"
       ],
       "rows": [
        "[Products].[ProductName].[ProductName]",
        "[Orders].[Order Date].[Order Date]"
       ]
      },
      "name": "Average Daily Profit - zero value for days without orders",
      "query": {
       "mdx": "SELECT NON EMPTY {[Measures].[Aggregated Profit], [Measures].[Cumulative profit (dense)], [Measures].[Cumulative profit (dense winSize 0)], [Measures].[Average Daily Profit (cumulative)], [Measures].[Average Daily Profit (dc)]} ON COLUMNS, NON EMPTY Crossjoin(Hierarchize(Descendants({[Products].[ProductName].[AllMember]}, 1, SELF_AND_BEFORE)), Hierarchize(Descendants({[Orders].[Order Date].[AllMember]}, 1, SELF_AND_BEFORE))) ON ROWS FROM [Order Cube] CELL PROPERTIES VALUE, FORMATTED_VALUE, BACK_COLOR, FORE_COLOR, FONT_FLAGS",
       "updateMode": "once"
      },
      "serverKey": "default",
      "widgetKey": "pivot-table"
     }
    },
    "tags": []
   },
   "outputs": [],
   "source": [
    "session.widget"
   ]
  },
  {
   "cell_type": "markdown",
   "id": "2df12801-bee7-4827-9b87-6619846af22a",
   "metadata": {},
   "source": [
    "The drawback of this method is that the computation will not work for bucketed daily average along the `Date Hierarchy`. It currently accumulates along the `Date Order` level under the `Date Order` hierarchy; and not under the `Date Hierarchy` hierarchy.  \n",
    "\n",
    "As we can see from the results below, the value for `Average Daily Profit (cumulative)` is incorrect. We will have to create a separate measure along the `Date Order` level under the `Date Hierarchy` hierarchy. "
   ]
  },
  {
   "cell_type": "code",
   "execution_count": null,
   "id": "55419d04-a963-4cca-9bba-d350eb436c38",
   "metadata": {
    "atoti": {
     "widget": {
      "columnWidths": {
       "[Measures].[Average Daily Profit (cumulative)]": 210,
       "[Measures].[Average Daily Profit (dc)]": 163,
       "[Measures].[Cumulative profit (dense winSize 0)]": 226,
       "[Orders].[Date Hierarchy].[Year]": 86,
       "[Products].[ProductName].[ProductName]": 209
      },
      "mapping": {
       "columns": [
        "ALL_MEASURES"
       ],
       "measures": [
        "[Measures].[Cumulative profit (dense winSize 0)]",
        "[Measures].[Average Daily Profit (cumulative)]",
        "[Measures].[Average Daily Profit (dc)]"
       ],
       "rows": [
        "[Products].[ProductName].[ProductName]",
        "[Orders].[Date Hierarchy].[Year] => [Orders].[Date Hierarchy].[Order Date]"
       ]
      },
      "query": {
       "mdx": "SELECT NON EMPTY Hierarchize(Crossjoin(Hierarchize(Descendants({[Products].[ProductName].[AllMember]}, 1, SELF_AND_BEFORE)), Hierarchize(Descendants({[Orders].[Date Hierarchy].[AllMember]}, 1, SELF_AND_BEFORE)))) ON ROWS, NON EMPTY {[Measures].[Cumulative profit (dense winSize 0)], [Measures].[Average Daily Profit (cumulative)], [Measures].[Average Daily Profit (dc)]} ON COLUMNS FROM [Order Cube] CELL PROPERTIES VALUE, FORMATTED_VALUE, BACK_COLOR, FORE_COLOR, FONT_FLAGS",
       "updateMode": "once"
      },
      "serverKey": "default",
      "widgetKey": "pivot-table"
     }
    },
    "tags": []
   },
   "outputs": [],
   "source": [
    "session.widget"
   ]
  },
  {
   "cell_type": "markdown",
   "id": "8ac6a8e4-3431-4174-af0b-bcf60610ec6c",
   "metadata": {},
   "source": [
    "#### 6.2.2.5 Format measures"
   ]
  },
  {
   "cell_type": "markdown",
   "id": "af8415b5-bffe-4d49-883b-781f4ce7da41",
   "metadata": {},
   "source": [
    "We can apply formatting for the **display** of our measures in the returned query results. Note that aggregations performed on the measure will still use its unformatted value for the computation. "
   ]
  },
  {
   "cell_type": "code",
   "execution_count": null,
   "id": "00694941-d15d-4350-82e8-ca807e8a6cc9",
   "metadata": {
    "tags": []
   },
   "outputs": [],
   "source": [
    "m[\"Aggregated Profit\"].formatter = \"DOUBLE[$#,##0.00]\""
   ]
  },
  {
   "cell_type": "code",
   "execution_count": null,
   "id": "c1bb9c59-fa8f-4504-bc3c-87eba0541e36",
   "metadata": {
    "atoti": {
     "height": 317,
     "widget": {
      "mapping": {
       "columns": [
        "ALL_MEASURES"
       ],
       "measures": [
        "[Measures].[Quantity Sold.SUM]",
        "[Measures].[Aggregated Profit]"
       ],
       "rows": [
        "[Products].[Product Tree].[ProductCategory]"
       ]
      },
      "name": "Profit by Product Category",
      "query": {
       "mdx": "SELECT NON EMPTY Hierarchize(Descendants({[Products].[Product Tree].[AllMember]}, 1, SELF_AND_BEFORE)) ON ROWS, NON EMPTY {[Measures].[Quantity Sold.SUM], [Measures].[Aggregated Profit]} ON COLUMNS FROM [Order Cube] CELL PROPERTIES VALUE, FORMATTED_VALUE, BACK_COLOR, FORE_COLOR, FONT_FLAGS",
       "updateMode": "once"
      },
      "serverKey": "default",
      "widgetKey": "pivot-table"
     }
    },
    "tags": []
   },
   "outputs": [],
   "source": [
    "session.widget"
   ]
  },
  {
   "cell_type": "markdown",
   "id": "b2c22604-c0dd-404c-a798-b652ccf02eaa",
   "metadata": {},
   "source": [
    "💡 Refer to Atoti documentation for other [formatting syntax](https://docs.atoti.io/latest/api/atoti.Measure.formatter.html#atoti-measure-formatter)."
   ]
  },
  {
   "cell_type": "markdown",
   "id": "45c37c01-ee20-4874-84ad-d7f55d799f7f",
   "metadata": {},
   "source": [
    "## 6.3 Cube Housekeeping"
   ]
  },
  {
   "cell_type": "markdown",
   "id": "c5086f99-179e-4996-81ef-da4da51a0f25",
   "metadata": {},
   "source": [
    "There are a few ways to maintaining and looking after your cube:  \n",
    "- [Delete unwanted hierarchies, levels and measures](#6.3.1-Delete-unwanted-hierarchies,-levels-and-measures)\n",
    "- [Hide technical measures](#6.3.2-Hide-technical-measures)  \n",
    "- [Keep measures organized in folders](#6.3.3-Keep-measures-organized-in-folders)  \n"
   ]
  },
  {
   "cell_type": "markdown",
   "id": "7a3fae5d-1a31-4b0e-8410-c83f48a5a3ed",
   "metadata": {},
   "source": [
    "### 6.3.1 Delete unwanted hierarchies, levels and measures  "
   ]
  },
  {
   "cell_type": "markdown",
   "id": "cd251f7e-0790-40e8-a35f-0745409386a8",
   "metadata": {},
   "source": [
    "Let's recall that a cube has three type of attributes: hierarchies, levels and measures. This section looks at how we can delete these attributes:   \n",
    "\n",
    "- [6.3.1.1 Delete hierarchies](#6.3.1.1-Delete-hierarchies)\n",
    "- [6.3.1.2 Delete levels](#6.3.1.2-Delete-levels)\n",
    "- [6.3.1.3 Delete measures](#6.3.1.3-Delete-measures)"
   ]
  },
  {
   "cell_type": "markdown",
   "id": "830caa96-d033-4f53-be98-5e27a9f2ae59",
   "metadata": {},
   "source": [
    "#### 6.3.1.1 Delete hierarchies"
   ]
  },
  {
   "cell_type": "markdown",
   "id": "e19f5f97-5657-4677-ab5e-37de528c3320",
   "metadata": {},
   "source": [
    "Previously, we have created a multi-level hierarchy called `Product Tree` which comprises of the levels `ProductCategory` and `ProductName`.  \n",
    "\n",
    "Whenever, we add the hierarchy `Product Tree` to our query, `ProductCategory` is displayed. Therefore, we can actually delete the single hierarchy `ProductCategory` since it's no longer required.  "
   ]
  },
  {
   "cell_type": "raw",
   "id": "e0000c28-8e6f-4a2c-adf0-50cec4bdd30a",
   "metadata": {
    "tags": []
   },
   "source": [
    "# We've marked this cell as `Raw` to prevent breakages of dependent upstream widgets\n",
    "# that may depend on this hierarchy. Set this cell to `Code` to execute the change\n",
    "del h[\"ProductCategory\"]\n",
    "h"
   ]
  },
  {
   "cell_type": "markdown",
   "id": "e7290509-32e1-41e7-9288-0215f8031490",
   "metadata": {},
   "source": [
    "When the hierarchy is deleted, the underlying levels will also be removed.  "
   ]
  },
  {
   "cell_type": "markdown",
   "id": "700fe533-e260-48c3-a30b-301c91fdc30d",
   "metadata": {},
   "source": [
    "#### 6.3.1.2 Delete levels"
   ]
  },
  {
   "cell_type": "markdown",
   "id": "291dfb60-94aa-4ad3-8b65-7a9b601be345",
   "metadata": {},
   "source": [
    "We can delete levels in the same way as we delete the hierarchy. However, if there is more than 1 level with the same name, we have to define the full path to the level: "
   ]
  },
  {
   "cell_type": "raw",
   "id": "a79e09d3-5789-43ad-b1c0-a20df4916a51",
   "metadata": {
    "tags": []
   },
   "source": [
    "# We've marked this cell as `Raw` to prevent breakages of dependent upstream widgets\n",
    "# that may depend on this level. Set this cell to `Code` to execute the change\n",
    "del l[(\"Products\", \"Product Tree\", \"ProductName\")]\n",
    "l"
   ]
  },
  {
   "cell_type": "markdown",
   "id": "1591f26e-3441-4220-810e-db96e6134d4d",
   "metadata": {
    "tags": []
   },
   "source": [
    "##### **💡Update existing hierarchy**  \n",
    "\n",
    "Since we still want our multi-level hierarchy, let's update it back to its original state:"
   ]
  },
  {
   "cell_type": "raw",
   "id": "af04b21c-8372-4778-8c34-9a41e848bfcd",
   "metadata": {
    "tags": []
   },
   "source": [
    "# We've marked this cell as `Raw` to prevent breakages of dependent upstream widgets\n",
    "# that may depend on this hierarchy. Set this cell to `Code` to execute the change\n",
    "h.update(\n",
    "    {\n",
    "        \"Product Tree\": [\n",
    "            product_tbl[\"ProductCategory\"],\n",
    "            product_tbl[\"ProductName\"],\n",
    "            orders_tbl[\"Product Id\"],\n",
    "        ],\n",
    "    }\n",
    ")\n",
    "h"
   ]
  },
  {
   "cell_type": "markdown",
   "id": "f3117cc2-2d53-49cb-b6a9-6c17b4784606",
   "metadata": {},
   "source": [
    "#### 6.3.1.3 Delete measures"
   ]
  },
  {
   "cell_type": "markdown",
   "id": "cb214bef-ce71-4c07-8780-5ab32d404126",
   "metadata": {},
   "source": [
    "As with hierarchies and levels, we use `del` command to delete measures.  "
   ]
  },
  {
   "cell_type": "code",
   "execution_count": null,
   "id": "b011cee6-8af5-4e55-ad32-a93cb3311792",
   "metadata": {
    "tags": []
   },
   "outputs": [],
   "source": [
    "m"
   ]
  },
  {
   "cell_type": "raw",
   "id": "7106d40a-6575-4625-b106-676f035b6fb8",
   "metadata": {
    "tags": []
   },
   "source": [
    "# We've marked this cell as `Raw` to prevent breakages of dependent upstream widgets\n",
    "# that may depend on this measure. Set this cell to `Code` to execute the change\n",
    "del m[\"Quantity Sold.MEAN\"]\n",
    "m"
   ]
  },
  {
   "cell_type": "markdown",
   "id": "19143f41-e1ef-49bb-8860-a3b24ba5df30",
   "metadata": {},
   "source": [
    "### 6.3.2 Hide technical measures"
   ]
  },
  {
   "cell_type": "markdown",
   "id": "171a4f33-c60b-4404-8bd1-885f09330130",
   "metadata": {},
   "source": [
    "In section [6.2.2.1.2 Chaining up measures](#6.2.2.1.2-Chaining-up-measures), we saw how we can create a measure using other measures. Some of the interim measures, also known as technical measures, are of little interest to end users.  \n",
    "\n",
    "We cannot delete these measures as they are required for the aggregation. Instead, we can hide them from the view of end users to avoid cluttering and confusion."
   ]
  },
  {
   "cell_type": "code",
   "execution_count": null,
   "id": "f552e81b-ff00-402a-b5b7-1bb88f7b1b6d",
   "metadata": {
    "tags": []
   },
   "outputs": [],
   "source": [
    "m[\"_ProfitPerUnit (mean)\"].visible = False\n",
    "m[\"_ProfitPerUnit (sum)\"].visible = False\n",
    "m[\"_ProfitPerUnit (sv)\"].visible = False"
   ]
  },
  {
   "cell_type": "code",
   "execution_count": null,
   "id": "65c101c9-815f-4795-898b-ef5d5aa737ee",
   "metadata": {
    "atoti": {
     "height": 116
    },
    "tags": []
   },
   "outputs": [],
   "source": [
    "session.widget"
   ]
  },
  {
   "cell_type": "markdown",
   "id": "ba4a606f-dd7d-41e2-8540-85f52e7be87a",
   "metadata": {},
   "source": [
    "Select the widget cell above and verify that the measures with name starting with `_ProfitPerUnit` is no longer displayed in the content editor:  \n",
    "\n",
    "<img src=\"https://data.atoti.io/atoti-academy/images/introduction/6_hide_measures.png\" width=\"500px\"/>"
   ]
  },
  {
   "cell_type": "markdown",
   "id": "aaca7abd-a929-4bdb-8453-54752ebed7a0",
   "metadata": {},
   "source": [
    "It is also not displayed when we view the `cube.measures`."
   ]
  },
  {
   "cell_type": "code",
   "execution_count": null,
   "id": "2ff052fb-6395-4e40-8093-5bcd505f9534",
   "metadata": {
    "tags": []
   },
   "outputs": [],
   "source": [
    "m"
   ]
  },
  {
   "cell_type": "markdown",
   "id": "e9832320-13ec-4453-8261-3cc243afc4fa",
   "metadata": {},
   "source": [
    "### 6.3.3 Organize measures in folders"
   ]
  },
  {
   "cell_type": "markdown",
   "id": "d4c2ec50-d9e2-469d-9e70-1d537f12642b",
   "metadata": {},
   "source": [
    "Folders helps to keep the measures organized. We can expand the relevant folders to access the measures or perform a search to find the intended measure quickly:  \n",
    "\n",
    "<img src=\"https://data.atoti.io/atoti-academy/images/introduction/6_verify_folder.gif\" width=\"500px\" />  "
   ]
  },
  {
   "cell_type": "code",
   "execution_count": null,
   "id": "43744bdc-5ac1-46d6-8f9c-5148248dbb59",
   "metadata": {
    "tags": []
   },
   "outputs": [],
   "source": [
    "m[\"Selling Price Per Unit\"].folder = \"Unit Price\""
   ]
  },
  {
   "cell_type": "markdown",
   "id": "cea28d5b-8b58-4468-a9d6-55748cfd1665",
   "metadata": {},
   "source": [
    "Let's assign the measures with the substring \"Unit\" in its name to the \"Unit Price\" folder."
   ]
  },
  {
   "cell_type": "code",
   "execution_count": null,
   "id": "bc0b4794-6101-4107-9f52-01b0078d2b00",
   "metadata": {
    "tags": []
   },
   "outputs": [],
   "source": [
    "for _m_name in m:\n",
    "    if \"Unit\" in m[_m_name].name:\n",
    "        m[_m_name].folder = \"Unit Price\""
   ]
  },
  {
   "cell_type": "markdown",
   "id": "bc15aa4f-201e-4250-b76c-ec47fd1e4b23",
   "metadata": {},
   "source": [
    "### 📐Exercise  \n",
    "\n",
    "Try accessing the measure `Selling Price Per Unit` from the content editor.  "
   ]
  },
  {
   "cell_type": "markdown",
   "id": "e5c40991-19d7-460c-aef3-d4819d04dfdf",
   "metadata": {},
   "source": [
    "### 📖 Solution  \n",
    "\n",
    "Get started with and follow the gif at the beginning of section [6.3.3](#6.3.3-Keep-measures-organized-in-folders):  \n",
    "\n",
    "`session.widget`"
   ]
  },
  {
   "cell_type": "code",
   "execution_count": null,
   "id": "c1774a4e-b8c0-43a3-bc5c-39f61bf386ef",
   "metadata": {},
   "outputs": [],
   "source": [
    "session.widget"
   ]
  },
  {
   "cell_type": "markdown",
   "id": "b85c55c0-abad-47e1-a1e5-c0b000657164",
   "metadata": {},
   "source": [
    "# 7. Visualization"
   ]
  },
  {
   "cell_type": "markdown",
   "id": "ffe46ad8-fbb8-40c3-8f78-d4426fdf5bbc",
   "metadata": {},
   "source": [
    "As we have seen with in earlier sections, we can use `session.widget` to explore data interactively. In this section, we will see quickly how we use the Atoti's JupyterLab extension to interact with the data.  "
   ]
  },
  {
   "cell_type": "markdown",
   "id": "565bd748-e0a8-46e7-b60d-79954804c3eb",
   "metadata": {},
   "source": [
    "## 7.1 Build our visualization"
   ]
  },
  {
   "cell_type": "markdown",
   "id": "c2bbb6ec-2994-45b8-a9dd-048136ee4809",
   "metadata": {},
   "source": [
    "### 7.1.1 Add hierarchies and measures to the visualization"
   ]
  },
  {
   "cell_type": "markdown",
   "id": "34dc49ba-4116-45e2-8215-478dd213c36f",
   "metadata": {
    "tags": []
   },
   "source": [
    "When we execute `session.widget()`, the widget will display an empty Pivot table by default. The custom JupyterLab extension for Atoti will be expanded. Expanding the panel will automatically adjust the view of cube attributes and the widget's attribute into two panels, allowing greater visibility. \n",
    "\n",
    "<img src=\"https://data.atoti.io/atoti-academy/images/introduction/7-atoti-visualization.gif\" />  \n",
    "\n",
    "Clicking on a measure automatically adds it to the visualization as column. Clicking on a hierarchy automatically adds it to the row. Alternatively, drag and drop hierarchies or to move the tiles between rows and columns.  \n",
    "\n",
    "<img src=\"https://data.atoti.io/atoti-academy/images/introduction/7-atoti-drag-and-drop.gif\" />"
   ]
  },
  {
   "cell_type": "markdown",
   "id": "3f41e162-b8ff-4f5d-842f-af0395792f36",
   "metadata": {},
   "source": [
    "### 📐Exercise  \n",
    "\n",
    "Try building your own Pivot table and shift the measures and hierarchies between rows and columns to see how your visualization changes.  "
   ]
  },
  {
   "cell_type": "markdown",
   "id": "9a5b87ee-a3a0-4cbf-a0a2-7754fe216ff7",
   "metadata": {},
   "source": [
    "### 📖 Solution  \n",
    "\n",
    "Get started with:  \n",
    "\n",
    "`session.widget`"
   ]
  },
  {
   "cell_type": "markdown",
   "id": "38839836-53e6-45b9-947c-553325227a98",
   "metadata": {},
   "source": [
    "### 7.1.2 Expandable levels vs multi-level hierarchy"
   ]
  },
  {
   "cell_type": "markdown",
   "id": "4fad9aa0-0db7-437c-8af6-53582536e4e0",
   "metadata": {},
   "source": [
    "__Expanded display by adding hierarchies to rows__  \n",
    "\n",
    "When we add hierarchies to rows/columns, all the levels are displayed with the corresponding measures.  \n",
    "\n",
    "<img src=\"https://data.atoti.io/atoti-academy/images/introduction/7-atoti-expanded.gif\" />  \n",
    "\n",
    "__Collapsible levels by dropping hierarchies into Pivot table__  \n",
    "\n",
    "Drag and drop a level on a member of the column on the pivot table to expand on:   \n",
    "\n",
    "<img src=\"https://data.atoti.io/atoti-academy/images/introduction/7-atoti-collapsible.gif\" />  \n",
    "\n",
    "We can replace the expanded level with another level simply by dropping the new level on member of the parent level.  \n",
    "\n",
    "__Naturally collapsible levels with multilevel hierarchies__\n",
    "\n",
    "For multilevel hierarchy, adding the top level of the hierarchy will have the same collapsible effect for the underlying levels.  \n",
    "\n",
    "<img src=\"https://data.atoti.io/atoti-academy/images/introduction/7-atoti-multilevel-hierarchies.gif\" />  \n",
    "\n"
   ]
  },
  {
   "cell_type": "markdown",
   "id": "2f74389a-ccca-4465-a89d-5c02bb0977a2",
   "metadata": {},
   "source": [
    "## 7.2 Change type of visualization"
   ]
  },
  {
   "cell_type": "markdown",
   "id": "655d3d7c-8f66-4cdb-ab41-d6682e14bf95",
   "metadata": {},
   "source": [
    "We can easily toggle the type of visualization using the drop-down menu in the Atoti's JupyterLab extension.  \n",
    "\n",
    "<img src=\"https://data.atoti.io/atoti-academy/images/introduction/7-atoti-change_type.gif\" />  \n",
    "\n",
    "Adjust the hierarchies and measures interactively to obtain the best-fitting visualization. "
   ]
  },
  {
   "cell_type": "markdown",
   "id": "3051cc1c-b163-4a2c-9358-5a5534d73fde",
   "metadata": {},
   "source": [
    "### 📐Exercise  \n",
    "\n",
    "Using the visualization from the previous exercise, explore the type of visualizations interactively.  "
   ]
  },
  {
   "cell_type": "markdown",
   "id": "30b4f76a-4d64-4df1-b2d3-88ec466a43a5",
   "metadata": {},
   "source": [
    "## 7.3 Filter data"
   ]
  },
  {
   "cell_type": "markdown",
   "id": "8efb22be-ba27-428c-874a-b5144e15848a",
   "metadata": {},
   "source": [
    "### 7.3.1 Focus on a single trace on charts"
   ]
  },
  {
   "cell_type": "markdown",
   "id": "4e592288-ebdc-4c48-8700-87409beacd4b",
   "metadata": {},
   "source": [
    "Atoti uses [Plotly charts](https://plotly.com/python/basic-charts/). Therefore, you can see that we can zoom in on the chart and also (de)select a single trace the same way we do with Plotly.  \n",
    "\n",
    "<img src=\"https://data.atoti.io/atoti-academy/images/introduction/7-atoti-deselect-trace.gif\" />"
   ]
  },
  {
   "cell_type": "markdown",
   "id": "3b22d2bc-13f5-4cb7-9889-60e76eb472ec",
   "metadata": {},
   "source": [
    "### 7.3.2 Filter by member"
   ]
  },
  {
   "cell_type": "markdown",
   "id": "ed27136c-99e9-43e1-9e41-b9b4102e1f45",
   "metadata": {},
   "source": [
    "One of the wonder of Atoti is in its ability to slice and dice the cube. \n",
    "\n",
    "<img src=\"https://data.atoti.io/atoti-academy/images/introduction/7-atoti-slice-dice.png\" />  \n",
    "\n",
    "We can view a subset of the data using the widget filter in Atoti's JupyterLab extension:  \n",
    "\n",
    "<img src=\"https://data.atoti.io/atoti-academy/images/introduction/7-atoti-widget_filter.gif\" />  \n"
   ]
  },
  {
   "cell_type": "markdown",
   "id": "88e5ae1e-0044-4d70-8c9e-773c34792262",
   "metadata": {},
   "source": [
    "### 7.3.3 Conditional filtering "
   ]
  },
  {
   "cell_type": "markdown",
   "id": "4ada65d5-1de2-4956-aaf9-cd9833bf8242",
   "metadata": {},
   "source": [
    "We can apply conditional filtering by toggling to \"Advanced\" mode in the widget filter's pop up:  \n",
    "\n",
    "<img src=\"https://data.atoti.io/atoti-academy/images/introduction/7-atoti-advanced-filter.gif\" />  \n",
    "\n",
    "The GIF above shows how we can obtain the daily profit of the top 5 product categories having the highest profit."
   ]
  },
  {
   "cell_type": "markdown",
   "id": "a2648951-9057-439c-b265-17b92dddf538",
   "metadata": {},
   "source": [
    "### 📐Exercise  \n",
    "\n",
    "In the visualization below, apply advanced filter such that we get the bottom 10 products with the lowest profit.  \n",
    "\n",
    "💡 Right-click on the chart to access the context menu. Try sorting the chart by profit.  "
   ]
  },
  {
   "cell_type": "code",
   "execution_count": null,
   "id": "2bc68912-475c-46b1-85f1-6875aa21128f",
   "metadata": {
    "atoti": {
     "height": 628,
     "widget": {
      "filters": [],
      "mapping": {
       "horizontalSubplots": [],
       "splitBy": [
        "ALL_MEASURES"
       ],
       "values": [
        "[Measures].[Profit]"
       ],
       "verticalSubplots": [],
       "xAxis": [
        "[Products].[Product Tree].[ProductName]"
       ]
      },
      "name": "Bottom 10 products with the lowest profit",
      "query": {
       "mdx": "SELECT NON EMPTY {[Measures].[Profit]} ON COLUMNS, NON EMPTY Hierarchize(Descendants({[Products].[Product Tree].[AllMember]}, 2, SELF_AND_BEFORE)) ON ROWS FROM [Order Cube] CELL PROPERTIES VALUE, FORMATTED_VALUE, BACK_COLOR, FORE_COLOR, FONT_FLAGS",
       "updateMode": "once"
      },
      "serverKey": "default",
      "widgetKey": "plotly-clustered-column-chart"
     }
    },
    "tags": []
   },
   "outputs": [],
   "source": [
    "session.widget"
   ]
  },
  {
   "cell_type": "markdown",
   "id": "c051df5d-d1e2-438e-90bd-9c1bc86f83d9",
   "metadata": {},
   "source": [
    "### 📖 Solution  \n",
    "\n",
    "<img src=\"https://data.atoti.io/atoti-academy/images/introduction/7-atoti-advanced-filter-solution.gif\">  "
   ]
  },
  {
   "cell_type": "markdown",
   "id": "7bf21357-2b9f-45ce-963f-146209cf4e63",
   "metadata": {},
   "source": [
    "## 7.4 Publish in app  "
   ]
  },
  {
   "cell_type": "markdown",
   "id": "1fa14bb7-775a-4ce6-8355-80dbe57f60ca",
   "metadata": {},
   "source": [
    "During our data exploration, we might want to save some of our investigations and put them in a dashboard for end-users to reference. To do so, we can publish the visualizations that we create in the notebook to Atoti UI application using the `Publish in App` menu.  \n",
    "\n",
    "<img src=\"https://data.atoti.io/atoti-academy/images/introduction/7-atoti-publish-in-app.gif\" />"
   ]
  },
  {
   "cell_type": "markdown",
   "id": "e80fe8df-ebea-4031-a723-ccf1980cef60",
   "metadata": {
    "tags": []
   },
   "source": [
    "💡 We can access Atoti UI using `session.link`."
   ]
  },
  {
   "cell_type": "code",
   "execution_count": null,
   "id": "201be2fc-a366-4ccd-8d3e-6adc886123df",
   "metadata": {
    "tags": []
   },
   "outputs": [],
   "source": [
    "session.link"
   ]
  },
  {
   "cell_type": "markdown",
   "id": "94ffd3ae-3300-4a5e-83f4-375558a909fa",
   "metadata": {},
   "source": [
    "# 8. Output query results"
   ]
  },
  {
   "cell_type": "markdown",
   "id": "e07306e6-e010-43e6-b06f-388953dc1719",
   "metadata": {},
   "source": [
    "## 8.1 Export data to CSV\n",
    "We can export underlying data from the Atoti widgets. Simply right-click on the visualization and click on \"Export to CSV\".  \n",
    "\n",
    "<img src=\"https://data.atoti.io/atoti-academy/images/introduction/7-atoti-export-to-csv.gif\" />"
   ]
  },
  {
   "cell_type": "markdown",
   "id": "5a5d5f62-a02c-4710-9bbc-0b7d6b3a26df",
   "metadata": {},
   "source": [
    "## 8.2 Output query results to Pandas DataFrame"
   ]
  },
  {
   "cell_type": "markdown",
   "id": "e52a6f81-d521-4d75-bec1-2508b9bfb4cc",
   "metadata": {},
   "source": [
    "We can perform a [cube query](https://docs.atoti.io/latest/api/atoti_query.QueryCube.query.html#atoti-query-querycube-query) and it will return a Pandas DataFrame as shown below:  "
   ]
  },
  {
   "cell_type": "code",
   "execution_count": null,
   "id": "eff4e313-f7a0-4cf6-ba5d-8043b4b253fd",
   "metadata": {
    "tags": []
   },
   "outputs": [],
   "source": [
    "df_profit = cube.query(\n",
    "    m[\"Aggregated Profit\"],\n",
    "    m[\"Quantity Sold.SUM\"],\n",
    "    levels=[\n",
    "        l[\"Products\", \"Product Tree\", \"ProductCategory\"],\n",
    "        l[(\"Products\", \"ProductName\", \"ProductName\")],\n",
    "    ],\n",
    ")\n",
    "df_profit.head()"
   ]
  },
  {
   "cell_type": "markdown",
   "id": "4da44312-f6a9-4467-9030-09ba45cb8abd",
   "metadata": {},
   "source": [
    "Since it's a Pandas DataFrame, we can manipulate it the way we do with Pandas.  "
   ]
  },
  {
   "cell_type": "code",
   "execution_count": null,
   "id": "ebee1885-c2a8-4038-a460-456ef596efee",
   "metadata": {
    "tags": []
   },
   "outputs": [],
   "source": [
    "df_profit.reset_index()"
   ]
  },
  {
   "cell_type": "markdown",
   "id": "57c80e82-f9c9-489a-9cca-022f0003654c",
   "metadata": {},
   "source": [
    "So, this means that we can pass the DataFrame to another Python function, or we can output to CSV file for a downstream system.  "
   ]
  },
  {
   "cell_type": "markdown",
   "id": "c29dfe5e-76ab-4acf-8b84-ab62a4f3f32d",
   "metadata": {},
   "source": [
    "## 8.3 Output query results to other data structure"
   ]
  },
  {
   "cell_type": "markdown",
   "id": "2f9ea00b-9ae5-48b8-a5a7-1ad4c68ab881",
   "metadata": {},
   "source": [
    "From the previous section, we obtained a Pandas DataFrame. Leveraging Pandas functionality, we can output the data to different file structures such as [CSV](https://pandas.pydata.org/docs/reference/api/pandas.DataFrame.to_csv.html):"
   ]
  },
  {
   "cell_type": "code",
   "execution_count": null,
   "id": "56b25593-9c97-4ce9-9cb2-678b3bb49edc",
   "metadata": {
    "tags": []
   },
   "outputs": [],
   "source": [
    "df_profit.to_csv(\"profit.csv\", index=False)"
   ]
  },
  {
   "cell_type": "markdown",
   "id": "6ac3ba72-b734-4e09-91a8-6d4b336dd1d3",
   "metadata": {},
   "source": [
    "# 📐Exercise  \n",
    "\n",
    "With reference to the [cube query](https://docs.atoti.io/latest/api/atoti_query.QueryCube.query.html#atoti-query-querycube-query) function call in the documentation, try outputting the profit by product category for order date 2019-02-17. "
   ]
  },
  {
   "cell_type": "markdown",
   "id": "5346cd79-2f32-448c-94ce-961bd6d8e3a8",
   "metadata": {
    "tags": []
   },
   "source": [
    "# 📖 Solution  \n",
    "\n",
    "```\n",
    "df = cube.query(\n",
    "    m[\"Profit\"],\n",
    "    levels=[l[\"Order Date\"], l[\"ProductCategory\"]],\n",
    "    filter=(l[\"Order Date\"] == \"2019-02-17\"),\n",
    ")  \n",
    "\n",
    "df.to_csv(\"exercise.csv\", index=False)\n",
    "```"
   ]
  },
  {
   "cell_type": "markdown",
   "id": "0e145a65-878f-47e9-ac7d-e9fc2c7f6dbc",
   "metadata": {},
   "source": [
    "<div style=\"text-align: center;\" ><a href=\"https://www.atoti.io/?utm_source=gallery&utm_content=introduction-to-atoti\" target=\"_blank\" rel=\"noopener noreferrer\"><img src=\"https://data.atoti.io/notebooks/banners/Your-turn-to-try-Atoti.jpg\" alt=\"Try atoti\"></a></div>"
   ]
  }
 ],
 "metadata": {
  "kernelspec": {
   "display_name": "Python 3 (ipykernel)",
   "language": "python",
   "name": "python3"
  },
  "language_info": {
   "codemirror_mode": {
    "name": "ipython",
    "version": 3
   },
   "file_extension": ".py",
   "mimetype": "text/x-python",
   "name": "python",
   "nbconvert_exporter": "python",
   "pygments_lexer": "ipython3",
   "version": "3.10.14"
  },
  "toc-autonumbering": false,
  "toc-showcode": false,
  "toc-showtags": false
 },
 "nbformat": 4,
 "nbformat_minor": 5
}
