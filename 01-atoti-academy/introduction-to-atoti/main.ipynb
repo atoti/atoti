{
 "cells": [
  {
   "cell_type": "markdown",
   "id": "8d668eea-0a00-4c60-9efb-d7cdbb97d362",
   "metadata": {
    "editable": true,
    "slideshow": {
     "slide_type": ""
    },
    "tags": []
   },
   "source": [
    "# Introduction to Atoti\n",
    "\n",
    "This course gives a quick introduction to Atoti Python, a library that allow users to build their own operational intelligence platform for better collaboration and faster analysis.   \n",
    "\n",
    "<img src=\"https://data.atoti.io/atoti-academy/images/introduction/0_Atoti_architecture.png\" width=\"750px\"/>\n",
    "\n",
    "We will look at some commonly used functions and operations from the library.  \n",
    "\n",
    "<u><b>Course Outline and Objectives</b></u>\n",
    "1. Create Atoti tables via data source or from scratch.\n",
    "2. Build an Atoti cube.\n",
    "3. Master common operations such as hierarchy manipulations and measure creations.\n",
    "4. Explore your data with interactive visualization.\n",
    "5. Export and share your data to Pandas DataFrame or other data structures.\n",
    "\n",
    "The notebook is expected to run sequentially as some data objects created at the beginning may be used in later cells.  \n",
    "Some cells may fail to execute. This is expected as it's intended to demonstrate the erroneous behaviour one may encounter.  \n",
    "\n",
    "This notebook is broken up into the following sections:  \n",
    "\n",
    "- [1. Getting Started](#1.-Getting-Started)\n",
    "\t- [1.1 Install Atoti and its plugins](#1.1-Install-Atoti-and-its-plugins)\n",
    "\t- [1.2 Import the Python libraries](#1.2-Import-the-Python-libraries)\n",
    "- [2. Create an Atoti Session](#2.-Create-an-Atoti-Session)\n",
    "- [3. Initialize Atoti UI](#3.-Initialize-Atoti-UI)\n",
    "- [4. Data modeling](#4.-Data-modeling)\n",
    "\t- [4.1 Table structure creation](#4.1-Table-structure-creation)\n",
    "\t- [4.2 Table creation through exploration](#4.2-Table-creation-through-exploration)\n",
    "\t\t- [4.2.1 Check on data types](#4.2.1-Check-on-data-types)\n",
    "\t\t- [4.2.2 Delete tables](#4.2.2-Delete-tables)\n",
    "\t\t- [4.2.3 Table configuration](#4.2.3-Table-configuration)\n",
    "\t- [4.3 Data schema](#4.3-Data-schema)\n",
    "\t\t- [4.3.1 Identify base table](#4.3.1-Identify-base-table)\n",
    "\t\t- [4.3.2 Visualize table schema](#4.3.2-Visualize-table-schema)\n",
    "\t\t- [4.3.3 Table join](#4.3.3-Table-join)\n",
    "- [5. Loading data into tables](#5.-Load-data-into-tables)\n",
    "- [6. Atoti Cube](#6.-Atoti-Cube)\n",
    "\t- [6.1 Cube creation](#6.1-Cube-creation)\n",
    "\t- [6.2 Cube attributes](#6.2-Cube-attributes)\n",
    "\t\t- [6.2.1 Hierarchies and levels](#6.2.1-Hierarchies-and-levels)\n",
    "\t\t- [6.2.2 Measures](#6.2.2-Measures)\n",
    "    - [6.3 Cube Housekeeping ](#6.3-Cube-Housekeeping)\n",
    "        - [6.3.1 Delete unwanted hierarchies, levels and measures](#6.3.1-Delete-unwanted-hierarchies,-levels-and-measures)\n",
    "        - [6.3.2 Hide technical measures](#6.3.2-Hide-technical-measures)  \n",
    "        - [6.3.3 Organize measures in folders](#6.3.3-Organize-measures-in-folders)  \n",
    "- [7. Visualization](#7.-Visualization)\n",
    "\t- [7.1 Build our visualization](#7.1-Build-our-visualization)\n",
    "\t\t- [7.1.1 Add hierarchies and measures to the visualization](#7.1.1-Add-hierarchies-and-measures-to-the-visualization)\n",
    "\t\t- [7.1.2 Expandable levels vs multi-level hierarchy](#7.1.2-Expandable-levels-vs-multi-level-hierarchy)\n",
    "\t- [7.2 Change type of visualization](#7.2-Change-type-of-visualization)\n",
    "\t- [7.3 Filter data](#7.3-Filter-data)\n",
    "\t\t- [7.3.1 Focus on a single trace on charts](#7.3.1-Focus-on-a-single-trace-on-charts)\n",
    "\t\t- [7.3.2 Filter by member](#7.3.2-Filter-by-member)\n",
    "\t\t- [7.3.3 Conditional filtering](#7.3.3-Conditional-filtering)\n",
    "\t- [7.4 Publish in app](#7.4-Publish-in-app)\n",
    "- [8. Output query results](#8.-Output-query-results)\n",
    "\t- [8.1 Export data to CSV](#8.1-Export-data-to-CSV)\n",
    "\t- [8.2 Output query results to Pandas DataFrame](#8.2-Output-query-results-to-Pandas-DataFrame)\n",
    "\t- [8.3 Output query results to other data structure](#8.3-Output-query-results-to-other-data-structure)\n"
   ]
  },
  {
   "cell_type": "markdown",
   "id": "bf12c5ae-e3b2-40b9-b670-cdbd66850cc7",
   "metadata": {},
   "source": [
    "<div style=\"text-align: center;\" ><a href=\"https://www.atoti.io/?utm_source=gallery&utm_content=introduction-to-atoti\" target=\"_blank\" rel=\"noopener noreferrer\"><img src=\"https://data.atoti.io/notebooks/banners/Discover-Atoti-now.png\" alt=\"Try atoti\"></a></div>"
   ]
  },
  {
   "cell_type": "markdown",
   "id": "c35a734f-2776-41c0-8344-63ab65769ea2",
   "metadata": {
    "tags": []
   },
   "source": [
    "# 1. Getting Started"
   ]
  },
  {
   "cell_type": "markdown",
   "id": "d5886545-8f36-4b0a-92db-b481d7950093",
   "metadata": {},
   "source": [
    "## 1.1 Install Atoti and its plugins"
   ]
  },
  {
   "cell_type": "markdown",
   "id": "48b5e9a2-ce06-4f9f-a2c1-d815e6ec725d",
   "metadata": {},
   "source": [
    "We can use Atoti in a Jupyter notebook or in a Python script. Minimally, we install the atoti library with the following:\n",
    "- `uv pip install atoti`\n",
    "\n",
    "If we want to be able to explore data on the fly with Atoti in JupyterLab, we have to install extra plugin for its JupyterLab extension. Again, run with either `pip` or `conda` as shown below:\n",
    "- `uv pip install atoti-jupyterlab`\n",
    "\n",
    "💡There are other [plugins](https://docs.atoti.io/latest/reference.html#plugins) available for Atoti. For instance, to access CSV or Parquet on AWS S3 bucket, we have to install its corresponding plugin `atoti-aws`. Similarly, `atoti-jdbc` is required for connectivity to SQL database. Using `pip`, we can install multiple plugins with the `extra` syntax as shown below:    \n",
    "- `uv pip install 'atoti[jupyterlab,aws,jdbc]'`"
   ]
  },
  {
   "cell_type": "markdown",
   "id": "71d79a29-33ad-4ccb-874d-1bb6a2b1d251",
   "metadata": {},
   "source": [
    "## 1.2 Import the Python libraries"
   ]
  },
  {
   "cell_type": "markdown",
   "id": "553714ed-fe19-4ce7-9743-d15b66608a9d",
   "metadata": {},
   "source": [
    "Usually, it is sufficient to import just the Atoti libraries. However, if we would like to perform some pre-computation before using Atoti, we can import `pandas` as well."
   ]
  },
  {
   "cell_type": "code",
   "execution_count": 1,
   "id": "e6a4b8b1-d7b2-41eb-bd72-b0b4b7c2c526",
   "metadata": {
    "tags": []
   },
   "outputs": [],
   "source": [
    "import atoti as tt"
   ]
  },
  {
   "cell_type": "markdown",
   "id": "3b13dea3-2996-453d-add6-dc575861292b",
   "metadata": {},
   "source": [
    "# 2. Create an Atoti Session"
   ]
  },
  {
   "cell_type": "markdown",
   "id": "70fc309d-36b6-4dc5-af93-f807d95e8f91",
   "metadata": {},
   "source": [
    "We instantiate an Atoti session in order to establish a connection to the Java gateway of the Atoti Server. "
   ]
  },
  {
   "cell_type": "code",
   "execution_count": 2,
   "id": "dd234fd4-e8be-4cb8-95e6-79a9303deebc",
   "metadata": {
    "tags": []
   },
   "outputs": [],
   "source": [
    "session = tt.Session.start()"
   ]
  },
  {
   "cell_type": "markdown",
   "id": "4e8df675-9839-402b-a087-4da54f5e352c",
   "metadata": {},
   "source": [
    "⚠️ Windows users may encounter the following Windows Security Alert:  \n",
    "\n",
    "<img src=\"https://data.atoti.io/atoti-academy/images/introduction/2_window_security_alert.png\" width=\"400px\"/>  \n",
    "\n",
    "This is because Atoti Server, the underlying aggregation engine used by Atoti, is built using Java. The web application, Atoti UI, is built using REACT.  "
   ]
  },
  {
   "cell_type": "markdown",
   "id": "409a3cae-3a42-430f-b526-eeaa0bb6b33e",
   "metadata": {},
   "source": [
    "⚠️ We can have multiple Atoti sessions within a instance, provided that they are given different names. In the above code snippet, we have not set any [parameters for the session](https://docs.atoti.io/latest/api/atoti.Session.html#atoti.Session). If we re-instantiate a session without defining a name for it, the existing session will be deleted and a new session gets created as we will see in the next cell. "
   ]
  },
  {
   "cell_type": "code",
   "execution_count": 3,
   "id": "3caf8639-c20c-4002-b55b-4342dfe7ae3a",
   "metadata": {},
   "outputs": [],
   "source": [
    "session = tt.Session.start(\n",
    "    tt.SessionConfig(\n",
    "        user_content_storage=\"./content\",\n",
    "        port=9092,\n",
    "        java_options=[\"-Xms1G\", \"-Xmx10G\"],\n",
    "    )\n",
    ")"
   ]
  },
  {
   "cell_type": "markdown",
   "id": "01ca5d40-3dc4-4a1c-8009-8dc01db3fb3f",
   "metadata": {},
   "source": [
    "💡The above code snippet demonstrate how we configure some of the common parameters for [Atoti deployment](https://docs.atoti.io/latest/deployment/deployment_setup.html#):\n",
    "- `user_content_storage`: Persists saved dashboards, widgets and filters in the session to a database. A \"content\" folder in the same directory as this notebook and a H2 database is created. \n",
    "- `port`: Sets the port for the Atoti UI.\n",
    "- `java_options`: Additional options to pass when starting the Java process, e.g. increasing the amount of RAM that the session can use via `-Xmx` option.  "
   ]
  },
  {
   "cell_type": "markdown",
   "id": "b8551715-8d5e-40b7-951e-780ecfeb17db",
   "metadata": {},
   "source": [
    "# 3. Initialize Atoti UI"
   ]
  },
  {
   "cell_type": "markdown",
   "id": "773af7fe-c3c2-4153-8a02-437fc2a35d2b",
   "metadata": {},
   "source": [
    "Once the session gets instantiated, Atoti UI will start on a random port unless specified.  "
   ]
  },
  {
   "cell_type": "code",
   "execution_count": 4,
   "id": "2f48a819-84bc-45ef-9db8-4d6226be8bce",
   "metadata": {
    "tags": []
   },
   "outputs": [
    {
     "data": {
      "application/vnd.atoti.link.v0+json": {
       "path": "",
       "sessionUrl": "http://localhost:9092"
      },
      "text/plain": [
       "http://localhost:9092"
      ]
     },
     "execution_count": 4,
     "metadata": {},
     "output_type": "execute_result"
    }
   ],
   "source": [
    "session.link"
   ]
  },
  {
   "cell_type": "markdown",
   "id": "a4ca9c61-4354-4763-ab52-4b44103e3f9a",
   "metadata": {},
   "source": [
    "⚠️ There is nothing interesting in Atoti UI at this point in time because we have yet to create our data model. We will revisit Atoti UI later on."
   ]
  },
  {
   "cell_type": "markdown",
   "id": "8f842961-c5ce-4996-a171-da0f6910a697",
   "metadata": {},
   "source": [
    "# 4. Data modeling "
   ]
  },
  {
   "cell_type": "markdown",
   "id": "c44fdc77-a913-4eed-8b71-53f9ca4f276d",
   "metadata": {},
   "source": [
    "There are two ways we can create Atoti tables (along with recommendations):  \n",
    "\n",
    "1. Defining table structure:\n",
    "   * For **full application implementations**, we recommend that we define the table structure as we can start the application quickly before loading data.  \n",
    "3. Infer table structure from a datasource:\n",
    "   * For **data exploration, model prototyping or adhoc reporting with new data source**, creating a table by inferring its structure from a datasource is a quick way to get things moving.  \n",
    "\n",
    "\n"
   ]
  },
  {
   "cell_type": "markdown",
   "id": "a8a54803-e37d-4928-bd9b-6c76ac8436ef",
   "metadata": {},
   "source": [
    "## 4.1 Table structure creation"
   ]
  },
  {
   "cell_type": "markdown",
   "id": "e84f3623-e991-4360-aa17-271ffb37c646",
   "metadata": {},
   "source": [
    "Similar to the creation of database tables, we can define the structure of the table by defining:\n",
    "* `name`: Name of table.\n",
    "* `data_types`: Column names and its corresponding data type.\n",
    "* `keys`: Column(s) used to dictionarize data for faster querying. It is also used to identify unique data rows. Atoti keeps the last uploaded row when there are duplicates.  \n",
    "* `default_values`: Default value when value is not provided. `\"N/A\"` by default for category columns, `null` for numerical columns and `1970-01-01` for date columns. If column is used in hierarchy manipulation, e.g. create multi-level hierarchies, a non-empty default value has to be set."
   ]
  },
  {
   "cell_type": "code",
   "execution_count": 5,
   "id": "22ec7f77-5ba8-45b7-8118-ad03790ca5e0",
   "metadata": {
    "tags": []
   },
   "outputs": [
    {
     "data": {
      "text/html": [
       "<div>\n",
       "<style scoped>\n",
       "    .dataframe tbody tr th:only-of-type {\n",
       "        vertical-align: middle;\n",
       "    }\n",
       "\n",
       "    .dataframe tbody tr th {\n",
       "        vertical-align: top;\n",
       "    }\n",
       "\n",
       "    .dataframe thead th {\n",
       "        text-align: right;\n",
       "    }\n",
       "</style>\n",
       "<table border=\"1\" class=\"dataframe\">\n",
       "  <thead>\n",
       "    <tr style=\"text-align: right;\">\n",
       "      <th></th>\n",
       "      <th>ProductName</th>\n",
       "      <th>ProductCategory</th>\n",
       "      <th>Supplier</th>\n",
       "      <th>PurchasingPricePerUnit</th>\n",
       "    </tr>\n",
       "    <tr>\n",
       "      <th>ProductId</th>\n",
       "      <th></th>\n",
       "      <th></th>\n",
       "      <th></th>\n",
       "      <th></th>\n",
       "    </tr>\n",
       "  </thead>\n",
       "  <tbody>\n",
       "  </tbody>\n",
       "</table>\n",
       "</div>"
      ],
      "text/plain": [
       "Empty DataFrame\n",
       "Columns: [ProductName, ProductCategory, Supplier, PurchasingPricePerUnit]\n",
       "Index: []"
      ]
     },
     "execution_count": 5,
     "metadata": {},
     "output_type": "execute_result"
    }
   ],
   "source": [
    "product_tbl = session.create_table(\n",
    "    name=\"Products\",\n",
    "    data_types={\n",
    "        \"ProductId\": tt.type.STRING,\n",
    "        \"ProductName\": tt.type.STRING,\n",
    "        \"ProductCategory\": tt.type.STRING,\n",
    "        \"Supplier\": tt.type.STRING,\n",
    "        \"PurchasingPricePerUnit\": tt.type.FLOAT,\n",
    "    },\n",
    "    keys=[\"ProductId\"],\n",
    "    # optional. Setting default value to 0.0 for demonstrative purpose\n",
    "    default_values={\"PurchasingPricePerUnit\": 0.0},\n",
    ")\n",
    "\n",
    "product_tbl.head()"
   ]
  },
  {
   "cell_type": "markdown",
   "id": "909bd02a-7ed5-4ed4-a6d2-c5347e9662b3",
   "metadata": {},
   "source": [
    "💡Similar to Pandas, we can use `head` function to preview the data in the Atoti table. "
   ]
  },
  {
   "cell_type": "markdown",
   "id": "390ca1bf-668a-4664-8f9f-cca2876e2d83",
   "metadata": {},
   "source": [
    "⚠️ An empty table is created. We will load data into the table separately."
   ]
  },
  {
   "cell_type": "markdown",
   "id": "d6f5f175-56b6-4a52-87e1-9c26e0769ae9",
   "metadata": {},
   "source": [
    "## 4.2 Table creation through exploration\n",
    "\n",
    "Another way to create a table is by using a corresponding connector to consume an existing data source. This is a quick and convenient way to create an Atoti table and especially useful when we want to explore the data quickly.  \n",
    "\n",
    "We can use `session.read_csv`, for instance, to consume CSV files and `session.read_parquet` for parquet files etc. This way, we need not define the table structure as the table will be created automatically after consuming the data.  "
   ]
  },
  {
   "cell_type": "code",
   "execution_count": 6,
   "id": "31fda3d6-b8be-483d-90a8-766597bbefe9",
   "metadata": {
    "tags": []
   },
   "outputs": [
    {
     "data": {
      "text/html": [
       "<div>\n",
       "<style scoped>\n",
       "    .dataframe tbody tr th:only-of-type {\n",
       "        vertical-align: middle;\n",
       "    }\n",
       "\n",
       "    .dataframe tbody tr th {\n",
       "        vertical-align: top;\n",
       "    }\n",
       "\n",
       "    .dataframe thead th {\n",
       "        text-align: right;\n",
       "    }\n",
       "</style>\n",
       "<table border=\"1\" class=\"dataframe\">\n",
       "  <thead>\n",
       "    <tr style=\"text-align: right;\">\n",
       "      <th></th>\n",
       "      <th>OrderId</th>\n",
       "      <th>OrderDate</th>\n",
       "      <th>QuantitySold</th>\n",
       "      <th>SellingPricePerUnit</th>\n",
       "      <th>ShipperName</th>\n",
       "      <th>ProductId</th>\n",
       "      <th>EmployeeId</th>\n",
       "      <th>CustomerId</th>\n",
       "    </tr>\n",
       "  </thead>\n",
       "  <tbody>\n",
       "    <tr>\n",
       "      <th>0</th>\n",
       "      <td>1</td>\n",
       "      <td>18/2/2019</td>\n",
       "      <td>650</td>\n",
       "      <td>22.42</td>\n",
       "      <td>Freight United</td>\n",
       "      <td>994</td>\n",
       "      <td>18336</td>\n",
       "      <td>c4411</td>\n",
       "    </tr>\n",
       "    <tr>\n",
       "      <th>1</th>\n",
       "      <td>12</td>\n",
       "      <td>18/2/2019</td>\n",
       "      <td>148</td>\n",
       "      <td>5.5</td>\n",
       "      <td>United Package</td>\n",
       "      <td>1384</td>\n",
       "      <td>18336</td>\n",
       "      <td>c2619</td>\n",
       "    </tr>\n",
       "    <tr>\n",
       "      <th>2</th>\n",
       "      <td>25</td>\n",
       "      <td>18/2/2019</td>\n",
       "      <td>883</td>\n",
       "      <td>17.57</td>\n",
       "      <td>The Transporter</td>\n",
       "      <td>773</td>\n",
       "      <td>18551</td>\n",
       "      <td>c1723</td>\n",
       "    </tr>\n",
       "    <tr>\n",
       "      <th>3</th>\n",
       "      <td>72</td>\n",
       "      <td>18/2/2019</td>\n",
       "      <td>927</td>\n",
       "      <td>27.14</td>\n",
       "      <td>Freight United</td>\n",
       "      <td>1423</td>\n",
       "      <td>63528</td>\n",
       "      <td>c1835</td>\n",
       "    </tr>\n",
       "    <tr>\n",
       "      <th>4</th>\n",
       "      <td>74</td>\n",
       "      <td>18/2/2019</td>\n",
       "      <td>651</td>\n",
       "      <td>56.83</td>\n",
       "      <td>Freight United</td>\n",
       "      <td>1059</td>\n",
       "      <td>18680</td>\n",
       "      <td>c5475</td>\n",
       "    </tr>\n",
       "  </tbody>\n",
       "</table>\n",
       "</div>"
      ],
      "text/plain": [
       "   OrderId  OrderDate  QuantitySold  SellingPricePerUnit      ShipperName  \\\n",
       "0        1  18/2/2019           650                22.42   Freight United   \n",
       "1       12  18/2/2019           148                  5.5   United Package   \n",
       "2       25  18/2/2019           883                17.57  The Transporter   \n",
       "3       72  18/2/2019           927                27.14   Freight United   \n",
       "4       74  18/2/2019           651                56.83   Freight United   \n",
       "\n",
       "   ProductId  EmployeeId CustomerId  \n",
       "0        994       18336      c4411  \n",
       "1       1384       18336      c2619  \n",
       "2        773       18551      c1723  \n",
       "3       1423       63528      c1835  \n",
       "4       1059       18680      c5475  "
      ]
     },
     "execution_count": 6,
     "metadata": {},
     "output_type": "execute_result"
    }
   ],
   "source": [
    "orders_tbl = session.read_csv(\n",
    "    \"s3://data.atoti.io/atoti-academy/data/Orders.csv\", table_name=\"Orders\"\n",
    ")\n",
    "orders_tbl.head()"
   ]
  },
  {
   "cell_type": "markdown",
   "id": "c69c21de-6663-4d88-a3d5-8670fd067dc2",
   "metadata": {
    "tags": []
   },
   "source": [
    "💡Data is loaded into the table upon creation. For quick prototyping, we advise using smaller dataset during initial table creation. Data can be **incrementally loaded** into the table later on.   "
   ]
  },
  {
   "cell_type": "markdown",
   "id": "9089d6e3-f7db-4a4c-ac1a-4947b3aa278c",
   "metadata": {},
   "source": [
    "💡For data sources that are not supported natively by the Python API, we can consume it with either Pandas, Apache PyArrow or Apache Spark DataFrame before loading it into an Atoti table. Check out [`atoti.Session` module](https://docs.atoti.io/latest/api/atoti.Session.html#atoti.Session) or press `tab` on `session.read` to see the available functions:  \n",
    "\n",
    "<img src=\"https://data.atoti.io/atoti-academy/images/introduction/4_read_functions.png\" />"
   ]
  },
  {
   "cell_type": "markdown",
   "id": "5bf484f3-6c31-4cd1-ba08-59945706553e",
   "metadata": {},
   "source": [
    "### 4.2.1 Check on data types"
   ]
  },
  {
   "cell_type": "markdown",
   "id": "8a8c83df-877e-4581-b8b1-491df5df5123",
   "metadata": {},
   "source": [
    "Some data structures such as Pandas DataFrame or parquet files comes with metadata information. In such case, Atoti will be able to inherit the data types of the columns from the sources. Otherwise, the API automatically infers the data type based on the first `1000` records.  \n",
    "\n",
    "To check the data types of the table columns:"
   ]
  },
  {
   "cell_type": "code",
   "execution_count": 7,
   "id": "c5a55ff0-2cb4-4dee-8207-9c005955f79e",
   "metadata": {
    "tags": []
   },
   "outputs": [
    {
     "data": {
      "application/json": {
       "CustomerId": {
        "default_value": "N/A",
        "type": "String"
       },
       "EmployeeId": {
        "default_value": null,
        "type": "int"
       },
       "OrderDate": {
        "default_value": "N/A",
        "type": "String"
       },
       "OrderId": {
        "default_value": null,
        "type": "int"
       },
       "ProductId": {
        "default_value": null,
        "type": "int"
       },
       "QuantitySold": {
        "default_value": null,
        "type": "int"
       },
       "SellingPricePerUnit": {
        "default_value": null,
        "type": "double"
       },
       "ShipperName": {
        "default_value": "N/A",
        "type": "String"
       }
      },
      "text/html": [
       "<ul>\n",
       "<li>Orders\n",
       "  <ul>\n",
       "  <li>OrderId\n",
       "    <ul>\n",
       "    <li>type: int</li>\n",
       "    <li>default_value: None</li>\n",
       "    </ul>\n",
       "  </li>\n",
       "  <li>OrderDate\n",
       "    <ul>\n",
       "    <li>type: String</li>\n",
       "    <li>default_value: N/A</li>\n",
       "    </ul>\n",
       "  </li>\n",
       "  <li>QuantitySold\n",
       "    <ul>\n",
       "    <li>type: int</li>\n",
       "    <li>default_value: None</li>\n",
       "    </ul>\n",
       "  </li>\n",
       "  <li>SellingPricePerUnit\n",
       "    <ul>\n",
       "    <li>type: double</li>\n",
       "    <li>default_value: None</li>\n",
       "    </ul>\n",
       "  </li>\n",
       "  <li>ShipperName\n",
       "    <ul>\n",
       "    <li>type: String</li>\n",
       "    <li>default_value: N/A</li>\n",
       "    </ul>\n",
       "  </li>\n",
       "  <li>ProductId\n",
       "    <ul>\n",
       "    <li>type: int</li>\n",
       "    <li>default_value: None</li>\n",
       "    </ul>\n",
       "  </li>\n",
       "  <li>EmployeeId\n",
       "    <ul>\n",
       "    <li>type: int</li>\n",
       "    <li>default_value: None</li>\n",
       "    </ul>\n",
       "  </li>\n",
       "  <li>CustomerId\n",
       "    <ul>\n",
       "    <li>type: String</li>\n",
       "    <li>default_value: N/A</li>\n",
       "    </ul>\n",
       "  </li>\n",
       "  </ul>\n",
       "</li>\n",
       "</ul>\n"
      ],
      "text/plain": [
       "<atoti.table.Table at 0x1277abdd0>"
      ]
     },
     "execution_count": 7,
     "metadata": {
      "application/json": {
       "expanded": true,
       "root": "Orders"
      }
     },
     "output_type": "execute_result"
    }
   ],
   "source": [
    "orders_tbl"
   ]
  },
  {
   "cell_type": "markdown",
   "id": "6778f4be-e940-444d-a370-0c0877c6f0f9",
   "metadata": {},
   "source": [
    "💡To discover the data type programmatically for a specific column, we can do the following:  "
   ]
  },
  {
   "cell_type": "code",
   "execution_count": 8,
   "id": "6a8084e6-2f87-4ab5-880a-f5c4bb568b6e",
   "metadata": {
    "tags": []
   },
   "outputs": [
    {
     "data": {
      "text/plain": [
       "'double'"
      ]
     },
     "execution_count": 8,
     "metadata": {},
     "output_type": "execute_result"
    }
   ],
   "source": [
    "orders_tbl[\"SellingPricePerUnit\"].data_type"
   ]
  },
  {
   "cell_type": "markdown",
   "id": "f0cb8919-7cdd-43bb-85a2-d30e230a484b",
   "metadata": {},
   "source": [
    "In some cases, it is useful to iterate through the columns and handle the data based on its data type. For instance, we can define measures for numerical columns iteratively."
   ]
  },
  {
   "cell_type": "code",
   "execution_count": 9,
   "id": "53704b8a-15cc-4b27-8a90-7403653eda9f",
   "metadata": {
    "tags": []
   },
   "outputs": [
    {
     "name": "stdout",
     "output_type": "stream",
     "text": [
      "OrderId is a numerical type column.\n",
      "OrderDate is a hierarchical type column.\n",
      "QuantitySold is a numerical type column.\n",
      "SellingPricePerUnit is a numerical type column.\n",
      "ShipperName is a hierarchical type column.\n",
      "ProductId is a numerical type column.\n",
      "EmployeeId is a numerical type column.\n",
      "CustomerId is a hierarchical type column.\n"
     ]
    }
   ],
   "source": [
    "for col in list(orders_tbl):\n",
    "    (\n",
    "        print(f\"{col} is a numerical type column.\")\n",
    "        if orders_tbl[col].data_type\n",
    "        in [\n",
    "            \"int\",\n",
    "            \"double\",\n",
    "            \"float\",\n",
    "            \"int[]\",\n",
    "            \"double[]\",\n",
    "        ]\n",
    "        else print(f\"{col} is a hierarchical type column.\")\n",
    "    )"
   ]
  },
  {
   "cell_type": "markdown",
   "id": "0c864c4f-e28d-4aac-bec2-6063cd4e3d85",
   "metadata": {},
   "source": [
    "### 4.2.2 Delete tables\n",
    "\n",
    "Once a table is created, we cannot re-execute the table creation command to perform updates. Instead, we should delete the table and before re-creating it.  \n",
    "\n",
    "The tables are stored as a map under the session. Therefore we can access it simply by using the table's name as the key to the map. "
   ]
  },
  {
   "cell_type": "code",
   "execution_count": 10,
   "id": "886c02c0-42df-4f06-bcba-1663efd3187c",
   "metadata": {
    "tags": []
   },
   "outputs": [],
   "source": [
    "# del session.tables[\"Orders\"]\n",
    "del session.tables[orders_tbl.name]"
   ]
  },
  {
   "cell_type": "markdown",
   "id": "2d8c3835-4bc1-4777-bb19-2dfc187470c9",
   "metadata": {},
   "source": [
    "💡Alternatively, we can restart the session and re-execute everything after."
   ]
  },
  {
   "cell_type": "markdown",
   "id": "1b0fd231-a347-4de2-ab56-b7263ab2169e",
   "metadata": {},
   "source": [
    "### 4.2.3 Table configuration"
   ]
  },
  {
   "cell_type": "markdown",
   "id": "a2d01c3c-b5de-467a-8c31-cf3b18680beb",
   "metadata": {},
   "source": [
    "When we create a table from datasource, we can tweak the table structure as necessary. For instance, we can define key columns to ensure the uniqueness of the data loaded. The key columns are indexed, allowing better search performance.  "
   ]
  },
  {
   "cell_type": "code",
   "execution_count": 11,
   "id": "5ba0ca44-e0e1-493c-b2f5-ba62cab2ee39",
   "metadata": {
    "tags": []
   },
   "outputs": [],
   "source": [
    "orders_tbl = session.read_csv(\n",
    "    \"s3://data.atoti.io/atoti-academy/data/Orders.csv\",\n",
    "    table_name=\"Orders\",\n",
    "    columns={\n",
    "        \"OrderId\": \"Order Id\",\n",
    "        \"OrderDate\": \"Order Date\",\n",
    "        \"QuantitySold\": \"Quantity Sold\",\n",
    "        \"SellingPricePerUnit\": \"Selling Price Per Unit\",\n",
    "        \"ShipperName\": \"Shipper Name\",\n",
    "        \"ProductId\": \"Product Id\",\n",
    "    },\n",
    "    keys=[\"Order Id\", \"Product Id\"],\n",
    "    data_types={\n",
    "        \"Order Id\": tt.type.STRING,\n",
    "        \"Product Id\": tt.type.STRING,\n",
    "        \"Order Date\": tt.type.LOCAL_DATE,\n",
    "    },\n",
    "    date_patterns={\"Order Date\": \"dd/M/yyyy\"},\n",
    "    default_values={\"Quantity Sold\": 0, \"Selling Price Per Unit\": 0.0},\n",
    ")"
   ]
  },
  {
   "cell_type": "markdown",
   "id": "7963a55c-b45a-4d17-91d9-16dedac8e02c",
   "metadata": {},
   "source": [
    "The example above covered some of the parameters that we commonly configure when creating Atoti table from data sources.\n",
    "\n",
    "**table_name**\n",
    "\n",
    "When reading from a file source, the table name is defaulted to name of the file without the extension. E.g. for Orders.csv, the table name will be \"Orders\" unless specified.  \n",
    "\n",
    "**columns**\n",
    "\n",
    "This parameter is only available for `read_csv` and `read_parquet`. It allows us to:\n",
    "1. Rename columns.\n",
    "2. Select only the required columns from the data source.\n",
    "\n",
    "After renaming the columns, be aware that the following parameters expect the updated names in the mapping instead of the original column names:\n",
    "* `keys`\n",
    "* `data_types`\n",
    "* `date_patterns`\n",
    "* `default_values`\n",
    "\n",
    "**data_types**\n",
    "\n",
    "We can cast the data types for the columns explicitly. The parameter expects a dictionary with the column name as key, mapped to the expected [data type](https://docs.atoti.io/latest/api/atoti.type.html#module-atoti.type). This parameter is however, not available for Parquet and Spark DataFrame. \n",
    "\n",
    "**date_patterns**\n",
    "\n",
    "Defines the date format pattern for the date column if it is not in the `yyyy-MM-dd` format. Check out [Java date patterns](https://docs.oracle.com/en/java/javase/15/docs/api/java.base/java/time/format/DateTimeFormatter.html#patterns):  \n",
    "\n",
    "<img src=\"https://data.atoti.io/atoti-academy/images/introduction/4_date_patterns.png\" />\n"
   ]
  },
  {
   "cell_type": "markdown",
   "id": "7c0617ca-5f5a-4613-9ca6-fd4db3f1723d",
   "metadata": {
    "tags": []
   },
   "source": [
    "## 4.3 Data schema \n",
    "\n",
    "Atoti implements a [snowflake schema](https://en.wikipedia.org/wiki/Snowflake_schema). This means that the schema organize data around a central fact table (we call it base table). The other dimension tables joining to the central table can be normalized, i.e. split into multiple related tables, creating a branching structure that resembles a snowflake.  \n",
    "\n",
    "<img src=\"https://data.atoti.io/atoti-academy/images/introduction/4_snowflake_schema.png\" width=\"500px\" />"
   ]
  },
  {
   "cell_type": "markdown",
   "id": "96c740c4-98e2-4195-ae6a-a27598ad2db8",
   "metadata": {},
   "source": [
    "### 4.3.1 Identify base table"
   ]
  },
  {
   "cell_type": "markdown",
   "id": "3c942ab9-7201-4227-bc2f-43af77c95955",
   "metadata": {},
   "source": [
    "The base table contains data at the lowest level of granularity, known as \"facts\" for the cube. It's normally the largest table.  \n",
    "\n",
    "💡To be able to query an item, it has to be reachable from the base table to the refenced table. Therefore, the base table has to be the most granular."
   ]
  },
  {
   "cell_type": "markdown",
   "id": "2bf4812d-8598-4c4e-8951-391c963522e4",
   "metadata": {},
   "source": [
    "### 4.3.2 Visualize table schema"
   ]
  },
  {
   "cell_type": "markdown",
   "id": "60007a50-b8ec-4f64-b178-bc3b78fe04bb",
   "metadata": {},
   "source": [
    "The table schema will show us all the tables in the session, along with their columns and their respective data types. It makes it easier for us to identify the column(s) which we want to use for the table join."
   ]
  },
  {
   "cell_type": "code",
   "execution_count": 12,
   "id": "48f4f004-0c75-42fa-8599-1732b28b5cf9",
   "metadata": {
    "tags": []
   },
   "outputs": [
    {
     "data": {
      "text/markdown": [
       "```mermaid\n",
       "erDiagram\n",
       "  \"Products\" {\n",
       "    non-null String PK \"ProductId\"\n",
       "    non-null String \"ProductName\"\n",
       "    non-null String \"ProductCategory\"\n",
       "    non-null String \"Supplier\"\n",
       "    non-null float \"PurchasingPricePerUnit\"\n",
       "  }\n",
       "  \"Orders\" {\n",
       "    non-null String PK \"Order Id\"\n",
       "    non-null LocalDate \"Order Date\"\n",
       "    non-null int \"Quantity Sold\"\n",
       "    non-null double \"Selling Price Per Unit\"\n",
       "    non-null String \"Shipper Name\"\n",
       "    non-null String PK \"Product Id\"\n",
       "  }\n",
       "```\n"
      ],
      "text/plain": [
       "erDiagram\n",
       "  \"Products\" {\n",
       "    non-null String PK \"ProductId\"\n",
       "    non-null String \"ProductName\"\n",
       "    non-null String \"ProductCategory\"\n",
       "    non-null String \"Supplier\"\n",
       "    non-null float \"PurchasingPricePerUnit\"\n",
       "  }\n",
       "  \"Orders\" {\n",
       "    non-null String PK \"Order Id\"\n",
       "    non-null LocalDate \"Order Date\"\n",
       "    non-null int \"Quantity Sold\"\n",
       "    non-null double \"Selling Price Per Unit\"\n",
       "    non-null String \"Shipper Name\"\n",
       "    non-null String PK \"Product Id\"\n",
       "  }"
      ]
     },
     "execution_count": 12,
     "metadata": {},
     "output_type": "execute_result"
    }
   ],
   "source": [
    "session.tables.schema"
   ]
  },
  {
   "cell_type": "markdown",
   "id": "7bb0a2d2-8e10-43c0-b1ae-8f0728580261",
   "metadata": {},
   "source": [
    "In this case, we can see that Product Id is common between the two tables but named differently — `Product Id` in Orders table and `ProductId` in Products table. "
   ]
  },
  {
   "cell_type": "markdown",
   "id": "39d93e04-fa31-46fe-a018-6ba0312a0092",
   "metadata": {},
   "source": [
    "### 4.3.3 Table join"
   ]
  },
  {
   "cell_type": "markdown",
   "id": "43cf528f-14c3-4ef9-852d-a4bdcfb47aa2",
   "metadata": {},
   "source": [
    "Usually, we can perform a table join without defining the columns used for it if the columns have the same name in both tables: \n",
    "\n",
    "`orders_tbl.join(product_tbl)`\n",
    "\n",
    "Atoti automatically infers the join by columns with the same name. However, because there are no common columns by name between the two tables, we will get a cartesian join between the tables. This may result in wrong results returned in queries and definitely poorer querying performance. Hence, let's define the condition of the join explicitly.  "
   ]
  },
  {
   "cell_type": "code",
   "execution_count": 13,
   "id": "1ec640b0-7873-4d70-bfb2-521db0b05a26",
   "metadata": {
    "tags": []
   },
   "outputs": [],
   "source": [
    "orders_tbl.join(product_tbl, (orders_tbl[\"Product Id\"] == product_tbl[\"ProductId\"]))"
   ]
  },
  {
   "cell_type": "markdown",
   "id": "af2956c4-857c-46ed-be0c-a364c15a7992",
   "metadata": {},
   "source": [
    "💡It is a good practice to define the condition of the join explicitly, such that any reader will know clearly which columns are they joined by.  \n",
    "\n",
    "💡We perform the join from the parent table to referenced table, i.e. `orders_tbl → product_tbl`. Similarly, the order of the condition has to be from parent table to referenced table, i.e. `orders_tbl → product_tbl`.  \n",
    "\n",
    "We can have multiple joins by surrounding each condition with a parenthesis and combine the conditions with the `&` operand:\n",
    "\n",
    "`a.join(b, (a[\"col1\"] == b[\"col1\"]) & (a[\"col2\"] == b[\"col2\"]))`"
   ]
  },
  {
   "cell_type": "markdown",
   "id": "0b1e3111-8ccd-4ca9-ad13-3afcdeac484e",
   "metadata": {},
   "source": [
    "### 📐Exercise  \n",
    "\n",
    "View how the schema changed after the last join.  "
   ]
  },
  {
   "cell_type": "markdown",
   "id": "0d59f86d-c3a0-4e5d-bf75-3db374813d4c",
   "metadata": {},
   "source": [
    "### 📖 Solution\n",
    "\n",
    "`session.tables.schema`"
   ]
  },
  {
   "cell_type": "code",
   "execution_count": 14,
   "id": "ede6473d-0f5e-4246-8bae-e53519691172",
   "metadata": {},
   "outputs": [
    {
     "data": {
      "text/markdown": [
       "```mermaid\n",
       "erDiagram\n",
       "  \"Products\" {\n",
       "    non-null String PK \"ProductId\"\n",
       "    non-null String \"ProductName\"\n",
       "    non-null String \"ProductCategory\"\n",
       "    non-null String \"Supplier\"\n",
       "    non-null float \"PurchasingPricePerUnit\"\n",
       "  }\n",
       "  \"Orders\" {\n",
       "    non-null String PK \"Order Id\"\n",
       "    non-null LocalDate \"Order Date\"\n",
       "    non-null int \"Quantity Sold\"\n",
       "    non-null double \"Selling Price Per Unit\"\n",
       "    non-null String \"Shipper Name\"\n",
       "    non-null String PK \"Product Id\"\n",
       "  }\n",
       "  \"Orders\" }o--o| \"Products\" : \"“Product Id” == ProductId\"\n",
       "```\n"
      ],
      "text/plain": [
       "erDiagram\n",
       "  \"Products\" {\n",
       "    non-null String PK \"ProductId\"\n",
       "    non-null String \"ProductName\"\n",
       "    non-null String \"ProductCategory\"\n",
       "    non-null String \"Supplier\"\n",
       "    non-null float \"PurchasingPricePerUnit\"\n",
       "  }\n",
       "  \"Orders\" {\n",
       "    non-null String PK \"Order Id\"\n",
       "    non-null LocalDate \"Order Date\"\n",
       "    non-null int \"Quantity Sold\"\n",
       "    non-null double \"Selling Price Per Unit\"\n",
       "    non-null String \"Shipper Name\"\n",
       "    non-null String PK \"Product Id\"\n",
       "  }\n",
       "  \"Orders\" }o--o| \"Products\" : \"“Product Id” == ProductId\""
      ]
     },
     "execution_count": 14,
     "metadata": {},
     "output_type": "execute_result"
    }
   ],
   "source": [
    "session.tables.schema"
   ]
  },
  {
   "cell_type": "markdown",
   "id": "f2ab8314-d53b-4a18-bbdd-d07506a05d24",
   "metadata": {
    "tags": []
   },
   "source": [
    "# 5. Load data into tables\n",
    " \n",
    "After a table is created, we can load data into the tables using the `load` function corresponding to the data source format. For instance, if the data source is a CSV file, we can use [`load_csv`](https://docs.atoti.io/latest/api/atoti.Table.load_csv.html#atoti.Table.load_csv) to upload the data.  \n",
    "\n",
    "💡 Check out the [`atoti.table` module](https://docs.atoti.io/latest/api/atoti.Table.html#atoti.Table) or press `tab` on `table.load` to see the available functions:  \n",
    "\n",
    "<img src=\"https://data.atoti.io/atoti-academy/images/introduction/5_load_functions.png\" />"
   ]
  },
  {
   "cell_type": "code",
   "execution_count": 15,
   "id": "bd6c3a1d-4b37-499b-8509-aff29a9ab9cf",
   "metadata": {
    "tags": []
   },
   "outputs": [
    {
     "data": {
      "text/html": [
       "<div>\n",
       "<style scoped>\n",
       "    .dataframe tbody tr th:only-of-type {\n",
       "        vertical-align: middle;\n",
       "    }\n",
       "\n",
       "    .dataframe tbody tr th {\n",
       "        vertical-align: top;\n",
       "    }\n",
       "\n",
       "    .dataframe thead th {\n",
       "        text-align: right;\n",
       "    }\n",
       "</style>\n",
       "<table border=\"1\" class=\"dataframe\">\n",
       "  <thead>\n",
       "    <tr style=\"text-align: right;\">\n",
       "      <th></th>\n",
       "      <th>ProductName</th>\n",
       "      <th>ProductCategory</th>\n",
       "      <th>Supplier</th>\n",
       "      <th>PurchasingPricePerUnit</th>\n",
       "    </tr>\n",
       "    <tr>\n",
       "      <th>ProductId</th>\n",
       "      <th></th>\n",
       "      <th></th>\n",
       "      <th></th>\n",
       "      <th></th>\n",
       "    </tr>\n",
       "  </thead>\n",
       "  <tbody>\n",
       "    <tr>\n",
       "      <th>539</th>\n",
       "      <td>Queso Cabrales</td>\n",
       "      <td>Dairy Products</td>\n",
       "      <td>Cooperativa de Quesos Las Cabras</td>\n",
       "      <td>11.340000</td>\n",
       "    </tr>\n",
       "    <tr>\n",
       "      <th>552</th>\n",
       "      <td>Singaporean Hokkien Fried Mee</td>\n",
       "      <td>Grains/Cereals</td>\n",
       "      <td>Leka Trading</td>\n",
       "      <td>8.060000</td>\n",
       "    </tr>\n",
       "    <tr>\n",
       "      <th>565</th>\n",
       "      <td>Mozzarella di Giovanni</td>\n",
       "      <td>Dairy Products</td>\n",
       "      <td>Formaggi Fortini s.r.l.</td>\n",
       "      <td>18.770000</td>\n",
       "    </tr>\n",
       "    <tr>\n",
       "      <th>578</th>\n",
       "      <td>Tofu</td>\n",
       "      <td>Produce</td>\n",
       "      <td>Mayumis</td>\n",
       "      <td>12.560000</td>\n",
       "    </tr>\n",
       "    <tr>\n",
       "      <th>591</th>\n",
       "      <td>Manjimup Dried Apples</td>\n",
       "      <td>Produce</td>\n",
       "      <td>Gday, Mate</td>\n",
       "      <td>30.530001</td>\n",
       "    </tr>\n",
       "  </tbody>\n",
       "</table>\n",
       "</div>"
      ],
      "text/plain": [
       "                             ProductName ProductCategory  \\\n",
       "ProductId                                                  \n",
       "539                       Queso Cabrales  Dairy Products   \n",
       "552        Singaporean Hokkien Fried Mee  Grains/Cereals   \n",
       "565               Mozzarella di Giovanni  Dairy Products   \n",
       "578                                 Tofu         Produce   \n",
       "591                Manjimup Dried Apples         Produce   \n",
       "\n",
       "                                   Supplier  PurchasingPricePerUnit  \n",
       "ProductId                                                            \n",
       "539        Cooperativa de Quesos Las Cabras               11.340000  \n",
       "552                            Leka Trading                8.060000  \n",
       "565                 Formaggi Fortini s.r.l.               18.770000  \n",
       "578                                 Mayumis               12.560000  \n",
       "591                              Gday, Mate               30.530001  "
      ]
     },
     "execution_count": 15,
     "metadata": {},
     "output_type": "execute_result"
    }
   ],
   "source": [
    "product_tbl.load(tt.CsvLoad(\"s3://data.atoti.io/atoti-academy/data/Products.csv\"))\n",
    "product_tbl.head()"
   ]
  },
  {
   "cell_type": "markdown",
   "id": "56b891ed-ccec-43de-8f59-0c8478a40d85",
   "metadata": {},
   "source": [
    "For CSV files which doesn't come with metadata information on the data type, we have to take special note on date columns. Atoti recognizes values formatted in `yyyy-MM-dd` as dates. For all other formats, we have to define the pattern with the `date_patterns` parameter as seen in the previous example in the section \"4.2.3 Table Configuration\".    \n",
    "\n",
    "💡 Read: [Atoti: Working with dates in Python](https://www.atoti.io/guides/atoti-working-with-dates-in-python/)  "
   ]
  },
  {
   "cell_type": "markdown",
   "id": "bac1109a-5cd3-4d21-a0f4-74be5be6b406",
   "metadata": {
    "tags": []
   },
   "source": [
    "Verify the shape of the table after the data loading. "
   ]
  },
  {
   "cell_type": "code",
   "execution_count": 16,
   "id": "5df8dda6-b1a9-487f-b02a-a852a959ffda",
   "metadata": {
    "tags": []
   },
   "outputs": [
    {
     "name": "stdout",
     "output_type": "stream",
     "text": [
      "Number of rows: 77, Number of columns: 5\n"
     ]
    }
   ],
   "source": [
    "print(\n",
    "    f\"Number of rows: {product_tbl.row_count}, Number of columns: {len(list(product_tbl))}\"\n",
    ")"
   ]
  },
  {
   "cell_type": "markdown",
   "id": "76391a28-58fc-448f-beb4-2c4a3dadf16f",
   "metadata": {},
   "source": [
    "# 6. Atoti Cube"
   ]
  },
  {
   "cell_type": "markdown",
   "id": "42218e81-1a0b-4355-ac62-236fc8d81693",
   "metadata": {},
   "source": [
    "## 6.1 Cube creation"
   ]
  },
  {
   "cell_type": "markdown",
   "id": "eadb6e56-f4ab-483e-8962-9d4679ff2947",
   "metadata": {},
   "source": [
    "As Atoti follows the [snowflake schema](https://en.wikipedia.org/wiki/Snowflake_schema), we will create the cube with the base table. \n",
    "\n",
    "💡We can create new tables and join them to the reference table even after the cube is created. Therefore, it is possible to start the cube with a single table and build the model incrementally afterward.  "
   ]
  },
  {
   "cell_type": "code",
   "execution_count": 17,
   "id": "dd90c614-f284-45ba-8243-d40f4819a62b",
   "metadata": {
    "tags": []
   },
   "outputs": [],
   "source": [
    "cube = session.create_cube(orders_tbl, name=\"Order Cube\")"
   ]
  },
  {
   "cell_type": "markdown",
   "id": "daab14ee-f34a-4cad-b85c-50c3272d0454",
   "metadata": {},
   "source": [
    "By default, the cube is created in `auto` mode. This means that non-numerical or key columns are created as single-level hierarchies. A `SUM` and a `MEAN` measure is automatically created for each numerical column.  \n",
    "\n",
    "Other [available modes](https://docs.atoti.io/latest/api/atoti.Session.create_cube.html#atoti.Session.create_cube) are:\n",
    "- `manual`: Only `contributors.COUNT` is created. Users have to manually create the hierarchies and measures they require.\n",
    "- `no_measures`: Similar to `auto` mode, except that measures are not created. This is useful if we have a lot of numerical columns but we do not require the sum and average metrics for all of them.  \n",
    "\n",
    "💡We can create multiple cubes per session. Just remember to give each of them a different name."
   ]
  },
  {
   "cell_type": "markdown",
   "id": "c692f403-542b-4099-9922-cc46bd6458a6",
   "metadata": {},
   "source": [
    "## 6.2 Cube attributes"
   ]
  },
  {
   "cell_type": "markdown",
   "id": "7167c06f-b60c-4d66-bcd0-a4f855e1dd21",
   "metadata": {
    "tags": []
   },
   "source": [
    "The main attributes of a cube are:  \n",
    "\n",
    "* **Dimensions / Hierarchies / Levels**: This is how the data is structured in the cube.  \n",
    "* **Measures**: They are the numberical data / metrics contained in the cube.\n",
    "\n",
    "We will look at these in more detail below. \n",
    "\n",
    "First, let's take a look at the cube, so see the dimensions, hierarchies, levels and measures."
   ]
  },
  {
   "cell_type": "code",
   "execution_count": 18,
   "id": "92381aac-bf3a-407e-bc66-2e02481499d8",
   "metadata": {
    "tags": []
   },
   "outputs": [
    {
     "data": {
      "application/json": {
       "Dimensions": {
        "Orders": {
         "Order Date": [
          "Order Date"
         ],
         "Order Id": [
          "Order Id"
         ],
         "Product Id": [
          "Product Id"
         ],
         "Shipper Name": [
          "Shipper Name"
         ]
        },
        "Products": {
         "ProductCategory": [
          "ProductCategory"
         ],
         "ProductName": [
          "ProductName"
         ],
         "Supplier": [
          "Supplier"
         ]
        }
       },
       "Measures": {
        "Quantity Sold.MEAN": {
         "formatter": "DOUBLE[#,###.00]"
        },
        "Quantity Sold.SUM": {
         "formatter": "INT[#,###]"
        },
        "Selling Price Per Unit.MEAN": {
         "formatter": "DOUBLE[#,###.00]"
        },
        "Selling Price Per Unit.SUM": {
         "formatter": "DOUBLE[#,###.00]"
        },
        "contributors.COUNT": {
         "formatter": "INT[#,###]"
        }
       }
      },
      "text/html": [
       "<ul>\n",
       "<li>Order Cube\n",
       "  <ul>\n",
       "  <li>Dimensions\n",
       "    <ul>\n",
       "    <li>Orders\n",
       "      <ul>\n",
       "      <li>Order Date\n",
       "        <ol>\n",
       "        <li>Order Date</li>\n",
       "        </ol>      </li>\n",
       "      <li>Order Id\n",
       "        <ol>\n",
       "        <li>Order Id</li>\n",
       "        </ol>      </li>\n",
       "      <li>Product Id\n",
       "        <ol>\n",
       "        <li>Product Id</li>\n",
       "        </ol>      </li>\n",
       "      <li>Shipper Name\n",
       "        <ol>\n",
       "        <li>Shipper Name</li>\n",
       "        </ol>      </li>\n",
       "      </ul>\n",
       "    </li>\n",
       "    <li>Products\n",
       "      <ul>\n",
       "      <li>ProductCategory\n",
       "        <ol>\n",
       "        <li>ProductCategory</li>\n",
       "        </ol>      </li>\n",
       "      <li>ProductName\n",
       "        <ol>\n",
       "        <li>ProductName</li>\n",
       "        </ol>      </li>\n",
       "      <li>Supplier\n",
       "        <ol>\n",
       "        <li>Supplier</li>\n",
       "        </ol>      </li>\n",
       "      </ul>\n",
       "    </li>\n",
       "    </ul>\n",
       "  </li>\n",
       "  <li>Measures\n",
       "    <ul>\n",
       "    <li>Quantity Sold.MEAN\n",
       "      <ul>\n",
       "      <li>formatter: DOUBLE[#,###.00]</li>\n",
       "      </ul>\n",
       "    </li>\n",
       "    <li>Quantity Sold.SUM\n",
       "      <ul>\n",
       "      <li>formatter: INT[#,###]</li>\n",
       "      </ul>\n",
       "    </li>\n",
       "    <li>Selling Price Per Unit.MEAN\n",
       "      <ul>\n",
       "      <li>formatter: DOUBLE[#,###.00]</li>\n",
       "      </ul>\n",
       "    </li>\n",
       "    <li>Selling Price Per Unit.SUM\n",
       "      <ul>\n",
       "      <li>formatter: DOUBLE[#,###.00]</li>\n",
       "      </ul>\n",
       "    </li>\n",
       "    <li>contributors.COUNT\n",
       "      <ul>\n",
       "      <li>formatter: INT[#,###]</li>\n",
       "      </ul>\n",
       "    </li>\n",
       "    </ul>\n",
       "  </li>\n",
       "  </ul>\n",
       "</li>\n",
       "</ul>\n"
      ],
      "text/plain": [
       "<atoti.cube.Cube at 0x12772a950>"
      ]
     },
     "execution_count": 18,
     "metadata": {
      "application/json": {
       "expanded": false,
       "root": "Order Cube"
      }
     },
     "output_type": "execute_result"
    }
   ],
   "source": [
    "cube"
   ]
  },
  {
   "cell_type": "markdown",
   "id": "4d59a2d0-16aa-4450-86f5-b406fb926c45",
   "metadata": {},
   "source": [
    "In the diagram below, you'll find an overview of the relationship between dimensions, hierarchies and levels:\n",
    "\n",
    "<img src=\"https://data.atoti.io/atoti-academy/images/introduction/6_cube_attributes.png\" width=\"800px\" />"
   ]
  },
  {
   "cell_type": "markdown",
   "id": "8e1387a5-f675-46d0-b289-1988ab3ed307",
   "metadata": {},
   "source": [
    "Understanding the hierarchies and levels is important for us to understand how data is being retrieved from the cube. Each level added to the query will help us identify the location of the value that we are targetting:  \n",
    "\n",
    "<img src=\"https://data.atoti.io/atoti-academy/images/introduction/6_location.png\" width=\"800px\" />"
   ]
  },
  {
   "cell_type": "markdown",
   "id": "4772e4d0-3789-40d7-9829-81325682370c",
   "metadata": {},
   "source": [
    "We can access the attributes individually as well. For instance, let's look at the hierarchies:"
   ]
  },
  {
   "cell_type": "code",
   "execution_count": 19,
   "id": "bc013703-88c4-4690-bd92-bf19eb0277a8",
   "metadata": {
    "tags": []
   },
   "outputs": [
    {
     "data": {
      "application/json": {
       "Quantity Sold.MEAN": {
        "formatter": "DOUBLE[#,###.00]"
       },
       "Quantity Sold.SUM": {
        "formatter": "INT[#,###]"
       },
       "Selling Price Per Unit.MEAN": {
        "formatter": "DOUBLE[#,###.00]"
       },
       "Selling Price Per Unit.SUM": {
        "formatter": "DOUBLE[#,###.00]"
       },
       "contributors.COUNT": {
        "formatter": "INT[#,###]"
       }
      },
      "text/html": [
       "<ul>\n",
       "<li>Measures\n",
       "  <ul>\n",
       "  <li>Quantity Sold.MEAN\n",
       "    <ul>\n",
       "    <li>formatter: DOUBLE[#,###.00]</li>\n",
       "    </ul>\n",
       "  </li>\n",
       "  <li>Quantity Sold.SUM\n",
       "    <ul>\n",
       "    <li>formatter: INT[#,###]</li>\n",
       "    </ul>\n",
       "  </li>\n",
       "  <li>Selling Price Per Unit.MEAN\n",
       "    <ul>\n",
       "    <li>formatter: DOUBLE[#,###.00]</li>\n",
       "    </ul>\n",
       "  </li>\n",
       "  <li>Selling Price Per Unit.SUM\n",
       "    <ul>\n",
       "    <li>formatter: DOUBLE[#,###.00]</li>\n",
       "    </ul>\n",
       "  </li>\n",
       "  <li>contributors.COUNT\n",
       "    <ul>\n",
       "    <li>formatter: INT[#,###]</li>\n",
       "    </ul>\n",
       "  </li>\n",
       "  </ul>\n",
       "</li>\n",
       "</ul>\n"
      ],
      "text/plain": [
       "{'Selling Price Per Unit.MEAN': <atoti.measure.Measure object at 0x1300f8a10>, 'contributors.COUNT': <atoti.measure.Measure object at 0x1300f9f90>, 'Quantity Sold.MEAN': <atoti.measure.Measure object at 0x1300f9e10>, 'Quantity Sold.SUM': <atoti.measure.Measure object at 0x1300fb990>, 'update.TIMESTAMP': <atoti.measure.Measure object at 0x1300fa4d0>, 'Selling Price Per Unit.SUM': <atoti.measure.Measure object at 0x130198150>}"
      ]
     },
     "execution_count": 19,
     "metadata": {
      "application/json": {
       "expanded": false,
       "root": "Measures"
      }
     },
     "output_type": "execute_result"
    }
   ],
   "source": [
    "cube.measures"
   ]
  },
  {
   "cell_type": "markdown",
   "id": "99b5dfe6-08c6-44a4-b7dd-f45b1f1c5826",
   "metadata": {},
   "source": [
    "💡 We can manipulate the cube via these attributes. To simplify coding, we will aliase these attributes with the variable h, l and m for hierarchies, levels and measures respectively.  "
   ]
  },
  {
   "cell_type": "code",
   "execution_count": 20,
   "id": "f5c2575f-e9c3-4521-9820-0bb7ae56ea69",
   "metadata": {
    "tags": []
   },
   "outputs": [],
   "source": [
    "h, l, m = cube.hierarchies, cube.levels, cube.measures"
   ]
  },
  {
   "cell_type": "markdown",
   "id": "7154dd5b-ad35-4c0b-b43a-77915a194696",
   "metadata": {},
   "source": [
    "The equivalent of `cube.measures` is now `m`:"
   ]
  },
  {
   "cell_type": "code",
   "execution_count": 21,
   "id": "937f1394-37c0-465e-a21d-f47b6a7c7a09",
   "metadata": {
    "tags": []
   },
   "outputs": [
    {
     "data": {
      "application/json": {
       "Quantity Sold.MEAN": {
        "formatter": "DOUBLE[#,###.00]"
       },
       "Quantity Sold.SUM": {
        "formatter": "INT[#,###]"
       },
       "Selling Price Per Unit.MEAN": {
        "formatter": "DOUBLE[#,###.00]"
       },
       "Selling Price Per Unit.SUM": {
        "formatter": "DOUBLE[#,###.00]"
       },
       "contributors.COUNT": {
        "formatter": "INT[#,###]"
       }
      },
      "text/html": [
       "<ul>\n",
       "<li>Measures\n",
       "  <ul>\n",
       "  <li>Quantity Sold.MEAN\n",
       "    <ul>\n",
       "    <li>formatter: DOUBLE[#,###.00]</li>\n",
       "    </ul>\n",
       "  </li>\n",
       "  <li>Quantity Sold.SUM\n",
       "    <ul>\n",
       "    <li>formatter: INT[#,###]</li>\n",
       "    </ul>\n",
       "  </li>\n",
       "  <li>Selling Price Per Unit.MEAN\n",
       "    <ul>\n",
       "    <li>formatter: DOUBLE[#,###.00]</li>\n",
       "    </ul>\n",
       "  </li>\n",
       "  <li>Selling Price Per Unit.SUM\n",
       "    <ul>\n",
       "    <li>formatter: DOUBLE[#,###.00]</li>\n",
       "    </ul>\n",
       "  </li>\n",
       "  <li>contributors.COUNT\n",
       "    <ul>\n",
       "    <li>formatter: INT[#,###]</li>\n",
       "    </ul>\n",
       "  </li>\n",
       "  </ul>\n",
       "</li>\n",
       "</ul>\n"
      ],
      "text/plain": [
       "{'Selling Price Per Unit.MEAN': <atoti.measure.Measure object at 0x1301318d0>, 'contributors.COUNT': <atoti.measure.Measure object at 0x130130410>, 'Quantity Sold.MEAN': <atoti.measure.Measure object at 0x130131990>, 'Quantity Sold.SUM': <atoti.measure.Measure object at 0x1301302d0>, 'update.TIMESTAMP': <atoti.measure.Measure object at 0x130133850>, 'Selling Price Per Unit.SUM': <atoti.measure.Measure object at 0x130133d50>}"
      ]
     },
     "execution_count": 21,
     "metadata": {
      "application/json": {
       "expanded": false,
       "root": "Measures"
      }
     },
     "output_type": "execute_result"
    }
   ],
   "source": [
    "m"
   ]
  },
  {
   "cell_type": "markdown",
   "id": "9a2c4f56-adda-49ae-acf1-3f705571a077",
   "metadata": {},
   "source": [
    "### 6.2.1 Hierarchies and levels"
   ]
  },
  {
   "cell_type": "markdown",
   "id": "417cba0d-abb2-42ae-8534-27c9ed17e97f",
   "metadata": {},
   "source": [
    "A few key points:\n",
    "\n",
    "* Each column in the data source can be treated as a level. \n",
    "* Hierarchies are logical orderings of these data elements (or levels).\n",
    "* It is possible that there is only one level in the hierarchy.  This is known as single-level hierarchy.\n",
    "* Or we might have a parent-child relationship between them. For example in the hierarchy of geographical zones, we might find one level for continents (Europe, Asia, etc.) and a child level for countries (Signapore, China, Malaysia, etc.) Hierarchies can therefore be single-level or multi-level.  \n",
    "\n",
    "We will look at these in greater detail in this section:  \n",
    "- [6.2.1.1 Create multi-level hierarchies](#6.2.1.1-Create-multi-level-hierarchies)\n",
    "- [6.2.1.2 Access levels that exist under more than one hierarchy](#6.2.1.2-Access-levels-that-exist-under-more-than-one-hierarchy)\n",
    "- [6.2.1.3 Single-level vs multi-level hierarchies](#6.2.1.3-Single-level-vs-multi-level-hierarchies)\n",
    "    - [6.2.1.3.1 Single-level hierarchies](#6.2.1.3.1-Single-level-hierarchies)\n",
    "    - [6.2.1.3.2 Multi-level hierarchies](#6.2.1.3.2-Multi-level-hierarchies)\n",
    " \n",
    "💡 By default, hierarchies automatically created in Atoti are single-level."
   ]
  },
  {
   "cell_type": "code",
   "execution_count": 22,
   "id": "72df5a65-7ad9-4813-8713-fde7ca98a841",
   "metadata": {
    "tags": []
   },
   "outputs": [
    {
     "data": {
      "application/json": {
       "Orders": {
        "Order Date": [
         "Order Date"
        ],
        "Order Id": [
         "Order Id"
        ],
        "Product Id": [
         "Product Id"
        ],
        "Shipper Name": [
         "Shipper Name"
        ]
       },
       "Products": {
        "ProductCategory": [
         "ProductCategory"
        ],
        "ProductName": [
         "ProductName"
        ],
        "Supplier": [
         "Supplier"
        ]
       }
      },
      "text/html": [
       "<ul>\n",
       "<li>Dimensions\n",
       "  <ul>\n",
       "  <li>Orders\n",
       "    <ul>\n",
       "    <li>Order Date\n",
       "      <ol>\n",
       "      <li>Order Date</li>\n",
       "      </ol>    </li>\n",
       "    <li>Order Id\n",
       "      <ol>\n",
       "      <li>Order Id</li>\n",
       "      </ol>    </li>\n",
       "    <li>Product Id\n",
       "      <ol>\n",
       "      <li>Product Id</li>\n",
       "      </ol>    </li>\n",
       "    <li>Shipper Name\n",
       "      <ol>\n",
       "      <li>Shipper Name</li>\n",
       "      </ol>    </li>\n",
       "    </ul>\n",
       "  </li>\n",
       "  <li>Products\n",
       "    <ul>\n",
       "    <li>ProductCategory\n",
       "      <ol>\n",
       "      <li>ProductCategory</li>\n",
       "      </ol>    </li>\n",
       "    <li>ProductName\n",
       "      <ol>\n",
       "      <li>ProductName</li>\n",
       "      </ol>    </li>\n",
       "    <li>Supplier\n",
       "      <ol>\n",
       "      <li>Supplier</li>\n",
       "      </ol>    </li>\n",
       "    </ul>\n",
       "  </li>\n",
       "  </ul>\n",
       "</li>\n",
       "</ul>\n"
      ],
      "text/plain": [
       "{('Orders', 'Order Date'): <atoti.hierarchy.Hierarchy object at 0x1270eb850>, ('Orders', 'Product Id'): <atoti.hierarchy.Hierarchy object at 0x1301a7910>, ('Orders', 'Order Id'): <atoti.hierarchy.Hierarchy object at 0x1301a5cd0>, ('Orders', 'Shipper Name'): <atoti.hierarchy.Hierarchy object at 0x13016b090>, ('Products', 'Supplier'): <atoti.hierarchy.Hierarchy object at 0x130169c50>, ('Products', 'ProductName'): <atoti.hierarchy.Hierarchy object at 0x130169f10>, ('Products', 'ProductCategory'): <atoti.hierarchy.Hierarchy object at 0x13016b190>}"
      ]
     },
     "execution_count": 22,
     "metadata": {
      "application/json": {
       "expanded": true,
       "root": "Dimensions"
      }
     },
     "output_type": "execute_result"
    }
   ],
   "source": [
    "# we can use either `cube.hierarchies` or its alias `h` to view the hierarchies\n",
    "h"
   ]
  },
  {
   "cell_type": "markdown",
   "id": "bc4f756e-6180-4e06-834c-d8f83d5d94d0",
   "metadata": {},
   "source": [
    "A few key points:\n",
    "\n",
    "* The highest level of the tree consists of dimensions, which usually are the table names.  \n",
    "* The second level of the tree containing a list is the hierarchies.  \n",
    "* The list under the hierarchy contains the levels under that hierarchy. As we can see, the hierarchies contain 1 level each, indexed by 0."
   ]
  },
  {
   "cell_type": "markdown",
   "id": "0cd7a758-0689-4c8c-a49f-5075fada5c5a",
   "metadata": {},
   "source": [
    "Since `cube.hierarchies` is a list of hierarchy, we can access a specific hierarchy using its name as a key to the list."
   ]
  },
  {
   "cell_type": "code",
   "execution_count": 23,
   "id": "ce3afb1e-b5fe-41d9-b604-e54ffad58627",
   "metadata": {
    "tags": []
   },
   "outputs": [
    {
     "data": {
      "application/json": [
       "Order Date"
      ],
      "text/html": [
       "<ul>\n",
       "<li>Order Date\n",
       "  <ol>\n",
       "  <li>Order Date</li>\n",
       "  </ol></li>\n",
       "</ul>\n"
      ],
      "text/plain": [
       "<atoti.hierarchy.Hierarchy at 0x1301d3190>"
      ]
     },
     "execution_count": 23,
     "metadata": {
      "application/json": {
       "expanded": false,
       "root": "Order Date"
      }
     },
     "output_type": "execute_result"
    }
   ],
   "source": [
    "h[\"Order Date\"]"
   ]
  },
  {
   "cell_type": "markdown",
   "id": "2954f2f1-0e47-4b1e-9a05-0c65b379efbd",
   "metadata": {},
   "source": [
    "Similarly, we can view the levels either using `cube.levels` or its alias `l`:"
   ]
  },
  {
   "cell_type": "code",
   "execution_count": 24,
   "id": "b07a4f75-7fa8-45cf-b4f7-5d964028c8cf",
   "metadata": {
    "tags": []
   },
   "outputs": [
    {
     "data": {
      "application/json": {
       "Order Date (Orders/Order Date)": {
        "data type": "LocalDate",
        "dimension": "Orders",
        "hierarchy": "Order Date",
        "order": "NaturalOrder"
       },
       "Order Id (Orders/Order Id)": {
        "data type": "String",
        "dimension": "Orders",
        "hierarchy": "Order Id",
        "order": "NaturalOrder"
       },
       "Product Id (Orders/Product Id)": {
        "data type": "String",
        "dimension": "Orders",
        "hierarchy": "Product Id",
        "order": "NaturalOrder"
       },
       "ProductCategory (Products/ProductCategory)": {
        "data type": "String",
        "dimension": "Products",
        "hierarchy": "ProductCategory",
        "order": "NaturalOrder"
       },
       "ProductName (Products/ProductName)": {
        "data type": "String",
        "dimension": "Products",
        "hierarchy": "ProductName",
        "order": "NaturalOrder"
       },
       "Shipper Name (Orders/Shipper Name)": {
        "data type": "String",
        "dimension": "Orders",
        "hierarchy": "Shipper Name",
        "order": "NaturalOrder"
       },
       "Supplier (Products/Supplier)": {
        "data type": "String",
        "dimension": "Products",
        "hierarchy": "Supplier",
        "order": "NaturalOrder"
       }
      },
      "text/html": [
       "<ul>\n",
       "<li>Levels\n",
       "  <ul>\n",
       "  <li>Order Date (Orders/Order Date)\n",
       "    <ul>\n",
       "    <li>dimension: Orders</li>\n",
       "    <li>hierarchy: Order Date</li>\n",
       "    <li>data type: LocalDate</li>\n",
       "    <li>order: NaturalOrder</li>\n",
       "    </ul>\n",
       "  </li>\n",
       "  <li>Order Id (Orders/Order Id)\n",
       "    <ul>\n",
       "    <li>dimension: Orders</li>\n",
       "    <li>hierarchy: Order Id</li>\n",
       "    <li>data type: String</li>\n",
       "    <li>order: NaturalOrder</li>\n",
       "    </ul>\n",
       "  </li>\n",
       "  <li>Product Id (Orders/Product Id)\n",
       "    <ul>\n",
       "    <li>dimension: Orders</li>\n",
       "    <li>hierarchy: Product Id</li>\n",
       "    <li>data type: String</li>\n",
       "    <li>order: NaturalOrder</li>\n",
       "    </ul>\n",
       "  </li>\n",
       "  <li>ProductCategory (Products/ProductCategory)\n",
       "    <ul>\n",
       "    <li>dimension: Products</li>\n",
       "    <li>hierarchy: ProductCategory</li>\n",
       "    <li>data type: String</li>\n",
       "    <li>order: NaturalOrder</li>\n",
       "    </ul>\n",
       "  </li>\n",
       "  <li>ProductName (Products/ProductName)\n",
       "    <ul>\n",
       "    <li>dimension: Products</li>\n",
       "    <li>hierarchy: ProductName</li>\n",
       "    <li>data type: String</li>\n",
       "    <li>order: NaturalOrder</li>\n",
       "    </ul>\n",
       "  </li>\n",
       "  <li>Shipper Name (Orders/Shipper Name)\n",
       "    <ul>\n",
       "    <li>dimension: Orders</li>\n",
       "    <li>hierarchy: Shipper Name</li>\n",
       "    <li>data type: String</li>\n",
       "    <li>order: NaturalOrder</li>\n",
       "    </ul>\n",
       "  </li>\n",
       "  <li>Supplier (Products/Supplier)\n",
       "    <ul>\n",
       "    <li>dimension: Products</li>\n",
       "    <li>hierarchy: Supplier</li>\n",
       "    <li>data type: String</li>\n",
       "    <li>order: NaturalOrder</li>\n",
       "    </ul>\n",
       "  </li>\n",
       "  </ul>\n",
       "</li>\n",
       "</ul>\n"
      ],
      "text/plain": [
       "{('Orders', 'Order Date', 'Order Date'): <atoti.level.Level object at 0x126604910>, ('Orders', 'Product Id', 'Product Id'): <atoti.level.Level object at 0x13012f250>, ('Orders', 'Order Id', 'Order Id'): <atoti.level.Level object at 0x130119010>, ('Orders', 'Shipper Name', 'Shipper Name'): <atoti.level.Level object at 0x1301d3750>, ('Products', 'Supplier', 'Supplier'): <atoti.level.Level object at 0x1301d0310>, ('Products', 'ProductName', 'ProductName'): <atoti.level.Level object at 0x1301d3310>, ('Products', 'ProductCategory', 'ProductCategory'): <atoti.level.Level object at 0x1301d1510>}"
      ]
     },
     "execution_count": 24,
     "metadata": {
      "application/json": {
       "expanded": true,
       "root": "Levels"
      }
     },
     "output_type": "execute_result"
    }
   ],
   "source": [
    "l"
   ]
  },
  {
   "cell_type": "markdown",
   "id": "981c1739-3559-416d-ab0f-5218b0b7f627",
   "metadata": {},
   "source": [
    "#### 6.2.1.1 Create multi-level hierarchies"
   ]
  },
  {
   "cell_type": "markdown",
   "id": "fcb458d7-5293-44e5-bc41-a3eda8f661c5",
   "metadata": {},
   "source": [
    "The advantages of having a multi-level hierarchy is that we will be able to control the way the levels are grouped and structured. This will in turn, allow us to determine how users navigate through the data in the cube.  \n",
    "\n",
    "⚠️ But, we have to be careful with multi-level hierarchies because we might end up with more than one level with the same name. This means that we have to determine the exact path of the location. We will come back to this in the next section.  \n",
    "\n",
    "<hr/>"
   ]
  },
  {
   "cell_type": "markdown",
   "id": "6621decd-3922-4928-9f01-515386f7108c",
   "metadata": {},
   "source": [
    "##### 6.2.1.1.1 List levels under hierarchy manually"
   ]
  },
  {
   "cell_type": "markdown",
   "id": "88be751d-e338-417e-90f1-fb94c9de8c75",
   "metadata": {},
   "source": [
    "`cube.hierarchies` is a list. We can create new hierarchy simply by adding a new key to the list, i.e. `Product Tree` and assigning it a list of levels in the correct order:"
   ]
  },
  {
   "cell_type": "code",
   "execution_count": 25,
   "id": "153c984f-0a49-4856-a08f-761e0999074d",
   "metadata": {
    "tags": []
   },
   "outputs": [],
   "source": [
    "cube.hierarchies[\"Product Tree\"] = [\n",
    "    product_tbl[\"ProductCategory\"],\n",
    "    product_tbl[\"ProductName\"],\n",
    "]"
   ]
  },
  {
   "cell_type": "markdown",
   "id": "87fa31db-8f48-46b1-8dbc-298b1cb49e5a",
   "metadata": {},
   "source": [
    "💡 The below snippet will give the same result as the above snippet:  \n",
    "\n",
    "* `cube.hierarchies[\"Product Tree\"] = [cube.levels[\"ProductCategory\"], cube.levels[\"ProductName\"]]`  \n",
    "\n",
    "and so will the following snippet which uses the alias:  \n",
    "\n",
    "* `h[\"Product Tree\"] = [l[\"ProductCategory\"], l[\"ProductName\"]]`  \n",
    "\n",
    "\n",
    "We can build multi-level hierarchies either by referring to the table column or using a level in the cube."
   ]
  },
  {
   "cell_type": "markdown",
   "id": "9669b843-74c8-4d34-b4fd-2f21f243de28",
   "metadata": {},
   "source": [
    "##### 6.2.1.1.2 Create date bucketing hierarchy with function"
   ]
  },
  {
   "cell_type": "markdown",
   "id": "d99e3616-f338-475c-9e47-0d399918ee34",
   "metadata": {},
   "source": [
    "If we have the date value broken into different columns containing the data components such as `Year`, `Month` and `Day`, we can create multilevel hierarchy date buckets using the method listed in section 6.2.1.1.1. However, a quicker way is to use the [`create_date_hierarchy`](https://docs.atoti.io/latest/api/atoti.Cube.create_date_hierarchy.html#atoti.Cube.create_date_hierarchy) function that allow us to split a date column into different date components.  "
   ]
  },
  {
   "cell_type": "code",
   "execution_count": 26,
   "id": "879e3c23-9d0d-4b82-b8ea-cf7e67c25029",
   "metadata": {
    "tags": []
   },
   "outputs": [],
   "source": [
    "cube.create_date_hierarchy(\n",
    "    \"Date Hierarchy\",\n",
    "    column=orders_tbl[\"Order Date\"],\n",
    "    levels={\"Year\": \"yyyy\", \"Month\": \"MM\"},\n",
    ")\n",
    "h[\"Date Hierarchy\"] = {\n",
    "    **h[\"Date Hierarchy\"],\n",
    "    \"Order Date\": orders_tbl[\"Order Date\"],\n",
    "}"
   ]
  },
  {
   "cell_type": "markdown",
   "id": "5a912811-92b1-4e5b-82da-7bbdfdbb2e39",
   "metadata": {},
   "source": [
    "In the above example, we created another `Order Date` level that contains the same value as `Order Date` column, instead of creating a `Day` level that contains the day value. We will use the two `Order Date` levels to demonstrate how the same data under different hierarchies may have different behaviour during aggregation."
   ]
  },
  {
   "cell_type": "code",
   "execution_count": 27,
   "id": "d1300b71-d16c-4380-8f96-4d0b569d61d4",
   "metadata": {
    "atoti": {
     "height": 288,
     "widget": {
      "columnWidths": {
       "[Measures].[Quantity Sold.SUM]": 170,
       "[Measures].[Selling Price Per Unit.SUM]": 181
      },
      "mapping": {
       "columns": [
        "ALL_MEASURES"
       ],
       "measures": [
        "[Measures].[Selling Price Per Unit.SUM]",
        "[Measures].[Quantity Sold.SUM]"
       ],
       "rows": [
        "[Orders].[Date Hierarchy].[Month] => [Orders].[Date Hierarchy].[Order Date]"
       ]
      },
      "name": "Date bucketing",
      "query": {
       "mdx": "SELECT NON EMPTY Hierarchize(Union(Descendants({[Orders].[Date Hierarchy].[AllMember]}, 2, SELF_AND_BEFORE), Descendants({[Orders].[Date Hierarchy].[AllMember].[2019].[02]}, [Orders].[Date Hierarchy].[Order Date]))) ON ROWS, NON EMPTY {[Measures].[Selling Price Per Unit.SUM], [Measures].[Quantity Sold.SUM]} ON COLUMNS FROM [Order Cube] CELL PROPERTIES VALUE, FORMATTED_VALUE, BACK_COLOR, FORE_COLOR, FONT_FLAGS",
       "updateMode": "once"
      },
      "serverKey": "default",
      "widgetKey": "pivot-table"
     }
    },
    "tags": []
   },
   "outputs": [
    {
     "data": {
      "application/vnd.atoti.widget.v0+json": {
       "sessionId": "1747352006_370587",
       "sessionUrl": "http://localhost:9092",
       "widgetCreationCode": "session.widget"
      },
      "text/html": [
       "<img height=\"280\" width=\"1056\" src=\"data:image/png;base64,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\" />"
      ],
      "text/plain": [
       "Open the notebook in JupyterLab with the Atoti JupyterLab extension enabled to build this widget."
      ]
     },
     "metadata": {},
     "output_type": "display_data"
    }
   ],
   "source": [
    "session.widget"
   ]
  },
  {
   "cell_type": "markdown",
   "id": "81c77548-a512-4788-914b-342ad0bd4fc2",
   "metadata": {},
   "source": [
    "#### 📐Exercise  \n",
    "\n",
    "Review the hierarchies again."
   ]
  },
  {
   "cell_type": "markdown",
   "id": "ef3f69db-2f11-4177-a967-cce15f77f423",
   "metadata": {
    "tags": []
   },
   "source": [
    "#### 📖 Solution  \n",
    "\n",
    "`cube.hierarchies` or `h`."
   ]
  },
  {
   "cell_type": "code",
   "execution_count": 28,
   "id": "7ddf236d-f86b-4f28-aa04-44da1043384b",
   "metadata": {},
   "outputs": [
    {
     "data": {
      "application/json": {
       "Orders": {
        "Date Hierarchy": [
         "Year",
         "Month",
         "Order Date"
        ],
        "Order Date": [
         "Order Date"
        ],
        "Order Id": [
         "Order Id"
        ],
        "Product Id": [
         "Product Id"
        ],
        "Shipper Name": [
         "Shipper Name"
        ]
       },
       "Products": {
        "Product Tree": [
         "ProductCategory",
         "ProductName"
        ],
        "ProductCategory": [
         "ProductCategory"
        ],
        "ProductName": [
         "ProductName"
        ],
        "Supplier": [
         "Supplier"
        ]
       }
      },
      "text/html": [
       "<ul>\n",
       "<li>Dimensions\n",
       "  <ul>\n",
       "  <li>Orders\n",
       "    <ul>\n",
       "    <li>Date Hierarchy\n",
       "      <ol>\n",
       "      <li>Year</li>\n",
       "      <li>Month</li>\n",
       "      <li>Order Date</li>\n",
       "      </ol>    </li>\n",
       "    <li>Order Date\n",
       "      <ol>\n",
       "      <li>Order Date</li>\n",
       "      </ol>    </li>\n",
       "    <li>Order Id\n",
       "      <ol>\n",
       "      <li>Order Id</li>\n",
       "      </ol>    </li>\n",
       "    <li>Product Id\n",
       "      <ol>\n",
       "      <li>Product Id</li>\n",
       "      </ol>    </li>\n",
       "    <li>Shipper Name\n",
       "      <ol>\n",
       "      <li>Shipper Name</li>\n",
       "      </ol>    </li>\n",
       "    </ul>\n",
       "  </li>\n",
       "  <li>Products\n",
       "    <ul>\n",
       "    <li>Product Tree\n",
       "      <ol>\n",
       "      <li>ProductCategory</li>\n",
       "      <li>ProductName</li>\n",
       "      </ol>    </li>\n",
       "    <li>ProductCategory\n",
       "      <ol>\n",
       "      <li>ProductCategory</li>\n",
       "      </ol>    </li>\n",
       "    <li>ProductName\n",
       "      <ol>\n",
       "      <li>ProductName</li>\n",
       "      </ol>    </li>\n",
       "    <li>Supplier\n",
       "      <ol>\n",
       "      <li>Supplier</li>\n",
       "      </ol>    </li>\n",
       "    </ul>\n",
       "  </li>\n",
       "  </ul>\n",
       "</li>\n",
       "</ul>\n"
      ],
      "text/plain": [
       "{('Orders', 'Order Date'): <atoti.hierarchy.Hierarchy object at 0x13017aed0>, ('Orders', 'Product Id'): <atoti.hierarchy.Hierarchy object at 0x1300db310>, ('Orders', 'Order Id'): <atoti.hierarchy.Hierarchy object at 0x127249b50>, ('Orders', 'Shipper Name'): <atoti.hierarchy.Hierarchy object at 0x13012dc90>, ('Orders', 'Date Hierarchy'): <atoti.hierarchy.Hierarchy object at 0x13012db10>, ('Products', 'Supplier'): <atoti.hierarchy.Hierarchy object at 0x13012fbd0>, ('Products', 'ProductName'): <atoti.hierarchy.Hierarchy object at 0x13012d610>, ('Products', 'ProductCategory'): <atoti.hierarchy.Hierarchy object at 0x13012ffd0>, ('Products', 'Product Tree'): <atoti.hierarchy.Hierarchy object at 0x13012f450>}"
      ]
     },
     "execution_count": 28,
     "metadata": {
      "application/json": {
       "expanded": true,
       "root": "Dimensions"
      }
     },
     "output_type": "execute_result"
    }
   ],
   "source": [
    "h"
   ]
  },
  {
   "cell_type": "markdown",
   "id": "025435a9-5d1d-45b1-b20b-e03bfd4d161f",
   "metadata": {
    "tags": []
   },
   "source": [
    "We can see from the tree above, we now have 2 levels with the same name `ProductName` and also another 2 levels with the name `Order Date`."
   ]
  },
  {
   "cell_type": "markdown",
   "id": "afe328f5-88ed-4c64-b6ef-129d0bc3df3b",
   "metadata": {},
   "source": [
    "#### 6.2.1.2 Access levels that exist under more than one hierarchy"
   ]
  },
  {
   "cell_type": "markdown",
   "id": "87498297-9bd8-4035-a7bf-e8e5db25b0d1",
   "metadata": {},
   "source": [
    "When we create a multi-level hierarchy using a column that has an existing level, there are now levels with the same name but under different hierarchies. Therefore, we cannot identify the level using its name as a key."
   ]
  },
  {
   "cell_type": "code",
   "execution_count": 29,
   "id": "2f8c9c3b-c276-4207-ae78-154300510bc1",
   "metadata": {
    "tags": []
   },
   "outputs": [
    {
     "ename": "ValueError",
     "evalue": "Disambiguate `ProductName` to narrow it down to one of [('Products', 'ProductName', 'ProductName'), ('Products', 'Product Tree', 'ProductName')].",
     "output_type": "error",
     "traceback": [
      "\u001b[0;31m---------------------------------------------------------------------------\u001b[0m",
      "\u001b[0;31mValueError\u001b[0m                                Traceback (most recent call last)",
      "Cell \u001b[0;32mIn[29], line 1\u001b[0m\n\u001b[0;32m----> 1\u001b[0m \u001b[43ml\u001b[49m\u001b[43m[\u001b[49m\u001b[38;5;124;43m\"\u001b[39;49m\u001b[38;5;124;43mProductName\u001b[39;49m\u001b[38;5;124;43m\"\u001b[39;49m\u001b[43m]\u001b[49m\n",
      "File \u001b[0;32m~/Desktop/atoti/.venv/lib/python3.11/site-packages/pydantic/_internal/_validate_call.py:39\u001b[0m, in \u001b[0;36mupdate_wrapper_attributes.<locals>.wrapper_function\u001b[0;34m(*args, **kwargs)\u001b[0m\n\u001b[1;32m     37\u001b[0m \u001b[38;5;129m@functools\u001b[39m\u001b[38;5;241m.\u001b[39mwraps(wrapped)\n\u001b[1;32m     38\u001b[0m \u001b[38;5;28;01mdef\u001b[39;00m\u001b[38;5;250m \u001b[39m\u001b[38;5;21mwrapper_function\u001b[39m(\u001b[38;5;241m*\u001b[39margs, \u001b[38;5;241m*\u001b[39m\u001b[38;5;241m*\u001b[39mkwargs):\n\u001b[0;32m---> 39\u001b[0m     \u001b[38;5;28;01mreturn\u001b[39;00m \u001b[43mwrapper\u001b[49m\u001b[43m(\u001b[49m\u001b[38;5;241;43m*\u001b[39;49m\u001b[43margs\u001b[49m\u001b[43m,\u001b[49m\u001b[43m \u001b[49m\u001b[38;5;241;43m*\u001b[39;49m\u001b[38;5;241;43m*\u001b[39;49m\u001b[43mkwargs\u001b[49m\u001b[43m)\u001b[49m\n",
      "File \u001b[0;32m~/Desktop/atoti/.venv/lib/python3.11/site-packages/pydantic/_internal/_validate_call.py:136\u001b[0m, in \u001b[0;36mValidateCallWrapper.__call__\u001b[0;34m(self, *args, **kwargs)\u001b[0m\n\u001b[1;32m    133\u001b[0m \u001b[38;5;28;01mif\u001b[39;00m \u001b[38;5;129;01mnot\u001b[39;00m \u001b[38;5;28mself\u001b[39m\u001b[38;5;241m.\u001b[39m__pydantic_complete__:\n\u001b[1;32m    134\u001b[0m     \u001b[38;5;28mself\u001b[39m\u001b[38;5;241m.\u001b[39m_create_validators()\n\u001b[0;32m--> 136\u001b[0m res \u001b[38;5;241m=\u001b[39m \u001b[38;5;28mself\u001b[39m\u001b[38;5;241m.\u001b[39m__pydantic_validator__\u001b[38;5;241m.\u001b[39mvalidate_python(pydantic_core\u001b[38;5;241m.\u001b[39mArgsKwargs(args, kwargs))\n\u001b[1;32m    137\u001b[0m \u001b[38;5;28;01mif\u001b[39;00m \u001b[38;5;28mself\u001b[39m\u001b[38;5;241m.\u001b[39m__return_pydantic_validator__:\n\u001b[1;32m    138\u001b[0m     \u001b[38;5;28;01mreturn\u001b[39;00m \u001b[38;5;28mself\u001b[39m\u001b[38;5;241m.\u001b[39m__return_pydantic_validator__(res)\n",
      "File \u001b[0;32m~/Desktop/atoti/.venv/lib/python3.11/site-packages/atoti/_collections/delegating_key_disambiguating_mapping.py:78\u001b[0m, in \u001b[0;36mDelegatingKeyDisambiguatingMapping.__getitem__\u001b[0;34m(self, key)\u001b[0m\n\u001b[1;32m     76\u001b[0m     \u001b[38;5;28;01mreturn\u001b[39;00m \u001b[38;5;28mnext\u001b[39m(\u001b[38;5;28miter\u001b[39m(delegate\u001b[38;5;241m.\u001b[39mvalues()))\n\u001b[1;32m     77\u001b[0m \u001b[38;5;28;01mcase\u001b[39;00m\u001b[38;5;250m \u001b[39m\u001b[38;5;28;01m_\u001b[39;00m:\n\u001b[0;32m---> 78\u001b[0m     \u001b[38;5;28;01mraise\u001b[39;00m \u001b[38;5;167;01mValueError\u001b[39;00m(\n\u001b[1;32m     79\u001b[0m         \u001b[38;5;124mf\u001b[39m\u001b[38;5;124m\"\u001b[39m\u001b[38;5;124mDisambiguate `\u001b[39m\u001b[38;5;132;01m{\u001b[39;00mkey\u001b[38;5;132;01m}\u001b[39;00m\u001b[38;5;124m` to narrow it down to one of \u001b[39m\u001b[38;5;132;01m{\u001b[39;00m\u001b[38;5;28mlist\u001b[39m(delegate)\u001b[38;5;132;01m}\u001b[39;00m\u001b[38;5;124m.\u001b[39m\u001b[38;5;124m\"\u001b[39m,\n\u001b[1;32m     80\u001b[0m     )\n",
      "\u001b[0;31mValueError\u001b[0m: Disambiguate `ProductName` to narrow it down to one of [('Products', 'ProductName', 'ProductName'), ('Products', 'Product Tree', 'ProductName')]."
     ]
    }
   ],
   "source": [
    "l[\"ProductName\"]"
   ]
  },
  {
   "cell_type": "markdown",
   "id": "a909d43a-22d0-4961-9708-039132b9b6b6",
   "metadata": {
    "tags": []
   },
   "source": [
    "Although the two levels of `ProductName` originated from the same data column, we have go through different hierarchy (sometimes different dimension) to reach each of them. The application will not know from which hierarchy it should access the level from.  \n",
    "\n",
    "<img src=\"https://data.atoti.io/atoti-academy/images/introduction/6_locate_level.png\" width=\"800px\" />\n",
    "\n",
    "As seen in the diagram above, to help us identify the exact level that we are targeting, we should indicate the path to the level as a tuple that comprises of __`(dimension, Hierarchy, level)`__."
   ]
  },
  {
   "cell_type": "code",
   "execution_count": null,
   "id": "2f3df171-cc0b-48b7-94df-4bd4da058d7e",
   "metadata": {
    "tags": []
   },
   "outputs": [],
   "source": [
    "# ProductName under the multi-level hierarchy that we just created\n",
    "l[(\"Products\", \"Product Tree\", \"ProductName\")]"
   ]
  },
  {
   "cell_type": "markdown",
   "id": "162433be-7a64-4bfd-850e-4b01ed59fa8a",
   "metadata": {},
   "source": [
    "We will see in Section 6.2.2 later on, how understanding the hierarchies and levels will help us in crafting our measure definitions.  "
   ]
  },
  {
   "cell_type": "markdown",
   "id": "45005377-6194-4f98-8b4c-ee3ecc51b207",
   "metadata": {},
   "source": [
    "#### 📐Exercise  \n",
    "\n",
    "Try accessing the other level named `ProductName` under (`Products`, `ProductName`)."
   ]
  },
  {
   "cell_type": "markdown",
   "id": "aa20261e-829f-4543-9545-076fd43f3d31",
   "metadata": {},
   "source": [
    "#### 📖 Solution\n",
    "\n",
    "`cube.levels[(\"Products\", \"ProductName\", \"ProductName\")]`\n",
    "\n",
    "or \n",
    "\n",
    "`l[(\"Products\", \"ProductName\", \"ProductName\")]`"
   ]
  },
  {
   "cell_type": "code",
   "execution_count": null,
   "id": "ee00d34f-1753-4fd5-b28b-f34135c7c2c5",
   "metadata": {},
   "outputs": [],
   "source": [
    "l[(\"Products\", \"ProductName\", \"ProductName\")]"
   ]
  },
  {
   "cell_type": "markdown",
   "id": "6bd66eff-deec-4dda-be40-f0a4cecd5edb",
   "metadata": {
    "tags": []
   },
   "source": [
    "#### 6.2.1.3 Single-level vs multi-level hierarchies\n",
    "\n",
    "To understand the difference between the two, we are going to jump ahead to visualization to explore the data.  "
   ]
  },
  {
   "cell_type": "markdown",
   "id": "6379c268-15c5-4e11-a65f-ef5efa662100",
   "metadata": {},
   "source": [
    "##### 6.2.1.3.1 Single-level hierarchies  \n",
    "\n",
    "Let's looks at the data with single-level hierarchies first.  "
   ]
  },
  {
   "cell_type": "code",
   "execution_count": null,
   "id": "3792ce21-37be-4e71-b23a-8a5f7b845fb4",
   "metadata": {
    "atoti": {
     "widget": {
      "columnWidths": {
       "[Measures].[contributors.COUNT]": 140,
       "[Products].[Product Tree].[ProductCategory]": 122,
       "[Products].[ProductName].[ProductName]": 209
      },
      "mapping": {
       "columns": [
        "ALL_MEASURES"
       ],
       "measures": [
        "[Measures].[contributors.COUNT]"
       ],
       "rows": [
        "[Products].[Product Tree].[ProductCategory]",
        "[Products].[ProductName].[ProductName]"
       ]
      },
      "query": {
       "mdx": "SELECT NON EMPTY {[Measures].[contributors.COUNT]} ON COLUMNS, NON EMPTY Crossjoin(Hierarchize(Descendants({[Products].[Product Tree].[ALL].[AllMember]}, 1, SELF_AND_BEFORE)), Hierarchize(Descendants({[Products].[ProductName].[ALL].[AllMember]}, 1, SELF_AND_BEFORE))) ON ROWS FROM [Order Cube] CELL PROPERTIES VALUE, FORMATTED_VALUE, BACK_COLOR, FORE_COLOR, FONT_FLAGS",
       "updateMode": "once"
      },
      "serverKey": "default",
      "widgetKey": "pivot-table"
     }
    },
    "tags": []
   },
   "outputs": [],
   "source": [
    "session.widget"
   ]
  },
  {
   "cell_type": "markdown",
   "id": "46e358b4-7077-458f-89d7-1394f2305355",
   "metadata": {},
   "source": [
    "With single-level hierarchies, we have to add each required levels individually. This gives users the flexibility in the ordering of the levels they want to see. We can easily switch the query order from `ProductName`→`ProductCategory` to the reverse `ProductCategory`→`ProductName` using the Atoti JupyterLab extension on the right:  \n",
    "\n",
    "<img src=\"https://data.atoti.io/atoti-academy/images/introduction/6_Atoti_extension.png\" />"
   ]
  },
  {
   "cell_type": "markdown",
   "id": "6fc67351-1db3-437d-b596-5c578da9e58d",
   "metadata": {},
   "source": [
    "💡`contributors.COUNT` returns the number of underlying facts (or rows of data) contributing to the corresponding level. "
   ]
  },
  {
   "cell_type": "markdown",
   "id": "3499c662-98cc-47d8-b7c7-b707d237370b",
   "metadata": {},
   "source": [
    "##### 6.2.1.3.2 Multi-level hierarchies\n",
    "\n",
    "In the below table, we added the hierarchy `Product Tree` to the table. The top displayed level is `ProductCategory` and it allows us to drill-down to the `ProductName` level as per the order we defined in our list above. Users cannot insert any levels in between the levels we have defined."
   ]
  },
  {
   "cell_type": "code",
   "execution_count": null,
   "id": "2a815328-4772-44cc-90e8-905ee64eb134",
   "metadata": {
    "atoti": {
     "height": 318,
     "widget": {
      "columnWidths": {
       "[Measures].[contributors.COUNT]": 131,
       "[Products].[Product Tree].[ProductName]": 194
      },
      "mapping": {
       "columns": [
        "ALL_MEASURES"
       ],
       "measures": [
        "[Measures].[contributors.COUNT]"
       ],
       "rows": [
        "[Products].[Product Tree].[ProductCategory]"
       ]
      },
      "name": "Multi-level hierarchies",
      "query": {
       "mdx": "SELECT NON EMPTY {[Measures].[contributors.COUNT]} ON COLUMNS, NON EMPTY Hierarchize(Descendants({[Products].[Product Tree].[ALL].[AllMember]}, 1, SELF_AND_BEFORE)) ON ROWS FROM [Order Cube] CELL PROPERTIES VALUE, FORMATTED_VALUE, BACK_COLOR, FORE_COLOR, FONT_FLAGS",
       "updateMode": "once"
      },
      "serverKey": "default",
      "widgetKey": "pivot-table"
     }
    },
    "tags": []
   },
   "outputs": [],
   "source": [
    "session.widget"
   ]
  },
  {
   "cell_type": "markdown",
   "id": "6b2a2c56-5239-48f3-9b99-bd08234c28b9",
   "metadata": {},
   "source": [
    "With multi-level hierarchies, the order of querying is pre-defined. It helps users to follow through the relationship of facts."
   ]
  },
  {
   "cell_type": "markdown",
   "id": "72876bd5-d25e-42c9-a7f0-e683089ae0b1",
   "metadata": {},
   "source": [
    "### 6.2.2 Measures"
   ]
  },
  {
   "cell_type": "markdown",
   "id": "83457229-51f7-4c3a-adbc-3b617e102d5c",
   "metadata": {},
   "source": [
    "Measures are numerical data/metrics that are analyzed and compared across dimension in order to gain insights and make informed decisions.  \n",
    "\n",
    "Below are the measures that are automatically created during cube creation. For each numerical column in the base table, corresponding `MEAN` and `SUM` measures are created. We will have to create measures for referenced table where necessary.   "
   ]
  },
  {
   "cell_type": "code",
   "execution_count": null,
   "id": "39f284ef-7bcb-4cbb-9f18-47b996a8759b",
   "metadata": {
    "tags": []
   },
   "outputs": [],
   "source": [
    "cube.measures"
   ]
  },
  {
   "cell_type": "markdown",
   "id": "d798a594-7fe6-404b-b857-196b8a87ea8b",
   "metadata": {},
   "source": [
    "Atoti has a range of [aggregation functions](https://docs.atoti.io/latest/api/atoti.agg.html). Let's spend some time to understand measures and what we can do with them:   \n",
    "\n",
    "- [6.2.2.1 Create measures from table](#6.2.2.1.-Create-measures-from-table)\n",
    "- [6.2.2.2 Chain up measures](#6.2.2.2-Chain-up-measures)\n",
    "- [6.2.2.3 Prevent aggregation above a given level](#6.2.2.3-Prevent-aggregation-above-a-given-level)\n",
    "- [6.2.2.4 Understand measure scope](#6.2.2.4-Understand-measure-scope)\n",
    "- [6.2.2.5 Format measures](#6.2.2.5-Format-measures)"
   ]
  },
  {
   "cell_type": "markdown",
   "id": "800b0e15-9497-4338-b166-30c981518271",
   "metadata": {},
   "source": [
    "#### 6.2.2.1 Create measures from table"
   ]
  },
  {
   "cell_type": "markdown",
   "id": "e74fc624-de2c-4295-8cc6-4c95e0be2d34",
   "metadata": {},
   "source": [
    "`cube.measures` is a list of measure. We can create a new measure by adding a new key to the list, e.g. \n",
    "- `Selling Price Per Unit`,  \n",
    "- `PurchasingPricePerUnit`\n",
    "- `PurchasingPricePerUnit.SUM` \n",
    "- `PurchasingPricePerUnit.MEAN` \n",
    "in the below examples and formulate their definitions.  \n",
    "\n",
    "💡 Note that `Selling Price Per Unit.SUM` and `Selling Price Per Unit.MEAN` were automatically created during cube creation."
   ]
  },
  {
   "cell_type": "code",
   "execution_count": null,
   "id": "70fb556b-8cfc-4eac-95c3-7beefa080204",
   "metadata": {
    "tags": []
   },
   "outputs": [],
   "source": [
    "# single value\n",
    "cube.measures[\"Selling Price Per Unit\"] = tt.agg.single_value(\n",
    "    orders_tbl[\"Selling Price Per Unit\"]\n",
    ")\n",
    "# single value\n",
    "cube.measures[\"PurchasingPricePerUnit\"] = tt.agg.single_value(\n",
    "    product_tbl[\"PurchasingPricePerUnit\"]\n",
    ")\n",
    "# summation\n",
    "cube.measures[\"PurchasingPricePerUnit.SUM\"] = tt.agg.sum(\n",
    "    product_tbl[\"PurchasingPricePerUnit\"]\n",
    ")\n",
    "# average\n",
    "cube.measures[\"PurchasingPricePerUnit.MEAN\"] = tt.agg.mean(\n",
    "    product_tbl[\"PurchasingPricePerUnit\"]\n",
    ")"
   ]
  },
  {
   "cell_type": "markdown",
   "id": "69cd45dc-3e65-4d82-b54e-81a1ebcd03cb",
   "metadata": {},
   "source": [
    "💡We can alternatively use the alias `m` instead of `cube.measures` for the above."
   ]
  },
  {
   "cell_type": "markdown",
   "id": "45de3fb5-4386-4ba9-986e-28519323053c",
   "metadata": {},
   "source": [
    "`PurchasingPricePerUnit.SUM` and `PurchasingPricePerUnit.MEAN` is similar to the `SUM` and `MEAN` measures that are automatically created by the cube. It aggregates the value along the queried levels. Refer to the type of [aggregation functions](https://docs.atoti.io/latest/api/atoti.agg.html) available from [Atoti documentation](https://docs.atoti.io/latest/index.html).\n",
    "\n",
    "As for the measures `Selling Price Per Unit` and `PurchasingPricePerUnit` created using `single_value`, we will understand their values through the next few examples."
   ]
  },
  {
   "cell_type": "markdown",
   "id": "110dfa98-2f64-4e42-b36b-bcaf15fb40bc",
   "metadata": {},
   "source": [
    "##### 6.2.2.1.1 Single Values"
   ]
  },
  {
   "cell_type": "code",
   "execution_count": null,
   "id": "2b8b3974-186b-481a-a679-d158d782f5a4",
   "metadata": {
    "atoti": {
     "widget": {
      "columnWidths": {
       "[Measures].[PurchasingPricePerUnit]": 159,
       "[Measures].[Selling Price Per Unit]": 144,
       "[Products].[Product Tree].[ProductCategory]": 122,
       "[Products].[ProductName].[ProductName]": 209
      },
      "mapping": {
       "columns": [
        "ALL_MEASURES"
       ],
       "measures": [
        "[Measures].[Selling Price Per Unit]",
        "[Measures].[PurchasingPricePerUnit]"
       ],
       "rows": [
        "[Products].[Product Tree].[ProductCategory]",
        "[Products].[ProductName].[ProductName]"
       ]
      },
      "query": {
       "mdx": "SELECT NON EMPTY Crossjoin(Hierarchize(Descendants({[Products].[Product Tree].[ALL].[AllMember]}, 1, SELF_AND_BEFORE)), Hierarchize(Descendants({[Products].[ProductName].[ALL].[AllMember]}, 1, SELF_AND_BEFORE))) ON ROWS, NON EMPTY {[Measures].[Selling Price Per Unit], [Measures].[PurchasingPricePerUnit]} ON COLUMNS FROM [Order Cube] CELL PROPERTIES VALUE, FORMATTED_VALUE, BACK_COLOR, FORE_COLOR, FONT_FLAGS",
       "updateMode": "once"
      },
      "serverKey": "default",
      "widgetKey": "pivot-table"
     }
    },
    "tags": []
   },
   "outputs": [],
   "source": [
    "session.widget"
   ]
  },
  {
   "cell_type": "markdown",
   "id": "b57480ab-ad99-423b-b4d6-daca323199b6",
   "metadata": {},
   "source": [
    "The `single_value` function will only return a value when all the members on the same level has the same value. In the above visualization, we see only a few products were returned, such as the `ProductName` member \"Chai\", returned for the \"Beverages\" product category. This is because the underlying [MDX](https://learn.microsoft.com/en-us/analysis-services/multidimensional-models/mdx/mdx-query-the-basic-query?view=asallproducts-allversions) for querying the cube uses `NON EMPTY`: \n",
    "\n",
    "The `NON EMPTY` function returns only set of tuples that are not empty. Therefore, we may have less members being displayed in the visualization than the actual number.\n",
    "\n",
    "```\n",
    "SELECT\n",
    "  NON EMPTY {\n",
    "    [Measures].[Selling Price Per Unit]\n",
    "  } ON COLUMNS,\n",
    "  NON EMPTY Crossjoin(\n",
    "    Hierarchize(\n",
    "      Descendants(\n",
    "        {\n",
    "          [Products].[ProductCategory].[ALL].[AllMember]\n",
    "        },\n",
    "        1,\n",
    "        SELF_AND_BEFORE\n",
    "      )\n",
    "    ),\n",
    "    Hierarchize(\n",
    "      Descendants(\n",
    "        {\n",
    "          [Products].[ProductName].[ALL].[AllMember]\n",
    "        },\n",
    "        1,\n",
    "        SELF_AND_BEFORE\n",
    "      )\n",
    "    )\n",
    "  ) ON ROWS\n",
    "  FROM [Order Cube]\n",
    "  CELL PROPERTIES VALUE, FORMATTED_VALUE, BACK_COLOR, FORE_COLOR, FONT_FLAGS\n",
    "```\n",
    "\n",
    "💡 A good way to verify if we are missing any members that you shouldn't is to include measures that we know will not be empty:\n",
    "\n",
    "1. Add `contributors.COUNT` measure to the query as it returns the number of underlying facts for each member.\n",
    "2. Add the summation e.g. `Selling Price Per Unit.SUM` for the intended measure as it will return the summation of the value if it exists.  "
   ]
  },
  {
   "cell_type": "code",
   "execution_count": null,
   "id": "ccd6cc1a-d601-4267-bc22-4f6b44ef3777",
   "metadata": {
    "atoti": {
     "widget": {
      "columnWidths": {
       "[Measures].[contributors.COUNT]": 140
      },
      "mapping": {
       "columns": [
        "ALL_MEASURES"
       ],
       "measures": [
        "[Measures].[contributors.COUNT]"
       ],
       "rows": [
        "[Products].[Product Tree].[ProductCategory]",
        "[Products].[ProductName].[ProductName]"
       ]
      },
      "name": "Displaying available member with contributors.COUNT",
      "query": {
       "mdx": "SELECT NON EMPTY Crossjoin(Hierarchize(Descendants({[Products].[Product Tree].[ALL].[AllMember]}, 1, SELF_AND_BEFORE)), Hierarchize(Descendants({[Products].[ProductName].[ALL].[AllMember]}, 1, SELF_AND_BEFORE))) ON ROWS, NON EMPTY {[Measures].[contributors.COUNT]} ON COLUMNS FROM [Order Cube] CELL PROPERTIES VALUE, FORMATTED_VALUE, BACK_COLOR, FORE_COLOR, FONT_FLAGS",
       "updateMode": "once"
      },
      "serverKey": "default",
      "widgetKey": "pivot-table"
     }
    },
    "tags": []
   },
   "outputs": [],
   "source": [
    "session.widget"
   ]
  },
  {
   "cell_type": "markdown",
   "id": "92e9665c-fe51-41dc-8afd-c5f419f3f09d",
   "metadata": {},
   "source": [
    "Let's try to understand why `Selling Price Per Unit` is not returning any value while its corresponding summation/mean has value.  "
   ]
  },
  {
   "cell_type": "code",
   "execution_count": null,
   "id": "3ef498a1-5c9e-44d7-afd6-3a769dcb0d95",
   "metadata": {
    "tags": []
   },
   "outputs": [],
   "source": [
    "session.tables.schema"
   ]
  },
  {
   "cell_type": "markdown",
   "id": "65bf0f07-37da-48d7-bc11-c3bb56a1f33e",
   "metadata": {},
   "source": [
    "From the cube schema, we can see that the keys `Order Id` and `Product Id` will help us identify unique rows within the table. Since `single_value` only returns a value when all the members have the same value, let's use the keys to investigate the underlying values.  \n",
    "\n",
    "From the previous visualization, we add `Order Id` to the query. We can skip `Product Id` since each (`ProductCategory`, `ProductName`) tuple has a unique `ProductId`."
   ]
  },
  {
   "cell_type": "code",
   "execution_count": null,
   "id": "4384138f-c046-43f3-bee3-1857bb371c19",
   "metadata": {
    "atoti": {
     "widget": {
      "columnWidths": {
       "[Measures].[Selling Price Per Unit.MEAN]": 182,
       "[Measures].[Selling Price Per Unit.SUM]": 174,
       "[Measures].[Selling Price Per Unit]": 144,
       "[Measures].[contributors.COUNT]": 140
      },
      "mapping": {
       "columns": [
        "ALL_MEASURES"
       ],
       "measures": [
        "[Measures].[contributors.COUNT]",
        "[Measures].[Selling Price Per Unit]",
        "[Measures].[Selling Price Per Unit.MEAN]",
        "[Measures].[Selling Price Per Unit.SUM]"
       ],
       "rows": [
        "[Products].[Product Tree].[ProductCategory]",
        "[Products].[ProductName].[ProductName] => [Orders].[Order Id].[Order Id]"
       ]
      },
      "name": "Displaying available member with contributors.COUNT",
      "query": {
       "mdx": "SELECT NON EMPTY Crossjoin(Hierarchize(Descendants({[Products].[Product Tree].[ALL].[AllMember]}, 1, SELF_AND_BEFORE)), Hierarchize(Descendants({[Products].[ProductName].[ALL].[AllMember]}, 1, SELF_AND_BEFORE))) ON ROWS, NON EMPTY {[Measures].[contributors.COUNT], [Measures].[Selling Price Per Unit], [Measures].[Selling Price Per Unit.MEAN], [Measures].[Selling Price Per Unit.SUM]} ON COLUMNS FROM [Order Cube] CELL PROPERTIES VALUE, FORMATTED_VALUE, BACK_COLOR, FORE_COLOR, FONT_FLAGS",
       "updateMode": "once"
      },
      "serverKey": "default",
      "style": {
       "areTooltipsVisible": false
      },
      "widgetKey": "pivot-table"
     }
    },
    "tags": []
   },
   "outputs": [],
   "source": [
    "session.widget"
   ]
  },
  {
   "cell_type": "markdown",
   "id": "3f68557c-035f-4815-b75d-6f36cb0e1bfb",
   "metadata": {},
   "source": [
    "**Single value**: We can see from the table above that the `Selling Price Per Unit` for each order under the `ProductName` is different, i.e. the same product sells at different prices in different orders. Hence, the single-value measure `Selling Price Per Unit` is empty for the `ProductName` level.  \n",
    "\n",
    "**Summation**: In most cases, we cannot use the summation `Selling Price Per Unit.SUM` at the subtotal level, e.g.:\n",
    "- Total profit = (Selling price - Unit Price) x Quantity Sold  \n",
    "\n",
    "**Average**: `Selling Price Per Unit.MEAN` is a good alternative to the single value if we just want the average and not the precise amount.\n",
    "\n",
    "<hr />\n",
    "\n",
    "💡 Instead of referring to the table keys, we can also perform a drillthrough on the measure to perform our investigation. \n",
    "Drillthrough allows us to see the underlying data and understand that the `Selling Price Per Unit` is different for product in different orders."
   ]
  },
  {
   "cell_type": "code",
   "execution_count": null,
   "id": "f70877b7-ed05-4699-8cb0-5e22177be1fe",
   "metadata": {
    "atoti": {
     "height": 284,
     "widget": {
      "columnWidths": {
       "Orders.Order Id": 119,
       "Orders.Quantity Sold": 149,
       "Orders.Selling Price Per Unit": 192,
       "Products.ProductCategory": 182,
       "Products.ProductId": 141,
       "Products.ProductName": 163,
       "Products.PurchasingPricePerUnit": 219
      },
      "filters": [
       {
        "dimensionName": "Measures",
        "hierarchyName": "Measures",
        "members": [
         [
          "Selling Price Per Unit.SUM"
         ]
        ],
        "type": "members"
       },
       {
        "dimensionName": "Products",
        "hierarchyName": "Product Tree",
        "isExclusionFilter": false,
        "members": [
         [
          "AllMember",
          "Beverages",
          "Chang"
         ]
        ],
        "type": "members"
       },
       {
        "dimensionName": "Orders",
        "hierarchyName": "Product Id",
        "isExclusionFilter": false,
        "members": [
         [
          "AllMember",
          "773"
         ]
        ],
        "type": "members"
       }
      ],
      "name": "Drillthrough",
      "query": {
       "mdx": "DRILLTHROUGH SELECT FROM [Order Cube] RETURN MemberValue([Orders.Order Id]), Caption([Orders.Order Id]), MemberValue([Orders.Quantity Sold]), Caption([Orders.Quantity Sold]), MemberValue([Orders.Selling Price Per Unit]), Caption([Orders.Selling Price Per Unit]), MemberValue([Products.ProductCategory]), Caption([Products.ProductCategory]), MemberValue([Products.ProductId]), Caption([Products.ProductId]), MemberValue([Products.ProductName]), Caption([Products.ProductName]), MemberValue([Products.PurchasingPricePerUnit]), Caption([Products.PurchasingPricePerUnit]), MemberValue([Orders.Order Date]), Caption([Orders.Order Date])",
       "updateMode": "once"
      },
      "serverKey": "default",
      "style": {
       "areTooltipsVisible": true,
       "measures": {
        "Orders.Order Id": {
         "justifyContent": "right"
        },
        "Orders.Quantity Sold": {
         "justifyContent": "right"
        }
       },
       "size": "large",
       "wrapHeaders": true
      },
      "widgetKey": "drillthrough-table"
     }
    },
    "tags": []
   },
   "outputs": [],
   "source": [
    "session.widget"
   ]
  },
  {
   "cell_type": "markdown",
   "id": "50acbf94-7eee-43ec-aaa7-98b31cce1ac5",
   "metadata": {},
   "source": [
    "In the later section, we will see how we can chain up measures such as the single-values to achieve our business metrics.  "
   ]
  },
  {
   "cell_type": "markdown",
   "id": "4617f9e0-5231-47d0-8ca7-4b30dd30d5a6",
   "metadata": {},
   "source": [
    "#### 6.2.2.2 Chain up measures"
   ]
  },
  {
   "cell_type": "markdown",
   "id": "a539ca77-20bf-418c-8fb7-b1d03d99afd0",
   "metadata": {},
   "source": [
    "We can implement a formula by chaining up measures. E.g. suppose we want to compute the profit per unit:  \n",
    "\n",
    "$$ ProfitPerUnit = SellingPricePerUnit - PurchasePricePerUnit $$"
   ]
  },
  {
   "cell_type": "markdown",
   "id": "18b3e3b9-2868-4381-b4a3-5eb1a3bd1da3",
   "metadata": {},
   "source": [
    "Below is how we formulate it in Atoti:"
   ]
  },
  {
   "cell_type": "code",
   "execution_count": null,
   "id": "bc737d4f-863e-43dc-aa79-4618c2968885",
   "metadata": {
    "tags": []
   },
   "outputs": [],
   "source": [
    "m[\"_ProfitPerUnit (sv)\"] = m[\"Selling Price Per Unit\"] - m[\"PurchasingPricePerUnit\"]\n",
    "m[\"_ProfitPerUnit (sum)\"] = (\n",
    "    m[\"Selling Price Per Unit.SUM\"] - m[\"PurchasingPricePerUnit.SUM\"]\n",
    ")\n",
    "m[\"_ProfitPerUnit (mean)\"] = (\n",
    "    m[\"Selling Price Per Unit.MEAN\"] - m[\"PurchasingPricePerUnit.MEAN\"]\n",
    ")"
   ]
  },
  {
   "cell_type": "markdown",
   "id": "c8f15ee9-e4d6-468c-8fe7-ebc9741ade4a",
   "metadata": {},
   "source": [
    "At the `Order Id` level, we get the same value for all 3 measures. However, we get different values for each of them at the sub-total and grandtotal levels. So, which is the correct measure we should use?"
   ]
  },
  {
   "cell_type": "code",
   "execution_count": null,
   "id": "27e7f68f-614a-45df-b0d7-fe2b7723fb6c",
   "metadata": {
    "atoti": {
     "widget": {
      "columnWidths": {
       "[Measures].[PurchasingPricePerUnit]": 159,
       "[Measures].[Selling Price Per Unit.SUM]": 161,
       "[Measures].[Selling Price Per Unit]": 144,
       "[Measures].[_ProfitPerUnit (mean)]": 148,
       "[Measures].[_ProfitPerUnit (sum)]": 141,
       "[Measures].[_ProfitPerUnit (sv)]": 130,
       "[Products].[Product Tree].[ProductCategory]": 122,
       "[Products].[Product Tree].[ProductName]": 227
      },
      "mapping": {
       "columns": [
        "ALL_MEASURES"
       ],
       "measures": [
        "[Measures].[Selling Price Per Unit]",
        "[Measures].[PurchasingPricePerUnit]",
        "[Measures].[_ProfitPerUnit (sv)]",
        "[Measures].[_ProfitPerUnit (sum)]",
        "[Measures].[_ProfitPerUnit (mean)]"
       ],
       "rows": [
        "[Products].[Product Tree].[ProductName] => [Orders].[Order Id].[Order Id]"
       ]
      },
      "query": {
       "mdx": "SELECT NON EMPTY {[Measures].[Selling Price Per Unit], [Measures].[PurchasingPricePerUnit], [Measures].[_ProfitPerUnit (sv)], [Measures].[_ProfitPerUnit (sum)], [Measures].[_ProfitPerUnit (mean)]} ON COLUMNS, NON EMPTY Hierarchize(Descendants({[Products].[Product Tree].[AllMember]}, 2, SELF_AND_BEFORE)) ON ROWS FROM [Order Cube] CELL PROPERTIES VALUE, FORMATTED_VALUE, BACK_COLOR, FORE_COLOR, FONT_FLAGS",
       "updateMode": "once"
      },
      "serverKey": "default",
      "widgetKey": "pivot-table"
     }
    },
    "tags": []
   },
   "outputs": [],
   "source": [
    "session.widget"
   ]
  },
  {
   "cell_type": "markdown",
   "id": "772abd6d-f750-43e7-b2db-5387648ee53f",
   "metadata": {},
   "source": [
    "It all depends on what KPI we want to achieve:  \n",
    "- `_ProfitPerUnit (mean)` makes the most sense as it gives us the average profit per unit for the product across the orders.  \n",
    "- `_ProfitPerUnit (sv)` makes no sense as `Selling Price Per Unit` is empty at the `ProductName` level, hence the difference is the `PurchasingPricePerUnit` itself.  \n",
    "- Although `_ProfitPerUnit (sum)` is computed correctly, the value itself does not give any useful insights.  \n",
    "\n",
    "Let's correct the computation of `_ProfitPerUnit (sv)` first in the next section before continuing with our measure creations.  "
   ]
  },
  {
   "cell_type": "markdown",
   "id": "ee1eaee9-7de6-4ccc-84b3-9bf976f11e73",
   "metadata": {},
   "source": [
    "#### 6.2.2.3 Prevent aggregation above a given level"
   ]
  },
  {
   "cell_type": "markdown",
   "id": "2292cd56-a357-4592-8f2f-9f426f3e6c00",
   "metadata": {},
   "source": [
    "With respect to our dataset, it is possible that `Selling Price Per Unit` is empty at the `ProductName` level.  \n",
    "\n",
    "The most logical fix we have in this case, is to prevent the computation of the measure at the sub-total or grandtotal levels, which in this case, are ProductName and ProductCategory levels. This is the same as saying that we want to prevent aggregation of the measures for any levels above the `Order Id` level.  \n",
    "\n",
    "We achieve this by simply checking if the `Order Id` level is available. We only return the measure value if `Order Id` is available. Otherwise, it's empty.  "
   ]
  },
  {
   "cell_type": "code",
   "execution_count": null,
   "id": "78fa0caf-d36d-4d91-bbb8-906fae638927",
   "metadata": {
    "tags": []
   },
   "outputs": [],
   "source": [
    "m[\"ProfitPerUnit (sv)\"] = tt.where(\n",
    "    l[\"Order Id\"].isnull(), m[\"Selling Price Per Unit\"] - m[\"PurchasingPricePerUnit\"]\n",
    ")"
   ]
  },
  {
   "cell_type": "code",
   "execution_count": null,
   "id": "aea68a5e-63ff-4859-8689-9f40238f7a00",
   "metadata": {
    "atoti": {
     "height": 404,
     "widget": {
      "columnWidths": {
       "[Measures].[ProfitPerUnit (sv)]": 123,
       "[Measures].[PurchasingPricePerUnit]": 146,
       "[Measures].[Selling Price Per Unit.SUM]": 179.10511779785156,
       "[Measures].[Selling Price Per Unit]": 148,
       "[Measures].[_ProfitPerUnit (mean)]": 148,
       "[Measures].[_ProfitPerUnit (sum)]": 141,
       "[Measures].[_ProfitPerUnit (sv)]": 130,
       "[Orders].[Order Id].[Order Id]": 71,
       "[Products].[Product Tree].[ProductCategory]": 122,
       "[Products].[Product Tree].[ProductName]": 194
      },
      "mapping": {
       "columns": [
        "ALL_MEASURES"
       ],
       "measures": [
        "[Measures].[_ProfitPerUnit (sum)]",
        "[Measures].[_ProfitPerUnit (mean)]",
        "[Measures].[_ProfitPerUnit (sv)]",
        "[Measures].[ProfitPerUnit (sv)]"
       ],
       "rows": [
        "[Products].[Product Tree].[ProductCategory] => [Products].[Product Tree].[ProductName] => [Orders].[Order Id].[Order Id]"
       ]
      },
      "name": "Order Id below the Product Tree level",
      "query": {
       "mdx": "SELECT NON EMPTY {[Measures].[_ProfitPerUnit (sum)], [Measures].[_ProfitPerUnit (mean)], [Measures].[_ProfitPerUnit (sv)], [Measures].[ProfitPerUnit (sv)]} ON COLUMNS, NON EMPTY Hierarchize(Union(Crossjoin(Union(Descendants({[Products].[Product Tree].[AllMember]}, 1, SELF_AND_BEFORE), Descendants({[Products].[Product Tree].[AllMember].[Beverages]}, [Products].[Product Tree].[ProductName])), [Orders].[Order Id].DefaultMember), Crossjoin([Products].[Product Tree].[ALL].[AllMember].[Beverages].[Chai], Hierarchize(Descendants({[Orders].[Order Id].[ALL].[AllMember]}, 1, SELF_AND_BEFORE))), Crossjoin([Products].[Product Tree].[ALL].[AllMember].[Beverages].[Chang], Hierarchize(Descendants({[Orders].[Order Id].[ALL].[AllMember]}, 1, SELF_AND_BEFORE))))) ON ROWS FROM [Order Cube] CELL PROPERTIES VALUE, FORMATTED_VALUE, BACK_COLOR, FORE_COLOR, FONT_FLAGS",
       "updateMode": "once"
      },
      "serverKey": "default",
      "widgetKey": "pivot-table"
     }
    },
    "tags": []
   },
   "outputs": [],
   "source": [
    "session.widget"
   ]
  },
  {
   "cell_type": "markdown",
   "id": "a678a0a5-54ca-4344-9d03-e0854bd57c3c",
   "metadata": {},
   "source": [
    "When it comes to designing a __User Defined Function (UDF)__ in the cube, the above illustrates a key principle of Atoti's on the fly computation capability. We can define if data should be aggregated depending on the presence of a queried level.  \n",
    "\n",
    "In the example above, there is no value for `Order Id` where we have the summarized levels of `ProductName` and `ProductCategory`.  \n",
    "\n",
    "<img src=\"https://data.atoti.io/atoti-academy/images/introduction/6_order_of_query.png\" width=\"950px\"/>  \n",
    "\n",
    "In order of querying, we say that `ProductCategory` and `ProductName` are __above__ `Order Id`.  \n",
    "\n",
    "We shifted `Order Id` in the below visualization to be above the `ProductCategory` and `ProductName`. Now, we can see that we are only missing the value of `ProfitPerUnit (sv)` at the grandtotal level. This is because that's the only level that doesn't have the `Order Id` value."
   ]
  },
  {
   "cell_type": "code",
   "execution_count": null,
   "id": "e6ae6669-02a3-4d5c-afef-ac3ddedbf0b4",
   "metadata": {
    "atoti": {
     "height": 404,
     "widget": {
      "columnWidths": {
       "[Measures].[ProfitPerUnit (sv)]": 113,
       "[Measures].[PurchasingPricePerUnit]": 146,
       "[Measures].[Selling Price Per Unit.SUM]": 179.10511779785156,
       "[Measures].[Selling Price Per Unit]": 148,
       "[Measures].[_ProfitPerUnit (mean)]": 148,
       "[Measures].[_ProfitPerUnit (sum)]": 141,
       "[Measures].[_ProfitPerUnit (sv)]": 130,
       "[Orders].[Order Id].[Order Id]": 71,
       "[Products].[Product Tree].[ProductCategory]": 122,
       "[Products].[Product Tree].[ProductName]": 139
      },
      "filters": [
       {
        "dimensionName": "Products",
        "hierarchyName": "ProductCategory",
        "isExclusionFilter": false,
        "members": [
         [
          "AllMember",
          "Beverages"
         ]
        ],
        "type": "members"
       }
      ],
      "mapping": {
       "columns": [
        "ALL_MEASURES"
       ],
       "measures": [
        "[Measures].[_ProfitPerUnit (sum)]",
        "[Measures].[_ProfitPerUnit (mean)]",
        "[Measures].[_ProfitPerUnit (sv)]",
        "[Measures].[ProfitPerUnit (sv)]"
       ],
       "rows": [
        "[Orders].[Order Id].[Order Id]",
        "[Products].[Product Tree].[ProductCategory] => [Products].[Product Tree].[ProductName]"
       ]
      },
      "name": "Order Id above Product Tree level",
      "query": {
       "mdx": "SELECT NON EMPTY {[Measures].[_ProfitPerUnit (sum)], [Measures].[_ProfitPerUnit (mean)], [Measures].[_ProfitPerUnit (sv)], [Measures].[ProfitPerUnit (sv)]} ON COLUMNS, NON EMPTY Hierarchize(Union(Crossjoin(Hierarchize(Descendants({[Orders].[Order Id].[AllMember]}, 1, SELF_AND_BEFORE)), Hierarchize(Descendants({[Products].[Product Tree].[AllMember]}, 1, SELF_AND_BEFORE))), Crossjoin([Orders].[Order Id].[AllMember].[6], Descendants({[Products].[Product Tree].[AllMember].[Beverages]}, [Products].[Product Tree].[ProductName])), Crossjoin([Orders].[Order Id].[AllMember].[18], Descendants({[Products].[Product Tree].[AllMember].[Beverages]}, [Products].[Product Tree].[ProductName])))) ON ROWS FROM [Order Cube] CELL PROPERTIES VALUE, FORMATTED_VALUE, BACK_COLOR, FORE_COLOR, FONT_FLAGS",
       "updateMode": "once"
      },
      "serverKey": "default",
      "widgetKey": "pivot-table"
     }
    },
    "tags": []
   },
   "outputs": [],
   "source": [
    "session.widget"
   ]
  },
  {
   "cell_type": "markdown",
   "id": "3aec5ee8-94ea-43b3-b924-6ef354c8b6ac",
   "metadata": {},
   "source": [
    "Similarly, by switching the `Product Tree` hierarchy to columns instead of rows, we see that the grandtotal value is missing for `_ProfitPerUnit (sv)`. Again, it's for the same reason: `Order Id` is empty and according to our measure definition, nothing is returned.  "
   ]
  },
  {
   "cell_type": "code",
   "execution_count": null,
   "id": "f4683dba-308e-4628-a9db-708280b4bf50",
   "metadata": {
    "atoti": {
     "height": 404,
     "widget": {
      "columnWidths": {
       "[Measures].[ProfitPerUnit (sv)]": 113,
       "[Measures].[PurchasingPricePerUnit]": 146,
       "[Measures].[Selling Price Per Unit.SUM]": 179.10511779785156,
       "[Measures].[Selling Price Per Unit]": 148,
       "[Measures].[_ProfitPerUnit (mean)]": 136,
       "[Measures].[_ProfitPerUnit (sum)]": 129,
       "[Measures].[_ProfitPerUnit (sv)]": 118,
       "[Products].[Product Tree].[AllMember],[Measures].[ProfitPerUnit (sv)]": 123,
       "[Products].[Product Tree].[AllMember],[Measures].[_ProfitPerUnit (mean)]": 148,
       "[Products].[Product Tree].[AllMember],[Measures].[_ProfitPerUnit (sum)]": 141,
       "[Products].[Product Tree].[AllMember].[Beverages],[Measures].[_ProfitPerUnit (mean)]": 148,
       "[Products].[Product Tree].[AllMember].[Beverages],[Measures].[_ProfitPerUnit (sum)]": 141,
       "[Products].[Product Tree].[AllMember].[Beverages],[Measures].[_ProfitPerUnit (sv)]": 126
      },
      "filters": [
       {
        "dimensionName": "Products",
        "hierarchyName": "ProductCategory",
        "isExclusionFilter": false,
        "members": [
         [
          "AllMember",
          "Beverages"
         ]
        ],
        "type": "members"
       }
      ],
      "mapping": {
       "columns": [
        "[Products].[Product Tree].[ProductCategory] => [Products].[Product Tree].[ProductName]",
        "ALL_MEASURES"
       ],
       "measures": [
        "[Measures].[_ProfitPerUnit (sum)]",
        "[Measures].[_ProfitPerUnit (mean)]",
        "[Measures].[_ProfitPerUnit (sv)]",
        "[Measures].[ProfitPerUnit (sv)]"
       ],
       "rows": [
        "[Orders].[Order Id].[Order Id]"
       ]
      },
      "name": "Order Id above Product Tree level",
      "query": {
       "mdx": "SELECT NON EMPTY Crossjoin(Hierarchize(Descendants({[Products].[Product Tree].[AllMember]}, 1, SELF_AND_BEFORE)), {[Measures].[_ProfitPerUnit (sum)], [Measures].[_ProfitPerUnit (mean)], [Measures].[_ProfitPerUnit (sv)], [Measures].[ProfitPerUnit (sv)]}) ON COLUMNS, NON EMPTY Hierarchize(Descendants({[Orders].[Order Id].[AllMember]}, 1, SELF_AND_BEFORE)) ON ROWS FROM [Order Cube] CELL PROPERTIES VALUE, FORMATTED_VALUE, BACK_COLOR, FORE_COLOR, FONT_FLAGS",
       "updateMode": "once"
      },
      "serverKey": "default",
      "widgetKey": "pivot-table"
     }
    },
    "editable": true,
    "slideshow": {
     "slide_type": ""
    },
    "tags": []
   },
   "outputs": [],
   "source": [
    "session.widget"
   ]
  },
  {
   "cell_type": "markdown",
   "id": "4fab9459-3d78-4aa9-993e-5b4694e161ca",
   "metadata": {},
   "source": [
    "With __aggregation on the fly__ capability, we are able to control the behavior of our measures depending on:  \n",
    "\n",
    "* What is being queried.\n",
    "* How measures are ordered in the query. "
   ]
  },
  {
   "cell_type": "markdown",
   "id": "8f3a7a84-6aee-42ac-b4cb-76b9dd187fb2",
   "metadata": {},
   "source": [
    "#### 6.2.2.4 Understand measure scope"
   ]
  },
  {
   "cell_type": "markdown",
   "id": "3a071e79-87db-4b15-8ac2-24680b1823fa",
   "metadata": {},
   "source": [
    "Let's recap on what we have learnt so far on measure definitions:  \n",
    "\n",
    "* It can minimally contain a constant value or simply a formula, for example:\n",
    "\n",
    "```python\n",
    "m[\"_ProfitPerUnit\"] = m[\"Selling Price Per Unit\"] - m[\"PurchasingPricePerUnit\"]\n",
    "```\n",
    "\n",
    "* Otherwise, it may contain functions such as the `where` condition we saw previously:  \n",
    "\n",
    "```python\n",
    "m[\"ProfitPerUnit\"] = tt.where(\n",
    "    l[\"Order Id\"].isnull(), m[\"Selling Price Per Unit\"] - m[\"PurchasingPricePerUnit\"]\n",
    ")\n",
    "```"
   ]
  },
  {
   "cell_type": "markdown",
   "id": "6a30653b-91bf-4b77-bb8d-007f61287341",
   "metadata": {},
   "source": [
    "In this section, we will see how we can further control the behavior of measures with the use of [`scope`](https://docs.atoti.io/latest/api/atoti.scope.html) and why we need such controls.\n",
    "\n",
    "We have three types of scopes:\n",
    "- [Origin scope](https://docs.atoti.io/latest/api/atoti.OriginScope.html#atoti.OriginScope): To start aggregation from the specified levels. \n",
    "- [Cumulative scope](https://docs.atoti.io/latest/api/atoti.CumulativeScope.html): Used when we want to perform a cumulative aggregation e.g. running total.\n",
    "- [Sibling scope](https://docs.atoti.io/latest/api/atoti.SiblingsScope.html): To perform aggregation with values from members within the same level. Suitable for achieving non-linear aggregation."
   ]
  },
  {
   "cell_type": "markdown",
   "id": "8cd9c6ff-70a5-466f-a935-27b7071853f0",
   "metadata": {},
   "source": [
    "##### 6.2.2.4.1 Origin scope"
   ]
  },
  {
   "cell_type": "markdown",
   "id": "7ea5ef42-140e-43d4-ab90-6a6e63e88260",
   "metadata": {},
   "source": [
    "Given that the formula to compute sales is:\n",
    "\n",
    "$$ Profit = \\sum (ProfitPerUnit \\times QuantitySold) $$"
   ]
  },
  {
   "cell_type": "markdown",
   "id": "4d2243a1-73c0-494f-88c6-3ceeb23ebc31",
   "metadata": {},
   "source": [
    "We can see there are actually two parts to the above formula:\n",
    "\n",
    "1. We multiply the `ProfitPerUnit` by `Quantity Sold`.\n",
    "2. We take the sum of the above multiplication.\n",
    " "
   ]
  },
  {
   "cell_type": "markdown",
   "id": "8a08b24f-1ed0-4893-b0ef-fae7dbdc3a16",
   "metadata": {},
   "source": [
    "__Applying formula without aggregation__\n",
    "\n",
    "Let's define the first part of the `Sales` measure by taking the multiple between the unit selling price and the quantity sold. "
   ]
  },
  {
   "cell_type": "code",
   "execution_count": null,
   "id": "13d1adec-e9f0-4ba3-a6b2-4197b270e6fe",
   "metadata": {
    "tags": []
   },
   "outputs": [],
   "source": [
    "m[\"Profit\"] = m[\"_ProfitPerUnit (sum)\"] * m[\"Quantity Sold.SUM\"]"
   ]
  },
  {
   "cell_type": "code",
   "execution_count": null,
   "id": "868d1daf-9e1a-499d-a8a6-ca606fb21ac5",
   "metadata": {
    "atoti": {
     "height": 321,
     "widget": {
      "columnWidths": {
       "[Measures].[Profit]": 107,
       "[Measures].[Quantity Sold.SUM]": 132,
       "[Measures].[Selling Price Per Unit.SUM]": 159,
       "[Measures].[_ProfitPerUnit (sum)]": 141,
       "[Orders].[Order Date].[Order Date]": 87,
       "[Orders].[Order Id].[Order Id]": 71,
       "[Products].[Product Tree].[ProductCategory]": 122,
       "[Products].[Product Tree].[ProductName]": 139
      },
      "mapping": {
       "columns": [
        "ALL_MEASURES"
       ],
       "measures": [
        "[Measures].[_ProfitPerUnit (sum)]",
        "[Measures].[Quantity Sold.SUM]",
        "[Measures].[Profit]"
       ],
       "rows": [
        "[Orders].[Order Date].[Order Date]",
        "[Products].[Product Tree].[ProductCategory] => [Products].[Product Tree].[ProductName] => [Orders].[Order Id].[Order Id]"
       ]
      },
      "query": {
       "mdx": "SELECT NON EMPTY Hierarchize(Union(Crossjoin(Hierarchize(Descendants({[Orders].[Order Date].[AllMember]}, 1, SELF_AND_BEFORE)), Hierarchize(Descendants({[Products].[Product Tree].[AllMember]}, 1, SELF_AND_BEFORE)), [Orders].[Order Id].DefaultMember), Crossjoin([Orders].[Order Date].[AllMember].[2019-02-15], Descendants({[Products].[Product Tree].[AllMember].[Beverages]}, [Products].[Product Tree].[ProductName]), [Orders].[Order Id].DefaultMember), Crossjoin([Orders].[Order Date].[AllMember].[2019-02-15], [Products].[Product Tree].[AllMember].[Beverages].[Guaraná Fantástica], Hierarchize(Descendants({[Orders].[Order Id].[AllMember]}, 1, SELF_AND_BEFORE))))) ON ROWS, NON EMPTY {[Measures].[_ProfitPerUnit (sum)], [Measures].[Quantity Sold.SUM], [Measures].[Profit]} ON COLUMNS FROM [Order Cube] CELL PROPERTIES VALUE, FORMATTED_VALUE, BACK_COLOR, FORE_COLOR, FONT_FLAGS",
       "updateMode": "once"
      },
      "serverKey": "default",
      "widgetKey": "pivot-table"
     }
    },
    "tags": []
   },
   "outputs": [],
   "source": [
    "session.widget"
   ]
  },
  {
   "cell_type": "markdown",
   "id": "c1afcaba-6f0e-4111-b838-b4dd925b05c4",
   "metadata": {},
   "source": [
    "With the measure definition above, we see that at every level, including the total levels, Atoti applies the formula of `m[\"_ProfitPerUnit (sum)\"] * m[\"Quantity Sold.SUM\"]`.  \n",
    "\n",
    "<img src=\"https://data.atoti.io/atoti-academy/images/introduction/6_incorrect_aggregation.png\"/>  \n",
    "\n",
    "Therefore, our sales at the total level for the product \"Guaraná Fantástica\" is `2,715.72` (result of 2.12 * 1,281). It should instead, be the summation of the sales for Order Id `338` and `352`, which equals to `1,091.29`."
   ]
  },
  {
   "cell_type": "markdown",
   "id": "797cdb51-35e8-437f-a33e-03cc95a09c70",
   "metadata": {},
   "source": [
    "__Applying aggregation to formula__  \n",
    "\n",
    "Let's work on the second part of the `Profit` measure — the aggregation; Atoti offers a range of [aggregation functions](https://docs.atoti.io/latest/api/atoti.agg.html) such as `long`, `short`, `min`, `max`, `prod`, `std` etc.  \n",
    "\n",
    "1. As per our formula, we will use the summation function [`tt.agg.sum`](https://docs.atoti.io/latest/api/atoti.agg.sum.html#atoti.agg.sum) to sum up the profit:  \n",
    "\n",
    "    `atoti.agg.sum(operand: NonConstantMeasureConvertible, /, *, scope: Scope) → MeasureDescription`\n",
    "\n",
    "2. We know that at `Order Id` level, we want to apply the multiplication between `m[\"_ProfitPerUnit (sum)\"]` and `m[\"Quantity Sold.SUM\"]`. Thereafter, we want to sum up the multiplication. Therefore, the scope `OriginScope` comes into play. It defines the level(s) from which we will start the aggregation.\n",
    "\n",
    "In our case, we will __start aggregating above the `Order Id` level__."
   ]
  },
  {
   "cell_type": "code",
   "execution_count": null,
   "id": "545f33a3-c07e-4906-aa2d-386ce4432fc3",
   "metadata": {
    "tags": []
   },
   "outputs": [],
   "source": [
    "m[\"Aggregated Profit\"] = tt.agg.sum(\n",
    "    m[\"Profit\"], scope=tt.OriginScope(levels={l[\"Order Id\"]})\n",
    ")"
   ]
  },
  {
   "cell_type": "code",
   "execution_count": null,
   "id": "fe119302-48e1-4f1f-bb16-cc56e7bfd386",
   "metadata": {
    "atoti": {
     "height": 321,
     "widget": {
      "columnWidths": {
       "[Measures].[Aggregated Profit]": 125,
       "[Measures].[Profit]": 106,
       "[Measures].[Quantity Sold.SUM]": 132,
       "[Measures].[Selling Price Per Unit.SUM]": 159,
       "[Measures].[_ProfitPerUnit (sum)]": 141,
       "[Orders].[Order Date].[Order Date]": 87,
       "[Products].[Product Tree].[ProductCategory]": 122,
       "[Products].[Product Tree].[ProductName]": 139
      },
      "mapping": {
       "columns": [
        "ALL_MEASURES"
       ],
       "measures": [
        "[Measures].[_ProfitPerUnit (sum)]",
        "[Measures].[Quantity Sold.SUM]",
        "[Measures].[Profit]",
        "[Measures].[Aggregated Profit]"
       ],
       "rows": [
        "[Orders].[Order Date].[Order Date]",
        "[Products].[Product Tree].[ProductCategory] => [Products].[Product Tree].[ProductName] => [Orders].[Order Id].[Order Id]"
       ]
      },
      "query": {
       "mdx": "SELECT NON EMPTY Hierarchize(Union(Crossjoin(Hierarchize(Descendants({[Orders].[Order Date].[AllMember]}, 1, SELF_AND_BEFORE)), Hierarchize(Descendants({[Products].[Product Tree].[AllMember]}, 1, SELF_AND_BEFORE))), Crossjoin([Orders].[Order Date].[ALL].[AllMember].[2019-02-15], Descendants({[Products].[Product Tree].[ALL].[AllMember].[Beverages]}, [Products].[Product Tree].[ProductName])))) ON ROWS, NON EMPTY {[Measures].[_ProfitPerUnit (sum)], [Measures].[Quantity Sold.SUM], [Measures].[Profit], [Measures].[Aggregated Profit]} ON COLUMNS FROM [Order Cube] CELL PROPERTIES VALUE, FORMATTED_VALUE, BACK_COLOR, FORE_COLOR, FONT_FLAGS",
       "updateMode": "once"
      },
      "serverKey": "default",
      "widgetKey": "pivot-table"
     }
    },
    "tags": []
   },
   "outputs": [],
   "source": [
    "session.widget"
   ]
  },
  {
   "cell_type": "markdown",
   "id": "6a1d6aff-5e17-4599-bb1a-4a782079f470",
   "metadata": {},
   "source": [
    "We can see that `Aggregated Profit` now has different behavior above the `Order Id` level. We get the correct computation of the profit value.  \n",
    "\n",
    "__Quick summary:__  \n",
    "\n",
    "By applying scope on `Order Id`, it means:  \n",
    "- For the queried level `Order Id` and whatever levels added after `Order Id`, the formula `m[\"_ProfitPerUnit (sum)\"] * m[\"Quantity Sold.SUM\"]` will be applied. \n",
    "- For any levels that were queried above the `Order Id` level, it will be the sum of the members of the level below.  \n",
    "\n",
    "<img src=\"https://data.atoti.io/atoti-academy/images/introduction/6_measure_scope.png\" width=\"800px\"/>"
   ]
  },
  {
   "cell_type": "markdown",
   "id": "2f01a35f-8b49-448d-9fc5-05f1b359d2bb",
   "metadata": {},
   "source": [
    "##### 📐Exercise  \n",
    "\n",
    "$$ Sales = \\sum (SellingPricePerUnit \\times QuantitySold) $$"
   ]
  },
  {
   "cell_type": "markdown",
   "id": "383d503b-6605-4777-b711-b51889d8979b",
   "metadata": {},
   "source": [
    "Given the above formula, create the following measures:\n",
    "- `Sales (sum)`, which uses the measure `Selling Price Per Unit.SUM` to multiply with `Quantity Sold.SUM`.\n",
    "- `Aggregated Sales (sum)`, which aggregates `Sales (sum)` against the scope `Order Id`.\n",
    "- `Sales (sv)`, which uses the measure `Selling Price Per Unit` to multiply with `Quantity Sold.SUM`.\n",
    "- `Aggregated Sales (sv)`, which aggregates `Sales (sv)` against the scope `Order Id`."
   ]
  },
  {
   "cell_type": "markdown",
   "id": "7e810ae5-0e71-4f52-b57d-a176f51dfa54",
   "metadata": {},
   "source": [
    "##### 📖 Solution  \n",
    "\n",
    "```python\n",
    "m[\"Sales (sum)\"] = m[\"Selling Price Per Unit.SUM\"] * m[\"Quantity Sold.SUM\"]\n",
    "m[\"Aggregated Sales (sum)\"] = tt.agg.sum(\n",
    "    m[\"Sales (sum)\"], scope=tt.OriginScope(levels={l[\"Order Id\"]})\n",
    ")\n",
    "\n",
    "m[\"Sales (sv)\"] = m[\"Selling Price Per Unit\"] * m[\"Quantity Sold.SUM\"]\n",
    "m[\"Aggregated Sales (sv)\"] = tt.agg.sum(\n",
    "    m[\"Sales (sv)\"], scope=tt.OriginScope(levels={l[\"Order Id\"]})\n",
    ")\n",
    "```\n",
    "\n",
    "__Difference between SUM vs Single-value measure__\n",
    "\n",
    "💡 `Selling Price Per Unit.SUM` gives us incorrect value at the total levels. Mathematically speaking, we cannot sum the unit selling price to achieve what we wanted. As a result, the `Sales (sum)` measure gives an incorrect total value when we multiplies the unit selling price with the quantity sold. This can be prevented by using the single value measure `Selling Price Per Unit` (refer to [6.2.2.2 Create measures from table](#6.2.2.1-Create-measures-from-table)).   \n",
    "\n",
    "By using the single value measure, we see that the `Selling Price Per Unit` is only available at the total level if all its member has the same value (e.g. for \"Chai\" and \"Côte de Blaye\"). In the case of \"Guaraná Fantástica\", its selling price varies between orders. Therefore, value is only displayed at the `Order Id` level. Sales total is empty in this case as the selling price is not available at the total level.  \n",
    "\n",
    "__However, do note that after applying aggregation with the correct scope, both returns the correct aggregated sales value. The interim `Sales` value is usually important when users want to investigate and understand the final values they see.__"
   ]
  },
  {
   "cell_type": "code",
   "execution_count": null,
   "id": "35cd25fb-8211-4637-93bb-df73136683df",
   "metadata": {
    "tags": []
   },
   "outputs": [],
   "source": [
    "m[\"Sales (sum)\"] = m[\"Selling Price Per Unit.SUM\"] * m[\"Quantity Sold.SUM\"]\n",
    "m[\"Aggregated Sales (sum)\"] = tt.agg.sum(\n",
    "    m[\"Sales (sum)\"], scope=tt.OriginScope(levels={l[\"Order Id\"]})\n",
    ")\n",
    "\n",
    "m[\"Sales (sv)\"] = m[\"Selling Price Per Unit\"] * m[\"Quantity Sold.SUM\"]\n",
    "m[\"Aggregated Sales (sv)\"] = tt.agg.sum(\n",
    "    m[\"Sales (sv)\"], scope=tt.OriginScope(levels={l[\"Order Id\"]})\n",
    ")"
   ]
  },
  {
   "cell_type": "code",
   "execution_count": null,
   "id": "80c56728-e510-4927-bbe4-f12a0149193c",
   "metadata": {
    "atoti": {
     "height": 321,
     "widget": {
      "columnWidths": {
       "[Measures].[Quantity Sold.SUM]": 132,
       "[Measures].[Sales (sum)]": 117,
       "[Measures].[Sales (sv)]": 83,
       "[Measures].[Selling Price Per Unit.SUM]": 174,
       "[Measures].[Selling Price Per Unit]": 144,
       "[Measures].[_ProfitPerUnit (sum)]": 129,
       "[Orders].[Order Date].[Order Date]": 87,
       "[Products].[Product Tree].[ProductCategory]": 122,
       "[Products].[Product Tree].[ProductName]": 139
      },
      "mapping": {
       "columns": [
        "ALL_MEASURES"
       ],
       "measures": [
        "[Measures].[Quantity Sold.SUM]",
        "[Measures].[Selling Price Per Unit.SUM]",
        "[Measures].[Sales (sum)]",
        "[Measures].[Selling Price Per Unit]",
        "[Measures].[Sales (sv)]"
       ],
       "rows": [
        "[Orders].[Order Date].[Order Date]",
        "[Products].[Product Tree].[ProductCategory] => [Products].[Product Tree].[ProductName] => [Orders].[Order Id].[Order Id]"
       ]
      },
      "query": {
       "mdx": "SELECT NON EMPTY Hierarchize(Union(Crossjoin(Hierarchize(Descendants({[Orders].[Order Date].[AllMember]}, 1, SELF_AND_BEFORE)), Hierarchize(Descendants({[Products].[Product Tree].[AllMember]}, 1, SELF_AND_BEFORE))), Crossjoin([Orders].[Order Date].[AllMember].[2019-02-15], Descendants({[Products].[Product Tree].[AllMember].[Beverages]}, [Products].[Product Tree].[ProductName])))) ON ROWS, NON EMPTY {[Measures].[Quantity Sold.SUM], [Measures].[Selling Price Per Unit.SUM], [Measures].[Sales (sum)], [Measures].[Selling Price Per Unit], [Measures].[Sales (sv)]} ON COLUMNS FROM [Order Cube] CELL PROPERTIES VALUE, FORMATTED_VALUE, BACK_COLOR, FORE_COLOR, FONT_FLAGS",
       "updateMode": "once"
      },
      "serverKey": "default",
      "widgetKey": "pivot-table"
     }
    },
    "tags": []
   },
   "outputs": [],
   "source": [
    "session.widget"
   ]
  },
  {
   "cell_type": "markdown",
   "id": "29021e30-6edd-4446-99b8-c8a8850d3325",
   "metadata": {
    "tags": []
   },
   "source": [
    "__Alternative aggregation function__\n",
    "\n",
    "💡 Instead of chaining up two measures, we can also make use of the aggregation function [`sum_product`](https://docs.atoti.io/latest/api/atoti.agg.sum_product.html)."
   ]
  },
  {
   "cell_type": "code",
   "execution_count": null,
   "id": "d91b353a-7846-4391-9755-be5d1fea0a16",
   "metadata": {
    "tags": []
   },
   "outputs": [],
   "source": [
    "m[\"ProdSum Proft\"] = tt.agg.sum_product(\n",
    "    m[\"_ProfitPerUnit (sum)\"],\n",
    "    m[\"Quantity Sold.SUM\"],\n",
    "    scope=tt.OriginScope(levels={l[\"Order Id\"]}),\n",
    ")"
   ]
  },
  {
   "cell_type": "code",
   "execution_count": null,
   "id": "b7e3e985-9455-42eb-b1e1-425f45a19030",
   "metadata": {
    "atoti": {
     "height": 321,
     "widget": {
      "columnWidths": {
       "[Measures].[Aggregated Profit]": 125,
       "[Measures].[ProdSum Proft]": 108,
       "[Measures].[Profit]": 106,
       "[Measures].[Quantity Sold.SUM]": 132,
       "[Measures].[Selling Price Per Unit.SUM]": 159,
       "[Measures].[_ProfitPerUnit (sum)]": 141,
       "[Orders].[Order Date].[Order Date]": 87,
       "[Products].[Product Tree].[ProductCategory]": 122,
       "[Products].[Product Tree].[ProductName]": 139
      },
      "mapping": {
       "columns": [
        "ALL_MEASURES"
       ],
       "measures": [
        "[Measures].[_ProfitPerUnit (sum)]",
        "[Measures].[Quantity Sold.SUM]",
        "[Measures].[Profit]",
        "[Measures].[Aggregated Profit]",
        "[Measures].[ProdSum Proft]"
       ],
       "rows": [
        "[Orders].[Order Date].[Order Date]",
        "[Products].[Product Tree].[ProductCategory] => [Products].[Product Tree].[ProductName] => [Orders].[Order Id].[Order Id]"
       ]
      },
      "query": {
       "mdx": "SELECT NON EMPTY Hierarchize(Union(Crossjoin(Hierarchize(Descendants({[Orders].[Order Date].[AllMember]}, 1, SELF_AND_BEFORE)), Hierarchize(Descendants({[Products].[Product Tree].[AllMember]}, 1, SELF_AND_BEFORE))), Crossjoin([Orders].[Order Date].[AllMember].[2019-02-15], Descendants({[Products].[Product Tree].[AllMember].[Beverages]}, [Products].[Product Tree].[ProductName])))) ON ROWS, NON EMPTY {[Measures].[_ProfitPerUnit (sum)], [Measures].[Quantity Sold.SUM], [Measures].[Profit], [Measures].[Aggregated Profit], [Measures].[ProdSum Proft]} ON COLUMNS FROM [Order Cube] CELL PROPERTIES VALUE, FORMATTED_VALUE, BACK_COLOR, FORE_COLOR, FONT_FLAGS",
       "updateMode": "once"
      },
      "serverKey": "default",
      "widgetKey": "pivot-table"
     }
    },
    "tags": []
   },
   "outputs": [],
   "source": [
    "session.widget"
   ]
  },
  {
   "cell_type": "markdown",
   "id": "4d7f9bcd-7614-48fa-ba92-aa68de64f4ed",
   "metadata": {},
   "source": [
    "##### 📐Exercise  \n",
    "\n",
    "The key value of multidimensional analysis to the ability to gather insights from different perspective. In the below visualization, expand on `Shipper Name` level and verify the correctness of the `Aggregated Profit` value.  "
   ]
  },
  {
   "cell_type": "code",
   "execution_count": null,
   "id": "a48336b9-5597-4eb6-8a4c-a68c34d0fe42",
   "metadata": {
    "atoti": {
     "height": 441,
     "widget": {
      "columnWidths": {
       "[Measures].[Aggregated Profit]": 125,
       "[Measures].[Profit]": 106,
       "[Measures].[Quantity Sold.SUM]": 132,
       "[Measures].[_ProfitPerUnit (sum)]": 141,
       "[Orders].[Order Date].[Order Date]": 87,
       "[Orders].[Shipper Name].[Shipper Name]": 114
      },
      "mapping": {
       "columns": [
        "ALL_MEASURES"
       ],
       "measures": [
        "[Measures].[_ProfitPerUnit (sum)]",
        "[Measures].[Quantity Sold.SUM]",
        "[Measures].[Profit]",
        "[Measures].[Aggregated Profit]"
       ],
       "rows": [
        "[Orders].[Order Date].[Order Date]",
        "[Orders].[Shipper Name].[Shipper Name] => [Orders].[Order Id].[Order Id]"
       ]
      },
      "name": "Sales by shipper",
      "query": {
       "mdx": "SELECT NON EMPTY Hierarchize(Crossjoin(Hierarchize(Descendants({[Orders].[Order Date].[AllMember]}, 1, SELF_AND_BEFORE)), Hierarchize(Descendants({[Orders].[Shipper Name].[AllMember]}, 1, SELF_AND_BEFORE)))) ON ROWS, NON EMPTY {[Measures].[_ProfitPerUnit (sum)], [Measures].[Quantity Sold.SUM], [Measures].[Profit], [Measures].[Aggregated Profit]} ON COLUMNS FROM [Order Cube] CELL PROPERTIES VALUE, FORMATTED_VALUE, BACK_COLOR, FORE_COLOR, FONT_FLAGS",
       "updateMode": "once"
      },
      "serverKey": "default",
      "widgetKey": "pivot-table"
     }
    },
    "tags": []
   },
   "outputs": [],
   "source": [
    "session.widget"
   ]
  },
  {
   "cell_type": "markdown",
   "id": "a91010e0-ac61-4049-99eb-f3a45b6aa610",
   "metadata": {},
   "source": [
    "##### 📖 Solution  \n",
    "\n",
    "The value `Profit` is computed correctly at the most granular level, which is the `Order Id` in this case. Since we are performing summation for any levels above `Order Id` as defined using the `OriginScope`, we are able to achieve the total sales by \"Shipper Name\".  \n",
    "\n",
    "Again, this demonstrates the aggregation on the fly capability of Atoti. Regardless of the levels that we are querying, we will sum up the `Profit` value from the most underlying `Order Id` level at query time.  "
   ]
  },
  {
   "cell_type": "markdown",
   "id": "fe8d75a3-5621-4694-be60-569950bac412",
   "metadata": {},
   "source": [
    "##### 6.2.2.4.2 Cumulative Scope"
   ]
  },
  {
   "cell_type": "markdown",
   "id": "183eb8c8-594d-42f9-9c8c-93f5ae993f28",
   "metadata": {},
   "source": [
    "In data analytics, it is common to compute running totals. In Atoti, we make use of [`CumulativeScope`](https://docs.atoti.io/latest/api/atoti.CumulativeScope.html) to achieve cumulative aggregations, or running totals:\n",
    "\n",
    "Let's see how we can get the running total across the `Order Date`."
   ]
  },
  {
   "cell_type": "code",
   "execution_count": null,
   "id": "817a220d-384a-49c1-a232-ad61254954fa",
   "metadata": {},
   "outputs": [],
   "source": [
    "m[\"Cumulative Profit\"] = tt.agg.sum(\n",
    "    m[\"Aggregated Profit\"],\n",
    "    scope=tt.CumulativeScope(level=l[(\"Orders\", \"Date Hierarchy\", \"Order Date\")]),\n",
    ")"
   ]
  },
  {
   "cell_type": "code",
   "execution_count": null,
   "id": "6001dabb-7fb7-4326-8468-65fe57389edb",
   "metadata": {
    "atoti": {
     "height": 295,
     "widget": {
      "columnWidths": {
       "[Measures].[Aggregated Profit (sv)]": 140,
       "[Measures].[Aggregated Profit]": 125,
       "[Measures].[Aggregated Sales (sv)]": 138,
       "[Measures].[Cumulative Profit (sv)]": 137,
       "[Measures].[Cumulative Profit]": 122,
       "[Measures].[Cumulative Sales (sv)]": 135,
       "[Orders].[Date Hierarchy].[Month]": 65,
       "[Orders].[Date Hierarchy].[Order Date]": 104,
       "[Orders].[Date Hierarchy].[Year]": 65
      },
      "mapping": {
       "columns": [
        "ALL_MEASURES"
       ],
       "measures": [
        "[Measures].[Aggregated Profit]",
        "[Measures].[Cumulative Profit]"
       ],
       "rows": [
        "[Orders].[Date Hierarchy].[Year] => [Orders].[Date Hierarchy].[Order Date]"
       ]
      },
      "query": {
       "mdx": "SELECT NON EMPTY Hierarchize(Union(Descendants({[Orders].[Date Hierarchy].[AllMember]}, 1, SELF_AND_BEFORE), Descendants({[Orders].[Date Hierarchy].[AllMember].[2019]}, [Orders].[Date Hierarchy].[Month]), Descendants({[Orders].[Date Hierarchy].[ALL].[AllMember].[2019].[02]}, [Orders].[Date Hierarchy].[Order Date]))) ON ROWS, NON EMPTY {[Measures].[Aggregated Profit], [Measures].[Cumulative Profit]} ON COLUMNS FROM [Order Cube] CELL PROPERTIES VALUE, FORMATTED_VALUE, BACK_COLOR, FORE_COLOR, FONT_FLAGS",
       "updateMode": "once"
      },
      "serverKey": "default",
      "widgetKey": "pivot-table"
     }
    },
    "tags": []
   },
   "outputs": [],
   "source": [
    "session.widget"
   ]
  },
  {
   "cell_type": "markdown",
   "id": "6393065f-ca6a-49a0-b08c-0b5cabb5e26b",
   "metadata": {},
   "source": [
    "We can verify that the `Cumulative Profit` measure is indeed cumulating the value of the `Aggregated Profit` measure:  \n",
    "\n",
    "<img src=\"https://data.atoti.io/atoti-academy/images/introduction/6_cumulative_totals.png\"/>"
   ]
  },
  {
   "cell_type": "markdown",
   "id": "bb07ea13-ea3f-4e9e-8bed-e7d334d533b8",
   "metadata": {},
   "source": [
    "Now, let's load data from another month to see what happens to our running total:"
   ]
  },
  {
   "cell_type": "code",
   "execution_count": null,
   "id": "ce3b7e38-54fe-4613-a7b9-12ca5ec69969",
   "metadata": {
    "tags": []
   },
   "outputs": [],
   "source": [
    "orders_tbl.load(\n",
    "    tt.CsvLoad(\n",
    "        \"s3://data.atoti.io/atoti-academy/data/Orders-adhoc.csv\",\n",
    "        columns={\n",
    "            \"OrderId\": \"Order Id\",\n",
    "            \"OrderDate\": \"Order Date\",\n",
    "            \"QuantitySold\": \"Quantity Sold\",\n",
    "            \"SellingPricePerUnit\": \"Selling Price Per Unit\",\n",
    "            \"ShipperName\": \"Shipper Name\",\n",
    "            \"ProductId\": \"Product Id\",\n",
    "        },\n",
    "        date_patterns={\"Order Date\": \"dd/M/yyyy\"},\n",
    "    )\n",
    ")"
   ]
  },
  {
   "cell_type": "markdown",
   "id": "b208982f-c04a-45ee-bf88-8e5a843a0cdf",
   "metadata": {},
   "source": [
    "Working with cumulative on multi-level hierarchies, we get our bucketed cumulative values.  \n",
    "\n",
    "We can see that the running total starts from the first order date `2019-02-15` and continues until the last date on `2019-03-18`. By collapsing the `Order Date` level from the `Month` level, we get a monthly cumulative total. In a similar manner, we also obtained our yearly cumulative total.  "
   ]
  },
  {
   "cell_type": "code",
   "execution_count": null,
   "id": "2092b7fa-6d08-4f5f-9903-32e1718b64ea",
   "metadata": {
    "atoti": {
     "height": 506,
     "widget": {
      "columnWidths": {
       "[Measures].[Aggregated Profit]": 125,
       "[Measures].[Aggregated Sales (sv)]": 138,
       "[Measures].[Cumulative Profit]": 122,
       "[Measures].[Cumulative Sales (sv)]": 135,
       "[Orders].[Date Hierarchy].[Month]": 65,
       "[Orders].[Date Hierarchy].[Order Date]": 104,
       "[Orders].[Date Hierarchy].[Year]": 65
      },
      "mapping": {
       "columns": [
        "ALL_MEASURES"
       ],
       "measures": [
        "[Measures].[Aggregated Profit]",
        "[Measures].[Cumulative Profit]"
       ],
       "rows": [
        "[Orders].[Date Hierarchy].[Year] => [Orders].[Date Hierarchy].[Order Date]"
       ]
      },
      "name": "Bucketed running total",
      "query": {
       "mdx": "SELECT NON EMPTY {[Measures].[Aggregated Profit], [Measures].[Cumulative Profit]} ON COLUMNS, NON EMPTY Hierarchize(Union(Descendants({[Orders].[Date Hierarchy].[AllMember]}, 1, SELF_AND_BEFORE), Descendants({[Orders].[Date Hierarchy].[AllMember].[2019]}, [Orders].[Date Hierarchy].[Month]), Descendants({[Orders].[Date Hierarchy].[AllMember].[2019].[03]}, [Orders].[Date Hierarchy].[Order Date]), Descendants({[Orders].[Date Hierarchy].[AllMember].[2019].[02]}, [Orders].[Date Hierarchy].[Order Date]))) ON ROWS FROM [Order Cube] CELL PROPERTIES VALUE, FORMATTED_VALUE, BACK_COLOR, FORE_COLOR, FONT_FLAGS",
       "updateMode": "once"
      },
      "serverKey": "default",
      "widgetKey": "pivot-table"
     }
    },
    "tags": []
   },
   "outputs": [],
   "source": [
    "session.widget"
   ]
  },
  {
   "cell_type": "markdown",
   "id": "4ab8b84b-9eaf-4120-a260-6edfb9ccb752",
   "metadata": {},
   "source": [
    "__Reset cumulative total__  \n",
    "\n",
    "We can reset the cumulative total for a certain level by using the `partitioning` parameter of the `CumulativeScope` function. Let's update the definition of our `Cumulative Profit` measure.  "
   ]
  },
  {
   "cell_type": "code",
   "execution_count": null,
   "id": "0c611b8f-0eff-4693-acaf-c006c5d9ea41",
   "metadata": {
    "tags": []
   },
   "outputs": [],
   "source": [
    "m[\"Cumulative Profit\"] = tt.agg.sum(\n",
    "    m[\"Aggregated Profit\"],\n",
    "    scope=tt.CumulativeScope(\n",
    "        level=l[(\"Orders\", \"Date Hierarchy\", \"Order Date\")], partitioning=l[\"Year\"]\n",
    "    ),\n",
    ")"
   ]
  },
  {
   "cell_type": "code",
   "execution_count": null,
   "id": "a7894842-02bd-4387-9adc-9a1d2134f2e4",
   "metadata": {
    "atoti": {
     "height": 232,
     "widget": {
      "columnWidths": {
       "[Measures].[Aggregated Profit (sv)]": 140,
       "[Measures].[Aggregated Profit]": 125,
       "[Measures].[Aggregated Sales (sv)]": 138,
       "[Measures].[Cumulative Profit (sv)]": 137,
       "[Measures].[Cumulative Profit]": 122,
       "[Measures].[Cumulative Sales (sv)]": 135,
       "[Orders].[Date Hierarchy].[Month]": 65,
       "[Orders].[Date Hierarchy].[Year]": 65
      },
      "mapping": {
       "columns": [
        "ALL_MEASURES"
       ],
       "measures": [
        "[Measures].[Aggregated Profit]",
        "[Measures].[Cumulative Profit]"
       ],
       "rows": [
        "[Orders].[Date Hierarchy].[Year] => [Orders].[Date Hierarchy].[Month]"
       ]
      },
      "name": "Cumulative total reset on yearly basis",
      "query": {
       "mdx": "SELECT NON EMPTY Hierarchize(Union(Descendants({[Orders].[Date Hierarchy].[AllMember]}, 1, SELF_AND_BEFORE), Descendants({[Orders].[Date Hierarchy].[AllMember].[2019]}, [Orders].[Date Hierarchy].[Month]))) ON ROWS, NON EMPTY {[Measures].[Aggregated Profit], [Measures].[Cumulative Profit]} ON COLUMNS FROM [Order Cube] CELL PROPERTIES VALUE, FORMATTED_VALUE, BACK_COLOR, FORE_COLOR, FONT_FLAGS",
       "updateMode": "once"
      },
      "serverKey": "default",
      "widgetKey": "pivot-table"
     }
    },
    "tags": []
   },
   "outputs": [],
   "source": [
    "session.widget"
   ]
  },
  {
   "cell_type": "markdown",
   "id": "bb5002d8-3a70-4080-8a27-780015692183",
   "metadata": {},
   "source": [
    "⚠️ We cumulate the `Aggregated Profit` along the level identified by `l[(\"Orders\", \"Date Hierarchy\", \"Order Date\")]`. As explained in earlier sections, even though both `l[(\"Orders\", \"Date Hierarchy\", \"Order Date\")]` and `l[(\"Orders\", \"Order Date\", \"Order Date\")]` originates from the same data column, they are treated as two different levels. Therefore, the measure definition for `Cumulative Profit` does not applies to the `l[(\"Orders\", \"Order Date\", \"Order Date\")]` level. \n",
    "\n",
    "<img src=\"https://data.atoti.io/atoti-academy/images/introduction/6_date_path.png\" />\n",
    "\n",
    "Without a surprise, we will not have any values for `Cumulative Profit` when we query it along the `l[(\"Orders\", \"Order Date\", \"Order Date\")]` as shown below:"
   ]
  },
  {
   "cell_type": "code",
   "execution_count": null,
   "id": "b7cc0cbb-ef06-4b86-8660-a27e8e15f004",
   "metadata": {
    "atoti": {
     "height": 271,
     "widget": {
      "columnWidths": {
       "[Measures].[Aggregated Sales (sv)]": 138,
       "[Measures].[Cumulative Sales (sv)]": 135
      },
      "mapping": {
       "columns": [
        "ALL_MEASURES"
       ],
       "measures": [
        "[Measures].[Aggregated Profit]",
        "[Measures].[Cumulative Profit]"
       ],
       "rows": [
        "[Orders].[Order Date].[Order Date]"
       ]
      },
      "name": "Cumulative profit not available",
      "query": {
       "mdx": "SELECT NON EMPTY Hierarchize(Descendants({[Orders].[Order Date].[AllMember]}, 1, SELF_AND_BEFORE)) ON ROWS, NON EMPTY {[Measures].[Aggregated Profit], [Measures].[Cumulative Profit]} ON COLUMNS FROM [Order Cube] CELL PROPERTIES VALUE, FORMATTED_VALUE, BACK_COLOR, FORE_COLOR, FONT_FLAGS",
       "updateMode": "once"
      },
      "serverKey": "default",
      "widgetKey": "pivot-table"
     }
    },
    "tags": []
   },
   "outputs": [],
   "source": [
    "session.widget"
   ]
  },
  {
   "cell_type": "markdown",
   "id": "4347f11b-70ea-4c9f-91ad-9fedee240804",
   "metadata": {},
   "source": [
    "Create a separate measure to accumulate along the `l[(\"Orders\", \"Order Date\", \"Order Date\")]` if necessary.  "
   ]
  },
  {
   "cell_type": "markdown",
   "id": "7640412e-985c-4bdb-b587-c574ac6f078f",
   "metadata": {},
   "source": [
    "##### 6.2.2.4.3 Sibling Scope"
   ]
  },
  {
   "cell_type": "markdown",
   "id": "623dc01f-4d1a-4792-af2c-0a4bd1075f20",
   "metadata": {},
   "source": [
    "There are times when we want to perform aggregation with members of the same levels. Members of the same level are referred to as siblings, as they have the same parent level. In such cases, we will use [`SiblingScope`](https://docs.atoti.io/latest/api/atoti.SiblingsScope.html) to do so.  \n",
    "\n",
    "Unlike the other two scope functions, `SiblingScope` works on hierarchies. In the below example, we look at the maximum profit within each level in the `Date Hierarchy`.  "
   ]
  },
  {
   "cell_type": "code",
   "execution_count": null,
   "id": "b643a13e-58c0-4e4a-a683-7bc379325a6d",
   "metadata": {
    "tags": []
   },
   "outputs": [],
   "source": [
    "m[\"Max profit\"] = tt.agg.max(\n",
    "    m[\"Aggregated Profit\"], scope=tt.SiblingsScope(hierarchy=h[\"Date Hierarchy\"])\n",
    ")"
   ]
  },
  {
   "cell_type": "code",
   "execution_count": null,
   "id": "4387fad8-0842-4d66-ad5f-5c90063b842c",
   "metadata": {
    "atoti": {
     "height": 448,
     "widget": {
      "columnWidths": {
       "[Measures].[Aggregated Profit (sv)]": 140,
       "[Measures].[Aggregated Profit]": 125,
       "[Measures].[Aggregated Sales (sv)]": 138,
       "[Measures].[Max profit]": 95,
       "[Orders].[Date Hierarchy].[Month]": 65,
       "[Orders].[Date Hierarchy].[Order Date]": 104,
       "[Orders].[Date Hierarchy].[Year]": 65
      },
      "mapping": {
       "columns": [
        "ALL_MEASURES"
       ],
       "measures": [
        "[Measures].[Aggregated Profit]",
        "[Measures].[Max profit]"
       ],
       "rows": [
        "[Orders].[Date Hierarchy].[Year] => [Orders].[Date Hierarchy].[Order Date]"
       ]
      },
      "query": {
       "mdx": "SELECT NON EMPTY Order(Hierarchize(Union(Descendants({[Orders].[Date Hierarchy].[AllMember]}, 1, SELF_AND_BEFORE), Descendants({[Orders].[Date Hierarchy].[AllMember].[2019]}, [Orders].[Date Hierarchy].[Month]), Descendants({[Orders].[Date Hierarchy].[AllMember].[2019].[02]}, [Orders].[Date Hierarchy].[Order Date]), Descendants({[Orders].[Date Hierarchy].[AllMember].[2019].[03]}, [Orders].[Date Hierarchy].[Order Date]))), [Measures].[Aggregated Sales (sv)], DESC) ON ROWS, NON EMPTY {[Measures].[Aggregated Profit], [Measures].[Max profit]} ON COLUMNS FROM [Order Cube] CELL PROPERTIES VALUE, FORMATTED_VALUE, BACK_COLOR, FORE_COLOR, FONT_FLAGS",
       "updateMode": "once"
      },
      "serverKey": "default",
      "widgetKey": "pivot-table"
     }
    },
    "tags": []
   },
   "outputs": [],
   "source": [
    "session.widget"
   ]
  },
  {
   "cell_type": "markdown",
   "id": "98ee7406-e4aa-4cb0-983c-aad9c7b05f23",
   "metadata": {},
   "source": [
    "A few key points:\n",
    "\n",
    "* At the `Order Date` level: We see that the maximum profit in Feb 2019 is `548,588.54` across the 4 dates. Likewise, in Mar 2019, the maximum sales is `548,588.54`.  \n",
    "* At the `Month` level: Comparing Feb and Mar in 2019, Feb has the higher profit value of `1,814,408.23`.  \n",
    "* At the `Year` level: Comparing the profit of 2019 and 2020, 2019 has the higher profit value of `3,616,995.21`.  \n",
    "\n",
    "At the grand total level, it displays the total profit value across `2019` and `2020`."
   ]
  },
  {
   "cell_type": "markdown",
   "id": "8c2a72b5-f389-45bc-930f-e1a96c7cae7f",
   "metadata": {},
   "source": [
    "##### 6.2.2.4.4 Multidimensional Aggregations & Scope"
   ]
  },
  {
   "cell_type": "markdown",
   "id": "a7ca8b07-d2a5-439a-bfb9-09f78dc106c3",
   "metadata": {},
   "source": [
    "Let's explore another use case where scope is extremely useful when we have different aggregation behavior for the same measure, along different dimensions. We will compute the historical average of sales profit where it is:  \n",
    "\n",
    "1. Sum of profits across products which we have previously computed `m[\"Aggregated Profit\"]`.\n",
    "2. Average across dates."
   ]
  },
  {
   "cell_type": "markdown",
   "id": "2e883ba0-8bf1-4781-b683-062ae73ca776",
   "metadata": {},
   "source": [
    "The formula looks like this:  \n",
    "\n",
    "$$ \\frac{\\sum AggregatedProfit_{Products}}{DateCount}\\ $$"
   ]
  },
  {
   "cell_type": "markdown",
   "id": "56ce9e66-c4b8-4a2c-9b28-be70b5f4a54b",
   "metadata": {},
   "source": [
    "In the below cell, we explore the [`atoti.agg.mean`](https://docs.atoti.io/latest/api/atoti.agg.mean.html#atoti-agg-mean) function across the two `Order Date` levels to see what happens."
   ]
  },
  {
   "cell_type": "code",
   "execution_count": null,
   "id": "53761293-6285-418d-bff6-1ea88c63d753",
   "metadata": {
    "tags": []
   },
   "outputs": [],
   "source": [
    "# \"Order Date\" hierarchy\n",
    "m[\"Average Daily Profit (od)\"] = tt.agg.mean(\n",
    "    m[\"Aggregated Profit\"],\n",
    "    scope=tt.OriginScope(levels={l[(\"Orders\", \"Order Date\", \"Order Date\")]}),\n",
    ")\n",
    "\n",
    "# \"Date Hierarchy\" hierarchy\n",
    "m[\"Average Daily Profit (dh)\"] = tt.agg.mean(\n",
    "    m[\"Aggregated Profit\"],\n",
    "    scope=tt.OriginScope(levels={l[(\"Orders\", \"Date Hierarchy\", \"Order Date\")]}),\n",
    ")"
   ]
  },
  {
   "cell_type": "markdown",
   "id": "5abc95f7-6b94-4bda-a9ee-1b0d63cae07d",
   "metadata": {},
   "source": [
    "In fact, the average daily profit gives the same results regardless of which `Order Date` level is indicated in the scope. This is because for any levels that we queried, it will take the average of the profit value at `Order Date` level and apply the average for the level above.  "
   ]
  },
  {
   "cell_type": "code",
   "execution_count": null,
   "id": "300616ab-70e0-43d4-af2d-4c28b471016c",
   "metadata": {
    "atoti": {
     "height": 472,
     "widget": {
      "columnWidths": {
       "[Measures].[Average Daily Profit (dh)]": 153,
       "[Measures].[Average Daily Profit (od)]": 153
      },
      "mapping": {
       "columns": [
        "ALL_MEASURES"
       ],
       "measures": [
        "[Measures].[Aggregated Profit]",
        "[Measures].[Average Daily Profit (od)]",
        "[Measures].[Average Daily Profit (dh)]"
       ],
       "rows": [
        "[Products].[ProductName].[ProductName] => [Orders].[Order Date].[Order Date] => [Orders].[Order Id].[Order Id]"
       ]
      },
      "name": "Average daily profit - Row-based representation",
      "query": {
       "mdx": "SELECT NON EMPTY Hierarchize(Union(Crossjoin(Descendants({[Products].[ProductName].[AllMember]}, 1, SELF_AND_BEFORE), [Orders].[Order Date].DefaultMember, [Orders].[Order Id].DefaultMember), Crossjoin([Products].[ProductName].[AllMember].[Boston Crab Meat], Hierarchize(Descendants({[Orders].[Order Date].[AllMember]}, 1, SELF_AND_BEFORE)), [Orders].[Order Id].DefaultMember), Crossjoin([Products].[ProductName].[AllMember].[Boston Crab Meat], [Orders].[Order Date].[AllMember].[2019-02-17], Hierarchize(Descendants({[Orders].[Order Id].[AllMember]}, 1, SELF_AND_BEFORE))))) ON ROWS, NON EMPTY {[Measures].[Aggregated Profit], [Measures].[Average Daily Profit (od)], [Measures].[Average Daily Profit (dh)]} ON COLUMNS FROM [Order Cube] CELL PROPERTIES VALUE, FORMATTED_VALUE, BACK_COLOR, FORE_COLOR, FONT_FLAGS",
       "updateMode": "once"
      },
      "serverKey": "default",
      "widgetKey": "pivot-table"
     }
    },
    "tags": []
   },
   "outputs": [],
   "source": [
    "session.widget"
   ]
  },
  {
   "cell_type": "markdown",
   "id": "3314c9d9-1019-498a-94ed-b969e7c5a7ee",
   "metadata": {},
   "source": [
    "In the above visualization, we have summation for the `Order Id` level. However, for the levels above `Order Id`, i.e. `Order Date` and `ProductName`, we have the mean aggregations. This may get confusing for some end-users.  \n",
    "\n",
    "A better way to represent our Pivot table when we have different aggregations across different dimensions is to have consistent aggregation on columns and rows where possible. In the visualization below, we sum up the Profits across the `Order Id` for each product (column-wise); and we take the average of the profit across the dates (row-wise).  "
   ]
  },
  {
   "cell_type": "code",
   "execution_count": null,
   "id": "993fc790-97df-4f2e-af99-fb5e1b92e06a",
   "metadata": {
    "atoti": {
     "height": 294,
     "widget": {
      "columnWidths": {
       "[Measures].[Aggregated Profit]": 119,
       "[Measures].[Average Daily Profit (od)]": 153,
       "[Measures].[Average Daily Profit (od)],[Orders].[Order Date].[AllMember]": 149,
       "[Orders].[Order Date].[AllMember],[Measures].[Aggregated Profit]": 119,
       "[Orders].[Order Date].[AllMember],[Measures].[Average Daily Profit (od)]": 153
      },
      "filters": [
       {
        "dimensionName": "Orders",
        "hierarchyName": "Order Date",
        "isExclusionFilter": false,
        "members": [
         [
          "AllMember",
          "2019-02-15"
         ],
         [
          "AllMember",
          "2019-02-16"
         ],
         [
          "AllMember",
          "2019-02-17"
         ],
         [
          "AllMember",
          "2019-02-18"
         ]
        ],
        "type": "members"
       }
      ],
      "mapping": {
       "columns": [
        "ALL_MEASURES",
        "[Orders].[Order Date].[Order Date]"
       ],
       "measures": [
        "[Measures].[Average Daily Profit (od)]"
       ],
       "rows": [
        "[Products].[ProductName].[ProductName] => [Orders].[Order Id].[Order Id]"
       ]
      },
      "name": "Dimension wise aggregation - summation on columns, mean on rows",
      "query": {
       "mdx": "SELECT NON EMPTY Hierarchize(Union(Crossjoin(Descendants({[Products].[ProductName].[AllMember]}, 1, SELF_AND_BEFORE), [Orders].[Order Id].DefaultMember), Crossjoin([Products].[ProductName].[AllMember].[Alice Mutton], Hierarchize(Descendants({[Orders].[Order Id].[AllMember]}, 1, SELF_AND_BEFORE))))) ON ROWS, NON EMPTY Crossjoin({[Measures].[Average Daily Profit (od)]}, Hierarchize(Descendants({[Orders].[Order Date].[AllMember]}, 1, SELF_AND_BEFORE))) ON COLUMNS FROM [Order Cube] CELL PROPERTIES VALUE, FORMATTED_VALUE, BACK_COLOR, FORE_COLOR, FONT_FLAGS",
       "updateMode": "once"
      },
      "serverKey": "default",
      "widgetKey": "pivot-table"
     }
    },
    "tags": []
   },
   "outputs": [],
   "source": [
    "session.widget"
   ]
  },
  {
   "cell_type": "markdown",
   "id": "481ab309-6245-46d8-8e8c-34811fa660f5",
   "metadata": {},
   "source": [
    "By toggling the view to have the `Order Date` on the columns, we can see that there are missing data points on the timeline. Now, the `mean` function takes the average over the number of members, which means that it only considers the days where there are orders accounted for. However, in our case, we needed the profit to be divided by the total number of days within the given period.  \n",
    "\n",
    "Let's see how we manage aggregation over sparse data in such cases. "
   ]
  },
  {
   "cell_type": "markdown",
   "id": "a6c1008a-fca2-40b6-853c-659d69bfbc61",
   "metadata": {},
   "source": [
    "##### 6.2.2.4.2 Managing total counts over sparse data"
   ]
  },
  {
   "cell_type": "markdown",
   "id": "37bf2707-ea5a-4eb2-aa54-7dbb0b04aa8a",
   "metadata": {},
   "source": [
    "Sometimes, it's all about creativity. There are many ways to chain up different measures to achieve the results we wanted, for example:\n",
    "\n",
    "1. Count the number of days. Then we divide profit by the total number of days.  \n",
    "2. We force a value, e.g. 0, for each day in the period and take the mean of the profit.   "
   ]
  },
  {
   "cell_type": "markdown",
   "id": "fdae9ac7-3188-4dca-931c-e2f5f5cc4eb6",
   "metadata": {},
   "source": [
    "__1. Profit / Day count method__\n",
    "\n",
    "Let's look at how we can achieve the first method.  \n",
    "\n",
    "By making use of the aggregate function [`atoti.agg.count_distinct`](https://docs.atoti.io/latest/api/atoti.agg.count_distinct.html#atoti-agg-count-distinct), we can count the number of distinct days in the queried levels.  "
   ]
  },
  {
   "cell_type": "code",
   "execution_count": null,
   "id": "3ca83b00-9bcf-423e-8923-d4f0a9f42fc2",
   "metadata": {
    "tags": []
   },
   "outputs": [],
   "source": [
    "m[\"Total Days\"] = tt.agg.count_distinct(orders_tbl[\"Order Date\"])"
   ]
  },
  {
   "cell_type": "markdown",
   "id": "f1b922d9-79b1-48b1-80e9-2366e925a1d6",
   "metadata": {},
   "source": [
    "However, what we want is the distinct date count across all the levels, which is the grand total of our `distinct_count` measure. Therefore, we make use of the function [`atoti.total`](https://docs.atoti.io/latest/api/atoti.total.html#atoti-total) to apply the grand total value to the level below, i.e. the `ProductName` level.   \n",
    "\n",
    "However, some products may not be sold on a given day. So, when we query these products, the days counted will be lesser than the span of days we are looking at across all products. What we want is in fact, the number of distinct dates where we have at least an order placed, regardless of the products. If we look at a product level, we would count less days these products, compared to the actual number of days, counted across all products. Here, what we want is the distinct date count across all the levels, which is the grand total of our distinct_count measure."
   ]
  },
  {
   "cell_type": "code",
   "execution_count": null,
   "id": "6a5f506d-90e4-47bc-b91b-2950c9e40f9d",
   "metadata": {
    "tags": []
   },
   "outputs": [],
   "source": [
    "m[\"Total Day Count\"] = tt.total(m[\"Total Days\"], h[\"ProductName\"])"
   ]
  },
  {
   "cell_type": "markdown",
   "id": "5e0e74f3-21b2-4ad9-9547-33cc2be44696",
   "metadata": {},
   "source": [
    "Finally, we divide the profit over the total day count.  "
   ]
  },
  {
   "cell_type": "code",
   "execution_count": null,
   "id": "fe5f75a2-cc68-41be-9a9d-d5969b2ec039",
   "metadata": {
    "tags": []
   },
   "outputs": [],
   "source": [
    "# average daily profit computed using the day count method\n",
    "m[\"Average Daily Profit (dc)\"] = m[\"Aggregated Profit\"] / m[\"Total Day Count\"]"
   ]
  },
  {
   "cell_type": "code",
   "execution_count": null,
   "id": "d55e3009-7500-47c9-8de0-4777013e85ef",
   "metadata": {
    "atoti": {
     "height": 373,
     "widget": {
      "columnWidths": {
       "[Measures].[Historical Daily Profit]": 135,
       "[Orders].[Order Date].[AllMember],[Measures].[Aggregated Profit]": 125,
       "[Orders].[Order Date].[AllMember],[Measures].[Average Daily Profit (dc)]": 163,
       "[Orders].[Order Date].[AllMember],[Measures].[Historical Daily Profit]": 135,
       "[Orders].[Order Date].[AllMember],[Measures].[Total Day Count]": 115,
       "[Orders].[Order Date].[AllMember],[Measures].[Total Days]": 84,
       "[Orders].[Order Date].[AllMember].[2019-02-15],[Measures].[Aggregated Profit]": 125,
       "[Orders].[Order Date].[AllMember].[2019-02-15],[Measures].[Average Daily Profit (dc)]": 163,
       "[Orders].[Order Date].[AllMember].[2019-02-15],[Measures].[Total Day Count]": 115,
       "[Orders].[Order Date].[AllMember].[2019-02-15],[Measures].[Total Days]": 92,
       "[Orders].[Order Date].[AllMember].[2019-02-16],[Measures].[Aggregated Profit]": 125,
       "[Orders].[Order Date].[AllMember].[2019-02-16],[Measures].[Average Daily Profit (dc)]": 163,
       "[Orders].[Order Date].[AllMember].[2019-02-16],[Measures].[Total Day Count]": 115,
       "[Orders].[Order Date].[AllMember].[2019-02-16],[Measures].[Total Days]": 92,
       "[Orders].[Order Date].[AllMember].[2019-02-17],[Measures].[Aggregated Profit]": 125,
       "[Orders].[Order Date].[AllMember].[2019-02-17],[Measures].[Average Daily Profit (dc)]": 163,
       "[Orders].[Order Date].[AllMember].[2019-02-17],[Measures].[Total Day Count]": 115,
       "[Orders].[Order Date].[AllMember].[2019-02-17],[Measures].[Total Days]": 92,
       "[Orders].[Order Date].[AllMember].[2019-02-18],[Measures].[Aggregated Profit]": 125,
       "[Orders].[Order Date].[AllMember].[2019-02-18],[Measures].[Average Daily Profit (dc)]": 163,
       "[Orders].[Order Date].[AllMember].[2019-02-18],[Measures].[Total Day Count]": 115,
       "[Orders].[Order Date].[AllMember].[2019-02-18],[Measures].[Total Days]": 92,
       "[Orders].[Order Date].[AllMember].[2019-03-15],[Measures].[Aggregated Profit]": 125,
       "[Orders].[Order Date].[AllMember].[2019-03-15],[Measures].[Average Daily Profit (dc)]": 163,
       "[Orders].[Order Date].[AllMember].[2019-03-15],[Measures].[Total Day Count]": 115,
       "[Orders].[Order Date].[AllMember].[2019-03-15],[Measures].[Total Days]": 92,
       "[Orders].[Order Date].[AllMember].[2019-03-16],[Measures].[Aggregated Profit]": 125,
       "[Orders].[Order Date].[AllMember].[2019-03-16],[Measures].[Average Daily Profit (dc)]": 163,
       "[Orders].[Order Date].[AllMember].[2019-03-16],[Measures].[Total Day Count]": 115,
       "[Orders].[Order Date].[AllMember].[2019-03-16],[Measures].[Total Days]": 93,
       "[Orders].[Order Date].[AllMember].[2019-03-17],[Measures].[Aggregated Profit]": 125,
       "[Orders].[Order Date].[AllMember].[2019-03-17],[Measures].[Average Daily Profit (dc)]": 163,
       "[Orders].[Order Date].[AllMember].[2019-03-17],[Measures].[Total Day Count]": 115,
       "[Orders].[Order Date].[AllMember].[2019-03-17],[Measures].[Total Days]": 92,
       "[Orders].[Order Date].[AllMember].[2019-03-18],[Measures].[Aggregated Profit]": 125,
       "[Orders].[Order Date].[AllMember].[2019-03-18],[Measures].[Average Daily Profit (dc)]": 163,
       "[Orders].[Order Date].[AllMember].[2019-03-18],[Measures].[Total Day Count]": 115,
       "[Orders].[Order Date].[AllMember].[2019-03-18],[Measures].[Total Days]": 93,
       "[Orders].[Order Date].[AllMember].[2020-01-15],[Measures].[Aggregated Profit]": 125,
       "[Orders].[Order Date].[AllMember].[2020-01-15],[Measures].[Average Daily Profit (dc)]": 163,
       "[Orders].[Order Date].[AllMember].[2020-01-15],[Measures].[Total Day Count]": 115,
       "[Orders].[Order Date].[AllMember].[2020-01-15],[Measures].[Total Days]": 92,
       "[Orders].[Order Date].[AllMember].[2020-01-16],[Measures].[Aggregated Profit]": 125,
       "[Orders].[Order Date].[AllMember].[2020-01-16],[Measures].[Average Daily Profit (dc)]": 163,
       "[Orders].[Order Date].[AllMember].[2020-01-16],[Measures].[Total Day Count]": 115,
       "[Orders].[Order Date].[AllMember].[2020-01-16],[Measures].[Total Days]": 92,
       "[Orders].[Order Date].[AllMember].[2020-01-17],[Measures].[Aggregated Profit]": 125,
       "[Orders].[Order Date].[AllMember].[2020-01-17],[Measures].[Average Daily Profit (dc)]": 163,
       "[Orders].[Order Date].[AllMember].[2020-01-17],[Measures].[Total Day Count]": 115,
       "[Orders].[Order Date].[AllMember].[2020-01-17],[Measures].[Total Days]": 91,
       "[Orders].[Order Date].[AllMember].[2020-01-18],[Measures].[Aggregated Profit]": 125,
       "[Orders].[Order Date].[AllMember].[2020-01-18],[Measures].[Average Daily Profit (dc)]": 163,
       "[Orders].[Order Date].[AllMember].[2020-01-18],[Measures].[Total Day Count]": 115,
       "[Orders].[Order Date].[AllMember].[2020-01-18],[Measures].[Total Days]": 92,
       "[Products].[ProductName].[ProductName]": 209
      },
      "mapping": {
       "columns": [
        "[Orders].[Order Date].[Order Date]",
        "ALL_MEASURES"
       ],
       "measures": [
        "[Measures].[Total Days]",
        "[Measures].[Total Day Count]",
        "[Measures].[Aggregated Profit]",
        "[Measures].[Average Daily Profit (dc)]"
       ],
       "rows": [
        "[Products].[ProductName].[ProductName]"
       ]
      },
      "name": "Historical Daily Profit",
      "query": {
       "mdx": "SELECT NON EMPTY Crossjoin(Hierarchize(Descendants({[Orders].[Order Date].[AllMember]}, 1, SELF_AND_BEFORE)), {[Measures].[Total Days], [Measures].[Total Day Count], [Measures].[Aggregated Profit], [Measures].[Average Daily Profit (dc)]}) ON COLUMNS, NON EMPTY Hierarchize(Descendants({[Products].[ProductName].[AllMember]}, 1, SELF_AND_BEFORE)) ON ROWS FROM [Order Cube] CELL PROPERTIES VALUE, FORMATTED_VALUE, BACK_COLOR, FORE_COLOR, FONT_FLAGS",
       "updateMode": "once"
      },
      "serverKey": "default",
      "widgetKey": "pivot-table"
     }
    },
    "tags": []
   },
   "outputs": [],
   "source": [
    "session.widget"
   ]
  },
  {
   "cell_type": "markdown",
   "id": "b2862261-0e8d-4382-8042-6337f5f5180b",
   "metadata": {},
   "source": [
    "This method works even when we use the multi-level `Date Hierarchy` to look at the average monthly or yearly profit.  "
   ]
  },
  {
   "cell_type": "code",
   "execution_count": null,
   "id": "7f8117e3-2459-4cd1-b23b-653f64716d4d",
   "metadata": {
    "atoti": {
     "height": 373,
     "widget": {
      "columnWidths": {
       "[Measures].[Historical Daily Profit]": 135,
       "[Orders].[Date Hierarchy].[AllMember],[Measures].[Aggregated Profit]": 125,
       "[Orders].[Date Hierarchy].[AllMember],[Measures].[Average Daily Profit (dc)]": 163,
       "[Orders].[Date Hierarchy].[AllMember],[Measures].[Total Day Count]": 115,
       "[Orders].[Date Hierarchy].[AllMember],[Measures].[Total Days]": 84,
       "[Orders].[Date Hierarchy].[AllMember].[2019],[Measures].[Aggregated Profit]": 125,
       "[Orders].[Date Hierarchy].[AllMember].[2019],[Measures].[Average Daily Profit (dc)]": 163,
       "[Orders].[Date Hierarchy].[AllMember].[2019],[Measures].[Total Day Count]": 115,
       "[Orders].[Date Hierarchy].[AllMember].[2019],[Measures].[Total Days]": 84,
       "[Orders].[Date Hierarchy].[AllMember].[2019].[02],[Measures].[Aggregated Profit]": 125,
       "[Orders].[Date Hierarchy].[AllMember].[2019].[02],[Measures].[Average Daily Profit (dc)]": 163,
       "[Orders].[Date Hierarchy].[AllMember].[2019].[02],[Measures].[Total Day Count]": 115,
       "[Orders].[Date Hierarchy].[AllMember].[2019].[02],[Measures].[Total Days]": 84,
       "[Orders].[Date Hierarchy].[AllMember].[2019].[02].[2019-02-15],[Measures].[Aggregated Profit]": 125,
       "[Orders].[Date Hierarchy].[AllMember].[2019].[02].[2019-02-15],[Measures].[Average Daily Profit (dc)]": 163,
       "[Orders].[Date Hierarchy].[AllMember].[2019].[02].[2019-02-15],[Measures].[Total Day Count]": 115,
       "[Orders].[Date Hierarchy].[AllMember].[2019].[02].[2019-02-15],[Measures].[Total Days]": 92,
       "[Orders].[Date Hierarchy].[AllMember].[2019].[02].[2019-02-16],[Measures].[Aggregated Profit]": 125,
       "[Orders].[Date Hierarchy].[AllMember].[2019].[02].[2019-02-16],[Measures].[Average Daily Profit (dc)]": 163,
       "[Orders].[Date Hierarchy].[AllMember].[2019].[02].[2019-02-16],[Measures].[Total Day Count]": 115,
       "[Orders].[Date Hierarchy].[AllMember].[2019].[02].[2019-02-16],[Measures].[Total Days]": 92,
       "[Orders].[Date Hierarchy].[AllMember].[2019].[02].[2019-02-17],[Measures].[Aggregated Profit]": 125,
       "[Orders].[Date Hierarchy].[AllMember].[2019].[02].[2019-02-17],[Measures].[Average Daily Profit (dc)]": 163,
       "[Orders].[Date Hierarchy].[AllMember].[2019].[02].[2019-02-17],[Measures].[Total Day Count]": 115,
       "[Orders].[Date Hierarchy].[AllMember].[2019].[02].[2019-02-17],[Measures].[Total Days]": 92,
       "[Orders].[Date Hierarchy].[AllMember].[2019].[02].[2019-02-18],[Measures].[Aggregated Profit]": 125,
       "[Orders].[Date Hierarchy].[AllMember].[2019].[02].[2019-02-18],[Measures].[Average Daily Profit (dc)]": 163,
       "[Orders].[Date Hierarchy].[AllMember].[2019].[02].[2019-02-18],[Measures].[Total Day Count]": 115,
       "[Orders].[Date Hierarchy].[AllMember].[2019].[02].[2019-02-18],[Measures].[Total Days]": 92,
       "[Orders].[Date Hierarchy].[AllMember].[2019].[03],[Measures].[Aggregated Profit]": 125,
       "[Orders].[Date Hierarchy].[AllMember].[2019].[03],[Measures].[Average Daily Profit (dc)]": 163,
       "[Orders].[Date Hierarchy].[AllMember].[2019].[03],[Measures].[Total Day Count]": 115,
       "[Orders].[Date Hierarchy].[AllMember].[2019].[03],[Measures].[Total Days]": 84,
       "[Orders].[Date Hierarchy].[AllMember].[2020],[Measures].[Aggregated Profit]": 125,
       "[Orders].[Date Hierarchy].[AllMember].[2020],[Measures].[Average Daily Profit (dc)]": 163,
       "[Orders].[Date Hierarchy].[AllMember].[2020],[Measures].[Total Day Count]": 115,
       "[Orders].[Date Hierarchy].[AllMember].[2020],[Measures].[Total Days]": 84,
       "[Orders].[Order Date].[AllMember],[Measures].[Average Daily Profit (dc)]": 152,
       "[Orders].[Order Date].[AllMember],[Measures].[Historical Daily Profit]": 135,
       "[Products].[ProductName].[ProductName]": 209
      },
      "mapping": {
       "columns": [
        "[Orders].[Date Hierarchy].[Year] => [Orders].[Date Hierarchy].[Order Date]",
        "ALL_MEASURES"
       ],
       "measures": [
        "[Measures].[Total Days]",
        "[Measures].[Total Day Count]",
        "[Measures].[Aggregated Profit]",
        "[Measures].[Average Daily Profit (dc)]"
       ],
       "rows": [
        "[Products].[ProductName].[ProductName]"
       ]
      },
      "name": "Historical Daily Profit",
      "query": {
       "mdx": "SELECT NON EMPTY Crossjoin(Hierarchize(Union(Descendants({[Orders].[Date Hierarchy].[AllMember]}, 1, SELF_AND_BEFORE), Descendants({[Orders].[Date Hierarchy].[AllMember].[2019]}, [Orders].[Date Hierarchy].[Month]), Descendants({[Orders].[Date Hierarchy].[AllMember].[2019].[02]}, [Orders].[Date Hierarchy].[Order Date]))), {[Measures].[Total Days], [Measures].[Total Day Count], [Measures].[Aggregated Profit], [Measures].[Average Daily Profit (dc)]}) ON COLUMNS, NON EMPTY Hierarchize(Descendants({[Products].[ProductName].[AllMember]}, 1, SELF_AND_BEFORE)) ON ROWS FROM [Order Cube] CELL PROPERTIES VALUE, FORMATTED_VALUE, BACK_COLOR, FORE_COLOR, FONT_FLAGS",
       "updateMode": "once"
      },
      "serverKey": "default",
      "widgetKey": "pivot-table"
     }
    },
    "tags": []
   },
   "outputs": [],
   "source": [
    "session.widget"
   ]
  },
  {
   "cell_type": "markdown",
   "id": "8a266de0-b73a-430b-9d13-6184d58dbe04",
   "metadata": {},
   "source": [
    "__2. Force zero value for days without orders__  \n",
    "\n",
    "In this method, we will make use of the property of [`atoti.CumulativeScope`](https://docs.atoti.io/latest/api/atoti.CumulativeScope.html#atoti-cumulativescope) to ensure there is a value for all members of the level. We will build a few measures to show the property of the `dense` and `window` parameters from the `atoti.CumulativeScope` function.\n",
    "\n",
    "Previously, we learned how we can use `atoti.CumulativeScope` to compute running total. The function has a `dense` parameter which generate values for all the members of the level. For members with no underlying values, it will repeat the value of the previous member."
   ]
  },
  {
   "cell_type": "code",
   "execution_count": null,
   "id": "72de71ee-6b62-45a1-81c8-4d1fd01c6765",
   "metadata": {
    "tags": []
   },
   "outputs": [],
   "source": [
    "m[\"Cumulative profit (dense)\"] = tt.agg.sum(\n",
    "    m[\"Aggregated Profit\"],\n",
    "    scope=tt.CumulativeScope(\n",
    "        level=l[(\"Orders\", \"Order Date\", \"Order Date\")], dense=True\n",
    "    ),\n",
    ")"
   ]
  },
  {
   "cell_type": "code",
   "execution_count": null,
   "id": "65767bc3-0665-425e-be44-4c4d9639bab2",
   "metadata": {
    "atoti": {
     "height": 298,
     "widget": {
      "columnWidths": {
       "[Measures].[Aggregated Profit]": 125,
       "[Measures].[Average Daily Profit (cumulative)]": 197,
       "[Measures].[Average Daily Profit (dh)]": 153,
       "[Measures].[Cumulative profit (dense winSize 0)]": 210,
       "[Measures].[Cumulative profit (dense)]": 169,
       "[Orders].[Order Date].[Order Date]": 87,
       "[Products].[ProductName].[ProductName]": 209
      },
      "filters": [
       {
        "dimensionName": "Products",
        "hierarchyName": "ProductName",
        "isExclusionFilter": false,
        "members": [
         [
          "AllMember",
          "Alice Mutton"
         ]
        ],
        "type": "members"
       }
      ],
      "mapping": {
       "columns": [
        "ALL_MEASURES"
       ],
       "measures": [
        "[Measures].[Aggregated Profit]",
        "[Measures].[Cumulative profit (dense)]"
       ],
       "rows": [
        "[Products].[ProductName].[ProductName]",
        "[Orders].[Order Date].[Order Date]"
       ]
      },
      "name": "Cumulative aggregation with dense set to True",
      "query": {
       "mdx": "SELECT NON EMPTY {[Measures].[Aggregated Profit], [Measures].[Cumulative profit (dense)]} ON COLUMNS, NON EMPTY Crossjoin(Hierarchize(Descendants({[Products].[ProductName].[AllMember]}, 1, SELF_AND_BEFORE)), Hierarchize(Descendants({[Orders].[Order Date].[AllMember]}, 1, SELF_AND_BEFORE))) ON ROWS FROM [Order Cube] CELL PROPERTIES VALUE, FORMATTED_VALUE, BACK_COLOR, FORE_COLOR, FONT_FLAGS",
       "updateMode": "once"
      },
      "serverKey": "default",
      "widgetKey": "pivot-table"
     }
    },
    "tags": []
   },
   "outputs": [],
   "source": [
    "session.widget"
   ]
  },
  {
   "cell_type": "markdown",
   "id": "a373af2a-cf31-4ca7-8e23-4dd08863ff34",
   "metadata": {},
   "source": [
    "While we want to ensure there is value for each member, we do not actually want it to accumulate. Therefore, we are going to make use of the `window` parameter to limit the number of members to accumulate to 0, i.e. only aggregate its own value. Therefore, a value of 0 will be returned when there is no value.  "
   ]
  },
  {
   "cell_type": "code",
   "execution_count": null,
   "id": "bfd9ab61-6d99-48c0-bc1c-a861de8c0d64",
   "metadata": {
    "tags": []
   },
   "outputs": [],
   "source": [
    "m[\"Cumulative profit (dense winSize 0)\"] = tt.agg.sum(\n",
    "    m[\"Aggregated Profit\"],\n",
    "    scope=tt.CumulativeScope(\n",
    "        level=l[(\"Orders\", \"Order Date\", \"Order Date\")], dense=True, window=range(0, 0)\n",
    "    ),\n",
    ")"
   ]
  },
  {
   "cell_type": "code",
   "execution_count": null,
   "id": "613dcd2c-25b0-4ccc-8811-3de701bd6cf3",
   "metadata": {
    "atoti": {
     "height": 481,
     "widget": {
      "columnWidths": {
       "[Measures].[Aggregated Profit]": 125,
       "[Measures].[Average Daily Profit (cumulative)]": 197,
       "[Measures].[Average Daily Profit (dh)]": 153,
       "[Measures].[Cumulative profit (dense winSize 0)]": 226,
       "[Measures].[Cumulative profit (dense)]": 169,
       "[Orders].[Order Date].[Order Date]": 87,
       "[Products].[ProductName].[ProductName]": 209
      },
      "filters": [
       {
        "dimensionName": "Products",
        "hierarchyName": "ProductName",
        "isExclusionFilter": false,
        "members": [
         [
          "AllMember",
          "Alice Mutton"
         ]
        ],
        "type": "members"
       }
      ],
      "mapping": {
       "columns": [
        "ALL_MEASURES"
       ],
       "measures": [
        "[Measures].[Aggregated Profit]",
        "[Measures].[Cumulative profit (dense)]",
        "[Measures].[Cumulative profit (dense winSize 0)]"
       ],
       "rows": [
        "[Products].[ProductName].[ProductName]",
        "[Orders].[Order Date].[Order Date]"
       ]
      },
      "name": "Limit cumulative window size to 0",
      "query": {
       "mdx": "SELECT NON EMPTY {[Measures].[Aggregated Profit], [Measures].[Cumulative profit (dense)], [Measures].[Cumulative profit (dense winSize 0)]} ON COLUMNS, NON EMPTY Crossjoin(Hierarchize(Descendants({[Products].[ProductName].[AllMember]}, 1, SELF_AND_BEFORE)), Hierarchize(Descendants({[Orders].[Order Date].[AllMember]}, 1, SELF_AND_BEFORE))) ON ROWS FROM [Order Cube] CELL PROPERTIES VALUE, FORMATTED_VALUE, BACK_COLOR, FORE_COLOR, FONT_FLAGS",
       "updateMode": "once"
      },
      "serverKey": "default",
      "widgetKey": "pivot-table"
     }
    },
    "tags": []
   },
   "outputs": [],
   "source": [
    "session.widget"
   ]
  },
  {
   "cell_type": "markdown",
   "id": "ca52227d-af73-433c-87ba-746fdd707727",
   "metadata": {},
   "source": [
    "Now, we can compute our daily average profit using the `atoti.agg.mean` function.  "
   ]
  },
  {
   "cell_type": "code",
   "execution_count": null,
   "id": "7f7c1331-de5e-4334-826c-f3f66a4c9852",
   "metadata": {
    "tags": []
   },
   "outputs": [],
   "source": [
    "# average daily profit computed using the cumulative function\n",
    "m[\"Average Daily Profit (cumulative)\"] = tt.agg.mean(\n",
    "    m[\"Cumulative profit (dense winSize 0)\"],\n",
    "    scope=tt.OriginScope(levels={l[(\"Orders\", \"Order Date\", \"Order Date\")]}),\n",
    ")"
   ]
  },
  {
   "cell_type": "code",
   "execution_count": null,
   "id": "04df6839-2976-4f16-a53a-0bec4b23a3d0",
   "metadata": {
    "atoti": {
     "height": 468,
     "widget": {
      "columnWidths": {
       "[Measures].[Aggregated Profit]": 125,
       "[Measures].[Average Daily Profit (cumulative)]": 210,
       "[Measures].[Average Daily Profit (dc)]": 163,
       "[Measures].[Average Daily Profit (dh)]": 153,
       "[Measures].[Cumulative profit (dense winSize 0)]": 226,
       "[Measures].[Cumulative profit (dense)]": 169,
       "[Orders].[Order Date].[Order Date]": 87,
       "[Products].[ProductName].[ProductName]": 209
      },
      "filters": [
       {
        "dimensionName": "Products",
        "hierarchyName": "ProductName",
        "isExclusionFilter": false,
        "members": [
         [
          "AllMember",
          "Alice Mutton"
         ]
        ],
        "type": "members"
       }
      ],
      "mapping": {
       "columns": [
        "ALL_MEASURES"
       ],
       "measures": [
        "[Measures].[Aggregated Profit]",
        "[Measures].[Cumulative profit (dense)]",
        "[Measures].[Cumulative profit (dense winSize 0)]",
        "[Measures].[Average Daily Profit (cumulative)]",
        "[Measures].[Average Daily Profit (dc)]"
       ],
       "rows": [
        "[Products].[ProductName].[ProductName]",
        "[Orders].[Order Date].[Order Date]"
       ]
      },
      "name": "Average Daily Profit - zero value for days without orders",
      "query": {
       "mdx": "SELECT NON EMPTY {[Measures].[Aggregated Profit], [Measures].[Cumulative profit (dense)], [Measures].[Cumulative profit (dense winSize 0)], [Measures].[Average Daily Profit (cumulative)], [Measures].[Average Daily Profit (dc)]} ON COLUMNS, NON EMPTY Crossjoin(Hierarchize(Descendants({[Products].[ProductName].[AllMember]}, 1, SELF_AND_BEFORE)), Hierarchize(Descendants({[Orders].[Order Date].[AllMember]}, 1, SELF_AND_BEFORE))) ON ROWS FROM [Order Cube] CELL PROPERTIES VALUE, FORMATTED_VALUE, BACK_COLOR, FORE_COLOR, FONT_FLAGS",
       "updateMode": "once"
      },
      "serverKey": "default",
      "widgetKey": "pivot-table"
     }
    },
    "tags": []
   },
   "outputs": [],
   "source": [
    "session.widget"
   ]
  },
  {
   "cell_type": "markdown",
   "id": "2df12801-bee7-4827-9b87-6619846af22a",
   "metadata": {},
   "source": [
    "The drawback of this method is that the computation will not work for bucketed daily average along the `Date Hierarchy`. It currently accumulates along the `Date Order` level under the `Date Order` hierarchy; and not under the `Date Hierarchy` hierarchy.  \n",
    "\n",
    "As we can see from the results below, the value for `Average Daily Profit (cumulative)` is incorrect. We will have to create a separate measure along the `Date Order` level under the `Date Hierarchy` hierarchy. "
   ]
  },
  {
   "cell_type": "code",
   "execution_count": null,
   "id": "55419d04-a963-4cca-9bba-d350eb436c38",
   "metadata": {
    "atoti": {
     "widget": {
      "columnWidths": {
       "[Measures].[Average Daily Profit (cumulative)]": 210,
       "[Measures].[Average Daily Profit (dc)]": 163,
       "[Measures].[Cumulative profit (dense winSize 0)]": 226,
       "[Orders].[Date Hierarchy].[Year]": 86,
       "[Products].[ProductName].[ProductName]": 209
      },
      "mapping": {
       "columns": [
        "ALL_MEASURES"
       ],
       "measures": [
        "[Measures].[Cumulative profit (dense winSize 0)]",
        "[Measures].[Average Daily Profit (cumulative)]",
        "[Measures].[Average Daily Profit (dc)]"
       ],
       "rows": [
        "[Products].[ProductName].[ProductName]",
        "[Orders].[Date Hierarchy].[Year] => [Orders].[Date Hierarchy].[Order Date]"
       ]
      },
      "query": {
       "mdx": "SELECT NON EMPTY Hierarchize(Crossjoin(Hierarchize(Descendants({[Products].[ProductName].[AllMember]}, 1, SELF_AND_BEFORE)), Hierarchize(Descendants({[Orders].[Date Hierarchy].[AllMember]}, 1, SELF_AND_BEFORE)))) ON ROWS, NON EMPTY {[Measures].[Cumulative profit (dense winSize 0)], [Measures].[Average Daily Profit (cumulative)], [Measures].[Average Daily Profit (dc)]} ON COLUMNS FROM [Order Cube] CELL PROPERTIES VALUE, FORMATTED_VALUE, BACK_COLOR, FORE_COLOR, FONT_FLAGS",
       "updateMode": "once"
      },
      "serverKey": "default",
      "widgetKey": "pivot-table"
     }
    },
    "tags": []
   },
   "outputs": [],
   "source": [
    "session.widget"
   ]
  },
  {
   "cell_type": "markdown",
   "id": "8ac6a8e4-3431-4174-af0b-bcf60610ec6c",
   "metadata": {},
   "source": [
    "#### 6.2.2.5 Format measures"
   ]
  },
  {
   "cell_type": "markdown",
   "id": "af8415b5-bffe-4d49-883b-781f4ce7da41",
   "metadata": {},
   "source": [
    "We can apply formatting for the **display** of our measures in the returned query results. Note that aggregations performed on the measure will still use its unformatted value for the computation. "
   ]
  },
  {
   "cell_type": "code",
   "execution_count": null,
   "id": "00694941-d15d-4350-82e8-ca807e8a6cc9",
   "metadata": {
    "tags": []
   },
   "outputs": [],
   "source": [
    "m[\"Aggregated Profit\"].formatter = \"DOUBLE[$#,##0.00]\""
   ]
  },
  {
   "cell_type": "code",
   "execution_count": null,
   "id": "c1bb9c59-fa8f-4504-bc3c-87eba0541e36",
   "metadata": {
    "atoti": {
     "height": 317,
     "widget": {
      "mapping": {
       "columns": [
        "ALL_MEASURES"
       ],
       "measures": [
        "[Measures].[Quantity Sold.SUM]",
        "[Measures].[Aggregated Profit]"
       ],
       "rows": [
        "[Products].[Product Tree].[ProductCategory]"
       ]
      },
      "name": "Profit by Product Category",
      "query": {
       "mdx": "SELECT NON EMPTY Hierarchize(Descendants({[Products].[Product Tree].[AllMember]}, 1, SELF_AND_BEFORE)) ON ROWS, NON EMPTY {[Measures].[Quantity Sold.SUM], [Measures].[Aggregated Profit]} ON COLUMNS FROM [Order Cube] CELL PROPERTIES VALUE, FORMATTED_VALUE, BACK_COLOR, FORE_COLOR, FONT_FLAGS",
       "updateMode": "once"
      },
      "serverKey": "default",
      "widgetKey": "pivot-table"
     }
    },
    "tags": []
   },
   "outputs": [],
   "source": [
    "session.widget"
   ]
  },
  {
   "cell_type": "markdown",
   "id": "b2c22604-c0dd-404c-a798-b652ccf02eaa",
   "metadata": {},
   "source": [
    "💡 Refer to Atoti documentation for other [formatting syntax](https://docs.atoti.io/latest/api/atoti.Measure.formatter.html#atoti-measure-formatter)."
   ]
  },
  {
   "cell_type": "markdown",
   "id": "45c37c01-ee20-4874-84ad-d7f55d799f7f",
   "metadata": {},
   "source": [
    "## 6.3 Cube Housekeeping"
   ]
  },
  {
   "cell_type": "markdown",
   "id": "c5086f99-179e-4996-81ef-da4da51a0f25",
   "metadata": {},
   "source": [
    "There are a few ways to maintaining and looking after your cube:  \n",
    "- [Delete unwanted hierarchies, levels and measures](#6.3.1-Delete-unwanted-hierarchies,-levels-and-measures)\n",
    "- [Hide technical measures](#6.3.2-Hide-technical-measures)  \n",
    "- [Keep measures organized in folders](#6.3.3-Keep-measures-organized-in-folders)  \n"
   ]
  },
  {
   "cell_type": "markdown",
   "id": "7a3fae5d-1a31-4b0e-8410-c83f48a5a3ed",
   "metadata": {},
   "source": [
    "### 6.3.1 Delete unwanted hierarchies, levels and measures  "
   ]
  },
  {
   "cell_type": "markdown",
   "id": "cd251f7e-0790-40e8-a35f-0745409386a8",
   "metadata": {},
   "source": [
    "Let's recall that a cube has three type of attributes: hierarchies, levels and measures. This section looks at how we can delete these attributes:   \n",
    "\n",
    "- [6.3.1.1 Delete hierarchies](#6.3.1.1-Delete-hierarchies)\n",
    "- [6.3.1.2 Delete levels](#6.3.1.2-Delete-levels)\n",
    "- [6.3.1.3 Delete measures](#6.3.1.3-Delete-measures)"
   ]
  },
  {
   "cell_type": "markdown",
   "id": "830caa96-d033-4f53-be98-5e27a9f2ae59",
   "metadata": {},
   "source": [
    "#### 6.3.1.1 Delete hierarchies"
   ]
  },
  {
   "cell_type": "markdown",
   "id": "e19f5f97-5657-4677-ab5e-37de528c3320",
   "metadata": {},
   "source": [
    "Previously, we have created a multi-level hierarchy called `Product Tree` which comprises of the levels `ProductCategory` and `ProductName`.  \n",
    "\n",
    "Whenever, we add the hierarchy `Product Tree` to our query, `ProductCategory` is displayed. Therefore, we can actually delete the single hierarchy `ProductCategory` since it's no longer required.  "
   ]
  },
  {
   "cell_type": "code",
   "execution_count": null,
   "id": "d30498e3-ab5a-4330-93a9-6f580e6dff54",
   "metadata": {
    "tags": []
   },
   "outputs": [],
   "source": [
    "# # We've commented out this cell to prevent breakages of dependent upstream widgets\n",
    "# # that may depend on this hierarchy. Uncomment the below lines of this cell to execute the change\n",
    "# del h[\"ProductCategory\"]\n",
    "# h"
   ]
  },
  {
   "cell_type": "markdown",
   "id": "e7290509-32e1-41e7-9288-0215f8031490",
   "metadata": {},
   "source": [
    "When the hierarchy is deleted, the underlying levels will also be removed.  "
   ]
  },
  {
   "cell_type": "markdown",
   "id": "700fe533-e260-48c3-a30b-301c91fdc30d",
   "metadata": {},
   "source": [
    "#### 6.3.1.2 Delete levels"
   ]
  },
  {
   "cell_type": "markdown",
   "id": "291dfb60-94aa-4ad3-8b65-7a9b601be345",
   "metadata": {},
   "source": [
    "We can delete levels in the same way as we delete the hierarchy. However, if there is more than 1 level with the same name, we have to define the full path to the level: "
   ]
  },
  {
   "cell_type": "code",
   "execution_count": null,
   "id": "ddb49802-9ff4-4822-8588-44ff21f1cda6",
   "metadata": {
    "tags": []
   },
   "outputs": [],
   "source": [
    "# # We've commented out this cell to prevent breakages of dependent upstream widgets\n",
    "# # that may depend on this level. Uncomment the below lines of this cell to execute the change\n",
    "# del l[(\"Products\", \"Product Tree\", \"ProductName\")]\n",
    "# l"
   ]
  },
  {
   "cell_type": "markdown",
   "id": "1591f26e-3441-4220-810e-db96e6134d4d",
   "metadata": {
    "tags": []
   },
   "source": [
    "##### **💡Update existing hierarchy**  \n",
    "\n",
    "Since we still want our multi-level hierarchy, let's update it back to its original state:"
   ]
  },
  {
   "cell_type": "code",
   "execution_count": null,
   "id": "3c8e3f05-6220-43d5-aa79-34dbf9118a6e",
   "metadata": {
    "tags": []
   },
   "outputs": [],
   "source": [
    "# # We've commented out this cell to prevent breakages of dependent upstream widgets\n",
    "# # that may depend on this hierarchy. Uncomment the below lines of this cell to execute the change\n",
    "# h.update(\n",
    "#     {\n",
    "#         \"Product Tree\": [\n",
    "#             product_tbl[\"ProductCategory\"],\n",
    "#             product_tbl[\"ProductName\"],\n",
    "#             orders_tbl[\"Product Id\"],\n",
    "#         ],\n",
    "#     }\n",
    "# )\n",
    "# h"
   ]
  },
  {
   "cell_type": "markdown",
   "id": "f3117cc2-2d53-49cb-b6a9-6c17b4784606",
   "metadata": {},
   "source": [
    "#### 6.3.1.3 Delete measures"
   ]
  },
  {
   "cell_type": "markdown",
   "id": "cb214bef-ce71-4c07-8780-5ab32d404126",
   "metadata": {},
   "source": [
    "As with hierarchies and levels, we use `del` command to delete measures.  "
   ]
  },
  {
   "cell_type": "code",
   "execution_count": null,
   "id": "b011cee6-8af5-4e55-ad32-a93cb3311792",
   "metadata": {
    "tags": []
   },
   "outputs": [],
   "source": [
    "m"
   ]
  },
  {
   "cell_type": "code",
   "execution_count": null,
   "id": "73904202-828c-4cbe-aaa2-3186d701432c",
   "metadata": {
    "tags": []
   },
   "outputs": [],
   "source": [
    "# # We've commented out this cell to prevent breakages of dependent upstream widgets\n",
    "# # that may depend on this measure. Uncomment the below lines of this cell to execute the change\n",
    "# del m[\"Quantity Sold.MEAN\"]\n",
    "# m"
   ]
  },
  {
   "cell_type": "markdown",
   "id": "19143f41-e1ef-49bb-8860-a3b24ba5df30",
   "metadata": {},
   "source": [
    "### 6.3.2 Hide technical measures"
   ]
  },
  {
   "cell_type": "markdown",
   "id": "171a4f33-c60b-4404-8bd1-885f09330130",
   "metadata": {},
   "source": [
    "In section [6.2.2.1.2 Chaining up measures](#6.2.2.1.2-Chaining-up-measures), we saw how we can create a measure using other measures. Some of the interim measures, also known as technical measures, are of little interest to end users.  \n",
    "\n",
    "We cannot delete these measures as they are required for the aggregation. Instead, we can hide them from the view of end users to avoid cluttering and confusion."
   ]
  },
  {
   "cell_type": "code",
   "execution_count": null,
   "id": "f552e81b-ff00-402a-b5b7-1bb88f7b1b6d",
   "metadata": {
    "tags": []
   },
   "outputs": [],
   "source": [
    "m[\"_ProfitPerUnit (mean)\"].visible = False\n",
    "m[\"_ProfitPerUnit (sum)\"].visible = False\n",
    "m[\"_ProfitPerUnit (sv)\"].visible = False"
   ]
  },
  {
   "cell_type": "code",
   "execution_count": null,
   "id": "65c101c9-815f-4795-898b-ef5d5aa737ee",
   "metadata": {
    "atoti": {
     "height": 116
    },
    "tags": []
   },
   "outputs": [],
   "source": [
    "session.widget"
   ]
  },
  {
   "cell_type": "markdown",
   "id": "ba4a606f-dd7d-41e2-8540-85f52e7be87a",
   "metadata": {},
   "source": [
    "Select the widget cell above and verify that the measures with name starting with `_ProfitPerUnit` is no longer displayed in the content editor:  \n",
    "\n",
    "<img src=\"https://data.atoti.io/atoti-academy/images/introduction/6_hide_measures.png\" width=\"500px\"/>"
   ]
  },
  {
   "cell_type": "markdown",
   "id": "aaca7abd-a929-4bdb-8453-54752ebed7a0",
   "metadata": {},
   "source": [
    "It is also not displayed when we view the `cube.measures`."
   ]
  },
  {
   "cell_type": "code",
   "execution_count": null,
   "id": "2ff052fb-6395-4e40-8093-5bcd505f9534",
   "metadata": {
    "tags": []
   },
   "outputs": [],
   "source": [
    "m"
   ]
  },
  {
   "cell_type": "markdown",
   "id": "e9832320-13ec-4453-8261-3cc243afc4fa",
   "metadata": {},
   "source": [
    "### 6.3.3 Organize measures in folders"
   ]
  },
  {
   "cell_type": "markdown",
   "id": "d4c2ec50-d9e2-469d-9e70-1d537f12642b",
   "metadata": {},
   "source": [
    "Folders helps to keep the measures organized. We can expand the relevant folders to access the measures or perform a search to find the intended measure quickly:  \n",
    "\n",
    "<img src=\"https://data.atoti.io/atoti-academy/images/introduction/6_verify_folder.gif\" width=\"500px\" />  "
   ]
  },
  {
   "cell_type": "code",
   "execution_count": null,
   "id": "43744bdc-5ac1-46d6-8f9c-5148248dbb59",
   "metadata": {
    "tags": []
   },
   "outputs": [],
   "source": [
    "m[\"Selling Price Per Unit\"].folder = \"Unit Price\""
   ]
  },
  {
   "cell_type": "markdown",
   "id": "cea28d5b-8b58-4468-a9d6-55748cfd1665",
   "metadata": {},
   "source": [
    "Let's assign the measures with the substring \"Unit\" in its name to the \"Unit Price\" folder."
   ]
  },
  {
   "cell_type": "code",
   "execution_count": null,
   "id": "bc0b4794-6101-4107-9f52-01b0078d2b00",
   "metadata": {
    "tags": []
   },
   "outputs": [],
   "source": [
    "for _m_name in m:\n",
    "    if \"Unit\" in m[_m_name].name and m[_m_name].visible == True:\n",
    "        m[_m_name].folder = \"Unit Price\""
   ]
  },
  {
   "cell_type": "markdown",
   "id": "bc15aa4f-201e-4250-b76c-ec47fd1e4b23",
   "metadata": {},
   "source": [
    "### 📐Exercise  \n",
    "\n",
    "Try accessing the measure `Selling Price Per Unit` from the content editor.  "
   ]
  },
  {
   "cell_type": "markdown",
   "id": "e5c40991-19d7-460c-aef3-d4819d04dfdf",
   "metadata": {},
   "source": [
    "### 📖 Solution  \n",
    "\n",
    "Get started with and follow the gif at the beginning of section [6.3.3](#6.3.3-Keep-measures-organized-in-folders):  \n",
    "\n",
    "`session.widget`"
   ]
  },
  {
   "cell_type": "code",
   "execution_count": null,
   "id": "c1774a4e-b8c0-43a3-bc5c-39f61bf386ef",
   "metadata": {},
   "outputs": [],
   "source": [
    "session.widget"
   ]
  },
  {
   "cell_type": "markdown",
   "id": "b85c55c0-abad-47e1-a1e5-c0b000657164",
   "metadata": {},
   "source": [
    "# 7. Visualization"
   ]
  },
  {
   "cell_type": "markdown",
   "id": "ffe46ad8-fbb8-40c3-8f78-d4426fdf5bbc",
   "metadata": {},
   "source": [
    "As we have seen with in earlier sections, we can use `session.widget` to explore data interactively. In this section, we will see quickly how we use the Atoti's JupyterLab extension to interact with the data.  "
   ]
  },
  {
   "cell_type": "markdown",
   "id": "565bd748-e0a8-46e7-b60d-79954804c3eb",
   "metadata": {},
   "source": [
    "## 7.1 Build our visualization"
   ]
  },
  {
   "cell_type": "markdown",
   "id": "c2bbb6ec-2994-45b8-a9dd-048136ee4809",
   "metadata": {},
   "source": [
    "### 7.1.1 Add hierarchies and measures to the visualization"
   ]
  },
  {
   "cell_type": "markdown",
   "id": "34dc49ba-4116-45e2-8215-478dd213c36f",
   "metadata": {
    "tags": []
   },
   "source": [
    "When we execute `session.widget()`, the widget will display an empty Pivot table by default. The custom JupyterLab extension for Atoti will be expanded. Expanding the panel will automatically adjust the view of cube attributes and the widget's attribute into two panels, allowing greater visibility. \n",
    "\n",
    "<img src=\"https://data.atoti.io/atoti-academy/images/introduction/7-atoti-visualization.gif\" />  \n",
    "\n",
    "Clicking on a measure automatically adds it to the visualization as column. Clicking on a hierarchy automatically adds it to the row. Alternatively, drag and drop hierarchies or to move the tiles between rows and columns.  \n",
    "\n",
    "<img src=\"https://data.atoti.io/atoti-academy/images/introduction/7-atoti-drag-and-drop.gif\" />"
   ]
  },
  {
   "cell_type": "markdown",
   "id": "3f41e162-b8ff-4f5d-842f-af0395792f36",
   "metadata": {},
   "source": [
    "### 📐Exercise  \n",
    "\n",
    "Try building your own Pivot table and shift the measures and hierarchies between rows and columns to see how your visualization changes.  "
   ]
  },
  {
   "cell_type": "markdown",
   "id": "9a5b87ee-a3a0-4cbf-a0a2-7754fe216ff7",
   "metadata": {},
   "source": [
    "### 📖 Solution  \n",
    "\n",
    "Get started with:  \n",
    "\n",
    "`session.widget`"
   ]
  },
  {
   "cell_type": "markdown",
   "id": "38839836-53e6-45b9-947c-553325227a98",
   "metadata": {},
   "source": [
    "### 7.1.2 Expandable levels vs multi-level hierarchy"
   ]
  },
  {
   "cell_type": "markdown",
   "id": "4fad9aa0-0db7-437c-8af6-53582536e4e0",
   "metadata": {},
   "source": [
    "__Expanded display by adding hierarchies to rows__  \n",
    "\n",
    "When we add hierarchies to rows/columns, all the levels are displayed with the corresponding measures.  \n",
    "\n",
    "<img src=\"https://data.atoti.io/atoti-academy/images/introduction/7-atoti-expanded.gif\" />  \n",
    "\n",
    "__Collapsible levels by dropping hierarchies into Pivot table__  \n",
    "\n",
    "Drag and drop a level on a member of the column on the pivot table to expand on:   \n",
    "\n",
    "<img src=\"https://data.atoti.io/atoti-academy/images/introduction/7-atoti-collapsible.gif\" />  \n",
    "\n",
    "We can replace the expanded level with another level simply by dropping the new level on member of the parent level.  \n",
    "\n",
    "__Naturally collapsible levels with multilevel hierarchies__\n",
    "\n",
    "For multilevel hierarchy, adding the top level of the hierarchy will have the same collapsible effect for the underlying levels.  \n",
    "\n",
    "<img src=\"https://data.atoti.io/atoti-academy/images/introduction/7-atoti-multilevel-hierarchies.gif\" />  \n",
    "\n"
   ]
  },
  {
   "cell_type": "markdown",
   "id": "2f74389a-ccca-4465-a89d-5c02bb0977a2",
   "metadata": {},
   "source": [
    "## 7.2 Change type of visualization"
   ]
  },
  {
   "cell_type": "markdown",
   "id": "655d3d7c-8f66-4cdb-ab41-d6682e14bf95",
   "metadata": {},
   "source": [
    "We can easily toggle the type of visualization using the drop-down menu in the Atoti's JupyterLab extension.  \n",
    "\n",
    "<img src=\"https://data.atoti.io/atoti-academy/images/introduction/7-atoti-change_type.gif\" />  \n",
    "\n",
    "Adjust the hierarchies and measures interactively to obtain the best-fitting visualization. "
   ]
  },
  {
   "cell_type": "markdown",
   "id": "3051cc1c-b163-4a2c-9358-5a5534d73fde",
   "metadata": {},
   "source": [
    "### 📐Exercise  \n",
    "\n",
    "Using the visualization from the previous exercise, explore the type of visualizations interactively.  "
   ]
  },
  {
   "cell_type": "markdown",
   "id": "30b4f76a-4d64-4df1-b2d3-88ec466a43a5",
   "metadata": {},
   "source": [
    "## 7.3 Filter data"
   ]
  },
  {
   "cell_type": "markdown",
   "id": "8efb22be-ba27-428c-874a-b5144e15848a",
   "metadata": {},
   "source": [
    "### 7.3.1 Focus on a single trace on charts"
   ]
  },
  {
   "cell_type": "markdown",
   "id": "4e592288-ebdc-4c48-8700-87409beacd4b",
   "metadata": {},
   "source": [
    "Atoti uses [Plotly charts](https://plotly.com/python/basic-charts/). Therefore, you can see that we can zoom in on the chart and also (de)select a single trace the same way we do with Plotly.  \n",
    "\n",
    "<img src=\"https://data.atoti.io/atoti-academy/images/introduction/7-atoti-deselect-trace.gif\" />"
   ]
  },
  {
   "cell_type": "markdown",
   "id": "3b22d2bc-13f5-4cb7-9889-60e76eb472ec",
   "metadata": {},
   "source": [
    "### 7.3.2 Filter by member"
   ]
  },
  {
   "cell_type": "markdown",
   "id": "ed27136c-99e9-43e1-9e41-b9b4102e1f45",
   "metadata": {},
   "source": [
    "One of the wonder of Atoti is in its ability to slice and dice the cube. \n",
    "\n",
    "<img src=\"https://data.atoti.io/atoti-academy/images/introduction/7-atoti-slice-dice.png\" />  \n",
    "\n",
    "We can view a subset of the data using the widget filter in Atoti's JupyterLab extension:  \n",
    "\n",
    "<img src=\"https://data.atoti.io/atoti-academy/images/introduction/7-atoti-widget_filter.gif\" />  \n"
   ]
  },
  {
   "cell_type": "markdown",
   "id": "88e5ae1e-0044-4d70-8c9e-773c34792262",
   "metadata": {},
   "source": [
    "### 7.3.3 Conditional filtering "
   ]
  },
  {
   "cell_type": "markdown",
   "id": "4ada65d5-1de2-4956-aaf9-cd9833bf8242",
   "metadata": {},
   "source": [
    "We can apply conditional filtering by toggling to \"Advanced\" mode in the widget filter's pop up:  \n",
    "\n",
    "<img src=\"https://data.atoti.io/atoti-academy/images/introduction/7-atoti-advanced-filter.gif\" />  \n",
    "\n",
    "The GIF above shows how we can obtain the daily profit of the top 5 product categories having the highest profit."
   ]
  },
  {
   "cell_type": "markdown",
   "id": "a2648951-9057-439c-b265-17b92dddf538",
   "metadata": {},
   "source": [
    "### 📐Exercise  \n",
    "\n",
    "In the visualization below, apply advanced filter such that we get the bottom 10 products with the lowest profit.  \n",
    "\n",
    "💡 Right-click on the chart to access the context menu. Try sorting the chart by profit.  "
   ]
  },
  {
   "cell_type": "code",
   "execution_count": null,
   "id": "2bc68912-475c-46b1-85f1-6875aa21128f",
   "metadata": {
    "atoti": {
     "height": 628,
     "widget": {
      "filters": [],
      "mapping": {
       "horizontalSubplots": [],
       "splitBy": [
        "ALL_MEASURES"
       ],
       "values": [
        "[Measures].[Profit]"
       ],
       "verticalSubplots": [],
       "xAxis": [
        "[Products].[Product Tree].[ProductName]"
       ]
      },
      "name": "Bottom 10 products with the lowest profit",
      "query": {
       "mdx": "SELECT NON EMPTY {[Measures].[Profit]} ON COLUMNS, NON EMPTY Hierarchize(Descendants({[Products].[Product Tree].[AllMember]}, 2, SELF_AND_BEFORE)) ON ROWS FROM [Order Cube] CELL PROPERTIES VALUE, FORMATTED_VALUE, BACK_COLOR, FORE_COLOR, FONT_FLAGS",
       "updateMode": "once"
      },
      "serverKey": "default",
      "widgetKey": "plotly-clustered-column-chart"
     }
    },
    "tags": []
   },
   "outputs": [],
   "source": [
    "session.widget"
   ]
  },
  {
   "cell_type": "markdown",
   "id": "c051df5d-d1e2-438e-90bd-9c1bc86f83d9",
   "metadata": {},
   "source": [
    "### 📖 Solution  \n",
    "\n",
    "<img src=\"https://data.atoti.io/atoti-academy/images/introduction/7-atoti-advanced-filter-solution.gif\">  "
   ]
  },
  {
   "cell_type": "markdown",
   "id": "7bf21357-2b9f-45ce-963f-146209cf4e63",
   "metadata": {},
   "source": [
    "## 7.4 Publish in app  "
   ]
  },
  {
   "cell_type": "markdown",
   "id": "1fa14bb7-775a-4ce6-8355-80dbe57f60ca",
   "metadata": {},
   "source": [
    "During our data exploration, we might want to save some of our investigations and put them in a dashboard for end-users to reference. To do so, we can publish the visualizations that we create in the notebook to Atoti UI application using the `Publish in App` menu.  \n",
    "\n",
    "<img src=\"https://data.atoti.io/atoti-academy/images/introduction/7-atoti-publish-in-app.gif\" />"
   ]
  },
  {
   "cell_type": "markdown",
   "id": "e80fe8df-ebea-4031-a723-ccf1980cef60",
   "metadata": {
    "tags": []
   },
   "source": [
    "💡 We can access Atoti UI using `session.link`."
   ]
  },
  {
   "cell_type": "code",
   "execution_count": null,
   "id": "201be2fc-a366-4ccd-8d3e-6adc886123df",
   "metadata": {
    "tags": []
   },
   "outputs": [],
   "source": [
    "session.link"
   ]
  },
  {
   "cell_type": "markdown",
   "id": "94ffd3ae-3300-4a5e-83f4-375558a909fa",
   "metadata": {},
   "source": [
    "# 8. Output query results"
   ]
  },
  {
   "cell_type": "markdown",
   "id": "e07306e6-e010-43e6-b06f-388953dc1719",
   "metadata": {},
   "source": [
    "## 8.1 Export data to CSV\n",
    "We can export underlying data from the Atoti widgets. Simply right-click on the visualization and click on \"Export to CSV\".  \n",
    "\n",
    "<img src=\"https://data.atoti.io/atoti-academy/images/introduction/7-atoti-export-to-csv.gif\" />"
   ]
  },
  {
   "cell_type": "markdown",
   "id": "5a5d5f62-a02c-4710-9bbc-0b7d6b3a26df",
   "metadata": {},
   "source": [
    "## 8.2 Output query results to Pandas DataFrame"
   ]
  },
  {
   "cell_type": "markdown",
   "id": "e52a6f81-d521-4d75-bec1-2508b9bfb4cc",
   "metadata": {},
   "source": [
    "We can perform a [cube query](https://docs.atoti.io/latest/api/atoti_query.QueryCube.query.html#atoti-query-querycube-query) and it will return a Pandas DataFrame as shown below:  "
   ]
  },
  {
   "cell_type": "code",
   "execution_count": null,
   "id": "eff4e313-f7a0-4cf6-ba5d-8043b4b253fd",
   "metadata": {
    "tags": []
   },
   "outputs": [],
   "source": [
    "df_profit = cube.query(\n",
    "    m[\"Aggregated Profit\"],\n",
    "    m[\"Quantity Sold.SUM\"],\n",
    "    levels=[\n",
    "        l[\"Products\", \"Product Tree\", \"ProductCategory\"],\n",
    "        l[(\"Products\", \"ProductName\", \"ProductName\")],\n",
    "    ],\n",
    ")\n",
    "df_profit.head()"
   ]
  },
  {
   "cell_type": "markdown",
   "id": "4da44312-f6a9-4467-9030-09ba45cb8abd",
   "metadata": {},
   "source": [
    "Since it's a Pandas DataFrame, we can manipulate it the way we do with Pandas.  "
   ]
  },
  {
   "cell_type": "code",
   "execution_count": null,
   "id": "ebee1885-c2a8-4038-a460-456ef596efee",
   "metadata": {
    "tags": []
   },
   "outputs": [],
   "source": [
    "df_profit.reset_index()"
   ]
  },
  {
   "cell_type": "markdown",
   "id": "57c80e82-f9c9-489a-9cca-022f0003654c",
   "metadata": {},
   "source": [
    "So, this means that we can pass the DataFrame to another Python function, or we can output to CSV file for a downstream system.  "
   ]
  },
  {
   "cell_type": "markdown",
   "id": "c29dfe5e-76ab-4acf-8b84-ab62a4f3f32d",
   "metadata": {},
   "source": [
    "## 8.3 Output query results to other data structure"
   ]
  },
  {
   "cell_type": "markdown",
   "id": "2f9ea00b-9ae5-48b8-a5a7-1ad4c68ab881",
   "metadata": {},
   "source": [
    "From the previous section, we obtained a Pandas DataFrame. Leveraging Pandas functionality, we can output the data to different file structures such as [CSV](https://pandas.pydata.org/docs/reference/api/pandas.DataFrame.to_csv.html):"
   ]
  },
  {
   "cell_type": "code",
   "execution_count": null,
   "id": "56b25593-9c97-4ce9-9cb2-678b3bb49edc",
   "metadata": {
    "tags": []
   },
   "outputs": [],
   "source": [
    "df_profit.to_csv(\"profit.csv\", index=False)"
   ]
  },
  {
   "cell_type": "markdown",
   "id": "6ac3ba72-b734-4e09-91a8-6d4b336dd1d3",
   "metadata": {},
   "source": [
    "# 📐Exercise  \n",
    "\n",
    "With reference to the [cube query](https://docs.atoti.io/latest/api/atoti_query.QueryCube.query.html#atoti-query-querycube-query) function call in the documentation, try outputting the profit by product category for order date 2019-02-17. "
   ]
  },
  {
   "cell_type": "markdown",
   "id": "5346cd79-2f32-448c-94ce-961bd6d8e3a8",
   "metadata": {
    "tags": []
   },
   "source": [
    "# 📖 Solution  \n",
    "\n",
    "```\n",
    "df = cube.query(\n",
    "    m[\"Profit\"],\n",
    "    levels=[l[\"Order Date\"], l[\"ProductCategory\"]],\n",
    "    filter=(l[\"Order Date\"] == \"2019-02-17\"),\n",
    ")  \n",
    "\n",
    "df.to_csv(\"exercise.csv\", index=False)\n",
    "```"
   ]
  },
  {
   "cell_type": "markdown",
   "id": "0e145a65-878f-47e9-ac7d-e9fc2c7f6dbc",
   "metadata": {},
   "source": [
    "<div style=\"text-align: center;\" ><a href=\"https://www.atoti.io/?utm_source=gallery&utm_content=introduction-to-atoti\" target=\"_blank\" rel=\"noopener noreferrer\"><img src=\"https://data.atoti.io/notebooks/banners/Your-turn-to-try-Atoti.jpg\" alt=\"Try atoti\"></a></div>"
   ]
  }
 ],
 "metadata": {
  "kernelspec": {
   "display_name": "Python 3 (ipykernel)",
   "language": "python",
   "name": "python3"
  },
  "language_info": {
   "codemirror_mode": {
    "name": "ipython",
    "version": 3
   },
   "file_extension": ".py",
   "mimetype": "text/x-python",
   "name": "python",
   "nbconvert_exporter": "python",
   "pygments_lexer": "ipython3",
   "version": "3.11.10"
  },
  "toc-autonumbering": false,
  "toc-showcode": false,
  "toc-showtags": false,
  "widgets": {
   "application/vnd.jupyter.widget-state+json": {
    "state": {},
    "version_major": 2,
    "version_minor": 0
   }
  }
 },
 "nbformat": 4,
 "nbformat_minor": 5
}
