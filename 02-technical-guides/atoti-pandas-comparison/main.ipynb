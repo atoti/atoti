{
 "cells": [
  {
   "cell_type": "markdown",
   "id": "8f9de10c-6e03-43b0-90d3-519b607eb117",
   "metadata": {},
   "source": [
    "# Atoti vs pandas comparative analysis for Value at Risk: Atoti notebook\n",
    "\n",
    "Last tested version: <img src=\"https://img.shields.io/badge/Atoti-v0.8.14-blue\">"
   ]
  },
  {
   "cell_type": "markdown",
   "id": "98b11cca-c6c0-4ff9-8f51-b069bf011452",
   "metadata": {},
   "source": [
    "## Introduction\n",
    "\n",
    "Aiming to compare the advanced analytics capabilities of Atoti with that of pandas, we will build a notebook that implements, **using Atoti**, the main components of a VaR use case:\n",
    "\n",
    "* Compute VaR and ES:\n",
    "    * At two different confidence levels: 95% and 99%; \n",
    "    * At three different granularities: top-of-house (global value for entire financial institution), combination of book and trade, and combination of all attributes.\n",
    "* Track, for each of those queries, the:\n",
    "    * Response time;\n",
    "    * Memory usage.\n",
    "\n",
    "\n",
    "We will also enrich the use case by:\n",
    "* Computing the incremental VaR\n",
    "* Performing simulations\n",
    "\n",
    "💡 **Note:** This notebook uses a dataset of ~5.5GB, which may take a number of minutes to initially load."
   ]
  },
  {
   "cell_type": "markdown",
   "id": "3aae0c02-0f8f-4263-afb7-4d95f5153073",
   "metadata": {},
   "source": [
    "<div style=\"text-align: center;\" ><a href=\"https://www.atoti.io/?utm_source=gallery&utm_content=atoti-pandas-comparison\" target=\"_blank\" rel=\"noopener noreferrer\"><img src=\"https://data.atoti.io/notebooks/banners/Discover-Atoti-now.png\" alt=\"Try Atoti\"></a></div>"
   ]
  },
  {
   "cell_type": "markdown",
   "id": "d9e307e3-d0b4-4ccb-9b0b-bee06dffc2b6",
   "metadata": {},
   "source": [
    "# Imports"
   ]
  },
  {
   "cell_type": "code",
   "execution_count": null,
   "id": "d0293b54-92d4-4b57-9b61-8c25f0e7bc4a",
   "metadata": {},
   "outputs": [],
   "source": [
    "# !pip install memory_profiler\n",
    "# !pip install boto3"
   ]
  },
  {
   "cell_type": "code",
   "execution_count": null,
   "id": "de5d4f58-9d3b-4e6a-b96a-a48c29326481",
   "metadata": {},
   "outputs": [],
   "source": [
    "%load_ext memory_profiler"
   ]
  },
  {
   "cell_type": "code",
   "execution_count": null,
   "id": "c4f11d63-98c6-4daf-99be-47bd8b4f0c86",
   "metadata": {
    "tags": []
   },
   "outputs": [],
   "source": [
    "import atoti as tt\n",
    "import boto3"
   ]
  },
  {
   "cell_type": "markdown",
   "id": "6b274c78-28ba-48cc-ba06-13a07321eaa0",
   "metadata": {
    "tags": []
   },
   "source": [
    "# Session Creation\n",
    "\n",
    "Let's start by creating an Atoti session to host our in-memory data cube"
   ]
  },
  {
   "cell_type": "code",
   "execution_count": null,
   "id": "bfebf645-8331-41ce-917a-ab5799e61dd0",
   "metadata": {},
   "outputs": [],
   "source": [
    "session = tt.Session()"
   ]
  },
  {
   "cell_type": "markdown",
   "id": "0fe26e28-b142-4547-ae28-39871c401fb8",
   "metadata": {},
   "source": [
    "# Configuration of the Data model\n",
    "\n",
    "Once our session is up, we can start developing and configuring our data model. This will form the basis on top of which we build our cube and that will allow us to further enrich it and build a extensible semantic layer."
   ]
  },
  {
   "cell_type": "markdown",
   "id": "55785be6-2ed4-45a0-a1e3-1d69c3ee99c9",
   "metadata": {
    "tags": []
   },
   "source": [
    "### Trade PnL Table\n",
    "\n",
    "Our trade table is the main table that contains all the trades, some of their attributes, and, most importantly, their Profit-and-Loss (PnL) vectors.\n",
    "\n",
    "We will define the structure of the table, then feed it from out S3 repository. This will be a rather large dataset, which will allow us to perform our comparative analysis at a significant level."
   ]
  },
  {
   "cell_type": "code",
   "execution_count": null,
   "id": "61326daa-522d-43f9-93f2-14b2c23d66ef",
   "metadata": {},
   "outputs": [],
   "source": [
    "trades_atoti = session.create_table(\n",
    "    'TRADE_PNLS',\n",
    "    types={\n",
    "        'BOOKID': tt.type.DOUBLE,\n",
    "        'ASOFDATE': tt.type.LOCAL_DATE,\n",
    "        'TRADEID': tt.type.STRING,\n",
    "        'DATASET': tt.type.STRING,\n",
    "        'RISKFACTOR': tt.type.STRING,\n",
    "        'RISKCLASS': tt.type.STRING,\n",
    "        'SENSITIVITYNAME': tt.type.STRING,\n",
    "        'CCY': tt.type.STRING,\n",
    "        'TID': tt.type.DOUBLE,\n",
    "        'PNL_VECTOR': tt.type.DOUBLE_ARRAY,\n",
    "    },\n",
    "    default_values={\"BOOKID\": 0.0, \"TID\": 0.0}    \n",
    ")"
   ]
  },
  {
   "cell_type": "code",
   "execution_count": null,
   "id": "fbd8730d-dae1-41b2-a810-ed0a8d15e909",
   "metadata": {},
   "outputs": [],
   "source": [
    "bucket='bd-connect-london-hybrid-demo-202306'\n",
    "s3 = boto3.resource('s3')\n",
    "myBucket = s3.Bucket(bucket)"
   ]
  },
  {
   "cell_type": "code",
   "execution_count": null,
   "id": "b54a2a04-b481-490d-8b51-7bd4dae31ad6",
   "metadata": {},
   "outputs": [],
   "source": [
    "for object_summary in myBucket.objects.filter(Prefix=\"data/pnl/\"):\n",
    "    file='s3://'+bucket+'/'+object_summary.key\n",
    "    if (file != 's3://bd-connect-london-hybrid-demo-202306/data/pnl/'):\n",
    "        trades_atoti.load_parquet(file)"
   ]
  },
  {
   "cell_type": "markdown",
   "id": "db240546-3f50-4bf1-9a4f-2571398d50df",
   "metadata": {},
   "source": [
    "### Book Table\n",
    "\n",
    "The book table will enrich the data model with information about the books that contain our trades."
   ]
  },
  {
   "cell_type": "code",
   "execution_count": null,
   "id": "c3ebc6e8-e795-41d0-b018-895cfeb992ba",
   "metadata": {},
   "outputs": [],
   "source": [
    "books_atoti = session.read_csv(\"./data/books.csv\", table_name=\"BOOKS\", keys=['BOOKID'])"
   ]
  },
  {
   "cell_type": "markdown",
   "id": "84dd447d-638c-48d9-9fed-4f648d0bd10b",
   "metadata": {},
   "source": [
    "## Join tables"
   ]
  },
  {
   "cell_type": "code",
   "execution_count": null,
   "id": "75786ddb-f355-4844-9017-2f4e598d369c",
   "metadata": {},
   "outputs": [],
   "source": [
    "trades_atoti.join(books_atoti, trades_atoti[\"BOOKID\"] == books_atoti[\"BOOKID\"])"
   ]
  },
  {
   "cell_type": "markdown",
   "id": "ce7da9bb-7f40-4cc4-b061-d530b415df7c",
   "metadata": {},
   "source": [
    "# Semantic Layer"
   ]
  },
  {
   "cell_type": "markdown",
   "id": "6a2dee61-9e7a-4cc8-9239-4df00f934a46",
   "metadata": {},
   "source": [
    "## Cube creation\n",
    "\n",
    "Our underlying data model is defined by joining the different tables. All that's left is to build a cube on top of it."
   ]
  },
  {
   "cell_type": "code",
   "execution_count": null,
   "id": "0008e324-0686-4fbe-89da-b8bd79b9422e",
   "metadata": {},
   "outputs": [],
   "source": [
    "cube = session.create_cube(trades_atoti, mode='no_measures')\n",
    "\n",
    "m, l, h = cube.measures, cube.levels, cube.hierarchies"
   ]
  },
  {
   "cell_type": "code",
   "execution_count": null,
   "id": "775b0227-1854-40ac-9c88-32d30489157c",
   "metadata": {},
   "outputs": [],
   "source": [
    "session.tables.schema"
   ]
  },
  {
   "cell_type": "markdown",
   "id": "5080ed88-2859-45b5-9860-aef73e170473",
   "metadata": {},
   "source": [
    "## Hierarchy configuration\n",
    "\n",
    "Here we add the BOOKID hierarchy to be used in the queries, and create a multi-level hierarchy that will allow us to define and compute an incremental VaR measure down the line."
   ]
  },
  {
   "cell_type": "code",
   "execution_count": null,
   "id": "87dc65a3-5b17-48a1-9286-6c5d83aac8ae",
   "metadata": {},
   "outputs": [],
   "source": [
    "h[\"BOOKID\"] = [trades_atoti['BOOKID']]                            "
   ]
  },
  {
   "cell_type": "code",
   "execution_count": null,
   "id": "02900b9f-8dcb-4b1d-b99f-ee389c7a74f4",
   "metadata": {},
   "outputs": [],
   "source": [
    "h[\"Trading Book Hierarchy\"] = {\n",
    "    \"Desk\": l[\"TRADING_DESK\"],\n",
    "    \"Book\": l[\"BOOK\"],\n",
    "}"
   ]
  },
  {
   "cell_type": "markdown",
   "id": "7642cda5-a0c6-493a-9712-1c405a08cfc7",
   "metadata": {},
   "source": [
    "## Measure Configuration\n",
    "\n",
    "This is the part where most of the relevant metrics will be defined and added to the base cube. We start by loading our PnL vectors into a measure, that will make it both queriable and usable by other subsequent measures, but that will also aggregate it at any desired level."
   ]
  },
  {
   "cell_type": "code",
   "execution_count": null,
   "id": "1674cc17-126c-4b1f-894f-2c820d4e9e4b",
   "metadata": {
    "tags": []
   },
   "outputs": [],
   "source": [
    "m[\"PNL_VECTOR\"] = tt.agg.sum(trades_atoti['PNL_VECTOR'])"
   ]
  },
  {
   "cell_type": "markdown",
   "id": "f2d4e187-e4d3-4165-9e6f-32e59c592900",
   "metadata": {},
   "source": [
    "### VAR 95%"
   ]
  },
  {
   "cell_type": "markdown",
   "id": "4b93db18-0974-421e-8565-920be035470b",
   "metadata": {},
   "source": [
    "### Computing VaR and ES, defined once, yet applicable to any level of aggregation\n",
    "\n",
    "Since the \"PNL_VECTOR\" measure defined above implicitly manages the aggregation of the vectors at any queried level, the only thing left to obtain our VaR metrics is to apply the necessary statistical functions on top of it. \n",
    "Note that each of the metrics will only be defined once, yet it will be queriable and computable at **any required granularity of level of aggregation**, which saves us a lot of typing and redundancy compared to pandas, where each level of aggregation would require its own block of code."
   ]
  },
  {
   "cell_type": "code",
   "execution_count": null,
   "id": "8d535193-b0ee-41e1-a802-cda7f5c35519",
   "metadata": {},
   "outputs": [],
   "source": [
    "m[\"VaR95\"] = tt.array.quantile(m[\"PNL_VECTOR\"], 1 - 0.95)\n",
    "m[\"VaR99\"] = tt.array.quantile(m[\"PNL_VECTOR\"], 1- 0.99)\n",
    "m[\"ES95\"] = tt.array.mean(tt.array.n_lowest(m[\"PNL_VECTOR\"], n=12))"
   ]
  },
  {
   "cell_type": "markdown",
   "id": "9aead86b-7e56-4ff3-a40f-34214e10db20",
   "metadata": {
    "tags": []
   },
   "source": [
    "### Incremental VaR (Parent VAR - Parent VAR excluding self)\n",
    "\n",
    "Going even further, and thanks to the semantic dimension introduced by Atoti, the cube understands the hierarchical order and relationship between the different levels of a multi-level hierarchy, and provides functions and elements that leverage those semantics to derive measures based off of those relationships **(the SiblingsScope scope and the parent_value() function)**"
   ]
  },
  {
   "cell_type": "code",
   "execution_count": null,
   "id": "be9e7209-f9d1-40d4-acc2-90d0ef24c41b",
   "metadata": {
    "tags": []
   },
   "outputs": [],
   "source": [
    "# Aggregated vector at parent level, excluding self\n",
    "m[\"Parent PnL Vector Ex\"] = tt.agg.sum(\n",
    "    m[\"PNL_VECTOR\"],\n",
    "    scope=tt.SiblingsScope(hierarchy=h[\"Trading Book Hierarchy\"], exclude_self=True),\n",
    ")\n",
    "\n",
    "# VaR at the parent level\n",
    "m[\"Parent VaR95\"] = tt.parent_value(m[\"VaR95\"], degrees={h[\"Trading Book Hierarchy\"]:1})\n",
    "\n",
    "# VaR at the parent level excluding self\n",
    "m[\"Parent VaR95 Ex\"] = tt.array.quantile(m[\"Parent PnL Vector Ex\"],  (0.05))\n",
    "\n",
    "# Incremental VaR\n",
    "m[\"Incremental VaR95\"] = m[\"Parent VaR95\"] - m[\"Parent VaR95 Ex\"]"
   ]
  },
  {
   "cell_type": "markdown",
   "id": "3c5496bf-3ac4-4403-8ba4-303e266a3cac",
   "metadata": {},
   "source": [
    "# Performing the analytics"
   ]
  },
  {
   "cell_type": "markdown",
   "id": "ff1d197b-f92e-4fd9-9fea-c0cdb703a77f",
   "metadata": {},
   "source": [
    "## Using Atoti UI widgets\n",
    "\n",
    "We will use the Active UI JupyterLab extension to embed widgets and visualize our desired data within the notebook.\n",
    "Within one widget, we are able to visualize and analyze all of our VaR metrics, at all 3 aggregation levels (Top-of-house is on the Totals row, and you can drill down to get down to the book and trade levels with a couple of clicks)"
   ]
  },
  {
   "cell_type": "code",
   "execution_count": null,
   "id": "0aacaecb-2d19-4a1e-9ec7-28127fe7fd23",
   "metadata": {
    "atoti": {
     "widget": {
      "mapping": {
       "columns": [
        "ALL_MEASURES"
       ],
       "measures": [
        "[Measures].[VaR95]",
        "[Measures].[VaR99]",
        "[Measures].[ES95]",
        "[Measures].[Incremental VaR95]"
       ],
       "rows": [
        "[BOOKS].[Trading Book Hierarchy].[Desk] => [BOOKS].[Trading Book Hierarchy].[Book] => [TRADE_PNLS].[TRADEID].[TRADEID]"
       ]
      },
      "name": "VaR Metrics at All Three Aggregation Levels",
      "query": {
       "mdx": "SELECT NON EMPTY {[Measures].[VaR95], [Measures].[VaR99], [Measures].[ES95], [Measures].[Incremental VaR95]} ON COLUMNS, NON EMPTY Hierarchize(Descendants({[BOOKS].[Trading Book Hierarchy].[ALL].[AllMember]}, 1, SELF_AND_BEFORE)) DIMENSION PROPERTIES CHILDREN_CARDINALITY ON ROWS FROM [TRADE_PNLS] CELL PROPERTIES VALUE, FORMATTED_VALUE, BACK_COLOR, FORE_COLOR, FONT_FLAGS",
       "updateMode": "once"
      },
      "serverKey": "default",
      "widgetKey": "pivot-table"
     }
    }
   },
   "outputs": [],
   "source": [
    "session.widget"
   ]
  },
  {
   "cell_type": "markdown",
   "id": "46cb039b-892b-42f5-906c-3b28f8c22415",
   "metadata": {},
   "source": [
    "## Performing queries against the cube\n",
    "\n",
    "Even though this defeats some of the purpose of having Atoti UI as a native and integral part of Atoti, allowing for readily accessible, streamlined, optimized analytics on top of the cube, Atoti still allows for throwing code-based queries against the cube that return a DataFrame as a result. \n",
    "\n",
    "We will now perform these queries in order to have **a fair basis for comparison** against the outputs of the pandas implementation. \n",
    "\n",
    "However, keep in mind that even though these Atoti queries are optimized and will outperform the pandas approach everytime, using Atoti UI will provide an even better outcome.\n",
    "\n",
    "the **time and memit magic commands** are used to track, respectively, the **response times** and **memory usage** of these queries."
   ]
  },
  {
   "cell_type": "markdown",
   "id": "242b576c-e546-4b42-a5fe-2f18fd693087",
   "metadata": {},
   "source": [
    "### Computing Top of House VaR and ES"
   ]
  },
  {
   "cell_type": "code",
   "execution_count": null,
   "id": "63126901-8bba-477c-bab6-d58c91a02c3e",
   "metadata": {},
   "outputs": [],
   "source": [
    "%%time\n",
    "%%memit\n",
    "\n",
    "cube.query(m['VaR95'], m['VaR99'], m['ES95'], mode='raw')"
   ]
  },
  {
   "cell_type": "markdown",
   "id": "63961237-ac08-4dd3-ab62-d0506ad64978",
   "metadata": {},
   "source": [
    "### Computing VaR and ES at BookId and TradeId Level"
   ]
  },
  {
   "cell_type": "code",
   "execution_count": null,
   "id": "680d5281-74a3-4ab2-a3b4-24303732a57c",
   "metadata": {},
   "outputs": [],
   "source": [
    "%%time\n",
    "%%memit\n",
    "\n",
    "cube.query(m['VaR95'], m['VaR99'], m['ES95'], levels=[l['ASOFDATE'], l['BOOKID'], l['TRADEID']], mode='raw')"
   ]
  },
  {
   "cell_type": "markdown",
   "id": "01acfc75-8e6b-4747-83e9-7f3494bf396e",
   "metadata": {},
   "source": [
    "### Computing VaR and ES at the most granular level (combination of all available qualitative hierarchies) "
   ]
  },
  {
   "cell_type": "code",
   "execution_count": null,
   "id": "74466716-90d8-41c1-b644-d770b95f686f",
   "metadata": {},
   "outputs": [],
   "source": [
    "%%time\n",
    "%%memit\n",
    "\n",
    "cube.query(m['VaR95'], m['VaR99'], m['ES95'], levels=[l['ASOFDATE'], l['BUSINESS_UNIT'], l['SUB_BUSINESS_UNIT'], l['TRADING_DESK'] , l['BOOKID'], l['RISKCLASS'], l['TRADEID']], mode='raw')"
   ]
  },
  {
   "cell_type": "markdown",
   "id": "25c4e555-a1be-4acd-9031-dd6b68d6a11f",
   "metadata": {},
   "source": [
    "# What If Scenarios\n",
    "\n",
    "Going beyond the VaR metrics, Atoti facilitates other components of advanced analytics, namely performing simulations by leveraging its built-in branching capabilities.\n",
    "\n",
    "Here, we will create a new branch, or scenario, where we will be able to load in a stressed version of our dataset. Then, by simply adding the \"Source Simulation\" or \"Scenario\" hierarchy on our columns, we obtain a side-by-side comparison of how each of our measures evaluate for each of our scenarios.\n",
    "\n",
    "Note that this is extremely optimized as any additional branch will only store and keep track of the data points that present a difference compared to the base branch."
   ]
  },
  {
   "cell_type": "code",
   "execution_count": null,
   "id": "46f9067c-9f33-4c6c-bd37-c355b43dd13d",
   "metadata": {},
   "outputs": [],
   "source": [
    "addon_scenario = trades_atoti.scenarios[\"Stress-Test\"]\n",
    "\n",
    "addon_scenario.load_parquet('s3://bd-connect-london-hybrid-demo-202306/data/simulation/pnl_16.parquet')"
   ]
  },
  {
   "cell_type": "code",
   "execution_count": null,
   "id": "6f03c3fa-dd27-4b8b-bad6-c8ed0ae159f6",
   "metadata": {
    "atoti": {
     "widget": {
      "mapping": {
       "columns": [
        "[Epoch].[Epoch].[Branch]",
        "ALL_MEASURES"
       ],
       "measures": [
        "[Measures].[VaR95]",
        "[Measures].[VaR99]",
        "[Measures].[ES95]"
       ],
       "rows": [
        "[BOOKS].[Trading Book Hierarchy].[Desk]"
       ]
      },
      "name": "VaR across Scenarios",
      "query": {
       "mdx": "SELECT NON EMPTY Crossjoin([Epoch].[Epoch].[Branch].Members, {[Measures].[VaR95], [Measures].[VaR99], [Measures].[ES95]}) ON COLUMNS, NON EMPTY Hierarchize(Descendants({[BOOKS].[Trading Book Hierarchy].[ALL].[AllMember]}, 1, SELF_AND_BEFORE)) DIMENSION PROPERTIES CHILDREN_CARDINALITY ON ROWS FROM [TRADE_PNLS] CELL PROPERTIES VALUE, FORMATTED_VALUE, BACK_COLOR, FORE_COLOR, FONT_FLAGS",
       "updateMode": "once"
      },
      "serverKey": "default",
      "widgetKey": "pivot-table"
     }
    }
   },
   "outputs": [],
   "source": [
    "session.widget"
   ]
  },
  {
   "cell_type": "markdown",
   "id": "0f3f89bf-9cc6-47b8-abd1-4e953601bb27",
   "metadata": {},
   "source": [
    "<div style=\"text-align: center;\" ><a href=\"https://www.atoti.io/?utm_source=gallery&utm_content=atoti-pandas-comparison\" target=\"_blank\" rel=\"noopener noreferrer\"><img src=\"https://data.atoti.io/notebooks/banners/Your-turn-to-try-Atoti.jpg\" alt=\"Try Atoti\"></a></div>"
   ]
  }
 ],
 "metadata": {
  "kernelspec": {
   "display_name": "Python 3 (ipykernel)",
   "language": "python",
   "name": "python3"
  },
  "language_info": {
   "codemirror_mode": {
    "name": "ipython",
    "version": 3
   },
   "file_extension": ".py",
   "mimetype": "text/x-python",
   "name": "python",
   "nbconvert_exporter": "python",
   "pygments_lexer": "ipython3",
   "version": "3.11.9"
  },
  "widgets": {
   "application/vnd.jupyter.widget-state+json": {
    "state": {},
    "version_major": 2,
    "version_minor": 0
   }
  }
 },
 "nbformat": 4,
 "nbformat_minor": 5
}
