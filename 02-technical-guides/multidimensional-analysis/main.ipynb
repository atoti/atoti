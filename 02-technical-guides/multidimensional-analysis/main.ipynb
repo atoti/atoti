{
 "cells": [
  {
   "cell_type": "markdown",
   "id": "f3572592-7139-4cb5-82ec-eb5afefa929f",
   "metadata": {
    "editable": true,
    "slideshow": {
     "slide_type": ""
    },
    "tags": []
   },
   "source": [
    "# Multidimensional Analysis\n",
    "\n",
    "In this notebook, we'll be show you how to perform multidimensional analysis, allowing users to observe data from different viewpoints."
   ]
  },
  {
   "cell_type": "markdown",
   "id": "3aba2356-25d6-4bde-9ef2-49f4f049afb8",
   "metadata": {},
   "source": [
    "<div style=\"text-align: center;\"><img src=\"https://data.atoti.io/notebooks/multidimension/img/cube-slice-dice.png\"></div>"
   ]
  },
  {
   "cell_type": "markdown",
   "id": "430ae29e-d1cd-4dce-83bf-f6664082ecbe",
   "metadata": {},
   "source": [
    "<div style=\"text-align:center\"><a href=\"https://www.atoti.io/?utm_source=gallery&utm_content=multidimensional-analysis\" target=\"_blank\" rel=\"noopener noreferrer\"><img src=\"https://data.atoti.io/notebooks/banners/Discover-Atoti-now.png\" alt=\"atoti table\" /></a></div>"
   ]
  },
  {
   "cell_type": "code",
   "execution_count": 1,
   "id": "43850b85-2acc-445c-aa89-9b2939a0e6a8",
   "metadata": {},
   "outputs": [],
   "source": [
    "import pandas as pd\n",
    "import atoti as tt"
   ]
  },
  {
   "cell_type": "code",
   "execution_count": null,
   "id": "47c0734a-58bd-4487-922e-a0775c61517d",
   "metadata": {},
   "outputs": [],
   "source": [
    "session = tt.Session.start()"
   ]
  },
  {
   "cell_type": "code",
   "execution_count": null,
   "id": "dbb89caf-5375-40ff-9766-2dad75c67017",
   "metadata": {},
   "outputs": [],
   "source": [
    "sales = session.read_csv(\n",
    "    \"s3://data.atoti.io/notebooks/multidimension/sales.csv\",\n",
    "    table_name=\"Sales\",\n",
    "    data_types={\"Unit price\": tt.type.DOUBLE},\n",
    ")\n",
    "sales.head()"
   ]
  },
  {
   "cell_type": "code",
   "execution_count": null,
   "id": "efb6008d-b7fa-4980-a42c-e230e2d9ab4f",
   "metadata": {},
   "outputs": [],
   "source": [
    "cube = session.create_cube(sales, \"sales cube\")"
   ]
  },
  {
   "cell_type": "markdown",
   "id": "e043c008-f810-4495-bf7c-594696e68b66",
   "metadata": {},
   "source": [
    "# Data are group into two categories - Data dimensions and measurements"
   ]
  },
  {
   "cell_type": "code",
   "execution_count": null,
   "id": "6b740eea-1e79-40bb-9076-eeb9fa82bfbc",
   "metadata": {},
   "outputs": [],
   "source": [
    "cube"
   ]
  },
  {
   "cell_type": "markdown",
   "id": "7e1ca805-b5d6-48df-95ff-9228f7146d4b",
   "metadata": {},
   "source": [
    "<img alt=\"Multidimensional cube concept\" src=\"https://data.atoti.io/notebooks/multidimension/img/cube-concept.svg\" width=\"400\" />\n",
    "\n",
    "The axes of the cube are called _hierarchies_."
   ]
  },
  {
   "cell_type": "code",
   "execution_count": null,
   "id": "e44629ea-118e-4977-90da-7713a72bb9d4",
   "metadata": {
    "atoti": {
     "widget": {
      "filters": [
       {
        "dimensionName": "Sales",
        "hierarchyName": "Product",
        "isExclusionFilter": false,
        "members": [
         [
          "AllMember",
          "BED_24"
         ]
        ],
        "type": "members"
       }
      ],
      "mapping": {
       "columns": [
        "[Sales].[Product].[Product]",
        "ALL_MEASURES"
       ],
       "measures": [
        "[Measures].[Quantity.SUM]",
        "[Measures].[Unit price.SUM]"
       ],
       "rows": [
        "[Sales].[Shop].[Shop] => [Sales].[Date].[Date]"
       ]
      },
      "query": {
       "mdx": "SELECT NON EMPTY Hierarchize(Descendants({[Sales].[Shop].[ALL].[AllMember]}, 1, SELF_AND_BEFORE)) ON ROWS, NON EMPTY Crossjoin(Hierarchize(Descendants({[Sales].[Product].[ALL].[AllMember]}, 1, SELF_AND_BEFORE)), {[Measures].[Quantity.SUM], [Measures].[Unit price.SUM]}) ON COLUMNS FROM [sales cube] CELL PROPERTIES VALUE, FORMATTED_VALUE, BACK_COLOR, FORE_COLOR, FONT_FLAGS",
       "updateMode": "once"
      },
      "serverKey": "default",
      "widgetKey": "pivot-table"
     }
    },
    "editable": true,
    "slideshow": {
     "slide_type": ""
    },
    "tags": []
   },
   "outputs": [],
   "source": [
    "session.widget"
   ]
  },
  {
   "cell_type": "markdown",
   "id": "760a5bbe-c253-4a29-88df-6e2dcd6f0f31",
   "metadata": {
    "tags": []
   },
   "source": [
    "# Capable of integrating multiple data sources "
   ]
  },
  {
   "cell_type": "code",
   "execution_count": null,
   "id": "865ba8eb-97ca-4bdc-8a24-ba0cc479e20c",
   "metadata": {},
   "outputs": [],
   "source": [
    "products = session.read_csv(\n",
    "    \"s3://data.atoti.io/notebooks/multidimension/products.csv\",\n",
    "    table_name=\"Products\",\n",
    "    keys=[\"Product\"],\n",
    ")\n",
    "products.head()"
   ]
  },
  {
   "cell_type": "code",
   "execution_count": null,
   "id": "d4af45a9-98e7-4053-912d-7b5bcf75fda3",
   "metadata": {},
   "outputs": [],
   "source": [
    "sales.join(products)\n",
    "session.tables.schema"
   ]
  },
  {
   "cell_type": "code",
   "execution_count": null,
   "id": "22060b6f-8d9d-443a-ab2f-ab00e0180a21",
   "metadata": {},
   "outputs": [],
   "source": [
    "h, l, m = cube.hierarchies, cube.levels, cube.measures"
   ]
  },
  {
   "cell_type": "code",
   "execution_count": null,
   "id": "92b6fb72-eba8-4ec7-b002-0464b279f726",
   "metadata": {},
   "outputs": [],
   "source": [
    "h"
   ]
  },
  {
   "cell_type": "code",
   "execution_count": null,
   "id": "ce1e2257-ffb6-4819-8f60-a179f5ff47b8",
   "metadata": {},
   "outputs": [],
   "source": [
    "h[\"Product categories\"] = [l[\"Category\"], l[\"Sub category\"]]"
   ]
  },
  {
   "cell_type": "code",
   "execution_count": null,
   "id": "05bdd8e7-265e-4da1-bd6e-646493d268cd",
   "metadata": {
    "atoti": {
     "height": 357,
     "widget": {
      "mapping": {
       "columns": [
        "ALL_MEASURES"
       ],
       "measures": [
        "[Measures].[Unit price.SUM]",
        "[Measures].[Quantity.SUM]"
       ],
       "rows": [
        "[Sales].[Shop].[Shop] => [Products].[Product categories].[Sub category]"
       ]
      },
      "query": {
       "mdx": "SELECT NON EMPTY {[Measures].[Unit price.SUM], [Measures].[Quantity.SUM]} ON COLUMNS, NON EMPTY Hierarchize(Union(Crossjoin(Descendants({[Sales].[Shop].[AllMember]}, 1, SELF_AND_BEFORE), [Products].[Product categories].DefaultMember), Crossjoin([Sales].[Shop].[AllMember].[shop_0], Hierarchize(Descendants({[Products].[Product categories].[AllMember]}, 2, SELF_AND_BEFORE))))) ON ROWS FROM [sales cube] CELL PROPERTIES VALUE, FORMATTED_VALUE, BACK_COLOR, FORE_COLOR, FONT_FLAGS",
       "updateMode": "once"
      },
      "serverKey": "default",
      "widgetKey": "pivot-table"
     }
    },
    "tags": []
   },
   "outputs": [],
   "source": [
    "session.widget"
   ]
  },
  {
   "cell_type": "markdown",
   "id": "c616bde0-866c-498e-8d20-efb34bda175b",
   "metadata": {
    "tags": []
   },
   "source": [
    "# Aggregational flexibility - Pre-processing vs Post-processing\n",
    "\n"
   ]
  },
  {
   "cell_type": "markdown",
   "id": "d2c0baf8-56d2-4390-a5e1-980bbabfb29e",
   "metadata": {},
   "source": [
    "## Pre-processing trades storage consumption for computational efficiency"
   ]
  },
  {
   "cell_type": "code",
   "execution_count": null,
   "id": "fedc6bef-3477-44e7-af8f-43ad4a4e83de",
   "metadata": {},
   "outputs": [],
   "source": [
    "product_df = pd.read_csv(\"https://data.atoti.io/notebooks/multidimension/products.csv\")\n",
    "product_df.head()"
   ]
  },
  {
   "cell_type": "code",
   "execution_count": null,
   "id": "cb39573f-7d29-4330-8702-cd4c58c3354f",
   "metadata": {},
   "outputs": [],
   "source": [
    "sales_df = pd.read_csv(\"https://data.atoti.io/notebooks/multidimension/sales.csv\")\n",
    "sales_df.head()"
   ]
  },
  {
   "cell_type": "markdown",
   "id": "b3cbb744-338e-49cf-8312-91bf823fe06f",
   "metadata": {},
   "source": [
    "Within the same data source, we can easily perform aggregation by applying the formulas. Notice that our dataset just grew bigger with the additional column? By loading this dataset, we traded storage consumption for the computational efficiency because the cube need not compute the sales amount every time we query it."
   ]
  },
  {
   "cell_type": "code",
   "execution_count": null,
   "id": "6f3285c3-f86a-4adf-8522-fd29e32d49bb",
   "metadata": {},
   "outputs": [],
   "source": [
    "sales_df[\"Sales amount\"] = sales_df[\"Quantity\"] * sales_df[\"Unit price\"]\n",
    "sales_df.head()"
   ]
  },
  {
   "cell_type": "markdown",
   "id": "7f9c6fdd-366a-4b7a-9925-eefec9545e27",
   "metadata": {},
   "source": [
    "When aggregation involves multiple data sources, then we need to handle the joins before we can apply the formulas."
   ]
  },
  {
   "cell_type": "code",
   "execution_count": null,
   "id": "83fc8e4a-cb1b-4c60-8b66-91f6aa313107",
   "metadata": {},
   "outputs": [],
   "source": [
    "product_sales = pd.merge(sales_df, product_df, on=\"Product\")\n",
    "product_sales.head()"
   ]
  },
  {
   "cell_type": "code",
   "execution_count": null,
   "id": "136afb1e-57f2-4d00-a3a4-8aff63a31469",
   "metadata": {},
   "outputs": [],
   "source": [
    "product_sales[\"Cost price\"] = (\n",
    "    product_sales[\"Quantity\"] * product_sales[\"Purchase price\"]\n",
    ")\n",
    "product_sales[\"Margin\"] = sales_df[\"Sales amount\"] - product_sales[\"Cost price\"]\n",
    "product_sales.head()"
   ]
  },
  {
   "cell_type": "markdown",
   "id": "7b57e887-bf01-41c0-95fe-0aabeb636412",
   "metadata": {},
   "source": [
    "Pre-processing works when we are at the most granular level because we will still be able to drill down or roll up. At higher aggregation level, we will not know how to break the value when we drill down to the lower level."
   ]
  },
  {
   "cell_type": "markdown",
   "id": "81719157-0196-4bff-b336-471f25aeaf91",
   "metadata": {},
   "source": [
    "<div style=\"text-align: center;\"><img src=\"https://data.atoti.io/notebooks/multidimension/img/drilldown_rollup.png\" width=\"50%\"></div>"
   ]
  },
  {
   "cell_type": "markdown",
   "id": "f56c58ae-27f2-472a-841b-5f01aa686181",
   "metadata": {
    "tags": []
   },
   "source": [
    "## Post-processing computes on the fly and provides flexibility"
   ]
  },
  {
   "cell_type": "code",
   "execution_count": null,
   "id": "d0e7d65b-a300-44ed-9ae2-4187ec1659c3",
   "metadata": {},
   "outputs": [],
   "source": [
    "h, l, m = cube.hierarchies, cube.levels, cube.measures"
   ]
  },
  {
   "cell_type": "code",
   "execution_count": null,
   "id": "4c2fca52-9025-4277-9770-949e5e55513b",
   "metadata": {},
   "outputs": [],
   "source": [
    "m[\"Sales amount\"] = tt.agg.sum(\n",
    "    sales[\"Quantity\"] * sales[\"Unit price\"],\n",
    ")"
   ]
  },
  {
   "cell_type": "code",
   "execution_count": null,
   "id": "d5693639-d478-43d2-999b-1647602cb1ac",
   "metadata": {},
   "outputs": [],
   "source": [
    "m[\"Cost price\"] = tt.agg.sum(\n",
    "    m[\"Quantity.SUM\"] * tt.agg.single_value(products[\"Purchase price\"]),\n",
    "    scope=tt.OriginScope(levels={l[\"Product\"]}),\n",
    ")"
   ]
  },
  {
   "cell_type": "code",
   "execution_count": null,
   "id": "7df79c7f-a67e-40da-b503-bd80d65b3709",
   "metadata": {},
   "outputs": [],
   "source": [
    "m[\"Margin\"] = m[\"Sales amount\"] - m[\"Cost price\"]"
   ]
  },
  {
   "cell_type": "code",
   "execution_count": null,
   "id": "90571a79-f793-4fc8-a969-f3eb4f6bdc33",
   "metadata": {},
   "outputs": [],
   "source": [
    "m[\"Cumulative amount\"] = tt.agg.sum(\n",
    "    m[\"Sales amount\"], scope=tt.CumulativeScope(level=l[\"Date\"])\n",
    ")\n",
    "\n",
    "m[\"Cumulative margin\"] = tt.agg.sum(\n",
    "    m[\"Margin\"], scope=tt.CumulativeScope(level=l[\"Date\"])\n",
    ")"
   ]
  },
  {
   "cell_type": "markdown",
   "id": "1f55e25f-42a7-4092-9462-48016bcee711",
   "metadata": {},
   "source": [
    "In the visualization below, we are missing the sales data for `Shop_0` on 15 Jan 2021. Suppose we use pre-processing computation to get the cumulative values, we will need to perform re-calculation and then reload the data into the cube. With post-processing, this is not required as the data is computed on the fly."
   ]
  },
  {
   "cell_type": "code",
   "execution_count": null,
   "id": "dc945967-d009-4b72-aa8b-13b752e11bbb",
   "metadata": {
    "atoti": {
     "widget": {
      "filters": [],
      "mapping": {
       "columns": [
        "ALL_MEASURES"
       ],
       "measures": [
        "[Measures].[Margin]",
        "[Measures].[Cumulative margin]"
       ],
       "rows": [
        "[Sales].[Date].[Date]"
       ]
      },
      "query": {
       "mdx": "SELECT NON EMPTY Hierarchize(Descendants({[Sales].[Date].[AllMember]}, 1, SELF_AND_BEFORE)) ON ROWS, NON EMPTY {[Measures].[Margin], [Measures].[Cumulative margin]} ON COLUMNS FROM [sales cube] CELL PROPERTIES VALUE, FORMATTED_VALUE, BACK_COLOR, FORE_COLOR, FONT_FLAGS",
       "updateMode": "once"
      },
      "serverKey": "default",
      "switchedTo": "plotly-line-chart",
      "widgetKey": "tree-table"
     }
    },
    "tags": []
   },
   "outputs": [],
   "source": [
    "session.widget"
   ]
  },
  {
   "cell_type": "code",
   "execution_count": null,
   "id": "b76f6b23-2423-4c05-95fa-e7e54bdb1d67",
   "metadata": {
    "atoti": {
     "height": 390,
     "widget": {
      "columnWidths": {
       "[Measures].[Cumulative margin]": 165
      },
      "filters": [],
      "mapping": {
       "columns": [
        "ALL_MEASURES"
       ],
       "measures": [
        "[Measures].[Margin]",
        "[Measures].[Cumulative margin]"
       ],
       "rows": [
        "[Sales].[Date].[Date]"
       ]
      },
      "query": {
       "mdx": "SELECT NON EMPTY Hierarchize(Descendants({[Sales].[Date].[AllMember]}, 1, SELF_AND_BEFORE)) ON ROWS, NON EMPTY {[Measures].[Margin], [Measures].[Cumulative margin]} ON COLUMNS FROM [sales cube] CELL PROPERTIES VALUE, FORMATTED_VALUE, BACK_COLOR, FORE_COLOR, FONT_FLAGS",
       "updateMode": "once"
      },
      "serverKey": "default",
      "widgetKey": "pivot-table"
     }
    },
    "tags": []
   },
   "outputs": [],
   "source": [
    "session.widget"
   ]
  },
  {
   "cell_type": "markdown",
   "id": "bfad2809-47d7-42e2-b9dc-bc24ecdbab03",
   "metadata": {},
   "source": [
    "Simply load the missing data into the cube and it will be computed automatically."
   ]
  },
  {
   "cell_type": "code",
   "execution_count": null,
   "id": "57330a4f-f852-4104-858e-c5ca2d863386",
   "metadata": {},
   "outputs": [],
   "source": [
    "sales.load(tt.CsvLoad(\"s3://data.atoti.io/notebooks/multidimension/shop0_20210115.csv\"))"
   ]
  },
  {
   "cell_type": "markdown",
   "id": "098b95d9-8ce4-40af-b0f6-51015357490a",
   "metadata": {},
   "source": [
    "Re-running the last 2 visualizations should reflect the correct sales."
   ]
  },
  {
   "cell_type": "markdown",
   "id": "828ee921-d6a6-40f5-8df9-541687f22344",
   "metadata": {
    "editable": true,
    "slideshow": {
     "slide_type": ""
    },
    "tags": []
   },
   "source": [
    "<div style=\"text-align:center\"><a href=\"https://www.atoti.io/?utm_source=gallery&utm_content=multidimensional-analysis\" target=\"_blank\" rel=\"noopener noreferrer\"><img src=\"https://data.atoti.io/notebooks/banners/Your-turn-to-try-Atoti.jpg\" alt=\"Atoti table\" /></a></div>"
   ]
  }
 ],
 "metadata": {
  "kernelspec": {
   "display_name": "Python 3 (ipykernel)",
   "language": "python",
   "name": "python3"
  },
  "language_info": {
   "codemirror_mode": {
    "name": "ipython",
    "version": 3
   },
   "file_extension": ".py",
   "mimetype": "text/x-python",
   "name": "python",
   "nbconvert_exporter": "python",
   "pygments_lexer": "ipython3",
   "version": "3.11.10"
  },
  "widgets": {
   "application/vnd.jupyter.widget-state+json": {
    "state": {},
    "version_major": 2,
    "version_minor": 0
   }
  }
 },
 "nbformat": 4,
 "nbformat_minor": 5
}
