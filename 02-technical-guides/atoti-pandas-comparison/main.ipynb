{
 "cells": [
  {
   "cell_type": "markdown",
   "id": "8f9de10c-6e03-43b0-90d3-519b607eb117",
   "metadata": {},
   "source": [
    "# Atoti vs pandas Comparative Analysis for Value at Risk: Atoti Notebook"
   ]
  },
  {
   "cell_type": "markdown",
   "id": "98b11cca-c6c0-4ff9-8f51-b069bf011452",
   "metadata": {},
   "source": [
    "To compare the advanced analytics capabilities of Atoti with that of pandas, we will build a notebook that implements, **using Atoti**, the main components of a VaR use case:\n",
    "\n",
    "* Compute VaR and ES:\n",
    "    * At two different confidence levels: 95% and 99%\n",
    "    * At three different granularities: top-of-house (global value for entire financial institution), combination of book and trade, and combination of all attributes\n",
    "* Track, for each of those queries, the:\n",
    "    * Response time\n",
    "    * Memory usage\n",
    "* We will also enrich the use case by:\n",
    "    * Computing the incremental VaR\n",
    "    * Performing simulations\n",
    "\n",
    "💡 **Note:** This notebook downloads a dataset of ~5.5GB from Amazon S3, which may take some time to initially load depending on internet speed."
   ]
  },
  {
   "cell_type": "markdown",
   "id": "3aae0c02-0f8f-4263-afb7-4d95f5153073",
   "metadata": {},
   "source": [
    "<div style=\"text-align: center;\" ><a href=\"https://www.atoti.io/?utm_source=gallery&utm_content=atoti-pandas-comparison\" target=\"_blank\" rel=\"noopener noreferrer\"><img src=\"https://data.atoti.io/notebooks/banners/Discover-Atoti-now.png\" alt=\"Try Atoti\"></a></div>"
   ]
  },
  {
   "cell_type": "markdown",
   "id": "d9e307e3-d0b4-4ccb-9b0b-bee06dffc2b6",
   "metadata": {},
   "source": [
    "## Imports"
   ]
  },
  {
   "cell_type": "code",
   "execution_count": 1,
   "id": "de5d4f58-9d3b-4e6a-b96a-a48c29326481",
   "metadata": {},
   "outputs": [],
   "source": [
    "%load_ext memory_profiler"
   ]
  },
  {
   "cell_type": "code",
   "execution_count": 2,
   "id": "c4f11d63-98c6-4daf-99be-47bd8b4f0c86",
   "metadata": {
    "tags": []
   },
   "outputs": [],
   "source": [
    "import atoti as tt\n",
    "import boto3\n",
    "from botocore import UNSIGNED\n",
    "from botocore.client import Config\n",
    "from utils import progress_bar"
   ]
  },
  {
   "cell_type": "markdown",
   "id": "6b274c78-28ba-48cc-ba06-13a07321eaa0",
   "metadata": {
    "tags": []
   },
   "source": [
    "## Session creation\n",
    "\n",
    "Let's start by creating an Atoti session to host our in-memory data cube."
   ]
  },
  {
   "cell_type": "code",
   "execution_count": 3,
   "id": "bfebf645-8331-41ce-917a-ab5799e61dd0",
   "metadata": {},
   "outputs": [],
   "source": [
    "session = tt.Session.start(\n",
    "    tt.SessionConfig(\n",
    "        java_options=[\"-Xms1G\", \"-Xmx12G\"],\n",
    "    )\n",
    ")"
   ]
  },
  {
   "cell_type": "markdown",
   "id": "0fe26e28-b142-4547-ae28-39871c401fb8",
   "metadata": {},
   "source": [
    "## Data model configuration\n",
    "\n",
    "Once our session is up and running, we can start developing and configuring our data model. This will form the basis from which we build our cube and allows us to further enrich it and build an extensible semantic layer."
   ]
  },
  {
   "cell_type": "markdown",
   "id": "55785be6-2ed4-45a0-a1e3-1d69c3ee99c9",
   "metadata": {
    "tags": []
   },
   "source": [
    "### Trade PnL table\n",
    "\n",
    "Our trade table is the main table that contains all the trades, some of their attributes, and, most importantly, their Profit-and-Loss (PnL) vectors.\n",
    "\n",
    "We will define the structure of the table, then feed it from our S3 repository. This will be a rather large dataset, which will allow us to perform our comparative analysis at a significant level."
   ]
  },
  {
   "cell_type": "code",
   "execution_count": 4,
   "id": "61326daa-522d-43f9-93f2-14b2c23d66ef",
   "metadata": {},
   "outputs": [],
   "source": [
    "trades_atoti = session.create_table(\n",
    "    \"TRADE_PNLS\",\n",
    "    types={\n",
    "        \"BOOKID\": tt.type.DOUBLE,\n",
    "        \"ASOFDATE\": tt.type.LOCAL_DATE,\n",
    "        \"TRADEID\": tt.type.STRING,\n",
    "        \"DATASET\": tt.type.STRING,\n",
    "        \"RISKFACTOR\": tt.type.STRING,\n",
    "        \"RISKCLASS\": tt.type.STRING,\n",
    "        \"SENSITIVITYNAME\": tt.type.STRING,\n",
    "        \"CCY\": tt.type.STRING,\n",
    "        \"TID\": tt.type.DOUBLE,\n",
    "        \"PNL_VECTOR\": tt.type.DOUBLE_ARRAY,\n",
    "    },\n",
    "    default_values={\"BOOKID\": 0.0, \"TID\": 0.0},\n",
    ")"
   ]
  },
  {
   "cell_type": "code",
   "execution_count": 5,
   "id": "6653c61b-6812-44b5-b8ee-03abbf625de5",
   "metadata": {},
   "outputs": [
    {
     "name": "stdout",
     "output_type": "stream",
     "text": [
      "Loading 31 / 31 files |██████████████████████████████████████████████████| 100.0% Complete\r"
     ]
    },
    {
     "data": {
      "text/html": [
       "<div>\n",
       "<style scoped>\n",
       "    .dataframe tbody tr th:only-of-type {\n",
       "        vertical-align: middle;\n",
       "    }\n",
       "\n",
       "    .dataframe tbody tr th {\n",
       "        vertical-align: top;\n",
       "    }\n",
       "\n",
       "    .dataframe thead th {\n",
       "        text-align: right;\n",
       "    }\n",
       "</style>\n",
       "<table border=\"1\" class=\"dataframe\">\n",
       "  <thead>\n",
       "    <tr style=\"text-align: right;\">\n",
       "      <th></th>\n",
       "      <th>BOOKID</th>\n",
       "      <th>ASOFDATE</th>\n",
       "      <th>TRADEID</th>\n",
       "      <th>DATASET</th>\n",
       "      <th>RISKFACTOR</th>\n",
       "      <th>RISKCLASS</th>\n",
       "      <th>SENSITIVITYNAME</th>\n",
       "      <th>CCY</th>\n",
       "      <th>TID</th>\n",
       "      <th>PNL_VECTOR</th>\n",
       "    </tr>\n",
       "  </thead>\n",
       "  <tbody>\n",
       "    <tr>\n",
       "      <th>0</th>\n",
       "      <td>1.0</td>\n",
       "      <td>2021-05-11</td>\n",
       "      <td>BOND_Allegheny Energy 915efcc3</td>\n",
       "      <td>Historical</td>\n",
       "      <td>Credit spread_Allegheny Energy_Implied spread</td>\n",
       "      <td>Credit spread</td>\n",
       "      <td>delta</td>\n",
       "      <td>EUR</td>\n",
       "      <td>7454.0</td>\n",
       "      <td>[-1277.1016253973248, -170.05582820769533, 587...</td>\n",
       "    </tr>\n",
       "    <tr>\n",
       "      <th>1</th>\n",
       "      <td>1.0</td>\n",
       "      <td>2021-05-11</td>\n",
       "      <td>BOND_Allegheny Energy dfdb9532</td>\n",
       "      <td>Stressed</td>\n",
       "      <td>Foreign exchange_USD_Spot price</td>\n",
       "      <td>Foreign exchange</td>\n",
       "      <td>delta</td>\n",
       "      <td>EUR</td>\n",
       "      <td>50816.0</td>\n",
       "      <td>[14134.836828742777, -8170.150573731592, 11957...</td>\n",
       "    </tr>\n",
       "    <tr>\n",
       "      <th>2</th>\n",
       "      <td>1.0</td>\n",
       "      <td>2021-05-11</td>\n",
       "      <td>BOND_Asahi Breweries a98f5b72</td>\n",
       "      <td>Stressed</td>\n",
       "      <td>N/A</td>\n",
       "      <td>NA</td>\n",
       "      <td>N/A</td>\n",
       "      <td>EUR</td>\n",
       "      <td>52301.0</td>\n",
       "      <td>[-399.043993864588, 849.6316941171951, 144.111...</td>\n",
       "    </tr>\n",
       "    <tr>\n",
       "      <th>3</th>\n",
       "      <td>1.0</td>\n",
       "      <td>2021-05-11</td>\n",
       "      <td>BOND_Asahi Breweries ee86eee1</td>\n",
       "      <td>Historical</td>\n",
       "      <td>Interest rate_GBP.OIS_Implied yield</td>\n",
       "      <td>Interest rate</td>\n",
       "      <td>delta</td>\n",
       "      <td>EUR</td>\n",
       "      <td>58700.0</td>\n",
       "      <td>[8.003878991156395, 6.004630704096847, 20.0014...</td>\n",
       "    </tr>\n",
       "    <tr>\n",
       "      <th>4</th>\n",
       "      <td>1.0</td>\n",
       "      <td>2021-05-11</td>\n",
       "      <td>BOND_Asahi Chemical Ind. 9611fd42</td>\n",
       "      <td>Historical</td>\n",
       "      <td>Interest rate_CNY.OIS_Implied yield</td>\n",
       "      <td>Interest rate</td>\n",
       "      <td>delta</td>\n",
       "      <td>EUR</td>\n",
       "      <td>71570.0</td>\n",
       "      <td>[-604.2203876593273, 277.0394967472273, -681.6...</td>\n",
       "    </tr>\n",
       "  </tbody>\n",
       "</table>\n",
       "</div>"
      ],
      "text/plain": [
       "   BOOKID   ASOFDATE                            TRADEID     DATASET  \\\n",
       "0     1.0 2021-05-11     BOND_Allegheny Energy 915efcc3  Historical   \n",
       "1     1.0 2021-05-11     BOND_Allegheny Energy dfdb9532    Stressed   \n",
       "2     1.0 2021-05-11      BOND_Asahi Breweries a98f5b72    Stressed   \n",
       "3     1.0 2021-05-11      BOND_Asahi Breweries ee86eee1  Historical   \n",
       "4     1.0 2021-05-11  BOND_Asahi Chemical Ind. 9611fd42  Historical   \n",
       "\n",
       "                                      RISKFACTOR         RISKCLASS  \\\n",
       "0  Credit spread_Allegheny Energy_Implied spread     Credit spread   \n",
       "1                Foreign exchange_USD_Spot price  Foreign exchange   \n",
       "2                                            N/A                NA   \n",
       "3            Interest rate_GBP.OIS_Implied yield     Interest rate   \n",
       "4            Interest rate_CNY.OIS_Implied yield     Interest rate   \n",
       "\n",
       "  SENSITIVITYNAME  CCY      TID  \\\n",
       "0           delta  EUR   7454.0   \n",
       "1           delta  EUR  50816.0   \n",
       "2             N/A  EUR  52301.0   \n",
       "3           delta  EUR  58700.0   \n",
       "4           delta  EUR  71570.0   \n",
       "\n",
       "                                          PNL_VECTOR  \n",
       "0  [-1277.1016253973248, -170.05582820769533, 587...  \n",
       "1  [14134.836828742777, -8170.150573731592, 11957...  \n",
       "2  [-399.043993864588, 849.6316941171951, 144.111...  \n",
       "3  [8.003878991156395, 6.004630704096847, 20.0014...  \n",
       "4  [-604.2203876593273, 277.0394967472273, -681.6...  "
      ]
     },
     "execution_count": 5,
     "metadata": {},
     "output_type": "execute_result"
    }
   ],
   "source": [
    "# Use anonymous access with boto3 (required for accessing a public S3 bucket)\n",
    "s3 = boto3.resource(\"s3\", config=Config(signature_version=UNSIGNED, read_timeout=1200))\n",
    "bucket = s3.Bucket(\"data.atoti.io\")\n",
    "objects = bucket.objects.filter(Prefix=\"notebooks/atoti-pandas-comparison/data/pnl\")\n",
    "\n",
    "# Get total number of files for progress bar calculation and initialize counter\n",
    "total_files = sum(1 for obj in objects if obj.key.endswith(\".parquet\"))\n",
    "file_count = 1\n",
    "\n",
    "# Iterate over files in the S3 bucket and display the progress bar\n",
    "for obj in objects:\n",
    "    file = f\"s3://{bucket.name}/{obj.key}\"\n",
    "    if file != \"s3://data.atoti.io/notebooks/atoti-pandas-comparison/data/pnl/\":\n",
    "        progress_bar.print_progress_bar(\n",
    "            file_count,\n",
    "            total_files,\n",
    "            prefix=f\"Loading {file_count} / {total_files} files\",\n",
    "            suffix=\"Complete\",\n",
    "            length=50,\n",
    "        )\n",
    "        trades_atoti.load_parquet(file)\n",
    "        file_count += 1\n",
    "\n",
    "trades_atoti.head()"
   ]
  },
  {
   "cell_type": "markdown",
   "id": "db240546-3f50-4bf1-9a4f-2571398d50df",
   "metadata": {},
   "source": [
    "### Book table\n",
    "\n",
    "The book table will enrich the data model with information about the books that contain our trades."
   ]
  },
  {
   "cell_type": "code",
   "execution_count": 6,
   "id": "c3ebc6e8-e795-41d0-b018-895cfeb992ba",
   "metadata": {},
   "outputs": [
    {
     "data": {
      "text/html": [
       "<div>\n",
       "<style scoped>\n",
       "    .dataframe tbody tr th:only-of-type {\n",
       "        vertical-align: middle;\n",
       "    }\n",
       "\n",
       "    .dataframe tbody tr th {\n",
       "        vertical-align: top;\n",
       "    }\n",
       "\n",
       "    .dataframe thead th {\n",
       "        text-align: right;\n",
       "    }\n",
       "</style>\n",
       "<table border=\"1\" class=\"dataframe\">\n",
       "  <thead>\n",
       "    <tr style=\"text-align: right;\">\n",
       "      <th></th>\n",
       "      <th>BOOK</th>\n",
       "      <th>TRADING_DESK</th>\n",
       "      <th>SUB_BUSINESS_UNIT</th>\n",
       "      <th>BUSINESS_UNIT</th>\n",
       "    </tr>\n",
       "    <tr>\n",
       "      <th>BOOKID</th>\n",
       "      <th></th>\n",
       "      <th></th>\n",
       "      <th></th>\n",
       "      <th></th>\n",
       "    </tr>\n",
       "  </thead>\n",
       "  <tbody>\n",
       "    <tr>\n",
       "      <th>13</th>\n",
       "      <td>HY013</td>\n",
       "      <td>Hypnos</td>\n",
       "      <td>Emerging Market</td>\n",
       "      <td>Forex</td>\n",
       "    </tr>\n",
       "    <tr>\n",
       "      <th>27</th>\n",
       "      <td>MI027</td>\n",
       "      <td>Minos</td>\n",
       "      <td>Frontier Market</td>\n",
       "      <td>Forex</td>\n",
       "    </tr>\n",
       "    <tr>\n",
       "      <th>41</th>\n",
       "      <td>AR041</td>\n",
       "      <td>Ares</td>\n",
       "      <td>Frontier Market</td>\n",
       "      <td>Forex</td>\n",
       "    </tr>\n",
       "    <tr>\n",
       "      <th>55</th>\n",
       "      <td>DE055</td>\n",
       "      <td>Demeter</td>\n",
       "      <td>Frontier Market</td>\n",
       "      <td>Forex</td>\n",
       "    </tr>\n",
       "    <tr>\n",
       "      <th>69</th>\n",
       "      <td>HR069</td>\n",
       "      <td>Heracles</td>\n",
       "      <td>Domestic Equity</td>\n",
       "      <td>Equity</td>\n",
       "    </tr>\n",
       "  </tbody>\n",
       "</table>\n",
       "</div>"
      ],
      "text/plain": [
       "         BOOK TRADING_DESK SUB_BUSINESS_UNIT BUSINESS_UNIT\n",
       "BOOKID                                                    \n",
       "13      HY013       Hypnos   Emerging Market         Forex\n",
       "27      MI027        Minos   Frontier Market         Forex\n",
       "41      AR041         Ares   Frontier Market         Forex\n",
       "55      DE055      Demeter   Frontier Market         Forex\n",
       "69      HR069     Heracles   Domestic Equity        Equity"
      ]
     },
     "execution_count": 6,
     "metadata": {},
     "output_type": "execute_result"
    }
   ],
   "source": [
    "books_atoti = session.read_csv(\n",
    "    \"s3://data.atoti.io/notebooks/atoti-pandas-comparison/data/books.csv\",\n",
    "    table_name=\"BOOKS\",\n",
    "    keys=[\"BOOKID\"],\n",
    ")\n",
    "books_atoti.head()"
   ]
  },
  {
   "cell_type": "markdown",
   "id": "84dd447d-638c-48d9-9fed-4f648d0bd10b",
   "metadata": {},
   "source": [
    "### Join tables"
   ]
  },
  {
   "cell_type": "code",
   "execution_count": 7,
   "id": "75786ddb-f355-4844-9017-2f4e598d369c",
   "metadata": {},
   "outputs": [],
   "source": [
    "trades_atoti.join(books_atoti, trades_atoti[\"BOOKID\"] == books_atoti[\"BOOKID\"])"
   ]
  },
  {
   "cell_type": "markdown",
   "id": "ce7da9bb-7f40-4cc4-b061-d530b415df7c",
   "metadata": {},
   "source": [
    "## Semantic layer"
   ]
  },
  {
   "cell_type": "markdown",
   "id": "6a2dee61-9e7a-4cc8-9239-4df00f934a46",
   "metadata": {},
   "source": [
    "### Cube creation\n",
    "\n",
    "Our underlying data model is defined by joining the different tables. All that's left is to build a cube on top of it."
   ]
  },
  {
   "cell_type": "code",
   "execution_count": 8,
   "id": "0008e324-0686-4fbe-89da-b8bd79b9422e",
   "metadata": {},
   "outputs": [],
   "source": [
    "cube = session.create_cube(trades_atoti, mode=\"no_measures\")\n",
    "cube.shared_context[\"queriesResultLimit.transientLimit\"] = 10000000\n",
    "cube.shared_context[\"queriesResultLimit.intermediateLimit\"] = 10000000\n",
    "\n",
    "m, l, h = cube.measures, cube.levels, cube.hierarchies"
   ]
  },
  {
   "cell_type": "code",
   "execution_count": 9,
   "id": "775b0227-1854-40ac-9c88-32d30489157c",
   "metadata": {},
   "outputs": [
    {
     "data": {
      "image/png": "[encoded data removed]",
      "text/plain": [
       "erDiagram\n",
       "  \"TRADE_PNLS\" {\n",
       "    _ double \"BOOKID\"\n",
       "    _ LocalDate \"ASOFDATE\"\n",
       "    _ String \"TRADEID\"\n",
       "    _ String \"DATASET\"\n",
       "    _ String \"RISKFACTOR\"\n",
       "    _ String \"RISKCLASS\"\n",
       "    _ String \"SENSITIVITYNAME\"\n",
       "    _ String \"CCY\"\n",
       "    _ double \"TID\"\n",
       "    nullable double[] \"PNL_VECTOR\"\n",
       "  }\n",
       "  \"BOOKS\" {\n",
       "    _ double PK \"BOOKID\"\n",
       "    _ String \"BOOK\"\n",
       "    _ String \"TRADING_DESK\"\n",
       "    _ String \"SUB_BUSINESS_UNIT\"\n",
       "    _ String \"BUSINESS_UNIT\"\n",
       "  }\n",
       "  \"TRADE_PNLS\" }o--o| \"BOOKS\" : \"`BOOKID` == `BOOKID`\""
      ]
     },
     "execution_count": 9,
     "metadata": {},
     "output_type": "execute_result"
    }
   ],
   "source": [
    "session.tables.schema"
   ]
  },
  {
   "cell_type": "markdown",
   "id": "5080ed88-2859-45b5-9860-aef73e170473",
   "metadata": {},
   "source": [
    "### Hierarchy configuration\n",
    "\n",
    "Here we add the `BOOKID` hierarchy to be used in the queries, and create a multi-level hierarchy that will allow us to define and compute an incremental VaR measure down the line."
   ]
  },
  {
   "cell_type": "code",
   "execution_count": 10,
   "id": "87dc65a3-5b17-48a1-9286-6c5d83aac8ae",
   "metadata": {},
   "outputs": [],
   "source": [
    "h[\"BOOKID\"] = [trades_atoti[\"BOOKID\"]]"
   ]
  },
  {
   "cell_type": "code",
   "execution_count": 11,
   "id": "02900b9f-8dcb-4b1d-b99f-ee389c7a74f4",
   "metadata": {},
   "outputs": [],
   "source": [
    "h[\"Trading Book Hierarchy\"] = {\n",
    "    \"Desk\": l[\"TRADING_DESK\"],\n",
    "    \"Book\": l[\"BOOK\"],\n",
    "}"
   ]
  },
  {
   "cell_type": "markdown",
   "id": "7642cda5-a0c6-493a-9712-1c405a08cfc7",
   "metadata": {},
   "source": [
    "### Measure configuration\n",
    "\n",
    "This is the part where most of the relevant metrics will be defined and added to the base cube. We start by loading our PnL vectors into a measure that makes it both queriable and usable by other subsequent measures, but also aggregates it at any desired level."
   ]
  },
  {
   "cell_type": "code",
   "execution_count": 12,
   "id": "1674cc17-126c-4b1f-894f-2c820d4e9e4b",
   "metadata": {
    "tags": []
   },
   "outputs": [],
   "source": [
    "m[\"PNL_VECTOR\"] = tt.agg.sum(trades_atoti[\"PNL_VECTOR\"])"
   ]
  },
  {
   "cell_type": "markdown",
   "id": "f2d4e187-e4d3-4165-9e6f-32e59c592900",
   "metadata": {},
   "source": [
    "### VAR 95%"
   ]
  },
  {
   "cell_type": "markdown",
   "id": "4b93db18-0974-421e-8565-920be035470b",
   "metadata": {},
   "source": [
    "#### Computing VaR and ES, defined once, yet applicable to any level of aggregation\n",
    "\n",
    "Since the `PNL_VECTOR` measure defined above implicitly manages the aggregation of the vectors at any queried level, the only thing left to do to obtain our VaR metrics is to apply the necessary statistical functions on top of it. \n",
    "\n",
    "Each of the metrics will only be defined once, yet it will be queriable and computable at **any required granularity of level of aggregation**, which saves us a lot of typing and redundancy compared to pandas, where each level of aggregation would require its own block of code."
   ]
  },
  {
   "cell_type": "code",
   "execution_count": 13,
   "id": "8d535193-b0ee-41e1-a802-cda7f5c35519",
   "metadata": {},
   "outputs": [],
   "source": [
    "m[\"VaR95\"] = tt.array.quantile(m[\"PNL_VECTOR\"], 1 - 0.95)\n",
    "m[\"VaR99\"] = tt.array.quantile(m[\"PNL_VECTOR\"], 1 - 0.99)\n",
    "m[\"ES95\"] = tt.array.mean(tt.array.n_lowest(m[\"PNL_VECTOR\"], n=12))"
   ]
  },
  {
   "cell_type": "markdown",
   "id": "9aead86b-7e56-4ff3-a40f-34214e10db20",
   "metadata": {
    "tags": []
   },
   "source": [
    "#### Incremental VaR (Parent VAR - Parent VAR excluding self)\n",
    "\n",
    "Going even further, and thanks to the semantic dimension introduced by Atoti, the cube understands the hierarchical order and relationship between the different levels of a multi-level hierarchy, and provides functions and elements that leverage those semantics to derive measures based off of those relationships **(the `SiblingsScope` scope and the `parent_value()` function).**"
   ]
  },
  {
   "cell_type": "code",
   "execution_count": 14,
   "id": "be9e7209-f9d1-40d4-acc2-90d0ef24c41b",
   "metadata": {
    "tags": []
   },
   "outputs": [],
   "source": [
    "# Aggregated vector at parent level, excluding self\n",
    "m[\"Parent PnL Vector Ex\"] = tt.agg.sum(\n",
    "    m[\"PNL_VECTOR\"],\n",
    "    scope=tt.SiblingsScope(hierarchy=h[\"Trading Book Hierarchy\"], exclude_self=True),\n",
    ")\n",
    "\n",
    "# VaR at the parent level\n",
    "m[\"Parent VaR95\"] = tt.parent_value(\n",
    "    m[\"VaR95\"], degrees={h[\"Trading Book Hierarchy\"]: 1}\n",
    ")\n",
    "\n",
    "# VaR at the parent level excluding self\n",
    "m[\"Parent VaR95 Ex\"] = tt.array.quantile(m[\"Parent PnL Vector Ex\"], (0.05))\n",
    "\n",
    "# Incremental VaR\n",
    "m[\"Incremental VaR95\"] = m[\"Parent VaR95\"] - m[\"Parent VaR95 Ex\"]"
   ]
  },
  {
   "cell_type": "markdown",
   "id": "3c5496bf-3ac4-4403-8ba4-303e266a3cac",
   "metadata": {},
   "source": [
    "## Performing the analytics"
   ]
  },
  {
   "cell_type": "markdown",
   "id": "ff1d197b-f92e-4fd9-9fea-c0cdb703a77f",
   "metadata": {},
   "source": [
    "### Using Atoti UI widgets\n",
    "\n",
    "We will use the Active UI JupyterLab extension to embed widgets and visualize our desired data within the notebook.\n",
    "Within one widget, we are able to visualize and analyze all of our VaR metrics, at all 3 aggregation levels (Top-of-house is on the Totals row, and you can drill down to get down to the book and trade levels with a couple of clicks)."
   ]
  },
  {
   "cell_type": "code",
   "execution_count": 15,
   "id": "0aacaecb-2d19-4a1e-9ec7-28127fe7fd23",
   "metadata": {
    "atoti": {
     "widget": {
      "mapping": {
       "columns": [
        "ALL_MEASURES"
       ],
       "measures": [
        "[Measures].[VaR95]",
        "[Measures].[VaR99]",
        "[Measures].[ES95]",
        "[Measures].[Incremental VaR95]"
       ],
       "rows": [
        "[BOOKS].[Trading Book Hierarchy].[Desk] => [BOOKS].[Trading Book Hierarchy].[Book] => [TRADE_PNLS].[TRADEID].[TRADEID]"
       ]
      },
      "name": "VaR Metrics at All Three Aggregation Levels",
      "query": {
       "mdx": "SELECT NON EMPTY {[Measures].[VaR95], [Measures].[VaR99], [Measures].[ES95], [Measures].[Incremental VaR95]} ON COLUMNS, NON EMPTY Hierarchize(Descendants({[BOOKS].[Trading Book Hierarchy].[ALL].[AllMember]}, 1, SELF_AND_BEFORE)) DIMENSION PROPERTIES CHILDREN_CARDINALITY ON ROWS FROM [TRADE_PNLS] CELL PROPERTIES VALUE, FORMATTED_VALUE, BACK_COLOR, FORE_COLOR, FONT_FLAGS",
       "updateMode": "once"
      },
      "serverKey": "default",
      "widgetKey": "pivot-table"
     }
    }
   },
   "outputs": [
    {
     "data": {
      "application/vnd.atoti.widget.v0+json": {
       "sessionId": "1733132139_333402",
       "sessionUrl": "http://localhost:53978",
       "widgetCreationCode": "session.widget"
      },
      "text/html": [
       "<img height=\"0\" width=\"0\" src=\"data:,\" />"
      ],
      "text/plain": [
       "Open the notebook in JupyterLab with the Atoti JupyterLab extension enabled to build this widget."
      ]
     },
     "metadata": {},
     "output_type": "display_data"
    }
   ],
   "source": [
    "session.widget"
   ]
  },
  {
   "cell_type": "markdown",
   "id": "46cb039b-892b-42f5-906c-3b28f8c22415",
   "metadata": {},
   "source": [
    "### Performing queries against the cube\n",
    "\n",
    "While the Atoti UI is a native and integral part of Atoti, which facilitates readily accessible, streamlined, and optimized analytics on top of the cube, Atoti also allows code-based queries against the cube that return a DataFrame as a result. \n",
    "\n",
    "We will now perform these queries in order to have **a fair basis for comparison** against the outputs of the pandas implementation. However, keep in mind that even though these Atoti queries are optimized and will outperform the pandas approach every time, using the Atoti UI will provide an even better outcome.\n",
    "\n",
    "The **`time` and `memit` magic commands** are used to track, respectively, the **response times** and **memory usages** of these queries."
   ]
  },
  {
   "cell_type": "markdown",
   "id": "242b576c-e546-4b42-a5fe-2f18fd693087",
   "metadata": {},
   "source": [
    "#### Computing Top of House VaR and ES"
   ]
  },
  {
   "cell_type": "code",
   "execution_count": 16,
   "id": "63126901-8bba-477c-bab6-d58c91a02c3e",
   "metadata": {},
   "outputs": [
    {
     "name": "stdout",
     "output_type": "stream",
     "text": [
      "peak memory: 172.75 MiB, increment: 3.41 MiB\n",
      "CPU times: user 50.4 ms, sys: 22.3 ms, total: 72.7 ms\n",
      "Wall time: 587 ms\n"
     ]
    }
   ],
   "source": [
    "%%time\n",
    "%%memit\n",
    "\n",
    "cube.query(m['VaR95'], m['VaR99'], m['ES95'], mode='raw')"
   ]
  },
  {
   "cell_type": "markdown",
   "id": "63961237-ac08-4dd3-ab62-d0506ad64978",
   "metadata": {},
   "source": [
    "#### Computing VaR and ES at BookId and TradeId Level"
   ]
  },
  {
   "cell_type": "code",
   "execution_count": 17,
   "id": "680d5281-74a3-4ab2-a3b4-24303732a57c",
   "metadata": {},
   "outputs": [
    {
     "name": "stdout",
     "output_type": "stream",
     "text": [
      "peak memory: 253.84 MiB, increment: 81.08 MiB\n",
      "CPU times: user 80.1 ms, sys: 27.3 ms, total: 107 ms\n",
      "Wall time: 4.74 s\n"
     ]
    }
   ],
   "source": [
    "%%time\n",
    "%%memit\n",
    "\n",
    "cube.query(m['VaR95'], m['VaR99'], m['ES95'], levels=[l['ASOFDATE'], l['BOOKID'], l['TRADEID']], mode='raw')"
   ]
  },
  {
   "cell_type": "markdown",
   "id": "01acfc75-8e6b-4747-83e9-7f3494bf396e",
   "metadata": {},
   "source": [
    "#### Computing VaR and ES at the most granular level (combination of all available qualitative hierarchies) "
   ]
  },
  {
   "cell_type": "code",
   "execution_count": 18,
   "id": "b838709c-a096-4656-b3b2-2fbe047be94a",
   "metadata": {},
   "outputs": [
    {
     "data": {
      "application/json": {
       "BOOKS": {
        "BOOK": [
         "BOOK"
        ],
        "BUSINESS_UNIT": [
         "BUSINESS_UNIT"
        ],
        "SUB_BUSINESS_UNIT": [
         "SUB_BUSINESS_UNIT"
        ],
        "TRADING_DESK": [
         "TRADING_DESK"
        ],
        "Trading Book Hierarchy": [
         "Desk",
         "Book"
        ]
       },
       "TRADE_PNLS": {
        "ASOFDATE": [
         "ASOFDATE"
        ],
        "BOOKID": [
         "BOOKID"
        ],
        "CCY": [
         "CCY"
        ],
        "DATASET": [
         "DATASET"
        ],
        "RISKCLASS": [
         "RISKCLASS"
        ],
        "RISKFACTOR": [
         "RISKFACTOR"
        ],
        "SENSITIVITYNAME": [
         "SENSITIVITYNAME"
        ],
        "TRADEID": [
         "TRADEID"
        ]
       }
      },
      "text/html": [
       "<ul>\n",
       "<li>Dimensions\n",
       "  <ul>\n",
       "  <li>BOOKS\n",
       "    <ul>\n",
       "    <li>BOOK\n",
       "      <ol>\n",
       "      <li>BOOK</li>\n",
       "      </ol>    </li>\n",
       "    <li>BUSINESS_UNIT\n",
       "      <ol>\n",
       "      <li>BUSINESS_UNIT</li>\n",
       "      </ol>    </li>\n",
       "    <li>SUB_BUSINESS_UNIT\n",
       "      <ol>\n",
       "      <li>SUB_BUSINESS_UNIT</li>\n",
       "      </ol>    </li>\n",
       "    <li>TRADING_DESK\n",
       "      <ol>\n",
       "      <li>TRADING_DESK</li>\n",
       "      </ol>    </li>\n",
       "    <li>Trading Book Hierarchy\n",
       "      <ol>\n",
       "      <li>Desk</li>\n",
       "      <li>Book</li>\n",
       "      </ol>    </li>\n",
       "    </ul>\n",
       "  </li>\n",
       "  <li>TRADE_PNLS\n",
       "    <ul>\n",
       "    <li>ASOFDATE\n",
       "      <ol>\n",
       "      <li>ASOFDATE</li>\n",
       "      </ol>    </li>\n",
       "    <li>BOOKID\n",
       "      <ol>\n",
       "      <li>BOOKID</li>\n",
       "      </ol>    </li>\n",
       "    <li>CCY\n",
       "      <ol>\n",
       "      <li>CCY</li>\n",
       "      </ol>    </li>\n",
       "    <li>DATASET\n",
       "      <ol>\n",
       "      <li>DATASET</li>\n",
       "      </ol>    </li>\n",
       "    <li>RISKCLASS\n",
       "      <ol>\n",
       "      <li>RISKCLASS</li>\n",
       "      </ol>    </li>\n",
       "    <li>RISKFACTOR\n",
       "      <ol>\n",
       "      <li>RISKFACTOR</li>\n",
       "      </ol>    </li>\n",
       "    <li>SENSITIVITYNAME\n",
       "      <ol>\n",
       "      <li>SENSITIVITYNAME</li>\n",
       "      </ol>    </li>\n",
       "    <li>TRADEID\n",
       "      <ol>\n",
       "      <li>TRADEID</li>\n",
       "      </ol>    </li>\n",
       "    </ul>\n",
       "  </li>\n",
       "  </ul>\n",
       "</li>\n",
       "</ul>\n"
      ],
      "text/plain": [
       "{('TRADE_PNLS', 'RISKCLASS'): <atoti.hierarchy.Hierarchy object at 0x116059750>, ('TRADE_PNLS', 'TRADEID'): <atoti.hierarchy.Hierarchy object at 0x113b26590>, ('TRADE_PNLS', 'ASOFDATE'): <atoti.hierarchy.Hierarchy object at 0x11608b280>, ('TRADE_PNLS', 'CCY'): <atoti.hierarchy.Hierarchy object at 0x11608b580>, ('TRADE_PNLS', 'SENSITIVITYNAME'): <atoti.hierarchy.Hierarchy object at 0x116088f70>, ('TRADE_PNLS', 'RISKFACTOR'): <atoti.hierarchy.Hierarchy object at 0x11608b610>, ('TRADE_PNLS', 'DATASET'): <atoti.hierarchy.Hierarchy object at 0x11608a950>, ('TRADE_PNLS', 'BOOKID'): <atoti.hierarchy.Hierarchy object at 0x1160889d0>, ('BOOKS', 'BOOK'): <atoti.hierarchy.Hierarchy object at 0x116088400>, ('BOOKS', 'SUB_BUSINESS_UNIT'): <atoti.hierarchy.Hierarchy object at 0x11608ae90>, ('BOOKS', 'BUSINESS_UNIT'): <atoti.hierarchy.Hierarchy object at 0x1160898d0>, ('BOOKS', 'TRADING_DESK'): <atoti.hierarchy.Hierarchy object at 0x116088fd0>, ('BOOKS', 'Trading Book Hierarchy'): <atoti.hierarchy.Hierarchy object at 0x116089810>}"
      ]
     },
     "execution_count": 18,
     "metadata": {
      "application/json": {
       "expanded": true,
       "root": "Dimensions"
      }
     },
     "output_type": "execute_result"
    }
   ],
   "source": [
    "cube.hierarchies"
   ]
  },
  {
   "cell_type": "code",
   "execution_count": 19,
   "id": "74466716-90d8-41c1-b644-d770b95f686f",
   "metadata": {},
   "outputs": [
    {
     "name": "stdout",
     "output_type": "stream",
     "text": [
      "peak memory: 786.27 MiB, increment: 532.41 MiB\n",
      "CPU times: user 411 ms, sys: 129 ms, total: 540 ms\n",
      "Wall time: 9.87 s\n"
     ]
    }
   ],
   "source": [
    "%%time\n",
    "%%memit\n",
    "\n",
    "cube.query(m['VaR95'], m['VaR99'], m['ES95'], levels=[l['ASOFDATE'], l['BUSINESS_UNIT'], l['SUB_BUSINESS_UNIT'], l['TRADING_DESK'] , l['BOOKID'], l['RISKCLASS'], l['TRADEID']], mode='raw')"
   ]
  },
  {
   "cell_type": "markdown",
   "id": "25c4e555-a1be-4acd-9031-dd6b68d6a11f",
   "metadata": {},
   "source": [
    "## What-if scenarios\n",
    "\n",
    "Going beyond the VaR metrics, Atoti facilitates other components of advanced analytics, such as performing simulations by leveraging its built-in branching capabilities.\n",
    "\n",
    "Here, we will create a new branch, or scenario, where we will be able to load in a stressed version of our dataset. Then, by simply adding the `Source Simulation` or `Scenario` hierarchy on our columns, we obtain a side-by-side comparison of how each of our measures evaluate for each of our scenarios.\n",
    "\n",
    "This is extremely optimized as any additional branch will only store and keep track of the data points that present a difference compared to the base branch."
   ]
  },
  {
   "cell_type": "code",
   "execution_count": 20,
   "id": "46f9067c-9f33-4c6c-bd37-c355b43dd13d",
   "metadata": {},
   "outputs": [],
   "source": [
    "addon_scenario = trades_atoti.scenarios[\"Stress-Test\"]\n",
    "addon_scenario.load_parquet(\n",
    "    \"s3://data.atoti.io/notebooks/atoti-pandas-comparison/data/simulation/pnl_16.parquet\"\n",
    ")"
   ]
  },
  {
   "cell_type": "code",
   "execution_count": 21,
   "id": "6f03c3fa-dd27-4b8b-bad6-c8ed0ae159f6",
   "metadata": {
    "atoti": {
     "widget": {
      "mapping": {
       "columns": [
        "[Epoch].[Epoch].[Branch]",
        "ALL_MEASURES"
       ],
       "measures": [
        "[Measures].[VaR95]",
        "[Measures].[VaR99]",
        "[Measures].[ES95]"
       ],
       "rows": [
        "[BOOKS].[Trading Book Hierarchy].[Desk]"
       ]
      },
      "name": "VaR across Scenarios",
      "query": {
       "mdx": "SELECT NON EMPTY Crossjoin([Epoch].[Epoch].[Branch].Members, {[Measures].[VaR95], [Measures].[VaR99], [Measures].[ES95]}) ON COLUMNS, NON EMPTY Hierarchize(Descendants({[BOOKS].[Trading Book Hierarchy].[ALL].[AllMember]}, 1, SELF_AND_BEFORE)) DIMENSION PROPERTIES CHILDREN_CARDINALITY ON ROWS FROM [TRADE_PNLS] CELL PROPERTIES VALUE, FORMATTED_VALUE, BACK_COLOR, FORE_COLOR, FONT_FLAGS",
       "updateMode": "once"
      },
      "serverKey": "default",
      "widgetKey": "pivot-table"
     }
    }
   },
   "outputs": [
    {
     "data": {
      "application/vnd.atoti.widget.v0+json": {
       "sessionId": "1733132139_333402",
       "sessionUrl": "http://localhost:53978",
       "widgetCreationCode": "session.widget"
      },
      "text/html": [
       "<img height=\"0\" width=\"0\" src=\"data:,\" />"
      ],
      "text/plain": [
       "Open the notebook in JupyterLab with the Atoti JupyterLab extension enabled to build this widget."
      ]
     },
     "metadata": {},
     "output_type": "display_data"
    }
   ],
   "source": [
    "session.widget"
   ]
  },
  {
   "cell_type": "markdown",
   "id": "0f3f89bf-9cc6-47b8-abd1-4e953601bb27",
   "metadata": {},
   "source": [
    "<div style=\"text-align: center;\" ><a href=\"https://www.atoti.io/?utm_source=gallery&utm_content=atoti-pandas-comparison\" target=\"_blank\" rel=\"noopener noreferrer\"><img src=\"https://data.atoti.io/notebooks/banners/Your-turn-to-try-Atoti.jpg\" alt=\"Try Atoti\"></a></div>"
   ]
  }
 ],
 "metadata": {
  "kernelspec": {
   "display_name": "Python 3 (ipykernel)",
   "language": "python",
   "name": "python3"
  },
  "language_info": {
   "codemirror_mode": {
    "name": "ipython",
    "version": 3
   },
   "file_extension": ".py",
   "mimetype": "text/x-python",
   "name": "python",
   "nbconvert_exporter": "python",
   "pygments_lexer": "ipython3",
   "version": "3.10.11"
  },
  "widgets": {
   "application/vnd.jupyter.widget-state+json": {
    "state": {},
    "version_major": 2,
    "version_minor": 0
   }
  }
 },
 "nbformat": 4,
 "nbformat_minor": 5
}
