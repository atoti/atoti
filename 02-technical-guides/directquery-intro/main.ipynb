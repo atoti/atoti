{
 "cells": [
  {
   "cell_type": "markdown",
   "id": "ac3fbb12-82a8-4e9f-aa4e-e1ad414ce283",
   "metadata": {},
   "source": [
    "# DirectQuery: Combining Atoti and Data Warehouses"
   ]
  },
  {
   "cell_type": "markdown",
   "id": "a671e16d-c06b-432f-92c6-5b2d2f7043bd",
   "metadata": {},
   "source": [
    "We know Atoti provides in-memory analytics for big data. This means that we hold data in memory and perform aggregation on the fly in order to achieve fast and dynamic computations. In our usual Atoti setup, the hosting server requires a memory size that's about 1.5 times of the amount of data that gets loaded into the cube. However, with Atoti's DirectQuery, we can better support our users who store their data on the cloud! In fact, it applies for on-premise databases such as [ClickHouse](https://clickhouse.com/clickhouse) and [Microsoft SQL Server](https://www.microsoft.com/en-sg/sql-server/sql-server-downloads) too.  \n",
    "\n",
    "<img src=\"https://data.atoti.io/notebooks/direct-query/img/cost_vs_performance.png\" width=\"850px\"/>\n",
    "\n",
    "In a gist, here's what DirectQuery offers:  \n",
    "\n",
    "- Scalability\n",
    "\n",
    "> Leveraging the scalability of cloud data warehouse, the server that hosts Atoti only has to take into consideration the amount of data that gets queried on a daily basis.  \n",
    "> Instead of storing all of the data in physical memory, DirectQuery enables us to query the Cloud database directly, reducing the need for memory in the hosting server.  \n",
    "\n",
    "- Cost savings\n",
    "\n",
    "> Other than saving on the memory required for the hosting server, DirectQuery helps to save on the data transfer costs.  \n",
    "> While cloud data warehouse is cost-effective, we incur costs when we perform queries.  \n",
    "> We can reduce querying to the Cloud database by loading an aggregated cache in memory for the most frequently queried data.  \n",
    "\n",
    "- Technology agnosticism\n",
    "\n",
    "> With changes to only a few lines of data connectivity code in Atoti, we can easily switch from one Cloud service provider to another without impacting the Atoti server.  \n",
    "> We can even switch over to other data connectors such as physical files.  \n",
    "\n",
    "\n",
    "This notebook provides a quick introduction to how we can connect to Google BigQuery and create an Atoti cube."
   ]
  },
  {
   "cell_type": "markdown",
   "id": "f23aeb88-5455-44ee-892d-4aa7fc2dbfb7",
   "metadata": {},
   "source": [
    "<div style=\"text-align: center;\" ><a href=\"https://www.atoti.io/?utm_source=gallery&utm_content=directquery-intro\" target=\"_blank\" rel=\"noopener noreferrer\"><img src=\"https://data.atoti.io/notebooks/banners/Discover-Atoti-now.png\" alt=\"Try Atoti\"></a></div>"
   ]
  },
  {
   "cell_type": "markdown",
   "id": "663b2051-11e1-4815-8a2c-fde3d450d07b",
   "metadata": {},
   "source": [
    "## Google BigQuery configuration"
   ]
  },
  {
   "cell_type": "markdown",
   "id": "1db76b03-dbe0-4223-a656-8b7e9e2ff260",
   "metadata": {},
   "source": [
    "### Step 1 — Create role with permissions\n",
    "\n",
    "- Login to Google Cloud console.\n",
    "- Navigate to __IAM & Admin__ > __Roles__.  \n",
    "- Create a role with the following permission for the DirectQuery users:  \n",
    "    - `bigquery.datasets.get`\n",
    "    - `bigquery.jobs.create`\n",
    "    - `bigquery.readsessions.create`\n",
    "    - `bigquery.readsessions.getData`\n",
    "    - `bigquery.readsessions.update`\n",
    "    - `bigquery.routines.get`\n",
    "    - `bigquery.tables.get`\n",
    "    - `bigquery.tables.getData`\n",
    "    - `bigquery.tables.list`\n",
    "\n",
    "⚠️ **Important:** Having trouble pulling your data after setting up your account? Confirm that the above permissions have been set up properly!  \n",
    "\n",
    "<img src=\"https://data.atoti.io/notebooks/direct-query/img/bigquery_permission.png\" />\n",
    "\n",
    "💡 **Note:** For more details, refer to the [Atoti Server documentation](https://docs.activeviam.com/products/atoti/server/latest/docs/directquery/connect_to_external/connect_to_bigquery/)."
   ]
  },
  {
   "cell_type": "markdown",
   "id": "2143280e-d2b0-4da1-b20d-78af65d26753",
   "metadata": {},
   "source": [
    "### Step 2 — Create Service Account\n",
    "\n",
    "* Under **IAM & Admin**, navigate to **Service Accounts**.\n",
    "* Create a service account and assign the role created in Step 1.\n",
    "\n",
    "    <img src=\"https://data.atoti.io/notebooks/direct-query/img/service_account.png\" width=\"700px\"/>  "
   ]
  },
  {
   "cell_type": "markdown",
   "id": "03e75ceb-055a-4986-aa8d-6858422b260a",
   "metadata": {
    "tags": []
   },
   "source": [
    "### Step 3 — Generate API Key \n",
    "\n",
    "- Navigate to the __KEYS__ tab and generate a new key.  \n",
    "\n",
    "    <img src=\"https://data.atoti.io/notebooks/direct-query/img/create_key.png\" />  \n",
    "\n",
    "- Select `JSON` as key type and save the downloaded key to a server folder:  \n",
    "\n",
    "    <img src=\"https://data.atoti.io/notebooks/direct-query/img/json_key.png\" />\n",
    "\n",
    "- Configure environment variable pointing to the JSON key. In this use case, our environment variable is `DQ_GOOGLE_CREDENTIAL`:  \n",
    "\n",
    "    <img src=\"https://data.atoti.io/notebooks/direct-query/img/environment_variable.png\" />  \n",
    "\n",
    "💡 **Note:** Alternatively, we can set up [Application Default Credentials](https://cloud.google.com/docs/authentication/provide-credentials-adc) for authentication.  "
   ]
  },
  {
   "cell_type": "markdown",
   "id": "95e30413-d630-4b1b-a304-d824e9649c3d",
   "metadata": {},
   "source": [
    "## Database set up  \n",
    "\n",
    "To try out this notebook, you can setup the database schema and tables using the [database script](db_schema.sql) in the use case folder.  "
   ]
  },
  {
   "cell_type": "markdown",
   "id": "fcfd6d72-801a-460c-9e1f-4e0843909442",
   "metadata": {},
   "source": [
    "## Atoti Setup"
   ]
  },
  {
   "cell_type": "markdown",
   "id": "8857ebb1-032f-4b69-84e6-b8cf7e431def",
   "metadata": {},
   "source": [
    "We import [Atoti](https://docs.atoti.io/latest/getting_started/installation.html) library and create the [Atoti Session](https://docs.atoti.io/latest/api/atoti.Session.html#atoti.Session) as we always do.  "
   ]
  },
  {
   "cell_type": "code",
   "execution_count": 1,
   "id": "7d97f0ea-5b39-4c60-9a10-1cae5a22616d",
   "metadata": {
    "tags": []
   },
   "outputs": [],
   "source": [
    "import os\n",
    "import atoti as tt"
   ]
  },
  {
   "cell_type": "code",
   "execution_count": 2,
   "id": "3898f076-a031-49b7-a75f-074008d89a26",
   "metadata": {
    "tags": []
   },
   "outputs": [],
   "source": [
    "session = tt.Session.start()"
   ]
  },
  {
   "cell_type": "markdown",
   "id": "9e855ec8-18bb-46fa-8e99-751edafeb94c",
   "metadata": {},
   "source": [
    "## DirectQuery Prerequisites"
   ]
  },
  {
   "cell_type": "markdown",
   "id": "01a8923b-80b3-4bfd-86a0-2d705d4bb805",
   "metadata": {},
   "source": [
    "DirectQuery supports a few [databases](https://docs.atoti.io/latest/reference.html#directquery). For each of these databases, we have to install its respective Python plugin.  \n",
    "- `atoti-directquery-bigquery` : To use DirectQuery on Google BigQuery.\n",
    "- `atoti-directquery-clickhouse` : To use DirectQuery with ClickHouse.\n",
    "- `atoti-directquery-databricks` : To use DirectQuery on Databricks.\n",
    "- `atoti-directquery-mssql` : To use DirectQuery with Microsoft SQL Server.\n",
    "- `atoti-directquery-redshift` : To use DirectQuery on Amazon Redshift.\n",
    "- `atoti-directquery-snowflake` : To use DirectQuery on Snowflake.\n",
    "- `atoti-directquery-synapse` : To use DirectQuery on Azure Synapse Analytics.  \n",
    "\n",
    "In our example, we install the plugin for Google BigQuery. Uncomment the below line to install the plugin if it isn't installed.  \n",
    "\n",
    "⚠️ **Important:** We only support one type of database connection per Atoti session."
   ]
  },
  {
   "cell_type": "code",
   "execution_count": 3,
   "id": "af8780d7-ec54-481a-98d7-4cc9f7e030c1",
   "metadata": {
    "tags": []
   },
   "outputs": [],
   "source": [
    "# !uv pip install \"atoti[directquery-bigquery]\""
   ]
  },
  {
   "cell_type": "markdown",
   "id": "1d997a63-e2db-48f9-b501-0532c5eabb3d",
   "metadata": {},
   "source": [
    "We will be using two components from the DirectQueryPlugin:\n",
    "- [BigqueryConnectionInfo](https://docs.atoti.io/latest/api/atoti_directquery_bigquery.BigqueryConnectionInfo.html#atoti_directquery_bigquery.BigqueryConnectionInfo): Configure the connection information to BigQuery.\n",
    "- [BigqueryTableOptions](https://docs.atoti.io/latest/api/atoti_directquery_bigquery.BigqueryTableOptions.html#atoti_directquery_bigquery.BigqueryTableOptions): Configure the table options about the external table to create in Atoti.  \n",
    "\n",
    "⚠️ **Important:** Use the corresponding components for different databases if we are using a different one from BigQuery. E.g. we use [`ClickhouseConnectionInfo`](https://docs.atoti.io/latest/api/atoti_directquery_clickhouse.ClickhouseConnectionInfo.html#atoti_directquery_clickhouse.ClickhouseConnectionInfo) and [`ClickhouseTableOptions`](https://docs.atoti.io/latest/api/atoti_directquery_clickhouse.ClickhouseTableOptions.html#atoti_directquery_clickhouse.ClickhouseTableOptions) if we are connecting to [ClickHouse](https://clickhouse.com/)."
   ]
  },
  {
   "cell_type": "markdown",
   "id": "4509d71b-4d1b-4297-b18a-10430b128507",
   "metadata": {},
   "source": [
    "## Connection setup to Google BigQuery"
   ]
  },
  {
   "cell_type": "code",
   "execution_count": 4,
   "id": "f5eb2f90-be60-4332-80d2-1a5cd83147d4",
   "metadata": {
    "tags": []
   },
   "outputs": [],
   "source": [
    "from atoti_directquery_bigquery import ConnectionConfig"
   ]
  },
  {
   "cell_type": "markdown",
   "id": "00b90385-93af-479f-888a-bc0677f73eb2",
   "metadata": {},
   "source": [
    "In the below snippet, we use the environment variable to obtain the path to the [API key generated previous in Step 3](#Step-3-—-Generate-API-Key). Setting the credential path into `BigqueryConnectionInfo`, we can invoke the connection to the external database.  "
   ]
  },
  {
   "cell_type": "code",
   "execution_count": 5,
   "id": "ea50d105-284f-4296-b654-b5465037d634",
   "metadata": {
    "tags": []
   },
   "outputs": [],
   "source": [
    "credential = os.environ[\"DQ_GOOGLE_CREDENTIAL\"]\n",
    "connection_info = ConnectionConfig(credentials=credential)\n",
    "\n",
    "external_database = session.connect_to_external_database(connection_info)"
   ]
  },
  {
   "cell_type": "markdown",
   "id": "8e7f4c10-5dc6-4c53-aeea-ef4864471caf",
   "metadata": {},
   "source": [
    "### Discover External Tables"
   ]
  },
  {
   "cell_type": "markdown",
   "id": "51f3c2ee-c57b-49df-9756-60c96d9b0734",
   "metadata": {
    "tags": []
   },
   "source": [
    "Once connected, we can discover the tables available to us from the external database."
   ]
  },
  {
   "cell_type": "code",
   "execution_count": 6,
   "id": "5e85bd6f-dd6a-4ab8-a2f2-51d7759466de",
   "metadata": {
    "tags": []
   },
   "outputs": [
    {
     "data": {
      "application/json": {
       "bd-project-386413": {
        "fpna_demo": [
         "amount",
         "amount_details",
         "bsg",
         "entity",
         "ftp_type",
         "fv",
         "fx_local",
         "geo",
         "gl_account",
         "gl_acct",
         "product",
         "scenario",
         "source_account",
         "source_acct",
         "source_mis",
         "standard_org",
         "taxonomy",
         "ucoa"
        ],
        "tutorial": [
         "PRODUCTS",
         "SALES"
        ],
        "var_demo": [
         "BOOKS",
         "TRADE_PNLS"
        ]
       }
      },
      "text/html": [
       "<ul>\n",
       "<li>BIGQUERY\n",
       "  <ul>\n",
       "  <li>bd-project-386413\n",
       "    <ul>\n",
       "    <li>fpna_demo\n",
       "      <ol>\n",
       "      <li>amount</li>\n",
       "      <li>amount_details</li>\n",
       "      <li>bsg</li>\n",
       "      <li>entity</li>\n",
       "      <li>ftp_type</li>\n",
       "      <li>fv</li>\n",
       "      <li>fx_local</li>\n",
       "      <li>geo</li>\n",
       "      <li>gl_account</li>\n",
       "      <li>gl_acct</li>\n",
       "      <li>product</li>\n",
       "      <li>scenario</li>\n",
       "      <li>source_account</li>\n",
       "      <li>source_acct</li>\n",
       "      <li>source_mis</li>\n",
       "      <li>standard_org</li>\n",
       "      <li>taxonomy</li>\n",
       "      <li>ucoa</li>\n",
       "      </ol>    </li>\n",
       "    <li>tutorial\n",
       "      <ol>\n",
       "      <li>PRODUCTS</li>\n",
       "      <li>SALES</li>\n",
       "      </ol>    </li>\n",
       "    <li>var_demo\n",
       "      <ol>\n",
       "      <li>BOOKS</li>\n",
       "      <li>TRADE_PNLS</li>\n",
       "      </ol>    </li>\n",
       "    </ul>\n",
       "  </li>\n",
       "  </ul>\n",
       "</li>\n",
       "</ul>\n"
      ],
      "text/plain": [
       "<atoti.directquery.external_tables.ExternalTables at 0x12a300890>"
      ]
     },
     "execution_count": 6,
     "metadata": {
      "application/json": {
       "expanded": false,
       "root": "BIGQUERY"
      }
     },
     "output_type": "execute_result"
    }
   ],
   "source": [
    "external_database.tables"
   ]
  },
  {
   "cell_type": "markdown",
   "id": "4187eaef-cae3-44ca-80c1-dd952dd3faab",
   "metadata": {},
   "source": [
    "If the database has many schemas, we can perform a filter to access only the schema that we want."
   ]
  },
  {
   "cell_type": "code",
   "execution_count": 7,
   "id": "63c5fafe-05e1-429e-8f35-9f3f072e34f7",
   "metadata": {
    "tags": []
   },
   "outputs": [
    {
     "data": {
      "application/json": {
       "bd-project-386413": {
        "tutorial": [
         "PRODUCTS",
         "SALES"
        ]
       }
      },
      "text/html": [
       "<ul>\n",
       "<li>BIGQUERY\n",
       "  <ul>\n",
       "  <li>bd-project-386413\n",
       "    <ul>\n",
       "    <li>tutorial\n",
       "      <ol>\n",
       "      <li>PRODUCTS</li>\n",
       "      <li>SALES</li>\n",
       "      </ol>    </li>\n",
       "    </ul>\n",
       "  </li>\n",
       "  </ul>\n",
       "</li>\n",
       "</ul>\n"
      ],
      "text/plain": [
       "<atoti.directquery.external_tables.ExternalTables at 0x12a302b50>"
      ]
     },
     "execution_count": 7,
     "metadata": {
      "application/json": {
       "expanded": false,
       "root": "BIGQUERY"
      }
     },
     "output_type": "execute_result"
    }
   ],
   "source": [
    "external_database.tables._filter(schema_name=\"tutorial\")"
   ]
  },
  {
   "cell_type": "markdown",
   "id": "f1308a2c-a4d2-40e5-9985-7013fa05a9fb",
   "metadata": {},
   "source": [
    "### Discover Table Columns"
   ]
  },
  {
   "cell_type": "markdown",
   "id": "e72119a9-ed38-4d83-a8a5-1fe021b48e5c",
   "metadata": {},
   "source": [
    "If a table name is unique in the database, we can check its structure directly using its name:  "
   ]
  },
  {
   "cell_type": "code",
   "execution_count": 8,
   "id": "f91519b6-a36b-4f0c-b1f0-949b0be22d5f",
   "metadata": {
    "tags": []
   },
   "outputs": [
    {
     "data": {
      "application/json": {
       "DATE": "LocalDate",
       "PRODUCT": "String",
       "QUANTITY": "long",
       "SALE_ID": "String",
       "SHOP": "String",
       "UNIT_PRICE": "double"
      },
      "text/html": [
       "<ul>\n",
       "<li>SALES\n",
       "  <ul>\n",
       "  <li>SALE_ID: String</li>\n",
       "  <li>DATE: LocalDate</li>\n",
       "  <li>SHOP: String</li>\n",
       "  <li>PRODUCT: String</li>\n",
       "  <li>QUANTITY: long</li>\n",
       "  <li>UNIT_PRICE: double</li>\n",
       "  </ul>\n",
       "</li>\n",
       "</ul>\n"
      ],
      "text/plain": [
       "<atoti.directquery.external_table.ExternalTable at 0x11fdf68d0>"
      ]
     },
     "execution_count": 8,
     "metadata": {
      "application/json": {
       "expanded": true,
       "root": "SALES"
      }
     },
     "output_type": "execute_result"
    }
   ],
   "source": [
    "external_database.tables[\"SALES\"]"
   ]
  },
  {
   "cell_type": "markdown",
   "id": "1d9ef3fb-85a5-472b-aa12-8a88e3d1e6d9",
   "metadata": {},
   "source": [
    "However, to be precise, it is a good practice to refer to the table using its database, schema and table names. Uncomment and execute the following cells as to try this out."
   ]
  },
  {
   "cell_type": "code",
   "execution_count": 9,
   "id": "247c876c-2b44-4b0f-8bcf-8864350bb3d6",
   "metadata": {
    "tags": []
   },
   "outputs": [],
   "source": [
    "# db_name = \"<database name here>\"\n",
    "# db_schema = \"tutorial\"\n",
    "# table_sales = \"SALES\""
   ]
  },
  {
   "cell_type": "code",
   "execution_count": 10,
   "id": "fbfde589-b458-474d-8665-af7b016598bc",
   "metadata": {
    "tags": []
   },
   "outputs": [],
   "source": [
    "# external_database.tables[db_name, db_schema, table_sales]"
   ]
  },
  {
   "cell_type": "markdown",
   "id": "85d14ebe-eb8a-4216-8564-8330b4b7b0d9",
   "metadata": {},
   "source": [
    "## Add External Table to Atoti"
   ]
  },
  {
   "cell_type": "markdown",
   "id": "8fa1b581-ee16-4730-8ea2-b29fa14ee03a",
   "metadata": {},
   "source": [
    "Since we have connected to the external database and we are able to see its structure, we can add the required tables to the Atoti session.  \n",
    "\n",
    "Using [BigqueryTableOptions](https://docs.atoti.io/latest/api/atoti_directquery_bigquery.BigqueryTableOptions.html#atoti_directquery_bigquery.BigqueryTableOptions), we can define additional options to the table that we will create in Atoti:\n",
    "\n",
    "- `array_conversion`: Converting values spread over multiple columns into array columns.\n",
    "- `clustering_columns`: Columns used for splitting up queries.\n",
    "- `keys`: Keys used to identify unique rows for updating of data.\n",
    "\n",
    "We will only use `keys` and `clustering_columns` in our example."
   ]
  },
  {
   "cell_type": "code",
   "execution_count": 11,
   "id": "7dab34b4-ca6f-4c80-8ba9-f8534f9eae5b",
   "metadata": {
    "tags": []
   },
   "outputs": [],
   "source": [
    "from atoti_directquery_bigquery import TableConfig"
   ]
  },
  {
   "cell_type": "markdown",
   "id": "790b7a07-c762-438a-878e-de3611f39b5c",
   "metadata": {},
   "source": [
    "Similar to how we create keys for Atoti tables, we set the key columns in the `BigqueryTableOptions`. Note that this external table is created in Atoti and the defined keys affects only the data that is accessible in Atoti. It does not change the tables in BigQuery.  \n",
    "\n",
    "To distinguish our Atoti external table from the BigQuery table, we named them differently in our example.  "
   ]
  },
  {
   "cell_type": "code",
   "execution_count": 12,
   "id": "a580d644-94e0-4772-ac94-a9600bc08546",
   "metadata": {
    "tags": []
   },
   "outputs": [],
   "source": [
    "sales_table = session.add_external_table(\n",
    "    external_database.tables[\"SALES\"],\n",
    "    table_name=\"Atoti Sales\",\n",
    "    config=TableConfig(keys=[\"SALE_ID\"], clustering_columns={\"DATE\", \"PRODUCT\"}),\n",
    ")"
   ]
  },
  {
   "cell_type": "markdown",
   "id": "ac9b4de4-60f9-45d9-8b87-e7d0452714ee",
   "metadata": {},
   "source": [
    "To speed up querying, Atoti makes use of [aggregate providers](https://docs.atoti.io/latest/api/atoti.AggregateProvider.html#atoti.AggregateProvider) to pre-aggregates some table columns up to certain levels. Feeding such providers from an external database can result in very large queries to be run on the database. Some databases can have trouble processing such large queries. Therefore, we define [clustering columns](https://docs.activeviam.com/products/atoti/server/latest/docs/directquery/directquery-clustering-fields/) to help split up queries made by DirectQuery to these external database when feeding the aggregate providers.  \n",
    "\n",
    "The `clustering_columns` parameter allows us to define columns to be used for clustering. While our example uses a small dataset and clustering column is not necessary, we demonstrate how it can be used in the snippet above.  "
   ]
  },
  {
   "cell_type": "code",
   "execution_count": 13,
   "id": "561e7c19-28cc-4796-918b-24de800147a7",
   "metadata": {
    "tags": []
   },
   "outputs": [
    {
     "data": {
      "text/html": [
       "<div>\n",
       "<style scoped>\n",
       "    .dataframe tbody tr th:only-of-type {\n",
       "        vertical-align: middle;\n",
       "    }\n",
       "\n",
       "    .dataframe tbody tr th {\n",
       "        vertical-align: top;\n",
       "    }\n",
       "\n",
       "    .dataframe thead th {\n",
       "        text-align: right;\n",
       "    }\n",
       "</style>\n",
       "<table border=\"1\" class=\"dataframe\">\n",
       "  <thead>\n",
       "    <tr style=\"text-align: right;\">\n",
       "      <th></th>\n",
       "      <th>DATE</th>\n",
       "      <th>SHOP</th>\n",
       "      <th>PRODUCT</th>\n",
       "      <th>QUANTITY</th>\n",
       "      <th>UNIT_PRICE</th>\n",
       "    </tr>\n",
       "    <tr>\n",
       "      <th>SALE_ID</th>\n",
       "      <th></th>\n",
       "      <th></th>\n",
       "      <th></th>\n",
       "      <th></th>\n",
       "      <th></th>\n",
       "    </tr>\n",
       "  </thead>\n",
       "  <tbody>\n",
       "    <tr>\n",
       "      <th>S0010</th>\n",
       "      <td>2022-01-31</td>\n",
       "      <td>shop_2</td>\n",
       "      <td>BED_2</td>\n",
       "      <td>3</td>\n",
       "      <td>150.0</td>\n",
       "    </tr>\n",
       "    <tr>\n",
       "      <th>S0007</th>\n",
       "      <td>2022-02-01</td>\n",
       "      <td>shop_5</td>\n",
       "      <td>BED_2</td>\n",
       "      <td>1</td>\n",
       "      <td>150.0</td>\n",
       "    </tr>\n",
       "    <tr>\n",
       "      <th>S0008</th>\n",
       "      <td>2022-01-31</td>\n",
       "      <td>shop_4</td>\n",
       "      <td>BED_2</td>\n",
       "      <td>1</td>\n",
       "      <td>150.0</td>\n",
       "    </tr>\n",
       "    <tr>\n",
       "      <th>S0009</th>\n",
       "      <td>2022-01-31</td>\n",
       "      <td>shop_3</td>\n",
       "      <td>BED_2</td>\n",
       "      <td>1</td>\n",
       "      <td>150.0</td>\n",
       "    </tr>\n",
       "    <tr>\n",
       "      <th>S0019</th>\n",
       "      <td>2022-02-02</td>\n",
       "      <td>shop_3</td>\n",
       "      <td>HOO_5</td>\n",
       "      <td>1</td>\n",
       "      <td>48.0</td>\n",
       "    </tr>\n",
       "  </tbody>\n",
       "</table>\n",
       "</div>"
      ],
      "text/plain": [
       "              DATE    SHOP PRODUCT  QUANTITY  UNIT_PRICE\n",
       "SALE_ID                                                 \n",
       "S0010   2022-01-31  shop_2   BED_2         3       150.0\n",
       "S0007   2022-02-01  shop_5   BED_2         1       150.0\n",
       "S0008   2022-01-31  shop_4   BED_2         1       150.0\n",
       "S0009   2022-01-31  shop_3   BED_2         1       150.0\n",
       "S0019   2022-02-02  shop_3   HOO_5         1        48.0"
      ]
     },
     "execution_count": 13,
     "metadata": {},
     "output_type": "execute_result"
    }
   ],
   "source": [
    "sales_table.head()"
   ]
  },
  {
   "cell_type": "markdown",
   "id": "dc44214e-743e-4937-9269-61498986355b",
   "metadata": {},
   "source": [
    "We can add multiple tables."
   ]
  },
  {
   "cell_type": "code",
   "execution_count": 14,
   "id": "f282f67a-dfa9-4ba1-aef7-779ec734fe50",
   "metadata": {
    "tags": []
   },
   "outputs": [
    {
     "data": {
      "text/html": [
       "<div>\n",
       "<style scoped>\n",
       "    .dataframe tbody tr th:only-of-type {\n",
       "        vertical-align: middle;\n",
       "    }\n",
       "\n",
       "    .dataframe tbody tr th {\n",
       "        vertical-align: top;\n",
       "    }\n",
       "\n",
       "    .dataframe thead th {\n",
       "        text-align: right;\n",
       "    }\n",
       "</style>\n",
       "<table border=\"1\" class=\"dataframe\">\n",
       "  <thead>\n",
       "    <tr style=\"text-align: right;\">\n",
       "      <th></th>\n",
       "      <th>CATEGORY</th>\n",
       "      <th>SUB_CATEGORY</th>\n",
       "      <th>SIZE</th>\n",
       "      <th>PURCHASE_PRICE</th>\n",
       "      <th>COLOR</th>\n",
       "      <th>BRAND</th>\n",
       "    </tr>\n",
       "    <tr>\n",
       "      <th>PRODUCT_ID</th>\n",
       "      <th></th>\n",
       "      <th></th>\n",
       "      <th></th>\n",
       "      <th></th>\n",
       "      <th></th>\n",
       "      <th></th>\n",
       "    </tr>\n",
       "  </thead>\n",
       "  <tbody>\n",
       "    <tr>\n",
       "      <th>BED_2</th>\n",
       "      <td>Furniture</td>\n",
       "      <td>Bed</td>\n",
       "      <td>Single</td>\n",
       "      <td>127.0</td>\n",
       "      <td>red</td>\n",
       "      <td>Mega</td>\n",
       "    </tr>\n",
       "    <tr>\n",
       "      <th>TAB_1</th>\n",
       "      <td>Furniture</td>\n",
       "      <td>Table</td>\n",
       "      <td>2m40</td>\n",
       "      <td>280.0</td>\n",
       "      <td>white</td>\n",
       "      <td>Mega</td>\n",
       "    </tr>\n",
       "    <tr>\n",
       "      <th>TAB_0</th>\n",
       "      <td>Furniture</td>\n",
       "      <td>Table</td>\n",
       "      <td>1m80</td>\n",
       "      <td>190.0</td>\n",
       "      <td>black</td>\n",
       "      <td>Basic</td>\n",
       "    </tr>\n",
       "    <tr>\n",
       "      <th>HOO_5</th>\n",
       "      <td>Cloth</td>\n",
       "      <td>Hoodie</td>\n",
       "      <td>M</td>\n",
       "      <td>38.0</td>\n",
       "      <td>red</td>\n",
       "      <td>Mega</td>\n",
       "    </tr>\n",
       "    <tr>\n",
       "      <th>TSH_3</th>\n",
       "      <td>Cloth</td>\n",
       "      <td>Tshirt</td>\n",
       "      <td>M</td>\n",
       "      <td>19.0</td>\n",
       "      <td>brown</td>\n",
       "      <td>Over</td>\n",
       "    </tr>\n",
       "  </tbody>\n",
       "</table>\n",
       "</div>"
      ],
      "text/plain": [
       "             CATEGORY SUB_CATEGORY    SIZE  PURCHASE_PRICE  COLOR  BRAND\n",
       "PRODUCT_ID                                                              \n",
       "BED_2       Furniture          Bed  Single           127.0    red   Mega\n",
       "TAB_1       Furniture        Table    2m40           280.0  white   Mega\n",
       "TAB_0       Furniture        Table    1m80           190.0  black  Basic\n",
       "HOO_5           Cloth       Hoodie       M            38.0    red   Mega\n",
       "TSH_3           Cloth       Tshirt       M            19.0  brown   Over"
      ]
     },
     "execution_count": 14,
     "metadata": {},
     "output_type": "execute_result"
    }
   ],
   "source": [
    "products_table = session.add_external_table(\n",
    "    external_database.tables[\"PRODUCTS\"],\n",
    "    table_name=\"Atoti Product\",\n",
    "    config=TableConfig(keys=[\"PRODUCT_ID\"]),\n",
    ")\n",
    "\n",
    "products_table.head()"
   ]
  },
  {
   "cell_type": "markdown",
   "id": "57349699-117a-4cf9-bb95-5910f18d5187",
   "metadata": {},
   "source": [
    "Once we have created our external tables, the rest is _simply the usual stuff for Atoti_."
   ]
  },
  {
   "cell_type": "markdown",
   "id": "564a8bad-9c60-4c7a-b94e-918b5112cfdb",
   "metadata": {
    "tags": []
   },
   "source": [
    "## Atoti Cube Setup"
   ]
  },
  {
   "cell_type": "markdown",
   "id": "2f24568b-71da-4341-a716-f8abdbdce17d",
   "metadata": {
    "tags": []
   },
   "source": [
    "From this section onwards, the coding remains the same regardless of the underlying data source.  \n",
    "\n",
    "As we have always done, we join the tables and create the cube."
   ]
  },
  {
   "cell_type": "code",
   "execution_count": 15,
   "id": "93f6c667-27b6-4e2e-9685-ef275235622c",
   "metadata": {
    "tags": []
   },
   "outputs": [
    {
     "data": {
      "image/png": "[encoded data removed]",
      "text/plain": [
       "erDiagram\n",
       "  \"Atoti Sales\" {\n",
       "    non-null String PK \"SALE_ID\"\n",
       "    non-null LocalDate \"DATE\"\n",
       "    non-null String \"SHOP\"\n",
       "    non-null String \"PRODUCT\"\n",
       "    non-null long \"QUANTITY\"\n",
       "    non-null double \"UNIT_PRICE\"\n",
       "  }\n",
       "  \"Atoti Product\" {\n",
       "    non-null String PK \"PRODUCT_ID\"\n",
       "    non-null String \"CATEGORY\"\n",
       "    non-null String \"SUB_CATEGORY\"\n",
       "    non-null String \"SIZE\"\n",
       "    non-null double \"PURCHASE_PRICE\"\n",
       "    non-null String \"COLOR\"\n",
       "    non-null String \"BRAND\"\n",
       "  }\n",
       "  \"Atoti Sales\" }o--o| \"Atoti Product\" : \"PRODUCT == PRODUCT_ID\""
      ]
     },
     "execution_count": 15,
     "metadata": {},
     "output_type": "execute_result"
    }
   ],
   "source": [
    "sales_table.join(products_table, sales_table[\"PRODUCT\"] == products_table[\"PRODUCT_ID\"])\n",
    "cube = session.create_cube(sales_table)\n",
    "session.tables.schema"
   ]
  },
  {
   "cell_type": "code",
   "execution_count": 16,
   "id": "4ee29cb6-1f57-43f2-b6e7-ad2e72d8abd4",
   "metadata": {
    "atoti": {
     "widget": {
      "mapping": {
       "columns": [
        "ALL_MEASURES"
       ],
       "measures": [
        "[Measures].[QUANTITY.SUM]"
       ],
       "rows": [
        "[Atoti Sales].[DATE].[DATE]",
        "[Atoti Sales].[SHOP].[SHOP] => [Atoti Product].[BRAND].[BRAND]"
       ]
      },
      "name": "Quantity sold across dates by shops",
      "query": {
       "mdx": "SELECT NON EMPTY {[Measures].[QUANTITY.SUM]} ON COLUMNS, NON EMPTY Hierarchize(Union(Crossjoin(Hierarchize(Descendants({[Atoti Sales].[DATE].[AllMember]}, 1, SELF_AND_BEFORE)), Hierarchize(Descendants({[Atoti Sales].[SHOP].[AllMember]}, 1, SELF_AND_BEFORE)), [Atoti Product].[BRAND].DefaultMember), Crossjoin([Atoti Sales].[DATE].[AllMember].[2022-01-31], [Atoti Sales].[SHOP].[AllMember].[shop_2], Hierarchize(Descendants({[Atoti Product].[BRAND].[AllMember]}, 1, SELF_AND_BEFORE))))) ON ROWS FROM [Atoti Sales] CELL PROPERTIES VALUE, FORMATTED_VALUE, BACK_COLOR, FORE_COLOR, FONT_FLAGS",
       "updateMode": "once"
      },
      "serverKey": "default",
      "widgetKey": "pivot-table"
     }
    },
    "tags": []
   },
   "outputs": [
    {
     "data": {
      "application/vnd.atoti.widget.v0+json": {
       "sessionId": "1755115961_733207",
       "sessionUrl": "http://localhost:50963",
       "widgetCreationCode": "session.widget"
      },
      "text/html": [
       "<img height=\"352\" width=\"833\" src=\"data:image/png;base64,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\" />"
      ],
      "text/plain": [
       "Open the notebook in JupyterLab with the Atoti JupyterLab extension enabled to build this widget."
      ]
     },
     "metadata": {},
     "output_type": "display_data"
    }
   ],
   "source": [
    "session.widget"
   ]
  },
  {
   "cell_type": "markdown",
   "id": "623a5cce-fee4-489b-9250-c5dd542fb708",
   "metadata": {},
   "source": [
    "### Cube manipulation"
   ]
  },
  {
   "cell_type": "markdown",
   "id": "ad616201-0cc7-4012-8e54-66a99c9c1a23",
   "metadata": {},
   "source": [
    "We perform hierarchy manipulation, level ordering and measure creations the same way we always do in Atoti."
   ]
  },
  {
   "cell_type": "code",
   "execution_count": 17,
   "id": "27bebe22-10e5-4b67-9c18-4bb478fef70b",
   "metadata": {
    "tags": []
   },
   "outputs": [],
   "source": [
    "h, l, m = cube.hierarchies, cube.levels, cube.measures"
   ]
  },
  {
   "cell_type": "code",
   "execution_count": 18,
   "id": "fe4aea14-fc25-4a2d-9401-0ce01df385e4",
   "metadata": {
    "tags": []
   },
   "outputs": [],
   "source": [
    "h[\"CATEGORY\"] = [l[\"CATEGORY\"], l[\"SUB_CATEGORY\"]]\n",
    "del h[\"SUB_CATEGORY\"]"
   ]
  },
  {
   "cell_type": "code",
   "execution_count": 19,
   "id": "efc5d476-6465-4ccf-93d3-9f5dfe19df3c",
   "metadata": {
    "tags": []
   },
   "outputs": [
    {
     "data": {
      "application/json": {
       "Atoti Product": {
        "BRAND": [
         "BRAND"
        ],
        "CATEGORY": [
         "CATEGORY",
         "SUB_CATEGORY"
        ],
        "COLOR": [
         "COLOR"
        ],
        "SIZE": [
         "SIZE"
        ]
       },
       "Atoti Sales": {
        "DATE": [
         "DATE"
        ],
        "PRODUCT": [
         "PRODUCT"
        ],
        "SALE_ID": [
         "SALE_ID"
        ],
        "SHOP": [
         "SHOP"
        ]
       }
      },
      "text/html": [
       "<ul>\n",
       "<li>Dimensions\n",
       "  <ul>\n",
       "  <li>Atoti Product\n",
       "    <ul>\n",
       "    <li>BRAND\n",
       "      <ol>\n",
       "      <li>BRAND</li>\n",
       "      </ol>    </li>\n",
       "    <li>CATEGORY\n",
       "      <ol>\n",
       "      <li>CATEGORY</li>\n",
       "      <li>SUB_CATEGORY</li>\n",
       "      </ol>    </li>\n",
       "    <li>COLOR\n",
       "      <ol>\n",
       "      <li>COLOR</li>\n",
       "      </ol>    </li>\n",
       "    <li>SIZE\n",
       "      <ol>\n",
       "      <li>SIZE</li>\n",
       "      </ol>    </li>\n",
       "    </ul>\n",
       "  </li>\n",
       "  <li>Atoti Sales\n",
       "    <ul>\n",
       "    <li>DATE\n",
       "      <ol>\n",
       "      <li>DATE</li>\n",
       "      </ol>    </li>\n",
       "    <li>PRODUCT\n",
       "      <ol>\n",
       "      <li>PRODUCT</li>\n",
       "      </ol>    </li>\n",
       "    <li>SALE_ID\n",
       "      <ol>\n",
       "      <li>SALE_ID</li>\n",
       "      </ol>    </li>\n",
       "    <li>SHOP\n",
       "      <ol>\n",
       "      <li>SHOP</li>\n",
       "      </ol>    </li>\n",
       "    </ul>\n",
       "  </li>\n",
       "  </ul>\n",
       "</li>\n",
       "</ul>\n"
      ],
      "text/plain": [
       "{('Atoti Product', 'SIZE'): <atoti.hierarchy.Hierarchy object at 0x11fc96f90>, ('Atoti Product', 'BRAND'): <atoti.hierarchy.Hierarchy object at 0x11fb2f890>, ('Atoti Product', 'COLOR'): <atoti.hierarchy.Hierarchy object at 0x128aa3190>, ('Atoti Product', 'CATEGORY'): <atoti.hierarchy.Hierarchy object at 0x12a346c90>, ('Atoti Sales', 'SALE_ID'): <atoti.hierarchy.Hierarchy object at 0x11fe5a650>, ('Atoti Sales', 'DATE'): <atoti.hierarchy.Hierarchy object at 0x12a3025d0>, ('Atoti Sales', 'SHOP'): <atoti.hierarchy.Hierarchy object at 0x12a3017d0>, ('Atoti Sales', 'PRODUCT'): <atoti.hierarchy.Hierarchy object at 0x12a302150>}"
      ]
     },
     "execution_count": 19,
     "metadata": {
      "application/json": {
       "expanded": true,
       "root": "Dimensions"
      }
     },
     "output_type": "execute_result"
    }
   ],
   "source": [
    "h"
   ]
  },
  {
   "cell_type": "code",
   "execution_count": 20,
   "id": "fe924c60-0c9d-431f-ac72-297db49d8abc",
   "metadata": {
    "tags": []
   },
   "outputs": [],
   "source": [
    "l[\"DATE\"].order = tt.NaturalOrder(ascending=False)"
   ]
  },
  {
   "cell_type": "code",
   "execution_count": 21,
   "id": "343686bd-182e-4de1-b681-8bc6c04b791d",
   "metadata": {
    "tags": []
   },
   "outputs": [],
   "source": [
    "m[\"PURCHASE_PRICE.SUM\"] = tt.agg.sum(products_table[\"PURCHASE_PRICE\"])\n",
    "m[\"PROFIT\"] = tt.agg.sum_product(\n",
    "    m[\"UNIT_PRICE.SUM\"] - m[\"PURCHASE_PRICE.SUM\"],\n",
    "    m[\"QUANTITY.SUM\"],\n",
    "    scope=tt.OriginScope(levels={l[\"SALE_ID\"], l[\"PRODUCT\"]}),\n",
    ")"
   ]
  },
  {
   "cell_type": "markdown",
   "id": "595db925-bf0b-4828-87fb-ff26c717d905",
   "metadata": {},
   "source": [
    "Since we have a join from `sales_table` to `products_table` using the column values of `sales_table.PRODUCT` and `products_table.PRODUCT_ID`, the resultant level is the name of the column from the _from_ table. Therefore, we have the level `PRODUCT` but not `PRODUCT_ID` for our scope in the code snippet above."
   ]
  },
  {
   "cell_type": "code",
   "execution_count": 22,
   "id": "a5dd754e-6d52-43b0-9a18-e7aa7fd42e0b",
   "metadata": {
    "atoti": {
     "widget": {
      "mapping": {
       "columns": [
        "ALL_MEASURES"
       ],
       "measures": [
        "[Measures].[UNIT_PRICE.SUM]",
        "[Measures].[PURCHASE_PRICE.SUM]",
        "[Measures].[QUANTITY.SUM]",
        "[Measures].[PROFIT]"
       ],
       "rows": [
        "[Atoti Sales].[DATE].[DATE]",
        "[Atoti Product].[CATEGORY].[CATEGORY] => [Atoti Product].[CATEGORY].[SUB_CATEGORY]"
       ]
      },
      "name": "Profit by Product Categories across dates",
      "query": {
       "mdx": "SELECT NON EMPTY Hierarchize(Union(Crossjoin(Hierarchize(Descendants({[Atoti Sales].[DATE].[AllMember]}, 1, SELF_AND_BEFORE)), Hierarchize(Descendants({[Atoti Product].[CATEGORY].[AllMember]}, 1, SELF_AND_BEFORE))), Crossjoin([Atoti Sales].[DATE].[AllMember].[2022-02-03], Descendants({[Atoti Product].[CATEGORY].[AllMember].[Cloth]}, [Atoti Product].[CATEGORY].[SUB_CATEGORY])))) ON ROWS, NON EMPTY {[Measures].[UNIT_PRICE.SUM], [Measures].[PURCHASE_PRICE.SUM], [Measures].[QUANTITY.SUM], [Measures].[PROFIT]} ON COLUMNS FROM [Atoti Sales] CELL PROPERTIES VALUE, FORMATTED_VALUE, BACK_COLOR, FORE_COLOR, FONT_FLAGS",
       "updateMode": "once"
      },
      "serverKey": "default",
      "widgetKey": "pivot-table"
     }
    },
    "tags": []
   },
   "outputs": [
    {
     "data": {
      "application/vnd.atoti.widget.v0+json": {
       "sessionId": "1755115961_733207",
       "sessionUrl": "http://localhost:50963",
       "widgetCreationCode": "session.widget"
      },
      "text/html": [
       "<img height=\"352\" width=\"833\" src=\"data:image/png;base64,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\" />"
      ],
      "text/plain": [
       "Open the notebook in JupyterLab with the Atoti JupyterLab extension enabled to build this widget."
      ]
     },
     "metadata": {},
     "output_type": "display_data"
    }
   ],
   "source": [
    "session.widget"
   ]
  },
  {
   "cell_type": "markdown",
   "id": "08ceaeb7-d0ed-42b5-899e-f4fb4fdcf1ae",
   "metadata": {},
   "source": [
    "## Cost and performance saving with Aggregate Provider"
   ]
  },
  {
   "cell_type": "markdown",
   "id": "b00d6de1-5324-43b0-acb0-c682977c2cf0",
   "metadata": {},
   "source": [
    "Let's take a quick look at our query performance in the current setup."
   ]
  },
  {
   "cell_type": "code",
   "execution_count": 23,
   "id": "37320670-66e8-40c1-9402-26775ed5817c",
   "metadata": {},
   "outputs": [
    {
     "name": "stdout",
     "output_type": "stream",
     "text": [
      "CPU times: user 24.6 ms, sys: 4.64 ms, total: 29.2 ms\n",
      "Wall time: 1.66 s\n"
     ]
    },
    {
     "data": {
      "application/vnd.atoti.convert-mdx-query-result-to-widget.v0+json": {
       "mdx": "SELECT {[Measures].[QUANTITY.SUM], [Measures].[PROFIT]} ON COLUMNS, NON EMPTY Crossjoin(Hierarchize(Descendants({[Atoti Sales].[DATE].[ALL].[AllMember]}, 1, SELF_AND_BEFORE)), Hierarchize(Descendants({[Atoti Sales].[PRODUCT].[ALL].[AllMember]}, 1, SELF_AND_BEFORE)), Hierarchize(Descendants({[Atoti Sales].[SALE_ID].[ALL].[AllMember]}, 1, SELF_AND_BEFORE))) ON ROWS FROM [Atoti Sales]",
       "sessionId": "1755115961_733207",
       "widgetCreationCode": "session.widget"
      },
      "text/html": [
       "<div>\n",
       "<style scoped>\n",
       "    .dataframe tbody tr th:only-of-type {\n",
       "        vertical-align: middle;\n",
       "    }\n",
       "\n",
       "    .dataframe tbody tr th {\n",
       "        vertical-align: top;\n",
       "    }\n",
       "\n",
       "    .dataframe thead th {\n",
       "        text-align: right;\n",
       "    }\n",
       "</style>\n",
       "<table border=\"1\" class=\"dataframe\">\n",
       "  <thead>\n",
       "    <tr style=\"text-align: right;\">\n",
       "      <th></th>\n",
       "      <th></th>\n",
       "      <th></th>\n",
       "      <th>QUANTITY.SUM</th>\n",
       "      <th>PROFIT</th>\n",
       "    </tr>\n",
       "    <tr>\n",
       "      <th>DATE</th>\n",
       "      <th>PRODUCT</th>\n",
       "      <th>SALE_ID</th>\n",
       "      <th></th>\n",
       "      <th></th>\n",
       "    </tr>\n",
       "  </thead>\n",
       "  <tbody>\n",
       "    <tr>\n",
       "      <th rowspan=\"2\" valign=\"top\">2022-02-04</th>\n",
       "      <th>HOO_5</th>\n",
       "      <th>S0017</th>\n",
       "      <td>1</td>\n",
       "      <td>10.00</td>\n",
       "    </tr>\n",
       "    <tr>\n",
       "      <th>TAB_0</th>\n",
       "      <th>S0000</th>\n",
       "      <td>1</td>\n",
       "      <td>20.00</td>\n",
       "    </tr>\n",
       "    <tr>\n",
       "      <th rowspan=\"4\" valign=\"top\">2022-02-03</th>\n",
       "      <th>HOO_5</th>\n",
       "      <th>S0018</th>\n",
       "      <td>1</td>\n",
       "      <td>10.00</td>\n",
       "    </tr>\n",
       "    <tr>\n",
       "      <th>TAB_0</th>\n",
       "      <th>S0001</th>\n",
       "      <td>1</td>\n",
       "      <td>20.00</td>\n",
       "    </tr>\n",
       "    <tr>\n",
       "      <th>TAB_1</th>\n",
       "      <th>S0004</th>\n",
       "      <td>1</td>\n",
       "      <td>20.00</td>\n",
       "    </tr>\n",
       "    <tr>\n",
       "      <th>TSH_3</th>\n",
       "      <th>S0011</th>\n",
       "      <td>1</td>\n",
       "      <td>3.00</td>\n",
       "    </tr>\n",
       "    <tr>\n",
       "      <th rowspan=\"5\" valign=\"top\">2022-02-02</th>\n",
       "      <th>HOO_5</th>\n",
       "      <th>S0019</th>\n",
       "      <td>1</td>\n",
       "      <td>10.00</td>\n",
       "    </tr>\n",
       "    <tr>\n",
       "      <th>TAB_0</th>\n",
       "      <th>S0002</th>\n",
       "      <td>1</td>\n",
       "      <td>20.00</td>\n",
       "    </tr>\n",
       "    <tr>\n",
       "      <th>TAB_1</th>\n",
       "      <th>S0005</th>\n",
       "      <td>1</td>\n",
       "      <td>20.00</td>\n",
       "    </tr>\n",
       "    <tr>\n",
       "      <th>TSH_3</th>\n",
       "      <th>S0012</th>\n",
       "      <td>1</td>\n",
       "      <td>3.00</td>\n",
       "    </tr>\n",
       "    <tr>\n",
       "      <th>TSH_4</th>\n",
       "      <th>S0014</th>\n",
       "      <td>1</td>\n",
       "      <td>4.00</td>\n",
       "    </tr>\n",
       "    <tr>\n",
       "      <th rowspan=\"5\" valign=\"top\">2022-02-01</th>\n",
       "      <th>BED_2</th>\n",
       "      <th>S0007</th>\n",
       "      <td>1</td>\n",
       "      <td>23.00</td>\n",
       "    </tr>\n",
       "    <tr>\n",
       "      <th>TAB_0</th>\n",
       "      <th>S0003</th>\n",
       "      <td>1</td>\n",
       "      <td>20.00</td>\n",
       "    </tr>\n",
       "    <tr>\n",
       "      <th>TAB_1</th>\n",
       "      <th>S0006</th>\n",
       "      <td>2</td>\n",
       "      <td>40.00</td>\n",
       "    </tr>\n",
       "    <tr>\n",
       "      <th>TSH_3</th>\n",
       "      <th>S0013</th>\n",
       "      <td>1</td>\n",
       "      <td>3.00</td>\n",
       "    </tr>\n",
       "    <tr>\n",
       "      <th>TSH_4</th>\n",
       "      <th>S0015</th>\n",
       "      <td>2</td>\n",
       "      <td>8.00</td>\n",
       "    </tr>\n",
       "    <tr>\n",
       "      <th rowspan=\"4\" valign=\"top\">2022-01-31</th>\n",
       "      <th rowspan=\"3\" valign=\"top\">BED_2</th>\n",
       "      <th>S0008</th>\n",
       "      <td>1</td>\n",
       "      <td>23.00</td>\n",
       "    </tr>\n",
       "    <tr>\n",
       "      <th>S0009</th>\n",
       "      <td>1</td>\n",
       "      <td>23.00</td>\n",
       "    </tr>\n",
       "    <tr>\n",
       "      <th>S0010</th>\n",
       "      <td>3</td>\n",
       "      <td>69.00</td>\n",
       "    </tr>\n",
       "    <tr>\n",
       "      <th>TSH_4</th>\n",
       "      <th>S0016</th>\n",
       "      <td>2</td>\n",
       "      <td>8.00</td>\n",
       "    </tr>\n",
       "  </tbody>\n",
       "</table>\n",
       "</div>"
      ],
      "text/plain": [
       "                           QUANTITY.SUM PROFIT\n",
       "DATE       PRODUCT SALE_ID                    \n",
       "2022-02-04 HOO_5   S0017              1  10.00\n",
       "           TAB_0   S0000              1  20.00\n",
       "2022-02-03 HOO_5   S0018              1  10.00\n",
       "           TAB_0   S0001              1  20.00\n",
       "           TAB_1   S0004              1  20.00\n",
       "           TSH_3   S0011              1   3.00\n",
       "2022-02-02 HOO_5   S0019              1  10.00\n",
       "           TAB_0   S0002              1  20.00\n",
       "           TAB_1   S0005              1  20.00\n",
       "           TSH_3   S0012              1   3.00\n",
       "           TSH_4   S0014              1   4.00\n",
       "2022-02-01 BED_2   S0007              1  23.00\n",
       "           TAB_0   S0003              1  20.00\n",
       "           TAB_1   S0006              2  40.00\n",
       "           TSH_3   S0013              1   3.00\n",
       "           TSH_4   S0015              2   8.00\n",
       "2022-01-31 BED_2   S0008              1  23.00\n",
       "                   S0009              1  23.00\n",
       "                   S0010              3  69.00\n",
       "           TSH_4   S0016              2   8.00"
      ]
     },
     "execution_count": 23,
     "metadata": {},
     "output_type": "execute_result"
    }
   ],
   "source": [
    "%%time\n",
    "\n",
    "cube.query(\n",
    "    m[\"QUANTITY.SUM\"], m[\"PROFIT\"], levels=[l[\"DATE\"], l[\"PRODUCT\"], l[\"SALE_ID\"]]\n",
    ")"
   ]
  },
  {
   "cell_type": "code",
   "execution_count": 24,
   "id": "41a42190-2831-458d-9679-aa942dae9de0",
   "metadata": {},
   "outputs": [
    {
     "name": "stdout",
     "output_type": "stream",
     "text": [
      "CPU times: user 8.83 ms, sys: 2.24 ms, total: 11.1 ms\n",
      "Wall time: 1.87 s\n"
     ]
    },
    {
     "data": {
      "application/vnd.atoti.convert-mdx-query-result-to-widget.v0+json": {
       "mdx": "SELECT {[Measures].[PROFIT]} ON COLUMNS, NON EMPTY Crossjoin(Hierarchize(Descendants({[Atoti Sales].[DATE].[ALL].[AllMember]}, 1, SELF_AND_BEFORE)), Hierarchize(Descendants({[Atoti Product].[CATEGORY].[ALL].[AllMember]}, 2, SELF_AND_BEFORE))) DIMENSION PROPERTIES CHILDREN_CARDINALITY ON ROWS FROM [Atoti Sales]",
       "sessionId": "1755115961_733207",
       "widgetCreationCode": "session.widget"
      },
      "text/html": [
       "<div>\n",
       "<style scoped>\n",
       "    .dataframe tbody tr th:only-of-type {\n",
       "        vertical-align: middle;\n",
       "    }\n",
       "\n",
       "    .dataframe tbody tr th {\n",
       "        vertical-align: top;\n",
       "    }\n",
       "\n",
       "    .dataframe thead th {\n",
       "        text-align: right;\n",
       "    }\n",
       "</style>\n",
       "<table border=\"1\" class=\"dataframe\">\n",
       "  <thead>\n",
       "    <tr style=\"text-align: right;\">\n",
       "      <th></th>\n",
       "      <th></th>\n",
       "      <th></th>\n",
       "      <th>PROFIT</th>\n",
       "    </tr>\n",
       "    <tr>\n",
       "      <th>DATE</th>\n",
       "      <th>CATEGORY</th>\n",
       "      <th>SUB_CATEGORY</th>\n",
       "      <th></th>\n",
       "    </tr>\n",
       "  </thead>\n",
       "  <tbody>\n",
       "    <tr>\n",
       "      <th rowspan=\"2\" valign=\"top\">2022-02-04</th>\n",
       "      <th>Cloth</th>\n",
       "      <th>Hoodie</th>\n",
       "      <td>10.00</td>\n",
       "    </tr>\n",
       "    <tr>\n",
       "      <th>Furniture</th>\n",
       "      <th>Table</th>\n",
       "      <td>20.00</td>\n",
       "    </tr>\n",
       "    <tr>\n",
       "      <th rowspan=\"3\" valign=\"top\">2022-02-03</th>\n",
       "      <th rowspan=\"2\" valign=\"top\">Cloth</th>\n",
       "      <th>Hoodie</th>\n",
       "      <td>10.00</td>\n",
       "    </tr>\n",
       "    <tr>\n",
       "      <th>Tshirt</th>\n",
       "      <td>3.00</td>\n",
       "    </tr>\n",
       "    <tr>\n",
       "      <th>Furniture</th>\n",
       "      <th>Table</th>\n",
       "      <td>40.00</td>\n",
       "    </tr>\n",
       "    <tr>\n",
       "      <th rowspan=\"3\" valign=\"top\">2022-02-02</th>\n",
       "      <th rowspan=\"2\" valign=\"top\">Cloth</th>\n",
       "      <th>Hoodie</th>\n",
       "      <td>10.00</td>\n",
       "    </tr>\n",
       "    <tr>\n",
       "      <th>Tshirt</th>\n",
       "      <td>7.00</td>\n",
       "    </tr>\n",
       "    <tr>\n",
       "      <th>Furniture</th>\n",
       "      <th>Table</th>\n",
       "      <td>40.00</td>\n",
       "    </tr>\n",
       "    <tr>\n",
       "      <th rowspan=\"3\" valign=\"top\">2022-02-01</th>\n",
       "      <th>Cloth</th>\n",
       "      <th>Tshirt</th>\n",
       "      <td>11.00</td>\n",
       "    </tr>\n",
       "    <tr>\n",
       "      <th rowspan=\"2\" valign=\"top\">Furniture</th>\n",
       "      <th>Bed</th>\n",
       "      <td>23.00</td>\n",
       "    </tr>\n",
       "    <tr>\n",
       "      <th>Table</th>\n",
       "      <td>60.00</td>\n",
       "    </tr>\n",
       "    <tr>\n",
       "      <th rowspan=\"2\" valign=\"top\">2022-01-31</th>\n",
       "      <th>Cloth</th>\n",
       "      <th>Tshirt</th>\n",
       "      <td>8.00</td>\n",
       "    </tr>\n",
       "    <tr>\n",
       "      <th>Furniture</th>\n",
       "      <th>Bed</th>\n",
       "      <td>115.00</td>\n",
       "    </tr>\n",
       "  </tbody>\n",
       "</table>\n",
       "</div>"
      ],
      "text/plain": [
       "                                   PROFIT\n",
       "DATE       CATEGORY  SUB_CATEGORY        \n",
       "2022-02-04 Cloth     Hoodie         10.00\n",
       "           Furniture Table          20.00\n",
       "2022-02-03 Cloth     Hoodie         10.00\n",
       "                     Tshirt          3.00\n",
       "           Furniture Table          40.00\n",
       "2022-02-02 Cloth     Hoodie         10.00\n",
       "                     Tshirt          7.00\n",
       "           Furniture Table          40.00\n",
       "2022-02-01 Cloth     Tshirt         11.00\n",
       "           Furniture Bed            23.00\n",
       "                     Table          60.00\n",
       "2022-01-31 Cloth     Tshirt          8.00\n",
       "           Furniture Bed           115.00"
      ]
     },
     "execution_count": 24,
     "metadata": {},
     "output_type": "execute_result"
    }
   ],
   "source": [
    "%%time\n",
    "\n",
    "cube.query(m[\"PROFIT\"], levels=[l[\"DATE\"], l[\"SUB_CATEGORY\"]])"
   ]
  },
  {
   "cell_type": "markdown",
   "id": "ec655a71-8eec-42ae-9dd5-3fa7bbf0f782",
   "metadata": {},
   "source": [
    "It takes approximately `3s` to return the query (YMMV)."
   ]
  },
  {
   "cell_type": "markdown",
   "id": "409bcc8e-c3e4-4592-a6ee-c54d41f97719",
   "metadata": {},
   "source": [
    "To speed up our querying, we make use of the [aggregate provider](https://docs.atoti.io/latest/api/atoti.AggregateProvider.html#atoti.AggregateProvider) to store intermediate aggregates in memory. If a step of a query uses a subset of the aggregate provider's levels and measures, the provider will speed up the query.  \n",
    "\n",
    "Since data is cached in memory, we will __not__ access BigQuery when a subset of these are queried.  "
   ]
  },
  {
   "cell_type": "code",
   "execution_count": 25,
   "id": "0f33a62c-d66d-4e3a-997d-ae325e9276ec",
   "metadata": {
    "tags": []
   },
   "outputs": [],
   "source": [
    "cube.aggregate_providers.update(\n",
    "    {\n",
    "        \"Products provider\": tt.AggregateProvider(\n",
    "            key=\"bitmap\",\n",
    "            levels=[l[\"DATE\"], l[\"PRODUCT\"], l[\"SALE_ID\"]],\n",
    "            measures=[m[\"QUANTITY.SUM\"], m[\"PURCHASE_PRICE.SUM\"], m[\"UNIT_PRICE.SUM\"]],\n",
    "            partitioning=\"hash16(PRODUCT)\",\n",
    "        )\n",
    "    }\n",
    ")"
   ]
  },
  {
   "cell_type": "markdown",
   "id": "4817dae9-0dbb-4c91-95bc-38a1320102ae",
   "metadata": {},
   "source": [
    "⚠️ **Important:** We can only use store aggregated measures supporting disaggregation can be used in aggregate provider, e.g. `tt.agg.sum` or `tt.agg.mean` on table columns.\n",
    "\n",
    "`m[\"PROFIT\"]` cannot be used because it is a chained measure resulting from the `sum_product` of a few measures.\n"
   ]
  },
  {
   "cell_type": "code",
   "execution_count": 26,
   "id": "0bc35e5d-1845-479b-873f-5a24be936f1e",
   "metadata": {
    "tags": []
   },
   "outputs": [
    {
     "name": "stdout",
     "output_type": "stream",
     "text": [
      "CPU times: user 9.3 ms, sys: 2.15 ms, total: 11.5 ms\n",
      "Wall time: 62 ms\n"
     ]
    },
    {
     "data": {
      "application/vnd.atoti.convert-mdx-query-result-to-widget.v0+json": {
       "mdx": "SELECT {[Measures].[PROFIT]} ON COLUMNS, NON EMPTY Crossjoin(Hierarchize(Descendants({[Atoti Sales].[DATE].[ALL].[AllMember]}, 1, SELF_AND_BEFORE)), Hierarchize(Descendants({[Atoti Sales].[PRODUCT].[ALL].[AllMember]}, 1, SELF_AND_BEFORE)), Hierarchize(Descendants({[Atoti Sales].[SALE_ID].[ALL].[AllMember]}, 1, SELF_AND_BEFORE))) ON ROWS FROM [Atoti Sales]",
       "sessionId": "1755115961_733207",
       "widgetCreationCode": "session.widget"
      },
      "text/html": [
       "<div>\n",
       "<style scoped>\n",
       "    .dataframe tbody tr th:only-of-type {\n",
       "        vertical-align: middle;\n",
       "    }\n",
       "\n",
       "    .dataframe tbody tr th {\n",
       "        vertical-align: top;\n",
       "    }\n",
       "\n",
       "    .dataframe thead th {\n",
       "        text-align: right;\n",
       "    }\n",
       "</style>\n",
       "<table border=\"1\" class=\"dataframe\">\n",
       "  <thead>\n",
       "    <tr style=\"text-align: right;\">\n",
       "      <th></th>\n",
       "      <th></th>\n",
       "      <th></th>\n",
       "      <th>PROFIT</th>\n",
       "    </tr>\n",
       "    <tr>\n",
       "      <th>DATE</th>\n",
       "      <th>PRODUCT</th>\n",
       "      <th>SALE_ID</th>\n",
       "      <th></th>\n",
       "    </tr>\n",
       "  </thead>\n",
       "  <tbody>\n",
       "    <tr>\n",
       "      <th rowspan=\"2\" valign=\"top\">2022-02-04</th>\n",
       "      <th>HOO_5</th>\n",
       "      <th>S0017</th>\n",
       "      <td>10.00</td>\n",
       "    </tr>\n",
       "    <tr>\n",
       "      <th>TAB_0</th>\n",
       "      <th>S0000</th>\n",
       "      <td>20.00</td>\n",
       "    </tr>\n",
       "    <tr>\n",
       "      <th rowspan=\"4\" valign=\"top\">2022-02-03</th>\n",
       "      <th>HOO_5</th>\n",
       "      <th>S0018</th>\n",
       "      <td>10.00</td>\n",
       "    </tr>\n",
       "    <tr>\n",
       "      <th>TAB_0</th>\n",
       "      <th>S0001</th>\n",
       "      <td>20.00</td>\n",
       "    </tr>\n",
       "    <tr>\n",
       "      <th>TAB_1</th>\n",
       "      <th>S0004</th>\n",
       "      <td>20.00</td>\n",
       "    </tr>\n",
       "    <tr>\n",
       "      <th>TSH_3</th>\n",
       "      <th>S0011</th>\n",
       "      <td>3.00</td>\n",
       "    </tr>\n",
       "    <tr>\n",
       "      <th rowspan=\"5\" valign=\"top\">2022-02-02</th>\n",
       "      <th>HOO_5</th>\n",
       "      <th>S0019</th>\n",
       "      <td>10.00</td>\n",
       "    </tr>\n",
       "    <tr>\n",
       "      <th>TAB_0</th>\n",
       "      <th>S0002</th>\n",
       "      <td>20.00</td>\n",
       "    </tr>\n",
       "    <tr>\n",
       "      <th>TAB_1</th>\n",
       "      <th>S0005</th>\n",
       "      <td>20.00</td>\n",
       "    </tr>\n",
       "    <tr>\n",
       "      <th>TSH_3</th>\n",
       "      <th>S0012</th>\n",
       "      <td>3.00</td>\n",
       "    </tr>\n",
       "    <tr>\n",
       "      <th>TSH_4</th>\n",
       "      <th>S0014</th>\n",
       "      <td>4.00</td>\n",
       "    </tr>\n",
       "    <tr>\n",
       "      <th rowspan=\"5\" valign=\"top\">2022-02-01</th>\n",
       "      <th>BED_2</th>\n",
       "      <th>S0007</th>\n",
       "      <td>23.00</td>\n",
       "    </tr>\n",
       "    <tr>\n",
       "      <th>TAB_0</th>\n",
       "      <th>S0003</th>\n",
       "      <td>20.00</td>\n",
       "    </tr>\n",
       "    <tr>\n",
       "      <th>TAB_1</th>\n",
       "      <th>S0006</th>\n",
       "      <td>40.00</td>\n",
       "    </tr>\n",
       "    <tr>\n",
       "      <th>TSH_3</th>\n",
       "      <th>S0013</th>\n",
       "      <td>3.00</td>\n",
       "    </tr>\n",
       "    <tr>\n",
       "      <th>TSH_4</th>\n",
       "      <th>S0015</th>\n",
       "      <td>8.00</td>\n",
       "    </tr>\n",
       "    <tr>\n",
       "      <th rowspan=\"4\" valign=\"top\">2022-01-31</th>\n",
       "      <th rowspan=\"3\" valign=\"top\">BED_2</th>\n",
       "      <th>S0008</th>\n",
       "      <td>23.00</td>\n",
       "    </tr>\n",
       "    <tr>\n",
       "      <th>S0009</th>\n",
       "      <td>23.00</td>\n",
       "    </tr>\n",
       "    <tr>\n",
       "      <th>S0010</th>\n",
       "      <td>69.00</td>\n",
       "    </tr>\n",
       "    <tr>\n",
       "      <th>TSH_4</th>\n",
       "      <th>S0016</th>\n",
       "      <td>8.00</td>\n",
       "    </tr>\n",
       "  </tbody>\n",
       "</table>\n",
       "</div>"
      ],
      "text/plain": [
       "                           PROFIT\n",
       "DATE       PRODUCT SALE_ID       \n",
       "2022-02-04 HOO_5   S0017    10.00\n",
       "           TAB_0   S0000    20.00\n",
       "2022-02-03 HOO_5   S0018    10.00\n",
       "           TAB_0   S0001    20.00\n",
       "           TAB_1   S0004    20.00\n",
       "           TSH_3   S0011     3.00\n",
       "2022-02-02 HOO_5   S0019    10.00\n",
       "           TAB_0   S0002    20.00\n",
       "           TAB_1   S0005    20.00\n",
       "           TSH_3   S0012     3.00\n",
       "           TSH_4   S0014     4.00\n",
       "2022-02-01 BED_2   S0007    23.00\n",
       "           TAB_0   S0003    20.00\n",
       "           TAB_1   S0006    40.00\n",
       "           TSH_3   S0013     3.00\n",
       "           TSH_4   S0015     8.00\n",
       "2022-01-31 BED_2   S0008    23.00\n",
       "                   S0009    23.00\n",
       "                   S0010    69.00\n",
       "           TSH_4   S0016     8.00"
      ]
     },
     "execution_count": 26,
     "metadata": {},
     "output_type": "execute_result"
    }
   ],
   "source": [
    "%%time\n",
    "\n",
    "cube.query(m[\"PROFIT\"], levels=[l[\"DATE\"], l[\"PRODUCT\"], l[\"SALE_ID\"]])"
   ]
  },
  {
   "cell_type": "markdown",
   "id": "fd36b224-ab65-45f0-a2fb-1e44c5fdb1c8",
   "metadata": {},
   "source": [
    "Previously, it took close to `3s` to return the query results. Now, it only takes slightly over `100ms` to return the results (YMMV).  \n",
    "\n",
    "Note that we are querying `PROFIT` and not the measures `m[\"QUANTITY.SUM\"]`, `m[\"PURCHASE_PRICE.SUM\"]` and `m[\"UNIT_PRICE.SUM\"]`. However, `PROFIT` is computed on the fly using the cached data in memory. Therefore, the query speed is improved drastically."
   ]
  },
  {
   "cell_type": "code",
   "execution_count": 27,
   "id": "800e212c-f4ce-4e77-8653-f8afd9b50043",
   "metadata": {
    "tags": []
   },
   "outputs": [
    {
     "name": "stdout",
     "output_type": "stream",
     "text": [
      "CPU times: user 5.54 ms, sys: 1.71 ms, total: 7.25 ms\n",
      "Wall time: 27.2 ms\n"
     ]
    },
    {
     "data": {
      "application/vnd.atoti.convert-mdx-query-result-to-widget.v0+json": {
       "mdx": "SELECT {[Measures].[PROFIT]} ON COLUMNS, NON EMPTY Hierarchize(Descendants({[Atoti Sales].[PRODUCT].[ALL].[AllMember]}, 1, SELF_AND_BEFORE)) ON ROWS FROM [Atoti Sales]",
       "sessionId": "1755115961_733207",
       "widgetCreationCode": "session.widget"
      },
      "text/html": [
       "<div>\n",
       "<style scoped>\n",
       "    .dataframe tbody tr th:only-of-type {\n",
       "        vertical-align: middle;\n",
       "    }\n",
       "\n",
       "    .dataframe tbody tr th {\n",
       "        vertical-align: top;\n",
       "    }\n",
       "\n",
       "    .dataframe thead th {\n",
       "        text-align: right;\n",
       "    }\n",
       "</style>\n",
       "<table border=\"1\" class=\"dataframe\">\n",
       "  <thead>\n",
       "    <tr style=\"text-align: right;\">\n",
       "      <th></th>\n",
       "      <th>PROFIT</th>\n",
       "    </tr>\n",
       "    <tr>\n",
       "      <th>PRODUCT</th>\n",
       "      <th></th>\n",
       "    </tr>\n",
       "  </thead>\n",
       "  <tbody>\n",
       "    <tr>\n",
       "      <th>BED_2</th>\n",
       "      <td>138.00</td>\n",
       "    </tr>\n",
       "    <tr>\n",
       "      <th>HOO_5</th>\n",
       "      <td>30.00</td>\n",
       "    </tr>\n",
       "    <tr>\n",
       "      <th>TAB_0</th>\n",
       "      <td>80.00</td>\n",
       "    </tr>\n",
       "    <tr>\n",
       "      <th>TAB_1</th>\n",
       "      <td>80.00</td>\n",
       "    </tr>\n",
       "    <tr>\n",
       "      <th>TSH_3</th>\n",
       "      <td>9.00</td>\n",
       "    </tr>\n",
       "    <tr>\n",
       "      <th>TSH_4</th>\n",
       "      <td>20.00</td>\n",
       "    </tr>\n",
       "  </tbody>\n",
       "</table>\n",
       "</div>"
      ],
      "text/plain": [
       "         PROFIT\n",
       "PRODUCT        \n",
       "BED_2    138.00\n",
       "HOO_5     30.00\n",
       "TAB_0     80.00\n",
       "TAB_1     80.00\n",
       "TSH_3      9.00\n",
       "TSH_4     20.00"
      ]
     },
     "execution_count": 27,
     "metadata": {},
     "output_type": "execute_result"
    }
   ],
   "source": [
    "%%time\n",
    "\n",
    "cube.query(m[\"PROFIT\"], levels=[l[\"PRODUCT\"]])"
   ]
  },
  {
   "cell_type": "markdown",
   "id": "3776a1f9-c10c-4912-866f-238a3b95fbee",
   "metadata": {},
   "source": [
    "Querying a subset of the aggregate provider levels also returns the result quickly.  \n",
    "\n",
    "The below query on a different level will access data from BigQuery and therefore, is limited by the querying speed of the cloud database and its network connectivity.  "
   ]
  },
  {
   "cell_type": "code",
   "execution_count": 28,
   "id": "08506fb9-16e3-4052-9288-380ecc441021",
   "metadata": {
    "tags": []
   },
   "outputs": [
    {
     "name": "stdout",
     "output_type": "stream",
     "text": [
      "CPU times: user 8.04 ms, sys: 2.05 ms, total: 10.1 ms\n",
      "Wall time: 1.66 s\n"
     ]
    },
    {
     "data": {
      "application/vnd.atoti.convert-mdx-query-result-to-widget.v0+json": {
       "mdx": "SELECT {[Measures].[PROFIT]} ON COLUMNS, NON EMPTY Crossjoin(Hierarchize(Descendants({[Atoti Sales].[DATE].[ALL].[AllMember]}, 1, SELF_AND_BEFORE)), Hierarchize(Descendants({[Atoti Product].[CATEGORY].[ALL].[AllMember]}, 2, SELF_AND_BEFORE))) DIMENSION PROPERTIES CHILDREN_CARDINALITY ON ROWS FROM [Atoti Sales]",
       "sessionId": "1755115961_733207",
       "widgetCreationCode": "session.widget"
      },
      "text/html": [
       "<div>\n",
       "<style scoped>\n",
       "    .dataframe tbody tr th:only-of-type {\n",
       "        vertical-align: middle;\n",
       "    }\n",
       "\n",
       "    .dataframe tbody tr th {\n",
       "        vertical-align: top;\n",
       "    }\n",
       "\n",
       "    .dataframe thead th {\n",
       "        text-align: right;\n",
       "    }\n",
       "</style>\n",
       "<table border=\"1\" class=\"dataframe\">\n",
       "  <thead>\n",
       "    <tr style=\"text-align: right;\">\n",
       "      <th></th>\n",
       "      <th></th>\n",
       "      <th></th>\n",
       "      <th>PROFIT</th>\n",
       "    </tr>\n",
       "    <tr>\n",
       "      <th>DATE</th>\n",
       "      <th>CATEGORY</th>\n",
       "      <th>SUB_CATEGORY</th>\n",
       "      <th></th>\n",
       "    </tr>\n",
       "  </thead>\n",
       "  <tbody>\n",
       "    <tr>\n",
       "      <th rowspan=\"2\" valign=\"top\">2022-02-04</th>\n",
       "      <th>Cloth</th>\n",
       "      <th>Hoodie</th>\n",
       "      <td>10.00</td>\n",
       "    </tr>\n",
       "    <tr>\n",
       "      <th>Furniture</th>\n",
       "      <th>Table</th>\n",
       "      <td>20.00</td>\n",
       "    </tr>\n",
       "    <tr>\n",
       "      <th rowspan=\"3\" valign=\"top\">2022-02-03</th>\n",
       "      <th rowspan=\"2\" valign=\"top\">Cloth</th>\n",
       "      <th>Hoodie</th>\n",
       "      <td>10.00</td>\n",
       "    </tr>\n",
       "    <tr>\n",
       "      <th>Tshirt</th>\n",
       "      <td>3.00</td>\n",
       "    </tr>\n",
       "    <tr>\n",
       "      <th>Furniture</th>\n",
       "      <th>Table</th>\n",
       "      <td>40.00</td>\n",
       "    </tr>\n",
       "    <tr>\n",
       "      <th rowspan=\"3\" valign=\"top\">2022-02-02</th>\n",
       "      <th rowspan=\"2\" valign=\"top\">Cloth</th>\n",
       "      <th>Hoodie</th>\n",
       "      <td>10.00</td>\n",
       "    </tr>\n",
       "    <tr>\n",
       "      <th>Tshirt</th>\n",
       "      <td>7.00</td>\n",
       "    </tr>\n",
       "    <tr>\n",
       "      <th>Furniture</th>\n",
       "      <th>Table</th>\n",
       "      <td>40.00</td>\n",
       "    </tr>\n",
       "    <tr>\n",
       "      <th rowspan=\"3\" valign=\"top\">2022-02-01</th>\n",
       "      <th>Cloth</th>\n",
       "      <th>Tshirt</th>\n",
       "      <td>11.00</td>\n",
       "    </tr>\n",
       "    <tr>\n",
       "      <th rowspan=\"2\" valign=\"top\">Furniture</th>\n",
       "      <th>Bed</th>\n",
       "      <td>23.00</td>\n",
       "    </tr>\n",
       "    <tr>\n",
       "      <th>Table</th>\n",
       "      <td>60.00</td>\n",
       "    </tr>\n",
       "    <tr>\n",
       "      <th rowspan=\"2\" valign=\"top\">2022-01-31</th>\n",
       "      <th>Cloth</th>\n",
       "      <th>Tshirt</th>\n",
       "      <td>8.00</td>\n",
       "    </tr>\n",
       "    <tr>\n",
       "      <th>Furniture</th>\n",
       "      <th>Bed</th>\n",
       "      <td>115.00</td>\n",
       "    </tr>\n",
       "  </tbody>\n",
       "</table>\n",
       "</div>"
      ],
      "text/plain": [
       "                                   PROFIT\n",
       "DATE       CATEGORY  SUB_CATEGORY        \n",
       "2022-02-04 Cloth     Hoodie         10.00\n",
       "           Furniture Table          20.00\n",
       "2022-02-03 Cloth     Hoodie         10.00\n",
       "                     Tshirt          3.00\n",
       "           Furniture Table          40.00\n",
       "2022-02-02 Cloth     Hoodie         10.00\n",
       "                     Tshirt          7.00\n",
       "           Furniture Table          40.00\n",
       "2022-02-01 Cloth     Tshirt         11.00\n",
       "           Furniture Bed            23.00\n",
       "                     Table          60.00\n",
       "2022-01-31 Cloth     Tshirt          8.00\n",
       "           Furniture Bed           115.00"
      ]
     },
     "execution_count": 28,
     "metadata": {},
     "output_type": "execute_result"
    }
   ],
   "source": [
    "%%time\n",
    "\n",
    "cube.query(m[\"PROFIT\"], levels=[l[\"DATE\"], l[\"SUB_CATEGORY\"]])"
   ]
  },
  {
   "cell_type": "markdown",
   "id": "c260f204-8f69-4f99-aefa-3e881c29e4bc",
   "metadata": {},
   "source": [
    "Before we are done with this example, let's create another aggregate provider with a _slice_ of data using `filter`.  \n",
    "\n",
    "Let's first capture the timing of the query without the aggregate provider."
   ]
  },
  {
   "cell_type": "code",
   "execution_count": 29,
   "id": "fe342fd4-1c7f-4995-833d-f3cac15d2aa4",
   "metadata": {},
   "outputs": [
    {
     "name": "stdout",
     "output_type": "stream",
     "text": [
      "CPU times: user 12.2 ms, sys: 2.76 ms, total: 15 ms\n",
      "Wall time: 1.58 s\n"
     ]
    },
    {
     "data": {
      "application/vnd.atoti.convert-mdx-query-result-to-widget.v0+json": {
       "mdx": "SELECT {[Measures].[PROFIT]} ON COLUMNS, NON EMPTY Crossjoin(Hierarchize(Descendants({[Atoti Sales].[DATE].[ALL].[AllMember]}, 1, SELF_AND_BEFORE)), Hierarchize(Descendants({[Atoti Product].[CATEGORY].[ALL].[AllMember]}, 2, SELF_AND_BEFORE))) DIMENSION PROPERTIES CHILDREN_CARDINALITY ON ROWS FROM (SELECT [Atoti Sales].[DATE].[ALL].[AllMember].[2022-02-04] ON COLUMNS FROM [Atoti Sales])",
       "sessionId": "1755115961_733207",
       "widgetCreationCode": "session.widget"
      },
      "text/html": [
       "<div>\n",
       "<style scoped>\n",
       "    .dataframe tbody tr th:only-of-type {\n",
       "        vertical-align: middle;\n",
       "    }\n",
       "\n",
       "    .dataframe tbody tr th {\n",
       "        vertical-align: top;\n",
       "    }\n",
       "\n",
       "    .dataframe thead th {\n",
       "        text-align: right;\n",
       "    }\n",
       "</style>\n",
       "<table border=\"1\" class=\"dataframe\">\n",
       "  <thead>\n",
       "    <tr style=\"text-align: right;\">\n",
       "      <th></th>\n",
       "      <th></th>\n",
       "      <th></th>\n",
       "      <th>PROFIT</th>\n",
       "    </tr>\n",
       "    <tr>\n",
       "      <th>DATE</th>\n",
       "      <th>CATEGORY</th>\n",
       "      <th>SUB_CATEGORY</th>\n",
       "      <th></th>\n",
       "    </tr>\n",
       "  </thead>\n",
       "  <tbody>\n",
       "    <tr>\n",
       "      <th rowspan=\"2\" valign=\"top\">2022-02-04</th>\n",
       "      <th>Cloth</th>\n",
       "      <th>Hoodie</th>\n",
       "      <td>10.00</td>\n",
       "    </tr>\n",
       "    <tr>\n",
       "      <th>Furniture</th>\n",
       "      <th>Table</th>\n",
       "      <td>20.00</td>\n",
       "    </tr>\n",
       "  </tbody>\n",
       "</table>\n",
       "</div>"
      ],
      "text/plain": [
       "                                  PROFIT\n",
       "DATE       CATEGORY  SUB_CATEGORY       \n",
       "2022-02-04 Cloth     Hoodie        10.00\n",
       "           Furniture Table         20.00"
      ]
     },
     "execution_count": 29,
     "metadata": {},
     "output_type": "execute_result"
    }
   ],
   "source": [
    "%%time\n",
    "\n",
    "cube.query(\n",
    "    m[\"PROFIT\"],\n",
    "    levels=[l[\"DATE\"], l[\"SUB_CATEGORY\"]],\n",
    "    filter=(l[\"DATE\"] == \"2022-02-04\"),\n",
    ")"
   ]
  },
  {
   "cell_type": "code",
   "execution_count": 30,
   "id": "b240a857-71f6-4344-8967-570013c0ac98",
   "metadata": {
    "tags": []
   },
   "outputs": [],
   "source": [
    "from datetime import date\n",
    "\n",
    "current_date = date(2022, 2, 4)"
   ]
  },
  {
   "cell_type": "markdown",
   "id": "9526ed6a-2c74-4ab5-935e-51899123340c",
   "metadata": {},
   "source": [
    "In the event where users are interested in a particular member of level, e.g. the current date or a particular shop, and the amount of querying on this member is huge, then it makes sense to cache them in memory.  \n",
    "\n",
    "In this case, we apply filter just for the interested member. This helps to control the amount of data held in memory."
   ]
  },
  {
   "cell_type": "code",
   "execution_count": 31,
   "id": "17ae6441-66db-4038-bfee-28df3b2c576e",
   "metadata": {},
   "outputs": [],
   "source": [
    "cube.aggregate_providers.update(\n",
    "    {\n",
    "        \"Category provider\": tt.AggregateProvider(\n",
    "            key=\"bitmap\",\n",
    "            levels=[l[\"DATE\"], l[\"SUB_CATEGORY\"]],\n",
    "            measures=[m[\"QUANTITY.SUM\"], m[\"PURCHASE_PRICE.SUM\"], m[\"UNIT_PRICE.SUM\"]],\n",
    "            filter=(l[\"DATE\"] == current_date),\n",
    "        )\n",
    "    }\n",
    ")"
   ]
  },
  {
   "cell_type": "code",
   "execution_count": 32,
   "id": "adc253db-cebe-49a2-a8ae-2f9630d5338d",
   "metadata": {
    "tags": []
   },
   "outputs": [
    {
     "name": "stdout",
     "output_type": "stream",
     "text": [
      "CPU times: user 8.14 ms, sys: 1.99 ms, total: 10.1 ms\n",
      "Wall time: 1.29 s\n"
     ]
    },
    {
     "data": {
      "application/vnd.atoti.convert-mdx-query-result-to-widget.v0+json": {
       "mdx": "SELECT {[Measures].[PROFIT]} ON COLUMNS, NON EMPTY Crossjoin(Hierarchize(Descendants({[Atoti Sales].[DATE].[ALL].[AllMember]}, 1, SELF_AND_BEFORE)), Hierarchize(Descendants({[Atoti Product].[CATEGORY].[ALL].[AllMember]}, 2, SELF_AND_BEFORE))) DIMENSION PROPERTIES CHILDREN_CARDINALITY ON ROWS FROM (SELECT [Atoti Sales].[DATE].[ALL].[AllMember].[2022-02-04] ON COLUMNS FROM [Atoti Sales])",
       "sessionId": "1755115961_733207",
       "widgetCreationCode": "session.widget"
      },
      "text/html": [
       "<div>\n",
       "<style scoped>\n",
       "    .dataframe tbody tr th:only-of-type {\n",
       "        vertical-align: middle;\n",
       "    }\n",
       "\n",
       "    .dataframe tbody tr th {\n",
       "        vertical-align: top;\n",
       "    }\n",
       "\n",
       "    .dataframe thead th {\n",
       "        text-align: right;\n",
       "    }\n",
       "</style>\n",
       "<table border=\"1\" class=\"dataframe\">\n",
       "  <thead>\n",
       "    <tr style=\"text-align: right;\">\n",
       "      <th></th>\n",
       "      <th></th>\n",
       "      <th></th>\n",
       "      <th>PROFIT</th>\n",
       "    </tr>\n",
       "    <tr>\n",
       "      <th>DATE</th>\n",
       "      <th>CATEGORY</th>\n",
       "      <th>SUB_CATEGORY</th>\n",
       "      <th></th>\n",
       "    </tr>\n",
       "  </thead>\n",
       "  <tbody>\n",
       "    <tr>\n",
       "      <th rowspan=\"2\" valign=\"top\">2022-02-04</th>\n",
       "      <th>Cloth</th>\n",
       "      <th>Hoodie</th>\n",
       "      <td>10.00</td>\n",
       "    </tr>\n",
       "    <tr>\n",
       "      <th>Furniture</th>\n",
       "      <th>Table</th>\n",
       "      <td>20.00</td>\n",
       "    </tr>\n",
       "  </tbody>\n",
       "</table>\n",
       "</div>"
      ],
      "text/plain": [
       "                                  PROFIT\n",
       "DATE       CATEGORY  SUB_CATEGORY       \n",
       "2022-02-04 Cloth     Hoodie        10.00\n",
       "           Furniture Table         20.00"
      ]
     },
     "execution_count": 32,
     "metadata": {},
     "output_type": "execute_result"
    }
   ],
   "source": [
    "%%time\n",
    "\n",
    "cube.query(\n",
    "    m[\"PROFIT\"],\n",
    "    levels=[l[\"DATE\"], l[\"SUB_CATEGORY\"]],\n",
    "    filter=(l[\"DATE\"] == \"2022-02-04\"),\n",
    ")"
   ]
  },
  {
   "cell_type": "markdown",
   "id": "4b392590-0e19-4d03-84db-853028977e8b",
   "metadata": {},
   "source": [
    "## Balance between Cost and Performance"
   ]
  },
  {
   "cell_type": "markdown",
   "id": "1f44c57a-00ad-44eb-9195-ed0b0a808a62",
   "metadata": {},
   "source": [
    "All in all, Atoti's DirectQuery offers users a way to balance between cost and performance:\n",
    "\n",
    "* For data that is less queried, it resides on the cloud database and gets queried on-demand.\n",
    "* For data that is more frequently queried, we can cache it in memory and reduce the number of queries to the cloud database, thereby improving performance.  \n",
    "\n",
    "<img src=\"https://data.atoti.io/notebooks/direct-query/img/aggregate_cache.png\" />  \n",
    "\n",
    "💡 **Note:** To find out more, reach out to [ActiveViam](https://activeviam.com/contact-us/?utm_source=github&utm_medium=atoti) for a demonstration."
   ]
  },
  {
   "cell_type": "markdown",
   "id": "455e3f95-0a8c-48bf-b793-69d5fe2f2083",
   "metadata": {},
   "source": [
    "<div style=\"text-align: center;\" ><a href=\"https://www.atoti.io/?utm_source=gallery&utm_content=directquery-intro\" target=\"_blank\" rel=\"noopener noreferrer\"><img src=\"https://data.atoti.io/notebooks/banners/Your-turn-to-try-Atoti.jpg\" alt=\"Try Atoti\"></a></div>"
   ]
  }
 ],
 "metadata": {
  "kernelspec": {
   "display_name": "Python 3 (ipykernel)",
   "language": "python",
   "name": "python3"
  },
  "language_info": {
   "codemirror_mode": {
    "name": "ipython",
    "version": 3
   },
   "file_extension": ".py",
   "mimetype": "text/x-python",
   "name": "python",
   "nbconvert_exporter": "python",
   "pygments_lexer": "ipython3",
   "version": "3.11.10"
  },
  "widgets": {
   "application/vnd.jupyter.widget-state+json": {
    "state": {},
    "version_major": 2,
    "version_minor": 0
   }
  }
 },
 "nbformat": 4,
 "nbformat_minor": 5
}
