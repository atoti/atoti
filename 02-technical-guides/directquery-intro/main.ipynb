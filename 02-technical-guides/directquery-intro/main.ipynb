{
 "cells": [
  {
   "cell_type": "markdown",
   "id": "ac3fbb12-82a8-4e9f-aa4e-e1ad414ce283",
   "metadata": {},
   "source": [
    "# DirectQuery: Combining Atoti and Data Warehouses"
   ]
  },
  {
   "cell_type": "markdown",
   "id": "a671e16d-c06b-432f-92c6-5b2d2f7043bd",
   "metadata": {},
   "source": [
    "We know Atoti provides in-memory analytics for big data. This means that we hold data in memory and perform aggregation on the fly in order to achieve fast and dynamic computations. In our usual Atoti setup, the hosting server requires a memory size that's about 1.5 times of the amount of data that gets loaded into the cube. However, with Atoti's DirectQuery, we can better support our users who store their data on the cloud! In fact, it applies for on-premise databases such as [ClickHouse](https://clickhouse.com/clickhouse) and [Microsoft SQL Server](https://www.microsoft.com/en-sg/sql-server/sql-server-downloads) too.  \n",
    "\n",
    "<img src=\"https://data.atoti.io/notebooks/direct-query/img/cost_vs_performance.png\" width=\"850px\"/>\n",
    "\n",
    "In a gist, here's what DirectQuery offers:  \n",
    "\n",
    "- Scalability\n",
    "\n",
    "> Leveraging the scalability of cloud data warehouse, the server that hosts Atoti only has to take into consideration the amount of data that gets queried on a daily basis.  \n",
    "> Instead of storing all of the data in physical memory, DirectQuery enables us to query the Cloud database directly, reducing the need for memory in the hosting server.  \n",
    "\n",
    "- Cost savings\n",
    "\n",
    "> Other than saving on the memory required for the hosting server, DirectQuery helps to save on the data transfer costs.  \n",
    "> While cloud data warehouse is cost-effective, we incur costs when we perform queries.  \n",
    "> We can reduce querying to the Cloud database by loading an aggregated cache in memory for the most frequently queried data.  \n",
    "\n",
    "- Technology agnosticism\n",
    "\n",
    "> With changes to only a few lines of data connectivity code in Atoti, we can easily switch from one Cloud service provider to another without impacting the Atoti server.  \n",
    "> We can even switch over to other data connectors such as physical files.  \n",
    "\n",
    "\n",
    "This notebook provides a quick introduction to how we can connect to Google BigQuery and create an Atoti cube."
   ]
  },
  {
   "cell_type": "markdown",
   "id": "f23aeb88-5455-44ee-892d-4aa7fc2dbfb7",
   "metadata": {},
   "source": [
    "<div style=\"text-align: center;\" ><a href=\"https://www.atoti.io/?utm_source=gallery&utm_content=directquery-intro\" target=\"_blank\" rel=\"noopener noreferrer\"><img src=\"https://data.atoti.io/notebooks/banners/Discover-Atoti-now.png\" alt=\"Try Atoti\"></a></div>"
   ]
  },
  {
   "cell_type": "markdown",
   "id": "663b2051-11e1-4815-8a2c-fde3d450d07b",
   "metadata": {},
   "source": [
    "## Google BigQuery configuration"
   ]
  },
  {
   "cell_type": "markdown",
   "id": "1db76b03-dbe0-4223-a656-8b7e9e2ff260",
   "metadata": {},
   "source": [
    "### Step 1 — Create role with permissions\n",
    "\n",
    "- Login to Google Cloud console.\n",
    "- Navigate to __IAM & Admin__ > __Roles__.  \n",
    "- Create a role with the following permission for the DirectQuery users:  \n",
    "    - `bigquery.datasets.get`\n",
    "    - `bigquery.jobs.create`\n",
    "    - `bigquery.readsessions.create`\n",
    "    - `bigquery.readsessions.getData`\n",
    "    - `bigquery.readsessions.update`\n",
    "    - `bigquery.routines.get`\n",
    "    - `bigquery.tables.get`\n",
    "    - `bigquery.tables.getData`\n",
    "    - `bigquery.tables.list`\n",
    "\n",
    "⚠️ **Important:** Having trouble pulling your data after setting up your account? Confirm that the above permissions have been set up properly!  \n",
    "\n",
    "<img src=\"https://data.atoti.io/notebooks/direct-query/img/bigquery_permission.png\" />\n",
    "\n",
    "💡 **Note:** For more details, refer to the [Atoti Server documentation](https://docs.activeviam.com/products/atoti/server/latest/docs/directquery/connect_to_external/connect_to_bigquery/)."
   ]
  },
  {
   "cell_type": "markdown",
   "id": "2143280e-d2b0-4da1-b20d-78af65d26753",
   "metadata": {},
   "source": [
    "### Step 2 — Create Service Account\n",
    "\n",
    "* Under **IAM & Admin**, navigate to **Service Accounts**.\n",
    "* Create a service account and assign the role created in Step 1.\n",
    "\n",
    "    <img src=\"https://data.atoti.io/notebooks/direct-query/img/service_account.png\" width=\"700px\"/>  "
   ]
  },
  {
   "cell_type": "markdown",
   "id": "03e75ceb-055a-4986-aa8d-6858422b260a",
   "metadata": {
    "tags": []
   },
   "source": [
    "### Step 3 — Generate API Key \n",
    "\n",
    "- Navigate to the __KEYS__ tab and generate a new key.  \n",
    "\n",
    "    <img src=\"https://data.atoti.io/notebooks/direct-query/img/create_key.png\" />  \n",
    "\n",
    "- Select `JSON` as key type and save the downloaded key to a server folder:  \n",
    "\n",
    "    <img src=\"https://data.atoti.io/notebooks/direct-query/img/json_key.png\" />\n",
    "\n",
    "- Configure environment variable pointing to the JSON key. In this use case, our environment variable is `DQ_GOOGLE_CREDENTIAL`:  \n",
    "\n",
    "    <img src=\"https://data.atoti.io/notebooks/direct-query/img/environment_variable.png\" />  \n",
    "\n",
    "💡 **Note:** Alternatively, we can set up [Application Default Credentials](https://cloud.google.com/docs/authentication/provide-credentials-adc) for authentication.  "
   ]
  },
  {
   "cell_type": "markdown",
   "id": "95e30413-d630-4b1b-a304-d824e9649c3d",
   "metadata": {},
   "source": [
    "## Database set up  \n",
    "\n",
    "To try out this notebook, you can setup the database schema and tables using the [database script](db_schema.sql) in the use case folder.  "
   ]
  },
  {
   "cell_type": "markdown",
   "id": "fcfd6d72-801a-460c-9e1f-4e0843909442",
   "metadata": {},
   "source": [
    "## Atoti Setup"
   ]
  },
  {
   "cell_type": "markdown",
   "id": "8857ebb1-032f-4b69-84e6-b8cf7e431def",
   "metadata": {},
   "source": [
    "We import [Atoti](https://docs.atoti.io/latest/getting_started/installation.html) library and create the [Atoti Session](https://docs.atoti.io/latest/api/atoti.Session.html#atoti.Session) as we always do.  "
   ]
  },
  {
   "cell_type": "code",
   "execution_count": 1,
   "id": "7d97f0ea-5b39-4c60-9a10-1cae5a22616d",
   "metadata": {
    "tags": []
   },
   "outputs": [],
   "source": [
    "import os\n",
    "import atoti as tt"
   ]
  },
  {
   "cell_type": "code",
   "execution_count": 2,
   "id": "3898f076-a031-49b7-a75f-074008d89a26",
   "metadata": {
    "tags": []
   },
   "outputs": [],
   "source": [
    "session = tt.Session.start()"
   ]
  },
  {
   "cell_type": "markdown",
   "id": "9e855ec8-18bb-46fa-8e99-751edafeb94c",
   "metadata": {},
   "source": [
    "## DirectQuery Prerequisites"
   ]
  },
  {
   "cell_type": "markdown",
   "id": "01a8923b-80b3-4bfd-86a0-2d705d4bb805",
   "metadata": {},
   "source": [
    "DirectQuery supports a few [databases](https://docs.atoti.io/latest/reference.html#directquery). For each of these databases, we have to install its respective Python plugin.  \n",
    "- `atoti-directquery-bigquery` : To use DirectQuery on Google BigQuery.\n",
    "- `atoti-directquery-clickhouse` : To use DirectQuery with ClickHouse.\n",
    "- `atoti-directquery-databricks` : To use DirectQuery on Databricks.\n",
    "- `atoti-directquery-mssql` : To use DirectQuery with Microsoft SQL Server.\n",
    "- `atoti-directquery-redshift` : To use DirectQuery on Amazon Redshift.\n",
    "- `atoti-directquery-snowflake` : To use DirectQuery on Snowflake.\n",
    "- `atoti-directquery-synapse` : To use DirectQuery on Azure Synapse Analytics.  \n",
    "\n",
    "In our example, we install the plugin for Google BigQuery. Uncomment the below line to install the plugin if it isn't installed.  \n",
    "\n",
    "⚠️ **Important:** We only support one type of database connection per Atoti session."
   ]
  },
  {
   "cell_type": "code",
   "execution_count": 3,
   "id": "af8780d7-ec54-481a-98d7-4cc9f7e030c1",
   "metadata": {
    "tags": []
   },
   "outputs": [],
   "source": [
    "# !uv pip install \"atoti[directquery-bigquery]\""
   ]
  },
  {
   "cell_type": "markdown",
   "id": "1d997a63-e2db-48f9-b501-0532c5eabb3d",
   "metadata": {},
   "source": [
    "We will be using two components from the DirectQueryPlugin:\n",
    "- [BigqueryConnectionInfo](https://docs.atoti.io/latest/api/atoti_directquery_bigquery.BigqueryConnectionInfo.html#atoti_directquery_bigquery.BigqueryConnectionInfo): Configure the connection information to BigQuery.\n",
    "- [BigqueryTableOptions](https://docs.atoti.io/latest/api/atoti_directquery_bigquery.BigqueryTableOptions.html#atoti_directquery_bigquery.BigqueryTableOptions): Configure the table options about the external table to create in Atoti.  \n",
    "\n",
    "⚠️ **Important:** Use the corresponding components for different databases if we are using a different one from BigQuery. E.g. we use [`ClickhouseConnectionInfo`](https://docs.atoti.io/latest/api/atoti_directquery_clickhouse.ClickhouseConnectionInfo.html#atoti_directquery_clickhouse.ClickhouseConnectionInfo) and [`ClickhouseTableOptions`](https://docs.atoti.io/latest/api/atoti_directquery_clickhouse.ClickhouseTableOptions.html#atoti_directquery_clickhouse.ClickhouseTableOptions) if we are connecting to [ClickHouse](https://clickhouse.com/)."
   ]
  },
  {
   "cell_type": "markdown",
   "id": "4509d71b-4d1b-4297-b18a-10430b128507",
   "metadata": {},
   "source": [
    "## Connection setup to Google BigQuery"
   ]
  },
  {
   "cell_type": "code",
   "execution_count": 4,
   "id": "f5eb2f90-be60-4332-80d2-1a5cd83147d4",
   "metadata": {
    "tags": []
   },
   "outputs": [],
   "source": [
    "from atoti_directquery_bigquery import ConnectionConfig"
   ]
  },
  {
   "cell_type": "markdown",
   "id": "00b90385-93af-479f-888a-bc0677f73eb2",
   "metadata": {},
   "source": [
    "In the below snippet, we use the environment variable to obtain the path to the [API key generated previous in Step 3](#Step-3-—-Generate-API-Key). Setting the credential path into `BigqueryConnectionInfo`, we can invoke the connection to the external database.  "
   ]
  },
  {
   "cell_type": "code",
   "execution_count": 5,
   "id": "ea50d105-284f-4296-b654-b5465037d634",
   "metadata": {
    "tags": []
   },
   "outputs": [],
   "source": [
    "credential = os.environ[\"DQ_GOOGLE_CREDENTIAL\"]\n",
    "connection_info = ConnectionConfig(credentials=credential)\n",
    "\n",
    "external_database = session.connect_to_external_database(connection_info)"
   ]
  },
  {
   "cell_type": "markdown",
   "id": "8e7f4c10-5dc6-4c53-aeea-ef4864471caf",
   "metadata": {},
   "source": [
    "### Discover External Tables"
   ]
  },
  {
   "cell_type": "markdown",
   "id": "51f3c2ee-c57b-49df-9756-60c96d9b0734",
   "metadata": {
    "tags": []
   },
   "source": [
    "Once connected, we can discover the tables available to us from the external database."
   ]
  },
  {
   "cell_type": "code",
   "execution_count": 6,
   "id": "5e85bd6f-dd6a-4ab8-a2f2-51d7759466de",
   "metadata": {
    "tags": []
   },
   "outputs": [
    {
     "data": {
      "application/json": {
       "bd-project-386413": {
        "fpna_demo": [
         "amount",
         "amount_details",
         "bsg",
         "entity",
         "ftp_type",
         "fv",
         "fx_local",
         "geo",
         "gl_account",
         "gl_acct",
         "product",
         "scenario",
         "source_account",
         "source_acct",
         "source_mis",
         "standard_org",
         "taxonomy",
         "ucoa"
        ],
        "tutorial": [
         "PRODUCTS",
         "SALES"
        ],
        "var_demo": [
         "BOOKS",
         "TRADE_PNLS"
        ]
       }
      },
      "text/html": [
       "<ul>\n",
       "<li>BIGQUERY\n",
       "  <ul>\n",
       "  <li>bd-project-386413\n",
       "    <ul>\n",
       "    <li>fpna_demo\n",
       "      <ol>\n",
       "      <li>amount</li>\n",
       "      <li>amount_details</li>\n",
       "      <li>bsg</li>\n",
       "      <li>entity</li>\n",
       "      <li>ftp_type</li>\n",
       "      <li>fv</li>\n",
       "      <li>fx_local</li>\n",
       "      <li>geo</li>\n",
       "      <li>gl_account</li>\n",
       "      <li>gl_acct</li>\n",
       "      <li>product</li>\n",
       "      <li>scenario</li>\n",
       "      <li>source_account</li>\n",
       "      <li>source_acct</li>\n",
       "      <li>source_mis</li>\n",
       "      <li>standard_org</li>\n",
       "      <li>taxonomy</li>\n",
       "      <li>ucoa</li>\n",
       "      </ol>    </li>\n",
       "    <li>var_demo\n",
       "      <ol>\n",
       "      <li>BOOKS</li>\n",
       "      <li>TRADE_PNLS</li>\n",
       "      </ol>    </li>\n",
       "    <li>tutorial\n",
       "      <ol>\n",
       "      <li>PRODUCTS</li>\n",
       "      <li>SALES</li>\n",
       "      </ol>    </li>\n",
       "    </ul>\n",
       "  </li>\n",
       "  </ul>\n",
       "</li>\n",
       "</ul>\n"
      ],
      "text/plain": [
       "<atoti.directquery.external_tables.ExternalTables at 0x12585d7d0>"
      ]
     },
     "execution_count": 6,
     "metadata": {
      "application/json": {
       "expanded": false,
       "root": "BIGQUERY"
      }
     },
     "output_type": "execute_result"
    }
   ],
   "source": [
    "external_database.tables"
   ]
  },
  {
   "cell_type": "markdown",
   "id": "4187eaef-cae3-44ca-80c1-dd952dd3faab",
   "metadata": {},
   "source": [
    "If the database has many schemas, we can perform a filter to access only the schema that we want."
   ]
  },
  {
   "cell_type": "code",
   "execution_count": 7,
   "id": "63c5fafe-05e1-429e-8f35-9f3f072e34f7",
   "metadata": {
    "tags": []
   },
   "outputs": [
    {
     "data": {
      "application/json": {
       "bd-project-386413": {
        "tutorial": [
         "PRODUCTS",
         "SALES"
        ]
       }
      },
      "text/html": [
       "<ul>\n",
       "<li>BIGQUERY\n",
       "  <ul>\n",
       "  <li>bd-project-386413\n",
       "    <ul>\n",
       "    <li>tutorial\n",
       "      <ol>\n",
       "      <li>PRODUCTS</li>\n",
       "      <li>SALES</li>\n",
       "      </ol>    </li>\n",
       "    </ul>\n",
       "  </li>\n",
       "  </ul>\n",
       "</li>\n",
       "</ul>\n"
      ],
      "text/plain": [
       "<atoti.directquery.external_tables.ExternalTables at 0x12586cf10>"
      ]
     },
     "execution_count": 7,
     "metadata": {
      "application/json": {
       "expanded": false,
       "root": "BIGQUERY"
      }
     },
     "output_type": "execute_result"
    }
   ],
   "source": [
    "external_database.tables._filter(schema_name=\"tutorial\")"
   ]
  },
  {
   "cell_type": "markdown",
   "id": "f1308a2c-a4d2-40e5-9985-7013fa05a9fb",
   "metadata": {},
   "source": [
    "### Discover Table Columns"
   ]
  },
  {
   "cell_type": "markdown",
   "id": "e72119a9-ed38-4d83-a8a5-1fe021b48e5c",
   "metadata": {},
   "source": [
    "If a table name is unique in the database, we can check its structure directly using its name:  "
   ]
  },
  {
   "cell_type": "code",
   "execution_count": 8,
   "id": "f91519b6-a36b-4f0c-b1f0-949b0be22d5f",
   "metadata": {
    "tags": []
   },
   "outputs": [
    {
     "data": {
      "application/json": {
       "DATE": "LocalDate",
       "PRODUCT": "String",
       "QUANTITY": "long",
       "SALE_ID": "String",
       "SHOP": "String",
       "UNIT_PRICE": "double"
      },
      "text/html": [
       "<ul>\n",
       "<li>SALES\n",
       "  <ul>\n",
       "  <li>SALE_ID: String</li>\n",
       "  <li>DATE: LocalDate</li>\n",
       "  <li>SHOP: String</li>\n",
       "  <li>PRODUCT: String</li>\n",
       "  <li>QUANTITY: long</li>\n",
       "  <li>UNIT_PRICE: double</li>\n",
       "  </ul>\n",
       "</li>\n",
       "</ul>\n"
      ],
      "text/plain": [
       "<atoti.directquery.external_table.ExternalTable at 0x12586c950>"
      ]
     },
     "execution_count": 8,
     "metadata": {
      "application/json": {
       "expanded": true,
       "root": "SALES"
      }
     },
     "output_type": "execute_result"
    }
   ],
   "source": [
    "external_database.tables[\"SALES\"]"
   ]
  },
  {
   "cell_type": "markdown",
   "id": "1d9ef3fb-85a5-472b-aa12-8a88e3d1e6d9",
   "metadata": {},
   "source": [
    "However, to be precise, it is a good practice to refer to the table using its database, schema and table names. Uncomment and execute the following cells as to try this out."
   ]
  },
  {
   "cell_type": "code",
   "execution_count": 9,
   "id": "247c876c-2b44-4b0f-8bcf-8864350bb3d6",
   "metadata": {
    "tags": []
   },
   "outputs": [],
   "source": [
    "# db_name = \"<database name here>\"\n",
    "# db_schema = \"tutorial\"\n",
    "# table_sales = \"SALES\""
   ]
  },
  {
   "cell_type": "code",
   "execution_count": 10,
   "id": "fbfde589-b458-474d-8665-af7b016598bc",
   "metadata": {
    "tags": []
   },
   "outputs": [],
   "source": [
    "# external_database.tables[db_name, db_schema, table_sales]"
   ]
  },
  {
   "cell_type": "markdown",
   "id": "85d14ebe-eb8a-4216-8564-8330b4b7b0d9",
   "metadata": {},
   "source": [
    "## Add External Table to Atoti"
   ]
  },
  {
   "cell_type": "markdown",
   "id": "8fa1b581-ee16-4730-8ea2-b29fa14ee03a",
   "metadata": {},
   "source": [
    "Since we have connected to the external database and we are able to see its structure, we can add the required tables to the Atoti session.  \n",
    "\n",
    "Using [BigqueryTableOptions](https://docs.atoti.io/latest/api/atoti_directquery_bigquery.BigqueryTableOptions.html#atoti_directquery_bigquery.BigqueryTableOptions), we can define additional options to the table that we will create in Atoti:\n",
    "\n",
    "- `array_conversion`: Converting values spread over multiple columns into array columns.\n",
    "- `clustering_columns`: Columns used for splitting up queries.\n",
    "- `keys`: Keys used to identify unique rows for updating of data.\n",
    "\n",
    "We will only use `keys` and `clustering_columns` in our example."
   ]
  },
  {
   "cell_type": "code",
   "execution_count": 11,
   "id": "7dab34b4-ca6f-4c80-8ba9-f8534f9eae5b",
   "metadata": {
    "tags": []
   },
   "outputs": [],
   "source": [
    "from atoti_directquery_bigquery import TableConfig"
   ]
  },
  {
   "cell_type": "markdown",
   "id": "790b7a07-c762-438a-878e-de3611f39b5c",
   "metadata": {},
   "source": [
    "Similar to how we create keys for Atoti tables, we set the key columns in the `BigqueryTableOptions`. Note that this external table is created in Atoti and the defined keys affects only the data that is accessible in Atoti. It does not change the tables in BigQuery.  \n",
    "\n",
    "To distinguish our Atoti external table from the BigQuery table, we named them differently in our example.  "
   ]
  },
  {
   "cell_type": "code",
   "execution_count": 12,
   "id": "a580d644-94e0-4772-ac94-a9600bc08546",
   "metadata": {
    "tags": []
   },
   "outputs": [],
   "source": [
    "sales_table = session.add_external_table(\n",
    "    external_database.tables[\"SALES\"],\n",
    "    table_name=\"Atoti Sales\",\n",
    "    config=TableConfig(keys=[\"SALE_ID\"], clustering_columns={\"DATE\", \"PRODUCT\"}),\n",
    ")"
   ]
  },
  {
   "cell_type": "markdown",
   "id": "ac9b4de4-60f9-45d9-8b87-e7d0452714ee",
   "metadata": {},
   "source": [
    "To speed up querying, Atoti makes use of [aggregate providers](https://docs.atoti.io/latest/api/atoti.AggregateProvider.html#atoti.AggregateProvider) to pre-aggregates some table columns up to certain levels. Feeding such providers from an external database can result in very large queries to be run on the database. Some databases can have trouble processing such large queries. Therefore, we define [clustering columns](https://docs.activeviam.com/products/atoti/server/latest/docs/directquery/directquery-clustering-fields/) to help split up queries made by DirectQuery to these external database when feeding the aggregate providers.  \n",
    "\n",
    "The `clustering_columns` parameter allows us to define columns to be used for clustering. While our example uses a small dataset and clustering column is not necessary, we demonstrate how it can be used in the snippet above.  "
   ]
  },
  {
   "cell_type": "code",
   "execution_count": 13,
   "id": "561e7c19-28cc-4796-918b-24de800147a7",
   "metadata": {
    "tags": []
   },
   "outputs": [
    {
     "data": {
      "text/html": [
       "<div>\n",
       "<style scoped>\n",
       "    .dataframe tbody tr th:only-of-type {\n",
       "        vertical-align: middle;\n",
       "    }\n",
       "\n",
       "    .dataframe tbody tr th {\n",
       "        vertical-align: top;\n",
       "    }\n",
       "\n",
       "    .dataframe thead th {\n",
       "        text-align: right;\n",
       "    }\n",
       "</style>\n",
       "<table border=\"1\" class=\"dataframe\">\n",
       "  <thead>\n",
       "    <tr style=\"text-align: right;\">\n",
       "      <th></th>\n",
       "      <th>DATE</th>\n",
       "      <th>SHOP</th>\n",
       "      <th>PRODUCT</th>\n",
       "      <th>QUANTITY</th>\n",
       "      <th>UNIT_PRICE</th>\n",
       "    </tr>\n",
       "    <tr>\n",
       "      <th>SALE_ID</th>\n",
       "      <th></th>\n",
       "      <th></th>\n",
       "      <th></th>\n",
       "      <th></th>\n",
       "      <th></th>\n",
       "    </tr>\n",
       "  </thead>\n",
       "  <tbody>\n",
       "    <tr>\n",
       "      <th>S0010</th>\n",
       "      <td>2022-01-31</td>\n",
       "      <td>shop_2</td>\n",
       "      <td>BED_2</td>\n",
       "      <td>3</td>\n",
       "      <td>150.0</td>\n",
       "    </tr>\n",
       "    <tr>\n",
       "      <th>S0007</th>\n",
       "      <td>2022-02-01</td>\n",
       "      <td>shop_5</td>\n",
       "      <td>BED_2</td>\n",
       "      <td>1</td>\n",
       "      <td>150.0</td>\n",
       "    </tr>\n",
       "    <tr>\n",
       "      <th>S0008</th>\n",
       "      <td>2022-01-31</td>\n",
       "      <td>shop_4</td>\n",
       "      <td>BED_2</td>\n",
       "      <td>1</td>\n",
       "      <td>150.0</td>\n",
       "    </tr>\n",
       "    <tr>\n",
       "      <th>S0009</th>\n",
       "      <td>2022-01-31</td>\n",
       "      <td>shop_3</td>\n",
       "      <td>BED_2</td>\n",
       "      <td>1</td>\n",
       "      <td>150.0</td>\n",
       "    </tr>\n",
       "    <tr>\n",
       "      <th>S0019</th>\n",
       "      <td>2022-02-02</td>\n",
       "      <td>shop_3</td>\n",
       "      <td>HOO_5</td>\n",
       "      <td>1</td>\n",
       "      <td>48.0</td>\n",
       "    </tr>\n",
       "  </tbody>\n",
       "</table>\n",
       "</div>"
      ],
      "text/plain": [
       "              DATE    SHOP PRODUCT  QUANTITY  UNIT_PRICE\n",
       "SALE_ID                                                 \n",
       "S0010   2022-01-31  shop_2   BED_2         3       150.0\n",
       "S0007   2022-02-01  shop_5   BED_2         1       150.0\n",
       "S0008   2022-01-31  shop_4   BED_2         1       150.0\n",
       "S0009   2022-01-31  shop_3   BED_2         1       150.0\n",
       "S0019   2022-02-02  shop_3   HOO_5         1        48.0"
      ]
     },
     "execution_count": 13,
     "metadata": {},
     "output_type": "execute_result"
    }
   ],
   "source": [
    "sales_table.head()"
   ]
  },
  {
   "cell_type": "markdown",
   "id": "dc44214e-743e-4937-9269-61498986355b",
   "metadata": {},
   "source": [
    "We can add multiple tables."
   ]
  },
  {
   "cell_type": "code",
   "execution_count": 14,
   "id": "f282f67a-dfa9-4ba1-aef7-779ec734fe50",
   "metadata": {
    "tags": []
   },
   "outputs": [
    {
     "data": {
      "text/html": [
       "<div>\n",
       "<style scoped>\n",
       "    .dataframe tbody tr th:only-of-type {\n",
       "        vertical-align: middle;\n",
       "    }\n",
       "\n",
       "    .dataframe tbody tr th {\n",
       "        vertical-align: top;\n",
       "    }\n",
       "\n",
       "    .dataframe thead th {\n",
       "        text-align: right;\n",
       "    }\n",
       "</style>\n",
       "<table border=\"1\" class=\"dataframe\">\n",
       "  <thead>\n",
       "    <tr style=\"text-align: right;\">\n",
       "      <th></th>\n",
       "      <th>CATEGORY</th>\n",
       "      <th>SUB_CATEGORY</th>\n",
       "      <th>SIZE</th>\n",
       "      <th>PURCHASE_PRICE</th>\n",
       "      <th>COLOR</th>\n",
       "      <th>BRAND</th>\n",
       "    </tr>\n",
       "    <tr>\n",
       "      <th>PRODUCT_ID</th>\n",
       "      <th></th>\n",
       "      <th></th>\n",
       "      <th></th>\n",
       "      <th></th>\n",
       "      <th></th>\n",
       "      <th></th>\n",
       "    </tr>\n",
       "  </thead>\n",
       "  <tbody>\n",
       "    <tr>\n",
       "      <th>BED_2</th>\n",
       "      <td>Furniture</td>\n",
       "      <td>Bed</td>\n",
       "      <td>Single</td>\n",
       "      <td>127.0</td>\n",
       "      <td>red</td>\n",
       "      <td>Mega</td>\n",
       "    </tr>\n",
       "    <tr>\n",
       "      <th>TAB_1</th>\n",
       "      <td>Furniture</td>\n",
       "      <td>Table</td>\n",
       "      <td>2m40</td>\n",
       "      <td>280.0</td>\n",
       "      <td>white</td>\n",
       "      <td>Mega</td>\n",
       "    </tr>\n",
       "    <tr>\n",
       "      <th>TAB_0</th>\n",
       "      <td>Furniture</td>\n",
       "      <td>Table</td>\n",
       "      <td>1m80</td>\n",
       "      <td>190.0</td>\n",
       "      <td>black</td>\n",
       "      <td>Basic</td>\n",
       "    </tr>\n",
       "    <tr>\n",
       "      <th>HOO_5</th>\n",
       "      <td>Cloth</td>\n",
       "      <td>Hoodie</td>\n",
       "      <td>M</td>\n",
       "      <td>38.0</td>\n",
       "      <td>red</td>\n",
       "      <td>Mega</td>\n",
       "    </tr>\n",
       "    <tr>\n",
       "      <th>TSH_3</th>\n",
       "      <td>Cloth</td>\n",
       "      <td>Tshirt</td>\n",
       "      <td>M</td>\n",
       "      <td>19.0</td>\n",
       "      <td>brown</td>\n",
       "      <td>Over</td>\n",
       "    </tr>\n",
       "  </tbody>\n",
       "</table>\n",
       "</div>"
      ],
      "text/plain": [
       "             CATEGORY SUB_CATEGORY    SIZE  PURCHASE_PRICE  COLOR  BRAND\n",
       "PRODUCT_ID                                                              \n",
       "BED_2       Furniture          Bed  Single           127.0    red   Mega\n",
       "TAB_1       Furniture        Table    2m40           280.0  white   Mega\n",
       "TAB_0       Furniture        Table    1m80           190.0  black  Basic\n",
       "HOO_5           Cloth       Hoodie       M            38.0    red   Mega\n",
       "TSH_3           Cloth       Tshirt       M            19.0  brown   Over"
      ]
     },
     "execution_count": 14,
     "metadata": {},
     "output_type": "execute_result"
    }
   ],
   "source": [
    "products_table = session.add_external_table(\n",
    "    external_database.tables[\"PRODUCTS\"],\n",
    "    table_name=\"Atoti Product\",\n",
    "    config=TableConfig(keys=[\"PRODUCT_ID\"]),\n",
    ")\n",
    "\n",
    "products_table.head()"
   ]
  },
  {
   "cell_type": "markdown",
   "id": "57349699-117a-4cf9-bb95-5910f18d5187",
   "metadata": {},
   "source": [
    "Once we have created our external tables, the rest is _simply the usual stuff for Atoti_."
   ]
  },
  {
   "cell_type": "markdown",
   "id": "564a8bad-9c60-4c7a-b94e-918b5112cfdb",
   "metadata": {
    "tags": []
   },
   "source": [
    "## Atoti Cube Setup"
   ]
  },
  {
   "cell_type": "markdown",
   "id": "2f24568b-71da-4341-a716-f8abdbdce17d",
   "metadata": {
    "tags": []
   },
   "source": [
    "From this section onwards, the coding remains the same regardless of the underlying data source.  \n",
    "\n",
    "As we have always done, we join the tables and create the cube."
   ]
  },
  {
   "cell_type": "code",
   "execution_count": 15,
   "id": "93f6c667-27b6-4e2e-9685-ef275235622c",
   "metadata": {
    "tags": []
   },
   "outputs": [
    {
     "data": {
      "image/png": "[encoded data removed]",
      "text/plain": [
       "erDiagram\n",
       "  \"Atoti Sales\" {\n",
       "    _ String PK \"SALE_ID\"\n",
       "    _ LocalDate \"DATE\"\n",
       "    _ String \"SHOP\"\n",
       "    _ String \"PRODUCT\"\n",
       "    _ long \"QUANTITY\"\n",
       "    _ double \"UNIT_PRICE\"\n",
       "  }\n",
       "  \"Atoti Product\" {\n",
       "    _ String PK \"PRODUCT_ID\"\n",
       "    _ String \"CATEGORY\"\n",
       "    _ String \"SUB_CATEGORY\"\n",
       "    _ String \"SIZE\"\n",
       "    _ double \"PURCHASE_PRICE\"\n",
       "    _ String \"COLOR\"\n",
       "    _ String \"BRAND\"\n",
       "  }\n",
       "  \"Atoti Sales\" }o--o| \"Atoti Product\" : \"`PRODUCT` == `PRODUCT_ID`\""
      ]
     },
     "execution_count": 15,
     "metadata": {},
     "output_type": "execute_result"
    }
   ],
   "source": [
    "sales_table.join(products_table, sales_table[\"PRODUCT\"] == products_table[\"PRODUCT_ID\"])\n",
    "cube = session.create_cube(sales_table)\n",
    "session.tables.schema"
   ]
  },
  {
   "cell_type": "code",
   "execution_count": 16,
   "id": "4ee29cb6-1f57-43f2-b6e7-ad2e72d8abd4",
   "metadata": {
    "atoti": {
     "widget": {
      "mapping": {
       "columns": [
        "ALL_MEASURES"
       ],
       "measures": [
        "[Measures].[QUANTITY.SUM]"
       ],
       "rows": [
        "[Atoti Sales].[DATE].[DATE]",
        "[Atoti Sales].[SHOP].[SHOP] => [Atoti Product].[BRAND].[BRAND]"
       ]
      },
      "name": "Quantity sold across dates by shops",
      "query": {
       "mdx": "SELECT NON EMPTY {[Measures].[QUANTITY.SUM]} ON COLUMNS, NON EMPTY Hierarchize(Union(Crossjoin(Hierarchize(Descendants({[Atoti Sales].[DATE].[AllMember]}, 1, SELF_AND_BEFORE)), Hierarchize(Descendants({[Atoti Sales].[SHOP].[AllMember]}, 1, SELF_AND_BEFORE)), [Atoti Product].[BRAND].DefaultMember), Crossjoin([Atoti Sales].[DATE].[AllMember].[2022-01-31], [Atoti Sales].[SHOP].[AllMember].[shop_2], Hierarchize(Descendants({[Atoti Product].[BRAND].[AllMember]}, 1, SELF_AND_BEFORE))))) ON ROWS FROM [Atoti Sales] CELL PROPERTIES VALUE, FORMATTED_VALUE, BACK_COLOR, FORE_COLOR, FONT_FLAGS",
       "updateMode": "once"
      },
      "serverKey": "default",
      "widgetKey": "pivot-table"
     }
    },
    "tags": []
   },
   "outputs": [
    {
     "data": {
      "application/vnd.atoti.widget.v0+json": {
       "sessionId": "1743705576_652319",
       "sessionUrl": "http://localhost:56962",
       "widgetCreationCode": "session.widget"
      },
      "text/html": [
       "<img height=\"352\" width=\"1204\" src=\"data:image/png;base64,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\" />"
      ],
      "text/plain": [
       "Open the notebook in JupyterLab with the Atoti JupyterLab extension enabled to build this widget."
      ]
     },
     "metadata": {},
     "output_type": "display_data"
    }
   ],
   "source": [
    "session.widget"
   ]
  },
  {
   "cell_type": "markdown",
   "id": "623a5cce-fee4-489b-9250-c5dd542fb708",
   "metadata": {},
   "source": [
    "### Cube manipulation"
   ]
  },
  {
   "cell_type": "markdown",
   "id": "ad616201-0cc7-4012-8e54-66a99c9c1a23",
   "metadata": {},
   "source": [
    "We perform hierarchy manipulation, level ordering and measure creations the same way we always do in Atoti."
   ]
  },
  {
   "cell_type": "code",
   "execution_count": 17,
   "id": "27bebe22-10e5-4b67-9c18-4bb478fef70b",
   "metadata": {
    "tags": []
   },
   "outputs": [],
   "source": [
    "h, l, m = cube.hierarchies, cube.levels, cube.measures"
   ]
  },
  {
   "cell_type": "code",
   "execution_count": 18,
   "id": "fe4aea14-fc25-4a2d-9401-0ce01df385e4",
   "metadata": {
    "tags": []
   },
   "outputs": [],
   "source": [
    "h[\"CATEGORY\"] = [l[\"CATEGORY\"], l[\"SUB_CATEGORY\"]]\n",
    "del h[\"SUB_CATEGORY\"]"
   ]
  },
  {
   "cell_type": "code",
   "execution_count": 19,
   "id": "efc5d476-6465-4ccf-93d3-9f5dfe19df3c",
   "metadata": {
    "tags": []
   },
   "outputs": [
    {
     "data": {
      "application/json": {
       "Atoti Product": {
        "BRAND": [
         "BRAND"
        ],
        "CATEGORY": [
         "CATEGORY",
         "SUB_CATEGORY"
        ],
        "COLOR": [
         "COLOR"
        ],
        "SIZE": [
         "SIZE"
        ]
       },
       "Atoti Sales": {
        "DATE": [
         "DATE"
        ],
        "PRODUCT": [
         "PRODUCT"
        ],
        "SALE_ID": [
         "SALE_ID"
        ],
        "SHOP": [
         "SHOP"
        ]
       }
      },
      "text/html": [
       "<ul>\n",
       "<li>Dimensions\n",
       "  <ul>\n",
       "  <li>Atoti Product\n",
       "    <ul>\n",
       "    <li>BRAND\n",
       "      <ol>\n",
       "      <li>BRAND</li>\n",
       "      </ol>    </li>\n",
       "    <li>CATEGORY\n",
       "      <ol>\n",
       "      <li>CATEGORY</li>\n",
       "      <li>SUB_CATEGORY</li>\n",
       "      </ol>    </li>\n",
       "    <li>COLOR\n",
       "      <ol>\n",
       "      <li>COLOR</li>\n",
       "      </ol>    </li>\n",
       "    <li>SIZE\n",
       "      <ol>\n",
       "      <li>SIZE</li>\n",
       "      </ol>    </li>\n",
       "    </ul>\n",
       "  </li>\n",
       "  <li>Atoti Sales\n",
       "    <ul>\n",
       "    <li>DATE\n",
       "      <ol>\n",
       "      <li>DATE</li>\n",
       "      </ol>    </li>\n",
       "    <li>PRODUCT\n",
       "      <ol>\n",
       "      <li>PRODUCT</li>\n",
       "      </ol>    </li>\n",
       "    <li>SALE_ID\n",
       "      <ol>\n",
       "      <li>SALE_ID</li>\n",
       "      </ol>    </li>\n",
       "    <li>SHOP\n",
       "      <ol>\n",
       "      <li>SHOP</li>\n",
       "      </ol>    </li>\n",
       "    </ul>\n",
       "  </li>\n",
       "  </ul>\n",
       "</li>\n",
       "</ul>\n"
      ],
      "text/plain": [
       "{('Atoti Product', 'SIZE'): <atoti.hierarchy.Hierarchy object at 0x121cb55d0>, ('Atoti Product', 'BRAND'): <atoti.hierarchy.Hierarchy object at 0x1217cc390>, ('Atoti Product', 'COLOR'): <atoti.hierarchy.Hierarchy object at 0x121d0b490>, ('Atoti Product', 'CATEGORY'): <atoti.hierarchy.Hierarchy object at 0x12587f610>, ('Atoti Sales', 'SALE_ID'): <atoti.hierarchy.Hierarchy object at 0x12588d810>, ('Atoti Sales', 'DATE'): <atoti.hierarchy.Hierarchy object at 0x12588f110>, ('Atoti Sales', 'SHOP'): <atoti.hierarchy.Hierarchy object at 0x12588c310>, ('Atoti Sales', 'PRODUCT'): <atoti.hierarchy.Hierarchy object at 0x12588ee10>}"
      ]
     },
     "execution_count": 19,
     "metadata": {
      "application/json": {
       "expanded": true,
       "root": "Dimensions"
      }
     },
     "output_type": "execute_result"
    }
   ],
   "source": [
    "h"
   ]
  },
  {
   "cell_type": "code",
   "execution_count": 20,
   "id": "fe924c60-0c9d-431f-ac72-297db49d8abc",
   "metadata": {
    "tags": []
   },
   "outputs": [],
   "source": [
    "l[\"DATE\"].order = tt.NaturalOrder(ascending=False)"
   ]
  },
  {
   "cell_type": "code",
   "execution_count": 21,
   "id": "343686bd-182e-4de1-b681-8bc6c04b791d",
   "metadata": {
    "tags": []
   },
   "outputs": [],
   "source": [
    "m[\"PURCHASE_PRICE.SUM\"] = tt.agg.sum(products_table[\"PURCHASE_PRICE\"])\n",
    "m[\"PROFIT\"] = tt.agg.sum_product(\n",
    "    m[\"UNIT_PRICE.SUM\"] - m[\"PURCHASE_PRICE.SUM\"],\n",
    "    m[\"QUANTITY.SUM\"],\n",
    "    scope=tt.OriginScope(levels={l[\"SALE_ID\"], l[\"PRODUCT\"]}),\n",
    ")"
   ]
  },
  {
   "cell_type": "markdown",
   "id": "595db925-bf0b-4828-87fb-ff26c717d905",
   "metadata": {},
   "source": [
    "Since we have a join from `sales_table` to `products_table` using the column values of `sales_table.PRODUCT` and `products_table.PRODUCT_ID`, the resultant level is the name of the column from the _from_ table. Therefore, we have the level `PRODUCT` but not `PRODUCT_ID` for our scope in the code snippet above."
   ]
  },
  {
   "cell_type": "code",
   "execution_count": 22,
   "id": "a5dd754e-6d52-43b0-9a18-e7aa7fd42e0b",
   "metadata": {
    "atoti": {
     "widget": {
      "mapping": {
       "columns": [
        "ALL_MEASURES"
       ],
       "measures": [
        "[Measures].[UNIT_PRICE.SUM]",
        "[Measures].[PURCHASE_PRICE.SUM]",
        "[Measures].[QUANTITY.SUM]",
        "[Measures].[PROFIT]"
       ],
       "rows": [
        "[Atoti Sales].[DATE].[DATE]",
        "[Atoti Product].[CATEGORY].[CATEGORY] => [Atoti Product].[CATEGORY].[SUB_CATEGORY]"
       ]
      },
      "name": "Profit by Product Categories across dates",
      "query": {
       "mdx": "SELECT NON EMPTY Hierarchize(Union(Crossjoin(Hierarchize(Descendants({[Atoti Sales].[DATE].[AllMember]}, 1, SELF_AND_BEFORE)), Hierarchize(Descendants({[Atoti Product].[CATEGORY].[AllMember]}, 1, SELF_AND_BEFORE))), Crossjoin([Atoti Sales].[DATE].[AllMember].[2022-02-03], Descendants({[Atoti Product].[CATEGORY].[AllMember].[Cloth]}, [Atoti Product].[CATEGORY].[SUB_CATEGORY])))) ON ROWS, NON EMPTY {[Measures].[UNIT_PRICE.SUM], [Measures].[PURCHASE_PRICE.SUM], [Measures].[QUANTITY.SUM], [Measures].[PROFIT]} ON COLUMNS FROM [Atoti Sales] CELL PROPERTIES VALUE, FORMATTED_VALUE, BACK_COLOR, FORE_COLOR, FONT_FLAGS",
       "updateMode": "once"
      },
      "serverKey": "default",
      "widgetKey": "pivot-table"
     }
    },
    "tags": []
   },
   "outputs": [
    {
     "data": {
      "application/vnd.atoti.widget.v0+json": {
       "sessionId": "1743705576_652319",
       "sessionUrl": "http://localhost:56962",
       "widgetCreationCode": "session.widget"
      },
      "text/html": [
       "<img height=\"352\" width=\"1204\" src=\"data:image/png;base64,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\" />"
      ],
      "text/plain": [
       "Open the notebook in JupyterLab with the Atoti JupyterLab extension enabled to build this widget."
      ]
     },
     "metadata": {},
     "output_type": "display_data"
    }
   ],
   "source": [
    "session.widget"
   ]
  },
  {
   "cell_type": "markdown",
   "id": "08ceaeb7-d0ed-42b5-899e-f4fb4fdcf1ae",
   "metadata": {},
   "source": [
    "## Cost and performance saving with Aggregate Provider"
   ]
  },
  {
   "cell_type": "markdown",
   "id": "b00d6de1-5324-43b0-acb0-c682977c2cf0",
   "metadata": {},
   "source": [
    "Let's take a quick look at our query performance in the current setup."
   ]
  },
  {
   "cell_type": "code",
   "execution_count": 23,
   "id": "37320670-66e8-40c1-9402-26775ed5817c",
   "metadata": {},
   "outputs": [
    {
     "name": "stdout",
     "output_type": "stream",
     "text": [
      "CPU times: user 31 ms, sys: 5.78 ms, total: 36.7 ms\n",
      "Wall time: 2.06 s\n"
     ]
    },
    {
     "data": {
      "application/vnd.atoti.convert-mdx-query-result-to-widget.v0+json": {
       "mdx": "SELECT {[Measures].[QUANTITY.SUM], [Measures].[PROFIT]} ON COLUMNS, NON EMPTY Crossjoin(Hierarchize(Descendants({[Atoti Sales].[DATE].[ALL].[AllMember]}, 1, SELF_AND_BEFORE)), Hierarchize(Descendants({[Atoti Sales].[PRODUCT].[ALL].[AllMember]}, 1, SELF_AND_BEFORE)), Hierarchize(Descendants({[Atoti Sales].[SALE_ID].[ALL].[AllMember]}, 1, SELF_AND_BEFORE))) ON ROWS FROM [Atoti Sales]",
       "sessionId": "1743705576_652319",
       "widgetCreationCode": "session.widget"
      },
      "text/html": [
       "<div>\n",
       "<style scoped>\n",
       "    .dataframe tbody tr th:only-of-type {\n",
       "        vertical-align: middle;\n",
       "    }\n",
       "\n",
       "    .dataframe tbody tr th {\n",
       "        vertical-align: top;\n",
       "    }\n",
       "\n",
       "    .dataframe thead th {\n",
       "        text-align: right;\n",
       "    }\n",
       "</style>\n",
       "<table border=\"1\" class=\"dataframe\">\n",
       "  <thead>\n",
       "    <tr style=\"text-align: right;\">\n",
       "      <th></th>\n",
       "      <th></th>\n",
       "      <th></th>\n",
       "      <th>QUANTITY.SUM</th>\n",
       "      <th>PROFIT</th>\n",
       "    </tr>\n",
       "    <tr>\n",
       "      <th>DATE</th>\n",
       "      <th>PRODUCT</th>\n",
       "      <th>SALE_ID</th>\n",
       "      <th></th>\n",
       "      <th></th>\n",
       "    </tr>\n",
       "  </thead>\n",
       "  <tbody>\n",
       "    <tr>\n",
       "      <th rowspan=\"2\" valign=\"top\">2022-02-04</th>\n",
       "      <th>HOO_5</th>\n",
       "      <th>S0017</th>\n",
       "      <td>1</td>\n",
       "      <td>10.00</td>\n",
       "    </tr>\n",
       "    <tr>\n",
       "      <th>TAB_0</th>\n",
       "      <th>S0000</th>\n",
       "      <td>1</td>\n",
       "      <td>20.00</td>\n",
       "    </tr>\n",
       "    <tr>\n",
       "      <th rowspan=\"4\" valign=\"top\">2022-02-03</th>\n",
       "      <th>HOO_5</th>\n",
       "      <th>S0018</th>\n",
       "      <td>1</td>\n",
       "      <td>10.00</td>\n",
       "    </tr>\n",
       "    <tr>\n",
       "      <th>TAB_0</th>\n",
       "      <th>S0001</th>\n",
       "      <td>1</td>\n",
       "      <td>20.00</td>\n",
       "    </tr>\n",
       "    <tr>\n",
       "      <th>TAB_1</th>\n",
       "      <th>S0004</th>\n",
       "      <td>1</td>\n",
       "      <td>20.00</td>\n",
       "    </tr>\n",
       "    <tr>\n",
       "      <th>TSH_3</th>\n",
       "      <th>S0011</th>\n",
       "      <td>1</td>\n",
       "      <td>3.00</td>\n",
       "    </tr>\n",
       "    <tr>\n",
       "      <th rowspan=\"5\" valign=\"top\">2022-02-02</th>\n",
       "      <th>HOO_5</th>\n",
       "      <th>S0019</th>\n",
       "      <td>1</td>\n",
       "      <td>10.00</td>\n",
       "    </tr>\n",
       "    <tr>\n",
       "      <th>TAB_0</th>\n",
       "      <th>S0002</th>\n",
       "      <td>1</td>\n",
       "      <td>20.00</td>\n",
       "    </tr>\n",
       "    <tr>\n",
       "      <th>TAB_1</th>\n",
       "      <th>S0005</th>\n",
       "      <td>1</td>\n",
       "      <td>20.00</td>\n",
       "    </tr>\n",
       "    <tr>\n",
       "      <th>TSH_3</th>\n",
       "      <th>S0012</th>\n",
       "      <td>1</td>\n",
       "      <td>3.00</td>\n",
       "    </tr>\n",
       "    <tr>\n",
       "      <th>TSH_4</th>\n",
       "      <th>S0014</th>\n",
       "      <td>1</td>\n",
       "      <td>4.00</td>\n",
       "    </tr>\n",
       "    <tr>\n",
       "      <th rowspan=\"5\" valign=\"top\">2022-02-01</th>\n",
       "      <th>BED_2</th>\n",
       "      <th>S0007</th>\n",
       "      <td>1</td>\n",
       "      <td>23.00</td>\n",
       "    </tr>\n",
       "    <tr>\n",
       "      <th>TAB_0</th>\n",
       "      <th>S0003</th>\n",
       "      <td>1</td>\n",
       "      <td>20.00</td>\n",
       "    </tr>\n",
       "    <tr>\n",
       "      <th>TAB_1</th>\n",
       "      <th>S0006</th>\n",
       "      <td>2</td>\n",
       "      <td>40.00</td>\n",
       "    </tr>\n",
       "    <tr>\n",
       "      <th>TSH_3</th>\n",
       "      <th>S0013</th>\n",
       "      <td>1</td>\n",
       "      <td>3.00</td>\n",
       "    </tr>\n",
       "    <tr>\n",
       "      <th>TSH_4</th>\n",
       "      <th>S0015</th>\n",
       "      <td>2</td>\n",
       "      <td>8.00</td>\n",
       "    </tr>\n",
       "    <tr>\n",
       "      <th rowspan=\"4\" valign=\"top\">2022-01-31</th>\n",
       "      <th rowspan=\"3\" valign=\"top\">BED_2</th>\n",
       "      <th>S0008</th>\n",
       "      <td>1</td>\n",
       "      <td>23.00</td>\n",
       "    </tr>\n",
       "    <tr>\n",
       "      <th>S0009</th>\n",
       "      <td>1</td>\n",
       "      <td>23.00</td>\n",
       "    </tr>\n",
       "    <tr>\n",
       "      <th>S0010</th>\n",
       "      <td>3</td>\n",
       "      <td>69.00</td>\n",
       "    </tr>\n",
       "    <tr>\n",
       "      <th>TSH_4</th>\n",
       "      <th>S0016</th>\n",
       "      <td>2</td>\n",
       "      <td>8.00</td>\n",
       "    </tr>\n",
       "  </tbody>\n",
       "</table>\n",
       "</div>"
      ],
      "text/plain": [
       "                           QUANTITY.SUM PROFIT\n",
       "DATE       PRODUCT SALE_ID                    \n",
       "2022-02-04 HOO_5   S0017              1  10.00\n",
       "           TAB_0   S0000              1  20.00\n",
       "2022-02-03 HOO_5   S0018              1  10.00\n",
       "           TAB_0   S0001              1  20.00\n",
       "           TAB_1   S0004              1  20.00\n",
       "           TSH_3   S0011              1   3.00\n",
       "2022-02-02 HOO_5   S0019              1  10.00\n",
       "           TAB_0   S0002              1  20.00\n",
       "           TAB_1   S0005              1  20.00\n",
       "           TSH_3   S0012              1   3.00\n",
       "           TSH_4   S0014              1   4.00\n",
       "2022-02-01 BED_2   S0007              1  23.00\n",
       "           TAB_0   S0003              1  20.00\n",
       "           TAB_1   S0006              2  40.00\n",
       "           TSH_3   S0013              1   3.00\n",
       "           TSH_4   S0015              2   8.00\n",
       "2022-01-31 BED_2   S0008              1  23.00\n",
       "                   S0009              1  23.00\n",
       "                   S0010              3  69.00\n",
       "           TSH_4   S0016              2   8.00"
      ]
     },
     "execution_count": 23,
     "metadata": {},
     "output_type": "execute_result"
    }
   ],
   "source": [
    "%%time\n",
    "\n",
    "cube.query(\n",
    "    m[\"QUANTITY.SUM\"], m[\"PROFIT\"], levels=[l[\"DATE\"], l[\"PRODUCT\"], l[\"SALE_ID\"]]\n",
    ")"
   ]
  },
  {
   "cell_type": "code",
   "execution_count": 24,
   "id": "41a42190-2831-458d-9679-aa942dae9de0",
   "metadata": {},
   "outputs": [
    {
     "name": "stdout",
     "output_type": "stream",
     "text": [
      "CPU times: user 11.2 ms, sys: 2.95 ms, total: 14.2 ms\n",
      "Wall time: 2.4 s\n"
     ]
    },
    {
     "data": {
      "application/vnd.atoti.convert-mdx-query-result-to-widget.v0+json": {
       "mdx": "SELECT {[Measures].[PROFIT]} ON COLUMNS, NON EMPTY Crossjoin(Hierarchize(Descendants({[Atoti Sales].[DATE].[ALL].[AllMember]}, 1, SELF_AND_BEFORE)), Hierarchize(Descendants({[Atoti Product].[CATEGORY].[ALL].[AllMember]}, 2, SELF_AND_BEFORE))) DIMENSION PROPERTIES CHILDREN_CARDINALITY ON ROWS FROM [Atoti Sales]",
       "sessionId": "1743705576_652319",
       "widgetCreationCode": "session.widget"
      },
      "text/html": [
       "<div>\n",
       "<style scoped>\n",
       "    .dataframe tbody tr th:only-of-type {\n",
       "        vertical-align: middle;\n",
       "    }\n",
       "\n",
       "    .dataframe tbody tr th {\n",
       "        vertical-align: top;\n",
       "    }\n",
       "\n",
       "    .dataframe thead th {\n",
       "        text-align: right;\n",
       "    }\n",
       "</style>\n",
       "<table border=\"1\" class=\"dataframe\">\n",
       "  <thead>\n",
       "    <tr style=\"text-align: right;\">\n",
       "      <th></th>\n",
       "      <th></th>\n",
       "      <th></th>\n",
       "      <th>PROFIT</th>\n",
       "    </tr>\n",
       "    <tr>\n",
       "      <th>DATE</th>\n",
       "      <th>CATEGORY</th>\n",
       "      <th>SUB_CATEGORY</th>\n",
       "      <th></th>\n",
       "    </tr>\n",
       "  </thead>\n",
       "  <tbody>\n",
       "    <tr>\n",
       "      <th rowspan=\"2\" valign=\"top\">2022-02-04</th>\n",
       "      <th>Cloth</th>\n",
       "      <th>Hoodie</th>\n",
       "      <td>10.00</td>\n",
       "    </tr>\n",
       "    <tr>\n",
       "      <th>Furniture</th>\n",
       "      <th>Table</th>\n",
       "      <td>20.00</td>\n",
       "    </tr>\n",
       "    <tr>\n",
       "      <th rowspan=\"3\" valign=\"top\">2022-02-03</th>\n",
       "      <th rowspan=\"2\" valign=\"top\">Cloth</th>\n",
       "      <th>Hoodie</th>\n",
       "      <td>10.00</td>\n",
       "    </tr>\n",
       "    <tr>\n",
       "      <th>Tshirt</th>\n",
       "      <td>3.00</td>\n",
       "    </tr>\n",
       "    <tr>\n",
       "      <th>Furniture</th>\n",
       "      <th>Table</th>\n",
       "      <td>40.00</td>\n",
       "    </tr>\n",
       "    <tr>\n",
       "      <th rowspan=\"3\" valign=\"top\">2022-02-02</th>\n",
       "      <th rowspan=\"2\" valign=\"top\">Cloth</th>\n",
       "      <th>Hoodie</th>\n",
       "      <td>10.00</td>\n",
       "    </tr>\n",
       "    <tr>\n",
       "      <th>Tshirt</th>\n",
       "      <td>7.00</td>\n",
       "    </tr>\n",
       "    <tr>\n",
       "      <th>Furniture</th>\n",
       "      <th>Table</th>\n",
       "      <td>40.00</td>\n",
       "    </tr>\n",
       "    <tr>\n",
       "      <th rowspan=\"3\" valign=\"top\">2022-02-01</th>\n",
       "      <th>Cloth</th>\n",
       "      <th>Tshirt</th>\n",
       "      <td>11.00</td>\n",
       "    </tr>\n",
       "    <tr>\n",
       "      <th rowspan=\"2\" valign=\"top\">Furniture</th>\n",
       "      <th>Bed</th>\n",
       "      <td>23.00</td>\n",
       "    </tr>\n",
       "    <tr>\n",
       "      <th>Table</th>\n",
       "      <td>60.00</td>\n",
       "    </tr>\n",
       "    <tr>\n",
       "      <th rowspan=\"2\" valign=\"top\">2022-01-31</th>\n",
       "      <th>Cloth</th>\n",
       "      <th>Tshirt</th>\n",
       "      <td>8.00</td>\n",
       "    </tr>\n",
       "    <tr>\n",
       "      <th>Furniture</th>\n",
       "      <th>Bed</th>\n",
       "      <td>115.00</td>\n",
       "    </tr>\n",
       "  </tbody>\n",
       "</table>\n",
       "</div>"
      ],
      "text/plain": [
       "                                   PROFIT\n",
       "DATE       CATEGORY  SUB_CATEGORY        \n",
       "2022-02-04 Cloth     Hoodie         10.00\n",
       "           Furniture Table          20.00\n",
       "2022-02-03 Cloth     Hoodie         10.00\n",
       "                     Tshirt          3.00\n",
       "           Furniture Table          40.00\n",
       "2022-02-02 Cloth     Hoodie         10.00\n",
       "                     Tshirt          7.00\n",
       "           Furniture Table          40.00\n",
       "2022-02-01 Cloth     Tshirt         11.00\n",
       "           Furniture Bed            23.00\n",
       "                     Table          60.00\n",
       "2022-01-31 Cloth     Tshirt          8.00\n",
       "           Furniture Bed           115.00"
      ]
     },
     "execution_count": 24,
     "metadata": {},
     "output_type": "execute_result"
    }
   ],
   "source": [
    "%%time\n",
    "\n",
    "cube.query(m[\"PROFIT\"], levels=[l[\"DATE\"], l[\"SUB_CATEGORY\"]])"
   ]
  },
  {
   "cell_type": "markdown",
   "id": "ec655a71-8eec-42ae-9dd5-3fa7bbf0f782",
   "metadata": {},
   "source": [
    "It takes approximately `3s` to return the query (YMMV)."
   ]
  },
  {
   "cell_type": "markdown",
   "id": "409bcc8e-c3e4-4592-a6ee-c54d41f97719",
   "metadata": {},
   "source": [
    "To speed up our querying, we make use of the [aggregate provider](https://docs.atoti.io/latest/api/atoti.AggregateProvider.html#atoti.AggregateProvider) to store intermediate aggregates in memory. If a step of a query uses a subset of the aggregate provider's levels and measures, the provider will speed up the query.  \n",
    "\n",
    "Since data is cached in memory, we will __not__ access BigQuery when a subset of these are queried.  "
   ]
  },
  {
   "cell_type": "code",
   "execution_count": 25,
   "id": "0f33a62c-d66d-4e3a-997d-ae325e9276ec",
   "metadata": {
    "tags": []
   },
   "outputs": [],
   "source": [
    "cube.aggregate_providers.update(\n",
    "    {\n",
    "        \"Products provider\": tt.AggregateProvider(\n",
    "            key=\"bitmap\",\n",
    "            levels=[l[\"DATE\"], l[\"PRODUCT\"], l[\"SALE_ID\"]],\n",
    "            measures=[m[\"QUANTITY.SUM\"], m[\"PURCHASE_PRICE.SUM\"], m[\"UNIT_PRICE.SUM\"]],\n",
    "            partitioning=\"hash16(PRODUCT)\",\n",
    "        )\n",
    "    }\n",
    ")"
   ]
  },
  {
   "cell_type": "markdown",
   "id": "4817dae9-0dbb-4c91-95bc-38a1320102ae",
   "metadata": {},
   "source": [
    "⚠️ **Important:** We can only use store aggregated measures supporting disaggregation can be used in aggregate provider, e.g. `tt.agg.sum` or `tt.agg.mean` on table columns.\n",
    "\n",
    "`m[\"PROFIT\"]` cannot be used because it is a chained measure resulting from the `sum_product` of a few measures.\n"
   ]
  },
  {
   "cell_type": "code",
   "execution_count": 26,
   "id": "0bc35e5d-1845-479b-873f-5a24be936f1e",
   "metadata": {
    "tags": []
   },
   "outputs": [
    {
     "name": "stdout",
     "output_type": "stream",
     "text": [
      "CPU times: user 9.97 ms, sys: 2.41 ms, total: 12.4 ms\n",
      "Wall time: 53 ms\n"
     ]
    },
    {
     "data": {
      "application/vnd.atoti.convert-mdx-query-result-to-widget.v0+json": {
       "mdx": "SELECT {[Measures].[PROFIT]} ON COLUMNS, NON EMPTY Crossjoin(Hierarchize(Descendants({[Atoti Sales].[DATE].[ALL].[AllMember]}, 1, SELF_AND_BEFORE)), Hierarchize(Descendants({[Atoti Sales].[PRODUCT].[ALL].[AllMember]}, 1, SELF_AND_BEFORE)), Hierarchize(Descendants({[Atoti Sales].[SALE_ID].[ALL].[AllMember]}, 1, SELF_AND_BEFORE))) ON ROWS FROM [Atoti Sales]",
       "sessionId": "1743705576_652319",
       "widgetCreationCode": "session.widget"
      },
      "text/html": [
       "<div>\n",
       "<style scoped>\n",
       "    .dataframe tbody tr th:only-of-type {\n",
       "        vertical-align: middle;\n",
       "    }\n",
       "\n",
       "    .dataframe tbody tr th {\n",
       "        vertical-align: top;\n",
       "    }\n",
       "\n",
       "    .dataframe thead th {\n",
       "        text-align: right;\n",
       "    }\n",
       "</style>\n",
       "<table border=\"1\" class=\"dataframe\">\n",
       "  <thead>\n",
       "    <tr style=\"text-align: right;\">\n",
       "      <th></th>\n",
       "      <th></th>\n",
       "      <th></th>\n",
       "      <th>PROFIT</th>\n",
       "    </tr>\n",
       "    <tr>\n",
       "      <th>DATE</th>\n",
       "      <th>PRODUCT</th>\n",
       "      <th>SALE_ID</th>\n",
       "      <th></th>\n",
       "    </tr>\n",
       "  </thead>\n",
       "  <tbody>\n",
       "    <tr>\n",
       "      <th rowspan=\"2\" valign=\"top\">2022-02-04</th>\n",
       "      <th>HOO_5</th>\n",
       "      <th>S0017</th>\n",
       "      <td>10.00</td>\n",
       "    </tr>\n",
       "    <tr>\n",
       "      <th>TAB_0</th>\n",
       "      <th>S0000</th>\n",
       "      <td>20.00</td>\n",
       "    </tr>\n",
       "    <tr>\n",
       "      <th rowspan=\"4\" valign=\"top\">2022-02-03</th>\n",
       "      <th>HOO_5</th>\n",
       "      <th>S0018</th>\n",
       "      <td>10.00</td>\n",
       "    </tr>\n",
       "    <tr>\n",
       "      <th>TAB_0</th>\n",
       "      <th>S0001</th>\n",
       "      <td>20.00</td>\n",
       "    </tr>\n",
       "    <tr>\n",
       "      <th>TAB_1</th>\n",
       "      <th>S0004</th>\n",
       "      <td>20.00</td>\n",
       "    </tr>\n",
       "    <tr>\n",
       "      <th>TSH_3</th>\n",
       "      <th>S0011</th>\n",
       "      <td>3.00</td>\n",
       "    </tr>\n",
       "    <tr>\n",
       "      <th rowspan=\"5\" valign=\"top\">2022-02-02</th>\n",
       "      <th>HOO_5</th>\n",
       "      <th>S0019</th>\n",
       "      <td>10.00</td>\n",
       "    </tr>\n",
       "    <tr>\n",
       "      <th>TAB_0</th>\n",
       "      <th>S0002</th>\n",
       "      <td>20.00</td>\n",
       "    </tr>\n",
       "    <tr>\n",
       "      <th>TAB_1</th>\n",
       "      <th>S0005</th>\n",
       "      <td>20.00</td>\n",
       "    </tr>\n",
       "    <tr>\n",
       "      <th>TSH_3</th>\n",
       "      <th>S0012</th>\n",
       "      <td>3.00</td>\n",
       "    </tr>\n",
       "    <tr>\n",
       "      <th>TSH_4</th>\n",
       "      <th>S0014</th>\n",
       "      <td>4.00</td>\n",
       "    </tr>\n",
       "    <tr>\n",
       "      <th rowspan=\"5\" valign=\"top\">2022-02-01</th>\n",
       "      <th>BED_2</th>\n",
       "      <th>S0007</th>\n",
       "      <td>23.00</td>\n",
       "    </tr>\n",
       "    <tr>\n",
       "      <th>TAB_0</th>\n",
       "      <th>S0003</th>\n",
       "      <td>20.00</td>\n",
       "    </tr>\n",
       "    <tr>\n",
       "      <th>TAB_1</th>\n",
       "      <th>S0006</th>\n",
       "      <td>40.00</td>\n",
       "    </tr>\n",
       "    <tr>\n",
       "      <th>TSH_3</th>\n",
       "      <th>S0013</th>\n",
       "      <td>3.00</td>\n",
       "    </tr>\n",
       "    <tr>\n",
       "      <th>TSH_4</th>\n",
       "      <th>S0015</th>\n",
       "      <td>8.00</td>\n",
       "    </tr>\n",
       "    <tr>\n",
       "      <th rowspan=\"4\" valign=\"top\">2022-01-31</th>\n",
       "      <th rowspan=\"3\" valign=\"top\">BED_2</th>\n",
       "      <th>S0008</th>\n",
       "      <td>23.00</td>\n",
       "    </tr>\n",
       "    <tr>\n",
       "      <th>S0009</th>\n",
       "      <td>23.00</td>\n",
       "    </tr>\n",
       "    <tr>\n",
       "      <th>S0010</th>\n",
       "      <td>69.00</td>\n",
       "    </tr>\n",
       "    <tr>\n",
       "      <th>TSH_4</th>\n",
       "      <th>S0016</th>\n",
       "      <td>8.00</td>\n",
       "    </tr>\n",
       "  </tbody>\n",
       "</table>\n",
       "</div>"
      ],
      "text/plain": [
       "                           PROFIT\n",
       "DATE       PRODUCT SALE_ID       \n",
       "2022-02-04 HOO_5   S0017    10.00\n",
       "           TAB_0   S0000    20.00\n",
       "2022-02-03 HOO_5   S0018    10.00\n",
       "           TAB_0   S0001    20.00\n",
       "           TAB_1   S0004    20.00\n",
       "           TSH_3   S0011     3.00\n",
       "2022-02-02 HOO_5   S0019    10.00\n",
       "           TAB_0   S0002    20.00\n",
       "           TAB_1   S0005    20.00\n",
       "           TSH_3   S0012     3.00\n",
       "           TSH_4   S0014     4.00\n",
       "2022-02-01 BED_2   S0007    23.00\n",
       "           TAB_0   S0003    20.00\n",
       "           TAB_1   S0006    40.00\n",
       "           TSH_3   S0013     3.00\n",
       "           TSH_4   S0015     8.00\n",
       "2022-01-31 BED_2   S0008    23.00\n",
       "                   S0009    23.00\n",
       "                   S0010    69.00\n",
       "           TSH_4   S0016     8.00"
      ]
     },
     "execution_count": 26,
     "metadata": {},
     "output_type": "execute_result"
    }
   ],
   "source": [
    "%%time\n",
    "\n",
    "cube.query(m[\"PROFIT\"], levels=[l[\"DATE\"], l[\"PRODUCT\"], l[\"SALE_ID\"]])"
   ]
  },
  {
   "cell_type": "markdown",
   "id": "fd36b224-ab65-45f0-a2fb-1e44c5fdb1c8",
   "metadata": {},
   "source": [
    "Previously, it took close to `3s` to return the query results. Now, it only takes slightly over `100ms` to return the results (YMMV).  \n",
    "\n",
    "Note that we are querying `PROFIT` and not the measures `m[\"QUANTITY.SUM\"]`, `m[\"PURCHASE_PRICE.SUM\"]` and `m[\"UNIT_PRICE.SUM\"]`. However, `PROFIT` is computed on the fly using the cached data in memory. Therefore, the query speed is improved drastically."
   ]
  },
  {
   "cell_type": "code",
   "execution_count": 27,
   "id": "800e212c-f4ce-4e77-8653-f8afd9b50043",
   "metadata": {
    "tags": []
   },
   "outputs": [
    {
     "name": "stdout",
     "output_type": "stream",
     "text": [
      "CPU times: user 4.46 ms, sys: 1.71 ms, total: 6.18 ms\n",
      "Wall time: 21.1 ms\n"
     ]
    },
    {
     "data": {
      "application/vnd.atoti.convert-mdx-query-result-to-widget.v0+json": {
       "mdx": "SELECT {[Measures].[PROFIT]} ON COLUMNS, NON EMPTY Hierarchize(Descendants({[Atoti Sales].[PRODUCT].[ALL].[AllMember]}, 1, SELF_AND_BEFORE)) ON ROWS FROM [Atoti Sales]",
       "sessionId": "1743705576_652319",
       "widgetCreationCode": "session.widget"
      },
      "text/html": [
       "<div>\n",
       "<style scoped>\n",
       "    .dataframe tbody tr th:only-of-type {\n",
       "        vertical-align: middle;\n",
       "    }\n",
       "\n",
       "    .dataframe tbody tr th {\n",
       "        vertical-align: top;\n",
       "    }\n",
       "\n",
       "    .dataframe thead th {\n",
       "        text-align: right;\n",
       "    }\n",
       "</style>\n",
       "<table border=\"1\" class=\"dataframe\">\n",
       "  <thead>\n",
       "    <tr style=\"text-align: right;\">\n",
       "      <th></th>\n",
       "      <th>PROFIT</th>\n",
       "    </tr>\n",
       "    <tr>\n",
       "      <th>PRODUCT</th>\n",
       "      <th></th>\n",
       "    </tr>\n",
       "  </thead>\n",
       "  <tbody>\n",
       "    <tr>\n",
       "      <th>BED_2</th>\n",
       "      <td>138.00</td>\n",
       "    </tr>\n",
       "    <tr>\n",
       "      <th>HOO_5</th>\n",
       "      <td>30.00</td>\n",
       "    </tr>\n",
       "    <tr>\n",
       "      <th>TAB_0</th>\n",
       "      <td>80.00</td>\n",
       "    </tr>\n",
       "    <tr>\n",
       "      <th>TAB_1</th>\n",
       "      <td>80.00</td>\n",
       "    </tr>\n",
       "    <tr>\n",
       "      <th>TSH_3</th>\n",
       "      <td>9.00</td>\n",
       "    </tr>\n",
       "    <tr>\n",
       "      <th>TSH_4</th>\n",
       "      <td>20.00</td>\n",
       "    </tr>\n",
       "  </tbody>\n",
       "</table>\n",
       "</div>"
      ],
      "text/plain": [
       "         PROFIT\n",
       "PRODUCT        \n",
       "BED_2    138.00\n",
       "HOO_5     30.00\n",
       "TAB_0     80.00\n",
       "TAB_1     80.00\n",
       "TSH_3      9.00\n",
       "TSH_4     20.00"
      ]
     },
     "execution_count": 27,
     "metadata": {},
     "output_type": "execute_result"
    }
   ],
   "source": [
    "%%time\n",
    "\n",
    "cube.query(m[\"PROFIT\"], levels=[l[\"PRODUCT\"]])"
   ]
  },
  {
   "cell_type": "markdown",
   "id": "3776a1f9-c10c-4912-866f-238a3b95fbee",
   "metadata": {},
   "source": [
    "Querying a subset of the aggregate provider levels also returns the result quickly.  \n",
    "\n",
    "The below query on a different level will access data from BigQuery and therefore, is limited by the querying speed of the cloud database and its network connectivity.  "
   ]
  },
  {
   "cell_type": "code",
   "execution_count": 28,
   "id": "08506fb9-16e3-4052-9288-380ecc441021",
   "metadata": {
    "tags": []
   },
   "outputs": [
    {
     "name": "stdout",
     "output_type": "stream",
     "text": [
      "CPU times: user 11.7 ms, sys: 7.6 ms, total: 19.3 ms\n",
      "Wall time: 1.49 s\n"
     ]
    },
    {
     "data": {
      "application/vnd.atoti.convert-mdx-query-result-to-widget.v0+json": {
       "mdx": "SELECT {[Measures].[PROFIT]} ON COLUMNS, NON EMPTY Crossjoin(Hierarchize(Descendants({[Atoti Sales].[DATE].[ALL].[AllMember]}, 1, SELF_AND_BEFORE)), Hierarchize(Descendants({[Atoti Product].[CATEGORY].[ALL].[AllMember]}, 2, SELF_AND_BEFORE))) DIMENSION PROPERTIES CHILDREN_CARDINALITY ON ROWS FROM [Atoti Sales]",
       "sessionId": "1743705576_652319",
       "widgetCreationCode": "session.widget"
      },
      "text/html": [
       "<div>\n",
       "<style scoped>\n",
       "    .dataframe tbody tr th:only-of-type {\n",
       "        vertical-align: middle;\n",
       "    }\n",
       "\n",
       "    .dataframe tbody tr th {\n",
       "        vertical-align: top;\n",
       "    }\n",
       "\n",
       "    .dataframe thead th {\n",
       "        text-align: right;\n",
       "    }\n",
       "</style>\n",
       "<table border=\"1\" class=\"dataframe\">\n",
       "  <thead>\n",
       "    <tr style=\"text-align: right;\">\n",
       "      <th></th>\n",
       "      <th></th>\n",
       "      <th></th>\n",
       "      <th>PROFIT</th>\n",
       "    </tr>\n",
       "    <tr>\n",
       "      <th>DATE</th>\n",
       "      <th>CATEGORY</th>\n",
       "      <th>SUB_CATEGORY</th>\n",
       "      <th></th>\n",
       "    </tr>\n",
       "  </thead>\n",
       "  <tbody>\n",
       "    <tr>\n",
       "      <th rowspan=\"2\" valign=\"top\">2022-02-04</th>\n",
       "      <th>Cloth</th>\n",
       "      <th>Hoodie</th>\n",
       "      <td>10.00</td>\n",
       "    </tr>\n",
       "    <tr>\n",
       "      <th>Furniture</th>\n",
       "      <th>Table</th>\n",
       "      <td>20.00</td>\n",
       "    </tr>\n",
       "    <tr>\n",
       "      <th rowspan=\"3\" valign=\"top\">2022-02-03</th>\n",
       "      <th rowspan=\"2\" valign=\"top\">Cloth</th>\n",
       "      <th>Hoodie</th>\n",
       "      <td>10.00</td>\n",
       "    </tr>\n",
       "    <tr>\n",
       "      <th>Tshirt</th>\n",
       "      <td>3.00</td>\n",
       "    </tr>\n",
       "    <tr>\n",
       "      <th>Furniture</th>\n",
       "      <th>Table</th>\n",
       "      <td>40.00</td>\n",
       "    </tr>\n",
       "    <tr>\n",
       "      <th rowspan=\"3\" valign=\"top\">2022-02-02</th>\n",
       "      <th rowspan=\"2\" valign=\"top\">Cloth</th>\n",
       "      <th>Hoodie</th>\n",
       "      <td>10.00</td>\n",
       "    </tr>\n",
       "    <tr>\n",
       "      <th>Tshirt</th>\n",
       "      <td>7.00</td>\n",
       "    </tr>\n",
       "    <tr>\n",
       "      <th>Furniture</th>\n",
       "      <th>Table</th>\n",
       "      <td>40.00</td>\n",
       "    </tr>\n",
       "    <tr>\n",
       "      <th rowspan=\"3\" valign=\"top\">2022-02-01</th>\n",
       "      <th>Cloth</th>\n",
       "      <th>Tshirt</th>\n",
       "      <td>11.00</td>\n",
       "    </tr>\n",
       "    <tr>\n",
       "      <th rowspan=\"2\" valign=\"top\">Furniture</th>\n",
       "      <th>Bed</th>\n",
       "      <td>23.00</td>\n",
       "    </tr>\n",
       "    <tr>\n",
       "      <th>Table</th>\n",
       "      <td>60.00</td>\n",
       "    </tr>\n",
       "    <tr>\n",
       "      <th rowspan=\"2\" valign=\"top\">2022-01-31</th>\n",
       "      <th>Cloth</th>\n",
       "      <th>Tshirt</th>\n",
       "      <td>8.00</td>\n",
       "    </tr>\n",
       "    <tr>\n",
       "      <th>Furniture</th>\n",
       "      <th>Bed</th>\n",
       "      <td>115.00</td>\n",
       "    </tr>\n",
       "  </tbody>\n",
       "</table>\n",
       "</div>"
      ],
      "text/plain": [
       "                                   PROFIT\n",
       "DATE       CATEGORY  SUB_CATEGORY        \n",
       "2022-02-04 Cloth     Hoodie         10.00\n",
       "           Furniture Table          20.00\n",
       "2022-02-03 Cloth     Hoodie         10.00\n",
       "                     Tshirt          3.00\n",
       "           Furniture Table          40.00\n",
       "2022-02-02 Cloth     Hoodie         10.00\n",
       "                     Tshirt          7.00\n",
       "           Furniture Table          40.00\n",
       "2022-02-01 Cloth     Tshirt         11.00\n",
       "           Furniture Bed            23.00\n",
       "                     Table          60.00\n",
       "2022-01-31 Cloth     Tshirt          8.00\n",
       "           Furniture Bed           115.00"
      ]
     },
     "execution_count": 28,
     "metadata": {},
     "output_type": "execute_result"
    }
   ],
   "source": [
    "%%time\n",
    "\n",
    "cube.query(m[\"PROFIT\"], levels=[l[\"DATE\"], l[\"SUB_CATEGORY\"]])"
   ]
  },
  {
   "cell_type": "markdown",
   "id": "c260f204-8f69-4f99-aefa-3e881c29e4bc",
   "metadata": {},
   "source": [
    "Before we are done with this example, let's create another aggregate provider with a _slice_ of data using `filter`.  \n",
    "\n",
    "Let's first capture the timing of the query without the aggregate provider."
   ]
  },
  {
   "cell_type": "code",
   "execution_count": 29,
   "id": "fe342fd4-1c7f-4995-833d-f3cac15d2aa4",
   "metadata": {},
   "outputs": [
    {
     "name": "stdout",
     "output_type": "stream",
     "text": [
      "CPU times: user 18.4 ms, sys: 6.89 ms, total: 25.3 ms\n",
      "Wall time: 2.35 s\n"
     ]
    },
    {
     "data": {
      "application/vnd.atoti.convert-mdx-query-result-to-widget.v0+json": {
       "mdx": "SELECT {[Measures].[PROFIT]} ON COLUMNS, NON EMPTY Crossjoin(Hierarchize(Descendants({[Atoti Sales].[DATE].[ALL].[AllMember]}, 1, SELF_AND_BEFORE)), Hierarchize(Descendants({[Atoti Product].[CATEGORY].[ALL].[AllMember]}, 2, SELF_AND_BEFORE))) DIMENSION PROPERTIES CHILDREN_CARDINALITY ON ROWS FROM (SELECT [Atoti Sales].[DATE].[ALL].[AllMember].[2022-02-04] ON COLUMNS FROM [Atoti Sales])",
       "sessionId": "1743705576_652319",
       "widgetCreationCode": "session.widget"
      },
      "text/html": [
       "<div>\n",
       "<style scoped>\n",
       "    .dataframe tbody tr th:only-of-type {\n",
       "        vertical-align: middle;\n",
       "    }\n",
       "\n",
       "    .dataframe tbody tr th {\n",
       "        vertical-align: top;\n",
       "    }\n",
       "\n",
       "    .dataframe thead th {\n",
       "        text-align: right;\n",
       "    }\n",
       "</style>\n",
       "<table border=\"1\" class=\"dataframe\">\n",
       "  <thead>\n",
       "    <tr style=\"text-align: right;\">\n",
       "      <th></th>\n",
       "      <th></th>\n",
       "      <th></th>\n",
       "      <th>PROFIT</th>\n",
       "    </tr>\n",
       "    <tr>\n",
       "      <th>DATE</th>\n",
       "      <th>CATEGORY</th>\n",
       "      <th>SUB_CATEGORY</th>\n",
       "      <th></th>\n",
       "    </tr>\n",
       "  </thead>\n",
       "  <tbody>\n",
       "    <tr>\n",
       "      <th rowspan=\"2\" valign=\"top\">2022-02-04</th>\n",
       "      <th>Cloth</th>\n",
       "      <th>Hoodie</th>\n",
       "      <td>10.00</td>\n",
       "    </tr>\n",
       "    <tr>\n",
       "      <th>Furniture</th>\n",
       "      <th>Table</th>\n",
       "      <td>20.00</td>\n",
       "    </tr>\n",
       "  </tbody>\n",
       "</table>\n",
       "</div>"
      ],
      "text/plain": [
       "                                  PROFIT\n",
       "DATE       CATEGORY  SUB_CATEGORY       \n",
       "2022-02-04 Cloth     Hoodie        10.00\n",
       "           Furniture Table         20.00"
      ]
     },
     "execution_count": 29,
     "metadata": {},
     "output_type": "execute_result"
    }
   ],
   "source": [
    "%%time\n",
    "\n",
    "cube.query(\n",
    "    m[\"PROFIT\"],\n",
    "    levels=[l[\"DATE\"], l[\"CATEGORY\"], l[\"SUB_CATEGORY\"]],\n",
    "    filter=(l[\"DATE\"] == \"2022-02-04\"),\n",
    ")"
   ]
  },
  {
   "cell_type": "code",
   "execution_count": 30,
   "id": "b240a857-71f6-4344-8967-570013c0ac98",
   "metadata": {
    "tags": []
   },
   "outputs": [],
   "source": [
    "from datetime import date\n",
    "\n",
    "current_date = date(2022, 2, 4)"
   ]
  },
  {
   "cell_type": "markdown",
   "id": "9526ed6a-2c74-4ab5-935e-51899123340c",
   "metadata": {},
   "source": [
    "In the event where users are interested in a particular member of level, e.g. the current date or a particular shop, and the amount of querying on this member is huge, then it makes sense to cache them in memory.  \n",
    "\n",
    "In this case, we apply filter just for the interested member. This helps to control the amount of data held in memory."
   ]
  },
  {
   "cell_type": "code",
   "execution_count": 31,
   "id": "17ae6441-66db-4038-bfee-28df3b2c576e",
   "metadata": {},
   "outputs": [],
   "source": [
    "cube.aggregate_providers.update(\n",
    "    {\n",
    "        \"Category provider\": tt.AggregateProvider(\n",
    "            key=\"bitmap\",\n",
    "            levels=[l[\"DATE\"], l[\"CATEGORY\"], l[\"SUB_CATEGORY\"]],\n",
    "            measures=[m[\"QUANTITY.SUM\"], m[\"PURCHASE_PRICE.SUM\"], m[\"UNIT_PRICE.SUM\"]],\n",
    "            filter=(l[\"DATE\"] == current_date),\n",
    "        )\n",
    "    }\n",
    ")"
   ]
  },
  {
   "cell_type": "code",
   "execution_count": 32,
   "id": "adc253db-cebe-49a2-a8ae-2f9630d5338d",
   "metadata": {
    "tags": []
   },
   "outputs": [
    {
     "name": "stdout",
     "output_type": "stream",
     "text": [
      "CPU times: user 13.9 ms, sys: 3.96 ms, total: 17.9 ms\n",
      "Wall time: 1.48 s\n"
     ]
    },
    {
     "data": {
      "application/vnd.atoti.convert-mdx-query-result-to-widget.v0+json": {
       "mdx": "SELECT {[Measures].[PROFIT]} ON COLUMNS, NON EMPTY Crossjoin(Hierarchize(Descendants({[Atoti Sales].[DATE].[ALL].[AllMember]}, 1, SELF_AND_BEFORE)), Hierarchize(Descendants({[Atoti Product].[CATEGORY].[ALL].[AllMember]}, 2, SELF_AND_BEFORE))) DIMENSION PROPERTIES CHILDREN_CARDINALITY ON ROWS FROM (SELECT [Atoti Sales].[DATE].[ALL].[AllMember].[2022-02-04] ON COLUMNS FROM [Atoti Sales])",
       "sessionId": "1743705576_652319",
       "widgetCreationCode": "session.widget"
      },
      "text/html": [
       "<div>\n",
       "<style scoped>\n",
       "    .dataframe tbody tr th:only-of-type {\n",
       "        vertical-align: middle;\n",
       "    }\n",
       "\n",
       "    .dataframe tbody tr th {\n",
       "        vertical-align: top;\n",
       "    }\n",
       "\n",
       "    .dataframe thead th {\n",
       "        text-align: right;\n",
       "    }\n",
       "</style>\n",
       "<table border=\"1\" class=\"dataframe\">\n",
       "  <thead>\n",
       "    <tr style=\"text-align: right;\">\n",
       "      <th></th>\n",
       "      <th></th>\n",
       "      <th></th>\n",
       "      <th>PROFIT</th>\n",
       "    </tr>\n",
       "    <tr>\n",
       "      <th>DATE</th>\n",
       "      <th>CATEGORY</th>\n",
       "      <th>SUB_CATEGORY</th>\n",
       "      <th></th>\n",
       "    </tr>\n",
       "  </thead>\n",
       "  <tbody>\n",
       "    <tr>\n",
       "      <th rowspan=\"2\" valign=\"top\">2022-02-04</th>\n",
       "      <th>Cloth</th>\n",
       "      <th>Hoodie</th>\n",
       "      <td>10.00</td>\n",
       "    </tr>\n",
       "    <tr>\n",
       "      <th>Furniture</th>\n",
       "      <th>Table</th>\n",
       "      <td>20.00</td>\n",
       "    </tr>\n",
       "  </tbody>\n",
       "</table>\n",
       "</div>"
      ],
      "text/plain": [
       "                                  PROFIT\n",
       "DATE       CATEGORY  SUB_CATEGORY       \n",
       "2022-02-04 Cloth     Hoodie        10.00\n",
       "           Furniture Table         20.00"
      ]
     },
     "execution_count": 32,
     "metadata": {},
     "output_type": "execute_result"
    }
   ],
   "source": [
    "%%time\n",
    "\n",
    "cube.query(\n",
    "    m[\"PROFIT\"],\n",
    "    levels=[l[\"DATE\"], l[\"CATEGORY\"], l[\"SUB_CATEGORY\"]],\n",
    "    filter=(l[\"DATE\"] == \"2022-02-04\"),\n",
    ")"
   ]
  },
  {
   "cell_type": "markdown",
   "id": "4b392590-0e19-4d03-84db-853028977e8b",
   "metadata": {},
   "source": [
    "## Balance between Cost and Performance"
   ]
  },
  {
   "cell_type": "markdown",
   "id": "1f44c57a-00ad-44eb-9195-ed0b0a808a62",
   "metadata": {},
   "source": [
    "All in all, Atoti's DirectQuery offers users a way to balance between cost and performance:\n",
    "\n",
    "* For data that is less queried, it resides on the cloud database and gets queried on-demand.\n",
    "* For data that is more frequently queried, we can cache it in memory and reduce the number of queries to the cloud database, thereby improving performance.  \n",
    "\n",
    "<img src=\"https://data.atoti.io/notebooks/direct-query/img/aggregate_cache.png\" />  \n",
    "\n",
    "💡 **Note:** To find out more, reach out to [ActiveViam](https://activeviam.com/contact-us/?utm_source=github&utm_medium=atoti) for a demonstration."
   ]
  },
  {
   "cell_type": "markdown",
   "id": "455e3f95-0a8c-48bf-b793-69d5fe2f2083",
   "metadata": {},
   "source": [
    "<div style=\"text-align: center;\" ><a href=\"https://www.atoti.io/?utm_source=gallery&utm_content=directquery-intro\" target=\"_blank\" rel=\"noopener noreferrer\"><img src=\"https://data.atoti.io/notebooks/banners/Your-turn-to-try-Atoti.jpg\" alt=\"Try Atoti\"></a></div>"
   ]
  }
 ],
 "metadata": {
  "kernelspec": {
   "display_name": "Python 3 (ipykernel)",
   "language": "python",
   "name": "python3"
  },
  "language_info": {
   "codemirror_mode": {
    "name": "ipython",
    "version": 3
   },
   "file_extension": ".py",
   "mimetype": "text/x-python",
   "name": "python",
   "nbconvert_exporter": "python",
   "pygments_lexer": "ipython3",
   "version": "3.11.10"
  },
  "widgets": {
   "application/vnd.jupyter.widget-state+json": {
    "state": {},
    "version_major": 2,
    "version_minor": 0
   }
  }
 },
 "nbformat": 4,
 "nbformat_minor": 5
}
