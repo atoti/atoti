{
 "cells": [
  {
   "cell_type": "markdown",
   "metadata": {},
   "source": [
    "[Oregon Curriculum Network](http://4dsolutions.net/ocn/)<br/>\n",
    "[School of Tomorrow](School_of_Tomorrow.ipynb)\n",
    "\n",
    "![github](github_server.png)\n",
    "\n",
    "# The School of Tomorrow\n",
    "\n",
    "<a data-flickr-embed=\"true\" href=\"https://www.flickr.com/photos/kirbyurner/479693617/\" title=\"Models\"><img src=\"https://live.staticflickr.com/214/479693617_fdab22ae6e_o.jpg\" width=\"417\" height=\"331\" alt=\"Models\"/></a><script async src=\"//embedr.flickr.com/assets/client-code.js\" charset=\"utf-8\"></script>"
   ]
  },
  {
   "cell_type": "markdown",
   "metadata": {},
   "source": [
    "## BACKGROUND CONTEXT\n",
    "\n",
    "The School of Tomorrow is a coming together of several currents in contemporary thought. A primary influence is Richard Buckminster Fuller (RBF), however a whole network of people come into view through the connections his life and work provide, likewise with myself, with any of us. Place based education means expanding outward from your present circumstances to encompass a more global scope. \n",
    "\n",
    "Starting with RBF, we explore American Transcendentalism more generally, through Bucky's great aunt Margaret Fuller, and her cohort (Emerson, Thoreau...), plus we link up with Anglo and Austro-German influences: Mark Fisher, Peter Sloterdijk, Walter Kauffman, Friedrich Nietzsche, Sigmund Freud, Carl Jung, Ludwig Wittgenstein (LW). \n",
    "\n",
    "Margaret Fuller was a contemporary of Ada Byron's, not that the two ever met or corresponded. Emerson was familiar with Charles Babbage we've learned, one of Ada's mentors. Ada and Margaret were both in the vanguard in typifying the highly educated woman, not afraid to \"make waves\" and trailblaze in previously uncharted territory and assuming their rights as equals with men, not subservient.\n",
    "\n",
    "<a data-flickr-embed=\"true\" href=\"https://www.flickr.com/photos/kirbyurner/53927178631/in/dateposted/\" title=\"Romanticism to Transcendentalism\"><img src=\"https://live.staticflickr.com/65535/53927178631_78167e8cd3_z.jpg\" width=\"640\" height=\"359\" alt=\"Romanticism to Transcendentalism\"/></a><script async src=\"//embedr.flickr.com/assets/client-code.js\" charset=\"utf-8\"></script>\n",
    "\n",
    "We delve into the thinking of several Pragmatist thinkers, including: Richard Rorty (admirer of John Dewey), Charles Peirce (logic, abduction) and William James (psychology friendly). \n",
    "\n",
    "How Synergetics is grounded in psychology is clarified against the backdrop of [Fuller's remarks](https://kabbalahexperience.com/the-invisible-is-more-important-than-the-visible/) about Freud versus Einstein. He saw the former as paving the way for the latter by making the invisible (the unconscious in Freud's case) a primary determiner of what we agree on as a \"consensus reality\" (CR).\n",
    "\n",
    "Synergetics is likewise self-conscious about thinking itself, as a process of tuning in by tuning out, dismissing the irrelevant to isolate a coherent frequency or program or set of beliefs about the world, a me-ball. The passages about the omni-directional halo model make this thinking about thinking readily visualizable.\n",
    "\n",
    "<a data-flickr-embed=\"true\" href=\"https://www.flickr.com/photos/kirbyurner/51785386131/in/photolist-2mU6D82-2n1WbrG-2ohNvMf-2jxsRi9\" title=\"Omnidirectional Halo\"><img src=\"https://live.staticflickr.com/65535/51785386131_f748d12cdd_z.jpg\" width=\"640\" height=\"395\" alt=\"Omnidirectional Halo\"/></a><script async src=\"//embedr.flickr.com/assets/client-code.js\" charset=\"utf-8\"></script>\n",
    "\n",
    "The very process of \"persisting as an ego\" maps to one of modeling the world and one's place within it. The cogito is a center of self preservation by means of active inference. The individual is both intuitive and agentic, sensing through the visio-imaginary (Eulerian faculties) and the viscero-tactile (Gibbsian faculties).\n",
    "\n",
    "Do we do all this connection-making in this very repository of Jupyter Notebooks, and who is this \"we\" one might ask?  \n",
    "\n",
    "No, whereas a lot of these links are suggested in the Notebooks, they only get fleshed out elsewhere, in other media (e.g. in YouTubes), in curriculum materials developed by others, perhaps without any prior knowledge of our School of Tomorrow.\n",
    "\n",
    "Our use of \"we\" suggests cohorts passing through here with an intent to explore segues to next destinations. This is a liminal space in other words, meaning vestibular, a world of portals to other worlds.\n",
    "\n",
    "Canadian influences include Marshall McLuhan, under whom Hugh Kenner studied, and Donald Coxeter, to whom RBF's Synergetics is dedicated, and who let Wittgenstein use his quarters in Cambridge for small group seminars (which Alan Turing attended). \n",
    "\n",
    "We have a lot of [Synergetics](https://nbviewer.org/github/4dsolutions/DigitalMathematics/blob/master/MartianMath.ipynb) in this curriculum, including in these notebooks, and explored with computer languages, including (but not thereby limited to) Python. \n",
    "\n",
    "<a data-flickr-embed=\"true\" href=\"https://www.flickr.com/photos/kirbyurner/53926941980/in/dateposted/\" title=\"Synergetics Poster\"><img src=\"https://live.staticflickr.com/65535/53926941980_4c5cb6cf54_z.jpg\" width=\"640\" height=\"364\" alt=\"Synergetics Poster\"/></a><script async src=\"//embedr.flickr.com/assets/client-code.js\" charset=\"utf-8\"></script>\n",
    "\n",
    "In this context, we encounter Quadray coordinates, a featured topic and a gateway to / from the standard investigation of XYZ coordinates (i.e. 3D Cartesian).\n",
    "\n",
    "LW's later philosophy is especially relevant. See [Operation Duckrabbit](https://coffeeshopsnet.blogspot.com/2024/07/mathartstream-4-kirby-urner-dimension.html). His philosophy of mathematics connects us to Martian Math (verboten math, wyrd math).\n",
    "\n",
    "Starting in PATH (philosophy, anthropology, theater, history) we move into anthropology, diving into the David Graeber corpus among others. \n",
    "\n",
    "We find our way over the famous C. P. Snow chasm, using Synergetics and Natural Language Processing (NLP) as our bridge disciplines, to arrive within [STEAM](https://controlroom.blogspot.com/2021/09/from-polymath-group.html) (Science, Technology, Engineering, Antropology, Mathematics). \n",
    "\n",
    "Here in STEAM (STEM + Anthropology), where we take up learning math and NLP through coding, and vice versa. We learn about Machine Learning, Deep Learning, and all the rest of it, mostly exploring the tools and frameworks Python provides.\n",
    "\n",
    "Science fiction, the genre, is a big part of what we use to explore and simulate the possibilities. We explore those connections in more detail in Martian Math.\n",
    "\n",
    "Questions: who is making these choices and do we need to follow them? Are there more women?\n",
    "\n",
    "I'm Kirby Urner and my suggestion is two-fold: sure, use [these connections](https://docs.google.com/presentation/d/1TOVmvkHM4Da7XmE2jO1gczIF-64MUdbBx8sfwkSVTJI/edit?usp=sharing) (graphs, circuit diagrams, ecosystem) I present, as one example of a network and networking, but then create your own, as many as you like, making sure to include your own life experience, i.e. the people you follow, study, emulate, or even especially despise.\n",
    "\n",
    "My stories reach out through the singular life of one Sam Hill, founder of the Maryhill Museum on the north bank of the Columbia River, in Washington State. [Through Sam](https://youtu.be/fZXFlYKBYR4), we meet Queen Marie of Romania and her entourage, journeying by train across North America in the 1920s, bringing museum-quality European artifacts to exhibit in Sam's museum. \n",
    "\n",
    "Sam Hill was a much admired self-made American in European circles, and a champion of building quality roads, such as along the Columbia itself (a pilot project he engaged in). In this entourage: [Loie Fuller](https://en.wikipedia.org/wiki/Loie_Fuller), dancer, networker, and friend of the queen. We use this story to explore the convergent themes of both royalty and celebrity.\n",
    "\n",
    "I'll also branch off from my own mother's scenario. [Carol Reilley Urner](https://flic.kr/s/aHsjwss3CY) had an action-packed life as an international activist, pacifist and, like [my dad Jack Urner](https://www.grunch.net/4dsolutions/jackbio.html), a Quaker (Friend).\n",
    "\n",
    "<a data-flickr-embed=\"true\" href=\"https://www.flickr.com/photos/kirbyurner/53906418296/in/dateposted/\" title=\"End the Insanity\"><img src=\"https://live.staticflickr.com/65535/53906418296_926887f92b_z.jpg\" width=\"640\" height=\"334\" alt=\"End the Insanity\"/></a><script async src=\"//embedr.flickr.com/assets/client-code.js\" charset=\"utf-8\"></script>\n",
    "\n",
    "Through Carol Urner, we connect to the Women's International Leagure for Peace and Freedom (WILPF) of which Carol was a lifelong member. She attended the 100th year anniversary of said organization in The Hague. \n",
    "\n",
    "Another famous \"WILPFer\" whom Carol didn't know personally, was Ava Helen Pauling, wife of Linus Pauling (2x Nobel Prize, unshared, for chemistry and peace), and here we find a wealth of connections, including to [the origins of the Silicon Forest](https://controlroom.blogspot.com/2009/05/silicon-forest-origins.html) (a bevy of high tech companies and industries) itself.\n",
    "\n",
    "<a data-flickr-embed=\"true\" href=\"https://www.flickr.com/photos/kirbyurner/53927583235/in/dateposted/\" title=\"Silicon Forest: ESI Star\"><img src=\"https://live.staticflickr.com/65535/53927583235_813efefbc8_z.jpg\" width=\"640\" height=\"312\" alt=\"Silicon Forest: ESI Star\"/></a><script async src=\"//embedr.flickr.com/assets/client-code.js\" charset=\"utf-8\"></script>\n",
    "\n",
    "For some decades, conversationalists affiliated with [ISEPP.org](https://isepp.org) met in Linus Pauling's boyhood home across from Third Eye (famous original head shop) on Hawthrone Boulevard, in \"Asylum District\". \n",
    "\n",
    "All this placebased educational material features prominantly in [my YouTube channel](https://www.youtube.com/@kirbyurner)."
   ]
  },
  {
   "cell_type": "markdown",
   "metadata": {},
   "source": [
    "## SOME OF OUR TOPICS:\n",
    "\n",
    "* [Concentric Hierarchy](#CH)\n",
    "* [Martian Math](http://wikieducator.org/Martian_Math)\n",
    "* Computer Programming\n",
    "* [Scheduling](Scheduling.ipynb)\n",
    "* 3D Graphics with Python and [Blender](blender.ipynb)\n",
    "* [Data Science](https://github.com/4dsolutions/Curriculum_Development) and [Visualization](dataviz.ipynb) (using [our tools](stats_works.ipynb))\n",
    "* History (see Sidebars)\n",
    "* Literature (see Sidebars)\n",
    "* Cryptography (symmetric and public)\n",
    "* [Virology](Science_Paper.ipynb)\n",
    "* [Number Theory](NumberTheory.ipynb)\n",
    "* [Group Theory](GroupTheory.ipynb)\n",
    "* Number Sequences ([OEIS](http://oeis.org/A005901))\n",
    "* [Nuclear Isotopes](isotope_decay.ipynb) (e.g. Fukushima, Chenobyl, Marshall Islands, Nevada...)\n",
    "* [Arithmetic](arithmetic_of_tomorrow.ipynb) including in bases other than 10\n",
    "* [Philosophy of Engineering](https://en.wikipedia.org/wiki/Design_science_revolution)"
   ]
  },
  {
   "cell_type": "markdown",
   "metadata": {},
   "source": [
    "# <a id=\"CH\"></a>Concentric Hierarchy\n",
    "\n",
    "What distinguishes a School of Tomorrow affiliate is a focus on some [shared focal points](https://mybizmo.blogspot.com/2006/09/focal-points.html).  One of which is the Concentric Hierarchy of Polyhedrons with their tetravolumes.\n",
    "\n",
    "The idea of nesting polyhedrons is of course not new, however our emphasis on the tetrahedron as an alternative unit of volume, sharing power as such with the cube, leads to unfamiliar territory, in terms of our volumes table, and the ratios it brings out, along with transformations (e.g. the Jitterbug) and fractional components (e.g. the BEAST modules).\n",
    "\n",
    "<a data-flickr-embed=\"true\" href=\"https://www.flickr.com/photos/kirbyurner/51493803050/in/dateposted-public/\" title=\"concentric_hierarchy\"><img src=\"https://live.staticflickr.com/65535/51493803050_c1923b3ff5_z.jpg\" width=\"640\" height=\"480\" alt=\"concentric_hierarchy\"></a><script async src=\"//embedr.flickr.com/assets/client-code.js\" charset=\"utf-8\"></script>\n",
    "\n",
    "The source code below was cut and pasted [from repl.it](https://replit.com/@kurner/SandE-Modules) (prounounced \"repplit\"), a cloud-based training arena.  See [Literature](#Lit) below."
   ]
  },
  {
   "cell_type": "code",
   "execution_count": 1,
   "metadata": {},
   "outputs": [
    {
     "name": "stdout",
     "output_type": "stream",
     "text": [
      "Shape           Volume      Check\n",
      "Five VEs      :  24.620860\n",
      "SuperRT       :  21.213203\n",
      "Cubocta       :  20.000000\n",
      "Icosa         :  18.512296   18.512296\n",
      "P Dodeca      :  15.350018\n",
      "Five Octas    :   6.334369\n",
      "Rh Dodeca (RD):   6.000000\n",
      "RT5+          :   5.007758    5.007758\n",
      "RT5           :   5.000000    5.000000\n",
      "Octa          :   4.000000\n",
      "Cube          :   3.000000\n",
      "Skew Icosa    :   2.917961    2.917961\n",
      "Small VE      :   2.500000\n",
      "Tetra         :   1.000000\n",
      "--------------------\n",
      "Emod3         :   0.176777\n",
      "Emod          :   0.041731\n",
      "emod3         :   0.009851\n",
      "Tmod          :   0.041667\n",
      "Smod6         :   0.809017\n",
      "Smod3         :   0.190983\n",
      "Smod          :   0.045085    0.045085\n",
      "smod3         :   0.010643\n"
     ]
    }
   ],
   "source": [
    "\"\"\"\n",
    "From David Koski's paper:\n",
    "Revisiting R.B. Fuller's S & E Modules\n",
    "--------\n",
    "The concentric hierarchy can be described in terms of \n",
    "phi-scaled S modules: \n",
    "\n",
    "Tetrahedron:  21S +  5s3 =  5S3 + 1S = 1S6 + 1S3\n",
    "Skew Icosa:   60S + 20s3 \n",
    "Cube       :  72S + 15s3 = 15S3 + 3S = 3S6 + 3S3\n",
    "Octahedron :  84S + 20s3 = 20S3 + 4S = 4S6 + 4S3 \n",
    "Rh Triac   : 105S + 25s3 = 25S3 + 5S = 5S6 + 5S3 (volume = 5) \n",
    "Rh Dodec   : 126S + 30s3 = 30S3 + 6S = 6S6 + 6S3\n",
    "Pent Dodeca: 348E + 84e3\n",
    "Icosahedron: 100E3 + 20E\n",
    "VE         : 20; 420S + 100s3\n",
    "SuperRT    : 20 * Syn3; 480E + 120e3\n",
    "--------\n",
    "\n",
    "On-line:  http://coffeeshopsnet.blogspot.com/2017/06/koski-paper.html\n",
    "\"\"\"\n",
    "\n",
    "from math import sqrt as rt2\n",
    "\n",
    "φ     = (rt2(5)+1)/2  # golden ratio\n",
    "Syn3  = rt2(9/8)      # not to be confused with Smod\n",
    "\n",
    "Smod  = (φ**-5) / 2   # home base Smod\n",
    "smod3 = Smod * φ**-3  # small s, phi down\n",
    "Smod3 = Smod * φ**3   # capital s, phi up\n",
    "Smod6 = Smod3 * φ**3  # phi up yet again\n",
    "\n",
    "Cubocta   = 20\n",
    "SuperRT   = Syn3 * Cubocta\n",
    "\n",
    "Emod3     = SuperRT / 120  # Emod phi up\n",
    "Emod      = (rt2(2) / 8) * (φ**-3)  # home base Emod\n",
    "emod3     = Emod * φ**-3  # Emod phi down\n",
    "\n",
    "S_factor  = Smod / Emod  # 2*sqrt(7-3*sqrt(5))\n",
    "T_factor  = pow(3/2, 1/3) * rt2(2) / φ\n",
    "Tmod      = 1/24\n",
    "\n",
    "FiveVEs   = 480 * Smod + 280 * smod3\n",
    "Icosa     = 100 * Emod3 + 20 * Emod\n",
    "P_Dodeca  = 348 * Emod  + 84 * emod3\n",
    "FiveOctas = 132 * Smod  + 36 * smod3\n",
    "RD        =   6 * Smod6 +  6 * Smod3 \n",
    "RT5plus   = 120 * Emod  \n",
    "RT5       =   5 * Smod6 +  5 * Smod3  \n",
    "Octa      =   4 * Smod6 +  4 * Smod3\n",
    "Cube      =   3 * Smod6 +  3 * Smod3\n",
    "SmallVE   = Cubocta * 1/8  # half D edges (=R)\n",
    "SkewIcosa =  60 * Smod  + 20 * smod3 \n",
    "Tetra     =   5 * Smod3 + Smod\n",
    "\n",
    "print(\"Shape           Volume      Check\")\n",
    "print(f\"Five VEs      : {FiveVEs:10.6f}\")\n",
    "print(f\"SuperRT       : {SuperRT:10.6f}\")\n",
    "print(f\"Cubocta       : {Cubocta:10.6f}\")\n",
    "print(f\"Icosa         : {Icosa:10.6f}  {20 * 1/S_factor:10.6f}\")\n",
    "print(f\"P Dodeca      : {P_Dodeca:10.6f}\")\n",
    "print(f\"Five Octas    : {FiveOctas:10.6f}\")\n",
    "print(f\"Rh Dodeca (RD): {RD:10.6f}\")\n",
    "print(f\"RT5+          : {RT5plus:10.6f}  {SuperRT * φ**-3:10.6f}\")\n",
    "print(f\"RT5           : {RT5:10.6f}  {120 * Tmod:10.6f}\")\n",
    "print(f\"Octa          : {Octa:10.6f}\")\n",
    "print(f\"Cube          : {Cube:10.6f}\")\n",
    "print(f\"Skew Icosa    : {SkewIcosa:10.6f}  {SmallVE * S_factor**2:10.6f}\")\n",
    "print(f\"Small VE      : {SmallVE:10.6f}\")\n",
    "print(f\"Tetra         : {Tetra:10.6f}\")\n",
    "print(\"-\" * 20)\n",
    "print(f\"Emod3         : {Emod3:10.6f}\")\n",
    "print(f\"Emod          : {Emod:10.6f}\")\n",
    "print(f\"emod3         : {emod3:10.6f}\")\n",
    "\n",
    "Smod_check = (Octa - SkewIcosa) / 24\n",
    "print(f\"Tmod          : {Emod * (1 / T_factor**3):10.6f}\")\n",
    "print(f\"Smod6         : {Smod6:10.6f}\")\n",
    "print(f\"Smod3         : {Smod3:10.6f}\")\n",
    "print(f\"Smod          : {Smod:10.6f}  {Smod_check:10.6f}\")\n",
    "print(f\"smod3         : {smod3:10.6f}\")"
   ]
  },
  {
   "cell_type": "code",
   "execution_count": 2,
   "metadata": {},
   "outputs": [
    {
     "data": {
      "image/jpeg": "[encoded data removed]",
      "text/html": [
       "\n",
       "        <iframe\n",
       "            width=\"400\"\n",
       "            height=\"300\"\n",
       "            src=\"https://www.youtube.com/embed/gPcTl75Io5w\"\n",
       "            frameborder=\"0\"\n",
       "            allowfullscreen\n",
       "            \n",
       "        ></iframe>\n",
       "        "
      ],
      "text/plain": [
       "<IPython.lib.display.YouTubeVideo at 0x1089a54d0>"
      ]
     },
     "execution_count": 2,
     "metadata": {},
     "output_type": "execute_result"
    }
   ],
   "source": [
    "from IPython.display import YouTubeVideo\n",
    "YouTubeVideo(\"gPcTl75Io5w\") "
   ]
  },
  {
   "cell_type": "code",
   "execution_count": 3,
   "metadata": {},
   "outputs": [
    {
     "data": {
      "image/jpeg": "[encoded data removed]",
      "text/html": [
       "\n",
       "        <iframe\n",
       "            width=\"400\"\n",
       "            height=\"300\"\n",
       "            src=\"https://www.youtube.com/embed/bD5RmyeN2LI\"\n",
       "            frameborder=\"0\"\n",
       "            allowfullscreen\n",
       "            \n",
       "        ></iframe>\n",
       "        "
      ],
      "text/plain": [
       "<IPython.lib.display.YouTubeVideo at 0x10898cf10>"
      ]
     },
     "execution_count": 3,
     "metadata": {},
     "output_type": "execute_result"
    }
   ],
   "source": [
    "YouTubeVideo(\"bD5RmyeN2LI\") "
   ]
  },
  {
   "cell_type": "markdown",
   "metadata": {},
   "source": [
    "[ZomeZone](ZomeZone.ipynb)  -- lets look at even more modules, why not?"
   ]
  },
  {
   "cell_type": "markdown",
   "metadata": {},
   "source": [
    "## Computer Programming\n",
    "\n",
    "Our Jupyter Notebook's kernel is Python.  The code cells you see, interspersed with text and pictures, are a primary constituent of the Jupyter Notebook.  You will learn more about Jupyter Notebook technology as you work through these materials.\n",
    "\n",
    "It's time for a short Glossary, that we will add to over time:"
   ]
  },
  {
   "cell_type": "markdown",
   "metadata": {},
   "source": [
    "glossary = {}  # empty dictionary (a set of key:value pairs)\n",
    "glossary.update({\n",
    "\"Jupyter Notebook (JN)\" : \"like a web page, but interactive, stored as json\",\n",
    "\"cell\"          : \"a Jupyter Notebook consists of mostly Code and Markdown cells\",\n",
    "\"code cell\"     : \"where runnable code, interpreted by the Kernel, is displayed and color coded\",\n",
    "\"markdown cell\" : \"uses a markup called markdown to format the text cells in a Jupyter Notebook\",\n",
    "\"Python\"        : \"a computer language from Holland (the Netherlands) that went viral\", \n",
    "\"Kernel\"        : \"an interpreter, e.g. Python, ready to process JN code cells and return results\",\n",
    "})\n",
    "type(glossary)  # ask about this object's type"
   ]
  },
  {
   "cell_type": "markdown",
   "metadata": {},
   "source": [
    "## Data Visualization\n",
    "\n",
    "The School of Tomorrow features Jupyter Notebook based explorations of datasets, with the aim of building up skills with a specific suite of tools (see below).\n",
    "\n",
    "## History\n",
    "\n",
    "Our topics will include (but are not limited to):\n",
    "\n",
    "* Science Fiction through the ages, from [H.G. Wells](https://www.gutenberg.org/ebooks/author/30) to [Orson Welles](https://www.snopes.com/fact-check/war-of-the-worlds/).  \n",
    "* Bonus Army (WW1 Veterans, requesting payment from Congress)\n",
    "* [Smedley \"fighting Quaker\" Butler](https://worldgame.blogspot.com/2020/01/occupy-history.html) (his career and writings)\n",
    "* Rajneesh Puram (Oregon History)\n",
    "* The Vortex Festival (Oregon History)\n",
    "* The Browser Wars and the Birth of JavaScript\n",
    "* [Occupy Portland (OPDX)](OPDX.ipynb) and Hoovervilles\n",
    "* Refugees and asylum-seekers in Portland\n",
    "* Cyber, Crypto and Solar Punk subcultures (consistent with The House of Tomorrow)\n",
    "* other topics you choose (plus various research projects will be suggested)\n",
    "\n",
    "Links to Portland, Oregon, Cascadia region, home of the [Oregon Curriculum Network](http://4dsolutions.net/ocn/).\n",
    "\n",
    "<a data-flickr-embed=\"true\"  href=\"https://www.flickr.com/photos/kirbyurner/47428902511/in/dateposted-public/\" title=\"P1080444\"><img src=\"https://live.staticflickr.com/7852/47428902511_0943f4dcf7_n.jpg\" width=\"320\" height=\"240\" alt=\"P1080444\"></a><script async src=\"//embedr.flickr.com/assets/client-code.js\" charset=\"utf-8\"></script>\n",
    "<div style=\"text-align: center\">\n",
    "Mt. Tabor, Southeast Portland, Mid-level Reservoir\n",
    "</div>\n",
    "\n",
    "## Literature\n",
    "\n",
    "[Martian Math](https://github.com/4dsolutions/MartianMath/blob/master/mm1.ipynb) is Science Fiction, as well as a bridge to STEM topics.  "
   ]
  },
  {
   "cell_type": "markdown",
   "metadata": {},
   "source": [
    "However, we look at more than science fiction.  \n",
    "\n",
    "Based on our *The Home of Tomorrow* theme, we take seriously the curious mathematics ensconced within American Transcendentalism in the form of \"synergetic geometry\", the Concentric Hierarchy of Polyhedrons especially, which features a flagship Tetrahedron of edges one, as a unit of volume."
   ]
  },
  {
   "cell_type": "code",
   "execution_count": 4,
   "metadata": {},
   "outputs": [
    {
     "data": {
      "text/html": [
       "<div>\n",
       "<style scoped>\n",
       "    .dataframe tbody tr th:only-of-type {\n",
       "        vertical-align: middle;\n",
       "    }\n",
       "\n",
       "    .dataframe tbody tr th {\n",
       "        vertical-align: top;\n",
       "    }\n",
       "\n",
       "    .dataframe thead th {\n",
       "        text-align: right;\n",
       "    }\n",
       "</style>\n",
       "<table border=\"1\" class=\"dataframe\">\n",
       "  <thead>\n",
       "    <tr style=\"text-align: right;\">\n",
       "      <th></th>\n",
       "      <th>Volumes</th>\n",
       "      <th>Comments</th>\n",
       "    </tr>\n",
       "    <tr>\n",
       "      <th>Shapes</th>\n",
       "      <th></th>\n",
       "      <th></th>\n",
       "    </tr>\n",
       "  </thead>\n",
       "  <tbody>\n",
       "    <tr>\n",
       "      <th>SuperRT</th>\n",
       "      <td>21.213203</td>\n",
       "      <td>Emods RT phi-up, (Icosa, P Dodeca)</td>\n",
       "    </tr>\n",
       "    <tr>\n",
       "      <th>Cubocta</th>\n",
       "      <td>20.000000</td>\n",
       "      <td>12 balls around 1</td>\n",
       "    </tr>\n",
       "    <tr>\n",
       "      <th>Icosa</th>\n",
       "      <td>18.512296</td>\n",
       "      <td>Jitterbug first stop</td>\n",
       "    </tr>\n",
       "    <tr>\n",
       "      <th>P Dodeca</th>\n",
       "      <td>15.350018</td>\n",
       "      <td>Icosahedron Dual</td>\n",
       "    </tr>\n",
       "    <tr>\n",
       "      <th>Rh Dodeca</th>\n",
       "      <td>6.000000</td>\n",
       "      <td>Space-filler, ball domain, (Cube, Octa)</td>\n",
       "    </tr>\n",
       "    <tr>\n",
       "      <th>RT5+</th>\n",
       "      <td>5.007758</td>\n",
       "      <td>Radius = 1.0000</td>\n",
       "    </tr>\n",
       "    <tr>\n",
       "      <th>RT5</th>\n",
       "      <td>5.000000</td>\n",
       "      <td>Radius = 0.9994</td>\n",
       "    </tr>\n",
       "    <tr>\n",
       "      <th>Octa</th>\n",
       "      <td>4.000000</td>\n",
       "      <td>Jitterbug 2nd stop, Cube dual</td>\n",
       "    </tr>\n",
       "    <tr>\n",
       "      <th>Cube</th>\n",
       "      <td>3.000000</td>\n",
       "      <td>Duo-tet cube, Octa dual</td>\n",
       "    </tr>\n",
       "    <tr>\n",
       "      <th>Sm Icosa</th>\n",
       "      <td>2.917961</td>\n",
       "      <td>Faces flush with Octa</td>\n",
       "    </tr>\n",
       "    <tr>\n",
       "      <th>Sm VE</th>\n",
       "      <td>2.500000</td>\n",
       "      <td>Faces flush with Octa</td>\n",
       "    </tr>\n",
       "    <tr>\n",
       "      <th>Tetra</th>\n",
       "      <td>1.000000</td>\n",
       "      <td>Unit Volume</td>\n",
       "    </tr>\n",
       "    <tr>\n",
       "      <th>Emod3</th>\n",
       "      <td>0.176777</td>\n",
       "      <td>Emod phi up</td>\n",
       "    </tr>\n",
       "    <tr>\n",
       "      <th>Emod</th>\n",
       "      <td>0.041731</td>\n",
       "      <td>1/120th RT5+</td>\n",
       "    </tr>\n",
       "    <tr>\n",
       "      <th>emod3</th>\n",
       "      <td>0.009851</td>\n",
       "      <td>Emod phi down</td>\n",
       "    </tr>\n",
       "    <tr>\n",
       "      <th>Tmod</th>\n",
       "      <td>0.041667</td>\n",
       "      <td>1/120th RT5</td>\n",
       "    </tr>\n",
       "    <tr>\n",
       "      <th>Amod</th>\n",
       "      <td>0.041667</td>\n",
       "      <td>12 left + 12 right = Tetra</td>\n",
       "    </tr>\n",
       "    <tr>\n",
       "      <th>Bmod</th>\n",
       "      <td>0.041667</td>\n",
       "      <td>48A + 48B = Octa</td>\n",
       "    </tr>\n",
       "    <tr>\n",
       "      <th>Smod3</th>\n",
       "      <td>0.190983</td>\n",
       "      <td>Smod phi up</td>\n",
       "    </tr>\n",
       "    <tr>\n",
       "      <th>Smod</th>\n",
       "      <td>0.045085</td>\n",
       "      <td>Sm Icosa + 24 Smods = Octa</td>\n",
       "    </tr>\n",
       "    <tr>\n",
       "      <th>smod3</th>\n",
       "      <td>0.010643</td>\n",
       "      <td>Smod phi down</td>\n",
       "    </tr>\n",
       "  </tbody>\n",
       "</table>\n",
       "</div>"
      ],
      "text/plain": [
       "             Volumes                                 Comments\n",
       "Shapes                                                       \n",
       "SuperRT    21.213203       Emods RT phi-up, (Icosa, P Dodeca)\n",
       "Cubocta    20.000000                        12 balls around 1\n",
       "Icosa      18.512296                     Jitterbug first stop\n",
       "P Dodeca   15.350018                         Icosahedron Dual\n",
       "Rh Dodeca   6.000000  Space-filler, ball domain, (Cube, Octa)\n",
       "RT5+        5.007758                          Radius = 1.0000\n",
       "RT5         5.000000                          Radius = 0.9994\n",
       "Octa        4.000000            Jitterbug 2nd stop, Cube dual\n",
       "Cube        3.000000                  Duo-tet cube, Octa dual\n",
       "Sm Icosa    2.917961                    Faces flush with Octa\n",
       "Sm VE       2.500000                    Faces flush with Octa\n",
       "Tetra       1.000000                              Unit Volume\n",
       "Emod3       0.176777                              Emod phi up\n",
       "Emod        0.041731                             1/120th RT5+\n",
       "emod3       0.009851                            Emod phi down\n",
       "Tmod        0.041667                              1/120th RT5\n",
       "Amod        0.041667               12 left + 12 right = Tetra\n",
       "Bmod        0.041667                         48A + 48B = Octa\n",
       "Smod3       0.190983                              Smod phi up\n",
       "Smod        0.045085               Sm Icosa + 24 Smods = Octa\n",
       "smod3       0.010643                            Smod phi down"
      ]
     },
     "execution_count": 4,
     "metadata": {},
     "output_type": "execute_result"
    }
   ],
   "source": [
    "import identities\n",
    "from identities import volumes_table\n",
    "volumes_table"
   ]
  },
  {
   "cell_type": "markdown",
   "metadata": {},
   "source": [
    "<a data-flickr-embed=\"true\"  href=\"https://www.flickr.com/photos/kirbyurner/29224053958/in/photolist-pYjwL8-M3HF83-LwqV6h-25A37wJ-25MGEoH-WBrp4M-SB9x6G-SYjFPy-EPg3Ag-AnM3Vr-AnMgUH-A5F5Vg-A5zkx5-Aob4CP-A5zkZN-A5F7Xc-zqhPtk-A5F5ip-zCJpe6-zz6Qp9\" title=\"Martian Base\"><img src=\"https://live.staticflickr.com/1801/29224053958_02e71944be_n.jpg\" width=\"213\" height=\"320\" alt=\"Martian Base\"></a><script async src=\"//embedr.flickr.com/assets/client-code.js\" charset=\"utf-8\"></script>\n",
    "<div style=\"text-align: center\">\n",
    "Martian Base made of an A-modules Tetrahedron,<br />protected with a Lux Perimeter\n",
    "</div>"
   ]
  },
  {
   "cell_type": "markdown",
   "metadata": {},
   "source": [
    "Martian Math is also a new approach to some of the ideas in *Synergetics: Explorations in the Geometry of Thinking*.  \n",
    "\n",
    "This is The School of Tomorrow after all.  We teach the Bucky stuff.\n",
    "\n",
    "#### WORLD GAME MUSEUM\n",
    "\n",
    "Graphics by Richard Hawkins (see [Grunch/Synergetics/Modules](http://grunch.net/synergetics/modules.html))\n",
    "\n",
    "*A modules* make a Tetrahedron:\n",
    "\n",
    "![A module](http://grunch.net/synergetics/images/amod.gif)\n",
    "\n",
    "*B modules* with A modules, make an Octahedron. Tetrahedrons + Octahedrons define the space-filling IVM:\n",
    "\n",
    "![B module](http://grunch.net/synergetics/images/abmod.gif)\n",
    "\n",
    "*The MITE* (minimum tetrahedron) is a space-filling tetrahedron, but not the only one (cite Sommerville):\n",
    "\n",
    "![Mite](http://grunch.net/synergetics/images/mite.gif)\n",
    "\n",
    "*The Coupler* is an octahedral space-filler, also Unit Volume (same volume as Tetrahedron):\n",
    "\n",
    "![Coupler](http://grunch.net/synergetics/images/rdcubcp.gif)\n",
    "\n",
    "Maybe you would like to teach this curriculum it too? \n",
    "\n",
    "[Here are some slides](https://goo.gl/zoVYF1) you could use."
   ]
  },
  {
   "cell_type": "code",
   "execution_count": 5,
   "metadata": {},
   "outputs": [
    {
     "data": {
      "image/jpeg": "[encoded data removed]",
      "text/html": [
       "\n",
       "        <iframe\n",
       "            width=\"400\"\n",
       "            height=\"300\"\n",
       "            src=\"https://www.youtube.com/embed/ACnA3YknrT0\"\n",
       "            frameborder=\"0\"\n",
       "            allowfullscreen\n",
       "            \n",
       "        ></iframe>\n",
       "        "
      ],
      "text/plain": [
       "<IPython.lib.display.YouTubeVideo at 0x108dad610>"
      ]
     },
     "execution_count": 5,
     "metadata": {},
     "output_type": "execute_result"
    }
   ],
   "source": [
    "YouTubeVideo(\"ACnA3YknrT0\") # https://youtu.be/ACnA3YknrT0"
   ]
  },
  {
   "cell_type": "code",
   "execution_count": 6,
   "metadata": {},
   "outputs": [
    {
     "data": {
      "image/jpeg": "[encoded data removed]",
      "text/html": [
       "\n",
       "        <iframe\n",
       "            width=\"400\"\n",
       "            height=\"300\"\n",
       "            src=\"https://www.youtube.com/embed/OBuH2eAJT6Q\"\n",
       "            frameborder=\"0\"\n",
       "            allowfullscreen\n",
       "            \n",
       "        ></iframe>\n",
       "        "
      ],
      "text/plain": [
       "<IPython.lib.display.YouTubeVideo at 0x10bc3da50>"
      ]
     },
     "execution_count": 6,
     "metadata": {},
     "output_type": "execute_result"
    }
   ],
   "source": [
    "YouTubeVideo(\"OBuH2eAJT6Q\") # https://youtu.be/OBuH2eAJT6Q"
   ]
  },
  {
   "cell_type": "markdown",
   "metadata": {},
   "source": [
    "## Cryptography\n",
    "\n",
    "[RSA](https://github.com/4dsolutions/Python5/blob/master/Public%20Key%20Cryptography.ipynb) is the name of a public key cryptography algorithm we study a lot. Cryptography involves a lot of what we might call Number Theory.\n",
    "\n",
    "With the rise of the commercial web came the business requirement to perform secure communications, meaning encrypted communications over TCP/IP. The need for public key cryptography became obvious and widely disseminated, over the objections of those wishing to preserve \"military grade\" encryption for a chosen few.\n",
    "\n",
    "Subsequent to the rise of the commercial web came the crypto-currencies revolution, and blockchain strategies for decentralizing the responsibility for securing transactions.  The promise of these technologies led many more people to develop [fluency around cryptography](https://bookauthority.org/books/best-cryptography-books).\n",
    "\n",
    "<a data-flickr-embed=\"true\"  href=\"https://www.flickr.com/photos/kirbyurner/40140789202/in/photolist-24a739s\" title=\"save_crypto\"><img src=\"https://live.staticflickr.com/4761/40140789202_9bf37537cc_n.jpg\" width=\"320\" height=\"282\" alt=\"save_crypto\"></a><script async src=\"//embedr.flickr.com/assets/client-code.js\" charset=\"utf-8\"></script>\n",
    "\n",
    "### Historical Sidebar\n",
    "In periods marked by hostility towards specific cultures, the signature technologies of those cultures may be deprecated, pushed to the back burner.  For example, [some argue](https://medium.com/@kirbyurner/operators-harbingers-of-the-zeitgeist-89fe9f4764b3) that Number Theory, pioneered by [Friedrich Gauss](http://4dsolutions.net/ocn/numeracy0.html) (1777-1855), was given a lower profile in North American curricula because of hostility towards Germanic cultures."
   ]
  },
  {
   "cell_type": "markdown",
   "metadata": {},
   "source": [
    "### Computer Programming Interlude\n",
    "\n",
    "The code cells are usually full of Python source code, ready to run.  Even if the libraries we're using are such as ```numpy``` and ```pandas```, the language we're sharing here is known as Python, named for Monty Python, the English comedy troupe.\n",
    "\n",
    "When you first boot into Python, in order to use it coversationally, such as in a console, or in a code cell, it probably has no knowledge of ```time``` as a topic, nor of ```datetime``` nor ```math``` -- these being the names of modules we might import.\n",
    "\n",
    " Expect to use the proleptic Gregorian calendar in the Standard Library, or maybe the Julian (\"when in Rome...\").  You will also have integer days from an epochal starting point as an option, with time slices down to the nanosecond in pandas. \n",
    "\n",
    "Seek 3rd party packages for other calendars.  The Python ecosystem is well stocked."
   ]
  },
  {
   "cell_type": "code",
   "execution_count": 7,
   "metadata": {},
   "outputs": [],
   "source": [
    "import time\n",
    "from datetime import date\n",
    "\n",
    "# defining a type of object, of which we may have any number\n",
    "# anyone gets to be a me\n",
    "\n",
    "class Me(): # used below, to encapalsupate person data\n",
    "    \n",
    "    def __init__(self, nm : str, dob : str):\n",
    "        self.name = nm\n",
    "        struct = time.strptime(dob, '%d %B %Y')\n",
    "        self.dob = date(*struct[:3]) \n",
    "\n",
    "    def __repr__(self):\n",
    "        return \"Me('{}', '{}')\".format(\n",
    "            self.name, \n",
    "            self.dob.strftime(\"%d %B %Y\"))"
   ]
  },
  {
   "cell_type": "code",
   "execution_count": 8,
   "metadata": {},
   "outputs": [
    {
     "data": {
      "image/jpeg": "[encoded data removed]",
      "text/html": [
       "\n",
       "        <iframe\n",
       "            width=\"400\"\n",
       "            height=\"300\"\n",
       "            src=\"https://www.youtube.com/embed/apACNr7DC_s\"\n",
       "            frameborder=\"0\"\n",
       "            allowfullscreen\n",
       "            \n",
       "        ></iframe>\n",
       "        "
      ],
      "text/plain": [
       "<IPython.lib.display.YouTubeVideo at 0x10bc4c310>"
      ]
     },
     "execution_count": 8,
     "metadata": {},
     "output_type": "execute_result"
    }
   ],
   "source": [
    "YouTubeVideo(\"apACNr7DC_s\") "
   ]
  },
  {
   "cell_type": "code",
   "execution_count": 9,
   "metadata": {},
   "outputs": [
    {
     "name": "stdout",
     "output_type": "stream",
     "text": [
      "RBF   Me('R. Buckminster Fuller', '12 July 1895')\n",
      "CFG   Me('Carl Friedrich Gauss', '30 April 1777')\n",
      "WOLF  Me('Stephen Wolfram', '29 August 1959')\n",
      "GvR   Me('Guido van Rossum', '31 January 1956')\n",
      "MC    Me('Marie Curie', '07 November 1867')\n",
      "WD    Me('Walt Disney', '05 December 1901')\n"
     ]
    }
   ],
   "source": [
    "# all-star cast\n",
    "\n",
    "bucky        = Me(\"R. Buckminster Fuller\", \"12 July 1895\")\n",
    "gauss        = Me(\"Carl Friedrich Gauss\", \"30 April 1777\" )\n",
    "wolfram      = Me(\"Stephen Wolfram\", \"29 August 1959\")\n",
    "guido        = Me(\"Guido van Rossum\", \"31 January 1956\")\n",
    "curie        = Me(\"Marie Curie\", \"7 November 1867\")\n",
    "disney       = Me(\"Walt Disney\", \"5 December 1901\")\n",
    "\n",
    "# suggestive of what we might store in JSON (or other format)\n",
    "scenarios = {\"RBF\":  bucky, \"CFG\":  gauss, \"WOLF\": wolfram, \n",
    "             \"GvR\":  guido, \"MC\": curie, \"WD\": disney} # dict with Me type values\n",
    "\n",
    "for person in scenarios:\n",
    "    print(\"{:5} {}\".format(person, scenarios[person]))"
   ]
  },
  {
   "cell_type": "code",
   "execution_count": 10,
   "metadata": {},
   "outputs": [],
   "source": [
    "import json\n",
    "\n",
    "def to_json(obj):\n",
    "    return [obj.name, obj.dob.strftime(\"%d %B %Y\")]\n",
    "    \n",
    "\n",
    "with open(\"timelines.json\", \"w\") as target:\n",
    "    json.dump(scenarios, target, default=to_json)"
   ]
  },
  {
   "cell_type": "markdown",
   "metadata": {},
   "source": [
    "Let's keep building that glossary..."
   ]
  },
  {
   "cell_type": "code",
   "execution_count": 11,
   "metadata": {},
   "outputs": [],
   "source": [
    "# alternative syntax for adding to a Python dictionary\n",
    "glossary = {}\n",
    "glossary[\"HTTP\"] = \"hypertext transfer protocol\"\n",
    "glossary[\"TLS\"]  = \"Transport Layer Security, used to turn HTTP into HTTPS\"\n",
    "glossary[\"RSA\"]  = \"public key crypto algorithm, named for collaborators Rivest, Shamir, Adleman\"\n",
    "glossary[\"PGP\"]  = \"Pretty Good Privacy, RSA before the US patent expired, by Phil Zimmerman\""
   ]
  },
  {
   "cell_type": "markdown",
   "metadata": {},
   "source": [
    "## A Philosophy of Engineering\n",
    "\n",
    "At the time of this writing, the Silicon Forest continued to honor the memory of Linus Pauling by preserving his boyhood home on Hawthorne Boulevard.  The organization supporting these preservation efforts was [the Institute for Science, Engineering and Public Policy](http://www.isepp.org/).\n",
    "\n",
    "Do engineers live by a code of ethics?  Should they?  ISEPP, a think tank, was looking into these questions, especially in light of Linus and Ava Helen Pauling's teachings and values.\n",
    "\n",
    "<a data-flickr-embed=\"true\"  href=\"https://www.flickr.com/photos/kirbyurner/32437606177/in/dateposted-public/\" title=\"P1080361\"><img src=\"https://live.staticflickr.com/7914/32437606177_8f7a6db2f7_n.jpg\" width=\"320\" height=\"240\" alt=\"P1080361\"></a><script async src=\"//embedr.flickr.com/assets/client-code.js\" charset=\"utf-8\"></script>\n",
    "\n",
    "<div style=\"text-align: center\">\n",
    "Terry Bristol of ISEPP,<br />patron Doug Strain (ESI),<br />Julian Voss Andreae (sculptor)<br />in front of Alpha Helix\n",
    "</div>"
   ]
  },
  {
   "cell_type": "markdown",
   "metadata": {},
   "source": [
    "### Literary Sidebar\n",
    "\n",
    "*The School of Tomorrow* is in part inspired by the movie *The House of Tomorrow*, in turn based on [a book](https://www.nytimes.com/2010/04/04/books/review/Stace-t.html).  As you explore this curriculum, [some of the connections](https://kirbyurner.medium.com/a-memo-to-trimtabbers-d94f8ef56f72?sk=a8f026893a508a806c7a0ee8aefb502c) will become clear.\n",
    "\n",
    "<a data-flickr-embed=\"true\"  href=\"https://www.flickr.com/photos/kirbyurner/47953542008/in/dateposted-public/\" title=\"P1080807\"><img src=\"https://live.staticflickr.com/65535/47953542008_4e29d05772.jpg\" width=\"500\" height=\"500\" alt=\"P1080807\"></a><script async src=\"//embedr.flickr.com/assets/client-code.js\" charset=\"utf-8\"></script>\n",
    "<div style=\"text-align: center\">\n",
    "House of Tomorrow DVD\n",
    "</div>\n",
    "<br />\n",
    "<a data-flickr-embed=\"true\" href=\"https://www.flickr.com/photos/kirbyurner/53661046348/in/dateposted/\" title=\"Steampunk\"><img src=\"https://live.staticflickr.com/65535/53661046348_d098c36237.jpg\" width=\"500\" height=\"281\" alt=\"Steampunk\"/></a><script async src=\"//embedr.flickr.com/assets/client-code.js\" charset=\"utf-8\"></script>\n",
    "<div style=\"text-align: center\">\n",
    "Steampunk\n",
    "</div>\n",
    "<br />\n",
    "\n",
    "\n"
   ]
  },
  {
   "cell_type": "code",
   "execution_count": 12,
   "metadata": {},
   "outputs": [
    {
     "data": {
      "image/jpeg": "[encoded data removed]",
      "text/html": [
       "\n",
       "        <iframe\n",
       "            width=\"400\"\n",
       "            height=\"300\"\n",
       "            src=\"https://www.youtube.com/embed/UpEJysjcLBY\"\n",
       "            frameborder=\"0\"\n",
       "            allowfullscreen\n",
       "            \n",
       "        ></iframe>\n",
       "        "
      ],
      "text/plain": [
       "<IPython.lib.display.YouTubeVideo at 0x10bc4f390>"
      ]
     },
     "execution_count": 12,
     "metadata": {},
     "output_type": "execute_result"
    }
   ],
   "source": [
    "YouTubeVideo(\"UpEJysjcLBY\")"
   ]
  },
  {
   "cell_type": "markdown",
   "metadata": {},
   "source": [
    "<a data-flickr-embed=\"true\"  href=\"https://www.flickr.com/photos/kirbyurner/6281428905/in/album-72157627710609369/\" title=\"Undercover Dome\"><img src=\"https://live.staticflickr.com/6108/6281428905_12aa354b18_n.jpg\" width=\"320\" height=\"240\" alt=\"Undercover Dome\"></a><script async src=\"//embedr.flickr.com/assets/client-code.js\" charset=\"utf-8\"></script>\n",
    "<div style=\"text-align: center\">\n",
    "Occupy Portland, 2011\n",
    "</div>"
   ]
  },
  {
   "cell_type": "markdown",
   "metadata": {},
   "source": [
    "## Our Tools\n",
    "\n",
    "By the early 21st Century, many schools were using various Jupyter Notebook like tools.  One of most impressive was [SAGE](http://www.sagemath.org/), which allowed cloud computing including access to computer algebra systems.\n",
    "\n",
    "[The edu-sig archives](https://mail.python.org/mailman/listinfo/edu-sig) at Python.org is a good place to search for insights into how some high school and college teachers were using such tools, including of course Jupyter Notebooks.\n",
    "\n",
    "Jupyter Notebooks may be rendered in several ways:\n",
    "\n",
    "* locally through a webserver, running on localhost:8888 (most likely), no internet access required\n",
    "* as read-only through a displayer program named nbviewer\n",
    "* rendered as read-only on a host website such as Github\n",
    "* as [interactive in the cloud](https://mybinder.org/), thanks to containerization and microservices\n",
    "\n",
    "Check out [this notebook in nbviewer](https://nbviewer.jupyter.org/github/4dsolutions/School_of_Tomorrow/blob/master/School_of_Tomorrow.ipynb)!\n",
    "\n",
    "Of the above, the first option is the most preferred, because \"interactive\" means only \"the ability to edit and run code cells\" where \"cell\" means some rectangle of code or text, such as you are reading now (if reading a Jupyter Notebook).  \n",
    "\n",
    "If you're running Jupyter Notebook on localhost, you'll be able to start new notebooks from scratch, as well as completely overhaul the ones in your personal stash."
   ]
  },
  {
   "cell_type": "markdown",
   "metadata": {},
   "source": [
    "## Our Toys\n",
    "\n",
    "The Oregon Curriculum Network is not a retailer or direct marketer of educational supplies.  When you visit your medical doctor, you may get a prescription for a specific pill, but you buy those pills from a pharmacy not directly from the doctor. The doctor may give you free samples in some cases.\n",
    "\n",
    "Some of you are teachers and are planning on adapting Oregon Curriculum Network materials for your own use.\n",
    "\n",
    "Toys might include construction kits such as [Zometool](https://www.zometool.com/) and [Lux Blox](https://www.luxblox.com/).\n",
    "\n",
    "<a data-flickr-embed=\"true\"  href=\"https://www.flickr.com/photos/kirbyurner/41342666275/in/photolist-SMW7bY-28ydnGo-YofZgj-XtaH8U-X5Cijd-WPAApj-WsVUEk-25ZiYjX-HxV2Hg-229fY7r-23pkSoG-XpcPhS-Vm65Ub-UAXQdJ-UMPt2h-TKFbUA-UwKvCk-U8RpQF-T6Lv6T-U6GHwx\" title=\"Assembling C6XTY\"><img src=\"https://live.staticflickr.com/971/41342666275_723e2a62a7_z.jpg\" width=\"480\" height=\"640\" alt=\"Assembling C6XTY\"></a><script async src=\"//embedr.flickr.com/assets/client-code.js\" charset=\"utf-8\"></script>\n",
    "\n",
    "<div style=\"text-align: center\">\n",
    "C6XTY at OCN HQS\n",
    "</div>"
   ]
  },
  {
   "cell_type": "code",
   "execution_count": 13,
   "metadata": {},
   "outputs": [],
   "source": [
    "glossary.update({\n",
    "\"CSV\"    : \"comma-separated values, one of the simplest data sharing formats\",\n",
    "\"DOM\"    : \"the Document Object Model is a tree of graph of a document in a web browser\",\n",
    "\"HTML\"   : \"hypertext markup language, almost an XML, defines the DOM in tandem with CSS\",\n",
    "\"JavaScript\" : \"a computer language, not confined to running inside browsers but happy there\",\n",
    "\"Pascal\" : \"an early computer language, later commercially available as Delphi from Borland\",\n",
    "\"json\"   : \"JavaScript Object Notation is a way to save data (compare with XML)\",\n",
    "\"localhost\" : \"the IP address of the host computer: 127.0.0.1\",\n",
    "\"port\" : \"internet services connect through IP:port addresses, JN usually on port 8888\",\n",
    "\"web browser\" : \"HTTP client, sends requests, gets responses\",\n",
    "\"web server\" : \"accepts and processes (or rejects) HTTP requests, sends responses\",\n",
    "\"XML\"    : \"a markup language using pointy brackets, reminiscent of HTML, for structured data\",\n",
    "\"SGML\"   : \"a parent specification behind what eventually became XML\"\n",
    "})"
   ]
  },
  {
   "cell_type": "markdown",
   "metadata": {},
   "source": [
    "Python is a language of objects, where objects have type or kind, species.  Depending on the species of an object, it will have varying capabilities.  Dog objects bark.  Car objects brake.  Python is one of many computer languages we consider \"object oriented\".  \n",
    "\n",
    "### Literary Sidebar\n",
    "\n",
    "HTML didn't come out of nowhere.  Imagine storing all the parts for an airplane in a computer.  How would you do that.  JSON is one answer.  XML is another.  XML grew out of an older [SGML](https://en.wikipedia.org/wiki/Standard_Generalized_Markup_Language) where ML stands for \"markup language\".  In HTML, we use pointy brackets as a kind of punctuation.  \n",
    "\n",
    "The poet [Gene Fowler](https://www.amazon.com/Waking-poet-Acquiring-usually-talents/dp/0941386007) used to say we should teach HTML right along with all the rest of the language, meaning periods, commas, semi-colons and like that (grammar and punctuation).  He wrote a text processor in Pascal showing the kind of thing he meant.  He was [a prisoner in San Quentin](http://www.bigbridge.org/BD-GF-B.HTM) before he discovered how to \"re-genius\" himself.\n",
    "\n",
    "### Sharing Data\n",
    "\n",
    "We'll be sharing a lot of data sets in this school.  We consume data produced by others, and we publish data for others to use.  \n",
    "\n",
    "Data needs to be stored in some structured way, in files and databases.  Even pictures, movies and music are data.  We package up data in files and stream these files to one another over the internet or by some other means.  Computer programs are also stored as data files, usually in some standard text encoding such as UTF-8.\n",
    "\n",
    "In the Glossary above, created in the Python language as a \"dictionary\", you will find at least three data storing and streaming formats defined:  [CSV](https://en.wikipedia.org/wiki/Comma-separated_values), [JSON](https://en.wikipedia.org/wiki/JSON) and [XML](https://en.wikipedia.org/wiki/XML).\n",
    "\n",
    "The above data structure looks a lot like JSON by the way.  Let's see that using Python's json library:"
   ]
  },
  {
   "cell_type": "code",
   "execution_count": 14,
   "metadata": {},
   "outputs": [
    {
     "name": "stdout",
     "output_type": "stream",
     "text": [
      "{\"HTTP\": \"hypertext transfer protocol\", \"TLS\": \"Tr ... came XML\"}\n"
     ]
    }
   ],
   "source": [
    "import json  # Python has a huge library with hundreds of modules\n",
    "send_over_web = json.dumps(glossary)\n",
    "print(send_over_web[:50], \"...\", send_over_web[-10:]) # first 50 chars is enough, then the last 10."
   ]
  },
  {
   "cell_type": "code",
   "execution_count": 15,
   "metadata": {},
   "outputs": [
    {
     "data": {
      "text/plain": [
       "str"
      ]
     },
     "execution_count": 15,
     "metadata": {},
     "output_type": "execute_result"
    }
   ],
   "source": [
    "type(send_over_web)  # what type of object is this?  Number?  String?  Other kind of object?  Dog?"
   ]
  },
  {
   "cell_type": "markdown",
   "metadata": {},
   "source": [
    "#### RECAP\n",
    "\n",
    "We just asked to have our ```glossary``` object turned into a string (a sequence of characters, like keyboard characters), but formatted as JSON.  That ended up looking not much different from the ```glossary``` object in the first place, as defined in the code cell above.\n",
    "\n",
    "When a web browser asks an IP:port address for an HTTP response, by means of an HTTP request, it may get back JSON as payload.  Or it may get back HTML, its bread and butter.  Web browsers are all about combining the HTML + CSS in an HTTP response, and turning that into a formatted and typeset looking web page, such as you're likely looking at right now."
   ]
  },
  {
   "cell_type": "markdown",
   "metadata": {},
   "source": [
    "Lets save our JSON as a text file, for retrieval in [a next notebook](dataviz.ipynb)."
   ]
  },
  {
   "cell_type": "code",
   "execution_count": 16,
   "metadata": {},
   "outputs": [],
   "source": [
    "with open('glossary.json', 'w') as output:\n",
    "    json.dump(glossary, output)"
   ]
  },
  {
   "cell_type": "markdown",
   "metadata": {},
   "source": [
    "### Computer Programming Interlude\n",
    "\n",
    "Lets continue to build or sense of how to slice and dice time using a much trickier coordinate system than most.  Keeping track of date and time is non-trivial.  Our tools took many programmer hours to build.  Keep looking for bugs.  \n",
    "\n",
    "Remember that some concepts we seek to track, such as whether [daylight savings time](https://youtu.be/w45QkL9blG4), or standard time is in effect, may depend on datasets we have not updated recently."
   ]
  },
  {
   "cell_type": "code",
   "execution_count": 17,
   "metadata": {},
   "outputs": [
    {
     "name": "stdout",
     "output_type": "stream",
     "text": [
      "Name: R. Buckminster Fuller  DOB: 1895-07-12  Centennial: 1995-07-12\n",
      "Name: Carl Friedrich Gauss  DOB: 1777-04-30  Centennial: 1877-04-30\n",
      "Name: Stephen Wolfram       DOB: 1959-08-29  Centennial: 2059-08-29\n",
      "Name: Guido van Rossum      DOB: 1956-01-31  Centennial: 2056-01-31\n",
      "Name: Marie Curie           DOB: 1867-11-07  Centennial: 1967-11-07\n",
      "Name: Walt Disney           DOB: 1901-12-05  Centennial: 2001-12-05\n"
     ]
    }
   ],
   "source": [
    "from datetime import timedelta  # for time deltas (needed for size deltas)\n",
    "\n",
    "for person in scenarios.values():\n",
    "    # cent = person.dob + timedelta(days=365 * 100) <-- tempting but wrong\n",
    "    cent = date(person.dob.year + 100, person.dob.month, person.dob.day)\n",
    "    print(\"Name: {:20}  DOB: {}  Centennial: {}\".format(\n",
    "        person.name, person.dob, cent))"
   ]
  },
  {
   "cell_type": "code",
   "execution_count": 18,
   "metadata": {},
   "outputs": [],
   "source": [
    "# help(timedelta)"
   ]
  }
 ],
 "metadata": {
  "kernelspec": {
   "display_name": "Python 3 (ipykernel)",
   "language": "python",
   "name": "python3"
  },
  "language_info": {
   "codemirror_mode": {
    "name": "ipython",
    "version": 3
   },
   "file_extension": ".py",
   "mimetype": "text/x-python",
   "name": "python",
   "nbconvert_exporter": "python",
   "pygments_lexer": "ipython3",
   "version": "3.10.13"
  },
  "widgets": {
   "application/vnd.jupyter.widget-state+json": {
    "state": {},
    "version_major": 2,
    "version_minor": 0
   }
  }
 },
 "nbformat": 4,
 "nbformat_minor": 4
}
