{
 "cells": [
  {
   "cell_type": "markdown",
   "id": "3fff47ba-8753-46f3-94f0-59674629f17d",
   "metadata": {},
   "source": [
    "# Pizza Sales! 🍕\n",
    "\n",
    "Welcome to our Pizza Sales Challenge, here you’ll be playing the role of a Consultant hired by Plato's Pizza, a Greek-inspired pizza place in NYC, to help the restaurant use data to improve operations. You've received the following note:\n",
    "\n",
    "> Welcome aboard, we're so glad you're here to help!\n",
    "> Things are going OK here at Plato's, but there's room for improvement. We've been collecting transactional data for the past year, but really haven't been able to put it to good use. Hoping you can analyze the data and put together a report to help us find opportunities to drive more sales and work more efficiently.\n",
    ">\n",
    "> -Plato, CEO\n",
    "\n",
    "Plato's Pizza has historically been using Excel for their sales reporting needs, but want to see if there could be a more effective, scalable solution. They want to be able to monitor key business metrics such as: \n",
    "\n",
    "* What days and times do we tend to be busiest?\n",
    "* How many pizzas are we making during peak periods?\n",
    "* What are our best and worst-selling pizzas?\n",
    "* What's our average order value?\n",
    "\n",
    "Let's use Atoti to analyze Plato's Pizza sales, and address their operational needs.\n",
    "\n",
    "**💡 Note:** Our pizza dataset comes from [Kaggle](https://www.kaggle.com/datasets/shilongzhuang/pizza-sales/data), feel free to check it out!"
   ]
  },
  {
   "cell_type": "markdown",
   "id": "946d8335-c63a-4bae-a5cc-5c89533550f9",
   "metadata": {},
   "source": [
    "## Import Libraries\n",
    "\n",
    "First off, let's import the necessary libraries."
   ]
  },
  {
   "cell_type": "code",
   "execution_count": 1,
   "id": "2aa389e9-1a5a-42cd-9315-45bf97a41b0b",
   "metadata": {},
   "outputs": [],
   "source": [
    "import atoti\n",
    "import pandas as pd"
   ]
  },
  {
   "cell_type": "markdown",
   "id": "6a7c34a3-c091-494c-b6b8-7c8f29608a45",
   "metadata": {},
   "source": [
    "## Instantiate Atoti Server and UI\n",
    "\n",
    "Now, we'll spin up the Atoti server and link the session to our web-based Atoti UI.\n",
    "\n",
    "**💡 Note:**  https://docs.atoti.io/latest/api/atoti.Session.html#atoti.Session"
   ]
  },
  {
   "cell_type": "code",
   "execution_count": 2,
   "id": "50b174f8-ce5e-4a45-a62f-f12d59b2a2c8",
   "metadata": {},
   "outputs": [
    {
     "data": {
      "application/vnd.atoti.link.v0+json": {
       "path": "",
       "sessionLocation": {
        "https": false,
        "port": 9092
       }
      },
      "text/markdown": [
       "http://localhost:9092\n",
       "\n",
       "_Note_: This is the session's local URL: it may not be reachable if Atoti is running on another machine."
      ],
      "text/plain": [
       "http://localhost:9092 (This is the session's local URL: it may not be reachable if Atoti is running on another machine.)"
      ]
     },
     "execution_count": 2,
     "metadata": {},
     "output_type": "execute_result"
    }
   ],
   "source": [
    "# Start an Atoti Server instance\n",
    "session = atoti.Session(\n",
    "    user_content_storage=\"./content\",\n",
    "    port=9092,\n",
    "    java_options=[\"-Xms1G\", \"-Xmx10G\"],\n",
    ")\n",
    "session.link"
   ]
  },
  {
   "cell_type": "markdown",
   "id": "6b39f719-9784-42c4-ad91-d23a0524715a",
   "metadata": {},
   "source": [
    "## Inspect Data Quality Using Pandas\n",
    "\n",
    "Next, let's load up Pandas to quickly take a look at the pizza sales data, inspect it's quality, and make quick formatting changes if need be."
   ]
  },
  {
   "cell_type": "code",
   "execution_count": 3,
   "id": "b07beac5-0f02-4ed4-9a85-39587f819ee8",
   "metadata": {},
   "outputs": [
    {
     "data": {
      "text/html": [
       "<div>\n",
       "<style scoped>\n",
       "    .dataframe tbody tr th:only-of-type {\n",
       "        vertical-align: middle;\n",
       "    }\n",
       "\n",
       "    .dataframe tbody tr th {\n",
       "        vertical-align: top;\n",
       "    }\n",
       "\n",
       "    .dataframe thead th {\n",
       "        text-align: right;\n",
       "    }\n",
       "</style>\n",
       "<table border=\"1\" class=\"dataframe\">\n",
       "  <thead>\n",
       "    <tr style=\"text-align: right;\">\n",
       "      <th></th>\n",
       "      <th>order_details_id</th>\n",
       "      <th>order_id</th>\n",
       "      <th>pizza_id</th>\n",
       "      <th>quantity</th>\n",
       "      <th>order_date</th>\n",
       "      <th>order_time</th>\n",
       "      <th>unit_price</th>\n",
       "      <th>total_price</th>\n",
       "      <th>pizza_size</th>\n",
       "      <th>pizza_category</th>\n",
       "      <th>pizza_ingredients</th>\n",
       "      <th>pizza_name</th>\n",
       "    </tr>\n",
       "  </thead>\n",
       "  <tbody>\n",
       "    <tr>\n",
       "      <th>0</th>\n",
       "      <td>1</td>\n",
       "      <td>1</td>\n",
       "      <td>hawaiian_m</td>\n",
       "      <td>1</td>\n",
       "      <td>1/1/15</td>\n",
       "      <td>11:38:36</td>\n",
       "      <td>13.25</td>\n",
       "      <td>13.25</td>\n",
       "      <td>M</td>\n",
       "      <td>Classic</td>\n",
       "      <td>Sliced Ham, Pineapple, Mozzarella Cheese</td>\n",
       "      <td>The Hawaiian Pizza</td>\n",
       "    </tr>\n",
       "    <tr>\n",
       "      <th>1</th>\n",
       "      <td>2</td>\n",
       "      <td>2</td>\n",
       "      <td>classic_dlx_m</td>\n",
       "      <td>1</td>\n",
       "      <td>1/1/15</td>\n",
       "      <td>11:57:40</td>\n",
       "      <td>16.00</td>\n",
       "      <td>16.00</td>\n",
       "      <td>M</td>\n",
       "      <td>Classic</td>\n",
       "      <td>Pepperoni, Mushrooms, Red Onions, Red Peppers,...</td>\n",
       "      <td>The Classic Deluxe Pizza</td>\n",
       "    </tr>\n",
       "    <tr>\n",
       "      <th>2</th>\n",
       "      <td>3</td>\n",
       "      <td>2</td>\n",
       "      <td>five_cheese_l</td>\n",
       "      <td>1</td>\n",
       "      <td>1/1/15</td>\n",
       "      <td>11:57:40</td>\n",
       "      <td>18.50</td>\n",
       "      <td>18.50</td>\n",
       "      <td>L</td>\n",
       "      <td>Veggie</td>\n",
       "      <td>Mozzarella Cheese, Provolone Cheese, Smoked Go...</td>\n",
       "      <td>The Five Cheese Pizza</td>\n",
       "    </tr>\n",
       "    <tr>\n",
       "      <th>3</th>\n",
       "      <td>4</td>\n",
       "      <td>2</td>\n",
       "      <td>ital_supr_l</td>\n",
       "      <td>1</td>\n",
       "      <td>1/1/15</td>\n",
       "      <td>11:57:40</td>\n",
       "      <td>20.75</td>\n",
       "      <td>20.75</td>\n",
       "      <td>L</td>\n",
       "      <td>Supreme</td>\n",
       "      <td>Calabrese Salami, Capocollo, Tomatoes, Red Oni...</td>\n",
       "      <td>The Italian Supreme Pizza</td>\n",
       "    </tr>\n",
       "    <tr>\n",
       "      <th>4</th>\n",
       "      <td>5</td>\n",
       "      <td>2</td>\n",
       "      <td>mexicana_m</td>\n",
       "      <td>1</td>\n",
       "      <td>1/1/15</td>\n",
       "      <td>11:57:40</td>\n",
       "      <td>16.00</td>\n",
       "      <td>16.00</td>\n",
       "      <td>M</td>\n",
       "      <td>Veggie</td>\n",
       "      <td>Tomatoes, Red Peppers, Jalapeno Peppers, Red O...</td>\n",
       "      <td>The Mexicana Pizza</td>\n",
       "    </tr>\n",
       "  </tbody>\n",
       "</table>\n",
       "</div>"
      ],
      "text/plain": [
       "   order_details_id  order_id       pizza_id  quantity order_date order_time  \\\n",
       "0                 1         1     hawaiian_m         1     1/1/15   11:38:36   \n",
       "1                 2         2  classic_dlx_m         1     1/1/15   11:57:40   \n",
       "2                 3         2  five_cheese_l         1     1/1/15   11:57:40   \n",
       "3                 4         2    ital_supr_l         1     1/1/15   11:57:40   \n",
       "4                 5         2     mexicana_m         1     1/1/15   11:57:40   \n",
       "\n",
       "   unit_price  total_price pizza_size pizza_category  \\\n",
       "0       13.25        13.25          M        Classic   \n",
       "1       16.00        16.00          M        Classic   \n",
       "2       18.50        18.50          L         Veggie   \n",
       "3       20.75        20.75          L        Supreme   \n",
       "4       16.00        16.00          M         Veggie   \n",
       "\n",
       "                                   pizza_ingredients  \\\n",
       "0           Sliced Ham, Pineapple, Mozzarella Cheese   \n",
       "1  Pepperoni, Mushrooms, Red Onions, Red Peppers,...   \n",
       "2  Mozzarella Cheese, Provolone Cheese, Smoked Go...   \n",
       "3  Calabrese Salami, Capocollo, Tomatoes, Red Oni...   \n",
       "4  Tomatoes, Red Peppers, Jalapeno Peppers, Red O...   \n",
       "\n",
       "                  pizza_name  \n",
       "0         The Hawaiian Pizza  \n",
       "1   The Classic Deluxe Pizza  \n",
       "2      The Five Cheese Pizza  \n",
       "3  The Italian Supreme Pizza  \n",
       "4         The Mexicana Pizza  "
      ]
     },
     "execution_count": 3,
     "metadata": {},
     "output_type": "execute_result"
    }
   ],
   "source": [
    "# Read CSV into Pandas DataFrame\n",
    "pizza_sales_df = pd.read_csv(\"s3://data.atoti.io/notebooks/pizza-sales/pizza_sales.csv\")\n",
    "pizza_sales_df.head()"
   ]
  },
  {
   "cell_type": "markdown",
   "id": "64c843f2-085a-4540-99e8-b1eabce50571",
   "metadata": {},
   "source": [
    "Nice, looks like we're working with some pretty intact data."
   ]
  },
  {
   "cell_type": "code",
   "execution_count": 4,
   "id": "d88ebed4-ba96-4493-97c8-93e7ed3219e2",
   "metadata": {},
   "outputs": [
    {
     "data": {
      "text/plain": [
       "order_details_id     0\n",
       "order_id             0\n",
       "pizza_id             0\n",
       "quantity             0\n",
       "order_date           0\n",
       "order_time           0\n",
       "unit_price           0\n",
       "total_price          0\n",
       "pizza_size           0\n",
       "pizza_category       0\n",
       "pizza_ingredients    0\n",
       "pizza_name           0\n",
       "dtype: int64"
      ]
     },
     "execution_count": 4,
     "metadata": {},
     "output_type": "execute_result"
    }
   ],
   "source": [
    "# Check null counts for each column\n",
    "pizza_sales_df.isnull().sum(axis=0)"
   ]
  },
  {
   "cell_type": "markdown",
   "id": "7b516ab3-0622-4895-b487-c9d333e38040",
   "metadata": {},
   "source": [
    "Let's take a look at the data types of our columns to see the intended hierarchies vs. measures (non-numerical vs. numerical columns) that Atoti will use when loaded."
   ]
  },
  {
   "cell_type": "code",
   "execution_count": 5,
   "id": "a1fbefb0-b441-4e2b-81ce-cdb78af09daf",
   "metadata": {},
   "outputs": [
    {
     "data": {
      "text/plain": [
       "order_details_id       int64\n",
       "order_id               int64\n",
       "pizza_id              object\n",
       "quantity               int64\n",
       "order_date            object\n",
       "order_time            object\n",
       "unit_price           float64\n",
       "total_price          float64\n",
       "pizza_size            object\n",
       "pizza_category        object\n",
       "pizza_ingredients     object\n",
       "pizza_name            object\n",
       "dtype: object"
      ]
     },
     "execution_count": 5,
     "metadata": {},
     "output_type": "execute_result"
    }
   ],
   "source": [
    "# Check column data types\n",
    "pizza_sales_df.dtypes"
   ]
  },
  {
   "cell_type": "markdown",
   "id": "08534124-91bc-4e85-8506-e79ce42a7e37",
   "metadata": {},
   "source": [
    "## Format Data in Pandas\n",
    "\n",
    "Upon inspection, it looks like a few things need to be updated:\n",
    "\n",
    "* Our `order_date` column needs to be set to a DateTime data type.\n",
    "* Intended hierarchies set as numerical data types should be set as strings for Atoti (e.g. no need to aggregate order ids!)\n",
    "\n",
    "**💡 Note:**  https://docs.atoti.io/latest/getting_started/tutorial/tutorial.html#Multidimensional-concepts"
   ]
  },
  {
   "cell_type": "code",
   "execution_count": 6,
   "id": "651bc1c3-a49f-470d-aa75-23dbe0760773",
   "metadata": {},
   "outputs": [
    {
     "data": {
      "text/html": [
       "<div>\n",
       "<style scoped>\n",
       "    .dataframe tbody tr th:only-of-type {\n",
       "        vertical-align: middle;\n",
       "    }\n",
       "\n",
       "    .dataframe tbody tr th {\n",
       "        vertical-align: top;\n",
       "    }\n",
       "\n",
       "    .dataframe thead th {\n",
       "        text-align: right;\n",
       "    }\n",
       "</style>\n",
       "<table border=\"1\" class=\"dataframe\">\n",
       "  <thead>\n",
       "    <tr style=\"text-align: right;\">\n",
       "      <th></th>\n",
       "      <th>order_details_id</th>\n",
       "      <th>order_id</th>\n",
       "      <th>pizza_id</th>\n",
       "      <th>quantity</th>\n",
       "      <th>order_date</th>\n",
       "      <th>order_time</th>\n",
       "      <th>unit_price</th>\n",
       "      <th>total_price</th>\n",
       "      <th>pizza_size</th>\n",
       "      <th>pizza_category</th>\n",
       "      <th>pizza_ingredients</th>\n",
       "      <th>pizza_name</th>\n",
       "      <th>order_datetime</th>\n",
       "    </tr>\n",
       "  </thead>\n",
       "  <tbody>\n",
       "    <tr>\n",
       "      <th>0</th>\n",
       "      <td>1</td>\n",
       "      <td>1</td>\n",
       "      <td>hawaiian_m</td>\n",
       "      <td>1</td>\n",
       "      <td>1/1/15</td>\n",
       "      <td>11:38:36</td>\n",
       "      <td>13.25</td>\n",
       "      <td>13.25</td>\n",
       "      <td>M</td>\n",
       "      <td>Classic</td>\n",
       "      <td>Sliced Ham, Pineapple, Mozzarella Cheese</td>\n",
       "      <td>The Hawaiian Pizza</td>\n",
       "      <td>2015-01-01 11:38:36</td>\n",
       "    </tr>\n",
       "    <tr>\n",
       "      <th>1</th>\n",
       "      <td>2</td>\n",
       "      <td>2</td>\n",
       "      <td>classic_dlx_m</td>\n",
       "      <td>1</td>\n",
       "      <td>1/1/15</td>\n",
       "      <td>11:57:40</td>\n",
       "      <td>16.00</td>\n",
       "      <td>16.00</td>\n",
       "      <td>M</td>\n",
       "      <td>Classic</td>\n",
       "      <td>Pepperoni, Mushrooms, Red Onions, Red Peppers,...</td>\n",
       "      <td>The Classic Deluxe Pizza</td>\n",
       "      <td>2015-01-01 11:57:40</td>\n",
       "    </tr>\n",
       "    <tr>\n",
       "      <th>2</th>\n",
       "      <td>3</td>\n",
       "      <td>2</td>\n",
       "      <td>five_cheese_l</td>\n",
       "      <td>1</td>\n",
       "      <td>1/1/15</td>\n",
       "      <td>11:57:40</td>\n",
       "      <td>18.50</td>\n",
       "      <td>18.50</td>\n",
       "      <td>L</td>\n",
       "      <td>Veggie</td>\n",
       "      <td>Mozzarella Cheese, Provolone Cheese, Smoked Go...</td>\n",
       "      <td>The Five Cheese Pizza</td>\n",
       "      <td>2015-01-01 11:57:40</td>\n",
       "    </tr>\n",
       "    <tr>\n",
       "      <th>3</th>\n",
       "      <td>4</td>\n",
       "      <td>2</td>\n",
       "      <td>ital_supr_l</td>\n",
       "      <td>1</td>\n",
       "      <td>1/1/15</td>\n",
       "      <td>11:57:40</td>\n",
       "      <td>20.75</td>\n",
       "      <td>20.75</td>\n",
       "      <td>L</td>\n",
       "      <td>Supreme</td>\n",
       "      <td>Calabrese Salami, Capocollo, Tomatoes, Red Oni...</td>\n",
       "      <td>The Italian Supreme Pizza</td>\n",
       "      <td>2015-01-01 11:57:40</td>\n",
       "    </tr>\n",
       "    <tr>\n",
       "      <th>4</th>\n",
       "      <td>5</td>\n",
       "      <td>2</td>\n",
       "      <td>mexicana_m</td>\n",
       "      <td>1</td>\n",
       "      <td>1/1/15</td>\n",
       "      <td>11:57:40</td>\n",
       "      <td>16.00</td>\n",
       "      <td>16.00</td>\n",
       "      <td>M</td>\n",
       "      <td>Veggie</td>\n",
       "      <td>Tomatoes, Red Peppers, Jalapeno Peppers, Red O...</td>\n",
       "      <td>The Mexicana Pizza</td>\n",
       "      <td>2015-01-01 11:57:40</td>\n",
       "    </tr>\n",
       "  </tbody>\n",
       "</table>\n",
       "</div>"
      ],
      "text/plain": [
       "  order_details_id order_id       pizza_id  quantity order_date order_time  \\\n",
       "0                1        1     hawaiian_m         1     1/1/15   11:38:36   \n",
       "1                2        2  classic_dlx_m         1     1/1/15   11:57:40   \n",
       "2                3        2  five_cheese_l         1     1/1/15   11:57:40   \n",
       "3                4        2    ital_supr_l         1     1/1/15   11:57:40   \n",
       "4                5        2     mexicana_m         1     1/1/15   11:57:40   \n",
       "\n",
       "   unit_price  total_price pizza_size pizza_category  \\\n",
       "0       13.25        13.25          M        Classic   \n",
       "1       16.00        16.00          M        Classic   \n",
       "2       18.50        18.50          L         Veggie   \n",
       "3       20.75        20.75          L        Supreme   \n",
       "4       16.00        16.00          M         Veggie   \n",
       "\n",
       "                                   pizza_ingredients  \\\n",
       "0           Sliced Ham, Pineapple, Mozzarella Cheese   \n",
       "1  Pepperoni, Mushrooms, Red Onions, Red Peppers,...   \n",
       "2  Mozzarella Cheese, Provolone Cheese, Smoked Go...   \n",
       "3  Calabrese Salami, Capocollo, Tomatoes, Red Oni...   \n",
       "4  Tomatoes, Red Peppers, Jalapeno Peppers, Red O...   \n",
       "\n",
       "                  pizza_name      order_datetime  \n",
       "0         The Hawaiian Pizza 2015-01-01 11:38:36  \n",
       "1   The Classic Deluxe Pizza 2015-01-01 11:57:40  \n",
       "2      The Five Cheese Pizza 2015-01-01 11:57:40  \n",
       "3  The Italian Supreme Pizza 2015-01-01 11:57:40  \n",
       "4         The Mexicana Pizza 2015-01-01 11:57:40  "
      ]
     },
     "execution_count": 6,
     "metadata": {},
     "output_type": "execute_result"
    }
   ],
   "source": [
    "# Convert string to datetime and set day of the week (e.g. Monday=0, Sunday=6)\n",
    "pizza_sales_df[\"order_datetime\"] = pd.to_datetime(\n",
    "    pizza_sales_df[\"order_date\"] + \" \" + pizza_sales_df[\"order_time\"], format=\"mixed\"\n",
    ")\n",
    "\n",
    "# Cast as string data types and view modified DataFrame\n",
    "pizza_sales_df[\"order_details_id\"] = pizza_sales_df[\"order_details_id\"].astype(str)\n",
    "pizza_sales_df[\"order_id\"] = pizza_sales_df[\"order_id\"].astype(str)\n",
    "pizza_sales_df.head()"
   ]
  },
  {
   "cell_type": "markdown",
   "id": "44bfd665-4d15-43c9-98cd-7f14c2cf0a0f",
   "metadata": {},
   "source": [
    "Lastly, let's take a look at our column data types again to verify our data formatting. Great, looks like our changes went through!"
   ]
  },
  {
   "cell_type": "code",
   "execution_count": 7,
   "id": "375b9d42-ae3e-43eb-b365-a405cf8a5dc5",
   "metadata": {},
   "outputs": [
    {
     "data": {
      "text/plain": [
       "order_details_id             object\n",
       "order_id                     object\n",
       "pizza_id                     object\n",
       "quantity                      int64\n",
       "order_date                   object\n",
       "order_time                   object\n",
       "unit_price                  float64\n",
       "total_price                 float64\n",
       "pizza_size                   object\n",
       "pizza_category               object\n",
       "pizza_ingredients            object\n",
       "pizza_name                   object\n",
       "order_datetime       datetime64[ns]\n",
       "dtype: object"
      ]
     },
     "execution_count": 7,
     "metadata": {},
     "output_type": "execute_result"
    }
   ],
   "source": [
    "# Check new column data types\n",
    "pizza_sales_df.dtypes"
   ]
  },
  {
   "cell_type": "markdown",
   "id": "d35c1921-0ebf-4526-9ec1-ee346a39ba9e",
   "metadata": {},
   "source": [
    "## Load Pandas DataFrame Into Atoti Cube\n",
    "\n",
    "Now, let's load our formatted data from our Pandas DataFrame to an Atoti table using the `read_pandas()` function, verify that the data was loaded properly, and create our Atoti cube.\n",
    "\n",
    "**💡 Note:**  https://docs.atoti.io/latest/api/atoti.Session.read_pandas.html#atoti.Session.read_pandas"
   ]
  },
  {
   "cell_type": "code",
   "execution_count": 8,
   "id": "bc989133-1cfa-44cd-a930-c055698154ac",
   "metadata": {},
   "outputs": [
    {
     "data": {
      "text/html": [
       "<div>\n",
       "<style scoped>\n",
       "    .dataframe tbody tr th:only-of-type {\n",
       "        vertical-align: middle;\n",
       "    }\n",
       "\n",
       "    .dataframe tbody tr th {\n",
       "        vertical-align: top;\n",
       "    }\n",
       "\n",
       "    .dataframe thead th {\n",
       "        text-align: right;\n",
       "    }\n",
       "</style>\n",
       "<table border=\"1\" class=\"dataframe\">\n",
       "  <thead>\n",
       "    <tr style=\"text-align: right;\">\n",
       "      <th></th>\n",
       "      <th>order_id</th>\n",
       "      <th>pizza_id</th>\n",
       "      <th>quantity</th>\n",
       "      <th>order_date</th>\n",
       "      <th>order_time</th>\n",
       "      <th>unit_price</th>\n",
       "      <th>total_price</th>\n",
       "      <th>pizza_size</th>\n",
       "      <th>pizza_category</th>\n",
       "      <th>pizza_ingredients</th>\n",
       "      <th>pizza_name</th>\n",
       "      <th>order_datetime</th>\n",
       "    </tr>\n",
       "    <tr>\n",
       "      <th>order_details_id</th>\n",
       "      <th></th>\n",
       "      <th></th>\n",
       "      <th></th>\n",
       "      <th></th>\n",
       "      <th></th>\n",
       "      <th></th>\n",
       "      <th></th>\n",
       "      <th></th>\n",
       "      <th></th>\n",
       "      <th></th>\n",
       "      <th></th>\n",
       "      <th></th>\n",
       "    </tr>\n",
       "  </thead>\n",
       "  <tbody>\n",
       "    <tr>\n",
       "      <th>13</th>\n",
       "      <td>7</td>\n",
       "      <td>spinach_supr_s</td>\n",
       "      <td>1</td>\n",
       "      <td>1/1/15</td>\n",
       "      <td>12:50:37</td>\n",
       "      <td>12.5</td>\n",
       "      <td>12.5</td>\n",
       "      <td>S</td>\n",
       "      <td>Supreme</td>\n",
       "      <td>Spinach, Red Onions, Pepperoni, Tomatoes, Arti...</td>\n",
       "      <td>The Spinach Supreme Pizza</td>\n",
       "      <td>2015-01-01 12:50:37</td>\n",
       "    </tr>\n",
       "    <tr>\n",
       "      <th>27</th>\n",
       "      <td>11</td>\n",
       "      <td>cali_ckn_l</td>\n",
       "      <td>1</td>\n",
       "      <td>1/1/15</td>\n",
       "      <td>13:02:59</td>\n",
       "      <td>20.75</td>\n",
       "      <td>20.75</td>\n",
       "      <td>L</td>\n",
       "      <td>Chicken</td>\n",
       "      <td>Chicken, Artichoke, Spinach, Garlic, Jalapeno ...</td>\n",
       "      <td>The California Chicken Pizza</td>\n",
       "      <td>2015-01-01 13:02:59</td>\n",
       "    </tr>\n",
       "    <tr>\n",
       "      <th>41</th>\n",
       "      <td>16</td>\n",
       "      <td>napolitana_s</td>\n",
       "      <td>1</td>\n",
       "      <td>1/1/15</td>\n",
       "      <td>13:34:07</td>\n",
       "      <td>12.0</td>\n",
       "      <td>12.0</td>\n",
       "      <td>S</td>\n",
       "      <td>Classic</td>\n",
       "      <td>Tomatoes, Anchovies, Green Olives, Red Onions,...</td>\n",
       "      <td>The Napolitana Pizza</td>\n",
       "      <td>2015-01-01 13:34:07</td>\n",
       "    </tr>\n",
       "    <tr>\n",
       "      <th>55</th>\n",
       "      <td>19</td>\n",
       "      <td>sicilian_l</td>\n",
       "      <td>1</td>\n",
       "      <td>1/1/15</td>\n",
       "      <td>13:59:09</td>\n",
       "      <td>20.25</td>\n",
       "      <td>20.25</td>\n",
       "      <td>L</td>\n",
       "      <td>Supreme</td>\n",
       "      <td>Coarse Sicilian Salami, Tomatoes, Green Olives...</td>\n",
       "      <td>The Sicilian Pizza</td>\n",
       "      <td>2015-01-01 13:59:09</td>\n",
       "    </tr>\n",
       "    <tr>\n",
       "      <th>69</th>\n",
       "      <td>26</td>\n",
       "      <td>classic_dlx_s</td>\n",
       "      <td>1</td>\n",
       "      <td>1/1/15</td>\n",
       "      <td>14:54:26</td>\n",
       "      <td>12.0</td>\n",
       "      <td>12.0</td>\n",
       "      <td>S</td>\n",
       "      <td>Classic</td>\n",
       "      <td>Pepperoni, Mushrooms, Red Onions, Red Peppers,...</td>\n",
       "      <td>The Classic Deluxe Pizza</td>\n",
       "      <td>2015-01-01 14:54:26</td>\n",
       "    </tr>\n",
       "  </tbody>\n",
       "</table>\n",
       "</div>"
      ],
      "text/plain": [
       "                 order_id        pizza_id  quantity order_date order_time  \\\n",
       "order_details_id                                                            \n",
       "13                      7  spinach_supr_s         1     1/1/15   12:50:37   \n",
       "27                     11      cali_ckn_l         1     1/1/15   13:02:59   \n",
       "41                     16    napolitana_s         1     1/1/15   13:34:07   \n",
       "55                     19      sicilian_l         1     1/1/15   13:59:09   \n",
       "69                     26   classic_dlx_s         1     1/1/15   14:54:26   \n",
       "\n",
       "                  unit_price  total_price pizza_size pizza_category  \\\n",
       "order_details_id                                                      \n",
       "13                      12.5         12.5          S        Supreme   \n",
       "27                     20.75        20.75          L        Chicken   \n",
       "41                      12.0         12.0          S        Classic   \n",
       "55                     20.25        20.25          L        Supreme   \n",
       "69                      12.0         12.0          S        Classic   \n",
       "\n",
       "                                                  pizza_ingredients  \\\n",
       "order_details_id                                                      \n",
       "13                Spinach, Red Onions, Pepperoni, Tomatoes, Arti...   \n",
       "27                Chicken, Artichoke, Spinach, Garlic, Jalapeno ...   \n",
       "41                Tomatoes, Anchovies, Green Olives, Red Onions,...   \n",
       "55                Coarse Sicilian Salami, Tomatoes, Green Olives...   \n",
       "69                Pepperoni, Mushrooms, Red Onions, Red Peppers,...   \n",
       "\n",
       "                                    pizza_name      order_datetime  \n",
       "order_details_id                                                    \n",
       "13                   The Spinach Supreme Pizza 2015-01-01 12:50:37  \n",
       "27                The California Chicken Pizza 2015-01-01 13:02:59  \n",
       "41                        The Napolitana Pizza 2015-01-01 13:34:07  \n",
       "55                          The Sicilian Pizza 2015-01-01 13:59:09  \n",
       "69                    The Classic Deluxe Pizza 2015-01-01 14:54:26  "
      ]
     },
     "execution_count": 8,
     "metadata": {},
     "output_type": "execute_result"
    }
   ],
   "source": [
    "# Load Pandas DataFrame as Atoti Table object\n",
    "pizza_sales_table = session.read_pandas(\n",
    "    pizza_sales_df, table_name=\"pizza_sales_table\", keys=[\"order_details_id\"]\n",
    ")\n",
    "pizza_sales_table.head()"
   ]
  },
  {
   "cell_type": "markdown",
   "id": "6fad4cf6-bde9-44ea-abc7-8de2bc91ee4d",
   "metadata": {},
   "source": [
    "**💡 Note:**  https://docs.atoti.io/latest/api/atoti.Session.create_cube.html#atoti.Session.create_cube"
   ]
  },
  {
   "cell_type": "code",
   "execution_count": 9,
   "id": "1d455c49-4997-4406-a523-3f76eb0052f0",
   "metadata": {},
   "outputs": [],
   "source": [
    "# Create Cube from Atoti Table object\n",
    "cube = session.create_cube(pizza_sales_table)"
   ]
  },
  {
   "cell_type": "markdown",
   "id": "e8d9b7c4-f3be-43ff-b9c0-7625ab34c286",
   "metadata": {},
   "source": [
    "## Cube Data Model Analysis\n",
    "\n",
    "Now, let's verify the cube has been set up properly, and take a look at the schema of the cube, along with the hierarchies, levels, and measures automatically created."
   ]
  },
  {
   "cell_type": "code",
   "execution_count": 10,
   "id": "30162e03-a45f-4fa6-82bf-bfe594f4a9b6",
   "metadata": {},
   "outputs": [
    {
     "data": {
      "image/svg+xml": [
       "<svg xmlns=\"http://www.w3.org/2000/svg\" xmlns:xlink=\"http://www.w3.org/1999/xlink\" width=\"272px\" height=\"366px\" viewBox=\"0.00 0.00 272.00 366.00\">\n",
       "<g id=\"graph0\" class=\"graph\" transform=\"scale(1.0 1.0) rotate(0) translate(4 362)\">\n",
       "<title>Datastore schema</title>\n",
       "<polygon fill=\"white\" stroke=\"none\" points=\"-4,4 -4,-362 268,-362 268,4 -4,4\"/>\n",
       "<!-- pizza_sales_table -->\n",
       "<g id=\"node1\" class=\"node\">\n",
       "<title>pizza_sales_table</title>\n",
       "<text text-anchor=\"start\" x=\"75.38\" y=\"-336.65\" font-family=\"-apple-system, BlinkMacSystemFont, 'Segoe UI', Helvetica, Arial, sans-serif, 'Apple Color Emoji', 'Segoe UI Emoji', 'Segoe UI Symbol'\" font-weight=\"bold\" font-size=\"13.00\">pizza_sales_table</text>\n",
       "<text text-anchor=\"start\" x=\"52.5\" y=\"-310.65\" font-family=\"-apple-system, BlinkMacSystemFont, 'Segoe UI', Helvetica, Arial, sans-serif, 'Apple Color Emoji', 'Segoe UI Emoji', 'Segoe UI Symbol'\" font-size=\"13.00\">base of: pizza_sales_table</text>\n",
       "<polygon fill=\"#f5f5f5\" stroke=\"none\" points=\"9,-281 9,-304 41,-304 41,-281 9,-281\"/>\n",
       "<text text-anchor=\"start\" x=\"13.75\" y=\"-287.65\" font-family=\"-apple-system, BlinkMacSystemFont, 'Segoe UI', Helvetica, Arial, sans-serif, 'Apple Color Emoji', 'Segoe UI Emoji', 'Segoe UI Symbol'\" font-weight=\"bold\" font-size=\"13.00\">key</text>\n",
       "<polygon fill=\"#f5f5f5\" stroke=\"none\" points=\"41,-281 41,-304 156,-304 156,-281 41,-281\"/>\n",
       "<text text-anchor=\"start\" x=\"46\" y=\"-286.65\" font-family=\"-apple-system, BlinkMacSystemFont, 'Segoe UI', Helvetica, Arial, sans-serif, 'Apple Color Emoji', 'Segoe UI Emoji', 'Segoe UI Symbol'\" font-size=\"13.00\">order_details_id</text>\n",
       "<polygon fill=\"#f5f5f5\" stroke=\"none\" points=\"156,-281 156,-304 255,-304 255,-281 156,-281\"/>\n",
       "<text text-anchor=\"start\" x=\"217\" y=\"-287.65\" font-family=\"-apple-system, BlinkMacSystemFont, 'Segoe UI', Helvetica, Arial, sans-serif, 'Apple Color Emoji', 'Segoe UI Emoji', 'Segoe UI Symbol'\" font-style=\"italic\" font-size=\"13.00\">string</text>\n",
       "<polygon fill=\"#ffffff\" stroke=\"none\" points=\"9,-258 9,-281 41,-281 41,-258 9,-258\"/>\n",
       "<polygon fill=\"#ffffff\" stroke=\"none\" points=\"41,-258 41,-281 156,-281 156,-258 41,-258\"/>\n",
       "<text text-anchor=\"start\" x=\"46\" y=\"-263.65\" font-family=\"-apple-system, BlinkMacSystemFont, 'Segoe UI', Helvetica, Arial, sans-serif, 'Apple Color Emoji', 'Segoe UI Emoji', 'Segoe UI Symbol'\" font-size=\"13.00\">order_id</text>\n",
       "<polygon fill=\"#ffffff\" stroke=\"none\" points=\"156,-258 156,-281 255,-281 255,-258 156,-258\"/>\n",
       "<text text-anchor=\"start\" x=\"217\" y=\"-264.65\" font-family=\"-apple-system, BlinkMacSystemFont, 'Segoe UI', Helvetica, Arial, sans-serif, 'Apple Color Emoji', 'Segoe UI Emoji', 'Segoe UI Symbol'\" font-style=\"italic\" font-size=\"13.00\">string</text>\n",
       "<polygon fill=\"#f5f5f5\" stroke=\"none\" points=\"9,-235 9,-258 41,-258 41,-235 9,-235\"/>\n",
       "<polygon fill=\"#f5f5f5\" stroke=\"none\" points=\"41,-235 41,-258 156,-258 156,-235 41,-235\"/>\n",
       "<text text-anchor=\"start\" x=\"46\" y=\"-240.65\" font-family=\"-apple-system, BlinkMacSystemFont, 'Segoe UI', Helvetica, Arial, sans-serif, 'Apple Color Emoji', 'Segoe UI Emoji', 'Segoe UI Symbol'\" font-size=\"13.00\">pizza_id</text>\n",
       "<polygon fill=\"#f5f5f5\" stroke=\"none\" points=\"156,-235 156,-258 255,-258 255,-235 156,-235\"/>\n",
       "<text text-anchor=\"start\" x=\"217\" y=\"-241.65\" font-family=\"-apple-system, BlinkMacSystemFont, 'Segoe UI', Helvetica, Arial, sans-serif, 'Apple Color Emoji', 'Segoe UI Emoji', 'Segoe UI Symbol'\" font-style=\"italic\" font-size=\"13.00\">string</text>\n",
       "<polygon fill=\"#ffffff\" stroke=\"none\" points=\"9,-212 9,-235 41,-235 41,-212 9,-212\"/>\n",
       "<polygon fill=\"#ffffff\" stroke=\"none\" points=\"41,-212 41,-235 156,-235 156,-212 41,-212\"/>\n",
       "<text text-anchor=\"start\" x=\"46\" y=\"-217.65\" font-family=\"-apple-system, BlinkMacSystemFont, 'Segoe UI', Helvetica, Arial, sans-serif, 'Apple Color Emoji', 'Segoe UI Emoji', 'Segoe UI Symbol'\" font-size=\"13.00\">quantity</text>\n",
       "<polygon fill=\"#ffffff\" stroke=\"none\" points=\"156,-212 156,-235 255,-235 255,-212 156,-212\"/>\n",
       "<text text-anchor=\"start\" x=\"224.5\" y=\"-218.65\" font-family=\"-apple-system, BlinkMacSystemFont, 'Segoe UI', Helvetica, Arial, sans-serif, 'Apple Color Emoji', 'Segoe UI Emoji', 'Segoe UI Symbol'\" font-style=\"italic\" font-size=\"13.00\">long</text>\n",
       "<polygon fill=\"#f5f5f5\" stroke=\"none\" points=\"9,-189 9,-212 41,-212 41,-189 9,-189\"/>\n",
       "<polygon fill=\"#f5f5f5\" stroke=\"none\" points=\"41,-189 41,-212 156,-212 156,-189 41,-189\"/>\n",
       "<text text-anchor=\"start\" x=\"46\" y=\"-194.65\" font-family=\"-apple-system, BlinkMacSystemFont, 'Segoe UI', Helvetica, Arial, sans-serif, 'Apple Color Emoji', 'Segoe UI Emoji', 'Segoe UI Symbol'\" font-size=\"13.00\">order_date</text>\n",
       "<polygon fill=\"#f5f5f5\" stroke=\"none\" points=\"156,-189 156,-212 255,-212 255,-189 156,-189\"/>\n",
       "<text text-anchor=\"start\" x=\"217\" y=\"-195.65\" font-family=\"-apple-system, BlinkMacSystemFont, 'Segoe UI', Helvetica, Arial, sans-serif, 'Apple Color Emoji', 'Segoe UI Emoji', 'Segoe UI Symbol'\" font-style=\"italic\" font-size=\"13.00\">string</text>\n",
       "<polygon fill=\"#ffffff\" stroke=\"none\" points=\"9,-166 9,-189 41,-189 41,-166 9,-166\"/>\n",
       "<polygon fill=\"#ffffff\" stroke=\"none\" points=\"41,-166 41,-189 156,-189 156,-166 41,-166\"/>\n",
       "<text text-anchor=\"start\" x=\"46\" y=\"-171.65\" font-family=\"-apple-system, BlinkMacSystemFont, 'Segoe UI', Helvetica, Arial, sans-serif, 'Apple Color Emoji', 'Segoe UI Emoji', 'Segoe UI Symbol'\" font-size=\"13.00\">order_time</text>\n",
       "<polygon fill=\"#ffffff\" stroke=\"none\" points=\"156,-166 156,-189 255,-189 255,-166 156,-166\"/>\n",
       "<text text-anchor=\"start\" x=\"217\" y=\"-172.65\" font-family=\"-apple-system, BlinkMacSystemFont, 'Segoe UI', Helvetica, Arial, sans-serif, 'Apple Color Emoji', 'Segoe UI Emoji', 'Segoe UI Symbol'\" font-style=\"italic\" font-size=\"13.00\">string</text>\n",
       "<polygon fill=\"#f5f5f5\" stroke=\"none\" points=\"9,-143 9,-166 41,-166 41,-143 9,-143\"/>\n",
       "<polygon fill=\"#f5f5f5\" stroke=\"none\" points=\"41,-143 41,-166 156,-166 156,-143 41,-143\"/>\n",
       "<text text-anchor=\"start\" x=\"46\" y=\"-148.65\" font-family=\"-apple-system, BlinkMacSystemFont, 'Segoe UI', Helvetica, Arial, sans-serif, 'Apple Color Emoji', 'Segoe UI Emoji', 'Segoe UI Symbol'\" font-size=\"13.00\">unit_price</text>\n",
       "<polygon fill=\"#f5f5f5\" stroke=\"none\" points=\"156,-143 156,-166 255,-166 255,-143 156,-143\"/>\n",
       "<text text-anchor=\"start\" x=\"209.5\" y=\"-149.65\" font-family=\"-apple-system, BlinkMacSystemFont, 'Segoe UI', Helvetica, Arial, sans-serif, 'Apple Color Emoji', 'Segoe UI Emoji', 'Segoe UI Symbol'\" font-style=\"italic\" font-size=\"13.00\">double</text>\n",
       "<polygon fill=\"#ffffff\" stroke=\"none\" points=\"9,-120 9,-143 41,-143 41,-120 9,-120\"/>\n",
       "<polygon fill=\"#ffffff\" stroke=\"none\" points=\"41,-120 41,-143 156,-143 156,-120 41,-120\"/>\n",
       "<text text-anchor=\"start\" x=\"46\" y=\"-125.65\" font-family=\"-apple-system, BlinkMacSystemFont, 'Segoe UI', Helvetica, Arial, sans-serif, 'Apple Color Emoji', 'Segoe UI Emoji', 'Segoe UI Symbol'\" font-size=\"13.00\">total_price</text>\n",
       "<polygon fill=\"#ffffff\" stroke=\"none\" points=\"156,-120 156,-143 255,-143 255,-120 156,-120\"/>\n",
       "<text text-anchor=\"start\" x=\"209.5\" y=\"-126.65\" font-family=\"-apple-system, BlinkMacSystemFont, 'Segoe UI', Helvetica, Arial, sans-serif, 'Apple Color Emoji', 'Segoe UI Emoji', 'Segoe UI Symbol'\" font-style=\"italic\" font-size=\"13.00\">double</text>\n",
       "<polygon fill=\"#f5f5f5\" stroke=\"none\" points=\"9,-97 9,-120 41,-120 41,-97 9,-97\"/>\n",
       "<polygon fill=\"#f5f5f5\" stroke=\"none\" points=\"41,-97 41,-120 156,-120 156,-97 41,-97\"/>\n",
       "<text text-anchor=\"start\" x=\"46\" y=\"-102.65\" font-family=\"-apple-system, BlinkMacSystemFont, 'Segoe UI', Helvetica, Arial, sans-serif, 'Apple Color Emoji', 'Segoe UI Emoji', 'Segoe UI Symbol'\" font-size=\"13.00\">pizza_size</text>\n",
       "<polygon fill=\"#f5f5f5\" stroke=\"none\" points=\"156,-97 156,-120 255,-120 255,-97 156,-97\"/>\n",
       "<text text-anchor=\"start\" x=\"217\" y=\"-103.65\" font-family=\"-apple-system, BlinkMacSystemFont, 'Segoe UI', Helvetica, Arial, sans-serif, 'Apple Color Emoji', 'Segoe UI Emoji', 'Segoe UI Symbol'\" font-style=\"italic\" font-size=\"13.00\">string</text>\n",
       "<polygon fill=\"#ffffff\" stroke=\"none\" points=\"9,-74 9,-97 41,-97 41,-74 9,-74\"/>\n",
       "<polygon fill=\"#ffffff\" stroke=\"none\" points=\"41,-74 41,-97 156,-97 156,-74 41,-74\"/>\n",
       "<text text-anchor=\"start\" x=\"46\" y=\"-79.65\" font-family=\"-apple-system, BlinkMacSystemFont, 'Segoe UI', Helvetica, Arial, sans-serif, 'Apple Color Emoji', 'Segoe UI Emoji', 'Segoe UI Symbol'\" font-size=\"13.00\">pizza_category</text>\n",
       "<polygon fill=\"#ffffff\" stroke=\"none\" points=\"156,-74 156,-97 255,-97 255,-74 156,-74\"/>\n",
       "<text text-anchor=\"start\" x=\"217\" y=\"-80.65\" font-family=\"-apple-system, BlinkMacSystemFont, 'Segoe UI', Helvetica, Arial, sans-serif, 'Apple Color Emoji', 'Segoe UI Emoji', 'Segoe UI Symbol'\" font-style=\"italic\" font-size=\"13.00\">string</text>\n",
       "<polygon fill=\"#f5f5f5\" stroke=\"none\" points=\"9,-51 9,-74 41,-74 41,-51 9,-51\"/>\n",
       "<polygon fill=\"#f5f5f5\" stroke=\"none\" points=\"41,-51 41,-74 156,-74 156,-51 41,-51\"/>\n",
       "<text text-anchor=\"start\" x=\"46\" y=\"-56.65\" font-family=\"-apple-system, BlinkMacSystemFont, 'Segoe UI', Helvetica, Arial, sans-serif, 'Apple Color Emoji', 'Segoe UI Emoji', 'Segoe UI Symbol'\" font-size=\"13.00\">pizza_ingredients</text>\n",
       "<polygon fill=\"#f5f5f5\" stroke=\"none\" points=\"156,-51 156,-74 255,-74 255,-51 156,-51\"/>\n",
       "<text text-anchor=\"start\" x=\"217\" y=\"-57.65\" font-family=\"-apple-system, BlinkMacSystemFont, 'Segoe UI', Helvetica, Arial, sans-serif, 'Apple Color Emoji', 'Segoe UI Emoji', 'Segoe UI Symbol'\" font-style=\"italic\" font-size=\"13.00\">string</text>\n",
       "<polygon fill=\"#ffffff\" stroke=\"none\" points=\"9,-28 9,-51 41,-51 41,-28 9,-28\"/>\n",
       "<polygon fill=\"#ffffff\" stroke=\"none\" points=\"41,-28 41,-51 156,-51 156,-28 41,-28\"/>\n",
       "<text text-anchor=\"start\" x=\"46\" y=\"-33.65\" font-family=\"-apple-system, BlinkMacSystemFont, 'Segoe UI', Helvetica, Arial, sans-serif, 'Apple Color Emoji', 'Segoe UI Emoji', 'Segoe UI Symbol'\" font-size=\"13.00\">pizza_name</text>\n",
       "<polygon fill=\"#ffffff\" stroke=\"none\" points=\"156,-28 156,-51 255,-51 255,-28 156,-28\"/>\n",
       "<text text-anchor=\"start\" x=\"217\" y=\"-34.65\" font-family=\"-apple-system, BlinkMacSystemFont, 'Segoe UI', Helvetica, Arial, sans-serif, 'Apple Color Emoji', 'Segoe UI Emoji', 'Segoe UI Symbol'\" font-style=\"italic\" font-size=\"13.00\">string</text>\n",
       "<polygon fill=\"#f5f5f5\" stroke=\"none\" points=\"9,-5 9,-28 41,-28 41,-5 9,-5\"/>\n",
       "<polygon fill=\"#f5f5f5\" stroke=\"none\" points=\"41,-5 41,-28 156,-28 156,-5 41,-5\"/>\n",
       "<text text-anchor=\"start\" x=\"46\" y=\"-10.65\" font-family=\"-apple-system, BlinkMacSystemFont, 'Segoe UI', Helvetica, Arial, sans-serif, 'Apple Color Emoji', 'Segoe UI Emoji', 'Segoe UI Symbol'\" font-size=\"13.00\">order_datetime</text>\n",
       "<polygon fill=\"#f5f5f5\" stroke=\"none\" points=\"156,-5 156,-28 255,-28 255,-5 156,-5\"/>\n",
       "<text text-anchor=\"start\" x=\"160.88\" y=\"-11.65\" font-family=\"-apple-system, BlinkMacSystemFont, 'Segoe UI', Helvetica, Arial, sans-serif, 'Apple Color Emoji', 'Segoe UI Emoji', 'Segoe UI Symbol'\" font-style=\"italic\" font-size=\"13.00\">LocalDateTime</text>\n",
       "<polygon fill=\"none\" stroke=\"black\" points=\"8,-4 8,-354 256,-354 256,-4 8,-4\"/>\n",
       "</g>\n",
       "</g>\n",
       "</svg>"
      ],
      "text/plain": [
       "<IPython.core.display.SVG object>"
      ]
     },
     "execution_count": 10,
     "metadata": {},
     "output_type": "execute_result"
    }
   ],
   "source": [
    "# View the schema\n",
    "session.tables.schema"
   ]
  },
  {
   "cell_type": "code",
   "execution_count": 11,
   "id": "7cb80b89-c7ec-46bc-8c84-e5d73bc1e72e",
   "metadata": {},
   "outputs": [],
   "source": [
    "# Set variables for hierarchies, levels, and measures\n",
    "h, l, m = cube.hierarchies, cube.levels, cube.measures"
   ]
  },
  {
   "cell_type": "markdown",
   "id": "5e1d2501-cb09-4a60-8bed-20f6c3a217fe",
   "metadata": {},
   "source": [
    "Remember that when slicing-and-dicing, we need to be specific on what we slice-and-dice on. In other words, hierarchies are the logical groupings of non-numeric attributes of our data model that we want to see aggregated numeric calculations for. For example, perhaps we want to see the total amount of revenue generated for each category in `pizza_category`. At this point in time for our pizza sales use case, our data model consists of \"single-level hierarchies\", where each hierarchy consists of a single level attribute."
   ]
  },
  {
   "cell_type": "code",
   "execution_count": 12,
   "id": "2e637f33-6b4e-4d2a-9372-7181f5d2c45c",
   "metadata": {},
   "outputs": [
    {
     "data": {
      "application/json": {
       "pizza_sales_table": {
        "order_date": [
         "order_date"
        ],
        "order_datetime": [
         "order_datetime"
        ],
        "order_details_id": [
         "order_details_id"
        ],
        "order_id": [
         "order_id"
        ],
        "order_time": [
         "order_time"
        ],
        "pizza_category": [
         "pizza_category"
        ],
        "pizza_id": [
         "pizza_id"
        ],
        "pizza_ingredients": [
         "pizza_ingredients"
        ],
        "pizza_name": [
         "pizza_name"
        ],
        "pizza_size": [
         "pizza_size"
        ]
       }
      },
      "text/html": [
       "<ul>\n",
       "<li>Dimensions\n",
       "  <ul>\n",
       "  <li>pizza_sales_table\n",
       "    <ul>\n",
       "    <li>order_date\n",
       "      <ol>\n",
       "      <li>order_date</li>\n",
       "      </ol>    </li>\n",
       "    <li>order_datetime\n",
       "      <ol>\n",
       "      <li>order_datetime</li>\n",
       "      </ol>    </li>\n",
       "    <li>order_details_id\n",
       "      <ol>\n",
       "      <li>order_details_id</li>\n",
       "      </ol>    </li>\n",
       "    <li>order_id\n",
       "      <ol>\n",
       "      <li>order_id</li>\n",
       "      </ol>    </li>\n",
       "    <li>order_time\n",
       "      <ol>\n",
       "      <li>order_time</li>\n",
       "      </ol>    </li>\n",
       "    <li>pizza_category\n",
       "      <ol>\n",
       "      <li>pizza_category</li>\n",
       "      </ol>    </li>\n",
       "    <li>pizza_id\n",
       "      <ol>\n",
       "      <li>pizza_id</li>\n",
       "      </ol>    </li>\n",
       "    <li>pizza_ingredients\n",
       "      <ol>\n",
       "      <li>pizza_ingredients</li>\n",
       "      </ol>    </li>\n",
       "    <li>pizza_name\n",
       "      <ol>\n",
       "      <li>pizza_name</li>\n",
       "      </ol>    </li>\n",
       "    <li>pizza_size\n",
       "      <ol>\n",
       "      <li>pizza_size</li>\n",
       "      </ol>    </li>\n",
       "    </ul>\n",
       "  </li>\n",
       "  </ul>\n",
       "</li>\n",
       "</ul>\n"
      ],
      "text/plain": [
       "{('pizza_sales_table', 'pizza_id'): <atoti.hierarchy.Hierarchy object at 0x169c52980>, ('pizza_sales_table', 'pizza_name'): <atoti.hierarchy.Hierarchy object at 0x169c52800>, ('pizza_sales_table', 'order_datetime'): <atoti.hierarchy.Hierarchy object at 0x169c527a0>, ('pizza_sales_table', 'pizza_ingredients'): <atoti.hierarchy.Hierarchy object at 0x169c52770>, ('pizza_sales_table', 'order_id'): <atoti.hierarchy.Hierarchy object at 0x169c50160>, ('pizza_sales_table', 'order_date'): <atoti.hierarchy.Hierarchy object at 0x169c505e0>, ('pizza_sales_table', 'order_details_id'): <atoti.hierarchy.Hierarchy object at 0x169c50e20>, ('pizza_sales_table', 'pizza_category'): <atoti.hierarchy.Hierarchy object at 0x169c52950>, ('pizza_sales_table', 'order_time'): <atoti.hierarchy.Hierarchy object at 0x169572290>, ('pizza_sales_table', 'pizza_size'): <atoti.hierarchy.Hierarchy object at 0x169570520>}"
      ]
     },
     "execution_count": 12,
     "metadata": {
      "application/json": {
       "expanded": true,
       "root": "Dimensions"
      }
     },
     "output_type": "execute_result"
    }
   ],
   "source": [
    "h"
   ]
  },
  {
   "cell_type": "markdown",
   "id": "f51e5cb8-063b-4226-9cfc-20ae53c0e2bb",
   "metadata": {},
   "source": [
    "And so now we know that levels make up hierarchies, but suppose we have levels that are similar in nature to each other, in particular levels that have a parent-child relationship. For example, perhaps we have a city that belongs to a country so `Country` and `City` could be the two levels of a `Geography` hierarchy. Or more commonly (and in this particular example), we have an `order_datetime` hierarchy that could be split into multiple levels such as `Year`, `Month`, `Day`, `Hour`, etc. that would allow us to drill-down to the specific year, month, day, hour level when doing our calculations."
   ]
  },
  {
   "cell_type": "code",
   "execution_count": 13,
   "id": "d36f8ad4-0f53-48d4-9dfc-ea3042b9e92b",
   "metadata": {},
   "outputs": [
    {
     "data": {
      "application/json": {
       "order_date (pizza_sales_table/order_date/order_date)": {
        "dimension": "pizza_sales_table",
        "hierarchy": "order_date",
        "order": "NaturalOrder",
        "type": "String"
       },
       "order_datetime (pizza_sales_table/order_datetime/order_datetime)": {
        "dimension": "pizza_sales_table",
        "hierarchy": "order_datetime",
        "order": "NaturalOrder",
        "type": "LocalDateTime"
       },
       "order_details_id (pizza_sales_table/order_details_id/order_details_id)": {
        "dimension": "pizza_sales_table",
        "hierarchy": "order_details_id",
        "order": "NaturalOrder",
        "type": "String"
       },
       "order_id (pizza_sales_table/order_id/order_id)": {
        "dimension": "pizza_sales_table",
        "hierarchy": "order_id",
        "order": "NaturalOrder",
        "type": "String"
       },
       "order_time (pizza_sales_table/order_time/order_time)": {
        "dimension": "pizza_sales_table",
        "hierarchy": "order_time",
        "order": "NaturalOrder",
        "type": "String"
       },
       "pizza_category (pizza_sales_table/pizza_category/pizza_category)": {
        "dimension": "pizza_sales_table",
        "hierarchy": "pizza_category",
        "order": "NaturalOrder",
        "type": "String"
       },
       "pizza_id (pizza_sales_table/pizza_id/pizza_id)": {
        "dimension": "pizza_sales_table",
        "hierarchy": "pizza_id",
        "order": "NaturalOrder",
        "type": "String"
       },
       "pizza_ingredients (pizza_sales_table/pizza_ingredients/pizza_ingredients)": {
        "dimension": "pizza_sales_table",
        "hierarchy": "pizza_ingredients",
        "order": "NaturalOrder",
        "type": "String"
       },
       "pizza_name (pizza_sales_table/pizza_name/pizza_name)": {
        "dimension": "pizza_sales_table",
        "hierarchy": "pizza_name",
        "order": "NaturalOrder",
        "type": "String"
       },
       "pizza_size (pizza_sales_table/pizza_size/pizza_size)": {
        "dimension": "pizza_sales_table",
        "hierarchy": "pizza_size",
        "order": "NaturalOrder",
        "type": "String"
       }
      },
      "text/html": [
       "<ul>\n",
       "<li>Levels\n",
       "  <ul>\n",
       "  <li>order_date (pizza_sales_table/order_date/order_date)\n",
       "    <ul>\n",
       "    <li>dimension: pizza_sales_table</li>\n",
       "    <li>hierarchy: order_date</li>\n",
       "    <li>type: String</li>\n",
       "    <li>order: NaturalOrder</li>\n",
       "    </ul>\n",
       "  </li>\n",
       "  <li>order_datetime (pizza_sales_table/order_datetime/order_datetime)\n",
       "    <ul>\n",
       "    <li>dimension: pizza_sales_table</li>\n",
       "    <li>hierarchy: order_datetime</li>\n",
       "    <li>type: LocalDateTime</li>\n",
       "    <li>order: NaturalOrder</li>\n",
       "    </ul>\n",
       "  </li>\n",
       "  <li>order_details_id (pizza_sales_table/order_details_id/order_details_id)\n",
       "    <ul>\n",
       "    <li>dimension: pizza_sales_table</li>\n",
       "    <li>hierarchy: order_details_id</li>\n",
       "    <li>type: String</li>\n",
       "    <li>order: NaturalOrder</li>\n",
       "    </ul>\n",
       "  </li>\n",
       "  <li>order_id (pizza_sales_table/order_id/order_id)\n",
       "    <ul>\n",
       "    <li>dimension: pizza_sales_table</li>\n",
       "    <li>hierarchy: order_id</li>\n",
       "    <li>type: String</li>\n",
       "    <li>order: NaturalOrder</li>\n",
       "    </ul>\n",
       "  </li>\n",
       "  <li>order_time (pizza_sales_table/order_time/order_time)\n",
       "    <ul>\n",
       "    <li>dimension: pizza_sales_table</li>\n",
       "    <li>hierarchy: order_time</li>\n",
       "    <li>type: String</li>\n",
       "    <li>order: NaturalOrder</li>\n",
       "    </ul>\n",
       "  </li>\n",
       "  <li>pizza_category (pizza_sales_table/pizza_category/pizza_category)\n",
       "    <ul>\n",
       "    <li>dimension: pizza_sales_table</li>\n",
       "    <li>hierarchy: pizza_category</li>\n",
       "    <li>type: String</li>\n",
       "    <li>order: NaturalOrder</li>\n",
       "    </ul>\n",
       "  </li>\n",
       "  <li>pizza_id (pizza_sales_table/pizza_id/pizza_id)\n",
       "    <ul>\n",
       "    <li>dimension: pizza_sales_table</li>\n",
       "    <li>hierarchy: pizza_id</li>\n",
       "    <li>type: String</li>\n",
       "    <li>order: NaturalOrder</li>\n",
       "    </ul>\n",
       "  </li>\n",
       "  <li>pizza_ingredients (pizza_sales_table/pizza_ingredients/pizza_ingredients)\n",
       "    <ul>\n",
       "    <li>dimension: pizza_sales_table</li>\n",
       "    <li>hierarchy: pizza_ingredients</li>\n",
       "    <li>type: String</li>\n",
       "    <li>order: NaturalOrder</li>\n",
       "    </ul>\n",
       "  </li>\n",
       "  <li>pizza_name (pizza_sales_table/pizza_name/pizza_name)\n",
       "    <ul>\n",
       "    <li>dimension: pizza_sales_table</li>\n",
       "    <li>hierarchy: pizza_name</li>\n",
       "    <li>type: String</li>\n",
       "    <li>order: NaturalOrder</li>\n",
       "    </ul>\n",
       "  </li>\n",
       "  <li>pizza_size (pizza_sales_table/pizza_size/pizza_size)\n",
       "    <ul>\n",
       "    <li>dimension: pizza_sales_table</li>\n",
       "    <li>hierarchy: pizza_size</li>\n",
       "    <li>type: String</li>\n",
       "    <li>order: NaturalOrder</li>\n",
       "    </ul>\n",
       "  </li>\n",
       "  </ul>\n",
       "</li>\n",
       "</ul>\n"
      ],
      "text/plain": [
       "<atoti.levels.Levels at 0x169c50250>"
      ]
     },
     "execution_count": 13,
     "metadata": {
      "application/json": {
       "expanded": true,
       "root": "Levels"
      }
     },
     "output_type": "execute_result"
    }
   ],
   "source": [
    "l"
   ]
  },
  {
   "cell_type": "markdown",
   "id": "8ba0e230-2407-4827-9591-6209dc60fb85",
   "metadata": {},
   "source": [
    "And lastly, measures are the numeric attributes that we want to aggregate depending on the hierarchies that we want to slice-and-dice on. So an example again could be the total amount of revenue (`total_price.SUM`) generated for every pizza category (`pizza_category`)."
   ]
  },
  {
   "cell_type": "code",
   "execution_count": 14,
   "id": "bf4dd872-58b9-4f2b-a695-37f86fddc7b6",
   "metadata": {},
   "outputs": [
    {
     "data": {
      "application/json": {
       "contributors.COUNT": {
        "formatter": "INT[#,###]"
       },
       "quantity.MEAN": {
        "formatter": "DOUBLE[#,###.00]"
       },
       "quantity.SUM": {
        "formatter": "INT[#,###]"
       },
       "total_price.MEAN": {
        "formatter": "DOUBLE[#,###.00]"
       },
       "total_price.SUM": {
        "formatter": "DOUBLE[#,###.00]"
       },
       "unit_price.MEAN": {
        "formatter": "DOUBLE[#,###.00]"
       },
       "unit_price.SUM": {
        "formatter": "DOUBLE[#,###.00]"
       }
      },
      "text/html": [
       "<ul>\n",
       "<li>Measures\n",
       "  <ul>\n",
       "  <li>contributors.COUNT\n",
       "    <ul>\n",
       "    <li>formatter: INT[#,###]</li>\n",
       "    </ul>\n",
       "  </li>\n",
       "  <li>quantity.MEAN\n",
       "    <ul>\n",
       "    <li>formatter: DOUBLE[#,###.00]</li>\n",
       "    </ul>\n",
       "  </li>\n",
       "  <li>quantity.SUM\n",
       "    <ul>\n",
       "    <li>formatter: INT[#,###]</li>\n",
       "    </ul>\n",
       "  </li>\n",
       "  <li>total_price.MEAN\n",
       "    <ul>\n",
       "    <li>formatter: DOUBLE[#,###.00]</li>\n",
       "    </ul>\n",
       "  </li>\n",
       "  <li>total_price.SUM\n",
       "    <ul>\n",
       "    <li>formatter: DOUBLE[#,###.00]</li>\n",
       "    </ul>\n",
       "  </li>\n",
       "  <li>unit_price.MEAN\n",
       "    <ul>\n",
       "    <li>formatter: DOUBLE[#,###.00]</li>\n",
       "    </ul>\n",
       "  </li>\n",
       "  <li>unit_price.SUM\n",
       "    <ul>\n",
       "    <li>formatter: DOUBLE[#,###.00]</li>\n",
       "    </ul>\n",
       "  </li>\n",
       "  </ul>\n",
       "</li>\n",
       "</ul>\n"
      ],
      "text/plain": [
       "{'contributors.COUNT': <atoti.measure.Measure object at 0x169c507c0>, 'update.TIMESTAMP': <atoti.measure.Measure object at 0x169c95870>, 'unit_price.MEAN': <atoti.measure.Measure object at 0x169c95840>, 'unit_price.SUM': <atoti.measure.Measure object at 0x169c95810>, 'quantity.MEAN': <atoti.measure.Measure object at 0x169c957e0>, 'quantity.SUM': <atoti.measure.Measure object at 0x169c957b0>, 'total_price.MEAN': <atoti.measure.Measure object at 0x169c95720>, 'total_price.SUM': <atoti.measure.Measure object at 0x169c95780>}"
      ]
     },
     "execution_count": 14,
     "metadata": {
      "application/json": {
       "expanded": false,
       "root": "Measures"
      }
     },
     "output_type": "execute_result"
    }
   ],
   "source": [
    "m"
   ]
  },
  {
   "cell_type": "markdown",
   "id": "a5aaa007-a83b-4893-bfb1-89d70e0ee31d",
   "metadata": {},
   "source": [
    "## Enriching the Cube\n",
    "\n",
    "Now that we've gone over hierarchies, levels, and measures, lets add some additional hierarchies and configurations that will help us answer our analytical questions. In particular, we'll be adding a few multi-level hierarchies, and customizing the ordering for some of our levels.\n"
   ]
  },
  {
   "cell_type": "code",
   "execution_count": 15,
   "id": "930f4ca8-da79-472f-80cd-b87b071fe1c0",
   "metadata": {},
   "outputs": [
    {
     "data": {
      "application/json": {
       "pizza_sales_table": {
        "multi-level date": [
         "Year",
         "Quarter",
         "Month",
         "Day",
         "Hour"
        ],
        "multi-level dayofweek": [
         "Weekday",
         "Hour"
        ],
        "order_date": [
         "order_date"
        ],
        "order_datetime": [
         "order_datetime"
        ],
        "order_details_id": [
         "order_details_id"
        ],
        "order_id": [
         "order_id"
        ],
        "order_time": [
         "order_time"
        ],
        "pizza_category": [
         "pizza_category"
        ],
        "pizza_id": [
         "pizza_id"
        ],
        "pizza_ingredients": [
         "pizza_ingredients"
        ],
        "pizza_name": [
         "pizza_name"
        ],
        "pizza_size": [
         "pizza_size"
        ]
       }
      },
      "text/html": [
       "<ul>\n",
       "<li>Dimensions\n",
       "  <ul>\n",
       "  <li>pizza_sales_table\n",
       "    <ul>\n",
       "    <li>multi-level date\n",
       "      <ol>\n",
       "      <li>Year</li>\n",
       "      <li>Quarter</li>\n",
       "      <li>Month</li>\n",
       "      <li>Day</li>\n",
       "      <li>Hour</li>\n",
       "      </ol>    </li>\n",
       "    <li>multi-level dayofweek\n",
       "      <ol>\n",
       "      <li>Weekday</li>\n",
       "      <li>Hour</li>\n",
       "      </ol>    </li>\n",
       "    <li>order_date\n",
       "      <ol>\n",
       "      <li>order_date</li>\n",
       "      </ol>    </li>\n",
       "    <li>order_datetime\n",
       "      <ol>\n",
       "      <li>order_datetime</li>\n",
       "      </ol>    </li>\n",
       "    <li>order_details_id\n",
       "      <ol>\n",
       "      <li>order_details_id</li>\n",
       "      </ol>    </li>\n",
       "    <li>order_id\n",
       "      <ol>\n",
       "      <li>order_id</li>\n",
       "      </ol>    </li>\n",
       "    <li>order_time\n",
       "      <ol>\n",
       "      <li>order_time</li>\n",
       "      </ol>    </li>\n",
       "    <li>pizza_category\n",
       "      <ol>\n",
       "      <li>pizza_category</li>\n",
       "      </ol>    </li>\n",
       "    <li>pizza_id\n",
       "      <ol>\n",
       "      <li>pizza_id</li>\n",
       "      </ol>    </li>\n",
       "    <li>pizza_ingredients\n",
       "      <ol>\n",
       "      <li>pizza_ingredients</li>\n",
       "      </ol>    </li>\n",
       "    <li>pizza_name\n",
       "      <ol>\n",
       "      <li>pizza_name</li>\n",
       "      </ol>    </li>\n",
       "    <li>pizza_size\n",
       "      <ol>\n",
       "      <li>pizza_size</li>\n",
       "      </ol>    </li>\n",
       "    </ul>\n",
       "  </li>\n",
       "  </ul>\n",
       "</li>\n",
       "</ul>\n"
      ],
      "text/plain": [
       "{('pizza_sales_table', 'pizza_id'): <atoti.hierarchy.Hierarchy object at 0x169c97280>, ('pizza_sales_table', 'pizza_name'): <atoti.hierarchy.Hierarchy object at 0x169c96fe0>, ('pizza_sales_table', 'order_datetime'): <atoti.hierarchy.Hierarchy object at 0x169c96e30>, ('pizza_sales_table', 'pizza_ingredients'): <atoti.hierarchy.Hierarchy object at 0x169c96d40>, ('pizza_sales_table', 'multi-level date'): <atoti.hierarchy.Hierarchy object at 0x169c96a10>, ('pizza_sales_table', 'multi-level dayofweek'): <atoti.hierarchy.Hierarchy object at 0x169c969e0>, ('pizza_sales_table', 'order_id'): <atoti.hierarchy.Hierarchy object at 0x169c95990>, ('pizza_sales_table', 'order_date'): <atoti.hierarchy.Hierarchy object at 0x169c959c0>, ('pizza_sales_table', 'order_details_id'): <atoti.hierarchy.Hierarchy object at 0x169c943d0>, ('pizza_sales_table', 'pizza_category'): <atoti.hierarchy.Hierarchy object at 0x169c95840>, ('pizza_sales_table', 'order_time'): <atoti.hierarchy.Hierarchy object at 0x169c95570>, ('pizza_sales_table', 'pizza_size'): <atoti.hierarchy.Hierarchy object at 0x169c94d30>}"
      ]
     },
     "execution_count": 15,
     "metadata": {
      "application/json": {
       "expanded": true,
       "root": "Dimensions"
      }
     },
     "output_type": "execute_result"
    }
   ],
   "source": [
    "# Create a multi-level date hierarchy\n",
    "# For Year, Quarter, Month, Day, Hour\n",
    "cube.create_date_hierarchy(\n",
    "    \"multi-level date\",\n",
    "    column=pizza_sales_table[\"order_datetime\"],\n",
    "    levels={\n",
    "        \"Year\": \"yyyy\",\n",
    "        \"Quarter\": \"QQQ\",\n",
    "        \"Month\": \"MMM\",\n",
    "        \"Day\": \"dd\",\n",
    "        \"Hour\": \"HH\",\n",
    "    },\n",
    ")\n",
    "\n",
    "# Create a multi-level date hierarchy\n",
    "# For Weekday, and Hour\n",
    "cube.create_date_hierarchy(\n",
    "    \"multi-level dayofweek\",\n",
    "    column=pizza_sales_table[\"order_datetime\"],\n",
    "    levels={\n",
    "        \"Weekday\": \"E\",\n",
    "        \"Hour\": \"HH\",\n",
    "    },\n",
    ")\n",
    "h"
   ]
  },
  {
   "cell_type": "code",
   "execution_count": 16,
   "id": "662f774d-93fe-45db-9e3a-eb3fce8b95f0",
   "metadata": {},
   "outputs": [
    {
     "data": {
      "application/json": {
       "Day (pizza_sales_table/multi-level date/Day)": {
        "dimension": "pizza_sales_table",
        "hierarchy": "multi-level date",
        "order": "NaturalOrder",
        "type": "String"
       },
       "Hour (pizza_sales_table/multi-level date/Hour)": {
        "dimension": "pizza_sales_table",
        "hierarchy": "multi-level date",
        "order": "NaturalOrder",
        "type": "String"
       },
       "Hour (pizza_sales_table/multi-level dayofweek/Hour)": {
        "dimension": "pizza_sales_table",
        "hierarchy": "multi-level dayofweek",
        "order": "NaturalOrder",
        "type": "String"
       },
       "Month (pizza_sales_table/multi-level date/Month)": {
        "dimension": "pizza_sales_table",
        "hierarchy": "multi-level date",
        "order": "Custom",
        "type": "String"
       },
       "Quarter (pizza_sales_table/multi-level date/Quarter)": {
        "dimension": "pizza_sales_table",
        "hierarchy": "multi-level date",
        "order": "NaturalOrder",
        "type": "String"
       },
       "Weekday (pizza_sales_table/multi-level dayofweek/Weekday)": {
        "dimension": "pizza_sales_table",
        "hierarchy": "multi-level dayofweek",
        "order": "Custom",
        "type": "String"
       },
       "Year (pizza_sales_table/multi-level date/Year)": {
        "dimension": "pizza_sales_table",
        "hierarchy": "multi-level date",
        "order": "NaturalOrder",
        "type": "String"
       },
       "order_date (pizza_sales_table/order_date/order_date)": {
        "dimension": "pizza_sales_table",
        "hierarchy": "order_date",
        "order": "NaturalOrder",
        "type": "String"
       },
       "order_datetime (pizza_sales_table/order_datetime/order_datetime)": {
        "dimension": "pizza_sales_table",
        "hierarchy": "order_datetime",
        "order": "NaturalOrder",
        "type": "LocalDateTime"
       },
       "order_details_id (pizza_sales_table/order_details_id/order_details_id)": {
        "dimension": "pizza_sales_table",
        "hierarchy": "order_details_id",
        "order": "NaturalOrder",
        "type": "String"
       },
       "order_id (pizza_sales_table/order_id/order_id)": {
        "dimension": "pizza_sales_table",
        "hierarchy": "order_id",
        "order": "NaturalOrder",
        "type": "String"
       },
       "order_time (pizza_sales_table/order_time/order_time)": {
        "dimension": "pizza_sales_table",
        "hierarchy": "order_time",
        "order": "NaturalOrder",
        "type": "String"
       },
       "pizza_category (pizza_sales_table/pizza_category/pizza_category)": {
        "dimension": "pizza_sales_table",
        "hierarchy": "pizza_category",
        "order": "NaturalOrder",
        "type": "String"
       },
       "pizza_id (pizza_sales_table/pizza_id/pizza_id)": {
        "dimension": "pizza_sales_table",
        "hierarchy": "pizza_id",
        "order": "NaturalOrder",
        "type": "String"
       },
       "pizza_ingredients (pizza_sales_table/pizza_ingredients/pizza_ingredients)": {
        "dimension": "pizza_sales_table",
        "hierarchy": "pizza_ingredients",
        "order": "NaturalOrder",
        "type": "String"
       },
       "pizza_name (pizza_sales_table/pizza_name/pizza_name)": {
        "dimension": "pizza_sales_table",
        "hierarchy": "pizza_name",
        "order": "NaturalOrder",
        "type": "String"
       },
       "pizza_size (pizza_sales_table/pizza_size/pizza_size)": {
        "dimension": "pizza_sales_table",
        "hierarchy": "pizza_size",
        "order": "NaturalOrder",
        "type": "String"
       }
      },
      "text/html": [
       "<ul>\n",
       "<li>Levels\n",
       "  <ul>\n",
       "  <li>Day (pizza_sales_table/multi-level date/Day)\n",
       "    <ul>\n",
       "    <li>dimension: pizza_sales_table</li>\n",
       "    <li>hierarchy: multi-level date</li>\n",
       "    <li>type: String</li>\n",
       "    <li>order: NaturalOrder</li>\n",
       "    </ul>\n",
       "  </li>\n",
       "  <li>Hour (pizza_sales_table/multi-level date/Hour)\n",
       "    <ul>\n",
       "    <li>dimension: pizza_sales_table</li>\n",
       "    <li>hierarchy: multi-level date</li>\n",
       "    <li>type: String</li>\n",
       "    <li>order: NaturalOrder</li>\n",
       "    </ul>\n",
       "  </li>\n",
       "  <li>Hour (pizza_sales_table/multi-level dayofweek/Hour)\n",
       "    <ul>\n",
       "    <li>dimension: pizza_sales_table</li>\n",
       "    <li>hierarchy: multi-level dayofweek</li>\n",
       "    <li>type: String</li>\n",
       "    <li>order: NaturalOrder</li>\n",
       "    </ul>\n",
       "  </li>\n",
       "  <li>Month (pizza_sales_table/multi-level date/Month)\n",
       "    <ul>\n",
       "    <li>dimension: pizza_sales_table</li>\n",
       "    <li>hierarchy: multi-level date</li>\n",
       "    <li>type: String</li>\n",
       "    <li>order: Custom</li>\n",
       "    </ul>\n",
       "  </li>\n",
       "  <li>Quarter (pizza_sales_table/multi-level date/Quarter)\n",
       "    <ul>\n",
       "    <li>dimension: pizza_sales_table</li>\n",
       "    <li>hierarchy: multi-level date</li>\n",
       "    <li>type: String</li>\n",
       "    <li>order: NaturalOrder</li>\n",
       "    </ul>\n",
       "  </li>\n",
       "  <li>Weekday (pizza_sales_table/multi-level dayofweek/Weekday)\n",
       "    <ul>\n",
       "    <li>dimension: pizza_sales_table</li>\n",
       "    <li>hierarchy: multi-level dayofweek</li>\n",
       "    <li>type: String</li>\n",
       "    <li>order: Custom</li>\n",
       "    </ul>\n",
       "  </li>\n",
       "  <li>Year (pizza_sales_table/multi-level date/Year)\n",
       "    <ul>\n",
       "    <li>dimension: pizza_sales_table</li>\n",
       "    <li>hierarchy: multi-level date</li>\n",
       "    <li>type: String</li>\n",
       "    <li>order: NaturalOrder</li>\n",
       "    </ul>\n",
       "  </li>\n",
       "  <li>order_date (pizza_sales_table/order_date/order_date)\n",
       "    <ul>\n",
       "    <li>dimension: pizza_sales_table</li>\n",
       "    <li>hierarchy: order_date</li>\n",
       "    <li>type: String</li>\n",
       "    <li>order: NaturalOrder</li>\n",
       "    </ul>\n",
       "  </li>\n",
       "  <li>order_datetime (pizza_sales_table/order_datetime/order_datetime)\n",
       "    <ul>\n",
       "    <li>dimension: pizza_sales_table</li>\n",
       "    <li>hierarchy: order_datetime</li>\n",
       "    <li>type: LocalDateTime</li>\n",
       "    <li>order: NaturalOrder</li>\n",
       "    </ul>\n",
       "  </li>\n",
       "  <li>order_details_id (pizza_sales_table/order_details_id/order_details_id)\n",
       "    <ul>\n",
       "    <li>dimension: pizza_sales_table</li>\n",
       "    <li>hierarchy: order_details_id</li>\n",
       "    <li>type: String</li>\n",
       "    <li>order: NaturalOrder</li>\n",
       "    </ul>\n",
       "  </li>\n",
       "  <li>order_id (pizza_sales_table/order_id/order_id)\n",
       "    <ul>\n",
       "    <li>dimension: pizza_sales_table</li>\n",
       "    <li>hierarchy: order_id</li>\n",
       "    <li>type: String</li>\n",
       "    <li>order: NaturalOrder</li>\n",
       "    </ul>\n",
       "  </li>\n",
       "  <li>order_time (pizza_sales_table/order_time/order_time)\n",
       "    <ul>\n",
       "    <li>dimension: pizza_sales_table</li>\n",
       "    <li>hierarchy: order_time</li>\n",
       "    <li>type: String</li>\n",
       "    <li>order: NaturalOrder</li>\n",
       "    </ul>\n",
       "  </li>\n",
       "  <li>pizza_category (pizza_sales_table/pizza_category/pizza_category)\n",
       "    <ul>\n",
       "    <li>dimension: pizza_sales_table</li>\n",
       "    <li>hierarchy: pizza_category</li>\n",
       "    <li>type: String</li>\n",
       "    <li>order: NaturalOrder</li>\n",
       "    </ul>\n",
       "  </li>\n",
       "  <li>pizza_id (pizza_sales_table/pizza_id/pizza_id)\n",
       "    <ul>\n",
       "    <li>dimension: pizza_sales_table</li>\n",
       "    <li>hierarchy: pizza_id</li>\n",
       "    <li>type: String</li>\n",
       "    <li>order: NaturalOrder</li>\n",
       "    </ul>\n",
       "  </li>\n",
       "  <li>pizza_ingredients (pizza_sales_table/pizza_ingredients/pizza_ingredients)\n",
       "    <ul>\n",
       "    <li>dimension: pizza_sales_table</li>\n",
       "    <li>hierarchy: pizza_ingredients</li>\n",
       "    <li>type: String</li>\n",
       "    <li>order: NaturalOrder</li>\n",
       "    </ul>\n",
       "  </li>\n",
       "  <li>pizza_name (pizza_sales_table/pizza_name/pizza_name)\n",
       "    <ul>\n",
       "    <li>dimension: pizza_sales_table</li>\n",
       "    <li>hierarchy: pizza_name</li>\n",
       "    <li>type: String</li>\n",
       "    <li>order: NaturalOrder</li>\n",
       "    </ul>\n",
       "  </li>\n",
       "  <li>pizza_size (pizza_sales_table/pizza_size/pizza_size)\n",
       "    <ul>\n",
       "    <li>dimension: pizza_sales_table</li>\n",
       "    <li>hierarchy: pizza_size</li>\n",
       "    <li>type: String</li>\n",
       "    <li>order: NaturalOrder</li>\n",
       "    </ul>\n",
       "  </li>\n",
       "  </ul>\n",
       "</li>\n",
       "</ul>\n"
      ],
      "text/plain": [
       "<atoti.levels.Levels at 0x169c50250>"
      ]
     },
     "execution_count": 16,
     "metadata": {
      "application/json": {
       "expanded": true,
       "root": "Levels"
      }
     },
     "output_type": "execute_result"
    }
   ],
   "source": [
    "# Change `NaturalOrder` to `CustomOrder` for specific levels\n",
    "l[(\"pizza_sales_table\", \"multi-level date\", \"Month\")].order = atoti.CustomOrder(\n",
    "    first_elements=[\n",
    "        \"Jan\",\n",
    "        \"Feb\",\n",
    "        \"Mar\",\n",
    "        \"Apr\",\n",
    "        \"May\",\n",
    "        \"Jun\",\n",
    "        \"Jul\",\n",
    "        \"Aug\",\n",
    "        \"Sep\",\n",
    "        \"Oct\",\n",
    "        \"Nov\",\n",
    "        \"Dec\",\n",
    "    ]\n",
    ")\n",
    "l[(\"pizza_sales_table\", \"multi-level dayofweek\", \"Weekday\")].order = atoti.CustomOrder(\n",
    "    first_elements=[\"Mon\", \"Tue\", \"Wed\", \"Thu\", \"Fri\"]\n",
    ")\n",
    "l"
   ]
  },
  {
   "cell_type": "markdown",
   "id": "33941fbf-4bb9-4bde-bcde-8ddce668ef81",
   "metadata": {},
   "source": [
    "## Data Analysis and Visualization in Atoti\n",
    "\n",
    "With the data in the cube ready-to-go, let's now get to slicing-and-dicing! Be aware that from this point onwards we'll be using the Atoti JupyterLab extension which allows us to create notebook widgets and interact with Atoti and the data in the cube. Select the Atoti JupyterLab extension in your left-hand menu pane to follow along. Otherwise, you can always go to [http://localhost:9092/#/dashboard/e49](http://localhost:9092/#/dashboard/e49) to pull up the dashboard.\n",
    "\n",
    " "
   ]
  },
  {
   "cell_type": "markdown",
   "id": "36177858-e3d8-4356-9721-8affc1d2844f",
   "metadata": {},
   "source": [
    "### What days and times do we tend to be busiest?\n",
    "\n",
    "To answer this question, we need to analyze the amount of revenue generated per weekday, and when we determine which weekday generates the most revenue, we need to drill-down to the hourly revenue for that day to determine which day and time tends to be the busiest. Good thing we already made our `multi-level dayofweek` hierarchy! For the below, based on our analysis, it looks like Plato's Pizza generates the most revenue on Fridays."
   ]
  },
  {
   "cell_type": "code",
   "execution_count": 17,
   "id": "ea59792b-74ca-4888-8080-481ed1669ae1",
   "metadata": {
    "atoti": {
     "widget": {
      "mapping": {
       "horizontalSubplots": [],
       "stackBy": [
        "ALL_MEASURES"
       ],
       "values": [
        "[Measures].[total_price.SUM]"
       ],
       "verticalSubplots": [],
       "xAxis": [
        "[pizza_sales_table].[multi-level dayofweek].[Weekday]"
       ]
      },
      "query": {
       "mdx": "WITH  Member [Measures].[[pizza_sales_table]].[multi-level dayofweek]].[Weekday]]_for_order] AS Rank(IIf([pizza_sales_table].[multi-level dayofweek].CurrentMember.Level.Ordinal > [pizza_sales_table].[multi-level dayofweek].[Weekday].Ordinal, Ancestor([pizza_sales_table].[multi-level dayofweek].CurrentMember, [pizza_sales_table].[multi-level dayofweek].[Weekday]), [pizza_sales_table].[multi-level dayofweek].CurrentMember), [pizza_sales_table].[multi-level dayofweek].Members)  SELECT NON EMPTY {[Measures].[total_price.SUM]} ON COLUMNS, NON EMPTY Order(Hierarchize(Descendants({[pizza_sales_table].[multi-level dayofweek].[ALL].[AllMember]}, 1, SELF_AND_BEFORE)), [Measures].[[pizza_sales_table]].[multi-level dayofweek]].[Weekday]]_for_order], BASC) DIMENSION PROPERTIES CHILDREN_CARDINALITY ON ROWS FROM [pizza_sales_table] CELL PROPERTIES VALUE, FORMATTED_VALUE, BACK_COLOR, FORE_COLOR, FONT_FLAGS",
       "updateMode": "once"
      },
      "serverKey": "default",
      "widgetKey": "plotly-stacked-column-chart"
     }
    }
   },
   "outputs": [
    {
     "data": {
      "application/vnd.atoti.widget.v0+json": {
       "sessionId": "1707410488_AE9M7L",
       "sessionLocation": {
        "https": false,
        "port": 9092
       },
       "widgetCreationCode": "session.widget"
      },
      "text/html": [
       "<img height=\"352\" width=\"1254\" src=\"data:image/png;base64,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\" />"
      ],
      "text/plain": [
       "Open the notebook in JupyterLab with the Atoti JupyterLab extension enabled to build this widget."
      ]
     },
     "metadata": {},
     "output_type": "display_data"
    }
   ],
   "source": [
    "# X-axis: Weekday\n",
    "# Y-axis: total_price.SUM\n",
    "session.widget"
   ]
  },
  {
   "cell_type": "markdown",
   "id": "51a9b156-ded3-4f2d-aa36-b97042ddf9cb",
   "metadata": {},
   "source": [
    "Now, when we drill-down further and look at total revenue per hour, with a filter for Fridays only, we can see that around 12 PM is the time when Plato's Pizza tends to be busiest, which makes sense as that's typical of lunch rush hour! 🍕"
   ]
  },
  {
   "cell_type": "code",
   "execution_count": 18,
   "id": "741e741e-162c-4c59-8cf8-a8d084b4af59",
   "metadata": {
    "atoti": {
     "widget": {
      "filters": [
       {
        "dimensionName": "pizza_sales_table",
        "hierarchyName": "multi-level dayofweek",
        "isExclusionFilter": false,
        "members": [
         [
          "AllMember",
          "Fri"
         ]
        ],
        "type": "members"
       }
      ],
      "mapping": {
       "horizontalSubplots": [],
       "stackBy": [
        "ALL_MEASURES"
       ],
       "values": [
        "[Measures].[total_price.SUM]"
       ],
       "verticalSubplots": [],
       "xAxis": [
        "[pizza_sales_table].[multi-level dayofweek].[Hour]"
       ]
      },
      "name": "Total Hourly Revenue on Fridays",
      "query": {
       "mdx": "SELECT NON EMPTY Hierarchize(Descendants({[pizza_sales_table].[multi-level dayofweek].[ALL].[AllMember]}, 2, SELF_AND_BEFORE)) DIMENSION PROPERTIES CHILDREN_CARDINALITY ON ROWS, NON EMPTY {[Measures].[total_price.SUM]} ON COLUMNS FROM [pizza_sales_table] CELL PROPERTIES VALUE, FORMATTED_VALUE, BACK_COLOR, FORE_COLOR, FONT_FLAGS",
       "updateMode": "once"
      },
      "serverKey": "default",
      "widgetKey": "plotly-stacked-column-chart"
     }
    }
   },
   "outputs": [
    {
     "data": {
      "application/vnd.atoti.widget.v0+json": {
       "sessionId": "1707410488_AE9M7L",
       "sessionLocation": {
        "https": false,
        "port": 9092
       },
       "widgetCreationCode": "session.widget"
      },
      "text/html": [
       "<img height=\"352\" width=\"1254\" src=\"data:image/png;base64,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\" />"
      ],
      "text/plain": [
       "Open the notebook in JupyterLab with the Atoti JupyterLab extension enabled to build this widget."
      ]
     },
     "metadata": {},
     "output_type": "display_data"
    }
   ],
   "source": [
    "# X-axis: Hour\n",
    "# Y-axis: total_price.SUM\n",
    "# Filter: Fri\n",
    "session.widget"
   ]
  },
  {
   "cell_type": "markdown",
   "id": "a61003ce-727f-4765-ba4b-5ee6b7051e7c",
   "metadata": {},
   "source": [
    "### How many pizzas are we making during peak periods?\n",
    "\n",
    "So we've determined that 12 PM on Fridays is our busiest time, but what about the amount of pizzas sold? This is as easy as adding our `Quantity.SUM` measure to our visualization, and we've used a clustered Column graph to easily depict this. Looks like `1101` pizzas have been sold at Plato's Pizza's peak period."
   ]
  },
  {
   "cell_type": "code",
   "execution_count": 19,
   "id": "7f7b7e3f-9a24-454d-ac02-785bfc760c5c",
   "metadata": {
    "atoti": {
     "widget": {
      "filters": [
       {
        "dimensionName": "pizza_sales_table",
        "hierarchyName": "multi-level dayofweek",
        "isExclusionFilter": false,
        "members": [
         [
          "AllMember",
          "Fri"
         ]
        ],
        "type": "members"
       }
      ],
      "mapping": {
       "horizontalSubplots": [],
       "stackBy": [
        "ALL_MEASURES"
       ],
       "values": [
        "[Measures].[total_price.SUM]",
        "[Measures].[quantity.SUM]"
       ],
       "verticalSubplots": [],
       "xAxis": [
        "[pizza_sales_table].[multi-level dayofweek].[Hour]"
       ]
      },
      "name": "Total Hourly Revenue and Quantity Sold on Fridays",
      "query": {
       "mdx": "WITH  Member [Measures].[[pizza_sales_table]].[multi-level dayofweek]].[Hour]]_for_order] AS Rank(IIf([pizza_sales_table].[multi-level dayofweek].CurrentMember.Level.Ordinal > [pizza_sales_table].[multi-level dayofweek].[Hour].Ordinal, Ancestor([pizza_sales_table].[multi-level dayofweek].CurrentMember, [pizza_sales_table].[multi-level dayofweek].[Hour]), [pizza_sales_table].[multi-level dayofweek].CurrentMember), [pizza_sales_table].[multi-level dayofweek].Members)  SELECT NON EMPTY {[Measures].[total_price.SUM], [Measures].[quantity.SUM]} ON COLUMNS, NON EMPTY Order(Hierarchize(Descendants({[pizza_sales_table].[multi-level dayofweek].[ALL].[AllMember]}, 2, SELF_AND_BEFORE)), [Measures].[[pizza_sales_table]].[multi-level dayofweek]].[Hour]]_for_order], BASC) DIMENSION PROPERTIES CHILDREN_CARDINALITY ON ROWS FROM [pizza_sales_table] CELL PROPERTIES VALUE, FORMATTED_VALUE, BACK_COLOR, FORE_COLOR, FONT_FLAGS",
       "updateMode": "once"
      },
      "serverKey": "default",
      "style": {
       "areAxisTitlesVisible": true
      },
      "switchedTo": "plotly-clustered-column-chart",
      "widgetKey": "plotly-stacked-column-chart"
     }
    }
   },
   "outputs": [
    {
     "data": {
      "application/vnd.atoti.widget.v0+json": {
       "sessionId": "1707410488_AE9M7L",
       "sessionLocation": {
        "https": false,
        "port": 9092
       },
       "widgetCreationCode": "session.widget"
      },
      "text/html": [
       "<img height=\"352\" width=\"1254\" src=\"data:image/png;base64,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\" />"
      ],
      "text/plain": [
       "Open the notebook in JupyterLab with the Atoti JupyterLab extension enabled to build this widget."
      ]
     },
     "metadata": {},
     "output_type": "display_data"
    }
   ],
   "source": [
    "# X-axis: Hour\n",
    "# Y-axis: total_price.SUM & quantity.SUM\n",
    "# Filter: Fri\n",
    "session.widget"
   ]
  },
  {
   "cell_type": "markdown",
   "id": "d7c14e6c-62e7-45ee-acb6-db720d404c6e",
   "metadata": {},
   "source": [
    "### What are our best and worst-selling pizzas?\n",
    "\n",
    "To answer this question, we could simply create a visualization and sort by amount of revenue (`total_price.SUM`) generated for every pizza name (`pizza_name`), but perhaps Plato wants to see this as a percentage — how would we go about doing this? Answer: we can create new measures!"
   ]
  },
  {
   "cell_type": "code",
   "execution_count": 20,
   "id": "c70af295-659a-43a8-83b1-328415668a58",
   "metadata": {
    "atoti": {
     "widget": {
      "mapping": {
       "columns": [
        "ALL_MEASURES"
       ],
       "measures": [
        "[Measures].[total_price.SUM]"
       ],
       "rows": [
        "[pizza_sales_table].[pizza_name].[pizza_name]"
       ]
      },
      "query": {
       "mdx": "SELECT NON EMPTY Order(Hierarchize(Descendants({[pizza_sales_table].[pizza_name].[ALL].[AllMember]}, 1, SELF_AND_BEFORE)), [Measures].[total_price.SUM], DESC) ON ROWS, NON EMPTY {[Measures].[total_price.SUM]} ON COLUMNS FROM [pizza_sales_table] CELL PROPERTIES VALUE, FORMATTED_VALUE, BACK_COLOR, FORE_COLOR, FONT_FLAGS",
       "updateMode": "once"
      },
      "serverKey": "default",
      "widgetKey": "tree-table"
     }
    }
   },
   "outputs": [
    {
     "data": {
      "application/vnd.atoti.widget.v0+json": {
       "sessionId": "1707410488_AE9M7L",
       "sessionLocation": {
        "https": false,
        "port": 9092
       },
       "widgetCreationCode": "session.widget"
      },
      "text/html": [
       "<img height=\"352\" width=\"1254\" src=\"data:image/png;base64,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\" />"
      ],
      "text/plain": [
       "Open the notebook in JupyterLab with the Atoti JupyterLab extension enabled to build this widget."
      ]
     },
     "metadata": {},
     "output_type": "display_data"
    }
   ],
   "source": [
    "# X-axis: pizza_name\n",
    "# Y-axis: total_price.SUM\n",
    "session.widget"
   ]
  },
  {
   "cell_type": "markdown",
   "id": "70ac8a12-862b-42bf-97db-1132e7510297",
   "metadata": {},
   "source": [
    "When creating new measures, we should be mindful of *how* we aggregate our numeric values and at which level. Therefore, we use the `atoti.total` function to sum up our `total_price.SUM` values at specific hierarchies. From the below, we can see that the `Thai Chicken Pizza` is the best selling pizza, while the `Brie Carre Pizza` is the worst selling pizza.\n",
    "\n",
    "**💡 Note:** https://docs.atoti.io/latest/api/atoti.total.html#atoti.total"
   ]
  },
  {
   "cell_type": "code",
   "execution_count": 21,
   "id": "38d3d5da-c99d-4a66-8513-f5e85072c0f6",
   "metadata": {
    "atoti": {
     "widget": {
      "mapping": {
       "columns": [
        "ALL_MEASURES"
       ],
       "measures": [
        "[Measures].[Percent of Total Revenue]",
        "[Measures].[total_price.SUM]"
       ],
       "rows": [
        "[pizza_sales_table].[pizza_name].[pizza_name]"
       ]
      },
      "query": {
       "mdx": "SELECT NON EMPTY {[Measures].[Percent of Total Revenue], [Measures].[total_price.SUM]} ON COLUMNS, NON EMPTY Order(Hierarchize(Descendants({[pizza_sales_table].[pizza_name].[ALL].[AllMember]}, 1, SELF_AND_BEFORE)), [Measures].[Percent of Total Revenue], DESC) ON ROWS FROM [pizza_sales_table] CELL PROPERTIES VALUE, FORMATTED_VALUE, BACK_COLOR, FORE_COLOR, FONT_FLAGS",
       "updateMode": "once"
      },
      "serverKey": "default",
      "widgetKey": "pivot-table"
     }
    }
   },
   "outputs": [
    {
     "data": {
      "application/vnd.atoti.widget.v0+json": {
       "sessionId": "1707410488_AE9M7L",
       "sessionLocation": {
        "https": false,
        "port": 9092
       },
       "widgetCreationCode": "session.widget"
      },
      "text/html": [
       "<img height=\"352\" width=\"1254\" src=\"data:image/png;base64,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\" />"
      ],
      "text/plain": [
       "Open the notebook in JupyterLab with the Atoti JupyterLab extension enabled to build this widget."
      ]
     },
     "metadata": {},
     "output_type": "display_data"
    }
   ],
   "source": [
    "# Calculate percent of total revenue by pizza item (correct)\n",
    "m[\"Percent of Total Revenue\"] = m[\"total_price.SUM\"] / atoti.total(\n",
    "    m[\"total_price.SUM\"], h[\"pizza_name\"]\n",
    ")\n",
    "session.widget"
   ]
  },
  {
   "cell_type": "markdown",
   "id": "16ffba49-7200-4659-8843-198b97a9860d",
   "metadata": {},
   "source": [
    "### What's our average order value?\n",
    "\n",
    "Lastly, let's calculate the average revenue per order. At first glance, this may be as simple as looking at `order_id` and the `total_price.MEAN` measure, but notice what this does. It calculates the average revenue down to the `pizza_id` level, which is not what we want! Instead, we want to see the average revenue per order at the `order_id` level. For this scenario, we need to calculate a new measure using the `atoti.agg.mean` function and specify the `scope` parameter using `OriginScope`. **To be clear, the `AVG Order Revenue` is the correct calculation, we've included the other columns just to show how `OriginScope` is functioning.**\n",
    "\n",
    "**💡 Note:** https://docs.atoti.io/latest/api/atoti.OriginScope.html#atoti.OriginScope"
   ]
  },
  {
   "cell_type": "code",
   "execution_count": 22,
   "id": "cb840c1b-5f88-4480-8755-6410ee16b71e",
   "metadata": {
    "atoti": {
     "widget": {
      "columnWidths": {
       "[Measures].[AVG Order Revenue]": 153.8125
      },
      "mapping": {
       "columns": [
        "ALL_MEASURES"
       ],
       "measures": [
        "[Measures].[total_price.MEAN]",
        "[Measures].[total_price.SUM]",
        "[Measures].[AVG Order Revenue]"
       ],
       "rows": [
        "[pizza_sales_table].[order_id].[order_id]",
        "[pizza_sales_table].[pizza_id].[pizza_id]"
       ]
      },
      "name": "Average Revenue for Orders",
      "query": {
       "mdx": "SELECT NON EMPTY {[Measures].[total_price.MEAN], [Measures].[total_price.SUM], [Measures].[AVG Order Revenue]} ON COLUMNS, NON EMPTY Crossjoin(Hierarchize(Descendants({[pizza_sales_table].[order_id].[ALL].[AllMember]}, 1, SELF_AND_BEFORE)), Hierarchize(Descendants({[pizza_sales_table].[pizza_id].[ALL].[AllMember]}, 1, SELF_AND_BEFORE))) ON ROWS FROM [pizza_sales_table] CELL PROPERTIES VALUE, FORMATTED_VALUE, BACK_COLOR, FORE_COLOR, FONT_FLAGS",
       "updateMode": "once"
      },
      "serverKey": "default",
      "widgetKey": "pivot-table"
     }
    }
   },
   "outputs": [
    {
     "data": {
      "application/vnd.atoti.widget.v0+json": {
       "sessionId": "1707410488_AE9M7L",
       "sessionLocation": {
        "https": false,
        "port": 9092
       },
       "widgetCreationCode": "session.widget"
      },
      "text/html": [
       "<img height=\"352\" width=\"1254\" src=\"data:image/png;base64,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\" />"
      ],
      "text/plain": [
       "Open the notebook in JupyterLab with the Atoti JupyterLab extension enabled to build this widget."
      ]
     },
     "metadata": {},
     "output_type": "display_data"
    }
   ],
   "source": [
    "# Calculate average revenue per order\n",
    "m[\"AVG Order Revenue\"] = atoti.agg.mean(\n",
    "    m[\"total_price.SUM\"], scope=atoti.OriginScope(l[\"order_id\"])\n",
    ")\n",
    "session.widget"
   ]
  },
  {
   "cell_type": "markdown",
   "id": "46e9afec-2440-4b4a-a196-62792231b095",
   "metadata": {},
   "source": [
    "## Summary\n",
    "\n",
    "And that's it, here we were able to quickly analyze Plato Pizza's sales data and create visualizations, while customizing how we wanted these visualizations to look and how measures were calculated/aggregated. Can you think of some other ways to slice-and-dice this data to present as insightful findings? If so, feel free to extend this notebook and create a pull request to our GitHub repo!"
   ]
  }
 ],
 "metadata": {
  "kernelspec": {
   "display_name": "Python 3 (ipykernel)",
   "language": "python",
   "name": "python3"
  },
  "language_info": {
   "codemirror_mode": {
    "name": "ipython",
    "version": 3
   },
   "file_extension": ".py",
   "mimetype": "text/x-python",
   "name": "python",
   "nbconvert_exporter": "python",
   "pygments_lexer": "ipython3",
   "version": "3.10.13"
  }
 },
 "nbformat": 4,
 "nbformat_minor": 5
}
