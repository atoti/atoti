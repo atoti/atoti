{
 "cells": [
  {
   "cell_type": "markdown",
   "id": "ac3fbb12-82a8-4e9f-aa4e-e1ad414ce283",
   "metadata": {},
   "source": [
    "# DirectQuery: Combining Atoti and Data Warehouses"
   ]
  },
  {
   "cell_type": "markdown",
   "id": "a671e16d-c06b-432f-92c6-5b2d2f7043bd",
   "metadata": {},
   "source": [
    "We know Atoti provides in-memory analytics for big data. This means that we hold data in memory and perform aggregation on the fly in order to achieve fast and dynamic computations. In our usual Atoti setup, the hosting server requires a memory size that's about 1.5 times of the amount of data that gets loaded into the cube. However, with Atoti's DirectQuery, we can better support our users who store their data on the cloud! In fact, it applies for on-premise databases such as [ClickHouse](https://clickhouse.com/clickhouse) and [Microsoft SQL Server](https://www.microsoft.com/en-sg/sql-server/sql-server-downloads) too.  \n",
    "\n",
    "<img src=\"https://data.atoti.io/notebooks/direct-query/img/cost_vs_performance.png\" width=\"850px\"/>\n",
    "\n",
    "In a gist, here's what DirectQuery offers:  \n",
    "\n",
    "- Scalability\n",
    "\n",
    "> Leveraging the scalability of cloud data warehouse, the server that hosts Atoti only has to take into consideration the amount of data that gets queried on a daily basis.  \n",
    "> Instead of storing all of the data in physical memory, DirectQuery enables us to query the Cloud database directly, reducing the need for memory in the hosting server.  \n",
    "\n",
    "- Cost savings\n",
    "\n",
    "> Other than saving on the memory required for the hosting server, DirectQuery helps to save on the data transfer costs.  \n",
    "> While cloud data warehouse is cost-effective, we incur costs when we perform queries.  \n",
    "> We can reduce querying to the Cloud database by loading an aggregated cache in memory for the most frequently queried data.  \n",
    "\n",
    "- Technology agnosticism\n",
    "\n",
    "> With changes to only a few lines of data connectivity code in Atoti, we can easily switch from one Cloud service provider to another without impacting the Atoti server.  \n",
    "> We can even switch over to other data connectors such as physical files.  \n",
    "\n",
    "\n",
    "This notebook provides a quick introduction to how we can connect to Google BigQuery and create an Atoti cube."
   ]
  },
  {
   "cell_type": "markdown",
   "id": "f23aeb88-5455-44ee-892d-4aa7fc2dbfb7",
   "metadata": {},
   "source": [
    "<div style=\"text-align: center;\" ><a href=\"https://www.atoti.io/?utm_source=gallery&utm_content=directquery-intro\" target=\"_blank\" rel=\"noopener noreferrer\"><img src=\"https://data.atoti.io/notebooks/banners/Discover-Atoti-now.png\" alt=\"Try Atoti\"></a></div>"
   ]
  },
  {
   "cell_type": "markdown",
   "id": "663b2051-11e1-4815-8a2c-fde3d450d07b",
   "metadata": {},
   "source": [
    "## Google BigQuery configuration"
   ]
  },
  {
   "cell_type": "markdown",
   "id": "1db76b03-dbe0-4223-a656-8b7e9e2ff260",
   "metadata": {},
   "source": [
    "### Step 1 — Create role with permissions\n",
    "\n",
    "- Login to Google Cloud console.\n",
    "- Navigate to __IAM & Admin__ > __Roles__.  \n",
    "- Create a role with the following permission for the DirectQuery users:  \n",
    "    - `bigquery.datasets.get`\n",
    "    - `bigquery.jobs.create`\n",
    "    - `bigquery.readsessions.create`\n",
    "    - `bigquery.readsessions.getData`\n",
    "    - `bigquery.readsessions.update`\n",
    "    - `bigquery.routines.get`\n",
    "    - `bigquery.tables.get`\n",
    "    - `bigquery.tables.getData`\n",
    "    - `bigquery.tables.list`\n",
    "\n",
    "⚠️ **Important:** Having trouble pulling your data after setting up your account? Confirm that the above permissions have been set up properly!  \n",
    "\n",
    "<img src=\"https://data.atoti.io/notebooks/direct-query/img/bigquery_permission.png\" />\n",
    "\n",
    "💡 **Note:** For more details, refer to the [Atoti Server documentation](https://docs.activeviam.com/products/atoti/server/latest/docs/directquery/connect_to_external/connect_to_bigquery/)."
   ]
  },
  {
   "cell_type": "markdown",
   "id": "2143280e-d2b0-4da1-b20d-78af65d26753",
   "metadata": {},
   "source": [
    "### Step 2 — Create Service Account\n",
    "\n",
    "* Under **IAM & Admin**, navigate to **Service Accounts**.\n",
    "* Create a service account and assign the role created in Step 1.\n",
    "\n",
    "    <img src=\"https://data.atoti.io/notebooks/direct-query/img/service_account.png\" width=\"700px\"/>  "
   ]
  },
  {
   "cell_type": "markdown",
   "id": "03e75ceb-055a-4986-aa8d-6858422b260a",
   "metadata": {
    "tags": []
   },
   "source": [
    "### Step 3 — Generate API Key \n",
    "\n",
    "- Navigate to the __KEYS__ tab and generate a new key.  \n",
    "\n",
    "    <img src=\"https://data.atoti.io/notebooks/direct-query/img/create_key.png\" />  \n",
    "\n",
    "- Select `JSON` as key type and save the downloaded key to a server folder:  \n",
    "\n",
    "    <img src=\"https://data.atoti.io/notebooks/direct-query/img/json_key.png\" />\n",
    "\n",
    "- Configure environment variable pointing to the JSON key. In this use case, our environment variable is `DQ_GOOGLE_CREDENTIAL`:  \n",
    "\n",
    "    <img src=\"https://data.atoti.io/notebooks/direct-query/img/environment_variable.png\" />  \n",
    "\n",
    "💡 **Note:** Alternatively, we can set up [Application Default Credentials](https://cloud.google.com/docs/authentication/provide-credentials-adc) for authentication.  "
   ]
  },
  {
   "cell_type": "markdown",
   "id": "95e30413-d630-4b1b-a304-d824e9649c3d",
   "metadata": {},
   "source": [
    "## Database set up  \n",
    "\n",
    "To try out this notebook, you can setup the database schema and tables using the [database script](db_schema.sql) in the use case folder.  "
   ]
  },
  {
   "cell_type": "markdown",
   "id": "fcfd6d72-801a-460c-9e1f-4e0843909442",
   "metadata": {},
   "source": [
    "## Atoti Setup"
   ]
  },
  {
   "cell_type": "markdown",
   "id": "8857ebb1-032f-4b69-84e6-b8cf7e431def",
   "metadata": {},
   "source": [
    "We import [Atoti](https://docs.atoti.io/latest/getting_started/installation.html) library and create the [Atoti Session](https://docs.atoti.io/latest/api/atoti.Session.html#atoti.Session) as we always do.  "
   ]
  },
  {
   "cell_type": "code",
   "execution_count": 1,
   "id": "7d97f0ea-5b39-4c60-9a10-1cae5a22616d",
   "metadata": {
    "tags": []
   },
   "outputs": [],
   "source": [
    "import os\n",
    "import atoti as tt"
   ]
  },
  {
   "cell_type": "code",
   "execution_count": 2,
   "id": "3898f076-a031-49b7-a75f-074008d89a26",
   "metadata": {
    "tags": []
   },
   "outputs": [],
   "source": [
    "session = tt.Session.start()"
   ]
  },
  {
   "cell_type": "markdown",
   "id": "9e855ec8-18bb-46fa-8e99-751edafeb94c",
   "metadata": {},
   "source": [
    "## DirectQuery Prerequisites"
   ]
  },
  {
   "cell_type": "markdown",
   "id": "01a8923b-80b3-4bfd-86a0-2d705d4bb805",
   "metadata": {},
   "source": [
    "DirectQuery supports a few [databases](https://docs.atoti.io/latest/reference.html#directquery). For each of these databases, we have to install its respective Python plugin.  \n",
    "- `atoti-directquery-bigquery` : To use DirectQuery on Google BigQuery.\n",
    "- `atoti-directquery-clickhouse` : To use DirectQuery with ClickHouse.\n",
    "- `atoti-directquery-databricks` : To use DirectQuery on Databricks.\n",
    "- `atoti-directquery-mssql` : To use DirectQuery with Microsoft SQL Server.\n",
    "- `atoti-directquery-redshift` : To use DirectQuery on Amazon Redshift.\n",
    "- `atoti-directquery-snowflake` : To use DirectQuery on Snowflake.\n",
    "- `atoti-directquery-synapse` : To use DirectQuery on Azure Synapse Analytics.  \n",
    "\n",
    "In our example, we install the plugin for Google BigQuery. Uncomment the below line to install the plugin if it isn't installed.  \n",
    "\n",
    "⚠️ **Important:** We only support one type of database connection per Atoti session."
   ]
  },
  {
   "cell_type": "code",
   "execution_count": 3,
   "id": "af8780d7-ec54-481a-98d7-4cc9f7e030c1",
   "metadata": {
    "tags": []
   },
   "outputs": [],
   "source": [
    "# !uv pip install \"atoti[directquery-bigquery]\""
   ]
  },
  {
   "cell_type": "markdown",
   "id": "1d997a63-e2db-48f9-b501-0532c5eabb3d",
   "metadata": {},
   "source": [
    "We will be using two components from the DirectQueryPlugin:\n",
    "- [BigqueryConnectionInfo](https://docs.atoti.io/latest/api/atoti_directquery_bigquery.BigqueryConnectionInfo.html#atoti_directquery_bigquery.BigqueryConnectionInfo): Configure the connection information to BigQuery.\n",
    "- [BigqueryTableOptions](https://docs.atoti.io/latest/api/atoti_directquery_bigquery.BigqueryTableOptions.html#atoti_directquery_bigquery.BigqueryTableOptions): Configure the table options about the external table to create in Atoti.  \n",
    "\n",
    "⚠️ **Important:** Use the corresponding components for different databases if we are using a different one from BigQuery. E.g. we use [`ClickhouseConnectionInfo`](https://docs.atoti.io/latest/api/atoti_directquery_clickhouse.ClickhouseConnectionInfo.html#atoti_directquery_clickhouse.ClickhouseConnectionInfo) and [`ClickhouseTableOptions`](https://docs.atoti.io/latest/api/atoti_directquery_clickhouse.ClickhouseTableOptions.html#atoti_directquery_clickhouse.ClickhouseTableOptions) if we are connecting to [ClickHouse](https://clickhouse.com/)."
   ]
  },
  {
   "cell_type": "markdown",
   "id": "4509d71b-4d1b-4297-b18a-10430b128507",
   "metadata": {},
   "source": [
    "## Connection setup to Google BigQuery"
   ]
  },
  {
   "cell_type": "code",
   "execution_count": 4,
   "id": "f5eb2f90-be60-4332-80d2-1a5cd83147d4",
   "metadata": {
    "tags": []
   },
   "outputs": [],
   "source": [
    "from atoti_directquery_bigquery import ConnectionConfig"
   ]
  },
  {
   "cell_type": "markdown",
   "id": "00b90385-93af-479f-888a-bc0677f73eb2",
   "metadata": {},
   "source": [
    "In the below snippet, we use the environment variable to obtain the path to the [API key generated previous in Step 3](#Step-3-—-Generate-API-Key). Setting the credential path into `BigqueryConnectionInfo`, we can invoke the connection to the external database.  "
   ]
  },
  {
   "cell_type": "code",
   "execution_count": 5,
   "id": "ea50d105-284f-4296-b654-b5465037d634",
   "metadata": {
    "tags": []
   },
   "outputs": [],
   "source": [
    "credential = os.environ[\"DQ_GOOGLE_CREDENTIAL\"]\n",
    "connection_info = ConnectionConfig(credentials=credential)\n",
    "\n",
    "external_database = session.connect_to_external_database(connection_info)"
   ]
  },
  {
   "cell_type": "markdown",
   "id": "8e7f4c10-5dc6-4c53-aeea-ef4864471caf",
   "metadata": {},
   "source": [
    "### Discover External Tables"
   ]
  },
  {
   "cell_type": "markdown",
   "id": "51f3c2ee-c57b-49df-9756-60c96d9b0734",
   "metadata": {
    "tags": []
   },
   "source": [
    "Once connected, we can discover the tables available to us from the external database."
   ]
  },
  {
   "cell_type": "code",
   "execution_count": 6,
   "id": "5e85bd6f-dd6a-4ab8-a2f2-51d7759466de",
   "metadata": {
    "tags": []
   },
   "outputs": [
    {
     "data": {
      "application/json": {
       "bd-project-386413": {
        "fpna_demo": [
         "amount",
         "amount_details",
         "bsg",
         "entity",
         "ftp_type",
         "fv",
         "fx_local",
         "geo",
         "gl_account",
         "gl_acct",
         "product",
         "scenario",
         "source_account",
         "source_acct",
         "source_mis",
         "standard_org",
         "taxonomy",
         "ucoa"
        ],
        "tutorial": [
         "PRODUCTS",
         "SALES"
        ],
        "var_demo": [
         "BOOKS",
         "TRADE_PNLS"
        ]
       }
      },
      "text/html": [
       "<ul>\n",
       "<li>BIGQUERY\n",
       "  <ul>\n",
       "  <li>bd-project-386413\n",
       "    <ul>\n",
       "    <li>fpna_demo\n",
       "      <ol>\n",
       "      <li>amount</li>\n",
       "      <li>amount_details</li>\n",
       "      <li>bsg</li>\n",
       "      <li>entity</li>\n",
       "      <li>ftp_type</li>\n",
       "      <li>fv</li>\n",
       "      <li>fx_local</li>\n",
       "      <li>geo</li>\n",
       "      <li>gl_account</li>\n",
       "      <li>gl_acct</li>\n",
       "      <li>product</li>\n",
       "      <li>scenario</li>\n",
       "      <li>source_account</li>\n",
       "      <li>source_acct</li>\n",
       "      <li>source_mis</li>\n",
       "      <li>standard_org</li>\n",
       "      <li>taxonomy</li>\n",
       "      <li>ucoa</li>\n",
       "      </ol>    </li>\n",
       "    <li>var_demo\n",
       "      <ol>\n",
       "      <li>BOOKS</li>\n",
       "      <li>TRADE_PNLS</li>\n",
       "      </ol>    </li>\n",
       "    <li>tutorial\n",
       "      <ol>\n",
       "      <li>PRODUCTS</li>\n",
       "      <li>SALES</li>\n",
       "      </ol>    </li>\n",
       "    </ul>\n",
       "  </li>\n",
       "  </ul>\n",
       "</li>\n",
       "</ul>\n"
      ],
      "text/plain": [
       "<atoti.directquery.external_tables.ExternalTables at 0x120831750>"
      ]
     },
     "execution_count": 6,
     "metadata": {
      "application/json": {
       "expanded": false,
       "root": "BIGQUERY"
      }
     },
     "output_type": "execute_result"
    }
   ],
   "source": [
    "external_database.tables"
   ]
  },
  {
   "cell_type": "markdown",
   "id": "4187eaef-cae3-44ca-80c1-dd952dd3faab",
   "metadata": {},
   "source": [
    "If the database has many schemas, we can perform a filter to access only the schema that we want."
   ]
  },
  {
   "cell_type": "code",
   "execution_count": 7,
   "id": "63c5fafe-05e1-429e-8f35-9f3f072e34f7",
   "metadata": {
    "tags": []
   },
   "outputs": [
    {
     "data": {
      "application/json": {
       "bd-project-386413": {
        "tutorial": [
         "PRODUCTS",
         "SALES"
        ]
       }
      },
      "text/html": [
       "<ul>\n",
       "<li>BIGQUERY\n",
       "  <ul>\n",
       "  <li>bd-project-386413\n",
       "    <ul>\n",
       "    <li>tutorial\n",
       "      <ol>\n",
       "      <li>PRODUCTS</li>\n",
       "      <li>SALES</li>\n",
       "      </ol>    </li>\n",
       "    </ul>\n",
       "  </li>\n",
       "  </ul>\n",
       "</li>\n",
       "</ul>\n"
      ],
      "text/plain": [
       "<atoti.directquery.external_tables.ExternalTables at 0x12056ce10>"
      ]
     },
     "execution_count": 7,
     "metadata": {
      "application/json": {
       "expanded": false,
       "root": "BIGQUERY"
      }
     },
     "output_type": "execute_result"
    }
   ],
   "source": [
    "external_database.tables._filter(schema_name=\"tutorial\")"
   ]
  },
  {
   "cell_type": "markdown",
   "id": "f1308a2c-a4d2-40e5-9985-7013fa05a9fb",
   "metadata": {},
   "source": [
    "### Discover Table Columns"
   ]
  },
  {
   "cell_type": "markdown",
   "id": "e72119a9-ed38-4d83-a8a5-1fe021b48e5c",
   "metadata": {},
   "source": [
    "If a table name is unique in the database, we can check its structure directly using its name:  "
   ]
  },
  {
   "cell_type": "code",
   "execution_count": 8,
   "id": "f91519b6-a36b-4f0c-b1f0-949b0be22d5f",
   "metadata": {
    "tags": []
   },
   "outputs": [
    {
     "data": {
      "application/json": {
       "DATE": "LocalDate",
       "PRODUCT": "String",
       "QUANTITY": "long",
       "SALE_ID": "String",
       "SHOP": "String",
       "UNIT_PRICE": "double"
      },
      "text/html": [
       "<ul>\n",
       "<li>SALES\n",
       "  <ul>\n",
       "  <li>SALE_ID: String</li>\n",
       "  <li>DATE: LocalDate</li>\n",
       "  <li>SHOP: String</li>\n",
       "  <li>PRODUCT: String</li>\n",
       "  <li>QUANTITY: long</li>\n",
       "  <li>UNIT_PRICE: double</li>\n",
       "  </ul>\n",
       "</li>\n",
       "</ul>\n"
      ],
      "text/plain": [
       "<atoti.directquery.external_table.ExternalTable at 0x1171b1b10>"
      ]
     },
     "execution_count": 8,
     "metadata": {
      "application/json": {
       "expanded": true,
       "root": "SALES"
      }
     },
     "output_type": "execute_result"
    }
   ],
   "source": [
    "external_database.tables[\"SALES\"]"
   ]
  },
  {
   "cell_type": "markdown",
   "id": "1d9ef3fb-85a5-472b-aa12-8a88e3d1e6d9",
   "metadata": {},
   "source": [
    "However, to be precise, it is a good practice to refer to the table using its database, schema and table names. Uncomment and execute the following cells as to try this out."
   ]
  },
  {
   "cell_type": "code",
   "execution_count": 9,
   "id": "247c876c-2b44-4b0f-8bcf-8864350bb3d6",
   "metadata": {
    "tags": []
   },
   "outputs": [],
   "source": [
    "# db_name = \"<database name here>\"\n",
    "# db_schema = \"tutorial\"\n",
    "# table_sales = \"SALES\""
   ]
  },
  {
   "cell_type": "code",
   "execution_count": 10,
   "id": "fbfde589-b458-474d-8665-af7b016598bc",
   "metadata": {
    "tags": []
   },
   "outputs": [],
   "source": [
    "# external_database.tables[db_name, db_schema, table_sales]"
   ]
  },
  {
   "cell_type": "markdown",
   "id": "85d14ebe-eb8a-4216-8564-8330b4b7b0d9",
   "metadata": {},
   "source": [
    "## Add External Table to Atoti"
   ]
  },
  {
   "cell_type": "markdown",
   "id": "8fa1b581-ee16-4730-8ea2-b29fa14ee03a",
   "metadata": {},
   "source": [
    "Since we have connected to the external database and we are able to see its structure, we can add the required tables to the Atoti session.  \n",
    "\n",
    "Using [BigqueryTableOptions](https://docs.atoti.io/latest/api/atoti_directquery_bigquery.BigqueryTableOptions.html#atoti_directquery_bigquery.BigqueryTableOptions), we can define additional options to the table that we will create in Atoti:\n",
    "\n",
    "- `array_conversion`: Converting values spread over multiple columns into array columns.\n",
    "- `clustering_columns`: Columns used for splitting up queries.\n",
    "- `keys`: Keys used to identify unique rows for updating of data.\n",
    "\n",
    "We will only use `keys` and `clustering_columns` in our example."
   ]
  },
  {
   "cell_type": "code",
   "execution_count": 11,
   "id": "7dab34b4-ca6f-4c80-8ba9-f8534f9eae5b",
   "metadata": {
    "tags": []
   },
   "outputs": [],
   "source": [
    "from atoti_directquery_bigquery import TableConfig"
   ]
  },
  {
   "cell_type": "markdown",
   "id": "790b7a07-c762-438a-878e-de3611f39b5c",
   "metadata": {},
   "source": [
    "Similar to how we create keys for Atoti tables, we set the key columns in the `BigqueryTableOptions`. Note that this external table is created in Atoti and the defined keys affects only the data that is accessible in Atoti. It does not change the tables in BigQuery.  \n",
    "\n",
    "To distinguish our Atoti external table from the BigQuery table, we named them differently in our example.  "
   ]
  },
  {
   "cell_type": "code",
   "execution_count": 12,
   "id": "a580d644-94e0-4772-ac94-a9600bc08546",
   "metadata": {
    "tags": []
   },
   "outputs": [],
   "source": [
    "sales_table = session.add_external_table(\n",
    "    external_database.tables[\"SALES\"],\n",
    "    table_name=\"Atoti Sales\",\n",
    "    config=TableConfig(keys=[\"SALE_ID\"], clustering_columns={\"DATE\", \"PRODUCT\"}),\n",
    ")"
   ]
  },
  {
   "cell_type": "markdown",
   "id": "ac9b4de4-60f9-45d9-8b87-e7d0452714ee",
   "metadata": {},
   "source": [
    "To speed up querying, Atoti makes use of [aggregate providers](https://docs.atoti.io/latest/api/atoti.AggregateProvider.html#atoti.AggregateProvider) to pre-aggregates some table columns up to certain levels. Feeding such providers from an external database can result in very large queries to be run on the database. Some databases can have trouble processing such large queries. Therefore, we define [clustering columns](https://docs.activeviam.com/products/atoti/server/latest/docs/directquery/directquery-clustering-fields/) to help split up queries made by DirectQuery to these external database when feeding the aggregate providers.  \n",
    "\n",
    "The `clustering_columns` parameter allows us to define columns to be used for clustering. While our example uses a small dataset and clustering column is not necessary, we demonstrate how it can be used in the snippet above.  "
   ]
  },
  {
   "cell_type": "code",
   "execution_count": 13,
   "id": "561e7c19-28cc-4796-918b-24de800147a7",
   "metadata": {
    "tags": []
   },
   "outputs": [
    {
     "data": {
      "text/html": [
       "<div>\n",
       "<style scoped>\n",
       "    .dataframe tbody tr th:only-of-type {\n",
       "        vertical-align: middle;\n",
       "    }\n",
       "\n",
       "    .dataframe tbody tr th {\n",
       "        vertical-align: top;\n",
       "    }\n",
       "\n",
       "    .dataframe thead th {\n",
       "        text-align: right;\n",
       "    }\n",
       "</style>\n",
       "<table border=\"1\" class=\"dataframe\">\n",
       "  <thead>\n",
       "    <tr style=\"text-align: right;\">\n",
       "      <th></th>\n",
       "      <th>DATE</th>\n",
       "      <th>SHOP</th>\n",
       "      <th>PRODUCT</th>\n",
       "      <th>QUANTITY</th>\n",
       "      <th>UNIT_PRICE</th>\n",
       "    </tr>\n",
       "    <tr>\n",
       "      <th>SALE_ID</th>\n",
       "      <th></th>\n",
       "      <th></th>\n",
       "      <th></th>\n",
       "      <th></th>\n",
       "      <th></th>\n",
       "    </tr>\n",
       "  </thead>\n",
       "  <tbody>\n",
       "    <tr>\n",
       "      <th>S0010</th>\n",
       "      <td>2022-01-31</td>\n",
       "      <td>shop_2</td>\n",
       "      <td>BED_2</td>\n",
       "      <td>3</td>\n",
       "      <td>150.0</td>\n",
       "    </tr>\n",
       "    <tr>\n",
       "      <th>S0007</th>\n",
       "      <td>2022-02-01</td>\n",
       "      <td>shop_5</td>\n",
       "      <td>BED_2</td>\n",
       "      <td>1</td>\n",
       "      <td>150.0</td>\n",
       "    </tr>\n",
       "    <tr>\n",
       "      <th>S0008</th>\n",
       "      <td>2022-01-31</td>\n",
       "      <td>shop_4</td>\n",
       "      <td>BED_2</td>\n",
       "      <td>1</td>\n",
       "      <td>150.0</td>\n",
       "    </tr>\n",
       "    <tr>\n",
       "      <th>S0009</th>\n",
       "      <td>2022-01-31</td>\n",
       "      <td>shop_3</td>\n",
       "      <td>BED_2</td>\n",
       "      <td>1</td>\n",
       "      <td>150.0</td>\n",
       "    </tr>\n",
       "    <tr>\n",
       "      <th>S0019</th>\n",
       "      <td>2022-02-02</td>\n",
       "      <td>shop_3</td>\n",
       "      <td>HOO_5</td>\n",
       "      <td>1</td>\n",
       "      <td>48.0</td>\n",
       "    </tr>\n",
       "  </tbody>\n",
       "</table>\n",
       "</div>"
      ],
      "text/plain": [
       "              DATE    SHOP PRODUCT  QUANTITY  UNIT_PRICE\n",
       "SALE_ID                                                 \n",
       "S0010   2022-01-31  shop_2   BED_2         3       150.0\n",
       "S0007   2022-02-01  shop_5   BED_2         1       150.0\n",
       "S0008   2022-01-31  shop_4   BED_2         1       150.0\n",
       "S0009   2022-01-31  shop_3   BED_2         1       150.0\n",
       "S0019   2022-02-02  shop_3   HOO_5         1        48.0"
      ]
     },
     "execution_count": 13,
     "metadata": {},
     "output_type": "execute_result"
    }
   ],
   "source": [
    "sales_table.head()"
   ]
  },
  {
   "cell_type": "markdown",
   "id": "dc44214e-743e-4937-9269-61498986355b",
   "metadata": {},
   "source": [
    "We can add multiple tables."
   ]
  },
  {
   "cell_type": "code",
   "execution_count": 14,
   "id": "f282f67a-dfa9-4ba1-aef7-779ec734fe50",
   "metadata": {
    "tags": []
   },
   "outputs": [
    {
     "data": {
      "text/html": [
       "<div>\n",
       "<style scoped>\n",
       "    .dataframe tbody tr th:only-of-type {\n",
       "        vertical-align: middle;\n",
       "    }\n",
       "\n",
       "    .dataframe tbody tr th {\n",
       "        vertical-align: top;\n",
       "    }\n",
       "\n",
       "    .dataframe thead th {\n",
       "        text-align: right;\n",
       "    }\n",
       "</style>\n",
       "<table border=\"1\" class=\"dataframe\">\n",
       "  <thead>\n",
       "    <tr style=\"text-align: right;\">\n",
       "      <th></th>\n",
       "      <th>CATEGORY</th>\n",
       "      <th>SUB_CATEGORY</th>\n",
       "      <th>SIZE</th>\n",
       "      <th>PURCHASE_PRICE</th>\n",
       "      <th>COLOR</th>\n",
       "      <th>BRAND</th>\n",
       "    </tr>\n",
       "    <tr>\n",
       "      <th>PRODUCT_ID</th>\n",
       "      <th></th>\n",
       "      <th></th>\n",
       "      <th></th>\n",
       "      <th></th>\n",
       "      <th></th>\n",
       "      <th></th>\n",
       "    </tr>\n",
       "  </thead>\n",
       "  <tbody>\n",
       "    <tr>\n",
       "      <th>BED_2</th>\n",
       "      <td>Furniture</td>\n",
       "      <td>Bed</td>\n",
       "      <td>Single</td>\n",
       "      <td>127.0</td>\n",
       "      <td>red</td>\n",
       "      <td>Mega</td>\n",
       "    </tr>\n",
       "    <tr>\n",
       "      <th>TAB_1</th>\n",
       "      <td>Furniture</td>\n",
       "      <td>Table</td>\n",
       "      <td>2m40</td>\n",
       "      <td>280.0</td>\n",
       "      <td>white</td>\n",
       "      <td>Mega</td>\n",
       "    </tr>\n",
       "    <tr>\n",
       "      <th>TAB_0</th>\n",
       "      <td>Furniture</td>\n",
       "      <td>Table</td>\n",
       "      <td>1m80</td>\n",
       "      <td>190.0</td>\n",
       "      <td>black</td>\n",
       "      <td>Basic</td>\n",
       "    </tr>\n",
       "    <tr>\n",
       "      <th>HOO_5</th>\n",
       "      <td>Cloth</td>\n",
       "      <td>Hoodie</td>\n",
       "      <td>M</td>\n",
       "      <td>38.0</td>\n",
       "      <td>red</td>\n",
       "      <td>Mega</td>\n",
       "    </tr>\n",
       "    <tr>\n",
       "      <th>TSH_3</th>\n",
       "      <td>Cloth</td>\n",
       "      <td>Tshirt</td>\n",
       "      <td>M</td>\n",
       "      <td>19.0</td>\n",
       "      <td>brown</td>\n",
       "      <td>Over</td>\n",
       "    </tr>\n",
       "  </tbody>\n",
       "</table>\n",
       "</div>"
      ],
      "text/plain": [
       "             CATEGORY SUB_CATEGORY    SIZE  PURCHASE_PRICE  COLOR  BRAND\n",
       "PRODUCT_ID                                                              \n",
       "BED_2       Furniture          Bed  Single           127.0    red   Mega\n",
       "TAB_1       Furniture        Table    2m40           280.0  white   Mega\n",
       "TAB_0       Furniture        Table    1m80           190.0  black  Basic\n",
       "HOO_5           Cloth       Hoodie       M            38.0    red   Mega\n",
       "TSH_3           Cloth       Tshirt       M            19.0  brown   Over"
      ]
     },
     "execution_count": 14,
     "metadata": {},
     "output_type": "execute_result"
    }
   ],
   "source": [
    "products_table = session.add_external_table(\n",
    "    external_database.tables[\"PRODUCTS\"],\n",
    "    table_name=\"Atoti Product\",\n",
    "    config=TableConfig(keys=[\"PRODUCT_ID\"]),\n",
    ")\n",
    "\n",
    "products_table.head()"
   ]
  },
  {
   "cell_type": "markdown",
   "id": "57349699-117a-4cf9-bb95-5910f18d5187",
   "metadata": {},
   "source": [
    "Once we have created our external tables, the rest is _simply the usual stuff for Atoti_."
   ]
  },
  {
   "cell_type": "markdown",
   "id": "564a8bad-9c60-4c7a-b94e-918b5112cfdb",
   "metadata": {
    "tags": []
   },
   "source": [
    "## Atoti Cube Setup"
   ]
  },
  {
   "cell_type": "markdown",
   "id": "2f24568b-71da-4341-a716-f8abdbdce17d",
   "metadata": {
    "tags": []
   },
   "source": [
    "From this section onwards, the coding remains the same regardless of the underlying data source.  \n",
    "\n",
    "As we have always done, we join the tables and create the cube."
   ]
  },
  {
   "cell_type": "code",
   "execution_count": 15,
   "id": "93f6c667-27b6-4e2e-9685-ef275235622c",
   "metadata": {
    "tags": []
   },
   "outputs": [
    {
     "data": {
      "image/png": "[encoded data removed]",
      "text/plain": [
       "erDiagram\n",
       "  \"Atoti Sales\" {\n",
       "    non-null String PK \"SALE_ID\"\n",
       "    non-null LocalDate \"DATE\"\n",
       "    non-null String \"SHOP\"\n",
       "    non-null String \"PRODUCT\"\n",
       "    non-null long \"QUANTITY\"\n",
       "    non-null double \"UNIT_PRICE\"\n",
       "  }\n",
       "  \"Atoti Product\" {\n",
       "    non-null String PK \"PRODUCT_ID\"\n",
       "    non-null String \"CATEGORY\"\n",
       "    non-null String \"SUB_CATEGORY\"\n",
       "    non-null String \"SIZE\"\n",
       "    non-null double \"PURCHASE_PRICE\"\n",
       "    non-null String \"COLOR\"\n",
       "    non-null String \"BRAND\"\n",
       "  }\n",
       "  \"Atoti Sales\" }o--o| \"Atoti Product\" : \"PRODUCT == PRODUCT_ID\""
      ]
     },
     "execution_count": 15,
     "metadata": {},
     "output_type": "execute_result"
    }
   ],
   "source": [
    "sales_table.join(products_table, sales_table[\"PRODUCT\"] == products_table[\"PRODUCT_ID\"])\n",
    "cube = session.create_cube(sales_table)\n",
    "session.tables.schema"
   ]
  },
  {
   "cell_type": "code",
   "execution_count": 16,
   "id": "4ee29cb6-1f57-43f2-b6e7-ad2e72d8abd4",
   "metadata": {
    "atoti": {
     "widget": {
      "mapping": {
       "columns": [
        "ALL_MEASURES"
       ],
       "measures": [
        "[Measures].[QUANTITY.SUM]"
       ],
       "rows": [
        "[Atoti Sales].[DATE].[DATE]",
        "[Atoti Sales].[SHOP].[SHOP] => [Atoti Product].[BRAND].[BRAND]"
       ]
      },
      "name": "Quantity sold across dates by shops",
      "query": {
       "mdx": "SELECT NON EMPTY {[Measures].[QUANTITY.SUM]} ON COLUMNS, NON EMPTY Hierarchize(Union(Crossjoin(Hierarchize(Descendants({[Atoti Sales].[DATE].[AllMember]}, 1, SELF_AND_BEFORE)), Hierarchize(Descendants({[Atoti Sales].[SHOP].[AllMember]}, 1, SELF_AND_BEFORE)), [Atoti Product].[BRAND].DefaultMember), Crossjoin([Atoti Sales].[DATE].[AllMember].[2022-01-31], [Atoti Sales].[SHOP].[AllMember].[shop_2], Hierarchize(Descendants({[Atoti Product].[BRAND].[AllMember]}, 1, SELF_AND_BEFORE))))) ON ROWS FROM [Atoti Sales] CELL PROPERTIES VALUE, FORMATTED_VALUE, BACK_COLOR, FORE_COLOR, FONT_FLAGS",
       "updateMode": "once"
      },
      "serverKey": "default",
      "widgetKey": "pivot-table"
     }
    },
    "tags": []
   },
   "outputs": [
    {
     "data": {
      "application/vnd.atoti.widget.v0+json": {
       "sessionId": "1751380077_814167",
       "sessionUrl": "http://localhost:57328",
       "widgetCreationCode": "session.widget"
      },
      "text/html": [
       "<img height=\"352\" width=\"802\" src=\"data:image/png;base64,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\" />"
      ],
      "text/plain": [
       "Open the notebook in JupyterLab with the Atoti JupyterLab extension enabled to build this widget."
      ]
     },
     "metadata": {},
     "output_type": "display_data"
    }
   ],
   "source": [
    "session.widget"
   ]
  },
  {
   "cell_type": "markdown",
   "id": "623a5cce-fee4-489b-9250-c5dd542fb708",
   "metadata": {},
   "source": [
    "### Cube manipulation"
   ]
  },
  {
   "cell_type": "markdown",
   "id": "ad616201-0cc7-4012-8e54-66a99c9c1a23",
   "metadata": {},
   "source": [
    "We perform hierarchy manipulation, level ordering and measure creations the same way we always do in Atoti."
   ]
  },
  {
   "cell_type": "code",
   "execution_count": 17,
   "id": "27bebe22-10e5-4b67-9c18-4bb478fef70b",
   "metadata": {
    "tags": []
   },
   "outputs": [],
   "source": [
    "h, l, m = cube.hierarchies, cube.levels, cube.measures"
   ]
  },
  {
   "cell_type": "code",
   "execution_count": 18,
   "id": "fe4aea14-fc25-4a2d-9401-0ce01df385e4",
   "metadata": {
    "tags": []
   },
   "outputs": [],
   "source": [
    "h[\"CATEGORY\"] = [l[\"CATEGORY\"], l[\"SUB_CATEGORY\"]]\n",
    "del h[\"SUB_CATEGORY\"]"
   ]
  },
  {
   "cell_type": "code",
   "execution_count": 19,
   "id": "efc5d476-6465-4ccf-93d3-9f5dfe19df3c",
   "metadata": {
    "tags": []
   },
   "outputs": [
    {
     "data": {
      "application/json": {
       "Atoti Product": {
        "BRAND": [
         "BRAND"
        ],
        "CATEGORY": [
         "CATEGORY",
         "SUB_CATEGORY"
        ],
        "COLOR": [
         "COLOR"
        ],
        "SIZE": [
         "SIZE"
        ]
       },
       "Atoti Sales": {
        "DATE": [
         "DATE"
        ],
        "PRODUCT": [
         "PRODUCT"
        ],
        "SALE_ID": [
         "SALE_ID"
        ],
        "SHOP": [
         "SHOP"
        ]
       }
      },
      "text/html": [
       "<ul>\n",
       "<li>Dimensions\n",
       "  <ul>\n",
       "  <li>Atoti Product\n",
       "    <ul>\n",
       "    <li>BRAND\n",
       "      <ol>\n",
       "      <li>BRAND</li>\n",
       "      </ol>    </li>\n",
       "    <li>CATEGORY\n",
       "      <ol>\n",
       "      <li>CATEGORY</li>\n",
       "      <li>SUB_CATEGORY</li>\n",
       "      </ol>    </li>\n",
       "    <li>COLOR\n",
       "      <ol>\n",
       "      <li>COLOR</li>\n",
       "      </ol>    </li>\n",
       "    <li>SIZE\n",
       "      <ol>\n",
       "      <li>SIZE</li>\n",
       "      </ol>    </li>\n",
       "    </ul>\n",
       "  </li>\n",
       "  <li>Atoti Sales\n",
       "    <ul>\n",
       "    <li>DATE\n",
       "      <ol>\n",
       "      <li>DATE</li>\n",
       "      </ol>    </li>\n",
       "    <li>PRODUCT\n",
       "      <ol>\n",
       "      <li>PRODUCT</li>\n",
       "      </ol>    </li>\n",
       "    <li>SALE_ID\n",
       "      <ol>\n",
       "      <li>SALE_ID</li>\n",
       "      </ol>    </li>\n",
       "    <li>SHOP\n",
       "      <ol>\n",
       "      <li>SHOP</li>\n",
       "      </ol>    </li>\n",
       "    </ul>\n",
       "  </li>\n",
       "  </ul>\n",
       "</li>\n",
       "</ul>\n"
      ],
      "text/plain": [
       "{('Atoti Product', 'SIZE'): <atoti.hierarchy.Hierarchy object at 0x116fb03d0>, ('Atoti Product', 'BRAND'): <atoti.hierarchy.Hierarchy object at 0x12083eb10>, ('Atoti Product', 'COLOR'): <atoti.hierarchy.Hierarchy object at 0x1208333d0>, ('Atoti Product', 'CATEGORY'): <atoti.hierarchy.Hierarchy object at 0x117446d50>, ('Atoti Sales', 'SALE_ID'): <atoti.hierarchy.Hierarchy object at 0x1208606d0>, ('Atoti Sales', 'DATE'): <atoti.hierarchy.Hierarchy object at 0x120861190>, ('Atoti Sales', 'SHOP'): <atoti.hierarchy.Hierarchy object at 0x120862590>, ('Atoti Sales', 'PRODUCT'): <atoti.hierarchy.Hierarchy object at 0x120861810>}"
      ]
     },
     "execution_count": 19,
     "metadata": {
      "application/json": {
       "expanded": true,
       "root": "Dimensions"
      }
     },
     "output_type": "execute_result"
    }
   ],
   "source": [
    "h"
   ]
  },
  {
   "cell_type": "code",
   "execution_count": 20,
   "id": "fe924c60-0c9d-431f-ac72-297db49d8abc",
   "metadata": {
    "tags": []
   },
   "outputs": [],
   "source": [
    "l[\"DATE\"].order = tt.NaturalOrder(ascending=False)"
   ]
  },
  {
   "cell_type": "code",
   "execution_count": 21,
   "id": "343686bd-182e-4de1-b681-8bc6c04b791d",
   "metadata": {
    "tags": []
   },
   "outputs": [],
   "source": [
    "m[\"PURCHASE_PRICE.SUM\"] = tt.agg.sum(products_table[\"PURCHASE_PRICE\"])\n",
    "m[\"PROFIT\"] = tt.agg.sum_product(\n",
    "    m[\"UNIT_PRICE.SUM\"] - m[\"PURCHASE_PRICE.SUM\"],\n",
    "    m[\"QUANTITY.SUM\"],\n",
    "    scope=tt.OriginScope(levels={l[\"SALE_ID\"], l[\"PRODUCT\"]}),\n",
    ")"
   ]
  },
  {
   "cell_type": "markdown",
   "id": "595db925-bf0b-4828-87fb-ff26c717d905",
   "metadata": {},
   "source": [
    "Since we have a join from `sales_table` to `products_table` using the column values of `sales_table.PRODUCT` and `products_table.PRODUCT_ID`, the resultant level is the name of the column from the _from_ table. Therefore, we have the level `PRODUCT` but not `PRODUCT_ID` for our scope in the code snippet above."
   ]
  },
  {
   "cell_type": "code",
   "execution_count": 22,
   "id": "a5dd754e-6d52-43b0-9a18-e7aa7fd42e0b",
   "metadata": {
    "atoti": {
     "widget": {
      "mapping": {
       "columns": [
        "ALL_MEASURES"
       ],
       "measures": [
        "[Measures].[UNIT_PRICE.SUM]",
        "[Measures].[PURCHASE_PRICE.SUM]",
        "[Measures].[QUANTITY.SUM]",
        "[Measures].[PROFIT]"
       ],
       "rows": [
        "[Atoti Sales].[DATE].[DATE]",
        "[Atoti Product].[CATEGORY].[CATEGORY] => [Atoti Product].[CATEGORY].[SUB_CATEGORY]"
       ]
      },
      "name": "Profit by Product Categories across dates",
      "query": {
       "mdx": "SELECT NON EMPTY Hierarchize(Union(Crossjoin(Hierarchize(Descendants({[Atoti Sales].[DATE].[AllMember]}, 1, SELF_AND_BEFORE)), Hierarchize(Descendants({[Atoti Product].[CATEGORY].[AllMember]}, 1, SELF_AND_BEFORE))), Crossjoin([Atoti Sales].[DATE].[AllMember].[2022-02-03], Descendants({[Atoti Product].[CATEGORY].[AllMember].[Cloth]}, [Atoti Product].[CATEGORY].[SUB_CATEGORY])))) ON ROWS, NON EMPTY {[Measures].[UNIT_PRICE.SUM], [Measures].[PURCHASE_PRICE.SUM], [Measures].[QUANTITY.SUM], [Measures].[PROFIT]} ON COLUMNS FROM [Atoti Sales] CELL PROPERTIES VALUE, FORMATTED_VALUE, BACK_COLOR, FORE_COLOR, FONT_FLAGS",
       "updateMode": "once"
      },
      "serverKey": "default",
      "widgetKey": "pivot-table"
     }
    },
    "tags": []
   },
   "outputs": [
    {
     "data": {
      "application/vnd.atoti.widget.v0+json": {
       "sessionId": "1751380077_814167",
       "sessionUrl": "http://localhost:57328",
       "widgetCreationCode": "session.widget"
      },
      "text/html": [
       "<img height=\"352\" width=\"802\" src=\"data:image/png;base64,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\" />"
      ],
      "text/plain": [
       "Open the notebook in JupyterLab with the Atoti JupyterLab extension enabled to build this widget."
      ]
     },
     "metadata": {},
     "output_type": "display_data"
    }
   ],
   "source": [
    "session.widget"
   ]
  },
  {
   "cell_type": "markdown",
   "id": "08ceaeb7-d0ed-42b5-899e-f4fb4fdcf1ae",
   "metadata": {},
   "source": [
    "## Cost and performance saving with Aggregate Provider"
   ]
  },
  {
   "cell_type": "markdown",
   "id": "b00d6de1-5324-43b0-acb0-c682977c2cf0",
   "metadata": {},
   "source": [
    "Let's take a quick look at our query performance in the current setup."
   ]
  },
  {
   "cell_type": "code",
   "execution_count": 23,
   "id": "37320670-66e8-40c1-9402-26775ed5817c",
   "metadata": {},
   "outputs": [
    {
     "name": "stdout",
     "output_type": "stream",
     "text": [
      "CPU times: user 23.6 ms, sys: 4.18 ms, total: 27.8 ms\n",
      "Wall time: 1.61 s\n"
     ]
    },
    {
     "data": {
      "application/vnd.atoti.convert-mdx-query-result-to-widget.v0+json": {
       "mdx": "SELECT {[Measures].[QUANTITY.SUM], [Measures].[PROFIT]} ON COLUMNS, NON EMPTY Crossjoin(Hierarchize(Descendants({[Atoti Sales].[DATE].[ALL].[AllMember]}, 1, SELF_AND_BEFORE)), Hierarchize(Descendants({[Atoti Sales].[PRODUCT].[ALL].[AllMember]}, 1, SELF_AND_BEFORE)), Hierarchize(Descendants({[Atoti Sales].[SALE_ID].[ALL].[AllMember]}, 1, SELF_AND_BEFORE))) ON ROWS FROM [Atoti Sales]",
       "sessionId": "1751380077_814167",
       "widgetCreationCode": "session.widget"
      },
      "text/html": [
       "<div>\n",
       "<style scoped>\n",
       "    .dataframe tbody tr th:only-of-type {\n",
       "        vertical-align: middle;\n",
       "    }\n",
       "\n",
       "    .dataframe tbody tr th {\n",
       "        vertical-align: top;\n",
       "    }\n",
       "\n",
       "    .dataframe thead th {\n",
       "        text-align: right;\n",
       "    }\n",
       "</style>\n",
       "<table border=\"1\" class=\"dataframe\">\n",
       "  <thead>\n",
       "    <tr style=\"text-align: right;\">\n",
       "      <th></th>\n",
       "      <th></th>\n",
       "      <th></th>\n",
       "      <th>QUANTITY.SUM</th>\n",
       "      <th>PROFIT</th>\n",
       "    </tr>\n",
       "    <tr>\n",
       "      <th>DATE</th>\n",
       "      <th>PRODUCT</th>\n",
       "      <th>SALE_ID</th>\n",
       "      <th></th>\n",
       "      <th></th>\n",
       "    </tr>\n",
       "  </thead>\n",
       "  <tbody>\n",
       "    <tr>\n",
       "      <th rowspan=\"2\" valign=\"top\">2022-02-04</th>\n",
       "      <th>HOO_5</th>\n",
       "      <th>S0017</th>\n",
       "      <td>1</td>\n",
       "      <td>10.00</td>\n",
       "    </tr>\n",
       "    <tr>\n",
       "      <th>TAB_0</th>\n",
       "      <th>S0000</th>\n",
       "      <td>1</td>\n",
       "      <td>20.00</td>\n",
       "    </tr>\n",
       "    <tr>\n",
       "      <th rowspan=\"4\" valign=\"top\">2022-02-03</th>\n",
       "      <th>HOO_5</th>\n",
       "      <th>S0018</th>\n",
       "      <td>1</td>\n",
       "      <td>10.00</td>\n",
       "    </tr>\n",
       "    <tr>\n",
       "      <th>TAB_0</th>\n",
       "      <th>S0001</th>\n",
       "      <td>1</td>\n",
       "      <td>20.00</td>\n",
       "    </tr>\n",
       "    <tr>\n",
       "      <th>TAB_1</th>\n",
       "      <th>S0004</th>\n",
       "      <td>1</td>\n",
       "      <td>20.00</td>\n",
       "    </tr>\n",
       "    <tr>\n",
       "      <th>TSH_3</th>\n",
       "      <th>S0011</th>\n",
       "      <td>1</td>\n",
       "      <td>3.00</td>\n",
       "    </tr>\n",
       "    <tr>\n",
       "      <th rowspan=\"5\" valign=\"top\">2022-02-02</th>\n",
       "      <th>HOO_5</th>\n",
       "      <th>S0019</th>\n",
       "      <td>1</td>\n",
       "      <td>10.00</td>\n",
       "    </tr>\n",
       "    <tr>\n",
       "      <th>TAB_0</th>\n",
       "      <th>S0002</th>\n",
       "      <td>1</td>\n",
       "      <td>20.00</td>\n",
       "    </tr>\n",
       "    <tr>\n",
       "      <th>TAB_1</th>\n",
       "      <th>S0005</th>\n",
       "      <td>1</td>\n",
       "      <td>20.00</td>\n",
       "    </tr>\n",
       "    <tr>\n",
       "      <th>TSH_3</th>\n",
       "      <th>S0012</th>\n",
       "      <td>1</td>\n",
       "      <td>3.00</td>\n",
       "    </tr>\n",
       "    <tr>\n",
       "      <th>TSH_4</th>\n",
       "      <th>S0014</th>\n",
       "      <td>1</td>\n",
       "      <td>4.00</td>\n",
       "    </tr>\n",
       "    <tr>\n",
       "      <th rowspan=\"5\" valign=\"top\">2022-02-01</th>\n",
       "      <th>BED_2</th>\n",
       "      <th>S0007</th>\n",
       "      <td>1</td>\n",
       "      <td>23.00</td>\n",
       "    </tr>\n",
       "    <tr>\n",
       "      <th>TAB_0</th>\n",
       "      <th>S0003</th>\n",
       "      <td>1</td>\n",
       "      <td>20.00</td>\n",
       "    </tr>\n",
       "    <tr>\n",
       "      <th>TAB_1</th>\n",
       "      <th>S0006</th>\n",
       "      <td>2</td>\n",
       "      <td>40.00</td>\n",
       "    </tr>\n",
       "    <tr>\n",
       "      <th>TSH_3</th>\n",
       "      <th>S0013</th>\n",
       "      <td>1</td>\n",
       "      <td>3.00</td>\n",
       "    </tr>\n",
       "    <tr>\n",
       "      <th>TSH_4</th>\n",
       "      <th>S0015</th>\n",
       "      <td>2</td>\n",
       "      <td>8.00</td>\n",
       "    </tr>\n",
       "    <tr>\n",
       "      <th rowspan=\"4\" valign=\"top\">2022-01-31</th>\n",
       "      <th rowspan=\"3\" valign=\"top\">BED_2</th>\n",
       "      <th>S0008</th>\n",
       "      <td>1</td>\n",
       "      <td>23.00</td>\n",
       "    </tr>\n",
       "    <tr>\n",
       "      <th>S0009</th>\n",
       "      <td>1</td>\n",
       "      <td>23.00</td>\n",
       "    </tr>\n",
       "    <tr>\n",
       "      <th>S0010</th>\n",
       "      <td>3</td>\n",
       "      <td>69.00</td>\n",
       "    </tr>\n",
       "    <tr>\n",
       "      <th>TSH_4</th>\n",
       "      <th>S0016</th>\n",
       "      <td>2</td>\n",
       "      <td>8.00</td>\n",
       "    </tr>\n",
       "  </tbody>\n",
       "</table>\n",
       "</div>"
      ],
      "text/plain": [
       "                           QUANTITY.SUM PROFIT\n",
       "DATE       PRODUCT SALE_ID                    \n",
       "2022-02-04 HOO_5   S0017              1  10.00\n",
       "           TAB_0   S0000              1  20.00\n",
       "2022-02-03 HOO_5   S0018              1  10.00\n",
       "           TAB_0   S0001              1  20.00\n",
       "           TAB_1   S0004              1  20.00\n",
       "           TSH_3   S0011              1   3.00\n",
       "2022-02-02 HOO_5   S0019              1  10.00\n",
       "           TAB_0   S0002              1  20.00\n",
       "           TAB_1   S0005              1  20.00\n",
       "           TSH_3   S0012              1   3.00\n",
       "           TSH_4   S0014              1   4.00\n",
       "2022-02-01 BED_2   S0007              1  23.00\n",
       "           TAB_0   S0003              1  20.00\n",
       "           TAB_1   S0006              2  40.00\n",
       "           TSH_3   S0013              1   3.00\n",
       "           TSH_4   S0015              2   8.00\n",
       "2022-01-31 BED_2   S0008              1  23.00\n",
       "                   S0009              1  23.00\n",
       "                   S0010              3  69.00\n",
       "           TSH_4   S0016              2   8.00"
      ]
     },
     "execution_count": 23,
     "metadata": {},
     "output_type": "execute_result"
    }
   ],
   "source": [
    "%%time\n",
    "\n",
    "cube.query(\n",
    "    m[\"QUANTITY.SUM\"], m[\"PROFIT\"], levels=[l[\"DATE\"], l[\"PRODUCT\"], l[\"SALE_ID\"]]\n",
    ")"
   ]
  },
  {
   "cell_type": "code",
   "execution_count": 24,
   "id": "41a42190-2831-458d-9679-aa942dae9de0",
   "metadata": {},
   "outputs": [
    {
     "name": "stdout",
     "output_type": "stream",
     "text": [
      "CPU times: user 10.9 ms, sys: 2.81 ms, total: 13.7 ms\n",
      "Wall time: 1.74 s\n"
     ]
    },
    {
     "data": {
      "application/vnd.atoti.convert-mdx-query-result-to-widget.v0+json": {
       "mdx": "SELECT {[Measures].[PROFIT]} ON COLUMNS, NON EMPTY Crossjoin(Hierarchize(Descendants({[Atoti Sales].[DATE].[ALL].[AllMember]}, 1, SELF_AND_BEFORE)), Hierarchize(Descendants({[Atoti Product].[CATEGORY].[ALL].[AllMember]}, 2, SELF_AND_BEFORE))) DIMENSION PROPERTIES CHILDREN_CARDINALITY ON ROWS FROM [Atoti Sales]",
       "sessionId": "1751380077_814167",
       "widgetCreationCode": "session.widget"
      },
      "text/html": [
       "<div>\n",
       "<style scoped>\n",
       "    .dataframe tbody tr th:only-of-type {\n",
       "        vertical-align: middle;\n",
       "    }\n",
       "\n",
       "    .dataframe tbody tr th {\n",
       "        vertical-align: top;\n",
       "    }\n",
       "\n",
       "    .dataframe thead th {\n",
       "        text-align: right;\n",
       "    }\n",
       "</style>\n",
       "<table border=\"1\" class=\"dataframe\">\n",
       "  <thead>\n",
       "    <tr style=\"text-align: right;\">\n",
       "      <th></th>\n",
       "      <th></th>\n",
       "      <th></th>\n",
       "      <th>PROFIT</th>\n",
       "    </tr>\n",
       "    <tr>\n",
       "      <th>DATE</th>\n",
       "      <th>CATEGORY</th>\n",
       "      <th>SUB_CATEGORY</th>\n",
       "      <th></th>\n",
       "    </tr>\n",
       "  </thead>\n",
       "  <tbody>\n",
       "    <tr>\n",
       "      <th rowspan=\"2\" valign=\"top\">2022-02-04</th>\n",
       "      <th>Cloth</th>\n",
       "      <th>Hoodie</th>\n",
       "      <td>10.00</td>\n",
       "    </tr>\n",
       "    <tr>\n",
       "      <th>Furniture</th>\n",
       "      <th>Table</th>\n",
       "      <td>20.00</td>\n",
       "    </tr>\n",
       "    <tr>\n",
       "      <th rowspan=\"3\" valign=\"top\">2022-02-03</th>\n",
       "      <th rowspan=\"2\" valign=\"top\">Cloth</th>\n",
       "      <th>Hoodie</th>\n",
       "      <td>10.00</td>\n",
       "    </tr>\n",
       "    <tr>\n",
       "      <th>Tshirt</th>\n",
       "      <td>3.00</td>\n",
       "    </tr>\n",
       "    <tr>\n",
       "      <th>Furniture</th>\n",
       "      <th>Table</th>\n",
       "      <td>40.00</td>\n",
       "    </tr>\n",
       "    <tr>\n",
       "      <th rowspan=\"3\" valign=\"top\">2022-02-02</th>\n",
       "      <th rowspan=\"2\" valign=\"top\">Cloth</th>\n",
       "      <th>Hoodie</th>\n",
       "      <td>10.00</td>\n",
       "    </tr>\n",
       "    <tr>\n",
       "      <th>Tshirt</th>\n",
       "      <td>7.00</td>\n",
       "    </tr>\n",
       "    <tr>\n",
       "      <th>Furniture</th>\n",
       "      <th>Table</th>\n",
       "      <td>40.00</td>\n",
       "    </tr>\n",
       "    <tr>\n",
       "      <th rowspan=\"3\" valign=\"top\">2022-02-01</th>\n",
       "      <th>Cloth</th>\n",
       "      <th>Tshirt</th>\n",
       "      <td>11.00</td>\n",
       "    </tr>\n",
       "    <tr>\n",
       "      <th rowspan=\"2\" valign=\"top\">Furniture</th>\n",
       "      <th>Bed</th>\n",
       "      <td>23.00</td>\n",
       "    </tr>\n",
       "    <tr>\n",
       "      <th>Table</th>\n",
       "      <td>60.00</td>\n",
       "    </tr>\n",
       "    <tr>\n",
       "      <th rowspan=\"2\" valign=\"top\">2022-01-31</th>\n",
       "      <th>Cloth</th>\n",
       "      <th>Tshirt</th>\n",
       "      <td>8.00</td>\n",
       "    </tr>\n",
       "    <tr>\n",
       "      <th>Furniture</th>\n",
       "      <th>Bed</th>\n",
       "      <td>115.00</td>\n",
       "    </tr>\n",
       "  </tbody>\n",
       "</table>\n",
       "</div>"
      ],
      "text/plain": [
       "                                   PROFIT\n",
       "DATE       CATEGORY  SUB_CATEGORY        \n",
       "2022-02-04 Cloth     Hoodie         10.00\n",
       "           Furniture Table          20.00\n",
       "2022-02-03 Cloth     Hoodie         10.00\n",
       "                     Tshirt          3.00\n",
       "           Furniture Table          40.00\n",
       "2022-02-02 Cloth     Hoodie         10.00\n",
       "                     Tshirt          7.00\n",
       "           Furniture Table          40.00\n",
       "2022-02-01 Cloth     Tshirt         11.00\n",
       "           Furniture Bed            23.00\n",
       "                     Table          60.00\n",
       "2022-01-31 Cloth     Tshirt          8.00\n",
       "           Furniture Bed           115.00"
      ]
     },
     "execution_count": 24,
     "metadata": {},
     "output_type": "execute_result"
    }
   ],
   "source": [
    "%%time\n",
    "\n",
    "cube.query(m[\"PROFIT\"], levels=[l[\"DATE\"], l[\"SUB_CATEGORY\"]])"
   ]
  },
  {
   "cell_type": "markdown",
   "id": "ec655a71-8eec-42ae-9dd5-3fa7bbf0f782",
   "metadata": {},
   "source": [
    "It takes approximately `3s` to return the query (YMMV)."
   ]
  },
  {
   "cell_type": "markdown",
   "id": "409bcc8e-c3e4-4592-a6ee-c54d41f97719",
   "metadata": {},
   "source": [
    "To speed up our querying, we make use of the [aggregate provider](https://docs.atoti.io/latest/api/atoti.AggregateProvider.html#atoti.AggregateProvider) to store intermediate aggregates in memory. If a step of a query uses a subset of the aggregate provider's levels and measures, the provider will speed up the query.  \n",
    "\n",
    "Since data is cached in memory, we will __not__ access BigQuery when a subset of these are queried.  "
   ]
  },
  {
   "cell_type": "code",
   "execution_count": 25,
   "id": "0f33a62c-d66d-4e3a-997d-ae325e9276ec",
   "metadata": {
    "tags": []
   },
   "outputs": [],
   "source": [
    "cube.aggregate_providers.update(\n",
    "    {\n",
    "        \"Products provider\": tt.AggregateProvider(\n",
    "            key=\"bitmap\",\n",
    "            levels=[l[\"DATE\"], l[\"PRODUCT\"], l[\"SALE_ID\"]],\n",
    "            measures=[m[\"QUANTITY.SUM\"], m[\"PURCHASE_PRICE.SUM\"], m[\"UNIT_PRICE.SUM\"]],\n",
    "            partitioning=\"hash16(PRODUCT)\",\n",
    "        )\n",
    "    }\n",
    ")"
   ]
  },
  {
   "cell_type": "markdown",
   "id": "4817dae9-0dbb-4c91-95bc-38a1320102ae",
   "metadata": {},
   "source": [
    "⚠️ **Important:** We can only use store aggregated measures supporting disaggregation can be used in aggregate provider, e.g. `tt.agg.sum` or `tt.agg.mean` on table columns.\n",
    "\n",
    "`m[\"PROFIT\"]` cannot be used because it is a chained measure resulting from the `sum_product` of a few measures.\n"
   ]
  },
  {
   "cell_type": "code",
   "execution_count": 26,
   "id": "0bc35e5d-1845-479b-873f-5a24be936f1e",
   "metadata": {
    "tags": []
   },
   "outputs": [
    {
     "name": "stdout",
     "output_type": "stream",
     "text": [
      "CPU times: user 10.5 ms, sys: 2.59 ms, total: 13.1 ms\n",
      "Wall time: 86.5 ms\n"
     ]
    },
    {
     "data": {
      "application/vnd.atoti.convert-mdx-query-result-to-widget.v0+json": {
       "mdx": "SELECT {[Measures].[PROFIT]} ON COLUMNS, NON EMPTY Crossjoin(Hierarchize(Descendants({[Atoti Sales].[DATE].[ALL].[AllMember]}, 1, SELF_AND_BEFORE)), Hierarchize(Descendants({[Atoti Sales].[PRODUCT].[ALL].[AllMember]}, 1, SELF_AND_BEFORE)), Hierarchize(Descendants({[Atoti Sales].[SALE_ID].[ALL].[AllMember]}, 1, SELF_AND_BEFORE))) ON ROWS FROM [Atoti Sales]",
       "sessionId": "1751380077_814167",
       "widgetCreationCode": "session.widget"
      },
      "text/html": [
       "<div>\n",
       "<style scoped>\n",
       "    .dataframe tbody tr th:only-of-type {\n",
       "        vertical-align: middle;\n",
       "    }\n",
       "\n",
       "    .dataframe tbody tr th {\n",
       "        vertical-align: top;\n",
       "    }\n",
       "\n",
       "    .dataframe thead th {\n",
       "        text-align: right;\n",
       "    }\n",
       "</style>\n",
       "<table border=\"1\" class=\"dataframe\">\n",
       "  <thead>\n",
       "    <tr style=\"text-align: right;\">\n",
       "      <th></th>\n",
       "      <th></th>\n",
       "      <th></th>\n",
       "      <th>PROFIT</th>\n",
       "    </tr>\n",
       "    <tr>\n",
       "      <th>DATE</th>\n",
       "      <th>PRODUCT</th>\n",
       "      <th>SALE_ID</th>\n",
       "      <th></th>\n",
       "    </tr>\n",
       "  </thead>\n",
       "  <tbody>\n",
       "    <tr>\n",
       "      <th rowspan=\"2\" valign=\"top\">2022-02-04</th>\n",
       "      <th>HOO_5</th>\n",
       "      <th>S0017</th>\n",
       "      <td>10.00</td>\n",
       "    </tr>\n",
       "    <tr>\n",
       "      <th>TAB_0</th>\n",
       "      <th>S0000</th>\n",
       "      <td>20.00</td>\n",
       "    </tr>\n",
       "    <tr>\n",
       "      <th rowspan=\"4\" valign=\"top\">2022-02-03</th>\n",
       "      <th>HOO_5</th>\n",
       "      <th>S0018</th>\n",
       "      <td>10.00</td>\n",
       "    </tr>\n",
       "    <tr>\n",
       "      <th>TAB_0</th>\n",
       "      <th>S0001</th>\n",
       "      <td>20.00</td>\n",
       "    </tr>\n",
       "    <tr>\n",
       "      <th>TAB_1</th>\n",
       "      <th>S0004</th>\n",
       "      <td>20.00</td>\n",
       "    </tr>\n",
       "    <tr>\n",
       "      <th>TSH_3</th>\n",
       "      <th>S0011</th>\n",
       "      <td>3.00</td>\n",
       "    </tr>\n",
       "    <tr>\n",
       "      <th rowspan=\"5\" valign=\"top\">2022-02-02</th>\n",
       "      <th>HOO_5</th>\n",
       "      <th>S0019</th>\n",
       "      <td>10.00</td>\n",
       "    </tr>\n",
       "    <tr>\n",
       "      <th>TAB_0</th>\n",
       "      <th>S0002</th>\n",
       "      <td>20.00</td>\n",
       "    </tr>\n",
       "    <tr>\n",
       "      <th>TAB_1</th>\n",
       "      <th>S0005</th>\n",
       "      <td>20.00</td>\n",
       "    </tr>\n",
       "    <tr>\n",
       "      <th>TSH_3</th>\n",
       "      <th>S0012</th>\n",
       "      <td>3.00</td>\n",
       "    </tr>\n",
       "    <tr>\n",
       "      <th>TSH_4</th>\n",
       "      <th>S0014</th>\n",
       "      <td>4.00</td>\n",
       "    </tr>\n",
       "    <tr>\n",
       "      <th rowspan=\"5\" valign=\"top\">2022-02-01</th>\n",
       "      <th>BED_2</th>\n",
       "      <th>S0007</th>\n",
       "      <td>23.00</td>\n",
       "    </tr>\n",
       "    <tr>\n",
       "      <th>TAB_0</th>\n",
       "      <th>S0003</th>\n",
       "      <td>20.00</td>\n",
       "    </tr>\n",
       "    <tr>\n",
       "      <th>TAB_1</th>\n",
       "      <th>S0006</th>\n",
       "      <td>40.00</td>\n",
       "    </tr>\n",
       "    <tr>\n",
       "      <th>TSH_3</th>\n",
       "      <th>S0013</th>\n",
       "      <td>3.00</td>\n",
       "    </tr>\n",
       "    <tr>\n",
       "      <th>TSH_4</th>\n",
       "      <th>S0015</th>\n",
       "      <td>8.00</td>\n",
       "    </tr>\n",
       "    <tr>\n",
       "      <th rowspan=\"4\" valign=\"top\">2022-01-31</th>\n",
       "      <th rowspan=\"3\" valign=\"top\">BED_2</th>\n",
       "      <th>S0008</th>\n",
       "      <td>23.00</td>\n",
       "    </tr>\n",
       "    <tr>\n",
       "      <th>S0009</th>\n",
       "      <td>23.00</td>\n",
       "    </tr>\n",
       "    <tr>\n",
       "      <th>S0010</th>\n",
       "      <td>69.00</td>\n",
       "    </tr>\n",
       "    <tr>\n",
       "      <th>TSH_4</th>\n",
       "      <th>S0016</th>\n",
       "      <td>8.00</td>\n",
       "    </tr>\n",
       "  </tbody>\n",
       "</table>\n",
       "</div>"
      ],
      "text/plain": [
       "                           PROFIT\n",
       "DATE       PRODUCT SALE_ID       \n",
       "2022-02-04 HOO_5   S0017    10.00\n",
       "           TAB_0   S0000    20.00\n",
       "2022-02-03 HOO_5   S0018    10.00\n",
       "           TAB_0   S0001    20.00\n",
       "           TAB_1   S0004    20.00\n",
       "           TSH_3   S0011     3.00\n",
       "2022-02-02 HOO_5   S0019    10.00\n",
       "           TAB_0   S0002    20.00\n",
       "           TAB_1   S0005    20.00\n",
       "           TSH_3   S0012     3.00\n",
       "           TSH_4   S0014     4.00\n",
       "2022-02-01 BED_2   S0007    23.00\n",
       "           TAB_0   S0003    20.00\n",
       "           TAB_1   S0006    40.00\n",
       "           TSH_3   S0013     3.00\n",
       "           TSH_4   S0015     8.00\n",
       "2022-01-31 BED_2   S0008    23.00\n",
       "                   S0009    23.00\n",
       "                   S0010    69.00\n",
       "           TSH_4   S0016     8.00"
      ]
     },
     "execution_count": 26,
     "metadata": {},
     "output_type": "execute_result"
    }
   ],
   "source": [
    "%%time\n",
    "\n",
    "cube.query(m[\"PROFIT\"], levels=[l[\"DATE\"], l[\"PRODUCT\"], l[\"SALE_ID\"]])"
   ]
  },
  {
   "cell_type": "markdown",
   "id": "fd36b224-ab65-45f0-a2fb-1e44c5fdb1c8",
   "metadata": {},
   "source": [
    "Previously, it took close to `3s` to return the query results. Now, it only takes slightly over `100ms` to return the results (YMMV).  \n",
    "\n",
    "Note that we are querying `PROFIT` and not the measures `m[\"QUANTITY.SUM\"]`, `m[\"PURCHASE_PRICE.SUM\"]` and `m[\"UNIT_PRICE.SUM\"]`. However, `PROFIT` is computed on the fly using the cached data in memory. Therefore, the query speed is improved drastically."
   ]
  },
  {
   "cell_type": "code",
   "execution_count": 27,
   "id": "800e212c-f4ce-4e77-8653-f8afd9b50043",
   "metadata": {
    "tags": []
   },
   "outputs": [
    {
     "name": "stdout",
     "output_type": "stream",
     "text": [
      "CPU times: user 6.26 ms, sys: 2.37 ms, total: 8.63 ms\n",
      "Wall time: 29.1 ms\n"
     ]
    },
    {
     "data": {
      "application/vnd.atoti.convert-mdx-query-result-to-widget.v0+json": {
       "mdx": "SELECT {[Measures].[PROFIT]} ON COLUMNS, NON EMPTY Hierarchize(Descendants({[Atoti Sales].[PRODUCT].[ALL].[AllMember]}, 1, SELF_AND_BEFORE)) ON ROWS FROM [Atoti Sales]",
       "sessionId": "1751380077_814167",
       "widgetCreationCode": "session.widget"
      },
      "text/html": [
       "<div>\n",
       "<style scoped>\n",
       "    .dataframe tbody tr th:only-of-type {\n",
       "        vertical-align: middle;\n",
       "    }\n",
       "\n",
       "    .dataframe tbody tr th {\n",
       "        vertical-align: top;\n",
       "    }\n",
       "\n",
       "    .dataframe thead th {\n",
       "        text-align: right;\n",
       "    }\n",
       "</style>\n",
       "<table border=\"1\" class=\"dataframe\">\n",
       "  <thead>\n",
       "    <tr style=\"text-align: right;\">\n",
       "      <th></th>\n",
       "      <th>PROFIT</th>\n",
       "    </tr>\n",
       "    <tr>\n",
       "      <th>PRODUCT</th>\n",
       "      <th></th>\n",
       "    </tr>\n",
       "  </thead>\n",
       "  <tbody>\n",
       "    <tr>\n",
       "      <th>BED_2</th>\n",
       "      <td>138.00</td>\n",
       "    </tr>\n",
       "    <tr>\n",
       "      <th>HOO_5</th>\n",
       "      <td>30.00</td>\n",
       "    </tr>\n",
       "    <tr>\n",
       "      <th>TAB_0</th>\n",
       "      <td>80.00</td>\n",
       "    </tr>\n",
       "    <tr>\n",
       "      <th>TAB_1</th>\n",
       "      <td>80.00</td>\n",
       "    </tr>\n",
       "    <tr>\n",
       "      <th>TSH_3</th>\n",
       "      <td>9.00</td>\n",
       "    </tr>\n",
       "    <tr>\n",
       "      <th>TSH_4</th>\n",
       "      <td>20.00</td>\n",
       "    </tr>\n",
       "  </tbody>\n",
       "</table>\n",
       "</div>"
      ],
      "text/plain": [
       "         PROFIT\n",
       "PRODUCT        \n",
       "BED_2    138.00\n",
       "HOO_5     30.00\n",
       "TAB_0     80.00\n",
       "TAB_1     80.00\n",
       "TSH_3      9.00\n",
       "TSH_4     20.00"
      ]
     },
     "execution_count": 27,
     "metadata": {},
     "output_type": "execute_result"
    }
   ],
   "source": [
    "%%time\n",
    "\n",
    "cube.query(m[\"PROFIT\"], levels=[l[\"PRODUCT\"]])"
   ]
  },
  {
   "cell_type": "markdown",
   "id": "3776a1f9-c10c-4912-866f-238a3b95fbee",
   "metadata": {},
   "source": [
    "Querying a subset of the aggregate provider levels also returns the result quickly.  \n",
    "\n",
    "The below query on a different level will access data from BigQuery and therefore, is limited by the querying speed of the cloud database and its network connectivity.  "
   ]
  },
  {
   "cell_type": "code",
   "execution_count": 28,
   "id": "08506fb9-16e3-4052-9288-380ecc441021",
   "metadata": {
    "tags": []
   },
   "outputs": [
    {
     "name": "stdout",
     "output_type": "stream",
     "text": [
      "CPU times: user 11.7 ms, sys: 2.91 ms, total: 14.6 ms\n",
      "Wall time: 1.68 s\n"
     ]
    },
    {
     "data": {
      "application/vnd.atoti.convert-mdx-query-result-to-widget.v0+json": {
       "mdx": "SELECT {[Measures].[PROFIT]} ON COLUMNS, NON EMPTY Crossjoin(Hierarchize(Descendants({[Atoti Sales].[DATE].[ALL].[AllMember]}, 1, SELF_AND_BEFORE)), Hierarchize(Descendants({[Atoti Product].[CATEGORY].[ALL].[AllMember]}, 2, SELF_AND_BEFORE))) DIMENSION PROPERTIES CHILDREN_CARDINALITY ON ROWS FROM [Atoti Sales]",
       "sessionId": "1751380077_814167",
       "widgetCreationCode": "session.widget"
      },
      "text/html": [
       "<div>\n",
       "<style scoped>\n",
       "    .dataframe tbody tr th:only-of-type {\n",
       "        vertical-align: middle;\n",
       "    }\n",
       "\n",
       "    .dataframe tbody tr th {\n",
       "        vertical-align: top;\n",
       "    }\n",
       "\n",
       "    .dataframe thead th {\n",
       "        text-align: right;\n",
       "    }\n",
       "</style>\n",
       "<table border=\"1\" class=\"dataframe\">\n",
       "  <thead>\n",
       "    <tr style=\"text-align: right;\">\n",
       "      <th></th>\n",
       "      <th></th>\n",
       "      <th></th>\n",
       "      <th>PROFIT</th>\n",
       "    </tr>\n",
       "    <tr>\n",
       "      <th>DATE</th>\n",
       "      <th>CATEGORY</th>\n",
       "      <th>SUB_CATEGORY</th>\n",
       "      <th></th>\n",
       "    </tr>\n",
       "  </thead>\n",
       "  <tbody>\n",
       "    <tr>\n",
       "      <th rowspan=\"2\" valign=\"top\">2022-02-04</th>\n",
       "      <th>Cloth</th>\n",
       "      <th>Hoodie</th>\n",
       "      <td>10.00</td>\n",
       "    </tr>\n",
       "    <tr>\n",
       "      <th>Furniture</th>\n",
       "      <th>Table</th>\n",
       "      <td>20.00</td>\n",
       "    </tr>\n",
       "    <tr>\n",
       "      <th rowspan=\"3\" valign=\"top\">2022-02-03</th>\n",
       "      <th rowspan=\"2\" valign=\"top\">Cloth</th>\n",
       "      <th>Hoodie</th>\n",
       "      <td>10.00</td>\n",
       "    </tr>\n",
       "    <tr>\n",
       "      <th>Tshirt</th>\n",
       "      <td>3.00</td>\n",
       "    </tr>\n",
       "    <tr>\n",
       "      <th>Furniture</th>\n",
       "      <th>Table</th>\n",
       "      <td>40.00</td>\n",
       "    </tr>\n",
       "    <tr>\n",
       "      <th rowspan=\"3\" valign=\"top\">2022-02-02</th>\n",
       "      <th rowspan=\"2\" valign=\"top\">Cloth</th>\n",
       "      <th>Hoodie</th>\n",
       "      <td>10.00</td>\n",
       "    </tr>\n",
       "    <tr>\n",
       "      <th>Tshirt</th>\n",
       "      <td>7.00</td>\n",
       "    </tr>\n",
       "    <tr>\n",
       "      <th>Furniture</th>\n",
       "      <th>Table</th>\n",
       "      <td>40.00</td>\n",
       "    </tr>\n",
       "    <tr>\n",
       "      <th rowspan=\"3\" valign=\"top\">2022-02-01</th>\n",
       "      <th>Cloth</th>\n",
       "      <th>Tshirt</th>\n",
       "      <td>11.00</td>\n",
       "    </tr>\n",
       "    <tr>\n",
       "      <th rowspan=\"2\" valign=\"top\">Furniture</th>\n",
       "      <th>Bed</th>\n",
       "      <td>23.00</td>\n",
       "    </tr>\n",
       "    <tr>\n",
       "      <th>Table</th>\n",
       "      <td>60.00</td>\n",
       "    </tr>\n",
       "    <tr>\n",
       "      <th rowspan=\"2\" valign=\"top\">2022-01-31</th>\n",
       "      <th>Cloth</th>\n",
       "      <th>Tshirt</th>\n",
       "      <td>8.00</td>\n",
       "    </tr>\n",
       "    <tr>\n",
       "      <th>Furniture</th>\n",
       "      <th>Bed</th>\n",
       "      <td>115.00</td>\n",
       "    </tr>\n",
       "  </tbody>\n",
       "</table>\n",
       "</div>"
      ],
      "text/plain": [
       "                                   PROFIT\n",
       "DATE       CATEGORY  SUB_CATEGORY        \n",
       "2022-02-04 Cloth     Hoodie         10.00\n",
       "           Furniture Table          20.00\n",
       "2022-02-03 Cloth     Hoodie         10.00\n",
       "                     Tshirt          3.00\n",
       "           Furniture Table          40.00\n",
       "2022-02-02 Cloth     Hoodie         10.00\n",
       "                     Tshirt          7.00\n",
       "           Furniture Table          40.00\n",
       "2022-02-01 Cloth     Tshirt         11.00\n",
       "           Furniture Bed            23.00\n",
       "                     Table          60.00\n",
       "2022-01-31 Cloth     Tshirt          8.00\n",
       "           Furniture Bed           115.00"
      ]
     },
     "execution_count": 28,
     "metadata": {},
     "output_type": "execute_result"
    }
   ],
   "source": [
    "%%time\n",
    "\n",
    "cube.query(m[\"PROFIT\"], levels=[l[\"DATE\"], l[\"SUB_CATEGORY\"]])"
   ]
  },
  {
   "cell_type": "markdown",
   "id": "c260f204-8f69-4f99-aefa-3e881c29e4bc",
   "metadata": {},
   "source": [
    "Before we are done with this example, let's create another aggregate provider with a _slice_ of data using `filter`.  \n",
    "\n",
    "Let's first capture the timing of the query without the aggregate provider."
   ]
  },
  {
   "cell_type": "code",
   "execution_count": 29,
   "id": "fe342fd4-1c7f-4995-833d-f3cac15d2aa4",
   "metadata": {},
   "outputs": [
    {
     "name": "stdout",
     "output_type": "stream",
     "text": [
      "CPU times: user 18.7 ms, sys: 4.87 ms, total: 23.5 ms\n",
      "Wall time: 2.07 s\n"
     ]
    },
    {
     "data": {
      "application/vnd.atoti.convert-mdx-query-result-to-widget.v0+json": {
       "mdx": "SELECT {[Measures].[PROFIT]} ON COLUMNS, NON EMPTY Crossjoin(Hierarchize(Descendants({[Atoti Sales].[DATE].[ALL].[AllMember]}, 1, SELF_AND_BEFORE)), Hierarchize(Descendants({[Atoti Product].[CATEGORY].[ALL].[AllMember]}, 2, SELF_AND_BEFORE))) DIMENSION PROPERTIES CHILDREN_CARDINALITY ON ROWS FROM (SELECT [Atoti Sales].[DATE].[ALL].[AllMember].[2022-02-04] ON COLUMNS FROM [Atoti Sales])",
       "sessionId": "1751380077_814167",
       "widgetCreationCode": "session.widget"
      },
      "text/html": [
       "<div>\n",
       "<style scoped>\n",
       "    .dataframe tbody tr th:only-of-type {\n",
       "        vertical-align: middle;\n",
       "    }\n",
       "\n",
       "    .dataframe tbody tr th {\n",
       "        vertical-align: top;\n",
       "    }\n",
       "\n",
       "    .dataframe thead th {\n",
       "        text-align: right;\n",
       "    }\n",
       "</style>\n",
       "<table border=\"1\" class=\"dataframe\">\n",
       "  <thead>\n",
       "    <tr style=\"text-align: right;\">\n",
       "      <th></th>\n",
       "      <th></th>\n",
       "      <th></th>\n",
       "      <th>PROFIT</th>\n",
       "    </tr>\n",
       "    <tr>\n",
       "      <th>DATE</th>\n",
       "      <th>CATEGORY</th>\n",
       "      <th>SUB_CATEGORY</th>\n",
       "      <th></th>\n",
       "    </tr>\n",
       "  </thead>\n",
       "  <tbody>\n",
       "    <tr>\n",
       "      <th rowspan=\"2\" valign=\"top\">2022-02-04</th>\n",
       "      <th>Cloth</th>\n",
       "      <th>Hoodie</th>\n",
       "      <td>10.00</td>\n",
       "    </tr>\n",
       "    <tr>\n",
       "      <th>Furniture</th>\n",
       "      <th>Table</th>\n",
       "      <td>20.00</td>\n",
       "    </tr>\n",
       "  </tbody>\n",
       "</table>\n",
       "</div>"
      ],
      "text/plain": [
       "                                  PROFIT\n",
       "DATE       CATEGORY  SUB_CATEGORY       \n",
       "2022-02-04 Cloth     Hoodie        10.00\n",
       "           Furniture Table         20.00"
      ]
     },
     "execution_count": 29,
     "metadata": {},
     "output_type": "execute_result"
    }
   ],
   "source": [
    "%%time\n",
    "\n",
    "cube.query(\n",
    "    m[\"PROFIT\"],\n",
    "    levels=[l[\"DATE\"], l[\"CATEGORY\"], l[\"SUB_CATEGORY\"]],\n",
    "    filter=(l[\"DATE\"] == \"2022-02-04\"),\n",
    ")"
   ]
  },
  {
   "cell_type": "code",
   "execution_count": 30,
   "id": "b240a857-71f6-4344-8967-570013c0ac98",
   "metadata": {
    "tags": []
   },
   "outputs": [],
   "source": [
    "from datetime import date\n",
    "\n",
    "current_date = date(2022, 2, 4)"
   ]
  },
  {
   "cell_type": "markdown",
   "id": "9526ed6a-2c74-4ab5-935e-51899123340c",
   "metadata": {},
   "source": [
    "In the event where users are interested in a particular member of level, e.g. the current date or a particular shop, and the amount of querying on this member is huge, then it makes sense to cache them in memory.  \n",
    "\n",
    "In this case, we apply filter just for the interested member. This helps to control the amount of data held in memory."
   ]
  },
  {
   "cell_type": "code",
   "execution_count": 31,
   "id": "17ae6441-66db-4038-bfee-28df3b2c576e",
   "metadata": {},
   "outputs": [
    {
     "name": "stderr",
     "output_type": "stream",
     "text": [
      "/Users/aya/Desktop/atoti/.venv/lib/python3.11/site-packages/pydantic/_internal/_dataclasses.py:120: FutureWarning: The passed levels must belong to different hierarchies but levels `CATEGORY` and `SUB_CATEGORY` were given for `h['Atoti Product', 'CATEGORY']`.\n",
      "  s.__pydantic_validator__.validate_python(ArgsKwargs(args, kwargs), self_instance=s)\n"
     ]
    }
   ],
   "source": [
    "cube.aggregate_providers.update(\n",
    "    {\n",
    "        \"Category provider\": tt.AggregateProvider(\n",
    "            key=\"bitmap\",\n",
    "            levels=[l[\"DATE\"], l[\"CATEGORY\"], l[\"SUB_CATEGORY\"]],\n",
    "            measures=[m[\"QUANTITY.SUM\"], m[\"PURCHASE_PRICE.SUM\"], m[\"UNIT_PRICE.SUM\"]],\n",
    "            filter=(l[\"DATE\"] == current_date),\n",
    "        )\n",
    "    }\n",
    ")"
   ]
  },
  {
   "cell_type": "code",
   "execution_count": 32,
   "id": "adc253db-cebe-49a2-a8ae-2f9630d5338d",
   "metadata": {
    "tags": []
   },
   "outputs": [
    {
     "name": "stdout",
     "output_type": "stream",
     "text": [
      "CPU times: user 14 ms, sys: 3.13 ms, total: 17.2 ms\n",
      "Wall time: 1.44 s\n"
     ]
    },
    {
     "data": {
      "application/vnd.atoti.convert-mdx-query-result-to-widget.v0+json": {
       "mdx": "SELECT {[Measures].[PROFIT]} ON COLUMNS, NON EMPTY Crossjoin(Hierarchize(Descendants({[Atoti Sales].[DATE].[ALL].[AllMember]}, 1, SELF_AND_BEFORE)), Hierarchize(Descendants({[Atoti Product].[CATEGORY].[ALL].[AllMember]}, 2, SELF_AND_BEFORE))) DIMENSION PROPERTIES CHILDREN_CARDINALITY ON ROWS FROM (SELECT [Atoti Sales].[DATE].[ALL].[AllMember].[2022-02-04] ON COLUMNS FROM [Atoti Sales])",
       "sessionId": "1751380077_814167",
       "widgetCreationCode": "session.widget"
      },
      "text/html": [
       "<div>\n",
       "<style scoped>\n",
       "    .dataframe tbody tr th:only-of-type {\n",
       "        vertical-align: middle;\n",
       "    }\n",
       "\n",
       "    .dataframe tbody tr th {\n",
       "        vertical-align: top;\n",
       "    }\n",
       "\n",
       "    .dataframe thead th {\n",
       "        text-align: right;\n",
       "    }\n",
       "</style>\n",
       "<table border=\"1\" class=\"dataframe\">\n",
       "  <thead>\n",
       "    <tr style=\"text-align: right;\">\n",
       "      <th></th>\n",
       "      <th></th>\n",
       "      <th></th>\n",
       "      <th>PROFIT</th>\n",
       "    </tr>\n",
       "    <tr>\n",
       "      <th>DATE</th>\n",
       "      <th>CATEGORY</th>\n",
       "      <th>SUB_CATEGORY</th>\n",
       "      <th></th>\n",
       "    </tr>\n",
       "  </thead>\n",
       "  <tbody>\n",
       "    <tr>\n",
       "      <th rowspan=\"2\" valign=\"top\">2022-02-04</th>\n",
       "      <th>Cloth</th>\n",
       "      <th>Hoodie</th>\n",
       "      <td>10.00</td>\n",
       "    </tr>\n",
       "    <tr>\n",
       "      <th>Furniture</th>\n",
       "      <th>Table</th>\n",
       "      <td>20.00</td>\n",
       "    </tr>\n",
       "  </tbody>\n",
       "</table>\n",
       "</div>"
      ],
      "text/plain": [
       "                                  PROFIT\n",
       "DATE       CATEGORY  SUB_CATEGORY       \n",
       "2022-02-04 Cloth     Hoodie        10.00\n",
       "           Furniture Table         20.00"
      ]
     },
     "execution_count": 32,
     "metadata": {},
     "output_type": "execute_result"
    }
   ],
   "source": [
    "%%time\n",
    "\n",
    "cube.query(\n",
    "    m[\"PROFIT\"],\n",
    "    levels=[l[\"DATE\"], l[\"CATEGORY\"], l[\"SUB_CATEGORY\"]],\n",
    "    filter=(l[\"DATE\"] == \"2022-02-04\"),\n",
    ")"
   ]
  },
  {
   "cell_type": "markdown",
   "id": "4b392590-0e19-4d03-84db-853028977e8b",
   "metadata": {},
   "source": [
    "## Balance between Cost and Performance"
   ]
  },
  {
   "cell_type": "markdown",
   "id": "1f44c57a-00ad-44eb-9195-ed0b0a808a62",
   "metadata": {},
   "source": [
    "All in all, Atoti's DirectQuery offers users a way to balance between cost and performance:\n",
    "\n",
    "* For data that is less queried, it resides on the cloud database and gets queried on-demand.\n",
    "* For data that is more frequently queried, we can cache it in memory and reduce the number of queries to the cloud database, thereby improving performance.  \n",
    "\n",
    "<img src=\"https://data.atoti.io/notebooks/direct-query/img/aggregate_cache.png\" />  \n",
    "\n",
    "💡 **Note:** To find out more, reach out to [ActiveViam](https://activeviam.com/contact-us/?utm_source=github&utm_medium=atoti) for a demonstration."
   ]
  },
  {
   "cell_type": "markdown",
   "id": "455e3f95-0a8c-48bf-b793-69d5fe2f2083",
   "metadata": {},
   "source": [
    "<div style=\"text-align: center;\" ><a href=\"https://www.atoti.io/?utm_source=gallery&utm_content=directquery-intro\" target=\"_blank\" rel=\"noopener noreferrer\"><img src=\"https://data.atoti.io/notebooks/banners/Your-turn-to-try-Atoti.jpg\" alt=\"Try Atoti\"></a></div>"
   ]
  }
 ],
 "metadata": {
  "kernelspec": {
   "display_name": "Python 3 (ipykernel)",
   "language": "python",
   "name": "python3"
  },
  "language_info": {
   "codemirror_mode": {
    "name": "ipython",
    "version": 3
   },
   "file_extension": ".py",
   "mimetype": "text/x-python",
   "name": "python",
   "nbconvert_exporter": "python",
   "pygments_lexer": "ipython3",
   "version": "3.11.10"
  },
  "widgets": {
   "application/vnd.jupyter.widget-state+json": {
    "state": {},
    "version_major": 2,
    "version_minor": 0
   }
  }
 },
 "nbformat": 4,
 "nbformat_minor": 5
}
