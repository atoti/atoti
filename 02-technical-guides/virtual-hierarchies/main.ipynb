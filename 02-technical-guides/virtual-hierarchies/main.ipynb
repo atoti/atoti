{
 "cells": [
  {
   "cell_type": "markdown",
   "id": "e9924c94-89b0-4cc2-98de-0bb9973fa731",
   "metadata": {
    "editable": true,
    "slideshow": {
     "slide_type": ""
    },
    "tags": []
   },
   "source": [
    "# How a virtual hierarchy reduces memory footprint"
   ]
  },
  {
   "cell_type": "markdown",
   "id": "8ae95963-be99-455d-9f9c-b3aa6a2f42c3",
   "metadata": {},
   "source": [
    "A [virtual hierarchy](https://docs.activeviam.com/products/atoti/server/latest/docs/concepts/dimensions_and_hierarchies/#virtual-hierarchies) is a lightweight hierarchy implemented in [Atoti](https://www.atoti.io/). It offers a smaller memory footprint by not storing its members in the cube. This is especially handy for hierarchies with high cardinality, i.e. with many possible values. Usually, these are identifiers such as User ID, Shopping Cart ID, or Trade ID, where the hierarchy can have thousands of distinct values. These hierarchies are not typically the focus of interest for users in data analytics unless the specific use case requires a deep-dive investigation of such hierarchies.\n",
    "\n",
    "Creating a virtual or \"lightweight\" hierarchy comes with some trade-offs in features:\n",
    "\n",
    "* Navigation between the hierarchy members are not allowed. This means that it is not possible to use [`Lead`](https://learn.microsoft.com/en-us/sql/mdx/lead-mdx?view=sql-server-ver16) and [`Lag`](https://learn.microsoft.com/en-us/sql/mdx/lag-mdx?view=sql-server-ver16) functions such as [`atoti.shift`](https://docs.atoti.io/latest/lib/atoti/atoti.function.shift.html#atoti.shift) and [`atoti.date_shift`](https://docs.atoti.io/latest/lib/atoti/atoti.function.date_shift.html) on the virtual hierarchies.  \n",
    "* The virtual hierarchy cannot be a [slicing hierarchy](https://docs.atoti.io/latest/api/atoti.Hierarchy.slicing.html#atoti.Hierarchy.slicing).\n",
    "* For advanced users who manipulate the underlying MDX for querying, MDX expressions that includes a virtual hierarchy must include the `NON EMPTY` keyword. Member expressions must be written with the full member path: `[Dimension].[Hierarchy].[FirstLevel].[Path].[To].[My].[Member]`.  \n",
    "* In the Atoti UI and the Atoti JupyterLab extension, when creating or editing a filter on a virtual hierarchy, the full list of members is not displayed. Rather, the user must use the searchbar to find members and filter on them.  \n",
    "\n",
    "Let's explore more about virtual hierarchies in this notebook."
   ]
  },
  {
   "cell_type": "markdown",
   "id": "04dd12a2-5180-443a-bad1-9d4d194e230d",
   "metadata": {},
   "source": [
    "<div style=\"text-align:center\"><a href=\"https://www.atoti.io/?utm_source=gallery&utm_content=virtual-hierarchies\" target=\"_blank\" rel=\"noopener noreferrer\"><img src=\"https://data.atoti.io/notebooks/banners/Discover-Atoti-now.png\" alt=\"Atoti table\" /></a></div>"
   ]
  },
  {
   "cell_type": "markdown",
   "id": "d969ebe0-c20a-4dd8-8337-8ebfed611109",
   "metadata": {},
   "source": [
    "## Setting up ClickHouse for Atoti DirectQuery\n",
    "\n",
    "For this walkthrough, we will demonstrate a case where we have a hierarchy with high cardinality, and use [Atoti DirectQuery](https://docs.atoti.io/latest/how_tos/use_directquery.html) to connect to a ClickHouse instance that hosts more than 700k trade records.\n",
    "\n",
    "⚠️ We require a valid license to [unlock all Atoti features](https://docs.atoti.io/latest/how_tos/unlock_all_features.html) and to be able to use DirectQuery. You can register online for an [evaluation license](https://atoti.io/evaluation-license-request/). In addition, ClickHouse provides a 30-day trial for its [cloud-based DBMS](https://clickhouse.com/cloud).  \n",
    "\n",
    "Let's first set up our database by creating a service and running the following [clickhouse_table_user.sql](./clickhouse_table_user.sql) script.\n",
    "\n",
    "### Creating DB, Tables, and Roles  \n",
    "\n",
    "We can navigate to our query editor for one of our Clickhouse instances and run the following SQL commands from [clickhouse_table_user.sql](./clickhouse_table_user.sql):\n",
    "\n",
    "![setting-up-db](https://data.atoti.io/notebooks/virtual-hierarchies/img/setting-up-db.png)\n",
    "\n",
    "Here, we create the `ATOTI` database.\n",
    "\n",
    "```sql\n",
    "CREATE DATABASE IF NOT EXISTS ATOTI;\n",
    "```\n",
    "\n",
    "Next, we create the `TRADE_PNLS` table.\n",
    "\n",
    "```sql\n",
    "CREATE TABLE IF NOT EXISTS ATOTI.TRADE_PNLS (\n",
    "  `BookId` Int64, \n",
    "  `AsOfDate` Date32, \n",
    "  `TradeId` String, \n",
    "  `DataSet` String, \n",
    "  `RiskFactor` String, \n",
    "  `RiskClass` String, \n",
    "  `SensitivityName` String, \n",
    "  `ccy` String, \n",
    "  `pnl_vector` Array(Float64), \n",
    ")\n",
    "ENGINE = MergeTree()\n",
    "PRIMARY KEY (`BookId`, `AsOfDate`, `TradeId`, `DataSet`);\n",
    "```\n",
    "\n",
    "And finally, we grant the specific privileges for the `querier` role, which will be the role assigned to any user connecting to the ClickHouse instance using Atoti DirectQuery. In this case, we create a user `ATOTI_QUERIER` and specify the password as `Password123!`.\n",
    "\n",
    "```sql\n",
    "CREATE ROLE querier;\n",
    "\n",
    "GRANT SELECT ON ATOTI.* TO querier WITH GRANT OPTION;\n",
    "GRANT SELECT ON system.databases TO querier WITH GRANT OPTION;\n",
    "GRANT SELECT ON system.processes TO querier WITH GRANT OPTION;\n",
    "GRANT SELECT ON system.tables TO querier WITH GRANT OPTION;\n",
    "GRANT SELECT ON system.columns TO querier WITH GRANT OPTION;\n",
    "\n",
    "CREATE USER IF NOT EXISTS ATOTI_QUERIER IDENTIFIED WITH sha256_password BY 'Password123!' DEFAULT ROLE querier;\n",
    "```\n",
    "\n",
    "### Loading Data into ClickHouse\n",
    "\n",
    "Now let's load data within the `TRADE_PNLS` table that we just created. Download the following `.zip` file:\n",
    "\n",
    "* [trades_pnl.zip](https://data.atoti.io/notebooks/direct-query/data/trades_pnl.zip)\n",
    "\n",
    "and extract the CSV from within the `.zip` file to upload the CSV to the ClickHouse instance using the [ClickHouse Command-Line Client (CLI)](https://clickhouse.com/docs/en/install). For Windows users, first install WLS 2 by running the command `wsl --install` in PowerShell before installing [ClickHouse CLI](https://clickhouse.com/docs/en/integrations/sql-clients/clickhouse-client-local).  \n",
    "\n",
    "To do this, we'll also need to set up the following environment variables. \n",
    "\n",
    "💡 **Note:** We set up our environment variables as a DBMS user.\n",
    "\n",
    "```bash\n",
    "export CLICKHOUSE_HOST=<host>\n",
    "export CLICKHOUSE_USER=<db_user>\n",
    "export CLICKHOUSE_PASSWORD=<db_password>\n",
    "export CLICKHOUSE_DB=<db>\n",
    "export TRADE_PNL_FILEPATH=<filepath_to_csv>\n",
    "```\n",
    "\n",
    "We can also verify our credentials by clicking the *Connect* button.\n",
    "\n",
    "![find-hostname](https://data.atoti.io/notebooks/virtual-hierarchies/img/find-hostname.png)\n",
    "\n",
    "Once we've set our environment variables, we can execute the following to upload the CSV and load the `TRADE_PNLS` table:\n",
    "\n",
    "```bash\n",
    "clickhouse client --host \"$CLICKHOUSE_HOST\" --secure --password  \"$CLICKHOUSE_PASSWORD\" --database \"$CLICKHOUSE_DB\" --query=\"INSERT INTO TRADE_PNLS FORMAT CSV\" < \"$TRADE_PNL_FILEPATH\"\n",
    "```\n",
    "\n",
    "For this walkthrough, we executed the following sequence:\n",
    "\n",
    "```bash\n",
    "export CLICKHOUSE_HOST=jelt586y67.us-east1.gcp.clickhouse.cloud\n",
    "export CLICKHOUSE_USER=default\n",
    "export CLICKHOUSE_PASSWORD=5A2_wByjrMBxz\n",
    "export CLICKHOUSE_DB=ATOTI\n",
    "export TRADE_PNL_FILEPATH=~/Downloads/trades_pnl.csv\n",
    "```\n",
    "\n",
    "```bash\n",
    "clickhouse client --host jelt586y67.us-east1.gcp.clickhouse.cloud --secure --password '5A2_wByjrMBxz' --database \"ATOTI\" --query=\"INSERT INTO TRADE_PNLS FORMAT CSV\" < ~/Downloads/trades_pnl.csv\n",
    "``` \n",
    "\n",
    "For Windows users, remember to copy the unzipped datafile to the Ubuntu directory:  \n",
    "\n",
    "<img src=\"https://data.atoti.io/notebooks/virtual-hierarchies/img/ubuntu_folder.png\" width=\"750px\"/>"
   ]
  },
  {
   "cell_type": "markdown",
   "id": "9fe85f82-7c08-46bd-8bad-7f378191a09a",
   "metadata": {},
   "source": [
    "## Using Atoti DirectQuery "
   ]
  },
  {
   "cell_type": "markdown",
   "id": "32346038-eb28-40e7-8b1c-ac5fda90cef9",
   "metadata": {},
   "source": [
    "Now that we have our ClickHouse instance set up and ready-to-go, let's set up our Atoti cube."
   ]
  },
  {
   "cell_type": "markdown",
   "id": "ad8a7814-2de0-493e-8d2c-0289b1e03d12",
   "metadata": {},
   "source": [
    "### Set up Atoti cube\n",
    "\n",
    "Uncomment the following cell to install the [DirectQuery plugin](https://docs.atoti.io/latest/reference.html#directquery) if you haven't installed it yet."
   ]
  },
  {
   "cell_type": "code",
   "execution_count": 1,
   "id": "28f26e79-07a4-4355-84cb-304915085686",
   "metadata": {},
   "outputs": [],
   "source": [
    "# !uv pip install \"atoti[directquery-clickhouse]\""
   ]
  },
  {
   "cell_type": "markdown",
   "id": "a3d7a49f-6752-42c5-987c-1e4b1931ec9e",
   "metadata": {},
   "source": [
    "Now let's import the required libraries and instantiate the Atoti session."
   ]
  },
  {
   "cell_type": "code",
   "execution_count": 2,
   "id": "5e53eb1c-6c2d-4581-80f0-2435aa0df343",
   "metadata": {},
   "outputs": [],
   "source": [
    "import os\n",
    "import atoti as tt\n",
    "from atoti_directquery_clickhouse import ConnectionConfig, TableConfig"
   ]
  },
  {
   "cell_type": "code",
   "execution_count": 3,
   "id": "ad90651f-1e18-474e-a4a1-cc7ec8f6b556",
   "metadata": {},
   "outputs": [],
   "source": [
    "session = tt.Session.start()"
   ]
  },
  {
   "cell_type": "markdown",
   "id": "91ecb350-60e0-4e80-a775-c0515081a092",
   "metadata": {},
   "source": [
    "Next, we'll make the connection to the ClickHouse instance using [connect_to_external_database()](https://docs.atoti.io/latest/api/atoti.Session.connect_to_external_database.html#atoti.Session.connect_to_external_database). \n",
    "\n",
    "Before we do this, we should make sure we set our environment variables to use the `ATOTI_QUERIER` user assigned with the `querier` role that we created in previous steps.\n",
    "\n",
    "```bash\n",
    "export CLICKHOUSE_HOST=<host>\n",
    "export CLICKHOUSE_PORT=8443\n",
    "export CLICKHOUSE_USER=ATOTI_QUERIER\n",
    "export CLICKHOUSE_PASSWORD=Password123!\n",
    "```\n",
    "\n",
    "💡 **Note:** In the below code snippet, we configure the password in a separate parameter instead of embedding it in the URL. This is a good practice to prevent the password from getting logged along with the URL. Furthermore, the ClickHouse password requires at least 1 special character, and special characters can cause problems in URLs. "
   ]
  },
  {
   "cell_type": "code",
   "execution_count": 4,
   "id": "4f261f12-f04a-4792-a97a-4955b82cc951",
   "metadata": {
    "tags": []
   },
   "outputs": [],
   "source": [
    "connection_info = ConnectionConfig(\n",
    "    url=f\"clickhouse:https://{os.environ['CLICKHOUSE_USER']}@{os.environ['CLICKHOUSE_HOST']}:{os.environ['CLICKHOUSE_PORT']}\",\n",
    "    password=os.environ[\"CLICKHOUSE_PASSWORD\"],\n",
    ")\n",
    "\n",
    "db = session.connect_to_external_database(connection_info)"
   ]
  },
  {
   "cell_type": "markdown",
   "id": "9ffd7984-3337-479a-8828-46ccadca53f4",
   "metadata": {},
   "source": [
    "Under the `ATOTI` database in ClickHouse, we have two tables. We'll use only the `TRADE_PNLS` table."
   ]
  },
  {
   "cell_type": "code",
   "execution_count": 5,
   "id": "dcb0359d-f3e3-48b8-ab4d-c7b6e63a1c68",
   "metadata": {
    "tags": []
   },
   "outputs": [
    {
     "data": {
      "application/json": {
       "": {
        "ATOTI": [
         "TRADE_PNLS"
        ],
        "system": [
         "columns",
         "databases",
         "processes",
         "tables"
        ]
       }
      },
      "text/html": [
       "<ul>\n",
       "<li>CLICKHOUSE\n",
       "  <ul>\n",
       "  <li>\n",
       "    <ul>\n",
       "    <li>system\n",
       "      <ol>\n",
       "      <li>columns</li>\n",
       "      <li>databases</li>\n",
       "      <li>processes</li>\n",
       "      <li>tables</li>\n",
       "      </ol>    </li>\n",
       "    <li>ATOTI\n",
       "      <ol>\n",
       "      <li>TRADE_PNLS</li>\n",
       "      </ol>    </li>\n",
       "    </ul>\n",
       "  </li>\n",
       "  </ul>\n",
       "</li>\n",
       "</ul>\n"
      ],
      "text/plain": [
       "<atoti.directquery.external_tables.ExternalTables at 0x120610cd0>"
      ]
     },
     "execution_count": 5,
     "metadata": {
      "application/json": {
       "expanded": false,
       "root": "CLICKHOUSE"
      }
     },
     "output_type": "execute_result"
    }
   ],
   "source": [
    "db.tables"
   ]
  },
  {
   "cell_type": "code",
   "execution_count": 6,
   "id": "b5d65597-dd92-4559-8a16-b0f7422f433f",
   "metadata": {
    "tags": []
   },
   "outputs": [],
   "source": [
    "trades_atoti = session.add_external_table(\n",
    "    db.tables[\"TRADE_PNLS\"],\n",
    "    table_name=\"Trade PnL\",\n",
    "    config=TableConfig(keys=[\"AsOfDate\", \"TradeId\", \"BookId\", \"DataSet\"]),\n",
    ")"
   ]
  },
  {
   "cell_type": "code",
   "execution_count": 7,
   "id": "a1fc1cb9-f22d-4b57-859e-d034d4ba0c37",
   "metadata": {},
   "outputs": [
    {
     "name": "stdout",
     "output_type": "stream",
     "text": [
      "# of records: 765754, # of columns: 9\n"
     ]
    }
   ],
   "source": [
    "print(\n",
    "    f\"# of records: {trades_atoti.row_count}, # of columns: {len(list(trades_atoti))}\"\n",
    ")"
   ]
  },
  {
   "cell_type": "code",
   "execution_count": 8,
   "id": "e0ecab9a-c2aa-419d-965c-a7b02a874968",
   "metadata": {},
   "outputs": [
    {
     "data": {
      "image/png": "[encoded data removed]",
      "text/plain": [
       "erDiagram\n",
       "  \"Trade PnL\" {\n",
       "    _ long PK \"BookId\"\n",
       "    _ LocalDate PK \"AsOfDate\"\n",
       "    _ String PK \"TradeId\"\n",
       "    _ String PK \"DataSet\"\n",
       "    _ String \"RiskFactor\"\n",
       "    _ String \"RiskClass\"\n",
       "    _ String \"SensitivityName\"\n",
       "    _ String \"ccy\"\n",
       "    nullable double[] \"pnl_vector\"\n",
       "  }"
      ]
     },
     "execution_count": 8,
     "metadata": {},
     "output_type": "execute_result"
    }
   ],
   "source": [
    "cube = session.create_cube(trades_atoti)\n",
    "session.tables.schema"
   ]
  },
  {
   "cell_type": "markdown",
   "id": "142ef4e9-a829-489a-b713-03788539c51f",
   "metadata": {},
   "source": [
    "Before proceeding further, let's do some simple configurations that will help avoid querying the entire database. We set the `AsOfDate` as a slicing hierarchy and sort it in descending order. This way, only data from the latest `AsOfDate` will be returned by default when we query Atoti.  "
   ]
  },
  {
   "cell_type": "code",
   "execution_count": 9,
   "id": "0e8328f8-649d-43b5-b950-7f298380e69f",
   "metadata": {},
   "outputs": [],
   "source": [
    "h, l, m = cube.hierarchies, cube.levels, cube.measures"
   ]
  },
  {
   "cell_type": "code",
   "execution_count": 10,
   "id": "eb441bb8-9b29-4e18-a8e6-b44570f9096c",
   "metadata": {
    "tags": []
   },
   "outputs": [],
   "source": [
    "h[\"AsOfDate\"].slicing = True\n",
    "l[\"AsOfDate\"].order = tt.NaturalOrder(ascending=False)"
   ]
  },
  {
   "cell_type": "markdown",
   "id": "ad57bfb6-f8ac-4b87-9bef-cb5f38176958",
   "metadata": {},
   "source": [
    "Atoti is now able to retrieve data from ClickHouse without storing them in-memory.  "
   ]
  },
  {
   "cell_type": "code",
   "execution_count": 11,
   "id": "65a82548-15fe-412e-80d4-278c8e3f2e6e",
   "metadata": {
    "atoti": {
     "height": 191,
     "widget": {
      "mapping": {
       "columns": [
        "ALL_MEASURES"
       ],
       "measures": [
        "[Measures].[contributors.COUNT]"
       ],
       "rows": [
        "[Trade PnL].[AsOfDate].[AsOfDate]"
       ]
      },
      "name": "Daily data volume",
      "query": {
       "mdx": "SELECT NON EMPTY {[Measures].[contributors.COUNT]} ON COLUMNS, NON EMPTY [Trade PnL].[AsOfDate].[AsOfDate].Members ON ROWS FROM [Trade PnL] CELL PROPERTIES VALUE, FORMATTED_VALUE, BACK_COLOR, FORE_COLOR, FONT_FLAGS",
       "updateMode": "once"
      },
      "serverKey": "default",
      "widgetKey": "pivot-table"
     }
    },
    "tags": []
   },
   "outputs": [
    {
     "data": {
      "application/vnd.atoti.widget.v0+json": {
       "sessionId": "1733427383_762116",
       "sessionUrl": "http://localhost:56075",
       "widgetCreationCode": "session.widget"
      },
      "text/html": [
       "<img height=\"183\" width=\"1053\" src=\"data:image/png;base64,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\" />"
      ],
      "text/plain": [
       "Open the notebook in JupyterLab with the Atoti JupyterLab extension enabled to build this widget."
      ]
     },
     "metadata": {},
     "output_type": "display_data"
    }
   ],
   "source": [
    "session.widget"
   ]
  },
  {
   "cell_type": "markdown",
   "id": "4142fcf8-391e-4e6c-bc0a-8b6388491342",
   "metadata": {},
   "source": [
    "### Cardinality Investigation"
   ]
  },
  {
   "cell_type": "markdown",
   "id": "618e595f-fa6c-4992-9fda-eaffafd36161",
   "metadata": {},
   "source": [
    "Some of our hierarchies have a high cardinality (= number of distinct values). Let's create some measures to visualize that."
   ]
  },
  {
   "cell_type": "code",
   "execution_count": 12,
   "id": "45e109e8-a388-4efb-a67b-2e59e5d7f621",
   "metadata": {
    "tags": []
   },
   "outputs": [],
   "source": [
    "m[\"Distinct Trade Id\"] = tt.agg.count_distinct(trades_atoti[\"TradeId\"])\n",
    "m[\"Distinct BookId\"] = tt.agg.count_distinct(trades_atoti[\"BookId\"])\n",
    "m[\"Distinct RiskFactor\"] = tt.agg.count_distinct(trades_atoti[\"RiskFactor\"])\n",
    "m[\"Distinct RiskClass\"] = tt.agg.count_distinct(trades_atoti[\"RiskClass\"])"
   ]
  },
  {
   "cell_type": "code",
   "execution_count": 13,
   "id": "9bb810de-6465-43d9-aa3c-30348d004ad1",
   "metadata": {
    "atoti": {
     "widget": {
      "mapping": {
       "columns": [
        "ALL_MEASURES"
       ],
       "measures": [
        "[Measures].[Distinct BookId]",
        "[Measures].[Distinct RiskClass]",
        "[Measures].[Distinct RiskFactor]",
        "[Measures].[Distinct Trade Id]"
       ],
       "rows": []
      },
      "query": {
       "mdx": "SELECT NON EMPTY {[Measures].[Distinct BookId], [Measures].[Distinct RiskClass], [Measures].[Distinct RiskFactor], [Measures].[Distinct Trade Id]} ON COLUMNS FROM [Trade PnL] CELL PROPERTIES VALUE, FORMATTED_VALUE, BACK_COLOR, FORE_COLOR, FONT_FLAGS",
       "updateMode": "once"
      },
      "serverKey": "default",
      "widgetKey": "pivot-table"
     }
    }
   },
   "outputs": [
    {
     "data": {
      "application/vnd.atoti.widget.v0+json": {
       "sessionId": "1733427383_762116",
       "sessionUrl": "http://localhost:56075",
       "widgetCreationCode": "session.widget"
      },
      "text/html": [
       "<img height=\"352\" width=\"1053\" src=\"data:image/png;base64,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\" />"
      ],
      "text/plain": [
       "Open the notebook in JupyterLab with the Atoti JupyterLab extension enabled to build this widget."
      ]
     },
     "metadata": {},
     "output_type": "display_data"
    }
   ],
   "source": [
    "session.widget"
   ]
  },
  {
   "cell_type": "markdown",
   "id": "05de8c4f-9f0c-4351-b9be-af2f8dc3fc94",
   "metadata": {},
   "source": [
    "We can see that `TradeId` has far more unique values than the other hierarchies. Iterating through the hierarchies, we can see that only `TradeId` is set as a virtual hierarchy by the application."
   ]
  },
  {
   "cell_type": "code",
   "execution_count": 14,
   "id": "068d8cbd-60d3-4a54-82a3-088f85c13564",
   "metadata": {
    "tags": []
   },
   "outputs": [
    {
     "name": "stdout",
     "output_type": "stream",
     "text": [
      "Hierarchy name: ('Trade PnL', 'RiskClass'): False\n",
      "Hierarchy name: ('Trade PnL', 'RiskFactor'): False\n",
      "Hierarchy name: ('Trade PnL', 'AsOfDate'): False\n",
      "Hierarchy name: ('Trade PnL', 'DataSet'): False\n",
      "Hierarchy name: ('Trade PnL', 'TradeId'): True\n",
      "Hierarchy name: ('Trade PnL', 'BookId'): False\n",
      "Hierarchy name: ('Trade PnL', 'ccy'): False\n",
      "Hierarchy name: ('Trade PnL', 'SensitivityName'): False\n"
     ]
    }
   ],
   "source": [
    "for _hierarchy in h:\n",
    "    print(f\"Hierarchy name: {_hierarchy}: {h[_hierarchy].virtual}\")"
   ]
  },
  {
   "cell_type": "markdown",
   "id": "7ee1c971-d2e0-4520-bb11-9f9e5b97e581",
   "metadata": {},
   "source": [
    "⚠️ It is important to know that **with the use of DirectQuery, a hierarchy is automatically set as virtual if its cardinality is greater than or equal to 10000**. Without DirectQuery, we have to explicitly set a hierarchy as virtual where necessary."
   ]
  },
  {
   "cell_type": "markdown",
   "id": "cc7f18ce-0568-47ac-82ba-640263dcc819",
   "metadata": {},
   "source": [
    "### Trade-off on interactive filtering"
   ]
  },
  {
   "cell_type": "markdown",
   "id": "a457b587-75c8-43fe-a02b-76081088d1db",
   "metadata": {},
   "source": [
    "Normally, when creating or editing filters on a visualization using Atoti UI or the Atoti JupyterLab extension, the popover displays the full list of members of the selected hierarchy:  \n",
    "\n",
    "<img src=\"https://data.atoti.io/notebooks/virtual-hierarchies/img/normal_hierarchy_filter.gif\" width=\"75%\"/>  \n",
    "\n",
    "For virtual hierarchies, while the members are not retrieved by default, we can search on demand:  \n",
    "\n",
    "<img src=\"https://data.atoti.io/notebooks/virtual-hierarchies/img/filter-on-demand.gif\" width=\"75%\" />  "
   ]
  },
  {
   "cell_type": "code",
   "execution_count": 15,
   "id": "35266910-4ce1-4633-83f9-2285b9abb3a2",
   "metadata": {
    "atoti": {
     "widget": {
      "columnWidths": {
       "[Trade PnL].[TradeId].[TradeId]": 291
      },
      "filters": [
       {
        "dimensionName": "Trade PnL",
        "hierarchyName": "TradeId",
        "isExclusionFilter": false,
        "members": [
         [
          "AllMember",
          "EQB_AUTOCALL_BESP_BASKET_1 0385def4"
         ],
         [
          "AllMember",
          "EQB_AUTOCALL_BESP_BASKET_1 01575a67"
         ]
        ],
        "type": "members"
       }
      ],
      "mapping": {
       "columns": [
        "ALL_MEASURES"
       ],
       "measures": [
        "[Measures].[contributors.COUNT]"
       ],
       "rows": [
        "[Trade PnL].[RiskClass].[RiskClass] => [Trade PnL].[TradeId].[TradeId]"
       ]
      },
      "name": "Virtual Hierarchy",
      "query": {
       "mdx": "SELECT NON EMPTY Hierarchize(Union(Crossjoin(Descendants({[Trade PnL].[RiskClass].[ALL].[AllMember]}, 1, SELF_AND_BEFORE), [Trade PnL].[TradeId].DefaultMember), Crossjoin([Trade PnL].[RiskClass].[ALL].[AllMember].[Equity], Hierarchize(Descendants({[Trade PnL].[TradeId].[ALL].[AllMember]}, 1, SELF_AND_BEFORE))), Crossjoin([Trade PnL].[RiskClass].[ALL].[AllMember].[Foreign exchange], Hierarchize(Descendants({[Trade PnL].[TradeId].[ALL].[AllMember]}, 1, SELF_AND_BEFORE))), Crossjoin([Trade PnL].[RiskClass].[ALL].[AllMember].[Interest rate], Hierarchize(Descendants({[Trade PnL].[TradeId].[ALL].[AllMember]}, 1, SELF_AND_BEFORE))), Crossjoin([Trade PnL].[RiskClass].[ALL].[AllMember].[N/A], Hierarchize(Descendants({[Trade PnL].[TradeId].[ALL].[AllMember]}, 1, SELF_AND_BEFORE))))) ON ROWS, NON EMPTY {[Measures].[contributors.COUNT]} ON COLUMNS FROM [Trade PnL] CELL PROPERTIES VALUE, FORMATTED_VALUE, BACK_COLOR, FORE_COLOR, FONT_FLAGS",
       "updateMode": "once"
      },
      "serverKey": "default",
      "widgetKey": "pivot-table"
     }
    }
   },
   "outputs": [
    {
     "data": {
      "application/vnd.atoti.widget.v0+json": {
       "sessionId": "1733427383_762116",
       "sessionUrl": "http://localhost:56075",
       "widgetCreationCode": "session.widget"
      },
      "text/html": [
       "<img height=\"352\" width=\"1053\" src=\"data:image/png;base64,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\" />"
      ],
      "text/plain": [
       "Open the notebook in JupyterLab with the Atoti JupyterLab extension enabled to build this widget."
      ]
     },
     "metadata": {},
     "output_type": "display_data"
    }
   ],
   "source": [
    "session.widget"
   ]
  },
  {
   "cell_type": "markdown",
   "id": "3411ae4e-d804-4c11-8930-e1e523c25128",
   "metadata": {},
   "source": [
    "### MDX with Non Empty for a virtual hierarchy \n",
    "\n",
    "In [Multidimensional Expressions (MDX)](https://learn.microsoft.com/en-us/analysis-services/multidimensional-models/mdx/mdx-query-the-basic-query?view=asallproducts-allversions), the keyword [`Non Empty`](https://learn.microsoft.com/en-us/sql/mdx/nonempty-mdx?view=sql-server-ver16) is used to filter out empty cells from the result set of a query.\n",
    "\n",
    "<img src=\"https://data.atoti.io/notebooks/virtual-hierarchies/img/mdx.png\"/>  \n",
    "\n",
    "We can inspect the generated MDX of a visualization by expanding on the Property Inspector of JupyterLab for its cell.    \n",
    "\n",
    "MDX expressions including a virtual hierarchy must include the `NON EMPTY` keyword. Let's see what happens when we remove it for the rows containing our `TradeId` from the MDX above: "
   ]
  },
  {
   "cell_type": "code",
   "execution_count": 16,
   "id": "481f3c7d-1676-423e-bf6d-40553c02419b",
   "metadata": {
    "atoti": {
     "widget": {
      "columnWidths": {
       "[Trade PnL].[TradeId].[TradeId]": 291
      },
      "filters": [
       {
        "dimensionName": "Trade PnL",
        "hierarchyName": "TradeId",
        "isExclusionFilter": false,
        "members": [
         [
          "AllMember",
          "EQB_AUTOCALL_BESP_BASKET_1 0385def4"
         ],
         [
          "AllMember",
          "EQB_AUTOCALL_BESP_BASKET_1 01575a67"
         ]
        ],
        "type": "members"
       }
      ],
      "mapping": {
       "columns": [
        "ALL_MEASURES"
       ],
       "measures": [
        "[Measures].[contributors.COUNT]"
       ],
       "rows": [
        "[Trade PnL].[RiskClass].[RiskClass] => [Trade PnL].[TradeId].[TradeId]"
       ]
      },
      "name": "Virtual Hierarchy - not working as expected",
      "query": {
       "mdx": "SELECT Hierarchize(Union(Crossjoin(Descendants({[Trade PnL].[RiskClass].[ALL].[AllMember]}, 1, SELF_AND_BEFORE), [Trade PnL].[TradeId].DefaultMember), Crossjoin([Trade PnL].[RiskClass].[ALL].[AllMember].[Equity], Hierarchize(Descendants({[Trade PnL].[TradeId].[ALL].[AllMember]}, 1, SELF_AND_BEFORE))), Crossjoin([Trade PnL].[RiskClass].[ALL].[AllMember].[Foreign exchange], Hierarchize(Descendants({[Trade PnL].[TradeId].[ALL].[AllMember]}, 1, SELF_AND_BEFORE))), Crossjoin([Trade PnL].[RiskClass].[ALL].[AllMember].[Interest rate], Hierarchize(Descendants({[Trade PnL].[TradeId].[ALL].[AllMember]}, 1, SELF_AND_BEFORE))), Crossjoin([Trade PnL].[RiskClass].[ALL].[AllMember].[N/A], Hierarchize(Descendants({[Trade PnL].[TradeId].[ALL].[AllMember]}, 1, SELF_AND_BEFORE))))) ON ROWS, NON EMPTY {[Measures].[contributors.COUNT]} ON COLUMNS FROM [Trade PnL] CELL PROPERTIES VALUE, FORMATTED_VALUE, BACK_COLOR, FORE_COLOR, FONT_FLAGS",
       "updateMode": "once"
      },
      "serverKey": "default",
      "widgetKey": "pivot-table"
     }
    },
    "editable": true,
    "slideshow": {
     "slide_type": ""
    },
    "tags": []
   },
   "outputs": [
    {
     "data": {
      "application/vnd.atoti.widget.v0+json": {
       "sessionId": "1733427383_762116",
       "sessionUrl": "http://localhost:56075",
       "widgetCreationCode": "session.widget"
      },
      "text/plain": [
       "Open the notebook in JupyterLab with the Atoti JupyterLab extension enabled to build this widget."
      ]
     },
     "metadata": {},
     "output_type": "display_data"
    }
   ],
   "source": [
    "session.widget"
   ]
  },
  {
   "cell_type": "markdown",
   "id": "35cf0f0c-05aa-4872-87ea-1e29865782fe",
   "metadata": {},
   "source": [
    "### Memory footprint difference between virtual and non-virtual hierarchies"
   ]
  },
  {
   "cell_type": "markdown",
   "id": "3eac9179-3009-4804-92dc-49b27fe5c73e",
   "metadata": {},
   "source": [
    "From the [server log](https://docs.atoti.io/latest/lib/atoti/atoti.config.logging_config.html#atoti.LoggingConfig) (found under `$HOME/.atoti` folder by default), we can see that we have only utilized `140KB` of direct memory and less than `100 MB` of heap so far:  \n",
    "\n",
    "<img src=\"https://data.atoti.io/notebooks/virtual-hierarchies/img/virtual_hierarchy_mem_usage.png\" />  \n",
    "\n",
    "Let's try changing the `TradeId` into a non-virtual hierarchy."
   ]
  },
  {
   "cell_type": "code",
   "execution_count": 17,
   "id": "cfb31b3e-5388-4a32-9462-e03bd8d401e4",
   "metadata": {
    "tags": []
   },
   "outputs": [],
   "source": [
    "h[\"TradeId\"].virtual = False"
   ]
  },
  {
   "cell_type": "markdown",
   "id": "e88c2c11-d789-4c96-9049-356474e65383",
   "metadata": {},
   "source": [
    "After setting the `virtual` parameter to `False` for the `TradeId` hierarchy, the memory usage increases — now we utilize more than 1 MB of direct memory. \n",
    "  \n",
    "<img src=\"https://data.atoti.io/notebooks/virtual-hierarchies/img/non-virtual_hierarchy_mem_usage.png\" />"
   ]
  },
  {
   "cell_type": "markdown",
   "id": "6ee6bdfb-4d2c-4f17-9796-66962f6d712d",
   "metadata": {},
   "source": [
    "We can see that setting a hierarchy as virtual makes it lightweight memory-wise, while still being queryable by users, just in a slightly more restrictive way."
   ]
  },
  {
   "cell_type": "markdown",
   "id": "49554a62-574d-4852-8ca9-20f0a3736d71",
   "metadata": {},
   "source": [
    "<div style=\"text-align:center\"><a href=\"https://www.atoti.io/?utm_source=gallery&utm_content=virtual-hierarchies\" target=\"_blank\" rel=\"noopener noreferrer\"><img src=\"https://data.atoti.io/notebooks/banners/Your-turn-to-try-Atoti.jpg\" alt=\"Atoti table\" /></a></div>"
   ]
  }
 ],
 "metadata": {
  "kernelspec": {
   "display_name": "Python 3 (ipykernel)",
   "language": "python",
   "name": "python3"
  },
  "language_info": {
   "codemirror_mode": {
    "name": "ipython",
    "version": 3
   },
   "file_extension": ".py",
   "mimetype": "text/x-python",
   "name": "python",
   "nbconvert_exporter": "python",
   "pygments_lexer": "ipython3",
   "version": "3.10.11"
  },
  "widgets": {
   "application/vnd.jupyter.widget-state+json": {
    "state": {},
    "version_major": 2,
    "version_minor": 0
   }
  }
 },
 "nbformat": 4,
 "nbformat_minor": 5
}
