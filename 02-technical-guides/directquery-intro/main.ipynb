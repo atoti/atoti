{
 "cells": [
  {
   "cell_type": "markdown",
   "id": "ac3fbb12-82a8-4e9f-aa4e-e1ad414ce283",
   "metadata": {},
   "source": [
    "# DirectQuery: Combining Atoti and Data Warehouses"
   ]
  },
  {
   "cell_type": "markdown",
   "id": "a671e16d-c06b-432f-92c6-5b2d2f7043bd",
   "metadata": {},
   "source": [
    "We know Atoti provides in-memory analytics for big data. This means that we hold data in memory and perform aggregation on the fly in order to achieve fast and dynamic computations. In our usual Atoti setup, the hosting server requires a memory size that's about 1.5 times of the amount of data that gets loaded into the cube. However, with Atoti's DirectQuery, we can better support our users who store their data on the cloud! In fact, it applies for on-premise databases such as [ClickHouse](https://clickhouse.com/clickhouse) and [Microsoft SQL Server](https://www.microsoft.com/en-sg/sql-server/sql-server-downloads) too.  \n",
    "\n",
    "<img src=\"https://data.atoti.io/notebooks/direct-query/img/cost_vs_performance.png\" width=\"850px\"/>\n",
    "\n",
    "In a gist, here's what DirectQuery offers:  \n",
    "\n",
    "- Scalability\n",
    "\n",
    "> Leveraging the scalability of cloud data warehouse, the server that hosts Atoti only has to take into consideration the amount of data that gets queried on a daily basis.  \n",
    "> Instead of storing all of the data in physical memory, DirectQuery enables us to query the Cloud database directly, reducing the need for memory in the hosting server.  \n",
    "\n",
    "- Cost savings\n",
    "\n",
    "> Other than saving on the memory required for the hosting server, DirectQuery helps to save on the data transfer costs.  \n",
    "> While cloud data warehouse is cost-effective, we incur costs when we perform queries.  \n",
    "> We can reduce querying to the Cloud database by loading an aggregated cache in memory for the most frequently queried data.  \n",
    "\n",
    "- Technology agnosticism\n",
    "\n",
    "> With changes to only a few lines of data connectivity code in Atoti, we can easily switch from one Cloud service provider to another without impacting the Atoti server.  \n",
    "> We can even switch over to other data connectors such as physical files.  \n",
    "\n",
    "\n",
    "This notebook provides a quick introduction to how we can connect to Google BigQuery and create an Atoti cube."
   ]
  },
  {
   "cell_type": "markdown",
   "id": "f23aeb88-5455-44ee-892d-4aa7fc2dbfb7",
   "metadata": {},
   "source": [
    "<div style=\"text-align: center;\" ><a href=\"https://www.atoti.io/?utm_source=gallery&utm_content=directquery-intro\" target=\"_blank\" rel=\"noopener noreferrer\"><img src=\"https://data.atoti.io/notebooks/banners/Discover-Atoti-now.png\" alt=\"Try Atoti\"></a></div>"
   ]
  },
  {
   "cell_type": "markdown",
   "id": "663b2051-11e1-4815-8a2c-fde3d450d07b",
   "metadata": {},
   "source": [
    "## Google BigQuery configuration"
   ]
  },
  {
   "cell_type": "markdown",
   "id": "1db76b03-dbe0-4223-a656-8b7e9e2ff260",
   "metadata": {},
   "source": [
    "### Step 1 — Create role with permissions\n",
    "\n",
    "- Login to Google Cloud console.\n",
    "- Navigate to __IAM & Admin__ > __Roles__.  \n",
    "- Create a role with the following permission for the DirectQuery users:  \n",
    "    - `bigquery.datasets.get`\n",
    "    - `bigquery.jobs.create`\n",
    "    - `bigquery.readsessions.create`\n",
    "    - `bigquery.readsessions.getData`\n",
    "    - `bigquery.readsessions.update`\n",
    "    - `bigquery.routines.get`\n",
    "    - `bigquery.tables.get`\n",
    "    - `bigquery.tables.getData`\n",
    "    - `bigquery.tables.list`\n",
    "\n",
    "⚠️ **Important:** Having trouble pulling your data after setting up your account? Confirm that the above permissions have been set up properly!  \n",
    "\n",
    "<img src=\"https://data.atoti.io/notebooks/direct-query/img/bigquery_permission.png\" />\n",
    "\n",
    "💡 **Note:** For more details, refer to the [Atoti Server documentation](https://docs.activeviam.com/products/atoti/server/latest/docs/directquery/connect_to_external/connect_to_bigquery/)."
   ]
  },
  {
   "cell_type": "markdown",
   "id": "2143280e-d2b0-4da1-b20d-78af65d26753",
   "metadata": {},
   "source": [
    "### Step 2 — Create Service Account\n",
    "\n",
    "* Under **IAM & Admin**, navigate to **Service Accounts**.\n",
    "* Create a service account and assign the role created in Step 1.\n",
    "\n",
    "    <img src=\"https://data.atoti.io/notebooks/direct-query/img/service_account.png\" width=\"700px\"/>  "
   ]
  },
  {
   "cell_type": "markdown",
   "id": "03e75ceb-055a-4986-aa8d-6858422b260a",
   "metadata": {
    "tags": []
   },
   "source": [
    "### Step 3 — Generate API Key \n",
    "\n",
    "- Navigate to the __KEYS__ tab and generate a new key.  \n",
    "\n",
    "    <img src=\"https://data.atoti.io/notebooks/direct-query/img/create_key.png\" />  \n",
    "\n",
    "- Select `JSON` as key type and save the downloaded key to a server folder:  \n",
    "\n",
    "    <img src=\"https://data.atoti.io/notebooks/direct-query/img/json_key.png\" />\n",
    "\n",
    "- Configure environment variable pointing to the JSON key. In this use case, our environment variable is `DQ_GOOGLE_CREDENTIAL`:  \n",
    "\n",
    "    <img src=\"https://data.atoti.io/notebooks/direct-query/img/environment_variable.png\" />  \n",
    "\n",
    "💡 **Note:** Alternatively, we can set up [Application Default Credentials](https://cloud.google.com/docs/authentication/provide-credentials-adc) for authentication.  "
   ]
  },
  {
   "cell_type": "markdown",
   "id": "95e30413-d630-4b1b-a304-d824e9649c3d",
   "metadata": {},
   "source": [
    "## Database set up  \n",
    "\n",
    "To try out this notebook, you can setup the database schema and tables using the [database script](db_schema.sql) in the use case folder.  "
   ]
  },
  {
   "cell_type": "markdown",
   "id": "fcfd6d72-801a-460c-9e1f-4e0843909442",
   "metadata": {},
   "source": [
    "## Atoti Setup"
   ]
  },
  {
   "cell_type": "markdown",
   "id": "8857ebb1-032f-4b69-84e6-b8cf7e431def",
   "metadata": {},
   "source": [
    "We import [Atoti](https://docs.atoti.io/latest/getting_started/installation.html) library and create the [Atoti Session](https://docs.atoti.io/latest/api/atoti.Session.html#atoti.Session) as we always do.  "
   ]
  },
  {
   "cell_type": "code",
   "execution_count": 1,
   "id": "7d97f0ea-5b39-4c60-9a10-1cae5a22616d",
   "metadata": {
    "tags": []
   },
   "outputs": [],
   "source": [
    "import os\n",
    "import atoti as tt"
   ]
  },
  {
   "cell_type": "code",
   "execution_count": 2,
   "id": "3898f076-a031-49b7-a75f-074008d89a26",
   "metadata": {
    "tags": []
   },
   "outputs": [],
   "source": [
    "session = tt.Session.start()"
   ]
  },
  {
   "cell_type": "markdown",
   "id": "9e855ec8-18bb-46fa-8e99-751edafeb94c",
   "metadata": {},
   "source": [
    "## DirectQuery Prerequisites"
   ]
  },
  {
   "cell_type": "markdown",
   "id": "01a8923b-80b3-4bfd-86a0-2d705d4bb805",
   "metadata": {},
   "source": [
    "DirectQuery supports a few [databases](https://docs.atoti.io/latest/reference.html#directquery). For each of these databases, we have to install its respective Python plugin.  \n",
    "- `atoti-directquery-bigquery` : To use DirectQuery on Google BigQuery.\n",
    "- `atoti-directquery-clickhouse` : To use DirectQuery with ClickHouse.\n",
    "- `atoti-directquery-databricks` : To use DirectQuery on Databricks.\n",
    "- `atoti-directquery-mssql` : To use DirectQuery with Microsoft SQL Server.\n",
    "- `atoti-directquery-redshift` : To use DirectQuery on Amazon Redshift.\n",
    "- `atoti-directquery-snowflake` : To use DirectQuery on Snowflake.\n",
    "- `atoti-directquery-synapse` : To use DirectQuery on Azure Synapse Analytics.  \n",
    "\n",
    "In our example, we install the plugin for Google BigQuery. Uncomment the below line to install the plugin if it isn't installed.  \n",
    "\n",
    "⚠️ **Important:** We only support one type of database connection per Atoti session."
   ]
  },
  {
   "cell_type": "code",
   "execution_count": 3,
   "id": "af8780d7-ec54-481a-98d7-4cc9f7e030c1",
   "metadata": {
    "tags": []
   },
   "outputs": [],
   "source": [
    "# !pip install \"atoti[directquery-bigquery]\""
   ]
  },
  {
   "cell_type": "markdown",
   "id": "1d997a63-e2db-48f9-b501-0532c5eabb3d",
   "metadata": {},
   "source": [
    "We will be using two components from the DirectQueryPlugin:\n",
    "- [BigqueryConnectionInfo](https://docs.atoti.io/latest/api/atoti_directquery_bigquery.BigqueryConnectionInfo.html#atoti_directquery_bigquery.BigqueryConnectionInfo): Configure the connection information to BigQuery.\n",
    "- [BigqueryTableOptions](https://docs.atoti.io/latest/api/atoti_directquery_bigquery.BigqueryTableOptions.html#atoti_directquery_bigquery.BigqueryTableOptions): Configure the table options about the external table to create in Atoti.  \n",
    "\n",
    "⚠️ **Important:** Use the corresponding components for different databases if we are using a different one from BigQuery. E.g. we use [`ClickhouseConnectionInfo`](https://docs.atoti.io/latest/api/atoti_directquery_clickhouse.ClickhouseConnectionInfo.html#atoti_directquery_clickhouse.ClickhouseConnectionInfo) and [`ClickhouseTableOptions`](https://docs.atoti.io/latest/api/atoti_directquery_clickhouse.ClickhouseTableOptions.html#atoti_directquery_clickhouse.ClickhouseTableOptions) if we are connecting to [ClickHouse](https://clickhouse.com/)."
   ]
  },
  {
   "cell_type": "markdown",
   "id": "4509d71b-4d1b-4297-b18a-10430b128507",
   "metadata": {},
   "source": [
    "## Connection setup to Google BigQuery"
   ]
  },
  {
   "cell_type": "code",
   "execution_count": 4,
   "id": "f5eb2f90-be60-4332-80d2-1a5cd83147d4",
   "metadata": {
    "tags": []
   },
   "outputs": [],
   "source": [
    "from atoti_directquery_bigquery import ConnectionConfig"
   ]
  },
  {
   "cell_type": "markdown",
   "id": "00b90385-93af-479f-888a-bc0677f73eb2",
   "metadata": {},
   "source": [
    "In the below snippet, we use the environment variable to obtain the path to the [API key generated previous in Step 3](#Step-3-—-Generate-API-Key). Setting the credential path into `BigqueryConnectionInfo`, we can invoke the connection to the external database.  "
   ]
  },
  {
   "cell_type": "code",
   "execution_count": 5,
   "id": "ea50d105-284f-4296-b654-b5465037d634",
   "metadata": {
    "tags": []
   },
   "outputs": [],
   "source": [
    "credential = os.environ[\"DQ_GOOGLE_CREDENTIAL\"]\n",
    "connection_info = ConnectionConfig(credentials=credential)\n",
    "\n",
    "external_database = session.connect_to_external_database(connection_info)"
   ]
  },
  {
   "cell_type": "markdown",
   "id": "8e7f4c10-5dc6-4c53-aeea-ef4864471caf",
   "metadata": {},
   "source": [
    "### Discover External Tables"
   ]
  },
  {
   "cell_type": "markdown",
   "id": "51f3c2ee-c57b-49df-9756-60c96d9b0734",
   "metadata": {
    "tags": []
   },
   "source": [
    "Once connected, we can discover the tables available to us from the external database."
   ]
  },
  {
   "cell_type": "code",
   "execution_count": 6,
   "id": "5e85bd6f-dd6a-4ab8-a2f2-51d7759466de",
   "metadata": {
    "tags": []
   },
   "outputs": [
    {
     "data": {
      "application/json": {
       "bd-project-386413": {
        "tutorial": [
         "PRODUCTS",
         "SALES"
        ],
        "var_demo": [
         "BOOKS",
         "TRADE_PNLS"
        ]
       }
      },
      "text/html": [
       "<ul>\n",
       "<li>BIGQUERY\n",
       "  <ul>\n",
       "  <li>bd-project-386413\n",
       "    <ul>\n",
       "    <li>var_demo\n",
       "      <ol>\n",
       "      <li>BOOKS</li>\n",
       "      <li>TRADE_PNLS</li>\n",
       "      </ol>    </li>\n",
       "    <li>tutorial\n",
       "      <ol>\n",
       "      <li>PRODUCTS</li>\n",
       "      <li>SALES</li>\n",
       "      </ol>    </li>\n",
       "    </ul>\n",
       "  </li>\n",
       "  </ul>\n",
       "</li>\n",
       "</ul>\n"
      ],
      "text/plain": [
       "<atoti.directquery.external_tables.ExternalTables at 0x105e92a70>"
      ]
     },
     "execution_count": 6,
     "metadata": {
      "application/json": {
       "expanded": false,
       "root": "BIGQUERY"
      }
     },
     "output_type": "execute_result"
    }
   ],
   "source": [
    "external_database.tables"
   ]
  },
  {
   "cell_type": "markdown",
   "id": "4187eaef-cae3-44ca-80c1-dd952dd3faab",
   "metadata": {},
   "source": [
    "If the database has many schemas, we can perform a filter to access only the schema that we want."
   ]
  },
  {
   "cell_type": "code",
   "execution_count": 7,
   "id": "63c5fafe-05e1-429e-8f35-9f3f072e34f7",
   "metadata": {
    "tags": []
   },
   "outputs": [
    {
     "data": {
      "application/json": {
       "bd-project-386413": {
        "tutorial": [
         "PRODUCTS",
         "SALES"
        ]
       }
      },
      "text/html": [
       "<ul>\n",
       "<li>BIGQUERY\n",
       "  <ul>\n",
       "  <li>bd-project-386413\n",
       "    <ul>\n",
       "    <li>tutorial\n",
       "      <ol>\n",
       "      <li>PRODUCTS</li>\n",
       "      <li>SALES</li>\n",
       "      </ol>    </li>\n",
       "    </ul>\n",
       "  </li>\n",
       "  </ul>\n",
       "</li>\n",
       "</ul>\n"
      ],
      "text/plain": [
       "<atoti.directquery.external_tables.ExternalTables at 0x1418d9ff0>"
      ]
     },
     "execution_count": 7,
     "metadata": {
      "application/json": {
       "expanded": false,
       "root": "BIGQUERY"
      }
     },
     "output_type": "execute_result"
    }
   ],
   "source": [
    "external_database.tables._filter(schema_name=\"tutorial\")"
   ]
  },
  {
   "cell_type": "markdown",
   "id": "f1308a2c-a4d2-40e5-9985-7013fa05a9fb",
   "metadata": {},
   "source": [
    "### Discover Table Columns"
   ]
  },
  {
   "cell_type": "markdown",
   "id": "e72119a9-ed38-4d83-a8a5-1fe021b48e5c",
   "metadata": {},
   "source": [
    "If a table name is unique in the database, we can check its structure directly using its name:  "
   ]
  },
  {
   "cell_type": "code",
   "execution_count": 8,
   "id": "f91519b6-a36b-4f0c-b1f0-949b0be22d5f",
   "metadata": {
    "tags": []
   },
   "outputs": [
    {
     "data": {
      "application/json": {
       "DATE": "LocalDate",
       "PRODUCT": "String",
       "QUANTITY": "long",
       "SALE_ID": "String",
       "SHOP": "String",
       "UNIT_PRICE": "double"
      },
      "text/html": [
       "<ul>\n",
       "<li>SALES\n",
       "  <ul>\n",
       "  <li>SALE_ID: String</li>\n",
       "  <li>DATE: LocalDate</li>\n",
       "  <li>SHOP: String</li>\n",
       "  <li>PRODUCT: String</li>\n",
       "  <li>QUANTITY: long</li>\n",
       "  <li>UNIT_PRICE: double</li>\n",
       "  </ul>\n",
       "</li>\n",
       "</ul>\n"
      ],
      "text/plain": [
       "<atoti.directquery.external_table.ExternalTable at 0x1418dbf10>"
      ]
     },
     "execution_count": 8,
     "metadata": {
      "application/json": {
       "expanded": true,
       "root": "SALES"
      }
     },
     "output_type": "execute_result"
    }
   ],
   "source": [
    "external_database.tables[\"SALES\"]"
   ]
  },
  {
   "cell_type": "markdown",
   "id": "1d9ef3fb-85a5-472b-aa12-8a88e3d1e6d9",
   "metadata": {},
   "source": [
    "However, to be precise, it is a good practice to refer to the table using its database, schema and table names. Uncomment and execute the following cells as to try this out."
   ]
  },
  {
   "cell_type": "code",
   "execution_count": 9,
   "id": "247c876c-2b44-4b0f-8bcf-8864350bb3d6",
   "metadata": {
    "tags": []
   },
   "outputs": [],
   "source": [
    "# db_name = \"<database name here>\"\n",
    "# db_schema = \"tutorial\"\n",
    "# table_sales = \"SALES\""
   ]
  },
  {
   "cell_type": "code",
   "execution_count": 10,
   "id": "fbfde589-b458-474d-8665-af7b016598bc",
   "metadata": {
    "tags": []
   },
   "outputs": [],
   "source": [
    "# external_database.tables[db_name, db_schema, table_sales]"
   ]
  },
  {
   "cell_type": "markdown",
   "id": "85d14ebe-eb8a-4216-8564-8330b4b7b0d9",
   "metadata": {},
   "source": [
    "## Add External Table to Atoti"
   ]
  },
  {
   "cell_type": "markdown",
   "id": "8fa1b581-ee16-4730-8ea2-b29fa14ee03a",
   "metadata": {},
   "source": [
    "Since we have connected to the external database and we are able to see its structure, we can add the required tables to the Atoti session.  \n",
    "\n",
    "Using [BigqueryTableOptions](https://docs.atoti.io/latest/api/atoti_directquery_bigquery.BigqueryTableOptions.html#atoti_directquery_bigquery.BigqueryTableOptions), we can define additional options to the table that we will create in Atoti:\n",
    "\n",
    "- `array_conversion`: Converting values spread over multiple columns into array columns.\n",
    "- `clustering_columns`: Columns used for splitting up queries.\n",
    "- `keys`: Keys used to identify unique rows for updating of data.\n",
    "\n",
    "We will only use `keys` and `clustering_columns` in our example."
   ]
  },
  {
   "cell_type": "code",
   "execution_count": 11,
   "id": "7dab34b4-ca6f-4c80-8ba9-f8534f9eae5b",
   "metadata": {
    "tags": []
   },
   "outputs": [],
   "source": [
    "from atoti_directquery_bigquery import TableConfig"
   ]
  },
  {
   "cell_type": "markdown",
   "id": "790b7a07-c762-438a-878e-de3611f39b5c",
   "metadata": {},
   "source": [
    "Similar to how we create keys for Atoti tables, we set the key columns in the `BigqueryTableOptions`. Note that this external table is created in Atoti and the defined keys affects only the data that is accessible in Atoti. It does not change the tables in BigQuery.  \n",
    "\n",
    "To distinguish our Atoti external table from the BigQuery table, we named them differently in our example.  "
   ]
  },
  {
   "cell_type": "code",
   "execution_count": 12,
   "id": "a580d644-94e0-4772-ac94-a9600bc08546",
   "metadata": {
    "tags": []
   },
   "outputs": [],
   "source": [
    "sales_table = session.add_external_table(\n",
    "    external_database.tables[\"SALES\"],\n",
    "    table_name=\"Atoti Sales\",\n",
    "    config=TableConfig(keys=[\"SALE_ID\"], clustering_columns={\"DATE\", \"PRODUCT\"}),\n",
    ")"
   ]
  },
  {
   "cell_type": "markdown",
   "id": "ac9b4de4-60f9-45d9-8b87-e7d0452714ee",
   "metadata": {},
   "source": [
    "To speed up querying, Atoti makes use of [aggregate providers](https://docs.atoti.io/latest/api/atoti.AggregateProvider.html#atoti.AggregateProvider) to pre-aggregates some table columns up to certain levels. Feeding such providers from an external database can result in very large queries to be run on the database. Some databases can have trouble processing such large queries. Therefore, we define [clustering columns](https://docs.activeviam.com/products/atoti/server/latest/docs/directquery/directquery-clustering-fields/) to help split up queries made by DirectQuery to these external database when feeding the aggregate providers.  \n",
    "\n",
    "The `clustering_columns` parameter allows us to define columns to be used for clustering. While our example uses a small dataset and clustering column is not necessary, we demonstrate how it can be used in the snippet above.  "
   ]
  },
  {
   "cell_type": "code",
   "execution_count": 13,
   "id": "561e7c19-28cc-4796-918b-24de800147a7",
   "metadata": {
    "tags": []
   },
   "outputs": [
    {
     "data": {
      "text/html": [
       "<div>\n",
       "<style scoped>\n",
       "    .dataframe tbody tr th:only-of-type {\n",
       "        vertical-align: middle;\n",
       "    }\n",
       "\n",
       "    .dataframe tbody tr th {\n",
       "        vertical-align: top;\n",
       "    }\n",
       "\n",
       "    .dataframe thead th {\n",
       "        text-align: right;\n",
       "    }\n",
       "</style>\n",
       "<table border=\"1\" class=\"dataframe\">\n",
       "  <thead>\n",
       "    <tr style=\"text-align: right;\">\n",
       "      <th></th>\n",
       "      <th>DATE</th>\n",
       "      <th>SHOP</th>\n",
       "      <th>PRODUCT</th>\n",
       "      <th>QUANTITY</th>\n",
       "      <th>UNIT_PRICE</th>\n",
       "    </tr>\n",
       "    <tr>\n",
       "      <th>SALE_ID</th>\n",
       "      <th></th>\n",
       "      <th></th>\n",
       "      <th></th>\n",
       "      <th></th>\n",
       "      <th></th>\n",
       "    </tr>\n",
       "  </thead>\n",
       "  <tbody>\n",
       "    <tr>\n",
       "      <th>S0010</th>\n",
       "      <td>2022-01-31</td>\n",
       "      <td>shop_2</td>\n",
       "      <td>BED_2</td>\n",
       "      <td>3</td>\n",
       "      <td>150.0</td>\n",
       "    </tr>\n",
       "    <tr>\n",
       "      <th>S0007</th>\n",
       "      <td>2022-02-01</td>\n",
       "      <td>shop_5</td>\n",
       "      <td>BED_2</td>\n",
       "      <td>1</td>\n",
       "      <td>150.0</td>\n",
       "    </tr>\n",
       "    <tr>\n",
       "      <th>S0008</th>\n",
       "      <td>2022-01-31</td>\n",
       "      <td>shop_4</td>\n",
       "      <td>BED_2</td>\n",
       "      <td>1</td>\n",
       "      <td>150.0</td>\n",
       "    </tr>\n",
       "    <tr>\n",
       "      <th>S0009</th>\n",
       "      <td>2022-01-31</td>\n",
       "      <td>shop_3</td>\n",
       "      <td>BED_2</td>\n",
       "      <td>1</td>\n",
       "      <td>150.0</td>\n",
       "    </tr>\n",
       "    <tr>\n",
       "      <th>S0019</th>\n",
       "      <td>2022-02-02</td>\n",
       "      <td>shop_3</td>\n",
       "      <td>HOO_5</td>\n",
       "      <td>1</td>\n",
       "      <td>48.0</td>\n",
       "    </tr>\n",
       "  </tbody>\n",
       "</table>\n",
       "</div>"
      ],
      "text/plain": [
       "              DATE    SHOP PRODUCT  QUANTITY  UNIT_PRICE\n",
       "SALE_ID                                                 \n",
       "S0010   2022-01-31  shop_2   BED_2         3       150.0\n",
       "S0007   2022-02-01  shop_5   BED_2         1       150.0\n",
       "S0008   2022-01-31  shop_4   BED_2         1       150.0\n",
       "S0009   2022-01-31  shop_3   BED_2         1       150.0\n",
       "S0019   2022-02-02  shop_3   HOO_5         1        48.0"
      ]
     },
     "execution_count": 13,
     "metadata": {},
     "output_type": "execute_result"
    }
   ],
   "source": [
    "sales_table.head()"
   ]
  },
  {
   "cell_type": "markdown",
   "id": "dc44214e-743e-4937-9269-61498986355b",
   "metadata": {},
   "source": [
    "We can add multiple tables."
   ]
  },
  {
   "cell_type": "code",
   "execution_count": 14,
   "id": "f282f67a-dfa9-4ba1-aef7-779ec734fe50",
   "metadata": {
    "tags": []
   },
   "outputs": [
    {
     "data": {
      "text/html": [
       "<div>\n",
       "<style scoped>\n",
       "    .dataframe tbody tr th:only-of-type {\n",
       "        vertical-align: middle;\n",
       "    }\n",
       "\n",
       "    .dataframe tbody tr th {\n",
       "        vertical-align: top;\n",
       "    }\n",
       "\n",
       "    .dataframe thead th {\n",
       "        text-align: right;\n",
       "    }\n",
       "</style>\n",
       "<table border=\"1\" class=\"dataframe\">\n",
       "  <thead>\n",
       "    <tr style=\"text-align: right;\">\n",
       "      <th></th>\n",
       "      <th>CATEGORY</th>\n",
       "      <th>SUB_CATEGORY</th>\n",
       "      <th>SIZE</th>\n",
       "      <th>PURCHASE_PRICE</th>\n",
       "      <th>COLOR</th>\n",
       "      <th>BRAND</th>\n",
       "    </tr>\n",
       "    <tr>\n",
       "      <th>PRODUCT_ID</th>\n",
       "      <th></th>\n",
       "      <th></th>\n",
       "      <th></th>\n",
       "      <th></th>\n",
       "      <th></th>\n",
       "      <th></th>\n",
       "    </tr>\n",
       "  </thead>\n",
       "  <tbody>\n",
       "    <tr>\n",
       "      <th>BED_2</th>\n",
       "      <td>Furniture</td>\n",
       "      <td>Bed</td>\n",
       "      <td>Single</td>\n",
       "      <td>127.0</td>\n",
       "      <td>red</td>\n",
       "      <td>Mega</td>\n",
       "    </tr>\n",
       "    <tr>\n",
       "      <th>TAB_1</th>\n",
       "      <td>Furniture</td>\n",
       "      <td>Table</td>\n",
       "      <td>2m40</td>\n",
       "      <td>280.0</td>\n",
       "      <td>white</td>\n",
       "      <td>Mega</td>\n",
       "    </tr>\n",
       "    <tr>\n",
       "      <th>TAB_0</th>\n",
       "      <td>Furniture</td>\n",
       "      <td>Table</td>\n",
       "      <td>1m80</td>\n",
       "      <td>190.0</td>\n",
       "      <td>black</td>\n",
       "      <td>Basic</td>\n",
       "    </tr>\n",
       "    <tr>\n",
       "      <th>HOO_5</th>\n",
       "      <td>Cloth</td>\n",
       "      <td>Hoodie</td>\n",
       "      <td>M</td>\n",
       "      <td>38.0</td>\n",
       "      <td>red</td>\n",
       "      <td>Mega</td>\n",
       "    </tr>\n",
       "    <tr>\n",
       "      <th>TSH_3</th>\n",
       "      <td>Cloth</td>\n",
       "      <td>Tshirt</td>\n",
       "      <td>M</td>\n",
       "      <td>19.0</td>\n",
       "      <td>brown</td>\n",
       "      <td>Over</td>\n",
       "    </tr>\n",
       "  </tbody>\n",
       "</table>\n",
       "</div>"
      ],
      "text/plain": [
       "             CATEGORY SUB_CATEGORY    SIZE  PURCHASE_PRICE  COLOR  BRAND\n",
       "PRODUCT_ID                                                              \n",
       "BED_2       Furniture          Bed  Single           127.0    red   Mega\n",
       "TAB_1       Furniture        Table    2m40           280.0  white   Mega\n",
       "TAB_0       Furniture        Table    1m80           190.0  black  Basic\n",
       "HOO_5           Cloth       Hoodie       M            38.0    red   Mega\n",
       "TSH_3           Cloth       Tshirt       M            19.0  brown   Over"
      ]
     },
     "execution_count": 14,
     "metadata": {},
     "output_type": "execute_result"
    }
   ],
   "source": [
    "products_table = session.add_external_table(\n",
    "    external_database.tables[\"PRODUCTS\"],\n",
    "    table_name=\"Atoti Product\",\n",
    "    config=TableConfig(keys=[\"PRODUCT_ID\"]),\n",
    ")\n",
    "\n",
    "products_table.head()"
   ]
  },
  {
   "cell_type": "markdown",
   "id": "57349699-117a-4cf9-bb95-5910f18d5187",
   "metadata": {},
   "source": [
    "Once we have created our external tables, the rest is _simply the usual stuff for Atoti_."
   ]
  },
  {
   "cell_type": "markdown",
   "id": "564a8bad-9c60-4c7a-b94e-918b5112cfdb",
   "metadata": {
    "tags": []
   },
   "source": [
    "## Atoti Cube Setup"
   ]
  },
  {
   "cell_type": "markdown",
   "id": "2f24568b-71da-4341-a716-f8abdbdce17d",
   "metadata": {
    "tags": []
   },
   "source": [
    "From this section onwards, the coding remains the same regardless of the underlying data source.  \n",
    "\n",
    "As we have always done, we join the tables and create the cube."
   ]
  },
  {
   "cell_type": "code",
   "execution_count": 15,
   "id": "93f6c667-27b6-4e2e-9685-ef275235622c",
   "metadata": {
    "tags": []
   },
   "outputs": [
    {
     "data": {
      "image/png": "[encoded data removed]",
      "text/plain": [
       "erDiagram\n",
       "  \"Atoti Sales\" {\n",
       "    _ String PK \"SALE_ID\"\n",
       "    _ LocalDate \"DATE\"\n",
       "    _ String \"SHOP\"\n",
       "    _ String \"PRODUCT\"\n",
       "    _ long \"QUANTITY\"\n",
       "    _ double \"UNIT_PRICE\"\n",
       "  }\n",
       "  \"Atoti Product\" {\n",
       "    _ String PK \"PRODUCT_ID\"\n",
       "    _ String \"CATEGORY\"\n",
       "    _ String \"SUB_CATEGORY\"\n",
       "    _ String \"SIZE\"\n",
       "    _ double \"PURCHASE_PRICE\"\n",
       "    _ String \"COLOR\"\n",
       "    _ String \"BRAND\"\n",
       "  }\n",
       "  \"Atoti Sales\" }o--o| \"Atoti Product\" : \"`PRODUCT` == `PRODUCT_ID`\""
      ]
     },
     "execution_count": 15,
     "metadata": {},
     "output_type": "execute_result"
    }
   ],
   "source": [
    "sales_table.join(products_table, sales_table[\"PRODUCT\"] == products_table[\"PRODUCT_ID\"])\n",
    "cube = session.create_cube(sales_table)\n",
    "session.tables.schema"
   ]
  },
  {
   "cell_type": "code",
   "execution_count": 16,
   "id": "4ee29cb6-1f57-43f2-b6e7-ad2e72d8abd4",
   "metadata": {
    "atoti": {
     "widget": {
      "mapping": {
       "columns": [
        "ALL_MEASURES"
       ],
       "measures": [
        "[Measures].[QUANTITY.SUM]"
       ],
       "rows": [
        "[Atoti Sales].[DATE].[DATE]",
        "[Atoti Sales].[SHOP].[SHOP] => [Atoti Product].[BRAND].[BRAND]"
       ]
      },
      "name": "Quantity sold across dates by shops",
      "query": {
       "mdx": "SELECT NON EMPTY {[Measures].[QUANTITY.SUM]} ON COLUMNS, NON EMPTY Hierarchize(Union(Crossjoin(Hierarchize(Descendants({[Atoti Sales].[DATE].[AllMember]}, 1, SELF_AND_BEFORE)), Hierarchize(Descendants({[Atoti Sales].[SHOP].[AllMember]}, 1, SELF_AND_BEFORE)), [Atoti Product].[BRAND].DefaultMember), Crossjoin([Atoti Sales].[DATE].[AllMember].[2022-01-31], [Atoti Sales].[SHOP].[AllMember].[shop_2], Hierarchize(Descendants({[Atoti Product].[BRAND].[AllMember]}, 1, SELF_AND_BEFORE))))) ON ROWS FROM [Atoti Sales] CELL PROPERTIES VALUE, FORMATTED_VALUE, BACK_COLOR, FORE_COLOR, FONT_FLAGS",
       "updateMode": "once"
      },
      "serverKey": "default",
      "widgetKey": "pivot-table"
     }
    },
    "tags": []
   },
   "outputs": [
    {
     "data": {
      "application/vnd.atoti.widget.v0+json": {
       "sessionId": "1732648103_648039",
       "sessionUrl": "http://localhost:59085",
       "widgetCreationCode": "session.widget"
      },
      "text/html": [
       "<img height=\"352\" width=\"1084\" src=\"data:image/png;base64,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\" />"
      ],
      "text/plain": [
       "Open the notebook in JupyterLab with the Atoti JupyterLab extension enabled to build this widget."
      ]
     },
     "metadata": {},
     "output_type": "display_data"
    }
   ],
   "source": [
    "session.widget"
   ]
  },
  {
   "cell_type": "markdown",
   "id": "623a5cce-fee4-489b-9250-c5dd542fb708",
   "metadata": {},
   "source": [
    "### Cube manipulation"
   ]
  },
  {
   "cell_type": "markdown",
   "id": "ad616201-0cc7-4012-8e54-66a99c9c1a23",
   "metadata": {},
   "source": [
    "We perform hierarchy manipulation, level ordering and measure creations the same way we always do in Atoti."
   ]
  },
  {
   "cell_type": "code",
   "execution_count": 17,
   "id": "27bebe22-10e5-4b67-9c18-4bb478fef70b",
   "metadata": {
    "tags": []
   },
   "outputs": [],
   "source": [
    "h, l, m = cube.hierarchies, cube.levels, cube.measures"
   ]
  },
  {
   "cell_type": "code",
   "execution_count": 18,
   "id": "fe4aea14-fc25-4a2d-9401-0ce01df385e4",
   "metadata": {
    "tags": []
   },
   "outputs": [],
   "source": [
    "h[\"CATEGORY\"] = [l[\"CATEGORY\"], l[\"SUB_CATEGORY\"]]\n",
    "del h[\"SUB_CATEGORY\"]"
   ]
  },
  {
   "cell_type": "code",
   "execution_count": 19,
   "id": "efc5d476-6465-4ccf-93d3-9f5dfe19df3c",
   "metadata": {
    "tags": []
   },
   "outputs": [
    {
     "data": {
      "application/json": {
       "Atoti Product": {
        "BRAND": [
         "BRAND"
        ],
        "CATEGORY": [
         "CATEGORY",
         "SUB_CATEGORY"
        ],
        "COLOR": [
         "COLOR"
        ],
        "SIZE": [
         "SIZE"
        ]
       },
       "Atoti Sales": {
        "DATE": [
         "DATE"
        ],
        "PRODUCT": [
         "PRODUCT"
        ],
        "SALE_ID": [
         "SALE_ID"
        ],
        "SHOP": [
         "SHOP"
        ]
       }
      },
      "text/html": [
       "<ul>\n",
       "<li>Dimensions\n",
       "  <ul>\n",
       "  <li>Atoti Product\n",
       "    <ul>\n",
       "    <li>BRAND\n",
       "      <ol>\n",
       "      <li>BRAND</li>\n",
       "      </ol>    </li>\n",
       "    <li>CATEGORY\n",
       "      <ol>\n",
       "      <li>CATEGORY</li>\n",
       "      <li>SUB_CATEGORY</li>\n",
       "      </ol>    </li>\n",
       "    <li>COLOR\n",
       "      <ol>\n",
       "      <li>COLOR</li>\n",
       "      </ol>    </li>\n",
       "    <li>SIZE\n",
       "      <ol>\n",
       "      <li>SIZE</li>\n",
       "      </ol>    </li>\n",
       "    </ul>\n",
       "  </li>\n",
       "  <li>Atoti Sales\n",
       "    <ul>\n",
       "    <li>DATE\n",
       "      <ol>\n",
       "      <li>DATE</li>\n",
       "      </ol>    </li>\n",
       "    <li>PRODUCT\n",
       "      <ol>\n",
       "      <li>PRODUCT</li>\n",
       "      </ol>    </li>\n",
       "    <li>SALE_ID\n",
       "      <ol>\n",
       "      <li>SALE_ID</li>\n",
       "      </ol>    </li>\n",
       "    <li>SHOP\n",
       "      <ol>\n",
       "      <li>SHOP</li>\n",
       "      </ol>    </li>\n",
       "    </ul>\n",
       "  </li>\n",
       "  </ul>\n",
       "</li>\n",
       "</ul>\n"
      ],
      "text/plain": [
       "{('Atoti Product', 'SIZE'): <atoti.hierarchy.Hierarchy object at 0x1419604f0>, ('Atoti Product', 'BRAND'): <atoti.hierarchy.Hierarchy object at 0x141960df0>, ('Atoti Product', 'COLOR'): <atoti.hierarchy.Hierarchy object at 0x141958f40>, ('Atoti Product', 'CATEGORY'): <atoti.hierarchy.Hierarchy object at 0x141959780>, ('Atoti Sales', 'SALE_ID'): <atoti.hierarchy.Hierarchy object at 0x141959a50>, ('Atoti Sales', 'DATE'): <atoti.hierarchy.Hierarchy object at 0x14195b400>, ('Atoti Sales', 'SHOP'): <atoti.hierarchy.Hierarchy object at 0x1419595d0>, ('Atoti Sales', 'PRODUCT'): <atoti.hierarchy.Hierarchy object at 0x141959b70>}"
      ]
     },
     "execution_count": 19,
     "metadata": {
      "application/json": {
       "expanded": true,
       "root": "Dimensions"
      }
     },
     "output_type": "execute_result"
    }
   ],
   "source": [
    "h"
   ]
  },
  {
   "cell_type": "code",
   "execution_count": 20,
   "id": "fe924c60-0c9d-431f-ac72-297db49d8abc",
   "metadata": {
    "tags": []
   },
   "outputs": [],
   "source": [
    "l[\"DATE\"].order = tt.NaturalOrder(ascending=False)"
   ]
  },
  {
   "cell_type": "code",
   "execution_count": 21,
   "id": "343686bd-182e-4de1-b681-8bc6c04b791d",
   "metadata": {
    "tags": []
   },
   "outputs": [],
   "source": [
    "m[\"PURCHASE_PRICE.SUM\"] = tt.agg.sum(products_table[\"PURCHASE_PRICE\"])\n",
    "m[\"PROFIT\"] = tt.agg.sum_product(\n",
    "    m[\"UNIT_PRICE.SUM\"] - m[\"PURCHASE_PRICE.SUM\"],\n",
    "    m[\"QUANTITY.SUM\"],\n",
    "    scope=tt.OriginScope(levels={l[\"SALE_ID\"], l[\"PRODUCT\"]}),\n",
    ")"
   ]
  },
  {
   "cell_type": "markdown",
   "id": "595db925-bf0b-4828-87fb-ff26c717d905",
   "metadata": {},
   "source": [
    "Since we have a join from `sales_table` to `products_table` using the column values of `sales_table.PRODUCT` and `products_table.PRODUCT_ID`, the resultant level is the name of the column from the _from_ table. Therefore, we have the level `PRODUCT` but not `PRODUCT_ID` for our scope in the code snippet above."
   ]
  },
  {
   "cell_type": "code",
   "execution_count": 22,
   "id": "a5dd754e-6d52-43b0-9a18-e7aa7fd42e0b",
   "metadata": {
    "atoti": {
     "widget": {
      "mapping": {
       "columns": [
        "ALL_MEASURES"
       ],
       "measures": [
        "[Measures].[UNIT_PRICE.SUM]",
        "[Measures].[PURCHASE_PRICE.SUM]",
        "[Measures].[QUANTITY.SUM]",
        "[Measures].[PROFIT]"
       ],
       "rows": [
        "[Atoti Sales].[DATE].[DATE]",
        "[Atoti Product].[CATEGORY].[CATEGORY] => [Atoti Product].[CATEGORY].[SUB_CATEGORY]"
       ]
      },
      "name": "Profit by Product Categories across dates",
      "query": {
       "mdx": "SELECT NON EMPTY Hierarchize(Union(Crossjoin(Hierarchize(Descendants({[Atoti Sales].[DATE].[AllMember]}, 1, SELF_AND_BEFORE)), Hierarchize(Descendants({[Atoti Product].[CATEGORY].[AllMember]}, 1, SELF_AND_BEFORE))), Crossjoin([Atoti Sales].[DATE].[AllMember].[2022-02-03], Descendants({[Atoti Product].[CATEGORY].[AllMember].[Cloth]}, [Atoti Product].[CATEGORY].[SUB_CATEGORY])))) ON ROWS, NON EMPTY {[Measures].[UNIT_PRICE.SUM], [Measures].[PURCHASE_PRICE.SUM], [Measures].[QUANTITY.SUM], [Measures].[PROFIT]} ON COLUMNS FROM [Atoti Sales] CELL PROPERTIES VALUE, FORMATTED_VALUE, BACK_COLOR, FORE_COLOR, FONT_FLAGS",
       "updateMode": "once"
      },
      "serverKey": "default",
      "widgetKey": "pivot-table"
     }
    },
    "tags": []
   },
   "outputs": [
    {
     "data": {
      "application/vnd.atoti.widget.v0+json": {
       "sessionId": "1732648103_648039",
       "sessionUrl": "http://localhost:59085",
       "widgetCreationCode": "session.widget"
      },
      "text/html": [
       "<img height=\"352\" width=\"1084\" src=\"data:image/png;base64,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\" />"
      ],
      "text/plain": [
       "Open the notebook in JupyterLab with the Atoti JupyterLab extension enabled to build this widget."
      ]
     },
     "metadata": {},
     "output_type": "display_data"
    }
   ],
   "source": [
    "session.widget"
   ]
  },
  {
   "cell_type": "markdown",
   "id": "08ceaeb7-d0ed-42b5-899e-f4fb4fdcf1ae",
   "metadata": {},
   "source": [
    "## Cost and performance saving with Aggregate Provider"
   ]
  },
  {
   "cell_type": "markdown",
   "id": "b00d6de1-5324-43b0-acb0-c682977c2cf0",
   "metadata": {},
   "source": [
    "Let's take a quick look at our query performance in the current setup."
   ]
  },
  {
   "cell_type": "code",
   "execution_count": 23,
   "id": "37320670-66e8-40c1-9402-26775ed5817c",
   "metadata": {},
   "outputs": [
    {
     "name": "stdout",
     "output_type": "stream",
     "text": [
      "CPU times: user 38.1 ms, sys: 5.42 ms, total: 43.5 ms\n",
      "Wall time: 2 s\n"
     ]
    },
    {
     "data": {
      "application/vnd.atoti.convert-mdx-query-result-to-widget.v0+json": {
       "mdx": "SELECT {[Measures].[QUANTITY.SUM], [Measures].[PROFIT]} ON COLUMNS, NON EMPTY Crossjoin(Hierarchize(Descendants({[Atoti Sales].[DATE].[ALL].[AllMember]}, 1, SELF_AND_BEFORE)), Hierarchize(Descendants({[Atoti Sales].[PRODUCT].[ALL].[AllMember]}, 1, SELF_AND_BEFORE)), Hierarchize(Descendants({[Atoti Sales].[SALE_ID].[ALL].[AllMember]}, 1, SELF_AND_BEFORE))) ON ROWS FROM [Atoti Sales]",
       "sessionId": "1732648103_648039",
       "widgetCreationCode": "session.widget"
      },
      "text/html": [
       "<div>\n",
       "<style scoped>\n",
       "    .dataframe tbody tr th:only-of-type {\n",
       "        vertical-align: middle;\n",
       "    }\n",
       "\n",
       "    .dataframe tbody tr th {\n",
       "        vertical-align: top;\n",
       "    }\n",
       "\n",
       "    .dataframe thead th {\n",
       "        text-align: right;\n",
       "    }\n",
       "</style>\n",
       "<table border=\"1\" class=\"dataframe\">\n",
       "  <thead>\n",
       "    <tr style=\"text-align: right;\">\n",
       "      <th></th>\n",
       "      <th></th>\n",
       "      <th></th>\n",
       "      <th>QUANTITY.SUM</th>\n",
       "      <th>PROFIT</th>\n",
       "    </tr>\n",
       "    <tr>\n",
       "      <th>DATE</th>\n",
       "      <th>PRODUCT</th>\n",
       "      <th>SALE_ID</th>\n",
       "      <th></th>\n",
       "      <th></th>\n",
       "    </tr>\n",
       "  </thead>\n",
       "  <tbody>\n",
       "    <tr>\n",
       "      <th rowspan=\"2\" valign=\"top\">2022-02-04</th>\n",
       "      <th>HOO_5</th>\n",
       "      <th>S0017</th>\n",
       "      <td>1</td>\n",
       "      <td>10.00</td>\n",
       "    </tr>\n",
       "    <tr>\n",
       "      <th>TAB_0</th>\n",
       "      <th>S0000</th>\n",
       "      <td>1</td>\n",
       "      <td>20.00</td>\n",
       "    </tr>\n",
       "    <tr>\n",
       "      <th rowspan=\"4\" valign=\"top\">2022-02-03</th>\n",
       "      <th>HOO_5</th>\n",
       "      <th>S0018</th>\n",
       "      <td>1</td>\n",
       "      <td>10.00</td>\n",
       "    </tr>\n",
       "    <tr>\n",
       "      <th>TAB_0</th>\n",
       "      <th>S0001</th>\n",
       "      <td>1</td>\n",
       "      <td>20.00</td>\n",
       "    </tr>\n",
       "    <tr>\n",
       "      <th>TAB_1</th>\n",
       "      <th>S0004</th>\n",
       "      <td>1</td>\n",
       "      <td>20.00</td>\n",
       "    </tr>\n",
       "    <tr>\n",
       "      <th>TSH_3</th>\n",
       "      <th>S0011</th>\n",
       "      <td>1</td>\n",
       "      <td>3.00</td>\n",
       "    </tr>\n",
       "    <tr>\n",
       "      <th rowspan=\"5\" valign=\"top\">2022-02-02</th>\n",
       "      <th>HOO_5</th>\n",
       "      <th>S0019</th>\n",
       "      <td>1</td>\n",
       "      <td>10.00</td>\n",
       "    </tr>\n",
       "    <tr>\n",
       "      <th>TAB_0</th>\n",
       "      <th>S0002</th>\n",
       "      <td>1</td>\n",
       "      <td>20.00</td>\n",
       "    </tr>\n",
       "    <tr>\n",
       "      <th>TAB_1</th>\n",
       "      <th>S0005</th>\n",
       "      <td>1</td>\n",
       "      <td>20.00</td>\n",
       "    </tr>\n",
       "    <tr>\n",
       "      <th>TSH_3</th>\n",
       "      <th>S0012</th>\n",
       "      <td>1</td>\n",
       "      <td>3.00</td>\n",
       "    </tr>\n",
       "    <tr>\n",
       "      <th>TSH_4</th>\n",
       "      <th>S0014</th>\n",
       "      <td>1</td>\n",
       "      <td>4.00</td>\n",
       "    </tr>\n",
       "    <tr>\n",
       "      <th rowspan=\"5\" valign=\"top\">2022-02-01</th>\n",
       "      <th>BED_2</th>\n",
       "      <th>S0007</th>\n",
       "      <td>1</td>\n",
       "      <td>23.00</td>\n",
       "    </tr>\n",
       "    <tr>\n",
       "      <th>TAB_0</th>\n",
       "      <th>S0003</th>\n",
       "      <td>1</td>\n",
       "      <td>20.00</td>\n",
       "    </tr>\n",
       "    <tr>\n",
       "      <th>TAB_1</th>\n",
       "      <th>S0006</th>\n",
       "      <td>2</td>\n",
       "      <td>40.00</td>\n",
       "    </tr>\n",
       "    <tr>\n",
       "      <th>TSH_3</th>\n",
       "      <th>S0013</th>\n",
       "      <td>1</td>\n",
       "      <td>3.00</td>\n",
       "    </tr>\n",
       "    <tr>\n",
       "      <th>TSH_4</th>\n",
       "      <th>S0015</th>\n",
       "      <td>2</td>\n",
       "      <td>8.00</td>\n",
       "    </tr>\n",
       "    <tr>\n",
       "      <th rowspan=\"4\" valign=\"top\">2022-01-31</th>\n",
       "      <th rowspan=\"3\" valign=\"top\">BED_2</th>\n",
       "      <th>S0008</th>\n",
       "      <td>1</td>\n",
       "      <td>23.00</td>\n",
       "    </tr>\n",
       "    <tr>\n",
       "      <th>S0009</th>\n",
       "      <td>1</td>\n",
       "      <td>23.00</td>\n",
       "    </tr>\n",
       "    <tr>\n",
       "      <th>S0010</th>\n",
       "      <td>3</td>\n",
       "      <td>69.00</td>\n",
       "    </tr>\n",
       "    <tr>\n",
       "      <th>TSH_4</th>\n",
       "      <th>S0016</th>\n",
       "      <td>2</td>\n",
       "      <td>8.00</td>\n",
       "    </tr>\n",
       "  </tbody>\n",
       "</table>\n",
       "</div>"
      ],
      "text/plain": [
       "                           QUANTITY.SUM PROFIT\n",
       "DATE       PRODUCT SALE_ID                    \n",
       "2022-02-04 HOO_5   S0017              1  10.00\n",
       "           TAB_0   S0000              1  20.00\n",
       "2022-02-03 HOO_5   S0018              1  10.00\n",
       "           TAB_0   S0001              1  20.00\n",
       "           TAB_1   S0004              1  20.00\n",
       "           TSH_3   S0011              1   3.00\n",
       "2022-02-02 HOO_5   S0019              1  10.00\n",
       "           TAB_0   S0002              1  20.00\n",
       "           TAB_1   S0005              1  20.00\n",
       "           TSH_3   S0012              1   3.00\n",
       "           TSH_4   S0014              1   4.00\n",
       "2022-02-01 BED_2   S0007              1  23.00\n",
       "           TAB_0   S0003              1  20.00\n",
       "           TAB_1   S0006              2  40.00\n",
       "           TSH_3   S0013              1   3.00\n",
       "           TSH_4   S0015              2   8.00\n",
       "2022-01-31 BED_2   S0008              1  23.00\n",
       "                   S0009              1  23.00\n",
       "                   S0010              3  69.00\n",
       "           TSH_4   S0016              2   8.00"
      ]
     },
     "execution_count": 23,
     "metadata": {},
     "output_type": "execute_result"
    }
   ],
   "source": [
    "%%time\n",
    "\n",
    "cube.query(\n",
    "    m[\"QUANTITY.SUM\"], m[\"PROFIT\"], levels=[l[\"DATE\"], l[\"PRODUCT\"], l[\"SALE_ID\"]]\n",
    ")"
   ]
  },
  {
   "cell_type": "code",
   "execution_count": 24,
   "id": "41a42190-2831-458d-9679-aa942dae9de0",
   "metadata": {},
   "outputs": [
    {
     "name": "stdout",
     "output_type": "stream",
     "text": [
      "CPU times: user 18.1 ms, sys: 4.19 ms, total: 22.2 ms\n",
      "Wall time: 2.43 s\n"
     ]
    },
    {
     "data": {
      "application/vnd.atoti.convert-mdx-query-result-to-widget.v0+json": {
       "mdx": "SELECT {[Measures].[PROFIT]} ON COLUMNS, NON EMPTY Crossjoin(Hierarchize(Descendants({[Atoti Sales].[DATE].[ALL].[AllMember]}, 1, SELF_AND_BEFORE)), Hierarchize(Descendants({[Atoti Product].[CATEGORY].[ALL].[AllMember]}, 2, SELF_AND_BEFORE))) DIMENSION PROPERTIES CHILDREN_CARDINALITY ON ROWS FROM [Atoti Sales]",
       "sessionId": "1732648103_648039",
       "widgetCreationCode": "session.widget"
      },
      "text/html": [
       "<div>\n",
       "<style scoped>\n",
       "    .dataframe tbody tr th:only-of-type {\n",
       "        vertical-align: middle;\n",
       "    }\n",
       "\n",
       "    .dataframe tbody tr th {\n",
       "        vertical-align: top;\n",
       "    }\n",
       "\n",
       "    .dataframe thead th {\n",
       "        text-align: right;\n",
       "    }\n",
       "</style>\n",
       "<table border=\"1\" class=\"dataframe\">\n",
       "  <thead>\n",
       "    <tr style=\"text-align: right;\">\n",
       "      <th></th>\n",
       "      <th></th>\n",
       "      <th></th>\n",
       "      <th>PROFIT</th>\n",
       "    </tr>\n",
       "    <tr>\n",
       "      <th>DATE</th>\n",
       "      <th>CATEGORY</th>\n",
       "      <th>SUB_CATEGORY</th>\n",
       "      <th></th>\n",
       "    </tr>\n",
       "  </thead>\n",
       "  <tbody>\n",
       "    <tr>\n",
       "      <th rowspan=\"2\" valign=\"top\">2022-02-04</th>\n",
       "      <th>Cloth</th>\n",
       "      <th>Hoodie</th>\n",
       "      <td>10.00</td>\n",
       "    </tr>\n",
       "    <tr>\n",
       "      <th>Furniture</th>\n",
       "      <th>Table</th>\n",
       "      <td>20.00</td>\n",
       "    </tr>\n",
       "    <tr>\n",
       "      <th rowspan=\"3\" valign=\"top\">2022-02-03</th>\n",
       "      <th rowspan=\"2\" valign=\"top\">Cloth</th>\n",
       "      <th>Hoodie</th>\n",
       "      <td>10.00</td>\n",
       "    </tr>\n",
       "    <tr>\n",
       "      <th>Tshirt</th>\n",
       "      <td>3.00</td>\n",
       "    </tr>\n",
       "    <tr>\n",
       "      <th>Furniture</th>\n",
       "      <th>Table</th>\n",
       "      <td>40.00</td>\n",
       "    </tr>\n",
       "    <tr>\n",
       "      <th rowspan=\"3\" valign=\"top\">2022-02-02</th>\n",
       "      <th rowspan=\"2\" valign=\"top\">Cloth</th>\n",
       "      <th>Hoodie</th>\n",
       "      <td>10.00</td>\n",
       "    </tr>\n",
       "    <tr>\n",
       "      <th>Tshirt</th>\n",
       "      <td>7.00</td>\n",
       "    </tr>\n",
       "    <tr>\n",
       "      <th>Furniture</th>\n",
       "      <th>Table</th>\n",
       "      <td>40.00</td>\n",
       "    </tr>\n",
       "    <tr>\n",
       "      <th rowspan=\"3\" valign=\"top\">2022-02-01</th>\n",
       "      <th>Cloth</th>\n",
       "      <th>Tshirt</th>\n",
       "      <td>11.00</td>\n",
       "    </tr>\n",
       "    <tr>\n",
       "      <th rowspan=\"2\" valign=\"top\">Furniture</th>\n",
       "      <th>Bed</th>\n",
       "      <td>23.00</td>\n",
       "    </tr>\n",
       "    <tr>\n",
       "      <th>Table</th>\n",
       "      <td>60.00</td>\n",
       "    </tr>\n",
       "    <tr>\n",
       "      <th rowspan=\"2\" valign=\"top\">2022-01-31</th>\n",
       "      <th>Cloth</th>\n",
       "      <th>Tshirt</th>\n",
       "      <td>8.00</td>\n",
       "    </tr>\n",
       "    <tr>\n",
       "      <th>Furniture</th>\n",
       "      <th>Bed</th>\n",
       "      <td>115.00</td>\n",
       "    </tr>\n",
       "  </tbody>\n",
       "</table>\n",
       "</div>"
      ],
      "text/plain": [
       "                                   PROFIT\n",
       "DATE       CATEGORY  SUB_CATEGORY        \n",
       "2022-02-04 Cloth     Hoodie         10.00\n",
       "           Furniture Table          20.00\n",
       "2022-02-03 Cloth     Hoodie         10.00\n",
       "                     Tshirt          3.00\n",
       "           Furniture Table          40.00\n",
       "2022-02-02 Cloth     Hoodie         10.00\n",
       "                     Tshirt          7.00\n",
       "           Furniture Table          40.00\n",
       "2022-02-01 Cloth     Tshirt         11.00\n",
       "           Furniture Bed            23.00\n",
       "                     Table          60.00\n",
       "2022-01-31 Cloth     Tshirt          8.00\n",
       "           Furniture Bed           115.00"
      ]
     },
     "execution_count": 24,
     "metadata": {},
     "output_type": "execute_result"
    }
   ],
   "source": [
    "%%time\n",
    "\n",
    "cube.query(m[\"PROFIT\"], levels=[l[\"DATE\"], l[\"SUB_CATEGORY\"]])"
   ]
  },
  {
   "cell_type": "markdown",
   "id": "ec655a71-8eec-42ae-9dd5-3fa7bbf0f782",
   "metadata": {},
   "source": [
    "It takes approximately `3s` to return the query (YMMV)."
   ]
  },
  {
   "cell_type": "markdown",
   "id": "409bcc8e-c3e4-4592-a6ee-c54d41f97719",
   "metadata": {},
   "source": [
    "To speed up our querying, we make use of the [aggregate provider](https://docs.atoti.io/latest/api/atoti.AggregateProvider.html#atoti.AggregateProvider) to store intermediate aggregates in memory. If a step of a query uses a subset of the aggregate provider's levels and measures, the provider will speed up the query.  \n",
    "\n",
    "Since data is cached in memory, we will __not__ access BigQuery when a subset of these are queried.  "
   ]
  },
  {
   "cell_type": "code",
   "execution_count": 25,
   "id": "0f33a62c-d66d-4e3a-997d-ae325e9276ec",
   "metadata": {
    "tags": []
   },
   "outputs": [],
   "source": [
    "cube.aggregate_providers.update(\n",
    "    {\n",
    "        \"Products provider\": tt.AggregateProvider(\n",
    "            key=\"bitmap\",\n",
    "            levels=[l[\"DATE\"], l[\"PRODUCT\"], l[\"SALE_ID\"]],\n",
    "            measures=[m[\"QUANTITY.SUM\"], m[\"PURCHASE_PRICE.SUM\"], m[\"UNIT_PRICE.SUM\"]],\n",
    "            partitioning=\"hash16(PRODUCT)\",\n",
    "        )\n",
    "    }\n",
    ")"
   ]
  },
  {
   "cell_type": "markdown",
   "id": "4817dae9-0dbb-4c91-95bc-38a1320102ae",
   "metadata": {},
   "source": [
    "⚠️ **Important:** We can only use store aggregated measures supporting disaggregation can be used in aggregate provider, e.g. `tt.agg.sum` or `tt.agg.mean` on table columns.\n",
    "\n",
    "`m[\"PROFIT\"]` cannot be used because it is a chained measure resulting from the `sum_product` of a few measures.\n"
   ]
  },
  {
   "cell_type": "code",
   "execution_count": 26,
   "id": "0bc35e5d-1845-479b-873f-5a24be936f1e",
   "metadata": {
    "tags": []
   },
   "outputs": [
    {
     "name": "stdout",
     "output_type": "stream",
     "text": [
      "CPU times: user 18.8 ms, sys: 4.56 ms, total: 23.4 ms\n",
      "Wall time: 94 ms\n"
     ]
    },
    {
     "data": {
      "application/vnd.atoti.convert-mdx-query-result-to-widget.v0+json": {
       "mdx": "SELECT {[Measures].[PROFIT]} ON COLUMNS, NON EMPTY Crossjoin(Hierarchize(Descendants({[Atoti Sales].[DATE].[ALL].[AllMember]}, 1, SELF_AND_BEFORE)), Hierarchize(Descendants({[Atoti Sales].[PRODUCT].[ALL].[AllMember]}, 1, SELF_AND_BEFORE)), Hierarchize(Descendants({[Atoti Sales].[SALE_ID].[ALL].[AllMember]}, 1, SELF_AND_BEFORE))) ON ROWS FROM [Atoti Sales]",
       "sessionId": "1732648103_648039",
       "widgetCreationCode": "session.widget"
      },
      "text/html": [
       "<div>\n",
       "<style scoped>\n",
       "    .dataframe tbody tr th:only-of-type {\n",
       "        vertical-align: middle;\n",
       "    }\n",
       "\n",
       "    .dataframe tbody tr th {\n",
       "        vertical-align: top;\n",
       "    }\n",
       "\n",
       "    .dataframe thead th {\n",
       "        text-align: right;\n",
       "    }\n",
       "</style>\n",
       "<table border=\"1\" class=\"dataframe\">\n",
       "  <thead>\n",
       "    <tr style=\"text-align: right;\">\n",
       "      <th></th>\n",
       "      <th></th>\n",
       "      <th></th>\n",
       "      <th>PROFIT</th>\n",
       "    </tr>\n",
       "    <tr>\n",
       "      <th>DATE</th>\n",
       "      <th>PRODUCT</th>\n",
       "      <th>SALE_ID</th>\n",
       "      <th></th>\n",
       "    </tr>\n",
       "  </thead>\n",
       "  <tbody>\n",
       "    <tr>\n",
       "      <th rowspan=\"2\" valign=\"top\">2022-02-04</th>\n",
       "      <th>HOO_5</th>\n",
       "      <th>S0017</th>\n",
       "      <td>10.00</td>\n",
       "    </tr>\n",
       "    <tr>\n",
       "      <th>TAB_0</th>\n",
       "      <th>S0000</th>\n",
       "      <td>20.00</td>\n",
       "    </tr>\n",
       "    <tr>\n",
       "      <th rowspan=\"4\" valign=\"top\">2022-02-03</th>\n",
       "      <th>HOO_5</th>\n",
       "      <th>S0018</th>\n",
       "      <td>10.00</td>\n",
       "    </tr>\n",
       "    <tr>\n",
       "      <th>TAB_0</th>\n",
       "      <th>S0001</th>\n",
       "      <td>20.00</td>\n",
       "    </tr>\n",
       "    <tr>\n",
       "      <th>TAB_1</th>\n",
       "      <th>S0004</th>\n",
       "      <td>20.00</td>\n",
       "    </tr>\n",
       "    <tr>\n",
       "      <th>TSH_3</th>\n",
       "      <th>S0011</th>\n",
       "      <td>3.00</td>\n",
       "    </tr>\n",
       "    <tr>\n",
       "      <th rowspan=\"5\" valign=\"top\">2022-02-02</th>\n",
       "      <th>HOO_5</th>\n",
       "      <th>S0019</th>\n",
       "      <td>10.00</td>\n",
       "    </tr>\n",
       "    <tr>\n",
       "      <th>TAB_0</th>\n",
       "      <th>S0002</th>\n",
       "      <td>20.00</td>\n",
       "    </tr>\n",
       "    <tr>\n",
       "      <th>TAB_1</th>\n",
       "      <th>S0005</th>\n",
       "      <td>20.00</td>\n",
       "    </tr>\n",
       "    <tr>\n",
       "      <th>TSH_3</th>\n",
       "      <th>S0012</th>\n",
       "      <td>3.00</td>\n",
       "    </tr>\n",
       "    <tr>\n",
       "      <th>TSH_4</th>\n",
       "      <th>S0014</th>\n",
       "      <td>4.00</td>\n",
       "    </tr>\n",
       "    <tr>\n",
       "      <th rowspan=\"5\" valign=\"top\">2022-02-01</th>\n",
       "      <th>BED_2</th>\n",
       "      <th>S0007</th>\n",
       "      <td>23.00</td>\n",
       "    </tr>\n",
       "    <tr>\n",
       "      <th>TAB_0</th>\n",
       "      <th>S0003</th>\n",
       "      <td>20.00</td>\n",
       "    </tr>\n",
       "    <tr>\n",
       "      <th>TAB_1</th>\n",
       "      <th>S0006</th>\n",
       "      <td>40.00</td>\n",
       "    </tr>\n",
       "    <tr>\n",
       "      <th>TSH_3</th>\n",
       "      <th>S0013</th>\n",
       "      <td>3.00</td>\n",
       "    </tr>\n",
       "    <tr>\n",
       "      <th>TSH_4</th>\n",
       "      <th>S0015</th>\n",
       "      <td>8.00</td>\n",
       "    </tr>\n",
       "    <tr>\n",
       "      <th rowspan=\"4\" valign=\"top\">2022-01-31</th>\n",
       "      <th rowspan=\"3\" valign=\"top\">BED_2</th>\n",
       "      <th>S0008</th>\n",
       "      <td>23.00</td>\n",
       "    </tr>\n",
       "    <tr>\n",
       "      <th>S0009</th>\n",
       "      <td>23.00</td>\n",
       "    </tr>\n",
       "    <tr>\n",
       "      <th>S0010</th>\n",
       "      <td>69.00</td>\n",
       "    </tr>\n",
       "    <tr>\n",
       "      <th>TSH_4</th>\n",
       "      <th>S0016</th>\n",
       "      <td>8.00</td>\n",
       "    </tr>\n",
       "  </tbody>\n",
       "</table>\n",
       "</div>"
      ],
      "text/plain": [
       "                           PROFIT\n",
       "DATE       PRODUCT SALE_ID       \n",
       "2022-02-04 HOO_5   S0017    10.00\n",
       "           TAB_0   S0000    20.00\n",
       "2022-02-03 HOO_5   S0018    10.00\n",
       "           TAB_0   S0001    20.00\n",
       "           TAB_1   S0004    20.00\n",
       "           TSH_3   S0011     3.00\n",
       "2022-02-02 HOO_5   S0019    10.00\n",
       "           TAB_0   S0002    20.00\n",
       "           TAB_1   S0005    20.00\n",
       "           TSH_3   S0012     3.00\n",
       "           TSH_4   S0014     4.00\n",
       "2022-02-01 BED_2   S0007    23.00\n",
       "           TAB_0   S0003    20.00\n",
       "           TAB_1   S0006    40.00\n",
       "           TSH_3   S0013     3.00\n",
       "           TSH_4   S0015     8.00\n",
       "2022-01-31 BED_2   S0008    23.00\n",
       "                   S0009    23.00\n",
       "                   S0010    69.00\n",
       "           TSH_4   S0016     8.00"
      ]
     },
     "execution_count": 26,
     "metadata": {},
     "output_type": "execute_result"
    }
   ],
   "source": [
    "%%time\n",
    "\n",
    "cube.query(m[\"PROFIT\"], levels=[l[\"DATE\"], l[\"PRODUCT\"], l[\"SALE_ID\"]])"
   ]
  },
  {
   "cell_type": "markdown",
   "id": "fd36b224-ab65-45f0-a2fb-1e44c5fdb1c8",
   "metadata": {},
   "source": [
    "Previously, it took close to `3s` to return the query results. Now, it only takes slightly over `100ms` to return the results (YMMV).  \n",
    "\n",
    "Note that we are querying `PROFIT` and not the measures `m[\"QUANTITY.SUM\"]`, `m[\"PURCHASE_PRICE.SUM\"]` and `m[\"UNIT_PRICE.SUM\"]`. However, `PROFIT` is computed on the fly using the cached data in memory. Therefore, the query speed is improved drastically."
   ]
  },
  {
   "cell_type": "code",
   "execution_count": 27,
   "id": "800e212c-f4ce-4e77-8653-f8afd9b50043",
   "metadata": {
    "tags": []
   },
   "outputs": [
    {
     "name": "stdout",
     "output_type": "stream",
     "text": [
      "CPU times: user 6.53 ms, sys: 1.86 ms, total: 8.39 ms\n",
      "Wall time: 28.2 ms\n"
     ]
    },
    {
     "data": {
      "application/vnd.atoti.convert-mdx-query-result-to-widget.v0+json": {
       "mdx": "SELECT {[Measures].[PROFIT]} ON COLUMNS, NON EMPTY Hierarchize(Descendants({[Atoti Sales].[PRODUCT].[ALL].[AllMember]}, 1, SELF_AND_BEFORE)) ON ROWS FROM [Atoti Sales]",
       "sessionId": "1732648103_648039",
       "widgetCreationCode": "session.widget"
      },
      "text/html": [
       "<div>\n",
       "<style scoped>\n",
       "    .dataframe tbody tr th:only-of-type {\n",
       "        vertical-align: middle;\n",
       "    }\n",
       "\n",
       "    .dataframe tbody tr th {\n",
       "        vertical-align: top;\n",
       "    }\n",
       "\n",
       "    .dataframe thead th {\n",
       "        text-align: right;\n",
       "    }\n",
       "</style>\n",
       "<table border=\"1\" class=\"dataframe\">\n",
       "  <thead>\n",
       "    <tr style=\"text-align: right;\">\n",
       "      <th></th>\n",
       "      <th>PROFIT</th>\n",
       "    </tr>\n",
       "    <tr>\n",
       "      <th>PRODUCT</th>\n",
       "      <th></th>\n",
       "    </tr>\n",
       "  </thead>\n",
       "  <tbody>\n",
       "    <tr>\n",
       "      <th>BED_2</th>\n",
       "      <td>138.00</td>\n",
       "    </tr>\n",
       "    <tr>\n",
       "      <th>HOO_5</th>\n",
       "      <td>30.00</td>\n",
       "    </tr>\n",
       "    <tr>\n",
       "      <th>TAB_0</th>\n",
       "      <td>80.00</td>\n",
       "    </tr>\n",
       "    <tr>\n",
       "      <th>TAB_1</th>\n",
       "      <td>80.00</td>\n",
       "    </tr>\n",
       "    <tr>\n",
       "      <th>TSH_3</th>\n",
       "      <td>9.00</td>\n",
       "    </tr>\n",
       "    <tr>\n",
       "      <th>TSH_4</th>\n",
       "      <td>20.00</td>\n",
       "    </tr>\n",
       "  </tbody>\n",
       "</table>\n",
       "</div>"
      ],
      "text/plain": [
       "         PROFIT\n",
       "PRODUCT        \n",
       "BED_2    138.00\n",
       "HOO_5     30.00\n",
       "TAB_0     80.00\n",
       "TAB_1     80.00\n",
       "TSH_3      9.00\n",
       "TSH_4     20.00"
      ]
     },
     "execution_count": 27,
     "metadata": {},
     "output_type": "execute_result"
    }
   ],
   "source": [
    "%%time\n",
    "\n",
    "cube.query(m[\"PROFIT\"], levels=[l[\"PRODUCT\"]])"
   ]
  },
  {
   "cell_type": "markdown",
   "id": "3776a1f9-c10c-4912-866f-238a3b95fbee",
   "metadata": {},
   "source": [
    "Querying a subset of the aggregate provider levels also returns the result quickly.  \n",
    "\n",
    "The below query on a different level will access data from BigQuery and therefore, is limited by the querying speed of the cloud database and its network connectivity.  "
   ]
  },
  {
   "cell_type": "code",
   "execution_count": 28,
   "id": "08506fb9-16e3-4052-9288-380ecc441021",
   "metadata": {
    "tags": []
   },
   "outputs": [
    {
     "name": "stdout",
     "output_type": "stream",
     "text": [
      "CPU times: user 16.4 ms, sys: 4.43 ms, total: 20.9 ms\n",
      "Wall time: 1.72 s\n"
     ]
    },
    {
     "data": {
      "application/vnd.atoti.convert-mdx-query-result-to-widget.v0+json": {
       "mdx": "SELECT {[Measures].[PROFIT]} ON COLUMNS, NON EMPTY Crossjoin(Hierarchize(Descendants({[Atoti Sales].[DATE].[ALL].[AllMember]}, 1, SELF_AND_BEFORE)), Hierarchize(Descendants({[Atoti Product].[CATEGORY].[ALL].[AllMember]}, 2, SELF_AND_BEFORE))) DIMENSION PROPERTIES CHILDREN_CARDINALITY ON ROWS FROM [Atoti Sales]",
       "sessionId": "1732648103_648039",
       "widgetCreationCode": "session.widget"
      },
      "text/html": [
       "<div>\n",
       "<style scoped>\n",
       "    .dataframe tbody tr th:only-of-type {\n",
       "        vertical-align: middle;\n",
       "    }\n",
       "\n",
       "    .dataframe tbody tr th {\n",
       "        vertical-align: top;\n",
       "    }\n",
       "\n",
       "    .dataframe thead th {\n",
       "        text-align: right;\n",
       "    }\n",
       "</style>\n",
       "<table border=\"1\" class=\"dataframe\">\n",
       "  <thead>\n",
       "    <tr style=\"text-align: right;\">\n",
       "      <th></th>\n",
       "      <th></th>\n",
       "      <th></th>\n",
       "      <th>PROFIT</th>\n",
       "    </tr>\n",
       "    <tr>\n",
       "      <th>DATE</th>\n",
       "      <th>CATEGORY</th>\n",
       "      <th>SUB_CATEGORY</th>\n",
       "      <th></th>\n",
       "    </tr>\n",
       "  </thead>\n",
       "  <tbody>\n",
       "    <tr>\n",
       "      <th rowspan=\"2\" valign=\"top\">2022-02-04</th>\n",
       "      <th>Cloth</th>\n",
       "      <th>Hoodie</th>\n",
       "      <td>10.00</td>\n",
       "    </tr>\n",
       "    <tr>\n",
       "      <th>Furniture</th>\n",
       "      <th>Table</th>\n",
       "      <td>20.00</td>\n",
       "    </tr>\n",
       "    <tr>\n",
       "      <th rowspan=\"3\" valign=\"top\">2022-02-03</th>\n",
       "      <th rowspan=\"2\" valign=\"top\">Cloth</th>\n",
       "      <th>Hoodie</th>\n",
       "      <td>10.00</td>\n",
       "    </tr>\n",
       "    <tr>\n",
       "      <th>Tshirt</th>\n",
       "      <td>3.00</td>\n",
       "    </tr>\n",
       "    <tr>\n",
       "      <th>Furniture</th>\n",
       "      <th>Table</th>\n",
       "      <td>40.00</td>\n",
       "    </tr>\n",
       "    <tr>\n",
       "      <th rowspan=\"3\" valign=\"top\">2022-02-02</th>\n",
       "      <th rowspan=\"2\" valign=\"top\">Cloth</th>\n",
       "      <th>Hoodie</th>\n",
       "      <td>10.00</td>\n",
       "    </tr>\n",
       "    <tr>\n",
       "      <th>Tshirt</th>\n",
       "      <td>7.00</td>\n",
       "    </tr>\n",
       "    <tr>\n",
       "      <th>Furniture</th>\n",
       "      <th>Table</th>\n",
       "      <td>40.00</td>\n",
       "    </tr>\n",
       "    <tr>\n",
       "      <th rowspan=\"3\" valign=\"top\">2022-02-01</th>\n",
       "      <th>Cloth</th>\n",
       "      <th>Tshirt</th>\n",
       "      <td>11.00</td>\n",
       "    </tr>\n",
       "    <tr>\n",
       "      <th rowspan=\"2\" valign=\"top\">Furniture</th>\n",
       "      <th>Bed</th>\n",
       "      <td>23.00</td>\n",
       "    </tr>\n",
       "    <tr>\n",
       "      <th>Table</th>\n",
       "      <td>60.00</td>\n",
       "    </tr>\n",
       "    <tr>\n",
       "      <th rowspan=\"2\" valign=\"top\">2022-01-31</th>\n",
       "      <th>Cloth</th>\n",
       "      <th>Tshirt</th>\n",
       "      <td>8.00</td>\n",
       "    </tr>\n",
       "    <tr>\n",
       "      <th>Furniture</th>\n",
       "      <th>Bed</th>\n",
       "      <td>115.00</td>\n",
       "    </tr>\n",
       "  </tbody>\n",
       "</table>\n",
       "</div>"
      ],
      "text/plain": [
       "                                   PROFIT\n",
       "DATE       CATEGORY  SUB_CATEGORY        \n",
       "2022-02-04 Cloth     Hoodie         10.00\n",
       "           Furniture Table          20.00\n",
       "2022-02-03 Cloth     Hoodie         10.00\n",
       "                     Tshirt          3.00\n",
       "           Furniture Table          40.00\n",
       "2022-02-02 Cloth     Hoodie         10.00\n",
       "                     Tshirt          7.00\n",
       "           Furniture Table          40.00\n",
       "2022-02-01 Cloth     Tshirt         11.00\n",
       "           Furniture Bed            23.00\n",
       "                     Table          60.00\n",
       "2022-01-31 Cloth     Tshirt          8.00\n",
       "           Furniture Bed           115.00"
      ]
     },
     "execution_count": 28,
     "metadata": {},
     "output_type": "execute_result"
    }
   ],
   "source": [
    "%%time\n",
    "\n",
    "cube.query(m[\"PROFIT\"], levels=[l[\"DATE\"], l[\"SUB_CATEGORY\"]])"
   ]
  },
  {
   "cell_type": "markdown",
   "id": "c260f204-8f69-4f99-aefa-3e881c29e4bc",
   "metadata": {},
   "source": [
    "Before we are done with this example, let's create another aggregate provider with a _slice_ of data using `filter`.  \n",
    "\n",
    "Let's first capture the timing of the query without the aggregate provider."
   ]
  },
  {
   "cell_type": "code",
   "execution_count": 29,
   "id": "fe342fd4-1c7f-4995-833d-f3cac15d2aa4",
   "metadata": {},
   "outputs": [
    {
     "name": "stdout",
     "output_type": "stream",
     "text": [
      "CPU times: user 21 ms, sys: 4.35 ms, total: 25.4 ms\n",
      "Wall time: 1.71 s\n"
     ]
    },
    {
     "data": {
      "application/vnd.atoti.convert-mdx-query-result-to-widget.v0+json": {
       "mdx": "SELECT {[Measures].[PROFIT]} ON COLUMNS, NON EMPTY Crossjoin(Hierarchize(Descendants({[Atoti Sales].[DATE].[ALL].[AllMember]}, 1, SELF_AND_BEFORE)), Hierarchize(Descendants({[Atoti Product].[CATEGORY].[ALL].[AllMember]}, 2, SELF_AND_BEFORE))) DIMENSION PROPERTIES CHILDREN_CARDINALITY ON ROWS FROM (SELECT [Atoti Sales].[DATE].[ALL].[AllMember].[2022-02-04] ON COLUMNS FROM [Atoti Sales])",
       "sessionId": "1732648103_648039",
       "widgetCreationCode": "session.widget"
      },
      "text/html": [
       "<div>\n",
       "<style scoped>\n",
       "    .dataframe tbody tr th:only-of-type {\n",
       "        vertical-align: middle;\n",
       "    }\n",
       "\n",
       "    .dataframe tbody tr th {\n",
       "        vertical-align: top;\n",
       "    }\n",
       "\n",
       "    .dataframe thead th {\n",
       "        text-align: right;\n",
       "    }\n",
       "</style>\n",
       "<table border=\"1\" class=\"dataframe\">\n",
       "  <thead>\n",
       "    <tr style=\"text-align: right;\">\n",
       "      <th></th>\n",
       "      <th></th>\n",
       "      <th></th>\n",
       "      <th>PROFIT</th>\n",
       "    </tr>\n",
       "    <tr>\n",
       "      <th>DATE</th>\n",
       "      <th>CATEGORY</th>\n",
       "      <th>SUB_CATEGORY</th>\n",
       "      <th></th>\n",
       "    </tr>\n",
       "  </thead>\n",
       "  <tbody>\n",
       "    <tr>\n",
       "      <th rowspan=\"2\" valign=\"top\">2022-02-04</th>\n",
       "      <th>Cloth</th>\n",
       "      <th>Hoodie</th>\n",
       "      <td>10.00</td>\n",
       "    </tr>\n",
       "    <tr>\n",
       "      <th>Furniture</th>\n",
       "      <th>Table</th>\n",
       "      <td>20.00</td>\n",
       "    </tr>\n",
       "  </tbody>\n",
       "</table>\n",
       "</div>"
      ],
      "text/plain": [
       "                                  PROFIT\n",
       "DATE       CATEGORY  SUB_CATEGORY       \n",
       "2022-02-04 Cloth     Hoodie        10.00\n",
       "           Furniture Table         20.00"
      ]
     },
     "execution_count": 29,
     "metadata": {},
     "output_type": "execute_result"
    }
   ],
   "source": [
    "%%time\n",
    "\n",
    "cube.query(\n",
    "    m[\"PROFIT\"],\n",
    "    levels=[l[\"DATE\"], l[\"CATEGORY\"], l[\"SUB_CATEGORY\"]],\n",
    "    filter=(l[\"DATE\"] == \"2022-02-04\"),\n",
    ")"
   ]
  },
  {
   "cell_type": "code",
   "execution_count": 30,
   "id": "b240a857-71f6-4344-8967-570013c0ac98",
   "metadata": {
    "tags": []
   },
   "outputs": [],
   "source": [
    "from datetime import date\n",
    "\n",
    "current_date = date(2022, 2, 4)"
   ]
  },
  {
   "cell_type": "markdown",
   "id": "9526ed6a-2c74-4ab5-935e-51899123340c",
   "metadata": {},
   "source": [
    "In the event where users are interested in a particular member of level, e.g. the current date or a particular shop, and the amount of querying on this member is huge, then it makes sense to cache them in memory.  \n",
    "\n",
    "In this case, we apply filter just for the interested member. This helps to control the amount of data held in memory."
   ]
  },
  {
   "cell_type": "code",
   "execution_count": 31,
   "id": "17ae6441-66db-4038-bfee-28df3b2c576e",
   "metadata": {},
   "outputs": [],
   "source": [
    "cube.aggregate_providers.update(\n",
    "    {\n",
    "        \"Category provider\": tt.AggregateProvider(\n",
    "            key=\"bitmap\",\n",
    "            levels=[l[\"DATE\"], l[\"CATEGORY\"], l[\"SUB_CATEGORY\"]],\n",
    "            measures=[m[\"QUANTITY.SUM\"], m[\"PURCHASE_PRICE.SUM\"], m[\"UNIT_PRICE.SUM\"]],\n",
    "            filter=(l[\"DATE\"] == current_date),\n",
    "        )\n",
    "    }\n",
    ")"
   ]
  },
  {
   "cell_type": "code",
   "execution_count": 32,
   "id": "adc253db-cebe-49a2-a8ae-2f9630d5338d",
   "metadata": {
    "tags": []
   },
   "outputs": [
    {
     "name": "stdout",
     "output_type": "stream",
     "text": [
      "CPU times: user 17.3 ms, sys: 3.6 ms, total: 20.9 ms\n",
      "Wall time: 1.33 s\n"
     ]
    },
    {
     "data": {
      "application/vnd.atoti.convert-mdx-query-result-to-widget.v0+json": {
       "mdx": "SELECT {[Measures].[PROFIT]} ON COLUMNS, NON EMPTY Crossjoin(Hierarchize(Descendants({[Atoti Sales].[DATE].[ALL].[AllMember]}, 1, SELF_AND_BEFORE)), Hierarchize(Descendants({[Atoti Product].[CATEGORY].[ALL].[AllMember]}, 2, SELF_AND_BEFORE))) DIMENSION PROPERTIES CHILDREN_CARDINALITY ON ROWS FROM (SELECT [Atoti Sales].[DATE].[ALL].[AllMember].[2022-02-04] ON COLUMNS FROM [Atoti Sales])",
       "sessionId": "1732648103_648039",
       "widgetCreationCode": "session.widget"
      },
      "text/html": [
       "<div>\n",
       "<style scoped>\n",
       "    .dataframe tbody tr th:only-of-type {\n",
       "        vertical-align: middle;\n",
       "    }\n",
       "\n",
       "    .dataframe tbody tr th {\n",
       "        vertical-align: top;\n",
       "    }\n",
       "\n",
       "    .dataframe thead th {\n",
       "        text-align: right;\n",
       "    }\n",
       "</style>\n",
       "<table border=\"1\" class=\"dataframe\">\n",
       "  <thead>\n",
       "    <tr style=\"text-align: right;\">\n",
       "      <th></th>\n",
       "      <th></th>\n",
       "      <th></th>\n",
       "      <th>PROFIT</th>\n",
       "    </tr>\n",
       "    <tr>\n",
       "      <th>DATE</th>\n",
       "      <th>CATEGORY</th>\n",
       "      <th>SUB_CATEGORY</th>\n",
       "      <th></th>\n",
       "    </tr>\n",
       "  </thead>\n",
       "  <tbody>\n",
       "    <tr>\n",
       "      <th rowspan=\"2\" valign=\"top\">2022-02-04</th>\n",
       "      <th>Cloth</th>\n",
       "      <th>Hoodie</th>\n",
       "      <td>10.00</td>\n",
       "    </tr>\n",
       "    <tr>\n",
       "      <th>Furniture</th>\n",
       "      <th>Table</th>\n",
       "      <td>20.00</td>\n",
       "    </tr>\n",
       "  </tbody>\n",
       "</table>\n",
       "</div>"
      ],
      "text/plain": [
       "                                  PROFIT\n",
       "DATE       CATEGORY  SUB_CATEGORY       \n",
       "2022-02-04 Cloth     Hoodie        10.00\n",
       "           Furniture Table         20.00"
      ]
     },
     "execution_count": 32,
     "metadata": {},
     "output_type": "execute_result"
    }
   ],
   "source": [
    "%%time\n",
    "\n",
    "cube.query(\n",
    "    m[\"PROFIT\"],\n",
    "    levels=[l[\"DATE\"], l[\"CATEGORY\"], l[\"SUB_CATEGORY\"]],\n",
    "    filter=(l[\"DATE\"] == \"2022-02-04\"),\n",
    ")"
   ]
  },
  {
   "cell_type": "markdown",
   "id": "4b392590-0e19-4d03-84db-853028977e8b",
   "metadata": {},
   "source": [
    "## Balance between Cost and Performance"
   ]
  },
  {
   "cell_type": "markdown",
   "id": "1f44c57a-00ad-44eb-9195-ed0b0a808a62",
   "metadata": {},
   "source": [
    "All in all, Atoti's DirectQuery offers users a way to balance between cost and performance:\n",
    "\n",
    "* For data that is less queried, it resides on the cloud database and gets queried on-demand.\n",
    "* For data that is more frequently queried, we can cache it in memory and reduce the number of queries to the cloud database, thereby improving performance.  \n",
    "\n",
    "<img src=\"https://data.atoti.io/notebooks/direct-query/img/aggregate_cache.png\" />  \n",
    "\n",
    "💡 **Note:** To find out more, reach out to [ActiveViam](https://activeviam.com/contact-us/?utm_source=github&utm_medium=atoti) for a demonstration."
   ]
  },
  {
   "cell_type": "markdown",
   "id": "455e3f95-0a8c-48bf-b793-69d5fe2f2083",
   "metadata": {},
   "source": [
    "<div style=\"text-align: center;\" ><a href=\"https://www.atoti.io/?utm_source=gallery&utm_content=directquery-intro\" target=\"_blank\" rel=\"noopener noreferrer\"><img src=\"https://data.atoti.io/notebooks/banners/Your-turn-to-try-Atoti.jpg\" alt=\"Try Atoti\"></a></div>"
   ]
  }
 ],
 "metadata": {
  "kernelspec": {
   "display_name": "Python 3 (ipykernel)",
   "language": "python",
   "name": "python3"
  },
  "language_info": {
   "codemirror_mode": {
    "name": "ipython",
    "version": 3
   },
   "file_extension": ".py",
   "mimetype": "text/x-python",
   "name": "python",
   "nbconvert_exporter": "python",
   "pygments_lexer": "ipython3",
   "version": "3.10.11"
  },
  "widgets": {
   "application/vnd.jupyter.widget-state+json": {
    "state": {},
    "version_major": 2,
    "version_minor": 0
   }
  }
 },
 "nbformat": 4,
 "nbformat_minor": 5
}
