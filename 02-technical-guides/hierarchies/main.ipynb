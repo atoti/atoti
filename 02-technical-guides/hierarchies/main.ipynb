{
 "cells": [
  {
   "cell_type": "markdown",
   "id": "4b3bb4a0-74bf-4f21-a181-095dd87e0fee",
   "metadata": {},
   "source": [
    "# Working with Hierarchies in Atoti\n",
    "\n",
    "In this notebook, we'll show you what you need to know to start working with hierarchies when using the Atoti Python API.\n",
    "\n",
    "Before we begin, let's start off with a refresher from our Atoti Python API [Tutorial](https://docs.atoti.io/latest/getting_started/tutorial/tutorial.html#Multidimensional-concepts):\n",
    "\n",
    "> A **cube** is a multidimensional view of some data, making it easy to explore, aggregate, filter and compare. It’s called a cube because each attribute of the data can be represented as a dimension of the cube. The axes of the cube are called **hierarchies**. The purpose of multidimensional analysis is to visualize some numeric indicators at specific coordinates of the cube. These indicators are called **measures**.\n",
    "\n",
    "In other words, the purpose of an OLAP cube is to provide multidimensional analysis capabilities, which gives us the flexibility to slice-and-dice our data however we see fit. With this being said, let's talk about hierarchies!\n",
    "\n",
    "💡 **Note:** Many of the initial operations in this notebook revolve around [Table Creation and Data Loads](../table-creation-and-data-loads/main.ipynb). Feel free to check out the notebook if you need some reminders on creating, loading, and joining Atoti tables."
   ]
  },
  {
   "cell_type": "markdown",
   "id": "f2e8584c-67f1-4396-9c5e-ba5e2db7bae5",
   "metadata": {},
   "source": [
    "<div style=\"text-align: center;\" ><a href=\"https://www.atoti.io/?utm_source=gallery&utm_content=hierarchies\" target=\"_blank\" rel=\"noopener noreferrer\"><img src=\"https://data.atoti.io/notebooks/banners/Discover-Atoti-now.png\" alt=\"Try Atoti\"></a></div>"
   ]
  },
  {
   "cell_type": "markdown",
   "id": "96b431ed-d908-4c90-8028-63faa6ad5210",
   "metadata": {},
   "source": [
    "## Import libraries\n",
    "\n",
    "First things first, let's import our libraries."
   ]
  },
  {
   "cell_type": "code",
   "execution_count": 1,
   "id": "dd52328a-81c5-4404-a791-ee01d9f83379",
   "metadata": {},
   "outputs": [],
   "source": [
    "import atoti as tt\n",
    "import pandas"
   ]
  },
  {
   "cell_type": "markdown",
   "id": "3dd1ef72-b31a-4bb4-993c-3e379e01f4fc",
   "metadata": {},
   "source": [
    "## Instantiate Atoti server and link UI\n",
    "\n",
    "Next, we'll spin up the Atoti server and link the session to our web-based Atoti UI.\n",
    "\n",
    "💡 **Note**: https://docs.atoti.io/latest/api/atoti.Session.html#atoti.Session"
   ]
  },
  {
   "cell_type": "code",
   "execution_count": 2,
   "id": "5989628c-d209-4c17-b023-cd18cb362b40",
   "metadata": {},
   "outputs": [
    {
     "data": {
      "application/vnd.atoti.link.v0+json": {
       "path": "",
       "sessionLocation": {
        "https": false,
        "port": 9092
       }
      },
      "text/markdown": [
       "http://localhost:9092\n",
       "\n",
       "_Note_: This is the session's local URL: it may not be reachable if Atoti is running on another machine."
      ],
      "text/plain": [
       "http://localhost:9092 (This is the session's local URL: it may not be reachable if Atoti is running on another machine.)"
      ]
     },
     "execution_count": 2,
     "metadata": {},
     "output_type": "execute_result"
    }
   ],
   "source": [
    "session = tt.Session(\n",
    "    user_content_storage=\"./content\",\n",
    "    port=9092,\n",
    "    java_options=[\"-Xms1G\", \"-Xmx10G\"],\n",
    ")\n",
    "session.link"
   ]
  },
  {
   "cell_type": "markdown",
   "id": "338e45ac-5994-4d0f-8d32-a750f90eda51",
   "metadata": {},
   "source": [
    "## Load CSVs from S3 into Atoti tables\n",
    "\n",
    "From here on, we'll load the following CSVs from S3 into Atoti tables.\n",
    "\n",
    "* [Orders](#Orders)\n",
    "* [Products](#Products)\n",
    "* [Shippers](#Shippers)\n",
    "* [Customers](#Customers)\n",
    "* [Employees](#Employees)\n",
    "\n",
    "💡 **Note**: Sometimes we want inherently numerical columns to be used as hierarchies instead of measures (e.g. an Order ID should be used as a hierarchy rather than a measure, and does not need to be aggregated). For this reason, we can explicitly set specific Atoti table columns as desired data types (in this case strings) when loading data into Atoti tables.\n",
    "\n",
    "See https://docs.atoti.io/latest/api/atoti.Session.read_csv.html#atoti.Session.read_csv for more info."
   ]
  },
  {
   "cell_type": "markdown",
   "id": "c2436684-84d0-4875-941e-2609c877b412",
   "metadata": {},
   "source": [
    "### Orders"
   ]
  },
  {
   "cell_type": "code",
   "execution_count": 3,
   "id": "c5bb6cc1-7f54-44d3-9934-f142644c5ca5",
   "metadata": {},
   "outputs": [
    {
     "data": {
      "text/html": [
       "<div>\n",
       "<style scoped>\n",
       "    .dataframe tbody tr th:only-of-type {\n",
       "        vertical-align: middle;\n",
       "    }\n",
       "\n",
       "    .dataframe tbody tr th {\n",
       "        vertical-align: top;\n",
       "    }\n",
       "\n",
       "    .dataframe thead th {\n",
       "        text-align: right;\n",
       "    }\n",
       "</style>\n",
       "<table border=\"1\" class=\"dataframe\">\n",
       "  <thead>\n",
       "    <tr style=\"text-align: right;\">\n",
       "      <th></th>\n",
       "      <th>OrderDate</th>\n",
       "      <th>QuantitySold</th>\n",
       "      <th>SellingPricePerUnit</th>\n",
       "      <th>ShipperName</th>\n",
       "      <th>ProductId</th>\n",
       "      <th>EmployeeId</th>\n",
       "      <th>CustomerId</th>\n",
       "    </tr>\n",
       "    <tr>\n",
       "      <th>OrderId</th>\n",
       "      <th></th>\n",
       "      <th></th>\n",
       "      <th></th>\n",
       "      <th></th>\n",
       "      <th></th>\n",
       "      <th></th>\n",
       "      <th></th>\n",
       "    </tr>\n",
       "  </thead>\n",
       "  <tbody>\n",
       "    <tr>\n",
       "      <th>13</th>\n",
       "      <td>2024-02-18</td>\n",
       "      <td>233</td>\n",
       "      <td>32.01</td>\n",
       "      <td>Federal Shipping</td>\n",
       "      <td>1358</td>\n",
       "      <td>18551</td>\n",
       "      <td>c4859</td>\n",
       "    </tr>\n",
       "    <tr>\n",
       "      <th>27</th>\n",
       "      <td>2024-02-18</td>\n",
       "      <td>749</td>\n",
       "      <td>21.96</td>\n",
       "      <td>Rapid Post</td>\n",
       "      <td>1514</td>\n",
       "      <td>26584</td>\n",
       "      <td>c4747</td>\n",
       "    </tr>\n",
       "    <tr>\n",
       "      <th>41</th>\n",
       "      <td>2024-02-18</td>\n",
       "      <td>454</td>\n",
       "      <td>11.73</td>\n",
       "      <td>Freight United</td>\n",
       "      <td>773</td>\n",
       "      <td>98635</td>\n",
       "      <td>c2675</td>\n",
       "    </tr>\n",
       "    <tr>\n",
       "      <th>55</th>\n",
       "      <td>2024-02-18</td>\n",
       "      <td>2</td>\n",
       "      <td>32.18</td>\n",
       "      <td>Speedy Express</td>\n",
       "      <td>1137</td>\n",
       "      <td>18336</td>\n",
       "      <td>c1275</td>\n",
       "    </tr>\n",
       "    <tr>\n",
       "      <th>69</th>\n",
       "      <td>2024-02-18</td>\n",
       "      <td>672</td>\n",
       "      <td>56.04</td>\n",
       "      <td>Speedy Express</td>\n",
       "      <td>591</td>\n",
       "      <td>26584</td>\n",
       "      <td>c3067</td>\n",
       "    </tr>\n",
       "  </tbody>\n",
       "</table>\n",
       "</div>"
      ],
      "text/plain": [
       "         OrderDate  QuantitySold  SellingPricePerUnit       ShipperName  \\\n",
       "OrderId                                                                   \n",
       "13      2024-02-18           233                32.01  Federal Shipping   \n",
       "27      2024-02-18           749                21.96        Rapid Post   \n",
       "41      2024-02-18           454                11.73    Freight United   \n",
       "55      2024-02-18             2                32.18    Speedy Express   \n",
       "69      2024-02-18           672                56.04    Speedy Express   \n",
       "\n",
       "        ProductId EmployeeId CustomerId  \n",
       "OrderId                                  \n",
       "13           1358      18551      c4859  \n",
       "27           1514      26584      c4747  \n",
       "41            773      98635      c2675  \n",
       "55           1137      18336      c1275  \n",
       "69            591      26584      c3067  "
      ]
     },
     "execution_count": 3,
     "metadata": {},
     "output_type": "execute_result"
    }
   ],
   "source": [
    "orders = session.read_csv(\n",
    "    \"s3://data.atoti.io/notebooks/hierarchies/data/Orders.csv\",\n",
    "    types={\n",
    "        \"OrderId\": tt.STRING,\n",
    "        \"OrderDate\": tt.LOCAL_DATE,\n",
    "        \"ProductId\": tt.STRING,\n",
    "        \"EmployeeId\": tt.STRING,\n",
    "        \"CustomerId\": tt.STRING,\n",
    "    },\n",
    "    date_patterns={\"OrderDate\": \"dd/M/yyyy\"},\n",
    "    keys=[\"OrderId\"],\n",
    ")\n",
    "orders.head()"
   ]
  },
  {
   "cell_type": "markdown",
   "id": "9784490d-6226-4db7-b10c-e4b9577a2e34",
   "metadata": {},
   "source": [
    "### Products"
   ]
  },
  {
   "cell_type": "code",
   "execution_count": 4,
   "id": "d37199f3-a0eb-4cb4-91a3-57da1d2c752f",
   "metadata": {},
   "outputs": [
    {
     "data": {
      "text/html": [
       "<div>\n",
       "<style scoped>\n",
       "    .dataframe tbody tr th:only-of-type {\n",
       "        vertical-align: middle;\n",
       "    }\n",
       "\n",
       "    .dataframe tbody tr th {\n",
       "        vertical-align: top;\n",
       "    }\n",
       "\n",
       "    .dataframe thead th {\n",
       "        text-align: right;\n",
       "    }\n",
       "</style>\n",
       "<table border=\"1\" class=\"dataframe\">\n",
       "  <thead>\n",
       "    <tr style=\"text-align: right;\">\n",
       "      <th></th>\n",
       "      <th>ProductName</th>\n",
       "      <th>ProductCategory</th>\n",
       "      <th>Supplier</th>\n",
       "      <th>PurchasingPricePerUnit</th>\n",
       "    </tr>\n",
       "    <tr>\n",
       "      <th>ProductId</th>\n",
       "      <th></th>\n",
       "      <th></th>\n",
       "      <th></th>\n",
       "      <th></th>\n",
       "    </tr>\n",
       "  </thead>\n",
       "  <tbody>\n",
       "    <tr>\n",
       "      <th>695</th>\n",
       "      <td>Gorgonzola Telino</td>\n",
       "      <td>Dairy Products</td>\n",
       "      <td>Formaggi Fortini s.r.l.</td>\n",
       "      <td>7.2</td>\n",
       "    </tr>\n",
       "    <tr>\n",
       "      <th>877</th>\n",
       "      <td>Mascarpone Fabioli</td>\n",
       "      <td>Dairy Products</td>\n",
       "      <td>Formaggi Fortini s.r.l.</td>\n",
       "      <td>18.43</td>\n",
       "    </tr>\n",
       "    <tr>\n",
       "      <th>1059</th>\n",
       "      <td>Ipoh Coffee</td>\n",
       "      <td>Beverages</td>\n",
       "      <td>Leka Trading</td>\n",
       "      <td>31.05</td>\n",
       "    </tr>\n",
       "    <tr>\n",
       "      <th>1241</th>\n",
       "      <td>Spegesild</td>\n",
       "      <td>Seafood</td>\n",
       "      <td>Lyngbysild</td>\n",
       "      <td>6.48</td>\n",
       "    </tr>\n",
       "    <tr>\n",
       "      <th>1423</th>\n",
       "      <td>Gumbär Gummibärchen</td>\n",
       "      <td>Confections</td>\n",
       "      <td>Heli Süßwaren GmbH &amp; Co. KG</td>\n",
       "      <td>16.81</td>\n",
       "    </tr>\n",
       "  </tbody>\n",
       "</table>\n",
       "</div>"
      ],
      "text/plain": [
       "                   ProductName ProductCategory                     Supplier  \\\n",
       "ProductId                                                                     \n",
       "695          Gorgonzola Telino  Dairy Products      Formaggi Fortini s.r.l.   \n",
       "877         Mascarpone Fabioli  Dairy Products      Formaggi Fortini s.r.l.   \n",
       "1059               Ipoh Coffee       Beverages                 Leka Trading   \n",
       "1241                 Spegesild         Seafood                   Lyngbysild   \n",
       "1423       Gumbär Gummibärchen     Confections  Heli Süßwaren GmbH & Co. KG   \n",
       "\n",
       "           PurchasingPricePerUnit  \n",
       "ProductId                          \n",
       "695                           7.2  \n",
       "877                         18.43  \n",
       "1059                        31.05  \n",
       "1241                         6.48  \n",
       "1423                        16.81  "
      ]
     },
     "execution_count": 4,
     "metadata": {},
     "output_type": "execute_result"
    }
   ],
   "source": [
    "products = session.read_csv(\n",
    "    \"s3://data.atoti.io/notebooks/hierarchies/data/Products.csv\",\n",
    "    types={\n",
    "        \"ProductId\": tt.STRING,\n",
    "        \"ProductName\": tt.STRING,\n",
    "        \"ProductCategory\": tt.STRING,\n",
    "        \"Supplier\": tt.STRING,\n",
    "        \"PurchasingPricePerUnit\": tt.DOUBLE,\n",
    "    },\n",
    "    keys=[\"ProductId\"],\n",
    ")\n",
    "products.head()"
   ]
  },
  {
   "cell_type": "markdown",
   "id": "ac89f164-064a-4658-b7a7-642dd5d45d80",
   "metadata": {},
   "source": [
    "### Shippers"
   ]
  },
  {
   "cell_type": "code",
   "execution_count": 5,
   "id": "1280d556-8697-4086-9cb9-3b93c339255a",
   "metadata": {},
   "outputs": [
    {
     "data": {
      "text/html": [
       "<div>\n",
       "<style scoped>\n",
       "    .dataframe tbody tr th:only-of-type {\n",
       "        vertical-align: middle;\n",
       "    }\n",
       "\n",
       "    .dataframe tbody tr th {\n",
       "        vertical-align: top;\n",
       "    }\n",
       "\n",
       "    .dataframe thead th {\n",
       "        text-align: right;\n",
       "    }\n",
       "</style>\n",
       "<table border=\"1\" class=\"dataframe\">\n",
       "  <thead>\n",
       "    <tr style=\"text-align: right;\">\n",
       "      <th></th>\n",
       "      <th>ShipperName</th>\n",
       "      <th>Contact</th>\n",
       "    </tr>\n",
       "  </thead>\n",
       "  <tbody>\n",
       "    <tr>\n",
       "      <th>0</th>\n",
       "      <td>Freight United</td>\n",
       "      <td>Geoff Matthews</td>\n",
       "    </tr>\n",
       "    <tr>\n",
       "      <th>1</th>\n",
       "      <td>Federal Shipping</td>\n",
       "      <td>Liz Welds</td>\n",
       "    </tr>\n",
       "    <tr>\n",
       "      <th>2</th>\n",
       "      <td>Rapid Post</td>\n",
       "      <td>Payal Shah</td>\n",
       "    </tr>\n",
       "    <tr>\n",
       "      <th>3</th>\n",
       "      <td>The Transporter</td>\n",
       "      <td>Funmi Odunga</td>\n",
       "    </tr>\n",
       "    <tr>\n",
       "      <th>4</th>\n",
       "      <td>United Package</td>\n",
       "      <td>Junqi Huang</td>\n",
       "    </tr>\n",
       "  </tbody>\n",
       "</table>\n",
       "</div>"
      ],
      "text/plain": [
       "        ShipperName         Contact\n",
       "0    Freight United  Geoff Matthews\n",
       "1  Federal Shipping       Liz Welds\n",
       "2        Rapid Post      Payal Shah\n",
       "3   The Transporter    Funmi Odunga\n",
       "4    United Package     Junqi Huang"
      ]
     },
     "execution_count": 5,
     "metadata": {},
     "output_type": "execute_result"
    }
   ],
   "source": [
    "shippers = session.read_csv(\n",
    "    \"s3://data.atoti.io/notebooks/hierarchies/data/Shippers.csv\",\n",
    "    types={\n",
    "        \"ShipperName\": tt.STRING,\n",
    "        \"Contact\": tt.STRING,\n",
    "    },\n",
    ")\n",
    "shippers.head()"
   ]
  },
  {
   "cell_type": "markdown",
   "id": "9c4dac8a-8dc7-4158-8976-1ba48b98f2be",
   "metadata": {},
   "source": [
    "### Customers"
   ]
  },
  {
   "cell_type": "code",
   "execution_count": 6,
   "id": "5c17d95f-eb31-4a3b-b05a-ff3b30c0fe79",
   "metadata": {},
   "outputs": [
    {
     "data": {
      "text/html": [
       "<div>\n",
       "<style scoped>\n",
       "    .dataframe tbody tr th:only-of-type {\n",
       "        vertical-align: middle;\n",
       "    }\n",
       "\n",
       "    .dataframe tbody tr th {\n",
       "        vertical-align: top;\n",
       "    }\n",
       "\n",
       "    .dataframe thead th {\n",
       "        text-align: right;\n",
       "    }\n",
       "</style>\n",
       "<table border=\"1\" class=\"dataframe\">\n",
       "  <thead>\n",
       "    <tr style=\"text-align: right;\">\n",
       "      <th></th>\n",
       "      <th>CompanyName</th>\n",
       "      <th>Address</th>\n",
       "      <th>City</th>\n",
       "      <th>PostalCode</th>\n",
       "      <th>Region</th>\n",
       "      <th>Country</th>\n",
       "      <th>Subregion</th>\n",
       "      <th>Phone</th>\n",
       "      <th>PostCode</th>\n",
       "    </tr>\n",
       "    <tr>\n",
       "      <th>CustomerId</th>\n",
       "      <th></th>\n",
       "      <th></th>\n",
       "      <th></th>\n",
       "      <th></th>\n",
       "      <th></th>\n",
       "      <th></th>\n",
       "      <th></th>\n",
       "      <th></th>\n",
       "      <th></th>\n",
       "    </tr>\n",
       "  </thead>\n",
       "  <tbody>\n",
       "    <tr>\n",
       "      <th>c3571</th>\n",
       "      <td>Bon app'</td>\n",
       "      <td>12, rue des Bouchers</td>\n",
       "      <td>Marseille</td>\n",
       "      <td>13008</td>\n",
       "      <td>Europe</td>\n",
       "      <td>France</td>\n",
       "      <td>Western Europe</td>\n",
       "      <td>91.24.45.40</td>\n",
       "      <td>N/A</td>\n",
       "    </tr>\n",
       "    <tr>\n",
       "      <th>c4075</th>\n",
       "      <td>Drachenblut Delikatessen</td>\n",
       "      <td>Walserweg 21</td>\n",
       "      <td>Aachen</td>\n",
       "      <td>52066</td>\n",
       "      <td>Europe</td>\n",
       "      <td>Germany</td>\n",
       "      <td>Western Europe</td>\n",
       "      <td>0241-039123</td>\n",
       "      <td>N/A</td>\n",
       "    </tr>\n",
       "    <tr>\n",
       "      <th>c4243</th>\n",
       "      <td>Galería del gastrónomo</td>\n",
       "      <td>Rambla de Cataluña, 23</td>\n",
       "      <td>Barcelona</td>\n",
       "      <td>8022</td>\n",
       "      <td>Europe</td>\n",
       "      <td>Spain</td>\n",
       "      <td>Southern Europe</td>\n",
       "      <td>(93) 203 4560</td>\n",
       "      <td>N/A</td>\n",
       "    </tr>\n",
       "    <tr>\n",
       "      <th>c5083</th>\n",
       "      <td>Laughing Bacchus Wine Cellars</td>\n",
       "      <td>1900 Oak St.</td>\n",
       "      <td>Vancouver</td>\n",
       "      <td>V3F 2K1</td>\n",
       "      <td>Northern America</td>\n",
       "      <td>Canada</td>\n",
       "      <td>North America</td>\n",
       "      <td>(604) 555-3392</td>\n",
       "      <td>N/A</td>\n",
       "    </tr>\n",
       "    <tr>\n",
       "      <th>c5027</th>\n",
       "      <td>Lazy K Kountry Store</td>\n",
       "      <td>12 Orchestra Terrace</td>\n",
       "      <td>Walla Walla</td>\n",
       "      <td>99362</td>\n",
       "      <td>Northern America</td>\n",
       "      <td>United States</td>\n",
       "      <td>North America</td>\n",
       "      <td>(509) 555-7969</td>\n",
       "      <td>N/A</td>\n",
       "    </tr>\n",
       "  </tbody>\n",
       "</table>\n",
       "</div>"
      ],
      "text/plain": [
       "                              CompanyName                 Address  \\\n",
       "CustomerId                                                          \n",
       "c3571                            Bon app'    12, rue des Bouchers   \n",
       "c4075            Drachenblut Delikatessen            Walserweg 21   \n",
       "c4243              Galería del gastrónomo  Rambla de Cataluña, 23   \n",
       "c5083       Laughing Bacchus Wine Cellars            1900 Oak St.   \n",
       "c5027                Lazy K Kountry Store    12 Orchestra Terrace   \n",
       "\n",
       "                   City PostalCode            Region        Country  \\\n",
       "CustomerId                                                            \n",
       "c3571         Marseille      13008            Europe         France   \n",
       "c4075            Aachen      52066            Europe        Germany   \n",
       "c4243         Barcelona       8022            Europe          Spain   \n",
       "c5083         Vancouver    V3F 2K1  Northern America         Canada   \n",
       "c5027       Walla Walla      99362  Northern America  United States   \n",
       "\n",
       "                  Subregion           Phone PostCode  \n",
       "CustomerId                                            \n",
       "c3571        Western Europe     91.24.45.40      N/A  \n",
       "c4075        Western Europe     0241-039123      N/A  \n",
       "c4243       Southern Europe   (93) 203 4560      N/A  \n",
       "c5083         North America  (604) 555-3392      N/A  \n",
       "c5027         North America  (509) 555-7969      N/A  "
      ]
     },
     "execution_count": 6,
     "metadata": {},
     "output_type": "execute_result"
    }
   ],
   "source": [
    "customers = session.read_csv(\n",
    "    \"s3://data.atoti.io/notebooks/hierarchies/data/Customers.csv\",\n",
    "    types={\n",
    "        \"CustomerId\": tt.STRING,\n",
    "        \"CompanyName\": tt.STRING,\n",
    "        \"Region\": tt.STRING,\n",
    "        \"Country\": tt.STRING,\n",
    "        \"Address\": tt.STRING,\n",
    "        \"City\": tt.STRING,\n",
    "        \"PostCode\": tt.STRING,\n",
    "        \"Phone\": tt.STRING,\n",
    "    },\n",
    "    keys=[\"CustomerId\"],\n",
    ")\n",
    "customers.head()"
   ]
  },
  {
   "cell_type": "markdown",
   "id": "0c30a612-1763-4390-9c33-336934e7d033",
   "metadata": {},
   "source": [
    "### Employees"
   ]
  },
  {
   "cell_type": "code",
   "execution_count": 7,
   "id": "c3ce0b51-5296-4696-960a-d18346499be3",
   "metadata": {},
   "outputs": [
    {
     "data": {
      "text/html": [
       "<div>\n",
       "<style scoped>\n",
       "    .dataframe tbody tr th:only-of-type {\n",
       "        vertical-align: middle;\n",
       "    }\n",
       "\n",
       "    .dataframe tbody tr th {\n",
       "        vertical-align: top;\n",
       "    }\n",
       "\n",
       "    .dataframe thead th {\n",
       "        text-align: right;\n",
       "    }\n",
       "</style>\n",
       "<table border=\"1\" class=\"dataframe\">\n",
       "  <thead>\n",
       "    <tr style=\"text-align: right;\">\n",
       "      <th></th>\n",
       "      <th>EmployeeName</th>\n",
       "      <th>EmployeeZone</th>\n",
       "      <th>EmployeeCountry</th>\n",
       "      <th>EmployeeCity</th>\n",
       "    </tr>\n",
       "    <tr>\n",
       "      <th>EmployeeId</th>\n",
       "      <th></th>\n",
       "      <th></th>\n",
       "      <th></th>\n",
       "      <th></th>\n",
       "    </tr>\n",
       "  </thead>\n",
       "  <tbody>\n",
       "    <tr>\n",
       "      <th>63528</th>\n",
       "      <td>Sean Tan</td>\n",
       "      <td>ASIA</td>\n",
       "      <td>SG</td>\n",
       "      <td>Singapore</td>\n",
       "    </tr>\n",
       "    <tr>\n",
       "      <th>98635</th>\n",
       "      <td>Shannon Lim</td>\n",
       "      <td>ASIA</td>\n",
       "      <td>SG</td>\n",
       "      <td>Singapore</td>\n",
       "    </tr>\n",
       "    <tr>\n",
       "      <th>12344</th>\n",
       "      <td>Paul Henry</td>\n",
       "      <td>EMEA</td>\n",
       "      <td>FR</td>\n",
       "      <td>Paris</td>\n",
       "    </tr>\n",
       "    <tr>\n",
       "      <th>12695</th>\n",
       "      <td>Louis Philippe</td>\n",
       "      <td>EMEA</td>\n",
       "      <td>FR</td>\n",
       "      <td>Lyon</td>\n",
       "    </tr>\n",
       "    <tr>\n",
       "      <th>18336</th>\n",
       "      <td>Steven Buchanan</td>\n",
       "      <td>EMEA</td>\n",
       "      <td>UK</td>\n",
       "      <td>London</td>\n",
       "    </tr>\n",
       "  </tbody>\n",
       "</table>\n",
       "</div>"
      ],
      "text/plain": [
       "               EmployeeName EmployeeZone EmployeeCountry EmployeeCity\n",
       "EmployeeId                                                           \n",
       "63528              Sean Tan         ASIA              SG    Singapore\n",
       "98635           Shannon Lim         ASIA              SG    Singapore\n",
       "12344            Paul Henry         EMEA              FR        Paris\n",
       "12695        Louis Philippe         EMEA              FR         Lyon\n",
       "18336       Steven Buchanan         EMEA              UK       London"
      ]
     },
     "execution_count": 7,
     "metadata": {},
     "output_type": "execute_result"
    }
   ],
   "source": [
    "employees = session.read_csv(\n",
    "    \"s3://data.atoti.io/notebooks/hierarchies/data/Employees.csv\",\n",
    "    types={\n",
    "        \"EmployeeId\": tt.STRING,\n",
    "        \"EmployeeName\": tt.STRING,\n",
    "        \"EmployeeCountry\": tt.STRING,\n",
    "        \"EmployeeCity\": tt.STRING,\n",
    "    },\n",
    "    keys=[\"EmployeeId\"],\n",
    ")\n",
    "employees.head()"
   ]
  },
  {
   "cell_type": "markdown",
   "id": "6e277a6c-bf86-46d0-8c28-ab48986f8237",
   "metadata": {},
   "source": [
    "## Join tables and create cube\n",
    "\n",
    "Now that our data is loaded into Atoti tables and in the format that we want, we can join our tables together on their common keys and create our Atoti cube."
   ]
  },
  {
   "cell_type": "code",
   "execution_count": 8,
   "id": "63f8f654-b769-4362-ac4c-5470c22d27b2",
   "metadata": {},
   "outputs": [],
   "source": [
    "# Join tables\n",
    "orders.join(products, orders[\"ProductId\"] == products[\"ProductId\"])\n",
    "orders.join(employees, orders[\"EmployeeId\"] == employees[\"EmployeeId\"])\n",
    "orders.join(customers, orders[\"CustomerId\"] == customers[\"CustomerId\"])\n",
    "orders.join(shippers, orders[\"ShipperName\"] == shippers[\"ShipperName\"])"
   ]
  },
  {
   "cell_type": "code",
   "execution_count": 9,
   "id": "b5f9b569-eaa7-4b41-8a36-071f6970444a",
   "metadata": {},
   "outputs": [],
   "source": [
    "# Create Cube from Atoti Table object\n",
    "cube = session.create_cube(orders)"
   ]
  },
  {
   "cell_type": "markdown",
   "id": "43c0ab89-5c1a-4546-8d4a-942ee8dc8708",
   "metadata": {},
   "source": [
    "## Analyze the Atoti cube\n",
    "\n",
    "Now that the data has been loaded into the cube, we'll want to examine the data model of the cube to confirm that the columns and data types match up to what we expect. In addition, we can alias the hierarchies, levels, and measures as new variables for enhanced readability when manipulating these components of the cube."
   ]
  },
  {
   "cell_type": "code",
   "execution_count": 10,
   "id": "eaf46e7c-2501-462b-82a1-107e74e497f7",
   "metadata": {},
   "outputs": [
    {
     "data": {
      "image/png": "[encoded data removed]",
      "text/plain": [
       "erDiagram\n",
       "  \"Orders\" {\n",
       "    _ String PK \"OrderId\"\n",
       "    _ LocalDate \"OrderDate\"\n",
       "    nullable int \"QuantitySold\"\n",
       "    nullable double \"SellingPricePerUnit\"\n",
       "    _ String \"ShipperName\"\n",
       "    _ String \"ProductId\"\n",
       "    _ String \"EmployeeId\"\n",
       "    _ String \"CustomerId\"\n",
       "  }\n",
       "  \"Products\" {\n",
       "    _ String PK \"ProductId\"\n",
       "    _ String \"ProductName\"\n",
       "    _ String \"ProductCategory\"\n",
       "    _ String \"Supplier\"\n",
       "    nullable double \"PurchasingPricePerUnit\"\n",
       "  }\n",
       "  \"Customers\" {\n",
       "    _ String PK \"CustomerId\"\n",
       "    _ String \"CompanyName\"\n",
       "    _ String \"Address\"\n",
       "    _ String \"City\"\n",
       "    _ String \"PostalCode\"\n",
       "    _ String \"Region\"\n",
       "    _ String \"Country\"\n",
       "    _ String \"Subregion\"\n",
       "    _ String \"Phone\"\n",
       "    _ String \"PostCode\"\n",
       "  }\n",
       "  \"Shippers\" {\n",
       "    _ String \"ShipperName\"\n",
       "    _ String \"Contact\"\n",
       "  }\n",
       "  \"Employees\" {\n",
       "    _ String PK \"EmployeeId\"\n",
       "    _ String \"EmployeeName\"\n",
       "    _ String \"EmployeeZone\"\n",
       "    _ String \"EmployeeCountry\"\n",
       "    _ String \"EmployeeCity\"\n",
       "  }\n",
       "  \"Orders\" }o--o| \"Customers\" : \"`CustomerId` == `CustomerId`\"\n",
       "  \"Orders\" }o--o| \"Employees\" : \"`EmployeeId` == `EmployeeId`\"\n",
       "  \"Orders\" }o--o| \"Products\" : \"`ProductId` == `ProductId`\"\n",
       "  \"Orders\" }o--o| \"Shippers\" : \"`ShipperName` == `ShipperName`\""
      ]
     },
     "execution_count": 10,
     "metadata": {},
     "output_type": "execute_result"
    }
   ],
   "source": [
    "# View the schema of the data model\n",
    "session.tables.schema"
   ]
  },
  {
   "cell_type": "code",
   "execution_count": 11,
   "id": "9d3894be-2af4-4a75-a091-7a060bc403f5",
   "metadata": {},
   "outputs": [],
   "source": [
    "# Set variables for hierarchies, levels, and measures\n",
    "h, l, m = cube.hierarchies, cube.levels, cube.measures"
   ]
  },
  {
   "cell_type": "markdown",
   "id": "5e262b11-8c22-4ba2-9795-b6cf03d753b1",
   "metadata": {},
   "source": [
    "## Viewing hierarchies\n",
    "\n",
    "Because this walk through is about hierarchies, we'll focus on our new alias representing the list of hierarchies for the cube, categorized by dimensions and the associated levels for each hierarchy (starting with a 0-based index).\n",
    "\n",
    "💡 **Note**: Hierarchies can have [multiple levels](https://docs.atoti.io/latest/getting_started/tutorial/tutorial.html#Multilevel-hierarchies), which we will show [later in this notebook](#Using-Multi-Level-Hierarchies)."
   ]
  },
  {
   "cell_type": "code",
   "execution_count": 12,
   "id": "d62e8940-8ae1-4bb0-afa6-3425471f65ef",
   "metadata": {},
   "outputs": [
    {
     "data": {
      "application/json": {
       "Customers": {
        "Address": [
         "Address"
        ],
        "City": [
         "City"
        ],
        "CompanyName": [
         "CompanyName"
        ],
        "Country": [
         "Country"
        ],
        "Phone": [
         "Phone"
        ],
        "PostCode": [
         "PostCode"
        ],
        "PostalCode": [
         "PostalCode"
        ],
        "Region": [
         "Region"
        ],
        "Subregion": [
         "Subregion"
        ]
       },
       "Employees": {
        "EmployeeCity": [
         "EmployeeCity"
        ],
        "EmployeeCountry": [
         "EmployeeCountry"
        ],
        "EmployeeName": [
         "EmployeeName"
        ],
        "EmployeeZone": [
         "EmployeeZone"
        ]
       },
       "Orders": {
        "CustomerId": [
         "CustomerId"
        ],
        "EmployeeId": [
         "EmployeeId"
        ],
        "OrderDate": [
         "OrderDate"
        ],
        "OrderId": [
         "OrderId"
        ],
        "ProductId": [
         "ProductId"
        ],
        "ShipperName": [
         "ShipperName"
        ]
       },
       "Products": {
        "ProductCategory": [
         "ProductCategory"
        ],
        "ProductName": [
         "ProductName"
        ],
        "Supplier": [
         "Supplier"
        ]
       },
       "Shippers": {
        "Contact": [
         "Contact"
        ]
       }
      },
      "text/html": [
       "<ul>\n",
       "<li>Dimensions\n",
       "  <ul>\n",
       "  <li>Customers\n",
       "    <ul>\n",
       "    <li>Address\n",
       "      <ol>\n",
       "      <li>Address</li>\n",
       "      </ol>    </li>\n",
       "    <li>City\n",
       "      <ol>\n",
       "      <li>City</li>\n",
       "      </ol>    </li>\n",
       "    <li>CompanyName\n",
       "      <ol>\n",
       "      <li>CompanyName</li>\n",
       "      </ol>    </li>\n",
       "    <li>Country\n",
       "      <ol>\n",
       "      <li>Country</li>\n",
       "      </ol>    </li>\n",
       "    <li>Phone\n",
       "      <ol>\n",
       "      <li>Phone</li>\n",
       "      </ol>    </li>\n",
       "    <li>PostCode\n",
       "      <ol>\n",
       "      <li>PostCode</li>\n",
       "      </ol>    </li>\n",
       "    <li>PostalCode\n",
       "      <ol>\n",
       "      <li>PostalCode</li>\n",
       "      </ol>    </li>\n",
       "    <li>Region\n",
       "      <ol>\n",
       "      <li>Region</li>\n",
       "      </ol>    </li>\n",
       "    <li>Subregion\n",
       "      <ol>\n",
       "      <li>Subregion</li>\n",
       "      </ol>    </li>\n",
       "    </ul>\n",
       "  </li>\n",
       "  <li>Employees\n",
       "    <ul>\n",
       "    <li>EmployeeCity\n",
       "      <ol>\n",
       "      <li>EmployeeCity</li>\n",
       "      </ol>    </li>\n",
       "    <li>EmployeeCountry\n",
       "      <ol>\n",
       "      <li>EmployeeCountry</li>\n",
       "      </ol>    </li>\n",
       "    <li>EmployeeName\n",
       "      <ol>\n",
       "      <li>EmployeeName</li>\n",
       "      </ol>    </li>\n",
       "    <li>EmployeeZone\n",
       "      <ol>\n",
       "      <li>EmployeeZone</li>\n",
       "      </ol>    </li>\n",
       "    </ul>\n",
       "  </li>\n",
       "  <li>Orders\n",
       "    <ul>\n",
       "    <li>CustomerId\n",
       "      <ol>\n",
       "      <li>CustomerId</li>\n",
       "      </ol>    </li>\n",
       "    <li>EmployeeId\n",
       "      <ol>\n",
       "      <li>EmployeeId</li>\n",
       "      </ol>    </li>\n",
       "    <li>OrderDate\n",
       "      <ol>\n",
       "      <li>OrderDate</li>\n",
       "      </ol>    </li>\n",
       "    <li>OrderId\n",
       "      <ol>\n",
       "      <li>OrderId</li>\n",
       "      </ol>    </li>\n",
       "    <li>ProductId\n",
       "      <ol>\n",
       "      <li>ProductId</li>\n",
       "      </ol>    </li>\n",
       "    <li>ShipperName\n",
       "      <ol>\n",
       "      <li>ShipperName</li>\n",
       "      </ol>    </li>\n",
       "    </ul>\n",
       "  </li>\n",
       "  <li>Products\n",
       "    <ul>\n",
       "    <li>ProductCategory\n",
       "      <ol>\n",
       "      <li>ProductCategory</li>\n",
       "      </ol>    </li>\n",
       "    <li>ProductName\n",
       "      <ol>\n",
       "      <li>ProductName</li>\n",
       "      </ol>    </li>\n",
       "    <li>Supplier\n",
       "      <ol>\n",
       "      <li>Supplier</li>\n",
       "      </ol>    </li>\n",
       "    </ul>\n",
       "  </li>\n",
       "  <li>Shippers\n",
       "    <ul>\n",
       "    <li>Contact\n",
       "      <ol>\n",
       "      <li>Contact</li>\n",
       "      </ol>    </li>\n",
       "    </ul>\n",
       "  </li>\n",
       "  </ul>\n",
       "</li>\n",
       "</ul>\n"
      ],
      "text/plain": [
       "{('Products', 'Supplier'): <atoti.hierarchy.Hierarchy object at 0x1277b29e0>, ('Orders', 'OrderDate'): <atoti.hierarchy.Hierarchy object at 0x1277b2b00>, ('Orders', 'ProductId'): <atoti.hierarchy.Hierarchy object at 0x1277b2740>, ('Products', 'ProductName'): <atoti.hierarchy.Hierarchy object at 0x1277b25c0>, ('Customers', 'Phone'): <atoti.hierarchy.Hierarchy object at 0x1277b24a0>, ('Customers', 'Address'): <atoti.hierarchy.Hierarchy object at 0x1277b21d0>, ('Customers', 'Region'): <atoti.hierarchy.Hierarchy object at 0x1277b1ea0>, ('Shippers', 'Contact'): <atoti.hierarchy.Hierarchy object at 0x1277b1f60>, ('Orders', 'EmployeeId'): <atoti.hierarchy.Hierarchy object at 0x1277b1ed0>, ('Customers', 'PostCode'): <atoti.hierarchy.Hierarchy object at 0x1277b1b40>, ('Employees', 'EmployeeCountry'): <atoti.hierarchy.Hierarchy object at 0x1277b19f0>, ('Products', 'ProductCategory'): <atoti.hierarchy.Hierarchy object at 0x1277b18a0>, ('Customers', 'PostalCode'): <atoti.hierarchy.Hierarchy object at 0x1277b1630>, ('Customers', 'Subregion'): <atoti.hierarchy.Hierarchy object at 0x1277b04f0>, ('Orders', 'CustomerId'): <atoti.hierarchy.Hierarchy object at 0x1277b05b0>, ('Employees', 'EmployeeCity'): <atoti.hierarchy.Hierarchy object at 0x1277b0b80>, ('Customers', 'Country'): <atoti.hierarchy.Hierarchy object at 0x1277b0d00>, ('Orders', 'OrderId'): <atoti.hierarchy.Hierarchy object at 0x1277b0fa0>, ('Customers', 'CompanyName'): <atoti.hierarchy.Hierarchy object at 0x1277b31f0>, ('Orders', 'ShipperName'): <atoti.hierarchy.Hierarchy object at 0x1277b32e0>, ('Employees', 'EmployeeName'): <atoti.hierarchy.Hierarchy object at 0x1277b33d0>, ('Employees', 'EmployeeZone'): <atoti.hierarchy.Hierarchy object at 0x1277b34c0>, ('Customers', 'City'): <atoti.hierarchy.Hierarchy object at 0x1277b35b0>}"
      ]
     },
     "execution_count": 12,
     "metadata": {
      "application/json": {
       "expanded": true,
       "root": "Dimensions"
      }
     },
     "output_type": "execute_result"
    }
   ],
   "source": [
    "h"
   ]
  },
  {
   "cell_type": "markdown",
   "id": "ae8d18f7-bfde-45f4-b286-20f4d3393cc4",
   "metadata": {},
   "source": [
    "## Hierarchy basics\n",
    "\n",
    "Now that we have our cube up and running and have checked the hierarchies present in the cube, let's use `session.widget` to open up an Atoti JupyterLab extension connected to our cube, and investigate the quantity sold per product.\n",
    "\n",
    "Here we can use the `ProductId` hierarchy and the `QuantitySold.SUM` measure to perform this operation in Atoti.\n",
    "\n",
    "💡 **Note**: You may also use `session.link` to perform the same investigation within the Atoti UI; however, for the purposes of this walk through, we've elected to use `session.widget` so that we can show our analysis directly within this Jupyter notebook."
   ]
  },
  {
   "cell_type": "code",
   "execution_count": 13,
   "id": "a6e27eef-7e31-4eb3-a836-00c80b66d2bb",
   "metadata": {
    "atoti": {
     "widget": {
      "mapping": {
       "columns": [
        "ALL_MEASURES"
       ],
       "measures": [
        "[Measures].[QuantitySold.SUM]"
       ],
       "rows": [
        "[Orders].[ProductId].[ProductId]"
       ]
      },
      "query": {
       "mdx": "SELECT NON EMPTY {[Measures].[QuantitySold.SUM]} ON COLUMNS, NON EMPTY Hierarchize(Descendants({[Orders].[ProductId].[ALL].[AllMember]}, 1, SELF_AND_BEFORE)) ON ROWS FROM [Orders] CELL PROPERTIES VALUE, FORMATTED_VALUE, BACK_COLOR, FORE_COLOR, FONT_FLAGS",
       "updateMode": "once"
      },
      "serverKey": "default",
      "widgetKey": "pivot-table"
     }
    }
   },
   "outputs": [
    {
     "data": {
      "application/vnd.atoti.widget.v0+json": {
       "sessionId": "1717601103_7Y9TK8",
       "sessionLocation": {
        "https": false,
        "port": 9092
       },
       "widgetCreationCode": "session.widget"
      },
      "text/html": [
       "<img height=\"352\" width=\"1304\" src=\"data:image/png;base64,iVBORw0KGgoAAAANSUhEUgAABRgAAAFgCAYAAADQJhWiAAAAAXNSR0IArs4c6QAAIABJREFUeF7s3Xd8VFX+//FzZoaEEpo0Iy2SZO4kFEsUFQvYsLDosvbCz7aKfQULiqjrunYX9GtB+K4LYl1ZxbK6dimCosZCCXMnAVGpCooQSpKZOb985juXHWKAJEwmw8xrHo/v47fM3HvOuc/PjX+8f6doxQcBBBBAAAEEEEAAAQQQQAABBBBAAAEEEGiggG7gfdyGAAIIIIAAAggggAACCCCAAAIIIIAAAgiobQGjMcbggUAqCWitCdBTqaA8CwIIIIAAAggggAACCCCAAAIIJKUAAWNSloVBxUOAgDEeirSBAAIIIIAAAggggAACCCCAAAII7FyAgJE3JGUFCBhTtrQ8GAIIIIAAAggggAACCCCAAAIIJJEAAWMSFYOhxFeAgDG+nrSGAAIIIIAAAggggAACCCCAAAII1CZAwMh7kbICBIwpW1oeDAEEEEAAAQQQQAABBBBAAAEEkkiAgDGJisFQ4itAwBhfT1pDAAEEEEAAAQQQQAABBBBAAAEEahMgYOS9SFkBAsaULS0PhgACCCCAAAIIIIAAAggggAACSSRAwJhExWAo8RUgYIyvJ60hgAACCCCAAAIIIIAAAggggAACtQmkXMC4ZMkS5XK51L777rtHVHzz5s3qhx9+UF27dlVZWVk7HPP333+vjDGqZ8+ee8RzJcMgCRiToQqMAQEEEEAAAQQQQAABBBBAAAEEUl1ghwHjrFmzIs9+yCGHqMzMzO0cli9friTIy8vLiwRjyfKRAM4Z98CBA+M2rJ9//llt3LhR9ejRQ2m9jew37a9atSryXXZ2dp37Xr16tbJtW/Xq1Ut17959h/fNnTtXhcNhdcQRR9S57XS/kIAx3d8Anh8BBBBAAAEEEEAAAQQQQAABBBIhsMOAcebMmZH+W7ZsqQ4++ODtxiIz7pYuXZp0AaMMcsWKFZEQcJ999omb39dff61+/fVXNWDAANWsWbMdtvvxxx9HfqtPCEjAGLcy/aYhAsbGs6VlBBBAAAEEEEAAAQQQQAABBBBAwBHYZcAoF9acXZfMAWNjlJaAsTFUG79NAsbGN6YHBBBAAAEEEEAAAQQQQAABBBBAYKcBo8fjUcFgMDIjMHapdG0BY0VFhSopKYksJZalyi1atIjMcNxrr73U2rVr1eLFiyP7Inbr1i2i/u233ypZai3XOEuKy8rKlCwzLioqisycjP3IzESZNSltyP/eunVrZFxt27ZVffv2jey7KJ958+ZF/vdBBx2k5syZExmHtOd85Hk++eQT1aZNG7XffvtFvpZxyzLoUCik5JllzAUFBZHfZGlyVVVV5H9Lf/K7zGSM/cg+isXFxZElzPKR/p32pb+FCxeqDRs2RFzcbrfq3Lmz8nq9kWudGYyy1FzGsGXLlkg/rVu3Vn369Nk2Y7K2JdKx487IyIgsV5dl3Hz+T4CAkTcBAQQQQAABBBBAAAEEEEAAAQQQaHyBnQaMzZs3V126dFHffffddkulawaMEpx9+umnqrKyMnKdhHASqElQJsurJfyS5cMSuh1wwAGRp/rss88iYZoEhPvvv/+27yQ4POqoo37z5DKGZcuWRb6XkE4CuE2bNkXCv9h2pR8J+CQEdPo4/PDDI2OSj9OOBJUSxs2fP1/98ssvkSCvVatWqry8PBKqduzYUfXu3Vv5/f5IQCrhY7t27SLP4oSPziDluWUfRQkI5SMBpTyXtP/5558rCSDFUv5PXCSIzMnJiRzY4gSMcp8TTMr10qaEo/3794+0WTNglNBy3bp1kfGIudOuZVlq7733bvw3Zw/ogYBxDygSQ0QAAQQQQAABBBBAAAEEEEAAgT1eYJcBo8xclFmBEvzl5uZGZiDWDBhlNqKcciz7Hubn50dQfvrpp8jMQAnlZKagzBqUkM7Zn9DZ41FCtSOPPDJyjxzQImGZzD6s+XGCQQkXJTx0ZixKsCmzJw888MBI6BgbMDqH0ThhnrTphI7SpwScX3zxReQQm0MPPTTSZWxYKt/Jb7uzRFqCQGnDcZE+ZQwSZspzOgGjPI/05+zxKOOSALWwsFB16tRpu4BRAkgJLmMDSDFwZm/WZw/IPf4N3skDEDCmcnV5NgQQQAABBBBAAAEEEEAAAQQQSBaBOgWMEi5KeCUzEiUEW7NmzXaHvHz11VeRGXSy7FcCQOcjy6Jl5qDMIJSwUUJHCQflwJRFixZFAsmVK1dGZjnKrEFpR2b9yezCHQWMsSGmXCPLpWVptRMixgaMzqnSThAnMwdnz56tsrKyIsumJRSVcLTmadhOmCmhoPS3OwGj8xziIyGgzEyU8crMw8MOO2xbwCghooSJzkdmTTpGMo7YGYxOwNuhQ4fIcmvnEwgEIiGuzADd2WnXyfLyNfY4CBgbW5j2EUAAAQQQQAABBBBAAAEEEEAAAaXqFDAKlBPGycw7WTYde4q07HUoAeGOPgMHDowsH16wYEEkzJOAUQI0mWkngZ/MipQwUMJCmTEpS4l3FDDWXAIswZ0Ek05AFxswShtO+CkzFiXMXLJkifL5fJFncEJPWbYty6ydjyw9lpmHstRY+tudgNGZ3VnzeWoGjLGzLOVaCSJl1qezhDw2YHTGvSNvZzZnur/gBIzp/gbw/AgggAACCCCAAAIIIIAAAgggkAiBOgeMMhhnP0EJ4yTYc2b+yQEnsneh7BdYc+ac/FuWCMtHlkW3b98+cq3MKpRgT5Y4y6xHuU5mSu5oea8zq7B79+6RU62dj7PE2Jn5WDNgdJZqy/JuuVaWFzt7PMqejtJuzdDSWVrtLAlvaMDoLIeW55Pxyd6MYiHBoQSMMhvUGb8EnhJ8Oh/ZF1L2h3S+jw0YndBSHCRYrfmpLaBNxMuUbH0QMCZbRRgPAggggAACCCCAAAIIIIAAAgikokC9AkZnnz+ZbSgfJ2AsLS2NzA50AjkHSmYLyp6CzsnGElBKG7KMV8IxCQvlcBQJ2ZwToZ2TnWtiOwGjM/PP+d0JN/v16xcJL2sGjHKdzJKU0E3CRblGrpWPzKSU8FD2bpRZf87HCVJl6bbsCfnNN9+o9evXb9vncUcvgvQty7CdANMJKuWUbOfUaGfGpbPvoxMwOqdTOwGtc/iME37GBozOuJ39LZ3xSA3kFG+5hw+nSPMOIIAAAggggAACCCCAAAIIIIAAAokQqFfAKANyQrPYgFFCQzm4RMI12RdQllHLzEGZwRe7t6Asq5b9A+XjnOwsgdiXX34Z+U5COAnjavvEniItsx9lNqCEdXJ/bOhYW8DonLgs7UqAKcGc83EOfZF9GeV7mTkoh6s4h7DIdc7ycAkFZXxy+nNtH2c5trQj10lwKe3LAS7yb/GRQFEC2poBo7Qn38np1TLDU0JECR1ln0a5v+Yp0s7BO9KHhKZiISFo7IE1iXiBkrkPZjAmc3UYGwIIIIAAAggggAACCCCAAAIIpIpAvQNGeXDnhOPYw1Ek4JIgr6qqapuNhIB9+/bd9m9nybDMapTDXpyPzDCU8E32SXROh64J7ASMEtTJITNyvRPKyexDCRnlU1vA6ISYslS55hJsmU0pAafMbnQ+EjbK8m1nLHKNBIWyL6LMMHRmKNYco+wzKQezyNhk5qPMgJRZnBLKOh8xkSBQDGoukZZ9KaUv+cjzSBgq7cinZsBY27gleN1///23WaTKS9rQ5yBgbKgc9yGAAAIIIIAAAggggAACCCCAAAJ1F9hhwFj3Jra/UoIvmdEoYVc8TzJ2AkY5aVlmRUpYKSFc7KnVDR2zc5+EjE6gV1tbTvi3qz7lwBsJJ2PDUpkVKcu0d3Wv7EMp10gAWdePtC3eOwpn69pOql1HwJhqFeV5EEAAAQQQQAABBBBAAAEEEEAgGQXiHjA21kPWDBgbqx/aTR0BAsbUqSVPggACCCCAAAIIIIAAAggggAACySuwxwSMcoCJ7OEoMxhlmTEfBHYlQMC4KyF+RwABBBBAAAEEEEAAAQQQQAABBHZfYI8JGHf/UWkh3QQIGNOt4jwvAggggAACCCCAAAIIIIAAAgg0hQABY1Oo02dCBAgYE8JMJwgggAACCCCAAAIIIIAAAgggkOYCBIxp/gKk8uMTMKZydXk2BBBAAAEEEEAAAQQQQAABBBBIFgECxmSpBOOIuwABY9xJaRABBBBAAAEEEEAAAQQQQAABBBD4jQABIy9FygoQMKZsaXkwBBBAAAEEEEAAAQQQQAABBBBIIgECxiQqBkOJrwABY3w9aQ0BBBBAAAEEEEAAAQQQQAABBBCoTYCAkfciZQUIGFO2tDwYAggggAACCCCAAAIIIIAAAggkkcC2gDGJxsRQEEAAAQQQQAABBBBAAAEEEEAAAQQQQGAPESBg3EMKxTARQAABBBBAAAEEEEAAAQQQQAABBBBIRgECxmSsCmNCAAEEEEAAAQQQQAABBBBAAAEEEEBgDxEgYNxDCtXQYdq2beRey7KodUMRuQ8BBBBAAAEEEEAAAQQQQAABBBBAYIcChE4p/nIQMKZ4gXk8BBBAAAEEEEAAAQQQQAABBBBAoIkFCBibuACN3T0BY2ML0z4CCCCAAAIIIIAAAggggAACCCCQ3gIEjClefwLGFC8wj4cAAggggAACCCCAAAIIIIAAAgg0sQABYxMXoLG7J2BsbGHaRwABBBBAAAEEEEAAAQQQQAABBNJbgIAxxetPwJjiBebxEEAAAQQQQAABBBBAAAEEEEAAgSYWIGBs4gI0dvcEjI0tTPsIIIAAAggggAACCCCAAAIIIIBAegsQMKZ4/QkYU7zAPB4CCCCAAAIIIIAAAggggAACCCDQxAJNGjDm5+cf53K5wrZtf5hIB8uy9lFKHd6sWbNZCxcuXJPIvhPdV10DRq/X29Xj8fxUUlJSmegxSn/5+fkFLpfrwoyMjPsWLFjwSwPH4MrNze2amZn5S0lJSXld2igqKmpZXl4+xBizIBAI+GveU9d3pU+fPl22bt0aLisr+6ku/XINAggggAACCCCAAAIIIIAAAgggkCoCOwwYi4qKmpWXl9cMmz40xowKBALfxAPAsqxipdQW27aP2J32fD7fAGPMsRkZGY9JOOWM3RgzKRAIjKjZdn5+/hCXy/VvY8xxgUDgg93pO9nv3UXAqL1e791a60uUUp3lWYwx74XD4YvLysqWN+az+Xy+c4wxXWzbflj6sSzrYqXUUy6Xq2jx4sVf1vx9V2Pxer1Xaq0fj7lutlLqbNu2V+7sXglWtdbyrDfZtv1gfd8Vr9d7hNb6ZcdPKbVca32W3++fm5eXl+l2u7cqpZ60bfsKp22fzzfOGDMyFAq1bdu27Rbn7ywjI2Ov2HDV5/MNNsa8o5T63Lbt/rsy4HcEEEAAAQQQQAABBBBAAAEEEECgKQTqFDAaYy5TSvXTWl+tlNqYmZmZPX/+/E27O+A4BozXG2Me8ng8+YsWLSqLCUefsm37j/UNjXb3uZLp/p0FjJZl3aqU+quEikqpZ7XWhdWB72il1Hyl1BG2bW9srGfx+XwS8B5s23YXp49evXq1Xbp06a/y79p+39FY8vLyDnC73V8qpSSMe1hrnW+M+R+t9Yt+v/+cxgoYBw0a5Fm1atXPSqlftdbXGWNcSqlxSqmM7OzsrsuXL3dLwFgz6LYs6xGl1LU1A8bqcPKPtm0/5YzXsqx/KqXOVErNsG376MaqBe0igAACCCCAAAIIIIAAAggggAACuyNQl4BxW0jn9Xpv11rfqbUeFAwGJT15S2v9gjFmqFJqjW3bJ1uWdYpS6gal1P5KqY+11rf5/X6ZqSih0SBjzF8lrFRKScgi126UGYyWZcksupvcbvfAkpKS1ZZlHaOUmuByuS5YvHjxp5ZlyT1y7yCl1LfGmHsCgcA/fT7fhRImKaVaR2eP3dWqVavJ0VlhkbFL4Lhx48ZxWmsJa75TSr0WDdbSdgZjYWFhRigUqpAwsaKi4pBly5bJTDuZSXijUuoBrfW5fr//BZ/PNykcDucEAoHB0d8lgLzY7Xb37dy5c3jVqlW3KKUuVEp1knqHQqHLZPaj1+s9S2v9F631o8aYa7TWwXA4fH8gEJhqWdYEpdTl0Rc34HK5ZDbjvlLT6DtxXc3fw+Gw1D6rejn9UXKf1+sdprW+zxjzR5fLVWCMmai1PsHv978bHecZxpjOgUAgMqtxR+9lzRmM9XlX8vLyCt1u9yJ5l2zbvk36KSgoODQcDg/0eDz/W1FRsameAeNS27ZzpZ2cnJx2stQ7akTAuDv/leNeBBBAAAEEEEAAAQQQQAABBBBoVIH6Bow3a63vlaXF1bMaV7pcrpLo6F4yxsxSSn2mtf6sOiT6Umv9L2PMlUqptm6321tZWRlyu91L5Hqt9d9lSXM0aJwjAaPP57vBGPNgKBTqLgGVz+cbaox5XSl1TEZGxteVlZWR/fG01o8YY06WPRSVUvvJbDGt9Z+NMUOUUve7XK5XW7ZsWRwbMDrBqFJK9nqUdmRcshw4bQPGaGArS91vtm37fuctcwI3Y8zfAoHADZZlvSX5nBN8eb3eh7TW14dCoebVswYlIH5JlgBXL7P+wRhzt1Jqmm3bZ3q93ku11pMk9K3eYvG56mD3IllG7Ha7WweDweMlHJSc0BhzfXUu90+ttQSY/5CaGmNya/ldAsmxklPbtm1bljVVKTU8Kyur1aZNm/Y3xsypruuP1SHkQ0qpj2zbllDbRMPIg3f0XgaDQXfsEun6vCvdunVr0apVq81Ru/vD4fD7VVVVHzthrbNEuo4zGP+jlDop5vkiS8aVUvJcVcxgbNT/DtI4AggggAACCCCAAAIIIIAAAgjshkBdAkYJ4v6glOqrtZaZia1laafWums0YHzCtu2rZAyWZf1FKXWbx+PpuWjRou+9Xu9JWuu3jDFnu1yuTcaYN4wxF8gsNq/X21FrLQdi7DJgVEplKqX+I+3IrMW8vLxO1QeSXKW1fltmN/p8vp0ukbYsS4K0rKysLF9xcXGVZVkSbo1O54DR5/P9wRjzsmMa8w65LMsKKaXesG37lJ0FjG3btnWvX78+KzMzc73L5WpfVVUlS6uVLHt2AsZwOPy70tLSNy3LkoDxH84sw5pLoJ3fJWC0bXt+zd+dZdDGmKsCgcBEy7Jkdp+M8bxoiCh7MEpdZSarfJaHw+HzSktLZ+3svYzOst22B2N93xWfzzdQAkQJS6P9bjTG3CIzJ+sZMMrM0BFa62f8fv+fLcv6WCm1QCnVszo4b0HAuBv/leNWBBBAAAEEEEAAAQQQQAABBBBoVIE6BYwxIwjI8ljbtudET/0t0Vpf7vf7J0YDxleVUqfath1pt3fv3j2CweB3xpg/V+9Rt172x3MCpOj1tlLqp13NYKyeDdknuqdeP7/fL6HLdp86BIwyky0ysy7a7xky8y6dA8aYGYyjbdt+wAGtzwxGj8eTbYyRWXaynH3bR+rvBIxut7tPSUnJomgQN0Mp9Xvbtl+rb8AYrduS6gNUFsv7JAefOG05Hcvy5k2bNh1cHcydJocRRZfft7Usa/qO3kul1N9jZzBaltWgd6WgoEDe0ROMMTfJTM1QKNS7eoblkughL9vtBer1eh+V/Uxj92DUWsvS9GbGGFkeLsvAZaatHH4k+2QSMDbqfwZpHAEEEEAAAQQQQAABBBBAAAEEdkegLgHjf4LBoOxzWOEcwCEdxgSMI/x+v8zgkn3xIstnndNwo6c7z5FZiy6Xq1xmzEWDntdjlpdGZjB6vd5RWuu/xZwiLH1OlvBKa50ly6Wd2XDRe4/3eDwlcqiLEzA6y0trHvJiWZYEmVtt25Z9IY1lWTJbTPbvS9sl0jX3YMzIyLhJa32pMeZ9rbXsqXi+bdvPWZYly9SHZmdnN5sxY0bQ6/VOlt9libTL5ZJ9Dy+QPQebN2++oLKy8pXqw2Lyqg8q6e4EjBK0lZWVlcQjYIxZviz7MY6V5dHFxcWbZX9FY8wBlZWV98fsJRk5IEVCPJfLJXuH1vpeKqU+qBEw1vldkZDWGDOseguA5xcvXlwaDUFlKfcEWcYfCAT+Y1nWmur9JFc771707+QTrXVv27bbFhUVeWQ5fzRglG0Fvo0ui862bTvPsqw3CRh35z9x3IsAAggggAACCCCAAAIIIIAAAo0tUJeAcUcnMRfIEmmt9baA0bKsE2Ups9Z6ejgcfkZrLQeAHCynOyulKmU2oyxdrT5tVw7/kD0TT3WWSEcP4XhNay2BynPRw2B6ScDocrn84XB4ZfUhLSXhcFj24TslGoLJScdzvF7v2dHDZh7TWj+WlZW1tMYejJEZY9Uzy54wxsiYHxPYdA4Yo2GYWN4VPUVa7CMuSimZqXqQnCLt8/n+JrMBtdZyOnLAGPOkXBDdg1H2QZRZob/XWneRg1akvnUJGJ2DXmTJc7NmzV4MBoPyLkT2YJQl0jV/X7Ro0c8ySzAcDjszWJ+1bXt4NLCL1F9OjQ6Hw1NdLld3OVVcKVVq23bRzt7LqqqqLTX2YNzpu2JZlszSrbBt+6zc3NzuHo/n++ieo7L/pLxT90rW7vF4OsiYndmK1YfYPB19t09QSsmBRtsOIHICRr/f/5BlWR9FDzIaa9v23dEl6sxgbOz/EtI+AggggAACCCCAAAIIIIAAAgg0WCCuAWM0tJIlnhIsdlZKLVVKjbRtW2bBySnSclqwLJPuLCGkbNtojPlFZjDm5OQ0z8zMlBlwctCFfJ6RQzwkYLRt+6P8/PzjZMacUkpCR/ncbtu2zGQzvXr1atusWTM5wOVAObQkKytrXGzAaFmW7Ms3TSkl4c7G6ll2z1afen1FugeMcmaOZVkSiEUOYHHeIgnq/H7/OdF67ltdAznAp1v0lO5v5EAdCRg9Ho8sC5ZDYORe2X9RTqWWmXe7nMHo9Xrl4BU54Vn+38ONMVZswFjzd7/fPzc6HplhKPsdylL8yHs1aNAgz8qVKyW0lvfO+cz3eDynyQzXnb2XNU+R3sW78qFlWbJ0WWbDygFDsu+oLLeXZeLO3o+yB+NZMntRfo++1zLDNxKGRj8vZWVlXSSzL53ZtjKDUQJGr9c7XGs9tTqgzy0tLV1KwNjg/7ZxIwIIIIAAAggggAACCCCAAAIIJEhghwHjbvav+/bt227BggVyEEfNj6uwsLBlSUlJeW19SFjocrm2lpWVSVj1m0/fvn3bL1iwYINMoqvlZ/cOvo9cWlRU1LK4uFjare3e3Xzk5Lzdtu3IScqWZe2s1jo/P3/fNm3arN60adNw2UdQa/372P0ufT5fB7/fL/to/sZOaha7fL6eEjutWfUMS+d3l8/n62GMmSftV1RU9HSWQzv9SVi3devWni6Xa90O3r2dvZfbDXtH74r00bp1ayPLxWNu0L179+5eUVERlhPQa3t+OfClWbNmPbZs2fJDzXHX04vLEUAAAQQQQAABBBBAAAEEEEAAgaQSaKyAMakeMp0HU8eAMemJfD7fYGPMOzJQZy/OpB80A0QAAQQQQAABBBBAAAEEEEAAAQTSQICAMcWLnCoBY05OTrsWLVr0qqioWLIbsyVTvNo8HgIIIIAAAggggAACCCCAAAIIIJB4AQLGxJsntMdUCRgTikZnCCCAAAIIIIAAAggggAACCCCAAAJ1FiBgrDPVnnkhAeOeWTdGjQACCCCAAAIIIIAAAggggAACCOwpAgSMe0qlGjhOAsYGwnEbAggggAACCCCAAAIIIIAAAggggECdBAgY68S0515EwLjn1o6RI4AAAggggAACCCCAAAIIIIAAAnuCwLaA0Qmi9oRBM0YEENhewLIs/j8LeCkQQAABBBBAAAEEEEAAAQQQQKBJBAgYm4SdThGIrwABY3w9aQ0BBBBAAAEEEEAAAQQQQAABBOouwKynulvtkVeyRHqPLFu9Bi01JmCsFxkXI4AAAggggAACCCCAAAIIIIBAAwXWrVtnOnTosF2mSMDYQMw95TYCxj2lUg0fJwFjw+24EwEEEEAAAQQQQAABBBBAAAEE6idAwFg/r5S4moAxJcq404cgYEz9GvOECCCAAAIIIIAAAggggAACCCSLAAFjslQigeMgYEwgdhN1RcDYRPB0iwACCCCAAAIIIIAAAggggEAaChAwpmHRCRhTv+gEjKlfY54QAQQQQAABBBBAAAEEEEAAgWQRIGBMlkokcBwEjAnEbqKuCBibCJ5uEUAAAQQQQAABBBBAAAEEEEhDAQLGNCw6AWPqF52AMfVrzBMigAACCCCAAAIIIIAAAgggkCwCBIzJUokEjoOAMYHYTdQVAWMTwdMtAggggAACCCCAAAIIIIAAAmkokHQBo2VZVjgcdpWWli5Ow3ok5JEJGOvG7PV6O4bD4cqysrINdbtDacuyst1u99qSkpLKnd1TVFTUcsuWLa6SkpLy2q7r27dv+wULFqxXSpk69r3dZQSMDVHjHgQQQAABBBBAAAEEEEAAAQQQaIhAvQJGn883xhhzd20dGWO6BQKBFbX9VlhYuHcwGDwnEAiM39UgvV7vPS6Xq7nf7x+1q2v5vWECBIw7d8vNze3u8XheVUrlK6VaK6VeysrKuqi4uHiz3Jmfnz/E5XL9Qyn1im3bV8h3Pp9vkDHm9WjLcs/Ntm3fX0tP2uv1Pqm1viz62zPZ2dkXz5gxIyj/tizrDKXUU9F+Nxpj/hwIBMbFtlNUVNSsvLx8jlLq4HA4nFtaWrq0Zj8EjA372+AuBBBAAAEEEEAAAQQQQAABBBCov0C9AsZu3bq1aN++fXPpprKy8h1jzJTMzMwX5N8LFiz4VSkVrm0IBQUFB4bD4WLbtvWuhkjAuCuh3f+dgHHnhpZlvaSUWmfb9lV5eXkd3G73l1rr2/x+/xTLsv6ilLpOKfW1MWZxIBAYoZRyW5b1i9Z6hN/vf8Hr9fbXWs/zeDz5ixYtKovtzev1Xqq1/qtS6oBgMBj0eDyzjTETJUTMzc3t7PF41iiljrFt+6P8/PxDXC7Xp0pUiEd7AAAgAElEQVSpXrZtf+u04/P5bjHGDFFKHR4KhfLKysqWEDDu/t8FLSCAAAIIIIAAAggggAACCCCAQMME6hUwxnZhWdbH0WDkGed7y7LGKqUuUkplKKWet217TGFhoS8UCn2olOqslFqulLrUtu23fT7fOTI7q/o6r9b6zaqqqouXLFnyIwFjwwpZn7sIGHeu5fV6R4bD4ded4M6yrH8qpQK2bd9mWdZdLpfriVAodLVSqqMEjLKcuaKi4pp99tnnnpiZiBu01qf7/f53a/zdfGCMeTkQCDwh31uWdb5SaqRt20V9+vTpEgwG93PuKSwszAiFQhUul6to8eLFX8r1vXv3zgsGg6WhUKi32+1eRMBYnzefaxFAAAEEEEAAAQQQQAABBBBAoDEE4hYw+ny+y4wxD4XD4T9orSu01lOUUlNCodADHo/nd8aYf8lKUrfbvcLlcrWqqqoqVUpdqbVebIyRpdNf2bb9JwLGxijz9m0SMNbdOC8vr5Pb7V4i73Vpaen7zp1er1e2CogEjDVbsyzrGKXUB1rrjn6/f12NgFFmKJ5j27aE7hIwHqSU+ty2bZez32JBQUG+BIda6wtlqXR2dvYpMcHl68aYhYFAYKxlWSECxrrXkisRQAABBBBAAAEEEEAAAQQQQKBxBOIWMFqW9bbsQRczM+t0pdRttm3vt5Ml0nIoRpYxZpTWeoht2/0JGBun0LGtEjDWzXjQoEGelStXvqW13mDbtrzP2z47Chgty9pHwnJjzF8CgcDjNXpySShojNk/EAh8I7/l5+f3crlcssS5jW3bG6Oh461KqcuVUt2UUsNt235Owsf8/PzjXC6X/O8827Y3ETDWrY5chQACCCCAAAIIIIAAAggggAACjSsQz4BxTTgcPs+Z5eX1evfTWn9t27a7oKBg/9g9GPPy8jJdLtdDWusLoodZRJ5S9mgkYGzcgkedIycTW5a1yz0xG380yduDZVkTlFID3G734TVPe64tYCwsLMwKhUIztdbFfr/fOcRluwe0LOsHrfUlzjLogoKCQ8Ph8Lu2bbepKWFZVj+l1Dcul+uwLl26fLF69WoJJR+UvSCVUpGwsrZ9Hp0aU9/kfbcYGQIIIIAAAggggAACCCCAAAKpJBDPgPEjrfXT0fDDOWl3nG3bVs0ZjNGTch8Lh8ODSktLF0eXV8uy0aMJGBv/9WIG466NfT7fDcaYPymlDrFte2XNO2oGjDLbcdWqVf+qPsDF06pVq2HFxcVVtfUiM32VUh/atv1ANOS93BhzQSAQOMzr9R6slMoNBAIvOvdGr//Y4/FMDQaD39XWptb6NL/f/0rsb5wivesacwUCCCCAAAIIIIAAAggggAACCMRHIG4Bo8/nG2OMuUQpdZxSqkIp9apS6hPZV7GgoKBnOBxeZow5JBAIFHu93nO11g+FQqE+SqlMt9v9plLqZwLG+BR1V60QMO5cyOfz/UEOYgmHw8cbY/xytcvl2hoIBNY6d9YMGC3Lkn1ErwuHw4XGmMhSZ7fb/asse7Ys69RQKLRQDo3xer1na60nhUKhAzIzM6uCweCc6HLq/83LyztATqyWU6Szs7Nnr1mz5iCZ3SiHxey9994f/vTTTzlO/8Fg0K2U8htjjmvevPmn8+fP30TAuKs3n98RQAABBBBAAAEEEEAAAQQQQKAxBHYrYFRKPWnb9rMysOgMrolKqYvl31rr6a1atTq/uLh4s/zbsiw55OU0mW21devWDzMzM1+vPgjjSKWUhDESRnYnYGyMEv+2TQLGnTtbliV7IvaKvUpOOvf7/b+rLWCM7ru4omar1UHj9fvss8//rFq1qioarn8W/VuQpdeyx6J8nrFtWw5zCUd/u0IpdX9064CNWut7/X7/vbWM2F19anuQQ14S8zdDLwgggAACCCCAAAIIIIAAAgggsGOBBgeMO2qyqKio2a+//uoqKyuTWYzbfQoLCzNKSkpk6WhkD8C8vLw23bp12+yckEuhEiNAwJgYZ+kleojL19nZ2XvFvue9evVqGw6H9bJly9bXMhqdm5vbacmSJTJjMhI81vfDEun6inE9AggggAACCCCAAAIIIIAAAgg0VCDuAWNDB8J9iRMgYEyctc/nGyxbB9i2fVbieo0cmGQ45CWR4vSFAAIIIIAAAggggAACCCCAQPoKEDCmYe0JGBNX9H79+rUyxmQsWLDgl8T1SsCYSGv6QgABBBBAAAEEEEAAAQQQQCDdBQgY0/ANIGBM/aIzgzH1a8wTIoAAAggggAACCCCAAAIIIJAsAgSMyVKJBI6DgDGB2E3UFQFjE8HTLQIIIIAAAggggAACCCCAAAJpKEDAmIZFJ2BM/aITMKZ+jXlCBBBAAAEEEEAAAQQQQAABBJJFgIAxWSqRwHEQMCYQu4m6ImBsIni6RQABBBBAAAEEEEAAAQQQQCANBXYaMJaXlz+fhiYp/8grVqw4Rx6ya9euL6T8w6bpA0qNOUU6TYvPYyOAAAIIIIAAAggggAACCCCQYAECxgSDJ0N3BIzJUIXGHQMBY+P60joCCCCAAAIIIIAAAggggAACCPxXgIAxDd8GAsbULzoBY+rXmCdEAAEEEEAAAQQQQAABBBBAIFkECBiTpRIJHAcBYwKxm6grAsYmgqdbBBBAAAEEEEAAAQQQQAABBNJQgIAxDYtOwJj6RSdgTP0a84QIIIAAAggggAACCCCAAAIIJIsAAWOyVCKB4yBgTCB2E3VFwNhE8HSLAAIIIIAAAggggAACCCCAQBoKEDCmYdEJGFO/6ASMqV9jnhABBBBAAAEEEEAAAQQQQACBZBEgYEyWSiRwHASMCcRuoq4IGJsInm4RQAABBBBAAAEEEEAAAQQQSEOBuAaMwWBQr1u3LqNLly4VtVmWl5e7w+GwbtOmTTANrZPmkQkYm74U33//fYu99tqrMisrK1TbaNauXZvRsWPHyh39Jt/v6Hf5jYCx6WvMCBBAAAEEEEAAAQQQQAABBBBIF4F6B4wSfNx+++1F8+bNy5k2bdprvXr12ixYTz75ZN7UqVP3r6ioaJaTk7N2/PjxH/fo0WOLAzly5MiDZ82alSf/PvTQQ5c98sgjn3o8HlNUVHROTey+ffuumDJlyqx0KUKin5OAMdHi/+3vo48+6vTnP//5iPLy8uby7ZAhQ0ruuOOO+W6328i/n3vuuZ6PP/74wfJ3lJmZWXXqqaeWjB49ukR+k1By5MiRRyxbtqyj/Lt3794rx40b90ltQSMBY9PVmJ4RQAABBBBAAAEEEEAAAQQQSDeBegWMtm1nXXHFFcf26tVr3VdffdXdCRiLi4vbXXbZZSfdf//9HwwYMGDdjTfe2H/jxo0ZU6dOnSmgEydOzH3++ef7PfPMM29LqHjxxRcfN3jw4LJRo0b5JbCMRb/uuusGeL3edbfffvuCdCtGop6XgDFR0tv3s3nzZveRRx555vDhw7+85pprAmVlZa3k7+mSSy75+rzzzvtuzZo1mSeffPIfxo4dO2vYsGErvvjii3YjRow46eGHH373yCOPXDd8+PBBLVq0qHr44Yc/ldnCV1111RGdOnXaNG7cuM9rPhEBY9PUmF4RQAABBBBAAAEEEEAAAQQQSEeBegWMM2fO7Lh06dLWw4YNW37sscee7gSM9913X++lS5e2mzRp0hxBlCDy3HPPHfrOO++8LLOrzjnnnGOOOOKIH6666qpS+f3pp5/OmT59uu/VV199OxbdCSrfeOON6fvss8/WdCxIIp6ZgDERyr/tQ/5+Ro0adfy8efNelKBdrrj22msPWbt2bcvnn3/+I+fvZsaMGdNat24d2UbgmGOOOXXkyJGfDR48eM2AAQPOeuyxx9457LDDfpbfXn755a733HPPUZ999tmLzgxIp1cCxqapMb0igAACCCCAAAIIIIAAAgggkI4C9QoYHaANGzZ4jj766DOcgPGaa645pEuXLpvGjh270LlGlj5PmDDh7f79+/8ycODAYWPGjJl7wgknrJHfP/nkk72uvvrqE4qLi1+IRb/88ssHtG/ffuu99977ZToWI1HPTMCYKOnt+5k/f36biy66aIgTvMuv8neSlZW1debMmdPl31deeeVh69evb37MMcd899VXX3VZvXp11jPPPPNhy5YtQwMGDDh99OjRc0899dSVcu0jjzxiTZ069cBXXnnl1Z49e27bjkB+I2BsmhrTKwIIIIAAAggggAACCCCAAALpKBCXgPH8888fdNhhh61wZigKpISKN9xww6cnn3zy6v79+589ceLE/xx00EHr5TdnptYHH3zwr3bt2lXJdwsXLmxzwQUXDInd1zEdC5KIZyZgTITyb/sIhUL697///YlZWVkV559/fklJSUn7F198cX/Za3Hu3Ln/kjvGjRvne+655w7o0KFD+bp167KOPfbYwD333POlzHi85ZZbDpw7d27PK6+88otgMOh66qmn9v/1119bTp48+c1+/fptiO2RgLFpakyvCCCAAAIIIIAAAggggAACCKSjQFwCxpEjR/Zv167dVjmsQhAlSJFQcdKkSf8pKipaL8s8r7/++nlDhgxZLb/PmjWr48033zzICVXku+uuu66//L8PP/zwZ+lYiEQ+MwFjIrW370sOannggQf2Kykp6dKzZ8+f99tvvx/nzJkj+5m+/8Ybb2Tfe++9hz/55JPvSmC4cuXK5rJf6Yknnlh63XXX2bLv4l133dVv3rx53Vu1alVx+umn2w899NDhM2fOfKnmadQEjE1XY3pGAAEEEEAAAQQQQAABBBBAIN0E4hIwPvjggwXffPNNl2effXaGAH755ZdtL7300pOdveRkhuN+++235sYbb1wsv0+YMCHv/fff3/fll19+T/7tzGh8+umn3+zTp892M7HSrSCJeF4CxkQo/7YPOeSlpKSk9QEHHPCrs2fi7bffvt+GDRsyJViXvUwXLlzYyfk7khbGjBlzwM8//9ziySefnCt7lObm5m5yZv2+9tpr+zzyyCMHf/jhh6/V7I2AsWlqTK8IIIAAAggggAACCCCAAAIIpKNAXAJGJyCU028HDRr046hRow7NzMwMSSgiqM8991zPxx9//ODJkye/3axZs/Af//jH488666yFI0aMWCK/33TTTUWy75xzSEw6FiKRz0zAmEjt//ZVXl7uHjx48LBzzjln/pVXXln6/vvvdx4zZswxzinR77zzThf595///OcZJ5100mo5RXr06NGDzjzzzIWy/cCFF154VGZmZnD8+PHzli1b1vLGG2888thjj10qp7ETMDZNTekVAQQQQAABBBBAAAEEEEAAAQSUikvAKJCTJk3KnTJlygEVFRXNevTo8fNjjz02s2vXrttOgh41atTBM2fOzJNrDz300GX/8z//86nM4pIlo8OGDfu9cyAMRWl8AQLGxjfeUQ9vvvnm3nffffcR8nciey+eeeaZC2T5s3P9ww8/bL300kt95Xf5bvDgwfadd975dUZGRliC/FGjRh21evXqtvLbIYccEvk7ck6kju2TGYxNV2N6RgABBBBAAAEEEEAAAQQQQCDdBBoUMO4IqbKy0rV69erMHj16bHeirXP9L7/80kz2Z+zYsWNlukEn0/MSMDZtNWQvxSVLlrSS5c61hYMyOtl/sUuXLhXOUurYES9durSl/A21adMmuKMnIWBs2hrTOwIIIIAAAggggAACCCCAAALpJBDXgDGd4PbkZyVg3JOrV7exEzDWzYmrEEAAAQQQQAABBBBAAAEEEEBg9wUIGHffcI9rgYBxjytZvQdMwFhvMm5AAAEEEEAAAQQQQAABBBBAAIEGChAwNhBuT76NgHFPrl7dxk7AWDcnrkIAAQQQQAABBBBAAAEEEEAAgd0XIGDcfcM9rgUCxj2uZPUeMAFjvcm4AQEEEEAAAQQQQAABBBBAAAEEGihAwNhAuD35NgLGPbl6dRs7AWPdnLgKAQQQQAABBBBAAAEEEEAAAQR2X4CAcfcN97gWCBj3uJLVe8AEjPUm4wYEEEAAAQQQQAABBBBAAAEEEGigwE4Dxga2yW1JLmDbtpEhWpalk3yoDK+BAlJj6ttAPG5DAAEEEEAAAQQQQAABBBBAAIF6CRAw1osrNS4mYEyNOu7sKQgYU7/GPCECCCCAAAIIIIAAAggggAACySJAwJgslUjgOAgYE4jdRF0RMDYRPN0igAACCCCAAAIIIIAAAgggkIYCBIxpWHQCxtQvOgFj6teYJ0QAAQQQQAABBBBAAAEEEEAgWQQIGJOlEgkcBwFjArGbqCsCxiaCp1sEEEAAAQQQQAABBBBAAAEE0lCAgDENi07AmPpFJ2BM/RrzhAgggAACCCCAAAIIIIAAAggkiwABY7JUIoHjIGBMIHYTdUXA2ETwdIsAAggggAACCCCAAAIIIIBAGgoQMKZh0QkYU7/oBIypX2OeEAEEEEAAAQQQQAABBBBAAIFkEYhrwDho0CDPypUr2wUCgbW1PaDX6+0YDocry8rKNtT8vaioqOWWLVtcJSUl5cmCk6rjIGBs3Mr27du3/YIFC9Yrpcxu9OTKyclps2zZMmmn3h8CxnqTcQMCCCCAAAIIIIAAAggggAACCDRQoN4BY05OTrvMzMxHlVLnezyenosWLfpe+vb5fJcZYx5SSrU2xnyqtT7Ntu2V8ltubm53j8fzqlIqX35XSr2UlZV1UXFx8WallPZ6vU9qrS+LPsMz2dnZF8+YMSPYwGfitl0IEDA2zitiWdYZSqmnou/4RmPMnwOBwLiavVmW9bhS6soa3x9h2/YcCelXrVr1V6XU6OjvPxpjLgwEAv8pKCg4NBwOf1KzPWPMqEAgMD72ewLGxqkxrSKAAAIIIIAAAggggAACCCCAwG8F6hUw5uXl5brd7hlKqXlKqdOcgNHn8/U1xswPh8MDt2zZ8nmrVq0maq338vv9v5MuLct6SSm1zrbtq/Ly8jq43e4vtda3+f3+KV6v91KttQQqBwSDwaDH45ltjJlYWzBDAeMjQMAYH8fYVnJzczt7PJ41SqljbNv+KD8//xCXy/WpUqqXbdvfxl7r8/leMca8kpGR8abzfYcOHTZKqJ6fnz/E5XK94PF4Dly0aNESn893gTFmckVFRYucnJzgunXrJKCPfCorK1sopfzhcPgPpaWl7xMwxr+utIgAAggggAACCCCAAAIIIIAAArsWqFfA6PP5BoTD4Tyt9XSl1IaYgHGMMWZ/27bPjAaK+yqlllZUVLSXJZ5er3dkOBx+vaysbEn0938qpQK2bd9mWdYHxpiXA4HAE9HfzldKjbRtu2jXw+eKhggQMDZEbef39OnTp0swGNzP7/e/K1cWFhZmhEKhCpfLVbR48eIvY+/2er2fuFyu6/1+vwT1oRq/DZfZjYFA4DD5vnfv3j2CweB3GRkZey1YsOCX2Gsty7pCKXWRbdv9a46OGYzxrzEtIoAAAggggAACCCCAAAIIIIBA7QL1ChidJgoLC7NCodBGJ2D0er2TlVLLAoHAndFrtGVZ4VAodGBZWdlXsV3n5eV1crvdS5xZV9Uhicz6Ose27Q+jAeNBSqnPbdt27eYedtR8BwIEjI33ahQUFOSHQiEJ4S+UpdLZ2dmn1Fzub1nWD9UzHWdVh+znVoeJsgT6fmfGruzfWFVV9bExRmYKFxtjLlVKzQ8EAiNiRx0NMH8wxowIBAKy/cB2HwLGxqsxLSOAAAIIIIAAAggggAACCCCAwPYCcQkYLct62xjzRiAQkL3lIp9ocHiBbdtvO99FD4F5S2u9wbbt05VSLsuyQjL7MRAIfCPX5efn93K5XDLTsY1t2xspWPwFCBjjbxrz3t+qlLpcKdVNKTXctu3nagbllmXJ4S8TPB7PuFAotJ8x5l9KqVNt235dDjsqLy//32j4uFSWWCulLrFt+x+xo/b5fBcaY26xbbtAKRWu+UQEjI1XY1pGAAEEEEAAAQQQQAABBBBAAIFGCBh9Pt8kY8waWfIcbd5tWVZQa93P7/cviAlfJiilBrjd7sOd06JlNpfW+hJnaWn0IIt3bdtuQ7EaR4CAsXFcY1u1LKufUuobl8t12OLFi2Uvxm0fr9frCwQCpc7yaJ/PN84Y09y27Su9Xu89Sqmjqw9zOUFOW7csKzKjVyl1sG3bX0gj0YNg7Org8g7btp+t7WkIGBu/xvSAAAIIIIAAAggggAACCCCAAAL/JxCvGYw3RQ+3OFEaLSgo6BMOhxdkZmZmzZ8/f5N85/P5bjDG/EkpdYhzurR8L7MflVIf2rb9QPTflxtjLnD2oKNQ8RcgYIy/qdfrPVgOTA8EAi86rUff7Y9t25ZDjCKfXr16tW3WrNnlbrd7fElJSWX0nf+LUmof27b/KHuSVofwErDfH9PON8aYRwOBwN/lO6/Xe7bW+sGsrKxexcXFVbU9DQFj/GtMiwgggAACCCCAAAIIIIAAAgggULtAXALG6OnSZVrrocFgcJbb7Z6qlNpk2/Z50q3P5/uDHOQSDoePN8b45TuXy7U1EAisjYYlk0Kh0AGZmZlVwWBwjjHmL4FAQJaJ8mkEAQLG+KPm5eUdIKejS9CenZ09e82aNQeFw+F3tdany+xcy7JODYVCC8vKyr61LGuV1vphv9//gGVZedH9GK+X2Yher/cOrfW5xphTW7duvaS8vPz31WfGyCns+9m2PV8pJbODS7TW4/x+/8QdPQkBY/xrTIsIIIAAAggggAACCCCAAAIIINCIAaM07fV6/yihhxxsIUs6q8OWU0pKSlbLb5ZlyZ6Kspfcto/W+k2/3/+76O+ydFr2rZPPM7ZtywEZv9lXjiLGR4CAMT6ONVuJnuosMw/lb2Cj1vpev99/b3RJc5Ux5pBAIPBZdBuA15RSnaNtPGzb9ijZq1H2YNy4cePj0UNi5Gdp51q/3z8l+rdyavVsx0mbNm3KWb58+ZYdPQkBY+PUmFYRQAABBBBAAAEEEEAAAQQQQOC3Ag2awbgjyKKiombl5eWdYpdA1xVdlo6Gw2G9bNmy9XW9h+saJkDA2DC3Ot6lc3NzOy1ZsmStE5JHDy76Ojs7e6+YE6W1z+fr2apVqx+Li4s312xbQsnly5e3Lysr+6mO/W53GQFjQ9S4BwEEEEAAAQQQQAABBBBAAAEEGiIQ14CxIQPgnsQLEDAm1tzn8w02xshJ0GclqmcCxkRJ0w8CCCCAAAIIIIAAAggggAACCBAwpuE7QMCY2KL369evlTEmY8GCBb8kqmcCxkRJ0w8CCCCAAAIIIIAAAggggAACCBAwpuE7QMCY+kUnYEz9GvOECCCAAAIIIIAAAggggAACCCSLAAFjslQigeMgYEwgdhN1RcDYRPB0iwACCCCAAAIIIIAAAggggEAaChAwpmHRCRhTv+gEjKlfY54QAQQQQAABBBBAAAEEEEAAgWQRIGBMlkokcBwEjAnEbqKuCBibCJ5uEUAAAQQQQAABBBBAAAEEEEhDgZ0GjOXl5c+noUnKP/KKFSvOkYfs2rXrCyn/sGn6gFJjy7J0mj4+j40AAggggAACCCCAAAIIIIAAAgkUIGBMIHaydEXAmCyVaLxxEDA2ni0tI4AAAggggAACCCCAAAIIIIDA9gIEjGn4RhAwpn7RCRhTv8Y8IQIIIIAAAggggAACCCCAAALJIkDAmCyVSOA4CBgTiN1EXREwNhE83SKAAAIIIIAAAggggAACCCCQhgIEjGlYdALG1C86AWPq15gnRAABBBBAAAEEEEAAAQQQQCBZBAgYk6USCRwHAWMCsZuoKwLGJoKnWwQQQAABBBBAAAEEEEAAAQTSUICAMQ2LTsCY+kUnYEz9GvOECCCAAAIIIIAAAggggAACCCSLAAFjslQigeMgYEwgdhN1RcDYRPB0iwACCCCAAAIIIIAAAggggEAaCsQ1YAwGg3rdunUZXbp0qajNcvPmze5wOKyysrJCtf2+du3ajI4dO1amYR0S+sgEjI3HHQqF9C+//NJsd9/j77//voX8HWVmZoZrjlb+zlauXNm8R48eW3b0JASMjVdjWkYAAQQQQAABBBBAAAEEEEAAge0F6h0wSgh4++23F82bNy9n2rRpr/Xq1WuzNPnkk0/mTZ06df+KiopmOTk5a8ePH/+xE4DIPTfccMOhCxYs6CrXyu/33Xff3Pz8/E3y7xdeeKHHo48+2l/uzczMrDr99NMXjho1yk+xGkeAgDH+rhIs3nnnnf3efPPNQmk9Kytr65gxY+aecMIJa2r2Nnjw4KHr1q3Liv3+s88+e9Htdpv33nuv8x133HGU/CZ/D2edddY3N910U4lz7W233bb/Bx98kCe/SR933XXX7KOOOmptzT4IGONfY1pEAAEEEEAAAQQQQAABBBBAAIHaBeoVMNq2nXXFFVcc26tXr3VfffVVdydgLC4ubnfZZZeddP/9938wYMCAdTfeeGP/jRs3ZkydOnWmdDtmzJgDVq5c2frRRx+dm5GREb7iiisOb9OmTcXDDz/8mczEGjp06LB77rnnQwljZs+e3eG6664b/Pzzz79hWVY5hYu/AAFj/E2nT5/e9dFHHz1o4sSJ70twPm7cON+///1v68MPP3ytZm9FRUXnPPPMM//u3Lnztpm+MuNRQsojjzzytCuuuOLz4cOHfzdnzpwO11577WC5trCwcOOUKVNyJk+efMCECRPel38/8MADhW+//Xb+u++++7rH4zGx/RAwxr/GtIgAAggggAACCCCAAAIIIIAAAnEIGGfOnNlx6dKlrYcNG7b82GOPPd0JGO+7777eS5cubTdp0qQ50o0Ekeeee+7Qd95552UJTmRWVm5ubrkz21GCkcWLF3eYPHny7BUrVjT/+uuv2w0ZMmS13FtRUeEaMGDAWY8//vjbhx566C8ULv4CBIzxN/3666/bVlZWuvr37x95Z+VvZdSoUcc7MxOdHjdu3OgZNGjQGfK9MUbFBlOhZusAACAASURBVIMy03fixIne0aNHL3K+HzBgwOm33nrrx/L3cfbZZx97/PHHf3vJJZcslb8TuWbDhg2e9u3bV9V8IgLG+NeYFhFAAAEEEEAAAQQQQAABBBBAIA4Bo9OEhBpHH330GU7AeM011xzSpUuXTWPHjl3oXCOztCZMmPC2E7hIIDJ79uxIQDllypQD7rjjjtmxy0dLSkpaL1myJOuNN97otWXLlmaTJ0+eWXNWFkWMjwABY3wca2tl7ty5e/3www+tnn322T6HH3749zfffPOi2OtKS0tbXXDBBSf5fL4133zzTbd99tln/eWXX/6VE7DHXvvOO+90GTNmzDFvvfXWK7If48CBA4cNHTrU/9Zbb3l//fXXll6vd8199933Sc+ePX+zFyMBY+PVmJYRQAABBBBAAAEEEEAAAQQQQGB7gXotkd5RwHj++ecPOuyww1ZcddVVpc41EobccMMNnw4dOnSVfCdLoUeMGHH0ypUr2/Xr12/5mDFjvnT2YJTf77333t7vvfdengQn11577ScXXHDBMorVOAIEjI3jKq1eeOGFRwUCgc5t2rTZesstt3w6cODA7fZH/OSTT/a6+uqrT7j00ks/P+qoo9ZMnz695yuvvNL3lVdeeTU2KJRDXoYPH37imWeeuVD+rsrLy90DBw48U/r4y1/+8lH37t03P/TQQwds3Lix+fTp09+p+UQEjI1XY1pGAAEEEEAAAQQQQAABBBBAAIFGCBhHjhzZv127dlvvuOOO+dK87CXXv3//sydNmvSfoqKi9bFdSlBy++23H/jjjz/KLK8ZNQvyxRdftBsxYsRJ48ePf6+2wyso4O4LEDDuvuHOWpD3f8qUKfs+9dRTB7777rvTY09Nl/d/xYoVLWL3Fx06dOhJ55xzzqJzzz33e2lXZgj/v//3/47bd999fx4/fvxnTl8yK7hv374rpkyZMku+k9mQZ5999imvv/769K5du26NHRMBY+PWmNYRQAABBBBAAAEEEEAAAQQQQOC/AnGZwfjggw8WfPPNN12cwPDLL79se+mll548Y8aMaa1btw7KgRennXbad84MrVmzZnUcOXLk8XPnzv2nHBDz7bfftj7vvPO+c4YlMyJ79+790y233LLd8lIKFx8BAsb4OMa28uKLL3bPzs7e4sxYDAaD+pBDDjlbDj467rjjfnSulff966+/3kv2UXS+O+20044/5ZRTSmXWrtx36aWXHhEKhVx///vfZ8uhSM51Q4YMOfnoo4/+9oYbblgs38ksx2HDhv1++vTprzontjvXEjDGv8a0iAACCCCAAAIIIIAAAggggAACtQvEJWB0DnUZO3bsrEGDBv04atSoQzMzM0NPPvnkXOn2oosuOjIjIyN09913fyGByR133HHgsmXL2svSzs8++6z9FVdccaKcIn3sscf+OHfu3A4333zzIOdgCwoXfwECxvibPvLII9a7776b++CDD87Oy8vbJDMYJ06c2F8OOlq3bl3G/Pnz251xxhnLZa/R4cOH/845Nf3ll1/uWv2/j3JOTb/llltk1qM1efLkN9u0aROUkbZr165K/m/ChAl506ZN6z1hwoQPunfvvuXWW28tWrx4cee333773zWfiIAx/jWmRQQQQAABBBBAAAEEEEAAAQQQaMSAUZqeNGlSrhzeUlFR0axHjx4/P/bYYzOdZZsy0+qmm24aUFpa2lmuld/vu+++Oc4y0SeeeCL/2Wef3U/uzczMrDr11FNLRo8eXULRGkeAgDH+rnKI0S233FI0c+bMPGk9Kytr60033fSJHN4ip6YvXLiw09SpU2fKbxIU/v3vfz9Y/re87yNGjPhCZi86MxJrju688877atSoUX7pY/To0QfNnj07V67p0KFD+bhx42b26dNnAwFj/GtKiwgggAACCCCAAAIIIIAAAgggUDeBBs1g3FHTlZWVrtWrV2fWXK7pXC/7zwWDQZfMxqqtDTkIRk7Ldbvdpm7D56qGCBAwNkStbvfIEmeZsSjvsXPHtddee0h+fv4v11xzTcD5TsLCZcuWtczNzd1U39PS165dm7Fp0yZ3badHO+0zg7Fu9eIqBBBAAAEEEEAAAQQQQAABBBDYfYG4Boy7PxxaSIQAAWMilP/bh+yxeOutt3524IEH/pqongkYEyVNPwgggAACCCCAAAIIIIAAAgggQMCYhu8AAWNiiy4zFXNycjYnslcCxkRq0xcCCCCAAAIIIIAAAggggAAC6S1AwJiG9SdgTP2iEzCmfo15QgQQQAABBBBAAAEEEEAAAQSSRYCAMVkqkcBxEDAmELuJuiJgbCJ4ukUAAQQQQAABBBBAAAEEEEAgDQUIGNOw6ASMqV90AsbUrzFPiAACCCCAAAIIIIAAAggggECyCBAwJkslEjgOAsYEYjdRVwSMTQRPtwgggAACCCCAAAIIIIAAAgikocBOA8Y09EiLR7Zt28iDWpal0+KB0/AhpcbUNw0LzyMjgAACCCCAAAIIIIAAAggg0AQCBIxNgN7UXRIwNnUFGr9/AsbGN6YHBBBAAAEEEEAAAQQQQAABBBD4PwECxjR8EwgYU7/oBIypX2OeEAEEEEAAAQQQQAABBBBAAIFkESBgTJZKJHAcBIwJxG6irggYmwiebhFAAAEEEEAAAQQQQAABBBBIQwECxjQsOgFj6hedgDH1a8wTIoAAAggggAACCCCAAAIIIJAsAgSMyVKJBI6DgDGB2E3UFQFjE8HTLQIIIIAAAggggAACCCCAAAJpKEDAmIZFJ2BM/aITMKZ+jXlCBBBAAAEEEEAAAQQQQAABBJJFgIAxWSqRwHEQMCYQu4m6ImBsIni6RQABBBBAAAEEEEAAAQQQQCANBeIaMA4aNMizcuXKdoFAYG1DLPPy8jq1bdt2U3Fx8eaG3M89dRMgYKybU0OuysnJad6hQwdXXd5hy7L2yc7O/nHGjBnBmn35fL4Oe++996+1/VaXcREw1kWJaxBAAAEEEEAAAQQQQAABBBBAIB4C9Q4Yc3Jy2mVmZj6qlDrf4/H0XLRo0fcyEJ/Pd5kx5iGlVGtjzKda69Ns214ZO8iioqJm5eXlc5RSB4fD4dzS0tKl8rtlWf2UUpOVUgfKv40xk1q3bn11cXFxVTwekja2FyBgjP8b0bdv3/aVlZVPK6WGRt/hT91u99mLFy/+rmZvXq/3bK31g0qpbtFrLwsEAv8b/TvqYIyZrpQ6Uim10RhzRyAQGC+/eb3erlrr5bHtGWPeCwQCg2v2QcAY/xrTIgIIIIAAAggggAACCCCAAAII1C5Qr4AxLy8v1+12z1BKzVNKneYEjD6fr68xZn44HB64ZcuWz1u1ajVRa72X3+//XWy3Pp/vFmPMEKXU4aFQKK+srGxJUVFRy/Ly8q+MMc9VVlY+kJmZuZe0b4y5NRAITKVw8RcgYIy/qdfrfUhr7c3MzDwnGAxWhcPhF40xP9u2/cfY3vLz8wtcLleJMebkQCDwjtfrPVxrPcvj8eQvWrSozLKs57TWLVq1anV+eXl5oVLq83A4fGhpaem8vLy8A9xu94sZGRmHOm2GQqGqkpKScgLG+NeUFhFAAAEEEEAAAQQQQAABBBBAoG4C9QoYfT7fgHA4nKe1lhlWG2ICxjHGmP1t2z5TurUsa1+l1NKKior2y5YtWy/f9e7dOy8YDJaGQqHebrd7kRMw+ny+gcaYZ7Ozs/fduHGjLi4uDnbr1q25x+Mxy5Yt21q3x+Cq+ggQMNZHq27XyntcVVW1dMmSJT/IHV6v92at9aG2bf8+tgXLsm4zxuQGAoELCwsLM0pKSioty2qdnZ29Rd7/8vLySqXUfrZtz4/+Lf1dKbXWtu2bfT7fYGPMKNu2T5TtCHa2fJoZjHWrG1chgAACCCCAAAIIIIAAAggggMDuC9QrYHS6KywszAqFQhudgNHr9cry5mWBQODO6DXasqxwKBQ6sKys7KtoUPK6MWZhIBAYWx2yhJyA0bKsi7XWfzDG/CLLrpVSPyql7rFt+5HdfzxaqE2AgLFx3ou8vLxMrfUhMpNRaz1OKXWqbdsf1QgYp2qt14bD4cMkgNRay2zGq+U6J4SvqKho4YTrXq93pNZ6oASVlmXJ38e1SqlMpZRsK/Chy+W6uLZl2ASMjVNjWkUAAQQQQAABBBBAAAEEEEAAgd8KxCVgtCzrbWPMG4FA4HGnC8uy1iilLrBt++38/PzjXC7Xc0qpPNu2N8UGjD6f705jzO1KqSddLte4UChUpLV+IbqE9D8ULf4CBIzxN5UWc3NzO3s8nvei4d9rWuvr/H7/shoB48eyRUB1kH6lXBsMBi9QSo1t1qzZ3sFgMNcYM8e2be3c4/V6h2utr7Ftu380bJSZkcODweByt9v9F6VUvm3b+9V8IgLGxqkxrSKAAAIIIIAAAggggAACCCCAQCMFjD6fb5IxZo1t27dFu3BblhXUWvfbe++9F69evfobpdSDfr9/ilLKJQGjs+ecz+e72hjzaHZ2djNnyWe0vS22bf+JosVfgIAx/qaxLUb3Ff2bUmpfWc4c+5vP53vFGDMsNkS0LOsHrfWftNbF4XB4WWZmZtb8+fM3yX2WZd0ohyLJ9gNysrTH4/EsXLhQwntZht1Ra/2TMaZbIBBYEdsPAWPj1pjWEUAAAQQQQAABBBBAAAEEEEDgvwLxmsF4k1LqGCdMKSgo6BMOhxdIUBIKhToEg8HfnKQrQ5CTppVSlTL70bZtt1IqHA1OHtVau2zbvopixV+AgDH+pj6f73o52MUJ+goKCg4Nh8OfuN3uTNln0enRsqwHZL/S2JOfLcuyZRZjdnb29FWrVlW5XK7DFi9e/Gk0YPynUiog4X1+fv4Ql8u12Vl27WxVoJTqZdv2twSM8a8rLSKAAAIIIIAAAggggAACCCCAwK4F4hIwRk+XLquegTU0GAzOcrvdcvrzJtu2z5PDKH766accZyjBYFCCRL8x5rjmzZt/+vPPP4dbtWq1TGv98N577/3gypUrD9Baf6C1vsjv97+860fgivoKEDDWV2zX11uW9arWesvWrVuvaNmyZTAcDo+LHnzUX8JGaUFCQ8uyZO/Eb7TWJ/j9/g8sy5Il0k85sxAty5ogh8BkZmaeVVlZuX90n8W+ixcvXujz+S40xtymtT7W5XKtDAaDd2it/59t291rjpAZjLuuGVcggAACCCCAAAIIIIAAAggggEB8BOISMMpQvF7vH6MHW7RWSn3udrtPKSkpWV3LMCPLp51DXqL3HqG1ljCxs/zbGHNvIBAYE59HpJXawif5zrKsbXv9obR7ApZl7VO9H6LsMzoo2tLn4XD47NLS0qWyR6nW+j2/3y/LpsX9cqXUhOh1G40xFwQCATmZXfXt27d9ZWXlG9F9GjdqrW/1+/2Pym9y6nQoFHpCKXVJ9N7lWuuT/X7/gtpqTH13r6bcjQACCCCAAAIIIIAAAggggAACdRNoUMC4o6aLioqalZeXd7Jte2Xduv/vVTLTccWKFT2qqqpWOifo1rcNrq+bADMY6+bUkKui+y+6bdve6NwvBx6FQqETnRPV5ftu3bq1aNGiRXZpaakcAhPZGiD2U1BQkF1VVfVzWVlZRc3fLMtqHQwG2y1ZsuSHHY2RGYwNqR73IIAAAggggAACCCCAAAIIIIBAQwTiGjA2ZADck3gBAsbEmffr169VRUXFKtu229UWJDbWSAgYG0uWdhFAAAEEEEAAAQQQQAABBBBAoKYAAWMavhMEjAktumwJ0KUhs3p3Z5QEjLujx70IIIAAAggggAACCCCAAAIIIFAfAQLG+milyLUEjClSyJ08BgFj6teYJ0QAAQQQQAABBBBAAAEEEEAgWQQIGJOlEgkcBwFjArGbqCsCxiaCp1sEEEAAAQQQQAABBBBAAAEE0lCAgDENi07AmPpFJ2BM/RrzhAgggAACCCCAAAIIIIAAAggkiwABY7JUIoHjIGBMIHYTdUXA2ETwdIsAAggggAACCCCAAAIIIIBAGgrsNGAsLy9/Pg1NUv6RV6xYcY48ZNeuXV9I+YdN0weUGluWpdP08XlsBBBAAAEEEEAAAQQQQAABBBBIoAABYwKxk6UrAsZkqUTjjYOAsfFsaRkBBBBAAAEEEEAAAQQQQAABBLYXIGBMwzeCgDH1i07AmPo15gkRQAABBBBAAAEEEEAAAQQQSBYBAsZkqUQCx0HAmEDsJuqKgLGJ4OkWAQQQQAABBBBAAAEEEEAAgTQUIGBMw6ITMKZ+0QkYU7/GPCECCCCAAAIIIIAAAggggAACySJAwJgslUjgOAgYE4jdRF0RMDYRPN0igAACCCCAAAIIIIAAAgggkIYCBIxpWHQCxtQvOgFj6teYJ0QAAQQQQAABBBBAAAEEEEAgWQQIGJOlEgkcBwFjArGbqCsCxiaCp1sEEEAAAQQQQAABBBBAAAEE0lAgrgFjMBjU69aty+jSpUtFfS03b97sXrt2bUaPHj221Pderq+fAAFj/bwa6+ry8nL3r7/+2qxr165ba+tjxYoVzXf0267GRMC4KyF+RwABBBBAAAEEEEAAAQQQQACBeAnUO2CUEPD2228vmjdvXs60adNe69Wr12YZzJNPPpk3derU/SsqKprl5OSsHT9+/MdOWPj888/3+Nvf/nZ47KDPOuusb2666aaSyspK1/XXX3/w3Llze8nvnTp12vjXv/7144MOOmh9vB6SdrYXIGBs3DdiR38jTq8Spo8aNeqQzz//vKd8t/fee//68MMPz8zPz98k/545c2bHe++999CffvqpdYcOHcqvv/76z0444YQ1s2bN6jhy5Mjja45++PDhX1533XV27PcEjI1bY1pHAAEEEEAAAQQQQAABBBBAAIH/CtQrYLRtO+uKK644tlevXuu++uqr7k7AWFxc3O6yyy476f777/9gwIAB62688cb+GzduzJg6depM6erRRx/1fvvtt23HjBnzjdN1y5YtQ/J/Dz30UMH777+fO3HixA9kttb999/fe/bs2Tmvv/76WxkZGWGKFX8BAsb4mzot7uhvJLbHJ554Iv/dd9/NnTx58getW7cOXnrppUe0atWq6rHHHvtUZjX+4Q9/OPm4445bMmrUqMUTJ07Me+mll/q8/PLLb7Zr165q/fr1zWKDyrPPPnvI2LFjPz755JNXEzA2Xl1pGQEEEEAAAQQQQAABBBBAAAEEdixQr4BRZlYtXbq09bBhw5Yfe+yxpzsB43333dd76dKl7SZNmjRHupKQ5dxzzx36zjvvvNyxY8fKO++8s1+LFi2CMmMxFAppt9ttnCGdf/75gw466KBVzgwsCVgGDhx45vjx49876qij1lK8+AsQMMbf1GlxR38jsT1OmzatW5s2bapkVqJ8L7N/33vvvX1ffvnl9z766KNOt95668AZM2a8IgG7/L0cf/zxp/zpT3/6/NRTT11ZM6h87733ek2fPv2dmk/EDMbGqzEtI4AAAggggAACCCCAAAIIIIDA9gL1ChidWzds2OA5+uijz3ACxmuuueaQLl26bBo7duxC55qioqJzJkyY8Hb//v1/ue666/qvX7+++bffftuhqqrKfdBBB/3w4IMPfp6ZmRm+/PLLB3Tq1GnzXXfd9bXcu3Tp0pZnnHHGqddff/2cc88993sKFn8BAsb4m9ZssebfyI56lADxvPPOO6awsPDH22+/fcFTTz3V6+233+41bdq09517LrzwwqOKiopWX3PNNQHnu4qKCtfgwYNPvfrqqz8/44wzlhMwNn5N6QEBBBBAAAEEEEAAAQQQQAABBGoXiEvAKLMQDzvssBVXXXVVqdPNwIEDh91www2fDh06dJUEJJs2bcoYPXr0F5s3b/bcc889hx544IEr7rnnnq/+9a9/dbv33nuPvPjii7/o0aNH+ZQpU/osW7as44gRIz677LLLllC4+AsQMMbftKEB4913391n5syZ+z7//PPvyGzfBx54oNDv93f4xz/+Mdtp89prrz2kffv2W++8885tWwxIEDlt2rTCN998883YGcHOPcxgbPwa0wMCCCCAAAIIIIAAAggggAACCPyfQFwCxpEjR/Zv167d1jvuuGO+NCqzsvr373/2pEmT/lNUVLReZiXutddeVbKHnPwuoeKkSZMOePfdd9+Qf0tY8tZbb+Vu3bq12Yknnlgm+9NdeeWVX5500kmRJaR84itAwBhfz9paq8sMxueee67n448/fvATTzzx3v777/+rtPP000/L/qP5slzaaXf48OGRAP/KK6+MBPhyWvvJJ5/8u/POO2/BBRdcsKy2/gkYG7/G9IAAAgj8//buPryJKv/7+JkkNFIKgoJdKEK3D5nQQlepgqJClVVUxBWQvRVBxV0RdHWhIiqL9EJ8QMGCgjdsL7lhwaeVRUQWrIjKg6KIFXkqmbT0V1mooKBAS6GQzPw82HjXbgttzWRi8uYfbTJzvue8vjP/fK7JHAQQQAABBBBAAAEEEEDgR4GgBIzTpk3rsmXLlviXX355jRz0iy++OPvuu+++fs2aNYvlJhZyU4u+fft+rapqhfx+5cqVv5k+fXrPDz74YFlRUVEL+VPpwI7TZWVlZw0YMGDgq6++ujxwPM0KrgABY3A9mxIwynctjhs37vdTp059/+qrr/4mMIbcKfqRRx7JWrVq1dK4uDh/4KfQ48eP/6R///6nNnKRweS8efMuyM/PX17fRkgEjOb3mAoIIIAAAggggAACCCCAAAIIIBDEgDGwqcvEiRPXZWVlfZOdnX2J0+n0z507d4MsI9/RWFFREfPCCy98IgOT+++///L4+PiKmTNnfjZz5kw1Pz8/NS8v730ZNE6ePLm7PDawAzWNCr4AAWPwTWuPWPsJRhkcymPkxkWFhYUthw8ffsPQoUM3Dx48+NR7RhVFMTp37nxM3h+DBg269qKLLtrz8MMP75g1a5b67rvvpr799tv/loGjfDq4f//+/W+66SbPqFGjiutbCQGj+T2mAgIIIIAAAggggAACCCCAAAIIBDFglEPl5eUlL1iw4MKqqqpmnTp1+m727NlrExISjsvvdu/e3fyvf/1r7927d58j/05NTf1m9uzZ6+U75+Su0TKQLCgo6CS/S0xMPDBjxoyPAk800qjgCxAwBt/0TAGjfE9p9+7d92VnZ3vGjRt30Ycffpha+5yCgoLX5Gfr168/d8qUKb0OHjwYd/bZZ1c++uijnwSecpSvF5g1a9bF77zzztuxsbF+Akbze0kFBBBAAAEEEEAAAQQQQAABBBA4vUCTfiJd35AnTpyw7du3z1lfOLh3796zHA6HER8fX1V7jAMHDsTIp7cCoSSNM0+AgNE82/pGlpseTZs2bY3cVb2h1eW7S5OSkiobenzN43iCsSlqnIMAAggggAACCCCAAAIIIIAAAk0RCGrA2JQJcE7oBQgYQ2teXl7u6Nev303r169fUteOz2bMhoDRDFXGRAABBBBAAAEEEEAAAQQQQACBugQIGKPwuiBgDG3T5XsT5dO7ofzZPwFjaHtMNQQQQAABBBBAAAEEEEAAAQSiWYCAMQq7T8AY+U0nYIz8HrNCBBBAAAEEEEAAAQQQQAABBMJFgIAxXDoRwnkQMIYQ26JSBIwWwVMWAQQQQAABBBBAAAEEEEAAgSgUIGCMwqYTMEZ+0wkYI7/HrBABBBBAAAEEEEAAAQQQQACBcBEgYAyXToRwHgSMIcS2qBQBo0XwlEUAAQQQQAABBBBAAAEEEEAgCgVOGzBGoUdULFnTNEMuVFVVJSoWHIWLlD2mv1HYeJaMAAIIIIAAAggggAACCCCAgAUCBIwWoFtdkoDR6g6YX5+A0XxjKiCAAAIIIIAAAggggAACCCCAwI8CBIxReCUQMEZ+0wkYI7/HrBABBBBAAAEEEEAAAQQQQACBcBEgYAyXToRwHgSMIcS2qBQBo0XwlEUAAQQQQAABBBBAAAEEEEAgCgUIGKOw6QSMkd90AsbI7zErRAABBBBAAAEEEEAAAQQQQCBcBAgYw6UTIZwHAWMIsS0qRcBoETxlEUAAAQQQQAABBBBAAAEEEIhCAQLGKGw6AWPkN52AMfJ7zAoRQAABBBBAAAEEEEAAAQQQCBcBAsZw6UQI50HAGEJsi0oRMFoET1kEEEAAAQQQQAABBBBAAAEEolAgqAFjVlaWo6ysrLXX6z3QGMvq8+K9Xu/XQgi9MedybOMFCBgbb2bGGV27do3fvn37/rrGTkxMPOvcc8+1FRQUVNb+viH3CwGjGR1jTAQQQAABBBBAAAEEEEAAAQQQqEug0QFjYmJia6fTOUsIMczhcHTesWPHbjmw2+0eaRjGdCFES8MwPlUUZbCmaWWqqj4khHi2juIXa5r2udvtfrD6vHJ5jK7rg4qKilbTLvMECBjNs83MzGxWUVHxsRDiYl3Xk4uKikpqV3O73b0Mw5gvhHAJIeT3d2ua9oE8rlu3bm1OnDjxDyHEAPm3vJfsdvstO3fu/Kr6PmvQ/ULAaF6PGRkBBBBAAAEEEEAAAQQQQAABBH4u0KiAMSUlJdlut68RQmwUQgwOBIxut7ubYRhbdV3vc+zYsU0tWrT4u6Io53g8nhvkk1gtW7ZsHih74sSJC4UQ7zscjnP9fn+CPM8wjC5er9dTHTaO1zTtNzJboVnmCBAwmuNaHQA+ahhGfyHEZX6/P6W4uHhXzWqZmZmxFRUV24QQee3bt3+urKzsHkVRJsXExLi3bdv2vcvlmq4oisvpdN7q8/lO6rr+umEY32ma9ufAfdaQ+4WA0bweMzICCCCAAAIIIIAAAggggAACCPyCgFE+eaXreoqiKEuFEEdqBIwTDMO4QNO0P8rhVVX9rXwyq6qqqk1paemhmiVVVX1Dfqdp2iMpKSkX2u32CzVN+3/ymLS0tHS/37/d6XTGbd269SjNMkeAgNEc1/T09BSfz1fk9/vT7Xb7jroC89lHMQAAIABJREFURpfLdbmiKCvj4uLOLSgoOCmEsKuqWqrr+qiioqIVbre7z8mTJ0t27dr1HzlLl8v1iKIol2iadlNj7hcCRnN6zKgIIIAAAggggAACCCCAAAIIIPDfAo16gjFwelpaWpzf7y8PBIwul0v+3LPU6/VOrj5GUVVV9/v93YuLizcHzktJSUmTwYsQIkH+fLr2dFwuV44Q4lqv13spzTJPgIDRHFtVVd82DGO71+udqKqqv66A0e1232kYxp81Tbs8MAt5nqIo73k8HvnqAZGSkuJUFKWnfJJRUZRcIcQfNE37sDH3CwGjOT1mVAQQQAABBBBAAAEEEEAAAQQQMClgVFU13zCM5V6v98UaoYncvOIOTdPyA5+5XK4FiqIc1TTtvjrCkr6Kosh3L556NyPNMk+AgDH4tqmpqb+32WyvyHxQ07Sj9QWMqqo+LMNDj8czqMa9Ms8wjP1er3eC/Cw5Ofk8h8PxnhAiQwixTFGUMR6Pp7TmrF0u12nvFwLG4PeYERFAAAEEEEAAAQQQQAABBBBAoG6BoDzB6Ha782RAomnaY9Vl5M8+fYqiZHg8Hvm+ORH4+WhdG1+kpqZ2sdls8r2OozVNkyEN/0wUIGAMLq7c1Xnfvn1bhBDTPB7PAiGETQaMDocjdceOHcU1q6mqepthGH+p+ZSuqqorhRDLNU2bU/PY6vc1PieE+K2madcGvmvI/ULAGNweMxoCCCCAAAIIIIAAAggggAACCNQvEJSAUVXV8UKIqwIhSJcuXbrqur6t5rsUVVWV4UkLTdNurzmdrl27xp88efJzwzBe9Hq9U2mW+QIEjME1Tk9P7+Tz+U7t8lz7n9xN3ePxvBn4vEuXLpfour4qLi7uNwUFBZVpaWkxfr//P4qiDPd4PKvkRkdyYxev17tXnlN9/Cd2u91ZWFh4oqH3CwFjcHvMaAgggAACCCCAAAIIIIAAAgggYHLAWL27dLGiKAN8Pt86u92+UAghfwp9myydnJx8vsPh2G2327sWFhbKdzCe+ief0Dp69OgmwzCO+3y+mxRFObVzdExMzDcyTKFx5ggQMAbXVT7B+O233yYGRvX5fHYhhMcwjN+fddZZnx47dixePs3r9XrfkoGiruubdV1/q7Ky8om4uLgxhmHcGxcXp8rAUVXVtxRFOXb8+PHRsbGxPl3Xc6s3UOrRmPuFgDG4PWY0BBBAAAEEEEAAAQQQQAABBBAwOWCUw7tcrj9Xb0jRUgixyW6331hYWLhPfud2u+VGFYk13zsnP1dVdcgPm0fLXaV/9s8wjB5er3cTjTNHgIDRHNcao556RUBgk5fq9y5e4fF4bpDHpKam9rTZbK8KIZKEEHsURRnm8XjWVt8THX44RL4mIKt6vE26rt9SVFRU0pj7hYDR9B5TAAEEEEAAAQQQQAABBBBAAAEEqgWa9BPp+vQyMzObVVRUtKtrh2jEw0eAgDG0vVBVdZ6iKF8GdokOVJdP9u7atWuPEOLUk7s1/1W/f9GuaVp5U2ZLwNgUNc5BAAEEEEAAAQQQQAABBBBAAIGmCAQ1YGzKBDgn9AIEjKE1d7lc8h2Kd+/cuXN7qCoTMIZKmjoIIIAAAggggAACCCCAAAIIIEDAGIXXAAFjaJuekpLSsbi4WG7a8l9PKpo1EwJGs2QZFwEEEEAAAQQQQAABBBBAAAEEagsQMEbhNUHAGPlNJ2CM/B6zQgQQQAABBBBAAAEEEEAAAQTCRYCAMVw6EcJ5EDCGENuiUgSMFsFTFgEEEEAAAQQQQAABBBBAAIEoFCBgjMKmEzBGftMJGCO/x6wQAQQQQAABBBBAAAEEEEAAgXARIGAMl06EcB4EjCHEtqgUAaNF8JRFAAEEEEAAAQQQQAABBBBAIAoFThswVlRUvBqFJhG/5L17994qF5mQkPBaxC82Shcoe6yqqhKly2fZCCCAAAIIIIAAAggggAACCCAQQgECxhBih0spAsZw6YR58yBgNM+WkRFAAAEEEEAAAQQQQAABBBBA4OcCBIxReEUQMEZ+0wkYI7/HrBABBBBAAAEEEEAAAQQQQACBcBEgYAyXToRwHgSMIcS2qBQBo0XwlEUAAQQQQAABBBBAAAEEEEAgCgUIGKOw6QSMkd90AsbI7zErRAABBBBAAAEEEEAAAQQQQCBcBAgYw6UTIZwHAWMIsS0qRcBoETxlEUAAAQQQQAABBBBAAAEEEIhCAQLGKGw6AWPkN52AMfJ7zAoRQAABBBBAAAEEEEAAAQQQCBcBAsZw6UQI50HAGEJsi0oRMFoET1kEEEAAAQQQQAABBBBAAAEEolAgqAGjz+dTDh48GBMfH19Vl2VVVZXtxIkTtpYtW/qi0DpslkzAaH4rKisr7bqui7i4OP/pqsnjDhw4ENOpU6djdR23f/9+Z0xMjN6mTZuTjZk1AWNjtDgWAQQQQAABBBBAAAEEEEAAAQR+iUCjA0YZhkyaNClz48aNiYsXL16WlJRUKScwd+7clIULF15QVVXVLDEx8cCMGTM+CoQmMiR5+OGHe27bti1BHtupU6fvnnzyyQ1paWnl8u9rrrlmwMGDB+NqLuSzzz573W63G79kcZxbtwABo3lXhrw/xo0bd0ngWpf3wtSpUzekpqYerVlVBu0PPvjgxRs2bEiSn7dr1678iSee+Oiiiy46JP8uKSmJzc7O7v3NN9/EyXsqMzNzd25u7qeBwHLZsmUdcnNze2ZmZu7Jzc3dVHtFBIzm9ZiREUAAAQQQQAABBBBAAAEEEEDg5wKNChg1TYsbPXp036SkpIObN28+PxAwFhQUtB45cuR1zzzzzPu9evU6+NBDD/UoLy+PWbhw4VpZ7rHHHrugqKjo3Llz566LjY31jx8//qKDBw/GLlq0aI38PjMz89ZFixb9+7zzzvvpyce2bdueoFnmCBAwmuMqR50wYcKFZWVlLWfNmrVBPnk4evToy1q1alU1c+bMz2pWnT59epfVq1cn//3vf38/ISHh+DPPPJO+fv36xLfffnulPG/kyJGXxcXFnZg2bdrn3377bczQoUOvve2227b96U9/Knn88ce75efnqx07djyUkJBweMaMGQSM5rWUkRFAAAEEEEAAAQQQQAABBBBA4AwCjQoY165d27akpKTlwIED9/Tt2/fmQMA4derU9JKSktZ5eXkfy3oyiBw6dOiAd999d4kMCh944IGebdu2rZw0adI2+f2iRYs6L1mypMtbb72VX15e7sjKyhoin1g0DEM4HA6eWjT5siVgNA/4vffeOy85Obki8GTvs88+m7Zz585z58+fv75m1WHDhmVddNFFX48ZM0aTn1dUVNj79OnzxxkzZrzXu3fvAzNnzlSvu+66vaqqVsjvZeCYkJBQnpOTs3Xy5MkZI0aMKJo3b17qkSNHnASM5vWTkRFAAAEEEEAAAQQQQAABBBBA4MwCjQoYA8MdOXLEceWVVw4JBIz3339/z/j4+KMTJ07cHjhGPpU4Z86c/B49enz/8ccfnzthwoTe/fv311q0aHHyjTfe6HrXXXdtvuOOO0qLiopa3HHHHde53e79W7Zs6dihQ4dDo0aN2ty/f/99Z54+RzRFgICxKWoNP0e+a3T9+vWnwvgFCxZcmJOTs75fv377a44watSoXu3ataucMmXKl/Jz+ZPoIUOG/OHBBx/8eOjQobtrHrtv3z7noEGDBkycOPGj66+//qf7IicnJ4OAseF94UgEEEAAAQQQQAABBBBAAAEEEDBHICgBo3wa69JLL9173333FQWm2adPn4Hjxo37dMCAAV8XFha2nDBhwmXyfXLNmjXz2+12PScn5+M+ffoc+OSTT875y1/+0u/uu+/e1Lt37/1Lly7t/Oabb3Z788033+rcuXOdG1+YQxE9oxIwmtvrsrKys+65554ry8rKWmdkZOyZMGHCF7Xfwfivf/2r49NPP33FXXfd9XmnTp0qFixY0LW0tLTtPffc89nIkSN3BWYoN066/fbbs2JjY0++9NJLH9WcOQGjuX1kdAQQQAABBBBAAAEEEEAAAQQQaJhAUALGsWPH9mjduvVx+fNNWdbv9ys9evS4JS8v753MzMxDAwcO7Jeamnrg6aef/kJu3PLiiy+mvvLKK79bvXr1UrnT7t69e5sHfgoqzx8wYMB1t956647aT3I1bEkcdSYBAsYzCQXne/mz50mTJnX/5ptvWrz88sun3jda89+8efOSVq5cmXz8+PFm1157bfGqVauS77333i+uu+66n552zM7OvrioqKjtK6+88l6rVq1+tvs6AWNw+sQoCCCAAAIIIIAAAggggAACCCDwywSCEjBOmzaty5YtW+IDIcoXX3xx9t133339mjVrFjdv3tzfs2fPW3Jzc9+TTyzK6cqddvv16zd4/vz5K06ePGn78ssvz5GbVwSWMnjw4KtvvPHGIvkT6l+2PM6uS4CA0bzrIjc31z148OCvAk/frlu3ru3YsWOv3rBhwz+dTqceqCxfDSD/Duy0Lp96HDBgwMBXX311eSBsf+6559wrVqxQFyxYsCpwXM2ZEzCa10dGRgABBBBAAAEEEEAAAQQQQACBhgsEJWAMbOoyceLEdVlZWd9kZ2df4nQ6/XPnzt0gpzJkyJDfn3322ceffPLJTTJwnD59evrq1atT161bt8Tr9cYNHz78hqeeeuoD+Z66JUuWJPzw/71rBi0NXw5HNkSAgLEhSk07ZsSIEVfExMT4n3zyyc/lbtA5OTndS0tL2yxduvRdeZ9s3bq19ZAhQ/bITVzy8/NT8/Ly3pdB4+TJk7tXVFT8tPP6P//5z/OfffbZy6dMmfJhWlraETkbee/Ex8f/tNM6AWPTesRZCCCAAAIIIIAAAggggAACCCAQXIGgBIxySnl5eclyQ4uqqqpmnTp1+m727NlrExISjsvv5NNaEyZMuLSkpKSd/Ltdu3blkyZN2tCrV6/v5N9z5sxJeemlly6W/+90Ok/ec889n/P0YnAbXXM0AkbzbHfv3t18/PjxvYqKis6TVeS9MHXq1I/lU4lyR+nt27e3W7hw4Vr582kZxBcUFHSSxyUmJh6YMWPGR4EnFa+55poBBw8ejKs50/T09DJ5buAzAkbz+sjICCCAAAIIIIAAAggggAACCCDQcIEmBYz1DX/ixAmb3PG2rp9zynNkqCJ/Et2mTZuTtceQO++WlpbGJicnH3U4HEbDl8CRjRUgYGysWOOPl9e6z+eztW7d+qdr/YEHHuiZmpr6/f333+8NjChfFyCv/UAY3/hKdZ8he6yqqhKs8RgHAQQQQAABBBBAAAEEEEAAAQQQqE8gqAEjzL8OAQJGa/ok3y36t7/97bPu3bsfNnsGBIxmCzM+AggggAACCCCAAAIIIIAAAggEBAgYo/BaIGC0punyCd3ExMTKUFQnYAyFMjUQQAABBBBAAAEEEEAAAQQQQEAKEDBG4XVAwBj5TSdgjPwes0IEEEAAAQQQQAABBBBAAAEEwkWAgDFcOhHCeRAwhhDbolIEjBbBUxYBBBBAAAEEEEAAAQQQQACBKBQgYIzCphMwRn7TCRgjv8esEAEEEEAAAQQQQAABBBBAAIFwESBgDJdOhHAeBIwhxLaoFAGjRfCURQABBBBAAAEEEEAAAQQQQCAKBU4bMEahR1QsWdM0Qy5UVVUlKhYchYuUPaa/Udh4lowAAggggAACCCCAAAIIIICABQIEjBagW12SgNHqDphfn4DRfGMqIIAAAggggAACCCCAAAIIIIDAjwIEjFF4JRAwRn7TCRgjv8esEAEEEEAAAQQQQAABBBBAAIFwESBgDJdOhHAeBIwhxLaoFAGjRfCURQABBBBAAAEEEEAAAQQQQCAKBQgYo7DpBIyR33QCxsjvMStEAAEEEEAAAQQQQAABBBBAIFwECBjDpRMhnAcBYwixLSpFwGgRPGURQAABBBBAAAEEEEAAAQQQiEIBAsYobDoBY+Q3nYAx8nvMChFAAAEEEEAAAQQQQAABBBAIFwECxnDpRAjnQcAYQmyLShEwWgRPWQQQQAABBBBAAAEEEEAAAQSiUCCoAWNWVpajrKystdfrPVCXZbdu3drouq7s2LHju/q+37Zt2yEhhBGFvQjZkgkYzaN2uVxtdV0/UVxcfOR0Vc50L6SlpcXpuu70eDwHmzJbAsamqHEOAggggAACCCCAAAIIIIAAAgg0RaDRAWNiYmJrp9M5SwgxzOFwdN6xY8duWdjtdo80DGO6EKKlYRifKooyWNO0Mvldly5d2vv9/jcVRblE/q0oygq73X57IGh0uVy3KIqSJ88VQpQrivK0x+OZStDYlJae+RwCxjMbNfaI5OTk8x0Ox1tCiNTq6/iNuLi4EQUFBZU1xzrTvaCqaktFUV4zDKN/9Xkf22y2ITt37vza5XIlKIqyp+Z4hmG85/V6r6k9XwLGxnaQ4xFAAAEEEEAAAQQQQAABBBBAoKkCjQoYU1JSku12+xohxEYhxOBAwOh2u7sZhrFV1/U+x44d29SiRYu/K4pyjsfjuUFOTFXVlTI4PHr06J2tWrWy+/3+N4QQX2maNtrtdp9rGMYBRVEGeDyef6uqmiGE2KLr+iVFRUWyDv+CLEDAGGTQH69xeU0f1DTtvpSUlHPtdvsXiqI85vF4FtSsdrp7ofpemSeEaGcYxl2VlZVHW7RoIcPG771e74iUlJQL7Xb76zExMaeCevnP7/efLCwsrCBgDH5PGREBBBBAAAEEEEAAAQQQQAABBBom0KiA0e1299J1PUVRlKVCiCM1AsYJhmFcoGnaH6tDkt8KIUqqqqraxMbGVvr9/iohxMWapn1e/f2NQohlmqY5UlNTO9tstl1OpzNu69atR6u//49hGCO9Xu87DVsGRzVGgICxMVoNO9blco3Vdf3t4uLiXdXX8D+FEF5N0x4LjJCWlhZzunshJSXFYbfbjzscjtQdO3aUZGVl2crLy5Vjx445ZYjodruvMQwjW9O0a+XrCNasWeOrb3Y8wdiwvnEUAggggAACCCCAAAIIIIAAAgj8coFGBYw1gpI4v99fHggYXS7XfCFEqdfrnVx9jKKqqu73+7sXFxd/qarqYV3Xby0qKlpRHb78VQgx0zCMjl6vd6+qqosMw4iXPw0VQlxpGEZqZWXlVXv27Dn2y5fICLUFCBjNvSZSUlLa2e32XbquDyoqKlpdo5q8L+q9FxRFiRNCbFIU5XHDMKZVnzfPbrffW1hYeEJV1WFCiAeEEE4hhHzS9wObzXbXzp07v6qrx6qqKuaulNERQAABBBBAAAEEEEAAAQQQQAABIYISMKqqmm8YxnKv1/tiAFVV1f1CiDs0Tct3u925hmHcpijKaF3XYxRFkeFJR8Mwuni9Xo/L5cpWFOU5+dSjECLJMIzZHTp0GHu6J7RoXtMFCBibbnemM6s3OlqpKMoRTdNurn386e4FGbjbbLb3qt9heo/NZovVdX2xoigvezyeR+VTkoqiPKIoynCfz7fHbrc/Lt/5qGna7wgYz9QZvkcAAQQQQAABBBBAAAEEEEAAAbMEghIwut3uPMMw9tf4OahdVVWfoigZHo9nW3Xo8rjc+MUwjO8URckVQshNMFpUVFT0lv9vGEYPGTYmJyef53A41gsh5miaNtOshUfzuASM5nVfVdU5Qohedrv9srrejXi6e+Hw4cOqfHejzWa7dOfOnZ/KWaqqepsQYpKmaap8X6nD4XBs375dhvdC7litKMq3gSeBa66Kn0ib12NGRgABBBBAAAEEEEAAAQQQQACBnwsEJWBUVXW8EOIq+W44OXyXLl266rq+LfBexepNYEo1TSuX36empva32WxzNU073+12y/c39g6cK793u93PGYbxG03TZLjCvyALEDAGGbR6OLfbPe6HDVnkz/97BnZQr13pdPdCenr6OT6f72D1qwU2VweM8inIZzRNS66+byo1TftQfpeWlnbqVQXyqV9N0/6HgNGcvjIqAggggAACCCCAAAIIIIAAAgicXiAoAWP17tLFcidon8+3zm63LxRCHA0EhKqqvq0oytHjx4+PaN68+fk/bAjzlq7r87xeb66qqlcJId7/YWfq69q3b796//79Gbquv2MYxuM1f3JNI4MnQMAYPMvASG63e5BhGEt0Xb/aMAyP/Nxmsx33er0HunTpcmrXZ/lU4unuhepAUW4OI9+xOLxZs2axJ0+eXGkYxsder/cBt9t9p2EYjymK0tdms5X5fL4cRVFul0F97RXxBGPwe8yICCCAAAIIIIAAAggggAACCCBQt0BQAkY5tMvl+nP1T59byo0qfvip542FhYX75HcygHQ4HG8bhpFWPY2X27dvPyLwjsXqd8vJDWLkufLfzLi4uPEFBQUnaVzwBQgYg2+qqqrcPTqp5siKoqzweDw3yHeUKorynsfjea4B90KCEOJfiqKcCiV/eBryHafTOUTusF69C/X/FUL8qfq7PYqiXC9fQ1B7RQSMwe8xIyKAAAIIIIAAAggggAACCCCAQN0CTQoY68PMzMxsVlFR0a6+n4cmJyef73Q6v6/r3XRCCCU5Obndrl27Dgoh/DTMPAECRvNs6xpZbnjk9/uvLS4uPvWzZ/nvDPeCDOwTnE5n5bZt276vPaaqqi19Pl/rXbt2/ae+lRAwhrbHVEMAAQQQQAABBBBAAAEEEEAgmgWCGjBGM+Svae0EjKHrVkZGRouqqqqvf9iwqPUPm7XooapMwBgqaeoggAACCCCAAAIIIIAAAggggAABYxReAwSMIW263FE9vr6nes2aCQGjWbKMiwACCCCAAAIIIIAAAggggAACtQUIGKPwmiBgjPymEzBGfo9ZIQIIIIAAAggggAACCCCAAALhIkDAGC6dCOE8CBhDiG1RKQJGi+ApiwACCCCAAAIIIIAAAggggEAUChAwRmHTCRgjv+kEjJHfY1aIAAIIIIAAAggggAACCCCAQLgIEDCGSydCOA8CxhBiW1SKgNEieMoigAACCCCAAAIIIIAAAgggEIUCpw0YKyoqXo1Ck4hf8t69e2+Vi0xISHgt4hcbpQuUPVZVVYnS5bNsBBBAAAEEEEAAAQQQQAABBBAIoQABYwixw6UUAWO4dMK8eRAwmmfLyAgggAACCCCAAAIIIIAAAggg8HMBAsYovCIIGCO/6QSMkd9jVogAAggggAACCCCAAAIIIIBAuAgQMIZLJ0I4DwLGEGJbVIqA0SJ4yiKAAAIIIIAAAggggAACCCAQhQIEjFHYdALGyG86AWPk95gVIoAAAggggAACCCCAAAIIIBAuAgSM4dKJEM6DgDGE2BaVImC0CJ6yCCCAAAIIIIAAAggggAACCEShAAFjFDadgDHym07AGPk9ZoUIIIAAAggggAACCCCAAAIIhIsAAWO4dCKE8yBgDCG2RaUIGC2CpywCCCCAAAIIIIAAAggggAACUShAwBiFTSdg/HU3/cCBAzFyBW3btj1R30oIGH/dPWb2CCCAAAIIIIAAAggggAACCPyaBBodMMpwY9KkSZkbN25MXLx48bKkpKRKueBly5Z1yM3N7ZmZmbknNzd3k/zM7/crubm57tdff/2C7OzsDbfddttX8vPt27e3mjhxYq/Kyspmq1atWv5rAouEuRIwmtvF+u6RQNXMzMxba8+gW7duexcsWLAu8PnixYs7Tp069Yorrrhi18yZMz+Tn+/evbv52LFjLy8tLW0r/05PTy/Lzc39pK6gkYDR3B4zOgIIIIAAAggggAACCCCAAAII/H+BRgWMmqbFjR49um9SUtLBzZs3nx8IGB9//PFu+fn5aseOHQ8lJCQcnjFjxiafz6cMGzbsqqqqKsfhw4fPGjFixJfDhw//aunSpQlPPPFE74yMjD1fffXVOR988MEyGhJaAQJG87zru0dqVgw8gRj4bMyYMb1cLtfBSZMmbZOfye9vvPHGG9u3b3+4Q4cOR2bNmrVRfj58+PCs5s2bn5w5c+an8v667777Lm/Xrt3RQKBfswYBo3k9ZmQEEEAAAQQQQAABBBBAAAEEEPi5QKMCxrVr17YtKSlpOXDgwD19+/a9ORAwTp48OWPEiBFF8+bNSz1y5IhTBowVFRX2p556KiMnJ2fLLbfccvWgQYM8MmDMy8tLTk9PP3To0KFmzz33XE8CxtBfkgSM5pnXd4/UV7GgoKD1yJEjr1u+fPnSDh06HJfHjR07tocMEDt27Fi+Z8+eljJgrKqqsvXq1ev/zJ49+91LL730O3nckiVLEp566qnen3322et2u90gYDSvr4yMAAIIIIAAAggggAACCCCAAAL1CzQqYAwMc+TIEceVV145pOZPpOV3OTk5GYGAsWbJgQMH9gsEjIHPV6xY8RsCRmsuTQJG893ru0dqVx41alSvNm3aHH/66ae/kN998skn5zz44INXLV68+N8vv/xyUiBglN/16tXr5ocffnjDH/7whzL59/PPP68uXLiw+5tvvvlW586djxEwmt9XKiCAAAIIIIAAAggggAACCCCAwH8LEDBG4VVBwGh+0xsSMMp3kd5xxx39awb1Q4YM+f1ll132nzFjxmjPPPNMWs2A8dFHH+2+YcOGzvfee+/nPp/PNm/evAsOHz4cO3/+/BUZGRlHCBjN7ysVEEAAAQQQQAABBBBAAAEEEECAgJFrQAhBwGj+ZdCQgHHMmDE95EwCm7i89tprnebPn/+75cuXr3A6nXrtgFH+bHrKlCkZGzduPL9FixZVN998szZ9+vTL1q5d+0ZcXJyfgNH8vlIBAQQQQAABBBBAAAEEEEAAAQQIGLkGCBhDcg2cKWCUm8EMHTp0wD/+8Y8VXbt2PfX04dixYy9et25dSu0JtmvXrjw/P//f8n2NycnJR1u3bn1SHiN3bn/++ecvrus9pmzyEpI2UwQBBBBAAAEEEEAAAQQQQAABBIQQ/EQ6Ci8DnmA0v+m1A8Z169bDjpxtAAAG1UlEQVS1lVV79+59QP53/PjxmYcOHTorLy/v48BsysrKzpKbHwX+XrRoUer+/ftbTJw4sSApKanyzjvv7O10On0zZszYWFpaGvvQQw9d0bdv35Ls7GxP7RURMJrfYyoggAACCCCAAAIIIIAAAggggMCPAgSMUXglEDCa3/TaAeOwYcOyunfvvk+Ggbt3724+cODAm+bMmZPfo0eP7+ubzdSpU9P37t0bJ3eRlsfIpx6zs7N779u372z5d8+ePUtfeOGFTx0Ox892kJbfETCa32MqIIAAAggggAACCCCAAAIIIIDALwgYwft1CxAwhr5/ffr0GTht2rQ1pwsUGzqrkpKS2LZt255o1aqVr75zCBgbqslxCCCAAAIIIIAAAggggAACCCDwSwWa9ATjLy3K+dYKEDCG1r+8vNzRr1+/m9avX7/Ebrf/19OGZsyGgNEMVcZEAAEEEEAAAQQQQAABBBBAAIG6BAgYo/C6IGAMbdP9fr+yd+/eszp16nQsVJUJGEMlTR0EEEAAAQQQQAABBBBAAAEEECBgjMJrgIAx8ptOwBj5PWaFCCCAAAIIIIAAAggggAACCISLAAFjuHQihPMgYAwhtkWlCBgtgqcsAggggAACCCCAAAIIIIAAAlEoQMAYhU0nYIz8phMwRn6PWSECCCCAAAIIIIAAAggggAAC4SJAwBgunQjhPAgYQ4htUSkCRovgKYsAAggggAACCCCAAAIIIIBAFAqcNmCMQo+oWLKmaad2MlZVVYmKBUfhImWP6W8UNp4lI4AAAggggAACCCCAAAIIIGCBAAGjBehWlyRgtLoD5tcnYDTfmAoIIIAAAggggAACCCCAAAIIIPCjAAFjFF4JBIyR33QCxsjvMStEAAEEEEAAAQQQQAABBBBAIFwECBjDpRPMAwEEEEAAAQQQQAABBBBAAAEEEEAAgQgR4L18EdJIloEAAggggAACCCCAAAIIIIAAAggggIAVAgSMVqhTEwEEEEAAAQQQQAABBBBAAAEEEEAAgQgRIGCMkEayDAQQQAABBBBAAAEEEEAAAQQQQAABBKwQIGC0Qp2aCCCAAAIIIIAAAggggAACCCCAAAIIRIgAAWOENJJlIIAAAggggAACCCCAAAIIIIAAAgggYIUAAaMV6tREAAEEEEAAAQQQQAABBBBAAAEEEEAgQgQIGCOkkSwDAQQQQAABBBBAAAEEEEAAAQQQQAABKwQIGK1QpyYCCCCAAAIIIIAAAggggAACCCCAAAIRIkDAGCGNZBkIIIAAAggggAACCCCAAAIIIIAAAghYIUDAaIU6NRFAAAEEEEAAAQQQQAABBBBAAAEEEIgQAQLGCGkky0AAAQQQQAABBBBAAAEEEEAAAQQQQMAKAQJGK9SpiQACCCCAAAIIIIAAAggggAACCCCAQIQIEDBGSCNZBgIIIIAAAggggAACCCCAAAIIIIAAAlYIEDBaoU5NBBBAAAEEEEAAAQQQQAABBBBAAAEEIkSAgDFCGskyEEAAAQQQQAABBBBAAAEEEEAAAQQQsEKAgNEKdWoigAACCCCAAAIIIIAAAggggAACCCAQIQIEjBHSSJaBAAIIIIAAAggggAACCCCAAAIIIICAFQIEjFaoUxMBBBBAAAEEEEAAAQQQQAABBBBAAIEIESBgjJBGsgwEEEAAAQQQQAABBBBAAAEEEEAAAQSsECBgtEKdmggggAACCCCAAAIIIIAAAggggAACCESIAAFjhDSSZSCAAAIIIIAAAggggAACCCCAAAIIIGCFAAGjFerURAABBBBAAAEEEEAAAQQQQAABBBBAIEIECBgjpJEsAwEEEEAAAQQQQAABBBBAAAEEEEAAASsECBitUKcmAggggAACCCCAAAIIIIAAAggggAACESJAwBghjWQZCCCAAAIIIIAAAggggAACCCCAAAIIWCFAwGiFOjURQAABBBBAAAEEEEAAAQQQQAABBBCIEAECxghpJMtAAAEEEEAAAQQQQAABBBBAAAEEEEDACgECRivUqYkAAggggAACCCCAAAIIIIAAAggggECECBAwRkgjWQYCCCCAAAIIIIAAAggggAACCCCAAAJWCBAwWqFOTQQQQAABBBBAAAEEEEAAAQQQQAABBCJEgIAxQhrJMhBAAAEEEEAAAQQQQAABBBBAAAEEELBCgIDRCnVqIoAAAggggAACCCCAAAIIIIAAAgggECECBIwR0kiWgQACCCCAAAIIIIAAAggggAACCCCAgBUCBIxWqFMTAQQQQAABBBBAAAEEEEAAAQQQQACBCBEgYIyQRrIMBBBAAAEEEEAAAQQQQAABBBBAAAEErBD4X4coqOW2yznhAAAAAElFTkSuQmCC\" />"
      ],
      "text/plain": [
       "Open the notebook in JupyterLab with the Atoti JupyterLab extension enabled to build this widget."
      ]
     },
     "metadata": {},
     "output_type": "display_data"
    }
   ],
   "source": [
    "session.widget"
   ]
  },
  {
   "cell_type": "markdown",
   "id": "d4b9f75b-f15c-47c8-b38c-c4cac187dc99",
   "metadata": {},
   "source": [
    "But perhaps we also want to know the particular customers that bought each product, along with the quantity sold per product and customer. With Atoti, this is as simple as adding another hierarchy, `CustomerId`, to our analysis to further slice-and-dice our data. As we can see, the total for the `QuantitySold.SUM` measure stays the same at `212,034`, but we can drill down to see a more granular breakdown."
   ]
  },
  {
   "cell_type": "code",
   "execution_count": 14,
   "id": "3373f187-d416-42f7-b4ee-508a0670f6ff",
   "metadata": {
    "atoti": {
     "widget": {
      "mapping": {
       "columns": [
        "ALL_MEASURES"
       ],
       "measures": [
        "[Measures].[QuantitySold.SUM]"
       ],
       "rows": [
        "[Orders].[ProductId].[ProductId]",
        "[Orders].[CustomerId].[CustomerId]"
       ]
      },
      "query": {
       "mdx": "SELECT NON EMPTY Crossjoin(Hierarchize(Descendants({[Orders].[ProductId].[ALL].[AllMember]}, 1, SELF_AND_BEFORE)), Hierarchize(Descendants({[Orders].[CustomerId].[ALL].[AllMember]}, 1, SELF_AND_BEFORE))) ON ROWS, NON EMPTY {[Measures].[QuantitySold.SUM]} ON COLUMNS FROM [Orders] CELL PROPERTIES VALUE, FORMATTED_VALUE, BACK_COLOR, FORE_COLOR, FONT_FLAGS",
       "updateMode": "once"
      },
      "serverKey": "default",
      "widgetKey": "pivot-table"
     }
    }
   },
   "outputs": [
    {
     "data": {
      "application/vnd.atoti.widget.v0+json": {
       "sessionId": "1717601103_7Y9TK8",
       "sessionLocation": {
        "https": false,
        "port": 9092
       },
       "widgetCreationCode": "session.widget"
      },
      "text/html": [
       "<img height=\"352\" width=\"1304\" src=\"data:image/png;base64,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\" />"
      ],
      "text/plain": [
       "Open the notebook in JupyterLab with the Atoti JupyterLab extension enabled to build this widget."
      ]
     },
     "metadata": {},
     "output_type": "display_data"
    }
   ],
   "source": [
    "session.widget"
   ]
  },
  {
   "cell_type": "markdown",
   "id": "a846a879-9a01-483c-af02-e2d9ccafff53",
   "metadata": {},
   "source": [
    "## Using multi-level hierarchies\n",
    "\n",
    "Previously, we mentioned single-level hierarchies and multi-level hierarchies. Single-level hierarchies are created by default (specifically if you [create your cube](https://docs.atoti.io/latest/api/atoti.Session.create_cube.html#atoti-session-create-cube) in **auto** or **no_measures** mode), and usually map one-to-one to the columns of an Atoti table; however, if a parent-child relationship exists, we may want to logically group associated levels together to reflect such a relationship. This is the basis for multi-level hierarchies.\n",
    "\n",
    "For example, there is a parent-child relationship between our ProductCategory (parent) and ProductId (child) hierarchies, as each individual product falls within the umbrella of a higher-level product category. If we create a multi-level Product hierarchy, like so:"
   ]
  },
  {
   "cell_type": "code",
   "execution_count": 15,
   "id": "319f07dd-c14b-47f6-b5d2-a0035f8ecfac",
   "metadata": {},
   "outputs": [],
   "source": [
    "h[\"Product\"] = [l[\"ProductCategory\"], l[\"ProductId\"]]"
   ]
  },
  {
   "cell_type": "markdown",
   "id": "9996b6b8-aa14-4f96-8407-00236551bfef",
   "metadata": {},
   "source": [
    "As a best practice, we should also clean up the associated single-level hierarchies to avoid redundancy."
   ]
  },
  {
   "cell_type": "code",
   "execution_count": 16,
   "id": "48c65092-6f22-4c1d-ba27-dd13bbfe742b",
   "metadata": {},
   "outputs": [],
   "source": [
    "# # We've commented this cell to avoid disrupting the\n",
    "# # upstream widgets that depend on these hierarchies.\n",
    "# # Uncomment this cell and execute to delete the hierarchies.\n",
    "# del h['ProductCategory']\n",
    "# del h['ProductId']"
   ]
  },
  {
   "cell_type": "markdown",
   "id": "14630db6-58c4-4c36-8ca2-f7fb4e27086c",
   "metadata": {},
   "source": [
    "What we’ll now see either in the Atoti UI or Atoti JupyterLab extension, is a hierarchy with a drop-down illustrating this parent-child relationship."
   ]
  },
  {
   "cell_type": "markdown",
   "id": "81d07b31-5088-4ed5-bf37-625666105509",
   "metadata": {},
   "source": [
    "![multi-level-hierarchies](https://data.atoti.io/notebooks/hierarchies/images/multi-level-hierarchies.png)"
   ]
  },
  {
   "cell_type": "markdown",
   "id": "53ee0f3f-a719-4e2f-b46c-ed130028f49d",
   "metadata": {},
   "source": [
    "\n",
    "And if we now use the `Product` hierarchy in our analysis, we get a breakdown of our data for `QuantitySold.SUM` by associated product categories and product IDs."
   ]
  },
  {
   "cell_type": "code",
   "execution_count": 17,
   "id": "880613aa-4820-4948-a869-ea4a1f29c42f",
   "metadata": {
    "atoti": {
     "widget": {
      "mapping": {
       "columns": [
        "ALL_MEASURES"
       ],
       "measures": [
        "[Measures].[QuantitySold.SUM]"
       ],
       "rows": [
        "[Products].[Product].[ProductCategory] => [Products].[Product].[ProductId]"
       ]
      },
      "query": {
       "mdx": "SELECT NON EMPTY {[Measures].[QuantitySold.SUM]} ON COLUMNS, NON EMPTY Hierarchize(Union(Descendants({[Products].[Product].[ALL].[AllMember]}, 1, SELF_AND_BEFORE), Descendants({[Products].[Product].[ALL].[AllMember].[Beverages]}, [Products].[Product].[ProductId]))) DIMENSION PROPERTIES CHILDREN_CARDINALITY ON ROWS FROM [Orders] CELL PROPERTIES VALUE, FORMATTED_VALUE, BACK_COLOR, FORE_COLOR, FONT_FLAGS",
       "updateMode": "once"
      },
      "serverKey": "default",
      "widgetKey": "pivot-table"
     }
    }
   },
   "outputs": [
    {
     "data": {
      "application/vnd.atoti.widget.v0+json": {
       "sessionId": "1717601103_7Y9TK8",
       "sessionLocation": {
        "https": false,
        "port": 9092
       },
       "widgetCreationCode": "session.widget"
      },
      "text/html": [
       "<img height=\"352\" width=\"1304\" src=\"data:image/png;base64,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\" />"
      ],
      "text/plain": [
       "Open the notebook in JupyterLab with the Atoti JupyterLab extension enabled to build this widget."
      ]
     },
     "metadata": {},
     "output_type": "display_data"
    }
   ],
   "source": [
    "session.widget"
   ]
  },
  {
   "cell_type": "markdown",
   "id": "9bed5d43-5218-4cb5-98ac-2decfeb1fbd1",
   "metadata": {},
   "source": [
    "## Multi-level date hierarchies"
   ]
  },
  {
   "cell_type": "markdown",
   "id": "dba93e15-8cff-43cb-876c-e92dd4cbfec4",
   "metadata": {},
   "source": [
    "One of the most common use cases for creating multi-level hierarchies is when dealing with dates. For example, perhaps we want to have a multi-level `OrderDate` hierarchy that shows the breakdown for each corresponding year, quarter, month, day, and so on.\n",
    "\n",
    "As of right now, our single-level `OrderDate` hierarchy can only drill-down to the fully qualified date as shown. "
   ]
  },
  {
   "cell_type": "code",
   "execution_count": 18,
   "id": "90362201-e1de-4a71-b979-ddf767a5c984",
   "metadata": {
    "atoti": {
     "widget": {
      "mapping": {
       "columns": [
        "ALL_MEASURES"
       ],
       "measures": [
        "[Measures].[QuantitySold.SUM]"
       ],
       "rows": [
        "[Orders].[OrderDate].[OrderDate]"
       ]
      },
      "query": {
       "mdx": "SELECT NON EMPTY Hierarchize(Descendants({[Orders].[OrderDate].[ALL].[AllMember]}, 1, SELF_AND_BEFORE)) ON ROWS, NON EMPTY {[Measures].[QuantitySold.SUM]} ON COLUMNS FROM [Orders] CELL PROPERTIES VALUE, FORMATTED_VALUE, BACK_COLOR, FORE_COLOR, FONT_FLAGS",
       "updateMode": "once"
      },
      "serverKey": "default",
      "widgetKey": "pivot-table"
     }
    }
   },
   "outputs": [
    {
     "data": {
      "application/vnd.atoti.widget.v0+json": {
       "sessionId": "1717601103_7Y9TK8",
       "sessionLocation": {
        "https": false,
        "port": 9092
       },
       "widgetCreationCode": "session.widget"
      },
      "text/html": [
       "<img height=\"352\" width=\"1304\" src=\"data:image/png;base64,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\" />"
      ],
      "text/plain": [
       "Open the notebook in JupyterLab with the Atoti JupyterLab extension enabled to build this widget."
      ]
     },
     "metadata": {},
     "output_type": "display_data"
    }
   ],
   "source": [
    "session.widget"
   ]
  },
  {
   "cell_type": "markdown",
   "id": "f669d049-9d03-4ac8-93ee-943cb5481968",
   "metadata": {},
   "source": [
    "But if we create a multi-level `OrderDate` hierarchy, we can then show the breakdown for each corresponding year, quarter, month, and day.\n",
    "\n",
    "💡 **Note**: https://docs.atoti.io/latest/api/atoti.Cube.create_date_hierarchy.html#atoti.Cube.create_date_hierarchy"
   ]
  },
  {
   "cell_type": "code",
   "execution_count": 19,
   "id": "3f9ebeeb-05fe-41c1-ac6d-837feb27fa8e",
   "metadata": {},
   "outputs": [],
   "source": [
    "# Create a multi-level date hierarchy\n",
    "cube.create_date_hierarchy(\n",
    "    \"Multi-level Date\",\n",
    "    column=orders[\"OrderDate\"],\n",
    "    levels={\"Year\": \"yyyy\", \"Quarter\": \"QQQ\", \"Month\": \"MMM\", \"Day\": \"dd\"},\n",
    ")"
   ]
  },
  {
   "cell_type": "code",
   "execution_count": 20,
   "id": "9415cce6-4dfe-4620-b7b8-70a9281a95e6",
   "metadata": {},
   "outputs": [],
   "source": [
    "# # We've commented this cell to avoid disrupting the\n",
    "# # upstream widgets that depend on these hierarchies.\n",
    "# # Uncomment this cell and execute to delete the hierarchies.\n",
    "# del h['OrderDate']"
   ]
  },
  {
   "cell_type": "code",
   "execution_count": 21,
   "id": "ab7e444f-358a-45de-9c8f-60988edaa137",
   "metadata": {
    "atoti": {
     "widget": {
      "mapping": {
       "columns": [
        "ALL_MEASURES"
       ],
       "measures": [
        "[Measures].[QuantitySold.SUM]"
       ],
       "rows": [
        "[Orders].[Multi-level Date].[Day]"
       ]
      },
      "query": {
       "mdx": "SELECT NON EMPTY Hierarchize(Descendants({[Orders].[Multi-level Date].[ALL].[AllMember]}, 4, SELF_AND_BEFORE)) DIMENSION PROPERTIES CHILDREN_CARDINALITY ON ROWS, NON EMPTY {[Measures].[QuantitySold.SUM]} ON COLUMNS FROM [Orders] CELL PROPERTIES VALUE, FORMATTED_VALUE, BACK_COLOR, FORE_COLOR, FONT_FLAGS",
       "updateMode": "once"
      },
      "serverKey": "default",
      "widgetKey": "pivot-table"
     }
    }
   },
   "outputs": [
    {
     "data": {
      "application/vnd.atoti.widget.v0+json": {
       "sessionId": "1717601103_7Y9TK8",
       "sessionLocation": {
        "https": false,
        "port": 9092
       },
       "widgetCreationCode": "session.widget"
      },
      "text/html": [
       "<img height=\"352\" width=\"1304\" src=\"data:image/png;base64,iVBORw0KGgoAAAANSUhEUgAABRgAAAFgCAYAAADQJhWiAAAAAXNSR0IArs4c6QAAIABJREFUeF7s3QmYXFWd///vuVXpDqQDokDoECSmu++p7pAANjsquCs4KLgAM/BjFAUcnRkUxhUcBRdABh1RcRmUERQQFUFBRUFWBbUBE5Kuc7sTg0BCBpBAEpJOV93z729xb/5F2Vs6SdfS73oeH0nq3nvOeZ1blapPncUIDwQQQAABBBBAAAEEEEAAAQQQQAABBBBAYIICZoLncRoCCCCAAAIIIIAAAggggAACCCCAAAIIICCbA0bvvccDgUYSMMYQoDdSh9IWBBBAAAEEEEAAAQQQQAABBBCoSQECxprsFiq1LQQIGLeFItdAAAEEEEAAAQQQQAABBBBAAAEERhcgYOQOaVgBAsaG7VoahgACCCCAAAIIIIAAAggggAACNSRAwFhDnUFVtq0AAeO29eRqCCCAAAIIIIAAAggggAACCCCAwHACBIzcFw0rQMDYsF1LwxBAAAEEEEAAAQQQQAABBBBAoIYECBhrqDOoyrYVIGDctp5cDQEEEEAAAQQQQAABBBBAAAEEEBhOgICR+6JhBQgYG7ZraRgCCCCAAAIIIIAAAggggAACCNSQAAFjDXUGVdm2AgSM29aTqyGAAAIIIIAAAggggAACCCCAAALDCTRcwLhs2TIJgkBe9rKX1UWPP/fcc/LII4/InnvuKS0tLSPW+a9//at472Xvvfeui3bVQiUJGGuhF6gDAggggAACCCCAAAIIIIAAAgg0usCIAeOdd95ZavvBBx8szc3NL3B49NFHRYO89vb2UjBWKw8N4NJ6H3HEEdusWn/7299k7dq18tKXvlSM2Uz2d9dftWpV6e9aW1vHXfbjjz8uzjmZN2+e7LXXXiOe97vf/U7iOJZXvOIV4772VD+QgHGq3wG0HwEEEEAAAQQQQAABBBBAAAEEJkNgxIDxjjvuKJW/4447yoEHHviCuuiIu+XLl9dcwKiVfOyxx0oh4OzZs7eZ34MPPijPPPOMHHbYYTJt2rQRr3v33XeXntuSEJCAcZt1099diIBx+9lyZQQQQAABBBBAAAEEEEAAAQQQQCAVGDNg1AMrR9fVcsC4PbqWgHF7qG7/axIwbn9jSkAAAQQQQAABBBBAAAEEEEAAAQRGDRiz2awUCoXSiMDyqdLDBYwDAwOydOnS0lRinaq8ww47lEY4vvjFL5Ynn3xSent7S+sizpkzp6T+l7/8RXSqtR6TTinu7+8XnWbc3d1dGjlZ/tCRiTpqUq+h/71x48ZSvXbeeWdZsGBBad1Ffdx3332l/z7ggAPknnvuKdVDr5c+tD2///3vZaeddpJ999239Ndab50GXSwWRdusde7s7Cw9p1OTBwcHS/+t5enzOpKx/KHrKPb09JSmMOtDy0+vr+U99NBD8uyzz5ZcMpmM7L777hKGYenYdASjTjXXOmzYsKFUzsyZM2WfffbZPGJyuCnS5fVuamoqTVfXadw8nhcgYOROQAABBBBAAAEEEEAAAQQQQAABBLa/wKgB4/Tp02XWrFny8MMPv2CqdGXAqMHZvffeK5s2bSodpyGcBmoalOn0ag2/dPqwhm77779/qVV/+MMfSmGaBoT77bff5r/T4PBVr3rV37Vc67BixYrS32tIpwHc+vXrS+Ff+XW1HA34NARMyzj88MNLddJHeh0NKjWMW7RokTz99NOlIG/GjBmybt26Uqi66667yvz58yWfz5cCUg0fX/SiF5XakoaPaSW13bqOogaE+tCAUtul1//jH/8oGkCqpf5PXTSInDt3bmnDljRg1PPSYFKP12tqOHrQQQeVrlkZMGpo+dRTT5Xqo+bpda21sscee2z/O6cOSiBgrINOoooIIIAAAggggAACCCCAAAIIIFD3AmMGjDpyUUcFavDX1tZWGoFYGTDqaETd5VjXPezo6CihPPHEE6WRgRrK6UhBHTWoIV26PmG6xqOGaq985StL5+gGLRqW6ejDykcaDGq4qOFhOmJRg00dPfnyl7+8FDqWB4zpZjRpmKfXTENHLVMDzj/96U+lTWwOOeSQUpHlYan+nT63NVOkNQjUa6QuWqbWQcNMbWcaMGp7tLx0jUetlwaoXV1dsttuu70gYNQAUoPL8gBSDdLRm1uyBmTd38GjNICAsZF7l7YhgAACCCCAAAIIIIAAAggggECtCIwrYNRwUcMrHZGoIdjq1atfsMnLAw88UBpBp9N+NQBMHzotWkcO6ghCDRs1dNRwUDdMWbJkSSmQXLlyZWmUo44a1OvoqD8dXThSwFgeYuoxOl1ap1anIWJ5wJjuKp0GcTpy8K677pKWlpbStGkNRTUcrdwNOw0zNRTU8rYmYEzboT4aAurIRK2vjjw89NBDNweMGiJqmJg+dNRkaqT1KB/BmAa8L3nJS0rTrdNHFEWlEFdHgI6223Wt3Hzbux4EjNtbmOsjgAACCCCAAAIIIIAAAggggAACIuMKGBUqDeN05J1Omy7fRVrXOtSAcKTHEUccUZo+vHjx4lKYpwGjBmg60k4DPx0VqWGghoU6YlKnEo8UMFZOAdbgToPJNKArDxj1Gmn4qSMWNcxctmyZ5HK5UhvS0FOnbes06/ShU4915KFONdbytiZgTEd3VranMmAsH2Wpx2oQqaM+0ynk5QFjWu+RvNPRnFP9BidgnOp3AO1HAAEEEEAAAQQQQAABBBBAAIHJEBh3wKiVSdcT1DBOg7105J9ucKJrF+p6gZUj5/TPOkVYHzotepdddikdq6MKNdjTKc466lGP05GSI03vTUcV7rXXXqVdrdNHOsU4HflYGTCmU7V1erceq9OL0zUedU1HvW5laJlOrU6nhE80YEynQ2v7tH66NqNaaHCoAaOOBk3rr4GnBp/pQ9eF1PUh078vDxjT0FIdNFitfAwX0E7GzVRrZRAw1lqPUB8EEEAAAQQQQAABBBBAAAEEEGhEgS0KGNN1/nS0oT7SgLGvr680OjAN5FIoHS2oawqmOxtrQKnX0Gm8Go5pWKibo2jIlu4Ine7sXImdBozpyL/0+TTcXLhwYSm8rAwY9TgdJamhm4aLeoweqw8dSanhoa7dqKP+0kcapOrUbV0T8s9//rOsWbNm8zqPI90IWrZOw04DzDSo1F2y012j0xGX6bqPacCY7k6dBrTp5jNp+FkeMKb1Tte3TOujfaC7eOs5PNhFmnsAAQQQQAABBBBAAAEEEEAAAQQQmAyBLQoYtUJpaFYeMGpoqBuXaLim6wLqNGodOagj+MrXFtRp1bp+oD7SnZ01ELv//vtLf6chnIZxwz3Kd5HW0Y86GlDDOj2/PHQcLmBMd1zW62qAqcFc+kg3fdF1GfXvdeSgbq6SbsKix6XTwzUU1Prp7s/DPdLp2HodPU6DS72+buCif1YfDRQ1oK0MGPV6+ne6e7WO8NQQUUNHXadRz6/cRTrdeEfL0NBULTQELd+wZjJuoFougxGMtdw71A0BBBBAAAEEEEAAAQQQQAABBBpFYIsDRm14usNx+eYoGnBpkDc4OLjZRkPABQsWbP5zOmVYRzXqZi/pQ0cYavim6ySmu0NXAqcBowZ1usmMHp+Gcjr6UENGfQwXMKYhpk5VrpyCraMpNeDU0Y3pQ8NGnb6d1kWP0aBQ10XUEYbpCMXKOuo6k7oxi9ZNRz7qCEgdxamhbPpQEw0C1aByirSuS6ll6UPbo2GoXkcflQHjcPXW4HW//fbbbNEoN+lE20HAOFE5zkMAAQQQQAABBBBAAAEEEEAAAQTGLzBiwDj+S7zwSA2+dESjhl3bcifjNGDUnZZ1VKSGlRrCle9aPdE6p+dpyJgGesNdKw3/xipTN7zRcLI8LNVRkTpNe6xzdR1KPUYDyPE+9NrqPVI4O97rNNpxBIyN1qO0BwEEEEAAAQQQQAABBBBAAAEEalFgmweM26uRlQHj9iqH6zaOAAFj4/QlLUEAAQQQQAABBBBAAAEEEEAAgdoVqJuAUTcw0TUcdQSjTjPmgcBYAgSMYwnxPAIIIIAAAggggAACCCCAAAIIILD1AnUTMG59U7nCVBMgYJxqPU57EUAAAQQQQAABBBBAAAEEEECgGgIEjNVQp8xJESBgnBRmCkEAAQQQQAABBBBAAAEEEEAAgSkuQMA4xW+ARm4+AWMj9y5tQwABBBBAAAEEEEAAAQQQQACBWhEgYKyVnqAe21yAgHGbk3JBBBBAAAEEEEAAAQQQQAABBBBA4O8ECBi5KRpWgICxYbuWhiGAAAIIIIAAAggggAACCCCAQA0JEDDWUGdQlW0rQMC4bT25GgIIIIAAAggggAACCCCAAAIIIDCcAAEj90XDChAwNmzX0jAEEEAAAQQQQAABBBBAAAEEEKghgc0BYw3ViaoggAACCCCAAAIIIIAAAggggAACCCCAQJ0IEDDWSUdRTQQQQAABBBBAAAEEEEAAAQQQQAABBGpRgICxFnuFOiGAAAIIIIAAAggggAACCCCAAAIIIFAnAgSMddJRVBMBBBBAoLEEnHNeW2St5d/ixupaWoMAAggggAACCCCAwJQT4EvNlOtyGowAAgggUAsCBIy10AvUAQEEEEAAAQQQQAABBLaFAAHjtlDkGggggAACCGyhAAHjFoJxOAIIIIAAAggggAACCNSsAAFjzXYNFUMAAQQQaGQBAsZG7l3ahgACCCCAAAIIIIDA1BIgYJxa/U1rEUAAAQRqRICAsUY6gmoggAACCCCAAAIIIIDAVgsQMG41IRdAAAEEEEBgywUIGLfcjDMQQAABBBBAAAEEEECgNgUIGGuzX6gVAggggECDCxAwNngH0zwEEEAAAQQQQAABBKaQAAHjFOpsmooAAgggUDsCBIy10xfUBAEEEEAAAQQQQAABBLZOgIBx6/wa4uzu7u4dN2zYsNPSpUsfb4gG0YiqCYRh+Gbv/fq+vr47q1YJCkagTgTGGzCGYbhnNpt9YunSpZuq0bSOjo7OIAj+uamp6YLFixc/PcE6BG1tbXs2Nzc/vXTp0nXjuYb+27Ru3bqjvfeLoyjKV55jrZ0tIodPmzbtzoceemj1SNfcZ599Zm3cuDHu7+9/YjzlcgwCCCCAAAIIIIAAAghsucCIAaO19gwRuUxETnXOfUcv3dHRMS8IgmUi8jPn3DFbXhxn1JKAtXahiHxdv6Al9VouIpc65768PeqZy+UO896/tqmp6atb8SV1e1Stoa7Z3d09bd26daUgoqmp6cXl1rlc7g3e+1+JyB+dcwdtTcM19DDGvKdYLP68v7//Ab2WtVbfH5xz7qituTbnjixgrT1HRM4vO2KR9/6OIAg+k8/nn8KufgTGCBhNGIafM8acOvQ+vbu2ynv/6ziO39Pf3//o9mxlLpc70Xs/K/23wFr7HhG5PAiC7t7e3vsrnx+rLmEY/osx5mtlx90lIic451aOdm7yHqNt/Yhz7ouVx3Z0dBwdBMHPvfevi6Lo1srnwzB8hTHmx6mfiDxqjDk+n8//rr29vTmTyWwUkW84596fnpvL5S7x3n+oWCzuvPPOO2+YjPfSsfx4HgEEEEAAAQQQQACBehAYMWDs6upqKhaLvSLS0tLS8rKenp7nwjC8whhzijFmYT6fX1wPDaSOwwskIz80FNrde/+fxhj9Eqeh8oEicrJz7qptbZfL5c7y3l+czWY7lixZ0r+tr8/1nhcoDxiHvlC/1zl3eWpjrb1WRN4lIrc75169NWZhGB5kjLnPGPPufD5/hV6LgHFrRMd3rrX2XBE5T0Q+KyIbvfdHGGNe772/d+bMma/V9+rxXYmjqi0wWsBorf2k9rGGiiJylTGmS0Q+KiKLROQVzrm126v+uVxOQ7sDnXOz0jLmzZu38/Lly5/RPw/3/Eh1aW9v3z+TydwvIvrDxpeNMR3e+68YY67J5/MnjtaGrQkYjzzyyOyqVav+JiLPGGPO9N4HInKJ/u7S2tq656OPPprRgNF7/60oik4ve4/8bxH5t8qAcXu+l26vfuS6CCCAAAIIIIAAAghMpsCoU6Rzudzbvfc/8t5/OAiC33jv9YvN5c6591prZ4rIl0TkH4aCqceNMV/P5/PfTEIGHRmnz71GRCL9MhFFUWn0QhiGvzfGPCgirfq8c26nyWwwZT0vEIbhx4wxX/DenxBFkYZO+qXxJd77pSKyaSiU2isZ4XhdHMcf7uvru2nu3Lkvam5uvi/tz+T5cfWz3kPGGP1yp/eNjiI5P5/Pf6u9vb0rk8lcMBR4Hamj6owx5+Xz+Tva29vbMpnMzcaYq733eo+tZlTc+O7eioBxuXOuTc9M+i+d3rg5YLTW6mjks0VkPxG52xhzbj6f7ynrgyu890frIGbv/f9ks9nPxHFsvfe/SUYGadBxnXPuVA0YvffLhqZTrtB7y3u/xHv/T319fTo6lsc2EEgDRmPMy/L5/Irk9XyxMUYD/P8XRdGVI702wzD8lDHmn4IgeENvb+/D8+fPf2mhUPi1MeZb+Xz+v7ZB9bjEFgiMFDAmP/ANaJg4MDBw8IoVK3SknQb4/yEiFxlj/jGfz1+dy+W+Fcfx3CiK3pA8rwHkezKZzILdd989XrVq1cdF5J9FZDd9bReLxdN09GMYhsfre60x5lLv/b8aYwpxHF8YRdH3rLU6c0F/bNJHFASBjmZ8mff+8yKi7xVnVj4fx7GG3S3OuVcl9+OxxpgLvPfvDYKg03v/TWPMG/P5/C1JPd/pvd89/Vww0ntQZcCo721r1669xBijP5I8LCI3JCHs341gTP5tWaLPO+c0lJfOzs5D4jg+IpvNfntgYGD9FgaMY76XbkHXcygCCCCAAAIIIIAAAg0nMNYajDpF63fGmPk6OiYZJTMniqLHrLU/EpG364gK732nMUa/xLzNOXejtVbXStrRGHPRUCh5XBIe7eucW2StfTYJme4xxvwhn89/uOFU66BBaf+1trZOu/322wtpla21OmX6/dls9iWbNm3qCILgXu/9iVEUXTN//vwXFwqFp3TEYxRF529JPw99ybw2juNzk6DqwiAIfjowMNA7bdq0hzTQ9N7rl0YdzbIwCIIFhUJhxyAINOzUxw+993emX0brgLeqVSwLGH8hIm/W7FjnLKfTHEXkHhEZ1BGMYRgeqK/DoeDgfmOM/pjwL0M/DuycyWTCwcHBXcr64CIR0RGPOsL1NZlMprdQKHzCGPOvGi4mAeN1yQjGecnfaShysoj82Dn3jqqiNFDhwwWMbW1te2Wz2b8aY76Uz+fPGum1aYzZI5kiX1r6wlr7bhHRJTB0RJzeFzwmUWCkgDEJiP88NEL1Y865C9MqpYGb9/6/oig621p7s+aO6Y8IYRiWguZisTh9aNSghoE/1CnAQ9OsH/Hefy55nb4rDMP3aaisP/YM/XDw/aGwTu+D3TOZzMxCofB6DQf1dyjv/VlDudy1xhgNMPU+2dd73zbM8xpI6tT99L3me/rab2lpmbF+/fr9vPd6b/3fUAh5sYj81jnXozO+kzByxPegQqGQSUbXl6ZIJwH5Z0TktqEp1vo5Q9+vdOr43wWMc+bM2WHGjBnpaN4L4zj+zeDg4N1pWJtOkR7nCMYx30sn8bahKAQQQAABBBBAAAEEalJgrIBRR0zo+nx3a+2T0WX/2dXV1VIsFnXU0g+NMR8tFotBsjbjD5xz/9TW1rZ7c3Pzc88991y2qanpTToKLR1xkQSMq1pbW+eXB1s1qdPAlbLWuqGRHdn0i2lZwFgaIaNBUhzHmVECxvO2tJ8rp0h3dHS8LggCHT2lX051+tzcoemev9UROHEc35uEW193zn2ggbtimzetLGDU0UynG2OuzOfzn7bW6utYlzbYW0R20IDRWqtTbc/NZrN7L1my5K+6SYsx5uZk9OGipA8udM59rLOzsyOO4ygdETTKFGldhLFdv/ePdJ9t80ZPoQsOFzDq27O1NjbG3JTP598y0mtzxowZP1q3bp2u0/hL59y7rLUaQB3hnNPNMopTiLEmmjpSwJjL5Y7z3v+4fIR5UuFgqP+1n0rrII8WMO68886ZNWvWtDQ3N68JgmCXwcFBnYGgr81ZacAYx/FbdHR6GjSnowwrp0CXBdGlHworn0+nQXvvPxBF0TettTpSWuv4T0mIqGswamipI9j18Wgcxzqy+c7R3oOSEdWb12C01mroqsu25Hp6egattXpN/ZFz2DUYc7ncERogalialLvWe/9x/bFqCwPGMd9La+KGohIIIIAAAggggAACCFRRYMyAUetmrdXQ58jBwcEX6RpMZWsqVVZ9kXNuX2vtR5LRDOmXCT2utK5fEjD+wjl3fBXbPeWL3gYjGM/b0n6uDBhzudwHvfeXDtMZFw1N+7tCwy0NH9Op91O+08YJkAaMxhgNi6d573VKo05d1BE/rxgavahru6UB409F5K3OudJ7QTJl9mHv/ae99z8s74Oy6+oouQ+PEjD2OefelLx36PUPLV/LbZzN4LARBIYLGNvb2+dkMplHdBmCZATjaO/BpVHKzc3NLQMDA6uMMf/DSPLq3G7jGMH4Ueec/uBTemzJCMZsNtvqvdf1V3Wpks0Pfa2nAWMmk9ln6dKlS5Ig7vZkFsINWxowJq/1ZUMbqPTqe4cud5FeKy1Y3z/Wr1+vI6B16RWdubDWObeztfb6kd6DROR/ykcwWmt11KMux6BTpPWzyTuTEe7DBoxp2Z2dnft479/ovdfXxe7FYnH+0GeSZckmL6VlX8qMLzXGfLB8DcbxvJdW5w6iVAQQQAABBBBAAAEEakdgvAFjaWOINIRI1up7Ur9IzJw5c/POjk899VQ8Y8aMOYVCoU/XajTG6LpMOs1KR6dtDhiTUTajLu5eO0SNWZNcLvfxZE2tdwVBcHccx7r23h+GpiLrl9HSGoxl02fPdM799/z589u1b3WK9LRp036wpf2cBoxl0+h0Cp+uofXalpaWe8ukB5999tn2JNw6XddqbMxe2D6tqggYddrzX5Jp0a06stBae1MaMKZTKtPdppOdvu8ZOueUoensfyzvg5ECxvKd5is3ebHWEjBu424eLmBMR3Lp+2w2m713jNemTnXXKaa6Lt35xpjDdVfdbVxNLjcOgfGuwdjU1PQRY8z7dN3TZDmSk5xz37fW3qjrIKdLXYRh+F19XqdIB0Gg6x6eomsOTp8+ffGmTZt+MrRZTHvy3l6aIq1BW39//9JtETCWTV/Wf/fP0enRuuGQrq/ovd9/06ZNF5atJVn6TKEhXhAEui7oWcO9B4nIrRUBo4683+ic0/VidYS0jizUtR7/LmDUaebe+2OHlnv4QW9vr34m0UBSR8tf5r0/KoqiX1hrV+sa0un1khBX14mer+Fnd3d3VneRTgLGUd9Lx9HdHIIAAggggAACCCCAQEMLTChgTD6o67ptuWSNtSYNFIcWgv/fbDb7jWKxqOvqldZ+SkYyamhFwFhDt1LZLtI7iIiGxG8TkZcnVSz1VRokJxv1fDYIguN1DUUNGLPZ7I+3tJ/DMDwh2bTlq8aYr2YymWeKxeKqJPz6lPdedyX+gn7xjOP4IQLGid0w5QFjPp+/OB2BrK9F59znkmmV6QhGHWn4C2PM9XEcX2mM0U0hDtSdvjdt2jRttIAxHe2oO1J778+NouhuAsaJ9dmWnFW+i/TQEhUbvPc6OvWN+jpqaWl5w4YNG1422muzbHddHWH+f0yP3hL9bXvsGLtI65qG5ye7SN+g75lJ6bpMwQG6i3Qul/uvsg20dEM1/TdXkjUYdR1EHen3NmPMLN1oRacmjydgTDd60SnP06ZNu6ZQKLw1XYMxWUu5tBFM+vySJUv+pqME4zjWJRj0cZVzTtdf1VGXpfd93TU6juPvBUGwl/de12LUkc7d1toR34MGBwc3VKzBWBpdODQK8eu6IVlqkgaMyQ8aAzpDIl2XNFlfVtef1LUa9d+XUNcY1jqHYVi6nn520R8+k9fRqelmdlvyXrpt7wyuhgACCCCAAAIIIIBA/QlMOGBMpmrpKARdo1Efv/LenxRFkX5ov8wYc1rygf6KihEXzzKCsTZulGSEh45yOaS8RkM7BZc28tG/S9fHSp7XL6/6pVI3efnslvbzvHnzdp42bZqOnNIgs7R5gbVWw2f9slpaIyvZpOI/Ojo6QgLGid0nlV+KwzA82RjzvaEAsU13cy4PGJM+1inUGizuLiK62/OHdLOmjo6OztECxuTc/9ERjPr612nRBIwT67MtOassYExP07X1bk/WyNX1FYPRXptJv/23iPxbOqV6S8rn2G0nMFrAmKyrqYFYaQOWtFQN6vL5fGkGgLX2ZUNToO8cmko8R8NDY8yf9UcgDRiz2axOC9ZNYPRcvUd0V2odxayj00cdwZiMXv+a/tigI1y997Y8YKx8Ph0Bm6y5qu/luuyCjq4UDbRXrlypO1bre8zmezabzb59yZIl/aO9B1XuIm2t1VBcN5XSQF3Xgb5Kp/snAeNtyeZGOsJx3+S6OoVap4mny7XoGozH6+hFfX7u3LnTm5ubdYR8KQxNHj9saWl5t46+3NL30m13Z3AlBBBAAAEEEEAAAQTqT2BcAeNozVq4cOEMfX7RokXry4/THRynT58e9/f365caHjUs0N7evlNzc/OLNmzY8My0adN+PTTlrsc59/60yslunLohjH6he8Fjgv2cqdxQYsGCBbs0NTWt04X7a5iqkatmFixY8KLFixfr5gxb+giSE+ItPZHjt5/ASK9Nfa0NDg5eqUGU7tje29urI855VEFgjIAxrZHp6Oh42U477fT4+vXrT9Z1BI0xb8vn8+loQdHR5vl8fs1wG/XoDzu6dvIEm/d379UV10mfD3K53Eu99/fp8wMDA3un06HT4zWs27hx495BEDw1wvvMuN+Duru7d+zp6dHPFi/YmEjLmDlzpq/YQM7Mnz9/r4GBAf08ohvG/N1DN3yZNm3aSzds2PBIZb0n6MZpCCCAAAIIIIAAAghMOYGtDhinnBgNRgCSSuV9AAAgAElEQVQBBOpUQH8QGhgYWKfVN8Z8RncXr9OmNES1xxkw1nxbc7ncG5K1liXdmbrmK00FEUAAAQQQQAABBBBAYJsKEDBuU04uhgACCNS0QCYMw25d1845t7KmazoFKtcoAePcuXNftMMOO8wbGBhYthWjJadAj9NEBBBAAAEEEEAAAQQaV4CAsXH7lpYhgAACCNSwQKMEjDVMTNUQQAABBBBAAAEEEEBgkgQIGCcJmmIQQAABBBAoFyBg5H5AAAEEEEAAAQQQQACBRhEgYGyUnqQdCCCAAAJ1JUDAWFfdRWURQAABBBBAAAEEEEBgFAECRm4PBBBAAAEEqiBAwFgFdIpEAAEEEEAAAQQQQACB7SKwOWBMv+hsl1K4KAIIIIAAAgggMAUFrLX8mDsF+50mI4AAAggggAACU02AgHGq9TjtRQABBBBAAIFJEyBgnDRqCkIAAQQQQAABBBCoogC/qlcRn6IRQAABBKauAFOkG7/vtY8JGBu/n2khAggggAACCCCAgAgBI3cBAggggAACVRAgYKwC+iQXScA4yeAUhwACCCCAAAIIIFA1AQLGqtFTMAIIIIDAVBYgYGz83idgbPw+poUIIIAAAggggAACzwsQMHInIIAAAgggUAUBAsYqoE9ykQSMkwxOcQgggAACCCCAAAJVEyBgrBo9BSOAAAIITGUBAsbG730CxsbvY1qIAAIIIIAAAggg8LwAASN3AgIIIIAAAlUQIGCsAvokF0nAOMngFIcAAggggAACCCBQNQECxqrRUzACCCCAwFQWIGBs/N4nYGz8PqaFCCCAAAIIIIAAAs8LEDByJyCAAAIIIFAFAQLGKqBPcpEEjJMMTnEIIIAAAggggAACVROoesA4f/78lxYKhYONMbfl8/mnqiZBwQgggAACCEyiAAHj+LDDMNw1juNN/f39z47vDDHW2tZMJvPk0qVLN412Tnd3944bNmwIli5dum644xYsWLDL4sWL14iIH2fZLziMgHEiapyDAAIIIIAAAgggUI8CIwaM1tpzROT8ERr1VufcjSM1OJfLnei9n+Wc+/JYKGEYHm+MuSYIgkN7e3vvHet4nkcAAQQQQKARBAgYR+/Ftra2vbLZ7E9FpENEZorID1taWt7d09PznJ7Z0dFxdBAE3xGRnzjn3q9/l8vljvTep59P9JyPOecuHKYkE4bhN4wxpyXPXdna2vqe22+/vaB/tta+U0QuT8pd673/dBRFl5Rfp7u7e9q6devuEZED4zhu6+vrW15ZDgFjI7xSaQMCCCCAAAIIIIDAeARGDBg7OzsPieP4kOQiXxIR/eB8qf45m83+fMmSJf2jBIw/994f6JybNVYlCBjHEuJ5BBBAAIFGFCBgHL1XrbU/FJGnnHMfaG9vf0kmk7nfGHNuPp+/wlp7noicKSIPeu97oyg6fehH0Yy19mljzOn5fP7qMAwPMsbcl81mOyo/s4Rh+D5jzGdFZP9CoVDIZrN3ee+/qSFiW1vb7tlsdrWIvMY599uOjo6DgyDQH0DnOef+ktY6l8t93Ht/tIgcXiwW2/v7+5cRMDbiK5U2IYAAAggggAACCIxHYFxTpK21Oi3pbufcUelFrbXHiMjZIrKfPpd86O+x1l4mImckx0VBEJw4a9asRatWrfq4iPyziOymxxeLxdP6+/sfJWAcTzdxDAIIIIBAowkQMI7eo2EYfiiO4xvT4M5ae62IRM65c6215wdB8PVisfhBEdlVA0adzjwwMPCvs2fP/nzZSMRnjTHvyOfzt5SXZq291Xv/4yiKvq5/b609SUQ+5Jzr3meffWYVCoV903O6urqaisXiQBAE3b29vffr8fPnz28vFAp9xWJxfiaTWULA2GivTtqDAAIIIIAAAgggsKUCEwoYwzA80BjzBxHR0QQ/8t7/i4jsnMlkwkKhcKgx5gIRCb33Z4nItcaYw3Rqk4jodKRHvPefG/p8fp1z7l0EjFvaZRyPAAIIINAIAgSM4+/F9vb23TKZzLI4jo/r6+v7TXpmGIb6eaIUMFZezVr7GhG51Riza+Uaz9ZaHaF4onPutiRgPEBE/uicC9L1Fjs7Ozs0ODTG6I+jM1tbW48pCy5v9N4/FEXROdbaIgHj+PuSIxFAAAEEEEAAAQQaU2BCAWMyNencbDa795IlS/4ahuGbjTE3e+9PiKLo2lwu94Ip0rqI+po1a1qam5vXBEGwy+Dg4CLl1CnUBIyNeWPRKgQQQACB0QUIGMd3hxx55JHZlStX3myMedY5947ys0YKGK21s0XkAe/9eVEUfa2ipEBDQe/9flEU/Vmf6+jomBcEgU5x3sk5tzYJHT+ZzMiYIyInO+e+r+FjR0fH64Ig0P9ud86tJ2AcXz9yFAIIIIAAAggggEBjC0w0YNRF13Wjl9L5yU7QDyeLoH+mMmDM5XJzvfe6WLqOJtj80PMJGBv7BqN1CCCAAALDCxAwju/OSJZeOSyTyRxeudvzcAFjV1dXS7FYvMMY05PP59NNXF5QmLX2kaEZFaem06CTdadvcc7tVFkra+1CEfmzbkY3a9asPz3++OMaSn5R14IUkVJYOdw6j3odNnkZXx9zFAIIIIAAAggggED9C0woYAzD8GJjzFlNTU0vXrx48dO5XO4w7/093vtToij6XmXAGIbhFcaYU+I4PmL69OmLN23a9JPkl/+9CBjr/yaiBQgggAACWy5AwDi2WS6XO9t7/+8icrBzbmXlGZUBo452XLVq1Y+GNnDJzpgx49ienp7B4Uqx1v5SRG5zzl2kz1trz0g+wxyqy8CISFsURdek5ybH353NZr9XKBQeHu6axpi35/N5/Xyz+UHAOHYfcwQCCCCAAAIIIIBAYwhMKGC01r5p6MP+L4wx18dxfKUxRjdwOTD9BT/d6MV7/4Fp06ZdUygUdOOXdw3t9vg2Y8ws3alRRB51zhEwNsZ9RCsQQAABBLZQgIBxdLBcLnecbsQSx/Hrh5ZgyevRQRBsjKLoyfTMyoDRWvsl3V06juOuoXWgS1OdM5nMMzrt2Vr71mKx+JBuGhOG4QnGmG8Vi8X9m5ubBwuFgv5IqtOpv93e3r6/7litsy5aW1vvWr169QFxHN+im8Xssccetz3xxBNz0/ILhUJGRPLe+9dNnz793kWLFq0nYNzCFwKHI4AAAggggAACCDSEwIQCRm25tfZMEdFgcXcRWZ7svnijPpdsAqNrHulmMIcPHTfgvb85OVbXXxwQkVYCxoa4h2gEAggggMAEBAgYR0ez1uqaiPPKjzLG3JTP598yXMCYrLv4WOVVdcO52bNnf2XVqlWD3vuDoyjSTer0c4z++HlGcvyVzjndzCVOnnu/iFyom7uIyFpjzBfy+fwXhqlxxlpbYJOXCbwAOAUBBBBAAAEEEECgoQTGFTCO0mKzYMGCF+k06RGO0V/2i+lz8+bN23n58uXPNJQgjUEAAQQQQGACAgSME0Cb4CnJJi4Ptra2vjjdCVovpZ9L4jg2K1asWDPMpU1bW9tuy5Yt0xGTpeBxSx9Mkd5SMY5HAAEEEEAAAQQQqFeBrQ0Y67Xd1BsBBBBAAIGqChAwTh5/Lpd7g/f+VOfc8ZNXKpu8TKY1ZSGAAAIIIIAAAghUV4CAsbr+lI4AAgggMEUFCBgnr+MXLlw4w3vfNMqMi+1SGUYwbhdWLooAAggggAACCCBQgwIEjDXYKVQJAQQQQKDxBQgYp0YfW2v5rNX4XU0LEUAAAQQQQACBKS/Ah94pfwsAgAACCCBQDQECxmqoT26ZjGCcXG9KQwABBBBAAAEEEKieAAFj9ewpGQEEEEBgCgsQMDZ+5xMwNn4f00IEEEAAAQQQQACB5wUIGLkTEEAAAQQQqIIAAWMV0Ce5SALGSQanOAQQQAABBBBAAIGqCWwOGNMvOlWrCQUjgAACCCCAAAINJsAajA3WoTQHAQQQQAABBBBAYFgBRjByYyCAAAIIIFAFAUYwVgF9kotkBOMkg1McAggggAACCCCAQNUECBirRk/BCCCAAAJTWYCAsfF7n4Cx8fuYFiKAAAIIIIAAAgg8L0DAyJ2AAAIIIIBAFQQIGKuAPslFEjBOMjjFIYAAAggggAACCFRNgICxavQUjAACCCAwlQUIGBu/9wkYG7+PaSECCCCAAAIIIIDA8wIEjNwJCCCAAAIIVEGAgLEK6JNcJAHjJINTHAIIIIAAAggggEDVBAgYq0ZPwQgggAACU1mAgLHxe5+AsfH7mBYigAACCCCAAAIIPC9AwMidgAACCCCAQBUECBirgD7JRRIwTjI4xSGAAAIIIIAAAghUTWBcAaO1draIrHXOrR2mpsZa2+qcWzlcK+bMmbNDc3PzrsuWLXtMROKqtZSCqyIwf/78lxYKhYONMbfl8/mnqlIJCkUAAQRqUICAcXydEobhrnEcb+rv7392fGdI6XNJJpN5cunSpZtGO6e7u3vHDRs2BEuXLl033HELFizYZfHixWtExI+z7BccRsA4ETXOQQABBBBAAAEEEKhHgVEDxlwud4T3/ocisnvSuJ8Vi8WT0g/5YRgeb4z5SvL8/4nIB51z1+mxc+fOnd7c3PxtETkpOVfDyZOcczeWQ3V0dLwuCIJf699574+KougX9QhZb3W21p4jIuePUO+3VvZT+XG5XO5E7/0s59yXx2p3co9cEwTBob29vfeOdTzPI4AAAlNFgIBx9J5ua2vbK5vN/lREOkRkpoj8sKWl5d09PT3P6ZkdHR1HB0HwHRH5iXPu/fp3uVzuSO99+jlDz/mYc+7CYUoyYRh+wxhzWvLcla2tre+5/fbbC/pna+07ReTypNy13vtPR1F0Sfl1uru7p61bt+4eETkwjuO2vr6+5ZXlEDBOlVcz7UQAAQQQQAABBBAYMWDs6upqKhaLAyJyvzHmrDiOjzDGfFpEPuKc+2J7e3tbJpPp995raKQf3j9qjDkk/ZCdy+XO8t5fbIz5D+/9/SKiYeO8TCbTnI4oSELIJSKym36Ij+P4LX19fTfRLdtfoLOzU/vqkKSkL4mIfjG6VP+czWZ/vmTJkv6RapHL5X7uvT/QOTdrrJoSMI4lxPMIIDBVBQgYR+95a63+wPmUc+4D7e3tL8lkMvp55Nx8Pn+FtfY8ETlTRB703vdGUXT60I9mGWvt08aY0/P5/NVhGB5kjLkvm812VP6bFobh+4wxnxWR/QuFQiGbzd7lvf+mhohtbW27Z7PZ1SLyGufcbzs6Og4OgkA/68xzzv0lrXUul/u49/5oETm8WCy29/f3LyNgnKqvZtqNAAIIIIAAAgggMGLAOH/+/PZCofBV7/0Xoyi69cgjj8yuWrVqUER+4Jz7pzAMP2aM+YIx5oB8Pt+Ty+W6vfd/SkcLhGH4n8aYNufc/1PmXC73Ce/957z3nVEU5ZO/0w/nnzfGvNt7/10CxurckNZanXZ2t3PuqLQG1tpjRORsEdlPn0u+1PVYay8TkTOS46IgCE6cNWvWolWrVn1cRP45CYvvLhaLp/X39z9KwFidPqVUBBCofQECxtH7KAzDD8VxfGMa3FlrrxWRyDl3rrX2/CAIvl4sFj8oIrtqwKjTmQcGBv519uzZny8bifisMeYd+Xz+lvLSrLW3eu9/HEXR1/XvrbU62+JDzrnuffbZZ1ahUNg3PSf9wTUIgu7e3l79wVSSz0h9xWJxfiaTWULAWPuvN2qIAAIIIIAAAgggsH0FxrUGo1YhmYr0c2PMv+Xz+UvDMLzCGHOKcy4rIsVk5EDBe39FFEXvLq92Ek7+TnPGgYGB3VesWLGxvb19TiaTecR7r0HkrRpiETBu384e6eqVAWMYhgcaY/6QjF79kff+X0Rk50wmExYKhUONMRcMBc2h9/4sEbnWGHOYTl0TEZ1upn36uaHvX9c5595FwFidPqVUBBCofQECxvH3UXt7+26ZTGZZHMfH9fX1/SY9MwxD/femFDBWXs1a+xoRudUYs2vlGsDWWh2heKJz7rYkYDxARP7onAvS9RY7Ozs7NDg0xuiPZzNbW1uPKQsub/TePxRF0TnW2iIB4/j7kiMRQAABBBBAAAEEGlNgXAFje3t7VyaTuVfDo40bN3ZrQDj0wf1O/dG/fJps8oF9qXPu1WVcuti6jhA4w3t/YhRF1+hzSUD55paWlpetW7dufwLG6t1glQFjMvXs3Gw2u/eSJUv+Gobhm40xN3vvT4ii6NrKKdK6SP6aNWtampub1wRBsMvg4OAibY3eGwSM1etXSkYAgdoWIGAcX//oj5QrV6682RjzrHPuHeVnjRQwJpvTPeC9Py+Koq9VlBRoKOi93y+Koj/rcx0dHfOCINApzjulG9pZaz+ZjNifIyInO+e+r+Fjsna0/ne7c249AeP4+pGjEEAAAQQQQAABBBpbYMyAMZfLzfXe3ycim7z3h0RRpLtBpwHhmCMY07BKRM5xzulIA2lvb98/WUvpbGPMD4rFou4yfL33/n2FQuG65cuXP9PY7LXVumECRl1UXzd6Kd0fyU7QDyeL3H+mMmBM7hFdDF9Hi2x+6PkEjLXV19QGAQRqR4CAcXx9kSzNcVgmkzm8crfn4QLGrq6ulmKxeIcxpiefz6ebuLygMGvtI0M/mp6aToNO1iW+xTm3U2WtrLULReTPulnZrFmz/vT4449rKPlFXQtSREph5XDrPOp12ORlfH3MUQgggAACCCCAAAL1LzBqwNjV1bVHsVjUHRJbstns4eWLpKdrMKZrElWuwZiEkB82xvyXTqnN5/O6Rl/pYa19T7I7498Jeu8/OMxog/qXruEWDDNFWjfnOaupqenFixcvfjqXyx3mvb/He39KFEXfqwwY0+nyuhHQ9OnTF2/atOknyciOvQgYa7jjqRoCCFRVgIBxbP5cLne29/7fReRg59zKyjMqA8ZkSZYfDW3gkp0xY8axPT09unb03z2stb8Ukduccxcln0t0loX+G3eoLhMiIm3pjIvkeT3+7mw2+71CofDwcNc0xrw9n8/rv3+bHwSMY/cxRyCAAAIIIIAAAgg0hsBou0jrCAANFxcaY74dx/GDSZP/ph+6K3aR1g/oHynfRTpZMP1KPUdDw3RNoziOf9Xc3Dy4adOmBSlhEAQ6Rfp8Y8x5uoZj+S6NjcFc260YZgTjm4a+zP1CR5UO7Qp+pTFGw+ED0xEa6UYv3vsPTJs27ZpCoaAbv7xraDfPtxljZulOnCLyqHOOgLG2u57aIYBAFQUIGEfHz+Vyx+lGLHEcv35oiY7S5nBBEGyMoujJ9MzKgNFa+yXdXTqO466hdYLX6nGZTOYZnfZsrX1rsVh8SDeNCcPwBGPMt4rF4v76maRQKOiPaDqd+tvpLAsdld/a2nrX6tWrD4jj+BbdLGaPPfa47Yknnpibll8oFDIikvfev2769On3Llq0aD0BYxVfVBSNAAIIIIAAAgggUDWBEQPGjo6OziAIllbWzBizNJ/Pz9e/Tz6g/7eI7C4i/yciH3TOXafPWWt1faJ/HKZlb3PO3VD+99ZaXbPxNu/9UVEU/aJqGlO04BF2kT5TRDRY1L5dnuyueWPS77oJjK5ppf9/+NBxA977m5Njdf3FARFpJWCcojcUzUYAgXEJEDCOzmSt1TUR55UfZYy5KZ/Pv2W4gDFZd7G0jEv5Qzckmz179ldWrVo16L0/OIoi3cRMP6foj2NnJMde6ZzTzVzi5Ln3i8iFurmLiKw1xnwhn89/YZgaZ6y1BTZ5Gdctz0EIIIAAAggggAACDSww5hqM42i7rj+0t3NOpwyVPpjzaBgBs2DBghfpNOkRWqQjN3QH8dJj3rx5O7N+ZsP0PQ1BAIHtLEDAuJ2Byy6fbOLyYGtr64vTnaDTf7fiODYrVqxYM0xtTFtb227Lli3TEZMT+nzDFOnJ62NKQgABBBBAAAEEEKiuwLYIGKvbAkpHAAEEEECgDgUIGCev03K53Bu896c6546fvFLZ5GUyrSkLAQQQQAABBBBAoLoCBIzV9ad0BBBAAIEpKkDAOHkdv3Dhwhne+6ZRRuRvl8owgnG7sHJRBBBAAAEEEEAAgRoUIGCswU6hSggggAACjS9AwDg1+thay2etxu9qWogAAggggAACCEx5AT70TvlbAAAEEEAAgWoIEDBWQ31yy2QE4+R6UxoCCCCAAAIIIIBA9QQIGKtnT8kIIIAAAlNYgICx8TufgLHx+5gWIoAAAggggAACCDwvQMDInYAAAggggEAVBAgYq4A+yUUSME4yOMUhgAACCCCAAAIIVE1gc8CYftGpWk0oGAEEEEAAAQQQaDAB1mBssA6lOQgggAACCCCAAALDCjCCkRsDAQQQQACBKggwgrEK6JNcJCMYJxmc4hBAAAEEEEAAAQSqJkDAWDV6CkYAAQQQmMoCBIyN3/sEjI3fx7QQAQQQQAABBBBA4HkBAkbuBAQQQAABBKogQMBYBfRJLpKAcZLBKQ4BBBBAAAEEEECgagIEjFWjp2AEEEAAgaksQMDY+L1PwNj4fUwLEUAAAQQQQAABBJ4XIGDkTkAAAQQQQKAKAgSMVUCf5CIJGCcZnOIQQAABBBBAAAEEqiZAwFg1egpGAAEEEJjKAgSMjd/7BIyN38e0EAEEEEAAAQQQQOB5AQJG7gQEEEAAAQSqIEDAWAX0SS6SgHGSwSkOAQQQQAABBBBAoGoCBIxVo6+tgsMw3DObzT6xdOnSTbVVM2pTywLz589/aaFQONgYc1s+n3+qlutK3RCoNQECxvH1SBiGu8ZxvKm/v//Z8Z0hxlrbmslknhzr37Tu7u4dN2zYECxdunTdcNdesGDBLosXL14jIn6cZb/gMALGiahxDgIIIIAAAggggEA9ChAw1mOvbbs6mzAMP2eMOVVEdtfLeu9/Hcfxe/r7+x9NiwnD8FhjzP+KyMzm5uaWRYsWrd92VeBK20PAWnuOiJw/wrXf6py7caRyc7ncid77Wc65L49VtzAMjzfGXBMEwaG9vb33jnU8zyOAwP8vQMA4+t3Q1ta2Vzab/amIdOi/PyLyw5aWlnf39PQ8p2d2dHQcHQTBd0TkJ8659+vf5XK5I7336fubnvMx59yFw5Sk//59wxhzWvLcla2tre+5/fbbC/pna+07ReTypNy13vtPR1F0Sfl1uru7p61bt+4eETkwjuO2vr6+5ZXlEDDyikcAAQQQQAABBBCYKgIEjFOlp4dpp7X2kyLyWQ0VReQqY0yXiHxURBaJyCucc2tzudwXvPcfS08nYKyPG6azs/OQOI4PSWr7JRHRL76X6p+z2ezPlyxZ0j9KwPhz7/2BzrlZY7WWgHEsIZ5HYGQBAsbR7w5r7Q9F5Cnn3Afa29tfkslk7jfGnJvP56+w1p4nImeKyIPe+94oik4f+lElY6192hhzej6fvzoMw4OMMfdls9mOyve8MAzfZ4z5rIjsXygUCtls9i7v/Tc1RGxra9s9m82uFpHXOOd+29HRcXAQBPoDyjzn3F/SWudyuY97748WkcOLxWJ7f3//MgJGXvEIIIAAAggggAACU1WAgHGK9nxXV1dTsVgc0DBxYGDg4BUrVmxUCmvtf4jIRcaYf9QvaNbaO0XkW957nQb7QQLG+rthrLU6rfBu59xRae2ttceIyNkisp8+l3xp77HWXiYiZyTHRUEQnDhr1qxFq1at+riI/LOI7KbHF4vF03SUKwFj/d0P1Lh2BAgYR++LMAw/FMfxjWlwZ629VkQi59y51trzgyD4erFY/KCI7KoBo05nHhgY+NfZs2d/vmwk4rPGmHfk8/lbykuz1t7qvf9xFEVfT/7tO0lEPuSc695nn31mFQqFfdNz0n8vgyDo7u3tvV+Pnz9/fnuhUOgrFovzM5nMEgLG2nldURMEEEAAAQQQQACB6ggQMFbHveqlWmsXisifK6eP6VqMxphHvff/FUXR2cn6U0+HYXgpAWPVu21CFagMGMMwPNAY8wcR0dFAP/Le/4uI7JzJZMJCoXCoMeYCEQm992eJyLXGmMN0aqKI6HTCR7z3nxv6fn2dc+5dBIwT6hJOQqAkQMA4/huhvb19t0wmsyyO4+P6+vp+k56py3ykAWPl1YZ+IHuNiNxqjNm1co1Ya62OUDzROXdbEjAeICJ/dM4F6XqLnZ2dHRocGmP0x5WZra2tx5QFlzd67x+Kougca22RgHH8fcmRCCCAAAIIIIAAAo0pQMDYmP06ZqtyudxxOnrDe39CFEU6KiR9BPplSUR+5pzTUW6lBwHjmKQ1e0BlwJhMLTw3m83uvWTJkr+GYfhmY8zN6b2Qy+VeMEVaN0FYs2ZNS3Nz85ogCHYZHBzUKfQajswiYKzZbqdidSBAwDi+TjryyCOzK1euvNkY86xz7h3lZ40UMFprZ4vIA97786Io+lpFSaV/57z3+0VRpD+06XqO84Ig0CnOO+nyIPp3yTIiOqJ7joic7Jz7voaPHR0drwuCQP+73Tm3noBxfP3IUQgggAACCCCAAAKNLUDA2Nj9O2LrykYwftQ5d1FZkPiCEYwEjPV/gwwTMOqmCbrRS+n1n+wE/XCyicFnKgPGXC4313uvmx3oaKDNDz2fgLH+7w9aUD0BAsbx2SdLNxyWyWQOr9ztebiAsaurq6VYLN5hjOnJ5/PpJi4vKMxa+4hucJZOg07Wrb3FObdTZa3Sfy91M6tZs2b96fHHH9dQ8ou6FqSIlMLK4dZ51Ouwycv4+pijEEAAAQQQQAABBOpfgICx/vtwQi2oXIOxqanpI8aY93nvf5NMBzspGa1Ruj4jGCfEXBMnDTNF+mJjzFlNTU0vXrx48dO5XO4w7/093vtToij6XmXAGIbhFcaYU+I4PmL69OmLN23a9JNk5M5eBIw10cVUok4FCBjH7rhcLne29/7fReRg59zKyjMqA0Yd7bhq1aofDW3gkp0xY8axPT09g8OVYq39pYjclv7AZq09I3kPPFSXkRCRtl6Eo+wAACAASURBVCiKrknPTY6/O5vNfq9QKDw83DWNMW/P5/P6/rj5QcA4dh9zBAIIIIAAAggggEBjCBAwNkY/TqgV1tpzhnbdPD/ZRfqGoXWqvppcKBKRA9JpYgSME+KtmZOGGcH4pqEv678wxlwfx/GVxhjdwOXAdAROutGL9/4D06ZNu6ZQKOjGL+8a2q31bcaYWbrTqog86pwjYKyZXqYi9ShAwDh6r6VLecRx/PqhJRzyenQQBBujKHoyPbMyYLTWfkl3l47juGtoHdnSVOdMJvOM/ntmrX1rsVh8SDeNCcPwBGPMt4rF4v7Nzc2DhUJBf2TR6dTfbm9v3193rNZR262trXetXr36gDiOb9HNYvbYY4/bnnjiiblp+YVCISMiee/966ZPn37vokWL1hMw1uOrkTojgAACCCCAAAIIbK0AAePWCtb3+cZa+wURebeI7J42xRhzTT6fP7G8aYxgrN+OHmEX6TNFRINF7fflye6pNyZhsm4Co2uW6f8fPnTcgPf+5uRYXX9Rdx9vJWCs33uCmteGAAHj6P1grdU1EeeVH2WMuSmfz79luIAxWXfxscqr6oZVs2fP/sqqVasGvfcHR1Gkm1zpGov644musaiPK51zuplLnDz3fhG5UDd3EZG1xpgv5PN5/fey8pEZ+rGuwCYvtfGaohYIIIAAAggggAAC1RMgYKyefS2VbDo6Ol620047Pb5+/fqTvfc6Xfpt+Xx+cS1VkrpscwGzYMGCF+k06RGurCNzdMOf0mPevHk7L1++/JltXgsuiMAUFSBgnLyOTzZxebC1tfXF6U7Q6ftaHMdmxYoVa4apjWlra9tt2bJlOmKyFDxu6YMp0lsqxvEIIIAAAggggAAC9SpAwFivPUe9EUAAAQTqWoCAcfK6L5fLvcF7f6pz7vjJK5VNXibTmrIQQAABBBBAAAEEqitAwFhdf0pHAAEEEJiiAgSMk9fxCxcunOG9bxplxPZ2qQwjGLcLKxdFAAEEEEAAAQQQqEEBAsYa7BSqhAACCCDQ+AIEjFOjj621fNZq/K6mhQgggAACCCCAwJQX4EPvlL8FAEAAAQQQqIYAAWM11Ce3TEYwTq43pSGAAAIIIIAAAghUT4CAsXr2lIwAAgggMIUFCBgbv/MJGBu/j2khAggggAACCCCAwPMCBIzcCQgggAACCFRBgICxCuiTXCQB4ySDUxwCCCCAAAIIIIBA1QQ2B4zpF52q1YSCEUAAAQQQQACBBhNgDcYG61CagwACCCCAAAIIIDCsACMYuTEQQAABBBCoggAjGKuAPslFMoJxksEpDgEEEEAAAQQQQKBqAgSMVaOnYAQQQACBqSxAwNj4vU/A2Ph9TAsRQAABBBBAAAEEnhcgYOROQAABBBBAoAoCBIxVQJ/kIgkYJxmc4hBAAAEEEEAAAQSqJkDAWDV6CkYAAQQQmMoCBIyN3/sEjI3fx7QQAQQQQAABBBBA4HkBAkbuBAQQQAABBKogQMBYBfRJLpKAcZLBKQ4BBBBAAAEEEECgagIEjFWjp2AEEEAAgaksQMDY+L1PwNj4fUwLEUAAAQQQQAABBJ4XIGDkTkAAAQQQQKAKAgSMVUCf5CIJGCcZnOIQQAABBBBAAAEEqiZAwFg1egpGoDYFwjB8s/d+fV9f3521WUNqNRkC1lobx3HQ19fXOxnlTcUyCBjH1+thGO4ax/Gm/v7+Z8d3hhhrbWsmk3ly6dKlm0Y7p7u7e8cNGzYES5cuXTfccQsWLNhl8eLFa0TEj7PsFxxGwDgRNc5BAAEEEEAAAQQQqEcBAsZ67DXqjMAYAt3d3dPWrVv3d1+sjTGfyOfzXxjtdGvtMhFxzrmjgK5NgVwu9wnv/eeGq533fk4URY8N91xXV9cehULhxCiKvjRWy8Iw/HwQBNPz+fyHxzqW5ycmQMA4ultbW9te2Wz2pyLSISIzReSHLS0t7+7p6XlOz+zo6Dg6CILviMhPnHPv17/L5XJHeu9vTK6s53zMOXfhMCWZMAy/YYw5LXnuytbW1vfcfvvtBf2ztfadInJ5Uu5a7/2noyi6pPw6yfvsPSJyYBzHbX19fcsryyFgnNhrg7MQQAABBBBAAAEE6k+AgLH++owaIzCmQFnA+EcR+UF6QhAE9/b29t472gUIGMfkrfoBc+bM2WGXXXaZrhXZtGnTr7z3VzQ3N1+tf168ePEzIhIPV8nOzs6Xx3Hc45wb872fgHH7dzMB4+jG1tofishTzrkPtLe3vySTydxvjDk3n89fYa09T0TOFJEHvfe9URSdLiIZa+3TxpjT8/n81WEYHmSMuS+bzXYsWbKkv7y0MAzfZ4z5rIjsXygUCtls9i7v/Tc1RGxra9s9m82uFpHXOOd+29HRcbC+d4rIPOfcX9Lr5HK5j3vvjxaRw4vFYnt/f7/+OPOCBwHj9n8dUQICCCCAAAIIIIBAbQiM+SWzNqpJLRBAYEsEygLGy51z7608t729vSuTyVwgIkeKyB+NMefl8/k79DgNGL33pVGMxphT9HkR+ahz7k9bUgeOnRwBa+3dSTByZVqitfYcEXm3iDRpwOyc+0RXV1euWCzeJiK7i8ijIvI+59wvc7nciTo6a+i40Bhz0+Dg4HuWLVv2fwSM27//CBhHNw7D8ENxHN+YBnfW2mtFJHLOnWutPT8Igq8Xi8UPisiuGjDqdOaBgYF/nT179ufLRiI+a4x5Rz6fv6W8NGvtrd77H0dR9PXkfe8kEfmQc657n332mVUoFPZNz+nq6moqFosDQRB09/b23q/Hz58/v71QKPQVi8X5mUxmCQHj9n+9UAICCCCAAAIIIIBAbQsQMNZ2/1A7BCYkUBYwXtnc3FyaOqiPRYsWPTdv3rydpk2b9pAOfvPeX2KMOXFoiuHCIAgW9Pb2PpyMYJznvb/XGPMHEfk3Efm/5ubmeYsWLVo/oQpx0nYTqAwYc7ncad77i+M4Ps4YM2CMuUJErigWixdls9m3eO9/pDNJM5nMY0EQzBgcHOwb6t9/Mcb0eu916vQDzrl/J2Dcbl22+cIEjOM3bm9v3y2TySzT+7qvr+836ZlhGOpSAaWAsfJq1trXiMitxphd8/n8UxUBo45QPNE5p6G7/rBygP6Y4pwL0vUWOzs7OzQ4NMb8s06Vbm1tPaYsuLzRe/9QFEXnWGuLBIzj70uORAABBBBAAAEEEGhMAQLGxuxXWjXFBUZagzGO4y4R2TMIgl8bY84QkV8NhU9zvfe/FZH3OOe+mwSM+mV+tm58kMvlztLAKgiCQ8eaXj3F2avS/MqA0Vr7S12Drmxk1jtE5Fzn3L6jTJHWTTFavPcfNsYc7Zw7iIBx+3cnAeP4jI888sjsypUrbzbGPOuc0/t582OkgNFaO1vDcu/9eVEUfa2ipEBDQe/9flEU/Vmf6+jomBcEgY7c3sk5tzYJHT8pIvo+OUdETnbOfV/Dx46OjtcFQaD/3e6cW0/AOL5+5CgEEEAAAQQQQACBxhYgYGzs/qV1U1SgLGC8xxjzPynDxo0bfzp9+vSTvPeXDkNzkXPuo0nA+NjQyJ5XJV+yXy0iOsrnpOQL9hRVrc1mDxMwro7j+J/SUV5hGO5rjHnQOZfp7Ozcr3wNxvb29uYgCC5OpsLrhhilh67RSMC4/fubgHF8xtbay0TksEwmc3jlbs/DBYxdXV0txWLxDmNMTz6fTzdxeUFh1tpHjDGnptOgOzs7D4nj+Bbn3E6VtbLWLhSRP+uPLLNmzfrT448/rqHkF3UtSBEphZXDrfOYvJa8tZbPWuPrao5CAAEEEEAAAQQQqGMBPvTWcedRdQRGEhhtDUZr7TFDGxvcICKvbWlpKd/wZbCnp2cwCRhbWltb99TpgNba9+huqnEcH9HX13cn6rUlMEzA+FtjzP8m4Ue60+4lzjlbOYIx2Sn3q3EcH9nX19ebTK/WaaOvJmDc/v1MwDi2cS6XO9t7/+8icrBzbmXlGZUBo452XLVq1Y+GNnDJzpgx41h9TxuuFB3pqz+cOOcu0uettWd470+JoujQMAwPFJG2KIquSc9Njr87m81+r1AoPDzcNY0xb8/n8z8pf45NXsbuY45AAAEEEEAAAQQQaAwBAsbG6EdagcALBEYLGLu6uvYoFourROSeod2GP+W9151WvyAi73LOXZeuwTj0BVs3DfmdiHxGRHZoamrae/HixU9DXVsCw6zB+Anv/aki8joRGRCRn4rI73Vdxc7Ozr3jOF7hvT84iqKeMAz/0RhzcbFY3EdEmjOZzE1Da27+jYBxcvqYgHF051wud5xuxBLH8eu993k9OgiCjVEUPZmeWRkwWmt1HdEzdTkI731pqnMmk3lGpz1ba99aLBYf0k1jwjA8wRjzrWKxuH9zc/NgoVC4J5lO/e329vb9dcdq3UW6tbX1rtWrVx+goxt1s5g99tjjtieeeGJuWn6hUMiISN57/7rp06ffW7lOLQHj5LyWKAUBBBBAAAEEEECg+gIEjNXvA2qAwDYXGGsX6WTzA512GGrhxpgv5fP5/xhaq6+YBIwaQGo4pZskPBrH8Rl9fX0aPvGoMQENGEXkG865q7RqyQiub+qamknfXj9jxoyTenp6ntM/W2t1k5e362irjRs33tbc3Hzj0EYYrxQRDWM0jNyLgHFyOpmAcXTnsh87Nh+oO53n8/m3DBcwJusuPlZ51aGg8azZs2d/ZdWqVYNJuK6bV+lrQd8DdY1FfVzpnNPNXOLkOd0c60Ld3EVfG/ojTD6f1x9iKh+ZoV3bC2zyMjmvGUpBAAEEEEAAAQQQqF0BAsba7RtqhsB2F1iwYMEuTU1N60aZRjgz3fBgu1eGArapgIbMzzzzTNDf369B8QseXV1dTUuXLtWpo16faG9v32nOnDnPpTvkbtOKcLERBQgYJ+/mSDZxebC1tfXF5ff5vHnzdo7j2KxYsWLNMLUxbW1tuy1btkxHTJaCxy19MIJxS8U4HgEEEEAAAQQQQKBeBQgY67XnqDcCCCCAQF0LEDBOXvflcrk36NIBzrnjJ6/U0oZJbPIymeCUhQACCCCAAAIIIFA1AQLGqtFTMAIIIIDAVBYgYJy83l+4cOEM733TZK8jS8A4eX1MSQgggAACCCCAAALVFSBgrK4/pSOAAAIITFEBAsbG73gCxsbvY1qIAAIIIIAAAggg8LwAASN3AgIIIIAAAlUQIGCsAvokF0nAOMngFIcAAggggAACCCBQNQECxqrRUzACCCCAwFQWIGBs/N4nYGz8PqaFCCCAAAIIIIAAAs8LEDByJyCAAAIIIFAFAQLGKqBPcpEEjJMMTnEIIIAAAggggAACVRMgYKwaPQUjgAAC4xNYt27dD8Z3JEfVk8Bjjz12otZ3zz33vLqe6k1dxy+gfWyt5bPW+Mk4EgEEEEAAAQQQQKBOBfjQW6cdR7URQGDqCBAwNmZfEzA2Zr+Wt4qAsfH7mBYigAACCCCAAAIIPC9AwMidgAACCNS4AAFjjXfQBKtHwDhBuDo6jYCxjjqLqiKAAAIIIIAAAghslQAB41bxcTICCCCw/QUIGLe/cTVKIGCshvrklknAOLnelIYAAggggAACCCBQPQECxurZUzICCCAwLgECxnEx1d1BBIx112VbXGECxi0m4wQEEEAAAQQQQACBOhUgYKzTjqPaCCAwdQQIGBuzrwkYG7Nfy1tFwNj4fUwLEUAAAQQQQAABBJ4XIGDkTkAAAQRqXICAscY7aILVI2CcIFwdnUbAWEedRVURQAABBBBAAAEEtkqAgHGr+DgZAQQQ2P4CBIzb37gaJRAwVkN9csskYJxcb0pDAAEEEEAAAQQQqJ4AAWP17CkZAQQQGJcAAeO4mOruIALG2uiyQqFgVq5cOf2lL33phi2pkZ732GOPTZ8zZ87GTCbjhzuXgHFLRDkWAQQQQAABBBBAoJ4FCBjrufeoOwIITAmB4QLGJ598sulTn/pU93333Tf3uuuuu2HevHnPPfzwwzscd9xxbytHsdY+/oMf/OC3UwKqzhpJwDixDhvvfX7dddfNueCCC175yle+ctmXv/zlPwxX2rnnnrvfrbfe2j4wMDCtpaVl4/nnn3/Xq171qicvvvjizquvvnq/ynO++tWv/urQQw/92yWXXJL7/ve/v39zc/OgHnPOOefcfdRRRz1eeTwB48T6mLMQQAABBBBAAAEE6k+AgLH++owaI4DAFBOoDBidcy3vf//7Xztv3rynHnjggb3SgPEPf/jDLp/61KcOv+qqq25JiZqamuKddtqpMMXI6qK5BIwT66bx3OcawB9zzDHHtLa2PjN79uxnL7300vsqS7viiivmfve7393/sssu+01XV9faiy66qOuXv/xlxy233HLjpk2bgueeey6TntPT07PLJz7xidf86le/+vHDDz+842mnnfbm7373uzctXLjwWQ0bb7jhhs477rjjegLGifUpZyGAAAIIIIAAAgjUvwABY/33IS1AAIEGF6gMGO+4445dly9fPvPYY4999LWvfe070oDxpptu2uPqq6/OXXXVVbfr9M1sNjvstM0G56qb5hEwTqyrxnOff+hDHzpIXwNz5sxZ++ijj84cLmA84YQTXvv617/+L6eeeurygYGBQF8vzz77bHaXXXYpjUosf5x22mmH77HHHuvOO++8P2vAuWjRol3e+973LtdjHnzwwZ1PPfXUo26//fbrZs6c+YIwnxGME+tjzkIAAQQQQAABBBCoPwECxvrrM2qMAAJTTGCkNRg1DHn1q1/9zjRg/N///d+5P/3pT22hUAhWrlz5ojAMV5933nn3dXR0rJ9iZHXRXALGiXXTWPf573//+xefddZZr7nuuut+ftVVV80bKWA84ogjjv2Hf/iH/M033xw+88wzO+rr5YILLvj93nvv/YK1GNMA8frrr//pcOs0fvazn93ngQceaP3xj3/868oWETBOrI85CwEEEEAAAQQQQKD+BAgY66/PqDECCEwxgfEGjF/+8pft9ddf3/WRj3zk93vuueeGr371qwtWr14982c/+9kvphhZXTSXgHFi3TTWff7Od77zdYcffvgjZ555prvwwgu7hgsY161blzniiCPepTU477zzfrvXXns9d/HFF++/du3a6ddff/2vymv2wQ9+8JDp06cXLr744j9V1vgXv/jFrHPOOec16dqMBIwT61POQgABBBBAAAEEEKh/AQLG+u9DWoAAAg0uMN6AcfXq1c06LXTPPffcqCT656OOOuq4n/zkJz+tHJXV4GR10TwCxol102j3+e9+97vdvvvd7+77s5/97Kbm5uZ4pIBRS+7u7j5xwYIFj11xxRV36p/7+vpmnHDCCcfceOON16evoaVLl848+eST3/KDH/zgZ9badeU1XrRo0U5nnHHGG04//fQ/nXLKKSuGaw0jGCfWx5yFAAIIIIAAAgggUH8CBIz112fUGAEEppjAeAPGG264Yfb06dOLb3zjG1crUTqFerhwZIoR1mRzCRgn1i2j3eff+MY3Ou+88872yivvtttua3/5y1/+vPzvjz766KNe/epX/+Xss8/u1b//61//usOxxx77tvKp0B/+8IcPHBgYyH7ta1/7ffm5jz322PSTTz75jW9605v6PvKRjywdqSUEjBPrY85CAAEEEEAAAQQQqD8BAsb66zNqjAACU0xgvAHj5ZdfPu/aa6+d/7Wvfe02XSvu85///D533XXXy2677bYbphhZXTSXgHFi3TTafb5y5crpa9asmZZe+corr+xYvXr1jHPOOadn3rx5z91555276nOvetWrnrzsssvar7vuuvmXXXbZrXvttdeGT37yk929vb27p0Hk8uXLd3znO9/51ssvv/zm/fbb75n0mjq9+vjjj3/jtGnT4ksuueTOIAhKT7W2tm7UUZMVQeSJ1lo+a02sqzkLAQQQQAABBBBAoI4E+NBbR51FVRFAYGoKjDdg1J1wP/rRjx5w1113tanUzjvv/NwXv/jFO7q7u9dMTbnabjUB48T6Z0vu8wsuuGD+Y4891pLuIn3SSScd+fKXv/zxD3/4w/nK67zkJS9Zd8kll9yxzz77PKs1+/jHP/5yDSe/853v3FVe06uvvvqlF1988eGVtb/00kt/ddhhh/2NgHFi/cpZCCCAAAIIIIAAAvUtQMBY3/1H7RFAYAoIjBQwjtR0HcH1t7/9bZqO2JoCPHXbRALGreu6idznunP0F7/4xdsPOuigp9PSn3zyyab169dntsc6pUyR3ro+5mwEEEAAAQQQQACB+hEgYKyfvqKmCCAwRQW2NGCcokx112wCxsntsrVr12bf+MY3vu2uu+76cSaT8ZNROgHjZChTBgIIIIAAAggggEAtCBAw1kIvUAcEEEBgFAECxsa8PQgYJ7dfi8Wi0c1ZdH3SySqZgHGypCkHAQQQQAABBBBAoNoCBIzV7gHKRwABBMYQIGBszFuEgLEx+7W8VQSMjd/HtBABBBBAAAEEEEDgeQECRu4EBBBAoMYFCBhrvIMmWD0CxgnC1dFpBIx11FlUFQEEEEAAAQQQQGCrBAgYt4qPkxFAAIHtL0DAuP2Nq1HC/9fe3UfJVdZ5An9uV9MJkmAQdcmL0Bu66xaJxJUoCsgaQMGBVYTIcWRkQHB40ZUXZYIihHNYxICInAmM5+iwgCLIsArIML6gEIjCgiCYkKRudWADJsHwbtK8hHTXXW6S5vT0JJDumLp9qz/9n9333t/zfL5VAt9zq66CMQ/1xs5UMDbW2zQCBAgQIECAAIH8BBSM+dmbTIAAgS0SUDBuEVPhDlIwFi6yQS9YwThoMicQIECAAAECBAgUVEDBWNDgLJsAAQIEii2QJMn6JxnHceyfxcWOcrOrzzKWb5OGa1sECBAgQIAAAQL/QcB/1HhBECBAgACBHAQUjDmgN3ikgrHB4MYRIECAAAECBAjkJqBgzI3eYAIECBAYyQIKxuZPX8HY/BnbIQECBAgQIECAwAYBBaNXAgECBAgQyEFAwZgDeoNHKhgbDG4cAQIECBAgQIBAbgIKxtzoDSZAgACBkSygYGz+9BWMzZ+xHRIgQIAAAQIECGwQUDB6JRAgQIAAgRwEFIw5oDd4pIKxweDGESBAgAABAgQI5CagYMyN3mACBAgQGMkCCsbmT1/B2PwZ2yEBAgQIECBAgMAGAQWjVwIBAgQIEMhBQMGYA3qDRyoYGwxuHAECBAgQIECAQG4CCsbc6A0mQIDAthOI43jC+PHjn5o3b17PtpviylsjoGDcGr03PDeK43h8qVR6ZvHixa++0ZHTp09/y9q1a8c+8sgjqzZxXKlcLu8yYcKEVUN9HykYt1nGLkyAAAECBAgQIDDMBBSMwywQyyFAgMCWCLS3t48bNWrU3BDCZ1tbW3dbtGjRE9l55XL5b6Mo+lYIYVL2v9M0PbFWq31/S67pmMYKKBgH710ulydGUbS8/5lpmt5eq9UOzn5XqVRmpGn6s41/HxtC+GqSJBcNnNTe3j561KhRV4YQjs7+FkXR4hDCYdVqddnG99EXoyj6Zgghu8aaEMIJSZLc2P8606dP3667u/t3IYT31+v13bu6uh4bOEfBOPiMnUGAAAECBAgQIFBMAQVjMXOzagIERrBAR0fH7qVSaV4I4b4Qwsy+grGzs3OPlpaWxWmaHlqr1X5ZLpf3i6Lo7tbW1s5FixYtHcFkw3LrCsbBx9LR0fHeUqn047a2tg/2nd3b27tu8eLF3SGEUhzHz0dRdFK1Wr2+XC7vHUXRfZt6/cdxfEoI4fO9vb0HTJo06aUnn3zy/6Rp+kKtVjtujz32+GC9Xr83TdP/XqvV5pfL5b+JoujfB5aIlUrla2maHhZC2K+3t7dj6dKljyoYB5+pMwgQIECAAAECBJpDQMHYHDnaBQECI0igUqnsW6/XO6IouimEsLqvYIzj+Nw0TXfPSpIpU6a0ZR8PjeN47Pjx418e6kc8RxBrw7eqYBw8eaVSOThN0y8nSfKxGTNmtPZ/Xe+55547rV279ksTJky4sO/3cRyvjqLoU9Vq9Vf9p5XL5U9GUbQ6SZI7st9XKpWT6vX6ca8V8/vEcXxWVhomSfKJvnNeKySzj1BfkiRJdndwmDp1akdPT09Xb2/v1FKptEjBOPgsnUGAAAECBAgQINBcAgrG5srTbggQGEECU6ZMGdPb27umX8H4gyiKnqnX6/tEUfTB7GOfaZr+zyRJ7hxBLIXZqoJx8FHFcfzZEMKpIYRRIYRpIYQ7Wlpajl+yZMnjA68Wx/GBIYTfRFH09mq1+uwbTGuJ4/g3IYT5SZLMLpfLn4+i6JQkSaZvPCf7e28I4btJknwh+10cxz9L0/SRWq12TvY3BePgs3QGAQIECBAgQIBAcwkoGJsrT7shQGAECWyiYPxtdudVCOELra2tt/f09BwbQjhnu+2222UzD7EYQVrDb6sKxsFnUi6Xz4ii6KtRFB3T09OzvFQqnR9C6EyS5D39r5Y95CiE8FCapufXarUr3mhSuVyeHUXRsWvXrp2+bNmyF/bYY4/d6vX6wjRNr0nT9JYoiv4uiqLjXvuK0+uSJPm7zs7Oj7S0tPwohNCRJMmLCsbB5+gMAgQIECBAgACB5hNQMDZfpnZEgMAIERhYMFYqlZ+maXpEkiSv/397HMd/iqLotGq1+tMRwlKYbSoYBx9VpVLZubW1tbWvMC+Xy2+PoujpNE0n1Wq1FdkVN74v7oqi6MFqtXrim5SL2UORvtfb2/vBpUuXZg96Wf+TfQ1BCOHsNE33SNP0tiiKtnvtrsZVu+yyywV//vOf/xhC+Fa1Wr06hLD+7sbNfc+ph7wMPmNnECBAgAABAgQIFFNAwVjM3KyaAAECfUVK/49IX5ym6X/re6JuRhTHcZLdxTjwCbj48hdQMA4+g87OzsNaWlpe6vvYf1/JHkKYnCTJ/8u+lzF7YEsURa077LDDEQ8+eBa2kAAAHxJJREFU+OC6zU2J4zi72/e3URQdUK1Ws4cmrf/JSstSqbTTkiVLujb+Korj+IEQwndaW1vv7unp+U8fx86Oi6Jo5sAiX8E4+IydQYAAAQIECBAgUEwBBWMxc7NqAgQIbKpgzL6T7o9RFB1SrVZ/E8dx9hHpK/vf3YVt+AgoGAefRaVSOS5N03OjKDqopaVlZU9Pz3lRFP19kiTv2liofyeEcHq9Xp+Spuma7HelUukvSZKsieP48N7e3keypz3vsccenfV6vRZF0T/29PT8ODuupaUlze6CrFQq09M0faClpWWfl19++eG2trZTso9lt7W1VXbeeec1Tz/9dHvfynt6ekohhGqaph8ZPXr0/12wYMGL/XelYBx8xs4gQIAAAQIECBAopoCCsZi5WTUBAgT+U8G4sWA5OXsYxUaeNWmaHlur1bKnTfsZZgIKxsEHkj0dvbe3959DCCdsPHt5FEWHVqvVhRu/d3H9x6T7/7xWNH5lwoQJ//Tkk0+uS9P0A7Va7f44jrPvZVz/wJb+P31fL1CpVL6WpumFG//2WJqmJ9ZqtexBMAN/SnEc93jIy+CzdAYBAgQIECBAgEBzCSgYmytPuyFAgECYNGnS9ttvv/34rq6uZSGEOpLhKaBgHHoucRyP7enpGffoo4/+aUuu0tnZObmlpeXh8ePHv23evHk9W3LO9OnT3/Liiy++s1qtZu+jIf24g3FIbE4iQIAAAQIECBAooICCsYChWTIBAgQIFF9Awdi4DCuVysFpmp6QJMmnGzc1BAVjI7XNIkCAAAECBAgQyFNAwZinvtkECBAgMGIFFIyNi37atGk7vPaR57aFCxc+37ipCsZGWptFgAABAgQIECCQr4CCMV9/0wkQIEBghAooGJs/eHcwNn/GdkiAAAECBAgQILBBQMHolUCAAAECBHIQUDDmgN7gkQrGBoMbR4AAAQIECBAgkJuAgjE3eoMJECBAYCQLKBibP30FY/NnbIcECBAgQIAAAQIbBBSMXgkECBAgQCAHAQVjDugNHqlgbDC4cQQIECBAgAABArkJKBhzozeYAAECWybQ3d193ZYd6agiCaxYseIz2XonTpx4fZHWba1bLpBlHMexf9facjJHEiBAgAABAgQIFFTAv/QWNDjLJkBg5AgoGJszawVjc+baf1cKxubP2A4JECBAgAABAgQ2CCgYvRIIECAwzAUUjMM8oCEuT8E4RLgCnaZgLFBYlkqAAAECBAgQILBVAgrGreJzMgECBLa9gIJx2xvnMUHBmId6Y2cqGBvrbRoBAgQIECBAgEB+AgrG/OxNJkCAwBYJKBi3iKlwBykYCxfZoBesYBw0mRMIECBAgAABAgQKKqBgLGhwlk2AwMgRUDA2Z9YKxubMtf+uFIzNn7EdEiBAgAABAgQIbBBQMHolECBAYJgLKBiHeUBDXJ6CcYhwBTpNwVigsCyVAAECBAgQIEBgqwQUjFvF52QCBAhsewEF47Y3zmOCgjEP9cbOVDA21ts0AgQIECBAgACB/AQUjPnZm0yAAIEtElAwbhFT4Q5SMG67yF566aVSvV4PY8aM6X2jKT09PdGKFStGT5o06ZVSqZT+tVekYPxri7oeAQIECBAgQIDAcBVQMA7XZKyLAAECGwU2VTA+88wzbbNnz55+3333td944423TJ48+aXp06d/ZiDannvuueLqq6++G+bwE1AwDi2TM88883133nlnZ/+zL7nkkl8fcMABT2fvizPPPPODCxcunJj9vb29/Zk5c+bc09nZ+eLAaZdeemnlRz/60XtHjRq1LvvbOeec89tDDz30z/2Pu/HGGyfNmTNn//333//Ryy677P7sb48//vj2Rx555Cf7HxfH8Z+vu+66OwfOUDAOLWNnESBAgAABAgQIFE9AwVi8zKyYAIERJjCwYEySZMwpp5xy0OTJk5996KGH3tVXMGblSn+a008/fd9yufzs7NmzF44wskJsV8E4tJiOP/74/T/84Q//6bDDDlvZd4Vx48ata21tTc8+++z3rly5cuzcuXPvaWtrq59yyin77bjjjmv7ysG+4x988MFxJ5544t9cddVVt02bNm11Vjbecsste9x111039R2TvZ8+8YlPfGL8+PF/mTBhwuq5c+fel/3t/vvv32n27Nn7XXvttb/qOzabteOOO/YoGIeWqbMIECBAgAABAgSKL6BgLH6GdkCAQJMLDCwY77rrrrc/9thjY4844ojlBx100Kf6Csb+DH0Fyq233nrThAkTXmlyokJuT8E4tNhmzpz50VNPPfWhD33oQ88O/Fjz7bff/s7dd9+9O7ujN7v6xRdfPGXJkiU7X3XVVfP7T8tKwgULFuz0+c9//rHs9w8//PBbTzjhhEPnzZt349ixY9cXhWecccbe2UeoJ02atGb58uVZabm+YLztttt2uf766yvXXnvtvOzvWbG5uZ24g3FoGTuLAAECBAgQIECgeAIKxuJlZsUECIwwgc19B+Pq1atbDzjggKM2VTCefPLJ++60006vfPOb3/zDCOMqzHYVjEOL6sADDzy8XC4//fvf/363MWPGvHL44Ycv+fKXv1ztu9ratWtb5s+fv76Ev/rqq9973nnnzT/kkENWvdG0Cy644N0PPfTQ+J/85Ce3Z8fde++9b/vKV75y4I033vhv11577eT+BeM111zTfvPNN8c9PT0tK1euHFcul1edf/75923qY9gKxqFl7CwCBAgQIECAAIHiCSgYi5eZFRMgMMIEBlswPvLIIzsee+yxh22qeBxhdMN6uwrGocWTfdfojBkzuk444YRk4cKF4y6++OIPnX322XfPnDlzRXbFlStXjj7ppJMOyMq/adOmLT/77LP/sKnyr2/6z3/+8/9yzjnnHHj55Zf/cp999nku+/1RRx31kf322+9Pp59+enLRRRdN6V8wXnbZZfFNN900ZdasWfdOnDjx5csvv3zPVatWjb311lt/PnBHCsahZewsAgQIECBAgACB4gkoGIuXmRUTIDDCBAZbMJ5++ul7Z0QDv3duhLEN++0qGIcW0YIFC3acOnXqmr6PR3/ta1/b69VXX2359re//UD/K3Z3d5dmz56911NPPbVD9nHmTU3LrnXyyScffNJJJz1w7LHHLsuOuf7663e96qqr3nPrrbfeNmrUqPrAgnHVqlWjso9GT5w4cf1XD2T/+9BDDz3ypz/96c277bbby/3nKBiHlrGzCBAgQIAAAQIEiiegYCxeZlZMgMAIExhMwZg9AOboo4/++DXXXHPbu9/97tUjjKpQ21UwDj6u559/frvvf//7naeddlo1K/+yK5x//vl7Pvfcc9tnhXr2sJaZM2c+3lf03X333W8/44wzPnrPPffc0Hd839QVK1aMPuaYYw752Mc+1jVr1qzFfb8/44wz3n/33Xd3DFzdO97xjjW/+MUv/u2WW26ZMHr06N6+j133fVXBddddd2scx90KxsHn6gwCBAgQIECAAIHiCygYi5+hHRAg0OQCgykYZ82aNf2FF14Y/b3vfe93Tc5S+O0pGAcfYW9vb3TggQd+8tBDD03OPPPMJUuWLBn7xS9+8aDjjz/+oewOxM997nP7t7W19X7jG994IHuy83nnnbfXsmXLdrrpppt+mZXvCxYsGHfUUUctz+5u/PSnP33IdtttV7/00kvvbmlpWb+Y8ePHv/Lss8+2vfDCC9v1re6HP/xh56pVq3Y455xzHsweHnPllVdOvuGGG6ZeccUVd+y6664vX3jhhe+eP3/+f73jjjtuGbgjdzAOPmNnECBAgAABAgQIFFNAwVjM3KyaAIERJLClBeMTTzyx/RFHHPHJ7373u7/Ye++9nx9BRIXcqoJxaLFldyWee+65+3d3d4/OrnDwwQcnfQ8zyt4Ds2bN2rerq+ud2d923XXX5+bMmfO77M7C7InSjzzyyDt+8IMf3JV9DPqSSy7Zb+AK5s6d+8t99913/fcw9v3MmTNn6ooVK8b0PUU6e4jMWWed9b758+fvnh3z1re+9aVvfetbd02fPv0FBePQMnUWAQIECBAgQIBA8QUUjMXP0A4IEGhygc0VjE2+7abfnoJx6yLu6uraIbvjcMyYMb0Dr5TdoZg95XncuHHr+v526qmnfqCzs/P5L33pS7Wtm7zh7Owux+eee2677K7GzV3PHYx/DWnXIECAAAECBAgQKIKAgrEIKVkjAQIjWkDB2JzxKxgbm+vMmTM/+vWvf/3+vfba6y+NmqxgbJS0OQQIECBAgAABAnkLKBjzTsB8AgQIvImAgrE5XyIKxsbmumzZsre0t7dv9m7DbbEaBeO2UHVNAgQIECBAgACB4SigYByOqVgTAQIE+gkoGJvz5aBgbM5c++9Kwdj8GdshAQIECBAgQIDABgEFo1cCAQIEhrmAgnGYBzTE5SkYhwhXoNMUjAUKy1IJECBAgAABAgS2SkDBuFV8TiZAgMC2F1AwbnvjPCYoGPNQb+xMBWNjvU0jQIAAAQIECBDIT0DBmJ+9yQQIENgiAQXjFjEV7iAFY+EiG/SCFYyDJnMCAQIECBAgQIBAQQUUjAUNzrIJECBAoNgCSZKk2Q7iOPbP4mJHudnVZxnLt0nDtS0CBAgQIECAAIH/IOA/arwgCBAgQIBADgIKxhzQGzxSwdhgcOMIECBAgAABAgRyE1Aw5kZvMAECBAiMZAEFY/Onr2Bs/oztkAABAgQIECBAYIOAgtErgQABAgQI5CCgYMwBvcEjFYwNBjeOAAECBAgQIEAgNwEFY270BhMgQIDASBZQMDZ/+grG5s/YDgkQIECAAAECBDYIKBi9EggQIECAQA4CCsYc0Bs8UsHYYHDjCBAgQIAAAQIEchNQMOZGbzABAgQIjGQBBWPzp69gbP6M7ZAAAQIECBAgQGCDgILRK4EAAQIECOQgoGDMAb3BIxWMDQY3jgABAgQIECBAIDcBBWNu9AYTIEBgmwm0tLe377hs2bIXttkEF95qAQXjVhP+NS7whu+Vcrn89nq9/urSpUtXb2JYqb29fewbvc8UjH+NiFyDAAECBAgQIECgCAIKxiKkZI0ECBAYINDe3j5u1KhRc0MIn21tbd1t0aJFT8yYMaP1ySefvCCEcNbGw59K0/S4Wq32c4DDT0DBuHWZxHH8aAhhcv+rJEnSGkLoDSGU4jj+SgjhojRNP1Or1X7c/7g3e6/svvvu72ptbb05hNAZQhgbQvjXMWPGfO7BBx98Kbt2pVK5IE3Tr/a9z0IIf5skyZ0Dd6Rg3LqMnU2AAAECBAgQIFAcAQVjcbKyUgIECKwX6Ojo2L1UKs0LIdwXQpjZVzB2dnYe1tLScn1ra+teixYterRSqRybpulVa9eu3X7ZsmWv4BteAgrGrcsjjuO0tbW1s6Wl5dnsSmvWrEmzuwk3loe3hxB2CCGMj6JoVrVavb7/tDd7r8Rx/K8hhGeTJPliR0fHzqVS6Q9RFJ1brVavrlQqH0/T9J9bWlo+tGTJkifK5fIZURSdkSTJuxSMW5epswkQIECAAAECBIoroGAsbnZWToDACBWoVCr71uv1jiiKbgohrO4rGMvl8jEhhC/UarV9MpqpU6fu2tPT83hbW9vbFi5c+PwI5Rq221YwDj2aadOm7bB27dru7I7FGTNmRPPmzevpu9r06dPf8uKLL/6vnp6es0ul0vwoir4zsGB8s/dKVhrW6/WfLV26NLtLMsRxfEMIoZYkyblTpkyZ+uqrr7YtXbr0oexv2fsxTdPf9bt78vWNuYNx6Bk7kwABAgQIECBAoFgCCsZi5WW1BAgQeF1gypQpY3p7e9f0FYx77rnnTuvWrfttmqbZ3Y0Ppmn6DyGEBbVa7SRsw09AwTj0TCqVSnuapguiKPp1mqZHZK/zKIr+sVqt/qr/VeM4vn9TBeNg3isdHR3vKJVKj9br9SO7urp+3Xf9crn8/paWll3TNJ0dRdEN1Wr1woE7UjAOPWNnEiBAgAABAgQIFEtAwVisvKyWAAECmy0Yszu3uru7v//anVZHhxAe2/j9dCckSfK/sQ0/AQXj0DOJ4/h9IYTfR1F0UqlUuqOnp+czIYTz0zSdVKvVVvRdeXMF45a+V7KPW69cufLfoyhanSTJpwaUlz8LIcwIITwZRdHnqtXqPQrGoWfqTAIECBAgQIAAgWILKBiLnZ/VEyAwggUG3sFYLpezO6gOqNfrh2RPve0rYUII70+S5IERTDUst65gHHosWUG4evXqXbq6urIiff1PHMd/TNP0wlqtln2cue93m7yDcUvfK3EcfzeEsG+pVNpv8eLF3ZtYcfbAl2PSNP2nMWPG7LLxITCvH+YOxqFn7EwCBAgQIECAAIFiCSgYi5WX1RIgQOB1gYEFYxzHv3mtDPlVkiQXDShd5tZqtX9BN7wEFIxDz6NSqewZQpiePXSl7yrlcvneKIquSJLk2jcrGLfkvVKpVM5M0/S0EMIHkiRZ2e+an4qiaGXfHYsbHyqzrl6vf7irq+vu/rtSMA49Y2cSIECAAAECBAgUS0DBWKy8rJYAAQKbLRjL5fJ5URQdnabp4WPHjn20u7v7kyGE7Gm470mSZAG64SWgYBx6HlOnTu3o6enpCiEclCTJnXEcfzyEcEu9Xt99wF2Nr9/B2NnZOTmKomm1Wu3mN3uvVCqVI9M0/Um9Xv9omqbVbKUtLS2v1Gq1Z+I4Pu21gvHEUql0+OjRox/v7u7++xDCv6xdu3an7CnWCsah5+pMAgQIECBAgACB4gooGIubnZUTIDDCBQbewZh9bHTNmjVXRFF03EaaNVEUndr/Lq8RTjastq9g3Lo44jg+OYSQfYQ5+1kTQjglSZIf9b9q/+9gjOP4rCiK9q9Wq//jzd4rcRxnT4+e3P9aURTdlp3b0dExqlQqXRZCyOZnP09FUXTMwAfMZH9wB+PWZexsAgQIECBAgACB4ggoGIuTlZUSIEBgiwSyj2wuX758p6VLlz69RSc4KBcBBePWs0+ZMqVt3bp1kyZOnPjEvHnzet7oinEcXxlF0cPVanVu33Fb817Z+ACYcdldjZubq2Dc+oxdgQABAgQIECBAoBgCCsZi5GSVBAgQINBkAgrGxgaafUdjqVT6hyVLljzSqMkKxkZJm0OAAAECBAgQIJC3gIIx7wTMJ0CAAIERKaBgbGzsHR0dk5YuXboihJA2arKCsVHS5hAgQIAAAQIECOQtoGDMOwHzCRAgQGBECigYmz92BWPzZ2yHBAgQIECAAAECGwQUjF4JBAgQIEAgBwEFYw7oDR6pYGwwuHEECBAgQIAAAQK5CSgYc6M3mAABAgRGsoCCsfnTVzA2f8Z2SIAAAQIECBAgsEFAweiVQIAAAQIEchBQMOaA3uCRCsYGgxtHgAABAgQIECCQm4CCMTd6gwkQIECAAAECBAgQIECAAAECBAgUX0DBWPwM7YAAAQIECBAgQIAAAQIECBAgQIBAbgIKxtzoDSZAgAABAgQIECBAgAABAgQIECBQfAEFY/EztAMCBAgQIECAAAECBAgQIECAAAECuQkoGHOjN5gAAQIECBAgQIAAAQIECBAgQIBA8QUUjMXP0A4IECBAgAABAgQIECBAgAABAgQI5CagYMyN3mACBAgQIECAAAECBAgQIECAAAECxRdQMBY/QzsgQIAAAQIECBAgQIAAAQIECBAgkJuAgjE3eoMJECBAgAABAgQIECBAgAABAgQIFF9AwVj8DO2AAAECBAgQIECAAAECBAgQIECAQG4CCsbc6A0mQIAAAQIECBAgQIAAAQIECBAgUHwBBWPxM7QDAgQIECBAgAABAgQIECBAgAABArkJKBhzozeYAAECBAgQIECAAAECBAgQIECAQPEFFIzFz9AOCBAgQIAAAQIECBAgQIAAAQIECOQmoGDMjd5gAgQIECBAgAABAgQIECBAgAABAsUXUDAWP0M7IECAAAECBAgQIECAAAECBAgQIJCbgIIxN3qDCRAgQIAAAQIECBAgQIAAAQIECBRfQMFY/AztgAABAgQIECBAgAABAgQIECBAgEBuAgrG3OgNJkCAAAECBAgQIECAAAECBAgQIFB8AQVj8TO0AwIECBAgQIAAAQIECBAgQIAAAQK5CSgYc6M3mAABAgQIECBAgAABAgQIECBAgEDxBRSMxc/QDggQIECAAAECBAgQIECAAAECBAjkJqBgzI3eYAIECBAgQIAAAQIECBAgQIAAAQLFF1AwFj9DOyBAgAABAgQIECBAgAABAgQIECCQm4CCMTd6gwkQIECAAAECBAgQIECAAAECBAgUX0DBWPwM7YAAAQIECBAgQIAAAQIECBAgQIBAbgIKxtzoDSZAgAABAgQIECBAgAABAgQIECBQfAEFY/EztAMCBAgQIECAAAECBAgQIECAAAECuQkoGHOjN5gAAQIECBAgQIAAAQIECBAgQIBA8QUUjMXP0A4IECBAgAABAgQIECBAgAABAgQI5CagYMyN3mACBAgQIECAAAECBAgQIECAAAECxRdQMBY/QzsgQIAAAQIECBAgQIAAAQIECBAgkJuAgjE3eoMJECBAgAABAgQIECBAgAABAgQIFF9AwVj8DO2AAAECBAgQIECAAAECBAgQIECAQG4CCsbc6A0mQIAAAQIECBAgQIAAAQIECBAgUHwBBWPxM7QDAgQIECBAgAABAgQIECBAgAABArkJKBhzozeYAAECBAgQIECAAAECBAgQIECAQPEFFIzFz9AOCBAgQIAAAQIECBAgQIAAAQIECOQmoGDMjd5gAgQIECBAgAABAgQIECBAgAABAsUXUDAWP0M7IECAAAECBAgQIECAAAECBAgQIJCbgIIxN3qDCRAgQIAAAQIECBAgQIAAAQIECBRfQMFY/AztgAABAgQIECBAgAABAgQIECBAgEBuAgrG3OgNJkCAAAECBAgQIECAAAECBAgQIFB8AQVj8TO0AwIECBAgQIAAAQIECBAgQIAAAQK5CSgYc6M3mAABAgQIECBAgAABAgQIECBAgEDxBRSMxc/QDggQIECAAAECBAgQIECAAAECBAjkJqBgzI3eYAIECBAgQIAAAQIECBAgQIAAAQLFF1AwFj9DOyBAgAABAgQIECBAgAABAgQIECCQm4CCMTd6gwkQIECAAAECBAgQIECAAAECBAgUX0DBWPwM7YAAAQIECBAgQIAAAQIECBAgQIBAbgIKxtzoDSZAgAABAgQIECBAgAABAgQIECBQfAEFY/EztAMCBAgQIECAAAECBAgQIECAAAECuQkoGHOjN5gAAQIECBAgQIAAAQIECBAgQIBA8QUUjMXP0A4IECBAgAABAgQIECBAgAABAgQI5CagYMyN3mACBAgQIECAAAECBAgQIECAAAECxRdQMBY/QzsgQIAAAQIECBAgQIAAAQIECBAgkJuAgjE3eoMJECBAgAABAgQIECBAgAABAgQIFF9AwVj8DO2AAAECBAgQIECAAAECBAgQIECAQG4CCsbc6A0mQIAAAQIECBAgQIAAAQIECBAgUHwBBWPxM7QDAgQIECBAgAABAgQIECBAgAABArkJKBhzozeYAAECBAgQIECAAAECBAgQIECAQPEFFIzFz9AOCBAgQIAAAQIECBAgQIAAAQIECOQmoGDMjd5gAgQIECBAgAABAgQIECBAgAABAsUXUDAWP0M7IECAAAECBAgQIECAAAECBAgQIJCbgIIxN3qDCRAgQIAAAQIECBAgQIAAAQIECBRfQMFY/AztgAABAgQIECBAgAABAgQIECBAgEBuAgrG3OgNJkCAAAECBAgQIECAAAECBAgQIFB8AQVj8TO0AwIECBAgQIAAAQIECBAgQIAAAQK5CSgYc6M3mAABAgQIECBAgAABAgQIECBAgEDxBRSMxc/QDggQIECAAAECBAgQIECAAAECBAjkJqBgzI3eYAIECBAgQIAAAQIECBAgQIAAAQLFF1AwFj9DOyBAgAABAgQIECBAgAABAgQIECCQm4CCMTd6gwkQIECAAAECBAgQIECAAAECBAgUX0DBWPwM7YAAAQIECBAgQIAAAQIECBAgQIBAbgIKxtzoDSZAgAABAgQIECBAgAABAgQIECBQfAEFY/EztAMCBAgQIECAAAECBAgQIECAAAECuQkoGHOjN5gAAQIECBAgQIAAAQIECBAgQIBA8QUUjMXP0A4IECBAgAABAgQIECBAgAABAgQI5CagYMyN3mACBAgQIECAAAECBAgQIECAAAECxRdQMBY/QzsgQIAAAQIECBAgQIAAAQIECBAgkJuAgjE3eoMJECBAgAABAgQIECBAgAABAgQIFF9AwVj8DO2AAAECBAgQIECAAAECBAgQIECAQG4CCsbc6A0mQIAAAQIECBAgQIAAAQIECBAgUHwBBWPxM7QDAgQIECBAgAABAgQIECBAgAABArkJKBhzozeYAAECBAgQIECAAAECBAgQIECAQPEFFIzFz9AOCBAgQIAAAQIECBAgQIAAAQIECOQmoGDMjd5gAgQIECBAgAABAgQIECBAgAABAsUXUDAWP0M7IECAAAECBAgQIECAAAECBAgQIJCbgIIxN3qDCRAgQIAAAQIECBAgQIAAAQIECBRf4P8DKeOuXkgsIDoAAAAASUVORK5CYII=\" />"
      ],
      "text/plain": [
       "Open the notebook in JupyterLab with the Atoti JupyterLab extension enabled to build this widget."
      ]
     },
     "metadata": {},
     "output_type": "display_data"
    }
   ],
   "source": [
    "session.widget"
   ]
  },
  {
   "cell_type": "markdown",
   "id": "a69c6a34-4f17-4dc2-a325-5c8cc8145652",
   "metadata": {},
   "source": [
    "## Using hierarchy properties and functions\n",
    "\n",
    "Each hierarchy is an object of the [atoti.Hierarchy](https://docs.atoti.io/latest/api/atoti.Hierarchy.html#atoti.Hierarchy) class. This means that we are able to interact with and manipulate hierarchies using their associated class properties and functions. Let's focus on using some of the more basic properties and functions."
   ]
  },
  {
   "cell_type": "markdown",
   "id": "10ea66d5-13cc-4855-9849-acb1cb9dc2f0",
   "metadata": {},
   "source": [
    "### Basic hierarchy properties and functions"
   ]
  },
  {
   "cell_type": "markdown",
   "id": "a6e66793-aa26-4a3b-a6c6-9f00c04d1585",
   "metadata": {},
   "source": [
    "#### `Hierarchy.dimension`\n",
    "\n",
    "We can use the `dimension` property of a Hierarchy object to determine its parent dimension. For example, we can call the `dimension` property of the `Address` hierarchy to determine that its parent dimension is `Customers`. "
   ]
  },
  {
   "cell_type": "code",
   "execution_count": 22,
   "id": "0a98f4be-4776-410f-b3e5-f1caecef40d7",
   "metadata": {},
   "outputs": [
    {
     "data": {
      "text/plain": [
       "'Customers'"
      ]
     },
     "execution_count": 22,
     "metadata": {},
     "output_type": "execute_result"
    }
   ],
   "source": [
    "h[\"Address\"].dimension"
   ]
  },
  {
   "cell_type": "markdown",
   "id": "ba520c84-c760-4e11-ae6c-41dbdeaa80ab",
   "metadata": {},
   "source": [
    "#### `Hierarchy.name`"
   ]
  },
  {
   "cell_type": "markdown",
   "id": "123230b5-c9b8-4ad5-a43b-ce5ca530a51f",
   "metadata": {},
   "source": [
    "The `name` property will output the name of the hierarchy like so:"
   ]
  },
  {
   "cell_type": "code",
   "execution_count": 23,
   "id": "be0e7632-92f9-48e3-a1b6-92a111a03262",
   "metadata": {},
   "outputs": [
    {
     "data": {
      "text/plain": [
       "'Address'"
      ]
     },
     "execution_count": 23,
     "metadata": {},
     "output_type": "execute_result"
    }
   ],
   "source": [
    "h[\"Address\"].name"
   ]
  },
  {
   "cell_type": "markdown",
   "id": "1ffbe252-9b8b-46e5-80fb-197b0f64e1df",
   "metadata": {},
   "source": [
    "Though this is a bit redundant when we already know the name of the hierarchy. Therefore, using the `name` property may be more helpful when trying to execute a `for` loop to iterate over all hierarchies in an Atoti data model, where we may want the colloquial hierarchy name rather than the fully qualified one (with both the dimension and hierarchy listed)."
   ]
  },
  {
   "cell_type": "code",
   "execution_count": 24,
   "id": "560cc096-3bdc-4799-9c3c-0cd1fb1f9302",
   "metadata": {},
   "outputs": [
    {
     "name": "stdout",
     "output_type": "stream",
     "text": [
      "('Products', 'ProductName')\n",
      "('Customers', 'PostCode')\n",
      "('Employees', 'EmployeeCountry')\n",
      "('Customers', 'PostalCode')\n",
      "('Customers', 'Subregion')\n",
      "('Employees', 'EmployeeCity')\n",
      "('Customers', 'Country')\n",
      "('Orders', 'OrderId')\n",
      "('Orders', 'ShipperName')\n",
      "('Employees', 'EmployeeZone')\n",
      "('Products', 'Supplier')\n",
      "('Orders', 'OrderDate')\n",
      "('Orders', 'ProductId')\n",
      "('Customers', 'Phone')\n",
      "('Customers', 'Address')\n",
      "('Customers', 'Region')\n",
      "('Orders', 'Multi-level Date')\n",
      "('Shippers', 'Contact')\n",
      "('Orders', 'EmployeeId')\n",
      "('Products', 'ProductCategory')\n",
      "('Orders', 'CustomerId')\n",
      "('Products', 'Product')\n",
      "('Customers', 'CompanyName')\n",
      "('Employees', 'EmployeeName')\n",
      "('Customers', 'City')\n"
     ]
    }
   ],
   "source": [
    "for key in h.keys():\n",
    "    print(key)"
   ]
  },
  {
   "cell_type": "code",
   "execution_count": 25,
   "id": "745087f5-b41a-47d8-9f0f-2876a19aebad",
   "metadata": {},
   "outputs": [
    {
     "name": "stdout",
     "output_type": "stream",
     "text": [
      "ProductName\n",
      "PostCode\n",
      "EmployeeCountry\n",
      "PostalCode\n",
      "Subregion\n",
      "EmployeeCity\n",
      "Country\n",
      "OrderId\n",
      "ShipperName\n",
      "EmployeeZone\n",
      "Supplier\n",
      "OrderDate\n",
      "ProductId\n",
      "Phone\n",
      "Address\n",
      "Region\n",
      "Multi-level Date\n",
      "Contact\n",
      "EmployeeId\n",
      "ProductCategory\n",
      "CustomerId\n",
      "Product\n",
      "CompanyName\n",
      "EmployeeName\n",
      "City\n"
     ]
    }
   ],
   "source": [
    "for key in h.keys():\n",
    "    print(h[key].name)"
   ]
  },
  {
   "cell_type": "markdown",
   "id": "0909f55a-78f5-4f3b-b0e8-c6bd17af3e8e",
   "metadata": {},
   "source": [
    "#### `Hierarchy.levels`\n",
    "\n"
   ]
  },
  {
   "cell_type": "markdown",
   "id": "318ba333-e892-4bd4-8da7-f9d998f4564a",
   "metadata": {},
   "source": [
    "We can use the `levels` property to display the available levels for a particular hierarchy. For example, if we were to print the assigned variable that we used for `cube.levels`, this will show us all the available levels for the entire data model."
   ]
  },
  {
   "cell_type": "code",
   "execution_count": 26,
   "id": "826bfd55-e6d4-44d7-8b49-a1b5332539e9",
   "metadata": {},
   "outputs": [
    {
     "data": {
      "application/json": {
       "Address (Customers/Address/Address)": {
        "dimension": "Customers",
        "hierarchy": "Address",
        "order": "NaturalOrder",
        "type": "String"
       },
       "City (Customers/City/City)": {
        "dimension": "Customers",
        "hierarchy": "City",
        "order": "NaturalOrder",
        "type": "String"
       },
       "CompanyName (Customers/CompanyName/CompanyName)": {
        "dimension": "Customers",
        "hierarchy": "CompanyName",
        "order": "NaturalOrder",
        "type": "String"
       },
       "Contact (Shippers/Contact/Contact)": {
        "dimension": "Shippers",
        "hierarchy": "Contact",
        "order": "NaturalOrder",
        "type": "String"
       },
       "Country (Customers/Country/Country)": {
        "dimension": "Customers",
        "hierarchy": "Country",
        "order": "NaturalOrder",
        "type": "String"
       },
       "CustomerId (Orders/CustomerId/CustomerId)": {
        "dimension": "Orders",
        "hierarchy": "CustomerId",
        "order": "NaturalOrder",
        "type": "String"
       },
       "Day (Orders/Multi-level Date/Day)": {
        "dimension": "Orders",
        "hierarchy": "Multi-level Date",
        "order": "NaturalOrder",
        "type": "String"
       },
       "EmployeeCity (Employees/EmployeeCity/EmployeeCity)": {
        "dimension": "Employees",
        "hierarchy": "EmployeeCity",
        "order": "NaturalOrder",
        "type": "String"
       },
       "EmployeeCountry (Employees/EmployeeCountry/EmployeeCountry)": {
        "dimension": "Employees",
        "hierarchy": "EmployeeCountry",
        "order": "NaturalOrder",
        "type": "String"
       },
       "EmployeeId (Orders/EmployeeId/EmployeeId)": {
        "dimension": "Orders",
        "hierarchy": "EmployeeId",
        "order": "NaturalOrder",
        "type": "String"
       },
       "EmployeeName (Employees/EmployeeName/EmployeeName)": {
        "dimension": "Employees",
        "hierarchy": "EmployeeName",
        "order": "NaturalOrder",
        "type": "String"
       },
       "EmployeeZone (Employees/EmployeeZone/EmployeeZone)": {
        "dimension": "Employees",
        "hierarchy": "EmployeeZone",
        "order": "NaturalOrder",
        "type": "String"
       },
       "Month (Orders/Multi-level Date/Month)": {
        "dimension": "Orders",
        "hierarchy": "Multi-level Date",
        "order": "NaturalOrder",
        "type": "String"
       },
       "OrderDate (Orders/OrderDate/OrderDate)": {
        "dimension": "Orders",
        "hierarchy": "OrderDate",
        "order": "NaturalOrder",
        "type": "LocalDate"
       },
       "OrderId (Orders/OrderId/OrderId)": {
        "dimension": "Orders",
        "hierarchy": "OrderId",
        "order": "NaturalOrder",
        "type": "String"
       },
       "Phone (Customers/Phone/Phone)": {
        "dimension": "Customers",
        "hierarchy": "Phone",
        "order": "NaturalOrder",
        "type": "String"
       },
       "PostCode (Customers/PostCode/PostCode)": {
        "dimension": "Customers",
        "hierarchy": "PostCode",
        "order": "NaturalOrder",
        "type": "String"
       },
       "PostalCode (Customers/PostalCode/PostalCode)": {
        "dimension": "Customers",
        "hierarchy": "PostalCode",
        "order": "NaturalOrder",
        "type": "String"
       },
       "ProductCategory (Products/Product/ProductCategory)": {
        "dimension": "Products",
        "hierarchy": "Product",
        "order": "NaturalOrder",
        "type": "String"
       },
       "ProductCategory (Products/ProductCategory/ProductCategory)": {
        "dimension": "Products",
        "hierarchy": "ProductCategory",
        "order": "NaturalOrder",
        "type": "String"
       },
       "ProductId (Orders/ProductId/ProductId)": {
        "dimension": "Orders",
        "hierarchy": "ProductId",
        "order": "NaturalOrder",
        "type": "String"
       },
       "ProductId (Products/Product/ProductId)": {
        "dimension": "Products",
        "hierarchy": "Product",
        "order": "NaturalOrder",
        "type": "String"
       },
       "ProductName (Products/ProductName/ProductName)": {
        "dimension": "Products",
        "hierarchy": "ProductName",
        "order": "NaturalOrder",
        "type": "String"
       },
       "Quarter (Orders/Multi-level Date/Quarter)": {
        "dimension": "Orders",
        "hierarchy": "Multi-level Date",
        "order": "NaturalOrder",
        "type": "String"
       },
       "Region (Customers/Region/Region)": {
        "dimension": "Customers",
        "hierarchy": "Region",
        "order": "NaturalOrder",
        "type": "String"
       },
       "ShipperName (Orders/ShipperName/ShipperName)": {
        "dimension": "Orders",
        "hierarchy": "ShipperName",
        "order": "NaturalOrder",
        "type": "String"
       },
       "Subregion (Customers/Subregion/Subregion)": {
        "dimension": "Customers",
        "hierarchy": "Subregion",
        "order": "NaturalOrder",
        "type": "String"
       },
       "Supplier (Products/Supplier/Supplier)": {
        "dimension": "Products",
        "hierarchy": "Supplier",
        "order": "NaturalOrder",
        "type": "String"
       },
       "Year (Orders/Multi-level Date/Year)": {
        "dimension": "Orders",
        "hierarchy": "Multi-level Date",
        "order": "NaturalOrder",
        "type": "String"
       }
      },
      "text/html": [
       "<ul>\n",
       "<li>Levels\n",
       "  <ul>\n",
       "  <li>Address (Customers/Address/Address)\n",
       "    <ul>\n",
       "    <li>dimension: Customers</li>\n",
       "    <li>hierarchy: Address</li>\n",
       "    <li>type: String</li>\n",
       "    <li>order: NaturalOrder</li>\n",
       "    </ul>\n",
       "  </li>\n",
       "  <li>City (Customers/City/City)\n",
       "    <ul>\n",
       "    <li>dimension: Customers</li>\n",
       "    <li>hierarchy: City</li>\n",
       "    <li>type: String</li>\n",
       "    <li>order: NaturalOrder</li>\n",
       "    </ul>\n",
       "  </li>\n",
       "  <li>CompanyName (Customers/CompanyName/CompanyName)\n",
       "    <ul>\n",
       "    <li>dimension: Customers</li>\n",
       "    <li>hierarchy: CompanyName</li>\n",
       "    <li>type: String</li>\n",
       "    <li>order: NaturalOrder</li>\n",
       "    </ul>\n",
       "  </li>\n",
       "  <li>Contact (Shippers/Contact/Contact)\n",
       "    <ul>\n",
       "    <li>dimension: Shippers</li>\n",
       "    <li>hierarchy: Contact</li>\n",
       "    <li>type: String</li>\n",
       "    <li>order: NaturalOrder</li>\n",
       "    </ul>\n",
       "  </li>\n",
       "  <li>Country (Customers/Country/Country)\n",
       "    <ul>\n",
       "    <li>dimension: Customers</li>\n",
       "    <li>hierarchy: Country</li>\n",
       "    <li>type: String</li>\n",
       "    <li>order: NaturalOrder</li>\n",
       "    </ul>\n",
       "  </li>\n",
       "  <li>CustomerId (Orders/CustomerId/CustomerId)\n",
       "    <ul>\n",
       "    <li>dimension: Orders</li>\n",
       "    <li>hierarchy: CustomerId</li>\n",
       "    <li>type: String</li>\n",
       "    <li>order: NaturalOrder</li>\n",
       "    </ul>\n",
       "  </li>\n",
       "  <li>Day (Orders/Multi-level Date/Day)\n",
       "    <ul>\n",
       "    <li>dimension: Orders</li>\n",
       "    <li>hierarchy: Multi-level Date</li>\n",
       "    <li>type: String</li>\n",
       "    <li>order: NaturalOrder</li>\n",
       "    </ul>\n",
       "  </li>\n",
       "  <li>EmployeeCity (Employees/EmployeeCity/EmployeeCity)\n",
       "    <ul>\n",
       "    <li>dimension: Employees</li>\n",
       "    <li>hierarchy: EmployeeCity</li>\n",
       "    <li>type: String</li>\n",
       "    <li>order: NaturalOrder</li>\n",
       "    </ul>\n",
       "  </li>\n",
       "  <li>EmployeeCountry (Employees/EmployeeCountry/EmployeeCountry)\n",
       "    <ul>\n",
       "    <li>dimension: Employees</li>\n",
       "    <li>hierarchy: EmployeeCountry</li>\n",
       "    <li>type: String</li>\n",
       "    <li>order: NaturalOrder</li>\n",
       "    </ul>\n",
       "  </li>\n",
       "  <li>EmployeeId (Orders/EmployeeId/EmployeeId)\n",
       "    <ul>\n",
       "    <li>dimension: Orders</li>\n",
       "    <li>hierarchy: EmployeeId</li>\n",
       "    <li>type: String</li>\n",
       "    <li>order: NaturalOrder</li>\n",
       "    </ul>\n",
       "  </li>\n",
       "  <li>EmployeeName (Employees/EmployeeName/EmployeeName)\n",
       "    <ul>\n",
       "    <li>dimension: Employees</li>\n",
       "    <li>hierarchy: EmployeeName</li>\n",
       "    <li>type: String</li>\n",
       "    <li>order: NaturalOrder</li>\n",
       "    </ul>\n",
       "  </li>\n",
       "  <li>EmployeeZone (Employees/EmployeeZone/EmployeeZone)\n",
       "    <ul>\n",
       "    <li>dimension: Employees</li>\n",
       "    <li>hierarchy: EmployeeZone</li>\n",
       "    <li>type: String</li>\n",
       "    <li>order: NaturalOrder</li>\n",
       "    </ul>\n",
       "  </li>\n",
       "  <li>Month (Orders/Multi-level Date/Month)\n",
       "    <ul>\n",
       "    <li>dimension: Orders</li>\n",
       "    <li>hierarchy: Multi-level Date</li>\n",
       "    <li>type: String</li>\n",
       "    <li>order: NaturalOrder</li>\n",
       "    </ul>\n",
       "  </li>\n",
       "  <li>OrderDate (Orders/OrderDate/OrderDate)\n",
       "    <ul>\n",
       "    <li>dimension: Orders</li>\n",
       "    <li>hierarchy: OrderDate</li>\n",
       "    <li>type: LocalDate</li>\n",
       "    <li>order: NaturalOrder</li>\n",
       "    </ul>\n",
       "  </li>\n",
       "  <li>OrderId (Orders/OrderId/OrderId)\n",
       "    <ul>\n",
       "    <li>dimension: Orders</li>\n",
       "    <li>hierarchy: OrderId</li>\n",
       "    <li>type: String</li>\n",
       "    <li>order: NaturalOrder</li>\n",
       "    </ul>\n",
       "  </li>\n",
       "  <li>Phone (Customers/Phone/Phone)\n",
       "    <ul>\n",
       "    <li>dimension: Customers</li>\n",
       "    <li>hierarchy: Phone</li>\n",
       "    <li>type: String</li>\n",
       "    <li>order: NaturalOrder</li>\n",
       "    </ul>\n",
       "  </li>\n",
       "  <li>PostCode (Customers/PostCode/PostCode)\n",
       "    <ul>\n",
       "    <li>dimension: Customers</li>\n",
       "    <li>hierarchy: PostCode</li>\n",
       "    <li>type: String</li>\n",
       "    <li>order: NaturalOrder</li>\n",
       "    </ul>\n",
       "  </li>\n",
       "  <li>PostalCode (Customers/PostalCode/PostalCode)\n",
       "    <ul>\n",
       "    <li>dimension: Customers</li>\n",
       "    <li>hierarchy: PostalCode</li>\n",
       "    <li>type: String</li>\n",
       "    <li>order: NaturalOrder</li>\n",
       "    </ul>\n",
       "  </li>\n",
       "  <li>ProductCategory (Products/Product/ProductCategory)\n",
       "    <ul>\n",
       "    <li>dimension: Products</li>\n",
       "    <li>hierarchy: Product</li>\n",
       "    <li>type: String</li>\n",
       "    <li>order: NaturalOrder</li>\n",
       "    </ul>\n",
       "  </li>\n",
       "  <li>ProductCategory (Products/ProductCategory/ProductCategory)\n",
       "    <ul>\n",
       "    <li>dimension: Products</li>\n",
       "    <li>hierarchy: ProductCategory</li>\n",
       "    <li>type: String</li>\n",
       "    <li>order: NaturalOrder</li>\n",
       "    </ul>\n",
       "  </li>\n",
       "  <li>ProductId (Orders/ProductId/ProductId)\n",
       "    <ul>\n",
       "    <li>dimension: Orders</li>\n",
       "    <li>hierarchy: ProductId</li>\n",
       "    <li>type: String</li>\n",
       "    <li>order: NaturalOrder</li>\n",
       "    </ul>\n",
       "  </li>\n",
       "  <li>ProductId (Products/Product/ProductId)\n",
       "    <ul>\n",
       "    <li>dimension: Products</li>\n",
       "    <li>hierarchy: Product</li>\n",
       "    <li>type: String</li>\n",
       "    <li>order: NaturalOrder</li>\n",
       "    </ul>\n",
       "  </li>\n",
       "  <li>ProductName (Products/ProductName/ProductName)\n",
       "    <ul>\n",
       "    <li>dimension: Products</li>\n",
       "    <li>hierarchy: ProductName</li>\n",
       "    <li>type: String</li>\n",
       "    <li>order: NaturalOrder</li>\n",
       "    </ul>\n",
       "  </li>\n",
       "  <li>Quarter (Orders/Multi-level Date/Quarter)\n",
       "    <ul>\n",
       "    <li>dimension: Orders</li>\n",
       "    <li>hierarchy: Multi-level Date</li>\n",
       "    <li>type: String</li>\n",
       "    <li>order: NaturalOrder</li>\n",
       "    </ul>\n",
       "  </li>\n",
       "  <li>Region (Customers/Region/Region)\n",
       "    <ul>\n",
       "    <li>dimension: Customers</li>\n",
       "    <li>hierarchy: Region</li>\n",
       "    <li>type: String</li>\n",
       "    <li>order: NaturalOrder</li>\n",
       "    </ul>\n",
       "  </li>\n",
       "  <li>ShipperName (Orders/ShipperName/ShipperName)\n",
       "    <ul>\n",
       "    <li>dimension: Orders</li>\n",
       "    <li>hierarchy: ShipperName</li>\n",
       "    <li>type: String</li>\n",
       "    <li>order: NaturalOrder</li>\n",
       "    </ul>\n",
       "  </li>\n",
       "  <li>Subregion (Customers/Subregion/Subregion)\n",
       "    <ul>\n",
       "    <li>dimension: Customers</li>\n",
       "    <li>hierarchy: Subregion</li>\n",
       "    <li>type: String</li>\n",
       "    <li>order: NaturalOrder</li>\n",
       "    </ul>\n",
       "  </li>\n",
       "  <li>Supplier (Products/Supplier/Supplier)\n",
       "    <ul>\n",
       "    <li>dimension: Products</li>\n",
       "    <li>hierarchy: Supplier</li>\n",
       "    <li>type: String</li>\n",
       "    <li>order: NaturalOrder</li>\n",
       "    </ul>\n",
       "  </li>\n",
       "  <li>Year (Orders/Multi-level Date/Year)\n",
       "    <ul>\n",
       "    <li>dimension: Orders</li>\n",
       "    <li>hierarchy: Multi-level Date</li>\n",
       "    <li>type: String</li>\n",
       "    <li>order: NaturalOrder</li>\n",
       "    </ul>\n",
       "  </li>\n",
       "  </ul>\n",
       "</li>\n",
       "</ul>\n"
      ],
      "text/plain": [
       "<atoti.levels.Levels at 0x127791660>"
      ]
     },
     "execution_count": 26,
     "metadata": {
      "application/json": {
       "expanded": true,
       "root": "Levels"
      }
     },
     "output_type": "execute_result"
    }
   ],
   "source": [
    "l"
   ]
  },
  {
   "cell_type": "markdown",
   "id": "80461972-2dcd-42c3-8136-eac2a1a5f330",
   "metadata": {},
   "source": [
    "But let's say we wanted to see just the levels for our previous multi-level hierarchy `Product`. Scanning through the fully qualified list of levels may be a bit cumbersome (especially if we have a large amount of levels!). Thus, we can instead use the `levels` property for the multi-level `Product` hierarchy object to only show the levels for that particular hierarchy."
   ]
  },
  {
   "cell_type": "code",
   "execution_count": 27,
   "id": "300a379b-9bfb-44a5-b126-4d60018ae5cc",
   "metadata": {},
   "outputs": [
    {
     "name": "stdout",
     "output_type": "stream",
     "text": [
      "ProductCategory\n",
      "ProductId\n"
     ]
    }
   ],
   "source": [
    "product_levels = h[\"Product\"].levels\n",
    "\n",
    "for key in product_levels.keys():\n",
    "    print(key)"
   ]
  },
  {
   "cell_type": "code",
   "execution_count": 28,
   "id": "9673bf93-00e0-4e7a-bdf2-7a859d409657",
   "metadata": {},
   "outputs": [
    {
     "data": {
      "application/json": {
       "dimension": "Products",
       "hierarchy": "Product",
       "order": "NaturalOrder",
       "type": "String"
      },
      "text/html": [
       "<ul>\n",
       "<li>ProductCategory\n",
       "  <ul>\n",
       "  <li>dimension: Products</li>\n",
       "  <li>hierarchy: Product</li>\n",
       "  <li>type: String</li>\n",
       "  <li>order: NaturalOrder</li>\n",
       "  </ul>\n",
       "</li>\n",
       "</ul>\n"
      ],
      "text/plain": [
       "<atoti.level.Level at 0x1277932e0>"
      ]
     },
     "execution_count": 28,
     "metadata": {
      "application/json": {
       "expanded": true,
       "root": "ProductCategory"
      }
     },
     "output_type": "execute_result"
    }
   ],
   "source": [
    "product_levels[\"ProductCategory\"]"
   ]
  },
  {
   "cell_type": "code",
   "execution_count": 29,
   "id": "31a1e116-70e7-46d7-856b-77f8e73f0347",
   "metadata": {},
   "outputs": [
    {
     "data": {
      "application/json": {
       "dimension": "Products",
       "hierarchy": "Product",
       "order": "NaturalOrder",
       "type": "String"
      },
      "text/html": [
       "<ul>\n",
       "<li>ProductId\n",
       "  <ul>\n",
       "  <li>dimension: Products</li>\n",
       "  <li>hierarchy: Product</li>\n",
       "  <li>type: String</li>\n",
       "  <li>order: NaturalOrder</li>\n",
       "  </ul>\n",
       "</li>\n",
       "</ul>\n"
      ],
      "text/plain": [
       "<atoti.level.Level at 0x1277915d0>"
      ]
     },
     "execution_count": 29,
     "metadata": {
      "application/json": {
       "expanded": true,
       "root": "ProductId"
      }
     },
     "output_type": "execute_result"
    }
   ],
   "source": [
    "product_levels[\"ProductId\"]"
   ]
  },
  {
   "cell_type": "markdown",
   "id": "19c6b620-d95f-4807-b652-b0624e045dce",
   "metadata": {},
   "source": [
    "#### `Hierarchy.dimension_default`"
   ]
  },
  {
   "cell_type": "markdown",
   "id": "345470f0-b46d-4ca0-95c6-1f5c57e244ef",
   "metadata": {},
   "source": [
    "We can also call the `dimension_default` property of a Hierarchy object to determine if a specified hierarchy is the default hierarchy in its parent dimension.\n",
    "\n",
    "💡 **Note:** https://docs.atoti.io/latest/api/atoti.Hierarchy.dimension_default.html#atoti.Hierarchy.dimension_default"
   ]
  },
  {
   "cell_type": "code",
   "execution_count": 30,
   "id": "ddfcdf1a-f39f-4b4c-a2e9-a0e2859dc37b",
   "metadata": {},
   "outputs": [
    {
     "data": {
      "text/plain": [
       "False"
      ]
     },
     "execution_count": 30,
     "metadata": {},
     "output_type": "execute_result"
    }
   ],
   "source": [
    "h[\"Address\"].dimension_default"
   ]
  },
  {
   "cell_type": "markdown",
   "id": "663db110-bfa5-476a-bdf0-438864e4cdfc",
   "metadata": {},
   "source": [
    "The output of the `dimension_default` property for a Hierarchy should be either `True` or `False`. In this case, the `Address` hierarchy of the `Customers` dimension is **not** the default hierarchy for the `Customers` dimension.\n",
    "\n",
    "So which hierarchy **is** the default hierarchy for the `Customers` dimension? We can create a simple `for` loop to test this. \n",
    "\n",
    "💡 **Note:** The `Orders` and `Customers` tables are joined by the common key: `CustomerId`. However, from an Atoti data model perspective, `CustomerId` is a hierarchy present under the base table or `Orders` dimension, and is no longer present as a (redundant) hierarchy under the `Customers` dimension. Therefore, when checking the `Customers` dimension for its default hierarchy, we must filter out the `CustomerId` out from the search criteria — otherwise we get a missing `KeyError`."
   ]
  },
  {
   "cell_type": "code",
   "execution_count": 31,
   "id": "1fe311c8-b976-429d-9898-13ee34ba9d2e",
   "metadata": {},
   "outputs": [
    {
     "name": "stdout",
     "output_type": "stream",
     "text": [
      "h['Customers', 'CompanyName'].dimension_default == False\n",
      "h['Customers', 'Address'].dimension_default == False\n",
      "h['Customers', 'City'].dimension_default == False\n",
      "h['Customers', 'PostalCode'].dimension_default == True\n",
      "h['Customers', 'Region'].dimension_default == False\n",
      "h['Customers', 'Country'].dimension_default == False\n",
      "h['Customers', 'Subregion'].dimension_default == False\n",
      "h['Customers', 'Phone'].dimension_default == False\n",
      "h['Customers', 'PostCode'].dimension_default == False\n"
     ]
    }
   ],
   "source": [
    "def check_default_hierarchy(hierachies, table):\n",
    "    \"\"\"Checks for the default hierarchy for an Atoti Table object.\"\"\"\n",
    "    dimension = table.name\n",
    "    for hierarchy in table.columns:\n",
    "        if hierarchy != \"CustomerId\":\n",
    "            print(\n",
    "                f\"h['{dimension}', '{hierarchy}'].dimension_default == {h[dimension, hierarchy].dimension_default}\"\n",
    "            )\n",
    "\n",
    "\n",
    "check_default_hierarchy(h, customers)"
   ]
  },
  {
   "cell_type": "markdown",
   "id": "cb5eb9ff-9dcd-4ca6-95b5-f671694f9603",
   "metadata": {},
   "source": [
    "We can see that the default hierarchy for the `Customers` dimension is actually `PostalCode`. If we set another hierarchy under the `Customers` dimension as the default hierarchy, it would look like this:"
   ]
  },
  {
   "cell_type": "code",
   "execution_count": 32,
   "id": "a6abbe1a-8799-437f-a533-eb8ceba43395",
   "metadata": {},
   "outputs": [],
   "source": [
    "h[\"Address\"].dimension_default = True"
   ]
  },
  {
   "cell_type": "markdown",
   "id": "bb1d2b9b-6f1e-45fe-a0b5-90638eace9f7",
   "metadata": {},
   "source": [
    "Then, if we re-use the `check_default_hierarchy` function that we defined previously, we can see that the default hierarchy for the `Customers` dimension has indeed been updated."
   ]
  },
  {
   "cell_type": "code",
   "execution_count": 33,
   "id": "9c814d42-e50e-4da2-bf4c-143123207525",
   "metadata": {},
   "outputs": [
    {
     "name": "stdout",
     "output_type": "stream",
     "text": [
      "h['Customers', 'CompanyName'].dimension_default == False\n",
      "h['Customers', 'Address'].dimension_default == True\n",
      "h['Customers', 'City'].dimension_default == False\n",
      "h['Customers', 'PostalCode'].dimension_default == False\n",
      "h['Customers', 'Region'].dimension_default == False\n",
      "h['Customers', 'Country'].dimension_default == False\n",
      "h['Customers', 'Subregion'].dimension_default == False\n",
      "h['Customers', 'Phone'].dimension_default == False\n",
      "h['Customers', 'PostCode'].dimension_default == False\n"
     ]
    }
   ],
   "source": [
    "check_default_hierarchy(h, customers)"
   ]
  },
  {
   "cell_type": "markdown",
   "id": "823f8274-eda1-45fb-9137-b3aac5c7ba9b",
   "metadata": {},
   "source": [
    "#### `Hierarchy.visible`\n",
    "\n",
    "The `visible` property will either display or hide a hierarchy from the list of available hierarchies when using Atoti in either the Atoti JupyterLab extension or the Atoti UI. For example, if we look at our data model, we can see the `CustomerId` hierarchy present in the list of available hierarchies.\n",
    "\n",
    "💡 **Note:** The `visible` property will **not** delete a hierarchy from an Atoti data model, it merely hides it as an available hierarchy in any of our UI interfaces. Programmatically, a hidden hierarchy can still be used."
   ]
  },
  {
   "cell_type": "markdown",
   "id": "1dfd1308-35b4-4926-8a97-74254786f073",
   "metadata": {
    "editable": true,
    "slideshow": {
     "slide_type": ""
    },
    "tags": []
   },
   "source": [
    "<img src=\"https://data.atoti.io/notebooks/hierarchies/images/hierarchies-visible-true.png\" alt=\"hierarchies-visible-true\" width=\"225\"/>"
   ]
  },
  {
   "cell_type": "markdown",
   "id": "2c002e25-1cfb-4a40-a599-1382b582705b",
   "metadata": {},
   "source": [
    "If we use `session.widget` to select the `CustomerId` as our hierarchy and `QuantitySold.SUM` as our measure, we can see output as expected."
   ]
  },
  {
   "cell_type": "code",
   "execution_count": 34,
   "id": "c7385596-5551-4506-a0b5-b499c97fe377",
   "metadata": {
    "atoti": {
     "widget": {
      "columnWidths": {
       "[Customers].[Address].[Address]": 170,
       "[Measures].[contributors.COUNT]": 140
      },
      "mapping": {
       "columns": [
        "ALL_MEASURES"
       ],
       "measures": [
        "[Measures].[QuantitySold.SUM]"
       ],
       "rows": [
        "[Orders].[CustomerId].[CustomerId]"
       ]
      },
      "query": {
       "mdx": "SELECT NON EMPTY Hierarchize(Descendants({[Orders].[CustomerId].[ALL].[AllMember]}, 1, SELF_AND_BEFORE)) ON ROWS, NON EMPTY {[Measures].[QuantitySold.SUM]} ON COLUMNS FROM [Orders] CELL PROPERTIES VALUE, FORMATTED_VALUE, BACK_COLOR, FORE_COLOR, FONT_FLAGS",
       "updateMode": "once"
      },
      "serverKey": "default",
      "widgetKey": "pivot-table"
     }
    },
    "editable": true,
    "slideshow": {
     "slide_type": ""
    },
    "tags": []
   },
   "outputs": [
    {
     "data": {
      "application/vnd.atoti.widget.v0+json": {
       "sessionId": "1717601103_7Y9TK8",
       "sessionLocation": {
        "https": false,
        "port": 9092
       },
       "widgetCreationCode": "session.widget"
      },
      "text/html": [
       "<img height=\"352\" width=\"1304\" src=\"data:image/png;base64,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\" />"
      ],
      "text/plain": [
       "Open the notebook in JupyterLab with the Atoti JupyterLab extension enabled to build this widget."
      ]
     },
     "metadata": {},
     "output_type": "display_data"
    }
   ],
   "source": [
    "session.widget"
   ]
  },
  {
   "cell_type": "markdown",
   "id": "6540f93c-d19c-47fa-8994-543f31c62dc9",
   "metadata": {},
   "source": [
    "However if we set the `visible` property of the `CustomerId` hierarchy to `False`, it will hide it from our list of available hierarchies as expected. \n",
    "\n",
    "💡 **Note:** Notice that the total number of hierarchies in the data model (`23`) does not change whether or not the `visible` property for a hierarchy is set to `True` or `False`, and that the previous `session.widget` still shows the analysis for quantity sold per customer, as the hierarchy is not **deleted** but **hidden**."
   ]
  },
  {
   "cell_type": "code",
   "execution_count": 35,
   "id": "fea74973-b2dd-4b26-8cdf-ef3d6de978d2",
   "metadata": {},
   "outputs": [],
   "source": [
    "h[\"CustomerId\"].visible = False"
   ]
  },
  {
   "cell_type": "markdown",
   "id": "6fc69554-ef5f-46ca-92e4-4a226987253c",
   "metadata": {},
   "source": [
    "<img src=\"https://data.atoti.io/notebooks/hierarchies/images/hierarchies-visible-false.png\" alt=\"hierarchies-visible-false\" width=\"225\"/>"
   ]
  },
  {
   "cell_type": "markdown",
   "id": "44bd039a-5045-4fb6-9dbb-70bf09fd68a9",
   "metadata": {},
   "source": [
    "And that's it for now! 🎉\n",
    "\n",
    "We hope that this walk through gives you a jump start for working with hierarchies in Atoti 😊. Stay tuned for more advanced topics on Atoti hierarchies in the future! Until then, take care! 👋"
   ]
  },
  {
   "cell_type": "markdown",
   "id": "c71f02bb-2a7a-4dfb-8c42-47e0b157b9c2",
   "metadata": {},
   "source": [
    "<div style=\"text-align: center;\" ><a href=\"https://www.atoti.io/?utm_source=gallery&utm_content=hierarchies\" target=\"_blank\" rel=\"noopener noreferrer\"><img src=\"https://data.atoti.io/notebooks/banners/Your-turn-to-try-Atoti.jpg\" alt=\"Try Atoti\"></a></div>"
   ]
  }
 ],
 "metadata": {
  "kernelspec": {
   "display_name": "Python 3 (ipykernel)",
   "language": "python",
   "name": "python3"
  },
  "language_info": {
   "codemirror_mode": {
    "name": "ipython",
    "version": 3
   },
   "file_extension": ".py",
   "mimetype": "text/x-python",
   "name": "python",
   "nbconvert_exporter": "python",
   "pygments_lexer": "ipython3",
   "version": "3.10.0"
  }
 },
 "nbformat": 4,
 "nbformat_minor": 5
}
