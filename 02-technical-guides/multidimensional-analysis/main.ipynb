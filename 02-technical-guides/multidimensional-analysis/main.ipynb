{
 "cells": [
  {
   "cell_type": "markdown",
   "id": "f3572592-7139-4cb5-82ec-eb5afefa929f",
   "metadata": {
    "editable": true,
    "slideshow": {
     "slide_type": ""
    },
    "tags": []
   },
   "source": [
    "# Multidimensional Analysis\n",
    "\n",
    "In this notebook, we'll be show you how to perform multidimensional analysis, allowing users to observe data from different viewpoints."
   ]
  },
  {
   "cell_type": "markdown",
   "id": "3aba2356-25d6-4bde-9ef2-49f4f049afb8",
   "metadata": {},
   "source": [
    "<div style=\"text-align: center;\"><img src=\"https://data.atoti.io/notebooks/multidimension/img/cube-slice-dice.png\"></div>"
   ]
  },
  {
   "cell_type": "markdown",
   "id": "430ae29e-d1cd-4dce-83bf-f6664082ecbe",
   "metadata": {},
   "source": [
    "<div style=\"text-align:center\"><a href=\"https://www.atoti.io/?utm_source=gallery&utm_content=multidimensional-analysis\" target=\"_blank\" rel=\"noopener noreferrer\"><img src=\"https://data.atoti.io/notebooks/banners/Discover-Atoti-now.png\" alt=\"atoti table\" /></a></div>"
   ]
  },
  {
   "cell_type": "code",
   "execution_count": 1,
   "id": "43850b85-2acc-445c-aa89-9b2939a0e6a8",
   "metadata": {},
   "outputs": [],
   "source": [
    "import pandas as pd\n",
    "import atoti as tt"
   ]
  },
  {
   "cell_type": "code",
   "execution_count": 2,
   "id": "47c0734a-58bd-4487-922e-a0775c61517d",
   "metadata": {},
   "outputs": [],
   "source": [
    "session = tt.Session.start()"
   ]
  },
  {
   "cell_type": "code",
   "execution_count": 3,
   "id": "dbb89caf-5375-40ff-9766-2dad75c67017",
   "metadata": {},
   "outputs": [
    {
     "data": {
      "text/html": [
       "<div>\n",
       "<style scoped>\n",
       "    .dataframe tbody tr th:only-of-type {\n",
       "        vertical-align: middle;\n",
       "    }\n",
       "\n",
       "    .dataframe tbody tr th {\n",
       "        vertical-align: top;\n",
       "    }\n",
       "\n",
       "    .dataframe thead th {\n",
       "        text-align: right;\n",
       "    }\n",
       "</style>\n",
       "<table border=\"1\" class=\"dataframe\">\n",
       "  <thead>\n",
       "    <tr style=\"text-align: right;\">\n",
       "      <th></th>\n",
       "      <th>Sale ID</th>\n",
       "      <th>Date</th>\n",
       "      <th>Shop</th>\n",
       "      <th>Product</th>\n",
       "      <th>Quantity</th>\n",
       "      <th>Unit price</th>\n",
       "    </tr>\n",
       "  </thead>\n",
       "  <tbody>\n",
       "    <tr>\n",
       "      <th>0</th>\n",
       "      <td>S000003722</td>\n",
       "      <td>2021-02-02</td>\n",
       "      <td>shop_2</td>\n",
       "      <td>TAB_1</td>\n",
       "      <td>3</td>\n",
       "      <td>300.0</td>\n",
       "    </tr>\n",
       "    <tr>\n",
       "      <th>1</th>\n",
       "      <td>S000001550</td>\n",
       "      <td>2021-01-15</td>\n",
       "      <td>shop_30</td>\n",
       "      <td>BED_25</td>\n",
       "      <td>1</td>\n",
       "      <td>300.0</td>\n",
       "    </tr>\n",
       "    <tr>\n",
       "      <th>2</th>\n",
       "      <td>S000003962</td>\n",
       "      <td>2021-02-02</td>\n",
       "      <td>shop_2</td>\n",
       "      <td>SHO_58</td>\n",
       "      <td>1</td>\n",
       "      <td>60.0</td>\n",
       "    </tr>\n",
       "    <tr>\n",
       "      <th>3</th>\n",
       "      <td>S000000599</td>\n",
       "      <td>2021-01-06</td>\n",
       "      <td>shop_39</td>\n",
       "      <td>TSH_50</td>\n",
       "      <td>1</td>\n",
       "      <td>20.0</td>\n",
       "    </tr>\n",
       "    <tr>\n",
       "      <th>4</th>\n",
       "      <td>S000000929</td>\n",
       "      <td>2021-01-06</td>\n",
       "      <td>shop_9</td>\n",
       "      <td>HOO_14</td>\n",
       "      <td>2</td>\n",
       "      <td>49.0</td>\n",
       "    </tr>\n",
       "  </tbody>\n",
       "</table>\n",
       "</div>"
      ],
      "text/plain": [
       "      Sale ID       Date     Shop Product  Quantity  Unit price\n",
       "0  S000003722 2021-02-02   shop_2   TAB_1         3       300.0\n",
       "1  S000001550 2021-01-15  shop_30  BED_25         1       300.0\n",
       "2  S000003962 2021-02-02   shop_2  SHO_58         1        60.0\n",
       "3  S000000599 2021-01-06  shop_39  TSH_50         1        20.0\n",
       "4  S000000929 2021-01-06   shop_9  HOO_14         2        49.0"
      ]
     },
     "execution_count": 3,
     "metadata": {},
     "output_type": "execute_result"
    }
   ],
   "source": [
    "sales = session.read_csv(\n",
    "    \"s3://data.atoti.io/notebooks/multidimension/sales.csv\",\n",
    "    table_name=\"Sales\",\n",
    "    data_types={\"Unit price\": tt.type.DOUBLE},\n",
    ")\n",
    "sales.head()"
   ]
  },
  {
   "cell_type": "code",
   "execution_count": 4,
   "id": "efb6008d-b7fa-4980-a42c-e230e2d9ab4f",
   "metadata": {},
   "outputs": [],
   "source": [
    "cube = session.create_cube(sales, \"sales cube\")"
   ]
  },
  {
   "cell_type": "markdown",
   "id": "e043c008-f810-4495-bf7c-594696e68b66",
   "metadata": {},
   "source": [
    "# Data are group into two categories - Data dimensions and measurements"
   ]
  },
  {
   "cell_type": "code",
   "execution_count": 5,
   "id": "6b740eea-1e79-40bb-9076-eeb9fa82bfbc",
   "metadata": {},
   "outputs": [
    {
     "data": {
      "application/json": {
       "Dimensions": {
        "Sales": {
         "Date": [
          "Date"
         ],
         "Product": [
          "Product"
         ],
         "Sale ID": [
          "Sale ID"
         ],
         "Shop": [
          "Shop"
         ]
        }
       },
       "Measures": {
        "Quantity.MEAN": {
         "formatter": "DOUBLE[#,###.00]"
        },
        "Quantity.SUM": {
         "formatter": "INT[#,###]"
        },
        "Unit price.MEAN": {
         "formatter": "DOUBLE[#,###.00]"
        },
        "Unit price.SUM": {
         "formatter": "DOUBLE[#,###.00]"
        },
        "contributors.COUNT": {
         "formatter": "INT[#,###]"
        }
       }
      },
      "text/html": [
       "<ul>\n",
       "<li>sales cube\n",
       "  <ul>\n",
       "  <li>Dimensions\n",
       "    <ul>\n",
       "    <li>Sales\n",
       "      <ul>\n",
       "      <li>Date\n",
       "        <ol>\n",
       "        <li>Date</li>\n",
       "        </ol>      </li>\n",
       "      <li>Product\n",
       "        <ol>\n",
       "        <li>Product</li>\n",
       "        </ol>      </li>\n",
       "      <li>Sale ID\n",
       "        <ol>\n",
       "        <li>Sale ID</li>\n",
       "        </ol>      </li>\n",
       "      <li>Shop\n",
       "        <ol>\n",
       "        <li>Shop</li>\n",
       "        </ol>      </li>\n",
       "      </ul>\n",
       "    </li>\n",
       "    </ul>\n",
       "  </li>\n",
       "  <li>Measures\n",
       "    <ul>\n",
       "    <li>Quantity.MEAN\n",
       "      <ul>\n",
       "      <li>formatter: DOUBLE[#,###.00]</li>\n",
       "      </ul>\n",
       "    </li>\n",
       "    <li>Quantity.SUM\n",
       "      <ul>\n",
       "      <li>formatter: INT[#,###]</li>\n",
       "      </ul>\n",
       "    </li>\n",
       "    <li>Unit price.MEAN\n",
       "      <ul>\n",
       "      <li>formatter: DOUBLE[#,###.00]</li>\n",
       "      </ul>\n",
       "    </li>\n",
       "    <li>Unit price.SUM\n",
       "      <ul>\n",
       "      <li>formatter: DOUBLE[#,###.00]</li>\n",
       "      </ul>\n",
       "    </li>\n",
       "    <li>contributors.COUNT\n",
       "      <ul>\n",
       "      <li>formatter: INT[#,###]</li>\n",
       "      </ul>\n",
       "    </li>\n",
       "    </ul>\n",
       "  </li>\n",
       "  </ul>\n",
       "</li>\n",
       "</ul>\n"
      ],
      "text/plain": [
       "<atoti.cube.Cube at 0x10ffa5c10>"
      ]
     },
     "execution_count": 5,
     "metadata": {
      "application/json": {
       "expanded": false,
       "root": "sales cube"
      }
     },
     "output_type": "execute_result"
    }
   ],
   "source": [
    "cube"
   ]
  },
  {
   "cell_type": "markdown",
   "id": "7e1ca805-b5d6-48df-95ff-9228f7146d4b",
   "metadata": {},
   "source": [
    "<img alt=\"Multidimensional cube concept\" src=\"https://data.atoti.io/notebooks/multidimension/img/cube-concept.svg\" width=\"400\" />\n",
    "\n",
    "The axes of the cube are called _hierarchies_."
   ]
  },
  {
   "cell_type": "code",
   "execution_count": 6,
   "id": "e44629ea-118e-4977-90da-7713a72bb9d4",
   "metadata": {
    "atoti": {
     "widget": {
      "filters": [
       {
        "dimensionName": "Sales",
        "hierarchyName": "Product",
        "isExclusionFilter": false,
        "members": [
         [
          "AllMember",
          "BED_24"
         ]
        ],
        "type": "members"
       }
      ],
      "mapping": {
       "columns": [
        "[Sales].[Product].[Product]",
        "ALL_MEASURES"
       ],
       "measures": [
        "[Measures].[Quantity.SUM]",
        "[Measures].[Unit price.SUM]"
       ],
       "rows": [
        "[Sales].[Shop].[Shop] => [Sales].[Date].[Date]"
       ]
      },
      "query": {
       "mdx": "SELECT NON EMPTY Hierarchize(Descendants({[Sales].[Shop].[ALL].[AllMember]}, 1, SELF_AND_BEFORE)) ON ROWS, NON EMPTY Crossjoin(Hierarchize(Descendants({[Sales].[Product].[ALL].[AllMember]}, 1, SELF_AND_BEFORE)), {[Measures].[Quantity.SUM], [Measures].[Unit price.SUM]}) ON COLUMNS FROM [sales cube] CELL PROPERTIES VALUE, FORMATTED_VALUE, BACK_COLOR, FORE_COLOR, FONT_FLAGS",
       "updateMode": "once"
      },
      "serverKey": "default",
      "widgetKey": "pivot-table"
     }
    },
    "editable": true,
    "slideshow": {
     "slide_type": ""
    },
    "tags": []
   },
   "outputs": [
    {
     "data": {
      "application/vnd.atoti.widget.v0+json": {
       "sessionId": "1755112306_756860",
       "sessionUrl": "http://localhost:57575",
       "widgetCreationCode": "session.widget"
      },
      "text/html": [
       "<img height=\"352\" width=\"833\" src=\"data:image/png;base64,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\" />"
      ],
      "text/plain": [
       "Open the notebook in JupyterLab with the Atoti JupyterLab extension enabled to build this widget."
      ]
     },
     "metadata": {},
     "output_type": "display_data"
    }
   ],
   "source": [
    "session.widget"
   ]
  },
  {
   "cell_type": "markdown",
   "id": "760a5bbe-c253-4a29-88df-6e2dcd6f0f31",
   "metadata": {
    "tags": []
   },
   "source": [
    "# Capable of integrating multiple data sources "
   ]
  },
  {
   "cell_type": "code",
   "execution_count": 7,
   "id": "865ba8eb-97ca-4bdc-8a24-ba0cc479e20c",
   "metadata": {},
   "outputs": [
    {
     "data": {
      "text/html": [
       "<div>\n",
       "<style scoped>\n",
       "    .dataframe tbody tr th:only-of-type {\n",
       "        vertical-align: middle;\n",
       "    }\n",
       "\n",
       "    .dataframe tbody tr th {\n",
       "        vertical-align: top;\n",
       "    }\n",
       "\n",
       "    .dataframe thead th {\n",
       "        text-align: right;\n",
       "    }\n",
       "</style>\n",
       "<table border=\"1\" class=\"dataframe\">\n",
       "  <thead>\n",
       "    <tr style=\"text-align: right;\">\n",
       "      <th></th>\n",
       "      <th>Category</th>\n",
       "      <th>Sub category</th>\n",
       "      <th>Size</th>\n",
       "      <th>Purchase price</th>\n",
       "      <th>Color</th>\n",
       "      <th>Brand</th>\n",
       "    </tr>\n",
       "    <tr>\n",
       "      <th>Product</th>\n",
       "      <th></th>\n",
       "      <th></th>\n",
       "      <th></th>\n",
       "      <th></th>\n",
       "      <th></th>\n",
       "      <th></th>\n",
       "    </tr>\n",
       "  </thead>\n",
       "  <tbody>\n",
       "    <tr>\n",
       "      <th>HOO_12</th>\n",
       "      <td>Cloth</td>\n",
       "      <td>Hoodie</td>\n",
       "      <td>S</td>\n",
       "      <td>35.0</td>\n",
       "      <td>blue</td>\n",
       "      <td>Basic</td>\n",
       "    </tr>\n",
       "    <tr>\n",
       "      <th>BED_26</th>\n",
       "      <td>Furniture</td>\n",
       "      <td>Bed</td>\n",
       "      <td>Queen</td>\n",
       "      <td>333.0</td>\n",
       "      <td>white</td>\n",
       "      <td>Basic</td>\n",
       "    </tr>\n",
       "    <tr>\n",
       "      <th>SHO_40</th>\n",
       "      <td>Cloth</td>\n",
       "      <td>Shoes</td>\n",
       "      <td>11</td>\n",
       "      <td>48.0</td>\n",
       "      <td>black</td>\n",
       "      <td>Basic</td>\n",
       "    </tr>\n",
       "    <tr>\n",
       "      <th>HOO_54</th>\n",
       "      <td>Cloth</td>\n",
       "      <td>Hoodie</td>\n",
       "      <td>S</td>\n",
       "      <td>35.0</td>\n",
       "      <td>brown</td>\n",
       "      <td>Over</td>\n",
       "    </tr>\n",
       "    <tr>\n",
       "      <th>HOO_13</th>\n",
       "      <td>Cloth</td>\n",
       "      <td>Hoodie</td>\n",
       "      <td>M</td>\n",
       "      <td>38.0</td>\n",
       "      <td>red</td>\n",
       "      <td>Mega</td>\n",
       "    </tr>\n",
       "  </tbody>\n",
       "</table>\n",
       "</div>"
      ],
      "text/plain": [
       "          Category Sub category   Size  Purchase price  Color  Brand\n",
       "Product                                                             \n",
       "HOO_12       Cloth       Hoodie      S            35.0   blue  Basic\n",
       "BED_26   Furniture          Bed  Queen           333.0  white  Basic\n",
       "SHO_40       Cloth        Shoes     11            48.0  black  Basic\n",
       "HOO_54       Cloth       Hoodie      S            35.0  brown   Over\n",
       "HOO_13       Cloth       Hoodie      M            38.0    red   Mega"
      ]
     },
     "execution_count": 7,
     "metadata": {},
     "output_type": "execute_result"
    }
   ],
   "source": [
    "products = session.read_csv(\n",
    "    \"s3://data.atoti.io/notebooks/multidimension/products.csv\",\n",
    "    table_name=\"Products\",\n",
    "    keys=[\"Product\"],\n",
    ")\n",
    "products.head()"
   ]
  },
  {
   "cell_type": "code",
   "execution_count": 8,
   "id": "d4af45a9-98e7-4053-912d-7b5bcf75fda3",
   "metadata": {},
   "outputs": [
    {
     "data": {
      "image/png": "[encoded data removed]",
      "text/plain": [
       "erDiagram\n",
       "  \"Sales\" {\n",
       "    non-null String \"Sale ID\"\n",
       "    non-null LocalDate \"Date\"\n",
       "    non-null String \"Shop\"\n",
       "    non-null String \"Product\"\n",
       "    nullable int \"Quantity\"\n",
       "    nullable double \"Unit price\"\n",
       "  }\n",
       "  \"Products\" {\n",
       "    non-null String PK \"Product\"\n",
       "    non-null String \"Category\"\n",
       "    non-null String \"Sub category\"\n",
       "    non-null String \"Size\"\n",
       "    nullable double \"Purchase price\"\n",
       "    non-null String \"Color\"\n",
       "    non-null String \"Brand\"\n",
       "  }\n",
       "  \"Sales\" }o--o| \"Products\" : \"Product == Product\""
      ]
     },
     "execution_count": 8,
     "metadata": {},
     "output_type": "execute_result"
    }
   ],
   "source": [
    "sales.join(products)\n",
    "session.tables.schema"
   ]
  },
  {
   "cell_type": "code",
   "execution_count": 9,
   "id": "22060b6f-8d9d-443a-ab2f-ab00e0180a21",
   "metadata": {},
   "outputs": [],
   "source": [
    "h, l, m = cube.hierarchies, cube.levels, cube.measures"
   ]
  },
  {
   "cell_type": "code",
   "execution_count": 10,
   "id": "92b6fb72-eba8-4ec7-b002-0464b279f726",
   "metadata": {},
   "outputs": [
    {
     "data": {
      "application/json": {
       "Products": {
        "Brand": [
         "Brand"
        ],
        "Category": [
         "Category"
        ],
        "Color": [
         "Color"
        ],
        "Size": [
         "Size"
        ],
        "Sub category": [
         "Sub category"
        ]
       },
       "Sales": {
        "Date": [
         "Date"
        ],
        "Product": [
         "Product"
        ],
        "Sale ID": [
         "Sale ID"
        ],
        "Shop": [
         "Shop"
        ]
       }
      },
      "text/html": [
       "<ul>\n",
       "<li>Dimensions\n",
       "  <ul>\n",
       "  <li>Products\n",
       "    <ul>\n",
       "    <li>Brand\n",
       "      <ol>\n",
       "      <li>Brand</li>\n",
       "      </ol>    </li>\n",
       "    <li>Category\n",
       "      <ol>\n",
       "      <li>Category</li>\n",
       "      </ol>    </li>\n",
       "    <li>Color\n",
       "      <ol>\n",
       "      <li>Color</li>\n",
       "      </ol>    </li>\n",
       "    <li>Size\n",
       "      <ol>\n",
       "      <li>Size</li>\n",
       "      </ol>    </li>\n",
       "    <li>Sub category\n",
       "      <ol>\n",
       "      <li>Sub category</li>\n",
       "      </ol>    </li>\n",
       "    </ul>\n",
       "  </li>\n",
       "  <li>Sales\n",
       "    <ul>\n",
       "    <li>Date\n",
       "      <ol>\n",
       "      <li>Date</li>\n",
       "      </ol>    </li>\n",
       "    <li>Product\n",
       "      <ol>\n",
       "      <li>Product</li>\n",
       "      </ol>    </li>\n",
       "    <li>Sale ID\n",
       "      <ol>\n",
       "      <li>Sale ID</li>\n",
       "      </ol>    </li>\n",
       "    <li>Shop\n",
       "      <ol>\n",
       "      <li>Shop</li>\n",
       "      </ol>    </li>\n",
       "    </ul>\n",
       "  </li>\n",
       "  </ul>\n",
       "</li>\n",
       "</ul>\n"
      ],
      "text/plain": [
       "{('Products', 'Category'): <atoti.hierarchy.Hierarchy object at 0x10f4ded90>, ('Products', 'Size'): <atoti.hierarchy.Hierarchy object at 0x118912dd0>, ('Products', 'Sub category'): <atoti.hierarchy.Hierarchy object at 0x1189139d0>, ('Products', 'Brand'): <atoti.hierarchy.Hierarchy object at 0x118923d10>, ('Products', 'Color'): <atoti.hierarchy.Hierarchy object at 0x118924f90>, ('Sales', 'Shop'): <atoti.hierarchy.Hierarchy object at 0x1189267d0>, ('Sales', 'Date'): <atoti.hierarchy.Hierarchy object at 0x118926210>, ('Sales', 'Product'): <atoti.hierarchy.Hierarchy object at 0x118927410>, ('Sales', 'Sale ID'): <atoti.hierarchy.Hierarchy object at 0x118925090>}"
      ]
     },
     "execution_count": 10,
     "metadata": {
      "application/json": {
       "expanded": true,
       "root": "Dimensions"
      }
     },
     "output_type": "execute_result"
    }
   ],
   "source": [
    "h"
   ]
  },
  {
   "cell_type": "code",
   "execution_count": 11,
   "id": "ce1e2257-ffb6-4819-8f60-a179f5ff47b8",
   "metadata": {},
   "outputs": [],
   "source": [
    "h[\"Product categories\"] = [l[\"Category\"], l[\"Sub category\"]]"
   ]
  },
  {
   "cell_type": "code",
   "execution_count": 12,
   "id": "05bdd8e7-265e-4da1-bd6e-646493d268cd",
   "metadata": {
    "atoti": {
     "height": 357,
     "widget": {
      "mapping": {
       "columns": [
        "ALL_MEASURES"
       ],
       "measures": [
        "[Measures].[Unit price.SUM]",
        "[Measures].[Quantity.SUM]"
       ],
       "rows": [
        "[Sales].[Shop].[Shop] => [Products].[Product categories].[Sub category]"
       ]
      },
      "query": {
       "mdx": "SELECT NON EMPTY {[Measures].[Unit price.SUM], [Measures].[Quantity.SUM]} ON COLUMNS, NON EMPTY Hierarchize(Union(Crossjoin(Descendants({[Sales].[Shop].[AllMember]}, 1, SELF_AND_BEFORE), [Products].[Product categories].DefaultMember), Crossjoin([Sales].[Shop].[AllMember].[shop_0], Hierarchize(Descendants({[Products].[Product categories].[AllMember]}, 2, SELF_AND_BEFORE))))) ON ROWS FROM [sales cube] CELL PROPERTIES VALUE, FORMATTED_VALUE, BACK_COLOR, FORE_COLOR, FONT_FLAGS",
       "updateMode": "once"
      },
      "serverKey": "default",
      "widgetKey": "pivot-table"
     }
    },
    "tags": []
   },
   "outputs": [
    {
     "data": {
      "application/vnd.atoti.widget.v0+json": {
       "sessionId": "1755112306_756860",
       "sessionUrl": "http://localhost:57575",
       "widgetCreationCode": "session.widget"
      },
      "text/html": [
       "<img height=\"349\" width=\"833\" src=\"data:image/png;base64,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\" />"
      ],
      "text/plain": [
       "Open the notebook in JupyterLab with the Atoti JupyterLab extension enabled to build this widget."
      ]
     },
     "metadata": {},
     "output_type": "display_data"
    }
   ],
   "source": [
    "session.widget"
   ]
  },
  {
   "cell_type": "markdown",
   "id": "c616bde0-866c-498e-8d20-efb34bda175b",
   "metadata": {
    "tags": []
   },
   "source": [
    "# Aggregational flexibility - Pre-processing vs Post-processing\n",
    "\n"
   ]
  },
  {
   "cell_type": "markdown",
   "id": "d2c0baf8-56d2-4390-a5e1-980bbabfb29e",
   "metadata": {},
   "source": [
    "## Pre-processing trades storage consumption for computational efficiency"
   ]
  },
  {
   "cell_type": "code",
   "execution_count": 13,
   "id": "fedc6bef-3477-44e7-af8f-43ad4a4e83de",
   "metadata": {},
   "outputs": [
    {
     "data": {
      "text/html": [
       "<div>\n",
       "<style scoped>\n",
       "    .dataframe tbody tr th:only-of-type {\n",
       "        vertical-align: middle;\n",
       "    }\n",
       "\n",
       "    .dataframe tbody tr th {\n",
       "        vertical-align: top;\n",
       "    }\n",
       "\n",
       "    .dataframe thead th {\n",
       "        text-align: right;\n",
       "    }\n",
       "</style>\n",
       "<table border=\"1\" class=\"dataframe\">\n",
       "  <thead>\n",
       "    <tr style=\"text-align: right;\">\n",
       "      <th></th>\n",
       "      <th>Product</th>\n",
       "      <th>Category</th>\n",
       "      <th>Sub category</th>\n",
       "      <th>Size</th>\n",
       "      <th>Purchase price</th>\n",
       "      <th>Color</th>\n",
       "      <th>Brand</th>\n",
       "    </tr>\n",
       "  </thead>\n",
       "  <tbody>\n",
       "    <tr>\n",
       "      <th>0</th>\n",
       "      <td>TAB_0</td>\n",
       "      <td>Furniture</td>\n",
       "      <td>Table</td>\n",
       "      <td>1m80</td>\n",
       "      <td>190.0</td>\n",
       "      <td>black</td>\n",
       "      <td>Basic</td>\n",
       "    </tr>\n",
       "    <tr>\n",
       "      <th>1</th>\n",
       "      <td>TAB_1</td>\n",
       "      <td>Furniture</td>\n",
       "      <td>Table</td>\n",
       "      <td>2m40</td>\n",
       "      <td>280.0</td>\n",
       "      <td>white</td>\n",
       "      <td>Mega</td>\n",
       "    </tr>\n",
       "    <tr>\n",
       "      <th>2</th>\n",
       "      <td>CHA_2</td>\n",
       "      <td>Furniture</td>\n",
       "      <td>Chair</td>\n",
       "      <td>NaN</td>\n",
       "      <td>48.0</td>\n",
       "      <td>blue</td>\n",
       "      <td>Basic</td>\n",
       "    </tr>\n",
       "    <tr>\n",
       "      <th>3</th>\n",
       "      <td>BED_3</td>\n",
       "      <td>Furniture</td>\n",
       "      <td>Bed</td>\n",
       "      <td>Single</td>\n",
       "      <td>127.0</td>\n",
       "      <td>red</td>\n",
       "      <td>Mega</td>\n",
       "    </tr>\n",
       "    <tr>\n",
       "      <th>4</th>\n",
       "      <td>BED_4</td>\n",
       "      <td>Furniture</td>\n",
       "      <td>Bed</td>\n",
       "      <td>Double</td>\n",
       "      <td>252.0</td>\n",
       "      <td>brown</td>\n",
       "      <td>Basic</td>\n",
       "    </tr>\n",
       "  </tbody>\n",
       "</table>\n",
       "</div>"
      ],
      "text/plain": [
       "  Product   Category Sub category    Size  Purchase price  Color  Brand\n",
       "0   TAB_0  Furniture        Table    1m80           190.0  black  Basic\n",
       "1   TAB_1  Furniture        Table    2m40           280.0  white   Mega\n",
       "2   CHA_2  Furniture        Chair     NaN            48.0   blue  Basic\n",
       "3   BED_3  Furniture          Bed  Single           127.0    red   Mega\n",
       "4   BED_4  Furniture          Bed  Double           252.0  brown  Basic"
      ]
     },
     "execution_count": 13,
     "metadata": {},
     "output_type": "execute_result"
    }
   ],
   "source": [
    "product_df = pd.read_csv(\"https://data.atoti.io/notebooks/multidimension/products.csv\")\n",
    "product_df.head()"
   ]
  },
  {
   "cell_type": "code",
   "execution_count": 14,
   "id": "cb39573f-7d29-4330-8702-cd4c58c3354f",
   "metadata": {},
   "outputs": [
    {
     "data": {
      "text/html": [
       "<div>\n",
       "<style scoped>\n",
       "    .dataframe tbody tr th:only-of-type {\n",
       "        vertical-align: middle;\n",
       "    }\n",
       "\n",
       "    .dataframe tbody tr th {\n",
       "        vertical-align: top;\n",
       "    }\n",
       "\n",
       "    .dataframe thead th {\n",
       "        text-align: right;\n",
       "    }\n",
       "</style>\n",
       "<table border=\"1\" class=\"dataframe\">\n",
       "  <thead>\n",
       "    <tr style=\"text-align: right;\">\n",
       "      <th></th>\n",
       "      <th>Sale ID</th>\n",
       "      <th>Date</th>\n",
       "      <th>Shop</th>\n",
       "      <th>Product</th>\n",
       "      <th>Quantity</th>\n",
       "      <th>Unit price</th>\n",
       "    </tr>\n",
       "  </thead>\n",
       "  <tbody>\n",
       "    <tr>\n",
       "      <th>0</th>\n",
       "      <td>S000000029</td>\n",
       "      <td>2021-01-06</td>\n",
       "      <td>shop_29</td>\n",
       "      <td>TSH_29</td>\n",
       "      <td>1</td>\n",
       "      <td>20</td>\n",
       "    </tr>\n",
       "    <tr>\n",
       "      <th>1</th>\n",
       "      <td>S000000059</td>\n",
       "      <td>2021-01-06</td>\n",
       "      <td>shop_19</td>\n",
       "      <td>SHO_59</td>\n",
       "      <td>2</td>\n",
       "      <td>60</td>\n",
       "    </tr>\n",
       "    <tr>\n",
       "      <th>2</th>\n",
       "      <td>S000000089</td>\n",
       "      <td>2021-01-06</td>\n",
       "      <td>shop_9</td>\n",
       "      <td>TSH_28</td>\n",
       "      <td>4</td>\n",
       "      <td>20</td>\n",
       "    </tr>\n",
       "    <tr>\n",
       "      <th>3</th>\n",
       "      <td>S000000119</td>\n",
       "      <td>2021-01-06</td>\n",
       "      <td>shop_39</td>\n",
       "      <td>SHO_58</td>\n",
       "      <td>2</td>\n",
       "      <td>60</td>\n",
       "    </tr>\n",
       "    <tr>\n",
       "      <th>4</th>\n",
       "      <td>S000000149</td>\n",
       "      <td>2021-01-06</td>\n",
       "      <td>shop_29</td>\n",
       "      <td>BED_27</td>\n",
       "      <td>2</td>\n",
       "      <td>440</td>\n",
       "    </tr>\n",
       "  </tbody>\n",
       "</table>\n",
       "</div>"
      ],
      "text/plain": [
       "      Sale ID        Date     Shop Product  Quantity  Unit price\n",
       "0  S000000029  2021-01-06  shop_29  TSH_29         1          20\n",
       "1  S000000059  2021-01-06  shop_19  SHO_59         2          60\n",
       "2  S000000089  2021-01-06   shop_9  TSH_28         4          20\n",
       "3  S000000119  2021-01-06  shop_39  SHO_58         2          60\n",
       "4  S000000149  2021-01-06  shop_29  BED_27         2         440"
      ]
     },
     "execution_count": 14,
     "metadata": {},
     "output_type": "execute_result"
    }
   ],
   "source": [
    "sales_df = pd.read_csv(\"https://data.atoti.io/notebooks/multidimension/sales.csv\")\n",
    "sales_df.head()"
   ]
  },
  {
   "cell_type": "markdown",
   "id": "b3cbb744-338e-49cf-8312-91bf823fe06f",
   "metadata": {},
   "source": [
    "Within the same data source, we can easily perform aggregation by applying the formulas. Notice that our dataset just grew bigger with the additional column? By loading this dataset, we traded storage consumption for the computational efficiency because the cube need not compute the sales amount every time we query it."
   ]
  },
  {
   "cell_type": "code",
   "execution_count": 15,
   "id": "6f3285c3-f86a-4adf-8522-fd29e32d49bb",
   "metadata": {},
   "outputs": [
    {
     "data": {
      "text/html": [
       "<div>\n",
       "<style scoped>\n",
       "    .dataframe tbody tr th:only-of-type {\n",
       "        vertical-align: middle;\n",
       "    }\n",
       "\n",
       "    .dataframe tbody tr th {\n",
       "        vertical-align: top;\n",
       "    }\n",
       "\n",
       "    .dataframe thead th {\n",
       "        text-align: right;\n",
       "    }\n",
       "</style>\n",
       "<table border=\"1\" class=\"dataframe\">\n",
       "  <thead>\n",
       "    <tr style=\"text-align: right;\">\n",
       "      <th></th>\n",
       "      <th>Sale ID</th>\n",
       "      <th>Date</th>\n",
       "      <th>Shop</th>\n",
       "      <th>Product</th>\n",
       "      <th>Quantity</th>\n",
       "      <th>Unit price</th>\n",
       "      <th>Sales amount</th>\n",
       "    </tr>\n",
       "  </thead>\n",
       "  <tbody>\n",
       "    <tr>\n",
       "      <th>0</th>\n",
       "      <td>S000000029</td>\n",
       "      <td>2021-01-06</td>\n",
       "      <td>shop_29</td>\n",
       "      <td>TSH_29</td>\n",
       "      <td>1</td>\n",
       "      <td>20</td>\n",
       "      <td>20</td>\n",
       "    </tr>\n",
       "    <tr>\n",
       "      <th>1</th>\n",
       "      <td>S000000059</td>\n",
       "      <td>2021-01-06</td>\n",
       "      <td>shop_19</td>\n",
       "      <td>SHO_59</td>\n",
       "      <td>2</td>\n",
       "      <td>60</td>\n",
       "      <td>120</td>\n",
       "    </tr>\n",
       "    <tr>\n",
       "      <th>2</th>\n",
       "      <td>S000000089</td>\n",
       "      <td>2021-01-06</td>\n",
       "      <td>shop_9</td>\n",
       "      <td>TSH_28</td>\n",
       "      <td>4</td>\n",
       "      <td>20</td>\n",
       "      <td>80</td>\n",
       "    </tr>\n",
       "    <tr>\n",
       "      <th>3</th>\n",
       "      <td>S000000119</td>\n",
       "      <td>2021-01-06</td>\n",
       "      <td>shop_39</td>\n",
       "      <td>SHO_58</td>\n",
       "      <td>2</td>\n",
       "      <td>60</td>\n",
       "      <td>120</td>\n",
       "    </tr>\n",
       "    <tr>\n",
       "      <th>4</th>\n",
       "      <td>S000000149</td>\n",
       "      <td>2021-01-06</td>\n",
       "      <td>shop_29</td>\n",
       "      <td>BED_27</td>\n",
       "      <td>2</td>\n",
       "      <td>440</td>\n",
       "      <td>880</td>\n",
       "    </tr>\n",
       "  </tbody>\n",
       "</table>\n",
       "</div>"
      ],
      "text/plain": [
       "      Sale ID        Date     Shop Product  Quantity  Unit price  Sales amount\n",
       "0  S000000029  2021-01-06  shop_29  TSH_29         1          20            20\n",
       "1  S000000059  2021-01-06  shop_19  SHO_59         2          60           120\n",
       "2  S000000089  2021-01-06   shop_9  TSH_28         4          20            80\n",
       "3  S000000119  2021-01-06  shop_39  SHO_58         2          60           120\n",
       "4  S000000149  2021-01-06  shop_29  BED_27         2         440           880"
      ]
     },
     "execution_count": 15,
     "metadata": {},
     "output_type": "execute_result"
    }
   ],
   "source": [
    "sales_df[\"Sales amount\"] = sales_df[\"Quantity\"] * sales_df[\"Unit price\"]\n",
    "sales_df.head()"
   ]
  },
  {
   "cell_type": "markdown",
   "id": "7f9c6fdd-366a-4b7a-9925-eefec9545e27",
   "metadata": {},
   "source": [
    "When aggregation involves multiple data sources, then we need to handle the joins before we can apply the formulas."
   ]
  },
  {
   "cell_type": "code",
   "execution_count": 16,
   "id": "83fc8e4a-cb1b-4c60-8b66-91f6aa313107",
   "metadata": {},
   "outputs": [
    {
     "data": {
      "text/html": [
       "<div>\n",
       "<style scoped>\n",
       "    .dataframe tbody tr th:only-of-type {\n",
       "        vertical-align: middle;\n",
       "    }\n",
       "\n",
       "    .dataframe tbody tr th {\n",
       "        vertical-align: top;\n",
       "    }\n",
       "\n",
       "    .dataframe thead th {\n",
       "        text-align: right;\n",
       "    }\n",
       "</style>\n",
       "<table border=\"1\" class=\"dataframe\">\n",
       "  <thead>\n",
       "    <tr style=\"text-align: right;\">\n",
       "      <th></th>\n",
       "      <th>Sale ID</th>\n",
       "      <th>Date</th>\n",
       "      <th>Shop</th>\n",
       "      <th>Product</th>\n",
       "      <th>Quantity</th>\n",
       "      <th>Unit price</th>\n",
       "      <th>Sales amount</th>\n",
       "      <th>Category</th>\n",
       "      <th>Sub category</th>\n",
       "      <th>Size</th>\n",
       "      <th>Purchase price</th>\n",
       "      <th>Color</th>\n",
       "      <th>Brand</th>\n",
       "    </tr>\n",
       "  </thead>\n",
       "  <tbody>\n",
       "    <tr>\n",
       "      <th>0</th>\n",
       "      <td>S000000029</td>\n",
       "      <td>2021-01-06</td>\n",
       "      <td>shop_29</td>\n",
       "      <td>TSH_29</td>\n",
       "      <td>1</td>\n",
       "      <td>20</td>\n",
       "      <td>20</td>\n",
       "      <td>Cloth</td>\n",
       "      <td>Tshirt</td>\n",
       "      <td>S</td>\n",
       "      <td>18.0</td>\n",
       "      <td>brown</td>\n",
       "      <td>Mega</td>\n",
       "    </tr>\n",
       "    <tr>\n",
       "      <th>1</th>\n",
       "      <td>S000000059</td>\n",
       "      <td>2021-01-06</td>\n",
       "      <td>shop_19</td>\n",
       "      <td>SHO_59</td>\n",
       "      <td>2</td>\n",
       "      <td>60</td>\n",
       "      <td>120</td>\n",
       "      <td>Cloth</td>\n",
       "      <td>Shoes</td>\n",
       "      <td>9</td>\n",
       "      <td>44.0</td>\n",
       "      <td>brown</td>\n",
       "      <td>NewBrand</td>\n",
       "    </tr>\n",
       "    <tr>\n",
       "      <th>2</th>\n",
       "      <td>S000000089</td>\n",
       "      <td>2021-01-06</td>\n",
       "      <td>shop_9</td>\n",
       "      <td>TSH_28</td>\n",
       "      <td>4</td>\n",
       "      <td>20</td>\n",
       "      <td>80</td>\n",
       "      <td>Cloth</td>\n",
       "      <td>Tshirt</td>\n",
       "      <td>XS</td>\n",
       "      <td>17.0</td>\n",
       "      <td>red</td>\n",
       "      <td>Basic</td>\n",
       "    </tr>\n",
       "    <tr>\n",
       "      <th>3</th>\n",
       "      <td>S000000119</td>\n",
       "      <td>2021-01-06</td>\n",
       "      <td>shop_39</td>\n",
       "      <td>SHO_58</td>\n",
       "      <td>2</td>\n",
       "      <td>60</td>\n",
       "      <td>120</td>\n",
       "      <td>Cloth</td>\n",
       "      <td>Shoes</td>\n",
       "      <td>8</td>\n",
       "      <td>42.0</td>\n",
       "      <td>red</td>\n",
       "      <td>Over</td>\n",
       "    </tr>\n",
       "    <tr>\n",
       "      <th>4</th>\n",
       "      <td>S000000149</td>\n",
       "      <td>2021-01-06</td>\n",
       "      <td>shop_29</td>\n",
       "      <td>BED_27</td>\n",
       "      <td>2</td>\n",
       "      <td>440</td>\n",
       "      <td>880</td>\n",
       "      <td>Furniture</td>\n",
       "      <td>Bed</td>\n",
       "      <td>King</td>\n",
       "      <td>375.0</td>\n",
       "      <td>blue</td>\n",
       "      <td>Mega</td>\n",
       "    </tr>\n",
       "  </tbody>\n",
       "</table>\n",
       "</div>"
      ],
      "text/plain": [
       "      Sale ID        Date     Shop Product  Quantity  Unit price  \\\n",
       "0  S000000029  2021-01-06  shop_29  TSH_29         1          20   \n",
       "1  S000000059  2021-01-06  shop_19  SHO_59         2          60   \n",
       "2  S000000089  2021-01-06   shop_9  TSH_28         4          20   \n",
       "3  S000000119  2021-01-06  shop_39  SHO_58         2          60   \n",
       "4  S000000149  2021-01-06  shop_29  BED_27         2         440   \n",
       "\n",
       "   Sales amount   Category Sub category  Size  Purchase price  Color     Brand  \n",
       "0            20      Cloth       Tshirt     S            18.0  brown      Mega  \n",
       "1           120      Cloth        Shoes     9            44.0  brown  NewBrand  \n",
       "2            80      Cloth       Tshirt    XS            17.0    red     Basic  \n",
       "3           120      Cloth        Shoes     8            42.0    red      Over  \n",
       "4           880  Furniture          Bed  King           375.0   blue      Mega  "
      ]
     },
     "execution_count": 16,
     "metadata": {},
     "output_type": "execute_result"
    }
   ],
   "source": [
    "product_sales = pd.merge(sales_df, product_df, on=\"Product\")\n",
    "product_sales.head()"
   ]
  },
  {
   "cell_type": "code",
   "execution_count": 17,
   "id": "136afb1e-57f2-4d00-a3a4-8aff63a31469",
   "metadata": {},
   "outputs": [
    {
     "data": {
      "text/html": [
       "<div>\n",
       "<style scoped>\n",
       "    .dataframe tbody tr th:only-of-type {\n",
       "        vertical-align: middle;\n",
       "    }\n",
       "\n",
       "    .dataframe tbody tr th {\n",
       "        vertical-align: top;\n",
       "    }\n",
       "\n",
       "    .dataframe thead th {\n",
       "        text-align: right;\n",
       "    }\n",
       "</style>\n",
       "<table border=\"1\" class=\"dataframe\">\n",
       "  <thead>\n",
       "    <tr style=\"text-align: right;\">\n",
       "      <th></th>\n",
       "      <th>Sale ID</th>\n",
       "      <th>Date</th>\n",
       "      <th>Shop</th>\n",
       "      <th>Product</th>\n",
       "      <th>Quantity</th>\n",
       "      <th>Unit price</th>\n",
       "      <th>Sales amount</th>\n",
       "      <th>Category</th>\n",
       "      <th>Sub category</th>\n",
       "      <th>Size</th>\n",
       "      <th>Purchase price</th>\n",
       "      <th>Color</th>\n",
       "      <th>Brand</th>\n",
       "      <th>Cost price</th>\n",
       "      <th>Margin</th>\n",
       "    </tr>\n",
       "  </thead>\n",
       "  <tbody>\n",
       "    <tr>\n",
       "      <th>0</th>\n",
       "      <td>S000000029</td>\n",
       "      <td>2021-01-06</td>\n",
       "      <td>shop_29</td>\n",
       "      <td>TSH_29</td>\n",
       "      <td>1</td>\n",
       "      <td>20</td>\n",
       "      <td>20</td>\n",
       "      <td>Cloth</td>\n",
       "      <td>Tshirt</td>\n",
       "      <td>S</td>\n",
       "      <td>18.0</td>\n",
       "      <td>brown</td>\n",
       "      <td>Mega</td>\n",
       "      <td>18.0</td>\n",
       "      <td>2.0</td>\n",
       "    </tr>\n",
       "    <tr>\n",
       "      <th>1</th>\n",
       "      <td>S000000059</td>\n",
       "      <td>2021-01-06</td>\n",
       "      <td>shop_19</td>\n",
       "      <td>SHO_59</td>\n",
       "      <td>2</td>\n",
       "      <td>60</td>\n",
       "      <td>120</td>\n",
       "      <td>Cloth</td>\n",
       "      <td>Shoes</td>\n",
       "      <td>9</td>\n",
       "      <td>44.0</td>\n",
       "      <td>brown</td>\n",
       "      <td>NewBrand</td>\n",
       "      <td>88.0</td>\n",
       "      <td>32.0</td>\n",
       "    </tr>\n",
       "    <tr>\n",
       "      <th>2</th>\n",
       "      <td>S000000089</td>\n",
       "      <td>2021-01-06</td>\n",
       "      <td>shop_9</td>\n",
       "      <td>TSH_28</td>\n",
       "      <td>4</td>\n",
       "      <td>20</td>\n",
       "      <td>80</td>\n",
       "      <td>Cloth</td>\n",
       "      <td>Tshirt</td>\n",
       "      <td>XS</td>\n",
       "      <td>17.0</td>\n",
       "      <td>red</td>\n",
       "      <td>Basic</td>\n",
       "      <td>68.0</td>\n",
       "      <td>12.0</td>\n",
       "    </tr>\n",
       "    <tr>\n",
       "      <th>3</th>\n",
       "      <td>S000000119</td>\n",
       "      <td>2021-01-06</td>\n",
       "      <td>shop_39</td>\n",
       "      <td>SHO_58</td>\n",
       "      <td>2</td>\n",
       "      <td>60</td>\n",
       "      <td>120</td>\n",
       "      <td>Cloth</td>\n",
       "      <td>Shoes</td>\n",
       "      <td>8</td>\n",
       "      <td>42.0</td>\n",
       "      <td>red</td>\n",
       "      <td>Over</td>\n",
       "      <td>84.0</td>\n",
       "      <td>36.0</td>\n",
       "    </tr>\n",
       "    <tr>\n",
       "      <th>4</th>\n",
       "      <td>S000000149</td>\n",
       "      <td>2021-01-06</td>\n",
       "      <td>shop_29</td>\n",
       "      <td>BED_27</td>\n",
       "      <td>2</td>\n",
       "      <td>440</td>\n",
       "      <td>880</td>\n",
       "      <td>Furniture</td>\n",
       "      <td>Bed</td>\n",
       "      <td>King</td>\n",
       "      <td>375.0</td>\n",
       "      <td>blue</td>\n",
       "      <td>Mega</td>\n",
       "      <td>750.0</td>\n",
       "      <td>130.0</td>\n",
       "    </tr>\n",
       "  </tbody>\n",
       "</table>\n",
       "</div>"
      ],
      "text/plain": [
       "      Sale ID        Date     Shop Product  Quantity  Unit price  \\\n",
       "0  S000000029  2021-01-06  shop_29  TSH_29         1          20   \n",
       "1  S000000059  2021-01-06  shop_19  SHO_59         2          60   \n",
       "2  S000000089  2021-01-06   shop_9  TSH_28         4          20   \n",
       "3  S000000119  2021-01-06  shop_39  SHO_58         2          60   \n",
       "4  S000000149  2021-01-06  shop_29  BED_27         2         440   \n",
       "\n",
       "   Sales amount   Category Sub category  Size  Purchase price  Color  \\\n",
       "0            20      Cloth       Tshirt     S            18.0  brown   \n",
       "1           120      Cloth        Shoes     9            44.0  brown   \n",
       "2            80      Cloth       Tshirt    XS            17.0    red   \n",
       "3           120      Cloth        Shoes     8            42.0    red   \n",
       "4           880  Furniture          Bed  King           375.0   blue   \n",
       "\n",
       "      Brand  Cost price  Margin  \n",
       "0      Mega        18.0     2.0  \n",
       "1  NewBrand        88.0    32.0  \n",
       "2     Basic        68.0    12.0  \n",
       "3      Over        84.0    36.0  \n",
       "4      Mega       750.0   130.0  "
      ]
     },
     "execution_count": 17,
     "metadata": {},
     "output_type": "execute_result"
    }
   ],
   "source": [
    "product_sales[\"Cost price\"] = (\n",
    "    product_sales[\"Quantity\"] * product_sales[\"Purchase price\"]\n",
    ")\n",
    "product_sales[\"Margin\"] = sales_df[\"Sales amount\"] - product_sales[\"Cost price\"]\n",
    "product_sales.head()"
   ]
  },
  {
   "cell_type": "markdown",
   "id": "7b57e887-bf01-41c0-95fe-0aabeb636412",
   "metadata": {},
   "source": [
    "Pre-processing works when we are at the most granular level because we will still be able to drill down or roll up. At higher aggregation level, we will not know how to break the value when we drill down to the lower level."
   ]
  },
  {
   "cell_type": "markdown",
   "id": "81719157-0196-4bff-b336-471f25aeaf91",
   "metadata": {},
   "source": [
    "<div style=\"text-align: center;\"><img src=\"https://data.atoti.io/notebooks/multidimension/img/drilldown_rollup.png\" width=\"50%\"></div>"
   ]
  },
  {
   "cell_type": "markdown",
   "id": "f56c58ae-27f2-472a-841b-5f01aa686181",
   "metadata": {
    "tags": []
   },
   "source": [
    "## Post-processing computes on the fly and provides flexibility"
   ]
  },
  {
   "cell_type": "code",
   "execution_count": 18,
   "id": "d0e7d65b-a300-44ed-9ae2-4187ec1659c3",
   "metadata": {},
   "outputs": [],
   "source": [
    "h, l, m = cube.hierarchies, cube.levels, cube.measures"
   ]
  },
  {
   "cell_type": "code",
   "execution_count": 19,
   "id": "4c2fca52-9025-4277-9770-949e5e55513b",
   "metadata": {},
   "outputs": [],
   "source": [
    "m[\"Sales amount\"] = tt.agg.sum(\n",
    "    sales[\"Quantity\"] * sales[\"Unit price\"],\n",
    ")"
   ]
  },
  {
   "cell_type": "code",
   "execution_count": 20,
   "id": "d5693639-d478-43d2-999b-1647602cb1ac",
   "metadata": {},
   "outputs": [],
   "source": [
    "m[\"Cost price\"] = tt.agg.sum(\n",
    "    m[\"Quantity.SUM\"] * tt.agg.single_value(products[\"Purchase price\"]),\n",
    "    scope=tt.OriginScope(levels={l[\"Product\"]}),\n",
    ")"
   ]
  },
  {
   "cell_type": "code",
   "execution_count": 21,
   "id": "7df79c7f-a67e-40da-b503-bd80d65b3709",
   "metadata": {},
   "outputs": [],
   "source": [
    "m[\"Margin\"] = m[\"Sales amount\"] - m[\"Cost price\"]"
   ]
  },
  {
   "cell_type": "code",
   "execution_count": 22,
   "id": "90571a79-f793-4fc8-a969-f3eb4f6bdc33",
   "metadata": {},
   "outputs": [],
   "source": [
    "m[\"Cumulative amount\"] = tt.agg.sum(\n",
    "    m[\"Sales amount\"], scope=tt.CumulativeScope(level=l[\"Date\"])\n",
    ")\n",
    "\n",
    "m[\"Cumulative margin\"] = tt.agg.sum(\n",
    "    m[\"Margin\"], scope=tt.CumulativeScope(level=l[\"Date\"])\n",
    ")"
   ]
  },
  {
   "cell_type": "markdown",
   "id": "1f55e25f-42a7-4092-9462-48016bcee711",
   "metadata": {},
   "source": [
    "In the visualization below, we are missing the sales data for `Shop_0` on 15 Jan 2021. Suppose we use pre-processing computation to get the cumulative values, we will need to perform re-calculation and then reload the data into the cube. With post-processing, this is not required as the data is computed on the fly."
   ]
  },
  {
   "cell_type": "code",
   "execution_count": 23,
   "id": "dc945967-d009-4b72-aa8b-13b752e11bbb",
   "metadata": {
    "atoti": {
     "widget": {
      "filters": [],
      "mapping": {
       "columns": [
        "ALL_MEASURES"
       ],
       "measures": [
        "[Measures].[Margin]",
        "[Measures].[Cumulative margin]"
       ],
       "rows": [
        "[Sales].[Date].[Date]"
       ]
      },
      "query": {
       "mdx": "SELECT NON EMPTY Hierarchize(Descendants({[Sales].[Date].[AllMember]}, 1, SELF_AND_BEFORE)) ON ROWS, NON EMPTY {[Measures].[Margin], [Measures].[Cumulative margin]} ON COLUMNS FROM [sales cube] CELL PROPERTIES VALUE, FORMATTED_VALUE, BACK_COLOR, FORE_COLOR, FONT_FLAGS",
       "updateMode": "once"
      },
      "serverKey": "default",
      "switchedTo": "plotly-line-chart",
      "widgetKey": "tree-table"
     }
    },
    "tags": []
   },
   "outputs": [
    {
     "data": {
      "application/vnd.atoti.widget.v0+json": {
       "sessionId": "1755112306_756860",
       "sessionUrl": "http://localhost:57575",
       "widgetCreationCode": "session.widget"
      },
      "text/html": [
       "<img height=\"352\" width=\"833\" src=\"data:image/png;base64,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\" />"
      ],
      "text/plain": [
       "Open the notebook in JupyterLab with the Atoti JupyterLab extension enabled to build this widget."
      ]
     },
     "metadata": {},
     "output_type": "display_data"
    }
   ],
   "source": [
    "session.widget"
   ]
  },
  {
   "cell_type": "code",
   "execution_count": 24,
   "id": "b76f6b23-2423-4c05-95fa-e7e54bdb1d67",
   "metadata": {
    "atoti": {
     "height": 390,
     "widget": {
      "columnWidths": {
       "[Measures].[Cumulative margin]": 165
      },
      "filters": [],
      "mapping": {
       "columns": [
        "ALL_MEASURES"
       ],
       "measures": [
        "[Measures].[Margin]",
        "[Measures].[Cumulative margin]"
       ],
       "rows": [
        "[Sales].[Date].[Date]"
       ]
      },
      "query": {
       "mdx": "SELECT NON EMPTY Hierarchize(Descendants({[Sales].[Date].[AllMember]}, 1, SELF_AND_BEFORE)) ON ROWS, NON EMPTY {[Measures].[Margin], [Measures].[Cumulative margin]} ON COLUMNS FROM [sales cube] CELL PROPERTIES VALUE, FORMATTED_VALUE, BACK_COLOR, FORE_COLOR, FONT_FLAGS",
       "updateMode": "once"
      },
      "serverKey": "default",
      "widgetKey": "pivot-table"
     }
    },
    "tags": []
   },
   "outputs": [
    {
     "data": {
      "application/vnd.atoti.widget.v0+json": {
       "sessionId": "1755112306_756860",
       "sessionUrl": "http://localhost:57575",
       "widgetCreationCode": "session.widget"
      },
      "text/html": [
       "<img height=\"382\" width=\"833\" src=\"data:image/png;base64,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\" />"
      ],
      "text/plain": [
       "Open the notebook in JupyterLab with the Atoti JupyterLab extension enabled to build this widget."
      ]
     },
     "metadata": {},
     "output_type": "display_data"
    }
   ],
   "source": [
    "session.widget"
   ]
  },
  {
   "cell_type": "markdown",
   "id": "bfad2809-47d7-42e2-b9dc-bc24ecdbab03",
   "metadata": {},
   "source": [
    "Simply load the missing data into the cube and it will be computed automatically."
   ]
  },
  {
   "cell_type": "code",
   "execution_count": 25,
   "id": "57330a4f-f852-4104-858e-c5ca2d863386",
   "metadata": {},
   "outputs": [],
   "source": [
    "sales.load(tt.CsvLoad(\"s3://data.atoti.io/notebooks/multidimension/shop0_20210115.csv\"))"
   ]
  },
  {
   "cell_type": "markdown",
   "id": "098b95d9-8ce4-40af-b0f6-51015357490a",
   "metadata": {},
   "source": [
    "Re-running the last 2 visualizations should reflect the correct sales."
   ]
  },
  {
   "cell_type": "markdown",
   "id": "828ee921-d6a6-40f5-8df9-541687f22344",
   "metadata": {
    "editable": true,
    "slideshow": {
     "slide_type": ""
    },
    "tags": []
   },
   "source": [
    "<div style=\"text-align:center\"><a href=\"https://www.atoti.io/?utm_source=gallery&utm_content=multidimensional-analysis\" target=\"_blank\" rel=\"noopener noreferrer\"><img src=\"https://data.atoti.io/notebooks/banners/Your-turn-to-try-Atoti.jpg\" alt=\"Atoti table\" /></a></div>"
   ]
  }
 ],
 "metadata": {
  "kernelspec": {
   "display_name": "Python 3",
   "language": "python",
   "name": "python3"
  },
  "language_info": {
   "codemirror_mode": {
    "name": "ipython",
    "version": 3
   },
   "file_extension": ".py",
   "mimetype": "text/x-python",
   "name": "python",
   "nbconvert_exporter": "python",
   "pygments_lexer": "ipython3",
   "version": "3.11.10"
  },
  "widgets": {
   "application/vnd.jupyter.widget-state+json": {
    "state": {},
    "version_major": 2,
    "version_minor": 0
   }
  }
 },
 "nbformat": 4,
 "nbformat_minor": 5
}
