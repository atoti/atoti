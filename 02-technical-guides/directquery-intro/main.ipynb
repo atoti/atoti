{
 "cells": [
  {
   "cell_type": "markdown",
   "id": "ac3fbb12-82a8-4e9f-aa4e-e1ad414ce283",
   "metadata": {},
   "source": [
    "# DirectQuery: Combining Atoti and Data Warehouses"
   ]
  },
  {
   "cell_type": "markdown",
   "id": "a671e16d-c06b-432f-92c6-5b2d2f7043bd",
   "metadata": {},
   "source": [
    "We know Atoti provides in-memory analytics for big data. This means that we hold data in memory and perform aggregation on the fly in order to achieve fast and dynamic computations. In our usual Atoti setup, the hosting server requires a memory size that's about 1.5 times of the amount of data that gets loaded into the cube. However, with Atoti's DirectQuery, we can better support our users who store their data on the cloud! In fact, it applies for on-premise databases such as [ClickHouse](https://clickhouse.com/clickhouse) and [Microsoft SQL Server](https://www.microsoft.com/en-sg/sql-server/sql-server-downloads) too.  \n",
    "\n",
    "<img src=\"https://data.atoti.io/notebooks/direct-query/img/cost_vs_performance.png\" width=\"850px\"/>\n",
    "\n",
    "In a gist, here's what DirectQuery offers:  \n",
    "\n",
    "- Scalability\n",
    "\n",
    "> Leveraging the scalability of cloud data warehouse, the server that hosts Atoti only has to take into consideration the amount of data that gets queried on a daily basis.  \n",
    "> Instead of storing all of the data in physical memory, DirectQuery enables us to query the Cloud database directly, reducing the need for memory in the hosting server.  \n",
    "\n",
    "- Cost savings\n",
    "\n",
    "> Other than saving on the memory required for the hosting server, DirectQuery helps to save on the data transfer costs.  \n",
    "> While cloud data warehouse is cost-effective, we incur costs when we perform queries.  \n",
    "> We can reduce querying to the Cloud database by loading an aggregated cache in memory for the most frequently queried data.  \n",
    "\n",
    "- Technology agnosticism\n",
    "\n",
    "> With changes to only a few lines of data connectivity code in Atoti, we can easily switch from one Cloud service provider to another without impacting the Atoti server.  \n",
    "> We can even switch over to other data connectors such as physical files.  \n",
    "\n",
    "\n",
    "This notebook provides a quick introduction to how we can connect to Google BigQuery and create an Atoti cube."
   ]
  },
  {
   "cell_type": "markdown",
   "id": "f23aeb88-5455-44ee-892d-4aa7fc2dbfb7",
   "metadata": {},
   "source": [
    "<div style=\"text-align: center;\" ><a href=\"https://www.atoti.io/?utm_source=gallery&utm_content=directquery-intro\" target=\"_blank\" rel=\"noopener noreferrer\"><img src=\"https://data.atoti.io/notebooks/banners/Discover-Atoti-now.png\" alt=\"Try Atoti\"></a></div>"
   ]
  },
  {
   "cell_type": "markdown",
   "id": "663b2051-11e1-4815-8a2c-fde3d450d07b",
   "metadata": {},
   "source": [
    "## Google BigQuery configuration"
   ]
  },
  {
   "cell_type": "markdown",
   "id": "1db76b03-dbe0-4223-a656-8b7e9e2ff260",
   "metadata": {},
   "source": [
    "### Step 1 — Create role with permissions\n",
    "\n",
    "- Login to Google Cloud console.\n",
    "- Navigate to __IAM & Admin__ > __Roles__.  \n",
    "- Create a role with the following permission for the DirectQuery users:  \n",
    "    - `bigquery.datasets.get`\n",
    "    - `bigquery.jobs.create`\n",
    "    - `bigquery.readsessions.create`\n",
    "    - `bigquery.readsessions.getData`\n",
    "    - `bigquery.readsessions.update`\n",
    "    - `bigquery.routines.get`\n",
    "    - `bigquery.tables.get`\n",
    "    - `bigquery.tables.getData`\n",
    "    - `bigquery.tables.list`\n",
    "\n",
    "⚠️ **Important:** Having trouble pulling your data after setting up your account? Confirm that the above permissions have been set up properly!  \n",
    "\n",
    "<img src=\"https://data.atoti.io/notebooks/direct-query/img/bigquery_permission.png\" />\n",
    "\n",
    "💡 **Note:** For more details, refer to the [Atoti Server documentation](https://docs.activeviam.com/products/atoti/server/latest/docs/directquery/connect_to_external/connect_to_bigquery/)."
   ]
  },
  {
   "cell_type": "markdown",
   "id": "2143280e-d2b0-4da1-b20d-78af65d26753",
   "metadata": {},
   "source": [
    "### Step 2 — Create Service Account\n",
    "\n",
    "* Under **IAM & Admin**, navigate to **Service Accounts**.\n",
    "* Create a service account and assign the role created in Step 1.\n",
    "\n",
    "    <img src=\"https://data.atoti.io/notebooks/direct-query/img/service_account.png\" width=\"700px\"/>  "
   ]
  },
  {
   "cell_type": "markdown",
   "id": "03e75ceb-055a-4986-aa8d-6858422b260a",
   "metadata": {
    "tags": []
   },
   "source": [
    "### Step 3 — Generate API Key \n",
    "\n",
    "- Navigate to the __KEYS__ tab and generate a new key.  \n",
    "\n",
    "    <img src=\"https://data.atoti.io/notebooks/direct-query/img/create_key.png\" />  \n",
    "\n",
    "- Select `JSON` as key type and save the downloaded key to a server folder:  \n",
    "\n",
    "    <img src=\"https://data.atoti.io/notebooks/direct-query/img/json_key.png\" />\n",
    "\n",
    "- Configure environment variable pointing to the JSON key. In this use case, our environment variable is `DQ_GOOGLE_CREDENTIAL`:  \n",
    "\n",
    "    <img src=\"https://data.atoti.io/notebooks/direct-query/img/environment_variable.png\" />  \n",
    "\n",
    "💡 **Note:** Alternatively, we can set up [Application Default Credentials](https://cloud.google.com/docs/authentication/provide-credentials-adc) for authentication.  "
   ]
  },
  {
   "cell_type": "markdown",
   "id": "95e30413-d630-4b1b-a304-d824e9649c3d",
   "metadata": {},
   "source": [
    "## Database set up  \n",
    "\n",
    "To try out this notebook, you can setup the database schema and tables using the [database script](db_schema.sql) in the use case folder.  "
   ]
  },
  {
   "cell_type": "markdown",
   "id": "fcfd6d72-801a-460c-9e1f-4e0843909442",
   "metadata": {},
   "source": [
    "## Atoti Setup"
   ]
  },
  {
   "cell_type": "markdown",
   "id": "8857ebb1-032f-4b69-84e6-b8cf7e431def",
   "metadata": {},
   "source": [
    "We import [Atoti](https://docs.atoti.io/latest/getting_started/installation.html) library and create the [Atoti Session](https://docs.atoti.io/latest/api/atoti.Session.html#atoti.Session) as we always do.  "
   ]
  },
  {
   "cell_type": "code",
   "execution_count": 1,
   "id": "7d97f0ea-5b39-4c60-9a10-1cae5a22616d",
   "metadata": {
    "tags": []
   },
   "outputs": [],
   "source": [
    "import os\n",
    "import atoti as tt"
   ]
  },
  {
   "cell_type": "code",
   "execution_count": 2,
   "id": "3898f076-a031-49b7-a75f-074008d89a26",
   "metadata": {
    "tags": []
   },
   "outputs": [],
   "source": [
    "session = tt.Session.start()"
   ]
  },
  {
   "cell_type": "markdown",
   "id": "9e855ec8-18bb-46fa-8e99-751edafeb94c",
   "metadata": {},
   "source": [
    "## DirectQuery Prerequisites"
   ]
  },
  {
   "cell_type": "markdown",
   "id": "01a8923b-80b3-4bfd-86a0-2d705d4bb805",
   "metadata": {},
   "source": [
    "DirectQuery supports a few [databases](https://docs.atoti.io/latest/reference.html#directquery). For each of these databases, we have to install its respective Python plugin.  \n",
    "- `atoti-directquery-bigquery` : To use DirectQuery on Google BigQuery.\n",
    "- `atoti-directquery-clickhouse` : To use DirectQuery with ClickHouse.\n",
    "- `atoti-directquery-databricks` : To use DirectQuery on Databricks.\n",
    "- `atoti-directquery-mssql` : To use DirectQuery with Microsoft SQL Server.\n",
    "- `atoti-directquery-redshift` : To use DirectQuery on Amazon Redshift.\n",
    "- `atoti-directquery-snowflake` : To use DirectQuery on Snowflake.\n",
    "- `atoti-directquery-synapse` : To use DirectQuery on Azure Synapse Analytics.  \n",
    "\n",
    "In our example, we install the plugin for Google BigQuery. Uncomment the below line to install the plugin if it isn't installed.  \n",
    "\n",
    "⚠️ **Important:** We only support one type of database connection per Atoti session."
   ]
  },
  {
   "cell_type": "code",
   "execution_count": 3,
   "id": "af8780d7-ec54-481a-98d7-4cc9f7e030c1",
   "metadata": {
    "tags": []
   },
   "outputs": [],
   "source": [
    "# !uv pip install \"atoti[directquery-bigquery]\""
   ]
  },
  {
   "cell_type": "markdown",
   "id": "1d997a63-e2db-48f9-b501-0532c5eabb3d",
   "metadata": {},
   "source": [
    "We will be using two components from the DirectQueryPlugin:\n",
    "- [BigqueryConnectionInfo](https://docs.atoti.io/latest/api/atoti_directquery_bigquery.BigqueryConnectionInfo.html#atoti_directquery_bigquery.BigqueryConnectionInfo): Configure the connection information to BigQuery.\n",
    "- [BigqueryTableOptions](https://docs.atoti.io/latest/api/atoti_directquery_bigquery.BigqueryTableOptions.html#atoti_directquery_bigquery.BigqueryTableOptions): Configure the table options about the external table to create in Atoti.  \n",
    "\n",
    "⚠️ **Important:** Use the corresponding components for different databases if we are using a different one from BigQuery. E.g. we use [`ClickhouseConnectionInfo`](https://docs.atoti.io/latest/api/atoti_directquery_clickhouse.ClickhouseConnectionInfo.html#atoti_directquery_clickhouse.ClickhouseConnectionInfo) and [`ClickhouseTableOptions`](https://docs.atoti.io/latest/api/atoti_directquery_clickhouse.ClickhouseTableOptions.html#atoti_directquery_clickhouse.ClickhouseTableOptions) if we are connecting to [ClickHouse](https://clickhouse.com/)."
   ]
  },
  {
   "cell_type": "markdown",
   "id": "4509d71b-4d1b-4297-b18a-10430b128507",
   "metadata": {},
   "source": [
    "## Connection setup to Google BigQuery"
   ]
  },
  {
   "cell_type": "code",
   "execution_count": 4,
   "id": "f5eb2f90-be60-4332-80d2-1a5cd83147d4",
   "metadata": {
    "tags": []
   },
   "outputs": [],
   "source": [
    "from atoti_directquery_bigquery import ConnectionConfig"
   ]
  },
  {
   "cell_type": "markdown",
   "id": "00b90385-93af-479f-888a-bc0677f73eb2",
   "metadata": {},
   "source": [
    "In the below snippet, we use the environment variable to obtain the path to the [API key generated previous in Step 3](#Step-3-—-Generate-API-Key). Setting the credential path into `BigqueryConnectionInfo`, we can invoke the connection to the external database.  "
   ]
  },
  {
   "cell_type": "code",
   "execution_count": 5,
   "id": "ea50d105-284f-4296-b654-b5465037d634",
   "metadata": {
    "tags": []
   },
   "outputs": [],
   "source": [
    "credential = os.environ[\"DQ_GOOGLE_CREDENTIAL\"]\n",
    "connection_info = ConnectionConfig(credentials=credential)\n",
    "\n",
    "external_database = session.connect_to_external_database(connection_info)"
   ]
  },
  {
   "cell_type": "markdown",
   "id": "8e7f4c10-5dc6-4c53-aeea-ef4864471caf",
   "metadata": {},
   "source": [
    "### Discover External Tables"
   ]
  },
  {
   "cell_type": "markdown",
   "id": "51f3c2ee-c57b-49df-9756-60c96d9b0734",
   "metadata": {
    "tags": []
   },
   "source": [
    "Once connected, we can discover the tables available to us from the external database."
   ]
  },
  {
   "cell_type": "code",
   "execution_count": 6,
   "id": "5e85bd6f-dd6a-4ab8-a2f2-51d7759466de",
   "metadata": {
    "tags": []
   },
   "outputs": [
    {
     "data": {
      "application/json": {
       "bd-project-386413": {
        "tutorial": [
         "PRODUCTS",
         "SALES"
        ],
        "var_demo": [
         "BOOKS",
         "TRADE_PNLS"
        ]
       }
      },
      "text/html": [
       "<ul>\n",
       "<li>BIGQUERY\n",
       "  <ul>\n",
       "  <li>bd-project-386413\n",
       "    <ul>\n",
       "    <li>var_demo\n",
       "      <ol>\n",
       "      <li>BOOKS</li>\n",
       "      <li>TRADE_PNLS</li>\n",
       "      </ol>    </li>\n",
       "    <li>tutorial\n",
       "      <ol>\n",
       "      <li>PRODUCTS</li>\n",
       "      <li>SALES</li>\n",
       "      </ol>    </li>\n",
       "    </ul>\n",
       "  </li>\n",
       "  </ul>\n",
       "</li>\n",
       "</ul>\n"
      ],
      "text/plain": [
       "<atoti.directquery.external_tables.ExternalTables at 0x11f191b10>"
      ]
     },
     "execution_count": 6,
     "metadata": {
      "application/json": {
       "expanded": false,
       "root": "BIGQUERY"
      }
     },
     "output_type": "execute_result"
    }
   ],
   "source": [
    "external_database.tables"
   ]
  },
  {
   "cell_type": "markdown",
   "id": "4187eaef-cae3-44ca-80c1-dd952dd3faab",
   "metadata": {},
   "source": [
    "If the database has many schemas, we can perform a filter to access only the schema that we want."
   ]
  },
  {
   "cell_type": "code",
   "execution_count": 7,
   "id": "63c5fafe-05e1-429e-8f35-9f3f072e34f7",
   "metadata": {
    "tags": []
   },
   "outputs": [
    {
     "data": {
      "application/json": {
       "bd-project-386413": {
        "tutorial": [
         "PRODUCTS",
         "SALES"
        ]
       }
      },
      "text/html": [
       "<ul>\n",
       "<li>BIGQUERY\n",
       "  <ul>\n",
       "  <li>bd-project-386413\n",
       "    <ul>\n",
       "    <li>tutorial\n",
       "      <ol>\n",
       "      <li>PRODUCTS</li>\n",
       "      <li>SALES</li>\n",
       "      </ol>    </li>\n",
       "    </ul>\n",
       "  </li>\n",
       "  </ul>\n",
       "</li>\n",
       "</ul>\n"
      ],
      "text/plain": [
       "<atoti.directquery.external_tables.ExternalTables at 0x11f192250>"
      ]
     },
     "execution_count": 7,
     "metadata": {
      "application/json": {
       "expanded": false,
       "root": "BIGQUERY"
      }
     },
     "output_type": "execute_result"
    }
   ],
   "source": [
    "external_database.tables._filter(schema_name=\"tutorial\")"
   ]
  },
  {
   "cell_type": "markdown",
   "id": "f1308a2c-a4d2-40e5-9985-7013fa05a9fb",
   "metadata": {},
   "source": [
    "### Discover Table Columns"
   ]
  },
  {
   "cell_type": "markdown",
   "id": "e72119a9-ed38-4d83-a8a5-1fe021b48e5c",
   "metadata": {},
   "source": [
    "If a table name is unique in the database, we can check its structure directly using its name:  "
   ]
  },
  {
   "cell_type": "code",
   "execution_count": 8,
   "id": "f91519b6-a36b-4f0c-b1f0-949b0be22d5f",
   "metadata": {
    "tags": []
   },
   "outputs": [
    {
     "data": {
      "application/json": {
       "DATE": "LocalDate",
       "PRODUCT": "String",
       "QUANTITY": "long",
       "SALE_ID": "String",
       "SHOP": "String",
       "UNIT_PRICE": "double"
      },
      "text/html": [
       "<ul>\n",
       "<li>SALES\n",
       "  <ul>\n",
       "  <li>SALE_ID: String</li>\n",
       "  <li>DATE: LocalDate</li>\n",
       "  <li>SHOP: String</li>\n",
       "  <li>PRODUCT: String</li>\n",
       "  <li>QUANTITY: long</li>\n",
       "  <li>UNIT_PRICE: double</li>\n",
       "  </ul>\n",
       "</li>\n",
       "</ul>\n"
      ],
      "text/plain": [
       "<atoti.directquery.external_table.ExternalTable at 0x11e606b50>"
      ]
     },
     "execution_count": 8,
     "metadata": {
      "application/json": {
       "expanded": true,
       "root": "SALES"
      }
     },
     "output_type": "execute_result"
    }
   ],
   "source": [
    "external_database.tables[\"SALES\"]"
   ]
  },
  {
   "cell_type": "markdown",
   "id": "1d9ef3fb-85a5-472b-aa12-8a88e3d1e6d9",
   "metadata": {},
   "source": [
    "However, to be precise, it is a good practice to refer to the table using its database, schema and table names. Uncomment and execute the following cells as to try this out."
   ]
  },
  {
   "cell_type": "code",
   "execution_count": 9,
   "id": "247c876c-2b44-4b0f-8bcf-8864350bb3d6",
   "metadata": {
    "tags": []
   },
   "outputs": [],
   "source": [
    "# db_name = \"<database name here>\"\n",
    "# db_schema = \"tutorial\"\n",
    "# table_sales = \"SALES\""
   ]
  },
  {
   "cell_type": "code",
   "execution_count": 10,
   "id": "fbfde589-b458-474d-8665-af7b016598bc",
   "metadata": {
    "tags": []
   },
   "outputs": [],
   "source": [
    "# external_database.tables[db_name, db_schema, table_sales]"
   ]
  },
  {
   "cell_type": "markdown",
   "id": "85d14ebe-eb8a-4216-8564-8330b4b7b0d9",
   "metadata": {},
   "source": [
    "## Add External Table to Atoti"
   ]
  },
  {
   "cell_type": "markdown",
   "id": "8fa1b581-ee16-4730-8ea2-b29fa14ee03a",
   "metadata": {},
   "source": [
    "Since we have connected to the external database and we are able to see its structure, we can add the required tables to the Atoti session.  \n",
    "\n",
    "Using [BigqueryTableOptions](https://docs.atoti.io/latest/api/atoti_directquery_bigquery.BigqueryTableOptions.html#atoti_directquery_bigquery.BigqueryTableOptions), we can define additional options to the table that we will create in Atoti:\n",
    "\n",
    "- `array_conversion`: Converting values spread over multiple columns into array columns.\n",
    "- `clustering_columns`: Columns used for splitting up queries.\n",
    "- `keys`: Keys used to identify unique rows for updating of data.\n",
    "\n",
    "We will only use `keys` and `clustering_columns` in our example."
   ]
  },
  {
   "cell_type": "code",
   "execution_count": 11,
   "id": "7dab34b4-ca6f-4c80-8ba9-f8534f9eae5b",
   "metadata": {
    "tags": []
   },
   "outputs": [],
   "source": [
    "from atoti_directquery_bigquery import TableConfig"
   ]
  },
  {
   "cell_type": "markdown",
   "id": "790b7a07-c762-438a-878e-de3611f39b5c",
   "metadata": {},
   "source": [
    "Similar to how we create keys for Atoti tables, we set the key columns in the `BigqueryTableOptions`. Note that this external table is created in Atoti and the defined keys affects only the data that is accessible in Atoti. It does not change the tables in BigQuery.  \n",
    "\n",
    "To distinguish our Atoti external table from the BigQuery table, we named them differently in our example.  "
   ]
  },
  {
   "cell_type": "code",
   "execution_count": 12,
   "id": "a580d644-94e0-4772-ac94-a9600bc08546",
   "metadata": {
    "tags": []
   },
   "outputs": [],
   "source": [
    "sales_table = session.add_external_table(\n",
    "    external_database.tables[\"SALES\"],\n",
    "    table_name=\"Atoti Sales\",\n",
    "    config=TableConfig(keys=[\"SALE_ID\"], clustering_columns={\"DATE\", \"PRODUCT\"}),\n",
    ")"
   ]
  },
  {
   "cell_type": "markdown",
   "id": "ac9b4de4-60f9-45d9-8b87-e7d0452714ee",
   "metadata": {},
   "source": [
    "To speed up querying, Atoti makes use of [aggregate providers](https://docs.atoti.io/latest/api/atoti.AggregateProvider.html#atoti.AggregateProvider) to pre-aggregates some table columns up to certain levels. Feeding such providers from an external database can result in very large queries to be run on the database. Some databases can have trouble processing such large queries. Therefore, we define [clustering columns](https://docs.activeviam.com/products/atoti/server/latest/docs/directquery/directquery-clustering-fields/) to help split up queries made by DirectQuery to these external database when feeding the aggregate providers.  \n",
    "\n",
    "The `clustering_columns` parameter allows us to define columns to be used for clustering. While our example uses a small dataset and clustering column is not necessary, we demonstrate how it can be used in the snippet above.  "
   ]
  },
  {
   "cell_type": "code",
   "execution_count": 13,
   "id": "561e7c19-28cc-4796-918b-24de800147a7",
   "metadata": {
    "tags": []
   },
   "outputs": [
    {
     "data": {
      "text/html": [
       "<div>\n",
       "<style scoped>\n",
       "    .dataframe tbody tr th:only-of-type {\n",
       "        vertical-align: middle;\n",
       "    }\n",
       "\n",
       "    .dataframe tbody tr th {\n",
       "        vertical-align: top;\n",
       "    }\n",
       "\n",
       "    .dataframe thead th {\n",
       "        text-align: right;\n",
       "    }\n",
       "</style>\n",
       "<table border=\"1\" class=\"dataframe\">\n",
       "  <thead>\n",
       "    <tr style=\"text-align: right;\">\n",
       "      <th></th>\n",
       "      <th>DATE</th>\n",
       "      <th>SHOP</th>\n",
       "      <th>PRODUCT</th>\n",
       "      <th>QUANTITY</th>\n",
       "      <th>UNIT_PRICE</th>\n",
       "    </tr>\n",
       "    <tr>\n",
       "      <th>SALE_ID</th>\n",
       "      <th></th>\n",
       "      <th></th>\n",
       "      <th></th>\n",
       "      <th></th>\n",
       "      <th></th>\n",
       "    </tr>\n",
       "  </thead>\n",
       "  <tbody>\n",
       "    <tr>\n",
       "      <th>S0010</th>\n",
       "      <td>2022-01-31</td>\n",
       "      <td>shop_2</td>\n",
       "      <td>BED_2</td>\n",
       "      <td>3</td>\n",
       "      <td>150.0</td>\n",
       "    </tr>\n",
       "    <tr>\n",
       "      <th>S0007</th>\n",
       "      <td>2022-02-01</td>\n",
       "      <td>shop_5</td>\n",
       "      <td>BED_2</td>\n",
       "      <td>1</td>\n",
       "      <td>150.0</td>\n",
       "    </tr>\n",
       "    <tr>\n",
       "      <th>S0008</th>\n",
       "      <td>2022-01-31</td>\n",
       "      <td>shop_4</td>\n",
       "      <td>BED_2</td>\n",
       "      <td>1</td>\n",
       "      <td>150.0</td>\n",
       "    </tr>\n",
       "    <tr>\n",
       "      <th>S0009</th>\n",
       "      <td>2022-01-31</td>\n",
       "      <td>shop_3</td>\n",
       "      <td>BED_2</td>\n",
       "      <td>1</td>\n",
       "      <td>150.0</td>\n",
       "    </tr>\n",
       "    <tr>\n",
       "      <th>S0019</th>\n",
       "      <td>2022-02-02</td>\n",
       "      <td>shop_3</td>\n",
       "      <td>HOO_5</td>\n",
       "      <td>1</td>\n",
       "      <td>48.0</td>\n",
       "    </tr>\n",
       "  </tbody>\n",
       "</table>\n",
       "</div>"
      ],
      "text/plain": [
       "              DATE    SHOP PRODUCT  QUANTITY  UNIT_PRICE\n",
       "SALE_ID                                                 \n",
       "S0010   2022-01-31  shop_2   BED_2         3       150.0\n",
       "S0007   2022-02-01  shop_5   BED_2         1       150.0\n",
       "S0008   2022-01-31  shop_4   BED_2         1       150.0\n",
       "S0009   2022-01-31  shop_3   BED_2         1       150.0\n",
       "S0019   2022-02-02  shop_3   HOO_5         1        48.0"
      ]
     },
     "execution_count": 13,
     "metadata": {},
     "output_type": "execute_result"
    }
   ],
   "source": [
    "sales_table.head()"
   ]
  },
  {
   "cell_type": "markdown",
   "id": "dc44214e-743e-4937-9269-61498986355b",
   "metadata": {},
   "source": [
    "We can add multiple tables."
   ]
  },
  {
   "cell_type": "code",
   "execution_count": 14,
   "id": "f282f67a-dfa9-4ba1-aef7-779ec734fe50",
   "metadata": {
    "tags": []
   },
   "outputs": [
    {
     "data": {
      "text/html": [
       "<div>\n",
       "<style scoped>\n",
       "    .dataframe tbody tr th:only-of-type {\n",
       "        vertical-align: middle;\n",
       "    }\n",
       "\n",
       "    .dataframe tbody tr th {\n",
       "        vertical-align: top;\n",
       "    }\n",
       "\n",
       "    .dataframe thead th {\n",
       "        text-align: right;\n",
       "    }\n",
       "</style>\n",
       "<table border=\"1\" class=\"dataframe\">\n",
       "  <thead>\n",
       "    <tr style=\"text-align: right;\">\n",
       "      <th></th>\n",
       "      <th>CATEGORY</th>\n",
       "      <th>SUB_CATEGORY</th>\n",
       "      <th>SIZE</th>\n",
       "      <th>PURCHASE_PRICE</th>\n",
       "      <th>COLOR</th>\n",
       "      <th>BRAND</th>\n",
       "    </tr>\n",
       "    <tr>\n",
       "      <th>PRODUCT_ID</th>\n",
       "      <th></th>\n",
       "      <th></th>\n",
       "      <th></th>\n",
       "      <th></th>\n",
       "      <th></th>\n",
       "      <th></th>\n",
       "    </tr>\n",
       "  </thead>\n",
       "  <tbody>\n",
       "    <tr>\n",
       "      <th>BED_2</th>\n",
       "      <td>Furniture</td>\n",
       "      <td>Bed</td>\n",
       "      <td>Single</td>\n",
       "      <td>127.0</td>\n",
       "      <td>red</td>\n",
       "      <td>Mega</td>\n",
       "    </tr>\n",
       "    <tr>\n",
       "      <th>TAB_1</th>\n",
       "      <td>Furniture</td>\n",
       "      <td>Table</td>\n",
       "      <td>2m40</td>\n",
       "      <td>280.0</td>\n",
       "      <td>white</td>\n",
       "      <td>Mega</td>\n",
       "    </tr>\n",
       "    <tr>\n",
       "      <th>TAB_0</th>\n",
       "      <td>Furniture</td>\n",
       "      <td>Table</td>\n",
       "      <td>1m80</td>\n",
       "      <td>190.0</td>\n",
       "      <td>black</td>\n",
       "      <td>Basic</td>\n",
       "    </tr>\n",
       "    <tr>\n",
       "      <th>HOO_5</th>\n",
       "      <td>Cloth</td>\n",
       "      <td>Hoodie</td>\n",
       "      <td>M</td>\n",
       "      <td>38.0</td>\n",
       "      <td>red</td>\n",
       "      <td>Mega</td>\n",
       "    </tr>\n",
       "    <tr>\n",
       "      <th>TSH_3</th>\n",
       "      <td>Cloth</td>\n",
       "      <td>Tshirt</td>\n",
       "      <td>M</td>\n",
       "      <td>19.0</td>\n",
       "      <td>brown</td>\n",
       "      <td>Over</td>\n",
       "    </tr>\n",
       "  </tbody>\n",
       "</table>\n",
       "</div>"
      ],
      "text/plain": [
       "             CATEGORY SUB_CATEGORY    SIZE  PURCHASE_PRICE  COLOR  BRAND\n",
       "PRODUCT_ID                                                              \n",
       "BED_2       Furniture          Bed  Single           127.0    red   Mega\n",
       "TAB_1       Furniture        Table    2m40           280.0  white   Mega\n",
       "TAB_0       Furniture        Table    1m80           190.0  black  Basic\n",
       "HOO_5           Cloth       Hoodie       M            38.0    red   Mega\n",
       "TSH_3           Cloth       Tshirt       M            19.0  brown   Over"
      ]
     },
     "execution_count": 14,
     "metadata": {},
     "output_type": "execute_result"
    }
   ],
   "source": [
    "products_table = session.add_external_table(\n",
    "    external_database.tables[\"PRODUCTS\"],\n",
    "    table_name=\"Atoti Product\",\n",
    "    config=TableConfig(keys=[\"PRODUCT_ID\"]),\n",
    ")\n",
    "\n",
    "products_table.head()"
   ]
  },
  {
   "cell_type": "markdown",
   "id": "57349699-117a-4cf9-bb95-5910f18d5187",
   "metadata": {},
   "source": [
    "Once we have created our external tables, the rest is _simply the usual stuff for Atoti_."
   ]
  },
  {
   "cell_type": "markdown",
   "id": "564a8bad-9c60-4c7a-b94e-918b5112cfdb",
   "metadata": {
    "tags": []
   },
   "source": [
    "## Atoti Cube Setup"
   ]
  },
  {
   "cell_type": "markdown",
   "id": "2f24568b-71da-4341-a716-f8abdbdce17d",
   "metadata": {
    "tags": []
   },
   "source": [
    "From this section onwards, the coding remains the same regardless of the underlying data source.  \n",
    "\n",
    "As we have always done, we join the tables and create the cube."
   ]
  },
  {
   "cell_type": "code",
   "execution_count": 15,
   "id": "93f6c667-27b6-4e2e-9685-ef275235622c",
   "metadata": {
    "tags": []
   },
   "outputs": [
    {
     "data": {
      "image/png": "[encoded data removed]",
      "text/plain": [
       "erDiagram\n",
       "  \"Atoti Sales\" {\n",
       "    _ String PK \"SALE_ID\"\n",
       "    _ LocalDate \"DATE\"\n",
       "    _ String \"SHOP\"\n",
       "    _ String \"PRODUCT\"\n",
       "    _ long \"QUANTITY\"\n",
       "    _ double \"UNIT_PRICE\"\n",
       "  }\n",
       "  \"Atoti Product\" {\n",
       "    _ String PK \"PRODUCT_ID\"\n",
       "    _ String \"CATEGORY\"\n",
       "    _ String \"SUB_CATEGORY\"\n",
       "    _ String \"SIZE\"\n",
       "    _ double \"PURCHASE_PRICE\"\n",
       "    _ String \"COLOR\"\n",
       "    _ String \"BRAND\"\n",
       "  }\n",
       "  \"Atoti Sales\" }o--o| \"Atoti Product\" : \"`PRODUCT` == `PRODUCT_ID`\""
      ]
     },
     "execution_count": 15,
     "metadata": {},
     "output_type": "execute_result"
    }
   ],
   "source": [
    "sales_table.join(products_table, sales_table[\"PRODUCT\"] == products_table[\"PRODUCT_ID\"])\n",
    "cube = session.create_cube(sales_table)\n",
    "session.tables.schema"
   ]
  },
  {
   "cell_type": "code",
   "execution_count": 16,
   "id": "4ee29cb6-1f57-43f2-b6e7-ad2e72d8abd4",
   "metadata": {
    "atoti": {
     "widget": {
      "mapping": {
       "columns": [
        "ALL_MEASURES"
       ],
       "measures": [
        "[Measures].[QUANTITY.SUM]"
       ],
       "rows": [
        "[Atoti Sales].[DATE].[DATE]",
        "[Atoti Sales].[SHOP].[SHOP] => [Atoti Product].[BRAND].[BRAND]"
       ]
      },
      "name": "Quantity sold across dates by shops",
      "query": {
       "mdx": "SELECT NON EMPTY {[Measures].[QUANTITY.SUM]} ON COLUMNS, NON EMPTY Hierarchize(Union(Crossjoin(Hierarchize(Descendants({[Atoti Sales].[DATE].[AllMember]}, 1, SELF_AND_BEFORE)), Hierarchize(Descendants({[Atoti Sales].[SHOP].[AllMember]}, 1, SELF_AND_BEFORE)), [Atoti Product].[BRAND].DefaultMember), Crossjoin([Atoti Sales].[DATE].[AllMember].[2022-01-31], [Atoti Sales].[SHOP].[AllMember].[shop_2], Hierarchize(Descendants({[Atoti Product].[BRAND].[AllMember]}, 1, SELF_AND_BEFORE))))) ON ROWS FROM [Atoti Sales] CELL PROPERTIES VALUE, FORMATTED_VALUE, BACK_COLOR, FORE_COLOR, FONT_FLAGS",
       "updateMode": "once"
      },
      "serverKey": "default",
      "widgetKey": "pivot-table"
     }
    },
    "tags": []
   },
   "outputs": [
    {
     "data": {
      "application/vnd.atoti.widget.v0+json": {
       "sessionId": "1740056741_719409",
       "sessionUrl": "http://localhost:50534",
       "widgetCreationCode": "session.widget"
      },
      "text/html": [
       "<img height=\"352\" width=\"1281\" src=\"data:image/png;base64,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\" />"
      ],
      "text/plain": [
       "Open the notebook in JupyterLab with the Atoti JupyterLab extension enabled to build this widget."
      ]
     },
     "metadata": {},
     "output_type": "display_data"
    }
   ],
   "source": [
    "session.widget"
   ]
  },
  {
   "cell_type": "markdown",
   "id": "623a5cce-fee4-489b-9250-c5dd542fb708",
   "metadata": {},
   "source": [
    "### Cube manipulation"
   ]
  },
  {
   "cell_type": "markdown",
   "id": "ad616201-0cc7-4012-8e54-66a99c9c1a23",
   "metadata": {},
   "source": [
    "We perform hierarchy manipulation, level ordering and measure creations the same way we always do in Atoti."
   ]
  },
  {
   "cell_type": "code",
   "execution_count": 17,
   "id": "27bebe22-10e5-4b67-9c18-4bb478fef70b",
   "metadata": {
    "tags": []
   },
   "outputs": [],
   "source": [
    "h, l, m = cube.hierarchies, cube.levels, cube.measures"
   ]
  },
  {
   "cell_type": "code",
   "execution_count": 18,
   "id": "fe4aea14-fc25-4a2d-9401-0ce01df385e4",
   "metadata": {
    "tags": []
   },
   "outputs": [],
   "source": [
    "h[\"CATEGORY\"] = [l[\"CATEGORY\"], l[\"SUB_CATEGORY\"]]\n",
    "del h[\"SUB_CATEGORY\"]"
   ]
  },
  {
   "cell_type": "code",
   "execution_count": 19,
   "id": "efc5d476-6465-4ccf-93d3-9f5dfe19df3c",
   "metadata": {
    "tags": []
   },
   "outputs": [
    {
     "data": {
      "application/json": {
       "Atoti Product": {
        "BRAND": [
         "BRAND"
        ],
        "CATEGORY": [
         "CATEGORY",
         "SUB_CATEGORY"
        ],
        "COLOR": [
         "COLOR"
        ],
        "SIZE": [
         "SIZE"
        ]
       },
       "Atoti Sales": {
        "DATE": [
         "DATE"
        ],
        "PRODUCT": [
         "PRODUCT"
        ],
        "SALE_ID": [
         "SALE_ID"
        ],
        "SHOP": [
         "SHOP"
        ]
       }
      },
      "text/html": [
       "<ul>\n",
       "<li>Dimensions\n",
       "  <ul>\n",
       "  <li>Atoti Product\n",
       "    <ul>\n",
       "    <li>BRAND\n",
       "      <ol>\n",
       "      <li>BRAND</li>\n",
       "      </ol>    </li>\n",
       "    <li>CATEGORY\n",
       "      <ol>\n",
       "      <li>CATEGORY</li>\n",
       "      <li>SUB_CATEGORY</li>\n",
       "      </ol>    </li>\n",
       "    <li>COLOR\n",
       "      <ol>\n",
       "      <li>COLOR</li>\n",
       "      </ol>    </li>\n",
       "    <li>SIZE\n",
       "      <ol>\n",
       "      <li>SIZE</li>\n",
       "      </ol>    </li>\n",
       "    </ul>\n",
       "  </li>\n",
       "  <li>Atoti Sales\n",
       "    <ul>\n",
       "    <li>DATE\n",
       "      <ol>\n",
       "      <li>DATE</li>\n",
       "      </ol>    </li>\n",
       "    <li>PRODUCT\n",
       "      <ol>\n",
       "      <li>PRODUCT</li>\n",
       "      </ol>    </li>\n",
       "    <li>SALE_ID\n",
       "      <ol>\n",
       "      <li>SALE_ID</li>\n",
       "      </ol>    </li>\n",
       "    <li>SHOP\n",
       "      <ol>\n",
       "      <li>SHOP</li>\n",
       "      </ol>    </li>\n",
       "    </ul>\n",
       "  </li>\n",
       "  </ul>\n",
       "</li>\n",
       "</ul>\n"
      ],
      "text/plain": [
       "{('Atoti Product', 'SIZE'): <atoti.hierarchy.Hierarchy object at 0x11ce5d690>, ('Atoti Product', 'BRAND'): <atoti.hierarchy.Hierarchy object at 0x11cf735d0>, ('Atoti Product', 'COLOR'): <atoti.hierarchy.Hierarchy object at 0x11f1e1950>, ('Atoti Product', 'CATEGORY'): <atoti.hierarchy.Hierarchy object at 0x11f1e2f90>, ('Atoti Sales', 'SALE_ID'): <atoti.hierarchy.Hierarchy object at 0x11f1e0710>, ('Atoti Sales', 'DATE'): <atoti.hierarchy.Hierarchy object at 0x11f1e1490>, ('Atoti Sales', 'SHOP'): <atoti.hierarchy.Hierarchy object at 0x11f1e2b10>, ('Atoti Sales', 'PRODUCT'): <atoti.hierarchy.Hierarchy object at 0x11f1e1750>}"
      ]
     },
     "execution_count": 19,
     "metadata": {
      "application/json": {
       "expanded": true,
       "root": "Dimensions"
      }
     },
     "output_type": "execute_result"
    }
   ],
   "source": [
    "h"
   ]
  },
  {
   "cell_type": "code",
   "execution_count": 20,
   "id": "fe924c60-0c9d-431f-ac72-297db49d8abc",
   "metadata": {
    "tags": []
   },
   "outputs": [],
   "source": [
    "l[\"DATE\"].order = tt.NaturalOrder(ascending=False)"
   ]
  },
  {
   "cell_type": "code",
   "execution_count": 21,
   "id": "343686bd-182e-4de1-b681-8bc6c04b791d",
   "metadata": {
    "tags": []
   },
   "outputs": [],
   "source": [
    "m[\"PURCHASE_PRICE.SUM\"] = tt.agg.sum(products_table[\"PURCHASE_PRICE\"])\n",
    "m[\"PROFIT\"] = tt.agg.sum_product(\n",
    "    m[\"UNIT_PRICE.SUM\"] - m[\"PURCHASE_PRICE.SUM\"],\n",
    "    m[\"QUANTITY.SUM\"],\n",
    "    scope=tt.OriginScope(levels={l[\"SALE_ID\"], l[\"PRODUCT\"]}),\n",
    ")"
   ]
  },
  {
   "cell_type": "markdown",
   "id": "595db925-bf0b-4828-87fb-ff26c717d905",
   "metadata": {},
   "source": [
    "Since we have a join from `sales_table` to `products_table` using the column values of `sales_table.PRODUCT` and `products_table.PRODUCT_ID`, the resultant level is the name of the column from the _from_ table. Therefore, we have the level `PRODUCT` but not `PRODUCT_ID` for our scope in the code snippet above."
   ]
  },
  {
   "cell_type": "code",
   "execution_count": 22,
   "id": "a5dd754e-6d52-43b0-9a18-e7aa7fd42e0b",
   "metadata": {
    "atoti": {
     "widget": {
      "mapping": {
       "columns": [
        "ALL_MEASURES"
       ],
       "measures": [
        "[Measures].[UNIT_PRICE.SUM]",
        "[Measures].[PURCHASE_PRICE.SUM]",
        "[Measures].[QUANTITY.SUM]",
        "[Measures].[PROFIT]"
       ],
       "rows": [
        "[Atoti Sales].[DATE].[DATE]",
        "[Atoti Product].[CATEGORY].[CATEGORY] => [Atoti Product].[CATEGORY].[SUB_CATEGORY]"
       ]
      },
      "name": "Profit by Product Categories across dates",
      "query": {
       "mdx": "SELECT NON EMPTY Hierarchize(Union(Crossjoin(Hierarchize(Descendants({[Atoti Sales].[DATE].[AllMember]}, 1, SELF_AND_BEFORE)), Hierarchize(Descendants({[Atoti Product].[CATEGORY].[AllMember]}, 1, SELF_AND_BEFORE))), Crossjoin([Atoti Sales].[DATE].[AllMember].[2022-02-03], Descendants({[Atoti Product].[CATEGORY].[AllMember].[Cloth]}, [Atoti Product].[CATEGORY].[SUB_CATEGORY])))) ON ROWS, NON EMPTY {[Measures].[UNIT_PRICE.SUM], [Measures].[PURCHASE_PRICE.SUM], [Measures].[QUANTITY.SUM], [Measures].[PROFIT]} ON COLUMNS FROM [Atoti Sales] CELL PROPERTIES VALUE, FORMATTED_VALUE, BACK_COLOR, FORE_COLOR, FONT_FLAGS",
       "updateMode": "once"
      },
      "serverKey": "default",
      "widgetKey": "pivot-table"
     }
    },
    "tags": []
   },
   "outputs": [
    {
     "data": {
      "application/vnd.atoti.widget.v0+json": {
       "sessionId": "1740056741_719409",
       "sessionUrl": "http://localhost:50534",
       "widgetCreationCode": "session.widget"
      },
      "text/html": [
       "<img height=\"352\" width=\"1281\" src=\"data:image/png;base64,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\" />"
      ],
      "text/plain": [
       "Open the notebook in JupyterLab with the Atoti JupyterLab extension enabled to build this widget."
      ]
     },
     "metadata": {},
     "output_type": "display_data"
    }
   ],
   "source": [
    "session.widget"
   ]
  },
  {
   "cell_type": "markdown",
   "id": "08ceaeb7-d0ed-42b5-899e-f4fb4fdcf1ae",
   "metadata": {},
   "source": [
    "## Cost and performance saving with Aggregate Provider"
   ]
  },
  {
   "cell_type": "markdown",
   "id": "b00d6de1-5324-43b0-acb0-c682977c2cf0",
   "metadata": {},
   "source": [
    "Let's take a quick look at our query performance in the current setup."
   ]
  },
  {
   "cell_type": "code",
   "execution_count": 23,
   "id": "37320670-66e8-40c1-9402-26775ed5817c",
   "metadata": {},
   "outputs": [
    {
     "name": "stdout",
     "output_type": "stream",
     "text": [
      "CPU times: user 28.3 ms, sys: 6.96 ms, total: 35.3 ms\n",
      "Wall time: 1.77 s\n"
     ]
    },
    {
     "data": {
      "application/vnd.atoti.convert-mdx-query-result-to-widget.v0+json": {
       "mdx": "SELECT {[Measures].[QUANTITY.SUM], [Measures].[PROFIT]} ON COLUMNS, NON EMPTY Crossjoin(Hierarchize(Descendants({[Atoti Sales].[DATE].[ALL].[AllMember]}, 1, SELF_AND_BEFORE)), Hierarchize(Descendants({[Atoti Sales].[PRODUCT].[ALL].[AllMember]}, 1, SELF_AND_BEFORE)), Hierarchize(Descendants({[Atoti Sales].[SALE_ID].[ALL].[AllMember]}, 1, SELF_AND_BEFORE))) ON ROWS FROM [Atoti Sales]",
       "sessionId": "1740056741_719409",
       "widgetCreationCode": "session.widget"
      },
      "text/html": [
       "<div>\n",
       "<style scoped>\n",
       "    .dataframe tbody tr th:only-of-type {\n",
       "        vertical-align: middle;\n",
       "    }\n",
       "\n",
       "    .dataframe tbody tr th {\n",
       "        vertical-align: top;\n",
       "    }\n",
       "\n",
       "    .dataframe thead th {\n",
       "        text-align: right;\n",
       "    }\n",
       "</style>\n",
       "<table border=\"1\" class=\"dataframe\">\n",
       "  <thead>\n",
       "    <tr style=\"text-align: right;\">\n",
       "      <th></th>\n",
       "      <th></th>\n",
       "      <th></th>\n",
       "      <th>QUANTITY.SUM</th>\n",
       "      <th>PROFIT</th>\n",
       "    </tr>\n",
       "    <tr>\n",
       "      <th>DATE</th>\n",
       "      <th>PRODUCT</th>\n",
       "      <th>SALE_ID</th>\n",
       "      <th></th>\n",
       "      <th></th>\n",
       "    </tr>\n",
       "  </thead>\n",
       "  <tbody>\n",
       "    <tr>\n",
       "      <th rowspan=\"2\" valign=\"top\">2022-02-04</th>\n",
       "      <th>HOO_5</th>\n",
       "      <th>S0017</th>\n",
       "      <td>1</td>\n",
       "      <td>10.00</td>\n",
       "    </tr>\n",
       "    <tr>\n",
       "      <th>TAB_0</th>\n",
       "      <th>S0000</th>\n",
       "      <td>1</td>\n",
       "      <td>20.00</td>\n",
       "    </tr>\n",
       "    <tr>\n",
       "      <th rowspan=\"4\" valign=\"top\">2022-02-03</th>\n",
       "      <th>HOO_5</th>\n",
       "      <th>S0018</th>\n",
       "      <td>1</td>\n",
       "      <td>10.00</td>\n",
       "    </tr>\n",
       "    <tr>\n",
       "      <th>TAB_0</th>\n",
       "      <th>S0001</th>\n",
       "      <td>1</td>\n",
       "      <td>20.00</td>\n",
       "    </tr>\n",
       "    <tr>\n",
       "      <th>TAB_1</th>\n",
       "      <th>S0004</th>\n",
       "      <td>1</td>\n",
       "      <td>20.00</td>\n",
       "    </tr>\n",
       "    <tr>\n",
       "      <th>TSH_3</th>\n",
       "      <th>S0011</th>\n",
       "      <td>1</td>\n",
       "      <td>3.00</td>\n",
       "    </tr>\n",
       "    <tr>\n",
       "      <th rowspan=\"5\" valign=\"top\">2022-02-02</th>\n",
       "      <th>HOO_5</th>\n",
       "      <th>S0019</th>\n",
       "      <td>1</td>\n",
       "      <td>10.00</td>\n",
       "    </tr>\n",
       "    <tr>\n",
       "      <th>TAB_0</th>\n",
       "      <th>S0002</th>\n",
       "      <td>1</td>\n",
       "      <td>20.00</td>\n",
       "    </tr>\n",
       "    <tr>\n",
       "      <th>TAB_1</th>\n",
       "      <th>S0005</th>\n",
       "      <td>1</td>\n",
       "      <td>20.00</td>\n",
       "    </tr>\n",
       "    <tr>\n",
       "      <th>TSH_3</th>\n",
       "      <th>S0012</th>\n",
       "      <td>1</td>\n",
       "      <td>3.00</td>\n",
       "    </tr>\n",
       "    <tr>\n",
       "      <th>TSH_4</th>\n",
       "      <th>S0014</th>\n",
       "      <td>1</td>\n",
       "      <td>4.00</td>\n",
       "    </tr>\n",
       "    <tr>\n",
       "      <th rowspan=\"5\" valign=\"top\">2022-02-01</th>\n",
       "      <th>BED_2</th>\n",
       "      <th>S0007</th>\n",
       "      <td>1</td>\n",
       "      <td>23.00</td>\n",
       "    </tr>\n",
       "    <tr>\n",
       "      <th>TAB_0</th>\n",
       "      <th>S0003</th>\n",
       "      <td>1</td>\n",
       "      <td>20.00</td>\n",
       "    </tr>\n",
       "    <tr>\n",
       "      <th>TAB_1</th>\n",
       "      <th>S0006</th>\n",
       "      <td>2</td>\n",
       "      <td>40.00</td>\n",
       "    </tr>\n",
       "    <tr>\n",
       "      <th>TSH_3</th>\n",
       "      <th>S0013</th>\n",
       "      <td>1</td>\n",
       "      <td>3.00</td>\n",
       "    </tr>\n",
       "    <tr>\n",
       "      <th>TSH_4</th>\n",
       "      <th>S0015</th>\n",
       "      <td>2</td>\n",
       "      <td>8.00</td>\n",
       "    </tr>\n",
       "    <tr>\n",
       "      <th rowspan=\"4\" valign=\"top\">2022-01-31</th>\n",
       "      <th rowspan=\"3\" valign=\"top\">BED_2</th>\n",
       "      <th>S0008</th>\n",
       "      <td>1</td>\n",
       "      <td>23.00</td>\n",
       "    </tr>\n",
       "    <tr>\n",
       "      <th>S0009</th>\n",
       "      <td>1</td>\n",
       "      <td>23.00</td>\n",
       "    </tr>\n",
       "    <tr>\n",
       "      <th>S0010</th>\n",
       "      <td>3</td>\n",
       "      <td>69.00</td>\n",
       "    </tr>\n",
       "    <tr>\n",
       "      <th>TSH_4</th>\n",
       "      <th>S0016</th>\n",
       "      <td>2</td>\n",
       "      <td>8.00</td>\n",
       "    </tr>\n",
       "  </tbody>\n",
       "</table>\n",
       "</div>"
      ],
      "text/plain": [
       "                           QUANTITY.SUM PROFIT\n",
       "DATE       PRODUCT SALE_ID                    \n",
       "2022-02-04 HOO_5   S0017              1  10.00\n",
       "           TAB_0   S0000              1  20.00\n",
       "2022-02-03 HOO_5   S0018              1  10.00\n",
       "           TAB_0   S0001              1  20.00\n",
       "           TAB_1   S0004              1  20.00\n",
       "           TSH_3   S0011              1   3.00\n",
       "2022-02-02 HOO_5   S0019              1  10.00\n",
       "           TAB_0   S0002              1  20.00\n",
       "           TAB_1   S0005              1  20.00\n",
       "           TSH_3   S0012              1   3.00\n",
       "           TSH_4   S0014              1   4.00\n",
       "2022-02-01 BED_2   S0007              1  23.00\n",
       "           TAB_0   S0003              1  20.00\n",
       "           TAB_1   S0006              2  40.00\n",
       "           TSH_3   S0013              1   3.00\n",
       "           TSH_4   S0015              2   8.00\n",
       "2022-01-31 BED_2   S0008              1  23.00\n",
       "                   S0009              1  23.00\n",
       "                   S0010              3  69.00\n",
       "           TSH_4   S0016              2   8.00"
      ]
     },
     "execution_count": 23,
     "metadata": {},
     "output_type": "execute_result"
    }
   ],
   "source": [
    "%%time\n",
    "\n",
    "cube.query(\n",
    "    m[\"QUANTITY.SUM\"], m[\"PROFIT\"], levels=[l[\"DATE\"], l[\"PRODUCT\"], l[\"SALE_ID\"]]\n",
    ")"
   ]
  },
  {
   "cell_type": "code",
   "execution_count": 24,
   "id": "41a42190-2831-458d-9679-aa942dae9de0",
   "metadata": {},
   "outputs": [
    {
     "name": "stdout",
     "output_type": "stream",
     "text": [
      "CPU times: user 10 ms, sys: 2.74 ms, total: 12.8 ms\n",
      "Wall time: 1.49 s\n"
     ]
    },
    {
     "data": {
      "application/vnd.atoti.convert-mdx-query-result-to-widget.v0+json": {
       "mdx": "SELECT {[Measures].[PROFIT]} ON COLUMNS, NON EMPTY Crossjoin(Hierarchize(Descendants({[Atoti Sales].[DATE].[ALL].[AllMember]}, 1, SELF_AND_BEFORE)), Hierarchize(Descendants({[Atoti Product].[CATEGORY].[ALL].[AllMember]}, 2, SELF_AND_BEFORE))) DIMENSION PROPERTIES CHILDREN_CARDINALITY ON ROWS FROM [Atoti Sales]",
       "sessionId": "1740056741_719409",
       "widgetCreationCode": "session.widget"
      },
      "text/html": [
       "<div>\n",
       "<style scoped>\n",
       "    .dataframe tbody tr th:only-of-type {\n",
       "        vertical-align: middle;\n",
       "    }\n",
       "\n",
       "    .dataframe tbody tr th {\n",
       "        vertical-align: top;\n",
       "    }\n",
       "\n",
       "    .dataframe thead th {\n",
       "        text-align: right;\n",
       "    }\n",
       "</style>\n",
       "<table border=\"1\" class=\"dataframe\">\n",
       "  <thead>\n",
       "    <tr style=\"text-align: right;\">\n",
       "      <th></th>\n",
       "      <th></th>\n",
       "      <th></th>\n",
       "      <th>PROFIT</th>\n",
       "    </tr>\n",
       "    <tr>\n",
       "      <th>DATE</th>\n",
       "      <th>CATEGORY</th>\n",
       "      <th>SUB_CATEGORY</th>\n",
       "      <th></th>\n",
       "    </tr>\n",
       "  </thead>\n",
       "  <tbody>\n",
       "    <tr>\n",
       "      <th rowspan=\"2\" valign=\"top\">2022-02-04</th>\n",
       "      <th>Cloth</th>\n",
       "      <th>Hoodie</th>\n",
       "      <td>10.00</td>\n",
       "    </tr>\n",
       "    <tr>\n",
       "      <th>Furniture</th>\n",
       "      <th>Table</th>\n",
       "      <td>20.00</td>\n",
       "    </tr>\n",
       "    <tr>\n",
       "      <th rowspan=\"3\" valign=\"top\">2022-02-03</th>\n",
       "      <th rowspan=\"2\" valign=\"top\">Cloth</th>\n",
       "      <th>Hoodie</th>\n",
       "      <td>10.00</td>\n",
       "    </tr>\n",
       "    <tr>\n",
       "      <th>Tshirt</th>\n",
       "      <td>3.00</td>\n",
       "    </tr>\n",
       "    <tr>\n",
       "      <th>Furniture</th>\n",
       "      <th>Table</th>\n",
       "      <td>40.00</td>\n",
       "    </tr>\n",
       "    <tr>\n",
       "      <th rowspan=\"3\" valign=\"top\">2022-02-02</th>\n",
       "      <th rowspan=\"2\" valign=\"top\">Cloth</th>\n",
       "      <th>Hoodie</th>\n",
       "      <td>10.00</td>\n",
       "    </tr>\n",
       "    <tr>\n",
       "      <th>Tshirt</th>\n",
       "      <td>7.00</td>\n",
       "    </tr>\n",
       "    <tr>\n",
       "      <th>Furniture</th>\n",
       "      <th>Table</th>\n",
       "      <td>40.00</td>\n",
       "    </tr>\n",
       "    <tr>\n",
       "      <th rowspan=\"3\" valign=\"top\">2022-02-01</th>\n",
       "      <th>Cloth</th>\n",
       "      <th>Tshirt</th>\n",
       "      <td>11.00</td>\n",
       "    </tr>\n",
       "    <tr>\n",
       "      <th rowspan=\"2\" valign=\"top\">Furniture</th>\n",
       "      <th>Bed</th>\n",
       "      <td>23.00</td>\n",
       "    </tr>\n",
       "    <tr>\n",
       "      <th>Table</th>\n",
       "      <td>60.00</td>\n",
       "    </tr>\n",
       "    <tr>\n",
       "      <th rowspan=\"2\" valign=\"top\">2022-01-31</th>\n",
       "      <th>Cloth</th>\n",
       "      <th>Tshirt</th>\n",
       "      <td>8.00</td>\n",
       "    </tr>\n",
       "    <tr>\n",
       "      <th>Furniture</th>\n",
       "      <th>Bed</th>\n",
       "      <td>115.00</td>\n",
       "    </tr>\n",
       "  </tbody>\n",
       "</table>\n",
       "</div>"
      ],
      "text/plain": [
       "                                   PROFIT\n",
       "DATE       CATEGORY  SUB_CATEGORY        \n",
       "2022-02-04 Cloth     Hoodie         10.00\n",
       "           Furniture Table          20.00\n",
       "2022-02-03 Cloth     Hoodie         10.00\n",
       "                     Tshirt          3.00\n",
       "           Furniture Table          40.00\n",
       "2022-02-02 Cloth     Hoodie         10.00\n",
       "                     Tshirt          7.00\n",
       "           Furniture Table          40.00\n",
       "2022-02-01 Cloth     Tshirt         11.00\n",
       "           Furniture Bed            23.00\n",
       "                     Table          60.00\n",
       "2022-01-31 Cloth     Tshirt          8.00\n",
       "           Furniture Bed           115.00"
      ]
     },
     "execution_count": 24,
     "metadata": {},
     "output_type": "execute_result"
    }
   ],
   "source": [
    "%%time\n",
    "\n",
    "cube.query(m[\"PROFIT\"], levels=[l[\"DATE\"], l[\"SUB_CATEGORY\"]])"
   ]
  },
  {
   "cell_type": "markdown",
   "id": "ec655a71-8eec-42ae-9dd5-3fa7bbf0f782",
   "metadata": {},
   "source": [
    "It takes approximately `3s` to return the query (YMMV)."
   ]
  },
  {
   "cell_type": "markdown",
   "id": "409bcc8e-c3e4-4592-a6ee-c54d41f97719",
   "metadata": {},
   "source": [
    "To speed up our querying, we make use of the [aggregate provider](https://docs.atoti.io/latest/api/atoti.AggregateProvider.html#atoti.AggregateProvider) to store intermediate aggregates in memory. If a step of a query uses a subset of the aggregate provider's levels and measures, the provider will speed up the query.  \n",
    "\n",
    "Since data is cached in memory, we will __not__ access BigQuery when a subset of these are queried.  "
   ]
  },
  {
   "cell_type": "code",
   "execution_count": 25,
   "id": "0f33a62c-d66d-4e3a-997d-ae325e9276ec",
   "metadata": {
    "tags": []
   },
   "outputs": [],
   "source": [
    "cube.aggregate_providers.update(\n",
    "    {\n",
    "        \"Products provider\": tt.AggregateProvider(\n",
    "            key=\"bitmap\",\n",
    "            levels=[l[\"DATE\"], l[\"PRODUCT\"], l[\"SALE_ID\"]],\n",
    "            measures=[m[\"QUANTITY.SUM\"], m[\"PURCHASE_PRICE.SUM\"], m[\"UNIT_PRICE.SUM\"]],\n",
    "            partitioning=\"hash16(PRODUCT)\",\n",
    "        )\n",
    "    }\n",
    ")"
   ]
  },
  {
   "cell_type": "markdown",
   "id": "4817dae9-0dbb-4c91-95bc-38a1320102ae",
   "metadata": {},
   "source": [
    "⚠️ **Important:** We can only use store aggregated measures supporting disaggregation can be used in aggregate provider, e.g. `tt.agg.sum` or `tt.agg.mean` on table columns.\n",
    "\n",
    "`m[\"PROFIT\"]` cannot be used because it is a chained measure resulting from the `sum_product` of a few measures.\n"
   ]
  },
  {
   "cell_type": "code",
   "execution_count": 26,
   "id": "0bc35e5d-1845-479b-873f-5a24be936f1e",
   "metadata": {
    "tags": []
   },
   "outputs": [
    {
     "name": "stdout",
     "output_type": "stream",
     "text": [
      "CPU times: user 11.5 ms, sys: 2.68 ms, total: 14.2 ms\n",
      "Wall time: 59.9 ms\n"
     ]
    },
    {
     "data": {
      "application/vnd.atoti.convert-mdx-query-result-to-widget.v0+json": {
       "mdx": "SELECT {[Measures].[PROFIT]} ON COLUMNS, NON EMPTY Crossjoin(Hierarchize(Descendants({[Atoti Sales].[DATE].[ALL].[AllMember]}, 1, SELF_AND_BEFORE)), Hierarchize(Descendants({[Atoti Sales].[PRODUCT].[ALL].[AllMember]}, 1, SELF_AND_BEFORE)), Hierarchize(Descendants({[Atoti Sales].[SALE_ID].[ALL].[AllMember]}, 1, SELF_AND_BEFORE))) ON ROWS FROM [Atoti Sales]",
       "sessionId": "1740056741_719409",
       "widgetCreationCode": "session.widget"
      },
      "text/html": [
       "<div>\n",
       "<style scoped>\n",
       "    .dataframe tbody tr th:only-of-type {\n",
       "        vertical-align: middle;\n",
       "    }\n",
       "\n",
       "    .dataframe tbody tr th {\n",
       "        vertical-align: top;\n",
       "    }\n",
       "\n",
       "    .dataframe thead th {\n",
       "        text-align: right;\n",
       "    }\n",
       "</style>\n",
       "<table border=\"1\" class=\"dataframe\">\n",
       "  <thead>\n",
       "    <tr style=\"text-align: right;\">\n",
       "      <th></th>\n",
       "      <th></th>\n",
       "      <th></th>\n",
       "      <th>PROFIT</th>\n",
       "    </tr>\n",
       "    <tr>\n",
       "      <th>DATE</th>\n",
       "      <th>PRODUCT</th>\n",
       "      <th>SALE_ID</th>\n",
       "      <th></th>\n",
       "    </tr>\n",
       "  </thead>\n",
       "  <tbody>\n",
       "    <tr>\n",
       "      <th rowspan=\"2\" valign=\"top\">2022-02-04</th>\n",
       "      <th>HOO_5</th>\n",
       "      <th>S0017</th>\n",
       "      <td>10.00</td>\n",
       "    </tr>\n",
       "    <tr>\n",
       "      <th>TAB_0</th>\n",
       "      <th>S0000</th>\n",
       "      <td>20.00</td>\n",
       "    </tr>\n",
       "    <tr>\n",
       "      <th rowspan=\"4\" valign=\"top\">2022-02-03</th>\n",
       "      <th>HOO_5</th>\n",
       "      <th>S0018</th>\n",
       "      <td>10.00</td>\n",
       "    </tr>\n",
       "    <tr>\n",
       "      <th>TAB_0</th>\n",
       "      <th>S0001</th>\n",
       "      <td>20.00</td>\n",
       "    </tr>\n",
       "    <tr>\n",
       "      <th>TAB_1</th>\n",
       "      <th>S0004</th>\n",
       "      <td>20.00</td>\n",
       "    </tr>\n",
       "    <tr>\n",
       "      <th>TSH_3</th>\n",
       "      <th>S0011</th>\n",
       "      <td>3.00</td>\n",
       "    </tr>\n",
       "    <tr>\n",
       "      <th rowspan=\"5\" valign=\"top\">2022-02-02</th>\n",
       "      <th>HOO_5</th>\n",
       "      <th>S0019</th>\n",
       "      <td>10.00</td>\n",
       "    </tr>\n",
       "    <tr>\n",
       "      <th>TAB_0</th>\n",
       "      <th>S0002</th>\n",
       "      <td>20.00</td>\n",
       "    </tr>\n",
       "    <tr>\n",
       "      <th>TAB_1</th>\n",
       "      <th>S0005</th>\n",
       "      <td>20.00</td>\n",
       "    </tr>\n",
       "    <tr>\n",
       "      <th>TSH_3</th>\n",
       "      <th>S0012</th>\n",
       "      <td>3.00</td>\n",
       "    </tr>\n",
       "    <tr>\n",
       "      <th>TSH_4</th>\n",
       "      <th>S0014</th>\n",
       "      <td>4.00</td>\n",
       "    </tr>\n",
       "    <tr>\n",
       "      <th rowspan=\"5\" valign=\"top\">2022-02-01</th>\n",
       "      <th>BED_2</th>\n",
       "      <th>S0007</th>\n",
       "      <td>23.00</td>\n",
       "    </tr>\n",
       "    <tr>\n",
       "      <th>TAB_0</th>\n",
       "      <th>S0003</th>\n",
       "      <td>20.00</td>\n",
       "    </tr>\n",
       "    <tr>\n",
       "      <th>TAB_1</th>\n",
       "      <th>S0006</th>\n",
       "      <td>40.00</td>\n",
       "    </tr>\n",
       "    <tr>\n",
       "      <th>TSH_3</th>\n",
       "      <th>S0013</th>\n",
       "      <td>3.00</td>\n",
       "    </tr>\n",
       "    <tr>\n",
       "      <th>TSH_4</th>\n",
       "      <th>S0015</th>\n",
       "      <td>8.00</td>\n",
       "    </tr>\n",
       "    <tr>\n",
       "      <th rowspan=\"4\" valign=\"top\">2022-01-31</th>\n",
       "      <th rowspan=\"3\" valign=\"top\">BED_2</th>\n",
       "      <th>S0008</th>\n",
       "      <td>23.00</td>\n",
       "    </tr>\n",
       "    <tr>\n",
       "      <th>S0009</th>\n",
       "      <td>23.00</td>\n",
       "    </tr>\n",
       "    <tr>\n",
       "      <th>S0010</th>\n",
       "      <td>69.00</td>\n",
       "    </tr>\n",
       "    <tr>\n",
       "      <th>TSH_4</th>\n",
       "      <th>S0016</th>\n",
       "      <td>8.00</td>\n",
       "    </tr>\n",
       "  </tbody>\n",
       "</table>\n",
       "</div>"
      ],
      "text/plain": [
       "                           PROFIT\n",
       "DATE       PRODUCT SALE_ID       \n",
       "2022-02-04 HOO_5   S0017    10.00\n",
       "           TAB_0   S0000    20.00\n",
       "2022-02-03 HOO_5   S0018    10.00\n",
       "           TAB_0   S0001    20.00\n",
       "           TAB_1   S0004    20.00\n",
       "           TSH_3   S0011     3.00\n",
       "2022-02-02 HOO_5   S0019    10.00\n",
       "           TAB_0   S0002    20.00\n",
       "           TAB_1   S0005    20.00\n",
       "           TSH_3   S0012     3.00\n",
       "           TSH_4   S0014     4.00\n",
       "2022-02-01 BED_2   S0007    23.00\n",
       "           TAB_0   S0003    20.00\n",
       "           TAB_1   S0006    40.00\n",
       "           TSH_3   S0013     3.00\n",
       "           TSH_4   S0015     8.00\n",
       "2022-01-31 BED_2   S0008    23.00\n",
       "                   S0009    23.00\n",
       "                   S0010    69.00\n",
       "           TSH_4   S0016     8.00"
      ]
     },
     "execution_count": 26,
     "metadata": {},
     "output_type": "execute_result"
    }
   ],
   "source": [
    "%%time\n",
    "\n",
    "cube.query(m[\"PROFIT\"], levels=[l[\"DATE\"], l[\"PRODUCT\"], l[\"SALE_ID\"]])"
   ]
  },
  {
   "cell_type": "markdown",
   "id": "fd36b224-ab65-45f0-a2fb-1e44c5fdb1c8",
   "metadata": {},
   "source": [
    "Previously, it took close to `3s` to return the query results. Now, it only takes slightly over `100ms` to return the results (YMMV).  \n",
    "\n",
    "Note that we are querying `PROFIT` and not the measures `m[\"QUANTITY.SUM\"]`, `m[\"PURCHASE_PRICE.SUM\"]` and `m[\"UNIT_PRICE.SUM\"]`. However, `PROFIT` is computed on the fly using the cached data in memory. Therefore, the query speed is improved drastically."
   ]
  },
  {
   "cell_type": "code",
   "execution_count": 27,
   "id": "800e212c-f4ce-4e77-8653-f8afd9b50043",
   "metadata": {
    "tags": []
   },
   "outputs": [
    {
     "name": "stdout",
     "output_type": "stream",
     "text": [
      "CPU times: user 5.12 ms, sys: 2.4 ms, total: 7.52 ms\n",
      "Wall time: 21.9 ms\n"
     ]
    },
    {
     "data": {
      "application/vnd.atoti.convert-mdx-query-result-to-widget.v0+json": {
       "mdx": "SELECT {[Measures].[PROFIT]} ON COLUMNS, NON EMPTY Hierarchize(Descendants({[Atoti Sales].[PRODUCT].[ALL].[AllMember]}, 1, SELF_AND_BEFORE)) ON ROWS FROM [Atoti Sales]",
       "sessionId": "1740056741_719409",
       "widgetCreationCode": "session.widget"
      },
      "text/html": [
       "<div>\n",
       "<style scoped>\n",
       "    .dataframe tbody tr th:only-of-type {\n",
       "        vertical-align: middle;\n",
       "    }\n",
       "\n",
       "    .dataframe tbody tr th {\n",
       "        vertical-align: top;\n",
       "    }\n",
       "\n",
       "    .dataframe thead th {\n",
       "        text-align: right;\n",
       "    }\n",
       "</style>\n",
       "<table border=\"1\" class=\"dataframe\">\n",
       "  <thead>\n",
       "    <tr style=\"text-align: right;\">\n",
       "      <th></th>\n",
       "      <th>PROFIT</th>\n",
       "    </tr>\n",
       "    <tr>\n",
       "      <th>PRODUCT</th>\n",
       "      <th></th>\n",
       "    </tr>\n",
       "  </thead>\n",
       "  <tbody>\n",
       "    <tr>\n",
       "      <th>BED_2</th>\n",
       "      <td>138.00</td>\n",
       "    </tr>\n",
       "    <tr>\n",
       "      <th>HOO_5</th>\n",
       "      <td>30.00</td>\n",
       "    </tr>\n",
       "    <tr>\n",
       "      <th>TAB_0</th>\n",
       "      <td>80.00</td>\n",
       "    </tr>\n",
       "    <tr>\n",
       "      <th>TAB_1</th>\n",
       "      <td>80.00</td>\n",
       "    </tr>\n",
       "    <tr>\n",
       "      <th>TSH_3</th>\n",
       "      <td>9.00</td>\n",
       "    </tr>\n",
       "    <tr>\n",
       "      <th>TSH_4</th>\n",
       "      <td>20.00</td>\n",
       "    </tr>\n",
       "  </tbody>\n",
       "</table>\n",
       "</div>"
      ],
      "text/plain": [
       "         PROFIT\n",
       "PRODUCT        \n",
       "BED_2    138.00\n",
       "HOO_5     30.00\n",
       "TAB_0     80.00\n",
       "TAB_1     80.00\n",
       "TSH_3      9.00\n",
       "TSH_4     20.00"
      ]
     },
     "execution_count": 27,
     "metadata": {},
     "output_type": "execute_result"
    }
   ],
   "source": [
    "%%time\n",
    "\n",
    "cube.query(m[\"PROFIT\"], levels=[l[\"PRODUCT\"]])"
   ]
  },
  {
   "cell_type": "markdown",
   "id": "3776a1f9-c10c-4912-866f-238a3b95fbee",
   "metadata": {},
   "source": [
    "Querying a subset of the aggregate provider levels also returns the result quickly.  \n",
    "\n",
    "The below query on a different level will access data from BigQuery and therefore, is limited by the querying speed of the cloud database and its network connectivity.  "
   ]
  },
  {
   "cell_type": "code",
   "execution_count": 28,
   "id": "08506fb9-16e3-4052-9288-380ecc441021",
   "metadata": {
    "tags": []
   },
   "outputs": [
    {
     "name": "stdout",
     "output_type": "stream",
     "text": [
      "CPU times: user 11.7 ms, sys: 3.61 ms, total: 15.3 ms\n",
      "Wall time: 1.38 s\n"
     ]
    },
    {
     "data": {
      "application/vnd.atoti.convert-mdx-query-result-to-widget.v0+json": {
       "mdx": "SELECT {[Measures].[PROFIT]} ON COLUMNS, NON EMPTY Crossjoin(Hierarchize(Descendants({[Atoti Sales].[DATE].[ALL].[AllMember]}, 1, SELF_AND_BEFORE)), Hierarchize(Descendants({[Atoti Product].[CATEGORY].[ALL].[AllMember]}, 2, SELF_AND_BEFORE))) DIMENSION PROPERTIES CHILDREN_CARDINALITY ON ROWS FROM [Atoti Sales]",
       "sessionId": "1740056741_719409",
       "widgetCreationCode": "session.widget"
      },
      "text/html": [
       "<div>\n",
       "<style scoped>\n",
       "    .dataframe tbody tr th:only-of-type {\n",
       "        vertical-align: middle;\n",
       "    }\n",
       "\n",
       "    .dataframe tbody tr th {\n",
       "        vertical-align: top;\n",
       "    }\n",
       "\n",
       "    .dataframe thead th {\n",
       "        text-align: right;\n",
       "    }\n",
       "</style>\n",
       "<table border=\"1\" class=\"dataframe\">\n",
       "  <thead>\n",
       "    <tr style=\"text-align: right;\">\n",
       "      <th></th>\n",
       "      <th></th>\n",
       "      <th></th>\n",
       "      <th>PROFIT</th>\n",
       "    </tr>\n",
       "    <tr>\n",
       "      <th>DATE</th>\n",
       "      <th>CATEGORY</th>\n",
       "      <th>SUB_CATEGORY</th>\n",
       "      <th></th>\n",
       "    </tr>\n",
       "  </thead>\n",
       "  <tbody>\n",
       "    <tr>\n",
       "      <th rowspan=\"2\" valign=\"top\">2022-02-04</th>\n",
       "      <th>Cloth</th>\n",
       "      <th>Hoodie</th>\n",
       "      <td>10.00</td>\n",
       "    </tr>\n",
       "    <tr>\n",
       "      <th>Furniture</th>\n",
       "      <th>Table</th>\n",
       "      <td>20.00</td>\n",
       "    </tr>\n",
       "    <tr>\n",
       "      <th rowspan=\"3\" valign=\"top\">2022-02-03</th>\n",
       "      <th rowspan=\"2\" valign=\"top\">Cloth</th>\n",
       "      <th>Hoodie</th>\n",
       "      <td>10.00</td>\n",
       "    </tr>\n",
       "    <tr>\n",
       "      <th>Tshirt</th>\n",
       "      <td>3.00</td>\n",
       "    </tr>\n",
       "    <tr>\n",
       "      <th>Furniture</th>\n",
       "      <th>Table</th>\n",
       "      <td>40.00</td>\n",
       "    </tr>\n",
       "    <tr>\n",
       "      <th rowspan=\"3\" valign=\"top\">2022-02-02</th>\n",
       "      <th rowspan=\"2\" valign=\"top\">Cloth</th>\n",
       "      <th>Hoodie</th>\n",
       "      <td>10.00</td>\n",
       "    </tr>\n",
       "    <tr>\n",
       "      <th>Tshirt</th>\n",
       "      <td>7.00</td>\n",
       "    </tr>\n",
       "    <tr>\n",
       "      <th>Furniture</th>\n",
       "      <th>Table</th>\n",
       "      <td>40.00</td>\n",
       "    </tr>\n",
       "    <tr>\n",
       "      <th rowspan=\"3\" valign=\"top\">2022-02-01</th>\n",
       "      <th>Cloth</th>\n",
       "      <th>Tshirt</th>\n",
       "      <td>11.00</td>\n",
       "    </tr>\n",
       "    <tr>\n",
       "      <th rowspan=\"2\" valign=\"top\">Furniture</th>\n",
       "      <th>Bed</th>\n",
       "      <td>23.00</td>\n",
       "    </tr>\n",
       "    <tr>\n",
       "      <th>Table</th>\n",
       "      <td>60.00</td>\n",
       "    </tr>\n",
       "    <tr>\n",
       "      <th rowspan=\"2\" valign=\"top\">2022-01-31</th>\n",
       "      <th>Cloth</th>\n",
       "      <th>Tshirt</th>\n",
       "      <td>8.00</td>\n",
       "    </tr>\n",
       "    <tr>\n",
       "      <th>Furniture</th>\n",
       "      <th>Bed</th>\n",
       "      <td>115.00</td>\n",
       "    </tr>\n",
       "  </tbody>\n",
       "</table>\n",
       "</div>"
      ],
      "text/plain": [
       "                                   PROFIT\n",
       "DATE       CATEGORY  SUB_CATEGORY        \n",
       "2022-02-04 Cloth     Hoodie         10.00\n",
       "           Furniture Table          20.00\n",
       "2022-02-03 Cloth     Hoodie         10.00\n",
       "                     Tshirt          3.00\n",
       "           Furniture Table          40.00\n",
       "2022-02-02 Cloth     Hoodie         10.00\n",
       "                     Tshirt          7.00\n",
       "           Furniture Table          40.00\n",
       "2022-02-01 Cloth     Tshirt         11.00\n",
       "           Furniture Bed            23.00\n",
       "                     Table          60.00\n",
       "2022-01-31 Cloth     Tshirt          8.00\n",
       "           Furniture Bed           115.00"
      ]
     },
     "execution_count": 28,
     "metadata": {},
     "output_type": "execute_result"
    }
   ],
   "source": [
    "%%time\n",
    "\n",
    "cube.query(m[\"PROFIT\"], levels=[l[\"DATE\"], l[\"SUB_CATEGORY\"]])"
   ]
  },
  {
   "cell_type": "markdown",
   "id": "c260f204-8f69-4f99-aefa-3e881c29e4bc",
   "metadata": {},
   "source": [
    "Before we are done with this example, let's create another aggregate provider with a _slice_ of data using `filter`.  \n",
    "\n",
    "Let's first capture the timing of the query without the aggregate provider."
   ]
  },
  {
   "cell_type": "code",
   "execution_count": 29,
   "id": "fe342fd4-1c7f-4995-833d-f3cac15d2aa4",
   "metadata": {},
   "outputs": [
    {
     "name": "stdout",
     "output_type": "stream",
     "text": [
      "CPU times: user 17.6 ms, sys: 4.57 ms, total: 22.2 ms\n",
      "Wall time: 1.76 s\n"
     ]
    },
    {
     "data": {
      "application/vnd.atoti.convert-mdx-query-result-to-widget.v0+json": {
       "mdx": "SELECT {[Measures].[PROFIT]} ON COLUMNS, NON EMPTY Crossjoin(Hierarchize(Descendants({[Atoti Sales].[DATE].[ALL].[AllMember]}, 1, SELF_AND_BEFORE)), Hierarchize(Descendants({[Atoti Product].[CATEGORY].[ALL].[AllMember]}, 2, SELF_AND_BEFORE))) DIMENSION PROPERTIES CHILDREN_CARDINALITY ON ROWS FROM (SELECT [Atoti Sales].[DATE].[ALL].[AllMember].[2022-02-04] ON COLUMNS FROM [Atoti Sales])",
       "sessionId": "1740056741_719409",
       "widgetCreationCode": "session.widget"
      },
      "text/html": [
       "<div>\n",
       "<style scoped>\n",
       "    .dataframe tbody tr th:only-of-type {\n",
       "        vertical-align: middle;\n",
       "    }\n",
       "\n",
       "    .dataframe tbody tr th {\n",
       "        vertical-align: top;\n",
       "    }\n",
       "\n",
       "    .dataframe thead th {\n",
       "        text-align: right;\n",
       "    }\n",
       "</style>\n",
       "<table border=\"1\" class=\"dataframe\">\n",
       "  <thead>\n",
       "    <tr style=\"text-align: right;\">\n",
       "      <th></th>\n",
       "      <th></th>\n",
       "      <th></th>\n",
       "      <th>PROFIT</th>\n",
       "    </tr>\n",
       "    <tr>\n",
       "      <th>DATE</th>\n",
       "      <th>CATEGORY</th>\n",
       "      <th>SUB_CATEGORY</th>\n",
       "      <th></th>\n",
       "    </tr>\n",
       "  </thead>\n",
       "  <tbody>\n",
       "    <tr>\n",
       "      <th rowspan=\"2\" valign=\"top\">2022-02-04</th>\n",
       "      <th>Cloth</th>\n",
       "      <th>Hoodie</th>\n",
       "      <td>10.00</td>\n",
       "    </tr>\n",
       "    <tr>\n",
       "      <th>Furniture</th>\n",
       "      <th>Table</th>\n",
       "      <td>20.00</td>\n",
       "    </tr>\n",
       "  </tbody>\n",
       "</table>\n",
       "</div>"
      ],
      "text/plain": [
       "                                  PROFIT\n",
       "DATE       CATEGORY  SUB_CATEGORY       \n",
       "2022-02-04 Cloth     Hoodie        10.00\n",
       "           Furniture Table         20.00"
      ]
     },
     "execution_count": 29,
     "metadata": {},
     "output_type": "execute_result"
    }
   ],
   "source": [
    "%%time\n",
    "\n",
    "cube.query(\n",
    "    m[\"PROFIT\"],\n",
    "    levels=[l[\"DATE\"], l[\"CATEGORY\"], l[\"SUB_CATEGORY\"]],\n",
    "    filter=(l[\"DATE\"] == \"2022-02-04\"),\n",
    ")"
   ]
  },
  {
   "cell_type": "code",
   "execution_count": 30,
   "id": "b240a857-71f6-4344-8967-570013c0ac98",
   "metadata": {
    "tags": []
   },
   "outputs": [],
   "source": [
    "from datetime import date\n",
    "\n",
    "current_date = date(2022, 2, 4)"
   ]
  },
  {
   "cell_type": "markdown",
   "id": "9526ed6a-2c74-4ab5-935e-51899123340c",
   "metadata": {},
   "source": [
    "In the event where users are interested in a particular member of level, e.g. the current date or a particular shop, and the amount of querying on this member is huge, then it makes sense to cache them in memory.  \n",
    "\n",
    "In this case, we apply filter just for the interested member. This helps to control the amount of data held in memory."
   ]
  },
  {
   "cell_type": "code",
   "execution_count": 31,
   "id": "17ae6441-66db-4038-bfee-28df3b2c576e",
   "metadata": {},
   "outputs": [],
   "source": [
    "cube.aggregate_providers.update(\n",
    "    {\n",
    "        \"Category provider\": tt.AggregateProvider(\n",
    "            key=\"bitmap\",\n",
    "            levels=[l[\"DATE\"], l[\"CATEGORY\"], l[\"SUB_CATEGORY\"]],\n",
    "            measures=[m[\"QUANTITY.SUM\"], m[\"PURCHASE_PRICE.SUM\"], m[\"UNIT_PRICE.SUM\"]],\n",
    "            filter=(l[\"DATE\"] == current_date),\n",
    "        )\n",
    "    }\n",
    ")"
   ]
  },
  {
   "cell_type": "code",
   "execution_count": 32,
   "id": "adc253db-cebe-49a2-a8ae-2f9630d5338d",
   "metadata": {
    "tags": []
   },
   "outputs": [
    {
     "name": "stdout",
     "output_type": "stream",
     "text": [
      "CPU times: user 12.1 ms, sys: 2.75 ms, total: 14.9 ms\n",
      "Wall time: 1.5 s\n"
     ]
    },
    {
     "data": {
      "application/vnd.atoti.convert-mdx-query-result-to-widget.v0+json": {
       "mdx": "SELECT {[Measures].[PROFIT]} ON COLUMNS, NON EMPTY Crossjoin(Hierarchize(Descendants({[Atoti Sales].[DATE].[ALL].[AllMember]}, 1, SELF_AND_BEFORE)), Hierarchize(Descendants({[Atoti Product].[CATEGORY].[ALL].[AllMember]}, 2, SELF_AND_BEFORE))) DIMENSION PROPERTIES CHILDREN_CARDINALITY ON ROWS FROM (SELECT [Atoti Sales].[DATE].[ALL].[AllMember].[2022-02-04] ON COLUMNS FROM [Atoti Sales])",
       "sessionId": "1740056741_719409",
       "widgetCreationCode": "session.widget"
      },
      "text/html": [
       "<div>\n",
       "<style scoped>\n",
       "    .dataframe tbody tr th:only-of-type {\n",
       "        vertical-align: middle;\n",
       "    }\n",
       "\n",
       "    .dataframe tbody tr th {\n",
       "        vertical-align: top;\n",
       "    }\n",
       "\n",
       "    .dataframe thead th {\n",
       "        text-align: right;\n",
       "    }\n",
       "</style>\n",
       "<table border=\"1\" class=\"dataframe\">\n",
       "  <thead>\n",
       "    <tr style=\"text-align: right;\">\n",
       "      <th></th>\n",
       "      <th></th>\n",
       "      <th></th>\n",
       "      <th>PROFIT</th>\n",
       "    </tr>\n",
       "    <tr>\n",
       "      <th>DATE</th>\n",
       "      <th>CATEGORY</th>\n",
       "      <th>SUB_CATEGORY</th>\n",
       "      <th></th>\n",
       "    </tr>\n",
       "  </thead>\n",
       "  <tbody>\n",
       "    <tr>\n",
       "      <th rowspan=\"2\" valign=\"top\">2022-02-04</th>\n",
       "      <th>Cloth</th>\n",
       "      <th>Hoodie</th>\n",
       "      <td>10.00</td>\n",
       "    </tr>\n",
       "    <tr>\n",
       "      <th>Furniture</th>\n",
       "      <th>Table</th>\n",
       "      <td>20.00</td>\n",
       "    </tr>\n",
       "  </tbody>\n",
       "</table>\n",
       "</div>"
      ],
      "text/plain": [
       "                                  PROFIT\n",
       "DATE       CATEGORY  SUB_CATEGORY       \n",
       "2022-02-04 Cloth     Hoodie        10.00\n",
       "           Furniture Table         20.00"
      ]
     },
     "execution_count": 32,
     "metadata": {},
     "output_type": "execute_result"
    }
   ],
   "source": [
    "%%time\n",
    "\n",
    "cube.query(\n",
    "    m[\"PROFIT\"],\n",
    "    levels=[l[\"DATE\"], l[\"CATEGORY\"], l[\"SUB_CATEGORY\"]],\n",
    "    filter=(l[\"DATE\"] == \"2022-02-04\"),\n",
    ")"
   ]
  },
  {
   "cell_type": "markdown",
   "id": "4b392590-0e19-4d03-84db-853028977e8b",
   "metadata": {},
   "source": [
    "## Balance between Cost and Performance"
   ]
  },
  {
   "cell_type": "markdown",
   "id": "1f44c57a-00ad-44eb-9195-ed0b0a808a62",
   "metadata": {},
   "source": [
    "All in all, Atoti's DirectQuery offers users a way to balance between cost and performance:\n",
    "\n",
    "* For data that is less queried, it resides on the cloud database and gets queried on-demand.\n",
    "* For data that is more frequently queried, we can cache it in memory and reduce the number of queries to the cloud database, thereby improving performance.  \n",
    "\n",
    "<img src=\"https://data.atoti.io/notebooks/direct-query/img/aggregate_cache.png\" />  \n",
    "\n",
    "💡 **Note:** To find out more, reach out to [ActiveViam](https://activeviam.com/contact-us/?utm_source=github&utm_medium=atoti) for a demonstration."
   ]
  },
  {
   "cell_type": "markdown",
   "id": "455e3f95-0a8c-48bf-b793-69d5fe2f2083",
   "metadata": {},
   "source": [
    "<div style=\"text-align: center;\" ><a href=\"https://www.atoti.io/?utm_source=gallery&utm_content=directquery-intro\" target=\"_blank\" rel=\"noopener noreferrer\"><img src=\"https://data.atoti.io/notebooks/banners/Your-turn-to-try-Atoti.jpg\" alt=\"Try Atoti\"></a></div>"
   ]
  }
 ],
 "metadata": {
  "kernelspec": {
   "display_name": "Python 3 (ipykernel)",
   "language": "python",
   "name": "python3"
  },
  "language_info": {
   "codemirror_mode": {
    "name": "ipython",
    "version": 3
   },
   "file_extension": ".py",
   "mimetype": "text/x-python",
   "name": "python",
   "nbconvert_exporter": "python",
   "pygments_lexer": "ipython3",
   "version": "3.11.10"
  },
  "widgets": {
   "application/vnd.jupyter.widget-state+json": {
    "state": {},
    "version_major": 2,
    "version_minor": 0
   }
  }
 },
 "nbformat": 4,
 "nbformat_minor": 5
}
