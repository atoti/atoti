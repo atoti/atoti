{
 "cells": [
  {
   "cell_type": "markdown",
   "id": "f27fa800-27ab-45bb-9257-5d4ff35afb35",
   "metadata": {},
   "source": [
    "# Previously..."
   ]
  },
  {
   "cell_type": "code",
   "execution_count": 1,
   "id": "46646bac-63e7-4298-8f3b-c4ee66d74be6",
   "metadata": {
    "tags": []
   },
   "outputs": [],
   "source": [
    "import atoti as tt\n",
    "from utils import setup"
   ]
  },
  {
   "cell_type": "code",
   "execution_count": 2,
   "id": "66f816ef-c454-4eeb-b20c-fce52bd6e85a",
   "metadata": {
    "tags": []
   },
   "outputs": [],
   "source": [
    "# instantiating our instance and creating the Atoti cube with our data\n",
    "session, cube = setup.create_app(ses_name=\"training3\", port=9093)\n",
    "setup.nb2_measures(cube)\n",
    "setup.nb3_measures(cube)\n",
    "# aliasing cube properties\n",
    "h, l, m = cube.hierarchies, cube.levels, cube.measures"
   ]
  },
  {
   "cell_type": "markdown",
   "id": "2146792c-0057-44a1-b853-fd7bf2682ee5",
   "metadata": {},
   "source": [
    "# Structuring the story"
   ]
  },
  {
   "cell_type": "markdown",
   "id": "9deb1121-239a-4a4e-8c92-52074656fdb3",
   "metadata": {},
   "source": [
    "This is where we put together everything we have learned to create our story.  \n",
    "\n",
    "Let's do a quick recap of what we've done so far:  \n",
    "- \"Who\" and \"What\" defined our audiences and set the premise of our story based on their needs and interests.  \n",
    "- \"When\" and \"Where\" set the context in terms of time periods and filter our queries to focus on relevant data points. \n",
    "- \"How\" helped decisions concerning the story's presentation with different data visualization tools.  \n",
    "\n",
    "In this section, we are going to structure our story and use the \"Why\" question to help us keep the story trim and relevant.\n",
    "\n",
    "Let's work to create a story around the below objective:  \n",
    "\n",
    "> Our retailer wants to reduce costs and increase profit. \n",
    "\n",
    "We try to use the following points to help us structure our story:\n",
    "- [1. Introduction: Provide a sense of what the data is about](#1.-Introduction:-Provide-a-sense-of-what-the-data-is-about)  \n",
    "- [2. Characters: People/Entities that drive the story forward](#2.-Characters:-People/Entities-that-drive-the-story-forward)  \n",
    "- [3. The Plot: Providing insights that drive decisions](#3.-The-Plot:-Providing-insights-that-drive-decisions)  \n",
    "- [4. Conflict: Handle anomalies detected in data](#4.-Conflict:-Handle-anomalies-detected-in-data)\n",
    "- [5. Conclusion: Predict what our audience will ask next](#5.-Conclusion:-Predict-what-our-audience-will-ask-next)"
   ]
  },
  {
   "cell_type": "markdown",
   "id": "00db003d-6bb8-4fc4-a81f-2f39967b46a1",
   "metadata": {},
   "source": [
    "<div style=\"text-align: center;\" ><a href=\"https://www.atoti.io/?utm_source=gallery&utm_content=03-storytelling\" target=\"_blank\" rel=\"noopener noreferrer\"><img src=\"https://data.atoti.io/notebooks/banners/Discover-Atoti-now.png\" alt=\"Try atoti\"></a></div>"
   ]
  },
  {
   "cell_type": "markdown",
   "id": "8e2b5a0f-b57c-4188-abee-8f4633bf56e9",
   "metadata": {},
   "source": [
    "## 1. Introduction: Provide a sense of what the data is about  \n",
    "\n",
    "Most often our audience will walk themselves through our reports and discover insight on their own.  They won't have the benefit of having a live presentation of the findings. With this in mind, we can make use of the dashboard title, page, and widget labels to give them an idea of what they are looking at. Labeling and signposting data is an often overlooked part of report preparation and data treatment.\n",
    "\n",
    "In this example, our audience will know that they can get the breakdown of the profit based on the title \"Profit breakdown\".  "
   ]
  },
  {
   "cell_type": "code",
   "execution_count": 3,
   "id": "264d5645-4d72-493e-801a-c8b37738c98c",
   "metadata": {
    "atoti": {
     "height": 404,
     "widget": {
      "mapping": {
       "columns": [
        "ALL_MEASURES",
        "[Orders].[OrderDate].[OrderDate]"
       ],
       "measures": [
        "[Measures].[Profit]"
       ],
       "rows": [
        "[Customers].[Region].[Region]",
        "[Customers].[Subregion].[Subregion] => [Products].[Products].[ProductCategory]"
       ]
      },
      "name": "Profit breakdown",
      "query": {
       "mdx": "SELECT NON EMPTY Crossjoin({[Measures].[Profit]}, Hierarchize(Descendants({[Orders].[OrderDate].[AllMember]}, 1, SELF_AND_BEFORE))) ON COLUMNS, NON EMPTY Hierarchize(Crossjoin(Hierarchize(Descendants({[Customers].[Region].[AllMember]}, 1, SELF_AND_BEFORE)), Hierarchize(Descendants({[Customers].[Subregion].[AllMember]}, 1, SELF_AND_BEFORE)))) ON ROWS FROM [Order Cube] CELL PROPERTIES VALUE, FORMATTED_VALUE, BACK_COLOR, FORE_COLOR, FONT_FLAGS"
      },
      "serverKey": "default",
      "widgetKey": "pivot-table"
     }
    },
    "tags": []
   },
   "outputs": [
    {
     "data": {
      "application/vnd.atoti.widget.v0+json": {
       "sessionId": "1715026545_FPZ43P",
       "sessionLocation": {
        "https": false,
        "port": 9093
       },
       "widgetCreationCode": "session.widget"
      },
      "text/html": [
       "<img height=\"0\" width=\"0\" src=\"data:,AAAAAAAAAAAAAAAAAAAAAAAAAAAAAAAAAAAAAAAAAAAAAAAACXBIWXMAABqTAAAakwH55E62\" />"
      ],
      "text/plain": [
       "Open the notebook in JupyterLab with the Atoti JupyterLab extension enabled to build this widget."
      ]
     },
     "metadata": {},
     "output_type": "display_data"
    }
   ],
   "source": [
    "session.widget"
   ]
  },
  {
   "cell_type": "markdown",
   "id": "5e753473-3eac-4896-b298-101f576465c8",
   "metadata": {},
   "source": [
    "Click on the below link to open the \"Global Sales Analysis\" dashboard.  "
   ]
  },
  {
   "cell_type": "code",
   "execution_count": 4,
   "id": "dc55ae93-37d8-46cd-afb4-1e254838d40b",
   "metadata": {
    "tags": []
   },
   "outputs": [
    {
     "data": {
      "application/vnd.atoti.link.v0+json": {
       "path": "#/dashboard/710",
       "sessionLocation": {
        "https": false,
        "port": 9093
       }
      },
      "text/markdown": [
       "http://localhost:9093/#/dashboard/710\n",
       "\n",
       "_Note_: This is the session's local URL: it may not be reachable if Atoti is running on another machine."
      ],
      "text/plain": [
       "http://localhost:9093/#/dashboard/710 (This is the session's local URL: it may not be reachable if Atoti is running on another machine.)"
      ]
     },
     "execution_count": 4,
     "metadata": {},
     "output_type": "execute_result"
    }
   ],
   "source": [
    "session.link / \"#/dashboard/710\""
   ]
  },
  {
   "cell_type": "markdown",
   "id": "04559190-92ee-418c-bb5d-1be552c73065",
   "metadata": {},
   "source": [
    "The dashboard title shows that the story is about global sales analysis and the page itself is showing a summary of the sales.   \n",
    "\n",
    "<img src=\"https://data.atoti.io/atoti-academy/images/storytelling-with-atoti/3_1_1_dashboard_labels.gif\" width=\"1000px\" />  "
   ]
  },
  {
   "cell_type": "markdown",
   "id": "471b9cb6-bda8-49f5-b13d-a4ac558bafe4",
   "metadata": {},
   "source": [
    "We have used three ways to introduce the data to our audience.\n",
    "\n",
    "1. The dashboard has a clear title: `Global Sales Analysis`.\n",
    "2. The page has a label: `Sales summary`.\n",
    "3. A filter widget has been added to the page so that our audience can identify the data that concerns a particular region."
   ]
  },
  {
   "cell_type": "markdown",
   "id": "a8470f78-7812-41be-982a-348371a695c0",
   "metadata": {},
   "source": [
    "## 2. Characters: People/Entities that drive the story forward  "
   ]
  },
  {
   "cell_type": "markdown",
   "id": "f226cf68-dda9-40a6-808e-c0c87daf0b44",
   "metadata": {},
   "source": [
    "In our context, we can identify some of these \"characters\" that can affect our decisions:  \n",
    "\n",
    "* **Products**: Which products do we currently list and sell?\n",
    "* **Shippers**: Which shipper is the most used? Which shipper is the cheapest or most expensive?   \n",
    "* **Customers**: Where are the customers located? How frequent do they make a purchase?  \n",
    "\n",
    "Once we identify our \"characters\", we can craft our stories around them. We can neatly group analytics on the same \"character\" within a page. For instance, we can create a page that displays data about shipping companies only, and another that has a main focus on customers."
   ]
  },
  {
   "cell_type": "code",
   "execution_count": 5,
   "id": "03604a44-2de6-44f3-a5e4-ac655020ccd2",
   "metadata": {
    "atoti": {
     "height": 246,
     "widget": {
      "columnWidths": {
       "[Shippers].[Interval].[Interval]": 182
      },
      "mapping": {
       "columns": [
        "ALL_MEASURES",
        "[Orders].[ShipperName].[ShipperName]"
       ],
       "measures": [
        "[Measures].[ShipperRate]"
       ],
       "rows": [
        "[Shippers].[Interval].[Interval]"
       ]
      },
      "name": "Shipper rates",
      "query": {
       "mdx": "SELECT NON EMPTY Crossjoin({[Measures].[ShipperRate]}, Hierarchize(Descendants({[Orders].[ShipperName].[AllMember]}, 1, SELF_AND_BEFORE))) ON COLUMNS, NON EMPTY Hierarchize(Descendants({[Shippers].[Interval].[AllMember]}, 1, SELF_AND_BEFORE)) ON ROWS FROM [Order Cube] CELL PROPERTIES VALUE, FORMATTED_VALUE, BACK_COLOR, FORE_COLOR, FONT_FLAGS",
       "updateMode": "once"
      },
      "serverKey": "default",
      "widgetKey": "pivot-table"
     }
    },
    "tags": []
   },
   "outputs": [
    {
     "data": {
      "application/vnd.atoti.widget.v0+json": {
       "sessionId": "1715026545_FPZ43P",
       "sessionLocation": {
        "https": false,
        "port": 9093
       },
       "widgetCreationCode": "session.widget"
      },
      "text/html": [
       "<img height=\"0\" width=\"0\" src=\"data:,AAAAAAAAAAAAAAAAAAAAAAAAAAAAAAAAAAAAAAAAAAAAAAAACXBIWXMAABqTAAAakwH55E62\" />"
      ],
      "text/plain": [
       "Open the notebook in JupyterLab with the Atoti JupyterLab extension enabled to build this widget."
      ]
     },
     "metadata": {},
     "output_type": "display_data"
    }
   ],
   "source": [
    "session.widget"
   ]
  },
  {
   "cell_type": "code",
   "execution_count": 6,
   "id": "eecf8d77-de46-4eb3-af4b-0536e5293d8e",
   "metadata": {
    "atoti": {
     "widget": {
      "columnWidths": {
       "[Shippers].[Interval].[Interval]": 191
      },
      "mapping": {
       "columnValues": [
        "[Measures].[TransportCost]"
       ],
       "horizontalSubplots": [
        "[Shippers].[Interval].[Interval]"
       ],
       "lineValues": [
        "[Measures].[TransportOrdersCount]"
       ],
       "verticalSubplots": [],
       "xAxis": [
        "[Orders].[ShipperName].[ShipperName]"
       ]
      },
      "name": "Transport costs by shipper based on intervals",
      "query": {
       "mdx": "SELECT NON EMPTY Crossjoin({[Measures].[TransportCost], [Measures].[TransportOrdersCount]}, Hierarchize(Descendants({[Shippers].[Interval].[AllMember]}, 1, SELF_AND_BEFORE))) ON COLUMNS, NON EMPTY Order(Hierarchize(Descendants({[Orders].[ShipperName].[AllMember]}, 1, SELF_AND_BEFORE)), [Measures].[TransportCost], BDESC) ON ROWS FROM [Order Cube] CELL PROPERTIES VALUE, FORMATTED_VALUE, BACK_COLOR, FORE_COLOR, FONT_FLAGS",
       "updateMode": "once"
      },
      "serverKey": "default",
      "style": {
       "areAxisTitlesVisible": false
      },
      "widgetKey": "plotly-columns-and-lines-chart"
     }
    },
    "tags": []
   },
   "outputs": [
    {
     "data": {
      "application/vnd.atoti.widget.v0+json": {
       "sessionId": "1715026545_FPZ43P",
       "sessionLocation": {
        "https": false,
        "port": 9093
       },
       "widgetCreationCode": "session.widget"
      },
      "text/html": [
       "<img height=\"0\" width=\"0\" src=\"data:,AAAAAAAAAAAAAAAAAAAAAAAAAAAAAAAAAAAAAAAAAAAAAAAACXBIWXMAABqTAAAakwH55E62\" />"
      ],
      "text/plain": [
       "Open the notebook in JupyterLab with the Atoti JupyterLab extension enabled to build this widget."
      ]
     },
     "metadata": {},
     "output_type": "display_data"
    }
   ],
   "source": [
    "session.widget"
   ]
  },
  {
   "cell_type": "markdown",
   "id": "249ebb48-655c-4fee-8c84-abc7d0fc790b",
   "metadata": {},
   "source": [
    "## 3. The Plot: Providing insights that drive decisions  "
   ]
  },
  {
   "cell_type": "markdown",
   "id": "e7d8713c-cb8c-41ff-b1eb-7bb4b83e671d",
   "metadata": {},
   "source": [
    "### 3.1 Trimming plot with questions\n",
    "\n",
    "Often, we go with our experience and sometimes our intuition when we put together a dashboard. But are they always relevant or placed in the correct segments?  \n",
    "\n",
    "This is where we go back to our initial questioning to justify why we keep, discard or modify our visualizations. \n",
    "That's to say: \n",
    "\n",
    "* Why does our audience need this data?\n",
    "* What benefit will our audience draw from this data? \n",
    "* How will this data help our audience find solutions to their business problems?\n",
    "* Does our audience have all the data they need to make informed decisions? \n",
    "\n",
    "More precise questions will help assess the utility of a page layout, or the inclusion of a data visualization, or even the way the data is presented.\n",
    "For instance, we can ask the following questions:  \n",
    "\n",
    "* What will our audience do with the comparison between `TransportCost` and `TransportOrdersCount`? \n",
    "* Why is it important for our audience to see the Shipping rate table on this page/dashboard?  \n",
    "* How does it help them to see data displayed by intervals instead of actual quantities? \n",
    "\n",
    "Drop, modify, or reposition the visualization as necessary.   "
   ]
  },
  {
   "cell_type": "markdown",
   "id": "9cbceef9-1762-4c83-a8d7-c3eeac7e0f1c",
   "metadata": {},
   "source": [
    "### 3.2 Simulating the possibilities  \n",
    "\n",
    "> With hindsight we are all experts.\n",
    "\n",
    "A simulation based on our real and actual data can be used to make informed decisions.\n",
    "Let's imagine our audience is wondering how to save money, and wondering whether switching from one shipping company to another would actually generate real savings, or just extra paperwork and hassle for everyone.\n",
    "\n",
    "To provide useful and insightful data, we will simulate the switching of the shipper \"Speedy Express\" to \"Rapid Post\" and see the amount of savings that we can potentially have by doing so.  We start by extracting the orders that were using \"Speedy Express\" and updating their `ShipperName` to \"Rapid Post\" **outside of Atoti**.  "
   ]
  },
  {
   "cell_type": "code",
   "execution_count": 7,
   "id": "ad93e31f-fce7-498d-a098-67c5d9b134d6",
   "metadata": {
    "tags": []
   },
   "outputs": [
    {
     "data": {
      "text/html": [
       "<div>\n",
       "<style scoped>\n",
       "    .dataframe tbody tr th:only-of-type {\n",
       "        vertical-align: middle;\n",
       "    }\n",
       "\n",
       "    .dataframe tbody tr th {\n",
       "        vertical-align: top;\n",
       "    }\n",
       "\n",
       "    .dataframe thead th {\n",
       "        text-align: right;\n",
       "    }\n",
       "</style>\n",
       "<table border=\"1\" class=\"dataframe\">\n",
       "  <thead>\n",
       "    <tr style=\"text-align: right;\">\n",
       "      <th></th>\n",
       "      <th>OrderId</th>\n",
       "      <th>ProductId</th>\n",
       "      <th>OrderDate</th>\n",
       "      <th>EmployeeId</th>\n",
       "      <th>CustomerId</th>\n",
       "      <th>QuantitySold</th>\n",
       "      <th>SellingPricePerUnit</th>\n",
       "      <th>ShipperName</th>\n",
       "    </tr>\n",
       "  </thead>\n",
       "  <tbody>\n",
       "    <tr>\n",
       "      <th>0</th>\n",
       "      <td>105</td>\n",
       "      <td>1462</td>\n",
       "      <td>2019-02-17</td>\n",
       "      <td>18680</td>\n",
       "      <td>c5419</td>\n",
       "      <td>293</td>\n",
       "      <td>35.15</td>\n",
       "      <td>Rapid Post</td>\n",
       "    </tr>\n",
       "    <tr>\n",
       "      <th>1</th>\n",
       "      <td>11</td>\n",
       "      <td>1176</td>\n",
       "      <td>2019-02-18</td>\n",
       "      <td>18680</td>\n",
       "      <td>c4859</td>\n",
       "      <td>551</td>\n",
       "      <td>8.91</td>\n",
       "      <td>Rapid Post</td>\n",
       "    </tr>\n",
       "    <tr>\n",
       "      <th>2</th>\n",
       "      <td>122</td>\n",
       "      <td>1124</td>\n",
       "      <td>2019-02-17</td>\n",
       "      <td>26584</td>\n",
       "      <td>c3515</td>\n",
       "      <td>849</td>\n",
       "      <td>13.43</td>\n",
       "      <td>Rapid Post</td>\n",
       "    </tr>\n",
       "    <tr>\n",
       "      <th>3</th>\n",
       "      <td>136</td>\n",
       "      <td>708</td>\n",
       "      <td>2019-02-17</td>\n",
       "      <td>18680</td>\n",
       "      <td>c1835</td>\n",
       "      <td>893</td>\n",
       "      <td>18.46</td>\n",
       "      <td>Rapid Post</td>\n",
       "    </tr>\n",
       "    <tr>\n",
       "      <th>4</th>\n",
       "      <td>139</td>\n",
       "      <td>1163</td>\n",
       "      <td>2019-02-17</td>\n",
       "      <td>18637</td>\n",
       "      <td>c5531</td>\n",
       "      <td>714</td>\n",
       "      <td>8.22</td>\n",
       "      <td>Rapid Post</td>\n",
       "    </tr>\n",
       "  </tbody>\n",
       "</table>\n",
       "</div>"
      ],
      "text/plain": [
       "  OrderId ProductId  OrderDate EmployeeId CustomerId  QuantitySold  \\\n",
       "0     105      1462 2019-02-17      18680      c5419           293   \n",
       "1      11      1176 2019-02-18      18680      c4859           551   \n",
       "2     122      1124 2019-02-17      26584      c3515           849   \n",
       "3     136       708 2019-02-17      18680      c1835           893   \n",
       "4     139      1163 2019-02-17      18637      c5531           714   \n",
       "\n",
       "   SellingPricePerUnit ShipperName  \n",
       "0                35.15  Rapid Post  \n",
       "1                 8.91  Rapid Post  \n",
       "2                13.43  Rapid Post  \n",
       "3                18.46  Rapid Post  \n",
       "4                 8.22  Rapid Post  "
      ]
     },
     "execution_count": 7,
     "metadata": {},
     "output_type": "execute_result"
    }
   ],
   "source": [
    "orders_tbl = session.tables[\"Orders\"]\n",
    "\n",
    "shipper_df = (\n",
    "    cube.query(\n",
    "        m[\"QuantitySold.SUM\"],\n",
    "        m[\"SellingPricePerUnit\"],\n",
    "        levels=[\n",
    "            l[\"OrderId\"],\n",
    "            l[\"ProductId\"],\n",
    "            l[\"OrderDate\"],\n",
    "            l[\"EmployeeId\"],\n",
    "            l[\"CustomerId\"],\n",
    "        ],\n",
    "        filter=(l[\"ShipperName\"] == \"Speedy Express\"),\n",
    "    )\n",
    "    .reset_index()\n",
    "    .rename(columns={\"QuantitySold.SUM\": \"QuantitySold\"})\n",
    ")\n",
    "\n",
    "shipper_df[\"ShipperName\"] = \"Rapid Post\"\n",
    "\n",
    "shipper_df.head()"
   ]
  },
  {
   "cell_type": "markdown",
   "id": "fd8a8c45-0bf4-4b1e-962b-c55bfd7882ad",
   "metadata": {},
   "source": [
    "In Atoti, we are able to load the modified dataset into the cube as a scenario. In this case, let's label our scenario as \"Speedy Express > Rapid Post\".  "
   ]
  },
  {
   "cell_type": "code",
   "execution_count": 8,
   "id": "d0f55a91-d983-4025-aabb-13ddd02f12f1",
   "metadata": {
    "tags": []
   },
   "outputs": [],
   "source": [
    "orders_tbl.scenarios[\"Speedy Express > Rapid Post\"].load_pandas(\n",
    "    shipper_df[orders_tbl.columns]\n",
    ")"
   ]
  },
  {
   "cell_type": "markdown",
   "id": "e4553761-819b-422a-9772-a74e82a0e72b",
   "metadata": {},
   "source": [
    "Now, we are able to compare the scenario against the base (initial) and see the amount of savings we can have. And of course, we can present this data in different ways.  Here are three examples:"
   ]
  },
  {
   "cell_type": "code",
   "execution_count": 9,
   "id": "b3234065-1ce8-4cbe-b95e-83329452ecf2",
   "metadata": {
    "atoti": {
     "height": 275,
     "widget": {
      "columnWidths": {
       "[Epoch].[Epoch].[Base],[Measures].[TransportCost],[Shippers].[Interval].[AllMember].[Quantity between 100 and 300]": 187,
       "[Epoch].[Epoch].[Base],[Measures].[TransportCost],[Shippers].[Interval].[AllMember].[Quantity between 300 and 500]": 187,
       "[Epoch].[Epoch].[Base],[Measures].[TransportCost],[Shippers].[Interval].[AllMember].[Quantity between 500 and 700]": 187,
       "[Epoch].[Epoch].[Base],[Measures].[TransportCost],[Shippers].[Interval].[AllMember].[Quantity less than 100]": 142,
       "[Epoch].[Epoch].[Base],[Measures].[TransportCost],[Shippers].[Interval].[AllMember].[Quantity more than 700]": 150,
       "[Epoch].[Epoch].[Branch]": 189,
       "[Epoch].[Epoch].[Speedy Express > Rapid Post],[Measures].[TransportCost],[Shippers].[Interval].[AllMember].[Quantity between 100 and 300]": 187,
       "[Epoch].[Epoch].[Speedy Express > Rapid Post],[Measures].[TransportCost],[Shippers].[Interval].[AllMember].[Quantity between 300 and 500]": 187,
       "[Epoch].[Epoch].[Speedy Express > Rapid Post],[Measures].[TransportCost],[Shippers].[Interval].[AllMember].[Quantity between 500 and 700]": 187,
       "[Epoch].[Epoch].[Speedy Express > Rapid Post],[Measures].[TransportCost],[Shippers].[Interval].[AllMember].[Quantity less than 100]": 176,
       "[Epoch].[Epoch].[Speedy Express > Rapid Post],[Measures].[TransportCost],[Shippers].[Interval].[AllMember].[Quantity more than 700]": 150,
       "[Orders].[OrderDate].[OrderDate]": 80,
       "[Shippers].[Interval].[Interval]": 182
      },
      "mapping": {
       "horizontalSubplots": [
        "[Shippers].[Interval].[Interval]"
       ],
       "splitBy": [
        "[Epoch].[Epoch].[Branch]",
        "ALL_MEASURES"
       ],
       "values": [
        "[Measures].[TransportCost]"
       ],
       "verticalSubplots": [],
       "xAxis": [
        "[Orders].[OrderDate].[OrderDate]"
       ]
      },
      "name": "Cost saving switching from Speedy Express to Rapid Post",
      "query": {
       "mdx": "SELECT NON EMPTY Order(Hierarchize(Descendants({[Orders].[OrderDate].[AllMember]}, 1, SELF_AND_BEFORE)), [Measures].[TransportCost], DESC) ON ROWS, NON EMPTY Crossjoin([Epoch].[Epoch].[Branch].Members, {[Measures].[TransportCost]}, Hierarchize(Descendants({[Shippers].[Interval].[AllMember]}, 1, SELF_AND_BEFORE))) ON COLUMNS FROM [Order Cube] CELL PROPERTIES VALUE, FORMATTED_VALUE, BACK_COLOR, FORE_COLOR, FONT_FLAGS",
       "updateMode": "once"
      },
      "serverKey": "default",
      "widgetKey": "plotly-clustered-column-chart"
     }
    },
    "tags": []
   },
   "outputs": [
    {
     "data": {
      "application/vnd.atoti.widget.v0+json": {
       "sessionId": "1715026545_FPZ43P",
       "sessionLocation": {
        "https": false,
        "port": 9093
       },
       "widgetCreationCode": "session.widget"
      },
      "text/html": [
       "<img height=\"0\" width=\"0\" src=\"data:,AAAAAAAAAAAAAAAAAAAAAAAAAAAAAAAAAAAAAAAAAAAAAAAACXBIWXMAABqTAAAakwH55E62\" />"
      ],
      "text/plain": [
       "Open the notebook in JupyterLab with the Atoti JupyterLab extension enabled to build this widget."
      ]
     },
     "metadata": {},
     "output_type": "display_data"
    }
   ],
   "source": [
    "session.widget"
   ]
  },
  {
   "cell_type": "code",
   "execution_count": 10,
   "id": "1e010be5-d211-411e-9217-3f40db9847f2",
   "metadata": {
    "atoti": {
     "height": 238,
     "widget": {
      "columnWidths": {
       "[Epoch].[Epoch].[Speedy Express > Rapid Post]": 176,
       "[Measures].[TransportCostSaving],[Epoch].[Epoch].[Base]": 138,
       "[Measures].[TransportCost]": 97,
       "[Measures].[TransportCost],[Epoch].[Epoch].[Speedy Express > Rapid Post]": 182,
       "[Orders].[OrderDate].[OrderDate]": 80
      },
      "mapping": {
       "columns": [
        "ALL_MEASURES",
        "[Epoch].[Epoch].[Branch]"
       ],
       "measures": [
        "[Measures].[TransportCost]",
        "[Measures].[TransportCostSaving]"
       ],
       "rows": [
        "[Orders].[OrderDate].[OrderDate]"
       ]
      },
      "name": "Cost saving by switch from Speedy Express to Rapid Post",
      "query": {
       "mdx": "WITH  Member [Measures].[TransportCostSaving] AS ([Epoch].[Epoch].[Base], [Measures].[TransportCost]) - ([Epoch].[Epoch].[Speedy Express > Rapid Post], [Measures].[TransportCost]), CAPTION = \"TransportCostSaving\", BACK_COLOR = RGB(115, 232, 255), FORMAT_STRING = \"#,###\"  SELECT NON EMPTY Hierarchize(Descendants({[Orders].[OrderDate].[AllMember]}, 1, SELF_AND_BEFORE)) ON ROWS, NON EMPTY Crossjoin({[Measures].[TransportCost], [Measures].[TransportCostSaving]}, [Epoch].[Epoch].[Branch].Members) ON COLUMNS FROM [Order Cube] CELL PROPERTIES VALUE, FORMATTED_VALUE, BACK_COLOR, FORE_COLOR, FONT_FLAGS",
       "updateMode": "once"
      },
      "serverKey": "default",
      "widgetKey": "pivot-table"
     }
    },
    "tags": []
   },
   "outputs": [
    {
     "data": {
      "application/vnd.atoti.widget.v0+json": {
       "sessionId": "1715026545_FPZ43P",
       "sessionLocation": {
        "https": false,
        "port": 9093
       },
       "widgetCreationCode": "session.widget"
      },
      "text/html": [
       "<img height=\"0\" width=\"0\" src=\"data:,AAAAAAAAAAAAAAAAAAAAAAAAAAAAAAAAAAAAAAAAAAAAAAAACXBIWXMAABqTAAAakwH55E62\" />"
      ],
      "text/plain": [
       "Open the notebook in JupyterLab with the Atoti JupyterLab extension enabled to build this widget."
      ]
     },
     "metadata": {},
     "output_type": "display_data"
    }
   ],
   "source": [
    "session.widget"
   ]
  },
  {
   "cell_type": "code",
   "execution_count": 11,
   "id": "573343eb-35f4-4230-8553-7ed4b10c9266",
   "metadata": {
    "atoti": {
     "height": 155,
     "widget": {
      "columnWidths": {
       "[Measures].[TransportCost],[Epoch].[Epoch].[Speedy Express > Rapid Post]": 176
      },
      "comparison": {
       "comparedMemberNamePath": [
        "Speedy Express > Rapid Post"
       ],
       "dimensionName": "Epoch",
       "hierarchyName": "Epoch",
       "referenceMemberNamePath": [
        "Base"
       ]
      },
      "mapping": {
       "columns": [
        "[Orders].[OrderDate].[OrderDate]"
       ],
       "measures": [
        "[Measures].[TransportCost]"
       ],
       "rows": []
      },
      "name": "Cost saving by switch from Speedy Express to Rapid Post",
      "query": {
       "mdx": "SELECT NON EMPTY Crossjoin(Hierarchize(Descendants({[Orders].[OrderDate].[AllMember]}, 1, SELF_AND_BEFORE)), {[Measures].[TransportCost]}) ON COLUMNS FROM [Order Cube] CELL PROPERTIES VALUE, FORMATTED_VALUE, BACK_COLOR, FORE_COLOR, FONT_FLAGS",
       "updateMode": "once"
      },
      "serverKey": "default",
      "widgetKey": "kpi"
     }
    },
    "tags": []
   },
   "outputs": [
    {
     "data": {
      "application/vnd.atoti.widget.v0+json": {
       "sessionId": "1715026545_FPZ43P",
       "sessionLocation": {
        "https": false,
        "port": 9093
       },
       "widgetCreationCode": "session.widget"
      },
      "text/html": [
       "<img height=\"0\" width=\"0\" src=\"data:,AAAAAAAAAAAAAAAAAAAAAAAAAAAAAAAAAAAAAAAAAAAAAAAACXBIWXMAABqTAAAakwH55E62\" />"
      ],
      "text/plain": [
       "Open the notebook in JupyterLab with the Atoti JupyterLab extension enabled to build this widget."
      ]
     },
     "metadata": {},
     "output_type": "display_data"
    }
   ],
   "source": [
    "session.widget"
   ]
  },
  {
   "cell_type": "markdown",
   "id": "310d631c-0b96-4326-bba4-daeeac427d10",
   "metadata": {},
   "source": [
    "### 📐Exercise  \n",
    "\n",
    "Have a look at the three visualizations above and decide which you would include in a report."
   ]
  },
  {
   "cell_type": "markdown",
   "id": "5193b59e-7d27-4d06-a598-958df694cda1",
   "metadata": {
    "tags": []
   },
   "source": [
    "### 📖 Solution\n",
    "\n",
    "There are no right or wrong answers, but here are some guidelines.\n",
    "\n",
    "* Graphical displays are easier to grasp in a glance compared to data presented in tables. In addition, as we are not going to drill down into the details of the savings, we can probably drop skip the pivot table (visualization 2) and keep the columns chart \"Cost saving switching from Speedy Express to Rapid Post\" (visualization 1) \n",
    "\n",
    "* Visualization 3 shows total savings per day, in a pleasant and easy-to-understand manner. We can keep it to show the actual statistical differences. \n",
    "\n",
    "* Play around with the dashboard, and you can add in more widgets, to see how you can maximize the insights with the minimum widgets.  "
   ]
  },
  {
   "cell_type": "code",
   "execution_count": 12,
   "id": "244acf63-e725-4589-9228-85e379b6cd34",
   "metadata": {
    "tags": []
   },
   "outputs": [
    {
     "data": {
      "application/vnd.atoti.link.v0+json": {
       "path": "#/dashboard/710",
       "sessionLocation": {
        "https": false,
        "port": 9093
       }
      },
      "text/markdown": [
       "http://localhost:9093/#/dashboard/710\n",
       "\n",
       "_Note_: This is the session's local URL: it may not be reachable if Atoti is running on another machine."
      ],
      "text/plain": [
       "http://localhost:9093/#/dashboard/710 (This is the session's local URL: it may not be reachable if Atoti is running on another machine.)"
      ]
     },
     "execution_count": 12,
     "metadata": {},
     "output_type": "execute_result"
    }
   ],
   "source": [
    "session.link / \"#/dashboard/710\""
   ]
  },
  {
   "cell_type": "markdown",
   "id": "4aca8b48-2c30-4e9a-b61a-efac8c823641",
   "metadata": {},
   "source": [
    "## 4. Conflict: Handle anomalies detected in data"
   ]
  },
  {
   "cell_type": "code",
   "execution_count": 13,
   "id": "3f6c896a-c71c-495b-b42e-0d8fda67b5b7",
   "metadata": {
    "atoti": {
     "height": 570,
     "widget": {
      "mapping": {
       "columnValues": [
        "[Measures].[QuantitySold.SUM]"
       ],
       "horizontalSubplots": [],
       "lineValues": [
        "[Measures].[ProfitMargin]"
       ],
       "verticalSubplots": [
        "[Customers].[Region].[Region]"
       ],
       "xAxis": [
        "[Products].[ProductCategory].[ProductCategory]"
       ]
      },
      "name": "Sales and Profit Margin by Product Category",
      "query": {
       "mdx": "SELECT NON EMPTY Order(Hierarchize(Descendants({[Products].[ProductCategory].[AllMember]}, 1, SELF_AND_BEFORE)), [Measures].[QuantitySold.SUM], BDESC) ON ROWS, NON EMPTY Crossjoin(Hierarchize(Descendants({[Customers].[Region].[AllMember]}, 1, SELF_AND_BEFORE)), {[Measures].[QuantitySold.SUM], [Measures].[ProfitMargin]}) ON COLUMNS FROM [Order Cube] CELL PROPERTIES VALUE, FORMATTED_VALUE, BACK_COLOR, FORE_COLOR, FONT_FLAGS",
       "updateMode": "once"
      },
      "serverKey": "default",
      "widgetKey": "plotly-columns-and-lines-chart"
     }
    },
    "tags": []
   },
   "outputs": [
    {
     "data": {
      "application/vnd.atoti.widget.v0+json": {
       "sessionId": "1715026545_FPZ43P",
       "sessionLocation": {
        "https": false,
        "port": 9093
       },
       "widgetCreationCode": "session.widget"
      },
      "text/html": [
       "<img height=\"0\" width=\"0\" src=\"data:,AAAAAAAAAAAAAAAAAAAAAAAAAAAAAAAAAAAAAAAAAAAAAAAACXBIWXMAABqTAAAakwH55E62\" />"
      ],
      "text/plain": [
       "Open the notebook in JupyterLab with the Atoti JupyterLab extension enabled to build this widget."
      ]
     },
     "metadata": {},
     "output_type": "display_data"
    }
   ],
   "source": [
    "session.widget"
   ]
  },
  {
   "cell_type": "markdown",
   "id": "3574f219-90ff-4235-bc85-cbbe025b9413",
   "metadata": {},
   "source": [
    "As the above widget has shown, the `ProfitMargin` for Meat/Poultry is abnormally low for Europe. We will see how we can use a dashboard to investigate anomalies on the spot."
   ]
  },
  {
   "cell_type": "markdown",
   "id": "d640bc76-6406-4c0a-8942-a22ba4ebfb78",
   "metadata": {},
   "source": [
    "The below GIF demonstrates the steps taken to identify pricing differences across different countries:  \n",
    "\n",
    "<img src=\"https://data.atoti.io/atoti-academy/images/storytelling-with-atoti/3_5_1_investigation.gif\" width=\"1000px\" />  "
   ]
  },
  {
   "cell_type": "markdown",
   "id": "eb5eb726-4bea-4175-b3ce-450be05b81bf",
   "metadata": {},
   "source": [
    "The steps are detailed below:  \n",
    "\n",
    "1. Click on the below link to launch the dashboard displayed in the GIF above and navigate to the \"Products\" page."
   ]
  },
  {
   "cell_type": "code",
   "execution_count": 14,
   "id": "6b52c162-3082-41de-8523-9045f71f2789",
   "metadata": {
    "tags": []
   },
   "outputs": [
    {
     "data": {
      "application/vnd.atoti.link.v0+json": {
       "path": "#/dashboard/710",
       "sessionLocation": {
        "https": false,
        "port": 9093
       }
      },
      "text/markdown": [
       "http://localhost:9093/#/dashboard/710\n",
       "\n",
       "_Note_: This is the session's local URL: it may not be reachable if Atoti is running on another machine."
      ],
      "text/plain": [
       "http://localhost:9093/#/dashboard/710 (This is the session's local URL: it may not be reachable if Atoti is running on another machine.)"
      ]
     },
     "execution_count": 14,
     "metadata": {},
     "output_type": "execute_result"
    }
   ],
   "source": [
    "session.link / \"#/dashboard/710\""
   ]
  },
  {
   "cell_type": "markdown",
   "id": "de19f2d7-b2d1-46d4-8b2b-23ab7aae51e9",
   "metadata": {},
   "source": [
    "2. Since we are investigating the data for Europe, select \"Europe\" from the \"Regions\" quick-filter to view data related only to Europe region in the page.  \n",
    "\n",
    "<img src=\"https://data.atoti.io/atoti-academy/images/storytelling-with-atoti/4_3_page_filter.png\" />  \n",
    "\n",
    "3. Under the widget \"Product Sales breakdown\", select \"Meat/Poultry\" from the `ProductCategory` filter. This allows us to focus on the data for the specific category.  \n",
    "\n",
    "<img src=\"https://data.atoti.io/atoti-academy/images/storytelling-with-atoti/4_4_filter_product_cat.png\" />  \n",
    "\n",
    "5. Expand on the ProductCategory in the pivot table if it is not yet expanded. Right-click on the column header of \"%ProfitContribution\" and sort the column in descending order. This allows us to understand which product contributes least to the profit.  \n",
    "\n",
    "<img src=\"https://data.atoti.io/atoti-academy/images/storytelling-with-atoti/4_6_sorting.png\" />  \n",
    "\n",
    "6. Right-click on the \"Profit\" value of the product with the lowest contribution and select \"Drillthrough on \\<product name\\>\"  \n",
    "  \n",
    "<img src=\"https://data.atoti.io/atoti-academy/images/storytelling-with-atoti/4_7_drillthrough.png\" />  \n",
    "\n",
    "7. Use the Content Editor under the Tools panel to select the relevant underlying columns for investigation. In this case, we have selected ProductName, Country along with the purchase price and selling price per unit, and the profit margin.  \n",
    "  \n",
    "<img src=\"https://data.atoti.io/atoti-academy/images/storytelling-with-atoti/4_8_content_editor.png\" width=\"500px\"/>  \n",
    "\n",
    "8. Edit the filter of the Drillthrough widget from the content editor. Select all the Products under the Meat/Poultry category.  \n",
    "  \n",
    "<img src=\"https://data.atoti.io/atoti-academy/images/storytelling-with-atoti/4_9_modify_filter.png\" width=\"500px\"/>  \n",
    "\n",
    "9. Check the purchase and selling price of the products. In general, the prices for _\"Tourtière\"_ is generally lower than other meat. This itself does not explain why the product category has much lower contribution for Europe, in comparison to other regions. However, at least we know that at the order level, the purchase price is the same — i.e. there is no hike in the cost price. The selling price at the order level however fluctuates greatly, with the order on Feb 17th costing 80% more than the order on Feb 15th.  \n",
    "  \n",
    "<img src=\"https://data.atoti.io/atoti-academy/images/storytelling-with-atoti/4_10_check_prices.png\" width=\"75%\"/>  \n",
    "\n",
    "10. Open the Widget panel by pressing W or via the menu \"Insert\" > \"Widgets\". Add a Pivot Table to the page and build the table as shown below. \n",
    "\n",
    "<img src=\"https://data.atoti.io/atoti-academy/images/storytelling-with-atoti/4_11_build_pivot.png\" width=\"75%\"/>  \n",
    "\n",
    "We can see that, in Switzerland and Germany, the profit margin for _\"Tourtière\"_ is much lower than the other European countries. Other meat such as _\"Alice Mutton\"_ and _\"Mishi Kobe Niku\"_ also had similar issue.  "
   ]
  },
  {
   "cell_type": "markdown",
   "id": "968bc268-f8bf-4e38-b092-a1c257bd6d71",
   "metadata": {},
   "source": [
    "To understand the issue further, we might need other supporting data to see if there is a promotional event happening, or other reasons. If proven that it is an anomaly, we should be able to bring up our profit margin by rectifying the price discrepancies. And consequently, we get an increase in our profit! "
   ]
  },
  {
   "cell_type": "markdown",
   "id": "2e86bc6d-9217-40ec-9cad-244f61776772",
   "metadata": {
    "tags": []
   },
   "source": [
    "### 📐Exercise  \n",
    "\n",
    "The below visualization shows the Sales and Profit Margin by Product Category for each region.  \n",
    "\n",
    "The profit Margin for Produce is exceptionally low in Europe compared to the other two regions. Perform an investigation to see if there are any anomalies."
   ]
  },
  {
   "cell_type": "code",
   "execution_count": 15,
   "id": "efc48204-ac45-45df-b3ad-efc92880f121",
   "metadata": {
    "atoti": {
     "height": 522,
     "widget": {
      "mapping": {
       "columnValues": [
        "[Measures].[QuantitySold.SUM]"
       ],
       "horizontalSubplots": [],
       "lineValues": [
        "[Measures].[ProfitMargin]"
       ],
       "verticalSubplots": [
        "[Customers].[Region].[Region]"
       ],
       "xAxis": [
        "[Products].[ProductCategory].[ProductCategory]"
       ]
      },
      "name": "Sales and Profit Margin by Product Category",
      "query": {
       "mdx": "SELECT NON EMPTY Order(Hierarchize(Descendants({[Products].[ProductCategory].[AllMember]}, 1, SELF_AND_BEFORE)), [Measures].[QuantitySold.SUM], BDESC) ON ROWS, NON EMPTY Crossjoin(Hierarchize(Descendants({[Customers].[Region].[AllMember]}, 1, SELF_AND_BEFORE)), {[Measures].[QuantitySold.SUM], [Measures].[ProfitMargin]}) ON COLUMNS FROM [Order Cube] CELL PROPERTIES VALUE, FORMATTED_VALUE, BACK_COLOR, FORE_COLOR, FONT_FLAGS",
       "updateMode": "once"
      },
      "serverKey": "default",
      "widgetKey": "plotly-columns-and-lines-chart"
     }
    },
    "tags": []
   },
   "outputs": [
    {
     "data": {
      "application/vnd.atoti.widget.v0+json": {
       "sessionId": "1715026545_FPZ43P",
       "sessionLocation": {
        "https": false,
        "port": 9093
       },
       "widgetCreationCode": "session.widget"
      },
      "text/html": [
       "<img height=\"0\" width=\"0\" src=\"data:,AAAAAAAAAAAAAAAAAAAAAAAAAAAAAAAAAAAAAAAAAAAAAAAACXBIWXMAABqTAAAakwH55E62\" />"
      ],
      "text/plain": [
       "Open the notebook in JupyterLab with the Atoti JupyterLab extension enabled to build this widget."
      ]
     },
     "metadata": {},
     "output_type": "display_data"
    }
   ],
   "source": [
    "session.widget"
   ]
  },
  {
   "cell_type": "markdown",
   "id": "3d077f4d",
   "metadata": {},
   "source": [
    "### 📖 Solution  \n",
    "\n"
   ]
  },
  {
   "cell_type": "markdown",
   "id": "937ac777-abcb-4ba2-a924-75bdae2dc2c2",
   "metadata": {},
   "source": [
    "Uncomment and execute the cell below. A few key points:\n",
    "\n",
    "1. We can see that we are missing the selling price per unit for some products, such as the Longlife Tofu in Switzerland.  \n",
    "2. The selling price of Longlife Tofu in Germany is almost half of the price in other countries.  \n",
    "3. _\"Rössle Sauerkraut\"_ costs much lower in Germany. This, however, is understandable as it's a common product in the country compared to those in Latin America and Northern America. Therefore, it potentially has to have a more competitive pricing.  \n",
    "4. The selling price of Tofu also varies greatly in Europe - the profit margin for Tofu in Poland is approximately 1/5 of the profit margin in Northern America."
   ]
  },
  {
   "cell_type": "code",
   "execution_count": 16,
   "id": "dbe406da-6cb0-4ea8-8484-fb4ad3632be0",
   "metadata": {
    "atoti": {
     "widget": {
      "filters": [
       "[Products].[ProductCategory].[AllMember].[Produce]"
      ],
      "mapping": {
       "columns": [
        "ALL_MEASURES"
       ],
       "measures": [
        "[Measures].[PurchasingPricePerUnit]",
        "[Measures].[SellingPricePerUnit]",
        "[Measures].[ProfitMargin]"
       ],
       "rows": [
        "[Products].[ProductName].[ProductName]",
        "[Customers].[Region].[Region]",
        "[Customers].[Country].[Country]"
       ]
      },
      "query": {
       "mdx": "SELECT NON EMPTY Crossjoin(Hierarchize(Descendants({[Products].[ProductName].[AllMember]}, 1, SELF_AND_BEFORE)), Hierarchize(Descendants({[Customers].[Region].[AllMember]}, 1, SELF_AND_BEFORE)), Hierarchize(Descendants({[Customers].[Country].[AllMember]}, 1, SELF_AND_BEFORE))) ON ROWS, NON EMPTY {[Measures].[PurchasingPricePerUnit], [Measures].[SellingPricePerUnit], [Measures].[ProfitMargin]} ON COLUMNS FROM [Order Cube] CELL PROPERTIES VALUE, FORMATTED_VALUE, BACK_COLOR, FORE_COLOR, FONT_FLAGS",
       "updateMode": "once"
      },
      "serverKey": "default",
      "widgetKey": "pivot-table"
     }
    },
    "tags": []
   },
   "outputs": [],
   "source": [
    "# session.widget"
   ]
  },
  {
   "cell_type": "markdown",
   "id": "83792f7b-ee8f-4223-83ee-36cd23e1b383",
   "metadata": {},
   "source": [
    "## 5. Conclusion: Predict what our audience will ask next"
   ]
  },
  {
   "cell_type": "markdown",
   "id": "7b306a31-ed5e-4ff0-9a19-53f798a1c3e5",
   "metadata": {},
   "source": [
    "When we present our reports and findings in person, the end is often in the form of a Q&A.\n",
    "It's a good idea to prepare for the questions we think they will ask in advance so that we are not left feeling silly and looking lost for words!\n",
    "\n",
    "\n",
    "The same is true for static reports, we have to be fully prepared to answer questions that the audience may have since they can't interact with the data.  With static reports, there is usually a written conclusion, or an executive summary, where this can be treated.\n",
    "\n",
    "However, with interactive dashboards, we have different choices.\n",
    "* **Filters**: Which filters can we provide to our audience so that they can investigate further on their own?  Filters can be added to a page or a whole dashboard.  \n",
    "* **Time period**: How far back in time will our audience want to go?  We should create the dashboard with data from the most relevant time period already displayed.  It might, on occasion, be useful to provide more historical data (using filters, or on different pages).\n",
    "* **Proof of calculations/aggregations**: How much of our proof or background calculations do we think our audience will need?  We can build this into our pages or dashboard if it's deemed necessary.\n",
    "\n",
    "As you get to know your audience, you'll also be able to predict the kinds of questions they will ask."
   ]
  },
  {
   "cell_type": "markdown",
   "id": "9fd79ba4-90e5-468a-aca9-1f2a65de85e4",
   "metadata": {},
   "source": [
    "<div style=\"text-align: center;\" ><a href=\"https://www.atoti.io/?utm_source=gallery&utm_content=03-storytelling\" target=\"_blank\" rel=\"noopener noreferrer\"><img src=\"https://data.atoti.io/notebooks/banners/Your-turn-to-try-Atoti.jpg\" alt=\"Try atoti\"></a></div>"
   ]
  }
 ],
 "metadata": {
  "kernelspec": {
   "display_name": "Python 3 (ipykernel)",
   "language": "python",
   "name": "python3"
  },
  "language_info": {
   "codemirror_mode": {
    "name": "ipython",
    "version": 3
   },
   "file_extension": ".py",
   "mimetype": "text/x-python",
   "name": "python",
   "nbconvert_exporter": "python",
   "pygments_lexer": "ipython3",
   "version": "3.11.9"
  }
 },
 "nbformat": 4,
 "nbformat_minor": 5
}
