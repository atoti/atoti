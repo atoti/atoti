{
 "cells": [
  {
   "cell_type": "markdown",
   "id": "0101f4cb-d95b-40cb-93de-8d21c2e7a57e",
   "metadata": {},
   "source": [
    "# Extracting Data via the Liberator API\n",
    "\n",
    "In this notebook, we demonstronstrate how to use CloudQuant's Liberator API to download several datasets. To use the Liberator API, you'll need an access key. You can reach out to [CloudQuant](https://www.cloudquant.com/) to find out more about the API and how to obtain access."
   ]
  },
  {
   "cell_type": "markdown",
   "id": "ed5225ee-6509-498a-826c-c9545497fcbe",
   "metadata": {
    "tags": []
   },
   "source": [
    "<center><img src=\"https://data.atoti.io/notebooks/banners/AtotiCommunity.png\" alt=\"Atoti Community\" style=\"height: 100px;\" hspace=\"50\"></a></div><img src=\"https://data.atoti.io/notebooks/alt-data/img/CloudQuantPNGLogo.png\" alt=\"CloudQuant\" style=\"height: 100px;\" hspace=\"50\"></a></div></center>"
   ]
  },
  {
   "cell_type": "code",
   "execution_count": null,
   "id": "3fc42bd0-2835-4737-9a60-42fc97370080",
   "metadata": {},
   "outputs": [],
   "source": [
    "import liberator\n",
    "import pandas as pd\n",
    "from utils.mapping import nasdaq_100"
   ]
  },
  {
   "cell_type": "markdown",
   "id": "c28756e9-8693-4a94-99d5-5fdb7aa04d1e",
   "metadata": {},
   "source": [
    "## Daily Bars Data"
   ]
  },
  {
   "cell_type": "code",
   "execution_count": null,
   "id": "ffd2842b-941d-4bec-85bd-4df96b546575",
   "metadata": {
    "tags": []
   },
   "outputs": [],
   "source": [
    "daily_bars_df = liberator.get_dataframe(\n",
    "    liberator.query(\n",
    "        name=\"daily_bars\", symbols=nasdaq_100, as_of=\"2023-06-30\", back_to=\"2023-01-02\"\n",
    "    ),\n",
    ")"
   ]
  },
  {
   "cell_type": "code",
   "execution_count": null,
   "id": "9e1da42c-89b2-4aab-a722-e8f9e43e2850",
   "metadata": {
    "tags": []
   },
   "outputs": [],
   "source": [
    "daily_bars_df = daily_bars_df.drop(columns=[\"_seq\", \"_dsname\", \"msg_len\"])\n",
    "daily_bars_df = daily_bars_df.astype(\n",
    "    {\n",
    "        \"muts\": \"int64\",\n",
    "        \"length\": \"int64\",\n",
    "        \"count\": \"int32\",\n",
    "        \"bidvol\": \"int32\",\n",
    "        \"askvol\": \"int32\",\n",
    "    }\n",
    ")\n",
    "\n",
    "dates_df = daily_bars_df[\"timestamp\"]\n",
    "\n",
    "daily_bars_df.astype({\"close\": \"int64\"})"
   ]
  },
  {
   "cell_type": "code",
   "execution_count": null,
   "id": "ca910f8b-3dd2-48b7-b3ab-1629437bb09a",
   "metadata": {
    "tags": []
   },
   "outputs": [],
   "source": [
    "daily_bars_array_df = daily_bars_df[[\"timestamp\", \"symbol\", \"close\"]].pivot(\n",
    "    index=\"timestamp\", columns=\"symbol\", values=\"close\"\n",
    ")"
   ]
  },
  {
   "cell_type": "code",
   "execution_count": null,
   "id": "3eefea3b-2da2-43e9-b6a5-5afd24b316e6",
   "metadata": {
    "tags": []
   },
   "outputs": [],
   "source": [
    "daily_bars_array_df.index = pd.to_datetime(daily_bars_array_df.index)"
   ]
  },
  {
   "cell_type": "code",
   "execution_count": null,
   "id": "8e5bf24d-f90f-4ea5-8ca2-da166ea34adc",
   "metadata": {
    "tags": []
   },
   "outputs": [],
   "source": [
    "def get_historical_vector(df_close):\n",
    "    # compute returns\n",
    "    df_daily_ret = df_close.diff().iloc[1:]\n",
    "    df_daily_ret = df_daily_ret[(df_daily_ret == 0).sum(1) < 2]\n",
    "    df_daily_ret_t = df_daily_ret.T\n",
    "    df_daily_ret_t[\"daily_returns_vector\"] = df_daily_ret_t.values.tolist()\n",
    "    df_daily_ret_t = (\n",
    "        df_daily_ret_t[[\"daily_returns_vector\"]].rename_axis(\"symbol\").reset_index()\n",
    "    )\n",
    "\n",
    "    # compute daily Rate of Returns\n",
    "    df_daily_ror = df_close.resample(\"D\").last().pct_change().iloc[1:]\n",
    "    df_daily_ror = df_daily_ror[(df_daily_ror == 0).sum(1) < 2]\n",
    "    df_daily_ror_t = df_daily_ror.T\n",
    "    df_daily_ror_t[\"daily_ROR_vector\"] = df_daily_ror_t.values.tolist()\n",
    "    df_daily_ror_t = (\n",
    "        df_daily_ror_t[[\"daily_ROR_vector\"]].rename_axis(\"symbol\").reset_index()\n",
    "    )\n",
    "\n",
    "    # compute monthly Rate of Returns\n",
    "    df_mthly_ror = df_close.resample(\"M\").last().pct_change().iloc[1:]\n",
    "    df_mthly_ror = df_mthly_ror[(df_mthly_ror == 0).sum(1) < 2]\n",
    "    df_mthly_ror_t = df_mthly_ror.T\n",
    "    df_mthly_ror_t[\"monthly_ROR_vector\"] = df_mthly_ror_t.values.tolist()\n",
    "    df_mthly_ror_t = (\n",
    "        df_mthly_ror_t[[\"monthly_ROR_vector\"]].rename_axis(\"symbol\").reset_index()\n",
    "    )\n",
    "\n",
    "    # ensure the dateline between daily ROR and the price vectors are consistent\n",
    "    left, right = df_close.align(df_daily_ret, join=\"outer\", axis=0)\n",
    "    left = left.fillna(method=\"ffill\").iloc[1:]\n",
    "\n",
    "    # transform daily pricing\n",
    "    df_price = left.T\n",
    "    df_price[\"closing_price\"] = df_price.values.tolist()\n",
    "    df_price = df_price[[\"closing_price\"]].rename_axis(\"symbol\").reset_index()\n",
    "\n",
    "    df_ror = pd.merge(df_daily_ret_t, df_daily_ror_t, on=\"symbol\")\n",
    "    df_ror = pd.merge(df_ror, df_mthly_ror_t, on=\"symbol\")\n",
    "    df_ror = pd.merge(df_ror, df_price, on=\"symbol\")\n",
    "\n",
    "    # get vector index\n",
    "    daily_dates = pd.DataFrame(data={\"historical_date\": df_daily_ror.index.to_list()})\n",
    "    daily_dates = daily_dates.rename_axis(\"date_index\").reset_index()\n",
    "\n",
    "    mthly_dates = pd.DataFrame(data={\"historical_date\": df_mthly_ror.index.to_list()})\n",
    "    mthly_dates = mthly_dates.rename_axis(\"monthly_date_index\").reset_index()\n",
    "\n",
    "    df_dates = pd.merge(daily_dates, mthly_dates, on=\"historical_date\", how=\"left\")\n",
    "    df_dates = df_dates.fillna(-1)\n",
    "    df_dates[[\"date_index\", \"monthly_date_index\"]] = df_dates[\n",
    "        [\"date_index\", \"monthly_date_index\"]\n",
    "    ].astype(int)\n",
    "\n",
    "    df_ror[\"daily_returns_vector\"] = [\n",
    "        \",\".join(map(str, l)) for l in df_ror[\"daily_returns_vector\"]\n",
    "    ]\n",
    "    df_ror[\"daily_ROR_vector\"] = [\n",
    "        \",\".join(map(str, l)) for l in df_ror[\"daily_ROR_vector\"]\n",
    "    ]\n",
    "    df_ror[\"monthly_ROR_vector\"] = [\n",
    "        \",\".join(map(str, l)) for l in df_ror[\"monthly_ROR_vector\"]\n",
    "    ]\n",
    "    df_ror[\"closing_price\"] = [\",\".join(map(str, l)) for l in df_ror[\"closing_price\"]]\n",
    "\n",
    "    return df_ror, df_dates"
   ]
  },
  {
   "cell_type": "code",
   "execution_count": null,
   "id": "efa723e9-4b4d-4b6e-b470-4db27908bf97",
   "metadata": {
    "tags": []
   },
   "outputs": [],
   "source": [
    "df_ror, df_dates = get_historical_vector(daily_bars_array_df)"
   ]
  },
  {
   "cell_type": "code",
   "execution_count": null,
   "id": "4d8877e9-fe80-441c-82db-1ffaa087966b",
   "metadata": {
    "tags": []
   },
   "outputs": [],
   "source": [
    "df_ror.to_csv(\"./data/array/daily_bars.csv\", index=False)"
   ]
  },
  {
   "cell_type": "code",
   "execution_count": null,
   "id": "2ef4a875-89c1-4eb8-8760-0780f96d806f",
   "metadata": {
    "tags": []
   },
   "outputs": [],
   "source": [
    "df_dates.to_csv(\"./data/array/historical_dates.csv\", index=False)"
   ]
  },
  {
   "cell_type": "markdown",
   "id": "d8a46993-2d2d-4ff3-ad11-9a60e1209bfd",
   "metadata": {},
   "source": [
    "## Alphaflow Data"
   ]
  },
  {
   "cell_type": "code",
   "execution_count": null,
   "id": "3b19c5bd-417e-4b05-8981-edf4f7a9b56a",
   "metadata": {
    "tags": []
   },
   "outputs": [],
   "source": [
    "cq_alphaflow_daily_df = liberator.get_dataframe(\n",
    "    liberator.query(\n",
    "        name=\"cq_alphaflow_dv_daily\",\n",
    "        symbols=nasdaq_100,\n",
    "        as_of=\"2023-06-30\",\n",
    "        back_to=\"2023-01-02\",\n",
    "    )\n",
    ")"
   ]
  },
  {
   "cell_type": "code",
   "execution_count": null,
   "id": "dc68a4a0-f400-49e1-b56a-74935041342a",
   "metadata": {
    "tags": []
   },
   "outputs": [],
   "source": [
    "cq_alphaflow_daily_df = cq_alphaflow_daily_df.astype({\"muts\": \"int64\"})\n",
    "cq_alphaflow_daily_df = cq_alphaflow_daily_df.drop(columns=[\"_seq\"])"
   ]
  },
  {
   "cell_type": "code",
   "execution_count": null,
   "id": "a3587f79-f008-4490-a5eb-e7b893fec97a",
   "metadata": {
    "tags": []
   },
   "outputs": [],
   "source": [
    "cq_alphaflow_daily_df.to_csv(\"./data/cq_alphaflow_daily.csv\", index=False)"
   ]
  },
  {
   "cell_type": "markdown",
   "id": "8c185c5f-f791-45de-9c6c-d6159e41f945",
   "metadata": {},
   "source": [
    "## ESG Data"
   ]
  },
  {
   "cell_type": "code",
   "execution_count": null,
   "id": "40d02bf6-a2c1-4dd9-8a6b-1f0183f2c79d",
   "metadata": {
    "tags": []
   },
   "outputs": [],
   "source": [
    "gsq_measure_largecap_df = liberator.get_dataframe(\n",
    "    liberator.query(\n",
    "        name=\"gsq_measure_largecap\",\n",
    "        symbols=nasdaq_100,\n",
    "        as_of=\"2023-06-30\",\n",
    "        back_to=\"2023-01-02\",\n",
    "    ),\n",
    ")"
   ]
  },
  {
   "cell_type": "code",
   "execution_count": null,
   "id": "4f626a0b-6b21-4c19-bf20-28fbf4d28a3d",
   "metadata": {
    "tags": []
   },
   "outputs": [],
   "source": [
    "gsq_measure_large_cap_df = gsq_measure_largecap_df.drop(columns=[\"_seq\", \"muts\"])\n",
    "\n",
    "# gsq_measure_large_cap_df.index = pd.to_datetime(gsq_measure_large_cap_df.index)\n",
    "gsq_measure_large_cap_df[\"Delivery_Date\"] = pd.to_datetime(\n",
    "    gsq_measure_large_cap_df[\"Delivery_Date\"]\n",
    ")"
   ]
  },
  {
   "cell_type": "code",
   "execution_count": null,
   "id": "2ecffcb3-f590-45f1-acfb-161f37583069",
   "metadata": {
    "tags": []
   },
   "outputs": [],
   "source": [
    "gsq_measure_large_cap_df.to_csv(\"./data/gsq_measure_large_cap.csv\", index=False)"
   ]
  }
 ],
 "metadata": {
  "kernelspec": {
   "display_name": "Python 3 (ipykernel)",
   "language": "python",
   "name": "python3"
  },
  "language_info": {
   "codemirror_mode": {
    "name": "ipython",
    "version": 3
   },
   "file_extension": ".py",
   "mimetype": "text/x-python",
   "name": "python",
   "nbconvert_exporter": "python",
   "pygments_lexer": "ipython3",
   "version": "3.9.9"
  }
 },
 "nbformat": 4,
 "nbformat_minor": 5
}
