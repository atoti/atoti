{
 "cells": [
  {
   "cell_type": "markdown",
   "id": "f3572592-7139-4cb5-82ec-eb5afefa929f",
   "metadata": {
    "editable": true,
    "slideshow": {
     "slide_type": ""
    },
    "tags": []
   },
   "source": [
    "# Multidimensional Analysis\n",
    "\n",
    "In this notebook, we'll be show you how to perform multidimensional analysis, allowing users to observe data from different viewpoints."
   ]
  },
  {
   "cell_type": "markdown",
   "id": "3aba2356-25d6-4bde-9ef2-49f4f049afb8",
   "metadata": {},
   "source": [
    "<div style=\"text-align: center;\"><img src=\"https://data.atoti.io/notebooks/multidimension/img/cube-slice-dice.png\"></div>"
   ]
  },
  {
   "cell_type": "markdown",
   "id": "430ae29e-d1cd-4dce-83bf-f6664082ecbe",
   "metadata": {},
   "source": [
    "<div style=\"text-align:center\"><a href=\"https://www.atoti.io/?utm_source=gallery&utm_content=multidimensional-analysis\" target=\"_blank\" rel=\"noopener noreferrer\"><img src=\"https://data.atoti.io/notebooks/banners/Discover-Atoti-now.png\" alt=\"atoti table\" /></a></div>"
   ]
  },
  {
   "cell_type": "code",
   "execution_count": 1,
   "id": "43850b85-2acc-445c-aa89-9b2939a0e6a8",
   "metadata": {},
   "outputs": [],
   "source": [
    "import pandas as pd\n",
    "import atoti as tt"
   ]
  },
  {
   "cell_type": "code",
   "execution_count": 2,
   "id": "47c0734a-58bd-4487-922e-a0775c61517d",
   "metadata": {},
   "outputs": [],
   "source": [
    "session = tt.Session.start()"
   ]
  },
  {
   "cell_type": "code",
   "execution_count": 3,
   "id": "dbb89caf-5375-40ff-9766-2dad75c67017",
   "metadata": {},
   "outputs": [
    {
     "data": {
      "text/html": [
       "<div>\n",
       "<style scoped>\n",
       "    .dataframe tbody tr th:only-of-type {\n",
       "        vertical-align: middle;\n",
       "    }\n",
       "\n",
       "    .dataframe tbody tr th {\n",
       "        vertical-align: top;\n",
       "    }\n",
       "\n",
       "    .dataframe thead th {\n",
       "        text-align: right;\n",
       "    }\n",
       "</style>\n",
       "<table border=\"1\" class=\"dataframe\">\n",
       "  <thead>\n",
       "    <tr style=\"text-align: right;\">\n",
       "      <th></th>\n",
       "      <th>Sale ID</th>\n",
       "      <th>Date</th>\n",
       "      <th>Shop</th>\n",
       "      <th>Product</th>\n",
       "      <th>Quantity</th>\n",
       "      <th>Unit price</th>\n",
       "    </tr>\n",
       "  </thead>\n",
       "  <tbody>\n",
       "    <tr>\n",
       "      <th>0</th>\n",
       "      <td>S000003722</td>\n",
       "      <td>2021-02-02</td>\n",
       "      <td>shop_2</td>\n",
       "      <td>TAB_1</td>\n",
       "      <td>3</td>\n",
       "      <td>300.0</td>\n",
       "    </tr>\n",
       "    <tr>\n",
       "      <th>1</th>\n",
       "      <td>S000000059</td>\n",
       "      <td>2021-01-06</td>\n",
       "      <td>shop_19</td>\n",
       "      <td>SHO_59</td>\n",
       "      <td>2</td>\n",
       "      <td>60.0</td>\n",
       "    </tr>\n",
       "    <tr>\n",
       "      <th>2</th>\n",
       "      <td>S000000179</td>\n",
       "      <td>2021-01-06</td>\n",
       "      <td>shop_19</td>\n",
       "      <td>SHO_57</td>\n",
       "      <td>1</td>\n",
       "      <td>60.0</td>\n",
       "    </tr>\n",
       "    <tr>\n",
       "      <th>3</th>\n",
       "      <td>S000003962</td>\n",
       "      <td>2021-02-02</td>\n",
       "      <td>shop_2</td>\n",
       "      <td>SHO_58</td>\n",
       "      <td>1</td>\n",
       "      <td>60.0</td>\n",
       "    </tr>\n",
       "    <tr>\n",
       "      <th>4</th>\n",
       "      <td>S000003431</td>\n",
       "      <td>2021-01-24</td>\n",
       "      <td>shop_31</td>\n",
       "      <td>SHO_15</td>\n",
       "      <td>1</td>\n",
       "      <td>60.0</td>\n",
       "    </tr>\n",
       "  </tbody>\n",
       "</table>\n",
       "</div>"
      ],
      "text/plain": [
       "      Sale ID       Date     Shop Product  Quantity  Unit price\n",
       "0  S000003722 2021-02-02   shop_2   TAB_1         3       300.0\n",
       "1  S000000059 2021-01-06  shop_19  SHO_59         2        60.0\n",
       "2  S000000179 2021-01-06  shop_19  SHO_57         1        60.0\n",
       "3  S000003962 2021-02-02   shop_2  SHO_58         1        60.0\n",
       "4  S000003431 2021-01-24  shop_31  SHO_15         1        60.0"
      ]
     },
     "execution_count": 3,
     "metadata": {},
     "output_type": "execute_result"
    }
   ],
   "source": [
    "sales = session.read_csv(\n",
    "    \"s3://data.atoti.io/notebooks/multidimension/sales.csv\",\n",
    "    table_name=\"Sales\",\n",
    "    data_types={\"Unit price\": tt.type.DOUBLE},\n",
    ")\n",
    "sales.head()"
   ]
  },
  {
   "cell_type": "code",
   "execution_count": 4,
   "id": "efb6008d-b7fa-4980-a42c-e230e2d9ab4f",
   "metadata": {},
   "outputs": [],
   "source": [
    "cube = session.create_cube(sales, \"sales cube\")"
   ]
  },
  {
   "cell_type": "markdown",
   "id": "e043c008-f810-4495-bf7c-594696e68b66",
   "metadata": {},
   "source": [
    "# Data are group into two categories - Data dimensions and measurements"
   ]
  },
  {
   "cell_type": "code",
   "execution_count": 5,
   "id": "6b740eea-1e79-40bb-9076-eeb9fa82bfbc",
   "metadata": {},
   "outputs": [
    {
     "data": {
      "application/json": {
       "Dimensions": {
        "Sales": {
         "Date": [
          "Date"
         ],
         "Product": [
          "Product"
         ],
         "Sale ID": [
          "Sale ID"
         ],
         "Shop": [
          "Shop"
         ]
        }
       },
       "Measures": {
        "Quantity.MEAN": {
         "formatter": "DOUBLE[#,###.00]"
        },
        "Quantity.SUM": {
         "formatter": "INT[#,###]"
        },
        "Unit price.MEAN": {
         "formatter": "DOUBLE[#,###.00]"
        },
        "Unit price.SUM": {
         "formatter": "DOUBLE[#,###.00]"
        },
        "contributors.COUNT": {
         "formatter": "INT[#,###]"
        }
       }
      },
      "text/html": [
       "<ul>\n",
       "<li>sales cube\n",
       "  <ul>\n",
       "  <li>Dimensions\n",
       "    <ul>\n",
       "    <li>Sales\n",
       "      <ul>\n",
       "      <li>Date\n",
       "        <ol>\n",
       "        <li>Date</li>\n",
       "        </ol>      </li>\n",
       "      <li>Product\n",
       "        <ol>\n",
       "        <li>Product</li>\n",
       "        </ol>      </li>\n",
       "      <li>Sale ID\n",
       "        <ol>\n",
       "        <li>Sale ID</li>\n",
       "        </ol>      </li>\n",
       "      <li>Shop\n",
       "        <ol>\n",
       "        <li>Shop</li>\n",
       "        </ol>      </li>\n",
       "      </ul>\n",
       "    </li>\n",
       "    </ul>\n",
       "  </li>\n",
       "  <li>Measures\n",
       "    <ul>\n",
       "    <li>Quantity.MEAN\n",
       "      <ul>\n",
       "      <li>formatter: DOUBLE[#,###.00]</li>\n",
       "      </ul>\n",
       "    </li>\n",
       "    <li>Quantity.SUM\n",
       "      <ul>\n",
       "      <li>formatter: INT[#,###]</li>\n",
       "      </ul>\n",
       "    </li>\n",
       "    <li>Unit price.MEAN\n",
       "      <ul>\n",
       "      <li>formatter: DOUBLE[#,###.00]</li>\n",
       "      </ul>\n",
       "    </li>\n",
       "    <li>Unit price.SUM\n",
       "      <ul>\n",
       "      <li>formatter: DOUBLE[#,###.00]</li>\n",
       "      </ul>\n",
       "    </li>\n",
       "    <li>contributors.COUNT\n",
       "      <ul>\n",
       "      <li>formatter: INT[#,###]</li>\n",
       "      </ul>\n",
       "    </li>\n",
       "    </ul>\n",
       "  </li>\n",
       "  </ul>\n",
       "</li>\n",
       "</ul>\n"
      ],
      "text/plain": [
       "<atoti.cube.Cube at 0x125f07210>"
      ]
     },
     "execution_count": 5,
     "metadata": {
      "application/json": {
       "expanded": false,
       "root": "sales cube"
      }
     },
     "output_type": "execute_result"
    }
   ],
   "source": [
    "cube"
   ]
  },
  {
   "cell_type": "markdown",
   "id": "7e1ca805-b5d6-48df-95ff-9228f7146d4b",
   "metadata": {},
   "source": [
    "<img alt=\"Multidimensional cube concept\" src=\"https://data.atoti.io/notebooks/multidimension/img/cube-concept.svg\" width=\"400\" />\n",
    "\n",
    "The axes of the cube are called _hierarchies_."
   ]
  },
  {
   "cell_type": "code",
   "execution_count": 6,
   "id": "e44629ea-118e-4977-90da-7713a72bb9d4",
   "metadata": {
    "atoti": {
     "widget": {
      "filters": [
       {
        "dimensionName": "Sales",
        "hierarchyName": "Product",
        "isExclusionFilter": false,
        "members": [
         [
          "AllMember",
          "BED_24"
         ]
        ],
        "type": "members"
       }
      ],
      "mapping": {
       "columns": [
        "[Sales].[Product].[Product]",
        "ALL_MEASURES"
       ],
       "measures": [
        "[Measures].[Quantity.SUM]",
        "[Measures].[Unit price.SUM]"
       ],
       "rows": [
        "[Sales].[Shop].[Shop] => [Sales].[Date].[Date]"
       ]
      },
      "query": {
       "mdx": "SELECT NON EMPTY Hierarchize(Descendants({[Sales].[Shop].[ALL].[AllMember]}, 1, SELF_AND_BEFORE)) ON ROWS, NON EMPTY Crossjoin(Hierarchize(Descendants({[Sales].[Product].[ALL].[AllMember]}, 1, SELF_AND_BEFORE)), {[Measures].[Quantity.SUM], [Measures].[Unit price.SUM]}) ON COLUMNS FROM [sales cube] CELL PROPERTIES VALUE, FORMATTED_VALUE, BACK_COLOR, FORE_COLOR, FONT_FLAGS",
       "updateMode": "once"
      },
      "serverKey": "default",
      "widgetKey": "pivot-table"
     }
    },
    "editable": true,
    "slideshow": {
     "slide_type": ""
    },
    "tags": []
   },
   "outputs": [
    {
     "data": {
      "application/vnd.atoti.widget.v0+json": {
       "sessionId": "1743706670_169638",
       "sessionUrl": "http://localhost:58898",
       "widgetCreationCode": "session.widget"
      },
      "text/html": [
       "<img height=\"352\" width=\"1204\" src=\"data:image/png;base64,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\" />"
      ],
      "text/plain": [
       "Open the notebook in JupyterLab with the Atoti JupyterLab extension enabled to build this widget."
      ]
     },
     "metadata": {},
     "output_type": "display_data"
    }
   ],
   "source": [
    "session.widget"
   ]
  },
  {
   "cell_type": "markdown",
   "id": "760a5bbe-c253-4a29-88df-6e2dcd6f0f31",
   "metadata": {
    "tags": []
   },
   "source": [
    "# Capable of integrating multiple data sources "
   ]
  },
  {
   "cell_type": "code",
   "execution_count": 7,
   "id": "865ba8eb-97ca-4bdc-8a24-ba0cc479e20c",
   "metadata": {},
   "outputs": [
    {
     "data": {
      "text/html": [
       "<div>\n",
       "<style scoped>\n",
       "    .dataframe tbody tr th:only-of-type {\n",
       "        vertical-align: middle;\n",
       "    }\n",
       "\n",
       "    .dataframe tbody tr th {\n",
       "        vertical-align: top;\n",
       "    }\n",
       "\n",
       "    .dataframe thead th {\n",
       "        text-align: right;\n",
       "    }\n",
       "</style>\n",
       "<table border=\"1\" class=\"dataframe\">\n",
       "  <thead>\n",
       "    <tr style=\"text-align: right;\">\n",
       "      <th></th>\n",
       "      <th>Category</th>\n",
       "      <th>Sub category</th>\n",
       "      <th>Size</th>\n",
       "      <th>Purchase price</th>\n",
       "      <th>Color</th>\n",
       "      <th>Brand</th>\n",
       "    </tr>\n",
       "    <tr>\n",
       "      <th>Product</th>\n",
       "      <th></th>\n",
       "      <th></th>\n",
       "      <th></th>\n",
       "      <th></th>\n",
       "      <th></th>\n",
       "      <th></th>\n",
       "    </tr>\n",
       "  </thead>\n",
       "  <tbody>\n",
       "    <tr>\n",
       "      <th>HOO_12</th>\n",
       "      <td>Cloth</td>\n",
       "      <td>Hoodie</td>\n",
       "      <td>S</td>\n",
       "      <td>35.0</td>\n",
       "      <td>blue</td>\n",
       "      <td>Basic</td>\n",
       "    </tr>\n",
       "    <tr>\n",
       "      <th>BED_26</th>\n",
       "      <td>Furniture</td>\n",
       "      <td>Bed</td>\n",
       "      <td>Queen</td>\n",
       "      <td>333.0</td>\n",
       "      <td>white</td>\n",
       "      <td>Basic</td>\n",
       "    </tr>\n",
       "    <tr>\n",
       "      <th>SHO_40</th>\n",
       "      <td>Cloth</td>\n",
       "      <td>Shoes</td>\n",
       "      <td>11</td>\n",
       "      <td>48.0</td>\n",
       "      <td>black</td>\n",
       "      <td>Basic</td>\n",
       "    </tr>\n",
       "    <tr>\n",
       "      <th>HOO_54</th>\n",
       "      <td>Cloth</td>\n",
       "      <td>Hoodie</td>\n",
       "      <td>S</td>\n",
       "      <td>35.0</td>\n",
       "      <td>brown</td>\n",
       "      <td>Over</td>\n",
       "    </tr>\n",
       "    <tr>\n",
       "      <th>HOO_13</th>\n",
       "      <td>Cloth</td>\n",
       "      <td>Hoodie</td>\n",
       "      <td>M</td>\n",
       "      <td>38.0</td>\n",
       "      <td>red</td>\n",
       "      <td>Mega</td>\n",
       "    </tr>\n",
       "  </tbody>\n",
       "</table>\n",
       "</div>"
      ],
      "text/plain": [
       "          Category Sub category   Size  Purchase price  Color  Brand\n",
       "Product                                                             \n",
       "HOO_12       Cloth       Hoodie      S            35.0   blue  Basic\n",
       "BED_26   Furniture          Bed  Queen           333.0  white  Basic\n",
       "SHO_40       Cloth        Shoes     11            48.0  black  Basic\n",
       "HOO_54       Cloth       Hoodie      S            35.0  brown   Over\n",
       "HOO_13       Cloth       Hoodie      M            38.0    red   Mega"
      ]
     },
     "execution_count": 7,
     "metadata": {},
     "output_type": "execute_result"
    }
   ],
   "source": [
    "products = session.read_csv(\n",
    "    \"s3://data.atoti.io/notebooks/multidimension/products.csv\",\n",
    "    table_name=\"Products\",\n",
    "    keys=[\"Product\"],\n",
    ")\n",
    "products.head()"
   ]
  },
  {
   "cell_type": "code",
   "execution_count": 8,
   "id": "d4af45a9-98e7-4053-912d-7b5bcf75fda3",
   "metadata": {},
   "outputs": [
    {
     "data": {
      "image/png": "[encoded data removed]",
      "text/plain": [
       "erDiagram\n",
       "  \"Sales\" {\n",
       "    _ String \"Sale ID\"\n",
       "    _ LocalDate \"Date\"\n",
       "    _ String \"Shop\"\n",
       "    _ String \"Product\"\n",
       "    nullable int \"Quantity\"\n",
       "    nullable double \"Unit price\"\n",
       "  }\n",
       "  \"Products\" {\n",
       "    _ String PK \"Product\"\n",
       "    _ String \"Category\"\n",
       "    _ String \"Sub category\"\n",
       "    _ String \"Size\"\n",
       "    nullable double \"Purchase price\"\n",
       "    _ String \"Color\"\n",
       "    _ String \"Brand\"\n",
       "  }\n",
       "  \"Sales\" }o--o| \"Products\" : \"`Product` == `Product`\""
      ]
     },
     "execution_count": 8,
     "metadata": {},
     "output_type": "execute_result"
    }
   ],
   "source": [
    "sales.join(products)\n",
    "session.tables.schema"
   ]
  },
  {
   "cell_type": "code",
   "execution_count": 9,
   "id": "22060b6f-8d9d-443a-ab2f-ab00e0180a21",
   "metadata": {},
   "outputs": [],
   "source": [
    "h, l, m = cube.hierarchies, cube.levels, cube.measures"
   ]
  },
  {
   "cell_type": "code",
   "execution_count": 10,
   "id": "92b6fb72-eba8-4ec7-b002-0464b279f726",
   "metadata": {},
   "outputs": [
    {
     "data": {
      "application/json": {
       "Products": {
        "Brand": [
         "Brand"
        ],
        "Category": [
         "Category"
        ],
        "Color": [
         "Color"
        ],
        "Size": [
         "Size"
        ],
        "Sub category": [
         "Sub category"
        ]
       },
       "Sales": {
        "Date": [
         "Date"
        ],
        "Product": [
         "Product"
        ],
        "Sale ID": [
         "Sale ID"
        ],
        "Shop": [
         "Shop"
        ]
       }
      },
      "text/html": [
       "<ul>\n",
       "<li>Dimensions\n",
       "  <ul>\n",
       "  <li>Products\n",
       "    <ul>\n",
       "    <li>Brand\n",
       "      <ol>\n",
       "      <li>Brand</li>\n",
       "      </ol>    </li>\n",
       "    <li>Category\n",
       "      <ol>\n",
       "      <li>Category</li>\n",
       "      </ol>    </li>\n",
       "    <li>Color\n",
       "      <ol>\n",
       "      <li>Color</li>\n",
       "      </ol>    </li>\n",
       "    <li>Size\n",
       "      <ol>\n",
       "      <li>Size</li>\n",
       "      </ol>    </li>\n",
       "    <li>Sub category\n",
       "      <ol>\n",
       "      <li>Sub category</li>\n",
       "      </ol>    </li>\n",
       "    </ul>\n",
       "  </li>\n",
       "  <li>Sales\n",
       "    <ul>\n",
       "    <li>Date\n",
       "      <ol>\n",
       "      <li>Date</li>\n",
       "      </ol>    </li>\n",
       "    <li>Product\n",
       "      <ol>\n",
       "      <li>Product</li>\n",
       "      </ol>    </li>\n",
       "    <li>Sale ID\n",
       "      <ol>\n",
       "      <li>Sale ID</li>\n",
       "      </ol>    </li>\n",
       "    <li>Shop\n",
       "      <ol>\n",
       "      <li>Shop</li>\n",
       "      </ol>    </li>\n",
       "    </ul>\n",
       "  </li>\n",
       "  </ul>\n",
       "</li>\n",
       "</ul>\n"
      ],
      "text/plain": [
       "{('Products', 'Category'): <atoti.hierarchy.Hierarchy object at 0x126b98110>, ('Products', 'Size'): <atoti.hierarchy.Hierarchy object at 0x125a0f7d0>, ('Products', 'Brand'): <atoti.hierarchy.Hierarchy object at 0x124d09490>, ('Products', 'Sub category'): <atoti.hierarchy.Hierarchy object at 0x126965190>, ('Products', 'Color'): <atoti.hierarchy.Hierarchy object at 0x1269679d0>, ('Sales', 'Shop'): <atoti.hierarchy.Hierarchy object at 0x126967dd0>, ('Sales', 'Date'): <atoti.hierarchy.Hierarchy object at 0x126967590>, ('Sales', 'Product'): <atoti.hierarchy.Hierarchy object at 0x126bfe810>, ('Sales', 'Sale ID'): <atoti.hierarchy.Hierarchy object at 0x126bffa50>}"
      ]
     },
     "execution_count": 10,
     "metadata": {
      "application/json": {
       "expanded": true,
       "root": "Dimensions"
      }
     },
     "output_type": "execute_result"
    }
   ],
   "source": [
    "h"
   ]
  },
  {
   "cell_type": "code",
   "execution_count": 11,
   "id": "ce1e2257-ffb6-4819-8f60-a179f5ff47b8",
   "metadata": {},
   "outputs": [],
   "source": [
    "h[\"Product categories\"] = [l[\"Category\"], l[\"Sub category\"]]"
   ]
  },
  {
   "cell_type": "code",
   "execution_count": 12,
   "id": "05bdd8e7-265e-4da1-bd6e-646493d268cd",
   "metadata": {
    "atoti": {
     "height": 357,
     "widget": {
      "mapping": {
       "columns": [
        "ALL_MEASURES"
       ],
       "measures": [
        "[Measures].[Unit price.SUM]",
        "[Measures].[Quantity.SUM]"
       ],
       "rows": [
        "[Sales].[Shop].[Shop] => [Products].[Product categories].[Sub category]"
       ]
      },
      "query": {
       "mdx": "SELECT NON EMPTY {[Measures].[Unit price.SUM], [Measures].[Quantity.SUM]} ON COLUMNS, NON EMPTY Hierarchize(Union(Crossjoin(Descendants({[Sales].[Shop].[AllMember]}, 1, SELF_AND_BEFORE), [Products].[Product categories].DefaultMember), Crossjoin([Sales].[Shop].[AllMember].[shop_0], Hierarchize(Descendants({[Products].[Product categories].[AllMember]}, 2, SELF_AND_BEFORE))))) ON ROWS FROM [sales cube] CELL PROPERTIES VALUE, FORMATTED_VALUE, BACK_COLOR, FORE_COLOR, FONT_FLAGS",
       "updateMode": "once"
      },
      "serverKey": "default",
      "widgetKey": "pivot-table"
     }
    },
    "tags": []
   },
   "outputs": [
    {
     "data": {
      "application/vnd.atoti.widget.v0+json": {
       "sessionId": "1743706670_169638",
       "sessionUrl": "http://localhost:58898",
       "widgetCreationCode": "session.widget"
      },
      "text/html": [
       "<img height=\"349\" width=\"1204\" src=\"data:image/png;base64,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\" />"
      ],
      "text/plain": [
       "Open the notebook in JupyterLab with the Atoti JupyterLab extension enabled to build this widget."
      ]
     },
     "metadata": {},
     "output_type": "display_data"
    }
   ],
   "source": [
    "session.widget"
   ]
  },
  {
   "cell_type": "markdown",
   "id": "c616bde0-866c-498e-8d20-efb34bda175b",
   "metadata": {
    "tags": []
   },
   "source": [
    "# Aggregational flexibility - Pre-processing vs Post-processing\n",
    "\n"
   ]
  },
  {
   "cell_type": "markdown",
   "id": "d2c0baf8-56d2-4390-a5e1-980bbabfb29e",
   "metadata": {},
   "source": [
    "## Pre-processing trades storage consumption for computational efficiency"
   ]
  },
  {
   "cell_type": "code",
   "execution_count": 13,
   "id": "fedc6bef-3477-44e7-af8f-43ad4a4e83de",
   "metadata": {},
   "outputs": [
    {
     "data": {
      "text/html": [
       "<div>\n",
       "<style scoped>\n",
       "    .dataframe tbody tr th:only-of-type {\n",
       "        vertical-align: middle;\n",
       "    }\n",
       "\n",
       "    .dataframe tbody tr th {\n",
       "        vertical-align: top;\n",
       "    }\n",
       "\n",
       "    .dataframe thead th {\n",
       "        text-align: right;\n",
       "    }\n",
       "</style>\n",
       "<table border=\"1\" class=\"dataframe\">\n",
       "  <thead>\n",
       "    <tr style=\"text-align: right;\">\n",
       "      <th></th>\n",
       "      <th>Product</th>\n",
       "      <th>Category</th>\n",
       "      <th>Sub category</th>\n",
       "      <th>Size</th>\n",
       "      <th>Purchase price</th>\n",
       "      <th>Color</th>\n",
       "      <th>Brand</th>\n",
       "    </tr>\n",
       "  </thead>\n",
       "  <tbody>\n",
       "    <tr>\n",
       "      <th>0</th>\n",
       "      <td>TAB_0</td>\n",
       "      <td>Furniture</td>\n",
       "      <td>Table</td>\n",
       "      <td>1m80</td>\n",
       "      <td>190.0</td>\n",
       "      <td>black</td>\n",
       "      <td>Basic</td>\n",
       "    </tr>\n",
       "    <tr>\n",
       "      <th>1</th>\n",
       "      <td>TAB_1</td>\n",
       "      <td>Furniture</td>\n",
       "      <td>Table</td>\n",
       "      <td>2m40</td>\n",
       "      <td>280.0</td>\n",
       "      <td>white</td>\n",
       "      <td>Mega</td>\n",
       "    </tr>\n",
       "    <tr>\n",
       "      <th>2</th>\n",
       "      <td>CHA_2</td>\n",
       "      <td>Furniture</td>\n",
       "      <td>Chair</td>\n",
       "      <td>NaN</td>\n",
       "      <td>48.0</td>\n",
       "      <td>blue</td>\n",
       "      <td>Basic</td>\n",
       "    </tr>\n",
       "    <tr>\n",
       "      <th>3</th>\n",
       "      <td>BED_3</td>\n",
       "      <td>Furniture</td>\n",
       "      <td>Bed</td>\n",
       "      <td>Single</td>\n",
       "      <td>127.0</td>\n",
       "      <td>red</td>\n",
       "      <td>Mega</td>\n",
       "    </tr>\n",
       "    <tr>\n",
       "      <th>4</th>\n",
       "      <td>BED_4</td>\n",
       "      <td>Furniture</td>\n",
       "      <td>Bed</td>\n",
       "      <td>Double</td>\n",
       "      <td>252.0</td>\n",
       "      <td>brown</td>\n",
       "      <td>Basic</td>\n",
       "    </tr>\n",
       "  </tbody>\n",
       "</table>\n",
       "</div>"
      ],
      "text/plain": [
       "  Product   Category Sub category    Size  Purchase price  Color  Brand\n",
       "0   TAB_0  Furniture        Table    1m80           190.0  black  Basic\n",
       "1   TAB_1  Furniture        Table    2m40           280.0  white   Mega\n",
       "2   CHA_2  Furniture        Chair     NaN            48.0   blue  Basic\n",
       "3   BED_3  Furniture          Bed  Single           127.0    red   Mega\n",
       "4   BED_4  Furniture          Bed  Double           252.0  brown  Basic"
      ]
     },
     "execution_count": 13,
     "metadata": {},
     "output_type": "execute_result"
    }
   ],
   "source": [
    "product_df = pd.read_csv(\"https://data.atoti.io/notebooks/multidimension/products.csv\")\n",
    "product_df.head()"
   ]
  },
  {
   "cell_type": "code",
   "execution_count": 14,
   "id": "cb39573f-7d29-4330-8702-cd4c58c3354f",
   "metadata": {},
   "outputs": [
    {
     "data": {
      "text/html": [
       "<div>\n",
       "<style scoped>\n",
       "    .dataframe tbody tr th:only-of-type {\n",
       "        vertical-align: middle;\n",
       "    }\n",
       "\n",
       "    .dataframe tbody tr th {\n",
       "        vertical-align: top;\n",
       "    }\n",
       "\n",
       "    .dataframe thead th {\n",
       "        text-align: right;\n",
       "    }\n",
       "</style>\n",
       "<table border=\"1\" class=\"dataframe\">\n",
       "  <thead>\n",
       "    <tr style=\"text-align: right;\">\n",
       "      <th></th>\n",
       "      <th>Sale ID</th>\n",
       "      <th>Date</th>\n",
       "      <th>Shop</th>\n",
       "      <th>Product</th>\n",
       "      <th>Quantity</th>\n",
       "      <th>Unit price</th>\n",
       "    </tr>\n",
       "  </thead>\n",
       "  <tbody>\n",
       "    <tr>\n",
       "      <th>0</th>\n",
       "      <td>S000000029</td>\n",
       "      <td>2021-01-06</td>\n",
       "      <td>shop_29</td>\n",
       "      <td>TSH_29</td>\n",
       "      <td>1</td>\n",
       "      <td>20</td>\n",
       "    </tr>\n",
       "    <tr>\n",
       "      <th>1</th>\n",
       "      <td>S000000059</td>\n",
       "      <td>2021-01-06</td>\n",
       "      <td>shop_19</td>\n",
       "      <td>SHO_59</td>\n",
       "      <td>2</td>\n",
       "      <td>60</td>\n",
       "    </tr>\n",
       "    <tr>\n",
       "      <th>2</th>\n",
       "      <td>S000000089</td>\n",
       "      <td>2021-01-06</td>\n",
       "      <td>shop_9</td>\n",
       "      <td>TSH_28</td>\n",
       "      <td>4</td>\n",
       "      <td>20</td>\n",
       "    </tr>\n",
       "    <tr>\n",
       "      <th>3</th>\n",
       "      <td>S000000119</td>\n",
       "      <td>2021-01-06</td>\n",
       "      <td>shop_39</td>\n",
       "      <td>SHO_58</td>\n",
       "      <td>2</td>\n",
       "      <td>60</td>\n",
       "    </tr>\n",
       "    <tr>\n",
       "      <th>4</th>\n",
       "      <td>S000000149</td>\n",
       "      <td>2021-01-06</td>\n",
       "      <td>shop_29</td>\n",
       "      <td>BED_27</td>\n",
       "      <td>2</td>\n",
       "      <td>440</td>\n",
       "    </tr>\n",
       "  </tbody>\n",
       "</table>\n",
       "</div>"
      ],
      "text/plain": [
       "      Sale ID        Date     Shop Product  Quantity  Unit price\n",
       "0  S000000029  2021-01-06  shop_29  TSH_29         1          20\n",
       "1  S000000059  2021-01-06  shop_19  SHO_59         2          60\n",
       "2  S000000089  2021-01-06   shop_9  TSH_28         4          20\n",
       "3  S000000119  2021-01-06  shop_39  SHO_58         2          60\n",
       "4  S000000149  2021-01-06  shop_29  BED_27         2         440"
      ]
     },
     "execution_count": 14,
     "metadata": {},
     "output_type": "execute_result"
    }
   ],
   "source": [
    "sales_df = pd.read_csv(\"https://data.atoti.io/notebooks/multidimension/sales.csv\")\n",
    "sales_df.head()"
   ]
  },
  {
   "cell_type": "markdown",
   "id": "b3cbb744-338e-49cf-8312-91bf823fe06f",
   "metadata": {},
   "source": [
    "Within the same data source, we can easily perform aggregation by applying the formulas. Notice that our dataset just grew bigger with the additional column? By loading this dataset, we traded storage consumption for the computational efficiency because the cube need not compute the sales amount every time we query it."
   ]
  },
  {
   "cell_type": "code",
   "execution_count": 15,
   "id": "6f3285c3-f86a-4adf-8522-fd29e32d49bb",
   "metadata": {},
   "outputs": [
    {
     "data": {
      "text/html": [
       "<div>\n",
       "<style scoped>\n",
       "    .dataframe tbody tr th:only-of-type {\n",
       "        vertical-align: middle;\n",
       "    }\n",
       "\n",
       "    .dataframe tbody tr th {\n",
       "        vertical-align: top;\n",
       "    }\n",
       "\n",
       "    .dataframe thead th {\n",
       "        text-align: right;\n",
       "    }\n",
       "</style>\n",
       "<table border=\"1\" class=\"dataframe\">\n",
       "  <thead>\n",
       "    <tr style=\"text-align: right;\">\n",
       "      <th></th>\n",
       "      <th>Sale ID</th>\n",
       "      <th>Date</th>\n",
       "      <th>Shop</th>\n",
       "      <th>Product</th>\n",
       "      <th>Quantity</th>\n",
       "      <th>Unit price</th>\n",
       "      <th>Sales amount</th>\n",
       "    </tr>\n",
       "  </thead>\n",
       "  <tbody>\n",
       "    <tr>\n",
       "      <th>0</th>\n",
       "      <td>S000000029</td>\n",
       "      <td>2021-01-06</td>\n",
       "      <td>shop_29</td>\n",
       "      <td>TSH_29</td>\n",
       "      <td>1</td>\n",
       "      <td>20</td>\n",
       "      <td>20</td>\n",
       "    </tr>\n",
       "    <tr>\n",
       "      <th>1</th>\n",
       "      <td>S000000059</td>\n",
       "      <td>2021-01-06</td>\n",
       "      <td>shop_19</td>\n",
       "      <td>SHO_59</td>\n",
       "      <td>2</td>\n",
       "      <td>60</td>\n",
       "      <td>120</td>\n",
       "    </tr>\n",
       "    <tr>\n",
       "      <th>2</th>\n",
       "      <td>S000000089</td>\n",
       "      <td>2021-01-06</td>\n",
       "      <td>shop_9</td>\n",
       "      <td>TSH_28</td>\n",
       "      <td>4</td>\n",
       "      <td>20</td>\n",
       "      <td>80</td>\n",
       "    </tr>\n",
       "    <tr>\n",
       "      <th>3</th>\n",
       "      <td>S000000119</td>\n",
       "      <td>2021-01-06</td>\n",
       "      <td>shop_39</td>\n",
       "      <td>SHO_58</td>\n",
       "      <td>2</td>\n",
       "      <td>60</td>\n",
       "      <td>120</td>\n",
       "    </tr>\n",
       "    <tr>\n",
       "      <th>4</th>\n",
       "      <td>S000000149</td>\n",
       "      <td>2021-01-06</td>\n",
       "      <td>shop_29</td>\n",
       "      <td>BED_27</td>\n",
       "      <td>2</td>\n",
       "      <td>440</td>\n",
       "      <td>880</td>\n",
       "    </tr>\n",
       "  </tbody>\n",
       "</table>\n",
       "</div>"
      ],
      "text/plain": [
       "      Sale ID        Date     Shop Product  Quantity  Unit price  Sales amount\n",
       "0  S000000029  2021-01-06  shop_29  TSH_29         1          20            20\n",
       "1  S000000059  2021-01-06  shop_19  SHO_59         2          60           120\n",
       "2  S000000089  2021-01-06   shop_9  TSH_28         4          20            80\n",
       "3  S000000119  2021-01-06  shop_39  SHO_58         2          60           120\n",
       "4  S000000149  2021-01-06  shop_29  BED_27         2         440           880"
      ]
     },
     "execution_count": 15,
     "metadata": {},
     "output_type": "execute_result"
    }
   ],
   "source": [
    "sales_df[\"Sales amount\"] = sales_df[\"Quantity\"] * sales_df[\"Unit price\"]\n",
    "sales_df.head()"
   ]
  },
  {
   "cell_type": "markdown",
   "id": "7f9c6fdd-366a-4b7a-9925-eefec9545e27",
   "metadata": {},
   "source": [
    "When aggregation involves multiple data sources, then we need to handle the joins before we can apply the formulas."
   ]
  },
  {
   "cell_type": "code",
   "execution_count": 16,
   "id": "83fc8e4a-cb1b-4c60-8b66-91f6aa313107",
   "metadata": {},
   "outputs": [
    {
     "data": {
      "text/html": [
       "<div>\n",
       "<style scoped>\n",
       "    .dataframe tbody tr th:only-of-type {\n",
       "        vertical-align: middle;\n",
       "    }\n",
       "\n",
       "    .dataframe tbody tr th {\n",
       "        vertical-align: top;\n",
       "    }\n",
       "\n",
       "    .dataframe thead th {\n",
       "        text-align: right;\n",
       "    }\n",
       "</style>\n",
       "<table border=\"1\" class=\"dataframe\">\n",
       "  <thead>\n",
       "    <tr style=\"text-align: right;\">\n",
       "      <th></th>\n",
       "      <th>Sale ID</th>\n",
       "      <th>Date</th>\n",
       "      <th>Shop</th>\n",
       "      <th>Product</th>\n",
       "      <th>Quantity</th>\n",
       "      <th>Unit price</th>\n",
       "      <th>Sales amount</th>\n",
       "      <th>Category</th>\n",
       "      <th>Sub category</th>\n",
       "      <th>Size</th>\n",
       "      <th>Purchase price</th>\n",
       "      <th>Color</th>\n",
       "      <th>Brand</th>\n",
       "    </tr>\n",
       "  </thead>\n",
       "  <tbody>\n",
       "    <tr>\n",
       "      <th>0</th>\n",
       "      <td>S000000029</td>\n",
       "      <td>2021-01-06</td>\n",
       "      <td>shop_29</td>\n",
       "      <td>TSH_29</td>\n",
       "      <td>1</td>\n",
       "      <td>20</td>\n",
       "      <td>20</td>\n",
       "      <td>Cloth</td>\n",
       "      <td>Tshirt</td>\n",
       "      <td>S</td>\n",
       "      <td>18.0</td>\n",
       "      <td>brown</td>\n",
       "      <td>Mega</td>\n",
       "    </tr>\n",
       "    <tr>\n",
       "      <th>1</th>\n",
       "      <td>S000000059</td>\n",
       "      <td>2021-01-06</td>\n",
       "      <td>shop_19</td>\n",
       "      <td>SHO_59</td>\n",
       "      <td>2</td>\n",
       "      <td>60</td>\n",
       "      <td>120</td>\n",
       "      <td>Cloth</td>\n",
       "      <td>Shoes</td>\n",
       "      <td>9</td>\n",
       "      <td>44.0</td>\n",
       "      <td>brown</td>\n",
       "      <td>NewBrand</td>\n",
       "    </tr>\n",
       "    <tr>\n",
       "      <th>2</th>\n",
       "      <td>S000000089</td>\n",
       "      <td>2021-01-06</td>\n",
       "      <td>shop_9</td>\n",
       "      <td>TSH_28</td>\n",
       "      <td>4</td>\n",
       "      <td>20</td>\n",
       "      <td>80</td>\n",
       "      <td>Cloth</td>\n",
       "      <td>Tshirt</td>\n",
       "      <td>XS</td>\n",
       "      <td>17.0</td>\n",
       "      <td>red</td>\n",
       "      <td>Basic</td>\n",
       "    </tr>\n",
       "    <tr>\n",
       "      <th>3</th>\n",
       "      <td>S000000119</td>\n",
       "      <td>2021-01-06</td>\n",
       "      <td>shop_39</td>\n",
       "      <td>SHO_58</td>\n",
       "      <td>2</td>\n",
       "      <td>60</td>\n",
       "      <td>120</td>\n",
       "      <td>Cloth</td>\n",
       "      <td>Shoes</td>\n",
       "      <td>8</td>\n",
       "      <td>42.0</td>\n",
       "      <td>red</td>\n",
       "      <td>Over</td>\n",
       "    </tr>\n",
       "    <tr>\n",
       "      <th>4</th>\n",
       "      <td>S000000149</td>\n",
       "      <td>2021-01-06</td>\n",
       "      <td>shop_29</td>\n",
       "      <td>BED_27</td>\n",
       "      <td>2</td>\n",
       "      <td>440</td>\n",
       "      <td>880</td>\n",
       "      <td>Furniture</td>\n",
       "      <td>Bed</td>\n",
       "      <td>King</td>\n",
       "      <td>375.0</td>\n",
       "      <td>blue</td>\n",
       "      <td>Mega</td>\n",
       "    </tr>\n",
       "  </tbody>\n",
       "</table>\n",
       "</div>"
      ],
      "text/plain": [
       "      Sale ID        Date     Shop Product  Quantity  Unit price  \\\n",
       "0  S000000029  2021-01-06  shop_29  TSH_29         1          20   \n",
       "1  S000000059  2021-01-06  shop_19  SHO_59         2          60   \n",
       "2  S000000089  2021-01-06   shop_9  TSH_28         4          20   \n",
       "3  S000000119  2021-01-06  shop_39  SHO_58         2          60   \n",
       "4  S000000149  2021-01-06  shop_29  BED_27         2         440   \n",
       "\n",
       "   Sales amount   Category Sub category  Size  Purchase price  Color     Brand  \n",
       "0            20      Cloth       Tshirt     S            18.0  brown      Mega  \n",
       "1           120      Cloth        Shoes     9            44.0  brown  NewBrand  \n",
       "2            80      Cloth       Tshirt    XS            17.0    red     Basic  \n",
       "3           120      Cloth        Shoes     8            42.0    red      Over  \n",
       "4           880  Furniture          Bed  King           375.0   blue      Mega  "
      ]
     },
     "execution_count": 16,
     "metadata": {},
     "output_type": "execute_result"
    }
   ],
   "source": [
    "product_sales = pd.merge(sales_df, product_df, on=\"Product\")\n",
    "product_sales.head()"
   ]
  },
  {
   "cell_type": "code",
   "execution_count": 17,
   "id": "136afb1e-57f2-4d00-a3a4-8aff63a31469",
   "metadata": {},
   "outputs": [
    {
     "data": {
      "text/html": [
       "<div>\n",
       "<style scoped>\n",
       "    .dataframe tbody tr th:only-of-type {\n",
       "        vertical-align: middle;\n",
       "    }\n",
       "\n",
       "    .dataframe tbody tr th {\n",
       "        vertical-align: top;\n",
       "    }\n",
       "\n",
       "    .dataframe thead th {\n",
       "        text-align: right;\n",
       "    }\n",
       "</style>\n",
       "<table border=\"1\" class=\"dataframe\">\n",
       "  <thead>\n",
       "    <tr style=\"text-align: right;\">\n",
       "      <th></th>\n",
       "      <th>Sale ID</th>\n",
       "      <th>Date</th>\n",
       "      <th>Shop</th>\n",
       "      <th>Product</th>\n",
       "      <th>Quantity</th>\n",
       "      <th>Unit price</th>\n",
       "      <th>Sales amount</th>\n",
       "      <th>Category</th>\n",
       "      <th>Sub category</th>\n",
       "      <th>Size</th>\n",
       "      <th>Purchase price</th>\n",
       "      <th>Color</th>\n",
       "      <th>Brand</th>\n",
       "      <th>Cost price</th>\n",
       "      <th>Margin</th>\n",
       "    </tr>\n",
       "  </thead>\n",
       "  <tbody>\n",
       "    <tr>\n",
       "      <th>0</th>\n",
       "      <td>S000000029</td>\n",
       "      <td>2021-01-06</td>\n",
       "      <td>shop_29</td>\n",
       "      <td>TSH_29</td>\n",
       "      <td>1</td>\n",
       "      <td>20</td>\n",
       "      <td>20</td>\n",
       "      <td>Cloth</td>\n",
       "      <td>Tshirt</td>\n",
       "      <td>S</td>\n",
       "      <td>18.0</td>\n",
       "      <td>brown</td>\n",
       "      <td>Mega</td>\n",
       "      <td>18.0</td>\n",
       "      <td>2.0</td>\n",
       "    </tr>\n",
       "    <tr>\n",
       "      <th>1</th>\n",
       "      <td>S000000059</td>\n",
       "      <td>2021-01-06</td>\n",
       "      <td>shop_19</td>\n",
       "      <td>SHO_59</td>\n",
       "      <td>2</td>\n",
       "      <td>60</td>\n",
       "      <td>120</td>\n",
       "      <td>Cloth</td>\n",
       "      <td>Shoes</td>\n",
       "      <td>9</td>\n",
       "      <td>44.0</td>\n",
       "      <td>brown</td>\n",
       "      <td>NewBrand</td>\n",
       "      <td>88.0</td>\n",
       "      <td>32.0</td>\n",
       "    </tr>\n",
       "    <tr>\n",
       "      <th>2</th>\n",
       "      <td>S000000089</td>\n",
       "      <td>2021-01-06</td>\n",
       "      <td>shop_9</td>\n",
       "      <td>TSH_28</td>\n",
       "      <td>4</td>\n",
       "      <td>20</td>\n",
       "      <td>80</td>\n",
       "      <td>Cloth</td>\n",
       "      <td>Tshirt</td>\n",
       "      <td>XS</td>\n",
       "      <td>17.0</td>\n",
       "      <td>red</td>\n",
       "      <td>Basic</td>\n",
       "      <td>68.0</td>\n",
       "      <td>12.0</td>\n",
       "    </tr>\n",
       "    <tr>\n",
       "      <th>3</th>\n",
       "      <td>S000000119</td>\n",
       "      <td>2021-01-06</td>\n",
       "      <td>shop_39</td>\n",
       "      <td>SHO_58</td>\n",
       "      <td>2</td>\n",
       "      <td>60</td>\n",
       "      <td>120</td>\n",
       "      <td>Cloth</td>\n",
       "      <td>Shoes</td>\n",
       "      <td>8</td>\n",
       "      <td>42.0</td>\n",
       "      <td>red</td>\n",
       "      <td>Over</td>\n",
       "      <td>84.0</td>\n",
       "      <td>36.0</td>\n",
       "    </tr>\n",
       "    <tr>\n",
       "      <th>4</th>\n",
       "      <td>S000000149</td>\n",
       "      <td>2021-01-06</td>\n",
       "      <td>shop_29</td>\n",
       "      <td>BED_27</td>\n",
       "      <td>2</td>\n",
       "      <td>440</td>\n",
       "      <td>880</td>\n",
       "      <td>Furniture</td>\n",
       "      <td>Bed</td>\n",
       "      <td>King</td>\n",
       "      <td>375.0</td>\n",
       "      <td>blue</td>\n",
       "      <td>Mega</td>\n",
       "      <td>750.0</td>\n",
       "      <td>130.0</td>\n",
       "    </tr>\n",
       "  </tbody>\n",
       "</table>\n",
       "</div>"
      ],
      "text/plain": [
       "      Sale ID        Date     Shop Product  Quantity  Unit price  \\\n",
       "0  S000000029  2021-01-06  shop_29  TSH_29         1          20   \n",
       "1  S000000059  2021-01-06  shop_19  SHO_59         2          60   \n",
       "2  S000000089  2021-01-06   shop_9  TSH_28         4          20   \n",
       "3  S000000119  2021-01-06  shop_39  SHO_58         2          60   \n",
       "4  S000000149  2021-01-06  shop_29  BED_27         2         440   \n",
       "\n",
       "   Sales amount   Category Sub category  Size  Purchase price  Color  \\\n",
       "0            20      Cloth       Tshirt     S            18.0  brown   \n",
       "1           120      Cloth        Shoes     9            44.0  brown   \n",
       "2            80      Cloth       Tshirt    XS            17.0    red   \n",
       "3           120      Cloth        Shoes     8            42.0    red   \n",
       "4           880  Furniture          Bed  King           375.0   blue   \n",
       "\n",
       "      Brand  Cost price  Margin  \n",
       "0      Mega        18.0     2.0  \n",
       "1  NewBrand        88.0    32.0  \n",
       "2     Basic        68.0    12.0  \n",
       "3      Over        84.0    36.0  \n",
       "4      Mega       750.0   130.0  "
      ]
     },
     "execution_count": 17,
     "metadata": {},
     "output_type": "execute_result"
    }
   ],
   "source": [
    "product_sales[\"Cost price\"] = (\n",
    "    product_sales[\"Quantity\"] * product_sales[\"Purchase price\"]\n",
    ")\n",
    "product_sales[\"Margin\"] = sales_df[\"Sales amount\"] - product_sales[\"Cost price\"]\n",
    "product_sales.head()"
   ]
  },
  {
   "cell_type": "markdown",
   "id": "7b57e887-bf01-41c0-95fe-0aabeb636412",
   "metadata": {},
   "source": [
    "Pre-processing works when we are at the most granular level because we will still be able to drill down or roll up. At higher aggregation level, we will not know how to break the value when we drill down to the lower level."
   ]
  },
  {
   "cell_type": "markdown",
   "id": "81719157-0196-4bff-b336-471f25aeaf91",
   "metadata": {},
   "source": [
    "<div style=\"text-align: center;\"><img src=\"https://data.atoti.io/notebooks/multidimension/img/drilldown_rollup.png\" width=\"50%\"></div>"
   ]
  },
  {
   "cell_type": "markdown",
   "id": "f56c58ae-27f2-472a-841b-5f01aa686181",
   "metadata": {
    "tags": []
   },
   "source": [
    "## Post-processing computes on the fly and provides flexibility"
   ]
  },
  {
   "cell_type": "code",
   "execution_count": 18,
   "id": "d0e7d65b-a300-44ed-9ae2-4187ec1659c3",
   "metadata": {},
   "outputs": [],
   "source": [
    "h, l, m = cube.hierarchies, cube.levels, cube.measures"
   ]
  },
  {
   "cell_type": "code",
   "execution_count": 19,
   "id": "4c2fca52-9025-4277-9770-949e5e55513b",
   "metadata": {},
   "outputs": [],
   "source": [
    "m[\"Sales amount\"] = tt.agg.sum(\n",
    "    sales[\"Quantity\"] * sales[\"Unit price\"],\n",
    ")"
   ]
  },
  {
   "cell_type": "code",
   "execution_count": 20,
   "id": "d5693639-d478-43d2-999b-1647602cb1ac",
   "metadata": {},
   "outputs": [],
   "source": [
    "m[\"Cost price\"] = tt.agg.sum(\n",
    "    m[\"Quantity.SUM\"] * tt.agg.single_value(products[\"Purchase price\"]),\n",
    "    scope=tt.OriginScope(levels={l[\"Product\"]}),\n",
    ")"
   ]
  },
  {
   "cell_type": "code",
   "execution_count": 21,
   "id": "7df79c7f-a67e-40da-b503-bd80d65b3709",
   "metadata": {},
   "outputs": [],
   "source": [
    "m[\"Margin\"] = m[\"Sales amount\"] - m[\"Cost price\"]"
   ]
  },
  {
   "cell_type": "code",
   "execution_count": 22,
   "id": "90571a79-f793-4fc8-a969-f3eb4f6bdc33",
   "metadata": {},
   "outputs": [],
   "source": [
    "m[\"Cumulative amount\"] = tt.agg.sum(\n",
    "    m[\"Sales amount\"], scope=tt.CumulativeScope(level=l[\"Date\"])\n",
    ")\n",
    "\n",
    "m[\"Cumulative margin\"] = tt.agg.sum(\n",
    "    m[\"Margin\"], scope=tt.CumulativeScope(level=l[\"Date\"])\n",
    ")"
   ]
  },
  {
   "cell_type": "markdown",
   "id": "1f55e25f-42a7-4092-9462-48016bcee711",
   "metadata": {},
   "source": [
    "In the visualization below, we are missing the sales data for `Shop_0` on 15 Jan 2021. Suppose we use pre-processing computation to get the cumulative values, we will need to perform re-calculation and then reload the data into the cube. With post-processing, this is not required as the data is computed on the fly."
   ]
  },
  {
   "cell_type": "code",
   "execution_count": 23,
   "id": "dc945967-d009-4b72-aa8b-13b752e11bbb",
   "metadata": {
    "atoti": {
     "widget": {
      "filters": [],
      "mapping": {
       "columns": [
        "ALL_MEASURES"
       ],
       "measures": [
        "[Measures].[Margin]",
        "[Measures].[Cumulative margin]"
       ],
       "rows": [
        "[Sales].[Date].[Date]"
       ]
      },
      "query": {
       "mdx": "SELECT NON EMPTY Hierarchize(Descendants({[Sales].[Date].[AllMember]}, 1, SELF_AND_BEFORE)) ON ROWS, NON EMPTY {[Measures].[Margin], [Measures].[Cumulative margin]} ON COLUMNS FROM [sales cube] CELL PROPERTIES VALUE, FORMATTED_VALUE, BACK_COLOR, FORE_COLOR, FONT_FLAGS",
       "updateMode": "once"
      },
      "serverKey": "default",
      "switchedTo": "plotly-line-chart",
      "widgetKey": "tree-table"
     }
    },
    "tags": []
   },
   "outputs": [
    {
     "data": {
      "application/vnd.atoti.widget.v0+json": {
       "sessionId": "1743706670_169638",
       "sessionUrl": "http://localhost:58898",
       "widgetCreationCode": "session.widget"
      },
      "text/html": [
       "<img height=\"352\" width=\"1204\" src=\"data:image/png;base64,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\" />"
      ],
      "text/plain": [
       "Open the notebook in JupyterLab with the Atoti JupyterLab extension enabled to build this widget."
      ]
     },
     "metadata": {},
     "output_type": "display_data"
    }
   ],
   "source": [
    "session.widget"
   ]
  },
  {
   "cell_type": "code",
   "execution_count": 24,
   "id": "b76f6b23-2423-4c05-95fa-e7e54bdb1d67",
   "metadata": {
    "atoti": {
     "height": 390,
     "widget": {
      "columnWidths": {
       "[Measures].[Cumulative margin]": 165
      },
      "filters": [],
      "mapping": {
       "columns": [
        "ALL_MEASURES"
       ],
       "measures": [
        "[Measures].[Margin]",
        "[Measures].[Cumulative margin]"
       ],
       "rows": [
        "[Sales].[Date].[Date]"
       ]
      },
      "query": {
       "mdx": "SELECT NON EMPTY Hierarchize(Descendants({[Sales].[Date].[AllMember]}, 1, SELF_AND_BEFORE)) ON ROWS, NON EMPTY {[Measures].[Margin], [Measures].[Cumulative margin]} ON COLUMNS FROM [sales cube] CELL PROPERTIES VALUE, FORMATTED_VALUE, BACK_COLOR, FORE_COLOR, FONT_FLAGS",
       "updateMode": "once"
      },
      "serverKey": "default",
      "widgetKey": "pivot-table"
     }
    },
    "tags": []
   },
   "outputs": [
    {
     "data": {
      "application/vnd.atoti.widget.v0+json": {
       "sessionId": "1743706670_169638",
       "sessionUrl": "http://localhost:58898",
       "widgetCreationCode": "session.widget"
      },
      "text/html": [
       "<img height=\"382\" width=\"1204\" src=\"data:image/png;base64,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\" />"
      ],
      "text/plain": [
       "Open the notebook in JupyterLab with the Atoti JupyterLab extension enabled to build this widget."
      ]
     },
     "metadata": {},
     "output_type": "display_data"
    }
   ],
   "source": [
    "session.widget"
   ]
  },
  {
   "cell_type": "markdown",
   "id": "bfad2809-47d7-42e2-b9dc-bc24ecdbab03",
   "metadata": {},
   "source": [
    "Simply load the missing data into the cube and it will be computed automatically."
   ]
  },
  {
   "cell_type": "code",
   "execution_count": 25,
   "id": "57330a4f-f852-4104-858e-c5ca2d863386",
   "metadata": {},
   "outputs": [],
   "source": [
    "sales.load(tt.CsvLoad(\"s3://data.atoti.io/notebooks/multidimension/shop0_20210115.csv\"))"
   ]
  },
  {
   "cell_type": "markdown",
   "id": "098b95d9-8ce4-40af-b0f6-51015357490a",
   "metadata": {},
   "source": [
    "Re-running the last 2 visualizations should reflect the correct sales."
   ]
  },
  {
   "cell_type": "markdown",
   "id": "828ee921-d6a6-40f5-8df9-541687f22344",
   "metadata": {
    "editable": true,
    "slideshow": {
     "slide_type": ""
    },
    "tags": []
   },
   "source": [
    "<div style=\"text-align:center\"><a href=\"https://www.atoti.io/?utm_source=gallery&utm_content=multidimensional-analysis\" target=\"_blank\" rel=\"noopener noreferrer\"><img src=\"https://data.atoti.io/notebooks/banners/Your-turn-to-try-Atoti.jpg\" alt=\"Atoti table\" /></a></div>"
   ]
  }
 ],
 "metadata": {
  "kernelspec": {
   "display_name": "Python 3 (ipykernel)",
   "language": "python",
   "name": "python3"
  },
  "language_info": {
   "codemirror_mode": {
    "name": "ipython",
    "version": 3
   },
   "file_extension": ".py",
   "mimetype": "text/x-python",
   "name": "python",
   "nbconvert_exporter": "python",
   "pygments_lexer": "ipython3",
   "version": "3.11.10"
  },
  "widgets": {
   "application/vnd.jupyter.widget-state+json": {
    "state": {},
    "version_major": 2,
    "version_minor": 0
   }
  }
 },
 "nbformat": 4,
 "nbformat_minor": 5
}
