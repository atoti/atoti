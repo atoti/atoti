{
 "cells": [
  {
   "cell_type": "markdown",
   "id": "cb213d83-5c16-4b45-8967-abac205d0864",
   "metadata": {},
   "source": [
    "# Understanding Aggregate Providers"
   ]
  },
  {
   "cell_type": "markdown",
   "id": "5b16c953-ab3b-4667-809a-498dbb043444",
   "metadata": {},
   "source": [
    "An [aggregate provider](https://docs.atoti.io/latest/lib/atoti/atoti.aggregate_provider.aggregate_provider.html#atoti.AggregateProvider) precomputes and stores aggregates for the finest granularity of aggregation possible for certain hierarchies. This is also known as pre-aggregation. These intermediate aggregates are then stored in memory to speed up querying. \n",
    "\n",
    "In this notebook, we will look at how we can implement aggregate providers and how the performance varies with its addition.  \n",
    "\n",
    "<div style=\"text-align: center;\" ><a href=\"https://www.atoti.io/?utm_source=gallery&utm_content=aggregate-providers\" target=\"_blank\" rel=\"noopener noreferrer\"><img src=\"https://data.atoti.io/notebooks/banners/Discover-Atoti-now.png\" alt=\"Try atoti\"></a></div>"
   ]
  },
  {
   "cell_type": "code",
   "execution_count": 1,
   "id": "2fefdac5-fe75-4c51-bfe7-e11a4f623c12",
   "metadata": {
    "tags": []
   },
   "outputs": [],
   "source": [
    "import zipfile\n",
    "\n",
    "import wget\n",
    "from IPython.display import clear_output, display\n",
    "\n",
    "import atoti as tt"
   ]
  },
  {
   "cell_type": "code",
   "execution_count": 2,
   "id": "115f0050-162a-4922-8012-67517d3497b0",
   "metadata": {
    "tags": []
   },
   "outputs": [],
   "source": [
    "def download_data(filename=\"small_data.zip\"):\n",
    "    url = f\"https://data.atoti.io/notebooks/aggregate-provider/{filename}\"\n",
    "    filename = wget.download(url)\n",
    "\n",
    "    with zipfile.ZipFile(filename, \"r\") as zip_ref:\n",
    "        zip_ref.extractall()"
   ]
  },
  {
   "cell_type": "markdown",
   "id": "439adb00-b4dd-4993-90bb-f0000711b15d",
   "metadata": {
    "tags": []
   },
   "source": [
    "## Downloading Data\n",
    "\n",
    "In order to test out aggregate providers on a server hosted on a local machine, we prepared 2GB worth of data.  \n",
    "The below cell downloads a smaller dataset by default for testing purpose. Set `testing` to `False` to download the full dataset.  \n",
    "You can skip this if you already have the data downloaded.\n",
    "\n",
    "Note: You may have to start your JupyterLab with `--ServerApp.iopub_msg_rate_limit=1e10`"
   ]
  },
  {
   "cell_type": "code",
   "execution_count": 3,
   "id": "5e53eb1c-6c2d-4581-80f0-2435aa0df343",
   "metadata": {},
   "outputs": [
    {
     "name": "stdout",
     "output_type": "stream",
     "text": [
      "100% [......................................................................] 200865990 / 200865990"
     ]
    }
   ],
   "source": [
    "testing = True\n",
    "download_data(\"small_data.zip\" if testing else \"data.zip\")"
   ]
  },
  {
   "cell_type": "markdown",
   "id": "9b353081-c34e-4c12-85c4-1a0e8dee924c",
   "metadata": {},
   "source": [
    "## Creating Atoti cube"
   ]
  },
  {
   "cell_type": "markdown",
   "id": "42d3ff7c-96f6-499d-87d8-7564d186155e",
   "metadata": {},
   "source": [
    "In an Atoti session, the [JVM memory setting](https://docs.atoti.io/latest/lib/atoti/atoti.session.html#atoti.Session) is defaulted to 25% of the machine memory. However, we can restrict the maximum [Java heap memory allocation](https://docs.atoti.io/latest/deployment/deployment_setup.html#memory) to 4GB since we only have 2GB data.  "
   ]
  },
  {
   "cell_type": "code",
   "execution_count": 4,
   "id": "ad90651f-1e18-474e-a4a1-cc7ec8f6b556",
   "metadata": {},
   "outputs": [],
   "source": [
    "session = tt.Session(\n",
    "    java_options=[\"-Xmx4g\"],\n",
    ")\n",
    "\n",
    "trades_tbl = session.read_csv(\n",
    "    \"data/trades/TradePnLs*.csv\",\n",
    "    table_name=\"Trade PnL\",\n",
    "    keys=[\"AsOfDate\", \"TradeId\", \"BookId\", \"DataSet\"],\n",
    "    array_separator=\";\",\n",
    ")\n",
    "\n",
    "books_tbl = session.read_csv(\n",
    "    \"data/books/books_books.csv\", table_name=\"Books\", keys=[\"BOOKID\"]\n",
    ")\n",
    "\n",
    "trades_tbl.join(books_tbl, trades_tbl[\"BookId\"] == books_tbl[\"BOOKID\"])\n",
    "\n",
    "cube = session.create_cube(trades_tbl)"
   ]
  },
  {
   "cell_type": "markdown",
   "id": "a4ad5ef3-c6a7-41dd-a8c7-68acfcaef327",
   "metadata": {},
   "source": [
    "To truly test the performance of the aggregate providers, let's [disable caching and sharing](https://docs.atoti.io/latest/lib/atoti/atoti.aggregates_cache.html#atoti.aggregates_cache.AggregatesCache) by setting the `aggregates_cache.capacity` to `-1`."
   ]
  },
  {
   "cell_type": "code",
   "execution_count": 5,
   "id": "6adaa80d-74ed-4f17-958d-3eb450f40d43",
   "metadata": {},
   "outputs": [],
   "source": [
    "cube.aggregates_cache.capacity = -1"
   ]
  },
  {
   "cell_type": "markdown",
   "id": "aff8cb83-7e4a-4723-821a-cd89633c183f",
   "metadata": {},
   "source": [
    "In the default cube creation mode, only `pnl_vector` from the below schema will be created into measures.  \n",
    "The rest of the columns will be created as single-level hierarchies."
   ]
  },
  {
   "cell_type": "code",
   "execution_count": 6,
   "id": "340ebc1b-b654-4931-b995-e62384de63ec",
   "metadata": {},
   "outputs": [
    {
     "data": {
      "image/svg+xml": [
       "<svg xmlns=\"http://www.w3.org/2000/svg\" xmlns:xlink=\"http://www.w3.org/1999/xlink\" width=\"628px\" height=\"274px\" viewBox=\"0.00 0.00 628.25 274.00\">\n",
       "<g id=\"graph0\" class=\"graph\" transform=\"scale(1.0 1.0) rotate(0) translate(4 270)\">\n",
       "<title>Datastore schema</title>\n",
       "<polygon fill=\"white\" stroke=\"none\" points=\"-4,4 -4,-270 624.25,-270 624.25,4 -4,4\"/>\n",
       "<!-- Trade PnL -->\n",
       "<g id=\"node1\" class=\"node\">\n",
       "<title>Trade PnL</title>\n",
       "<text text-anchor=\"start\" x=\"80.75\" y=\"-244.65\" font-family=\"-apple-system, BlinkMacSystemFont, 'Segoe UI', Helvetica, Arial, sans-serif, 'Apple Color Emoji', 'Segoe UI Emoji', 'Segoe UI Symbol'\" font-weight=\"bold\" font-size=\"13.00\">Trade PnL</text>\n",
       "<text text-anchor=\"start\" x=\"56.38\" y=\"-218.65\" font-family=\"-apple-system, BlinkMacSystemFont, 'Segoe UI', Helvetica, Arial, sans-serif, 'Apple Color Emoji', 'Segoe UI Emoji', 'Segoe UI Symbol'\" font-size=\"13.00\">base of: Trade PnL</text>\n",
       "<polygon fill=\"#f5f5f5\" stroke=\"none\" points=\"9,-189 9,-212 41,-212 41,-189 9,-189\"/>\n",
       "<text text-anchor=\"start\" x=\"13.75\" y=\"-195.65\" font-family=\"-apple-system, BlinkMacSystemFont, 'Segoe UI', Helvetica, Arial, sans-serif, 'Apple Color Emoji', 'Segoe UI Emoji', 'Segoe UI Symbol'\" font-weight=\"bold\" font-size=\"13.00\">key</text>\n",
       "<polygon fill=\"#f5f5f5\" stroke=\"none\" points=\"41,-189 41,-212 147,-212 147,-189 41,-189\"/>\n",
       "<text text-anchor=\"start\" x=\"46\" y=\"-194.65\" font-family=\"-apple-system, BlinkMacSystemFont, 'Segoe UI', Helvetica, Arial, sans-serif, 'Apple Color Emoji', 'Segoe UI Emoji', 'Segoe UI Symbol'\" font-size=\"13.00\">BookId</text>\n",
       "<polygon fill=\"#f5f5f5\" stroke=\"none\" points=\"147,-189 147,-212 217,-212 217,-189 147,-189\"/>\n",
       "<text text-anchor=\"start\" x=\"197.75\" y=\"-195.65\" font-family=\"-apple-system, BlinkMacSystemFont, 'Segoe UI', Helvetica, Arial, sans-serif, 'Apple Color Emoji', 'Segoe UI Emoji', 'Segoe UI Symbol'\" font-style=\"italic\" font-size=\"13.00\">int</text>\n",
       "<polygon fill=\"#ffffff\" stroke=\"none\" points=\"9,-166 9,-189 41,-189 41,-166 9,-166\"/>\n",
       "<text text-anchor=\"start\" x=\"13.75\" y=\"-172.65\" font-family=\"-apple-system, BlinkMacSystemFont, 'Segoe UI', Helvetica, Arial, sans-serif, 'Apple Color Emoji', 'Segoe UI Emoji', 'Segoe UI Symbol'\" font-weight=\"bold\" font-size=\"13.00\">key</text>\n",
       "<polygon fill=\"#ffffff\" stroke=\"none\" points=\"41,-166 41,-189 147,-189 147,-166 41,-166\"/>\n",
       "<text text-anchor=\"start\" x=\"46\" y=\"-171.65\" font-family=\"-apple-system, BlinkMacSystemFont, 'Segoe UI', Helvetica, Arial, sans-serif, 'Apple Color Emoji', 'Segoe UI Emoji', 'Segoe UI Symbol'\" font-size=\"13.00\">AsOfDate</text>\n",
       "<polygon fill=\"#ffffff\" stroke=\"none\" points=\"147,-166 147,-189 217,-189 217,-166 147,-166\"/>\n",
       "<text text-anchor=\"start\" x=\"151.62\" y=\"-172.65\" font-family=\"-apple-system, BlinkMacSystemFont, 'Segoe UI', Helvetica, Arial, sans-serif, 'Apple Color Emoji', 'Segoe UI Emoji', 'Segoe UI Symbol'\" font-style=\"italic\" font-size=\"13.00\">LocalDate</text>\n",
       "<polygon fill=\"#f5f5f5\" stroke=\"none\" points=\"9,-143 9,-166 41,-166 41,-143 9,-143\"/>\n",
       "<text text-anchor=\"start\" x=\"13.75\" y=\"-149.65\" font-family=\"-apple-system, BlinkMacSystemFont, 'Segoe UI', Helvetica, Arial, sans-serif, 'Apple Color Emoji', 'Segoe UI Emoji', 'Segoe UI Symbol'\" font-weight=\"bold\" font-size=\"13.00\">key</text>\n",
       "<polygon fill=\"#f5f5f5\" stroke=\"none\" points=\"41,-143 41,-166 147,-166 147,-143 41,-143\"/>\n",
       "<text text-anchor=\"start\" x=\"46\" y=\"-148.65\" font-family=\"-apple-system, BlinkMacSystemFont, 'Segoe UI', Helvetica, Arial, sans-serif, 'Apple Color Emoji', 'Segoe UI Emoji', 'Segoe UI Symbol'\" font-size=\"13.00\">TradeId</text>\n",
       "<polygon fill=\"#f5f5f5\" stroke=\"none\" points=\"147,-143 147,-166 217,-166 217,-143 147,-143\"/>\n",
       "<text text-anchor=\"start\" x=\"179\" y=\"-149.65\" font-family=\"-apple-system, BlinkMacSystemFont, 'Segoe UI', Helvetica, Arial, sans-serif, 'Apple Color Emoji', 'Segoe UI Emoji', 'Segoe UI Symbol'\" font-style=\"italic\" font-size=\"13.00\">string</text>\n",
       "<polygon fill=\"#ffffff\" stroke=\"none\" points=\"9,-120 9,-143 41,-143 41,-120 9,-120\"/>\n",
       "<text text-anchor=\"start\" x=\"13.75\" y=\"-126.65\" font-family=\"-apple-system, BlinkMacSystemFont, 'Segoe UI', Helvetica, Arial, sans-serif, 'Apple Color Emoji', 'Segoe UI Emoji', 'Segoe UI Symbol'\" font-weight=\"bold\" font-size=\"13.00\">key</text>\n",
       "<polygon fill=\"#ffffff\" stroke=\"none\" points=\"41,-120 41,-143 147,-143 147,-120 41,-120\"/>\n",
       "<text text-anchor=\"start\" x=\"46\" y=\"-125.65\" font-family=\"-apple-system, BlinkMacSystemFont, 'Segoe UI', Helvetica, Arial, sans-serif, 'Apple Color Emoji', 'Segoe UI Emoji', 'Segoe UI Symbol'\" font-size=\"13.00\">DataSet</text>\n",
       "<polygon fill=\"#ffffff\" stroke=\"none\" points=\"147,-120 147,-143 217,-143 217,-120 147,-120\"/>\n",
       "<text text-anchor=\"start\" x=\"179\" y=\"-126.65\" font-family=\"-apple-system, BlinkMacSystemFont, 'Segoe UI', Helvetica, Arial, sans-serif, 'Apple Color Emoji', 'Segoe UI Emoji', 'Segoe UI Symbol'\" font-style=\"italic\" font-size=\"13.00\">string</text>\n",
       "<polygon fill=\"#f5f5f5\" stroke=\"none\" points=\"9,-97 9,-120 41,-120 41,-97 9,-97\"/>\n",
       "<polygon fill=\"#f5f5f5\" stroke=\"none\" points=\"41,-97 41,-120 147,-120 147,-97 41,-97\"/>\n",
       "<text text-anchor=\"start\" x=\"46\" y=\"-102.65\" font-family=\"-apple-system, BlinkMacSystemFont, 'Segoe UI', Helvetica, Arial, sans-serif, 'Apple Color Emoji', 'Segoe UI Emoji', 'Segoe UI Symbol'\" font-size=\"13.00\">RiskFactor</text>\n",
       "<polygon fill=\"#f5f5f5\" stroke=\"none\" points=\"147,-97 147,-120 217,-120 217,-97 147,-97\"/>\n",
       "<text text-anchor=\"start\" x=\"179\" y=\"-103.65\" font-family=\"-apple-system, BlinkMacSystemFont, 'Segoe UI', Helvetica, Arial, sans-serif, 'Apple Color Emoji', 'Segoe UI Emoji', 'Segoe UI Symbol'\" font-style=\"italic\" font-size=\"13.00\">string</text>\n",
       "<polygon fill=\"#ffffff\" stroke=\"none\" points=\"9,-74 9,-97 41,-97 41,-74 9,-74\"/>\n",
       "<polygon fill=\"#ffffff\" stroke=\"none\" points=\"41,-74 41,-97 147,-97 147,-74 41,-74\"/>\n",
       "<text text-anchor=\"start\" x=\"46\" y=\"-79.65\" font-family=\"-apple-system, BlinkMacSystemFont, 'Segoe UI', Helvetica, Arial, sans-serif, 'Apple Color Emoji', 'Segoe UI Emoji', 'Segoe UI Symbol'\" font-size=\"13.00\">RiskClass</text>\n",
       "<polygon fill=\"#ffffff\" stroke=\"none\" points=\"147,-74 147,-97 217,-97 217,-74 147,-74\"/>\n",
       "<text text-anchor=\"start\" x=\"179\" y=\"-80.65\" font-family=\"-apple-system, BlinkMacSystemFont, 'Segoe UI', Helvetica, Arial, sans-serif, 'Apple Color Emoji', 'Segoe UI Emoji', 'Segoe UI Symbol'\" font-style=\"italic\" font-size=\"13.00\">string</text>\n",
       "<polygon fill=\"#f5f5f5\" stroke=\"none\" points=\"9,-51 9,-74 41,-74 41,-51 9,-51\"/>\n",
       "<polygon fill=\"#f5f5f5\" stroke=\"none\" points=\"41,-51 41,-74 147,-74 147,-51 41,-51\"/>\n",
       "<text text-anchor=\"start\" x=\"46\" y=\"-56.65\" font-family=\"-apple-system, BlinkMacSystemFont, 'Segoe UI', Helvetica, Arial, sans-serif, 'Apple Color Emoji', 'Segoe UI Emoji', 'Segoe UI Symbol'\" font-size=\"13.00\">SensitivityName</text>\n",
       "<polygon fill=\"#f5f5f5\" stroke=\"none\" points=\"147,-51 147,-74 217,-74 217,-51 147,-51\"/>\n",
       "<text text-anchor=\"start\" x=\"179\" y=\"-57.65\" font-family=\"-apple-system, BlinkMacSystemFont, 'Segoe UI', Helvetica, Arial, sans-serif, 'Apple Color Emoji', 'Segoe UI Emoji', 'Segoe UI Symbol'\" font-style=\"italic\" font-size=\"13.00\">string</text>\n",
       "<polygon fill=\"#ffffff\" stroke=\"none\" points=\"9,-28 9,-51 41,-51 41,-28 9,-28\"/>\n",
       "<polygon fill=\"#ffffff\" stroke=\"none\" points=\"41,-28 41,-51 147,-51 147,-28 41,-28\"/>\n",
       "<text text-anchor=\"start\" x=\"46\" y=\"-33.65\" font-family=\"-apple-system, BlinkMacSystemFont, 'Segoe UI', Helvetica, Arial, sans-serif, 'Apple Color Emoji', 'Segoe UI Emoji', 'Segoe UI Symbol'\" font-size=\"13.00\">ccy</text>\n",
       "<polygon fill=\"#ffffff\" stroke=\"none\" points=\"147,-28 147,-51 217,-51 217,-28 147,-28\"/>\n",
       "<text text-anchor=\"start\" x=\"179\" y=\"-34.65\" font-family=\"-apple-system, BlinkMacSystemFont, 'Segoe UI', Helvetica, Arial, sans-serif, 'Apple Color Emoji', 'Segoe UI Emoji', 'Segoe UI Symbol'\" font-style=\"italic\" font-size=\"13.00\">string</text>\n",
       "<polygon fill=\"#f5f5f5\" stroke=\"none\" points=\"9,-5 9,-28 41,-28 41,-5 9,-5\"/>\n",
       "<polygon fill=\"#f5f5f5\" stroke=\"none\" points=\"41,-5 41,-28 147,-28 147,-5 41,-5\"/>\n",
       "<text text-anchor=\"start\" x=\"46\" y=\"-10.65\" font-family=\"-apple-system, BlinkMacSystemFont, 'Segoe UI', Helvetica, Arial, sans-serif, 'Apple Color Emoji', 'Segoe UI Emoji', 'Segoe UI Symbol'\" font-size=\"13.00\">pnl_vector</text>\n",
       "<polygon fill=\"#f5f5f5\" stroke=\"none\" points=\"147,-5 147,-28 217,-28 217,-5 147,-5\"/>\n",
       "<text text-anchor=\"start\" x=\"164\" y=\"-11.65\" font-family=\"-apple-system, BlinkMacSystemFont, 'Segoe UI', Helvetica, Arial, sans-serif, 'Apple Color Emoji', 'Segoe UI Emoji', 'Segoe UI Symbol'\" font-style=\"italic\" font-size=\"13.00\">double[]</text>\n",
       "<polygon fill=\"none\" stroke=\"black\" points=\"8,-4 8,-262 218,-262 218,-4 8,-4\"/>\n",
       "</g>\n",
       "<!-- Books -->\n",
       "<g id=\"node2\" class=\"node\">\n",
       "<title>Books</title>\n",
       "<text text-anchor=\"start\" x=\"477.12\" y=\"-185.65\" font-family=\"-apple-system, BlinkMacSystemFont, 'Segoe UI', Helvetica, Arial, sans-serif, 'Apple Color Emoji', 'Segoe UI Emoji', 'Segoe UI Symbol'\" font-weight=\"bold\" font-size=\"13.00\">Books</text>\n",
       "<polygon fill=\"#f5f5f5\" stroke=\"none\" points=\"384.25,-156 384.25,-179 416.25,-179 416.25,-156 384.25,-156\"/>\n",
       "<text text-anchor=\"start\" x=\"389\" y=\"-162.65\" font-family=\"-apple-system, BlinkMacSystemFont, 'Segoe UI', Helvetica, Arial, sans-serif, 'Apple Color Emoji', 'Segoe UI Emoji', 'Segoe UI Symbol'\" font-weight=\"bold\" font-size=\"13.00\">key</text>\n",
       "<polygon fill=\"#f5f5f5\" stroke=\"none\" points=\"416.25,-156 416.25,-179 568.25,-179 568.25,-156 416.25,-156\"/>\n",
       "<text text-anchor=\"start\" x=\"421.25\" y=\"-161.65\" font-family=\"-apple-system, BlinkMacSystemFont, 'Segoe UI', Helvetica, Arial, sans-serif, 'Apple Color Emoji', 'Segoe UI Emoji', 'Segoe UI Symbol'\" font-size=\"13.00\">BOOKID</text>\n",
       "<polygon fill=\"#f5f5f5\" stroke=\"none\" points=\"568.25,-156 568.25,-179 611.25,-179 611.25,-156 568.25,-156\"/>\n",
       "<text text-anchor=\"start\" x=\"592\" y=\"-162.65\" font-family=\"-apple-system, BlinkMacSystemFont, 'Segoe UI', Helvetica, Arial, sans-serif, 'Apple Color Emoji', 'Segoe UI Emoji', 'Segoe UI Symbol'\" font-style=\"italic\" font-size=\"13.00\">int</text>\n",
       "<polygon fill=\"#ffffff\" stroke=\"none\" points=\"384.25,-133 384.25,-156 416.25,-156 416.25,-133 384.25,-133\"/>\n",
       "<polygon fill=\"#ffffff\" stroke=\"none\" points=\"416.25,-133 416.25,-156 568.25,-156 568.25,-133 416.25,-133\"/>\n",
       "<text text-anchor=\"start\" x=\"421.25\" y=\"-138.65\" font-family=\"-apple-system, BlinkMacSystemFont, 'Segoe UI', Helvetica, Arial, sans-serif, 'Apple Color Emoji', 'Segoe UI Emoji', 'Segoe UI Symbol'\" font-size=\"13.00\">BOOK</text>\n",
       "<polygon fill=\"#ffffff\" stroke=\"none\" points=\"568.25,-133 568.25,-156 611.25,-156 611.25,-133 568.25,-133\"/>\n",
       "<text text-anchor=\"start\" x=\"573.25\" y=\"-139.65\" font-family=\"-apple-system, BlinkMacSystemFont, 'Segoe UI', Helvetica, Arial, sans-serif, 'Apple Color Emoji', 'Segoe UI Emoji', 'Segoe UI Symbol'\" font-style=\"italic\" font-size=\"13.00\">string</text>\n",
       "<polygon fill=\"#f5f5f5\" stroke=\"none\" points=\"384.25,-110 384.25,-133 416.25,-133 416.25,-110 384.25,-110\"/>\n",
       "<polygon fill=\"#f5f5f5\" stroke=\"none\" points=\"416.25,-110 416.25,-133 568.25,-133 568.25,-110 416.25,-110\"/>\n",
       "<text text-anchor=\"start\" x=\"421.25\" y=\"-115.65\" font-family=\"-apple-system, BlinkMacSystemFont, 'Segoe UI', Helvetica, Arial, sans-serif, 'Apple Color Emoji', 'Segoe UI Emoji', 'Segoe UI Symbol'\" font-size=\"13.00\">TRADING_DESK</text>\n",
       "<polygon fill=\"#f5f5f5\" stroke=\"none\" points=\"568.25,-110 568.25,-133 611.25,-133 611.25,-110 568.25,-110\"/>\n",
       "<text text-anchor=\"start\" x=\"573.25\" y=\"-116.65\" font-family=\"-apple-system, BlinkMacSystemFont, 'Segoe UI', Helvetica, Arial, sans-serif, 'Apple Color Emoji', 'Segoe UI Emoji', 'Segoe UI Symbol'\" font-style=\"italic\" font-size=\"13.00\">string</text>\n",
       "<polygon fill=\"#ffffff\" stroke=\"none\" points=\"384.25,-87 384.25,-110 416.25,-110 416.25,-87 384.25,-87\"/>\n",
       "<polygon fill=\"#ffffff\" stroke=\"none\" points=\"416.25,-87 416.25,-110 568.25,-110 568.25,-87 416.25,-87\"/>\n",
       "<text text-anchor=\"start\" x=\"421\" y=\"-92.65\" font-family=\"-apple-system, BlinkMacSystemFont, 'Segoe UI', Helvetica, Arial, sans-serif, 'Apple Color Emoji', 'Segoe UI Emoji', 'Segoe UI Symbol'\" font-size=\"13.00\">SUB_BUSINESS_UNIT</text>\n",
       "<polygon fill=\"#ffffff\" stroke=\"none\" points=\"568.25,-87 568.25,-110 611.25,-110 611.25,-87 568.25,-87\"/>\n",
       "<text text-anchor=\"start\" x=\"573.25\" y=\"-93.65\" font-family=\"-apple-system, BlinkMacSystemFont, 'Segoe UI', Helvetica, Arial, sans-serif, 'Apple Color Emoji', 'Segoe UI Emoji', 'Segoe UI Symbol'\" font-style=\"italic\" font-size=\"13.00\">string</text>\n",
       "<polygon fill=\"#f5f5f5\" stroke=\"none\" points=\"384.25,-64 384.25,-87 416.25,-87 416.25,-64 384.25,-64\"/>\n",
       "<polygon fill=\"#f5f5f5\" stroke=\"none\" points=\"416.25,-64 416.25,-87 568.25,-87 568.25,-64 416.25,-64\"/>\n",
       "<text text-anchor=\"start\" x=\"421.25\" y=\"-69.65\" font-family=\"-apple-system, BlinkMacSystemFont, 'Segoe UI', Helvetica, Arial, sans-serif, 'Apple Color Emoji', 'Segoe UI Emoji', 'Segoe UI Symbol'\" font-size=\"13.00\">BUSINESS_UNIT</text>\n",
       "<polygon fill=\"#f5f5f5\" stroke=\"none\" points=\"568.25,-64 568.25,-87 611.25,-87 611.25,-64 568.25,-64\"/>\n",
       "<text text-anchor=\"start\" x=\"573.25\" y=\"-70.65\" font-family=\"-apple-system, BlinkMacSystemFont, 'Segoe UI', Helvetica, Arial, sans-serif, 'Apple Color Emoji', 'Segoe UI Emoji', 'Segoe UI Symbol'\" font-style=\"italic\" font-size=\"13.00\">string</text>\n",
       "<polygon fill=\"none\" stroke=\"black\" points=\"383.25,-63 383.25,-203 612.25,-203 612.25,-63 383.25,-63\"/>\n",
       "</g>\n",
       "<!-- Trade PnL&#45;&gt;Books -->\n",
       "<g id=\"edge1\" class=\"edge\">\n",
       "<title>Trade PnL-&gt;Books</title>\n",
       "<path fill=\"none\" stroke=\"black\" d=\"M225.99,-133C269.21,-133 319,-133 363.99,-133\"/>\n",
       "<polygon fill=\"black\" stroke=\"black\" points=\"363.81,-136.5 373.81,-133 363.81,-129.5 363.81,-136.5\"/>\n",
       "<text text-anchor=\"middle\" x=\"300.62\" y=\"-135.65\" font-family=\"-apple-system, BlinkMacSystemFont, 'Segoe UI', Helvetica, Arial, sans-serif, 'Apple Color Emoji', 'Segoe UI Emoji', 'Segoe UI Symbol'\" font-size=\"13.00\">BookId → BOOKID</text>\n",
       "</g>\n",
       "</g>\n",
       "</svg>"
      ],
      "text/plain": [
       "<IPython.core.display.SVG object>"
      ]
     },
     "execution_count": 6,
     "metadata": {},
     "output_type": "execute_result"
    }
   ],
   "source": [
    "session.tables.schema"
   ]
  },
  {
   "cell_type": "code",
   "execution_count": 7,
   "id": "502186f1-0a44-400d-8ab2-190fcd737f7a",
   "metadata": {},
   "outputs": [
    {
     "data": {
      "application/json": {
       "Dimensions": {
        "Books": {
         "BOOK": [
          "BOOK"
         ],
         "BUSINESS_UNIT": [
          "BUSINESS_UNIT"
         ],
         "SUB_BUSINESS_UNIT": [
          "SUB_BUSINESS_UNIT"
         ],
         "TRADING_DESK": [
          "TRADING_DESK"
         ]
        },
        "Trade PnL": {
         "AsOfDate": [
          "AsOfDate"
         ],
         "BookId": [
          "BookId"
         ],
         "DataSet": [
          "DataSet"
         ],
         "RiskClass": [
          "RiskClass"
         ],
         "RiskFactor": [
          "RiskFactor"
         ],
         "SensitivityName": [
          "SensitivityName"
         ],
         "TradeId": [
          "TradeId"
         ],
         "ccy": [
          "ccy"
         ]
        }
       },
       "Measures": {
        "contributors.COUNT": {
         "formatter": "INT[#,###]"
        },
        "pnl_vector.MEAN": {
         "formatter": null
        },
        "pnl_vector.SUM": {
         "formatter": null
        }
       }
      },
      "text/html": [
       "<ul>\n",
       "<li>Trade PnL\n",
       "  <ul>\n",
       "  <li>Dimensions\n",
       "    <ul>\n",
       "    <li>Books\n",
       "      <ul>\n",
       "      <li>BOOK\n",
       "        <ol>\n",
       "        <li>BOOK</li>\n",
       "        </ol>      </li>\n",
       "      <li>BUSINESS_UNIT\n",
       "        <ol>\n",
       "        <li>BUSINESS_UNIT</li>\n",
       "        </ol>      </li>\n",
       "      <li>SUB_BUSINESS_UNIT\n",
       "        <ol>\n",
       "        <li>SUB_BUSINESS_UNIT</li>\n",
       "        </ol>      </li>\n",
       "      <li>TRADING_DESK\n",
       "        <ol>\n",
       "        <li>TRADING_DESK</li>\n",
       "        </ol>      </li>\n",
       "      </ul>\n",
       "    </li>\n",
       "    <li>Trade PnL\n",
       "      <ul>\n",
       "      <li>AsOfDate\n",
       "        <ol>\n",
       "        <li>AsOfDate</li>\n",
       "        </ol>      </li>\n",
       "      <li>BookId\n",
       "        <ol>\n",
       "        <li>BookId</li>\n",
       "        </ol>      </li>\n",
       "      <li>DataSet\n",
       "        <ol>\n",
       "        <li>DataSet</li>\n",
       "        </ol>      </li>\n",
       "      <li>RiskClass\n",
       "        <ol>\n",
       "        <li>RiskClass</li>\n",
       "        </ol>      </li>\n",
       "      <li>RiskFactor\n",
       "        <ol>\n",
       "        <li>RiskFactor</li>\n",
       "        </ol>      </li>\n",
       "      <li>SensitivityName\n",
       "        <ol>\n",
       "        <li>SensitivityName</li>\n",
       "        </ol>      </li>\n",
       "      <li>TradeId\n",
       "        <ol>\n",
       "        <li>TradeId</li>\n",
       "        </ol>      </li>\n",
       "      <li>ccy\n",
       "        <ol>\n",
       "        <li>ccy</li>\n",
       "        </ol>      </li>\n",
       "      </ul>\n",
       "    </li>\n",
       "    </ul>\n",
       "  </li>\n",
       "  <li>Measures\n",
       "    <ul>\n",
       "    <li>contributors.COUNT\n",
       "      <ul>\n",
       "      <li>formatter: INT[#,###]</li>\n",
       "      </ul>\n",
       "    </li>\n",
       "    <li>pnl_vector.MEAN\n",
       "      <ul>\n",
       "      <li>formatter: None</li>\n",
       "      </ul>\n",
       "    </li>\n",
       "    <li>pnl_vector.SUM\n",
       "      <ul>\n",
       "      <li>formatter: None</li>\n",
       "      </ul>\n",
       "    </li>\n",
       "    </ul>\n",
       "  </li>\n",
       "  </ul>\n",
       "</li>\n",
       "</ul>\n"
      ],
      "text/plain": [
       "<atoti.cube.Cube at 0x130bbae50>"
      ]
     },
     "execution_count": 7,
     "metadata": {
      "application/json": {
       "expanded": false,
       "root": "Trade PnL"
      }
     },
     "output_type": "execute_result"
    }
   ],
   "source": [
    "cube"
   ]
  },
  {
   "cell_type": "code",
   "execution_count": 8,
   "id": "0e8328f8-649d-43b5-b950-7f298380e69f",
   "metadata": {},
   "outputs": [],
   "source": [
    "h, l, m = cube.hierarchies, cube.levels, cube.measures"
   ]
  },
  {
   "cell_type": "markdown",
   "id": "50b9950f-a349-48bf-9f73-fc0c7541029f",
   "metadata": {},
   "source": [
    "## Primitive measures vs measures created from UDF"
   ]
  },
  {
   "cell_type": "markdown",
   "id": "d4d255eb-b0a7-4d3c-9195-dc1bb1c349b4",
   "metadata": {},
   "source": [
    "`pnl_vector.SUM` and `pnl_vector.MEAN` are primitive measures that were created automatically during cube creation.  \n",
    "They can also be created as follows:\n",
    "\n",
    "```python\n",
    "m[\"pnl_vector.SUM\"] = tt.agg.sum(trades_tbl[\"pnl_vector\"])\n",
    "m[\"pnl_vector.MEAN\"] = tt.agg.mean(trades_tbl[\"pnl_vector\"])\n",
    "```\n",
    "\n",
    "We can see that these measures are created from the underlying facts that contributes to the cube. In the next section, we will look at measures created from user defined functions (UDF).\n",
    "\n",
    "💡**It is important to understand the difference between the two type of measures as we can only use the primitive measures with aggregate provider.**"
   ]
  },
  {
   "cell_type": "markdown",
   "id": "7739578e-d047-44e6-994a-736e36bee5fd",
   "metadata": {},
   "source": [
    "### Computing VaR 95 with user defined function\n",
    "\n",
    "Since we have the `pnl_vector.SUM` which is the sum of the profit and loss (PnL) value for each historical date, we define the formula of [value at risk (VaR)](https://www.investopedia.com/articles/04/092904.asp) at 95% confidence level as follows:"
   ]
  },
  {
   "cell_type": "code",
   "execution_count": 9,
   "id": "8905dbd1-fbbe-443c-a3ea-2712308a6b63",
   "metadata": {},
   "outputs": [],
   "source": [
    "m[\"VaR95\"] = tt.array.quantile(m[\"pnl_vector.SUM\"], 1 - 0.95)"
   ]
  },
  {
   "cell_type": "markdown",
   "id": "b7f8056e-841a-46df-b7df-93d7cff1c76d",
   "metadata": {},
   "source": [
    "We formulate our computation of `VaR95` on top of the primitive measure `pnl_vector.SUM`.   \n",
    "Depending on the query, `VaR95` is computed on the fly for each level in the query."
   ]
  },
  {
   "cell_type": "code",
   "execution_count": 10,
   "id": "21c1b63d-45bd-43a2-a9fa-b1f40d24c318",
   "metadata": {
    "atoti": {
     "widget": {
      "mapping": {
       "columns": [
        "ALL_MEASURES"
       ],
       "measures": [
        "[Measures].[VaR95]"
       ],
       "rows": [
        "[Trade PnL].[AsOfDate].[AsOfDate] => [Books].[BUSINESS_UNIT].[BUSINESS_UNIT]"
       ]
      },
      "name": "Available report dates",
      "query": {
       "mdx": "SELECT NON EMPTY Hierarchize(Union(Crossjoin(Descendants({[Trade PnL].[AsOfDate].[AllMember]}, 1, SELF_AND_BEFORE), [Books].[BUSINESS_UNIT].DefaultMember), Crossjoin([Trade PnL].[AsOfDate].[AllMember].[2021-02-22], Hierarchize(Descendants({[Books].[BUSINESS_UNIT].[AllMember]}, 1, SELF_AND_BEFORE))))) ON ROWS, NON EMPTY {[Measures].[VaR95]} ON COLUMNS FROM [Trade PnL] CELL PROPERTIES VALUE, FORMATTED_VALUE, BACK_COLOR, FORE_COLOR, FONT_FLAGS",
       "updateMode": "once"
      },
      "serverKey": "default",
      "widgetKey": "pivot-table"
     }
    },
    "tags": []
   },
   "outputs": [
    {
     "data": {
      "application/vnd.atoti.widget.v0+json": {
       "sessionId": "1704401966_UII4QK",
       "sessionLocation": {
        "https": false,
        "port": 50314
       },
       "widgetCreationCode": "session.widget"
      },
      "text/html": [
       "<img height=\"352\" width=\"1194\" src=\"data:image/png;base64,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\" />"
      ],
      "text/plain": [
       "Open the notebook in JupyterLab with the Atoti JupyterLab extension enabled to build this widget."
      ]
     },
     "metadata": {},
     "output_type": "display_data"
    }
   ],
   "source": [
    "session.widget"
   ]
  },
  {
   "cell_type": "markdown",
   "id": "d60e72a7-d575-4ad9-9daf-f304b19a4e3d",
   "metadata": {},
   "source": [
    "## Timing our performance without aggregate provider"
   ]
  },
  {
   "cell_type": "markdown",
   "id": "e4586429-f18f-4c46-9cbd-45e59a9d5fbc",
   "metadata": {},
   "source": [
    "Let's capture the performance of our queries before we proceed to create our aggregate provider."
   ]
  },
  {
   "cell_type": "code",
   "execution_count": 11,
   "id": "7a237ed8-ed61-4152-9d15-e9633749f72a",
   "metadata": {
    "tags": []
   },
   "outputs": [
    {
     "name": "stdout",
     "output_type": "stream",
     "text": [
      "CPU times: user 10.3 ms, sys: 4.88 ms, total: 15.2 ms\n",
      "Wall time: 326 ms\n"
     ]
    },
    {
     "data": {
      "text/html": [
       "<div>\n",
       "<style scoped>\n",
       "    .dataframe tbody tr th:only-of-type {\n",
       "        vertical-align: middle;\n",
       "    }\n",
       "\n",
       "    .dataframe tbody tr th {\n",
       "        vertical-align: top;\n",
       "    }\n",
       "\n",
       "    .dataframe thead th {\n",
       "        text-align: right;\n",
       "    }\n",
       "</style>\n",
       "<table border=\"1\" class=\"dataframe\">\n",
       "  <thead>\n",
       "    <tr style=\"text-align: right;\">\n",
       "      <th></th>\n",
       "      <th>VaR95</th>\n",
       "    </tr>\n",
       "  </thead>\n",
       "  <tbody>\n",
       "  </tbody>\n",
       "</table>\n",
       "</div>"
      ],
      "text/plain": [
       "Empty DataFrame\n",
       "Columns: [VaR95]\n",
       "Index: []"
      ]
     },
     "execution_count": 11,
     "metadata": {},
     "output_type": "execute_result"
    }
   ],
   "source": [
    "%%time\n",
    "cube.query(\n",
    "    m[\"VaR95\"],\n",
    "    levels=[l[\"BUSINESS_UNIT\"], l[\"SUB_BUSINESS_UNIT\"], l[\"TRADING_DESK\"]],\n",
    "    filter=(l[\"AsOfDate\"] == \"2021-03-01\"),\n",
    ")"
   ]
  },
  {
   "cell_type": "markdown",
   "id": "780646ad-7fd3-477f-b81a-bb9964486aba",
   "metadata": {},
   "source": [
    "## Creating aggregate provider"
   ]
  },
  {
   "cell_type": "code",
   "execution_count": 12,
   "id": "2e834d0b-d343-4ea0-bc8c-5caffe9a1a67",
   "metadata": {},
   "outputs": [],
   "source": [
    "from datetime import date\n",
    "\n",
    "current_date = date(2021, 3, 1)"
   ]
  },
  {
   "cell_type": "markdown",
   "id": "cb99bbbb-fb01-4f91-b04d-7a30662f4d6a",
   "metadata": {},
   "source": [
    "### Type of aggregate providers\n",
    "\n",
    "We named our aggregate provider `PnL provider` and used a **Bitmap aggregate provider** instead of the default **Leaf aggregate provider**:\n",
    "\n",
    "- bitmap: Bitmap aggregate provider\n",
    "\n",
    "> Bitmap aggregate provider computes on-the-fly at query time using the multidimensional bitmap indexing. It is generally faster but it takes more memory.\n",
    "\n",
    "- leaf: Leaf aggregate provider (default)\n",
    "\n",
    "> Leaf aggregate provider maintains a dictionary of index tuples, known as the point index. It computes on the fly at query time via efficient compilation and bitmap operations. Its performance is generally slightly slower than that of the Bitmap aggregate provider. However, since it doesn’t store the bitmap index, it has a lower memory cost.\n",
    "\n",
    "Without our self-defined aggregate provider, Atoti uses the **JUST IN TIME (JIT) aggregate provider** to retrieve its aggregate directly from the data tables as required during runtime. There is no pre-computation of aggregates, therefore queries are slower."
   ]
  },
  {
   "cell_type": "code",
   "execution_count": 13,
   "id": "bec05170-65d2-41e4-bfd7-0513df973e71",
   "metadata": {},
   "outputs": [],
   "source": [
    "cube.aggregate_providers.update(\n",
    "    {\n",
    "        \"PnL provider\": tt.AggregateProvider(\n",
    "            key=\"bitmap\",\n",
    "            levels=[\n",
    "                l[\"AsOfDate\"],\n",
    "                l[\"BUSINESS_UNIT\"],\n",
    "                l[\"SUB_BUSINESS_UNIT\"],\n",
    "                l[\"TRADING_DESK\"],\n",
    "            ],\n",
    "            measures=[m[\"pnl_vector.SUM\"]],\n",
    "            filter=(l[\"AsOfDate\"] == current_date),\n",
    "        )\n",
    "    }\n",
    ")"
   ]
  },
  {
   "cell_type": "markdown",
   "id": "7ddb0bbe-4ffc-4b14-87d6-3238db315402",
   "metadata": {},
   "source": [
    "### Filtering data\n",
    "\n",
    "When a large volume of data is expected, it is useful to limit the amount of data that we want to cache in memory. To do so, we make use of the `filter` parameter to set the condition(s) for the data used for pre-computations. In this case, we expect that users will query the latest date most frequently. Therefore, it make sense to cache the data for the day in memory."
   ]
  },
  {
   "cell_type": "markdown",
   "id": "e2b0e5b9-e9ad-4160-ba61-41de3049ba80",
   "metadata": {},
   "source": [
    "## Verifying performance"
   ]
  },
  {
   "cell_type": "markdown",
   "id": "944891d1-58d8-4561-b7aa-83bea98513bf",
   "metadata": {},
   "source": [
    "The measure listed above is pre-computed and aggregated before storing in memory along with the levels defined in the aggregate provider. Consequently, as we query the measure `pnl_vector.SUM` along any of the levels listed above, the performance will be improved.  "
   ]
  },
  {
   "cell_type": "code",
   "execution_count": 14,
   "id": "37d1a23c-4ccc-477c-93d3-f23c18104509",
   "metadata": {},
   "outputs": [
    {
     "name": "stdout",
     "output_type": "stream",
     "text": [
      "CPU times: user 9.57 ms, sys: 3.35 ms, total: 12.9 ms\n",
      "Wall time: 58.4 ms\n"
     ]
    },
    {
     "data": {
      "text/html": [
       "<div>\n",
       "<style scoped>\n",
       "    .dataframe tbody tr th:only-of-type {\n",
       "        vertical-align: middle;\n",
       "    }\n",
       "\n",
       "    .dataframe tbody tr th {\n",
       "        vertical-align: top;\n",
       "    }\n",
       "\n",
       "    .dataframe thead th {\n",
       "        text-align: right;\n",
       "    }\n",
       "</style>\n",
       "<table border=\"1\" class=\"dataframe\">\n",
       "  <thead>\n",
       "    <tr style=\"text-align: right;\">\n",
       "      <th></th>\n",
       "      <th>VaR95</th>\n",
       "    </tr>\n",
       "  </thead>\n",
       "  <tbody>\n",
       "  </tbody>\n",
       "</table>\n",
       "</div>"
      ],
      "text/plain": [
       "Empty DataFrame\n",
       "Columns: [VaR95]\n",
       "Index: []"
      ]
     },
     "execution_count": 14,
     "metadata": {},
     "output_type": "execute_result"
    }
   ],
   "source": [
    "%%time\n",
    "cube.query(\n",
    "    m[\"VaR95\"],\n",
    "    levels=[l[\"BUSINESS_UNIT\"], l[\"SUB_BUSINESS_UNIT\"], l[\"TRADING_DESK\"]],\n",
    "    filter=(l[\"AsOfDate\"] == \"2021-03-01\"),\n",
    ")"
   ]
  },
  {
   "cell_type": "markdown",
   "id": "93cec2c3-2327-4a2c-b8c7-5782ae6fff3e",
   "metadata": {},
   "source": [
    "We are querying `VaR95` and not `pnl_vector.SUM`, yet the performance of the query is much faster than before.  \n",
    "This is because `VaR95` aggregates on top of `pnl_vector.SUM`, which is already available in memory due to the aggregate provider.  \n",
    "\n",
    "⚠️Therefore, **we cannot and should not use measures that are computed from UDF in an aggregate provider**."
   ]
  },
  {
   "cell_type": "code",
   "execution_count": 15,
   "id": "d41aefdc-47d5-473f-ae26-fac08070725f",
   "metadata": {},
   "outputs": [
    {
     "name": "stdout",
     "output_type": "stream",
     "text": [
      "CPU times: user 8.28 ms, sys: 2.96 ms, total: 11.2 ms\n",
      "Wall time: 52.2 ms\n"
     ]
    },
    {
     "data": {
      "text/html": [
       "<div>\n",
       "<style scoped>\n",
       "    .dataframe tbody tr th:only-of-type {\n",
       "        vertical-align: middle;\n",
       "    }\n",
       "\n",
       "    .dataframe tbody tr th {\n",
       "        vertical-align: top;\n",
       "    }\n",
       "\n",
       "    .dataframe thead th {\n",
       "        text-align: right;\n",
       "    }\n",
       "</style>\n",
       "<table border=\"1\" class=\"dataframe\">\n",
       "  <thead>\n",
       "    <tr style=\"text-align: right;\">\n",
       "      <th></th>\n",
       "      <th>VaR95</th>\n",
       "    </tr>\n",
       "  </thead>\n",
       "  <tbody>\n",
       "  </tbody>\n",
       "</table>\n",
       "</div>"
      ],
      "text/plain": [
       "Empty DataFrame\n",
       "Columns: [VaR95]\n",
       "Index: []"
      ]
     },
     "execution_count": 15,
     "metadata": {},
     "output_type": "execute_result"
    }
   ],
   "source": [
    "%%time\n",
    "cube.query(\n",
    "    m[\"VaR95\"],\n",
    "    levels=[l[\"BUSINESS_UNIT\"], l[\"SUB_BUSINESS_UNIT\"]],\n",
    "    filter=(l[\"AsOfDate\"] == \"2021-03-01\"),\n",
    ")"
   ]
  },
  {
   "cell_type": "markdown",
   "id": "6fdd6105-6338-49d7-a883-7423dbe5e87e",
   "metadata": {},
   "source": [
    "### Querying outside of aggregate provider's range\n",
    "\n",
    "As we add in a new level that's not listed in the levels for the aggregate provider, we will see that the querying speed slows down slightly. This may be due to JIT retrieval of the level from the data table."
   ]
  },
  {
   "cell_type": "code",
   "execution_count": 16,
   "id": "8edf6d49-1be4-44b4-bdbd-c06a7790def9",
   "metadata": {
    "atoti": {
     "widget": {
      "columnWidths": {
       "[Trade PnL].[RISKFACTOR].[RISKFACTOR]": 338.0000305175781
      },
      "mapping": {
       "columns": [
        "ALL_MEASURES"
       ],
       "measures": [],
       "rows": [
        "[Trade PnL].[CCY].[CCY]"
       ]
      },
      "query": {
       "mdx": "SELECT NON EMPTY Hierarchize(Descendants({[Trade PnL].[CCY].[AllMember]}, 1, SELF_AND_BEFORE)) ON ROWS FROM [Trade PnL] CELL PROPERTIES VALUE, FORMATTED_VALUE, BACK_COLOR, FORE_COLOR, FONT_FLAGS",
       "updateMode": "once"
      },
      "serverKey": "default",
      "widgetKey": "pivot-table"
     }
    },
    "tags": []
   },
   "outputs": [
    {
     "name": "stdout",
     "output_type": "stream",
     "text": [
      "CPU times: user 9.39 ms, sys: 3.62 ms, total: 13 ms\n",
      "Wall time: 66.4 ms\n"
     ]
    },
    {
     "data": {
      "text/html": [
       "<div>\n",
       "<style scoped>\n",
       "    .dataframe tbody tr th:only-of-type {\n",
       "        vertical-align: middle;\n",
       "    }\n",
       "\n",
       "    .dataframe tbody tr th {\n",
       "        vertical-align: top;\n",
       "    }\n",
       "\n",
       "    .dataframe thead th {\n",
       "        text-align: right;\n",
       "    }\n",
       "</style>\n",
       "<table border=\"1\" class=\"dataframe\">\n",
       "  <thead>\n",
       "    <tr style=\"text-align: right;\">\n",
       "      <th></th>\n",
       "      <th>VaR95</th>\n",
       "    </tr>\n",
       "  </thead>\n",
       "  <tbody>\n",
       "  </tbody>\n",
       "</table>\n",
       "</div>"
      ],
      "text/plain": [
       "Empty DataFrame\n",
       "Columns: [VaR95]\n",
       "Index: []"
      ]
     },
     "execution_count": 16,
     "metadata": {},
     "output_type": "execute_result"
    }
   ],
   "source": [
    "%%time\n",
    "cube.query(\n",
    "    m[\"VaR95\"],\n",
    "    levels=[l[\"BUSINESS_UNIT\"], l[\"SUB_BUSINESS_UNIT\"], l[\"TRADING_DESK\"], l[\"ccy\"]],\n",
    "    filter=(l[\"AsOfDate\"] == \"2021-03-01\"),\n",
    ")"
   ]
  },
  {
   "cell_type": "markdown",
   "id": "be8263f3-fe7f-4f3c-9fad-c72a0b84dc05",
   "metadata": {},
   "source": [
    "### Explaining query plans"
   ]
  },
  {
   "cell_type": "markdown",
   "id": "c4a2c263-ac7a-4f93-ae0c-f6d087d55933",
   "metadata": {},
   "source": [
    "We can understand how the query is executed with [`cube.explain_query`](https://docs.atoti.io/latest/lib/atoti/atoti.cube.html#atoti.Cube.explain_query).  \n",
    "\n",
    "We replace the `query` function with `explain_query` and re-run the query with levels defined in the aggregate provider.  \n",
    "Under Retrievals, we will see that _PartialPrimitiveAggregatesRetrieval_ is used in the query plan. "
   ]
  },
  {
   "cell_type": "code",
   "execution_count": 17,
   "id": "b04361cd-02a8-4031-89d2-c69c840e2756",
   "metadata": {
    "tags": []
   },
   "outputs": [
    {
     "data": {
      "application/json": {
       "Query plans": []
      },
      "text/html": [
       "<ul>\n",
       "<li>Query analysis\n",
       "  <ul>\n",
       "  <li>Query plans\n",
       "    <ol>\n",
       "    </ol>  </li>\n",
       "  </ul>\n",
       "</li>\n",
       "</ul>\n"
      ],
      "text/plain": [
       "QueryAnalysis(query_plans=[])"
      ]
     },
     "execution_count": 17,
     "metadata": {
      "application/json": {
       "expanded": true,
       "root": "Query analysis"
      }
     },
     "output_type": "execute_result"
    }
   ],
   "source": [
    "cube.explain_query(\n",
    "    m[\"VaR95\"],\n",
    "    levels=[l[\"BUSINESS_UNIT\"], l[\"SUB_BUSINESS_UNIT\"], l[\"TRADING_DESK\"]],\n",
    "    filter=(l[\"AsOfDate\"] == \"2021-03-01\"),\n",
    ")"
   ]
  },
  {
   "cell_type": "markdown",
   "id": "472911c2-a339-4f4e-9623-cd7b5d27ac05",
   "metadata": {},
   "source": [
    "However, once we queried levels outside of the aggregate provider's range, we see that _JITPrimitiveAggregatesRetrieval_ is used instead. "
   ]
  },
  {
   "cell_type": "code",
   "execution_count": 18,
   "id": "7f2889f1-d8b9-458b-9577-95619d629fcd",
   "metadata": {},
   "outputs": [
    {
     "data": {
      "application/json": {
       "Query plans": []
      },
      "text/html": [
       "<ul>\n",
       "<li>Query analysis\n",
       "  <ul>\n",
       "  <li>Query plans\n",
       "    <ol>\n",
       "    </ol>  </li>\n",
       "  </ul>\n",
       "</li>\n",
       "</ul>\n"
      ],
      "text/plain": [
       "QueryAnalysis(query_plans=[])"
      ]
     },
     "execution_count": 18,
     "metadata": {
      "application/json": {
       "expanded": true,
       "root": "Query analysis"
      }
     },
     "output_type": "execute_result"
    }
   ],
   "source": [
    "cube.explain_query(\n",
    "    m[\"VaR95\"],\n",
    "    levels=[l[\"BUSINESS_UNIT\"], l[\"SUB_BUSINESS_UNIT\"], l[\"TRADING_DESK\"], l[\"ccy\"]],\n",
    "    filter=(l[\"AsOfDate\"] == \"2021-03-01\"),\n",
    ")"
   ]
  },
  {
   "cell_type": "markdown",
   "id": "d67a2e8e-e5d8-4af1-98ca-cb3734a6b7cb",
   "metadata": {},
   "source": [
    "# Tuning Atoti\n",
    "\n",
    "There are many ways to tune the performance of our Atoti instance. E.g.:\n",
    "- [Aggregate provider](https://docs.atoti.io/latest/lib/atoti/atoti.aggregate_provider.html) as we have seen in the example above\n",
    "- [Aggregate cache](https://docs.atoti.io/latest/lib/atoti/atoti.aggregates_cache.html#atoti.aggregates_cache.AggregatesCache) which we have turned off to prevent interference in performance\n",
    "- Partitioning of tables\n",
    "\n",
    "[Partitioning](https://docs.activeviam.com/products/atoti/server/latest/docs/concepts/partitioning/) a table is to cluster the data that the table holds and separate them into different partitions. This distributes the work performed by the processing cores for both data loading and querying. Although we did not explicitly configure partition for our aggregate provider example, it is useful to know that it is defaulted to the [partitioning of the cube’s base table](https://docs.atoti.io/latest/lib/atoti/atoti.session.html#atoti.Session.create_table). And fortunately, Atoti has default partitioning rules applied.  \n",
    "\n",
    "To find out more, reach out to [ActiveViam](https://activeviam.com/contact-us/?utm_source=github) or the Atoti team on [GitHub discussion](https://github.com/atoti/atoti/discussions).\n",
    "\n",
    "<div style=\"text-align: center;\" ><a href=\"https://www.atoti.io/?utm_source=gallery&utm_content=aggregate-providers\" target=\"_blank\" rel=\"noopener noreferrer\"><img src=\"https://data.atoti.io/notebooks/banners/Your-turn-to-try-Atoti.jpg\" alt=\"Try atoti\"></a></div>"
   ]
  }
 ],
 "metadata": {
  "kernelspec": {
   "display_name": "Python 3 (ipykernel)",
   "language": "python",
   "name": "python3"
  },
  "language_info": {
   "codemirror_mode": {
    "name": "ipython",
    "version": 3
   },
   "file_extension": ".py",
   "mimetype": "text/x-python",
   "name": "python",
   "nbconvert_exporter": "python",
   "pygments_lexer": "ipython3",
   "version": "3.9.9"
  }
 },
 "nbformat": 4,
 "nbformat_minor": 5
}
