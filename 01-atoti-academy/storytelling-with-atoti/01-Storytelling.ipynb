{
 "cells": [
  {
   "cell_type": "markdown",
   "id": "cdf4be11-e265-4874-8e3a-94eec0d442da",
   "metadata": {
    "editable": true,
    "slideshow": {
     "slide_type": ""
    },
    "tags": []
   },
   "source": [
    "# What is data storytelling?  \n",
    "\n",
    "Let's start with some basic definitions:\n",
    "\n",
    "**Story**\n",
    "\n",
    "A story is a narrative, either true or fictitious, and is used to communicate an idea to the audience based on a selected theme. It can be spoken, written or come in other forms of media such as a movie.  \n",
    "\n",
    "**Storytelling**\n",
    "\n",
    "Storytelling is the way we convey key messages to the audience through stories that resonate with them.  \n",
    "\n",
    "**Data storytelling**\n",
    "\n",
    "Data storytelling is a powerful combination of data and narrative to help our audience and stakeholders understand complex information, and then make informed decisions. To be successful, you need to craft a narrative around your data, and present it in a way that is both easy to understand and resonates with your audience."
   ]
  },
  {
   "cell_type": "markdown",
   "id": "ce067e20-c471-48c3-a61b-3c68ef258c8c",
   "metadata": {},
   "source": [
    "# Objective of data storytelling \n",
    "\n",
    "We want to be able to turn raw data into actionable insights, so that stakeholders can make informed decisions and drive positive change.  "
   ]
  },
  {
   "cell_type": "markdown",
   "id": "41599e20-ec94-4d30-b7e8-44b367c04af0",
   "metadata": {
    "editable": true,
    "slideshow": {
     "slide_type": ""
    },
    "tags": []
   },
   "source": [
    "# Getting started with Storytelling\n",
    "\n",
    "There are some easy techniques to get started with data storytelling.\n",
    "A good place to start is with the \"H and 5 W questions\" - Who, What, When, Where, Why, How.  \n",
    "\n",
    "We will use: \n",
    "- \"Who\" and \"What\" to define the scope of our stories and data.  \n",
    "- \"When\" and \"Where\" to set the context.\n",
    "- \"How\" to determine the presentation of our data.\n",
    "- \"Why\" to structure and streamline our stories.\n",
    "\n",
    "In this notebook, we explore each of these with some examples:  \n",
    "- [1 Scoping stories](#1-Scoping-stories)\n",
    "    - [1.1 Scoping with \"Who\" questions](#1.1-Scoping-with-\"Who\"-questions)\n",
    "    - [1.2 Scoping with \"What\" questions](#1.2-Scoping-with-\"What\"-questions)\n",
    "- [2 Setting the story context](#2-Setting-the-story-context)\n",
    "    - [2.1 Setting the context with \"When\"](#2.1-Setting-the-context-with-\"When\")\n",
    "    - [2.2 Setting the context with \"Where\"](#2.2-Setting-the-context-with-\"Where\")  \n",
    "    \n",
    "Continue on with the following notebooks:  \n",
    "- [02-Storytelling.ipynb](02-Storytelling.ipynb): Story presentation with \"How\" question\n",
    "- [03-Storytelling.ipynb](03-Storytelling.ipynb): Structuring the story"
   ]
  },
  {
   "cell_type": "markdown",
   "id": "099de909-b70f-4455-927e-2850b9d9c962",
   "metadata": {},
   "source": [
    "<div style=\"text-align: center;\" ><a href=\"https://www.atoti.io/?utm_source=gallery&utm_content=01-storytelling\" target=\"_blank\" rel=\"noopener noreferrer\"><img src=\"https://data.atoti.io/notebooks/banners/Discover-Atoti-now.png\" alt=\"Try atoti\"></a></div>"
   ]
  },
  {
   "cell_type": "markdown",
   "id": "e7f948a3-43ae-4278-9910-4d496afc81cd",
   "metadata": {},
   "source": [
    "## 1 Scoping stories"
   ]
  },
  {
   "cell_type": "markdown",
   "id": "d3bcc45d-0fc8-4663-a377-b7420f7b72cb",
   "metadata": {},
   "source": [
    "The universe is huge and we can't take everything and put them into a story.  \n",
    "\n",
    "> KISS: Keep it Short and Simple\n",
    "\n",
    "Therefore, we use scope to define the boundary and parameters as way to keep our story concise.    \n",
    "By keeping only the necessary details, we will improve the clarity and effectiveness of the message that we want to deliver with the story.  "
   ]
  },
  {
   "cell_type": "markdown",
   "id": "bc4c06a4-ee1b-4495-a7dd-d4e9e947a385",
   "metadata": {},
   "source": [
    "### 1.1 Scoping with \"Who\" questions  \n",
    "\n",
    "In literature, the \"who\" refers to the characters in the stories. \n",
    "However, in data stories, it refers to who our audience is.  \n",
    "We need to know who our audience is and what they do.  This will help to set the premise for our data stories and also determine the mode of delivery.    \n",
    "\n",
    "**Audience's nature of business**  \n",
    "If we are analysts working in a bank, our stories will revolve around financial topics such as profits and losses, interest rates and spreads, risks etc.  \n",
    "In a pharmaceutical company, our stories may revolve around clinical trial results, drug life-cycle management, drug sales forecast etc.  \n",
    "For retailers, we will look at the sales, trends and profitability.\n",
    "\n",
    "**Type of users**  \n",
    "Within the company itself, we should also identify which group of users we are addressing. For business groups, they are interested in the key business metrics that will help them make informed decisions. For technical group or the analysts, they are probably interested in deeper diving into how key metrics are derived. \n",
    "\n",
    "Apart from the difference in the level of detail in the stories, the way we present the stories to these groups can also vary. \n",
    "The business users may be happy with reports or interactive dashboards. On the other hand, we can present our stories in Jupyter Notebooks to the technical/analyst group of users.\n",
    "\n",
    "<img src=\"https://data.atoti.io/atoti-academy/images/storytelling-with-atoti/1_1_audiences_views.png\" />\n",
    "\n",
    "**Interest of users**  \n",
    "In a company, there are many departments and teams. Each of them has their own focus and interests. These again, set the boundaries for our stories.  \n",
    "For instance, the sales team of the pharmaceutical company will have a higher interest in the drug sales forecast than the details of the clinical trials. A summary of the success rate for the trials and its performance against competitors will probably suffice for the sales team.    "
   ]
  },
  {
   "cell_type": "markdown",
   "id": "d03b330b-2e72-4ec5-b542-fae9a9eca682",
   "metadata": {},
   "source": [
    "### 1.2 Scoping with \"What\" questions  \n",
    "\n",
    "There are many \"What\" questions that we can have:  \n",
    "- [What is the purpose of the stories we are crafting?](#1.2.1-What-is-the-purpose-of-the-stories-we-are-crafting?)  \n",
    "- [What type of data do we already have?](#1.2.2-What-type-of-data-do-we-already-have?)  \n",
    "- [What type of data do we need in addition to what we already have?](#1.2.3-What-type-of-data-do-we-need-in-addition-to-what-we-already-have?)\n"
   ]
  },
  {
   "cell_type": "markdown",
   "id": "cd49d3c7-da59-4652-8917-132a1f6079b7",
   "metadata": {},
   "source": [
    "#### 1.2.1 What is the purpose of the stories we are crafting?  \n",
    "\n",
    "We mentioned that the aim of data storytelling is to help the stakeholders make informed decisions. So, we need to understand these decisions before we can prepare the necessary insights. For instance, let's assume our stakeholder is a retailer who would like to cut costs and increase profit. There are many ways to achieve the same objective and this is where we get creative.  \n",
    "\n",
    "**To cut costs, the stakeholder may consider**:\n",
    "\n",
    "* Dropping some products from his/her inventory.\n",
    "* Changing their shipment company to one that provides more competitive rates.   \n",
    "\n",
    "**To increase profit, the stakeholder may consider**:  \n",
    "\n",
    "* Leveraging the pricing model for bulk purchases by increasing stock for fast selling products.\n",
    "* Running marketing events such as discounts for loyal shoppers or discount sales.  \n",
    "* Implementing commission systems for employees based on sales targets. \n",
    "\n",
    "Now we know which decisions the stakeholder might consider, we should have an idea of the information we need to provide him/her. For instance, in order to drop products from the inventory, we need to know the performance of each product.\n",
    "\n",
    "Cleary, this might lead us to another question — how does the stakeholder define performance? Let's say in this case, performance is volume sold vs its profit margin. And in order to make decisions about changing the shipment company, we should find out the volume of shipment vs the rates charged by the company in comparison to the other shipment companies. "
   ]
  },
  {
   "cell_type": "markdown",
   "id": "33cf5953-8b06-4bd1-949a-a2ebb5ad7b70",
   "metadata": {
    "tags": []
   },
   "source": [
    "#### 1.2.2 What type of data do we already have?\n",
    "\n",
    "> **You can't make bricks without straws**  \n",
    "\n",
    "Our analysis can only be conducted with the data we have, so we need to make sure we have the correct dataset. As a step forward, we try to gather as many insights as we can with the data we have on-hand and align them with our objectives. This should help us recognize the gap between what we have and what we want to have in our data.  "
   ]
  },
  {
   "cell_type": "markdown",
   "id": "1034ff59-7a36-4d3f-9482-0d67e5d6fea4",
   "metadata": {},
   "source": [
    "**Data Exploration**\n",
    "\n",
    "This is the stage when we try to analyze the data and find as much useful insights as we can from what we have.  \n",
    "\n",
    "💡To illustrate and provide data for our story we will use a script to create a multi-dimensional data cube using [Atoti](https://www.atoti.io/). Refer to the [training material](../03-Atoti/01-intro-Atoti.ipynb) under 03-Atoti if you are unfamiliar with Atoti.  "
   ]
  },
  {
   "cell_type": "code",
   "execution_count": 1,
   "id": "60b78c38-c9bd-43d7-a9af-a848dcb7a657",
   "metadata": {
    "tags": []
   },
   "outputs": [],
   "source": [
    "import atoti as tt\n",
    "from utils import setup"
   ]
  },
  {
   "cell_type": "code",
   "execution_count": 2,
   "id": "978351bf-addf-4bbc-ba4d-8bd28b4c28ea",
   "metadata": {
    "editable": true,
    "slideshow": {
     "slide_type": ""
    },
    "tags": []
   },
   "outputs": [
    {
     "data": {
      "image/png": "[encoded data removed]",
      "text/plain": [
       "erDiagram\n",
       "  \"Orders\" {\n",
       "    _ String PK \"OrderId\"\n",
       "    _ LocalDate \"OrderDate\"\n",
       "    _ int \"QuantitySold\"\n",
       "    _ double \"SellingPricePerUnit\"\n",
       "    _ String \"ShipperName\"\n",
       "    _ String PK \"ProductId\"\n",
       "    _ String \"EmployeeId\"\n",
       "    _ String \"CustomerId\"\n",
       "  }\n",
       "  \"Products\" {\n",
       "    _ String PK \"ProductId\"\n",
       "    _ String \"ProductName\"\n",
       "    _ String \"ProductCategory\"\n",
       "    _ String \"Supplier\"\n",
       "    nullable double \"PurchasingPricePerUnit\"\n",
       "  }\n",
       "  \"Customers\" {\n",
       "    _ String PK \"CustomerId\"\n",
       "    _ String \"CompanyName\"\n",
       "    _ String \"Address\"\n",
       "    _ String \"City\"\n",
       "    _ String \"PostalCode\"\n",
       "    _ String \"Region\"\n",
       "    _ String \"Country\"\n",
       "    _ String \"Subregion\"\n",
       "    _ String \"Phone\"\n",
       "  }\n",
       "  \"Shippers\" {\n",
       "    _ String PK \"Shipper\"\n",
       "    _ String PK \"Interval\"\n",
       "    nullable double \"Rate\"\n",
       "  }\n",
       "  \"Employees\" {\n",
       "    _ String PK \"EmployeeId\"\n",
       "    _ String \"EmployeeName\"\n",
       "    _ String \"EmployeeZone\"\n",
       "    _ String \"EmployeeCountry\"\n",
       "    _ String \"EmployeeCity\"\n",
       "  }\n",
       "  \"HistoricalPrices\" {\n",
       "    _ String PK \"ProductId\"\n",
       "    nullable double[] \"HistoricalPrice\"\n",
       "  }\n",
       "  \"Orders\" }o--o| \"Customers\" : \"`CustomerId` == `CustomerId`\"\n",
       "  \"Orders\" }o--o| \"Employees\" : \"`EmployeeId` == `EmployeeId`\"\n",
       "  \"Orders\" }o--o| \"Products\" : \"`ProductId` == `ProductId`\"\n",
       "  \"Orders\" }o..o{ \"Shippers\" : \"`ShipperName` == `Shipper`\"\n",
       "  \"Products\" }o--o| \"HistoricalPrices\" : \"`ProductId` == `ProductId`\""
      ]
     },
     "execution_count": 2,
     "metadata": {},
     "output_type": "execute_result"
    }
   ],
   "source": [
    "# instantiating our instance and creating the Atoti cube with our data\n",
    "session, cube = setup.create_app()\n",
    "# aliasing cube properties\n",
    "h, l, m = cube.hierarchies, cube.levels, cube.measures\n",
    "\n",
    "session.tables.schema"
   ]
  },
  {
   "cell_type": "markdown",
   "id": "453e7bb1-202e-4ac1-968e-e13e38d953c2",
   "metadata": {
    "editable": true,
    "slideshow": {
     "slide_type": ""
    },
    "tags": []
   },
   "source": [
    "In our context, we are looking at sales data and we will start by exploring this.\n",
    "The data schema allows us to have a high-level understand of the data we have and the relationship between each table.  \n",
    "\n",
    "At a glance, we should be able to provide these information about our current situation, for example:\n",
    "\n",
    "* Number of orders. \n",
    "* Sales of volume product.\n",
    "* Profit by product.  \n",
    "\n",
    "It will be much easier if we can visualize the data to have a better gist of how we can better address our needs. So, let's leverage Atoti's interactive widget to build something that reflects our current situation.  "
   ]
  },
  {
   "cell_type": "code",
   "execution_count": 3,
   "id": "d665749a-e39c-43f0-82a0-f4ec7cad5fd3",
   "metadata": {
    "atoti": {
     "height": 210,
     "widget": {
      "columnWidths": {
       "[Measures].[contributors.COUNT]": 140
      },
      "mapping": {
       "columns": [
        "ALL_MEASURES"
       ],
       "measures": [
        "[Measures].[contributors.COUNT]"
       ],
       "rows": [
        "[Orders].[OrderDate].[OrderDate]"
       ]
      },
      "name": "Number of orders",
      "query": {
       "mdx": "SELECT NON EMPTY Hierarchize(Descendants({[Orders].[OrderDate].[AllMember]}, 1, SELF_AND_BEFORE)) ON ROWS, NON EMPTY {[Measures].[contributors.COUNT]} ON COLUMNS FROM [Order Cube] CELL PROPERTIES VALUE, FORMATTED_VALUE, BACK_COLOR, FORE_COLOR, FONT_FLAGS",
       "updateMode": "once"
      },
      "serverKey": "default",
      "widgetKey": "pivot-table"
     }
    },
    "tags": []
   },
   "outputs": [
    {
     "data": {
      "application/vnd.atoti.widget.v0+json": {
       "sessionId": "1715370185_DYABVY",
       "sessionLocation": {
        "https": false,
        "port": 9091
       },
       "widgetCreationCode": "session.widget"
      },
      "text/html": [
       "<img height=\"0\" width=\"0\" src=\"data:,\" />"
      ],
      "text/plain": [
       "Open the notebook in JupyterLab with the Atoti JupyterLab extension enabled to build this widget."
      ]
     },
     "metadata": {},
     "output_type": "display_data"
    }
   ],
   "source": [
    "session.widget"
   ]
  },
  {
   "cell_type": "markdown",
   "id": "dd21041d-a925-4ae7-9f2f-bd10139503cd",
   "metadata": {},
   "source": [
    "We can see from the table that we have the same number of orders each day. \n",
    "We can add more depth to the query by adding in other factors into the query such as the country of the customer.\n",
    "This will allow us to investigate which countries contribute most to the overall sales figures."
   ]
  },
  {
   "cell_type": "code",
   "execution_count": 4,
   "id": "2e92250c-bcb4-46e3-bd74-58b2a1a2cea8",
   "metadata": {
    "atoti": {
     "height": 362,
     "widget": {
      "columnWidths": {
       "[Measures].[contributors.COUNT],[Orders].[OrderDate].[AllMember]": 146
      },
      "mapping": {
       "columns": [
        "ALL_MEASURES",
        "[Orders].[OrderDate].[OrderDate]"
       ],
       "measures": [
        "[Measures].[contributors.COUNT]"
       ],
       "rows": [
        "[Customers].[Country].[Country]"
       ]
      },
      "name": "Number of orders",
      "query": {
       "mdx": "SELECT NON EMPTY Hierarchize(Descendants({[Customers].[Country].[AllMember]}, 1, SELF_AND_BEFORE)) ON ROWS, NON EMPTY Crossjoin({[Measures].[contributors.COUNT]}, Hierarchize(Descendants({[Orders].[OrderDate].[AllMember]}, 1, SELF_AND_BEFORE))) ON COLUMNS FROM [Order Cube] CELL PROPERTIES VALUE, FORMATTED_VALUE, BACK_COLOR, FORE_COLOR, FONT_FLAGS",
       "updateMode": "once"
      },
      "serverKey": "default",
      "widgetKey": "pivot-table"
     }
    },
    "tags": []
   },
   "outputs": [
    {
     "data": {
      "application/vnd.atoti.widget.v0+json": {
       "sessionId": "1715370185_DYABVY",
       "sessionLocation": {
        "https": false,
        "port": 9091
       },
       "widgetCreationCode": "session.widget"
      },
      "text/html": [
       "<img height=\"0\" width=\"0\" src=\"data:,\" />"
      ],
      "text/plain": [
       "Open the notebook in JupyterLab with the Atoti JupyterLab extension enabled to build this widget."
      ]
     },
     "metadata": {},
     "output_type": "display_data"
    }
   ],
   "source": [
    "session.widget"
   ]
  },
  {
   "cell_type": "markdown",
   "id": "b9f2f709-b39d-4707-b0c3-6e063df54813",
   "metadata": {},
   "source": [
    "And, we can go further, as overall orders is not the same as profit. It will also be interesting to see which country yields the highest profit. Feel free to use the Atoti content editor on the left navigation bar to add the measures or hierarchies that may interest you."
   ]
  },
  {
   "cell_type": "code",
   "execution_count": 5,
   "id": "3c98a597-37cc-4d5e-82a4-51d05b2a5fab",
   "metadata": {
    "atoti": {
     "height": 470,
     "widget": {
      "columnWidths": {
       "[Measures].[contributors.COUNT],[Orders].[OrderDate].[AllMember]": 146,
       "[Orders].[OrderDate].[AllMember],[Measures].[contributors.COUNT]": 140,
       "[Orders].[OrderDate].[AllMember].[2019-02-15],[Measures].[contributors.COUNT]": 140,
       "[Orders].[OrderDate].[AllMember].[2019-02-16],[Measures].[contributors.COUNT]": 129,
       "[Orders].[OrderDate].[AllMember].[2019-02-17],[Measures].[contributors.COUNT]": 140,
       "[Orders].[OrderDate].[AllMember].[2019-02-18],[Measures].[contributors.COUNT]": 140
      },
      "mapping": {
       "columns": [
        "[Orders].[OrderDate].[OrderDate]",
        "ALL_MEASURES"
       ],
       "measures": [
        "[Measures].[contributors.COUNT]",
        "[Measures].[Profit]"
       ],
       "rows": [
        "[Customers].[Country].[Country]"
       ]
      },
      "name": "Number of orders and profit",
      "query": {
       "mdx": "SELECT NON EMPTY Order(Hierarchize(Descendants({[Customers].[Country].[AllMember]}, 1, SELF_AND_BEFORE)), ([Orders].[OrderDate].[AllMember], [Measures].[Profit]), DESC) ON ROWS, NON EMPTY Crossjoin(Hierarchize(Descendants({[Orders].[OrderDate].[AllMember]}, 1, SELF_AND_BEFORE)), {[Measures].[contributors.COUNT], [Measures].[Profit]}) ON COLUMNS FROM [Order Cube] CELL PROPERTIES VALUE, FORMATTED_VALUE, BACK_COLOR, FORE_COLOR, FONT_FLAGS",
       "updateMode": "once"
      },
      "serverKey": "default",
      "widgetKey": "pivot-table"
     }
    },
    "tags": []
   },
   "outputs": [
    {
     "data": {
      "application/vnd.atoti.widget.v0+json": {
       "sessionId": "1715370185_DYABVY",
       "sessionLocation": {
        "https": false,
        "port": 9091
       },
       "widgetCreationCode": "session.widget"
      },
      "text/html": [
       "<img height=\"0\" width=\"0\" src=\"data:,\" />"
      ],
      "text/plain": [
       "Open the notebook in JupyterLab with the Atoti JupyterLab extension enabled to build this widget."
      ]
     },
     "metadata": {},
     "output_type": "display_data"
    }
   ],
   "source": [
    "session.widget"
   ]
  },
  {
   "cell_type": "markdown",
   "id": "1eebee00-6122-43b4-a69a-927ff5548c9f",
   "metadata": {},
   "source": [
    "#### 📐Exercise  \n",
    "\n",
    "Try deriving other insights from the given data set.  "
   ]
  },
  {
   "cell_type": "markdown",
   "id": "80226a97-d2eb-4ec6-b365-c28518419a16",
   "metadata": {
    "tags": []
   },
   "source": [
    "#### 📖 Solution\n",
    "\n",
    "Uncomment and run the next two cells for different insights.  "
   ]
  },
  {
   "cell_type": "code",
   "execution_count": 6,
   "id": "c8bf94be-c90c-4bec-8d55-28f1944f2ab1",
   "metadata": {
    "atoti": {
     "height": 459,
     "widget": {
      "columnWidths": {
       "[Measures].[Profit]": 126,
       "[Products].[Products].[ProductCategory]": 137,
       "[Products].[Products].[ProductName]": 187
      },
      "filters": [
       "Generate([Products].[Products].Levels(1).Members, BottomCount(Filter([Products].[Products].CurrentMember.Children, NOT IsEmpty([Measures].[Profit])), 5, [Measures].[Profit]))"
      ],
      "mapping": {
       "columns": [
        "ALL_MEASURES"
       ],
       "measures": [
        "[Measures].[Profit]"
       ],
       "rows": [
        "[Products].[Products].[ProductCategory] => [Products].[Products].[ProductName]"
       ]
      },
      "name": "Bottom 5 products per category with lowest profit",
      "query": {
       "mdx": "SELECT NON EMPTY Hierarchize(Union(Descendants({[Products].[Products].[AllMember]}, 1, SELF_AND_BEFORE), Descendants({[Products].[Products].[AllMember].[Condiments]}, [Products].[Products].[ProductName]))) ON ROWS, NON EMPTY {[Measures].[Profit]} ON COLUMNS FROM [Order Cube] CELL PROPERTIES VALUE, FORMATTED_VALUE, BACK_COLOR, FORE_COLOR, FONT_FLAGS",
       "updateMode": "once"
      },
      "serverKey": "default",
      "widgetKey": "pivot-table"
     }
    },
    "tags": []
   },
   "outputs": [],
   "source": [
    "# session.widget"
   ]
  },
  {
   "cell_type": "code",
   "execution_count": 7,
   "id": "d7115603-7b7a-49d5-a9c3-cf21bd217332",
   "metadata": {
    "atoti": {
     "height": 438,
     "widget": {
      "columnWidths": {
       "[Customers].[CompanyName].[CompanyName]": 206,
       "[Products].[Supplier].[Supplier]": 176
      },
      "mapping": {
       "columns": [
        "ALL_MEASURES",
        "[Products].[ProductCategory].[ProductCategory] => [Products].[ProductName].[ProductName]"
       ],
       "measures": [
        "[Measures].[QuantitySold.SUM]"
       ],
       "rows": [
        "[Customers].[Region].[Region] => [Customers].[CompanyName].[CompanyName]"
       ]
      },
      "name": "Product demands by region",
      "query": {
       "mdx": "SELECT NON EMPTY Hierarchize(Descendants({[Customers].[Region].[AllMember]}, 1, SELF_AND_BEFORE)) ON ROWS, NON EMPTY Hierarchize(Crossjoin({[Measures].[QuantitySold.SUM]}, Hierarchize(Descendants({[Products].[ProductCategory].[AllMember]}, 1, SELF_AND_BEFORE)))) ON COLUMNS FROM [Order Cube] CELL PROPERTIES VALUE, FORMATTED_VALUE, BACK_COLOR, FORE_COLOR, FONT_FLAGS",
       "updateMode": "once"
      },
      "serverKey": "default",
      "widgetKey": "pivot-table"
     }
    },
    "tags": []
   },
   "outputs": [],
   "source": [
    "# session.widget"
   ]
  },
  {
   "cell_type": "markdown",
   "id": "8b976385-ddbb-46cb-84ee-8f779cd410b1",
   "metadata": {},
   "source": [
    "During the exploration stage, you should play around the data from different perspectives. You might discover some interesting insights and further routes to explore.\n",
    "We can discard ideas based on its relevancy later on as we start to structure our story.  "
   ]
  },
  {
   "cell_type": "markdown",
   "id": "b6be6a17-c676-40cc-a8cc-1298815d4d9e",
   "metadata": {},
   "source": [
    "#### 1.2.3 What type of data do we need in addition to what we already have?  \n",
    "\n",
    "There is a high chance that we need more information to support our findings. We may discover this need upfront or later on. \n",
    "\n",
    "**Upfront need for additional data**  \n",
    "\n",
    "* Usually, these needs are due to requirements triggered by the stakeholders.  \n",
    "\n",
    "* One example could be that the stakeholder informs us that he/she wants to make use of machine learning to perform some predictions. So, we can expect some output from the machine learning model. The challenge in this case is how to translate these predictions into useful business metrics for the stakeholder.   \n",
    "\n",
    "* Another example is that the stakeholder wants to know how the company is positioned against its competitors. So in this case, we can consider purchasing data such as competitors' pricing and sales volume from third part data provider.\n",
    "\n",
    "**Discovering need for additional data later on**  \n",
    "\n",
    "* The findings of our data exploration may lead to the conclusion that we do not have enough information to provide meaningul insights. \n",
    "\n",
    "* Let's compare two products: one has low profit margin but high sales volume while the other has a high profit margin but low sales volume. Should we discontinue one, both or neither of these products? In this case, we can easily compute the sales and profit margin of each product from the existing data. \n",
    "\n",
    "* But, we might need more data in order to make a properly informed decision. For instance, it would be good to know the defect rate and number of returns for each of the products.\n",
    "\n",
    "* The rate of defects is an important metric because if a product is frequently refunded for its defect, it will incur additional costs and reputational risks. Such information can be captured by enhancing the existing systems or integrating additional system into the data pipelines.\n"
   ]
  },
  {
   "cell_type": "markdown",
   "id": "7eeb61f2-443e-4ca2-b955-49f7c7a04e06",
   "metadata": {},
   "source": [
    "**Deriving data to fill the gaps**  \n",
    "\n",
    "Earlier on, we talked about using machine learning algorithms to perform predictions. \n",
    "For instance, we can use machine learning to adjust the selling prices of our product in order to stay competitive against our competitors. We are not going into the details of such algorithm in this training. If you would like more details, you can check up this example on [pricing simulation around product class](https://github.com/atoti/notebooks/blob/main/notebooks/01-use-cases/other-industries/pricing-simulations-around-product-classes/main.ipynb).  "
   ]
  },
  {
   "cell_type": "markdown",
   "id": "42bd5954-3253-4bb6-9484-19d005f5c726",
   "metadata": {},
   "source": [
    "As well as integrating data from other sources, it's also possible to create new measures and investigate what we already have. Let's take a quick look at data deriving by performing a series of aggregations on existing data.  \n",
    "\n",
    "Let's say we want to know total sales revenue. We already have the `QuantitySold` and `SellingPricePerUnit`.  We are able to derive our sales revenu by multiplying the two measurements and summing them up.  \n",
    "\n",
    "💡Refer to the [training material](../03-Atoti/01-intro-Atoti.ipynb) under 03-Atoti if you are unfamiliar with operations of Atoti.  \n",
    "\n",
    "From here, we can continue with aggregation to compute profit margins."
   ]
  },
  {
   "cell_type": "code",
   "execution_count": 8,
   "id": "fc5e8723-2ba4-44c0-9dda-50cce6489b59",
   "metadata": {},
   "outputs": [],
   "source": [
    "# Compute sales and profit margin\n",
    "m[\"Sales\"] = tt.agg.sum_product(\n",
    "    m[\"QuantitySold.SUM\"],\n",
    "    m[\"SellingPricePerUnit\"],\n",
    "    scope=tt.OriginScope(levels={l[\"ProductId\"], l[\"OrderId\"]}),\n",
    ")\n",
    "\n",
    "m[\"ProfitMargin\"] = m[\"Profit\"] / m[\"Sales\"]\n",
    "m[\"ProfitMargin\"].formatter = \"DOUBLE[0.00%]\""
   ]
  },
  {
   "cell_type": "code",
   "execution_count": 9,
   "id": "1456cfb1-ad92-4bd8-85c2-748ef944e20e",
   "metadata": {
    "atoti": {
     "widget": {
      "mapping": {
       "columnValues": [
        "[Measures].[Sales]"
       ],
       "horizontalSubplots": [],
       "lineValues": [
        "[Measures].[ProfitMargin]"
       ],
       "verticalSubplots": [],
       "xAxis": [
        "[Products].[ProductCategory].[ProductCategory]"
       ]
      },
      "name": "Sales by Product category",
      "query": {
       "mdx": "SELECT NON EMPTY {[Measures].[Sales], [Measures].[ProfitMargin]} ON COLUMNS, NON EMPTY Order(Hierarchize(Descendants({[Products].[ProductCategory].[AllMember]}, 1, SELF_AND_BEFORE)), [Measures].[Sales], BDESC) ON ROWS FROM [Order Cube] CELL PROPERTIES VALUE, FORMATTED_VALUE, BACK_COLOR, FORE_COLOR, FONT_FLAGS",
       "updateMode": "once"
      },
      "serverKey": "default",
      "widgetKey": "plotly-columns-and-lines-chart"
     }
    },
    "editable": true,
    "slideshow": {
     "slide_type": ""
    },
    "tags": []
   },
   "outputs": [
    {
     "data": {
      "application/vnd.atoti.widget.v0+json": {
       "sessionId": "1715370185_DYABVY",
       "sessionLocation": {
        "https": false,
        "port": 9091
       },
       "widgetCreationCode": "session.widget"
      },
      "text/html": [
       "<img height=\"0\" width=\"0\" src=\"data:,\" />"
      ],
      "text/plain": [
       "Open the notebook in JupyterLab with the Atoti JupyterLab extension enabled to build this widget."
      ]
     },
     "metadata": {},
     "output_type": "display_data"
    }
   ],
   "source": [
    "session.widget"
   ]
  },
  {
   "cell_type": "markdown",
   "id": "aa78cfeb-8b14-4b8e-bd5f-e4b238f64a95",
   "metadata": {},
   "source": [
    "## 2 Setting the story context"
   ]
  },
  {
   "cell_type": "markdown",
   "id": "fd442e47-33ee-4c7e-a7c2-9cfbfa686ab7",
   "metadata": {},
   "source": [
    "The price of Product X increased from \\\\$10 to \\\\$25. That's a 150% increase! And that's certainly headline news, but what is the context of this data?\n",
    "\n",
    "* If the time period is only one month it's an unacceptable increase (considering that the average inflation rate as of 2023 is 2.5%.)\n",
    "\n",
    "* If it happens over a span of 10 years, and assuming we have an [average inflation rate of 2.69% and cumulative inflation of 58.57%](https://smartasset.com/investing/inflation-calculator#mjuumacU7Q), the expected pricing should be approximately \\$16. So the increase in price is still higher than expected.  \n",
    "\n",
    "* But if the time period is much longer, say 25 years, this increase will be inline with the inflation rate.  \n",
    "\n",
    "From the example above, we see the importance of context. By presenting facts along with background information and the relevant details, we provide credibility to the magnitude of the figures. Your audience are more likely to understand the information better, and therefore stay engaged. And of course, you can highlight the context that you feel is most relevant to your data."
   ]
  },
  {
   "cell_type": "markdown",
   "id": "b72cbc90-72f9-482a-9318-a80be8bbc934",
   "metadata": {},
   "source": [
    "### 2.1 Setting the context with \"When\"  \n",
    "\n",
    "With the \"When\" question, we explore timelines.  \n",
    "\n",
    "As we have seen in the previous example, providing context with time is important in helping the audience understand the sequence and duration of events. That said, we come back with the following considerations that involves time: \n",
    "\n",
    "* [Period of relevance](#2.1.1-Period-of-relevance)\n",
    "* [Trend intervals](#2.1.2-Trend-Intervals)\n"
   ]
  },
  {
   "cell_type": "markdown",
   "id": "3e12215b-2bb8-4def-9230-321471e9e38e",
   "metadata": {},
   "source": [
    "#### 2.1.1 Period of relevance  \n",
    "\n",
    "Some questions we can ask: \n",
    "- What is the timeline we are looking at? \n",
    "- Are 10 year-old data still relevant to us now?  \n",
    "- Are we trying to forecast our sales for the coming week, month or year?  \n",
    "\n",
    "Considering the period of relevance will help to streamline our data and let users focus on the important timeframe.  "
   ]
  },
  {
   "cell_type": "markdown",
   "id": "a5775065-e077-4a4b-adb0-f1bf3a4038d0",
   "metadata": {},
   "source": [
    "#### 2.1.2 Trend Intervals\n",
    "\n",
    "**Trends**  \n",
    "\n",
    "Some common questions asked when we are presented with a timeline:  \n",
    "- How has the data changed over time?  For example, is purchase price rising or falling? \n",
    "- Is the change consistent or with periodic fluctuations?  \n",
    "- What can possibly cause the hikes or dips during a certain period of time?\n",
    "\n",
    "This is where we make use of trends to discover patterns and trigger further investigation to understand certain phenomenon. Trends help us understand the general direction of a certain phenomenon and the rate of change. We can then look at the events that happen around the period of interest to find a way to mitigate the downward trend if necessary, or boost the trend further if it's already upward.  \n",
    "\n",
    "Trends can also be used to make predictions about the future of the observed phenomenon. For instance, if we observe an upward trend in the sales of bicycles, we should be prepared for increased demands in bicycle accessories as well.   \n",
    "\n",
    "**Trend Intervals**  \n",
    "\n",
    "But when we look at trends, we need to determine the intervals that will bring the most value to us. Do we need hourly, daily, weekly or monthly trends?  \n",
    "\n",
    "A couple of factors that affects the trend intervals:    \n",
    "\n",
    "* The granularity of the data captured: if we capture orders by dates without timestamps, we cannot provide hourly trends.  \n",
    "* Type of analysis we do: if we want to know if the popularity of certain products are seasonal, it makes sense to look at monthly or quarterly trends.  "
   ]
  },
  {
   "cell_type": "markdown",
   "id": "dc602d3d-aa93-4f0a-a7ac-8adf89ed778b",
   "metadata": {},
   "source": [
    "Let's look at an example of trends using our sample dataset.  \n",
    "\n",
    "We can easily derive sales trends by taking the difference between the sales of the current and previous day."
   ]
  },
  {
   "cell_type": "code",
   "execution_count": 10,
   "id": "15cc9792-8858-4f53-9e25-0e1af6419c9e",
   "metadata": {
    "tags": []
   },
   "outputs": [],
   "source": [
    "m[\"_previousSales\"] = tt.shift(m[\"Sales\"], h[\"OrderDate\"], offset=-1)\n",
    "\n",
    "m[\"SalesTrend\"] = tt.where(\n",
    "    ~m[\"_previousSales\"].isnull(), m[\"Sales\"] - m[\"_previousSales\"]\n",
    ")"
   ]
  },
  {
   "cell_type": "code",
   "execution_count": 11,
   "id": "7c521ef9-0a99-488a-9001-fe2efe9c4e9b",
   "metadata": {
    "atoti": {
     "height": 227,
     "widget": {
      "mapping": {
       "columns": [
        "ALL_MEASURES"
       ],
       "measures": [
        "[Measures].[Sales]",
        "[Measures].[_previousSales]",
        "[Measures].[SalesTrend]"
       ],
       "rows": [
        "[Orders].[OrderDate].[OrderDate]"
       ]
      },
      "query": {
       "mdx": "SELECT NON EMPTY Hierarchize(Descendants({[Orders].[OrderDate].[AllMember]}, 1, SELF_AND_BEFORE)) ON ROWS, NON EMPTY {[Measures].[Sales], [Measures].[_previousSales], [Measures].[SalesTrend]} ON COLUMNS FROM [Order Cube] CELL PROPERTIES VALUE, FORMATTED_VALUE, BACK_COLOR, FORE_COLOR, FONT_FLAGS",
       "updateMode": "once"
      },
      "serverKey": "default",
      "widgetKey": "pivot-table"
     }
    },
    "tags": []
   },
   "outputs": [
    {
     "data": {
      "application/vnd.atoti.widget.v0+json": {
       "sessionId": "1715370185_DYABVY",
       "sessionLocation": {
        "https": false,
        "port": 9091
       },
       "widgetCreationCode": "session.widget"
      },
      "text/html": [
       "<img height=\"0\" width=\"0\" src=\"data:,\" />"
      ],
      "text/plain": [
       "Open the notebook in JupyterLab with the Atoti JupyterLab extension enabled to build this widget."
      ]
     },
     "metadata": {},
     "output_type": "display_data"
    }
   ],
   "source": [
    "session.widget"
   ]
  },
  {
   "cell_type": "markdown",
   "id": "f64b5dde-61d8-4fa7-9e10-d0d4eea8be3e",
   "metadata": {},
   "source": [
    "Let's hide the interim measure `_previousSales` as it's not useful to end-users."
   ]
  },
  {
   "cell_type": "code",
   "execution_count": 12,
   "id": "0d39fcb9-dda7-419b-8602-cdee5006c6c3",
   "metadata": {
    "tags": []
   },
   "outputs": [],
   "source": [
    "# hide technical measures\n",
    "m[\"_previousSales\"].visible = False"
   ]
  },
  {
   "cell_type": "markdown",
   "id": "006ac865-84c5-4d37-b7a6-d3e61bd33e7c",
   "metadata": {},
   "source": [
    "We can then choose a visualization that best present the trend to end users.  "
   ]
  },
  {
   "cell_type": "code",
   "execution_count": 13,
   "id": "4383cc5b-b47c-4fbf-808b-72485cdd9cf0",
   "metadata": {
    "atoti": {
     "widget": {
      "mapping": {
       "horizontalSubplots": [],
       "secondaryValues": [],
       "splitBy": [
        "[Products].[ProductCategory].[ProductCategory]",
        "ALL_MEASURES"
       ],
       "values": [
        "[Measures].[SalesTrend]"
       ],
       "verticalSubplots": [],
       "xAxis": [
        "[Orders].[OrderDate].[OrderDate]"
       ]
      },
      "name": "Daily sales trend by product category",
      "query": {
       "mdx": "SELECT NON EMPTY Hierarchize(Descendants({[Orders].[OrderDate].[AllMember]}, 1, SELF_AND_BEFORE)) ON ROWS, NON EMPTY Crossjoin(Hierarchize(Descendants({[Products].[ProductCategory].[AllMember]}, 1, SELF_AND_BEFORE)), {[Measures].[SalesTrend]}) ON COLUMNS FROM [Order Cube] CELL PROPERTIES VALUE, FORMATTED_VALUE, BACK_COLOR, FORE_COLOR, FONT_FLAGS",
       "updateMode": "once"
      },
      "serverKey": "default",
      "widgetKey": "plotly-line-chart"
     }
    },
    "tags": []
   },
   "outputs": [
    {
     "data": {
      "application/vnd.atoti.widget.v0+json": {
       "sessionId": "1715370185_DYABVY",
       "sessionLocation": {
        "https": false,
        "port": 9091
       },
       "widgetCreationCode": "session.widget"
      },
      "text/html": [
       "<img height=\"0\" width=\"0\" src=\"data:,\" />"
      ],
      "text/plain": [
       "Open the notebook in JupyterLab with the Atoti JupyterLab extension enabled to build this widget."
      ]
     },
     "metadata": {},
     "output_type": "display_data"
    }
   ],
   "source": [
    "session.widget"
   ]
  },
  {
   "cell_type": "markdown",
   "id": "8905c861-699c-4ae9-a88e-c3cdf38c32b5",
   "metadata": {},
   "source": [
    "We can see a huge dip in the trend for Meat/Poultry on 17th Feb but it started increasing again after. There could be factors causing this dip that is worth investigating.\n",
    "\n",
    "We will come back to this later on.  "
   ]
  },
  {
   "cell_type": "markdown",
   "id": "7ed25744-3cff-4d36-bd43-f2d6e1440793",
   "metadata": {},
   "source": [
    "#### 📐Exercise  \n",
    "\n",
    "The above visualization split the sales trend by product category. Try viewing the sales trend by region instead."
   ]
  },
  {
   "cell_type": "markdown",
   "id": "a64da8bc-f01f-4cff-bf69-6e29bc3275a9",
   "metadata": {
    "tags": []
   },
   "source": [
    "#### 📖 Solution\n",
    "\n",
    "Uncomment and run the next cell for the solution. "
   ]
  },
  {
   "cell_type": "code",
   "execution_count": 14,
   "id": "583149c9-3444-43a5-acf8-6c848446e53d",
   "metadata": {
    "atoti": {
     "widget": {
      "mapping": {
       "horizontalSubplots": [],
       "secondaryValues": [],
       "splitBy": [
        "[Customers].[Region].[Region]",
        "ALL_MEASURES"
       ],
       "values": [
        "[Measures].[SalesTrend]"
       ],
       "verticalSubplots": [],
       "xAxis": [
        "[Orders].[OrderDate].[OrderDate]"
       ]
      },
      "name": "Sales trend by region",
      "query": {
       "mdx": "SELECT NON EMPTY Hierarchize(Descendants({[Orders].[OrderDate].[AllMember]}, 1, SELF_AND_BEFORE)) ON ROWS, NON EMPTY Crossjoin(Hierarchize(Descendants({[Customers].[Region].[AllMember]}, 1, SELF_AND_BEFORE)), {[Measures].[SalesTrend]}) ON COLUMNS FROM [Order Cube] CELL PROPERTIES VALUE, FORMATTED_VALUE, BACK_COLOR, FORE_COLOR, FONT_FLAGS",
       "updateMode": "once"
      },
      "serverKey": "default",
      "widgetKey": "plotly-line-chart"
     }
    },
    "tags": []
   },
   "outputs": [],
   "source": [
    "# session.widget"
   ]
  },
  {
   "cell_type": "markdown",
   "id": "ef205a51-c7b0-4b87-b41d-e91055899069",
   "metadata": {},
   "source": [
    "### 2.2 Setting the context with \"Where\""
   ]
  },
  {
   "cell_type": "markdown",
   "id": "60657804-55f9-46a2-92b6-a2cf25a27daf",
   "metadata": {},
   "source": [
    "\"Where\" usually refers to locations. It works well in answering questions such as the following:  \n",
    "- Are there global differences in the data?  \n",
    "- Which country is outperforming the others?  \n",
    "- Which local area (shop, town, county) is improving?  "
   ]
  },
  {
   "cell_type": "code",
   "execution_count": 15,
   "id": "55985c57-7edd-4799-b01a-a3366ebb6db5",
   "metadata": {
    "atoti": {
     "widget": {
      "filters": [
       "Except([Customers].[Region].Members, [Customers].[Region].[AllMember].[N/A])"
      ],
      "mapping": {
       "horizontalSubplots": [],
       "stackBy": [
        "ALL_MEASURES"
       ],
       "values": [
        "[Measures].[Sales]"
       ],
       "verticalSubplots": [],
       "xAxis": [
        "[Customers].[Region].[Region]"
       ]
      },
      "name": "Sales by region",
      "query": {
       "mdx": "SELECT NON EMPTY Hierarchize(Descendants({[Customers].[Region].[AllMember]}, 1, SELF_AND_BEFORE)) ON ROWS, NON EMPTY {[Measures].[Sales]} ON COLUMNS FROM [Order Cube] CELL PROPERTIES VALUE, FORMATTED_VALUE, BACK_COLOR, FORE_COLOR, FONT_FLAGS",
       "updateMode": "once"
      },
      "serverKey": "default",
      "style": {
       "areAxisTitlesVisible": true
      },
      "widgetKey": "plotly-stacked-column-chart"
     }
    },
    "tags": []
   },
   "outputs": [
    {
     "data": {
      "application/vnd.atoti.widget.v0+json": {
       "sessionId": "1715370185_DYABVY",
       "sessionLocation": {
        "https": false,
        "port": 9091
       },
       "widgetCreationCode": "session.widget"
      },
      "text/html": [
       "<img height=\"352\" width=\"1349\" src=\"data:image/png;base64,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\" />"
      ],
      "text/plain": [
       "Open the notebook in JupyterLab with the Atoti JupyterLab extension enabled to build this widget."
      ]
     },
     "metadata": {},
     "output_type": "display_data"
    }
   ],
   "source": [
    "session.widget"
   ]
  },
  {
   "cell_type": "markdown",
   "id": "339c83b7-120d-4b25-9d65-c5df83aa3a90",
   "metadata": {},
   "source": [
    "You probably noticed that the questions are more of \"Which\" than \"Where\". The answer can somewhat be an entity rather than a location, as in the case of shop.  \n",
    "\n",
    "Let's twist the \"Where\" question a little to fit our data context better. Instead of positioning it as a question on location, let's treat it as the `where` clause in [SQL](https://en.wikipedia.org/wiki/SQL) (Structured Query Language for querying databases) or [MDX](https://learn.microsoft.com/en-us/analysis-services/multidimensional-models/mdx/mdx-query-the-basic-query?view=asallproducts-allversions) (Multidimensional Expressions for querying OLAP cubes).  \n",
    "\n",
    "Now, the questions that we can answer can be more target focused. For instance, for a manager who manages the European market, we can filter our data to reflect only the countries under his charge.   "
   ]
  },
  {
   "cell_type": "code",
   "execution_count": 16,
   "id": "f9d08541-a6ce-45de-978b-f1051c747614",
   "metadata": {
    "atoti": {
     "widget": {
      "filters": [
       "[Customers].[Region].[AllMember].[Europe]"
      ],
      "mapping": {
       "horizontalSubplots": [],
       "stackBy": [
        "ALL_MEASURES"
       ],
       "values": [
        "[Measures].[Sales]"
       ],
       "verticalSubplots": [],
       "xAxis": [
        "[Customers].[Country].[Country]"
       ]
      },
      "query": {
       "mdx": "SELECT NON EMPTY Order(Hierarchize(Descendants({[Customers].[Country].[AllMember]}, 1, SELF_AND_BEFORE)), [Measures].[Sales], BDESC) ON ROWS, NON EMPTY {[Measures].[Sales]} ON COLUMNS FROM [Order Cube] CELL PROPERTIES VALUE, FORMATTED_VALUE, BACK_COLOR, FORE_COLOR, FONT_FLAGS",
       "updateMode": "once"
      },
      "serverKey": "default",
      "widgetKey": "plotly-stacked-column-chart"
     }
    },
    "tags": []
   },
   "outputs": [
    {
     "data": {
      "application/vnd.atoti.widget.v0+json": {
       "sessionId": "1715370185_DYABVY",
       "sessionLocation": {
        "https": false,
        "port": 9091
       },
       "widgetCreationCode": "session.widget"
      },
      "text/html": [
       "<img height=\"352\" width=\"1349\" src=\"data:image/png;base64,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\" />"
      ],
      "text/plain": [
       "Open the notebook in JupyterLab with the Atoti JupyterLab extension enabled to build this widget."
      ]
     },
     "metadata": {},
     "output_type": "display_data"
    }
   ],
   "source": [
    "session.widget"
   ]
  },
  {
   "cell_type": "markdown",
   "id": "0e4a87b6-5f54-4dcd-a8a1-69b981678260",
   "metadata": {},
   "source": [
    "Also, we can answer questions regarding the top/bottom performance, e.g. the top 5 products in the top 3 product categories with the highest sales.  "
   ]
  },
  {
   "cell_type": "code",
   "execution_count": 17,
   "id": "721231b0-ff31-4c08-99e7-48c8835053cf",
   "metadata": {
    "atoti": {
     "widget": {
      "filters": [
       "TopCount(Filter([Products].[ProductCategory].Levels(1).Members, NOT IsEmpty([Measures].[Sales])), 3, [Measures].[Sales])",
       "Generate([Products].[Products].Levels(1).Members, TopCount(Filter([Products].[Products].CurrentMember.Children, NOT IsEmpty([Measures].[Sales])), 5, [Measures].[Sales]))"
      ],
      "mapping": {
       "horizontalSubplots": [
        "[Products].[ProductCategory].[ProductCategory]"
       ],
       "sliceBy": [
        "[Products].[ProductName].[ProductName]"
       ],
       "values": [
        "[Measures].[Sales]"
       ],
       "verticalSubplots": []
      },
      "name": "Top 5 products of the top 3 product categories",
      "query": {
       "mdx": "SELECT NON EMPTY Crossjoin(Hierarchize(Descendants({[Products].[ProductCategory].[AllMember]}, 1, SELF_AND_BEFORE)), {[Measures].[Sales]}) ON COLUMNS, NON EMPTY Hierarchize(Descendants({[Products].[ProductName].[AllMember]}, 1, SELF_AND_BEFORE)) ON ROWS FROM [Order Cube] CELL PROPERTIES VALUE, FORMATTED_VALUE, BACK_COLOR, FORE_COLOR, FONT_FLAGS",
       "updateMode": "once"
      },
      "serverKey": "default",
      "subplotLimits": {
       "horizontal": 8
      },
      "widgetKey": "plotly-donut-chart"
     }
    },
    "scrolled": true,
    "tags": []
   },
   "outputs": [
    {
     "data": {
      "application/vnd.atoti.widget.v0+json": {
       "sessionId": "1715370185_DYABVY",
       "sessionLocation": {
        "https": false,
        "port": 9091
       },
       "widgetCreationCode": "session.widget"
      },
      "text/html": [
       "<img height=\"0\" width=\"0\" src=\"data:,\" />"
      ],
      "text/plain": [
       "Open the notebook in JupyterLab with the Atoti JupyterLab extension enabled to build this widget."
      ]
     },
     "metadata": {},
     "output_type": "display_data"
    }
   ],
   "source": [
    "session.widget"
   ]
  },
  {
   "cell_type": "markdown",
   "id": "8027942a-41d7-4add-900c-f9748fe8e1c9",
   "metadata": {},
   "source": [
    "# Quick recap"
   ]
  },
  {
   "cell_type": "markdown",
   "id": "3d6cc39a",
   "metadata": {},
   "source": [
    "In this first section on data storytelling we've seen how to think about the context and the purpose of your story and data.\n",
    "\n",
    "* **Who**: Who is my audience, who needs to know?\n",
    "\n",
    "* **What**: What information do they need to know?  What decisions are they trying to make?  What insights do they need?\n",
    "\n",
    "* **When**: Which time period should be considered?  Should data be analysed by day, by week, by month, by year?\n",
    "\n",
    "* **Where**: Where should I look for data (geographical zones, SQL queries, MDX)\n",
    "\n",
    "In the second section, we will focus on how to present your data so that it's easier for your audience to follow your narrative."
   ]
  },
  {
   "cell_type": "markdown",
   "id": "cea63b87-69bf-4c94-8fed-0eab8d034b7a",
   "metadata": {},
   "source": [
    "<div style=\"text-align: center;\" ><a href=\"https://www.atoti.io/?utm_source=gallery&utm_content=01-storytelling\" target=\"_blank\" rel=\"noopener noreferrer\"><img src=\"https://data.atoti.io/notebooks/banners/Your-turn-to-try-Atoti.jpg\" alt=\"Try atoti\"></a></div>"
   ]
  }
 ],
 "metadata": {
  "kernelspec": {
   "display_name": "Python 3 (ipykernel)",
   "language": "python",
   "name": "python3"
  },
  "language_info": {
   "codemirror_mode": {
    "name": "ipython",
    "version": 3
   },
   "file_extension": ".py",
   "mimetype": "text/x-python",
   "name": "python",
   "nbconvert_exporter": "python",
   "pygments_lexer": "ipython3",
   "version": "3.10.13"
  }
 },
 "nbformat": 4,
 "nbformat_minor": 5
}
