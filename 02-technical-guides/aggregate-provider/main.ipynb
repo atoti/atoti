{
 "cells": [
  {
   "cell_type": "markdown",
   "id": "cb213d83-5c16-4b45-8967-abac205d0864",
   "metadata": {},
   "source": [
    "# Understanding Aggregate Providers"
   ]
  },
  {
   "cell_type": "markdown",
   "id": "5b16c953-ab3b-4667-809a-498dbb043444",
   "metadata": {},
   "source": [
    "An [aggregate provider](https://docs.atoti.io/latest/api/atoti.AggregateProvider.html#atoti.AggregateProvider) precomputes and stores aggregates for the finest granularity of aggregation possible for certain hierarchies. This is also known as pre-aggregation. These intermediate aggregates are then stored in memory to speed up querying. \n",
    "\n",
    "In this notebook, we will look at how we can implement aggregate providers and how the performance varies with its addition.  \n",
    "\n",
    "<div style=\"text-align: center;\" ><a href=\"https://www.atoti.io/?utm_source=gallery&utm_content=aggregate-provider\" target=\"_blank\" rel=\"noopener noreferrer\"><img src=\"https://data.atoti.io/notebooks/banners/Discover-Atoti-now.png\" alt=\"Try atoti\"></a></div>"
   ]
  },
  {
   "cell_type": "code",
   "execution_count": 1,
   "id": "2fefdac5-fe75-4c51-bfe7-e11a4f623c12",
   "metadata": {
    "tags": []
   },
   "outputs": [],
   "source": [
    "import atoti as tt\n",
    "import zipfile\n",
    "import wget\n",
    "from IPython.display import clear_output, display"
   ]
  },
  {
   "cell_type": "code",
   "execution_count": 2,
   "id": "115f0050-162a-4922-8012-67517d3497b0",
   "metadata": {
    "tags": []
   },
   "outputs": [],
   "source": [
    "def download_data(filename=\"small_data.zip\"):\n",
    "    url = f\"https://data.atoti.io/notebooks/aggregate-provider/{filename}\"\n",
    "    filename = wget.download(url)\n",
    "\n",
    "    with zipfile.ZipFile(filename, \"r\") as zip_ref:\n",
    "        zip_ref.extractall()"
   ]
  },
  {
   "cell_type": "markdown",
   "id": "439adb00-b4dd-4993-90bb-f0000711b15d",
   "metadata": {
    "tags": []
   },
   "source": [
    "## Downloading Data\n",
    "\n",
    "In order to test out aggregate providers on a server hosted on a local machine, we prepared 2GB worth of data. The below cell downloads a smaller dataset by default for testing purpose. Set `testing` to `False` to download the full dataset. You can skip this if you already have the data downloaded.\n",
    "\n",
    "💡 **Note**: You may have to start your JupyterLab with `--ServerApp.iopub_msg_rate_limit=1e10`"
   ]
  },
  {
   "cell_type": "code",
   "execution_count": 3,
   "id": "5e53eb1c-6c2d-4581-80f0-2435aa0df343",
   "metadata": {},
   "outputs": [
    {
     "name": "stdout",
     "output_type": "stream",
     "text": [
      "100% [......................................................................] 200865990 / 200865990"
     ]
    }
   ],
   "source": [
    "testing = True\n",
    "download_data(\"small_data.zip\" if testing else \"data.zip\")"
   ]
  },
  {
   "cell_type": "markdown",
   "id": "9b353081-c34e-4c12-85c4-1a0e8dee924c",
   "metadata": {},
   "source": [
    "## Creating Atoti cube"
   ]
  },
  {
   "cell_type": "markdown",
   "id": "42d3ff7c-96f6-499d-87d8-7564d186155e",
   "metadata": {},
   "source": [
    "In an Atoti session, the [JVM memory setting](https://docs.atoti.io/latest/api/atoti.Session.html#atoti.Session) is defaulted to 25% of the machine memory. However, we can restrict the maximum [Java heap memory allocation](https://docs.atoti.io/latest/deployment/deployment_setup.html#memory) to 4GB since we only have 2GB data.  "
   ]
  },
  {
   "cell_type": "code",
   "execution_count": 4,
   "id": "ad90651f-1e18-474e-a4a1-cc7ec8f6b556",
   "metadata": {},
   "outputs": [],
   "source": [
    "session = tt.Session(\n",
    "    java_options=[\"-Xmx4g\"],\n",
    ")\n",
    "\n",
    "trades_tbl = session.read_csv(\n",
    "    \"data/trades/TradePnLs*.csv\",\n",
    "    table_name=\"Trade PnL\",\n",
    "    keys=[\"AsOfDate\", \"TradeId\", \"BookId\", \"DataSet\"],\n",
    "    array_separator=\";\",\n",
    ")\n",
    "\n",
    "books_tbl = session.read_csv(\n",
    "    \"data/books/books_books.csv\", table_name=\"Books\", keys=[\"BOOKID\"]\n",
    ")\n",
    "\n",
    "trades_tbl.join(books_tbl, trades_tbl[\"BookId\"] == books_tbl[\"BOOKID\"])\n",
    "\n",
    "cube = session.create_cube(trades_tbl)"
   ]
  },
  {
   "cell_type": "markdown",
   "id": "a4ad5ef3-c6a7-41dd-a8c7-68acfcaef327",
   "metadata": {},
   "source": [
    "To truly test the performance of the aggregate providers, let's [disable caching and sharing](https://docs.atoti.io/latest/api/atoti.aggregates_cache.AggregatesCache.html#atoti.aggregates_cache.AggregatesCache) by setting the `aggregates_cache.capacity` to `-1`."
   ]
  },
  {
   "cell_type": "code",
   "execution_count": 5,
   "id": "6adaa80d-74ed-4f17-958d-3eb450f40d43",
   "metadata": {},
   "outputs": [],
   "source": [
    "cube.aggregates_cache.capacity = -1"
   ]
  },
  {
   "cell_type": "markdown",
   "id": "aff8cb83-7e4a-4723-821a-cd89633c183f",
   "metadata": {},
   "source": [
    "In the default cube creation mode, only `pnl_vector` from the below schema will be created into measures. The rest of the columns will be created as single-level hierarchies."
   ]
  },
  {
   "cell_type": "code",
   "execution_count": 6,
   "id": "340ebc1b-b654-4931-b995-e62384de63ec",
   "metadata": {},
   "outputs": [
    {
     "data": {
      "text/markdown": [
       "```mermaid\n",
       "erDiagram\n",
       "  \"Trade PnL\" {\n",
       "    _ int PK \"BookId\"\n",
       "    _ LocalDate PK \"AsOfDate\"\n",
       "    _ String PK \"TradeId\"\n",
       "    _ String PK \"DataSet\"\n",
       "    _ String \"RiskFactor\"\n",
       "    _ String \"RiskClass\"\n",
       "    _ String \"SensitivityName\"\n",
       "    _ String \"ccy\"\n",
       "    nullable double[] \"pnl_vector\"\n",
       "  }\n",
       "  \"Books\" {\n",
       "    _ int PK \"BOOKID\"\n",
       "    _ String \"BOOK\"\n",
       "    _ String \"TRADING_DESK\"\n",
       "    _ String \"SUB_BUSINESS_UNIT\"\n",
       "    _ String \"BUSINESS_UNIT\"\n",
       "  }\n",
       "  \"Trade PnL\" }o--o| \"Books\" : \"`BookId` == `BOOKID`\"\n",
       "```\n"
      ],
      "text/plain": [
       "erDiagram\n",
       "  \"Trade PnL\" {\n",
       "    _ int PK \"BookId\"\n",
       "    _ LocalDate PK \"AsOfDate\"\n",
       "    _ String PK \"TradeId\"\n",
       "    _ String PK \"DataSet\"\n",
       "    _ String \"RiskFactor\"\n",
       "    _ String \"RiskClass\"\n",
       "    _ String \"SensitivityName\"\n",
       "    _ String \"ccy\"\n",
       "    nullable double[] \"pnl_vector\"\n",
       "  }\n",
       "  \"Books\" {\n",
       "    _ int PK \"BOOKID\"\n",
       "    _ String \"BOOK\"\n",
       "    _ String \"TRADING_DESK\"\n",
       "    _ String \"SUB_BUSINESS_UNIT\"\n",
       "    _ String \"BUSINESS_UNIT\"\n",
       "  }\n",
       "  \"Trade PnL\" }o--o| \"Books\" : \"`BookId` == `BOOKID`\""
      ]
     },
     "execution_count": 6,
     "metadata": {},
     "output_type": "execute_result"
    }
   ],
   "source": [
    "session.tables.schema"
   ]
  },
  {
   "cell_type": "code",
   "execution_count": 7,
   "id": "502186f1-0a44-400d-8ab2-190fcd737f7a",
   "metadata": {},
   "outputs": [
    {
     "data": {
      "application/json": {
       "Dimensions": {
        "Books": {
         "BOOK": [
          "BOOK"
         ],
         "BUSINESS_UNIT": [
          "BUSINESS_UNIT"
         ],
         "SUB_BUSINESS_UNIT": [
          "SUB_BUSINESS_UNIT"
         ],
         "TRADING_DESK": [
          "TRADING_DESK"
         ]
        },
        "Trade PnL": {
         "AsOfDate": [
          "AsOfDate"
         ],
         "BookId": [
          "BookId"
         ],
         "DataSet": [
          "DataSet"
         ],
         "RiskClass": [
          "RiskClass"
         ],
         "RiskFactor": [
          "RiskFactor"
         ],
         "SensitivityName": [
          "SensitivityName"
         ],
         "TradeId": [
          "TradeId"
         ],
         "ccy": [
          "ccy"
         ]
        }
       },
       "Measures": {
        "contributors.COUNT": {
         "formatter": "INT[#,###]"
        },
        "pnl_vector.MEAN": {
         "formatter": null
        },
        "pnl_vector.SUM": {
         "formatter": null
        }
       }
      },
      "text/html": [
       "<ul>\n",
       "<li>Trade PnL\n",
       "  <ul>\n",
       "  <li>Dimensions\n",
       "    <ul>\n",
       "    <li>Books\n",
       "      <ul>\n",
       "      <li>BOOK\n",
       "        <ol>\n",
       "        <li>BOOK</li>\n",
       "        </ol>      </li>\n",
       "      <li>BUSINESS_UNIT\n",
       "        <ol>\n",
       "        <li>BUSINESS_UNIT</li>\n",
       "        </ol>      </li>\n",
       "      <li>SUB_BUSINESS_UNIT\n",
       "        <ol>\n",
       "        <li>SUB_BUSINESS_UNIT</li>\n",
       "        </ol>      </li>\n",
       "      <li>TRADING_DESK\n",
       "        <ol>\n",
       "        <li>TRADING_DESK</li>\n",
       "        </ol>      </li>\n",
       "      </ul>\n",
       "    </li>\n",
       "    <li>Trade PnL\n",
       "      <ul>\n",
       "      <li>AsOfDate\n",
       "        <ol>\n",
       "        <li>AsOfDate</li>\n",
       "        </ol>      </li>\n",
       "      <li>BookId\n",
       "        <ol>\n",
       "        <li>BookId</li>\n",
       "        </ol>      </li>\n",
       "      <li>DataSet\n",
       "        <ol>\n",
       "        <li>DataSet</li>\n",
       "        </ol>      </li>\n",
       "      <li>RiskClass\n",
       "        <ol>\n",
       "        <li>RiskClass</li>\n",
       "        </ol>      </li>\n",
       "      <li>RiskFactor\n",
       "        <ol>\n",
       "        <li>RiskFactor</li>\n",
       "        </ol>      </li>\n",
       "      <li>SensitivityName\n",
       "        <ol>\n",
       "        <li>SensitivityName</li>\n",
       "        </ol>      </li>\n",
       "      <li>TradeId\n",
       "        <ol>\n",
       "        <li>TradeId</li>\n",
       "        </ol>      </li>\n",
       "      <li>ccy\n",
       "        <ol>\n",
       "        <li>ccy</li>\n",
       "        </ol>      </li>\n",
       "      </ul>\n",
       "    </li>\n",
       "    </ul>\n",
       "  </li>\n",
       "  <li>Measures\n",
       "    <ul>\n",
       "    <li>contributors.COUNT\n",
       "      <ul>\n",
       "      <li>formatter: INT[#,###]</li>\n",
       "      </ul>\n",
       "    </li>\n",
       "    <li>pnl_vector.MEAN\n",
       "      <ul>\n",
       "      <li>formatter: None</li>\n",
       "      </ul>\n",
       "    </li>\n",
       "    <li>pnl_vector.SUM\n",
       "      <ul>\n",
       "      <li>formatter: None</li>\n",
       "      </ul>\n",
       "    </li>\n",
       "    </ul>\n",
       "  </li>\n",
       "  </ul>\n",
       "</li>\n",
       "</ul>\n"
      ],
      "text/plain": [
       "<atoti.cube.Cube at 0x1361b6290>"
      ]
     },
     "execution_count": 7,
     "metadata": {
      "application/json": {
       "expanded": false,
       "root": "Trade PnL"
      }
     },
     "output_type": "execute_result"
    }
   ],
   "source": [
    "cube"
   ]
  },
  {
   "cell_type": "code",
   "execution_count": 8,
   "id": "0e8328f8-649d-43b5-b950-7f298380e69f",
   "metadata": {},
   "outputs": [],
   "source": [
    "h, l, m = cube.hierarchies, cube.levels, cube.measures"
   ]
  },
  {
   "cell_type": "markdown",
   "id": "50b9950f-a349-48bf-9f73-fc0c7541029f",
   "metadata": {},
   "source": [
    "## Primitive measures vs measures created from UDF"
   ]
  },
  {
   "cell_type": "markdown",
   "id": "d4d255eb-b0a7-4d3c-9195-dc1bb1c349b4",
   "metadata": {},
   "source": [
    "`pnl_vector.SUM` and `pnl_vector.MEAN` are primitive measures that were created automatically during cube creation.  \n",
    "\n",
    "They can also be created as follows:\n",
    "\n",
    "```python\n",
    "m[\"pnl_vector.SUM\"] = tt.agg.sum(trades_tbl[\"pnl_vector\"])\n",
    "m[\"pnl_vector.MEAN\"] = tt.agg.mean(trades_tbl[\"pnl_vector\"])\n",
    "```\n",
    "\n",
    "We can see that these measures are created from the underlying facts that contributes to the cube. In the next section, we will look at measures created from user defined functions (UDF).\n",
    "\n",
    "💡 **Note:** It is important to understand the difference between the two type of measures as we can only use the primitive measures with aggregate provider."
   ]
  },
  {
   "cell_type": "markdown",
   "id": "7739578e-d047-44e6-994a-736e36bee5fd",
   "metadata": {},
   "source": [
    "### Computing VaR 95 with user defined function\n",
    "\n",
    "Since we have the `pnl_vector.SUM` which is the sum of the profit and loss (PnL) value for each historical date, we define the formula of [value at risk (VaR)](https://www.investopedia.com/articles/04/092904.asp) at 95% confidence level as follows:"
   ]
  },
  {
   "cell_type": "code",
   "execution_count": 9,
   "id": "8905dbd1-fbbe-443c-a3ea-2712308a6b63",
   "metadata": {},
   "outputs": [],
   "source": [
    "m[\"VaR95\"] = tt.array.quantile(m[\"pnl_vector.SUM\"], 1 - 0.95)"
   ]
  },
  {
   "cell_type": "markdown",
   "id": "b7f8056e-841a-46df-b7df-93d7cff1c76d",
   "metadata": {},
   "source": [
    "We formulate our computation of `VaR95` on top of the primitive measure `pnl_vector.SUM`. Depending on the query, `VaR95` is computed on the fly for each level in the query."
   ]
  },
  {
   "cell_type": "code",
   "execution_count": 10,
   "id": "21c1b63d-45bd-43a2-a9fa-b1f40d24c318",
   "metadata": {
    "atoti": {
     "widget": {
      "mapping": {
       "columns": [
        "ALL_MEASURES"
       ],
       "measures": [
        "[Measures].[VaR95]"
       ],
       "rows": [
        "[Trade PnL].[AsOfDate].[AsOfDate] => [Books].[BUSINESS_UNIT].[BUSINESS_UNIT]"
       ]
      },
      "name": "Available report dates",
      "query": {
       "mdx": "SELECT NON EMPTY Hierarchize(Union(Crossjoin(Descendants({[Trade PnL].[AsOfDate].[AllMember]}, 1, SELF_AND_BEFORE), [Books].[BUSINESS_UNIT].DefaultMember), Crossjoin([Trade PnL].[AsOfDate].[AllMember].[2021-02-22], Hierarchize(Descendants({[Books].[BUSINESS_UNIT].[AllMember]}, 1, SELF_AND_BEFORE))))) ON ROWS, NON EMPTY {[Measures].[VaR95]} ON COLUMNS FROM [Trade PnL] CELL PROPERTIES VALUE, FORMATTED_VALUE, BACK_COLOR, FORE_COLOR, FONT_FLAGS",
       "updateMode": "once"
      },
      "serverKey": "default",
      "widgetKey": "pivot-table"
     }
    },
    "tags": []
   },
   "outputs": [
    {
     "data": {
      "application/vnd.atoti.widget.v0+json": {
       "sessionId": "1715105302_TPTDJZ",
       "sessionLocation": {
        "https": false,
        "port": 53579
       },
       "widgetCreationCode": "session.widget"
      },
      "text/html": [
       "<img height=\"0\" width=\"0\" src=\"data:,AAAAAAAAAAAAAAAAAAAAAAAAAAAAAAAAAAAAAAAAAAAAAAAACXBIWXMAABqTAAAakwH55E62\" />"
      ],
      "text/plain": [
       "Open the notebook in JupyterLab with the Atoti JupyterLab extension enabled to build this widget."
      ]
     },
     "metadata": {},
     "output_type": "display_data"
    }
   ],
   "source": [
    "session.widget"
   ]
  },
  {
   "cell_type": "markdown",
   "id": "d60e72a7-d575-4ad9-9daf-f304b19a4e3d",
   "metadata": {},
   "source": [
    "## Timing our performance without aggregate provider"
   ]
  },
  {
   "cell_type": "markdown",
   "id": "e4586429-f18f-4c46-9cbd-45e59a9d5fbc",
   "metadata": {},
   "source": [
    "Let's capture the performance of our queries before we proceed to create our aggregate provider."
   ]
  },
  {
   "cell_type": "code",
   "execution_count": 11,
   "id": "7a237ed8-ed61-4152-9d15-e9633749f72a",
   "metadata": {
    "tags": []
   },
   "outputs": [
    {
     "name": "stdout",
     "output_type": "stream",
     "text": [
      "CPU times: user 54 ms, sys: 9.52 ms, total: 63.6 ms\n",
      "Wall time: 99 ms\n"
     ]
    },
    {
     "data": {
      "text/html": [
       "<div>\n",
       "<style scoped>\n",
       "    .dataframe tbody tr th:only-of-type {\n",
       "        vertical-align: middle;\n",
       "    }\n",
       "\n",
       "    .dataframe tbody tr th {\n",
       "        vertical-align: top;\n",
       "    }\n",
       "\n",
       "    .dataframe thead th {\n",
       "        text-align: right;\n",
       "    }\n",
       "</style>\n",
       "<table border=\"1\" class=\"dataframe\">\n",
       "  <thead>\n",
       "    <tr style=\"text-align: right;\">\n",
       "      <th></th>\n",
       "      <th>VaR95</th>\n",
       "    </tr>\n",
       "  </thead>\n",
       "  <tbody>\n",
       "  </tbody>\n",
       "</table>\n",
       "</div>"
      ],
      "text/plain": [
       "Empty DataFrame\n",
       "Columns: [VaR95]\n",
       "Index: []"
      ]
     },
     "execution_count": 11,
     "metadata": {},
     "output_type": "execute_result"
    }
   ],
   "source": [
    "%%time\n",
    "cube.query(\n",
    "    m[\"VaR95\"],\n",
    "    levels=[l[\"BUSINESS_UNIT\"], l[\"SUB_BUSINESS_UNIT\"], l[\"TRADING_DESK\"]],\n",
    "    filter=(l[\"AsOfDate\"] == \"2021-03-01\"),\n",
    ")"
   ]
  },
  {
   "cell_type": "markdown",
   "id": "780646ad-7fd3-477f-b81a-bb9964486aba",
   "metadata": {},
   "source": [
    "## Creating aggregate provider"
   ]
  },
  {
   "cell_type": "code",
   "execution_count": 12,
   "id": "2e834d0b-d343-4ea0-bc8c-5caffe9a1a67",
   "metadata": {},
   "outputs": [],
   "source": [
    "from datetime import date\n",
    "\n",
    "current_date = date(2021, 3, 1)"
   ]
  },
  {
   "cell_type": "markdown",
   "id": "cb99bbbb-fb01-4f91-b04d-7a30662f4d6a",
   "metadata": {},
   "source": [
    "### Type of aggregate providers\n",
    "\n",
    "We named our aggregate provider `PnL provider` and used a **Bitmap aggregate provider** instead of the default **Leaf aggregate provider**:\n",
    "\n",
    "- `bitmap`: Bitmap aggregate provider\n",
    "\n",
    "> Bitmap aggregate provider computes on-the-fly at query time using the multidimensional bitmap indexing. It is generally faster but it takes more memory.\n",
    "\n",
    "- `leaf`: Leaf aggregate provider (default)\n",
    "\n",
    "> Leaf aggregate provider maintains a dictionary of index tuples, known as the point index. It computes on the fly at query time via efficient compilation and bitmap operations. Its performance is generally slightly slower than that of the Bitmap aggregate provider. However, since it doesn’t store the bitmap index, it has a lower memory cost.\n",
    "\n",
    "Without our self-defined aggregate provider, Atoti uses the **JUST IN TIME (JIT) aggregate provider** to retrieve its aggregate directly from the data tables as required during runtime. There is no pre-computation of aggregates, therefore queries are slower."
   ]
  },
  {
   "cell_type": "code",
   "execution_count": 13,
   "id": "bec05170-65d2-41e4-bfd7-0513df973e71",
   "metadata": {},
   "outputs": [],
   "source": [
    "cube.aggregate_providers.update(\n",
    "    {\n",
    "        \"PnL provider\": tt.AggregateProvider(\n",
    "            key=\"bitmap\",\n",
    "            levels=[\n",
    "                l[\"AsOfDate\"],\n",
    "                l[\"BUSINESS_UNIT\"],\n",
    "                l[\"SUB_BUSINESS_UNIT\"],\n",
    "                l[\"TRADING_DESK\"],\n",
    "            ],\n",
    "            measures=[m[\"pnl_vector.SUM\"]],\n",
    "            filter=(l[\"AsOfDate\"] == current_date),\n",
    "        )\n",
    "    }\n",
    ")"
   ]
  },
  {
   "cell_type": "markdown",
   "id": "7ddb0bbe-4ffc-4b14-87d6-3238db315402",
   "metadata": {},
   "source": [
    "### Filtering data\n",
    "\n",
    "When a large volume of data is expected, it is useful to limit the amount of data that we want to cache in memory. To do so, we make use of the `filter` parameter to set the condition(s) for the data used for pre-computations. In this case, we expect that users will query the latest date most frequently. Therefore, it make sense to cache the data for the day in memory."
   ]
  },
  {
   "cell_type": "markdown",
   "id": "e2b0e5b9-e9ad-4160-ba61-41de3049ba80",
   "metadata": {},
   "source": [
    "## Verifying performance"
   ]
  },
  {
   "cell_type": "markdown",
   "id": "944891d1-58d8-4561-b7aa-83bea98513bf",
   "metadata": {},
   "source": [
    "The measure listed above is pre-computed and aggregated before storing in memory along with the levels defined in the aggregate provider. Consequently, as we query the measure `pnl_vector.SUM` along any of the levels listed above, the performance will be improved.  "
   ]
  },
  {
   "cell_type": "code",
   "execution_count": 14,
   "id": "37d1a23c-4ccc-477c-93d3-f23c18104509",
   "metadata": {},
   "outputs": [
    {
     "name": "stdout",
     "output_type": "stream",
     "text": [
      "CPU times: user 7.94 ms, sys: 3.21 ms, total: 11.1 ms\n",
      "Wall time: 32.6 ms\n"
     ]
    },
    {
     "data": {
      "text/html": [
       "<div>\n",
       "<style scoped>\n",
       "    .dataframe tbody tr th:only-of-type {\n",
       "        vertical-align: middle;\n",
       "    }\n",
       "\n",
       "    .dataframe tbody tr th {\n",
       "        vertical-align: top;\n",
       "    }\n",
       "\n",
       "    .dataframe thead th {\n",
       "        text-align: right;\n",
       "    }\n",
       "</style>\n",
       "<table border=\"1\" class=\"dataframe\">\n",
       "  <thead>\n",
       "    <tr style=\"text-align: right;\">\n",
       "      <th></th>\n",
       "      <th>VaR95</th>\n",
       "    </tr>\n",
       "  </thead>\n",
       "  <tbody>\n",
       "  </tbody>\n",
       "</table>\n",
       "</div>"
      ],
      "text/plain": [
       "Empty DataFrame\n",
       "Columns: [VaR95]\n",
       "Index: []"
      ]
     },
     "execution_count": 14,
     "metadata": {},
     "output_type": "execute_result"
    }
   ],
   "source": [
    "%%time\n",
    "cube.query(\n",
    "    m[\"VaR95\"],\n",
    "    levels=[l[\"BUSINESS_UNIT\"], l[\"SUB_BUSINESS_UNIT\"], l[\"TRADING_DESK\"]],\n",
    "    filter=(l[\"AsOfDate\"] == \"2021-03-01\"),\n",
    ")"
   ]
  },
  {
   "cell_type": "markdown",
   "id": "93cec2c3-2327-4a2c-b8c7-5782ae6fff3e",
   "metadata": {},
   "source": [
    "We are querying `VaR95` and not `pnl_vector.SUM`, yet the performance of the query is much faster than before. This is because `VaR95` aggregates on top of `pnl_vector.SUM`, which is already available in memory due to the aggregate provider.  \n",
    "\n",
    "⚠️ Therefore, **we cannot and should not use measures that are computed from UDF in an aggregate provider**."
   ]
  },
  {
   "cell_type": "code",
   "execution_count": 15,
   "id": "d41aefdc-47d5-473f-ae26-fac08070725f",
   "metadata": {},
   "outputs": [
    {
     "name": "stdout",
     "output_type": "stream",
     "text": [
      "CPU times: user 7.74 ms, sys: 3.04 ms, total: 10.8 ms\n",
      "Wall time: 26.7 ms\n"
     ]
    },
    {
     "data": {
      "text/html": [
       "<div>\n",
       "<style scoped>\n",
       "    .dataframe tbody tr th:only-of-type {\n",
       "        vertical-align: middle;\n",
       "    }\n",
       "\n",
       "    .dataframe tbody tr th {\n",
       "        vertical-align: top;\n",
       "    }\n",
       "\n",
       "    .dataframe thead th {\n",
       "        text-align: right;\n",
       "    }\n",
       "</style>\n",
       "<table border=\"1\" class=\"dataframe\">\n",
       "  <thead>\n",
       "    <tr style=\"text-align: right;\">\n",
       "      <th></th>\n",
       "      <th>VaR95</th>\n",
       "    </tr>\n",
       "  </thead>\n",
       "  <tbody>\n",
       "  </tbody>\n",
       "</table>\n",
       "</div>"
      ],
      "text/plain": [
       "Empty DataFrame\n",
       "Columns: [VaR95]\n",
       "Index: []"
      ]
     },
     "execution_count": 15,
     "metadata": {},
     "output_type": "execute_result"
    }
   ],
   "source": [
    "%%time\n",
    "cube.query(\n",
    "    m[\"VaR95\"],\n",
    "    levels=[l[\"BUSINESS_UNIT\"], l[\"SUB_BUSINESS_UNIT\"]],\n",
    "    filter=(l[\"AsOfDate\"] == \"2021-03-01\"),\n",
    ")"
   ]
  },
  {
   "cell_type": "markdown",
   "id": "6fdd6105-6338-49d7-a883-7423dbe5e87e",
   "metadata": {},
   "source": [
    "### Querying outside of aggregate provider's range\n",
    "\n",
    "As we add in a new level that's not listed in the levels for the aggregate provider, we will see that the querying speed slows down slightly. This may be due to JIT retrieval of the level from the data table."
   ]
  },
  {
   "cell_type": "code",
   "execution_count": 16,
   "id": "8edf6d49-1be4-44b4-bdbd-c06a7790def9",
   "metadata": {
    "atoti": {
     "widget": {
      "columnWidths": {
       "[Trade PnL].[RISKFACTOR].[RISKFACTOR]": 338.0000305175781
      },
      "mapping": {
       "columns": [
        "ALL_MEASURES"
       ],
       "measures": [],
       "rows": [
        "[Trade PnL].[CCY].[CCY]"
       ]
      },
      "query": {
       "mdx": "SELECT NON EMPTY Hierarchize(Descendants({[Trade PnL].[CCY].[AllMember]}, 1, SELF_AND_BEFORE)) ON ROWS FROM [Trade PnL] CELL PROPERTIES VALUE, FORMATTED_VALUE, BACK_COLOR, FORE_COLOR, FONT_FLAGS",
       "updateMode": "once"
      },
      "serverKey": "default",
      "widgetKey": "pivot-table"
     }
    },
    "tags": []
   },
   "outputs": [
    {
     "name": "stdout",
     "output_type": "stream",
     "text": [
      "CPU times: user 8.41 ms, sys: 3.56 ms, total: 12 ms\n",
      "Wall time: 29.6 ms\n"
     ]
    },
    {
     "data": {
      "text/html": [
       "<div>\n",
       "<style scoped>\n",
       "    .dataframe tbody tr th:only-of-type {\n",
       "        vertical-align: middle;\n",
       "    }\n",
       "\n",
       "    .dataframe tbody tr th {\n",
       "        vertical-align: top;\n",
       "    }\n",
       "\n",
       "    .dataframe thead th {\n",
       "        text-align: right;\n",
       "    }\n",
       "</style>\n",
       "<table border=\"1\" class=\"dataframe\">\n",
       "  <thead>\n",
       "    <tr style=\"text-align: right;\">\n",
       "      <th></th>\n",
       "      <th>VaR95</th>\n",
       "    </tr>\n",
       "  </thead>\n",
       "  <tbody>\n",
       "  </tbody>\n",
       "</table>\n",
       "</div>"
      ],
      "text/plain": [
       "Empty DataFrame\n",
       "Columns: [VaR95]\n",
       "Index: []"
      ]
     },
     "execution_count": 16,
     "metadata": {},
     "output_type": "execute_result"
    }
   ],
   "source": [
    "%%time\n",
    "cube.query(\n",
    "    m[\"VaR95\"],\n",
    "    levels=[l[\"BUSINESS_UNIT\"], l[\"SUB_BUSINESS_UNIT\"], l[\"TRADING_DESK\"], l[\"ccy\"]],\n",
    "    filter=(l[\"AsOfDate\"] == \"2021-03-01\"),\n",
    ")"
   ]
  },
  {
   "cell_type": "markdown",
   "id": "be8263f3-fe7f-4f3c-9fad-c72a0b84dc05",
   "metadata": {},
   "source": [
    "### Explaining query plans"
   ]
  },
  {
   "cell_type": "markdown",
   "id": "c4a2c263-ac7a-4f93-ae0c-f6d087d55933",
   "metadata": {},
   "source": [
    "We can understand how the query is executed with [`cube.explain_query`](https://docs.atoti.io/latest/api/atoti.Cube.explain_query.html#atoti.Cube.explain_query).  \n",
    "\n",
    "We replace the `query` function with `explain_query` and re-run the query with levels defined in the aggregate provider. Under Retrievals, we will see that _PartialPrimitiveAggregatesRetrieval_ is used in the query plan. "
   ]
  },
  {
   "cell_type": "code",
   "execution_count": 17,
   "id": "b04361cd-02a8-4031-89d2-c69c840e2756",
   "metadata": {
    "tags": []
   },
   "outputs": [
    {
     "data": {
      "application/json": {
       "Query plans": []
      },
      "text/html": [
       "<ul>\n",
       "<li>Query analysis\n",
       "  <ul>\n",
       "  <li>Query plans\n",
       "    <ol>\n",
       "    </ol>  </li>\n",
       "  </ul>\n",
       "</li>\n",
       "</ul>\n"
      ],
      "text/plain": [
       "QueryAnalysis(query_plans=[])"
      ]
     },
     "execution_count": 17,
     "metadata": {
      "application/json": {
       "expanded": true,
       "root": "Query analysis"
      }
     },
     "output_type": "execute_result"
    }
   ],
   "source": [
    "cube.explain_query(\n",
    "    m[\"VaR95\"],\n",
    "    levels=[l[\"BUSINESS_UNIT\"], l[\"SUB_BUSINESS_UNIT\"], l[\"TRADING_DESK\"]],\n",
    "    filter=(l[\"AsOfDate\"] == \"2021-03-01\"),\n",
    ")"
   ]
  },
  {
   "cell_type": "markdown",
   "id": "472911c2-a339-4f4e-9623-cd7b5d27ac05",
   "metadata": {},
   "source": [
    "However, once we queried levels outside of the aggregate provider's range, we see that _JITPrimitiveAggregatesRetrieval_ is used instead. "
   ]
  },
  {
   "cell_type": "code",
   "execution_count": 18,
   "id": "7f2889f1-d8b9-458b-9577-95619d629fcd",
   "metadata": {},
   "outputs": [
    {
     "data": {
      "application/json": {
       "Query plans": []
      },
      "text/html": [
       "<ul>\n",
       "<li>Query analysis\n",
       "  <ul>\n",
       "  <li>Query plans\n",
       "    <ol>\n",
       "    </ol>  </li>\n",
       "  </ul>\n",
       "</li>\n",
       "</ul>\n"
      ],
      "text/plain": [
       "QueryAnalysis(query_plans=[])"
      ]
     },
     "execution_count": 18,
     "metadata": {
      "application/json": {
       "expanded": true,
       "root": "Query analysis"
      }
     },
     "output_type": "execute_result"
    }
   ],
   "source": [
    "cube.explain_query(\n",
    "    m[\"VaR95\"],\n",
    "    levels=[l[\"BUSINESS_UNIT\"], l[\"SUB_BUSINESS_UNIT\"], l[\"TRADING_DESK\"], l[\"ccy\"]],\n",
    "    filter=(l[\"AsOfDate\"] == \"2021-03-01\"),\n",
    ")"
   ]
  },
  {
   "cell_type": "markdown",
   "id": "d67a2e8e-e5d8-4af1-98ca-cb3734a6b7cb",
   "metadata": {},
   "source": [
    "# Tuning Atoti\n",
    "\n",
    "There are many ways to tune the performance of our Atoti instance, for example:\n",
    "- [Aggregate provider](https://docs.atoti.io/latest/api/atoti.AggregateProvider.html#atoti.AggregateProvider) as we have seen in the example above.\n",
    "- [Aggregate cache](https://docs.atoti.io/latest/api/atoti.aggregates_cache.AggregatesCache.html#atoti.aggregates_cache.AggregatesCache) which we have turned off to prevent interference in performance.\n",
    "- Partitioning of tables.\n",
    "\n",
    "[Partitioning](https://docs.activeviam.com/products/atoti/server/latest/docs/concepts/partitioning/) a table is to cluster the data that the table holds and separate them into different partitions. This distributes the work performed by the processing cores for both data loading and querying. Although we did not explicitly configure partition for our aggregate provider example, it is useful to know that it is defaulted to the [partitioning of the cube’s base table](https://docs.atoti.io/latest/api/atoti.Session.create_table.html#atoti.Session.create_table). And fortunately, Atoti has default partitioning rules applied.  \n",
    "\n",
    "To find out more, reach out to [ActiveViam](https://activeviam.com/contact-us/?utm_source=github) or the Atoti team on [GitHub discussion](https://github.com/atoti/atoti/discussions).\n",
    "\n",
    "<div style=\"text-align: center;\" ><a href=\"https://www.atoti.io/?utm_source=gallery&utm_content=aggregate-provider\" target=\"_blank\" rel=\"noopener noreferrer\"><img src=\"https://data.atoti.io/notebooks/banners/Your-turn-to-try-Atoti.jpg\" alt=\"Try atoti\"></a></div>"
   ]
  }
 ],
 "metadata": {
  "kernelspec": {
   "display_name": "Python 3 (ipykernel)",
   "language": "python",
   "name": "python3"
  },
  "language_info": {
   "codemirror_mode": {
    "name": "ipython",
    "version": 3
   },
   "file_extension": ".py",
   "mimetype": "text/x-python",
   "name": "python",
   "nbconvert_exporter": "python",
   "pygments_lexer": "ipython3",
   "version": "3.11.9"
  }
 },
 "nbformat": 4,
 "nbformat_minor": 5
}
