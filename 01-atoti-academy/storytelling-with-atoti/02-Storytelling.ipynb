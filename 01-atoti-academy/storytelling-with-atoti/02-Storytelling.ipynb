{
 "cells": [
  {
   "cell_type": "markdown",
   "id": "e26550ee-80db-4cc0-9d49-81a75754b02b",
   "metadata": {},
   "source": [
    "# Previously..."
   ]
  },
  {
   "cell_type": "code",
   "execution_count": 1,
   "id": "d4da5b30-fd76-4aa5-958c-6239f0e7f0af",
   "metadata": {
    "tags": []
   },
   "outputs": [],
   "source": [
    "import atoti as tt\n",
    "from utils import setup"
   ]
  },
  {
   "cell_type": "code",
   "execution_count": 2,
   "id": "30649fe6-aa47-470d-be36-7cd4aabddf5c",
   "metadata": {
    "tags": []
   },
   "outputs": [],
   "source": [
    "# instantiating our instance and creating the Atoti cube with our data\n",
    "session, cube = setup.create_app(ses_name=\"training2\", port=9092)\n",
    "setup.nb2_measures(cube)\n",
    "# aliasing cube properties\n",
    "h, l, m = cube.hierarchies, cube.levels, cube.measures"
   ]
  },
  {
   "cell_type": "markdown",
   "id": "1cbf4bad-485e-4fe5-ac6b-9f62bcd14292",
   "metadata": {
    "editable": true,
    "slideshow": {
     "slide_type": ""
    },
    "tags": []
   },
   "source": [
    "# Story presentation with \"How\" questions"
   ]
  },
  {
   "cell_type": "markdown",
   "id": "0812dab8-a16a-46bc-b207-5b11f2652e7a",
   "metadata": {},
   "source": [
    "> A Craftsman Must Sharpen His Tools to Do His Job  \n",
    "\n",
    "Now that you have a good idea of what you need to put forward and present to your audience, it's now time to think about how to best display key findings and insights. \n",
    "\"How\" questions will help you here.\n",
    "\n",
    "Let's dive in on the tools and what type of visualizations to use in various situations.  \n",
    "\n",
    "- [1. Explore the tools](#1.-Explore-the-tools)\n",
    "    - [1.1 Traditional reports vs interactive dashboards](#1.1-Traditional-reports-vs-interactive-dashboards)\n",
    "        - [1.1.1 Traditional reports](#1.1.1-Traditional-reports)\n",
    "        - [1.1.2 Interactive dashboards](#1.1.2-Interactive-dashboards)\n",
    "- [2. Decide on visualization type](#2.-Decide-on-visualization-type)\n",
    "    - [2.1 Comparison analysis](#2.1-Comparison-analysis)\n",
    "        - [2.1.1 Bars and Columns Charts](#2.1.1-Bars-and-Columns-Charts)\n",
    "        - [2.1.2 Combined chart](#2.1.2-Combined-chart)\n",
    "        - [2.1.3 Pie and Donut Charts](#2.1.3-Pie-and-Donut-Charts)\n",
    "        - [2.1.4 100% Stacked Columns/Bars Charts](#2.1.4-100%25-Stacked-Columns/Bars-Charts)\n",
    "    - [2.2 Trend analysis](#2.2-Trend-analysis)\n",
    "        - [2.2.1 Line chart](#2.2.1-Line-chart)\n",
    "        - [2.2.2 Area chart](#2.2.2-Area-chart)\n",
    "    - [2.3 Ranking analysis](#2.3-Ranking-analysis)\n",
    "        - [2.3.1 Treemap](#2.3.1-Treemap)\n",
    "        - [2.3.2 Area chart](#2.3.2-Area-chart)"
   ]
  },
  {
   "cell_type": "markdown",
   "id": "c811f5f5-ec38-4ed3-b490-08174948b9b8",
   "metadata": {},
   "source": [
    "<div style=\"text-align: center;\" ><a href=\"https://www.atoti.io/?utm_source=gallery&utm_content=02-storytelling\" target=\"_blank\" rel=\"noopener noreferrer\"><img src=\"https://data.atoti.io/notebooks/banners/Discover-Atoti-now.png\" alt=\"Try atoti\"></a></div>"
   ]
  },
  {
   "cell_type": "markdown",
   "id": "c602dcf1-2b28-484f-bdb9-1066179e7add",
   "metadata": {},
   "source": [
    "## 1. Explore the tools  \n",
    "\n",
    "There are many tools we can use to deliver our stories:\n",
    "\n",
    "* Traditional reports such as PDF.\n",
    "* Interactive dashboards such as [Atoti](https://www.atoti.io/), [Plotly Dash](https://plotly.com/dash/), [Tableu](https://www.tableau.com/), [PowerBI](https://powerbi.microsoft.com/en-au/), etc.\n",
    "* Interactive notebooks in tools such as [Jupyter](https://jupyter.org/) or [Apache Zeppelin](https://zeppelin.apache.org/).  "
   ]
  },
  {
   "cell_type": "markdown",
   "id": "bcbafdf5-a24b-4180-ae31-c6f9dfc7e833",
   "metadata": {},
   "source": [
    "### 1.1 Traditional reports vs interactive dashboards  \n",
    "\n",
    "#### 1.1.1 Traditional reports  \n",
    "\n",
    "Traditional reports are static, with no user interaction. Our stories can be presented using visualizations such as pivot tables and charts but it's best to limit the number of features in them. This will prevent cluttering and help your audience follow your key points.\n",
    "\n",
    "We [connected Excel to the Atoti cube](https://docs.atoti.io/latest/how_tos/connect_with_excel.html) and tried to put together a [simple report](../OrderAnalysis.xlsx).    \n",
    "\n",
    "On the first page of the report, we have a pivot table that shows the sales results for the region. However, the profit margin does not match up with the sales ranking for the countries.  \n",
    "We tried to investigate the products that might be having a negative effect on the profit margin on the second page. \n",
    "\n",
    "<img src=\"https://data.atoti.io/atoti-academy/images/storytelling-with-atoti/2_1_1_static_report.png\" />  \n",
    "\n",
    "As you can see in the report above, the second table takes up the entire page. There is so much data that we have very little space to explain our findings.   \n",
    "It makes sense here to explore other types of infographics that may communicate our findings in a simpler and more concise manner. \n",
    "\n",
    "Otherwise, we can also break the table up in smaller sections that allow us to focus,  for instance, on a country or product category one at a time.  \n",
    "\n",
    "Also, it is important to note that we may end up with a fair amount of repetition: the same type of reporting adapted and repeated for different groups of people or geographical zones. For instance, in the above report, we have a big table for all the regions. However, we can also split the report by regions, providing insights specifically for its corresponding manager.  "
   ]
  },
  {
   "cell_type": "markdown",
   "id": "b8fa5963-f5ab-4022-afac-07b3b42dd0bd",
   "metadata": {},
   "source": [
    "#### 1.1.2 Interactive dashboards\n",
    "\n",
    "Interactive means greater control from the audience's perspective.  They are able to click and perform actions such as:\n",
    "\n",
    "* **Filtering**: This means that the same dashboard can be used for different groups of users simply by changing the relevant filters according to the interest of the audience.  \n",
    "* **Drill-down**: Users can expand on data points to further understand them better.\n",
    "* **On-spot querying**: Users can build new visualization to explore beyond what was presented.\n",
    "\n",
    "<img src=\"https://data.atoti.io/atoti-academy/images/storytelling-with-atoti/2_1_2_interactive_dashboard.gif\" width=\"1000px\"/>\n",
    "\n",
    "In addition, some dashboarding tools can be configured to reflect only up-to-date data. This could even be a real-time data source.  \n",
    "\n",
    "Users can make decisions based on the latest data, and also perhaps use the data for monitoring, and then reacting to changes in the data. Thanks to date filters, Users are free to compare data across different time periods (days, weeks, months, etc.).    \n"
   ]
  },
  {
   "cell_type": "markdown",
   "id": "8cc610fc-035e-4959-b76f-cba32800f3cf",
   "metadata": {
    "tags": []
   },
   "source": [
    "#### 📐Exercise  \n",
    "\n",
    "In this training, we are using Atoti to perform our storytelling.  \n",
    "\n",
    "Explore the below dashboard and try to view the dashboard for France.  "
   ]
  },
  {
   "cell_type": "code",
   "execution_count": 3,
   "id": "7ae69da7-9e9b-4e72-bbc6-2dd0a3e482c5",
   "metadata": {
    "tags": []
   },
   "outputs": [
    {
     "data": {
      "application/vnd.atoti.link.v0+json": {
       "path": "#/dashboard/672",
       "sessionLocation": {
        "https": false,
        "port": 9092
       }
      },
      "text/markdown": [
       "http://localhost:9092/#/dashboard/672\n",
       "\n",
       "_Note_: This is the session's local URL: it may not be reachable if Atoti is running on another machine."
      ],
      "text/plain": [
       "http://localhost:9092/#/dashboard/672 (This is the session's local URL: it may not be reachable if Atoti is running on another machine.)"
      ]
     },
     "execution_count": 3,
     "metadata": {},
     "output_type": "execute_result"
    }
   ],
   "source": [
    "session.link / \"#/dashboard/672\""
   ]
  },
  {
   "cell_type": "markdown",
   "id": "dce789ca-ad48-41c0-b0bf-b2aa0cd7add4",
   "metadata": {
    "tags": []
   },
   "source": [
    "#### 📖 Solution\n",
    "\n",
    "One way to do so it to filter on \"other widgets\" from the \"Sales by country\" widget:  \n",
    "\n",
    "<img src=\"https://data.atoti.io/atoti-academy/images/storytelling-with-atoti/2_1_3_filter_on_others.gif\" width=\"1000px\" />"
   ]
  },
  {
   "cell_type": "markdown",
   "id": "7070753e-bf0c-4742-b86f-b6301b465da0",
   "metadata": {},
   "source": [
    "## 2. Decide on visualization type"
   ]
  },
  {
   "cell_type": "markdown",
   "id": "5d3635a4-3af3-4aa4-9ba9-8a39bd0c0e0f",
   "metadata": {},
   "source": [
    "On the dashboard below, the same data is presented on the left and on the right: sales data and profit margin by product category.\n",
    "<img src=\"https://data.atoti.io/atoti-academy/images/storytelling-with-atoti/2_2_1_chart_vs_table.png\" width=\"1000px\" />  \n",
    "\n",
    "Which one caught your eyes and which one gives you more insights in a quick glance? Studies have shown that we remember 80% of what we see, 20% of what we read, and 10% of what we hear. This shows the importance of visualizations in making our story impressionable!  \n",
    "\n",
    "But there are so many different types of visualizations we can have, as we can from the list of [basic charts](https://plotly.com/python/basic-charts/) offered by Plotly:  \n",
    "\n",
    "<img src=\"https://data.atoti.io/atoti-academy/images/storytelling-with-atoti/2_2_2_basic_charts.png\" width=\"1000px\"/>  \n",
    "\n",
    "While fancy charts are eye-catching, the most important aspect of visualizations remains to represent the data correctly and communicate it efficiently to the audience. \n",
    "Let's take some time to consider some possible situations and the advantages of different types of charts.  "
   ]
  },
  {
   "cell_type": "markdown",
   "id": "1b4758e4-9a2c-4e9a-bac1-4e37c47b5fab",
   "metadata": {},
   "source": [
    "### 2.1 Comparison analysis \n",
    "\n",
    "Comparison is often a key part of any analysis:\n",
    "\n",
    "* Which is the best selling product in a region?\n",
    "* Which region rakes in the highest profit?\n",
    "* Which is the most engaged shipping service?  \n",
    "* Which time period was the most profitable?\n",
    "\n",
    "Comparison analysis compares two or more values in a **categorical dataset** to identify similarities and differences. There are a few charts that we can use depending on what we want to achieve.  \n",
    "\n",
    "**Comparing values**: \n",
    "\n",
    "* Bar/Column charts.\n",
    "* Combined chart (or \"Columns and lines\" chart).\n",
    "\n",
    "**Comparing proportions/percentage**:  \n",
    "\n",
    "* Pie/Donut charts.  \n",
    "* 100% Stacked Bar/Column charts.\n",
    "\n",
    "Depending on the key points and insights you would like to share with your audience, it may also be interesting to drill into smaller and smaller comparisons.\n",
    "We'll see an example of this below."
   ]
  },
  {
   "cell_type": "markdown",
   "id": "d12ede87-21ae-4686-a310-3351efed2a18",
   "metadata": {},
   "source": [
    "#### 2.1.1 Bars and Columns Charts"
   ]
  },
  {
   "cell_type": "markdown",
   "id": "0676a6f8-e384-475a-8221-a9ab92de6396",
   "metadata": {},
   "source": [
    "Bars and columns are among the easiest charts to interpret. They work simply by putting categorical data side-by-side and comparing the height of the columns or the length of the bars. As their names suggest, bars chart displays values in horizontal bars and columns chart displays values in vertical columns.  \n",
    "\n",
    "The below two visualizations show the profit by regions at different granularity levels.  "
   ]
  },
  {
   "cell_type": "code",
   "execution_count": 4,
   "id": "18a6a14e-819d-4d13-8c63-3e815be2701d",
   "metadata": {
    "atoti": {
     "height": 245,
     "widget": {
      "mapping": {
       "horizontalSubplots": [],
       "splitBy": [
        "ALL_MEASURES"
       ],
       "values": [
        "[Measures].[Profit]"
       ],
       "verticalSubplots": [],
       "xAxis": [
        "[Customers].[Region].[Region]"
       ]
      },
      "name": "Profit by regions",
      "query": {
       "mdx": "SELECT NON EMPTY {[Measures].[Profit]} ON COLUMNS, NON EMPTY Order(Hierarchize(Descendants({[Customers].[Region].[AllMember]}, 1, SELF_AND_BEFORE)), [Measures].[Profit], BDESC) ON ROWS FROM [Order Cube] CELL PROPERTIES VALUE, FORMATTED_VALUE, BACK_COLOR, FORE_COLOR, FONT_FLAGS",
       "updateMode": "once"
      },
      "serverKey": "default",
      "widgetKey": "plotly-clustered-column-chart"
     }
    },
    "tags": []
   },
   "outputs": [
    {
     "data": {
      "application/vnd.atoti.widget.v0+json": {
       "sessionId": "1715026487_4JZP8X",
       "sessionLocation": {
        "https": false,
        "port": 9092
       },
       "widgetCreationCode": "session.widget"
      },
      "text/html": [
       "<img height=\"0\" width=\"0\" src=\"data:,AAAAAAAAAAAAAAAAAAAAAAAAAAAAAAAAAAAAAAAAAAAAAAAACXBIWXMAABqTAAAakwH55E62\" />"
      ],
      "text/plain": [
       "Open the notebook in JupyterLab with the Atoti JupyterLab extension enabled to build this widget."
      ]
     },
     "metadata": {},
     "output_type": "display_data"
    }
   ],
   "source": [
    "session.widget"
   ]
  },
  {
   "cell_type": "markdown",
   "id": "b3d7b038",
   "metadata": {},
   "source": [
    "💡 **Splitting up visualization into subplots**\n",
    "\n",
    "This is a very high-level analysis, so let's go a bit deeper by presenting data from the different subregions.    "
   ]
  },
  {
   "cell_type": "code",
   "execution_count": 5,
   "id": "b9bf0015-facd-4243-a862-f8028442ce36",
   "metadata": {
    "atoti": {
     "height": 253,
     "widget": {
      "mapping": {
       "horizontalSubplots": [],
       "splitBy": [
        "[Customers].[Subregion].[Subregion]",
        "ALL_MEASURES"
       ],
       "values": [
        "[Measures].[Profit]"
       ],
       "verticalSubplots": [],
       "xAxis": [
        "[Customers].[Region].[Region]"
       ]
      },
      "name": "Profit of sub-regions within region cluster",
      "query": {
       "mdx": "SELECT NON EMPTY Crossjoin(Hierarchize(Descendants({[Customers].[Subregion].[AllMember]}, 1, SELF_AND_BEFORE)), {[Measures].[Profit]}) ON COLUMNS, NON EMPTY Order(Hierarchize(Descendants({[Customers].[Region].[AllMember]}, 1, SELF_AND_BEFORE)), [Measures].[Profit], BDESC) ON ROWS FROM [Order Cube] CELL PROPERTIES VALUE, FORMATTED_VALUE, BACK_COLOR, FORE_COLOR, FONT_FLAGS",
       "updateMode": "once"
      },
      "serverKey": "default",
      "widgetKey": "plotly-clustered-column-chart"
     }
    },
    "tags": []
   },
   "outputs": [
    {
     "data": {
      "application/vnd.atoti.widget.v0+json": {
       "sessionId": "1715026487_4JZP8X",
       "sessionLocation": {
        "https": false,
        "port": 9092
       },
       "widgetCreationCode": "session.widget"
      },
      "text/html": [
       "<img height=\"0\" width=\"0\" src=\"data:,AAAAAAAAAAAAAAAAAAAAAAAAAAAAAAAAAAAAAAAAAAAAAAAACXBIWXMAABqTAAAakwH55E62\" />"
      ],
      "text/plain": [
       "Open the notebook in JupyterLab with the Atoti JupyterLab extension enabled to build this widget."
      ]
     },
     "metadata": {},
     "output_type": "display_data"
    }
   ],
   "source": [
    "session.widget"
   ]
  },
  {
   "cell_type": "markdown",
   "id": "564b11a8-7103-4adb-8b11-8b965362fbbf",
   "metadata": {},
   "source": [
    "In the first visualization, we are able to tell quickly that Europe brings in the highest profit and have an estimate of the gap between itself and Northern America.  \n",
    "\n",
    "By using clustered columns in the second visualization, we can group the sub-regions under their corresponding region. We are able to tell that the business is wider spread in Europe in comparison to Northern America. Business in Northern America alone is highest across all the sub-regions.  \n",
    "\n",
    "So, with more supporting facts, the business can consider increasing its presence in more sub-regions in Northern America. It's also worth investigating the reason why Eastern Europe has a much lower profit than other sub-regions.  "
   ]
  },
  {
   "cell_type": "markdown",
   "id": "bdae99b6-9cfd-47e9-a714-659e6aa215c2",
   "metadata": {},
   "source": [
    "💡 **Splitting up visualization into smaller subplots**\n",
    "\n",
    "And, our audience might be most interested in even more local data, so let's split this into country-by-country subplots."
   ]
  },
  {
   "cell_type": "code",
   "execution_count": 6,
   "id": "0e26175c-620c-45e7-a58f-91fcf846c3c1",
   "metadata": {
    "atoti": {
     "height": 462,
     "widget": {
      "mapping": {
       "horizontalSubplots": [
        "[Customers].[Region].[Region]"
       ],
       "splitBy": [
        "ALL_MEASURES"
       ],
       "values": [
        "[Measures].[Profit]"
       ],
       "verticalSubplots": [],
       "xAxis": [
        "[Customers].[Country].[Country]"
       ]
      },
      "name": "Sales by regions",
      "query": {
       "mdx": "SELECT NON EMPTY Order(Hierarchize(Descendants({[Customers].[Country].[AllMember]}, 1, SELF_AND_BEFORE)), [Measures].[Profit], BDESC) ON ROWS, NON EMPTY Crossjoin({[Measures].[Profit]}, Hierarchize(Descendants({[Customers].[Region].[AllMember]}, 1, SELF_AND_BEFORE))) ON COLUMNS FROM [Order Cube] CELL PROPERTIES VALUE, FORMATTED_VALUE, BACK_COLOR, FORE_COLOR, FONT_FLAGS",
       "updateMode": "once"
      },
      "serverKey": "default",
      "widgetKey": "plotly-clustered-column-chart"
     }
    },
    "tags": []
   },
   "outputs": [
    {
     "data": {
      "application/vnd.atoti.widget.v0+json": {
       "sessionId": "1715026487_4JZP8X",
       "sessionLocation": {
        "https": false,
        "port": 9092
       },
       "widgetCreationCode": "session.widget"
      },
      "text/html": [
       "<img height=\"0\" width=\"0\" src=\"data:,AAAAAAAAAAAAAAAAAAAAAAAAAAAAAAAAAAAAAAAAAAAAAAAACXBIWXMAABqTAAAakwH55E62\" />"
      ],
      "text/plain": [
       "Open the notebook in JupyterLab with the Atoti JupyterLab extension enabled to build this widget."
      ]
     },
     "metadata": {},
     "output_type": "display_data"
    }
   ],
   "source": [
    "session.widget"
   ]
  },
  {
   "cell_type": "markdown",
   "id": "9b0c4df2-331d-416e-83bf-03434ad7c833",
   "metadata": {},
   "source": [
    "#### 📐Exercise  \n",
    "\n",
    "Re-organize the chart below into subplots and compare its clarity to the original visualization.  "
   ]
  },
  {
   "cell_type": "code",
   "execution_count": 7,
   "id": "e0886c66-d325-415e-b2c0-126f18283384",
   "metadata": {
    "atoti": {
     "height": 372,
     "widget": {
      "mapping": {
       "horizontalSubplots": [],
       "splitBy": [
        "[Customers].[Subregion].[Subregion]",
        "ALL_MEASURES"
       ],
       "values": [
        "[Measures].[Profit]"
       ],
       "verticalSubplots": [],
       "xAxis": [
        "[Customers].[Region].[Region]"
       ]
      },
      "name": "Profit of sub-regions within region cluster",
      "query": {
       "mdx": "SELECT NON EMPTY Crossjoin(Hierarchize(Descendants({[Customers].[Subregion].[AllMember]}, 1, SELF_AND_BEFORE)), {[Measures].[Profit]}) ON COLUMNS, NON EMPTY Order(Hierarchize(Descendants({[Customers].[Region].[AllMember]}, 1, SELF_AND_BEFORE)), [Measures].[Profit], BDESC) ON ROWS FROM [Order Cube] CELL PROPERTIES VALUE, FORMATTED_VALUE, BACK_COLOR, FORE_COLOR, FONT_FLAGS",
       "updateMode": "once"
      },
      "serverKey": "default",
      "widgetKey": "plotly-clustered-column-chart"
     }
    },
    "tags": []
   },
   "outputs": [
    {
     "data": {
      "application/vnd.atoti.widget.v0+json": {
       "sessionId": "1715026487_4JZP8X",
       "sessionLocation": {
        "https": false,
        "port": 9092
       },
       "widgetCreationCode": "session.widget"
      },
      "text/html": [
       "<img height=\"0\" width=\"0\" src=\"data:,AAAAAAAAAAAAAAAAAAAAAAAAAAAAAAAAAAAAAAAAAAAAAAAACXBIWXMAABqTAAAakwH55E62\" />"
      ],
      "text/plain": [
       "Open the notebook in JupyterLab with the Atoti JupyterLab extension enabled to build this widget."
      ]
     },
     "metadata": {},
     "output_type": "display_data"
    }
   ],
   "source": [
    "session.widget"
   ]
  },
  {
   "cell_type": "markdown",
   "id": "f35e9893-09bf-4123-8886-2a59ec67b384",
   "metadata": {
    "tags": []
   },
   "source": [
    "#### 📖 Solution\n",
    "\n",
    "Uncomment and execute the next cell to view the solution.  "
   ]
  },
  {
   "cell_type": "code",
   "execution_count": 8,
   "id": "82b87e36-b016-43b5-9816-a7c6bdd522fd",
   "metadata": {
    "atoti": {
     "height": 372,
     "widget": {
      "mapping": {
       "horizontalSubplots": [
        "[Customers].[Region].[Region]"
       ],
       "splitBy": [
        "ALL_MEASURES"
       ],
       "values": [
        "[Measures].[Profit]"
       ],
       "verticalSubplots": [],
       "xAxis": [
        "[Customers].[Subregion].[Subregion]"
       ]
      },
      "name": "Profit of sub-regions within region cluster",
      "query": {
       "mdx": "SELECT NON EMPTY Crossjoin({[Measures].[Profit]}, Hierarchize(Descendants({[Customers].[Region].[AllMember]}, 1, SELF_AND_BEFORE))) ON COLUMNS, NON EMPTY Order(Hierarchize(Descendants({[Customers].[Subregion].[AllMember]}, 1, SELF_AND_BEFORE)), [Measures].[Profit], BDESC) ON ROWS FROM [Order Cube] CELL PROPERTIES VALUE, FORMATTED_VALUE, BACK_COLOR, FORE_COLOR, FONT_FLAGS",
       "updateMode": "once"
      },
      "serverKey": "default",
      "widgetKey": "plotly-clustered-column-chart"
     }
    },
    "tags": []
   },
   "outputs": [],
   "source": [
    "# session.widget"
   ]
  },
  {
   "cell_type": "markdown",
   "id": "71e27470-98d2-46bd-9b73-64fadb802e72",
   "metadata": {},
   "source": [
    "##### 2.1.1.1 Bar chart or Column chart  \n",
    "\n",
    "Both charts are similar except for their orientations and this difference accounts for the reasons why we choose to use one or the other.  "
   ]
  },
  {
   "cell_type": "code",
   "execution_count": 9,
   "id": "8d0e9321-af56-455f-a00e-66f492808808",
   "metadata": {
    "atoti": {
     "widget": {
      "mapping": {
       "horizontalSubplots": [],
       "stackBy": [
        "ALL_MEASURES"
       ],
       "values": [
        "[Measures].[Profit]"
       ],
       "verticalSubplots": [],
       "xAxis": [
        "[Customers].[Country].[Country]"
       ]
      },
      "name": "Stacked columns with country on X-axis",
      "query": {
       "mdx": "SELECT NON EMPTY {[Measures].[Profit]} ON COLUMNS, NON EMPTY Hierarchize(Descendants({[Customers].[Country].[AllMember]}, 1, SELF_AND_BEFORE)) ON ROWS FROM [Order Cube] CELL PROPERTIES VALUE, FORMATTED_VALUE, BACK_COLOR, FORE_COLOR, FONT_FLAGS",
       "updateMode": "once"
      },
      "serverKey": "default",
      "widgetKey": "plotly-stacked-column-chart"
     }
    },
    "tags": []
   },
   "outputs": [
    {
     "data": {
      "application/vnd.atoti.widget.v0+json": {
       "sessionId": "1715026487_4JZP8X",
       "sessionLocation": {
        "https": false,
        "port": 9092
       },
       "widgetCreationCode": "session.widget"
      },
      "text/html": [
       "<img height=\"0\" width=\"0\" src=\"data:,AAAAAAAAAAAAAAAAAAAAAAAAAAAAAAAAAAAAAAAAAAAAAAAACXBIWXMAABqTAAAakwH55E62\" />"
      ],
      "text/plain": [
       "Open the notebook in JupyterLab with the Atoti JupyterLab extension enabled to build this widget."
      ]
     },
     "metadata": {},
     "output_type": "display_data"
    }
   ],
   "source": [
    "session.widget"
   ]
  },
  {
   "cell_type": "markdown",
   "id": "43e6bbed",
   "metadata": {},
   "source": [
    "💡 Column chart advantages:\n",
    "\n",
    "* There is more space for text on the Y axis.\n",
    "* Ideal when the number of categories is between `7` and `12`.\n",
    "* Representing data with positive and negative values as the data is represented as a downward column.\n",
    "* Displaying different time periods as we read the data from left to right as a timeline."
   ]
  },
  {
   "cell_type": "code",
   "execution_count": 10,
   "id": "43e568be-baca-4889-8394-c0441129dd1b",
   "metadata": {
    "atoti": {
     "height": 459,
     "widget": {
      "mapping": {
       "horizontalSubplots": [],
       "stackBy": [
        "ALL_MEASURES"
       ],
       "values": [
        "[Measures].[Profit]"
       ],
       "verticalSubplots": [],
       "yAxis": [
        "[Customers].[Country].[Country]"
       ]
      },
      "name": "Clustered bars with country on Y-axis",
      "query": {
       "mdx": "SELECT NON EMPTY Hierarchize(Descendants({[Customers].[Country].[AllMember]}, 1, SELF_AND_BEFORE)) ON ROWS, NON EMPTY {[Measures].[Profit]} ON COLUMNS FROM [Order Cube] CELL PROPERTIES VALUE, FORMATTED_VALUE, BACK_COLOR, FORE_COLOR, FONT_FLAGS",
       "updateMode": "once"
      },
      "serverKey": "default",
      "widgetKey": "plotly-stacked-bar-chart"
     }
    },
    "tags": []
   },
   "outputs": [
    {
     "data": {
      "application/vnd.atoti.widget.v0+json": {
       "sessionId": "1715026487_4JZP8X",
       "sessionLocation": {
        "https": false,
        "port": 9092
       },
       "widgetCreationCode": "session.widget"
      },
      "text/html": [
       "<img height=\"0\" width=\"0\" src=\"data:,AAAAAAAAAAAAAAAAAAAAAAAAAAAAAAAAAAAAAAAAAAAAAAAACXBIWXMAABqTAAAakwH55E62\" />"
      ],
      "text/plain": [
       "Open the notebook in JupyterLab with the Atoti JupyterLab extension enabled to build this widget."
      ]
     },
     "metadata": {},
     "output_type": "display_data"
    }
   ],
   "source": [
    "session.widget"
   ]
  },
  {
   "cell_type": "markdown",
   "id": "1fac9fcb-7942-4273-a0b9-0d4805501a93",
   "metadata": {},
   "source": [
    "💡 Bar chart advantages: \n",
    "\n",
    "* There is more space for text on the Y axis.\n",
    "* Ideal when the number of categories is between `10` and `15`."
   ]
  },
  {
   "cell_type": "markdown",
   "id": "e35a69fa",
   "metadata": {},
   "source": [
    "Let's see a comparison of the same data presented in two different ways to illustrate some of the points."
   ]
  },
  {
   "cell_type": "code",
   "execution_count": 11,
   "id": "cdbb3658-5e07-4ea9-8bde-5a654ac9d10d",
   "metadata": {
    "tags": []
   },
   "outputs": [],
   "source": [
    "import pandas as pd\n",
    "\n",
    "df = pd.read_csv(\"https://data.atoti.io/atoti-academy/data/Orders.csv\")\n",
    "shipment_df = df.groupby(\"ShipperName\")[\"QuantitySold\"].sum()"
   ]
  },
  {
   "cell_type": "code",
   "execution_count": 12,
   "id": "9d4318d7-4458-44d1-93f1-0fd4ea524e94",
   "metadata": {
    "tags": []
   },
   "outputs": [
    {
     "data": {
      "text/plain": [
       "<Axes: ylabel='ShipperName'>"
      ]
     },
     "execution_count": 12,
     "metadata": {},
     "output_type": "execute_result"
    },
    {
     "data": {
      "image/png": "[encoded data removed]",
      "text/plain": [
       "<Figure size 640x480 with 1 Axes>"
      ]
     },
     "metadata": {},
     "output_type": "display_data"
    }
   ],
   "source": [
    "shipment_df.plot.barh()"
   ]
  },
  {
   "cell_type": "code",
   "execution_count": 13,
   "id": "8192c4b7-03dd-4def-b103-908113d6c621",
   "metadata": {
    "tags": []
   },
   "outputs": [
    {
     "data": {
      "text/plain": [
       "<Axes: xlabel='ShipperName'>"
      ]
     },
     "execution_count": 13,
     "metadata": {},
     "output_type": "execute_result"
    },
    {
     "data": {
      "image/png": "[encoded data removed]",
      "text/plain": [
       "<Figure size 640x480 with 1 Axes>"
      ]
     },
     "metadata": {},
     "output_type": "display_data"
    }
   ],
   "source": [
    "# change rotation value to arrange the labels for readability\n",
    "shipment_df.plot.bar(rot=0)"
   ]
  },
  {
   "cell_type": "markdown",
   "id": "5d68e0ce",
   "metadata": {},
   "source": [
    "In the first example, the shipper names are easier to read.\n",
    "Labels and categories are an important feature of the data we need to highlight and communicate to our audience. \n",
    "It's important to make sure that they are able to read them quickly and easily."
   ]
  },
  {
   "cell_type": "markdown",
   "id": "ea3a0a56-78ca-4361-bbee-c793c5ca8e12",
   "metadata": {},
   "source": [
    "#### 2.1.2 Combined chart "
   ]
  },
  {
   "cell_type": "markdown",
   "id": "4f81118c-99c6-4e0c-8bf1-66a99c57b3a5",
   "metadata": {},
   "source": [
    "We get a combined chart by combining two or more different charts into a single chart. We do so when we want to compare values with different measures, whose values may or may not be in the same range.  \n",
    "\n",
    "In the example below, we want to relate the sales to the profit margin. By displaying the profit margin as a line chart and the sales as columns, we can tell that sales are not equivalent to the profit margin. For instance, Grains/Cereals have much lower sales than Confections but its profit margin is comparable.  "
   ]
  },
  {
   "cell_type": "code",
   "execution_count": 14,
   "id": "84e91f26-7d01-40a4-aa11-9e6e44a487d4",
   "metadata": {
    "atoti": {
     "widget": {
      "mapping": {
       "columnValues": [
        "[Measures].[Sales]"
       ],
       "horizontalSubplots": [],
       "lineValues": [
        "[Measures].[ProfitMargin]"
       ],
       "verticalSubplots": [],
       "xAxis": [
        "[Products].[ProductCategory].[ProductCategory]"
       ]
      },
      "name": "Columns and lines chart to compare Sales against Profit Margin",
      "query": {
       "mdx": "SELECT NON EMPTY {[Measures].[Sales], [Measures].[ProfitMargin]} ON COLUMNS, NON EMPTY Hierarchize(Descendants({[Products].[ProductCategory].[AllMember]}, 1, SELF_AND_BEFORE)) ON ROWS FROM [Order Cube] CELL PROPERTIES VALUE, FORMATTED_VALUE, BACK_COLOR, FORE_COLOR, FONT_FLAGS",
       "updateMode": "once"
      },
      "serverKey": "default",
      "widgetKey": "plotly-columns-and-lines-chart"
     }
    },
    "tags": []
   },
   "outputs": [
    {
     "data": {
      "application/vnd.atoti.widget.v0+json": {
       "sessionId": "1715026487_4JZP8X",
       "sessionLocation": {
        "https": false,
        "port": 9092
       },
       "widgetCreationCode": "session.widget"
      },
      "text/html": [
       "<img height=\"0\" width=\"0\" src=\"data:,AAAAAAAAAAAAAAAAAAAAAAAAAAAAAAAAAAAAAAAAAAAAAAAACXBIWXMAABqTAAAakwH55E62\" />"
      ],
      "text/plain": [
       "Open the notebook in JupyterLab with the Atoti JupyterLab extension enabled to build this widget."
      ]
     },
     "metadata": {},
     "output_type": "display_data"
    }
   ],
   "source": [
    "session.widget"
   ]
  },
  {
   "cell_type": "markdown",
   "id": "5c53df23",
   "metadata": {},
   "source": [
    "💡 Combined chart advantages: \n",
    "\n",
    "* Save space by displaying different figures for the same category on the same visualization.\n",
    "* Easier for the audience to draw insights between the two sets of data.  In our example, sales are high but for condiments and meat/poultry, the profit margin is low.  "
   ]
  },
  {
   "cell_type": "markdown",
   "id": "f8698cff-e656-4b52-a08b-222e89e7f6ea",
   "metadata": {},
   "source": [
    "#### 2.1.3 Pie and Donut Charts"
   ]
  },
  {
   "cell_type": "markdown",
   "id": "8d972ef7-eeeb-420f-bb15-78227744277e",
   "metadata": {},
   "source": [
    "Pies and donuts taste vastly different but when it comes to chart, their main difference is that the donut is a pie with a hole in the center. Some APIs allow additional information to be displayed in the hole of the donut chart. But otherwise, the donut chart may be visually more appealing as it's less cluttered without the solid center.    \n",
    "\n",
    "Appearance aside, we use these charts when we want to have a sense of **proportions or percentages**. The number of slices in the chart represents the number of categorical members we are comparing and the size of each slide is proportional to its value against the whole."
   ]
  },
  {
   "cell_type": "markdown",
   "id": "e1d0c0df",
   "metadata": {},
   "source": [
    "💡 Pie / donut chart advantages: \n",
    "\n",
    "* Display proportions or percentages.\n",
    "\n",
    "⚠️ There are reasons why people avoid using pie / donut charts:    \n",
    "\n",
    "* It can be difficult to make a comparison when the size of the slices are very similar (as we can see from the visualization above).    \n",
    "* Color coding the slices may get challenging for people with color blindness or visual impairments to interpret the chart.  \n",
    "* When we have more than 6 or 7 slices:  \n",
    "    * The colors get repeated for different sectors.\n",
    "    * Some sectors get too small to be visible.\n",
    "\n",
    "You'll see some of these points illustrated below."
   ]
  },
  {
   "cell_type": "code",
   "execution_count": 15,
   "id": "dc0662b5-4a76-46c2-937c-5a443eac75b0",
   "metadata": {
    "atoti": {
     "widget": {
      "mapping": {
       "horizontalSubplots": [],
       "sliceBy": [
        "[Orders].[ShipperName].[ShipperName]"
       ],
       "values": [
        "[Measures].[QuantitySold.SUM]"
       ],
       "verticalSubplots": []
      },
      "name": "Similiarly sized quantity sold by shipper in donut chart",
      "query": {
       "mdx": "SELECT NON EMPTY Order(Hierarchize(Descendants({[Orders].[ShipperName].[AllMember]}, 1, SELF_AND_BEFORE)), [Measures].[QuantitySold.SUM], BDESC) ON ROWS, NON EMPTY {[Measures].[QuantitySold.SUM]} ON COLUMNS FROM [Order Cube] CELL PROPERTIES VALUE, FORMATTED_VALUE, BACK_COLOR, FORE_COLOR, FONT_FLAGS",
       "updateMode": "once"
      },
      "serverKey": "default",
      "style": {
       "areAxisTitlesVisible": true,
       "isTextVisible": true
      },
      "widgetKey": "plotly-donut-chart"
     }
    },
    "tags": []
   },
   "outputs": [
    {
     "data": {
      "application/vnd.atoti.widget.v0+json": {
       "sessionId": "1715026487_4JZP8X",
       "sessionLocation": {
        "https": false,
        "port": 9092
       },
       "widgetCreationCode": "session.widget"
      },
      "text/html": [
       "<img height=\"0\" width=\"0\" src=\"data:,AAAAAAAAAAAAAAAAAAAAAAAAAAAAAAAAAAAAAAAAAAAAAAAACXBIWXMAABqTAAAakwH55E62\" />"
      ],
      "text/plain": [
       "Open the notebook in JupyterLab with the Atoti JupyterLab extension enabled to build this widget."
      ]
     },
     "metadata": {},
     "output_type": "display_data"
    }
   ],
   "source": [
    "session.widget"
   ]
  },
  {
   "cell_type": "code",
   "execution_count": 16,
   "id": "5cd758c5-9fba-49d6-a941-1fb541ce73a8",
   "metadata": {
    "atoti": {
     "widget": {
      "mapping": {
       "horizontalSubplots": [],
       "sliceBy": [
        "[Orders].[ShipperName].[ShipperName]"
       ],
       "values": [
        "[Measures].[QuantitySold.SUM]"
       ],
       "verticalSubplots": []
      },
      "name": "Similiarly sized quantity sold by shipper in pie chart",
      "query": {
       "mdx": "SELECT NON EMPTY Hierarchize(Descendants({[Orders].[ShipperName].[AllMember]}, 1, SELF_AND_BEFORE)) ON ROWS, NON EMPTY {[Measures].[QuantitySold.SUM]} ON COLUMNS FROM [Order Cube] CELL PROPERTIES VALUE, FORMATTED_VALUE, BACK_COLOR, FORE_COLOR, FONT_FLAGS",
       "updateMode": "once"
      },
      "serverKey": "default",
      "style": {
       "areAxisTitlesVisible": true,
       "isTextVisible": true
      },
      "switchedTo": "plotly-pie-chart",
      "widgetKey": "plotly-donut-chart"
     }
    },
    "tags": []
   },
   "outputs": [
    {
     "data": {
      "application/vnd.atoti.widget.v0+json": {
       "sessionId": "1715026487_4JZP8X",
       "sessionLocation": {
        "https": false,
        "port": 9092
       },
       "widgetCreationCode": "session.widget"
      },
      "text/html": [
       "<img height=\"0\" width=\"0\" src=\"data:,AAAAAAAAAAAAAAAAAAAAAAAAAAAAAAAAAAAAAAAAAAAAAAAACXBIWXMAABqTAAAakwH55E62\" />"
      ],
      "text/plain": [
       "Open the notebook in JupyterLab with the Atoti JupyterLab extension enabled to build this widget."
      ]
     },
     "metadata": {},
     "output_type": "display_data"
    }
   ],
   "source": [
    "session.widget"
   ]
  },
  {
   "cell_type": "code",
   "execution_count": 17,
   "id": "667d83aa-8248-4649-8529-688bafa7ab09",
   "metadata": {
    "atoti": {
     "widget": {
      "mapping": {
       "horizontalSubplots": [],
       "sliceBy": [
        "[Customers].[Country].[Country]"
       ],
       "values": [
        "[Measures].[Profit]"
       ],
       "verticalSubplots": []
      },
      "name": "Pie with too many slices",
      "query": {
       "mdx": "SELECT NON EMPTY {[Measures].[Profit]} ON COLUMNS, NON EMPTY Hierarchize(Descendants({[Customers].[Country].[AllMember]}, 1, SELF_AND_BEFORE)) ON ROWS FROM [Order Cube] CELL PROPERTIES VALUE, FORMATTED_VALUE, BACK_COLOR, FORE_COLOR, FONT_FLAGS",
       "updateMode": "once"
      },
      "serverKey": "default",
      "widgetKey": "plotly-pie-chart"
     }
    },
    "tags": []
   },
   "outputs": [
    {
     "data": {
      "application/vnd.atoti.widget.v0+json": {
       "sessionId": "1715026487_4JZP8X",
       "sessionLocation": {
        "https": false,
        "port": 9092
       },
       "widgetCreationCode": "session.widget"
      },
      "text/html": [
       "<img height=\"0\" width=\"0\" src=\"data:,AAAAAAAAAAAAAAAAAAAAAAAAAAAAAAAAAAAAAAAAAAAAAAAACXBIWXMAABqTAAAakwH55E62\" />"
      ],
      "text/plain": [
       "Open the notebook in JupyterLab with the Atoti JupyterLab extension enabled to build this widget."
      ]
     },
     "metadata": {},
     "output_type": "display_data"
    }
   ],
   "source": [
    "session.widget"
   ]
  },
  {
   "cell_type": "markdown",
   "id": "f3fb9a39-3f69-4370-bfb6-6a9ef70c9b5a",
   "metadata": {},
   "source": [
    "#### 2.1.4 100% Stacked Columns/Bars Charts"
   ]
  },
  {
   "cell_type": "markdown",
   "id": "a9120bb2-97b5-4c98-8d49-763999de65c7",
   "metadata": {},
   "source": [
    "A 100% stacked chart is one way of comparing percentages or proportions across different categories.\n",
    "The total of each bar or column is always 100%.\n",
    "\n",
    "In the example below, we can see how the sales figures for each region are divided by subregion."
   ]
  },
  {
   "cell_type": "code",
   "execution_count": 18,
   "id": "31cdf213-54e4-46dc-9947-2616a4d549d3",
   "metadata": {
    "atoti": {
     "widget": {
      "mapping": {
       "horizontalSubplots": [],
       "stackBy": [
        "[Customers].[Subregion].[Subregion]",
        "ALL_MEASURES"
       ],
       "values": [
        "[Measures].[Profit]"
       ],
       "verticalSubplots": [],
       "yAxis": [
        "[Customers].[Region].[Region]"
       ]
      },
      "name": "100% Stacked chart",
      "query": {
       "mdx": "SELECT NON EMPTY Hierarchize(Descendants({[Customers].[Region].[AllMember]}, 1, SELF_AND_BEFORE)) ON ROWS, NON EMPTY Crossjoin(Hierarchize(Descendants({[Customers].[Subregion].[AllMember]}, 1, SELF_AND_BEFORE)), {[Measures].[Profit]}) ON COLUMNS FROM [Order Cube] CELL PROPERTIES VALUE, FORMATTED_VALUE, BACK_COLOR, FORE_COLOR, FONT_FLAGS",
       "updateMode": "once"
      },
      "serverKey": "default",
      "style": {
       "areAxisTitlesVisible": true,
       "isTextVisible": true
      },
      "switchedTo": "plotly-100-stacked-bar-chart",
      "widgetKey": "plotly-stacked-bar-chart"
     }
    },
    "tags": []
   },
   "outputs": [
    {
     "data": {
      "application/vnd.atoti.widget.v0+json": {
       "sessionId": "1715026487_4JZP8X",
       "sessionLocation": {
        "https": false,
        "port": 9092
       },
       "widgetCreationCode": "session.widget"
      },
      "text/html": [
       "<img height=\"0\" width=\"0\" src=\"data:,AAAAAAAAAAAAAAAAAAAAAAAAAAAAAAAAAAAAAAAAAAAAAAAACXBIWXMAABqTAAAakwH55E62\" />"
      ],
      "text/plain": [
       "Open the notebook in JupyterLab with the Atoti JupyterLab extension enabled to build this widget."
      ]
     },
     "metadata": {},
     "output_type": "display_data"
    }
   ],
   "source": [
    "session.widget"
   ]
  },
  {
   "cell_type": "markdown",
   "id": "8e8d13ce-34da-4c39-9fa0-1df01ad5e52b",
   "metadata": {},
   "source": [
    "This can also be done using a series of pie charts:"
   ]
  },
  {
   "cell_type": "code",
   "execution_count": 19,
   "id": "4eccad7f-d46b-40e2-a54f-412a968e530c",
   "metadata": {
    "atoti": {
     "widget": {
      "mapping": {
       "horizontalSubplots": [
        "[Customers].[Region].[Region]"
       ],
       "sliceBy": [
        "[Customers].[Subregion].[Subregion]"
       ],
       "values": [
        "[Measures].[Profit]"
       ],
       "verticalSubplots": []
      },
      "name": "Contribution analysis of sub-regions using Pie chart",
      "query": {
       "mdx": "SELECT NON EMPTY Crossjoin(Hierarchize(Descendants({[Customers].[Region].[AllMember]}, 1, SELF_AND_BEFORE)), {[Measures].[Profit]}) ON COLUMNS, NON EMPTY Hierarchize(Descendants({[Customers].[Subregion].[AllMember]}, 1, SELF_AND_BEFORE)) ON ROWS FROM [Order Cube] CELL PROPERTIES VALUE, FORMATTED_VALUE, BACK_COLOR, FORE_COLOR, FONT_FLAGS",
       "updateMode": "once"
      },
      "serverKey": "default",
      "widgetKey": "plotly-pie-chart"
     }
    },
    "tags": []
   },
   "outputs": [
    {
     "data": {
      "application/vnd.atoti.widget.v0+json": {
       "sessionId": "1715026487_4JZP8X",
       "sessionLocation": {
        "https": false,
        "port": 9092
       },
       "widgetCreationCode": "session.widget"
      },
      "text/html": [
       "<img height=\"0\" width=\"0\" src=\"data:,AAAAAAAAAAAAAAAAAAAAAAAAAAAAAAAAAAAAAAAAAAAAAAAACXBIWXMAABqTAAAakwH55E62\" />"
      ],
      "text/plain": [
       "Open the notebook in JupyterLab with the Atoti JupyterLab extension enabled to build this widget."
      ]
     },
     "metadata": {},
     "output_type": "display_data"
    }
   ],
   "source": [
    "session.widget"
   ]
  },
  {
   "cell_type": "markdown",
   "id": "c9bac06b",
   "metadata": {},
   "source": [
    "💡 100% stacked chart advantages: \n",
    "\n",
    "* When used to show data by time period, this is a good way to present how proportions and percentages changes over time.\n",
    "\n",
    "⚠️ There are reasons why people avoid using 100% stacked charts:    \n",
    "\n",
    "* This way of displaying data can be confusing for our audience, so the accompanying text can be quite long.\n",
    "* Data is normalized to 100%, in our case, we may think that the absolute sales figures for Latin America and Northern America are identical."
   ]
  },
  {
   "cell_type": "markdown",
   "id": "708c1f7e-7f83-4fbe-94cc-4edacf7f47fe",
   "metadata": {},
   "source": [
    "### 2.2 Trend analysis  \n",
    "\n",
    "We perform trend analysis over time to identify how the value has changed. This pattern allows us to gain insight into the trajectory of the data, and thereafter identify potential problems or opportunities.  \n",
    "\n",
    "The most common chart used to represent trends is the line chart, although as we have already seen, data from different time periods can also be compared using bar charts, column charts, and 100% stacked data charts."
   ]
  },
  {
   "cell_type": "markdown",
   "id": "b1bdb2e2-43de-4e8c-b46d-1576ea5c62e3",
   "metadata": {},
   "source": [
    "#### 2.2.1 Line chart"
   ]
  },
  {
   "cell_type": "markdown",
   "id": "01b69d8a-b526-49f8-9d48-2983d4b3e23f",
   "metadata": {},
   "source": [
    "Usually, we have a continuous data set that spans across a time series. When the values are plotted against the time series, we can usually identify one of the following trends based on the gradient of the line between different time points:\n",
    "\n",
    "* Upward trends where value increases over time.\n",
    "* Downward trends where value decreases over time.\n",
    "* Cyclical trends where values fluctuate in regular patterns.\n",
    "* Erratic trends where we cannot identify a pattern in the data.\n",
    "\n",
    "One huge advantage to using a line chart is that we can be sure our audience will understand, but be careful.  There are some pitfalls and traps to avoid when creating a line chart.\n",
    "\n",
    "Let's compute the sales trend by taking the difference in value with the previous day, and use this as an example."
   ]
  },
  {
   "cell_type": "code",
   "execution_count": 20,
   "id": "d48b4a49-ee89-4aaa-9d08-ba1ac1c9caff",
   "metadata": {
    "tags": []
   },
   "outputs": [],
   "source": [
    "# Compute sales trend\n",
    "previousSales = tt.shift(m[\"Sales\"], h[\"OrderDate\"], offset=-1)\n",
    "m[\"SalesTrend\"] = tt.where(~previousSales.isnull(), m[\"Sales\"] - previousSales)"
   ]
  },
  {
   "cell_type": "markdown",
   "id": "85f512ae-3026-414c-a04e-b3f1fd9dae87",
   "metadata": {},
   "source": [
    "We can see from the chart below, we see a drastic dip in the sales for Europe on Feb 17 from the previous day.  "
   ]
  },
  {
   "cell_type": "code",
   "execution_count": 21,
   "id": "340b2382-28cf-4705-b6ac-501c92fb04de",
   "metadata": {
    "atoti": {
     "height": 213,
     "widget": {
      "mapping": {
       "columns": [
        "[Customers].[Region].[Region]",
        "ALL_MEASURES"
       ],
       "measures": [
        "[Measures].[SalesTrend]"
       ],
       "rows": [
        "[Orders].[OrderDate].[OrderDate]"
       ]
      },
      "name": "Sales trend by regions",
      "query": {
       "mdx": "SELECT NON EMPTY Crossjoin(Hierarchize(Descendants({[Customers].[Region].[AllMember]}, 1, SELF_AND_BEFORE)), {[Measures].[SalesTrend]}) ON COLUMNS, NON EMPTY Hierarchize(Descendants({[Orders].[OrderDate].[AllMember]}, 1, SELF_AND_BEFORE)) ON ROWS FROM [Order Cube] CELL PROPERTIES VALUE, FORMATTED_VALUE, BACK_COLOR, FORE_COLOR, FONT_FLAGS",
       "updateMode": "once"
      },
      "serverKey": "default",
      "switchedTo": "plotly-line-chart",
      "widgetKey": "pivot-table"
     }
    },
    "tags": []
   },
   "outputs": [
    {
     "data": {
      "application/vnd.atoti.widget.v0+json": {
       "sessionId": "1715026487_4JZP8X",
       "sessionLocation": {
        "https": false,
        "port": 9092
       },
       "widgetCreationCode": "session.widget"
      },
      "text/html": [
       "<img height=\"0\" width=\"0\" src=\"data:,AAAAAAAAAAAAAAAAAAAAAAAAAAAAAAAAAAAAAAAAAAAAAAAACXBIWXMAABqTAAAakwH55E62\" />"
      ],
      "text/plain": [
       "Open the notebook in JupyterLab with the Atoti JupyterLab extension enabled to build this widget."
      ]
     },
     "metadata": {},
     "output_type": "display_data"
    }
   ],
   "source": [
    "session.widget"
   ]
  },
  {
   "cell_type": "markdown",
   "id": "a73ef5d5-1608-4631-a102-819d7500a11d",
   "metadata": {},
   "source": [
    "However, if we look at the actual sales value, the dip is actually because of an extreme spike in sales on Feb 16. We have insufficient data to generate the sales trend for Feb 15. Hence, we do not know if the trend is cyclic or one-off."
   ]
  },
  {
   "cell_type": "code",
   "execution_count": 22,
   "id": "9bd94707-0a08-4af8-aa20-6a02f8aeb358",
   "metadata": {
    "atoti": {
     "height": 277,
     "widget": {
      "mapping": {
       "columns": [
        "[Customers].[Region].[Region]",
        "ALL_MEASURES"
       ],
       "measures": [
        "[Measures].[Sales]"
       ],
       "rows": [
        "[Orders].[OrderDate].[OrderDate]"
       ]
      },
      "query": {
       "mdx": "SELECT NON EMPTY Hierarchize(Descendants({[Orders].[OrderDate].[AllMember]}, 1, SELF_AND_BEFORE)) ON ROWS, NON EMPTY Crossjoin(Hierarchize(Descendants({[Customers].[Region].[AllMember]}, 1, SELF_AND_BEFORE)), {[Measures].[Sales]}) ON COLUMNS FROM [Order Cube] CELL PROPERTIES VALUE, FORMATTED_VALUE, BACK_COLOR, FORE_COLOR, FONT_FLAGS",
       "updateMode": "once"
      },
      "serverKey": "default",
      "switchedTo": "plotly-line-chart",
      "widgetKey": "pivot-table"
     }
    },
    "tags": []
   },
   "outputs": [
    {
     "data": {
      "application/vnd.atoti.widget.v0+json": {
       "sessionId": "1715026487_4JZP8X",
       "sessionLocation": {
        "https": false,
        "port": 9092
       },
       "widgetCreationCode": "session.widget"
      },
      "text/html": [
       "<img height=\"0\" width=\"0\" src=\"data:,AAAAAAAAAAAAAAAAAAAAAAAAAAAAAAAAAAAAAAAAAAAAAAAACXBIWXMAABqTAAAakwH55E62\" />"
      ],
      "text/plain": [
       "Open the notebook in JupyterLab with the Atoti JupyterLab extension enabled to build this widget."
      ]
     },
     "metadata": {},
     "output_type": "display_data"
    }
   ],
   "source": [
    "session.widget"
   ]
  },
  {
   "cell_type": "markdown",
   "id": "af94cee9-dc3e-4a59-bd5b-11c2562b7220",
   "metadata": {},
   "source": [
    "⚠️ Traps and pitfalls to avoid with line charts:  \n",
    "\n",
    "* Make sure the time period presented is not misleading.  For instance, the sudden spike in sales on the 16th makes the sales data on the 17th look worse than perhaps it is.\n",
    "* The data in the trend line may need to be supplemented with further data or analysis.  In our example, we need to investigate and present possible causes of the spike in sales on the 16th (Was there a marketing event to boost sales that day?)\n",
    "\n",
    "💡 Best practices for line charts: \n",
    "\n",
    "* Chose a sensible periodicity for your data.  For sales data, it might make more sense to look at weekly or monthly data to get the overall trend.\n",
    "* Combine the line graph with other visualizations to supplement the information your audience will see.  You could for example present sales figures and profit margins on a combined graph.  Or perhaps, use a 100% stack chart to identify if a particular day of the week generates more sales over time (Is Monday more or less profitable than Thursday?)"
   ]
  },
  {
   "cell_type": "markdown",
   "id": "9327c111-27d2-4901-8c45-2b06e0922e92",
   "metadata": {},
   "source": [
    "#### 2.2.2 Area chart"
   ]
  },
  {
   "cell_type": "markdown",
   "id": "0e287c32-0cc5-434c-9a6a-147c8ec5bd28",
   "metadata": {},
   "source": [
    "An area chart is in fact a line chart that is shaded between the line and the horizontal axis. The shading helps to accentuate the contribution of each data series.  \n",
    "\n",
    "\n",
    "⚠️ Traps and pitfalls to avoid with area charts:  \n",
    "\n",
    "* In addition to the traps and pitfalls for line charts, make sure that the shaded areas added to the data actually do make it easier for your audience to understand.  Sometimes a column chart would be more appropriate.\n",
    "\n",
    "💡 Best practices for area charts: \n",
    "\n",
    "* As well as the best practices for line charts, keep in mind that this kind of visualization works well with a small number of data series (up to 7)"
   ]
  },
  {
   "cell_type": "code",
   "execution_count": 23,
   "id": "736c8f56-1f66-4787-89ff-48f9524ab7de",
   "metadata": {
    "atoti": {
     "widget": {
      "filters": [
       "[Customers].[Region].[AllMember].[Europe]"
      ],
      "mapping": {
       "horizontalSubplots": [],
       "stackBy": [
        "ALL_MEASURES",
        "[Products].[ProductCategory].[ProductCategory]"
       ],
       "values": [
        "[Measures].[Profit]"
       ],
       "verticalSubplots": [],
       "xAxis": [
        "[Orders].[OrderDate].[OrderDate]"
       ]
      },
      "name": "Profit trend of products by category in Europe",
      "query": {
       "mdx": "SELECT NON EMPTY Hierarchize(Descendants({[Orders].[OrderDate].[AllMember]}, 1, SELF_AND_BEFORE)) ON ROWS, NON EMPTY Crossjoin({[Measures].[Profit]}, Hierarchize(Descendants({[Products].[ProductCategory].[AllMember]}, 1, SELF_AND_BEFORE))) ON COLUMNS FROM [Order Cube] CELL PROPERTIES VALUE, FORMATTED_VALUE, BACK_COLOR, FORE_COLOR, FONT_FLAGS",
       "updateMode": "once"
      },
      "serverKey": "default",
      "switchedTo": "plotly-area-chart",
      "widgetKey": "plotly-stacked-area-chart"
     }
    },
    "tags": []
   },
   "outputs": [
    {
     "data": {
      "application/vnd.atoti.widget.v0+json": {
       "sessionId": "1715026487_4JZP8X",
       "sessionLocation": {
        "https": false,
        "port": 9092
       },
       "widgetCreationCode": "session.widget"
      },
      "text/html": [
       "<img height=\"0\" width=\"0\" src=\"data:,AAAAAAAAAAAAAAAAAAAAAAAAAAAAAAAAAAAAAAAAAAAAAAAACXBIWXMAABqTAAAakwH55E62\" />"
      ],
      "text/plain": [
       "Open the notebook in JupyterLab with the Atoti JupyterLab extension enabled to build this widget."
      ]
     },
     "metadata": {},
     "output_type": "display_data"
    }
   ],
   "source": [
    "session.widget"
   ]
  },
  {
   "cell_type": "markdown",
   "id": "49fc1122-fc4f-47b5-9d83-6cfd612ff424",
   "metadata": {},
   "source": [
    "### 2.3 Ranking analysis "
   ]
  },
  {
   "cell_type": "markdown",
   "id": "86b1b8e4-6dee-4e0e-bf4b-1e457e15363f",
   "metadata": {},
   "source": [
    "It's a competitive world out there and we rank everything!  \n",
    "\n",
    "Our audience might be very interested in knowing which is the best region, the best product, the highest source of profit, and for this, we'll need to use a ranking analysis. When we use Atoti to rank the `Products` hierarchy, it will assign ranks at the `ProductCategory` level. In addition, when we expand to the next level, it will also rank the `ProductName` within the category.  "
   ]
  },
  {
   "cell_type": "code",
   "execution_count": 24,
   "id": "f349fff4-b279-437d-812c-ced5b8ac6931",
   "metadata": {
    "tags": []
   },
   "outputs": [],
   "source": [
    "m[\"ProductProfitabilityRank\"] = tt.rank(\n",
    "    m[\"ProfitMargin\"], h[\"Products\"], ascending=False\n",
    ")"
   ]
  },
  {
   "cell_type": "code",
   "execution_count": 25,
   "id": "0cf0b055-1adf-4952-aaa1-9d5ed233cb98",
   "metadata": {
    "atoti": {
     "height": 350,
     "widget": {
      "columnWidths": {
       "[Measures].[Product profitability rank]": 174
      },
      "mapping": {
       "columns": [
        "ALL_MEASURES"
       ],
       "measures": [
        "[Measures].[Profit]",
        "[Measures].[ProfitMargin]",
        "[Measures].[ProductProfitabilityRank]"
       ],
       "rows": [
        "[Products].[Products].[ProductCategory]"
       ]
      },
      "name": "Product profitability ranking",
      "query": {
       "mdx": "SELECT NON EMPTY Order(Hierarchize(Descendants({[Products].[Products].[AllMember]}, 1, SELF_AND_BEFORE)), [Measures].[ProductProfitabilityRank], ASC) ON ROWS, NON EMPTY {[Measures].[Profit], [Measures].[ProfitMargin], [Measures].[ProductProfitabilityRank]} ON COLUMNS FROM [Order Cube] CELL PROPERTIES VALUE, FORMATTED_VALUE, BACK_COLOR, FORE_COLOR, FONT_FLAGS",
       "updateMode": "once"
      },
      "serverKey": "default",
      "widgetKey": "pivot-table"
     }
    },
    "tags": []
   },
   "outputs": [
    {
     "data": {
      "application/vnd.atoti.widget.v0+json": {
       "sessionId": "1715026487_4JZP8X",
       "sessionLocation": {
        "https": false,
        "port": 9092
       },
       "widgetCreationCode": "session.widget"
      },
      "text/html": [
       "<img height=\"0\" width=\"0\" src=\"data:,AAAAAAAAAAAAAAAAAAAAAAAAAAAAAAAAAAAAAAAAAAAAAAAACXBIWXMAABqTAAAakwH55E62\" />"
      ],
      "text/plain": [
       "Open the notebook in JupyterLab with the Atoti JupyterLab extension enabled to build this widget."
      ]
     },
     "metadata": {},
     "output_type": "display_data"
    }
   ],
   "source": [
    "session.widget"
   ]
  },
  {
   "cell_type": "markdown",
   "id": "b6c65cec-308c-449a-ada0-e3f7727b2599",
   "metadata": {},
   "source": [
    "The Pivot table is great when we want to drill down to the granular level of details. \n",
    "Without additional computation, we can also rank items purely using visualizations.  \n",
    "We can present rankings simply by sorting a bars/columns chart. \n",
    "\n",
    "This is a great first step at displaying rankings, but there are some other data presentation tools we can use:\n",
    "- Treemap\n",
    "- Area "
   ]
  },
  {
   "cell_type": "markdown",
   "id": "9b4b4f26-3840-47cc-91d2-aba8fefdbdf1",
   "metadata": {},
   "source": [
    "#### 2.3.1 Treemap"
   ]
  },
  {
   "cell_type": "markdown",
   "id": "551c4cb1-f831-40df-8f26-1ec6d5d1f873",
   "metadata": {},
   "source": [
    "A treemap displays categorical data in rectangles that is proportional to its rank relative to other categories. The rectangles are also arranged in order of their rank.  \n",
    "\n",
    "Treemap supports hierarchical ranking with nested rectangles.  "
   ]
  },
  {
   "cell_type": "code",
   "execution_count": 26,
   "id": "b9d0fa96-9f61-4d1b-a2fa-758b5802d858",
   "metadata": {
    "atoti": {
     "widget": {
      "mapping": {
       "groupBy": [
        "[Products].[ProductCategory].[ProductCategory]"
       ],
       "horizontalSubplots": [],
       "splitBy": [
        "[Products].[ProductName].[ProductName]"
       ],
       "values": [
        "[Measures].[ProfitMargin]"
       ],
       "verticalSubplots": []
      },
      "name": "Ranking of profit margin using Treemap",
      "query": {
       "mdx": "SELECT NON EMPTY Crossjoin(Hierarchize(Descendants({[Products].[ProductCategory].[AllMember]}, 1, SELF_AND_BEFORE)), Hierarchize(Descendants({[Products].[ProductName].[AllMember]}, 1, SELF_AND_BEFORE))) ON ROWS, NON EMPTY {[Measures].[ProfitMargin]} ON COLUMNS FROM [Order Cube] CELL PROPERTIES VALUE, FORMATTED_VALUE, BACK_COLOR, FORE_COLOR, FONT_FLAGS",
       "updateMode": "once"
      },
      "serverKey": "default",
      "widgetKey": "plotly-tree-map"
     }
    },
    "tags": []
   },
   "outputs": [
    {
     "data": {
      "application/vnd.atoti.widget.v0+json": {
       "sessionId": "1715026487_4JZP8X",
       "sessionLocation": {
        "https": false,
        "port": 9092
       },
       "widgetCreationCode": "session.widget"
      },
      "text/html": [
       "<img height=\"0\" width=\"0\" src=\"data:,AAAAAAAAAAAAAAAAAAAAAAAAAAAAAAAAAAAAAAAAAAAAAAAACXBIWXMAABqTAAAakwH55E62\" />"
      ],
      "text/plain": [
       "Open the notebook in JupyterLab with the Atoti JupyterLab extension enabled to build this widget."
      ]
     },
     "metadata": {},
     "output_type": "display_data"
    }
   ],
   "source": [
    "session.widget"
   ]
  },
  {
   "cell_type": "markdown",
   "id": "81b2930d",
   "metadata": {},
   "source": [
    "⚠️ Traps and pitfalls to avoid with treemaps:  \n",
    "\n",
    "* Total values are not usually presented in the treemap.\n",
    "* Data sets that vary widely in size do not display well.\n",
    "\n",
    "💡 Best practices for treemaps: \n",
    "\n",
    "* Make sure the data is sorted, so that the largest is presented first.\n",
    "* Position this graph wisely in your storytelling, and then let the data speak for itself."
   ]
  },
  {
   "cell_type": "markdown",
   "id": "6ef2bd90-47a3-46e9-a2f0-7903df613d77",
   "metadata": {},
   "source": [
    "#### 2.3.2 Area chart"
   ]
  },
  {
   "cell_type": "markdown",
   "id": "78281fa3-2c94-47c3-b675-1526fe5088e3",
   "metadata": {},
   "source": [
    "Previously, we have seen how area charts are used to show trends and accentuate the contribution of each data series. It can also be used to demonstrate how the ranking changed with time.  \n",
    "\n",
    "We can naturally split the area chart further by the product names but it will become overly cluttered and hence, the audience will lose their focus easily.  "
   ]
  },
  {
   "cell_type": "code",
   "execution_count": 27,
   "id": "00b516b7-b17a-4277-8f3c-f83645fad6fa",
   "metadata": {
    "atoti": {
     "widget": {
      "mapping": {
       "horizontalSubplots": [],
       "secondaryValues": [],
       "splitBy": [
        "[Products].[ProductCategory].[ProductCategory]",
        "ALL_MEASURES"
       ],
       "values": [
        "[Measures].[ProfitMargin]"
       ],
       "verticalSubplots": [],
       "xAxis": [
        "[Orders].[OrderDate].[OrderDate]"
       ]
      },
      "name": "Ranking over time by product category",
      "query": {
       "mdx": "SELECT NON EMPTY Hierarchize(Descendants({[Orders].[OrderDate].[AllMember]}, 1, SELF_AND_BEFORE)) ON ROWS, NON EMPTY Crossjoin(Hierarchize(Descendants({[Products].[ProductCategory].[AllMember]}, 1, SELF_AND_BEFORE)), {[Measures].[ProfitMargin]}) ON COLUMNS FROM [Order Cube] CELL PROPERTIES VALUE, FORMATTED_VALUE, BACK_COLOR, FORE_COLOR, FONT_FLAGS",
       "updateMode": "once"
      },
      "serverKey": "default",
      "widgetKey": "plotly-area-chart"
     }
    },
    "tags": []
   },
   "outputs": [
    {
     "data": {
      "application/vnd.atoti.widget.v0+json": {
       "sessionId": "1715026487_4JZP8X",
       "sessionLocation": {
        "https": false,
        "port": 9092
       },
       "widgetCreationCode": "session.widget"
      },
      "text/html": [
       "<img height=\"352\" width=\"1249\" src=\"data:image/png;base64,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\" />"
      ],
      "text/plain": [
       "Open the notebook in JupyterLab with the Atoti JupyterLab extension enabled to build this widget."
      ]
     },
     "metadata": {},
     "output_type": "display_data"
    }
   ],
   "source": [
    "session.widget"
   ]
  },
  {
   "cell_type": "markdown",
   "id": "1b2f0281-bb19-40fe-b64c-99e9733750f2",
   "metadata": {},
   "source": [
    "#### 📐Exercise  \n",
    "\n",
    "Try creating an area chart to rank the profit margin of products under the Meat/Poultry category."
   ]
  },
  {
   "cell_type": "markdown",
   "id": "4d5f568d-2dcc-40ad-8a67-6eff35408626",
   "metadata": {
    "tags": []
   },
   "source": [
    "#### 📖 Solution\n",
    "\n",
    "Uncomment and execute the next cell to view the solution.  "
   ]
  },
  {
   "cell_type": "code",
   "execution_count": 28,
   "id": "78e1bf0c-5c9c-4ec6-853a-1c2e2a2623c3",
   "metadata": {
    "atoti": {
     "widget": {
      "filters": [
       "[Products].[ProductCategory].[AllMember].[Meat/Poultry]"
      ],
      "mapping": {
       "horizontalSubplots": [],
       "secondaryValues": [],
       "splitBy": [
        "ALL_MEASURES",
        "[Products].[ProductName].[ProductName]"
       ],
       "values": [
        "[Measures].[ProfitMargin]"
       ],
       "verticalSubplots": [],
       "xAxis": [
        "[Orders].[OrderDate].[OrderDate]"
       ]
      },
      "query": {
       "mdx": "SELECT NON EMPTY Hierarchize(Descendants({[Orders].[OrderDate].[AllMember]}, 1, SELF_AND_BEFORE)) ON ROWS, NON EMPTY Crossjoin({[Measures].[ProfitMargin]}, Hierarchize(Descendants({[Products].[ProductName].[AllMember]}, 1, SELF_AND_BEFORE))) ON COLUMNS FROM [Order Cube] CELL PROPERTIES VALUE, FORMATTED_VALUE, BACK_COLOR, FORE_COLOR, FONT_FLAGS",
       "updateMode": "once"
      },
      "serverKey": "default",
      "widgetKey": "plotly-area-chart"
     }
    },
    "tags": []
   },
   "outputs": [],
   "source": [
    "# session.widget"
   ]
  },
  {
   "cell_type": "markdown",
   "id": "0872ca22",
   "metadata": {
    "editable": true,
    "slideshow": {
     "slide_type": ""
    },
    "tags": []
   },
   "source": [
    "Knowing how to select the best visualization for your data, and when to use each of the options, is what will make you a better data analyst. \n",
    "Your audience will appreciate the clarity of your reports, and feel enabled  to use them to make informed business decisions.\n",
    "\n",
    "In the next section of this training, we will go over some tips and techniques to help structure the data into a coherent story."
   ]
  },
  {
   "cell_type": "markdown",
   "id": "995931d2-6419-47cb-81ee-068604eecb51",
   "metadata": {},
   "source": [
    "<div style=\"text-align: center;\" ><a href=\"https://www.atoti.io/?utm_source=gallery&utm_content=02-storytelling\" target=\"_blank\" rel=\"noopener noreferrer\"><img src=\"https://data.atoti.io/notebooks/banners/Your-turn-to-try-Atoti.jpg\" alt=\"Try atoti\"></a></div>"
   ]
  }
 ],
 "metadata": {
  "kernelspec": {
   "display_name": "Python 3 (ipykernel)",
   "language": "python",
   "name": "python3"
  },
  "language_info": {
   "codemirror_mode": {
    "name": "ipython",
    "version": 3
   },
   "file_extension": ".py",
   "mimetype": "text/x-python",
   "name": "python",
   "nbconvert_exporter": "python",
   "pygments_lexer": "ipython3",
   "version": "3.11.9"
  }
 },
 "nbformat": 4,
 "nbformat_minor": 5
}
