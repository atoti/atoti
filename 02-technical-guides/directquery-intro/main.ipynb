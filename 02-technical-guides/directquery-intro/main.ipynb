{
 "cells": [
  {
   "cell_type": "markdown",
   "id": "ac3fbb12-82a8-4e9f-aa4e-e1ad414ce283",
   "metadata": {},
   "source": [
    "# DirectQuery: Combining Atoti and Data Warehouses"
   ]
  },
  {
   "cell_type": "markdown",
   "id": "a671e16d-c06b-432f-92c6-5b2d2f7043bd",
   "metadata": {},
   "source": [
    "We know Atoti provides in-memory analytics for big data. This means that we hold data in memory and perform aggregation on the fly in order to achieve fast and dynamic computations. In our usual Atoti setup, the hosting server requires a memory size that's about 1.5 times of the amount of data that gets loaded into the cube. However, with Atoti's DirectQuery, we can better support our users who store their data on the cloud! In fact, it applies for on-premise databases such as [ClickHouse](https://clickhouse.com/clickhouse) and [Microsoft SQL Server](https://www.microsoft.com/en-sg/sql-server/sql-server-downloads) too.  \n",
    "\n",
    "<img src=\"https://data.atoti.io/notebooks/direct-query/img/cost_vs_performance.png\" width=\"850px\"/>\n",
    "\n",
    "In a gist, here's what DirectQuery offers:  \n",
    "\n",
    "- Scalability\n",
    "\n",
    "> Leveraging the scalability of cloud data warehouse, the server that hosts Atoti only has to take into consideration the amount of data that gets queried on a daily basis.  \n",
    "> Instead of storing all of the data in physical memory, DirectQuery enables us to query the Cloud database directly, reducing the need for memory in the hosting server.  \n",
    "\n",
    "- Cost savings\n",
    "\n",
    "> Other than saving on the memory required for the hosting server, DirectQuery helps to save on the data transfer costs.  \n",
    "> While cloud data warehouse is cost-effective, we incur costs when we perform queries.  \n",
    "> We can reduce querying to the Cloud database by loading an aggregated cache in memory for the most frequently queried data.  \n",
    "\n",
    "- Technology agnosticism\n",
    "\n",
    "> With changes to only a few lines of data connectivity code in Atoti, we can easily switch from one Cloud service provider to another without impacting the Atoti server.  \n",
    "> We can even switch over to other data connectors such as physical files.  \n",
    "\n",
    "\n",
    "This notebook provides a quick introduction to how we can connect to Google BigQuery and create an Atoti cube."
   ]
  },
  {
   "cell_type": "markdown",
   "id": "f23aeb88-5455-44ee-892d-4aa7fc2dbfb7",
   "metadata": {},
   "source": [
    "<div style=\"text-align: center;\" ><a href=\"https://www.atoti.io/?utm_source=gallery&utm_content=directquery-intro\" target=\"_blank\" rel=\"noopener noreferrer\"><img src=\"https://data.atoti.io/notebooks/banners/Discover-Atoti-now.png\" alt=\"Try Atoti\"></a></div>"
   ]
  },
  {
   "cell_type": "markdown",
   "id": "663b2051-11e1-4815-8a2c-fde3d450d07b",
   "metadata": {},
   "source": [
    "## Google BigQuery configuration"
   ]
  },
  {
   "cell_type": "markdown",
   "id": "1db76b03-dbe0-4223-a656-8b7e9e2ff260",
   "metadata": {},
   "source": [
    "### Step 1 — Create role with permissions\n",
    "\n",
    "- Login to Google Cloud console.\n",
    "- Navigate to __IAM & Admin__ > __Roles__.  \n",
    "- Create a role with the following permission for the DirectQuery users:  \n",
    "    - `bigquery.datasets.get`\n",
    "    - `bigquery.jobs.create`\n",
    "    - `bigquery.readsessions.create`\n",
    "    - `bigquery.readsessions.getData`\n",
    "    - `bigquery.readsessions.update`\n",
    "    - `bigquery.routines.get`\n",
    "    - `bigquery.tables.get`\n",
    "    - `bigquery.tables.getData`\n",
    "    - `bigquery.tables.list`\n",
    "\n",
    "⚠️ **Important:** Having trouble pulling your data after setting up your account? Confirm that the above permissions have been set up properly!  \n",
    "\n",
    "<img src=\"https://data.atoti.io/notebooks/direct-query/img/bigquery_permission.png\" />\n",
    "\n",
    "💡 **Note:** For more details, refer to the [Atoti Server documentation](https://docs.activeviam.com/products/atoti/server/latest/docs/directquery/connect_to_external/connect_to_bigquery/)."
   ]
  },
  {
   "cell_type": "markdown",
   "id": "2143280e-d2b0-4da1-b20d-78af65d26753",
   "metadata": {},
   "source": [
    "### Step 2 — Create Service Account\n",
    "\n",
    "* Under **IAM & Admin**, navigate to **Service Accounts**.\n",
    "* Create a service account and assign the role created in Step 1.\n",
    "\n",
    "    <img src=\"https://data.atoti.io/notebooks/direct-query/img/service_account.png\" width=\"700px\"/>  "
   ]
  },
  {
   "cell_type": "markdown",
   "id": "03e75ceb-055a-4986-aa8d-6858422b260a",
   "metadata": {
    "tags": []
   },
   "source": [
    "### Step 3 — Generate API Key \n",
    "\n",
    "- Navigate to the __KEYS__ tab and generate a new key.  \n",
    "\n",
    "    <img src=\"https://data.atoti.io/notebooks/direct-query/img/create_key.png\" />  \n",
    "\n",
    "- Select `JSON` as key type and save the downloaded key to a server folder:  \n",
    "\n",
    "    <img src=\"https://data.atoti.io/notebooks/direct-query/img/json_key.png\" />\n",
    "\n",
    "- Configure environment variable pointing to the JSON key. In this use case, our environment variable is `DQ_GOOGLE_CREDENTIAL`:  \n",
    "\n",
    "    <img src=\"https://data.atoti.io/notebooks/direct-query/img/environment_variable.png\" />  \n",
    "\n",
    "💡 **Note:** Alternatively, we can set up [Application Default Credentials](https://cloud.google.com/docs/authentication/provide-credentials-adc) for authentication.  "
   ]
  },
  {
   "cell_type": "markdown",
   "id": "95e30413-d630-4b1b-a304-d824e9649c3d",
   "metadata": {},
   "source": [
    "## Database set up  \n",
    "\n",
    "To try out this notebook, you can setup the database schema and tables using the [database script](db_schema.sql) in the use case folder.  "
   ]
  },
  {
   "cell_type": "markdown",
   "id": "fcfd6d72-801a-460c-9e1f-4e0843909442",
   "metadata": {},
   "source": [
    "## Atoti Setup"
   ]
  },
  {
   "cell_type": "markdown",
   "id": "8857ebb1-032f-4b69-84e6-b8cf7e431def",
   "metadata": {},
   "source": [
    "We import [Atoti](https://docs.atoti.io/latest/getting_started/installation.html) library and create the [Atoti Session](https://docs.atoti.io/latest/api/atoti.Session.html#atoti.Session) as we always do.  "
   ]
  },
  {
   "cell_type": "code",
   "execution_count": 1,
   "id": "7d97f0ea-5b39-4c60-9a10-1cae5a22616d",
   "metadata": {
    "tags": []
   },
   "outputs": [],
   "source": [
    "import os\n",
    "import atoti as tt"
   ]
  },
  {
   "cell_type": "code",
   "execution_count": 2,
   "id": "3898f076-a031-49b7-a75f-074008d89a26",
   "metadata": {
    "tags": []
   },
   "outputs": [],
   "source": [
    "session = tt.Session()"
   ]
  },
  {
   "cell_type": "markdown",
   "id": "9e855ec8-18bb-46fa-8e99-751edafeb94c",
   "metadata": {},
   "source": [
    "## DirectQuery Prerequisites"
   ]
  },
  {
   "cell_type": "markdown",
   "id": "01a8923b-80b3-4bfd-86a0-2d705d4bb805",
   "metadata": {},
   "source": [
    "DirectQuery supports a few [databases](https://docs.atoti.io/latest/reference.html#directquery). For each of these databases, we have to install its respective Python plugin.  \n",
    "- `atoti-directquery-bigquery` : To use DirectQuery on Google BigQuery.\n",
    "- `atoti-directquery-clickhouse` : To use DirectQuery with ClickHouse.\n",
    "- `atoti-directquery-databricks` : To use DirectQuery on Databricks.\n",
    "- `atoti-directquery-mssql` : To use DirectQuery with Microsoft SQL Server.\n",
    "- `atoti-directquery-redshift` : To use DirectQuery on Amazon Redshift.\n",
    "- `atoti-directquery-snowflake` : To use DirectQuery on Snowflake.\n",
    "- `atoti-directquery-synapse` : To use DirectQuery on Azure Synapse Analytics.  \n",
    "\n",
    "In our example, we install the plugin for Google BigQuery. Uncomment the below line to install the plugin if it isn't installed.  \n",
    "\n",
    "⚠️ **Important:** We only support one type of database connection per Atoti session."
   ]
  },
  {
   "cell_type": "code",
   "execution_count": 3,
   "id": "af8780d7-ec54-481a-98d7-4cc9f7e030c1",
   "metadata": {
    "tags": []
   },
   "outputs": [],
   "source": [
    "# !pip install atoti-directquery-bigquery"
   ]
  },
  {
   "cell_type": "markdown",
   "id": "1d997a63-e2db-48f9-b501-0532c5eabb3d",
   "metadata": {},
   "source": [
    "We will be using two components from the DirectQueryPlugin:\n",
    "- [BigqueryConnectionInfo](https://docs.atoti.io/latest/api/atoti_directquery_bigquery.BigqueryConnectionInfo.html#atoti_directquery_bigquery.BigqueryConnectionInfo): Configure the connection information to BigQuery.\n",
    "- [BigqueryTableOptions](https://docs.atoti.io/latest/api/atoti_directquery_bigquery.BigqueryTableOptions.html#atoti_directquery_bigquery.BigqueryTableOptions): Configure the table options about the external table to create in Atoti.  \n",
    "\n",
    "⚠️ **Important:** Use the corresponding components for different databases if we are using a different one from BigQuery. E.g. we use [`ClickhouseConnectionInfo`](https://docs.atoti.io/latest/api/atoti_directquery_clickhouse.ClickhouseConnectionInfo.html#atoti_directquery_clickhouse.ClickhouseConnectionInfo) and [`ClickhouseTableOptions`](https://docs.atoti.io/latest/api/atoti_directquery_clickhouse.ClickhouseTableOptions.html#atoti_directquery_clickhouse.ClickhouseTableOptions) if we are connecting to [ClickHouse](https://clickhouse.com/)."
   ]
  },
  {
   "cell_type": "markdown",
   "id": "4509d71b-4d1b-4297-b18a-10430b128507",
   "metadata": {},
   "source": [
    "## Connection setup to Google BigQuery"
   ]
  },
  {
   "cell_type": "code",
   "execution_count": 4,
   "id": "f5eb2f90-be60-4332-80d2-1a5cd83147d4",
   "metadata": {
    "tags": []
   },
   "outputs": [],
   "source": [
    "from atoti_directquery_bigquery import BigqueryConnectionInfo"
   ]
  },
  {
   "cell_type": "markdown",
   "id": "00b90385-93af-479f-888a-bc0677f73eb2",
   "metadata": {},
   "source": [
    "In the below snippet, we use the environment variable to obtain the path to the [API key generated previous in Step 3](#Step-3-—-Generate-API-Key). Setting the credential path into `BigqueryConnectionInfo`, we can invoke the connection to the external database.  "
   ]
  },
  {
   "cell_type": "code",
   "execution_count": 5,
   "id": "ea50d105-284f-4296-b654-b5465037d634",
   "metadata": {
    "tags": []
   },
   "outputs": [],
   "source": [
    "credential = os.environ[\"DQ_GOOGLE_CREDENTIAL\"]\n",
    "connection_info = BigqueryConnectionInfo(credential)\n",
    "\n",
    "external_database = session.connect_to_external_database(connection_info)"
   ]
  },
  {
   "cell_type": "markdown",
   "id": "8e7f4c10-5dc6-4c53-aeea-ef4864471caf",
   "metadata": {},
   "source": [
    "### Discover External Tables"
   ]
  },
  {
   "cell_type": "markdown",
   "id": "51f3c2ee-c57b-49df-9756-60c96d9b0734",
   "metadata": {
    "tags": []
   },
   "source": [
    "Once connected, we can discover the tables available to us from the external database."
   ]
  },
  {
   "cell_type": "code",
   "execution_count": 6,
   "id": "5e85bd6f-dd6a-4ab8-a2f2-51d7759466de",
   "metadata": {
    "tags": []
   },
   "outputs": [
    {
     "data": {
      "application/json": {
       "activeviam-dq-tutorial": {
        "tutorial": [
         "PRODUCTS",
         "SALES"
        ]
       }
      },
      "text/html": [
       "<ul>\n",
       "<li>BIGQUERY\n",
       "  <ul>\n",
       "  <li>activeviam-dq-tutorial\n",
       "    <ul>\n",
       "    <li>tutorial\n",
       "      <ol>\n",
       "      <li>PRODUCTS</li>\n",
       "      <li>SALES</li>\n",
       "      </ol>    </li>\n",
       "    </ul>\n",
       "  </li>\n",
       "  </ul>\n",
       "</li>\n",
       "</ul>\n"
      ],
      "text/plain": [
       "<atoti.directquery.external_tables.ExternalTables at 0x12c70feb0>"
      ]
     },
     "execution_count": 6,
     "metadata": {
      "application/json": {
       "expanded": false,
       "root": "BIGQUERY"
      }
     },
     "output_type": "execute_result"
    }
   ],
   "source": [
    "external_database.tables"
   ]
  },
  {
   "cell_type": "markdown",
   "id": "4187eaef-cae3-44ca-80c1-dd952dd3faab",
   "metadata": {},
   "source": [
    "If the database has many schemas, we can perform a filter to access only the schema that we want."
   ]
  },
  {
   "cell_type": "code",
   "execution_count": 7,
   "id": "63c5fafe-05e1-429e-8f35-9f3f072e34f7",
   "metadata": {
    "tags": []
   },
   "outputs": [
    {
     "data": {
      "application/json": {
       "activeviam-dq-tutorial": {
        "tutorial": [
         "PRODUCTS",
         "SALES"
        ]
       }
      },
      "text/html": [
       "<ul>\n",
       "<li>BIGQUERY\n",
       "  <ul>\n",
       "  <li>activeviam-dq-tutorial\n",
       "    <ul>\n",
       "    <li>tutorial\n",
       "      <ol>\n",
       "      <li>PRODUCTS</li>\n",
       "      <li>SALES</li>\n",
       "      </ol>    </li>\n",
       "    </ul>\n",
       "  </li>\n",
       "  </ul>\n",
       "</li>\n",
       "</ul>\n"
      ],
      "text/plain": [
       "<atoti.directquery.external_tables.ExternalTables at 0x12c7c4eb0>"
      ]
     },
     "execution_count": 7,
     "metadata": {
      "application/json": {
       "expanded": false,
       "root": "BIGQUERY"
      }
     },
     "output_type": "execute_result"
    }
   ],
   "source": [
    "external_database.tables._filter(schema_pattern=\"tutorial\")"
   ]
  },
  {
   "cell_type": "markdown",
   "id": "f1308a2c-a4d2-40e5-9985-7013fa05a9fb",
   "metadata": {},
   "source": [
    "### Discover Table Columns"
   ]
  },
  {
   "cell_type": "markdown",
   "id": "e72119a9-ed38-4d83-a8a5-1fe021b48e5c",
   "metadata": {},
   "source": [
    "If a table name is unique in the database, we can check its structure directly using its name:  "
   ]
  },
  {
   "cell_type": "code",
   "execution_count": 8,
   "id": "f91519b6-a36b-4f0c-b1f0-949b0be22d5f",
   "metadata": {
    "tags": []
   },
   "outputs": [
    {
     "data": {
      "application/json": {
       "DATE": "LocalDate",
       "PRODUCT": "String",
       "QUANTITY": "long",
       "SALE_ID": "String",
       "SHOP": "String",
       "UNIT_PRICE": "double"
      },
      "text/html": [
       "<ul>\n",
       "<li>SALES\n",
       "  <ul>\n",
       "  <li>SALE_ID: String</li>\n",
       "  <li>DATE: LocalDate</li>\n",
       "  <li>SHOP: String</li>\n",
       "  <li>PRODUCT: String</li>\n",
       "  <li>QUANTITY: long</li>\n",
       "  <li>UNIT_PRICE: double</li>\n",
       "  </ul>\n",
       "</li>\n",
       "</ul>\n"
      ],
      "text/plain": [
       "<atoti_directquery_bigquery.table.BigqueryTable at 0x12c7c5840>"
      ]
     },
     "execution_count": 8,
     "metadata": {
      "application/json": {
       "expanded": true,
       "root": "SALES"
      }
     },
     "output_type": "execute_result"
    }
   ],
   "source": [
    "external_database.tables[\"SALES\"]"
   ]
  },
  {
   "cell_type": "markdown",
   "id": "1d9ef3fb-85a5-472b-aa12-8a88e3d1e6d9",
   "metadata": {},
   "source": [
    "However, to be precise, it is a good practice to refer to the table using its database, schema and table names. Execute the following cells as `Code` to try this out."
   ]
  },
  {
   "cell_type": "raw",
   "id": "fdb15217-bb02-469c-98ba-413e3fceb744",
   "metadata": {
    "tags": []
   },
   "source": [
    "db_name = \"<database name here>\"\n",
    "db_schema = \"tutorial\"\n",
    "table_sales = \"SALES\""
   ]
  },
  {
   "cell_type": "raw",
   "id": "6e432977-a20e-450d-ba16-c9974db91f95",
   "metadata": {
    "tags": []
   },
   "source": [
    "external_database.tables[db_name, db_schema, table_sales]"
   ]
  },
  {
   "cell_type": "markdown",
   "id": "85d14ebe-eb8a-4216-8564-8330b4b7b0d9",
   "metadata": {},
   "source": [
    "## Add External Table to Atoti"
   ]
  },
  {
   "cell_type": "markdown",
   "id": "8fa1b581-ee16-4730-8ea2-b29fa14ee03a",
   "metadata": {},
   "source": [
    "Since we have connected to the external database and we are able to see its structure, we can add the required tables to the Atoti session.  \n",
    "\n",
    "Using [BigqueryTableOptions](https://docs.atoti.io/latest/api/atoti_directquery_bigquery.BigqueryTableOptions.html#atoti_directquery_bigquery.BigqueryTableOptions), we can define additional options to the table that we will create in Atoti:\n",
    "\n",
    "- `array_conversion`: Converting values spread over multiple columns into array columns.\n",
    "- `clustering_columns`: Columns used for splitting up queries.\n",
    "- `keys`: Keys used to identify unique rows for updating of data.\n",
    "\n",
    "We will only use `keys` and `clustering_columns` in our example."
   ]
  },
  {
   "cell_type": "code",
   "execution_count": 9,
   "id": "7dab34b4-ca6f-4c80-8ba9-f8534f9eae5b",
   "metadata": {
    "tags": []
   },
   "outputs": [],
   "source": [
    "from atoti_directquery_bigquery import BigqueryTableOptions"
   ]
  },
  {
   "cell_type": "markdown",
   "id": "790b7a07-c762-438a-878e-de3611f39b5c",
   "metadata": {},
   "source": [
    "Similar to how we create keys for Atoti tables, we set the key columns in the `BigqueryTableOptions`. Note that this external table is created in Atoti and the defined keys affects only the data that is accessible in Atoti. It does not change the tables in BigQuery.  \n",
    "\n",
    "To distinguish our Atoti external table from the BigQuery table, we named them differently in our example.  "
   ]
  },
  {
   "cell_type": "code",
   "execution_count": 10,
   "id": "a580d644-94e0-4772-ac94-a9600bc08546",
   "metadata": {
    "tags": []
   },
   "outputs": [],
   "source": [
    "sales_table = session.add_external_table(\n",
    "    external_database.tables[\"SALES\"],\n",
    "    table_name=\"Atoti Sales\",\n",
    "    options=BigqueryTableOptions(\n",
    "        keys=[\"SALE_ID\"], clustering_columns={\"DATE\", \"PRODUCT\"}\n",
    "    ),\n",
    ")"
   ]
  },
  {
   "cell_type": "markdown",
   "id": "ac9b4de4-60f9-45d9-8b87-e7d0452714ee",
   "metadata": {},
   "source": [
    "To speed up querying, Atoti makes use of [aggregate providers](https://docs.atoti.io/latest/api/atoti.AggregateProvider.html#atoti.AggregateProvider) to pre-aggregates some table columns up to certain levels. Feeding such providers from an external database can result in very large queries to be run on the database. Some databases can have trouble processing such large queries. Therefore, we define [clustering columns](https://docs.activeviam.com/products/atoti/server/latest/docs/directquery/directquery-clustering-fields/) to help split up queries made by DirectQuery to these external database when feeding the aggregate providers.  \n",
    "\n",
    "The `clustering_columns` parameter allows us to define columns to be used for clustering. While our example uses a small dataset and clustering column is not necessary, we demonstrate how it can be used in the snippet above.  "
   ]
  },
  {
   "cell_type": "code",
   "execution_count": 11,
   "id": "561e7c19-28cc-4796-918b-24de800147a7",
   "metadata": {
    "tags": []
   },
   "outputs": [
    {
     "data": {
      "text/html": [
       "<div>\n",
       "<style scoped>\n",
       "    .dataframe tbody tr th:only-of-type {\n",
       "        vertical-align: middle;\n",
       "    }\n",
       "\n",
       "    .dataframe tbody tr th {\n",
       "        vertical-align: top;\n",
       "    }\n",
       "\n",
       "    .dataframe thead th {\n",
       "        text-align: right;\n",
       "    }\n",
       "</style>\n",
       "<table border=\"1\" class=\"dataframe\">\n",
       "  <thead>\n",
       "    <tr style=\"text-align: right;\">\n",
       "      <th></th>\n",
       "      <th>DATE</th>\n",
       "      <th>SHOP</th>\n",
       "      <th>PRODUCT</th>\n",
       "      <th>QUANTITY</th>\n",
       "      <th>UNIT_PRICE</th>\n",
       "    </tr>\n",
       "    <tr>\n",
       "      <th>SALE_ID</th>\n",
       "      <th></th>\n",
       "      <th></th>\n",
       "      <th></th>\n",
       "      <th></th>\n",
       "      <th></th>\n",
       "    </tr>\n",
       "  </thead>\n",
       "  <tbody>\n",
       "    <tr>\n",
       "      <th>S0010</th>\n",
       "      <td>2022-01-31</td>\n",
       "      <td>shop_2</td>\n",
       "      <td>BED_2</td>\n",
       "      <td>3</td>\n",
       "      <td>150.0</td>\n",
       "    </tr>\n",
       "    <tr>\n",
       "      <th>S0009</th>\n",
       "      <td>2022-01-31</td>\n",
       "      <td>shop_3</td>\n",
       "      <td>BED_2</td>\n",
       "      <td>1</td>\n",
       "      <td>150.0</td>\n",
       "    </tr>\n",
       "    <tr>\n",
       "      <th>S0008</th>\n",
       "      <td>2022-01-31</td>\n",
       "      <td>shop_4</td>\n",
       "      <td>BED_2</td>\n",
       "      <td>1</td>\n",
       "      <td>150.0</td>\n",
       "    </tr>\n",
       "    <tr>\n",
       "      <th>S0007</th>\n",
       "      <td>2022-02-01</td>\n",
       "      <td>shop_5</td>\n",
       "      <td>BED_2</td>\n",
       "      <td>1</td>\n",
       "      <td>150.0</td>\n",
       "    </tr>\n",
       "    <tr>\n",
       "      <th>S0019</th>\n",
       "      <td>2022-02-02</td>\n",
       "      <td>shop_3</td>\n",
       "      <td>HOO_5</td>\n",
       "      <td>1</td>\n",
       "      <td>48.0</td>\n",
       "    </tr>\n",
       "  </tbody>\n",
       "</table>\n",
       "</div>"
      ],
      "text/plain": [
       "              DATE    SHOP PRODUCT  QUANTITY  UNIT_PRICE\n",
       "SALE_ID                                                 \n",
       "S0010   2022-01-31  shop_2   BED_2         3       150.0\n",
       "S0009   2022-01-31  shop_3   BED_2         1       150.0\n",
       "S0008   2022-01-31  shop_4   BED_2         1       150.0\n",
       "S0007   2022-02-01  shop_5   BED_2         1       150.0\n",
       "S0019   2022-02-02  shop_3   HOO_5         1        48.0"
      ]
     },
     "execution_count": 11,
     "metadata": {},
     "output_type": "execute_result"
    }
   ],
   "source": [
    "sales_table.head()"
   ]
  },
  {
   "cell_type": "markdown",
   "id": "dc44214e-743e-4937-9269-61498986355b",
   "metadata": {},
   "source": [
    "We can add multiple tables."
   ]
  },
  {
   "cell_type": "code",
   "execution_count": 12,
   "id": "f282f67a-dfa9-4ba1-aef7-779ec734fe50",
   "metadata": {
    "tags": []
   },
   "outputs": [
    {
     "data": {
      "text/html": [
       "<div>\n",
       "<style scoped>\n",
       "    .dataframe tbody tr th:only-of-type {\n",
       "        vertical-align: middle;\n",
       "    }\n",
       "\n",
       "    .dataframe tbody tr th {\n",
       "        vertical-align: top;\n",
       "    }\n",
       "\n",
       "    .dataframe thead th {\n",
       "        text-align: right;\n",
       "    }\n",
       "</style>\n",
       "<table border=\"1\" class=\"dataframe\">\n",
       "  <thead>\n",
       "    <tr style=\"text-align: right;\">\n",
       "      <th></th>\n",
       "      <th>CATEGORY</th>\n",
       "      <th>SUB_CATEGORY</th>\n",
       "      <th>SIZE</th>\n",
       "      <th>PURCHASE_PRICE</th>\n",
       "      <th>COLOR</th>\n",
       "      <th>BRAND</th>\n",
       "    </tr>\n",
       "    <tr>\n",
       "      <th>PRODUCT_ID</th>\n",
       "      <th></th>\n",
       "      <th></th>\n",
       "      <th></th>\n",
       "      <th></th>\n",
       "      <th></th>\n",
       "      <th></th>\n",
       "    </tr>\n",
       "  </thead>\n",
       "  <tbody>\n",
       "    <tr>\n",
       "      <th>BED_2</th>\n",
       "      <td>Furniture</td>\n",
       "      <td>Bed</td>\n",
       "      <td>Single</td>\n",
       "      <td>127.0</td>\n",
       "      <td>red</td>\n",
       "      <td>Mega</td>\n",
       "    </tr>\n",
       "    <tr>\n",
       "      <th>TAB_0</th>\n",
       "      <td>Furniture</td>\n",
       "      <td>Table</td>\n",
       "      <td>1m80</td>\n",
       "      <td>190.0</td>\n",
       "      <td>black</td>\n",
       "      <td>Basic</td>\n",
       "    </tr>\n",
       "    <tr>\n",
       "      <th>TAB_1</th>\n",
       "      <td>Furniture</td>\n",
       "      <td>Table</td>\n",
       "      <td>2m40</td>\n",
       "      <td>280.0</td>\n",
       "      <td>white</td>\n",
       "      <td>Mega</td>\n",
       "    </tr>\n",
       "    <tr>\n",
       "      <th>HOO_5</th>\n",
       "      <td>Cloth</td>\n",
       "      <td>Hoodie</td>\n",
       "      <td>M</td>\n",
       "      <td>38.0</td>\n",
       "      <td>red</td>\n",
       "      <td>Mega</td>\n",
       "    </tr>\n",
       "    <tr>\n",
       "      <th>TSH_4</th>\n",
       "      <td>Cloth</td>\n",
       "      <td>Tshirt</td>\n",
       "      <td>L</td>\n",
       "      <td>20.0</td>\n",
       "      <td>black</td>\n",
       "      <td>Over</td>\n",
       "    </tr>\n",
       "  </tbody>\n",
       "</table>\n",
       "</div>"
      ],
      "text/plain": [
       "             CATEGORY SUB_CATEGORY    SIZE  PURCHASE_PRICE  COLOR  BRAND\n",
       "PRODUCT_ID                                                              \n",
       "BED_2       Furniture          Bed  Single           127.0    red   Mega\n",
       "TAB_0       Furniture        Table    1m80           190.0  black  Basic\n",
       "TAB_1       Furniture        Table    2m40           280.0  white   Mega\n",
       "HOO_5           Cloth       Hoodie       M            38.0    red   Mega\n",
       "TSH_4           Cloth       Tshirt       L            20.0  black   Over"
      ]
     },
     "execution_count": 12,
     "metadata": {},
     "output_type": "execute_result"
    }
   ],
   "source": [
    "products_table = session.add_external_table(\n",
    "    external_database.tables[\"PRODUCTS\"],\n",
    "    table_name=\"Atoti Product\",\n",
    "    options=BigqueryTableOptions(keys=[\"PRODUCT_ID\"]),\n",
    ")\n",
    "\n",
    "products_table.head()"
   ]
  },
  {
   "cell_type": "markdown",
   "id": "57349699-117a-4cf9-bb95-5910f18d5187",
   "metadata": {},
   "source": [
    "Once we have created our external tables, the rest is _simply the usual stuff for Atoti_."
   ]
  },
  {
   "cell_type": "markdown",
   "id": "564a8bad-9c60-4c7a-b94e-918b5112cfdb",
   "metadata": {
    "tags": []
   },
   "source": [
    "## Atoti Cube Setup"
   ]
  },
  {
   "cell_type": "markdown",
   "id": "2f24568b-71da-4341-a716-f8abdbdce17d",
   "metadata": {
    "tags": []
   },
   "source": [
    "From this section onwards, the coding remains the same regardless of the underlying data source.  \n",
    "\n",
    "As we have always done, we join the tables and create the cube."
   ]
  },
  {
   "cell_type": "code",
   "execution_count": 13,
   "id": "93f6c667-27b6-4e2e-9685-ef275235622c",
   "metadata": {
    "tags": []
   },
   "outputs": [
    {
     "data": {
      "image/png": "[encoded data removed]",
      "text/plain": [
       "erDiagram\n",
       "  \"Atoti Product\" {\n",
       "    _ String PK \"PRODUCT_ID\"\n",
       "    _ String \"CATEGORY\"\n",
       "    _ String \"SUB_CATEGORY\"\n",
       "    _ String \"SIZE\"\n",
       "    _ double \"PURCHASE_PRICE\"\n",
       "    _ String \"COLOR\"\n",
       "    _ String \"BRAND\"\n",
       "  }\n",
       "  \"Atoti Sales\" {\n",
       "    _ String PK \"SALE_ID\"\n",
       "    _ LocalDate \"DATE\"\n",
       "    _ String \"SHOP\"\n",
       "    _ String \"PRODUCT\"\n",
       "    _ long \"QUANTITY\"\n",
       "    _ double \"UNIT_PRICE\"\n",
       "  }\n",
       "  \"Atoti Sales\" }o--o| \"Atoti Product\" : \"`PRODUCT` == `PRODUCT_ID`\""
      ]
     },
     "execution_count": 13,
     "metadata": {},
     "output_type": "execute_result"
    }
   ],
   "source": [
    "sales_table.join(products_table, sales_table[\"PRODUCT\"] == products_table[\"PRODUCT_ID\"])\n",
    "cube = session.create_cube(sales_table)\n",
    "session.tables.schema"
   ]
  },
  {
   "cell_type": "code",
   "execution_count": 14,
   "id": "4ee29cb6-1f57-43f2-b6e7-ad2e72d8abd4",
   "metadata": {
    "atoti": {
     "widget": {
      "mapping": {
       "columns": [
        "ALL_MEASURES"
       ],
       "measures": [
        "[Measures].[QUANTITY.SUM]"
       ],
       "rows": [
        "[Atoti Sales].[DATE].[DATE]",
        "[Atoti Sales].[SHOP].[SHOP] => [Atoti Product].[BRAND].[BRAND]"
       ]
      },
      "name": "Quantity sold across dates by shops",
      "query": {
       "mdx": "SELECT NON EMPTY {[Measures].[QUANTITY.SUM]} ON COLUMNS, NON EMPTY Hierarchize(Union(Crossjoin(Hierarchize(Descendants({[Atoti Sales].[DATE].[AllMember]}, 1, SELF_AND_BEFORE)), Hierarchize(Descendants({[Atoti Sales].[SHOP].[AllMember]}, 1, SELF_AND_BEFORE)), [Atoti Product].[BRAND].DefaultMember), Crossjoin([Atoti Sales].[DATE].[AllMember].[2022-01-31], [Atoti Sales].[SHOP].[AllMember].[shop_2], Hierarchize(Descendants({[Atoti Product].[BRAND].[AllMember]}, 1, SELF_AND_BEFORE))))) ON ROWS FROM [Atoti Sales] CELL PROPERTIES VALUE, FORMATTED_VALUE, BACK_COLOR, FORE_COLOR, FONT_FLAGS",
       "updateMode": "once"
      },
      "serverKey": "default",
      "widgetKey": "pivot-table"
     }
    },
    "tags": []
   },
   "outputs": [
    {
     "data": {
      "application/vnd.atoti.widget.v0+json": {
       "sessionId": "1710952567_PBBOR3",
       "sessionLocation": {
        "https": false,
        "port": 61672
       },
       "widgetCreationCode": "session.widget"
      },
      "text/html": [
       "<img height=\"352\" width=\"1071\" src=\"data:image/png;base64,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\" />"
      ],
      "text/plain": [
       "Open the notebook in JupyterLab with the Atoti JupyterLab extension enabled to build this widget."
      ]
     },
     "metadata": {},
     "output_type": "display_data"
    }
   ],
   "source": [
    "session.widget"
   ]
  },
  {
   "cell_type": "markdown",
   "id": "623a5cce-fee4-489b-9250-c5dd542fb708",
   "metadata": {},
   "source": [
    "### Cube manipulation"
   ]
  },
  {
   "cell_type": "markdown",
   "id": "ad616201-0cc7-4012-8e54-66a99c9c1a23",
   "metadata": {},
   "source": [
    "We perform hierarchy manipulation, level ordering and measure creations the same way we always do in Atoti."
   ]
  },
  {
   "cell_type": "code",
   "execution_count": 15,
   "id": "27bebe22-10e5-4b67-9c18-4bb478fef70b",
   "metadata": {
    "tags": []
   },
   "outputs": [],
   "source": [
    "h, l, m = cube.hierarchies, cube.levels, cube.measures"
   ]
  },
  {
   "cell_type": "code",
   "execution_count": 16,
   "id": "fe4aea14-fc25-4a2d-9401-0ce01df385e4",
   "metadata": {
    "tags": []
   },
   "outputs": [],
   "source": [
    "h[\"CATEGORY\"] = [l[\"CATEGORY\"], l[\"SUB_CATEGORY\"]]\n",
    "del h[\"SUB_CATEGORY\"]"
   ]
  },
  {
   "cell_type": "code",
   "execution_count": 17,
   "id": "efc5d476-6465-4ccf-93d3-9f5dfe19df3c",
   "metadata": {
    "tags": []
   },
   "outputs": [
    {
     "data": {
      "application/json": {
       "Atoti Product": {
        "BRAND": [
         "BRAND"
        ],
        "CATEGORY": [
         "CATEGORY",
         "SUB_CATEGORY"
        ],
        "COLOR": [
         "COLOR"
        ],
        "SIZE": [
         "SIZE"
        ]
       },
       "Atoti Sales": {
        "DATE": [
         "DATE"
        ],
        "PRODUCT": [
         "PRODUCT"
        ],
        "SALE_ID": [
         "SALE_ID"
        ],
        "SHOP": [
         "SHOP"
        ]
       }
      },
      "text/html": [
       "<ul>\n",
       "<li>Dimensions\n",
       "  <ul>\n",
       "  <li>Atoti Product\n",
       "    <ul>\n",
       "    <li>BRAND\n",
       "      <ol>\n",
       "      <li>BRAND</li>\n",
       "      </ol>    </li>\n",
       "    <li>CATEGORY\n",
       "      <ol>\n",
       "      <li>CATEGORY</li>\n",
       "      <li>SUB_CATEGORY</li>\n",
       "      </ol>    </li>\n",
       "    <li>COLOR\n",
       "      <ol>\n",
       "      <li>COLOR</li>\n",
       "      </ol>    </li>\n",
       "    <li>SIZE\n",
       "      <ol>\n",
       "      <li>SIZE</li>\n",
       "      </ol>    </li>\n",
       "    </ul>\n",
       "  </li>\n",
       "  <li>Atoti Sales\n",
       "    <ul>\n",
       "    <li>DATE\n",
       "      <ol>\n",
       "      <li>DATE</li>\n",
       "      </ol>    </li>\n",
       "    <li>PRODUCT\n",
       "      <ol>\n",
       "      <li>PRODUCT</li>\n",
       "      </ol>    </li>\n",
       "    <li>SALE_ID\n",
       "      <ol>\n",
       "      <li>SALE_ID</li>\n",
       "      </ol>    </li>\n",
       "    <li>SHOP\n",
       "      <ol>\n",
       "      <li>SHOP</li>\n",
       "      </ol>    </li>\n",
       "    </ul>\n",
       "  </li>\n",
       "  </ul>\n",
       "</li>\n",
       "</ul>\n"
      ],
      "text/plain": [
       "{('Atoti Product', 'BRAND'): <atoti.hierarchy.Hierarchy object at 0x12cb73be0>, ('Atoti Sales', 'DATE'): <atoti.hierarchy.Hierarchy object at 0x12cb73940>, ('Atoti Sales', 'SHOP'): <atoti.hierarchy.Hierarchy object at 0x12cb737c0>, ('Atoti Product', 'COLOR'): <atoti.hierarchy.Hierarchy object at 0x12cb736a0>, ('Atoti Sales', 'PRODUCT'): <atoti.hierarchy.Hierarchy object at 0x12cb733d0>, ('Atoti Product', 'SIZE'): <atoti.hierarchy.Hierarchy object at 0x12cb730a0>, ('Atoti Product', 'CATEGORY'): <atoti.hierarchy.Hierarchy object at 0x12cb73160>, ('Atoti Sales', 'SALE_ID'): <atoti.hierarchy.Hierarchy object at 0x12cb730d0>}"
      ]
     },
     "execution_count": 17,
     "metadata": {
      "application/json": {
       "expanded": true,
       "root": "Dimensions"
      }
     },
     "output_type": "execute_result"
    }
   ],
   "source": [
    "h"
   ]
  },
  {
   "cell_type": "code",
   "execution_count": 18,
   "id": "fe924c60-0c9d-431f-ac72-297db49d8abc",
   "metadata": {
    "tags": []
   },
   "outputs": [],
   "source": [
    "l[\"DATE\"].order = tt.NaturalOrder(ascending=False)"
   ]
  },
  {
   "cell_type": "code",
   "execution_count": 19,
   "id": "343686bd-182e-4de1-b681-8bc6c04b791d",
   "metadata": {
    "tags": []
   },
   "outputs": [],
   "source": [
    "m[\"PURCHASE_PRICE.SUM\"] = tt.agg.sum(products_table[\"PURCHASE_PRICE\"])\n",
    "m[\"PROFIT\"] = tt.agg.sum_product(\n",
    "    m[\"UNIT_PRICE.SUM\"] - m[\"PURCHASE_PRICE.SUM\"],\n",
    "    m[\"QUANTITY.SUM\"],\n",
    "    scope=tt.OriginScope(levels={l[\"SALE_ID\"], l[\"PRODUCT\"]}),\n",
    ")"
   ]
  },
  {
   "cell_type": "markdown",
   "id": "595db925-bf0b-4828-87fb-ff26c717d905",
   "metadata": {},
   "source": [
    "Since we have a join from `sales_table` to `products_table` using the column values of `sales_table.PRODUCT` and `products_table.PRODUCT_ID`, the resultant level is the name of the column from the _from_ table. Therefore, we have the level `PRODUCT` but not `PRODUCT_ID` for our scope in the code snippet above."
   ]
  },
  {
   "cell_type": "code",
   "execution_count": 20,
   "id": "a5dd754e-6d52-43b0-9a18-e7aa7fd42e0b",
   "metadata": {
    "atoti": {
     "widget": {
      "mapping": {
       "columns": [
        "ALL_MEASURES"
       ],
       "measures": [
        "[Measures].[UNIT_PRICE.SUM]",
        "[Measures].[PURCHASE_PRICE.SUM]",
        "[Measures].[QUANTITY.SUM]",
        "[Measures].[PROFIT]"
       ],
       "rows": [
        "[Atoti Sales].[DATE].[DATE]",
        "[Atoti Product].[CATEGORY].[CATEGORY] => [Atoti Product].[CATEGORY].[SUB_CATEGORY]"
       ]
      },
      "name": "Profit by Product Categories across dates",
      "query": {
       "mdx": "SELECT NON EMPTY Hierarchize(Union(Crossjoin(Hierarchize(Descendants({[Atoti Sales].[DATE].[AllMember]}, 1, SELF_AND_BEFORE)), Hierarchize(Descendants({[Atoti Product].[CATEGORY].[AllMember]}, 1, SELF_AND_BEFORE))), Crossjoin([Atoti Sales].[DATE].[AllMember].[2022-02-03], Descendants({[Atoti Product].[CATEGORY].[AllMember].[Cloth]}, [Atoti Product].[CATEGORY].[SUB_CATEGORY])))) ON ROWS, NON EMPTY {[Measures].[UNIT_PRICE.SUM], [Measures].[PURCHASE_PRICE.SUM], [Measures].[QUANTITY.SUM], [Measures].[PROFIT]} ON COLUMNS FROM [Atoti Sales] CELL PROPERTIES VALUE, FORMATTED_VALUE, BACK_COLOR, FORE_COLOR, FONT_FLAGS",
       "updateMode": "once"
      },
      "serverKey": "default",
      "widgetKey": "pivot-table"
     }
    },
    "tags": []
   },
   "outputs": [
    {
     "data": {
      "application/vnd.atoti.widget.v0+json": {
       "sessionId": "1710952567_PBBOR3",
       "sessionLocation": {
        "https": false,
        "port": 61672
       },
       "widgetCreationCode": "session.widget"
      },
      "text/html": [
       "<img height=\"352\" width=\"1071\" src=\"data:image/png;base64,iVBORw0KGgoAAAANSUhEUgAABC8AAAFgCAYAAACbh1MjAAAAAXNSR0IArs4c6QAAIABJREFUeF7snQt4HFX5/98zu0lKuynlWlIKhCaZM0nacqnI1R9FfyooCoIiCMhFroqKggjIXUREARUBxRuKchXkIhdBsV4BsagtSeZM0lKgpIAXCm3aptmd89/v/OfkN93uZjfJbrKZvPM8PtjszJlzPu85M3O+533fI4gPJsAEmAATYAJMgAkwASbABJgAE2ACTIAJVDEBUcV146oxASbABJgAE2ACTIAJMAEmwASYABNgAkyABsULrbVmHkyACTCBGBBYK4Soj0E7uAlMgAkwASbABJgAE2ACTIAJhARYvOCuwASYQNwIsHgRN4tye5gAE2ACTIAJMAEmwAQmPQEWLyZ9F2AATCB2BFi8iJ1JuUFMgAkwASbABJgAE2ACk50AixeTvQdw+5lA/AiweBE/m3KLmAATYAJMgAkwASbABCY5ARYvJnkH4OYzgRgSYPEihkblJjEBJsAEmAATYAJMgAlMbgIsXkxu+3PrmUAcCbB4EUercpuYABNgAkyACTABJsAEJjUBFi8mtfm58UwglgRYvIilWblRTIAJMAEmwASYABNgApOZAIsXk9n63HYmEE8CLF7E067cKibABJgAE2ACTIAJMIFJTGDcxYslS5ZQV1cXbb311rRw4UK644476G1vexu1tbWVbBalFHV2dtIHP/hBSiQSJV9XrSf29PTQ0qVL6dBDD6WamppxrebAwAC99NJLtOOOO9KUKVPGtS7lvDnaNZK+Vs46xKWsauqvIVMWL+LSubgdTIAJMAEmwASYABNgAkwgJFBQvHAcZzNI++23Hx155JH0/ve/vywAH3vsMTr77LNp2rRpdNRRRwWTdZR/yCGH0PXXXx/c4+9//3vw3z322KPgPX/wgx/QN77xDfrHP/5R1gn2RRddRL/4xS82uS9ElXe96110xhlnVEwo+dnPfkZXXnkl/fWvf6Xp06eXhTUKeeGFF+jFF1+kd7zjHUXr/oc//IFQD/zXHGj717/+dWpqaiq5TplMhv74xz/SLrvsQrvuumvJ11X6xI6Ojs36WqXvGdfyR9JfSxnXo+DF4sUo4PGlTIAJMAEmwASYABNgAkygGgkUFS8++9nPBvV+/vnn6be//W3w/7/1rW/Re9/73lG35/zzz6f7779/UHTwfZ8effRRmj9/Pu20005B+R/72MeC/95+++0F71cp8eKCCy6gX/7yl2QYvPbaa3TnnXcG9TjuuOMI4kYljpFMBkupxw033EA33nhjUZHnmWeeoRNOOCEoEqISRKvu7u7gWghNt912W8meMRs2bKDdd9+dPvWpT9GnP/3pUqo5Jufk62tjcuMY3mQk/bWUcT0KVCxejAIeX8oEmAATYAJMgAkwASbABKqRQEHxYv/996d99tmHrr322sF69/b20jvf+U6SUtIDDzywWXu01iTEYJFF23viiSfSxo0bhxQmSpnk5IoXw61HoYpCvHj88cdp8eLFg6esX7+ePv7xjwdhHfk8I8px75FMBovCJqJSxQt4wCAU4Mc//jHtu+++g0VjtfyYY46hww47jL72ta+Vcksqh3hRDqYlVXYYJ41XnUZ632LXFft9KDRD9ddC5ZYyrodhjtxTWbwYBTy+lAkwASbABJgAE2ACTIAJVCOBYYkXaADCPBDuYSb0H/3oR4PJ/N/+9rfAM+O0006j008/nZYtWxZMfn/3u98FeRv+53/+h0455RTaeeedadWqVXTqqacGE2Qczc3NQSgDykbYyEknnRTkv8Dqf/Scgw8+mM4666zNOBrx4p577gnCTf7yl7/QbrvtRkcccQShflhlx3/xt6i3BISTo48+OrjXZz7zmc3KzSde4CTkSrj88svphz/8YeBVMBIG5mavv/463XzzzYFIguPDH/4wbbnllnTNNdcMiiMQeZAHJNr2RYsWBaEy3//+96mhoSG4FuEZd999Nz3xxBPU2NhIBx10UOA1glwVsAts1tfXF/w2e/ZsArfc49VXXw14QKS49NJLN/v9kksuCUJJ0AdQ7r/+9a+gHn/6058CoQKMP/e5z9G8efOC86666ipasWJF4LGBep577rlB+WvXrqXvfe97QV1RBmyL/hENLXnuuefo1ltvDdjAEwf9AwLKv//9b/rmN78Z1A2T45///OdBfdAHIbihLNjVHLhu2223pe22245++tOfUktLS3Bv09fwXxzLly+nH/3oR4H3D8793//9X/rkJz9JU6dOHSwLnjewP/KsQMQ79thjA++UQgdELvTJf/7znwEv1O/CCy+kbbbZZvCSoez27LPPBn0NbYBI8PTTTwftXbBgwZBjzBRerL7Ffs9tVyn9tb+/P+D7yCOPBLZHXwCnww8/nP7zn/8MOa7Rtocffphge4RnwY54NpgDzw4IZ2CGA7998YtfHBwD4XksXlTj24brxASYABNgAkyACTABJsAERkFg2OIFJp+/+tWvgokiRIG3v/3twe3NZBmTCYgRH/rQh4LJ7Ec+8hFC3oP77rsvSMp51113UTKZDP6LiQoOTGzmzJlD8PaAGIB7YGUWv2PyigMTeEwWIYLkHka8wAR5r732orlz59KTTz4ZJPG8+uqrg0mTyV8RzYvx5z//mT7xiU8E4gEm+rlHIfECAgEm8RAvMDEbCQOwgHiCdmGihjpuv/329OCDD9KaNWsCkcF4doALJnJXXHHFYBUxwTvnnHOCiT0EIUxyjz/++MAO73vf+wLRB78h5AMTctQZZcNuEGoweYbokntAcIDQ8d3vfjcQGYY6YFfkP4H4gAk8kqUizAYTVIgZb775Jv3617+mb3/724H4cuCBBwacIVBAiIGwhesg1qB/QOTC9VtttVUgJKDvYMIPNvB4Md4+yJ+B83HAdghjOuCAA4K8KAh5ATfYzoS+QMRCX0D/+MAHPhCEvCC5q+lrEE1QZ4gYSOSJ81F3MHv3u98dCCVoG+4J4QGeJxAPfv/73weCHfKAoNzcw3gqQXjBNRCGkEMF9zf1L2Y3iFTIr4ID/Qx1hsAFLkONMfSvYvUt9ntue0rtrxBbIPDAbmg7GIE/+hTaUGhco59CtEMfaW9vD4QtiER4VkAUQ38z4//MM88MxgnGPtqKfmZZlqkyixejeCnwpUyACTABJsAEmAATYAJMoBoJDEu8wK4T73nPewYnX2+99VYwGcFkDDkpzG4USDaJVWJMjsyuISbkABPjz3/+84OCRDqdDs7FYUIMIF5gQomjFPdyI15g8vmVr3xlsCxMzleuXBlM2DGphVBw0003BaEvODDJwoT+qaeeotra2s3sk0+8wITp5JNPHgwbMZPKkTAwAgSEENNOrCwjbGO44gW8DcAP7TFJPtFWCAcPPfRQ4G1QStiIYWlEkaE67X//+99ggo8+sOeeewanGvED90VfyRc28pvf/CYQLzBRhYiAA5NUTPCRFwP5MUy+ETAyCULNRN9M/uGBAdEimuAVghquhzACu6dSqUCMwOQZk2GTSyW3r0HkglAWvR8mzfA+gbcG2oi6QWiC6IUDk2n8BvEI4lLugaSg8BBAu4x3zHXXXUe33HJLIO7AG6SY3V555ZVAvMj1hClljBWrb7Hfc9tTan+FxxXaZgSd1atXBx4n0TwxueMa4hFEOggzaBsOjDXYbubMmcEzAjbEv/E7zsMBjxaMX/CBCBYeLF5U49uG68QEmAATYAJMgAkwASbABEZBoGjCTqzm48B2ppgM4sAKKVb0jXiB0ASshJoDK+ZbbLFFMLGLHph4zJgxI7geB8SEcooXUbEE5ZvwDkyWMXnEqi08QzBRxcQTE1KsDl988cV5EZoJtGGAhJ0mvAPeCwgpGA0D5BNB2AcmYHV1dYN1gJgBUaBUzwusPMOzwUz8C/WHUsSL73znO4T/wasAk8ZSDrCESAQWCBP4whe+EHimYIKaT7xAGAXCCmCfqGgE8cl4imBSD1EAE/3oAWEH18DWxnMGCUThcWMOI6BAUIOogn4HESPaH3PFC9wPdb/33nsHy8GkG545xosD4TEQdxDKAEECHj6lbGVrtptFqAzCNOBdAi8SbD9bzG7G8yK3jaWMsWL1LfZ7ru1L7a/mOghxb7zxRhAihNAyeLGgD+LIFS8Q6gVRECEgxpMJ58HbCOMDQhD6F3KwQICCQIX/X6CPsnhRysDlc5gAE2ACTIAJMAEmwASYwAQiUFS8MCvVmFxjooWVcrPKbibuCMnAqqo5sM0qwgGiYQ74DWEOiNk3K9flFi9yE2hi1Ru5NYzYglVvuKxjpXbJkiVBnc0EN5/NjHhhGOAcTFjh1m48BkbDABMwTMowQY0exvuhVPECk0NM0AuFL5iySxEv4J0AEQReCFgtH+qAaIFQADMhjZ47lHiBSSomq/kOhLOgf6APRT1pzLnwyIHHB8QLkygSIUKzZs0aLA4hMxA54IWDMsAG4hV2SzFHrniRb2tgcy7EissuuywIXUGfhviAA2EoCN1Av4ZYl3ugb8C7Bx4LuQfEC/ArZjcjXuQKc6WMsWL1LfZ7bp1L7a8IE4H94U0RPTBuEOaDI1e8MLYs1N/AYYcddgjGCsRHCE04ELaFfCDw2ogcLF4MOXL5RybABJgAE2ACTIAJMAEmMPEIDCtsJN/kDKukueIFVqWxIpq7ap47YSm3eIFcHMi3YQ6son/pS18KEgcip4YJTUCuCggbSPKIiW8kVn6TJhbKeRE9qZB4UQqDr371q/STn/wkEDCQU8EcJiQgKl5glRkr5eYw+QrgCQJ3+b333jsIx0FYTqGjFPHixRdfDLbBxYTQ5FqIlodVcCRjRa4LCBDwuMEEHhN8iDzr1q0LEl0OJV6YEA2ISLnssVsNwl4gLCFsILqrjfGWMTkvYDt4v5icCKaeKBdJX81uKaWIF/C8AMfcPosyIdyZkCj8G/VC7hTYAMk98wl1OA+JJVEHk6QUOU3Q7yB2oF2YjBezWyHxopT+ZXgUq2+x3005pfRX2Ah9FTkqIHZAZIE9EUKCPBYm0Wrus8CEEkFoxHm5B8owOxkhSSv6IEJv4LkEkQTXIwlteLB4MfHeRVxjJsAEmAATYAJMgAkwASYwJIGKiBcQMzCpg5hgYv1NvgwIFueff35QqVLFCySEhEdAocN4KkTDJpD7ABN5THCi4gBW5OE5gtVhxMnn273E3Gc04kUpDIwAEc3DgYkkJnpI7mjEC4QIIPmj8VhB/SDKQJwxuSngko9dMRBuYkJQIM4gVAIeCEiSWUpICCafmMi//PLLwQQbSVLNAaEG+SXg5YCdXUx50fwYuXkRsPMEJrLRnA3Iy3HeeecFwg0m7+ZAfeHNgNAek4gTO5egnyD0AmELCDUxOS+QDwK5JiBUINzAHPCSQHgGxBWE1JQiXhh7oS1mJxDkHUEiSEymwQH1w2/REJVoGEtu/8QEHWJQ1G6mboZtMbvheohIuZ4XpfSvYvUt9ntue0rpr8hLAXtB6ICohQPhI/C6QL+KihfRcY2wI4heuaFPCFVDX0R4F7wtUD76h8nrYjyFIGJEdiVh8YJffEyACTABJsAEmAATYAJMIGYEKiJeGA8HTPiwgo6VUqyoYrKC3RbMdpiliBcmPwJEBrMLQa4NjHiBv0OwwGovVuUhnuC6qECBlXCsiOOIJmfMZ9fRiBelMIAYgLAGhEFglRoTY4gCJreIES/MCj5CVTDZRcgLJms4jHBgRAPk9cCqPCaM8NSAJwoSdmLV2uSIgACBcwrtJhLd6QP1Q7gQhALkqYCoYnYiQVJMeF5AQEACRUwuDdtoElKILygTHge4Z319fSBmoI6wDVbMYS+EY5jrkAsFISIIMzIHPBWwhanZvQZ/N6E9EDAgkiCpJ0KDsIONyWVSinjhum4wQUafRY4TkyMDCTqNcIC2os0Q33AveF+gvdEktNF+ZOyG0CXsTgL+yF2Bw4gXxeyG3CP5xItS+lex+hb7PXdMlNJfIRoi3Aj9DuVDdEK4DgSIqHiRO64hSMGW999/f2B38O3u7g4SzprrIEKiP8LbC6FHyH2CnWbgDZQTMsbiRcxeVNwcJsAEmAATYAJMgAkwASYwpHiRG6qQbzKDiQQmiZgsRg9MOjHxwOQPBybAmLxiO0tzYAKCSapJpGjyECDhIxIl4njhhReC67DiWsg9H2EgyPeASTU8EuBGjhV8TKixwh8NyTCrwNhSFCvPQx0oC+csXry44GkmbGSkDDzPC3ZPwOQLB8QJTOQwKTMTMoRiIIwDiShxYGKICR08H6JeD/BKgDeDyQeA5JcI0UC4Ag5MJFEOvE5M/oBCDcO9wTOamwJhIVhRhy1xQETASroRUiC+wAMCzLFLBwQKHNEcCCYvBzxJkD/C5PuAvTDZhd1NeADqC4EAO9Ug0StEF/SN119/fXCrUZxz1VVXBRxgd9QB3hBRu0O8QHLMaG6OfH0NbTWTYdQb7UUfMCIP7oscFmiPOSDOISwkGlZifkPfQD1MG2FX1A27rMD7xLbt4NSh7FYobATXFRtjxepb7Pd8faOU/ooxA27wXMEBPhDQIFoaz4t84xpbscKW8KYw+TIgVmB7WvQPHBA30IfM7xgLX/7ylzd5rmRvyeLFkE82/pEJMAEmwASYABNgAkyACUw8AgXFi3I1BUkBceRLaDice2CyiZ0dokJEvuvh5QFPBkx2851rtluMegYMpx4jObcUBmaiZyZp+e4DBihrq622GrIa2CUDIST5tn/FhZjw4yhlpwzcE14TmPxHtqLc5P4QMbCrBOpVyD5YkcfkFCEtRpwwdcEkH9dG819AqMFKO7a7RegHDrM1KsIRIKJED2N3E/IxEjuZayAWgVGh9kJwA2PUq1C+lOj9YTOEz6BPDnUUs1uha4v1r2L1LfZ7vvsW66+wBwQGhHcU6ocoN9+4NteCVzKZzNvsN998M/itwHhh8WI0A4CvZQJMgAkwASbABJgAE2ACVUig4uJFtbQZE2STAwLeF3Dhz7daXi31nez1gMcOckbAQwbJQTFZhv0QtlLKTiiTnd8kbz+LF5O8A3DzmQATYAJMgAkwASbABOJHYNKIF4ifx44YyGmAZIdw4eejugkgfwVCUuCBAS+R3XffnU444YTcEIHqbgTXbjwIsHgxHtT5nkyACTABJsAEmAATYAJMoIIEJo14UUGGXDQTYALVRYDFi+qyB9eGCTABJsAEmAATYAJMgAmMmgCLF6NGyAUwASZQZQRYvKgyg3B1mAATYAJMgAkwASbABJjAaAmweDFagnw9E2AC1UaAxYtqswjXhwkwASbABJgAE2ACTIAJjJIAixejBMiXMwEmUHUEWLyoOpNwhZgAE2ACTIAJMAEmwASYwOgIsHgxOn58NRNgAtVHgMWL6rMJ14gJMAEmwASYABNgAkyACYyKAIsXo8LHFzMBJlCFBFi8qEKjcJWYABNgAkyACTABJsAEmMBoCLB4MRp6fC0TYALVSIDFi2q0CteJCTABJsAEmAATYAJMgAmMgsCgeDGKMvhSJsAEmAATYAJMgAkwASbABJgAE2ACTIAJVIwAixcVQ8sFMwEmwASYABNgAkyACTABJsAEmAATYALlIMDiRTkochlMgAkwASbABJgAE2ACTIAJMAEmwASYQMUIsHhRMbRcMBNgAkxg5ARc160XQrxFRG9JKbcceUl8JRNgAkyACTABJsAEmAATmPgEWLyY+DbkFjABJhBDAixexNCo3CQmwASYABNgAkyACTCBERNg8WLE6PhCJsAEmEDlCLB4UTm2XDITYAJMgAkwASbABJjAxCPA4sXEsxnXmAkwgUlAgMWLSWBkbiITYAJMgAkwASbABJhAyQRYvCgZFZ/IBJgAExg7AixejB1rvhMTYAJMgAkwASbABJhA9RNg8aL6bcQ1ZAJMYBISYPFiEhqdm8wEmAATYAJMgAkwASZQkACLF9w5mAATYAJVSIDFiyo0CleJCTABJsAEmAATYAJMYNwIsHgxbuir58Zz586d6ft+X2dn59qxrtX8+fOn9ff3b6mU6i1074ULFyZffvnlhmXLlq0kIj3WdZyo92tra6v1fX+WZVm9nZ2dG8ejHc3NzdO11lOWLVv2+ljfH/3mX//616ztttuud9GiRel896/mvsXixf+32IIFC2pWr169Q7nGP553GzZs8Ht6ev411n2yiu8nmpqaZs+YMePVxYsXD1SwnlZTU9OOdXV1b4zH+6aC7RpV0bZt75hMJv81Xs/pUVW+TBfzuCwMkvtHmToZF8MEmEAsCBQUL/DBuHbt2uiEZw0RPUlEP1NK/SLa+paWlvdblvUr/E0pZWGCKaW8iIi+XIDSYalU6tGc8s2p31BKfSEWdKu8EVLKk4noS0Q0J6zqs5lM5pienp5lpuqO42yjtf43/p1MJnfp6Oh4KU/fiLZ0iVJqNynlb4nonTkIgt/wN9u2dxNC3EhE+4fnrNFan+N53vfNNZj4JhKJHxHRe4ionojQB+9OJBKfxEdevnporZ8mois8z3tUSnkGEd1MRJ9QSqEcamlpmWNZ1jKt9X2e5x1Z5SYaUfUaGxun1NXVfQftjhTw3Uwmc3ZPT0+/bduXCCEuN/bEOfhwHBgYeFVr/VXP8y7MM37B/qHa2tqzli5d+kaxirW0tOxtWdYNRLRXeC7EixOUUo9Fr5VSLiaiPbXWx3ied2eJfSvvs0VrvZ3nef+eM2fOlrW1tT/WWn/I3Etr/R3f989F+/G3Yn0L5+T2YSFEJxH92HXdbwzVt9BHlVIfLcao2O9DiRfNzc11iURiAxF9Vyl1ZmS8Xqe1/lwmk9lyyy23XI9nrNb6Cc/zDiYiP2zXZ4nom5ZlNU6dOrU3POcWz/NOLzBug+IN30L1llL+gYjeEfn9Oa311wvZNTpWI7xtpdRO+DeePUT0E631+80zQgjxVdd1r0Z1Wlpa/seyrN/nqc9hSqkHc/9u2/YBQoh7iWj78LeVQoiPuq77l+HwxLW1tbVbR8eB4zjv0Vr/moieVUq9vZhti/1eYBw8qbX+vOd5/3QcZ6HW+ndm3ETs36G17kMdij0fw2ssKeX1RHRS+IzFn2+vq6s7bcmSJX0RxscppX5u7iOl/CERnayUSph+Fdpwk/Ecbadt258Mn/nmz38koqMhXBf6XijW58J7Fux3xcZx+HvwPBFC7Oq67opitinj78K27a8IIfCcDvokxqrv+yf39PRAqMcz6HdEtLNSqsnc17btDwkh7iOiQ6LP09xnqTk/YsOLlVJXRmx4PxHNQ9nFxr0QAu/SgFEmk9m5wLhD/a8VQvQUeu/iHaKU+mBOvyg4Lofbzys9Lku1fbHxm+fZhffrn3zfP6u7u3t5eJ9S+sdm31nh8/49ZkzBZlrr4wp9j1uW9Z6urq4nSm0bn8cEmAATGG8CpYgXz2qt7xBCNBPRh/GSFUIc6bouXp7BYdv2rUKIE/D/Lcta0NXV9Vxra+s+vu/vE56CjyM8kDGZwST4V1OmTHkxFC+exceSKUsI8Q/XdReNN5i4319KicnMo5iQaa2vE0LM0Fp/g4he7+/v32XFihWYGGECcaLW+schj7OVUt+CmaWUnwn/th8RfURrfYMQYrnW+j+e590WfnQtyH7YXmJYRn6bRUR/J6IthBBXa61fI6LTw4nuRyCOYUV81apVmIAcggkaEf2ZiD5AREcR0Q+VUqdEPhDw24+01rOFEJ8K++iu8DjIZDJdRJRKpVK7Ll68eJ3pq5Zlzevq6no+jnZ2HOes0B4Yd4/5vv8BIcRZQojTXde9ZSjxAvZwXfcCKeXFEIGEEF/SWr9IRPjgPEprfZXneRC8Ch5NTU07JZPJv8G+2eF+pRDida01ypuTyWT27Onpge2pvb29OZ1Od4cFPaCUOrzEvhXUDWUT0X9MRfr6+r7X3Nw8sGrVKgip74VgIYR4xvQb/NvzvE+X0rdQZqQPn01E08MJ3nxMGJPJ5H2F+lYikZjb2dnZMdq+VYp4obUORAdzLyklxudnouIFfssKkGd5ngexEO1Ce66PihdmTEkpP0JEO2bH3A5E9EUhxMNa69/gOvBduXLl+kLtMuKF1vo0IpolhDiFiGZblrXv1KlTF4fP+7xjFZPGkHczxAt4DWUyGYgBC4UQ1/u+/1chxImhXYO2OI5zoNZ6kRDiTq017BwceL90dHRgAjV4hDb/LxG9KYQ4W2sNkf066BANDQ07rly5MgExqFSeRHRKtp6YwAeHlPKu8Nm0SCl10GhtH538hDznYwxDwK2rq2vo7++HQPKkEOJjruveEamHQhtzxIuhmGMcYTw9JIS4w/f9fYUQnxZC/NJ13SMMYyI6Xin1M3Mf27Z/DHtExYsC4zm4pLm5eY9EIvEcEcGm3xRCtGitvw3bua57jHne5BvTQ/W5kH0gXuTrd11dXU8PNY4hrEWedWMqXkgp8Ry9EpNNLAoJIdow5ohoCREdoJRaE46pXY2gh/Y6jnOE1vperfX7INIP8SwN2EdsSNHnr5QS79c9UHaxcT9t2rRzw/fBrgMDA5lkMmmEf4he87N97nO4F77fspPhvxR6NmZFl/mu6y41/ajYuFy1ahXE0FL7OYqt6LgsdVwXG78bN258G55d+G4Jv23wrfRJfCcboarE/gFxa5PvrCyDlfiGivZrIcQOhb7HhRD3j7FoVypGPo8JMAEmkJdAKeJFMFHE1eGq9T+yL9j1SqmZ+NuCBQumrl27ti+cYJ5hVm6jd5NSvgVVWSn1PvP3yMN9sHy20dgRCD/oFkZX3yNCxeFKqQfCD0OslDdkJ0T48J+Wu6po2/YpQojvY4KCD8XIRzReqsFEJLdVjuNcgElwVAQLV/7/oLV+yvO8Ex3H2U9rjY/um5VSeKnjsBzHeRArsaj3lClTVoUTosE+ZOpjPuodxzlSa/0LrFhalvUbrTU+DGPd5xzHuUNrfXRdXV0Kq6fgZtv22ZZldbuu+9AwxYvggz70VHgzo/pVAAAgAElEQVQTQqNS6tihempkFXWwH7W2trb4vu9hIuq67ufDvoUPdYhXEBnOyl01G6JvGWFls8mGlBKePH8iom8rpeBhEPQbKSXE1tZMJjM/mUwuKNa34GEUnUyjENu2nexKfZeZ4Fa6b5VTvAggWJbd1dXVPZR4Yexq2kpE5ymlvl7KkymXl5QSk3h4612SSqWuLjZWo9eblclofwknOi8IId5yXbe90MQ6X12bm5vbEokEBKUrlVLoPxQK7Acmk8nv9/f39w1TvBicZDQ2Ns5AGER433KLF9FnW+AxJYSA1wXEl1IndXmfjxs2bPhlXV0dxKjnUqnUPiZcxAi86XR6Zk1NTWs4ySoqXkgpC45nx3FO01p/TwjxXtd1Hw/HP0Tv7SFEjUZAGKrfZcWVLxcbx6O5dynjIt85oTgHL7Al/f39e5vFAiklvE6vMe+vUsWLIuwDkS+sh9ff378b7hcVL4qN+0KMpJTwxvmYUmqTb8lSn43FxmU6nYanZqn9HM2o6Lgs1d75vm/NexfjF+XkjivDEt82WutXM5lMKf2j4HfWEDbb7Hu81HbxeUyACTCBaiAwLPEi/OCAG/4ZmUxme8QMSykPI6L7ww8qqO8Lsi76O0dzExQRL7D6f42B0d/f3/XCCy9gJZ6PyhHAZG51rqCUdStMNDY21ieTyfVwr29qato+mUzCFvhoXo2VMt/3myJujZjQDSVeLBBCDLqIaq1XKaWUlBJhR0c2NDTUFMpFYNv2p4QQmNTuD7fuyMfVR7Fah3KnTZv2WO6EyEyctdb/63keXCrhevkXIUQ73NSFEO+Gh4bnea9UDu/4lhz5kEV7ISz9EZPWCMOCYSO5nhcIPYHdiOhwIcRp0clHoVY6jnMfQjZy7QsBZOrUqZlQUMGKIFzcX89kMp/HqqzW+uPw2onUs1DfMuLFx7IeO6gbVhTXd3d3P2P6Ta6YFq1rKX0LIk/upCcyob7cdd3LKt23yiVeYBUd40Fr3TFr1qx3rFq1Civ4eT0vik1ihurZubyMAIkJ97Rp075SbKxGrzfeQ7l2hFj+xhtv1CxfvvzNiOcFwkiwoh8c6XT6KRMeZP42e/bsLaZNm7Yu/PfXfN//zcDAwJ/MpNGEjZToeYHVbniEOeHzDOF38MKA2DpQZs+LqPBwPsJmYEshBEKASp3UDZYRfT76vv/f0BtiE4EKE+t169ZNbWxsXPvqq6/uH3q3XJ/JZPA8DQ7LsrASvzDqeTHUeI6I0Qgfg4ff75RSCDEJchhFJlqbjeliT9Oh+h3GabFxPB7iRVZMhbfCP4nofKXU1yLjbsesx9JKhF94nnduqeJFEfaBeKG1hocsvJe+ppQ6v5LiRanPxmLj0gigJXoYVXxcFuuL5vcC4sXg+LUsK50jXggpJTzc3plIJOozmQxCeUvpHxAv2urq6kzoL2299db9+K5i8aJUa/F5TIAJTDQCwxYvHMc5F3HMWuu9Pc/7a6gWfyCVSm3T19d3LEIMzG8GRhHxYhNmuTG8Ew3oRKivyW+Q49WwWdUjwsQCy7Legou/EOLc7KTq2hImmHipBisMkSOIz5dSwrUZ+VFk+OGKyccB+P8QSVzXPdS4v+cKDeFq6VPwpKivr/9OOCFCfDD+tpMQYh+EwkybNm0vhImE5ZvVeJR/heu6l04EO420juGqHsIHEKdsDkysjkJ8+XA8L3Lq8Czis6Nuv/nqGNo3GY3Tzj0vsrKPUKRvZ3NIvCqEeBa2L6FvmbCRaLHBiptt23BF/7RlWbO6urpWhe7QxgMD9j8OOSEQWjFU3/I873rjnZSNcLkHoUfhhDXX9bpifauM4gXCI/6mtUZ4HlbHkcuoEuKFcd8/At5almV9Smvd5vv+gdOnT3+q2FiNTjILjf+owaPu8NG/ZzKZnUzOgDzn3wInmvDvyLNzAVb+hylegOHpQojbwskxPH3gCr8LQqXKLF5ghRY85+HZi7wUCAlKJBJwFS9VvMj7fOzr6zs4DD842vM8hL1sdhRibE404kWJ4xk5L/CsR/4iHCt93z+2u7v7D5Gwkc3GdLHnYCRcabN+F5Zt3kV5x/F4iBeR0I9c9lhYyJjcEKWIF8XYR2x4GLwWQxEaotT5Jmwk8swNvMtyPa6G63kxnPduWL+843KY4kXFx2Wxvmh+zwkb2Wz8JpPJPULxAqFUyDGG8QwBIhAah9E/NvvOQvgUcoexeFGqtfg8JsAEJhqBYYsXUsrA8yK7Kr5tbW3thv7+frNDBXIOYPL4brg9KqXwIgmOIuLFPb7v4yUaHDU1Na9zFvKKdyPzgfRoNJQn966RBGBYscFKH1YYXzchQzi/iOcFJi77mnLh7o2EirZtPw6RQSm1ZZjc9WRMcoQQx+NclF9oBd227XyeF0i896cwsR8+jHfM3b3ETEQHBgZmYNW24oSr4AZIXJlMJvcLE8IdaeLLjXiBjyWl1AvhGEUekldyPS8ymUzz7NmzX+zt7W0WQiCUaIZSCmFEQfLHfEchz4vouSaeFwkOw4kf+hbEhW1d1w3yWJQQNrIwk8m8jHN93x9YtmzZy7Ztm9Wt3ZHYEN4SoffP/uhzyWSyZWBg4L3w6sld1Y/2rYjnBXIu3Im4bvTRfOJqpfpWKeJFbgiUbdvIPXNWNOeFEOI613XPkVLejfw0iK8nouPy5bwwNhph2Agm8SYBL4pCrpPLPc+7KfIxX3CsluJ5Ee1DEc+LL2TDgQZzMO24444vFfLowvWtra1zs+FpyIlyHvLjZDKZdkwgwgSom4SUFeAJ1/4arTVyh/xPNumkG4qvyGFQdvEi0mYvTJL550hIzibhHKFwmJvzIi/zSB6KgqFBkYnv+VrrIJQwHKcQIZAYNUjYWcp4xnXoB319fUjii3A+hI+twXsg9AhBjp3NxnSxR6mUsmC/C59twQSv0DgeD/Ei4nnxRaXUoOcpdpUo5nkRCrJ3m5wXxdhHxYtMJrMoDJ+CgAnvw03yaRQa9yMRL6LsS3nv5huXiUQC4ckIPSvaz4UQFR+Xxfqi+b1Aws7B8RuxCd5/eAcfhUUX13XnhePJeOYU6x9BzgshhMlBBrHzqdAjLG94Zb7v8VLbxecxASbABKqBwLDEC8dxGsOcAfg42snENYYNCRJHmdXJqDsp57yoBlNvWod8OS9s20ZowE/Dic2zvu+b7Us3sa2JnS8ywRwqFhMfvkgG+AHXdYNdakL30dcQ2uF5HjJlmxXtm5RSSMKJYzDnRb6Jl23bpwohbsn1Dgk/ooKEermxudVnmdHXSEr5WSHEeiTnNNzCMCEXOUts2z4+tPPgrgxmtwST1DPfx6qZ/NbU1Ozw/PPPFwztypfzIvwox4oe7AmXZVyPDPub9K1wchYkiC1BvNgs54Vt24cIIR7J5mf5ulIKk9PgkFIisz52Oapdu3Ytkh1iwlOwb3V1db0YnUyb2GwksIx6h1SybxXbKjVk+KpSanfjfm/b9lMIkcKEcMGCBUl4Oxjxorm5ebvsTj2DW9ZWQLwIPC+QKyGRSPgQKvN8zAfiQL6xWiznRZi75c9CiAT68XByXmCyiFCmRCJxuwmhMjvGRCaB6JOl8MQkCXl0MOmAR1NDNplls5Ty4QqIF4+m02kkTe6Piq5m1yRjW3CGWFlTU7PaiJS5ruu5zMNdiZDz4tlUKrW/yXkhpcRk+owsK9v3fVlKzoti41lK+cGs+LHHxo0bvxbJ7xA8k0NPEnhHQbwYdtJM43mRr9+F43PwXZRvHI+HeJGb86K2tvY8IcSpSI4bhnYEu7uYXV2iu65IKbGL20UQ3Xp6ejqLsY+KF9iFJ8ebBskdB/NSVUC8GPK9W2xcZsVihd3BSunnoXhR0XFZ6ts5Mvbyjt/cZ5fJd2G8lofIiYJ3GsKMTP/gnBelGoXPYwJMIDYEShEvgt1AtNZNWWUYOz1gwhEk4jMZ1qOqeiTh1GCugiLiBe82Mg7dKc9uI1sgiSaqEmazhxfEzdEcByZkIxqnWyznxRC7jQQ5J7D6ht0owt1GkDE+2DIzTM4X7BqBZLBaa+StQEhBvt1GgglR6Pr9EiYQmUxmdk9PDxJTmcnrZBIvAu8orfWllmU9Dbd9IcSFxiOqtbV1F9/3sSUgVsYvCr1qYPvtI0kdB3cb8X1/uRBiz+yGE5i0DSZEK9Rtc3cbIaJeIQSStMK7Bh4Qb/m+Dzf7weSJkYnUr5VS2AmnqHhRYGeCfiklnil7ItkjVqHCPoTtCIOwpVL6Vu6kJ/x3kJwuNw+LeQ6WWxgrJl4YrwCt9U8gqkTaucluPNEPf5OjKFACI1ul5vHgyOs+PtSjKje3QPTc3Il0vrFaZLeRZyzL+mi4/W2QJ6DYbiOhYNWPbWvDPolnw3NCiK+Ez56vopslk8ltOjo6/jsMnl8It8s1LtsXKaW+IqWEaFZuz4uCyYVDLwuEwFyitUZIHxIbY3eGYJW6RObBRBhhCggryu48ACEMXpPBOCxlt5HW1lZ42A05nm3bPhq7mUBY8X3/p5Zl7RTubtWtlFowyt1GCk7gShnHueJFtN+E28B/G6E79fX1nWvXroVYhXwdg56lI319R/KPYLeRB+ANFpaFFfq3hbuNwFMKXhZPW5aFnFO7IO9JuKPEzq2tre3F2OeKF7iH4zjBlsphOWMqXgx3XJbazyFeVHpclmrrYgnpc8dVJHHp4Psv2j+y72V8gzt5dqNh8aJUo/B5TIAJxIZAKeKFaSz2oUaMLeJ8750/f/60MGRk8GGLE9va2tozmczzJuFU+PEw1G4jm8CMfmjHhnKVNkRKiW3OsFXebFQRbouWZR2FbR6NZ0Z/f/8WZqUMCT2zq/rIqv+CUgpZwLGijUnhD7ANFxImRsSCzWIxQ7dIuGhjYvp29KVI/Dn+DPdlJHMLkrhhJbG2thY5VD4Ulos+eHd29fiTnZ2dG/N9IESy2l/oui4+8oKjUhPMajSt4zjbhNvbYmtZc9yTyWROMYJO6HaOcAiIkTggIJ2glMLuMoMJ9CLXgz0Sp34WLqnF2h3aFyIKRA8ca4QQJ+HZYSYLeXaoCQQms8o4RN/Kl/MCQth2WO1vbW1t8H0fCRSRVDE4kKwunU6fbVavi/WtkMEmH4aRZ9sT8A6qdN8qJl6Egg+8a4Jwq/C4O5VKnYR8L2Z85D5TI9sFN06dOrU3N5Fm2Hbko3HNhKCYvfPxil5TyljNk3gR/RjPiEE7hoIXkqVmhsjHAHH9QSklwjk2RJ5VmAiiX5icC8h58VGz3eQweAaTJOPBZJIYj7V4EQoy94ZbTAe4sbWx67qBCF0K83AnHmypjHeB4fJAbW3tSUuXLn2jFPEiDFu4YqjxPGvWrNW9vb3wrLgg0i+WYMtNbGtbIOfF4Jgeqv8NJZqVMo5zxAt4XA32G/MMIqJ31dXVPdPf348EwU+G2zqXMiyGOgdJGvGOAnvzHIYNg+1jzYWO45wDITpiH+RJ+DBC/kp5llqWhWTV2G1k0NMu3CUOW1ZPjXpeSCnzjvshwkYwPuEFkPdbMs97F20e1rgstZ+bZ1Ulx2WpBh+ueIFyzS5h4Ta5EMny9Y8nM5nMCSanz1B9n3NelGotPo8JMIGJRqCgeDHRGsL1HTkBfBzU1NSsM7kGRl7S8K/EjiZTpkyZvt12260oFKcOF0ohxM4dHR1w00YyMz5KIBAKjLNTqdTLJnlp7mVSSuS6QJ4REyJUtOQwNGO/fCdqrfs8z0NYUHC0t7dvvWHDhmnIR1G04DKfIKXEZGzWUO2v5r5VTLwwuODFUFNTs/P69etfjgiNZaUZTmqOK1So1vpb0TCRct4cIWVbbrnljkM9I/LdDxOI+vp6nfNcEe3t7Tv19/f7+ZJ6opyx4FlOPhDiLMvatqenB95UI30+Jtrb23edMmVKb6FnRTnqDJts2LBhF8uy/gNxpFiZoaCEXCJ5D631g57nwdOqbEduv8FE3zBBfVasWIF8EQVz/oygIqKlpWXX6dOnv9rX13c8crEIIQ7PSYxstbS0NA4MDPx3xYoV2Clswh4jHZdl6ucTkdtg/6jk2JyIYLjOTIAJTE4CLF5MTrtzq5nAiAmEKzoIIcl3YDvcYBcZPkZHoFTxYnR3Ke3qlpaW/7UsazApZu5VyWRyT6ygl1Yan8UESiMQCpBDbWt9JnJDlFYan8UEmAATYAJMgAlMdAIsXkx0C3L9mQATiCWBahIvYgmYG8UEmAATYAJMgAkwASYwoQiweDGhzMWVZQJMYLIQYPFislia28kEmAATYAJMgAkwASZQCgEWL0qhxOcwASbABMaYAIsXYwycb8cEmAATYAJMgAkwASZQ1QRYvKhq83DlmAATmKwEWLyYrJbndjMBJsAEmAATYAJMgAnkI8DiBfcLJsAEmEAVEmDxogqNwlViAkyACTABJsAEmAATGDcCLF6MG3q+MRNgAkygMAEWL7h3MAEmwASYABNgAkyACTCB/yMwKF4opTSDYQJMgAkwgaojgGczC81VZxauEBNgAkyACcScwItSysaYt5GbxwQmFAEWLyaUubiyTIAJTEICLF5MQqNzk5kAE2ACTGDcCbB4Me4m4AowgU0J8Goe9wgmwASYQBUS4LCRKjRKmavU0dGxdTKZ7JZSblPmorm4KiDQ09OzfSaTWSqlnFkF1eEqlJmAUmpHInpGSjm7zEVzcVVAoLOzc5dEIvF79ryoAmNwFZhAhACLF9wdmAATYAJVSIDFiyo0SpmrxOJFmYFWWXEsXlSZQcpcHRYvygy0yopj8aLKDMLVYQIhARYvuCswASbABKqQAIsXVWiUMleJxYsyA62y4li8qDKDlLk6LF6UGWiVFcfiRZUZhKvDBFi84D7ABJgAE6heAixeVK9tylUzFi/KRbI6y2HxojrtUq5asXhRLpLVWQ6LF9VpF64VE2DPC+4DTIAJMIEqJMDiRRUapcxVYvGizECrrDgWL6rMIGWuDosXZQZaZcWxeFFlBuHqMIGQAIsX3BWYABNgAlVIgMWLKjRKmavE4kWZgVZZcSxeVJlBylwdFi/KDLTKimPxosoMwtVhAixecB9gAkyACVQvARYvqtc25aoZixflIlmd5bB4UZ12KVetWLwoF8nqLIfFi+q0C9eKCYy750V7e/vO6XR6byHEk67r/odNwgSYABNgAkQsXuTvBQsWLJja399f//zzz79WrJ80Nzdvt+WWW/YtXrx4Xe65Q5WzcOHCZG9v70zP81YRkT/UfebOnTuzUF1wj/Xr11udnZ1r85XB4sXmVGzb3tb3/Y09PT1vFbFvorGxsX7FihWr853X3Nw8ffbs2esWLVqUzv199uzZW0ybNm0rpRTsqytlXxYvio3Q8f99GP1ts8qyeDF6+zU2Nk7ZZpttrHzP6NGXTjSa5zOLF+WwAJfBBMpPoKB4IaW8iIi+XOCWhymlHixUHcdxjtFaz1RKfbNYlW3b/qgQ4k7Lsvbt6up6utj5/DsTYAJMYDIQYPFiUyvjI7euru6HRPQx/CKE6CSi97uuuyK3P0gp5xPRj4loT/ymtb6lvr7+rMWLFw8UK8dxnHO01t8gojW41vf9I7q7u3+Tew/HcfbTWuMeNhEtJ6JTlVJPhucJ27a/K4Q4Lfz3bQ0NDSfnTqRZvPg/qk1NTTslk8n7iaiFiOqJ6O5UKnVSnklNwnGcK7XW54dXv05ERyulfod/w/ZCiDu01m2h7X+ybt26M1euXLl+wYIFNWvWrLlFCHFieK1HRB9RSi2phH1ZvKjeJ/VQ/c227R2FECujtddaP+F53nuif2PxYuT2nTdv3lYbN278CRF9IBynTycSiaO7urpeDMfxMiKak8M7KaX8PBFdk+fOeyml/mb+Xo7nM4sXI7cvX8kEKkmgoHjR2tq6j+/7+4Q3vz78OLsB/04mk7/q6OjoKVQxx3F+pbXGg2RmscqzeFGMEP/OBJjAZCTA4sWmVpdSnklEp2QymYOwor5q1apfaK1Xe55nJqLBBfB2WLt27d+11j/fuHHjNXV1dVsT0TNa6y95nvfTocpxHGee1nqJ1rrV8zw3FDLOU0rtEF2hD++xlIhuaWhouLa3t/d0IcQltbW1ztKlS9+wbftUIcSVRLRHOp1OJ5PJP2qtv+d53nXRVrF48X80pJR3E9F/lFKfam5u3iaRSDwnhLjYdd1bo8wcx/mA1vomy7IO6Orqesm27c8JIT6nlNopnPT8E8KHUurquXPnbjswMIAJzQVKqZ9JKb+APqS1fuesWbNe6+3tvVAIcWwqlZoLYcvcp1z2ZfGiep/cQ/W35ubmPRKJxJ21tbXmG5gymcxArgcVixcjt69t298QQth1dXXHpNPpAd/379Ra/1cpdUo4jnUymWyxLCvwyF6zZo2GlxXE5/r6+i3MnTdu3LgHEf02mUxu09HR8d/IO2DUz2cWL0ZuX76SCVSSQElhI1mlE+6bf1JKvc9URkr5QSI6l4h2x2/hR8ZiKeXNRHRGeJ5nWdYxM2fOXLJq1aoLiAgfmdvh/Ewmc1pPT89KFi8qaV4umwkwgYlKgMWLTS1n2/bhQoi3jHeD4zin+75/oud5++ZMbg/UWv+soaFh1zVr1ojFixenZ8+ePSWZTOLjd8NQ5YSTlj2UUj9CmW1tbe2ZTOb5urq61JIlS/rMfWzbPkAI8UgqldomnPQmpJQrfN8/o7u7+2Ep5W+11vd6nndT+CF+HBFhgr2AxYv8IxIihO/7D/b09GDFFR4Ud2W9bDyl1MXRK2CTjRs31vb09Pwdfw9XWP+slEouXLhQ9Pb2HlpfX/+48diwbftxIcTDSqlvSSkf01r/2vM8LMgYoasv1/OzXPZl8aJ6n75D9TfHcd6jtf68UupghJDlCz1Cy1i8GLl9Hcc5cGBgYPmyZcteRim2bZ8vhNhHKXX4/Pnzp/X39681Y7oQ//A5AdFzuVLKeGKhrLI8n1m8GLl9+UomUEkCIxIvbNveSwjxVyLCyghWvz5JRFsmEgk7nU7vK4S4Gs8irfU5RHSXEGI/rIQQEdxoX9Zaf4WI7lFKHcXiRSXNy2UzASYwUQmweDGk5SwIBET0R6XUJdEzpZQnCyGO0Fq/QUQQDRBWcBUmr3lKLFhO+EF9KREdnEcgOVFrfYpS6gBTppTyQSHEE67r3pD17kA+jmOM0CKlfFs2xOVZpZQV9eBgz4v8NkaukkQisaxQyE5om70sy9pZa32JEOIu13WvMqU1NTVtn0wm5wohIGSdTER7K6V6pZQ/z3perFRKfRHnhjm3XtRaH+15HsSS4HAcpyz2ZfFiYjx9c/ublBLPjc8QUR0RIQTtScuyTjYhDaZVLF6Mzr7Nzc11QgjkvLOFEPBKQ0j67xzHaYQHnBDiN1rrDxER/v8XXNd9PHrH5ubmtkQi0UFEO2J8l3v8sngxOvvy1UygUgRGJF5IKa8goouTyeQuHR0dcNs8BKtQ5gMgN2wELpirV69O1dXVrbYsa6uBgYEgvhRhJSxeVMq0XC4TYAITmQCLF4WtZ9s2Jqwn9Pf3L8hN2Og4zuWY0EIstyzrukwmsyDMgfA+z/MejZY6VDm2bb8LH89EtEksNa6XUn4RH92u6x4RES9+qLV+zfO8i6SUGa317p7nIYSBWlpa5liWBY+C6UqpIJcGDhYvNrdxmCz1kdDL5sOFegHEIiJaSESrhBAnua77l4gtDhZCXIu8F1rryzAxAncp5WFZb9H7tdZnhaGw6Ef7aK1P9TzvB5Hry2JfFi+q/wmcr7+FoUjwBDg+nU6vTCQS+OZtUUrtFm0Rixejs28oMj4RCkQPCCHORg4jI/YKIU5PJBJPptPpY4joCq31bM/zXjF3tW371qyo0YdQs2hNyvV8ZvFidPblq5lApQiMVLxAUi0opMH1kdWLyzzPuzxXvAhVVCRae2fOgx9JzThhZ6Wsy+UyASYwYQmweJHfdLZtHy2EuCWTyezT09ODpJ2bHI7jnKW1vqGhoaHGuBs7jnOL1nq9UuqzkQ/fguW0tLS0Wpb1DBGdqZTCav0mh5TyWEyAox4ZUspHspEID2VF+ZullC9nvQw/YVYKwxxSjyulpkcLYvFicxuHoaf7JRKJ/Qvt0hK5Csk7j9dafzuVSu2Qm9wznBxBsLpLKRUk+YNXhe/7p2eFLdjiZggXCBHwPA+ePMFRLvuyeFH9j998/c1xnG2SyWTS7CKEHUmEEP/KnTyzeFEe+4Y5Zq4lol0RqoN/v/XWWzt0d3cjEbIZk//UWl9lPKTa29ub0+l0t+/7TdHzyjl+Wbwoj325FCZQbgIjEi/CRDvn1NbWbo3kZCbmVGt9AhKi5YoXoTp6gu/7B06ZMmXpxo0b7yOiZiTYYvGi3Cbl8pgAE4gDARYv8k5s9w9zLB3kuu6ifHZ2HOdQrTVEhITZ5tS27RuEEJZZoZNSFiwHW+shyaPW+kbP8xACudlhxAgzYW5ra6vNZDIQLI6HYIHcCnA1NxNmKeUZ4ftxk/wcLF5sitZxnHOz4T4QmIIwj3zspZQfzu7i0ms8LbByvmrVKiT8OzCb/E8NDAycoJTCbjHBFrdSyvOyCVsPUUodhIUUIUR/V1cXtkilUNxAiM8cpdQL5n7lsi+LF9X9JC7U31paWt5vWdY6s4NNW1tbKpPJwGNqk37C4sXI7YtkyEjSaTwpwjH3VCKRqPN9XyIlTTRZr23bTwkhbkTi3XBcI7/eNKXUx3NrUa7xy+LFyO3LVzKBShIYkXghpTw4+3HxqBDil1nV87bsxwCSce6FzMDYhcQk7dRaf6qmpubOdDqNh8xRRISEazORdT2MO2XxopLW5bKZABOYsARYvNjUdK2trS2+73uIfU6n03fiV8uyND5+MblIp9OHIjFjX19fetq0aSuEEN/cYYcdvt7b27uHEOK3YWjBvUOVgxW/vr6+Z7PbcG5Ip9N4X2ncp7a29vV169ZNrauru7SmpuZq3/ff8JOMEmIAACAASURBVH3/777v379u3borU6nU2cj9lEqlJFb/I94he9TV1Q2k0+k/a62v8Dzv+9FWsXjxfzQcx0Geknt93393NgTVDe27wfO8f2Mygn9jO3Up5WexBW0ikThsypQpL65duxaTlx/09/dvNXXq1HWZTObfWeHikkwmg+8O5M54QGv9mOd5X5JSng1vGiI6SGu9UQhxvRBiK9d1D21sbJxRbvuyeFG9j9+h+luY8+RiIcS7LMvqTafTlwohPm52tDGtYvFi5PaVUt4vhFi/YcOGM6dOnZr2ff86hNoppd5uvCqyOY3eBQFJSontVB8wXhbhNrcvJRKJuZ2dnch5QZUYvyxejNy+fCUTqCSBEYkXoeqJjwCIFtuHsaPIpI4YVGT6RULPGyFoZBOYYYWrX2sNl1qci3wX/UTUwJ4XlTQtl80EmMBEJsDixabWk1LinYLk0JscCF803n9Ytevs7NwYZpu/N3znkNb6q57nXRi+uwqWI6X8SJhcepN7ZN9fb/d9vw/J4bCFeHd39zMtLS17W5Z1O1ZjIcYLIY5zXff35sKcnbduU0pht63AG8AcLF78HwspJXKCgOXgATEKwgI8WcJkqNciyV8ikfhmZFez143HCy4M+8JtkbJuT6VSp0JUCt3TsfUq7Ix+8bQQ4kh4eZjkf+W0L4sX1fsEHqq/hZ5U2CnoE2ELML7f57outt8cPFi8GLl9pZSzsnlEEJKHvDU4nvV9/2gTAgJvNYR1hb/B62UwhM9xHCT3bIzmHKrE+GXxYuT25SuZQCUJlCReDFEBMW/evBkIHSlwDtx2M+a3OXPmbLl8+fI3K9kgLpsJMAEmEAcCLF6UbkXbto8PJ6GHm6sQTvDKK6/sPDAw0IstUksvbcgzN3mn4UysAi5btmxldBeR6DvP932Rm1TU/M7iRWlWwe4tmUzmYLM9Kq4KEy3OgGdGvlLmzZu31fr169f19PRgsWSTo729fWshRI3JaRD5saz2ZfGiNPtW61lSyvp0Oj3DbOeZW08WL0ZvuVBQTEQTGZtSISINDAzM3nHHHV8aarvUSo1fFi9Gb18ugQlUgsBoxYtK1InLZAJMgAlMegIsXpTeBaSUXyaiV5RS3y39qvE/k8WL4jaYP3/+tP7+/lVKqRm5nivFrx7fM1i8GF/+lb47ixeVJjy+5bN4Mb78+e5MoBABFi+4bzABJsAEqpAAixelGwW7AdTX16/L3W2i9BLG50wWL0rinsiG4MwslMCzpBLG6SQWL8YJ/BjdlsWLMQI9Trdh8WKcwPNtmUARAixecBdhAkyACVQhARYvqtAoZa4SixdlBlplxbF4UWUGKXN1WLwoM9AqK47FiyozCFeHCYQEWLzgrsAEmAATqEICLF5UoVHKXCUWL8oMtMqKY/GiygxS5uqweFFmoFVWHIsXVWYQrg4TYPGC+wATYAJMoHoJsHhRvbYpV81YvCgXyeosh8WL6rRLuWrF4kW5SFZnOSxeVKdduFZMgD0vuA8wASbABKqQAIsXVWiUMleJxYsyA62y4li8qDKDlLk6LF6UGWiVFcfiRZUZhKvDBEICLF5wV2ACTIAJVCEBFi+q0ChlrhKLF2UGWmXFsXhRZQYpc3VYvCgz0CorjsWLKjMIV4cJ5IoXSinNVGJLYICIamLbOm7YeiLagjHEjsBaIkoR0Roiqo9d67hBhgDevbyQEN/+4BORFd/mTe6WCSEyWuvE5KYQ69anpZT8/RxrE3PjJhoB/mCaaBbj+jIBJjApCLDnRfzNzJ4X8bYxe17E277seRFv+7LnRbzty62buARYvJi4tuOaMwEmEGMCLF7E2Lhh01i8iLeNWbyIt31ZvIi3fVm8iLd9uXUTlwCLFxPXdlxzJsAEYkyAxYsYG5fFi/gbl4hYvIi3mVm8iLd9WbyIt325dROXAIsXE9d2XHMmwARiTIDFixgbl8WL+BuXxYvY25jFi3ibmMWLeNuXWzdxCbB4MXFtxzVnAkwgxgRYvIixcVm8iL9xWbyIvY1ZvIi3iVm8iLd9uXUTlwCLFxPXdlxzJsAEYkyAxYsYG5fFi/gbl8WL2NuYxYt4m5jFi3jbl1s3cQmweDFxbcc1ZwJMIMYEWLyIsXFZvIi/cVm8iL2NWbyIt4lZvIi3fbl1E5dASeKFlHIWEa1RSq3J01QhpWxQSvXmwzB79uwt6urqtl22bNkrRIT9zjc5ipRdiOyo7lmo0Llz586sq6v77+LFiwcmrkmrq+bt7e07p9PpvYUQT7qu+5/qqh3XhglULwEWL0Znm4ULFyZ7e3tnep63Kt+7p0jpVmNj4/QVK1asLlYLvDeef/751/Kdt2DBgqnr16+3Ojs71+b7nXcbKUZ3yN+D74BEIvHvzs7Ojbln2ra9re/7G3t6et7KU8qY2JcTdo7KvuN+cbFnCIsXlTNRc3Pz9NmzZ69btGhROvcuoV1meJ7372I1GM3zmcWLYnT5dyYwPgSGFC8cxzlQa303EW0fVu+hTCZznPkYsG37o0KIb4e/v05EZyml7sG5jY2NU+rq6r6fXXw4LrwWwsdxSqkH8e9iZRfCMZp7FiqztbV1ru/7Pyei+RBpsu25SSl1fu75juNcrrW+BH8fGBiYsXz58jfHx2yjv6uU8iIi+nKBkg4zdsr3u+M4x2itZyqlvlmsJqG97vR9f5/u7u5nip3PvzMBJvD/CbB4MfKe4DjOOVrrb4TPc/J9/4ju7u7foEQp5Y1E9Mmc0g9QSv0ZH8WrVq26koi+GP7+utb6RM/zHs3zPthPa/1jIrKJaDkRnaqUejI8T9i2/V0hxGnhv29raGg4OfdDnMWLkdnYcZyFWuvgW4KI6onofKXU1/CPpqamnZLJ5P1E1BL+dncqlTpp8eLF68bavixejMy+1XDVUM8QUz8WL8pvKSnlfCHEHdm5RxtK11r/ZN26dWeuXLlyPf7tOM5p4bO9Xmv9tBDiyHyLp47jjPr5zOJF+e3LJTKBchAoKF60tbXVZjKZfiJ6Tghxju/7BwohLiOi85RSX29ubm5KJBI9eHgQET4aviiE2Mf3/abu7u7l5sEvhPiC1vo5IoKQMSeRSNSh4kOVXahho7lnvpUZ3Ke5ubkukUj8lYh21VqfSkQHCyFOFEJ82HXde01dWlpaWi3L6gw/huv7+/u3KmVVrhxGqkQZra2tsNU+YdnXhx/fN+DfyWTyVx0dHT2F7us4zq+01nsppWYWqxuLF8UI8e9MID8BFi9G1jMcx5mntV6itW71PM8N30V4b+2Ab2HHce7TWt9XW1v7sLnDNttsswbCQktLy/sty7ojmUzu2dHRscxxnBMgUPT392+xYsWKDeZ8eFSsXbt2KRHd0tDQcG1vb+/pQohLamtrnaVLl75h2/apQgiIIHuk0+l0Mpn8o9b6e57nXRdtFYsXI7JxQkr5hhDidNd177Bt++1CiGeSyWQL3ltSSiy4/Ecp9anm5uZtEokEvmEudl331rG2L4sXI7LvuF9U7BnC4kXlTCSl/CcR3a2Uunru3LnbDgwM/I2ILlBK/czYBfOR9evXPztt2rTvZRdQt3Zd99Bojcr1fGbxonJ25pKZwGgIFBQv2tvbm9Pp9He01l/3PO+34YoFwiluV0oda9v2+UKIrwoh3ua67mLHcRZorfGQCVZAbNu+VAjRpJT6OCroOM6FWuuv4IOypqYG33MFyy7UoNHcEx+x+coN1dk/E9HZSqlvhQ+9V4noL0qpg801tm0/blnWjr7v3w0RZ6KLF1EWUkq41f5JKfU+83cp5QeJ6Fwi2h2/hR9/i6WUNxPRGeF5nmVZx8ycOXPJqlWrLiCiE4loO5yfyWRO6+npWcnixWiGJ187mQmweDEy6zc3N++RSCT2UEr9CCW0tbW1ZzKZ5+vq6lJLlizps237KcuyznFdF55gmehdbNs+Hl4Znufti7+HYW8v1tbWbg1RIvI+OEAI8UgqldomDDPEhHqF7/tndHd3Pyyl/K3W+l7P827CNVJKeCB+Tim1gMWLkdnVXDVv3ryt+vv7Pz1r1qyrjCcL3mHhgsPjtm1/zvf9B3t6epaF7O8iIk8pdfFY25fFi9HZeryuLvYMYfGiMpYJw0EOra+vfxyeUrgLvr2FEA/j+zycR+yulDoqHNu7YuEt93vctu2yPJ9ZvKiMnblUJjBaAiXlvMBNwhWLXwkhPuO67g22bd8qhDhBKZUMPwDx8ZbWWt/qed5J0YqFwsdfoGH09/dvH13Bylf2EOJF2e5p7uE4zolYWbMsa9+uri54keBD8zGsmBnPAinlYdlJ/P1CiIOIaF+t9VVxFi9s295LCAFvFKxY/UJrDRfrLROJhJ1Op/cVQlyNd4rW+hwiuksIsR+UciKCm/TLEKmy3/334AXD4sVohyhfP1kJsHhRHstDSIdHnREkpJQvE9EfshPaj2WFCoSFfM14RGBiPDAw8Cet9SIiWhx64y3J5s04PVqb8L1xilLqAPN3KeWDQogn8H6UUiIHxjEmjERK+TYielYpZcH7w1zDnhejt7GU8p1E9FshxLa5eZWam5u3SyQSy0zY0Fjbl8WL0du3GkrIfYaweFFZqzQ1NW2fTCbnCiEQun4yEe2N0BDbthGmt8LzvMvDGiDvjZ/JZPbs6en5e853/aifzyxeVNbOXDoTGCmBksSL5ubmtkQigdiylzds2LAA4kP2gwEffzIaOhB+sHUqpTDJNwceLlh9OkNrfYzneXdGK5uv7NDr4x3mPN/3l3V3d/9hNPdsa2tLZTKZj5gytdbrURfbti8RQlxuWZbd1dXVHYoXPyWi41OpVO2bb75pJRIJhIssxmTccZwL4i5eSCmvyApSFyeTyV06Ojpesm37EKwyaq2P9jzvrtywEXirrF69OlVXV7fasix8/C8BR/QNFi9GOjT5uslOgMWL0fcA27bfJYRArguEucEzEOI0xIObk8nkdZlMZjet9S+IKMjzE3reIcQRwgbyWMwhok8YL46IUIEwyb1d1z0i8rcfaq1f8zzvIillRmu9u+d5cIGG+D/Hsix4AkyPJr5m8WJ0Ng4Tfv9da32F53nIZTJ4hKu4jwgh3lJKfRg/jLV9WbwYnX2r4ep8zxBTL855URkLSSkRvn0t8l5orS8TQlyH5yYWFrXWD0XHejjvwEIqFh2DQ0pZluczixeVsS+XygRGS6CoeOE4TqPWGu61G7XW+3ieh11D4MpVkheEmQgT0UVKKazIDx6Fyg5dbG8zJxpvjtHcM7zXC5Hbv47JdTHPC8dxztJa36C1fke4gvNZ5PeA0ltbW9tRKJfGaA0zltfnho1IKZHsDB/zQf8wrtN4iUDxzhUvQrY/zK5mYgVs8MD1LF6MpSX5XnEiwOLF6KwZ5inCu+tMpRQSMgeHbduO53kQqoOQEcdxrtNaT1FKfdK27auI6CDf99+LxNTGYyIqfoQfx8dqrc8y3hzh3x7Jzo8fyr5XboZ3R1bs/4Truo/jtzDH0ONKqenRVrF4MXIbhwsSvxdCLHZd1yRGHSwwDHHcL5FI7G92exlr+7J4MXL7VsOVhZ4hpm4sXlTWSqEHBpIl36WUusZxnFsgECMELLxz4PEthJjvui5yEAWHlLIsz2cWLyprXy6dCYyUwJDiRVtb2w6ZTAb5IFLJZHL/aBJHk3/CsqwFXV1dz+XmvAg/Ej8P9RRhBq7rIifC4DFU2eFHCXInBEc2PGENtkQazT3D0JWdTJlIurFs2bKXi+W8kFIGXhgFAO+mlAq8DCbykSte2Lb9DSRpNXHehpHW+gTP836aK14YUQlJlKZMmbJ048aN9yEXqlJqJxYvJnLP4LqPJwEWL0ZOH9vjIdGb1vpGz/MQ5hYcc+bM2bKmpuaMRCJxvRGeQ4F9llLqFOSqICKIDMHOFTiQQA4Ctud5PzB/M2JEKpXaAbHZYYJrCBbHQ7AIQw+fxAd3WAY8D/H8DHJpmIPFi5HZOHyf/yKbFDU5bdq0D+Vub+44zrlaayw0BO7mEVuOqX1ZvBiZfavhqkLPkGjdWLwor6VC5vCiwE5RfvjsPI+IDoFHt5QS//+dJh9duFPgUpPPqNzPZxYvymtfLo0JlIvAULuNIMwCwgW2Lfq+7/v/CG/6X4Rb5Oz8gQ+086K7jUS9J7BCZeJ8fd//dW1t7WtDlV2ocaO5p0nelVt2zm4jpwkh3k1EiLH7iFLqF0jcJISYZa6zLAsJSI9CCIzv+48U2EO+XPYZk3LyeF4gUemjQohfZnePuU0IAeFpr0g29yBpp9b6UzU1NXem02n8GwmUDhdCzERWfSJayeLFmJiPbxJTAixejMywCA3o6+t7Vmu9IZ1O45kU5Jiora19vbOzMy2lXCWE+KbrutdIKZvD/BfnIJt9mGj6Y1rrw+rr65etXbv28DCfz279/f0v1dXVXVpTU3O17/tv+L7/d9/371+3bt2VqVTqbOQGSqVSEmKGbdtHZ98bt2QymT3q6uoG0un0n8PQBoSksHgxMtMOXiWlxA5ZZ2cTaMOtHNubUyKReBOu5Y7jHIFkqb7vvzsb6hgk6rYsa0O4AIJE4mNmXxYvRmnocbq8yDNko6kWixflNVAoAv87K1xckslk8F2JnDUPZL2+H/M870tmDpD1tvpAOp3+QyKRwOJiHzYRaGxsnFHu5zOLF+W1L5fGBMpFoKB4EdkadJN7CSE6Xddtxx/DD7RvEdH2SHxGRGcppe7Bb1JKuOkibjj3ONz3fexSgTwSBcsu1MCR3lMp9UChMqHeZndBucvsK42tX5VS5+c73+TIGBgYmLF8+fI3y2WI8SynwG4jZ2N7qtC2iP1GpvwHQ7sjoSfii/Hf/bPn9Wut4TKNfgBPFGyx28DixXhale890QmweDEyC0opkdsICYQ3ObLPqLd7nvds6DWB9wGeVzi+qZT6PAR2TFrWrFlzI7bLDn9bEyapvjXMz9SBLaa7u7ufaWlp2TubK+n2MC/GSiHEca7r/t7cNGdnptuUUigzWE00B3teDN/GYZ6LIHw1eiCBNBKvSimRWwS5SgYP7FaA7RTH2r4sXgzfvtVwRbFniKkjixflt1bo6YuwcTOGb0+lUqdGdh85BTkwiKgeSZCzWyF/sLOz89VKPJ9ZvCi/fblEJlAOAkVzXpRwE0tKuYtS6sXcD7MSrh3pKRW5Z1NT006ZTOZfubuhjLSSMbhOzJs3b0Z0i8CcNiWiWw3CJTsugk4MbMdNmOAEWLyoqAGF4zi7TJs27XXzURy9G8ISVq5cuVVPT8+/hnrm4Te8N5YtW7YyuouIuQbPRN/3xYoVK1bnaw2LFxW1ccHCx8q+LF6Mj33H6q4sXlSONHYGWr9+/bqenh4shm1yLFiwoGbt2rXbRUPCwhM2+SYd7fOZxYvK2ZdLZgKjIVAO8WI09+drmQATYAJMIA8BFi/i3y1YvIi3jVm8iLd9WbyIt31ZvIi3fbl1E5cAixcT13ZccybABGJMgMWLGBs3bBqLF/G2MYsX8bYvixfxti+LF/G2L7du4hJg8WLi2o5rzgSYQIwJsHgRY+OyeBF/4xIRixfxNjOLF/G2L4sX8bYvt27iEmDxYuLajmvOBJhAjAmweBFj47J4EX/jsngRexuzeBFvE7N4EW/7cusmLgEWLyau7bjmTIAJxJgAixcxNi6LF/E3LosXsbcxixfxNjGLF/G2L7du4hJg8WLi2o5rzgSYQIwJsHgRY+OyeBF/47J4EXsbs3gRbxOzeBFv+3LrJi6BQfFCKaUnbjO45kUIDBBRDVOKLYH1RLRFbFs3eRu2lohSRLQm3NN+8pKId8vx7uWFhPja2CciK77Nm9wtE0JktNbYopOPeBJISyn5+zmetuVWTVAC/ME0QQ3H1WYCTCDeBNjzIt72Ret4t5F425gTdsbbvux5EW/7sudFvO3LrZu4BFi8mLi245ozASYQYwIsXsTYuGHTWLyIt41ZvIi3fVm8iLd9WbyIt325dROXAIsXE9d2XHMmwARiTIDFixgbl8WL+BuXc17E3sYsXsTbxCxexNu+3LqJS4DFi4lrO645E2ACMSbA4kWMjcviRfyNy+JF7G3M4kW8TcziRbzty62buARYvJi4tuOaMwEmEGMCLF7E2LgsXsTfuCxexN7GLF7E28QsXsTbvty6iUuAxYuJazuuORNgAjEmwOJFjI3L4kX8jcviRextzOJFvE3M4kW87cutm7gEWLyYuLbjmjMBJhBjAixexNi4LF7E37gsXsTexixexNvELF7E277cuolLgMWLiWu7aqy5aGpqmj1jxoxXFy9ePGAq2N7evnM6nd5bCPGk67r/GW7Fbds+RGvd193d/YfhXsvnV46AlFL6vm91d3d3Ve4uk7dkFi/G1fZWY2Pj9BUrVqwuVou5c+fOfP7551/Ld96CBQumrl+/3urs7Fyb73febaQY3ZH/3tzcPH327NnrFi1alM5TypjYl3cbGbn9JsKVLF6Mj5UWLlyY7O3tneF53r+L1WA0z2cWL4rR5d+ZwPgQYPFifLjH7a6WlPJ6IjqJiOrDxt1eV1d32pIlS/ps2/6oEOJOy7L27erqenqoxtu2vaMQ4uRMJvOrnp6ev+NcKeUyIlJKqffFDVyl2uM4zoVa66/kK19rPdvzvFfy/dbW1rZDOp0+xvM82HPIw7btqyzLmuK67ueLncu/D58AixfDZzacK2zbPlwI8Usi+qFS6hRci4/iVatWXUlEXwzLel1rfaLneY/mlu04zn5a6x8TkU1Ey4noVKXUk+F5wrbt7wohTgv/fVtDQ8PJuRNpFi+GY7HSzpVSzhdC3KG1bsMVWuufrFu37syVK1euH2v7snhRms2q+KyElPIcIvqa1hrvxTujdWXxonKWa2xsnFFXV3dD1oHpuGQyuUtHR8dLuJvjOKdprb+Bb02t9dNCiCOVUr2VeD6zeFE5+3LJTGA0BFi8GA29mFyrlLoMTZFSBv8d7iGlvIKILiaih/DR6Pv+vkKIT2Ni4LruEcMUL94uhHhGCHGS67q3hvVi8WKYRpk9e/YWW2211RRctnHjxl9rrW+tq6u7A/9eunTpm0Tk5yuytbV1T9/3Fyulij4bWLwYplGGeTqLF8MENozT29vbt06n0yu01h1E5HqeB+GVWlpa3m9Z1h3JZHLPjo6OZY7jnACBor+/f4sVK1ZsMLeAR8XatWuXEtEtDQ0N1/b29p4uhLiktrbWWbp06Ru2bZ8qhIAIskc6nU4nk8k/aq2/53neddFqsngxDKOVeKqU8p9EdLdS6uq5c+duOzAw8DciukAp9bOxti+LFyUarQpPC4WuJ4hoGhE1CCHOc103eIeag8WLyhiuubm5KZFILCKiZ7KfLEca8cJxnHla6yW+7x+4fv36Z6dNm/Y9IcTWruseGq1JuZ7PLF5Uxr5cKhMYLYGiE5TR3oCvr34CoXhxKRFdPlwBo7GxcUpdXd16InoulUrtY8JFbNu+VQhxQjqdnplIJA6Kel60tbWlfN+/Tmt9GBHBnfp2pdSljuO0a61/Q0TbE9EaIrpHKfUJeF5orZdZloXJxtGYcGitj+3u7sZqJx9FCEgp/xROnG4zp0opLwo9ZWpD/he2tbU5mUwGK8fgvxIryQ0NDb959dVXv6y1Pjm89vaGhoYvYAWZxYvKdj0WLyrH13GcW3zfr7Esy/N93zbihW3bxxPRJz3P2xd3D0PeXqytrd0aooSpkW3bBwghHkmlUtuEzzys0K7wff+M7u7uh6WUv9Va3+t53k24Rkp5HBF9Tim1gMWLytk1dCc/tL6+/vHFixevw51s235cCPGwUupbY21fFi8qZ+tKl4wJcF9f35fT6fSFiUTij0KI61m8qDT1/18+vNp8328OPePeiogX8CjdXSl1VPhc3RVeb/39/VtFQ/zK9Xxm8WJs7M13YQLDJcDixXCJxfD8iHhBQohFtm0fVGozm5ub90gkEs8R0XlKqa+b69ra2mrXrVs3tbGxcW1vb++RUfHCcZz7tNYfCl0xd4DIobW+LJlMfg8fCvDagHARihf3hGEjc8K/YfUTE4x7lVIfLrWek/m8XPHCuF36vn+EEKJfCAEPl1szmcw1yWTyUK31L/D9kEgkXvF9/yCt9U1wmRVC1GRXkh8QQpzouu59LF5UtlexeFEZvlLKtxHRk4lEwvZ9/6SoeDFv3rytBgYGIPZh1W+x1vpUIlried7p0do4jnOi1voUpdQBEUHwQSHEE67r3iClRA6MY0wYSXjPZ5VSFiIZzDXseVEZGzc1NW2fTCbnCiEODIXXveFaPtb2ZfGiMvYd61KllH9l8WKsqRNhoSuTyawx4oVt2wjTW+F53uVhbQRSb2UymT1NmHEofpTl+czixdjbnO/IBEohwOJFKZRifk5UvEBThyNgOI5zBFYY4RHhed5d+VBFw0aEEM/jZaS1viWcEODlA9fAbZRSTbZtFwobQdKLZnz4SykVESVxfsxNU5bm5YoXUsrHtNYPRlaFIQJdrJTabYiwkcS8efOm9/f3PxKuYl7J4kVZzFOwEBYvKsIXzxuEcMAr4nrHcS6Iihehu/H3iehjYR4LiKafUEr9KFobKeUXhRB7IywuIl78UGv9mud5F0kpM1gh9DwPIQwIR5ljWRbC36YrpeBVFhwsXlTExvB0OVgIcS3yXkAYF0JcB+5jbV8WLypj37EulcWLsSb+/++XK16E3y4PeZ53Y+S5C6H4BKXUY5G/leX5zOLF+Nid78oEihFg8aIYoUnwe654gSZjxb21tRWrj0MehTwvohdFxYuBgYF+eGporc8yLyDbthG3eBriymtra5FsLV/Oi26l1MEoV0p5PxHtq5SaWax+/HvAa5OwEawK+76PsBuE6MCtejchxD+UUonW1tbdozkvwgSqmMwdYlgKIS53XfcyFi8q27tYvCg/XynlR4jo6kwm09bT09OfK16gTxPRD4G/2wAAIABJREFUQb7vv7enp+ct4zFBRHsppZA7ITiklMeGz7AgvCT82yPI+5N9Lt0spXxZCPEJ13Ufx2+tra37+L7/uFJqerRVLF6U38bREkMPDCRbvUspdc1Y25fFi8rad6xKZ/FirEhvep9c8QLhfhCIlVLIsYYD4XppIcR813WRg6isz2cWL8bH7nxXJlCMAIsXxQhNgt9HEzYSyXnxbCqV2t/kvJBSXkNEZ8A1O53+f+ydeWAU5f3/P8/MJhtlUfCCAGoMyTyTBEUaEbwqntVavG+x3retCkqrVfHEG229qVZaLNpavLVqPfBApRitHMk8s4GmigkoVJFwJNmd57effGf4rduETbIzezx85h8l88xzvN+7szOv5/N8ntj+3rIRXGMei8Vwu9Q7hRCdGf3dNckjEUZ4kRfJs52pu40QvOjdh7ILePEOY+yPXkJUN4kdzkzy1MgLzjnOcOyiado5DQ0NLaZpYhb/+gTouJngRe986G1pghe9VSx9eQ+UdlHSxs8/5qoAAIQMdyQ9CH8upbzftu3HvL95MCISiQzG3Aq4TC4ejyOwOB2BBc4Q4tIUfGF2wcaFUsozvFwaXj0EL9J71psSuC1iR0cHzsLibgSdSYk555MRvgohDsi2vwQveuNe/pYleJEbb7qIvMDv8oHeRFZVVdUIx3EWhsPhCO5s5/f9meBFbnynVkmBdAoQvEin0GZwPpOEne7D4c0AgAkgX5JSzmKM7e5uNfg6/sik7jaCDwI4k4k7iiTyKWBySHxReEQIcZGXIC+xa+EcKeV1tm1/QPAisw9hFzkvMOnVOQBwcCILfxsAYCTLR0KIy6qqqnZ2HAcTo46xbbuOcz4dALaORCI/X7t27e5SyrmJl4LrCV5k5klPriZ40ROVelcGZ+JLSko2Rj/E4/GLE/leynRdvxy34jMMYwpj7FRMJty/f/8lra2tR+POFQAwsq2t7YtwODylqKjodsdxvnUc5zPHcZ5ft27dLZFI5HIp5cWRSIQjzDAM42TG2PR4PD4qHA53xGKxuVLKm2zbxiimjQfBi975l660C5FW4j0qHo8/DADb67r+gpTyNdu2f5NtfwlepHOsMM4TvMiNT6nwwt2FpJExNj4Wi72n6/qfAGCtEOI0d2tVX+/PBC9y4zu1SgqkU4DgRTqFNoPzmW6VCgAa5/xed/eK/q5kLxQXF5/lbht4UnLCzsQL8RD3hWAft+xsfDn2ssNzznGGE1+uO+EHwYvMPoQIL1w49CTW5G4B9ygAdO4gghm9+/XrNyFJf0zYiUlWj5NSNiZA0ysAMCyRB8BOrC39NwDMJXiRmSc9uZrgRU9UyqyMaZrXOI5T6e02gjkR1qxZ8yAmpXVrXsMY+yVGKVVUVFTrur7YcZyx0Wh0XmVl5RhN02YBAObFWMYYm2BZ1rtejzjn+PJ8ofvvmUIIrPMHWxQTvMjMv66uxp0KpJS4sxL6gsesSCRyHt7fsu0vwQv//c1FjQQvcqH6/+a8wF4YhnEu5rABAHzWnJ9YhnxkfX398iDuzwQvcuM7tUoKpFOA4EU6heh8bxTQa2pqdikpKWn2XoQ3dTE+SK5evTqOa8+7KIdZ+fH4wcN+bzpDZTetQG1tbdHq1au1rvTHGcz6+voOb2cEnNVoampanbxTAukbrAIEL4LVd1O1I+BbtmzZwMbGxm9SyumJ5Lbx5L8NHz58xyVLluDWwht3EfHOl5eXb+04Dkvexi/5WoIXwXmMO4usX79+XVf3t2z5S/AiOH/zoWYhxNDEkqR5iQkXhPt0ZEkBfHZpbW3dHncQCvL+TPAiS4ZSM6RALxUgeNFLwag4KUAKkALZUIDgRTZUzm0bBC9yq3/QrRO8CFrh3NZP8CK3+gfdOsGLoBWm+kmBvilA8KJvutFVpAApQAoEqgDBi0DlzYvKCV7khQ2BdYLgRWDS5kXFBC/ywobAOkHwIjBpqWJSICMFCF5kJB9dTAqQAqRAMAoQvAhG13yqleBFPrnhf18IXvivaT7VSPAin9zwvy8EL/zXlGokBfxQgOCFHypSHaQAKUAK+KwAwQufBc3D6ghe5KEpPnaJ4IWPYuZhVQQv8tAUH7tE8MJHMakqUsBHBQhe+CgmVUUKkAKkgF8KELzwS8n8rYfgRf5640fPCF74oWL+1kHwIn+98aNnBC/8UJHqIAX8V4Dghf+aUo2kAClACmSsAMGLjCXM+woIXuS9RRl1kOBFRvLl/cUEL/Leoow6SPAiI/noYlIgMAU2wgshxP9s8xZYq1RxthXALS+Lst0otZc1BdYDwBZZa40aypYCrQAQAYA17p722WqX2smuAvjbSxMJ2dU8m63hdt/e1t/ZbJfayoICjLG4lBK3UKZDTQVinHN6flbTWxpVgSpAD0wFahx1mxQgBdRWgCIv1PYXR0eRF2p7TJEXavtLkRdq+0uRF2r7S6MrXAUIXhSud9RzUoAUUFgBghcKm+sOjeCF2h4TvFDbX4IXavtL8EJtf2l0hasAwYvC9Y56TgqQAgorQPBCYXMJXqhvLgAQvFDbZoIXavtL8EJtf2l0hasAwYvC9Y56TgqQAgorQPBCYXMJXqhvLsEL5T0meKG2xQQv1PaXRle4ChC8KFzvqOekACmgsAIELxQ2l+CF+uYSvFDeY4IXaltM8EJtf2l0hasAwYvC9Y56TgqQAgorQPBCYXMJXqhvLsEL5T0meKG2xQQv1PaXRle4ChC8KFzvqOekACmgsAIELxQ2l+CF+uYSvFDeY4IXaltM8EJtf2l0hasAwYvC9W6z63llZWWVpmlnFhcX375w4cJvNzsB8mzAnHPuOI4WjUYb8qxrSnSH4IU/No4bNy7U3Nw8yLbtFgBwelrriBEjBi1atGhFuvKbKldbW7vl+vXrtfr6+tau6qHdRtKp2/fzVVVVpVtuueXqurq6dam1uJ+JAbZtr0zXQib+UsLOdOoW9nmCF8H5ZxjGdo7jtDc2Nn6fq+8vwYvg/KWaSYFMFCB4kYl6dC3U1tYWtba2tqdKwRi7xrKs2/yUiHN+NgA8rmlabUNDw6emaZ4ipRwkhLjPz3ZUqMs0zWuklLd2NRYp5TDbtr/q6lx1dfXgWCx2im3b96bTwTCMqZqmlViWNTFdWTrfewUIXvRes9QrTNOcJKW8GwDW4DnHcY6NRqNv4v+XlZUNCIfD9ycmyCeEQqGdFy9e/AX+3TTNvaWUTwCAAQBLAeA8IcTbXdS9qXLMMIxHGGPnu9fNLC0tPXvOnDmx5HoIXmTmcWVl5RGapv0BAJ4VQlyEtXHO98F/A8AObu13CCGu8cCVaZrnu5+J/lLKjxljxwkhmoPwl+BFZv7mwdU653wSANwhpcTfxaeT+0Twwn+Hhg8fvmMoFHoeACoBoD8A/DUSiZzlQchsfn8JXvjvL9VICvihAMELP1Qs8DqEEDe4D32d/+3NkQQv5ice9md512qa9nFDQ8PHvamrJ2XLy8u3Xrp06Wr3JeNlKeVoIcSgnly7OZUZNmzYFgMHDizBMbe3t78upZwRDoefwn8vXLgQ9etyBrqqqupHjuPUCSHS3hsIXgT7iSJ4kZm+pmnuKqVcIKWssm3bckHGZCHE4IqKinJd1+cAwLzEV+I4D15gpERra+tCAJheWlp6T3Nz8wWMseuLi4vN5GivdOUMwziPMXYLAIyKxWKxUCj0vpTyUdu2pxG8yMxX72rO+U0AcDkA/EtK2ZCIrLmgrKysJBwOrweAK4QQv6uoqNgFfZZSXoUvnt5nwnGc/devXz+/X79+jzLGtrEs62fJvfLLX4IX/nidi1owOqelpeUfANAPAEoZY5Mty+r8DfUOghf+O8M5/ysArBJCXFJRUbGtruufMsausyxrRra/vwQv/PeXaiQF/FAg7QuKH41QHfmtgAsvpgDAjZzzXgGMJHjxuBDi3OSRcs53A4BnHMeZGI1GX3FnOudJKX9n2/aDpmneI6XcjzH2qpRyopTyp5qmHYN/w+sA4DqcGdM07QbLsj40TfM4KeVUADjSfWi90G3P1jTtFMdxRgHAZF3X96+vr1/OOT8QAB7WNO0MBCmGYXzEGPsXPogAwIG6rm/X3t5eoev67QAwDgDmM8Zusizr3fx2rHe945x/4L44zUx68L8WAM4CgGKETjgzWV1dbcbjcZxhxhnLZTjjXFpa+uby5ctvllJi1Ases0pLS6/CGWSCF73zobelCV70VrEflq+oqBil6/ooIQTOzEN1dXVNPB5fFA6HI+3t7SMdx6lgjD0HAN978MIwjH3xfhSJRLatq6vrAACceW1yHOdCvId5LaQrxzl/S0o527bth/AazvkE94W6NrmXFHnRd4855zdrmvZQPB6/FAC2Q3jhRs3MLS0tLfKiXDjnj0spd7Rt+1A3Im13IcSJri+7YHRNW1vbwKampu/89pfgRd/9zfWVCLDWrl17cywWu0bX9fcZY/cSvAjeFcMwrnAc58XGxsYl7nf0LwBgCyGuy/b3l+BF8H5TC6RAXxQgeNEX1RS7JgleAGNsjmEYB/R0iEnwYmY4HO4M28VjwYIF6yorK/fECAwv3LKmpmabWCy2Sko5xbbtmzjnf078KJ2KD4+MsRfwBTsREXC9+7e5Ukok7r8AgPcTYds/5pzjyza+iIyUUg5njCF0MKSUGNb5FwQYUsq74vH4jo2NjctM0xwvpXwRQYUQ4h3OOa6dxDDEuYyxfwLArVJKhBntUsppjLFTEuHGu4VCoRFeCHlPdcjncqnwwgu7xBB6xlgbY2xGIop+RjwevzMUCv1MSvk3jJ7Xdf0rx3EOkFI+hB4yxooSM8kvMMbOtCzrWYIXwbpO8MJffQ3DQEB7mG3be3k1V1dXR+Lx+BoPXpimeaaU8lwhxL5eGc75i4yxf1iWhUtMOo905TjnmCvjFG+5Ced8D4SjQggNAKRXD8GLzD02DAOXx3XCC8MwTMZYQ3Fx8TZepAznHPX+GiP0DMPA5UBNtm3f6LbMMHVPPB7/UWNj42d++0vwInN/86EGzvk/CV5k34mKiortdV1f4i33y/b3l+BF9j2nFkmBnihA8KInKileJhle4FB7AzC6y3nhOE41AGzVQ3gx1Ftz7AEN7+GTc/4nADgd6wKA4z14IYRYYJrmD5aNmKZ5ZQ/gRUtpaWkNzspVVlYerGnaPxhjGMHxOi6Dl1K+I6U8w7ZtbFeJIxVecM5fQ6iTNCuMul4nhBi5iWUj+q677rpVW1vbq4yxV4QQtxC8CPbjQfDCP30NwziIMYa5LnCZ2SfdwQvO+a8YY2Msyzo2CV7gzP0K27Yxb0LnkabctZzzuJRyd9u2P8fylZWV5Zqm4UziVkKIzvwbeBC8yNzjZHgBABrnHCHESsYY5inYHfMVYM4TIcRW7r3vJYz8S/ISQdMZQojX/PaX4EXm/uZDDQQvsu+Cm1QXnze+F0LgMwred/HZJWvfX4IX2fedWiQFeqIAwYueqKR4mVR4gcPFGfeqqipcE77JIwleYDTDY17hDRs2PF9UVMR7AC/G40Nl0kMjRmNs/FviJeC6xAPpTVLK7Rlj432AF38XQpyE7ZmmeamUcuNsqtcHXJpi2/Zv0o29UM53AS9WOI5zmpe40DCMkbicRgihV1VV7Z6c88IwjKGMsd8ncgMc7o2XMXajZVk3ELwI9hNA8MIffd1dijC3xUVCCLy/bDxSIy8456dJKS9Njs7gnL8KAC8lZu4fTrpPbbIc5/xLxtg5lmW9gddUVVWNdRznjeR7Hf6d4EXmHqfAC9S6NB6P38YYOyjxW1KXWBKIv2PHYzSNaZrTEURhCLrbMi4LijHGdrMsC3OddB7pPgc99ZfgReb+5kMNBC+y7wLnHO+3e+u6vo+3W1O2v78EL7LvO7VICvREAYIXPVFJ8TI+LRv5n5wXhmGMdpdnXC6E+G1NTU1FLBaLpiwb8Q1eGIYxkTF2T9JuJBgCjmHCG5eNYNSAZVm4PAQfUDF3xguJZSkHRSKR5OSiHe56dyWc7wJevMMY+yMmwMIBuhn7pwkheGrkBeccZyh30TTtnIaGhhbTNJ+SUtYnQMfNBC+C/XgQvMhcX9zmsqOj45ME/HzQtm1cZvaDIxVeeJAhEokMxuz21dXVxfF4HEHE6R6ISIYR3ZXDGUIAeFsIcad7r7nQjejauGSF4EXm/mINyfACE3YWFxdz27YRRHQmJeaco+/bYU4mzvlk9/fgMNfHEY7jLMQ8KAsWLFjr9Sjd56Cn/hK88MfjXNdC8CK7DrhRtJcBwJjknYCy/f0leJFd36k1UqCnChC86KlSCpcLKmGnaZrbJmYxV2KyJSnlLZqmnSSlPMIveOGSeXwpuKSoqOjpWCyG69QxJwMm1vsztgkA5d3BC9wWNB6Pt2AODMy1IaXckzGGM3bHW5Y1WxXLu8h5gduongMABwNAGwDgtmQfCSEuq6qq2tlxnCYp5Rjbtus459MBYOtIJPLztWvX7i6l7NSK4EXwnw6CF5lp7Cbcmy+l3BCLxY5mjHXmmiguLv66vr6+c3vnVHiBsMJxnM8cx3l+3bp1t0QikcullBdHIhG+atWq4nA4PKWoqOh2x3G+7a4cQg/DME5mjE2Px+OjwuFwRywWwxw+N9m2jVFMGw+KvMjM41R44e4Sspwx9hvLsh7inP8YIZLjOGOj0ei8ioqK4bquN2IUXywWe0/XdVweuFYIcZqbUNpXfwleZO5vPtRA8CJ7LpimeSwmO3Yc5xAppYUta5q2wbbtldn+/hK8yJ7v1BIp0BsFCF70Ri1Fy/q0Ver/RF6gXO52dl6I7iMAgLAhOWFnnyMv3MgOjAzACI99NmzY8Gk4HH42aYkD7q6B+TK6jLxw+9e5IwlO4OG/3aRcVyVyQMRVsRvhBQA8IoR4EsfkbgGHyVE7dxDBHRf69es3wdtHnXOOCTuPY4zh7i6NCX0RBg1DCJVYG/5vhD0EL4L/dBC8yExjzvkJCT6B2+794EBIads2bu38P/AC/1ZZWTlG0zTc9hnB5zLG2ATcgaiioqJa1/XF3otwd+W8xjy46v57phDizNQtigleZOZxKrzAf5umeaibdBiTM69xf2/u9VoyDONcxhhuWYvn5ye2YjwSd6cKwl+CF5n7mw81ELzIngucc8wNhPfejYcbMdu5nXE2v78EL7LnO7VECvRGAYIXvVGLyvZJgWHDhm3Rr1+/UHKiuj5V1P1FejJsKC8v3xpJfWNjI0YV9OjYddddBxYXF7eqtFwk3cAxX8nq1au1rnTCGej6+nrcKrJzthpnJZuamlYn75SQrn46n5kCBC8y0y/Tq4cPH77jkiVLcMvgjbuD4NapqWCzm3KdzeO9yHEclrwNZ3K/CF5k6lLX1yOgXbZs2c7Dhg37j7dlanJJN1fT9skh6e55X/0leBGMv/lSqxBiaGKyZB7nHOE+HVlSIFvfX4IXWTKUmiEFeqkAwYteCkbFSQFSgBTIhgIEL7Khcm7bIHiRW/2Dbp3gRdAK57Z+ghe51T/o1gleBK0w1U8K9E0Bghd9042uIgVIAVIgUAUIXgQqb15UTvAiL2wIrBMELwKTNi8qJniRFzYE1gmCF4FJSxWTAhkpQPAiI/noYlKAFCAFglGA4EUwuuZTrQQv8skN//tC8MJ/TfOpRoIX+eSG/30heOG/plQjKeCHAgQv/FCR6iAFSAFSwGcFCF74LGgeVkfwIg9N8bFLBC98FDMPqyJ4kYem+Nglghc+iklVkQI+KkDwwkcxqSpSgBQgBfxSgOCFX0rmbz0EL/LXGz96RvDCDxXztw6CF/nrjR89I3jhh4pUByngvwIEL/zXlGokBUgBUiBjBQheZCxh3ldA8CLvLcqogwQvMpIv7y8meJH3FmXUQYIXGclHF5MCgSmwEV4IIZK3gwusQao4JwrglpdFOWmZGs2GAusBYItsNERtZFWBVgCIAMAaAOif1ZapsWwqgL+9NJGQTcWz25YDAFp2m6TWsqUAYywupcQtdulQU4EY55yen9X0lkZVoArQA1OBGkfdJgVIAbUVoMgLtf3F0VHkhdoeU+SF2v5S5IXa/lLkhdr+0ugKVwGCF4XrHfWcFCAFFFaA4IXC5rpDI3ihtscEL9T2l+CF2v4SvFDbXxpd4SpA8KJwvaOekwKkgMIKELxQ2FyCF+qbCwAEL9S2meCF2v4SvFDbXxpd4SpA8KJwvaOekwKkgMIKELxQ2FyCF+qbS/BCeY8JXqhtMcELtf2l0RWuAgQvCtc76jkpQAoorADBC4XNJXihvrkEL5T3mOCF2hYTvFDbXxpd4SpA8KJwvaOekwKkgMIKELxQ2FyCF+qbS/BCeY8JXqhtMcELtf2l0RWuAgQvCtc76jkpQAoorADBC4XNJXihvrkEL5T3mOCF2hYTvFDbXxpd4SrQI3jBOR8CAGuEEGu6GCrjnJcKIZq7kmHYsGFbhMPh7ZYsWfIVAOB+5z840tTdnbIZtdldpSNGjBgUDof/W1dX19FVmeHDh+8QDoe/q6+vby9cy7Pb85qamp1isdgYxtjblmWtym7r1BopULgKELwI1jvOef9IJLKhu/s9/h4sWrRoRbpebKpcbW3tluvXr9fq6+tbu6qHdhtJp27G5zufFXRdX9nX3+1M/KWEnRn7l9cVELzImT16WVlZ/6ampu/S9SCT7y/Bi3Tq0nlSIDcKbBJemKa5v5TyrwCwg9u9l+Lx+ITGxsbv8d+GYZzEGPude/5rALhUCPEMnisrKysJh8O/T0w+THCvRfAxQQjxIv47Xd3dyZFJm93VWVVVNcJxnD8DwG4IaRLjeUgI8WuvPOf8eAD4AwD0d/+GmpzbDczJjZO9bJVzfi0A3NzNZUd5PnV13jTNU6SUg4QQ96Vr1vXracdxxkaj0XnpytN5UoAU+D8FCF707ZNgGMZQxtiy5KullP+wbftQ93drpKZpsxK/bdVumVkAcKF3PzdNc28p5RP4EwcASwHgPCHE26m9SVOOGYbxCGPsfPe6maWlpWfPmTMnllwPwYu+eez6uEmfTdMcJ6XsfN5wf7t/LYS4o6qqaqzjOB+ltiylnGjb9r3e3/3wl+BF3/3Nhytra2uLWltb5wLAaMdxhkejUbwfbDwIXvjvkvfMmHL/vtq27dsTz6y6aZq3SCm953N87zhZCPFOEPdnghf++0s1kgJ+KNAtvKiuri6Ox+NtAPApY2yS4zj7M8ZuAIDJQoi7Kioqhuu63iil/BgA7gCAXzHG8KGg8wZvmuYkKeXdjLGrpJSfAgCCjHJd18PY8U3V3d3AMmmzu1mXioqKsK7r/wSAXaSU5wHAYYyxMxljx1uWNRujLUKh0Ap8+GWM3Z6IIPixlHKKlPJS27Yf9MOEXNThPsCNddvGBzb8Ub4f/x0KhV5evHhxY3f9Mk3zZSnlaCHEoHR9J3iRTiE6Twp0rQDBi759MioqKkbpuv50cXGxd3/D35sOL/qBc14HAP8oLS29dvny5VtLKd9mjM20LOtujJRobW1dCADTS0tL72lubr6AMXZ9cXGxuXDhwm+9HqUrZxjGeYyxWwBgVCwWi4VCofellI/atj0teVQEL/rmMV6Vxmedc/4tY+wCy7KeMgxjT8bYvFAoVLn99ts3rVq1ypuIgPb29i2QFTqOc2w0Gn0T6/bLX4IXffc3H640TfNqKeURifvFPvF4vKKxsXEJwYtgnTFN81IpZU1xcfE1Xktr1qxZ39TUtME0zfFSyoc0Tdu3oaHhC8MwrmCMXSGE2DG5V359fwleBOs11U4K9FWBbuFFTU1NRSwWe0BKeZdt22+NGzcu1NLSgsspZgkhTjMM49eMsdsYY3tYllVnmmatlPITAOic3TAMY0rigXC4EOLn2DnTNK+RUt4qpawqKirC57lu6+5uMJm0adu21VW97uwKkvXLhRC/dW96ywHgQyHEYW5UxunxeHw6/nDttttu/dra2jAE+C4hxOS+Cp9P13HOMZLmAyHET71+cc6PBIArAWB3PMcYuw595pw/jLOUbjlb07RTBg0atKClpeVqADgTALbH8vF4/PzGxsZlBC/yyWnqSyEpQPCib26ZpnkozqLj/Rt/t1KjHTjnKxzHOc17UTUM41HG2LcYbWcYxr6MsVcjkci27nISfAluchznwmg0+orXo3TlOOdvSSln27b9EF7DOccIRHzIriV40TdfU6/alM+77rrrwLa2tl8MGTJkquc//s65kxJvJNeV+DxcBABnCSH29Ntfghf+eJ2LWtxn4Gg8Hq/RdX0xwYvsuMA5x4jgVnyPwEgLnOv0Wq6urq5pb28vbmxs/Mx9r8AoublCiFByOb/uzwQvsuM5tUIK9FaBHuW8wEorKyuP0DTtZcbYLy3Lut8wjBmMsTOSbhr4kBeTUs6wbfus5I644ONDZBhtbW07IEFNPp9a9ybghW9tem2YpnkmhghrmrZXQ0MDRpHgg+ZrOGOWHFlgmmYZAIyQUp6Ey1/i8fiPvBtob0XPt/Kp8MIwjNGMMYxGwaibv0kpLwaArXVdN2Kx2F4YgYIh1VLKSQDwF8bY3gCAS2kwTPpLhFQA8IwQ4kSCF/nmNvWnUBQgeNE3p1xQ8EsAwCg/XAr4tqZpZzc0NPwHa3SjIq5kjE1zHGdwYonJuYkH4EMQcLu/B7gkcF+vdc75i4yxf+DvXsrvRrflEJAAwCnechPO+R4AMF8IoQGA9OqhyIu+eZwEhLr1OQVQHAgAbzHGtkvOveRGmOJv1gW2bT/vt78EL/rub66vxO+9lHKRbdvXcs7jBC+y4wjn/DF3KfqYRFQ3RkU9E4/HL25sbMRI8M4Dn1E1TdtJSnk9Y+wvlmVNTe5duvt4T+/PBC+y4zm1Qgr0VoEewYuKiopqXdc/xhfTDRs21CJ84Jy/h+/5yS/47g2hXghxQFJHMGEWzj5dKKU8xbbtp5M72VXdLvHezysYqp8eAAAgAElEQVTnOM6SaDT6XiZtVldXR+Lx+AlenVLK9dgXwzDw5ndjYg200dDQEHUfiv4EAKdHIpFiL5mbG57WGfKLD73t7e03LV26dHVvBc/H8qnwgnN+U4JiXxcKhXZevHgxhuYdjrORUsqTbdv+S+qyEYxW+e677yKYzFTTtIEdHR0LcJz42SB4kY+OU58KQQGCF31zyb1XY2Tg6bFYbJmu63g/qxRCjMQa3Rn7mQCAiZe3BgBcRnIaJp3mnOPyxzGWZR3rtc45f1xKucK27Y1hzGnKdb7sSCl3t237c6ynsrKyXNM0DDnfKjlXEsGLvnnsvsBgyHi3Pif5hwnHP5NS3pS61NN9yblaCFGVnFDcL38JXvTd31xeWVlZebCmaZgHrUIIsZbgRfbcQGgEANtIKS/RdX0Lx3H+mIjwftmyLJws6zzcMuMAoIUxdpZlWTg5uvHw6/tL8CJ7vlNLpEBvFEgLLzDiQEqJiRbbpZRjbdvGXUOQfPYoCsJ7EQaAa4UQOCO/8eiubnfmDB8uOw8vmiOTNt22/p3U/Nf4ct3TyAuMHsF1sm1tbT9hjD0FAPcJIa7ojdj5WrYLeIEzUJi0s/Pz4e4Y8h8p5Q22bd+YCi9cbR8HAJzd2njg9QQv8tV16le+K0Dwom8Omaa5bSgUCnk7hRiGsR1j7Bsp5TDHcdp1Xcckbydicmk3KvCPmNBRCHEk5/w0N5/RXl7rnPNXE2kQXkr8XuCSuc4jXTnO+ZcJ2H+OZVmdSxTcHENvCCG2Sh4VwYu+eYxXbcpn7znFnbR4lzFWZ1mWlzy1s1HXe5F4xJgihHgyuSd++Uvwou/+5upK/FwsX74coeNdlmXNAAAN4QXmS0nNBUYJO/13yX3exGV8nbsbcs6PSkDfaUKI4SmtYfLO06WUv4tEIoPr6urW+X1/Jnjhv79UIynghwKbhBfV1dWD4/E45oOIhEKhfZJv3F7+CU3TahsaGj5NzXmBnTMMYyJj7B5cZmBZFuZE2Hhsqm73gQNzJ3QeieUJa2zbXplJm+6DysakPph0Y8mSJV+my3nBOT8MAA4PhUI3Ll68+L/uzRQfeLZMTRLkhyG5qKOLZSOYaHVScXHxNpikztNISnmGbdt/SoUXHlTCpK4lJSUL29vbn3VnLHYkeJELR6lNFRQgeNE3F91liOu8DPTu7wk+CJdLKXGHivdLS0uLknIhYH6fJxEseJDBexj2lhVgFIcHIrBX6cq5Sw/fFkLc6f5mYOQh3j83QhH8O8GLvnmMV23KZyHEv93f/L8lEqeG+vXrd0zqlriGYZzMGLsrEomUp57zy1+CF333N1dXepM1XbXPGDvOsix8vuk8CF747xLmoInH4294yVHdKJgn8Hkbd/5L7ODU7EVaeLn48NkTo7O93vj1/SV44b+/VCMp4IcCm9ptBJdZILjYjTH2e8dx/uU2+F9cbpGy8wc+oE1O3m0kOXoCZ7K8db6O47xeXFy8YlN1dzewTNpMzRLttZGy28j5jLFDAODsxHPlCUKIvyXBjZccx8HEbrW4zERK+UfbtjFBZcEfXUReILD5O2PsucTuMTMZYwieRnszD17STgzrKyoqejoWi+GM5IkAcDRjbBBm1U9sJbsMf2wIXhT8x4MGkCMFCF70TXg3mu66BKQ4SNO05lgshsmjf+4+/OIuE5ig+NeJpJz3t7a2DgAAjPLDmb7jEVY4jvOZ4zjPr1u37pZIJHI55vyJRCJ81apVxeFweEpRUdHtjuN82105nAF0X4ynx+PxUeFwuCMWi811ly3grlsbD4IXffMYr9qUz3iec467aF3uOE41ToDg33RdX+3O6GKOrnpcAmpZFv5e4fbuA/z2l+BF3/3N1ZX4QvzNN99gjrPOIxaLYdJIS0p5cElJyccLFixY650jeOG/S4ZhPMEYGxgOh0/7/vvvi8Lh8GwA+LcQ4tzEDkKX4fbTuq4fVVJS8p/W1lbcEOCxtra2gdgTv7+/BC/895dqJAX8UKBbeFFZWVmlaVp9aiOMsXrLsmrw7+4D2m/d5DoYinsphuK6Dw64XvDULjp5tOM4uEvFJuvubnB9bVMI8UJ3deKOIoldUP4ipax2y9yBmee98m42csx83Lm9GmPsFV3Xf+5FYvhhRC7r6Ga3kcsBAKHFDu42qpgpH9cidiZLYozhNrH4330S5dqklBhajWUx3wUmVioleJFLV6ntQleA4EXfHHSjJTDP0jluDcsSCYh/alkWboGKL7W4vA2Xigxzz79eVFR0hrfMpLKyckwiB9IsjNRACMsYm2BZ1rtufqbFjuOMjUaj87orl/S7kbwz00whBMJuJ3lUBC/65jFetSmfOeeY56JziWvygUmmcbtaNxR9+tq1a8uWLVu2HssE4S/Bi777m0dXdiajp4Sd2XGkqqqq1HEcfF4f7bY4p62t7Zimpqbv3MnG+5J2vPvai4oL4vtL8CI7nlMrpEBvFUib86IHFeJ6wJ2FEJjJ/QcPZj24tq9FAmlz+PDhO8bj8W9Sd0NxO4n5G4asW7fuv97DTl87X0DXsV133XUALh3pps8/2MaqvLx8a1WSmBaQR9RVRRUgeJGZsZzz/rFYbAAuD+yqJtxOc82aNeu7ud8D/h4sWbJkWfLuIKlb92G93ZTrbBLviY7jMHzw7qoPBC8y8xivTudzL1v4wW9apv4SvOil+gVWnCIvgjNsxIgRg3B5d/LuQF5rGB3T3Nw8AJeTp/TA1+8vwYvg/KWaSYFMFPADXmTSPl1LCpACpAAp0IUCBC/U/1gQvFDbY4IXavtL8EJtfwleqO0vja5wFSB4UbjeUc9JAVJAYQUIXihsrjs0ghdqe0zwQm1/CV6o7S/BC7X9pdEVrgIELwrXO+o5KUAKKKwAwQuFzSV4ob65AEDwQm2bCV6o7S/BC7X9pdEVrgIELwrXO+o5KUAKKKwAwQuFzSV4ob65BC+U95jghdoWE7xQ218aXeEqQPCicL2jnpMCpIDCChC8UNhcghfqm0vwQnmPCV6obTHBC7X9pdEVrgIELwrXO+o5KUAKKKwAwQuFzSV4ob65BC+U95jghdoWE7xQ218aXeEqsBFeCCFk4Q6Dep5GgQ4AKCKVlFVgPQBsoezoNt+BtQJABADWAED/zVcG5UeOv700kaCuzbiFvKbu8DbvkTHG4lJK3KKTDjUViHHO6flZTW9pVAWqAD0wFahx1G1SgBRQWwGKvFDbXxwd7TaitseUsFNtfynyQm1/KfJCbX9pdIWrAMGLwvWOek4KkAIKK0DwQmFz3aERvFDbY4IXavtL8EJtfwleqO0vja5wFSB4UbjeUc9JAVJAYQUIXihsLsEL9c2lnBfKe0zwQm2LCV6o7S+NrnAVIHhRuN5Rz0kBUkBhBQheKGwuwQv1zSV4obzHBC/Utpjghdr+0ugKVwGCF4XrHfWcFCAFFFaA4IXC5hK8UN9cghfKe0zwQm2LCV6o7S+NrnAVIHhRuN5Rz0kBUkBhBQheKGwuwQv1zSV4obzHBC/Utpjghdr+0ugKVwGCF4XrHfWcFCAFFFaA4IXC5hK8UN9cghfKe0zwQm2LCV6o7S+NrnAVIHhRuN7lY8/Z8OHDhw0YMGB5XV1dh9fBmpqanWKx2BjG2NuWZa3qbccNwzhcSrk2Go2+19trqXxwCnDOueM4WjQabQiulc23ZoIXufN+3Lhxoebm5gG2ba9M14sRI0YMWrRo0YquytXW1m65fv16rb6+vrWr87TbSDp1c38+E39pt5Hc+5dJD9z7wCDbtlsAwEmti+BFJupmdK1eVlbWv6mp6bt0tWTy/SV4kU5dOk8K5EYBghe50V21VjXO+b0AcBYA9HcHNyscDp+/YMGCtYZhnMQYe1rTtL0aGho+3tTgDcMYyhg7Ox6Pv9zY2PgZluWcLwEAIYT4qWrCBTUe0zSvkVLe2lX9Usphtm1/1dW56urqwbFY7BTbttHPTR6GYUzVNK3EsqyJ6crS+d4rQPCi95r15ArO+VUAcGcXZUcLIT4xTfN8KeXdeC+TUn7MGDtOCNGcWt40zb2llE8AgAEASwHgPCHE2245ZhjGI4yx891/zywtLT17zpw5seR6CF70xLG+lXF/N8qTrxZChKqqqkY7jvNRaq1SyonJ9z0//CV40Tfv8uEq0zQnufeBNdgfx3GOjUajb6Z8noYCwDzO+bB86LNKfSgrKxsQDofvTwQwTQiFQjsvXrz4CwDQTdO8RUr5a3esXwPAyUKId4K4PxO8UOkTRWNRSQGCFyq5maOxcM5vAoDrAOAlxthTjuPsxRj7BWPsOcuyju0lvNiTMTaPMXaWZVkzcEgEL3pv7LBhw7YYOHBgCV7Z3t7+upRyRjgcfgr/vXDhwtVdzSLhuaqqqh85jlMnhEh7byB40XtfenMFwYveqNXzsmVlZSX9+/ffwruivb19FAC8FQqFto3H40OllAscx9l//fr18/v16/coY2wby7J+ltwCRlS0trYuBIDppaWl9zQ3N1/AGLu+uLjYXLhw4beGYZzHGLsFAEbFYrFYKBR6X0r5qG3b0whe9NyrTEpyzmUoFKrUNK0z2m/NmjUSZ2pxNn3VqlUeZMf7I34WrOSXU7/8JXiRiYO5u9Y0zV3xPiClrLJt23JBxmQhxGAAkF7PKPIiGI8qKiqG67o+B8FQ4pHlOA9emKY5Xkr5kKZp+zY0NHxhGMYVjLErhBA7BnF/JngRjL9UKymQqQJpX1AybYCuz28F7rnnnhs21cNJkyZt8jy+CITD4fUA8GkkEhnrLRcxDGMGY+yMWCw2SNf1A5IjL6qrqyOO40yTUh4FABhOPUsIMcU0zRopJc5s7IDPmgDwjBDiHIQXUsolmqY1SSlPllIullKeFo1GcbaTjjQKcM4/cF+cZnpFOefXupEyxa7+11RXV5vxeBxnjlH/ZTiTXFpa+uby5ctvllKe7V47q7S09CqcQSZ4EexHj+BFsPomfRf+ipETQohfuxFLuwshTsTznPNd8FxbW9vA5BBlwzD2ZYy9GolEtnXveTrnvMlxnAuj0egrnPO3pJSzbdt+yK1nAgDgQ3YtwYvgfd1tt936tbW1tWKkxbhx41hqxEtyDzjnF+G9UAixp/d3v/wleBG810G0UFFRMUrX9VFCiD9g/dXV1TXxeHxROByOYDQpwYsgVP//dWLUk+M4FTgBBgDfe/ACfWhvby/2onLd6Ki5+D1PTKDF/f7+ErwI1meqnRToqwIEL/qqnCLXufBiSjfDuTEdvHB/5D8FAJyVuMurp7q6unjdunVblpWVtTY3Nx+XDC9M03xWSnkMANwhpRyMkENKeUMoFHo0Fotdg1EbCC5cePFMUvgv/m0DAJwOALOFEMcrYkOgw0iFF15YPM40MsbaGGMY4TIjHo/fGQqFfial/BsAmLquf+U4zgE40yGlPIUxVpSYSX6BMXamZVnPErwI1DYgeBGsvlh7RUVFta7riwFgKC4NMQwDl4E02bZ9o9s6w9Qu8Xj8R94DM/7dNM0zpZTnCiH2TYIgLzLG/mFZ1v2JF2LMgXGKt4yEc74HAMwXQmjJM7e0bCQYj03TLMOZc8bYm+5vDf7/VZZlvZHcIv5OxePxL6WUF9i2/bx3zi9/CV4E42+2azUMA5+RDrNte6/ktinyIlgncKIrHo+vSVo20tmgYRijNU3bSUp5PWPsL5ZlTU3uiV/fX4IXwfpLtZMCfVWA4EVflVPoumnTpr0jpRyXMqS04MJ9iD8WZxgxIsK27b90JUvyshHG2CL8MZJSTk8kwboAAPDlAEMDtxVCDDcMo7tlI5j0ogIf/DnnAgBCWF4hGwIbSiq84Jy/JqV8MWlWGCHQdUKIkZtYNqLvuuuuW7W1tb3KGHslMdNxC8GLwCzrrJjgRbD6ug/BGCG2VghxCf7b/W68ZNv2g0lQAkHEGUKI15L+9ivG2BhcFpf0t8ellCts276Wcx6XUu5u2/bneL6ysrJc0zTM3bOVEKJzDT0eBC+C8diDRYyxC3Rdfxvz+ADATan5ftyXnKuFEFXJS+k45774S/AiGH+zWathGAchBAOAzpw4yW0TvAjWie7gBef8RQDAZ9YWd4nxh8k98ev7S/AiWH+pdlKgrwoQvOircopdlwwwGGNzJk6ceEBPhthd5EXytcnwoqOjo03X9U+llJd6LwiGYeC68vPb2tq2KC4u3q2bnBdRIcRh7gsGzpDtJYQY1JM+bu5luoAXKxzHwWU3ncnHDMMYyRj7lxBCr6qq2j0554WbQPX3ibWnh3s6MsZutCzrBoIXwX6yCF4Eq29NTU1FLBaLOo4z3FuCZprmdAQQQgjM4YMHLgeJMcZ2sywLc1x0Hpzz09x72MaZWM75q5j3J3Ffephz/iVj7Bxvpr+qqmqs4zhvCCG2Sh4VwYtgPMacFd9///3g5KWFnPPPpZRTPciOuS9aWloQhE9JgPEnU15+fPGX4EUw/mar1srKyipN03By5SIhxJ9T2yV4EawT3cEL795smubpUsrfRSKRwXV1dev8vj8TvAjWX6qdFOirAgQv+qqcgtfdc889nYmoJk2a1OPPRVLOi/mRSGQfL+cF5xyz+V+o67oRi8X295aNaJpmx2IxTKB2pxDiV+7L8xuJtY0jEUZ4kRcAcI633jQ1YSfnnOBFLz5/XcCLdxhjf/QSolZWVh6hado0IQRPjbzgnOMM9C6app3T0NDQYprmU1LK+gTouJngRS9M6ENRghd9EK0Xl3DOHwaAfkKInyc99E4GgAM9UFpVVTXCcZyFqWvdPRjhPTR7yw8YY6cjsMAIDgB4WwjRuasJ5/xCKeUZqWHnBC96YVgvimLCxQRIqvXuce7vzEeMsQc9UGEYxsmMsbsikUh58tbeWNYvfwle9MK0PCuKW2x2dHR8IqV80Lbt27vqHsGLYE1LhRec8+MTE13NlmV1Rlq4ALIDEyxHo9H3vN749f0leBGsv1Q7KdBXBXr8ktrXBui6wlHgrrvu6lw6ctVVV2GW5x4fnPObAQATQL4kpZzFGNsdABBMvI4vAam7jXDO/4khmBjul8ingMkh7wCAR4QQF9XU1OwUi8X+k/hdmiOlvM627Q8IXvTYii4LdpHzArdRPQcADgaANgBAGPSREOKyqqqqnR3HwcSoY2zbruOcTweArSORyM/Xrl27u5RybiK8+nqCF5l50pOrCV70RKW+lRk+fPiOoVDoC13XR9TX12POi87DzXLfyBgbH4vF3tN1/U+JWyIuKznN3bpvSlFR0e2O43zrOM5njuM8v27dulsikcjlUsqLI5EIxxlA98V4ejweHxUOhztisdhcKeVNtm1jFNPGg+BF3/xLd5UXVQMAB+E2ipzz8ZivJynKBiNq6hlj0yzLehTrC8JfghfpnMrP8xi5s3bt2vmJLTk3xGKxoxljnRM7xcXFX9fX17d7vSZ4Eax/XcCLyzBKV9f1o0pKSv7T2tqK4PkxTKiMPQmHw77enwleBOsv1U4K9FUBghd9VY6uS1ZA45zf6+5e4W1B90JxcfFZ7raBJyUn7Ey8EA9JJPDGDP/7uJXMxpdjL+wvsWf6Yxh54cEPgheZfdgQXrhwqDM02p2twAf2zh1EMKN3v379JiTpjwk7McnqcVLKxgRoeiXxgID72NuJtf//BgDM7k2RF5nZkvZqghdpJepzAdM0ccvSsuScFV5lhmGciy+1AID3svmJZW5H1tfXL/eSezqOMzYajc6rrKwco2naLAAox915GGMTLMt616vHjey40P33TCHEmalbFBO86LOFaS/EaBcAwOgaPDDPyMbQf8457nQ1fe3atWXLli3D3bI2Jm/101+CF2ltyssCnPMT3GeUH/RPSrmnbdvzCV5kx7ZUeFFRURHWdf0+jOp1e/C1F+0WxP2Z4EV2fKZWSIHeKkDworeKUflNKaDX1NTsUlJS0py8/rC7C3B2Y/Xq1fHGxkac/U89MCs/Hg5JHowCtbW1RatXr9a60h/D4Ovr6zu8nRFwVrKpqWl18k4JwfSKavUUIHiRu88CfjdaW1u3xx1IUnqhJ2/Jh+cwimPJkiW4tXDn7GzyUV5evrXjOCx5m9Xk8wQvgvUY72MdHR3Dhg4d+sWmtktN6oWv/hK8CNbfXNdOkRe5cQAnYJqbmwfYtr0yyPszwYvc+EutkgLpFCB4kU4hOk8KkAKkQA4UIHiRA9Gz3CTBiywLnuXmCF5kWfAsN0fwIsuCZ7k5ghdZFpyaIwV6qADBix4KRcVIAVKAFMimAgQvsql2btoieJEb3bPVKsGLbCmdm3YIXuRG92y1SvAiW0pTO6RA7xQgeNE7vag0KUAKkAJZUYDgRVZkzmkjBC9yKn/gjRO8CFzinDZA8CKn8gfeOMGLwCWmBkiBPilA8KJPstFFpAApQAoEqwDBi2D1zYfaCV7kgwvB9YHgRXDa5kPNBC/ywYXg+kDwIjhtqWZSIBMFCF5koh5dSwqQAqRAQAoQvAhI2DyqluBFHpkRQFcIXgQgah5VSfAij8wIoCsELwIQlaokBXxQgOCFDyJSFaQAKUAK+K0AwQu/Fc2/+ghe5J8nfvaI4IWfauZfXQQv8s8TP3tE8MJPNakuUsA/BQhe+Kcl1UQK5EQBKWXx2rVrZ+SkcWo0MAUcx4m3tLRMYIx9P2TIkFcCa4gqzpkCjuMUr1ix4melpaXP5qwT1HBgCsRisZKVK1cePnjw4OcCa4QqzpkCsVhsi5UrVx46ePDgF3LWCWo4MAU6Ojr6rVy58oDKysqtAmuEKiYFSIFeK0DwoteS0QWkQH4pQPAiv/zwqzcEL/xSMn/rIXiRv9740TOCF36omL91ELzIX2/86BnBCz9UpDpIAf8VIHjhv6ZUIymQVQUIXmRV7qw1RvAia1LnrCGCFzmTPisNE7zIisw5a4TgRc6kz0rDBC+yIjM1Qgr0WgGCF72WjC4gBfJLAYIX+eWHX70heOGXkvlbD8GL/PXGj54RvPBDxfytg+BF/nrjR88IXvihItVBCvivAMEL/zWlGkmBrCpA8CKrcmetMYIXWZM6Zw0RvMiZ9FlpmOBFVmTOWSMEL3ImfVYaJniRFZmpEVKg1woQvOi1ZHQBKZBfChC8yC8//OoNwQu/lMzfeghe5K83fvSM4IUfKuZvHQQv8tcbP3pG8MIPFakOUsB/BQhe+K8p1UgKZFUBghdZlTtrjRG8yJrUOWuI4EXOpM9KwwQvsiJzzhoheJEz6bPSMMGLrMhMjZACvVaA4EWvJaMLSIH8UiAf4MVHH320zaBBgzaUl5ev++STTwYwxqC2tva7/FKqsHpD8CJ3fsXjcfbtt98Wbbfddu3pevHVV1+VDB06dENX5VpbW3XHcdhWW20V6+o8wYt06vb9PPrXv3//WCgUkqm1ZMtfghd9968QriR4kRuXYrEYW7VqVfGgQYPa0vUgk/szwYt06tJ5UiA3ChC8yI3u1Cop4JsC3cGL2traU6ZPn/73ZIjw97//fdBdd9019u233/Z1X/ozzzzzx3vttddXF1xwwZJLLrlkr+Li4vi99977T98GuRlWRPAiWNOfeeaZYbfffvt+++2335L77ruv87OKD8U33XTTbq+88ko1/jsSiWy48sorPx4/fnxLam/efffd7W677bax33zzTf9tt922ddKkSf/8yU9+ssIrd8UVV4x+7733KvDfY8eObfrtb3/7ceqLNMEL/z1GeDplypS9ly9fvjXWvtdee/37zjvvnL/lllvGs+0vwQv//c1mjQi5pk2bZj799NO7T5w48cPTTjvtP8ntE7wIzo2VK1cWX3/99bXz5s0re+aZZ17AiRFs7ZFHHqn405/+tHtbW1tRWVnZynvvvfeDnXbaaX0Q92eCF8H5SzWTApkoQPAiE/XoWlIgDxTYFLx49NFH/77HHntsjIB49dVXB999991jgoQXeSCJEl0geBGcjfhgfOSRRx5ZWlq6esiQId/ff//987C1F154Ycgdd9yx92OPPfZ6dXX1mscff7z8oYceGvP+++//FV9+vR5hRMWxxx7704MPPnjJxIkTGx599NGKv/71ryNmz579CkZrPProo8NnzZq128yZM19DYHH22WcffOihhzZOnDjRSh4VwQv/PR4/fvzhe++99xeTJ0+uX758efj000//yRlnnPH5GWec0ZRtfwle+O9vtmpE0DVhwoQD29raQqtXry4566yz/nX66acTvMiCAUKIyEUXXXRQeXn5qs8++2xHD17U1dUNOP/88w+/44473tp7771XXXXVVXuuWbOm+E9/+tO7yd3y6/5M8CILZlMTpEAfFCB40QfR6BJSIJ8UyARe4OzzrFmzalasWNF/xIgRLTfccEPdkCFDOkPg//Wvf209bdq03RsbG7ffeeed/3vRRRct+PGPf7wSz82dO3fb3/72t6OWLFmyPc5cr1y5csv99tvvS4y8uPXWW0eEw+H4lVde2YBlb7/99pq33367XNM0ecQRR9i/+MUv7HzSL1/7QvAiOGeuuOKKPfHlZNiwYWuWLVvW34MXM2bMKHvppZcqZ8+e/Q9sfenSpVuecMIJR73++uuzk5eQvPPOO9v/5je/2X/OnDnPFhcXOzhDe8ghhxx52WWXzT/qqKOaTznllAP33XffLy+55JIo1vPHP/6x7LnnnjOff/751wheBOcrevrcc88NPfzww1sikUgnbDr11FMPGDNmTPNll10msu0vwYvgvA66ZnwBnjp16m5Tpkz5/OSTTz7k2GOPtQheBK36/9WPUW1Lly7tf8wxxyw76KCDjvfgBT5LLF26dMD06dPnYjmEHKeeeur4oO7PBC+y4ze1Qgr0VgGCF71VjMqTAnmmwKbgxcUXXzyvvLx8jdflzz77bNuXX36ZY+QFhldfcMEFh59//vn/HDly5H8feeSRXTds2FD09NNPv4UPbkceeeTP9qlvOwgAACAASURBVNhjj2UnnnjikldffXXH1157jT/77LMv4Qz0+PHjx48ePfpLPPfcc8/t8sYbb3CsB+HF1Vdf/SNcNnLjjTd+/thjj5XPnDlz5LXXXjt3w4YN+m233bbP1VdfPberMPw8kzXn3SF4EYwFmJ9l0qRJBz7zzDMvP/nkk+XJ8AIjMs4444yDq6qqvjZN879///vfh++0007f3XvvvfOTe4MRGa+99lr5M88886b3d1w6VVtbuxzh3P7773/MNddc86G3jATbvPTSS39SV1f3FMGLYHxNrrW5ublk4cKFW8+bN2+HOXPmlM+YMeMNDC3Ptr8EL4L3OhstHHPMMT8heJENpX/Yxvfffx864IADTvDgxS9+8YsxgwYNWnvttdcu8kri8tiHH374tT333PNb729+3Z8JXmTfc2qRFOiJAgQveqISlSEF8liBTcGLcDjcUVRUtDHcvaOjQy8pKelAeHHXXXdVRaPRbbxZjC+++GKLY4455uhXX331WSFE/1//+tfj3nvvvdneOv3DDjvsZ+edd95n22yzTTvOOnvncNb5wAMPPPrUU09dkAovcAZ69OjRzeeee24jSnjbbbftFovFtLvuuuuTPJY0L7pG8CIYG0444YSD99lnny8vv/xycccdd1QnwwuEdldeeeWY+fPn74x5LFatWoXhy/POPffcpcm9ufPOO6sty9r2D3/4w/ve33/5y1+OGThw4Ibrr79+wZ577nly8pItb4bwrbfe+tuAAQM6vGto2UgwHr/00kuljzzyyCjMe3HMMccsvPTSSwXqnm1/CV4E42+2ayV4kW3F/6+9VHgxYcKEcZhby4towzIIilPzEvl1fyZ4kRvfqVVSIJ0CBC/SKUTnSYE8V6Cvy0ZwFmP77bdfd/311y/0hoizGPfee+8/lixZ0v/ll1+u8MLn8fzZZ5+9X3V19cptt912Q+o5DM3ef//9v0iFF1hfqnw777zzqmefffaNPJc1590jeOG/BU899dROTzzxxMiXXnrplXA47KTCiylTpoxctGjRDo899ticgQMHdngREw888MDre+2113+9HuEykBdffHHj8hL8++mnn975YH3xxRdHDzzwwKMmTZo074gjjliO5957773tEAZ++OGHf0seFcEL/z1OrhEjMC6++OJx++yzz3+uuuqqhmz7S/AiWH+zVTvBi2wp/cN2UuEFLvcbMGDAhilTpizAkjhxgqA4NTG5X/dnghe58Z1aJQXSKUDwIp1CdJ4UyHMF+govMDdFS0tL5IEHHvgYh4gh1T/5yU+Oe+65557HyItbbrlln3ffffc5b/hHH330YSeddFL9Ntts0zZ16tS9k88deuih44877rj6VHhx4oknHjx+/Pho6lrhPJc0L7pH8MJ/G5J3AEmuffvtt1/z2muvvYyRQqNGjVqOyR6985gAcvz48fb555+/xPubByPeeOON5zC3Qltbm3booYceNXny5I8QWOAM4ciRI1fgCzNe8/DDD1e8+eabuyTDQPw7wQt/PcZtEWfNmrULJkbVdb1zi1SMMKurqxuCy+Gy7S/BC3/9zVVtBC9yo3wqvMDv8ueffz7oySefnIM9+vTTT7c+77zzfjpnzpxncFtkv+/PBC9y4zu1SgqkU4DgRTqF6DwpkOcK9BVevPXWW9tPnjz54KlTp7695557/heXdCxYsKAUX+K83RiOP/74RbjkY/bs2Ts+8MADY3Ht6VZbbRXDnRrw3Nlnn73kz3/+c9kf/vCHPbrKeXHbbbfVfPDBBzvfd9997+JM9o033jiqrKxs9aRJk36w60KeS5yT7hG88F92nIn/7rvviryaZ86cWblixYp+1157bR1uxXfLLbeM+OCDD8ruvPPO90zTbJ09e/awu+++ex9cAlJWVrbunnvuGXHppZfWY/LOY4899jDMCfOrX/1q8f33389ff/31yhdffPFlhBl//vOfd37wwQdHP/HEE68VFRU555577iEnnXTSIoR7yaMieOGvxwiRDjjggGNPPPHEhRdddFG0paWl5PLLL//xyJEjm2+88cYF2faX4IW//uaqNoIXuVE+FV54y++uvfba98aNG/f1xIkTx2Jy8EceeeRDfGbx+/5M8CI3vlOrpEA6BQhepFOIzpMCea5AX+EFDuv+++83/va3v9W0traW7Ljjjt9OnTp1Lm4RiefefPPNHe6+++49v/nmm/5bb731uksuueST44477is8h1sOTps2bQxeZxjGCiklO+CAA5pSIy8w+z+Gen744YfleB2Wve++++YOGjSoLc9lzXn3CF4EbwFmr//qq68i3m4jmBPh6quv3sP7vGLOmHPOOefTc845ZynuvnPOOef89L777ntjv/32W/X+++9ve/PNN++NeTHw+3H11Vd/dMghh3zt9XrixImj33333Qr899ixY5t+97vffexFA3hlCF747zHuVHDrrbfuhb5g7aNHj/7P3XffPQ+hUrb9JXjhv7+5qJHgRS5U/9+cF9iL6dOnD58xY8aotra2op122um/DzzwwLtDhw7dEMT9meBFbnynVkmBdAoQvEinEJ0nBfJcge7gRW+6vWbNmlBy2GXytThTnZxkMPnct99+W4QRFenawhnRjo4O5m1fmK48ne9cUhBvaWmZwBj7fsiQIa+QJtlTAKEbzuQNHjz4B5AN11inAgjcThWjNrrqHX4/8JrkbVaTyxG8CM5T9A/vaZjbJLWVbPlL8CI4f/Oh5lgstsXKlSsPHTx48Av50J/NpQ/t7e3a8uXLw7iDUPKY/b4/E7zYXD5RNM5CU4DgRaE5Rv0lBVIU8ANekKj5pwDBi/zzxO8eEbzwW9H8qo/gRX754XdvCF74rWh+1UfwIr/8oN6QAp4CBC/os0AKFLgCBC8K3MBuuk/wQk1fk0dF8EJtjwleKO8vRV4obDHBC4XNpaEVtAIELwraPuo8KQBA8ELNTwHBCzV9JXihvq/eCAleqO01RV6o7S/BC7X9pdEVrgIELwrXO+o5KdCpAMELNT8IBC/U9JXghfq+ErzYPDwmeKG2zwQv1PaXRle4ChC8KFzvqOekAMELhT8DBC8UNtcdGi0bUdtjirxQ3l9aNqKwxQQvFDaXhlbQChC8KGj7qPOkAEVeqPoZIHihqrP/f1wEL9T2mOCF8v4SvFDYYoIXCptLQytoBQheFLR91HlSgOCFqp8BgheqOkvwQn1n/2+EBC/UdpqWjajtL8ELtf2l0RWuAgQvCtc76jkpQAoorIBlWf0ZY98DwPec860VHupmO7TFixdvEwqFopzzbTdbERQeeGNj4w7xeHwh53yQwsPcbIcmhBgKAPM458M2WxEUHnh9ff3Ouq6/yzkvU3iYNDRSoOAUIHhRcJZRh0kBUmBzUIDghfouE7xQ22OCF2r7S/BCbX8JXqjtL42ucBUgeFG43lHPSQFSQGEFCF4obK47NIIXantM8EJtfwleqO0vwQu1/aXRFa4CBC8K1zvqOSlACiisAMELhc0leKG+uQBA8EJtmwleqO0vwQu1/aXRFa4CBC8K1zvqOSlACiisAMELhc0leKG+uQQvlPeY4IXaFhO8UNtfGl3hKkDwonC9o56TAqSAwgoQvFDYXIIX6ptL8EJ5jwleqG0xwQu1/aXRFa4CBC8K1zvqOSlACiisAMELhc0leKG+uQQvlPeY4IXaFhO8UNtfGl3hKkDwonC9o56TAr4qMG7cuFBLS8vBuq6/XV9f355ceUVFRVjTtMP79+//Sl1dXYevDVNlXSpA8CLYD0Ztbe2WbW1t/RctWrQitSX8LjQ3Nw+ybbsFAJxN9WTEiBGDuqoDr8E21q9fr9XX17d2VQcl7AzW4+5qHzZs2Bb9+vUbKIRAf2VQ/lLOi9z4m61WCV5kS+n/aUcvKyvr39TU9F26HmRyfyZ4kU5dOk8K5EYBghe50Z1aJQUCVcA0zWuklLd21YiUcpht21+lnuOc9weA7+Px+A6NjY3fJJ+vrKys0jStPhQKVS5evLixq3oNw7giFAo9VV9fvzzQwW0mlRO8CMbosrKyknA4/DgAnIotMMbqAeAIy7Ka8N+maU6SUt4NAGvw347jHBuNRt9M7Y1pmntLKZ8AAAMAlgLAeUKIt91yzDCMRxhj57v/nllaWnr2nDlzYsn1ELwIxmOstaysbEA4HL4/EQAxIRQK7bx48eIvamtri9asWTOdMXam27INACcIIRYE4S/Bi+D8zVLNOud8EgDcIaU8xbbtp5PbJXiRJRf+fzO6aZq3SCl/7f7pawA4WQjxThDfX4IXWfeXGiQFeqQAwYseyUSFSIHCUgBnFgcOHFiCvW5vb39dSjkjHA4/hf9euHDh6q5mkzcFL9zRa5uaheacS03TahsaGj4tLLXys7cEL4LxhXN+EQCcG4/HDxg2bNi6lpaWv0kpv7Nt+0zTNHeVUi6QUlbZtm25IGOyEGJw8gw9RlS0trYuBIDppaWl9zQ3N1/AGLu+uLjYXLhw4beGYZzHGLsFAEbFYrFYKBR6X0r5qG3b0wheBONrcq0VFRXDdV2fAwDzEre84zx4wTm/Cr2XUh44ZMiQFc3Nzdcwxk6LRCIjkiPK/PKX4EXwXgfVghuJ+A8A6AcApYyxyZZldf6GegfBi6DU77pe0zTHSykf0jRt34aGhi9wwoQxdoUQYsfkK/z6/hK8yK6/1Bop0FMFCF70VCkqRwoUqAKc8w/cF6eZOAScfVy7di3OJJ0LAOsZY/dZlnWbBy8AYDIA/NId7tVCiCdramq2icVin4fDYdNxnEhHR8cnAPBI4vpfOY5ziqZp+FKGM9BfSynvs237tgKVK2+6TfAiGCsMwziaMfa9FyVhmuYFjuOcadv2XhUVFaN0XR8lhPgDtl5dXV0Tj8cXhcPhyIIFC9Z6PTIMY1/G2KuRSGRb96UXZ2ibHMe5MBqNvsI5f0tKOdu27YfwGs75BADAh+xaghfB+JpcK0bFOI5TwRh7DqPJkuDFa1LK123bvte9FyKEWqtp2l4NDQ0f++0vwYvgvQ6qBXwBXrt27c2xWOwaXdffZ4zdS/AiKLV7Vi/ej9vb24sbGxs/wyvc6Le5QogQAMT9/v4SvOiZL1SKFMi2AgQvsq04tUcKZFmBVHjBOT8BAKZJKQ8BgO0ZY69IKfdjjGHo+/cJvvFSPB6fouv6MYkHgut0Xe/f3t6+ha7rGKK5FQDg8hJcdvICY+zOoqKiBsdxto3FYlHG2PGxWOy91GUnWR6yEs0RvMiKjRqCBgB4XwhxfWqLhmFMAYDDEGykvByfifBPCLGv93fO+YuMsX9YlnV/IroD82ic4gESzvkeiaUp84UQGL20MccCLRsJ1uPq6upIPB5fkwQv/pyIvFgmhPgVtlxTU7NTLBb7j5TyZNu2/+L1xjRNX/wleBGsv9mqnXP+T4IX2VI7fTuGYYzWNG0nKeX1jLG/WJY1NYj7M8GL9F5QCVIgFwoQvMiF6tQmKZBFBVLhhWEY5zLGpjDGjrYsC5d4dL5MJUVejMQ14G7o5dp4PP4jfOBPhRfxeHzHxsbGZUkvb7RsxEdfCV74KGY3VRmGgQ+/Z7S1tdWmJn8zDOMgxhjmuhgthMBIo40H5/xXjLExlmUdm/T5f1xKucK27Ws553Ep5e62bX+O5ysrK8s1TVuC8E8I0ZlLAw+CF8F63AW8OAoAnpdSXurmKUH/x0opz7Nt+7EkL33xl+BFsP5mq3aCF9lSumftICgGgHEA0MIYO8uyrA+DuD8TvOiZH1SKFMi2AgQvsq04tUcKZFmBLpaNYKg0JrI7G5d5AMADQoipnPMtUxN24gyy4zhHSimXpsKLtra2LZqamjYQvAjGUIIXwejq1WoYxsmMsenxeHxsY2MjJu3ceLgJajFfwkVCCJyt/8HBOT8NX4CTIzI4569i1JIQ4mHO+ZeMsXMsy3oDL6yqqhrrOM4bQgiMXNp4ELwI1uNUeIGtYVSF4zgXJJa6oRcPI7iQUk60bRsjcDoPv/wleBGsv9mqneBFtpTuVTuYvPN0KeXvIpHI4Lq6unV+f38JXvTKDypMCmRNAYIXWZOaGiIFcqNAKrzweuGu6T0Mk3ni7IWUEl+0frDbSG/hBWNsD8uy6nIzUrVaJXgRnJ+c830A4APG2AGWZWFix40Hbq2HOV2klA/atn17V73wYIT30FxdXV0cj8cRWJyOwIJz/hoAvC2EuNN9Gb5QSnlG6vITghfBeYw1p8IL0zTLGGNtDQ0NuEUqDB8+fIdQKIRLfMqFEP/2euOXvwQvgvU3W7UTvMiW0ptuh3N+fGIHp2Yv0sJNqtrhOM7+0Wj0Pb+/vwQv8sN36gUpkKoAwQv6TJACiivQxbKRKwBgZP/+/S9ub28Pt7e34+4Kv2CM4cxjJvDiy0Q+jHsikciDyZn7FZc3sOERvAhG2qqqqkrHcWzG2FWxWKxz60NN0yRuH+wCvfmJrfg2xGIxTOzZuaSquLj463Xr1m0ZDoenFBUV3e44zreO43zmOM7z69atuyUSiVwupbw4EolwnAFMiuoYFQ6HO2Kx2Fwp5U22bf8+eVQEL4Lx2Ku1i2Ujl2M0DQAcIKVsxzwGjLGBlmX9zN1a1Vd/CV4E62+2aid4kS2l08KLy3D7aV3XjyopKflPa2vrzwHgsba2toF4pd/3Z4IX+eE79YIUIHhBnwFSYDNTAOEF7gyCu4bg0KuqqnZ2HOcZXMvvSvGHtra2S8LhcFFX8EJKOd5xnH+nWzZiGMYljDHcZeRRIQRuSUhHBgoQvMhAvE1cyjl/MLFc6uLUIkII5iaz/WvqOSnlno7jrNV1fbHjOGOj0ei8ysrKMZqmzcJZe8wJwxibYFnWu961nPOHAeBC998zhRBnpm41TPAiGI+7gxduHp8ZiXQjmLQYpJQfM8aOE0I0V1RUVPvtL8GLYP3NVu0EL7Kl9KbbqaioCOu6fl/SffVrL9otiO8vwYv88J16QQoQvKDPAClACnQqsNtuu/UrKipq9zlKAqO5cEeFjduWkdx9U4DgRd90C/gqPfWzPXz48B2XLFmCiWs37iLi9aG8vHxrx3FYajJQ7zzBi4Dd6qZ63PqZMVa0aNEiXDKSfPjqL8GL3PibrVaFEEMBYB7nfFi22qR2AHC5SHNz8wDbtlcG+f0leEGfNlIgPxWgZSP56Qv1ihQgBTZzBQheqP8BIHihtscEL9T2l+CF2v4SvFDbXxpd4SpA8KJwvaOekwKkgMIKELxQ2Fx3aAQv1PaY4IXa/hK8UNtfghdq+0ujK1wFCF4UrnfUc1KAFFBYAYIXCptL8EJ9cwGA4IXaNhO8UNtfghdq+0ujK1wFCF4UrnfUc1KAFFBYAYIXCptL8EJ9cwleKO8xwQu1LSZ4oba/NLrCVYDgReF6Rz0nBUgBhRUgeKGwuQQv1DeX4IXyHhO8UNtighdq+0ujK1wFCF4UrnfUc1KAFFBYAYIXCptL8EJ9cwleKO8xwQu1LSZ4oba/NLrCVYDgReF6Rz0nBUgBhRUgeKGwuQQv1DeX4IXyHhO8UNtighdq+0ujK1wFNsILIcT/7FFfuMOinqco0AEARaSKsgqsB4AtlB3d5juwVgCIAMAaAOi/+cqg/Mjxt5cmEtS12QEATd3hbd4jY4zFpZT65q2C0qOPcc7p+Vlpi2lwhaYAPTAVmmPUX1KAFNgsFKDIC/Vtpq1S1faYdhtR21+KvFDbX4q8UNtfGl3hKkDwonC9o56TAqSAwgoQvFDYXHdoBC/U9pjghdr+ErxQ21+CF2r7S6MrXAUIXhSud9RzUoAUUFgBghcKm0vwQn1zKeeF8h4TvFDbYoIXavtLoytcBQheFK531HNSgBRQWAGCFwqbS/BCfXMJXijvMcELtS0meKG2vzS6wlWA4EXhekc9JwVIAYUVIHihsLkEL9Q3l+CF8h4TvFDbYoIXavtLoytcBQheFK531HNSgBRQWAGCFwqbS/BCfXMJXijvMcELtS0meKG2vzS6wlWA4EXhekc9JwVIAYUVIHihsLkEL9Q3l+CF8h4TvFDbYoIXavtLoytcBQheFK53m13PKysrqzRNO7O4uPj2hQsXfrvZCZBnA+acc8dxtGg02pBnXVOiOwQvcmfjuHHjQs3NzQNs216ZrhcjRowYtGjRohVdlautrd1y/fr1Wn19fWtX52m3kXTqBnM+W/7SbiPB+JetWt3PySDbtlsAwEltl+BFtpz4YTvZ+v4SvMiNv9QqKZBOAYIX6RSi85tUoLa2tqi1tbU9tRBj7BrLsm7zUz7O+dkA8LimabUNDQ2fmqZ5ipRykBDiPj/bUaEu0zSvkVLe2tVYpJTDbNv+qqtz1dXVg2Ox2Cm2bd+bTgfDMKZqmlZiWdbEdGXpfO8VIHjRe81Sr+CcLwGA8uS/CyFCABAvKysbEA6H709MkE8IhUI7L168+AssZ5rm+VLKuwGgv5TyY8bYcUKI5tS6TdPcW0r5BAAYALAUAM4TQrztlmOGYTzCGDvf/ffM0tLSs+fMmRNLrofgRWYeu78/cwFgtOM4w6PR6FLO+VUAcGcXNY8WQnySTX8JXmTmby6vNk1zknsfWIP9cBzn2Gg0+mbKvWQoAMzjnA/LZV9VbNswjKMZY8/hM58Q4lxvjNn8/hK8UPGTRWNSQQGCFyq4mOEYhBA3YBWc887/9uZIghfzEw/xs7xrNU37uKGh4ePe1NWTsuXl5VsvXbp0tfuS8bKUEh9IB/Xk2s2pzLBhw7YYOHBgCY65vb39dSnljHA4/BT+e+HChajf/8wi4bmqqqofOY5TJ4RIe28geBHsJ4rgReb6cs5lKBSq1DRtFda2Zs0a2dTU9F1FRcVwXdfn4ItH4itxnAcvTNPcVUq5wHGc/devXz+/X79+jzLGtrEs62fJvcGIitbW1oUAML20tPSe5ubmCxhj1xcXF5sYFWYYxnmMsVsAYFQsFouFQqH3pZSP2rY9LbkegheZeWya5tVSyiMAYJ94PF7R2Ni4pKysrKR///5beDW3t7ePAoC3QqHQtvF4fGg2/SV4kZm/ubrauw9IKats27ZckDFZCDEYAKTXL4q8CMahmpqabWKxWJOUcjEAWLZtn+U+82X1/kzwIhh/qVZSIFMF0r6gZNoAXZ//CrjwYgoA3NhbgJEEL35Ax3HUnPPdAOAZx3EmRqPRV9yZznlSyt/Ztv2gaZr3SCn3Y4y9KqWcKKX8qaZpx+Df8LrE7Oh1OPOpadoNlmV9aJrmcVLKqQBwJABcDgAXuuramqad8v/aO/cAOaoqjZ9b1T0dTAMiCowJEuZRt3qGBNjIS1iJwLqoi6irIvJUUB6yykMQFUQiriACogu4sLpohAUFloeiAgZ8ICoGJZBJ3ZoJjhBJAFFIMiGTqaq7fWarYqUzr3R3dU9Vf/XXTHfVffy+7upb3z333CAIeJB6nmmaB/f19a2WUh5CRNcZhnECGymWZT0ihPgDEbUT0SGmab5248aNXaZpXkpEC4joUSHEQsdxfjb9VZt6C6WUvwwfnBZFV0kpLyAiHhC0semklPpMT0+P7fs+zxzvREQreSa5vb39gdWrV39Ba81RL3zc3N7efi7PIMO8mLoG1ZwJ86Iaan+/Zt68eTOHh4fXcaTFggULRDzqgaMmgiDoCmf21sTMC45Y2ksp9f7wHrY7R1UMDw/vwKZHVLplWQfxfatYLO64ZMmSESIypZSDQRCcyvc6KeVPtda3u657bVjOsUR0llJqPsyL2nSNru7t7e3yPK/f9/1e0zSXReZFZelSyu+xhkqp88OItIbpC/OiPlo3upSurq69TdPcWyn1La67p6en1/f9JwuFQnHp0qVDUXtgXiSjjG3b1wdBkDcMww2CwIqZFw29P8O8SEZflAoCtRKAeVErwQxcHzMvSAjxkGVZb5lqt2LmxaJCoXBadN3SpUvXd3d378sRGFprXoZwS+imv6i1vsh13YVSypuI6IM8sBRC3MUP2OWIgM+Frz2stX5MCPFvRPSLcjj2m6WU/LDNg4k9tdadQgg2HSyt9TnloIFb2cDQWl/u+/6uAwMDK23bPkJrfTcbFUqpB6WUazgUnIgeFkL8loi+qLVmM2Oj1vpKIcTRRDQvl8vtEYWQT5XDdD6v0ryIwi45DFYIMSyEuJGIbvR9/8u5XO5ftNa3cfS8aZp/DoLgLVrra1lDIUS+PJN8lxDiRMdx7oB5kazqMC9q42vb9hyeZRdCPKC1fjcR8d/nOo5zX1RyT09P0ff9tZF5YVkWLwMZdF334vAcwaldfN//h4GBgd9H19m2faLW+mSl1EHRa1LKu4UQ9zuO83UpJefAODpaRiKlfCObo0opIz5zi8iL6jVm3lrrJ13XvUBK6Y9lXnR1dfWwsUFEs3jpT6P1hXlRvb7T6UrLsnhy53DXdQ+ItwvmRf1VCu+Vi03TtIIg+FDcvGj09xfmRf31RYkgUA8CMC/qQTHlZcTNC+7K1hgY4+W8CIKgh4i2m6J5MTqw5LojQ6Otre01HH4tpfwOER3HZRHReyPzQim11LbtzZaN2Lb9ySmYF6va29t7eRa2u7v7MMMw7hdCcATHT8oP8Pyw86DW+gTXdbneTByV5oWU8sds6sRmhZnrhUqpPSdYNmLOnTt3u+Hh4XuFED8sz2ZfAvMi2Y8HzIva+EaGgRDiFNM0F3MuFyJaGM/5UmlehN+NezgyLGZKsBFxglLqx7HXPiWE2M9xnPfEXvum1vq56GGaIzhc132c3+/u7u4wDIPzb2ynlBpdQ88HzIvqNA7v3Wx+dymlhsYzLyzLurFsWA0ppT4W/r7wva9h+sK8qE7f6XSVZVmHsgHKeVU4ZwrMi0TVYbOYl9hx1NpVvCwsbl40+v4M8yJRrVE4CFRNAOZF1eiyc2GlecE94xn3UqnEa8InPGLmBUcz/Fd08oYNG+7M5/NyCubFEUopNiZG2qS2HAAAHOVJREFUj9C82PRaeVB6YfjA8TohxBF1MC9+pJQ6iuuybfsMrTUn7Nvs4KUprut+drK+p+X9McyL54IgOCZKPmZZ1p68nEYpZZZKpb3iOS8sy5olhLihnBvgbVF/hRAXO47zeZgXyX4CYF7UxpfzUqxZs2YXTuIYu788Hn6/b+XXKs0LDldmA0IpxfcdPng5iCeEmOc4Due4iO5Tx2itz4jPxEop7yWie8o5eK6TUj4jhDgpivIolUr7B0FwX/xexwXBvNh6jXmngdWrV7MpdLnjOBw1ZrB5wblNli1bNhCVGC0riRJ5hvf8huoL82Lr9Z1OV4Q7nHFenNOUUmyWbXYg8qK+akkp30dEl/q+3zMwMDBcaV40+v4M86K++qI0EKgXAZgX9SKZ4nLqtGxki5wXlmXtEy7POFMpdXU0mKxYNlI388KyrLOFEFfEdiPh0G4OA9+0bISjBhzH4RlYNko4d8Zd5WUphxaLxXhy0ZFwHXuKVf1708cwLx4UQnw7HPjzrPA7DMO4UiklKyMvpJQ8A727YRgnLV++fJVt2/+jte4rGx1fgHmR7McD5kVtfDnpXtlMmB99zrm0MO/NNUqp745lXkgpzwvvF4fz+6VSaY8gCJ6oXOsemRHFYnGXJUuWrO/p6WnzfZ8Ni+PYsOAZQiJarJQa3fVCSnlqGNG1Wdg5zIut17i3t/cNnuf9aawreWcYXtIWMr+ubHDMVEodH53baH1hXmy9vtPlCt4CeWRk5Hda62tc1+UlqlscMC/qq5ZlWZwgOdqhKV64y+OTRn9/YV7UV1+UBgL1IgDzol4kU1xOUgk7bdvesTw7+ZdyDgtXa32JYRhHcWb4epkXUkoenPJDwcfy+fwtnufx+nPOyfDDcqT2TVxnuE3imOYFbwvq+z7v385b7X1Oa72vEOJLQoj3Oo5ze4ol3azpY+S84KRXJxHRYUQ0TER3EtEjSqlPlEql3YIg4Czf+7muu0RKeT0RbV8sFo8fGhraS2s9ygrmRfKfDpgXtTGOzFI2J8OcNxy5dVd8Jr4y8iLchWSAo7w8z/u5aZq8fIyXHRwTJhy+KJ/PXxoEwd+CIPh9EAR3rl+//pJisXim1vr0YrEo2cywLOsDQojrfd/fu1AojHiexzl8Frquy1FMmw6YF1uvMUdevPDCC3OiKz3PM3lHAq31YTNmzPg1J1Ts7OzcNZfLPW2a5h59fX2c82L0aLS+MC+2Xt/pcAVHbQ0NDT2qtd7geR5v2Tm6w0hbW9vzfX19m7aGh3lRX7U6Ozt3mjFjxqZIXN/3T+flvKZpnsl5yBr9/YV5UV99URoI1IsAzIt6kUxxOXXaKnWLyAtGIqVcyPkUQjzfCM2GeMLOqiMvwsgOjgzgCI8DN2zY8FihUOBZt2iJA++uwfkyxjQvwvaN7kjCk7L8vxDiKsdxzi232U+xpFuYF0T0jWi2mQf/q1at4uSoozuI8I4LM2fOPJYfukImnLDzX3kWU2vNYdhsBvE+9m557f8f2eyBeZH8pwPmRe2MOeIh/H5zYZxrYrPw70rzgk+yLOtkIQRvacrJfR81TfOdvHtRlPwxCIL9+/v7f9Pd3b2fYRi8PXQH784jhDg2vlNRZK6GvViklDqxcotimBe1axwt7Ykn7LRtm/WbE89JEtXUSH1hXtRF34YXEi5f4F1qNjt4gsN1Xd4WfvSAeZGsNLw7UBAE3dFuI42+P8O8SFZflA4C1RKAeVEtOVw3ZQKzZ8/eZubMmbl4oropXzy1E3nmbZPZ0NHRsb1hGBt4zeTULieaO3fuDm1tbeuytFxksr5zvpKXX37ZGIsTh8H39fXxFpCjM0486zw4OPhyfKeEycrH+7URgHlRG7/oav4sj4yMzJ41a9bT8e1SJyo9zOXzuiiRcOzcze41/DrP8q9YsYK3Fh79rsQPvhcFQSDi26zG34d5UR+Nt7aURukL82JrlUnX+TAvmqNXo76/MC+aoy9qBYHJCMC8mIwQ3gcBEACBJhCAedEE6A2uEuZFg4E3uDqYFw0G3uDqYF40GHiDq4N50WDgqA4EpkgA5sUUQeE0EAABEGgkAZgXjaTdnLpgXjSHe6NqhXnRKNLNqQfmRXO4N6pWmBeNIo16QGDrCMC82DpeOBsEQAAEGkIA5kVDMDe1EpgXTcWfeOUwLxJH3NQKYF40FX/ilcO8SBwxKgCBqgjAvKgKGy4CARAAgWQJwLxIlu90KB3mxXRQIbk2wLxIju10KBnmxXRQIbk2wLxIji1KBoFaCMC8qIUergUBEACBhAjAvEgI7DQqFubFNBIjgabAvEgA6jQqEubFNBIjgabAvEgAKooEgToQgHlRB4goAgRAAATqTQDmRb2JTr/yYF5MP03q2SKYF/WkOf3Kgnkx/TSpZ4tgXtSTJsoCgfoR2GReKKW22OatftWgpCYT4C0v801uA6pPjsArRLRNcsWj5CYRWEdERSJaS0TbNqkNqDZ5Avzbi4mE5Dk3q4aAiIxmVY56kyUghPC11ryFMo5sEvCklBg/Z1Nb9CqlBDBgSqlwaDYIgEC2CSDyItv6cu8QeZFtjRF5kW19EXmRbX0ReZFtfdG79BKAeZFe7dByEACBDBOAeZFhccOuwbzItsYwL7KtL8yLbOsL8yLb+qJ36SUA8yK92qHlIAACGSYA8yLD4sK8yL64RATzItsyw7zItr4wL7KtL3qXXgIwL9KrHVoOAiCQYQIwLzIsLsyL7IsL8yLzGsO8yLbEMC+yrS96l14CMC/Sqx1aDgIgkGECMC8yLC7Mi+yLC/Mi8xrDvMi2xDAvsq0vepdeAjAv0qsdWg4CIJBhAjAvMiwuzIvsiwvzIvMaw7zItsQwL7KtL3qXXgIwL9KrHVoOAiCQYQIwLzIsLsyL7IsL8yLzGsO8yLbEMC+yrS96l14CUzIvpJSvJ6K1Sqm1Y3RVSCnblVLPjoVh9uzZ2xQKhdeuWLHiz0TE+51vdkxS9nhka6pzvEL32GOPnQuFwl+XLFkyUnnOggULcs8999wsIcSqvr6+jemVvLEt7+3tfYPnefsJIRY7jvNiY2tHbSCQXgIwL2rTju/Zq1at2kkptYqIdGVpfL9/8sknn6utFqKJypk/f/6rXnnlFaOvr2/dWPVgt5Fa6Sd/fS36ImFn8vo0swaYF82kP7W6a/n+wryYGmOcBQKNJjCheWHb9sFa6+8R0U5hw+7xff/YgYGBNfy/ZVlHCSG+Fr7/PBGdoZT6Pr83Z86cGYVC4Yby5MOx4bVsfByrlLqb/5+s7PFA1FLneGWWSqU9giC4iYjmsUlT7s+1Sqnzo/MtyzpbCHFF9L8QYqHjOJ8fa0DcaAGrrU9KeQERfWGc64+MdBrrfdu2j9Za76yU+upk9Yd63RIEwf79/f2/mex8vA8CIPD/BGBeVP9JkFJeRkSnEdG2RPS8YRhHLl++/Nfhb8+btNb/zT9hRPQUEX1EKbW4sjbbtq/UWp+ltT7edd1FY7w/UTnCsqxvCCE+Gl63qL29/cMPPfSQFy8H5kVNGl9T1vb0ihIOUko9HH+tUsdSqbR/EASPVNastT7bdd2rotdt265ZX5gX1evbzCsty+KJqpXxNmit73dd963x12BeJKeSlHIFEXVU8M6VSqV9GvX9hXmRnL4oGQRqITCuedHT09Pm+/4wET0mhDgnCIKDhRD8wH6eUuryrq6uTtM0B7TWPCDkgeKnhBA8KOjs7+9/yrbtc7TWXxFCnKu1foyI2MjoME2zwA2eqOzxOlRLneNFS3R1dRVM0/wtEe2utf4IER0uhDhRCPFex3FutyxrXyEEP3Qv0lrfYBgGD2bfnfaH8XAAt3/ImgdsPIj/Ov+fy+V+sGzZsoHxdLBt+wda632UUjtP9uGDeTEZIbwPAmMTgHlR3SfDsqzjhBBfMQzjoOXLl/dLKT/Fxnp7e/vua9eubVu3bt0TRHR9e3v7Fc8+++wpQojPtbW12U888cTfohqllAcS0Y+IaJXW+ouu634n3hqOqJioHMuyPiKEuISI9vY8z8vlcr/QWv+n67pXwryoTtfKq2zbvkNrfUdbW9sPo/d23HHHtXGDaCwdOSLnxRdfZFNr9Ni4ceM27BUGQfCe/v7+B/i1eukL86I+Wje6lK6urr1N07ylra0tGiPxmHWkMoIK5kVyykgpdS6X6zYMYzRid+3atXpwcPClRn5/YV4kpy9KBoFaCIxrXvT29nZ5nvcfWuvLXdf9aRiCy8spblZKHWNZ1vlCiC8JId7oOM4S27bna61/R0TnK6UusyzrIiFEp1LqeG6gbduf4UGg1rqUz+d5PDdu2eN1qJY6Xdd1xio3nF3hmZozlVJXh4OW1UT0K6XU4ZZlvbu8VOSUfD5/AocYW5Z1kBDiF0R0slLqm7XAny7XSik5kuaXSqm3xwbv7ySiTxLRXvyeEOJC1llKeR0RnRqe5xqGcfTOO++8dNWqVZ8mohOJ6HV8vu/7Hx0YGFgJ82K6qIx2pI0AzIvqFJNSPiiE+LbjODeyCd/X1+d1dHRs+9RTT70c3r/vLRaLO4bLA00p5WAQBKf29/ePPgSHxv0T/PsWBMEHiei7lebFZOVIKX+qtb7ddd1ruUwpJUcgnqWUmg/zojpdK6+yLOsRwzDOcRyHJxf8yvenomOoDUfofEgptW9URr30hXlRH60bXYpt22/lSBweA/LYtzJiKmoPzItklJk3b97M4eHhdUqp3IIFC8R4/JP+/sK8SEZflAoCtRKYUs4LrqS7u/sdhmH8QAjxccdxvm5Z1o1CiBP45hIOHHgQ6Gmtb3Rd90PxhoXGx6/YwxgeHt5pcHBwQ/z9yrInMC/qVmdUh23bJ3IIsWEYB0RhxVLKH/OM2ViRBWE48nlBEOzd39//h1oFmA7XV5oXlmXtI4TgaBSOurlNa82hudubpml5nneAEOJSDrnWWp9DRLcKId5UHvPz8iIOk36GTSoi+r5S6v0wL6aDwmhDGgnAvKhONSkl57H4ChF9nIhmE9HicOnHn8P7PRvPB0WlSynvFkLcz79r4WD4TK31Ua7rHmhZFv8WbGFeTFZO2Iajo+UoUso3EtGjSikjvtwQy0aq0zjU6Rki+jkRscH0vNb6snhki5RyUh1Dg4N/s05xXffOinHBuJ+TqeoL86J6fZt5ZWg28v2DI4V5OfFiwzA+vHz58j/F2wXzIhmVbNueo7VeKoR4gCOdiYj/PtdxnPviNSb9/YV5kYy+KBUEaiUwJfOiq6urxzTNX/OD6YYNG+az+SCl5EGDjD/ghz/ofUqpt8Qaxsk1efbpVK310a7r3hJv9Fhlh1Ef/xidFwTBiv7+/p/XUmdPT0/R9/33RWVqrV/htliW9TkhxMWGYVgcYhwOijhE+LhisdgWT94Z5nq4mR/SlVI8W5OJo9K8kFIuLBtSF+Zyud2WLVv2tGVZbxNC3Ku1/oDrurdWLhvhaJWXXnqpWCgUXjIMY4eRkZGlDIY/GzAvMvERQSeaQADmxdZDDyPnhvhKIcQ/+77/jGmal2utOXHnvryERAixn+M474mZF9/UWj/nuu5nOjs7d8rlcrxk7hCl1O8sy+LB8hbmxSTlXCCl9LXWe7mu+zjX093d3WEYBq/h3i6e+BrmxdZrHNONk7Bel8vlrvR9f0+t9W1ENJqvaao6hibUp5VSpXhC8XrpC/Oien2beaVlWWcJITi6+DjP81aapsljom6l1J4wL5JXJjJ7OerZNM3FnucdTUQLtdazXdfl5P+jR9LfX5gXyWuNGkCgGgKTmhehA8phmRu11vtHN46pRl5ED8JEdIFSimfkNx3jlR263psSpEXRHLXUGdb1x1j1z/PD9VQjL6IHeF4HXSwWjxxrR5JqBJgO14xhXvAMFA8CRz8f4Y4hf9Jaf9513YsrzYuQLS+hOaTih52T1nFSVyTsnA5Cow2pIgDzojq5eK10OW3BPUopXvpGpVJptyAIBvP5/C4jIyOHaa3PcF33gNhD8L3h+ddZlsXRF8UoepDNi7KxfTMvQYm3Rkp5zETlSCmfKZv9J0UzhWGOofuUUtvFy4F5UZ3GfJVlWbbrujzhMLpkJEzMOUMpdfpUdAwjQlU5EuYipdR3k9AX5kX1+jbzStu2d8zlcrloNyLLsl4rhHih8uEZkRfJqMQm9Jo1a3bh/Hmx+/TjWut/5wk0fq0R31+YF8noi1JBoFYCE5oXPT09u/i+z/kgirlc7sB4Esco/4RhGPOXL1/+WGXOi3BwMbpLBy8zcByHcyJsOiYqO4yS4NwJo0d5ecJa13X/Ukud4Y1u16hMTrqxYsWKZybLecHnh0m/fsmhg8Vi8YglS5asrxX8dLp+jGUjnGj1nLa2ttdwEruIkdb6BF77XWleRKYSJ3WdMWPGExs3bryjPFvZVc4JsivMi+mkNNqSJgIwL6pTy7btZWx4c2JpLqFUKrUHQcBbec8yDOMNQRDcVywWd+H7eBR2zDOsbDSw6RAuNams/GtKqU9EL0ZmxATl8HKTxUqpL4e/IRx5yPfPTaYJvw7zojqNOzo6ts/n86eapnlVlIw7nCh5vVLq5KnoaFnWB4QQlxeLxY7KyYh66Qvzojp9m31VuJR5vVLqQW5LOCblneg6lFKbJsFgXiSjlG3bczlvbtw05hw3QohrIqOxEd9fmBfJ6ItSQaBWAhPtNsLLLNi4mCeEuCEIgii/w195uUXFzh88QDsvvttIPHqCZ6iidb5BEPykra3tuYnKHq9TtdQ5MDDAIbtbHBW7jXxUCPFPRPTh8rjyfUqp28JtVDlfx7ZaazZgRreJFUI8XrklW61iNOv6MSIvDucIEyHE/5Z3j1kkhOB+78OZn9nAipJ2aq0/ls/nb/E8j5N4vp+I3iWE2Jmz6pcTmq6EedEsRVFvFgjAvKhORSklJxT+bNk8ePPQ0NDqYrF4tdb6YKWUZLMiCILfB0Fw5/r16y8pFoucF+H0YrEo2czgKA3DMPJRzZ7n8TLB233f/5bneSOFQuGifD5/aRAEf5uonHBgfb3v+3sXCoURz/Me1lovdF2Xd93adMC8qE7jcgi5IaVcJYT4quM4X5ZSdoX5L87hh5uJdBwYGHihvE045+jqE0Jc6TgO/17x9u6vrre+MC+q1repF4YRuReWk7MfahjGs57ncQL643lME28YzItkZAqXjnNU1aFsIEkpjyjnobsr2s2wUd9fmBfJ6ItSQaBWAuOaF93d3SXDMPoqKxBC9DmO08uvhwO0q4loJ06YxdvRKaW+z+9JKW8KE2lVFvGucgZ33qViwrLH61i1dSql7hqvTDYoyrug3Kq17gnPuUwpdX7YR97y7vrKa7XWV7iuy7txpP4YZ7eRM4mITQvWlkP3OFP+3SETTuh5DRsa5UR3vKXgsNaaQ6/5XM53wVvstsO8SP1HAx1oIgGYF9XBD6MpOM/SSWEJfP96u1KKlwhw/on9eCkIz6KyySqEONZxnJ+NVVu4a8i3OeIszM+0LNome7JyKnZmWqSU4t2Ygng9MC+q05ivCqMj+Hedf3f4+KpS6ux4QtSo9LiO4fjkSN4ud2hoaM7KlStf4deS0BfmRfX6NvPKMe4hfJ94u+M4vM3ypgPmRXIqhSY0T4zxwVEvpyml+LmCny8a8v2FeZGcvigZBGohMGnOiykUzjMguymlOAvzZgOzKVxb7SmJ1NnZ2bmr7/svVO6GUm0jM3CdmDt37qt56cg4fTHjW9RxKC9vR5iBfqMLINB0AjAvapNg7ty5OwwPD78qnuAtXiLf71esWLFyrIfdCWre7J7H501UDt8TgyAQg4ODL41VJsyL2jTmIEjbtnebOXPm83VazllXfWFe1KxvUwuQUm7red6reYnxWA2BeZGsPGwijYyMzJ41a9bTE22XGmtFXb+/MC+S1Relg0C1BOphXlRbN64DARAAARAYhwDMi+x/NGBeZFtjmBfZ1hfmRbb1hXmRbX3Ru/QSgHmRXu3QchAAgQwTgHmRYXHDrsG8yLbGMC+yrS/Mi2zrC/Mi2/qid+klAPMivdqh5SAAAhkmAPMiw+LCvMi+uEQE8yLbMsO8yLa+MC+yrS96l14CMC/Sqx1aDgIgkGECMC8yLC7Mi+yLC/Mi8xrDvMi2xDAvsq0vepdeAjAv0qsdWg4CIJBhAjAvMiwuzIvsiwvzIvMaw7zItsQwL7KtL3qXXgIwL9KrHVoOAiCQYQIwLzIsLsyL7IsL8yLzGsO8yLbEMC+yrS96l14Cm8wLpZRObzfQ8kkIjBBRHpQyS+AVItoms71r3Y6tI6JiuMf9tq2LIfM9599eTCRkVGYhRKC1NjLavZbvlhDC11rzFp04sklgWEo5I5tdQ69AIJ0EMGBKp25oNQiAQMYJIPIi4wITEXYbybbGSNiZbX0ReZFtfTnywjCMm23bPjDbPUXvQCBdBGBepEsvtBYEQKBFCMC8yL7QMC+yrTHMi2zrC/Mi2/rCvMi2vuhdegnAvEivdmg5CIBAhgnAvMiwuGHXYF5kW2OYF9nWF+ZFtvWFeZFtfdG79BKAeZFe7dByEAABEAABEAABEAABEAABEAABEGgJAjAvWkJmdBIEQAAEQAAEQAAEQAAEQAAEQAAE0ksA5kV6tUPLQQAEQAAEQAAEQAAEQAAEQAAEQKAlCMC8aAmZ0UkQAAEQAAEQAAEQAAEQAAEQAAEQSC8BmBfp1Q4tBwEQAAEQAAEQAAEQAAEQAAEQAIGWIADzoiVkRidBAARAAARAAARAAARAAARAAARAIL0EYF6kVzu0HARAAARAAARAAARAAARAAARAAARaggDMi5aQGZ0EARAAARAAARAAARAAARAAARAAgfQSgHmRXu3QchAAARAAARAAARAAARAAARAAARBoCQIwL1pCZnQSBEAABEAABEAABEAABEAABEAABNJLAOZFerVDy0EABEAABEAABEAABEAABEAABECgJQjAvGgJmdFJEAABEAABEAABEAABEAABEAABEEgvAZgX6dUOLQcBEAABEAABEAABEAABEAABEACBliAA86IlZEYnQQAEQAAEQAAEQAAEQAAEQAAEQCC9BGBepFc7tBwEQAAEQAAEQAAEQAAEQAAEQAAEWoIAzIuWkBmdBAEQAAEQAAEQAAEQAAEQAAEQAIH0EoB5kV7t0HIQAAEQAAEQAAEQAAEQAAEQAAEQaAkCMC9aQmZ0EgRAAARAAARAAARAAARAAARAAATSSwDmRXq1Q8tBAARAAARAAARAAARAAARAAARAoCUIwLxoCZnRSRAAARAAARAAARAAARAAARAAARBILwGYF+nVDi0HARAAARAAARAAARAAARAAARAAgZYgAPOiJWRGJ0EABEAABEAABEAABEAABEAABEAgvQRgXqRXO7QcBEAABEAABEAABEAABEAABEAABFqCAMyLlpAZnQQBEAABEAABEAABEAABEAABEACB9BKAeZFe7dByEAABEAABEAABEAABEAABEAABEGgJAjAvWkJmdBIEQAAEQAAEQAAEQAAEQAAEQAAE0ksA5kV6tUPLQQAEQAAEQAAEQAAEQAAEQAAEQKAlCMC8aAmZ0UkQAAEQAAEQAAEQAAEQAAEQAAEQSC8BmBfp1Q4tBwEQAAEQAAEQAAEQAAEQAAEQAIGWIADzoiVkRidBAARAAARAAARAAARAAARAAARAIL0EYF6kVzu0HARAAARAAARAAARAAARAAARAAARaggDMi5aQGZ0EARAAARAAARAAARAAARAAARAAgfQSgHmRXu3QchAAARAAARAAARAAARAAARAAARBoCQIwL1pCZnQSBEAABEAABEAABEAABEAABEAABNJLAOZFerVDy0EABEAABEAABEAABEAABEAABECgJQj8HxICc5TDI4cwAAAAAElFTkSuQmCC\" />"
      ],
      "text/plain": [
       "Open the notebook in JupyterLab with the Atoti JupyterLab extension enabled to build this widget."
      ]
     },
     "metadata": {},
     "output_type": "display_data"
    }
   ],
   "source": [
    "session.widget"
   ]
  },
  {
   "cell_type": "markdown",
   "id": "08ceaeb7-d0ed-42b5-899e-f4fb4fdcf1ae",
   "metadata": {},
   "source": [
    "## Cost and performance saving with Aggregate Provider"
   ]
  },
  {
   "cell_type": "markdown",
   "id": "b00d6de1-5324-43b0-acb0-c682977c2cf0",
   "metadata": {},
   "source": [
    "Let's take a quick look at our query performance in the current setup."
   ]
  },
  {
   "cell_type": "code",
   "execution_count": 21,
   "id": "37320670-66e8-40c1-9402-26775ed5817c",
   "metadata": {},
   "outputs": [
    {
     "name": "stdout",
     "output_type": "stream",
     "text": [
      "CPU times: user 15.8 ms, sys: 7.32 ms, total: 23.1 ms\n",
      "Wall time: 1.95 s\n"
     ]
    },
    {
     "data": {
      "text/html": [
       "<div>\n",
       "<style scoped>\n",
       "    .dataframe tbody tr th:only-of-type {\n",
       "        vertical-align: middle;\n",
       "    }\n",
       "\n",
       "    .dataframe tbody tr th {\n",
       "        vertical-align: top;\n",
       "    }\n",
       "\n",
       "    .dataframe thead th {\n",
       "        text-align: right;\n",
       "    }\n",
       "</style>\n",
       "<table border=\"1\" class=\"dataframe\">\n",
       "  <thead>\n",
       "    <tr style=\"text-align: right;\">\n",
       "      <th></th>\n",
       "      <th></th>\n",
       "      <th></th>\n",
       "      <th>QUANTITY.SUM</th>\n",
       "      <th>PROFIT</th>\n",
       "    </tr>\n",
       "    <tr>\n",
       "      <th>DATE</th>\n",
       "      <th>PRODUCT</th>\n",
       "      <th>SALE_ID</th>\n",
       "      <th></th>\n",
       "      <th></th>\n",
       "    </tr>\n",
       "  </thead>\n",
       "  <tbody>\n",
       "    <tr>\n",
       "      <th rowspan=\"2\" valign=\"top\">2022-02-04</th>\n",
       "      <th>HOO_5</th>\n",
       "      <th>S0017</th>\n",
       "      <td>1</td>\n",
       "      <td>10.00</td>\n",
       "    </tr>\n",
       "    <tr>\n",
       "      <th>TAB_0</th>\n",
       "      <th>S0000</th>\n",
       "      <td>1</td>\n",
       "      <td>20.00</td>\n",
       "    </tr>\n",
       "    <tr>\n",
       "      <th rowspan=\"4\" valign=\"top\">2022-02-03</th>\n",
       "      <th>HOO_5</th>\n",
       "      <th>S0018</th>\n",
       "      <td>1</td>\n",
       "      <td>10.00</td>\n",
       "    </tr>\n",
       "    <tr>\n",
       "      <th>TAB_0</th>\n",
       "      <th>S0001</th>\n",
       "      <td>1</td>\n",
       "      <td>20.00</td>\n",
       "    </tr>\n",
       "    <tr>\n",
       "      <th>TAB_1</th>\n",
       "      <th>S0004</th>\n",
       "      <td>1</td>\n",
       "      <td>20.00</td>\n",
       "    </tr>\n",
       "    <tr>\n",
       "      <th>TSH_3</th>\n",
       "      <th>S0011</th>\n",
       "      <td>1</td>\n",
       "      <td>3.00</td>\n",
       "    </tr>\n",
       "    <tr>\n",
       "      <th rowspan=\"5\" valign=\"top\">2022-02-02</th>\n",
       "      <th>HOO_5</th>\n",
       "      <th>S0019</th>\n",
       "      <td>1</td>\n",
       "      <td>10.00</td>\n",
       "    </tr>\n",
       "    <tr>\n",
       "      <th>TAB_0</th>\n",
       "      <th>S0002</th>\n",
       "      <td>1</td>\n",
       "      <td>20.00</td>\n",
       "    </tr>\n",
       "    <tr>\n",
       "      <th>TAB_1</th>\n",
       "      <th>S0005</th>\n",
       "      <td>1</td>\n",
       "      <td>20.00</td>\n",
       "    </tr>\n",
       "    <tr>\n",
       "      <th>TSH_3</th>\n",
       "      <th>S0012</th>\n",
       "      <td>1</td>\n",
       "      <td>3.00</td>\n",
       "    </tr>\n",
       "    <tr>\n",
       "      <th>TSH_4</th>\n",
       "      <th>S0014</th>\n",
       "      <td>1</td>\n",
       "      <td>4.00</td>\n",
       "    </tr>\n",
       "    <tr>\n",
       "      <th rowspan=\"5\" valign=\"top\">2022-02-01</th>\n",
       "      <th>BED_2</th>\n",
       "      <th>S0007</th>\n",
       "      <td>1</td>\n",
       "      <td>23.00</td>\n",
       "    </tr>\n",
       "    <tr>\n",
       "      <th>TAB_0</th>\n",
       "      <th>S0003</th>\n",
       "      <td>1</td>\n",
       "      <td>20.00</td>\n",
       "    </tr>\n",
       "    <tr>\n",
       "      <th>TAB_1</th>\n",
       "      <th>S0006</th>\n",
       "      <td>2</td>\n",
       "      <td>40.00</td>\n",
       "    </tr>\n",
       "    <tr>\n",
       "      <th>TSH_3</th>\n",
       "      <th>S0013</th>\n",
       "      <td>1</td>\n",
       "      <td>3.00</td>\n",
       "    </tr>\n",
       "    <tr>\n",
       "      <th>TSH_4</th>\n",
       "      <th>S0015</th>\n",
       "      <td>2</td>\n",
       "      <td>8.00</td>\n",
       "    </tr>\n",
       "    <tr>\n",
       "      <th rowspan=\"4\" valign=\"top\">2022-01-31</th>\n",
       "      <th rowspan=\"3\" valign=\"top\">BED_2</th>\n",
       "      <th>S0008</th>\n",
       "      <td>1</td>\n",
       "      <td>23.00</td>\n",
       "    </tr>\n",
       "    <tr>\n",
       "      <th>S0009</th>\n",
       "      <td>1</td>\n",
       "      <td>23.00</td>\n",
       "    </tr>\n",
       "    <tr>\n",
       "      <th>S0010</th>\n",
       "      <td>3</td>\n",
       "      <td>69.00</td>\n",
       "    </tr>\n",
       "    <tr>\n",
       "      <th>TSH_4</th>\n",
       "      <th>S0016</th>\n",
       "      <td>2</td>\n",
       "      <td>8.00</td>\n",
       "    </tr>\n",
       "  </tbody>\n",
       "</table>\n",
       "</div>"
      ],
      "text/plain": [
       "                           QUANTITY.SUM PROFIT\n",
       "DATE       PRODUCT SALE_ID                    \n",
       "2022-02-04 HOO_5   S0017              1  10.00\n",
       "           TAB_0   S0000              1  20.00\n",
       "2022-02-03 HOO_5   S0018              1  10.00\n",
       "           TAB_0   S0001              1  20.00\n",
       "           TAB_1   S0004              1  20.00\n",
       "           TSH_3   S0011              1   3.00\n",
       "2022-02-02 HOO_5   S0019              1  10.00\n",
       "           TAB_0   S0002              1  20.00\n",
       "           TAB_1   S0005              1  20.00\n",
       "           TSH_3   S0012              1   3.00\n",
       "           TSH_4   S0014              1   4.00\n",
       "2022-02-01 BED_2   S0007              1  23.00\n",
       "           TAB_0   S0003              1  20.00\n",
       "           TAB_1   S0006              2  40.00\n",
       "           TSH_3   S0013              1   3.00\n",
       "           TSH_4   S0015              2   8.00\n",
       "2022-01-31 BED_2   S0008              1  23.00\n",
       "                   S0009              1  23.00\n",
       "                   S0010              3  69.00\n",
       "           TSH_4   S0016              2   8.00"
      ]
     },
     "execution_count": 21,
     "metadata": {},
     "output_type": "execute_result"
    }
   ],
   "source": [
    "%%time\n",
    "\n",
    "cube.query(\n",
    "    m[\"QUANTITY.SUM\"], m[\"PROFIT\"], levels=[l[\"DATE\"], l[\"PRODUCT\"], l[\"SALE_ID\"]]\n",
    ")"
   ]
  },
  {
   "cell_type": "code",
   "execution_count": 22,
   "id": "41a42190-2831-458d-9679-aa942dae9de0",
   "metadata": {},
   "outputs": [
    {
     "name": "stdout",
     "output_type": "stream",
     "text": [
      "CPU times: user 12.8 ms, sys: 4.92 ms, total: 17.7 ms\n",
      "Wall time: 1.7 s\n"
     ]
    },
    {
     "data": {
      "text/html": [
       "<div>\n",
       "<style scoped>\n",
       "    .dataframe tbody tr th:only-of-type {\n",
       "        vertical-align: middle;\n",
       "    }\n",
       "\n",
       "    .dataframe tbody tr th {\n",
       "        vertical-align: top;\n",
       "    }\n",
       "\n",
       "    .dataframe thead th {\n",
       "        text-align: right;\n",
       "    }\n",
       "</style>\n",
       "<table border=\"1\" class=\"dataframe\">\n",
       "  <thead>\n",
       "    <tr style=\"text-align: right;\">\n",
       "      <th></th>\n",
       "      <th></th>\n",
       "      <th></th>\n",
       "      <th>PROFIT</th>\n",
       "    </tr>\n",
       "    <tr>\n",
       "      <th>DATE</th>\n",
       "      <th>CATEGORY</th>\n",
       "      <th>SUB_CATEGORY</th>\n",
       "      <th></th>\n",
       "    </tr>\n",
       "  </thead>\n",
       "  <tbody>\n",
       "    <tr>\n",
       "      <th rowspan=\"2\" valign=\"top\">2022-02-04</th>\n",
       "      <th>Cloth</th>\n",
       "      <th>Hoodie</th>\n",
       "      <td>10.00</td>\n",
       "    </tr>\n",
       "    <tr>\n",
       "      <th>Furniture</th>\n",
       "      <th>Table</th>\n",
       "      <td>20.00</td>\n",
       "    </tr>\n",
       "    <tr>\n",
       "      <th rowspan=\"3\" valign=\"top\">2022-02-03</th>\n",
       "      <th rowspan=\"2\" valign=\"top\">Cloth</th>\n",
       "      <th>Hoodie</th>\n",
       "      <td>10.00</td>\n",
       "    </tr>\n",
       "    <tr>\n",
       "      <th>Tshirt</th>\n",
       "      <td>3.00</td>\n",
       "    </tr>\n",
       "    <tr>\n",
       "      <th>Furniture</th>\n",
       "      <th>Table</th>\n",
       "      <td>40.00</td>\n",
       "    </tr>\n",
       "    <tr>\n",
       "      <th rowspan=\"3\" valign=\"top\">2022-02-02</th>\n",
       "      <th rowspan=\"2\" valign=\"top\">Cloth</th>\n",
       "      <th>Hoodie</th>\n",
       "      <td>10.00</td>\n",
       "    </tr>\n",
       "    <tr>\n",
       "      <th>Tshirt</th>\n",
       "      <td>7.00</td>\n",
       "    </tr>\n",
       "    <tr>\n",
       "      <th>Furniture</th>\n",
       "      <th>Table</th>\n",
       "      <td>40.00</td>\n",
       "    </tr>\n",
       "    <tr>\n",
       "      <th rowspan=\"3\" valign=\"top\">2022-02-01</th>\n",
       "      <th>Cloth</th>\n",
       "      <th>Tshirt</th>\n",
       "      <td>11.00</td>\n",
       "    </tr>\n",
       "    <tr>\n",
       "      <th rowspan=\"2\" valign=\"top\">Furniture</th>\n",
       "      <th>Bed</th>\n",
       "      <td>23.00</td>\n",
       "    </tr>\n",
       "    <tr>\n",
       "      <th>Table</th>\n",
       "      <td>60.00</td>\n",
       "    </tr>\n",
       "    <tr>\n",
       "      <th rowspan=\"2\" valign=\"top\">2022-01-31</th>\n",
       "      <th>Cloth</th>\n",
       "      <th>Tshirt</th>\n",
       "      <td>8.00</td>\n",
       "    </tr>\n",
       "    <tr>\n",
       "      <th>Furniture</th>\n",
       "      <th>Bed</th>\n",
       "      <td>115.00</td>\n",
       "    </tr>\n",
       "  </tbody>\n",
       "</table>\n",
       "</div>"
      ],
      "text/plain": [
       "                                   PROFIT\n",
       "DATE       CATEGORY  SUB_CATEGORY        \n",
       "2022-02-04 Cloth     Hoodie         10.00\n",
       "           Furniture Table          20.00\n",
       "2022-02-03 Cloth     Hoodie         10.00\n",
       "                     Tshirt          3.00\n",
       "           Furniture Table          40.00\n",
       "2022-02-02 Cloth     Hoodie         10.00\n",
       "                     Tshirt          7.00\n",
       "           Furniture Table          40.00\n",
       "2022-02-01 Cloth     Tshirt         11.00\n",
       "           Furniture Bed            23.00\n",
       "                     Table          60.00\n",
       "2022-01-31 Cloth     Tshirt          8.00\n",
       "           Furniture Bed           115.00"
      ]
     },
     "execution_count": 22,
     "metadata": {},
     "output_type": "execute_result"
    }
   ],
   "source": [
    "%%time\n",
    "\n",
    "cube.query(m[\"PROFIT\"], levels=[l[\"DATE\"], l[\"SUB_CATEGORY\"]])"
   ]
  },
  {
   "cell_type": "markdown",
   "id": "ec655a71-8eec-42ae-9dd5-3fa7bbf0f782",
   "metadata": {},
   "source": [
    "It takes approximately `3s` to return the query (YMMV)."
   ]
  },
  {
   "cell_type": "markdown",
   "id": "409bcc8e-c3e4-4592-a6ee-c54d41f97719",
   "metadata": {},
   "source": [
    "To speed up our querying, we make use of the [aggregate provider](https://docs.atoti.io/latest/api/atoti.AggregateProvider.html#atoti.AggregateProvider) to store intermediate aggregates in memory. If a step of a query uses a subset of the aggregate provider's levels and measures, the provider will speed up the query.  \n",
    "\n",
    "Since data is cached in memory, we will __not__ access BigQuery when a subset of these are queried.  "
   ]
  },
  {
   "cell_type": "code",
   "execution_count": 23,
   "id": "0f33a62c-d66d-4e3a-997d-ae325e9276ec",
   "metadata": {
    "tags": []
   },
   "outputs": [],
   "source": [
    "cube.aggregate_providers.update(\n",
    "    {\n",
    "        \"Products provider\": tt.AggregateProvider(\n",
    "            key=\"bitmap\",\n",
    "            levels=[l[\"DATE\"], l[\"PRODUCT\"], l[\"SALE_ID\"]],\n",
    "            measures=[m[\"QUANTITY.SUM\"], m[\"PURCHASE_PRICE.SUM\"], m[\"UNIT_PRICE.SUM\"]],\n",
    "            partitioning=\"hash16(PRODUCT)\",\n",
    "        )\n",
    "    }\n",
    ")"
   ]
  },
  {
   "cell_type": "markdown",
   "id": "4817dae9-0dbb-4c91-95bc-38a1320102ae",
   "metadata": {},
   "source": [
    "⚠️ **Important:** We can only use store aggregated measures supporting disaggregation can be used in aggregate provider, e.g. `tt.agg.sum` or `tt.agg.mean` on table columns.\n",
    "\n",
    "`m[\"PROFIT\"]` cannot be used because it is a chained measure resulting from the `sum_product` of a few measures.\n"
   ]
  },
  {
   "cell_type": "code",
   "execution_count": 24,
   "id": "0bc35e5d-1845-479b-873f-5a24be936f1e",
   "metadata": {
    "tags": []
   },
   "outputs": [
    {
     "name": "stdout",
     "output_type": "stream",
     "text": [
      "CPU times: user 8.22 ms, sys: 3.64 ms, total: 11.9 ms\n",
      "Wall time: 45.1 ms\n"
     ]
    },
    {
     "data": {
      "text/html": [
       "<div>\n",
       "<style scoped>\n",
       "    .dataframe tbody tr th:only-of-type {\n",
       "        vertical-align: middle;\n",
       "    }\n",
       "\n",
       "    .dataframe tbody tr th {\n",
       "        vertical-align: top;\n",
       "    }\n",
       "\n",
       "    .dataframe thead th {\n",
       "        text-align: right;\n",
       "    }\n",
       "</style>\n",
       "<table border=\"1\" class=\"dataframe\">\n",
       "  <thead>\n",
       "    <tr style=\"text-align: right;\">\n",
       "      <th></th>\n",
       "      <th></th>\n",
       "      <th></th>\n",
       "      <th>PROFIT</th>\n",
       "    </tr>\n",
       "    <tr>\n",
       "      <th>DATE</th>\n",
       "      <th>PRODUCT</th>\n",
       "      <th>SALE_ID</th>\n",
       "      <th></th>\n",
       "    </tr>\n",
       "  </thead>\n",
       "  <tbody>\n",
       "    <tr>\n",
       "      <th rowspan=\"2\" valign=\"top\">2022-02-04</th>\n",
       "      <th>HOO_5</th>\n",
       "      <th>S0017</th>\n",
       "      <td>10.00</td>\n",
       "    </tr>\n",
       "    <tr>\n",
       "      <th>TAB_0</th>\n",
       "      <th>S0000</th>\n",
       "      <td>20.00</td>\n",
       "    </tr>\n",
       "    <tr>\n",
       "      <th rowspan=\"4\" valign=\"top\">2022-02-03</th>\n",
       "      <th>HOO_5</th>\n",
       "      <th>S0018</th>\n",
       "      <td>10.00</td>\n",
       "    </tr>\n",
       "    <tr>\n",
       "      <th>TAB_0</th>\n",
       "      <th>S0001</th>\n",
       "      <td>20.00</td>\n",
       "    </tr>\n",
       "    <tr>\n",
       "      <th>TAB_1</th>\n",
       "      <th>S0004</th>\n",
       "      <td>20.00</td>\n",
       "    </tr>\n",
       "    <tr>\n",
       "      <th>TSH_3</th>\n",
       "      <th>S0011</th>\n",
       "      <td>3.00</td>\n",
       "    </tr>\n",
       "    <tr>\n",
       "      <th rowspan=\"5\" valign=\"top\">2022-02-02</th>\n",
       "      <th>HOO_5</th>\n",
       "      <th>S0019</th>\n",
       "      <td>10.00</td>\n",
       "    </tr>\n",
       "    <tr>\n",
       "      <th>TAB_0</th>\n",
       "      <th>S0002</th>\n",
       "      <td>20.00</td>\n",
       "    </tr>\n",
       "    <tr>\n",
       "      <th>TAB_1</th>\n",
       "      <th>S0005</th>\n",
       "      <td>20.00</td>\n",
       "    </tr>\n",
       "    <tr>\n",
       "      <th>TSH_3</th>\n",
       "      <th>S0012</th>\n",
       "      <td>3.00</td>\n",
       "    </tr>\n",
       "    <tr>\n",
       "      <th>TSH_4</th>\n",
       "      <th>S0014</th>\n",
       "      <td>4.00</td>\n",
       "    </tr>\n",
       "    <tr>\n",
       "      <th rowspan=\"5\" valign=\"top\">2022-02-01</th>\n",
       "      <th>BED_2</th>\n",
       "      <th>S0007</th>\n",
       "      <td>23.00</td>\n",
       "    </tr>\n",
       "    <tr>\n",
       "      <th>TAB_0</th>\n",
       "      <th>S0003</th>\n",
       "      <td>20.00</td>\n",
       "    </tr>\n",
       "    <tr>\n",
       "      <th>TAB_1</th>\n",
       "      <th>S0006</th>\n",
       "      <td>40.00</td>\n",
       "    </tr>\n",
       "    <tr>\n",
       "      <th>TSH_3</th>\n",
       "      <th>S0013</th>\n",
       "      <td>3.00</td>\n",
       "    </tr>\n",
       "    <tr>\n",
       "      <th>TSH_4</th>\n",
       "      <th>S0015</th>\n",
       "      <td>8.00</td>\n",
       "    </tr>\n",
       "    <tr>\n",
       "      <th rowspan=\"4\" valign=\"top\">2022-01-31</th>\n",
       "      <th rowspan=\"3\" valign=\"top\">BED_2</th>\n",
       "      <th>S0008</th>\n",
       "      <td>23.00</td>\n",
       "    </tr>\n",
       "    <tr>\n",
       "      <th>S0009</th>\n",
       "      <td>23.00</td>\n",
       "    </tr>\n",
       "    <tr>\n",
       "      <th>S0010</th>\n",
       "      <td>69.00</td>\n",
       "    </tr>\n",
       "    <tr>\n",
       "      <th>TSH_4</th>\n",
       "      <th>S0016</th>\n",
       "      <td>8.00</td>\n",
       "    </tr>\n",
       "  </tbody>\n",
       "</table>\n",
       "</div>"
      ],
      "text/plain": [
       "                           PROFIT\n",
       "DATE       PRODUCT SALE_ID       \n",
       "2022-02-04 HOO_5   S0017    10.00\n",
       "           TAB_0   S0000    20.00\n",
       "2022-02-03 HOO_5   S0018    10.00\n",
       "           TAB_0   S0001    20.00\n",
       "           TAB_1   S0004    20.00\n",
       "           TSH_3   S0011     3.00\n",
       "2022-02-02 HOO_5   S0019    10.00\n",
       "           TAB_0   S0002    20.00\n",
       "           TAB_1   S0005    20.00\n",
       "           TSH_3   S0012     3.00\n",
       "           TSH_4   S0014     4.00\n",
       "2022-02-01 BED_2   S0007    23.00\n",
       "           TAB_0   S0003    20.00\n",
       "           TAB_1   S0006    40.00\n",
       "           TSH_3   S0013     3.00\n",
       "           TSH_4   S0015     8.00\n",
       "2022-01-31 BED_2   S0008    23.00\n",
       "                   S0009    23.00\n",
       "                   S0010    69.00\n",
       "           TSH_4   S0016     8.00"
      ]
     },
     "execution_count": 24,
     "metadata": {},
     "output_type": "execute_result"
    }
   ],
   "source": [
    "%%time\n",
    "\n",
    "cube.query(m[\"PROFIT\"], levels=[l[\"DATE\"], l[\"PRODUCT\"], l[\"SALE_ID\"]])"
   ]
  },
  {
   "cell_type": "markdown",
   "id": "fd36b224-ab65-45f0-a2fb-1e44c5fdb1c8",
   "metadata": {},
   "source": [
    "Previously, it took close to `3s` to return the query results. Now, it only takes slightly over `100ms` to return the results (YMMV).  \n",
    "\n",
    "Note that we are querying `PROFIT` and not the measures `m[\"QUANTITY.SUM\"]`, `m[\"PURCHASE_PRICE.SUM\"]` and `m[\"UNIT_PRICE.SUM\"]`. However, `PROFIT` is computed on the fly using the cached data in memory. Therefore, the query speed is improved drastically."
   ]
  },
  {
   "cell_type": "code",
   "execution_count": 25,
   "id": "800e212c-f4ce-4e77-8653-f8afd9b50043",
   "metadata": {
    "tags": []
   },
   "outputs": [
    {
     "name": "stdout",
     "output_type": "stream",
     "text": [
      "CPU times: user 6.99 ms, sys: 2.61 ms, total: 9.6 ms\n",
      "Wall time: 38.9 ms\n"
     ]
    },
    {
     "data": {
      "text/html": [
       "<div>\n",
       "<style scoped>\n",
       "    .dataframe tbody tr th:only-of-type {\n",
       "        vertical-align: middle;\n",
       "    }\n",
       "\n",
       "    .dataframe tbody tr th {\n",
       "        vertical-align: top;\n",
       "    }\n",
       "\n",
       "    .dataframe thead th {\n",
       "        text-align: right;\n",
       "    }\n",
       "</style>\n",
       "<table border=\"1\" class=\"dataframe\">\n",
       "  <thead>\n",
       "    <tr style=\"text-align: right;\">\n",
       "      <th></th>\n",
       "      <th>PROFIT</th>\n",
       "    </tr>\n",
       "    <tr>\n",
       "      <th>PRODUCT</th>\n",
       "      <th></th>\n",
       "    </tr>\n",
       "  </thead>\n",
       "  <tbody>\n",
       "    <tr>\n",
       "      <th>BED_2</th>\n",
       "      <td>138.00</td>\n",
       "    </tr>\n",
       "    <tr>\n",
       "      <th>HOO_5</th>\n",
       "      <td>30.00</td>\n",
       "    </tr>\n",
       "    <tr>\n",
       "      <th>TAB_0</th>\n",
       "      <td>80.00</td>\n",
       "    </tr>\n",
       "    <tr>\n",
       "      <th>TAB_1</th>\n",
       "      <td>80.00</td>\n",
       "    </tr>\n",
       "    <tr>\n",
       "      <th>TSH_3</th>\n",
       "      <td>9.00</td>\n",
       "    </tr>\n",
       "    <tr>\n",
       "      <th>TSH_4</th>\n",
       "      <td>20.00</td>\n",
       "    </tr>\n",
       "  </tbody>\n",
       "</table>\n",
       "</div>"
      ],
      "text/plain": [
       "         PROFIT\n",
       "PRODUCT        \n",
       "BED_2    138.00\n",
       "HOO_5     30.00\n",
       "TAB_0     80.00\n",
       "TAB_1     80.00\n",
       "TSH_3      9.00\n",
       "TSH_4     20.00"
      ]
     },
     "execution_count": 25,
     "metadata": {},
     "output_type": "execute_result"
    }
   ],
   "source": [
    "%%time\n",
    "\n",
    "cube.query(m[\"PROFIT\"], levels=[l[\"PRODUCT\"]])"
   ]
  },
  {
   "cell_type": "markdown",
   "id": "3776a1f9-c10c-4912-866f-238a3b95fbee",
   "metadata": {},
   "source": [
    "Querying a subset of the aggregate provider levels also returns the result quickly.  \n",
    "\n",
    "The below query on a different level will access data from BigQuery and therefore, is limited by the querying speed of the cloud database and its network connectivity.  "
   ]
  },
  {
   "cell_type": "code",
   "execution_count": 26,
   "id": "08506fb9-16e3-4052-9288-380ecc441021",
   "metadata": {
    "tags": []
   },
   "outputs": [
    {
     "name": "stdout",
     "output_type": "stream",
     "text": [
      "CPU times: user 15.8 ms, sys: 7.49 ms, total: 23.3 ms\n",
      "Wall time: 3.49 s\n"
     ]
    },
    {
     "data": {
      "text/html": [
       "<div>\n",
       "<style scoped>\n",
       "    .dataframe tbody tr th:only-of-type {\n",
       "        vertical-align: middle;\n",
       "    }\n",
       "\n",
       "    .dataframe tbody tr th {\n",
       "        vertical-align: top;\n",
       "    }\n",
       "\n",
       "    .dataframe thead th {\n",
       "        text-align: right;\n",
       "    }\n",
       "</style>\n",
       "<table border=\"1\" class=\"dataframe\">\n",
       "  <thead>\n",
       "    <tr style=\"text-align: right;\">\n",
       "      <th></th>\n",
       "      <th></th>\n",
       "      <th></th>\n",
       "      <th>PROFIT</th>\n",
       "    </tr>\n",
       "    <tr>\n",
       "      <th>DATE</th>\n",
       "      <th>CATEGORY</th>\n",
       "      <th>SUB_CATEGORY</th>\n",
       "      <th></th>\n",
       "    </tr>\n",
       "  </thead>\n",
       "  <tbody>\n",
       "    <tr>\n",
       "      <th rowspan=\"2\" valign=\"top\">2022-02-04</th>\n",
       "      <th>Cloth</th>\n",
       "      <th>Hoodie</th>\n",
       "      <td>10.00</td>\n",
       "    </tr>\n",
       "    <tr>\n",
       "      <th>Furniture</th>\n",
       "      <th>Table</th>\n",
       "      <td>20.00</td>\n",
       "    </tr>\n",
       "    <tr>\n",
       "      <th rowspan=\"3\" valign=\"top\">2022-02-03</th>\n",
       "      <th rowspan=\"2\" valign=\"top\">Cloth</th>\n",
       "      <th>Hoodie</th>\n",
       "      <td>10.00</td>\n",
       "    </tr>\n",
       "    <tr>\n",
       "      <th>Tshirt</th>\n",
       "      <td>3.00</td>\n",
       "    </tr>\n",
       "    <tr>\n",
       "      <th>Furniture</th>\n",
       "      <th>Table</th>\n",
       "      <td>40.00</td>\n",
       "    </tr>\n",
       "    <tr>\n",
       "      <th rowspan=\"3\" valign=\"top\">2022-02-02</th>\n",
       "      <th rowspan=\"2\" valign=\"top\">Cloth</th>\n",
       "      <th>Hoodie</th>\n",
       "      <td>10.00</td>\n",
       "    </tr>\n",
       "    <tr>\n",
       "      <th>Tshirt</th>\n",
       "      <td>7.00</td>\n",
       "    </tr>\n",
       "    <tr>\n",
       "      <th>Furniture</th>\n",
       "      <th>Table</th>\n",
       "      <td>40.00</td>\n",
       "    </tr>\n",
       "    <tr>\n",
       "      <th rowspan=\"3\" valign=\"top\">2022-02-01</th>\n",
       "      <th>Cloth</th>\n",
       "      <th>Tshirt</th>\n",
       "      <td>11.00</td>\n",
       "    </tr>\n",
       "    <tr>\n",
       "      <th rowspan=\"2\" valign=\"top\">Furniture</th>\n",
       "      <th>Bed</th>\n",
       "      <td>23.00</td>\n",
       "    </tr>\n",
       "    <tr>\n",
       "      <th>Table</th>\n",
       "      <td>60.00</td>\n",
       "    </tr>\n",
       "    <tr>\n",
       "      <th rowspan=\"2\" valign=\"top\">2022-01-31</th>\n",
       "      <th>Cloth</th>\n",
       "      <th>Tshirt</th>\n",
       "      <td>8.00</td>\n",
       "    </tr>\n",
       "    <tr>\n",
       "      <th>Furniture</th>\n",
       "      <th>Bed</th>\n",
       "      <td>115.00</td>\n",
       "    </tr>\n",
       "  </tbody>\n",
       "</table>\n",
       "</div>"
      ],
      "text/plain": [
       "                                   PROFIT\n",
       "DATE       CATEGORY  SUB_CATEGORY        \n",
       "2022-02-04 Cloth     Hoodie         10.00\n",
       "           Furniture Table          20.00\n",
       "2022-02-03 Cloth     Hoodie         10.00\n",
       "                     Tshirt          3.00\n",
       "           Furniture Table          40.00\n",
       "2022-02-02 Cloth     Hoodie         10.00\n",
       "                     Tshirt          7.00\n",
       "           Furniture Table          40.00\n",
       "2022-02-01 Cloth     Tshirt         11.00\n",
       "           Furniture Bed            23.00\n",
       "                     Table          60.00\n",
       "2022-01-31 Cloth     Tshirt          8.00\n",
       "           Furniture Bed           115.00"
      ]
     },
     "execution_count": 26,
     "metadata": {},
     "output_type": "execute_result"
    }
   ],
   "source": [
    "%%time\n",
    "\n",
    "cube.query(m[\"PROFIT\"], levels=[l[\"DATE\"], l[\"SUB_CATEGORY\"]])"
   ]
  },
  {
   "cell_type": "markdown",
   "id": "c260f204-8f69-4f99-aefa-3e881c29e4bc",
   "metadata": {},
   "source": [
    "Before we are done with this example, let's create another aggregate provider with a _slice_ of data using `filter`.  \n",
    "\n",
    "Let's first capture the timing of the query without the aggregate provider."
   ]
  },
  {
   "cell_type": "code",
   "execution_count": 27,
   "id": "fe342fd4-1c7f-4995-833d-f3cac15d2aa4",
   "metadata": {},
   "outputs": [
    {
     "name": "stdout",
     "output_type": "stream",
     "text": [
      "CPU times: user 15.9 ms, sys: 7.19 ms, total: 23 ms\n",
      "Wall time: 2.08 s\n"
     ]
    },
    {
     "data": {
      "text/html": [
       "<div>\n",
       "<style scoped>\n",
       "    .dataframe tbody tr th:only-of-type {\n",
       "        vertical-align: middle;\n",
       "    }\n",
       "\n",
       "    .dataframe tbody tr th {\n",
       "        vertical-align: top;\n",
       "    }\n",
       "\n",
       "    .dataframe thead th {\n",
       "        text-align: right;\n",
       "    }\n",
       "</style>\n",
       "<table border=\"1\" class=\"dataframe\">\n",
       "  <thead>\n",
       "    <tr style=\"text-align: right;\">\n",
       "      <th></th>\n",
       "      <th></th>\n",
       "      <th></th>\n",
       "      <th>PROFIT</th>\n",
       "    </tr>\n",
       "    <tr>\n",
       "      <th>DATE</th>\n",
       "      <th>CATEGORY</th>\n",
       "      <th>SUB_CATEGORY</th>\n",
       "      <th></th>\n",
       "    </tr>\n",
       "  </thead>\n",
       "  <tbody>\n",
       "    <tr>\n",
       "      <th rowspan=\"2\" valign=\"top\">2022-02-04</th>\n",
       "      <th>Cloth</th>\n",
       "      <th>Hoodie</th>\n",
       "      <td>10.00</td>\n",
       "    </tr>\n",
       "    <tr>\n",
       "      <th>Furniture</th>\n",
       "      <th>Table</th>\n",
       "      <td>20.00</td>\n",
       "    </tr>\n",
       "  </tbody>\n",
       "</table>\n",
       "</div>"
      ],
      "text/plain": [
       "                                  PROFIT\n",
       "DATE       CATEGORY  SUB_CATEGORY       \n",
       "2022-02-04 Cloth     Hoodie        10.00\n",
       "           Furniture Table         20.00"
      ]
     },
     "execution_count": 27,
     "metadata": {},
     "output_type": "execute_result"
    }
   ],
   "source": [
    "%%time\n",
    "\n",
    "cube.query(\n",
    "    m[\"PROFIT\"],\n",
    "    levels=[l[\"DATE\"], l[\"CATEGORY\"], l[\"SUB_CATEGORY\"]],\n",
    "    filter=(l[\"DATE\"] == \"2022-02-04\"),\n",
    ")"
   ]
  },
  {
   "cell_type": "code",
   "execution_count": 28,
   "id": "b240a857-71f6-4344-8967-570013c0ac98",
   "metadata": {
    "tags": []
   },
   "outputs": [],
   "source": [
    "from datetime import date\n",
    "\n",
    "current_date = date(2022, 2, 24)"
   ]
  },
  {
   "cell_type": "markdown",
   "id": "9526ed6a-2c74-4ab5-935e-51899123340c",
   "metadata": {},
   "source": [
    "In the event where users are interested in a particular member of level, e.g. the current date or a particular shop, and the amount of querying on this member is huge, then it makes sense to cache them in memory.  \n",
    "\n",
    "In this case, we apply filter just for the interested member. This helps to control the amount of data held in memory."
   ]
  },
  {
   "cell_type": "code",
   "execution_count": 29,
   "id": "17ae6441-66db-4038-bfee-28df3b2c576e",
   "metadata": {},
   "outputs": [],
   "source": [
    "cube.aggregate_providers.update(\n",
    "    {\n",
    "        \"Category provider\": tt.AggregateProvider(\n",
    "            key=\"bitmap\",\n",
    "            levels=[l[\"DATE\"], l[\"CATEGORY\"], l[\"SUB_CATEGORY\"]],\n",
    "            measures=[m[\"QUANTITY.SUM\"], m[\"PURCHASE_PRICE.SUM\"], m[\"UNIT_PRICE.SUM\"]],\n",
    "            filter=(l[\"DATE\"] == current_date),\n",
    "        )\n",
    "    }\n",
    ")"
   ]
  },
  {
   "cell_type": "code",
   "execution_count": 30,
   "id": "adc253db-cebe-49a2-a8ae-2f9630d5338d",
   "metadata": {
    "tags": []
   },
   "outputs": [
    {
     "name": "stdout",
     "output_type": "stream",
     "text": [
      "CPU times: user 15.2 ms, sys: 12.4 ms, total: 27.6 ms\n",
      "Wall time: 2.62 s\n"
     ]
    },
    {
     "data": {
      "text/html": [
       "<div>\n",
       "<style scoped>\n",
       "    .dataframe tbody tr th:only-of-type {\n",
       "        vertical-align: middle;\n",
       "    }\n",
       "\n",
       "    .dataframe tbody tr th {\n",
       "        vertical-align: top;\n",
       "    }\n",
       "\n",
       "    .dataframe thead th {\n",
       "        text-align: right;\n",
       "    }\n",
       "</style>\n",
       "<table border=\"1\" class=\"dataframe\">\n",
       "  <thead>\n",
       "    <tr style=\"text-align: right;\">\n",
       "      <th></th>\n",
       "      <th></th>\n",
       "      <th></th>\n",
       "      <th>PROFIT</th>\n",
       "    </tr>\n",
       "    <tr>\n",
       "      <th>DATE</th>\n",
       "      <th>CATEGORY</th>\n",
       "      <th>SUB_CATEGORY</th>\n",
       "      <th></th>\n",
       "    </tr>\n",
       "  </thead>\n",
       "  <tbody>\n",
       "    <tr>\n",
       "      <th rowspan=\"2\" valign=\"top\">2022-02-04</th>\n",
       "      <th>Cloth</th>\n",
       "      <th>Hoodie</th>\n",
       "      <td>10.00</td>\n",
       "    </tr>\n",
       "    <tr>\n",
       "      <th>Furniture</th>\n",
       "      <th>Table</th>\n",
       "      <td>20.00</td>\n",
       "    </tr>\n",
       "  </tbody>\n",
       "</table>\n",
       "</div>"
      ],
      "text/plain": [
       "                                  PROFIT\n",
       "DATE       CATEGORY  SUB_CATEGORY       \n",
       "2022-02-04 Cloth     Hoodie        10.00\n",
       "           Furniture Table         20.00"
      ]
     },
     "execution_count": 30,
     "metadata": {},
     "output_type": "execute_result"
    }
   ],
   "source": [
    "%%time\n",
    "\n",
    "cube.query(\n",
    "    m[\"PROFIT\"],\n",
    "    levels=[l[\"DATE\"], l[\"CATEGORY\"], l[\"SUB_CATEGORY\"]],\n",
    "    filter=(l[\"DATE\"] == \"2022-02-04\"),\n",
    ")"
   ]
  },
  {
   "cell_type": "markdown",
   "id": "4b392590-0e19-4d03-84db-853028977e8b",
   "metadata": {},
   "source": [
    "## Balance between Cost and Performance"
   ]
  },
  {
   "cell_type": "markdown",
   "id": "1f44c57a-00ad-44eb-9195-ed0b0a808a62",
   "metadata": {},
   "source": [
    "All in all, Atoti's DirectQuery offers users a way to balance between cost and performance:\n",
    "\n",
    "* For data that is less queried, it resides on the cloud database and gets queried on-demand.\n",
    "* For data that is more frequently queried, we can cache it in memory and reduce the number of queries to the cloud database, thereby improving performance.  \n",
    "\n",
    "<img src=\"https://data.atoti.io/notebooks/direct-query/img/aggregate_cache.png\" />  \n",
    "\n",
    "💡 **Note:** To find out more, reach out to [ActiveViam](https://activeviam.com/contact-us/?utm_source=github&utm_medium=atoti) for a demonstration."
   ]
  },
  {
   "cell_type": "markdown",
   "id": "455e3f95-0a8c-48bf-b793-69d5fe2f2083",
   "metadata": {},
   "source": [
    "<div style=\"text-align: center;\" ><a href=\"https://www.atoti.io/?utm_source=gallery&utm_content=directquery-intro\" target=\"_blank\" rel=\"noopener noreferrer\"><img src=\"https://data.atoti.io/notebooks/banners/Your-turn-to-try-Atoti.jpg\" alt=\"Try Atoti\"></a></div>"
   ]
  }
 ],
 "metadata": {
  "kernelspec": {
   "display_name": "Python 3 (ipykernel)",
   "language": "python",
   "name": "python3"
  },
  "language_info": {
   "codemirror_mode": {
    "name": "ipython",
    "version": 3
   },
   "file_extension": ".py",
   "mimetype": "text/x-python",
   "name": "python",
   "nbconvert_exporter": "python",
   "pygments_lexer": "ipython3",
   "version": "3.10.13"
  }
 },
 "nbformat": 4,
 "nbformat_minor": 5
}
