{
 "cells": [
  {
   "cell_type": "markdown",
   "id": "cdf4be11-e265-4874-8e3a-94eec0d442da",
   "metadata": {
    "editable": true,
    "slideshow": {
     "slide_type": ""
    },
    "tags": []
   },
   "source": [
    "# What is data storytelling?  \n",
    "\n",
    "Let's start with some basic definitions:\n",
    "\n",
    "**Story**\n",
    "\n",
    "A story is a narrative, either true or fictitious, and is used to communicate an idea to the audience based on a selected theme. It can be spoken, written or come in other forms of media such as a movie.  \n",
    "\n",
    "**Storytelling**\n",
    "\n",
    "Storytelling is the way we convey key messages to the audience through stories that resonate with them.  \n",
    "\n",
    "**Data storytelling**\n",
    "\n",
    "Data storytelling is a powerful combination of data and narrative to help our audience and stakeholders understand complex information, and then make informed decisions. To be successful, you need to craft a narrative around your data, and present it in a way that is both easy to understand and resonates with your audience."
   ]
  },
  {
   "cell_type": "markdown",
   "id": "ce067e20-c471-48c3-a61b-3c68ef258c8c",
   "metadata": {},
   "source": [
    "# Objective of data storytelling \n",
    "\n",
    "We want to be able to turn raw data into actionable insights, so that stakeholders can make informed decisions and drive positive change.  "
   ]
  },
  {
   "cell_type": "markdown",
   "id": "41599e20-ec94-4d30-b7e8-44b367c04af0",
   "metadata": {
    "editable": true,
    "slideshow": {
     "slide_type": ""
    },
    "tags": []
   },
   "source": [
    "# Getting started with Storytelling\n",
    "\n",
    "There are some easy techniques to get started with data storytelling.\n",
    "A good place to start is with the \"H and 5 W questions\" - Who, What, When, Where, Why, How.  \n",
    "\n",
    "We will use: \n",
    "- \"Who\" and \"What\" to define the scope of our stories and data.  \n",
    "- \"When\" and \"Where\" to set the context.\n",
    "- \"How\" to determine the presentation of our data.\n",
    "- \"Why\" to structure and streamline our stories.\n",
    "\n",
    "In this notebook, we explore each of these with some examples:  \n",
    "- [1 Scoping stories](#1-Scoping-stories)\n",
    "    - [1.1 Scoping with \"Who\" questions](#1.1-Scoping-with-\"Who\"-questions)\n",
    "    - [1.2 Scoping with \"What\" questions](#1.2-Scoping-with-\"What\"-questions)\n",
    "- [2 Setting the story context](#2-Setting-the-story-context)\n",
    "    - [2.1 Setting the context with \"When\"](#2.1-Setting-the-context-with-\"When\")\n",
    "    - [2.2 Setting the context with \"Where\"](#2.2-Setting-the-context-with-\"Where\")  \n",
    "    \n",
    "Continue on with the following notebooks:  \n",
    "- [02-Storytelling.ipynb](02-Storytelling.ipynb): Story presentation with \"How\" question\n",
    "- [03-Storytelling.ipynb](03-Storytelling.ipynb): Structuring the story"
   ]
  },
  {
   "cell_type": "markdown",
   "id": "099de909-b70f-4455-927e-2850b9d9c962",
   "metadata": {},
   "source": [
    "<div style=\"text-align: center;\" ><a href=\"https://www.atoti.io/?utm_source=gallery&utm_content=01-storytelling\" target=\"_blank\" rel=\"noopener noreferrer\"><img src=\"https://data.atoti.io/notebooks/banners/Discover-Atoti-now.png\" alt=\"Try atoti\"></a></div>"
   ]
  },
  {
   "cell_type": "markdown",
   "id": "e7f948a3-43ae-4278-9910-4d496afc81cd",
   "metadata": {},
   "source": [
    "## 1 Scoping stories"
   ]
  },
  {
   "cell_type": "markdown",
   "id": "d3bcc45d-0fc8-4663-a377-b7420f7b72cb",
   "metadata": {},
   "source": [
    "The universe is huge and we can't take everything and put them into a story.  \n",
    "\n",
    "> KISS: Keep it Short and Simple\n",
    "\n",
    "Therefore, we use scope to define the boundary and parameters as way to keep our story concise.    \n",
    "By keeping only the necessary details, we will improve the clarity and effectiveness of the message that we want to deliver with the story.  "
   ]
  },
  {
   "cell_type": "markdown",
   "id": "bc4c06a4-ee1b-4495-a7dd-d4e9e947a385",
   "metadata": {},
   "source": [
    "### 1.1 Scoping with \"Who\" questions  \n",
    "\n",
    "In literature, the \"who\" refers to the characters in the stories. \n",
    "However, in data stories, it refers to who our audience is.  \n",
    "We need to know who our audience is and what they do.  This will help to set the premise for our data stories and also determine the mode of delivery.    \n",
    "\n",
    "**Audience's nature of business**  \n",
    "If we are analysts working in a bank, our stories will revolve around financial topics such as profits and losses, interest rates and spreads, risks etc.  \n",
    "In a pharmaceutical company, our stories may revolve around clinical trial results, drug life-cycle management, drug sales forecast etc.  \n",
    "For retailers, we will look at the sales, trends and profitability.\n",
    "\n",
    "**Type of users**  \n",
    "Within the company itself, we should also identify which group of users we are addressing. For business groups, they are interested in the key business metrics that will help them make informed decisions. For technical group or the analysts, they are probably interested in deeper diving into how key metrics are derived. \n",
    "\n",
    "Apart from the difference in the level of detail in the stories, the way we present the stories to these groups can also vary. \n",
    "The business users may be happy with reports or interactive dashboards. On the other hand, we can present our stories in Jupyter Notebooks to the technical/analyst group of users.\n",
    "\n",
    "<img src=\"https://data.atoti.io/atoti-academy/images/storytelling-with-atoti/1_1_audiences_views.png\" />\n",
    "\n",
    "**Interest of users**  \n",
    "In a company, there are many departments and teams. Each of them has their own focus and interests. These again, set the boundaries for our stories.  \n",
    "For instance, the sales team of the pharmaceutical company will have a higher interest in the drug sales forecast than the details of the clinical trials. A summary of the success rate for the trials and its performance against competitors will probably suffice for the sales team.    "
   ]
  },
  {
   "cell_type": "markdown",
   "id": "d03b330b-2e72-4ec5-b542-fae9a9eca682",
   "metadata": {},
   "source": [
    "### 1.2 Scoping with \"What\" questions  \n",
    "\n",
    "There are many \"What\" questions that we can have:  \n",
    "- [What is the purpose of the stories we are crafting?](#1.2.1-What-is-the-purpose-of-the-stories-we-are-crafting?)  \n",
    "- [What type of data do we already have?](#1.2.2-What-type-of-data-do-we-already-have?)  \n",
    "- [What type of data do we need in addition to what we already have?](#1.2.3-What-type-of-data-do-we-need-in-addition-to-what-we-already-have?)\n"
   ]
  },
  {
   "cell_type": "markdown",
   "id": "cd49d3c7-da59-4652-8917-132a1f6079b7",
   "metadata": {},
   "source": [
    "#### 1.2.1 What is the purpose of the stories we are crafting?  \n",
    "\n",
    "We mentioned that the aim of data storytelling is to help the stakeholders make informed decisions. So, we need to understand these decisions before we can prepare the necessary insights. For instance, let's assume our stakeholder is a retailer who would like to cut costs and increase profit. There are many ways to achieve the same objective and this is where we get creative.  \n",
    "\n",
    "**To cut costs, the stakeholder may consider**:\n",
    "\n",
    "* Dropping some products from his/her inventory.\n",
    "* Changing their shipment company to one that provides more competitive rates.   \n",
    "\n",
    "**To increase profit, the stakeholder may consider**:  \n",
    "\n",
    "* Leveraging the pricing model for bulk purchases by increasing stock for fast selling products.\n",
    "* Running marketing events such as discounts for loyal shoppers or discount sales.  \n",
    "* Implementing commission systems for employees based on sales targets. \n",
    "\n",
    "Now we know which decisions the stakeholder might consider, we should have an idea of the information we need to provide him/her. For instance, in order to drop products from the inventory, we need to know the performance of each product.\n",
    "\n",
    "Cleary, this might lead us to another question — how does the stakeholder define performance? Let's say in this case, performance is volume sold vs its profit margin. And in order to make decisions about changing the shipment company, we should find out the volume of shipment vs the rates charged by the company in comparison to the other shipment companies. "
   ]
  },
  {
   "cell_type": "markdown",
   "id": "33cf5953-8b06-4bd1-949a-a2ebb5ad7b70",
   "metadata": {
    "tags": []
   },
   "source": [
    "#### 1.2.2 What type of data do we already have?\n",
    "\n",
    "> **You can't make bricks without straws**  \n",
    "\n",
    "Our analysis can only be conducted with the data we have, so we need to make sure we have the correct dataset. As a step forward, we try to gather as many insights as we can with the data we have on-hand and align them with our objectives. This should help us recognize the gap between what we have and what we want to have in our data.  "
   ]
  },
  {
   "cell_type": "markdown",
   "id": "1034ff59-7a36-4d3f-9482-0d67e5d6fea4",
   "metadata": {},
   "source": [
    "**Data Exploration**\n",
    "\n",
    "This is the stage when we try to analyze the data and find as much useful insights as we can from what we have.  \n",
    "\n",
    "💡To illustrate and provide data for our story we will use a script to create a multi-dimensional data cube using [Atoti](https://www.atoti.io/). Refer to the [training material](../03-Atoti/01-intro-Atoti.ipynb) under 03-Atoti if you are unfamiliar with Atoti.  "
   ]
  },
  {
   "cell_type": "code",
   "execution_count": 1,
   "id": "60b78c38-c9bd-43d7-a9af-a848dcb7a657",
   "metadata": {
    "tags": []
   },
   "outputs": [],
   "source": [
    "import atoti as tt\n",
    "from utils import setup"
   ]
  },
  {
   "cell_type": "code",
   "execution_count": 2,
   "id": "978351bf-addf-4bbc-ba4d-8bd28b4c28ea",
   "metadata": {
    "editable": true,
    "slideshow": {
     "slide_type": ""
    },
    "tags": []
   },
   "outputs": [
    {
     "data": {
      "image/png": "[encoded data removed]",
      "text/plain": [
       "erDiagram\n",
       "  \"Orders\" {\n",
       "    _ String PK \"OrderId\"\n",
       "    _ LocalDate \"OrderDate\"\n",
       "    _ int \"QuantitySold\"\n",
       "    _ double \"SellingPricePerUnit\"\n",
       "    _ String \"ShipperName\"\n",
       "    _ String PK \"ProductId\"\n",
       "    _ String \"EmployeeId\"\n",
       "    _ String \"CustomerId\"\n",
       "  }\n",
       "  \"Products\" {\n",
       "    _ String PK \"ProductId\"\n",
       "    _ String \"ProductName\"\n",
       "    _ String \"ProductCategory\"\n",
       "    _ String \"Supplier\"\n",
       "    nullable double \"PurchasingPricePerUnit\"\n",
       "  }\n",
       "  \"Customers\" {\n",
       "    _ String PK \"CustomerId\"\n",
       "    _ String \"CompanyName\"\n",
       "    _ String \"Address\"\n",
       "    _ String \"City\"\n",
       "    _ String \"PostalCode\"\n",
       "    _ String \"Region\"\n",
       "    _ String \"Country\"\n",
       "    _ String \"Subregion\"\n",
       "    _ String \"Phone\"\n",
       "  }\n",
       "  \"Shippers\" {\n",
       "    _ String PK \"Shipper\"\n",
       "    _ String PK \"Interval\"\n",
       "    nullable double \"Rate\"\n",
       "  }\n",
       "  \"Employees\" {\n",
       "    _ String PK \"EmployeeId\"\n",
       "    _ String \"EmployeeName\"\n",
       "    _ String \"EmployeeZone\"\n",
       "    _ String \"EmployeeCountry\"\n",
       "    _ String \"EmployeeCity\"\n",
       "  }\n",
       "  \"HistoricalPrices\" {\n",
       "    _ String PK \"ProductId\"\n",
       "    nullable double[] \"HistoricalPrice\"\n",
       "  }\n",
       "  \"Orders\" }o--o| \"Customers\" : \"`CustomerId` == `CustomerId`\"\n",
       "  \"Orders\" }o--o| \"Employees\" : \"`EmployeeId` == `EmployeeId`\"\n",
       "  \"Orders\" }o--o| \"Products\" : \"`ProductId` == `ProductId`\"\n",
       "  \"Orders\" }o..o{ \"Shippers\" : \"`ShipperName` == `Shipper`\"\n",
       "  \"Products\" }o--o| \"HistoricalPrices\" : \"`ProductId` == `ProductId`\""
      ]
     },
     "execution_count": 2,
     "metadata": {},
     "output_type": "execute_result"
    }
   ],
   "source": [
    "# instantiating our instance and creating the Atoti cube with our data\n",
    "session, cube = setup.create_app()\n",
    "# aliasing cube properties\n",
    "h, l, m = cube.hierarchies, cube.levels, cube.measures\n",
    "\n",
    "session.tables.schema"
   ]
  },
  {
   "cell_type": "markdown",
   "id": "453e7bb1-202e-4ac1-968e-e13e38d953c2",
   "metadata": {
    "editable": true,
    "slideshow": {
     "slide_type": ""
    },
    "tags": []
   },
   "source": [
    "In our context, we are looking at sales data and we will start by exploring this.\n",
    "The data schema allows us to have a high-level understand of the data we have and the relationship between each table.  \n",
    "\n",
    "At a glance, we should be able to provide these information about our current situation, for example:\n",
    "\n",
    "* Number of orders. \n",
    "* Sales of volume product.\n",
    "* Profit by product.  \n",
    "\n",
    "It will be much easier if we can visualize the data to have a better gist of how we can better address our needs. So, let's leverage Atoti's interactive widget to build something that reflects our current situation.  "
   ]
  },
  {
   "cell_type": "code",
   "execution_count": 3,
   "id": "d665749a-e39c-43f0-82a0-f4ec7cad5fd3",
   "metadata": {
    "atoti": {
     "height": 210,
     "widget": {
      "columnWidths": {
       "[Measures].[contributors.COUNT]": 140
      },
      "mapping": {
       "columns": [
        "ALL_MEASURES"
       ],
       "measures": [
        "[Measures].[contributors.COUNT]"
       ],
       "rows": [
        "[Orders].[OrderDate].[OrderDate]"
       ]
      },
      "name": "Number of orders",
      "query": {
       "mdx": "SELECT NON EMPTY Hierarchize(Descendants({[Orders].[OrderDate].[AllMember]}, 1, SELF_AND_BEFORE)) ON ROWS, NON EMPTY {[Measures].[contributors.COUNT]} ON COLUMNS FROM [Order Cube] CELL PROPERTIES VALUE, FORMATTED_VALUE, BACK_COLOR, FORE_COLOR, FONT_FLAGS",
       "updateMode": "once"
      },
      "serverKey": "default",
      "widgetKey": "pivot-table"
     }
    },
    "tags": []
   },
   "outputs": [
    {
     "data": {
      "application/vnd.atoti.widget.v0+json": {
       "sessionId": "1715369339_GGTQ8I",
       "sessionLocation": {
        "https": false,
        "port": 9091
       },
       "widgetCreationCode": "session.widget"
      },
      "text/html": [
       "<img height=\"0\" width=\"0\" src=\"data:,\" />"
      ],
      "text/plain": [
       "Open the notebook in JupyterLab with the Atoti JupyterLab extension enabled to build this widget."
      ]
     },
     "metadata": {},
     "output_type": "display_data"
    }
   ],
   "source": [
    "session.widget"
   ]
  },
  {
   "cell_type": "markdown",
   "id": "dd21041d-a925-4ae7-9f2f-bd10139503cd",
   "metadata": {},
   "source": [
    "We can see from the table that we have the same number of orders each day. \n",
    "We can add more depth to the query by adding in other factors into the query such as the country of the customer.\n",
    "This will allow us to investigate which countries contribute most to the overall sales figures."
   ]
  },
  {
   "cell_type": "code",
   "execution_count": 4,
   "id": "2e92250c-bcb4-46e3-bd74-58b2a1a2cea8",
   "metadata": {
    "atoti": {
     "height": 362,
     "widget": {
      "columnWidths": {
       "[Measures].[contributors.COUNT],[Orders].[OrderDate].[AllMember]": 146
      },
      "mapping": {
       "columns": [
        "ALL_MEASURES",
        "[Orders].[OrderDate].[OrderDate]"
       ],
       "measures": [
        "[Measures].[contributors.COUNT]"
       ],
       "rows": [
        "[Customers].[Country].[Country]"
       ]
      },
      "name": "Number of orders",
      "query": {
       "mdx": "SELECT NON EMPTY Hierarchize(Descendants({[Customers].[Country].[AllMember]}, 1, SELF_AND_BEFORE)) ON ROWS, NON EMPTY Crossjoin({[Measures].[contributors.COUNT]}, Hierarchize(Descendants({[Orders].[OrderDate].[AllMember]}, 1, SELF_AND_BEFORE))) ON COLUMNS FROM [Order Cube] CELL PROPERTIES VALUE, FORMATTED_VALUE, BACK_COLOR, FORE_COLOR, FONT_FLAGS",
       "updateMode": "once"
      },
      "serverKey": "default",
      "widgetKey": "pivot-table"
     }
    },
    "tags": []
   },
   "outputs": [
    {
     "data": {
      "application/vnd.atoti.widget.v0+json": {
       "sessionId": "1715369339_GGTQ8I",
       "sessionLocation": {
        "https": false,
        "port": 9091
       },
       "widgetCreationCode": "session.widget"
      },
      "text/html": [
       "<img height=\"0\" width=\"0\" src=\"data:,\" />"
      ],
      "text/plain": [
       "Open the notebook in JupyterLab with the Atoti JupyterLab extension enabled to build this widget."
      ]
     },
     "metadata": {},
     "output_type": "display_data"
    }
   ],
   "source": [
    "session.widget"
   ]
  },
  {
   "cell_type": "markdown",
   "id": "b9f2f709-b39d-4707-b0c3-6e063df54813",
   "metadata": {},
   "source": [
    "And, we can go further, as overall orders is not the same as profit. It will also be interesting to see which country yields the highest profit. Feel free to use the Atoti content editor on the left navigation bar to add the measures or hierarchies that may interest you."
   ]
  },
  {
   "cell_type": "code",
   "execution_count": 5,
   "id": "3c98a597-37cc-4d5e-82a4-51d05b2a5fab",
   "metadata": {
    "atoti": {
     "height": 470,
     "widget": {
      "columnWidths": {
       "[Measures].[contributors.COUNT],[Orders].[OrderDate].[AllMember]": 146,
       "[Orders].[OrderDate].[AllMember],[Measures].[contributors.COUNT]": 140,
       "[Orders].[OrderDate].[AllMember].[2019-02-15],[Measures].[contributors.COUNT]": 140,
       "[Orders].[OrderDate].[AllMember].[2019-02-16],[Measures].[contributors.COUNT]": 129,
       "[Orders].[OrderDate].[AllMember].[2019-02-17],[Measures].[contributors.COUNT]": 140,
       "[Orders].[OrderDate].[AllMember].[2019-02-18],[Measures].[contributors.COUNT]": 140
      },
      "mapping": {
       "columns": [
        "[Orders].[OrderDate].[OrderDate]",
        "ALL_MEASURES"
       ],
       "measures": [
        "[Measures].[contributors.COUNT]",
        "[Measures].[Profit]"
       ],
       "rows": [
        "[Customers].[Country].[Country]"
       ]
      },
      "name": "Number of orders and profit",
      "query": {
       "mdx": "SELECT NON EMPTY Order(Hierarchize(Descendants({[Customers].[Country].[AllMember]}, 1, SELF_AND_BEFORE)), ([Orders].[OrderDate].[AllMember], [Measures].[Profit]), DESC) ON ROWS, NON EMPTY Crossjoin(Hierarchize(Descendants({[Orders].[OrderDate].[AllMember]}, 1, SELF_AND_BEFORE)), {[Measures].[contributors.COUNT], [Measures].[Profit]}) ON COLUMNS FROM [Order Cube] CELL PROPERTIES VALUE, FORMATTED_VALUE, BACK_COLOR, FORE_COLOR, FONT_FLAGS",
       "updateMode": "once"
      },
      "serverKey": "default",
      "widgetKey": "pivot-table"
     }
    },
    "tags": []
   },
   "outputs": [
    {
     "data": {
      "application/vnd.atoti.widget.v0+json": {
       "sessionId": "1715369339_GGTQ8I",
       "sessionLocation": {
        "https": false,
        "port": 9091
       },
       "widgetCreationCode": "session.widget"
      },
      "text/html": [
       "<img height=\"0\" width=\"0\" src=\"data:,\" />"
      ],
      "text/plain": [
       "Open the notebook in JupyterLab with the Atoti JupyterLab extension enabled to build this widget."
      ]
     },
     "metadata": {},
     "output_type": "display_data"
    }
   ],
   "source": [
    "session.widget"
   ]
  },
  {
   "cell_type": "markdown",
   "id": "1eebee00-6122-43b4-a69a-927ff5548c9f",
   "metadata": {},
   "source": [
    "#### 📐Exercise  \n",
    "\n",
    "Try deriving other insights from the given data set.  "
   ]
  },
  {
   "cell_type": "markdown",
   "id": "80226a97-d2eb-4ec6-b365-c28518419a16",
   "metadata": {
    "tags": []
   },
   "source": [
    "#### 📖 Solution\n",
    "\n",
    "Uncomment and run the next two cells for different insights.  "
   ]
  },
  {
   "cell_type": "code",
   "execution_count": 6,
   "id": "c8bf94be-c90c-4bec-8d55-28f1944f2ab1",
   "metadata": {
    "atoti": {
     "height": 459,
     "widget": {
      "columnWidths": {
       "[Measures].[Profit]": 126,
       "[Products].[Products].[ProductCategory]": 137,
       "[Products].[Products].[ProductName]": 187
      },
      "filters": [
       "Generate([Products].[Products].Levels(1).Members, BottomCount(Filter([Products].[Products].CurrentMember.Children, NOT IsEmpty([Measures].[Profit])), 5, [Measures].[Profit]))"
      ],
      "mapping": {
       "columns": [
        "ALL_MEASURES"
       ],
       "measures": [
        "[Measures].[Profit]"
       ],
       "rows": [
        "[Products].[Products].[ProductCategory] => [Products].[Products].[ProductName]"
       ]
      },
      "name": "Bottom 5 products per category with lowest profit",
      "query": {
       "mdx": "SELECT NON EMPTY Hierarchize(Union(Descendants({[Products].[Products].[AllMember]}, 1, SELF_AND_BEFORE), Descendants({[Products].[Products].[AllMember].[Condiments]}, [Products].[Products].[ProductName]))) ON ROWS, NON EMPTY {[Measures].[Profit]} ON COLUMNS FROM [Order Cube] CELL PROPERTIES VALUE, FORMATTED_VALUE, BACK_COLOR, FORE_COLOR, FONT_FLAGS",
       "updateMode": "once"
      },
      "serverKey": "default",
      "widgetKey": "pivot-table"
     }
    },
    "tags": []
   },
   "outputs": [],
   "source": [
    "# session.widget"
   ]
  },
  {
   "cell_type": "code",
   "execution_count": 7,
   "id": "d7115603-7b7a-49d5-a9c3-cf21bd217332",
   "metadata": {
    "atoti": {
     "height": 438,
     "widget": {
      "columnWidths": {
       "[Customers].[CompanyName].[CompanyName]": 206,
       "[Products].[Supplier].[Supplier]": 176
      },
      "mapping": {
       "columns": [
        "ALL_MEASURES",
        "[Products].[ProductCategory].[ProductCategory] => [Products].[ProductName].[ProductName]"
       ],
       "measures": [
        "[Measures].[QuantitySold.SUM]"
       ],
       "rows": [
        "[Customers].[Region].[Region] => [Customers].[CompanyName].[CompanyName]"
       ]
      },
      "name": "Product demands by region",
      "query": {
       "mdx": "SELECT NON EMPTY Hierarchize(Descendants({[Customers].[Region].[AllMember]}, 1, SELF_AND_BEFORE)) ON ROWS, NON EMPTY Hierarchize(Crossjoin({[Measures].[QuantitySold.SUM]}, Hierarchize(Descendants({[Products].[ProductCategory].[AllMember]}, 1, SELF_AND_BEFORE)))) ON COLUMNS FROM [Order Cube] CELL PROPERTIES VALUE, FORMATTED_VALUE, BACK_COLOR, FORE_COLOR, FONT_FLAGS",
       "updateMode": "once"
      },
      "serverKey": "default",
      "widgetKey": "pivot-table"
     }
    },
    "tags": []
   },
   "outputs": [],
   "source": [
    "# session.widget"
   ]
  },
  {
   "cell_type": "markdown",
   "id": "8b976385-ddbb-46cb-84ee-8f779cd410b1",
   "metadata": {},
   "source": [
    "During the exploration stage, you should play around the data from different perspectives. You might discover some interesting insights and further routes to explore.\n",
    "We can discard ideas based on its relevancy later on as we start to structure our story.  "
   ]
  },
  {
   "cell_type": "markdown",
   "id": "b6be6a17-c676-40cc-a8cc-1298815d4d9e",
   "metadata": {},
   "source": [
    "#### 1.2.3 What type of data do we need in addition to what we already have?  \n",
    "\n",
    "There is a high chance that we need more information to support our findings. We may discover this need upfront or later on. \n",
    "\n",
    "**Upfront need for additional data**  \n",
    "\n",
    "* Usually, these needs are due to requirements triggered by the stakeholders.  \n",
    "\n",
    "* One example could be that the stakeholder informs us that he/she wants to make use of machine learning to perform some predictions. So, we can expect some output from the machine learning model. The challenge in this case is how to translate these predictions into useful business metrics for the stakeholder.   \n",
    "\n",
    "* Another example is that the stakeholder wants to know how the company is positioned against its competitors. So in this case, we can consider purchasing data such as competitors' pricing and sales volume from third part data provider.\n",
    "\n",
    "**Discovering need for additional data later on**  \n",
    "\n",
    "* The findings of our data exploration may lead to the conclusion that we do not have enough information to provide meaningul insights. \n",
    "\n",
    "* Let's compare two products: one has low profit margin but high sales volume while the other has a high profit margin but low sales volume. Should we discontinue one, both or neither of these products? In this case, we can easily compute the sales and profit margin of each product from the existing data. \n",
    "\n",
    "* But, we might need more data in order to make a properly informed decision. For instance, it would be good to know the defect rate and number of returns for each of the products.\n",
    "\n",
    "* The rate of defects is an important metric because if a product is frequently refunded for its defect, it will incur additional costs and reputational risks. Such information can be captured by enhancing the existing systems or integrating additional system into the data pipelines.\n"
   ]
  },
  {
   "cell_type": "markdown",
   "id": "7eeb61f2-443e-4ca2-b955-49f7c7a04e06",
   "metadata": {},
   "source": [
    "**Deriving data to fill the gaps**  \n",
    "\n",
    "Earlier on, we talked about using machine learning algorithms to perform predictions. \n",
    "For instance, we can use machine learning to adjust the selling prices of our product in order to stay competitive against our competitors. We are not going into the details of such algorithm in this training. If you would like more details, you can check up this example on [pricing simulation around product class](https://github.com/atoti/notebooks/blob/main/notebooks/01-use-cases/other-industries/pricing-simulations-around-product-classes/main.ipynb).  "
   ]
  },
  {
   "cell_type": "markdown",
   "id": "42bd5954-3253-4bb6-9484-19d005f5c726",
   "metadata": {},
   "source": [
    "As well as integrating data from other sources, it's also possible to create new measures and investigate what we already have. Let's take a quick look at data deriving by performing a series of aggregations on existing data.  \n",
    "\n",
    "Let's say we want to know total sales revenue. We already have the `QuantitySold` and `SellingPricePerUnit`.  We are able to derive our sales revenu by multiplying the two measurements and summing them up.  \n",
    "\n",
    "💡Refer to the [training material](../03-Atoti/01-intro-Atoti.ipynb) under 03-Atoti if you are unfamiliar with operations of Atoti.  \n",
    "\n",
    "From here, we can continue with aggregation to compute profit margins."
   ]
  },
  {
   "cell_type": "code",
   "execution_count": 8,
   "id": "fc5e8723-2ba4-44c0-9dda-50cce6489b59",
   "metadata": {},
   "outputs": [],
   "source": [
    "# Compute sales and profit margin\n",
    "m[\"Sales\"] = tt.agg.sum_product(\n",
    "    m[\"QuantitySold.SUM\"],\n",
    "    m[\"SellingPricePerUnit\"],\n",
    "    scope=tt.OriginScope(levels={l[\"ProductId\"], l[\"OrderId\"]}),\n",
    ")\n",
    "\n",
    "m[\"ProfitMargin\"] = m[\"Profit\"] / m[\"Sales\"]\n",
    "m[\"ProfitMargin\"].formatter = \"DOUBLE[0.00%]\""
   ]
  },
  {
   "cell_type": "code",
   "execution_count": 9,
   "id": "1456cfb1-ad92-4bd8-85c2-748ef944e20e",
   "metadata": {
    "atoti": {
     "widget": {
      "mapping": {
       "columnValues": [
        "[Measures].[Sales]"
       ],
       "horizontalSubplots": [],
       "lineValues": [
        "[Measures].[ProfitMargin]"
       ],
       "verticalSubplots": [],
       "xAxis": [
        "[Products].[ProductCategory].[ProductCategory]"
       ]
      },
      "name": "Sales by Product category",
      "query": {
       "mdx": "SELECT NON EMPTY {[Measures].[Sales], [Measures].[ProfitMargin]} ON COLUMNS, NON EMPTY Order(Hierarchize(Descendants({[Products].[ProductCategory].[AllMember]}, 1, SELF_AND_BEFORE)), [Measures].[Sales], BDESC) ON ROWS FROM [Order Cube] CELL PROPERTIES VALUE, FORMATTED_VALUE, BACK_COLOR, FORE_COLOR, FONT_FLAGS",
       "updateMode": "once"
      },
      "serverKey": "default",
      "widgetKey": "plotly-columns-and-lines-chart"
     }
    },
    "editable": true,
    "slideshow": {
     "slide_type": ""
    },
    "tags": []
   },
   "outputs": [
    {
     "data": {
      "application/vnd.atoti.widget.v0+json": {
       "sessionId": "1715369339_GGTQ8I",
       "sessionLocation": {
        "https": false,
        "port": 9091
       },
       "widgetCreationCode": "session.widget"
      },
      "text/html": [
       "<img height=\"0\" width=\"0\" src=\"data:,\" />"
      ],
      "text/plain": [
       "Open the notebook in JupyterLab with the Atoti JupyterLab extension enabled to build this widget."
      ]
     },
     "metadata": {},
     "output_type": "display_data"
    }
   ],
   "source": [
    "session.widget"
   ]
  },
  {
   "cell_type": "markdown",
   "id": "aa78cfeb-8b14-4b8e-bd5f-e4b238f64a95",
   "metadata": {},
   "source": [
    "## 2 Setting the story context"
   ]
  },
  {
   "cell_type": "markdown",
   "id": "fd442e47-33ee-4c7e-a7c2-9cfbfa686ab7",
   "metadata": {},
   "source": [
    "The price of Product X increased from \\\\$10 to \\\\$25. That's a 150% increase! And that's certainly headline news, but what is the context of this data?\n",
    "\n",
    "* If the time period is only one month it's an unacceptable increase (considering that the average inflation rate as of 2023 is 2.5%.)\n",
    "\n",
    "* If it happens over a span of 10 years, and assuming we have an [average inflation rate of 2.69% and cumulative inflation of 58.57%](https://smartasset.com/investing/inflation-calculator#mjuumacU7Q), the expected pricing should be approximately \\$16. So the increase in price is still higher than expected.  \n",
    "\n",
    "* But if the time period is much longer, say 25 years, this increase will be inline with the inflation rate.  \n",
    "\n",
    "From the example above, we see the importance of context. By presenting facts along with background information and the relevant details, we provide credibility to the magnitude of the figures. Your audience are more likely to understand the information better, and therefore stay engaged. And of course, you can highlight the context that you feel is most relevant to your data."
   ]
  },
  {
   "cell_type": "markdown",
   "id": "b72cbc90-72f9-482a-9318-a80be8bbc934",
   "metadata": {},
   "source": [
    "### 2.1 Setting the context with \"When\"  \n",
    "\n",
    "With the \"When\" question, we explore timelines.  \n",
    "\n",
    "As we have seen in the previous example, providing context with time is important in helping the audience understand the sequence and duration of events. That said, we come back with the following considerations that involves time: \n",
    "\n",
    "* [Period of relevance](#2.1.1-Period-of-relevance)\n",
    "* [Trend intervals](#2.1.2-Trend-Intervals)\n"
   ]
  },
  {
   "cell_type": "markdown",
   "id": "3e12215b-2bb8-4def-9230-321471e9e38e",
   "metadata": {},
   "source": [
    "#### 2.1.1 Period of relevance  \n",
    "\n",
    "Some questions we can ask: \n",
    "- What is the timeline we are looking at? \n",
    "- Are 10 year-old data still relevant to us now?  \n",
    "- Are we trying to forecast our sales for the coming week, month or year?  \n",
    "\n",
    "Considering the period of relevance will help to streamline our data and let users focus on the important timeframe.  "
   ]
  },
  {
   "cell_type": "markdown",
   "id": "a5775065-e077-4a4b-adb0-f1bf3a4038d0",
   "metadata": {},
   "source": [
    "#### 2.1.2 Trend Intervals\n",
    "\n",
    "**Trends**  \n",
    "\n",
    "Some common questions asked when we are presented with a timeline:  \n",
    "- How has the data changed over time?  For example, is purchase price rising or falling? \n",
    "- Is the change consistent or with periodic fluctuations?  \n",
    "- What can possibly cause the hikes or dips during a certain period of time?\n",
    "\n",
    "This is where we make use of trends to discover patterns and trigger further investigation to understand certain phenomenon. Trends help us understand the general direction of a certain phenomenon and the rate of change. We can then look at the events that happen around the period of interest to find a way to mitigate the downward trend if necessary, or boost the trend further if it's already upward.  \n",
    "\n",
    "Trends can also be used to make predictions about the future of the observed phenomenon. For instance, if we observe an upward trend in the sales of bicycles, we should be prepared for increased demands in bicycle accessories as well.   \n",
    "\n",
    "**Trend Intervals**  \n",
    "\n",
    "But when we look at trends, we need to determine the intervals that will bring the most value to us. Do we need hourly, daily, weekly or monthly trends?  \n",
    "\n",
    "A couple of factors that affects the trend intervals:    \n",
    "\n",
    "* The granularity of the data captured: if we capture orders by dates without timestamps, we cannot provide hourly trends.  \n",
    "* Type of analysis we do: if we want to know if the popularity of certain products are seasonal, it makes sense to look at monthly or quarterly trends.  "
   ]
  },
  {
   "cell_type": "markdown",
   "id": "dc602d3d-aa93-4f0a-a7ac-8adf89ed778b",
   "metadata": {},
   "source": [
    "Let's look at an example of trends using our sample dataset.  \n",
    "\n",
    "We can easily derive sales trends by taking the difference between the sales of the current and previous day."
   ]
  },
  {
   "cell_type": "code",
   "execution_count": 10,
   "id": "15cc9792-8858-4f53-9e25-0e1af6419c9e",
   "metadata": {
    "tags": []
   },
   "outputs": [],
   "source": [
    "m[\"_previousSales\"] = tt.shift(m[\"Sales\"], h[\"OrderDate\"], offset=-1)\n",
    "\n",
    "m[\"SalesTrend\"] = tt.where(\n",
    "    ~m[\"_previousSales\"].isnull(), m[\"Sales\"] - m[\"_previousSales\"]\n",
    ")"
   ]
  },
  {
   "cell_type": "code",
   "execution_count": 11,
   "id": "7c521ef9-0a99-488a-9001-fe2efe9c4e9b",
   "metadata": {
    "atoti": {
     "height": 227,
     "widget": {
      "mapping": {
       "columns": [
        "ALL_MEASURES"
       ],
       "measures": [
        "[Measures].[Sales]",
        "[Measures].[_previousSales]",
        "[Measures].[SalesTrend]"
       ],
       "rows": [
        "[Orders].[OrderDate].[OrderDate]"
       ]
      },
      "query": {
       "mdx": "SELECT NON EMPTY Hierarchize(Descendants({[Orders].[OrderDate].[AllMember]}, 1, SELF_AND_BEFORE)) ON ROWS, NON EMPTY {[Measures].[Sales], [Measures].[_previousSales], [Measures].[SalesTrend]} ON COLUMNS FROM [Order Cube] CELL PROPERTIES VALUE, FORMATTED_VALUE, BACK_COLOR, FORE_COLOR, FONT_FLAGS",
       "updateMode": "once"
      },
      "serverKey": "default",
      "widgetKey": "pivot-table"
     }
    },
    "tags": []
   },
   "outputs": [
    {
     "data": {
      "application/vnd.atoti.widget.v0+json": {
       "sessionId": "1715369339_GGTQ8I",
       "sessionLocation": {
        "https": false,
        "port": 9091
       },
       "widgetCreationCode": "session.widget"
      },
      "text/html": [
       "<img height=\"0\" width=\"0\" src=\"data:,\" />"
      ],
      "text/plain": [
       "Open the notebook in JupyterLab with the Atoti JupyterLab extension enabled to build this widget."
      ]
     },
     "metadata": {},
     "output_type": "display_data"
    }
   ],
   "source": [
    "session.widget"
   ]
  },
  {
   "cell_type": "markdown",
   "id": "f64b5dde-61d8-4fa7-9e10-d0d4eea8be3e",
   "metadata": {},
   "source": [
    "Let's hide the interim measure `_previousSales` as it's not useful to end-users."
   ]
  },
  {
   "cell_type": "code",
   "execution_count": 12,
   "id": "0d39fcb9-dda7-419b-8602-cdee5006c6c3",
   "metadata": {
    "tags": []
   },
   "outputs": [],
   "source": [
    "# hide technical measures\n",
    "m[\"_previousSales\"].visible = False"
   ]
  },
  {
   "cell_type": "markdown",
   "id": "006ac865-84c5-4d37-b7a6-d3e61bd33e7c",
   "metadata": {},
   "source": [
    "We can then choose a visualization that best present the trend to end users.  "
   ]
  },
  {
   "cell_type": "code",
   "execution_count": 13,
   "id": "4383cc5b-b47c-4fbf-808b-72485cdd9cf0",
   "metadata": {
    "atoti": {
     "widget": {
      "mapping": {
       "horizontalSubplots": [],
       "secondaryValues": [],
       "splitBy": [
        "[Products].[ProductCategory].[ProductCategory]",
        "ALL_MEASURES"
       ],
       "values": [
        "[Measures].[SalesTrend]"
       ],
       "verticalSubplots": [],
       "xAxis": [
        "[Orders].[OrderDate].[OrderDate]"
       ]
      },
      "name": "Daily sales trend by product category",
      "query": {
       "mdx": "SELECT NON EMPTY Hierarchize(Descendants({[Orders].[OrderDate].[AllMember]}, 1, SELF_AND_BEFORE)) ON ROWS, NON EMPTY Crossjoin(Hierarchize(Descendants({[Products].[ProductCategory].[AllMember]}, 1, SELF_AND_BEFORE)), {[Measures].[SalesTrend]}) ON COLUMNS FROM [Order Cube] CELL PROPERTIES VALUE, FORMATTED_VALUE, BACK_COLOR, FORE_COLOR, FONT_FLAGS",
       "updateMode": "once"
      },
      "serverKey": "default",
      "widgetKey": "plotly-line-chart"
     }
    },
    "tags": []
   },
   "outputs": [
    {
     "data": {
      "application/vnd.atoti.widget.v0+json": {
       "sessionId": "1715369339_GGTQ8I",
       "sessionLocation": {
        "https": false,
        "port": 9091
       },
       "widgetCreationCode": "session.widget"
      },
      "text/html": [
       "<img height=\"0\" width=\"0\" src=\"data:,\" />"
      ],
      "text/plain": [
       "Open the notebook in JupyterLab with the Atoti JupyterLab extension enabled to build this widget."
      ]
     },
     "metadata": {},
     "output_type": "display_data"
    }
   ],
   "source": [
    "session.widget"
   ]
  },
  {
   "cell_type": "markdown",
   "id": "8905c861-699c-4ae9-a88e-c3cdf38c32b5",
   "metadata": {},
   "source": [
    "We can see a huge dip in the trend for Meat/Poultry on 17th Feb but it started increasing again after. There could be factors causing this dip that is worth investigating.\n",
    "\n",
    "We will come back to this later on.  "
   ]
  },
  {
   "cell_type": "markdown",
   "id": "7ed25744-3cff-4d36-bd43-f2d6e1440793",
   "metadata": {},
   "source": [
    "#### 📐Exercise  \n",
    "\n",
    "The above visualization split the sales trend by product category. Try viewing the sales trend by region instead."
   ]
  },
  {
   "cell_type": "markdown",
   "id": "a64da8bc-f01f-4cff-bf69-6e29bc3275a9",
   "metadata": {
    "tags": []
   },
   "source": [
    "#### 📖 Solution\n",
    "\n",
    "Uncomment and run the next cell for the solution. "
   ]
  },
  {
   "cell_type": "code",
   "execution_count": 14,
   "id": "583149c9-3444-43a5-acf8-6c848446e53d",
   "metadata": {
    "atoti": {
     "widget": {
      "mapping": {
       "horizontalSubplots": [],
       "secondaryValues": [],
       "splitBy": [
        "[Customers].[Region].[Region]",
        "ALL_MEASURES"
       ],
       "values": [
        "[Measures].[SalesTrend]"
       ],
       "verticalSubplots": [],
       "xAxis": [
        "[Orders].[OrderDate].[OrderDate]"
       ]
      },
      "name": "Sales trend by region",
      "query": {
       "mdx": "SELECT NON EMPTY Hierarchize(Descendants({[Orders].[OrderDate].[AllMember]}, 1, SELF_AND_BEFORE)) ON ROWS, NON EMPTY Crossjoin(Hierarchize(Descendants({[Customers].[Region].[AllMember]}, 1, SELF_AND_BEFORE)), {[Measures].[SalesTrend]}) ON COLUMNS FROM [Order Cube] CELL PROPERTIES VALUE, FORMATTED_VALUE, BACK_COLOR, FORE_COLOR, FONT_FLAGS",
       "updateMode": "once"
      },
      "serverKey": "default",
      "widgetKey": "plotly-line-chart"
     }
    },
    "tags": []
   },
   "outputs": [],
   "source": [
    "# session.widget"
   ]
  },
  {
   "cell_type": "markdown",
   "id": "ef205a51-c7b0-4b87-b41d-e91055899069",
   "metadata": {},
   "source": [
    "### 2.2 Setting the context with \"Where\""
   ]
  },
  {
   "cell_type": "markdown",
   "id": "60657804-55f9-46a2-92b6-a2cf25a27daf",
   "metadata": {},
   "source": [
    "\"Where\" usually refers to locations. It works well in answering questions such as the following:  \n",
    "- Are there global differences in the data?  \n",
    "- Which country is outperforming the others?  \n",
    "- Which local area (shop, town, county) is improving?  "
   ]
  },
  {
   "cell_type": "code",
   "execution_count": 15,
   "id": "55985c57-7edd-4799-b01a-a3366ebb6db5",
   "metadata": {
    "atoti": {
     "widget": {
      "filters": [
       "Except([Customers].[Region].Members, [Customers].[Region].[AllMember].[N/A])"
      ],
      "mapping": {
       "horizontalSubplots": [],
       "stackBy": [
        "ALL_MEASURES"
       ],
       "values": [
        "[Measures].[Sales]"
       ],
       "verticalSubplots": [],
       "xAxis": [
        "[Customers].[Region].[Region]"
       ]
      },
      "name": "Sales by region",
      "query": {
       "mdx": "SELECT NON EMPTY Hierarchize(Descendants({[Customers].[Region].[AllMember]}, 1, SELF_AND_BEFORE)) ON ROWS, NON EMPTY {[Measures].[Sales]} ON COLUMNS FROM [Order Cube] CELL PROPERTIES VALUE, FORMATTED_VALUE, BACK_COLOR, FORE_COLOR, FONT_FLAGS",
       "updateMode": "once"
      },
      "serverKey": "default",
      "style": {
       "areAxisTitlesVisible": true
      },
      "widgetKey": "plotly-stacked-column-chart"
     }
    },
    "tags": []
   },
   "outputs": [
    {
     "data": {
      "application/vnd.atoti.widget.v0+json": {
       "sessionId": "1715369339_GGTQ8I",
       "sessionLocation": {
        "https": false,
        "port": 9091
       },
       "widgetCreationCode": "session.widget"
      },
      "text/html": [
       "<img height=\"0\" width=\"0\" src=\"data:,\" />"
      ],
      "text/plain": [
       "Open the notebook in JupyterLab with the Atoti JupyterLab extension enabled to build this widget."
      ]
     },
     "metadata": {},
     "output_type": "display_data"
    }
   ],
   "source": [
    "session.widget"
   ]
  },
  {
   "cell_type": "markdown",
   "id": "339c83b7-120d-4b25-9d65-c5df83aa3a90",
   "metadata": {},
   "source": [
    "You probably noticed that the questions are more of \"Which\" than \"Where\". The answer can somewhat be an entity rather than a location, as in the case of shop.  \n",
    "\n",
    "Let's twist the \"Where\" question a little to fit our data context better. Instead of positioning it as a question on location, let's treat it as the `where` clause in [SQL](https://en.wikipedia.org/wiki/SQL) (Structured Query Language for querying databases) or [MDX](https://learn.microsoft.com/en-us/analysis-services/multidimensional-models/mdx/mdx-query-the-basic-query?view=asallproducts-allversions) (Multidimensional Expressions for querying OLAP cubes).  \n",
    "\n",
    "Now, the questions that we can answer can be more target focused. For instance, for a manager who manages the European market, we can filter our data to reflect only the countries under his charge.   "
   ]
  },
  {
   "cell_type": "code",
   "execution_count": 16,
   "id": "f9d08541-a6ce-45de-978b-f1051c747614",
   "metadata": {
    "atoti": {
     "widget": {
      "filters": [
       "[Customers].[Region].[AllMember].[Europe]"
      ],
      "mapping": {
       "horizontalSubplots": [],
       "stackBy": [
        "ALL_MEASURES"
       ],
       "values": [
        "[Measures].[Sales]"
       ],
       "verticalSubplots": [],
       "xAxis": [
        "[Customers].[Country].[Country]"
       ]
      },
      "query": {
       "mdx": "SELECT NON EMPTY Order(Hierarchize(Descendants({[Customers].[Country].[AllMember]}, 1, SELF_AND_BEFORE)), [Measures].[Sales], BDESC) ON ROWS, NON EMPTY {[Measures].[Sales]} ON COLUMNS FROM [Order Cube] CELL PROPERTIES VALUE, FORMATTED_VALUE, BACK_COLOR, FORE_COLOR, FONT_FLAGS",
       "updateMode": "once"
      },
      "serverKey": "default",
      "widgetKey": "plotly-stacked-column-chart"
     }
    },
    "tags": []
   },
   "outputs": [
    {
     "data": {
      "application/vnd.atoti.widget.v0+json": {
       "sessionId": "1715369339_GGTQ8I",
       "sessionLocation": {
        "https": false,
        "port": 9091
       },
       "widgetCreationCode": "session.widget"
      },
      "text/html": [
       "<img height=\"0\" width=\"0\" src=\"data:,\" />"
      ],
      "text/plain": [
       "Open the notebook in JupyterLab with the Atoti JupyterLab extension enabled to build this widget."
      ]
     },
     "metadata": {},
     "output_type": "display_data"
    }
   ],
   "source": [
    "session.widget"
   ]
  },
  {
   "cell_type": "markdown",
   "id": "0e4a87b6-5f54-4dcd-a8a1-69b981678260",
   "metadata": {},
   "source": [
    "Also, we can answer questions regarding the top/bottom performance, e.g. the top 5 products in the top 3 product categories with the highest sales.  "
   ]
  },
  {
   "cell_type": "code",
   "execution_count": 17,
   "id": "721231b0-ff31-4c08-99e7-48c8835053cf",
   "metadata": {
    "atoti": {
     "widget": {
      "filters": [
       "TopCount(Filter([Products].[ProductCategory].Levels(1).Members, NOT IsEmpty([Measures].[Sales])), 3, [Measures].[Sales])",
       "Generate([Products].[Products].Levels(1).Members, TopCount(Filter([Products].[Products].CurrentMember.Children, NOT IsEmpty([Measures].[Sales])), 5, [Measures].[Sales]))"
      ],
      "mapping": {
       "horizontalSubplots": [
        "[Products].[ProductCategory].[ProductCategory]"
       ],
       "sliceBy": [
        "[Products].[ProductName].[ProductName]"
       ],
       "values": [
        "[Measures].[Sales]"
       ],
       "verticalSubplots": []
      },
      "name": "Top 5 products of the top 3 product categories",
      "query": {
       "mdx": "SELECT NON EMPTY Crossjoin(Hierarchize(Descendants({[Products].[ProductCategory].[AllMember]}, 1, SELF_AND_BEFORE)), {[Measures].[Sales]}) ON COLUMNS, NON EMPTY Hierarchize(Descendants({[Products].[ProductName].[AllMember]}, 1, SELF_AND_BEFORE)) ON ROWS FROM [Order Cube] CELL PROPERTIES VALUE, FORMATTED_VALUE, BACK_COLOR, FORE_COLOR, FONT_FLAGS",
       "updateMode": "once"
      },
      "serverKey": "default",
      "subplotLimits": {
       "horizontal": 8
      },
      "widgetKey": "plotly-donut-chart"
     }
    },
    "scrolled": true,
    "tags": []
   },
   "outputs": [
    {
     "data": {
      "application/vnd.atoti.widget.v0+json": {
       "sessionId": "1715369339_GGTQ8I",
       "sessionLocation": {
        "https": false,
        "port": 9091
       },
       "widgetCreationCode": "session.widget"
      },
      "text/html": [
       "<img height=\"352\" width=\"1334\" src=\"data:image/png;base64,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\" />"
      ],
      "text/plain": [
       "Open the notebook in JupyterLab with the Atoti JupyterLab extension enabled to build this widget."
      ]
     },
     "metadata": {},
     "output_type": "display_data"
    }
   ],
   "source": [
    "session.widget"
   ]
  },
  {
   "cell_type": "markdown",
   "id": "8027942a-41d7-4add-900c-f9748fe8e1c9",
   "metadata": {},
   "source": [
    "# Quick recap"
   ]
  },
  {
   "cell_type": "markdown",
   "id": "3d6cc39a",
   "metadata": {},
   "source": [
    "In this first section on data storytelling we've seen how to think about the context and the purpose of your story and data.\n",
    "\n",
    "* **Who**: Who is my audience, who needs to know?\n",
    "\n",
    "* **What**: What information do they need to know?  What decisions are they trying to make?  What insights do they need?\n",
    "\n",
    "* **When**: Which time period should be considered?  Should data be analysed by day, by week, by month, by year?\n",
    "\n",
    "* **Where**: Where should I look for data (geographical zones, SQL queries, MDX)\n",
    "\n",
    "In the second section, we will focus on how to present your data so that it's easier for your audience to follow your narrative."
   ]
  },
  {
   "cell_type": "markdown",
   "id": "cea63b87-69bf-4c94-8fed-0eab8d034b7a",
   "metadata": {},
   "source": [
    "<div style=\"text-align: center;\" ><a href=\"https://www.atoti.io/?utm_source=gallery&utm_content=01-storytelling\" target=\"_blank\" rel=\"noopener noreferrer\"><img src=\"https://data.atoti.io/notebooks/banners/Your-turn-to-try-Atoti.jpg\" alt=\"Try atoti\"></a></div>"
   ]
  }
 ],
 "metadata": {
  "kernelspec": {
   "display_name": "Python 3 (ipykernel)",
   "language": "python",
   "name": "python3"
  },
  "language_info": {
   "codemirror_mode": {
    "name": "ipython",
    "version": 3
   },
   "file_extension": ".py",
   "mimetype": "text/x-python",
   "name": "python",
   "nbconvert_exporter": "python",
   "pygments_lexer": "ipython3",
   "version": "3.10.13"
  }
 },
 "nbformat": 4,
 "nbformat_minor": 5
}
