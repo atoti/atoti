{
 "cells": [
  {
   "cell_type": "markdown",
   "metadata": {},
   "source": [
    "# Building Rollup Hierarchies in Python with Treelib and Atoti\n",
    "\n",
    "This notebook is illustrating how to create a product catalog inside a BI application using Treelib and Atoti. Full story is available on [Medium](https://medium.com/atoti/building-rollup-hierarchies-in-python-with-treelib-and-atoti-ffc61fbac69c?source=friends_link&sk=0b8b36c30a588af4ac0fc7a6f38d2a6f)."
   ]
  },
  {
   "cell_type": "markdown",
   "metadata": {},
   "source": [
    "<div style=\"text-align:center\"><a href=\"https://www.atoti.io/?utm_source=gallery&utm_content=rollup-hierarchies\" target=\"_blank\" rel=\"noopener noreferrer\"><img src=\"https://data.atoti.io/notebooks/banners/Discover-Atoti-now.png\" alt=\"Atoti table\" /></a></div>"
   ]
  },
  {
   "cell_type": "markdown",
   "metadata": {},
   "source": [
    "# Credits for the sample data\n",
    "\n",
    "The sample data for this project was sourced from this edu course [Data analytics with R](https://stepik.org/course/724/promo). The data has been transformed. I'm hosting my version of the data on s3:"
   ]
  },
  {
   "cell_type": "code",
   "execution_count": 1,
   "metadata": {},
   "outputs": [],
   "source": [
    "# !conda install -c conda-forge python-wget -y\n",
    "# !pip install treelib atoti[aws]"
   ]
  },
  {
   "cell_type": "code",
   "execution_count": 2,
   "metadata": {},
   "outputs": [],
   "source": [
    "import zipfile\n",
    "import pandas as pd\n",
    "import wget\n",
    "from IPython.display import clear_output, display\n",
    "from treelib import Node, Tree"
   ]
  },
  {
   "cell_type": "code",
   "execution_count": 3,
   "metadata": {},
   "outputs": [
    {
     "name": "stdout",
     "output_type": "stream",
     "text": [
      "Downloading: 100% [5833429 / 5833429] bytes\n"
     ]
    }
   ],
   "source": [
    "def bar_custom(current, total, width=80):\n",
    "    clear_output(wait=True)\n",
    "    print(\"Downloading: %d%% [%d / %d] bytes\" % (current / total * 100, current, total))\n",
    "\n",
    "\n",
    "url = \"http://data.atoti.io/notebooks/rollup-hierarchy/rollup-hierarchies2.zip\"\n",
    "filename = wget.download(url, bar=bar_custom)"
   ]
  },
  {
   "cell_type": "code",
   "execution_count": 4,
   "metadata": {
    "tags": []
   },
   "outputs": [],
   "source": [
    "# unzipping the file\n",
    "with zipfile.ZipFile(\"rollup-hierarchies2.zip\", \"r\") as zip_ref:\n",
    "    zip_ref.extractall()"
   ]
  },
  {
   "cell_type": "markdown",
   "metadata": {
    "execution": {
     "iopub.execute_input": "2021-03-02T03:32:22.627540Z",
     "iopub.status.busy": "2021-03-02T03:32:22.627215Z",
     "iopub.status.idle": "2021-03-02T03:32:23.204194Z",
     "shell.execute_reply": "2021-03-02T03:32:23.203635Z",
     "shell.execute_reply.started": "2021-03-02T03:32:22.627473Z"
    }
   },
   "source": [
    "# Reading parent-child product catalog description"
   ]
  },
  {
   "cell_type": "code",
   "execution_count": 5,
   "metadata": {},
   "outputs": [
    {
     "data": {
      "text/html": [
       "<div>\n",
       "<style scoped>\n",
       "    .dataframe tbody tr th:only-of-type {\n",
       "        vertical-align: middle;\n",
       "    }\n",
       "\n",
       "    .dataframe tbody tr th {\n",
       "        vertical-align: top;\n",
       "    }\n",
       "\n",
       "    .dataframe thead th {\n",
       "        text-align: right;\n",
       "    }\n",
       "</style>\n",
       "<table border=\"1\" class=\"dataframe\">\n",
       "  <thead>\n",
       "    <tr style=\"text-align: right;\">\n",
       "      <th></th>\n",
       "      <th>category_id</th>\n",
       "      <th>parent_id</th>\n",
       "      <th>name</th>\n",
       "      <th>link_url</th>\n",
       "    </tr>\n",
       "  </thead>\n",
       "  <tbody>\n",
       "    <tr>\n",
       "      <th>0</th>\n",
       "      <td>925</td>\n",
       "      <td>1212</td>\n",
       "      <td>Shoe dryers</td>\n",
       "      <td>http://e96.ru/household_appliances/washing/sus...</td>\n",
       "    </tr>\n",
       "    <tr>\n",
       "      <th>1</th>\n",
       "      <td>776</td>\n",
       "      <td>683</td>\n",
       "      <td>Football</td>\n",
       "      <td>http://e96.ru/sporting_goods/football</td>\n",
       "    </tr>\n",
       "    <tr>\n",
       "      <th>2</th>\n",
       "      <td>735</td>\n",
       "      <td>1175</td>\n",
       "      <td>Chests of drawers for baths</td>\n",
       "      <td>http://e96.ru/furniture/bathroom/komody_dlja_vann</td>\n",
       "    </tr>\n",
       "    <tr>\n",
       "      <th>3</th>\n",
       "      <td>1513</td>\n",
       "      <td>1504</td>\n",
       "      <td>Houses for dogs</td>\n",
       "      <td>http://e96.ru/zootovary/tovary_dlja_sobak/domi...</td>\n",
       "    </tr>\n",
       "    <tr>\n",
       "      <th>4</th>\n",
       "      <td>1357</td>\n",
       "      <td>1086</td>\n",
       "      <td>Sledgehammers</td>\n",
       "      <td>http://e96.ru/tools/hand_tools/kuvaldy</td>\n",
       "    </tr>\n",
       "  </tbody>\n",
       "</table>\n",
       "</div>"
      ],
      "text/plain": [
       "   category_id  parent_id                         name  \\\n",
       "0          925       1212                  Shoe dryers   \n",
       "1          776        683                     Football   \n",
       "2          735       1175  Chests of drawers for baths   \n",
       "3         1513       1504              Houses for dogs   \n",
       "4         1357       1086                Sledgehammers   \n",
       "\n",
       "                                            link_url  \n",
       "0  http://e96.ru/household_appliances/washing/sus...  \n",
       "1              http://e96.ru/sporting_goods/football  \n",
       "2  http://e96.ru/furniture/bathroom/komody_dlja_vann  \n",
       "3  http://e96.ru/zootovary/tovary_dlja_sobak/domi...  \n",
       "4             http://e96.ru/tools/hand_tools/kuvaldy  "
      ]
     },
     "execution_count": 5,
     "metadata": {},
     "output_type": "execute_result"
    }
   ],
   "source": [
    "categories_df = pd.read_csv(\"categories.csv\")\n",
    "categories_df.head()"
   ]
  },
  {
   "cell_type": "code",
   "execution_count": 6,
   "metadata": {},
   "outputs": [],
   "source": [
    "# creating a dict to lookup a name for an id\n",
    "cat_dict = dict(zip(categories_df.category_id, categories_df.name))"
   ]
  },
  {
   "cell_type": "markdown",
   "metadata": {},
   "source": [
    "# Populating a tree in Treelib"
   ]
  },
  {
   "cell_type": "code",
   "execution_count": 7,
   "metadata": {},
   "outputs": [],
   "source": [
    "tree = Tree()\n",
    "tree.create_node(\"Product Catalogue\", 0)\n",
    "\n",
    "# Creating nodes under root\n",
    "for i, c in categories_df.iterrows():\n",
    "    tree.create_node(c[\"name\"], c[\"category_id\"], parent=0)\n",
    "\n",
    "# Moving nodes to reflect the parent-child relationship\n",
    "for i, c in categories_df.iterrows():\n",
    "    if c[\"parent_id\"] == c[\"parent_id\"]:\n",
    "        tree.move_node(c[\"category_id\"], c[\"parent_id\"])"
   ]
  },
  {
   "cell_type": "markdown",
   "metadata": {},
   "source": [
    "# paths_to_leaves\n",
    "\n",
    "Having created a Tree using Treelib, it's trivial to obtain all paths to leaves:"
   ]
  },
  {
   "cell_type": "code",
   "execution_count": 8,
   "metadata": {},
   "outputs": [
    {
     "data": {
      "text/plain": [
       "[[0, 16, 1212, 925],\n",
       " [0, 1342, 1175, 735],\n",
       " [0, 1502, 1504, 1513],\n",
       " [0, 129, 1086, 1357],\n",
       " [0, 304, 1037, 530]]"
      ]
     },
     "execution_count": 8,
     "metadata": {},
     "output_type": "execute_result"
    }
   ],
   "source": [
    "tree.paths_to_leaves()[:5]"
   ]
  },
  {
   "cell_type": "markdown",
   "metadata": {},
   "source": [
    "The following will show that the tree is unbalanced:"
   ]
  },
  {
   "cell_type": "code",
   "execution_count": 9,
   "metadata": {},
   "outputs": [
    {
     "name": "stdout",
     "output_type": "stream",
     "text": [
      "Min depth is 3, max depth is 4\n"
     ]
    }
   ],
   "source": [
    "print(\n",
    "    \"Min depth is {}, max depth is {}\".format(\n",
    "        min([len(i) for i in tree.paths_to_leaves()]),\n",
    "        max([len(i) for i in tree.paths_to_leaves()]),\n",
    "    )\n",
    ")"
   ]
  },
  {
   "cell_type": "markdown",
   "metadata": {},
   "source": [
    "Although parent-child pairs are a very natural way to express hierarchies, we can’t use them in its raw form for slicing and dicing. Think about a table in Excel — with different levels of a tree in separate columns, we can combine them in a pivot table to roll up and down through the levels of the catalogue. \n",
    "\n",
    "Let’s extract the levels of the tree into separate columns, and save into the `categories_hierarchy.csv` file:"
   ]
  },
  {
   "cell_type": "code",
   "execution_count": 10,
   "metadata": {},
   "outputs": [],
   "source": [
    "with open(\"categories_hierarchy.csv\", \"w+\") as outfile:\n",
    "    outfile.write(\n",
    "        \",\".join([\"Category_Lvl\" + str(i + 1) for i in range(tree.depth())]) + \"\\n\"\n",
    "    )\n",
    "    for p in tree.paths_to_leaves():\n",
    "        outfile.write(\n",
    "            \",\".join(\n",
    "                [f'\"{cat_dict[pi]}\"' for pi in p[1:]]\n",
    "                + [cat_dict[p[-1]]]\n",
    "                * (\n",
    "                    tree.depth() - len(p) + 1\n",
    "                )  # I'm adding the last item for the shorter branches to balance the tree\n",
    "            )\n",
    "            + \"\\n\"\n",
    "        )"
   ]
  },
  {
   "cell_type": "code",
   "execution_count": 11,
   "metadata": {
    "tags": []
   },
   "outputs": [
    {
     "data": {
      "text/html": [
       "<div>\n",
       "<style scoped>\n",
       "    .dataframe tbody tr th:only-of-type {\n",
       "        vertical-align: middle;\n",
       "    }\n",
       "\n",
       "    .dataframe tbody tr th {\n",
       "        vertical-align: top;\n",
       "    }\n",
       "\n",
       "    .dataframe thead th {\n",
       "        text-align: right;\n",
       "    }\n",
       "</style>\n",
       "<table border=\"1\" class=\"dataframe\">\n",
       "  <thead>\n",
       "    <tr style=\"text-align: right;\">\n",
       "      <th></th>\n",
       "      <th>Category_Lvl1</th>\n",
       "      <th>Category_Lvl2</th>\n",
       "      <th>Category_Lvl3</th>\n",
       "    </tr>\n",
       "  </thead>\n",
       "  <tbody>\n",
       "    <tr>\n",
       "      <th>0</th>\n",
       "      <td>Household products</td>\n",
       "      <td>Washing and drying</td>\n",
       "      <td>Shoe dryers</td>\n",
       "    </tr>\n",
       "    <tr>\n",
       "      <th>1</th>\n",
       "      <td>Furniture</td>\n",
       "      <td>Bathroom furniture</td>\n",
       "      <td>Chests of drawers for baths</td>\n",
       "    </tr>\n",
       "    <tr>\n",
       "      <th>2</th>\n",
       "      <td>Pet products</td>\n",
       "      <td>Products for dogs</td>\n",
       "      <td>Houses for dogs</td>\n",
       "    </tr>\n",
       "  </tbody>\n",
       "</table>\n",
       "</div>"
      ],
      "text/plain": [
       "        Category_Lvl1       Category_Lvl2                Category_Lvl3\n",
       "0  Household products  Washing and drying                  Shoe dryers\n",
       "1           Furniture  Bathroom furniture  Chests of drawers for baths\n",
       "2        Pet products   Products for dogs              Houses for dogs"
      ]
     },
     "execution_count": 11,
     "metadata": {},
     "output_type": "execute_result"
    }
   ],
   "source": [
    "pd.read_csv(\"categories_hierarchy.csv\").head(3)"
   ]
  },
  {
   "cell_type": "markdown",
   "metadata": {},
   "source": [
    "# Launching BI app using Atoti"
   ]
  },
  {
   "cell_type": "code",
   "execution_count": 12,
   "metadata": {
    "tags": []
   },
   "outputs": [],
   "source": [
    "import atoti as tt\n",
    "\n",
    "session = tt.Session(java_options=[\"-Xms2G\", \"-Xmx8G\"])\n",
    "\n",
    "events_tbl = session.read_csv(\n",
    "    \"events.csv\",\n",
    "    table_name=\"Events\",\n",
    "    keys=[\"externalsessionid\", \"eventtype\"],\n",
    ")"
   ]
  },
  {
   "cell_type": "code",
   "execution_count": 13,
   "metadata": {
    "tags": []
   },
   "outputs": [
    {
     "data": {
      "text/html": [
       "<div>\n",
       "<style scoped>\n",
       "    .dataframe tbody tr th:only-of-type {\n",
       "        vertical-align: middle;\n",
       "    }\n",
       "\n",
       "    .dataframe tbody tr th {\n",
       "        vertical-align: top;\n",
       "    }\n",
       "\n",
       "    .dataframe thead th {\n",
       "        text-align: right;\n",
       "    }\n",
       "</style>\n",
       "<table border=\"1\" class=\"dataframe\">\n",
       "  <thead>\n",
       "    <tr style=\"text-align: right;\">\n",
       "      <th></th>\n",
       "      <th></th>\n",
       "      <th>timestamp</th>\n",
       "      <th>eventdate</th>\n",
       "      <th>ordernumber</th>\n",
       "      <th>pricecents</th>\n",
       "      <th>totalcents</th>\n",
       "      <th>quantity</th>\n",
       "      <th>product_id</th>\n",
       "      <th>duration</th>\n",
       "    </tr>\n",
       "    <tr>\n",
       "      <th>externalsessionid</th>\n",
       "      <th>eventtype</th>\n",
       "      <th></th>\n",
       "      <th></th>\n",
       "      <th></th>\n",
       "      <th></th>\n",
       "      <th></th>\n",
       "      <th></th>\n",
       "      <th></th>\n",
       "      <th></th>\n",
       "    </tr>\n",
       "  </thead>\n",
       "  <tbody>\n",
       "    <tr>\n",
       "      <th>84979</th>\n",
       "      <th>purchase</th>\n",
       "      <td>1458666584015</td>\n",
       "      <td>2016-03-22</td>\n",
       "      <td>21296.0</td>\n",
       "      <td>355.0</td>\n",
       "      <td>355.0</td>\n",
       "      <td>1.0</td>\n",
       "      <td>135924.0</td>\n",
       "      <td>N/A</td>\n",
       "    </tr>\n",
       "    <tr>\n",
       "      <th>55641</th>\n",
       "      <th>purchase</th>\n",
       "      <td>1460290809794</td>\n",
       "      <td>2016-04-10</td>\n",
       "      <td>48457.0</td>\n",
       "      <td>282.0</td>\n",
       "      <td>282.0</td>\n",
       "      <td>1.0</td>\n",
       "      <td>568116.0</td>\n",
       "      <td>N/A</td>\n",
       "    </tr>\n",
       "    <tr>\n",
       "      <th>82361</th>\n",
       "      <th>purchase</th>\n",
       "      <td>1461756530156</td>\n",
       "      <td>2016-04-27</td>\n",
       "      <td>73927.0</td>\n",
       "      <td>1795.0</td>\n",
       "      <td>1795.0</td>\n",
       "      <td>1.0</td>\n",
       "      <td>139096.0</td>\n",
       "      <td>N/A</td>\n",
       "    </tr>\n",
       "    <tr>\n",
       "      <th>19218</th>\n",
       "      <th>purchase</th>\n",
       "      <td>1459791081555</td>\n",
       "      <td>2016-04-04</td>\n",
       "      <td>3160.0</td>\n",
       "      <td>304.0</td>\n",
       "      <td>304.0</td>\n",
       "      <td>1.0</td>\n",
       "      <td>569698.0</td>\n",
       "      <td>N/A</td>\n",
       "    </tr>\n",
       "    <tr>\n",
       "      <th>67539</th>\n",
       "      <th>purchase</th>\n",
       "      <td>1462774776922</td>\n",
       "      <td>2016-05-09</td>\n",
       "      <td>18331.0</td>\n",
       "      <td>2120.0</td>\n",
       "      <td>2120.0</td>\n",
       "      <td>1.0</td>\n",
       "      <td>276455.0</td>\n",
       "      <td>N/A</td>\n",
       "    </tr>\n",
       "  </tbody>\n",
       "</table>\n",
       "</div>"
      ],
      "text/plain": [
       "                                 timestamp  eventdate  ordernumber  \\\n",
       "externalsessionid eventtype                                          \n",
       "84979             purchase   1458666584015 2016-03-22      21296.0   \n",
       "55641             purchase   1460290809794 2016-04-10      48457.0   \n",
       "82361             purchase   1461756530156 2016-04-27      73927.0   \n",
       "19218             purchase   1459791081555 2016-04-04       3160.0   \n",
       "67539             purchase   1462774776922 2016-05-09      18331.0   \n",
       "\n",
       "                             pricecents  totalcents  quantity  product_id  \\\n",
       "externalsessionid eventtype                                                 \n",
       "84979             purchase        355.0       355.0       1.0    135924.0   \n",
       "55641             purchase        282.0       282.0       1.0    568116.0   \n",
       "82361             purchase       1795.0      1795.0       1.0    139096.0   \n",
       "19218             purchase        304.0       304.0       1.0    569698.0   \n",
       "67539             purchase       2120.0      2120.0       1.0    276455.0   \n",
       "\n",
       "                            duration  \n",
       "externalsessionid eventtype           \n",
       "84979             purchase       N/A  \n",
       "55641             purchase       N/A  \n",
       "82361             purchase       N/A  \n",
       "19218             purchase       N/A  \n",
       "67539             purchase       N/A  "
      ]
     },
     "execution_count": 13,
     "metadata": {},
     "output_type": "execute_result"
    }
   ],
   "source": [
    "events_tbl.head()"
   ]
  },
  {
   "cell_type": "code",
   "execution_count": 14,
   "metadata": {
    "tags": []
   },
   "outputs": [
    {
     "data": {
      "text/plain": [
       "{'columns': 10, 'rows': 27112}"
      ]
     },
     "execution_count": 14,
     "metadata": {},
     "output_type": "execute_result"
    }
   ],
   "source": [
    "{\"columns\": len(events_tbl.columns), \"rows\": len(events_tbl)}"
   ]
  },
  {
   "cell_type": "code",
   "execution_count": 15,
   "metadata": {
    "tags": []
   },
   "outputs": [],
   "source": [
    "cube = session.create_cube(events_tbl, \"Sales Analytics\")"
   ]
  },
  {
   "cell_type": "code",
   "execution_count": 16,
   "metadata": {
    "tags": []
   },
   "outputs": [
    {
     "data": {
      "application/vnd.atoti.link.v0+json": {
       "path": "",
       "sessionLocation": {
        "https": false,
        "port": 65313
       }
      },
      "text/markdown": [
       "http://localhost:65313\n",
       "\n",
       "_Note_: This is the session's local URL: it may not be reachable if Atoti is running on another machine."
      ],
      "text/plain": [
       "http://localhost:65313 (This is the session's local URL: it may not be reachable if Atoti is running on another machine.)"
      ]
     },
     "execution_count": 16,
     "metadata": {},
     "output_type": "execute_result"
    }
   ],
   "source": [
    "session.link"
   ]
  },
  {
   "cell_type": "code",
   "execution_count": 17,
   "metadata": {
    "tags": []
   },
   "outputs": [
    {
     "data": {
      "text/html": [
       "<div>\n",
       "<style scoped>\n",
       "    .dataframe tbody tr th:only-of-type {\n",
       "        vertical-align: middle;\n",
       "    }\n",
       "\n",
       "    .dataframe tbody tr th {\n",
       "        vertical-align: top;\n",
       "    }\n",
       "\n",
       "    .dataframe thead th {\n",
       "        text-align: right;\n",
       "    }\n",
       "</style>\n",
       "<table border=\"1\" class=\"dataframe\">\n",
       "  <thead>\n",
       "    <tr style=\"text-align: right;\">\n",
       "      <th></th>\n",
       "      <th>name</th>\n",
       "      <th>price</th>\n",
       "      <th>available</th>\n",
       "      <th>brand</th>\n",
       "    </tr>\n",
       "    <tr>\n",
       "      <th>product_id</th>\n",
       "      <th></th>\n",
       "      <th></th>\n",
       "      <th></th>\n",
       "      <th></th>\n",
       "    </tr>\n",
       "  </thead>\n",
       "  <tbody>\n",
       "    <tr>\n",
       "      <th>858063</th>\n",
       "      <td>LgeoNtP ilnce</td>\n",
       "      <td>1361</td>\n",
       "      <td>True</td>\n",
       "      <td>Steba</td>\n",
       "    </tr>\n",
       "    <tr>\n",
       "      <th>414315</th>\n",
       "      <td>CsgiiB hkpCt</td>\n",
       "      <td>685</td>\n",
       "      <td>True</td>\n",
       "      <td>Zilmer</td>\n",
       "    </tr>\n",
       "    <tr>\n",
       "      <th>634869</th>\n",
       "      <td>rtaTAe esoBDF</td>\n",
       "      <td>425</td>\n",
       "      <td>True</td>\n",
       "      <td>Magnit</td>\n",
       "    </tr>\n",
       "    <tr>\n",
       "      <th>672777</th>\n",
       "      <td>kkfea</td>\n",
       "      <td>109</td>\n",
       "      <td>False</td>\n",
       "      <td>Cersanit</td>\n",
       "    </tr>\n",
       "    <tr>\n",
       "      <th>168738</th>\n",
       "      <td>eeetao roFaDO</td>\n",
       "      <td>1552</td>\n",
       "      <td>True</td>\n",
       "      <td>Novatrack</td>\n",
       "    </tr>\n",
       "  </tbody>\n",
       "</table>\n",
       "</div>"
      ],
      "text/plain": [
       "                     name  price  available      brand\n",
       "product_id                                            \n",
       "858063      LgeoNtP ilnce   1361       True      Steba\n",
       "414315       CsgiiB hkpCt    685       True     Zilmer\n",
       "634869      rtaTAe esoBDF    425       True     Magnit\n",
       "672777              kkfea    109      False   Cersanit\n",
       "168738      eeetao roFaDO   1552       True  Novatrack"
      ]
     },
     "execution_count": 17,
     "metadata": {},
     "output_type": "execute_result"
    }
   ],
   "source": [
    "products_tbl = session.read_csv(\n",
    "    \"products.csv\",\n",
    "    table_name=\"Product Attributes\",\n",
    "    separator=\";\",\n",
    "    process_quotes=True,\n",
    "    keys=[\"product_id\"],\n",
    ")\n",
    "products_tbl.head()"
   ]
  },
  {
   "cell_type": "code",
   "execution_count": 18,
   "metadata": {},
   "outputs": [],
   "source": [
    "# loading product to category mapping into the cube\n",
    "products_categories_tbl = session.read_csv(\n",
    "    \"product-categories.csv\", table_name=\"Categories\", keys=[\"product_id\"]\n",
    ")"
   ]
  },
  {
   "cell_type": "code",
   "execution_count": 19,
   "metadata": {},
   "outputs": [],
   "source": [
    "# loading categories hierarchy into the cube\n",
    "categories_tree_tbl = session.read_csv(\n",
    "    \"categories_hierarchy.csv\",\n",
    "    table_name=\"Categories Hierarchy\",\n",
    "    keys=[\"Category_Lvl3\"],\n",
    ")"
   ]
  },
  {
   "cell_type": "code",
   "execution_count": 20,
   "metadata": {},
   "outputs": [
    {
     "data": {
      "image/png": "[encoded data removed]",
      "text/plain": [
       "erDiagram\n",
       "  \"Categories Hierarchy\" {\n",
       "    _ String \"Category_Lvl1\"\n",
       "    _ String \"Category_Lvl2\"\n",
       "    _ String PK \"Category_Lvl3\"\n",
       "  }\n",
       "  \"Events\" {\n",
       "    _ int PK \"externalsessionid\"\n",
       "    nullable long \"timestamp\"\n",
       "    _ LocalDate \"eventdate\"\n",
       "    nullable double \"ordernumber\"\n",
       "    nullable double \"pricecents\"\n",
       "    nullable double \"totalcents\"\n",
       "    nullable double \"quantity\"\n",
       "    nullable double \"product_id\"\n",
       "    _ String PK \"eventtype\"\n",
       "    _ String \"duration\"\n",
       "  }\n",
       "  \"Product Attributes\" {\n",
       "    _ double PK \"product_id\"\n",
       "    _ String \"name\"\n",
       "    nullable int \"price\"\n",
       "    _ boolean \"available\"\n",
       "    _ String \"brand\"\n",
       "  }\n",
       "  \"Categories\" {\n",
       "    _ String \"Category\"\n",
       "    _ double PK \"product_id\"\n",
       "  }\n",
       "  \"Events\" }o--o| \"Product Attributes\" : \"`product_id` == `product_id`\"\n",
       "  \"Events\" }o--o| \"Categories\" : \"`product_id` == `product_id`\"\n",
       "  \"Categories\" }o--o| \"Categories Hierarchy\" : \"`Category` == `Category_Lvl3`\""
      ]
     },
     "execution_count": 20,
     "metadata": {},
     "output_type": "execute_result"
    }
   ],
   "source": [
    "events_tbl.join(products_tbl, events_tbl[\"product_id\"] == products_tbl[\"product_id\"])\n",
    "events_tbl.join(\n",
    "    products_categories_tbl,\n",
    "    events_tbl[\"product_id\"] == products_categories_tbl[\"product_id\"],\n",
    ")\n",
    "products_categories_tbl.join(\n",
    "    categories_tree_tbl,\n",
    "    products_categories_tbl[\"Category\"] == categories_tree_tbl[\"Category_Lvl3\"],\n",
    ")\n",
    "session.tables.schema"
   ]
  },
  {
   "cell_type": "code",
   "execution_count": 21,
   "metadata": {},
   "outputs": [],
   "source": [
    "# Creating a multi-level hierarchy to automatically expand data:\n",
    "cube.hierarchies[\"Catalog\"] = [\n",
    "    cube.levels[\"Category_Lvl1\"],\n",
    "    cube.levels[\"Category_Lvl2\"],\n",
    "    cube.levels[\"Category\"],\n",
    "]"
   ]
  },
  {
   "cell_type": "code",
   "execution_count": 22,
   "metadata": {},
   "outputs": [],
   "source": [
    "# A measure to count unique sessions\n",
    "cube.measures[\"UniqueSessionsCount\"] = tt.agg.count_distinct(\n",
    "    events_tbl[\"externalsessionid\"]\n",
    ")"
   ]
  },
  {
   "cell_type": "markdown",
   "metadata": {},
   "source": [
    "Take note that the `UniqueSessionsCount` for `eventtype` level is higher than at the `Category_Lvl1` level. This is because the same `externalsessionid` may exists for both purchase and view events."
   ]
  },
  {
   "cell_type": "code",
   "execution_count": 23,
   "metadata": {
    "atoti": {
     "height": 736,
     "state": {
      "name": "",
      "type": "container",
      "value": {
       "body": {
        "configuration": {
         "tabular": {
          "addButtonFilter": "numeric",
          "cellRenderers": [
           "tree-layout"
          ],
          "columns": [
           {
            "key": "[Measures].[UniqueSessionsCount]",
            "width": 161
           }
          ],
          "columnsGroups": [
           {
            "captionProducer": "firstColumn",
            "cellFactory": "kpi-status",
            "selector": "kpi-status"
           },
           {
            "captionProducer": "firstColumn",
            "cellFactory": "lookup",
            "selector": "lookup"
           },
           {
            "captionProducer": "expiry",
            "cellFactory": "expiry",
            "selector": "kpi-expiry"
           },
           {
            "captionProducer": "columnMerge",
            "cellFactory": {
             "args": {},
             "key": "treeCells"
            },
            "selector": "member"
           }
          ],
          "defaultOptions": {
           "headerHeight": 47
          },
          "expansion": {
           "automaticExpansion": true
          },
          "hideAddButton": true,
          "pinnedHeaderSelector": "member",
          "sortingMode": "non-breaking",
          "statisticsShown": true
         }
        },
        "contextValues": {},
        "mdx": "SELECT NON EMPTY Hierarchize(DrilldownLevel([Categories Hierarchy].[Catalog].[ALL].[AllMember])) ON ROWS, NON EMPTY Crossjoin([Measures].[UniqueSessionsCount], Hierarchize(DrilldownLevel([Events].[eventtype].[ALL].[AllMember]))) ON COLUMNS FROM [Sales Analytics] CELL PROPERTIES VALUE, FORMATTED_VALUE, BACK_COLOR, FORE_COLOR, FONT_FLAGS",
        "ranges": {
         "column": {
          "chunkSize": 50,
          "thresholdPercentage": 0.2
         },
         "row": {
          "chunkSize": 2000,
          "thresholdPercentage": 0.1
         }
        },
        "serverUrl": "",
        "updateMode": "once"
       },
       "containerKey": "pivot-table",
       "showTitleBar": false,
       "style": {}
      }
     },
     "widget": {
      "columnWidths": {
       "[Categories Hierarchy].[Catalog].[Category]": 133.234375,
       "[Categories Hierarchy].[Catalog].[Category_Lvl2]": 205.234375,
       "[Measures].[UniqueSessionsCount]": 160,
       "[Measures].[contributors.COUNT]": 158.765625
      },
      "mapping": {
       "columns": [
        "ALL_MEASURES"
       ],
       "measures": [
        "[Measures].[UniqueSessionsCount]",
        "[Measures].[contributors.COUNT]"
       ],
       "rows": [
        "[Categories Hierarchy].[Catalog].[Category_Lvl1] => [Categories Hierarchy].[Catalog].[Category]",
        "[Events].[eventtype].[eventtype]"
       ]
      },
      "query": {
       "mdx": "SELECT NON EMPTY Crossjoin(Hierarchize(Descendants({[Categories Hierarchy].[Catalog].[AllMember]}, 1, SELF_AND_BEFORE)), Hierarchize(Descendants({[Events].[eventtype].[AllMember]}, 1, SELF_AND_BEFORE))) ON ROWS, NON EMPTY {[Measures].[UniqueSessionsCount], [Measures].[contributors.COUNT]} ON COLUMNS FROM [Sales Analytics]",
       "updateMode": "once"
      },
      "serverKey": "default",
      "widgetKey": "pivot-table"
     }
    },
    "tags": []
   },
   "outputs": [
    {
     "data": {
      "application/vnd.atoti.widget.v0+json": {
       "sessionId": "1721028084_MKSTOV",
       "sessionLocation": {
        "https": false,
        "port": 65313
       },
       "widgetCreationCode": "session.widget"
      },
      "text/html": [
       "<img height=\"728\" width=\"1351\" src=\"data:image/png;base64,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\" />"
      ],
      "text/plain": [
       "Open the notebook in JupyterLab with the Atoti JupyterLab extension enabled to see this widget."
      ]
     },
     "metadata": {},
     "output_type": "display_data"
    }
   ],
   "source": [
    "session.widget"
   ]
  },
  {
   "cell_type": "code",
   "execution_count": 24,
   "metadata": {},
   "outputs": [],
   "source": [
    "cube.measures[\"Sales\"] = cube.measures[\"totalcents.SUM\"]\n",
    "cube.measures[\"Sales as % of Grand Total\"] = cube.measures[\"Sales\"] / tt.total(\n",
    "    cube.measures[\"Sales\"], cube.hierarchies[\"Catalog\"]\n",
    ")\n",
    "cube.measures[\"Sales as % of Grand Total\"].formatter = \"DOUBLE[0.00%]\""
   ]
  },
  {
   "cell_type": "code",
   "execution_count": 25,
   "metadata": {
    "atoti": {
     "widget": {
      "columnWidths": {
       "[Categories Hierarchy].[Catalog].[Category]": 149,
       "[Categories Hierarchy].[Catalog].[Category_Lvl1]": 234,
       "[Categories Hierarchy].[Catalog].[Category_Lvl2]": 225,
       "[Measures].[Sales as % of Grand Total]": 170
      },
      "mapping": {
       "columns": [
        "ALL_MEASURES"
       ],
       "measures": [
        "[Measures].[Sales as % of Grand Total]"
       ],
       "rows": [
        "[Categories Hierarchy].[Catalog].[Category_Lvl1] => [Categories Hierarchy].[Catalog].[Category]"
       ]
      },
      "query": {
       "mdx": "SELECT NON EMPTY Hierarchize(Union(Descendants({[Categories Hierarchy].[Catalog].[AllMember]}, 1, SELF_AND_BEFORE), Descendants({[Categories Hierarchy].[Catalog].[AllMember].[N/A]}, [Categories Hierarchy].[Catalog].[Category_Lvl2]), Descendants({[Categories Hierarchy].[Catalog].[AllMember].[Auto and Moto]}, [Categories Hierarchy].[Catalog].[Category_Lvl2]), Descendants({[Categories Hierarchy].[Catalog].[AllMember].[Auto and Moto].[Alarms]}, [Categories Hierarchy].[Catalog].[Category]))) ON ROWS, NON EMPTY {[Measures].[Sales as % of Grand Total]} ON COLUMNS FROM [Sales Analytics]",
       "updateMode": "once"
      },
      "serverKey": "default",
      "widgetKey": "pivot-table"
     }
    },
    "tags": []
   },
   "outputs": [
    {
     "data": {
      "application/vnd.atoti.widget.v0+json": {
       "sessionId": "1721028084_MKSTOV",
       "sessionLocation": {
        "https": false,
        "port": 65313
       },
       "widgetCreationCode": "session.widget"
      },
      "text/html": [
       "<img height=\"352\" width=\"1351\" src=\"data:image/png;base64,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\" />"
      ],
      "text/plain": [
       "Open the notebook in JupyterLab with the Atoti JupyterLab extension enabled to build this widget."
      ]
     },
     "metadata": {},
     "output_type": "display_data"
    }
   ],
   "source": [
    "session.widget"
   ]
  },
  {
   "cell_type": "markdown",
   "metadata": {},
   "source": [
    "# Start building dashboards"
   ]
  },
  {
   "cell_type": "code",
   "execution_count": 26,
   "metadata": {},
   "outputs": [
    {
     "data": {
      "application/vnd.atoti.link.v0+json": {
       "path": "",
       "sessionLocation": {
        "https": false,
        "port": 65313
       }
      },
      "text/markdown": [
       "http://localhost:65313\n",
       "\n",
       "_Note_: This is the session's local URL: it may not be reachable if Atoti is running on another machine."
      ],
      "text/plain": [
       "http://localhost:65313 (This is the session's local URL: it may not be reachable if Atoti is running on another machine.)"
      ]
     },
     "execution_count": 26,
     "metadata": {},
     "output_type": "execute_result"
    }
   ],
   "source": [
    "session.link"
   ]
  },
  {
   "cell_type": "markdown",
   "metadata": {
    "editable": true,
    "slideshow": {
     "slide_type": ""
    },
    "tags": []
   },
   "source": [
    "<div style=\"text-align:center\"><a href=\"https://www.atoti.io/?utm_source=gallery&utm_content=rollup-hierarchies\" target=\"_blank\" rel=\"noopener noreferrer\"><img src=\"https://data.atoti.io/notebooks/banners/Your-turn-to-try-Atoti.jpg\" alt=\"Atoti table\" /></a></div>"
   ]
  }
 ],
 "metadata": {
  "kernelspec": {
   "display_name": "Python 3 (ipykernel)",
   "language": "python",
   "name": "python3"
  },
  "language_info": {
   "codemirror_mode": {
    "name": "ipython",
    "version": 3
   },
   "file_extension": ".py",
   "mimetype": "text/x-python",
   "name": "python",
   "nbconvert_exporter": "python",
   "pygments_lexer": "ipython3",
   "version": "3.10.0"
  },
  "widgets": {
   "application/vnd.jupyter.widget-state+json": {
    "state": {},
    "version_major": 2,
    "version_minor": 0
   }
  }
 },
 "nbformat": 4,
 "nbformat_minor": 4
}
