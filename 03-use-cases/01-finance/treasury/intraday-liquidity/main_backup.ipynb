{
 "cells": [
  {
   "cell_type": "markdown",
   "id": "b0cdd533-c4c9-494d-a7b6-685fae6ca60b",
   "metadata": {
    "editable": true,
    "slideshow": {
     "slide_type": ""
    },
    "tags": []
   },
   "source": [
    "# Intraday Liquidity Reporting\n",
    "\\[_In case you’re unable to see the Atoti visualizations in GitHub, try viewing the notebook in [nbviewer](https://nbviewer.org/github/atoti/atoti/blob/main/03-use-cases/01-finance/treasury/intraday-liquidity/main.ipynb)._]\n",
    "\n",
    "Last tested version: <img src=\"https://img.shields.io/badge/Atoti-v0.8.4-blue\">\n",
    "\n",
    "This notebook is a small preview to what we can do with [Atoti](https://www.atoti.io/) for Intraday Liquidity monitoring based on [BCBS248](https://www.bis.org/publ/bcbs248.pdf):\n",
    "- Daily maximum intraday liquidity usage\n",
    "- Largest positive and negative net cumulative positions\n",
    "- Gross payment sent and received\n",
    "\n",
    "With that, we can easily derive the monthly reporting:  \n",
    "\n",
    "<img src=\"img/monthly_report.png\" width=\"850px\" />\n",
    "\n",
    "With <a href=\"https://docs.atoti.io/latest/how_tos/unlock_all_features.html\"><img src=\"https://img.shields.io/badge/🔒-Atoti-291A40\" /></a>, we can extend the UI to achieve a more comprehensive storytelling capability:\n",
    "\n",
    "<img src=\"img/storytelling.gif\" width=\"850px\"/>  \n"
   ]
  },
  {
   "cell_type": "code",
   "execution_count": 1,
   "id": "c3093d6d-c5d8-4032-b95e-2fe41599e609",
   "metadata": {},
   "outputs": [],
   "source": [
    "import random\n",
    "import time\n",
    "\n",
    "import atoti as tt\n",
    "import pandas as pd"
   ]
  },
  {
   "cell_type": "markdown",
   "id": "64ed971b-fe48-43d6-a3b4-8a1cdad9ece4",
   "metadata": {},
   "source": [
    "<div style=\"text-align: center;\" ><a href=\"https://www.atoti.io/?utm_source=gallery&utm_content=intraday_liquidity\" target=\"_blank\" rel=\"noopener noreferrer\"><img src=\"https://data.atoti.io/notebooks/banners/Discover-Atoti-now.png\" alt=\"Try Atoti\"></a></div>"
   ]
  },
  {
   "cell_type": "markdown",
   "id": "d4f5ea75-af40-4f52-8020-06e74b297458",
   "metadata": {},
   "source": [
    "## 1. Getting started\n",
    "\n",
    "The general outline to [getting started with Atoti](https://docs.atoti.io/latest/getting_started/tutorial/tutorial.html#Getting-started) is as follows:\n",
    "1. Instantiate an [Atoti session](https://docs.atoti.io/latest/lib/atoti/atoti.session.html#atoti.Session)\n",
    "2. Create [Atoti table(s)](https://docs.atoti.io/latest/lib/atoti/atoti.table.html)\n",
    "3. [Join the Atoti tables](https://docs.atoti.io/latest/getting_started/tutorial/tutorial.html#Enriching-the-cube) as necessary\n",
    "4. [Create Atoti cube](https://docs.atoti.io/latest/lib/atoti/atoti.session.html#atoti.Session.create_cube)\n",
    "5. Proceed with [hierarchy manipulations](https://docs.atoti.io/latest/lib/atoti/atoti.hierarchies.html), [measure creation](https://docs.atoti.io/latest/lib/atoti/atoti.measure.html) and visualization.\n",
    "\n",
    "Interwined with the business use case, we will show some tips on how to customize the solution."
   ]
  },
  {
   "cell_type": "markdown",
   "id": "fce08d77-f940-4c92-b9fc-a3fc11775f77",
   "metadata": {},
   "source": [
    "### 1.1 Instantiate Atoti session\n",
    "\n",
    "We can easily instantiate [Atoti session](https://docs.atoti.io/latest/lib/atoti/atoti.session.html#atoti.Session) without any parameters. However, in our use case, we have fixed the `port` for the web application and also persist our dashboards in the content folder as configured with the `user_content_storage` parameter.  \n",
    "\n",
    "Here, we zoom in on the parameter `java_options` to see how we can customize the memory usage for the instance. The JVM default memory is set to use 25% of the machine memory.  \n",
    "We used `-XX:MaxRAMPercentage` to dedicate 50% of the resources to the Java Heap. Check out the [_Deployment setup_](https://docs.atoti.io/latest/deployment/deployment_setup.html) guide in [Atoti documentation](https://docs.atoti.io/) to find out more."
   ]
  },
  {
   "cell_type": "code",
   "execution_count": 2,
   "id": "4d84d3d1-e12d-49e2-8a0a-03e7c6a291d5",
   "metadata": {},
   "outputs": [
    {
     "name": "stderr",
     "output_type": "stream",
     "text": [
      "Exception ignored in: <function Session.__del__ at 0x11e9082c0>\n",
      "Traceback (most recent call last):\n",
      "  File \"/Users/aya/Desktop/atoti/.venv/lib/python3.11/site-packages/atoti/session.py\", line 518, in __del__\n",
      "    self.__exit__(None, None, None)\n",
      "  File \"/Users/aya/Desktop/atoti/.venv/lib/python3.11/site-packages/atoti/session.py\", line 489, in __exit__\n",
      "    self._exit_stack.__exit__(exception_type, exception_value, exception_traceback)\n",
      "    ^^^^^^^^^^^^^^^^\n",
      "AttributeError: 'Session' object has no attribute '_exit_stack'\n"
     ]
    },
    {
     "ename": "TypeError",
     "evalue": "Session.__init__() got an unexpected keyword argument 'port'",
     "output_type": "error",
     "traceback": [
      "\u001b[0;31m---------------------------------------------------------------------------\u001b[0m",
      "\u001b[0;31mTypeError\u001b[0m                                 Traceback (most recent call last)",
      "Cell \u001b[0;32mIn[2], line 1\u001b[0m\n\u001b[0;32m----> 1\u001b[0m session \u001b[38;5;241m=\u001b[39m \u001b[43mtt\u001b[49m\u001b[38;5;241;43m.\u001b[39;49m\u001b[43mSession\u001b[49m\u001b[43m(\u001b[49m\n\u001b[1;32m      2\u001b[0m \u001b[43m    \u001b[49m\u001b[43mport\u001b[49m\u001b[38;5;241;43m=\u001b[39;49m\u001b[38;5;241;43m10011\u001b[39;49m\u001b[43m,\u001b[49m\n\u001b[1;32m      3\u001b[0m \u001b[43m    \u001b[49m\u001b[43muser_content_storage\u001b[49m\u001b[38;5;241;43m=\u001b[39;49m\u001b[38;5;124;43m\"\u001b[39;49m\u001b[38;5;124;43m./content\u001b[39;49m\u001b[38;5;124;43m\"\u001b[39;49m\u001b[43m,\u001b[49m\n\u001b[1;32m      4\u001b[0m \u001b[43m    \u001b[49m\u001b[43mjava_options\u001b[49m\u001b[38;5;241;43m=\u001b[39;49m\u001b[43m[\u001b[49m\u001b[38;5;124;43m\"\u001b[39;49m\u001b[38;5;124;43m-XX:MaxRAMPercentage=50\u001b[39;49m\u001b[38;5;124;43m\"\u001b[39;49m\u001b[43m,\u001b[49m\u001b[43m \u001b[49m\u001b[38;5;124;43m\"\u001b[39;49m\u001b[38;5;124;43m-XX:+UnlockExperimentalVMOptions\u001b[39;49m\u001b[38;5;124;43m\"\u001b[39;49m\u001b[43m]\u001b[49m\u001b[43m,\u001b[49m\n\u001b[1;32m      5\u001b[0m \u001b[43m)\u001b[49m\n",
      "\u001b[0;31mTypeError\u001b[0m: Session.__init__() got an unexpected keyword argument 'port'"
     ]
    }
   ],
   "source": [
    "session = tt.Session(\n",
    "    port=10011,\n",
    "    user_content_storage=\"./content\",\n",
    "    java_options=[\"-XX:MaxRAMPercentage=50\", \"-XX:+UnlockExperimentalVMOptions\"],\n",
    ")"
   ]
  },
  {
   "cell_type": "markdown",
   "id": "eacfcfd0-8221-43cd-9ae5-f46461fac503",
   "metadata": {},
   "source": [
    "Access the web application from the link below. It's running on the port defined for the session above.  \n",
    "Bear in mind that we have yet to create any cubes for the session. Hence, there's nothing we can do on the web application yet. We will come back to this later on."
   ]
  },
  {
   "cell_type": "code",
   "execution_count": null,
   "id": "6fd82a7a-8753-4080-8106-8b164d496215",
   "metadata": {},
   "outputs": [],
   "source": [
    "session.link()"
   ]
  },
  {
   "cell_type": "markdown",
   "id": "8b5dd914-9f9a-4e82-aac1-b873f6afd5c9",
   "metadata": {
    "tags": []
   },
   "source": [
    "### 1.2 Create Atoti tables  "
   ]
  },
  {
   "cell_type": "markdown",
   "id": "05748932-d948-4de5-83ab-24d9a92ad657",
   "metadata": {},
   "source": [
    "There are two ways we can create Atoti tables:\n",
    "1. Use [`atoti.Session.create_table`](https://docs.atoti.io/latest/lib/atoti/atoti.session.html#atoti.Session.create_table) \n",
    "2. Use the `atoti.Session.read_*` functions where `*` depends on the type of data sources. E.g. we will use [`atoti.Session.read_csv`](https://docs.atoti.io/latest/lib/atoti/atoti.session.html#atoti.Session.read_csv) to read `CSV` files and [`atoti.Session.read_parquet`](https://docs.atoti.io/latest/lib/atoti/atoti.session.html#atoti.Session.read_parquet) to read parquet files.  \n",
    "\n",
    "<strong>Differences between `create_table` and `read_*`</strong>\n",
    "\n",
    "Using `create_table`, we will have to define the table structure all the way to the data type of the columns.  \n",
    "In addition, the created table is empty. We will use the `atoti.Table.load_*` functions such as [`load_csv`](https://docs.atoti.io/latest/lib/atoti/atoti.table.html#atoti.Table.load_csv) to load data into the table.  \n",
    "\n",
    "`read_*` functions creates the table based on the data source structure and loads the data.  \n",
    "Data type is inferred for CSV types and inherited from Python objects such as Pandas DataFrame and the metadata of Parquet files.  "
   ]
  },
  {
   "cell_type": "markdown",
   "id": "2f40f8b6-274d-4cd7-add8-95b40a667b67",
   "metadata": {},
   "source": [
    "#### 1.2.1 Payment cashflows\n",
    "\n",
    "We have created some mock cashflows for the month of September 2021 and some days in October 2021.  \n",
    "Based on the direction of the cashflow, we know if it's payment sent or received:\n",
    "- IN: Payment received\n",
    "- OUT: Payment sent\n",
    "\n",
    "For each day, we will receive the opening balance at the time 00:00:00 for each account, identified by the status _Open party_ or _Open posn_."
   ]
  },
  {
   "cell_type": "code",
   "execution_count": null,
   "id": "c1f212f5-0ab1-4128-bd4a-ea6fcb541da7",
   "metadata": {},
   "outputs": [],
   "source": [
    "payment_tbl = session.read_parquet(\n",
    "    \"s3://data.atoti.io/notebooks/intraday-liquidity/cashflow_202110.parquet\",\n",
    "    table_name=\"Cashflows\",\n",
    "    keys=[\"Transaction_Id\", \"Transaction_Date\", \"Settlement_Date\"],\n",
    ")\n",
    "payment_tbl.head()"
   ]
  },
  {
   "cell_type": "markdown",
   "id": "e2957023-9fdd-4cf7-8a2a-77fa34e68d6f",
   "metadata": {},
   "source": [
    "#### 1.2.2 Time table for bucketing\n",
    "\n",
    "The time table consists of the time buckets that allows us to look at the cashflows at hours, minutes or seconds intervals. It's basically a permutation of 24 hours x 60 minutes x 60 seconds."
   ]
  },
  {
   "cell_type": "code",
   "execution_count": null,
   "id": "c7adf1b0-ba8c-484d-bba3-c1d4b520a281",
   "metadata": {},
   "outputs": [],
   "source": [
    "time_tbl = session.read_csv(\n",
    "    \"s3://data.atoti.io/notebooks/intraday-liquidity/time.csv\",\n",
    "    keys=[\"Time\"],\n",
    "    types={\n",
    "        \"Time\": tt.type.STRING,\n",
    "        \"Hour\": tt.type.STRING,\n",
    "        \"Minute\": tt.type.STRING,\n",
    "        \"Second\": tt.type.STRING,\n",
    "        \"Minute (ext)\": tt.type.STRING,\n",
    "    },\n",
    "    table_name=\"Time\",\n",
    ")\n",
    "\n",
    "time_tbl.head()"
   ]
  },
  {
   "cell_type": "markdown",
   "id": "09a3994d-fbff-4042-93be-84bd7188485d",
   "metadata": {},
   "source": [
    "### 1.3 Join tables  \n",
    "\n",
    "[Joining Atoti table](https://docs.atoti.io/latest/getting_started/tutorial/tutorial.html#Join) is similar to how we perform table joins in databases. However, we apply [snowflake schema](https://en.wikipedia.org/wiki/Snowflake_schema) for Atoti.  \n",
    "This means that we choose a base table that is most granular and we centralize other fact tables around the based table.  \n",
    "\n",
    "In this case, our base table is the payment table. So, we perform a join from `payment_tbl.Settlement_Time` to `time_tbl.Time` by specifying the join condition.  \n",
    "\n",
    "> Tips: Usually, we do not have to specify the conditions joining the tables unless the joining columns have different names. Atoti infers the relationship based on common column names between the tables."
   ]
  },
  {
   "cell_type": "code",
   "execution_count": null,
   "id": "699f7abe-7337-49ec-984e-de6483be889d",
   "metadata": {},
   "outputs": [],
   "source": [
    "payment_tbl.join(time_tbl, payment_tbl[\"Settlement_Time\"] == time_tbl[\"Time\"])"
   ]
  },
  {
   "cell_type": "markdown",
   "id": "8f4b7a36-211f-4c40-8af5-e94bc9dde8d0",
   "metadata": {},
   "source": [
    "Verify the table schema below:"
   ]
  },
  {
   "cell_type": "code",
   "execution_count": null,
   "id": "65ac4150-189a-468a-92e0-2af1df106e50",
   "metadata": {},
   "outputs": [],
   "source": [
    "session.tables.schema"
   ]
  },
  {
   "cell_type": "markdown",
   "id": "5221c5db-9a4d-4808-bb40-1631f81401ed",
   "metadata": {},
   "source": [
    "By joining the two tables via timestamps allows us to identify the time bucket each cashflow transaction falls under."
   ]
  },
  {
   "cell_type": "markdown",
   "id": "dc3d38fd-ae57-4e7a-8651-fc53a920232d",
   "metadata": {},
   "source": [
    "### 1.4 Create Atoti cube\n",
    "\n",
    "When we create a cube in `auto` mode, Atoti creates a `mean` and a `sum` measure for each numerical columns. It's a great way to quickly explore the data and perform simple analytics.  \n",
    "In this use case, to avoid cluttering of unwanted measures, we create the Atoti cube with the `no_measures` mode.  \n",
    "Check the [Atoti documentation](https://docs.atoti.io/latest/lib/atoti/atoti.session.html#atoti.Session.create_cube) on the available modes."
   ]
  },
  {
   "cell_type": "code",
   "execution_count": null,
   "id": "9fe02df3-38be-47d9-8d37-bb6b9b226fa5",
   "metadata": {},
   "outputs": [],
   "source": [
    "cube = session.create_cube(payment_tbl, name=\"Intraday Liquidity\", mode=\"no_measures\")"
   ]
  },
  {
   "cell_type": "markdown",
   "id": "f5a9e81f-bd63-4605-a153-cdd7db93ef96",
   "metadata": {},
   "source": [
    "> Tips: We could change the default limits set on some of the application behaviours such as `queriesTimeLimit`, `queriesResultLimit.intermediateLimit` and `queriesResultLimit.transientLimit`.  \n",
    "  \n",
    "  \n",
    "Below we removed the restrictions on the intermediate results, which is a limit on the number of point locations for a single intermediate result.  \n",
    "Check out the [shared contexts](https://docs.atoti.io/latest/lib/atoti/atoti.cube.html#atoti.Cube.shared_context)."
   ]
  },
  {
   "cell_type": "code",
   "execution_count": null,
   "id": "c86db4be-d9b7-4ef6-b3de-03ae5f573bb0",
   "metadata": {},
   "outputs": [],
   "source": [
    "cube.shared_context[\"queriesResultLimit.intermediateLimit\"] = -1\n",
    "cube.shared_context[\"queriesResultLimit.transientLimit\"] = -1"
   ]
  },
  {
   "cell_type": "markdown",
   "id": "aaec0308-8aa2-408c-9219-344f1f5120e2",
   "metadata": {},
   "source": [
    "## 2 Setting up Atoti as monitoring tool  "
   ]
  },
  {
   "cell_type": "markdown",
   "id": "8e492a47-7e46-4ab7-b6b5-ead20c742eab",
   "metadata": {},
   "source": [
    "In this section, we look at how we can manipulate the hierarchies and craft some measures to cater to our needs.  \n",
    "Before we start, let's create alias variables for the cube attributes:"
   ]
  },
  {
   "cell_type": "code",
   "execution_count": null,
   "id": "2e0a91f1-b6fe-44cb-b550-f9f846247c5d",
   "metadata": {},
   "outputs": [],
   "source": [
    "h, l, m = cube.hierarchies, cube.levels, cube.measures"
   ]
  },
  {
   "cell_type": "markdown",
   "id": "92b28e18-c533-4227-862b-da7af69ba8c8",
   "metadata": {},
   "source": [
    "### 2.1 Creating basic measures"
   ]
  },
  {
   "cell_type": "markdown",
   "id": "25653ac0-04f5-4ae2-9b0a-d2b9c1d5cee9",
   "metadata": {},
   "source": [
    "While cube in \"auto\" mode can create the basic `mean` and `sum` measures by default, we will create our measures manually to keep things lean and clean.  \n",
    "Let's start with the easiest type of measure - summation. We will create it recursively for all the numerical columns in the payment table. Check out other available [aggregation functions](https://docs.atoti.io/latest/lib/atoti/atoti.agg.html)."
   ]
  },
  {
   "cell_type": "code",
   "execution_count": null,
   "id": "32d483a0-1c2a-4d5c-bab6-b78b9bcb4a77",
   "metadata": {},
   "outputs": [],
   "source": [
    "def create_sum_measure(col_name, tbl):\n",
    "    m[col_name] = tt.where(\n",
    "        ~l[\"Settlement_Currency\"].isnull(), tt.agg.sum(tbl[col_name])\n",
    "    )"
   ]
  },
  {
   "cell_type": "markdown",
   "id": "80b19f93-f1f4-4864-bd32-ae1526db8588",
   "metadata": {},
   "source": [
    "We have impose a [condition](https://docs.atoti.io/latest/lib/atoti/atoti.function.where.html#atoti.where) to return the summation only when `Settlement_Currency` is available in the query.  \n",
    "This is important as we cannot add values such as `Settlement_Amount` across different currencies."
   ]
  },
  {
   "cell_type": "code",
   "execution_count": null,
   "id": "1ecc7878-2a50-4664-9570-7f1fcb92baff",
   "metadata": {},
   "outputs": [],
   "source": [
    "for col in payment_tbl.columns:\n",
    "    if payment_tbl[col].data_type == \"double\":\n",
    "        create_sum_measure(col, payment_tbl)"
   ]
  },
  {
   "cell_type": "markdown",
   "id": "79a6186b-9355-42a7-b3b3-3a2a937c66e3",
   "metadata": {},
   "source": [
    "By creating the measures manually, we have control over the naming convention and the manner of implementation of the measures.  \n",
    "Below are the measures created for columns of the type `double`."
   ]
  },
  {
   "cell_type": "code",
   "execution_count": null,
   "id": "5ec259c8-9c19-4540-86c6-27b9b91952a6",
   "metadata": {},
   "outputs": [],
   "source": [
    "m"
   ]
  },
  {
   "cell_type": "markdown",
   "id": "9747abb5-7faf-49d6-bd8d-b158b9ccf69a",
   "metadata": {},
   "source": [
    "So we can start some data exploration!"
   ]
  },
  {
   "cell_type": "code",
   "execution_count": null,
   "id": "29cf8d59-64ea-4834-9c1b-c82f4f35b76d",
   "metadata": {
    "atoti": {
     "widget": {
      "columnWidths": {
       "[Measures].[Net_Settlement_Amount]": 153
      },
      "filters": [
       "[Cashflows].[Transaction_Date].[AllMember].[2021-10-01]"
      ],
      "mapping": {
       "columns": [
        "ALL_MEASURES"
       ],
       "measures": [
        "[Measures].[Opening_Balance]",
        "[Measures].[Settlement_Amount]",
        "[Measures].[Net_Settlement_Amount]",
        "[Measures].[Available]",
        "[Measures].[Processing]",
        "[Measures].[Anticipated]",
        "[Measures].[Expected]",
        "[Measures].[Collateral]",
        "[Measures].[Forecast_Amount]",
        "[Measures].[Outlook_Amount]"
       ],
       "rows": [
        "[Cashflows].[Settlement_Currency].[Settlement_Currency]",
        "[Cashflows].[Direction].[Direction]"
       ]
      },
      "query": {
       "mdx": "SELECT NON EMPTY {[Measures].[Opening_Balance], [Measures].[Settlement_Amount], [Measures].[Net_Settlement_Amount], [Measures].[Available], [Measures].[Processing], [Measures].[Anticipated], [Measures].[Expected], [Measures].[Collateral], [Measures].[Forecast_Amount], [Measures].[Outlook_Amount]} ON COLUMNS, NON EMPTY Crossjoin(Hierarchize(Descendants({[Cashflows].[Settlement_Currency].[AllMember]}, 1, SELF_AND_BEFORE)), Hierarchize(Descendants({[Cashflows].[Direction].[AllMember]}, 1, SELF_AND_BEFORE))) ON ROWS FROM [Intraday Liquidity] CELL PROPERTIES VALUE, FORMATTED_VALUE, BACK_COLOR, FORE_COLOR, FONT_FLAGS",
       "updateMode": "once"
      },
      "serverKey": "default",
      "widgetKey": "pivot-table"
     }
    },
    "tags": []
   },
   "outputs": [],
   "source": [
    "session.visualize(\"Cashflows on 1st Oct 2021 for all currencies\")"
   ]
  },
  {
   "cell_type": "markdown",
   "id": "d0b45b53-772b-436d-a509-c27604a26c78",
   "metadata": {},
   "source": [
    "### 2.2 Gross payment"
   ]
  },
  {
   "cell_type": "markdown",
   "id": "19f037d0-7c75-4c7b-8d1c-0007b9f95034",
   "metadata": {},
   "source": [
    "There are many ways we can get the gross payment received and sent. For instance, in the pivot table above, by querying the Direction level, we can see the total inflow and outflow amount.  \n",
    "However, to put the two values side-by-side for comparison or further manipulation, we can create dedicated measures for each one using the [`filter`](https://docs.atoti.io/latest/lib/atoti/atoti.function.filter.html) function.  \n",
    "Check out other [Atoti functions](https://docs.atoti.io/latest/lib/atoti/atoti.function.html). "
   ]
  },
  {
   "cell_type": "code",
   "execution_count": null,
   "id": "d4f3f144-a363-44d3-8c75-4b92b134cb8e",
   "metadata": {},
   "outputs": [],
   "source": [
    "m[\"Gross payment received\"] = tt.agg.sum(\n",
    "    tt.filter(\n",
    "        m[\"Settlement_Amount\"],\n",
    "        (l[\"Direction\"] == \"IN\") & (~l[\"Status\"].isin(\"Open posn\", \"Open party\")),\n",
    "    ),\n",
    "    scope=tt.OriginScope(l[\"Settlement_Date\"]),\n",
    ")\n",
    "m[\"Gross payment sent\"] = tt.agg.sum(\n",
    "    tt.filter(m[\"Settlement_Amount\"], l[\"Direction\"] == \"OUT\"),\n",
    "    scope=tt.OriginScope(l[\"Settlement_Date\"]),\n",
    ")"
   ]
  },
  {
   "cell_type": "code",
   "execution_count": null,
   "id": "ec30dab0-51cd-4e3f-a714-a43ce8dbeaaa",
   "metadata": {
    "atoti": {
     "height": 131,
     "widget": {
      "filters": [
       "[Cashflows].[Settlement_Currency].[AllMember].[EUR]",
       "[Cashflows].[Settlement_Date].[AllMember].[2021-10-01]"
      ],
      "mapping": {
       "columns": [],
       "measures": [
        "[Measures].[Gross payment received]",
        "[Measures].[Gross payment sent]"
       ],
       "rows": [
        "[Cashflows].[Settlement_Date].[Settlement_Date]"
       ]
      },
      "query": {
       "mdx": "SELECT NON EMPTY {[Measures].[Gross payment received], [Measures].[Gross payment sent]} ON COLUMNS, NON EMPTY Hierarchize(Descendants({[Cashflows].[Settlement_Date].[AllMember]}, 1, SELF_AND_BEFORE)) ON ROWS FROM [Intraday Liquidity] CELL PROPERTIES VALUE, FORMATTED_VALUE, BACK_COLOR, FORE_COLOR, FONT_FLAGS",
       "updateMode": "once"
      },
      "queryContext": [
       {
        "key": "mdx.hiddengrandtotals",
        "value": "1"
       }
      ],
      "serverKey": "default",
      "widgetKey": "kpi"
     }
    },
    "tags": []
   },
   "outputs": [],
   "source": [
    "session.visualize(\"Gross payment sent and received for EUR on 1st Oct 2021\")"
   ]
  },
  {
   "cell_type": "markdown",
   "id": "92b87f67-732f-49e5-86f2-a9a4cb14fd14",
   "metadata": {},
   "source": [
    "### 2.3 Net cumulative positions and Running balance"
   ]
  },
  {
   "cell_type": "markdown",
   "id": "1cff91e6-2d21-4f6d-9301-df7cae948158",
   "metadata": {},
   "source": [
    "Both _Net cumulative positions_ and _Running balance_ are running total on the `Net_Settlement_Amount`.  \n",
    "By making use of the [`CumulativeScope`](https://docs.atoti.io/latest/lib/atoti/atoti.scope.cumulative_scope.html) on the `Settlement_Time` level, we can accumulate the `Net_Settlement_Amount` along the `Settlement_Time` axis.  \n",
    "This gives cumulative value accurate to the seconds. Check out on the available [Atoti scope](https://docs.atoti.io/latest/lib/atoti/atoti.scope.html) options.\n",
    "\n",
    "The main difference between the two is that _Running balance_ is inclusive of the opening balance while _Net cumulative positions_ considers only the liquidity usage.  \n",
    "For the intraday liquidity reporting, mostly we focus on the _Net cumulative positions_."
   ]
  },
  {
   "cell_type": "code",
   "execution_count": null,
   "id": "ff2bea9b-1215-413d-a803-6356b208c1c4",
   "metadata": {},
   "outputs": [],
   "source": [
    "# excludes the opening balance\n",
    "m[\"Net cumulative position\"] = tt.agg.sum(\n",
    "    tt.filter(m[\"Net_Settlement_Amount\"], ~l[\"Status\"].isin(\"Open posn\", \"Open party\")),\n",
    "    scope=tt.CumulativeScope(level=l[\"Settlement_Time\"]),\n",
    ")\n",
    "\n",
    "m[\"Running balance\"] = tt.agg.sum(\n",
    "    m[\"Net_Settlement_Amount\"], scope=tt.CumulativeScope(level=l[\"Settlement_Time\"])\n",
    ")"
   ]
  },
  {
   "cell_type": "code",
   "execution_count": null,
   "id": "bffce3c2-87b8-441d-a5c7-c0dcdc00942a",
   "metadata": {
    "atoti": {
     "widget": {
      "filters": [
       "[Cashflows].[Settlement_Date].[AllMember].[2021-10-01]",
       "[Cashflows].[Settlement_Currency].[AllMember].[EUR]"
      ],
      "mapping": {
       "horizontalSubplots": [],
       "secondaryValues": [],
       "splitBy": [
        "ALL_MEASURES"
       ],
       "values": [
        "[Measures].[Net cumulative position]"
       ],
       "verticalSubplots": [],
       "xAxis": [
        "[Cashflows].[Settlement_Time].[Settlement_Time]"
       ]
      },
      "query": {
       "mdx": "SELECT NON EMPTY Hierarchize(Descendants({[Cashflows].[Settlement_Time].[AllMember]}, 1, SELF_AND_BEFORE)) ON ROWS, NON EMPTY {[Measures].[Net cumulative position]} ON COLUMNS FROM [Intraday Liquidity] CELL PROPERTIES VALUE, FORMATTED_VALUE, BACK_COLOR, FORE_COLOR, FONT_FLAGS",
       "updateMode": "once"
      },
      "serverKey": "default",
      "widgetKey": "plotly-line-chart"
     }
    },
    "tags": []
   },
   "outputs": [],
   "source": [
    "session.visualize()"
   ]
  },
  {
   "cell_type": "markdown",
   "id": "873d62a4-cdd6-4828-8dac-2beaa05976a2",
   "metadata": {
    "tags": []
   },
   "source": [
    "### 2.4 Bucketing with Atoti"
   ]
  },
  {
   "cell_type": "markdown",
   "id": "f0aa49c4-bbaf-4301-8cfa-5d92ef837931",
   "metadata": {},
   "source": [
    "In this use case, we can perform bucketing by two hierarchies:\n",
    "- Settlement Date\n",
    "- Settlement Time "
   ]
  },
  {
   "cell_type": "markdown",
   "id": "95c59a06-e189-4777-8327-22f09a20e2c3",
   "metadata": {},
   "source": [
    "#### 2.4.1 Date bucketing  "
   ]
  },
  {
   "cell_type": "markdown",
   "id": "c7da4e96-e552-41f8-b946-d86d12587de4",
   "metadata": {},
   "source": [
    "A common way to perform bucketing is to store the bucket values within the record. E.g. tokenize the `Settlement_Date` value into `Year`, `Month` and `Day`.  \n",
    "In Atoti, we can create the date hierarchy as shown below. Configure the required levels accordingly. Refer to the [Atoti documentation](https://docs.atoti.io/latest/lib/atoti/atoti.cube.html#atoti.Cube.create_date_hierarchy) for the date patterns that can be applied to the function."
   ]
  },
  {
   "cell_type": "code",
   "execution_count": null,
   "id": "3f80cf3e-d474-4e94-a1ac-4b0559dbbda3",
   "metadata": {},
   "outputs": [],
   "source": [
    "cube.create_date_hierarchy(\n",
    "    \"Dates\",\n",
    "    column=payment_tbl[\"Settlement_Date\"],\n",
    "    levels={\"Year\": \"yyyy\", \"Quarter\": \"QQQ\", \"Month\": \"MM\", \"Day\": \"dd\"},\n",
    ")"
   ]
  },
  {
   "cell_type": "markdown",
   "id": "4ecf14c8-0033-491d-8611-877665871b47",
   "metadata": {},
   "source": [
    "We can easily drill down on each level to see the bucketed values."
   ]
  },
  {
   "cell_type": "code",
   "execution_count": null,
   "id": "04fdcc61-68c9-468d-a6ac-031215f977ef",
   "metadata": {
    "atoti": {
     "height": 470,
     "widget": {
      "columnWidths": {
       "[Measures].[Gross payment received]": 151,
       "[Measures].[Gross payment sent]": 142.9375
      },
      "mapping": {
       "columns": [
        "ALL_MEASURES"
       ],
       "measures": [
        "[Measures].[Gross payment sent]",
        "[Measures].[Gross payment received]"
       ],
       "rows": [
        "[Cashflows].[Settlement_Currency].[Settlement_Currency]",
        "[Cashflows].[Dates].[Year] => [Cashflows].[Dates].[Day]"
       ]
      },
      "query": {
       "mdx": "SELECT NON EMPTY Hierarchize(Union(Crossjoin(Hierarchize(Descendants({[Cashflows].[Settlement_Currency].[AllMember]}, 1, SELF_AND_BEFORE)), Hierarchize(Descendants({[Cashflows].[Dates].[AllMember]}, 1, SELF_AND_BEFORE))), Crossjoin([Cashflows].[Settlement_Currency].[AllMember].[EUR], Descendants({[Cashflows].[Dates].[AllMember].[2021]}, [Cashflows].[Dates].[Quarter])), Crossjoin([Cashflows].[Settlement_Currency].[AllMember].[EUR], Descendants({[Cashflows].[Dates].[AllMember].[2021].[Q4]}, [Cashflows].[Dates].[Month])), Crossjoin([Cashflows].[Settlement_Currency].[AllMember].[EUR], Descendants({[Cashflows].[Dates].[AllMember].[2021].[Q4].[10]}, [Cashflows].[Dates].[Day])))) ON ROWS, NON EMPTY {[Measures].[Gross payment sent], [Measures].[Gross payment received]} ON COLUMNS FROM [Intraday Liquidity] CELL PROPERTIES VALUE, FORMATTED_VALUE, BACK_COLOR, FORE_COLOR, FONT_FLAGS",
       "updateMode": "once"
      },
      "serverKey": "default",
      "widgetKey": "pivot-table"
     }
    },
    "tags": []
   },
   "outputs": [],
   "source": [
    "session.visualize()"
   ]
  },
  {
   "cell_type": "markdown",
   "id": "df4fc4c7-177c-47db-a943-87d392a35607",
   "metadata": {},
   "source": [
    "#### 2.4.2 Time bucketing  \n",
    "\n",
    "In this use case, we have stored the possible time buckets permutation in the Time table.  \n",
    "We can create a multilevel `Time` hierarchy that stacks the `Hour`, `Minute` and `Second`.  "
   ]
  },
  {
   "cell_type": "code",
   "execution_count": null,
   "id": "08a89c04-f8da-473c-af98-d2a8c2e38374",
   "metadata": {},
   "outputs": [],
   "source": [
    "h[\"Time\"] = [l[\"Hour\"], l[\"Minute\"], l[\"Second\"]]"
   ]
  },
  {
   "cell_type": "markdown",
   "id": "02df678c-8151-4263-aead-7d2e03c02529",
   "metadata": {},
   "source": [
    "Previously, we created the measure `Net cumulative position` along the Cumulative scope of `Settlement_Time`, giving accuracy up to the seconds.  \n",
    "\n",
    "Now that we have a multilevel time hierarchy, we can create another running total on the `Net_Settlement_Amount` along the lowest level, which is the `Second`.  "
   ]
  },
  {
   "cell_type": "code",
   "execution_count": null,
   "id": "eb647939-f78e-4699-aff7-2e219110a695",
   "metadata": {},
   "outputs": [],
   "source": [
    "m[\"Cumulative position (ts)\"] = tt.agg.sum(\n",
    "    tt.filter(m[\"Net_Settlement_Amount\"], ~l[\"Status\"].isin(\"Open posn\", \"Open party\")),\n",
    "    scope=tt.CumulativeScope(level=l[(\"Time\", \"Time\", \"Second\")]),\n",
    ")"
   ]
  },
  {
   "cell_type": "markdown",
   "id": "0bc2a75a-2e06-4fa8-bb79-56c6e7f2bee7",
   "metadata": {},
   "source": [
    "Do pay attention that we have to indicate the full path for level that is passed to the cumulative scope - `level=l[(\"Time\", \"Time\", \"Second\")]`. That's because there are two paths to the level `Second`: \n",
    "- `l[(\"Time\", \"Second\", \"Second\")`: the original single hierarchy `Second`\n",
    "- `l[(\"Time\", \"Time\", \"Second\")`: the newly created multilevel hierarchy."
   ]
  },
  {
   "cell_type": "markdown",
   "id": "c0e7ba81-32c7-4283-837d-20f8bf967197",
   "metadata": {},
   "source": [
    "We can now easily look at the liquidity usage at different intervals as shown in the GIF below:  \n",
    "\n",
    "<img src=\"img/bucketed_cumulative_positions.gif\" width=\"800px\" />  \n",
    "\n",
    "Try it out in the visualization below:"
   ]
  },
  {
   "cell_type": "code",
   "execution_count": null,
   "id": "d0c856f5-e8d1-41ae-8470-86155ce7de1b",
   "metadata": {
    "atoti": {
     "height": 329,
     "widget": {
      "columnWidths": {
       "[Measures].[Cumulative position (ts)]": 159,
       "[Measures].[Settlement_Amount_Signed]": 178.625
      },
      "filters": [
       "[Cashflows].[Settlement_Date].[AllMember].[2021-10-01]",
       "[Cashflows].[Settlement_Currency].[AllMember].[EUR]"
      ],
      "mapping": {
       "horizontalSubplots": [],
       "secondaryValues": [],
       "splitBy": [
        "ALL_MEASURES"
       ],
       "values": [
        "[Measures].[Cumulative position (ts)]"
       ],
       "verticalSubplots": [],
       "xAxis": [
        "[Time].[Time].[Hour]"
       ]
      },
      "plotly": {
       "data": {
        "overridesByTraceIndex": [
         {
          "mode": "lines"
         }
        ]
       }
      },
      "query": {
       "mdx": "SELECT NON EMPTY {[Measures].[Cumulative position (ts)]} ON COLUMNS, NON EMPTY Hierarchize(Descendants({[Time].[Time].[AllMember]}, 1, SELF_AND_BEFORE)) ON ROWS FROM [Intraday Liquidity] CELL PROPERTIES VALUE, FORMATTED_VALUE, BACK_COLOR, FORE_COLOR, FONT_FLAGS",
       "updateMode": "once"
      },
      "serverKey": "default",
      "widgetKey": "plotly-line-chart"
     }
    },
    "tags": []
   },
   "outputs": [],
   "source": [
    "session.visualize(\"Bucketed cumulative positions\")"
   ]
  },
  {
   "cell_type": "markdown",
   "id": "c41e72da-f6d7-42e3-a12c-e56bf5af9d3d",
   "metadata": {},
   "source": [
    "### 2.5 Daily maximum and minimum cumulative position "
   ]
  },
  {
   "cell_type": "markdown",
   "id": "64f5514e-bdef-45c9-9fab-3c715fae6faa",
   "metadata": {},
   "source": [
    "The below measures look at the maximum/minimum value at the `Settlement_Time` level."
   ]
  },
  {
   "cell_type": "code",
   "execution_count": null,
   "id": "58dc1f52-e5b5-4b33-b6d9-8317a08c02a5",
   "metadata": {},
   "outputs": [],
   "source": [
    "m[\"_time_min\"] = tt.agg.min(\n",
    "    tt.where(~m[\"Settlement_Amount\"].isnull(), m[\"Net cumulative position\"]),\n",
    "    scope=tt.SiblingsScope(hierarchy=h[\"Settlement_Time\"], exclude_self=False),\n",
    ")\n",
    "\n",
    "m[\"_time_max\"] = tt.agg.max(\n",
    "    tt.where(~m[\"Settlement_Amount\"].isnull(), m[\"Net cumulative position\"]),\n",
    "    scope=tt.SiblingsScope(hierarchy=h[\"Settlement_Time\"], exclude_self=False),\n",
    ")\n",
    "\n",
    "m[\"_time_min_origin_scope\"] = tt.agg.min(\n",
    "    tt.where(~m[\"Settlement_Amount\"].isnull(), m[\"Net cumulative position\"]),\n",
    "    scope=tt.OriginScope(l[\"Settlement_Time\"]),\n",
    ")"
   ]
  },
  {
   "cell_type": "markdown",
   "id": "ada502c0-70b6-4625-a851-d866d7a6312c",
   "metadata": {},
   "source": [
    "Using sibling scope, we compare the values within a given level. Hence the values will be constant across all the `Settlement_Time`.  \n",
    "Below table shows the difference in behavior from `OriginScope` and `SiblingScope` on the maximum and minimum aggregation function. \n",
    "Check out the [Atoti scopes](https://docs.atoti.io/latest/lib/atoti/atoti.scope.html). "
   ]
  },
  {
   "cell_type": "code",
   "execution_count": null,
   "id": "4d50eea3-524b-43c0-ac71-6da41b20032d",
   "metadata": {
    "atoti": {
     "height": 258,
     "widget": {
      "columnWidths": {
       "[Measures].[_time_min]": 133.9375,
       "[Measures].[_time_min_origin_scope]": 181
      },
      "filters": [
       "[Cashflows].[Settlement_Date].[AllMember].[2021-10-01]",
       "[Cashflows].[Settlement_Currency].[AllMember].[USD]"
      ],
      "mapping": {
       "columns": [
        "ALL_MEASURES"
       ],
       "measures": [
        "[Measures].[_time_min]",
        "[Measures].[_time_min_origin_scope]"
       ],
       "rows": [
        "[Cashflows].[Settlement_Time].[Settlement_Time]"
       ]
      },
      "query": {
       "mdx": "SELECT NON EMPTY Hierarchize(Descendants({[Cashflows].[Settlement_Time].[AllMember]}, 1, SELF_AND_BEFORE)) ON ROWS, NON EMPTY {[Measures].[_time_min], [Measures].[_time_min_origin_scope]} ON COLUMNS FROM [Intraday Liquidity] CELL PROPERTIES VALUE, FORMATTED_VALUE, BACK_COLOR, FORE_COLOR, FONT_FLAGS",
       "updateMode": "once"
      },
      "serverKey": "default",
      "widgetKey": "pivot-table"
     }
    },
    "tags": []
   },
   "outputs": [],
   "source": [
    "session.visualize(\"Difference between OriginScope and SiblingScope\")"
   ]
  },
  {
   "cell_type": "markdown",
   "id": "0933298c-fd4d-42f9-acd2-8ed75abfae3f",
   "metadata": {},
   "source": [
    "Using `_time_max` and `_time_min`, we can see which are the timings where the cumulative balance is close to the peaks."
   ]
  },
  {
   "cell_type": "code",
   "execution_count": null,
   "id": "90173142-4e84-4e19-b6ba-1a45c3e83a6c",
   "metadata": {
    "atoti": {
     "widget": {
      "filters": [
       "[Cashflows].[Settlement_Date].[AllMember].[2021-10-01]",
       "[Cashflows].[Settlement_Currency].[AllMember].[EUR]"
      ],
      "mapping": {
       "horizontalSubplots": [],
       "secondaryValues": [],
       "splitBy": [
        "ALL_MEASURES"
       ],
       "values": [
        "[Measures].[Net cumulative position]",
        "[Measures].[_time_max]",
        "[Measures].[_time_min]"
       ],
       "verticalSubplots": [],
       "xAxis": [
        "[Cashflows].[Settlement_Time].[Settlement_Time]"
       ]
      },
      "plotly": {
       "data": {
        "overridesByTraceIndex": [
         {
          "mode": "lines"
         }
        ]
       }
      },
      "query": {
       "mdx": "SELECT NON EMPTY Hierarchize(Descendants({[Cashflows].[Settlement_Time].[AllMember]}, 1, SELF_AND_BEFORE)) ON ROWS, NON EMPTY {[Measures].[Net cumulative position], [Measures].[_time_max], [Measures].[_time_min]} ON COLUMNS FROM [Intraday Liquidity] CELL PROPERTIES VALUE, FORMATTED_VALUE, BACK_COLOR, FORE_COLOR, FONT_FLAGS",
       "updateMode": "once"
      },
      "serverKey": "default",
      "widgetKey": "plotly-line-chart"
     }
    },
    "tags": []
   },
   "outputs": [],
   "source": [
    "session.visualize(\"Daily maximum liquidity usage for EUR on 1st Oct 2021\")"
   ]
  },
  {
   "cell_type": "markdown",
   "id": "dabf9d1b-637a-4ab3-ad91-8a49d7dc0330",
   "metadata": {},
   "source": [
    "Alternatively, we can make use of the measures `_time_max` and `_time_min` to compute keep only the largest positive and negative net cumulative positions across the `Settlement_Date` at the time of occurrence.  \n",
    "\n",
    "To do so, we applied a conditional check such that the value is only returned if the largest value is the same as the `Net cumulative position` value (i.e. only 1 point is returned for each measure). "
   ]
  },
  {
   "cell_type": "code",
   "execution_count": null,
   "id": "444a5ec6-1105-4731-84a0-a56f2e615e92",
   "metadata": {},
   "outputs": [],
   "source": [
    "m[\"Largest +ve net cumulative position\"] = tt.agg.max(\n",
    "    tt.where(m[\"Net cumulative position\"] == m[\"_time_max\"], m[\"_time_max\"]),\n",
    "    scope=tt.OriginScope(l[\"Settlement_Time\"], l[\"Settlement_Date\"]),\n",
    ")\n",
    "\n",
    "m[\"Largest -ve net cumulative position\"] = tt.agg.min(\n",
    "    tt.where(m[\"Net cumulative position\"] == m[\"_time_min\"], m[\"_time_min\"]),\n",
    "    scope=tt.OriginScope(l[\"Settlement_Time\"], l[\"Settlement_Date\"]),\n",
    ")"
   ]
  },
  {
   "cell_type": "markdown",
   "id": "74d35914-eaf1-4e73-8a9b-22e7312899f3",
   "metadata": {},
   "source": [
    "So, we can now highlight the highest and lowest point in the curve in the visual below. "
   ]
  },
  {
   "cell_type": "code",
   "execution_count": null,
   "id": "2bda71d7-87e5-4b9c-816b-979f29e225a1",
   "metadata": {
    "atoti": {
     "widget": {
      "filters": [
       "[Cashflows].[Settlement_Date].[AllMember].[2021-10-01]",
       "[Cashflows].[Settlement_Currency].[AllMember].[EUR]"
      ],
      "mapping": {
       "horizontalSubplots": [],
       "secondaryValues": [],
       "splitBy": [
        "ALL_MEASURES"
       ],
       "values": [
        "[Measures].[Net cumulative position]",
        "[Measures].[Largest +ve net cumulative position]",
        "[Measures].[Largest -ve net cumulative position]"
       ],
       "verticalSubplots": [],
       "xAxis": [
        "[Cashflows].[Settlement_Time].[Settlement_Time]"
       ]
      },
      "plotly": {
       "data": {
        "overridesByTraceIndex": [
         {
          "mode": "lines"
         }
        ]
       }
      },
      "query": {
       "mdx": "SELECT NON EMPTY Hierarchize(Descendants({[Cashflows].[Settlement_Time].[AllMember]}, 1, SELF_AND_BEFORE)) ON ROWS, NON EMPTY {[Measures].[Net cumulative position], [Measures].[Largest +ve net cumulative position], [Measures].[Largest -ve net cumulative position]} ON COLUMNS FROM [Intraday Liquidity] CELL PROPERTIES VALUE, FORMATTED_VALUE, BACK_COLOR, FORE_COLOR, FONT_FLAGS",
       "updateMode": "once"
      },
      "serverKey": "default",
      "widgetKey": "plotly-line-chart"
     }
    },
    "tags": []
   },
   "outputs": [],
   "source": [
    "session.visualize(\"Daily maximum liquidity usage for EUR on 1st Oct 2021\")"
   ]
  },
  {
   "cell_type": "markdown",
   "id": "40a39f58-925f-4a82-8210-e035cc531389",
   "metadata": {},
   "source": [
    "Since the measure `_time_min_origin_scope` is only used to showcase the different use of scope, we will delete it to avoid cluttering of the measures."
   ]
  },
  {
   "cell_type": "code",
   "execution_count": null,
   "id": "c32156d2-9446-4447-bb7e-310151e5daf7",
   "metadata": {},
   "outputs": [],
   "source": [
    "del m[\"_time_min_origin_scope\"]"
   ]
  },
  {
   "cell_type": "markdown",
   "id": "3a11bb39-5969-4d38-984c-0c650232a81d",
   "metadata": {},
   "source": [
    "### 2.6 Intraday throughput"
   ]
  },
  {
   "cell_type": "markdown",
   "id": "1b31b1c5-be2e-40f8-b87e-f4a635c95d4e",
   "metadata": {},
   "source": [
    "Intraday throughput looks at the total payment sent across the day. Therefore, let's exclude the opening balance and look at the `Settlement_Amount` for the out flow."
   ]
  },
  {
   "cell_type": "code",
   "execution_count": null,
   "id": "a9ee4f10-e403-438b-bb35-8d79e2e35630",
   "metadata": {},
   "outputs": [],
   "source": [
    "m[\"Intraday throughput\"] = tt.agg.sum(\n",
    "    tt.filter(\n",
    "        m[\"Settlement_Amount\"],\n",
    "        (~l[\"Status\"].isin(\"Open posn\", \"Open party\")) & (l[\"Direction\"] == \"OUT\"),\n",
    "    ),\n",
    "    scope=tt.CumulativeScope(level=l[(\"Time\", \"Time\", \"Minute\")]),\n",
    ")"
   ]
  },
  {
   "cell_type": "markdown",
   "id": "4c30c75d-6a83-46da-906b-6acef8620019",
   "metadata": {},
   "source": [
    "Once we get the running total of the outgoing cashflows, we use [`atoti.total` function](https://docs.atoti.io/latest/lib/atoti/atoti.function.total.html#) to get the total value of the throughput across the time bucket.  \n",
    "This will allow us to get the `% sent` value as specified in [BCBS248](https://www.bis.org/publ/bcbs248.pdf)."
   ]
  },
  {
   "cell_type": "code",
   "execution_count": null,
   "id": "5f33ebab-5c98-4f1a-9d01-71eaea306736",
   "metadata": {},
   "outputs": [],
   "source": [
    "m[\"_parent_total\"] = tt.total(m[\"Intraday throughput\"], h[\"Time\"])\n",
    "m[\"% sent\"] = m[\"Intraday throughput\"] / m[\"_parent_total\"]\n",
    "m[\"% sent\"].formatter = \"DOUBLE[#.00%]\""
   ]
  },
  {
   "cell_type": "code",
   "execution_count": null,
   "id": "5f0a0302-dfb2-4270-8945-1e1f4a3d652e",
   "metadata": {
    "atoti": {
     "height": 376,
     "widget": {
      "filters": [
       "[Cashflows].[Settlement_Date].[AllMember].[2021-10-01]",
       "[Cashflows].[Settlement_Currency].[AllMember].[EUR]"
      ],
      "mapping": {
       "columns": [
        "ALL_MEASURES"
       ],
       "measures": [
        "[Measures].[Intraday throughput]",
        "[Measures].[_parent_total]",
        "[Measures].[% sent]"
       ],
       "rows": [
        "[Time].[Time].[Hour]"
       ]
      },
      "name": "Daily maximum liquidity usage",
      "plotly": {
       "data": {
        "overridesByTraceIndex": [
         {
          "mode": "lines"
         }
        ]
       }
      },
      "query": {
       "mdx": "SELECT NON EMPTY Hierarchize(Descendants({[Time].[Time].[AllMember]}, 1, SELF_AND_BEFORE)) ON ROWS, NON EMPTY {[Measures].[Intraday throughput], [Measures].[_parent_total], [Measures].[% sent]} ON COLUMNS FROM [Intraday Liquidity] CELL PROPERTIES VALUE, FORMATTED_VALUE, BACK_COLOR, FORE_COLOR, FONT_FLAGS",
       "updateMode": "once"
      },
      "serverKey": "default",
      "widgetKey": "pivot-table"
     }
    },
    "tags": []
   },
   "outputs": [],
   "source": [
    "session.visualize(\"Daily maximum liquidity usage\")"
   ]
  },
  {
   "cell_type": "markdown",
   "id": "5581204f-1304-469c-9544-da534b3720c9",
   "metadata": {},
   "source": [
    "Again, the `_parent_total` measure is just a technical measure. So let's hide it."
   ]
  },
  {
   "cell_type": "code",
   "execution_count": null,
   "id": "1fb79651-cf8b-49eb-9cea-3213371002c5",
   "metadata": {},
   "outputs": [],
   "source": [
    "m[\"_parent_total\"].visible = False"
   ]
  },
  {
   "cell_type": "markdown",
   "id": "82b0dedf-45e2-4b6a-b708-cdad7fb34c17",
   "metadata": {
    "tags": []
   },
   "source": [
    "## 3 Reporting measures"
   ]
  },
  {
   "cell_type": "markdown",
   "id": "5df4885c-3e75-4b9e-b3a3-dc4923874eac",
   "metadata": {},
   "source": [
    "Based on the sample report mentioned in [BCBS248](https://www.bis.org/publ/bcbs248.pdf), a bulk of it involves the top and bottom 3 positions on various type of cashflows .  \n",
    "Below is a simple demonstration to show how we can obtain the top 3 largest positive and negative net cumulative positions for each month."
   ]
  },
  {
   "cell_type": "markdown",
   "id": "3671fb30-8321-4572-b16e-a8e2203ef186",
   "metadata": {},
   "source": [
    "#### 3.1 Ranking the measures"
   ]
  },
  {
   "cell_type": "markdown",
   "id": "f1bf18cc-6309-48c1-829a-d3c4c20f2adc",
   "metadata": {},
   "source": [
    "We [rank](https://docs.atoti.io/latest/lib/atoti/atoti.function.rank.html) the `largest +ve net cumulative position` of the `Settlement_Date` in descending order while the `largest -ve net cumulative position` in ascending order so that we can get the maximum and minimum values ranked at the top."
   ]
  },
  {
   "cell_type": "code",
   "execution_count": null,
   "id": "26ddf1cc-c50d-4f48-bf95-76ba00db6e11",
   "metadata": {},
   "outputs": [],
   "source": [
    "m[\"Daily max ranking\"] = tt.rank(\n",
    "    m[\"Largest +ve net cumulative position\"], h[\"Settlement_Date\"], ascending=False\n",
    ")\n",
    "m[\"Daily min ranking\"] = tt.rank(\n",
    "    m[\"Largest -ve net cumulative position\"], h[\"Settlement_Date\"]\n",
    ")"
   ]
  },
  {
   "cell_type": "markdown",
   "id": "661f94c0-e540-4f47-8ee7-650a1bdc4114",
   "metadata": {},
   "source": [
    "#### 3.2 Creating measures for 1st, 2nd and 3rd in period"
   ]
  },
  {
   "cell_type": "markdown",
   "id": "2415d47b-3cfb-493b-a80f-4ff8c5957b10",
   "metadata": {},
   "source": [
    "Again, we could use filters in the Atoti content editor to interactive filter the results to show only the top 3 positions.  \n",
    "However, for reporting purpose, it is easier to create a measure for each of these, using the `filter` function programmatically.  "
   ]
  },
  {
   "cell_type": "code",
   "execution_count": null,
   "id": "297bfe8d-c02d-43b3-bb85-d97fbbf3a4d3",
   "metadata": {},
   "outputs": [],
   "source": [
    "m[\"Max in period\"] = tt.agg.single_value(\n",
    "    tt.where(m[\"Daily max ranking\"] == 1, m[\"Largest +ve net cumulative position\"]),\n",
    "    scope=tt.OriginScope(l[\"Settlement_Date\"]),\n",
    ")\n",
    "m[\"2nd max in period\"] = tt.agg.single_value(\n",
    "    tt.where(m[\"Daily max ranking\"] == 2, m[\"Largest +ve net cumulative position\"]),\n",
    "    scope=tt.OriginScope(l[\"Settlement_Date\"]),\n",
    ")\n",
    "m[\"3rd max in period\"] = tt.agg.single_value(\n",
    "    tt.where(m[\"Daily max ranking\"] == 3, m[\"Largest +ve net cumulative position\"]),\n",
    "    scope=tt.OriginScope(l[\"Settlement_Date\"]),\n",
    ")"
   ]
  },
  {
   "cell_type": "code",
   "execution_count": null,
   "id": "77c86053-9057-4fc0-9622-672aeac6fc90",
   "metadata": {},
   "outputs": [],
   "source": [
    "m[\"Min in period\"] = tt.agg.single_value(\n",
    "    tt.where(m[\"Daily min ranking\"] == 1, m[\"Largest -ve net cumulative position\"]),\n",
    "    scope=tt.OriginScope(l[\"Settlement_Date\"]),\n",
    ")\n",
    "m[\"2nd min in period\"] = tt.agg.single_value(\n",
    "    tt.where(m[\"Daily min ranking\"] == 2, m[\"Largest -ve net cumulative position\"]),\n",
    "    scope=tt.OriginScope(l[\"Settlement_Date\"]),\n",
    ")\n",
    "m[\"3rd min in period\"] = tt.agg.single_value(\n",
    "    tt.where(m[\"Daily min ranking\"] == 3, m[\"Largest -ve net cumulative position\"]),\n",
    "    scope=tt.OriginScope(l[\"Settlement_Date\"]),\n",
    ")"
   ]
  },
  {
   "cell_type": "markdown",
   "id": "34ef6d54-c63f-4677-9f27-0b54c86e1e25",
   "metadata": {},
   "source": [
    "#### 3.3 Average max over period"
   ]
  },
  {
   "cell_type": "markdown",
   "id": "3bbdb039-6377-4c8e-9009-f393adcf1799",
   "metadata": {},
   "source": [
    "To get the average max over period, simply apply the `atoti.agg.mean` function over the `largest +ve net cumulative position` for the top 3 ranking.  \n",
    "Repeat the same thing for the minimum value, using the `largest -ve net cumulative position` instead."
   ]
  },
  {
   "cell_type": "code",
   "execution_count": null,
   "id": "b9bd5254-ed4d-42b0-9781-2a4cbbb3d7f0",
   "metadata": {},
   "outputs": [],
   "source": [
    "m[\"Average max over period\"] = tt.agg.mean(\n",
    "    tt.where(m[\"Daily max ranking\"] <= 3, m[\"Largest +ve net cumulative position\"]),\n",
    "    scope=tt.OriginScope(l[\"Settlement_Date\"]),\n",
    ")\n",
    "\n",
    "m[\"Average min over period\"] = tt.agg.mean(\n",
    "    tt.where(m[\"Daily min ranking\"] <= 3, m[\"Largest -ve net cumulative position\"]),\n",
    "    scope=tt.OriginScope(l[\"Settlement_Date\"]),\n",
    ")"
   ]
  },
  {
   "cell_type": "markdown",
   "id": "30cb6c90-09d9-4bf4-a9eb-7ae8aa94be64",
   "metadata": {},
   "source": [
    "The below visualization shows how easily we can expand each currency to see when the max value occurred."
   ]
  },
  {
   "cell_type": "code",
   "execution_count": null,
   "id": "cd2bacd3-7193-4ad6-9c0b-c53cd17b8937",
   "metadata": {
    "atoti": {
     "height": 246,
     "widget": {
      "columnWidths": {
       "[Measures].[Daily max ranking]": 153,
       "[Measures].[Largest +ve net cumulative position]": 197,
       "[Measures].[Largest -ve net cumulative position]": 195.40625,
       "[Measures].[Measures]": 150.40625
      },
      "filters": [
       "[Cashflows].[Dates].[AllMember].[2021].[Q4].[10]"
      ],
      "mapping": {
       "columns": [
        "[Cashflows].[Settlement_Currency].[Settlement_Currency] => [Cashflows].[Settlement_Date].[Settlement_Date]"
       ],
       "measures": [
        "[Measures].[Max in period]",
        "[Measures].[2nd max in period]",
        "[Measures].[3rd max in period]",
        "[Measures].[Average max over period]"
       ],
       "rows": [
        "ALL_MEASURES"
       ]
      },
      "query": {
       "mdx": "SELECT NON EMPTY Hierarchize(Union(Crossjoin(Descendants({[Cashflows].[Settlement_Currency].[AllMember]}, 1, SELF_AND_BEFORE), [Cashflows].[Settlement_Date].DefaultMember), Crossjoin([Cashflows].[Settlement_Currency].[AllMember].[EUR], Hierarchize(Descendants({[Cashflows].[Settlement_Date].[AllMember]}, 1, SELF_AND_BEFORE))))) ON COLUMNS, NON EMPTY {[Measures].[Max in period], [Measures].[2nd max in period], [Measures].[3rd max in period], [Measures].[Average max over period]} ON ROWS FROM [Intraday Liquidity] CELL PROPERTIES VALUE, FORMATTED_VALUE, BACK_COLOR, FORE_COLOR, FONT_FLAGS",
       "updateMode": "once"
      },
      "queryContext": [],
      "serverKey": "default",
      "widgetKey": "pivot-table"
     }
    },
    "tags": []
   },
   "outputs": [],
   "source": [
    "session.visualize(\"Largest positive net cumulative position\")"
   ]
  },
  {
   "cell_type": "code",
   "execution_count": null,
   "id": "f5e8391d-2e95-43bf-baeb-72982e760f86",
   "metadata": {
    "atoti": {
     "height": 237,
     "widget": {
      "columnWidths": {
       "[Measures].[Daily max ranking]": 153,
       "[Measures].[Largest +ve net cumulative position]": 197,
       "[Measures].[Largest -ve net cumulative position]": 195.40625,
       "[Measures].[Measures]": 149.40625
      },
      "filters": [
       "[Cashflows].[Dates].[AllMember].[2021].[Q4].[10]"
      ],
      "mapping": {
       "columns": [
        "[Cashflows].[Settlement_Currency].[Settlement_Currency] => [Cashflows].[Settlement_Date].[Settlement_Date]"
       ],
       "measures": [
        "[Measures].[Min in period]",
        "[Measures].[2nd min in period]",
        "[Measures].[3rd min in period]",
        "[Measures].[Average min over period]"
       ],
       "rows": [
        "ALL_MEASURES"
       ]
      },
      "query": {
       "mdx": "SELECT NON EMPTY Hierarchize(Union(Crossjoin(Descendants({[Cashflows].[Settlement_Currency].[AllMember]}, 1, SELF_AND_BEFORE), [Cashflows].[Settlement_Date].DefaultMember), Crossjoin([Cashflows].[Settlement_Currency].[AllMember].[EUR], Hierarchize(Descendants({[Cashflows].[Settlement_Date].[AllMember]}, 1, SELF_AND_BEFORE))))) ON COLUMNS, NON EMPTY {[Measures].[Min in period], [Measures].[2nd min in period], [Measures].[3rd min in period], [Measures].[Average min over period]} ON ROWS FROM [Intraday Liquidity] CELL PROPERTIES VALUE, FORMATTED_VALUE, BACK_COLOR, FORE_COLOR, FONT_FLAGS",
       "updateMode": "once"
      },
      "queryContext": [
       {
        "key": "queriesTimeLimit",
        "value": 60
       }
      ],
      "serverKey": "default",
      "widgetKey": "pivot-table"
     }
    },
    "tags": []
   },
   "outputs": [],
   "source": [
    "session.visualize(\"Largest negative net cumulative position\")"
   ]
  },
  {
   "cell_type": "code",
   "execution_count": null,
   "id": "5bb3f1b7-2119-471e-a550-ccaa6a8c329d",
   "metadata": {
    "atoti": {
     "widget": {
      "filters": [
       "[Cashflows].[Dates].[AllMember].[2021].[Q4].[10]",
       "[Cashflows].[Settlement_Currency].[AllMember].[EUR]"
      ],
      "mapping": {
       "horizontalSubplots": [],
       "secondaryValues": [],
       "splitBy": [
        "ALL_MEASURES"
       ],
       "values": [
        "[Measures].[Largest +ve net cumulative position]",
        "[Measures].[Largest -ve net cumulative position]"
       ],
       "verticalSubplots": [],
       "xAxis": [
        "[Cashflows].[Settlement_Date].[Settlement_Date]"
       ]
      },
      "query": {
       "mdx": "SELECT NON EMPTY Hierarchize(Descendants({[Cashflows].[Settlement_Date].[AllMember]}, 1, SELF_AND_BEFORE)) ON ROWS, NON EMPTY {[Measures].[Largest +ve net cumulative position], [Measures].[Largest -ve net cumulative position]} ON COLUMNS FROM [Intraday Liquidity] CELL PROPERTIES VALUE, FORMATTED_VALUE, BACK_COLOR, FORE_COLOR, FONT_FLAGS",
       "updateMode": "once"
      },
      "serverKey": "default",
      "widgetKey": "plotly-line-chart"
     }
    },
    "tags": []
   },
   "outputs": [],
   "source": [
    "session.visualize(\"Largest +ve/-ve net cumulative position trend for October 2021\")"
   ]
  },
  {
   "cell_type": "markdown",
   "id": "56ddd67f-8881-4fe9-b455-9d98c7845fec",
   "metadata": {},
   "source": [
    "#### 3.4 Organize the measures "
   ]
  },
  {
   "cell_type": "markdown",
   "id": "a4f91c38-fba2-49a3-a6e6-e7a4e75a3b5d",
   "metadata": {},
   "source": [
    "Instead of having the measures ordered alphabetically in a long list, we can organize them in folders for easier access:"
   ]
  },
  {
   "cell_type": "code",
   "execution_count": null,
   "id": "ce105445-03f5-4915-821f-f6e5a031f129",
   "metadata": {},
   "outputs": [],
   "source": [
    "for measure in [\n",
    "    m[\"Largest +ve net cumulative position\"],\n",
    "    m[\"Daily max ranking\"],\n",
    "    m[\"Max in period\"],\n",
    "    m[\"2nd max in period\"],\n",
    "    m[\"3rd max in period\"],\n",
    "    m[\"Average max over period\"],\n",
    "]:\n",
    "    measure.folder = \"Max\"\n",
    "\n",
    "for measure in [\n",
    "    m[\"Largest -ve net cumulative position\"],\n",
    "    m[\"Daily min ranking\"],\n",
    "    m[\"Min in period\"],\n",
    "    m[\"2nd min in period\"],\n",
    "    m[\"3rd min in period\"],\n",
    "    m[\"Average min over period\"],\n",
    "]:\n",
    "    measure.folder = \"Min\""
   ]
  },
  {
   "cell_type": "markdown",
   "id": "a32ee771-b54b-4ff5-a834-218d27818178",
   "metadata": {},
   "source": [
    "## 4 Creating dashboard"
   ]
  },
  {
   "cell_type": "markdown",
   "id": "83e4a4cc-0c90-4a51-bfca-23e846e3d9f2",
   "metadata": {},
   "source": [
    "We can easily export the visuals above and put together a dashboard as shown in the GIF below:\n",
    "\n",
    "<img src=\"img/dashboard_building.gif\" width=\"800px\" />"
   ]
  },
  {
   "cell_type": "markdown",
   "id": "109b6529-e3fa-4ad2-95cf-de666f87e296",
   "metadata": {},
   "source": [
    "Check out this dashboard which we prepared beforehand!"
   ]
  },
  {
   "cell_type": "code",
   "execution_count": null,
   "id": "3fbba67a-6b71-4f18-bc8e-b13bcfd2881c",
   "metadata": {},
   "outputs": [],
   "source": [
    "session.link(path=\"/#/dashboard/1b7\")"
   ]
  },
  {
   "cell_type": "markdown",
   "id": "77fd3a09-4c27-41d1-b776-0d57993b80e4",
   "metadata": {},
   "source": [
    "## 5 Intraday real-time monitoring"
   ]
  },
  {
   "cell_type": "markdown",
   "id": "d05ac510-28d6-4cdd-903f-7b82b95cd380",
   "metadata": {},
   "source": [
    "We have prepared some cashflow transactions for 15th Oct 2021. Before you continue with the below sections, open up the dashboard below and ensure that the quick filter is on the correct settlement date."
   ]
  },
  {
   "cell_type": "code",
   "execution_count": null,
   "id": "4bb58eb3-ba1a-4a67-ba00-d58be75bc810",
   "metadata": {},
   "outputs": [],
   "source": [
    "session.link(path=\"/#/dashboard/1fc\")"
   ]
  },
  {
   "cell_type": "markdown",
   "id": "6827a22e-0ffc-406e-8fa5-80919005ba77",
   "metadata": {},
   "source": [
    "Let's simulate some real-time cashflows."
   ]
  },
  {
   "cell_type": "code",
   "execution_count": null,
   "id": "e11857c7-9eda-46a7-9899-cd9727a1401c",
   "metadata": {},
   "outputs": [],
   "source": [
    "rt_chunks_df = pd.read_csv(\n",
    "    \"https://data.atoti.io/notebooks/intraday-liquidity/cashflow_realtime_20211015.csv\",\n",
    "    chunksize=500,\n",
    "    parse_dates=[\"Transaction_Date\", \"Settlement_Date\"],\n",
    ")"
   ]
  },
  {
   "cell_type": "code",
   "execution_count": null,
   "id": "19f60865-63fc-4dbe-9fea-4ad18b0ab2bd",
   "metadata": {},
   "outputs": [],
   "source": [
    "for chunk in rt_chunks_df:\n",
    "    t = chunk.reset_index()\n",
    "    # loads only the relevant columns\n",
    "    # https://github.com/atoti/atoti/issues/758\n",
    "    payment_tbl.load_pandas(t[payment_tbl.columns])\n",
    "    print(\".\", end=\"\")\n",
    "    time.sleep(1)\n",
    "print(\"End\")"
   ]
  },
  {
   "cell_type": "markdown",
   "id": "6bab1d9e-8bd0-45c1-8f61-12eaabec83d4",
   "metadata": {},
   "source": [
    "Check out how responsive the dashboard is, loading 500 records at 1s throttled speed:\n",
    "\n",
    "<img src=\"img/realtime_cashflow_monitoring.gif\" width=\"850px\" />"
   ]
  },
  {
   "cell_type": "markdown",
   "id": "60080e03-e7b5-4885-a8a5-f402c8727805",
   "metadata": {},
   "source": [
    "<div style=\"text-align: center;\" ><a href=\"https://www.atoti.io/?utm_source=gallery&utm_content=intraday_liquidity\" target=\"_blank\" rel=\"noopener noreferrer\"><img src=\"https://data.atoti.io/notebooks/banners/Your-turn-to-try-Atoti.jpg\" alt=\"Try Atoti\"></a></div>"
   ]
  }
 ],
 "metadata": {
  "kernelspec": {
   "display_name": "Python 3 (ipykernel)",
   "language": "python",
   "name": "python3"
  },
  "language_info": {
   "codemirror_mode": {
    "name": "ipython",
    "version": 3
   },
   "file_extension": ".py",
   "mimetype": "text/x-python",
   "name": "python",
   "nbconvert_exporter": "python",
   "pygments_lexer": "ipython3",
   "version": "3.11.10"
  },
  "toc-autonumbering": false,
  "toc-showmarkdowntxt": false,
  "widgets": {
   "application/vnd.jupyter.widget-state+json": {
    "state": {},
    "version_major": 2,
    "version_minor": 0
   }
  }
 },
 "nbformat": 4,
 "nbformat_minor": 5
}
