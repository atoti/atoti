{
 "cells": [
  {
   "cell_type": "markdown",
   "id": "4b3bb4a0-74bf-4f21-a181-095dd87e0fee",
   "metadata": {},
   "source": [
    "# Working with Hierachies in Atoti\n",
    "\n",
    "In this notebook, we'll show you how to work with hierarchies when using the Atoti Python API. In particular, we'll show you how to implement the following properties and functions for [hierarchies](https://docs.atoti.io/latest/api/atoti.Hierarchy.html):\n",
    "\n",
    "* [`dimension`](#Hierarchy.dimension): Name of the dimension of the hierarchy.\n",
    "* [`dimension_default`](#Hierarchy.dimension_default): Whether the hierarchy is the default in its dimension or not.\n",
    "* [`isin`](#Hierarchy.isin()): Return a condition to check that the hierarchy is on one of the given members.\n",
    "* [`levels`](#Hierarchy.levels): Levels of the hierarchy.\n",
    "* [`name`](#Hierarchy.name): Name of the hierarchy.\n",
    "* `slicing`: Whether the hierarchy is slicing or not.\n",
    "* `virtual`: Whether the hierarchy is virtual or not.\n",
    "* [`visible`](#Hierarchy.visible): Whether the hierarchy is visible or not.\n",
    "\n",
    "💡 **Note:** Check out the Atoti Server Docs for more conceptual information on [dimensions and hierarchies](https://docs.activeviam.com/products/atoti/server/6.0.7/docs/concepts/dimensions_and_hierarchies/) and on the different [types of hierarchies](https://docs.activeviam.com/products/atoti/server/6.0.7/docs/concepts/dimensions_and_hierarchies/#different-types-of-hierarchies) that Atoti supports."
   ]
  },
  {
   "cell_type": "markdown",
   "id": "f2e8584c-67f1-4396-9c5e-ba5e2db7bae5",
   "metadata": {},
   "source": [
    "<div style=\"text-align: center;\" ><a href=\"https://www.atoti.io/?utm_source=gallery&utm_content=hierarchies\" target=\"_blank\" rel=\"noopener noreferrer\"><img src=\"https://data.atoti.io/notebooks/banners/Discover-Atoti-now.png\" alt=\"Try Atoti\"></a></div>"
   ]
  },
  {
   "cell_type": "markdown",
   "id": "96b431ed-d908-4c90-8028-63faa6ad5210",
   "metadata": {},
   "source": [
    "## Import Libraries\n",
    "\n",
    "First things first, let's import our libraries."
   ]
  },
  {
   "cell_type": "code",
   "execution_count": 1,
   "id": "dd52328a-81c5-4404-a791-ee01d9f83379",
   "metadata": {},
   "outputs": [],
   "source": [
    "import atoti as tt\n",
    "import pandas"
   ]
  },
  {
   "cell_type": "markdown",
   "id": "3dd1ef72-b31a-4bb4-993c-3e379e01f4fc",
   "metadata": {},
   "source": [
    "## Instantiate Atoti Server and Link UI\n",
    "\n",
    "Next, we'll spin up the Atoti server and link the session to our web-based Atoti UI.\n",
    "\n",
    "💡 **Note**: https://docs.atoti.io/latest/api/atoti.Session.html#atoti.Session"
   ]
  },
  {
   "cell_type": "code",
   "execution_count": 2,
   "id": "5989628c-d209-4c17-b023-cd18cb362b40",
   "metadata": {},
   "outputs": [
    {
     "data": {
      "application/vnd.atoti.link.v0+json": {
       "path": "",
       "sessionLocation": {
        "https": false,
        "port": 9092
       }
      },
      "text/markdown": [
       "http://localhost:9092\n",
       "\n",
       "_Note_: This is the session's local URL: it may not be reachable if Atoti is running on another machine."
      ],
      "text/plain": [
       "http://localhost:9092 (This is the session's local URL: it may not be reachable if Atoti is running on another machine.)"
      ]
     },
     "execution_count": 2,
     "metadata": {},
     "output_type": "execute_result"
    }
   ],
   "source": [
    "session = tt.Session(\n",
    "    user_content_storage=\"./content\",\n",
    "    port=9092,\n",
    "    java_options=[\"-Xms1G\", \"-Xmx10G\"],\n",
    ")\n",
    "session.link"
   ]
  },
  {
   "cell_type": "markdown",
   "id": "338e45ac-5994-4d0f-8d32-a750f90eda51",
   "metadata": {},
   "source": [
    "## Load CSVs from S3 Into Atoti Tables\n",
    "\n",
    "From here on, we'll be loading the following CSVs from S3 into Atoti Tables.\n",
    "\n",
    "* [Orders](#Orders)\n",
    "* [Products](#Products)\n",
    "* [Shippers](#Shippers)\n",
    "* [Customers](#Customers)\n",
    "* [Employees](#Employees)\n",
    "\n",
    "💡 **Note**: We should be mindful of the (numerical) columns that we intend to use as hierarchies instead of measures (e.g. an Order ID does not need to be aggregated!). For this reason, we can explicitly set specific Atoti Table columns as desired data types when loading data into Atoti Tables. See https://docs.atoti.io/latest/api/atoti.Session.read_csv.html#atoti.Session.read_csv for more info."
   ]
  },
  {
   "cell_type": "markdown",
   "id": "c2436684-84d0-4875-941e-2609c877b412",
   "metadata": {},
   "source": [
    "### Orders"
   ]
  },
  {
   "cell_type": "code",
   "execution_count": 3,
   "id": "c5bb6cc1-7f54-44d3-9934-f142644c5ca5",
   "metadata": {},
   "outputs": [
    {
     "data": {
      "text/html": [
       "<div>\n",
       "<style scoped>\n",
       "    .dataframe tbody tr th:only-of-type {\n",
       "        vertical-align: middle;\n",
       "    }\n",
       "\n",
       "    .dataframe tbody tr th {\n",
       "        vertical-align: top;\n",
       "    }\n",
       "\n",
       "    .dataframe thead th {\n",
       "        text-align: right;\n",
       "    }\n",
       "</style>\n",
       "<table border=\"1\" class=\"dataframe\">\n",
       "  <thead>\n",
       "    <tr style=\"text-align: right;\">\n",
       "      <th></th>\n",
       "      <th>OrderDate</th>\n",
       "      <th>QuantitySold</th>\n",
       "      <th>SellingPricePerUnit</th>\n",
       "      <th>ShipperName</th>\n",
       "      <th>ProductId</th>\n",
       "      <th>EmployeeId</th>\n",
       "      <th>CustomerId</th>\n",
       "    </tr>\n",
       "    <tr>\n",
       "      <th>OrderId</th>\n",
       "      <th></th>\n",
       "      <th></th>\n",
       "      <th></th>\n",
       "      <th></th>\n",
       "      <th></th>\n",
       "      <th></th>\n",
       "      <th></th>\n",
       "    </tr>\n",
       "  </thead>\n",
       "  <tbody>\n",
       "    <tr>\n",
       "      <th>13</th>\n",
       "      <td>18/2/2019</td>\n",
       "      <td>233</td>\n",
       "      <td>32.01</td>\n",
       "      <td>Federal Shipping</td>\n",
       "      <td>1358</td>\n",
       "      <td>18551</td>\n",
       "      <td>c4859</td>\n",
       "    </tr>\n",
       "    <tr>\n",
       "      <th>27</th>\n",
       "      <td>18/2/2019</td>\n",
       "      <td>749</td>\n",
       "      <td>21.96</td>\n",
       "      <td>Rapid Post</td>\n",
       "      <td>1514</td>\n",
       "      <td>26584</td>\n",
       "      <td>c4747</td>\n",
       "    </tr>\n",
       "    <tr>\n",
       "      <th>41</th>\n",
       "      <td>18/2/2019</td>\n",
       "      <td>454</td>\n",
       "      <td>11.73</td>\n",
       "      <td>Freight United</td>\n",
       "      <td>773</td>\n",
       "      <td>98635</td>\n",
       "      <td>c2675</td>\n",
       "    </tr>\n",
       "    <tr>\n",
       "      <th>55</th>\n",
       "      <td>18/2/2019</td>\n",
       "      <td>2</td>\n",
       "      <td>32.18</td>\n",
       "      <td>Speedy Express</td>\n",
       "      <td>1137</td>\n",
       "      <td>18336</td>\n",
       "      <td>c1275</td>\n",
       "    </tr>\n",
       "    <tr>\n",
       "      <th>69</th>\n",
       "      <td>18/2/2019</td>\n",
       "      <td>672</td>\n",
       "      <td>56.04</td>\n",
       "      <td>Speedy Express</td>\n",
       "      <td>591</td>\n",
       "      <td>26584</td>\n",
       "      <td>c3067</td>\n",
       "    </tr>\n",
       "  </tbody>\n",
       "</table>\n",
       "</div>"
      ],
      "text/plain": [
       "         OrderDate  QuantitySold  SellingPricePerUnit       ShipperName  \\\n",
       "OrderId                                                                   \n",
       "13       18/2/2019           233                32.01  Federal Shipping   \n",
       "27       18/2/2019           749                21.96        Rapid Post   \n",
       "41       18/2/2019           454                11.73    Freight United   \n",
       "55       18/2/2019             2                32.18    Speedy Express   \n",
       "69       18/2/2019           672                56.04    Speedy Express   \n",
       "\n",
       "        ProductId EmployeeId CustomerId  \n",
       "OrderId                                  \n",
       "13           1358      18551      c4859  \n",
       "27           1514      26584      c4747  \n",
       "41            773      98635      c2675  \n",
       "55           1137      18336      c1275  \n",
       "69            591      26584      c3067  "
      ]
     },
     "execution_count": 3,
     "metadata": {},
     "output_type": "execute_result"
    }
   ],
   "source": [
    "orders = session.read_csv(\n",
    "    \"s3://data.atoti.io/notebooks/hierarchies/data/Orders.csv\",\n",
    "    types={\n",
    "        \"OrderId\": tt.STRING,\n",
    "        \"ProductId\": tt.STRING,\n",
    "        \"EmployeeId\": tt.STRING,\n",
    "        \"CustomerId\": tt.STRING,\n",
    "    },\n",
    "    keys=[\"OrderId\"],\n",
    ")\n",
    "orders.head()"
   ]
  },
  {
   "cell_type": "markdown",
   "id": "9784490d-6226-4db7-b10c-e4b9577a2e34",
   "metadata": {},
   "source": [
    "### Products"
   ]
  },
  {
   "cell_type": "code",
   "execution_count": 4,
   "id": "d37199f3-a0eb-4cb4-91a3-57da1d2c752f",
   "metadata": {},
   "outputs": [
    {
     "data": {
      "text/html": [
       "<div>\n",
       "<style scoped>\n",
       "    .dataframe tbody tr th:only-of-type {\n",
       "        vertical-align: middle;\n",
       "    }\n",
       "\n",
       "    .dataframe tbody tr th {\n",
       "        vertical-align: top;\n",
       "    }\n",
       "\n",
       "    .dataframe thead th {\n",
       "        text-align: right;\n",
       "    }\n",
       "</style>\n",
       "<table border=\"1\" class=\"dataframe\">\n",
       "  <thead>\n",
       "    <tr style=\"text-align: right;\">\n",
       "      <th></th>\n",
       "      <th>ProductName</th>\n",
       "      <th>ProductCategory</th>\n",
       "      <th>Supplier</th>\n",
       "      <th>PurchasingPricePerUnit</th>\n",
       "    </tr>\n",
       "    <tr>\n",
       "      <th>ProductId</th>\n",
       "      <th></th>\n",
       "      <th></th>\n",
       "      <th></th>\n",
       "      <th></th>\n",
       "    </tr>\n",
       "  </thead>\n",
       "  <tbody>\n",
       "    <tr>\n",
       "      <th>695</th>\n",
       "      <td>Gorgonzola Telino</td>\n",
       "      <td>Dairy Products</td>\n",
       "      <td>Formaggi Fortini s.r.l.</td>\n",
       "      <td>7.2</td>\n",
       "    </tr>\n",
       "    <tr>\n",
       "      <th>877</th>\n",
       "      <td>Mascarpone Fabioli</td>\n",
       "      <td>Dairy Products</td>\n",
       "      <td>Formaggi Fortini s.r.l.</td>\n",
       "      <td>18.43</td>\n",
       "    </tr>\n",
       "    <tr>\n",
       "      <th>1059</th>\n",
       "      <td>Ipoh Coffee</td>\n",
       "      <td>Beverages</td>\n",
       "      <td>Leka Trading</td>\n",
       "      <td>31.05</td>\n",
       "    </tr>\n",
       "    <tr>\n",
       "      <th>1241</th>\n",
       "      <td>Spegesild</td>\n",
       "      <td>Seafood</td>\n",
       "      <td>Lyngbysild</td>\n",
       "      <td>6.48</td>\n",
       "    </tr>\n",
       "    <tr>\n",
       "      <th>1423</th>\n",
       "      <td>Gumbär Gummibärchen</td>\n",
       "      <td>Confections</td>\n",
       "      <td>Heli Süßwaren GmbH &amp; Co. KG</td>\n",
       "      <td>16.81</td>\n",
       "    </tr>\n",
       "  </tbody>\n",
       "</table>\n",
       "</div>"
      ],
      "text/plain": [
       "                   ProductName ProductCategory                     Supplier  \\\n",
       "ProductId                                                                     \n",
       "695          Gorgonzola Telino  Dairy Products      Formaggi Fortini s.r.l.   \n",
       "877         Mascarpone Fabioli  Dairy Products      Formaggi Fortini s.r.l.   \n",
       "1059               Ipoh Coffee       Beverages                 Leka Trading   \n",
       "1241                 Spegesild         Seafood                   Lyngbysild   \n",
       "1423       Gumbär Gummibärchen     Confections  Heli Süßwaren GmbH & Co. KG   \n",
       "\n",
       "           PurchasingPricePerUnit  \n",
       "ProductId                          \n",
       "695                           7.2  \n",
       "877                         18.43  \n",
       "1059                        31.05  \n",
       "1241                         6.48  \n",
       "1423                        16.81  "
      ]
     },
     "execution_count": 4,
     "metadata": {},
     "output_type": "execute_result"
    }
   ],
   "source": [
    "products = session.read_csv(\n",
    "    \"s3://data.atoti.io/notebooks/hierarchies/data/Products.csv\",\n",
    "    types={\n",
    "        \"ProductId\": tt.STRING,\n",
    "        \"ProductName\": tt.STRING,\n",
    "        \"ProductCategory\": tt.STRING,\n",
    "        \"Supplier\": tt.STRING,\n",
    "        \"PurchasingPricePerUnit\": tt.DOUBLE,\n",
    "    },\n",
    "    keys=[\"ProductId\"],\n",
    ")\n",
    "products.head()"
   ]
  },
  {
   "cell_type": "markdown",
   "id": "ac89f164-064a-4658-b7a7-642dd5d45d80",
   "metadata": {},
   "source": [
    "### Shippers"
   ]
  },
  {
   "cell_type": "code",
   "execution_count": 5,
   "id": "1280d556-8697-4086-9cb9-3b93c339255a",
   "metadata": {},
   "outputs": [
    {
     "data": {
      "text/html": [
       "<div>\n",
       "<style scoped>\n",
       "    .dataframe tbody tr th:only-of-type {\n",
       "        vertical-align: middle;\n",
       "    }\n",
       "\n",
       "    .dataframe tbody tr th {\n",
       "        vertical-align: top;\n",
       "    }\n",
       "\n",
       "    .dataframe thead th {\n",
       "        text-align: right;\n",
       "    }\n",
       "</style>\n",
       "<table border=\"1\" class=\"dataframe\">\n",
       "  <thead>\n",
       "    <tr style=\"text-align: right;\">\n",
       "      <th></th>\n",
       "      <th>ShipperName</th>\n",
       "      <th>Contact</th>\n",
       "    </tr>\n",
       "  </thead>\n",
       "  <tbody>\n",
       "    <tr>\n",
       "      <th>0</th>\n",
       "      <td>Freight United</td>\n",
       "      <td>Geoff Matthews</td>\n",
       "    </tr>\n",
       "    <tr>\n",
       "      <th>1</th>\n",
       "      <td>Federal Shipping</td>\n",
       "      <td>Liz Welds</td>\n",
       "    </tr>\n",
       "    <tr>\n",
       "      <th>2</th>\n",
       "      <td>Rapid Post</td>\n",
       "      <td>Payal Shah</td>\n",
       "    </tr>\n",
       "    <tr>\n",
       "      <th>3</th>\n",
       "      <td>The Transporter</td>\n",
       "      <td>Funmi Odunga</td>\n",
       "    </tr>\n",
       "    <tr>\n",
       "      <th>4</th>\n",
       "      <td>United Package</td>\n",
       "      <td>Junqi Huang</td>\n",
       "    </tr>\n",
       "  </tbody>\n",
       "</table>\n",
       "</div>"
      ],
      "text/plain": [
       "        ShipperName         Contact\n",
       "0    Freight United  Geoff Matthews\n",
       "1  Federal Shipping       Liz Welds\n",
       "2        Rapid Post      Payal Shah\n",
       "3   The Transporter    Funmi Odunga\n",
       "4    United Package     Junqi Huang"
      ]
     },
     "execution_count": 5,
     "metadata": {},
     "output_type": "execute_result"
    }
   ],
   "source": [
    "shippers = session.read_csv(\n",
    "    \"s3://data.atoti.io/notebooks/hierarchies/data/Shippers.csv\",\n",
    "    types={\n",
    "        \"ShipperName\": tt.STRING,\n",
    "        \"Contact\": tt.STRING,\n",
    "    },\n",
    ")\n",
    "shippers.head()"
   ]
  },
  {
   "cell_type": "markdown",
   "id": "9c4dac8a-8dc7-4158-8976-1ba48b98f2be",
   "metadata": {},
   "source": [
    "### Customers"
   ]
  },
  {
   "cell_type": "code",
   "execution_count": 6,
   "id": "5c17d95f-eb31-4a3b-b05a-ff3b30c0fe79",
   "metadata": {},
   "outputs": [
    {
     "data": {
      "text/html": [
       "<div>\n",
       "<style scoped>\n",
       "    .dataframe tbody tr th:only-of-type {\n",
       "        vertical-align: middle;\n",
       "    }\n",
       "\n",
       "    .dataframe tbody tr th {\n",
       "        vertical-align: top;\n",
       "    }\n",
       "\n",
       "    .dataframe thead th {\n",
       "        text-align: right;\n",
       "    }\n",
       "</style>\n",
       "<table border=\"1\" class=\"dataframe\">\n",
       "  <thead>\n",
       "    <tr style=\"text-align: right;\">\n",
       "      <th></th>\n",
       "      <th>CompanyName</th>\n",
       "      <th>Address</th>\n",
       "      <th>City</th>\n",
       "      <th>PostalCode</th>\n",
       "      <th>Region</th>\n",
       "      <th>Country</th>\n",
       "      <th>Subregion</th>\n",
       "      <th>Phone</th>\n",
       "      <th>PostCode</th>\n",
       "    </tr>\n",
       "    <tr>\n",
       "      <th>CustomerId</th>\n",
       "      <th></th>\n",
       "      <th></th>\n",
       "      <th></th>\n",
       "      <th></th>\n",
       "      <th></th>\n",
       "      <th></th>\n",
       "      <th></th>\n",
       "      <th></th>\n",
       "      <th></th>\n",
       "    </tr>\n",
       "  </thead>\n",
       "  <tbody>\n",
       "    <tr>\n",
       "      <th>c3571</th>\n",
       "      <td>Bon app'</td>\n",
       "      <td>12, rue des Bouchers</td>\n",
       "      <td>Marseille</td>\n",
       "      <td>13008</td>\n",
       "      <td>Europe</td>\n",
       "      <td>France</td>\n",
       "      <td>Western Europe</td>\n",
       "      <td>91.24.45.40</td>\n",
       "      <td>N/A</td>\n",
       "    </tr>\n",
       "    <tr>\n",
       "      <th>c4075</th>\n",
       "      <td>Drachenblut Delikatessen</td>\n",
       "      <td>Walserweg 21</td>\n",
       "      <td>Aachen</td>\n",
       "      <td>52066</td>\n",
       "      <td>Europe</td>\n",
       "      <td>Germany</td>\n",
       "      <td>Western Europe</td>\n",
       "      <td>0241-039123</td>\n",
       "      <td>N/A</td>\n",
       "    </tr>\n",
       "    <tr>\n",
       "      <th>c4243</th>\n",
       "      <td>Galería del gastrónomo</td>\n",
       "      <td>Rambla de Cataluña, 23</td>\n",
       "      <td>Barcelona</td>\n",
       "      <td>8022</td>\n",
       "      <td>Europe</td>\n",
       "      <td>Spain</td>\n",
       "      <td>Southern Europe</td>\n",
       "      <td>(93) 203 4560</td>\n",
       "      <td>N/A</td>\n",
       "    </tr>\n",
       "    <tr>\n",
       "      <th>c5083</th>\n",
       "      <td>Laughing Bacchus Wine Cellars</td>\n",
       "      <td>1900 Oak St.</td>\n",
       "      <td>Vancouver</td>\n",
       "      <td>V3F 2K1</td>\n",
       "      <td>Northern America</td>\n",
       "      <td>Canada</td>\n",
       "      <td>North America</td>\n",
       "      <td>(604) 555-3392</td>\n",
       "      <td>N/A</td>\n",
       "    </tr>\n",
       "    <tr>\n",
       "      <th>c5027</th>\n",
       "      <td>Lazy K Kountry Store</td>\n",
       "      <td>12 Orchestra Terrace</td>\n",
       "      <td>Walla Walla</td>\n",
       "      <td>99362</td>\n",
       "      <td>Northern America</td>\n",
       "      <td>United States</td>\n",
       "      <td>North America</td>\n",
       "      <td>(509) 555-7969</td>\n",
       "      <td>N/A</td>\n",
       "    </tr>\n",
       "  </tbody>\n",
       "</table>\n",
       "</div>"
      ],
      "text/plain": [
       "                              CompanyName                 Address  \\\n",
       "CustomerId                                                          \n",
       "c3571                            Bon app'    12, rue des Bouchers   \n",
       "c4075            Drachenblut Delikatessen            Walserweg 21   \n",
       "c4243              Galería del gastrónomo  Rambla de Cataluña, 23   \n",
       "c5083       Laughing Bacchus Wine Cellars            1900 Oak St.   \n",
       "c5027                Lazy K Kountry Store    12 Orchestra Terrace   \n",
       "\n",
       "                   City PostalCode            Region        Country  \\\n",
       "CustomerId                                                            \n",
       "c3571         Marseille      13008            Europe         France   \n",
       "c4075            Aachen      52066            Europe        Germany   \n",
       "c4243         Barcelona       8022            Europe          Spain   \n",
       "c5083         Vancouver    V3F 2K1  Northern America         Canada   \n",
       "c5027       Walla Walla      99362  Northern America  United States   \n",
       "\n",
       "                  Subregion           Phone PostCode  \n",
       "CustomerId                                            \n",
       "c3571        Western Europe     91.24.45.40      N/A  \n",
       "c4075        Western Europe     0241-039123      N/A  \n",
       "c4243       Southern Europe   (93) 203 4560      N/A  \n",
       "c5083         North America  (604) 555-3392      N/A  \n",
       "c5027         North America  (509) 555-7969      N/A  "
      ]
     },
     "execution_count": 6,
     "metadata": {},
     "output_type": "execute_result"
    }
   ],
   "source": [
    "customers = session.read_csv(\n",
    "    \"s3://data.atoti.io/notebooks/hierarchies/data/Customers.csv\",\n",
    "    types={\n",
    "        \"CustomerId\": tt.STRING,\n",
    "        \"CompanyName\": tt.STRING,\n",
    "        \"Region\": tt.STRING,\n",
    "        \"Country\": tt.STRING,\n",
    "        \"Address\": tt.STRING,\n",
    "        \"City\": tt.STRING,\n",
    "        \"PostCode\": tt.STRING,\n",
    "        \"Phone\": tt.STRING,\n",
    "    },\n",
    "    keys=[\"CustomerId\"],\n",
    ")\n",
    "customers.head()"
   ]
  },
  {
   "cell_type": "markdown",
   "id": "0c30a612-1763-4390-9c33-336934e7d033",
   "metadata": {},
   "source": [
    "### Employees"
   ]
  },
  {
   "cell_type": "code",
   "execution_count": 7,
   "id": "c3ce0b51-5296-4696-960a-d18346499be3",
   "metadata": {},
   "outputs": [
    {
     "data": {
      "text/html": [
       "<div>\n",
       "<style scoped>\n",
       "    .dataframe tbody tr th:only-of-type {\n",
       "        vertical-align: middle;\n",
       "    }\n",
       "\n",
       "    .dataframe tbody tr th {\n",
       "        vertical-align: top;\n",
       "    }\n",
       "\n",
       "    .dataframe thead th {\n",
       "        text-align: right;\n",
       "    }\n",
       "</style>\n",
       "<table border=\"1\" class=\"dataframe\">\n",
       "  <thead>\n",
       "    <tr style=\"text-align: right;\">\n",
       "      <th></th>\n",
       "      <th>EmployeeName</th>\n",
       "      <th>EmployeeZone</th>\n",
       "      <th>EmployeeCountry</th>\n",
       "      <th>EmployeeCity</th>\n",
       "    </tr>\n",
       "    <tr>\n",
       "      <th>EmployeeId</th>\n",
       "      <th></th>\n",
       "      <th></th>\n",
       "      <th></th>\n",
       "      <th></th>\n",
       "    </tr>\n",
       "  </thead>\n",
       "  <tbody>\n",
       "    <tr>\n",
       "      <th>63528</th>\n",
       "      <td>Sean Tan</td>\n",
       "      <td>ASIA</td>\n",
       "      <td>SG</td>\n",
       "      <td>Singapore</td>\n",
       "    </tr>\n",
       "    <tr>\n",
       "      <th>98635</th>\n",
       "      <td>Shannon Lim</td>\n",
       "      <td>ASIA</td>\n",
       "      <td>SG</td>\n",
       "      <td>Singapore</td>\n",
       "    </tr>\n",
       "    <tr>\n",
       "      <th>12344</th>\n",
       "      <td>Paul Henry</td>\n",
       "      <td>EMEA</td>\n",
       "      <td>FR</td>\n",
       "      <td>Paris</td>\n",
       "    </tr>\n",
       "    <tr>\n",
       "      <th>12695</th>\n",
       "      <td>Louis Philippe</td>\n",
       "      <td>EMEA</td>\n",
       "      <td>FR</td>\n",
       "      <td>Lyon</td>\n",
       "    </tr>\n",
       "    <tr>\n",
       "      <th>18336</th>\n",
       "      <td>Steven Buchanan</td>\n",
       "      <td>EMEA</td>\n",
       "      <td>UK</td>\n",
       "      <td>London</td>\n",
       "    </tr>\n",
       "  </tbody>\n",
       "</table>\n",
       "</div>"
      ],
      "text/plain": [
       "               EmployeeName EmployeeZone EmployeeCountry EmployeeCity\n",
       "EmployeeId                                                           \n",
       "63528              Sean Tan         ASIA              SG    Singapore\n",
       "98635           Shannon Lim         ASIA              SG    Singapore\n",
       "12344            Paul Henry         EMEA              FR        Paris\n",
       "12695        Louis Philippe         EMEA              FR         Lyon\n",
       "18336       Steven Buchanan         EMEA              UK       London"
      ]
     },
     "execution_count": 7,
     "metadata": {},
     "output_type": "execute_result"
    }
   ],
   "source": [
    "employees = session.read_csv(\n",
    "    \"s3://data.atoti.io/notebooks/hierarchies/data/Employees.csv\",\n",
    "    types={\n",
    "        \"EmployeeId\": tt.STRING,\n",
    "        \"EmployeeName\": tt.STRING,\n",
    "        \"EmployeeCountry\": tt.STRING,\n",
    "        \"EmployeeCity\": tt.STRING,\n",
    "    },\n",
    "    keys=[\"EmployeeId\"],\n",
    ")\n",
    "employees.head()"
   ]
  },
  {
   "cell_type": "markdown",
   "id": "6e277a6c-bf86-46d0-8c28-ab48986f8237",
   "metadata": {},
   "source": [
    "## Join Tables and Create Cube\n",
    "\n",
    "Now, that our data is loaded into our Atoti Tables and in the format that we want, we should join our tables together on common keys to extend attributes from other entity relationships, and create our Atoti cube."
   ]
  },
  {
   "cell_type": "code",
   "execution_count": 8,
   "id": "63f8f654-b769-4362-ac4c-5470c22d27b2",
   "metadata": {},
   "outputs": [],
   "source": [
    "# Join tables\n",
    "orders.join(products, orders[\"ProductId\"] == products[\"ProductId\"])\n",
    "orders.join(employees, orders[\"EmployeeId\"] == employees[\"EmployeeId\"])\n",
    "orders.join(customers, orders[\"CustomerId\"] == customers[\"CustomerId\"])\n",
    "orders.join(shippers, orders[\"ShipperName\"] == shippers[\"ShipperName\"])"
   ]
  },
  {
   "cell_type": "code",
   "execution_count": 9,
   "id": "b5f9b569-eaa7-4b41-8a36-071f6970444a",
   "metadata": {},
   "outputs": [],
   "source": [
    "# Create Cube from Atoti Table object\n",
    "cube = session.create_cube(orders)"
   ]
  },
  {
   "cell_type": "markdown",
   "id": "43c0ab89-5c1a-4546-8d4a-942ee8dc8708",
   "metadata": {},
   "source": [
    "## Analyze the Atoti Cube\n",
    "\n",
    "Now that the data has been loaded into the cube, we'll want to examine the data model of the cube to confirm that the columns and data types match up to what we expect. In addition, we can view the hierarchies, levels, and measures for our cube by assigning them to variables."
   ]
  },
  {
   "cell_type": "code",
   "execution_count": 10,
   "id": "eaf46e7c-2501-462b-82a1-107e74e497f7",
   "metadata": {},
   "outputs": [
    {
     "data": {
      "image/png": "[encoded data removed]",
      "text/plain": [
       "erDiagram\n",
       "  \"Orders\" {\n",
       "    _ String PK \"OrderId\"\n",
       "    _ String \"OrderDate\"\n",
       "    nullable int \"QuantitySold\"\n",
       "    nullable double \"SellingPricePerUnit\"\n",
       "    _ String \"ShipperName\"\n",
       "    _ String \"ProductId\"\n",
       "    _ String \"EmployeeId\"\n",
       "    _ String \"CustomerId\"\n",
       "  }\n",
       "  \"Products\" {\n",
       "    _ String PK \"ProductId\"\n",
       "    _ String \"ProductName\"\n",
       "    _ String \"ProductCategory\"\n",
       "    _ String \"Supplier\"\n",
       "    nullable double \"PurchasingPricePerUnit\"\n",
       "  }\n",
       "  \"Customers\" {\n",
       "    _ String PK \"CustomerId\"\n",
       "    _ String \"CompanyName\"\n",
       "    _ String \"Address\"\n",
       "    _ String \"City\"\n",
       "    _ String \"PostalCode\"\n",
       "    _ String \"Region\"\n",
       "    _ String \"Country\"\n",
       "    _ String \"Subregion\"\n",
       "    _ String \"Phone\"\n",
       "    _ String \"PostCode\"\n",
       "  }\n",
       "  \"Shippers\" {\n",
       "    _ String \"ShipperName\"\n",
       "    _ String \"Contact\"\n",
       "  }\n",
       "  \"Employees\" {\n",
       "    _ String PK \"EmployeeId\"\n",
       "    _ String \"EmployeeName\"\n",
       "    _ String \"EmployeeZone\"\n",
       "    _ String \"EmployeeCountry\"\n",
       "    _ String \"EmployeeCity\"\n",
       "  }\n",
       "  \"Orders\" }o--o| \"Customers\" : \"`CustomerId` == `CustomerId`\"\n",
       "  \"Orders\" }o--o| \"Employees\" : \"`EmployeeId` == `EmployeeId`\"\n",
       "  \"Orders\" }o--o| \"Products\" : \"`ProductId` == `ProductId`\"\n",
       "  \"Orders\" }o--o| \"Shippers\" : \"`ShipperName` == `ShipperName`\""
      ]
     },
     "execution_count": 10,
     "metadata": {},
     "output_type": "execute_result"
    }
   ],
   "source": [
    "# View the schema of the data model\n",
    "session.tables.schema"
   ]
  },
  {
   "cell_type": "code",
   "execution_count": 11,
   "id": "9d3894be-2af4-4a75-a091-7a060bc403f5",
   "metadata": {},
   "outputs": [],
   "source": [
    "# Set variables for hierarchies, levels, and measures\n",
    "h, l, m = cube.hierarchies, cube.levels, cube.measures"
   ]
  },
  {
   "cell_type": "markdown",
   "id": "5e262b11-8c22-4ba2-9795-b6cf03d753b1",
   "metadata": {},
   "source": [
    "## Viewing Hierarchies\n",
    "\n",
    "Because this walk through will mainly be focusing on hierarchies, let's view the hierarchies for the data model by printing the list of hierarchies based on the variable that we assigned.\n",
    "\n",
    "We can see that each hierarchy is categorized under dimensions, and each hierarchy has it's own set of levels (starting with a 0-based index).\n",
    "\n",
    "💡 **Note**: Hierarchies can have [multiple levels](https://docs.atoti.io/latest/getting_started/tutorial/tutorial.html#Multilevel-hierarchies), which we will show later in this notebook."
   ]
  },
  {
   "cell_type": "code",
   "execution_count": 12,
   "id": "d62e8940-8ae1-4bb0-afa6-3425471f65ef",
   "metadata": {},
   "outputs": [
    {
     "data": {
      "application/json": {
       "Customers": {
        "Address": [
         "Address"
        ],
        "City": [
         "City"
        ],
        "CompanyName": [
         "CompanyName"
        ],
        "Country": [
         "Country"
        ],
        "Phone": [
         "Phone"
        ],
        "PostCode": [
         "PostCode"
        ],
        "PostalCode": [
         "PostalCode"
        ],
        "Region": [
         "Region"
        ],
        "Subregion": [
         "Subregion"
        ]
       },
       "Employees": {
        "EmployeeCity": [
         "EmployeeCity"
        ],
        "EmployeeCountry": [
         "EmployeeCountry"
        ],
        "EmployeeName": [
         "EmployeeName"
        ],
        "EmployeeZone": [
         "EmployeeZone"
        ]
       },
       "Orders": {
        "CustomerId": [
         "CustomerId"
        ],
        "EmployeeId": [
         "EmployeeId"
        ],
        "OrderDate": [
         "OrderDate"
        ],
        "OrderId": [
         "OrderId"
        ],
        "ProductId": [
         "ProductId"
        ],
        "ShipperName": [
         "ShipperName"
        ]
       },
       "Products": {
        "ProductCategory": [
         "ProductCategory"
        ],
        "ProductName": [
         "ProductName"
        ],
        "Supplier": [
         "Supplier"
        ]
       },
       "Shippers": {
        "Contact": [
         "Contact"
        ]
       }
      },
      "text/html": [
       "<ul>\n",
       "<li>Dimensions\n",
       "  <ul>\n",
       "  <li>Customers\n",
       "    <ul>\n",
       "    <li>Address\n",
       "      <ol>\n",
       "      <li>Address</li>\n",
       "      </ol>    </li>\n",
       "    <li>City\n",
       "      <ol>\n",
       "      <li>City</li>\n",
       "      </ol>    </li>\n",
       "    <li>CompanyName\n",
       "      <ol>\n",
       "      <li>CompanyName</li>\n",
       "      </ol>    </li>\n",
       "    <li>Country\n",
       "      <ol>\n",
       "      <li>Country</li>\n",
       "      </ol>    </li>\n",
       "    <li>Phone\n",
       "      <ol>\n",
       "      <li>Phone</li>\n",
       "      </ol>    </li>\n",
       "    <li>PostCode\n",
       "      <ol>\n",
       "      <li>PostCode</li>\n",
       "      </ol>    </li>\n",
       "    <li>PostalCode\n",
       "      <ol>\n",
       "      <li>PostalCode</li>\n",
       "      </ol>    </li>\n",
       "    <li>Region\n",
       "      <ol>\n",
       "      <li>Region</li>\n",
       "      </ol>    </li>\n",
       "    <li>Subregion\n",
       "      <ol>\n",
       "      <li>Subregion</li>\n",
       "      </ol>    </li>\n",
       "    </ul>\n",
       "  </li>\n",
       "  <li>Employees\n",
       "    <ul>\n",
       "    <li>EmployeeCity\n",
       "      <ol>\n",
       "      <li>EmployeeCity</li>\n",
       "      </ol>    </li>\n",
       "    <li>EmployeeCountry\n",
       "      <ol>\n",
       "      <li>EmployeeCountry</li>\n",
       "      </ol>    </li>\n",
       "    <li>EmployeeName\n",
       "      <ol>\n",
       "      <li>EmployeeName</li>\n",
       "      </ol>    </li>\n",
       "    <li>EmployeeZone\n",
       "      <ol>\n",
       "      <li>EmployeeZone</li>\n",
       "      </ol>    </li>\n",
       "    </ul>\n",
       "  </li>\n",
       "  <li>Orders\n",
       "    <ul>\n",
       "    <li>CustomerId\n",
       "      <ol>\n",
       "      <li>CustomerId</li>\n",
       "      </ol>    </li>\n",
       "    <li>EmployeeId\n",
       "      <ol>\n",
       "      <li>EmployeeId</li>\n",
       "      </ol>    </li>\n",
       "    <li>OrderDate\n",
       "      <ol>\n",
       "      <li>OrderDate</li>\n",
       "      </ol>    </li>\n",
       "    <li>OrderId\n",
       "      <ol>\n",
       "      <li>OrderId</li>\n",
       "      </ol>    </li>\n",
       "    <li>ProductId\n",
       "      <ol>\n",
       "      <li>ProductId</li>\n",
       "      </ol>    </li>\n",
       "    <li>ShipperName\n",
       "      <ol>\n",
       "      <li>ShipperName</li>\n",
       "      </ol>    </li>\n",
       "    </ul>\n",
       "  </li>\n",
       "  <li>Products\n",
       "    <ul>\n",
       "    <li>ProductCategory\n",
       "      <ol>\n",
       "      <li>ProductCategory</li>\n",
       "      </ol>    </li>\n",
       "    <li>ProductName\n",
       "      <ol>\n",
       "      <li>ProductName</li>\n",
       "      </ol>    </li>\n",
       "    <li>Supplier\n",
       "      <ol>\n",
       "      <li>Supplier</li>\n",
       "      </ol>    </li>\n",
       "    </ul>\n",
       "  </li>\n",
       "  <li>Shippers\n",
       "    <ul>\n",
       "    <li>Contact\n",
       "      <ol>\n",
       "      <li>Contact</li>\n",
       "      </ol>    </li>\n",
       "    </ul>\n",
       "  </li>\n",
       "  </ul>\n",
       "</li>\n",
       "</ul>\n"
      ],
      "text/plain": [
       "{('Products', 'Supplier'): <atoti.hierarchy.Hierarchy object at 0x128403730>, ('Orders', 'OrderDate'): <atoti.hierarchy.Hierarchy object at 0x128403880>, ('Orders', 'ProductId'): <atoti.hierarchy.Hierarchy object at 0x128403970>, ('Products', 'ProductName'): <atoti.hierarchy.Hierarchy object at 0x128403a60>, ('Customers', 'Phone'): <atoti.hierarchy.Hierarchy object at 0x128403b50>, ('Customers', 'Address'): <atoti.hierarchy.Hierarchy object at 0x128403c40>, ('Customers', 'Region'): <atoti.hierarchy.Hierarchy object at 0x128403d30>, ('Shippers', 'Contact'): <atoti.hierarchy.Hierarchy object at 0x128403e20>, ('Orders', 'EmployeeId'): <atoti.hierarchy.Hierarchy object at 0x1283e1d80>, ('Customers', 'PostCode'): <atoti.hierarchy.Hierarchy object at 0x1283e0220>, ('Employees', 'EmployeeCountry'): <atoti.hierarchy.Hierarchy object at 0x1283e1570>, ('Products', 'ProductCategory'): <atoti.hierarchy.Hierarchy object at 0x1283e3c70>, ('Customers', 'PostalCode'): <atoti.hierarchy.Hierarchy object at 0x11ffc2380>, ('Customers', 'Subregion'): <atoti.hierarchy.Hierarchy object at 0x1283e0d90>, ('Orders', 'CustomerId'): <atoti.hierarchy.Hierarchy object at 0x12837d1b0>, ('Employees', 'EmployeeCity'): <atoti.hierarchy.Hierarchy object at 0x12837da80>, ('Customers', 'Country'): <atoti.hierarchy.Hierarchy object at 0x12837d000>, ('Orders', 'OrderId'): <atoti.hierarchy.Hierarchy object at 0x12837d390>, ('Customers', 'CompanyName'): <atoti.hierarchy.Hierarchy object at 0x128403550>, ('Orders', 'ShipperName'): <atoti.hierarchy.Hierarchy object at 0x128403430>, ('Employees', 'EmployeeName'): <atoti.hierarchy.Hierarchy object at 0x128403160>, ('Employees', 'EmployeeZone'): <atoti.hierarchy.Hierarchy object at 0x128402e30>, ('Customers', 'City'): <atoti.hierarchy.Hierarchy object at 0x128402ef0>}"
      ]
     },
     "execution_count": 12,
     "metadata": {
      "application/json": {
       "expanded": true,
       "root": "Dimensions"
      }
     },
     "output_type": "execute_result"
    }
   ],
   "source": [
    "h"
   ]
  },
  {
   "cell_type": "markdown",
   "id": "a69c6a34-4f17-4dc2-a325-5c8cc8145652",
   "metadata": {},
   "source": [
    "## Using atoti.Hierarchy Properties and Functions\n",
    "\n",
    "With our hierarchies listed, let's now walk through how to use the various `atoti.Hierarchy` properties and functions to interact with (and manipulate) our hierarchies in our data model.\n",
    "\n",
    "We will categorize our hierarchy properties and functions by the following difficulties:\n",
    "\n",
    "* [Basic](#Basic-Implementations)\n",
    "* [Advanced](#Advanced-Implementations)"
   ]
  },
  {
   "cell_type": "markdown",
   "id": "10ea66d5-13cc-4855-9849-acb1cb9dc2f0",
   "metadata": {},
   "source": [
    "### Basic Implementations\n",
    "\n",
    "These are the basic implementations and tips for working with hierarchies in the Atoti Python API."
   ]
  },
  {
   "cell_type": "markdown",
   "id": "a6e66793-aa26-4a3b-a6c6-9f00c04d1585",
   "metadata": {},
   "source": [
    "#### `Hierarchy.dimension`\n",
    "\n",
    "We can use the `dimension` property of a Hierarchy object to determine the parent dimension which it is categorized under. For example, we can call the `dimension` property of the `Address` hierarchy to determine that its parent dimension is `Customers`. "
   ]
  },
  {
   "cell_type": "code",
   "execution_count": 13,
   "id": "0a98f4be-4776-410f-b3e5-f1caecef40d7",
   "metadata": {},
   "outputs": [
    {
     "data": {
      "text/plain": [
       "'Customers'"
      ]
     },
     "execution_count": 13,
     "metadata": {},
     "output_type": "execute_result"
    }
   ],
   "source": [
    "h['Address'].dimension"
   ]
  },
  {
   "cell_type": "markdown",
   "id": "19c6b620-d95f-4807-b652-b0624e045dce",
   "metadata": {},
   "source": [
    "#### `Hierarchy.dimension_default`"
   ]
  },
  {
   "cell_type": "markdown",
   "id": "345470f0-b46d-4ca0-95c6-1f5c57e244ef",
   "metadata": {},
   "source": [
    "We can also call the `dimension_default` property of a Hierarchy object to determine if a specified hierarchy is the default hierarchy in its parent dimension."
   ]
  },
  {
   "cell_type": "code",
   "execution_count": 14,
   "id": "ddfcdf1a-f39f-4b4c-a2e9-a0e2859dc37b",
   "metadata": {},
   "outputs": [
    {
     "data": {
      "text/plain": [
       "False"
      ]
     },
     "execution_count": 14,
     "metadata": {},
     "output_type": "execute_result"
    }
   ],
   "source": [
    "h['Address'].dimension_default"
   ]
  },
  {
   "cell_type": "markdown",
   "id": "663db110-bfa5-476a-bdf0-438864e4cdfc",
   "metadata": {},
   "source": [
    "The output of the `dimension_default` property for a Hierarchy should be either `True` or `False`. In this case, the `Address` hiearchy of the `Customers` dimension is **not** the default hierarchy for the `Customers` dimension.\n",
    "\n",
    "So which hierarchy **is** the default hierarchy for the `Customers` dimension? We can create a simple `for` loop to test this. \n",
    "\n",
    "💡 **Note:** The `Orders` and `Customers` tables are joined by the common key: `CustomerId`. However, from an Atoti data model perspective, `CustomerId` is a hierarchy present under the base table or `Orders` dimension, and is no longer present as a (redundant) hierarchy under the `Customers` dimension. Therefore, when checking the `Customers` dimension for its default hierarchy, we must filter out the `CustomerId` out from the search criteria — otherwise we get a missing `KeyError`."
   ]
  },
  {
   "cell_type": "code",
   "execution_count": 15,
   "id": "1fe311c8-b976-429d-9898-13ee34ba9d2e",
   "metadata": {},
   "outputs": [
    {
     "name": "stdout",
     "output_type": "stream",
     "text": [
      "h['Customers', 'CompanyName'].dimension_default == False\n",
      "h['Customers', 'Address'].dimension_default == False\n",
      "h['Customers', 'City'].dimension_default == False\n",
      "h['Customers', 'PostalCode'].dimension_default == True\n",
      "h['Customers', 'Region'].dimension_default == False\n",
      "h['Customers', 'Country'].dimension_default == False\n",
      "h['Customers', 'Subregion'].dimension_default == False\n",
      "h['Customers', 'Phone'].dimension_default == False\n",
      "h['Customers', 'PostCode'].dimension_default == False\n"
     ]
    }
   ],
   "source": [
    "def check_default_hierarchy(hierachies, table):\n",
    "    \"\"\"Checks for the default hierarchy for an Atoti Table object.\"\"\"    \n",
    "    dimension = table.name\n",
    "    for hierarchy in table.columns:\n",
    "        if hierarchy != \"CustomerId\":\n",
    "            print(f\"h['{dimension}', '{hierarchy}'].dimension_default == {h[dimension, hierarchy].dimension_default}\")\n",
    "\n",
    "check_default_hierarchy(h, customers)"
   ]
  },
  {
   "cell_type": "markdown",
   "id": "cb5eb9ff-9dcd-4ca6-95b5-f671694f9603",
   "metadata": {},
   "source": [
    "We can see that the default hierarchy for the `Customers` dimension is actually `PostalCode`. If we set another hierarchy under the `Customers` dimension as the default hierarchy, it would look like this:"
   ]
  },
  {
   "cell_type": "code",
   "execution_count": 16,
   "id": "a6abbe1a-8799-437f-a533-eb8ceba43395",
   "metadata": {},
   "outputs": [],
   "source": [
    "h['Address'].dimension_default = True"
   ]
  },
  {
   "cell_type": "markdown",
   "id": "bb1d2b9b-6f1e-45fe-a0b5-90638eace9f7",
   "metadata": {},
   "source": [
    "Then, if we re-use the `check_default_hierarchy` function that we defined previously, we can see that the default hierarchy for the `Customers` dimension has indeed been updated."
   ]
  },
  {
   "cell_type": "code",
   "execution_count": 17,
   "id": "9c814d42-e50e-4da2-bf4c-143123207525",
   "metadata": {},
   "outputs": [
    {
     "name": "stdout",
     "output_type": "stream",
     "text": [
      "h['Customers', 'CompanyName'].dimension_default == False\n",
      "h['Customers', 'Address'].dimension_default == True\n",
      "h['Customers', 'City'].dimension_default == False\n",
      "h['Customers', 'PostalCode'].dimension_default == False\n",
      "h['Customers', 'Region'].dimension_default == False\n",
      "h['Customers', 'Country'].dimension_default == False\n",
      "h['Customers', 'Subregion'].dimension_default == False\n",
      "h['Customers', 'Phone'].dimension_default == False\n",
      "h['Customers', 'PostCode'].dimension_default == False\n"
     ]
    }
   ],
   "source": [
    "check_default_hierarchy(h, customers)"
   ]
  },
  {
   "cell_type": "markdown",
   "id": "cc3ad57b-5f3c-43d7-b678-18d66d68df92",
   "metadata": {},
   "source": [
    "#### `Hierarchy.name`"
   ]
  },
  {
   "cell_type": "markdown",
   "id": "18290d96-f17c-4573-aa29-126cd8a546f6",
   "metadata": {},
   "source": [
    "The `name` property will output the name of the hierarchy like so:"
   ]
  },
  {
   "cell_type": "code",
   "execution_count": 18,
   "id": "be0e7632-92f9-48e3-a1b6-92a111a03262",
   "metadata": {},
   "outputs": [
    {
     "data": {
      "text/plain": [
       "'Address'"
      ]
     },
     "execution_count": 18,
     "metadata": {},
     "output_type": "execute_result"
    }
   ],
   "source": [
    "h['Address'].name"
   ]
  },
  {
   "cell_type": "markdown",
   "id": "41c7a1f8-7499-429d-ae5d-b9ced9c7ae66",
   "metadata": {},
   "source": [
    "Though this is a bit redundant when we already know the name of the hierarchy. Therefore, using the `name` property may be more helpful when trying to execute a `for` loop to iterate over all hierarchies in an Atoti data model, where we may want the colloquial hierarchy name rather than the fully qualified one (with both the dimension and hierarchy listed)."
   ]
  },
  {
   "cell_type": "code",
   "execution_count": 19,
   "id": "560cc096-3bdc-4799-9c3c-0cd1fb1f9302",
   "metadata": {},
   "outputs": [
    {
     "name": "stdout",
     "output_type": "stream",
     "text": [
      "('Products', 'Supplier')\n",
      "('Orders', 'OrderDate')\n",
      "('Orders', 'ProductId')\n",
      "('Products', 'ProductName')\n",
      "('Customers', 'Phone')\n",
      "('Customers', 'Address')\n",
      "('Customers', 'Region')\n",
      "('Shippers', 'Contact')\n",
      "('Orders', 'EmployeeId')\n",
      "('Customers', 'PostCode')\n",
      "('Employees', 'EmployeeCountry')\n",
      "('Products', 'ProductCategory')\n",
      "('Customers', 'PostalCode')\n",
      "('Customers', 'Subregion')\n",
      "('Orders', 'CustomerId')\n",
      "('Employees', 'EmployeeCity')\n",
      "('Customers', 'Country')\n",
      "('Orders', 'OrderId')\n",
      "('Customers', 'CompanyName')\n",
      "('Orders', 'ShipperName')\n",
      "('Employees', 'EmployeeName')\n",
      "('Employees', 'EmployeeZone')\n",
      "('Customers', 'City')\n"
     ]
    }
   ],
   "source": [
    "for key in h.keys():\n",
    "    print(key)"
   ]
  },
  {
   "cell_type": "code",
   "execution_count": 20,
   "id": "745087f5-b41a-47d8-9f0f-2876a19aebad",
   "metadata": {},
   "outputs": [
    {
     "name": "stdout",
     "output_type": "stream",
     "text": [
      "Supplier\n",
      "OrderDate\n",
      "ProductId\n",
      "ProductName\n",
      "Phone\n",
      "Address\n",
      "Region\n",
      "Contact\n",
      "EmployeeId\n",
      "PostCode\n",
      "EmployeeCountry\n",
      "ProductCategory\n",
      "PostalCode\n",
      "Subregion\n",
      "CustomerId\n",
      "EmployeeCity\n",
      "Country\n",
      "OrderId\n",
      "CompanyName\n",
      "ShipperName\n",
      "EmployeeName\n",
      "EmployeeZone\n",
      "City\n"
     ]
    }
   ],
   "source": [
    "for key in h.keys():\n",
    "    print(h[key].name)"
   ]
  },
  {
   "cell_type": "markdown",
   "id": "823f8274-eda1-45fb-9137-b3aac5c7ba9b",
   "metadata": {},
   "source": [
    "#### `Hierarchy.visible`\n",
    "\n",
    "The `visible` property will either display or hide a hierarchy from the list of available hierarchies when using Atoti in either the Atoti JupyterLab extension or the Atoti UI. For example, if we look at our data model, we can see the `CustomerId` hierarchy listed in the list of available hierarchies.\n",
    "\n",
    "💡 **Note:** The `visible` property will **not** delete a hierarchy from an Atoti data model, it merely hides it as an available hierarchy in any of our UI interfaces. Programmatically, a hidden hierarchy can still be used."
   ]
  },
  {
   "cell_type": "markdown",
   "id": "1dfd1308-35b4-4926-8a97-74254786f073",
   "metadata": {
    "editable": true,
    "slideshow": {
     "slide_type": ""
    },
    "tags": []
   },
   "source": [
    "<img src=\"images/hierarchies-visible-true.png\" alt=\"drawing\" width=\"225\"/>"
   ]
  },
  {
   "cell_type": "markdown",
   "id": "2c002e25-1cfb-4a40-a599-1382b582705b",
   "metadata": {},
   "source": [
    "And correspondingly, if we use `session.widget` to select the `CustomerId` as our hierarchy and `contributors.COUNT` as our measure, we can see output as expected."
   ]
  },
  {
   "cell_type": "code",
   "execution_count": 21,
   "id": "c7385596-5551-4506-a0b5-b499c97fe377",
   "metadata": {
    "atoti": {
     "widget": {
      "columnWidths": {
       "[Customers].[Address].[Address]": 170,
       "[Measures].[contributors.COUNT]": 140
      },
      "mapping": {
       "columns": [
        "ALL_MEASURES"
       ],
       "measures": [
        "[Measures].[contributors.COUNT]"
       ],
       "rows": [
        "[Orders].[CustomerId].[CustomerId]"
       ]
      },
      "query": {
       "mdx": "SELECT NON EMPTY Hierarchize(Descendants({[Orders].[CustomerId].[ALL].[AllMember]}, 1, SELF_AND_BEFORE)) ON ROWS, NON EMPTY {[Measures].[contributors.COUNT]} ON COLUMNS FROM [Orders] CELL PROPERTIES VALUE, FORMATTED_VALUE, BACK_COLOR, FORE_COLOR, FONT_FLAGS",
       "updateMode": "once"
      },
      "serverKey": "default",
      "widgetKey": "pivot-table"
     }
    },
    "editable": true,
    "slideshow": {
     "slide_type": ""
    },
    "tags": []
   },
   "outputs": [
    {
     "data": {
      "application/vnd.atoti.widget.v0+json": {
       "sessionId": "1712697703_ZXJWA6",
       "sessionLocation": {
        "https": false,
        "port": 9092
       },
       "widgetCreationCode": "session.widget"
      },
      "text/html": [
       "<img height=\"352\" width=\"1024\" src=\"data:image/png;base64,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\" />"
      ],
      "text/plain": [
       "Open the notebook in JupyterLab with the Atoti JupyterLab extension enabled to build this widget."
      ]
     },
     "metadata": {},
     "output_type": "display_data"
    }
   ],
   "source": [
    "session.widget"
   ]
  },
  {
   "cell_type": "markdown",
   "id": "6540f93c-d19c-47fa-8994-543f31c62dc9",
   "metadata": {},
   "source": [
    "However if we set the `visible` property of the `CustomerId` hierarchy to `False`, it will hide it from our list of available hierarchies as expected. Notice that the total number of hierarchies in the data model (`24`) does not change whether or not the `visible` property for a hierarchy is set to `True` or `False`."
   ]
  },
  {
   "cell_type": "code",
   "execution_count": 22,
   "id": "fea74973-b2dd-4b26-8cdf-ef3d6de978d2",
   "metadata": {},
   "outputs": [],
   "source": [
    "h['CustomerId'].visible = False"
   ]
  },
  {
   "cell_type": "markdown",
   "id": "6fc69554-ef5f-46ca-92e4-4a226987253c",
   "metadata": {},
   "source": [
    "<img src=\"images/hierarchies-visible-false.png\" alt=\"drawing\" width=\"225\"/>"
   ]
  },
  {
   "cell_type": "code",
   "execution_count": 23,
   "id": "a3e20b55-7614-4baf-ae73-e0610c908fe3",
   "metadata": {},
   "outputs": [
    {
     "data": {
      "application/vnd.atoti.widget.v0+json": {
       "sessionId": "1712697703_ZXJWA6",
       "sessionLocation": {
        "https": false,
        "port": 9092
       },
       "widgetCreationCode": "session.widget"
      },
      "text/html": [
       "<img height=\"352\" width=\"1024\" src=\"data:image/png;base64,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\" />"
      ],
      "text/plain": [
       "Open the notebook in JupyterLab with the Atoti JupyterLab extension enabled to build this widget."
      ]
     },
     "metadata": {},
     "output_type": "display_data"
    }
   ],
   "source": [
    "session.widget"
   ]
  },
  {
   "cell_type": "code",
   "execution_count": 24,
   "id": "328d2cc5-1c02-4e4e-bc7e-09554b49d497",
   "metadata": {},
   "outputs": [
    {
     "data": {
      "application/json": {
       "Customers": {
        "Address": [
         "Address"
        ],
        "City": [
         "City"
        ],
        "CompanyName": [
         "CompanyName"
        ],
        "Country": [
         "Country"
        ],
        "Phone": [
         "Phone"
        ],
        "PostCode": [
         "PostCode"
        ],
        "PostalCode": [
         "PostalCode"
        ],
        "Region": [
         "Region"
        ],
        "Subregion": [
         "Subregion"
        ]
       },
       "Employees": {
        "EmployeeCity": [
         "EmployeeCity"
        ],
        "EmployeeCountry": [
         "EmployeeCountry"
        ],
        "EmployeeName": [
         "EmployeeName"
        ],
        "EmployeeZone": [
         "EmployeeZone"
        ]
       },
       "Orders": {
        "CustomerId": [
         "CustomerId"
        ],
        "EmployeeId": [
         "EmployeeId"
        ],
        "OrderDate": [
         "OrderDate"
        ],
        "OrderId": [
         "OrderId"
        ],
        "ProductId": [
         "ProductId"
        ],
        "ShipperName": [
         "ShipperName"
        ]
       },
       "Products": {
        "ProductCategory": [
         "ProductCategory"
        ],
        "ProductName": [
         "ProductName"
        ],
        "Supplier": [
         "Supplier"
        ]
       },
       "Shippers": {
        "Contact": [
         "Contact"
        ]
       }
      },
      "text/html": [
       "<ul>\n",
       "<li>Dimensions\n",
       "  <ul>\n",
       "  <li>Customers\n",
       "    <ul>\n",
       "    <li>Address\n",
       "      <ol>\n",
       "      <li>Address</li>\n",
       "      </ol>    </li>\n",
       "    <li>City\n",
       "      <ol>\n",
       "      <li>City</li>\n",
       "      </ol>    </li>\n",
       "    <li>CompanyName\n",
       "      <ol>\n",
       "      <li>CompanyName</li>\n",
       "      </ol>    </li>\n",
       "    <li>Country\n",
       "      <ol>\n",
       "      <li>Country</li>\n",
       "      </ol>    </li>\n",
       "    <li>Phone\n",
       "      <ol>\n",
       "      <li>Phone</li>\n",
       "      </ol>    </li>\n",
       "    <li>PostCode\n",
       "      <ol>\n",
       "      <li>PostCode</li>\n",
       "      </ol>    </li>\n",
       "    <li>PostalCode\n",
       "      <ol>\n",
       "      <li>PostalCode</li>\n",
       "      </ol>    </li>\n",
       "    <li>Region\n",
       "      <ol>\n",
       "      <li>Region</li>\n",
       "      </ol>    </li>\n",
       "    <li>Subregion\n",
       "      <ol>\n",
       "      <li>Subregion</li>\n",
       "      </ol>    </li>\n",
       "    </ul>\n",
       "  </li>\n",
       "  <li>Employees\n",
       "    <ul>\n",
       "    <li>EmployeeCity\n",
       "      <ol>\n",
       "      <li>EmployeeCity</li>\n",
       "      </ol>    </li>\n",
       "    <li>EmployeeCountry\n",
       "      <ol>\n",
       "      <li>EmployeeCountry</li>\n",
       "      </ol>    </li>\n",
       "    <li>EmployeeName\n",
       "      <ol>\n",
       "      <li>EmployeeName</li>\n",
       "      </ol>    </li>\n",
       "    <li>EmployeeZone\n",
       "      <ol>\n",
       "      <li>EmployeeZone</li>\n",
       "      </ol>    </li>\n",
       "    </ul>\n",
       "  </li>\n",
       "  <li>Orders\n",
       "    <ul>\n",
       "    <li>CustomerId\n",
       "      <ol>\n",
       "      <li>CustomerId</li>\n",
       "      </ol>    </li>\n",
       "    <li>EmployeeId\n",
       "      <ol>\n",
       "      <li>EmployeeId</li>\n",
       "      </ol>    </li>\n",
       "    <li>OrderDate\n",
       "      <ol>\n",
       "      <li>OrderDate</li>\n",
       "      </ol>    </li>\n",
       "    <li>OrderId\n",
       "      <ol>\n",
       "      <li>OrderId</li>\n",
       "      </ol>    </li>\n",
       "    <li>ProductId\n",
       "      <ol>\n",
       "      <li>ProductId</li>\n",
       "      </ol>    </li>\n",
       "    <li>ShipperName\n",
       "      <ol>\n",
       "      <li>ShipperName</li>\n",
       "      </ol>    </li>\n",
       "    </ul>\n",
       "  </li>\n",
       "  <li>Products\n",
       "    <ul>\n",
       "    <li>ProductCategory\n",
       "      <ol>\n",
       "      <li>ProductCategory</li>\n",
       "      </ol>    </li>\n",
       "    <li>ProductName\n",
       "      <ol>\n",
       "      <li>ProductName</li>\n",
       "      </ol>    </li>\n",
       "    <li>Supplier\n",
       "      <ol>\n",
       "      <li>Supplier</li>\n",
       "      </ol>    </li>\n",
       "    </ul>\n",
       "  </li>\n",
       "  <li>Shippers\n",
       "    <ul>\n",
       "    <li>Contact\n",
       "      <ol>\n",
       "      <li>Contact</li>\n",
       "      </ol>    </li>\n",
       "    </ul>\n",
       "  </li>\n",
       "  </ul>\n",
       "</li>\n",
       "</ul>\n"
      ],
      "text/plain": [
       "{('Products', 'Supplier'): <atoti.hierarchy.Hierarchy object at 0x128400340>, ('Orders', 'OrderDate'): <atoti.hierarchy.Hierarchy object at 0x1284007c0>, ('Orders', 'ProductId'): <atoti.hierarchy.Hierarchy object at 0x1284005e0>, ('Products', 'ProductName'): <atoti.hierarchy.Hierarchy object at 0x1284237c0>, ('Customers', 'Phone'): <atoti.hierarchy.Hierarchy object at 0x128422ef0>, ('Customers', 'Address'): <atoti.hierarchy.Hierarchy object at 0x1284222f0>, ('Customers', 'Region'): <atoti.hierarchy.Hierarchy object at 0x128423400>, ('Shippers', 'Contact'): <atoti.hierarchy.Hierarchy object at 0x128420ac0>, ('Orders', 'EmployeeId'): <atoti.hierarchy.Hierarchy object at 0x128420880>, ('Customers', 'PostCode'): <atoti.hierarchy.Hierarchy object at 0x12844f9a0>, ('Employees', 'EmployeeCountry'): <atoti.hierarchy.Hierarchy object at 0x12844f8e0>, ('Products', 'ProductCategory'): <atoti.hierarchy.Hierarchy object at 0x12844f190>, ('Customers', 'PostalCode'): <atoti.hierarchy.Hierarchy object at 0x12844c1f0>, ('Customers', 'Subregion'): <atoti.hierarchy.Hierarchy object at 0x12844ee60>, ('Orders', 'CustomerId'): <atoti.hierarchy.Hierarchy object at 0x12844c940>, ('Employees', 'EmployeeCity'): <atoti.hierarchy.Hierarchy object at 0x12844ef20>, ('Customers', 'Country'): <atoti.hierarchy.Hierarchy object at 0x12844ce20>, ('Orders', 'OrderId'): <atoti.hierarchy.Hierarchy object at 0x12844e4a0>, ('Customers', 'CompanyName'): <atoti.hierarchy.Hierarchy object at 0x12844c670>, ('Orders', 'ShipperName'): <atoti.hierarchy.Hierarchy object at 0x12844d360>, ('Employees', 'EmployeeName'): <atoti.hierarchy.Hierarchy object at 0x12844cb20>, ('Employees', 'EmployeeZone'): <atoti.hierarchy.Hierarchy object at 0x12844dfc0>, ('Customers', 'City'): <atoti.hierarchy.Hierarchy object at 0x12844d450>}"
      ]
     },
     "execution_count": 24,
     "metadata": {
      "application/json": {
       "expanded": true,
       "root": "Dimensions"
      }
     },
     "output_type": "execute_result"
    }
   ],
   "source": [
    "h"
   ]
  },
  {
   "cell_type": "markdown",
   "id": "2c42d5a7-9842-4219-99d2-391d13287dd0",
   "metadata": {},
   "source": [
    "### Advanced Implementations"
   ]
  },
  {
   "cell_type": "markdown",
   "id": "89557145-6b44-45ab-b4dc-f80efd6bc3cb",
   "metadata": {},
   "source": [
    "#### `Hierarchy.levels`\n",
    "\n"
   ]
  },
  {
   "cell_type": "code",
   "execution_count": 25,
   "id": "452f41c9-7fe4-4b0b-832c-9521d8f4ea54",
   "metadata": {},
   "outputs": [
    {
     "data": {
      "application/json": {
       "Address (Customers/Address/Address)": {
        "dimension": "Customers",
        "hierarchy": "Address",
        "order": "NaturalOrder",
        "type": "String"
       },
       "City (Customers/City/City)": {
        "dimension": "Customers",
        "hierarchy": "City",
        "order": "NaturalOrder",
        "type": "String"
       },
       "CompanyName (Customers/CompanyName/CompanyName)": {
        "dimension": "Customers",
        "hierarchy": "CompanyName",
        "order": "NaturalOrder",
        "type": "String"
       },
       "Contact (Shippers/Contact/Contact)": {
        "dimension": "Shippers",
        "hierarchy": "Contact",
        "order": "NaturalOrder",
        "type": "String"
       },
       "Country (Customers/Country/Country)": {
        "dimension": "Customers",
        "hierarchy": "Country",
        "order": "NaturalOrder",
        "type": "String"
       },
       "CustomerId (Orders/CustomerId/CustomerId)": {
        "dimension": "Orders",
        "hierarchy": "CustomerId",
        "order": "NaturalOrder",
        "type": "String"
       },
       "EmployeeCity (Employees/EmployeeCity/EmployeeCity)": {
        "dimension": "Employees",
        "hierarchy": "EmployeeCity",
        "order": "NaturalOrder",
        "type": "String"
       },
       "EmployeeCountry (Employees/EmployeeCountry/EmployeeCountry)": {
        "dimension": "Employees",
        "hierarchy": "EmployeeCountry",
        "order": "NaturalOrder",
        "type": "String"
       },
       "EmployeeId (Orders/EmployeeId/EmployeeId)": {
        "dimension": "Orders",
        "hierarchy": "EmployeeId",
        "order": "NaturalOrder",
        "type": "String"
       },
       "EmployeeName (Employees/EmployeeName/EmployeeName)": {
        "dimension": "Employees",
        "hierarchy": "EmployeeName",
        "order": "NaturalOrder",
        "type": "String"
       },
       "EmployeeZone (Employees/EmployeeZone/EmployeeZone)": {
        "dimension": "Employees",
        "hierarchy": "EmployeeZone",
        "order": "NaturalOrder",
        "type": "String"
       },
       "OrderDate (Orders/OrderDate/OrderDate)": {
        "dimension": "Orders",
        "hierarchy": "OrderDate",
        "order": "NaturalOrder",
        "type": "String"
       },
       "OrderId (Orders/OrderId/OrderId)": {
        "dimension": "Orders",
        "hierarchy": "OrderId",
        "order": "NaturalOrder",
        "type": "String"
       },
       "Phone (Customers/Phone/Phone)": {
        "dimension": "Customers",
        "hierarchy": "Phone",
        "order": "NaturalOrder",
        "type": "String"
       },
       "PostCode (Customers/PostCode/PostCode)": {
        "dimension": "Customers",
        "hierarchy": "PostCode",
        "order": "NaturalOrder",
        "type": "String"
       },
       "PostalCode (Customers/PostalCode/PostalCode)": {
        "dimension": "Customers",
        "hierarchy": "PostalCode",
        "order": "NaturalOrder",
        "type": "String"
       },
       "ProductCategory (Products/ProductCategory/ProductCategory)": {
        "dimension": "Products",
        "hierarchy": "ProductCategory",
        "order": "NaturalOrder",
        "type": "String"
       },
       "ProductId (Orders/ProductId/ProductId)": {
        "dimension": "Orders",
        "hierarchy": "ProductId",
        "order": "NaturalOrder",
        "type": "String"
       },
       "ProductName (Products/ProductName/ProductName)": {
        "dimension": "Products",
        "hierarchy": "ProductName",
        "order": "NaturalOrder",
        "type": "String"
       },
       "Region (Customers/Region/Region)": {
        "dimension": "Customers",
        "hierarchy": "Region",
        "order": "NaturalOrder",
        "type": "String"
       },
       "ShipperName (Orders/ShipperName/ShipperName)": {
        "dimension": "Orders",
        "hierarchy": "ShipperName",
        "order": "NaturalOrder",
        "type": "String"
       },
       "Subregion (Customers/Subregion/Subregion)": {
        "dimension": "Customers",
        "hierarchy": "Subregion",
        "order": "NaturalOrder",
        "type": "String"
       },
       "Supplier (Products/Supplier/Supplier)": {
        "dimension": "Products",
        "hierarchy": "Supplier",
        "order": "NaturalOrder",
        "type": "String"
       }
      },
      "text/html": [
       "<ul>\n",
       "<li>Levels\n",
       "  <ul>\n",
       "  <li>Address (Customers/Address/Address)\n",
       "    <ul>\n",
       "    <li>dimension: Customers</li>\n",
       "    <li>hierarchy: Address</li>\n",
       "    <li>type: String</li>\n",
       "    <li>order: NaturalOrder</li>\n",
       "    </ul>\n",
       "  </li>\n",
       "  <li>City (Customers/City/City)\n",
       "    <ul>\n",
       "    <li>dimension: Customers</li>\n",
       "    <li>hierarchy: City</li>\n",
       "    <li>type: String</li>\n",
       "    <li>order: NaturalOrder</li>\n",
       "    </ul>\n",
       "  </li>\n",
       "  <li>CompanyName (Customers/CompanyName/CompanyName)\n",
       "    <ul>\n",
       "    <li>dimension: Customers</li>\n",
       "    <li>hierarchy: CompanyName</li>\n",
       "    <li>type: String</li>\n",
       "    <li>order: NaturalOrder</li>\n",
       "    </ul>\n",
       "  </li>\n",
       "  <li>Contact (Shippers/Contact/Contact)\n",
       "    <ul>\n",
       "    <li>dimension: Shippers</li>\n",
       "    <li>hierarchy: Contact</li>\n",
       "    <li>type: String</li>\n",
       "    <li>order: NaturalOrder</li>\n",
       "    </ul>\n",
       "  </li>\n",
       "  <li>Country (Customers/Country/Country)\n",
       "    <ul>\n",
       "    <li>dimension: Customers</li>\n",
       "    <li>hierarchy: Country</li>\n",
       "    <li>type: String</li>\n",
       "    <li>order: NaturalOrder</li>\n",
       "    </ul>\n",
       "  </li>\n",
       "  <li>CustomerId (Orders/CustomerId/CustomerId)\n",
       "    <ul>\n",
       "    <li>dimension: Orders</li>\n",
       "    <li>hierarchy: CustomerId</li>\n",
       "    <li>type: String</li>\n",
       "    <li>order: NaturalOrder</li>\n",
       "    </ul>\n",
       "  </li>\n",
       "  <li>EmployeeCity (Employees/EmployeeCity/EmployeeCity)\n",
       "    <ul>\n",
       "    <li>dimension: Employees</li>\n",
       "    <li>hierarchy: EmployeeCity</li>\n",
       "    <li>type: String</li>\n",
       "    <li>order: NaturalOrder</li>\n",
       "    </ul>\n",
       "  </li>\n",
       "  <li>EmployeeCountry (Employees/EmployeeCountry/EmployeeCountry)\n",
       "    <ul>\n",
       "    <li>dimension: Employees</li>\n",
       "    <li>hierarchy: EmployeeCountry</li>\n",
       "    <li>type: String</li>\n",
       "    <li>order: NaturalOrder</li>\n",
       "    </ul>\n",
       "  </li>\n",
       "  <li>EmployeeId (Orders/EmployeeId/EmployeeId)\n",
       "    <ul>\n",
       "    <li>dimension: Orders</li>\n",
       "    <li>hierarchy: EmployeeId</li>\n",
       "    <li>type: String</li>\n",
       "    <li>order: NaturalOrder</li>\n",
       "    </ul>\n",
       "  </li>\n",
       "  <li>EmployeeName (Employees/EmployeeName/EmployeeName)\n",
       "    <ul>\n",
       "    <li>dimension: Employees</li>\n",
       "    <li>hierarchy: EmployeeName</li>\n",
       "    <li>type: String</li>\n",
       "    <li>order: NaturalOrder</li>\n",
       "    </ul>\n",
       "  </li>\n",
       "  <li>EmployeeZone (Employees/EmployeeZone/EmployeeZone)\n",
       "    <ul>\n",
       "    <li>dimension: Employees</li>\n",
       "    <li>hierarchy: EmployeeZone</li>\n",
       "    <li>type: String</li>\n",
       "    <li>order: NaturalOrder</li>\n",
       "    </ul>\n",
       "  </li>\n",
       "  <li>OrderDate (Orders/OrderDate/OrderDate)\n",
       "    <ul>\n",
       "    <li>dimension: Orders</li>\n",
       "    <li>hierarchy: OrderDate</li>\n",
       "    <li>type: String</li>\n",
       "    <li>order: NaturalOrder</li>\n",
       "    </ul>\n",
       "  </li>\n",
       "  <li>OrderId (Orders/OrderId/OrderId)\n",
       "    <ul>\n",
       "    <li>dimension: Orders</li>\n",
       "    <li>hierarchy: OrderId</li>\n",
       "    <li>type: String</li>\n",
       "    <li>order: NaturalOrder</li>\n",
       "    </ul>\n",
       "  </li>\n",
       "  <li>Phone (Customers/Phone/Phone)\n",
       "    <ul>\n",
       "    <li>dimension: Customers</li>\n",
       "    <li>hierarchy: Phone</li>\n",
       "    <li>type: String</li>\n",
       "    <li>order: NaturalOrder</li>\n",
       "    </ul>\n",
       "  </li>\n",
       "  <li>PostCode (Customers/PostCode/PostCode)\n",
       "    <ul>\n",
       "    <li>dimension: Customers</li>\n",
       "    <li>hierarchy: PostCode</li>\n",
       "    <li>type: String</li>\n",
       "    <li>order: NaturalOrder</li>\n",
       "    </ul>\n",
       "  </li>\n",
       "  <li>PostalCode (Customers/PostalCode/PostalCode)\n",
       "    <ul>\n",
       "    <li>dimension: Customers</li>\n",
       "    <li>hierarchy: PostalCode</li>\n",
       "    <li>type: String</li>\n",
       "    <li>order: NaturalOrder</li>\n",
       "    </ul>\n",
       "  </li>\n",
       "  <li>ProductCategory (Products/ProductCategory/ProductCategory)\n",
       "    <ul>\n",
       "    <li>dimension: Products</li>\n",
       "    <li>hierarchy: ProductCategory</li>\n",
       "    <li>type: String</li>\n",
       "    <li>order: NaturalOrder</li>\n",
       "    </ul>\n",
       "  </li>\n",
       "  <li>ProductId (Orders/ProductId/ProductId)\n",
       "    <ul>\n",
       "    <li>dimension: Orders</li>\n",
       "    <li>hierarchy: ProductId</li>\n",
       "    <li>type: String</li>\n",
       "    <li>order: NaturalOrder</li>\n",
       "    </ul>\n",
       "  </li>\n",
       "  <li>ProductName (Products/ProductName/ProductName)\n",
       "    <ul>\n",
       "    <li>dimension: Products</li>\n",
       "    <li>hierarchy: ProductName</li>\n",
       "    <li>type: String</li>\n",
       "    <li>order: NaturalOrder</li>\n",
       "    </ul>\n",
       "  </li>\n",
       "  <li>Region (Customers/Region/Region)\n",
       "    <ul>\n",
       "    <li>dimension: Customers</li>\n",
       "    <li>hierarchy: Region</li>\n",
       "    <li>type: String</li>\n",
       "    <li>order: NaturalOrder</li>\n",
       "    </ul>\n",
       "  </li>\n",
       "  <li>ShipperName (Orders/ShipperName/ShipperName)\n",
       "    <ul>\n",
       "    <li>dimension: Orders</li>\n",
       "    <li>hierarchy: ShipperName</li>\n",
       "    <li>type: String</li>\n",
       "    <li>order: NaturalOrder</li>\n",
       "    </ul>\n",
       "  </li>\n",
       "  <li>Subregion (Customers/Subregion/Subregion)\n",
       "    <ul>\n",
       "    <li>dimension: Customers</li>\n",
       "    <li>hierarchy: Subregion</li>\n",
       "    <li>type: String</li>\n",
       "    <li>order: NaturalOrder</li>\n",
       "    </ul>\n",
       "  </li>\n",
       "  <li>Supplier (Products/Supplier/Supplier)\n",
       "    <ul>\n",
       "    <li>dimension: Products</li>\n",
       "    <li>hierarchy: Supplier</li>\n",
       "    <li>type: String</li>\n",
       "    <li>order: NaturalOrder</li>\n",
       "    </ul>\n",
       "  </li>\n",
       "  </ul>\n",
       "</li>\n",
       "</ul>\n"
      ],
      "text/plain": [
       "<atoti.levels.Levels at 0x1283e0970>"
      ]
     },
     "execution_count": 25,
     "metadata": {
      "application/json": {
       "expanded": true,
       "root": "Levels"
      }
     },
     "output_type": "execute_result"
    }
   ],
   "source": [
    "l"
   ]
  },
  {
   "cell_type": "code",
   "execution_count": 26,
   "id": "300a379b-9bfb-44a5-b126-4d60018ae5cc",
   "metadata": {},
   "outputs": [
    {
     "name": "stdout",
     "output_type": "stream",
     "text": [
      "Address\n"
     ]
    }
   ],
   "source": [
    "address_levels = h['Address'].levels\n",
    "\n",
    "for key in address_levels.keys():\n",
    "    print(key)"
   ]
  },
  {
   "cell_type": "code",
   "execution_count": 27,
   "id": "9673bf93-00e0-4e7a-bdf2-7a859d409657",
   "metadata": {
    "scrolled": true
   },
   "outputs": [
    {
     "data": {
      "application/json": {
       "dimension": "Customers",
       "hierarchy": "Address",
       "order": "NaturalOrder",
       "type": "String"
      },
      "text/html": [
       "<ul>\n",
       "<li>Address\n",
       "  <ul>\n",
       "  <li>dimension: Customers</li>\n",
       "  <li>hierarchy: Address</li>\n",
       "  <li>type: String</li>\n",
       "  <li>order: NaturalOrder</li>\n",
       "  </ul>\n",
       "</li>\n",
       "</ul>\n"
      ],
      "text/plain": [
       "<atoti.level.Level at 0x12844f220>"
      ]
     },
     "execution_count": 27,
     "metadata": {
      "application/json": {
       "expanded": true,
       "root": "Address"
      }
     },
     "output_type": "execute_result"
    }
   ],
   "source": [
    "address_levels['Address']"
   ]
  },
  {
   "cell_type": "markdown",
   "id": "2e71b1d4-fc9a-45ab-8c7b-0f9cfa32345f",
   "metadata": {},
   "source": [
    "#### `Hierarchy.isin()`"
   ]
  },
  {
   "cell_type": "markdown",
   "id": "c71f02bb-2a7a-4dfb-8c42-47e0b157b9c2",
   "metadata": {},
   "source": [
    "<div style=\"text-align: center;\" ><a href=\"https://www.atoti.io/?utm_source=gallery&utm_content=hierarchies\" target=\"_blank\" rel=\"noopener noreferrer\"><img src=\"https://data.atoti.io/notebooks/banners/Your-turn-to-try-Atoti.jpg\" alt=\"Try Atoti\"></a></div>"
   ]
  }
 ],
 "metadata": {
  "kernelspec": {
   "display_name": "Python 3 (ipykernel)",
   "language": "python",
   "name": "python3"
  },
  "language_info": {
   "codemirror_mode": {
    "name": "ipython",
    "version": 3
   },
   "file_extension": ".py",
   "mimetype": "text/x-python",
   "name": "python",
   "nbconvert_exporter": "python",
   "pygments_lexer": "ipython3",
   "version": "3.10.0"
  }
 },
 "nbformat": 4,
 "nbformat_minor": 5
}
