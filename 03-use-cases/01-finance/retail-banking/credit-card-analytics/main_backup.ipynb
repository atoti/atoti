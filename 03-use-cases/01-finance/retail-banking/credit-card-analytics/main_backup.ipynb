{
 "cells": [
  {
   "cell_type": "markdown",
   "id": "682572d2-3d31-4175-83f6-431ee940f658",
   "metadata": {},
   "source": [
    "# Credit Card Analytics 💳\n",
    "\n",
    "Last tested version: <img src=\"https://img.shields.io/badge/Atoti-v0.8.13-blue\">\n",
    "\n",
    "Welcome to our credit card analytics notebook! Here we'll be using Atoti to analyze `5` million records worth of credit card sales transactions, joined together with a rich data model of users, loans, and retailer attributes. Let's see what insights we can generate!\n",
    "\n",
    "**💡 Note:** Our credit card datasets come from [Kaggle](https://www.kaggle.com/datasets/ealtman2019/credit-card-transactions/data), feel free to check it out!"
   ]
  },
  {
   "cell_type": "markdown",
   "id": "27f3e3fc-ea63-43b7-a239-e01ede233411",
   "metadata": {},
   "source": [
    "<div style=\"text-align: center;\" ><a href=\"https://www.atoti.io/?utm_source=gallery&utm_content=credit-card-analytics\" target=\"_blank\" rel=\"noopener noreferrer\"><img src=\"https://data.atoti.io/notebooks/banners/Discover-Atoti-now.png\" alt=\"Try atoti\"></a></div>"
   ]
  },
  {
   "cell_type": "markdown",
   "id": "18921614-8a78-4eb2-9ead-efb3007fa985",
   "metadata": {},
   "source": [
    "## 1. Import Libraries\n",
    "\n",
    "First things first, let's import our libraries."
   ]
  },
  {
   "cell_type": "code",
   "execution_count": 1,
   "id": "47f7a76a-a759-4da7-bce1-852530d0376f",
   "metadata": {},
   "outputs": [],
   "source": [
    "import atoti as tt\n",
    "import pandas as pd\n",
    "import time\n",
    "from pprint import pprint"
   ]
  },
  {
   "cell_type": "markdown",
   "id": "5fe189c6-94ca-48e9-97a5-e4f90aa569aa",
   "metadata": {},
   "source": [
    "## 2. Instantiate Atoti Server and Link UI\n",
    "\n",
    "Next, we'll spin up the Atoti server and link the session to our web-based Atoti UI.\n",
    "\n",
    "💡 **Note**: https://docs.atoti.io/latest/api/atoti.Session.html#atoti.Session"
   ]
  },
  {
   "cell_type": "code",
   "execution_count": 2,
   "id": "c4a4e3c9-ab8f-46f0-beea-a5d3b430556d",
   "metadata": {},
   "outputs": [
    {
     "data": {
      "application/vnd.atoti.link.v0+json": {
       "path": "",
       "sessionLocation": {
        "https": false,
        "port": 9093
       }
      },
      "text/markdown": [
       "http://localhost:9093\n",
       "\n",
       "_Note_: This is the session's local URL: it may not be reachable if Atoti is running on another machine."
      ],
      "text/plain": [
       "http://localhost:9093 (This is the session's local URL: it may not be reachable if Atoti is running on another machine.)"
      ]
     },
     "execution_count": 2,
     "metadata": {},
     "output_type": "execute_result"
    }
   ],
   "source": [
    "# Create a Session object with corresponding parameters set\n",
    "session = tt.Session(\n",
    "    user_content_storage=\"./content_backup\",\n",
    "    port=9093,\n",
    "    java_options=[\"-Xms1G\", \"-Xmx10G\"],\n",
    ")\n",
    "session.link"
   ]
  },
  {
   "cell_type": "markdown",
   "id": "e6606f32-0dd5-4f6f-9e21-84369552e149",
   "metadata": {},
   "source": [
    "## 3. Load CSVs from S3 Into Atoti Tables \n",
    "\n",
    "From here on, we'll be loading the following CSVs from S3 into Atoti Tables:\n",
    "\n",
    "* [Credit Card Transaction Data](#Credit-Card-Transaction-Data)\n",
    "* [Credit Card Info Data](#Credit-Card-Info-Data)\n",
    "* [User Data](#User-Data)\n",
    "* [Retailer Data](#Retailer-Data)\n",
    "* [Loan Data](#Loans-Data)\n",
    "\n",
    "💡 **Note:** We should be mindful of the (numerical) columns that we intend to use as hierarchies instead of measures (e.g. a User ID does not need to be aggregated!). For this reason, we can explicitly set specific Atoti Table columns as desired data types when loading data into Atoti Tables. See https://docs.atoti.io/latest/api/atoti.Session.read_csv.html#atoti.Session.read_csv for more info."
   ]
  },
  {
   "cell_type": "markdown",
   "id": "47eee20e-6647-45d0-bacc-a278a65b11f4",
   "metadata": {},
   "source": [
    "### Credit Card Transaction Data\n",
    "\n",
    "Here we use the `read_csv` function to simultaneously load our credit card transaction data and create a corresponding Atoti Table. We explicitly define column data types with the `types` parameter and set the `date_patterns` parameter to account for our `Datetime` column. All other columns and their data types for the loaded dataset are automatically inferred via the `read_csv` function."
   ]
  },
  {
   "cell_type": "code",
   "execution_count": 3,
   "id": "17207c43-53f5-4801-ad98-bb0b19439cbe",
   "metadata": {},
   "outputs": [
    {
     "data": {
      "text/html": [
       "<div>\n",
       "<style scoped>\n",
       "    .dataframe tbody tr th:only-of-type {\n",
       "        vertical-align: middle;\n",
       "    }\n",
       "\n",
       "    .dataframe tbody tr th {\n",
       "        vertical-align: top;\n",
       "    }\n",
       "\n",
       "    .dataframe thead th {\n",
       "        text-align: right;\n",
       "    }\n",
       "</style>\n",
       "<table border=\"1\" class=\"dataframe\">\n",
       "  <thead>\n",
       "    <tr style=\"text-align: right;\">\n",
       "      <th></th>\n",
       "      <th>User</th>\n",
       "      <th>Card</th>\n",
       "      <th>Datetime</th>\n",
       "      <th>Amount</th>\n",
       "      <th>Use Chip</th>\n",
       "      <th>Merchant Name</th>\n",
       "      <th>Merchant City</th>\n",
       "      <th>Merchant State</th>\n",
       "      <th>Zip</th>\n",
       "      <th>MCC</th>\n",
       "      <th>Errors?</th>\n",
       "      <th>Is Fraud?</th>\n",
       "    </tr>\n",
       "  </thead>\n",
       "  <tbody>\n",
       "    <tr>\n",
       "      <th>0</th>\n",
       "      <td>1158</td>\n",
       "      <td>1</td>\n",
       "      <td>2013-05-29 21:08:00</td>\n",
       "      <td>-12.6</td>\n",
       "      <td>Swipe Transaction</td>\n",
       "      <td>Merchant 57154</td>\n",
       "      <td>Aurora</td>\n",
       "      <td>CO</td>\n",
       "      <td>80013.0</td>\n",
       "      <td>5812</td>\n",
       "      <td>N/A</td>\n",
       "      <td>No</td>\n",
       "    </tr>\n",
       "    <tr>\n",
       "      <th>1</th>\n",
       "      <td>1458</td>\n",
       "      <td>0</td>\n",
       "      <td>2007-05-03 18:46:00</td>\n",
       "      <td>-15.412</td>\n",
       "      <td>Swipe Transaction</td>\n",
       "      <td>Merchant 57154</td>\n",
       "      <td>Ambler</td>\n",
       "      <td>PA</td>\n",
       "      <td>19002.0</td>\n",
       "      <td>5812</td>\n",
       "      <td>N/A</td>\n",
       "      <td>No</td>\n",
       "    </tr>\n",
       "    <tr>\n",
       "      <th>2</th>\n",
       "      <td>792</td>\n",
       "      <td>1</td>\n",
       "      <td>2015-11-28 16:08:00</td>\n",
       "      <td>1.672</td>\n",
       "      <td>Chip Transaction</td>\n",
       "      <td>Merchant 47076</td>\n",
       "      <td>Yonkers</td>\n",
       "      <td>NY</td>\n",
       "      <td>10703.0</td>\n",
       "      <td>5921</td>\n",
       "      <td>N/A</td>\n",
       "      <td>No</td>\n",
       "    </tr>\n",
       "    <tr>\n",
       "      <th>3</th>\n",
       "      <td>1765</td>\n",
       "      <td>0</td>\n",
       "      <td>2014-07-12 02:03:00</td>\n",
       "      <td>-1.82</td>\n",
       "      <td>Swipe Transaction</td>\n",
       "      <td>Merchant 13083</td>\n",
       "      <td>Chilton</td>\n",
       "      <td>WI</td>\n",
       "      <td>53014.0</td>\n",
       "      <td>5921</td>\n",
       "      <td>N/A</td>\n",
       "      <td>No</td>\n",
       "    </tr>\n",
       "    <tr>\n",
       "      <th>4</th>\n",
       "      <td>1158</td>\n",
       "      <td>1</td>\n",
       "      <td>2013-07-02 20:55:00</td>\n",
       "      <td>-15.944</td>\n",
       "      <td>Swipe Transaction</td>\n",
       "      <td>Merchant 57154</td>\n",
       "      <td>Aurora</td>\n",
       "      <td>CO</td>\n",
       "      <td>80013.0</td>\n",
       "      <td>5812</td>\n",
       "      <td>N/A</td>\n",
       "      <td>No</td>\n",
       "    </tr>\n",
       "  </tbody>\n",
       "</table>\n",
       "</div>"
      ],
      "text/plain": [
       "   User Card            Datetime  Amount           Use Chip   Merchant Name  \\\n",
       "0  1158    1 2013-05-29 21:08:00   -12.6  Swipe Transaction  Merchant 57154   \n",
       "1  1458    0 2007-05-03 18:46:00 -15.412  Swipe Transaction  Merchant 57154   \n",
       "2   792    1 2015-11-28 16:08:00   1.672   Chip Transaction  Merchant 47076   \n",
       "3  1765    0 2014-07-12 02:03:00   -1.82  Swipe Transaction  Merchant 13083   \n",
       "4  1158    1 2013-07-02 20:55:00 -15.944  Swipe Transaction  Merchant 57154   \n",
       "\n",
       "  Merchant City Merchant State      Zip   MCC Errors? Is Fraud?  \n",
       "0        Aurora             CO  80013.0  5812     N/A        No  \n",
       "1        Ambler             PA  19002.0  5812     N/A        No  \n",
       "2       Yonkers             NY  10703.0  5921     N/A        No  \n",
       "3       Chilton             WI  53014.0  5921     N/A        No  \n",
       "4        Aurora             CO  80013.0  5812     N/A        No  "
      ]
     },
     "execution_count": 3,
     "metadata": {},
     "output_type": "execute_result"
    }
   ],
   "source": [
    "# Use the `read_csv` function to read CSV from S3 into an Atoti Table\n",
    "cc_sales_table = session.read_csv(\n",
    "    \"s3://data.atoti.io/notebooks/retail-banking/data/credit_card_transactions_processed_5MM.csv.gz\",\n",
    "    table_name=\"Sales Transactions\",\n",
    "    types={\n",
    "        \"Datetime\": tt.type.LOCAL_DATE_TIME,\n",
    "        \"User\": tt.type.STRING,\n",
    "        \"Card\": tt.type.STRING,\n",
    "        \"Merchant Name\": tt.type.STRING,\n",
    "        \"Zip\": tt.type.STRING,\n",
    "        \"MCC\": tt.type.STRING,\n",
    "    },\n",
    "    date_patterns={\"Datetime\": \"yyyy-MM-dd HH:mm:ss\"},\n",
    ")\n",
    "cc_sales_table.head()"
   ]
  },
  {
   "cell_type": "markdown",
   "id": "14796867-08d1-4f15-85c8-6a75c6e24104",
   "metadata": {},
   "source": [
    "### Credit Card Info Data"
   ]
  },
  {
   "cell_type": "markdown",
   "id": "5aa36c25-7221-4b99-9c71-8c42b07aadba",
   "metadata": {},
   "source": [
    "Here we use the `read_csv` function to simultaneously load our credit card info data and create a corresponding Atoti Table. We explicitly define column data types with the `types` parameter, while all other columns and their data types for the loaded dataset are automatically inferred via the `read_csv` function."
   ]
  },
  {
   "cell_type": "code",
   "execution_count": null,
   "id": "6fd80196-a709-4dc8-9d85-8e19f93b95fd",
   "metadata": {
    "scrolled": true
   },
   "outputs": [],
   "source": [
    "# Use the `read_csv` function to read CSV from S3 into an Atoti Table\n",
    "user_cc_table = session.read_csv(\n",
    "    \"s3://data.atoti.io/notebooks/retail-banking/data/cards_processed.csv\",\n",
    "    table_name=\"User Credit Cards\",\n",
    "    types={\n",
    "        \"User\": tt.type.STRING,\n",
    "        \"Card\": tt.type.STRING,\n",
    "        \"Retailer ID\": tt.type.STRING,\n",
    "        \"Card Number\": tt.type.STRING,\n",
    "        \"CVV\": tt.type.STRING,\n",
    "    },\n",
    ")\n",
    "user_cc_table.head()"
   ]
  },
  {
   "cell_type": "markdown",
   "id": "d879622d-ea4e-456f-b424-1b0cfcee533c",
   "metadata": {},
   "source": [
    "### User Data\n",
    "\n",
    "Here we use the `read_csv` function to simultaneously load our user data and create a corresponding Atoti Table. We explicitly define column data types with the `types` parameter, while all other columns and their data types for the loaded dataset are automatically inferred via the `read_csv` function."
   ]
  },
  {
   "cell_type": "code",
   "execution_count": null,
   "id": "c30b4eca-6c77-4bbd-be2c-11418104c7dc",
   "metadata": {},
   "outputs": [],
   "source": [
    "# Use the `read_csv` function to read CSV from S3 into an Atoti Table\n",
    "users_table = session.read_csv(\n",
    "    \"s3://data.atoti.io/notebooks/retail-banking/data/users_processed.csv\",\n",
    "    table_name=\"Users\",\n",
    "    types={\n",
    "        \"User\": tt.type.STRING,\n",
    "        \"Birth Month\": tt.type.STRING,\n",
    "        \"Zipcode\": tt.type.STRING,\n",
    "        \"FICO Score\": tt.type.STRING,\n",
    "        \"Current Age\": tt.type.STRING,\n",
    "        \"Age Range\": tt.type.STRING,\n",
    "        \"Retirement Age\": tt.type.STRING,\n",
    "    },\n",
    ")\n",
    "users_table.head()"
   ]
  },
  {
   "cell_type": "markdown",
   "id": "bb257f1d-f820-45df-b6b4-3969f99fa279",
   "metadata": {},
   "source": [
    "### Retailer Data\n",
    "\n",
    "Here we use the `read_csv` function to simultaneously load our retailer data and create a corresponding Atoti Table. We explicitly define column data types with the `types` parameter, while all other columns and their data types for the loaded dataset are automatically inferred via the `read_csv` function."
   ]
  },
  {
   "cell_type": "code",
   "execution_count": null,
   "id": "80a027cb-4e25-4713-9ef0-47f257848bcf",
   "metadata": {},
   "outputs": [],
   "source": [
    "# Use the `read_csv` function to read CSV from S3 into an Atoti Table\n",
    "cc_info_table = session.read_csv(\n",
    "    \"s3://data.atoti.io/notebooks/retail-banking/data/retailers.csv\",\n",
    "    table_name=\"Credit Card Info\",\n",
    "    types={\n",
    "        \"Retailer ID\": tt.type.STRING,\n",
    "    },\n",
    ")\n",
    "cc_info_table.head()"
   ]
  },
  {
   "cell_type": "markdown",
   "id": "dfde797a-328d-426c-98fd-14ce4e784800",
   "metadata": {},
   "source": [
    "### FICO Data\n",
    "\n",
    "Here we use the `read_csv` function to simulatenously load our FICO data and create a corresponding Atoti Table. We explicitly define column data types with the `types` parameter, while all other columns and their data types for the loaded dataset are automatically inferred via the `read_csv` function."
   ]
  },
  {
   "cell_type": "code",
   "execution_count": null,
   "id": "cee7e086-bf07-47d4-9cc7-5d149c39d33b",
   "metadata": {},
   "outputs": [],
   "source": [
    "# Use the `read_csv` function to read CSV from S3 into an Atoti Table\n",
    "fico_table = session.read_csv(\n",
    "    \"s3://data.atoti.io/notebooks/retail-banking/data/fico.csv\",\n",
    "    table_name=\"FICO\",\n",
    "    types={\"FICO Score\": tt.type.STRING},\n",
    ")\n",
    "fico_table.head()"
   ]
  },
  {
   "cell_type": "markdown",
   "id": "19d7940d-8610-4c9c-ac3a-62748b4373ed",
   "metadata": {},
   "source": [
    "### Loans Data\n",
    "\n",
    "Here we use the `read_csv` function to simultaneously load our loans data and create a corresponding Atoti Table. We explicitly define column data types with the `types` parameter, while all other columns and their data types for the loaded dataset are automatically inferred via the `read_csv` function."
   ]
  },
  {
   "cell_type": "code",
   "execution_count": null,
   "id": "40de9dd4-496b-4bc6-9fea-5331fc1f730c",
   "metadata": {},
   "outputs": [],
   "source": [
    "# Use the `read_csv` function to read CSV from S3 into an Atoti Table\n",
    "user_loans_table = session.read_csv(\n",
    "    \"s3://data.atoti.io/notebooks/retail-banking/data/loans.csv\",\n",
    "    types={\n",
    "        \"User\": tt.type.STRING,\n",
    "        \"Inq Last 6mos\": tt.type.STRING,\n",
    "        \"Delinq 2yrs\": tt.type.STRING,\n",
    "        \"Public Record\": tt.type.STRING,\n",
    "        \"Not Fully Paid\": tt.type.STRING,\n",
    "    },\n",
    "    table_name=\"loans\",\n",
    ")\n",
    "user_loans_table.head()"
   ]
  },
  {
   "cell_type": "markdown",
   "id": "3950e2f1-efe9-4108-a32b-1a40241269e4",
   "metadata": {},
   "source": [
    "## 4. Join Tables and Create Cube\n",
    "\n",
    "Now, that our data is loaded into our Atoti Tables and in the format that we want, we should join our tables together on common keys to extend attributes from other entity relationships, and create our Atoti cube."
   ]
  },
  {
   "cell_type": "code",
   "execution_count": null,
   "id": "08874a77-1c4e-4b25-aaf5-e123c71ac624",
   "metadata": {},
   "outputs": [],
   "source": [
    "# Join tables\n",
    "cc_sales_table.join(\n",
    "    user_cc_table,\n",
    "    (cc_sales_table[\"User\"] == user_cc_table[\"User\"])\n",
    "    & (cc_sales_table[\"Card\"] == user_cc_table[\"Card\"]),\n",
    ")\n",
    "cc_sales_table.join(users_table, cc_sales_table[\"User\"] == users_table[\"User\"])\n",
    "users_table.join(fico_table, users_table[\"FICO Score\"] == fico_table[\"FICO Score\"])\n",
    "user_cc_table.join(\n",
    "    cc_info_table, user_cc_table[\"Retailer ID\"] == cc_info_table[\"Retailer ID\"]\n",
    ")\n",
    "users_table.join(user_loans_table, users_table[\"User\"] == user_loans_table[\"User\"])"
   ]
  },
  {
   "cell_type": "code",
   "execution_count": null,
   "id": "231a3282-cddb-48dd-a4bf-739858481d26",
   "metadata": {},
   "outputs": [],
   "source": [
    "# Create Cube from Atoti Table object\n",
    "cube = session.create_cube(cc_sales_table)"
   ]
  },
  {
   "cell_type": "markdown",
   "id": "eee5b961-7176-49b0-b9e3-bef0034854f4",
   "metadata": {},
   "source": [
    "## 5. Analyze the Atoti Cube\n",
    "\n",
    "Now that the data has been loaded into the cube, we'll want to examine the data model of the cube to confirm that the columns and data types match up to what we expect. In addition, we can view the hierarchies, levels, and measures for our cube by assigning them to variables.\n",
    "\n",
    "💡 **Note:** https://docs.atoti.io/latest/getting_started/tutorial/tutorial.html#Multidimensional-concepts"
   ]
  },
  {
   "cell_type": "code",
   "execution_count": null,
   "id": "c441e08c-aade-427b-97e9-38cd2e68ff47",
   "metadata": {},
   "outputs": [],
   "source": [
    "# View the schema of the data model\n",
    "session.tables.schema"
   ]
  },
  {
   "cell_type": "code",
   "execution_count": null,
   "id": "a41455c5-c724-43af-b1ba-752e21cd1978",
   "metadata": {},
   "outputs": [],
   "source": [
    "# Set variables for hierarchies, levels, and measures\n",
    "h, l, m = cube.hierarchies, cube.levels, cube.measures"
   ]
  },
  {
   "cell_type": "markdown",
   "id": "cac401b7-6e2a-4ed7-8ba0-5e8b598f775a",
   "metadata": {},
   "source": [
    "## 6. Enrich the Atoti Cube\n",
    "\n",
    "Based on our analysis, there are a few aspects that we can do to enrich our cube, namely creating multi-level hierarchies, adjusting the ordering for particlar levels, and creating new measures.\n",
    "\n",
    "* [Create Multi-Level Hierarchies](#Create-Multi-Level-Hierarchies)\n",
    "* [Adjust Level Ordering](#Adjust-Level-Ordering)\n",
    "* [Create New Measures](#Create-New-Measures)\n",
    "* [Validate Measures](#Validate-Measures)\n",
    "* [Create Credit Risk Measures](#Create-Credit-Risk-Measures)"
   ]
  },
  {
   "cell_type": "markdown",
   "id": "c91916b2-2437-4ed5-8e17-0eb1b1192ea4",
   "metadata": {},
   "source": [
    "### Create Multi-Level Hierarchies\n",
    "\n",
    "Here we'll create a multi-level date hierarchy that allows us to break down our `Datetime` column into multiple levels. This allows us to drill-down from the top-level (in this case `Year`) to each underlying level, and see the breakdown of how each underlying level contributes to the overall measure aggregation. In addition, this also gives us more granularity in how we aggregate our measures, as we can specify the `OriginScope` which defines the level at which we perform our aggregations when creating new measures.\n",
    "\n",
    "💡 **Note:** \n",
    "\n",
    "* https://docs.atoti.io/latest/api/atoti.Cube.create_date_hierarchy.html#atoti.Cube.create_date_hierarchy\n",
    "* https://docs.atoti.io/latest/api/atoti.OriginScope.html#atoti.OriginScope"
   ]
  },
  {
   "cell_type": "code",
   "execution_count": null,
   "id": "530e5983-b101-496a-8c4a-70dacda4fa2e",
   "metadata": {},
   "outputs": [],
   "source": [
    "# Create a multi-level date hierarchy\n",
    "cube.create_date_hierarchy(\n",
    "    \"Transaction Date\",\n",
    "    column=cc_sales_table[\"Datetime\"],\n",
    "    levels={\n",
    "        \"Year\": \"yyyy\",\n",
    "        \"Quarter\": \"QQQ\",\n",
    "        \"Month\": \"MMM\",\n",
    "        \"Day\": \"dd\",\n",
    "        \"Hour\": \"HH\",\n",
    "    },\n",
    ")\n",
    "\n",
    "# Create multi-level hierarchy and clean up corresponding single-level hierarchies\n",
    "h[\"Retailer Levels\"] = [\n",
    "    l[\"Level 1\"],\n",
    "    l[\"Level 2\"],\n",
    "    l[\"Level 3\"],\n",
    "    l[\"Level 4\"],\n",
    "    l[\"Level 5\"],\n",
    "]\n",
    "del h[\"Level 1\"]\n",
    "del h[\"Level 2\"]\n",
    "del h[\"Level 3\"]\n",
    "del h[\"Level 4\"]\n",
    "del h[\"Level 5\"]"
   ]
  },
  {
   "cell_type": "markdown",
   "id": "244dfd5f-5d96-4861-893d-7db28e6ba480",
   "metadata": {},
   "source": [
    "### Adjust Level Ordering\n",
    "\n",
    "In addition, we can use `CustomOrder` to customize the order of values for a specified level.\n",
    "\n",
    "💡 **Note:** https://docs.atoti.io/latest/api/atoti.CustomOrder.html#atoti.CustomOrder"
   ]
  },
  {
   "cell_type": "code",
   "execution_count": null,
   "id": "527fe939-efc4-4879-95d9-494d99307f8e",
   "metadata": {},
   "outputs": [],
   "source": [
    "# Set Income Range level ordering as a user-defined CustomOrder\n",
    "l[\"Income Range\"].order = tt.CustomOrder(\n",
    "    first_elements=[\n",
    "        \"0K - 20K\",\n",
    "        \"20K - 50K\",\n",
    "        \"50K - 80K\",\n",
    "        \"80K - 100K\",\n",
    "        \"100K - 150K\",\n",
    "        \"150K - 200K\",\n",
    "        \"200K+\",\n",
    "    ]\n",
    ")\n",
    "\n",
    "# Set FICO level ordering as a user-defined CustomOrder\n",
    "l[\"FICO Level\"].order = tt.CustomOrder(\n",
    "    first_elements=[\"Poor\", \"Fair\", \"Good\", \"Very Good\", \"Exceptional\"]\n",
    ")"
   ]
  },
  {
   "cell_type": "markdown",
   "id": "f212d35a-09f3-4c75-a5ec-f2f18b69516b",
   "metadata": {},
   "source": [
    "### Create New Measures\n",
    "\n",
    "Now, let's create some new measures! For this part, we'll be creating measures relating to user credit (credit cards) and debt (loans). Overall, we'll be showcasing a number of different aggregate functions, so feel free to check out the associated documentation as needed.\n",
    "\n",
    "💡 **Note:** \n",
    "\n",
    "* https://docs.atoti.io/latest/api/atoti.agg.count_distinct.html#atoti.agg.count_distinct\n",
    "* https://docs.atoti.io/latest/api/atoti.agg.single_value.html#atoti.agg.single_value\n",
    "* https://docs.atoti.io/latest/api/atoti.agg.sum.html#atoti.agg.sum\n",
    "* https://docs.atoti.io/latest/api/atoti.OriginScope.html#atoti.OriginScope\n",
    "\n"
   ]
  },
  {
   "cell_type": "code",
   "execution_count": null,
   "id": "29bc30df-9179-4552-bb3c-392bdfa7f963",
   "metadata": {},
   "outputs": [],
   "source": [
    "# Create count distinct measure\n",
    "m[\"Num Credit Cards\"] = tt.agg.count_distinct(user_cc_table[\"Card Number\"])\n",
    "\n",
    "# Create single value measures\n",
    "m[\"Income Annual\"] = tt.agg.single_value(users_table[\"Yearly Income - Person\"])\n",
    "m[\"Interest Rate\"] = tt.agg.single_value(user_loans_table[\"Interest Rate\"])\n",
    "m[\"Days with Credit Line\"] = tt.agg.single_value(\n",
    "    user_loans_table[\"Days with Credit Line\"]\n",
    ")\n",
    "m[\"Total Debt.SV\"] = tt.agg.single_value(users_table[\"Total Debt\"])\n",
    "m[\"Credit_Limit.SV\"] = tt.agg.single_value(user_cc_table[\"Credit Limit\"])\n",
    "m[\"Revolving Balance.SV\"] = tt.agg.single_value(user_loans_table[\"Revolving Bal\"])\n",
    "m[\"Revolving Utilization.SV\"] = tt.agg.single_value(user_loans_table[\"Revol_Util\"])\n",
    "\n",
    "# Create measures and define aggregation scope (as needed)\n",
    "m[\"Amount\"] = tt.agg.sum(cc_sales_table[\"Amount\"])\n",
    "m[\"Total Debt\"] = tt.agg.sum(\n",
    "    m[\"Total Debt.SV\"],\n",
    "    scope=tt.OriginScope(levels={l[(\"Sales Transactions\", \"User\", \"User\")]}),\n",
    ")\n",
    "m[\"Credit Limit\"] = tt.agg.sum(\n",
    "    m[\"Credit_Limit.SV\"], scope=tt.OriginScope(levels={l[\"Card Number\"]})\n",
    ")\n",
    "m[\"Revolving Balance\"] = tt.agg.sum(\n",
    "    m[\"Revolving Balance.SV\"],\n",
    "    scope=tt.OriginScope(levels={l[\"User\"]}),\n",
    ")\n",
    "m[\"Revolving Utilization\"] = tt.agg.sum(\n",
    "    m[\"Revolving Utilization.SV\"],\n",
    "    scope=tt.OriginScope(levels={l[(\"Sales Transactions\", \"User\", \"User\")]}),\n",
    ")\n",
    "\n",
    "# Create measures from other calculated measures\n",
    "m[\"Utilization\"] = m[\"Amount\"] / m[\"Credit Limit\"]\n",
    "m[\"Utilization\"].formatter = \"DOUBLE[0.00%]\""
   ]
  },
  {
   "cell_type": "markdown",
   "id": "c38ef2d3-9110-440a-81e0-c53554416fe0",
   "metadata": {},
   "source": [
    "### Validate Measures\n",
    "\n",
    "We can then take a look at our newly created measures to validate that they are indeed working properly. Take a look at the underlying values to validate the measure calculations/aggregations."
   ]
  },
  {
   "cell_type": "code",
   "execution_count": null,
   "id": "ecdbfa31-1bd2-4d6d-8d14-fde395e04391",
   "metadata": {
    "atoti": {
     "widget": {
      "mapping": {
       "columns": [
        "ALL_MEASURES"
       ],
       "measures": [
        "[Measures].[Num Credit Cards]",
        "[Measures].[Income Annual]",
        "[Measures].[Interest Rate]",
        "[Measures].[Days with Credit Line]",
        "[Measures].[Total Debt.SV]",
        "[Measures].[Credit_Limit.SV]",
        "[Measures].[Revolving Balance.SV]",
        "[Measures].[Revolving Utilization.SV]",
        "[Measures].[Amount]",
        "[Measures].[Total Debt]",
        "[Measures].[Credit Limit]",
        "[Measures].[Revolving Balance]",
        "[Measures].[Revolving Utilization]",
        "[Measures].[Utilization]"
       ],
       "rows": [
        "[Sales Transactions].[User].[User]"
       ]
      },
      "query": {
       "mdx": "SELECT NON EMPTY {[Measures].[Num Credit Cards], [Measures].[Income Annual], [Measures].[Interest Rate], [Measures].[Days with Credit Line], [Measures].[Total Debt.SV], [Measures].[Credit_Limit.SV], [Measures].[Revolving Balance.SV], [Measures].[Revolving Utilization.SV], [Measures].[Amount], [Measures].[Total Debt], [Measures].[Credit Limit], [Measures].[Revolving Balance], [Measures].[Revolving Utilization], [Measures].[Utilization]} ON COLUMNS, NON EMPTY Hierarchize(Descendants({[Sales Transactions].[User].[ALL].[AllMember]}, 1, SELF_AND_BEFORE)) ON ROWS FROM [Sales Transactions] CELL PROPERTIES VALUE, FORMATTED_VALUE, BACK_COLOR, FORE_COLOR, FONT_FLAGS",
       "updateMode": "once"
      },
      "serverKey": "default",
      "widgetKey": "pivot-table"
     }
    }
   },
   "outputs": [],
   "source": [
    "session.widget"
   ]
  },
  {
   "cell_type": "markdown",
   "id": "89c4e04a-2a03-4a16-aff2-6c9ea22992de",
   "metadata": {},
   "source": [
    "### Create Credit Risk Measures"
   ]
  },
  {
   "cell_type": "markdown",
   "id": "76723f1b-2202-425d-8711-cc9c3f86944e",
   "metadata": {},
   "source": [
    "\n",
    "Lastly, we'll create new credit risk measures and calculate the expected credit loss for each user.\n",
    "\n",
    "$$ ECL = EAD * PD * LGD $$\n",
    "\n",
    "Where...\n",
    "* ECL = Expected credit losses\n",
    "* EAD = Exposure at default\n",
    "* PD = Probability of default\n",
    "* LGD = Loss given default\n",
    "\n",
    "💡 **Note:** \n",
    "\n",
    "* https://docs.atoti.io/latest/api/atoti.agg.mean.html#atoti.agg.mean\n",
    "* https://docs.atoti.io/latest/api/atoti.agg.sum_product.html#atoti.agg.sum_product"
   ]
  },
  {
   "cell_type": "code",
   "execution_count": null,
   "id": "2aa0cfd5-c98a-4604-a0f3-db27051cda3c",
   "metadata": {},
   "outputs": [],
   "source": [
    "# Create new credit risk measures\n",
    "m[\"PD12\"] = tt.agg.mean(\n",
    "    tt.agg.single_value(users_table[\"PD12\"]),\n",
    "    scope=tt.OriginScope(levels={l[(\"Sales Transactions\", \"User\", \"User\")]}),\n",
    ")\n",
    "m[\"PDLT\"] = tt.agg.mean(\n",
    "    tt.agg.single_value(users_table[\"PDLT\"]),\n",
    "    scope=tt.OriginScope(levels={l[(\"Sales Transactions\", \"User\", \"User\")]}),\n",
    ")\n",
    "m[\"LGD\"] = tt.agg.mean(\n",
    "    tt.agg.single_value(users_table[\"LGD\"]),\n",
    "    scope=tt.OriginScope(levels={l[(\"Sales Transactions\", \"User\", \"User\")]}),\n",
    ")\n",
    "m[\"EAD\"] = m[\"Amount\"]\n",
    "m[\"ECL\"] = tt.agg.sum_product(\n",
    "    m[\"Amount\"],\n",
    "    m[\"LGD\"],\n",
    "    m[\"PD12\"],\n",
    "    scope=tt.OriginScope(levels={l[(\"Sales Transactions\", \"User\", \"User\")]}),\n",
    ")\n",
    "\n",
    "# Format our measures as percentages\n",
    "m[\"PD12\"].formatter = \"DOUBLE[0.00%]\"\n",
    "m[\"PDLT\"].formatter = \"DOUBLE[0.00%]\"\n",
    "m[\"LGD\"].formatter = \"DOUBLE[0.00%]\"\n",
    "\n",
    "# Categorize our measures\n",
    "m[\"PD12\"].folder = \"Credit Risk\"\n",
    "m[\"PDLT\"].folder = \"Credit Risk\"\n",
    "m[\"LGD\"].folder = \"Credit Risk\"\n",
    "m[\"EAD\"].folder = \"Credit Risk\"\n",
    "m[\"ECL\"].folder = \"Credit Risk\""
   ]
  },
  {
   "cell_type": "markdown",
   "id": "3dcd3140-858f-4443-86a7-d3d0b5f38e8f",
   "metadata": {},
   "source": [
    "## 7. View Dashboards\n",
    "\n",
    "With our cube fully set up and ready-to-go, let's now create our visualizations via slicing-and-dicing. We'll create dashboards for the following categories:\n",
    "\n",
    "* [Overview](#Overview-Dashboard)\n",
    "* [Customers](#Customers-Dashboard)\n",
    "* [Retailers](#Retailers-Dashboard)\n",
    "* [Transactions](#Transactions-Dashboard)"
   ]
  },
  {
   "cell_type": "markdown",
   "id": "815122e1-36f0-4326-a401-bdb74078f20f",
   "metadata": {},
   "source": [
    "### Overview Dashboard\n",
    "\n",
    "View overall credit risk, distribution of loan types, credit card exposure, etc."
   ]
  },
  {
   "cell_type": "code",
   "execution_count": null,
   "id": "377febc0-c0fd-456d-9c51-8c0a70f5abb9",
   "metadata": {},
   "outputs": [],
   "source": [
    "# Use `session.link` to link to Overview Dashboard\n",
    "session.link / \"#/dashboard/935\""
   ]
  },
  {
   "cell_type": "markdown",
   "id": "c6d5d12d-c3eb-4303-ba07-0fd94afb8dc3",
   "metadata": {},
   "source": [
    "### Customers Dashboard\n",
    "\n",
    "View customer credit risk, loan types, credit card exposure, etc. "
   ]
  },
  {
   "cell_type": "code",
   "execution_count": null,
   "id": "4f5cea12-f13c-40bb-8b56-056642611e32",
   "metadata": {},
   "outputs": [],
   "source": [
    "# Use `session.link` to link to Customers Dashboard\n",
    "session.link / \"#/dashboard/38c\""
   ]
  },
  {
   "cell_type": "markdown",
   "id": "fc1cca35-4514-4762-987a-50c28c1c9972",
   "metadata": {},
   "source": [
    "### Retailers Dashboard\n",
    "\n",
    "View retailer exposure by industry."
   ]
  },
  {
   "cell_type": "code",
   "execution_count": null,
   "id": "ef8ee27b-1ed8-4ab1-8341-fb5f81e19675",
   "metadata": {},
   "outputs": [],
   "source": [
    "# Use `session.link` to link to Retailers Dashboard\n",
    "session.link / \"#/dashboard/3c2\""
   ]
  },
  {
   "cell_type": "markdown",
   "id": "215f5bcf-7d2b-452d-917c-2495414632a4",
   "metadata": {},
   "source": [
    "### Transactions Dashboard\n",
    "\n",
    "View transactions by customer name, retailers, transaction year, or transaction city."
   ]
  },
  {
   "cell_type": "code",
   "execution_count": null,
   "id": "f1ba5373-16a3-4ebe-a0ab-a19e22631277",
   "metadata": {},
   "outputs": [],
   "source": [
    "# Use `session.link` to link to Transactions Dashboard\n",
    "session.link / \"#/dashboard/85d\""
   ]
  },
  {
   "cell_type": "markdown",
   "id": "6de9d100-dfc2-4f6d-b3a0-48bf250eaffd",
   "metadata": {},
   "source": [
    "<div style=\"text-align: center;\" ><a href=\"https://www.atoti.io/?utm_source=gallery&utm_content=credit-card-analytics\" target=\"_blank\" rel=\"noopener noreferrer\"><img src=\"https://data.atoti.io/notebooks/banners/Your-turn-to-try-Atoti.jpg\" alt=\"Try atoti\"></a></div>"
   ]
  }
 ],
 "metadata": {
  "kernelspec": {
   "display_name": "Python 3 (ipykernel)",
   "language": "python",
   "name": "python3"
  },
  "language_info": {
   "codemirror_mode": {
    "name": "ipython",
    "version": 3
   },
   "file_extension": ".py",
   "mimetype": "text/x-python",
   "name": "python",
   "nbconvert_exporter": "python",
   "pygments_lexer": "ipython3",
   "version": "3.10.0"
  },
  "widgets": {
   "application/vnd.jupyter.widget-state+json": {
    "state": {},
    "version_major": 2,
    "version_minor": 0
   }
  }
 },
 "nbformat": 4,
 "nbformat_minor": 5
}
