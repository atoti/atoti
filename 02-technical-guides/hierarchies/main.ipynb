{
 "cells": [
  {
   "cell_type": "markdown",
   "id": "4b3bb4a0-74bf-4f21-a181-095dd87e0fee",
   "metadata": {},
   "source": [
    "# Working with Hierachies in Atoti\n",
    "\n",
    "In this notebook, we'll show you how to work with hierarchies when using the Atoti Python API. In particular, we'll show you how to implement the following properties and functions for [hierarchies](https://docs.atoti.io/latest/api/atoti.Hierarchy.html):\n",
    "\n",
    "* [`dimension`](#Hierarchy.dimension): Name of the dimension of the hierarchy.\n",
    "* [`dimension_default`](#Hierarchy.dimension_default): Whether the hierarchy is the default in its dimension or not.\n",
    "* [`isin`](#Hierarchy.isin()): Return a condition to check that the hierarchy is on one of the given members.\n",
    "* `levels`: Levels of the hierarchy.\n",
    "* `name`: Name of the hierarchy.\n",
    "* `slicing`: Whether the hierarchy is slicing or not.\n",
    "* `virtual`: Whether the hierarchy is virtual or not.\n",
    "* `visible`: Whether the hierarchy is visible or not.\n",
    "\n",
    "💡 **Note:** Check out the Atoti Server Docs for more conceptual information on [dimensions and hierarchies](https://docs.activeviam.com/products/atoti/server/6.0.7/docs/concepts/dimensions_and_hierarchies/) and on the different [types of hierarchies](https://docs.activeviam.com/products/atoti/server/6.0.7/docs/concepts/dimensions_and_hierarchies/#different-types-of-hierarchies) that Atoti supports."
   ]
  },
  {
   "cell_type": "markdown",
   "id": "f2e8584c-67f1-4396-9c5e-ba5e2db7bae5",
   "metadata": {},
   "source": [
    "<div style=\"text-align: center;\" ><a href=\"https://www.atoti.io/?utm_source=gallery&utm_content=hierarchies\" target=\"_blank\" rel=\"noopener noreferrer\"><img src=\"https://data.atoti.io/notebooks/banners/Discover-Atoti-now.png\" alt=\"Try Atoti\"></a></div>"
   ]
  },
  {
   "cell_type": "markdown",
   "id": "96b431ed-d908-4c90-8028-63faa6ad5210",
   "metadata": {},
   "source": [
    "## Import Libraries\n",
    "\n",
    "First things first, let's import our libraries."
   ]
  },
  {
   "cell_type": "code",
   "execution_count": 1,
   "id": "dd52328a-81c5-4404-a791-ee01d9f83379",
   "metadata": {},
   "outputs": [],
   "source": [
    "import atoti as tt\n",
    "import pandas"
   ]
  },
  {
   "cell_type": "markdown",
   "id": "3dd1ef72-b31a-4bb4-993c-3e379e01f4fc",
   "metadata": {},
   "source": [
    "## Instantiate Atoti Server and Link UI\n",
    "\n",
    "Next, we'll spin up the Atoti server and link the session to our web-based Atoti UI.\n",
    "\n",
    "💡 **Note**: https://docs.atoti.io/latest/api/atoti.Session.html#atoti.Session"
   ]
  },
  {
   "cell_type": "code",
   "execution_count": 2,
   "id": "5989628c-d209-4c17-b023-cd18cb362b40",
   "metadata": {},
   "outputs": [
    {
     "data": {
      "application/vnd.atoti.link.v0+json": {
       "path": "",
       "sessionLocation": {
        "https": false,
        "port": 9092
       }
      },
      "text/markdown": [
       "http://localhost:9092\n",
       "\n",
       "_Note_: This is the session's local URL: it may not be reachable if Atoti is running on another machine."
      ],
      "text/plain": [
       "http://localhost:9092 (This is the session's local URL: it may not be reachable if Atoti is running on another machine.)"
      ]
     },
     "execution_count": 2,
     "metadata": {},
     "output_type": "execute_result"
    }
   ],
   "source": [
    "session = tt.Session(\n",
    "    user_content_storage=\"./content\",\n",
    "    port=9092,\n",
    "    java_options=[\"-Xms1G\", \"-Xmx10G\"],\n",
    ")\n",
    "session.link"
   ]
  },
  {
   "cell_type": "markdown",
   "id": "338e45ac-5994-4d0f-8d32-a750f90eda51",
   "metadata": {},
   "source": [
    "## Load CSVs from S3 Into Atoti Tables\n",
    "\n",
    "From here on, we'll be loading the following CSVs from S3 into Atoti Tables.\n",
    "\n",
    "* [Orders](#Orders)\n",
    "* [Products](#Products)\n",
    "* [Shippers](#Shippers)\n",
    "* [Customers](#Customers)\n",
    "* [Employees](#Employees)\n",
    "\n",
    "💡 **Note**: We should be mindful of the (numerical) columns that we intend to use as hierarchies instead of measures (e.g. an Order ID does not need to be aggregated!). For this reason, we can explicitly set specific Atoti Table columns as desired data types when loading data into Atoti Tables. See https://docs.atoti.io/latest/api/atoti.Session.read_csv.html#atoti.Session.read_csv for more info."
   ]
  },
  {
   "cell_type": "markdown",
   "id": "c2436684-84d0-4875-941e-2609c877b412",
   "metadata": {},
   "source": [
    "### Orders"
   ]
  },
  {
   "cell_type": "code",
   "execution_count": 3,
   "id": "c5bb6cc1-7f54-44d3-9934-f142644c5ca5",
   "metadata": {},
   "outputs": [
    {
     "data": {
      "text/html": [
       "<div>\n",
       "<style scoped>\n",
       "    .dataframe tbody tr th:only-of-type {\n",
       "        vertical-align: middle;\n",
       "    }\n",
       "\n",
       "    .dataframe tbody tr th {\n",
       "        vertical-align: top;\n",
       "    }\n",
       "\n",
       "    .dataframe thead th {\n",
       "        text-align: right;\n",
       "    }\n",
       "</style>\n",
       "<table border=\"1\" class=\"dataframe\">\n",
       "  <thead>\n",
       "    <tr style=\"text-align: right;\">\n",
       "      <th></th>\n",
       "      <th>OrderDate</th>\n",
       "      <th>QuantitySold</th>\n",
       "      <th>SellingPricePerUnit</th>\n",
       "      <th>ShipperName</th>\n",
       "      <th>ProductId</th>\n",
       "      <th>EmployeeId</th>\n",
       "      <th>CustomerId</th>\n",
       "    </tr>\n",
       "    <tr>\n",
       "      <th>OrderId</th>\n",
       "      <th></th>\n",
       "      <th></th>\n",
       "      <th></th>\n",
       "      <th></th>\n",
       "      <th></th>\n",
       "      <th></th>\n",
       "      <th></th>\n",
       "    </tr>\n",
       "  </thead>\n",
       "  <tbody>\n",
       "    <tr>\n",
       "      <th>13</th>\n",
       "      <td>18/2/2019</td>\n",
       "      <td>233</td>\n",
       "      <td>32.01</td>\n",
       "      <td>Federal Shipping</td>\n",
       "      <td>1358</td>\n",
       "      <td>18551</td>\n",
       "      <td>c4859</td>\n",
       "    </tr>\n",
       "    <tr>\n",
       "      <th>27</th>\n",
       "      <td>18/2/2019</td>\n",
       "      <td>749</td>\n",
       "      <td>21.96</td>\n",
       "      <td>Rapid Post</td>\n",
       "      <td>1514</td>\n",
       "      <td>26584</td>\n",
       "      <td>c4747</td>\n",
       "    </tr>\n",
       "    <tr>\n",
       "      <th>41</th>\n",
       "      <td>18/2/2019</td>\n",
       "      <td>454</td>\n",
       "      <td>11.73</td>\n",
       "      <td>Freight United</td>\n",
       "      <td>773</td>\n",
       "      <td>98635</td>\n",
       "      <td>c2675</td>\n",
       "    </tr>\n",
       "    <tr>\n",
       "      <th>55</th>\n",
       "      <td>18/2/2019</td>\n",
       "      <td>2</td>\n",
       "      <td>32.18</td>\n",
       "      <td>Speedy Express</td>\n",
       "      <td>1137</td>\n",
       "      <td>18336</td>\n",
       "      <td>c1275</td>\n",
       "    </tr>\n",
       "    <tr>\n",
       "      <th>69</th>\n",
       "      <td>18/2/2019</td>\n",
       "      <td>672</td>\n",
       "      <td>56.04</td>\n",
       "      <td>Speedy Express</td>\n",
       "      <td>591</td>\n",
       "      <td>26584</td>\n",
       "      <td>c3067</td>\n",
       "    </tr>\n",
       "  </tbody>\n",
       "</table>\n",
       "</div>"
      ],
      "text/plain": [
       "         OrderDate  QuantitySold  SellingPricePerUnit       ShipperName  \\\n",
       "OrderId                                                                   \n",
       "13       18/2/2019           233                32.01  Federal Shipping   \n",
       "27       18/2/2019           749                21.96        Rapid Post   \n",
       "41       18/2/2019           454                11.73    Freight United   \n",
       "55       18/2/2019             2                32.18    Speedy Express   \n",
       "69       18/2/2019           672                56.04    Speedy Express   \n",
       "\n",
       "        ProductId EmployeeId CustomerId  \n",
       "OrderId                                  \n",
       "13           1358      18551      c4859  \n",
       "27           1514      26584      c4747  \n",
       "41            773      98635      c2675  \n",
       "55           1137      18336      c1275  \n",
       "69            591      26584      c3067  "
      ]
     },
     "execution_count": 3,
     "metadata": {},
     "output_type": "execute_result"
    }
   ],
   "source": [
    "orders = session.read_csv(\n",
    "    \"s3://data.atoti.io/notebooks/hierarchies/data/Orders.csv\",\n",
    "    types={\n",
    "        \"OrderId\": tt.STRING,\n",
    "        \"ProductId\": tt.STRING,\n",
    "        \"EmployeeId\": tt.STRING,\n",
    "        \"CustomerId\": tt.STRING,\n",
    "    },\n",
    "    keys=[\"OrderId\"],\n",
    ")\n",
    "orders.head()"
   ]
  },
  {
   "cell_type": "markdown",
   "id": "9784490d-6226-4db7-b10c-e4b9577a2e34",
   "metadata": {},
   "source": [
    "### Products"
   ]
  },
  {
   "cell_type": "code",
   "execution_count": 4,
   "id": "d37199f3-a0eb-4cb4-91a3-57da1d2c752f",
   "metadata": {},
   "outputs": [
    {
     "data": {
      "text/html": [
       "<div>\n",
       "<style scoped>\n",
       "    .dataframe tbody tr th:only-of-type {\n",
       "        vertical-align: middle;\n",
       "    }\n",
       "\n",
       "    .dataframe tbody tr th {\n",
       "        vertical-align: top;\n",
       "    }\n",
       "\n",
       "    .dataframe thead th {\n",
       "        text-align: right;\n",
       "    }\n",
       "</style>\n",
       "<table border=\"1\" class=\"dataframe\">\n",
       "  <thead>\n",
       "    <tr style=\"text-align: right;\">\n",
       "      <th></th>\n",
       "      <th>ProductName</th>\n",
       "      <th>ProductCategory</th>\n",
       "      <th>Supplier</th>\n",
       "      <th>PurchasingPricePerUnit</th>\n",
       "    </tr>\n",
       "    <tr>\n",
       "      <th>ProductId</th>\n",
       "      <th></th>\n",
       "      <th></th>\n",
       "      <th></th>\n",
       "      <th></th>\n",
       "    </tr>\n",
       "  </thead>\n",
       "  <tbody>\n",
       "    <tr>\n",
       "      <th>695</th>\n",
       "      <td>Gorgonzola Telino</td>\n",
       "      <td>Dairy Products</td>\n",
       "      <td>Formaggi Fortini s.r.l.</td>\n",
       "      <td>7.2</td>\n",
       "    </tr>\n",
       "    <tr>\n",
       "      <th>877</th>\n",
       "      <td>Mascarpone Fabioli</td>\n",
       "      <td>Dairy Products</td>\n",
       "      <td>Formaggi Fortini s.r.l.</td>\n",
       "      <td>18.43</td>\n",
       "    </tr>\n",
       "    <tr>\n",
       "      <th>1059</th>\n",
       "      <td>Ipoh Coffee</td>\n",
       "      <td>Beverages</td>\n",
       "      <td>Leka Trading</td>\n",
       "      <td>31.05</td>\n",
       "    </tr>\n",
       "    <tr>\n",
       "      <th>1241</th>\n",
       "      <td>Spegesild</td>\n",
       "      <td>Seafood</td>\n",
       "      <td>Lyngbysild</td>\n",
       "      <td>6.48</td>\n",
       "    </tr>\n",
       "    <tr>\n",
       "      <th>1423</th>\n",
       "      <td>Gumbär Gummibärchen</td>\n",
       "      <td>Confections</td>\n",
       "      <td>Heli Süßwaren GmbH &amp; Co. KG</td>\n",
       "      <td>16.81</td>\n",
       "    </tr>\n",
       "  </tbody>\n",
       "</table>\n",
       "</div>"
      ],
      "text/plain": [
       "                   ProductName ProductCategory                     Supplier  \\\n",
       "ProductId                                                                     \n",
       "695          Gorgonzola Telino  Dairy Products      Formaggi Fortini s.r.l.   \n",
       "877         Mascarpone Fabioli  Dairy Products      Formaggi Fortini s.r.l.   \n",
       "1059               Ipoh Coffee       Beverages                 Leka Trading   \n",
       "1241                 Spegesild         Seafood                   Lyngbysild   \n",
       "1423       Gumbär Gummibärchen     Confections  Heli Süßwaren GmbH & Co. KG   \n",
       "\n",
       "           PurchasingPricePerUnit  \n",
       "ProductId                          \n",
       "695                           7.2  \n",
       "877                         18.43  \n",
       "1059                        31.05  \n",
       "1241                         6.48  \n",
       "1423                        16.81  "
      ]
     },
     "execution_count": 4,
     "metadata": {},
     "output_type": "execute_result"
    }
   ],
   "source": [
    "products = session.read_csv(\n",
    "    \"s3://data.atoti.io/notebooks/hierarchies/data/Products.csv\",\n",
    "    types={\n",
    "        \"ProductId\": tt.STRING,\n",
    "        \"ProductName\": tt.STRING,\n",
    "        \"ProductCategory\": tt.STRING,\n",
    "        \"Supplier\": tt.STRING,\n",
    "        \"PurchasingPricePerUnit\": tt.DOUBLE,\n",
    "    },\n",
    "    keys=[\"ProductId\"],\n",
    ")\n",
    "products.head()"
   ]
  },
  {
   "cell_type": "markdown",
   "id": "ac89f164-064a-4658-b7a7-642dd5d45d80",
   "metadata": {},
   "source": [
    "### Shippers"
   ]
  },
  {
   "cell_type": "code",
   "execution_count": 5,
   "id": "1280d556-8697-4086-9cb9-3b93c339255a",
   "metadata": {},
   "outputs": [
    {
     "data": {
      "text/html": [
       "<div>\n",
       "<style scoped>\n",
       "    .dataframe tbody tr th:only-of-type {\n",
       "        vertical-align: middle;\n",
       "    }\n",
       "\n",
       "    .dataframe tbody tr th {\n",
       "        vertical-align: top;\n",
       "    }\n",
       "\n",
       "    .dataframe thead th {\n",
       "        text-align: right;\n",
       "    }\n",
       "</style>\n",
       "<table border=\"1\" class=\"dataframe\">\n",
       "  <thead>\n",
       "    <tr style=\"text-align: right;\">\n",
       "      <th></th>\n",
       "      <th>ShipperName</th>\n",
       "      <th>Contact</th>\n",
       "    </tr>\n",
       "  </thead>\n",
       "  <tbody>\n",
       "    <tr>\n",
       "      <th>0</th>\n",
       "      <td>Freight United</td>\n",
       "      <td>Geoff Matthews</td>\n",
       "    </tr>\n",
       "    <tr>\n",
       "      <th>1</th>\n",
       "      <td>Federal Shipping</td>\n",
       "      <td>Liz Welds</td>\n",
       "    </tr>\n",
       "    <tr>\n",
       "      <th>2</th>\n",
       "      <td>Rapid Post</td>\n",
       "      <td>Payal Shah</td>\n",
       "    </tr>\n",
       "    <tr>\n",
       "      <th>3</th>\n",
       "      <td>The Transporter</td>\n",
       "      <td>Funmi Odunga</td>\n",
       "    </tr>\n",
       "    <tr>\n",
       "      <th>4</th>\n",
       "      <td>United Package</td>\n",
       "      <td>Junqi Huang</td>\n",
       "    </tr>\n",
       "  </tbody>\n",
       "</table>\n",
       "</div>"
      ],
      "text/plain": [
       "        ShipperName         Contact\n",
       "0    Freight United  Geoff Matthews\n",
       "1  Federal Shipping       Liz Welds\n",
       "2        Rapid Post      Payal Shah\n",
       "3   The Transporter    Funmi Odunga\n",
       "4    United Package     Junqi Huang"
      ]
     },
     "execution_count": 5,
     "metadata": {},
     "output_type": "execute_result"
    }
   ],
   "source": [
    "shippers = session.read_csv(\n",
    "    \"s3://data.atoti.io/notebooks/hierarchies/data/Shippers.csv\",\n",
    "    types={\n",
    "        \"ShipperName\": tt.STRING,\n",
    "        \"Contact\": tt.STRING,\n",
    "    },\n",
    ")\n",
    "shippers.head()"
   ]
  },
  {
   "cell_type": "markdown",
   "id": "9c4dac8a-8dc7-4158-8976-1ba48b98f2be",
   "metadata": {},
   "source": [
    "### Customers"
   ]
  },
  {
   "cell_type": "code",
   "execution_count": 6,
   "id": "5c17d95f-eb31-4a3b-b05a-ff3b30c0fe79",
   "metadata": {},
   "outputs": [
    {
     "data": {
      "text/html": [
       "<div>\n",
       "<style scoped>\n",
       "    .dataframe tbody tr th:only-of-type {\n",
       "        vertical-align: middle;\n",
       "    }\n",
       "\n",
       "    .dataframe tbody tr th {\n",
       "        vertical-align: top;\n",
       "    }\n",
       "\n",
       "    .dataframe thead th {\n",
       "        text-align: right;\n",
       "    }\n",
       "</style>\n",
       "<table border=\"1\" class=\"dataframe\">\n",
       "  <thead>\n",
       "    <tr style=\"text-align: right;\">\n",
       "      <th></th>\n",
       "      <th>CompanyName</th>\n",
       "      <th>Address</th>\n",
       "      <th>City</th>\n",
       "      <th>PostalCode</th>\n",
       "      <th>Region</th>\n",
       "      <th>Country</th>\n",
       "      <th>Subregion</th>\n",
       "      <th>Phone</th>\n",
       "      <th>PostCode</th>\n",
       "    </tr>\n",
       "    <tr>\n",
       "      <th>CustomerId</th>\n",
       "      <th></th>\n",
       "      <th></th>\n",
       "      <th></th>\n",
       "      <th></th>\n",
       "      <th></th>\n",
       "      <th></th>\n",
       "      <th></th>\n",
       "      <th></th>\n",
       "      <th></th>\n",
       "    </tr>\n",
       "  </thead>\n",
       "  <tbody>\n",
       "    <tr>\n",
       "      <th>c3571</th>\n",
       "      <td>Bon app'</td>\n",
       "      <td>12, rue des Bouchers</td>\n",
       "      <td>Marseille</td>\n",
       "      <td>13008</td>\n",
       "      <td>Europe</td>\n",
       "      <td>France</td>\n",
       "      <td>Western Europe</td>\n",
       "      <td>91.24.45.40</td>\n",
       "      <td>N/A</td>\n",
       "    </tr>\n",
       "    <tr>\n",
       "      <th>c4075</th>\n",
       "      <td>Drachenblut Delikatessen</td>\n",
       "      <td>Walserweg 21</td>\n",
       "      <td>Aachen</td>\n",
       "      <td>52066</td>\n",
       "      <td>Europe</td>\n",
       "      <td>Germany</td>\n",
       "      <td>Western Europe</td>\n",
       "      <td>0241-039123</td>\n",
       "      <td>N/A</td>\n",
       "    </tr>\n",
       "    <tr>\n",
       "      <th>c4243</th>\n",
       "      <td>Galería del gastrónomo</td>\n",
       "      <td>Rambla de Cataluña, 23</td>\n",
       "      <td>Barcelona</td>\n",
       "      <td>8022</td>\n",
       "      <td>Europe</td>\n",
       "      <td>Spain</td>\n",
       "      <td>Southern Europe</td>\n",
       "      <td>(93) 203 4560</td>\n",
       "      <td>N/A</td>\n",
       "    </tr>\n",
       "    <tr>\n",
       "      <th>c5083</th>\n",
       "      <td>Laughing Bacchus Wine Cellars</td>\n",
       "      <td>1900 Oak St.</td>\n",
       "      <td>Vancouver</td>\n",
       "      <td>V3F 2K1</td>\n",
       "      <td>Northern America</td>\n",
       "      <td>Canada</td>\n",
       "      <td>North America</td>\n",
       "      <td>(604) 555-3392</td>\n",
       "      <td>N/A</td>\n",
       "    </tr>\n",
       "    <tr>\n",
       "      <th>c5027</th>\n",
       "      <td>Lazy K Kountry Store</td>\n",
       "      <td>12 Orchestra Terrace</td>\n",
       "      <td>Walla Walla</td>\n",
       "      <td>99362</td>\n",
       "      <td>Northern America</td>\n",
       "      <td>United States</td>\n",
       "      <td>North America</td>\n",
       "      <td>(509) 555-7969</td>\n",
       "      <td>N/A</td>\n",
       "    </tr>\n",
       "  </tbody>\n",
       "</table>\n",
       "</div>"
      ],
      "text/plain": [
       "                              CompanyName                 Address  \\\n",
       "CustomerId                                                          \n",
       "c3571                            Bon app'    12, rue des Bouchers   \n",
       "c4075            Drachenblut Delikatessen            Walserweg 21   \n",
       "c4243              Galería del gastrónomo  Rambla de Cataluña, 23   \n",
       "c5083       Laughing Bacchus Wine Cellars            1900 Oak St.   \n",
       "c5027                Lazy K Kountry Store    12 Orchestra Terrace   \n",
       "\n",
       "                   City PostalCode            Region        Country  \\\n",
       "CustomerId                                                            \n",
       "c3571         Marseille      13008            Europe         France   \n",
       "c4075            Aachen      52066            Europe        Germany   \n",
       "c4243         Barcelona       8022            Europe          Spain   \n",
       "c5083         Vancouver    V3F 2K1  Northern America         Canada   \n",
       "c5027       Walla Walla      99362  Northern America  United States   \n",
       "\n",
       "                  Subregion           Phone PostCode  \n",
       "CustomerId                                            \n",
       "c3571        Western Europe     91.24.45.40      N/A  \n",
       "c4075        Western Europe     0241-039123      N/A  \n",
       "c4243       Southern Europe   (93) 203 4560      N/A  \n",
       "c5083         North America  (604) 555-3392      N/A  \n",
       "c5027         North America  (509) 555-7969      N/A  "
      ]
     },
     "execution_count": 6,
     "metadata": {},
     "output_type": "execute_result"
    }
   ],
   "source": [
    "customers = session.read_csv(\n",
    "    \"s3://data.atoti.io/notebooks/hierarchies/data/Customers.csv\",\n",
    "    types={\n",
    "        \"CustomerId\": tt.STRING,\n",
    "        \"CompanyName\": tt.STRING,\n",
    "        \"Region\": tt.STRING,\n",
    "        \"Country\": tt.STRING,\n",
    "        \"Address\": tt.STRING,\n",
    "        \"City\": tt.STRING,\n",
    "        \"PostCode\": tt.STRING,\n",
    "        \"Phone\": tt.STRING,\n",
    "    },\n",
    "    keys=[\"CustomerId\"],\n",
    ")\n",
    "customers.head()"
   ]
  },
  {
   "cell_type": "markdown",
   "id": "0c30a612-1763-4390-9c33-336934e7d033",
   "metadata": {},
   "source": [
    "### Employees"
   ]
  },
  {
   "cell_type": "code",
   "execution_count": 7,
   "id": "c3ce0b51-5296-4696-960a-d18346499be3",
   "metadata": {},
   "outputs": [
    {
     "data": {
      "text/html": [
       "<div>\n",
       "<style scoped>\n",
       "    .dataframe tbody tr th:only-of-type {\n",
       "        vertical-align: middle;\n",
       "    }\n",
       "\n",
       "    .dataframe tbody tr th {\n",
       "        vertical-align: top;\n",
       "    }\n",
       "\n",
       "    .dataframe thead th {\n",
       "        text-align: right;\n",
       "    }\n",
       "</style>\n",
       "<table border=\"1\" class=\"dataframe\">\n",
       "  <thead>\n",
       "    <tr style=\"text-align: right;\">\n",
       "      <th></th>\n",
       "      <th>EmployeeName</th>\n",
       "      <th>EmployeeZone</th>\n",
       "      <th>EmployeeCountry</th>\n",
       "      <th>EmployeeCity</th>\n",
       "    </tr>\n",
       "    <tr>\n",
       "      <th>EmployeeId</th>\n",
       "      <th></th>\n",
       "      <th></th>\n",
       "      <th></th>\n",
       "      <th></th>\n",
       "    </tr>\n",
       "  </thead>\n",
       "  <tbody>\n",
       "    <tr>\n",
       "      <th>63528</th>\n",
       "      <td>Sean Tan</td>\n",
       "      <td>ASIA</td>\n",
       "      <td>SG</td>\n",
       "      <td>Singapore</td>\n",
       "    </tr>\n",
       "    <tr>\n",
       "      <th>98635</th>\n",
       "      <td>Shannon Lim</td>\n",
       "      <td>ASIA</td>\n",
       "      <td>SG</td>\n",
       "      <td>Singapore</td>\n",
       "    </tr>\n",
       "    <tr>\n",
       "      <th>12344</th>\n",
       "      <td>Paul Henry</td>\n",
       "      <td>EMEA</td>\n",
       "      <td>FR</td>\n",
       "      <td>Paris</td>\n",
       "    </tr>\n",
       "    <tr>\n",
       "      <th>12695</th>\n",
       "      <td>Louis Philippe</td>\n",
       "      <td>EMEA</td>\n",
       "      <td>FR</td>\n",
       "      <td>Lyon</td>\n",
       "    </tr>\n",
       "    <tr>\n",
       "      <th>18336</th>\n",
       "      <td>Steven Buchanan</td>\n",
       "      <td>EMEA</td>\n",
       "      <td>UK</td>\n",
       "      <td>London</td>\n",
       "    </tr>\n",
       "  </tbody>\n",
       "</table>\n",
       "</div>"
      ],
      "text/plain": [
       "               EmployeeName EmployeeZone EmployeeCountry EmployeeCity\n",
       "EmployeeId                                                           \n",
       "63528              Sean Tan         ASIA              SG    Singapore\n",
       "98635           Shannon Lim         ASIA              SG    Singapore\n",
       "12344            Paul Henry         EMEA              FR        Paris\n",
       "12695        Louis Philippe         EMEA              FR         Lyon\n",
       "18336       Steven Buchanan         EMEA              UK       London"
      ]
     },
     "execution_count": 7,
     "metadata": {},
     "output_type": "execute_result"
    }
   ],
   "source": [
    "employees = session.read_csv(\n",
    "    \"s3://data.atoti.io/notebooks/hierarchies/data/Employees.csv\",\n",
    "    types={\n",
    "        \"EmployeeId\": tt.STRING,\n",
    "        \"EmployeeName\": tt.STRING,\n",
    "        \"EmployeeCountry\": tt.STRING,\n",
    "        \"EmployeeCity\": tt.STRING,\n",
    "    },\n",
    "    keys=[\"EmployeeId\"],\n",
    ")\n",
    "employees.head()"
   ]
  },
  {
   "cell_type": "markdown",
   "id": "6e277a6c-bf86-46d0-8c28-ab48986f8237",
   "metadata": {},
   "source": [
    "## Join Tables and Create Cube\n",
    "\n",
    "Now, that our data is loaded into our Atoti Tables and in the format that we want, we should join our tables together on common keys to extend attributes from other entity relationships, and create our Atoti cube."
   ]
  },
  {
   "cell_type": "code",
   "execution_count": 8,
   "id": "63f8f654-b769-4362-ac4c-5470c22d27b2",
   "metadata": {},
   "outputs": [],
   "source": [
    "# Join tables\n",
    "orders.join(products, orders[\"ProductId\"] == products[\"ProductId\"])\n",
    "orders.join(employees, orders[\"EmployeeId\"] == employees[\"EmployeeId\"])\n",
    "orders.join(customers, orders[\"CustomerId\"] == customers[\"CustomerId\"])\n",
    "orders.join(shippers, orders[\"ShipperName\"] == shippers[\"ShipperName\"])"
   ]
  },
  {
   "cell_type": "code",
   "execution_count": 9,
   "id": "b5f9b569-eaa7-4b41-8a36-071f6970444a",
   "metadata": {},
   "outputs": [],
   "source": [
    "# Create Cube from Atoti Table object\n",
    "cube = session.create_cube(orders)"
   ]
  },
  {
   "cell_type": "markdown",
   "id": "43c0ab89-5c1a-4546-8d4a-942ee8dc8708",
   "metadata": {},
   "source": [
    "## Analyze the Atoti Cube\n",
    "\n",
    "Now that the data has been loaded into the cube, we'll want to examine the data model of the cube to confirm that the columns and data types match up to what we expect. In addition, we can view the hierarchies, levels, and measures for our cube by assigning them to variables."
   ]
  },
  {
   "cell_type": "code",
   "execution_count": 10,
   "id": "eaf46e7c-2501-462b-82a1-107e74e497f7",
   "metadata": {},
   "outputs": [
    {
     "data": {
      "image/png": "[encoded data removed]",
      "text/plain": [
       "erDiagram\n",
       "  \"Orders\" {\n",
       "    _ String PK \"OrderId\"\n",
       "    _ String \"OrderDate\"\n",
       "    nullable int \"QuantitySold\"\n",
       "    nullable double \"SellingPricePerUnit\"\n",
       "    _ String \"ShipperName\"\n",
       "    _ String \"ProductId\"\n",
       "    _ String \"EmployeeId\"\n",
       "    _ String \"CustomerId\"\n",
       "  }\n",
       "  \"Products\" {\n",
       "    _ String PK \"ProductId\"\n",
       "    _ String \"ProductName\"\n",
       "    _ String \"ProductCategory\"\n",
       "    _ String \"Supplier\"\n",
       "    nullable double \"PurchasingPricePerUnit\"\n",
       "  }\n",
       "  \"Customers\" {\n",
       "    _ String PK \"CustomerId\"\n",
       "    _ String \"CompanyName\"\n",
       "    _ String \"Address\"\n",
       "    _ String \"City\"\n",
       "    _ String \"PostalCode\"\n",
       "    _ String \"Region\"\n",
       "    _ String \"Country\"\n",
       "    _ String \"Subregion\"\n",
       "    _ String \"Phone\"\n",
       "    _ String \"PostCode\"\n",
       "  }\n",
       "  \"Shippers\" {\n",
       "    _ String \"ShipperName\"\n",
       "    _ String \"Contact\"\n",
       "  }\n",
       "  \"Employees\" {\n",
       "    _ String PK \"EmployeeId\"\n",
       "    _ String \"EmployeeName\"\n",
       "    _ String \"EmployeeZone\"\n",
       "    _ String \"EmployeeCountry\"\n",
       "    _ String \"EmployeeCity\"\n",
       "  }\n",
       "  \"Orders\" }o--o| \"Customers\" : \"`CustomerId` == `CustomerId`\"\n",
       "  \"Orders\" }o--o| \"Employees\" : \"`EmployeeId` == `EmployeeId`\"\n",
       "  \"Orders\" }o--o| \"Products\" : \"`ProductId` == `ProductId`\"\n",
       "  \"Orders\" }o--o| \"Shippers\" : \"`ShipperName` == `ShipperName`\""
      ]
     },
     "execution_count": 10,
     "metadata": {},
     "output_type": "execute_result"
    }
   ],
   "source": [
    "# View the schema of the data model\n",
    "session.tables.schema"
   ]
  },
  {
   "cell_type": "code",
   "execution_count": 11,
   "id": "9d3894be-2af4-4a75-a091-7a060bc403f5",
   "metadata": {},
   "outputs": [],
   "source": [
    "# Set variables for hierarchies, levels, and measures\n",
    "h, l, m = cube.hierarchies, cube.levels, cube.measures"
   ]
  },
  {
   "cell_type": "markdown",
   "id": "5e262b11-8c22-4ba2-9795-b6cf03d753b1",
   "metadata": {},
   "source": [
    "## Viewing Hierarchies\n",
    "\n",
    "Because this walk through will mainly be focusing on hierarchies, let's view the hierarchies for the data model by printing the list of hierarchies based on the variable that we assigned.\n",
    "\n",
    "We can see that each hierarchy is categorized under dimensions, and each hierarchy has it's own set of levels (starting with a 0-based index).\n",
    "\n",
    "💡 **Note**: Hierarchies can have [multiple levels](https://docs.atoti.io/latest/getting_started/tutorial/tutorial.html#Multilevel-hierarchies), which we will show later in this notebook."
   ]
  },
  {
   "cell_type": "code",
   "execution_count": 12,
   "id": "d62e8940-8ae1-4bb0-afa6-3425471f65ef",
   "metadata": {},
   "outputs": [
    {
     "data": {
      "application/json": {
       "Customers": {
        "Address": [
         "Address"
        ],
        "City": [
         "City"
        ],
        "CompanyName": [
         "CompanyName"
        ],
        "Country": [
         "Country"
        ],
        "Phone": [
         "Phone"
        ],
        "PostCode": [
         "PostCode"
        ],
        "PostalCode": [
         "PostalCode"
        ],
        "Region": [
         "Region"
        ],
        "Subregion": [
         "Subregion"
        ]
       },
       "Employees": {
        "EmployeeCity": [
         "EmployeeCity"
        ],
        "EmployeeCountry": [
         "EmployeeCountry"
        ],
        "EmployeeName": [
         "EmployeeName"
        ],
        "EmployeeZone": [
         "EmployeeZone"
        ]
       },
       "Orders": {
        "CustomerId": [
         "CustomerId"
        ],
        "EmployeeId": [
         "EmployeeId"
        ],
        "OrderDate": [
         "OrderDate"
        ],
        "OrderId": [
         "OrderId"
        ],
        "ProductId": [
         "ProductId"
        ],
        "ShipperName": [
         "ShipperName"
        ]
       },
       "Products": {
        "ProductCategory": [
         "ProductCategory"
        ],
        "ProductName": [
         "ProductName"
        ],
        "Supplier": [
         "Supplier"
        ]
       },
       "Shippers": {
        "Contact": [
         "Contact"
        ]
       }
      },
      "text/html": [
       "<ul>\n",
       "<li>Dimensions\n",
       "  <ul>\n",
       "  <li>Customers\n",
       "    <ul>\n",
       "    <li>Address\n",
       "      <ol>\n",
       "      <li>Address</li>\n",
       "      </ol>    </li>\n",
       "    <li>City\n",
       "      <ol>\n",
       "      <li>City</li>\n",
       "      </ol>    </li>\n",
       "    <li>CompanyName\n",
       "      <ol>\n",
       "      <li>CompanyName</li>\n",
       "      </ol>    </li>\n",
       "    <li>Country\n",
       "      <ol>\n",
       "      <li>Country</li>\n",
       "      </ol>    </li>\n",
       "    <li>Phone\n",
       "      <ol>\n",
       "      <li>Phone</li>\n",
       "      </ol>    </li>\n",
       "    <li>PostCode\n",
       "      <ol>\n",
       "      <li>PostCode</li>\n",
       "      </ol>    </li>\n",
       "    <li>PostalCode\n",
       "      <ol>\n",
       "      <li>PostalCode</li>\n",
       "      </ol>    </li>\n",
       "    <li>Region\n",
       "      <ol>\n",
       "      <li>Region</li>\n",
       "      </ol>    </li>\n",
       "    <li>Subregion\n",
       "      <ol>\n",
       "      <li>Subregion</li>\n",
       "      </ol>    </li>\n",
       "    </ul>\n",
       "  </li>\n",
       "  <li>Employees\n",
       "    <ul>\n",
       "    <li>EmployeeCity\n",
       "      <ol>\n",
       "      <li>EmployeeCity</li>\n",
       "      </ol>    </li>\n",
       "    <li>EmployeeCountry\n",
       "      <ol>\n",
       "      <li>EmployeeCountry</li>\n",
       "      </ol>    </li>\n",
       "    <li>EmployeeName\n",
       "      <ol>\n",
       "      <li>EmployeeName</li>\n",
       "      </ol>    </li>\n",
       "    <li>EmployeeZone\n",
       "      <ol>\n",
       "      <li>EmployeeZone</li>\n",
       "      </ol>    </li>\n",
       "    </ul>\n",
       "  </li>\n",
       "  <li>Orders\n",
       "    <ul>\n",
       "    <li>CustomerId\n",
       "      <ol>\n",
       "      <li>CustomerId</li>\n",
       "      </ol>    </li>\n",
       "    <li>EmployeeId\n",
       "      <ol>\n",
       "      <li>EmployeeId</li>\n",
       "      </ol>    </li>\n",
       "    <li>OrderDate\n",
       "      <ol>\n",
       "      <li>OrderDate</li>\n",
       "      </ol>    </li>\n",
       "    <li>OrderId\n",
       "      <ol>\n",
       "      <li>OrderId</li>\n",
       "      </ol>    </li>\n",
       "    <li>ProductId\n",
       "      <ol>\n",
       "      <li>ProductId</li>\n",
       "      </ol>    </li>\n",
       "    <li>ShipperName\n",
       "      <ol>\n",
       "      <li>ShipperName</li>\n",
       "      </ol>    </li>\n",
       "    </ul>\n",
       "  </li>\n",
       "  <li>Products\n",
       "    <ul>\n",
       "    <li>ProductCategory\n",
       "      <ol>\n",
       "      <li>ProductCategory</li>\n",
       "      </ol>    </li>\n",
       "    <li>ProductName\n",
       "      <ol>\n",
       "      <li>ProductName</li>\n",
       "      </ol>    </li>\n",
       "    <li>Supplier\n",
       "      <ol>\n",
       "      <li>Supplier</li>\n",
       "      </ol>    </li>\n",
       "    </ul>\n",
       "  </li>\n",
       "  <li>Shippers\n",
       "    <ul>\n",
       "    <li>Contact\n",
       "      <ol>\n",
       "      <li>Contact</li>\n",
       "      </ol>    </li>\n",
       "    </ul>\n",
       "  </li>\n",
       "  </ul>\n",
       "</li>\n",
       "</ul>\n"
      ],
      "text/plain": [
       "{('Products', 'Supplier'): <atoti.hierarchy.Hierarchy object at 0x11a2038e0>, ('Orders', 'OrderDate'): <atoti.hierarchy.Hierarchy object at 0x11a203a30>, ('Orders', 'ProductId'): <atoti.hierarchy.Hierarchy object at 0x11a203b20>, ('Products', 'ProductName'): <atoti.hierarchy.Hierarchy object at 0x11a203c10>, ('Customers', 'Phone'): <atoti.hierarchy.Hierarchy object at 0x11a203d00>, ('Customers', 'Address'): <atoti.hierarchy.Hierarchy object at 0x11a203df0>, ('Customers', 'Region'): <atoti.hierarchy.Hierarchy object at 0x11a0ef250>, ('Shippers', 'Contact'): <atoti.hierarchy.Hierarchy object at 0x11a0ef430>, ('Orders', 'EmployeeId'): <atoti.hierarchy.Hierarchy object at 0x11a1819f0>, ('Customers', 'PostCode'): <atoti.hierarchy.Hierarchy object at 0x11a183580>, ('Employees', 'EmployeeCountry'): <atoti.hierarchy.Hierarchy object at 0x11a183550>, ('Products', 'ProductCategory'): <atoti.hierarchy.Hierarchy object at 0x11a1e4fd0>, ('Customers', 'PostalCode'): <atoti.hierarchy.Hierarchy object at 0x11a1e7df0>, ('Customers', 'Subregion'): <atoti.hierarchy.Hierarchy object at 0x11a1e7790>, ('Orders', 'CustomerId'): <atoti.hierarchy.Hierarchy object at 0x11a1e4730>, ('Employees', 'EmployeeCity'): <atoti.hierarchy.Hierarchy object at 0x11a0946a0>, ('Customers', 'Country'): <atoti.hierarchy.Hierarchy object at 0x11a095090>, ('Orders', 'OrderId'): <atoti.hierarchy.Hierarchy object at 0x11a203700>, ('Customers', 'CompanyName'): <atoti.hierarchy.Hierarchy object at 0x11a2035e0>, ('Orders', 'ShipperName'): <atoti.hierarchy.Hierarchy object at 0x11a203310>, ('Employees', 'EmployeeName'): <atoti.hierarchy.Hierarchy object at 0x11a202fe0>, ('Employees', 'EmployeeZone'): <atoti.hierarchy.Hierarchy object at 0x11a2030a0>, ('Customers', 'City'): <atoti.hierarchy.Hierarchy object at 0x11a203010>}"
      ]
     },
     "execution_count": 12,
     "metadata": {
      "application/json": {
       "expanded": true,
       "root": "Dimensions"
      }
     },
     "output_type": "execute_result"
    }
   ],
   "source": [
    "h"
   ]
  },
  {
   "cell_type": "markdown",
   "id": "a69c6a34-4f17-4dc2-a325-5c8cc8145652",
   "metadata": {},
   "source": [
    "## Using atoti.Hierarchy Properties and Functions\n",
    "\n",
    "With our hierarchies listed, let's now walk through how to use the various `atoti.Hierarchy` properties and functions to interact with (and manipulate) our hierarchies in our data model.\n",
    "\n",
    "We will categorize our hierarchy properties and functions by the following difficulties:\n",
    "\n",
    "* [Basic](#Basic-Implementations)\n",
    "* [Advanced](#Advanced-Implementations)"
   ]
  },
  {
   "cell_type": "markdown",
   "id": "10ea66d5-13cc-4855-9849-acb1cb9dc2f0",
   "metadata": {},
   "source": [
    "### Basic Implementations\n",
    "\n",
    "These are the basic implementations and tips for working with hierarchies in the Atoti Python API."
   ]
  },
  {
   "cell_type": "markdown",
   "id": "a6e66793-aa26-4a3b-a6c6-9f00c04d1585",
   "metadata": {},
   "source": [
    "#### `Hierarchy.dimension`\n",
    "\n",
    "We can use the `dimension` property of a Hierarchy object to determine the parent dimension which it is categorized under. For example, we can call the `dimension` property of the `Address` hierarchy to determine that its parent dimension is `Customers`. "
   ]
  },
  {
   "cell_type": "code",
   "execution_count": 13,
   "id": "0a98f4be-4776-410f-b3e5-f1caecef40d7",
   "metadata": {},
   "outputs": [
    {
     "data": {
      "text/plain": [
       "'Customers'"
      ]
     },
     "execution_count": 13,
     "metadata": {},
     "output_type": "execute_result"
    }
   ],
   "source": [
    "h['Address'].dimension"
   ]
  },
  {
   "cell_type": "markdown",
   "id": "19c6b620-d95f-4807-b652-b0624e045dce",
   "metadata": {},
   "source": [
    "#### `Hierarchy.dimension_default`"
   ]
  },
  {
   "cell_type": "markdown",
   "id": "345470f0-b46d-4ca0-95c6-1f5c57e244ef",
   "metadata": {},
   "source": [
    "We can also call the `dimension_default` property of a Hierarchy object to determine if a specified hierarchy is the default hierarchy in its parent dimension."
   ]
  },
  {
   "cell_type": "code",
   "execution_count": 14,
   "id": "ddfcdf1a-f39f-4b4c-a2e9-a0e2859dc37b",
   "metadata": {},
   "outputs": [
    {
     "data": {
      "text/plain": [
       "False"
      ]
     },
     "execution_count": 14,
     "metadata": {},
     "output_type": "execute_result"
    }
   ],
   "source": [
    "h['Address'].dimension_default"
   ]
  },
  {
   "cell_type": "markdown",
   "id": "663db110-bfa5-476a-bdf0-438864e4cdfc",
   "metadata": {},
   "source": [
    "The output of the `dimension_default` property for a Hierarchy should be either `True` or `False`. In this case, the `Address` hiearchy of the `Customers` dimension is **not** the default hierarchy for the `Customers` dimension.\n",
    "\n",
    "So which hierarchy **is** the default hierarchy for the `Customers` dimension? We can create a simple `for` loop to test this. \n",
    "\n",
    "💡 **Note:** The `Orders` and `Customers` tables are joined by the common key: `CustomerId`. However, from an Atoti data model perspective, `CustomerId` is a hierarchy present under the base table or `Orders` dimension, and is no longer present as a (redundant) hierarchy under the `Customers` dimension. Therefore, when checking the `Customers` dimension for its default hierarchy, we must filter out the `CustomerId` out from the search criteria — otherwise we get a missing `KeyError`."
   ]
  },
  {
   "cell_type": "code",
   "execution_count": 15,
   "id": "1fe311c8-b976-429d-9898-13ee34ba9d2e",
   "metadata": {},
   "outputs": [
    {
     "name": "stdout",
     "output_type": "stream",
     "text": [
      "h['Customers', 'CompanyName'].dimension_default == False\n",
      "h['Customers', 'Address'].dimension_default == False\n",
      "h['Customers', 'City'].dimension_default == False\n",
      "h['Customers', 'PostalCode'].dimension_default == True\n",
      "h['Customers', 'Region'].dimension_default == False\n",
      "h['Customers', 'Country'].dimension_default == False\n",
      "h['Customers', 'Subregion'].dimension_default == False\n",
      "h['Customers', 'Phone'].dimension_default == False\n",
      "h['Customers', 'PostCode'].dimension_default == False\n"
     ]
    }
   ],
   "source": [
    "def check_default_hierarchy(hierachies, table):\n",
    "    \"\"\"Checks for the default hierarchy for an Atoti Table object.\"\"\"    \n",
    "    dimension = table.name\n",
    "    for hierarchy in table.columns:\n",
    "        if hierarchy != \"CustomerId\":\n",
    "            print(f\"h['{dimension}', '{hierarchy}'].dimension_default == {h[dimension, hierarchy].dimension_default}\")\n",
    "\n",
    "check_default_hierarchy(h, customers)"
   ]
  },
  {
   "cell_type": "markdown",
   "id": "cb5eb9ff-9dcd-4ca6-95b5-f671694f9603",
   "metadata": {},
   "source": [
    "We can see that the default hierarchy for the `Customers` dimension is actually `PostalCode`. If we set another hierarchy under the `Customers` dimension as the default hierarchy, it would look like this:"
   ]
  },
  {
   "cell_type": "code",
   "execution_count": 16,
   "id": "a6abbe1a-8799-437f-a533-eb8ceba43395",
   "metadata": {},
   "outputs": [],
   "source": [
    "h['Address'].dimension_default = True"
   ]
  },
  {
   "cell_type": "markdown",
   "id": "bb1d2b9b-6f1e-45fe-a0b5-90638eace9f7",
   "metadata": {},
   "source": [
    "Then, if we re-use the `check_default_hierarchy` function that we defined previously, we can see that the default hierarchy for the `Customers` dimension has indeed been updated."
   ]
  },
  {
   "cell_type": "code",
   "execution_count": 17,
   "id": "9c814d42-e50e-4da2-bf4c-143123207525",
   "metadata": {},
   "outputs": [
    {
     "name": "stdout",
     "output_type": "stream",
     "text": [
      "h['Customers', 'CompanyName'].dimension_default == False\n",
      "h['Customers', 'Address'].dimension_default == True\n",
      "h['Customers', 'City'].dimension_default == False\n",
      "h['Customers', 'PostalCode'].dimension_default == False\n",
      "h['Customers', 'Region'].dimension_default == False\n",
      "h['Customers', 'Country'].dimension_default == False\n",
      "h['Customers', 'Subregion'].dimension_default == False\n",
      "h['Customers', 'Phone'].dimension_default == False\n",
      "h['Customers', 'PostCode'].dimension_default == False\n"
     ]
    }
   ],
   "source": [
    "check_default_hierarchy(h, customers)"
   ]
  },
  {
   "cell_type": "markdown",
   "id": "cc3ad57b-5f3c-43d7-b678-18d66d68df92",
   "metadata": {},
   "source": [
    "#### `Hierarchy.name`"
   ]
  },
  {
   "cell_type": "markdown",
   "id": "18290d96-f17c-4573-aa29-126cd8a546f6",
   "metadata": {},
   "source": [
    "The `name` property will output the name of the hierarchy like so:"
   ]
  },
  {
   "cell_type": "code",
   "execution_count": 18,
   "id": "be0e7632-92f9-48e3-a1b6-92a111a03262",
   "metadata": {},
   "outputs": [
    {
     "data": {
      "text/plain": [
       "'Address'"
      ]
     },
     "execution_count": 18,
     "metadata": {},
     "output_type": "execute_result"
    }
   ],
   "source": [
    "h['Address'].name"
   ]
  },
  {
   "cell_type": "markdown",
   "id": "41c7a1f8-7499-429d-ae5d-b9ced9c7ae66",
   "metadata": {},
   "source": [
    "Though this is a bit redundant when we already know the name of the hierarchy. Therefore, using the `name` property may be more helpful when trying to execute a `for` loop to iterate over all hierarchies in an Atoti data model, where we may want the colloquial hierarchy name rather than the fully qualified one (with both the dimension and hierarchy listed)."
   ]
  },
  {
   "cell_type": "code",
   "execution_count": 19,
   "id": "560cc096-3bdc-4799-9c3c-0cd1fb1f9302",
   "metadata": {},
   "outputs": [
    {
     "name": "stdout",
     "output_type": "stream",
     "text": [
      "('Products', 'Supplier')\n",
      "('Orders', 'OrderDate')\n",
      "('Orders', 'ProductId')\n",
      "('Products', 'ProductName')\n",
      "('Customers', 'Phone')\n",
      "('Customers', 'Address')\n",
      "('Customers', 'Region')\n",
      "('Shippers', 'Contact')\n",
      "('Orders', 'EmployeeId')\n",
      "('Customers', 'PostCode')\n",
      "('Employees', 'EmployeeCountry')\n",
      "('Products', 'ProductCategory')\n",
      "('Customers', 'PostalCode')\n",
      "('Customers', 'Subregion')\n",
      "('Orders', 'CustomerId')\n",
      "('Employees', 'EmployeeCity')\n",
      "('Customers', 'Country')\n",
      "('Orders', 'OrderId')\n",
      "('Customers', 'CompanyName')\n",
      "('Orders', 'ShipperName')\n",
      "('Employees', 'EmployeeName')\n",
      "('Employees', 'EmployeeZone')\n",
      "('Customers', 'City')\n"
     ]
    }
   ],
   "source": [
    "for key in h.keys():\n",
    "    print(key)"
   ]
  },
  {
   "cell_type": "code",
   "execution_count": 20,
   "id": "745087f5-b41a-47d8-9f0f-2876a19aebad",
   "metadata": {},
   "outputs": [
    {
     "name": "stdout",
     "output_type": "stream",
     "text": [
      "Supplier\n",
      "OrderDate\n",
      "ProductId\n",
      "ProductName\n",
      "Phone\n",
      "Address\n",
      "Region\n",
      "Contact\n",
      "EmployeeId\n",
      "PostCode\n",
      "EmployeeCountry\n",
      "ProductCategory\n",
      "PostalCode\n",
      "Subregion\n",
      "CustomerId\n",
      "EmployeeCity\n",
      "Country\n",
      "OrderId\n",
      "CompanyName\n",
      "ShipperName\n",
      "EmployeeName\n",
      "EmployeeZone\n",
      "City\n"
     ]
    }
   ],
   "source": [
    "for key in h.keys():\n",
    "    print(h[key].name)"
   ]
  },
  {
   "cell_type": "markdown",
   "id": "823f8274-eda1-45fb-9137-b3aac5c7ba9b",
   "metadata": {},
   "source": [
    "#### `Hierarchy.visible`\n",
    "\n",
    "The `visible` property will either display or hide a hierarchy from the list of available hierarchies when using Atoti in either the Atoti JupyterLab extension or the Atoti UI. For example, if we look at our data model, we can see the `CustomerId` hierarchy listed in the list of available hierarchies.\n",
    "\n",
    "💡 **Note:** The `visible` property will **not** delete a hierarchy from an Atoti data model, it merely hides it as an available hierarchy in any of our UI interfaces. Programmatically, a hidden hierarchy can still be used."
   ]
  },
  {
   "cell_type": "markdown",
   "id": "1dfd1308-35b4-4926-8a97-74254786f073",
   "metadata": {
    "editable": true,
    "slideshow": {
     "slide_type": ""
    },
    "tags": []
   },
   "source": [
    "<img src=\"images/hierarchies-visible-true.png\" alt=\"drawing\" width=\"225\"/>"
   ]
  },
  {
   "cell_type": "markdown",
   "id": "2c002e25-1cfb-4a40-a599-1382b582705b",
   "metadata": {},
   "source": [
    "And correspondingly, if we use `session.widget` to select the `CustomerId` as our hierarchy and `contributors.COUNT` as our measure, we can see output as expected."
   ]
  },
  {
   "cell_type": "code",
   "execution_count": 21,
   "id": "c7385596-5551-4506-a0b5-b499c97fe377",
   "metadata": {
    "atoti": {
     "widget": {
      "columnWidths": {
       "[Customers].[Address].[Address]": 170,
       "[Measures].[contributors.COUNT]": 140
      },
      "mapping": {
       "columns": [
        "ALL_MEASURES"
       ],
       "measures": [
        "[Measures].[contributors.COUNT]"
       ],
       "rows": [
        "[Orders].[CustomerId].[CustomerId]"
       ]
      },
      "query": {
       "mdx": "SELECT NON EMPTY Hierarchize(Descendants({[Orders].[CustomerId].[ALL].[AllMember]}, 1, SELF_AND_BEFORE)) ON ROWS, NON EMPTY {[Measures].[contributors.COUNT]} ON COLUMNS FROM [Orders] CELL PROPERTIES VALUE, FORMATTED_VALUE, BACK_COLOR, FORE_COLOR, FONT_FLAGS",
       "updateMode": "once"
      },
      "serverKey": "default",
      "widgetKey": "pivot-table"
     }
    },
    "editable": true,
    "slideshow": {
     "slide_type": ""
    },
    "tags": []
   },
   "outputs": [
    {
     "data": {
      "application/vnd.atoti.widget.v0+json": {
       "sessionId": "1712697224_W0IRGW",
       "sessionLocation": {
        "https": false,
        "port": 9092
       },
       "widgetCreationCode": "session.widget"
      },
      "text/html": [
       "<img height=\"352\" width=\"1024\" src=\"data:image/png;base64,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\" />"
      ],
      "text/plain": [
       "Open the notebook in JupyterLab with the Atoti JupyterLab extension enabled to build this widget."
      ]
     },
     "metadata": {},
     "output_type": "display_data"
    }
   ],
   "source": [
    "session.widget"
   ]
  },
  {
   "cell_type": "markdown",
   "id": "6540f93c-d19c-47fa-8994-543f31c62dc9",
   "metadata": {},
   "source": [
    "However if we set the `visible` property of the `CustomerId` hierarchy to `False`, it will hide it from our list of available hierarchies as expected. Notice that the total number of hierarchies in the data model (`24`) does not change whether or not the `visible` property for a hierarchy is set to `True` or `False`."
   ]
  },
  {
   "cell_type": "code",
   "execution_count": 22,
   "id": "fea74973-b2dd-4b26-8cdf-ef3d6de978d2",
   "metadata": {},
   "outputs": [],
   "source": [
    "h['CustomerId'].visible = False"
   ]
  },
  {
   "cell_type": "markdown",
   "id": "6fc69554-ef5f-46ca-92e4-4a226987253c",
   "metadata": {},
   "source": [
    "<img src=\"images/hierarchies-visible-false.png\" alt=\"drawing\" width=\"225\"/>"
   ]
  },
  {
   "cell_type": "code",
   "execution_count": 23,
   "id": "a3e20b55-7614-4baf-ae73-e0610c908fe3",
   "metadata": {},
   "outputs": [
    {
     "data": {
      "application/vnd.atoti.widget.v0+json": {
       "sessionId": "1712696641_7P9STQ",
       "sessionLocation": {
        "https": false,
        "port": 9092
       },
       "widgetCreationCode": "session.widget"
      },
      "text/html": [
       "<img height=\"352\" width=\"1024\" src=\"data:image/png;base64,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\" />"
      ],
      "text/plain": [
       "Open the notebook in JupyterLab with the Atoti JupyterLab extension enabled to build this widget."
      ]
     },
     "metadata": {},
     "output_type": "display_data"
    }
   ],
   "source": [
    "session.widget"
   ]
  },
  {
   "cell_type": "code",
   "execution_count": 24,
   "id": "328d2cc5-1c02-4e4e-bc7e-09554b49d497",
   "metadata": {},
   "outputs": [
    {
     "data": {
      "application/json": {
       "Customers": {
        "Address": [
         "Address"
        ],
        "City": [
         "City"
        ],
        "CompanyName": [
         "CompanyName"
        ],
        "Country": [
         "Country"
        ],
        "Phone": [
         "Phone"
        ],
        "PostCode": [
         "PostCode"
        ],
        "PostalCode": [
         "PostalCode"
        ],
        "Region": [
         "Region"
        ],
        "Subregion": [
         "Subregion"
        ]
       },
       "Employees": {
        "EmployeeCity": [
         "EmployeeCity"
        ],
        "EmployeeCountry": [
         "EmployeeCountry"
        ],
        "EmployeeName": [
         "EmployeeName"
        ],
        "EmployeeZone": [
         "EmployeeZone"
        ]
       },
       "Orders": {
        "CustomerId": [
         "CustomerId"
        ],
        "EmployeeId": [
         "EmployeeId"
        ],
        "OrderDate": [
         "OrderDate"
        ],
        "OrderId": [
         "OrderId"
        ],
        "ProductId": [
         "ProductId"
        ],
        "ShipperName": [
         "ShipperName"
        ]
       },
       "Products": {
        "ProductCategory": [
         "ProductCategory"
        ],
        "ProductName": [
         "ProductName"
        ],
        "Supplier": [
         "Supplier"
        ]
       },
       "Shippers": {
        "Contact": [
         "Contact"
        ]
       }
      },
      "text/html": [
       "<ul>\n",
       "<li>Dimensions\n",
       "  <ul>\n",
       "  <li>Customers\n",
       "    <ul>\n",
       "    <li>Address\n",
       "      <ol>\n",
       "      <li>Address</li>\n",
       "      </ol>    </li>\n",
       "    <li>City\n",
       "      <ol>\n",
       "      <li>City</li>\n",
       "      </ol>    </li>\n",
       "    <li>CompanyName\n",
       "      <ol>\n",
       "      <li>CompanyName</li>\n",
       "      </ol>    </li>\n",
       "    <li>Country\n",
       "      <ol>\n",
       "      <li>Country</li>\n",
       "      </ol>    </li>\n",
       "    <li>Phone\n",
       "      <ol>\n",
       "      <li>Phone</li>\n",
       "      </ol>    </li>\n",
       "    <li>PostCode\n",
       "      <ol>\n",
       "      <li>PostCode</li>\n",
       "      </ol>    </li>\n",
       "    <li>PostalCode\n",
       "      <ol>\n",
       "      <li>PostalCode</li>\n",
       "      </ol>    </li>\n",
       "    <li>Region\n",
       "      <ol>\n",
       "      <li>Region</li>\n",
       "      </ol>    </li>\n",
       "    <li>Subregion\n",
       "      <ol>\n",
       "      <li>Subregion</li>\n",
       "      </ol>    </li>\n",
       "    </ul>\n",
       "  </li>\n",
       "  <li>Employees\n",
       "    <ul>\n",
       "    <li>EmployeeCity\n",
       "      <ol>\n",
       "      <li>EmployeeCity</li>\n",
       "      </ol>    </li>\n",
       "    <li>EmployeeCountry\n",
       "      <ol>\n",
       "      <li>EmployeeCountry</li>\n",
       "      </ol>    </li>\n",
       "    <li>EmployeeName\n",
       "      <ol>\n",
       "      <li>EmployeeName</li>\n",
       "      </ol>    </li>\n",
       "    <li>EmployeeZone\n",
       "      <ol>\n",
       "      <li>EmployeeZone</li>\n",
       "      </ol>    </li>\n",
       "    </ul>\n",
       "  </li>\n",
       "  <li>Orders\n",
       "    <ul>\n",
       "    <li>CustomerId\n",
       "      <ol>\n",
       "      <li>CustomerId</li>\n",
       "      </ol>    </li>\n",
       "    <li>EmployeeId\n",
       "      <ol>\n",
       "      <li>EmployeeId</li>\n",
       "      </ol>    </li>\n",
       "    <li>OrderDate\n",
       "      <ol>\n",
       "      <li>OrderDate</li>\n",
       "      </ol>    </li>\n",
       "    <li>OrderId\n",
       "      <ol>\n",
       "      <li>OrderId</li>\n",
       "      </ol>    </li>\n",
       "    <li>ProductId\n",
       "      <ol>\n",
       "      <li>ProductId</li>\n",
       "      </ol>    </li>\n",
       "    <li>ShipperName\n",
       "      <ol>\n",
       "      <li>ShipperName</li>\n",
       "      </ol>    </li>\n",
       "    </ul>\n",
       "  </li>\n",
       "  <li>Products\n",
       "    <ul>\n",
       "    <li>ProductCategory\n",
       "      <ol>\n",
       "      <li>ProductCategory</li>\n",
       "      </ol>    </li>\n",
       "    <li>ProductName\n",
       "      <ol>\n",
       "      <li>ProductName</li>\n",
       "      </ol>    </li>\n",
       "    <li>Supplier\n",
       "      <ol>\n",
       "      <li>Supplier</li>\n",
       "      </ol>    </li>\n",
       "    </ul>\n",
       "  </li>\n",
       "  <li>Shippers\n",
       "    <ul>\n",
       "    <li>Contact\n",
       "      <ol>\n",
       "      <li>Contact</li>\n",
       "      </ol>    </li>\n",
       "    </ul>\n",
       "  </li>\n",
       "  </ul>\n",
       "</li>\n",
       "</ul>\n"
      ],
      "text/plain": [
       "{('Products', 'Supplier'): <atoti.hierarchy.Hierarchy object at 0x1421243a0>, ('Orders', 'OrderDate'): <atoti.hierarchy.Hierarchy object at 0x142125990>, ('Orders', 'ProductId'): <atoti.hierarchy.Hierarchy object at 0x1421240a0>, ('Products', 'ProductName'): <atoti.hierarchy.Hierarchy object at 0x142153370>, ('Customers', 'Phone'): <atoti.hierarchy.Hierarchy object at 0x142150400>, ('Customers', 'Address'): <atoti.hierarchy.Hierarchy object at 0x142152f50>, ('Customers', 'Region'): <atoti.hierarchy.Hierarchy object at 0x142152350>, ('Shippers', 'Contact'): <atoti.hierarchy.Hierarchy object at 0x142152b30>, ('Orders', 'EmployeeId'): <atoti.hierarchy.Hierarchy object at 0x142150a60>, ('Customers', 'PostCode'): <atoti.hierarchy.Hierarchy object at 0x142150640>, ('Employees', 'EmployeeCountry'): <atoti.hierarchy.Hierarchy object at 0x1421527d0>, ('Products', 'ProductCategory'): <atoti.hierarchy.Hierarchy object at 0x142151f60>, ('Customers', 'PostalCode'): <atoti.hierarchy.Hierarchy object at 0x1421526e0>, ('Customers', 'Subregion'): <atoti.hierarchy.Hierarchy object at 0x142151c00>, ('Orders', 'CustomerId'): <atoti.hierarchy.Hierarchy object at 0x142153670>, ('Employees', 'EmployeeCity'): <atoti.hierarchy.Hierarchy object at 0x142151b40>, ('Customers', 'Country'): <atoti.hierarchy.Hierarchy object at 0x142151630>, ('Orders', 'OrderId'): <atoti.hierarchy.Hierarchy object at 0x142153850>, ('Customers', 'CompanyName'): <atoti.hierarchy.Hierarchy object at 0x142153940>, ('Orders', 'ShipperName'): <atoti.hierarchy.Hierarchy object at 0x142153a30>, ('Employees', 'EmployeeName'): <atoti.hierarchy.Hierarchy object at 0x142153b20>, ('Employees', 'EmployeeZone'): <atoti.hierarchy.Hierarchy object at 0x142153c10>, ('Customers', 'City'): <atoti.hierarchy.Hierarchy object at 0x142153d00>}"
      ]
     },
     "execution_count": 24,
     "metadata": {
      "application/json": {
       "expanded": true,
       "root": "Dimensions"
      }
     },
     "output_type": "execute_result"
    }
   ],
   "source": [
    "h"
   ]
  },
  {
   "cell_type": "markdown",
   "id": "2c42d5a7-9842-4219-99d2-391d13287dd0",
   "metadata": {},
   "source": [
    "### Advanced Implementations"
   ]
  },
  {
   "cell_type": "markdown",
   "id": "89557145-6b44-45ab-b4dc-f80efd6bc3cb",
   "metadata": {},
   "source": [
    "#### `Hierarchy.levels`\n",
    "\n"
   ]
  },
  {
   "cell_type": "code",
   "execution_count": 25,
   "id": "452f41c9-7fe4-4b0b-832c-9521d8f4ea54",
   "metadata": {},
   "outputs": [
    {
     "data": {
      "application/json": {
       "Address (Customers/Address/Address)": {
        "dimension": "Customers",
        "hierarchy": "Address",
        "order": "NaturalOrder",
        "type": "String"
       },
       "City (Customers/City/City)": {
        "dimension": "Customers",
        "hierarchy": "City",
        "order": "NaturalOrder",
        "type": "String"
       },
       "CompanyName (Customers/CompanyName/CompanyName)": {
        "dimension": "Customers",
        "hierarchy": "CompanyName",
        "order": "NaturalOrder",
        "type": "String"
       },
       "Contact (Shippers/Contact/Contact)": {
        "dimension": "Shippers",
        "hierarchy": "Contact",
        "order": "NaturalOrder",
        "type": "String"
       },
       "Country (Customers/Country/Country)": {
        "dimension": "Customers",
        "hierarchy": "Country",
        "order": "NaturalOrder",
        "type": "String"
       },
       "CustomerId (Orders/CustomerId/CustomerId)": {
        "dimension": "Orders",
        "hierarchy": "CustomerId",
        "order": "NaturalOrder",
        "type": "String"
       },
       "EmployeeCity (Employees/EmployeeCity/EmployeeCity)": {
        "dimension": "Employees",
        "hierarchy": "EmployeeCity",
        "order": "NaturalOrder",
        "type": "String"
       },
       "EmployeeCountry (Employees/EmployeeCountry/EmployeeCountry)": {
        "dimension": "Employees",
        "hierarchy": "EmployeeCountry",
        "order": "NaturalOrder",
        "type": "String"
       },
       "EmployeeId (Orders/EmployeeId/EmployeeId)": {
        "dimension": "Orders",
        "hierarchy": "EmployeeId",
        "order": "NaturalOrder",
        "type": "String"
       },
       "EmployeeName (Employees/EmployeeName/EmployeeName)": {
        "dimension": "Employees",
        "hierarchy": "EmployeeName",
        "order": "NaturalOrder",
        "type": "String"
       },
       "EmployeeZone (Employees/EmployeeZone/EmployeeZone)": {
        "dimension": "Employees",
        "hierarchy": "EmployeeZone",
        "order": "NaturalOrder",
        "type": "String"
       },
       "OrderDate (Orders/OrderDate/OrderDate)": {
        "dimension": "Orders",
        "hierarchy": "OrderDate",
        "order": "NaturalOrder",
        "type": "String"
       },
       "OrderId (Orders/OrderId/OrderId)": {
        "dimension": "Orders",
        "hierarchy": "OrderId",
        "order": "NaturalOrder",
        "type": "String"
       },
       "Phone (Customers/Phone/Phone)": {
        "dimension": "Customers",
        "hierarchy": "Phone",
        "order": "NaturalOrder",
        "type": "String"
       },
       "PostCode (Customers/PostCode/PostCode)": {
        "dimension": "Customers",
        "hierarchy": "PostCode",
        "order": "NaturalOrder",
        "type": "String"
       },
       "PostalCode (Customers/PostalCode/PostalCode)": {
        "dimension": "Customers",
        "hierarchy": "PostalCode",
        "order": "NaturalOrder",
        "type": "String"
       },
       "ProductCategory (Products/ProductCategory/ProductCategory)": {
        "dimension": "Products",
        "hierarchy": "ProductCategory",
        "order": "NaturalOrder",
        "type": "String"
       },
       "ProductId (Orders/ProductId/ProductId)": {
        "dimension": "Orders",
        "hierarchy": "ProductId",
        "order": "NaturalOrder",
        "type": "String"
       },
       "ProductName (Products/ProductName/ProductName)": {
        "dimension": "Products",
        "hierarchy": "ProductName",
        "order": "NaturalOrder",
        "type": "String"
       },
       "Region (Customers/Region/Region)": {
        "dimension": "Customers",
        "hierarchy": "Region",
        "order": "NaturalOrder",
        "type": "String"
       },
       "ShipperName (Orders/ShipperName/ShipperName)": {
        "dimension": "Orders",
        "hierarchy": "ShipperName",
        "order": "NaturalOrder",
        "type": "String"
       },
       "Subregion (Customers/Subregion/Subregion)": {
        "dimension": "Customers",
        "hierarchy": "Subregion",
        "order": "NaturalOrder",
        "type": "String"
       },
       "Supplier (Products/Supplier/Supplier)": {
        "dimension": "Products",
        "hierarchy": "Supplier",
        "order": "NaturalOrder",
        "type": "String"
       }
      },
      "text/html": [
       "<ul>\n",
       "<li>Levels\n",
       "  <ul>\n",
       "  <li>Address (Customers/Address/Address)\n",
       "    <ul>\n",
       "    <li>dimension: Customers</li>\n",
       "    <li>hierarchy: Address</li>\n",
       "    <li>type: String</li>\n",
       "    <li>order: NaturalOrder</li>\n",
       "    </ul>\n",
       "  </li>\n",
       "  <li>City (Customers/City/City)\n",
       "    <ul>\n",
       "    <li>dimension: Customers</li>\n",
       "    <li>hierarchy: City</li>\n",
       "    <li>type: String</li>\n",
       "    <li>order: NaturalOrder</li>\n",
       "    </ul>\n",
       "  </li>\n",
       "  <li>CompanyName (Customers/CompanyName/CompanyName)\n",
       "    <ul>\n",
       "    <li>dimension: Customers</li>\n",
       "    <li>hierarchy: CompanyName</li>\n",
       "    <li>type: String</li>\n",
       "    <li>order: NaturalOrder</li>\n",
       "    </ul>\n",
       "  </li>\n",
       "  <li>Contact (Shippers/Contact/Contact)\n",
       "    <ul>\n",
       "    <li>dimension: Shippers</li>\n",
       "    <li>hierarchy: Contact</li>\n",
       "    <li>type: String</li>\n",
       "    <li>order: NaturalOrder</li>\n",
       "    </ul>\n",
       "  </li>\n",
       "  <li>Country (Customers/Country/Country)\n",
       "    <ul>\n",
       "    <li>dimension: Customers</li>\n",
       "    <li>hierarchy: Country</li>\n",
       "    <li>type: String</li>\n",
       "    <li>order: NaturalOrder</li>\n",
       "    </ul>\n",
       "  </li>\n",
       "  <li>CustomerId (Orders/CustomerId/CustomerId)\n",
       "    <ul>\n",
       "    <li>dimension: Orders</li>\n",
       "    <li>hierarchy: CustomerId</li>\n",
       "    <li>type: String</li>\n",
       "    <li>order: NaturalOrder</li>\n",
       "    </ul>\n",
       "  </li>\n",
       "  <li>EmployeeCity (Employees/EmployeeCity/EmployeeCity)\n",
       "    <ul>\n",
       "    <li>dimension: Employees</li>\n",
       "    <li>hierarchy: EmployeeCity</li>\n",
       "    <li>type: String</li>\n",
       "    <li>order: NaturalOrder</li>\n",
       "    </ul>\n",
       "  </li>\n",
       "  <li>EmployeeCountry (Employees/EmployeeCountry/EmployeeCountry)\n",
       "    <ul>\n",
       "    <li>dimension: Employees</li>\n",
       "    <li>hierarchy: EmployeeCountry</li>\n",
       "    <li>type: String</li>\n",
       "    <li>order: NaturalOrder</li>\n",
       "    </ul>\n",
       "  </li>\n",
       "  <li>EmployeeId (Orders/EmployeeId/EmployeeId)\n",
       "    <ul>\n",
       "    <li>dimension: Orders</li>\n",
       "    <li>hierarchy: EmployeeId</li>\n",
       "    <li>type: String</li>\n",
       "    <li>order: NaturalOrder</li>\n",
       "    </ul>\n",
       "  </li>\n",
       "  <li>EmployeeName (Employees/EmployeeName/EmployeeName)\n",
       "    <ul>\n",
       "    <li>dimension: Employees</li>\n",
       "    <li>hierarchy: EmployeeName</li>\n",
       "    <li>type: String</li>\n",
       "    <li>order: NaturalOrder</li>\n",
       "    </ul>\n",
       "  </li>\n",
       "  <li>EmployeeZone (Employees/EmployeeZone/EmployeeZone)\n",
       "    <ul>\n",
       "    <li>dimension: Employees</li>\n",
       "    <li>hierarchy: EmployeeZone</li>\n",
       "    <li>type: String</li>\n",
       "    <li>order: NaturalOrder</li>\n",
       "    </ul>\n",
       "  </li>\n",
       "  <li>OrderDate (Orders/OrderDate/OrderDate)\n",
       "    <ul>\n",
       "    <li>dimension: Orders</li>\n",
       "    <li>hierarchy: OrderDate</li>\n",
       "    <li>type: String</li>\n",
       "    <li>order: NaturalOrder</li>\n",
       "    </ul>\n",
       "  </li>\n",
       "  <li>OrderId (Orders/OrderId/OrderId)\n",
       "    <ul>\n",
       "    <li>dimension: Orders</li>\n",
       "    <li>hierarchy: OrderId</li>\n",
       "    <li>type: String</li>\n",
       "    <li>order: NaturalOrder</li>\n",
       "    </ul>\n",
       "  </li>\n",
       "  <li>Phone (Customers/Phone/Phone)\n",
       "    <ul>\n",
       "    <li>dimension: Customers</li>\n",
       "    <li>hierarchy: Phone</li>\n",
       "    <li>type: String</li>\n",
       "    <li>order: NaturalOrder</li>\n",
       "    </ul>\n",
       "  </li>\n",
       "  <li>PostCode (Customers/PostCode/PostCode)\n",
       "    <ul>\n",
       "    <li>dimension: Customers</li>\n",
       "    <li>hierarchy: PostCode</li>\n",
       "    <li>type: String</li>\n",
       "    <li>order: NaturalOrder</li>\n",
       "    </ul>\n",
       "  </li>\n",
       "  <li>PostalCode (Customers/PostalCode/PostalCode)\n",
       "    <ul>\n",
       "    <li>dimension: Customers</li>\n",
       "    <li>hierarchy: PostalCode</li>\n",
       "    <li>type: String</li>\n",
       "    <li>order: NaturalOrder</li>\n",
       "    </ul>\n",
       "  </li>\n",
       "  <li>ProductCategory (Products/ProductCategory/ProductCategory)\n",
       "    <ul>\n",
       "    <li>dimension: Products</li>\n",
       "    <li>hierarchy: ProductCategory</li>\n",
       "    <li>type: String</li>\n",
       "    <li>order: NaturalOrder</li>\n",
       "    </ul>\n",
       "  </li>\n",
       "  <li>ProductId (Orders/ProductId/ProductId)\n",
       "    <ul>\n",
       "    <li>dimension: Orders</li>\n",
       "    <li>hierarchy: ProductId</li>\n",
       "    <li>type: String</li>\n",
       "    <li>order: NaturalOrder</li>\n",
       "    </ul>\n",
       "  </li>\n",
       "  <li>ProductName (Products/ProductName/ProductName)\n",
       "    <ul>\n",
       "    <li>dimension: Products</li>\n",
       "    <li>hierarchy: ProductName</li>\n",
       "    <li>type: String</li>\n",
       "    <li>order: NaturalOrder</li>\n",
       "    </ul>\n",
       "  </li>\n",
       "  <li>Region (Customers/Region/Region)\n",
       "    <ul>\n",
       "    <li>dimension: Customers</li>\n",
       "    <li>hierarchy: Region</li>\n",
       "    <li>type: String</li>\n",
       "    <li>order: NaturalOrder</li>\n",
       "    </ul>\n",
       "  </li>\n",
       "  <li>ShipperName (Orders/ShipperName/ShipperName)\n",
       "    <ul>\n",
       "    <li>dimension: Orders</li>\n",
       "    <li>hierarchy: ShipperName</li>\n",
       "    <li>type: String</li>\n",
       "    <li>order: NaturalOrder</li>\n",
       "    </ul>\n",
       "  </li>\n",
       "  <li>Subregion (Customers/Subregion/Subregion)\n",
       "    <ul>\n",
       "    <li>dimension: Customers</li>\n",
       "    <li>hierarchy: Subregion</li>\n",
       "    <li>type: String</li>\n",
       "    <li>order: NaturalOrder</li>\n",
       "    </ul>\n",
       "  </li>\n",
       "  <li>Supplier (Products/Supplier/Supplier)\n",
       "    <ul>\n",
       "    <li>dimension: Products</li>\n",
       "    <li>hierarchy: Supplier</li>\n",
       "    <li>type: String</li>\n",
       "    <li>order: NaturalOrder</li>\n",
       "    </ul>\n",
       "  </li>\n",
       "  </ul>\n",
       "</li>\n",
       "</ul>\n"
      ],
      "text/plain": [
       "<atoti.levels.Levels at 0x1420e0cd0>"
      ]
     },
     "execution_count": 25,
     "metadata": {
      "application/json": {
       "expanded": true,
       "root": "Levels"
      }
     },
     "output_type": "execute_result"
    }
   ],
   "source": [
    "l"
   ]
  },
  {
   "cell_type": "code",
   "execution_count": 26,
   "id": "300a379b-9bfb-44a5-b126-4d60018ae5cc",
   "metadata": {},
   "outputs": [
    {
     "name": "stdout",
     "output_type": "stream",
     "text": [
      "Address\n"
     ]
    }
   ],
   "source": [
    "address_levels = h['Address'].levels\n",
    "\n",
    "for key in address_levels.keys():\n",
    "    print(key)"
   ]
  },
  {
   "cell_type": "code",
   "execution_count": 27,
   "id": "9673bf93-00e0-4e7a-bdf2-7a859d409657",
   "metadata": {
    "scrolled": true
   },
   "outputs": [
    {
     "data": {
      "application/json": {
       "dimension": "Customers",
       "hierarchy": "Address",
       "order": "NaturalOrder",
       "type": "String"
      },
      "text/html": [
       "<ul>\n",
       "<li>Address\n",
       "  <ul>\n",
       "  <li>dimension: Customers</li>\n",
       "  <li>hierarchy: Address</li>\n",
       "  <li>type: String</li>\n",
       "  <li>order: NaturalOrder</li>\n",
       "  </ul>\n",
       "</li>\n",
       "</ul>\n"
      ],
      "text/plain": [
       "<atoti.level.Level at 0x142125ab0>"
      ]
     },
     "execution_count": 27,
     "metadata": {
      "application/json": {
       "expanded": true,
       "root": "Address"
      }
     },
     "output_type": "execute_result"
    }
   ],
   "source": [
    "address_levels['Address']"
   ]
  },
  {
   "cell_type": "markdown",
   "id": "2e71b1d4-fc9a-45ab-8c7b-0f9cfa32345f",
   "metadata": {},
   "source": [
    "#### `Hierarchy.isin()`"
   ]
  },
  {
   "cell_type": "markdown",
   "id": "c71f02bb-2a7a-4dfb-8c42-47e0b157b9c2",
   "metadata": {},
   "source": [
    "<div style=\"text-align: center;\" ><a href=\"https://www.atoti.io/?utm_source=gallery&utm_content=hierarchies\" target=\"_blank\" rel=\"noopener noreferrer\"><img src=\"https://data.atoti.io/notebooks/banners/Your-turn-to-try-Atoti.jpg\" alt=\"Try Atoti\"></a></div>"
   ]
  }
 ],
 "metadata": {
  "kernelspec": {
   "display_name": "Python 3 (ipykernel)",
   "language": "python",
   "name": "python3"
  },
  "language_info": {
   "codemirror_mode": {
    "name": "ipython",
    "version": 3
   },
   "file_extension": ".py",
   "mimetype": "text/x-python",
   "name": "python",
   "nbconvert_exporter": "python",
   "pygments_lexer": "ipython3",
   "version": "3.10.0"
  }
 },
 "nbformat": 4,
 "nbformat_minor": 5
}
